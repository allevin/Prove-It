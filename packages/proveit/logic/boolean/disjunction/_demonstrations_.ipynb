{
 "cells": [
  {
   "cell_type": "markdown",
   "metadata": {
    "collapsed": true
   },
   "source": [
    "Demonstrations for context <a class=\"ProveItLink\" href=\"_context_.ipynb\">proveit.logic.boolean.disjunction</a>\n",
    "========"
   ]
  },
  {
   "cell_type": "code",
   "execution_count": 1,
   "metadata": {},
   "outputs": [],
   "source": [
    "import proveit\n",
    "from proveit._common_ import A, B, C, D, E,F,G,H,I,J,K,L,AA, m\n",
    "from proveit.number import num, Naturals\n",
    "from proveit.logic import Booleans, inBool, InSet, Or, And, TRUE, FALSE, Not, Implies, Equals\n",
    "from proveit.logic.boolean.disjunction._theorems_ import closure, eachInBool\n",
    "%begin demonstrations"
   ]
  },
  {
   "cell_type": "code",
   "execution_count": 2,
   "metadata": {},
   "outputs": [
    {
     "data": {
      "text/html": [
       "<span style=\"font-size:20px;\"> &#x22A2;&nbsp;<a class=\"ProveItLink\" href=\"__pv_it/2cb505713778067a1b94f558521c476c9ef7d74f0/expr.ipynb\"><img src=\"__pv_it/2cb505713778067a1b94f558521c476c9ef7d74f0/expr.png\" style=\"display:inline;vertical-align:middle;\" /></a></span>"
      ],
      "text/plain": [
       "|- forall_{m in Naturals} [forall_{A in BOOLEANS^{m}} ((A_1 or  ...  or A_m) in BOOLEANS)]"
      ]
     },
     "execution_count": 2,
     "metadata": {},
     "output_type": "execute_result"
    }
   ],
   "source": [
    "closure"
   ]
  },
  {
   "cell_type": "code",
   "execution_count": 3,
   "metadata": {},
   "outputs": [
    {
     "data": {
      "text/html": [
       "<strong id=\"closure_spec\">closure_spec:</strong> <span style=\"font-size:20px;\"><a class=\"ProveItLink\" href=\"__pv_it/d7fa17de759a2f1be899d7b171ce7193ca5d80370/expr.ipynb\"><img src=\"__pv_it/d7fa17de759a2f1be899d7b171ce7193ca5d80370/expr.png\" style=\"display:inline;vertical-align:middle;\" /></a> &#x22A2;&nbsp;<a class=\"ProveItLink\" href=\"__pv_it/dbe7682d6d3888b461a77d4bc61b8a535ce429b20/expr.ipynb\"><img src=\"__pv_it/dbe7682d6d3888b461a77d4bc61b8a535ce429b20/expr.png\" style=\"display:inline;vertical-align:middle;\" /></a></span><br>"
      ],
      "text/plain": [
       "closure_spec: {m in Naturals} |- forall_{A in BOOLEANS^{m}} ((A_1 or  ...  or A_m) in BOOLEANS)"
      ]
     },
     "execution_count": 3,
     "metadata": {},
     "output_type": "execute_result"
    }
   ],
   "source": [
    "closure_spec = closure.specialize({m:m}, assumptions=[InSet(m, Naturals)])"
   ]
  },
  {
   "cell_type": "code",
   "execution_count": 4,
   "metadata": {},
   "outputs": [
    {
     "data": {
      "text/html": [
       "<span style=\"font-size:20px;\"> &#x22A2;&nbsp;<a class=\"ProveItLink\" href=\"__pv_it/5f25c3c56b79780c4849cda566a6da41e1a304a70/expr.ipynb\"><img src=\"__pv_it/5f25c3c56b79780c4849cda566a6da41e1a304a70/expr.png\" style=\"display:inline;vertical-align:middle;\" /></a></span>"
      ],
      "text/plain": [
       "|- forall_{C in BOOLEANS^{4}} ((C_1 or  ...  or C_4) in BOOLEANS)"
      ]
     },
     "execution_count": 4,
     "metadata": {},
     "output_type": "execute_result"
    }
   ],
   "source": [
    "closure.specialize({m:num(4)}, relabelMap={AA:C}, assumptions=[C])"
   ]
  },
  {
   "cell_type": "code",
   "execution_count": 5,
   "metadata": {},
   "outputs": [
    {
     "data": {
      "text/html": [
       "<strong id=\"demo1\">demo1:</strong> <span style=\"font-size:20px;\"><a class=\"ProveItLink\" href=\"__pv_it/f28f9b812246a6c4975e6f67667fe62b1fba502a0/expr.ipynb\"><img src=\"__pv_it/f28f9b812246a6c4975e6f67667fe62b1fba502a0/expr.png\" style=\"display:inline;vertical-align:middle;\" /></a> &#x22A2;&nbsp;<a class=\"ProveItLink\" href=\"__pv_it/542994d0ed684b4561089fa3677eb846adb2d58d0/expr.ipynb\"><img src=\"__pv_it/542994d0ed684b4561089fa3677eb846adb2d58d0/expr.png\" style=\"display:inline;vertical-align:middle;\" /></a></span><br>"
      ],
      "text/plain": [
       "demo1: {A in BOOLEANS , B in BOOLEANS , C in BOOLEANS , D in BOOLEANS} |- (A or B or C or D) in BOOLEANS"
      ]
     },
     "execution_count": 5,
     "metadata": {},
     "output_type": "execute_result"
    }
   ],
   "source": [
    "demo1 = closure.specialize({m:num(4), AA:[A, B, C, D]}, assumptions = [inBool(A), inBool(B), inBool(C), inBool(D)])"
   ]
  },
  {
   "cell_type": "code",
   "execution_count": 6,
   "metadata": {},
   "outputs": [
    {
     "data": {
      "text/html": [
       "<table><tr><th>&nbsp;</th><th>step type</th><th>requirements</th><th>statement</th></tr>\n",
       "<tr><td>0</td><td>specialization</td><td>1, 2, 3, 4, 5, 6</td><td><span style=\"font-size:20px;\"><a class=\"ProveItLink\" href=\"__pv_it/f28f9b812246a6c4975e6f67667fe62b1fba502a0/expr.ipynb\"><img src=\"__pv_it/f28f9b812246a6c4975e6f67667fe62b1fba502a0/expr.png\" style=\"display:inline;vertical-align:middle;\" /></a> &#x22A2;&nbsp;<a class=\"ProveItLink\" href=\"__pv_it/542994d0ed684b4561089fa3677eb846adb2d58d0/expr.ipynb\"><img src=\"__pv_it/542994d0ed684b4561089fa3677eb846adb2d58d0/expr.png\" style=\"display:inline;vertical-align:middle;\" /></a></span></td></tr>\n",
       "<tr><td>&nbsp;</td><td colspan=4 style=\"text-align:left\"><span style=\"font-size:20px;\"><a class=\"ProveItLink\" href=\"../../../__pv_it/78af03acba5349fd70398a32ce59bae1da52f0870/expr.ipynb\"><img src=\"../../../__pv_it/78af03acba5349fd70398a32ce59bae1da52f0870/expr.png\" style=\"display:inline;vertical-align:middle;\" /></a> : <a class=\"ProveItLink\" href=\"../../../number/numeral/__pv_it/23412ce59ea7e77353d2f9225e02248e73651ca00/expr.ipynb\"><img src=\"../../../number/numeral/__pv_it/23412ce59ea7e77353d2f9225e02248e73651ca00/expr.png\" style=\"display:inline;vertical-align:middle;\" /></a>, <a class=\"ProveItLink\" href=\"../../../__pv_it/eb438fefc4bd0ac977777d6dfd3e8a72dfbedbd50/expr.ipynb\"><img src=\"../../../__pv_it/eb438fefc4bd0ac977777d6dfd3e8a72dfbedbd50/expr.png\" style=\"display:inline;vertical-align:middle;\" /></a> : <a class=\"ProveItLink\" href=\"__pv_it/ba51a0fc910408dc1211c29b03a29f7cec842b550/expr.ipynb\"><img src=\"__pv_it/ba51a0fc910408dc1211c29b03a29f7cec842b550/expr.png\" style=\"display:inline;vertical-align:middle;\" /></a></span></td></tr><tr><td>1</td><td>theorem</td><td></td><td><span style=\"font-size:20px;\"> &#x22A2;&nbsp;<a class=\"ProveItLink\" href=\"__pv_it/2cb505713778067a1b94f558521c476c9ef7d74f0/expr.ipynb\"><img src=\"__pv_it/2cb505713778067a1b94f558521c476c9ef7d74f0/expr.png\" style=\"display:inline;vertical-align:middle;\" /></a></span></td></tr>\n",
       "<tr><td>&nbsp;</td><td colspan=4 style-\"text-align:left\"><a class=\"ProveItLink\" href=\"_proofs_/closure.ipynb\">proveit.logic.boolean.disjunction.closure</a></td></tr><tr><td>2</td><td>theorem</td><td></td><td><span style=\"font-size:20px;\"> &#x22A2;&nbsp;<a class=\"ProveItLink\" href=\"../../../number/numeral/deci/__pv_it/3fc93db3b3fd1b15204240d9de18a48656bfb08c0/expr.ipynb\"><img src=\"../../../number/numeral/deci/__pv_it/3fc93db3b3fd1b15204240d9de18a48656bfb08c0/expr.png\" style=\"display:inline;vertical-align:middle;\" /></a></span></td></tr>\n",
       "<tr><td>&nbsp;</td><td colspan=4 style-\"text-align:left\"><a class=\"ProveItLink\" href=\"../../../number/numeral/deci/_proofs_/nat4.ipynb\">proveit.number.numeral.deci.nat4</a></td></tr><tr><td>3</td><td>specialization</td><td>7, 8, 9, 10, 11</td><td><span style=\"font-size:20px;\"><a class=\"ProveItLink\" href=\"__pv_it/f28f9b812246a6c4975e6f67667fe62b1fba502a0/expr.ipynb\"><img src=\"__pv_it/f28f9b812246a6c4975e6f67667fe62b1fba502a0/expr.png\" style=\"display:inline;vertical-align:middle;\" /></a> &#x22A2;&nbsp;<a class=\"ProveItLink\" href=\"__pv_it/c7afd1ead8211492267b3cefac34659a98e80ce80/expr.ipynb\"><img src=\"__pv_it/c7afd1ead8211492267b3cefac34659a98e80ce80/expr.png\" style=\"display:inline;vertical-align:middle;\" /></a></span></td></tr>\n",
       "<tr><td>&nbsp;</td><td colspan=4 style=\"text-align:left\"><span style=\"font-size:20px;\"><a class=\"ProveItLink\" href=\"../../../__pv_it/abeee18594afe51bfb1be95d9591fbba24ac53f30/expr.ipynb\"><img src=\"../../../__pv_it/abeee18594afe51bfb1be95d9591fbba24ac53f30/expr.png\" style=\"display:inline;vertical-align:middle;\" /></a> : <a class=\"ProveItLink\" href=\"../__pv_it/46271c8230be96415d662709611f4ed2279d702b0/expr.ipynb\"><img src=\"../__pv_it/46271c8230be96415d662709611f4ed2279d702b0/expr.png\" style=\"display:inline;vertical-align:middle;\" /></a>, <a class=\"ProveItLink\" href=\"../../../__pv_it/07527342713064c87612d00d8557c53d53d5324a0/expr.ipynb\"><img src=\"../../../__pv_it/07527342713064c87612d00d8557c53d53d5324a0/expr.png\" style=\"display:inline;vertical-align:middle;\" /></a> : <a class=\"ProveItLink\" href=\"../../../__pv_it/2cbe72a7ad6f655694dd697106680215e8489b600/expr.ipynb\"><img src=\"../../../__pv_it/2cbe72a7ad6f655694dd697106680215e8489b600/expr.png\" style=\"display:inline;vertical-align:middle;\" /></a>, <a class=\"ProveItLink\" href=\"../../../__pv_it/6840a4fa6c106149dc16a131294d0c5e44f1b0480/expr.ipynb\"><img src=\"../../../__pv_it/6840a4fa6c106149dc16a131294d0c5e44f1b0480/expr.png\" style=\"display:inline;vertical-align:middle;\" /></a> : <a class=\"ProveItLink\" href=\"../../../__pv_it/077b2ff79244fb4582cbe22c6e3356fa92a52f2f0/expr.ipynb\"><img src=\"../../../__pv_it/077b2ff79244fb4582cbe22c6e3356fa92a52f2f0/expr.png\" style=\"display:inline;vertical-align:middle;\" /></a>, <a class=\"ProveItLink\" href=\"../../../__pv_it/cbdfda466482236edba0ce44ac7ef39cda0af7a40/expr.ipynb\"><img src=\"../../../__pv_it/cbdfda466482236edba0ce44ac7ef39cda0af7a40/expr.png\" style=\"display:inline;vertical-align:middle;\" /></a> : <a class=\"ProveItLink\" href=\"../../../__pv_it/985a1bdf1540838275dec15f4ad6de261cca93ce0/expr.ipynb\"><img src=\"../../../__pv_it/985a1bdf1540838275dec15f4ad6de261cca93ce0/expr.png\" style=\"display:inline;vertical-align:middle;\" /></a>, <a class=\"ProveItLink\" href=\"../../../__pv_it/3a5de44ed6135dbbdbbeec6704c741e238f127300/expr.ipynb\"><img src=\"../../../__pv_it/3a5de44ed6135dbbdbbeec6704c741e238f127300/expr.png\" style=\"display:inline;vertical-align:middle;\" /></a> : <a class=\"ProveItLink\" href=\"../../../__pv_it/185e6d30f167ee2ee5ef3321098dc98e0d77bc590/expr.ipynb\"><img src=\"../../../__pv_it/185e6d30f167ee2ee5ef3321098dc98e0d77bc590/expr.png\" style=\"display:inline;vertical-align:middle;\" /></a></span></td></tr><tr><td>4</td><td>theorem</td><td></td><td><span style=\"font-size:20px;\"> &#x22A2;&nbsp;<a class=\"ProveItLink\" href=\"../../../number/numeral/deci/__pv_it/5b6ff6a2fca03ad41d2a3084e44fbb28428ffb6a0/expr.ipynb\"><img src=\"../../../number/numeral/deci/__pv_it/5b6ff6a2fca03ad41d2a3084e44fbb28428ffb6a0/expr.png\" style=\"display:inline;vertical-align:middle;\" /></a></span></td></tr>\n",
       "<tr><td>&nbsp;</td><td colspan=4 style-\"text-align:left\"><a class=\"ProveItLink\" href=\"../../../number/numeral/deci/_proofs_/add_1_1.ipynb\">proveit.number.numeral.deci.add_1_1</a></td></tr><tr><td>5</td><td>theorem</td><td></td><td><span style=\"font-size:20px;\"> &#x22A2;&nbsp;<a class=\"ProveItLink\" href=\"../../../number/numeral/deci/__pv_it/349c663074c343ced32577f83aa9971191d0752c0/expr.ipynb\"><img src=\"../../../number/numeral/deci/__pv_it/349c663074c343ced32577f83aa9971191d0752c0/expr.png\" style=\"display:inline;vertical-align:middle;\" /></a></span></td></tr>\n",
       "<tr><td>&nbsp;</td><td colspan=4 style-\"text-align:left\"><a class=\"ProveItLink\" href=\"../../../number/numeral/deci/_proofs_/add_2_1.ipynb\">proveit.number.numeral.deci.add_2_1</a></td></tr><tr><td>6</td><td>theorem</td><td></td><td><span style=\"font-size:20px;\"> &#x22A2;&nbsp;<a class=\"ProveItLink\" href=\"../../../number/numeral/deci/__pv_it/9b6fcf185675beb8420ce00c17510693f9522a6a0/expr.ipynb\"><img src=\"../../../number/numeral/deci/__pv_it/9b6fcf185675beb8420ce00c17510693f9522a6a0/expr.png\" style=\"display:inline;vertical-align:middle;\" /></a></span></td></tr>\n",
       "<tr><td>&nbsp;</td><td colspan=4 style-\"text-align:left\"><a class=\"ProveItLink\" href=\"../../../number/numeral/deci/_proofs_/add_3_1.ipynb\">proveit.number.numeral.deci.add_3_1</a></td></tr><tr><td>7</td><td>theorem</td><td></td><td><span style=\"font-size:20px;\"> &#x22A2;&nbsp;<a class=\"ProveItLink\" href=\"../../set_theory/membership/__pv_it/f8871096ab31a54eeeb7d5201addc96bdbcd44530/expr.ipynb\"><img src=\"../../set_theory/membership/__pv_it/f8871096ab31a54eeeb7d5201addc96bdbcd44530/expr.png\" style=\"display:inline;vertical-align:middle;\" /></a></span></td></tr>\n",
       "<tr><td>&nbsp;</td><td colspan=4 style-\"text-align:left\"><a class=\"ProveItLink\" href=\"../../set_theory/membership/_proofs_/exp_set_4.ipynb\">proveit.logic.set_theory.membership.exp_set_4</a></td></tr><tr><td>8</td><td>assumption</td><td></td><td><span style=\"font-size:20px;\"><a class=\"ProveItLink\" href=\"__pv_it/017ca8cfa034181c90ba15dd10869f0f4e516d6a0/expr.ipynb\"><img src=\"__pv_it/017ca8cfa034181c90ba15dd10869f0f4e516d6a0/expr.png\" style=\"display:inline;vertical-align:middle;\" /></a> &#x22A2;&nbsp;<a class=\"ProveItLink\" href=\"__pv_it/03a5c2b5cc6fc2c3cd686b4bcf84379b893abe210/expr.ipynb\"><img src=\"__pv_it/03a5c2b5cc6fc2c3cd686b4bcf84379b893abe210/expr.png\" style=\"display:inline;vertical-align:middle;\" /></a></span></td></tr>\n",
       "<tr><td>9</td><td>assumption</td><td></td><td><span style=\"font-size:20px;\"><a class=\"ProveItLink\" href=\"__pv_it/2c2e947402f53b9e11cd7769e1b5b3378595750e0/expr.ipynb\"><img src=\"__pv_it/2c2e947402f53b9e11cd7769e1b5b3378595750e0/expr.png\" style=\"display:inline;vertical-align:middle;\" /></a> &#x22A2;&nbsp;<a class=\"ProveItLink\" href=\"__pv_it/fe5c91c77f0659f9ea07a2e3257797875d6868370/expr.ipynb\"><img src=\"__pv_it/fe5c91c77f0659f9ea07a2e3257797875d6868370/expr.png\" style=\"display:inline;vertical-align:middle;\" /></a></span></td></tr>\n",
       "<tr><td>10</td><td>assumption</td><td></td><td><span style=\"font-size:20px;\"><a class=\"ProveItLink\" href=\"__pv_it/549ecf82a9d4ac5ca0750c6c3aaf83e6e7209ca90/expr.ipynb\"><img src=\"__pv_it/549ecf82a9d4ac5ca0750c6c3aaf83e6e7209ca90/expr.png\" style=\"display:inline;vertical-align:middle;\" /></a> &#x22A2;&nbsp;<a class=\"ProveItLink\" href=\"__pv_it/2cec3c732aceb253233bb533d4e43cc3f34f4f660/expr.ipynb\"><img src=\"__pv_it/2cec3c732aceb253233bb533d4e43cc3f34f4f660/expr.png\" style=\"display:inline;vertical-align:middle;\" /></a></span></td></tr>\n",
       "<tr><td>11</td><td>assumption</td><td></td><td><span style=\"font-size:20px;\"><a class=\"ProveItLink\" href=\"__pv_it/aa3618fdfba9edc866f19a2dbc2f7cde292ff1c70/expr.ipynb\"><img src=\"__pv_it/aa3618fdfba9edc866f19a2dbc2f7cde292ff1c70/expr.png\" style=\"display:inline;vertical-align:middle;\" /></a> &#x22A2;&nbsp;<a class=\"ProveItLink\" href=\"__pv_it/3891b823dfb55f51d513cc7144556dc1bfd425b70/expr.ipynb\"><img src=\"__pv_it/3891b823dfb55f51d513cc7144556dc1bfd425b70/expr.png\" style=\"display:inline;vertical-align:middle;\" /></a></span></td></tr>\n",
       "</table>"
      ],
      "text/plain": [
       "\tstep type\trequirements\tstatement\n",
       "0\tspecialization\t1, 2, 3, 4, 5, 6\t{A in BOOLEANS , B in BOOLEANS , C in BOOLEANS , D in BOOLEANS} |- (A or B or C or D) in BOOLEANS\n",
       "\tm : 4, A : (A , B , C , D)\n",
       "1\ttheorem\t\t|- forall_{m in Naturals} [forall_{A in BOOLEANS^{m}} ((A_1 or  ...  or A_m) in BOOLEANS)]\n",
       "\tproveit.logic.boolean.disjunction.closure\n",
       "2\ttheorem\t\t|- 4 in Naturals\n",
       "\tproveit.number.numeral.deci.nat4\n",
       "3\tspecialization\t7, 8, 9, 10, 11\t{A in BOOLEANS , B in BOOLEANS , C in BOOLEANS , D in BOOLEANS} |- (A , B , C , D) in BOOLEANS^{4}\n",
       "\tS : BOOLEANS, a : A, b : B, c : C, d : D\n",
       "4\ttheorem\t\t|- (1 + 1) = 2\n",
       "\tproveit.number.numeral.deci.add_1_1\n",
       "5\ttheorem\t\t|- (2 + 1) = 3\n",
       "\tproveit.number.numeral.deci.add_2_1\n",
       "6\ttheorem\t\t|- (3 + 1) = 4\n",
       "\tproveit.number.numeral.deci.add_3_1\n",
       "7\ttheorem\t\t|- forall_{S} [forall_{a, b, c, d in S} ((a , b , c , d) in S^{4})]\n",
       "\tproveit.logic.set_theory.membership.exp_set_4\n",
       "8\tassumption\t\t{A in BOOLEANS} |- A in BOOLEANS\n",
       "9\tassumption\t\t{B in BOOLEANS} |- B in BOOLEANS\n",
       "10\tassumption\t\t{C in BOOLEANS} |- C in BOOLEANS\n",
       "11\tassumption\t\t{D in BOOLEANS} |- D in BOOLEANS"
      ]
     },
     "execution_count": 6,
     "metadata": {},
     "output_type": "execute_result"
    }
   ],
   "source": [
    "demo1.proof()"
   ]
  },
  {
   "cell_type": "code",
   "execution_count": 7,
   "metadata": {},
   "outputs": [
    {
     "data": {
      "text/html": [
       "<span style=\"font-size:20px;\"><a class=\"ProveItLink\" href=\"__pv_it/5d984fe3b716014c27a7b6bfc0104d77104379830/expr.ipynb\"><img src=\"__pv_it/5d984fe3b716014c27a7b6bfc0104d77104379830/expr.png\" style=\"display:inline;vertical-align:middle;\" /></a> &#x22A2;&nbsp;<a class=\"ProveItLink\" href=\"__pv_it/fe5c91c77f0659f9ea07a2e3257797875d6868370/expr.ipynb\"><img src=\"__pv_it/fe5c91c77f0659f9ea07a2e3257797875d6868370/expr.png\" style=\"display:inline;vertical-align:middle;\" /></a></span>"
      ],
      "text/plain": [
       "{(A or B or C or D) in BOOLEANS} |- B in BOOLEANS"
      ]
     },
     "execution_count": 7,
     "metadata": {},
     "output_type": "execute_result"
    }
   ],
   "source": [
    "demo1.element.deducePartInBool(1, assumptions=[demo1.expr, inBool(Or(A,B,C))])"
   ]
  },
  {
   "cell_type": "code",
   "execution_count": 8,
   "metadata": {},
   "outputs": [
    {
     "data": {
      "text/html": [
       "<span style=\"font-size:20px;\"> &#x22A2;&nbsp;<a class=\"ProveItLink\" href=\"__pv_it/cd30baf5ab2620c9803897366acf4394ab8c82330/expr.ipynb\"><img src=\"__pv_it/cd30baf5ab2620c9803897366acf4394ab8c82330/expr.png\" style=\"display:inline;vertical-align:middle;\" /></a></span>"
      ],
      "text/plain": [
       "|- forall_{m, n in Naturals} [forall_{A, B, C | (A_1 or  ...  or A_m or B or C_1 or  ...  or C_n) in BOOLEANS} (B in BOOLEANS)]"
      ]
     },
     "execution_count": 8,
     "metadata": {},
     "output_type": "execute_result"
    }
   ],
   "source": [
    "eachInBool"
   ]
  },
  {
   "cell_type": "code",
   "execution_count": null,
   "metadata": {},
   "outputs": [],
   "source": []
  },
  {
   "cell_type": "code",
   "execution_count": null,
   "metadata": {},
   "outputs": [],
   "source": []
  },
  {
   "cell_type": "code",
   "execution_count": 9,
   "metadata": {},
   "outputs": [
    {
     "data": {
      "text/html": [
       "<table><tr><th>&nbsp;</th><th>step type</th><th>requirements</th><th>statement</th></tr>\n",
       "<tr><td>0</td><td>theorem</td><td></td><td><span style=\"font-size:20px;\"> &#x22A2;&nbsp;<a class=\"ProveItLink\" href=\"__pv_it/e97c323cdd30da22b1b9b974ceb567d79030f5670/expr.ipynb\"><img src=\"__pv_it/e97c323cdd30da22b1b9b974ceb567d79030f5670/expr.png\" style=\"display:inline;vertical-align:middle;\" /></a></span></td></tr>\n",
       "<tr><td>&nbsp;</td><td colspan=4 style-\"text-align:left\"><a class=\"ProveItLink\" href=\"_proofs_/trueOrTrue.ipynb\">proveit.logic.boolean.disjunction.trueOrTrue</a></td></tr></table>"
      ],
      "text/plain": [
       "proveit.logic.boolean.disjunction.trueOrTrue"
      ]
     },
     "execution_count": 9,
     "metadata": {},
     "output_type": "execute_result"
    }
   ],
   "source": [
    "Or(TRUE,TRUE).prove().proof()"
   ]
  },
  {
   "cell_type": "code",
   "execution_count": 10,
   "metadata": {},
   "outputs": [
    {
     "data": {
      "text/html": [
       "<table><tr><th>&nbsp;</th><th>step type</th><th>requirements</th><th>statement</th></tr>\n",
       "<tr><td>0</td><td>theorem</td><td></td><td><span style=\"font-size:20px;\"> &#x22A2;&nbsp;<a class=\"ProveItLink\" href=\"__pv_it/eec5dacd574712698e86760b8b62868c1668cdd80/expr.ipynb\"><img src=\"__pv_it/eec5dacd574712698e86760b8b62868c1668cdd80/expr.png\" style=\"display:inline;vertical-align:middle;\" /></a></span></td></tr>\n",
       "<tr><td>&nbsp;</td><td colspan=4 style-\"text-align:left\"><a class=\"ProveItLink\" href=\"_proofs_/trueOrFalse.ipynb\">proveit.logic.boolean.disjunction.trueOrFalse</a></td></tr></table>"
      ],
      "text/plain": [
       "proveit.logic.boolean.disjunction.trueOrFalse"
      ]
     },
     "execution_count": 10,
     "metadata": {},
     "output_type": "execute_result"
    }
   ],
   "source": [
    "Or(TRUE,FALSE).prove().proof()"
   ]
  },
  {
   "cell_type": "code",
   "execution_count": 11,
   "metadata": {},
   "outputs": [
    {
     "data": {
      "text/html": [
       "<table><tr><th>&nbsp;</th><th>step type</th><th>requirements</th><th>statement</th></tr>\n",
       "<tr><td>0</td><td>theorem</td><td></td><td><span style=\"font-size:20px;\"> &#x22A2;&nbsp;<a class=\"ProveItLink\" href=\"__pv_it/1da6b0e09dcd4642d4419ced0432f25c508208780/expr.ipynb\"><img src=\"__pv_it/1da6b0e09dcd4642d4419ced0432f25c508208780/expr.png\" style=\"display:inline;vertical-align:middle;\" /></a></span></td></tr>\n",
       "<tr><td>&nbsp;</td><td colspan=4 style-\"text-align:left\"><a class=\"ProveItLink\" href=\"_proofs_/falseOrTrue.ipynb\">proveit.logic.boolean.disjunction.falseOrTrue</a></td></tr></table>"
      ],
      "text/plain": [
       "proveit.logic.boolean.disjunction.falseOrTrue"
      ]
     },
     "execution_count": 11,
     "metadata": {},
     "output_type": "execute_result"
    }
   ],
   "source": [
    "Or(FALSE,TRUE).prove().proof()"
   ]
  },
  {
   "cell_type": "code",
   "execution_count": 12,
   "metadata": {},
   "outputs": [
    {
     "data": {
      "text/html": [
       "<table><tr><th>&nbsp;</th><th>step type</th><th>requirements</th><th>statement</th></tr>\n",
       "<tr><td>0</td><td>theorem</td><td></td><td><span style=\"font-size:20px;\"> &#x22A2;&nbsp;<a class=\"ProveItLink\" href=\"__pv_it/89d93ab2a58b4ca9966107b3308820d50ebc7a700/expr.ipynb\"><img src=\"__pv_it/89d93ab2a58b4ca9966107b3308820d50ebc7a700/expr.png\" style=\"display:inline;vertical-align:middle;\" /></a></span></td></tr>\n",
       "<tr><td>&nbsp;</td><td colspan=4 style-\"text-align:left\"><a class=\"ProveItLink\" href=\"_proofs_/falseOrFalseNegated.ipynb\">proveit.logic.boolean.disjunction.falseOrFalseNegated</a></td></tr></table>"
      ],
      "text/plain": [
       "proveit.logic.boolean.disjunction.falseOrFalseNegated"
      ]
     },
     "execution_count": 12,
     "metadata": {},
     "output_type": "execute_result"
    }
   ],
   "source": [
    "Not(Or(FALSE,FALSE)).prove().proof()"
   ]
  },
  {
   "cell_type": "code",
   "execution_count": 13,
   "metadata": {},
   "outputs": [
    {
     "data": {
      "text/html": [
       "<table><tr><th>&nbsp;</th><th>step type</th><th>requirements</th><th>statement</th></tr>\n",
       "<tr><td>0</td><td>specialization</td><td>1, 2, 3</td><td><span style=\"font-size:20px;\"><a class=\"ProveItLink\" href=\"__pv_it/5cd9b33b88e1a628ed00ab113cff428eab1aa3cc0/expr.ipynb\"><img src=\"__pv_it/5cd9b33b88e1a628ed00ab113cff428eab1aa3cc0/expr.png\" style=\"display:inline;vertical-align:middle;\" /></a> &#x22A2;&nbsp;<a class=\"ProveItLink\" href=\"__pv_it/6b085089c20090840d052459f8893dc577d9cac10/expr.ipynb\"><img src=\"__pv_it/6b085089c20090840d052459f8893dc577d9cac10/expr.png\" style=\"display:inline;vertical-align:middle;\" /></a></span></td></tr>\n",
       "<tr><td>&nbsp;</td><td colspan=4 style=\"text-align:left\"><span style=\"font-size:20px;\"><a class=\"ProveItLink\" href=\"../../../__pv_it/2cbe72a7ad6f655694dd697106680215e8489b600/expr.ipynb\"><img src=\"../../../__pv_it/2cbe72a7ad6f655694dd697106680215e8489b600/expr.png\" style=\"display:inline;vertical-align:middle;\" /></a> : <a class=\"ProveItLink\" href=\"../../../__pv_it/2cbe72a7ad6f655694dd697106680215e8489b600/expr.ipynb\"><img src=\"../../../__pv_it/2cbe72a7ad6f655694dd697106680215e8489b600/expr.png\" style=\"display:inline;vertical-align:middle;\" /></a>, <a class=\"ProveItLink\" href=\"../../../__pv_it/077b2ff79244fb4582cbe22c6e3356fa92a52f2f0/expr.ipynb\"><img src=\"../../../__pv_it/077b2ff79244fb4582cbe22c6e3356fa92a52f2f0/expr.png\" style=\"display:inline;vertical-align:middle;\" /></a> : <a class=\"ProveItLink\" href=\"../../../__pv_it/077b2ff79244fb4582cbe22c6e3356fa92a52f2f0/expr.ipynb\"><img src=\"../../../__pv_it/077b2ff79244fb4582cbe22c6e3356fa92a52f2f0/expr.png\" style=\"display:inline;vertical-align:middle;\" /></a></span></td></tr><tr><td>1</td><td>theorem</td><td></td><td><span style=\"font-size:20px;\"> &#x22A2;&nbsp;<a class=\"ProveItLink\" href=\"__pv_it/0ec4cbcb6f83cd4439c2b6771409df52dc1a3ec60/expr.ipynb\"><img src=\"__pv_it/0ec4cbcb6f83cd4439c2b6771409df52dc1a3ec60/expr.png\" style=\"display:inline;vertical-align:middle;\" /></a></span></td></tr>\n",
       "<tr><td>&nbsp;</td><td colspan=4 style-\"text-align:left\"><a class=\"ProveItLink\" href=\"_proofs_/orIfBoth.ipynb\">proveit.logic.boolean.disjunction.orIfBoth</a></td></tr><tr><td>2</td><td>assumption</td><td></td><td><span style=\"font-size:20px;\"><a class=\"ProveItLink\" href=\"__pv_it/158bdc91074824c720728a23dba5d58593c8cc480/expr.ipynb\"><img src=\"__pv_it/158bdc91074824c720728a23dba5d58593c8cc480/expr.png\" style=\"display:inline;vertical-align:middle;\" /></a> &#x22A2;&nbsp;<a class=\"ProveItLink\" href=\"../../../__pv_it/2cbe72a7ad6f655694dd697106680215e8489b600/expr.ipynb\"><img src=\"../../../__pv_it/2cbe72a7ad6f655694dd697106680215e8489b600/expr.png\" style=\"display:inline;vertical-align:middle;\" /></a></span></td></tr>\n",
       "<tr><td>3</td><td>assumption</td><td></td><td><span style=\"font-size:20px;\"><a class=\"ProveItLink\" href=\"__pv_it/1612ee39be24e00576045a5f0471ba42a9eab2970/expr.ipynb\"><img src=\"__pv_it/1612ee39be24e00576045a5f0471ba42a9eab2970/expr.png\" style=\"display:inline;vertical-align:middle;\" /></a> &#x22A2;&nbsp;<a class=\"ProveItLink\" href=\"../../../__pv_it/077b2ff79244fb4582cbe22c6e3356fa92a52f2f0/expr.ipynb\"><img src=\"../../../__pv_it/077b2ff79244fb4582cbe22c6e3356fa92a52f2f0/expr.png\" style=\"display:inline;vertical-align:middle;\" /></a></span></td></tr>\n",
       "</table>"
      ],
      "text/plain": [
       "\tstep type\trequirements\tstatement\n",
       "0\tspecialization\t1, 2, 3\t{A , B} |- A or B\n",
       "\tA : A, B : B\n",
       "1\ttheorem\t\t|- forall_{A, B | A , B} (A or B)\n",
       "\tproveit.logic.boolean.disjunction.orIfBoth\n",
       "2\tassumption\t\t{A} |- A\n",
       "3\tassumption\t\t{B} |- B"
      ]
     },
     "execution_count": 13,
     "metadata": {},
     "output_type": "execute_result"
    }
   ],
   "source": [
    "Or(A,B).prove([A,B]).proof()"
   ]
  },
  {
   "cell_type": "code",
   "execution_count": 14,
   "metadata": {},
   "outputs": [
    {
     "data": {
      "text/html": [
       "<table><tr><th>&nbsp;</th><th>step type</th><th>requirements</th><th>statement</th></tr>\n",
       "<tr><td>0</td><td>specialization</td><td>1, 2, 3</td><td><span style=\"font-size:20px;\"><a class=\"ProveItLink\" href=\"__pv_it/6a31bb605d8df310cdd16e25cf8b7154b040475d0/expr.ipynb\"><img src=\"__pv_it/6a31bb605d8df310cdd16e25cf8b7154b040475d0/expr.png\" style=\"display:inline;vertical-align:middle;\" /></a> &#x22A2;&nbsp;<a class=\"ProveItLink\" href=\"__pv_it/6b085089c20090840d052459f8893dc577d9cac10/expr.ipynb\"><img src=\"__pv_it/6b085089c20090840d052459f8893dc577d9cac10/expr.png\" style=\"display:inline;vertical-align:middle;\" /></a></span></td></tr>\n",
       "<tr><td>&nbsp;</td><td colspan=4 style=\"text-align:left\"><span style=\"font-size:20px;\"><a class=\"ProveItLink\" href=\"../../../__pv_it/2cbe72a7ad6f655694dd697106680215e8489b600/expr.ipynb\"><img src=\"../../../__pv_it/2cbe72a7ad6f655694dd697106680215e8489b600/expr.png\" style=\"display:inline;vertical-align:middle;\" /></a> : <a class=\"ProveItLink\" href=\"../../../__pv_it/2cbe72a7ad6f655694dd697106680215e8489b600/expr.ipynb\"><img src=\"../../../__pv_it/2cbe72a7ad6f655694dd697106680215e8489b600/expr.png\" style=\"display:inline;vertical-align:middle;\" /></a>, <a class=\"ProveItLink\" href=\"../../../__pv_it/077b2ff79244fb4582cbe22c6e3356fa92a52f2f0/expr.ipynb\"><img src=\"../../../__pv_it/077b2ff79244fb4582cbe22c6e3356fa92a52f2f0/expr.png\" style=\"display:inline;vertical-align:middle;\" /></a> : <a class=\"ProveItLink\" href=\"../../../__pv_it/077b2ff79244fb4582cbe22c6e3356fa92a52f2f0/expr.ipynb\"><img src=\"../../../__pv_it/077b2ff79244fb4582cbe22c6e3356fa92a52f2f0/expr.png\" style=\"display:inline;vertical-align:middle;\" /></a></span></td></tr><tr><td>1</td><td>theorem</td><td></td><td><span style=\"font-size:20px;\"> &#x22A2;&nbsp;<a class=\"ProveItLink\" href=\"__pv_it/b9f989dae70289d5148744c3fd434bf6d31872c70/expr.ipynb\"><img src=\"__pv_it/b9f989dae70289d5148744c3fd434bf6d31872c70/expr.png\" style=\"display:inline;vertical-align:middle;\" /></a></span></td></tr>\n",
       "<tr><td>&nbsp;</td><td colspan=4 style-\"text-align:left\"><a class=\"ProveItLink\" href=\"_proofs_/orIfOnlyLeft.ipynb\">proveit.logic.boolean.disjunction.orIfOnlyLeft</a></td></tr><tr><td>2</td><td>assumption</td><td></td><td><span style=\"font-size:20px;\"><a class=\"ProveItLink\" href=\"__pv_it/158bdc91074824c720728a23dba5d58593c8cc480/expr.ipynb\"><img src=\"__pv_it/158bdc91074824c720728a23dba5d58593c8cc480/expr.png\" style=\"display:inline;vertical-align:middle;\" /></a> &#x22A2;&nbsp;<a class=\"ProveItLink\" href=\"../../../__pv_it/2cbe72a7ad6f655694dd697106680215e8489b600/expr.ipynb\"><img src=\"../../../__pv_it/2cbe72a7ad6f655694dd697106680215e8489b600/expr.png\" style=\"display:inline;vertical-align:middle;\" /></a></span></td></tr>\n",
       "<tr><td>3</td><td>assumption</td><td></td><td><span style=\"font-size:20px;\"><a class=\"ProveItLink\" href=\"__pv_it/b7e31d75543b3ce9f0c6e088e7bca956c708f1740/expr.ipynb\"><img src=\"__pv_it/b7e31d75543b3ce9f0c6e088e7bca956c708f1740/expr.png\" style=\"display:inline;vertical-align:middle;\" /></a> &#x22A2;&nbsp;<a class=\"ProveItLink\" href=\"__pv_it/1da4e2fe7c44632f084fa27ea32e26dc689384c20/expr.ipynb\"><img src=\"__pv_it/1da4e2fe7c44632f084fa27ea32e26dc689384c20/expr.png\" style=\"display:inline;vertical-align:middle;\" /></a></span></td></tr>\n",
       "</table>"
      ],
      "text/plain": [
       "\tstep type\trequirements\tstatement\n",
       "0\tspecialization\t1, 2, 3\t{A , [not](B)} |- A or B\n",
       "\tA : A, B : B\n",
       "1\ttheorem\t\t|- forall_{A, B | A , [not](B)} (A or B)\n",
       "\tproveit.logic.boolean.disjunction.orIfOnlyLeft\n",
       "2\tassumption\t\t{A} |- A\n",
       "3\tassumption\t\t{[not](B)} |- [not](B)"
      ]
     },
     "execution_count": 14,
     "metadata": {},
     "output_type": "execute_result"
    }
   ],
   "source": [
    "Or(A,B).prove([A,Not(B)]).proof()"
   ]
  },
  {
   "cell_type": "code",
   "execution_count": 15,
   "metadata": {},
   "outputs": [
    {
     "data": {
      "text/html": [
       "<table><tr><th>&nbsp;</th><th>step type</th><th>requirements</th><th>statement</th></tr>\n",
       "<tr><td>0</td><td>specialization</td><td>1, 2, 3</td><td><span style=\"font-size:20px;\"><a class=\"ProveItLink\" href=\"__pv_it/ddd593885eeb182f9cf463e4e29811075b4825850/expr.ipynb\"><img src=\"__pv_it/ddd593885eeb182f9cf463e4e29811075b4825850/expr.png\" style=\"display:inline;vertical-align:middle;\" /></a> &#x22A2;&nbsp;<a class=\"ProveItLink\" href=\"__pv_it/6b085089c20090840d052459f8893dc577d9cac10/expr.ipynb\"><img src=\"__pv_it/6b085089c20090840d052459f8893dc577d9cac10/expr.png\" style=\"display:inline;vertical-align:middle;\" /></a></span></td></tr>\n",
       "<tr><td>&nbsp;</td><td colspan=4 style=\"text-align:left\"><span style=\"font-size:20px;\"><a class=\"ProveItLink\" href=\"../../../__pv_it/2cbe72a7ad6f655694dd697106680215e8489b600/expr.ipynb\"><img src=\"../../../__pv_it/2cbe72a7ad6f655694dd697106680215e8489b600/expr.png\" style=\"display:inline;vertical-align:middle;\" /></a> : <a class=\"ProveItLink\" href=\"../../../__pv_it/2cbe72a7ad6f655694dd697106680215e8489b600/expr.ipynb\"><img src=\"../../../__pv_it/2cbe72a7ad6f655694dd697106680215e8489b600/expr.png\" style=\"display:inline;vertical-align:middle;\" /></a>, <a class=\"ProveItLink\" href=\"../../../__pv_it/077b2ff79244fb4582cbe22c6e3356fa92a52f2f0/expr.ipynb\"><img src=\"../../../__pv_it/077b2ff79244fb4582cbe22c6e3356fa92a52f2f0/expr.png\" style=\"display:inline;vertical-align:middle;\" /></a> : <a class=\"ProveItLink\" href=\"../../../__pv_it/077b2ff79244fb4582cbe22c6e3356fa92a52f2f0/expr.ipynb\"><img src=\"../../../__pv_it/077b2ff79244fb4582cbe22c6e3356fa92a52f2f0/expr.png\" style=\"display:inline;vertical-align:middle;\" /></a></span></td></tr><tr><td>1</td><td>theorem</td><td></td><td><span style=\"font-size:20px;\"> &#x22A2;&nbsp;<a class=\"ProveItLink\" href=\"__pv_it/3c2344cfabc842d70fed64921c0aef8ebc5353a70/expr.ipynb\"><img src=\"__pv_it/3c2344cfabc842d70fed64921c0aef8ebc5353a70/expr.png\" style=\"display:inline;vertical-align:middle;\" /></a></span></td></tr>\n",
       "<tr><td>&nbsp;</td><td colspan=4 style-\"text-align:left\"><a class=\"ProveItLink\" href=\"_proofs_/orIfOnlyRight.ipynb\">proveit.logic.boolean.disjunction.orIfOnlyRight</a></td></tr><tr><td>2</td><td>assumption</td><td></td><td><span style=\"font-size:20px;\"><a class=\"ProveItLink\" href=\"__pv_it/d70bb8509ebbd8eaacf9f16c016cbcdff0854f010/expr.ipynb\"><img src=\"__pv_it/d70bb8509ebbd8eaacf9f16c016cbcdff0854f010/expr.png\" style=\"display:inline;vertical-align:middle;\" /></a> &#x22A2;&nbsp;<a class=\"ProveItLink\" href=\"__pv_it/feaa1d0e6d92ad9ead8e5ffd1f92697e3912387a0/expr.ipynb\"><img src=\"__pv_it/feaa1d0e6d92ad9ead8e5ffd1f92697e3912387a0/expr.png\" style=\"display:inline;vertical-align:middle;\" /></a></span></td></tr>\n",
       "<tr><td>3</td><td>assumption</td><td></td><td><span style=\"font-size:20px;\"><a class=\"ProveItLink\" href=\"__pv_it/1612ee39be24e00576045a5f0471ba42a9eab2970/expr.ipynb\"><img src=\"__pv_it/1612ee39be24e00576045a5f0471ba42a9eab2970/expr.png\" style=\"display:inline;vertical-align:middle;\" /></a> &#x22A2;&nbsp;<a class=\"ProveItLink\" href=\"../../../__pv_it/077b2ff79244fb4582cbe22c6e3356fa92a52f2f0/expr.ipynb\"><img src=\"../../../__pv_it/077b2ff79244fb4582cbe22c6e3356fa92a52f2f0/expr.png\" style=\"display:inline;vertical-align:middle;\" /></a></span></td></tr>\n",
       "</table>"
      ],
      "text/plain": [
       "\tstep type\trequirements\tstatement\n",
       "0\tspecialization\t1, 2, 3\t{B , [not](A)} |- A or B\n",
       "\tA : A, B : B\n",
       "1\ttheorem\t\t|- forall_{A, B | [not](A) , B} (A or B)\n",
       "\tproveit.logic.boolean.disjunction.orIfOnlyRight\n",
       "2\tassumption\t\t{[not](A)} |- [not](A)\n",
       "3\tassumption\t\t{B} |- B"
      ]
     },
     "execution_count": 15,
     "metadata": {},
     "output_type": "execute_result"
    }
   ],
   "source": [
    "Or(A,B).prove([B,Not(A)]).proof()"
   ]
  },
  {
   "cell_type": "code",
   "execution_count": 16,
   "metadata": {},
   "outputs": [
    {
     "data": {
      "text/html": [
       "<table><tr><th>&nbsp;</th><th>step type</th><th>requirements</th><th>statement</th></tr>\n",
       "<tr><td>0</td><td>specialization</td><td>1, 2, 3</td><td><span style=\"font-size:20px;\"><a class=\"ProveItLink\" href=\"__pv_it/44c120e0c3ea749063bf91bcd3ce7b8fe259a1a60/expr.ipynb\"><img src=\"__pv_it/44c120e0c3ea749063bf91bcd3ce7b8fe259a1a60/expr.png\" style=\"display:inline;vertical-align:middle;\" /></a> &#x22A2;&nbsp;<a class=\"ProveItLink\" href=\"__pv_it/2867c872b27df7db874b5973e2979fa732864a3b0/expr.ipynb\"><img src=\"__pv_it/2867c872b27df7db874b5973e2979fa732864a3b0/expr.png\" style=\"display:inline;vertical-align:middle;\" /></a></span></td></tr>\n",
       "<tr><td>&nbsp;</td><td colspan=4 style=\"text-align:left\"><span style=\"font-size:20px;\"><a class=\"ProveItLink\" href=\"../../../__pv_it/2cbe72a7ad6f655694dd697106680215e8489b600/expr.ipynb\"><img src=\"../../../__pv_it/2cbe72a7ad6f655694dd697106680215e8489b600/expr.png\" style=\"display:inline;vertical-align:middle;\" /></a> : <a class=\"ProveItLink\" href=\"../../../__pv_it/2cbe72a7ad6f655694dd697106680215e8489b600/expr.ipynb\"><img src=\"../../../__pv_it/2cbe72a7ad6f655694dd697106680215e8489b600/expr.png\" style=\"display:inline;vertical-align:middle;\" /></a>, <a class=\"ProveItLink\" href=\"../../../__pv_it/077b2ff79244fb4582cbe22c6e3356fa92a52f2f0/expr.ipynb\"><img src=\"../../../__pv_it/077b2ff79244fb4582cbe22c6e3356fa92a52f2f0/expr.png\" style=\"display:inline;vertical-align:middle;\" /></a> : <a class=\"ProveItLink\" href=\"../../../__pv_it/077b2ff79244fb4582cbe22c6e3356fa92a52f2f0/expr.ipynb\"><img src=\"../../../__pv_it/077b2ff79244fb4582cbe22c6e3356fa92a52f2f0/expr.png\" style=\"display:inline;vertical-align:middle;\" /></a></span></td></tr><tr><td>1</td><td>theorem</td><td></td><td><span style=\"font-size:20px;\"> &#x22A2;&nbsp;<a class=\"ProveItLink\" href=\"__pv_it/b9494166bc9ee93f75f9c22995a81329371a1eb30/expr.ipynb\"><img src=\"__pv_it/b9494166bc9ee93f75f9c22995a81329371a1eb30/expr.png\" style=\"display:inline;vertical-align:middle;\" /></a></span></td></tr>\n",
       "<tr><td>&nbsp;</td><td colspan=4 style-\"text-align:left\"><a class=\"ProveItLink\" href=\"_proofs_/neitherIntro.ipynb\">proveit.logic.boolean.disjunction.neitherIntro</a></td></tr><tr><td>2</td><td>assumption</td><td></td><td><span style=\"font-size:20px;\"><a class=\"ProveItLink\" href=\"__pv_it/d70bb8509ebbd8eaacf9f16c016cbcdff0854f010/expr.ipynb\"><img src=\"__pv_it/d70bb8509ebbd8eaacf9f16c016cbcdff0854f010/expr.png\" style=\"display:inline;vertical-align:middle;\" /></a> &#x22A2;&nbsp;<a class=\"ProveItLink\" href=\"__pv_it/feaa1d0e6d92ad9ead8e5ffd1f92697e3912387a0/expr.ipynb\"><img src=\"__pv_it/feaa1d0e6d92ad9ead8e5ffd1f92697e3912387a0/expr.png\" style=\"display:inline;vertical-align:middle;\" /></a></span></td></tr>\n",
       "<tr><td>3</td><td>assumption</td><td></td><td><span style=\"font-size:20px;\"><a class=\"ProveItLink\" href=\"__pv_it/b7e31d75543b3ce9f0c6e088e7bca956c708f1740/expr.ipynb\"><img src=\"__pv_it/b7e31d75543b3ce9f0c6e088e7bca956c708f1740/expr.png\" style=\"display:inline;vertical-align:middle;\" /></a> &#x22A2;&nbsp;<a class=\"ProveItLink\" href=\"__pv_it/1da4e2fe7c44632f084fa27ea32e26dc689384c20/expr.ipynb\"><img src=\"__pv_it/1da4e2fe7c44632f084fa27ea32e26dc689384c20/expr.png\" style=\"display:inline;vertical-align:middle;\" /></a></span></td></tr>\n",
       "</table>"
      ],
      "text/plain": [
       "\tstep type\trequirements\tstatement\n",
       "0\tspecialization\t1, 2, 3\t{[not](A) , [not](B)} |- [not](A or B)\n",
       "\tA : A, B : B\n",
       "1\ttheorem\t\t|- forall_{A, B | [not](A) , [not](B)} [not](A or B)\n",
       "\tproveit.logic.boolean.disjunction.neitherIntro\n",
       "2\tassumption\t\t{[not](A)} |- [not](A)\n",
       "3\tassumption\t\t{[not](B)} |- [not](B)"
      ]
     },
     "execution_count": 16,
     "metadata": {},
     "output_type": "execute_result"
    }
   ],
   "source": [
    "Not(Or(A,B)).prove([Not(A), Not(B)]).proof()"
   ]
  },
  {
   "cell_type": "code",
   "execution_count": 17,
   "metadata": {},
   "outputs": [
    {
     "data": {
      "text/html": [
       "<table><tr><th>&nbsp;</th><th>step type</th><th>requirements</th><th>statement</th></tr>\n",
       "<tr><td>0</td><td>specialization</td><td>1, 2, 3, 4</td><td><span style=\"font-size:20px;\"><a class=\"ProveItLink\" href=\"__pv_it/b03b027bd128753f298121242afa259dd8a232d30/expr.ipynb\"><img src=\"__pv_it/b03b027bd128753f298121242afa259dd8a232d30/expr.png\" style=\"display:inline;vertical-align:middle;\" /></a> &#x22A2;&nbsp;<a class=\"ProveItLink\" href=\"../__pv_it/8f1f7fac882de28c72b62ab80a1700b6d8fd066b0/expr.ipynb\"><img src=\"../__pv_it/8f1f7fac882de28c72b62ab80a1700b6d8fd066b0/expr.png\" style=\"display:inline;vertical-align:middle;\" /></a></span></td></tr>\n",
       "<tr><td>&nbsp;</td><td colspan=4 style=\"text-align:left\"><span style=\"font-size:20px;\"><a class=\"ProveItLink\" href=\"../../../__pv_it/2cbe72a7ad6f655694dd697106680215e8489b600/expr.ipynb\"><img src=\"../../../__pv_it/2cbe72a7ad6f655694dd697106680215e8489b600/expr.png\" style=\"display:inline;vertical-align:middle;\" /></a> : <a class=\"ProveItLink\" href=\"../../../__pv_it/2cbe72a7ad6f655694dd697106680215e8489b600/expr.ipynb\"><img src=\"../../../__pv_it/2cbe72a7ad6f655694dd697106680215e8489b600/expr.png\" style=\"display:inline;vertical-align:middle;\" /></a>, <a class=\"ProveItLink\" href=\"../../../__pv_it/077b2ff79244fb4582cbe22c6e3356fa92a52f2f0/expr.ipynb\"><img src=\"../../../__pv_it/077b2ff79244fb4582cbe22c6e3356fa92a52f2f0/expr.png\" style=\"display:inline;vertical-align:middle;\" /></a> : <a class=\"ProveItLink\" href=\"../../../__pv_it/077b2ff79244fb4582cbe22c6e3356fa92a52f2f0/expr.ipynb\"><img src=\"../../../__pv_it/077b2ff79244fb4582cbe22c6e3356fa92a52f2f0/expr.png\" style=\"display:inline;vertical-align:middle;\" /></a></span></td></tr><tr><td>1</td><td>theorem</td><td></td><td><span style=\"font-size:20px;\"> &#x22A2;&nbsp;<a class=\"ProveItLink\" href=\"__pv_it/0958bcd3fc040df036774b5cadef06ab4bc107330/expr.ipynb\"><img src=\"__pv_it/0958bcd3fc040df036774b5cadef06ab4bc107330/expr.png\" style=\"display:inline;vertical-align:middle;\" /></a></span></td></tr>\n",
       "<tr><td>&nbsp;</td><td colspan=4 style-\"text-align:left\"><a class=\"ProveItLink\" href=\"_proofs_/binaryOrContradiction.ipynb\">proveit.logic.boolean.disjunction.binaryOrContradiction</a></td></tr><tr><td>2</td><td>assumption</td><td></td><td><span style=\"font-size:20px;\"><a class=\"ProveItLink\" href=\"__pv_it/b770e7b00fcb6b4f23fb62157f5bc5f0e8c091e20/expr.ipynb\"><img src=\"__pv_it/b770e7b00fcb6b4f23fb62157f5bc5f0e8c091e20/expr.png\" style=\"display:inline;vertical-align:middle;\" /></a> &#x22A2;&nbsp;<a class=\"ProveItLink\" href=\"__pv_it/6b085089c20090840d052459f8893dc577d9cac10/expr.ipynb\"><img src=\"__pv_it/6b085089c20090840d052459f8893dc577d9cac10/expr.png\" style=\"display:inline;vertical-align:middle;\" /></a></span></td></tr>\n",
       "<tr><td>3</td><td>assumption</td><td></td><td><span style=\"font-size:20px;\"><a class=\"ProveItLink\" href=\"__pv_it/d70bb8509ebbd8eaacf9f16c016cbcdff0854f010/expr.ipynb\"><img src=\"__pv_it/d70bb8509ebbd8eaacf9f16c016cbcdff0854f010/expr.png\" style=\"display:inline;vertical-align:middle;\" /></a> &#x22A2;&nbsp;<a class=\"ProveItLink\" href=\"__pv_it/feaa1d0e6d92ad9ead8e5ffd1f92697e3912387a0/expr.ipynb\"><img src=\"__pv_it/feaa1d0e6d92ad9ead8e5ffd1f92697e3912387a0/expr.png\" style=\"display:inline;vertical-align:middle;\" /></a></span></td></tr>\n",
       "<tr><td>4</td><td>assumption</td><td></td><td><span style=\"font-size:20px;\"><a class=\"ProveItLink\" href=\"__pv_it/b7e31d75543b3ce9f0c6e088e7bca956c708f1740/expr.ipynb\"><img src=\"__pv_it/b7e31d75543b3ce9f0c6e088e7bca956c708f1740/expr.png\" style=\"display:inline;vertical-align:middle;\" /></a> &#x22A2;&nbsp;<a class=\"ProveItLink\" href=\"__pv_it/1da4e2fe7c44632f084fa27ea32e26dc689384c20/expr.ipynb\"><img src=\"__pv_it/1da4e2fe7c44632f084fa27ea32e26dc689384c20/expr.png\" style=\"display:inline;vertical-align:middle;\" /></a></span></td></tr>\n",
       "</table>"
      ],
      "text/plain": [
       "\tstep type\trequirements\tstatement\n",
       "0\tspecialization\t1, 2, 3, 4\t{[not](A) , [not](B) , A or B} |- FALSE\n",
       "\tA : A, B : B\n",
       "1\ttheorem\t\t|- forall_{A, B | A or B , [not](A) , [not](B)} FALSE\n",
       "\tproveit.logic.boolean.disjunction.binaryOrContradiction\n",
       "2\tassumption\t\t{A or B} |- A or B\n",
       "3\tassumption\t\t{[not](A)} |- [not](A)\n",
       "4\tassumption\t\t{[not](B)} |- [not](B)"
      ]
     },
     "execution_count": 17,
     "metadata": {},
     "output_type": "execute_result"
    }
   ],
   "source": [
    "Or(A,B).deriveContradiction([Not(A),Not(B), Or(A,B)]).proof()"
   ]
  },
  {
   "cell_type": "code",
   "execution_count": 18,
   "metadata": {},
   "outputs": [
    {
     "data": {
      "text/html": [
       "<table><tr><th>&nbsp;</th><th>step type</th><th>requirements</th><th>statement</th></tr>\n",
       "<tr><td>0</td><td>specialization</td><td>1, 2, 3, 4, 5</td><td><span style=\"font-size:20px;\"><a class=\"ProveItLink\" href=\"__pv_it/a0cbf17e2eddf133dde97edcd6ae6120482d924a0/expr.ipynb\"><img src=\"__pv_it/a0cbf17e2eddf133dde97edcd6ae6120482d924a0/expr.png\" style=\"display:inline;vertical-align:middle;\" /></a> &#x22A2;&nbsp;<a class=\"ProveItLink\" href=\"../../../__pv_it/2cbe72a7ad6f655694dd697106680215e8489b600/expr.ipynb\"><img src=\"../../../__pv_it/2cbe72a7ad6f655694dd697106680215e8489b600/expr.png\" style=\"display:inline;vertical-align:middle;\" /></a></span></td></tr>\n",
       "<tr><td>&nbsp;</td><td colspan=4 style=\"text-align:left\"><span style=\"font-size:20px;\"><a class=\"ProveItLink\" href=\"../../../__pv_it/2cbe72a7ad6f655694dd697106680215e8489b600/expr.ipynb\"><img src=\"../../../__pv_it/2cbe72a7ad6f655694dd697106680215e8489b600/expr.png\" style=\"display:inline;vertical-align:middle;\" /></a> : <a class=\"ProveItLink\" href=\"../../../__pv_it/2cbe72a7ad6f655694dd697106680215e8489b600/expr.ipynb\"><img src=\"../../../__pv_it/2cbe72a7ad6f655694dd697106680215e8489b600/expr.png\" style=\"display:inline;vertical-align:middle;\" /></a>, <a class=\"ProveItLink\" href=\"../../../__pv_it/077b2ff79244fb4582cbe22c6e3356fa92a52f2f0/expr.ipynb\"><img src=\"../../../__pv_it/077b2ff79244fb4582cbe22c6e3356fa92a52f2f0/expr.png\" style=\"display:inline;vertical-align:middle;\" /></a> : <a class=\"ProveItLink\" href=\"../../../__pv_it/077b2ff79244fb4582cbe22c6e3356fa92a52f2f0/expr.ipynb\"><img src=\"../../../__pv_it/077b2ff79244fb4582cbe22c6e3356fa92a52f2f0/expr.png\" style=\"display:inline;vertical-align:middle;\" /></a></span></td></tr><tr><td>1</td><td>theorem</td><td></td><td><span style=\"font-size:20px;\"> &#x22A2;&nbsp;<a class=\"ProveItLink\" href=\"__pv_it/cab93fc923026c5e7ba5e0dc1f69875613a752280/expr.ipynb\"><img src=\"__pv_it/cab93fc923026c5e7ba5e0dc1f69875613a752280/expr.png\" style=\"display:inline;vertical-align:middle;\" /></a></span></td></tr>\n",
       "<tr><td>&nbsp;</td><td colspan=4 style-\"text-align:left\"><a class=\"ProveItLink\" href=\"_proofs_/leftIfNotRight.ipynb\">proveit.logic.boolean.disjunction.leftIfNotRight</a></td></tr><tr><td>2</td><td>assumption</td><td></td><td><span style=\"font-size:20px;\"><a class=\"ProveItLink\" href=\"__pv_it/017ca8cfa034181c90ba15dd10869f0f4e516d6a0/expr.ipynb\"><img src=\"__pv_it/017ca8cfa034181c90ba15dd10869f0f4e516d6a0/expr.png\" style=\"display:inline;vertical-align:middle;\" /></a> &#x22A2;&nbsp;<a class=\"ProveItLink\" href=\"__pv_it/03a5c2b5cc6fc2c3cd686b4bcf84379b893abe210/expr.ipynb\"><img src=\"__pv_it/03a5c2b5cc6fc2c3cd686b4bcf84379b893abe210/expr.png\" style=\"display:inline;vertical-align:middle;\" /></a></span></td></tr>\n",
       "<tr><td>3</td><td>assumption</td><td></td><td><span style=\"font-size:20px;\"><a class=\"ProveItLink\" href=\"__pv_it/2c2e947402f53b9e11cd7769e1b5b3378595750e0/expr.ipynb\"><img src=\"__pv_it/2c2e947402f53b9e11cd7769e1b5b3378595750e0/expr.png\" style=\"display:inline;vertical-align:middle;\" /></a> &#x22A2;&nbsp;<a class=\"ProveItLink\" href=\"__pv_it/fe5c91c77f0659f9ea07a2e3257797875d6868370/expr.ipynb\"><img src=\"__pv_it/fe5c91c77f0659f9ea07a2e3257797875d6868370/expr.png\" style=\"display:inline;vertical-align:middle;\" /></a></span></td></tr>\n",
       "<tr><td>4</td><td>assumption</td><td></td><td><span style=\"font-size:20px;\"><a class=\"ProveItLink\" href=\"__pv_it/b770e7b00fcb6b4f23fb62157f5bc5f0e8c091e20/expr.ipynb\"><img src=\"__pv_it/b770e7b00fcb6b4f23fb62157f5bc5f0e8c091e20/expr.png\" style=\"display:inline;vertical-align:middle;\" /></a> &#x22A2;&nbsp;<a class=\"ProveItLink\" href=\"__pv_it/6b085089c20090840d052459f8893dc577d9cac10/expr.ipynb\"><img src=\"__pv_it/6b085089c20090840d052459f8893dc577d9cac10/expr.png\" style=\"display:inline;vertical-align:middle;\" /></a></span></td></tr>\n",
       "<tr><td>5</td><td>assumption</td><td></td><td><span style=\"font-size:20px;\"><a class=\"ProveItLink\" href=\"__pv_it/b7e31d75543b3ce9f0c6e088e7bca956c708f1740/expr.ipynb\"><img src=\"__pv_it/b7e31d75543b3ce9f0c6e088e7bca956c708f1740/expr.png\" style=\"display:inline;vertical-align:middle;\" /></a> &#x22A2;&nbsp;<a class=\"ProveItLink\" href=\"__pv_it/1da4e2fe7c44632f084fa27ea32e26dc689384c20/expr.ipynb\"><img src=\"__pv_it/1da4e2fe7c44632f084fa27ea32e26dc689384c20/expr.png\" style=\"display:inline;vertical-align:middle;\" /></a></span></td></tr>\n",
       "</table>"
      ],
      "text/plain": [
       "\tstep type\trequirements\tstatement\n",
       "0\tspecialization\t1, 2, 3, 4, 5\t{A in BOOLEANS , B in BOOLEANS , [not](B) , A or B} |- A\n",
       "\tA : A, B : B\n",
       "1\ttheorem\t\t|- forall_{A, B in BOOLEANS | A or B , [not](B)} A\n",
       "\tproveit.logic.boolean.disjunction.leftIfNotRight\n",
       "2\tassumption\t\t{A in BOOLEANS} |- A in BOOLEANS\n",
       "3\tassumption\t\t{B in BOOLEANS} |- B in BOOLEANS\n",
       "4\tassumption\t\t{A or B} |- A or B\n",
       "5\tassumption\t\t{[not](B)} |- [not](B)"
      ]
     },
     "execution_count": 18,
     "metadata": {},
     "output_type": "execute_result"
    }
   ],
   "source": [
    "Or(A,B).deriveLeftIfNotRight([inBool(A), inBool(B), Not(B), Or(A,B)]).proof()"
   ]
  },
  {
   "cell_type": "code",
   "execution_count": 19,
   "metadata": {},
   "outputs": [
    {
     "data": {
      "text/html": [
       "<table><tr><th>&nbsp;</th><th>step type</th><th>requirements</th><th>statement</th></tr>\n",
       "<tr><td>0</td><td>specialization</td><td>1, 2, 3, 4, 5</td><td><span style=\"font-size:20px;\"><a class=\"ProveItLink\" href=\"__pv_it/706511d2ab1edc5703aba32b532cab77e2eb9ee80/expr.ipynb\"><img src=\"__pv_it/706511d2ab1edc5703aba32b532cab77e2eb9ee80/expr.png\" style=\"display:inline;vertical-align:middle;\" /></a> &#x22A2;&nbsp;<a class=\"ProveItLink\" href=\"../../../__pv_it/077b2ff79244fb4582cbe22c6e3356fa92a52f2f0/expr.ipynb\"><img src=\"../../../__pv_it/077b2ff79244fb4582cbe22c6e3356fa92a52f2f0/expr.png\" style=\"display:inline;vertical-align:middle;\" /></a></span></td></tr>\n",
       "<tr><td>&nbsp;</td><td colspan=4 style=\"text-align:left\"><span style=\"font-size:20px;\"><a class=\"ProveItLink\" href=\"../../../__pv_it/2cbe72a7ad6f655694dd697106680215e8489b600/expr.ipynb\"><img src=\"../../../__pv_it/2cbe72a7ad6f655694dd697106680215e8489b600/expr.png\" style=\"display:inline;vertical-align:middle;\" /></a> : <a class=\"ProveItLink\" href=\"../../../__pv_it/2cbe72a7ad6f655694dd697106680215e8489b600/expr.ipynb\"><img src=\"../../../__pv_it/2cbe72a7ad6f655694dd697106680215e8489b600/expr.png\" style=\"display:inline;vertical-align:middle;\" /></a>, <a class=\"ProveItLink\" href=\"../../../__pv_it/077b2ff79244fb4582cbe22c6e3356fa92a52f2f0/expr.ipynb\"><img src=\"../../../__pv_it/077b2ff79244fb4582cbe22c6e3356fa92a52f2f0/expr.png\" style=\"display:inline;vertical-align:middle;\" /></a> : <a class=\"ProveItLink\" href=\"../../../__pv_it/077b2ff79244fb4582cbe22c6e3356fa92a52f2f0/expr.ipynb\"><img src=\"../../../__pv_it/077b2ff79244fb4582cbe22c6e3356fa92a52f2f0/expr.png\" style=\"display:inline;vertical-align:middle;\" /></a></span></td></tr><tr><td>1</td><td>theorem</td><td></td><td><span style=\"font-size:20px;\"> &#x22A2;&nbsp;<a class=\"ProveItLink\" href=\"__pv_it/896fb79f15672ec8c1dc34695a1bce8124fa7b540/expr.ipynb\"><img src=\"__pv_it/896fb79f15672ec8c1dc34695a1bce8124fa7b540/expr.png\" style=\"display:inline;vertical-align:middle;\" /></a></span></td></tr>\n",
       "<tr><td>&nbsp;</td><td colspan=4 style-\"text-align:left\"><a class=\"ProveItLink\" href=\"_proofs_/rightIfNotLeft.ipynb\">proveit.logic.boolean.disjunction.rightIfNotLeft</a></td></tr><tr><td>2</td><td>assumption</td><td></td><td><span style=\"font-size:20px;\"><a class=\"ProveItLink\" href=\"__pv_it/017ca8cfa034181c90ba15dd10869f0f4e516d6a0/expr.ipynb\"><img src=\"__pv_it/017ca8cfa034181c90ba15dd10869f0f4e516d6a0/expr.png\" style=\"display:inline;vertical-align:middle;\" /></a> &#x22A2;&nbsp;<a class=\"ProveItLink\" href=\"__pv_it/03a5c2b5cc6fc2c3cd686b4bcf84379b893abe210/expr.ipynb\"><img src=\"__pv_it/03a5c2b5cc6fc2c3cd686b4bcf84379b893abe210/expr.png\" style=\"display:inline;vertical-align:middle;\" /></a></span></td></tr>\n",
       "<tr><td>3</td><td>assumption</td><td></td><td><span style=\"font-size:20px;\"><a class=\"ProveItLink\" href=\"__pv_it/2c2e947402f53b9e11cd7769e1b5b3378595750e0/expr.ipynb\"><img src=\"__pv_it/2c2e947402f53b9e11cd7769e1b5b3378595750e0/expr.png\" style=\"display:inline;vertical-align:middle;\" /></a> &#x22A2;&nbsp;<a class=\"ProveItLink\" href=\"__pv_it/fe5c91c77f0659f9ea07a2e3257797875d6868370/expr.ipynb\"><img src=\"__pv_it/fe5c91c77f0659f9ea07a2e3257797875d6868370/expr.png\" style=\"display:inline;vertical-align:middle;\" /></a></span></td></tr>\n",
       "<tr><td>4</td><td>assumption</td><td></td><td><span style=\"font-size:20px;\"><a class=\"ProveItLink\" href=\"__pv_it/b770e7b00fcb6b4f23fb62157f5bc5f0e8c091e20/expr.ipynb\"><img src=\"__pv_it/b770e7b00fcb6b4f23fb62157f5bc5f0e8c091e20/expr.png\" style=\"display:inline;vertical-align:middle;\" /></a> &#x22A2;&nbsp;<a class=\"ProveItLink\" href=\"__pv_it/6b085089c20090840d052459f8893dc577d9cac10/expr.ipynb\"><img src=\"__pv_it/6b085089c20090840d052459f8893dc577d9cac10/expr.png\" style=\"display:inline;vertical-align:middle;\" /></a></span></td></tr>\n",
       "<tr><td>5</td><td>assumption</td><td></td><td><span style=\"font-size:20px;\"><a class=\"ProveItLink\" href=\"__pv_it/d70bb8509ebbd8eaacf9f16c016cbcdff0854f010/expr.ipynb\"><img src=\"__pv_it/d70bb8509ebbd8eaacf9f16c016cbcdff0854f010/expr.png\" style=\"display:inline;vertical-align:middle;\" /></a> &#x22A2;&nbsp;<a class=\"ProveItLink\" href=\"__pv_it/feaa1d0e6d92ad9ead8e5ffd1f92697e3912387a0/expr.ipynb\"><img src=\"__pv_it/feaa1d0e6d92ad9ead8e5ffd1f92697e3912387a0/expr.png\" style=\"display:inline;vertical-align:middle;\" /></a></span></td></tr>\n",
       "</table>"
      ],
      "text/plain": [
       "\tstep type\trequirements\tstatement\n",
       "0\tspecialization\t1, 2, 3, 4, 5\t{A in BOOLEANS , B in BOOLEANS , [not](A) , A or B} |- B\n",
       "\tA : A, B : B\n",
       "1\ttheorem\t\t|- forall_{A, B in BOOLEANS | A or B , [not](A)} B\n",
       "\tproveit.logic.boolean.disjunction.rightIfNotLeft\n",
       "2\tassumption\t\t{A in BOOLEANS} |- A in BOOLEANS\n",
       "3\tassumption\t\t{B in BOOLEANS} |- B in BOOLEANS\n",
       "4\tassumption\t\t{A or B} |- A or B\n",
       "5\tassumption\t\t{[not](A)} |- [not](A)"
      ]
     },
     "execution_count": 19,
     "metadata": {},
     "output_type": "execute_result"
    }
   ],
   "source": [
    "Or(A,B).deriveRightIfNotLeft([*inBool(A,B), Not(A), Or(A,B)]).proof()"
   ]
  },
  {
   "cell_type": "code",
   "execution_count": 20,
   "metadata": {},
   "outputs": [
    {
     "data": {
      "text/html": [
       "<table><tr><th>&nbsp;</th><th>step type</th><th>requirements</th><th>statement</th></tr>\n",
       "<tr><td>0</td><td>specialization</td><td>1, 2, 3, 4, 5, 6</td><td><span style=\"font-size:20px;\"><a class=\"ProveItLink\" href=\"__pv_it/f0a2c4cd8af8cba97cd1a57c1c21185451044b1e0/expr.ipynb\"><img src=\"__pv_it/f0a2c4cd8af8cba97cd1a57c1c21185451044b1e0/expr.png\" style=\"display:inline;vertical-align:middle;\" /></a> &#x22A2;&nbsp;<a class=\"ProveItLink\" href=\"../../../__pv_it/985a1bdf1540838275dec15f4ad6de261cca93ce0/expr.ipynb\"><img src=\"../../../__pv_it/985a1bdf1540838275dec15f4ad6de261cca93ce0/expr.png\" style=\"display:inline;vertical-align:middle;\" /></a></span></td></tr>\n",
       "<tr><td>&nbsp;</td><td colspan=4 style=\"text-align:left\"><span style=\"font-size:20px;\"><a class=\"ProveItLink\" href=\"../../../__pv_it/2cbe72a7ad6f655694dd697106680215e8489b600/expr.ipynb\"><img src=\"../../../__pv_it/2cbe72a7ad6f655694dd697106680215e8489b600/expr.png\" style=\"display:inline;vertical-align:middle;\" /></a> : <a class=\"ProveItLink\" href=\"../../../__pv_it/2cbe72a7ad6f655694dd697106680215e8489b600/expr.ipynb\"><img src=\"../../../__pv_it/2cbe72a7ad6f655694dd697106680215e8489b600/expr.png\" style=\"display:inline;vertical-align:middle;\" /></a>, <a class=\"ProveItLink\" href=\"../../../__pv_it/077b2ff79244fb4582cbe22c6e3356fa92a52f2f0/expr.ipynb\"><img src=\"../../../__pv_it/077b2ff79244fb4582cbe22c6e3356fa92a52f2f0/expr.png\" style=\"display:inline;vertical-align:middle;\" /></a> : <a class=\"ProveItLink\" href=\"../../../__pv_it/077b2ff79244fb4582cbe22c6e3356fa92a52f2f0/expr.ipynb\"><img src=\"../../../__pv_it/077b2ff79244fb4582cbe22c6e3356fa92a52f2f0/expr.png\" style=\"display:inline;vertical-align:middle;\" /></a>, <a class=\"ProveItLink\" href=\"../../../__pv_it/985a1bdf1540838275dec15f4ad6de261cca93ce0/expr.ipynb\"><img src=\"../../../__pv_it/985a1bdf1540838275dec15f4ad6de261cca93ce0/expr.png\" style=\"display:inline;vertical-align:middle;\" /></a> : <a class=\"ProveItLink\" href=\"../../../__pv_it/985a1bdf1540838275dec15f4ad6de261cca93ce0/expr.ipynb\"><img src=\"../../../__pv_it/985a1bdf1540838275dec15f4ad6de261cca93ce0/expr.png\" style=\"display:inline;vertical-align:middle;\" /></a></span></td></tr><tr><td>1</td><td>theorem</td><td></td><td><span style=\"font-size:20px;\"> &#x22A2;&nbsp;<a class=\"ProveItLink\" href=\"__pv_it/ae04d742bb2a9c5d5c8f08976170ec0df82f46d30/expr.ipynb\"><img src=\"__pv_it/ae04d742bb2a9c5d5c8f08976170ec0df82f46d30/expr.png\" style=\"display:inline;vertical-align:middle;\" /></a></span></td></tr>\n",
       "<tr><td>&nbsp;</td><td colspan=4 style-\"text-align:left\"><a class=\"ProveItLink\" href=\"_proofs_/singularConstructiveDilemma.ipynb\">proveit.logic.boolean.disjunction.singularConstructiveDilemma</a></td></tr><tr><td>2</td><td>assumption</td><td></td><td><span style=\"font-size:20px;\"><a class=\"ProveItLink\" href=\"__pv_it/017ca8cfa034181c90ba15dd10869f0f4e516d6a0/expr.ipynb\"><img src=\"__pv_it/017ca8cfa034181c90ba15dd10869f0f4e516d6a0/expr.png\" style=\"display:inline;vertical-align:middle;\" /></a> &#x22A2;&nbsp;<a class=\"ProveItLink\" href=\"__pv_it/03a5c2b5cc6fc2c3cd686b4bcf84379b893abe210/expr.ipynb\"><img src=\"__pv_it/03a5c2b5cc6fc2c3cd686b4bcf84379b893abe210/expr.png\" style=\"display:inline;vertical-align:middle;\" /></a></span></td></tr>\n",
       "<tr><td>3</td><td>assumption</td><td></td><td><span style=\"font-size:20px;\"><a class=\"ProveItLink\" href=\"__pv_it/2c2e947402f53b9e11cd7769e1b5b3378595750e0/expr.ipynb\"><img src=\"__pv_it/2c2e947402f53b9e11cd7769e1b5b3378595750e0/expr.png\" style=\"display:inline;vertical-align:middle;\" /></a> &#x22A2;&nbsp;<a class=\"ProveItLink\" href=\"__pv_it/fe5c91c77f0659f9ea07a2e3257797875d6868370/expr.ipynb\"><img src=\"__pv_it/fe5c91c77f0659f9ea07a2e3257797875d6868370/expr.png\" style=\"display:inline;vertical-align:middle;\" /></a></span></td></tr>\n",
       "<tr><td>4</td><td>assumption</td><td></td><td><span style=\"font-size:20px;\"><a class=\"ProveItLink\" href=\"__pv_it/b770e7b00fcb6b4f23fb62157f5bc5f0e8c091e20/expr.ipynb\"><img src=\"__pv_it/b770e7b00fcb6b4f23fb62157f5bc5f0e8c091e20/expr.png\" style=\"display:inline;vertical-align:middle;\" /></a> &#x22A2;&nbsp;<a class=\"ProveItLink\" href=\"__pv_it/6b085089c20090840d052459f8893dc577d9cac10/expr.ipynb\"><img src=\"__pv_it/6b085089c20090840d052459f8893dc577d9cac10/expr.png\" style=\"display:inline;vertical-align:middle;\" /></a></span></td></tr>\n",
       "<tr><td>5</td><td>assumption</td><td></td><td><span style=\"font-size:20px;\"><a class=\"ProveItLink\" href=\"__pv_it/2b397a206fb82d71f2761db12bdc37b0a3e181fb0/expr.ipynb\"><img src=\"__pv_it/2b397a206fb82d71f2761db12bdc37b0a3e181fb0/expr.png\" style=\"display:inline;vertical-align:middle;\" /></a> &#x22A2;&nbsp;<a class=\"ProveItLink\" href=\"__pv_it/331937d6d92fa85ce5f21643895017d27da16a970/expr.ipynb\"><img src=\"__pv_it/331937d6d92fa85ce5f21643895017d27da16a970/expr.png\" style=\"display:inline;vertical-align:middle;\" /></a></span></td></tr>\n",
       "<tr><td>6</td><td>assumption</td><td></td><td><span style=\"font-size:20px;\"><a class=\"ProveItLink\" href=\"__pv_it/4ae5a2d50b488dffa8d8e9314f0e0649390514520/expr.ipynb\"><img src=\"__pv_it/4ae5a2d50b488dffa8d8e9314f0e0649390514520/expr.png\" style=\"display:inline;vertical-align:middle;\" /></a> &#x22A2;&nbsp;<a class=\"ProveItLink\" href=\"__pv_it/318ec56dfe326b491d8f5311d25e366580d46fdd0/expr.ipynb\"><img src=\"__pv_it/318ec56dfe326b491d8f5311d25e366580d46fdd0/expr.png\" style=\"display:inline;vertical-align:middle;\" /></a></span></td></tr>\n",
       "</table>"
      ],
      "text/plain": [
       "\tstep type\trequirements\tstatement\n",
       "0\tspecialization\t1, 2, 3, 4, 5, 6\t{A or B , B in BOOLEANS , A => C , B => C , A in BOOLEANS} |- C\n",
       "\tA : A, B : B, C : C\n",
       "1\ttheorem\t\t|- forall_{A, B in BOOLEANS | A or B} [forall_{C | A => C , B => C} C]\n",
       "\tproveit.logic.boolean.disjunction.singularConstructiveDilemma\n",
       "2\tassumption\t\t{A in BOOLEANS} |- A in BOOLEANS\n",
       "3\tassumption\t\t{B in BOOLEANS} |- B in BOOLEANS\n",
       "4\tassumption\t\t{A or B} |- A or B\n",
       "5\tassumption\t\t{A => C} |- A => C\n",
       "6\tassumption\t\t{B => C} |- B => C"
      ]
     },
     "execution_count": 20,
     "metadata": {},
     "output_type": "execute_result"
    }
   ],
   "source": [
    "Or(A,B).deriveViaDilemma(C,assumptions=[Or(A,B),inBool(B),Implies(A,C), Implies(B,C), inBool(A), Implies(A,Or(C,D)), Implies(B, Or(C,D))]).proof()"
   ]
  },
  {
   "cell_type": "code",
   "execution_count": 21,
   "metadata": {},
   "outputs": [
    {
     "data": {
      "text/html": [
       "<table><tr><th>&nbsp;</th><th>step type</th><th>requirements</th><th>statement</th></tr>\n",
       "<tr><td>0</td><td>specialization</td><td>1, 2, 3, 4, 5, 6, 7, 8</td><td><span style=\"font-size:20px;\"><a class=\"ProveItLink\" href=\"__pv_it/96d0e3f72c3cc626b5b7a7acaa630526c8c114ce0/expr.ipynb\"><img src=\"__pv_it/96d0e3f72c3cc626b5b7a7acaa630526c8c114ce0/expr.png\" style=\"display:inline;vertical-align:middle;\" /></a> &#x22A2;&nbsp;<a class=\"ProveItLink\" href=\"../../../__pv_it/9995c55100c62d7d8a012a35bafc852acbe03cf00/expr.ipynb\"><img src=\"../../../__pv_it/9995c55100c62d7d8a012a35bafc852acbe03cf00/expr.png\" style=\"display:inline;vertical-align:middle;\" /></a></span></td></tr>\n",
       "<tr><td>&nbsp;</td><td colspan=4 style=\"text-align:left\"><span style=\"font-size:20px;\"><a class=\"ProveItLink\" href=\"../../../__pv_it/78af03acba5349fd70398a32ce59bae1da52f0870/expr.ipynb\"><img src=\"../../../__pv_it/78af03acba5349fd70398a32ce59bae1da52f0870/expr.png\" style=\"display:inline;vertical-align:middle;\" /></a> : <a class=\"ProveItLink\" href=\"../../../number/numeral/__pv_it/23412ce59ea7e77353d2f9225e02248e73651ca00/expr.ipynb\"><img src=\"../../../number/numeral/__pv_it/23412ce59ea7e77353d2f9225e02248e73651ca00/expr.png\" style=\"display:inline;vertical-align:middle;\" /></a>, <a class=\"ProveItLink\" href=\"../../../__pv_it/eb438fefc4bd0ac977777d6dfd3e8a72dfbedbd50/expr.ipynb\"><img src=\"../../../__pv_it/eb438fefc4bd0ac977777d6dfd3e8a72dfbedbd50/expr.png\" style=\"display:inline;vertical-align:middle;\" /></a> : <a class=\"ProveItLink\" href=\"__pv_it/ba51a0fc910408dc1211c29b03a29f7cec842b550/expr.ipynb\"><img src=\"__pv_it/ba51a0fc910408dc1211c29b03a29f7cec842b550/expr.png\" style=\"display:inline;vertical-align:middle;\" /></a>, <a class=\"ProveItLink\" href=\"../../../__pv_it/985a1bdf1540838275dec15f4ad6de261cca93ce0/expr.ipynb\"><img src=\"../../../__pv_it/985a1bdf1540838275dec15f4ad6de261cca93ce0/expr.png\" style=\"display:inline;vertical-align:middle;\" /></a> : <a class=\"ProveItLink\" href=\"../../../__pv_it/9995c55100c62d7d8a012a35bafc852acbe03cf00/expr.ipynb\"><img src=\"../../../__pv_it/9995c55100c62d7d8a012a35bafc852acbe03cf00/expr.png\" style=\"display:inline;vertical-align:middle;\" /></a></span></td></tr><tr><td>1</td><td>theorem</td><td></td><td><span style=\"font-size:20px;\"> &#x22A2;&nbsp;<a class=\"ProveItLink\" href=\"__pv_it/7558e00f56abef2a00d5062db9a0e7ac66911f340/expr.ipynb\"><img src=\"__pv_it/7558e00f56abef2a00d5062db9a0e7ac66911f340/expr.png\" style=\"display:inline;vertical-align:middle;\" /></a></span></td></tr>\n",
       "<tr><td>&nbsp;</td><td colspan=4 style-\"text-align:left\"><a class=\"ProveItLink\" href=\"_proofs_/singularConstructiveMultiDilemma.ipynb\">proveit.logic.boolean.disjunction.singularConstructiveMultiDilemma</a></td></tr><tr><td>2</td><td>theorem</td><td></td><td><span style=\"font-size:20px;\"> &#x22A2;&nbsp;<a class=\"ProveItLink\" href=\"../../../number/numeral/deci/__pv_it/3fc93db3b3fd1b15204240d9de18a48656bfb08c0/expr.ipynb\"><img src=\"../../../number/numeral/deci/__pv_it/3fc93db3b3fd1b15204240d9de18a48656bfb08c0/expr.png\" style=\"display:inline;vertical-align:middle;\" /></a></span></td></tr>\n",
       "<tr><td>&nbsp;</td><td colspan=4 style-\"text-align:left\"><a class=\"ProveItLink\" href=\"../../../number/numeral/deci/_proofs_/nat4.ipynb\">proveit.number.numeral.deci.nat4</a></td></tr><tr><td>3</td><td>specialization</td><td>9, 10, 11, 12, 13</td><td><span style=\"font-size:20px;\"><a class=\"ProveItLink\" href=\"__pv_it/f28f9b812246a6c4975e6f67667fe62b1fba502a0/expr.ipynb\"><img src=\"__pv_it/f28f9b812246a6c4975e6f67667fe62b1fba502a0/expr.png\" style=\"display:inline;vertical-align:middle;\" /></a> &#x22A2;&nbsp;<a class=\"ProveItLink\" href=\"__pv_it/c7afd1ead8211492267b3cefac34659a98e80ce80/expr.ipynb\"><img src=\"__pv_it/c7afd1ead8211492267b3cefac34659a98e80ce80/expr.png\" style=\"display:inline;vertical-align:middle;\" /></a></span></td></tr>\n",
       "<tr><td>&nbsp;</td><td colspan=4 style=\"text-align:left\"><span style=\"font-size:20px;\"><a class=\"ProveItLink\" href=\"../../../__pv_it/abeee18594afe51bfb1be95d9591fbba24ac53f30/expr.ipynb\"><img src=\"../../../__pv_it/abeee18594afe51bfb1be95d9591fbba24ac53f30/expr.png\" style=\"display:inline;vertical-align:middle;\" /></a> : <a class=\"ProveItLink\" href=\"../__pv_it/46271c8230be96415d662709611f4ed2279d702b0/expr.ipynb\"><img src=\"../__pv_it/46271c8230be96415d662709611f4ed2279d702b0/expr.png\" style=\"display:inline;vertical-align:middle;\" /></a>, <a class=\"ProveItLink\" href=\"../../../__pv_it/07527342713064c87612d00d8557c53d53d5324a0/expr.ipynb\"><img src=\"../../../__pv_it/07527342713064c87612d00d8557c53d53d5324a0/expr.png\" style=\"display:inline;vertical-align:middle;\" /></a> : <a class=\"ProveItLink\" href=\"../../../__pv_it/2cbe72a7ad6f655694dd697106680215e8489b600/expr.ipynb\"><img src=\"../../../__pv_it/2cbe72a7ad6f655694dd697106680215e8489b600/expr.png\" style=\"display:inline;vertical-align:middle;\" /></a>, <a class=\"ProveItLink\" href=\"../../../__pv_it/6840a4fa6c106149dc16a131294d0c5e44f1b0480/expr.ipynb\"><img src=\"../../../__pv_it/6840a4fa6c106149dc16a131294d0c5e44f1b0480/expr.png\" style=\"display:inline;vertical-align:middle;\" /></a> : <a class=\"ProveItLink\" href=\"../../../__pv_it/077b2ff79244fb4582cbe22c6e3356fa92a52f2f0/expr.ipynb\"><img src=\"../../../__pv_it/077b2ff79244fb4582cbe22c6e3356fa92a52f2f0/expr.png\" style=\"display:inline;vertical-align:middle;\" /></a>, <a class=\"ProveItLink\" href=\"../../../__pv_it/cbdfda466482236edba0ce44ac7ef39cda0af7a40/expr.ipynb\"><img src=\"../../../__pv_it/cbdfda466482236edba0ce44ac7ef39cda0af7a40/expr.png\" style=\"display:inline;vertical-align:middle;\" /></a> : <a class=\"ProveItLink\" href=\"../../../__pv_it/985a1bdf1540838275dec15f4ad6de261cca93ce0/expr.ipynb\"><img src=\"../../../__pv_it/985a1bdf1540838275dec15f4ad6de261cca93ce0/expr.png\" style=\"display:inline;vertical-align:middle;\" /></a>, <a class=\"ProveItLink\" href=\"../../../__pv_it/3a5de44ed6135dbbdbbeec6704c741e238f127300/expr.ipynb\"><img src=\"../../../__pv_it/3a5de44ed6135dbbdbbeec6704c741e238f127300/expr.png\" style=\"display:inline;vertical-align:middle;\" /></a> : <a class=\"ProveItLink\" href=\"../../../__pv_it/185e6d30f167ee2ee5ef3321098dc98e0d77bc590/expr.ipynb\"><img src=\"../../../__pv_it/185e6d30f167ee2ee5ef3321098dc98e0d77bc590/expr.png\" style=\"display:inline;vertical-align:middle;\" /></a></span></td></tr><tr><td>4</td><td>assumption</td><td></td><td><span style=\"font-size:20px;\"><a class=\"ProveItLink\" href=\"__pv_it/7f1e58f28ce6d4b84e42c8b7021d4eaa1ac454cc0/expr.ipynb\"><img src=\"__pv_it/7f1e58f28ce6d4b84e42c8b7021d4eaa1ac454cc0/expr.png\" style=\"display:inline;vertical-align:middle;\" /></a> &#x22A2;&nbsp;<a class=\"ProveItLink\" href=\"__pv_it/081f8b676821fa28f4eee7c26e5e1e191452a5b80/expr.ipynb\"><img src=\"__pv_it/081f8b676821fa28f4eee7c26e5e1e191452a5b80/expr.png\" style=\"display:inline;vertical-align:middle;\" /></a></span></td></tr>\n",
       "<tr><td>5</td><td>assumption</td><td></td><td><span style=\"font-size:20px;\"><a class=\"ProveItLink\" href=\"__pv_it/092cfc54d11619a13db76103022e2be3c53c47e10/expr.ipynb\"><img src=\"__pv_it/092cfc54d11619a13db76103022e2be3c53c47e10/expr.png\" style=\"display:inline;vertical-align:middle;\" /></a> &#x22A2;&nbsp;<a class=\"ProveItLink\" href=\"__pv_it/e46c21c5850ad1c89de01c53fc007c67122a6abc0/expr.ipynb\"><img src=\"__pv_it/e46c21c5850ad1c89de01c53fc007c67122a6abc0/expr.png\" style=\"display:inline;vertical-align:middle;\" /></a></span></td></tr>\n",
       "<tr><td>6</td><td>assumption</td><td></td><td><span style=\"font-size:20px;\"><a class=\"ProveItLink\" href=\"__pv_it/aa9151bc46c1b1d67ed939e4aacea04fe8b25e1a0/expr.ipynb\"><img src=\"__pv_it/aa9151bc46c1b1d67ed939e4aacea04fe8b25e1a0/expr.png\" style=\"display:inline;vertical-align:middle;\" /></a> &#x22A2;&nbsp;<a class=\"ProveItLink\" href=\"__pv_it/68cbc9d7efbd6cb5d1f8c321d3cff22dee5cab6f0/expr.ipynb\"><img src=\"__pv_it/68cbc9d7efbd6cb5d1f8c321d3cff22dee5cab6f0/expr.png\" style=\"display:inline;vertical-align:middle;\" /></a></span></td></tr>\n",
       "<tr><td>7</td><td>assumption</td><td></td><td><span style=\"font-size:20px;\"><a class=\"ProveItLink\" href=\"__pv_it/969fe72d6a0964787caed093b86849020dbfce970/expr.ipynb\"><img src=\"__pv_it/969fe72d6a0964787caed093b86849020dbfce970/expr.png\" style=\"display:inline;vertical-align:middle;\" /></a> &#x22A2;&nbsp;<a class=\"ProveItLink\" href=\"__pv_it/accb5874dce95efc2977f4606c68247b8209828d0/expr.ipynb\"><img src=\"__pv_it/accb5874dce95efc2977f4606c68247b8209828d0/expr.png\" style=\"display:inline;vertical-align:middle;\" /></a></span></td></tr>\n",
       "<tr><td>8</td><td>assumption</td><td></td><td><span style=\"font-size:20px;\"><a class=\"ProveItLink\" href=\"__pv_it/762ac0ab6cf8f3593ca3d19897de6c780f5be0e30/expr.ipynb\"><img src=\"__pv_it/762ac0ab6cf8f3593ca3d19897de6c780f5be0e30/expr.png\" style=\"display:inline;vertical-align:middle;\" /></a> &#x22A2;&nbsp;<a class=\"ProveItLink\" href=\"__pv_it/3501a403174b2bb52ef9fd9e2ef91c152a781e360/expr.ipynb\"><img src=\"__pv_it/3501a403174b2bb52ef9fd9e2ef91c152a781e360/expr.png\" style=\"display:inline;vertical-align:middle;\" /></a></span></td></tr>\n",
       "<tr><td>9</td><td>theorem</td><td></td><td><span style=\"font-size:20px;\"> &#x22A2;&nbsp;<a class=\"ProveItLink\" href=\"../../set_theory/membership/__pv_it/f8871096ab31a54eeeb7d5201addc96bdbcd44530/expr.ipynb\"><img src=\"../../set_theory/membership/__pv_it/f8871096ab31a54eeeb7d5201addc96bdbcd44530/expr.png\" style=\"display:inline;vertical-align:middle;\" /></a></span></td></tr>\n",
       "<tr><td>&nbsp;</td><td colspan=4 style-\"text-align:left\"><a class=\"ProveItLink\" href=\"../../set_theory/membership/_proofs_/exp_set_4.ipynb\">proveit.logic.set_theory.membership.exp_set_4</a></td></tr><tr><td>10</td><td>assumption</td><td></td><td><span style=\"font-size:20px;\"><a class=\"ProveItLink\" href=\"__pv_it/017ca8cfa034181c90ba15dd10869f0f4e516d6a0/expr.ipynb\"><img src=\"__pv_it/017ca8cfa034181c90ba15dd10869f0f4e516d6a0/expr.png\" style=\"display:inline;vertical-align:middle;\" /></a> &#x22A2;&nbsp;<a class=\"ProveItLink\" href=\"__pv_it/03a5c2b5cc6fc2c3cd686b4bcf84379b893abe210/expr.ipynb\"><img src=\"__pv_it/03a5c2b5cc6fc2c3cd686b4bcf84379b893abe210/expr.png\" style=\"display:inline;vertical-align:middle;\" /></a></span></td></tr>\n",
       "<tr><td>11</td><td>assumption</td><td></td><td><span style=\"font-size:20px;\"><a class=\"ProveItLink\" href=\"__pv_it/2c2e947402f53b9e11cd7769e1b5b3378595750e0/expr.ipynb\"><img src=\"__pv_it/2c2e947402f53b9e11cd7769e1b5b3378595750e0/expr.png\" style=\"display:inline;vertical-align:middle;\" /></a> &#x22A2;&nbsp;<a class=\"ProveItLink\" href=\"__pv_it/fe5c91c77f0659f9ea07a2e3257797875d6868370/expr.ipynb\"><img src=\"__pv_it/fe5c91c77f0659f9ea07a2e3257797875d6868370/expr.png\" style=\"display:inline;vertical-align:middle;\" /></a></span></td></tr>\n",
       "<tr><td>12</td><td>assumption</td><td></td><td><span style=\"font-size:20px;\"><a class=\"ProveItLink\" href=\"__pv_it/549ecf82a9d4ac5ca0750c6c3aaf83e6e7209ca90/expr.ipynb\"><img src=\"__pv_it/549ecf82a9d4ac5ca0750c6c3aaf83e6e7209ca90/expr.png\" style=\"display:inline;vertical-align:middle;\" /></a> &#x22A2;&nbsp;<a class=\"ProveItLink\" href=\"__pv_it/2cec3c732aceb253233bb533d4e43cc3f34f4f660/expr.ipynb\"><img src=\"__pv_it/2cec3c732aceb253233bb533d4e43cc3f34f4f660/expr.png\" style=\"display:inline;vertical-align:middle;\" /></a></span></td></tr>\n",
       "<tr><td>13</td><td>assumption</td><td></td><td><span style=\"font-size:20px;\"><a class=\"ProveItLink\" href=\"__pv_it/aa3618fdfba9edc866f19a2dbc2f7cde292ff1c70/expr.ipynb\"><img src=\"__pv_it/aa3618fdfba9edc866f19a2dbc2f7cde292ff1c70/expr.png\" style=\"display:inline;vertical-align:middle;\" /></a> &#x22A2;&nbsp;<a class=\"ProveItLink\" href=\"__pv_it/3891b823dfb55f51d513cc7144556dc1bfd425b70/expr.ipynb\"><img src=\"__pv_it/3891b823dfb55f51d513cc7144556dc1bfd425b70/expr.png\" style=\"display:inline;vertical-align:middle;\" /></a></span></td></tr>\n",
       "</table>"
      ],
      "text/plain": [
       "\tstep type\trequirements\tstatement\n",
       "0\tspecialization\t1, 2, 3, 4, 5, 6, 7, 8\t{A or B or C or D , A => E , B => E , C => E , D => E , A in BOOLEANS , B in BOOLEANS , C in BOOLEANS , D in BOOLEANS} |- E\n",
       "\tm : 4, A : (A , B , C , D), C : E\n",
       "1\ttheorem\t\t|- forall_{m in Naturals} [forall_{A in BOOLEANS^{m} | A_1 or  ...  or A_m} [forall_{C | A_1 => C ,  ...  , A_m => C} C]]\n",
       "\tproveit.logic.boolean.disjunction.singularConstructiveMultiDilemma\n",
       "2\ttheorem\t\t|- 4 in Naturals\n",
       "\tproveit.number.numeral.deci.nat4\n",
       "3\tspecialization\t9, 10, 11, 12, 13\t{A in BOOLEANS , B in BOOLEANS , C in BOOLEANS , D in BOOLEANS} |- (A , B , C , D) in BOOLEANS^{4}\n",
       "\tS : BOOLEANS, a : A, b : B, c : C, d : D\n",
       "4\tassumption\t\t{A or B or C or D} |- A or B or C or D\n",
       "5\tassumption\t\t{A => E} |- A => E\n",
       "6\tassumption\t\t{B => E} |- B => E\n",
       "7\tassumption\t\t{C => E} |- C => E\n",
       "8\tassumption\t\t{D => E} |- D => E\n",
       "9\ttheorem\t\t|- forall_{S} [forall_{a, b, c, d in S} ((a , b , c , d) in S^{4})]\n",
       "\tproveit.logic.set_theory.membership.exp_set_4\n",
       "10\tassumption\t\t{A in BOOLEANS} |- A in BOOLEANS\n",
       "11\tassumption\t\t{B in BOOLEANS} |- B in BOOLEANS\n",
       "12\tassumption\t\t{C in BOOLEANS} |- C in BOOLEANS\n",
       "13\tassumption\t\t{D in BOOLEANS} |- D in BOOLEANS"
      ]
     },
     "execution_count": 21,
     "metadata": {},
     "output_type": "execute_result"
    }
   ],
   "source": [
    "Or(A,B,C,D).deriveViaDilemma(E,[Or(A,B,C,D),Implies(A,E), Implies(B,E), Implies(C,E), Implies(D,E), inBool(A) ,inBool(B),inBool(C),inBool(D)]).proof()"
   ]
  },
  {
   "cell_type": "code",
   "execution_count": 22,
   "metadata": {},
   "outputs": [
    {
     "data": {
      "text/html": [
       "<table><tr><th>&nbsp;</th><th>step type</th><th>requirements</th><th>statement</th></tr>\n",
       "<tr><td>0</td><td>specialization</td><td>1, 2, 3, 4</td><td><span style=\"font-size:20px;\"><a class=\"ProveItLink\" href=\"__pv_it/667e4403ca69a6ed831796ef0d4d708e18de0c7b0/expr.ipynb\"><img src=\"__pv_it/667e4403ca69a6ed831796ef0d4d708e18de0c7b0/expr.png\" style=\"display:inline;vertical-align:middle;\" /></a> &#x22A2;&nbsp;<a class=\"ProveItLink\" href=\"__pv_it/6b085089c20090840d052459f8893dc577d9cac10/expr.ipynb\"><img src=\"__pv_it/6b085089c20090840d052459f8893dc577d9cac10/expr.png\" style=\"display:inline;vertical-align:middle;\" /></a></span></td></tr>\n",
       "<tr><td>&nbsp;</td><td colspan=4 style=\"text-align:left\"><span style=\"font-size:20px;\"><a class=\"ProveItLink\" href=\"../../../__pv_it/2cbe72a7ad6f655694dd697106680215e8489b600/expr.ipynb\"><img src=\"../../../__pv_it/2cbe72a7ad6f655694dd697106680215e8489b600/expr.png\" style=\"display:inline;vertical-align:middle;\" /></a> : <a class=\"ProveItLink\" href=\"../../../__pv_it/2cbe72a7ad6f655694dd697106680215e8489b600/expr.ipynb\"><img src=\"../../../__pv_it/2cbe72a7ad6f655694dd697106680215e8489b600/expr.png\" style=\"display:inline;vertical-align:middle;\" /></a>, <a class=\"ProveItLink\" href=\"../../../__pv_it/077b2ff79244fb4582cbe22c6e3356fa92a52f2f0/expr.ipynb\"><img src=\"../../../__pv_it/077b2ff79244fb4582cbe22c6e3356fa92a52f2f0/expr.png\" style=\"display:inline;vertical-align:middle;\" /></a> : <a class=\"ProveItLink\" href=\"../../../__pv_it/077b2ff79244fb4582cbe22c6e3356fa92a52f2f0/expr.ipynb\"><img src=\"../../../__pv_it/077b2ff79244fb4582cbe22c6e3356fa92a52f2f0/expr.png\" style=\"display:inline;vertical-align:middle;\" /></a></span></td></tr><tr><td>1</td><td>theorem</td><td></td><td><span style=\"font-size:20px;\"> &#x22A2;&nbsp;<a class=\"ProveItLink\" href=\"__pv_it/ee9b5e135f18feaeceacb6d1760a21f60f3575430/expr.ipynb\"><img src=\"__pv_it/ee9b5e135f18feaeceacb6d1760a21f60f3575430/expr.png\" style=\"display:inline;vertical-align:middle;\" /></a></span></td></tr>\n",
       "<tr><td>&nbsp;</td><td colspan=4 style-\"text-align:left\"><a class=\"ProveItLink\" href=\"_proofs_/orIfLeft.ipynb\">proveit.logic.boolean.disjunction.orIfLeft</a></td></tr><tr><td>2</td><td>assumption</td><td></td><td><span style=\"font-size:20px;\"><a class=\"ProveItLink\" href=\"__pv_it/017ca8cfa034181c90ba15dd10869f0f4e516d6a0/expr.ipynb\"><img src=\"__pv_it/017ca8cfa034181c90ba15dd10869f0f4e516d6a0/expr.png\" style=\"display:inline;vertical-align:middle;\" /></a> &#x22A2;&nbsp;<a class=\"ProveItLink\" href=\"__pv_it/03a5c2b5cc6fc2c3cd686b4bcf84379b893abe210/expr.ipynb\"><img src=\"__pv_it/03a5c2b5cc6fc2c3cd686b4bcf84379b893abe210/expr.png\" style=\"display:inline;vertical-align:middle;\" /></a></span></td></tr>\n",
       "<tr><td>3</td><td>assumption</td><td></td><td><span style=\"font-size:20px;\"><a class=\"ProveItLink\" href=\"__pv_it/158bdc91074824c720728a23dba5d58593c8cc480/expr.ipynb\"><img src=\"__pv_it/158bdc91074824c720728a23dba5d58593c8cc480/expr.png\" style=\"display:inline;vertical-align:middle;\" /></a> &#x22A2;&nbsp;<a class=\"ProveItLink\" href=\"../../../__pv_it/2cbe72a7ad6f655694dd697106680215e8489b600/expr.ipynb\"><img src=\"../../../__pv_it/2cbe72a7ad6f655694dd697106680215e8489b600/expr.png\" style=\"display:inline;vertical-align:middle;\" /></a></span></td></tr>\n",
       "<tr><td>4</td><td>assumption</td><td></td><td><span style=\"font-size:20px;\"><a class=\"ProveItLink\" href=\"__pv_it/2c2e947402f53b9e11cd7769e1b5b3378595750e0/expr.ipynb\"><img src=\"__pv_it/2c2e947402f53b9e11cd7769e1b5b3378595750e0/expr.png\" style=\"display:inline;vertical-align:middle;\" /></a> &#x22A2;&nbsp;<a class=\"ProveItLink\" href=\"__pv_it/fe5c91c77f0659f9ea07a2e3257797875d6868370/expr.ipynb\"><img src=\"__pv_it/fe5c91c77f0659f9ea07a2e3257797875d6868370/expr.png\" style=\"display:inline;vertical-align:middle;\" /></a></span></td></tr>\n",
       "</table>"
      ],
      "text/plain": [
       "\tstep type\trequirements\tstatement\n",
       "0\tspecialization\t1, 2, 3, 4\t{B in BOOLEANS , A , A in BOOLEANS} |- A or B\n",
       "\tA : A, B : B\n",
       "1\ttheorem\t\t|- forall_{A, B in BOOLEANS | A} (A or B)\n",
       "\tproveit.logic.boolean.disjunction.orIfLeft\n",
       "2\tassumption\t\t{A in BOOLEANS} |- A in BOOLEANS\n",
       "3\tassumption\t\t{A} |- A\n",
       "4\tassumption\t\t{B in BOOLEANS} |- B in BOOLEANS"
      ]
     },
     "execution_count": 22,
     "metadata": {},
     "output_type": "execute_result"
    }
   ],
   "source": [
    "Or(A,B).prove([inBool(B), A, inBool(A)]).proof()"
   ]
  },
  {
   "cell_type": "code",
   "execution_count": 23,
   "metadata": {},
   "outputs": [
    {
     "data": {
      "text/html": [
       "<table><tr><th>&nbsp;</th><th>step type</th><th>requirements</th><th>statement</th></tr>\n",
       "<tr><td>0</td><td>specialization</td><td>1, 2, 3, 4</td><td><span style=\"font-size:20px;\"><a class=\"ProveItLink\" href=\"__pv_it/80a929bb717736a575301bfb6e37d72fa7c4fba40/expr.ipynb\"><img src=\"__pv_it/80a929bb717736a575301bfb6e37d72fa7c4fba40/expr.png\" style=\"display:inline;vertical-align:middle;\" /></a> &#x22A2;&nbsp;<a class=\"ProveItLink\" href=\"__pv_it/6b085089c20090840d052459f8893dc577d9cac10/expr.ipynb\"><img src=\"__pv_it/6b085089c20090840d052459f8893dc577d9cac10/expr.png\" style=\"display:inline;vertical-align:middle;\" /></a></span></td></tr>\n",
       "<tr><td>&nbsp;</td><td colspan=4 style=\"text-align:left\"><span style=\"font-size:20px;\"><a class=\"ProveItLink\" href=\"../../../__pv_it/2cbe72a7ad6f655694dd697106680215e8489b600/expr.ipynb\"><img src=\"../../../__pv_it/2cbe72a7ad6f655694dd697106680215e8489b600/expr.png\" style=\"display:inline;vertical-align:middle;\" /></a> : <a class=\"ProveItLink\" href=\"../../../__pv_it/2cbe72a7ad6f655694dd697106680215e8489b600/expr.ipynb\"><img src=\"../../../__pv_it/2cbe72a7ad6f655694dd697106680215e8489b600/expr.png\" style=\"display:inline;vertical-align:middle;\" /></a>, <a class=\"ProveItLink\" href=\"../../../__pv_it/077b2ff79244fb4582cbe22c6e3356fa92a52f2f0/expr.ipynb\"><img src=\"../../../__pv_it/077b2ff79244fb4582cbe22c6e3356fa92a52f2f0/expr.png\" style=\"display:inline;vertical-align:middle;\" /></a> : <a class=\"ProveItLink\" href=\"../../../__pv_it/077b2ff79244fb4582cbe22c6e3356fa92a52f2f0/expr.ipynb\"><img src=\"../../../__pv_it/077b2ff79244fb4582cbe22c6e3356fa92a52f2f0/expr.png\" style=\"display:inline;vertical-align:middle;\" /></a></span></td></tr><tr><td>1</td><td>theorem</td><td></td><td><span style=\"font-size:20px;\"> &#x22A2;&nbsp;<a class=\"ProveItLink\" href=\"__pv_it/244c12503c36805689e898ad6458e87c518cd09d0/expr.ipynb\"><img src=\"__pv_it/244c12503c36805689e898ad6458e87c518cd09d0/expr.png\" style=\"display:inline;vertical-align:middle;\" /></a></span></td></tr>\n",
       "<tr><td>&nbsp;</td><td colspan=4 style-\"text-align:left\"><a class=\"ProveItLink\" href=\"_proofs_/orIfRight.ipynb\">proveit.logic.boolean.disjunction.orIfRight</a></td></tr><tr><td>2</td><td>assumption</td><td></td><td><span style=\"font-size:20px;\"><a class=\"ProveItLink\" href=\"__pv_it/017ca8cfa034181c90ba15dd10869f0f4e516d6a0/expr.ipynb\"><img src=\"__pv_it/017ca8cfa034181c90ba15dd10869f0f4e516d6a0/expr.png\" style=\"display:inline;vertical-align:middle;\" /></a> &#x22A2;&nbsp;<a class=\"ProveItLink\" href=\"__pv_it/03a5c2b5cc6fc2c3cd686b4bcf84379b893abe210/expr.ipynb\"><img src=\"__pv_it/03a5c2b5cc6fc2c3cd686b4bcf84379b893abe210/expr.png\" style=\"display:inline;vertical-align:middle;\" /></a></span></td></tr>\n",
       "<tr><td>3</td><td>assumption</td><td></td><td><span style=\"font-size:20px;\"><a class=\"ProveItLink\" href=\"__pv_it/2c2e947402f53b9e11cd7769e1b5b3378595750e0/expr.ipynb\"><img src=\"__pv_it/2c2e947402f53b9e11cd7769e1b5b3378595750e0/expr.png\" style=\"display:inline;vertical-align:middle;\" /></a> &#x22A2;&nbsp;<a class=\"ProveItLink\" href=\"__pv_it/fe5c91c77f0659f9ea07a2e3257797875d6868370/expr.ipynb\"><img src=\"__pv_it/fe5c91c77f0659f9ea07a2e3257797875d6868370/expr.png\" style=\"display:inline;vertical-align:middle;\" /></a></span></td></tr>\n",
       "<tr><td>4</td><td>assumption</td><td></td><td><span style=\"font-size:20px;\"><a class=\"ProveItLink\" href=\"__pv_it/1612ee39be24e00576045a5f0471ba42a9eab2970/expr.ipynb\"><img src=\"__pv_it/1612ee39be24e00576045a5f0471ba42a9eab2970/expr.png\" style=\"display:inline;vertical-align:middle;\" /></a> &#x22A2;&nbsp;<a class=\"ProveItLink\" href=\"../../../__pv_it/077b2ff79244fb4582cbe22c6e3356fa92a52f2f0/expr.ipynb\"><img src=\"../../../__pv_it/077b2ff79244fb4582cbe22c6e3356fa92a52f2f0/expr.png\" style=\"display:inline;vertical-align:middle;\" /></a></span></td></tr>\n",
       "</table>"
      ],
      "text/plain": [
       "\tstep type\trequirements\tstatement\n",
       "0\tspecialization\t1, 2, 3, 4\t{A in BOOLEANS , B in BOOLEANS , B} |- A or B\n",
       "\tA : A, B : B\n",
       "1\ttheorem\t\t|- forall_{A, B in BOOLEANS | B} (A or B)\n",
       "\tproveit.logic.boolean.disjunction.orIfRight\n",
       "2\tassumption\t\t{A in BOOLEANS} |- A in BOOLEANS\n",
       "3\tassumption\t\t{B in BOOLEANS} |- B in BOOLEANS\n",
       "4\tassumption\t\t{B} |- B"
      ]
     },
     "execution_count": 23,
     "metadata": {},
     "output_type": "execute_result"
    }
   ],
   "source": [
    "Or(A,B).prove([inBool(A), inBool(B), B]).proof()"
   ]
  },
  {
   "cell_type": "code",
   "execution_count": 24,
   "metadata": {},
   "outputs": [
    {
     "data": {
      "text/html": [
       "<table><tr><th>&nbsp;</th><th>step type</th><th>requirements</th><th>statement</th></tr>\n",
       "<tr><td>0</td><td>specialization</td><td>1, 2, 3, 4, 5, 6</td><td><span style=\"font-size:20px;\"><a class=\"ProveItLink\" href=\"__pv_it/d4ad7e6270ac452a0b167c6a603d9faf26fb95980/expr.ipynb\"><img src=\"__pv_it/d4ad7e6270ac452a0b167c6a603d9faf26fb95980/expr.png\" style=\"display:inline;vertical-align:middle;\" /></a> &#x22A2;&nbsp;<a class=\"ProveItLink\" href=\"__pv_it/bd6d77593d1e187393d64efc406f8f8defc003e70/expr.ipynb\"><img src=\"__pv_it/bd6d77593d1e187393d64efc406f8f8defc003e70/expr.png\" style=\"display:inline;vertical-align:middle;\" /></a></span></td></tr>\n",
       "<tr><td>&nbsp;</td><td colspan=4 style=\"text-align:left\"><span style=\"font-size:20px;\"><a class=\"ProveItLink\" href=\"../../../__pv_it/2cbe72a7ad6f655694dd697106680215e8489b600/expr.ipynb\"><img src=\"../../../__pv_it/2cbe72a7ad6f655694dd697106680215e8489b600/expr.png\" style=\"display:inline;vertical-align:middle;\" /></a> : <a class=\"ProveItLink\" href=\"../../../__pv_it/985a1bdf1540838275dec15f4ad6de261cca93ce0/expr.ipynb\"><img src=\"../../../__pv_it/985a1bdf1540838275dec15f4ad6de261cca93ce0/expr.png\" style=\"display:inline;vertical-align:middle;\" /></a>, <a class=\"ProveItLink\" href=\"../../../__pv_it/077b2ff79244fb4582cbe22c6e3356fa92a52f2f0/expr.ipynb\"><img src=\"../../../__pv_it/077b2ff79244fb4582cbe22c6e3356fa92a52f2f0/expr.png\" style=\"display:inline;vertical-align:middle;\" /></a> : <a class=\"ProveItLink\" href=\"../../../__pv_it/185e6d30f167ee2ee5ef3321098dc98e0d77bc590/expr.ipynb\"><img src=\"../../../__pv_it/185e6d30f167ee2ee5ef3321098dc98e0d77bc590/expr.png\" style=\"display:inline;vertical-align:middle;\" /></a>, <a class=\"ProveItLink\" href=\"../../../__pv_it/985a1bdf1540838275dec15f4ad6de261cca93ce0/expr.ipynb\"><img src=\"../../../__pv_it/985a1bdf1540838275dec15f4ad6de261cca93ce0/expr.png\" style=\"display:inline;vertical-align:middle;\" /></a> : <a class=\"ProveItLink\" href=\"../../../__pv_it/985a1bdf1540838275dec15f4ad6de261cca93ce0/expr.ipynb\"><img src=\"../../../__pv_it/985a1bdf1540838275dec15f4ad6de261cca93ce0/expr.png\" style=\"display:inline;vertical-align:middle;\" /></a>, <a class=\"ProveItLink\" href=\"../../../__pv_it/185e6d30f167ee2ee5ef3321098dc98e0d77bc590/expr.ipynb\"><img src=\"../../../__pv_it/185e6d30f167ee2ee5ef3321098dc98e0d77bc590/expr.png\" style=\"display:inline;vertical-align:middle;\" /></a> : <a class=\"ProveItLink\" href=\"../../../__pv_it/185e6d30f167ee2ee5ef3321098dc98e0d77bc590/expr.ipynb\"><img src=\"../../../__pv_it/185e6d30f167ee2ee5ef3321098dc98e0d77bc590/expr.png\" style=\"display:inline;vertical-align:middle;\" /></a></span></td></tr><tr><td>1</td><td>theorem</td><td></td><td><span style=\"font-size:20px;\"> &#x22A2;&nbsp;<a class=\"ProveItLink\" href=\"__pv_it/8931a5ce5cb5c22a7cd0723cd5f9afa3d54cac3e0/expr.ipynb\"><img src=\"__pv_it/8931a5ce5cb5c22a7cd0723cd5f9afa3d54cac3e0/expr.png\" style=\"display:inline;vertical-align:middle;\" /></a></span></td></tr>\n",
       "<tr><td>&nbsp;</td><td colspan=4 style-\"text-align:left\"><a class=\"ProveItLink\" href=\"_proofs_/constructiveDilemma.ipynb\">proveit.logic.boolean.disjunction.constructiveDilemma</a></td></tr><tr><td>2</td><td>assumption</td><td></td><td><span style=\"font-size:20px;\"><a class=\"ProveItLink\" href=\"__pv_it/549ecf82a9d4ac5ca0750c6c3aaf83e6e7209ca90/expr.ipynb\"><img src=\"__pv_it/549ecf82a9d4ac5ca0750c6c3aaf83e6e7209ca90/expr.png\" style=\"display:inline;vertical-align:middle;\" /></a> &#x22A2;&nbsp;<a class=\"ProveItLink\" href=\"__pv_it/2cec3c732aceb253233bb533d4e43cc3f34f4f660/expr.ipynb\"><img src=\"__pv_it/2cec3c732aceb253233bb533d4e43cc3f34f4f660/expr.png\" style=\"display:inline;vertical-align:middle;\" /></a></span></td></tr>\n",
       "<tr><td>3</td><td>assumption</td><td></td><td><span style=\"font-size:20px;\"><a class=\"ProveItLink\" href=\"__pv_it/aa3618fdfba9edc866f19a2dbc2f7cde292ff1c70/expr.ipynb\"><img src=\"__pv_it/aa3618fdfba9edc866f19a2dbc2f7cde292ff1c70/expr.png\" style=\"display:inline;vertical-align:middle;\" /></a> &#x22A2;&nbsp;<a class=\"ProveItLink\" href=\"__pv_it/3891b823dfb55f51d513cc7144556dc1bfd425b70/expr.ipynb\"><img src=\"__pv_it/3891b823dfb55f51d513cc7144556dc1bfd425b70/expr.png\" style=\"display:inline;vertical-align:middle;\" /></a></span></td></tr>\n",
       "<tr><td>4</td><td>assumption</td><td></td><td><span style=\"font-size:20px;\"><a class=\"ProveItLink\" href=\"__pv_it/7dd66ea32e244264adff1035788172080e073dab0/expr.ipynb\"><img src=\"__pv_it/7dd66ea32e244264adff1035788172080e073dab0/expr.png\" style=\"display:inline;vertical-align:middle;\" /></a> &#x22A2;&nbsp;<a class=\"ProveItLink\" href=\"__pv_it/bd6d77593d1e187393d64efc406f8f8defc003e70/expr.ipynb\"><img src=\"__pv_it/bd6d77593d1e187393d64efc406f8f8defc003e70/expr.png\" style=\"display:inline;vertical-align:middle;\" /></a></span></td></tr>\n",
       "<tr><td>5</td><td>specialization</td><td>7</td><td><span style=\"font-size:20px;\"> &#x22A2;&nbsp;<a class=\"ProveItLink\" href=\"__pv_it/8f92a3f1071f2af7a31d6dddd8ee112f148890a90/expr.ipynb\"><img src=\"__pv_it/8f92a3f1071f2af7a31d6dddd8ee112f148890a90/expr.png\" style=\"display:inline;vertical-align:middle;\" /></a></span></td></tr>\n",
       "<tr><td>&nbsp;</td><td colspan=4 style=\"text-align:left\"><span style=\"font-size:20px;\"><a class=\"ProveItLink\" href=\"../../../__pv_it/2cbe72a7ad6f655694dd697106680215e8489b600/expr.ipynb\"><img src=\"../../../__pv_it/2cbe72a7ad6f655694dd697106680215e8489b600/expr.png\" style=\"display:inline;vertical-align:middle;\" /></a> : <a class=\"ProveItLink\" href=\"../../../__pv_it/985a1bdf1540838275dec15f4ad6de261cca93ce0/expr.ipynb\"><img src=\"../../../__pv_it/985a1bdf1540838275dec15f4ad6de261cca93ce0/expr.png\" style=\"display:inline;vertical-align:middle;\" /></a></span></td></tr><tr><td>6</td><td>specialization</td><td>7</td><td><span style=\"font-size:20px;\"> &#x22A2;&nbsp;<a class=\"ProveItLink\" href=\"__pv_it/fd56f25392aa6fcef8e1b907a6e9868e00af4da60/expr.ipynb\"><img src=\"__pv_it/fd56f25392aa6fcef8e1b907a6e9868e00af4da60/expr.png\" style=\"display:inline;vertical-align:middle;\" /></a></span></td></tr>\n",
       "<tr><td>&nbsp;</td><td colspan=4 style=\"text-align:left\"><span style=\"font-size:20px;\"><a class=\"ProveItLink\" href=\"../../../__pv_it/2cbe72a7ad6f655694dd697106680215e8489b600/expr.ipynb\"><img src=\"../../../__pv_it/2cbe72a7ad6f655694dd697106680215e8489b600/expr.png\" style=\"display:inline;vertical-align:middle;\" /></a> : <a class=\"ProveItLink\" href=\"../../../__pv_it/185e6d30f167ee2ee5ef3321098dc98e0d77bc590/expr.ipynb\"><img src=\"../../../__pv_it/185e6d30f167ee2ee5ef3321098dc98e0d77bc590/expr.png\" style=\"display:inline;vertical-align:middle;\" /></a></span></td></tr><tr><td>7</td><td>theorem</td><td></td><td><span style=\"font-size:20px;\"> &#x22A2;&nbsp;<a class=\"ProveItLink\" href=\"../implication/__pv_it/9d5b541e10843d34becfa0c588d04fc1c7262adf0/expr.ipynb\"><img src=\"../implication/__pv_it/9d5b541e10843d34becfa0c588d04fc1c7262adf0/expr.png\" style=\"display:inline;vertical-align:middle;\" /></a></span></td></tr>\n",
       "<tr><td>&nbsp;</td><td colspan=4 style-\"text-align:left\"><a class=\"ProveItLink\" href=\"../implication/_proofs_/selfImplication.ipynb\">proveit.logic.boolean.implication.selfImplication</a></td></tr></table>"
      ],
      "text/plain": [
       "\tstep type\trequirements\tstatement\n",
       "0\tspecialization\t1, 2, 3, 4, 5, 6\t{C or D , C in BOOLEANS , D in BOOLEANS} |- C or D\n",
       "\tA : C, B : D, C : C, D : D\n",
       "1\ttheorem\t\t|- forall_{A, B, C, D in BOOLEANS | A or B , A => C , B => D} (C or D)\n",
       "\tproveit.logic.boolean.disjunction.constructiveDilemma\n",
       "2\tassumption\t\t{C in BOOLEANS} |- C in BOOLEANS\n",
       "3\tassumption\t\t{D in BOOLEANS} |- D in BOOLEANS\n",
       "4\tassumption\t\t{C or D} |- C or D\n",
       "5\tspecialization\t7\t|- C => C\n",
       "\tA : C\n",
       "6\tspecialization\t7\t|- D => D\n",
       "\tA : D\n",
       "7\ttheorem\t\t|- forall_{A} (A => A)\n",
       "\tproveit.logic.boolean.implication.selfImplication"
      ]
     },
     "execution_count": 24,
     "metadata": {},
     "output_type": "execute_result"
    }
   ],
   "source": [
    "Or(C,D).deriveViaDilemma(Or(C,D),[Or(A,B), Or(C,D),Implies(A,C), Implies(A,C),Implies(B,D), inBool(A), inBool(B), inBool(C), inBool(D)]).proof()"
   ]
  },
  {
   "cell_type": "code",
   "execution_count": 25,
   "metadata": {},
   "outputs": [
    {
     "data": {
      "text/html": [
       "<table><tr><th>&nbsp;</th><th>step type</th><th>requirements</th><th>statement</th></tr>\n",
       "<tr><td>0</td><td>specialization</td><td>1, 2, 3, 4, 5, 6, 7, 8, 9, 10, 11, 12</td><td><span style=\"font-size:20px;\"><a class=\"ProveItLink\" href=\"__pv_it/cbbf9436374940f18ee592199d19463b52e95bd70/expr.ipynb\"><img src=\"__pv_it/cbbf9436374940f18ee592199d19463b52e95bd70/expr.png\" style=\"display:inline;vertical-align:middle;\" /></a> &#x22A2;&nbsp;<a class=\"ProveItLink\" href=\"__pv_it/6dddc05d5782d2514e2a4d84a9b43f750a4767d60/expr.ipynb\"><img src=\"__pv_it/6dddc05d5782d2514e2a4d84a9b43f750a4767d60/expr.png\" style=\"display:inline;vertical-align:middle;\" /></a></span></td></tr>\n",
       "<tr><td>&nbsp;</td><td colspan=4 style=\"text-align:left\"><span style=\"font-size:20px;\"><a class=\"ProveItLink\" href=\"../../../__pv_it/78af03acba5349fd70398a32ce59bae1da52f0870/expr.ipynb\"><img src=\"../../../__pv_it/78af03acba5349fd70398a32ce59bae1da52f0870/expr.png\" style=\"display:inline;vertical-align:middle;\" /></a> : <a class=\"ProveItLink\" href=\"../../../number/numeral/__pv_it/23412ce59ea7e77353d2f9225e02248e73651ca00/expr.ipynb\"><img src=\"../../../number/numeral/__pv_it/23412ce59ea7e77353d2f9225e02248e73651ca00/expr.png\" style=\"display:inline;vertical-align:middle;\" /></a>, <a class=\"ProveItLink\" href=\"../../../__pv_it/eb438fefc4bd0ac977777d6dfd3e8a72dfbedbd50/expr.ipynb\"><img src=\"../../../__pv_it/eb438fefc4bd0ac977777d6dfd3e8a72dfbedbd50/expr.png\" style=\"display:inline;vertical-align:middle;\" /></a> : <a class=\"ProveItLink\" href=\"__pv_it/ba51a0fc910408dc1211c29b03a29f7cec842b550/expr.ipynb\"><img src=\"__pv_it/ba51a0fc910408dc1211c29b03a29f7cec842b550/expr.png\" style=\"display:inline;vertical-align:middle;\" /></a>, <a class=\"ProveItLink\" href=\"../../../__pv_it/a275d402e75fbbde925e8ebdcbfd239a2138849c0/expr.ipynb\"><img src=\"../../../__pv_it/a275d402e75fbbde925e8ebdcbfd239a2138849c0/expr.png\" style=\"display:inline;vertical-align:middle;\" /></a> : <a class=\"ProveItLink\" href=\"__pv_it/8daf537f06022fc5ea1d346163e04ea9ec29c4730/expr.ipynb\"><img src=\"__pv_it/8daf537f06022fc5ea1d346163e04ea9ec29c4730/expr.png\" style=\"display:inline;vertical-align:middle;\" /></a></span></td></tr><tr><td>1</td><td>theorem</td><td></td><td><span style=\"font-size:20px;\"> &#x22A2;&nbsp;<a class=\"ProveItLink\" href=\"__pv_it/33681094bc0b769ee7925f790434502d32a3e3210/expr.ipynb\"><img src=\"__pv_it/33681094bc0b769ee7925f790434502d32a3e3210/expr.png\" style=\"display:inline;vertical-align:middle;\" /></a></span></td></tr>\n",
       "<tr><td>&nbsp;</td><td colspan=4 style-\"text-align:left\"><a class=\"ProveItLink\" href=\"_proofs_/constructiveMultiDilemma.ipynb\">proveit.logic.boolean.disjunction.constructiveMultiDilemma</a></td></tr><tr><td>2</td><td>theorem</td><td></td><td><span style=\"font-size:20px;\"> &#x22A2;&nbsp;<a class=\"ProveItLink\" href=\"../../../number/numeral/deci/__pv_it/3fc93db3b3fd1b15204240d9de18a48656bfb08c0/expr.ipynb\"><img src=\"../../../number/numeral/deci/__pv_it/3fc93db3b3fd1b15204240d9de18a48656bfb08c0/expr.png\" style=\"display:inline;vertical-align:middle;\" /></a></span></td></tr>\n",
       "<tr><td>&nbsp;</td><td colspan=4 style-\"text-align:left\"><a class=\"ProveItLink\" href=\"../../../number/numeral/deci/_proofs_/nat4.ipynb\">proveit.number.numeral.deci.nat4</a></td></tr><tr><td>3</td><td>specialization</td><td>17, 13, 14, 15, 16</td><td><span style=\"font-size:20px;\"><a class=\"ProveItLink\" href=\"__pv_it/f28f9b812246a6c4975e6f67667fe62b1fba502a0/expr.ipynb\"><img src=\"__pv_it/f28f9b812246a6c4975e6f67667fe62b1fba502a0/expr.png\" style=\"display:inline;vertical-align:middle;\" /></a> &#x22A2;&nbsp;<a class=\"ProveItLink\" href=\"__pv_it/c7afd1ead8211492267b3cefac34659a98e80ce80/expr.ipynb\"><img src=\"__pv_it/c7afd1ead8211492267b3cefac34659a98e80ce80/expr.png\" style=\"display:inline;vertical-align:middle;\" /></a></span></td></tr>\n",
       "<tr><td>&nbsp;</td><td colspan=4 style=\"text-align:left\"><span style=\"font-size:20px;\"><a class=\"ProveItLink\" href=\"../../../__pv_it/abeee18594afe51bfb1be95d9591fbba24ac53f30/expr.ipynb\"><img src=\"../../../__pv_it/abeee18594afe51bfb1be95d9591fbba24ac53f30/expr.png\" style=\"display:inline;vertical-align:middle;\" /></a> : <a class=\"ProveItLink\" href=\"../__pv_it/46271c8230be96415d662709611f4ed2279d702b0/expr.ipynb\"><img src=\"../__pv_it/46271c8230be96415d662709611f4ed2279d702b0/expr.png\" style=\"display:inline;vertical-align:middle;\" /></a>, <a class=\"ProveItLink\" href=\"../../../__pv_it/07527342713064c87612d00d8557c53d53d5324a0/expr.ipynb\"><img src=\"../../../__pv_it/07527342713064c87612d00d8557c53d53d5324a0/expr.png\" style=\"display:inline;vertical-align:middle;\" /></a> : <a class=\"ProveItLink\" href=\"../../../__pv_it/2cbe72a7ad6f655694dd697106680215e8489b600/expr.ipynb\"><img src=\"../../../__pv_it/2cbe72a7ad6f655694dd697106680215e8489b600/expr.png\" style=\"display:inline;vertical-align:middle;\" /></a>, <a class=\"ProveItLink\" href=\"../../../__pv_it/6840a4fa6c106149dc16a131294d0c5e44f1b0480/expr.ipynb\"><img src=\"../../../__pv_it/6840a4fa6c106149dc16a131294d0c5e44f1b0480/expr.png\" style=\"display:inline;vertical-align:middle;\" /></a> : <a class=\"ProveItLink\" href=\"../../../__pv_it/077b2ff79244fb4582cbe22c6e3356fa92a52f2f0/expr.ipynb\"><img src=\"../../../__pv_it/077b2ff79244fb4582cbe22c6e3356fa92a52f2f0/expr.png\" style=\"display:inline;vertical-align:middle;\" /></a>, <a class=\"ProveItLink\" href=\"../../../__pv_it/cbdfda466482236edba0ce44ac7ef39cda0af7a40/expr.ipynb\"><img src=\"../../../__pv_it/cbdfda466482236edba0ce44ac7ef39cda0af7a40/expr.png\" style=\"display:inline;vertical-align:middle;\" /></a> : <a class=\"ProveItLink\" href=\"../../../__pv_it/985a1bdf1540838275dec15f4ad6de261cca93ce0/expr.ipynb\"><img src=\"../../../__pv_it/985a1bdf1540838275dec15f4ad6de261cca93ce0/expr.png\" style=\"display:inline;vertical-align:middle;\" /></a>, <a class=\"ProveItLink\" href=\"../../../__pv_it/3a5de44ed6135dbbdbbeec6704c741e238f127300/expr.ipynb\"><img src=\"../../../__pv_it/3a5de44ed6135dbbdbbeec6704c741e238f127300/expr.png\" style=\"display:inline;vertical-align:middle;\" /></a> : <a class=\"ProveItLink\" href=\"../../../__pv_it/185e6d30f167ee2ee5ef3321098dc98e0d77bc590/expr.ipynb\"><img src=\"../../../__pv_it/185e6d30f167ee2ee5ef3321098dc98e0d77bc590/expr.png\" style=\"display:inline;vertical-align:middle;\" /></a></span></td></tr><tr><td>4</td><td>assumption</td><td></td><td><span style=\"font-size:20px;\"><a class=\"ProveItLink\" href=\"__pv_it/7f1e58f28ce6d4b84e42c8b7021d4eaa1ac454cc0/expr.ipynb\"><img src=\"__pv_it/7f1e58f28ce6d4b84e42c8b7021d4eaa1ac454cc0/expr.png\" style=\"display:inline;vertical-align:middle;\" /></a> &#x22A2;&nbsp;<a class=\"ProveItLink\" href=\"__pv_it/081f8b676821fa28f4eee7c26e5e1e191452a5b80/expr.ipynb\"><img src=\"__pv_it/081f8b676821fa28f4eee7c26e5e1e191452a5b80/expr.png\" style=\"display:inline;vertical-align:middle;\" /></a></span></td></tr>\n",
       "<tr><td>5</td><td>specialization</td><td>17, 18, 19, 20, 21</td><td><span style=\"font-size:20px;\"><a class=\"ProveItLink\" href=\"__pv_it/ccee58f2c36bdae4fbe3c1a549ddd16b3bc9dd230/expr.ipynb\"><img src=\"__pv_it/ccee58f2c36bdae4fbe3c1a549ddd16b3bc9dd230/expr.png\" style=\"display:inline;vertical-align:middle;\" /></a> &#x22A2;&nbsp;<a class=\"ProveItLink\" href=\"__pv_it/214f8d96288f02e371e40bc804f70e586c4ef1dd0/expr.ipynb\"><img src=\"__pv_it/214f8d96288f02e371e40bc804f70e586c4ef1dd0/expr.png\" style=\"display:inline;vertical-align:middle;\" /></a></span></td></tr>\n",
       "<tr><td>&nbsp;</td><td colspan=4 style=\"text-align:left\"><span style=\"font-size:20px;\"><a class=\"ProveItLink\" href=\"../../../__pv_it/abeee18594afe51bfb1be95d9591fbba24ac53f30/expr.ipynb\"><img src=\"../../../__pv_it/abeee18594afe51bfb1be95d9591fbba24ac53f30/expr.png\" style=\"display:inline;vertical-align:middle;\" /></a> : <a class=\"ProveItLink\" href=\"../__pv_it/46271c8230be96415d662709611f4ed2279d702b0/expr.ipynb\"><img src=\"../__pv_it/46271c8230be96415d662709611f4ed2279d702b0/expr.png\" style=\"display:inline;vertical-align:middle;\" /></a>, <a class=\"ProveItLink\" href=\"../../../__pv_it/07527342713064c87612d00d8557c53d53d5324a0/expr.ipynb\"><img src=\"../../../__pv_it/07527342713064c87612d00d8557c53d53d5324a0/expr.png\" style=\"display:inline;vertical-align:middle;\" /></a> : <a class=\"ProveItLink\" href=\"../../../__pv_it/fabf74ac81cd36aa91075816201d2b14195a56e60/expr.ipynb\"><img src=\"../../../__pv_it/fabf74ac81cd36aa91075816201d2b14195a56e60/expr.png\" style=\"display:inline;vertical-align:middle;\" /></a>, <a class=\"ProveItLink\" href=\"../../../__pv_it/6840a4fa6c106149dc16a131294d0c5e44f1b0480/expr.ipynb\"><img src=\"../../../__pv_it/6840a4fa6c106149dc16a131294d0c5e44f1b0480/expr.png\" style=\"display:inline;vertical-align:middle;\" /></a> : <a class=\"ProveItLink\" href=\"../../../__pv_it/485fbf85ade6e4660c176b077846a05437e7af3e0/expr.ipynb\"><img src=\"../../../__pv_it/485fbf85ade6e4660c176b077846a05437e7af3e0/expr.png\" style=\"display:inline;vertical-align:middle;\" /></a>, <a class=\"ProveItLink\" href=\"../../../__pv_it/cbdfda466482236edba0ce44ac7ef39cda0af7a40/expr.ipynb\"><img src=\"../../../__pv_it/cbdfda466482236edba0ce44ac7ef39cda0af7a40/expr.png\" style=\"display:inline;vertical-align:middle;\" /></a> : <a class=\"ProveItLink\" href=\"../../../__pv_it/0730776658406f13a5e8bca83a69f67d4b6b708d0/expr.ipynb\"><img src=\"../../../__pv_it/0730776658406f13a5e8bca83a69f67d4b6b708d0/expr.png\" style=\"display:inline;vertical-align:middle;\" /></a>, <a class=\"ProveItLink\" href=\"../../../__pv_it/3a5de44ed6135dbbdbbeec6704c741e238f127300/expr.ipynb\"><img src=\"../../../__pv_it/3a5de44ed6135dbbdbbeec6704c741e238f127300/expr.png\" style=\"display:inline;vertical-align:middle;\" /></a> : <a class=\"ProveItLink\" href=\"../../../__pv_it/3fb1092d10295c809ebd5134eaa882b76222b6190/expr.ipynb\"><img src=\"../../../__pv_it/3fb1092d10295c809ebd5134eaa882b76222b6190/expr.png\" style=\"display:inline;vertical-align:middle;\" /></a></span></td></tr><tr><td>6</td><td>assumption</td><td></td><td><span style=\"font-size:20px;\"><a class=\"ProveItLink\" href=\"__pv_it/8bf85a3925f1a2803d98a798aaa94291fc5cc3690/expr.ipynb\"><img src=\"__pv_it/8bf85a3925f1a2803d98a798aaa94291fc5cc3690/expr.png\" style=\"display:inline;vertical-align:middle;\" /></a> &#x22A2;&nbsp;<a class=\"ProveItLink\" href=\"__pv_it/53975f3a0fe602613858ce27b377e7070a009d300/expr.ipynb\"><img src=\"__pv_it/53975f3a0fe602613858ce27b377e7070a009d300/expr.png\" style=\"display:inline;vertical-align:middle;\" /></a></span></td></tr>\n",
       "<tr><td>7</td><td>assumption</td><td></td><td><span style=\"font-size:20px;\"><a class=\"ProveItLink\" href=\"__pv_it/5ee9b38e37ab81660d95598d8c751a61a7b8351d0/expr.ipynb\"><img src=\"__pv_it/5ee9b38e37ab81660d95598d8c751a61a7b8351d0/expr.png\" style=\"display:inline;vertical-align:middle;\" /></a> &#x22A2;&nbsp;<a class=\"ProveItLink\" href=\"__pv_it/e0f08a66c4c42f62ba748df98387179cd53edce50/expr.ipynb\"><img src=\"__pv_it/e0f08a66c4c42f62ba748df98387179cd53edce50/expr.png\" style=\"display:inline;vertical-align:middle;\" /></a></span></td></tr>\n",
       "<tr><td>8</td><td>assumption</td><td></td><td><span style=\"font-size:20px;\"><a class=\"ProveItLink\" href=\"__pv_it/ec194aa6c78f45aa8d15ba11d2c31d3f1de3942b0/expr.ipynb\"><img src=\"__pv_it/ec194aa6c78f45aa8d15ba11d2c31d3f1de3942b0/expr.png\" style=\"display:inline;vertical-align:middle;\" /></a> &#x22A2;&nbsp;<a class=\"ProveItLink\" href=\"__pv_it/48a3f3419d363f6398ac736f485853e1b8db8b210/expr.ipynb\"><img src=\"__pv_it/48a3f3419d363f6398ac736f485853e1b8db8b210/expr.png\" style=\"display:inline;vertical-align:middle;\" /></a></span></td></tr>\n",
       "<tr><td>9</td><td>assumption</td><td></td><td><span style=\"font-size:20px;\"><a class=\"ProveItLink\" href=\"__pv_it/0eaa25321f21538851d00527ffa5e360fbaa566a0/expr.ipynb\"><img src=\"__pv_it/0eaa25321f21538851d00527ffa5e360fbaa566a0/expr.png\" style=\"display:inline;vertical-align:middle;\" /></a> &#x22A2;&nbsp;<a class=\"ProveItLink\" href=\"__pv_it/3f989b10d695ff727c582da6f00d668b09e16b7a0/expr.ipynb\"><img src=\"__pv_it/3f989b10d695ff727c582da6f00d668b09e16b7a0/expr.png\" style=\"display:inline;vertical-align:middle;\" /></a></span></td></tr>\n",
       "<tr><td>10</td><td>theorem</td><td></td><td><span style=\"font-size:20px;\"> &#x22A2;&nbsp;<a class=\"ProveItLink\" href=\"../../../number/numeral/deci/__pv_it/5b6ff6a2fca03ad41d2a3084e44fbb28428ffb6a0/expr.ipynb\"><img src=\"../../../number/numeral/deci/__pv_it/5b6ff6a2fca03ad41d2a3084e44fbb28428ffb6a0/expr.png\" style=\"display:inline;vertical-align:middle;\" /></a></span></td></tr>\n",
       "<tr><td>&nbsp;</td><td colspan=4 style-\"text-align:left\"><a class=\"ProveItLink\" href=\"../../../number/numeral/deci/_proofs_/add_1_1.ipynb\">proveit.number.numeral.deci.add_1_1</a></td></tr><tr><td>11</td><td>theorem</td><td></td><td><span style=\"font-size:20px;\"> &#x22A2;&nbsp;<a class=\"ProveItLink\" href=\"../../../number/numeral/deci/__pv_it/349c663074c343ced32577f83aa9971191d0752c0/expr.ipynb\"><img src=\"../../../number/numeral/deci/__pv_it/349c663074c343ced32577f83aa9971191d0752c0/expr.png\" style=\"display:inline;vertical-align:middle;\" /></a></span></td></tr>\n",
       "<tr><td>&nbsp;</td><td colspan=4 style-\"text-align:left\"><a class=\"ProveItLink\" href=\"../../../number/numeral/deci/_proofs_/add_2_1.ipynb\">proveit.number.numeral.deci.add_2_1</a></td></tr><tr><td>12</td><td>theorem</td><td></td><td><span style=\"font-size:20px;\"> &#x22A2;&nbsp;<a class=\"ProveItLink\" href=\"../../../number/numeral/deci/__pv_it/9b6fcf185675beb8420ce00c17510693f9522a6a0/expr.ipynb\"><img src=\"../../../number/numeral/deci/__pv_it/9b6fcf185675beb8420ce00c17510693f9522a6a0/expr.png\" style=\"display:inline;vertical-align:middle;\" /></a></span></td></tr>\n",
       "<tr><td>&nbsp;</td><td colspan=4 style-\"text-align:left\"><a class=\"ProveItLink\" href=\"../../../number/numeral/deci/_proofs_/add_3_1.ipynb\">proveit.number.numeral.deci.add_3_1</a></td></tr><tr><td>13</td><td>assumption</td><td></td><td><span style=\"font-size:20px;\"><a class=\"ProveItLink\" href=\"__pv_it/017ca8cfa034181c90ba15dd10869f0f4e516d6a0/expr.ipynb\"><img src=\"__pv_it/017ca8cfa034181c90ba15dd10869f0f4e516d6a0/expr.png\" style=\"display:inline;vertical-align:middle;\" /></a> &#x22A2;&nbsp;<a class=\"ProveItLink\" href=\"__pv_it/03a5c2b5cc6fc2c3cd686b4bcf84379b893abe210/expr.ipynb\"><img src=\"__pv_it/03a5c2b5cc6fc2c3cd686b4bcf84379b893abe210/expr.png\" style=\"display:inline;vertical-align:middle;\" /></a></span></td></tr>\n",
       "<tr><td>14</td><td>assumption</td><td></td><td><span style=\"font-size:20px;\"><a class=\"ProveItLink\" href=\"__pv_it/2c2e947402f53b9e11cd7769e1b5b3378595750e0/expr.ipynb\"><img src=\"__pv_it/2c2e947402f53b9e11cd7769e1b5b3378595750e0/expr.png\" style=\"display:inline;vertical-align:middle;\" /></a> &#x22A2;&nbsp;<a class=\"ProveItLink\" href=\"__pv_it/fe5c91c77f0659f9ea07a2e3257797875d6868370/expr.ipynb\"><img src=\"__pv_it/fe5c91c77f0659f9ea07a2e3257797875d6868370/expr.png\" style=\"display:inline;vertical-align:middle;\" /></a></span></td></tr>\n",
       "<tr><td>15</td><td>assumption</td><td></td><td><span style=\"font-size:20px;\"><a class=\"ProveItLink\" href=\"__pv_it/549ecf82a9d4ac5ca0750c6c3aaf83e6e7209ca90/expr.ipynb\"><img src=\"__pv_it/549ecf82a9d4ac5ca0750c6c3aaf83e6e7209ca90/expr.png\" style=\"display:inline;vertical-align:middle;\" /></a> &#x22A2;&nbsp;<a class=\"ProveItLink\" href=\"__pv_it/2cec3c732aceb253233bb533d4e43cc3f34f4f660/expr.ipynb\"><img src=\"__pv_it/2cec3c732aceb253233bb533d4e43cc3f34f4f660/expr.png\" style=\"display:inline;vertical-align:middle;\" /></a></span></td></tr>\n",
       "<tr><td>16</td><td>assumption</td><td></td><td><span style=\"font-size:20px;\"><a class=\"ProveItLink\" href=\"__pv_it/aa3618fdfba9edc866f19a2dbc2f7cde292ff1c70/expr.ipynb\"><img src=\"__pv_it/aa3618fdfba9edc866f19a2dbc2f7cde292ff1c70/expr.png\" style=\"display:inline;vertical-align:middle;\" /></a> &#x22A2;&nbsp;<a class=\"ProveItLink\" href=\"__pv_it/3891b823dfb55f51d513cc7144556dc1bfd425b70/expr.ipynb\"><img src=\"__pv_it/3891b823dfb55f51d513cc7144556dc1bfd425b70/expr.png\" style=\"display:inline;vertical-align:middle;\" /></a></span></td></tr>\n",
       "<tr><td>17</td><td>theorem</td><td></td><td><span style=\"font-size:20px;\"> &#x22A2;&nbsp;<a class=\"ProveItLink\" href=\"../../set_theory/membership/__pv_it/f8871096ab31a54eeeb7d5201addc96bdbcd44530/expr.ipynb\"><img src=\"../../set_theory/membership/__pv_it/f8871096ab31a54eeeb7d5201addc96bdbcd44530/expr.png\" style=\"display:inline;vertical-align:middle;\" /></a></span></td></tr>\n",
       "<tr><td>&nbsp;</td><td colspan=4 style-\"text-align:left\"><a class=\"ProveItLink\" href=\"../../set_theory/membership/_proofs_/exp_set_4.ipynb\">proveit.logic.set_theory.membership.exp_set_4</a></td></tr><tr><td>18</td><td>assumption</td><td></td><td><span style=\"font-size:20px;\"><a class=\"ProveItLink\" href=\"__pv_it/f1c02dcbccca55c6323566eb9b6559c223db9eea0/expr.ipynb\"><img src=\"__pv_it/f1c02dcbccca55c6323566eb9b6559c223db9eea0/expr.png\" style=\"display:inline;vertical-align:middle;\" /></a> &#x22A2;&nbsp;<a class=\"ProveItLink\" href=\"__pv_it/17434c062b130d50913b87eeb5dfaba66033fad10/expr.ipynb\"><img src=\"__pv_it/17434c062b130d50913b87eeb5dfaba66033fad10/expr.png\" style=\"display:inline;vertical-align:middle;\" /></a></span></td></tr>\n",
       "<tr><td>19</td><td>assumption</td><td></td><td><span style=\"font-size:20px;\"><a class=\"ProveItLink\" href=\"__pv_it/8ef2ac1365bcdf77bc7962a87186813767d871d50/expr.ipynb\"><img src=\"__pv_it/8ef2ac1365bcdf77bc7962a87186813767d871d50/expr.png\" style=\"display:inline;vertical-align:middle;\" /></a> &#x22A2;&nbsp;<a class=\"ProveItLink\" href=\"__pv_it/1d6b2c4f1effd46d34b2fa0b1cf19210f0f1841f0/expr.ipynb\"><img src=\"__pv_it/1d6b2c4f1effd46d34b2fa0b1cf19210f0f1841f0/expr.png\" style=\"display:inline;vertical-align:middle;\" /></a></span></td></tr>\n",
       "<tr><td>20</td><td>assumption</td><td></td><td><span style=\"font-size:20px;\"><a class=\"ProveItLink\" href=\"__pv_it/98eb048e8c8989434fc0eddba672f8a6a41a3ac90/expr.ipynb\"><img src=\"__pv_it/98eb048e8c8989434fc0eddba672f8a6a41a3ac90/expr.png\" style=\"display:inline;vertical-align:middle;\" /></a> &#x22A2;&nbsp;<a class=\"ProveItLink\" href=\"__pv_it/18fea9aacfdbba360f6c63083b0413ac4bac69340/expr.ipynb\"><img src=\"__pv_it/18fea9aacfdbba360f6c63083b0413ac4bac69340/expr.png\" style=\"display:inline;vertical-align:middle;\" /></a></span></td></tr>\n",
       "<tr><td>21</td><td>assumption</td><td></td><td><span style=\"font-size:20px;\"><a class=\"ProveItLink\" href=\"__pv_it/a7222e49607f64469976c46c34403e589e2f5ea50/expr.ipynb\"><img src=\"__pv_it/a7222e49607f64469976c46c34403e589e2f5ea50/expr.png\" style=\"display:inline;vertical-align:middle;\" /></a> &#x22A2;&nbsp;<a class=\"ProveItLink\" href=\"__pv_it/f393729af892cf80c996f620ae577c48a092f4070/expr.ipynb\"><img src=\"__pv_it/f393729af892cf80c996f620ae577c48a092f4070/expr.png\" style=\"display:inline;vertical-align:middle;\" /></a></span></td></tr>\n",
       "</table>"
      ],
      "text/plain": [
       "\tstep type\trequirements\tstatement\n",
       "0\tspecialization\t1, 2, 3, 4, 5, 6, 7, 8, 9, 10, 11, 12\t{A or B or C or D , A => H , B => I , C => J , D => K , A in BOOLEANS , B in BOOLEANS , C in BOOLEANS , D in BOOLEANS , H in BOOLEANS , I in BOOLEANS , J in BOOLEANS , K in BOOLEANS} |- H or I or J or K\n",
       "\tm : 4, A : (A , B , C , D), B : (H , I , J , K)\n",
       "1\ttheorem\t\t|- forall_{m in Naturals} [forall_{A, B in BOOLEANS^{m} | A_1 or  ...  or A_m , A_1 => B_1 ,  ...  , A_m => B_m} (B_1 or  ...  or B_m)]\n",
       "\tproveit.logic.boolean.disjunction.constructiveMultiDilemma\n",
       "2\ttheorem\t\t|- 4 in Naturals\n",
       "\tproveit.number.numeral.deci.nat4\n",
       "3\tspecialization\t17, 13, 14, 15, 16\t{A in BOOLEANS , B in BOOLEANS , C in BOOLEANS , D in BOOLEANS} |- (A , B , C , D) in BOOLEANS^{4}\n",
       "\tS : BOOLEANS, a : A, b : B, c : C, d : D\n",
       "4\tassumption\t\t{A or B or C or D} |- A or B or C or D\n",
       "5\tspecialization\t17, 18, 19, 20, 21\t{H in BOOLEANS , I in BOOLEANS , J in BOOLEANS , K in BOOLEANS} |- (H , I , J , K) in BOOLEANS^{4}\n",
       "\tS : BOOLEANS, a : H, b : I, c : J, d : K\n",
       "6\tassumption\t\t{A => H} |- A => H\n",
       "7\tassumption\t\t{B => I} |- B => I\n",
       "8\tassumption\t\t{C => J} |- C => J\n",
       "9\tassumption\t\t{D => K} |- D => K\n",
       "10\ttheorem\t\t|- (1 + 1) = 2\n",
       "\tproveit.number.numeral.deci.add_1_1\n",
       "11\ttheorem\t\t|- (2 + 1) = 3\n",
       "\tproveit.number.numeral.deci.add_2_1\n",
       "12\ttheorem\t\t|- (3 + 1) = 4\n",
       "\tproveit.number.numeral.deci.add_3_1\n",
       "13\tassumption\t\t{A in BOOLEANS} |- A in BOOLEANS\n",
       "14\tassumption\t\t{B in BOOLEANS} |- B in BOOLEANS\n",
       "15\tassumption\t\t{C in BOOLEANS} |- C in BOOLEANS\n",
       "16\tassumption\t\t{D in BOOLEANS} |- D in BOOLEANS\n",
       "17\ttheorem\t\t|- forall_{S} [forall_{a, b, c, d in S} ((a , b , c , d) in S^{4})]\n",
       "\tproveit.logic.set_theory.membership.exp_set_4\n",
       "18\tassumption\t\t{H in BOOLEANS} |- H in BOOLEANS\n",
       "19\tassumption\t\t{I in BOOLEANS} |- I in BOOLEANS\n",
       "20\tassumption\t\t{J in BOOLEANS} |- J in BOOLEANS\n",
       "21\tassumption\t\t{K in BOOLEANS} |- K in BOOLEANS"
      ]
     },
     "execution_count": 25,
     "metadata": {},
     "output_type": "execute_result"
    }
   ],
   "source": [
    "Or(A,B,C,D).deriveViaMultiDilemma(Or(H,I,J,K),[Or(A,B,C,D), Implies(A,H), Implies(B,I), Implies(C,J), Implies(D,K),inBool(A), inBool(B), inBool(C), inBool(D), inBool(H), inBool(I), inBool(J), inBool(K)]).proof()"
   ]
  },
  {
   "cell_type": "code",
   "execution_count": 26,
   "metadata": {},
   "outputs": [
    {
     "data": {
      "text/html": [
       "<table><tr><th>&nbsp;</th><th>step type</th><th>requirements</th><th>statement</th></tr>\n",
       "<tr><td>0</td><td>specialization</td><td>1, 2, 3, 4, 5, 6, 7, 8, 9, 10, 11, 12</td><td><span style=\"font-size:20px;\"><a class=\"ProveItLink\" href=\"__pv_it/cbbf9436374940f18ee592199d19463b52e95bd70/expr.ipynb\"><img src=\"__pv_it/cbbf9436374940f18ee592199d19463b52e95bd70/expr.png\" style=\"display:inline;vertical-align:middle;\" /></a> &#x22A2;&nbsp;<a class=\"ProveItLink\" href=\"__pv_it/6dddc05d5782d2514e2a4d84a9b43f750a4767d60/expr.ipynb\"><img src=\"__pv_it/6dddc05d5782d2514e2a4d84a9b43f750a4767d60/expr.png\" style=\"display:inline;vertical-align:middle;\" /></a></span></td></tr>\n",
       "<tr><td>&nbsp;</td><td colspan=4 style=\"text-align:left\"><span style=\"font-size:20px;\"><a class=\"ProveItLink\" href=\"../../../__pv_it/78af03acba5349fd70398a32ce59bae1da52f0870/expr.ipynb\"><img src=\"../../../__pv_it/78af03acba5349fd70398a32ce59bae1da52f0870/expr.png\" style=\"display:inline;vertical-align:middle;\" /></a> : <a class=\"ProveItLink\" href=\"../../../number/numeral/__pv_it/23412ce59ea7e77353d2f9225e02248e73651ca00/expr.ipynb\"><img src=\"../../../number/numeral/__pv_it/23412ce59ea7e77353d2f9225e02248e73651ca00/expr.png\" style=\"display:inline;vertical-align:middle;\" /></a>, <a class=\"ProveItLink\" href=\"../../../__pv_it/eb438fefc4bd0ac977777d6dfd3e8a72dfbedbd50/expr.ipynb\"><img src=\"../../../__pv_it/eb438fefc4bd0ac977777d6dfd3e8a72dfbedbd50/expr.png\" style=\"display:inline;vertical-align:middle;\" /></a> : <a class=\"ProveItLink\" href=\"__pv_it/ba51a0fc910408dc1211c29b03a29f7cec842b550/expr.ipynb\"><img src=\"__pv_it/ba51a0fc910408dc1211c29b03a29f7cec842b550/expr.png\" style=\"display:inline;vertical-align:middle;\" /></a>, <a class=\"ProveItLink\" href=\"../../../__pv_it/a275d402e75fbbde925e8ebdcbfd239a2138849c0/expr.ipynb\"><img src=\"../../../__pv_it/a275d402e75fbbde925e8ebdcbfd239a2138849c0/expr.png\" style=\"display:inline;vertical-align:middle;\" /></a> : <a class=\"ProveItLink\" href=\"__pv_it/8daf537f06022fc5ea1d346163e04ea9ec29c4730/expr.ipynb\"><img src=\"__pv_it/8daf537f06022fc5ea1d346163e04ea9ec29c4730/expr.png\" style=\"display:inline;vertical-align:middle;\" /></a></span></td></tr><tr><td>1</td><td>theorem</td><td></td><td><span style=\"font-size:20px;\"> &#x22A2;&nbsp;<a class=\"ProveItLink\" href=\"__pv_it/33681094bc0b769ee7925f790434502d32a3e3210/expr.ipynb\"><img src=\"__pv_it/33681094bc0b769ee7925f790434502d32a3e3210/expr.png\" style=\"display:inline;vertical-align:middle;\" /></a></span></td></tr>\n",
       "<tr><td>&nbsp;</td><td colspan=4 style-\"text-align:left\"><a class=\"ProveItLink\" href=\"_proofs_/constructiveMultiDilemma.ipynb\">proveit.logic.boolean.disjunction.constructiveMultiDilemma</a></td></tr><tr><td>2</td><td>theorem</td><td></td><td><span style=\"font-size:20px;\"> &#x22A2;&nbsp;<a class=\"ProveItLink\" href=\"../../../number/numeral/deci/__pv_it/3fc93db3b3fd1b15204240d9de18a48656bfb08c0/expr.ipynb\"><img src=\"../../../number/numeral/deci/__pv_it/3fc93db3b3fd1b15204240d9de18a48656bfb08c0/expr.png\" style=\"display:inline;vertical-align:middle;\" /></a></span></td></tr>\n",
       "<tr><td>&nbsp;</td><td colspan=4 style-\"text-align:left\"><a class=\"ProveItLink\" href=\"../../../number/numeral/deci/_proofs_/nat4.ipynb\">proveit.number.numeral.deci.nat4</a></td></tr><tr><td>3</td><td>specialization</td><td>17, 13, 14, 15, 16</td><td><span style=\"font-size:20px;\"><a class=\"ProveItLink\" href=\"__pv_it/f28f9b812246a6c4975e6f67667fe62b1fba502a0/expr.ipynb\"><img src=\"__pv_it/f28f9b812246a6c4975e6f67667fe62b1fba502a0/expr.png\" style=\"display:inline;vertical-align:middle;\" /></a> &#x22A2;&nbsp;<a class=\"ProveItLink\" href=\"__pv_it/c7afd1ead8211492267b3cefac34659a98e80ce80/expr.ipynb\"><img src=\"__pv_it/c7afd1ead8211492267b3cefac34659a98e80ce80/expr.png\" style=\"display:inline;vertical-align:middle;\" /></a></span></td></tr>\n",
       "<tr><td>&nbsp;</td><td colspan=4 style=\"text-align:left\"><span style=\"font-size:20px;\"><a class=\"ProveItLink\" href=\"../../../__pv_it/abeee18594afe51bfb1be95d9591fbba24ac53f30/expr.ipynb\"><img src=\"../../../__pv_it/abeee18594afe51bfb1be95d9591fbba24ac53f30/expr.png\" style=\"display:inline;vertical-align:middle;\" /></a> : <a class=\"ProveItLink\" href=\"../__pv_it/46271c8230be96415d662709611f4ed2279d702b0/expr.ipynb\"><img src=\"../__pv_it/46271c8230be96415d662709611f4ed2279d702b0/expr.png\" style=\"display:inline;vertical-align:middle;\" /></a>, <a class=\"ProveItLink\" href=\"../../../__pv_it/07527342713064c87612d00d8557c53d53d5324a0/expr.ipynb\"><img src=\"../../../__pv_it/07527342713064c87612d00d8557c53d53d5324a0/expr.png\" style=\"display:inline;vertical-align:middle;\" /></a> : <a class=\"ProveItLink\" href=\"../../../__pv_it/2cbe72a7ad6f655694dd697106680215e8489b600/expr.ipynb\"><img src=\"../../../__pv_it/2cbe72a7ad6f655694dd697106680215e8489b600/expr.png\" style=\"display:inline;vertical-align:middle;\" /></a>, <a class=\"ProveItLink\" href=\"../../../__pv_it/6840a4fa6c106149dc16a131294d0c5e44f1b0480/expr.ipynb\"><img src=\"../../../__pv_it/6840a4fa6c106149dc16a131294d0c5e44f1b0480/expr.png\" style=\"display:inline;vertical-align:middle;\" /></a> : <a class=\"ProveItLink\" href=\"../../../__pv_it/077b2ff79244fb4582cbe22c6e3356fa92a52f2f0/expr.ipynb\"><img src=\"../../../__pv_it/077b2ff79244fb4582cbe22c6e3356fa92a52f2f0/expr.png\" style=\"display:inline;vertical-align:middle;\" /></a>, <a class=\"ProveItLink\" href=\"../../../__pv_it/cbdfda466482236edba0ce44ac7ef39cda0af7a40/expr.ipynb\"><img src=\"../../../__pv_it/cbdfda466482236edba0ce44ac7ef39cda0af7a40/expr.png\" style=\"display:inline;vertical-align:middle;\" /></a> : <a class=\"ProveItLink\" href=\"../../../__pv_it/985a1bdf1540838275dec15f4ad6de261cca93ce0/expr.ipynb\"><img src=\"../../../__pv_it/985a1bdf1540838275dec15f4ad6de261cca93ce0/expr.png\" style=\"display:inline;vertical-align:middle;\" /></a>, <a class=\"ProveItLink\" href=\"../../../__pv_it/3a5de44ed6135dbbdbbeec6704c741e238f127300/expr.ipynb\"><img src=\"../../../__pv_it/3a5de44ed6135dbbdbbeec6704c741e238f127300/expr.png\" style=\"display:inline;vertical-align:middle;\" /></a> : <a class=\"ProveItLink\" href=\"../../../__pv_it/185e6d30f167ee2ee5ef3321098dc98e0d77bc590/expr.ipynb\"><img src=\"../../../__pv_it/185e6d30f167ee2ee5ef3321098dc98e0d77bc590/expr.png\" style=\"display:inline;vertical-align:middle;\" /></a></span></td></tr><tr><td>4</td><td>assumption</td><td></td><td><span style=\"font-size:20px;\"><a class=\"ProveItLink\" href=\"__pv_it/7f1e58f28ce6d4b84e42c8b7021d4eaa1ac454cc0/expr.ipynb\"><img src=\"__pv_it/7f1e58f28ce6d4b84e42c8b7021d4eaa1ac454cc0/expr.png\" style=\"display:inline;vertical-align:middle;\" /></a> &#x22A2;&nbsp;<a class=\"ProveItLink\" href=\"__pv_it/081f8b676821fa28f4eee7c26e5e1e191452a5b80/expr.ipynb\"><img src=\"__pv_it/081f8b676821fa28f4eee7c26e5e1e191452a5b80/expr.png\" style=\"display:inline;vertical-align:middle;\" /></a></span></td></tr>\n",
       "<tr><td>5</td><td>specialization</td><td>17, 18, 19, 20, 21</td><td><span style=\"font-size:20px;\"><a class=\"ProveItLink\" href=\"__pv_it/ccee58f2c36bdae4fbe3c1a549ddd16b3bc9dd230/expr.ipynb\"><img src=\"__pv_it/ccee58f2c36bdae4fbe3c1a549ddd16b3bc9dd230/expr.png\" style=\"display:inline;vertical-align:middle;\" /></a> &#x22A2;&nbsp;<a class=\"ProveItLink\" href=\"__pv_it/214f8d96288f02e371e40bc804f70e586c4ef1dd0/expr.ipynb\"><img src=\"__pv_it/214f8d96288f02e371e40bc804f70e586c4ef1dd0/expr.png\" style=\"display:inline;vertical-align:middle;\" /></a></span></td></tr>\n",
       "<tr><td>&nbsp;</td><td colspan=4 style=\"text-align:left\"><span style=\"font-size:20px;\"><a class=\"ProveItLink\" href=\"../../../__pv_it/abeee18594afe51bfb1be95d9591fbba24ac53f30/expr.ipynb\"><img src=\"../../../__pv_it/abeee18594afe51bfb1be95d9591fbba24ac53f30/expr.png\" style=\"display:inline;vertical-align:middle;\" /></a> : <a class=\"ProveItLink\" href=\"../__pv_it/46271c8230be96415d662709611f4ed2279d702b0/expr.ipynb\"><img src=\"../__pv_it/46271c8230be96415d662709611f4ed2279d702b0/expr.png\" style=\"display:inline;vertical-align:middle;\" /></a>, <a class=\"ProveItLink\" href=\"../../../__pv_it/07527342713064c87612d00d8557c53d53d5324a0/expr.ipynb\"><img src=\"../../../__pv_it/07527342713064c87612d00d8557c53d53d5324a0/expr.png\" style=\"display:inline;vertical-align:middle;\" /></a> : <a class=\"ProveItLink\" href=\"../../../__pv_it/fabf74ac81cd36aa91075816201d2b14195a56e60/expr.ipynb\"><img src=\"../../../__pv_it/fabf74ac81cd36aa91075816201d2b14195a56e60/expr.png\" style=\"display:inline;vertical-align:middle;\" /></a>, <a class=\"ProveItLink\" href=\"../../../__pv_it/6840a4fa6c106149dc16a131294d0c5e44f1b0480/expr.ipynb\"><img src=\"../../../__pv_it/6840a4fa6c106149dc16a131294d0c5e44f1b0480/expr.png\" style=\"display:inline;vertical-align:middle;\" /></a> : <a class=\"ProveItLink\" href=\"../../../__pv_it/485fbf85ade6e4660c176b077846a05437e7af3e0/expr.ipynb\"><img src=\"../../../__pv_it/485fbf85ade6e4660c176b077846a05437e7af3e0/expr.png\" style=\"display:inline;vertical-align:middle;\" /></a>, <a class=\"ProveItLink\" href=\"../../../__pv_it/cbdfda466482236edba0ce44ac7ef39cda0af7a40/expr.ipynb\"><img src=\"../../../__pv_it/cbdfda466482236edba0ce44ac7ef39cda0af7a40/expr.png\" style=\"display:inline;vertical-align:middle;\" /></a> : <a class=\"ProveItLink\" href=\"../../../__pv_it/0730776658406f13a5e8bca83a69f67d4b6b708d0/expr.ipynb\"><img src=\"../../../__pv_it/0730776658406f13a5e8bca83a69f67d4b6b708d0/expr.png\" style=\"display:inline;vertical-align:middle;\" /></a>, <a class=\"ProveItLink\" href=\"../../../__pv_it/3a5de44ed6135dbbdbbeec6704c741e238f127300/expr.ipynb\"><img src=\"../../../__pv_it/3a5de44ed6135dbbdbbeec6704c741e238f127300/expr.png\" style=\"display:inline;vertical-align:middle;\" /></a> : <a class=\"ProveItLink\" href=\"../../../__pv_it/3fb1092d10295c809ebd5134eaa882b76222b6190/expr.ipynb\"><img src=\"../../../__pv_it/3fb1092d10295c809ebd5134eaa882b76222b6190/expr.png\" style=\"display:inline;vertical-align:middle;\" /></a></span></td></tr><tr><td>6</td><td>assumption</td><td></td><td><span style=\"font-size:20px;\"><a class=\"ProveItLink\" href=\"__pv_it/8bf85a3925f1a2803d98a798aaa94291fc5cc3690/expr.ipynb\"><img src=\"__pv_it/8bf85a3925f1a2803d98a798aaa94291fc5cc3690/expr.png\" style=\"display:inline;vertical-align:middle;\" /></a> &#x22A2;&nbsp;<a class=\"ProveItLink\" href=\"__pv_it/53975f3a0fe602613858ce27b377e7070a009d300/expr.ipynb\"><img src=\"__pv_it/53975f3a0fe602613858ce27b377e7070a009d300/expr.png\" style=\"display:inline;vertical-align:middle;\" /></a></span></td></tr>\n",
       "<tr><td>7</td><td>assumption</td><td></td><td><span style=\"font-size:20px;\"><a class=\"ProveItLink\" href=\"__pv_it/5ee9b38e37ab81660d95598d8c751a61a7b8351d0/expr.ipynb\"><img src=\"__pv_it/5ee9b38e37ab81660d95598d8c751a61a7b8351d0/expr.png\" style=\"display:inline;vertical-align:middle;\" /></a> &#x22A2;&nbsp;<a class=\"ProveItLink\" href=\"__pv_it/e0f08a66c4c42f62ba748df98387179cd53edce50/expr.ipynb\"><img src=\"__pv_it/e0f08a66c4c42f62ba748df98387179cd53edce50/expr.png\" style=\"display:inline;vertical-align:middle;\" /></a></span></td></tr>\n",
       "<tr><td>8</td><td>assumption</td><td></td><td><span style=\"font-size:20px;\"><a class=\"ProveItLink\" href=\"__pv_it/ec194aa6c78f45aa8d15ba11d2c31d3f1de3942b0/expr.ipynb\"><img src=\"__pv_it/ec194aa6c78f45aa8d15ba11d2c31d3f1de3942b0/expr.png\" style=\"display:inline;vertical-align:middle;\" /></a> &#x22A2;&nbsp;<a class=\"ProveItLink\" href=\"__pv_it/48a3f3419d363f6398ac736f485853e1b8db8b210/expr.ipynb\"><img src=\"__pv_it/48a3f3419d363f6398ac736f485853e1b8db8b210/expr.png\" style=\"display:inline;vertical-align:middle;\" /></a></span></td></tr>\n",
       "<tr><td>9</td><td>assumption</td><td></td><td><span style=\"font-size:20px;\"><a class=\"ProveItLink\" href=\"__pv_it/0eaa25321f21538851d00527ffa5e360fbaa566a0/expr.ipynb\"><img src=\"__pv_it/0eaa25321f21538851d00527ffa5e360fbaa566a0/expr.png\" style=\"display:inline;vertical-align:middle;\" /></a> &#x22A2;&nbsp;<a class=\"ProveItLink\" href=\"__pv_it/3f989b10d695ff727c582da6f00d668b09e16b7a0/expr.ipynb\"><img src=\"__pv_it/3f989b10d695ff727c582da6f00d668b09e16b7a0/expr.png\" style=\"display:inline;vertical-align:middle;\" /></a></span></td></tr>\n",
       "<tr><td>10</td><td>theorem</td><td></td><td><span style=\"font-size:20px;\"> &#x22A2;&nbsp;<a class=\"ProveItLink\" href=\"../../../number/numeral/deci/__pv_it/5b6ff6a2fca03ad41d2a3084e44fbb28428ffb6a0/expr.ipynb\"><img src=\"../../../number/numeral/deci/__pv_it/5b6ff6a2fca03ad41d2a3084e44fbb28428ffb6a0/expr.png\" style=\"display:inline;vertical-align:middle;\" /></a></span></td></tr>\n",
       "<tr><td>&nbsp;</td><td colspan=4 style-\"text-align:left\"><a class=\"ProveItLink\" href=\"../../../number/numeral/deci/_proofs_/add_1_1.ipynb\">proveit.number.numeral.deci.add_1_1</a></td></tr><tr><td>11</td><td>theorem</td><td></td><td><span style=\"font-size:20px;\"> &#x22A2;&nbsp;<a class=\"ProveItLink\" href=\"../../../number/numeral/deci/__pv_it/349c663074c343ced32577f83aa9971191d0752c0/expr.ipynb\"><img src=\"../../../number/numeral/deci/__pv_it/349c663074c343ced32577f83aa9971191d0752c0/expr.png\" style=\"display:inline;vertical-align:middle;\" /></a></span></td></tr>\n",
       "<tr><td>&nbsp;</td><td colspan=4 style-\"text-align:left\"><a class=\"ProveItLink\" href=\"../../../number/numeral/deci/_proofs_/add_2_1.ipynb\">proveit.number.numeral.deci.add_2_1</a></td></tr><tr><td>12</td><td>theorem</td><td></td><td><span style=\"font-size:20px;\"> &#x22A2;&nbsp;<a class=\"ProveItLink\" href=\"../../../number/numeral/deci/__pv_it/9b6fcf185675beb8420ce00c17510693f9522a6a0/expr.ipynb\"><img src=\"../../../number/numeral/deci/__pv_it/9b6fcf185675beb8420ce00c17510693f9522a6a0/expr.png\" style=\"display:inline;vertical-align:middle;\" /></a></span></td></tr>\n",
       "<tr><td>&nbsp;</td><td colspan=4 style-\"text-align:left\"><a class=\"ProveItLink\" href=\"../../../number/numeral/deci/_proofs_/add_3_1.ipynb\">proveit.number.numeral.deci.add_3_1</a></td></tr><tr><td>13</td><td>assumption</td><td></td><td><span style=\"font-size:20px;\"><a class=\"ProveItLink\" href=\"__pv_it/017ca8cfa034181c90ba15dd10869f0f4e516d6a0/expr.ipynb\"><img src=\"__pv_it/017ca8cfa034181c90ba15dd10869f0f4e516d6a0/expr.png\" style=\"display:inline;vertical-align:middle;\" /></a> &#x22A2;&nbsp;<a class=\"ProveItLink\" href=\"__pv_it/03a5c2b5cc6fc2c3cd686b4bcf84379b893abe210/expr.ipynb\"><img src=\"__pv_it/03a5c2b5cc6fc2c3cd686b4bcf84379b893abe210/expr.png\" style=\"display:inline;vertical-align:middle;\" /></a></span></td></tr>\n",
       "<tr><td>14</td><td>assumption</td><td></td><td><span style=\"font-size:20px;\"><a class=\"ProveItLink\" href=\"__pv_it/2c2e947402f53b9e11cd7769e1b5b3378595750e0/expr.ipynb\"><img src=\"__pv_it/2c2e947402f53b9e11cd7769e1b5b3378595750e0/expr.png\" style=\"display:inline;vertical-align:middle;\" /></a> &#x22A2;&nbsp;<a class=\"ProveItLink\" href=\"__pv_it/fe5c91c77f0659f9ea07a2e3257797875d6868370/expr.ipynb\"><img src=\"__pv_it/fe5c91c77f0659f9ea07a2e3257797875d6868370/expr.png\" style=\"display:inline;vertical-align:middle;\" /></a></span></td></tr>\n",
       "<tr><td>15</td><td>assumption</td><td></td><td><span style=\"font-size:20px;\"><a class=\"ProveItLink\" href=\"__pv_it/549ecf82a9d4ac5ca0750c6c3aaf83e6e7209ca90/expr.ipynb\"><img src=\"__pv_it/549ecf82a9d4ac5ca0750c6c3aaf83e6e7209ca90/expr.png\" style=\"display:inline;vertical-align:middle;\" /></a> &#x22A2;&nbsp;<a class=\"ProveItLink\" href=\"__pv_it/2cec3c732aceb253233bb533d4e43cc3f34f4f660/expr.ipynb\"><img src=\"__pv_it/2cec3c732aceb253233bb533d4e43cc3f34f4f660/expr.png\" style=\"display:inline;vertical-align:middle;\" /></a></span></td></tr>\n",
       "<tr><td>16</td><td>assumption</td><td></td><td><span style=\"font-size:20px;\"><a class=\"ProveItLink\" href=\"__pv_it/aa3618fdfba9edc866f19a2dbc2f7cde292ff1c70/expr.ipynb\"><img src=\"__pv_it/aa3618fdfba9edc866f19a2dbc2f7cde292ff1c70/expr.png\" style=\"display:inline;vertical-align:middle;\" /></a> &#x22A2;&nbsp;<a class=\"ProveItLink\" href=\"__pv_it/3891b823dfb55f51d513cc7144556dc1bfd425b70/expr.ipynb\"><img src=\"__pv_it/3891b823dfb55f51d513cc7144556dc1bfd425b70/expr.png\" style=\"display:inline;vertical-align:middle;\" /></a></span></td></tr>\n",
       "<tr><td>17</td><td>theorem</td><td></td><td><span style=\"font-size:20px;\"> &#x22A2;&nbsp;<a class=\"ProveItLink\" href=\"../../set_theory/membership/__pv_it/f8871096ab31a54eeeb7d5201addc96bdbcd44530/expr.ipynb\"><img src=\"../../set_theory/membership/__pv_it/f8871096ab31a54eeeb7d5201addc96bdbcd44530/expr.png\" style=\"display:inline;vertical-align:middle;\" /></a></span></td></tr>\n",
       "<tr><td>&nbsp;</td><td colspan=4 style-\"text-align:left\"><a class=\"ProveItLink\" href=\"../../set_theory/membership/_proofs_/exp_set_4.ipynb\">proveit.logic.set_theory.membership.exp_set_4</a></td></tr><tr><td>18</td><td>assumption</td><td></td><td><span style=\"font-size:20px;\"><a class=\"ProveItLink\" href=\"__pv_it/f1c02dcbccca55c6323566eb9b6559c223db9eea0/expr.ipynb\"><img src=\"__pv_it/f1c02dcbccca55c6323566eb9b6559c223db9eea0/expr.png\" style=\"display:inline;vertical-align:middle;\" /></a> &#x22A2;&nbsp;<a class=\"ProveItLink\" href=\"__pv_it/17434c062b130d50913b87eeb5dfaba66033fad10/expr.ipynb\"><img src=\"__pv_it/17434c062b130d50913b87eeb5dfaba66033fad10/expr.png\" style=\"display:inline;vertical-align:middle;\" /></a></span></td></tr>\n",
       "<tr><td>19</td><td>assumption</td><td></td><td><span style=\"font-size:20px;\"><a class=\"ProveItLink\" href=\"__pv_it/8ef2ac1365bcdf77bc7962a87186813767d871d50/expr.ipynb\"><img src=\"__pv_it/8ef2ac1365bcdf77bc7962a87186813767d871d50/expr.png\" style=\"display:inline;vertical-align:middle;\" /></a> &#x22A2;&nbsp;<a class=\"ProveItLink\" href=\"__pv_it/1d6b2c4f1effd46d34b2fa0b1cf19210f0f1841f0/expr.ipynb\"><img src=\"__pv_it/1d6b2c4f1effd46d34b2fa0b1cf19210f0f1841f0/expr.png\" style=\"display:inline;vertical-align:middle;\" /></a></span></td></tr>\n",
       "<tr><td>20</td><td>assumption</td><td></td><td><span style=\"font-size:20px;\"><a class=\"ProveItLink\" href=\"__pv_it/98eb048e8c8989434fc0eddba672f8a6a41a3ac90/expr.ipynb\"><img src=\"__pv_it/98eb048e8c8989434fc0eddba672f8a6a41a3ac90/expr.png\" style=\"display:inline;vertical-align:middle;\" /></a> &#x22A2;&nbsp;<a class=\"ProveItLink\" href=\"__pv_it/18fea9aacfdbba360f6c63083b0413ac4bac69340/expr.ipynb\"><img src=\"__pv_it/18fea9aacfdbba360f6c63083b0413ac4bac69340/expr.png\" style=\"display:inline;vertical-align:middle;\" /></a></span></td></tr>\n",
       "<tr><td>21</td><td>assumption</td><td></td><td><span style=\"font-size:20px;\"><a class=\"ProveItLink\" href=\"__pv_it/a7222e49607f64469976c46c34403e589e2f5ea50/expr.ipynb\"><img src=\"__pv_it/a7222e49607f64469976c46c34403e589e2f5ea50/expr.png\" style=\"display:inline;vertical-align:middle;\" /></a> &#x22A2;&nbsp;<a class=\"ProveItLink\" href=\"__pv_it/f393729af892cf80c996f620ae577c48a092f4070/expr.ipynb\"><img src=\"__pv_it/f393729af892cf80c996f620ae577c48a092f4070/expr.png\" style=\"display:inline;vertical-align:middle;\" /></a></span></td></tr>\n",
       "</table>"
      ],
      "text/plain": [
       "\tstep type\trequirements\tstatement\n",
       "0\tspecialization\t1, 2, 3, 4, 5, 6, 7, 8, 9, 10, 11, 12\t{A or B or C or D , A => H , B => I , C => J , D => K , A in BOOLEANS , B in BOOLEANS , C in BOOLEANS , D in BOOLEANS , H in BOOLEANS , I in BOOLEANS , J in BOOLEANS , K in BOOLEANS} |- H or I or J or K\n",
       "\tm : 4, A : (A , B , C , D), B : (H , I , J , K)\n",
       "1\ttheorem\t\t|- forall_{m in Naturals} [forall_{A, B in BOOLEANS^{m} | A_1 or  ...  or A_m , A_1 => B_1 ,  ...  , A_m => B_m} (B_1 or  ...  or B_m)]\n",
       "\tproveit.logic.boolean.disjunction.constructiveMultiDilemma\n",
       "2\ttheorem\t\t|- 4 in Naturals\n",
       "\tproveit.number.numeral.deci.nat4\n",
       "3\tspecialization\t17, 13, 14, 15, 16\t{A in BOOLEANS , B in BOOLEANS , C in BOOLEANS , D in BOOLEANS} |- (A , B , C , D) in BOOLEANS^{4}\n",
       "\tS : BOOLEANS, a : A, b : B, c : C, d : D\n",
       "4\tassumption\t\t{A or B or C or D} |- A or B or C or D\n",
       "5\tspecialization\t17, 18, 19, 20, 21\t{H in BOOLEANS , I in BOOLEANS , J in BOOLEANS , K in BOOLEANS} |- (H , I , J , K) in BOOLEANS^{4}\n",
       "\tS : BOOLEANS, a : H, b : I, c : J, d : K\n",
       "6\tassumption\t\t{A => H} |- A => H\n",
       "7\tassumption\t\t{B => I} |- B => I\n",
       "8\tassumption\t\t{C => J} |- C => J\n",
       "9\tassumption\t\t{D => K} |- D => K\n",
       "10\ttheorem\t\t|- (1 + 1) = 2\n",
       "\tproveit.number.numeral.deci.add_1_1\n",
       "11\ttheorem\t\t|- (2 + 1) = 3\n",
       "\tproveit.number.numeral.deci.add_2_1\n",
       "12\ttheorem\t\t|- (3 + 1) = 4\n",
       "\tproveit.number.numeral.deci.add_3_1\n",
       "13\tassumption\t\t{A in BOOLEANS} |- A in BOOLEANS\n",
       "14\tassumption\t\t{B in BOOLEANS} |- B in BOOLEANS\n",
       "15\tassumption\t\t{C in BOOLEANS} |- C in BOOLEANS\n",
       "16\tassumption\t\t{D in BOOLEANS} |- D in BOOLEANS\n",
       "17\ttheorem\t\t|- forall_{S} [forall_{a, b, c, d in S} ((a , b , c , d) in S^{4})]\n",
       "\tproveit.logic.set_theory.membership.exp_set_4\n",
       "18\tassumption\t\t{H in BOOLEANS} |- H in BOOLEANS\n",
       "19\tassumption\t\t{I in BOOLEANS} |- I in BOOLEANS\n",
       "20\tassumption\t\t{J in BOOLEANS} |- J in BOOLEANS\n",
       "21\tassumption\t\t{K in BOOLEANS} |- K in BOOLEANS"
      ]
     },
     "execution_count": 26,
     "metadata": {},
     "output_type": "execute_result"
    }
   ],
   "source": [
    "Or(A,B,C,D).deriveViaDilemma(Or(H,I,J,K),[Or(A,B,C,D), Implies(A,H), Implies(B,I), Implies(C,J), Implies(D,K),inBool(A), inBool(B), inBool(C), inBool(D), inBool(H), inBool(I), inBool(J), inBool(K)]).proof()"
   ]
  },
  {
   "cell_type": "code",
   "execution_count": 27,
   "metadata": {},
   "outputs": [
    {
     "data": {
      "text/html": [
       "<table><tr><th>&nbsp;</th><th>step type</th><th>requirements</th><th>statement</th></tr>\n",
       "<tr><td>0</td><td>specialization</td><td>1, 2, 3, 4</td><td><span style=\"font-size:20px;\"><a class=\"ProveItLink\" href=\"__pv_it/ccee58f2c36bdae4fbe3c1a549ddd16b3bc9dd230/expr.ipynb\"><img src=\"__pv_it/ccee58f2c36bdae4fbe3c1a549ddd16b3bc9dd230/expr.png\" style=\"display:inline;vertical-align:middle;\" /></a> &#x22A2;&nbsp;<a class=\"ProveItLink\" href=\"__pv_it/18fea9aacfdbba360f6c63083b0413ac4bac69340/expr.ipynb\"><img src=\"__pv_it/18fea9aacfdbba360f6c63083b0413ac4bac69340/expr.png\" style=\"display:inline;vertical-align:middle;\" /></a></span></td></tr>\n",
       "<tr><td>&nbsp;</td><td colspan=4 style=\"text-align:left\"><span style=\"font-size:20px;\"><a class=\"ProveItLink\" href=\"../../../__pv_it/78af03acba5349fd70398a32ce59bae1da52f0870/expr.ipynb\"><img src=\"../../../__pv_it/78af03acba5349fd70398a32ce59bae1da52f0870/expr.png\" style=\"display:inline;vertical-align:middle;\" /></a> : <a class=\"ProveItLink\" href=\"../../../number/numeral/__pv_it/77d407a64829263cdc16415becd4c2293f77a4bf0/expr.ipynb\"><img src=\"../../../number/numeral/__pv_it/77d407a64829263cdc16415becd4c2293f77a4bf0/expr.png\" style=\"display:inline;vertical-align:middle;\" /></a>, <a class=\"ProveItLink\" href=\"../../../__pv_it/39dbcd3ca0390345b51c6ef7785756419e2c14390/expr.ipynb\"><img src=\"../../../__pv_it/39dbcd3ca0390345b51c6ef7785756419e2c14390/expr.png\" style=\"display:inline;vertical-align:middle;\" /></a> : <a class=\"ProveItLink\" href=\"../../../number/numeral/__pv_it/9be8badea4c35b9724062cecc501d17a3158d1d20/expr.ipynb\"><img src=\"../../../number/numeral/__pv_it/9be8badea4c35b9724062cecc501d17a3158d1d20/expr.png\" style=\"display:inline;vertical-align:middle;\" /></a>, <a class=\"ProveItLink\" href=\"../../../__pv_it/eb438fefc4bd0ac977777d6dfd3e8a72dfbedbd50/expr.ipynb\"><img src=\"../../../__pv_it/eb438fefc4bd0ac977777d6dfd3e8a72dfbedbd50/expr.png\" style=\"display:inline;vertical-align:middle;\" /></a> : <a class=\"ProveItLink\" href=\"__pv_it/90dbc9a0a01da615f7b8f34f7e47f5efd6f8879d0/expr.ipynb\"><img src=\"__pv_it/90dbc9a0a01da615f7b8f34f7e47f5efd6f8879d0/expr.png\" style=\"display:inline;vertical-align:middle;\" /></a>, <a class=\"ProveItLink\" href=\"../../../__pv_it/077b2ff79244fb4582cbe22c6e3356fa92a52f2f0/expr.ipynb\"><img src=\"../../../__pv_it/077b2ff79244fb4582cbe22c6e3356fa92a52f2f0/expr.png\" style=\"display:inline;vertical-align:middle;\" /></a> : <a class=\"ProveItLink\" href=\"../../../__pv_it/0730776658406f13a5e8bca83a69f67d4b6b708d0/expr.ipynb\"><img src=\"../../../__pv_it/0730776658406f13a5e8bca83a69f67d4b6b708d0/expr.png\" style=\"display:inline;vertical-align:middle;\" /></a>, <a class=\"ProveItLink\" href=\"../../../__pv_it/9242e69d4f2c65d04fc0527b82418c7c22c6da370/expr.ipynb\"><img src=\"../../../__pv_it/9242e69d4f2c65d04fc0527b82418c7c22c6da370/expr.png\" style=\"display:inline;vertical-align:middle;\" /></a> : <a class=\"ProveItLink\" href=\"__pv_it/07cd00d3324cafb239b8ef95cd73147de1ee52350/expr.ipynb\"><img src=\"__pv_it/07cd00d3324cafb239b8ef95cd73147de1ee52350/expr.png\" style=\"display:inline;vertical-align:middle;\" /></a></span></td></tr><tr><td>1</td><td>theorem</td><td></td><td><span style=\"font-size:20px;\"> &#x22A2;&nbsp;<a class=\"ProveItLink\" href=\"__pv_it/cd30baf5ab2620c9803897366acf4394ab8c82330/expr.ipynb\"><img src=\"__pv_it/cd30baf5ab2620c9803897366acf4394ab8c82330/expr.png\" style=\"display:inline;vertical-align:middle;\" /></a></span></td></tr>\n",
       "<tr><td>&nbsp;</td><td colspan=4 style-\"text-align:left\"><a class=\"ProveItLink\" href=\"_proofs_/eachInBool.ipynb\">proveit.logic.boolean.disjunction.eachInBool</a></td></tr><tr><td>2</td><td>theorem</td><td></td><td><span style=\"font-size:20px;\"> &#x22A2;&nbsp;<a class=\"ProveItLink\" href=\"../../../number/numeral/deci/__pv_it/286f0443dba55bdb259c90cef1db0ca273fac95e0/expr.ipynb\"><img src=\"../../../number/numeral/deci/__pv_it/286f0443dba55bdb259c90cef1db0ca273fac95e0/expr.png\" style=\"display:inline;vertical-align:middle;\" /></a></span></td></tr>\n",
       "<tr><td>&nbsp;</td><td colspan=4 style-\"text-align:left\"><a class=\"ProveItLink\" href=\"../../../number/numeral/deci/_proofs_/nat2.ipynb\">proveit.number.numeral.deci.nat2</a></td></tr><tr><td>3</td><td>theorem</td><td></td><td><span style=\"font-size:20px;\"> &#x22A2;&nbsp;<a class=\"ProveItLink\" href=\"../../../number/numeral/deci/__pv_it/3f15fb519636fc585376b5b502be456d654dd18d0/expr.ipynb\"><img src=\"../../../number/numeral/deci/__pv_it/3f15fb519636fc585376b5b502be456d654dd18d0/expr.png\" style=\"display:inline;vertical-align:middle;\" /></a></span></td></tr>\n",
       "<tr><td>&nbsp;</td><td colspan=4 style-\"text-align:left\"><a class=\"ProveItLink\" href=\"../../../number/numeral/deci/_proofs_/nat1.ipynb\">proveit.number.numeral.deci.nat1</a></td></tr><tr><td>4</td><td>specialization</td><td>5, 6, 7, 8, 9, 10</td><td><span style=\"font-size:20px;\"><a class=\"ProveItLink\" href=\"__pv_it/ccee58f2c36bdae4fbe3c1a549ddd16b3bc9dd230/expr.ipynb\"><img src=\"__pv_it/ccee58f2c36bdae4fbe3c1a549ddd16b3bc9dd230/expr.png\" style=\"display:inline;vertical-align:middle;\" /></a> &#x22A2;&nbsp;<a class=\"ProveItLink\" href=\"__pv_it/03c771256e7a482d0d7f639b4a96f9651765225f0/expr.ipynb\"><img src=\"__pv_it/03c771256e7a482d0d7f639b4a96f9651765225f0/expr.png\" style=\"display:inline;vertical-align:middle;\" /></a></span></td></tr>\n",
       "<tr><td>&nbsp;</td><td colspan=4 style=\"text-align:left\"><span style=\"font-size:20px;\"><a class=\"ProveItLink\" href=\"../../../__pv_it/78af03acba5349fd70398a32ce59bae1da52f0870/expr.ipynb\"><img src=\"../../../__pv_it/78af03acba5349fd70398a32ce59bae1da52f0870/expr.png\" style=\"display:inline;vertical-align:middle;\" /></a> : <a class=\"ProveItLink\" href=\"../../../number/numeral/__pv_it/23412ce59ea7e77353d2f9225e02248e73651ca00/expr.ipynb\"><img src=\"../../../number/numeral/__pv_it/23412ce59ea7e77353d2f9225e02248e73651ca00/expr.png\" style=\"display:inline;vertical-align:middle;\" /></a>, <a class=\"ProveItLink\" href=\"../../../__pv_it/eb438fefc4bd0ac977777d6dfd3e8a72dfbedbd50/expr.ipynb\"><img src=\"../../../__pv_it/eb438fefc4bd0ac977777d6dfd3e8a72dfbedbd50/expr.png\" style=\"display:inline;vertical-align:middle;\" /></a> : <a class=\"ProveItLink\" href=\"__pv_it/8daf537f06022fc5ea1d346163e04ea9ec29c4730/expr.ipynb\"><img src=\"__pv_it/8daf537f06022fc5ea1d346163e04ea9ec29c4730/expr.png\" style=\"display:inline;vertical-align:middle;\" /></a></span></td></tr><tr><td>5</td><td>theorem</td><td></td><td><span style=\"font-size:20px;\"> &#x22A2;&nbsp;<a class=\"ProveItLink\" href=\"__pv_it/2cb505713778067a1b94f558521c476c9ef7d74f0/expr.ipynb\"><img src=\"__pv_it/2cb505713778067a1b94f558521c476c9ef7d74f0/expr.png\" style=\"display:inline;vertical-align:middle;\" /></a></span></td></tr>\n",
       "<tr><td>&nbsp;</td><td colspan=4 style-\"text-align:left\"><a class=\"ProveItLink\" href=\"_proofs_/closure.ipynb\">proveit.logic.boolean.disjunction.closure</a></td></tr><tr><td>6</td><td>theorem</td><td></td><td><span style=\"font-size:20px;\"> &#x22A2;&nbsp;<a class=\"ProveItLink\" href=\"../../../number/numeral/deci/__pv_it/3fc93db3b3fd1b15204240d9de18a48656bfb08c0/expr.ipynb\"><img src=\"../../../number/numeral/deci/__pv_it/3fc93db3b3fd1b15204240d9de18a48656bfb08c0/expr.png\" style=\"display:inline;vertical-align:middle;\" /></a></span></td></tr>\n",
       "<tr><td>&nbsp;</td><td colspan=4 style-\"text-align:left\"><a class=\"ProveItLink\" href=\"../../../number/numeral/deci/_proofs_/nat4.ipynb\">proveit.number.numeral.deci.nat4</a></td></tr><tr><td>7</td><td>specialization</td><td>11, 12, 13, 14, 15</td><td><span style=\"font-size:20px;\"><a class=\"ProveItLink\" href=\"__pv_it/ccee58f2c36bdae4fbe3c1a549ddd16b3bc9dd230/expr.ipynb\"><img src=\"__pv_it/ccee58f2c36bdae4fbe3c1a549ddd16b3bc9dd230/expr.png\" style=\"display:inline;vertical-align:middle;\" /></a> &#x22A2;&nbsp;<a class=\"ProveItLink\" href=\"__pv_it/214f8d96288f02e371e40bc804f70e586c4ef1dd0/expr.ipynb\"><img src=\"__pv_it/214f8d96288f02e371e40bc804f70e586c4ef1dd0/expr.png\" style=\"display:inline;vertical-align:middle;\" /></a></span></td></tr>\n",
       "<tr><td>&nbsp;</td><td colspan=4 style=\"text-align:left\"><span style=\"font-size:20px;\"><a class=\"ProveItLink\" href=\"../../../__pv_it/abeee18594afe51bfb1be95d9591fbba24ac53f30/expr.ipynb\"><img src=\"../../../__pv_it/abeee18594afe51bfb1be95d9591fbba24ac53f30/expr.png\" style=\"display:inline;vertical-align:middle;\" /></a> : <a class=\"ProveItLink\" href=\"../__pv_it/46271c8230be96415d662709611f4ed2279d702b0/expr.ipynb\"><img src=\"../__pv_it/46271c8230be96415d662709611f4ed2279d702b0/expr.png\" style=\"display:inline;vertical-align:middle;\" /></a>, <a class=\"ProveItLink\" href=\"../../../__pv_it/07527342713064c87612d00d8557c53d53d5324a0/expr.ipynb\"><img src=\"../../../__pv_it/07527342713064c87612d00d8557c53d53d5324a0/expr.png\" style=\"display:inline;vertical-align:middle;\" /></a> : <a class=\"ProveItLink\" href=\"../../../__pv_it/fabf74ac81cd36aa91075816201d2b14195a56e60/expr.ipynb\"><img src=\"../../../__pv_it/fabf74ac81cd36aa91075816201d2b14195a56e60/expr.png\" style=\"display:inline;vertical-align:middle;\" /></a>, <a class=\"ProveItLink\" href=\"../../../__pv_it/6840a4fa6c106149dc16a131294d0c5e44f1b0480/expr.ipynb\"><img src=\"../../../__pv_it/6840a4fa6c106149dc16a131294d0c5e44f1b0480/expr.png\" style=\"display:inline;vertical-align:middle;\" /></a> : <a class=\"ProveItLink\" href=\"../../../__pv_it/485fbf85ade6e4660c176b077846a05437e7af3e0/expr.ipynb\"><img src=\"../../../__pv_it/485fbf85ade6e4660c176b077846a05437e7af3e0/expr.png\" style=\"display:inline;vertical-align:middle;\" /></a>, <a class=\"ProveItLink\" href=\"../../../__pv_it/cbdfda466482236edba0ce44ac7ef39cda0af7a40/expr.ipynb\"><img src=\"../../../__pv_it/cbdfda466482236edba0ce44ac7ef39cda0af7a40/expr.png\" style=\"display:inline;vertical-align:middle;\" /></a> : <a class=\"ProveItLink\" href=\"../../../__pv_it/0730776658406f13a5e8bca83a69f67d4b6b708d0/expr.ipynb\"><img src=\"../../../__pv_it/0730776658406f13a5e8bca83a69f67d4b6b708d0/expr.png\" style=\"display:inline;vertical-align:middle;\" /></a>, <a class=\"ProveItLink\" href=\"../../../__pv_it/3a5de44ed6135dbbdbbeec6704c741e238f127300/expr.ipynb\"><img src=\"../../../__pv_it/3a5de44ed6135dbbdbbeec6704c741e238f127300/expr.png\" style=\"display:inline;vertical-align:middle;\" /></a> : <a class=\"ProveItLink\" href=\"../../../__pv_it/3fb1092d10295c809ebd5134eaa882b76222b6190/expr.ipynb\"><img src=\"../../../__pv_it/3fb1092d10295c809ebd5134eaa882b76222b6190/expr.png\" style=\"display:inline;vertical-align:middle;\" /></a></span></td></tr><tr><td>8</td><td>theorem</td><td></td><td><span style=\"font-size:20px;\"> &#x22A2;&nbsp;<a class=\"ProveItLink\" href=\"../../../number/numeral/deci/__pv_it/5b6ff6a2fca03ad41d2a3084e44fbb28428ffb6a0/expr.ipynb\"><img src=\"../../../number/numeral/deci/__pv_it/5b6ff6a2fca03ad41d2a3084e44fbb28428ffb6a0/expr.png\" style=\"display:inline;vertical-align:middle;\" /></a></span></td></tr>\n",
       "<tr><td>&nbsp;</td><td colspan=4 style-\"text-align:left\"><a class=\"ProveItLink\" href=\"../../../number/numeral/deci/_proofs_/add_1_1.ipynb\">proveit.number.numeral.deci.add_1_1</a></td></tr><tr><td>9</td><td>theorem</td><td></td><td><span style=\"font-size:20px;\"> &#x22A2;&nbsp;<a class=\"ProveItLink\" href=\"../../../number/numeral/deci/__pv_it/349c663074c343ced32577f83aa9971191d0752c0/expr.ipynb\"><img src=\"../../../number/numeral/deci/__pv_it/349c663074c343ced32577f83aa9971191d0752c0/expr.png\" style=\"display:inline;vertical-align:middle;\" /></a></span></td></tr>\n",
       "<tr><td>&nbsp;</td><td colspan=4 style-\"text-align:left\"><a class=\"ProveItLink\" href=\"../../../number/numeral/deci/_proofs_/add_2_1.ipynb\">proveit.number.numeral.deci.add_2_1</a></td></tr><tr><td>10</td><td>theorem</td><td></td><td><span style=\"font-size:20px;\"> &#x22A2;&nbsp;<a class=\"ProveItLink\" href=\"../../../number/numeral/deci/__pv_it/9b6fcf185675beb8420ce00c17510693f9522a6a0/expr.ipynb\"><img src=\"../../../number/numeral/deci/__pv_it/9b6fcf185675beb8420ce00c17510693f9522a6a0/expr.png\" style=\"display:inline;vertical-align:middle;\" /></a></span></td></tr>\n",
       "<tr><td>&nbsp;</td><td colspan=4 style-\"text-align:left\"><a class=\"ProveItLink\" href=\"../../../number/numeral/deci/_proofs_/add_3_1.ipynb\">proveit.number.numeral.deci.add_3_1</a></td></tr><tr><td>11</td><td>theorem</td><td></td><td><span style=\"font-size:20px;\"> &#x22A2;&nbsp;<a class=\"ProveItLink\" href=\"../../set_theory/membership/__pv_it/f8871096ab31a54eeeb7d5201addc96bdbcd44530/expr.ipynb\"><img src=\"../../set_theory/membership/__pv_it/f8871096ab31a54eeeb7d5201addc96bdbcd44530/expr.png\" style=\"display:inline;vertical-align:middle;\" /></a></span></td></tr>\n",
       "<tr><td>&nbsp;</td><td colspan=4 style-\"text-align:left\"><a class=\"ProveItLink\" href=\"../../set_theory/membership/_proofs_/exp_set_4.ipynb\">proveit.logic.set_theory.membership.exp_set_4</a></td></tr><tr><td>12</td><td>assumption</td><td></td><td><span style=\"font-size:20px;\"><a class=\"ProveItLink\" href=\"__pv_it/f1c02dcbccca55c6323566eb9b6559c223db9eea0/expr.ipynb\"><img src=\"__pv_it/f1c02dcbccca55c6323566eb9b6559c223db9eea0/expr.png\" style=\"display:inline;vertical-align:middle;\" /></a> &#x22A2;&nbsp;<a class=\"ProveItLink\" href=\"__pv_it/17434c062b130d50913b87eeb5dfaba66033fad10/expr.ipynb\"><img src=\"__pv_it/17434c062b130d50913b87eeb5dfaba66033fad10/expr.png\" style=\"display:inline;vertical-align:middle;\" /></a></span></td></tr>\n",
       "<tr><td>13</td><td>assumption</td><td></td><td><span style=\"font-size:20px;\"><a class=\"ProveItLink\" href=\"__pv_it/8ef2ac1365bcdf77bc7962a87186813767d871d50/expr.ipynb\"><img src=\"__pv_it/8ef2ac1365bcdf77bc7962a87186813767d871d50/expr.png\" style=\"display:inline;vertical-align:middle;\" /></a> &#x22A2;&nbsp;<a class=\"ProveItLink\" href=\"__pv_it/1d6b2c4f1effd46d34b2fa0b1cf19210f0f1841f0/expr.ipynb\"><img src=\"__pv_it/1d6b2c4f1effd46d34b2fa0b1cf19210f0f1841f0/expr.png\" style=\"display:inline;vertical-align:middle;\" /></a></span></td></tr>\n",
       "<tr><td>14</td><td>assumption</td><td></td><td><span style=\"font-size:20px;\"><a class=\"ProveItLink\" href=\"__pv_it/98eb048e8c8989434fc0eddba672f8a6a41a3ac90/expr.ipynb\"><img src=\"__pv_it/98eb048e8c8989434fc0eddba672f8a6a41a3ac90/expr.png\" style=\"display:inline;vertical-align:middle;\" /></a> &#x22A2;&nbsp;<a class=\"ProveItLink\" href=\"__pv_it/18fea9aacfdbba360f6c63083b0413ac4bac69340/expr.ipynb\"><img src=\"__pv_it/18fea9aacfdbba360f6c63083b0413ac4bac69340/expr.png\" style=\"display:inline;vertical-align:middle;\" /></a></span></td></tr>\n",
       "<tr><td>15</td><td>assumption</td><td></td><td><span style=\"font-size:20px;\"><a class=\"ProveItLink\" href=\"__pv_it/a7222e49607f64469976c46c34403e589e2f5ea50/expr.ipynb\"><img src=\"__pv_it/a7222e49607f64469976c46c34403e589e2f5ea50/expr.png\" style=\"display:inline;vertical-align:middle;\" /></a> &#x22A2;&nbsp;<a class=\"ProveItLink\" href=\"__pv_it/f393729af892cf80c996f620ae577c48a092f4070/expr.ipynb\"><img src=\"__pv_it/f393729af892cf80c996f620ae577c48a092f4070/expr.png\" style=\"display:inline;vertical-align:middle;\" /></a></span></td></tr>\n",
       "</table>"
      ],
      "text/plain": [
       "\tstep type\trequirements\tstatement\n",
       "0\tspecialization\t1, 2, 3, 4\t{H in BOOLEANS , I in BOOLEANS , J in BOOLEANS , K in BOOLEANS} |- J in BOOLEANS\n",
       "\tm : 2, n : 1, A : (H , I), B : J, C : (K)\n",
       "1\ttheorem\t\t|- forall_{m, n in Naturals} [forall_{A, B, C | (A_1 or  ...  or A_m or B or C_1 or  ...  or C_n) in BOOLEANS} (B in BOOLEANS)]\n",
       "\tproveit.logic.boolean.disjunction.eachInBool\n",
       "2\ttheorem\t\t|- 2 in Naturals\n",
       "\tproveit.number.numeral.deci.nat2\n",
       "3\ttheorem\t\t|- 1 in Naturals\n",
       "\tproveit.number.numeral.deci.nat1\n",
       "4\tspecialization\t5, 6, 7, 8, 9, 10\t{H in BOOLEANS , I in BOOLEANS , J in BOOLEANS , K in BOOLEANS} |- (H or I or J or K) in BOOLEANS\n",
       "\tm : 4, A : (H , I , J , K)\n",
       "5\ttheorem\t\t|- forall_{m in Naturals} [forall_{A in BOOLEANS^{m}} ((A_1 or  ...  or A_m) in BOOLEANS)]\n",
       "\tproveit.logic.boolean.disjunction.closure\n",
       "6\ttheorem\t\t|- 4 in Naturals\n",
       "\tproveit.number.numeral.deci.nat4\n",
       "7\tspecialization\t11, 12, 13, 14, 15\t{H in BOOLEANS , I in BOOLEANS , J in BOOLEANS , K in BOOLEANS} |- (H , I , J , K) in BOOLEANS^{4}\n",
       "\tS : BOOLEANS, a : H, b : I, c : J, d : K\n",
       "8\ttheorem\t\t|- (1 + 1) = 2\n",
       "\tproveit.number.numeral.deci.add_1_1\n",
       "9\ttheorem\t\t|- (2 + 1) = 3\n",
       "\tproveit.number.numeral.deci.add_2_1\n",
       "10\ttheorem\t\t|- (3 + 1) = 4\n",
       "\tproveit.number.numeral.deci.add_3_1\n",
       "11\ttheorem\t\t|- forall_{S} [forall_{a, b, c, d in S} ((a , b , c , d) in S^{4})]\n",
       "\tproveit.logic.set_theory.membership.exp_set_4\n",
       "12\tassumption\t\t{H in BOOLEANS} |- H in BOOLEANS\n",
       "13\tassumption\t\t{I in BOOLEANS} |- I in BOOLEANS\n",
       "14\tassumption\t\t{J in BOOLEANS} |- J in BOOLEANS\n",
       "15\tassumption\t\t{K in BOOLEANS} |- K in BOOLEANS"
      ]
     },
     "execution_count": 27,
     "metadata": {},
     "output_type": "execute_result"
    }
   ],
   "source": [
    "Or(H, I, J, K).deducePartInBool(2, inBool(H,I,J,K)).proof()"
   ]
  },
  {
   "cell_type": "markdown",
   "metadata": {},
   "source": [
    "destructiveDilemma"
   ]
  },
  {
   "cell_type": "code",
   "execution_count": 28,
   "metadata": {},
   "outputs": [
    {
     "data": {
      "text/html": [
       "<table><tr><th>&nbsp;</th><th>step type</th><th>requirements</th><th>statement</th></tr>\n",
       "<tr><td>0</td><td>specialization</td><td>1, 2, 3, 4, 5, 6, 7, 8</td><td><span style=\"font-size:20px;\"><a class=\"ProveItLink\" href=\"__pv_it/c7926894792810b1d5d315b96c535234babc4f210/expr.ipynb\"><img src=\"__pv_it/c7926894792810b1d5d315b96c535234babc4f210/expr.png\" style=\"display:inline;vertical-align:middle;\" /></a> &#x22A2;&nbsp;<a class=\"ProveItLink\" href=\"__pv_it/1b19a969c9911b580a2875ed233a999108eb89630/expr.ipynb\"><img src=\"__pv_it/1b19a969c9911b580a2875ed233a999108eb89630/expr.png\" style=\"display:inline;vertical-align:middle;\" /></a></span></td></tr>\n",
       "<tr><td>&nbsp;</td><td colspan=4 style=\"text-align:left\"><span style=\"font-size:20px;\"><a class=\"ProveItLink\" href=\"../../../__pv_it/2cbe72a7ad6f655694dd697106680215e8489b600/expr.ipynb\"><img src=\"../../../__pv_it/2cbe72a7ad6f655694dd697106680215e8489b600/expr.png\" style=\"display:inline;vertical-align:middle;\" /></a> : <a class=\"ProveItLink\" href=\"../../../__pv_it/2cbe72a7ad6f655694dd697106680215e8489b600/expr.ipynb\"><img src=\"../../../__pv_it/2cbe72a7ad6f655694dd697106680215e8489b600/expr.png\" style=\"display:inline;vertical-align:middle;\" /></a>, <a class=\"ProveItLink\" href=\"../../../__pv_it/077b2ff79244fb4582cbe22c6e3356fa92a52f2f0/expr.ipynb\"><img src=\"../../../__pv_it/077b2ff79244fb4582cbe22c6e3356fa92a52f2f0/expr.png\" style=\"display:inline;vertical-align:middle;\" /></a> : <a class=\"ProveItLink\" href=\"../../../__pv_it/077b2ff79244fb4582cbe22c6e3356fa92a52f2f0/expr.ipynb\"><img src=\"../../../__pv_it/077b2ff79244fb4582cbe22c6e3356fa92a52f2f0/expr.png\" style=\"display:inline;vertical-align:middle;\" /></a>, <a class=\"ProveItLink\" href=\"../../../__pv_it/985a1bdf1540838275dec15f4ad6de261cca93ce0/expr.ipynb\"><img src=\"../../../__pv_it/985a1bdf1540838275dec15f4ad6de261cca93ce0/expr.png\" style=\"display:inline;vertical-align:middle;\" /></a> : <a class=\"ProveItLink\" href=\"../../../__pv_it/985a1bdf1540838275dec15f4ad6de261cca93ce0/expr.ipynb\"><img src=\"../../../__pv_it/985a1bdf1540838275dec15f4ad6de261cca93ce0/expr.png\" style=\"display:inline;vertical-align:middle;\" /></a>, <a class=\"ProveItLink\" href=\"../../../__pv_it/185e6d30f167ee2ee5ef3321098dc98e0d77bc590/expr.ipynb\"><img src=\"../../../__pv_it/185e6d30f167ee2ee5ef3321098dc98e0d77bc590/expr.png\" style=\"display:inline;vertical-align:middle;\" /></a> : <a class=\"ProveItLink\" href=\"../../../__pv_it/185e6d30f167ee2ee5ef3321098dc98e0d77bc590/expr.ipynb\"><img src=\"../../../__pv_it/185e6d30f167ee2ee5ef3321098dc98e0d77bc590/expr.png\" style=\"display:inline;vertical-align:middle;\" /></a></span></td></tr><tr><td>1</td><td>theorem</td><td></td><td><span style=\"font-size:20px;\"> &#x22A2;&nbsp;<a class=\"ProveItLink\" href=\"__pv_it/7de8b210ccb671c7d6a6b32db451f642d98368b60/expr.ipynb\"><img src=\"__pv_it/7de8b210ccb671c7d6a6b32db451f642d98368b60/expr.png\" style=\"display:inline;vertical-align:middle;\" /></a></span></td></tr>\n",
       "<tr><td>&nbsp;</td><td colspan=4 style-\"text-align:left\"><a class=\"ProveItLink\" href=\"_proofs_/destructiveDilemma.ipynb\">proveit.logic.boolean.disjunction.destructiveDilemma</a></td></tr><tr><td>2</td><td>assumption</td><td></td><td><span style=\"font-size:20px;\"><a class=\"ProveItLink\" href=\"__pv_it/017ca8cfa034181c90ba15dd10869f0f4e516d6a0/expr.ipynb\"><img src=\"__pv_it/017ca8cfa034181c90ba15dd10869f0f4e516d6a0/expr.png\" style=\"display:inline;vertical-align:middle;\" /></a> &#x22A2;&nbsp;<a class=\"ProveItLink\" href=\"__pv_it/03a5c2b5cc6fc2c3cd686b4bcf84379b893abe210/expr.ipynb\"><img src=\"__pv_it/03a5c2b5cc6fc2c3cd686b4bcf84379b893abe210/expr.png\" style=\"display:inline;vertical-align:middle;\" /></a></span></td></tr>\n",
       "<tr><td>3</td><td>assumption</td><td></td><td><span style=\"font-size:20px;\"><a class=\"ProveItLink\" href=\"__pv_it/2c2e947402f53b9e11cd7769e1b5b3378595750e0/expr.ipynb\"><img src=\"__pv_it/2c2e947402f53b9e11cd7769e1b5b3378595750e0/expr.png\" style=\"display:inline;vertical-align:middle;\" /></a> &#x22A2;&nbsp;<a class=\"ProveItLink\" href=\"__pv_it/fe5c91c77f0659f9ea07a2e3257797875d6868370/expr.ipynb\"><img src=\"__pv_it/fe5c91c77f0659f9ea07a2e3257797875d6868370/expr.png\" style=\"display:inline;vertical-align:middle;\" /></a></span></td></tr>\n",
       "<tr><td>4</td><td>assumption</td><td></td><td><span style=\"font-size:20px;\"><a class=\"ProveItLink\" href=\"__pv_it/549ecf82a9d4ac5ca0750c6c3aaf83e6e7209ca90/expr.ipynb\"><img src=\"__pv_it/549ecf82a9d4ac5ca0750c6c3aaf83e6e7209ca90/expr.png\" style=\"display:inline;vertical-align:middle;\" /></a> &#x22A2;&nbsp;<a class=\"ProveItLink\" href=\"__pv_it/2cec3c732aceb253233bb533d4e43cc3f34f4f660/expr.ipynb\"><img src=\"__pv_it/2cec3c732aceb253233bb533d4e43cc3f34f4f660/expr.png\" style=\"display:inline;vertical-align:middle;\" /></a></span></td></tr>\n",
       "<tr><td>5</td><td>assumption</td><td></td><td><span style=\"font-size:20px;\"><a class=\"ProveItLink\" href=\"__pv_it/aa3618fdfba9edc866f19a2dbc2f7cde292ff1c70/expr.ipynb\"><img src=\"__pv_it/aa3618fdfba9edc866f19a2dbc2f7cde292ff1c70/expr.png\" style=\"display:inline;vertical-align:middle;\" /></a> &#x22A2;&nbsp;<a class=\"ProveItLink\" href=\"__pv_it/3891b823dfb55f51d513cc7144556dc1bfd425b70/expr.ipynb\"><img src=\"__pv_it/3891b823dfb55f51d513cc7144556dc1bfd425b70/expr.png\" style=\"display:inline;vertical-align:middle;\" /></a></span></td></tr>\n",
       "<tr><td>6</td><td>assumption</td><td></td><td><span style=\"font-size:20px;\"><a class=\"ProveItLink\" href=\"__pv_it/8227ec18f973fcbf83c9e0e2242ca7ce2d2cc1f10/expr.ipynb\"><img src=\"__pv_it/8227ec18f973fcbf83c9e0e2242ca7ce2d2cc1f10/expr.png\" style=\"display:inline;vertical-align:middle;\" /></a> &#x22A2;&nbsp;<a class=\"ProveItLink\" href=\"__pv_it/b0c52592c5c7a00624ff38aeefd4d74e5e15155c0/expr.ipynb\"><img src=\"__pv_it/b0c52592c5c7a00624ff38aeefd4d74e5e15155c0/expr.png\" style=\"display:inline;vertical-align:middle;\" /></a></span></td></tr>\n",
       "<tr><td>7</td><td>assumption</td><td></td><td><span style=\"font-size:20px;\"><a class=\"ProveItLink\" href=\"__pv_it/2b397a206fb82d71f2761db12bdc37b0a3e181fb0/expr.ipynb\"><img src=\"__pv_it/2b397a206fb82d71f2761db12bdc37b0a3e181fb0/expr.png\" style=\"display:inline;vertical-align:middle;\" /></a> &#x22A2;&nbsp;<a class=\"ProveItLink\" href=\"__pv_it/331937d6d92fa85ce5f21643895017d27da16a970/expr.ipynb\"><img src=\"__pv_it/331937d6d92fa85ce5f21643895017d27da16a970/expr.png\" style=\"display:inline;vertical-align:middle;\" /></a></span></td></tr>\n",
       "<tr><td>8</td><td>assumption</td><td></td><td><span style=\"font-size:20px;\"><a class=\"ProveItLink\" href=\"__pv_it/f1fac65ccef659fc47c1aac0e164213c40a2efaa0/expr.ipynb\"><img src=\"__pv_it/f1fac65ccef659fc47c1aac0e164213c40a2efaa0/expr.png\" style=\"display:inline;vertical-align:middle;\" /></a> &#x22A2;&nbsp;<a class=\"ProveItLink\" href=\"__pv_it/e3af43a0b7e250c3bd7b23616149288dd724e8c10/expr.ipynb\"><img src=\"__pv_it/e3af43a0b7e250c3bd7b23616149288dd724e8c10/expr.png\" style=\"display:inline;vertical-align:middle;\" /></a></span></td></tr>\n",
       "</table>"
      ],
      "text/plain": [
       "\tstep type\trequirements\tstatement\n",
       "0\tspecialization\t1, 2, 3, 4, 5, 6, 7, 8\t{[not](C) or [not](D) , A => C , B => D , A in BOOLEANS , B in BOOLEANS , C in BOOLEANS , D in BOOLEANS} |- [not](A) or [not](B)\n",
       "\tA : A, B : B, C : C, D : D\n",
       "1\ttheorem\t\t|- forall_{A, B, C, D in BOOLEANS | [not](C) or [not](D) , A => C , B => D} ([not](A) or [not](B))\n",
       "\tproveit.logic.boolean.disjunction.destructiveDilemma\n",
       "2\tassumption\t\t{A in BOOLEANS} |- A in BOOLEANS\n",
       "3\tassumption\t\t{B in BOOLEANS} |- B in BOOLEANS\n",
       "4\tassumption\t\t{C in BOOLEANS} |- C in BOOLEANS\n",
       "5\tassumption\t\t{D in BOOLEANS} |- D in BOOLEANS\n",
       "6\tassumption\t\t{[not](C) or [not](D)} |- [not](C) or [not](D)\n",
       "7\tassumption\t\t{A => C} |- A => C\n",
       "8\tassumption\t\t{B => D} |- B => D"
      ]
     },
     "execution_count": 28,
     "metadata": {},
     "output_type": "execute_result"
    }
   ],
   "source": [
    "Or(Not(C),Not(D)).deriveViaDilemma(Or(Not(A),Not(B)),[Or(Not(C),Not(D)), Implies(A,C), Implies(B,D),inBool(A),inBool(B),inBool(C),inBool(D)]).proof()"
   ]
  },
  {
   "cell_type": "code",
   "execution_count": 29,
   "metadata": {},
   "outputs": [
    {
     "data": {
      "text/html": [
       "<table><tr><th>&nbsp;</th><th>step type</th><th>requirements</th><th>statement</th></tr>\n",
       "<tr><td>0</td><td>specialization</td><td>1, 2, 3, 4, 5, 6, 7, 8, 9, 10, 11, 12</td><td><span style=\"font-size:20px;\"><a class=\"ProveItLink\" href=\"__pv_it/9a4ec19eb507b8dbc2e0ba2ef6f522bc9d39f02c0/expr.ipynb\"><img src=\"__pv_it/9a4ec19eb507b8dbc2e0ba2ef6f522bc9d39f02c0/expr.png\" style=\"display:inline;vertical-align:middle;\" /></a> &#x22A2;&nbsp;<a class=\"ProveItLink\" href=\"__pv_it/481decfc1504ff5350598fbe7a0123a8b036ea890/expr.ipynb\"><img src=\"__pv_it/481decfc1504ff5350598fbe7a0123a8b036ea890/expr.png\" style=\"display:inline;vertical-align:middle;\" /></a></span></td></tr>\n",
       "<tr><td>&nbsp;</td><td colspan=4 style=\"text-align:left\"><span style=\"font-size:20px;\"><a class=\"ProveItLink\" href=\"../../../__pv_it/78af03acba5349fd70398a32ce59bae1da52f0870/expr.ipynb\"><img src=\"../../../__pv_it/78af03acba5349fd70398a32ce59bae1da52f0870/expr.png\" style=\"display:inline;vertical-align:middle;\" /></a> : <a class=\"ProveItLink\" href=\"../../../number/numeral/__pv_it/23412ce59ea7e77353d2f9225e02248e73651ca00/expr.ipynb\"><img src=\"../../../number/numeral/__pv_it/23412ce59ea7e77353d2f9225e02248e73651ca00/expr.png\" style=\"display:inline;vertical-align:middle;\" /></a>, <a class=\"ProveItLink\" href=\"../../../__pv_it/eb438fefc4bd0ac977777d6dfd3e8a72dfbedbd50/expr.ipynb\"><img src=\"../../../__pv_it/eb438fefc4bd0ac977777d6dfd3e8a72dfbedbd50/expr.png\" style=\"display:inline;vertical-align:middle;\" /></a> : <a class=\"ProveItLink\" href=\"__pv_it/ba51a0fc910408dc1211c29b03a29f7cec842b550/expr.ipynb\"><img src=\"__pv_it/ba51a0fc910408dc1211c29b03a29f7cec842b550/expr.png\" style=\"display:inline;vertical-align:middle;\" /></a>, <a class=\"ProveItLink\" href=\"../../../__pv_it/a275d402e75fbbde925e8ebdcbfd239a2138849c0/expr.ipynb\"><img src=\"../../../__pv_it/a275d402e75fbbde925e8ebdcbfd239a2138849c0/expr.png\" style=\"display:inline;vertical-align:middle;\" /></a> : <a class=\"ProveItLink\" href=\"__pv_it/8daf537f06022fc5ea1d346163e04ea9ec29c4730/expr.ipynb\"><img src=\"__pv_it/8daf537f06022fc5ea1d346163e04ea9ec29c4730/expr.png\" style=\"display:inline;vertical-align:middle;\" /></a></span></td></tr><tr><td>1</td><td>theorem</td><td></td><td><span style=\"font-size:20px;\"> &#x22A2;&nbsp;<a class=\"ProveItLink\" href=\"__pv_it/66a9d9c160f684c869a95af06169260f8978fe810/expr.ipynb\"><img src=\"__pv_it/66a9d9c160f684c869a95af06169260f8978fe810/expr.png\" style=\"display:inline;vertical-align:middle;\" /></a></span></td></tr>\n",
       "<tr><td>&nbsp;</td><td colspan=4 style-\"text-align:left\"><a class=\"ProveItLink\" href=\"_proofs_/destructiveMultiDilemma.ipynb\">proveit.logic.boolean.disjunction.destructiveMultiDilemma</a></td></tr><tr><td>2</td><td>theorem</td><td></td><td><span style=\"font-size:20px;\"> &#x22A2;&nbsp;<a class=\"ProveItLink\" href=\"../../../number/numeral/deci/__pv_it/3fc93db3b3fd1b15204240d9de18a48656bfb08c0/expr.ipynb\"><img src=\"../../../number/numeral/deci/__pv_it/3fc93db3b3fd1b15204240d9de18a48656bfb08c0/expr.png\" style=\"display:inline;vertical-align:middle;\" /></a></span></td></tr>\n",
       "<tr><td>&nbsp;</td><td colspan=4 style-\"text-align:left\"><a class=\"ProveItLink\" href=\"../../../number/numeral/deci/_proofs_/nat4.ipynb\">proveit.number.numeral.deci.nat4</a></td></tr><tr><td>3</td><td>specialization</td><td>17, 13, 14, 15, 16</td><td><span style=\"font-size:20px;\"><a class=\"ProveItLink\" href=\"__pv_it/f28f9b812246a6c4975e6f67667fe62b1fba502a0/expr.ipynb\"><img src=\"__pv_it/f28f9b812246a6c4975e6f67667fe62b1fba502a0/expr.png\" style=\"display:inline;vertical-align:middle;\" /></a> &#x22A2;&nbsp;<a class=\"ProveItLink\" href=\"__pv_it/c7afd1ead8211492267b3cefac34659a98e80ce80/expr.ipynb\"><img src=\"__pv_it/c7afd1ead8211492267b3cefac34659a98e80ce80/expr.png\" style=\"display:inline;vertical-align:middle;\" /></a></span></td></tr>\n",
       "<tr><td>&nbsp;</td><td colspan=4 style=\"text-align:left\"><span style=\"font-size:20px;\"><a class=\"ProveItLink\" href=\"../../../__pv_it/abeee18594afe51bfb1be95d9591fbba24ac53f30/expr.ipynb\"><img src=\"../../../__pv_it/abeee18594afe51bfb1be95d9591fbba24ac53f30/expr.png\" style=\"display:inline;vertical-align:middle;\" /></a> : <a class=\"ProveItLink\" href=\"../__pv_it/46271c8230be96415d662709611f4ed2279d702b0/expr.ipynb\"><img src=\"../__pv_it/46271c8230be96415d662709611f4ed2279d702b0/expr.png\" style=\"display:inline;vertical-align:middle;\" /></a>, <a class=\"ProveItLink\" href=\"../../../__pv_it/07527342713064c87612d00d8557c53d53d5324a0/expr.ipynb\"><img src=\"../../../__pv_it/07527342713064c87612d00d8557c53d53d5324a0/expr.png\" style=\"display:inline;vertical-align:middle;\" /></a> : <a class=\"ProveItLink\" href=\"../../../__pv_it/2cbe72a7ad6f655694dd697106680215e8489b600/expr.ipynb\"><img src=\"../../../__pv_it/2cbe72a7ad6f655694dd697106680215e8489b600/expr.png\" style=\"display:inline;vertical-align:middle;\" /></a>, <a class=\"ProveItLink\" href=\"../../../__pv_it/6840a4fa6c106149dc16a131294d0c5e44f1b0480/expr.ipynb\"><img src=\"../../../__pv_it/6840a4fa6c106149dc16a131294d0c5e44f1b0480/expr.png\" style=\"display:inline;vertical-align:middle;\" /></a> : <a class=\"ProveItLink\" href=\"../../../__pv_it/077b2ff79244fb4582cbe22c6e3356fa92a52f2f0/expr.ipynb\"><img src=\"../../../__pv_it/077b2ff79244fb4582cbe22c6e3356fa92a52f2f0/expr.png\" style=\"display:inline;vertical-align:middle;\" /></a>, <a class=\"ProveItLink\" href=\"../../../__pv_it/cbdfda466482236edba0ce44ac7ef39cda0af7a40/expr.ipynb\"><img src=\"../../../__pv_it/cbdfda466482236edba0ce44ac7ef39cda0af7a40/expr.png\" style=\"display:inline;vertical-align:middle;\" /></a> : <a class=\"ProveItLink\" href=\"../../../__pv_it/985a1bdf1540838275dec15f4ad6de261cca93ce0/expr.ipynb\"><img src=\"../../../__pv_it/985a1bdf1540838275dec15f4ad6de261cca93ce0/expr.png\" style=\"display:inline;vertical-align:middle;\" /></a>, <a class=\"ProveItLink\" href=\"../../../__pv_it/3a5de44ed6135dbbdbbeec6704c741e238f127300/expr.ipynb\"><img src=\"../../../__pv_it/3a5de44ed6135dbbdbbeec6704c741e238f127300/expr.png\" style=\"display:inline;vertical-align:middle;\" /></a> : <a class=\"ProveItLink\" href=\"../../../__pv_it/185e6d30f167ee2ee5ef3321098dc98e0d77bc590/expr.ipynb\"><img src=\"../../../__pv_it/185e6d30f167ee2ee5ef3321098dc98e0d77bc590/expr.png\" style=\"display:inline;vertical-align:middle;\" /></a></span></td></tr><tr><td>4</td><td>assumption</td><td></td><td><span style=\"font-size:20px;\"><a class=\"ProveItLink\" href=\"__pv_it/430f5545eabb87c61a3872ae7c16f60a6fb5f8c70/expr.ipynb\"><img src=\"__pv_it/430f5545eabb87c61a3872ae7c16f60a6fb5f8c70/expr.png\" style=\"display:inline;vertical-align:middle;\" /></a> &#x22A2;&nbsp;<a class=\"ProveItLink\" href=\"__pv_it/b6d11d8705aea4b3c73d8a479c0dab2d6333693c0/expr.ipynb\"><img src=\"__pv_it/b6d11d8705aea4b3c73d8a479c0dab2d6333693c0/expr.png\" style=\"display:inline;vertical-align:middle;\" /></a></span></td></tr>\n",
       "<tr><td>5</td><td>specialization</td><td>17, 18, 19, 20, 21</td><td><span style=\"font-size:20px;\"><a class=\"ProveItLink\" href=\"__pv_it/ccee58f2c36bdae4fbe3c1a549ddd16b3bc9dd230/expr.ipynb\"><img src=\"__pv_it/ccee58f2c36bdae4fbe3c1a549ddd16b3bc9dd230/expr.png\" style=\"display:inline;vertical-align:middle;\" /></a> &#x22A2;&nbsp;<a class=\"ProveItLink\" href=\"__pv_it/214f8d96288f02e371e40bc804f70e586c4ef1dd0/expr.ipynb\"><img src=\"__pv_it/214f8d96288f02e371e40bc804f70e586c4ef1dd0/expr.png\" style=\"display:inline;vertical-align:middle;\" /></a></span></td></tr>\n",
       "<tr><td>&nbsp;</td><td colspan=4 style=\"text-align:left\"><span style=\"font-size:20px;\"><a class=\"ProveItLink\" href=\"../../../__pv_it/abeee18594afe51bfb1be95d9591fbba24ac53f30/expr.ipynb\"><img src=\"../../../__pv_it/abeee18594afe51bfb1be95d9591fbba24ac53f30/expr.png\" style=\"display:inline;vertical-align:middle;\" /></a> : <a class=\"ProveItLink\" href=\"../__pv_it/46271c8230be96415d662709611f4ed2279d702b0/expr.ipynb\"><img src=\"../__pv_it/46271c8230be96415d662709611f4ed2279d702b0/expr.png\" style=\"display:inline;vertical-align:middle;\" /></a>, <a class=\"ProveItLink\" href=\"../../../__pv_it/07527342713064c87612d00d8557c53d53d5324a0/expr.ipynb\"><img src=\"../../../__pv_it/07527342713064c87612d00d8557c53d53d5324a0/expr.png\" style=\"display:inline;vertical-align:middle;\" /></a> : <a class=\"ProveItLink\" href=\"../../../__pv_it/fabf74ac81cd36aa91075816201d2b14195a56e60/expr.ipynb\"><img src=\"../../../__pv_it/fabf74ac81cd36aa91075816201d2b14195a56e60/expr.png\" style=\"display:inline;vertical-align:middle;\" /></a>, <a class=\"ProveItLink\" href=\"../../../__pv_it/6840a4fa6c106149dc16a131294d0c5e44f1b0480/expr.ipynb\"><img src=\"../../../__pv_it/6840a4fa6c106149dc16a131294d0c5e44f1b0480/expr.png\" style=\"display:inline;vertical-align:middle;\" /></a> : <a class=\"ProveItLink\" href=\"../../../__pv_it/485fbf85ade6e4660c176b077846a05437e7af3e0/expr.ipynb\"><img src=\"../../../__pv_it/485fbf85ade6e4660c176b077846a05437e7af3e0/expr.png\" style=\"display:inline;vertical-align:middle;\" /></a>, <a class=\"ProveItLink\" href=\"../../../__pv_it/cbdfda466482236edba0ce44ac7ef39cda0af7a40/expr.ipynb\"><img src=\"../../../__pv_it/cbdfda466482236edba0ce44ac7ef39cda0af7a40/expr.png\" style=\"display:inline;vertical-align:middle;\" /></a> : <a class=\"ProveItLink\" href=\"../../../__pv_it/0730776658406f13a5e8bca83a69f67d4b6b708d0/expr.ipynb\"><img src=\"../../../__pv_it/0730776658406f13a5e8bca83a69f67d4b6b708d0/expr.png\" style=\"display:inline;vertical-align:middle;\" /></a>, <a class=\"ProveItLink\" href=\"../../../__pv_it/3a5de44ed6135dbbdbbeec6704c741e238f127300/expr.ipynb\"><img src=\"../../../__pv_it/3a5de44ed6135dbbdbbeec6704c741e238f127300/expr.png\" style=\"display:inline;vertical-align:middle;\" /></a> : <a class=\"ProveItLink\" href=\"../../../__pv_it/3fb1092d10295c809ebd5134eaa882b76222b6190/expr.ipynb\"><img src=\"../../../__pv_it/3fb1092d10295c809ebd5134eaa882b76222b6190/expr.png\" style=\"display:inline;vertical-align:middle;\" /></a></span></td></tr><tr><td>6</td><td>assumption</td><td></td><td><span style=\"font-size:20px;\"><a class=\"ProveItLink\" href=\"__pv_it/8bf85a3925f1a2803d98a798aaa94291fc5cc3690/expr.ipynb\"><img src=\"__pv_it/8bf85a3925f1a2803d98a798aaa94291fc5cc3690/expr.png\" style=\"display:inline;vertical-align:middle;\" /></a> &#x22A2;&nbsp;<a class=\"ProveItLink\" href=\"__pv_it/53975f3a0fe602613858ce27b377e7070a009d300/expr.ipynb\"><img src=\"__pv_it/53975f3a0fe602613858ce27b377e7070a009d300/expr.png\" style=\"display:inline;vertical-align:middle;\" /></a></span></td></tr>\n",
       "<tr><td>7</td><td>assumption</td><td></td><td><span style=\"font-size:20px;\"><a class=\"ProveItLink\" href=\"__pv_it/5ee9b38e37ab81660d95598d8c751a61a7b8351d0/expr.ipynb\"><img src=\"__pv_it/5ee9b38e37ab81660d95598d8c751a61a7b8351d0/expr.png\" style=\"display:inline;vertical-align:middle;\" /></a> &#x22A2;&nbsp;<a class=\"ProveItLink\" href=\"__pv_it/e0f08a66c4c42f62ba748df98387179cd53edce50/expr.ipynb\"><img src=\"__pv_it/e0f08a66c4c42f62ba748df98387179cd53edce50/expr.png\" style=\"display:inline;vertical-align:middle;\" /></a></span></td></tr>\n",
       "<tr><td>8</td><td>assumption</td><td></td><td><span style=\"font-size:20px;\"><a class=\"ProveItLink\" href=\"__pv_it/ec194aa6c78f45aa8d15ba11d2c31d3f1de3942b0/expr.ipynb\"><img src=\"__pv_it/ec194aa6c78f45aa8d15ba11d2c31d3f1de3942b0/expr.png\" style=\"display:inline;vertical-align:middle;\" /></a> &#x22A2;&nbsp;<a class=\"ProveItLink\" href=\"__pv_it/48a3f3419d363f6398ac736f485853e1b8db8b210/expr.ipynb\"><img src=\"__pv_it/48a3f3419d363f6398ac736f485853e1b8db8b210/expr.png\" style=\"display:inline;vertical-align:middle;\" /></a></span></td></tr>\n",
       "<tr><td>9</td><td>assumption</td><td></td><td><span style=\"font-size:20px;\"><a class=\"ProveItLink\" href=\"__pv_it/0eaa25321f21538851d00527ffa5e360fbaa566a0/expr.ipynb\"><img src=\"__pv_it/0eaa25321f21538851d00527ffa5e360fbaa566a0/expr.png\" style=\"display:inline;vertical-align:middle;\" /></a> &#x22A2;&nbsp;<a class=\"ProveItLink\" href=\"__pv_it/3f989b10d695ff727c582da6f00d668b09e16b7a0/expr.ipynb\"><img src=\"__pv_it/3f989b10d695ff727c582da6f00d668b09e16b7a0/expr.png\" style=\"display:inline;vertical-align:middle;\" /></a></span></td></tr>\n",
       "<tr><td>10</td><td>theorem</td><td></td><td><span style=\"font-size:20px;\"> &#x22A2;&nbsp;<a class=\"ProveItLink\" href=\"../../../number/numeral/deci/__pv_it/5b6ff6a2fca03ad41d2a3084e44fbb28428ffb6a0/expr.ipynb\"><img src=\"../../../number/numeral/deci/__pv_it/5b6ff6a2fca03ad41d2a3084e44fbb28428ffb6a0/expr.png\" style=\"display:inline;vertical-align:middle;\" /></a></span></td></tr>\n",
       "<tr><td>&nbsp;</td><td colspan=4 style-\"text-align:left\"><a class=\"ProveItLink\" href=\"../../../number/numeral/deci/_proofs_/add_1_1.ipynb\">proveit.number.numeral.deci.add_1_1</a></td></tr><tr><td>11</td><td>theorem</td><td></td><td><span style=\"font-size:20px;\"> &#x22A2;&nbsp;<a class=\"ProveItLink\" href=\"../../../number/numeral/deci/__pv_it/349c663074c343ced32577f83aa9971191d0752c0/expr.ipynb\"><img src=\"../../../number/numeral/deci/__pv_it/349c663074c343ced32577f83aa9971191d0752c0/expr.png\" style=\"display:inline;vertical-align:middle;\" /></a></span></td></tr>\n",
       "<tr><td>&nbsp;</td><td colspan=4 style-\"text-align:left\"><a class=\"ProveItLink\" href=\"../../../number/numeral/deci/_proofs_/add_2_1.ipynb\">proveit.number.numeral.deci.add_2_1</a></td></tr><tr><td>12</td><td>theorem</td><td></td><td><span style=\"font-size:20px;\"> &#x22A2;&nbsp;<a class=\"ProveItLink\" href=\"../../../number/numeral/deci/__pv_it/9b6fcf185675beb8420ce00c17510693f9522a6a0/expr.ipynb\"><img src=\"../../../number/numeral/deci/__pv_it/9b6fcf185675beb8420ce00c17510693f9522a6a0/expr.png\" style=\"display:inline;vertical-align:middle;\" /></a></span></td></tr>\n",
       "<tr><td>&nbsp;</td><td colspan=4 style-\"text-align:left\"><a class=\"ProveItLink\" href=\"../../../number/numeral/deci/_proofs_/add_3_1.ipynb\">proveit.number.numeral.deci.add_3_1</a></td></tr><tr><td>13</td><td>assumption</td><td></td><td><span style=\"font-size:20px;\"><a class=\"ProveItLink\" href=\"__pv_it/017ca8cfa034181c90ba15dd10869f0f4e516d6a0/expr.ipynb\"><img src=\"__pv_it/017ca8cfa034181c90ba15dd10869f0f4e516d6a0/expr.png\" style=\"display:inline;vertical-align:middle;\" /></a> &#x22A2;&nbsp;<a class=\"ProveItLink\" href=\"__pv_it/03a5c2b5cc6fc2c3cd686b4bcf84379b893abe210/expr.ipynb\"><img src=\"__pv_it/03a5c2b5cc6fc2c3cd686b4bcf84379b893abe210/expr.png\" style=\"display:inline;vertical-align:middle;\" /></a></span></td></tr>\n",
       "<tr><td>14</td><td>assumption</td><td></td><td><span style=\"font-size:20px;\"><a class=\"ProveItLink\" href=\"__pv_it/2c2e947402f53b9e11cd7769e1b5b3378595750e0/expr.ipynb\"><img src=\"__pv_it/2c2e947402f53b9e11cd7769e1b5b3378595750e0/expr.png\" style=\"display:inline;vertical-align:middle;\" /></a> &#x22A2;&nbsp;<a class=\"ProveItLink\" href=\"__pv_it/fe5c91c77f0659f9ea07a2e3257797875d6868370/expr.ipynb\"><img src=\"__pv_it/fe5c91c77f0659f9ea07a2e3257797875d6868370/expr.png\" style=\"display:inline;vertical-align:middle;\" /></a></span></td></tr>\n",
       "<tr><td>15</td><td>assumption</td><td></td><td><span style=\"font-size:20px;\"><a class=\"ProveItLink\" href=\"__pv_it/549ecf82a9d4ac5ca0750c6c3aaf83e6e7209ca90/expr.ipynb\"><img src=\"__pv_it/549ecf82a9d4ac5ca0750c6c3aaf83e6e7209ca90/expr.png\" style=\"display:inline;vertical-align:middle;\" /></a> &#x22A2;&nbsp;<a class=\"ProveItLink\" href=\"__pv_it/2cec3c732aceb253233bb533d4e43cc3f34f4f660/expr.ipynb\"><img src=\"__pv_it/2cec3c732aceb253233bb533d4e43cc3f34f4f660/expr.png\" style=\"display:inline;vertical-align:middle;\" /></a></span></td></tr>\n",
       "<tr><td>16</td><td>assumption</td><td></td><td><span style=\"font-size:20px;\"><a class=\"ProveItLink\" href=\"__pv_it/aa3618fdfba9edc866f19a2dbc2f7cde292ff1c70/expr.ipynb\"><img src=\"__pv_it/aa3618fdfba9edc866f19a2dbc2f7cde292ff1c70/expr.png\" style=\"display:inline;vertical-align:middle;\" /></a> &#x22A2;&nbsp;<a class=\"ProveItLink\" href=\"__pv_it/3891b823dfb55f51d513cc7144556dc1bfd425b70/expr.ipynb\"><img src=\"__pv_it/3891b823dfb55f51d513cc7144556dc1bfd425b70/expr.png\" style=\"display:inline;vertical-align:middle;\" /></a></span></td></tr>\n",
       "<tr><td>17</td><td>theorem</td><td></td><td><span style=\"font-size:20px;\"> &#x22A2;&nbsp;<a class=\"ProveItLink\" href=\"../../set_theory/membership/__pv_it/f8871096ab31a54eeeb7d5201addc96bdbcd44530/expr.ipynb\"><img src=\"../../set_theory/membership/__pv_it/f8871096ab31a54eeeb7d5201addc96bdbcd44530/expr.png\" style=\"display:inline;vertical-align:middle;\" /></a></span></td></tr>\n",
       "<tr><td>&nbsp;</td><td colspan=4 style-\"text-align:left\"><a class=\"ProveItLink\" href=\"../../set_theory/membership/_proofs_/exp_set_4.ipynb\">proveit.logic.set_theory.membership.exp_set_4</a></td></tr><tr><td>18</td><td>assumption</td><td></td><td><span style=\"font-size:20px;\"><a class=\"ProveItLink\" href=\"__pv_it/f1c02dcbccca55c6323566eb9b6559c223db9eea0/expr.ipynb\"><img src=\"__pv_it/f1c02dcbccca55c6323566eb9b6559c223db9eea0/expr.png\" style=\"display:inline;vertical-align:middle;\" /></a> &#x22A2;&nbsp;<a class=\"ProveItLink\" href=\"__pv_it/17434c062b130d50913b87eeb5dfaba66033fad10/expr.ipynb\"><img src=\"__pv_it/17434c062b130d50913b87eeb5dfaba66033fad10/expr.png\" style=\"display:inline;vertical-align:middle;\" /></a></span></td></tr>\n",
       "<tr><td>19</td><td>assumption</td><td></td><td><span style=\"font-size:20px;\"><a class=\"ProveItLink\" href=\"__pv_it/8ef2ac1365bcdf77bc7962a87186813767d871d50/expr.ipynb\"><img src=\"__pv_it/8ef2ac1365bcdf77bc7962a87186813767d871d50/expr.png\" style=\"display:inline;vertical-align:middle;\" /></a> &#x22A2;&nbsp;<a class=\"ProveItLink\" href=\"__pv_it/1d6b2c4f1effd46d34b2fa0b1cf19210f0f1841f0/expr.ipynb\"><img src=\"__pv_it/1d6b2c4f1effd46d34b2fa0b1cf19210f0f1841f0/expr.png\" style=\"display:inline;vertical-align:middle;\" /></a></span></td></tr>\n",
       "<tr><td>20</td><td>assumption</td><td></td><td><span style=\"font-size:20px;\"><a class=\"ProveItLink\" href=\"__pv_it/98eb048e8c8989434fc0eddba672f8a6a41a3ac90/expr.ipynb\"><img src=\"__pv_it/98eb048e8c8989434fc0eddba672f8a6a41a3ac90/expr.png\" style=\"display:inline;vertical-align:middle;\" /></a> &#x22A2;&nbsp;<a class=\"ProveItLink\" href=\"__pv_it/18fea9aacfdbba360f6c63083b0413ac4bac69340/expr.ipynb\"><img src=\"__pv_it/18fea9aacfdbba360f6c63083b0413ac4bac69340/expr.png\" style=\"display:inline;vertical-align:middle;\" /></a></span></td></tr>\n",
       "<tr><td>21</td><td>assumption</td><td></td><td><span style=\"font-size:20px;\"><a class=\"ProveItLink\" href=\"__pv_it/a7222e49607f64469976c46c34403e589e2f5ea50/expr.ipynb\"><img src=\"__pv_it/a7222e49607f64469976c46c34403e589e2f5ea50/expr.png\" style=\"display:inline;vertical-align:middle;\" /></a> &#x22A2;&nbsp;<a class=\"ProveItLink\" href=\"__pv_it/f393729af892cf80c996f620ae577c48a092f4070/expr.ipynb\"><img src=\"__pv_it/f393729af892cf80c996f620ae577c48a092f4070/expr.png\" style=\"display:inline;vertical-align:middle;\" /></a></span></td></tr>\n",
       "</table>"
      ],
      "text/plain": [
       "\tstep type\trequirements\tstatement\n",
       "0\tspecialization\t1, 2, 3, 4, 5, 6, 7, 8, 9, 10, 11, 12\t{[not](A) or [not](B) or [not](C) or [not](D) , A => H , B => I , C => J , D => K , A in BOOLEANS , B in BOOLEANS , C in BOOLEANS , D in BOOLEANS , H in BOOLEANS , I in BOOLEANS , J in BOOLEANS , K in BOOLEANS} |- [not](H) or [not](I) or [not](J) or [not](K)\n",
       "\tm : 4, A : (A , B , C , D), B : (H , I , J , K)\n",
       "1\ttheorem\t\t|- forall_{m in Naturals} [forall_{A, B in BOOLEANS^{m} | [not](A_1) or  ...  or [not](A_m) , A_1 => B_1 ,  ...  , A_m => B_m} ([not](B_1) or  ...  or [not](B_m))]\n",
       "\tproveit.logic.boolean.disjunction.destructiveMultiDilemma\n",
       "2\ttheorem\t\t|- 4 in Naturals\n",
       "\tproveit.number.numeral.deci.nat4\n",
       "3\tspecialization\t17, 13, 14, 15, 16\t{A in BOOLEANS , B in BOOLEANS , C in BOOLEANS , D in BOOLEANS} |- (A , B , C , D) in BOOLEANS^{4}\n",
       "\tS : BOOLEANS, a : A, b : B, c : C, d : D\n",
       "4\tassumption\t\t{[not](A) or [not](B) or [not](C) or [not](D)} |- [not](A) or [not](B) or [not](C) or [not](D)\n",
       "5\tspecialization\t17, 18, 19, 20, 21\t{H in BOOLEANS , I in BOOLEANS , J in BOOLEANS , K in BOOLEANS} |- (H , I , J , K) in BOOLEANS^{4}\n",
       "\tS : BOOLEANS, a : H, b : I, c : J, d : K\n",
       "6\tassumption\t\t{A => H} |- A => H\n",
       "7\tassumption\t\t{B => I} |- B => I\n",
       "8\tassumption\t\t{C => J} |- C => J\n",
       "9\tassumption\t\t{D => K} |- D => K\n",
       "10\ttheorem\t\t|- (1 + 1) = 2\n",
       "\tproveit.number.numeral.deci.add_1_1\n",
       "11\ttheorem\t\t|- (2 + 1) = 3\n",
       "\tproveit.number.numeral.deci.add_2_1\n",
       "12\ttheorem\t\t|- (3 + 1) = 4\n",
       "\tproveit.number.numeral.deci.add_3_1\n",
       "13\tassumption\t\t{A in BOOLEANS} |- A in BOOLEANS\n",
       "14\tassumption\t\t{B in BOOLEANS} |- B in BOOLEANS\n",
       "15\tassumption\t\t{C in BOOLEANS} |- C in BOOLEANS\n",
       "16\tassumption\t\t{D in BOOLEANS} |- D in BOOLEANS\n",
       "17\ttheorem\t\t|- forall_{S} [forall_{a, b, c, d in S} ((a , b , c , d) in S^{4})]\n",
       "\tproveit.logic.set_theory.membership.exp_set_4\n",
       "18\tassumption\t\t{H in BOOLEANS} |- H in BOOLEANS\n",
       "19\tassumption\t\t{I in BOOLEANS} |- I in BOOLEANS\n",
       "20\tassumption\t\t{J in BOOLEANS} |- J in BOOLEANS\n",
       "21\tassumption\t\t{K in BOOLEANS} |- K in BOOLEANS"
      ]
     },
     "execution_count": 29,
     "metadata": {},
     "output_type": "execute_result"
    }
   ],
   "source": [
    "Or(Not(A), Not(B), Not(C), Not(D)).deriveViaDilemma(Or(Not(H), Not(I), Not(J), Not(K)),[Or(Not(A), Not(B), Not(C), Not(D)),Implies(A,H), Implies(B,I), Implies(C,J), Implies(D,K),inBool(A), inBool(B), inBool(C), inBool(D), inBool(H), inBool(I), inBool(J), inBool(K)]).proof()"
   ]
  },
  {
   "cell_type": "code",
   "execution_count": 30,
   "metadata": {},
   "outputs": [
    {
     "data": {
      "text/html": [
       "<table><tr><th>&nbsp;</th><th>step type</th><th>requirements</th><th>statement</th></tr>\n",
       "<tr><td>0</td><td>specialization</td><td>1, 2</td><td><span style=\"font-size:20px;\"><a class=\"ProveItLink\" href=\"__pv_it/54a6219934e421fe7ecd877fc0b7fe35c400aefa0/expr.ipynb\"><img src=\"__pv_it/54a6219934e421fe7ecd877fc0b7fe35c400aefa0/expr.png\" style=\"display:inline;vertical-align:middle;\" /></a> &#x22A2;&nbsp;<a class=\"ProveItLink\" href=\"__pv_it/feaa1d0e6d92ad9ead8e5ffd1f92697e3912387a0/expr.ipynb\"><img src=\"__pv_it/feaa1d0e6d92ad9ead8e5ffd1f92697e3912387a0/expr.png\" style=\"display:inline;vertical-align:middle;\" /></a></span></td></tr>\n",
       "<tr><td>&nbsp;</td><td colspan=4 style=\"text-align:left\"><span style=\"font-size:20px;\"><a class=\"ProveItLink\" href=\"../../../__pv_it/2cbe72a7ad6f655694dd697106680215e8489b600/expr.ipynb\"><img src=\"../../../__pv_it/2cbe72a7ad6f655694dd697106680215e8489b600/expr.png\" style=\"display:inline;vertical-align:middle;\" /></a> : <a class=\"ProveItLink\" href=\"../../../__pv_it/2cbe72a7ad6f655694dd697106680215e8489b600/expr.ipynb\"><img src=\"../../../__pv_it/2cbe72a7ad6f655694dd697106680215e8489b600/expr.png\" style=\"display:inline;vertical-align:middle;\" /></a>, <a class=\"ProveItLink\" href=\"../../../__pv_it/077b2ff79244fb4582cbe22c6e3356fa92a52f2f0/expr.ipynb\"><img src=\"../../../__pv_it/077b2ff79244fb4582cbe22c6e3356fa92a52f2f0/expr.png\" style=\"display:inline;vertical-align:middle;\" /></a> : <a class=\"ProveItLink\" href=\"../../../__pv_it/077b2ff79244fb4582cbe22c6e3356fa92a52f2f0/expr.ipynb\"><img src=\"../../../__pv_it/077b2ff79244fb4582cbe22c6e3356fa92a52f2f0/expr.png\" style=\"display:inline;vertical-align:middle;\" /></a></span></td></tr><tr><td>1</td><td>theorem</td><td></td><td><span style=\"font-size:20px;\"> &#x22A2;&nbsp;<a class=\"ProveItLink\" href=\"__pv_it/215bcd8bf685e6db0a42567615996e59c1892f060/expr.ipynb\"><img src=\"__pv_it/215bcd8bf685e6db0a42567615996e59c1892f060/expr.png\" style=\"display:inline;vertical-align:middle;\" /></a></span></td></tr>\n",
       "<tr><td>&nbsp;</td><td colspan=4 style-\"text-align:left\"><a class=\"ProveItLink\" href=\"_proofs_/notLeftIfNeither.ipynb\">proveit.logic.boolean.disjunction.notLeftIfNeither</a></td></tr><tr><td>2</td><td>assumption</td><td></td><td><span style=\"font-size:20px;\"><a class=\"ProveItLink\" href=\"__pv_it/54a6219934e421fe7ecd877fc0b7fe35c400aefa0/expr.ipynb\"><img src=\"__pv_it/54a6219934e421fe7ecd877fc0b7fe35c400aefa0/expr.png\" style=\"display:inline;vertical-align:middle;\" /></a> &#x22A2;&nbsp;<a class=\"ProveItLink\" href=\"__pv_it/2867c872b27df7db874b5973e2979fa732864a3b0/expr.ipynb\"><img src=\"__pv_it/2867c872b27df7db874b5973e2979fa732864a3b0/expr.png\" style=\"display:inline;vertical-align:middle;\" /></a></span></td></tr>\n",
       "</table>"
      ],
      "text/plain": [
       "\tstep type\trequirements\tstatement\n",
       "0\tspecialization\t1, 2\t{[not](A or B)} |- [not](A)\n",
       "\tA : A, B : B\n",
       "1\ttheorem\t\t|- forall_{A, B | [not](A or B)} [not](A)\n",
       "\tproveit.logic.boolean.disjunction.notLeftIfNeither\n",
       "2\tassumption\t\t{[not](A or B)} |- [not](A or B)"
      ]
     },
     "execution_count": 30,
     "metadata": {},
     "output_type": "execute_result"
    }
   ],
   "source": [
    "Not(A).prove([Not(Or(A,B))]).proof()"
   ]
  },
  {
   "cell_type": "code",
   "execution_count": 31,
   "metadata": {},
   "outputs": [
    {
     "data": {
      "text/html": [
       "<table><tr><th>&nbsp;</th><th>step type</th><th>requirements</th><th>statement</th></tr>\n",
       "<tr><td>0</td><td>specialization</td><td>1, 2</td><td><span style=\"font-size:20px;\"><a class=\"ProveItLink\" href=\"__pv_it/54a6219934e421fe7ecd877fc0b7fe35c400aefa0/expr.ipynb\"><img src=\"__pv_it/54a6219934e421fe7ecd877fc0b7fe35c400aefa0/expr.png\" style=\"display:inline;vertical-align:middle;\" /></a> &#x22A2;&nbsp;<a class=\"ProveItLink\" href=\"__pv_it/1da4e2fe7c44632f084fa27ea32e26dc689384c20/expr.ipynb\"><img src=\"__pv_it/1da4e2fe7c44632f084fa27ea32e26dc689384c20/expr.png\" style=\"display:inline;vertical-align:middle;\" /></a></span></td></tr>\n",
       "<tr><td>&nbsp;</td><td colspan=4 style=\"text-align:left\"><span style=\"font-size:20px;\"><a class=\"ProveItLink\" href=\"../../../__pv_it/2cbe72a7ad6f655694dd697106680215e8489b600/expr.ipynb\"><img src=\"../../../__pv_it/2cbe72a7ad6f655694dd697106680215e8489b600/expr.png\" style=\"display:inline;vertical-align:middle;\" /></a> : <a class=\"ProveItLink\" href=\"../../../__pv_it/2cbe72a7ad6f655694dd697106680215e8489b600/expr.ipynb\"><img src=\"../../../__pv_it/2cbe72a7ad6f655694dd697106680215e8489b600/expr.png\" style=\"display:inline;vertical-align:middle;\" /></a>, <a class=\"ProveItLink\" href=\"../../../__pv_it/077b2ff79244fb4582cbe22c6e3356fa92a52f2f0/expr.ipynb\"><img src=\"../../../__pv_it/077b2ff79244fb4582cbe22c6e3356fa92a52f2f0/expr.png\" style=\"display:inline;vertical-align:middle;\" /></a> : <a class=\"ProveItLink\" href=\"../../../__pv_it/077b2ff79244fb4582cbe22c6e3356fa92a52f2f0/expr.ipynb\"><img src=\"../../../__pv_it/077b2ff79244fb4582cbe22c6e3356fa92a52f2f0/expr.png\" style=\"display:inline;vertical-align:middle;\" /></a></span></td></tr><tr><td>1</td><td>theorem</td><td></td><td><span style=\"font-size:20px;\"> &#x22A2;&nbsp;<a class=\"ProveItLink\" href=\"__pv_it/1148040b6237446208291983939c6c85ccc87db20/expr.ipynb\"><img src=\"__pv_it/1148040b6237446208291983939c6c85ccc87db20/expr.png\" style=\"display:inline;vertical-align:middle;\" /></a></span></td></tr>\n",
       "<tr><td>&nbsp;</td><td colspan=4 style-\"text-align:left\"><a class=\"ProveItLink\" href=\"_proofs_/notRightIfNeither.ipynb\">proveit.logic.boolean.disjunction.notRightIfNeither</a></td></tr><tr><td>2</td><td>assumption</td><td></td><td><span style=\"font-size:20px;\"><a class=\"ProveItLink\" href=\"__pv_it/54a6219934e421fe7ecd877fc0b7fe35c400aefa0/expr.ipynb\"><img src=\"__pv_it/54a6219934e421fe7ecd877fc0b7fe35c400aefa0/expr.png\" style=\"display:inline;vertical-align:middle;\" /></a> &#x22A2;&nbsp;<a class=\"ProveItLink\" href=\"__pv_it/2867c872b27df7db874b5973e2979fa732864a3b0/expr.ipynb\"><img src=\"__pv_it/2867c872b27df7db874b5973e2979fa732864a3b0/expr.png\" style=\"display:inline;vertical-align:middle;\" /></a></span></td></tr>\n",
       "</table>"
      ],
      "text/plain": [
       "\tstep type\trequirements\tstatement\n",
       "0\tspecialization\t1, 2\t{[not](A or B)} |- [not](B)\n",
       "\tA : A, B : B\n",
       "1\ttheorem\t\t|- forall_{A, B | [not](A or B)} [not](B)\n",
       "\tproveit.logic.boolean.disjunction.notRightIfNeither\n",
       "2\tassumption\t\t{[not](A or B)} |- [not](A or B)"
      ]
     },
     "execution_count": 31,
     "metadata": {},
     "output_type": "execute_result"
    }
   ],
   "source": [
    "Not(B).prove([Not(Or(A,B))]).proof()"
   ]
  },
  {
   "cell_type": "code",
   "execution_count": 32,
   "metadata": {},
   "outputs": [
    {
     "data": {
      "text/html": [
       "<table><tr><th>&nbsp;</th><th>step type</th><th>requirements</th><th>statement</th></tr>\n",
       "<tr><td>0</td><td>specialization</td><td>1, 2</td><td><span style=\"font-size:20px;\"><a class=\"ProveItLink\" href=\"__pv_it/017ca8cfa034181c90ba15dd10869f0f4e516d6a0/expr.ipynb\"><img src=\"__pv_it/017ca8cfa034181c90ba15dd10869f0f4e516d6a0/expr.png\" style=\"display:inline;vertical-align:middle;\" /></a> &#x22A2;&nbsp;<a class=\"ProveItLink\" href=\"__pv_it/91b939f3d12607afa89208204b53b3c0cdec92b70/expr.ipynb\"><img src=\"__pv_it/91b939f3d12607afa89208204b53b3c0cdec92b70/expr.png\" style=\"display:inline;vertical-align:middle;\" /></a></span></td></tr>\n",
       "<tr><td>&nbsp;</td><td colspan=4 style=\"text-align:left\"><span style=\"font-size:20px;\"><a class=\"ProveItLink\" href=\"../../../__pv_it/2cbe72a7ad6f655694dd697106680215e8489b600/expr.ipynb\"><img src=\"../../../__pv_it/2cbe72a7ad6f655694dd697106680215e8489b600/expr.png\" style=\"display:inline;vertical-align:middle;\" /></a> : <a class=\"ProveItLink\" href=\"../../../__pv_it/2cbe72a7ad6f655694dd697106680215e8489b600/expr.ipynb\"><img src=\"../../../__pv_it/2cbe72a7ad6f655694dd697106680215e8489b600/expr.png\" style=\"display:inline;vertical-align:middle;\" /></a></span></td></tr><tr><td>1</td><td>theorem</td><td></td><td><span style=\"font-size:20px;\"> &#x22A2;&nbsp;<a class=\"ProveItLink\" href=\"__pv_it/ea7cdc97bb19dd3f63221c57941793bcf9c4e7e30/expr.ipynb\"><img src=\"__pv_it/ea7cdc97bb19dd3f63221c57941793bcf9c4e7e30/expr.png\" style=\"display:inline;vertical-align:middle;\" /></a></span></td></tr>\n",
       "<tr><td>&nbsp;</td><td colspan=4 style-\"text-align:left\"><a class=\"ProveItLink\" href=\"_proofs_/unaryDisjunctionDef.ipynb\">proveit.logic.boolean.disjunction.unaryDisjunctionDef</a></td></tr><tr><td>2</td><td>assumption</td><td></td><td><span style=\"font-size:20px;\"><a class=\"ProveItLink\" href=\"__pv_it/017ca8cfa034181c90ba15dd10869f0f4e516d6a0/expr.ipynb\"><img src=\"__pv_it/017ca8cfa034181c90ba15dd10869f0f4e516d6a0/expr.png\" style=\"display:inline;vertical-align:middle;\" /></a> &#x22A2;&nbsp;<a class=\"ProveItLink\" href=\"__pv_it/03a5c2b5cc6fc2c3cd686b4bcf84379b893abe210/expr.ipynb\"><img src=\"__pv_it/03a5c2b5cc6fc2c3cd686b4bcf84379b893abe210/expr.png\" style=\"display:inline;vertical-align:middle;\" /></a></span></td></tr>\n",
       "</table>"
      ],
      "text/plain": [
       "\tstep type\trequirements\tstatement\n",
       "0\tspecialization\t1, 2\t{A in BOOLEANS} |- [or](A) = A\n",
       "\tA : A\n",
       "1\ttheorem\t\t|- forall_{A in BOOLEANS} ([or](A) = A)\n",
       "\tproveit.logic.boolean.disjunction.unaryDisjunctionDef\n",
       "2\tassumption\t\t{A in BOOLEANS} |- A in BOOLEANS"
      ]
     },
     "execution_count": 32,
     "metadata": {},
     "output_type": "execute_result"
    }
   ],
   "source": [
    "Or(A).deduceUnaryEquiv([inBool(A)]).proof()"
   ]
  },
  {
   "cell_type": "code",
   "execution_count": 33,
   "metadata": {},
   "outputs": [
    {
     "data": {
      "text/html": [
       "<table><tr><th>&nbsp;</th><th>step type</th><th>requirements</th><th>statement</th></tr>\n",
       "<tr><td>0</td><td>specialization</td><td>1, 2, 3</td><td><span style=\"font-size:20px;\"><a class=\"ProveItLink\" href=\"__pv_it/092650e26ef2a01c4923d2a4f33fb9119be91b070/expr.ipynb\"><img src=\"__pv_it/092650e26ef2a01c4923d2a4f33fb9119be91b070/expr.png\" style=\"display:inline;vertical-align:middle;\" /></a> &#x22A2;&nbsp;<a class=\"ProveItLink\" href=\"__pv_it/fe5c91c77f0659f9ea07a2e3257797875d6868370/expr.ipynb\"><img src=\"__pv_it/fe5c91c77f0659f9ea07a2e3257797875d6868370/expr.png\" style=\"display:inline;vertical-align:middle;\" /></a></span></td></tr>\n",
       "<tr><td>&nbsp;</td><td colspan=4 style=\"text-align:left\"><span style=\"font-size:20px;\"><a class=\"ProveItLink\" href=\"../../../__pv_it/78af03acba5349fd70398a32ce59bae1da52f0870/expr.ipynb\"><img src=\"../../../__pv_it/78af03acba5349fd70398a32ce59bae1da52f0870/expr.png\" style=\"display:inline;vertical-align:middle;\" /></a> : <a class=\"ProveItLink\" href=\"../../../number/numeral/__pv_it/9be8badea4c35b9724062cecc501d17a3158d1d20/expr.ipynb\"><img src=\"../../../number/numeral/__pv_it/9be8badea4c35b9724062cecc501d17a3158d1d20/expr.png\" style=\"display:inline;vertical-align:middle;\" /></a>, <a class=\"ProveItLink\" href=\"../../../__pv_it/39dbcd3ca0390345b51c6ef7785756419e2c14390/expr.ipynb\"><img src=\"../../../__pv_it/39dbcd3ca0390345b51c6ef7785756419e2c14390/expr.png\" style=\"display:inline;vertical-align:middle;\" /></a> : <a class=\"ProveItLink\" href=\"../../../number/numeral/__pv_it/9be8badea4c35b9724062cecc501d17a3158d1d20/expr.ipynb\"><img src=\"../../../number/numeral/__pv_it/9be8badea4c35b9724062cecc501d17a3158d1d20/expr.png\" style=\"display:inline;vertical-align:middle;\" /></a>, <a class=\"ProveItLink\" href=\"../../../__pv_it/eb438fefc4bd0ac977777d6dfd3e8a72dfbedbd50/expr.ipynb\"><img src=\"../../../__pv_it/eb438fefc4bd0ac977777d6dfd3e8a72dfbedbd50/expr.png\" style=\"display:inline;vertical-align:middle;\" /></a> : <a class=\"ProveItLink\" href=\"__pv_it/cf6389edcd791ca994db59178ae31748dc129fc20/expr.ipynb\"><img src=\"__pv_it/cf6389edcd791ca994db59178ae31748dc129fc20/expr.png\" style=\"display:inline;vertical-align:middle;\" /></a>, <a class=\"ProveItLink\" href=\"../../../__pv_it/077b2ff79244fb4582cbe22c6e3356fa92a52f2f0/expr.ipynb\"><img src=\"../../../__pv_it/077b2ff79244fb4582cbe22c6e3356fa92a52f2f0/expr.png\" style=\"display:inline;vertical-align:middle;\" /></a> : <a class=\"ProveItLink\" href=\"../../../__pv_it/077b2ff79244fb4582cbe22c6e3356fa92a52f2f0/expr.ipynb\"><img src=\"../../../__pv_it/077b2ff79244fb4582cbe22c6e3356fa92a52f2f0/expr.png\" style=\"display:inline;vertical-align:middle;\" /></a>, <a class=\"ProveItLink\" href=\"../../../__pv_it/9242e69d4f2c65d04fc0527b82418c7c22c6da370/expr.ipynb\"><img src=\"../../../__pv_it/9242e69d4f2c65d04fc0527b82418c7c22c6da370/expr.png\" style=\"display:inline;vertical-align:middle;\" /></a> : <a class=\"ProveItLink\" href=\"__pv_it/9154195f9f4d4cd0a151bd889ff6116df4ecd1440/expr.ipynb\"><img src=\"__pv_it/9154195f9f4d4cd0a151bd889ff6116df4ecd1440/expr.png\" style=\"display:inline;vertical-align:middle;\" /></a></span></td></tr><tr><td>1</td><td>theorem</td><td></td><td><span style=\"font-size:20px;\"> &#x22A2;&nbsp;<a class=\"ProveItLink\" href=\"__pv_it/cd30baf5ab2620c9803897366acf4394ab8c82330/expr.ipynb\"><img src=\"__pv_it/cd30baf5ab2620c9803897366acf4394ab8c82330/expr.png\" style=\"display:inline;vertical-align:middle;\" /></a></span></td></tr>\n",
       "<tr><td>&nbsp;</td><td colspan=4 style-\"text-align:left\"><a class=\"ProveItLink\" href=\"_proofs_/eachInBool.ipynb\">proveit.logic.boolean.disjunction.eachInBool</a></td></tr><tr><td>2</td><td>theorem</td><td></td><td><span style=\"font-size:20px;\"> &#x22A2;&nbsp;<a class=\"ProveItLink\" href=\"../../../number/numeral/deci/__pv_it/3f15fb519636fc585376b5b502be456d654dd18d0/expr.ipynb\"><img src=\"../../../number/numeral/deci/__pv_it/3f15fb519636fc585376b5b502be456d654dd18d0/expr.png\" style=\"display:inline;vertical-align:middle;\" /></a></span></td></tr>\n",
       "<tr><td>&nbsp;</td><td colspan=4 style-\"text-align:left\"><a class=\"ProveItLink\" href=\"../../../number/numeral/deci/_proofs_/nat1.ipynb\">proveit.number.numeral.deci.nat1</a></td></tr><tr><td>3</td><td>assumption</td><td></td><td><span style=\"font-size:20px;\"><a class=\"ProveItLink\" href=\"__pv_it/092650e26ef2a01c4923d2a4f33fb9119be91b070/expr.ipynb\"><img src=\"__pv_it/092650e26ef2a01c4923d2a4f33fb9119be91b070/expr.png\" style=\"display:inline;vertical-align:middle;\" /></a> &#x22A2;&nbsp;<a class=\"ProveItLink\" href=\"__pv_it/afd28c8def81f919ce4c8b18e96e0b03f83f60a20/expr.ipynb\"><img src=\"__pv_it/afd28c8def81f919ce4c8b18e96e0b03f83f60a20/expr.png\" style=\"display:inline;vertical-align:middle;\" /></a></span></td></tr>\n",
       "</table>"
      ],
      "text/plain": [
       "\tstep type\trequirements\tstatement\n",
       "0\tspecialization\t1, 2, 3\t{(A or B or C) in BOOLEANS} |- B in BOOLEANS\n",
       "\tm : 1, n : 1, A : (A), B : B, C : (C)\n",
       "1\ttheorem\t\t|- forall_{m, n in Naturals} [forall_{A, B, C | (A_1 or  ...  or A_m or B or C_1 or  ...  or C_n) in BOOLEANS} (B in BOOLEANS)]\n",
       "\tproveit.logic.boolean.disjunction.eachInBool\n",
       "2\ttheorem\t\t|- 1 in Naturals\n",
       "\tproveit.number.numeral.deci.nat1\n",
       "3\tassumption\t\t{(A or B or C) in BOOLEANS} |- (A or B or C) in BOOLEANS"
      ]
     },
     "execution_count": 33,
     "metadata": {},
     "output_type": "execute_result"
    }
   ],
   "source": [
    "inBool(B).prove([inBool(Or(A,B,C))]).proof()"
   ]
  },
  {
   "cell_type": "code",
   "execution_count": 34,
   "metadata": {},
   "outputs": [
    {
     "data": {
      "text/html": [
       "<table><tr><th>&nbsp;</th><th>step type</th><th>requirements</th><th>statement</th></tr>\n",
       "<tr><td>0</td><td>specialization</td><td>1, 2, 3, 4, 5, 6, 7, 8, 9</td><td><span style=\"font-size:20px;\"><a class=\"ProveItLink\" href=\"__pv_it/ae291dd9c02be302bfd85c35ff724fe685572a8d0/expr.ipynb\"><img src=\"__pv_it/ae291dd9c02be302bfd85c35ff724fe685572a8d0/expr.png\" style=\"display:inline;vertical-align:middle;\" /></a> &#x22A2;&nbsp;<a class=\"ProveItLink\" href=\"__pv_it/ce4c9ce6403a7350f491c3e24576587d335e1c560/expr.ipynb\"><img src=\"__pv_it/ce4c9ce6403a7350f491c3e24576587d335e1c560/expr.png\" style=\"display:inline;vertical-align:middle;\" /></a></span></td></tr>\n",
       "<tr><td>&nbsp;</td><td colspan=4 style=\"text-align:left\"><span style=\"font-size:20px;\"><a class=\"ProveItLink\" href=\"../../../__pv_it/78af03acba5349fd70398a32ce59bae1da52f0870/expr.ipynb\"><img src=\"../../../__pv_it/78af03acba5349fd70398a32ce59bae1da52f0870/expr.png\" style=\"display:inline;vertical-align:middle;\" /></a> : <a class=\"ProveItLink\" href=\"../../../number/numeral/__pv_it/ec23fc7a1b4222a5f4948b495002b97d6fa18c3c0/expr.ipynb\"><img src=\"../../../number/numeral/__pv_it/ec23fc7a1b4222a5f4948b495002b97d6fa18c3c0/expr.png\" style=\"display:inline;vertical-align:middle;\" /></a>, <a class=\"ProveItLink\" href=\"../../../__pv_it/39dbcd3ca0390345b51c6ef7785756419e2c14390/expr.ipynb\"><img src=\"../../../__pv_it/39dbcd3ca0390345b51c6ef7785756419e2c14390/expr.png\" style=\"display:inline;vertical-align:middle;\" /></a> : <a class=\"ProveItLink\" href=\"../../../number/numeral/__pv_it/77d407a64829263cdc16415becd4c2293f77a4bf0/expr.ipynb\"><img src=\"../../../number/numeral/__pv_it/77d407a64829263cdc16415becd4c2293f77a4bf0/expr.png\" style=\"display:inline;vertical-align:middle;\" /></a>, <a class=\"ProveItLink\" href=\"../../../__pv_it/eb438fefc4bd0ac977777d6dfd3e8a72dfbedbd50/expr.ipynb\"><img src=\"../../../__pv_it/eb438fefc4bd0ac977777d6dfd3e8a72dfbedbd50/expr.png\" style=\"display:inline;vertical-align:middle;\" /></a> : <a class=\"ProveItLink\" href=\"__pv_it/47fa43ebc28df30ca42c709a7d123d39f2fac3160/expr.ipynb\"><img src=\"__pv_it/47fa43ebc28df30ca42c709a7d123d39f2fac3160/expr.png\" style=\"display:inline;vertical-align:middle;\" /></a>, <a class=\"ProveItLink\" href=\"../../../__pv_it/077b2ff79244fb4582cbe22c6e3356fa92a52f2f0/expr.ipynb\"><img src=\"../../../__pv_it/077b2ff79244fb4582cbe22c6e3356fa92a52f2f0/expr.png\" style=\"display:inline;vertical-align:middle;\" /></a> : <a class=\"ProveItLink\" href=\"../../../__pv_it/2cbe72a7ad6f655694dd697106680215e8489b600/expr.ipynb\"><img src=\"../../../__pv_it/2cbe72a7ad6f655694dd697106680215e8489b600/expr.png\" style=\"display:inline;vertical-align:middle;\" /></a>, <a class=\"ProveItLink\" href=\"../../../__pv_it/9242e69d4f2c65d04fc0527b82418c7c22c6da370/expr.ipynb\"><img src=\"../../../__pv_it/9242e69d4f2c65d04fc0527b82418c7c22c6da370/expr.png\" style=\"display:inline;vertical-align:middle;\" /></a> : <a class=\"ProveItLink\" href=\"__pv_it/c7f0b0e4c08ae7a3f788c33c71153cdedc2f477c0/expr.ipynb\"><img src=\"__pv_it/c7f0b0e4c08ae7a3f788c33c71153cdedc2f477c0/expr.png\" style=\"display:inline;vertical-align:middle;\" /></a></span></td></tr><tr><td>1</td><td>theorem</td><td></td><td><span style=\"font-size:20px;\"> &#x22A2;&nbsp;<a class=\"ProveItLink\" href=\"__pv_it/e5b1d8567deddceb281da8e4062562af11d61b8d0/expr.ipynb\"><img src=\"__pv_it/e5b1d8567deddceb281da8e4062562af11d61b8d0/expr.png\" style=\"display:inline;vertical-align:middle;\" /></a></span></td></tr>\n",
       "<tr><td>&nbsp;</td><td colspan=4 style-\"text-align:left\"><a class=\"ProveItLink\" href=\"_proofs_/orIfAny.ipynb\">proveit.logic.boolean.disjunction.orIfAny</a></td></tr><tr><td>2</td><td>theorem</td><td></td><td><span style=\"font-size:20px;\"> &#x22A2;&nbsp;<a class=\"ProveItLink\" href=\"../../../number/sets/integer/__pv_it/50688835e4f8f7c7ea93ceb53b4c2bc2c084e66a0/expr.ipynb\"><img src=\"../../../number/sets/integer/__pv_it/50688835e4f8f7c7ea93ceb53b4c2bc2c084e66a0/expr.png\" style=\"display:inline;vertical-align:middle;\" /></a></span></td></tr>\n",
       "<tr><td>&nbsp;</td><td colspan=4 style-\"text-align:left\"><a class=\"ProveItLink\" href=\"../../../number/sets/integer/_proofs_/zeroInNats.ipynb\">proveit.number.sets.integer.zeroInNats</a></td></tr><tr><td>3</td><td>theorem</td><td></td><td><span style=\"font-size:20px;\"> &#x22A2;&nbsp;<a class=\"ProveItLink\" href=\"../../../number/numeral/deci/__pv_it/286f0443dba55bdb259c90cef1db0ca273fac95e0/expr.ipynb\"><img src=\"../../../number/numeral/deci/__pv_it/286f0443dba55bdb259c90cef1db0ca273fac95e0/expr.png\" style=\"display:inline;vertical-align:middle;\" /></a></span></td></tr>\n",
       "<tr><td>&nbsp;</td><td colspan=4 style-\"text-align:left\"><a class=\"ProveItLink\" href=\"../../../number/numeral/deci/_proofs_/nat2.ipynb\">proveit.number.numeral.deci.nat2</a></td></tr><tr><td>4</td><td>specialization</td><td>10, 11</td><td><span style=\"font-size:20px;\"> &#x22A2;&nbsp;<a class=\"ProveItLink\" href=\"__pv_it/3b5bb8ace1d2307c19e917b3b7f91608cc78254d0/expr.ipynb\"><img src=\"__pv_it/3b5bb8ace1d2307c19e917b3b7f91608cc78254d0/expr.png\" style=\"display:inline;vertical-align:middle;\" /></a></span></td></tr>\n",
       "<tr><td>&nbsp;</td><td colspan=4 style=\"text-align:left\"><span style=\"font-size:20px;\"><a class=\"ProveItLink\" href=\"../../../__pv_it/530be409e3083890784cf1d7b28c9e67e90af9360/expr.ipynb\"><img src=\"../../../__pv_it/530be409e3083890784cf1d7b28c9e67e90af9360/expr.png\" style=\"display:inline;vertical-align:middle;\" /></a> : <a class=\"ProveItLink\" href=\"__pv_it/47fa43ebc28df30ca42c709a7d123d39f2fac3160/expr.ipynb\"><img src=\"__pv_it/47fa43ebc28df30ca42c709a7d123d39f2fac3160/expr.png\" style=\"display:inline;vertical-align:middle;\" /></a>, <a class=\"ProveItLink\" href=\"../../../__pv_it/abeee18594afe51bfb1be95d9591fbba24ac53f30/expr.ipynb\"><img src=\"../../../__pv_it/abeee18594afe51bfb1be95d9591fbba24ac53f30/expr.png\" style=\"display:inline;vertical-align:middle;\" /></a> : <a class=\"ProveItLink\" href=\"../__pv_it/46271c8230be96415d662709611f4ed2279d702b0/expr.ipynb\"><img src=\"../__pv_it/46271c8230be96415d662709611f4ed2279d702b0/expr.png\" style=\"display:inline;vertical-align:middle;\" /></a></span></td></tr><tr><td>5</td><td>assumption</td><td></td><td><span style=\"font-size:20px;\"><a class=\"ProveItLink\" href=\"__pv_it/017ca8cfa034181c90ba15dd10869f0f4e516d6a0/expr.ipynb\"><img src=\"__pv_it/017ca8cfa034181c90ba15dd10869f0f4e516d6a0/expr.png\" style=\"display:inline;vertical-align:middle;\" /></a> &#x22A2;&nbsp;<a class=\"ProveItLink\" href=\"__pv_it/03a5c2b5cc6fc2c3cd686b4bcf84379b893abe210/expr.ipynb\"><img src=\"__pv_it/03a5c2b5cc6fc2c3cd686b4bcf84379b893abe210/expr.png\" style=\"display:inline;vertical-align:middle;\" /></a></span></td></tr>\n",
       "<tr><td>6</td><td>assumption</td><td></td><td><span style=\"font-size:20px;\"><a class=\"ProveItLink\" href=\"__pv_it/158bdc91074824c720728a23dba5d58593c8cc480/expr.ipynb\"><img src=\"__pv_it/158bdc91074824c720728a23dba5d58593c8cc480/expr.png\" style=\"display:inline;vertical-align:middle;\" /></a> &#x22A2;&nbsp;<a class=\"ProveItLink\" href=\"../../../__pv_it/2cbe72a7ad6f655694dd697106680215e8489b600/expr.ipynb\"><img src=\"../../../__pv_it/2cbe72a7ad6f655694dd697106680215e8489b600/expr.png\" style=\"display:inline;vertical-align:middle;\" /></a></span></td></tr>\n",
       "<tr><td>7</td><td>specialization</td><td>12, 13, 14</td><td><span style=\"font-size:20px;\"><a class=\"ProveItLink\" href=\"__pv_it/6b2459fdee3144a87345bdac7b2f636bdceab8830/expr.ipynb\"><img src=\"__pv_it/6b2459fdee3144a87345bdac7b2f636bdceab8830/expr.png\" style=\"display:inline;vertical-align:middle;\" /></a> &#x22A2;&nbsp;<a class=\"ProveItLink\" href=\"__pv_it/35225fda34e3fef986a95542544ae28697df04ed0/expr.ipynb\"><img src=\"__pv_it/35225fda34e3fef986a95542544ae28697df04ed0/expr.png\" style=\"display:inline;vertical-align:middle;\" /></a></span></td></tr>\n",
       "<tr><td>&nbsp;</td><td colspan=4 style=\"text-align:left\"><span style=\"font-size:20px;\"><a class=\"ProveItLink\" href=\"../../../__pv_it/abeee18594afe51bfb1be95d9591fbba24ac53f30/expr.ipynb\"><img src=\"../../../__pv_it/abeee18594afe51bfb1be95d9591fbba24ac53f30/expr.png\" style=\"display:inline;vertical-align:middle;\" /></a> : <a class=\"ProveItLink\" href=\"../__pv_it/46271c8230be96415d662709611f4ed2279d702b0/expr.ipynb\"><img src=\"../__pv_it/46271c8230be96415d662709611f4ed2279d702b0/expr.png\" style=\"display:inline;vertical-align:middle;\" /></a>, <a class=\"ProveItLink\" href=\"../../../__pv_it/07527342713064c87612d00d8557c53d53d5324a0/expr.ipynb\"><img src=\"../../../__pv_it/07527342713064c87612d00d8557c53d53d5324a0/expr.png\" style=\"display:inline;vertical-align:middle;\" /></a> : <a class=\"ProveItLink\" href=\"../../../__pv_it/077b2ff79244fb4582cbe22c6e3356fa92a52f2f0/expr.ipynb\"><img src=\"../../../__pv_it/077b2ff79244fb4582cbe22c6e3356fa92a52f2f0/expr.png\" style=\"display:inline;vertical-align:middle;\" /></a>, <a class=\"ProveItLink\" href=\"../../../__pv_it/6840a4fa6c106149dc16a131294d0c5e44f1b0480/expr.ipynb\"><img src=\"../../../__pv_it/6840a4fa6c106149dc16a131294d0c5e44f1b0480/expr.png\" style=\"display:inline;vertical-align:middle;\" /></a> : <a class=\"ProveItLink\" href=\"../../../__pv_it/985a1bdf1540838275dec15f4ad6de261cca93ce0/expr.ipynb\"><img src=\"../../../__pv_it/985a1bdf1540838275dec15f4ad6de261cca93ce0/expr.png\" style=\"display:inline;vertical-align:middle;\" /></a></span></td></tr><tr><td>8</td><td>theorem</td><td></td><td><span style=\"font-size:20px;\"> &#x22A2;&nbsp;<a class=\"ProveItLink\" href=\"../../../number/numeral/deci/__pv_it/d060bd26c883154e5b471568d486c4165d01a0d00/expr.ipynb\"><img src=\"../../../number/numeral/deci/__pv_it/d060bd26c883154e5b471568d486c4165d01a0d00/expr.png\" style=\"display:inline;vertical-align:middle;\" /></a></span></td></tr>\n",
       "<tr><td>&nbsp;</td><td colspan=4 style-\"text-align:left\"><a class=\"ProveItLink\" href=\"../../../number/numeral/deci/_proofs_/less_0_1.ipynb\">proveit.number.numeral.deci.less_0_1</a></td></tr><tr><td>9</td><td>theorem</td><td></td><td><span style=\"font-size:20px;\"> &#x22A2;&nbsp;<a class=\"ProveItLink\" href=\"../../../number/numeral/deci/__pv_it/5b6ff6a2fca03ad41d2a3084e44fbb28428ffb6a0/expr.ipynb\"><img src=\"../../../number/numeral/deci/__pv_it/5b6ff6a2fca03ad41d2a3084e44fbb28428ffb6a0/expr.png\" style=\"display:inline;vertical-align:middle;\" /></a></span></td></tr>\n",
       "<tr><td>&nbsp;</td><td colspan=4 style-\"text-align:left\"><a class=\"ProveItLink\" href=\"../../../number/numeral/deci/_proofs_/add_1_1.ipynb\">proveit.number.numeral.deci.add_1_1</a></td></tr><tr><td>10</td><td>theorem</td><td></td><td><span style=\"font-size:20px;\"> &#x22A2;&nbsp;<a class=\"ProveItLink\" href=\"../../set_theory/membership/__pv_it/f96b42982943c9b9cb27fd0985ee8fe4235d65d30/expr.ipynb\"><img src=\"../../set_theory/membership/__pv_it/f96b42982943c9b9cb27fd0985ee8fe4235d65d30/expr.png\" style=\"display:inline;vertical-align:middle;\" /></a></span></td></tr>\n",
       "<tr><td>&nbsp;</td><td colspan=4 style-\"text-align:left\"><a class=\"ProveItLink\" href=\"../../set_theory/membership/_proofs_/exp_set_0.ipynb\">proveit.logic.set_theory.membership.exp_set_0</a></td></tr><tr><td>11</td><td>axiom</td><td></td><td><span style=\"font-size:20px;\"> &#x22A2;&nbsp;<a class=\"ProveItLink\" href=\"../../../number/sets/integer/__pv_it/ea45fc51e98adc6f747cb4e1e0e06e2f77959eee0/expr.ipynb\"><img src=\"../../../number/sets/integer/__pv_it/ea45fc51e98adc6f747cb4e1e0e06e2f77959eee0/expr.png\" style=\"display:inline;vertical-align:middle;\" /></a></span></td></tr>\n",
       "<tr><td>&nbsp;</td><td colspan=4 style-\"text-align:left\"><a class=\"ProveItLink\" href=\"../../../number/sets/integer/_axioms_.ipynb#listLen0\">proveit.number.sets.integer.listLen0</a></td></tr><tr><td>12</td><td>theorem</td><td></td><td><span style=\"font-size:20px;\"> &#x22A2;&nbsp;<a class=\"ProveItLink\" href=\"../../set_theory/membership/__pv_it/9ac424c71798aca56b25ebe33a7a41dbaa332c490/expr.ipynb\"><img src=\"../../set_theory/membership/__pv_it/9ac424c71798aca56b25ebe33a7a41dbaa332c490/expr.png\" style=\"display:inline;vertical-align:middle;\" /></a></span></td></tr>\n",
       "<tr><td>&nbsp;</td><td colspan=4 style-\"text-align:left\"><a class=\"ProveItLink\" href=\"../../set_theory/membership/_proofs_/exp_set_2.ipynb\">proveit.logic.set_theory.membership.exp_set_2</a></td></tr><tr><td>13</td><td>assumption</td><td></td><td><span style=\"font-size:20px;\"><a class=\"ProveItLink\" href=\"__pv_it/2c2e947402f53b9e11cd7769e1b5b3378595750e0/expr.ipynb\"><img src=\"__pv_it/2c2e947402f53b9e11cd7769e1b5b3378595750e0/expr.png\" style=\"display:inline;vertical-align:middle;\" /></a> &#x22A2;&nbsp;<a class=\"ProveItLink\" href=\"__pv_it/fe5c91c77f0659f9ea07a2e3257797875d6868370/expr.ipynb\"><img src=\"__pv_it/fe5c91c77f0659f9ea07a2e3257797875d6868370/expr.png\" style=\"display:inline;vertical-align:middle;\" /></a></span></td></tr>\n",
       "<tr><td>14</td><td>assumption</td><td></td><td><span style=\"font-size:20px;\"><a class=\"ProveItLink\" href=\"__pv_it/549ecf82a9d4ac5ca0750c6c3aaf83e6e7209ca90/expr.ipynb\"><img src=\"__pv_it/549ecf82a9d4ac5ca0750c6c3aaf83e6e7209ca90/expr.png\" style=\"display:inline;vertical-align:middle;\" /></a> &#x22A2;&nbsp;<a class=\"ProveItLink\" href=\"__pv_it/2cec3c732aceb253233bb533d4e43cc3f34f4f660/expr.ipynb\"><img src=\"__pv_it/2cec3c732aceb253233bb533d4e43cc3f34f4f660/expr.png\" style=\"display:inline;vertical-align:middle;\" /></a></span></td></tr>\n",
       "</table>"
      ],
      "text/plain": [
       "\tstep type\trequirements\tstatement\n",
       "0\tspecialization\t1, 2, 3, 4, 5, 6, 7, 8, 9\t{A , A in BOOLEANS , B in BOOLEANS , C in BOOLEANS} |- A or B or C\n",
       "\tm : 0, n : 2, A : (), B : A, C : (B , C)\n",
       "1\ttheorem\t\t|- forall_{m, n in Naturals} [forall_{(A, B, C) in BOOLEANS^{m} * BOOLEANS * BOOLEANS^{n} | B} (A_1 or  ...  or A_m or B or C_1 or  ...  or C_n)]\n",
       "\tproveit.logic.boolean.disjunction.orIfAny\n",
       "2\ttheorem\t\t|- 0 in Naturals\n",
       "\tproveit.number.sets.integer.zeroInNats\n",
       "3\ttheorem\t\t|- 2 in Naturals\n",
       "\tproveit.number.numeral.deci.nat2\n",
       "4\tspecialization\t10, 11\t|- () in BOOLEANS^{0}\n",
       "\tx : (), S : BOOLEANS\n",
       "5\tassumption\t\t{A in BOOLEANS} |- A in BOOLEANS\n",
       "6\tassumption\t\t{A} |- A\n",
       "7\tspecialization\t12, 13, 14\t{B in BOOLEANS , C in BOOLEANS} |- (B , C) in BOOLEANS^{2}\n",
       "\tS : BOOLEANS, a : B, b : C\n",
       "8\ttheorem\t\t|- 0 < 1\n",
       "\tproveit.number.numeral.deci.less_0_1\n",
       "9\ttheorem\t\t|- (1 + 1) = 2\n",
       "\tproveit.number.numeral.deci.add_1_1\n",
       "10\ttheorem\t\t|- forall_{x, S | |x| = 0} (x in S^{0})\n",
       "\tproveit.logic.set_theory.membership.exp_set_0\n",
       "11\taxiom\t\t|- |()| = 0\n",
       "\tproveit.number.sets.integer.listLen0\n",
       "12\ttheorem\t\t|- forall_{S} [forall_{a, b in S} ((a , b) in S^{2})]\n",
       "\tproveit.logic.set_theory.membership.exp_set_2\n",
       "13\tassumption\t\t{B in BOOLEANS} |- B in BOOLEANS\n",
       "14\tassumption\t\t{C in BOOLEANS} |- C in BOOLEANS"
      ]
     },
     "execution_count": 34,
     "metadata": {},
     "output_type": "execute_result"
    }
   ],
   "source": [
    "Or(A,B,C).prove([A,inBool(A),inBool(B),inBool(C)]).proof()"
   ]
  },
  {
   "cell_type": "code",
   "execution_count": 35,
   "metadata": {},
   "outputs": [
    {
     "data": {
      "text/html": [
       "<table><tr><th>&nbsp;</th><th>step type</th><th>requirements</th><th>statement</th></tr>\n",
       "<tr><td>0</td><td>specialization</td><td>1, 2, 3, 4, 5, 6, 7</td><td><span style=\"font-size:20px;\"><a class=\"ProveItLink\" href=\"__pv_it/cb6d6835b3e46ed2e5708ef2cb2f5a33f59ce50a0/expr.ipynb\"><img src=\"__pv_it/cb6d6835b3e46ed2e5708ef2cb2f5a33f59ce50a0/expr.png\" style=\"display:inline;vertical-align:middle;\" /></a> &#x22A2;&nbsp;<a class=\"ProveItLink\" href=\"__pv_it/072893a303fc27f1311c6b1f0e85bdf2ee0e07dc0/expr.ipynb\"><img src=\"__pv_it/072893a303fc27f1311c6b1f0e85bdf2ee0e07dc0/expr.png\" style=\"display:inline;vertical-align:middle;\" /></a></span></td></tr>\n",
       "<tr><td>&nbsp;</td><td colspan=4 style=\"text-align:left\"><span style=\"font-size:20px;\"><a class=\"ProveItLink\" href=\"../../../__pv_it/78af03acba5349fd70398a32ce59bae1da52f0870/expr.ipynb\"><img src=\"../../../__pv_it/78af03acba5349fd70398a32ce59bae1da52f0870/expr.png\" style=\"display:inline;vertical-align:middle;\" /></a> : <a class=\"ProveItLink\" href=\"../../../number/numeral/__pv_it/9176d93c83afa2c995b614976e3cb49207102fa70/expr.ipynb\"><img src=\"../../../number/numeral/__pv_it/9176d93c83afa2c995b614976e3cb49207102fa70/expr.png\" style=\"display:inline;vertical-align:middle;\" /></a>, <a class=\"ProveItLink\" href=\"../../../__pv_it/eb438fefc4bd0ac977777d6dfd3e8a72dfbedbd50/expr.ipynb\"><img src=\"../../../__pv_it/eb438fefc4bd0ac977777d6dfd3e8a72dfbedbd50/expr.png\" style=\"display:inline;vertical-align:middle;\" /></a> : <a class=\"ProveItLink\" href=\"__pv_it/3bf9902b68eb16c350f1cbf3338cf2ecb60afd7e0/expr.ipynb\"><img src=\"__pv_it/3bf9902b68eb16c350f1cbf3338cf2ecb60afd7e0/expr.png\" style=\"display:inline;vertical-align:middle;\" /></a></span></td></tr><tr><td>1</td><td>theorem</td><td></td><td><span style=\"font-size:20px;\"> &#x22A2;&nbsp;<a class=\"ProveItLink\" href=\"__pv_it/f5054f3b6ed3e362bf7b7b3fc8e18b49789bbf3b0/expr.ipynb\"><img src=\"__pv_it/f5054f3b6ed3e362bf7b7b3fc8e18b49789bbf3b0/expr.png\" style=\"display:inline;vertical-align:middle;\" /></a></span></td></tr>\n",
       "<tr><td>&nbsp;</td><td colspan=4 style-\"text-align:left\"><a class=\"ProveItLink\" href=\"_proofs_/notOrIfNotAny.ipynb\">proveit.logic.boolean.disjunction.notOrIfNotAny</a></td></tr><tr><td>2</td><td>theorem</td><td></td><td><span style=\"font-size:20px;\"> &#x22A2;&nbsp;<a class=\"ProveItLink\" href=\"../../../number/numeral/deci/__pv_it/106bf174ef7755d5609db086689abcc208d6bf3d0/expr.ipynb\"><img src=\"../../../number/numeral/deci/__pv_it/106bf174ef7755d5609db086689abcc208d6bf3d0/expr.png\" style=\"display:inline;vertical-align:middle;\" /></a></span></td></tr>\n",
       "<tr><td>&nbsp;</td><td colspan=4 style-\"text-align:left\"><a class=\"ProveItLink\" href=\"../../../number/numeral/deci/_proofs_/nat3.ipynb\">proveit.number.numeral.deci.nat3</a></td></tr><tr><td>3</td><td>assumption</td><td></td><td><span style=\"font-size:20px;\"><a class=\"ProveItLink\" href=\"__pv_it/d70bb8509ebbd8eaacf9f16c016cbcdff0854f010/expr.ipynb\"><img src=\"__pv_it/d70bb8509ebbd8eaacf9f16c016cbcdff0854f010/expr.png\" style=\"display:inline;vertical-align:middle;\" /></a> &#x22A2;&nbsp;<a class=\"ProveItLink\" href=\"__pv_it/feaa1d0e6d92ad9ead8e5ffd1f92697e3912387a0/expr.ipynb\"><img src=\"__pv_it/feaa1d0e6d92ad9ead8e5ffd1f92697e3912387a0/expr.png\" style=\"display:inline;vertical-align:middle;\" /></a></span></td></tr>\n",
       "<tr><td>4</td><td>assumption</td><td></td><td><span style=\"font-size:20px;\"><a class=\"ProveItLink\" href=\"__pv_it/b7e31d75543b3ce9f0c6e088e7bca956c708f1740/expr.ipynb\"><img src=\"__pv_it/b7e31d75543b3ce9f0c6e088e7bca956c708f1740/expr.png\" style=\"display:inline;vertical-align:middle;\" /></a> &#x22A2;&nbsp;<a class=\"ProveItLink\" href=\"__pv_it/1da4e2fe7c44632f084fa27ea32e26dc689384c20/expr.ipynb\"><img src=\"__pv_it/1da4e2fe7c44632f084fa27ea32e26dc689384c20/expr.png\" style=\"display:inline;vertical-align:middle;\" /></a></span></td></tr>\n",
       "<tr><td>5</td><td>assumption</td><td></td><td><span style=\"font-size:20px;\"><a class=\"ProveItLink\" href=\"__pv_it/06546725e707ddc1cd5f46e66f9d6c011fc718de0/expr.ipynb\"><img src=\"__pv_it/06546725e707ddc1cd5f46e66f9d6c011fc718de0/expr.png\" style=\"display:inline;vertical-align:middle;\" /></a> &#x22A2;&nbsp;<a class=\"ProveItLink\" href=\"__pv_it/4fbdcb4671f0f96544ca64362db2c9fec03a54b30/expr.ipynb\"><img src=\"__pv_it/4fbdcb4671f0f96544ca64362db2c9fec03a54b30/expr.png\" style=\"display:inline;vertical-align:middle;\" /></a></span></td></tr>\n",
       "<tr><td>6</td><td>theorem</td><td></td><td><span style=\"font-size:20px;\"> &#x22A2;&nbsp;<a class=\"ProveItLink\" href=\"../../../number/numeral/deci/__pv_it/5b6ff6a2fca03ad41d2a3084e44fbb28428ffb6a0/expr.ipynb\"><img src=\"../../../number/numeral/deci/__pv_it/5b6ff6a2fca03ad41d2a3084e44fbb28428ffb6a0/expr.png\" style=\"display:inline;vertical-align:middle;\" /></a></span></td></tr>\n",
       "<tr><td>&nbsp;</td><td colspan=4 style-\"text-align:left\"><a class=\"ProveItLink\" href=\"../../../number/numeral/deci/_proofs_/add_1_1.ipynb\">proveit.number.numeral.deci.add_1_1</a></td></tr><tr><td>7</td><td>theorem</td><td></td><td><span style=\"font-size:20px;\"> &#x22A2;&nbsp;<a class=\"ProveItLink\" href=\"../../../number/numeral/deci/__pv_it/349c663074c343ced32577f83aa9971191d0752c0/expr.ipynb\"><img src=\"../../../number/numeral/deci/__pv_it/349c663074c343ced32577f83aa9971191d0752c0/expr.png\" style=\"display:inline;vertical-align:middle;\" /></a></span></td></tr>\n",
       "<tr><td>&nbsp;</td><td colspan=4 style-\"text-align:left\"><a class=\"ProveItLink\" href=\"../../../number/numeral/deci/_proofs_/add_2_1.ipynb\">proveit.number.numeral.deci.add_2_1</a></td></tr></table>"
      ],
      "text/plain": [
       "\tstep type\trequirements\tstatement\n",
       "0\tspecialization\t1, 2, 3, 4, 5, 6, 7\t{[not](A) , [not](B) , [not](C)} |- [not](A or B or C)\n",
       "\tm : 3, A : (A , B , C)\n",
       "1\ttheorem\t\t|- forall_{m in Naturals} [forall_{A | [not](A_1) ,  ...  , [not](A_m)} [not](A_1 or  ...  or A_m)]\n",
       "\tproveit.logic.boolean.disjunction.notOrIfNotAny\n",
       "2\ttheorem\t\t|- 3 in Naturals\n",
       "\tproveit.number.numeral.deci.nat3\n",
       "3\tassumption\t\t{[not](A)} |- [not](A)\n",
       "4\tassumption\t\t{[not](B)} |- [not](B)\n",
       "5\tassumption\t\t{[not](C)} |- [not](C)\n",
       "6\ttheorem\t\t|- (1 + 1) = 2\n",
       "\tproveit.number.numeral.deci.add_1_1\n",
       "7\ttheorem\t\t|- (2 + 1) = 3\n",
       "\tproveit.number.numeral.deci.add_2_1"
      ]
     },
     "execution_count": 35,
     "metadata": {},
     "output_type": "execute_result"
    }
   ],
   "source": [
    "Not(Or(A,B,C)).prove([Not(A), Not(B), Not(C)]).proof()"
   ]
  },
  {
   "cell_type": "code",
   "execution_count": 36,
   "metadata": {},
   "outputs": [
    {
     "data": {
      "text/html": [
       "<table><tr><th>&nbsp;</th><th>step type</th><th>requirements</th><th>statement</th></tr>\n",
       "<tr><td>0</td><td>specialization</td><td>1, 2, 3, 4, 5, 6</td><td><span style=\"font-size:20px;\"><a class=\"ProveItLink\" href=\"__pv_it/38796fd65c20ced50a4bd2dca86927714e230c620/expr.ipynb\"><img src=\"__pv_it/38796fd65c20ced50a4bd2dca86927714e230c620/expr.png\" style=\"display:inline;vertical-align:middle;\" /></a> &#x22A2;&nbsp;<a class=\"ProveItLink\" href=\"../__pv_it/8f1f7fac882de28c72b62ab80a1700b6d8fd066b0/expr.ipynb\"><img src=\"../__pv_it/8f1f7fac882de28c72b62ab80a1700b6d8fd066b0/expr.png\" style=\"display:inline;vertical-align:middle;\" /></a></span></td></tr>\n",
       "<tr><td>&nbsp;</td><td colspan=4 style=\"text-align:left\"><span style=\"font-size:20px;\"><a class=\"ProveItLink\" href=\"../../../__pv_it/78af03acba5349fd70398a32ce59bae1da52f0870/expr.ipynb\"><img src=\"../../../__pv_it/78af03acba5349fd70398a32ce59bae1da52f0870/expr.png\" style=\"display:inline;vertical-align:middle;\" /></a> : <a class=\"ProveItLink\" href=\"../../../number/numeral/__pv_it/9176d93c83afa2c995b614976e3cb49207102fa70/expr.ipynb\"><img src=\"../../../number/numeral/__pv_it/9176d93c83afa2c995b614976e3cb49207102fa70/expr.png\" style=\"display:inline;vertical-align:middle;\" /></a>, <a class=\"ProveItLink\" href=\"../../../__pv_it/eb438fefc4bd0ac977777d6dfd3e8a72dfbedbd50/expr.ipynb\"><img src=\"../../../__pv_it/eb438fefc4bd0ac977777d6dfd3e8a72dfbedbd50/expr.png\" style=\"display:inline;vertical-align:middle;\" /></a> : <a class=\"ProveItLink\" href=\"__pv_it/3bf9902b68eb16c350f1cbf3338cf2ecb60afd7e0/expr.ipynb\"><img src=\"__pv_it/3bf9902b68eb16c350f1cbf3338cf2ecb60afd7e0/expr.png\" style=\"display:inline;vertical-align:middle;\" /></a></span></td></tr><tr><td>1</td><td>theorem</td><td></td><td><span style=\"font-size:20px;\"> &#x22A2;&nbsp;<a class=\"ProveItLink\" href=\"__pv_it/aaffdb0f6a4cc8745a287ed309a670a6f64d96b30/expr.ipynb\"><img src=\"__pv_it/aaffdb0f6a4cc8745a287ed309a670a6f64d96b30/expr.png\" style=\"display:inline;vertical-align:middle;\" /></a></span></td></tr>\n",
       "<tr><td>&nbsp;</td><td colspan=4 style-\"text-align:left\"><a class=\"ProveItLink\" href=\"_proofs_/orContradiction.ipynb\">proveit.logic.boolean.disjunction.orContradiction</a></td></tr><tr><td>2</td><td>theorem</td><td></td><td><span style=\"font-size:20px;\"> &#x22A2;&nbsp;<a class=\"ProveItLink\" href=\"../../../number/numeral/deci/__pv_it/106bf174ef7755d5609db086689abcc208d6bf3d0/expr.ipynb\"><img src=\"../../../number/numeral/deci/__pv_it/106bf174ef7755d5609db086689abcc208d6bf3d0/expr.png\" style=\"display:inline;vertical-align:middle;\" /></a></span></td></tr>\n",
       "<tr><td>&nbsp;</td><td colspan=4 style-\"text-align:left\"><a class=\"ProveItLink\" href=\"../../../number/numeral/deci/_proofs_/nat3.ipynb\">proveit.number.numeral.deci.nat3</a></td></tr><tr><td>3</td><td>assumption</td><td></td><td><span style=\"font-size:20px;\"><a class=\"ProveItLink\" href=\"__pv_it/400e73419ee35292ef6a5b808bbfc2295298a7680/expr.ipynb\"><img src=\"__pv_it/400e73419ee35292ef6a5b808bbfc2295298a7680/expr.png\" style=\"display:inline;vertical-align:middle;\" /></a> &#x22A2;&nbsp;<a class=\"ProveItLink\" href=\"__pv_it/ce4c9ce6403a7350f491c3e24576587d335e1c560/expr.ipynb\"><img src=\"__pv_it/ce4c9ce6403a7350f491c3e24576587d335e1c560/expr.png\" style=\"display:inline;vertical-align:middle;\" /></a></span></td></tr>\n",
       "<tr><td>4</td><td>assumption</td><td></td><td><span style=\"font-size:20px;\"><a class=\"ProveItLink\" href=\"__pv_it/d70bb8509ebbd8eaacf9f16c016cbcdff0854f010/expr.ipynb\"><img src=\"__pv_it/d70bb8509ebbd8eaacf9f16c016cbcdff0854f010/expr.png\" style=\"display:inline;vertical-align:middle;\" /></a> &#x22A2;&nbsp;<a class=\"ProveItLink\" href=\"__pv_it/feaa1d0e6d92ad9ead8e5ffd1f92697e3912387a0/expr.ipynb\"><img src=\"__pv_it/feaa1d0e6d92ad9ead8e5ffd1f92697e3912387a0/expr.png\" style=\"display:inline;vertical-align:middle;\" /></a></span></td></tr>\n",
       "<tr><td>5</td><td>assumption</td><td></td><td><span style=\"font-size:20px;\"><a class=\"ProveItLink\" href=\"__pv_it/b7e31d75543b3ce9f0c6e088e7bca956c708f1740/expr.ipynb\"><img src=\"__pv_it/b7e31d75543b3ce9f0c6e088e7bca956c708f1740/expr.png\" style=\"display:inline;vertical-align:middle;\" /></a> &#x22A2;&nbsp;<a class=\"ProveItLink\" href=\"__pv_it/1da4e2fe7c44632f084fa27ea32e26dc689384c20/expr.ipynb\"><img src=\"__pv_it/1da4e2fe7c44632f084fa27ea32e26dc689384c20/expr.png\" style=\"display:inline;vertical-align:middle;\" /></a></span></td></tr>\n",
       "<tr><td>6</td><td>assumption</td><td></td><td><span style=\"font-size:20px;\"><a class=\"ProveItLink\" href=\"__pv_it/06546725e707ddc1cd5f46e66f9d6c011fc718de0/expr.ipynb\"><img src=\"__pv_it/06546725e707ddc1cd5f46e66f9d6c011fc718de0/expr.png\" style=\"display:inline;vertical-align:middle;\" /></a> &#x22A2;&nbsp;<a class=\"ProveItLink\" href=\"__pv_it/4fbdcb4671f0f96544ca64362db2c9fec03a54b30/expr.ipynb\"><img src=\"__pv_it/4fbdcb4671f0f96544ca64362db2c9fec03a54b30/expr.png\" style=\"display:inline;vertical-align:middle;\" /></a></span></td></tr>\n",
       "</table>"
      ],
      "text/plain": [
       "\tstep type\trequirements\tstatement\n",
       "0\tspecialization\t1, 2, 3, 4, 5, 6\t{A or B or C , [not](A) , [not](B) , [not](C)} |- FALSE\n",
       "\tm : 3, A : (A , B , C)\n",
       "1\ttheorem\t\t|- forall_{m in Naturals} [forall_{A | A_1 or  ...  or A_m , [not](A_1) ,  ...  , [not](A_m)} FALSE]\n",
       "\tproveit.logic.boolean.disjunction.orContradiction\n",
       "2\ttheorem\t\t|- 3 in Naturals\n",
       "\tproveit.number.numeral.deci.nat3\n",
       "3\tassumption\t\t{A or B or C} |- A or B or C\n",
       "4\tassumption\t\t{[not](A)} |- [not](A)\n",
       "5\tassumption\t\t{[not](B)} |- [not](B)\n",
       "6\tassumption\t\t{[not](C)} |- [not](C)"
      ]
     },
     "execution_count": 36,
     "metadata": {},
     "output_type": "execute_result"
    }
   ],
   "source": [
    "Or(A,B,C).deriveContradiction([Or(A,B,C), Not(A), Not(B), Not(C)]).proof()"
   ]
  },
  {
   "cell_type": "code",
   "execution_count": 37,
   "metadata": {},
   "outputs": [
    {
     "data": {
      "text/html": [
       "<table><tr><th>&nbsp;</th><th>step type</th><th>requirements</th><th>statement</th></tr>\n",
       "<tr><td>0</td><td>specialization</td><td>1, 2, 3, 4, 5, 6, 7, 8, 9</td><td><span style=\"font-size:20px;\"><a class=\"ProveItLink\" href=\"__pv_it/ba4c8eb784fa52adfd8e2877b83622e1dc46b96e0/expr.ipynb\"><img src=\"__pv_it/ba4c8eb784fa52adfd8e2877b83622e1dc46b96e0/expr.png\" style=\"display:inline;vertical-align:middle;\" /></a> &#x22A2;&nbsp;<a class=\"ProveItLink\" href=\"__pv_it/2ccc2388c191f2016513ea5605f8803bd4be36260/expr.ipynb\"><img src=\"__pv_it/2ccc2388c191f2016513ea5605f8803bd4be36260/expr.png\" style=\"display:inline;vertical-align:middle;\" /></a></span></td></tr>\n",
       "<tr><td>&nbsp;</td><td colspan=4 style=\"text-align:left\"><span style=\"font-size:20px;\"><a class=\"ProveItLink\" href=\"../../../__pv_it/3e5d49a51123592869b160296a6e123a424e07a70/expr.ipynb\"><img src=\"../../../__pv_it/3e5d49a51123592869b160296a6e123a424e07a70/expr.png\" style=\"display:inline;vertical-align:middle;\" /></a> : <a class=\"ProveItLink\" href=\"../../../number/numeral/__pv_it/77d407a64829263cdc16415becd4c2293f77a4bf0/expr.ipynb\"><img src=\"../../../number/numeral/__pv_it/77d407a64829263cdc16415becd4c2293f77a4bf0/expr.png\" style=\"display:inline;vertical-align:middle;\" /></a>, <a class=\"ProveItLink\" href=\"../../../__pv_it/78af03acba5349fd70398a32ce59bae1da52f0870/expr.ipynb\"><img src=\"../../../__pv_it/78af03acba5349fd70398a32ce59bae1da52f0870/expr.png\" style=\"display:inline;vertical-align:middle;\" /></a> : <a class=\"ProveItLink\" href=\"../../../number/numeral/__pv_it/77d407a64829263cdc16415becd4c2293f77a4bf0/expr.ipynb\"><img src=\"../../../number/numeral/__pv_it/77d407a64829263cdc16415becd4c2293f77a4bf0/expr.png\" style=\"display:inline;vertical-align:middle;\" /></a>, <a class=\"ProveItLink\" href=\"../../../__pv_it/39dbcd3ca0390345b51c6ef7785756419e2c14390/expr.ipynb\"><img src=\"../../../__pv_it/39dbcd3ca0390345b51c6ef7785756419e2c14390/expr.png\" style=\"display:inline;vertical-align:middle;\" /></a> : <a class=\"ProveItLink\" href=\"../../../number/numeral/__pv_it/9176d93c83afa2c995b614976e3cb49207102fa70/expr.ipynb\"><img src=\"../../../number/numeral/__pv_it/9176d93c83afa2c995b614976e3cb49207102fa70/expr.png\" style=\"display:inline;vertical-align:middle;\" /></a>, <a class=\"ProveItLink\" href=\"../../../__pv_it/eb438fefc4bd0ac977777d6dfd3e8a72dfbedbd50/expr.ipynb\"><img src=\"../../../__pv_it/eb438fefc4bd0ac977777d6dfd3e8a72dfbedbd50/expr.png\" style=\"display:inline;vertical-align:middle;\" /></a> : <a class=\"ProveItLink\" href=\"__pv_it/06a72e8706d1c13b268a9445a249c41d479d50850/expr.ipynb\"><img src=\"__pv_it/06a72e8706d1c13b268a9445a249c41d479d50850/expr.png\" style=\"display:inline;vertical-align:middle;\" /></a>, <a class=\"ProveItLink\" href=\"../../../__pv_it/a275d402e75fbbde925e8ebdcbfd239a2138849c0/expr.ipynb\"><img src=\"../../../__pv_it/a275d402e75fbbde925e8ebdcbfd239a2138849c0/expr.png\" style=\"display:inline;vertical-align:middle;\" /></a> : <a class=\"ProveItLink\" href=\"__pv_it/dc9e854469e5d863dc8ee464da9a7271b5b344fd0/expr.ipynb\"><img src=\"__pv_it/dc9e854469e5d863dc8ee464da9a7271b5b344fd0/expr.png\" style=\"display:inline;vertical-align:middle;\" /></a>, <a class=\"ProveItLink\" href=\"../../../__pv_it/9242e69d4f2c65d04fc0527b82418c7c22c6da370/expr.ipynb\"><img src=\"../../../__pv_it/9242e69d4f2c65d04fc0527b82418c7c22c6da370/expr.png\" style=\"display:inline;vertical-align:middle;\" /></a> : <a class=\"ProveItLink\" href=\"__pv_it/4f564a6edd3380d4737ba8e7cbab9cad8a2a54bb0/expr.ipynb\"><img src=\"__pv_it/4f564a6edd3380d4737ba8e7cbab9cad8a2a54bb0/expr.png\" style=\"display:inline;vertical-align:middle;\" /></a></span></td></tr><tr><td>1</td><td>theorem</td><td></td><td><span style=\"font-size:20px;\"> &#x22A2;&nbsp;<a class=\"ProveItLink\" href=\"__pv_it/516b6956e07219f19759a6f46ce67a13da6eacaf0/expr.ipynb\"><img src=\"__pv_it/516b6956e07219f19759a6f46ce67a13da6eacaf0/expr.png\" style=\"display:inline;vertical-align:middle;\" /></a></span></td></tr>\n",
       "<tr><td>&nbsp;</td><td colspan=4 style-\"text-align:left\"><a class=\"ProveItLink\" href=\"_proofs_/group.ipynb\">proveit.logic.boolean.disjunction.group</a></td></tr><tr><td>2</td><td>theorem</td><td></td><td><span style=\"font-size:20px;\"> &#x22A2;&nbsp;<a class=\"ProveItLink\" href=\"../../../number/numeral/deci/__pv_it/286f0443dba55bdb259c90cef1db0ca273fac95e0/expr.ipynb\"><img src=\"../../../number/numeral/deci/__pv_it/286f0443dba55bdb259c90cef1db0ca273fac95e0/expr.png\" style=\"display:inline;vertical-align:middle;\" /></a></span></td></tr>\n",
       "<tr><td>&nbsp;</td><td colspan=4 style-\"text-align:left\"><a class=\"ProveItLink\" href=\"../../../number/numeral/deci/_proofs_/nat2.ipynb\">proveit.number.numeral.deci.nat2</a></td></tr><tr><td>3</td><td>theorem</td><td></td><td><span style=\"font-size:20px;\"> &#x22A2;&nbsp;<a class=\"ProveItLink\" href=\"../../../number/numeral/deci/__pv_it/106bf174ef7755d5609db086689abcc208d6bf3d0/expr.ipynb\"><img src=\"../../../number/numeral/deci/__pv_it/106bf174ef7755d5609db086689abcc208d6bf3d0/expr.png\" style=\"display:inline;vertical-align:middle;\" /></a></span></td></tr>\n",
       "<tr><td>&nbsp;</td><td colspan=4 style-\"text-align:left\"><a class=\"ProveItLink\" href=\"../../../number/numeral/deci/_proofs_/nat3.ipynb\">proveit.number.numeral.deci.nat3</a></td></tr><tr><td>4</td><td>specialization</td><td>12, 10, 11</td><td><span style=\"font-size:20px;\"><a class=\"ProveItLink\" href=\"__pv_it/1cfd36f54dadf8eaa971948fe28d325742cb751f0/expr.ipynb\"><img src=\"__pv_it/1cfd36f54dadf8eaa971948fe28d325742cb751f0/expr.png\" style=\"display:inline;vertical-align:middle;\" /></a> &#x22A2;&nbsp;<a class=\"ProveItLink\" href=\"__pv_it/2658b8bdcda9f2f0acb9b0205b2797e3d0c12c210/expr.ipynb\"><img src=\"__pv_it/2658b8bdcda9f2f0acb9b0205b2797e3d0c12c210/expr.png\" style=\"display:inline;vertical-align:middle;\" /></a></span></td></tr>\n",
       "<tr><td>&nbsp;</td><td colspan=4 style=\"text-align:left\"><span style=\"font-size:20px;\"><a class=\"ProveItLink\" href=\"../../../__pv_it/abeee18594afe51bfb1be95d9591fbba24ac53f30/expr.ipynb\"><img src=\"../../../__pv_it/abeee18594afe51bfb1be95d9591fbba24ac53f30/expr.png\" style=\"display:inline;vertical-align:middle;\" /></a> : <a class=\"ProveItLink\" href=\"../__pv_it/46271c8230be96415d662709611f4ed2279d702b0/expr.ipynb\"><img src=\"../__pv_it/46271c8230be96415d662709611f4ed2279d702b0/expr.png\" style=\"display:inline;vertical-align:middle;\" /></a>, <a class=\"ProveItLink\" href=\"../../../__pv_it/07527342713064c87612d00d8557c53d53d5324a0/expr.ipynb\"><img src=\"../../../__pv_it/07527342713064c87612d00d8557c53d53d5324a0/expr.png\" style=\"display:inline;vertical-align:middle;\" /></a> : <a class=\"ProveItLink\" href=\"../../../__pv_it/2cbe72a7ad6f655694dd697106680215e8489b600/expr.ipynb\"><img src=\"../../../__pv_it/2cbe72a7ad6f655694dd697106680215e8489b600/expr.png\" style=\"display:inline;vertical-align:middle;\" /></a>, <a class=\"ProveItLink\" href=\"../../../__pv_it/6840a4fa6c106149dc16a131294d0c5e44f1b0480/expr.ipynb\"><img src=\"../../../__pv_it/6840a4fa6c106149dc16a131294d0c5e44f1b0480/expr.png\" style=\"display:inline;vertical-align:middle;\" /></a> : <a class=\"ProveItLink\" href=\"../../../__pv_it/077b2ff79244fb4582cbe22c6e3356fa92a52f2f0/expr.ipynb\"><img src=\"../../../__pv_it/077b2ff79244fb4582cbe22c6e3356fa92a52f2f0/expr.png\" style=\"display:inline;vertical-align:middle;\" /></a></span></td></tr><tr><td>5</td><td>specialization</td><td>12, 13, 14</td><td><span style=\"font-size:20px;\"><a class=\"ProveItLink\" href=\"__pv_it/0f32bcc9f2a496786139e05c6acd4be91e68beb70/expr.ipynb\"><img src=\"__pv_it/0f32bcc9f2a496786139e05c6acd4be91e68beb70/expr.png\" style=\"display:inline;vertical-align:middle;\" /></a> &#x22A2;&nbsp;<a class=\"ProveItLink\" href=\"__pv_it/736c9fb123aa517a2bbeba9689091348a4ddfcf00/expr.ipynb\"><img src=\"__pv_it/736c9fb123aa517a2bbeba9689091348a4ddfcf00/expr.png\" style=\"display:inline;vertical-align:middle;\" /></a></span></td></tr>\n",
       "<tr><td>&nbsp;</td><td colspan=4 style=\"text-align:left\"><span style=\"font-size:20px;\"><a class=\"ProveItLink\" href=\"../../../__pv_it/abeee18594afe51bfb1be95d9591fbba24ac53f30/expr.ipynb\"><img src=\"../../../__pv_it/abeee18594afe51bfb1be95d9591fbba24ac53f30/expr.png\" style=\"display:inline;vertical-align:middle;\" /></a> : <a class=\"ProveItLink\" href=\"../__pv_it/46271c8230be96415d662709611f4ed2279d702b0/expr.ipynb\"><img src=\"../__pv_it/46271c8230be96415d662709611f4ed2279d702b0/expr.png\" style=\"display:inline;vertical-align:middle;\" /></a>, <a class=\"ProveItLink\" href=\"../../../__pv_it/07527342713064c87612d00d8557c53d53d5324a0/expr.ipynb\"><img src=\"../../../__pv_it/07527342713064c87612d00d8557c53d53d5324a0/expr.png\" style=\"display:inline;vertical-align:middle;\" /></a> : <a class=\"ProveItLink\" href=\"../../../__pv_it/985a1bdf1540838275dec15f4ad6de261cca93ce0/expr.ipynb\"><img src=\"../../../__pv_it/985a1bdf1540838275dec15f4ad6de261cca93ce0/expr.png\" style=\"display:inline;vertical-align:middle;\" /></a>, <a class=\"ProveItLink\" href=\"../../../__pv_it/6840a4fa6c106149dc16a131294d0c5e44f1b0480/expr.ipynb\"><img src=\"../../../__pv_it/6840a4fa6c106149dc16a131294d0c5e44f1b0480/expr.png\" style=\"display:inline;vertical-align:middle;\" /></a> : <a class=\"ProveItLink\" href=\"../../../__pv_it/185e6d30f167ee2ee5ef3321098dc98e0d77bc590/expr.ipynb\"><img src=\"../../../__pv_it/185e6d30f167ee2ee5ef3321098dc98e0d77bc590/expr.png\" style=\"display:inline;vertical-align:middle;\" /></a></span></td></tr><tr><td>6</td><td>specialization</td><td>15, 16, 17, 18</td><td><span style=\"font-size:20px;\"><a class=\"ProveItLink\" href=\"__pv_it/7a487b80a3a1aef3c6393f00e058be6d03948b470/expr.ipynb\"><img src=\"__pv_it/7a487b80a3a1aef3c6393f00e058be6d03948b470/expr.png\" style=\"display:inline;vertical-align:middle;\" /></a> &#x22A2;&nbsp;<a class=\"ProveItLink\" href=\"__pv_it/c08f2b73c2f1ab418e611403612f2d051a58b13b0/expr.ipynb\"><img src=\"__pv_it/c08f2b73c2f1ab418e611403612f2d051a58b13b0/expr.png\" style=\"display:inline;vertical-align:middle;\" /></a></span></td></tr>\n",
       "<tr><td>&nbsp;</td><td colspan=4 style=\"text-align:left\"><span style=\"font-size:20px;\"><a class=\"ProveItLink\" href=\"../../../__pv_it/abeee18594afe51bfb1be95d9591fbba24ac53f30/expr.ipynb\"><img src=\"../../../__pv_it/abeee18594afe51bfb1be95d9591fbba24ac53f30/expr.png\" style=\"display:inline;vertical-align:middle;\" /></a> : <a class=\"ProveItLink\" href=\"../__pv_it/46271c8230be96415d662709611f4ed2279d702b0/expr.ipynb\"><img src=\"../__pv_it/46271c8230be96415d662709611f4ed2279d702b0/expr.png\" style=\"display:inline;vertical-align:middle;\" /></a>, <a class=\"ProveItLink\" href=\"../../../__pv_it/07527342713064c87612d00d8557c53d53d5324a0/expr.ipynb\"><img src=\"../../../__pv_it/07527342713064c87612d00d8557c53d53d5324a0/expr.png\" style=\"display:inline;vertical-align:middle;\" /></a> : <a class=\"ProveItLink\" href=\"../../../__pv_it/9995c55100c62d7d8a012a35bafc852acbe03cf00/expr.ipynb\"><img src=\"../../../__pv_it/9995c55100c62d7d8a012a35bafc852acbe03cf00/expr.png\" style=\"display:inline;vertical-align:middle;\" /></a>, <a class=\"ProveItLink\" href=\"../../../__pv_it/6840a4fa6c106149dc16a131294d0c5e44f1b0480/expr.ipynb\"><img src=\"../../../__pv_it/6840a4fa6c106149dc16a131294d0c5e44f1b0480/expr.png\" style=\"display:inline;vertical-align:middle;\" /></a> : <a class=\"ProveItLink\" href=\"../../../__pv_it/6d1586c49fb5fd7602fde2bbc54560e7304e8ccf0/expr.ipynb\"><img src=\"../../../__pv_it/6d1586c49fb5fd7602fde2bbc54560e7304e8ccf0/expr.png\" style=\"display:inline;vertical-align:middle;\" /></a>, <a class=\"ProveItLink\" href=\"../../../__pv_it/cbdfda466482236edba0ce44ac7ef39cda0af7a40/expr.ipynb\"><img src=\"../../../__pv_it/cbdfda466482236edba0ce44ac7ef39cda0af7a40/expr.png\" style=\"display:inline;vertical-align:middle;\" /></a> : <a class=\"ProveItLink\" href=\"../../../__pv_it/994260d00d104a1ab9cf940a007fb6a4ff36f79e0/expr.ipynb\"><img src=\"../../../__pv_it/994260d00d104a1ab9cf940a007fb6a4ff36f79e0/expr.png\" style=\"display:inline;vertical-align:middle;\" /></a></span></td></tr><tr><td>7</td><td>assumption</td><td></td><td><span style=\"font-size:20px;\"><a class=\"ProveItLink\" href=\"__pv_it/a53480ed0192ee20c6decc5120d71f15350222130/expr.ipynb\"><img src=\"__pv_it/a53480ed0192ee20c6decc5120d71f15350222130/expr.png\" style=\"display:inline;vertical-align:middle;\" /></a> &#x22A2;&nbsp;<a class=\"ProveItLink\" href=\"__pv_it/28d041147b683f342affadc4e5474be7841fc4d90/expr.ipynb\"><img src=\"__pv_it/28d041147b683f342affadc4e5474be7841fc4d90/expr.png\" style=\"display:inline;vertical-align:middle;\" /></a></span></td></tr>\n",
       "<tr><td>8</td><td>theorem</td><td></td><td><span style=\"font-size:20px;\"> &#x22A2;&nbsp;<a class=\"ProveItLink\" href=\"../../../number/numeral/deci/__pv_it/5b6ff6a2fca03ad41d2a3084e44fbb28428ffb6a0/expr.ipynb\"><img src=\"../../../number/numeral/deci/__pv_it/5b6ff6a2fca03ad41d2a3084e44fbb28428ffb6a0/expr.png\" style=\"display:inline;vertical-align:middle;\" /></a></span></td></tr>\n",
       "<tr><td>&nbsp;</td><td colspan=4 style-\"text-align:left\"><a class=\"ProveItLink\" href=\"../../../number/numeral/deci/_proofs_/add_1_1.ipynb\">proveit.number.numeral.deci.add_1_1</a></td></tr><tr><td>9</td><td>theorem</td><td></td><td><span style=\"font-size:20px;\"> &#x22A2;&nbsp;<a class=\"ProveItLink\" href=\"../../../number/numeral/deci/__pv_it/349c663074c343ced32577f83aa9971191d0752c0/expr.ipynb\"><img src=\"../../../number/numeral/deci/__pv_it/349c663074c343ced32577f83aa9971191d0752c0/expr.png\" style=\"display:inline;vertical-align:middle;\" /></a></span></td></tr>\n",
       "<tr><td>&nbsp;</td><td colspan=4 style-\"text-align:left\"><a class=\"ProveItLink\" href=\"../../../number/numeral/deci/_proofs_/add_2_1.ipynb\">proveit.number.numeral.deci.add_2_1</a></td></tr><tr><td>10</td><td>assumption</td><td></td><td><span style=\"font-size:20px;\"><a class=\"ProveItLink\" href=\"__pv_it/017ca8cfa034181c90ba15dd10869f0f4e516d6a0/expr.ipynb\"><img src=\"__pv_it/017ca8cfa034181c90ba15dd10869f0f4e516d6a0/expr.png\" style=\"display:inline;vertical-align:middle;\" /></a> &#x22A2;&nbsp;<a class=\"ProveItLink\" href=\"__pv_it/03a5c2b5cc6fc2c3cd686b4bcf84379b893abe210/expr.ipynb\"><img src=\"__pv_it/03a5c2b5cc6fc2c3cd686b4bcf84379b893abe210/expr.png\" style=\"display:inline;vertical-align:middle;\" /></a></span></td></tr>\n",
       "<tr><td>11</td><td>assumption</td><td></td><td><span style=\"font-size:20px;\"><a class=\"ProveItLink\" href=\"__pv_it/2c2e947402f53b9e11cd7769e1b5b3378595750e0/expr.ipynb\"><img src=\"__pv_it/2c2e947402f53b9e11cd7769e1b5b3378595750e0/expr.png\" style=\"display:inline;vertical-align:middle;\" /></a> &#x22A2;&nbsp;<a class=\"ProveItLink\" href=\"__pv_it/fe5c91c77f0659f9ea07a2e3257797875d6868370/expr.ipynb\"><img src=\"__pv_it/fe5c91c77f0659f9ea07a2e3257797875d6868370/expr.png\" style=\"display:inline;vertical-align:middle;\" /></a></span></td></tr>\n",
       "<tr><td>12</td><td>theorem</td><td></td><td><span style=\"font-size:20px;\"> &#x22A2;&nbsp;<a class=\"ProveItLink\" href=\"../../set_theory/membership/__pv_it/9ac424c71798aca56b25ebe33a7a41dbaa332c490/expr.ipynb\"><img src=\"../../set_theory/membership/__pv_it/9ac424c71798aca56b25ebe33a7a41dbaa332c490/expr.png\" style=\"display:inline;vertical-align:middle;\" /></a></span></td></tr>\n",
       "<tr><td>&nbsp;</td><td colspan=4 style-\"text-align:left\"><a class=\"ProveItLink\" href=\"../../set_theory/membership/_proofs_/exp_set_2.ipynb\">proveit.logic.set_theory.membership.exp_set_2</a></td></tr><tr><td>13</td><td>assumption</td><td></td><td><span style=\"font-size:20px;\"><a class=\"ProveItLink\" href=\"__pv_it/549ecf82a9d4ac5ca0750c6c3aaf83e6e7209ca90/expr.ipynb\"><img src=\"__pv_it/549ecf82a9d4ac5ca0750c6c3aaf83e6e7209ca90/expr.png\" style=\"display:inline;vertical-align:middle;\" /></a> &#x22A2;&nbsp;<a class=\"ProveItLink\" href=\"__pv_it/2cec3c732aceb253233bb533d4e43cc3f34f4f660/expr.ipynb\"><img src=\"__pv_it/2cec3c732aceb253233bb533d4e43cc3f34f4f660/expr.png\" style=\"display:inline;vertical-align:middle;\" /></a></span></td></tr>\n",
       "<tr><td>14</td><td>assumption</td><td></td><td><span style=\"font-size:20px;\"><a class=\"ProveItLink\" href=\"__pv_it/aa3618fdfba9edc866f19a2dbc2f7cde292ff1c70/expr.ipynb\"><img src=\"__pv_it/aa3618fdfba9edc866f19a2dbc2f7cde292ff1c70/expr.png\" style=\"display:inline;vertical-align:middle;\" /></a> &#x22A2;&nbsp;<a class=\"ProveItLink\" href=\"__pv_it/3891b823dfb55f51d513cc7144556dc1bfd425b70/expr.ipynb\"><img src=\"__pv_it/3891b823dfb55f51d513cc7144556dc1bfd425b70/expr.png\" style=\"display:inline;vertical-align:middle;\" /></a></span></td></tr>\n",
       "<tr><td>15</td><td>theorem</td><td></td><td><span style=\"font-size:20px;\"> &#x22A2;&nbsp;<a class=\"ProveItLink\" href=\"../../set_theory/membership/__pv_it/a49ce01e1a7921a9d6b58e9c03dee6f569af69c80/expr.ipynb\"><img src=\"../../set_theory/membership/__pv_it/a49ce01e1a7921a9d6b58e9c03dee6f569af69c80/expr.png\" style=\"display:inline;vertical-align:middle;\" /></a></span></td></tr>\n",
       "<tr><td>&nbsp;</td><td colspan=4 style-\"text-align:left\"><a class=\"ProveItLink\" href=\"../../set_theory/membership/_proofs_/exp_set_3.ipynb\">proveit.logic.set_theory.membership.exp_set_3</a></td></tr><tr><td>16</td><td>assumption</td><td></td><td><span style=\"font-size:20px;\"><a class=\"ProveItLink\" href=\"__pv_it/45550be27f6913c17dce44dfc83cc77bc2a041d30/expr.ipynb\"><img src=\"__pv_it/45550be27f6913c17dce44dfc83cc77bc2a041d30/expr.png\" style=\"display:inline;vertical-align:middle;\" /></a> &#x22A2;&nbsp;<a class=\"ProveItLink\" href=\"__pv_it/655d89e4e0e0d371b0b02d7fde2b0e184bd7586c0/expr.ipynb\"><img src=\"__pv_it/655d89e4e0e0d371b0b02d7fde2b0e184bd7586c0/expr.png\" style=\"display:inline;vertical-align:middle;\" /></a></span></td></tr>\n",
       "<tr><td>17</td><td>assumption</td><td></td><td><span style=\"font-size:20px;\"><a class=\"ProveItLink\" href=\"__pv_it/0ba4cd246cef7b00b186d3d56b6671849ced26320/expr.ipynb\"><img src=\"__pv_it/0ba4cd246cef7b00b186d3d56b6671849ced26320/expr.png\" style=\"display:inline;vertical-align:middle;\" /></a> &#x22A2;&nbsp;<a class=\"ProveItLink\" href=\"__pv_it/62029ad82d8302e3a31ed4ae162b3ad65f0484420/expr.ipynb\"><img src=\"__pv_it/62029ad82d8302e3a31ed4ae162b3ad65f0484420/expr.png\" style=\"display:inline;vertical-align:middle;\" /></a></span></td></tr>\n",
       "<tr><td>18</td><td>assumption</td><td></td><td><span style=\"font-size:20px;\"><a class=\"ProveItLink\" href=\"__pv_it/0104e7b63dbe24a8f1a4dc3aa342b211184372700/expr.ipynb\"><img src=\"__pv_it/0104e7b63dbe24a8f1a4dc3aa342b211184372700/expr.png\" style=\"display:inline;vertical-align:middle;\" /></a> &#x22A2;&nbsp;<a class=\"ProveItLink\" href=\"__pv_it/9c241f611ffe152dbed9d35a15444f5e8bde21190/expr.ipynb\"><img src=\"__pv_it/9c241f611ffe152dbed9d35a15444f5e8bde21190/expr.png\" style=\"display:inline;vertical-align:middle;\" /></a></span></td></tr>\n",
       "</table>"
      ],
      "text/plain": [
       "\tstep type\trequirements\tstatement\n",
       "0\tspecialization\t1, 2, 3, 4, 5, 6, 7, 8, 9\t{A or B or C or D or E or F or G , A in BOOLEANS , B in BOOLEANS , C in BOOLEANS , D in BOOLEANS , E in BOOLEANS , F in BOOLEANS , G in BOOLEANS} |- A or B or (C or D) or E or F or G\n",
       "\tl : 2, m : 2, n : 3, A : (A , B), B : (C , D), C : (E , F , G)\n",
       "1\ttheorem\t\t|- forall_{l, m, n in Naturals} [forall_{(A, B, C) in BOOLEANS^{l} * BOOLEANS^{m} * BOOLEANS^{n} | A_1 or  ...  or A_l or B_1 or  ...  or B_m or C_1 or  ...  or C_n} (A_1 or  ...  or A_l or (B_1 or  ...  or B_m) or C_1 or  ...  or C_n)]\n",
       "\tproveit.logic.boolean.disjunction.group\n",
       "2\ttheorem\t\t|- 2 in Naturals\n",
       "\tproveit.number.numeral.deci.nat2\n",
       "3\ttheorem\t\t|- 3 in Naturals\n",
       "\tproveit.number.numeral.deci.nat3\n",
       "4\tspecialization\t12, 10, 11\t{A in BOOLEANS , B in BOOLEANS} |- (A , B) in BOOLEANS^{2}\n",
       "\tS : BOOLEANS, a : A, b : B\n",
       "5\tspecialization\t12, 13, 14\t{C in BOOLEANS , D in BOOLEANS} |- (C , D) in BOOLEANS^{2}\n",
       "\tS : BOOLEANS, a : C, b : D\n",
       "6\tspecialization\t15, 16, 17, 18\t{E in BOOLEANS , F in BOOLEANS , G in BOOLEANS} |- (E , F , G) in BOOLEANS^{3}\n",
       "\tS : BOOLEANS, a : E, b : F, c : G\n",
       "7\tassumption\t\t{A or B or C or D or E or F or G} |- A or B or C or D or E or F or G\n",
       "8\ttheorem\t\t|- (1 + 1) = 2\n",
       "\tproveit.number.numeral.deci.add_1_1\n",
       "9\ttheorem\t\t|- (2 + 1) = 3\n",
       "\tproveit.number.numeral.deci.add_2_1\n",
       "10\tassumption\t\t{A in BOOLEANS} |- A in BOOLEANS\n",
       "11\tassumption\t\t{B in BOOLEANS} |- B in BOOLEANS\n",
       "12\ttheorem\t\t|- forall_{S} [forall_{a, b in S} ((a , b) in S^{2})]\n",
       "\tproveit.logic.set_theory.membership.exp_set_2\n",
       "13\tassumption\t\t{C in BOOLEANS} |- C in BOOLEANS\n",
       "14\tassumption\t\t{D in BOOLEANS} |- D in BOOLEANS\n",
       "15\ttheorem\t\t|- forall_{S} [forall_{a, b, c in S} ((a , b , c) in S^{3})]\n",
       "\tproveit.logic.set_theory.membership.exp_set_3\n",
       "16\tassumption\t\t{E in BOOLEANS} |- E in BOOLEANS\n",
       "17\tassumption\t\t{F in BOOLEANS} |- F in BOOLEANS\n",
       "18\tassumption\t\t{G in BOOLEANS} |- G in BOOLEANS"
      ]
     },
     "execution_count": 37,
     "metadata": {},
     "output_type": "execute_result"
    }
   ],
   "source": [
    "Or(A,B,C,D,E,F,G).deriveGroup(2,4,[Or(A,B,Or(C,D),E,F,G),Or(A,B,C,D,E,F,G),inBool(A), inBool(B),inBool(C),inBool(D),inBool(E),inBool(F),inBool(G)]).proof()"
   ]
  },
  {
   "cell_type": "code",
   "execution_count": 38,
   "metadata": {},
   "outputs": [
    {
     "data": {
      "text/html": [
       "<table><tr><th>&nbsp;</th><th>step type</th><th>requirements</th><th>statement</th></tr>\n",
       "<tr><td>0</td><td>specialization</td><td>1, 2, 3, 4, 5, 6, 7, 8</td><td><span style=\"font-size:20px;\"><a class=\"ProveItLink\" href=\"__pv_it/c5edaff40024f79e11d88f2f3c9d16393dc29bb10/expr.ipynb\"><img src=\"__pv_it/c5edaff40024f79e11d88f2f3c9d16393dc29bb10/expr.png\" style=\"display:inline;vertical-align:middle;\" /></a> &#x22A2;&nbsp;<a class=\"ProveItLink\" href=\"__pv_it/defd20bb25ec091e92c903fcd8eedebff6e698020/expr.ipynb\"><img src=\"__pv_it/defd20bb25ec091e92c903fcd8eedebff6e698020/expr.png\" style=\"display:inline;vertical-align:middle;\" /></a></span></td></tr>\n",
       "<tr><td>&nbsp;</td><td colspan=4 style=\"text-align:left\"><span style=\"font-size:20px;\"><a class=\"ProveItLink\" href=\"../../../__pv_it/3e5d49a51123592869b160296a6e123a424e07a70/expr.ipynb\"><img src=\"../../../__pv_it/3e5d49a51123592869b160296a6e123a424e07a70/expr.png\" style=\"display:inline;vertical-align:middle;\" /></a> : <a class=\"ProveItLink\" href=\"../../../number/numeral/__pv_it/9be8badea4c35b9724062cecc501d17a3158d1d20/expr.ipynb\"><img src=\"../../../number/numeral/__pv_it/9be8badea4c35b9724062cecc501d17a3158d1d20/expr.png\" style=\"display:inline;vertical-align:middle;\" /></a>, <a class=\"ProveItLink\" href=\"../../../__pv_it/78af03acba5349fd70398a32ce59bae1da52f0870/expr.ipynb\"><img src=\"../../../__pv_it/78af03acba5349fd70398a32ce59bae1da52f0870/expr.png\" style=\"display:inline;vertical-align:middle;\" /></a> : <a class=\"ProveItLink\" href=\"../../../number/numeral/__pv_it/9be8badea4c35b9724062cecc501d17a3158d1d20/expr.ipynb\"><img src=\"../../../number/numeral/__pv_it/9be8badea4c35b9724062cecc501d17a3158d1d20/expr.png\" style=\"display:inline;vertical-align:middle;\" /></a>, <a class=\"ProveItLink\" href=\"../../../__pv_it/39dbcd3ca0390345b51c6ef7785756419e2c14390/expr.ipynb\"><img src=\"../../../__pv_it/39dbcd3ca0390345b51c6ef7785756419e2c14390/expr.png\" style=\"display:inline;vertical-align:middle;\" /></a> : <a class=\"ProveItLink\" href=\"../../../number/numeral/__pv_it/9be8badea4c35b9724062cecc501d17a3158d1d20/expr.ipynb\"><img src=\"../../../number/numeral/__pv_it/9be8badea4c35b9724062cecc501d17a3158d1d20/expr.png\" style=\"display:inline;vertical-align:middle;\" /></a>, <a class=\"ProveItLink\" href=\"../../../__pv_it/eb438fefc4bd0ac977777d6dfd3e8a72dfbedbd50/expr.ipynb\"><img src=\"../../../__pv_it/eb438fefc4bd0ac977777d6dfd3e8a72dfbedbd50/expr.png\" style=\"display:inline;vertical-align:middle;\" /></a> : <a class=\"ProveItLink\" href=\"__pv_it/cf6389edcd791ca994db59178ae31748dc129fc20/expr.ipynb\"><img src=\"__pv_it/cf6389edcd791ca994db59178ae31748dc129fc20/expr.png\" style=\"display:inline;vertical-align:middle;\" /></a>, <a class=\"ProveItLink\" href=\"../../../__pv_it/077b2ff79244fb4582cbe22c6e3356fa92a52f2f0/expr.ipynb\"><img src=\"../../../__pv_it/077b2ff79244fb4582cbe22c6e3356fa92a52f2f0/expr.png\" style=\"display:inline;vertical-align:middle;\" /></a> : <a class=\"ProveItLink\" href=\"../../../__pv_it/077b2ff79244fb4582cbe22c6e3356fa92a52f2f0/expr.ipynb\"><img src=\"../../../__pv_it/077b2ff79244fb4582cbe22c6e3356fa92a52f2f0/expr.png\" style=\"display:inline;vertical-align:middle;\" /></a>, <a class=\"ProveItLink\" href=\"../../../__pv_it/9242e69d4f2c65d04fc0527b82418c7c22c6da370/expr.ipynb\"><img src=\"../../../__pv_it/9242e69d4f2c65d04fc0527b82418c7c22c6da370/expr.png\" style=\"display:inline;vertical-align:middle;\" /></a> : <a class=\"ProveItLink\" href=\"__pv_it/9154195f9f4d4cd0a151bd889ff6116df4ecd1440/expr.ipynb\"><img src=\"__pv_it/9154195f9f4d4cd0a151bd889ff6116df4ecd1440/expr.png\" style=\"display:inline;vertical-align:middle;\" /></a>, <a class=\"ProveItLink\" href=\"../../../__pv_it/185e6d30f167ee2ee5ef3321098dc98e0d77bc590/expr.ipynb\"><img src=\"../../../__pv_it/185e6d30f167ee2ee5ef3321098dc98e0d77bc590/expr.png\" style=\"display:inline;vertical-align:middle;\" /></a> : <a class=\"ProveItLink\" href=\"../../../__pv_it/185e6d30f167ee2ee5ef3321098dc98e0d77bc590/expr.ipynb\"><img src=\"../../../__pv_it/185e6d30f167ee2ee5ef3321098dc98e0d77bc590/expr.png\" style=\"display:inline;vertical-align:middle;\" /></a>, <a class=\"ProveItLink\" href=\"../../../__pv_it/63656012a195560f4e4f20815b9dee8366a979e40/expr.ipynb\"><img src=\"../../../__pv_it/63656012a195560f4e4f20815b9dee8366a979e40/expr.png\" style=\"display:inline;vertical-align:middle;\" /></a> : <a class=\"ProveItLink\" href=\"__pv_it/86f685518fa5e8f7b06e3b0dea384aa11fd7a42e0/expr.ipynb\"><img src=\"__pv_it/86f685518fa5e8f7b06e3b0dea384aa11fd7a42e0/expr.png\" style=\"display:inline;vertical-align:middle;\" /></a></span></td></tr><tr><td>1</td><td>theorem</td><td></td><td><span style=\"font-size:20px;\"> &#x22A2;&nbsp;<a class=\"ProveItLink\" href=\"__pv_it/aa99b7260fe556c201ff262c913d27c9ba5058420/expr.ipynb\"><img src=\"__pv_it/aa99b7260fe556c201ff262c913d27c9ba5058420/expr.png\" style=\"display:inline;vertical-align:middle;\" /></a></span></td></tr>\n",
       "<tr><td>&nbsp;</td><td colspan=4 style-\"text-align:left\"><a class=\"ProveItLink\" href=\"_proofs_/swap.ipynb\">proveit.logic.boolean.disjunction.swap</a></td></tr><tr><td>2</td><td>theorem</td><td></td><td><span style=\"font-size:20px;\"> &#x22A2;&nbsp;<a class=\"ProveItLink\" href=\"../../../number/numeral/deci/__pv_it/3f15fb519636fc585376b5b502be456d654dd18d0/expr.ipynb\"><img src=\"../../../number/numeral/deci/__pv_it/3f15fb519636fc585376b5b502be456d654dd18d0/expr.png\" style=\"display:inline;vertical-align:middle;\" /></a></span></td></tr>\n",
       "<tr><td>&nbsp;</td><td colspan=4 style-\"text-align:left\"><a class=\"ProveItLink\" href=\"../../../number/numeral/deci/_proofs_/nat1.ipynb\">proveit.number.numeral.deci.nat1</a></td></tr><tr><td>3</td><td>specialization</td><td>11, 9</td><td><span style=\"font-size:20px;\"><a class=\"ProveItLink\" href=\"__pv_it/017ca8cfa034181c90ba15dd10869f0f4e516d6a0/expr.ipynb\"><img src=\"__pv_it/017ca8cfa034181c90ba15dd10869f0f4e516d6a0/expr.png\" style=\"display:inline;vertical-align:middle;\" /></a> &#x22A2;&nbsp;<a class=\"ProveItLink\" href=\"__pv_it/5bb2701b3ea22e76a1686a8b5565df2a470e4d930/expr.ipynb\"><img src=\"__pv_it/5bb2701b3ea22e76a1686a8b5565df2a470e4d930/expr.png\" style=\"display:inline;vertical-align:middle;\" /></a></span></td></tr>\n",
       "<tr><td>&nbsp;</td><td colspan=4 style=\"text-align:left\"><span style=\"font-size:20px;\"><a class=\"ProveItLink\" href=\"../../../__pv_it/abeee18594afe51bfb1be95d9591fbba24ac53f30/expr.ipynb\"><img src=\"../../../__pv_it/abeee18594afe51bfb1be95d9591fbba24ac53f30/expr.png\" style=\"display:inline;vertical-align:middle;\" /></a> : <a class=\"ProveItLink\" href=\"../__pv_it/46271c8230be96415d662709611f4ed2279d702b0/expr.ipynb\"><img src=\"../__pv_it/46271c8230be96415d662709611f4ed2279d702b0/expr.png\" style=\"display:inline;vertical-align:middle;\" /></a>, <a class=\"ProveItLink\" href=\"../../../__pv_it/07527342713064c87612d00d8557c53d53d5324a0/expr.ipynb\"><img src=\"../../../__pv_it/07527342713064c87612d00d8557c53d53d5324a0/expr.png\" style=\"display:inline;vertical-align:middle;\" /></a> : <a class=\"ProveItLink\" href=\"../../../__pv_it/2cbe72a7ad6f655694dd697106680215e8489b600/expr.ipynb\"><img src=\"../../../__pv_it/2cbe72a7ad6f655694dd697106680215e8489b600/expr.png\" style=\"display:inline;vertical-align:middle;\" /></a></span></td></tr><tr><td>4</td><td>assumption</td><td></td><td><span style=\"font-size:20px;\"><a class=\"ProveItLink\" href=\"__pv_it/2c2e947402f53b9e11cd7769e1b5b3378595750e0/expr.ipynb\"><img src=\"__pv_it/2c2e947402f53b9e11cd7769e1b5b3378595750e0/expr.png\" style=\"display:inline;vertical-align:middle;\" /></a> &#x22A2;&nbsp;<a class=\"ProveItLink\" href=\"__pv_it/fe5c91c77f0659f9ea07a2e3257797875d6868370/expr.ipynb\"><img src=\"__pv_it/fe5c91c77f0659f9ea07a2e3257797875d6868370/expr.png\" style=\"display:inline;vertical-align:middle;\" /></a></span></td></tr>\n",
       "<tr><td>5</td><td>specialization</td><td>11, 10</td><td><span style=\"font-size:20px;\"><a class=\"ProveItLink\" href=\"__pv_it/549ecf82a9d4ac5ca0750c6c3aaf83e6e7209ca90/expr.ipynb\"><img src=\"__pv_it/549ecf82a9d4ac5ca0750c6c3aaf83e6e7209ca90/expr.png\" style=\"display:inline;vertical-align:middle;\" /></a> &#x22A2;&nbsp;<a class=\"ProveItLink\" href=\"__pv_it/4cdfe971be2a5b05d153db746ed8312ef78bc1cf0/expr.ipynb\"><img src=\"__pv_it/4cdfe971be2a5b05d153db746ed8312ef78bc1cf0/expr.png\" style=\"display:inline;vertical-align:middle;\" /></a></span></td></tr>\n",
       "<tr><td>&nbsp;</td><td colspan=4 style=\"text-align:left\"><span style=\"font-size:20px;\"><a class=\"ProveItLink\" href=\"../../../__pv_it/abeee18594afe51bfb1be95d9591fbba24ac53f30/expr.ipynb\"><img src=\"../../../__pv_it/abeee18594afe51bfb1be95d9591fbba24ac53f30/expr.png\" style=\"display:inline;vertical-align:middle;\" /></a> : <a class=\"ProveItLink\" href=\"../__pv_it/46271c8230be96415d662709611f4ed2279d702b0/expr.ipynb\"><img src=\"../__pv_it/46271c8230be96415d662709611f4ed2279d702b0/expr.png\" style=\"display:inline;vertical-align:middle;\" /></a>, <a class=\"ProveItLink\" href=\"../../../__pv_it/07527342713064c87612d00d8557c53d53d5324a0/expr.ipynb\"><img src=\"../../../__pv_it/07527342713064c87612d00d8557c53d53d5324a0/expr.png\" style=\"display:inline;vertical-align:middle;\" /></a> : <a class=\"ProveItLink\" href=\"../../../__pv_it/985a1bdf1540838275dec15f4ad6de261cca93ce0/expr.ipynb\"><img src=\"../../../__pv_it/985a1bdf1540838275dec15f4ad6de261cca93ce0/expr.png\" style=\"display:inline;vertical-align:middle;\" /></a></span></td></tr><tr><td>6</td><td>assumption</td><td></td><td><span style=\"font-size:20px;\"><a class=\"ProveItLink\" href=\"__pv_it/aa3618fdfba9edc866f19a2dbc2f7cde292ff1c70/expr.ipynb\"><img src=\"__pv_it/aa3618fdfba9edc866f19a2dbc2f7cde292ff1c70/expr.png\" style=\"display:inline;vertical-align:middle;\" /></a> &#x22A2;&nbsp;<a class=\"ProveItLink\" href=\"__pv_it/3891b823dfb55f51d513cc7144556dc1bfd425b70/expr.ipynb\"><img src=\"__pv_it/3891b823dfb55f51d513cc7144556dc1bfd425b70/expr.png\" style=\"display:inline;vertical-align:middle;\" /></a></span></td></tr>\n",
       "<tr><td>7</td><td>specialization</td><td>11, 12</td><td><span style=\"font-size:20px;\"><a class=\"ProveItLink\" href=\"__pv_it/45550be27f6913c17dce44dfc83cc77bc2a041d30/expr.ipynb\"><img src=\"__pv_it/45550be27f6913c17dce44dfc83cc77bc2a041d30/expr.png\" style=\"display:inline;vertical-align:middle;\" /></a> &#x22A2;&nbsp;<a class=\"ProveItLink\" href=\"__pv_it/080c3139f85e372735f07174b42d90b400145ec50/expr.ipynb\"><img src=\"__pv_it/080c3139f85e372735f07174b42d90b400145ec50/expr.png\" style=\"display:inline;vertical-align:middle;\" /></a></span></td></tr>\n",
       "<tr><td>&nbsp;</td><td colspan=4 style=\"text-align:left\"><span style=\"font-size:20px;\"><a class=\"ProveItLink\" href=\"../../../__pv_it/abeee18594afe51bfb1be95d9591fbba24ac53f30/expr.ipynb\"><img src=\"../../../__pv_it/abeee18594afe51bfb1be95d9591fbba24ac53f30/expr.png\" style=\"display:inline;vertical-align:middle;\" /></a> : <a class=\"ProveItLink\" href=\"../__pv_it/46271c8230be96415d662709611f4ed2279d702b0/expr.ipynb\"><img src=\"../__pv_it/46271c8230be96415d662709611f4ed2279d702b0/expr.png\" style=\"display:inline;vertical-align:middle;\" /></a>, <a class=\"ProveItLink\" href=\"../../../__pv_it/07527342713064c87612d00d8557c53d53d5324a0/expr.ipynb\"><img src=\"../../../__pv_it/07527342713064c87612d00d8557c53d53d5324a0/expr.png\" style=\"display:inline;vertical-align:middle;\" /></a> : <a class=\"ProveItLink\" href=\"../../../__pv_it/9995c55100c62d7d8a012a35bafc852acbe03cf00/expr.ipynb\"><img src=\"../../../__pv_it/9995c55100c62d7d8a012a35bafc852acbe03cf00/expr.png\" style=\"display:inline;vertical-align:middle;\" /></a></span></td></tr><tr><td>8</td><td>assumption</td><td></td><td><span style=\"font-size:20px;\"><a class=\"ProveItLink\" href=\"__pv_it/39b1c84aa371287b3eb026c0b209d362c552770c0/expr.ipynb\"><img src=\"__pv_it/39b1c84aa371287b3eb026c0b209d362c552770c0/expr.png\" style=\"display:inline;vertical-align:middle;\" /></a> &#x22A2;&nbsp;<a class=\"ProveItLink\" href=\"__pv_it/032a6c0b7ddaf2bca6f6c3c42e7e41210341700e0/expr.ipynb\"><img src=\"__pv_it/032a6c0b7ddaf2bca6f6c3c42e7e41210341700e0/expr.png\" style=\"display:inline;vertical-align:middle;\" /></a></span></td></tr>\n",
       "<tr><td>9</td><td>assumption</td><td></td><td><span style=\"font-size:20px;\"><a class=\"ProveItLink\" href=\"__pv_it/017ca8cfa034181c90ba15dd10869f0f4e516d6a0/expr.ipynb\"><img src=\"__pv_it/017ca8cfa034181c90ba15dd10869f0f4e516d6a0/expr.png\" style=\"display:inline;vertical-align:middle;\" /></a> &#x22A2;&nbsp;<a class=\"ProveItLink\" href=\"__pv_it/03a5c2b5cc6fc2c3cd686b4bcf84379b893abe210/expr.ipynb\"><img src=\"__pv_it/03a5c2b5cc6fc2c3cd686b4bcf84379b893abe210/expr.png\" style=\"display:inline;vertical-align:middle;\" /></a></span></td></tr>\n",
       "<tr><td>10</td><td>assumption</td><td></td><td><span style=\"font-size:20px;\"><a class=\"ProveItLink\" href=\"__pv_it/549ecf82a9d4ac5ca0750c6c3aaf83e6e7209ca90/expr.ipynb\"><img src=\"__pv_it/549ecf82a9d4ac5ca0750c6c3aaf83e6e7209ca90/expr.png\" style=\"display:inline;vertical-align:middle;\" /></a> &#x22A2;&nbsp;<a class=\"ProveItLink\" href=\"__pv_it/2cec3c732aceb253233bb533d4e43cc3f34f4f660/expr.ipynb\"><img src=\"__pv_it/2cec3c732aceb253233bb533d4e43cc3f34f4f660/expr.png\" style=\"display:inline;vertical-align:middle;\" /></a></span></td></tr>\n",
       "<tr><td>11</td><td>theorem</td><td></td><td><span style=\"font-size:20px;\"> &#x22A2;&nbsp;<a class=\"ProveItLink\" href=\"../../set_theory/membership/__pv_it/2fd01e9dcec2beac2e2b13b9e038066596f5567d0/expr.ipynb\"><img src=\"../../set_theory/membership/__pv_it/2fd01e9dcec2beac2e2b13b9e038066596f5567d0/expr.png\" style=\"display:inline;vertical-align:middle;\" /></a></span></td></tr>\n",
       "<tr><td>&nbsp;</td><td colspan=4 style-\"text-align:left\"><a class=\"ProveItLink\" href=\"../../set_theory/membership/_proofs_/exp_set_1.ipynb\">proveit.logic.set_theory.membership.exp_set_1</a></td></tr><tr><td>12</td><td>assumption</td><td></td><td><span style=\"font-size:20px;\"><a class=\"ProveItLink\" href=\"__pv_it/45550be27f6913c17dce44dfc83cc77bc2a041d30/expr.ipynb\"><img src=\"__pv_it/45550be27f6913c17dce44dfc83cc77bc2a041d30/expr.png\" style=\"display:inline;vertical-align:middle;\" /></a> &#x22A2;&nbsp;<a class=\"ProveItLink\" href=\"__pv_it/655d89e4e0e0d371b0b02d7fde2b0e184bd7586c0/expr.ipynb\"><img src=\"__pv_it/655d89e4e0e0d371b0b02d7fde2b0e184bd7586c0/expr.png\" style=\"display:inline;vertical-align:middle;\" /></a></span></td></tr>\n",
       "</table>"
      ],
      "text/plain": [
       "\tstep type\trequirements\tstatement\n",
       "0\tspecialization\t1, 2, 3, 4, 5, 6, 7, 8\t{A or B or C or D or E , A in BOOLEANS , B in BOOLEANS , C in BOOLEANS , D in BOOLEANS , E in BOOLEANS} |- A or D or C or B or E\n",
       "\tl : 1, m : 1, n : 1, A : (A), B : B, C : (C), D : D, E : (E)\n",
       "1\ttheorem\t\t|- forall_{l, m, n in Naturals} [forall_{(A, B, C, D, E) in BOOLEANS^{l} * BOOLEANS * BOOLEANS^{m} * BOOLEANS * BOOLEANS^{n} | A_1 or  ...  or A_l or B or C_1 or  ...  or C_m or D or E_1 or  ...  or E_n} (A_1 or  ...  or A_l or D or C_1 or  ...  or C_m or B or E_1 or  ...  or E_n)]\n",
       "\tproveit.logic.boolean.disjunction.swap\n",
       "2\ttheorem\t\t|- 1 in Naturals\n",
       "\tproveit.number.numeral.deci.nat1\n",
       "3\tspecialization\t11, 9\t{A in BOOLEANS} |- (A) in BOOLEANS^{1}\n",
       "\tS : BOOLEANS, a : A\n",
       "4\tassumption\t\t{B in BOOLEANS} |- B in BOOLEANS\n",
       "5\tspecialization\t11, 10\t{C in BOOLEANS} |- (C) in BOOLEANS^{1}\n",
       "\tS : BOOLEANS, a : C\n",
       "6\tassumption\t\t{D in BOOLEANS} |- D in BOOLEANS\n",
       "7\tspecialization\t11, 12\t{E in BOOLEANS} |- (E) in BOOLEANS^{1}\n",
       "\tS : BOOLEANS, a : E\n",
       "8\tassumption\t\t{A or B or C or D or E} |- A or B or C or D or E\n",
       "9\tassumption\t\t{A in BOOLEANS} |- A in BOOLEANS\n",
       "10\tassumption\t\t{C in BOOLEANS} |- C in BOOLEANS\n",
       "11\ttheorem\t\t|- forall_{S} [forall_{a in S} ((a) in S^{1})]\n",
       "\tproveit.logic.set_theory.membership.exp_set_1\n",
       "12\tassumption\t\t{E in BOOLEANS} |- E in BOOLEANS"
      ]
     },
     "execution_count": 38,
     "metadata": {},
     "output_type": "execute_result"
    }
   ],
   "source": [
    "Or(A,B,C,D,E).deriveSwap(1,3, [Or(A,B,C,D,E), *inBool(A,B,C,D,E)]).proof()"
   ]
  },
  {
   "cell_type": "code",
   "execution_count": 39,
   "metadata": {},
   "outputs": [
    {
     "data": {
      "text/html": [
       "<table><tr><th>&nbsp;</th><th>step type</th><th>requirements</th><th>statement</th></tr>\n",
       "<tr><td>0</td><td>specialization</td><td>1, 2, 3, 4, 5, 6, 7, 8, 9, 10, 11</td><td><span style=\"font-size:20px;\"><a class=\"ProveItLink\" href=\"__pv_it/a91a6401de4a0e62ef8bf5ae69d0b947688283a20/expr.ipynb\"><img src=\"__pv_it/a91a6401de4a0e62ef8bf5ae69d0b947688283a20/expr.png\" style=\"display:inline;vertical-align:middle;\" /></a> &#x22A2;&nbsp;<a class=\"ProveItLink\" href=\"__pv_it/8a3bce738a5ed0354dacb830150eea087d4f564c0/expr.ipynb\"><img src=\"__pv_it/8a3bce738a5ed0354dacb830150eea087d4f564c0/expr.png\" style=\"display:inline;vertical-align:middle;\" /></a></span></td></tr>\n",
       "<tr><td>&nbsp;</td><td colspan=4 style=\"text-align:left\"><span style=\"font-size:20px;\"><a class=\"ProveItLink\" href=\"../../../__pv_it/3e5d49a51123592869b160296a6e123a424e07a70/expr.ipynb\"><img src=\"../../../__pv_it/3e5d49a51123592869b160296a6e123a424e07a70/expr.png\" style=\"display:inline;vertical-align:middle;\" /></a> : <a class=\"ProveItLink\" href=\"../../../number/numeral/__pv_it/9176d93c83afa2c995b614976e3cb49207102fa70/expr.ipynb\"><img src=\"../../../number/numeral/__pv_it/9176d93c83afa2c995b614976e3cb49207102fa70/expr.png\" style=\"display:inline;vertical-align:middle;\" /></a>, <a class=\"ProveItLink\" href=\"../../../__pv_it/78af03acba5349fd70398a32ce59bae1da52f0870/expr.ipynb\"><img src=\"../../../__pv_it/78af03acba5349fd70398a32ce59bae1da52f0870/expr.png\" style=\"display:inline;vertical-align:middle;\" /></a> : <a class=\"ProveItLink\" href=\"../../../number/numeral/__pv_it/9be8badea4c35b9724062cecc501d17a3158d1d20/expr.ipynb\"><img src=\"../../../number/numeral/__pv_it/9be8badea4c35b9724062cecc501d17a3158d1d20/expr.png\" style=\"display:inline;vertical-align:middle;\" /></a>, <a class=\"ProveItLink\" href=\"../../../__pv_it/39dbcd3ca0390345b51c6ef7785756419e2c14390/expr.ipynb\"><img src=\"../../../__pv_it/39dbcd3ca0390345b51c6ef7785756419e2c14390/expr.png\" style=\"display:inline;vertical-align:middle;\" /></a> : <a class=\"ProveItLink\" href=\"../../../number/numeral/__pv_it/9176d93c83afa2c995b614976e3cb49207102fa70/expr.ipynb\"><img src=\"../../../number/numeral/__pv_it/9176d93c83afa2c995b614976e3cb49207102fa70/expr.png\" style=\"display:inline;vertical-align:middle;\" /></a>, <a class=\"ProveItLink\" href=\"../../../__pv_it/eb438fefc4bd0ac977777d6dfd3e8a72dfbedbd50/expr.ipynb\"><img src=\"../../../__pv_it/eb438fefc4bd0ac977777d6dfd3e8a72dfbedbd50/expr.png\" style=\"display:inline;vertical-align:middle;\" /></a> : <a class=\"ProveItLink\" href=\"__pv_it/3bf9902b68eb16c350f1cbf3338cf2ecb60afd7e0/expr.ipynb\"><img src=\"__pv_it/3bf9902b68eb16c350f1cbf3338cf2ecb60afd7e0/expr.png\" style=\"display:inline;vertical-align:middle;\" /></a>, <a class=\"ProveItLink\" href=\"../../../__pv_it/077b2ff79244fb4582cbe22c6e3356fa92a52f2f0/expr.ipynb\"><img src=\"../../../__pv_it/077b2ff79244fb4582cbe22c6e3356fa92a52f2f0/expr.png\" style=\"display:inline;vertical-align:middle;\" /></a> : <a class=\"ProveItLink\" href=\"../../../__pv_it/185e6d30f167ee2ee5ef3321098dc98e0d77bc590/expr.ipynb\"><img src=\"../../../__pv_it/185e6d30f167ee2ee5ef3321098dc98e0d77bc590/expr.png\" style=\"display:inline;vertical-align:middle;\" /></a>, <a class=\"ProveItLink\" href=\"../../../__pv_it/9242e69d4f2c65d04fc0527b82418c7c22c6da370/expr.ipynb\"><img src=\"../../../__pv_it/9242e69d4f2c65d04fc0527b82418c7c22c6da370/expr.png\" style=\"display:inline;vertical-align:middle;\" /></a> : <a class=\"ProveItLink\" href=\"__pv_it/86f685518fa5e8f7b06e3b0dea384aa11fd7a42e0/expr.ipynb\"><img src=\"__pv_it/86f685518fa5e8f7b06e3b0dea384aa11fd7a42e0/expr.png\" style=\"display:inline;vertical-align:middle;\" /></a>, <a class=\"ProveItLink\" href=\"../../../__pv_it/185e6d30f167ee2ee5ef3321098dc98e0d77bc590/expr.ipynb\"><img src=\"../../../__pv_it/185e6d30f167ee2ee5ef3321098dc98e0d77bc590/expr.png\" style=\"display:inline;vertical-align:middle;\" /></a> : <a class=\"ProveItLink\" href=\"../../../__pv_it/6d1586c49fb5fd7602fde2bbc54560e7304e8ccf0/expr.ipynb\"><img src=\"../../../__pv_it/6d1586c49fb5fd7602fde2bbc54560e7304e8ccf0/expr.png\" style=\"display:inline;vertical-align:middle;\" /></a>, <a class=\"ProveItLink\" href=\"../../../__pv_it/63656012a195560f4e4f20815b9dee8366a979e40/expr.ipynb\"><img src=\"../../../__pv_it/63656012a195560f4e4f20815b9dee8366a979e40/expr.png\" style=\"display:inline;vertical-align:middle;\" /></a> : <a class=\"ProveItLink\" href=\"__pv_it/8ad90209d120e0d93c1c5dea858382899ee7454d0/expr.ipynb\"><img src=\"__pv_it/8ad90209d120e0d93c1c5dea858382899ee7454d0/expr.png\" style=\"display:inline;vertical-align:middle;\" /></a></span></td></tr><tr><td>1</td><td>theorem</td><td></td><td><span style=\"font-size:20px;\"> &#x22A2;&nbsp;<a class=\"ProveItLink\" href=\"__pv_it/aa99b7260fe556c201ff262c913d27c9ba5058420/expr.ipynb\"><img src=\"__pv_it/aa99b7260fe556c201ff262c913d27c9ba5058420/expr.png\" style=\"display:inline;vertical-align:middle;\" /></a></span></td></tr>\n",
       "<tr><td>&nbsp;</td><td colspan=4 style-\"text-align:left\"><a class=\"ProveItLink\" href=\"_proofs_/swap.ipynb\">proveit.logic.boolean.disjunction.swap</a></td></tr><tr><td>2</td><td>theorem</td><td></td><td><span style=\"font-size:20px;\"> &#x22A2;&nbsp;<a class=\"ProveItLink\" href=\"../../../number/numeral/deci/__pv_it/106bf174ef7755d5609db086689abcc208d6bf3d0/expr.ipynb\"><img src=\"../../../number/numeral/deci/__pv_it/106bf174ef7755d5609db086689abcc208d6bf3d0/expr.png\" style=\"display:inline;vertical-align:middle;\" /></a></span></td></tr>\n",
       "<tr><td>&nbsp;</td><td colspan=4 style-\"text-align:left\"><a class=\"ProveItLink\" href=\"../../../number/numeral/deci/_proofs_/nat3.ipynb\">proveit.number.numeral.deci.nat3</a></td></tr><tr><td>3</td><td>theorem</td><td></td><td><span style=\"font-size:20px;\"> &#x22A2;&nbsp;<a class=\"ProveItLink\" href=\"../../../number/numeral/deci/__pv_it/3f15fb519636fc585376b5b502be456d654dd18d0/expr.ipynb\"><img src=\"../../../number/numeral/deci/__pv_it/3f15fb519636fc585376b5b502be456d654dd18d0/expr.png\" style=\"display:inline;vertical-align:middle;\" /></a></span></td></tr>\n",
       "<tr><td>&nbsp;</td><td colspan=4 style-\"text-align:left\"><a class=\"ProveItLink\" href=\"../../../number/numeral/deci/_proofs_/nat1.ipynb\">proveit.number.numeral.deci.nat1</a></td></tr><tr><td>4</td><td>specialization</td><td>17, 12, 13, 14</td><td><span style=\"font-size:20px;\"><a class=\"ProveItLink\" href=\"__pv_it/976b642468603f9d0fabfcd30d768626c7ea5c670/expr.ipynb\"><img src=\"__pv_it/976b642468603f9d0fabfcd30d768626c7ea5c670/expr.png\" style=\"display:inline;vertical-align:middle;\" /></a> &#x22A2;&nbsp;<a class=\"ProveItLink\" href=\"__pv_it/acf259ce5cebb7690860de8ba4c37a32b2845ea90/expr.ipynb\"><img src=\"__pv_it/acf259ce5cebb7690860de8ba4c37a32b2845ea90/expr.png\" style=\"display:inline;vertical-align:middle;\" /></a></span></td></tr>\n",
       "<tr><td>&nbsp;</td><td colspan=4 style=\"text-align:left\"><span style=\"font-size:20px;\"><a class=\"ProveItLink\" href=\"../../../__pv_it/abeee18594afe51bfb1be95d9591fbba24ac53f30/expr.ipynb\"><img src=\"../../../__pv_it/abeee18594afe51bfb1be95d9591fbba24ac53f30/expr.png\" style=\"display:inline;vertical-align:middle;\" /></a> : <a class=\"ProveItLink\" href=\"../__pv_it/46271c8230be96415d662709611f4ed2279d702b0/expr.ipynb\"><img src=\"../__pv_it/46271c8230be96415d662709611f4ed2279d702b0/expr.png\" style=\"display:inline;vertical-align:middle;\" /></a>, <a class=\"ProveItLink\" href=\"../../../__pv_it/07527342713064c87612d00d8557c53d53d5324a0/expr.ipynb\"><img src=\"../../../__pv_it/07527342713064c87612d00d8557c53d53d5324a0/expr.png\" style=\"display:inline;vertical-align:middle;\" /></a> : <a class=\"ProveItLink\" href=\"../../../__pv_it/2cbe72a7ad6f655694dd697106680215e8489b600/expr.ipynb\"><img src=\"../../../__pv_it/2cbe72a7ad6f655694dd697106680215e8489b600/expr.png\" style=\"display:inline;vertical-align:middle;\" /></a>, <a class=\"ProveItLink\" href=\"../../../__pv_it/6840a4fa6c106149dc16a131294d0c5e44f1b0480/expr.ipynb\"><img src=\"../../../__pv_it/6840a4fa6c106149dc16a131294d0c5e44f1b0480/expr.png\" style=\"display:inline;vertical-align:middle;\" /></a> : <a class=\"ProveItLink\" href=\"../../../__pv_it/077b2ff79244fb4582cbe22c6e3356fa92a52f2f0/expr.ipynb\"><img src=\"../../../__pv_it/077b2ff79244fb4582cbe22c6e3356fa92a52f2f0/expr.png\" style=\"display:inline;vertical-align:middle;\" /></a>, <a class=\"ProveItLink\" href=\"../../../__pv_it/cbdfda466482236edba0ce44ac7ef39cda0af7a40/expr.ipynb\"><img src=\"../../../__pv_it/cbdfda466482236edba0ce44ac7ef39cda0af7a40/expr.png\" style=\"display:inline;vertical-align:middle;\" /></a> : <a class=\"ProveItLink\" href=\"../../../__pv_it/985a1bdf1540838275dec15f4ad6de261cca93ce0/expr.ipynb\"><img src=\"../../../__pv_it/985a1bdf1540838275dec15f4ad6de261cca93ce0/expr.png\" style=\"display:inline;vertical-align:middle;\" /></a></span></td></tr><tr><td>5</td><td>assumption</td><td></td><td><span style=\"font-size:20px;\"><a class=\"ProveItLink\" href=\"__pv_it/aa3618fdfba9edc866f19a2dbc2f7cde292ff1c70/expr.ipynb\"><img src=\"__pv_it/aa3618fdfba9edc866f19a2dbc2f7cde292ff1c70/expr.png\" style=\"display:inline;vertical-align:middle;\" /></a> &#x22A2;&nbsp;<a class=\"ProveItLink\" href=\"__pv_it/3891b823dfb55f51d513cc7144556dc1bfd425b70/expr.ipynb\"><img src=\"__pv_it/3891b823dfb55f51d513cc7144556dc1bfd425b70/expr.png\" style=\"display:inline;vertical-align:middle;\" /></a></span></td></tr>\n",
       "<tr><td>6</td><td>specialization</td><td>15, 16</td><td><span style=\"font-size:20px;\"><a class=\"ProveItLink\" href=\"__pv_it/45550be27f6913c17dce44dfc83cc77bc2a041d30/expr.ipynb\"><img src=\"__pv_it/45550be27f6913c17dce44dfc83cc77bc2a041d30/expr.png\" style=\"display:inline;vertical-align:middle;\" /></a> &#x22A2;&nbsp;<a class=\"ProveItLink\" href=\"__pv_it/080c3139f85e372735f07174b42d90b400145ec50/expr.ipynb\"><img src=\"__pv_it/080c3139f85e372735f07174b42d90b400145ec50/expr.png\" style=\"display:inline;vertical-align:middle;\" /></a></span></td></tr>\n",
       "<tr><td>&nbsp;</td><td colspan=4 style=\"text-align:left\"><span style=\"font-size:20px;\"><a class=\"ProveItLink\" href=\"../../../__pv_it/abeee18594afe51bfb1be95d9591fbba24ac53f30/expr.ipynb\"><img src=\"../../../__pv_it/abeee18594afe51bfb1be95d9591fbba24ac53f30/expr.png\" style=\"display:inline;vertical-align:middle;\" /></a> : <a class=\"ProveItLink\" href=\"../__pv_it/46271c8230be96415d662709611f4ed2279d702b0/expr.ipynb\"><img src=\"../__pv_it/46271c8230be96415d662709611f4ed2279d702b0/expr.png\" style=\"display:inline;vertical-align:middle;\" /></a>, <a class=\"ProveItLink\" href=\"../../../__pv_it/07527342713064c87612d00d8557c53d53d5324a0/expr.ipynb\"><img src=\"../../../__pv_it/07527342713064c87612d00d8557c53d53d5324a0/expr.png\" style=\"display:inline;vertical-align:middle;\" /></a> : <a class=\"ProveItLink\" href=\"../../../__pv_it/9995c55100c62d7d8a012a35bafc852acbe03cf00/expr.ipynb\"><img src=\"../../../__pv_it/9995c55100c62d7d8a012a35bafc852acbe03cf00/expr.png\" style=\"display:inline;vertical-align:middle;\" /></a></span></td></tr><tr><td>7</td><td>assumption</td><td></td><td><span style=\"font-size:20px;\"><a class=\"ProveItLink\" href=\"__pv_it/0ba4cd246cef7b00b186d3d56b6671849ced26320/expr.ipynb\"><img src=\"__pv_it/0ba4cd246cef7b00b186d3d56b6671849ced26320/expr.png\" style=\"display:inline;vertical-align:middle;\" /></a> &#x22A2;&nbsp;<a class=\"ProveItLink\" href=\"__pv_it/62029ad82d8302e3a31ed4ae162b3ad65f0484420/expr.ipynb\"><img src=\"__pv_it/62029ad82d8302e3a31ed4ae162b3ad65f0484420/expr.png\" style=\"display:inline;vertical-align:middle;\" /></a></span></td></tr>\n",
       "<tr><td>8</td><td>specialization</td><td>17, 18, 19, 20</td><td><span style=\"font-size:20px;\"><a class=\"ProveItLink\" href=\"__pv_it/85529c1fd288d2aef51797e29868b2d40bc740020/expr.ipynb\"><img src=\"__pv_it/85529c1fd288d2aef51797e29868b2d40bc740020/expr.png\" style=\"display:inline;vertical-align:middle;\" /></a> &#x22A2;&nbsp;<a class=\"ProveItLink\" href=\"__pv_it/28a365da738813199e808a6a12be044f242fe6ed0/expr.ipynb\"><img src=\"__pv_it/28a365da738813199e808a6a12be044f242fe6ed0/expr.png\" style=\"display:inline;vertical-align:middle;\" /></a></span></td></tr>\n",
       "<tr><td>&nbsp;</td><td colspan=4 style=\"text-align:left\"><span style=\"font-size:20px;\"><a class=\"ProveItLink\" href=\"../../../__pv_it/abeee18594afe51bfb1be95d9591fbba24ac53f30/expr.ipynb\"><img src=\"../../../__pv_it/abeee18594afe51bfb1be95d9591fbba24ac53f30/expr.png\" style=\"display:inline;vertical-align:middle;\" /></a> : <a class=\"ProveItLink\" href=\"../__pv_it/46271c8230be96415d662709611f4ed2279d702b0/expr.ipynb\"><img src=\"../__pv_it/46271c8230be96415d662709611f4ed2279d702b0/expr.png\" style=\"display:inline;vertical-align:middle;\" /></a>, <a class=\"ProveItLink\" href=\"../../../__pv_it/07527342713064c87612d00d8557c53d53d5324a0/expr.ipynb\"><img src=\"../../../__pv_it/07527342713064c87612d00d8557c53d53d5324a0/expr.png\" style=\"display:inline;vertical-align:middle;\" /></a> : <a class=\"ProveItLink\" href=\"../../../__pv_it/994260d00d104a1ab9cf940a007fb6a4ff36f79e0/expr.ipynb\"><img src=\"../../../__pv_it/994260d00d104a1ab9cf940a007fb6a4ff36f79e0/expr.png\" style=\"display:inline;vertical-align:middle;\" /></a>, <a class=\"ProveItLink\" href=\"../../../__pv_it/6840a4fa6c106149dc16a131294d0c5e44f1b0480/expr.ipynb\"><img src=\"../../../__pv_it/6840a4fa6c106149dc16a131294d0c5e44f1b0480/expr.png\" style=\"display:inline;vertical-align:middle;\" /></a> : <a class=\"ProveItLink\" href=\"../../../__pv_it/fabf74ac81cd36aa91075816201d2b14195a56e60/expr.ipynb\"><img src=\"../../../__pv_it/fabf74ac81cd36aa91075816201d2b14195a56e60/expr.png\" style=\"display:inline;vertical-align:middle;\" /></a>, <a class=\"ProveItLink\" href=\"../../../__pv_it/cbdfda466482236edba0ce44ac7ef39cda0af7a40/expr.ipynb\"><img src=\"../../../__pv_it/cbdfda466482236edba0ce44ac7ef39cda0af7a40/expr.png\" style=\"display:inline;vertical-align:middle;\" /></a> : <a class=\"ProveItLink\" href=\"../../../__pv_it/485fbf85ade6e4660c176b077846a05437e7af3e0/expr.ipynb\"><img src=\"../../../__pv_it/485fbf85ade6e4660c176b077846a05437e7af3e0/expr.png\" style=\"display:inline;vertical-align:middle;\" /></a></span></td></tr><tr><td>9</td><td>assumption</td><td></td><td><span style=\"font-size:20px;\"><a class=\"ProveItLink\" href=\"__pv_it/44211c8aa37f63d61d95a8ad62815b8d91a1f0110/expr.ipynb\"><img src=\"__pv_it/44211c8aa37f63d61d95a8ad62815b8d91a1f0110/expr.png\" style=\"display:inline;vertical-align:middle;\" /></a> &#x22A2;&nbsp;<a class=\"ProveItLink\" href=\"__pv_it/f19f61d6e420c8ddee2cdf3426d224750a2dc56f0/expr.ipynb\"><img src=\"__pv_it/f19f61d6e420c8ddee2cdf3426d224750a2dc56f0/expr.png\" style=\"display:inline;vertical-align:middle;\" /></a></span></td></tr>\n",
       "<tr><td>10</td><td>theorem</td><td></td><td><span style=\"font-size:20px;\"> &#x22A2;&nbsp;<a class=\"ProveItLink\" href=\"../../../number/numeral/deci/__pv_it/5b6ff6a2fca03ad41d2a3084e44fbb28428ffb6a0/expr.ipynb\"><img src=\"../../../number/numeral/deci/__pv_it/5b6ff6a2fca03ad41d2a3084e44fbb28428ffb6a0/expr.png\" style=\"display:inline;vertical-align:middle;\" /></a></span></td></tr>\n",
       "<tr><td>&nbsp;</td><td colspan=4 style-\"text-align:left\"><a class=\"ProveItLink\" href=\"../../../number/numeral/deci/_proofs_/add_1_1.ipynb\">proveit.number.numeral.deci.add_1_1</a></td></tr><tr><td>11</td><td>theorem</td><td></td><td><span style=\"font-size:20px;\"> &#x22A2;&nbsp;<a class=\"ProveItLink\" href=\"../../../number/numeral/deci/__pv_it/349c663074c343ced32577f83aa9971191d0752c0/expr.ipynb\"><img src=\"../../../number/numeral/deci/__pv_it/349c663074c343ced32577f83aa9971191d0752c0/expr.png\" style=\"display:inline;vertical-align:middle;\" /></a></span></td></tr>\n",
       "<tr><td>&nbsp;</td><td colspan=4 style-\"text-align:left\"><a class=\"ProveItLink\" href=\"../../../number/numeral/deci/_proofs_/add_2_1.ipynb\">proveit.number.numeral.deci.add_2_1</a></td></tr><tr><td>12</td><td>assumption</td><td></td><td><span style=\"font-size:20px;\"><a class=\"ProveItLink\" href=\"__pv_it/017ca8cfa034181c90ba15dd10869f0f4e516d6a0/expr.ipynb\"><img src=\"__pv_it/017ca8cfa034181c90ba15dd10869f0f4e516d6a0/expr.png\" style=\"display:inline;vertical-align:middle;\" /></a> &#x22A2;&nbsp;<a class=\"ProveItLink\" href=\"__pv_it/03a5c2b5cc6fc2c3cd686b4bcf84379b893abe210/expr.ipynb\"><img src=\"__pv_it/03a5c2b5cc6fc2c3cd686b4bcf84379b893abe210/expr.png\" style=\"display:inline;vertical-align:middle;\" /></a></span></td></tr>\n",
       "<tr><td>13</td><td>assumption</td><td></td><td><span style=\"font-size:20px;\"><a class=\"ProveItLink\" href=\"__pv_it/2c2e947402f53b9e11cd7769e1b5b3378595750e0/expr.ipynb\"><img src=\"__pv_it/2c2e947402f53b9e11cd7769e1b5b3378595750e0/expr.png\" style=\"display:inline;vertical-align:middle;\" /></a> &#x22A2;&nbsp;<a class=\"ProveItLink\" href=\"__pv_it/fe5c91c77f0659f9ea07a2e3257797875d6868370/expr.ipynb\"><img src=\"__pv_it/fe5c91c77f0659f9ea07a2e3257797875d6868370/expr.png\" style=\"display:inline;vertical-align:middle;\" /></a></span></td></tr>\n",
       "<tr><td>14</td><td>assumption</td><td></td><td><span style=\"font-size:20px;\"><a class=\"ProveItLink\" href=\"__pv_it/549ecf82a9d4ac5ca0750c6c3aaf83e6e7209ca90/expr.ipynb\"><img src=\"__pv_it/549ecf82a9d4ac5ca0750c6c3aaf83e6e7209ca90/expr.png\" style=\"display:inline;vertical-align:middle;\" /></a> &#x22A2;&nbsp;<a class=\"ProveItLink\" href=\"__pv_it/2cec3c732aceb253233bb533d4e43cc3f34f4f660/expr.ipynb\"><img src=\"__pv_it/2cec3c732aceb253233bb533d4e43cc3f34f4f660/expr.png\" style=\"display:inline;vertical-align:middle;\" /></a></span></td></tr>\n",
       "<tr><td>15</td><td>theorem</td><td></td><td><span style=\"font-size:20px;\"> &#x22A2;&nbsp;<a class=\"ProveItLink\" href=\"../../set_theory/membership/__pv_it/2fd01e9dcec2beac2e2b13b9e038066596f5567d0/expr.ipynb\"><img src=\"../../set_theory/membership/__pv_it/2fd01e9dcec2beac2e2b13b9e038066596f5567d0/expr.png\" style=\"display:inline;vertical-align:middle;\" /></a></span></td></tr>\n",
       "<tr><td>&nbsp;</td><td colspan=4 style-\"text-align:left\"><a class=\"ProveItLink\" href=\"../../set_theory/membership/_proofs_/exp_set_1.ipynb\">proveit.logic.set_theory.membership.exp_set_1</a></td></tr><tr><td>16</td><td>assumption</td><td></td><td><span style=\"font-size:20px;\"><a class=\"ProveItLink\" href=\"__pv_it/45550be27f6913c17dce44dfc83cc77bc2a041d30/expr.ipynb\"><img src=\"__pv_it/45550be27f6913c17dce44dfc83cc77bc2a041d30/expr.png\" style=\"display:inline;vertical-align:middle;\" /></a> &#x22A2;&nbsp;<a class=\"ProveItLink\" href=\"__pv_it/655d89e4e0e0d371b0b02d7fde2b0e184bd7586c0/expr.ipynb\"><img src=\"__pv_it/655d89e4e0e0d371b0b02d7fde2b0e184bd7586c0/expr.png\" style=\"display:inline;vertical-align:middle;\" /></a></span></td></tr>\n",
       "<tr><td>17</td><td>theorem</td><td></td><td><span style=\"font-size:20px;\"> &#x22A2;&nbsp;<a class=\"ProveItLink\" href=\"../../set_theory/membership/__pv_it/a49ce01e1a7921a9d6b58e9c03dee6f569af69c80/expr.ipynb\"><img src=\"../../set_theory/membership/__pv_it/a49ce01e1a7921a9d6b58e9c03dee6f569af69c80/expr.png\" style=\"display:inline;vertical-align:middle;\" /></a></span></td></tr>\n",
       "<tr><td>&nbsp;</td><td colspan=4 style-\"text-align:left\"><a class=\"ProveItLink\" href=\"../../set_theory/membership/_proofs_/exp_set_3.ipynb\">proveit.logic.set_theory.membership.exp_set_3</a></td></tr><tr><td>18</td><td>assumption</td><td></td><td><span style=\"font-size:20px;\"><a class=\"ProveItLink\" href=\"__pv_it/0104e7b63dbe24a8f1a4dc3aa342b211184372700/expr.ipynb\"><img src=\"__pv_it/0104e7b63dbe24a8f1a4dc3aa342b211184372700/expr.png\" style=\"display:inline;vertical-align:middle;\" /></a> &#x22A2;&nbsp;<a class=\"ProveItLink\" href=\"__pv_it/9c241f611ffe152dbed9d35a15444f5e8bde21190/expr.ipynb\"><img src=\"__pv_it/9c241f611ffe152dbed9d35a15444f5e8bde21190/expr.png\" style=\"display:inline;vertical-align:middle;\" /></a></span></td></tr>\n",
       "<tr><td>19</td><td>assumption</td><td></td><td><span style=\"font-size:20px;\"><a class=\"ProveItLink\" href=\"__pv_it/f1c02dcbccca55c6323566eb9b6559c223db9eea0/expr.ipynb\"><img src=\"__pv_it/f1c02dcbccca55c6323566eb9b6559c223db9eea0/expr.png\" style=\"display:inline;vertical-align:middle;\" /></a> &#x22A2;&nbsp;<a class=\"ProveItLink\" href=\"__pv_it/17434c062b130d50913b87eeb5dfaba66033fad10/expr.ipynb\"><img src=\"__pv_it/17434c062b130d50913b87eeb5dfaba66033fad10/expr.png\" style=\"display:inline;vertical-align:middle;\" /></a></span></td></tr>\n",
       "<tr><td>20</td><td>assumption</td><td></td><td><span style=\"font-size:20px;\"><a class=\"ProveItLink\" href=\"__pv_it/8ef2ac1365bcdf77bc7962a87186813767d871d50/expr.ipynb\"><img src=\"__pv_it/8ef2ac1365bcdf77bc7962a87186813767d871d50/expr.png\" style=\"display:inline;vertical-align:middle;\" /></a> &#x22A2;&nbsp;<a class=\"ProveItLink\" href=\"__pv_it/1d6b2c4f1effd46d34b2fa0b1cf19210f0f1841f0/expr.ipynb\"><img src=\"__pv_it/1d6b2c4f1effd46d34b2fa0b1cf19210f0f1841f0/expr.png\" style=\"display:inline;vertical-align:middle;\" /></a></span></td></tr>\n",
       "</table>"
      ],
      "text/plain": [
       "\tstep type\trequirements\tstatement\n",
       "0\tspecialization\t1, 2, 3, 4, 5, 6, 7, 8, 9, 10, 11\t{A or B or C or D or E or F or G or H or I , A in BOOLEANS , B in BOOLEANS , C in BOOLEANS , D in BOOLEANS , E in BOOLEANS , F in BOOLEANS , G in BOOLEANS , H in BOOLEANS , I in BOOLEANS} |- A or B or C or F or E or D or G or H or I\n",
       "\tl : 3, m : 1, n : 3, A : (A , B , C), B : D, C : (E), D : F, E : (G , H , I)\n",
       "1\ttheorem\t\t|- forall_{l, m, n in Naturals} [forall_{(A, B, C, D, E) in BOOLEANS^{l} * BOOLEANS * BOOLEANS^{m} * BOOLEANS * BOOLEANS^{n} | A_1 or  ...  or A_l or B or C_1 or  ...  or C_m or D or E_1 or  ...  or E_n} (A_1 or  ...  or A_l or D or C_1 or  ...  or C_m or B or E_1 or  ...  or E_n)]\n",
       "\tproveit.logic.boolean.disjunction.swap\n",
       "2\ttheorem\t\t|- 3 in Naturals\n",
       "\tproveit.number.numeral.deci.nat3\n",
       "3\ttheorem\t\t|- 1 in Naturals\n",
       "\tproveit.number.numeral.deci.nat1\n",
       "4\tspecialization\t17, 12, 13, 14\t{A in BOOLEANS , B in BOOLEANS , C in BOOLEANS} |- (A , B , C) in BOOLEANS^{3}\n",
       "\tS : BOOLEANS, a : A, b : B, c : C\n",
       "5\tassumption\t\t{D in BOOLEANS} |- D in BOOLEANS\n",
       "6\tspecialization\t15, 16\t{E in BOOLEANS} |- (E) in BOOLEANS^{1}\n",
       "\tS : BOOLEANS, a : E\n",
       "7\tassumption\t\t{F in BOOLEANS} |- F in BOOLEANS\n",
       "8\tspecialization\t17, 18, 19, 20\t{G in BOOLEANS , H in BOOLEANS , I in BOOLEANS} |- (G , H , I) in BOOLEANS^{3}\n",
       "\tS : BOOLEANS, a : G, b : H, c : I\n",
       "9\tassumption\t\t{A or B or C or D or E or F or G or H or I} |- A or B or C or D or E or F or G or H or I\n",
       "10\ttheorem\t\t|- (1 + 1) = 2\n",
       "\tproveit.number.numeral.deci.add_1_1\n",
       "11\ttheorem\t\t|- (2 + 1) = 3\n",
       "\tproveit.number.numeral.deci.add_2_1\n",
       "12\tassumption\t\t{A in BOOLEANS} |- A in BOOLEANS\n",
       "13\tassumption\t\t{B in BOOLEANS} |- B in BOOLEANS\n",
       "14\tassumption\t\t{C in BOOLEANS} |- C in BOOLEANS\n",
       "15\ttheorem\t\t|- forall_{S} [forall_{a in S} ((a) in S^{1})]\n",
       "\tproveit.logic.set_theory.membership.exp_set_1\n",
       "16\tassumption\t\t{E in BOOLEANS} |- E in BOOLEANS\n",
       "17\ttheorem\t\t|- forall_{S} [forall_{a, b, c in S} ((a , b , c) in S^{3})]\n",
       "\tproveit.logic.set_theory.membership.exp_set_3\n",
       "18\tassumption\t\t{G in BOOLEANS} |- G in BOOLEANS\n",
       "19\tassumption\t\t{H in BOOLEANS} |- H in BOOLEANS\n",
       "20\tassumption\t\t{I in BOOLEANS} |- I in BOOLEANS"
      ]
     },
     "execution_count": 39,
     "metadata": {},
     "output_type": "execute_result"
    }
   ],
   "source": [
    "Or(A,B,C,D,E,F,G,H,I).deriveSwap(3,5, [Or(A,B,C,D,E,F,G,H,I), *inBool(A,B,C,D,E,F,G,H,I)]).proof()"
   ]
  },
  {
   "cell_type": "code",
   "execution_count": 40,
   "metadata": {},
   "outputs": [
    {
     "data": {
      "text/html": [
       "<table><tr><th>&nbsp;</th><th>step type</th><th>requirements</th><th>statement</th></tr>\n",
       "<tr><td>0</td><td>specialization</td><td>1, 2, 3, 4, 5, 6, 7, 8, 9, 10</td><td><span style=\"font-size:20px;\"><a class=\"ProveItLink\" href=\"__pv_it/554e547dcb1ae24bf3f3a26d22f3d45a20ef4de10/expr.ipynb\"><img src=\"__pv_it/554e547dcb1ae24bf3f3a26d22f3d45a20ef4de10/expr.png\" style=\"display:inline;vertical-align:middle;\" /></a> &#x22A2;&nbsp;<a class=\"ProveItLink\" href=\"__pv_it/217c853c226263017026026dd5298196efe98cee0/expr.ipynb\"><img src=\"__pv_it/217c853c226263017026026dd5298196efe98cee0/expr.png\" style=\"display:inline;vertical-align:middle;\" /></a></span></td></tr>\n",
       "<tr><td>&nbsp;</td><td colspan=4 style=\"text-align:left\"><span style=\"font-size:20px;\"><a class=\"ProveItLink\" href=\"../../../__pv_it/78af03acba5349fd70398a32ce59bae1da52f0870/expr.ipynb\"><img src=\"../../../__pv_it/78af03acba5349fd70398a32ce59bae1da52f0870/expr.png\" style=\"display:inline;vertical-align:middle;\" /></a> : <a class=\"ProveItLink\" href=\"../../../number/numeral/__pv_it/7ca36d8558dd5f18c1e16b5e877a0b7e314926450/expr.ipynb\"><img src=\"../../../number/numeral/__pv_it/7ca36d8558dd5f18c1e16b5e877a0b7e314926450/expr.png\" style=\"display:inline;vertical-align:middle;\" /></a>, <a class=\"ProveItLink\" href=\"../../../__pv_it/eb438fefc4bd0ac977777d6dfd3e8a72dfbedbd50/expr.ipynb\"><img src=\"../../../__pv_it/eb438fefc4bd0ac977777d6dfd3e8a72dfbedbd50/expr.png\" style=\"display:inline;vertical-align:middle;\" /></a> : <a class=\"ProveItLink\" href=\"__pv_it/2732c7e55c112396120754b4fac192b8967b99d80/expr.ipynb\"><img src=\"__pv_it/2732c7e55c112396120754b4fac192b8967b99d80/expr.png\" style=\"display:inline;vertical-align:middle;\" /></a></span></td></tr><tr><td>1</td><td>theorem</td><td></td><td><span style=\"font-size:20px;\"> &#x22A2;&nbsp;<a class=\"ProveItLink\" href=\"__pv_it/2cb505713778067a1b94f558521c476c9ef7d74f0/expr.ipynb\"><img src=\"__pv_it/2cb505713778067a1b94f558521c476c9ef7d74f0/expr.png\" style=\"display:inline;vertical-align:middle;\" /></a></span></td></tr>\n",
       "<tr><td>&nbsp;</td><td colspan=4 style-\"text-align:left\"><a class=\"ProveItLink\" href=\"_proofs_/closure.ipynb\">proveit.logic.boolean.disjunction.closure</a></td></tr><tr><td>2</td><td>theorem</td><td></td><td><span style=\"font-size:20px;\"> &#x22A2;&nbsp;<a class=\"ProveItLink\" href=\"../../../number/numeral/deci/__pv_it/b6e2d0c46d742e7e90bcda2cb0d4f296acd344680/expr.ipynb\"><img src=\"../../../number/numeral/deci/__pv_it/b6e2d0c46d742e7e90bcda2cb0d4f296acd344680/expr.png\" style=\"display:inline;vertical-align:middle;\" /></a></span></td></tr>\n",
       "<tr><td>&nbsp;</td><td colspan=4 style-\"text-align:left\"><a class=\"ProveItLink\" href=\"../../../number/numeral/deci/_proofs_/nat8.ipynb\">proveit.number.numeral.deci.nat8</a></td></tr><tr><td>3</td><td>specialization</td><td>11, 12, 13, 14, 15, 16, 17, 18, 19</td><td><span style=\"font-size:20px;\"><a class=\"ProveItLink\" href=\"__pv_it/554e547dcb1ae24bf3f3a26d22f3d45a20ef4de10/expr.ipynb\"><img src=\"__pv_it/554e547dcb1ae24bf3f3a26d22f3d45a20ef4de10/expr.png\" style=\"display:inline;vertical-align:middle;\" /></a> &#x22A2;&nbsp;<a class=\"ProveItLink\" href=\"__pv_it/836b9e4e3345a39bacc260d1f49a536cb3b9d0ec0/expr.ipynb\"><img src=\"__pv_it/836b9e4e3345a39bacc260d1f49a536cb3b9d0ec0/expr.png\" style=\"display:inline;vertical-align:middle;\" /></a></span></td></tr>\n",
       "<tr><td>&nbsp;</td><td colspan=4 style=\"text-align:left\"><span style=\"font-size:20px;\"><a class=\"ProveItLink\" href=\"../../../__pv_it/abeee18594afe51bfb1be95d9591fbba24ac53f30/expr.ipynb\"><img src=\"../../../__pv_it/abeee18594afe51bfb1be95d9591fbba24ac53f30/expr.png\" style=\"display:inline;vertical-align:middle;\" /></a> : <a class=\"ProveItLink\" href=\"../__pv_it/46271c8230be96415d662709611f4ed2279d702b0/expr.ipynb\"><img src=\"../__pv_it/46271c8230be96415d662709611f4ed2279d702b0/expr.png\" style=\"display:inline;vertical-align:middle;\" /></a>, <a class=\"ProveItLink\" href=\"../../../__pv_it/07527342713064c87612d00d8557c53d53d5324a0/expr.ipynb\"><img src=\"../../../__pv_it/07527342713064c87612d00d8557c53d53d5324a0/expr.png\" style=\"display:inline;vertical-align:middle;\" /></a> : <a class=\"ProveItLink\" href=\"../../../__pv_it/2cbe72a7ad6f655694dd697106680215e8489b600/expr.ipynb\"><img src=\"../../../__pv_it/2cbe72a7ad6f655694dd697106680215e8489b600/expr.png\" style=\"display:inline;vertical-align:middle;\" /></a>, <a class=\"ProveItLink\" href=\"../../../__pv_it/6840a4fa6c106149dc16a131294d0c5e44f1b0480/expr.ipynb\"><img src=\"../../../__pv_it/6840a4fa6c106149dc16a131294d0c5e44f1b0480/expr.png\" style=\"display:inline;vertical-align:middle;\" /></a> : <a class=\"ProveItLink\" href=\"../../../__pv_it/077b2ff79244fb4582cbe22c6e3356fa92a52f2f0/expr.ipynb\"><img src=\"../../../__pv_it/077b2ff79244fb4582cbe22c6e3356fa92a52f2f0/expr.png\" style=\"display:inline;vertical-align:middle;\" /></a>, <a class=\"ProveItLink\" href=\"../../../__pv_it/cbdfda466482236edba0ce44ac7ef39cda0af7a40/expr.ipynb\"><img src=\"../../../__pv_it/cbdfda466482236edba0ce44ac7ef39cda0af7a40/expr.png\" style=\"display:inline;vertical-align:middle;\" /></a> : <a class=\"ProveItLink\" href=\"../../../__pv_it/985a1bdf1540838275dec15f4ad6de261cca93ce0/expr.ipynb\"><img src=\"../../../__pv_it/985a1bdf1540838275dec15f4ad6de261cca93ce0/expr.png\" style=\"display:inline;vertical-align:middle;\" /></a>, <a class=\"ProveItLink\" href=\"../../../__pv_it/3a5de44ed6135dbbdbbeec6704c741e238f127300/expr.ipynb\"><img src=\"../../../__pv_it/3a5de44ed6135dbbdbbeec6704c741e238f127300/expr.png\" style=\"display:inline;vertical-align:middle;\" /></a> : <a class=\"ProveItLink\" href=\"../../../__pv_it/185e6d30f167ee2ee5ef3321098dc98e0d77bc590/expr.ipynb\"><img src=\"../../../__pv_it/185e6d30f167ee2ee5ef3321098dc98e0d77bc590/expr.png\" style=\"display:inline;vertical-align:middle;\" /></a>, <a class=\"ProveItLink\" href=\"../../../__pv_it/0bc0f4a545336331111a0b22c4f05a0627b57b8f0/expr.ipynb\"><img src=\"../../../__pv_it/0bc0f4a545336331111a0b22c4f05a0627b57b8f0/expr.png\" style=\"display:inline;vertical-align:middle;\" /></a> : <a class=\"ProveItLink\" href=\"../../../__pv_it/9995c55100c62d7d8a012a35bafc852acbe03cf00/expr.ipynb\"><img src=\"../../../__pv_it/9995c55100c62d7d8a012a35bafc852acbe03cf00/expr.png\" style=\"display:inline;vertical-align:middle;\" /></a>, <a class=\"ProveItLink\" href=\"../../../__pv_it/4d51ee1e62d011d06d4528b97697bf3da60c9de60/expr.ipynb\"><img src=\"../../../__pv_it/4d51ee1e62d011d06d4528b97697bf3da60c9de60/expr.png\" style=\"display:inline;vertical-align:middle;\" /></a> : <a class=\"ProveItLink\" href=\"../../../__pv_it/6d1586c49fb5fd7602fde2bbc54560e7304e8ccf0/expr.ipynb\"><img src=\"../../../__pv_it/6d1586c49fb5fd7602fde2bbc54560e7304e8ccf0/expr.png\" style=\"display:inline;vertical-align:middle;\" /></a>, <a class=\"ProveItLink\" href=\"../../../__pv_it/b5004dd09038f1a7d88dab9010b943185ce1d3ea0/expr.ipynb\"><img src=\"../../../__pv_it/b5004dd09038f1a7d88dab9010b943185ce1d3ea0/expr.png\" style=\"display:inline;vertical-align:middle;\" /></a> : <a class=\"ProveItLink\" href=\"../../../__pv_it/994260d00d104a1ab9cf940a007fb6a4ff36f79e0/expr.ipynb\"><img src=\"../../../__pv_it/994260d00d104a1ab9cf940a007fb6a4ff36f79e0/expr.png\" style=\"display:inline;vertical-align:middle;\" /></a>, <a class=\"ProveItLink\" href=\"../../../__pv_it/3b5a3cc74431604b3beba568cf7dfeb60b1886650/expr.ipynb\"><img src=\"../../../__pv_it/3b5a3cc74431604b3beba568cf7dfeb60b1886650/expr.png\" style=\"display:inline;vertical-align:middle;\" /></a> : <a class=\"ProveItLink\" href=\"../../../__pv_it/fabf74ac81cd36aa91075816201d2b14195a56e60/expr.ipynb\"><img src=\"../../../__pv_it/fabf74ac81cd36aa91075816201d2b14195a56e60/expr.png\" style=\"display:inline;vertical-align:middle;\" /></a></span></td></tr><tr><td>4</td><td>theorem</td><td></td><td><span style=\"font-size:20px;\"> &#x22A2;&nbsp;<a class=\"ProveItLink\" href=\"../../../number/numeral/deci/__pv_it/5b6ff6a2fca03ad41d2a3084e44fbb28428ffb6a0/expr.ipynb\"><img src=\"../../../number/numeral/deci/__pv_it/5b6ff6a2fca03ad41d2a3084e44fbb28428ffb6a0/expr.png\" style=\"display:inline;vertical-align:middle;\" /></a></span></td></tr>\n",
       "<tr><td>&nbsp;</td><td colspan=4 style-\"text-align:left\"><a class=\"ProveItLink\" href=\"../../../number/numeral/deci/_proofs_/add_1_1.ipynb\">proveit.number.numeral.deci.add_1_1</a></td></tr><tr><td>5</td><td>theorem</td><td></td><td><span style=\"font-size:20px;\"> &#x22A2;&nbsp;<a class=\"ProveItLink\" href=\"../../../number/numeral/deci/__pv_it/349c663074c343ced32577f83aa9971191d0752c0/expr.ipynb\"><img src=\"../../../number/numeral/deci/__pv_it/349c663074c343ced32577f83aa9971191d0752c0/expr.png\" style=\"display:inline;vertical-align:middle;\" /></a></span></td></tr>\n",
       "<tr><td>&nbsp;</td><td colspan=4 style-\"text-align:left\"><a class=\"ProveItLink\" href=\"../../../number/numeral/deci/_proofs_/add_2_1.ipynb\">proveit.number.numeral.deci.add_2_1</a></td></tr><tr><td>6</td><td>theorem</td><td></td><td><span style=\"font-size:20px;\"> &#x22A2;&nbsp;<a class=\"ProveItLink\" href=\"../../../number/numeral/deci/__pv_it/9b6fcf185675beb8420ce00c17510693f9522a6a0/expr.ipynb\"><img src=\"../../../number/numeral/deci/__pv_it/9b6fcf185675beb8420ce00c17510693f9522a6a0/expr.png\" style=\"display:inline;vertical-align:middle;\" /></a></span></td></tr>\n",
       "<tr><td>&nbsp;</td><td colspan=4 style-\"text-align:left\"><a class=\"ProveItLink\" href=\"../../../number/numeral/deci/_proofs_/add_3_1.ipynb\">proveit.number.numeral.deci.add_3_1</a></td></tr><tr><td>7</td><td>theorem</td><td></td><td><span style=\"font-size:20px;\"> &#x22A2;&nbsp;<a class=\"ProveItLink\" href=\"../../../number/numeral/deci/__pv_it/eee32dd69c573fe7e17382936ba1bd03dbd127bf0/expr.ipynb\"><img src=\"../../../number/numeral/deci/__pv_it/eee32dd69c573fe7e17382936ba1bd03dbd127bf0/expr.png\" style=\"display:inline;vertical-align:middle;\" /></a></span></td></tr>\n",
       "<tr><td>&nbsp;</td><td colspan=4 style-\"text-align:left\"><a class=\"ProveItLink\" href=\"../../../number/numeral/deci/_proofs_/add_4_1.ipynb\">proveit.number.numeral.deci.add_4_1</a></td></tr><tr><td>8</td><td>theorem</td><td></td><td><span style=\"font-size:20px;\"> &#x22A2;&nbsp;<a class=\"ProveItLink\" href=\"../../../number/numeral/deci/__pv_it/8ba85fbad86aadba9e2262cd4c93b1ca4c769c8b0/expr.ipynb\"><img src=\"../../../number/numeral/deci/__pv_it/8ba85fbad86aadba9e2262cd4c93b1ca4c769c8b0/expr.png\" style=\"display:inline;vertical-align:middle;\" /></a></span></td></tr>\n",
       "<tr><td>&nbsp;</td><td colspan=4 style-\"text-align:left\"><a class=\"ProveItLink\" href=\"../../../number/numeral/deci/_proofs_/add_5_1.ipynb\">proveit.number.numeral.deci.add_5_1</a></td></tr><tr><td>9</td><td>theorem</td><td></td><td><span style=\"font-size:20px;\"> &#x22A2;&nbsp;<a class=\"ProveItLink\" href=\"../../../number/numeral/deci/__pv_it/2cb1357112fd6589bc134484ccd118fb572e3a000/expr.ipynb\"><img src=\"../../../number/numeral/deci/__pv_it/2cb1357112fd6589bc134484ccd118fb572e3a000/expr.png\" style=\"display:inline;vertical-align:middle;\" /></a></span></td></tr>\n",
       "<tr><td>&nbsp;</td><td colspan=4 style-\"text-align:left\"><a class=\"ProveItLink\" href=\"../../../number/numeral/deci/_proofs_/add_6_1.ipynb\">proveit.number.numeral.deci.add_6_1</a></td></tr><tr><td>10</td><td>theorem</td><td></td><td><span style=\"font-size:20px;\"> &#x22A2;&nbsp;<a class=\"ProveItLink\" href=\"../../../number/numeral/deci/__pv_it/6c2f46afe1b95b68353efd46829e982bc77866a80/expr.ipynb\"><img src=\"../../../number/numeral/deci/__pv_it/6c2f46afe1b95b68353efd46829e982bc77866a80/expr.png\" style=\"display:inline;vertical-align:middle;\" /></a></span></td></tr>\n",
       "<tr><td>&nbsp;</td><td colspan=4 style-\"text-align:left\"><a class=\"ProveItLink\" href=\"../../../number/numeral/deci/_proofs_/add_7_1.ipynb\">proveit.number.numeral.deci.add_7_1</a></td></tr><tr><td>11</td><td>theorem</td><td></td><td><span style=\"font-size:20px;\"> &#x22A2;&nbsp;<a class=\"ProveItLink\" href=\"../../set_theory/membership/__pv_it/0cd6f627c1e438f9180c6b8a4e26a00a5b6c49270/expr.ipynb\"><img src=\"../../set_theory/membership/__pv_it/0cd6f627c1e438f9180c6b8a4e26a00a5b6c49270/expr.png\" style=\"display:inline;vertical-align:middle;\" /></a></span></td></tr>\n",
       "<tr><td>&nbsp;</td><td colspan=4 style-\"text-align:left\"><a class=\"ProveItLink\" href=\"../../set_theory/membership/_proofs_/exp_set_8.ipynb\">proveit.logic.set_theory.membership.exp_set_8</a></td></tr><tr><td>12</td><td>assumption</td><td></td><td><span style=\"font-size:20px;\"><a class=\"ProveItLink\" href=\"__pv_it/017ca8cfa034181c90ba15dd10869f0f4e516d6a0/expr.ipynb\"><img src=\"__pv_it/017ca8cfa034181c90ba15dd10869f0f4e516d6a0/expr.png\" style=\"display:inline;vertical-align:middle;\" /></a> &#x22A2;&nbsp;<a class=\"ProveItLink\" href=\"__pv_it/03a5c2b5cc6fc2c3cd686b4bcf84379b893abe210/expr.ipynb\"><img src=\"__pv_it/03a5c2b5cc6fc2c3cd686b4bcf84379b893abe210/expr.png\" style=\"display:inline;vertical-align:middle;\" /></a></span></td></tr>\n",
       "<tr><td>13</td><td>assumption</td><td></td><td><span style=\"font-size:20px;\"><a class=\"ProveItLink\" href=\"__pv_it/2c2e947402f53b9e11cd7769e1b5b3378595750e0/expr.ipynb\"><img src=\"__pv_it/2c2e947402f53b9e11cd7769e1b5b3378595750e0/expr.png\" style=\"display:inline;vertical-align:middle;\" /></a> &#x22A2;&nbsp;<a class=\"ProveItLink\" href=\"__pv_it/fe5c91c77f0659f9ea07a2e3257797875d6868370/expr.ipynb\"><img src=\"__pv_it/fe5c91c77f0659f9ea07a2e3257797875d6868370/expr.png\" style=\"display:inline;vertical-align:middle;\" /></a></span></td></tr>\n",
       "<tr><td>14</td><td>assumption</td><td></td><td><span style=\"font-size:20px;\"><a class=\"ProveItLink\" href=\"__pv_it/549ecf82a9d4ac5ca0750c6c3aaf83e6e7209ca90/expr.ipynb\"><img src=\"__pv_it/549ecf82a9d4ac5ca0750c6c3aaf83e6e7209ca90/expr.png\" style=\"display:inline;vertical-align:middle;\" /></a> &#x22A2;&nbsp;<a class=\"ProveItLink\" href=\"__pv_it/2cec3c732aceb253233bb533d4e43cc3f34f4f660/expr.ipynb\"><img src=\"__pv_it/2cec3c732aceb253233bb533d4e43cc3f34f4f660/expr.png\" style=\"display:inline;vertical-align:middle;\" /></a></span></td></tr>\n",
       "<tr><td>15</td><td>assumption</td><td></td><td><span style=\"font-size:20px;\"><a class=\"ProveItLink\" href=\"__pv_it/aa3618fdfba9edc866f19a2dbc2f7cde292ff1c70/expr.ipynb\"><img src=\"__pv_it/aa3618fdfba9edc866f19a2dbc2f7cde292ff1c70/expr.png\" style=\"display:inline;vertical-align:middle;\" /></a> &#x22A2;&nbsp;<a class=\"ProveItLink\" href=\"__pv_it/3891b823dfb55f51d513cc7144556dc1bfd425b70/expr.ipynb\"><img src=\"__pv_it/3891b823dfb55f51d513cc7144556dc1bfd425b70/expr.png\" style=\"display:inline;vertical-align:middle;\" /></a></span></td></tr>\n",
       "<tr><td>16</td><td>assumption</td><td></td><td><span style=\"font-size:20px;\"><a class=\"ProveItLink\" href=\"__pv_it/45550be27f6913c17dce44dfc83cc77bc2a041d30/expr.ipynb\"><img src=\"__pv_it/45550be27f6913c17dce44dfc83cc77bc2a041d30/expr.png\" style=\"display:inline;vertical-align:middle;\" /></a> &#x22A2;&nbsp;<a class=\"ProveItLink\" href=\"__pv_it/655d89e4e0e0d371b0b02d7fde2b0e184bd7586c0/expr.ipynb\"><img src=\"__pv_it/655d89e4e0e0d371b0b02d7fde2b0e184bd7586c0/expr.png\" style=\"display:inline;vertical-align:middle;\" /></a></span></td></tr>\n",
       "<tr><td>17</td><td>assumption</td><td></td><td><span style=\"font-size:20px;\"><a class=\"ProveItLink\" href=\"__pv_it/0ba4cd246cef7b00b186d3d56b6671849ced26320/expr.ipynb\"><img src=\"__pv_it/0ba4cd246cef7b00b186d3d56b6671849ced26320/expr.png\" style=\"display:inline;vertical-align:middle;\" /></a> &#x22A2;&nbsp;<a class=\"ProveItLink\" href=\"__pv_it/62029ad82d8302e3a31ed4ae162b3ad65f0484420/expr.ipynb\"><img src=\"__pv_it/62029ad82d8302e3a31ed4ae162b3ad65f0484420/expr.png\" style=\"display:inline;vertical-align:middle;\" /></a></span></td></tr>\n",
       "<tr><td>18</td><td>assumption</td><td></td><td><span style=\"font-size:20px;\"><a class=\"ProveItLink\" href=\"__pv_it/0104e7b63dbe24a8f1a4dc3aa342b211184372700/expr.ipynb\"><img src=\"__pv_it/0104e7b63dbe24a8f1a4dc3aa342b211184372700/expr.png\" style=\"display:inline;vertical-align:middle;\" /></a> &#x22A2;&nbsp;<a class=\"ProveItLink\" href=\"__pv_it/9c241f611ffe152dbed9d35a15444f5e8bde21190/expr.ipynb\"><img src=\"__pv_it/9c241f611ffe152dbed9d35a15444f5e8bde21190/expr.png\" style=\"display:inline;vertical-align:middle;\" /></a></span></td></tr>\n",
       "<tr><td>19</td><td>assumption</td><td></td><td><span style=\"font-size:20px;\"><a class=\"ProveItLink\" href=\"__pv_it/f1c02dcbccca55c6323566eb9b6559c223db9eea0/expr.ipynb\"><img src=\"__pv_it/f1c02dcbccca55c6323566eb9b6559c223db9eea0/expr.png\" style=\"display:inline;vertical-align:middle;\" /></a> &#x22A2;&nbsp;<a class=\"ProveItLink\" href=\"__pv_it/17434c062b130d50913b87eeb5dfaba66033fad10/expr.ipynb\"><img src=\"__pv_it/17434c062b130d50913b87eeb5dfaba66033fad10/expr.png\" style=\"display:inline;vertical-align:middle;\" /></a></span></td></tr>\n",
       "</table>"
      ],
      "text/plain": [
       "\tstep type\trequirements\tstatement\n",
       "0\tspecialization\t1, 2, 3, 4, 5, 6, 7, 8, 9, 10\t{A in BOOLEANS , B in BOOLEANS , C in BOOLEANS , D in BOOLEANS , E in BOOLEANS , F in BOOLEANS , G in BOOLEANS , H in BOOLEANS} |- (A or B or C or D or E or F or G or H) in BOOLEANS\n",
       "\tm : 8, A : (A , B , C , D , E , F , G , H)\n",
       "1\ttheorem\t\t|- forall_{m in Naturals} [forall_{A in BOOLEANS^{m}} ((A_1 or  ...  or A_m) in BOOLEANS)]\n",
       "\tproveit.logic.boolean.disjunction.closure\n",
       "2\ttheorem\t\t|- 8 in Naturals\n",
       "\tproveit.number.numeral.deci.nat8\n",
       "3\tspecialization\t11, 12, 13, 14, 15, 16, 17, 18, 19\t{A in BOOLEANS , B in BOOLEANS , C in BOOLEANS , D in BOOLEANS , E in BOOLEANS , F in BOOLEANS , G in BOOLEANS , H in BOOLEANS} |- (A , B , C , D , E , F , G , H) in BOOLEANS^{8}\n",
       "\tS : BOOLEANS, a : A, b : B, c : C, d : D, e : E, f : F, g : G, h : H\n",
       "4\ttheorem\t\t|- (1 + 1) = 2\n",
       "\tproveit.number.numeral.deci.add_1_1\n",
       "5\ttheorem\t\t|- (2 + 1) = 3\n",
       "\tproveit.number.numeral.deci.add_2_1\n",
       "6\ttheorem\t\t|- (3 + 1) = 4\n",
       "\tproveit.number.numeral.deci.add_3_1\n",
       "7\ttheorem\t\t|- (4 + 1) = 5\n",
       "\tproveit.number.numeral.deci.add_4_1\n",
       "8\ttheorem\t\t|- (5 + 1) = 6\n",
       "\tproveit.number.numeral.deci.add_5_1\n",
       "9\ttheorem\t\t|- (6 + 1) = 7\n",
       "\tproveit.number.numeral.deci.add_6_1\n",
       "10\ttheorem\t\t|- (7 + 1) = 8\n",
       "\tproveit.number.numeral.deci.add_7_1\n",
       "11\ttheorem\t\t|- forall_{S} [forall_{a, b, c, d, e, f, g, h in S} ((a , b , c , d , e , f , g , h) in S^{8})]\n",
       "\tproveit.logic.set_theory.membership.exp_set_8\n",
       "12\tassumption\t\t{A in BOOLEANS} |- A in BOOLEANS\n",
       "13\tassumption\t\t{B in BOOLEANS} |- B in BOOLEANS\n",
       "14\tassumption\t\t{C in BOOLEANS} |- C in BOOLEANS\n",
       "15\tassumption\t\t{D in BOOLEANS} |- D in BOOLEANS\n",
       "16\tassumption\t\t{E in BOOLEANS} |- E in BOOLEANS\n",
       "17\tassumption\t\t{F in BOOLEANS} |- F in BOOLEANS\n",
       "18\tassumption\t\t{G in BOOLEANS} |- G in BOOLEANS\n",
       "19\tassumption\t\t{H in BOOLEANS} |- H in BOOLEANS"
      ]
     },
     "execution_count": 40,
     "metadata": {},
     "output_type": "execute_result"
    }
   ],
   "source": [
    "Or(A,B,C,D,E,F,G,H).deriveInBool(inBool(A,B,C,D,E,F,G,H)).proof()"
   ]
  },
  {
   "cell_type": "markdown",
   "metadata": {},
   "source": [
    "***GroupSwap***"
   ]
  },
  {
   "cell_type": "markdown",
   "metadata": {},
   "source": [
    "trueEval"
   ]
  },
  {
   "cell_type": "code",
   "execution_count": 41,
   "metadata": {},
   "outputs": [
    {
     "data": {
      "text/html": [
       "<table><tr><th>&nbsp;</th><th>step type</th><th>requirements</th><th>statement</th></tr>\n",
       "<tr><td>0</td><td>specialization</td><td>1, 2</td><td><span style=\"font-size:20px;\"> &#x22A2;&nbsp;<a class=\"ProveItLink\" href=\"__pv_it/2c426e4b16e5856facdc61e0acbd1b0512980d770/expr.ipynb\"><img src=\"__pv_it/2c426e4b16e5856facdc61e0acbd1b0512980d770/expr.png\" style=\"display:inline;vertical-align:middle;\" /></a></span></td></tr>\n",
       "<tr><td>&nbsp;</td><td colspan=4 style=\"text-align:left\"><span style=\"font-size:20px;\"><a class=\"ProveItLink\" href=\"../../../__pv_it/2cbe72a7ad6f655694dd697106680215e8489b600/expr.ipynb\"><img src=\"../../../__pv_it/2cbe72a7ad6f655694dd697106680215e8489b600/expr.png\" style=\"display:inline;vertical-align:middle;\" /></a> : <a class=\"ProveItLink\" href=\"__pv_it/b0ec0c0535965293bc59b4a9d2b580efbb3830c10/expr.ipynb\"><img src=\"__pv_it/b0ec0c0535965293bc59b4a9d2b580efbb3830c10/expr.png\" style=\"display:inline;vertical-align:middle;\" /></a></span></td></tr><tr><td>1</td><td>axiom</td><td></td><td><span style=\"font-size:20px;\"> &#x22A2;&nbsp;<a class=\"ProveItLink\" href=\"../__pv_it/04576f2f89fdf94b2e1520e8f4ab361286daf7f30/expr.ipynb\"><img src=\"../__pv_it/04576f2f89fdf94b2e1520e8f4ab361286daf7f30/expr.png\" style=\"display:inline;vertical-align:middle;\" /></a></span></td></tr>\n",
       "<tr><td>&nbsp;</td><td colspan=4 style-\"text-align:left\"><a class=\"ProveItLink\" href=\"../_axioms_.ipynb#eqTrueIntro\">proveit.logic.boolean.eqTrueIntro</a></td></tr><tr><td>2</td><td>specialization</td><td>3, 4, 5, 6, 7, 8</td><td><span style=\"font-size:20px;\"> &#x22A2;&nbsp;<a class=\"ProveItLink\" href=\"__pv_it/b0ec0c0535965293bc59b4a9d2b580efbb3830c10/expr.ipynb\"><img src=\"__pv_it/b0ec0c0535965293bc59b4a9d2b580efbb3830c10/expr.png\" style=\"display:inline;vertical-align:middle;\" /></a></span></td></tr>\n",
       "<tr><td>&nbsp;</td><td colspan=4 style=\"text-align:left\"><span style=\"font-size:20px;\"><a class=\"ProveItLink\" href=\"../../../__pv_it/78af03acba5349fd70398a32ce59bae1da52f0870/expr.ipynb\"><img src=\"../../../__pv_it/78af03acba5349fd70398a32ce59bae1da52f0870/expr.png\" style=\"display:inline;vertical-align:middle;\" /></a> : <a class=\"ProveItLink\" href=\"../../../number/numeral/__pv_it/77d407a64829263cdc16415becd4c2293f77a4bf0/expr.ipynb\"><img src=\"../../../number/numeral/__pv_it/77d407a64829263cdc16415becd4c2293f77a4bf0/expr.png\" style=\"display:inline;vertical-align:middle;\" /></a>, <a class=\"ProveItLink\" href=\"../../../__pv_it/39dbcd3ca0390345b51c6ef7785756419e2c14390/expr.ipynb\"><img src=\"../../../__pv_it/39dbcd3ca0390345b51c6ef7785756419e2c14390/expr.png\" style=\"display:inline;vertical-align:middle;\" /></a> : <a class=\"ProveItLink\" href=\"../../../number/numeral/__pv_it/77d407a64829263cdc16415becd4c2293f77a4bf0/expr.ipynb\"><img src=\"../../../number/numeral/__pv_it/77d407a64829263cdc16415becd4c2293f77a4bf0/expr.png\" style=\"display:inline;vertical-align:middle;\" /></a>, <a class=\"ProveItLink\" href=\"../../../__pv_it/eb438fefc4bd0ac977777d6dfd3e8a72dfbedbd50/expr.ipynb\"><img src=\"../../../__pv_it/eb438fefc4bd0ac977777d6dfd3e8a72dfbedbd50/expr.png\" style=\"display:inline;vertical-align:middle;\" /></a> : <a class=\"ProveItLink\" href=\"__pv_it/d53a7aa30bb6e4b6560fa22a33f5dd297c785e1d0/expr.ipynb\"><img src=\"__pv_it/d53a7aa30bb6e4b6560fa22a33f5dd297c785e1d0/expr.png\" style=\"display:inline;vertical-align:middle;\" /></a>, <a class=\"ProveItLink\" href=\"../../../__pv_it/077b2ff79244fb4582cbe22c6e3356fa92a52f2f0/expr.ipynb\"><img src=\"../../../__pv_it/077b2ff79244fb4582cbe22c6e3356fa92a52f2f0/expr.png\" style=\"display:inline;vertical-align:middle;\" /></a> : <a class=\"ProveItLink\" href=\"../__pv_it/68a87cc3370287d726c7086ace789e680e4461c30/expr.ipynb\"><img src=\"../__pv_it/68a87cc3370287d726c7086ace789e680e4461c30/expr.png\" style=\"display:inline;vertical-align:middle;\" /></a>, <a class=\"ProveItLink\" href=\"../../../__pv_it/9242e69d4f2c65d04fc0527b82418c7c22c6da370/expr.ipynb\"><img src=\"../../../__pv_it/9242e69d4f2c65d04fc0527b82418c7c22c6da370/expr.png\" style=\"display:inline;vertical-align:middle;\" /></a> : <a class=\"ProveItLink\" href=\"__pv_it/d53a7aa30bb6e4b6560fa22a33f5dd297c785e1d0/expr.ipynb\"><img src=\"__pv_it/d53a7aa30bb6e4b6560fa22a33f5dd297c785e1d0/expr.png\" style=\"display:inline;vertical-align:middle;\" /></a></span></td></tr><tr><td>3</td><td>theorem</td><td></td><td><span style=\"font-size:20px;\"> &#x22A2;&nbsp;<a class=\"ProveItLink\" href=\"__pv_it/e5b1d8567deddceb281da8e4062562af11d61b8d0/expr.ipynb\"><img src=\"__pv_it/e5b1d8567deddceb281da8e4062562af11d61b8d0/expr.png\" style=\"display:inline;vertical-align:middle;\" /></a></span></td></tr>\n",
       "<tr><td>&nbsp;</td><td colspan=4 style-\"text-align:left\"><a class=\"ProveItLink\" href=\"_proofs_/orIfAny.ipynb\">proveit.logic.boolean.disjunction.orIfAny</a></td></tr><tr><td>4</td><td>theorem</td><td></td><td><span style=\"font-size:20px;\"> &#x22A2;&nbsp;<a class=\"ProveItLink\" href=\"../../../number/numeral/deci/__pv_it/286f0443dba55bdb259c90cef1db0ca273fac95e0/expr.ipynb\"><img src=\"../../../number/numeral/deci/__pv_it/286f0443dba55bdb259c90cef1db0ca273fac95e0/expr.png\" style=\"display:inline;vertical-align:middle;\" /></a></span></td></tr>\n",
       "<tr><td>&nbsp;</td><td colspan=4 style-\"text-align:left\"><a class=\"ProveItLink\" href=\"../../../number/numeral/deci/_proofs_/nat2.ipynb\">proveit.number.numeral.deci.nat2</a></td></tr><tr><td>5</td><td>specialization</td><td>9, 10</td><td><span style=\"font-size:20px;\"> &#x22A2;&nbsp;<a class=\"ProveItLink\" href=\"__pv_it/acba1336d776b660168c834abed071f1d7df9fc90/expr.ipynb\"><img src=\"__pv_it/acba1336d776b660168c834abed071f1d7df9fc90/expr.png\" style=\"display:inline;vertical-align:middle;\" /></a></span></td></tr>\n",
       "<tr><td>&nbsp;</td><td colspan=4 style=\"text-align:left\"><span style=\"font-size:20px;\"><a class=\"ProveItLink\" href=\"../../../__pv_it/abeee18594afe51bfb1be95d9591fbba24ac53f30/expr.ipynb\"><img src=\"../../../__pv_it/abeee18594afe51bfb1be95d9591fbba24ac53f30/expr.png\" style=\"display:inline;vertical-align:middle;\" /></a> : <a class=\"ProveItLink\" href=\"../__pv_it/46271c8230be96415d662709611f4ed2279d702b0/expr.ipynb\"><img src=\"../__pv_it/46271c8230be96415d662709611f4ed2279d702b0/expr.png\" style=\"display:inline;vertical-align:middle;\" /></a>, <a class=\"ProveItLink\" href=\"../../../__pv_it/07527342713064c87612d00d8557c53d53d5324a0/expr.ipynb\"><img src=\"../../../__pv_it/07527342713064c87612d00d8557c53d53d5324a0/expr.png\" style=\"display:inline;vertical-align:middle;\" /></a> : <a class=\"ProveItLink\" href=\"../__pv_it/8f1f7fac882de28c72b62ab80a1700b6d8fd066b0/expr.ipynb\"><img src=\"../__pv_it/8f1f7fac882de28c72b62ab80a1700b6d8fd066b0/expr.png\" style=\"display:inline;vertical-align:middle;\" /></a>, <a class=\"ProveItLink\" href=\"../../../__pv_it/6840a4fa6c106149dc16a131294d0c5e44f1b0480/expr.ipynb\"><img src=\"../../../__pv_it/6840a4fa6c106149dc16a131294d0c5e44f1b0480/expr.png\" style=\"display:inline;vertical-align:middle;\" /></a> : <a class=\"ProveItLink\" href=\"../__pv_it/8f1f7fac882de28c72b62ab80a1700b6d8fd066b0/expr.ipynb\"><img src=\"../__pv_it/8f1f7fac882de28c72b62ab80a1700b6d8fd066b0/expr.png\" style=\"display:inline;vertical-align:middle;\" /></a></span></td></tr><tr><td>6</td><td>theorem</td><td></td><td><span style=\"font-size:20px;\"> &#x22A2;&nbsp;<a class=\"ProveItLink\" href=\"../__pv_it/3e7350f116816f72fa422609af12e912bbd1845d0/expr.ipynb\"><img src=\"../__pv_it/3e7350f116816f72fa422609af12e912bbd1845d0/expr.png\" style=\"display:inline;vertical-align:middle;\" /></a></span></td></tr>\n",
       "<tr><td>&nbsp;</td><td colspan=4 style-\"text-align:left\"><a class=\"ProveItLink\" href=\"../_proofs_/trueInBool.ipynb\">proveit.logic.boolean.trueInBool</a></td></tr><tr><td>7</td><td>axiom</td><td></td><td><span style=\"font-size:20px;\"> &#x22A2;&nbsp;<a class=\"ProveItLink\" href=\"../__pv_it/68a87cc3370287d726c7086ace789e680e4461c30/expr.ipynb\"><img src=\"../__pv_it/68a87cc3370287d726c7086ace789e680e4461c30/expr.png\" style=\"display:inline;vertical-align:middle;\" /></a></span></td></tr>\n",
       "<tr><td>&nbsp;</td><td colspan=4 style-\"text-align:left\"><a class=\"ProveItLink\" href=\"../_axioms_.ipynb#trueAxiom\">proveit.logic.boolean.trueAxiom</a></td></tr><tr><td>8</td><td>theorem</td><td></td><td><span style=\"font-size:20px;\"> &#x22A2;&nbsp;<a class=\"ProveItLink\" href=\"../../../number/numeral/deci/__pv_it/5b6ff6a2fca03ad41d2a3084e44fbb28428ffb6a0/expr.ipynb\"><img src=\"../../../number/numeral/deci/__pv_it/5b6ff6a2fca03ad41d2a3084e44fbb28428ffb6a0/expr.png\" style=\"display:inline;vertical-align:middle;\" /></a></span></td></tr>\n",
       "<tr><td>&nbsp;</td><td colspan=4 style-\"text-align:left\"><a class=\"ProveItLink\" href=\"../../../number/numeral/deci/_proofs_/add_1_1.ipynb\">proveit.number.numeral.deci.add_1_1</a></td></tr><tr><td>9</td><td>theorem</td><td></td><td><span style=\"font-size:20px;\"> &#x22A2;&nbsp;<a class=\"ProveItLink\" href=\"../../set_theory/membership/__pv_it/9ac424c71798aca56b25ebe33a7a41dbaa332c490/expr.ipynb\"><img src=\"../../set_theory/membership/__pv_it/9ac424c71798aca56b25ebe33a7a41dbaa332c490/expr.png\" style=\"display:inline;vertical-align:middle;\" /></a></span></td></tr>\n",
       "<tr><td>&nbsp;</td><td colspan=4 style-\"text-align:left\"><a class=\"ProveItLink\" href=\"../../set_theory/membership/_proofs_/exp_set_2.ipynb\">proveit.logic.set_theory.membership.exp_set_2</a></td></tr><tr><td>10</td><td>theorem</td><td></td><td><span style=\"font-size:20px;\"> &#x22A2;&nbsp;<a class=\"ProveItLink\" href=\"../__pv_it/9f85861a2422bfaf1627227c7d0968a483b71e9d0/expr.ipynb\"><img src=\"../__pv_it/9f85861a2422bfaf1627227c7d0968a483b71e9d0/expr.png\" style=\"display:inline;vertical-align:middle;\" /></a></span></td></tr>\n",
       "<tr><td>&nbsp;</td><td colspan=4 style-\"text-align:left\"><a class=\"ProveItLink\" href=\"../_proofs_/falseInBool.ipynb\">proveit.logic.boolean.falseInBool</a></td></tr></table>"
      ],
      "text/plain": [
       "\tstep type\trequirements\tstatement\n",
       "0\tspecialization\t1, 2\t|- (FALSE or FALSE or TRUE or FALSE or FALSE) = TRUE\n",
       "\tA : FALSE or FALSE or TRUE or FALSE or FALSE\n",
       "1\taxiom\t\t|- forall_{A | A} (A = TRUE)\n",
       "\tproveit.logic.boolean.eqTrueIntro\n",
       "2\tspecialization\t3, 4, 5, 6, 7, 8\t|- FALSE or FALSE or TRUE or FALSE or FALSE\n",
       "\tm : 2, n : 2, A : (FALSE , FALSE), B : TRUE, C : (FALSE , FALSE)\n",
       "3\ttheorem\t\t|- forall_{m, n in Naturals} [forall_{(A, B, C) in BOOLEANS^{m} * BOOLEANS * BOOLEANS^{n} | B} (A_1 or  ...  or A_m or B or C_1 or  ...  or C_n)]\n",
       "\tproveit.logic.boolean.disjunction.orIfAny\n",
       "4\ttheorem\t\t|- 2 in Naturals\n",
       "\tproveit.number.numeral.deci.nat2\n",
       "5\tspecialization\t9, 10\t|- (FALSE , FALSE) in BOOLEANS^{2}\n",
       "\tS : BOOLEANS, a : FALSE, b : FALSE\n",
       "6\ttheorem\t\t|- TRUE in BOOLEANS\n",
       "\tproveit.logic.boolean.trueInBool\n",
       "7\taxiom\t\t|- TRUE\n",
       "\tproveit.logic.boolean.trueAxiom\n",
       "8\ttheorem\t\t|- (1 + 1) = 2\n",
       "\tproveit.number.numeral.deci.add_1_1\n",
       "9\ttheorem\t\t|- forall_{S} [forall_{a, b in S} ((a , b) in S^{2})]\n",
       "\tproveit.logic.set_theory.membership.exp_set_2\n",
       "10\ttheorem\t\t|- FALSE in BOOLEANS\n",
       "\tproveit.logic.boolean.falseInBool"
      ]
     },
     "execution_count": 41,
     "metadata": {},
     "output_type": "execute_result"
    }
   ],
   "source": [
    "Or(FALSE,FALSE,TRUE,FALSE,FALSE).evaluation().proof()"
   ]
  },
  {
   "cell_type": "code",
   "execution_count": 42,
   "metadata": {},
   "outputs": [
    {
     "data": {
      "text/html": [
       "<table><tr><th>&nbsp;</th><th>step type</th><th>requirements</th><th>statement</th></tr>\n",
       "<tr><td>0</td><td>specialization</td><td>1, 2</td><td><span style=\"font-size:20px;\"><a class=\"ProveItLink\" href=\"__pv_it/8749e6c061eae028a096c860bbd7e37b4bf785f10/expr.ipynb\"><img src=\"__pv_it/8749e6c061eae028a096c860bbd7e37b4bf785f10/expr.png\" style=\"display:inline;vertical-align:middle;\" /></a> &#x22A2;&nbsp;<a class=\"ProveItLink\" href=\"__pv_it/476a2eafe5a825effd4779a378e060625810bfc30/expr.ipynb\"><img src=\"__pv_it/476a2eafe5a825effd4779a378e060625810bfc30/expr.png\" style=\"display:inline;vertical-align:middle;\" /></a></span></td></tr>\n",
       "<tr><td>&nbsp;</td><td colspan=4 style=\"text-align:left\"><span style=\"font-size:20px;\"><a class=\"ProveItLink\" href=\"../../../__pv_it/2cbe72a7ad6f655694dd697106680215e8489b600/expr.ipynb\"><img src=\"../../../__pv_it/2cbe72a7ad6f655694dd697106680215e8489b600/expr.png\" style=\"display:inline;vertical-align:middle;\" /></a> : <a class=\"ProveItLink\" href=\"__pv_it/b2ab2beb3f6fe56597ed9b9e8f1c59ff66956c6c0/expr.ipynb\"><img src=\"__pv_it/b2ab2beb3f6fe56597ed9b9e8f1c59ff66956c6c0/expr.png\" style=\"display:inline;vertical-align:middle;\" /></a></span></td></tr><tr><td>1</td><td>axiom</td><td></td><td><span style=\"font-size:20px;\"> &#x22A2;&nbsp;<a class=\"ProveItLink\" href=\"../__pv_it/04576f2f89fdf94b2e1520e8f4ab361286daf7f30/expr.ipynb\"><img src=\"../__pv_it/04576f2f89fdf94b2e1520e8f4ab361286daf7f30/expr.png\" style=\"display:inline;vertical-align:middle;\" /></a></span></td></tr>\n",
       "<tr><td>&nbsp;</td><td colspan=4 style-\"text-align:left\"><a class=\"ProveItLink\" href=\"../_axioms_.ipynb#eqTrueIntro\">proveit.logic.boolean.eqTrueIntro</a></td></tr><tr><td>2</td><td>specialization</td><td>3, 4, 5, 6, 7, 8, 9</td><td><span style=\"font-size:20px;\"><a class=\"ProveItLink\" href=\"__pv_it/f28f9b812246a6c4975e6f67667fe62b1fba502a0/expr.ipynb\"><img src=\"__pv_it/f28f9b812246a6c4975e6f67667fe62b1fba502a0/expr.png\" style=\"display:inline;vertical-align:middle;\" /></a> &#x22A2;&nbsp;<a class=\"ProveItLink\" href=\"__pv_it/b2ab2beb3f6fe56597ed9b9e8f1c59ff66956c6c0/expr.ipynb\"><img src=\"__pv_it/b2ab2beb3f6fe56597ed9b9e8f1c59ff66956c6c0/expr.png\" style=\"display:inline;vertical-align:middle;\" /></a></span></td></tr>\n",
       "<tr><td>&nbsp;</td><td colspan=4 style=\"text-align:left\"><span style=\"font-size:20px;\"><a class=\"ProveItLink\" href=\"../../../__pv_it/78af03acba5349fd70398a32ce59bae1da52f0870/expr.ipynb\"><img src=\"../../../__pv_it/78af03acba5349fd70398a32ce59bae1da52f0870/expr.png\" style=\"display:inline;vertical-align:middle;\" /></a> : <a class=\"ProveItLink\" href=\"../../../number/numeral/__pv_it/77d407a64829263cdc16415becd4c2293f77a4bf0/expr.ipynb\"><img src=\"../../../number/numeral/__pv_it/77d407a64829263cdc16415becd4c2293f77a4bf0/expr.png\" style=\"display:inline;vertical-align:middle;\" /></a>, <a class=\"ProveItLink\" href=\"../../../__pv_it/39dbcd3ca0390345b51c6ef7785756419e2c14390/expr.ipynb\"><img src=\"../../../__pv_it/39dbcd3ca0390345b51c6ef7785756419e2c14390/expr.png\" style=\"display:inline;vertical-align:middle;\" /></a> : <a class=\"ProveItLink\" href=\"../../../number/numeral/__pv_it/77d407a64829263cdc16415becd4c2293f77a4bf0/expr.ipynb\"><img src=\"../../../number/numeral/__pv_it/77d407a64829263cdc16415becd4c2293f77a4bf0/expr.png\" style=\"display:inline;vertical-align:middle;\" /></a>, <a class=\"ProveItLink\" href=\"../../../__pv_it/eb438fefc4bd0ac977777d6dfd3e8a72dfbedbd50/expr.ipynb\"><img src=\"../../../__pv_it/eb438fefc4bd0ac977777d6dfd3e8a72dfbedbd50/expr.png\" style=\"display:inline;vertical-align:middle;\" /></a> : <a class=\"ProveItLink\" href=\"__pv_it/06a72e8706d1c13b268a9445a249c41d479d50850/expr.ipynb\"><img src=\"__pv_it/06a72e8706d1c13b268a9445a249c41d479d50850/expr.png\" style=\"display:inline;vertical-align:middle;\" /></a>, <a class=\"ProveItLink\" href=\"../../../__pv_it/077b2ff79244fb4582cbe22c6e3356fa92a52f2f0/expr.ipynb\"><img src=\"../../../__pv_it/077b2ff79244fb4582cbe22c6e3356fa92a52f2f0/expr.png\" style=\"display:inline;vertical-align:middle;\" /></a> : <a class=\"ProveItLink\" href=\"../__pv_it/68a87cc3370287d726c7086ace789e680e4461c30/expr.ipynb\"><img src=\"../__pv_it/68a87cc3370287d726c7086ace789e680e4461c30/expr.png\" style=\"display:inline;vertical-align:middle;\" /></a>, <a class=\"ProveItLink\" href=\"../../../__pv_it/9242e69d4f2c65d04fc0527b82418c7c22c6da370/expr.ipynb\"><img src=\"../../../__pv_it/9242e69d4f2c65d04fc0527b82418c7c22c6da370/expr.png\" style=\"display:inline;vertical-align:middle;\" /></a> : <a class=\"ProveItLink\" href=\"__pv_it/dc9e854469e5d863dc8ee464da9a7271b5b344fd0/expr.ipynb\"><img src=\"__pv_it/dc9e854469e5d863dc8ee464da9a7271b5b344fd0/expr.png\" style=\"display:inline;vertical-align:middle;\" /></a></span></td></tr><tr><td>3</td><td>theorem</td><td></td><td><span style=\"font-size:20px;\"> &#x22A2;&nbsp;<a class=\"ProveItLink\" href=\"__pv_it/e5b1d8567deddceb281da8e4062562af11d61b8d0/expr.ipynb\"><img src=\"__pv_it/e5b1d8567deddceb281da8e4062562af11d61b8d0/expr.png\" style=\"display:inline;vertical-align:middle;\" /></a></span></td></tr>\n",
       "<tr><td>&nbsp;</td><td colspan=4 style-\"text-align:left\"><a class=\"ProveItLink\" href=\"_proofs_/orIfAny.ipynb\">proveit.logic.boolean.disjunction.orIfAny</a></td></tr><tr><td>4</td><td>theorem</td><td></td><td><span style=\"font-size:20px;\"> &#x22A2;&nbsp;<a class=\"ProveItLink\" href=\"../../../number/numeral/deci/__pv_it/286f0443dba55bdb259c90cef1db0ca273fac95e0/expr.ipynb\"><img src=\"../../../number/numeral/deci/__pv_it/286f0443dba55bdb259c90cef1db0ca273fac95e0/expr.png\" style=\"display:inline;vertical-align:middle;\" /></a></span></td></tr>\n",
       "<tr><td>&nbsp;</td><td colspan=4 style-\"text-align:left\"><a class=\"ProveItLink\" href=\"../../../number/numeral/deci/_proofs_/nat2.ipynb\">proveit.number.numeral.deci.nat2</a></td></tr><tr><td>5</td><td>specialization</td><td>12, 10, 11</td><td><span style=\"font-size:20px;\"><a class=\"ProveItLink\" href=\"__pv_it/1cfd36f54dadf8eaa971948fe28d325742cb751f0/expr.ipynb\"><img src=\"__pv_it/1cfd36f54dadf8eaa971948fe28d325742cb751f0/expr.png\" style=\"display:inline;vertical-align:middle;\" /></a> &#x22A2;&nbsp;<a class=\"ProveItLink\" href=\"__pv_it/2658b8bdcda9f2f0acb9b0205b2797e3d0c12c210/expr.ipynb\"><img src=\"__pv_it/2658b8bdcda9f2f0acb9b0205b2797e3d0c12c210/expr.png\" style=\"display:inline;vertical-align:middle;\" /></a></span></td></tr>\n",
       "<tr><td>&nbsp;</td><td colspan=4 style=\"text-align:left\"><span style=\"font-size:20px;\"><a class=\"ProveItLink\" href=\"../../../__pv_it/abeee18594afe51bfb1be95d9591fbba24ac53f30/expr.ipynb\"><img src=\"../../../__pv_it/abeee18594afe51bfb1be95d9591fbba24ac53f30/expr.png\" style=\"display:inline;vertical-align:middle;\" /></a> : <a class=\"ProveItLink\" href=\"../__pv_it/46271c8230be96415d662709611f4ed2279d702b0/expr.ipynb\"><img src=\"../__pv_it/46271c8230be96415d662709611f4ed2279d702b0/expr.png\" style=\"display:inline;vertical-align:middle;\" /></a>, <a class=\"ProveItLink\" href=\"../../../__pv_it/07527342713064c87612d00d8557c53d53d5324a0/expr.ipynb\"><img src=\"../../../__pv_it/07527342713064c87612d00d8557c53d53d5324a0/expr.png\" style=\"display:inline;vertical-align:middle;\" /></a> : <a class=\"ProveItLink\" href=\"../../../__pv_it/2cbe72a7ad6f655694dd697106680215e8489b600/expr.ipynb\"><img src=\"../../../__pv_it/2cbe72a7ad6f655694dd697106680215e8489b600/expr.png\" style=\"display:inline;vertical-align:middle;\" /></a>, <a class=\"ProveItLink\" href=\"../../../__pv_it/6840a4fa6c106149dc16a131294d0c5e44f1b0480/expr.ipynb\"><img src=\"../../../__pv_it/6840a4fa6c106149dc16a131294d0c5e44f1b0480/expr.png\" style=\"display:inline;vertical-align:middle;\" /></a> : <a class=\"ProveItLink\" href=\"../../../__pv_it/077b2ff79244fb4582cbe22c6e3356fa92a52f2f0/expr.ipynb\"><img src=\"../../../__pv_it/077b2ff79244fb4582cbe22c6e3356fa92a52f2f0/expr.png\" style=\"display:inline;vertical-align:middle;\" /></a></span></td></tr><tr><td>6</td><td>theorem</td><td></td><td><span style=\"font-size:20px;\"> &#x22A2;&nbsp;<a class=\"ProveItLink\" href=\"../__pv_it/3e7350f116816f72fa422609af12e912bbd1845d0/expr.ipynb\"><img src=\"../__pv_it/3e7350f116816f72fa422609af12e912bbd1845d0/expr.png\" style=\"display:inline;vertical-align:middle;\" /></a></span></td></tr>\n",
       "<tr><td>&nbsp;</td><td colspan=4 style-\"text-align:left\"><a class=\"ProveItLink\" href=\"../_proofs_/trueInBool.ipynb\">proveit.logic.boolean.trueInBool</a></td></tr><tr><td>7</td><td>axiom</td><td></td><td><span style=\"font-size:20px;\"> &#x22A2;&nbsp;<a class=\"ProveItLink\" href=\"../__pv_it/68a87cc3370287d726c7086ace789e680e4461c30/expr.ipynb\"><img src=\"../__pv_it/68a87cc3370287d726c7086ace789e680e4461c30/expr.png\" style=\"display:inline;vertical-align:middle;\" /></a></span></td></tr>\n",
       "<tr><td>&nbsp;</td><td colspan=4 style-\"text-align:left\"><a class=\"ProveItLink\" href=\"../_axioms_.ipynb#trueAxiom\">proveit.logic.boolean.trueAxiom</a></td></tr><tr><td>8</td><td>specialization</td><td>12, 13, 14</td><td><span style=\"font-size:20px;\"><a class=\"ProveItLink\" href=\"__pv_it/0f32bcc9f2a496786139e05c6acd4be91e68beb70/expr.ipynb\"><img src=\"__pv_it/0f32bcc9f2a496786139e05c6acd4be91e68beb70/expr.png\" style=\"display:inline;vertical-align:middle;\" /></a> &#x22A2;&nbsp;<a class=\"ProveItLink\" href=\"__pv_it/736c9fb123aa517a2bbeba9689091348a4ddfcf00/expr.ipynb\"><img src=\"__pv_it/736c9fb123aa517a2bbeba9689091348a4ddfcf00/expr.png\" style=\"display:inline;vertical-align:middle;\" /></a></span></td></tr>\n",
       "<tr><td>&nbsp;</td><td colspan=4 style=\"text-align:left\"><span style=\"font-size:20px;\"><a class=\"ProveItLink\" href=\"../../../__pv_it/abeee18594afe51bfb1be95d9591fbba24ac53f30/expr.ipynb\"><img src=\"../../../__pv_it/abeee18594afe51bfb1be95d9591fbba24ac53f30/expr.png\" style=\"display:inline;vertical-align:middle;\" /></a> : <a class=\"ProveItLink\" href=\"../__pv_it/46271c8230be96415d662709611f4ed2279d702b0/expr.ipynb\"><img src=\"../__pv_it/46271c8230be96415d662709611f4ed2279d702b0/expr.png\" style=\"display:inline;vertical-align:middle;\" /></a>, <a class=\"ProveItLink\" href=\"../../../__pv_it/07527342713064c87612d00d8557c53d53d5324a0/expr.ipynb\"><img src=\"../../../__pv_it/07527342713064c87612d00d8557c53d53d5324a0/expr.png\" style=\"display:inline;vertical-align:middle;\" /></a> : <a class=\"ProveItLink\" href=\"../../../__pv_it/985a1bdf1540838275dec15f4ad6de261cca93ce0/expr.ipynb\"><img src=\"../../../__pv_it/985a1bdf1540838275dec15f4ad6de261cca93ce0/expr.png\" style=\"display:inline;vertical-align:middle;\" /></a>, <a class=\"ProveItLink\" href=\"../../../__pv_it/6840a4fa6c106149dc16a131294d0c5e44f1b0480/expr.ipynb\"><img src=\"../../../__pv_it/6840a4fa6c106149dc16a131294d0c5e44f1b0480/expr.png\" style=\"display:inline;vertical-align:middle;\" /></a> : <a class=\"ProveItLink\" href=\"../../../__pv_it/185e6d30f167ee2ee5ef3321098dc98e0d77bc590/expr.ipynb\"><img src=\"../../../__pv_it/185e6d30f167ee2ee5ef3321098dc98e0d77bc590/expr.png\" style=\"display:inline;vertical-align:middle;\" /></a></span></td></tr><tr><td>9</td><td>theorem</td><td></td><td><span style=\"font-size:20px;\"> &#x22A2;&nbsp;<a class=\"ProveItLink\" href=\"../../../number/numeral/deci/__pv_it/5b6ff6a2fca03ad41d2a3084e44fbb28428ffb6a0/expr.ipynb\"><img src=\"../../../number/numeral/deci/__pv_it/5b6ff6a2fca03ad41d2a3084e44fbb28428ffb6a0/expr.png\" style=\"display:inline;vertical-align:middle;\" /></a></span></td></tr>\n",
       "<tr><td>&nbsp;</td><td colspan=4 style-\"text-align:left\"><a class=\"ProveItLink\" href=\"../../../number/numeral/deci/_proofs_/add_1_1.ipynb\">proveit.number.numeral.deci.add_1_1</a></td></tr><tr><td>10</td><td>assumption</td><td></td><td><span style=\"font-size:20px;\"><a class=\"ProveItLink\" href=\"__pv_it/017ca8cfa034181c90ba15dd10869f0f4e516d6a0/expr.ipynb\"><img src=\"__pv_it/017ca8cfa034181c90ba15dd10869f0f4e516d6a0/expr.png\" style=\"display:inline;vertical-align:middle;\" /></a> &#x22A2;&nbsp;<a class=\"ProveItLink\" href=\"__pv_it/03a5c2b5cc6fc2c3cd686b4bcf84379b893abe210/expr.ipynb\"><img src=\"__pv_it/03a5c2b5cc6fc2c3cd686b4bcf84379b893abe210/expr.png\" style=\"display:inline;vertical-align:middle;\" /></a></span></td></tr>\n",
       "<tr><td>11</td><td>assumption</td><td></td><td><span style=\"font-size:20px;\"><a class=\"ProveItLink\" href=\"__pv_it/2c2e947402f53b9e11cd7769e1b5b3378595750e0/expr.ipynb\"><img src=\"__pv_it/2c2e947402f53b9e11cd7769e1b5b3378595750e0/expr.png\" style=\"display:inline;vertical-align:middle;\" /></a> &#x22A2;&nbsp;<a class=\"ProveItLink\" href=\"__pv_it/fe5c91c77f0659f9ea07a2e3257797875d6868370/expr.ipynb\"><img src=\"__pv_it/fe5c91c77f0659f9ea07a2e3257797875d6868370/expr.png\" style=\"display:inline;vertical-align:middle;\" /></a></span></td></tr>\n",
       "<tr><td>12</td><td>theorem</td><td></td><td><span style=\"font-size:20px;\"> &#x22A2;&nbsp;<a class=\"ProveItLink\" href=\"../../set_theory/membership/__pv_it/9ac424c71798aca56b25ebe33a7a41dbaa332c490/expr.ipynb\"><img src=\"../../set_theory/membership/__pv_it/9ac424c71798aca56b25ebe33a7a41dbaa332c490/expr.png\" style=\"display:inline;vertical-align:middle;\" /></a></span></td></tr>\n",
       "<tr><td>&nbsp;</td><td colspan=4 style-\"text-align:left\"><a class=\"ProveItLink\" href=\"../../set_theory/membership/_proofs_/exp_set_2.ipynb\">proveit.logic.set_theory.membership.exp_set_2</a></td></tr><tr><td>13</td><td>assumption</td><td></td><td><span style=\"font-size:20px;\"><a class=\"ProveItLink\" href=\"__pv_it/549ecf82a9d4ac5ca0750c6c3aaf83e6e7209ca90/expr.ipynb\"><img src=\"__pv_it/549ecf82a9d4ac5ca0750c6c3aaf83e6e7209ca90/expr.png\" style=\"display:inline;vertical-align:middle;\" /></a> &#x22A2;&nbsp;<a class=\"ProveItLink\" href=\"__pv_it/2cec3c732aceb253233bb533d4e43cc3f34f4f660/expr.ipynb\"><img src=\"__pv_it/2cec3c732aceb253233bb533d4e43cc3f34f4f660/expr.png\" style=\"display:inline;vertical-align:middle;\" /></a></span></td></tr>\n",
       "<tr><td>14</td><td>assumption</td><td></td><td><span style=\"font-size:20px;\"><a class=\"ProveItLink\" href=\"__pv_it/aa3618fdfba9edc866f19a2dbc2f7cde292ff1c70/expr.ipynb\"><img src=\"__pv_it/aa3618fdfba9edc866f19a2dbc2f7cde292ff1c70/expr.png\" style=\"display:inline;vertical-align:middle;\" /></a> &#x22A2;&nbsp;<a class=\"ProveItLink\" href=\"__pv_it/3891b823dfb55f51d513cc7144556dc1bfd425b70/expr.ipynb\"><img src=\"__pv_it/3891b823dfb55f51d513cc7144556dc1bfd425b70/expr.png\" style=\"display:inline;vertical-align:middle;\" /></a></span></td></tr>\n",
       "</table>"
      ],
      "text/plain": [
       "\tstep type\trequirements\tstatement\n",
       "0\tspecialization\t1, 2\t{B in BOOLEANS , C in BOOLEANS , D in BOOLEANS , A in BOOLEANS} |- (A or B or TRUE or C or D) = TRUE\n",
       "\tA : A or B or TRUE or C or D\n",
       "1\taxiom\t\t|- forall_{A | A} (A = TRUE)\n",
       "\tproveit.logic.boolean.eqTrueIntro\n",
       "2\tspecialization\t3, 4, 5, 6, 7, 8, 9\t{A in BOOLEANS , B in BOOLEANS , C in BOOLEANS , D in BOOLEANS} |- A or B or TRUE or C or D\n",
       "\tm : 2, n : 2, A : (A , B), B : TRUE, C : (C , D)\n",
       "3\ttheorem\t\t|- forall_{m, n in Naturals} [forall_{(A, B, C) in BOOLEANS^{m} * BOOLEANS * BOOLEANS^{n} | B} (A_1 or  ...  or A_m or B or C_1 or  ...  or C_n)]\n",
       "\tproveit.logic.boolean.disjunction.orIfAny\n",
       "4\ttheorem\t\t|- 2 in Naturals\n",
       "\tproveit.number.numeral.deci.nat2\n",
       "5\tspecialization\t12, 10, 11\t{A in BOOLEANS , B in BOOLEANS} |- (A , B) in BOOLEANS^{2}\n",
       "\tS : BOOLEANS, a : A, b : B\n",
       "6\ttheorem\t\t|- TRUE in BOOLEANS\n",
       "\tproveit.logic.boolean.trueInBool\n",
       "7\taxiom\t\t|- TRUE\n",
       "\tproveit.logic.boolean.trueAxiom\n",
       "8\tspecialization\t12, 13, 14\t{C in BOOLEANS , D in BOOLEANS} |- (C , D) in BOOLEANS^{2}\n",
       "\tS : BOOLEANS, a : C, b : D\n",
       "9\ttheorem\t\t|- (1 + 1) = 2\n",
       "\tproveit.number.numeral.deci.add_1_1\n",
       "10\tassumption\t\t{A in BOOLEANS} |- A in BOOLEANS\n",
       "11\tassumption\t\t{B in BOOLEANS} |- B in BOOLEANS\n",
       "12\ttheorem\t\t|- forall_{S} [forall_{a, b in S} ((a , b) in S^{2})]\n",
       "\tproveit.logic.set_theory.membership.exp_set_2\n",
       "13\tassumption\t\t{C in BOOLEANS} |- C in BOOLEANS\n",
       "14\tassumption\t\t{D in BOOLEANS} |- D in BOOLEANS"
      ]
     },
     "execution_count": 42,
     "metadata": {},
     "output_type": "execute_result"
    }
   ],
   "source": [
    "Or(A,B,TRUE,C,D).evaluation([inBool(A), inBool(B), inBool(C), inBool(D)]).proof()"
   ]
  },
  {
   "cell_type": "markdown",
   "metadata": {},
   "source": [
    "falseEval"
   ]
  },
  {
   "cell_type": "code",
   "execution_count": 43,
   "metadata": {},
   "outputs": [
    {
     "data": {
      "text/html": [
       "<table><tr><th>&nbsp;</th><th>step type</th><th>requirements</th><th>statement</th></tr>\n",
       "<tr><td>0</td><td>specialization</td><td>1, 2</td><td><span style=\"font-size:20px;\"><a class=\"ProveItLink\" href=\"__pv_it/c56fefc9abc96baa86e749b925325df144f2a1750/expr.ipynb\"><img src=\"__pv_it/c56fefc9abc96baa86e749b925325df144f2a1750/expr.png\" style=\"display:inline;vertical-align:middle;\" /></a> &#x22A2;&nbsp;<a class=\"ProveItLink\" href=\"__pv_it/4fc0073c8487abbd7951b806f35a040aca06acb70/expr.ipynb\"><img src=\"__pv_it/4fc0073c8487abbd7951b806f35a040aca06acb70/expr.png\" style=\"display:inline;vertical-align:middle;\" /></a></span></td></tr>\n",
       "<tr><td>&nbsp;</td><td colspan=4 style=\"text-align:left\"><span style=\"font-size:20px;\"><a class=\"ProveItLink\" href=\"../../../__pv_it/2cbe72a7ad6f655694dd697106680215e8489b600/expr.ipynb\"><img src=\"../../../__pv_it/2cbe72a7ad6f655694dd697106680215e8489b600/expr.png\" style=\"display:inline;vertical-align:middle;\" /></a> : <a class=\"ProveItLink\" href=\"__pv_it/081f8b676821fa28f4eee7c26e5e1e191452a5b80/expr.ipynb\"><img src=\"__pv_it/081f8b676821fa28f4eee7c26e5e1e191452a5b80/expr.png\" style=\"display:inline;vertical-align:middle;\" /></a></span></td></tr><tr><td>1</td><td>axiom</td><td></td><td><span style=\"font-size:20px;\"> &#x22A2;&nbsp;<a class=\"ProveItLink\" href=\"../negation/__pv_it/ff54988b43a873b48cad467afd8955bd0735c0210/expr.ipynb\"><img src=\"../negation/__pv_it/ff54988b43a873b48cad467afd8955bd0735c0210/expr.png\" style=\"display:inline;vertical-align:middle;\" /></a></span></td></tr>\n",
       "<tr><td>&nbsp;</td><td colspan=4 style-\"text-align:left\"><a class=\"ProveItLink\" href=\"../negation/_axioms_.ipynb#negationElim\">proveit.logic.boolean.negation.negationElim</a></td></tr><tr><td>2</td><td>specialization</td><td>3, 4, 5, 6, 7, 8, 9, 10, 11</td><td><span style=\"font-size:20px;\"><a class=\"ProveItLink\" href=\"__pv_it/c56fefc9abc96baa86e749b925325df144f2a1750/expr.ipynb\"><img src=\"__pv_it/c56fefc9abc96baa86e749b925325df144f2a1750/expr.png\" style=\"display:inline;vertical-align:middle;\" /></a> &#x22A2;&nbsp;<a class=\"ProveItLink\" href=\"__pv_it/efb8b4ad78ea955aa0b396fb3e9b60207f787b040/expr.ipynb\"><img src=\"__pv_it/efb8b4ad78ea955aa0b396fb3e9b60207f787b040/expr.png\" style=\"display:inline;vertical-align:middle;\" /></a></span></td></tr>\n",
       "<tr><td>&nbsp;</td><td colspan=4 style=\"text-align:left\"><span style=\"font-size:20px;\"><a class=\"ProveItLink\" href=\"../../../__pv_it/78af03acba5349fd70398a32ce59bae1da52f0870/expr.ipynb\"><img src=\"../../../__pv_it/78af03acba5349fd70398a32ce59bae1da52f0870/expr.png\" style=\"display:inline;vertical-align:middle;\" /></a> : <a class=\"ProveItLink\" href=\"../../../number/numeral/__pv_it/23412ce59ea7e77353d2f9225e02248e73651ca00/expr.ipynb\"><img src=\"../../../number/numeral/__pv_it/23412ce59ea7e77353d2f9225e02248e73651ca00/expr.png\" style=\"display:inline;vertical-align:middle;\" /></a>, <a class=\"ProveItLink\" href=\"../../../__pv_it/eb438fefc4bd0ac977777d6dfd3e8a72dfbedbd50/expr.ipynb\"><img src=\"../../../__pv_it/eb438fefc4bd0ac977777d6dfd3e8a72dfbedbd50/expr.png\" style=\"display:inline;vertical-align:middle;\" /></a> : <a class=\"ProveItLink\" href=\"__pv_it/ba51a0fc910408dc1211c29b03a29f7cec842b550/expr.ipynb\"><img src=\"__pv_it/ba51a0fc910408dc1211c29b03a29f7cec842b550/expr.png\" style=\"display:inline;vertical-align:middle;\" /></a></span></td></tr><tr><td>3</td><td>theorem</td><td></td><td><span style=\"font-size:20px;\"> &#x22A2;&nbsp;<a class=\"ProveItLink\" href=\"__pv_it/f5054f3b6ed3e362bf7b7b3fc8e18b49789bbf3b0/expr.ipynb\"><img src=\"__pv_it/f5054f3b6ed3e362bf7b7b3fc8e18b49789bbf3b0/expr.png\" style=\"display:inline;vertical-align:middle;\" /></a></span></td></tr>\n",
       "<tr><td>&nbsp;</td><td colspan=4 style-\"text-align:left\"><a class=\"ProveItLink\" href=\"_proofs_/notOrIfNotAny.ipynb\">proveit.logic.boolean.disjunction.notOrIfNotAny</a></td></tr><tr><td>4</td><td>theorem</td><td></td><td><span style=\"font-size:20px;\"> &#x22A2;&nbsp;<a class=\"ProveItLink\" href=\"../../../number/numeral/deci/__pv_it/3fc93db3b3fd1b15204240d9de18a48656bfb08c0/expr.ipynb\"><img src=\"../../../number/numeral/deci/__pv_it/3fc93db3b3fd1b15204240d9de18a48656bfb08c0/expr.png\" style=\"display:inline;vertical-align:middle;\" /></a></span></td></tr>\n",
       "<tr><td>&nbsp;</td><td colspan=4 style-\"text-align:left\"><a class=\"ProveItLink\" href=\"../../../number/numeral/deci/_proofs_/nat4.ipynb\">proveit.number.numeral.deci.nat4</a></td></tr><tr><td>5</td><td>specialization</td><td>15, 12</td><td><span style=\"font-size:20px;\"><a class=\"ProveItLink\" href=\"__pv_it/9764f8a01bfa57c7e6e60f910a20f3a38f4dfdc30/expr.ipynb\"><img src=\"__pv_it/9764f8a01bfa57c7e6e60f910a20f3a38f4dfdc30/expr.png\" style=\"display:inline;vertical-align:middle;\" /></a> &#x22A2;&nbsp;<a class=\"ProveItLink\" href=\"__pv_it/feaa1d0e6d92ad9ead8e5ffd1f92697e3912387a0/expr.ipynb\"><img src=\"__pv_it/feaa1d0e6d92ad9ead8e5ffd1f92697e3912387a0/expr.png\" style=\"display:inline;vertical-align:middle;\" /></a></span></td></tr>\n",
       "<tr><td>&nbsp;</td><td colspan=4 style=\"text-align:left\"><span style=\"font-size:20px;\"><a class=\"ProveItLink\" href=\"../../../__pv_it/2cbe72a7ad6f655694dd697106680215e8489b600/expr.ipynb\"><img src=\"../../../__pv_it/2cbe72a7ad6f655694dd697106680215e8489b600/expr.png\" style=\"display:inline;vertical-align:middle;\" /></a> : <a class=\"ProveItLink\" href=\"../../../__pv_it/2cbe72a7ad6f655694dd697106680215e8489b600/expr.ipynb\"><img src=\"../../../__pv_it/2cbe72a7ad6f655694dd697106680215e8489b600/expr.png\" style=\"display:inline;vertical-align:middle;\" /></a></span></td></tr><tr><td>6</td><td>specialization</td><td>15, 13</td><td><span style=\"font-size:20px;\"><a class=\"ProveItLink\" href=\"__pv_it/2ac1767c17febc61a526d5888ee8438e71e1c4670/expr.ipynb\"><img src=\"__pv_it/2ac1767c17febc61a526d5888ee8438e71e1c4670/expr.png\" style=\"display:inline;vertical-align:middle;\" /></a> &#x22A2;&nbsp;<a class=\"ProveItLink\" href=\"__pv_it/1da4e2fe7c44632f084fa27ea32e26dc689384c20/expr.ipynb\"><img src=\"__pv_it/1da4e2fe7c44632f084fa27ea32e26dc689384c20/expr.png\" style=\"display:inline;vertical-align:middle;\" /></a></span></td></tr>\n",
       "<tr><td>&nbsp;</td><td colspan=4 style=\"text-align:left\"><span style=\"font-size:20px;\"><a class=\"ProveItLink\" href=\"../../../__pv_it/2cbe72a7ad6f655694dd697106680215e8489b600/expr.ipynb\"><img src=\"../../../__pv_it/2cbe72a7ad6f655694dd697106680215e8489b600/expr.png\" style=\"display:inline;vertical-align:middle;\" /></a> : <a class=\"ProveItLink\" href=\"../../../__pv_it/077b2ff79244fb4582cbe22c6e3356fa92a52f2f0/expr.ipynb\"><img src=\"../../../__pv_it/077b2ff79244fb4582cbe22c6e3356fa92a52f2f0/expr.png\" style=\"display:inline;vertical-align:middle;\" /></a></span></td></tr><tr><td>7</td><td>specialization</td><td>15, 14</td><td><span style=\"font-size:20px;\"><a class=\"ProveItLink\" href=\"__pv_it/3d76e419391b390c62634964a2efa7096eacbe400/expr.ipynb\"><img src=\"__pv_it/3d76e419391b390c62634964a2efa7096eacbe400/expr.png\" style=\"display:inline;vertical-align:middle;\" /></a> &#x22A2;&nbsp;<a class=\"ProveItLink\" href=\"__pv_it/4fbdcb4671f0f96544ca64362db2c9fec03a54b30/expr.ipynb\"><img src=\"__pv_it/4fbdcb4671f0f96544ca64362db2c9fec03a54b30/expr.png\" style=\"display:inline;vertical-align:middle;\" /></a></span></td></tr>\n",
       "<tr><td>&nbsp;</td><td colspan=4 style=\"text-align:left\"><span style=\"font-size:20px;\"><a class=\"ProveItLink\" href=\"../../../__pv_it/2cbe72a7ad6f655694dd697106680215e8489b600/expr.ipynb\"><img src=\"../../../__pv_it/2cbe72a7ad6f655694dd697106680215e8489b600/expr.png\" style=\"display:inline;vertical-align:middle;\" /></a> : <a class=\"ProveItLink\" href=\"../../../__pv_it/985a1bdf1540838275dec15f4ad6de261cca93ce0/expr.ipynb\"><img src=\"../../../__pv_it/985a1bdf1540838275dec15f4ad6de261cca93ce0/expr.png\" style=\"display:inline;vertical-align:middle;\" /></a></span></td></tr><tr><td>8</td><td>specialization</td><td>15, 16</td><td><span style=\"font-size:20px;\"><a class=\"ProveItLink\" href=\"__pv_it/db5982108328991bf4e5aab92b249db4afb8532d0/expr.ipynb\"><img src=\"__pv_it/db5982108328991bf4e5aab92b249db4afb8532d0/expr.png\" style=\"display:inline;vertical-align:middle;\" /></a> &#x22A2;&nbsp;<a class=\"ProveItLink\" href=\"__pv_it/c73b4c1401958a1aff8e67e1df37ba89db69842c0/expr.ipynb\"><img src=\"__pv_it/c73b4c1401958a1aff8e67e1df37ba89db69842c0/expr.png\" style=\"display:inline;vertical-align:middle;\" /></a></span></td></tr>\n",
       "<tr><td>&nbsp;</td><td colspan=4 style=\"text-align:left\"><span style=\"font-size:20px;\"><a class=\"ProveItLink\" href=\"../../../__pv_it/2cbe72a7ad6f655694dd697106680215e8489b600/expr.ipynb\"><img src=\"../../../__pv_it/2cbe72a7ad6f655694dd697106680215e8489b600/expr.png\" style=\"display:inline;vertical-align:middle;\" /></a> : <a class=\"ProveItLink\" href=\"../../../__pv_it/185e6d30f167ee2ee5ef3321098dc98e0d77bc590/expr.ipynb\"><img src=\"../../../__pv_it/185e6d30f167ee2ee5ef3321098dc98e0d77bc590/expr.png\" style=\"display:inline;vertical-align:middle;\" /></a></span></td></tr><tr><td>9</td><td>theorem</td><td></td><td><span style=\"font-size:20px;\"> &#x22A2;&nbsp;<a class=\"ProveItLink\" href=\"../../../number/numeral/deci/__pv_it/5b6ff6a2fca03ad41d2a3084e44fbb28428ffb6a0/expr.ipynb\"><img src=\"../../../number/numeral/deci/__pv_it/5b6ff6a2fca03ad41d2a3084e44fbb28428ffb6a0/expr.png\" style=\"display:inline;vertical-align:middle;\" /></a></span></td></tr>\n",
       "<tr><td>&nbsp;</td><td colspan=4 style-\"text-align:left\"><a class=\"ProveItLink\" href=\"../../../number/numeral/deci/_proofs_/add_1_1.ipynb\">proveit.number.numeral.deci.add_1_1</a></td></tr><tr><td>10</td><td>theorem</td><td></td><td><span style=\"font-size:20px;\"> &#x22A2;&nbsp;<a class=\"ProveItLink\" href=\"../../../number/numeral/deci/__pv_it/349c663074c343ced32577f83aa9971191d0752c0/expr.ipynb\"><img src=\"../../../number/numeral/deci/__pv_it/349c663074c343ced32577f83aa9971191d0752c0/expr.png\" style=\"display:inline;vertical-align:middle;\" /></a></span></td></tr>\n",
       "<tr><td>&nbsp;</td><td colspan=4 style-\"text-align:left\"><a class=\"ProveItLink\" href=\"../../../number/numeral/deci/_proofs_/add_2_1.ipynb\">proveit.number.numeral.deci.add_2_1</a></td></tr><tr><td>11</td><td>theorem</td><td></td><td><span style=\"font-size:20px;\"> &#x22A2;&nbsp;<a class=\"ProveItLink\" href=\"../../../number/numeral/deci/__pv_it/9b6fcf185675beb8420ce00c17510693f9522a6a0/expr.ipynb\"><img src=\"../../../number/numeral/deci/__pv_it/9b6fcf185675beb8420ce00c17510693f9522a6a0/expr.png\" style=\"display:inline;vertical-align:middle;\" /></a></span></td></tr>\n",
       "<tr><td>&nbsp;</td><td colspan=4 style-\"text-align:left\"><a class=\"ProveItLink\" href=\"../../../number/numeral/deci/_proofs_/add_3_1.ipynb\">proveit.number.numeral.deci.add_3_1</a></td></tr><tr><td>12</td><td>assumption</td><td></td><td><span style=\"font-size:20px;\"><a class=\"ProveItLink\" href=\"__pv_it/9764f8a01bfa57c7e6e60f910a20f3a38f4dfdc30/expr.ipynb\"><img src=\"__pv_it/9764f8a01bfa57c7e6e60f910a20f3a38f4dfdc30/expr.png\" style=\"display:inline;vertical-align:middle;\" /></a> &#x22A2;&nbsp;<a class=\"ProveItLink\" href=\"__pv_it/59b818aa3070d9f9cb643715737df9a2274cbc840/expr.ipynb\"><img src=\"__pv_it/59b818aa3070d9f9cb643715737df9a2274cbc840/expr.png\" style=\"display:inline;vertical-align:middle;\" /></a></span></td></tr>\n",
       "<tr><td>13</td><td>assumption</td><td></td><td><span style=\"font-size:20px;\"><a class=\"ProveItLink\" href=\"__pv_it/2ac1767c17febc61a526d5888ee8438e71e1c4670/expr.ipynb\"><img src=\"__pv_it/2ac1767c17febc61a526d5888ee8438e71e1c4670/expr.png\" style=\"display:inline;vertical-align:middle;\" /></a> &#x22A2;&nbsp;<a class=\"ProveItLink\" href=\"__pv_it/0e6513d9653529587ef99bc5f365bb0e33131b8f0/expr.ipynb\"><img src=\"__pv_it/0e6513d9653529587ef99bc5f365bb0e33131b8f0/expr.png\" style=\"display:inline;vertical-align:middle;\" /></a></span></td></tr>\n",
       "<tr><td>14</td><td>assumption</td><td></td><td><span style=\"font-size:20px;\"><a class=\"ProveItLink\" href=\"__pv_it/3d76e419391b390c62634964a2efa7096eacbe400/expr.ipynb\"><img src=\"__pv_it/3d76e419391b390c62634964a2efa7096eacbe400/expr.png\" style=\"display:inline;vertical-align:middle;\" /></a> &#x22A2;&nbsp;<a class=\"ProveItLink\" href=\"__pv_it/978a802e225ee356f67dee0674419a9ac9d9bbb20/expr.ipynb\"><img src=\"__pv_it/978a802e225ee356f67dee0674419a9ac9d9bbb20/expr.png\" style=\"display:inline;vertical-align:middle;\" /></a></span></td></tr>\n",
       "<tr><td>15</td><td>axiom</td><td></td><td><span style=\"font-size:20px;\"> &#x22A2;&nbsp;<a class=\"ProveItLink\" href=\"../negation/__pv_it/bd349bf529bb24ca3489b99b360030e1baddcd2c0/expr.ipynb\"><img src=\"../negation/__pv_it/bd349bf529bb24ca3489b99b360030e1baddcd2c0/expr.png\" style=\"display:inline;vertical-align:middle;\" /></a></span></td></tr>\n",
       "<tr><td>&nbsp;</td><td colspan=4 style-\"text-align:left\"><a class=\"ProveItLink\" href=\"../negation/_axioms_.ipynb#negationIntro\">proveit.logic.boolean.negation.negationIntro</a></td></tr><tr><td>16</td><td>assumption</td><td></td><td><span style=\"font-size:20px;\"><a class=\"ProveItLink\" href=\"__pv_it/db5982108328991bf4e5aab92b249db4afb8532d0/expr.ipynb\"><img src=\"__pv_it/db5982108328991bf4e5aab92b249db4afb8532d0/expr.png\" style=\"display:inline;vertical-align:middle;\" /></a> &#x22A2;&nbsp;<a class=\"ProveItLink\" href=\"__pv_it/f66c09eaf712148ae105ed80d37beecd006d4b160/expr.ipynb\"><img src=\"__pv_it/f66c09eaf712148ae105ed80d37beecd006d4b160/expr.png\" style=\"display:inline;vertical-align:middle;\" /></a></span></td></tr>\n",
       "</table>"
      ],
      "text/plain": [
       "\tstep type\trequirements\tstatement\n",
       "0\tspecialization\t1, 2\t{A = FALSE , B = FALSE , C = FALSE , D = FALSE} |- (A or B or C or D) = FALSE\n",
       "\tA : A or B or C or D\n",
       "1\taxiom\t\t|- forall_{A | [not](A)} (A = FALSE)\n",
       "\tproveit.logic.boolean.negation.negationElim\n",
       "2\tspecialization\t3, 4, 5, 6, 7, 8, 9, 10, 11\t{A = FALSE , B = FALSE , C = FALSE , D = FALSE} |- [not](A or B or C or D)\n",
       "\tm : 4, A : (A , B , C , D)\n",
       "3\ttheorem\t\t|- forall_{m in Naturals} [forall_{A | [not](A_1) ,  ...  , [not](A_m)} [not](A_1 or  ...  or A_m)]\n",
       "\tproveit.logic.boolean.disjunction.notOrIfNotAny\n",
       "4\ttheorem\t\t|- 4 in Naturals\n",
       "\tproveit.number.numeral.deci.nat4\n",
       "5\tspecialization\t15, 12\t{A = FALSE} |- [not](A)\n",
       "\tA : A\n",
       "6\tspecialization\t15, 13\t{B = FALSE} |- [not](B)\n",
       "\tA : B\n",
       "7\tspecialization\t15, 14\t{C = FALSE} |- [not](C)\n",
       "\tA : C\n",
       "8\tspecialization\t15, 16\t{D = FALSE} |- [not](D)\n",
       "\tA : D\n",
       "9\ttheorem\t\t|- (1 + 1) = 2\n",
       "\tproveit.number.numeral.deci.add_1_1\n",
       "10\ttheorem\t\t|- (2 + 1) = 3\n",
       "\tproveit.number.numeral.deci.add_2_1\n",
       "11\ttheorem\t\t|- (3 + 1) = 4\n",
       "\tproveit.number.numeral.deci.add_3_1\n",
       "12\tassumption\t\t{A = FALSE} |- A = FALSE\n",
       "13\tassumption\t\t{B = FALSE} |- B = FALSE\n",
       "14\tassumption\t\t{C = FALSE} |- C = FALSE\n",
       "15\taxiom\t\t|- forall_{A | A = FALSE} [not](A)\n",
       "\tproveit.logic.boolean.negation.negationIntro\n",
       "16\tassumption\t\t{D = FALSE} |- D = FALSE"
      ]
     },
     "execution_count": 43,
     "metadata": {},
     "output_type": "execute_result"
    }
   ],
   "source": [
    "Equals(Or(A,B,C,D),FALSE).prove([Equals(A,FALSE), Equals(B,FALSE),Equals(C,FALSE),Equals(D,FALSE)]).proof()"
   ]
  },
  {
   "cell_type": "code",
   "execution_count": 44,
   "metadata": {},
   "outputs": [
    {
     "data": {
      "text/html": [
       "<table><tr><th>&nbsp;</th><th>step type</th><th>requirements</th><th>statement</th></tr>\n",
       "<tr><td>0</td><td>specialization</td><td>1, 2, 3</td><td><span style=\"font-size:20px;\"><a class=\"ProveItLink\" href=\"__pv_it/1cfd36f54dadf8eaa971948fe28d325742cb751f0/expr.ipynb\"><img src=\"__pv_it/1cfd36f54dadf8eaa971948fe28d325742cb751f0/expr.png\" style=\"display:inline;vertical-align:middle;\" /></a> &#x22A2;&nbsp;<a class=\"ProveItLink\" href=\"__pv_it/12b3a0266bf45bf38a05a65053437e478a9644610/expr.ipynb\"><img src=\"__pv_it/12b3a0266bf45bf38a05a65053437e478a9644610/expr.png\" style=\"display:inline;vertical-align:middle;\" /></a></span></td></tr>\n",
       "<tr><td>&nbsp;</td><td colspan=4 style=\"text-align:left\"><span style=\"font-size:20px;\"><a class=\"ProveItLink\" href=\"../../../__pv_it/2cbe72a7ad6f655694dd697106680215e8489b600/expr.ipynb\"><img src=\"../../../__pv_it/2cbe72a7ad6f655694dd697106680215e8489b600/expr.png\" style=\"display:inline;vertical-align:middle;\" /></a> : <a class=\"ProveItLink\" href=\"../../../__pv_it/2cbe72a7ad6f655694dd697106680215e8489b600/expr.ipynb\"><img src=\"../../../__pv_it/2cbe72a7ad6f655694dd697106680215e8489b600/expr.png\" style=\"display:inline;vertical-align:middle;\" /></a>, <a class=\"ProveItLink\" href=\"../../../__pv_it/077b2ff79244fb4582cbe22c6e3356fa92a52f2f0/expr.ipynb\"><img src=\"../../../__pv_it/077b2ff79244fb4582cbe22c6e3356fa92a52f2f0/expr.png\" style=\"display:inline;vertical-align:middle;\" /></a> : <a class=\"ProveItLink\" href=\"../../../__pv_it/077b2ff79244fb4582cbe22c6e3356fa92a52f2f0/expr.ipynb\"><img src=\"../../../__pv_it/077b2ff79244fb4582cbe22c6e3356fa92a52f2f0/expr.png\" style=\"display:inline;vertical-align:middle;\" /></a></span></td></tr><tr><td>1</td><td>theorem</td><td></td><td><span style=\"font-size:20px;\"> &#x22A2;&nbsp;<a class=\"ProveItLink\" href=\"__pv_it/39441255e3cd9fbcda2663152b054e4ca715853b0/expr.ipynb\"><img src=\"__pv_it/39441255e3cd9fbcda2663152b054e4ca715853b0/expr.png\" style=\"display:inline;vertical-align:middle;\" /></a></span></td></tr>\n",
       "<tr><td>&nbsp;</td><td colspan=4 style-\"text-align:left\"><a class=\"ProveItLink\" href=\"_proofs_/binaryClosure.ipynb\">proveit.logic.boolean.disjunction.binaryClosure</a></td></tr><tr><td>2</td><td>assumption</td><td></td><td><span style=\"font-size:20px;\"><a class=\"ProveItLink\" href=\"__pv_it/017ca8cfa034181c90ba15dd10869f0f4e516d6a0/expr.ipynb\"><img src=\"__pv_it/017ca8cfa034181c90ba15dd10869f0f4e516d6a0/expr.png\" style=\"display:inline;vertical-align:middle;\" /></a> &#x22A2;&nbsp;<a class=\"ProveItLink\" href=\"__pv_it/03a5c2b5cc6fc2c3cd686b4bcf84379b893abe210/expr.ipynb\"><img src=\"__pv_it/03a5c2b5cc6fc2c3cd686b4bcf84379b893abe210/expr.png\" style=\"display:inline;vertical-align:middle;\" /></a></span></td></tr>\n",
       "<tr><td>3</td><td>assumption</td><td></td><td><span style=\"font-size:20px;\"><a class=\"ProveItLink\" href=\"__pv_it/2c2e947402f53b9e11cd7769e1b5b3378595750e0/expr.ipynb\"><img src=\"__pv_it/2c2e947402f53b9e11cd7769e1b5b3378595750e0/expr.png\" style=\"display:inline;vertical-align:middle;\" /></a> &#x22A2;&nbsp;<a class=\"ProveItLink\" href=\"__pv_it/fe5c91c77f0659f9ea07a2e3257797875d6868370/expr.ipynb\"><img src=\"__pv_it/fe5c91c77f0659f9ea07a2e3257797875d6868370/expr.png\" style=\"display:inline;vertical-align:middle;\" /></a></span></td></tr>\n",
       "</table>"
      ],
      "text/plain": [
       "\tstep type\trequirements\tstatement\n",
       "0\tspecialization\t1, 2, 3\t{A in BOOLEANS , B in BOOLEANS} |- (A or B) in BOOLEANS\n",
       "\tA : A, B : B\n",
       "1\ttheorem\t\t|- forall_{A, B in BOOLEANS} ((A or B) in BOOLEANS)\n",
       "\tproveit.logic.boolean.disjunction.binaryClosure\n",
       "2\tassumption\t\t{A in BOOLEANS} |- A in BOOLEANS\n",
       "3\tassumption\t\t{B in BOOLEANS} |- B in BOOLEANS"
      ]
     },
     "execution_count": 44,
     "metadata": {},
     "output_type": "execute_result"
    }
   ],
   "source": [
    "inBool(Or(A,B)).prove([inBool(A), inBool(B)]).proof()"
   ]
  },
  {
   "cell_type": "code",
   "execution_count": 45,
   "metadata": {},
   "outputs": [
    {
     "data": {
      "text/html": [
       "<table><tr><th>&nbsp;</th><th>step type</th><th>requirements</th><th>statement</th></tr>\n",
       "<tr><td>0</td><td>specialization</td><td>1, 2, 3, 4, 5, 6</td><td><span style=\"font-size:20px;\"><a class=\"ProveItLink\" href=\"__pv_it/f28f9b812246a6c4975e6f67667fe62b1fba502a0/expr.ipynb\"><img src=\"__pv_it/f28f9b812246a6c4975e6f67667fe62b1fba502a0/expr.png\" style=\"display:inline;vertical-align:middle;\" /></a> &#x22A2;&nbsp;<a class=\"ProveItLink\" href=\"__pv_it/542994d0ed684b4561089fa3677eb846adb2d58d0/expr.ipynb\"><img src=\"__pv_it/542994d0ed684b4561089fa3677eb846adb2d58d0/expr.png\" style=\"display:inline;vertical-align:middle;\" /></a></span></td></tr>\n",
       "<tr><td>&nbsp;</td><td colspan=4 style=\"text-align:left\"><span style=\"font-size:20px;\"><a class=\"ProveItLink\" href=\"../../../__pv_it/78af03acba5349fd70398a32ce59bae1da52f0870/expr.ipynb\"><img src=\"../../../__pv_it/78af03acba5349fd70398a32ce59bae1da52f0870/expr.png\" style=\"display:inline;vertical-align:middle;\" /></a> : <a class=\"ProveItLink\" href=\"../../../number/numeral/__pv_it/23412ce59ea7e77353d2f9225e02248e73651ca00/expr.ipynb\"><img src=\"../../../number/numeral/__pv_it/23412ce59ea7e77353d2f9225e02248e73651ca00/expr.png\" style=\"display:inline;vertical-align:middle;\" /></a>, <a class=\"ProveItLink\" href=\"../../../__pv_it/eb438fefc4bd0ac977777d6dfd3e8a72dfbedbd50/expr.ipynb\"><img src=\"../../../__pv_it/eb438fefc4bd0ac977777d6dfd3e8a72dfbedbd50/expr.png\" style=\"display:inline;vertical-align:middle;\" /></a> : <a class=\"ProveItLink\" href=\"__pv_it/ba51a0fc910408dc1211c29b03a29f7cec842b550/expr.ipynb\"><img src=\"__pv_it/ba51a0fc910408dc1211c29b03a29f7cec842b550/expr.png\" style=\"display:inline;vertical-align:middle;\" /></a></span></td></tr><tr><td>1</td><td>theorem</td><td></td><td><span style=\"font-size:20px;\"> &#x22A2;&nbsp;<a class=\"ProveItLink\" href=\"__pv_it/2cb505713778067a1b94f558521c476c9ef7d74f0/expr.ipynb\"><img src=\"__pv_it/2cb505713778067a1b94f558521c476c9ef7d74f0/expr.png\" style=\"display:inline;vertical-align:middle;\" /></a></span></td></tr>\n",
       "<tr><td>&nbsp;</td><td colspan=4 style-\"text-align:left\"><a class=\"ProveItLink\" href=\"_proofs_/closure.ipynb\">proveit.logic.boolean.disjunction.closure</a></td></tr><tr><td>2</td><td>theorem</td><td></td><td><span style=\"font-size:20px;\"> &#x22A2;&nbsp;<a class=\"ProveItLink\" href=\"../../../number/numeral/deci/__pv_it/3fc93db3b3fd1b15204240d9de18a48656bfb08c0/expr.ipynb\"><img src=\"../../../number/numeral/deci/__pv_it/3fc93db3b3fd1b15204240d9de18a48656bfb08c0/expr.png\" style=\"display:inline;vertical-align:middle;\" /></a></span></td></tr>\n",
       "<tr><td>&nbsp;</td><td colspan=4 style-\"text-align:left\"><a class=\"ProveItLink\" href=\"../../../number/numeral/deci/_proofs_/nat4.ipynb\">proveit.number.numeral.deci.nat4</a></td></tr><tr><td>3</td><td>specialization</td><td>7, 8, 9, 10, 11</td><td><span style=\"font-size:20px;\"><a class=\"ProveItLink\" href=\"__pv_it/f28f9b812246a6c4975e6f67667fe62b1fba502a0/expr.ipynb\"><img src=\"__pv_it/f28f9b812246a6c4975e6f67667fe62b1fba502a0/expr.png\" style=\"display:inline;vertical-align:middle;\" /></a> &#x22A2;&nbsp;<a class=\"ProveItLink\" href=\"__pv_it/c7afd1ead8211492267b3cefac34659a98e80ce80/expr.ipynb\"><img src=\"__pv_it/c7afd1ead8211492267b3cefac34659a98e80ce80/expr.png\" style=\"display:inline;vertical-align:middle;\" /></a></span></td></tr>\n",
       "<tr><td>&nbsp;</td><td colspan=4 style=\"text-align:left\"><span style=\"font-size:20px;\"><a class=\"ProveItLink\" href=\"../../../__pv_it/abeee18594afe51bfb1be95d9591fbba24ac53f30/expr.ipynb\"><img src=\"../../../__pv_it/abeee18594afe51bfb1be95d9591fbba24ac53f30/expr.png\" style=\"display:inline;vertical-align:middle;\" /></a> : <a class=\"ProveItLink\" href=\"../__pv_it/46271c8230be96415d662709611f4ed2279d702b0/expr.ipynb\"><img src=\"../__pv_it/46271c8230be96415d662709611f4ed2279d702b0/expr.png\" style=\"display:inline;vertical-align:middle;\" /></a>, <a class=\"ProveItLink\" href=\"../../../__pv_it/07527342713064c87612d00d8557c53d53d5324a0/expr.ipynb\"><img src=\"../../../__pv_it/07527342713064c87612d00d8557c53d53d5324a0/expr.png\" style=\"display:inline;vertical-align:middle;\" /></a> : <a class=\"ProveItLink\" href=\"../../../__pv_it/2cbe72a7ad6f655694dd697106680215e8489b600/expr.ipynb\"><img src=\"../../../__pv_it/2cbe72a7ad6f655694dd697106680215e8489b600/expr.png\" style=\"display:inline;vertical-align:middle;\" /></a>, <a class=\"ProveItLink\" href=\"../../../__pv_it/6840a4fa6c106149dc16a131294d0c5e44f1b0480/expr.ipynb\"><img src=\"../../../__pv_it/6840a4fa6c106149dc16a131294d0c5e44f1b0480/expr.png\" style=\"display:inline;vertical-align:middle;\" /></a> : <a class=\"ProveItLink\" href=\"../../../__pv_it/077b2ff79244fb4582cbe22c6e3356fa92a52f2f0/expr.ipynb\"><img src=\"../../../__pv_it/077b2ff79244fb4582cbe22c6e3356fa92a52f2f0/expr.png\" style=\"display:inline;vertical-align:middle;\" /></a>, <a class=\"ProveItLink\" href=\"../../../__pv_it/cbdfda466482236edba0ce44ac7ef39cda0af7a40/expr.ipynb\"><img src=\"../../../__pv_it/cbdfda466482236edba0ce44ac7ef39cda0af7a40/expr.png\" style=\"display:inline;vertical-align:middle;\" /></a> : <a class=\"ProveItLink\" href=\"../../../__pv_it/985a1bdf1540838275dec15f4ad6de261cca93ce0/expr.ipynb\"><img src=\"../../../__pv_it/985a1bdf1540838275dec15f4ad6de261cca93ce0/expr.png\" style=\"display:inline;vertical-align:middle;\" /></a>, <a class=\"ProveItLink\" href=\"../../../__pv_it/3a5de44ed6135dbbdbbeec6704c741e238f127300/expr.ipynb\"><img src=\"../../../__pv_it/3a5de44ed6135dbbdbbeec6704c741e238f127300/expr.png\" style=\"display:inline;vertical-align:middle;\" /></a> : <a class=\"ProveItLink\" href=\"../../../__pv_it/185e6d30f167ee2ee5ef3321098dc98e0d77bc590/expr.ipynb\"><img src=\"../../../__pv_it/185e6d30f167ee2ee5ef3321098dc98e0d77bc590/expr.png\" style=\"display:inline;vertical-align:middle;\" /></a></span></td></tr><tr><td>4</td><td>theorem</td><td></td><td><span style=\"font-size:20px;\"> &#x22A2;&nbsp;<a class=\"ProveItLink\" href=\"../../../number/numeral/deci/__pv_it/5b6ff6a2fca03ad41d2a3084e44fbb28428ffb6a0/expr.ipynb\"><img src=\"../../../number/numeral/deci/__pv_it/5b6ff6a2fca03ad41d2a3084e44fbb28428ffb6a0/expr.png\" style=\"display:inline;vertical-align:middle;\" /></a></span></td></tr>\n",
       "<tr><td>&nbsp;</td><td colspan=4 style-\"text-align:left\"><a class=\"ProveItLink\" href=\"../../../number/numeral/deci/_proofs_/add_1_1.ipynb\">proveit.number.numeral.deci.add_1_1</a></td></tr><tr><td>5</td><td>theorem</td><td></td><td><span style=\"font-size:20px;\"> &#x22A2;&nbsp;<a class=\"ProveItLink\" href=\"../../../number/numeral/deci/__pv_it/349c663074c343ced32577f83aa9971191d0752c0/expr.ipynb\"><img src=\"../../../number/numeral/deci/__pv_it/349c663074c343ced32577f83aa9971191d0752c0/expr.png\" style=\"display:inline;vertical-align:middle;\" /></a></span></td></tr>\n",
       "<tr><td>&nbsp;</td><td colspan=4 style-\"text-align:left\"><a class=\"ProveItLink\" href=\"../../../number/numeral/deci/_proofs_/add_2_1.ipynb\">proveit.number.numeral.deci.add_2_1</a></td></tr><tr><td>6</td><td>theorem</td><td></td><td><span style=\"font-size:20px;\"> &#x22A2;&nbsp;<a class=\"ProveItLink\" href=\"../../../number/numeral/deci/__pv_it/9b6fcf185675beb8420ce00c17510693f9522a6a0/expr.ipynb\"><img src=\"../../../number/numeral/deci/__pv_it/9b6fcf185675beb8420ce00c17510693f9522a6a0/expr.png\" style=\"display:inline;vertical-align:middle;\" /></a></span></td></tr>\n",
       "<tr><td>&nbsp;</td><td colspan=4 style-\"text-align:left\"><a class=\"ProveItLink\" href=\"../../../number/numeral/deci/_proofs_/add_3_1.ipynb\">proveit.number.numeral.deci.add_3_1</a></td></tr><tr><td>7</td><td>theorem</td><td></td><td><span style=\"font-size:20px;\"> &#x22A2;&nbsp;<a class=\"ProveItLink\" href=\"../../set_theory/membership/__pv_it/f8871096ab31a54eeeb7d5201addc96bdbcd44530/expr.ipynb\"><img src=\"../../set_theory/membership/__pv_it/f8871096ab31a54eeeb7d5201addc96bdbcd44530/expr.png\" style=\"display:inline;vertical-align:middle;\" /></a></span></td></tr>\n",
       "<tr><td>&nbsp;</td><td colspan=4 style-\"text-align:left\"><a class=\"ProveItLink\" href=\"../../set_theory/membership/_proofs_/exp_set_4.ipynb\">proveit.logic.set_theory.membership.exp_set_4</a></td></tr><tr><td>8</td><td>assumption</td><td></td><td><span style=\"font-size:20px;\"><a class=\"ProveItLink\" href=\"__pv_it/017ca8cfa034181c90ba15dd10869f0f4e516d6a0/expr.ipynb\"><img src=\"__pv_it/017ca8cfa034181c90ba15dd10869f0f4e516d6a0/expr.png\" style=\"display:inline;vertical-align:middle;\" /></a> &#x22A2;&nbsp;<a class=\"ProveItLink\" href=\"__pv_it/03a5c2b5cc6fc2c3cd686b4bcf84379b893abe210/expr.ipynb\"><img src=\"__pv_it/03a5c2b5cc6fc2c3cd686b4bcf84379b893abe210/expr.png\" style=\"display:inline;vertical-align:middle;\" /></a></span></td></tr>\n",
       "<tr><td>9</td><td>assumption</td><td></td><td><span style=\"font-size:20px;\"><a class=\"ProveItLink\" href=\"__pv_it/2c2e947402f53b9e11cd7769e1b5b3378595750e0/expr.ipynb\"><img src=\"__pv_it/2c2e947402f53b9e11cd7769e1b5b3378595750e0/expr.png\" style=\"display:inline;vertical-align:middle;\" /></a> &#x22A2;&nbsp;<a class=\"ProveItLink\" href=\"__pv_it/fe5c91c77f0659f9ea07a2e3257797875d6868370/expr.ipynb\"><img src=\"__pv_it/fe5c91c77f0659f9ea07a2e3257797875d6868370/expr.png\" style=\"display:inline;vertical-align:middle;\" /></a></span></td></tr>\n",
       "<tr><td>10</td><td>assumption</td><td></td><td><span style=\"font-size:20px;\"><a class=\"ProveItLink\" href=\"__pv_it/549ecf82a9d4ac5ca0750c6c3aaf83e6e7209ca90/expr.ipynb\"><img src=\"__pv_it/549ecf82a9d4ac5ca0750c6c3aaf83e6e7209ca90/expr.png\" style=\"display:inline;vertical-align:middle;\" /></a> &#x22A2;&nbsp;<a class=\"ProveItLink\" href=\"__pv_it/2cec3c732aceb253233bb533d4e43cc3f34f4f660/expr.ipynb\"><img src=\"__pv_it/2cec3c732aceb253233bb533d4e43cc3f34f4f660/expr.png\" style=\"display:inline;vertical-align:middle;\" /></a></span></td></tr>\n",
       "<tr><td>11</td><td>assumption</td><td></td><td><span style=\"font-size:20px;\"><a class=\"ProveItLink\" href=\"__pv_it/aa3618fdfba9edc866f19a2dbc2f7cde292ff1c70/expr.ipynb\"><img src=\"__pv_it/aa3618fdfba9edc866f19a2dbc2f7cde292ff1c70/expr.png\" style=\"display:inline;vertical-align:middle;\" /></a> &#x22A2;&nbsp;<a class=\"ProveItLink\" href=\"__pv_it/3891b823dfb55f51d513cc7144556dc1bfd425b70/expr.ipynb\"><img src=\"__pv_it/3891b823dfb55f51d513cc7144556dc1bfd425b70/expr.png\" style=\"display:inline;vertical-align:middle;\" /></a></span></td></tr>\n",
       "</table>"
      ],
      "text/plain": [
       "\tstep type\trequirements\tstatement\n",
       "0\tspecialization\t1, 2, 3, 4, 5, 6\t{A in BOOLEANS , B in BOOLEANS , C in BOOLEANS , D in BOOLEANS} |- (A or B or C or D) in BOOLEANS\n",
       "\tm : 4, A : (A , B , C , D)\n",
       "1\ttheorem\t\t|- forall_{m in Naturals} [forall_{A in BOOLEANS^{m}} ((A_1 or  ...  or A_m) in BOOLEANS)]\n",
       "\tproveit.logic.boolean.disjunction.closure\n",
       "2\ttheorem\t\t|- 4 in Naturals\n",
       "\tproveit.number.numeral.deci.nat4\n",
       "3\tspecialization\t7, 8, 9, 10, 11\t{A in BOOLEANS , B in BOOLEANS , C in BOOLEANS , D in BOOLEANS} |- (A , B , C , D) in BOOLEANS^{4}\n",
       "\tS : BOOLEANS, a : A, b : B, c : C, d : D\n",
       "4\ttheorem\t\t|- (1 + 1) = 2\n",
       "\tproveit.number.numeral.deci.add_1_1\n",
       "5\ttheorem\t\t|- (2 + 1) = 3\n",
       "\tproveit.number.numeral.deci.add_2_1\n",
       "6\ttheorem\t\t|- (3 + 1) = 4\n",
       "\tproveit.number.numeral.deci.add_3_1\n",
       "7\ttheorem\t\t|- forall_{S} [forall_{a, b, c, d in S} ((a , b , c , d) in S^{4})]\n",
       "\tproveit.logic.set_theory.membership.exp_set_4\n",
       "8\tassumption\t\t{A in BOOLEANS} |- A in BOOLEANS\n",
       "9\tassumption\t\t{B in BOOLEANS} |- B in BOOLEANS\n",
       "10\tassumption\t\t{C in BOOLEANS} |- C in BOOLEANS\n",
       "11\tassumption\t\t{D in BOOLEANS} |- D in BOOLEANS"
      ]
     },
     "execution_count": 45,
     "metadata": {},
     "output_type": "execute_result"
    }
   ],
   "source": [
    "inBool(Or(A,B,C,D)).prove([inBool(A), inBool(B), inBool(C), inBool(D)]).proof()"
   ]
  },
  {
   "cell_type": "code",
   "execution_count": 46,
   "metadata": {},
   "outputs": [
    {
     "data": {
      "text/html": [
       "<table><tr><th>&nbsp;</th><th>step type</th><th>requirements</th><th>statement</th></tr>\n",
       "<tr><td>0</td><td>specialization</td><td>1, 2</td><td><span style=\"font-size:20px;\"><a class=\"ProveItLink\" href=\"__pv_it/641f0a8b1ec9f571ae95783eeb9574d4d4c7d4d40/expr.ipynb\"><img src=\"__pv_it/641f0a8b1ec9f571ae95783eeb9574d4d4c7d4d40/expr.png\" style=\"display:inline;vertical-align:middle;\" /></a> &#x22A2;&nbsp;<a class=\"ProveItLink\" href=\"__pv_it/6b085089c20090840d052459f8893dc577d9cac10/expr.ipynb\"><img src=\"__pv_it/6b085089c20090840d052459f8893dc577d9cac10/expr.png\" style=\"display:inline;vertical-align:middle;\" /></a></span></td></tr>\n",
       "<tr><td>&nbsp;</td><td colspan=4 style=\"text-align:left\"><span style=\"font-size:20px;\"><a class=\"ProveItLink\" href=\"../../../__pv_it/2cbe72a7ad6f655694dd697106680215e8489b600/expr.ipynb\"><img src=\"../../../__pv_it/2cbe72a7ad6f655694dd697106680215e8489b600/expr.png\" style=\"display:inline;vertical-align:middle;\" /></a> : <a class=\"ProveItLink\" href=\"../../../__pv_it/2cbe72a7ad6f655694dd697106680215e8489b600/expr.ipynb\"><img src=\"../../../__pv_it/2cbe72a7ad6f655694dd697106680215e8489b600/expr.png\" style=\"display:inline;vertical-align:middle;\" /></a>, <a class=\"ProveItLink\" href=\"../../../__pv_it/077b2ff79244fb4582cbe22c6e3356fa92a52f2f0/expr.ipynb\"><img src=\"../../../__pv_it/077b2ff79244fb4582cbe22c6e3356fa92a52f2f0/expr.png\" style=\"display:inline;vertical-align:middle;\" /></a> : <a class=\"ProveItLink\" href=\"../../../__pv_it/077b2ff79244fb4582cbe22c6e3356fa92a52f2f0/expr.ipynb\"><img src=\"../../../__pv_it/077b2ff79244fb4582cbe22c6e3356fa92a52f2f0/expr.png\" style=\"display:inline;vertical-align:middle;\" /></a></span></td></tr><tr><td>1</td><td>theorem</td><td></td><td><span style=\"font-size:20px;\"> &#x22A2;&nbsp;<a class=\"ProveItLink\" href=\"__pv_it/71312b0cdc0fe0a5f0b0db40384d3e30bf0897ea0/expr.ipynb\"><img src=\"__pv_it/71312b0cdc0fe0a5f0b0db40384d3e30bf0897ea0/expr.png\" style=\"display:inline;vertical-align:middle;\" /></a></span></td></tr>\n",
       "<tr><td>&nbsp;</td><td colspan=4 style-\"text-align:left\"><a class=\"ProveItLink\" href=\"_proofs_/demorgansLawAndToOrBin.ipynb\">proveit.logic.boolean.disjunction.demorgansLawAndToOrBin</a></td></tr><tr><td>2</td><td>assumption</td><td></td><td><span style=\"font-size:20px;\"><a class=\"ProveItLink\" href=\"__pv_it/641f0a8b1ec9f571ae95783eeb9574d4d4c7d4d40/expr.ipynb\"><img src=\"__pv_it/641f0a8b1ec9f571ae95783eeb9574d4d4c7d4d40/expr.png\" style=\"display:inline;vertical-align:middle;\" /></a> &#x22A2;&nbsp;<a class=\"ProveItLink\" href=\"__pv_it/6e8722918cd3492ecfcfe27ada45d57a1d83705d0/expr.ipynb\"><img src=\"__pv_it/6e8722918cd3492ecfcfe27ada45d57a1d83705d0/expr.png\" style=\"display:inline;vertical-align:middle;\" /></a></span></td></tr>\n",
       "</table>"
      ],
      "text/plain": [
       "\tstep type\trequirements\tstatement\n",
       "0\tspecialization\t1, 2\t{[not]([not](A) and [not](B))} |- A or B\n",
       "\tA : A, B : B\n",
       "1\ttheorem\t\t|- forall_{A, B | [not]([not](A) and [not](B))} (A or B)\n",
       "\tproveit.logic.boolean.disjunction.demorgansLawAndToOrBin\n",
       "2\tassumption\t\t{[not]([not](A) and [not](B))} |- [not]([not](A) and [not](B))"
      ]
     },
     "execution_count": 46,
     "metadata": {},
     "output_type": "execute_result"
    }
   ],
   "source": [
    "Or(A,B).prove([Not(And(Not(A), Not(B)))]).proof()"
   ]
  },
  {
   "cell_type": "code",
   "execution_count": 47,
   "metadata": {},
   "outputs": [
    {
     "data": {
      "text/html": [
       "<table><tr><th>&nbsp;</th><th>step type</th><th>requirements</th><th>statement</th></tr>\n",
       "<tr><td>0</td><td>specialization</td><td>1, 2, 3, 4, 5</td><td><span style=\"font-size:20px;\"><a class=\"ProveItLink\" href=\"__pv_it/bca69fc941b49b7ccc632997ea20b3d523a4f06c0/expr.ipynb\"><img src=\"__pv_it/bca69fc941b49b7ccc632997ea20b3d523a4f06c0/expr.png\" style=\"display:inline;vertical-align:middle;\" /></a> &#x22A2;&nbsp;<a class=\"ProveItLink\" href=\"__pv_it/ce4c9ce6403a7350f491c3e24576587d335e1c560/expr.ipynb\"><img src=\"__pv_it/ce4c9ce6403a7350f491c3e24576587d335e1c560/expr.png\" style=\"display:inline;vertical-align:middle;\" /></a></span></td></tr>\n",
       "<tr><td>&nbsp;</td><td colspan=4 style=\"text-align:left\"><span style=\"font-size:20px;\"><a class=\"ProveItLink\" href=\"../../../__pv_it/78af03acba5349fd70398a32ce59bae1da52f0870/expr.ipynb\"><img src=\"../../../__pv_it/78af03acba5349fd70398a32ce59bae1da52f0870/expr.png\" style=\"display:inline;vertical-align:middle;\" /></a> : <a class=\"ProveItLink\" href=\"../../../number/numeral/__pv_it/9176d93c83afa2c995b614976e3cb49207102fa70/expr.ipynb\"><img src=\"../../../number/numeral/__pv_it/9176d93c83afa2c995b614976e3cb49207102fa70/expr.png\" style=\"display:inline;vertical-align:middle;\" /></a>, <a class=\"ProveItLink\" href=\"../../../__pv_it/eb438fefc4bd0ac977777d6dfd3e8a72dfbedbd50/expr.ipynb\"><img src=\"../../../__pv_it/eb438fefc4bd0ac977777d6dfd3e8a72dfbedbd50/expr.png\" style=\"display:inline;vertical-align:middle;\" /></a> : <a class=\"ProveItLink\" href=\"__pv_it/3bf9902b68eb16c350f1cbf3338cf2ecb60afd7e0/expr.ipynb\"><img src=\"__pv_it/3bf9902b68eb16c350f1cbf3338cf2ecb60afd7e0/expr.png\" style=\"display:inline;vertical-align:middle;\" /></a></span></td></tr><tr><td>1</td><td>theorem</td><td></td><td><span style=\"font-size:20px;\"> &#x22A2;&nbsp;<a class=\"ProveItLink\" href=\"__pv_it/5197e5059aa428346f1f6dc098023004b0af15690/expr.ipynb\"><img src=\"__pv_it/5197e5059aa428346f1f6dc098023004b0af15690/expr.png\" style=\"display:inline;vertical-align:middle;\" /></a></span></td></tr>\n",
       "<tr><td>&nbsp;</td><td colspan=4 style-\"text-align:left\"><a class=\"ProveItLink\" href=\"_proofs_/demorgansLawAndToOr.ipynb\">proveit.logic.boolean.disjunction.demorgansLawAndToOr</a></td></tr><tr><td>2</td><td>theorem</td><td></td><td><span style=\"font-size:20px;\"> &#x22A2;&nbsp;<a class=\"ProveItLink\" href=\"../../../number/numeral/deci/__pv_it/106bf174ef7755d5609db086689abcc208d6bf3d0/expr.ipynb\"><img src=\"../../../number/numeral/deci/__pv_it/106bf174ef7755d5609db086689abcc208d6bf3d0/expr.png\" style=\"display:inline;vertical-align:middle;\" /></a></span></td></tr>\n",
       "<tr><td>&nbsp;</td><td colspan=4 style-\"text-align:left\"><a class=\"ProveItLink\" href=\"../../../number/numeral/deci/_proofs_/nat3.ipynb\">proveit.number.numeral.deci.nat3</a></td></tr><tr><td>3</td><td>assumption</td><td></td><td><span style=\"font-size:20px;\"><a class=\"ProveItLink\" href=\"__pv_it/bca69fc941b49b7ccc632997ea20b3d523a4f06c0/expr.ipynb\"><img src=\"__pv_it/bca69fc941b49b7ccc632997ea20b3d523a4f06c0/expr.png\" style=\"display:inline;vertical-align:middle;\" /></a> &#x22A2;&nbsp;<a class=\"ProveItLink\" href=\"__pv_it/7eb12133c1d17ffe66a42b1b38726ee9d68546c50/expr.ipynb\"><img src=\"__pv_it/7eb12133c1d17ffe66a42b1b38726ee9d68546c50/expr.png\" style=\"display:inline;vertical-align:middle;\" /></a></span></td></tr>\n",
       "<tr><td>4</td><td>theorem</td><td></td><td><span style=\"font-size:20px;\"> &#x22A2;&nbsp;<a class=\"ProveItLink\" href=\"../../../number/numeral/deci/__pv_it/5b6ff6a2fca03ad41d2a3084e44fbb28428ffb6a0/expr.ipynb\"><img src=\"../../../number/numeral/deci/__pv_it/5b6ff6a2fca03ad41d2a3084e44fbb28428ffb6a0/expr.png\" style=\"display:inline;vertical-align:middle;\" /></a></span></td></tr>\n",
       "<tr><td>&nbsp;</td><td colspan=4 style-\"text-align:left\"><a class=\"ProveItLink\" href=\"../../../number/numeral/deci/_proofs_/add_1_1.ipynb\">proveit.number.numeral.deci.add_1_1</a></td></tr><tr><td>5</td><td>theorem</td><td></td><td><span style=\"font-size:20px;\"> &#x22A2;&nbsp;<a class=\"ProveItLink\" href=\"../../../number/numeral/deci/__pv_it/349c663074c343ced32577f83aa9971191d0752c0/expr.ipynb\"><img src=\"../../../number/numeral/deci/__pv_it/349c663074c343ced32577f83aa9971191d0752c0/expr.png\" style=\"display:inline;vertical-align:middle;\" /></a></span></td></tr>\n",
       "<tr><td>&nbsp;</td><td colspan=4 style-\"text-align:left\"><a class=\"ProveItLink\" href=\"../../../number/numeral/deci/_proofs_/add_2_1.ipynb\">proveit.number.numeral.deci.add_2_1</a></td></tr></table>"
      ],
      "text/plain": [
       "\tstep type\trequirements\tstatement\n",
       "0\tspecialization\t1, 2, 3, 4, 5\t{[not]([not](A) and [not](B) and [not](C))} |- A or B or C\n",
       "\tm : 3, A : (A , B , C)\n",
       "1\ttheorem\t\t|- forall_{m in Naturals} [forall_{A | [not]([not](A_1) and  ...  and [not](A_m))} (A_1 or  ...  or A_m)]\n",
       "\tproveit.logic.boolean.disjunction.demorgansLawAndToOr\n",
       "2\ttheorem\t\t|- 3 in Naturals\n",
       "\tproveit.number.numeral.deci.nat3\n",
       "3\tassumption\t\t{[not]([not](A) and [not](B) and [not](C))} |- [not]([not](A) and [not](B) and [not](C))\n",
       "4\ttheorem\t\t|- (1 + 1) = 2\n",
       "\tproveit.number.numeral.deci.add_1_1\n",
       "5\ttheorem\t\t|- (2 + 1) = 3\n",
       "\tproveit.number.numeral.deci.add_2_1"
      ]
     },
     "execution_count": 47,
     "metadata": {},
     "output_type": "execute_result"
    }
   ],
   "source": [
    "Or(A, B, C).prove([Not(And(Not(A),Not(B),Not(C)))]).proof()"
   ]
  },
  {
   "cell_type": "code",
   "execution_count": 48,
   "metadata": {},
   "outputs": [],
   "source": [
    "%end demonstrations"
   ]
  },
  {
   "cell_type": "code",
   "execution_count": null,
   "metadata": {},
   "outputs": [],
   "source": []
  }
 ],
 "metadata": {
  "kernelspec": {
   "display_name": "Python 3",
   "language": "python",
   "name": "python3"
  },
  "language_info": {
   "codemirror_mode": {
    "name": "ipython",
    "version": 3
   },
   "file_extension": ".py",
   "mimetype": "text/x-python",
   "name": "python",
   "nbconvert_exporter": "python",
   "pygments_lexer": "ipython3",
   "version": "3.7.3"
  }
 },
 "nbformat": 4,
 "nbformat_minor": 1
}
