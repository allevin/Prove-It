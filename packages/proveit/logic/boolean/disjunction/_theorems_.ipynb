{
 "cells": [
  {
   "cell_type": "markdown",
   "metadata": {
    "collapsed": true
   },
   "source": [
    "Theorems for context <a href=\"_context_.ipynb\" class=\"ProveItLink\">proveit.logic.boolean.disjunction</a>\n",
    "========"
   ]
  },
  {
   "cell_type": "code",
   "execution_count": 1,
   "metadata": {},
   "outputs": [
    {
     "name": "stdout",
     "output_type": "stream",
     "text": [
      "Defining theorems for context 'proveit.logic.boolean.disjunction'\n",
      "Subsequent end-of-cell assignments will define theorems\n",
      "'%end theorems' will finalize the definitions\n"
     ]
    }
   ],
   "source": [
    "from proveit import varIter\n",
    "from proveit import Lambda, Iter, Indexed\n",
    "from proveit._common_ import A, B, C, D, AA, CC, i, j, k, l, m, n\n",
    "from proveit.logic import Or, TRUE, FALSE, Forall, Implies, Not, inBool, And, Booleans, Equals, Set\n",
    "from proveit.logic._common_ import iterA1m, iterC1n\n",
    "from proveit.number import Naturals, NaturalsPos, Add, Exp, one, LessEq, LesserSequence\n",
    "%begin theorems"
   ]
  },
  {
   "cell_type": "code",
   "execution_count": 2,
   "metadata": {},
   "outputs": [
    {
     "data": {
      "text/html": [
       "<strong id=\"trueOrTrue\"><a class=\"ProveItLink\" href=\"_proofs_/trueOrTrue.ipynb\">trueOrTrue</a>:</strong> <a class=\"ProveItLink\" href=\"__pv_it/e97c323cdd30da22b1b9b974ceb567d79030f5670/expr.ipynb\"><img src=\"__pv_it/e97c323cdd30da22b1b9b974ceb567d79030f5670/expr.png\" style=\"display:inline;vertical-align:middle;\" /></a><br>"
      ],
      "text/plain": [
       "trueOrTrue: TRUE or TRUE"
      ]
     },
     "execution_count": 2,
     "metadata": {},
     "output_type": "execute_result"
    }
   ],
   "source": [
    "trueOrTrue = Or(TRUE, TRUE)"
   ]
  },
  {
   "cell_type": "code",
   "execution_count": 3,
   "metadata": {},
   "outputs": [
    {
     "data": {
      "text/html": [
       "<strong id=\"trueOrFalse\"><a class=\"ProveItLink\" href=\"_proofs_/trueOrFalse.ipynb\">trueOrFalse</a>:</strong> <a class=\"ProveItLink\" href=\"__pv_it/eec5dacd574712698e86760b8b62868c1668cdd80/expr.ipynb\"><img src=\"__pv_it/eec5dacd574712698e86760b8b62868c1668cdd80/expr.png\" style=\"display:inline;vertical-align:middle;\" /></a><br>"
      ],
      "text/plain": [
       "trueOrFalse: TRUE or FALSE"
      ]
     },
     "execution_count": 3,
     "metadata": {},
     "output_type": "execute_result"
    }
   ],
   "source": [
    "trueOrFalse = Or(TRUE, FALSE)"
   ]
  },
  {
   "cell_type": "code",
   "execution_count": 4,
   "metadata": {},
   "outputs": [
    {
     "data": {
      "text/html": [
       "<strong id=\"falseOrTrue\"><a class=\"ProveItLink\" href=\"_proofs_/falseOrTrue.ipynb\">falseOrTrue</a>:</strong> <a class=\"ProveItLink\" href=\"__pv_it/1da6b0e09dcd4642d4419ced0432f25c508208780/expr.ipynb\"><img src=\"__pv_it/1da6b0e09dcd4642d4419ced0432f25c508208780/expr.png\" style=\"display:inline;vertical-align:middle;\" /></a><br>"
      ],
      "text/plain": [
       "falseOrTrue: FALSE or TRUE"
      ]
     },
     "execution_count": 4,
     "metadata": {},
     "output_type": "execute_result"
    }
   ],
   "source": [
    "falseOrTrue = Or(FALSE, TRUE)"
   ]
  },
  {
   "cell_type": "code",
   "execution_count": 5,
   "metadata": {},
   "outputs": [
    {
     "data": {
      "text/html": [
       "<strong id=\"falseOrFalseNegated\"><a class=\"ProveItLink\" href=\"_proofs_/falseOrFalseNegated.ipynb\">falseOrFalseNegated</a>:</strong> <a class=\"ProveItLink\" href=\"__pv_it/89d93ab2a58b4ca9966107b3308820d50ebc7a700/expr.ipynb\"><img src=\"__pv_it/89d93ab2a58b4ca9966107b3308820d50ebc7a700/expr.png\" style=\"display:inline;vertical-align:middle;\" /></a><br>"
      ],
      "text/plain": [
       "falseOrFalseNegated: [not](FALSE or FALSE)"
      ]
     },
     "execution_count": 5,
     "metadata": {},
     "output_type": "execute_result"
    }
   ],
   "source": [
    "falseOrFalseNegated = Not(Or(FALSE, FALSE))"
   ]
  },
  {
   "cell_type": "code",
   "execution_count": 6,
   "metadata": {},
   "outputs": [
    {
     "data": {
      "text/html": [
       "<strong id=\"orIfBoth\"><a class=\"ProveItLink\" href=\"_proofs_/orIfBoth.ipynb\">orIfBoth</a>:</strong> <a class=\"ProveItLink\" href=\"__pv_it/9a1500b85c3ee0956a4189cef54e76cb1500b8ec0/expr.ipynb\"><img src=\"__pv_it/9a1500b85c3ee0956a4189cef54e76cb1500b8ec0/expr.png\" style=\"display:inline;vertical-align:middle;\" /></a><br>"
      ],
      "text/plain": [
       "orIfBoth: forall_{A, B | A , B} (A or B)"
      ]
     },
     "execution_count": 6,
     "metadata": {},
     "output_type": "execute_result"
    }
   ],
   "source": [
    "orIfBoth = Forall((A, B), Or(A, B), conditions=[A, B])"
   ]
  },
  {
   "cell_type": "code",
   "execution_count": 7,
   "metadata": {},
   "outputs": [
    {
     "data": {
      "text/html": [
       "<strong id=\"orIfOnlyLeft\"><a class=\"ProveItLink\" href=\"_proofs_/orIfOnlyLeft.ipynb\">orIfOnlyLeft</a>:</strong> <a class=\"ProveItLink\" href=\"__pv_it/9279c0c75d9416efd02921766ed6545ee815ec8f0/expr.ipynb\"><img src=\"__pv_it/9279c0c75d9416efd02921766ed6545ee815ec8f0/expr.png\" style=\"display:inline;vertical-align:middle;\" /></a><br>"
      ],
      "text/plain": [
       "orIfOnlyLeft: forall_{A, B | A , [not](B)} (A or B)"
      ]
     },
     "execution_count": 7,
     "metadata": {},
     "output_type": "execute_result"
    }
   ],
   "source": [
    "orIfOnlyLeft = Forall((A, B), Or(A, B), conditions=[A, Not(B)])"
   ]
  },
  {
   "cell_type": "code",
   "execution_count": 8,
   "metadata": {},
   "outputs": [
    {
     "data": {
      "text/html": [
       "<strong id=\"orIfOnlyRight\"><a class=\"ProveItLink\" href=\"_proofs_/orIfOnlyRight.ipynb\">orIfOnlyRight</a>:</strong> <a class=\"ProveItLink\" href=\"__pv_it/6a6b5ffde6b6ce6b719d9815d06baed453e246970/expr.ipynb\"><img src=\"__pv_it/6a6b5ffde6b6ce6b719d9815d06baed453e246970/expr.png\" style=\"display:inline;vertical-align:middle;\" /></a><br>"
      ],
      "text/plain": [
       "orIfOnlyRight: forall_{A, B | [not](A) , B} (A or B)"
      ]
     },
     "execution_count": 8,
     "metadata": {},
     "output_type": "execute_result"
    }
   ],
   "source": [
    "orIfOnlyRight = Forall((A, B), Or(A, B), conditions=[Not(A), B])"
   ]
  },
  {
   "cell_type": "code",
   "execution_count": 9,
   "metadata": {},
   "outputs": [
    {
     "data": {
      "text/html": [
       "<strong id=\"neitherIntro\"><a class=\"ProveItLink\" href=\"_proofs_/neitherIntro.ipynb\">neitherIntro</a>:</strong> <a class=\"ProveItLink\" href=\"__pv_it/b66c6c47585630ad806c9c1acc6d0bbac5a84b580/expr.ipynb\"><img src=\"__pv_it/b66c6c47585630ad806c9c1acc6d0bbac5a84b580/expr.png\" style=\"display:inline;vertical-align:middle;\" /></a><br>"
      ],
      "text/plain": [
       "neitherIntro: forall_{A, B | [not](A) , [not](B)} [not](A or B)"
      ]
     },
     "execution_count": 9,
     "metadata": {},
     "output_type": "execute_result"
    }
   ],
   "source": [
    "neitherIntro = Forall((A, B), Not(Or(A, B)), conditions=[Not(A), Not(B)])"
   ]
  },
  {
   "cell_type": "code",
   "execution_count": 10,
   "metadata": {},
   "outputs": [
    {
     "data": {
      "text/html": [
       "<strong id=\"binaryOrContradiction\"><a class=\"ProveItLink\" href=\"_proofs_/binaryOrContradiction.ipynb\">binaryOrContradiction</a>:</strong> <a class=\"ProveItLink\" href=\"__pv_it/e31305bfb13c9736d2a4f2955ac5b16b6eadb8ae0/expr.ipynb\"><img src=\"__pv_it/e31305bfb13c9736d2a4f2955ac5b16b6eadb8ae0/expr.png\" style=\"display:inline;vertical-align:middle;\" /></a><br>"
      ],
      "text/plain": [
       "binaryOrContradiction: forall_{A, B | A or B , [not](A) , [not](B)} FALSE"
      ]
     },
     "execution_count": 10,
     "metadata": {},
     "output_type": "execute_result"
    }
   ],
   "source": [
    "binaryOrContradiction = Forall((A, B), FALSE, conditions=(Or(A, B), Not(A), Not(B)))"
   ]
  },
  {
   "cell_type": "code",
   "execution_count": 11,
   "metadata": {},
   "outputs": [
    {
     "data": {
      "text/html": [
       "<strong id=\"leftIfNotRight\"><a class=\"ProveItLink\" href=\"_proofs_/leftIfNotRight.ipynb\">leftIfNotRight</a>:</strong> <a class=\"ProveItLink\" href=\"__pv_it/6902aed10c34ff0f24ab5b5235e0d81da33ae5730/expr.ipynb\"><img src=\"__pv_it/6902aed10c34ff0f24ab5b5235e0d81da33ae5730/expr.png\" style=\"display:inline;vertical-align:middle;\" /></a><br>"
      ],
      "text/plain": [
       "leftIfNotRight: forall_{A, B in BOOLEANS | A or B , [not](B)} A"
      ]
     },
     "execution_count": 11,
     "metadata": {},
     "output_type": "execute_result"
    }
   ],
   "source": [
    "leftIfNotRight = Forall((A, B), A, domain=Booleans, conditions=(Or(A, B), Not(B)))"
   ]
  },
  {
   "cell_type": "code",
   "execution_count": 12,
   "metadata": {},
   "outputs": [
    {
     "data": {
      "text/html": [
       "<strong id=\"rightIfNotLeft\"><a class=\"ProveItLink\" href=\"_proofs_/rightIfNotLeft.ipynb\">rightIfNotLeft</a>:</strong> <a class=\"ProveItLink\" href=\"__pv_it/25a5bd3d08ff9bfb204996de14caf50be9d1220e0/expr.ipynb\"><img src=\"__pv_it/25a5bd3d08ff9bfb204996de14caf50be9d1220e0/expr.png\" style=\"display:inline;vertical-align:middle;\" /></a><br>"
      ],
      "text/plain": [
       "rightIfNotLeft: forall_{A, B in BOOLEANS | A or B , [not](A)} B"
      ]
     },
     "execution_count": 12,
     "metadata": {},
     "output_type": "execute_result"
    }
   ],
   "source": [
    "rightIfNotLeft = Forall((A, B), B, domain=Booleans, conditions=(Or(A, B), Not(A)))"
   ]
  },
  {
   "cell_type": "markdown",
   "metadata": {},
   "source": [
    "This **constrained singular constructive dilemma** will require a single provable $C$ be designated as a Boolean.  The \"unconstrained\" version will drop this constraint, using the constrained version as a convenient Lemma.  This will all culminate to the **constructive dilemma**, below, that can prove some $C \\lor D$ given $A \\lor B$, $A \\Rightarrow C$ and $B \\Rightarrow D$."
   ]
  },
  {
   "cell_type": "code",
   "execution_count": 13,
   "metadata": {},
   "outputs": [
    {
     "data": {
      "text/html": [
       "<strong id=\"constrainedSingularConstructiveDilemma\"><a class=\"ProveItLink\" href=\"_proofs_/constrainedSingularConstructiveDilemma.ipynb\">constrainedSingularConstructiveDilemma</a>:</strong> <a class=\"ProveItLink\" href=\"__pv_it/7223c9df709c7e418728addba3e612ba575597030/expr.ipynb\"><img src=\"__pv_it/7223c9df709c7e418728addba3e612ba575597030/expr.png\" style=\"display:inline;vertical-align:middle;\" /></a><br>"
      ],
      "text/plain": [
       "constrainedSingularConstructiveDilemma: forall_{A, B, C in BOOLEANS | A or B , A => C , B => C} C"
      ]
     },
     "execution_count": 13,
     "metadata": {},
     "output_type": "execute_result"
    }
   ],
   "source": [
    "constrainedSingularConstructiveDilemma = Forall((A, B, C), C, conditions=[Or(A, B), Implies(A, C), Implies(B, C)],\n",
    "                                                domain=Booleans)"
   ]
  },
  {
   "cell_type": "code",
   "execution_count": 14,
   "metadata": {},
   "outputs": [
    {
     "data": {
      "text/html": [
       "<strong id=\"singularConstructiveDilemma\"><a class=\"ProveItLink\" href=\"_proofs_/singularConstructiveDilemma.ipynb\">singularConstructiveDilemma</a>:</strong> <a class=\"ProveItLink\" href=\"__pv_it/5b87c0eedca27defcfd8384ce049aeb3741a3a240/expr.ipynb\"><img src=\"__pv_it/5b87c0eedca27defcfd8384ce049aeb3741a3a240/expr.png\" style=\"display:inline;vertical-align:middle;\" /></a><br>"
      ],
      "text/plain": [
       "singularConstructiveDilemma: forall_{A, B in BOOLEANS | A or B} [forall_{C | A => C , B => C} C]"
      ]
     },
     "execution_count": 14,
     "metadata": {},
     "output_type": "execute_result"
    }
   ],
   "source": [
    "singularConstructiveDilemma = Forall((A, B), Forall(C, C, conditions=[Implies(A, C), Implies(B, C)]), \n",
    "                                     domain=Booleans, conditions=[Or(A, B)])"
   ]
  },
  {
   "cell_type": "code",
   "execution_count": 15,
   "metadata": {},
   "outputs": [
    {
     "data": {
      "text/html": [
       "<strong id=\"orIfLeft\"><a class=\"ProveItLink\" href=\"_proofs_/orIfLeft.ipynb\">orIfLeft</a>:</strong> <a class=\"ProveItLink\" href=\"__pv_it/7814f69cf23c6763d566ff710ff6eca304bc89230/expr.ipynb\"><img src=\"__pv_it/7814f69cf23c6763d566ff710ff6eca304bc89230/expr.png\" style=\"display:inline;vertical-align:middle;\" /></a><br>"
      ],
      "text/plain": [
       "orIfLeft: forall_{A, B in BOOLEANS | A} (A or B)"
      ]
     },
     "execution_count": 15,
     "metadata": {},
     "output_type": "execute_result"
    }
   ],
   "source": [
    "orIfLeft = Forall((A, B), Or(A, B), domain=Booleans, conditions=[A])"
   ]
  },
  {
   "cell_type": "code",
   "execution_count": 16,
   "metadata": {},
   "outputs": [
    {
     "data": {
      "text/html": [
       "<strong id=\"orIfRight\"><a class=\"ProveItLink\" href=\"_proofs_/orIfRight.ipynb\">orIfRight</a>:</strong> <a class=\"ProveItLink\" href=\"__pv_it/70854f1556d2df3aaa11379eb9a7db1c4ea3c11d0/expr.ipynb\"><img src=\"__pv_it/70854f1556d2df3aaa11379eb9a7db1c4ea3c11d0/expr.png\" style=\"display:inline;vertical-align:middle;\" /></a><br>"
      ],
      "text/plain": [
       "orIfRight: forall_{A, B in BOOLEANS | B} (A or B)"
      ]
     },
     "execution_count": 16,
     "metadata": {},
     "output_type": "execute_result"
    }
   ],
   "source": [
    "orIfRight = Forall((A, B), Or(A, B), domain=Booleans, conditions=[B])"
   ]
  },
  {
   "cell_type": "code",
   "execution_count": 17,
   "metadata": {},
   "outputs": [
    {
     "data": {
      "text/html": [
       "<strong id=\"constructiveDilemma\"><a class=\"ProveItLink\" href=\"_proofs_/constructiveDilemma.ipynb\">constructiveDilemma</a>:</strong> <a class=\"ProveItLink\" href=\"__pv_it/9a082ebbf13415ad7005d8649b68a4c58660aa360/expr.ipynb\"><img src=\"__pv_it/9a082ebbf13415ad7005d8649b68a4c58660aa360/expr.png\" style=\"display:inline;vertical-align:middle;\" /></a><br>"
      ],
      "text/plain": [
       "constructiveDilemma: forall_{A, B, C, D in BOOLEANS | A or B , A => C , B => D} (C or D)"
      ]
     },
     "execution_count": 17,
     "metadata": {},
     "output_type": "execute_result"
    }
   ],
   "source": [
    "constructiveDilemma = Forall((A, B, C, D), Or(C, D), domain=Booleans, \n",
    "                             conditions=[Or(A, B), Implies(A, C), Implies(B, D)])"
   ]
  },
  {
   "cell_type": "code",
   "execution_count": 18,
   "metadata": {},
   "outputs": [
    {
     "data": {
      "text/html": [
       "<strong id=\"destructiveDilemma\"><a class=\"ProveItLink\" href=\"_proofs_/destructiveDilemma.ipynb\">destructiveDilemma</a>:</strong> <a class=\"ProveItLink\" href=\"__pv_it/e8d36dad2d649e079c55688242b19f33eb55dc1d0/expr.ipynb\"><img src=\"__pv_it/e8d36dad2d649e079c55688242b19f33eb55dc1d0/expr.png\" style=\"display:inline;vertical-align:middle;\" /></a><br>"
      ],
      "text/plain": [
       "destructiveDilemma: forall_{A, B, C, D in BOOLEANS | [not](C) or [not](D) , A => C , B => D} ([not](A) or [not](B))"
      ]
     },
     "execution_count": 18,
     "metadata": {},
     "output_type": "execute_result"
    }
   ],
   "source": [
    "destructiveDilemma = Forall((A, B, C, D), Or(Not(A), Not(B)), domain=Booleans, \n",
    "                            conditions=[Or(Not(C), Not(D)), Implies(A, C), Implies(B, D)])"
   ]
  },
  {
   "cell_type": "code",
   "execution_count": 19,
   "metadata": {},
   "outputs": [
    {
     "data": {
      "text/html": [
       "<strong id=\"notLeftIfNeither\"><a class=\"ProveItLink\" href=\"_proofs_/notLeftIfNeither.ipynb\">notLeftIfNeither</a>:</strong> <a class=\"ProveItLink\" href=\"__pv_it/741e45a4289586be1ec81ab36b504c60301d5f4d0/expr.ipynb\"><img src=\"__pv_it/741e45a4289586be1ec81ab36b504c60301d5f4d0/expr.png\" style=\"display:inline;vertical-align:middle;\" /></a><br>"
      ],
      "text/plain": [
       "notLeftIfNeither: forall_{A, B | [not](A or B)} [not](A)"
      ]
     },
     "execution_count": 19,
     "metadata": {},
     "output_type": "execute_result"
    }
   ],
   "source": [
    "notLeftIfNeither = Forall((A, B), Not(A), conditions=(Not(Or(A, B))))"
   ]
  },
  {
   "cell_type": "code",
   "execution_count": 20,
   "metadata": {},
   "outputs": [
    {
     "data": {
      "text/html": [
       "<strong id=\"notRightIfNeither\"><a class=\"ProveItLink\" href=\"_proofs_/notRightIfNeither.ipynb\">notRightIfNeither</a>:</strong> <a class=\"ProveItLink\" href=\"__pv_it/78fcbed9dec1ba603b0eabac0c70c6de8b4b47380/expr.ipynb\"><img src=\"__pv_it/78fcbed9dec1ba603b0eabac0c70c6de8b4b47380/expr.png\" style=\"display:inline;vertical-align:middle;\" /></a><br>"
      ],
      "text/plain": [
       "notRightIfNeither: forall_{A, B | [not](A or B)} [not](B)"
      ]
     },
     "execution_count": 20,
     "metadata": {},
     "output_type": "execute_result"
    }
   ],
   "source": [
    "notRightIfNeither = Forall((A, B), Not(B), conditions=(Not(Or(A, B))))"
   ]
  },
  {
   "cell_type": "code",
   "execution_count": null,
   "metadata": {},
   "outputs": [],
   "source": []
  },
  {
   "cell_type": "code",
   "execution_count": 21,
   "metadata": {},
   "outputs": [
    {
     "data": {
      "text/html": [
       "<strong id=\"eachInBool\"><a class=\"ProveItLink\" href=\"_proofs_/eachInBool.ipynb\">eachInBool</a>:</strong> <a class=\"ProveItLink\" href=\"__pv_it/c7f69cdd66d98cfe5928141a1b9b8b6cc42c6f8f0/expr.ipynb\"><img src=\"__pv_it/c7f69cdd66d98cfe5928141a1b9b8b6cc42c6f8f0/expr.png\" style=\"display:inline;vertical-align:middle;\" /></a><br>"
      ],
      "text/plain": [
       "eachInBool: forall_{m, n in Naturals} [forall_{A, B, C | (A_(1) or  ...  or A_(m) or B or C_(1) or  ...  or C_(n)) in BOOLEANS} (B in BOOLEANS)]"
      ]
     },
     "execution_count": 21,
     "metadata": {},
     "output_type": "execute_result"
    }
   ],
   "source": [
    "eachInBool = Forall((m, n), Forall((AA, B, CC), inBool(B), conditions=inBool(Or(iterA1m, B, iterC1n))),\n",
    "                    domain=Naturals)"
   ]
  },
  {
   "cell_type": "code",
   "execution_count": 22,
   "metadata": {},
   "outputs": [
    {
     "data": {
      "text/html": [
       "<strong id=\"orIfAny\"><a class=\"ProveItLink\" href=\"_proofs_/orIfAny.ipynb\">orIfAny</a>:</strong> <a class=\"ProveItLink\" href=\"__pv_it/14a225f90bee7657971dfadbea878178623ac0850/expr.ipynb\"><img src=\"__pv_it/14a225f90bee7657971dfadbea878178623ac0850/expr.png\" style=\"display:inline;vertical-align:middle;\" /></a><br>"
      ],
      "text/plain": [
       "orIfAny: forall_{m, n in Naturals} [forall_{(A, B, C) in BOOLEANS^{m} * BOOLEANS * BOOLEANS^{n} | B} (A_(1) or  ...  or A_(m) or B or C_(1) or  ...  or C_(n))]"
      ]
     },
     "execution_count": 22,
     "metadata": {},
     "output_type": "execute_result"
    }
   ],
   "source": [
    "orIfAny = Forall((m, n), Forall((AA, B, CC), Or(iterA1m, B, iterC1n), \n",
    "                                domains=[Exp(Booleans, m), Booleans, Exp(Booleans, n)], conditions=[B]),\n",
    "                 domain=Naturals)"
   ]
  },
  {
   "cell_type": "code",
   "execution_count": 23,
   "metadata": {},
   "outputs": [
    {
     "data": {
      "text/html": [
       "<strong id=\"notOrIfNotAny\"><a class=\"ProveItLink\" href=\"_proofs_/notOrIfNotAny.ipynb\">notOrIfNotAny</a>:</strong> <a class=\"ProveItLink\" href=\"__pv_it/19779c6272aae245422bb365504f2eabc7ee7de90/expr.ipynb\"><img src=\"__pv_it/19779c6272aae245422bb365504f2eabc7ee7de90/expr.png\" style=\"display:inline;vertical-align:middle;\" /></a><br>"
      ],
      "text/plain": [
       "notOrIfNotAny: forall_{m in Naturals} [forall_{A | [not](A_(1)) ,  ...  , [not](A_(m))} [not](A_(1) or  ...  or A_(m))]"
      ]
     },
     "execution_count": 23,
     "metadata": {},
     "output_type": "execute_result"
    }
   ],
   "source": [
    "notOrIfNotAny = Forall(m, Forall(AA, Not(Or(iterA1m)),  \n",
    "                                 conditions=[Iter(i, Not(Indexed(AA, i)), one, m)]),\n",
    "                       domain=Naturals)"
   ]
  },
  {
   "cell_type": "code",
   "execution_count": 24,
   "metadata": {},
   "outputs": [
    {
     "data": {
      "text/html": [
       "<strong id=\"orContradiction\"><a class=\"ProveItLink\" href=\"_proofs_/orContradiction.ipynb\">orContradiction</a>:</strong> <a class=\"ProveItLink\" href=\"__pv_it/2d1f173843f703b13a8e7356e43ba47cff388b8e0/expr.ipynb\"><img src=\"__pv_it/2d1f173843f703b13a8e7356e43ba47cff388b8e0/expr.png\" style=\"display:inline;vertical-align:middle;\" /></a><br>"
      ],
      "text/plain": [
       "orContradiction: forall_{m in Naturals} [forall_{A | A_(1) or  ...  or A_(m) , [not](A_(1)) ,  ...  , [not](A_(m))} FALSE]"
      ]
     },
     "execution_count": 24,
     "metadata": {},
     "output_type": "execute_result"
    }
   ],
   "source": [
    "orContradiction = Forall(m, Forall(AA, FALSE, conditions=(Or(iterA1m), Iter(i, Not(Indexed(AA, i)), one, m))),\n",
    "                         domain=Naturals)"
   ]
  },
  {
   "cell_type": "code",
   "execution_count": 25,
   "metadata": {},
   "outputs": [
    {
     "data": {
      "text/html": [
       "<strong id=\"groupSwap\"><a class=\"ProveItLink\" href=\"_proofs_/groupSwap.ipynb\">groupSwap</a>:</strong> <a class=\"ProveItLink\" href=\"__pv_it/f068613a14946105eaf4868dcfa6ca5d204db5810/expr.ipynb\"><img src=\"__pv_it/f068613a14946105eaf4868dcfa6ca5d204db5810/expr.png\" style=\"display:inline;vertical-align:middle;\" /></a><br>"
      ],
      "text/plain": [
       "groupSwap: forall_{i, j, k, l, m in Naturals | i <= j <= k <= l <= m} [forall_{A | A_(1) or  ...  or A_(m)} (A_(1) or  ...  or A_(i) or A_(k + 1) or  ...  or A_(l) or A_(j + 1) or  ...  or A_(k) or A_(i or 1) or  ...  or A_(j) or A_(l + 1) or  ...  or A_(m))]"
      ]
     },
     "execution_count": 25,
     "metadata": {},
     "output_type": "execute_result"
    }
   ],
   "source": [
    "groupSwap = Forall((i,j,k,l,m), \n",
    "                   Forall(AA, Or(varIter(AA, one, i), varIter(AA, Add(k, one), l), varIter(AA, Add(j, one), k), \n",
    "                                varIter(AA, Or(i, one), j), varIter(AA, Add(l, one), m)),\n",
    "                          conditions=[Or(iterA1m)]),\n",
    "                   domain = Naturals, conditions=[LesserSequence([LessEq._operator_]*4, (i,j,k,l,m))])"
   ]
  },
  {
   "cell_type": "code",
   "execution_count": 26,
   "metadata": {},
   "outputs": [
    {
     "data": {
      "text/html": [
       "<strong id=\"trueEval\"><a class=\"ProveItLink\" href=\"_proofs_/trueEval.ipynb\">trueEval</a>:</strong> <a class=\"ProveItLink\" href=\"__pv_it/204e8b0577f9341f2b1086ee4b08703adf491baa0/expr.ipynb\"><img src=\"__pv_it/204e8b0577f9341f2b1086ee4b08703adf491baa0/expr.png\" style=\"display:inline;vertical-align:middle;\" /></a><br>"
      ],
      "text/plain": [
       "trueEval: forall_{m, n in Naturals} [forall_{(A, C) in BOOLEANS^{m} * BOOLEANS^{n}} ((A_(1) or  ...  or A_(m) or TRUE or C_(1) or  ...  or C_(n)) = TRUE)]"
      ]
     },
     "execution_count": 26,
     "metadata": {},
     "output_type": "execute_result"
    }
   ],
   "source": [
    "trueEval = Forall((m, n), Forall((AA, CC), Equals(Or(iterA1m, TRUE, iterC1n), TRUE),\n",
    "                                 domains=[Exp(Booleans, m), Exp(Booleans, n)]),\n",
    "                  domain=Naturals)"
   ]
  },
  {
   "cell_type": "code",
   "execution_count": 27,
   "metadata": {},
   "outputs": [
    {
     "data": {
      "text/html": [
       "<strong id=\"falseEval\"><a class=\"ProveItLink\" href=\"_proofs_/falseEval.ipynb\">falseEval</a>:</strong> <a class=\"ProveItLink\" href=\"__pv_it/e3ba5cdf8432b5030622b9c71a45e2b5a280537f0/expr.ipynb\"><img src=\"__pv_it/e3ba5cdf8432b5030622b9c71a45e2b5a280537f0/expr.png\" style=\"display:inline;vertical-align:middle;\" /></a><br>"
      ],
      "text/plain": [
       "falseEval: forall_{m in Naturals} [forall_{A in {FALSE}^{m}} ((A_(1) or  ...  or A_(m)) = FALSE)]"
      ]
     },
     "execution_count": 27,
     "metadata": {},
     "output_type": "execute_result"
    }
   ],
   "source": [
    "falseEval = Forall(m, Forall(AA, Equals(Or(iterA1m), FALSE), domain=Exp(Set(FALSE), m)),\n",
    "                   domain=Naturals)"
   ]
  },
  {
   "cell_type": "code",
   "execution_count": null,
   "metadata": {},
   "outputs": [],
   "source": []
  },
  {
   "cell_type": "code",
   "execution_count": 28,
   "metadata": {},
   "outputs": [
    {
     "data": {
      "text/html": [
       "<strong id=\"binaryClosure\"><a class=\"ProveItLink\" href=\"_proofs_/binaryClosure.ipynb\">binaryClosure</a>:</strong> <a class=\"ProveItLink\" href=\"__pv_it/03ccbb904c77ddf661d14da0dcaf47b2bc417a1d0/expr.ipynb\"><img src=\"__pv_it/03ccbb904c77ddf661d14da0dcaf47b2bc417a1d0/expr.png\" style=\"display:inline;vertical-align:middle;\" /></a><br>"
      ],
      "text/plain": [
       "binaryClosure: forall_{A, B in BOOLEANS} ((A or B) in BOOLEANS)"
      ]
     },
     "execution_count": 28,
     "metadata": {},
     "output_type": "execute_result"
    }
   ],
   "source": [
    "binaryClosure = Forall((A, B), inBool(Or(A, B)), domain=Booleans)"
   ]
  },
  {
   "cell_type": "code",
   "execution_count": 29,
   "metadata": {},
   "outputs": [
    {
     "data": {
      "text/html": [
       "<strong id=\"closure\"><a class=\"ProveItLink\" href=\"_proofs_/closure.ipynb\">closure</a>:</strong> <a class=\"ProveItLink\" href=\"__pv_it/1e77f1c8bab982aa0d5d5164ce399b19d182d2820/expr.ipynb\"><img src=\"__pv_it/1e77f1c8bab982aa0d5d5164ce399b19d182d2820/expr.png\" style=\"display:inline;vertical-align:middle;\" /></a><br>"
      ],
      "text/plain": [
       "closure: forall_{m in Naturals} [forall_{A in BOOLEANS^{m}} ((A_(1) or  ...  or A_(m)) in BOOLEANS)]"
      ]
     },
     "execution_count": 29,
     "metadata": {},
     "output_type": "execute_result"
    }
   ],
   "source": [
    "closure = Forall(m, Forall(AA, inBool(Or(iterA1m)), domain=Exp(Booleans, m)),\n",
    "                 domain=Naturals)"
   ]
  },
  {
   "cell_type": "code",
   "execution_count": 30,
   "metadata": {},
   "outputs": [
    {
     "name": "stdout",
     "output_type": "stream",
     "text": [
      "Modifying theorem groupSwap in proveit.logic.boolean.disjunction context\n",
      "groupSwap expression notebook is being updated\n",
      "Theorems may be imported from autogenerated _theorems_.py\n"
     ]
    }
   ],
   "source": [
    "%end theorems"
   ]
  },
  {
   "cell_type": "code",
   "execution_count": null,
   "metadata": {},
   "outputs": [],
   "source": []
  }
 ],
 "metadata": {
  "kernelspec": {
   "display_name": "Python 3",
   "language": "python",
   "name": "python3"
  },
  "language_info": {
   "codemirror_mode": {
    "name": "ipython",
    "version": 3
   },
   "file_extension": ".py",
   "mimetype": "text/x-python",
   "name": "python",
   "nbconvert_exporter": "python",
   "pygments_lexer": "ipython3",
   "version": "3.7.1"
  }
 },
 "nbformat": 4,
 "nbformat_minor": 1
}
