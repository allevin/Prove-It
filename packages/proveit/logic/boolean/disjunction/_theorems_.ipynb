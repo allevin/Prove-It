{
 "cells": [
  {
   "cell_type": "markdown",
   "metadata": {},
   "source": [
    "Theorems for context <a href=\"_context_.ipynb\" class=\"ProveItLink\">proveit.logic.boolean.disjunction</a>\n",
    "========"
   ]
  },
  {
   "cell_type": "code",
   "execution_count": 1,
   "metadata": {},
   "outputs": [
    {
     "name": "stdout",
     "output_type": "stream",
     "text": [
      "Defining theorems for context 'proveit.logic.boolean.disjunction'\n",
      "Subsequent end-of-cell assignments will define theorems\n",
      "'%end theorems' will finalize the definitions\n"
     ]
    }
   ],
   "source": [
    "from proveit import varIter\n",
    "from proveit import Lambda, Iter, Indexed\n",
    "from proveit._common_ import A, B, C, D, E, AA, BB, CC, DD, EE, i, j, k, l, m, n\n",
    "from proveit.logic import Or, TRUE, FALSE, Forall, Implies, Not, inBool, And, Booleans, Equals, Set\n",
    "from proveit.logic._common_ import iterA1l, iterA1m, iterB1m, iterC1m, iterC1n, iterD1n\n",
    "from proveit.number import Naturals, NaturalsPos, Add, Exp, one, LessEq, LesserSequence\n",
    "%begin theorems"
   ]
  },
  {
   "cell_type": "code",
   "execution_count": 2,
   "metadata": {},
   "outputs": [
    {
     "data": {
      "text/html": [
       "<strong id=\"trueOrTrue\"><a class=\"ProveItLink\" href=\"_proofs_/trueOrTrue.ipynb\">trueOrTrue</a>:</strong> <a class=\"ProveItLink\" href=\"__pv_it/3a6119cb1d7b18a914c57817b1a786bb99cf975b0/expr.ipynb\"><img src=\"data:image/png;base64,iVBORw0KGgoAAAANSUhEUgAAADUAAAAPBAMAAAC2KZqIAAAALVBMVEX///+YmJiqqqrc3NwyMjLu\n",
       "7u6IiIhUVFS6urp2dnbMzMxEREQiIiJmZmYAAABsGi9eAAAAAXRSTlMAQObYZgAAAHZJREFUGNNj\n",
       "uHMGBE4zIAFesNCZDSD2WogQB5hcACa5LkDVQeXYQcJsCVjluECG8ARglWNwBmJdBuxyulB5bHJA\n",
       "88DmYpMDuoO9AYccwwGGEAZccpcYJuKUMwHqxCXHvjABpxzXngB0uZXwUPaFq5rAgA6WovAANrQq\n",
       "6fyz5SwAAAAASUVORK5CYII=\n",
       "\" style=\"display:inline;vertical-align:middle;\" /></a><br>"
      ],
      "text/plain": [
       "trueOrTrue: TRUE or TRUE"
      ]
     },
     "execution_count": 2,
     "metadata": {},
     "output_type": "execute_result"
    }
   ],
   "source": [
    "trueOrTrue = Or(TRUE, TRUE)"
   ]
  },
  {
   "cell_type": "code",
   "execution_count": 3,
   "metadata": {},
   "outputs": [
    {
     "data": {
      "text/html": [
       "<strong id=\"trueOrFalse\"><a class=\"ProveItLink\" href=\"_proofs_/trueOrFalse.ipynb\">trueOrFalse</a>:</strong> <a class=\"ProveItLink\" href=\"__pv_it/7ee56ac56fe7319585c441261a5a8301695cb6a90/expr.ipynb\"><img src=\"data:image/png;base64,iVBORw0KGgoAAAANSUhEUgAAADUAAAAPBAMAAAC2KZqIAAAAMFBMVEX///8QEBCYmJiqqqrc3Nwy\n",
       "MjLu7u6IiIhUVFS6urp2dnbMzMxEREQiIiJmZmYAAADfOGkeAAAAAXRSTlMAQObYZgAAAHhJREFU\n",
       "GNNjeHsXBO4woAKWAihjH4TiBJMbwCT3A1Q5DpAwewFWOe4DQII3AascQwgQ2zFgl7ODymOTA5oH\n",
       "NhebHNAdHBNwyDFcYEhlwCX3mGERTjlXoE5cchybCnDKcZ9NQJfbBQ/iODDJBwx82bt3D6AG/zYU\n",
       "HgBsMC5BQDKFNgAAAABJRU5ErkJggg==\n",
       "\" style=\"display:inline;vertical-align:middle;\" /></a><br>"
      ],
      "text/plain": [
       "trueOrFalse: TRUE or FALSE"
      ]
     },
     "execution_count": 3,
     "metadata": {},
     "output_type": "execute_result"
    }
   ],
   "source": [
    "trueOrFalse = Or(TRUE, FALSE)"
   ]
  },
  {
   "cell_type": "code",
   "execution_count": 4,
   "metadata": {},
   "outputs": [
    {
     "data": {
      "text/html": [
       "<strong id=\"falseOrTrue\"><a class=\"ProveItLink\" href=\"_proofs_/falseOrTrue.ipynb\">falseOrTrue</a>:</strong> <a class=\"ProveItLink\" href=\"__pv_it/f442276f834cda47790ded243b38294647dfe1df0/expr.ipynb\"><img src=\"data:image/png;base64,iVBORw0KGgoAAAANSUhEUgAAADUAAAAPBAMAAAC2KZqIAAAAMFBMVEX///+YmJh2dnaqqqoyMjLu\n",
       "7u5UVFS6urpEREQQEBAiIiJmZmbMzMyIiIjc3NwAAAD1oEhMAAAAAXRSTlMAQObYZgAAAHtJREFU\n",
       "GNNjYGBgeMuACrhXgUEDiH0aIsQOJg+ASZ4NUHVQOTaQMO8FrHI8IEO4ArDKMfgBsTUDdjlrqDw2\n",
       "OaB5YHOxyQHdwVaAQ45hAUMIAy65zQyKOOWeAHXikmM7eAGnHE9XAIrcrlWrVq5atQIi5A1XpcCA\n",
       "Do6i8AAHVSocMnjJgQAAAABJRU5ErkJggg==\n",
       "\" style=\"display:inline;vertical-align:middle;\" /></a><br>"
      ],
      "text/plain": [
       "falseOrTrue: FALSE or TRUE"
      ]
     },
     "execution_count": 4,
     "metadata": {},
     "output_type": "execute_result"
    }
   ],
   "source": [
    "falseOrTrue = Or(FALSE, TRUE)"
   ]
  },
  {
   "cell_type": "code",
   "execution_count": 5,
   "metadata": {},
   "outputs": [
    {
     "data": {
      "text/html": [
       "<strong id=\"falseOrFalseNegated\"><a class=\"ProveItLink\" href=\"_proofs_/falseOrFalseNegated.ipynb\">falseOrFalseNegated</a>:</strong> <a class=\"ProveItLink\" href=\"__pv_it/a3b8415d8bad5300dc7e872d42225d73d213784d0/expr.ipynb\"><img src=\"data:image/png;base64,iVBORw0KGgoAAAANSUhEUgAAAFYAAAAVBAMAAAAutAQGAAAAMFBMVEX////c3NxERESqqqqYmJgQ\n",
       "EBDu7u4yMjKIiIi6urpUVFTMzMx2dnYiIiJmZmYAAABjE816AAAAAXRSTlMAQObYZgAAAQJJREFU\n",
       "KM9jYCAPzMAnyTIBmce9AERKYCpjbACRr5GF2BNA5D4IB2wKN9SQB2BpZLUdDEhqVyNEoGpZDiCp\n",
       "DUNWuwlEXENWyxaAUMpZgKyWXYCBgfkBsloGZYRavgPIakHqQOqR1J5D8poDslqQ/ZsYUNSaM7y9\n",
       "CwR3gEzWCShqgf5aiap2KoS3C4j5UdXyMrAVoKrdj1MtnwGPA061rAYoahkLeBlwuoEJ1W8Mqz3Q\n",
       "1LpDeUDM8wBV7aZraGqRwozzAgMoUK7evXsJEoYQFXzAYIq9e1eBgaESKY4DUVMXdwIqHzmOGXzw\n",
       "p26eBow0iROkoyTpBXjVLkThSeBTyrGBAQCMM0l31yFwowAAAABJRU5ErkJggg==\n",
       "\" style=\"display:inline;vertical-align:middle;\" /></a><br>"
      ],
      "text/plain": [
       "falseOrFalseNegated: [not](FALSE or FALSE)"
      ]
     },
     "execution_count": 5,
     "metadata": {},
     "output_type": "execute_result"
    }
   ],
   "source": [
    "falseOrFalseNegated = Not(Or(FALSE, FALSE))"
   ]
  },
  {
   "cell_type": "code",
   "execution_count": 6,
   "metadata": {},
   "outputs": [
    {
     "data": {
      "text/html": [
       "<strong id=\"orIfBoth\"><a class=\"ProveItLink\" href=\"_proofs_/orIfBoth.ipynb\">orIfBoth</a>:</strong> <a class=\"ProveItLink\" href=\"__pv_it/f979cfc1b658c41823f668f85654e0f5f421d65e0/expr.ipynb\"><img src=\"data:image/png;base64,iVBORw0KGgoAAAANSUhEUgAAAK0AAAAXBAMAAACL0NJjAAAAMFBMVEX///8QEBC6urrMzMxUVFRm\n",
       "ZmZERETc3NwyMjKqqqp2dnaIiIiYmJgiIiLu7u4AAAAU9Wx4AAAAAXRSTlMAQObYZgAAAshJREFU\n",
       "OMu1VU1oE1EQ/ppNsm2y3fakN83Bm0IiCB78SdBQCh6SQ6N4KFXE1otmD9JWpDQXDYK0udSrvVlR\n",
       "JKK3HLqKB60Hc7AXFUxFwUuxNP3T1uq8mWxdVxKJPwu7772ZN9/8fPPeAv/pqfyR1e6G2sf0ltXk\n",
       "eZOwWkLGQx75k2/J5LkIAjHgtlqPNYnbWstyXH18PI3xdxsQWARywCCt9FNN4pZkMN4qfL+CDBc5\n",
       "j3V6l4AZcR0oNIm7Q4ZLfZYCU1G1cwbhVXL2BZij4dbQ0EiTsL6cjMXpiBry9E6wINhJHshpkAJd\n",
       "6e9/1SRuYFLgKzdt1DDzLOlIQL9KkYfSwFFgANhS3VjOdAkHEYcklSzaspmeM46E4fAOca4q1UAT\n",
       "huLHSr1K10YJ7YLJaRmLwkUnwp08c8h8IQ4eAfdrkpZIzfFoGsKZXyTTFsyXKhNVD4TZ/YcNyTEB\n",
       "36ob1+yT6HqAqCWiDkbRksmU7CnjoyhOK2zari2QN1u4vDfLqvYiAmU3bmieg8JroBduXOrbFiHw\n",
       "JO6KYkmlNym4Zm4fey/2s+pTDE8tN+6BIE/MKoy8UwfuS/q0S8WG5dRCUymnClIHDBxRMn8tmmjp\n",
       "4QW4cRMSvm+91OXcJUFVGZ3sWxd47T/I/HH76muKJJXHBNs9wzTrpoihigvXKITZOJSDUTsO3EZc\n",
       "0uCmxHm+stW+e8ecDS3KmTmbybLyLJWi4MKdzxxn42Aa5mfnXFAkgzvzMLJrUvsrQnl2Kdl9nRtR\n",
       "EWAovICFOLct2UZjLtwT0KrMVQG+qnMwtnsOymHPem5rtocsbT0PfRP6rKu+PirlBoYtjFYwknZ2\n",
       "z/zmQN5xJu9XoKfeEJ9Ty5nuwg9ckzr04lc7bofGMz3Xfrkn6zxmziMw3Av35Wn/vE9PNMT1Wx7B\n",
       "/jq4mnfj5Ya4D7wCuw6u8S//qIm/Mf4OHOSxvzSERbcAAAAASUVORK5CYII=\n",
       "\" style=\"display:inline;vertical-align:middle;\" /></a><br>"
      ],
      "text/plain": [
       "orIfBoth: forall_{A, B | A , B} (A or B)"
      ]
     },
     "execution_count": 6,
     "metadata": {},
     "output_type": "execute_result"
    }
   ],
   "source": [
    "orIfBoth = Forall((A, B), Or(A, B), conditions=[A, B])"
   ]
  },
  {
   "cell_type": "code",
   "execution_count": 7,
   "metadata": {},
   "outputs": [
    {
     "data": {
      "text/html": [
       "<strong id=\"orIfOnlyLeft\"><a class=\"ProveItLink\" href=\"_proofs_/orIfOnlyLeft.ipynb\">orIfOnlyLeft</a>:</strong> <a class=\"ProveItLink\" href=\"__pv_it/eb45adf15a3b0d0f10e9e7493be4dac879d76bd00/expr.ipynb\"><img src=\"data:image/png;base64,iVBORw0KGgoAAAANSUhEUgAAALgAAAAXBAMAAABKV5jPAAAAMFBMVEX///8QEBC6urrMzMxUVFRm\n",
       "ZmZERETc3NwyMjKqqqp2dnaIiIiYmJgiIiLu7u4AAAAU9Wx4AAAAAXRSTlMAQObYZgAAArVJREFU\n",
       "SMe1VT9oE1EY/yV3uYTc5QxOOhnBwUHpDYKDfxI0VLcUJBUFSR1MFbS9odg4SEtB4iCaRXEzi1hB\n",
       "JINOHXJuFYfGIYsUDKLQJSiatio1+r33LnfP0AY59YN7f77fe7/3/XvvgP8preBbw7VBqJECGmzw\n",
       "KhD5AdEd6WfNdbLDc8Ap4DGb3w5E7u66w73gQ4u3oTGgkEIMuEqz6FgQbl1ExXjLIqtaviZNXToD\n",
       "o4oYQZFKEPKQSNe1gk2twuxLCE2dFEtVmEkYj6anrweKyl7R1eop1pXpuys05+l7TedcAtaKxTeB\n",
       "yM+Kkmk9cOASlwXQAUoT1D8EjgPjgAfdW80PW36KSGK2T+ihJLd4+46HmIdEEalTOgvPl9ngPrAH\n",
       "5ixPzGeRnyT0JBtoPcKllFRmPZRkO29TmBlx06uKhfo60M7QYDcdCZ379WGDQ5EMwusyuVlwfHIP\n",
       "JeHGKNlsThjcwIrQa3S6zsjS1DsiyU+bHErUEGnI5PH2iE/uoT1yCl6IO44zeCL028hq47sgN2f5\n",
       "TVNqRQ59tLBoy+SHNOkWeCjJTtZQESdEnEpwT02Tp+o3ERaMH2MqFec4NLTwbAIyecYzVUZJLrPr\n",
       "R+SxT3yqHnafGlbmM8ybRVZEfPNL1Dk0D7xoSeRGRWeb48Vi8aKEikrjYda6okiutLwyV3a03AUh\n",
       "dqLZzE9y8AL5XpHI2/nRrsumSSjJfno7dpVhTH4VSbkh1KM/s9mbvAbmmG2MNGIjzQuYgjVkSeSn\n",
       "oXzxyT2UGWX/fqmO9l0ys1ez2EdZdqJlRLuINqWYh8mGDZTcFPsoM6o6+AbHe8/9+zVEc8vKBuZX\n",
       "8ycrPrlJRTz1w0lzNxUJ/YOHeqX/nZfGmgw4m+2eGkx+om9+cAtyxd5sd3Tgb063+hTOFuTGv/5z\n",
       "q39P8QvA3bDV2z1EqwAAAABJRU5ErkJggg==\n",
       "\" style=\"display:inline;vertical-align:middle;\" /></a><br>"
      ],
      "text/plain": [
       "orIfOnlyLeft: forall_{A, B | A , [not](B)} (A or B)"
      ]
     },
     "execution_count": 7,
     "metadata": {},
     "output_type": "execute_result"
    }
   ],
   "source": [
    "orIfOnlyLeft = Forall((A, B), Or(A, B), conditions=[A, Not(B)])"
   ]
  },
  {
   "cell_type": "code",
   "execution_count": 8,
   "metadata": {},
   "outputs": [
    {
     "data": {
      "text/html": [
       "<strong id=\"orIfOnlyRight\"><a class=\"ProveItLink\" href=\"_proofs_/orIfOnlyRight.ipynb\">orIfOnlyRight</a>:</strong> <a class=\"ProveItLink\" href=\"__pv_it/5ea0fe5f41473c0acbe3ab1323775fffb10a7bab0/expr.ipynb\"><img src=\"data:image/png;base64,iVBORw0KGgoAAAANSUhEUgAAALgAAAAXBAMAAABKV5jPAAAAMFBMVEX///8QEBC6urrMzMxUVFRm\n",
       "ZmZERETc3NwyMjKqqqp2dnaIiIiYmJgiIiLu7u4AAAAU9Wx4AAAAAXRSTlMAQObYZgAAAoBJREFU\n",
       "SMe1VT1oU1EU/tKXP8xLDE46GcHBQekbhC7WBA3VLYJEUJDGwVcEbTOIrYM0FCQOolkUN7OoFUQy\n",
       "6NQhcas4GIcsUjCIQhdRJG1VSvXcc14Sc194yFMPvHvPPd9937n3nHPvBf6ntP3/OlLzQs0U0FTK\n",
       "K1/kB6Ub11lznezEAnASeKzGt3yRO3/d5l2wanEbKACTKUSBKzSKFPxwxyQq5jsV2aDVt6SpS2dg\n",
       "VhElKFTxQx6QdF2dLFJrqPXFxVInw+sqEkmYj2Znr/mKyj7pavWU6sr03RHLOfrekJ8LwLptv/VF\n",
       "fkZKpn2/AYe4LEAHmJum/gFwFJgCetDdtfyE1U9RTzSU5Ca37znEHBJDUmd0lp6vKOUesBeJEifm\n",
       "q+QniVhSKeHB+tJQkh3cpjB/wklvMCWJ3gA+ZUjZQy4R43193GQolMHIhptcR0nYnZHN5mTBTayK\n",
       "PUzeY2p6mvqGJPlpi6F4DaGmm1xHu+QUvABvHKfxROzbadXmDyFPlPikGTWboc8WlosuchdKsks1\n",
       "VMRxidMcHK9pCkTwu4QFU0eUKYizDI0uPZuGi9yFklxUx4/Io19kyiHnqlFlPq92s6yKiD2+RJ2h\n",
       "ReBFu0/+0Lbt0hBUKo3DHN6SzV1q98rc2Nl2JgSUx0QrP8Pgedp7ZXDlhSEoyQG6O3aXYc5843LB\n",
       "dTGf+pnN3uASWVDlpX4LFZHmAqZgjVo6uRtViyoOnoTD2iFLdGsW+ynLjUgZkS1EWtDJ3ahaVNX7\n",
       "BG/rXvcf1hHJrRibWFzLH69o5NYQ9A8u6lX9nv9ND7vfFm182Zv8mDYe8yQf08YRz2cuZmmGhid5\n",
       "49+93MG/p/gFg82x1Dor51YAAAAASUVORK5CYII=\n",
       "\" style=\"display:inline;vertical-align:middle;\" /></a><br>"
      ],
      "text/plain": [
       "orIfOnlyRight: forall_{A, B | [not](A) , B} (A or B)"
      ]
     },
     "execution_count": 8,
     "metadata": {},
     "output_type": "execute_result"
    }
   ],
   "source": [
    "orIfOnlyRight = Forall((A, B), Or(A, B), conditions=[Not(A), B])"
   ]
  },
  {
   "cell_type": "code",
   "execution_count": 9,
   "metadata": {},
   "outputs": [
    {
     "data": {
      "text/html": [
       "<strong id=\"neitherIntro\"><a class=\"ProveItLink\" href=\"_proofs_/neitherIntro.ipynb\">neitherIntro</a>:</strong> <a class=\"ProveItLink\" href=\"__pv_it/6ea10832119e22c54d518e03ef206e975463385e0/expr.ipynb\"><img src=\"data:image/png;base64,iVBORw0KGgoAAAANSUhEUgAAAOEAAAAXBAMAAAAPVjVNAAAAMFBMVEX///8QEBC6urrMzMxUVFRm\n",
       "ZmZERETc3NwyMjKqqqp2dnaIiIiYmJgiIiLu7u4AAAAU9Wx4AAAAAXRSTlMAQObYZgAAAvpJREFU\n",
       "SMe9Vj1oU1EU/pq/1zYvaXAQXGoGBwelTxC6qC0aSsGhGZpBoVgRUwc1b5BWh9K3aBCkzVJXs6gV\n",
       "RSK6dWgUB38GO9jFH4yi4Gbpv1aq955z38tLXpIhUg+cvvvd8979zj1/KfDfpfRvn/sK9YBHnimd\n",
       "l+B104wHa4DDVe88/5NInIsjaID0ntybbJpxsgaYovvS0qC/OwXVEmCBdFQ8tOFmCcMFL9A/yUwF\n",
       "DGfHvyl0BXgF0lZhDuaaZWwpecGVU6akkbeI0E54XbjxC/gMUv3u2Nh400HdWwMU5uLykRU6TRuh\n",
       "mODuFM8c61o6/a5pxpNe4CvdKkKxZWmnoxfaNXHb9iTrMWAEcMw3V1N9Rjn1jmTLy7ZMavAML2+4\n",
       "X2HwBT2UPRFRP9dHz/HZIelEm8W6B1GLEr7EeY8hHKNYVBAqK8tT4BGvdogi+Cglz0BIHBNJVUcB\n",
       "Ci/mTETfyjvEWCMIUxS+/SZzsBe+dS+jsrIMAl0mrWw//L028CcSA3y1eXxn42nJKjj8i6zhIlfU\n",
       "wwUyRwoIznsZlZXlPTCEOowiGS0UM5zAAzaKxsCbfJkxatGo8BfSZP5h4IXpYbStJNFl6Cqtu9yM\n",
       "BEQtRigruMzzDH4ZnoFcOaoYOSr3A8rtrtknF+FhtK1cjZuzfaoPz7sZJdDEya2L/M0hngiyHbUN\n",
       "WQsWK6bJlZeYI/uMKIxSmfFOOp22HCujdgt6JzPdtr0wFJCpC22xFxdKTjsekAPQ7g60SFeiC6kM\n",
       "vXBWBDZXecfhspVQKInoTwb73YEQYHR3Fnpmg4oVV7kUMyuJfmqc1jgrdHlW0EQPtaE4qsuoZnSs\n",
       "hDpy8C2rwWa6p5xZ2cJHqsaFmnJK9onRUNSy0LagLaCa0bYymihhPKnaNO/u2XzjAXVfKcnXNWgD\n",
       "H0RVzaym+nNVjIZjJdQ+lRq83ujXqo7IQcPDxu2lax3yfKLXOOZSXeCRgMlaId0NGbtrHKMV6gGP\n",
       "PFZaIcWGjMVt/pcrsE3n/gUjB88wCi/D2gAAAABJRU5ErkJggg==\n",
       "\" style=\"display:inline;vertical-align:middle;\" /></a><br>"
      ],
      "text/plain": [
       "neitherIntro: forall_{A, B | [not](A) , [not](B)} [not](A or B)"
      ]
     },
     "execution_count": 9,
     "metadata": {},
     "output_type": "execute_result"
    }
   ],
   "source": [
    "neitherIntro = Forall((A, B), Not(Or(A, B)), conditions=[Not(A), Not(B)])"
   ]
  },
  {
   "cell_type": "code",
   "execution_count": 10,
   "metadata": {},
   "outputs": [
    {
     "data": {
      "text/html": [
       "<strong id=\"binaryOrContradiction\"><a class=\"ProveItLink\" href=\"_proofs_/binaryOrContradiction.ipynb\">binaryOrContradiction</a>:</strong> <a class=\"ProveItLink\" href=\"__pv_it/09914cad4332a3a37704f959d3d64a9d1df152bb0/expr.ipynb\"><img src=\"data:image/png;base64,iVBORw0KGgoAAAANSUhEUgAAALMAAAAWBAMAAAB567CdAAAAMFBMVEX///8QEBC6urrMzMxUVFRm\n",
       "ZmZERETc3NwyMjKqqqp2dnaIiIiYmJgiIiLu7u4AAAAU9Wx4AAAAAXRSTlMAQObYZgAAAh9JREFU\n",
       "OMu1lL9v00AUx78kcVxi1/QfAHVgrJQMSAwMRCCVbs0Q0wlhCeFu1ENFp4psFgt4gT+gQ38sVSqx\n",
       "oA64UgdQB7pkASxlgG4ViKhFiFJx73yOn0uNKlE/KZf3zffe53LvzkYfhcUuDTvnDNW7NK7R8Oyc\n",
       "0eUWjY9pEacQ9IhothYUgjZXFhYWUQgah677oSD0bWBWJr4cXx7Ykw1KSsm8EU8lF+fs9oMMwk/T\n",
       "jKnQV2F1ZGe+S2mOwRijpJrMez+eZFvABierkr9NhR6FEdL3lyMptSZKPzjauh+Crqn4tIG6x2iq\n",
       "JA5uKrQRjsoncr0Xr9SFtsvRtf0WXosL2gQ+Avf4v1YlcXBToa3ONam6rpRfG3jrcfSNqkN5xYM1\n",
       "gOnzw1IlMYabCo3ZWzRW1Jr1zVePwNFNsQljHPPiYH9tTvJXToXvIWMm6Bdy/+/wRqpVcSB9hjYD\n",
       "4xssB3dEazowr9Bvy67rdoYlsRqaHH2BDsnq2XOS+FD0JGDoffvuMbBEra62YP1Mqp20RKrU1KIo\n",
       "uhxF9PIwydc83JTXWdj1BkPPoDwA9oSPSwFKgxQ9LJEqY2ZiQlSGug/9GHqP9bokLqa4YrVtkT/p\n",
       "Y7EF3VewpCRWsXlKfD6EPv2pfITVA3sqSNHWtIP53yGdP2rP7fZT0cf4MjeGJVIpMz9Mllczjnf6\n",
       "pJMqP67nonMmnVT5EZ4FHf5DnS0q//tm/QOva5lS+2+2eQAAAABJRU5ErkJggg==\n",
       "\" style=\"display:inline;vertical-align:middle;\" /></a><br>"
      ],
      "text/plain": [
       "binaryOrContradiction: forall_{A, B | A or B , [not](A) , [not](B)} FALSE"
      ]
     },
     "execution_count": 10,
     "metadata": {},
     "output_type": "execute_result"
    }
   ],
   "source": [
    "binaryOrContradiction = Forall((A, B), FALSE, conditions=(Or(A, B), Not(A), Not(B)))"
   ]
  },
  {
   "cell_type": "code",
   "execution_count": 11,
   "metadata": {},
   "outputs": [
    {
     "data": {
      "text/html": [
       "<strong id=\"leftIfNotRight\"><a class=\"ProveItLink\" href=\"_proofs_/leftIfNotRight.ipynb\">leftIfNotRight</a>:</strong> <a class=\"ProveItLink\" href=\"__pv_it/343966fa875dce5408c8e426f0a7f1298a2b5be60/expr.ipynb\"><img src=\"data:image/png;base64,iVBORw0KGgoAAAANSUhEUgAAAKsAAAAWBAMAAABNknGBAAAAMFBMVEX///8QEBC6urrMzMxUVFRm\n",
       "ZmZERETc3NwyMjKqqqp2dnaIiIiYmJgiIiLu7u4AAAAU9Wx4AAAAAXRSTlMAQObYZgAAAi1JREFU\n",
       "OMu1lM9LFVEUx7++cRx5897kPxAN0S6htwhaRLyHSrWzzeCmUoKuQZCzEDWidBMPXKib2vZWZRAx\n",
       "SLsWTosgaePmtZCgR5QEikqgFYh47pm58+74A5TGA/fec8585jv3nnvnooETsUXZfc5U8gq119KZ\n",
       "ylR2mtoINWsgS9XCNypsOzVzJkvZh/0+ab8aHX2caQ2CeZf6LSGWslTNNV6ENHQDgxxXuX++6V0t\n",
       "7SFd5VSVs4fSw+8oBzScgzPBlf4dFbwDdkfkTU4+DdlTOxojKWpf6GL8Bg1F2Pzyz23OmhXk/gAr\n",
       "3k0EtZWzKVlCbBrshFKmhUZPT6/k7bDIf9rbOqeLAcxF2HeerJFsfjUlS4hNh2ZYUYlpYQ5okat3\n",
       "Ji7yVwLB6fUSPvn4yFtaO39bl2WE/GuKSkwL6bNFrsdgl+xbcYvTF96/ewBwtQPvdKq2jMzBqigq\n",
       "sWZokWz7hvSe8fQXMM/5WeBDw6hFszUv67KMLKPVjylK5YUQ95oh8Ita2470WuR5cOreED+4S0ua\n",
       "Mb4IcV/WNq/JRkjeHVZUPNU2LRw5U0Vh6K88CgUpZ/oo88n7R0sqOZVotinZCHEG+hTVlNXDlHUC\n",
       "p0KrCmsHVp13hYvwSJNlBHhDn4ypMT+SjcP99mMLVu9XYxuzm951Ws6yy7+D0LYsQnjXFVXmx4YK\n",
       "D7/TEu8l1Tax1L1paX54tGvi0sHpw65jwz+abHg82cL/3XWVY7+xCwdBstD1+LkzAAAAAElFTkSu\n",
       "QmCC\n",
       "\" style=\"display:inline;vertical-align:middle;\" /></a><br>"
      ],
      "text/plain": [
       "leftIfNotRight: forall_{A, B in BOOLEANS | A or B , [not](B)} A"
      ]
     },
     "execution_count": 11,
     "metadata": {},
     "output_type": "execute_result"
    }
   ],
   "source": [
    "leftIfNotRight = Forall((A, B), A, domain=Booleans, conditions=(Or(A, B), Not(B)))"
   ]
  },
  {
   "cell_type": "code",
   "execution_count": 12,
   "metadata": {},
   "outputs": [
    {
     "data": {
      "text/html": [
       "<strong id=\"rightIfNotLeft\"><a class=\"ProveItLink\" href=\"_proofs_/rightIfNotLeft.ipynb\">rightIfNotLeft</a>:</strong> <a class=\"ProveItLink\" href=\"__pv_it/592f1a13f46c732fb1dd2053ab93375a25e075e70/expr.ipynb\"><img src=\"data:image/png;base64,iVBORw0KGgoAAAANSUhEUgAAAKsAAAAWBAMAAABNknGBAAAAMFBMVEX///8QEBC6urrMzMxUVFRm\n",
       "ZmZERETc3NwyMjKqqqp2dnaIiIiYmJgiIiLu7u4AAAAU9Wx4AAAAAXRSTlMAQObYZgAAAoFJREFU\n",
       "OMu1VDFs00AUfY2TuMSO25EFFCE2kJIBiaFDLRqlbMkQlwWoAeEOSNRDRZFQaYRUBTpAFpgjhlIW\n",
       "ZCQYUIYaCSQQQ8tQBuiQAbqUAGrSokIp/Ds7sUOjShHmpLv79+//53/vf39U8V/GElveBAYnZxvp\n",
       "zA3gITvcDi7MHh0YTeAKiaIeHOygRVNFL5EbKQUHu2ACi2XIDyYnpwLM1TmabynUTcN4HyBsA7h6\n",
       "mfYhYIwriny9t6FlUn+ZJty913SFfeNa/kKbSdHdhUbl6QoTDkMp8NJYdyqkH1K/I83OzthcamZ0\n",
       "sYmP58DjtrpadwXpO1BTSYhD4s6ftrk+oiJEV2vaaVjltUN+WGXUBuWZzTyQNH2wrjMQpZAkdpDs\n",
       "OP/THi1zfdxCZAnS+etfCDb22Q8bq+XwjMqRgvkAnPFH6zoDfXQp/2AxFI5xUiyD67+m8MrESyZa\n",
       "5SNn/bADUR1RIGxCqUMu+lCbzlSy9PLwFpPGTrA17H4+WXlCieRsW9qBNm5V9owEJoDQz0rG30zC\n",
       "rdhZ2U5z77u8LbzGAtfPUz6qQtmJNjLgg5VL0jcoOoaJjgLkg0w3ZxhGwXPmZSvs51/sYWlQlrVx\n",
       "frpIPJSEd4ZxiXEb88HWtJEd4D6jNpqDstUMVfecMfI7nb7pPFFmmoiJQV6uZJ1MKaoTbRvsKQh1\n",
       "YJUs0VdCqO7Btpx3jaNka4tFiDsQKavDLgnXPNgQBUGVE3tB8nQVUzmIRfeWO3dC/bgJMbsibGN+\n",
       "QztJjWc1wX8Hw0uZktUx8ctmRYDYHS1/i0h0ijXlOO/VhFvSHHEL75m+YXYy33sc76zWuzPfNezu\n",
       "YO1/a3Zq1x5/AJlNttt+3hmaAAAAAElFTkSuQmCC\n",
       "\" style=\"display:inline;vertical-align:middle;\" /></a><br>"
      ],
      "text/plain": [
       "rightIfNotLeft: forall_{A, B in BOOLEANS | A or B , [not](A)} B"
      ]
     },
     "execution_count": 12,
     "metadata": {},
     "output_type": "execute_result"
    }
   ],
   "source": [
    "rightIfNotLeft = Forall((A, B), B, domain=Booleans, conditions=(Or(A, B), Not(A)))"
   ]
  },
  {
   "cell_type": "markdown",
   "metadata": {},
   "source": [
    "This **constrained singular constructive dilemma** will require a single provable $C$ be designated as a Boolean.  The \"unconstrained\" version will drop this constraint, using the constrained version as a convenient Lemma.  This will all culminate to the **constructive dilemma**, below, that can prove some $C \\lor D$ given $A \\lor B$, $A \\Rightarrow C$ and $B \\Rightarrow D$."
   ]
  },
  {
   "cell_type": "code",
   "execution_count": 13,
   "metadata": {},
   "outputs": [
    {
     "data": {
      "text/html": [
       "<strong id=\"constrainedSingularConstructiveDilemma\"><a class=\"ProveItLink\" href=\"_proofs_/constrainedSingularConstructiveDilemma.ipynb\">constrainedSingularConstructiveDilemma</a>:</strong> <a class=\"ProveItLink\" href=\"__pv_it/91dcc92db0a0e2742101dd5cc04dcd13c4c9284e0/expr.ipynb\"><img src=\"data:image/png;base64,iVBORw0KGgoAAAANSUhEUgAAAP8AAAAWBAMAAAD9bVezAAAAMFBMVEX///8QEBC6urrMzMxUVFRm\n",
       "ZmZERETc3NwyMjKqqqp2dnaIiIiYmJgiIiLu7u4AAAAU9Wx4AAAAAXRSTlMAQObYZgAAAzFJREFU\n",
       "SMfFVk1IVFEUPv48X773fAqtCiqLWhU4C6mFhEMx1s6J5imIlRVOQZBvYRmEf1BILspNQruJoOyH\n",
       "8RVWCxe9FkHRpo0uSmqklGjCItGwpDrn3Pc3NBNGwTsw1/O+9813v3vuuXeEDIQcL2h4HsbM+oNY\n",
       "qxyHm5RfDMPAVRuK99lwGlO5LYT537/GYdSEVdgE0lAIBvqp+zYCaDe6urpDmF9aovEUfhaTyZch\n",
       "GOjto/EtfnYDHGNogMfhBaMhwpkaa8maud+qdpMBN/HpAZBizEg/xD/lHUbiaAD2RA/ZLrQZdDaj\n",
       "feFHrQrUKkpKpgAOC2hw8Lygu83qcIP0IIix04Yyxh8D3PVhX/SNt7YKUFl9ZlnsTRSKv1JSgwsb\n",
       "BsgarWClsptyDCBXpeUE6J4AR/E8Lp7ZCVTy6+iIYvzkkRpRtSv4NkxPCD8WSHQ56WtxqAP1SM8c\n",
       "GlA+5hhAroonp9On+wLldKSmU7haix5fARxg/IovSrGBubR7el8tF8dK8otPEXhKjpXPOMzBE8Ks\n",
       "1NaDQQPMxXyPT/cFuKNGSZjWpc+DJnqjzPREKRrprSS+sIvGUsdozfjYSa6EmIzbwzLW5fQAc++B\n",
       "HPXpApSSGP24rElvL76PN2SgCeHjqz1RinqqT5rTy1zCZ/CIn0awb8hcZYqXlRIVkOqCBpg7C6Wm\n",
       "T/cFAIwIfHPnUfpAW++c/P2OqGhZvAe2iNoVkRd9wuhgoXYsK+1iEXJ1q2QymTxBPaAEDAiuUt0Z\n",
       "oPsCANubgfY6y4WPg77kbFy7KUTFY+05w7mANd4NE+r5PC+JVgUJJ1MyelRUIMeA4OptzQG6AFUD\n",
       "IxEHaHLrWzlEJ+I+4TFXNO/FtA25tjwA8g+QsZvPmPoagGvcZ7wFZwMGmAtwB815dAHqcxi36RQM\n",
       "gRIhuDcD3XEg+AOu3BHNE+8WQW6cKlmGkQVjL1am3oaZ2C30OlvNF1Ey0ISCywfAp7sgVpqKpida\n",
       "0gQrl4zEBafkfFewaOHQvMy7KK9jD3iR87MtB3I7AGfywtCzkl+IHd6VaeZ9X+j/hgL0AvAfwv69\n",
       "FCsyoP0V/A8R/f8/y78A7Q8LPko7h8wAAAAASUVORK5CYII=\n",
       "\" style=\"display:inline;vertical-align:middle;\" /></a><br>"
      ],
      "text/plain": [
       "constrainedSingularConstructiveDilemma: forall_{A, B, C in BOOLEANS | A or B , A => C , B => C} C"
      ]
     },
     "execution_count": 13,
     "metadata": {},
     "output_type": "execute_result"
    }
   ],
   "source": [
    "constrainedSingularConstructiveDilemma = Forall((A, B, C), C, conditions=[Or(A, B), Implies(A, C), Implies(B, C)],\n",
    "                                                domain=Booleans)"
   ]
  },
  {
   "cell_type": "code",
   "execution_count": 14,
   "metadata": {},
   "outputs": [
    {
     "data": {
      "text/html": [
       "<strong id=\"singularConstructiveDilemma\"><a class=\"ProveItLink\" href=\"_proofs_/singularConstructiveDilemma.ipynb\">singularConstructiveDilemma</a>:</strong> <a class=\"ProveItLink\" href=\"__pv_it/d57de25fb482cc9f3cea56d72db03aa47a9d88e20/expr.ipynb\"><img src=\"data:image/png;base64,iVBORw0KGgoAAAANSUhEUgAAASwAAAAZBAMAAAB5kw7sAAAAMFBMVEX///8QEBC6urrMzMxUVFRm\n",
       "ZmZERETc3NwyMjKqqqp2dnaIiIiYmJgiIiLu7u4AAAAU9Wx4AAAAAXRSTlMAQObYZgAAA7lJREFU\n",
       "SMfNV11IFFEUPu66Ts7OjkJPFZVFPRW4D1IPEi7FWm9utKMkVlvhGIQ5D+YG4R8Ukg+1Lwm9GUHZ\n",
       "D9sWVg8KTQ9BPxA+pA+mtVKJZFgkGpZU556Z2fnxB2M26MDevXPOd+Z+99xzz70D4F7qRxXIpnhG\n",
       "h7PxmgHItjT+r7TS2aAlZp0WTfWlS1oB9iek3PMRH4ZruAjSusmeLrqkxSfwb1UWAn9VBc9+FWk1\n",
       "4QMXc0mLXtDkntXEW2zuKkiLzdGXcJvyLNwH3dNqZwHfxHJLuBGPN7veiS/i8bj7DembY+1pKhCz\n",
       "sjzsmlaBLNd3u6bV2sba90RrD0AdKTuo7ZqRyoMOeJHR6TA6NhTSyg1CHiv1vVLy0eIeYFrzG6To\n",
       "cYvaH66epHPiiGqW0y0gEknhG2mEQvAXar3OzvMaztgROsSG0mh5QjCBvV0q5BUu7mG1PgG4Z6q9\n",
       "IwBHqfdOMWkFwE+Df5zX1jcEnu8Ak1INpLonN9toIcTPZpdBmVV+APqR3DSGIubwMI+6jDUKUGwe\n",
       "o8UY9i7q/aY2TbT8aoAKTnKQlIEU+AbAf6xlCmnxn220EOJPaHMhlIVWP+DeHsP08qYcHkzy2VY3\n",
       "rW8ADpH+Cquga7EppceNhA3SCGJbCYUyJZPpSxCeKfCUdVPd2w5baREE+3sNlIXWhDeEFYeNknZ6\n",
       "MGHZm7GK0yBoOcfykf+KnSl6rGBWn35U1+1mqlx9AsV9vacAKNtS0npbbhHkPnAhA2WhldeIWT6U\n",
       "UVk8fDJKe9Bi9fzsK09DJapPrMbAm7W8jMUyqdO6TKvxHB6TqQczMu3t1qLlK7UOQpBxyFV0lJVW\n",
       "PpvUDyct46UAUtC08m0gbNAr1QEoMAuLgHVrq6LTymEcxUGpgcapxRVKeIdk+STLLd4yiAbhixoN\n",
       "lO1isw5/LEsmF3iQ7KgyrXkREOf0Va5VcpCWqJ/yJeekhHHfEmhFFSijQjTHtoYY0qJlo6VBxFiV\n",
       "gbLReoW/Sn0NbB5+CSUasVgLEmxXPmD6MIIQy6eXuAZuR7TKdQD3C7hBympaxLOWQQgCcAcp6yjn\n",
       "NXAsAXzQ6SFOodzOWM8o0JqG5ggw9SeMkrgG4NoSt9MPs8BVjHjnoWdG2odxHC+icipbUl6D0CY0\n",
       "UE5aYrQ6CQs9cK1CGWuZyl+Sohf0RaPaFr6VXv7SLGR61zG3nAmsCbeSS7PjpsRZxlUt+paV3eV3\n",
       "Lo6K/fVdfmkP70q+khy01H9PS8jel09oefPowu/EkLvvxNd/AKI4QYFUFwNPAAAAAElFTkSuQmCC\n",
       "\" style=\"display:inline;vertical-align:middle;\" /></a><br>"
      ],
      "text/plain": [
       "singularConstructiveDilemma: forall_{A, B in BOOLEANS | A or B} [forall_{C | A => C , B => C} C]"
      ]
     },
     "execution_count": 14,
     "metadata": {},
     "output_type": "execute_result"
    }
   ],
   "source": [
    "singularConstructiveDilemma = Forall((A, B), Forall(C, C, conditions=[Implies(A, C), Implies(B, C)]), \n",
    "                                     domain=Booleans, conditions=[Or(A, B)])"
   ]
  },
  {
   "cell_type": "code",
   "execution_count": 15,
   "metadata": {},
   "outputs": [
    {
     "data": {
      "text/html": [
       "<strong id=\"singularConstructiveMultiDilemma\"><a class=\"ProveItLink\" href=\"_proofs_/singularConstructiveMultiDilemma.ipynb\">singularConstructiveMultiDilemma</a>:</strong> <a class=\"ProveItLink\" href=\"__pv_it/a4b2d36f1f04fd659bda2746447b1f2a6ecde5340/expr.ipynb\"><img src=\"data:image/png;base64,iVBORw0KGgoAAAANSUhEUgAAAdQAAAAZBAMAAAB6CMKBAAAAMFBMVEX///8QEBC6urrMzMxUVFRm\n",
       "ZmZERETc3NwyMjKqqqp2dnaIiIiYmJgiIiLu7u4AAAAU9Wx4AAAAAXRSTlMAQObYZgAABOVJREFU\n",
       "WMPlWG+IFGUYf3bn5nZvdmbOSyIU85ZKDCxuDkTLQ1yUoyCQjVzlVGqUWgO/7IfKIDrtQwhCthAX\n",
       "hB9aypIKtoHyKogYyeuLkFuGkWhNUPehteMs8Sqvtud9331n3vlzs9I696UHZvZ93/29v3l+8z7P\n",
       "vH8A4q330reQmCVK7ln60gV6dTAtSR80WCR7qn39b6Q6Hb1xkpTqLKLUBimeifOmA6I7qcmRU2s+\n",
       "XrKf5lLfIS1H47zpgOhOanLkxJQVAKtWcKnP4D1jxnnTAdGd1OTI0fSXMD+UOS41izW5GudNB0R3\n",
       "UpMjR8uuJFPNEi5VPXHgwPOx3nRAdCc1OXK0x8g7zBTdyeZauXwhfj6IR3Q52SRGjiL/oFFsuFK3\n",
       "AOyL98ZFDC0QaWm38Gfco0PdBfLc6M5mhbTlF6b6sFT/KPjkqAdyLnk+sIS4C/RDfuh9pXzuVsfz\n",
       "xkUM1lijeuTIi7a4wOOF1F9xUnl3n1RGLl0E2EPbzAWpNtrQuyTQFvVAl0ubC0jVICe4rZ8s2apZ\n",
       "h7rgDUfIg8SPZmk3WLXmHTB17PQ9Y36pD19jv1b78lVY96BURj6EUfaqTyqn8gbwd4C+IEMIBQJX\n",
       "/yxV5EnN2ZqwZJlcPeOoZ2SfVI6493V8qbm94zMoVbkMx8xUfpVPavq7K6zwCSZKgVPyCu0ekkrJ\n",
       "9eVYGhGlulTE+kjk/4gxIVkB+SIK7TUizeVKUamveFL1Q2sxJHetOZ6bNEAtkvi8f70lSqUItK8P\n",
       "/gMwRQeqtuZR6DF+ZSsAV6q2uuXwhp6KEN60QruHpFJyhTg1I0p1qaiRbH6fgAPrSD8KH1URuXro\n",
       "84rCcn/fZoDLQ7ZWUAuQpalo1D8XpVIEchT7fwOgWWuVbrfxrwlo2KLUt6CFX5WtOFR5YSPRrrDu\n",
       "4eU+Ide8wDQDVHIZ7QWMyfMR2c9QzLYj7smlIpd0nTzWEaRO4Dp0/GPoN5QibGBSFWWr6M0EXakO\n",
       "O9nrINXYqMojMI1jut8QpEor4WULNtyGb9+EB7z0ZxXaPUIqIe+vBaR6VMxKBkR9gChKNPkRkets\n",
       "FdI7xE1ciqAfgmHIVmEjvhpLNTJffi96QxHw1cDgVZDOl8v7Sa4q4S+wNjDQwqQk2+03vFTlFdo9\n",
       "QiohT6F7uiVIFaiordsBJAWbgf4MJYp/oiJwSQ+Ojvn2qyoZ4qUwCQfT8BMbVbjzM9EbilAKoP4N\n",
       "eoGNapTU4/geG8y/abni/U0rrLs69unmqSoEyWWzHWlcqkeVK6Ftw4Tbjs11v1SGas8EJwlw1McV\n",
       "uTXPzOK4fqGw7wdKVeuh3fOwA1ILWGBiAD8XkorhBJtmmVTlNHIehWcdvNFKu3vfJNySLoa25voy\n",
       "gDeFABao9Bm098gXuAqKkTnMOPF2mKPaMwHB/WL5uCKlpk04B+tOgL4XK3fjrRD0RsNQOdVaBtN5\n",
       "uoQoh5cQP1wFdfBKlUrVcRKU5mBTBW+0wrtv0RtKNXwK8fPou44gVaQiyok3+raddZDmGSfe5jnK\n",
       "mwlgrZ8r/sBFwVyNPxN5G3M1eBzmq1H/KmKLUGn0FTU17sDFDFFhfHiuq+GSNxPAeOJnSz6pI8tj\n",
       "9mS6qVR7P7hRqRFU68MlbyZYhGO03pt4jNZhm25HlG7WieGNHNX2/FepEeSFJM6BvyHXv4NVolrD\n",
       "nGNGAAAAAElFTkSuQmCC\n",
       "\" style=\"display:inline;vertical-align:middle;\" /></a><br>"
      ],
      "text/plain": [
       "singularConstructiveMultiDilemma: forall_{m in Naturals} [forall_{A in BOOLEANS^{m} | A_1 or  ...  or A_m} [forall_{C | A_1 => C ,  ...  , A_m => C} C]]"
      ]
     },
     "execution_count": 15,
     "metadata": {},
     "output_type": "execute_result"
    }
   ],
   "source": [
    "singularConstructiveMultiDilemma = Forall((m),Forall((AA), Forall(C, C, conditions=[Iter(i,Implies(Indexed(AA,i), C), one, m)]), domain=Exp(Booleans,m),conditions=[Or(varIter(AA, one, m))]),domain = Naturals)"
   ]
  },
  {
   "cell_type": "code",
   "execution_count": null,
   "metadata": {},
   "outputs": [],
   "source": []
  },
  {
   "cell_type": "code",
   "execution_count": 16,
   "metadata": {},
   "outputs": [
    {
     "data": {
      "text/html": [
       "<strong id=\"orIfLeft\"><a class=\"ProveItLink\" href=\"_proofs_/orIfLeft.ipynb\">orIfLeft</a>:</strong> <a class=\"ProveItLink\" href=\"__pv_it/3c4b3483045068595eecea6c2a0d5f0b783374600/expr.ipynb\"><img src=\"data:image/png;base64,iVBORw0KGgoAAAANSUhEUgAAAK8AAAAXBAMAAACPJQJeAAAAMFBMVEX///8QEBC6urrMzMxUVFRm\n",
       "ZmZERETc3NwyMjKqqqp2dnaIiIiYmJgiIiLu7u4AAAAU9Wx4AAAAAXRSTlMAQObYZgAAAr9JREFU\n",
       "OMu1VUtoE2EQ/trNdmPzsHgQPKhBPAgqRhA8+GjQoAUP6SUHxfoCtwUfzUGsImouNVBEe6lXc1Er\n",
       "igT01kOjKPg42IP1IIKpqAgVLaWt9UF1HrvLJsRgig78+/+Zmf+b2flmNsD/ktL8rjUWalkf0Brh\n",
       "w7O6gTfotqVC/fBXMtkVgxkHbvLvS3UDOzcuS/ZyjMtzMWBOAlngJP2yDtSLG9JKhN9wJQNxT2P8\n",
       "oDUFPAWCZDL76wVuUGpO788wGucVEU3oK0X7DozRdqOn52zdlVilW2E4xluO1oAomlooxDLaKdUZ\n",
       "235VN/AebY3S1SIc0JxoFiZgXaDcm9uB7UAn4JmuTKd3xCtgYu4h5x4uyvMtWqWyVAZDaWrdNdTB\n",
       "sRYQeysRzQoRk8pHC0Iteurr65WE4HLruJAscgKeb3eoDGjw4QyiL/hduCQIyfX3P8VkJtBIDIyn\n",
       "96KQH19RBuy4kEgEI5lMqWkEH1V/kMEJzpigcEUl9M6omCIFmCMIHTr3mYCbP5UBOy4uMPVvg7ws\n",
       "duO26qnT8DyvwNGsTJFRsMX0JY7HGTwSzvOr9/mBXReSJfwg5iNatVM6wDD4lVL9Wgp0bmNdAB1i\n",
       "Wzd077hMDgGnl5bV2HUhOcpjRQDBCbVs1oHhNrZmmQ0GGJBoTzAstkHgfsnIa8bmJj+w60JyjRaX\n",
       "tWlOMz1W8tp4PU87txsaOFp0NN0txsNUjX7jpW0f4Ro3+4A9F5K19C1YnkO4e1baAr1KfPdUsk06\n",
       "MchNEmZvM4NWad9vVI14NKEZlwF7LpxMprzTt1Z0/ph3WkNTU7RysOZgEfc7nVKc8QGLi9vR+dqT\n",
       "ecs9vJuBlXpNpA5Op9uIlA8xGRDbR566VHw2/yA6cj4Je6frVGNPqnxVT9QEDlRUChur+1UBtmr+\n",
       "Nd2tVBT/GvjfSGIed34DWM+7VmXBjLYAAAAASUVORK5CYII=\n",
       "\" style=\"display:inline;vertical-align:middle;\" /></a><br>"
      ],
      "text/plain": [
       "orIfLeft: forall_{A, B in BOOLEANS | A} (A or B)"
      ]
     },
     "execution_count": 16,
     "metadata": {},
     "output_type": "execute_result"
    }
   ],
   "source": [
    "orIfLeft = Forall((A, B), Or(A, B), domain=Booleans, conditions=[A])"
   ]
  },
  {
   "cell_type": "code",
   "execution_count": 17,
   "metadata": {},
   "outputs": [
    {
     "data": {
      "text/html": [
       "<strong id=\"orIfRight\"><a class=\"ProveItLink\" href=\"_proofs_/orIfRight.ipynb\">orIfRight</a>:</strong> <a class=\"ProveItLink\" href=\"__pv_it/cadc2f6f4fa72f8b72c2f845040af1644417dd880/expr.ipynb\"><img src=\"data:image/png;base64,iVBORw0KGgoAAAANSUhEUgAAALAAAAAXBAMAAABZgNg7AAAAMFBMVEX///8QEBC6urrMzMxUVFRm\n",
       "ZmZERETc3NwyMjKqqqp2dnaIiIiYmJgiIiLu7u4AAAAU9Wx4AAAAAXRSTlMAQObYZgAAAtxJREFU\n",
       "OMu1VU1oE1EQ/pJNmprdbIMnPahRPAgqyUHw4E+ChtZbAnYFRW1VTBF/moPYitSWQokWsb0o3sxF\n",
       "rSASQU89NB6EigfroR60YBCVQv3D/mi1VOfNe4nbJQZT9MG+N29m53uzM9+bBf7XKCzOzZ2rZDVC\n",
       "wIgQnlQNvEku25yIial4fTewG7gt9perBlYefRw9ixGeXc1AUwi1wBna+ZqrxdVlJoxXIpOeyG9N\n",
       "lJZoDEYWtWTy9lcL7JKlOduUplkTcQWkZogUT7MwgzButbV1VJ2JdXLJDYXEkqHnitQcoucZnXEM\n",
       "mEmlXlQNvE9So3A9DwWakYYpoP0UrTeAnUALUDJdnbbqIw4YDgtLWq3GI0pziefXnFJOgybLpE0N\n",
       "PhgTwjVgLcwuLsQXWY8g9KCUent7OCCo2j4E7ingperAzqQqpUcern8FPsRIWE3HQWf3t3Ns8sbg\n",
       "JuuEtR+57MQaO3AjEE5LkYPQ4vGENI1gXOprKCZdAEVpzcuC3h1lUyAH7wj0w+c/ErD/vR34JXAA\n",
       "NmDir4s/FntxR+rrKFrjuwQ2u/gWabkUmz5FMJzGI655dv1BG7A5CUOVCMvFRCQNyKy1ywtMePTx\n",
       "nlmZCrTsECqPiiY8eJ+qyoHkrBX2HLt/DNYXO8sJca0IuPYzbz1bVesQNO4UzsOCLHzaYwyxaYCK\n",
       "VNCyMmLvFhuwvwvGSgVMbOK01sxLMpwslGisLSuoF1ziNHPUamXjUcpGv/Y8lToucuy3AdckYc4q\n",
       "4I3UC1ZlYLR+Y1qgR6r3/IzHL/BXdgtaCUBvGlGmL7mGI2ZMRrwAuK4f7snilU4vZPp2B/PNYFHa\n",
       "QI55Xwa+efiIHg0qFedswJ0FdCSL7TFb+Wb6i+36zQx8iTFtDgPT1i4qyrsQX5CUrXj+PqvxorNt\n",
       "/mmMO/t0SbpJOS6NMl31dGXgBsd+c/nXygD7Kv6adGe3yf818L8ZsUX4/AJl9rwaTZrhVwAAAABJ\n",
       "RU5ErkJggg==\n",
       "\" style=\"display:inline;vertical-align:middle;\" /></a><br>"
      ],
      "text/plain": [
       "orIfRight: forall_{A, B in BOOLEANS | B} (A or B)"
      ]
     },
     "execution_count": 17,
     "metadata": {},
     "output_type": "execute_result"
    }
   ],
   "source": [
    "orIfRight = Forall((A, B), Or(A, B), domain=Booleans, conditions=[B])"
   ]
  },
  {
   "cell_type": "code",
   "execution_count": 18,
   "metadata": {},
   "outputs": [
    {
     "data": {
      "text/html": [
       "<strong id=\"constructiveDilemma\"><a class=\"ProveItLink\" href=\"_proofs_/constructiveDilemma.ipynb\">constructiveDilemma</a>:</strong> <a class=\"ProveItLink\" href=\"__pv_it/fcf6dc4140b9f7c67e6a969934108219ce7d63810/expr.ipynb\"><img src=\"data:image/png;base64,iVBORw0KGgoAAAANSUhEUgAAAUwAAAAXBAMAAACSfmvsAAAAMFBMVEX///8QEBC6urrMzMxUVFRm\n",
       "ZmZERETc3NwyMjKqqqp2dnaIiIiYmJgiIiLu7u4AAAAU9Wx4AAAAAXRSTlMAQObYZgAABIhJREFU\n",
       "SMfVV19oW1UY/6W3Sdqb5LbqgzhQoygIKo0gm1CkwTWtL9JIczsoc0Zld/MP9j5UN5DNTtTiGJoX\n",
       "hz4ZlelU6CJMRfqwO1CY+LC9dKCOmqEdw7o6pqt2q5vf951zb27S2tEHjX5wT875vnO+8zvfv3MC\n",
       "/D+o+h/A0FJZUZxMA8e483VzYd7NjfVpbmM8X8c/eLm39+UMMAh8wONXmwtTtn/bQ8uDHpDmgaEE\n",
       "fwDtC0Ab8CyN4sWmokywz09PU3PABdYza1IExgVqHq4iWUYbBWe01FSYEc6PXdzcRN9aZk0r/Oeo\n",
       "6anA6kTy/W3bdjTX57fRF13g3jP0tZFF21WMxs5S83wWeByYd5xvmwtzmMGMce8HKIgMlaiDg7GH\n",
       "YO6TWNgizHFp9563+zIqz+yJz3jZiF14rFFzWv9qffWzAqY4Ljc869bpbdgG2MMR6AWiae148Tdw\n",
       "tAy8AdwCS06SPKeKVCcSndy510NMOoeBu9TGyd27X1Lq/Jw76uPlWR8vYVIWnAAeqdMLfxvjWt2/\n",
       "mr7va0ej9LlP9Q7xQQbSErMpJGTrmUURRbNo+Z1L7q9kIkHTJ0zM2htRKc/eHIZpkRH4xPQVgC43\n",
       "YAbURTvtDevV1FqUJUJsn8u1uyal7QaMcHMVm5W84qVEOjElolQFUS75J8nWhtwO34HtkHh05xzB\n",
       "NH8OwzTP5PE5FbSszHqoxmR6kyGvoaY7rBftJT0MrM8wbxSRhEG0ZOpzzrPZFxVMa0wuAaPiiOiX\n",
       "DI6wVQ7wJozfIrMmzuJLFlbKt28Kw+yOFREj07g8KzleY0qekhqTc3UurFdnAg1xSMO8jl3LW0Vl\n",
       "GB9L6YC5yNWqqAvVFomEVm2MrsmDT/Pv8eDCpZ1aj0H8ULGvr4vNLBkokcYozbo42VetMYccx9l6\n",
       "DRktuDhEb5TYzi62WRd9D2jRU362TKjxen13J8hA2Mpaj9D3uvjiK324/ZQNLLng6zcJYKRslJU1\n",
       "o90hmMkSmdkqol9mJW+oMVWYD6Kj7Kvx9RLZGRlijRbt41VUN2/VabRWFXcpm/fk/RkRPog1ZY+I\n",
       "ls3kkJLWMSuTaae3qsZxx3mSY9MMwTxjD10C3uHQjOVhLYSY4rTNboQWW5WwXoaxAXiCIlFPw53y\n",
       "/HjR9u/CNhXbMyO/9fYNSvcFPoiEhYseCeAFlZ0Y8p3QQau/gZVV1qyDuQEG+eUUreVZXBt85ic2\n",
       "UY7U0kSzGuhNMLuQV8OUDyvi1hdlo/FxaQWV7A7ayYuPI34J8SlQ52QJZgbbCX0V2ykg+7XTn6vB\n",
       "bCE25aH5Bd8iVezI8zrFnCP6iaxoUXq8i0CvxfyPGAkN9wQ1tHyFa8r036M/ziM+cMJYxP7z9v0l\n",
       "UMcqDJMxezzzNbtATsKptJR3p5ZC1kARo396Ugp41iu0+6LP9F+RM7kPqwj0iq3YLzTMufUPuRXo\n",
       "dOM7eUmnVqnfo9gMqO7l5y6jgGjn8uz40v8Lo1eA2d8wXtfYMdzlF/7dA3XdqtgB8pX/ZCQyDQyv\n",
       "sZPE6mB6q2L/45T9l/f7CxBlWMs+FvP9AAAAAElFTkSuQmCC\n",
       "\" style=\"display:inline;vertical-align:middle;\" /></a><br>"
      ],
      "text/plain": [
       "constructiveDilemma: forall_{A, B, C, D in BOOLEANS | A or B , A => C , B => D} (C or D)"
      ]
     },
     "execution_count": 18,
     "metadata": {},
     "output_type": "execute_result"
    }
   ],
   "source": [
    "constructiveDilemma = Forall((A, B, C, D), Or(C, D), domain=Booleans, \n",
    "                             conditions=[Or(A, B), Implies(A, C), Implies(B, D)])"
   ]
  },
  {
   "cell_type": "code",
   "execution_count": 19,
   "metadata": {},
   "outputs": [
    {
     "data": {
      "text/html": [
       "<strong id=\"constructiveMultiDilemma\"><a class=\"ProveItLink\" href=\"_proofs_/constructiveMultiDilemma.ipynb\">constructiveMultiDilemma</a>:</strong> <a class=\"ProveItLink\" href=\"__pv_it/508c1ef8a8a50a8d08840f2666744ffc66f18c890/expr.ipynb\"><img src=\"data:image/png;base64,iVBORw0KGgoAAAANSUhEUgAAAkUAAAAZBAMAAADNg0dXAAAAMFBMVEX///8QEBC6urrMzMxUVFRm\n",
       "ZmZERETc3NwyMjKqqqp2dnaIiIiYmJgiIiLu7u4AAAAU9Wx4AAAAAXRSTlMAQObYZgAABntJREFU\n",
       "WMPlmX2IVFUUwM/Mm9mZffPmrZNkGeRMnwYmO0KtpdUOLuEfkW3UFmLYZDRWIs4foZLkjoFY/uHO\n",
       "PwuFhGNoIsU6FS6VkWO5EQk5ViQVqxOESNq2k9+62+vcr/fenTf73tgHTHlg77x7Offc9373nHM/\n",
       "FsBDlg9n4UqWmcMFT50yXOESSkHFk1Hlv/ltMwBaDJRqV+N9ajpoCcaI+skBN0ZeGs0pSgqL49WR\n",
       "kZVGsvFeNR0eYYx2kudNboy8NJpTwsT9287iNxrdvClB2Tk0/bRkXOQOEGaMVpKftBsjL43mlD2k\n",
       "6LxEPjnFm7rMdkkCBE+kCM4OoBUoI8I7mHdj5KXRnDKNFHtP4XcaJd7UQYojzqgk8x9lWVfuAPok\n",
       "ykjbsWrVS64520ujKcWfI+WKUfz682bk4C6mtdupuwH/+tmj3AHgOcoIzmYyP7iv/R4aTSlBuqsx\n",
       "cqD0mZFD+ITr7Pb6OSdHB4DtjBFG6VJ3Rh4azZmySbwoxrWvHJ1qNR7h8VYjGGcKy7e1HeA1xuhm\n",
       "0HPujEyNdpaVthqx+I8TuLj5cMHtC9rzXg0TjlHPsBqvxsaLUpOPLGKakQd9Rc4kg/l6Xh2TmK8D\n",
       "CZajRQchNzBGUYiU5D539SQiV1csRqZGnG3LtTMAfaxF27hxvb13i/mOF90YxQteDbYxZKlr+GA3\n",
       "hMekljby0QEDv6L9Itz5IHeYCdyhDMf5Esc7mNLJGEVKUdtOWt/dU9LSAzBg8yOhEYwzjwzi6+zC\n",
       "2D7R8wQUCyduhKHN+29fKDN6+Cz7LfI/qSIMWdmjtsEcwyHCsCRPlkA942TkGycuehrgDW40r9bD\n",
       "DgvhHT4BokMNIz13h019cPpIRTsQlBgJjZlbJrHpOIdznIfIkrUjyEg9CZvTvsQtEiP/91X28CEb\n",
       "RK4IQ9bB0dbQmreN4Qw1YZjL67Q8moWwHIM+0reXcNt1yWQUykXruvVqcSo1O9TEGizFGNUWzdgW\n",
       "GUyCRqZOu3t20c6IaqB83fsHm6NRCKI/DlHXKMxYjLuwX9lu3GQUnW5UREMga4tEWhGGTJEaltrG\n",
       "cOZXYViYpMYNdCU5WluIwxy8QHaEZZMRdLEjlW4WzFbgHu7qosPQex+l9jyNDV9wRv1o5GR7KZrS\n",
       "UnTzDVpy4DOJUT/FrHa3/c4S7JRMDKeJhnax5/oSxnk/lEt2RtvBQGdfgHGagBes5MgqpiEz59KG\n",
       "QAWCGZR1SWuMBbWMmGEmj6Hys5OJc1UzT02tSeNksh86B/q+8azFqIPtIH8r80IfZ8vZcs6dd9A/\n",
       "HYNvYb+19oMPIa79ANqSaHcOY6SqC+yMfBTzrEqYeeHeApljpcD8KDgXjqEXLUvaGCnToK8Ic67B\n",
       "t0jDfCvZsYppSAhtULYKf+tJijGIBXlPTA1LiQvPnZGLDj/y43uTQ7wxhcydYBRmGe6nNC/0Kax9\n",
       "Pd8d8Q6hEzk4RfjAy5yRRiA+ALMgnId7cWqKWjL01RE7I6oBh2Jxls1WJMBvgPJdJrOM5CPVua5F\n",
       "YzFy6DmMj2+GbFsyVjENCWENUcGo43ExBrUghRozbKf2TBZa0AvbR2VNia5gpExwz3Nf7RGuqEyC\n",
       "V82zCJfJMAi9fviZ+RHc9Injjk3FcwtzzTjO3HnQU8yP6jHahqFdZl94LGjb2dIKM6Qt/HjeUN5u\n",
       "GRlFelAe7TbHcDBihvk6upto30/8HPnszdksonxZj1Gj4ktG0qHRBKhFG6PQKHrS5ypLqchIG3Aw\n",
       "moW7UQNCGyCE774F08B8HmtrHIwwIqBzlH2himEd2gSrK1jQCjfUOghX+ZHG6ixvIIz0EZS3yfvw\n",
       "MQ6TAWlfLDYIw3wdJcq/kMjrzUFrNSks2u5G/iqjXvQkLV2g2yaTkT8N30DHDtCXYOU2LFK1jKLo\n",
       "4/uMqcoYrDOGD5Et5rEE3UNmnHvIo6dBi1fzlJGOJ2nlHHRmsaAVbgi69LKKs95ZEg081ujlmBjj\n",
       "MOCAtC8WY8KwtY4C2ZWE4+PDscUgLJpXrKa82Lfo8hjdCtGk8nyWukEo5djWYz5yvc/WrMe3MB/V\n",
       "XnZKNRop0iHSVim3dkeJMRMxZxSqyBY059DWOgprwWmRyZq/f+iLJOsy8rzzn+1+IWyvzL3O5dZJ\n",
       "T6v5lvfRbQQ25d2dDiViYbZzaGsdrWfxn7/zv1xGpcYZNSSal0KpwaH/LWmA0fBl/X8tAP83mTmc\n",
       "+hNLvU8IazNPBQAAAABJRU5ErkJggg==\n",
       "\" style=\"display:inline;vertical-align:middle;\" /></a><br>"
      ],
      "text/plain": [
       "constructiveMultiDilemma: forall_{m in Naturals} [forall_{A, B in BOOLEANS^{m} | A_1 or  ...  or A_m , A_1 => B_1 ,  ...  , A_m => B_m} (B_1 or  ...  or B_m)]"
      ]
     },
     "execution_count": 19,
     "metadata": {},
     "output_type": "execute_result"
    }
   ],
   "source": [
    "constructiveMultiDilemma = Forall((m),Forall((AA, BB), Or(varIter(BB, one, m)), domain=Exp(Booleans,m), \n",
    "                             conditions=[Or(iterA1m), Iter(i,Implies(Indexed(AA,i), Indexed(BB,i)), one, m)]), domain = Naturals)"
   ]
  },
  {
   "cell_type": "code",
   "execution_count": 20,
   "metadata": {},
   "outputs": [
    {
     "data": {
      "text/html": [
       "<strong id=\"destructiveDilemma\"><a class=\"ProveItLink\" href=\"_proofs_/destructiveDilemma.ipynb\">destructiveDilemma</a>:</strong> <a class=\"ProveItLink\" href=\"__pv_it/bcfde435453fc672a03a7efa66cf9789530bb6480/expr.ipynb\"><img src=\"data:image/png;base64,iVBORw0KGgoAAAANSUhEUgAAAbcAAAAXBAMAAAB60hyCAAAAMFBMVEX///8QEBC6urrMzMxUVFRm\n",
       "ZmZERETc3NwyMjKqqqp2dnaIiIiYmJgiIiLu7u4AAAAU9Wx4AAAAAXRSTlMAQObYZgAABXtJREFU\n",
       "WMPdV11oXFUQns3d3bvZ3dwGX6qCuoqIUCVXECv+ZdGY+iIpmq1YrI2KG3+bBUMbLdq1UCJF2n2w\n",
       "Iih0EVorLXHVikgesipCGx+MDymoVTeioRBbS01bLSU6c2bOuefebfLQFxcHZvecuXNm5jt3zsy5\n",
       "AP9narRycG015hBlc1G1FVHBF8JTNPm6RcHdLBzQncgPRrScfAC8b76ndyskfFD8Psl2tCi4HU2x\n",
       "7UROqZeqpj79pKzsiw0ArM9BGYfIG/HPHWhNbJkas5WSPyOQbBVHcR/0w3FLoRsl3XmYxOEkw05U\n",
       "WhNcrMEc0IvrSwBeJ+UivZAO9fBKS2ECn39ThRkcImff27Tp5RbNyuuFA6pNUDV5moajyLtUgpYt\n",
       "hceQv21AEl8X8Zli8fuL9f6CPWk3I9cPaV10XqwVDqpnY3cd//aAACOAkKhaGvMAIxsA0quZ7wEY\n",
       "BL0VAG+eLvRybAcLY59SzEOF/ieibrkau8Ys6Tpm9pKGy0tv0/JR24SYtxxCdPq6sKFf1JmCt4BT\n",
       "UqUmpOpW4Zwf/+QoeS4zXwueeq/ZU3xkOyHTqYpuHZJq8DnATSV+tn37NrbEFShpCrTSfVdPTX3i\n",
       "pWlpTOLBXmI7BO3fWS7jS5gTPxJV1Z5uwdcBV0u1iSvDMfxdRxqYgJmzAMexM7R1MndARgX823ll\n",
       "MJGHtrOUAX8idhVlrxLCXOERqFXnrrHCf1tnC+segww5hXZT4HipJ4dCPNhLLIdCcRT2y/iUsG5m\n",
       "Tk9PH63pVpIpdEi0LBd0RdqvDLpxTjJn6lxzxqaVRkcNEtTYZ3CnHBXlD0Bbm3n8lRMILv27BW5Q\n",
       "rIpu3M/g8RqGZElHyksp8y0P7ZWQee2Q5TSFDxcBh70tVjbgHoYDTeCWoVb2XADOK6s7gFMrKo0/\n",
       "fDhEwX2A7BFqD/c4cxK+UsWquuJRC5zOJtHFREH5KohpbLJUGpH2oPbEmDcOZa9wChOy/jJhDQ7R\n",
       "d3TqtIQRvl1BrBKA68YkjP8dpCUM3q3SAdYpja7xgxvo/4hJIIwuPqV6PtQKV1hnztE1WHTb8vAR\n",
       "uHm4NbIUj7X2kCgivepb5tmhkUMX8v3y6DlhAeciihSahENs7w5O/2Q9AEdtbguGlRWGXWoDDst+\n",
       "7cMyQDt6TjtPo06syqWwVk3cHoBDMGmM6Smti2BnIV4iLHtRXpalIGgPmzdS8APzxiHLaQqXy6M9\n",
       "uuzzTYuOWHLByJzneRmVfBaoNudc2ghaAcRoA7zpwpDSfRIzoyIO5tTGYHS7G86RYvFZOnPpAFx7\n",
       "Xmqm6CK4dG4Y4A1dM3mpgDMeAG55KDBvHLIcnkG7CxLtjcJMG68ahezQXxjyVhZsk/yYMipr/unp\n",
       "eY1eZCrHDFlymShBt2ovmLBdNFhDFUCdV/T8HXh5fnM2uDbdEEQX594AxnedBsdLRaA8ZApI/ast\n",
       "8+zQyGnaoQ9RrMQcIU/O+l0yX97c/uX6JXQDoqi7o+AugDsNOJipQNqHEYyoASN1qhOclpsDcN6U\n",
       "gGNddaE9gJtwXIOTpXiFRTvKg3cCaT95VkuMQyN3cGr6NhnMVpsiT0e+8Cabwe0XVvTrGXD7jjrn\n",
       "Yd/pwn0VwIHXv3aMqk96Z6Ef3wbM5lQTL9pN/CdJddaFRI6LHbcW8PVSeADtsAfz+cVLjEMjx+m9\n",
       "pSU+eYiOReappg9u6qxeOfqR2zQIrjZ78cxB+A7yWcQJ3ciojUcvk2XbDriNCziMyIWGhcO0KjJ3\n",
       "81ENrGqKQ7QyOnBKF77SMrjZsFBfWLzI5yHeWBazs3Lpm7NbYw5/5flRtc1RwcfCIapHB1lYClx7\n",
       "PSQ0G/hOZB8Xt1NvxS8twfFl6JybtMqG93bsv4ryX3vCsR0RrLgcAAAAAElFTkSuQmCC\n",
       "\" style=\"display:inline;vertical-align:middle;\" /></a><br>"
      ],
      "text/plain": [
       "destructiveDilemma: forall_{A, B, C, D in BOOLEANS | [not](C) or [not](D) , A => C , B => D} ([not](A) or [not](B))"
      ]
     },
     "execution_count": 20,
     "metadata": {},
     "output_type": "execute_result"
    }
   ],
   "source": [
    "destructiveDilemma = Forall((A, B, C, D), Or(Not(A), Not(B)), domain=Booleans, \n",
    "                            conditions=[Or(Not(C), Not(D)), Implies(A, C), Implies(B, D)])"
   ]
  },
  {
   "cell_type": "code",
   "execution_count": 21,
   "metadata": {},
   "outputs": [
    {
     "data": {
      "text/html": [
       "<strong id=\"destructiveMultiDilemma\"><a class=\"ProveItLink\" href=\"_proofs_/destructiveMultiDilemma.ipynb\">destructiveMultiDilemma</a>:</strong> <a class=\"ProveItLink\" href=\"__pv_it/7d5dfa9f388ba88a6213568df948dec6fa29e6050/expr.ipynb\"><img src=\"data:image/png;base64,iVBORw0KGgoAAAANSUhEUgAAArIAAAAZBAMAAAA/E9C3AAAAMFBMVEX///8QEBC6urrMzMxUVFRm\n",
       "ZmZERETc3NwyMjKqqqp2dnaIiIiYmJgiIiLu7u4AAAAU9Wx4AAAAAXRSTlMAQObYZgAAB41JREFU\n",
       "aN7tWn1sU1UUP23XtX19fdskgphIiyKYoFlJcCCoayCGP4xYxWkIihVjEQmhiQsQiKyQEJQ/WP9w\n",
       "CWYSCuEjRDOqhkXFSBFmiCRSlGjEDGpilkVgbvL9Meu5X+/d97GWmWic4ST37t3Tc85973fPPefc\n",
       "mwFUoGXdKbhNwyV396mKMoXbMP0taoZiRWSL/69Pnswbo+oS0sBs+qxGhmPDrs9NMDPNzCePlUO2\n",
       "ksTIIk+MNUG9A319K0pR+jxvGDac9LmJeQzZveTP5nLIVpIYWeQvsiao5jKArxRnv9GeupzHHjpp\n",
       "HxU2nPS5CT9DdgX2vkQ5ZCtJjCw6wJugxhsEGeaEapb0s8EiwqiKgBrMQRl9boKaaab4ezPlkK0k\n",
       "MbJoHG+CDl5AKEp5+qzVkr6BdKftIYA4V6gIZfS5CWqmGdQ9K1e+VTaDVZIYWeVQmjWdlvcjXlf5\n",
       "YAnd0FhmBuJ21Y3Y2oQNZ31uYglFFi4nk6fKV10VJEYUebOs6VRKg6dVbOZdpCOo+h2K+DaObhl9\n",
       "bmIXQxbDyuLyyFaQcCBf1MYaIpy86cQM/IMJLM+avsdLd719ZqwYbQEeCRocVDES0IhQRp+b2MKQ\n",
       "nQBaujyyukQ9g2d7qS788xCbjf1ZbXC4DsxwXgJj+d3XjNfN2nmchpzbLgqghAfqBnMmlivC2kvd\n",
       "SKdIiMyAtjzNsRwvktwshxkwe1VFhA2bvqDxvCGyIQjmzSamN0WCdxYNZHWJMPti9RJAK+OomzZt\n",
       "kLWr2R+pkuA6oDiW4dXSN183nnc48MA6t5nsokjH4+C/aeLURFijNBUzfgk/tP46PPwUTfTMOYfw\n",
       "tQL06jas+katwBsiG8yHpPJM29+UVxMd0CH5rJDwhhliXnzZfRiMzja9CLns2Xuhq/3Ig/MlpAKG\n",
       "nwgd8rKEq//CBu3GzM9clspvBx6Y5raRXRTp5Twol8oi6xok++oiwFYDWW9GcVo7mA8f2pDV9R2Q\n",
       "1dJTJe3OSX1F9ZjXhKyQeGhbLVvTK+g3GQguWtuHyCrnoD3hitwvIVttxH+hQ6L1Z7j79VjPBkb8\n",
       "dv80YKkdLbxARprbHgxkUaT3aH8mBX5zlHBlWBPItBDg993gyLJo4EuHHEPXKn6J4qjvEA1gMQYV\n",
       "dcHkncHOKKjEHdRHpuVkZKkE0nctf7I16wcv+n8Xdb3s5IUIxHl2UuPIuoyJhA6JXvhjVUqKAzio\n",
       "NfLDpFJRDmk2HlsFPrc9vZhExeKW0G2z5vCTZ00gc/waKfQLHNmj3AnYWV7TO2a66tGcbsOq3/Xx\n",
       "57EDr3ITRzmybWj3XH0+FFNj7GCmRjsOm5Bto2ulxGv+YElpdLIOl43GolzTPXkMTG1QyBvITjdy\n",
       "CNWpIm82AYIROh8Hjww8aalaKRmR2B2TeHNxfyaR1kWNuedakZXVn0fh10cRMwPJV8ZaklqcNeBH\n",
       "2KevgHZoMMWR3cX4Deyc8HuBd9ogE19W1G1Y9LWvbsJJOGKuusCFK7H2U6iJosYMhqyizJWRddG1\n",
       "mlL0M68/mCV+wxJ4LuudCT3osUujBrITAHbj16W5jmd7isKtJWCOEdDJABFUCAz4kuOg1YjODHHG\n",
       "mzFGcJuiYm6DJxRM6jRYzsPVu27zWXeBNVGNEhpNnIIiu56XZgy6XxK800Yz/gbDhkXfdzYNFyii\n",
       "63kjyKpkJZ6EKeDPwGP4nTk16vv2tIwslYATdWEWqZdHwF0Czw/J5FISZxVbrn9XrxCYToghCzt8\n",
       "UklNBoGY0ArV1RmHb44s5/0ouA0viLkNnggGJnVq4rUUVON+qe83S47hzUpb9dMt6g5xcfq4ZMN6\n",
       "q5Dz1MI7ptMtp1HQCS1u+JX5LNz3pe3mW4mBynZFGL3hKmgx5rMOyE4UyHIdiiwye7zS0YYM3Amh\n",
       "tRNDVkEvMhif8QiKwSak5+L63DZkTer7ifQTZK8hqgfT6vwvZnXpSe8b3pyQVXK3dtxw0HdFgwlf\n",
       "f4SaoGYEsr5+9NqvFZZhEFm1w4bsFDyClMC3EXz4ZdswjM3h0WCNDdnzAlmmw5DF11EwEPk2w6oi\n",
       "dnSgFbgW7mZo7NeLDDWL83AeQVHrQ/qAvCefG3mrUtyUIcrVifBv5Ota0hAYiAY64Q53fKhbRBnZ\n",
       "3mHcRFqoBb1WTWSpiV6QkEUn+R4a9oC2CAcPYBezIhvC3XaoNNZzE9aVuk+Qg0RPhJ4UkvaTAi+Q\n",
       "o1yHIfssAnQBd9oVaExhRwf8SskDZy6CGh7IiCLDG8F5OE/4J71uFnMjrzHPTRmiRo1C0jb4w4Pd\n",
       "dQsx1WsFRfdZEpB8MRsyq1sXgJQFKhze7foTIRT1vJGiJubIyBq5E+Os9XRrPgQZj7sxzjqeqYKW\n",
       "gpMiS0Kn6Z4jxapakyAvMvzyPBxZn+wohJe3vZJRo8Ba+RMC8ZBhbg1vDsfX6K3ePqwZ6gdigplp\n",
       "rmjEiuy0stLVIu+bkslHe03nMol6rENWZLRL88y8234wIDxPyvZKRo0ik5ZQMtWf/NuXasNHNn8L\n",
       "yML7DsnTUT7gbC5WaR7T5snDf5AqI9s9rP834Pip9n3V4axw2ImpFEf8BXv3yb8ASgKm+v0GG3AA\n",
       "AAAASUVORK5CYII=\n",
       "\" style=\"display:inline;vertical-align:middle;\" /></a><br>"
      ],
      "text/plain": [
       "destructiveMultiDilemma: forall_{m in Naturals} [forall_{A, B in BOOLEANS^{m} | [not](A_1) or  ...  or [not](A_m) , A_1 => B_1 ,  ...  , A_m => B_m} ([not](B_1) or  ...  or [not](B_m))]"
      ]
     },
     "execution_count": 21,
     "metadata": {},
     "output_type": "execute_result"
    }
   ],
   "source": [
    "destructiveMultiDilemma = Forall((m),Forall((AA, BB), Or(Iter(i, Not(Indexed(BB,i)), one, m)), domain=Exp(Booleans,m), conditions=[Or(Iter(i, Not(Indexed(AA,i)), one, m)), Iter(i,Implies(Indexed(AA, i), Indexed(BB, i)),one,m)]), domain = Naturals)"
   ]
  },
  {
   "cell_type": "code",
   "execution_count": 22,
   "metadata": {},
   "outputs": [
    {
     "data": {
      "text/html": [
       "<strong id=\"notLeftIfNeither\"><a class=\"ProveItLink\" href=\"_proofs_/notLeftIfNeither.ipynb\">notLeftIfNeither</a>:</strong> <a class=\"ProveItLink\" href=\"__pv_it/435c58b29f8d6c6d52e48d5cedc7599498d685cb0/expr.ipynb\"><img src=\"data:image/png;base64,iVBORw0KGgoAAAANSUhEUgAAAK4AAAAXBAMAAABg52lgAAAAMFBMVEX///8QEBC6urrMzMxUVFRm\n",
       "ZmZERETc3NwyMjKqqqp2dnaIiIiYmJgiIiLu7u4AAAAU9Wx4AAAAAXRSTlMAQObYZgAAArtJREFU\n",
       "OMu1VU1oE1EQ/rJJuvnZrMGbF40g4kFJDoKiSIKW1luDJgqCNCCmCGIWLC0eSoOXIIjNRRE8GIRq\n",
       "vZQIXkoOXdFD1YO95OJvEC29FEtLa8VanHm7abIvqYLBgbdv3ryZL/O+mfcC/CepdQ6hlCWDFgFm\n",
       "WXndEe5Bx+oYjdPAY9ZvdYTrjB6j4QOGaFIzncAGHTRon4hZrQQfTd5iJ7guR4mu9RuAHob2aHh4\n",
       "pCMa9jlW5WkqGi4Bq9ns27/GXm1jqx/ynKM3avdNmsaBE8CAMBXE985KuicmPJq81RJ/fYa99OfS\n",
       "qQs4Yq9uNuN+RpzpvgvsgZ4XhC9ZvIcRDLPS1eRt6W8i9fUz4AkC9nI7FegDC/94BKNJmnYDIQQ5\n",
       "c3xdF17eBJTvMu49/uj9JjgXGikgaljpAEu2kztBo7u7j5srTm1ihkRBJ6tiN1SGd1bGFUQFFpKY\n",
       "Ik4o/B1wXjAo4xJ5rryFq+fFfXGXs2L3WwwzhowriDnalWGjx4C+DI2qUbE2dzThUi1DYYsHDBxn\n",
       "q4czIIlWnl6BhOsWJ07QOYIRDFJWPys9Na6MkMsNXJVwfYukz9C4LY79EtNid4KqUmvgPsxms3kl\n",
       "wQUtBhehZ9BLjOSh7QQOW3jj9Z+PYZ7jNmybi4uhV9M5AXeRqCg68834GXchfYYiHjC9XUnoPzZx\n",
       "D2w6Du0qQMutUUNc50QYz2sgLtqW/KMxCVfhEp+FexmYI0dsK0Ihfa99j42WK6OH69p+8jbVAtQN\n",
       "qFWJ34xOTCnUjNSJgRdkGK1hhJJ6Zb80pRbcQP0p+rIKte+9ex0TK+mTRQk3ho/QqS0Hf5ncCgiM\n",
       "pVM3yH6q7TvJMi8/9C13zJKphtp0aPtecIdI0iutD22BO9fuLfLXD6vK/0PBmGQwt8D1m21wPf/2\n",
       "rDrCnrdxmPxT9G9006DoFESgVQAAAABJRU5ErkJggg==\n",
       "\" style=\"display:inline;vertical-align:middle;\" /></a><br>"
      ],
      "text/plain": [
       "notLeftIfNeither: forall_{A, B | [not](A or B)} [not](A)"
      ]
     },
     "execution_count": 22,
     "metadata": {},
     "output_type": "execute_result"
    }
   ],
   "source": [
    "notLeftIfNeither = Forall((A, B), Not(A), conditions=(Not(Or(A, B))))"
   ]
  },
  {
   "cell_type": "code",
   "execution_count": 23,
   "metadata": {},
   "outputs": [
    {
     "data": {
      "text/html": [
       "<strong id=\"notRightIfNeither\"><a class=\"ProveItLink\" href=\"_proofs_/notRightIfNeither.ipynb\">notRightIfNeither</a>:</strong> <a class=\"ProveItLink\" href=\"__pv_it/0ed3eb63399020e6b36873d4f190b50ff67d74bc0/expr.ipynb\"><img src=\"data:image/png;base64,iVBORw0KGgoAAAANSUhEUgAAAK8AAAAXBAMAAACPJQJeAAAAMFBMVEX///8QEBC6urrMzMxUVFRm\n",
       "ZmZERETc3NwyMjKqqqp2dnaIiIiYmJgiIiLu7u4AAAAU9Wx4AAAAAXRSTlMAQObYZgAAAtBJREFU\n",
       "OMu1VU1oE0EU/rqbzeZnsw0eBC8lBw8elKwgePDQoKUWPCSHRkEoRsStBzEBiz0Vc7IIornopZcg\n",
       "qBVBKnopPWTVHvw52IO5+EcLWrwUS/qnVqvvzWaT7SZVcPHBzrx58+abed97Mwv8L5n1DyFNeC1P\n",
       "6Jth5aUv4H1NdfpXT8+ZBBQDuMvjq76A3au3A0oNKAIXaKTm/OBGXUzI6/QtAy+AEJGslPwAd7jS\n",
       "FF0DtO/AHHV3hodHfDGxy6UH40Csi3o66qppvvnr4vNtbOF6f9xl60xBvUQRRDLAIWBQGEdFe2Ml\n",
       "22uIInL5q2VuQwUHMp/tPwW5bI+uuBy7j0wNWOxB2dsJvcg2rSamtDiicRGVO0LRvko448fAA+Cm\n",
       "PdhGSXrPQhtVCtBf86mYEkR5D3z6IdyUFKQ1L/AYN/oJC1wA9PUDyQI+25M1pyJSwEnqKwQnL1Ii\n",
       "rZhI6/2qmI5NQJnxAguuIgsZTBIttP4tMAAEjBbgZQ6sbAPrRXFz5AlTTH8x8KzgBRbcHAjm2Big\n",
       "aJegjTYKeEcTWOao0yWbCgweZHOAz0CSnHp0Dh5gWSQhRZFEExiiZetTvRSllBKzZ5vAXMbqV84U\n",
       "r7guIn+Oipgep9TMNoFvm6ZZFAhaKboIPYfDREoRWpezH245+xuijPfyDedyQwdHpFezeYF3mtgo\n",
       "bT5xLszAC9mjG1QJTHEwA/1bA3hPw1HJL/f0ieoLcQFpDKgU0C1yQQuShgdY4rfkGOQlYJ4c0VmC\n",
       "RLpkPzEdhdbLM9fQdpO7pY5C3YBa9XCc04ksiYqIUhOZJsPFWYxQrJp9Q+rdJrnnKB9XoabfUVLH\n",
       "V7J9JQ+wgQ/Q0zkM/bS4IBC5lu2/zFEmWp9NW+wr5xKt5bbZMtlUXXGH6v1QC3DAy87+LYDn275M\n",
       "Y85L0vJreug1WFsAh612wKl/e2YD7sHTNg6RP/6HfwPXZquxti+cKgAAAABJRU5ErkJggg==\n",
       "\" style=\"display:inline;vertical-align:middle;\" /></a><br>"
      ],
      "text/plain": [
       "notRightIfNeither: forall_{A, B | [not](A or B)} [not](B)"
      ]
     },
     "execution_count": 23,
     "metadata": {},
     "output_type": "execute_result"
    }
   ],
   "source": [
    "notRightIfNeither = Forall((A, B), Not(B), conditions=(Not(Or(A, B))))"
   ]
  },
  {
   "cell_type": "code",
   "execution_count": null,
   "metadata": {},
   "outputs": [],
   "source": []
  },
  {
   "cell_type": "code",
   "execution_count": 24,
   "metadata": {},
   "outputs": [
    {
     "data": {
      "text/html": [
       "<strong id=\"unaryDisjunctionLemma\"><a class=\"ProveItLink\" href=\"_proofs_/unaryDisjunctionLemma.ipynb\">unaryDisjunctionLemma</a>:</strong> <a class=\"ProveItLink\" href=\"__pv_it/a551c039bca50f02a0be6054e1e611571afe42fd0/expr.ipynb\"><img src=\"data:image/png;base64,iVBORw0KGgoAAAANSUhEUgAAAOUAAAAVBAMAAABLdTQ8AAAAMFBMVEX///8QEBC6urrMzMxUVFRm\n",
       "ZmZERETc3NwyMjKqqqp2dnaIiIiYmJgiIiLu7u4AAAAU9Wx4AAAAAXRSTlMAQObYZgAAA1VJREFU\n",
       "SMfFlk1oE0EUx18+N0022+KlerCu4kGoSg61Fz9abKDHFqSgYv06pIhKc5DWUtSglkqR2kvBm0Go\n",
       "IooseJTSICi1IqRKexA/oqgUKlIK1oJSfW/m7WazH8GbA5l9s2/+85t9M/MmAP+hlKp6gwZMXmF7\n",
       "+pV4NFrOJx6CxmqjqboUFanxwq9XE8BtqyGsUKuwQ6iLpFz9pXfQa6i9+DsgRfeoPerHHCVSUJgp\n",
       "yYzJwMSWsMq5+kvvLtnQxSxM1w1yS1EfPpTjPsiEQcxwSpqC+Vh6Xq5hNeMSSC8z22z9Qf2A01Hz\n",
       "QkQzi4z5MAMlYoZoSsmSZDYIhzL+E+uPLkGDndlM1Xv2DBzLAmh1QqTe7e+/4BfabXIVh/ExLtcz\n",
       "KOOZSCxjHXXOlb3MjCGlppNdxhSF+pQUrWQyb/yYhyUTecQlZiQvHDtrfmMd73T0Zy8ziUdcMZvS\n",
       "rQI+JqQIo94jXg+7mdclE+NK8SVmjJSg6aFfNKj4rIPXqFwFy2syKa7NbH6CFtwbcFOKtoImpOoy\n",
       "L/bIyFCBe66TTNw/YV0yA2IzBkH5QY865/rrFUzcP/vB3MOXKCibpSgJCYH4QtFa7DoCRn5xC/dc\n",
       "5lNZhAW2asWoTen0Cp2DJQeztpKZ5M/Bnul0B+3EFilKFJLiUD2cQ/vkxe/IjH9zMA/BgwomVuv/\n",
       "gRkZi3PE8IgHcmWmlmsSMzEyAE/FDss3HmXRBiadF+lKxJa2ag3+Zq3Ydr+jMg+mt8xUckm28H2y\n",
       "rhxb6BExD0M3Jxaja6O5nmeYFN5jsBUl1wCnFdWZiKKVewjaOKkqY5y5plk0LlLuc5iCUF5+Z2Q3\n",
       "ayaYFDpbYot2ulik3pLHWeEXFrOZMwLthuha+axAgL5Bm+vqLYXmM5nTtJ5x1uwwM/uQmeODRVBO\n",
       "rGbh2R98FdOdOaEoQj3LoYaYnEPfpmFQe1excZlFKn1DJAstKa1VfqfFDGSZuc+6V+ptCHfuq3dc\n",
       "M46bknMfl+246QrQzrE1LyPKyY67zJ7X77uYM9Uv67hhE31eAaXjLXzVRU7IFCrusgpmrDx1ze8u\n",
       "8y0LXqI7uJ72cs7FVFqtdjjrGtTm9SrtniLnGPjf5DXbk/K/SflPwCMPwWC10RIpIfoL5eDqA8sN\n",
       "TKMAAAAASUVORK5CYII=\n",
       "\" style=\"display:inline;vertical-align:middle;\" /></a><br>"
      ],
      "text/plain": [
       "unaryDisjunctionLemma: forall_{A in BOOLEANS} ([or](A) = (FALSE or A))"
      ]
     },
     "execution_count": 24,
     "metadata": {},
     "output_type": "execute_result"
    }
   ],
   "source": [
    "unaryDisjunctionLemma = Forall(A, (Equals(Or(A), Or(FALSE, A))), domain = Booleans)"
   ]
  },
  {
   "cell_type": "code",
   "execution_count": 25,
   "metadata": {},
   "outputs": [
    {
     "data": {
      "text/html": [
       "<strong id=\"unaryDisjunctionDef\"><a class=\"ProveItLink\" href=\"_proofs_/unaryDisjunctionDef.ipynb\">unaryDisjunctionDef</a>:</strong> <a class=\"ProveItLink\" href=\"__pv_it/649b217f630723f6793532d6058966734572d6dc0/expr.ipynb\"><img src=\"data:image/png;base64,iVBORw0KGgoAAAANSUhEUgAAAK4AAAAVBAMAAAAtL8hrAAAAMFBMVEX///8QEBC6urrMzMxUVFRm\n",
       "ZmZERETc3NwyMjKqqqp2dnaIiIiYmJgiIiLu7u4AAAAU9Wx4AAAAAXRSTlMAQObYZgAAAspJREFU\n",
       "OMu1lU1oE0EUx//JZrtpPtbiRT2oq3gQqpJDb34kaKDHCpKD4vdhi6g0B2ktRQ1KqRSpvRS8uQhV\n",
       "RJEFj1IaBKUqQlTqQRS3olKoSClYC0r1vZnJmo9dPTmwM2/nzfzmzXtvZoD/VLy/aqMuJi4peeql\n",
       "aNp95cOwWSkLqLDwLGxEB3DD/xGSlhOyRvP0TNCUnfTtA26zPBLGHWFaVIgZyY3LDcbnqSoFTbnK\n",
       "WqCXGuNoCDbpMjeWkaLgPpCa58tUPQ3ywXtaOOWI9fXREG7EY67Gy6Y9yV0nFMbYd6pnAqb0HykC\n",
       "ZhtSt/r6zoW5YbP06hA1Y9K/Ubn3ZHKB6pYAe9xJChpOAIu2/SaMe0Byicls5uqOUGxr/Ul1Ym9z\n",
       "AnnXy9SMA3uAbtE11My9IrnkA/YFc+M8C6al/aCmlY3XL4si0wQfkKWY4BqwCabYW2pBOX54eLCs\n",
       "uCsll2IWsyQ3YgmrYHzjpq3JEgsXeBMbyBgkBeYT72yucBCuM7dRjVpQWVvBrJJWCG5HPr/ISTzf\n",
       "iNXy+S6OcpaMKadFSt6bJvn4+a/ETXxp4O7H3TouVasDuZTqkZLkmqUOsZJrA49ERJ32w2rYGkU7\n",
       "K46l8AOnQCt9L6p+0N+JIo8AadNt0g/o3s09MRxSB8gtrK3695SixXa4SmphVb86VqnGA2eMqpM4\n",
       "xZkprognmITmSHv17WrcuKJppz0lcWqJOPd4AXnGUWhZVhMjbIs5XejxtNe2fZL9m1DjtlZvm8Hq\n",
       "vROtwDi2VMTjX9QVt+qxveuHkOpZotUu8m7YFr2IbMbMSXt9bqSouLv8+2xVDWcm7DyZfgJuoVCX\n",
       "0an8MFC9RJyme7L2rrkTxk24Svi4CKPrLT5b4lzY5bp7so4b//MQmKUw7mxjx03yb20508Q1cv5/\n",
       "rBjG7fzXK2XQO/RKyRPyHRrwlffDZiUz+A1Rb8Ei/Oj95gAAAABJRU5ErkJggg==\n",
       "\" style=\"display:inline;vertical-align:middle;\" /></a><br>"
      ],
      "text/plain": [
       "unaryDisjunctionDef: forall_{A in BOOLEANS} ([or](A) = A)"
      ]
     },
     "execution_count": 25,
     "metadata": {},
     "output_type": "execute_result"
    }
   ],
   "source": [
    "unaryDisjunctionDef = Forall(A, Equals(Or(A), A), domain = Booleans)"
   ]
  },
  {
   "cell_type": "code",
   "execution_count": 26,
   "metadata": {},
   "outputs": [
    {
     "data": {
      "text/html": [
       "<strong id=\"eachInBool\"><a class=\"ProveItLink\" href=\"_proofs_/eachInBool.ipynb\">eachInBool</a>:</strong> <a class=\"ProveItLink\" href=\"__pv_it/e2cedf777eaa1f36b9ed6edbf03af4e9133cc6ec0/expr.ipynb\"><img src=\"data:image/png;base64,iVBORw0KGgoAAAANSUhEUgAAAewAAAAZBAMAAAABLABNAAAAMFBMVEX///8QEBC6urrMzMxUVFRm\n",
       "ZmZERETc3NwyMjKqqqp2dnaIiIiYmJgiIiLu7u4AAAAU9Wx4AAAAAXRSTlMAQObYZgAABhtJREFU\n",
       "WMPlWH1sFFUQn+71rr3dvb1W/kDFckckkkgMR2KIKSF3oQ1qMHIolSAgB8arRtH+QWgjQi8m+JEo\n",
       "XKL+pQmNQcAI5oC0kUDiQaUxaKAoAUUOlmgIAQrFNnzjOW/e292316NsTCQVX3J7M7PzZt9v5+PN\n",
       "PgBvY2mhBe6WoRSOelXthbtpLPu/wja9wjb+K5gmDnt3D4dNbvzBA+wQ+9NzIx61L4HLnDXYOONt\n",
       "l1hd+/KVulcA/DGC/SWTrfEAW83iX7U54mHTEitSAIuiLnlAyZ0+0wGQIdjL8VqV8gCblJaP/Bjf\n",
       "yS5xjMp4ohS2FkXM+wg2ezn+rJeSxkJi3siHPZZdvsXt9kAH8Wc/LPwiYAfzTwOcJNj6xtbWlZ4q\n",
       "+b7W1taRX9AVFsSwGH8HKSF9H5iOtydgxAaytIFdSqePeoIdTqeXdnh6dFXszkAMlpH5aYmDAG2v\n",
       "E7/cdIJ8Wg8yapJgNwA0e4JdGYMAtWrKVf7QN5rmvEiUvriuuZPucOU3Ja1bjEmleeVYkw2WHT21\n",
       "h1ckyZNlvFCdZzcGd3Ye43yzk9uF4hj2oAzBHg9GpvxOsPoZ2PqCA1tJwGmiK65x2W6ArQSwdj+M\n",
       "u0Gm+Y2UrFV+RIas2LLmMlhujHvAVCJ5Ij8Xou83bVogyApWv7XLAH1U0YyUXNJ2IKfUEOwQaPmh\n",
       "ts82LYAe1VRNqUvrhV1Ez77EZXPQacz9647zB1mwgzlZKyd+LsYfcTYPISNrnHYMauIHDhO8afKS\n",
       "hYO5wehsymuqsU1sV2H2H0BoGr03pa5QsEsapB5Gb/YTbC0fGroZa0tWnYcfc0kX7F1wnCz9epHL\n",
       "fgNYyJ5bxFT21TiwKRVsrR2Y6/ZWYjGPrKuBEhlZI1oyqGWlBpozFwaQnMwlmHfQNeG8qanwdV6C\n",
       "HWYtyzWrebG9DamADdvIPIo68yeu17pYJWIUwF6m2P3RChfs09xGaEKRpMYA6O8yz11hTMyBXSFr\n",
       "MVml/fVmMT+1/wVuGbdGtGSQ5cvjtiYxi1hK/i5eRA50luWaqnSKlVawohHHd1BJtcXoLYUtghya\n",
       "pwOcm5QPJXSGilExamWgWz1XL8MOLKNA+gKK9K9c3zmDOqLrMgIcjzlauE9qUemDRzBqMvxniYxb\n",
       "I9oyiJNhmxQqnIlI/TGWm2oy4Z99zFpCXmzb7bxiPeWCjUGu85IGnyCkVd9AOMZKO1EtvER2Q8d6\n",
       "GXZwIYXNWFhLT1YzoLPegBAYEuzxtlb9aCoqjr8EM9msvl4i49aIFgbZZDglhQpn6J2LZfkyUE+w\n",
       "VXhWvA0Cgdu2716u0xd1YOvzU/YGBhVswkxMl2raVGbCOPAdTqdfRdhv9cmwYQxFb21tkRwQSILB\n",
       "Aik8YAW2gP2xo3WElVvJX4I5WBsZLJEJa4y2DLLJalT6NiaGJT7U2LCnpdPpHMLuEFuDgit9rtjY\n",
       "+J7I9arVMetT5NLBJ9kOF+WwdQZtFHRBO227o6BJMRLc28pUF+z97IKZf4C4cBYUtsDKG/SyHNgP\n",
       "OVps5af80sEMMWoC9Jugz9s1fW/WkglrjLYMHqFQmAtSXCAzi+VtDifjGpUU/CG8bcGG0aUNwRO8\n",
       "klvjpHTMUNWPz+lRoa0FqVEP8rDsxobULD1mwOiFeD8qQrsJK5NIGJEsTElKsPtsLe6w79D+Gmgz\n",
       "8UIMxjj4ihDsgnuUpFAQ1oi2DLLJsBnR0dQ2kzMnr4LvJTYZPa538BxA2HOtlN93m8brKwk2vraf\n",
       "YcpGLIFIPZ+HUxgJyjtRqBxyunJiEPTIxWw8r65tmvM+Fc0zJ+oa5JKGG6LQ4g5DJ/ouQ7wFL8SE\n",
       "MPx3F++DBqOXvmaZTFgj2jJIsC9gjNLUeAtnjC0XD+FfQxWWJn8UjCXUrmx4zfXheethZModKlmd\n",
       "ywbM7WEPlfJDCBu25jSetHLX4aPE9AaTIb1UQaJpcpWr2Zcma3tMKuMq5rZLJzEsbIqOUti+Fo9n\n",
       "abaia0YA3A3h1PuH+aQ1Umo2sP3W928zWd8M8Gm5WyuGhb293BGi7vUIUS87Q/Tkn92pr8zEv31y\n",
       "WvB0Ti5KgX6HPjzVf3bEpRQO/Q1yy/OGb/R3cgAAAABJRU5ErkJggg==\n",
       "\" style=\"display:inline;vertical-align:middle;\" /></a><br>"
      ],
      "text/plain": [
       "eachInBool: forall_{m, n in Naturals} [forall_{A, B, C | (A_1 or  ...  or A_m or B or C_1 or  ...  or C_n) in BOOLEANS} (B in BOOLEANS)]"
      ]
     },
     "execution_count": 26,
     "metadata": {},
     "output_type": "execute_result"
    }
   ],
   "source": [
    "eachInBool = Forall((m, n), Forall((AA, B, CC), inBool(B), conditions=inBool(Or(iterA1m, B, iterC1n))),\n",
    "                    domain=Naturals)"
   ]
  },
  {
   "cell_type": "code",
   "execution_count": 27,
   "metadata": {},
   "outputs": [
    {
     "data": {
      "text/html": [
       "<strong id=\"orIfAny\"><a class=\"ProveItLink\" href=\"_proofs_/orIfAny.ipynb\">orIfAny</a>:</strong> <a class=\"ProveItLink\" href=\"__pv_it/197409d3897a5b8dd8fa7524d4ed4cd0f92f74310/expr.ipynb\"><img src=\"data:image/png;base64,iVBORw0KGgoAAAANSUhEUgAAAnoAAAAZBAMAAABUe57iAAAAMFBMVEX///8QEBC6urrMzMxUVFRm\n",
       "ZmZERETc3NwyMjKqqqp2dnaIiIiYmJgiIiLu7u4AAAAU9Wx4AAAAAXRSTlMAQObYZgAABzNJREFU\n",
       "WMPtWWtsFFUUPp19tbPTaRGDP1RaFSGGHyxGwYDaDSBoiGF5NKTyWiEsvgj7g1BChTYmQCCEbqIk\n",
       "/hDtDwRMEBcMDbEYRkqJwQeb2GBEHks0hoRSyvvNeM69M3fm7s7qttFGIjfZnbvnnsfc755z7rl3\n",
       "AYprwRM/w/0mNeXEsWJZy++jld+WQrZY9PR+fK3h/FGT6qVc7wSUOeaDyYN94teqOXoZenxXBHrM\n",
       "+7R0f4Dni/LnqZZeChYUOGhOmPBGdQ4YpzYkuwbdKh48N/90jt5n9NhYBHoqrWtptj/Qs6yoZlSQ\n",
       "2Mx9+TNi3xHrl1sgR2YQQOCiTPviBn6NuOSlyNOAxF/K0VuG36F4EegxpmX9ErhtVhyaGUEa76K7\n",
       "mp/mFbYDwi0gy/jQZXyXJZpqEpKlPV6KvAzI/FoLQ4/WOZAqAj3moHX9gt5g/lhv9gjSKPo6mR/j\n",
       "tKTldkC4BWSZ8DWc8E2J9skV+g7EvRR5GZD59UqGnratvn5lUXvu4fr6+ky/lAJNfMaZqrtOMCcB\n",
       "ymL5vGvxs8nqSwKyTBAnWz5YolVdYzIpD0WeBnL432TowdVE4lhR6FUkEotb+gO9ALfSGGm+KGg0\n",
       "Y5p5bttkTTBPQJapiEJoTdZNKzPjBRV50XP5P+XoYSZYVBR6mAKCaDcUKcyV+kfQKzXYYyHMu+0Q\n",
       "T1pRl/teWR5c+QKSTM3ktjmGRPObRkFFXvRc/g85ekNAbyoKPSUKZ7C3ggXXDb66S2pnLOAMhwYc\n",
       "bYiN6Uuc5mqCErYxapWw/wqI+WOmH+chjQndb1UitoC0+1gy+5Ogd0q0UjPiTo9uRZ4GHH7eHuPo\n",
       "lUPY8K66Vk+DXXNdZ40M7MNvtkAlNzn5G4BdXNkjWaXKUC37327fPltWpq1fv9o2I48GczRhmDEt\n",
       "51Mw4irAs6+Kct1zkTNsSV0CcolvybxOCBpuWrnJtohhwoCjyNOA4Lf3d45e2PDYauBs7Ww4pGbV\n",
       "rAu9feT2ZWxXn2q95gysgFgWuZOlBaYX0/fUGmFV312t1e0b1yFiOd1y9nF7Oa3RqBs9W5NAb8qA\n",
       "AeYdfG62kmFK9VzkOthh9WwBVwIVMlSsHGlx00pNNvCQMOAo8jTg8Evo6U3PePjr/FXd8H06JqF3\n",
       "hs4AlPpA+eUCJ/8KMIetOxWRI1kSbR3WnQ2rsNMoa4UHFEzST6HnRRA9tQsUBLMd7NFKN3q2JnJs\n",
       "grxsYHd3o+mgF2ryPmovB6sOEAJOEzI+yodTUm5amEWiGhUGhCJvAw6/FLmwCPOANmv4lnArjVMP\n",
       "oIMY2t9vkNALLkWnKGG/hnE/1i+BxjaqeRQNv1FW0WLMu5Q9WRivZ+iAgtVkB/ne8Lm0kDhujYaa\n",
       "XOgJTUQh5zidomhJisnBeOs4SYZ1u4PZ/HmrxLUFOnZ/FW1bIMtQuRe6LtH0KkpBe53lsRXpkhFB\n",
       "F/ykn9KPhd4mxLZrhFEe1YhKvQiwibWrXWPc6JWRczzHt2tWeINyq20i46iypjCEH2HCganHMWOU\n",
       "xco18n1CNF37qEFIdojR8IGsg57QRAuM7KGJNGSmHPRG8bpXp+A8n7E66FaLuZgtoB+4DZ1wUJJh\n",
       "5d7IjTJt5fWPQz/EHPRsRUL3+YxEt/hJ/09OxQIlOPNVe6EiQm/NekkfSxHt0LLFjR48zPBBhYOh\n",
       "mcGlNoHGDgYMzCxhO4ZnNpie1uNqKvglpZqXWN4LjKX0FhOj2g6X7wlNhCS+tmnexSLBxHCx0Svl\n",
       "da8+iPwsbnWwreYPW2D02Sa4xObmyASWXJ7w8gZZD1YJVXdmgoOerUjoPh2X6BZ/CPVT3fyehZ5G\n",
       "CE3GrFXKEsNkDGnf0UTibUTv3XMSej/i5wP6gfmZJYAgrgWrXVhSqCT0XkgkEmnEp8UprMPHGXqq\n",
       "io+vDYaea5SjJzRJqdk9OV+BC4oXc0+maV8lrCssk0fbXEBRAQP+tFIpTmpWGwit0KjwXq2iR7nv\n",
       "KWOzubejQ/GDifEIc+uKFCjs0mGKQWpp9HfL91z4dPhTNnpa7BVv9IQmaoe9JldsK4mE46Ge6uIF\n",
       "NvdWfyBWDWrahV6oB33ukArLk9gb+ARM4ujB4Tz0zrHAhZoe5IXGLKyMQWgtnL4BvoVs3v4kR2+m\n",
       "uK/ArFfHIreBdiPcQ6RRCz2uSb6h6ht6jbiMWrzlX0OvEUqejvAa0EZPiWMqHLUNagzsvWbAH7h2\n",
       "yppq8OfdzGNxeOoyaFUXUjWG2lw7Yx2rB/TPL3RS8E4DfT6rh7e+I8w9iYkngtVywgAqYKbLoxw9\n",
       "S5O9lq5ruhXNs3o3u6FQHvG9lSyav7cGhkIAE/YkN3qi2RXpVsx7nv9rhFN5vKAJEu7VKua93rxN\n",
       "0IPW8F//RyMc8ULPlyx8zrUutuL5vKPFrUYfLu6DcM+2XPQ0+Dv04KN8XuGEfvhfo1f4jkX8n6v9\n",
       "xQ3Vzj68gv9exU450fknLLVfJn4WsIoAAAAASUVORK5CYII=\n",
       "\" style=\"display:inline;vertical-align:middle;\" /></a><br>"
      ],
      "text/plain": [
       "orIfAny: forall_{m, n in Naturals} [forall_{(A, B, C) in BOOLEANS^{m} * BOOLEANS * BOOLEANS^{n} | B} (A_1 or  ...  or A_m or B or C_1 or  ...  or C_n)]"
      ]
     },
     "execution_count": 27,
     "metadata": {},
     "output_type": "execute_result"
    }
   ],
   "source": [
    "orIfAny = Forall((m, n), Forall((AA, B, CC), Or(iterA1m, B, iterC1n), \n",
    "                                domains=[Exp(Booleans, m), Booleans, Exp(Booleans, n)], conditions=[B]),\n",
    "                 domain=Naturals)"
   ]
  },
  {
   "cell_type": "code",
   "execution_count": 28,
   "metadata": {},
   "outputs": [
    {
     "data": {
      "text/html": [
       "<strong id=\"notOrIfNotAny\"><a class=\"ProveItLink\" href=\"_proofs_/notOrIfNotAny.ipynb\">notOrIfNotAny</a>:</strong> <a class=\"ProveItLink\" href=\"__pv_it/65df9293360ffa5d3866b81901720c6fcf2ba70d0/expr.ipynb\"><img src=\"data:image/png;base64,iVBORw0KGgoAAAANSUhEUgAAAZQAAAAZBAMAAADkssUhAAAAMFBMVEX///8QEBC6urrMzMxUVFRm\n",
       "ZmZERETc3NwyMjKqqqp2dnaIiIiYmJgiIiLu7u4AAAAU9Wx4AAAAAXRSTlMAQObYZgAABJxJREFU\n",
       "WMPdmE9oHFUcx3/7dzazbyZJi0o9dBcUKxTJBDTR+idLA17EGg891B5cFLciFvawtEXRnYsERZq5\n",
       "5Cj2UC2ihMViECu6VuvBgq5aEAtpt+BBUNJtbCvWNOP7O/ObncmsIzm0/uA38+bN+759n/d+788s\n",
       "QLzll36Cm8HSS2cHFTHgZrHG/wmlOxClu6GB0EIP28VtyklYCRaclE5ROux2Og5lQIlkdi9KZyri\n",
       "fv5IwkqwIGcJpyjvsefDcSgDSiQzXE9BjLfuVrysMkcMjyW/WvIJCwBs6Q04QK9aNQ5lQIlEVsTx\n",
       "dUKGi9vxsqZRPrKshbVYAPCN9AbvmpwThzKgRCJL4Ym3VdzecHte1gS7nAvJMqwnDaXFAoAL0htA\n",
       "jh08+ErstB9QIpHdjaPGFgPVKa35MVcHGJoJ62apz6uRxQK68znC6WJ8tVY7G78Yx5dIZE+hdE5M\n",
       "3qY1t+LlMQyG02/zEickoDNnRniDh+e+eBSvxJiDJqHXuX/FtX0sGJlv4lnf5rfn4OlVFVo8uCai\n",
       "mtEVQYYEHr0tnKLcCaYd1N2/u1y8peujeCVKoh/zwfC/FodSCi60m+hgLDGj2Sm+XJER+PwKwH2P\n",
       "e0vBzujlIlsWSSnwu3JEeIM1ttj2X5gf7W6T6gIsoFFRJXKlagTKk1djSJRE2QraUoZ52y46MMZq\n",
       "eEv9Xn/HCuvArzKlBN6S0BNOUYptAy0ri9uWu+R0LoCiStzz9kgYJf3zpRgUJVkf5YnRUfe6j5Jz\n",
       "9HZURXvgA5lSgggU06Y7MNm7/Whx0QLCVg/ywGQLo/AS1H5oroVRjG1uzMlGSZRtQSgpNo2GNi8v\n",
       "N10fRbOjT32HQO4lSnDqw08qJ54NBhjso8H5+1jbqJAKFHg0WgtfYhRegi0TwythlHfApb27K5rE\n",
       "kyh7EaHkWfdfoDyGW/dQYFoekVj/mCpBN8mH5AYpBebJVTgDX7HW2sIZyjzlffVjGLbokrZDoOj6\n",
       "Lowyz3tkvFv420fRa7Xa87RNW2GuBTtu62N4l761kcQHl2aJFVR7lNXnOj7KhNggTRZDFzsyQX9n\n",
       "v0BSAu03G/7g1aHFGFKM9zEYh4IDD9MmtIilfXsOo/AS8P1o6XJwVGjCoJFLezjq+6yKJN7cwbOM\n",
       "NtR11yDruq7loRTEBmneykagKhPUXhM3T5BtZUbgdSYoC2cohPFuhkVopuEXMSpwx2cYhZfQK0Cu\n",
       "h1COAnzXWQ9FSMieT3eekttLCm9/gaFUKJl1Zt4j/Ucgq1jVemV8cJGzrUfH5WsdsnWBQhZCn17j\n",
       "dJdy+1FofMFUj6Nos3Coqx1ml1mJIiRDi7ApLQ8j5EjfQTCE8m+tCdkWqdLq3gfhCiVdhR9h4hiY\n",
       "z7CDEr1U+lEMGkdfuFsCKBk4fxlI6ZLDUDKrMFXP/MkuYjO2lGTa7OjO+od8bi/N7U2GchcYVuaF\n",
       "Ot+GTDvqg5jO5tagD+J8OIsFGPGeSN/2NjRjkIgvcK2yAac6Fkc8lv7Tt30Y5cHbaa9Peo+TgZdm\n",
       "VXfyx1XzcUe9vAEox6VvFAq3dkTqhvrHJeJ/sOwN+T/YmX8A2JxhuO/aOQwAAAAASUVORK5CYII=\n",
       "\" style=\"display:inline;vertical-align:middle;\" /></a><br>"
      ],
      "text/plain": [
       "notOrIfNotAny: forall_{m in Naturals} [forall_{A | [not](A_1) ,  ...  , [not](A_m)} [not](A_1 or  ...  or A_m)]"
      ]
     },
     "execution_count": 28,
     "metadata": {},
     "output_type": "execute_result"
    }
   ],
   "source": [
    "notOrIfNotAny = Forall(m, Forall(AA, Not(Or(iterA1m)),  \n",
    "                                 conditions=[Iter(i, Not(Indexed(AA, i)), one, m)]),\n",
    "                       domain=Naturals)"
   ]
  },
  {
   "cell_type": "code",
   "execution_count": 29,
   "metadata": {},
   "outputs": [
    {
     "data": {
      "text/html": [
       "<strong id=\"orContradiction\"><a class=\"ProveItLink\" href=\"_proofs_/orContradiction.ipynb\">orContradiction</a>:</strong> <a class=\"ProveItLink\" href=\"__pv_it/bf21cb6c880095a31d02781f04ae095f316199580/expr.ipynb\"><img src=\"data:image/png;base64,iVBORw0KGgoAAAANSUhEUgAAAUsAAAAZBAMAAABKqBHlAAAAMFBMVEX///8QEBC6urrMzMxUVFRm\n",
       "ZmZERETc3NwyMjKqqqp2dnaIiIiYmJgiIiLu7u4AAAAU9Wx4AAAAAXRSTlMAQObYZgAAAyZJREFU\n",
       "WMPVl01oE0EUx/9NmqbdzG6tIqKgKShUkNIUxGpFGtqDB6HEQw/iZfGQnoQeiu1F25u3upeerVIt\n",
       "XkJEDAoiET8uBY16EIXVPYgnkVZLxc84u7MfM5vNbkWb6oPs7nvv/2Z/mZlkZoAIO62PYYOtW5+L\n",
       "1FSw8ZbM/i+YRiSm8S9gWr21GIYZpVhXwKKNec28z4RhRinW0+I5G/OMeVPDMKMUDcFspVMvoYVh\n",
       "RikagkkWJibOhv6EohQNwcRqPv8q/A8pQtEYzCFgNBzTVfSwoY85udiXsFf0aGuP1kt6mHugTIu5\n",
       "gyOdqa2Gh+kq0mzRanGETV/DMNNza4/WS3qYMlJlL67cHCkTtYAC15uOIpFWRczjq+xetD+C46hF\n",
       "C47WTXqYqbLMrTOlrg8GWUwImI6i++ImATP2cpk93OaXXcdx1L5tRGC0btLDVKb3A+TkvvlUKQNi\n",
       "hsmhviKPaSmoPZv6KWDKXVXDCTS7+yjHcdSiBUfrJj1MjA4C73vKcpbQf1EzSjKF+zympQCkXPtH\n",
       "AfMKqp3AMO3uToy7LduOqxaMRZuDtwkBJRzmLCU5dwvtGSmHfoYpScM85qy1rPcard94zPguXCii\n",
       "fxvtbhVHvdnNHFfN7Go+n5+2o/FLvi0sn6yL2WRO+GPoRauGI7SgSDLJx695TEuBpx3pFR5T7uio\n",
       "0voX9PEyvyNkjqv2THWicsBOW60tSei6vlPXVYZJzCHYghKmYnjLehO77/KYlkKiK9YPHnMeeFJh\n",
       "mO8S3Isth6nJiTuDDzWPxG4jGDOoxLctTi7R/nwksclPMUmhZlvcayBe5TDpmGNgiWFKD2gTM5g0\n",
       "6MVybHVbCZtjOSTP2yR2Gybm5Jhd4EvaJcGYMRXPcWAByinq7KWXrB9TpgN8r7rdw3yzApJe1ixM\n",
       "5RPF/oyBMXqxHEc9pFQkDfHvVkXGiZqYA2W7wJ9kJRGHDInOzahDRovgmZgQRpFzKm05mdDxERuw\n",
       "Bt1dU3xJu+TPz0IC5uEdIYu0okpayw2gT/z5Xqc77bj7ZfoCS/4y5pqsXBsiYcnfP1nqtef05oaf\n",
       "07O/AB/rFTL2bgtuAAAAAElFTkSuQmCC\n",
       "\" style=\"display:inline;vertical-align:middle;\" /></a><br>"
      ],
      "text/plain": [
       "orContradiction: forall_{m in Naturals} [forall_{A | A_1 or  ...  or A_m , [not](A_1) ,  ...  , [not](A_m)} FALSE]"
      ]
     },
     "execution_count": 29,
     "metadata": {},
     "output_type": "execute_result"
    }
   ],
   "source": [
    "orContradiction = Forall(m, Forall(AA, FALSE, conditions=(Or(iterA1m), Iter(i, Not(Indexed(AA, i)), one, m))),\n",
    "                         domain=Naturals)"
   ]
  },
  {
   "cell_type": "code",
   "execution_count": null,
   "metadata": {},
   "outputs": [],
   "source": []
  },
  {
   "cell_type": "code",
   "execution_count": 30,
   "metadata": {},
   "outputs": [
    {
     "data": {
      "text/html": [
       "<strong id=\"trueEval\"><a class=\"ProveItLink\" href=\"_proofs_/trueEval.ipynb\">trueEval</a>:</strong> <a class=\"ProveItLink\" href=\"__pv_it/006d8df3e659d3d1f216ab075808eb3d167de5840/expr.ipynb\"><img src=\"data:image/png;base64,iVBORw0KGgoAAAANSUhEUgAAAmwAAAAZBAMAAAB+y29NAAAAMFBMVEX///8QEBC6urrMzMxUVFRm\n",
       "ZmZERETc3NwyMjKqqqp2dnaIiIiYmJgiIiLu7u4AAAAU9Wx4AAAAAXRSTlMAQObYZgAABtdJREFU\n",
       "WMPtWWtsVEUUPvtqd+/e3lIwGGOwRVE0BKkJSwgoNBDDD2JY0IrllYUfyw8h7I8NJbzcH+KDELpG\n",
       "+YVIf/AyGLpKaDDWuDyKpio2UTASyi6JQSIFW8pTwes5c+fufc2VuxYTEjjJ3M6emXNmzjfnnHkU\n",
       "wBtV9PwMD0gjf88pr12rHqBlojQUvcKm3KWlymkFKXCzTNnyBPwL1YdSR8sQeLLQP0NuYNXDrp0O\n",
       "a7B1059vPcDG/E3ODRa28byQzj/LlHUTWNhDdNKGWmFTqnf4X961j73xtXJohWZgqN5tDNaSho+J\n",
       "t9kDbFIW/4SLg4VtszFc2xXDRvZ1zBXqmJPpv0wCdpmYg9dGrjluQKhIpENS0UC/yvVlBFOPlVrS\n",
       "sBK/lQkPsLFOKweLWjSnFTJCvV1iB+uhxDfTdPp8oceoScAuE7PzJJWQCveJFAl1tF2mbwtv6HKF\n",
       "rYvBRv4TynrZEshHmgYLm6+oFTKpTTWyFq1JldOVJ9DnDP9hFrDLxOy87VdZsCVEikQ6ImqcGK/y\n",
       "hrOusJ1lsMm7m5vXedpJu5qbm7sHC9vTvCB96VMNnN7GssXZPZxCg+IgELDJxOy82uvMubMiRSId\n",
       "PjVFfz7XD1xZN9ioJQ1wLZk85Qm26mRyeetgYZvHC2aGgTCLI422cBNsRJaGUyAQsMnEbLyImnBV\n",
       "JNSx/ZqFL8XdYKOWNIv6pZ5gwzxQgQNXOhN31jtsm3jBVYuH1Lyhv6gFjJ3O8PhyCNhkYjZe0NrV\n",
       "okioY9YtK8xsT3jtHaI3LWNQC8I2CpSMJ9j8DXAea6vZDsRPUPLiEUsPwCTvsA3lBeAQRCmdcMMx\n",
       "LQfrBP0xi0/jVS5g2V5KMjEbL6xviTpYJkVCHS0D1i12iJu3UUuaAInmxYfLDXPg00WmW0I3dOCX\n",
       "menTTlD+muMw8hZIfPLf7NmzwKpD3rhxg0X7ZV5AuYm7fQICr/B02c3WRHTM5ovKBcxkkonZeFVa\n",
       "GhwNsZfsikCoo/A3M0iP40CfG2zUgrBF84IdDC40LoBjUlEqmmDrIE+PsN16tpYJtiMjep1NSDnQ\n",
       "mI9Kymd1clPHtM5S2OZaLzwOnVuPOmAL9tfUqghZhMPWBJ+IrAplJQ67LmAik0zMxgtrm+7DANvs\n",
       "ikCoo4Xh5PMMm5IZL/DdJesvwXe5uAW28wG8eVB6A/8v/cwBKBICQ1h+bB99qRiVYF8+0g5D/RhM\n",
       "z6Cv1SNsUi9sTfh0xY/wAu9NufSb2mfAtgqEu3RlRr8N6wImMsnEbLwoC1KpoQSboQiEOr5iQbrD\n",
       "GqTW64clSGEpxrw8f8yOaDuNRDWATupw5P01Ftgq0hiMDICq0SwGQjcIu3pKHDJlnajkP1CE6Uo3\n",
       "3SjwMNhJ3jZmEW4mq/TpLONFIewK1w3Ygs9rB1d29S3qFVwRfvHTBYyZGjJm2DhPqaV4Pggl2HRF\n",
       "imUQQ8dZip9ohtsPcsbN22RtS4AtOPHecfmqBnaNpVq9drc4IvVOMsMWWYififRrJ7CjgE+/8Y2C\n",
       "MFvi0OzTmC0i8SqZ3J+gzDWOyKNwx7O8505e0mTVipsGbIHl2lB/4G/lNq9QRudnVF3AmKkhY4ZN\n",
       "56278VHl93ETbFwRU1saxOhfWXi3uPaEbv+dDyDgQ7jXH4TqetaVaqkAO58dgdYdZtjgUYYQDvUY\n",
       "tNAaVV/mKzdR20wxSF/OKQkpW7GffPFFlttCk+EcdOl5ZaxWqlV011mqOlCCDTbw4znCowznFUpS\n",
       "2vxLAsZMDRkkYzPXecdqb88FE2xcEVNbGsTUX16snkhx+7G3YFvXxqAWgk0maGbCcxBmiXwmjITA\n",
       "yWTydYRt7UULbMexfEA/ampUWu9qygc+BtsLyWQyh7C1Ggfi6GkGmyRZLlcpU95lxyAdtikuj0X2\n",
       "/cqYqVjGztvmpsilP9kvvlyB6XLFaRi0wxt+rdboVxo0b/NPLtqfKZ/SEucPZG3wFhuGmL9ybzPB\n",
       "1hnMOmGTW7XihM0rGTP1RtvK1t+I2ve6tu81wVbZh+Yfk2BVCmvDnoAZGmzQ5YDtIotRmNqHfZXa\n",
       "LEyIs1eBYEqDbW4pSWNma2JBusbt4eg/wabP9P+CTbPf/QagZEyw+RPwI0zYDVPzWJuXh3MYwP63\n",
       "6iDoeBTHQ17hCsi1/dmpefi9MIK9yMwBZQk77u5aZryV0mMfHneTedt7ssnHcZZ7rpb38qnP1Cut\n",
       "bplfrn60P5hya2ctaTtXt3EX5jbh/xKiWUdf9nQnYW7ztJo5rdzbtP/fW+ywBVLud1LupAln38g9\n",
       "D8NdJjtsMtwJNvjQ2TcI9zls7i8gpf+Tys6Ho333F2j+np/+AdeVPYu2L6geAAAAAElFTkSuQmCC\n",
       "\" style=\"display:inline;vertical-align:middle;\" /></a><br>"
      ],
      "text/plain": [
       "trueEval: forall_{m, n in Naturals} [forall_{(A, C) in BOOLEANS^{m} * BOOLEANS^{n}} ((A_1 or  ...  or A_m or TRUE or C_1 or  ...  or C_n) = TRUE)]"
      ]
     },
     "execution_count": 30,
     "metadata": {},
     "output_type": "execute_result"
    }
   ],
   "source": [
    "trueEval = Forall((m, n), Forall((AA, CC), Equals(Or(iterA1m, TRUE, iterC1n), TRUE),\n",
    "                                 domains=[Exp(Booleans, m), Exp(Booleans, n)]),\n",
    "                  domain=Naturals)"
   ]
  },
  {
   "cell_type": "code",
   "execution_count": 31,
   "metadata": {},
   "outputs": [
    {
     "data": {
      "text/html": [
       "<strong id=\"falseEval\"><a class=\"ProveItLink\" href=\"_proofs_/falseEval.ipynb\">falseEval</a>:</strong> <a class=\"ProveItLink\" href=\"__pv_it/77d7d4d3118b815f99cc5115cd4c4e627b6b35990/expr.ipynb\"><img src=\"data:image/png;base64,iVBORw0KGgoAAAANSUhEUgAAAXQAAAAZBAMAAADTUMhQAAAAMFBMVEX///8QEBC6urrMzMxUVFRm\n",
       "ZmZERETc3NwyMjKqqqp2dnaIiIiYmJgiIiLu7u4AAAAU9Wx4AAAAAXRSTlMAQObYZgAABJ1JREFU\n",
       "WMPVmF2IG1UUgE8yyU4ymczutqj0KRFFC1J2FrT+oDW0oKBg8+CK9QdjxSlUpSkEK4hNHhR/kBof\n",
       "FnxzH9QqXbbB4iK22nTb9aEFSbVUKOw2C2KFSrru9ofVttdzf2bm7vyl2z64Hjh3Z3PO3Hxz7jnn\n",
       "3glAtPRM/QrLUeJTp7q5ZGG5SuX/jN7uit5e6lo2uKIoC0u89+G6ez0R6jXB0Vv0z7Eo9C4ePrlb\n",
       "KL377yWinx5xr5NmgMObjqUCX9HrXVHoXTx8sst133veXQs2+mnybHXEPxopSKZawOT3OJYKvI6j\n",
       "WopC7+LhlUyDKyUiV5yPEyY4n8uygQ777XwhLcl0NBT9KENPYSon61HoXTy8EmtzRUntJc7HCn34\n",
       "rL9u1tJhWvzzAZmVTDOh6DMMXd+9Y8dbkWXaxcMrq4WifB8jLuu7qMN+91QZIF0UC9bKXZX3lHoY\n",
       "OrVgc7xoWaeim2O0h1eeEYpZNp8ieefzYYHvEYpN8alUzY/mJJNWDEOnlgpLti3R6I7HgBMGddSu\n",
       "vlHvHR8KxdgUk6QpUoUlixJUMdMiaVBehhcuy0/F6vTp96i8vQidWhD9djA8pXzfUD5zU9tFdzxy\n",
       "TuvaTuPUwxpVEfRNB9ZPOk+1QijAIciQIihPtuzyTeQD0LFE1/MrvQ8OXpA3iL6wqFNLhcJlmq7J\n",
       "+GaoqZfGYEyKuu2RzNGonR16DuATsNExAOlxWBF3FndOKBgLECd4R1p0jRb8EbyudujO1WHgomRR\n",
       "ZsPQqQXRM0257sfv7LT1Y8lF6LbHmk/xYTObd3Y86LDBaGl1H3rir/4cbXY2+iYYDUJP1jURuo39\n",
       "/VI3vQZ0o4Zbn/7sXZ9lxk3QafD0++9tyOjMA+XnKtb/JLtcjN5KF7O6PfkqofDxus4Z2uxs9Deg\n",
       "FYSu1sQ5Kb2y06liN538+rvC/pechHl+isrJoISBLZhqfw40swW9ACmWc+bYYRmdedCy7p2zt7hF\n",
       "6EZJq/fss1FeFWpQ/tOXXPTEg3xDoitogD3gmolDxgwuXJaUjYnLcAKOUI5aWNR1XqYwjFPv/BZ6\n",
       "TWw5D3B0TXtCRh9mXz7YTv0DCq/Uxxx04xbP5J8LrdDC2LbgoiuvsbQzaE6ca9kD9he+IamP0ClJ\n",
       "XT1bg3k2Q9fmCDEajMdhEFJ1eMiyrIZuqj9Ny+jMA473586DctKyXoHVBQcdbvV8wRquvQS3o42E\n",
       "zDvo8A5vBDfTCJfsAbs6n4CQq5AghJiJhtIH71ODtyFh7hxnuUMtFF2nwVgJ41CNw2886nDbDzI6\n",
       "89AKoF8Bo+DsOyFRj5W5uu3ZRl8XvHUontNBzMyU1Nl88EEApIOAqJVZjPuPGiTKHF0f871qDOKW\n",
       "gkX0qCfX496E1Ee4+tGvUaqQaOglnGFPqMseCT1egl9g7W4wNtMTCA4FL3oWz6OHyCr4PS/Qn7Je\n",
       "tKwRseWFHHpZVL680FgS+h2QNZWtZd9OKW0+taAXPA1zPfoF7wvMdR51abf2vjRW4MYlUY60XO+7\n",
       "aRS62uB6o7Iv2nK96NudiCSLy/YXgeDfYVS7hOIH/qvfYU78C9sJVryjPjs+AAAAAElFTkSuQmCC\n",
       "\" style=\"display:inline;vertical-align:middle;\" /></a><br>"
      ],
      "text/plain": [
       "falseEval: forall_{m in Naturals} [forall_{A in {FALSE}^{m}} ((A_1 or  ...  or A_m) = FALSE)]"
      ]
     },
     "execution_count": 31,
     "metadata": {},
     "output_type": "execute_result"
    }
   ],
   "source": [
    "falseEval = Forall(m, Forall(AA, Equals(Or(iterA1m), FALSE), domain=Exp(Set(FALSE), m)),\n",
    "                   domain=Naturals)"
   ]
  },
  {
   "cell_type": "code",
   "execution_count": null,
   "metadata": {},
   "outputs": [],
   "source": []
  },
  {
   "cell_type": "code",
   "execution_count": 32,
   "metadata": {},
   "outputs": [
    {
     "data": {
      "text/html": [
       "<strong id=\"binaryClosure\"><a class=\"ProveItLink\" href=\"_proofs_/binaryClosure.ipynb\">binaryClosure</a>:</strong> <a class=\"ProveItLink\" href=\"__pv_it/007ee0ab524f98485a43568946fc875a941ae9e80/expr.ipynb\"><img src=\"data:image/png;base64,iVBORw0KGgoAAAANSUhEUgAAAMcAAAAWBAMAAACGSZV/AAAAMFBMVEX///8QEBC6urrMzMxUVFRm\n",
       "ZmZERETc3NwyMjKqqqp2dnaIiIiYmJgiIiLu7u4AAAAU9Wx4AAAAAXRSTlMAQObYZgAAA15JREFU\n",
       "SMe9Vl9Ik1EUP9vn9rl936b0khHGiqDIyj2IPURs5FCDSCHWQ39n0EwK20NoIdUQpBBLX4we91IZ\n",
       "QQyqh/DBFSRmRPPBiHAxoUIyK0SXlWjnnPt933TOrZe6cO9377n33N85v3PO3QD+R0v+3TFzFIey\n",
       "XCdUV3b5M+xxmrzMC1KBXfLyVIpn3F4346tuBzi4XGzvPj1X2gRgcQPcI8GNvCB0olB4XfidRrZb\n",
       "YoEpAHDCBYUZKlZzdOJzBCAM0IJLOZAPQyG2+sX81QKNVWBIPLjp8YIaWQGiuBBhWJhn6ckHYiIn\n",
       "NvBU7v1Bn0oa3rNkIATwOgLOYnF28nrirQZiix0AGEdG77a2XsrL1laKfVg4pUwzaXizrZ4lDdhH\n",
       "0IomEbKuZNqTLciRFV1IBYPv8oIcxm4RdOy0zdOHAAgI2wzAhWb83uZVSzJN155BXNjrmdxGFl7l\n",
       "8easv9q9AqSLbI/RzOmSfoNGVaUwfab/8RhNbvGyMR2TxOJ6MgcZ2AxO5kGdFglZDIogV+3s7Ihp\n",
       "CmsoLpxQZpBnQQv6XsEfxmiKsnsjGxFYGvgnuDLjdQ5Q+KqPzAJYvGBGrUn/UYhGJjdpCmRAEYNU\n",
       "+HwpFjk048CKlyik7GEjShMJI/AQ2IaeYsorMQez+GBU6EbBEgfl5OWvCGL/sgIEhxJhTY9d+FmE\n",
       "Xqi/dBCtYnUQqwBxhit4MxrkrW9uGArBc5pGI2XHNYV1RBcluo0ySaRy2CH2PIhV8NOgK54JQnRB\n",
       "I1NbAMd4q7z/UTNXKYL4S/WYnCUlWlzE3i1kVdpjRGVyhRSGeLl/GQjSpdJeL2O/gAHe6gN4mpQi\n",
       "whPLbk2BspNSkcNwTiRppShFKhOpJGmk8JQrDaIeCQg9MNGT4Rz1C91TyFiP9CYYPEMxsWsKOyik\n",
       "cZAb5kIwuNgh3jBRiocWfb5r7HG7oLHDrT+QqZF9dI5QVbrcEgIPbyK55W6nV3higJio7NYurx0p\n",
       "41dCf1ZstSK79DZuzLZjlsTkqyAvgIxpVqPR1aY/58TfcO5XwR7NLr+vTz6kQK4bk+ahb9Zfi1n0\n",
       "ycXFGIxleepXaxPZxVo1Lfn9MWZ3MCZL23li25sTpCa7uCCUIdi16g0ycdGW8yfHnV3+MFMQ+zf/\n",
       "I/4AM+Xh1y8Fe60AAAAASUVORK5CYII=\n",
       "\" style=\"display:inline;vertical-align:middle;\" /></a><br>"
      ],
      "text/plain": [
       "binaryClosure: forall_{A, B in BOOLEANS} ((A or B) in BOOLEANS)"
      ]
     },
     "execution_count": 32,
     "metadata": {},
     "output_type": "execute_result"
    }
   ],
   "source": [
    "binaryClosure = Forall((A, B), inBool(Or(A, B)), domain=Booleans)"
   ]
  },
  {
   "cell_type": "code",
   "execution_count": 33,
   "metadata": {},
   "outputs": [
    {
     "data": {
      "text/html": [
       "<strong id=\"closure\"><a class=\"ProveItLink\" href=\"_proofs_/closure.ipynb\">closure</a>:</strong> <a class=\"ProveItLink\" href=\"__pv_it/3688f1b2b5faa56b47f98633e6e84854e760a0700/expr.ipynb\"><img src=\"data:image/png;base64,iVBORw0KGgoAAAANSUhEUgAAAVgAAAAVBAMAAADx8+t1AAAAMFBMVEX///8QEBC6urrMzMxUVFRm\n",
       "ZmZERETc3NwyMjKqqqp2dnaIiIiYmJgiIiLu7u4AAAAU9Wx4AAAAAXRSTlMAQObYZgAABH1JREFU\n",
       "SMfVlmtoHFUUgM/OvueV1Pr4IbYjSlsI0hE0PlA7NKCCry2llFCLg+IWxUh+SFYUzSoUUbSZPxF/\n",
       "KCxLtVEkLJEuYqIuaiS0UIe2SJWm2YI/AtU08RFQasd777kzc3dnHwn95YFzd/ace2a+e+65D4D/\n",
       "k9Q7epUz963tNX1ciexw1okgBKhG6y7UPncSXPp8vN17ZENjfStdvhe3UKkslNYJKwbsbvJNrI69\n",
       "9qOD9jJ8TE2H2sPKdNiZepfv0Q68k+xZgZnlKR7pLbHW9L8hBECmua/dpx/6BO1lGCFt2m4Py3wj\n",
       "3ZIzzZVOqucG5gEI7YIkKKfiz5YYAGopAgtTGbSXWT6STntYlvXBbrCbuBJ5y1sOzP20ORctGpoA\n",
       "zZ8tMQD0Xvy98M78GR/2/USd2cugHikUXoEOsMcKhYLbhVUqotKEuZsvh5M6DJDNRfu/QXTcX8Ni\n",
       "AMAzOJy360JmR9BeBljN53/uBNuTzw91WzLJEiqRUXPs98BOQSlws4xz4EgAwIesHamHZRA/+zza\n",
       "y6yuDnSCJQWWYt+T/m6/vmqoRJ6GJy75BcBKoL9Ff1ICcX+d8ABf3mNtSGTfsrBSQTuBvRn0YuOr\n",
       "7txjKNfUfVjJgkX2HPuH++cmJh5vjIgZqGQh9MLXfwHc/kiw8Ha22r4rkOA7Kg8I5EZWuba4wKbf\n",
       "RTuB1UCpCQV+dE9NtSdhMsgs2Yln2POuVe5XZH3KUAdnds76C7PHQAW46MB22u8DnsJIJlBcnoAw\n",
       "IDgh2CTeMD8fLrCUVGJ2AqvUNGEXrW5dqqvHkyLsDK5n6acV7ldkmKxlq3CVlIvAPrZhg/dvCJt0\n",
       "5For2EH4lD/5AQ2wcUvMbApsH1Yv3kYmY1/fYaVqgko/r951R0WAXcRQbatXR78iS0frMKC7sp/Z\n",
       "mIMK2Y1LS6NeCJsuai2L/EXgG4wfMDv1hTX9VFAGbgQWywAOkKr6dXtNs1QLDxDVnPxWgE29YOAy\n",
       "9Qz0K8ldZ8lMZnOayt+YqqHCeUKsecMBLAzgSa4HDc5i4h5+JPAA/ZtLcBq+owuCmR9ugKVlMIew\n",
       "42QYr34OPaacg7sRVpYfDWGz+9nMbIKxCvpJGeyu6LbspD7zN40cavp+Su45IWw/HgkXXd7oOOXx\n",
       "IYT2A9IXivAH27Zw6/rNEGBnq8HWBTE6yIfgVsg4cG8+n6+oZvrEuRAWrmdVQGrLQj+BLTXuvJKL\n",
       "6nmXIeF5nhnAZrCsz9u80a9F+0H8CQISlXgvvEksr+MgDprBRWboagftFFalg9wIVRiV4BfMLNz0\n",
       "lQB7gj4dBvjBRX8UFq7jGogPG29zBWq+ecZMxU4vG8Fxm32Q7wbCMVzmz+llktvvZUgMI6wq1Czw\n",
       "KoAdy+gnsHub7ozHuEZg1yqjkKiodgnkNpdRavdhJRtOQf8R0J8kf7aRxmqCXfgT1M0rDvPPTXz0\n",
       "XPsrIpOXxvatD3YLaGb82eFg+22WRQhhwxGQmmw8bjv6fUlbqFcsD3Swl7vEKvPm2j7yMtcrFMVs\n",
       "b//y5H8fa2EgHoglRwAAAABJRU5ErkJggg==\n",
       "\" style=\"display:inline;vertical-align:middle;\" /></a><br>"
      ],
      "text/plain": [
       "closure: forall_{m in Naturals} [forall_{A in BOOLEANS^{m}} ((A_1 or  ...  or A_m) in BOOLEANS)]"
      ]
     },
     "execution_count": 33,
     "metadata": {},
     "output_type": "execute_result"
    }
   ],
   "source": [
    "closure = Forall(m, Forall(AA, inBool(Or(iterA1m)), domain=Exp(Booleans, m)),\n",
    "                 domain=Naturals)"
   ]
  },
  {
   "cell_type": "code",
   "execution_count": 34,
   "metadata": {},
   "outputs": [
    {
     "data": {
      "text/html": [
       "<strong id=\"demorgansLawAndToOrBinExplicit\"><a class=\"ProveItLink\" href=\"_proofs_/demorgansLawAndToOrBinExplicit.ipynb\">demorgansLawAndToOrBinExplicit</a>:</strong> <a class=\"ProveItLink\" href=\"__pv_it/3f128eb8aa42c4906b681dddf02c5b3afd650eed0/expr.ipynb\"><img src=\"data:image/png;base64,iVBORw0KGgoAAAANSUhEUgAAARAAAAAXBAMAAAAxVg0qAAAAMFBMVEX///8QEBC6urrMzMxUVFRm\n",
       "ZmZERETc3NwyMjKqqqp2dnaIiIiYmJgiIiLu7u4AAAAU9Wx4AAAAAXRSTlMAQObYZgAAA+tJREFU\n",
       "SMfNVl1oFFcU/nZnf5LdyRj6ZB/UVaQIKpmHFkWrWXSJPpmAWUGpmlYcFa1ZUNQqmiDIqojmQUVQ\n",
       "cBH8gyIr6EPJQ1ZEUHxo+qAPGnQoKgGrLRq1/qCec+7M7MyoEcEVL7sz595vztzv3PPdMxf4Wpr9\n",
       "ZaaJlodD9QzQz8bVmhP5Xt1mhBm0DuVatgPzgdPc31tzIs4M+2R1xDTlGukAlmZQB2ygXrKj1jzS\n",
       "KjP6bVZCzKyONNOtOQu9hDqC4j21JhJRUvxtaYGuGsfdoEb6aODPEoxG6Cc3btxa88xMULdyX4Zv\n",
       "RfofUCM/0/8v4rQKeGpZNz7hlesok6avXx+AgkAVW6S2jn20AodEUQFDwKa1dD8OzAZWAB508Em+\n",
       "xQxNnqmayRKwudotQiv5IUWhM9++jIEqtkeuf4skJC2akqU21Ht+gI1DwHgY3SKkR0pPjUg3Kmv3\n",
       "7h0SAHxaTgS67HPMD6l2ATgrgId94wTU1eZIN6aCSz8DHmTJGEv0kJbp7r4SKJ5FlND7+Z9QLt0f\n",
       "FyZymAKu1ib2GWSjpCCntQNNBQYG3REJUsvlWtWr+l0kQTGneeJmuleUgM9cE6ihjHg/0r9se0hE\n",
       "Uv+EiVAWEwWvxz68GbUBuAnmdhNYLEDM9BOh+hGRxcdC/K7GR9Bq6C8UEaNbqp5WtgT618TlAi6J\n",
       "xksTl4SJUAQRryM+XBASgwpSzXgMvShA2l28b/lCRaJBPbRJFXSan5IRe65SgxWzeCjGQVBr6j1H\n",
       "Khbi5fyosEY0AqZ6PfGJUlDT9IpAznflZW+LLQBj0tawmIlI3X/K8UeHIZeRLna8zJtJ2F1Bn0Cn\n",
       "SGu2knu5FJ9eJXLCsqxufvN4x3Z8mMBaYk5QioZXAqlu6KMF8MjR7hRZJF6reH61vTKijbSdByLM\n",
       "zriW7xRwOWWnR7tuWatZI6nginTUE5H9ju348HxtxKk+6+6dRBuM50Eik+lbMqYIvfN/2TbYoYYX\n",
       "vMnldsqqb+c9yATiBTSLsugNTaaRVSvyDpEomd+5RJQPDcVsmj/a4RIZ0YPoY/BA1PWMFIKVaWao\n",
       "UhmewCaRfyVZRPI1krQV5jip2RIiYlAaH7hExIe/Vz+QMnuMfpdIl42tFDgBulvRPOMDLeWq+s5T\n",
       "JFsHtFc49SQ/l0R1LyMFzQqJ1cQt73NlKh/EM5gnz9xS6UdqX759Fy9yhn/BY8CH2mD4nOJZJ0gj\n",
       "XvNt3z84+IAPHSV43QsMhYE6r7N+eCJzQv0p73/MR+Qe5TN4ejnsg8JAtdgmhz0qpsNft8pHidTT\n",
       "I0cCYNYPhYDsZz5N+N93kRLo55+y/VAQSH3CyfwtuSsLv7mURRcAAAAASUVORK5CYII=\n",
       "\" style=\"display:inline;vertical-align:middle;\" /></a><br>"
      ],
      "text/plain": [
       "demorgansLawAndToOrBinExplicit: forall_{A, B in BOOLEANS | [not]([not](A) and [not](B))} (A or B)"
      ]
     },
     "execution_count": 34,
     "metadata": {},
     "output_type": "execute_result"
    }
   ],
   "source": [
    "demorgansLawAndToOrBinExplicit = Forall((A,B), Or(A,B), conditions=[Not(And(Not(A), Not(B)))], domain = Booleans)"
   ]
  },
  {
   "cell_type": "code",
   "execution_count": 35,
   "metadata": {},
   "outputs": [
    {
     "data": {
      "text/html": [
       "<strong id=\"demorgansLawAndToOrBin\"><a class=\"ProveItLink\" href=\"_proofs_/demorgansLawAndToOrBin.ipynb\">demorgansLawAndToOrBin</a>:</strong> <a class=\"ProveItLink\" href=\"__pv_it/bec5a9a6fc23e0ef407d020b6a677efb815a7d400/expr.ipynb\"><img src=\"data:image/png;base64,iVBORw0KGgoAAAANSUhEUgAAAPsAAAAXBAMAAAA/2iRsAAAAMFBMVEX///8QEBC6urrMzMxUVFRm\n",
       "ZmZERETc3NwyMjKqqqp2dnaIiIiYmJgiIiLu7u4AAAAU9Wx4AAAAAXRSTlMAQObYZgAAA4NJREFU\n",
       "SMfFVk1oE0EU/pLNX5NNLJ70ZA6leFC6B8Ui1gYbiidbhAoK0ngw9aBtQLFVkAZB4kE0B+ulBYOg\n",
       "VpQSUA+lh0a9aBWsh16kaCoqXopF+qNSqm/e7E52Fxo9GBxmd2fez3zvzXvzZoH/28q1XNxbrMZ9\n",
       "Ss+0GLysEfwO+WlxkfWOxWT7RfgN4J6YX60RvLnuNd4JHhr89qSA7jiywFmaBVO1QY/Ivdffiwj7\n",
       "jAqllT6tCUwBIWL587WB98jEOtedobcmfIxKyiQRXhcwR6bd7e+/UKO93yo/xcm4+OToGZKUY/S8\n",
       "KSNAbi+n02//uNBpipBhm9epkYMM5Lmb7YhM//LNEkzonGQsAgO9QLgTaAN6AMW6sdTVblRSxcQo\n",
       "AOcr0xy0gjVWZKm4G6Kb7Qq/P3CoeeM1mWTa4sTjWeEE5V4DYllOkG8yT+oRqReDgA1ejCvpKSRv\n",
       "WRNFlorhuOhm28jvOAY7zUT0SVZkBZhPkIcEFEWE9+bTKrP8CXhX3PDDZGmlggjJL/QNw06WiuSK\n",
       "9EY0dkhLJjukjdOsJZYm2Agtoi3QtyTTcWyGWdEi/NNueIpOIKNmQlIco5aSnWwqtnG3wVMQPdKg\n",
       "w3gg6RvIc/2nhI9luTZpxTSzvhp4nnHDk7UeNWFJcYB7s3ayqTjBXbbNZjJGOZoYkCWWjjzZ7fsh\n",
       "Nx89+wTJh6PMapp41AsXvEY4zWrGkt4Epd8rO9lUbOAu20mRtQQfWpCKe8xIiWM/SGvqYleG2KYX\n",
       "mGTWKPCkXIG/k06ns4Ql1uSxKUkWBcohJoeJfEIpNttMug2ZJIE16cWpsjr22qayPHjwCJtiM119\n",
       "zDxO25h3ep+qI/jrVqJLSYLfCT1vkQNK0Q6/nWr6lhz0vu+c+rgkyYd+JZOXRbqHxEHQBaw/g1Y+\n",
       "7hSSJsMF76XMbbTgpSSRDohZo4I3FRuVKDmWcRavva5iNqdG2ygfS8EcgmsIzrhin4pReOYteJaE\n",
       "XtDIo3GLHFCKU9zNUlCoXkvvW4OPywh2zGqrGF3q2p93wRt4py4LQ0rCH/eVhYxJ1pTiQe7OC3ed\n",
       "VikQlrmuSme1cTppzlsxhKBIazcZ4g6vrHqmKrzPFRvsWgf+M5nq/CcYtjxw/SpQFbTVx2DVn62H\n",
       "bkJpHfg6Yow4JBPWYMTlEfd/0ByrPKPA2G/WsPpD1Z0X7hj3v26/Ad1J6iLc1cU5AAAAAElFTkSu\n",
       "QmCC\n",
       "\" style=\"display:inline;vertical-align:middle;\" /></a><br>"
      ],
      "text/plain": [
       "demorgansLawAndToOrBin: forall_{A, B | [not]([not](A) and [not](B))} (A or B)"
      ]
     },
     "execution_count": 35,
     "metadata": {},
     "output_type": "execute_result"
    }
   ],
   "source": [
    "demorgansLawAndToOrBin = Forall((A,B), Or(A,B), conditions=[Not(And(Not(A), Not(B)))])"
   ]
  },
  {
   "cell_type": "code",
   "execution_count": 36,
   "metadata": {},
   "outputs": [
    {
     "data": {
      "text/html": [
       "<strong id=\"demorgansLawAndToOr\"><a class=\"ProveItLink\" href=\"_proofs_/demorgansLawAndToOr.ipynb\">demorgansLawAndToOr</a>:</strong> <a class=\"ProveItLink\" href=\"__pv_it/4fff21cefb959bbcdc4e15e5bce10a58b7b2d8620/expr.ipynb\"><img src=\"data:image/png;base64,iVBORw0KGgoAAAANSUhEUgAAAbQAAAAZBAMAAACr78bxAAAAMFBMVEX///8QEBC6urrMzMxUVFRm\n",
       "ZmZERETc3NwyMjKqqqp2dnaIiIiYmJgiIiLu7u4AAAAU9Wx4AAAAAXRSTlMAQObYZgAABVNJREFU\n",
       "WMPdmF+IG0UYwL9kk2yy2WzuLFrqQxOwXIUilwM9z5N6oQe+CNco9kF8MChexQcNWKxUNHnVh3aF\n",
       "9smCh1SrCGmweKj1T9raPrSiUQvFQq8piAraa653vXLa3vjNn92Z3ewlngSlDpvNN99+Ozu/b775\n",
       "ZnYBOpfY+bNwM5bw+XPdTFJws5Yd/2e0Zle05r/ao038T1ta5X1jtpSPcbQG/TvdCa2LRW+LlhfP\n",
       "/WOVN16YknI0x9Dep/LuTmhdLHpb4iJGDi24qixDbjf16A2SVy5VGNqLeNaLndC6WPS2HBGDR264\n",
       "qnFFrxaPfow0lEunGBp1U9TuhNbFordlvRi8Q8RVDdPTTLupR/86aSmXLjI08+DOna90TCNdLHq7\n",
       "HFX4/+ch4maveAkgUQiIXUWfbGSW1dXYZsl/cXLyXOfk38lCxxn7Qps2sbJxe7HZIRIATwb6fJxk\n",
       "3cYKHKPtIYq+nNtzRblkFBgahuz2zmiuxaAt568ou7AfMjeFRcrWpgIb2yXFQRnho+wQI1HnXi9E\n",
       "CUoan+EzIvj8RdE/DU9cV6krDG0DWBXvLSPbsslbmxLNtcjwHqspBeWYrIWclP12IJpyY0bCG1l6\n",
       "iAa4cBSSpADaow0ntWxZIeUIvdkHX15V47qPoaUgWZdK66NtdbNYhaoyao5FNFP09zBRA3hTVh9e\n",
       "FMKvtMtqNwxh7AReRjaCfnOdm2Zo1hKECRokGqIPfueDT3/ZhsFFdXVsMbRkPaXsN6Y3zjbN01EP\n",
       "mmNx11t9frRYSQ3n8I9zQorgrNqseIxVYnLCOE05WXzcgxaZ68/QZC7QorZRD0KT+q39/cpq4aJZ\n",
       "lbtxRB/fdCA5nQOTZhzzvntrKhqzwPJ9edmPFsKf7GRqo5PXkjhAz6muppWQrDpNOYHlLE8hNgXf\n",
       "eGD2F5rMBZpeCd7JuvrEmtnZMq4WJz78NH/kKRmQsB0D9vfBeipv5iHOIjdXPa6iMQuadtJX/Ggj\n",
       "6CFJ8A7QvDZB285jKvlacSOtjCgZLK0ktA3s4FFAh8FaRzdO11w0GBfbPOo3yxEU/UV0SIqUrGPX\n",
       "4Qx8RQl4GoF92MCrH0M6hylzlKMZxoSKto89YqgZ/1OiGZOTk8/QLiEFl0FbD3tqMLoWGG+sGVcC\n",
       "l1bQ+F20rChNOf4ZUbI27KAPeH5Jog3zhdmiMXe5IQSp1x+kTyC2/lsF5tG/bvKHEJ3dD8EQxG3Y\n",
       "jI+umTn9mxkVjVnAd/2ZBe+oxWAvPj8vZEhhxGPlLEe7B0yZ4Fllr5sn3ab8aGHseJpgWG8lZN5F\n",
       "i/OF2bqNjlBRCFJPyDJECCG5SE3rg9fohSxHM+nwroFpKIfhJz5qcMcXKhqzMPJg3vCjDWBvig7a\n",
       "AYBvGxwNlRNq5LLKgIPGmzIf+2zLCUo/AM4lgLWeRVmgaSu8V/n1oVyyqLeyzkZLzMgWjttJAyIl\n",
       "jmZW215Fh5q4afWjXUIXNoSM8QhjLY5mTmno0U/gpaa+G0+8cslB400lpuGWcIFvZk+pG9s2tL9b\n",
       "yhCpmUVcMT9Q0NDLP8DwQbCexMqdeMr70VIYa0fJOg+aBnRVmBHyhQUwM3M2Q4tmI02KO1bSruGJ\n",
       "V8Qik3OaGrcaBh21R9jhfalh/n7vam1VaAOQymnPlvhy1/YBATNCrdsHBCVDJm06HN5C0eKg0765\n",
       "nWS/pO/1oZEopEz+duVmWT3fg002i71/9G1EQbNQ/tl79f7bbc8OxWvsqRp27DDbpCj7lJd7gHYY\n",
       "eoAG+7FrAVuFYN/vD/YxO/6DL1oB3yHVfmPKgeNtFkZwSjMDX2qq4G7revkd8sxfAlGE+6HSEPYA\n",
       "AAAASUVORK5CYII=\n",
       "\" style=\"display:inline;vertical-align:middle;\" /></a><br>"
      ],
      "text/plain": [
       "demorgansLawAndToOr: forall_{m in Naturals} [forall_{A | [not]([not](A_1) and  ...  and [not](A_m))} (A_1 or  ...  or A_m)]"
      ]
     },
     "execution_count": 36,
     "metadata": {},
     "output_type": "execute_result"
    }
   ],
   "source": [
    "demorgansLawAndToOr = Forall(m, Forall(AA, Or(iterA1m), conditions=[Not(And(Iter(i, Not(Indexed(AA,i)), one, m)))]),domain = Naturals)"
   ]
  },
  {
   "cell_type": "code",
   "execution_count": 37,
   "metadata": {},
   "outputs": [
    {
     "data": {
      "text/html": [
       "<strong id=\"commutation\"><a class=\"ProveItLink\" href=\"_proofs_/commutation.ipynb\">commutation</a>:</strong> <a class=\"ProveItLink\" href=\"__pv_it/8c0ce12b528b498a0c0567bcbc2bd545323f74040/expr.ipynb\"><img src=\"data:image/png;base64,iVBORw0KGgoAAAANSUhEUgAAAQMAAAAWBAMAAAA2k+RkAAAAMFBMVEX///8QEBC6urrMzMxUVFRm\n",
       "ZmZERETc3NwyMjKqqqp2dnaIiIiYmJgiIiLu7u4AAAAU9Wx4AAAAAXRSTlMAQObYZgAAA85JREFU\n",
       "SMfFlk1IVFEUgM/M8/l0/hQXZYvMokVg5QRii4gZalChhUJMi8jUoLFIdBaiiZSDYIpIzcZo12ws\n",
       "I4iBauXCKSrMCA2yRViNUSHYH6JmP2jnnHuf9mbezLTzwrvv3Xvfd+555+8+gI1v8f97zRrFriTd\n",
       "G47iFFRa4iHeJ2nwLKMKZXgpXn5UJhMkVS/4KroBjppTj1Z9vjPJ6h0EJlQ3wC0aX86oAr2RIyyW\n",
       "8516FqrwhKUeoK4Ycswp2IQbzRsJbFdIEl4hgDa8afWZNLCTRUfE8/MV6g/D2owHFz1ecERMKeU3\n",
       "XgtGAk33Dr+HiHHxaWo4kwoWMkARP2qDP+hWTt1bnhkNAkxEwJVvStnxdccvIwHQUYcQETO4erO9\n",
       "/UJGP+yi2AqJT7PPsztQRG4NzzTg9QJ3O2tGQTbu4ywyEgDRUfILEtn4+UuBwOuMKhzHSxWG3pv7\n",
       "h24kjIRiQyufb8b7kBkFeV7QLsWNBFjj12OCsNWwixp5upf7q4v+CneSCgP0FQSBq5icK0xaLjJk\n",
       "YeT+ND1co07t4+bVKfAcGamNGQmA9xxAROSibXeCiy3smBdxkg924VRHf39PTCIF5FkOaStoiyAD\n",
       "65DwDDr7C225PVHxAhkprpdGgrKjq0YQVvIT2Hmjj2xfUL1gRZlz/hMQjcztkAipl8cqlPl8Szzl\n",
       "lKqzs+0EexJVmNcjZTRmIEDx+arrBaFgittjTs73O1NCchTUSbCfuvgVVbB9TlIBu0Kha9gmbITO\n",
       "FiFvrgLl40TEQKApwRJaV8EVKmPFogFe/eaGsSA85qiNlJyUwraQIyh1cyn6RXKGnGLNg3KzfuqO\n",
       "UN9wq9cphexTHTYQgENn/rojoJEdlAW1vFo6cq+Zaxaq4N+qx0ITGZwGHbKwUamRZZ3KQhcBY4lW\n",
       "aJKRoi0bCS0saywSDiIHueY/hVFeHgZ4EFciwgrqASmM8o3Sh53ZIgp1uSwz6GylMG6WlEMyUvbJ\n",
       "A0AnZml+ZT0pwULp4ZryC8mn0Rdh5VUgcI5iwSaF7SEHToLWsByEJ6s94qwQZeYYHkN9bK3uRBWQ\n",
       "UlsWfFUDciyJtm294GhZrmEihyLMQVurQfBwOUCnlrpdXmGFNRUsVFI2GzdQEs55kwIdzEzMrI12\n",
       "Y2THtF7QVkDD1KiUjujUTxXyzHj6CmpL+jlIPriSidv64MMSaNXTGL3Di/4qDJZPxVyaAjGTwzpV\n",
       "m01xWKcl9Eqxrvba0w2MhX9bKwWyN63AyuSpVshEZCX4CvanfFsjK3em/aVwp6DSEncTJ2Mb8ff6\n",
       "Fzk5DGWtu1rjAAAAAElFTkSuQmCC\n",
       "\" style=\"display:inline;vertical-align:middle;\" /></a><br>"
      ],
      "text/plain": [
       "commutation: forall_{A, B in BOOLEANS} ((A or B) = (B or A))"
      ]
     },
     "execution_count": 37,
     "metadata": {},
     "output_type": "execute_result"
    }
   ],
   "source": [
    "commutation = Forall((A, B), Equals(Or(A, B), Or(B, A)), domain=Booleans)"
   ]
  },
  {
   "cell_type": "code",
   "execution_count": 38,
   "metadata": {},
   "outputs": [
    {
     "data": {
      "text/html": [
       "<strong id=\"leftwardCommutation\"><a class=\"ProveItLink\" href=\"_proofs_/leftwardCommutation.ipynb\">leftwardCommutation</a>:</strong> <a class=\"ProveItLink\" href=\"__pv_it/4784afd0b41811b6c468d1444e39fc0eb5e274410/expr.ipynb\"><img src=\"data:image/png;base64,iVBORw0KGgoAAAANSUhEUgAABTgAAAAaBAMAAABhmy5SAAAAMFBMVEX///8QEBC6urrMzMxUVFRm\n",
       "ZmZERETc3NwyMjKqqqp2dnaIiIiYmJgiIiLu7u4AAAAU9Wx4AAAAAXRSTlMAQObYZgAAC0hJREFU\n",
       "eNrtW32MVFcVP/O187mzrBiNGtlBxY8gYVTERgyzkWBjje5gSwwflqmJ2xhKmD/WQop2p0ZsQ7Q7\n",
       "RjEmremq/aBqylgjMQphBLdp0Mg2fjQSlh2iFhJg2e1CWyjwPPfrvXvvu7Nz37Jd/+jc5L5978w7\n",
       "957ze7977rn3vQWwL9vGytAu7TI/JTx2Isjto23E2mUeywA0gpAz+38wcSmvWArVgLomhe0Olrfm\n",
       "7RsJqhC4gw6iMLWGX2VyhihSo38iV+bA/zkxeSYF1Z3grR3hFclJw+GfLcnZSdGrzSc3I72skjI+\n",
       "HFDZpJAdWjRxZvu0fSMzKmQPrN0cL2r335g4c/j1AGaedSYmdjkC1tv9N6xgfzqvzoH/ZpPnEhPV\n",
       "HavWZMRieVaRnE+T64ctyZkiIzHRmE9ykt54jymn1xXT8BLxhxh6FGPQU5DlTglg8LJRAYztKwqa\n",
       "zk/rEF5X1zqoACSd3MyWyvKu1/Dw2MvCY/+9/Pnsv9TEUbPdMmCS3GiyDSZNFbTfVHesEFYQq/A6\n",
       "APfiMV6yJCe98d55ndX/wCuZpBwv610DnlwqUQJCWgxaT0GSR8iYHrxkVABT+6qCqnP2FOFMWeuA\n",
       "xKue0syWyvICiYihV8S87gt33L6Ic72Jo2DGRQLMk5tNtsGkqYKmo7pjhbCC2DFeB2hUilUtyUmH\n",
       "8IZ5JeciXrHscSZd8UpyOOVPAoiDnSK0ewqSPO0gWsevGRXA1L6qoOo8QI6L9Q4InEMLZrZUlh8m\n",
       "uWRiSkxyC/RbQ8y+xH6niaNgxkUCzJObTbbBpKmCpqO6Y4WwgthpXgcg89SOHd+0Xq0f27Fjx7wu\n",
       "2sMVVokLoz03vNkeh36y6L//Qax7RcCRFDx5B3nC4xWTgpxNeO1rCrJOjK5Qvq53QJ7E+GQLSyX5\n",
       "dmJmp8u8r+m3fpD9ORRyGmBvt+K/K29isg0mzRVUHc0dG4QVxDqqrA4AvNLff8KanF39/duG55Oc\n",
       "sWFWsQzmh1525cSthGHbdS9HQ1fw5CQjuuWSUUEqUvuagqwzSB/Pv7UO6OTrLGhhqSSns2+XCDXw\n",
       "hH7rRnqMTyecXAC7Ff9dudlkK0yaK6g6mjsWCKuIpYqsDtC5/25rcmIC0TG7nfhb6rNbD9VZxfJV\n",
       "2CLNI6f4xKAVnD8iIneRFTx5Yeqh701VjQpy8drXFGSdLXVDO4XLNI0qtbDUk0ccEkAKIkmDH9NR\n",
       "+RAtdEXzXRZQijGnHsBuFTAhN5tsh0lTBeU33R0LhFXEkhVWkZzvg2wFsn0NK3KGe+EsGcQ2W2JJ\n",
       "dfcrPytyhnKs4jphARy+DK5DmEp/2nA/Zt5RHl64wn9uqPLjOK+99BoIwCQFfSHG2xcKhk7Gy4aO\n",
       "yf2YRtVaWOrJMzTl8jafFut3voUe/4iNFgPYrfjvypuabIGJX8H0m+tOIIQpYjyVW8AqkrMT0jiY\n",
       "ljXbZtz9Rfj1nS45sR7E4320DbYlnOqZ6r7O2k2v3XiO+L7O6e45ARFl/g/NblrvyrEKcLEKy3E0\n",
       "fvzzfDySMWUcQWf5GVcIj6ryPnxYYWc4cseorqBGCbd9rmDqhOVVDa2DV0nEdxqtLHXlUYeANuTm\n",
       "hwX9Tjo5Z6+gFSWwt1v1X8jNJtth4lMw/ibcCYAwR0xwbpJVJGe6TpZST5jUz63fDM+lGqmGR86D\n",
       "dIFFh0SIbwkfL0KCTh+RkwB30bGD2cjxCvyMj+A9e3bXvQ0odjnyyJ8+vEGRsPL8vn2bIbPhYK+P\n",
       "nH3d3XQr5Sc8Ga2mjInCBvgVP+MKqaIq7yETgNMLyVFdQU123faFgqGTHjpD5LUOSO40eLWlpa48\n",
       "RNKzuPeozeSMTnX3kGzO2m7VfyE3m2yHiV/B9Jvrjj3CAjEfObOVFW5ao0Xxr9w/AX+pFWVyniVv\n",
       "a5I0UK7jWQVmMSm6HbscXf4RxRG5Gr1Cxwvhd2343HvoxhUr9PKRUii3RJHwPlPZZ3PJAyCS41CV\n",
       "VUgunJgYdDxyxiudRvx2ik8AhALPWIU8TqbGFE4hArqd5m8G3PZdBUMnNBmKgdYBeWZDoy0tdeV0\n",
       "vzDh7WHSaT02RgsNA+8gh++vnjhDtoZs7db8F3KzyXaY+BVMwLvu2CMsEPNN63A3mflJYM1sWvp4\n",
       "+kCenwGMkDuP/mCXTM6OAQxjdE0U/hdfj2EWkyAzfPadeFhFA/Y0suwyWT1RfteGU+dpevEhbDnP\n",
       "LqP5C+TllCQJIwWPIjnhmTqsiYuJsKPOKpyuku2JsvvIYQ1/50qMy3pTVfRTHDKh0FVW5DQjGpSg\n",
       "Ez9klca89oWCh46nUyB/ngGtAzQ3er3R0lJXTvcL+05x1HH20B/jPUSRMHT8Vb/dbqua3Zr/Qm42\n",
       "2RITXcGEietOAIQ5YiPP/p7QNFNhlZBzL7YRIZHq/PJ6Z2+ml5/l6SskOJo6/0mJnMkvi/yx8wM8\n",
       "ScDRuYVMSSmyTzVBsx08w2CKmfAIC4xL74RTdbrZP8IvO2EvjNZlCUb/TBHJGf5tA0bTRxrqtkL8\n",
       "M3Q/rOo98pVsAzdLIs7FUX6Cnmxjmq7CR0CRk4zofM+LHnTiB7eNi6Ny+66Ch46nk8FBuaSsd5DP\n",
       "7hr/ArS01O2hbxrOHLrU4KgbUiwiGCAxdPsVn92eyarduv9CbjbZEhNdwYSJ604AhBli2SPX4G/q\n",
       "VhKEkNdp4vr9v4OuPE1RyFmZLWiOwvDjEjnhXWRbiCHGdt3CU/130Xmn090veAzPOl4nS3vK79r6\n",
       "d9dhEwFkA9KPXb6EcXNrXpYgUZGn6di6k5AtZUSWQtJ5Uh3nBjrhOHn3kSdYLpV9G4kSJX6CZTff\n",
       "bBMKB0CWd9FPZkgoEtAJBbeN0yW5fVfBQ8fTgRXfXu9uqEgdXKcfb7SylMuJgvOPPEcdBd/SybmM\n",
       "NtuAPseZ1u32TFbt9vnP5c1MtsJEVzBh4roTCGGCWPxchc7giRyrhJwZ5F4HDbyfw2GWqLKzxRD5\n",
       "Z3//ViTnNy7I5PwrkN0nHA6LYIgqpa/yyNnlZvT78axrGiIVxu/acGwVz4HXKpea5I4iyTnhdiWV\n",
       "eTuvbhGPPNJk82u1dr21idyFbnWTfQq9fQ8ds45P1spSQw+Lza8vyzdh99YZrAiKiU8+IyaBEY7W\n",
       "SKopvb7k7n+MHBfCARgMs7P14Wwvi5zhVTI5SfkhiZO4FqQ3dOBacjmZ0UPIxCwl1lCORk8kJ+U3\n",
       "ppQpvtw5SakoLjXJoTol57CyQyG+AvA9ctuysMkGazLoa1gPHcsS1FKKOs5ovo8klE9Bgtq9MMAG\n",
       "89xiEri1UD5WROr8ElgV5LyYhp3l+CSOhOdS7Gzhe+FWRk44ppPz/VgxdT9OBSEk5mEyfccwWLO1\n",
       "E85A2RfKEC4xfntsHIlWNXJKkkzxswZySp/MzeqRZydrcwOdQOeNIydD3bQp+PDs7W7q/xuPSWBy\n",
       "DkLoo3m6+0l3QAU5o09DoR4uYT668il2thHzQmRx+Ds5iIJGzgt0VofCJPKYvKxNTuXxjKwnfw7x\n",
       "ByGCSe+yF+mAv5VP67tYBCiST5rcS00yQpZHSM4vKWjGe1kV5b6hTcE8vs38yVV83+VgH00LdKxL\n",
       "YEsZ6gwztQzchN232f/7wNxiErg1DHoxXGtEy6zKXkPdd/Zk/1bt9aX7tnT8EmR6pqqFeqLn+lg3\n",
       "rrULdfjv2l80IHINHnDGXiD7prEc5Xdmz55+1uIS8omzd6lKwkXyEfjz+568R7V4F69vlpI2TMPx\n",
       "2psIgN/wKpMzUvaf6S+vBH7VGRid8WZkP7/bpV2si0TOjOGsCTmzpRkY/Qn3/kfa+LbL3JCzdRlz\n",
       "/2/90RkY7cXS3ja+7TLrEh77++wUMzbbE6lGG+F2uZnyP10DlFJk7Df8AAAAAElFTkSuQmCC\n",
       "\" style=\"display:inline;vertical-align:middle;\" /></a><br>"
      ],
      "text/plain": [
       "leftwardCommutation: forall_{l, m, n in Naturals} [forall_{(A, B, C, D) in BOOLEANS^{l} * BOOLEANS^{m} * BOOLEANS * BOOLEANS^{n}} ((A_1 or  ...  or A_l or B_1 or  ...  or B_m or C or D_1 or  ...  or D_n) = (A_1 or  ...  or A_l or C or B_1 or  ...  or B_m or D_1 or  ...  or D_n))]"
      ]
     },
     "execution_count": 38,
     "metadata": {},
     "output_type": "execute_result"
    }
   ],
   "source": [
    "leftwardCommutation = Forall((l, m, n),Forall((AA,BB,C,DD), Equals(Or(iterA1l, iterB1m, C, iterD1n), Or(iterA1l, C, iterB1m, iterD1n)), \n",
    "                                               domains = [Exp(Booleans, l), Exp(Booleans,m), Booleans, Exp(Booleans, n)]), \n",
    "                              domain = Naturals)"
   ]
  },
  {
   "cell_type": "code",
   "execution_count": 39,
   "metadata": {},
   "outputs": [
    {
     "data": {
      "text/html": [
       "<strong id=\"rightwardCommutation\"><a class=\"ProveItLink\" href=\"_proofs_/rightwardCommutation.ipynb\">rightwardCommutation</a>:</strong> <a class=\"ProveItLink\" href=\"__pv_it/783876eef80c5d37815083c30aff31ad0329e25c0/expr.ipynb\"><img src=\"data:image/png;base64,iVBORw0KGgoAAAANSUhEUgAABTUAAAAaBAMAAACUZaXiAAAAMFBMVEX///8QEBC6urrMzMxUVFRm\n",
       "ZmZERETc3NwyMjKqqqp2dnaIiIiYmJgiIiLu7u4AAAAU9Wx4AAAAAXRSTlMAQObYZgAAC+dJREFU\n",
       "eNrtW3uMVFcZ/+a1O487d6A0VWPobtUWDUFGrdhQ7U4KQtToDoVtpc+ljUuUIvMHKaSU7tqIFEI6\n",
       "Y7SJSV3ZP6CF2JRpG7AKzU4Liw1qWaLUqCw7JI0QgWWXZXnvXs/znse9w9y7btc/Oic5s3e+c7/f\n",
       "Od93fuec75wzC+A9rezLQS3V0qSkWX1dfl7vrXmsliYt1Weg7Ieb5v+hjcEizSiFrvjU9a5we//Q\n",
       "QiPjo1WPWDfnDriV1FkoDc3z0cpVWOPmNPv2rssbM+mfpoJP+10VKjd9QnyjWuNbw2ikGXOTTIZ/\n",
       "8sjNJNEuTio372QZpeRVn7puCkbzhfkLntNXkMt/NN9Z5d2wYP+W3JlbrrmWnbIGBtZZPpxk5scG\n",
       "TnZzsIizW0OMGP1dPu13U7hR091X18q+cfOlao1/+xezjLi5E39/wSM343gcRsuTys0XRPt2XRAe\n",
       "Jp/Obmwkfcm/CQVJHmgFeKxRkcUtZFjQSnvG3oUn5NnDrmWpy+hj63n3FrkaYHUAxKxGVtLheJd5\n",
       "PG5lwAeqrCDJ1aZXx1F9o9XBfVnZGi8dpWhEWUbcfAr/afXITfLiU5NKzUSRZmyJNWqLw2mw5XIi\n",
       "a+lePt8IBUnehLSaMopsF2FS3jN2nDgyOuhabxOerAMXXVsEbgaELDy9NfBOOOR4l2k3Wb3gHVVR\n",
       "EHKt6dVxVN9odXBfVrbGQ0epGkYXzYibeExGCh65SSawpZPKzUCZZuzQXZZY5rAlSecMPgd/HOfz\n",
       "jVCQ5N05gMNdsixmZfHj/Z6xt46Q1bfVtd5uPDFFh1xbBG4GJPDMBPkprOSE491b6Z/N1iB4R1UU\n",
       "hFxrelUczTdaHdyXla3x0FGqhjmFZsRN45U1a9Z73qcfWrNmzeRu1z/PMkpvByxh40aUX3S+HkXO\n",
       "imXBoSDJl6F8pCzLAhY5HPu9Z+yGS8SnBdd6V43h3rBcWyQlUUkdaWU/51GdPlME6Sqf6G0YA++o\n",
       "qoIt15peFUf3jVqH7cuK1njoKE3jhzQjbsLFtrZ/euZmqq1tZdekcvNBllFjh6N2FEPN3eh8HZsb\n",
       "ZcewsoIkRzHo2h8rsq0XVZBq2DGr9Qb1koU0NeTWIvdKUiTysPhME9epEqEeb0/nz4N3VFWBy/Wm\n",
       "V8XRfaPWYfuyojUeOkrT2E4z5iZa+Jd75iaKHurGdwAf2jI+bm5hGQ2vbMQqiS14mS4XejrOlgtd\n",
       "wZaHLuzdfUyVNV/XtvdVsMNSO5z4ZBFsuujWIvdKmkaIGq8xRqbJ7z+P00/JFENr+wE8dh28o6oK\n",
       "XO5oejUc3TdKHcKXFa3x0FGaxq9oxtz8HJgdYDaXPXEzmIFTeEbydHylrk1PjI+bN7EM8A4KTLLA\n",
       "DUXhdbjR5X0UXt/LHqkCM82WJ9CidjajvJsfloOj6thRK125XoNET93X7B6RWqRt8lglh6+QoIvv\n",
       "F4JT9JCbvGZMge4RsDu0KipX+HBMloume8TJD9+gDuFLF2vmgMeO0uy/jWbMzSQk0FCaVWm623Af\n",
       "vP6ozU2U96HPp4kP6cF2bFXLEso7Y9n05bvxwyJragOKE+YqSFPGx83zLIN5BYJobIWW9PLWnHI9\n",
       "0sRDDSQFZpotr0MNSVxXZP2k+4I5r9hJGsbOcK03TAK0/JgNJlqkD3VWSfMlQho+O4QGtRdTpGvP\n",
       "FWA2moy/+l2PqFwh2CvL7aZ7xeG+ca1D8qXDGl5B9Y7S7G+iGXMzUcK7qO1u6qdbHoaD8XK8LLi5\n",
       "j+ytyIwQuMqnJ3idtH/q+3AbaaiBwpDDHRBnw+W9HTseFudUxubNG/i6QkqMpfvu7SkopT0vHXBw\n",
       "Mzw0tQGHcjHW5UvhVbc2Rwpxhs4VtqvyFLLZuKrI8oQNgZxX7Cjd6HzCtd4AjjTrrS4bTLRITXYl\n",
       "DXjYttvXBBW42Tx1KjkS6/SIyhVY+MrkoukecWzfuNUh+dJpTSd47CjNfombZseddkinzd2PPzsA\n",
       "fy5mZW6ewncUMTL9LmIh1RKA2WRHcZxO8ogViKHhK2RcmLtbSom4+UajYW+hil2nP8NrwCWxPXBT\n",
       "MKuUvtQa4N8/xTL8/J6Bk/hMhHf5Wvf7/fqOJHviCltUeVOJNE6WdZN1a5tn7ARZGOMZ13rb8Xl/\n",
       "dFSAiRapiVdST07I83aNdE1/pA+nDwgx8MCNTRsYaLcEN6uh2gosWmVy0XSPOLZv3OqQfOm0phO8\n",
       "dZRuv7Smw3K87GNOGQ/N3JbYk2ZPAD34zf2/WCdzs241GsRkOxT8B9uK/gs5Ei+h2OoQ8WsS2ZMY\n",
       "IdusPTMGyok4vFbCMccXEHIasS9+BoLI3/uBlMA8sxdfOEml4fRa3tInWTYxQfsviS4Pf50GKGX+\n",
       "wS7757ELWFvhkirHR3LtHYrsBB5liQ7P2CY5J34LeeiNP2T2PqHiH8ZLR/NxAWZrKYiiEgNvT8Kj\n",
       "ZYKGv+trbB1m14kCXpBzostlVNOJaiukcrLcbrqOI8xUcbhvBDmkOiRfOqyxK6jWUbr979FMuPli\n",
       "L+PUmdmlZIZc6uOnNL082x8/M1fiZgzTkExqyRk0QjCHwcBnBBF8VWeSxp9Ds1V8BIe7RpbMjsHd\n",
       "5eQZcsbfg2fGmY/imR6VkRLojWWThlKahH1fVE8UYDX26aorostDK2n1o/zjHC2Yw06SuUKIBbpc\n",
       "vgypfrKsyOr7N5WfOQresddf/k39X9A2693r8Dc4oOI3D8PJty+UJW6yEowhEO1KUICaNtf1f4+g\n",
       "/dXtDAkL6heQg8CC6HIJVUALVFvhS4pJvOkOHNtMHYf5RpBDlMm+1K0RFVRzpm6/dIYEAXwriDvy\n",
       "2bcglSaewU+5EFmF90PXNomb8GmU76KkoYeHwWt7F+AXAuJ6fytCq7uGjwCiZB2JLDoGkd/h0ANz\n",
       "tdgyvYSZ2MNKzNZ4oe5NpfTfcIgHQbNoTlloJDRb1rDo8g3Up7fwjxM0oo3SrrUVEizQZfL7rfnz\n",
       "n+fgTIZ2cdbRnMTNKtgABxtGH0DuO90BwzxUZ2X4NzXW0bQMxkowhkC0K0lhhdHFFI3sCvRdLd7N\n",
       "WNYY6kQLrU2dTlQBbaMKhT2KSbzpoOPYZmo43DeCHKJM8aVmjaigekep9j9HM+GmgZhVR6bd76BB\n",
       "Fi3Qp9sg9EFb2wrEzWfOytx8HzDn0Gi4FfJEKY7me3ypljpvT9e7EKtTw5jDc2lUCYvptB75Joko\n",
       "I3fjMDUrl+il4gAlp0XidpffU+FkQTsNqyu6y91kfrHDRTQrb6qAb4OFKpzP6ZWEiyTUdN5ZKpuu\n",
       "Tp+oKyrI/eIIcri7xyHrBH/OZPZLd5aMAV/Bn9NgD7QH6VNL0MzQeTN4t8xNnH6Jl3S0C8zQE258\n",
       "WkPJSFd7yDfSufMu+EZbW1sRMbCL7oQSxwj74nF8oVgi3OwS10xyqZ341b+zyz0mapq35Bs7nWit\n",
       "H2ycGDCEFskirN86Cg65drnHNK3CWbRvHJscHpPfCpj9cTSX4Gxz81wC1ubqB9HgOBinT9M+Cwsp\n",
       "N+GQzs076M7tMBGkChAcZptzpE/WkzKYR3L4vQ/ZvMkY2BMucPYZ2W/p3JRKpST9Rm5cXY5M+8i4\n",
       "2Y7GutHaNUHcbIfAl9Nux43KrxJ9drk5WJwQ6nByfITcpPbjw1Byv8O5Gd4JTaVgK4pF57xCnx5E\n",
       "UR8axMGfNUIYNG6eJUs6NA0iGkN7GdZn0YPZUIA5WajfCCEU8M76Oxnv4Rzl5gPEQSieXEpW7XX4\n",
       "EADtfewSvVRKq1nmPtox4u+3zeGd3v3vF/sOSKZDP8pNDBhCi7wK1GUalHRa9XT+IX+o33b/kZlf\n",
       "HE4Oz8l3Q5n9eEZcqBkNJcfTy20rtDtL+4q0/wIYDUOFplI837JkEznp+k//9HmItNfhJ1bfEXKo\n",
       "eB+Yj5MT9pefJHq34191G5s3t5UAH2guFiVaqdIxRZo/LulNF9m6j4/5iTTNCjdDOeeTfo3F9QtO\n",
       "QtsPhlBAq1McxZtQS7XkO8ncNFyeKnDTbHXQWPD5ayLgqrGyliaEm9VTn/3/6b920NhwCQ3CNQfX\n",
       "0njTrL7M+BQNT7+Re63m4Vr6H9J/AVM3QEgGvgeiAAAAAElFTkSuQmCC\n",
       "\" style=\"display:inline;vertical-align:middle;\" /></a><br>"
      ],
      "text/plain": [
       "rightwardCommutation: forall_{l, m, n in Naturals} [forall_{(A, B, C, D) in BOOLEANS^{l} * BOOLEANS * BOOLEANS^{m} * BOOLEANS^{n}} ((A_1 or  ...  or A_l or B or C_1 or  ...  or C_m or D_1 or  ...  or D_n) = (A_1 or  ...  or A_l or C_1 or  ...  or C_m or B or D_1 or  ...  or D_n))]"
      ]
     },
     "execution_count": 39,
     "metadata": {},
     "output_type": "execute_result"
    }
   ],
   "source": [
    "rightwardCommutation = Forall((l, m, n),Forall((AA,B,CC,DD), Equals(Or(iterA1l, B, iterC1m, iterD1n), Or(iterA1l, iterC1m, B, iterD1n)), \n",
    "                                               domains = [Exp(Booleans, l), Booleans, Exp(Booleans,m), Exp(Booleans, n)]), \n",
    "                              domain = Naturals)"
   ]
  },
  {
   "cell_type": "code",
   "execution_count": 40,
   "metadata": {},
   "outputs": [
    {
     "data": {
      "text/html": [
       "<strong id=\"commute\"><a class=\"ProveItLink\" href=\"_proofs_/commute.ipynb\">commute</a>:</strong> <a class=\"ProveItLink\" href=\"__pv_it/2bb882fddf40241ae83baff6783155dfd52b1ad30/expr.ipynb\"><img src=\"data:image/png;base64,iVBORw0KGgoAAAANSUhEUgAAALMAAAAXBAMAAACyt2M4AAAAMFBMVEX///8QEBC6urrMzMxUVFRm\n",
       "ZmZERETc3NwyMjKqqqp2dnaIiIiYmJgiIiLu7u4AAAAU9Wx4AAAAAXRSTlMAQObYZgAAAuFJREFU\n",
       "SMe1VU1IVFEU/py/18x785QWURtx0aJF5QRiixYOOZjQwlk4BYE0EmmLaN5CkhbSbEoCydnYWoLI\n",
       "CMKoTczCKST6ITTITUWMUO0kcfwrTTvnzL3Ta8QBR7pwzzvvnjnfu+c7370D/L+RrzbRM14p+oLm\n",
       "NDtvq4Buojm5GYtdaiiPeAnTHwEe8MvtKqAlZx+BLNBT4L0qsmeeTBq4Sg8juXNkk/nwrtFcJKeV\n",
       "l7Iq9G6DzBv6BJHtz+wcuoabZK4A1i9ymnnpSzFijNAqZilyv79/oAo+DrEJ1AHheubAAYJxVY/J\n",
       "FAVou8s9PR+rgD7HpjYK4yZvn2EZnsfR4DrZUFxo6pWlQbF3lhJtERGXBtEpCKYSnRf06hCbltPZ\n",
       "rhwUGc3FgN3AHUCQ+ngQdpqXrAWJWHUw66RYDTJVUtdz4LH297KZcGB/gGrhSaV3GEv8YK5gyoe/\n",
       "rUvEH4VnxQ1tn8+B1UCzE2jUJchGuhlessNqg6T3WGyZxUMKNHNhOZGPZiQSHod/2g0dmovjGfU9\n",
       "CnwCuuCGZt1NjcqOMqEiMyzx/QraTjeJ3sd7JPIjgleOG/pEIMm+j2ovwBrU0Ac4hwvtEOUa6bBq\n",
       "CM33ihD0Ckk+taHG7NMrcENHqQizAX3067VsW+nKuaxkbawW31vVZXGN5jD3jPkZkfpfY0JCY9St\n",
       "vAvaypjzsJM4RdSkYdVr6HtK1sfUJdFcPDDCeCpfFB9quEn2TCIliBeJk4wLei5xhs7tXaY6EIf9\n",
       "U0MfIX5Ti7H2IS1ROTBG96qDl5s36J11ZTGk30GLyJlyGyMu6LPwFoDvFEdtBp5C6aA7Zddd2e08\n",
       "W/IOU2bOGISxAWPGxbWH+k7NCk2Sfz2PgbhOsEYrn9aH2vm6DKPjM3V8bCnRnvkLbXck0fc7x+JA\n",
       "aDjReavsUt12aJWXhuXyA/9EnC3JfRWhfeUJx7eF3jqMin9gT8oXcjuA3sXw7RbgD2BesQVTE/sa\n",
       "AAAAAElFTkSuQmCC\n",
       "\" style=\"display:inline;vertical-align:middle;\" /></a><br>"
      ],
      "text/plain": [
       "commute: forall_{A, B | A or B} (B or A)"
      ]
     },
     "execution_count": 40,
     "metadata": {},
     "output_type": "execute_result"
    }
   ],
   "source": [
    "commute = Forall((A, B), Or(B, A), conditions=[Or(A, B)])"
   ]
  },
  {
   "cell_type": "code",
   "execution_count": 41,
   "metadata": {},
   "outputs": [
    {
     "data": {
      "text/html": [
       "<strong id=\"rightwardCommute\"><a class=\"ProveItLink\" href=\"_proofs_/rightwardCommute.ipynb\">rightwardCommute</a>:</strong> <a class=\"ProveItLink\" href=\"__pv_it/d7f2940795f7950b1cd970f58abd043c647128bc0/expr.ipynb\"><img src=\"data:image/png;base64,iVBORw0KGgoAAAANSUhEUgAAA98AAAAZBAMAAADahIC3AAAAMFBMVEX///8QEBC6urrMzMxUVFRm\n",
       "ZmZERETc3NwyMjKqqqp2dnaIiIiYmJgiIiLu7u4AAAAU9Wx4AAAAAXRSTlMAQObYZgAACctJREFU\n",
       "aN7tWn2IXFcVP/Ox8z1vdk1J/Gpmg0r/KDFT1CitdIZsaIVid2oTQ4yxU6UbRcLOH6G7uE13FdpS\n",
       "CZ0RCQil7iqJJVDZjWJoScpOSRMlaneLTYOVzbwgJEHT/U42u+nmec+5975338yd7RtRaLe5sG/u\n",
       "5+/cd373nHvufQvgPe2dKMKt9GFOGyeGmuk+fktjH/YUzoHZDOHGalPAnfwnW25uWGBRV+vfbd1W\n",
       "fL0JmM9VZ+5P5Lz27rZYui3jHT6EA2Y6RCnRzgkns/2zR8KTNHJk1fAdENquDjU3Lrmk47t6oHhl\n",
       "7Y0mHOz1PxqvdWu1+bq1dev32911Runm5KXRJvDhsjU52WdJAQ9zwo9g/jmPhMfQEiLmqiFcvErM\n",
       "csyMtByoZ5Oe0ryG5zXdh9HsN815xolZTJt+K6OVsRagZbamzhoAiFrt2hmB7gVS19ljcFa+LCf8\n",
       "cfwpeCScOj6+ejz6ceHRLSc86VDqlRREzcaFsQSs5fruMaIiMu0ZZ5iYKGnbAsyQA/M1dRb6oXRB\n",
       "NyMlKYKz6Ih816RPHyLCcZG3lD0STq5g5+ohfD3/+ak1bVdtxsf5euePek4K3xYZtuq7D17FZ0vB\n",
       "K07UymPFN7Uy4guMoKWaOvQIUGrVzUhJiuBR9DmRGbkltBLhiRd7evZ7jtLP9PT0rJ5g3T9AP/Hx\n",
       "9E3Hy7OjZzRf3/cZ9ndQ5F/1WWZd9/QCYZW94vgsOuS+opURYuQk19fUkdDqtG5G6jblCO7G10ra\n",
       "i/MHRDhc6+p6xzPhqa6uvUOrhvAW/ir9mdKsXYe6imjuGw4KFeMOOBexd1K7e9Ry74vvizN4bQUZ\n",
       "qRyEnzZr6mgfsVo1M2ogmHaqlLRwOMwJZz5/j2fC2cYRWj23L5EK/TwGj7znVJ4XXrE2MDe5E0VT\n",
       "y7dYldruQafKG07neyvIyD5wfHeltu4qbeQFzYz0ggO0aWTthfULTvhnwRgAo9P0RLg/B5e5N+Qn\n",
       "0Wj39m3f4yHBo7fv+QNmHrLa0u8oAaPTuZFjVVsdQBVTm063vd3n9pmKaJ09p2fall3uyUcTTLTC\n",
       "6FWw6WHxzhbNaBYeBcX7vMa207xUmewescNtjziluRVkjBbBeKumbmyRNvIRKUCZUW0kygUnaNN3\n",
       "DnIbOOFJiLO1tLHRSfWpb8DR7zg3beNwgutqSb48HCXW2t6ADbRmEyy4HOObo1x/vqWVCHe3SkAX\n",
       "pi5t+LTpT7utShGtS2MsYrmuVqRIX1Nl2MSs4EtfF4aDBqBd7pdF8LPIDlMFqTLZPcm39Ts841Qp\n",
       "bvAXtTIeRaYq7rrOBVpXphTgtNT4CSk4SFFCyY5PspzweAVDvcO6of/e/m04HTNjpkP4CREAPiQc\n",
       "xTZ29ETYwfM8tGRiGEXBRRfhsnNc/LkLonWE/xEgzzuYmoHRZZMMQcVSRAs0UAudTIOd5TrCO9va\n",
       "6Jj1gnAE5VhFp4yd8JI4D820pXF3POzqHuGx0TrPOCWKvnxFrQw8kY0NuevSuHv3L9kCnJYaTyYF\n",
       "+3D3DltDNYQbA19khQM67/PdJyfhLyN5lfDL/HLK/3cRCvwDYDeuenRoAYonksxVxa+qhNudMYTd\n",
       "Z6OLgmx9hU+HACmvYGoGTqFHvMuNpYgWaKAWqgxvVN0EfMh+dM3kZL/lEB4eSGr9Q6/8lvCzeycv\n",
       "4TnugKt7nFx6LOcZZ5Rc+iFtWwD9mlibsi5Mt0OlcYfwXv3XDVtwPy6byDLUuHTYgx4fDSmx685D\n",
       "8WMZkQM4hb1O/rxPJTy0j6wieQf3YMYcJDBSbEFXadAuNsV0EXMRLjtTxf22fFGQrSFmO0UBSHkF\n",
       "UzPwEXRb/3RjKaI5mrxU5tDI6rBKeAgt4UIZ/XHR0WMHv2im7wam/YDgV7nHMD6B/niBq0zpTjci\n",
       "L4NnnAvo2OIDitadNvRrYbH7yLoERoVB9GtSgGwxXVJswTBGy+a8YBPgT4Lwg+PCkK5sqiRzdJmP\n",
       "uQzQTnAyduVuhfDobhHh84OJ/8bx+7DV51zxDrIXD91QCeedH2S53ylmJwvU+pUKxNvRSDkg5SWm\n",
       "fmDadcfE24XoIJsRR5MOgApR1LDr6jrG2A/fR0fcsqPHzXzTmmKva6B5GNxGAnu5GvbhW3UvCt9j\n",
       "d4f9138Z/msePOOEq8+aT5xVte604TH8LnHfLeuCVsboqz6oCBAthGtLUWbUOQeXXp03BZv2sQx8\n",
       "TAdxfIsnX4ZUBpVAuWKAnP9JGDqkEA6fIlHroUSai7EVivcDqVm5ymCYDUvNKYTzznez3Q0uKmYn\n",
       "Crw1lAGjgEbKASkvMBsMpAVnurG46MCvWJajyTsmDo3BoaVePvvZG1nWTaZLi9VLPUa4E7jAZm+s\n",
       "BfFg6Sm+71vMIXVa1ly84OrOTg3p5R2g8LEyDp5BrLNFVet2W0v3/Nav2ZusLdeylh9WBYgWwrWl\n",
       "OIJxgHU2I9hkFT8RhCeY2kJE3wNsU4yUeW4DBN7u6vohI/yJd1XC3yAnzeKcHD+SYtAqGPbxYKSd\n",
       "m5pNuOh8DtdH+z7FvqjAW3Hor3E2AhDzElM/kJhrdWMJ0cmiRJOJCpFZYeVOWqcWbMNpcEK9110M\n",
       "jTTo3iSOovX6Nm3dCw1bGghGNu2rVRG+fAGfa+AY9Pt5brvfyHEL99+jEg4i1BijUqoM/jkRmjNc\n",
       "WlgmGG8WFcJF53NkajtAsbsddit+kLnYUrQBMS8x9QMx5A6OJHae2HKqLNuFaCKc0GwHQNDsfPLu\n",
       "Ojj1vPPJ+oxWj94SV5kmNYmjaN1jalYAscmMYkQhfCoOvcXwNNPv6RjPrfkM94knmVpqCWduGLLT\n",
       "rB/0m7A/zzJGugyb8xB+BgJsI9l4DhzCRWfiDV5iAnvN8HPswQuiFTUfQyI4IOUFZoOBF9gu+hhE\n",
       "j8HH/HnRLkUT4YhA3dmDQ2fHwT9RhOcLPueqzfzv9TgV/9/wIbX+/yOcs0mHdpvw4BHIVvwF+Bts\n",
       "fpHnvlWBi8xD+p9uhyDUEF6dh0R6ppytxErbtz3LVFmBf1Vv76DjxI+tiTcPgEK46Mx5m2KOOFsM\n",
       "LLAHL4jWLTziBwFIeYHZYKDx25m32E+HMU4f6bFKiibCEYG6swcVIunliY+jW8j0OqpQ3P6PSrua\n",
       "UmPwiL6+WRypdc+pWQHA2ST7VV8YKnW537A93H216k6VukzC1e666SXewq6Vp9z/IoJ6B1H0OHA8\n",
       "mk8matqJcBeaWkjCic/bhT74yKR4pobwQLE+V3eX7g4OinUDvtyQ8Hs+udJH912Nv8isONAoxMqh\n",
       "39dM6+iRlV78IpypwEc1qYQnQG+mjQlP1A+oNLbwW+kDRvj7p4lm/y89d0vDH6y0cSL3HyeSyR/M\n",
       "G+RlAAAAAElFTkSuQmCC\n",
       "\" style=\"display:inline;vertical-align:middle;\" /></a><br>"
      ],
      "text/plain": [
       "rightwardCommute: forall_{l, m, n in Naturals} [forall_{A, B, C, D | A_1 or  ...  or A_l or B or C_1 or  ...  or C_m or D_1 or  ...  or D_n} (A_1 or  ...  or A_l or C_1 or  ...  or C_m or B or D_1 or  ...  or D_n)]"
      ]
     },
     "execution_count": 41,
     "metadata": {},
     "output_type": "execute_result"
    }
   ],
   "source": [
    "rightwardCommute = Forall((l, m, n), Forall((AA,B,CC,DD), Or(iterA1l, iterC1m, B, iterD1n),\n",
    "                                            conditions=[Or(iterA1l, B, iterC1m, iterD1n)]), \n",
    "                              domain = Naturals)"
   ]
  },
  {
   "cell_type": "code",
   "execution_count": 42,
   "metadata": {},
   "outputs": [
    {
     "data": {
      "text/html": [
       "<strong id=\"leftwardCommute\"><a class=\"ProveItLink\" href=\"_proofs_/leftwardCommute.ipynb\">leftwardCommute</a>:</strong> <a class=\"ProveItLink\" href=\"__pv_it/e2a353d1caba02427b0da4f5761ef96fd69604ba0/expr.ipynb\"><img src=\"data:image/png;base64,iVBORw0KGgoAAAANSUhEUgAAA+EAAAAZBAMAAACsvjI8AAAAMFBMVEX///8QEBC6urrMzMxUVFRm\n",
       "ZmZERETc3NwyMjKqqqp2dnaIiIiYmJgiIiLu7u4AAAAU9Wx4AAAAAXRSTlMAQObYZgAACb5JREFU\n",
       "aN7tWn1sW1cVP/Fz/O3nhEC7janOBIM/phJPQEErYGtVAYFYDKygdrB6fGSCUsV/jCaiMAeksoHY\n",
       "bGkqQpqmemOfaFqzgTpgRfHoOqGCiMfHEB9pXAnaSOncJE0/ljZ9nHO/3n3Pz46NhrRlvVKe7zv3\n",
       "3HPuO797Pt59AWi/7ZzKw+X2hm7rp8qdsFcvW+wN34IZqHWCuLnaDHAd/0mXOpzX7oRhC9tbU23L\n",
       "DRD//KbXRphLWqyfI84c9/dtIh5nM8dXDeBGhv9Olzuc6Dlh9itbKt90ksziuvqJ4dPtC56Zr9d3\n",
       "Wd6omsVL9RMTFzpY5oxVr++2JF6f5Yg/Qf1720Q8Qls7VFs1iItHiVgZRepnO6GB08euEgl7gkaP\n",
       "XA1w7dUuEVYOoHCmtWydnjiLqFhZb8XWGEDY6u9A2nm87FuQT8sR30U/uTYRZ4y7Vk9Qf07EaMsu\n",
       "UTZpdK35yeZR6S32BJtu3oPbJ3LOKcIgBysstpat09MXCPGMp2LDosiSzHUgbQkvXWdlWC8zxGmb\n",
       "d5faRJwFg62rB/F1/OeH1pwibaDL0cb4T3aOy+hmT7DpIRLm63GKiFKAnrzYWrZOn8AMELMqnoqj\n",
       "FuFU7OlA2qu0sHmZFXoY4rHHRka+03atfmRkZGT1lOy+MQ5LNXnJDvT4BhrONvLehX97RV+foOjb\n",
       "CY5g1ikiYFHSH1tBtkYfxq0UP++tOGAR8NNzHUijZcYtOfI1hjicHRr6R9uIJ4aGdpZXDeLd/FEK\n",
       "qeKCopGtQh7nDnuF8d0TJD3IYDJTThGUSD+4uJJsjY6p2ihmvBUnlhlHTwfSyDsT0sfhEY44hv3b\n",
       "20Ycs0pg9RzDhHj0/Cpsv2gTj4q46GoYWA2ZQfUJkt7tKSI9f/c986WVZNt0w7ri7ukrmyhOn2Ec\n",
       "uQ6kkaunZR6Hn3DE3wnmGJiDtbYQ92VghgfEV3nRmpzvXeb1zC+2PPUsPTlRylqZaTM3aQN6FfGg\n",
       "1Zv8ZzNOTZvdopu3zYpNqOn28uiG0S5W1sZ6YOIMKOthzXOjx2wsnvyiShYT/n1Jp8fPOQpCIWIS\n",
       "n/z4eZCYNZFt02OYqs3hMW/FJAyT+fgKK3VKw2Su3ueu4YjHIYpbfX2zN9Y9n4Gnb7XP3KpwkBtr\n",
       "STxSFkJsd3+4AgEWbyaxNuCJKKAsu9QK8aSOQgxNWaw0Y1XatAX+C+A2Na50e852jyaYJU+VYADd\n",
       "4P2fEj5FHuC532dET0zwVXV6gqVX0yViEHeFzyobN1dbylZ0P6XqgSVvxYO0qUJWbaWVatLIFYqq\n",
       "5khzxKMVqgQf8Zo6u+UL8GKkFqnZiB8UVeCnRajYXoEIOYgPa8ww28iDiNdgyYG4ZB4Xf46bbv66\n",
       "EeV/FBz3ZzWCg1lq02gDmDl/LMdt3V6q7FEH4oO9vRZlyAdEKChFPHfcVnhS9MSESFandzHE73OJ\n",
       "SFJcxJetcLWlbEXvooUMLHorTpJHFZZWXKktjTJ40Cq7EDfH3oc3P/IKZF+6sw5/GM/qiM/wYyrf\n",
       "30U5MJ2HEAWbYyjWYCaeRggmsjriivlXXKPzZv0+FhqiCMUdPDgWSxrBwSy12TTzKuxtVONKt5cq\n",
       "e1TGHlIU7qvXC5aNeHAs7hkhRuV3BTlBVAGC7meelHWKYGcpEYzDAvFmshWdHdbsv+CpmL+mF6sr\n",
       "rtSWRlsntAyuqA63U9CngBG75bqHowdSogdwmLgO3bdbRzxwB/OL+LstTsQn3057aD+FNCKZZLz9\n",
       "DsQVMxL8qu6TN38q8KiDnv4xFhy7RVDjBAez1GbTIuRadTHu1O1WpY1KOmF2rEQvMHllR9jEz5xN\n",
       "deGL939IxAw5IZHX6QbBJC0lRPBEWkCTC8TVQM0pW9EpVQexwj78zK8zz30ZHIrZa7p/udaw0ubS\n",
       "KAMOHhVwAvxOIL4XV2OQn50cqMQzsYzopYAlg0ORkzdoiIe/KOp8ftjnmx+6jZWWL6t3A4rgw+M6\n",
       "4pz5JnTbfttr5U0km1gAA0PMM2w1A2uGekuMWRB0ZqXNpsVz2rjU7a1KW5msBBH+4EfZm27JtuMG\n",
       "nrdOVcXF5E5i7ORmUBOuBwd9sgS+zztFsER6Mvk3G3ExwERqstUETNXm88t587cX4S/wglOB30qZ\n",
       "u6dvgoaVNpd2Gk78ZrEm4FRvZ9CFRoiS4e78JSRSLDtRL28wbzoE5Yc1xOHtbBHroMhMF10SXqeK\n",
       "jQj1+KcAgThnvmEtrihne628ub4WQu/A7XycOeVEmXycmAVBZ1babFqirI0L3U1UaSuT6QafyLIu\n",
       "oS0tpEs7hngYOJYTF3MNp+8RJ+VywgFw0I2Pb1ankUJEgn27+gbYiIsBJlKXLejEb62pQHB2DE6r\n",
       "2mqPLWyZvoa4V9pS2l9TAk4kfE8gHkNAAwy/T+K+DZV47xowXh4a2oGIf/sVHfE/sjiNtQvzv8AC\n",
       "uiUFVkqns0zbgvAmhbhgxp0ODwW1wwV+81JvErMNhphIPznlcD9WOpyZE3Rmpc2mdSHi5rgYl7q9\n",
       "VWkrk22tfiPtaDR5Uf2I635HE7qXCIl4M9luun8co+4PmilYaaUNdIJTnbKKGua9dO2DA1Dw8d4W\n",
       "n5nhPu7bqCPOGmaFyaqsUCco+n8O/55iWxGz8itrdcQFM8FwvFs7vmE3EXxjWmZfaMwcxcQkevJ5\n",
       "zswJOjPXFtt68MbDJUHrzvHsycalbm9VYvTw/S8o+hEvO7bb+jr4Uh3u8Gi6KxXNBef6m4x2ulIG\n",
       "J9ppXEP8VBRG88E53AwvRniv7x08LB5Cu7gRxzgN6Tnkg8IYhOdTwbuonImkiJKugk/8d1RAZ+Zu\n",
       "i8YO3gujNbywGwzqYFjsqw48meFnlfv6ODMjMNbRGmfm2sIH4C2+rJBmYl7/qegr3d6qxOj9uS73\n",
       "19L/yY7m3Pj/D/ECenksV36NEOdwstd6hbj/CUhXfDn4M2x4jPe2VeA47jHf9/vBDy7Epxchlpwv\n",
       "pSuh5PJU761gXATz5m3o4pxyRQU0xAUzd1t8azfOQTqPF3YTx3j/vHUlO1Q6hT7zXWvqpbfVBOJE\n",
       "YKzpPGMW2mCTWWUf6okG/9n8s5roK92equSoPzVqm0KL/N8q3tKZHT/R/j/OBB8/09m/kbwL4inj\n",
       "603OszteKYeTebD+xFBp6D06tMN1yupsakasUYZ+AsMaA9HxDPZN/CQtxs0c9GaGajgbj7ml5dtU\n",
       "BXE4+B51sxvePC2aciFu5Bt7DefqzgJB8X3Ac6YD8Y1XtXCJ7med9y2ZzVykFPh5i0drORtfAY5U\n",
       "4E3bdMRjHr3WiMcanN05MwCX2+sZ8ZXbVIf/r+6/bODXW1s/lfkvwL7rls3m6WsAAAAASUVORK5C\n",
       "YII=\n",
       "\" style=\"display:inline;vertical-align:middle;\" /></a><br>"
      ],
      "text/plain": [
       "leftwardCommute: forall_{l, m, n in Naturals} [forall_{A, B, C, D | A_1 or  ...  or A_l or B_1 or  ...  or B_m or C or D_1 or  ...  or D_n} (A_1 or  ...  or A_l or C or B_1 or  ...  or B_m or D_1 or  ...  or D_n)]"
      ]
     },
     "execution_count": 42,
     "metadata": {},
     "output_type": "execute_result"
    }
   ],
   "source": [
    "leftwardCommute = Forall((l, m, n), Forall((AA,BB,C,DD), Or(iterA1l, C, iterB1m,iterD1n),\n",
    "                                            conditions=[Or(iterA1l, iterB1m, C, iterD1n)]), \n",
    "                              domain = Naturals)"
   ]
  },
  {
   "cell_type": "code",
   "execution_count": 43,
   "metadata": {},
   "outputs": [
    {
     "data": {
      "text/html": [
       "<strong id=\"association\"><a class=\"ProveItLink\" href=\"_proofs_/association.ipynb\">association</a>:</strong> <a class=\"ProveItLink\" href=\"__pv_it/756fd0ae527b705ef668873dadd69e34ac03f9700/expr.ipynb\"><img src=\"data:image/png;base64,iVBORw0KGgoAAAANSUhEUgAABMYAAAAaBAMAAACukE24AAAAMFBMVEX///8QEBC6urrMzMxUVFRm\n",
       "ZmZERETc3NwyMjKqqqp2dnaIiIiYmJgiIiLu7u4AAAAU9Wx4AAAAAXRSTlMAQObYZgAACm1JREFU\n",
       "aN7tW2tsHNUVPvuy9zE7xoDSoirYtBCoUJptoREqVbwCVVFVIS+PFIVA2LSSI7WJvD+sOOLl/eM2\n",
       "RCneqs2vNI1VJZAoqN4SEdGSis3DKXJbYqnQqghn138gaozxxiHOw2Z6z713Zu7M3Nmdsdd/2r3S\n",
       "3Yzv3PPt+Q7fnHvunQXAe9s+kYNmazZfLTjxoZ/p482INZv/1gcVPxpTl1nzRdZJC13zaSszaNFI\n",
       "qz7sHaS2QfAZ7dbcGR90hPmn5GwbxZSC9aL3t6YWzfbUkhnDXeXqeiVtoJ1iGqPJ6a8eNZbEf5Ti\n",
       "cmnsft5JS173aSs1uFCdnt6heY96TYNgeU9uasUN7xIT50dSUrYNY4pg6tDt05/0zi6arcNHv4xh\n",
       "9dW/qCd7iwYaReyDI/j3Kx41Fi+Qf6KV5dLYK6YrI5dNpvTT+d+okz7U+l+mgTDedgWgVctIDaRA\n",
       "VgPrvRHMH2tma4MJzlrn56VsvTG1jkuZUjAtCzDwufew2dnmazKozziuEX0EddHmee+DHeSzNetR\n",
       "Y3TijuWSWKLIOlLRFozhcAqMcbHRJP+2voCYBsJ41w0MYlpmIAeyGljuxTUMcnSmNpjprG3+mIyt\n",
       "R6aWcSlTejOkkc+By97DZmc7VpNBXcYwcgk/hwS0MaoxzEqRgteaHx+XjculsUCFdSQ2opn1Bwo7\n",
       "6Uyea/HjPP9DMBDG3yHPoKKVZAZyIKuB5d4BmiAi2dpgprO2+ZMyth6ZWsalTClYAjPIuXnvYbOz\n",
       "nazJoC7jGEuJPxTQJqnGlNf6+1/0vK8c6+/vX7bt5T28k/bngGZG5+ek73VOj+YILT3RCwbCeC95\n",
       "BpNXpQZyIKuB5V7HHE0YhTpghrO2+S0FCVuPTC3jUqb3sBqefJTz3sNmZ8t8dGNQl3FAo2dbfxTQ\n",
       "sPcBXOnp+dCzxtp6erYPL5fGnuKdJPDZKM3TrO3lRGwN+Ub5iZ1oIIxreQgNpWUGLkBWA/FeTMu6\n",
       "frvYdGft8+MZCVuPTMVxOVMK1kbk8sBlH2Gzs2U+ujGoxxgOXHEwxt5Hl9mtnjVGFt8WXwexD5S8\n",
       "z93DO5F/JiKkcJKIQ7KK8TzP33YDYzykfXlX+TapgRzIbiDcC2sl12+37Pq4s/b5McwvkV20pcEn\n",
       "U2FczpSCdVV3/aJa8B42B1vqoyuDeoyhe97BGDvR2J2g5kHtrnjSWDANF/BhqnEcELOewfg4OLiZ\n",
       "d4CTpLbIgB4iUlCGOyXzSf35EL9kBpyFMa6QfY7amzdCIxjIgQwD572oscevDaY7G7WdgARvkrD1\n",
       "ylQYlzOlYOfINvDjq97D5mDLfHQy8MYYhmYdjLETjSUhQfS62u3Ab/Ax+MNmQ2OknyCfz1EMdhYY\n",
       "76i2L7Dti7Jl5dY3Q5a1NOAj513iHdRrZAechdAT4/oXX5AeFOHTAYIBZ2GMh7FyWXMdvv2I3cAF\n",
       "SDeQ3EuyKujuumDcWWO+HsgZCVuvTM1xF6YUrPsLPDkY9hw2B1vuo52BR8ZQ/oLKIiegYScaS5Rw\n",
       "U3BIZnxxw9NwNl6JV0yNnaA7C/qgBLh35zIQpVky2P4e3DEPv2PDyu7dgyXzoOPdw4efBmXjiYdG\n",
       "9WzOJozuO+PQWLja3qGRb4vxYG2E12XuRQpxns11g0PW8QDu8teQCmW/3cAFyDBw3ouy3dyX6oJx\n",
       "Z835tTTmkak57sKUgnXgQqOlPYfNwZb76GDgjTEMUfOARGNq/n6jOrAlwR+9NA1/K2ZEjV0IkWIi\n",
       "RtPWo7zEe7YEcbrLPUDkl5ijokZ1FocvftU8FkrE1Tc6Y8fh5qBR/NIJ+7JGqruNd/jluulPtBkz\n",
       "8jvlr0pb80l+pRvssY7T88iRG0aQTAMXIMPAeY8eDEA8XReMO2vOF9ahyARtWfDJ1Bx3YYpg9DQ1\n",
       "rhU9h83Blq/nDgbeGNOjEICDkrUStuIii9tUZdO9BxPHU/wKYBRnnv7V86LGWvrI0kvL/uC/q2y4\n",
       "nIMoLpsq+hS6CfcFVJ3F4fgULuBBkrhOE43B70vwsDqO7wq+Tr4ixSaEUzt1p7bxrmLEynNm5MPf\n",
       "ZWsxfV1a0S/IdoW/AzMM5qzjWKC04lO/H6w3KiKYxGD0jT+l3/6x5Z7agcp4CxxgJk5FdNaYj1gY\n",
       "Uvsy44upMe7CdBsvr2BgwQlm4Kh12HIf7QzqhU//nklMOok8Vw9FU1jND3vHqTQAptaUkmn6RhOv\n",
       "UuzVwun41HcEjcWe0Yus5N38nIak1GexBovgSYuawhpwlKWpezfD+RLmUiVDNBZ8swLjsUxSoYe+\n",
       "o3xCEk58g1M4xHsfcuu9ZgYrtJ1902fkb3WBX2Atyk8EdYMQr6v18e45UE8u5Mwg8RsGhrogNVBP\n",
       "zcP7cMZ678Wrv239ewYcYAYOB9Od5fMR6x+yswtfTPVxN6aHaHmVg6mOfznATBxb2BxsuY82BnXD\n",
       "p89vLb9ceeEDXT3i2QUE8BUO+v7SW9CWot+DVzlWvJ+G4YOCxuAreCDBaLFzmmC1ZwvN+wGedcne\n",
       "k6qzuGFlCTblUFFEUInIox+Bmo0XWo7hEk5UxyZ8DGP6Ir+a9TaNiLdb02aNYMEgPzkmXqor+AVW\n",
       "DCwmhkGCb9X5OP6sQFtREoLEbxgY9MJp0HoxD7N6iRrVxXG2Y+FJcIIZODrYoGU+YmHSidq3eL6Y\n",
       "8nE3phxM06qY0GxgJo41bE62uo+DtRk7wqfPV7ZoH+S4ehgadtSYQiTUQrPdD+CbEC2wqzsg9M+e\n",
       "np8Sjb3wqaix9wCPO4h4b4chapS4zvNY2yWWQkN5ps7icORBZvhEBusxeNx8eRb5nmUC34PmhIoR\n",
       "xGCtc9n02g5cWorycSNIoYo3oHCRJIqXFwm2zo5FyxznuyQ/TO3jdqZLCpvBdtLFzidjqh7xXRL3\n",
       "8T78vAWOw0CQXW0IqmmWx4IPihrD9mtcKtvb2dvUFiKtNbijaJtlyyjRGFUnKbfi/PVHiWps2DzV\n",
       "SHxENaZP4I/BMOvOYHl94Xmfy439ft+cphLZ1pnOhoAFUpEMQTpqH28o06WB6WyPNih8qB6GdlTQ\n",
       "2GcJ2JlrnSEKPBtnV7d8DdYzjcGYXWOr2PbhHB0IEH29g4tjeJ5KGIJZpk5DQkrm+3aNjYYLTo2J\n",
       "v+1ZVLAIi8YEaYA820p2uCFgAxD4Vkp2stRQpksB09nKT7/8M2bqQTSKqGssfAS6SsEsqU7Xvsau\n",
       "niKlEpF28GedEAabxj6lSyV0zRA5wkAeYtUUuVI7CrA2Q5+p9XytfJ4JCmt8orEnjbWSVGMbhQl6\n",
       "6xM8Ql8Pf+7v55DhI/Lx54Y2+YvSKkimQj/JNQRsFUReJ645wRrKdClgOttwrjHhY+pBNIoouAYl\n",
       "x9WrZMWzvksy3lCVL4PSUS10laIdCxPtm4ngSvCf8kr8jVGkk6pT2b27hwLhgdjj8O7hV7cZSHfh\n",
       "TySNCWZ0iqz/D7Zjkse9kUwbAXas4YyP2eQfyjmvHO8reTVVqCFMiDrV2Wz/x03QmCK5ctGYmq0l\n",
       "zH3NsDabXGP124Tx/1f+ppYw082wNptZnE28vzhDpcYvduKVZmCbTWz/BUGQ6E43mJ6RAAAAAElF\n",
       "TkSuQmCC\n",
       "\" style=\"display:inline;vertical-align:middle;\" /></a><br>"
      ],
      "text/plain": [
       "association: forall_{l, m, n in Naturals} [forall_{(A, B, C) in BOOLEANS^{l} * BOOLEANS^{m} * BOOLEANS^{n}} ((A_1 or  ...  or A_l or B_1 or  ...  or B_m or C_1 or  ...  or C_n) = (A_1 or  ...  or A_l or (B_1 or  ...  or B_m) or C_1 or  ...  or C_n))]"
      ]
     },
     "execution_count": 43,
     "metadata": {},
     "output_type": "execute_result"
    }
   ],
   "source": [
    "association = Forall((l,m,n), Forall((AA,BB,CC), Equals(Or(iterA1l, iterB1m, iterC1n), \n",
    "                                                        Or(iterA1l, Or(iterB1m), iterC1n)),\n",
    "                                     domains = [Exp(Booleans,l), Exp(Booleans,m), Exp(Booleans,n)]),\n",
    "                     domain=Naturals)"
   ]
  },
  {
   "cell_type": "code",
   "execution_count": 44,
   "metadata": {},
   "outputs": [
    {
     "data": {
      "text/html": [
       "<strong id=\"disassociation\"><a class=\"ProveItLink\" href=\"_proofs_/disassociation.ipynb\">disassociation</a>:</strong> <a class=\"ProveItLink\" href=\"__pv_it/2516529a3f202afa1e8d9fbd1fa94835df3ed1220/expr.ipynb\"><img src=\"data:image/png;base64,iVBORw0KGgoAAAANSUhEUgAABMYAAAAaBAMAAACukE24AAAAMFBMVEX///8QEBC6urrMzMxUVFRm\n",
       "ZmZERETc3NwyMjKqqqp2dnaIiIiYmJgiIiLu7u4AAAAU9Wx4AAAAAXRSTlMAQObYZgAACrhJREFU\n",
       "aN7tW2tsVMcVPvvyvu5e4xBBowrWaZukFaLeKimKmipeJWpRVVXeNKEpIcDSqkZqg7w/LIxCEu+P\n",
       "0hKLxlu1/KIUq4IElKreBgWlDRXLwzRy22CpSapGMV7+JKg4xosB87C5nTOPe+e+1nfttVSpO9Is\n",
       "13PnfHu+c787c2ZmAfBeto3moFEapabiH/2wlu4jjYg1Su2lG8q1aExdZM0XWSUlcLNGW0eDVQBN\n",
       "GimVx70DWQ1O2d3cqN2dO1ODb/eNVdYqaRc06iWW9kIdGHeh93en5s22vkxPMY3RwelvHjWWwH+U\n",
       "4mJp7CFeSUncqtHWySCAbC9WJia2a96jbjUIWU39Y3ty48tuewdcfeOv6smuojMa95KUsYGFMwa1\n",
       "f+XEJ11T82ZbX6aUbTccwb9f8aixGL5qkfJiaewVw5XBqwZT+mmPQit9QOIvw8Bop542XwcIaxlH\n",
       "I0cwswFA3nJ/EMePtqnqgJLTMY1EzS8eY97WlcczpqVdqLlEwokxgJYF6L3mPXRWtrLNwpnmqca2\n",
       "k89w1qPGaMftiyWxeJFVpKLN6s3BFOjtcqED/NtiMDAMjHb60X4bg5h2MnIGMxsADJvvxzQMdmSy\n",
       "OqDk9OAV/OyX0UyFG7drI87UwDkSjoxJK7nde9V76KxsJZs6MB2mGsO3KFTwqDE6yqxfLI35yqwi\n",
       "sUHNmEtQ2An74LkGP86LwcAwMNpX4scJ8h4qWsnJyBnMbABwwXz/AB0kQtnqgIbTUTZIfE9GM5WV\n",
       "7J8+bdKZGjhHwpExxHEUOTfjPXRWtpJNHZheoBpTXuvpedHzunK4p6dn0ZaXX+SVlL/4NCMyPyd1\n",
       "r717JEdoiUFeMtDb/XRe6iKPLnHD0cgZzGxA0uKC6X5ymj7LwhyAutM+je74/ElGM801bPaMjyTv\n",
       "AHgFdWGMOTxmdnnvobOylWzqwBRrN8D1zs4PPWusubNz28BiaewZXsngPRWh4zQrezkRS0G+Eb5j\n",
       "Jxvo7SHqqZaHQH/aycgFzGxApoyMfD+qZV29kIvu9IHrpvaY9SkxL6E31X/FO6gLY/KAiFwevlpD\n",
       "6KxsDZt6MMXaTafZrZ41Ribfppo2Yh8uee+7h1ci/0xIGr7JQBxwyhjP8/HbaiDaIyWaoHxm99g9\n",
       "jkbOYFYDiObl+0Gt5OqFadUnnO6YMT8pivb93Vh+qnsJ8CPYPOMd1IUxSa8qu39RKXgPnY2tYVMP\n",
       "pliJxr4Aah7UjrInjfnTcBFfoipbAVHz/ksNmwZ38QpwkuQVGRDhIQllsNWhP8k/H+OXzICzEO0+\n",
       "NFLIWkftyuvhkYycwXQDfTJbIt+P6Ov86oC60/3mjQSGJmehtJeyBE5c8w7qwpikYmQp+PEN76Gz\n",
       "sTVs6sEUK9FYAuJEr6vdNvp2fRf+uEnXGKnHyefzFIPtAcaSlZZZtnRRtqzY+mbANJf6ahjzrvAK\n",
       "6k2yAs5C4KkR8cUXHTeI8O0AyYCzEO3NrfRtJE+h7RZ89TtWIxcwYWCEYFK+n2BZ0ANzAgqnx2ia\n",
       "5c+Z0KRCvYTLBWgjU41XUBfGZCy5g7sHA55DZ2Nr2NSDKVaisXgJFwWHnIwvrXsWzsbKsbKhseN0\n",
       "ZUFfEh/37FwGInSU9Le8C/fOwO9Ys9LXt6tkbHS8c/jws6CsP/7YkBjJWYehfWdsGgtWWpK4ko/y\n",
       "QK2H3zu5FyrE+GguDA6Z2unT8+EKv41kKPutRi5guoFZY+J+hK3mls8JKJzup+a+OTTW0dJC9yI8\n",
       "growJnk6TjZa2nPobGwNm3ow5RpT8w/peZBlEPzBSxPw92JG1thF3JWO0mHrCZ7ibS5BjK5yDxD5\n",
       "xaepqFGdxYFLnzO2g+Ix9Y3W6DG4y68nvbTDvqw+1N3DK/zy0YlPcCUvArXD+ag0nE/wK2Gwx9Tu\n",
       "QzXT/cjB23qgDCMXMN3APLuJ+3RzAGLpOQGF0yfoDHLQjLZxFMsHupfRpRMTvRp4BnVhzHZTY1rR\n",
       "c+hsbA2bejDlcyVsxUkWl6nKhlUH48dS/ApgCHue/tVOWWNN3eS1o2m//98VfgaSgwhOmyr6FFiC\n",
       "6wKqzuJAbBwncD8J4mmiMfhDCR5XR/Cs4EvkK1KsQzC1Qzj1HK8qCm1s2tBY8OtsLqbHpWVxQZYr\n",
       "/AxMN5g2tTeVeIISxjd+P5iNyjKg1C4Mht74c/rtH2Iw8vJ9NYmD+FtgAzSwyianL+CrGM/zmAo0\n",
       "KWNFLy8UcG7KuYOqlkg4M6bpFfTO2kOnY6hzsDVsXJlaQ1eFqcJyftg7QqUBMN5WSqTpiSZepdix\n",
       "x+nY+NckjUU3iiQr8QDfnyGv32bMwUK4y6KmMAccYsPUqk1wvoRjqZIhGvO/WYaRaCah0E3fId4h\n",
       "Ace/zCkc4rUbuXXdNAIV2Ma+6TL5W53lF5iL8h1BYRDg+TRvp9sEHdOgnpyVnh6/qeOos6Z2YaCe\n",
       "moH34Iyx2yDuv3jjt+F/ZMAGqGNxQOF0eOzl8gvvi5ja9y6wIfxNurVVcAfljAWoC2OSXuVgPPkv\n",
       "W+gMDEvobGylL3Fjag1dFaZ87wJ8eISDPr/0FjSnaAzwKseS99MwcFDSGHwWNySYItj+jL/SuYXO\n",
       "cD4+4pK1J1Vncd2KEmzIoaKIoOKhJz4CNRsrNB3FKZyojnX4GIbFJL+a1WaNiLdD06b0QMEuvnNM\n",
       "vFSX8QvMGNjz0g3ifJnO2/3EHH9WoC0rSYHiN3UcemG0C4PwpTxMUclHWuX7AGeTs0+DHVDHEoC7\n",
       "RN65RXs/x2Oqo0lTMfXyDpGHRiYCN1DOmIO6MW6mv6LAucASOgPDHDo7W9lzF6a20LkzxYoaU4iE\n",
       "muho9234CkQK7OpeCHzQ2fkTorEXPpU19i7gdgcR70rop0bxW3wca77ChtBAnqmzOBB6hBk+lcF8\n",
       "DJ40Ds5C3zB14GvQnJQxghyoR10WvZYNl6aiuX25fHO/i5EbWLBIBomXjdMfm91cgFanMaZOZ0nL\n",
       "FwBqZTzv0OlsnWzmz5SdJfHH+yB+LoVj0OtnV+v8apqNY/5HZI1h+TVOlWQhRDs0EWm14YqieYpN\n",
       "o0RjVJ0k3YrxY48S1diAsasR/4hqTHTgr8EAq/ZAeT3wfND897BToDyDpeLZ8CR5D1936VArIMbU\n",
       "CW0hXloZzz90gm19mb4uaexyHHbkwpNEgWdj7Grp52Et0xgMWzV2P1s+nKMNPqKvEzg5BmeohMGf\n",
       "ZerUJaRkvmXV2FCwYNeY/NueeQWKsDAfy5UXEKhe8m4r2QGXPaHaAVlMHdAW4qWV8bxDJ9jWlyll\n",
       "KzQWPALtJX8W/glrXmNXz5BUicja/7NWCIJFY5/SqRLaJ4kcoTcP0UqKXKnJAqzJ0KFoLZ8rdzJB\n",
       "YY5PNPa0PleSbGy91EGUbskj9PXwtdp+Dhk8YiErncM937+htkjdD4lU4Mc5CLqcndUKyGLqgLYQ\n",
       "L62M5x06wba+TClb6YlCyXb1KpnxzGdJ+gnV2FVQkpVCeymSnB1t2UQEV4L/jK3A3xiFWqk6lb6+\n",
       "TgqEG2JPwjuHX31OR7oPfyKpdzAiU2S1bmVnHTCOQj3L0UXy8n+vHBVsJY0FcvYr23klz6YKVYQJ\n",
       "Ebs6G+X/uEgaUxyuXDSmZqsJc18jrI3irLG5y6j+/yt/U02Y6UZYG8VIzkbfm5+hUuUXO7FyI7CN\n",
       "Ipf/AvmN4gkdUwZZAAAAAElFTkSuQmCC\n",
       "\" style=\"display:inline;vertical-align:middle;\" /></a><br>"
      ],
      "text/plain": [
       "disassociation: forall_{l, m, n in Naturals} [forall_{(A, B, C) in BOOLEANS^{l} * BOOLEANS^{m} * BOOLEANS^{n}} ((A_1 or  ...  or A_l or (B_1 or  ...  or B_m) or C_1 or  ...  or C_n) = (A_1 or  ...  or A_l or B_1 or  ...  or B_m or C_1 or  ...  or C_n))]"
      ]
     },
     "execution_count": 44,
     "metadata": {},
     "output_type": "execute_result"
    }
   ],
   "source": [
    "disassociation = Forall((l,m,n), Forall((AA,BB,CC), Equals(Or(iterA1l, Or(iterB1m), iterC1n),\n",
    "                                                           Or(iterA1l, iterB1m, iterC1n)),\n",
    "                                        domains = [Exp(Booleans,l), Exp(Booleans,m), Exp(Booleans,n)]),\n",
    "                     domain=Naturals)"
   ]
  },
  {
   "cell_type": "code",
   "execution_count": 45,
   "metadata": {},
   "outputs": [
    {
     "data": {
      "text/html": [
       "<strong id=\"associate\"><a class=\"ProveItLink\" href=\"_proofs_/associate.ipynb\">associate</a>:</strong> <a class=\"ProveItLink\" href=\"__pv_it/c535fa0948f00a9df7d7dcab46d4c7f73220d37f0/expr.ipynb\"><img src=\"data:image/png;base64,iVBORw0KGgoAAAANSUhEUgAAA5cAAAAZBAMAAABX6cfjAAAAMFBMVEX///8QEBC6urrMzMxUVFRm\n",
       "ZmZERETc3NwyMjKqqqp2dnaIiIiYmJgiIiLu7u4AAAAU9Wx4AAAAAXRSTlMAQObYZgAACPtJREFU\n",
       "aN7tWn2IXFcVPzOzu/P9dqerLVGb2UVFocSdYF2lle7SgAWL7mitklabqdIJJQ2ZP0J3MbW7CrUq\n",
       "mhmQQKGUbCWxBirdKkaLgZ0SEyVKM1XboLLuBCUGjdmdNmnTNJvnOffr3fvefbMzGmgXc2Hf3I/z\n",
       "O/e887v33I+3AJ2n7QsVuJrermnDwmw34o2rHns7p/g4NLsh01mzb3oD/xmrdYmzAaJzADtcTO8o\n",
       "dK7IB8gMBSTev9i6LTPeuUZNnmlDMtl0+22HZGYZcm7tcRkTTlqc7RJoA9yIf051/dl/7Hi1c0V+\n",
       "wB2BMHnh187zOzr3rSF/ByfzAOV3d0hmisZporn2yBQ2p1xv5LOpEQtOO/aUM8gDaPXMW24JYPq8\n",
       "FWRXZgDQIl97ykXfRt1Ce4We0aZ8gpP5IP2UOiSTCT64BqPsL0XQdL11f5NWr6Ueck9aThAP4NWz\n",
       "R8zF5/Q5K8iqzARgfJs12595hZ7VVRR6RpvypA3JpDHbW+uQTDYoN69BMtfzn++4y6pqlB5/DQZk\n",
       "Gq9ZGXw8gFcfoUea5sTxS1aQVZkJwLA7YLQn3SLVfn4VhcponzxpQzIzT01Ofq3j3eyxycnJNbip\n",
       "jc6wn3Qjf9mLc3jOShaDso/i3x6R1wGq/oP06HNpQZ2xgezKfACA+432iMuOfc+tolAZ7Ze/n5EJ\n",
       "r5XLf+6YzP5yefvs2iOzl9s8Xai+ourIJwnLwXmPcKUfoOrvokf/BYCPnbOC7Mp8AID9Rvve18Kt\n",
       "0JIy2i+/n5OJYXhrx2RiLO9bgzcHiTr7uQ+2eHGOotWoRRaDW0zuIXSAqv8uW0xb3/peq2YF2ZX5\n",
       "AACPGe0Tl8Kt0JM02i//GCfzfeDMgDPR7IjM6Dic5oHrDb7by7dyK3ydPpp7eVdR7bgojbRdio3W\n",
       "J91c/i9hklonXlLd2VLm3uu3/kwrR5hNmQGYPw+KQtxH3GrB4rajR7yCAPz9slF/DT2O4/ufugDS\n",
       "4xooRJkEqDRstFdf1VfLcIXS6KrvVDTMycxCGsfthrAD2iOfhWfv8W6AGnCIu+cirztehAQbJMPv\n",
       "aUbzbAKoAZVvG5CN1gz6rFoPE1WdaMar7mxLZO4FGNYB/cwvSzUYwej0kU+JwU+j2DpmT4ucAEQb\n",
       "Rj0LvBOX6WAwG/tcww8KUSYA2nWE0b7IBky0sppCabSU17QRmek67Zr225D/uvOLcDTVTDU9Mg+J\n",
       "DeBnRMzeUocUjfbkCgrNV3Qye/MiNyf+jIJoTfO/XnT9M8UwYdmJB9C6swD2oo3p1wNkTuRy7gr+\n",
       "PiHsq6Wso2EzPC1yApAqGvWMzDyFKTyEJht+UIgyCfCRKdurbNccqaymUBqt5E0ynZkb5ULgjxFf\n",
       "fvgs/G6uqJN5mt+lRP/UEjckFUhQxF2iab8RdDI37B3gmed4R2ZBtKYx2O7EAYeur9bChGUnHkDr\n",
       "Lghw6BQQG9DDLKlODp49O+16ZMZnslb/T8lLaAkQK66sX0dYOhmk8OgofT8VcnMt6xXADLOqfZ6F\n",
       "zX2wmkJptJI3wyxspSBM4zhz9w370gcLIgdwhKQOf3+XTmbfTjbIsx9weSW+6xaKHVto8v/NIPP3\n",
       "02Jb34cbJzWEZEG2ovRtOHWWofdiqLDsxANo3QUBvbQ0Ofr1SR/RcRIZzdKO/gl5Ahe3mPQmjsyg\n",
       "go8Ll0tAf8Wof4AcRPcv0yue72WjYyj06iXA8/FvjPaTFOnSM0GFSpdjGC3lOVNMGyNzT0OM4zMj\n",
       "9ew4u7qlXAFYcD6cOnOTRmbyS2In7DJSo63yvetYFPHGnCAzVezHgNSD2PQQTT45s3iBtcYwHvyE\n",
       "GTFybTmHb/tpq7DqhCUGEN3ZtUfeDGyhcFrEP8FOezWPzFG+YjgUepcaIoO+2M7fVwE2glFPK1IP\n",
       "cnwmf8LzvWxUepYaRr0EeD7eb3a2+O3mQy9BQKGnSygURkt5zpQ6mkAEHZMmBh7+BfQX2AJBuUqM\n",
       "TYbDMLtPIxPezXpaD1XmzvRFMWkYt02dzI3NxJsQexJHtVOiySfvKniBtcJXcIfH5tX8LM3Mm66z\n",
       "CqtOWGIA3l2IdhpE5gce2sK47mV0qYshWJKZ4Guhcy2N9JLIYHqE/yjAQTDqca/YT59AWg9ovpeN\n",
       "Ss/Jkl6vAJ6Pv2HgcAPuvlQJKvR0CYXCaCnPmOLaGJkZ5KCPUXM7DsJEjeeGIfZyubwNyXzo3zqZ\n",
       "L7AoizsDtk71od9GaC1mN74DOpkv5vJ4Rs5STz+Iaws/L/BWBKSGaF7tGMLdAcAJq7DqhM8yAoju\n",
       "7Nr7aT2JGFPzOr0gyYyFHMdu8ZW3mfUR/aCtfH8LdKZM+tgZsLevptBv9O1s8RXXecLAD9NzEA7C\n",
       "dJTn7ow643xmRm/WyQSx8B5npQj6eJ7C8QSuSj1zGpmpccisCDJP9Wrvzwq8le7tndIXKErj/LvA\n",
       "yQwK804ymw/deqQmAKI7u/aeS+wljzz+K1V9zEZmp2nQ/HqRmbX5vmNlwsepkI9d3Sokprg2ReZS\n",
       "GqYq8WV0wdEUzw2+l0evw+gJP5kYZWFsGeVgegaSrUL8UTj5BsTu09fMjU2IuYLMFHo1vhummvhg\n",
       "BdHK3PI02hBHIvcOcjKDwryT5EG4JloUANGdXbuTr8FoER4vRfyfwP4rMp1ln993/w++lz4OOZZ2\n",
       "rZAzxbQpMnsOwFg9WoI/wOhTPHdXHU7hwhT95hD0gI/MxXOQybdqY/VEfmUhdw/ELoHz49YfCxqZ\n",
       "WQzDz7vruLsdjHux12Gsgg9WEK3sjmMJYV93F158Z5OTGRAWncAmp8G+pxJAdGfXDv9cvH4TXT1O\n",
       "ee+sReKvVu/ujoBP+m6ydmq+/NH57j7VSx9r67xJTpcKOVNMm/6OUA/kflje5rvOM5NCZPRa40qR\n",
       "uRuM61yvkD1DNmhNJ9oIQyNZzGZMQHvtcOhDqrDrCt70xq/Av1qkC1fQIK5NJzNWCeYCd7PmWqzk\n",
       "PhpGZuzZA+0+ZvzcLN/8rja3uU4pVev7qWlAW+2n4Fgd/o+STmYGrPOsDZkZy6T2z8yr6S0hc/W0\n",
       "0Nn/zY5f9etbkTYsjP8HwjOUwEk92hsAAAAASUVORK5CYII=\n",
       "\" style=\"display:inline;vertical-align:middle;\" /></a><br>"
      ],
      "text/plain": [
       "associate: forall_{l, m, n in Naturals} [forall_{A, B, C | A_1 or  ...  or A_l or B_1 or  ...  or B_m or C_1 or  ...  or C_n} (A_1 or  ...  or A_l or (B_1 or  ...  or B_m) or C_1 or  ...  or C_n)]"
      ]
     },
     "execution_count": 45,
     "metadata": {},
     "output_type": "execute_result"
    }
   ],
   "source": [
    "associate = Forall((l,m,n), Forall((AA,BB,CC), Or(iterA1l, Or(iterB1m), iterC1n), \n",
    "                                   conditions=[Or(iterA1l, iterB1m, iterC1n)]),\n",
    "                   domain=Naturals)"
   ]
  },
  {
   "cell_type": "code",
   "execution_count": 46,
   "metadata": {},
   "outputs": [
    {
     "data": {
      "text/html": [
       "<strong id=\"disassociate\"><a class=\"ProveItLink\" href=\"_proofs_/disassociate.ipynb\">disassociate</a>:</strong> <a class=\"ProveItLink\" href=\"__pv_it/5031b0dec40452359a33b39a4a4470633f2d06440/expr.ipynb\"><img src=\"data:image/png;base64,iVBORw0KGgoAAAANSUhEUgAAA5QAAAAZBAMAAAC83nzgAAAAMFBMVEX///8QEBC6urrMzMxUVFRm\n",
       "ZmZERETc3NwyMjKqqqp2dnaIiIiYmJgiIiLu7u4AAAAU9Wx4AAAAAXRSTlMAQObYZgAACSFJREFU\n",
       "aN7tWm2MG8UZfu21zx+73juTNpS24ItIQ6WCblNoigLirPKjPxCNi4pQ+Iop6kUqjeIfUS6Cwrk/\n",
       "KK0U5Yza/KI0R0VIo6Y9k6opH6nifP4IlBwlAkF1nFGla1SS3LmBXL7c7fvOzM7Ortfuml4lTs1I\n",
       "t56v5/HsPPO+8874AMKndZMluJw+nSk6+V433Scuz9inOG2AejdSmgt97VbZh3a+S1wQoMfG1Lg9\n",
       "PElnQPQB+zOlQ128itL/AJeSmdprIaXM0IdRXbBS3sQ/Mhe6xAUCTjROn95oW+FZOgGiU5tLJxdf\n",
       "DK+k2j9uMSl3Un5LSCnTFfxI1heslOI9xz9yp4Q9W6e3nxmjU3IBSn3vWYCEXQgEBPJ7AV7MONn9\n",
       "wJnQZN7+ZSblRnwmiiGlZB03LlgldeFf7aasilluvZqYH3zV8a8uQKkfvEjK5IMAEMjvBXgwaZvU\n",
       "S86GJfP1P8qkJBuLV8KGPbSsVy9YKSPcnyTHbXcXpMWZafUzK+jxvigoAKV+H9qEYdeCABDI7wV4\n",
       "MNs+Zo6yGJbM1/8DJqWxY3j48dAR7NHh4eGFG8h+mX/8KWK72j2Ff1tbuybx3JVyfKECUOrXo01k\n",
       "zgUClKTwewEeTG6OeY1KWDJf/54KSQlnh4beCy1l79DQurEFK+W97Jk4k2TuiaetYoZ8iSYyKY7R\n",
       "KkCpt8ugjeaDAGpS+L0AFZOyi22/PYjM3z9dYFKiX14bWkr01j3/i3uChNVN78on/JbNfAkX4oqX\n",
       "Q3+lBYUK7ws35wfIes3+3E+mrgoEeIJfye8HKJiY6nZDkPn7p8pMyqVglsFcVQ8lZTQPJ3gwxU9a\n",
       "6Vwj2+Sb+pHs248VZPhFaaDjlHtaH/VQBaTn7Gzur05hpaw2Hrp67R/afoUckkhXsOd+0CmMFBOM\n",
       "UUSsPwCLQcc3RJYDxBTJesOugLm+LOdcAfhCLcEvAa1fkpRHlHBkSd+RJtrHpMyAjhLf0O5w/ORd\n",
       "8OKD7m3PBOzlEYQ4aR0rQPISZZZ8sR7NsbUi13iuoyv2tBZVqqBk4D4/6izFtDP30ewbsKQtxh2S\n",
       "SP+kh3keouiftO9MOG91IvAoSSscFICYIlkfo/1z4AJ87U4/wG8Agt8BBHxJhu/F14Ulk/0dlWaZ\n",
       "lHqNYqLtQcAP774fjqTr6bor5V4RWH37LK9bU4M0RVOpJnbaV1KljOdErir+PAXRqrO/VFWhEnXO\n",
       "QuR/cRRs3LEwfE1Osw0Ho8+1wShDUqWMNbI5G18lJaRcDbuC3j1eSYtV4AC2e+sjdEAZwAPns36A\n",
       "N0l+CWj9kiSPkK8MS+b290hplm+S24jPnL/7xGl4vVpQpTyhsX07+m6D102VIEm+doZOq8tBlfKG\n",
       "bX088zLuhXK3dwqiVWexF9t/HSpR5wyCFzIo2GjFPZAxGpP8jNbXBqMMSSS2UT192+m/27OulJuC\n",
       "75YT5YzIOYDN3voRWnbjF+XsuwBvkvwS0PolOnOY6XxYMre/x8HCWvLKtLSN+77yvL7HEjmAw9Tr\n",
       "4M8eU6Xs2cCcW+Y6EZ7j8lhDnnIN+YO/eaT8y8i/RNiAK1sah1NwWrH3NyGiUok6xfdioXcW4heU\n",
       "PYbRxCmyN602GGVIIv2AupOeU3OulLFbucdg98t1J4PLRdxmSsCct/7YeTrwT8jZlw11lczll4DD\n",
       "u1/Jv/qwB2MyF/UStJD5ByXIZH/iIr142ANbJ8TSPjlQy+SNvMhZ7DoIDqZPrlSkTD3AstuBh+fR\n",
       "xtBDbK3nqp59jwXIvejQYojV+12DcQqsVcOFvpuM9GaXigC7FSsWhYHFQ1k3TlrKaSJiiX8LgjC5\n",
       "lhiKXOQGGt76866U2jr+ejNYNpsiQwGIOKI7AE34GKd+1RyY+5sld/ZFg+Qwmx5+B2AeuATH4ZCX\n",
       "7PFzv0z8uQAtZP5BOWSiP3G95R5GIIKvrNN4n3gJei2qZbmSxkzkIIw9r0gJX2CM18Aomyj9gjAl\n",
       "pmxdlXJ5PXkRtOfwXc2iYjCiwFoB1+Y0GelSScUA04oVi8K+MdUqb+Y0tFZwva68EoIwypAcl4/W\n",
       "baM7WWXbZ6SU8KS4McFxm4tFhvYjvjNLgC7eS9TTzxz24poy+6JBcrCMy+8AEh+W4YwTmySd7f9I\n",
       "rnkPtJL5B+WQif7ERc4i2c+lNPB1e5gwd+DWkqzw3BLQ3h4aegSl/OEpVco3mH/NZvldYg9O5gDd\n",
       "BDLn3adK+WY2h1t8hub3V4rBiAJv7aNoFMfwc5eKAKxOHn9ZYX0/hpGKlIyml3ZDdM7vQBBGGZJz\n",
       "cafGQFLK29rE7r7jWU81uF7OvtbmPOfnj1XRwH86P2SxKm2T4uJOvOSN9FwEe2AkynN3R808t8ro\n",
       "LaqULOFGeoyVIijjPnLEq2rEq0iJe7LRFFJOx5U5ZAXeSrfzZhFX1zKXKlMSda4ZUyGHZnsODj9z\n",
       "6Hq6Al7GaWKX2KpjUrZi+JCM1XvlOjLGgqQMe4F7Y5uGZ7u9Cbb0YmK2f17IIla8gEy/UaSc0WFT\n",
       "KTGL83IkzXOLruVe8SDAUb+U6F9hcBb7wUgZUg0r8RR8gJvJ99S9cnkdNFtImcadIbEFNtXxwQqi\n",
       "lU3tLpzpUxTgMSoOoDrWe1OdFxIY4GxbBM8UI/1f4r8EEI2Zq8CKApeyFcOHlNqjWOaW/0LKGX2e\n",
       "pByhBVYcmxeyEYh81eJnUEfK2E4YrEWLuIeu2MFz99ZgGvWO/rgfYuCTcuojMHKNymAtmWtOZh8E\n",
       "7RKYv20ctxQpM+iA99tXcWVMdITaHAyW8MEKopXdXMxY7EJKUHEA1bHegyVe+JE9+eZn6xCzTrEf\n",
       "WO/iNPCPqavp9yAmZQtGDOn2hHvYVnxw4tcfd/cTemxncP2jo/d1N/3LIGNp3y/NC9kyiO8SRwLl\n",
       "3aDWknsB90rvxZ03SYQBvpsb9z6DDdkzbreQOUlzql7xC0DCc/hSb0e2wkSN/9SqcL4DHTAT+gG5\n",
       "7yQW7j9AdEq/9y1TrdSaa7mD9QYGst/X20mpvbizwxDif3TD2lCAabTJRyx+OeSmWz7f4bLXLBq7\n",
       "4P8hKVIaEGhjHaQ0Agzab5Uh0y+683VwOXWS8j+nyXD/B5v/BOMwuvqR63eXhfOn6OTxfwMSR4wM\n",
       "gzLJiwAAAABJRU5ErkJggg==\n",
       "\" style=\"display:inline;vertical-align:middle;\" /></a><br>"
      ],
      "text/plain": [
       "disassociate: forall_{l, m, n in Naturals} [forall_{A, B, C | A_1 or  ...  or A_l or (B_1 or  ...  or B_m) or C_1 or  ...  or C_n} (A_1 or  ...  or A_l or B_1 or  ...  or B_m or C_1 or  ...  or C_n)]"
      ]
     },
     "execution_count": 46,
     "metadata": {},
     "output_type": "execute_result"
    }
   ],
   "source": [
    "disassociate = Forall((l,m,n), Forall((AA,BB,CC), Or(iterA1l, iterB1m, iterC1n), \n",
    "                                      conditions=[Or(iterA1l, Or(iterB1m), iterC1n)]),\n",
    "                   domain=Naturals)"
   ]
  },
  {
   "cell_type": "code",
   "execution_count": 47,
   "metadata": {},
   "outputs": [
    {
     "name": "stdout",
     "output_type": "stream",
     "text": [
      "Theorems may be imported from autogenerated _theorems_.py\n"
     ]
    }
   ],
   "source": [
    "%end theorems"
   ]
  },
  {
   "cell_type": "code",
   "execution_count": null,
   "metadata": {},
   "outputs": [],
   "source": []
  }
 ],
 "metadata": {
  "kernelspec": {
   "display_name": "Python 3",
   "language": "python",
   "name": "python3"
  }
 },
 "nbformat": 4,
 "nbformat_minor": 0
}
