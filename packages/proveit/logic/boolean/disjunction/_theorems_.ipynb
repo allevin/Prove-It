{
 "cells": [
  {
   "cell_type": "markdown",
   "metadata": {
    "collapsed": true
   },
   "source": [
    "Theorems for context <a href=\"_context_.ipynb\" class=\"ProveItLink\">proveit.logic.boolean.disjunction</a>\n",
    "========"
   ]
  },
  {
   "cell_type": "code",
   "execution_count": 1,
   "metadata": {},
   "outputs": [
    {
     "name": "stdout",
     "output_type": "stream",
     "text": [
      "Defining theorems for context 'proveit.logic.boolean.disjunction'\n",
      "Subsequent end-of-cell assignments will define theorems\n",
      "'%end theorems' will finalize the definitions\n"
     ]
    }
   ],
   "source": [
    "from proveit import varIter\n",
    "from proveit import Lambda, Iter, Indexed\n",
    "from proveit._common_ import A, B, C, D, AA, CC, i, j, k, l, m, n\n",
    "from proveit.logic import Or, TRUE, FALSE, Forall, Implies, Not, inBool, And, Booleans, Equals, Set\n",
    "from proveit.logic._common_ import iterA1m, iterC1n\n",
    "from proveit.number import Naturals, NaturalsPos, Add, Exp, one, LessEq, LesserSequence\n",
    "%begin theorems"
   ]
  },
  {
   "cell_type": "code",
   "execution_count": 2,
   "metadata": {},
   "outputs": [
    {
     "data": {
      "text/html": [
       "<strong id=\"trueOrTrue\"><a class=\"ProveItLink\" href=\"_proofs_/trueOrTrue.ipynb\">trueOrTrue</a>:</strong> <a class=\"ProveItLink\" href=\"__pv_it/e97c323cdd30da22b1b9b974ceb567d79030f5670/expr.ipynb\"><img src=\"__pv_it/e97c323cdd30da22b1b9b974ceb567d79030f5670/expr.png\" style=\"display:inline;vertical-align:middle;\" /></a><br>"
      ],
      "text/plain": [
       "trueOrTrue: TRUE or TRUE"
      ]
     },
     "execution_count": 2,
     "metadata": {},
     "output_type": "execute_result"
    }
   ],
   "source": [
    "trueOrTrue = Or(TRUE, TRUE)"
   ]
  },
  {
   "cell_type": "code",
   "execution_count": 3,
   "metadata": {},
   "outputs": [
    {
     "data": {
      "text/html": [
       "<strong id=\"trueOrFalse\"><a class=\"ProveItLink\" href=\"_proofs_/trueOrFalse.ipynb\">trueOrFalse</a>:</strong> <a class=\"ProveItLink\" href=\"__pv_it/eec5dacd574712698e86760b8b62868c1668cdd80/expr.ipynb\"><img src=\"__pv_it/eec5dacd574712698e86760b8b62868c1668cdd80/expr.png\" style=\"display:inline;vertical-align:middle;\" /></a><br>"
      ],
      "text/plain": [
       "trueOrFalse: TRUE or FALSE"
      ]
     },
     "execution_count": 3,
     "metadata": {},
     "output_type": "execute_result"
    }
   ],
   "source": [
    "trueOrFalse = Or(TRUE, FALSE)"
   ]
  },
  {
   "cell_type": "code",
   "execution_count": 4,
   "metadata": {},
   "outputs": [
    {
     "data": {
      "text/html": [
       "<strong id=\"falseOrTrue\"><a class=\"ProveItLink\" href=\"_proofs_/falseOrTrue.ipynb\">falseOrTrue</a>:</strong> <a class=\"ProveItLink\" href=\"__pv_it/1da6b0e09dcd4642d4419ced0432f25c508208780/expr.ipynb\"><img src=\"__pv_it/1da6b0e09dcd4642d4419ced0432f25c508208780/expr.png\" style=\"display:inline;vertical-align:middle;\" /></a><br>"
      ],
      "text/plain": [
       "falseOrTrue: FALSE or TRUE"
      ]
     },
     "execution_count": 4,
     "metadata": {},
     "output_type": "execute_result"
    }
   ],
   "source": [
    "falseOrTrue = Or(FALSE, TRUE)"
   ]
  },
  {
   "cell_type": "code",
   "execution_count": 5,
   "metadata": {},
   "outputs": [
    {
     "data": {
      "text/html": [
       "<strong id=\"falseOrFalseNegated\"><a class=\"ProveItLink\" href=\"_proofs_/falseOrFalseNegated.ipynb\">falseOrFalseNegated</a>:</strong> <a class=\"ProveItLink\" href=\"__pv_it/89d93ab2a58b4ca9966107b3308820d50ebc7a700/expr.ipynb\"><img src=\"__pv_it/89d93ab2a58b4ca9966107b3308820d50ebc7a700/expr.png\" style=\"display:inline;vertical-align:middle;\" /></a><br>"
      ],
      "text/plain": [
       "falseOrFalseNegated: [not](FALSE or FALSE)"
      ]
     },
     "execution_count": 5,
     "metadata": {},
     "output_type": "execute_result"
    }
   ],
   "source": [
    "falseOrFalseNegated = Not(Or(FALSE, FALSE))"
   ]
  },
  {
   "cell_type": "code",
   "execution_count": 6,
   "metadata": {},
   "outputs": [
    {
     "data": {
      "text/html": [
       "<strong id=\"orIfBoth\"><a class=\"ProveItLink\" href=\"_proofs_/orIfBoth.ipynb\">orIfBoth</a>:</strong> <a class=\"ProveItLink\" href=\"__pv_it/0ec4cbcb6f83cd4439c2b6771409df52dc1a3ec60/expr.ipynb\"><img src=\"__pv_it/0ec4cbcb6f83cd4439c2b6771409df52dc1a3ec60/expr.png\" style=\"display:inline;vertical-align:middle;\" /></a><br>"
      ],
      "text/plain": [
       "orIfBoth: forall_{A, B | A , B} (A or B)"
      ]
     },
     "execution_count": 6,
     "metadata": {},
     "output_type": "execute_result"
    }
   ],
   "source": [
    "orIfBoth = Forall((A, B), Or(A, B), conditions=[A, B])"
   ]
  },
  {
   "cell_type": "code",
   "execution_count": 7,
   "metadata": {},
   "outputs": [
    {
     "data": {
      "text/html": [
       "<strong id=\"orIfOnlyLeft\"><a class=\"ProveItLink\" href=\"_proofs_/orIfOnlyLeft.ipynb\">orIfOnlyLeft</a>:</strong> <a class=\"ProveItLink\" href=\"__pv_it/b9f989dae70289d5148744c3fd434bf6d31872c70/expr.ipynb\"><img src=\"__pv_it/b9f989dae70289d5148744c3fd434bf6d31872c70/expr.png\" style=\"display:inline;vertical-align:middle;\" /></a><br>"
      ],
      "text/plain": [
       "orIfOnlyLeft: forall_{A, B | A , [not](B)} (A or B)"
      ]
     },
     "execution_count": 7,
     "metadata": {},
     "output_type": "execute_result"
    }
   ],
   "source": [
    "orIfOnlyLeft = Forall((A, B), Or(A, B), conditions=[A, Not(B)])"
   ]
  },
  {
   "cell_type": "code",
   "execution_count": 8,
   "metadata": {},
   "outputs": [
    {
     "data": {
      "text/html": [
       "<strong id=\"orIfOnlyRight\"><a class=\"ProveItLink\" href=\"_proofs_/orIfOnlyRight.ipynb\">orIfOnlyRight</a>:</strong> <a class=\"ProveItLink\" href=\"__pv_it/3c2344cfabc842d70fed64921c0aef8ebc5353a70/expr.ipynb\"><img src=\"__pv_it/3c2344cfabc842d70fed64921c0aef8ebc5353a70/expr.png\" style=\"display:inline;vertical-align:middle;\" /></a><br>"
      ],
      "text/plain": [
       "orIfOnlyRight: forall_{A, B | [not](A) , B} (A or B)"
      ]
     },
     "execution_count": 8,
     "metadata": {},
     "output_type": "execute_result"
    }
   ],
   "source": [
    "orIfOnlyRight = Forall((A, B), Or(A, B), conditions=[Not(A), B])"
   ]
  },
  {
   "cell_type": "code",
   "execution_count": 9,
   "metadata": {},
   "outputs": [
    {
     "data": {
      "text/html": [
       "<strong id=\"neitherIntro\"><a class=\"ProveItLink\" href=\"_proofs_/neitherIntro.ipynb\">neitherIntro</a>:</strong> <a class=\"ProveItLink\" href=\"__pv_it/b9494166bc9ee93f75f9c22995a81329371a1eb30/expr.ipynb\"><img src=\"__pv_it/b9494166bc9ee93f75f9c22995a81329371a1eb30/expr.png\" style=\"display:inline;vertical-align:middle;\" /></a><br>"
      ],
      "text/plain": [
       "neitherIntro: forall_{A, B | [not](A) , [not](B)} [not](A or B)"
      ]
     },
     "execution_count": 9,
     "metadata": {},
     "output_type": "execute_result"
    }
   ],
   "source": [
    "neitherIntro = Forall((A, B), Not(Or(A, B)), conditions=[Not(A), Not(B)])"
   ]
  },
  {
   "cell_type": "code",
   "execution_count": 10,
   "metadata": {},
   "outputs": [
    {
     "data": {
      "text/html": [
       "<strong id=\"binaryOrContradiction\"><a class=\"ProveItLink\" href=\"_proofs_/binaryOrContradiction.ipynb\">binaryOrContradiction</a>:</strong> <a class=\"ProveItLink\" href=\"__pv_it/0958bcd3fc040df036774b5cadef06ab4bc107330/expr.ipynb\"><img src=\"__pv_it/0958bcd3fc040df036774b5cadef06ab4bc107330/expr.png\" style=\"display:inline;vertical-align:middle;\" /></a><br>"
      ],
      "text/plain": [
       "binaryOrContradiction: forall_{A, B | A or B , [not](A) , [not](B)} FALSE"
      ]
     },
     "execution_count": 10,
     "metadata": {},
     "output_type": "execute_result"
    }
   ],
   "source": [
    "binaryOrContradiction = Forall((A, B), FALSE, conditions=(Or(A, B), Not(A), Not(B)))"
   ]
  },
  {
   "cell_type": "code",
   "execution_count": 11,
   "metadata": {},
   "outputs": [
    {
     "data": {
      "text/html": [
       "<strong id=\"leftIfNotRight\"><a class=\"ProveItLink\" href=\"_proofs_/leftIfNotRight.ipynb\">leftIfNotRight</a>:</strong> <a class=\"ProveItLink\" href=\"__pv_it/cab93fc923026c5e7ba5e0dc1f69875613a752280/expr.ipynb\"><img src=\"__pv_it/cab93fc923026c5e7ba5e0dc1f69875613a752280/expr.png\" style=\"display:inline;vertical-align:middle;\" /></a><br>"
      ],
      "text/plain": [
       "leftIfNotRight: forall_{A, B in BOOLEANS | A or B , [not](B)} A"
      ]
     },
     "execution_count": 11,
     "metadata": {},
     "output_type": "execute_result"
    }
   ],
   "source": [
    "leftIfNotRight = Forall((A, B), A, domain=Booleans, conditions=(Or(A, B), Not(B)))"
   ]
  },
  {
   "cell_type": "code",
   "execution_count": 12,
   "metadata": {},
   "outputs": [
    {
     "data": {
      "text/html": [
       "<strong id=\"rightIfNotLeft\"><a class=\"ProveItLink\" href=\"_proofs_/rightIfNotLeft.ipynb\">rightIfNotLeft</a>:</strong> <a class=\"ProveItLink\" href=\"__pv_it/896fb79f15672ec8c1dc34695a1bce8124fa7b540/expr.ipynb\"><img src=\"__pv_it/896fb79f15672ec8c1dc34695a1bce8124fa7b540/expr.png\" style=\"display:inline;vertical-align:middle;\" /></a><br>"
      ],
      "text/plain": [
       "rightIfNotLeft: forall_{A, B in BOOLEANS | A or B , [not](A)} B"
      ]
     },
     "execution_count": 12,
     "metadata": {},
     "output_type": "execute_result"
    }
   ],
   "source": [
    "rightIfNotLeft = Forall((A, B), B, domain=Booleans, conditions=(Or(A, B), Not(A)))"
   ]
  },
  {
   "cell_type": "markdown",
   "metadata": {},
   "source": [
    "This **constrained singular constructive dilemma** will require a single provable $C$ be designated as a Boolean.  The \"unconstrained\" version will drop this constraint, using the constrained version as a convenient Lemma.  This will all culminate to the **constructive dilemma**, below, that can prove some $C \\lor D$ given $A \\lor B$, $A \\Rightarrow C$ and $B \\Rightarrow D$."
   ]
  },
  {
   "cell_type": "code",
   "execution_count": 13,
   "metadata": {},
   "outputs": [
    {
     "data": {
      "text/html": [
       "<strong id=\"constrainedSingularConstructiveDilemma\"><a class=\"ProveItLink\" href=\"_proofs_/constrainedSingularConstructiveDilemma.ipynb\">constrainedSingularConstructiveDilemma</a>:</strong> <a class=\"ProveItLink\" href=\"__pv_it/ab5eff55525116b4e2e203da6c786e5de29ab6e70/expr.ipynb\"><img src=\"__pv_it/ab5eff55525116b4e2e203da6c786e5de29ab6e70/expr.png\" style=\"display:inline;vertical-align:middle;\" /></a><br>"
      ],
      "text/plain": [
       "constrainedSingularConstructiveDilemma: forall_{A, B, C in BOOLEANS | A or B , A => C , B => C} C"
      ]
     },
     "execution_count": 13,
     "metadata": {},
     "output_type": "execute_result"
    }
   ],
   "source": [
    "constrainedSingularConstructiveDilemma = Forall((A, B, C), C, conditions=[Or(A, B), Implies(A, C), Implies(B, C)],\n",
    "                                                domain=Booleans)"
   ]
  },
  {
   "cell_type": "code",
   "execution_count": 14,
   "metadata": {},
   "outputs": [
    {
     "data": {
      "text/html": [
       "<strong id=\"singularConstructiveDilemma\"><a class=\"ProveItLink\" href=\"_proofs_/singularConstructiveDilemma.ipynb\">singularConstructiveDilemma</a>:</strong> <a class=\"ProveItLink\" href=\"__pv_it/ae04d742bb2a9c5d5c8f08976170ec0df82f46d30/expr.ipynb\"><img src=\"__pv_it/ae04d742bb2a9c5d5c8f08976170ec0df82f46d30/expr.png\" style=\"display:inline;vertical-align:middle;\" /></a><br>"
      ],
      "text/plain": [
       "singularConstructiveDilemma: forall_{A, B in BOOLEANS | A or B} [forall_{C | A => C , B => C} C]"
      ]
     },
     "execution_count": 14,
     "metadata": {},
     "output_type": "execute_result"
    }
   ],
   "source": [
    "singularConstructiveDilemma = Forall((A, B), Forall(C, C, conditions=[Implies(A, C), Implies(B, C)]), \n",
    "                                     domain=Booleans, conditions=[Or(A, B)])"
   ]
  },
  {
   "cell_type": "code",
   "execution_count": 15,
   "metadata": {},
   "outputs": [
    {
     "data": {
      "text/html": [
       "<strong id=\"orIfLeft\"><a class=\"ProveItLink\" href=\"_proofs_/orIfLeft.ipynb\">orIfLeft</a>:</strong> <a class=\"ProveItLink\" href=\"__pv_it/ee9b5e135f18feaeceacb6d1760a21f60f3575430/expr.ipynb\"><img src=\"__pv_it/ee9b5e135f18feaeceacb6d1760a21f60f3575430/expr.png\" style=\"display:inline;vertical-align:middle;\" /></a><br>"
      ],
      "text/plain": [
       "orIfLeft: forall_{A, B in BOOLEANS | A} (A or B)"
      ]
     },
     "execution_count": 15,
     "metadata": {},
     "output_type": "execute_result"
    }
   ],
   "source": [
    "orIfLeft = Forall((A, B), Or(A, B), domain=Booleans, conditions=[A])"
   ]
  },
  {
   "cell_type": "code",
   "execution_count": 16,
   "metadata": {},
   "outputs": [
    {
     "data": {
      "text/html": [
       "<strong id=\"orIfRight\"><a class=\"ProveItLink\" href=\"_proofs_/orIfRight.ipynb\">orIfRight</a>:</strong> <a class=\"ProveItLink\" href=\"__pv_it/244c12503c36805689e898ad6458e87c518cd09d0/expr.ipynb\"><img src=\"__pv_it/244c12503c36805689e898ad6458e87c518cd09d0/expr.png\" style=\"display:inline;vertical-align:middle;\" /></a><br>"
      ],
      "text/plain": [
       "orIfRight: forall_{A, B in BOOLEANS | B} (A or B)"
      ]
     },
     "execution_count": 16,
     "metadata": {},
     "output_type": "execute_result"
    }
   ],
   "source": [
    "orIfRight = Forall((A, B), Or(A, B), domain=Booleans, conditions=[B])"
   ]
  },
  {
   "cell_type": "code",
   "execution_count": 17,
   "metadata": {},
   "outputs": [
    {
     "data": {
      "text/html": [
       "<strong id=\"constructiveDilemma\"><a class=\"ProveItLink\" href=\"_proofs_/constructiveDilemma.ipynb\">constructiveDilemma</a>:</strong> <a class=\"ProveItLink\" href=\"__pv_it/8931a5ce5cb5c22a7cd0723cd5f9afa3d54cac3e0/expr.ipynb\"><img src=\"__pv_it/8931a5ce5cb5c22a7cd0723cd5f9afa3d54cac3e0/expr.png\" style=\"display:inline;vertical-align:middle;\" /></a><br>"
      ],
      "text/plain": [
       "constructiveDilemma: forall_{A, B, C, D in BOOLEANS | A or B , A => C , B => D} (C or D)"
      ]
     },
     "execution_count": 17,
     "metadata": {},
     "output_type": "execute_result"
    }
   ],
   "source": [
    "constructiveDilemma = Forall((A, B, C, D), Or(C, D), domain=Booleans, \n",
    "                             conditions=[Or(A, B), Implies(A, C), Implies(B, D)])"
   ]
  },
  {
   "cell_type": "code",
   "execution_count": 18,
   "metadata": {},
   "outputs": [
    {
     "data": {
      "text/html": [
       "<strong id=\"destructiveDilemma\"><a class=\"ProveItLink\" href=\"_proofs_/destructiveDilemma.ipynb\">destructiveDilemma</a>:</strong> <a class=\"ProveItLink\" href=\"__pv_it/7de8b210ccb671c7d6a6b32db451f642d98368b60/expr.ipynb\"><img src=\"__pv_it/7de8b210ccb671c7d6a6b32db451f642d98368b60/expr.png\" style=\"display:inline;vertical-align:middle;\" /></a><br>"
      ],
      "text/plain": [
       "destructiveDilemma: forall_{A, B, C, D in BOOLEANS | [not](C) or [not](D) , A => C , B => D} ([not](A) or [not](B))"
      ]
     },
     "execution_count": 18,
     "metadata": {},
     "output_type": "execute_result"
    }
   ],
   "source": [
    "destructiveDilemma = Forall((A, B, C, D), Or(Not(A), Not(B)), domain=Booleans, \n",
    "                            conditions=[Or(Not(C), Not(D)), Implies(A, C), Implies(B, D)])"
   ]
  },
  {
   "cell_type": "code",
   "execution_count": 19,
   "metadata": {},
   "outputs": [
    {
     "data": {
      "text/html": [
       "<strong id=\"notLeftIfNeither\"><a class=\"ProveItLink\" href=\"_proofs_/notLeftIfNeither.ipynb\">notLeftIfNeither</a>:</strong> <a class=\"ProveItLink\" href=\"__pv_it/215bcd8bf685e6db0a42567615996e59c1892f060/expr.ipynb\"><img src=\"__pv_it/215bcd8bf685e6db0a42567615996e59c1892f060/expr.png\" style=\"display:inline;vertical-align:middle;\" /></a><br>"
      ],
      "text/plain": [
       "notLeftIfNeither: forall_{A, B | [not](A or B)} [not](A)"
      ]
     },
     "execution_count": 19,
     "metadata": {},
     "output_type": "execute_result"
    }
   ],
   "source": [
    "notLeftIfNeither = Forall((A, B), Not(A), conditions=(Not(Or(A, B))))"
   ]
  },
  {
   "cell_type": "code",
   "execution_count": 20,
   "metadata": {},
   "outputs": [
    {
     "data": {
      "text/html": [
       "<strong id=\"notRightIfNeither\"><a class=\"ProveItLink\" href=\"_proofs_/notRightIfNeither.ipynb\">notRightIfNeither</a>:</strong> <a class=\"ProveItLink\" href=\"__pv_it/1148040b6237446208291983939c6c85ccc87db20/expr.ipynb\"><img src=\"__pv_it/1148040b6237446208291983939c6c85ccc87db20/expr.png\" style=\"display:inline;vertical-align:middle;\" /></a><br>"
      ],
      "text/plain": [
       "notRightIfNeither: forall_{A, B | [not](A or B)} [not](B)"
      ]
     },
     "execution_count": 20,
     "metadata": {},
     "output_type": "execute_result"
    }
   ],
   "source": [
    "notRightIfNeither = Forall((A, B), Not(B), conditions=(Not(Or(A, B))))"
   ]
  },
  {
   "cell_type": "code",
   "execution_count": null,
   "metadata": {},
   "outputs": [],
   "source": []
  },
  {
   "cell_type": "code",
   "execution_count": 21,
   "metadata": {},
   "outputs": [
    {
     "data": {
      "text/html": [
       "<strong id=\"unaryDisjunctionLemma\"><a class=\"ProveItLink\" href=\"_proofs_/unaryDisjunctionLemma.ipynb\">unaryDisjunctionLemma</a>:</strong> <a class=\"ProveItLink\" href=\"__pv_it/fc14d7e75966c7cd75e5d487714527cc7351e5110/expr.ipynb\"><img src=\"__pv_it/fc14d7e75966c7cd75e5d487714527cc7351e5110/expr.png\" style=\"display:inline;vertical-align:middle;\" /></a><br>"
      ],
      "text/plain": [
       "unaryDisjunctionLemma: forall_{A in BOOLEANS} ([or](A) = (FALSE or A))"
      ]
     },
     "execution_count": 21,
     "metadata": {},
     "output_type": "execute_result"
    }
   ],
   "source": [
    "unaryDisjunctionLemma = Forall(A, (Equals(Or(A), Or(FALSE, A))), domain = Booleans)"
   ]
  },
  {
   "cell_type": "code",
   "execution_count": 22,
   "metadata": {},
   "outputs": [
    {
     "data": {
      "text/html": [
       "<strong id=\"unaryDisjunctionDef\"><a class=\"ProveItLink\" href=\"_proofs_/unaryDisjunctionDef.ipynb\">unaryDisjunctionDef</a>:</strong> <a class=\"ProveItLink\" href=\"__pv_it/ea7cdc97bb19dd3f63221c57941793bcf9c4e7e30/expr.ipynb\"><img src=\"__pv_it/ea7cdc97bb19dd3f63221c57941793bcf9c4e7e30/expr.png\" style=\"display:inline;vertical-align:middle;\" /></a><br>"
      ],
      "text/plain": [
       "unaryDisjunctionDef: forall_{A in BOOLEANS} ([or](A) = A)"
      ]
     },
     "execution_count": 22,
     "metadata": {},
     "output_type": "execute_result"
    }
   ],
   "source": [
    "unaryDisjunctionDef = Forall(A, Equals(Or(A), A), domain = Booleans)"
   ]
  },
  {
   "cell_type": "code",
   "execution_count": 23,
   "metadata": {},
   "outputs": [
    {
     "data": {
      "text/html": [
       "<strong id=\"eachInBool\"><a class=\"ProveItLink\" href=\"_proofs_/eachInBool.ipynb\">eachInBool</a>:</strong> <a class=\"ProveItLink\" href=\"__pv_it/cd30baf5ab2620c9803897366acf4394ab8c82330/expr.ipynb\"><img src=\"__pv_it/cd30baf5ab2620c9803897366acf4394ab8c82330/expr.png\" style=\"display:inline;vertical-align:middle;\" /></a><br>"
      ],
      "text/plain": [
       "eachInBool: forall_{m, n in Naturals} [forall_{A, B, C | (A_(1) or  ...  or A_(m) or B or C_(1) or  ...  or C_(n)) in BOOLEANS} (B in BOOLEANS)]"
      ]
     },
     "execution_count": 23,
     "metadata": {},
     "output_type": "execute_result"
    }
   ],
   "source": [
    "eachInBool = Forall((m, n), Forall((AA, B, CC), inBool(B), conditions=inBool(Or(iterA1m, B, iterC1n))),\n",
    "                    domain=Naturals)"
   ]
  },
  {
   "cell_type": "code",
   "execution_count": 24,
   "metadata": {},
   "outputs": [
    {
     "data": {
      "text/html": [
       "<strong id=\"orIfAny\"><a class=\"ProveItLink\" href=\"_proofs_/orIfAny.ipynb\">orIfAny</a>:</strong> <a class=\"ProveItLink\" href=\"__pv_it/e5b1d8567deddceb281da8e4062562af11d61b8d0/expr.ipynb\"><img src=\"__pv_it/e5b1d8567deddceb281da8e4062562af11d61b8d0/expr.png\" style=\"display:inline;vertical-align:middle;\" /></a><br>"
      ],
      "text/plain": [
       "orIfAny: forall_{m, n in Naturals} [forall_{(A, B, C) in BOOLEANS^{m} * BOOLEANS * BOOLEANS^{n} | B} (A_(1) or  ...  or A_(m) or B or C_(1) or  ...  or C_(n))]"
      ]
     },
     "execution_count": 24,
     "metadata": {},
     "output_type": "execute_result"
    }
   ],
   "source": [
    "orIfAny = Forall((m, n), Forall((AA, B, CC), Or(iterA1m, B, iterC1n), \n",
    "                                domains=[Exp(Booleans, m), Booleans, Exp(Booleans, n)], conditions=[B]),\n",
    "                 domain=Naturals)"
   ]
  },
  {
   "cell_type": "code",
   "execution_count": 25,
   "metadata": {},
   "outputs": [
    {
     "data": {
      "text/html": [
       "<strong id=\"notOrIfNotAny\"><a class=\"ProveItLink\" href=\"_proofs_/notOrIfNotAny.ipynb\">notOrIfNotAny</a>:</strong> <a class=\"ProveItLink\" href=\"__pv_it/b36c46633e225cb1ad9eb08e98daebca5da605100/expr.ipynb\"><img src=\"__pv_it/b36c46633e225cb1ad9eb08e98daebca5da605100/expr.png\" style=\"display:inline;vertical-align:middle;\" /></a><br>"
      ],
      "text/plain": [
       "notOrIfNotAny: forall_{m in Naturals} [forall_{A | [not](A_(1)) ,  ...  , [not](A_(m))} [not](A_(1) or  ...  or A_(m))]"
      ]
     },
     "execution_count": 25,
     "metadata": {},
     "output_type": "execute_result"
    }
   ],
   "source": [
    "notOrIfNotAny = Forall(m, Forall(AA, Not(Or(iterA1m)),  \n",
    "                                 conditions=[Iter(i, Not(Indexed(AA, i)), one, m)]),\n",
    "                       domain=Naturals)"
   ]
  },
  {
   "cell_type": "code",
   "execution_count": 26,
   "metadata": {},
   "outputs": [
    {
     "data": {
      "text/html": [
       "<strong id=\"orContradiction\"><a class=\"ProveItLink\" href=\"_proofs_/orContradiction.ipynb\">orContradiction</a>:</strong> <a class=\"ProveItLink\" href=\"__pv_it/0b69715aa1396e347be8602cf3ae99997f82e8f60/expr.ipynb\"><img src=\"__pv_it/0b69715aa1396e347be8602cf3ae99997f82e8f60/expr.png\" style=\"display:inline;vertical-align:middle;\" /></a><br>"
      ],
      "text/plain": [
       "orContradiction: forall_{m in Naturals} [forall_{A | A_(1) or  ...  or A_(m) , [not](A_(1)) ,  ...  , [not](A_(m))} FALSE]"
      ]
     },
     "execution_count": 26,
     "metadata": {},
     "output_type": "execute_result"
    }
   ],
   "source": [
    "orContradiction = Forall(m, Forall(AA, FALSE, conditions=(Or(iterA1m), Iter(i, Not(Indexed(AA, i)), one, m))),\n",
    "                         domain=Naturals)"
   ]
  },
  {
   "cell_type": "code",
   "execution_count": 27,
   "metadata": {},
   "outputs": [
    {
     "data": {
      "text/html": [
       "<strong id=\"groupSwap\"><a class=\"ProveItLink\" href=\"_proofs_/groupSwap.ipynb\">groupSwap</a>:</strong> <a class=\"ProveItLink\" href=\"__pv_it/d9a9bcb939fa541f6484b1e55452960b6d1247cb0/expr.ipynb\"><img src=\"__pv_it/d9a9bcb939fa541f6484b1e55452960b6d1247cb0/expr.png\" style=\"display:inline;vertical-align:middle;\" /></a><br>"
      ],
      "text/plain": [
       "groupSwap: forall_{i, j, k, l, m in Naturals | i <= j <= k <= l <= m} [forall_{A | A_(1) or  ...  or A_(m)} (A_(1) or  ...  or A_(i) or A_(k + 1) or  ...  or A_(l) or A_(j + 1) or  ...  or A_(k) or A_(i or 1) or  ...  or A_(j) or A_(l + 1) or  ...  or A_(m))]"
      ]
     },
     "execution_count": 27,
     "metadata": {},
     "output_type": "execute_result"
    }
   ],
   "source": [
    "groupSwap = Forall((i,j,k,l,m), \n",
    "                   Forall(AA, Or(varIter(AA, one, i), varIter(AA, Add(k, one), l), varIter(AA, Add(j, one), k), \n",
    "                                varIter(AA, Or(i, one), j), varIter(AA, Add(l, one), m)),\n",
    "                          conditions=[Or(iterA1m)]),\n",
    "                   domain = Naturals, conditions=[LesserSequence([LessEq._operator_]*4, (i,j,k,l,m))])"
   ]
  },
  {
   "cell_type": "code",
   "execution_count": 28,
   "metadata": {},
   "outputs": [
    {
     "data": {
      "text/html": [
       "<strong id=\"trueEval\"><a class=\"ProveItLink\" href=\"_proofs_/trueEval.ipynb\">trueEval</a>:</strong> <a class=\"ProveItLink\" href=\"__pv_it/de27395361182a5ea2f3efb74aed121628cee6a60/expr.ipynb\"><img src=\"__pv_it/de27395361182a5ea2f3efb74aed121628cee6a60/expr.png\" style=\"display:inline;vertical-align:middle;\" /></a><br>"
      ],
      "text/plain": [
       "trueEval: forall_{m, n in Naturals} [forall_{(A, C) in BOOLEANS^{m} * BOOLEANS^{n}} ((A_(1) or  ...  or A_(m) or TRUE or C_(1) or  ...  or C_(n)) = TRUE)]"
      ]
     },
     "execution_count": 28,
     "metadata": {},
     "output_type": "execute_result"
    }
   ],
   "source": [
    "trueEval = Forall((m, n), Forall((AA, CC), Equals(Or(iterA1m, TRUE, iterC1n), TRUE),\n",
    "                                 domains=[Exp(Booleans, m), Exp(Booleans, n)]),\n",
    "                  domain=Naturals)"
   ]
  },
  {
   "cell_type": "code",
   "execution_count": 29,
   "metadata": {},
   "outputs": [
    {
     "data": {
      "text/html": [
       "<strong id=\"falseEval\"><a class=\"ProveItLink\" href=\"_proofs_/falseEval.ipynb\">falseEval</a>:</strong> <a class=\"ProveItLink\" href=\"__pv_it/4a79e7d86526f8288884909ee62e860c7ec4814f0/expr.ipynb\"><img src=\"__pv_it/4a79e7d86526f8288884909ee62e860c7ec4814f0/expr.png\" style=\"display:inline;vertical-align:middle;\" /></a><br>"
      ],
      "text/plain": [
       "falseEval: forall_{m in Naturals} [forall_{A in {FALSE}^{m}} ((A_(1) or  ...  or A_(m)) = FALSE)]"
      ]
     },
     "execution_count": 29,
     "metadata": {},
     "output_type": "execute_result"
    }
   ],
   "source": [
    "falseEval = Forall(m, Forall(AA, Equals(Or(iterA1m), FALSE), domain=Exp(Set(FALSE), m)),\n",
    "                   domain=Naturals)"
   ]
  },
  {
   "cell_type": "code",
   "execution_count": null,
   "metadata": {},
   "outputs": [],
   "source": []
  },
  {
   "cell_type": "code",
   "execution_count": 30,
   "metadata": {},
   "outputs": [
    {
     "data": {
      "text/html": [
       "<strong id=\"binaryClosure\"><a class=\"ProveItLink\" href=\"_proofs_/binaryClosure.ipynb\">binaryClosure</a>:</strong> <a class=\"ProveItLink\" href=\"__pv_it/39441255e3cd9fbcda2663152b054e4ca715853b0/expr.ipynb\"><img src=\"__pv_it/39441255e3cd9fbcda2663152b054e4ca715853b0/expr.png\" style=\"display:inline;vertical-align:middle;\" /></a><br>"
      ],
      "text/plain": [
       "binaryClosure: forall_{A, B in BOOLEANS} ((A or B) in BOOLEANS)"
      ]
     },
     "execution_count": 30,
     "metadata": {},
     "output_type": "execute_result"
    }
   ],
   "source": [
    "binaryClosure = Forall((A, B), inBool(Or(A, B)), domain=Booleans)"
   ]
  },
  {
   "cell_type": "code",
   "execution_count": 31,
   "metadata": {},
   "outputs": [
    {
     "data": {
      "text/html": [
       "<strong id=\"closure\"><a class=\"ProveItLink\" href=\"_proofs_/closure.ipynb\">closure</a>:</strong> <a class=\"ProveItLink\" href=\"__pv_it/2cb505713778067a1b94f558521c476c9ef7d74f0/expr.ipynb\"><img src=\"__pv_it/2cb505713778067a1b94f558521c476c9ef7d74f0/expr.png\" style=\"display:inline;vertical-align:middle;\" /></a><br>"
      ],
      "text/plain": [
       "closure: forall_{m in Naturals} [forall_{A in BOOLEANS^{m}} ((A_(1) or  ...  or A_(m)) in BOOLEANS)]"
      ]
     },
     "execution_count": 31,
     "metadata": {},
     "output_type": "execute_result"
    }
   ],
   "source": [
    "closure = Forall(m, Forall(AA, inBool(Or(iterA1m)), domain=Exp(Booleans, m)),\n",
    "                 domain=Naturals)"
   ]
  },
  {
   "cell_type": "code",
   "execution_count": 32,
   "metadata": {},
   "outputs": [
    {
     "name": "stdout",
     "output_type": "stream",
     "text": [
      "Modifying theorem unaryDisjunctionLemma in proveit.logic.boolean.disjunction context\n",
      "unaryDisjunctionLemma expression notebook is being updated\n",
      "Theorems may be imported from autogenerated _theorems_.py\n"
     ]
    }
   ],
   "source": [
    "%end theorems"
   ]
  },
  {
   "cell_type": "code",
   "execution_count": null,
   "metadata": {},
   "outputs": [],
   "source": []
  }
 ],
 "metadata": {
  "kernelspec": {
   "display_name": "Python 3",
   "language": "python",
   "name": "python3"
  },
  "language_info": {
   "codemirror_mode": {
    "name": "ipython",
    "version": 3
   },
   "file_extension": ".py",
   "mimetype": "text/x-python",
   "name": "python",
   "nbconvert_exporter": "python",
   "pygments_lexer": "ipython3",
   "version": "3.7.3"
  }
 },
 "nbformat": 4,
 "nbformat_minor": 1
}
