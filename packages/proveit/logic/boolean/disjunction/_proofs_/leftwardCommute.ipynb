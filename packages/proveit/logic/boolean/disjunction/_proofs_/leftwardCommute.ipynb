{
 "cells": [
  {
   "cell_type": "markdown",
   "metadata": {},
   "source": [
    "Proof of <a class=\"ProveItLink\" href=\"../../../../_context_.ipynb\">proveit</a>.<a class=\"ProveItLink\" href=\"../../../_context_.ipynb\">logic</a>.<a class=\"ProveItLink\" href=\"../../_context_.ipynb\">boolean</a>.<a class=\"ProveItLink\" href=\"../_context_.ipynb\">disjunction</a>.<a class=\"ProveItLink\" href=\"../_theorems_.ipynb#leftwardCommute\">leftwardCommute</a> theorem\n",
    "========"
   ]
  },
  {
   "cell_type": "code",
   "execution_count": 1,
   "metadata": {},
   "outputs": [],
   "source": [
    "import proveit\n",
    "context = proveit.Context('..') # the theorem's context is in the parent directory"
   ]
  },
  {
   "cell_type": "code",
   "execution_count": 2,
   "metadata": {},
   "outputs": [
    {
     "name": "stdout",
     "output_type": "stream",
     "text": [
      "Beginning proof of leftwardCommute\n",
      "Recorded 'presuming' information\n"
     ]
    },
    {
     "name": "stdout",
     "output_type": "stream",
     "text": [
      "Presuming previous theorems (applied transitively).\n"
     ]
    },
    {
     "data": {
      "text/html": [
       "<strong id=\"leftwardCommute\">leftwardCommute:</strong> <a class=\"ProveItLink\" href=\"../__pv_it/e2a353d1caba02427b0da4f5761ef96fd69604ba0/expr.ipynb\"><img src=\"data:image/png;base64,iVBORw0KGgoAAAANSUhEUgAAA+EAAAAZBAMAAACsvjI8AAAAMFBMVEX///8QEBC6urrMzMxUVFRm\n",
       "ZmZERETc3NwyMjKqqqp2dnaIiIiYmJgiIiLu7u4AAAAU9Wx4AAAAAXRSTlMAQObYZgAACb5JREFU\n",
       "aN7tWn1sW1cVP/Fz/O3nhEC7janOBIM/phJPQEErYGtVAYFYDKygdrB6fGSCUsV/jCaiMAeksoHY\n",
       "bGkqQpqmemOfaFqzgTpgRfHoOqGCiMfHEB9pXAnaSOncJE0/ljZ9nHO/3n3Pz46NhrRlvVKe7zv3\n",
       "3HPuO797Pt59AWi/7ZzKw+X2hm7rp8qdsFcvW+wN34IZqHWCuLnaDHAd/0mXOpzX7oRhC9tbU23L\n",
       "DRD//KbXRphLWqyfI84c9/dtIh5nM8dXDeBGhv9Olzuc6Dlh9itbKt90ksziuvqJ4dPtC56Zr9d3\n",
       "Wd6omsVL9RMTFzpY5oxVr++2JF6f5Yg/Qf1720Q8Qls7VFs1iItHiVgZRepnO6GB08euEgl7gkaP\n",
       "XA1w7dUuEVYOoHCmtWydnjiLqFhZb8XWGEDY6u9A2nm87FuQT8sR30U/uTYRZ4y7Vk9Qf07EaMsu\n",
       "UTZpdK35yeZR6S32BJtu3oPbJ3LOKcIgBysstpat09MXCPGMp2LDosiSzHUgbQkvXWdlWC8zxGmb\n",
       "d5faRJwFg62rB/F1/OeH1pwibaDL0cb4T3aOy+hmT7DpIRLm63GKiFKAnrzYWrZOn8AMELMqnoqj\n",
       "FuFU7OlA2qu0sHmZFXoY4rHHRka+03atfmRkZGT1lOy+MQ5LNXnJDvT4BhrONvLehX97RV+foOjb\n",
       "CY5g1ikiYFHSH1tBtkYfxq0UP++tOGAR8NNzHUijZcYtOfI1hjicHRr6R9uIJ4aGdpZXDeLd/FEK\n",
       "qeKCopGtQh7nDnuF8d0TJD3IYDJTThGUSD+4uJJsjY6p2ihmvBUnlhlHTwfSyDsT0sfhEY44hv3b\n",
       "20Ycs0pg9RzDhHj0/Cpsv2gTj4q46GoYWA2ZQfUJkt7tKSI9f/c986WVZNt0w7ri7ukrmyhOn2Ec\n",
       "uQ6kkaunZR6Hn3DE3wnmGJiDtbYQ92VghgfEV3nRmpzvXeb1zC+2PPUsPTlRylqZaTM3aQN6FfGg\n",
       "1Zv8ZzNOTZvdopu3zYpNqOn28uiG0S5W1sZ6YOIMKOthzXOjx2wsnvyiShYT/n1Jp8fPOQpCIWIS\n",
       "n/z4eZCYNZFt02OYqs3hMW/FJAyT+fgKK3VKw2Su3ueu4YjHIYpbfX2zN9Y9n4Gnb7XP3KpwkBtr\n",
       "STxSFkJsd3+4AgEWbyaxNuCJKKAsu9QK8aSOQgxNWaw0Y1XatAX+C+A2Na50e852jyaYJU+VYADd\n",
       "4P2fEj5FHuC532dET0zwVXV6gqVX0yViEHeFzyobN1dbylZ0P6XqgSVvxYO0qUJWbaWVatLIFYqq\n",
       "5khzxKMVqgQf8Zo6u+UL8GKkFqnZiB8UVeCnRajYXoEIOYgPa8ww28iDiNdgyYG4ZB4Xf46bbv66\n",
       "EeV/FBz3ZzWCg1lq02gDmDl/LMdt3V6q7FEH4oO9vRZlyAdEKChFPHfcVnhS9MSESFandzHE73OJ\n",
       "SFJcxJetcLWlbEXvooUMLHorTpJHFZZWXKktjTJ40Cq7EDfH3oc3P/IKZF+6sw5/GM/qiM/wYyrf\n",
       "30U5MJ2HEAWbYyjWYCaeRggmsjriivlXXKPzZv0+FhqiCMUdPDgWSxrBwSy12TTzKuxtVONKt5cq\n",
       "e1TGHlIU7qvXC5aNeHAs7hkhRuV3BTlBVAGC7meelHWKYGcpEYzDAvFmshWdHdbsv+CpmL+mF6sr\n",
       "rtSWRlsntAyuqA63U9CngBG75bqHowdSogdwmLgO3bdbRzxwB/OL+LstTsQn3057aD+FNCKZZLz9\n",
       "DsQVMxL8qu6TN38q8KiDnv4xFhy7RVDjBAez1GbTIuRadTHu1O1WpY1KOmF2rEQvMHllR9jEz5xN\n",
       "deGL939IxAw5IZHX6QbBJC0lRPBEWkCTC8TVQM0pW9EpVQexwj78zK8zz30ZHIrZa7p/udaw0ubS\n",
       "KAMOHhVwAvxOIL4XV2OQn50cqMQzsYzopYAlg0ORkzdoiIe/KOp8ftjnmx+6jZWWL6t3A4rgw+M6\n",
       "4pz5JnTbfttr5U0km1gAA0PMM2w1A2uGekuMWRB0ZqXNpsVz2rjU7a1KW5msBBH+4EfZm27JtuMG\n",
       "nrdOVcXF5E5i7ORmUBOuBwd9sgS+zztFsER6Mvk3G3ExwERqstUETNXm88t587cX4S/wglOB30qZ\n",
       "u6dvgoaVNpd2Gk78ZrEm4FRvZ9CFRoiS4e78JSRSLDtRL28wbzoE5Yc1xOHtbBHroMhMF10SXqeK\n",
       "jQj1+KcAgThnvmEtrihne628ub4WQu/A7XycOeVEmXycmAVBZ1babFqirI0L3U1UaSuT6QafyLIu\n",
       "oS0tpEs7hngYOJYTF3MNp+8RJ+VywgFw0I2Pb1ankUJEgn27+gbYiIsBJlKXLejEb62pQHB2DE6r\n",
       "2mqPLWyZvoa4V9pS2l9TAk4kfE8gHkNAAwy/T+K+DZV47xowXh4a2oGIf/sVHfE/sjiNtQvzv8AC\n",
       "uiUFVkqns0zbgvAmhbhgxp0ODwW1wwV+81JvErMNhphIPznlcD9WOpyZE3Rmpc2mdSHi5rgYl7q9\n",
       "VWkrk22tfiPtaDR5Uf2I635HE7qXCIl4M9luun8co+4PmilYaaUNdIJTnbKKGua9dO2DA1Dw8d4W\n",
       "n5nhPu7bqCPOGmaFyaqsUCco+n8O/55iWxGz8itrdcQFM8FwvFs7vmE3EXxjWmZfaMwcxcQkevJ5\n",
       "zswJOjPXFtt68MbDJUHrzvHsycalbm9VYvTw/S8o+hEvO7bb+jr4Uh3u8Gi6KxXNBef6m4x2ulIG\n",
       "J9ppXEP8VBRG88E53AwvRniv7x08LB5Cu7gRxzgN6Tnkg8IYhOdTwbuonImkiJKugk/8d1RAZ+Zu\n",
       "i8YO3gujNbywGwzqYFjsqw48meFnlfv6ODMjMNbRGmfm2sIH4C2+rJBmYl7/qegr3d6qxOj9uS73\n",
       "19L/yY7m3Pj/D/ECenksV36NEOdwstd6hbj/CUhXfDn4M2x4jPe2VeA47jHf9/vBDy7Epxchlpwv\n",
       "pSuh5PJU761gXATz5m3o4pxyRQU0xAUzd1t8azfOQTqPF3YTx3j/vHUlO1Q6hT7zXWvqpbfVBOJE\n",
       "YKzpPGMW2mCTWWUf6okG/9n8s5roK92equSoPzVqm0KL/N8q3tKZHT/R/j/OBB8/09m/kbwL4inj\n",
       "603OszteKYeTebD+xFBp6D06tMN1yupsakasUYZ+AsMaA9HxDPZN/CQtxs0c9GaGajgbj7ml5dtU\n",
       "BXE4+B51sxvePC2aciFu5Bt7DefqzgJB8X3Ac6YD8Y1XtXCJ7med9y2ZzVykFPh5i0drORtfAY5U\n",
       "4E3bdMRjHr3WiMcanN05MwCX2+sZ8ZXbVIf/r+6/bODXW1s/lfkvwL7rls3m6WsAAAAASUVORK5C\n",
       "YII=\n",
       "\" style=\"display:inline;vertical-align:middle;\" /></a><br>(see <a class=\"ProveItLink\" href=\"../__pv_it/e2a353d1caba02427b0da4f5761ef96fd69604ba0/dependencies.ipynb\">dependencies</a>)<br>"
      ],
      "text/plain": [
       "leftwardCommute: forall_{l, m, n in Naturals} [forall_{A, B, C, D | A_1 or  ...  or A_l or B_1 or  ...  or B_m or C or D_1 or  ...  or D_n} (A_1 or  ...  or A_l or C or B_1 or  ...  or B_m or D_1 or  ...  or D_n)]"
      ]
     },
     "execution_count": 2,
     "metadata": {},
     "output_type": "execute_result"
    }
   ],
   "source": [
    "%proving leftwardCommute presuming []"
   ]
  },
  {
   "cell_type": "code",
   "execution_count": null,
   "metadata": {},
   "outputs": [],
   "source": []
  }
 ],
 "metadata": {
  "kernelspec": {
   "display_name": "Python 3",
   "language": "python",
   "name": "python3"
  }
 },
 "nbformat": 4,
 "nbformat_minor": 0
}
