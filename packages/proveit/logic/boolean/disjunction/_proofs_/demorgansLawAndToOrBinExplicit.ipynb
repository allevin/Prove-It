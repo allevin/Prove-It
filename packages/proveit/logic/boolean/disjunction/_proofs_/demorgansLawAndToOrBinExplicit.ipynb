{
 "cells": [
  {
   "cell_type": "markdown",
   "metadata": {
    "collapsed": true
   },
   "source": [
    "Proof of <a class=\"ProveItLink\" href=\"../../../../_context_.ipynb\">proveit</a>.<a class=\"ProveItLink\" href=\"../../../_context_.ipynb\">logic</a>.<a class=\"ProveItLink\" href=\"../../_context_.ipynb\">boolean</a>.<a class=\"ProveItLink\" href=\"../_context_.ipynb\">disjunction</a>.<a class=\"ProveItLink\" href=\"../_theorems_.ipynb#demorgansLawAndToOrBinExplicit\">demorgansLawAndToOrBinExplicit</a> theorem\n",
    "========"
   ]
  },
  {
   "cell_type": "code",
   "execution_count": 1,
   "metadata": {},
   "outputs": [],
   "source": [
    "import proveit\n",
    "from proveit.logic.boolean._theorems_ import foldForallOverBool, foldConditionedForallOverBool\n",
    "context = proveit.Context('..') # the theorem's context is in the parent directory"
   ]
  },
  {
   "cell_type": "code",
   "execution_count": 2,
   "metadata": {},
   "outputs": [
    {
     "name": "stdout",
     "output_type": "stream",
     "text": [
      "Beginning proof of demorgansLawAndToOrBinExplicit\n",
      "Recorded 'presuming' information\n",
      "Presuming proveit.logic.boolean.foldConditionedForallOverBool, proveit.logic.boolean.foldForallOverBool theorems (applied transitively).\n",
      "Presuming previous theorems (applied transitively).\n"
     ]
    },
    {
     "data": {
      "text/html": [
       "<strong id=\"demorgansLawAndToOrBinExplicit\">demorgansLawAndToOrBinExplicit:</strong> <a class=\"ProveItLink\" href=\"../__pv_it/943737cfc7707ce2b4f186a2f4e1661a7897b91b0/expr.ipynb\"><img src=\"../__pv_it/943737cfc7707ce2b4f186a2f4e1661a7897b91b0/expr.png\" style=\"display:inline;vertical-align:middle;\" /></a><br>(see <a class=\"ProveItLink\" href=\"../__pv_it/943737cfc7707ce2b4f186a2f4e1661a7897b91b0/dependencies.ipynb\">dependencies</a>)<br>"
      ],
      "text/plain": [
       "demorgansLawAndToOrBinExplicit: forall_{A, B in BOOLEANS | [not]([not](A) and [not](B))} (A or B)"
      ]
     },
     "execution_count": 2,
     "metadata": {},
     "output_type": "execute_result"
    }
   ],
   "source": [
    "%proving demorgansLawAndToOrBinExplicit presuming [foldForallOverBool, foldConditionedForallOverBool]"
   ]
  },
  {
   "cell_type": "code",
   "execution_count": 3,
   "metadata": {},
   "outputs": [],
   "source": [
    "#%qed"
   ]
  },
  {
   "cell_type": "code",
   "execution_count": null,
   "metadata": {},
   "outputs": [],
   "source": []
  }
 ],
 "metadata": {
  "kernelspec": {
   "display_name": "Python 3",
   "language": "python",
   "name": "python3"
  },
  "language_info": {
   "codemirror_mode": {
    "name": "ipython",
    "version": 3
   },
   "file_extension": ".py",
   "mimetype": "text/x-python",
   "name": "python",
   "nbconvert_exporter": "python",
   "pygments_lexer": "ipython3",
   "version": "3.7.3"
  }
 },
 "nbformat": 4,
 "nbformat_minor": 1
}
