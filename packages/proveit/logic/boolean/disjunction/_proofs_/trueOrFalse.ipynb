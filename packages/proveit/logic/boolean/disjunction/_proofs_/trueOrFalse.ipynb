{
 "cells": [
  {
   "cell_type": "markdown",
   "metadata": {},
   "source": [
    "Proof of <a class=\"ProveItLink\" href=\"../../../../_context_.ipynb\">proveit</a>.<a class=\"ProveItLink\" href=\"../../../_context_.ipynb\">logic</a>.<a class=\"ProveItLink\" href=\"../../_context_.ipynb\">boolean</a>.<a class=\"ProveItLink\" href=\"../_context_.ipynb\">disjunction</a>.<a href=\"../_theorems_.ipynb#trueOrFalse\" class=\"ProveItLink\">trueOrFalse</a> theorem\n",
    "========"
   ]
  },
  {
   "cell_type": "code",
   "execution_count": 1,
   "metadata": {},
   "outputs": [],
   "source": [
    "import proveit\n",
    "from proveit.logic.boolean.disjunction._axioms_ import orTF\n",
    "context = proveit.Context('..') # the theorem's context is in the parent directory"
   ]
  },
  {
   "cell_type": "code",
   "execution_count": 2,
   "metadata": {},
   "outputs": [
    {
     "name": "stdout",
     "output_type": "stream",
     "text": [
      "Beginning proof of trueOrFalse\n",
      "Recorded 'presuming' information\n",
      "trueOrFalse has been proven.  Now simply execute \"%qed\".\n"
     ]
    },
    {
     "data": {
      "text/html": [
       "<strong id=\"trueOrFalse\">trueOrFalse:</strong> <a class=\"ProveItLink\" href=\"../__pv_it/7ee56ac56fe7319585c441261a5a8301695cb6a90/expr.ipynb\"><img src=\"data:image/png;base64,iVBORw0KGgoAAAANSUhEUgAAADUAAAAPBAMAAAC2KZqIAAAAMFBMVEX///8QEBCYmJiqqqrc3Nwy\n",
       "MjLu7u6IiIhUVFS6urp2dnbMzMxEREQiIiJmZmYAAADfOGkeAAAAAXRSTlMAQObYZgAAAHhJREFU\n",
       "GNNjeHsXBO4woAKWAihjH4TiBJMbwCT3A1Q5DpAwewFWOe4DQII3AascQwgQ2zFgl7ODymOTA5oH\n",
       "NhebHNAdHBNwyDFcYEhlwCX3mGERTjlXoE5cchybCnDKcZ9NQJfbBQ/iODDJBwx82bt3D6AG/zYU\n",
       "HgBsMC5BQDKFNgAAAABJRU5ErkJggg==\n",
       "\" style=\"display:inline;vertical-align:middle;\" /></a><br>(see <a class=\"ProveItLink\" href=\"../__pv_it/7ee56ac56fe7319585c441261a5a8301695cb6a90/dependencies.ipynb\">dependencies</a>)<br>"
      ],
      "text/plain": [
       "trueOrFalse: TRUE or FALSE"
      ]
     },
     "execution_count": 2,
     "metadata": {},
     "output_type": "execute_result"
    }
   ],
   "source": [
    "%proving trueOrFalse presuming []"
   ]
  },
  {
   "cell_type": "code",
   "execution_count": 3,
   "metadata": {},
   "outputs": [
    {
     "data": {
      "text/html": [
       "<table><tr><th>&nbsp;</th><th>step type</th><th>requirements</th><th>statement</th></tr>\n",
       "<tr><td>0</td><td>specialization</td><td>1, 2</td><td><span style=\"font-size:20px;\"> <a class=\"ProveItLink\" href=\"../__pv_it/d65c925eb63dbf6fbc1ff9d68490012a90f96f080/proof.ipynb\" style=\"text-decoration: none\">&#x22A2;&nbsp;</a><a class=\"ProveItLink\" href=\"../__pv_it/7ee56ac56fe7319585c441261a5a8301695cb6a90/expr.ipynb\"><img src=\"data:image/png;base64,iVBORw0KGgoAAAANSUhEUgAAADUAAAAPBAMAAAC2KZqIAAAAMFBMVEX///8QEBCYmJiqqqrc3Nwy\n",
       "MjLu7u6IiIhUVFS6urp2dnbMzMxEREQiIiJmZmYAAADfOGkeAAAAAXRSTlMAQObYZgAAAHhJREFU\n",
       "GNNjeHsXBO4woAKWAihjH4TiBJMbwCT3A1Q5DpAwewFWOe4DQII3AascQwgQ2zFgl7ODymOTA5oH\n",
       "NhebHNAdHBNwyDFcYEhlwCX3mGERTjlXoE5cchybCnDKcZ9NQJfbBQ/iODDJBwx82bt3D6AG/zYU\n",
       "HgBsMC5BQDKFNgAAAABJRU5ErkJggg==\n",
       "\" style=\"display:inline;vertical-align:middle;\" /></a></span></td></tr>\n",
       "<tr><td>&nbsp;</td><td colspan=4 style=\"text-align:left\"><span style=\"font-size:20px;\"><a class=\"ProveItLink\" href=\"../../../../__pv_it/2cbe72a7ad6f655694dd697106680215e8489b600/expr.ipynb\"><img src=\"data:image/png;base64,iVBORw0KGgoAAAANSUhEUgAAAA8AAAAOBAMAAAACpFvcAAAALVBMVEX///8QEBBERERUVFS6urqI\n",
       "iIhmZmaqqqrc3Nzu7u6YmJgyMjIiIiLMzMwAAADtIaYWAAAAAXRSTlMAQObYZgAAAFtJREFUCNdj\n",
       "YACBOwxQsA9Kc52bAGG05zVAGAFxDmCaZULdAjBjCsO9ADDDgaEvAUTzGhvbKYCVMDAwbgAxChgY\n",
       "eASANAeQwf0AyJgNxEwvGRia5HYwcOm9TgAA6BoR3jrzwFcAAAAASUVORK5CYII=\n",
       "\" style=\"display:inline;vertical-align:middle;\" /></a> : <a class=\"ProveItLink\" href=\"../__pv_it/7ee56ac56fe7319585c441261a5a8301695cb6a90/expr.ipynb\"><img src=\"data:image/png;base64,iVBORw0KGgoAAAANSUhEUgAAADUAAAAPBAMAAAC2KZqIAAAAMFBMVEX///8QEBCYmJiqqqrc3Nwy\n",
       "MjLu7u6IiIhUVFS6urp2dnbMzMxEREQiIiJmZmYAAADfOGkeAAAAAXRSTlMAQObYZgAAAHhJREFU\n",
       "GNNjeHsXBO4woAKWAihjH4TiBJMbwCT3A1Q5DpAwewFWOe4DQII3AascQwgQ2zFgl7ODymOTA5oH\n",
       "NhebHNAdHBNwyDFcYEhlwCX3mGERTjlXoE5cchybCnDKcZ9NQJfbBQ/iODDJBwx82bt3D6AG/zYU\n",
       "HgBsMC5BQDKFNgAAAABJRU5ErkJggg==\n",
       "\" style=\"display:inline;vertical-align:middle;\" /></a></span></td></tr><tr><td>1</td><td>axiom</td><td></td><td><span style=\"font-size:20px;\"> <a class=\"ProveItLink\" href=\"../../_axioms_.ipynb#eqTrueElim\" style=\"text-decoration: none\">&#x22A2;&nbsp;</a><a class=\"ProveItLink\" href=\"../../__pv_it/3e7bd867633eab3d515d0929d36506bc9b5772e10/expr.ipynb\"><img src=\"data:image/png;base64,iVBORw0KGgoAAAANSUhEUgAAAGgAAAAWBAMAAADeGsQjAAAAMFBMVEX///8QEBC6urrMzMxUVFRm\n",
       "ZmZERETc3NwyMjKqqqp2dnaIiIiYmJgiIiLu7u4AAAAU9Wx4AAAAAXRSTlMAQObYZgAAAUpJREFU\n",
       "OMtjeMBABrgAIk6ToIEZqGMliNFHgiaODwwMZUCaPYEETWf/ATUCPcU6gXg97FO/MzDwLC8vryXB\n",
       "Im7uT0DyW1raLRI06XH+AZLODAzpYG47mGSCe7gAmx4+BebfQEqFga8BxOX5BBZlg0mfV4AyWNPS\n",
       "xNKyoBwmBvavQIqXgfsAiPv0D4omvvgDCPMRoWvi4vIN5LMDvOBUse4qiiautwHYNAGtlwAZ2WAC\n",
       "jugNaSiarNkSsGjiBOKLIEa6E4hkYYhF0eTAeoHBowMINiBrqgTifhBjKjj5nWTYj6yJZwL3B0yb\n",
       "wEGWD/INI8gsvquhYA5M09vQsH8YmtgTfxQwHPvfCjIUpJi1gMHeAElTOAPzZ4YMDOehAh0GBv4D\n",
       "CE1MQPYfbKGHDJ58Y2D3vwPXxOefwFDy9wABTQjARk5Opp8mFiLUAADNR1FAr8G4iQAAAABJRU5E\n",
       "rkJggg==\n",
       "\" style=\"display:inline;vertical-align:middle;\" /></a></span></td></tr>\n",
       "<tr><td>&nbsp;</td><td colspan=4 style-\"text-align:left\"><a class=\"ProveItLink\" href=\"../../_axioms_.ipynb#eqTrueElim\">proveit.logic.boolean.eqTrueElim</a></td></tr><tr><td>2</td><td>axiom</td><td></td><td><span style=\"font-size:20px;\"> <a class=\"ProveItLink\" href=\"../_axioms_.ipynb#orTF\" style=\"text-decoration: none\">&#x22A2;&nbsp;</a><a class=\"ProveItLink\" href=\"../__pv_it/7a5641a953257265a1a49dd035aaef79e0c1ecb40/expr.ipynb\"><img src=\"data:image/png;base64,iVBORw0KGgoAAAANSUhEUgAAAHAAAAAVBAMAAABs93eRAAAAMFBMVEX////c3NwiIiJERESqqqqY\n",
       "mJh2dnZmZmYQEBDu7u4yMjJUVFTMzMyIiIi6uroAAAAs73DqAAAAAXRSTlMAQObYZgAAAQ5JREFU\n",
       "OMtjYCAb8F3AJxuHW+o0A7sSGBigSciCCPYD6OqLwIqVGRhWgng8BRDRB2AOhH0cTC7AYhdYhvcC\n",
       "ssY9IOIussYwXBo5JiBrPAwiNJE1zsCl8RUDskYuAQYGlgJkjcwOODSWoWgEaQJpRmhkK8ChcSmK\n",
       "RpAzDyNLM7CAQ6dqFQisRpbpQ9UIDJh9KBr5GnDY+A9VIxMD5wIUjTwfiNPI7sAWQJzGFlSNjAuY\n",
       "GLA4FZ5cEDKmqBoZ9sSiamRdgMPGdDSNhzVRNeKMjkcQjQkwQa4CWFLWALuN6wGmxmPgJCeAKsgz\n",
       "AZU/A1euYk3An11zccqsxKuPcwFOKWm8GrkFcEox4i067uCSAABseUdXOQ8BeQAAAABJRU5ErkJg\n",
       "gg==\n",
       "\" style=\"display:inline;vertical-align:middle;\" /></a></span></td></tr>\n",
       "<tr><td>&nbsp;</td><td colspan=4 style-\"text-align:left\"><a class=\"ProveItLink\" href=\"../_axioms_.ipynb#orTF\">proveit.logic.boolean.disjunction.orTF</a></td></tr></table>"
      ],
      "text/plain": [
       "\tstep type\trequirements\tstatement\n",
       "0\tspecialization\t1, 2\t|- TRUE or FALSE\n",
       "\tA : TRUE or FALSE\n",
       "1\taxiom\t\t|- forall_{A | A = TRUE} A\n",
       "\tproveit.logic.boolean.eqTrueElim\n",
       "2\taxiom\t\t|- (TRUE or FALSE) = TRUE\n",
       "\tproveit.logic.boolean.disjunction.orTF"
      ]
     },
     "execution_count": 3,
     "metadata": {},
     "output_type": "execute_result"
    }
   ],
   "source": [
    "%qed"
   ]
  },
  {
   "cell_type": "code",
   "execution_count": null,
   "metadata": {},
   "outputs": [],
   "source": []
  }
 ],
 "metadata": {
  "kernelspec": {
   "display_name": "Python 3",
   "language": "python",
   "name": "python3"
  }
 },
 "nbformat": 4,
 "nbformat_minor": 0
}
