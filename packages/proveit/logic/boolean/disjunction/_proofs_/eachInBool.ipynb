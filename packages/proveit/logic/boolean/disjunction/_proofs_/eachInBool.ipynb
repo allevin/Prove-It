{
 "cells": [
  {
   "cell_type": "markdown",
   "metadata": {
    "collapsed": true
   },
   "source": [
    "Proof of <a class=\"ProveItLink\" href=\"../../../../_context_.ipynb\">proveit</a>.<a class=\"ProveItLink\" href=\"../../../_context_.ipynb\">logic</a>.<a class=\"ProveItLink\" href=\"../../_context_.ipynb\">boolean</a>.<a class=\"ProveItLink\" href=\"../_context_.ipynb\">disjunction</a>.<a href=\"../_theorems_.ipynb#eachInBool\" class=\"ProveItLink\">eachInBool</a> theorem\n",
    "========"
   ]
  },
  {
   "cell_type": "code",
   "execution_count": 1,
   "metadata": {},
   "outputs": [],
   "source": [
    "import proveit\n",
    "from proveit import defaults\n",
    "from proveit import varIter\n",
    "from proveit import Lambda, Iter, Indexed\n",
    "from proveit._common_ import A, B, C, D, AA, BB, CC, i, j, k, l, m, n\n",
    "from proveit.logic import Or, TRUE, FALSE, Forall, Implies, Not, inBool, And, Booleans, Equals, Set\n",
    "from proveit.logic._common_ import iterA1m, iterC1n\n",
    "from proveit.number import Naturals, NaturalsPos, Add, Exp, one, LessEq, LesserSequence\n",
    "from proveit.logic.boolean.disjunction._axioms_ import leftInBool, rightInBool, multiDisjunctionDef\n",
    "context = proveit.Context('..') # the theorem's context is in the parent directory"
   ]
  },
  {
   "cell_type": "code",
   "execution_count": 2,
   "metadata": {},
   "outputs": [
    {
     "name": "stdout",
     "output_type": "stream",
     "text": [
      "Beginning proof of eachInBool\n",
      "Recorded 'presuming' information\n",
      "Presuming previous theorems (applied transitively).\n"
     ]
    },
    {
     "data": {
      "text/html": [
       "<strong id=\"eachInBool\">eachInBool:</strong> <a class=\"ProveItLink\" href=\"../__pv_it/cd30baf5ab2620c9803897366acf4394ab8c82330/expr.ipynb\"><img src=\"../__pv_it/cd30baf5ab2620c9803897366acf4394ab8c82330/expr.png\" style=\"display:inline;vertical-align:middle;\" /></a><br>(see <a class=\"ProveItLink\" href=\"../__pv_it/cd30baf5ab2620c9803897366acf4394ab8c82330/dependencies.ipynb\">dependencies</a>)<br>"
      ],
      "text/plain": [
       "eachInBool: forall_{m, n in Naturals} [forall_{A, B, C | (A_(1) or  ...  or A_(m) or B or C_(1) or  ...  or C_(n)) in BOOLEANS} (B in BOOLEANS)]"
      ]
     },
     "execution_count": 2,
     "metadata": {},
     "output_type": "execute_result"
    }
   ],
   "source": [
    "%proving eachInBool presuming []"
   ]
  },
  {
   "cell_type": "code",
   "execution_count": 3,
   "metadata": {},
   "outputs": [
    {
     "data": {
      "text/html": [
       "<strong id=\"defaults.assumptions\">defaults.assumptions:</strong> <a class=\"ProveItLink\" href=\"../__pv_it/76badddd9863d4d27e80a8cd879b800a75f300e60/expr.ipynb\"><img src=\"../__pv_it/76badddd9863d4d27e80a8cd879b800a75f300e60/expr.png\" style=\"display:inline;vertical-align:middle;\" /></a><br>"
      ],
      "text/plain": [
       "defaults.assumptions: (m in Naturals , n in Naturals , (A_(1) or  ...  or A_(m) or B or C_(1) or  ...  or C_(n)) in BOOLEANS)"
      ]
     },
     "execution_count": 3,
     "metadata": {},
     "output_type": "execute_result"
    }
   ],
   "source": [
    "defaults.assumptions = eachInBool.allConditions()"
   ]
  },
  {
   "cell_type": "code",
   "execution_count": 4,
   "metadata": {},
   "outputs": [
    {
     "data": {
      "text/html": [
       "<strong id=\"AAorBorCC\">AAorBorCC:</strong> <a class=\"ProveItLink\" href=\"../__pv_it/eb287319c30f09a8b083fb734372fcc0915ccb530/expr.ipynb\"><img src=\"../__pv_it/eb287319c30f09a8b083fb734372fcc0915ccb530/expr.png\" style=\"display:inline;vertical-align:middle;\" /></a><br>"
      ],
      "text/plain": [
       "AAorBorCC: forall_{C | (A_(1) or  ...  or A_(m) or B or C_(1) or  ...  or C_(n)) in BOOLEANS} (B in BOOLEANS)"
      ]
     },
     "execution_count": 4,
     "metadata": {},
     "output_type": "execute_result"
    }
   ],
   "source": [
    "AAorBorCC = eachInBool.instanceExpr.instanceExpr.instanceExpr.instanceExpr"
   ]
  },
  {
   "cell_type": "code",
   "execution_count": 5,
   "metadata": {},
   "outputs": [
    {
     "data": {
      "text/html": [
       "<a class=\"ProveItLink\" href=\"../__pv_it/fae60bbd6e1b6d213adcfaf3cd3db1b1058779bb0/expr.ipynb\"><img src=\"../__pv_it/fae60bbd6e1b6d213adcfaf3cd3db1b1058779bb0/expr.png\" style=\"display:inline;vertical-align:middle;\" /></a>"
      ],
      "text/plain": [
       "m -> [forall_{n in Naturals} [forall_{A, B, C | (A_(1) or  ...  or A_(m) or B or C_(1) or  ...  or C_(n)) in BOOLEANS} (B in BOOLEANS)]] | m in Naturals"
      ]
     },
     "execution_count": 5,
     "metadata": {},
     "output_type": "execute_result"
    }
   ],
   "source": [
    "eachInBool.subExpr(1)"
   ]
  },
  {
   "cell_type": "code",
   "execution_count": 6,
   "metadata": {},
   "outputs": [
    {
     "data": {
      "text/html": [
       "<strong id=\"cond\">cond:</strong> <a class=\"ProveItLink\" href=\"../__pv_it/f1dbf9b2c5d08bf1747a9d1083b7abe0a39348f40/expr.ipynb\"><img src=\"../__pv_it/f1dbf9b2c5d08bf1747a9d1083b7abe0a39348f40/expr.png\" style=\"display:inline;vertical-align:middle;\" /></a><br>"
      ],
      "text/plain": [
       "cond: ((A_(1) or  ...  or A_(m) or B or C_(1) or  ...  or C_(n)) in BOOLEANS)"
      ]
     },
     "execution_count": 6,
     "metadata": {},
     "output_type": "execute_result"
    }
   ],
   "source": [
    "cond = AAorBorCC.allConditions()"
   ]
  },
  {
   "cell_type": "code",
   "execution_count": 7,
   "metadata": {},
   "outputs": [
    {
     "data": {
      "text/html": [
       "<table><tr><th>&nbsp;</th><th>core type</th><th>sub-expressions</th><th>expression</th></tr>\n",
       "<tr><td>0</td><td>Operation</td><td>operator:&nbsp;16<br>operand:&nbsp;1<br></td><td><a class=\"ProveItLink\" href=\"../__pv_it/cd30baf5ab2620c9803897366acf4394ab8c82330/expr.ipynb\"><img src=\"../__pv_it/cd30baf5ab2620c9803897366acf4394ab8c82330/expr.png\" style=\"display:inline;vertical-align:middle;\" /></a></td></tr>\n",
       "<tr><td>1</td><td>Lambda</td><td>parameter:&nbsp;49<br>body:&nbsp;2<br>conditions:&nbsp;3<br></td><td><a class=\"ProveItLink\" href=\"../__pv_it/fae60bbd6e1b6d213adcfaf3cd3db1b1058779bb0/expr.ipynb\"><img src=\"../__pv_it/fae60bbd6e1b6d213adcfaf3cd3db1b1058779bb0/expr.png\" style=\"display:inline;vertical-align:middle;\" /></a></td></tr>\n",
       "<tr><td>2</td><td>Operation</td><td>operator:&nbsp;16<br>operand:&nbsp;4<br></td><td><a class=\"ProveItLink\" href=\"../__pv_it/a218ff6869558eb3b16630763570cb07888de0400/expr.ipynb\"><img src=\"../__pv_it/a218ff6869558eb3b16630763570cb07888de0400/expr.png\" style=\"display:inline;vertical-align:middle;\" /></a></td></tr>\n",
       "<tr><td>3</td><td>ExprList</td><td>5</td><td><a class=\"ProveItLink\" href=\"../__pv_it/7cb247012d84939dce55950214131a5e1ad31bd80/expr.ipynb\"><img src=\"../__pv_it/7cb247012d84939dce55950214131a5e1ad31bd80/expr.png\" style=\"display:inline;vertical-align:middle;\" /></a></td></tr>\n",
       "<tr><td>4</td><td>Lambda</td><td>parameter:&nbsp;51<br>body:&nbsp;6<br>conditions:&nbsp;7<br></td><td><a class=\"ProveItLink\" href=\"../__pv_it/415b1413cde8a85c94065e4ffc0ffb6add7bd3580/expr.ipynb\"><img src=\"../__pv_it/415b1413cde8a85c94065e4ffc0ffb6add7bd3580/expr.png\" style=\"display:inline;vertical-align:middle;\" /></a></td></tr>\n",
       "<tr><td>5</td><td>Operation</td><td>operator:&nbsp;41<br>operands:&nbsp;8<br></td><td><a class=\"ProveItLink\" href=\"../__pv_it/314191c49d4fb1dc3ec43a24b93dd83cc714f5b40/expr.ipynb\"><img src=\"../__pv_it/314191c49d4fb1dc3ec43a24b93dd83cc714f5b40/expr.png\" style=\"display:inline;vertical-align:middle;\" /></a></td></tr>\n",
       "<tr><td>6</td><td>Operation</td><td>operator:&nbsp;16<br>operand:&nbsp;9<br></td><td><a class=\"ProveItLink\" href=\"../__pv_it/bc458719e71709bef5504015436bf088044283a70/expr.ipynb\"><img src=\"../__pv_it/bc458719e71709bef5504015436bf088044283a70/expr.png\" style=\"display:inline;vertical-align:middle;\" /></a></td></tr>\n",
       "<tr><td>7</td><td>ExprList</td><td>10</td><td><a class=\"ProveItLink\" href=\"../__pv_it/ed66b2cc061e768c20c4942f3208ba2ba01bd3b00/expr.ipynb\"><img src=\"../__pv_it/ed66b2cc061e768c20c4942f3208ba2ba01bd3b00/expr.png\" style=\"display:inline;vertical-align:middle;\" /></a></td></tr>\n",
       "<tr><td>8</td><td>ExprList</td><td>49, 14</td><td><a class=\"ProveItLink\" href=\"../__pv_it/f6c6b9676b93b7842332262816607614f9fdd76f0/expr.ipynb\"><img src=\"../__pv_it/f6c6b9676b93b7842332262816607614f9fdd76f0/expr.png\" style=\"display:inline;vertical-align:middle;\" /></a></td></tr>\n",
       "<tr><td>9</td><td>Lambda</td><td>parameter:&nbsp;36<br>body:&nbsp;11<br></td><td><a class=\"ProveItLink\" href=\"../__pv_it/4521a93e84b98149796cfd4557451f8a6ba8197d0/expr.ipynb\"><img src=\"../__pv_it/4521a93e84b98149796cfd4557451f8a6ba8197d0/expr.png\" style=\"display:inline;vertical-align:middle;\" /></a></td></tr>\n",
       "<tr><td>10</td><td>Operation</td><td>operator:&nbsp;41<br>operands:&nbsp;12<br></td><td><a class=\"ProveItLink\" href=\"../__pv_it/cc0639f23e16bb028ce58985461d7066f25b755a0/expr.ipynb\"><img src=\"../__pv_it/cc0639f23e16bb028ce58985461d7066f25b755a0/expr.png\" style=\"display:inline;vertical-align:middle;\" /></a></td></tr>\n",
       "<tr><td>11</td><td>Operation</td><td>operator:&nbsp;16<br>operand:&nbsp;13<br></td><td><a class=\"ProveItLink\" href=\"../__pv_it/b3ec5aa6b21dcc3e08c404cf1f59ff58b62356f10/expr.ipynb\"><img src=\"../__pv_it/b3ec5aa6b21dcc3e08c404cf1f59ff58b62356f10/expr.png\" style=\"display:inline;vertical-align:middle;\" /></a></td></tr>\n",
       "<tr><td>12</td><td>ExprList</td><td>51, 14</td><td><a class=\"ProveItLink\" href=\"../__pv_it/6a21009465dbf287ed5daf8f64172c3077c4beb40/expr.ipynb\"><img src=\"../__pv_it/6a21009465dbf287ed5daf8f64172c3077c4beb40/expr.png\" style=\"display:inline;vertical-align:middle;\" /></a></td></tr>\n",
       "<tr><td>13</td><td>Lambda</td><td>parameter:&nbsp;28<br>body:&nbsp;15<br></td><td><a class=\"ProveItLink\" href=\"../__pv_it/b7c827f8a3f7a473b3a56c3bbb1628ab95fa62bb0/expr.ipynb\"><img src=\"../__pv_it/b7c827f8a3f7a473b3a56c3bbb1628ab95fa62bb0/expr.png\" style=\"display:inline;vertical-align:middle;\" /></a></td></tr>\n",
       "<tr><td>14</td><td>Literal</td><td></td><td><a class=\"ProveItLink\" href=\"../../../../number/sets/integer/__pv_it/4434d1ec6afb2b8deec87ded0866b923feb9d6e60/expr.ipynb\"><img src=\"../../../../number/sets/integer/__pv_it/4434d1ec6afb2b8deec87ded0866b923feb9d6e60/expr.png\" style=\"display:inline;vertical-align:middle;\" /></a></td></tr>\n",
       "<tr><td>15</td><td>Operation</td><td>operator:&nbsp;16<br>operand:&nbsp;17<br></td><td><a class=\"ProveItLink\" href=\"../__pv_it/eb287319c30f09a8b083fb734372fcc0915ccb530/expr.ipynb\"><img src=\"../__pv_it/eb287319c30f09a8b083fb734372fcc0915ccb530/expr.png\" style=\"display:inline;vertical-align:middle;\" /></a></td></tr>\n",
       "<tr><td>16</td><td>Literal</td><td></td><td><a class=\"ProveItLink\" href=\"../../quantification/universal/__pv_it/265f8c02ac1094d56e0e6410a1c1fd3500dc9f540/expr.ipynb\"><img src=\"../../quantification/universal/__pv_it/265f8c02ac1094d56e0e6410a1c1fd3500dc9f540/expr.png\" style=\"display:inline;vertical-align:middle;\" /></a></td></tr>\n",
       "<tr><td>17</td><td>Lambda</td><td>parameter:&nbsp;38<br>body:&nbsp;18<br>conditions:&nbsp;19<br></td><td><a class=\"ProveItLink\" href=\"../__pv_it/e10690bd31dda36d438ec09b4a3c10471842d6520/expr.ipynb\"><img src=\"../__pv_it/e10690bd31dda36d438ec09b4a3c10471842d6520/expr.png\" style=\"display:inline;vertical-align:middle;\" /></a></td></tr>\n",
       "<tr><td>18</td><td>Operation</td><td>operator:&nbsp;41<br>operands:&nbsp;20<br></td><td><a class=\"ProveItLink\" href=\"../__pv_it/fe5c91c77f0659f9ea07a2e3257797875d6868370/expr.ipynb\"><img src=\"../__pv_it/fe5c91c77f0659f9ea07a2e3257797875d6868370/expr.png\" style=\"display:inline;vertical-align:middle;\" /></a></td></tr>\n",
       "<tr><td>19</td><td>ExprList</td><td>21</td><td><a class=\"ProveItLink\" href=\"../__pv_it/f1dbf9b2c5d08bf1747a9d1083b7abe0a39348f40/expr.ipynb\"><img src=\"../__pv_it/f1dbf9b2c5d08bf1747a9d1083b7abe0a39348f40/expr.png\" style=\"display:inline;vertical-align:middle;\" /></a></td></tr>\n",
       "<tr><td>20</td><td>ExprList</td><td>28, 24</td><td><a class=\"ProveItLink\" href=\"../__pv_it/a48c7b147743818b5ca3947ec9fe7eafe3b612ff0/expr.ipynb\"><img src=\"../__pv_it/a48c7b147743818b5ca3947ec9fe7eafe3b612ff0/expr.png\" style=\"display:inline;vertical-align:middle;\" /></a></td></tr>\n",
       "<tr><td>21</td><td>Operation</td><td>operator:&nbsp;41<br>operands:&nbsp;22<br></td><td><a class=\"ProveItLink\" href=\"../__pv_it/c6389b2b273e83fa59e153467406174df1a03b110/expr.ipynb\"><img src=\"../__pv_it/c6389b2b273e83fa59e153467406174df1a03b110/expr.png\" style=\"display:inline;vertical-align:middle;\" /></a></td></tr>\n",
       "<tr><td>22</td><td>ExprList</td><td>23, 24</td><td><a class=\"ProveItLink\" href=\"../__pv_it/dee9a247207266e39601c918f4e4695d64181ce00/expr.ipynb\"><img src=\"../__pv_it/dee9a247207266e39601c918f4e4695d64181ce00/expr.png\" style=\"display:inline;vertical-align:middle;\" /></a></td></tr>\n",
       "<tr><td>23</td><td>Operation</td><td>operator:&nbsp;25<br>operands:&nbsp;26<br></td><td><a class=\"ProveItLink\" href=\"../__pv_it/8fed495c36fc8f65920d84a04db3ad9808da7bf80/expr.ipynb\"><img src=\"../__pv_it/8fed495c36fc8f65920d84a04db3ad9808da7bf80/expr.png\" style=\"display:inline;vertical-align:middle;\" /></a></td></tr>\n",
       "<tr><td>24</td><td>Literal</td><td></td><td><a class=\"ProveItLink\" href=\"../../__pv_it/46271c8230be96415d662709611f4ed2279d702b0/expr.ipynb\"><img src=\"../../__pv_it/46271c8230be96415d662709611f4ed2279d702b0/expr.png\" style=\"display:inline;vertical-align:middle;\" /></a></td></tr>\n",
       "<tr><td>25</td><td>Literal</td><td></td><td><a class=\"ProveItLink\" href=\"../__pv_it/087d0b4ded7c7e5bf3bba05ecb616d7a8051ff650/expr.ipynb\"><img src=\"../__pv_it/087d0b4ded7c7e5bf3bba05ecb616d7a8051ff650/expr.png\" style=\"display:inline;vertical-align:middle;\" /></a></td></tr>\n",
       "<tr><td>26</td><td>ExprList</td><td>27, 28, 29</td><td><a class=\"ProveItLink\" href=\"../__pv_it/c591e73c6218416461470b829ac48a15003401da0/expr.ipynb\"><img src=\"../__pv_it/c591e73c6218416461470b829ac48a15003401da0/expr.png\" style=\"display:inline;vertical-align:middle;\" /></a></td></tr>\n",
       "<tr><td>27</td><td>Iter</td><td>lambda_map:&nbsp;30<br></td><td><a class=\"ProveItLink\" href=\"../../../__pv_it/0e3205cfbcb0f55e1cf12245893bd5c9efd4b3000/expr.ipynb\"><img src=\"../../../__pv_it/0e3205cfbcb0f55e1cf12245893bd5c9efd4b3000/expr.png\" style=\"display:inline;vertical-align:middle;\" /></a></td></tr>\n",
       "<tr><td>28</td><td>Variable</td><td></td><td><a class=\"ProveItLink\" href=\"../../../../__pv_it/077b2ff79244fb4582cbe22c6e3356fa92a52f2f0/expr.ipynb\"><img src=\"../../../../__pv_it/077b2ff79244fb4582cbe22c6e3356fa92a52f2f0/expr.png\" style=\"display:inline;vertical-align:middle;\" /></a></td></tr>\n",
       "<tr><td>29</td><td>Iter</td><td>lambda_map:&nbsp;31<br></td><td><a class=\"ProveItLink\" href=\"../../../__pv_it/560fd3804a2344528af5718f318fae1dd658419f0/expr.ipynb\"><img src=\"../../../__pv_it/560fd3804a2344528af5718f318fae1dd658419f0/expr.png\" style=\"display:inline;vertical-align:middle;\" /></a></td></tr>\n",
       "<tr><td>30</td><td>Lambda</td><td>parameter:&nbsp;44<br>body:&nbsp;32<br>conditions:&nbsp;33<br></td><td><a class=\"ProveItLink\" href=\"../../../__pv_it/e3147aef4e5e78d7022002c4a0c6f4d6f6349a190/expr.ipynb\"><img src=\"../../../__pv_it/e3147aef4e5e78d7022002c4a0c6f4d6f6349a190/expr.png\" style=\"display:inline;vertical-align:middle;\" /></a></td></tr>\n",
       "<tr><td>31</td><td>Lambda</td><td>parameter:&nbsp;44<br>body:&nbsp;34<br>conditions:&nbsp;35<br></td><td><a class=\"ProveItLink\" href=\"../../../__pv_it/f9b4f4c2b0251310e78676dc2838d938435d7c2c0/expr.ipynb\"><img src=\"../../../__pv_it/f9b4f4c2b0251310e78676dc2838d938435d7c2c0/expr.png\" style=\"display:inline;vertical-align:middle;\" /></a></td></tr>\n",
       "<tr><td>32</td><td>Indexed</td><td>var:&nbsp;36<br>index:&nbsp;44<br>base:&nbsp;\"1\"<br></td><td><a class=\"ProveItLink\" href=\"../../../__pv_it/f7efed8b847964fa6806d27b3ef33e1a2caedcd10/expr.ipynb\"><img src=\"../../../__pv_it/f7efed8b847964fa6806d27b3ef33e1a2caedcd10/expr.png\" style=\"display:inline;vertical-align:middle;\" /></a></td></tr>\n",
       "<tr><td>33</td><td>ExprList</td><td>37</td><td><a class=\"ProveItLink\" href=\"../../../__pv_it/094072631fbee72e9d95d6fc68862857ad19da280/expr.ipynb\"><img src=\"../../../__pv_it/094072631fbee72e9d95d6fc68862857ad19da280/expr.png\" style=\"display:inline;vertical-align:middle;\" /></a></td></tr>\n",
       "<tr><td>34</td><td>Indexed</td><td>var:&nbsp;38<br>index:&nbsp;44<br>base:&nbsp;\"1\"<br></td><td><a class=\"ProveItLink\" href=\"../../../__pv_it/6802a6fc5f9d96c0a3833d192b07fb7099464c590/expr.ipynb\"><img src=\"../../../__pv_it/6802a6fc5f9d96c0a3833d192b07fb7099464c590/expr.png\" style=\"display:inline;vertical-align:middle;\" /></a></td></tr>\n",
       "<tr><td>35</td><td>ExprList</td><td>39</td><td><a class=\"ProveItLink\" href=\"../../../__pv_it/402a5478ef8a2302e8fde01bb9f1aebc7fd02aae0/expr.ipynb\"><img src=\"../../../__pv_it/402a5478ef8a2302e8fde01bb9f1aebc7fd02aae0/expr.png\" style=\"display:inline;vertical-align:middle;\" /></a></td></tr>\n",
       "<tr><td>36</td><td>Variable</td><td></td><td><a class=\"ProveItLink\" href=\"../../../../__pv_it/eb438fefc4bd0ac977777d6dfd3e8a72dfbedbd50/expr.ipynb\"><img src=\"../../../../__pv_it/eb438fefc4bd0ac977777d6dfd3e8a72dfbedbd50/expr.png\" style=\"display:inline;vertical-align:middle;\" /></a></td></tr>\n",
       "<tr><td>37</td><td>Operation</td><td>operator:&nbsp;41<br>operands:&nbsp;40<br></td><td><a class=\"ProveItLink\" href=\"../../../__pv_it/298e55d884e9713a13de42f2b171d03bca7bcd630/expr.ipynb\"><img src=\"../../../__pv_it/298e55d884e9713a13de42f2b171d03bca7bcd630/expr.png\" style=\"display:inline;vertical-align:middle;\" /></a></td></tr>\n",
       "<tr><td>38</td><td>Variable</td><td></td><td><a class=\"ProveItLink\" href=\"../../../../__pv_it/9242e69d4f2c65d04fc0527b82418c7c22c6da370/expr.ipynb\"><img src=\"../../../../__pv_it/9242e69d4f2c65d04fc0527b82418c7c22c6da370/expr.png\" style=\"display:inline;vertical-align:middle;\" /></a></td></tr>\n",
       "<tr><td>39</td><td>Operation</td><td>operator:&nbsp;41<br>operands:&nbsp;42<br></td><td><a class=\"ProveItLink\" href=\"../../../__pv_it/25e1c091fcc35c1d2ec325a78f02caf7bb5da1150/expr.ipynb\"><img src=\"../../../__pv_it/25e1c091fcc35c1d2ec325a78f02caf7bb5da1150/expr.png\" style=\"display:inline;vertical-align:middle;\" /></a></td></tr>\n",
       "<tr><td>40</td><td>ExprList</td><td>44, 43</td><td><a class=\"ProveItLink\" href=\"../../../__pv_it/67d77cb90f9079e407c6afc31009f205515a203b0/expr.ipynb\"><img src=\"../../../__pv_it/67d77cb90f9079e407c6afc31009f205515a203b0/expr.png\" style=\"display:inline;vertical-align:middle;\" /></a></td></tr>\n",
       "<tr><td>41</td><td>Literal</td><td></td><td><a class=\"ProveItLink\" href=\"../../../set_theory/membership/__pv_it/088cbc857536a28d4119ad9639a84270ccb0545d0/expr.ipynb\"><img src=\"../../../set_theory/membership/__pv_it/088cbc857536a28d4119ad9639a84270ccb0545d0/expr.png\" style=\"display:inline;vertical-align:middle;\" /></a></td></tr>\n",
       "<tr><td>42</td><td>ExprList</td><td>44, 45</td><td><a class=\"ProveItLink\" href=\"../../../__pv_it/0f1b0519fe0239ccd22ac46e6b32196507794f3e0/expr.ipynb\"><img src=\"../../../__pv_it/0f1b0519fe0239ccd22ac46e6b32196507794f3e0/expr.png\" style=\"display:inline;vertical-align:middle;\" /></a></td></tr>\n",
       "<tr><td>43</td><td>Operation</td><td>operator:&nbsp;47<br>operands:&nbsp;46<br></td><td><a class=\"ProveItLink\" href=\"../../../__pv_it/d9e0c765444de95fdd882cd46be0f0774de45ecb0/expr.ipynb\"><img src=\"../../../__pv_it/d9e0c765444de95fdd882cd46be0f0774de45ecb0/expr.png\" style=\"display:inline;vertical-align:middle;\" /></a></td></tr>\n",
       "<tr><td>44</td><td>Variable</td><td></td><td><a class=\"ProveItLink\" href=\"../../../__pv_it/5144cf74ae6a683b49b974f1b9302b432abf7e930/expr.ipynb\"><img src=\"../../../__pv_it/5144cf74ae6a683b49b974f1b9302b432abf7e930/expr.png\" style=\"display:inline;vertical-align:middle;\" /></a></td></tr>\n",
       "<tr><td>45</td><td>Operation</td><td>operator:&nbsp;47<br>operands:&nbsp;48<br></td><td><a class=\"ProveItLink\" href=\"../../../__pv_it/05f4999a19662576f3ed95283dfd153383abfffd0/expr.ipynb\"><img src=\"../../../__pv_it/05f4999a19662576f3ed95283dfd153383abfffd0/expr.png\" style=\"display:inline;vertical-align:middle;\" /></a></td></tr>\n",
       "<tr><td>46</td><td>ExprList</td><td>50, 49</td><td><a class=\"ProveItLink\" href=\"../../../__pv_it/a3211271fb238284ffae1891aa37177776892f770/expr.ipynb\"><img src=\"../../../__pv_it/a3211271fb238284ffae1891aa37177776892f770/expr.png\" style=\"display:inline;vertical-align:middle;\" /></a></td></tr>\n",
       "<tr><td>47</td><td>Literal</td><td></td><td><a class=\"ProveItLink\" href=\"../../../../number/sets/integer/__pv_it/6e5362d7b256561b61a1b512bf7dc507dcde5dcf0/expr.ipynb\"><img src=\"../../../../number/sets/integer/__pv_it/6e5362d7b256561b61a1b512bf7dc507dcde5dcf0/expr.png\" style=\"display:inline;vertical-align:middle;\" /></a></td></tr>\n",
       "<tr><td>48</td><td>ExprList</td><td>50, 51</td><td><a class=\"ProveItLink\" href=\"../../../__pv_it/89589ca0c18a303e10b8ddd5f3cf5a921c343dbd0/expr.ipynb\"><img src=\"../../../__pv_it/89589ca0c18a303e10b8ddd5f3cf5a921c343dbd0/expr.png\" style=\"display:inline;vertical-align:middle;\" /></a></td></tr>\n",
       "<tr><td>49</td><td>Variable</td><td></td><td><a class=\"ProveItLink\" href=\"../../../../__pv_it/78af03acba5349fd70398a32ce59bae1da52f0870/expr.ipynb\"><img src=\"../../../../__pv_it/78af03acba5349fd70398a32ce59bae1da52f0870/expr.png\" style=\"display:inline;vertical-align:middle;\" /></a></td></tr>\n",
       "<tr><td>50</td><td>Literal</td><td></td><td><a class=\"ProveItLink\" href=\"../../../../number/numeral/__pv_it/9be8badea4c35b9724062cecc501d17a3158d1d20/expr.ipynb\"><img src=\"../../../../number/numeral/__pv_it/9be8badea4c35b9724062cecc501d17a3158d1d20/expr.png\" style=\"display:inline;vertical-align:middle;\" /></a></td></tr>\n",
       "<tr><td>51</td><td>Variable</td><td></td><td><a class=\"ProveItLink\" href=\"../../../../__pv_it/39dbcd3ca0390345b51c6ef7785756419e2c14390/expr.ipynb\"><img src=\"../../../../__pv_it/39dbcd3ca0390345b51c6ef7785756419e2c14390/expr.png\" style=\"display:inline;vertical-align:middle;\" /></a></td></tr>\n",
       "</table>\n"
      ],
      "text/plain": [
       "0. forall_{m, n in Naturals} [forall_{A, B, C | (A_(1) or  ...  or A_(m) or B or C_(1) or  ...  or C_(n)) in BOOLEANS} (B in BOOLEANS)]\n",
       "   core type: Operation\n",
       "   operator: 16\n",
       "   operand: 1\n",
       "1. m -> [forall_{n in Naturals} [forall_{A, B, C | (A_(1) or  ...  or A_(m) or B or C_(1) or  ...  or C_(n)) in BOOLEANS} (B in BOOLEANS)]] | m in Naturals\n",
       "   core type: Lambda\n",
       "   parameter: 49\n",
       "   body: 2\n",
       "   conditions: 3\\n2. forall_{n in Naturals} [forall_{A, B, C | (A_(1) or  ...  or A_(m) or B or C_(1) or  ...  or C_(n)) in BOOLEANS} (B in BOOLEANS)]\n",
       "   core type: Operation\n",
       "   operator: 16\n",
       "   operand: 4\n",
       "3. (m in Naturals)\n",
       "   core type: ExprList\n",
       "   sub-expressions: 5\n",
       "4. n -> [forall_{A, B, C | (A_(1) or  ...  or A_(m) or B or C_(1) or  ...  or C_(n)) in BOOLEANS} (B in BOOLEANS)] | n in Naturals\n",
       "   core type: Lambda\n",
       "   parameter: 51\n",
       "   body: 6\n",
       "   conditions: 7\\n5. m in Naturals\n",
       "   core type: Operation\n",
       "   operator: 41\n",
       "   operands: 8\n",
       "6. forall_{A, B, C | (A_(1) or  ...  or A_(m) or B or C_(1) or  ...  or C_(n)) in BOOLEANS} (B in BOOLEANS)\n",
       "   core type: Operation\n",
       "   operator: 16\n",
       "   operand: 9\n",
       "7. (n in Naturals)\n",
       "   core type: ExprList\n",
       "   sub-expressions: 10\n",
       "8. (m , Naturals)\n",
       "   core type: ExprList\n",
       "   sub-expressions: 49, 14\n",
       "9. A -> [forall_{B, C | (A_(1) or  ...  or A_(m) or B or C_(1) or  ...  or C_(n)) in BOOLEANS} (B in BOOLEANS)]\n",
       "   core type: Lambda\n",
       "   parameter: 36\n",
       "   body: 11\n",
       "10. n in Naturals\n",
       "    core type: Operation\n",
       "    operator: 41\n",
       "    operands: 12\n",
       "11. forall_{B, C | (A_(1) or  ...  or A_(m) or B or C_(1) or  ...  or C_(n)) in BOOLEANS} (B in BOOLEANS)\n",
       "    core type: Operation\n",
       "    operator: 16\n",
       "    operand: 13\n",
       "12. (n , Naturals)\n",
       "    core type: ExprList\n",
       "    sub-expressions: 51, 14\n",
       "13. B -> [forall_{C | (A_(1) or  ...  or A_(m) or B or C_(1) or  ...  or C_(n)) in BOOLEANS} (B in BOOLEANS)]\n",
       "    core type: Lambda\n",
       "    parameter: 28\n",
       "    body: 15\n",
       "14. Naturals\n",
       "    core type: Literal\n",
       "    sub-expressions: \n",
       "15. forall_{C | (A_(1) or  ...  or A_(m) or B or C_(1) or  ...  or C_(n)) in BOOLEANS} (B in BOOLEANS)\n",
       "    core type: Operation\n",
       "    operator: 16\n",
       "    operand: 17\n",
       "16. forall\n",
       "    core type: Literal\n",
       "    sub-expressions: \n",
       "17. C -> (B in BOOLEANS) | (A_(1) or  ...  or A_(m) or B or C_(1) or  ...  or C_(n)) in BOOLEANS\n",
       "    core type: Lambda\n",
       "    parameter: 38\n",
       "    body: 18\n",
       "    conditions: 19\\n18. B in BOOLEANS\n",
       "    core type: Operation\n",
       "    operator: 41\n",
       "    operands: 20\n",
       "19. ((A_(1) or  ...  or A_(m) or B or C_(1) or  ...  or C_(n)) in BOOLEANS)\n",
       "    core type: ExprList\n",
       "    sub-expressions: 21\n",
       "20. (B , BOOLEANS)\n",
       "    core type: ExprList\n",
       "    sub-expressions: 28, 24\n",
       "21. (A_(1) or  ...  or A_(m) or B or C_(1) or  ...  or C_(n)) in BOOLEANS\n",
       "    core type: Operation\n",
       "    operator: 41\n",
       "    operands: 22\n",
       "22. (A_(1) or  ...  or A_(m) or B or C_(1) or  ...  or C_(n) , BOOLEANS)\n",
       "    core type: ExprList\n",
       "    sub-expressions: 23, 24\n",
       "23. A_(1) or  ...  or A_(m) or B or C_(1) or  ...  or C_(n)\n",
       "    core type: Operation\n",
       "    operator: 25\n",
       "    operands: 26\n",
       "24. BOOLEANS\n",
       "    core type: Literal\n",
       "    sub-expressions: \n",
       "25. or\n",
       "    core type: Literal\n",
       "    sub-expressions: \n",
       "26. (A_(1) ,  ...  , A_(m) , B , C_(1) ,  ...  , C_(n))\n",
       "    core type: ExprList\n",
       "    sub-expressions: 27, 28, 29\n",
       "27. A_(1),...,A_(m)\n",
       "    core type: Iter\n",
       "    lambda_map: 30\n",
       "    start_index: 50\n",
       "    end_index: 49\n",
       "28. B\n",
       "    core type: Variable\n",
       "    sub-expressions: \n",
       "29. C_(1),...,C_(n)\n",
       "    core type: Iter\n",
       "    lambda_map: 31\n",
       "    start_index: 50\n",
       "    end_index: 51\n",
       "30. _x_ -> A__x_ | _x_ in {1...m}\n",
       "    core type: Lambda\n",
       "    parameter: 44\n",
       "    body: 32\n",
       "    conditions: 33\\n31. _x_ -> C__x_ | _x_ in {1...n}\n",
       "    core type: Lambda\n",
       "    parameter: 44\n",
       "    body: 34\n",
       "    conditions: 35\\n32. A__x_\n",
       "    core type: Indexed\n",
       "    var: 36\n",
       "    index: 44\n",
       "    base: \"1\"\n",
       "33. (_x_ in {1...m})\n",
       "    core type: ExprList\n",
       "    sub-expressions: 37\n",
       "34. C__x_\n",
       "    core type: Indexed\n",
       "    var: 38\n",
       "    index: 44\n",
       "    base: \"1\"\n",
       "35. (_x_ in {1...n})\n",
       "    core type: ExprList\n",
       "    sub-expressions: 39\n",
       "36. A\n",
       "    core type: Variable\n",
       "    sub-expressions: \n",
       "37. _x_ in {1...m}\n",
       "    core type: Operation\n",
       "    operator: 41\n",
       "    operands: 40\n",
       "38. C\n",
       "    core type: Variable\n",
       "    sub-expressions: \n",
       "39. _x_ in {1...n}\n",
       "    core type: Operation\n",
       "    operator: 41\n",
       "    operands: 42\n",
       "40. (_x_ , {1...m})\n",
       "    core type: ExprList\n",
       "    sub-expressions: 44, 43\n",
       "41. in\n",
       "    core type: Literal\n",
       "    sub-expressions: \n",
       "42. (_x_ , {1...n})\n",
       "    core type: ExprList\n",
       "    sub-expressions: 44, 45\n",
       "43. {1...m}\n",
       "    core type: Operation\n",
       "    operator: 47\n",
       "    operands: 46\n",
       "44. _x_\n",
       "    core type: Variable\n",
       "    sub-expressions: \n",
       "45. {1...n}\n",
       "    core type: Operation\n",
       "    operator: 47\n",
       "    operands: 48\n",
       "46. (1 , m)\n",
       "    core type: ExprList\n",
       "    sub-expressions: 50, 49\n",
       "47. Interval\n",
       "    core type: Literal\n",
       "    sub-expressions: \n",
       "48. (1 , n)\n",
       "    core type: ExprList\n",
       "    sub-expressions: 50, 51\n",
       "49. m\n",
       "    core type: Variable\n",
       "    sub-expressions: \n",
       "50. 1\n",
       "    core type: Literal\n",
       "    sub-expressions: \n",
       "51. n\n",
       "    core type: Variable\n",
       "    sub-expressions: "
      ]
     },
     "execution_count": 7,
     "metadata": {},
     "output_type": "execute_result"
    }
   ],
   "source": [
    "eachInBool.exprInfo()"
   ]
  },
  {
   "cell_type": "code",
   "execution_count": 8,
   "metadata": {},
   "outputs": [
    {
     "data": {
      "text/html": [
       "<strong id=\"BeqT_or_BeqF\">BeqT_or_BeqF:</strong> <span style=\"font-size:20px;\"><a class=\"ProveItLink\" href=\"../__pv_it/2c2e947402f53b9e11cd7769e1b5b3378595750e0/expr.ipynb\"><img src=\"../__pv_it/2c2e947402f53b9e11cd7769e1b5b3378595750e0/expr.png\" style=\"display:inline;vertical-align:middle;\" /></a> &#x22A2;&nbsp;<a class=\"ProveItLink\" href=\"../__pv_it/53e7675dc0ae4fe667f1e55f6ab6179ee49ff97e0/expr.ipynb\"><img src=\"../__pv_it/53e7675dc0ae4fe667f1e55f6ab6179ee49ff97e0/expr.png\" style=\"display:inline;vertical-align:middle;\" /></a></span><br>"
      ],
      "text/plain": [
       "BeqT_or_BeqF: {B in BOOLEANS} |= B or [not](B)"
      ]
     },
     "execution_count": 8,
     "metadata": {},
     "output_type": "execute_result"
    }
   ],
   "source": [
    "BeqT_or_BeqF = inBool(B).unfold([inBool(B)])"
   ]
  },
  {
   "cell_type": "code",
   "execution_count": 9,
   "metadata": {},
   "outputs": [
    {
     "data": {
      "text/html": [
       "<strong id=\"BeqT\">BeqT:</strong> <a class=\"ProveItLink\" href=\"../../../../__pv_it/077b2ff79244fb4582cbe22c6e3356fa92a52f2f0/expr.ipynb\"><img src=\"../../../../__pv_it/077b2ff79244fb4582cbe22c6e3356fa92a52f2f0/expr.png\" style=\"display:inline;vertical-align:middle;\" /></a><br>"
      ],
      "text/plain": [
       "BeqT: B"
      ]
     },
     "execution_count": 9,
     "metadata": {},
     "output_type": "execute_result"
    }
   ],
   "source": [
    "BeqT = BeqT_or_BeqF.operands[0]"
   ]
  },
  {
   "cell_type": "code",
   "execution_count": 10,
   "metadata": {},
   "outputs": [
    {
     "data": {
      "text/html": [
       "<span style=\"font-size:20px;\"><a class=\"ProveItLink\" href=\"../__pv_it/1612ee39be24e00576045a5f0471ba42a9eab2970/expr.ipynb\"><img src=\"../__pv_it/1612ee39be24e00576045a5f0471ba42a9eab2970/expr.png\" style=\"display:inline;vertical-align:middle;\" /></a> &#x22A2;&nbsp;<a class=\"ProveItLink\" href=\"../__pv_it/7f8413a78900282a37dba43b921b29b8acb133c80/expr.ipynb\"><img src=\"../__pv_it/7f8413a78900282a37dba43b921b29b8acb133c80/expr.png\" style=\"display:inline;vertical-align:middle;\" /></a></span>"
      ],
      "text/plain": [
       "{B} |= B = TRUE"
      ]
     },
     "execution_count": 10,
     "metadata": {},
     "output_type": "execute_result"
    }
   ],
   "source": [
    "BeqT.evaluation([BeqT])"
   ]
  },
  {
   "cell_type": "code",
   "execution_count": 11,
   "metadata": {},
   "outputs": [
    {
     "data": {
      "text/html": [
       "<strong id=\"BeqF\">BeqF:</strong> <a class=\"ProveItLink\" href=\"../__pv_it/1da4e2fe7c44632f084fa27ea32e26dc689384c20/expr.ipynb\"><img src=\"../__pv_it/1da4e2fe7c44632f084fa27ea32e26dc689384c20/expr.png\" style=\"display:inline;vertical-align:middle;\" /></a><br>"
      ],
      "text/plain": [
       "BeqF: [not](B)"
      ]
     },
     "execution_count": 11,
     "metadata": {},
     "output_type": "execute_result"
    }
   ],
   "source": [
    "BeqF = BeqT_or_BeqF.operands[1]"
   ]
  },
  {
   "cell_type": "code",
   "execution_count": 12,
   "metadata": {},
   "outputs": [
    {
     "data": {
      "text/html": [
       "<span style=\"font-size:20px;\"><a class=\"ProveItLink\" href=\"../__pv_it/b7e31d75543b3ce9f0c6e088e7bca956c708f1740/expr.ipynb\"><img src=\"../__pv_it/b7e31d75543b3ce9f0c6e088e7bca956c708f1740/expr.png\" style=\"display:inline;vertical-align:middle;\" /></a> &#x22A2;&nbsp;<a class=\"ProveItLink\" href=\"../__pv_it/2f24be461900462e746b8f03203c2192bf3c63340/expr.ipynb\"><img src=\"../__pv_it/2f24be461900462e746b8f03203c2192bf3c63340/expr.png\" style=\"display:inline;vertical-align:middle;\" /></a></span>"
      ],
      "text/plain": [
       "{[not](B)} |= [not](B) = TRUE"
      ]
     },
     "execution_count": 12,
     "metadata": {},
     "output_type": "execute_result"
    }
   ],
   "source": [
    "BeqF.evaluation([BeqF])"
   ]
  },
  {
   "cell_type": "code",
   "execution_count": null,
   "metadata": {},
   "outputs": [],
   "source": []
  },
  {
   "cell_type": "code",
   "execution_count": null,
   "metadata": {},
   "outputs": [],
   "source": []
  }
 ],
 "metadata": {
  "kernelspec": {
   "display_name": "Python 3",
   "language": "python",
   "name": "python3"
  },
  "language_info": {
   "codemirror_mode": {
    "name": "ipython",
    "version": 3
   },
   "file_extension": ".py",
   "mimetype": "text/x-python",
   "name": "python",
   "nbconvert_exporter": "python",
   "pygments_lexer": "ipython3",
   "version": "3.7.3"
  }
 },
 "nbformat": 4,
 "nbformat_minor": 1
}
