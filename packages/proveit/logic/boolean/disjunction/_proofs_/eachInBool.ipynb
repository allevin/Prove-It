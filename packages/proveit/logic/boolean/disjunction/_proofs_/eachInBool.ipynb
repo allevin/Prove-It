{
 "cells": [
  {
   "cell_type": "markdown",
   "metadata": {},
   "source": [
    "Proof of <a class=\"ProveItLink\" href=\"../../../../_context_.ipynb\">proveit</a>.<a class=\"ProveItLink\" href=\"../../../_context_.ipynb\">logic</a>.<a class=\"ProveItLink\" href=\"../../_context_.ipynb\">boolean</a>.<a class=\"ProveItLink\" href=\"../_context_.ipynb\">disjunction</a>.<a href=\"../_theorems_.ipynb#eachInBool\" class=\"ProveItLink\">eachInBool</a> theorem\n",
    "========"
   ]
  },
  {
   "cell_type": "code",
   "execution_count": 1,
   "metadata": {},
   "outputs": [],
   "source": [
    "import proveit\n",
    "context = proveit.Context('..') # the theorem's context is in the parent directory"
   ]
  },
  {
   "cell_type": "code",
   "execution_count": 2,
   "metadata": {},
   "outputs": [
    {
     "name": "stdout",
     "output_type": "stream",
     "text": [
      "Beginning proof of eachInBool\n",
      "Recorded 'presuming' information\n"
     ]
    },
    {
     "name": "stdout",
     "output_type": "stream",
     "text": [
      "Presuming previous theorems (applied transitively).\n"
     ]
    },
    {
     "data": {
      "text/html": [
       "<strong id=\"eachInBool\">eachInBool:</strong> <a class=\"ProveItLink\" href=\"../__pv_it/e2cedf777eaa1f36b9ed6edbf03af4e9133cc6ec0/expr.ipynb\"><img src=\"data:image/png;base64,iVBORw0KGgoAAAANSUhEUgAAAewAAAAZBAMAAAABLABNAAAAMFBMVEX///8QEBC6urrMzMxUVFRm\n",
       "ZmZERETc3NwyMjKqqqp2dnaIiIiYmJgiIiLu7u4AAAAU9Wx4AAAAAXRSTlMAQObYZgAABhtJREFU\n",
       "WMPlWH1sFFUQn+71rr3dvb1W/kDFckckkkgMR2KIKSF3oQ1qMHIolSAgB8arRtH+QWgjQi8m+JEo\n",
       "XKL+pQmNQcAI5oC0kUDiQaUxaKAoAUUOlmgIAQrFNnzjOW/e292316NsTCQVX3J7M7PzZt9v5+PN\n",
       "PgBvY2mhBe6WoRSOelXthbtpLPu/wja9wjb+K5gmDnt3D4dNbvzBA+wQ+9NzIx61L4HLnDXYOONt\n",
       "l1hd+/KVulcA/DGC/SWTrfEAW83iX7U54mHTEitSAIuiLnlAyZ0+0wGQIdjL8VqV8gCblJaP/Bjf\n",
       "yS5xjMp4ohS2FkXM+wg2ezn+rJeSxkJi3siHPZZdvsXt9kAH8Wc/LPwiYAfzTwOcJNj6xtbWlZ4q\n",
       "+b7W1taRX9AVFsSwGH8HKSF9H5iOtydgxAaytIFdSqePeoIdTqeXdnh6dFXszkAMlpH5aYmDAG2v\n",
       "E7/cdIJ8Wg8yapJgNwA0e4JdGYMAtWrKVf7QN5rmvEiUvriuuZPucOU3Ja1bjEmleeVYkw2WHT21\n",
       "h1ckyZNlvFCdZzcGd3Ye43yzk9uF4hj2oAzBHg9GpvxOsPoZ2PqCA1tJwGmiK65x2W6ArQSwdj+M\n",
       "u0Gm+Y2UrFV+RIas2LLmMlhujHvAVCJ5Ij8Xou83bVogyApWv7XLAH1U0YyUXNJ2IKfUEOwQaPmh\n",
       "ts82LYAe1VRNqUvrhV1Ez77EZXPQacz9647zB1mwgzlZKyd+LsYfcTYPISNrnHYMauIHDhO8afKS\n",
       "hYO5wehsymuqsU1sV2H2H0BoGr03pa5QsEsapB5Gb/YTbC0fGroZa0tWnYcfc0kX7F1wnCz9epHL\n",
       "fgNYyJ5bxFT21TiwKRVsrR2Y6/ZWYjGPrKuBEhlZI1oyqGWlBpozFwaQnMwlmHfQNeG8qanwdV6C\n",
       "HWYtyzWrebG9DamADdvIPIo68yeu17pYJWIUwF6m2P3RChfs09xGaEKRpMYA6O8yz11hTMyBXSFr\n",
       "MVml/fVmMT+1/wVuGbdGtGSQ5cvjtiYxi1hK/i5eRA50luWaqnSKlVawohHHd1BJtcXoLYUtghya\n",
       "pwOcm5QPJXSGilExamWgWz1XL8MOLKNA+gKK9K9c3zmDOqLrMgIcjzlauE9qUemDRzBqMvxniYxb\n",
       "I9oyiJNhmxQqnIlI/TGWm2oy4Z99zFpCXmzb7bxiPeWCjUGu85IGnyCkVd9AOMZKO1EtvER2Q8d6\n",
       "GXZwIYXNWFhLT1YzoLPegBAYEuzxtlb9aCoqjr8EM9msvl4i49aIFgbZZDglhQpn6J2LZfkyUE+w\n",
       "VXhWvA0Cgdu2716u0xd1YOvzU/YGBhVswkxMl2raVGbCOPAdTqdfRdhv9cmwYQxFb21tkRwQSILB\n",
       "Aik8YAW2gP2xo3WElVvJX4I5WBsZLJEJa4y2DLLJalT6NiaGJT7U2LCnpdPpHMLuEFuDgit9rtjY\n",
       "+J7I9arVMetT5NLBJ9kOF+WwdQZtFHRBO227o6BJMRLc28pUF+z97IKZf4C4cBYUtsDKG/SyHNgP\n",
       "OVps5af80sEMMWoC9Jugz9s1fW/WkglrjLYMHqFQmAtSXCAzi+VtDifjGpUU/CG8bcGG0aUNwRO8\n",
       "klvjpHTMUNWPz+lRoa0FqVEP8rDsxobULD1mwOiFeD8qQrsJK5NIGJEsTElKsPtsLe6w79D+Gmgz\n",
       "8UIMxjj4ihDsgnuUpFAQ1oi2DLLJsBnR0dQ2kzMnr4LvJTYZPa538BxA2HOtlN93m8brKwk2vraf\n",
       "YcpGLIFIPZ+HUxgJyjtRqBxyunJiEPTIxWw8r65tmvM+Fc0zJ+oa5JKGG6LQ4g5DJ/ouQ7wFL8SE\n",
       "MPx3F++DBqOXvmaZTFgj2jJIsC9gjNLUeAtnjC0XD+FfQxWWJn8UjCXUrmx4zfXheethZModKlmd\n",
       "ywbM7WEPlfJDCBu25jSetHLX4aPE9AaTIb1UQaJpcpWr2Zcma3tMKuMq5rZLJzEsbIqOUti+Fo9n\n",
       "abaia0YA3A3h1PuH+aQ1Umo2sP3W928zWd8M8Gm5WyuGhb293BGi7vUIUS87Q/Tkn92pr8zEv31y\n",
       "WvB0Ti5KgX6HPjzVf3bEpRQO/Q1yy/OGb/R3cgAAAABJRU5ErkJggg==\n",
       "\" style=\"display:inline;vertical-align:middle;\" /></a><br>(see <a class=\"ProveItLink\" href=\"../__pv_it/e2cedf777eaa1f36b9ed6edbf03af4e9133cc6ec0/dependencies.ipynb\">dependencies</a>)<br>"
      ],
      "text/plain": [
       "eachInBool: forall_{m, n in Naturals} [forall_{A, B, C | (A_1 or  ...  or A_m or B or C_1 or  ...  or C_n) in BOOLEANS} (B in BOOLEANS)]"
      ]
     },
     "execution_count": 2,
     "metadata": {},
     "output_type": "execute_result"
    }
   ],
   "source": [
    "%proving eachInBool presuming []"
   ]
  },
  {
   "cell_type": "code",
   "execution_count": null,
   "metadata": {},
   "outputs": [],
   "source": []
  }
 ],
 "metadata": {
  "kernelspec": {
   "display_name": "Python 3",
   "language": "python",
   "name": "python3"
  }
 },
 "nbformat": 4,
 "nbformat_minor": 0
}
