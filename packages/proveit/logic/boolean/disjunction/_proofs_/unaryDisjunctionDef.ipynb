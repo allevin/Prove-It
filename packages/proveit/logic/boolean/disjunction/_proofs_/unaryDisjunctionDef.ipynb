{
 "cells": [
  {
   "cell_type": "markdown",
   "metadata": {
    "collapsed": true
   },
   "source": [
    "Proof of <a class=\"ProveItLink\" href=\"../../../../_context_.ipynb\">proveit</a>.<a class=\"ProveItLink\" href=\"../../../_context_.ipynb\">logic</a>.<a class=\"ProveItLink\" href=\"../../_context_.ipynb\">boolean</a>.<a class=\"ProveItLink\" href=\"../_context_.ipynb\">disjunction</a>.<a class=\"ProveItLink\" href=\"../_theorems_.ipynb#unaryDisjunctionDef\">unaryDisjunctionDef</a> theorem\n",
    "========"
   ]
  },
  {
   "cell_type": "code",
   "execution_count": 1,
   "metadata": {},
   "outputs": [],
   "source": [
    "import proveit\n",
    "from proveit.logic import TRUE, FALSE\n",
    "from proveit._common_ import A, BB, n\n",
    "from proveit.logic.boolean.disjunction._theorems_ import unaryDisjunctionLemma\n",
    "from proveit.logic.boolean.disjunction._axioms_ import orFT, orFF\n",
    "context = proveit.Context('..') # the theorem's context is in the parent directory"
   ]
  },
  {
   "cell_type": "code",
   "execution_count": 2,
   "metadata": {},
   "outputs": [
    {
     "name": "stdout",
     "output_type": "stream",
     "text": [
      "Beginning proof of unaryDisjunctionDef\n",
      "Recorded 'presuming' information\n",
      "Presuming previous theorems (applied transitively).\n"
     ]
    },
    {
     "data": {
      "text/html": [
       "<strong id=\"unaryDisjunctionDef\">unaryDisjunctionDef:</strong> <a class=\"ProveItLink\" href=\"../__pv_it/ea7cdc97bb19dd3f63221c57941793bcf9c4e7e30/expr.ipynb\"><img src=\"../__pv_it/ea7cdc97bb19dd3f63221c57941793bcf9c4e7e30/expr.png\" style=\"display:inline;vertical-align:middle;\" /></a><br>(see <a class=\"ProveItLink\" href=\"../__pv_it/ea7cdc97bb19dd3f63221c57941793bcf9c4e7e30/dependencies.ipynb\">dependencies</a>)<br>"
      ],
      "text/plain": [
       "unaryDisjunctionDef: forall_{A in BOOLEANS} ([or](A) = A)"
      ]
     },
     "execution_count": 2,
     "metadata": {},
     "output_type": "execute_result"
    }
   ],
   "source": [
    "%proving unaryDisjunctionDef presuming []"
   ]
  },
  {
   "cell_type": "code",
   "execution_count": 3,
   "metadata": {},
   "outputs": [
    {
     "data": {
      "text/html": [
       "<strong id=\"baseCaseTRUE\">baseCaseTRUE:</strong> <span style=\"font-size:20px;\"> &#x22A2;&nbsp;<a class=\"ProveItLink\" href=\"../__pv_it/c77a3d2639ef50243cc5c99bf9e84bdac5b7bb1f0/expr.ipynb\"><img src=\"../__pv_it/c77a3d2639ef50243cc5c99bf9e84bdac5b7bb1f0/expr.png\" style=\"display:inline;vertical-align:middle;\" /></a></span><br>"
      ],
      "text/plain": [
       "baseCaseTRUE: |- [or](TRUE) = (FALSE or TRUE)"
      ]
     },
     "execution_count": 3,
     "metadata": {},
     "output_type": "execute_result"
    }
   ],
   "source": [
    "baseCaseTRUE = unaryDisjunctionLemma.specialize({A:TRUE})"
   ]
  },
  {
   "cell_type": "code",
   "execution_count": 4,
   "metadata": {},
   "outputs": [
    {
     "data": {
      "text/html": [
       "<strong id=\"baseCaseFALSE\">baseCaseFALSE:</strong> <span style=\"font-size:20px;\"> &#x22A2;&nbsp;<a class=\"ProveItLink\" href=\"../__pv_it/b56adc2f8e49777543e60dc4fd55401873944b2b0/expr.ipynb\"><img src=\"../__pv_it/b56adc2f8e49777543e60dc4fd55401873944b2b0/expr.png\" style=\"display:inline;vertical-align:middle;\" /></a></span><br>"
      ],
      "text/plain": [
       "baseCaseFALSE: |- [or](FALSE) = (FALSE or FALSE)"
      ]
     },
     "execution_count": 4,
     "metadata": {},
     "output_type": "execute_result"
    }
   ],
   "source": [
    "baseCaseFALSE = unaryDisjunctionLemma.specialize({A:FALSE})"
   ]
  },
  {
   "cell_type": "code",
   "execution_count": 5,
   "metadata": {},
   "outputs": [
    {
     "data": {
      "text/html": [
       "<span style=\"font-size:20px;\"> &#x22A2;&nbsp;<a class=\"ProveItLink\" href=\"../__pv_it/38d45e35392f2a4239a7635d4aef2173215d12d60/expr.ipynb\"><img src=\"../__pv_it/38d45e35392f2a4239a7635d4aef2173215d12d60/expr.png\" style=\"display:inline;vertical-align:middle;\" /></a></span>"
      ],
      "text/plain": [
       "|- [or](TRUE) = TRUE"
      ]
     },
     "execution_count": 5,
     "metadata": {},
     "output_type": "execute_result"
    }
   ],
   "source": [
    "baseCaseTRUE.subLeftSideInto(orFT)"
   ]
  },
  {
   "cell_type": "code",
   "execution_count": 6,
   "metadata": {},
   "outputs": [
    {
     "data": {
      "text/html": [
       "<span style=\"font-size:20px;\"> &#x22A2;&nbsp;<a class=\"ProveItLink\" href=\"../__pv_it/7fcf358969e492be978ea8f4899a1c1e8df4e68e0/expr.ipynb\"><img src=\"../__pv_it/7fcf358969e492be978ea8f4899a1c1e8df4e68e0/expr.png\" style=\"display:inline;vertical-align:middle;\" /></a></span>"
      ],
      "text/plain": [
       "|- [or](FALSE) = FALSE"
      ]
     },
     "execution_count": 6,
     "metadata": {},
     "output_type": "execute_result"
    }
   ],
   "source": [
    "baseCaseFALSE.subLeftSideInto(orFF)"
   ]
  },
  {
   "cell_type": "code",
   "execution_count": 7,
   "metadata": {},
   "outputs": [],
   "source": [
    "#%qed"
   ]
  }
 ],
 "metadata": {
  "kernelspec": {
   "display_name": "Python 3",
   "language": "python",
   "name": "python3"
  },
  "language_info": {
   "codemirror_mode": {
    "name": "ipython",
    "version": 3
   },
   "file_extension": ".py",
   "mimetype": "text/x-python",
   "name": "python",
   "nbconvert_exporter": "python",
   "pygments_lexer": "ipython3",
   "version": "3.7.3"
  }
 },
 "nbformat": 4,
 "nbformat_minor": 1
}
