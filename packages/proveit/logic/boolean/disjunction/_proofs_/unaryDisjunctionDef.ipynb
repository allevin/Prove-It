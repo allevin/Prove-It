{
 "cells": [
  {
   "cell_type": "markdown",
   "metadata": {},
   "source": [
    "Proof of <a class=\"ProveItLink\" href=\"../../../../_context_.ipynb\">proveit</a>.<a class=\"ProveItLink\" href=\"../../../_context_.ipynb\">logic</a>.<a class=\"ProveItLink\" href=\"../../_context_.ipynb\">boolean</a>.<a class=\"ProveItLink\" href=\"../_context_.ipynb\">disjunction</a>.<a class=\"ProveItLink\" href=\"../_theorems_.ipynb#unaryDisjunctionDef\">unaryDisjunctionDef</a> theorem\n",
    "========"
   ]
  },
  {
   "cell_type": "code",
   "execution_count": 1,
   "metadata": {},
   "outputs": [],
   "source": [
    "import proveit\n",
    "from proveit.logic import TRUE, FALSE\n",
    "from proveit._common_ import A, BB, n\n",
    "from proveit.logic.boolean.disjunction._theorems_ import unaryDisjunctionLemma\n",
    "from proveit.logic.boolean.disjunction._axioms_ import orFT, orFF\n",
    "context = proveit.Context('..') # the theorem's context is in the parent directory"
   ]
  },
  {
   "cell_type": "code",
   "execution_count": 2,
   "metadata": {},
   "outputs": [
    {
     "name": "stdout",
     "output_type": "stream",
     "text": [
      "Beginning proof of unaryDisjunctionDef\n",
      "Recorded 'presuming' information\n"
     ]
    },
    {
     "name": "stdout",
     "output_type": "stream",
     "text": [
      "Presuming previous theorems (applied transitively).\n"
     ]
    },
    {
     "data": {
      "text/html": [
       "<strong id=\"unaryDisjunctionDef\">unaryDisjunctionDef:</strong> <a class=\"ProveItLink\" href=\"../__pv_it/649b217f630723f6793532d6058966734572d6dc0/expr.ipynb\"><img src=\"data:image/png;base64,iVBORw0KGgoAAAANSUhEUgAAAK4AAAAVBAMAAAAtL8hrAAAAMFBMVEX///8QEBC6urrMzMxUVFRm\n",
       "ZmZERETc3NwyMjKqqqp2dnaIiIiYmJgiIiLu7u4AAAAU9Wx4AAAAAXRSTlMAQObYZgAAAspJREFU\n",
       "OMu1lU1oE0EUx//JZrtpPtbiRT2oq3gQqpJDb34kaKDHCpKD4vdhi6g0B2ktRQ1KqRSpvRS8uQhV\n",
       "RJEFj1IaBKUqQlTqQRS3olKoSClYC0r1vZnJmo9dPTmwM2/nzfzmzXtvZoD/VLy/aqMuJi4peeql\n",
       "aNp95cOwWSkLqLDwLGxEB3DD/xGSlhOyRvP0TNCUnfTtA26zPBLGHWFaVIgZyY3LDcbnqSoFTbnK\n",
       "WqCXGuNoCDbpMjeWkaLgPpCa58tUPQ3ywXtaOOWI9fXREG7EY67Gy6Y9yV0nFMbYd6pnAqb0HykC\n",
       "ZhtSt/r6zoW5YbP06hA1Y9K/Ubn3ZHKB6pYAe9xJChpOAIu2/SaMe0Byicls5uqOUGxr/Ul1Ym9z\n",
       "AnnXy9SMA3uAbtE11My9IrnkA/YFc+M8C6al/aCmlY3XL4si0wQfkKWY4BqwCabYW2pBOX54eLCs\n",
       "uCsll2IWsyQ3YgmrYHzjpq3JEgsXeBMbyBgkBeYT72yucBCuM7dRjVpQWVvBrJJWCG5HPr/ISTzf\n",
       "iNXy+S6OcpaMKadFSt6bJvn4+a/ETXxp4O7H3TouVasDuZTqkZLkmqUOsZJrA49ERJ32w2rYGkU7\n",
       "K46l8AOnQCt9L6p+0N+JIo8AadNt0g/o3s09MRxSB8gtrK3695SixXa4SmphVb86VqnGA2eMqpM4\n",
       "xZkprognmITmSHv17WrcuKJppz0lcWqJOPd4AXnGUWhZVhMjbIs5XejxtNe2fZL9m1DjtlZvm8Hq\n",
       "vROtwDi2VMTjX9QVt+qxveuHkOpZotUu8m7YFr2IbMbMSXt9bqSouLv8+2xVDWcm7DyZfgJuoVCX\n",
       "0an8MFC9RJyme7L2rrkTxk24Svi4CKPrLT5b4lzY5bp7so4b//MQmKUw7mxjx03yb20508Q1cv5/\n",
       "rBjG7fzXK2XQO/RKyRPyHRrwlffDZiUz+A1Rb8Ei/Oj95gAAAABJRU5ErkJggg==\n",
       "\" style=\"display:inline;vertical-align:middle;\" /></a><br>(see <a class=\"ProveItLink\" href=\"../__pv_it/649b217f630723f6793532d6058966734572d6dc0/dependencies.ipynb\">dependencies</a>)<br>"
      ],
      "text/plain": [
       "unaryDisjunctionDef: forall_{A in BOOLEANS} ([or](A) = A)"
      ]
     },
     "execution_count": 2,
     "metadata": {},
     "output_type": "execute_result"
    }
   ],
   "source": [
    "%proving unaryDisjunctionDef presuming []"
   ]
  },
  {
   "cell_type": "code",
   "execution_count": 3,
   "metadata": {},
   "outputs": [
    {
     "data": {
      "text/html": [
       "<strong id=\"baseCaseTRUE\">baseCaseTRUE:</strong> <span style=\"font-size:20px;\"> <a class=\"ProveItLink\" href=\"../__pv_it/b34f844b5a8b0f257505896a2ddda1f25a27a2f00/proof.ipynb\" style=\"text-decoration: none\">&#x22A2;&nbsp;</a><a class=\"ProveItLink\" href=\"../__pv_it/8e96697ff6db1304f74f1861b6d3300d1b9a71ea0/expr.ipynb\"><img src=\"data:image/png;base64,iVBORw0KGgoAAAANSUhEUgAAAJwAAAAVBAMAAABBKZpuAAAAMFBMVEX///8QEBCYmJhmZmaqqqrc\n",
       "3Nzu7u5ERERUVFS6urp2dnbMzMwyMjIiIiKIiIgAAACFNc/vAAAAAXRSTlMAQObYZgAAAY9JREFU\n",
       "OMutlL9OAkEQh4fDIxEOYmFDYeIDGHO1Nj6AxZWUPACFITyAjYWhOXtJTK7azu7oJBYkRm2vMSS8\n",
       "APZ07r9xd2bhCuMUd7f89vuyy90OwP/W5t3co89c3Q7XGER5ONmlu0oRAgdtjc+hudJ1A5chMFeX\n",
       "mDt9QoDWdKxuqQepuiahzksBOSCEgKl6+ja63tqF0RO3+SkgB4QQUKqnyugaQxe2jrjOTwE5IISA\n",
       "JAM4SI3u0QthwnUkRY4SQv8kI6278MOC60iKHCWEXnBp3+yrH17r1/ah6xZ4ihwlhP47762u74cP\n",
       "fHV9qjMcJaSuC62F1W398IXrtlRnOEpIXfOqffoXneECXbzo4qk4Djb7+8nzFLlgszA9R93YD8/4\n",
       "6sZUZzhKKF1Zoa6o/VAKpisrptMfCiQp6mYmNMfrjetmZu8ndu+Go4TSdYaoa2QO3nHIMjrWHBCC\n",
       "Nij/2LeD5hY2BVqSYP1u6cLRnga1v0ZB+xy48C6cP6jXSWLzZXvZKqettvcczo9rm7skfgAK2ogP\n",
       "yk33MAAAAABJRU5ErkJggg==\n",
       "\" style=\"display:inline;vertical-align:middle;\" /></a></span><br>"
      ],
      "text/plain": [
       "baseCaseTRUE: |- [or](TRUE) = (FALSE or TRUE)"
      ]
     },
     "execution_count": 3,
     "metadata": {},
     "output_type": "execute_result"
    }
   ],
   "source": [
    "baseCaseTRUE = unaryDisjunctionLemma.specialize({A:TRUE})"
   ]
  },
  {
   "cell_type": "code",
   "execution_count": 4,
   "metadata": {},
   "outputs": [
    {
     "data": {
      "text/html": [
       "<strong id=\"baseCaseFALSE\">baseCaseFALSE:</strong> <span style=\"font-size:20px;\"> <a class=\"ProveItLink\" href=\"../__pv_it/12e7392549ddd569fa9c4038e00bd4c57447a65b0/proof.ipynb\" style=\"text-decoration: none\">&#x22A2;&nbsp;</a><a class=\"ProveItLink\" href=\"../__pv_it/444b220bf1c91615a6b9dec90fd7905c2681daa20/expr.ipynb\"><img src=\"data:image/png;base64,iVBORw0KGgoAAAANSUhEUgAAAJwAAAAVBAMAAABBKZpuAAAAMFBMVEX///8QEBCYmJhmZmaqqqrc\n",
       "3Nzu7u5ERERUVFS6urp2dnbMzMwyMjIiIiKIiIgAAACFNc/vAAAAAXRSTlMAQObYZgAAAYhJREFU\n",
       "OMutlLFOwzAQhq8JrUSaVgwsHZB4AIQyw8IDMGTs2AfogKo+AAsD6hJ2kJAyeWMLGxVDJQSsWVCl\n",
       "vkDZuxGfc9h3bjogbnDi/vk+2Wl8AP9b63dzDT4zfdlfURBk/sM23VaaUDSJEH/WQxupcx9wUl6/\n",
       "hALUdGvdAieJHmOfclIgDhihYKbvvo2uv7Jh8ChtbgrEASMUFPquNLrWyIadA6lzUyAOGKEgTgH2\n",
       "EqO7d0KYSh1LieOEwp+qCHVnbphLHUuJ44TCBRf1P/vqhpd6CD+wrkGmxHFC4eu8rXUDN7yTqxtw\n",
       "neE4Uel60JnXuo0bvkjdhusMx4lKF15Ex3/RGc7Ttec9OhWH3mbDJdYVyJQ4b7MwOyXdxA1P5Oom\n",
       "XGc4TmhdUZIu3/mh5EJXlEKHHwrECekezO6OcHdvUsdS4jihdd0R6VqphbccspTPkQNG8AblHvvI\n",
       "a0R+U+BVEaLfLWw4bmhQzTX22ufQhjf+88PduopYf9W9bJnxVtt/amq6TVURP00KhwPNM5OIAAAA\n",
       "AElFTkSuQmCC\n",
       "\" style=\"display:inline;vertical-align:middle;\" /></a></span><br>"
      ],
      "text/plain": [
       "baseCaseFALSE: |- [or](FALSE) = (FALSE or FALSE)"
      ]
     },
     "execution_count": 4,
     "metadata": {},
     "output_type": "execute_result"
    }
   ],
   "source": [
    "baseCaseFALSE = unaryDisjunctionLemma.specialize({A:FALSE})"
   ]
  },
  {
   "cell_type": "code",
   "execution_count": 5,
   "metadata": {},
   "outputs": [
    {
     "data": {
      "text/html": [
       "<span style=\"font-size:20px;\"> <a class=\"ProveItLink\" href=\"../__pv_it/1c4bec0a6de916f9a9525ec14ab08c8583a776320/proof.ipynb\" style=\"text-decoration: none\">&#x22A2;&nbsp;</a><a class=\"ProveItLink\" href=\"../__pv_it/eb039b37602a90173375a11fd7a454cfa3f2e6c60/expr.ipynb\"><img src=\"data:image/png;base64,iVBORw0KGgoAAAANSUhEUgAAAGYAAAAVBAMAAABGR4Y+AAAAMFBMVEX///8QEBCYmJhmZmaqqqrc\n",
       "3Nzu7u5ERERUVFS6urp2dnbMzMwyMjIiIiKIiIgAAACFNc/vAAAAAXRSTlMAQObYZgAAARVJREFU\n",
       "OMtjYCADvD0NZejcBFPz4DKaOPWsRGVxNzDY3gWB6wzMG9DVwmRWMnCC+RsgengSQORmsNABLFZs\n",
       "hpjOATKP7wFEzzuEDIMWbj3cBUCKNwGiRwxJTyJuPQxHgZQzxD+cB5D0sDvg1gNUD9IH0sO8AEkP\n",
       "lwFuPUB3gdwH0sOjgKSHBWypzRkQOIGmB+h/jgkQPYwTkPRwCuC2h+ECQw6UxY+sh/sDHj0mDItI\n",
       "1hMDtAnqNgcMt8EiH00Px6YHUBY7chgwHcBjD3dtApQFDV7CYc3AcBjG4rwAltkFJnkmYOrZBdez\n",
       "Dc4SRZJPJDIvIKfLdUTqgeQFMGA7QKQe1gY4nyMAZ96+DWNA8nYcXOY1Li0AMVpnxqgw7xgAAAAA\n",
       "SUVORK5CYII=\n",
       "\" style=\"display:inline;vertical-align:middle;\" /></a></span>"
      ],
      "text/plain": [
       "|- [or](TRUE) = TRUE"
      ]
     },
     "execution_count": 5,
     "metadata": {},
     "output_type": "execute_result"
    }
   ],
   "source": [
    "baseCaseTRUE.subLeftSideInto(orFT)"
   ]
  },
  {
   "cell_type": "code",
   "execution_count": 6,
   "metadata": {},
   "outputs": [
    {
     "data": {
      "text/html": [
       "<span style=\"font-size:20px;\"> <a class=\"ProveItLink\" href=\"../__pv_it/44bc2f86bca471012e483839732c8e7229e7d9900/proof.ipynb\" style=\"text-decoration: none\">&#x22A2;&nbsp;</a><a class=\"ProveItLink\" href=\"../__pv_it/183b5ff1c91586d17a57a4d70f714372654fc70a0/expr.ipynb\"><img src=\"data:image/png;base64,iVBORw0KGgoAAAANSUhEUgAAAGYAAAAVBAMAAABGR4Y+AAAAMFBMVEX///8QEBCYmJhmZmaqqqrc\n",
       "3Nzu7u5ERERUVFS6urp2dnbMzMwyMjIiIiKIiIgAAACFNc/vAAAAAXRSTlMAQObYZgAAARZJREFU\n",
       "OMtjYCADvD0NZejcBFPz4DKaOPWsRGVxN4DIOBDBvAGL8jiISk4wZwNED08CiNwMFjqARc9miB4O\n",
       "kHl8DyB63iFkGLRw6+EuAFK8CRA9Ykh6EnHrYTgKpJwh/uE8gKSH3QG3HqB6kD6QHuYFSHq4DHDr\n",
       "AboL5D6QHh4FJD0sYEttzoDACTQ9QP9zTIDoYZyApIdTALc9DBcYcqAsfmQ93B/w6DFhWESynhig\n",
       "TVC3OWC4zfYuCFxH18Ox6QGUxY4cBkwH8NjDXZsAZUGDl3BYMzAchrE4L4AdcxHsGJ4JaBpgMmA9\n",
       "2+C6RZGUJBKZF5DT5Toi9UDyAhiwHSBSD2sDnM8RgDNv34YxbiIyIhi8xqUFAMGuZvb3E0DBAAAA\n",
       "AElFTkSuQmCC\n",
       "\" style=\"display:inline;vertical-align:middle;\" /></a></span>"
      ],
      "text/plain": [
       "|- [or](FALSE) = FALSE"
      ]
     },
     "execution_count": 6,
     "metadata": {},
     "output_type": "execute_result"
    }
   ],
   "source": [
    "baseCaseFALSE.subLeftSideInto(orFF)"
   ]
  },
  {
   "cell_type": "code",
   "execution_count": 7,
   "metadata": {},
   "outputs": [
    {
     "data": {
      "text/html": [
       "<table><tr><th>&nbsp;</th><th>step type</th><th>requirements</th><th>statement</th></tr>\n",
       "<tr><td>0</td><td>specialization</td><td>1, 2, 3</td><td><span style=\"font-size:20px;\"> <a class=\"ProveItLink\" href=\"../__pv_it/8e1394404f2af93bcc979178e39e18589c13072e0/proof.ipynb\" style=\"text-decoration: none\">&#x22A2;&nbsp;</a><a class=\"ProveItLink\" href=\"../__pv_it/649b217f630723f6793532d6058966734572d6dc0/expr.ipynb\"><img src=\"data:image/png;base64,iVBORw0KGgoAAAANSUhEUgAAAK4AAAAVBAMAAAAtL8hrAAAAMFBMVEX///8QEBC6urrMzMxUVFRm\n",
       "ZmZERETc3NwyMjKqqqp2dnaIiIiYmJgiIiLu7u4AAAAU9Wx4AAAAAXRSTlMAQObYZgAAAspJREFU\n",
       "OMu1lU1oE0EUx//JZrtpPtbiRT2oq3gQqpJDb34kaKDHCpKD4vdhi6g0B2ktRQ1KqRSpvRS8uQhV\n",
       "RJEFj1IaBKUqQlTqQRS3olKoSClYC0r1vZnJmo9dPTmwM2/nzfzmzXtvZoD/VLy/aqMuJi4peeql\n",
       "aNp95cOwWSkLqLDwLGxEB3DD/xGSlhOyRvP0TNCUnfTtA26zPBLGHWFaVIgZyY3LDcbnqSoFTbnK\n",
       "WqCXGuNoCDbpMjeWkaLgPpCa58tUPQ3ywXtaOOWI9fXREG7EY67Gy6Y9yV0nFMbYd6pnAqb0HykC\n",
       "ZhtSt/r6zoW5YbP06hA1Y9K/Ubn3ZHKB6pYAe9xJChpOAIu2/SaMe0Byicls5uqOUGxr/Ul1Ym9z\n",
       "AnnXy9SMA3uAbtE11My9IrnkA/YFc+M8C6al/aCmlY3XL4si0wQfkKWY4BqwCabYW2pBOX54eLCs\n",
       "uCsll2IWsyQ3YgmrYHzjpq3JEgsXeBMbyBgkBeYT72yucBCuM7dRjVpQWVvBrJJWCG5HPr/ISTzf\n",
       "iNXy+S6OcpaMKadFSt6bJvn4+a/ETXxp4O7H3TouVasDuZTqkZLkmqUOsZJrA49ERJ32w2rYGkU7\n",
       "K46l8AOnQCt9L6p+0N+JIo8AadNt0g/o3s09MRxSB8gtrK3695SixXa4SmphVb86VqnGA2eMqpM4\n",
       "xZkprognmITmSHv17WrcuKJppz0lcWqJOPd4AXnGUWhZVhMjbIs5XejxtNe2fZL9m1DjtlZvm8Hq\n",
       "vROtwDi2VMTjX9QVt+qxveuHkOpZotUu8m7YFr2IbMbMSXt9bqSouLv8+2xVDWcm7DyZfgJuoVCX\n",
       "0an8MFC9RJyme7L2rrkTxk24Svi4CKPrLT5b4lzY5bp7so4b//MQmKUw7mxjx03yb20508Q1cv5/\n",
       "rBjG7fzXK2XQO/RKyRPyHRrwlffDZiUz+A1Rb8Ei/Oj95gAAAABJRU5ErkJggg==\n",
       "\" style=\"display:inline;vertical-align:middle;\" /></a></span></td></tr>\n",
       "<tr><td>&nbsp;</td><td colspan=4 style=\"text-align:left\"><span style=\"font-size:20px;\"><a class=\"ProveItLink\" href=\"../../../../__pv_it/d2c2aa3c0d5707e464a75d67a5b95d12c40fc6e30/expr.ipynb\"><img src=\"data:image/png;base64,iVBORw0KGgoAAAANSUhEUgAAADIAAAAVBAMAAAD2uKAMAAAAMFBMVEX////u7u5mZmaYmJi6urqq\n",
       "qqp2dnbMzMwQEBBEREQyMjLc3NwiIiJUVFSIiIgAAAAeC3ydAAAAAXRSTlMAQObYZgAAARtJREFU\n",
       "KM9jYCAKsDyAsZgdQOTb/3fvnt0AYtVChGuAWB3M+sXAwNkNYiyEyKwHYi4Qg/0bAwMrEDPwQQxj\n",
       "Pi8AJBJAAl+AjE9ABocAWGarPtBoxgYgi/MDAwPvVyDDC2LYg/cg66cCMf8CBgb5CUCGGsSBAvEG\n",
       "QCoJiOsTGNgPgcQWg2VEGOpB9kUB8ftraWpgR7eAZRwY9isAKQ8gni8A9d4XsEvv3r0PMroeiP8w\n",
       "IMuwAN24ACLD/gkm0woiAhgYeBogpvF9gclMBmJuoAwX0BsMVkDvfITJgBwqxQAVSWIQmv8XFsI+\n",
       "DAw7+1czMM//BXTcEuRI4NiAYINDBw7AoQgFbA9QYm4hgimFGqd7EczbqDLccCP4ChgAEixBiNSE\n",
       "EDoAAAAASUVORK5CYII=\n",
       "\" style=\"display:inline;vertical-align:middle;\" /></a> : <a class=\"ProveItLink\" href=\"../__pv_it/898165f63f831bc04f883701bbc640eb74a5e26d0/expr.ipynb\"><img src=\"data:image/png;base64,iVBORw0KGgoAAAANSUhEUgAAAGUAAAAVBAMAAACtcD09AAAAMFBMVEX///8QEBCYmJhmZmaqqqrc\n",
       "3Nzu7u5ERERUVFS6urp2dnbMzMwyMjIiIiKIiIgAAACFNc/vAAAAAXRSTlMAQObYZgAAAZNJREFU\n",
       "OMtjYCADvD0NZejcBFPz4DKaOPWsRGVxN4DZ3BcYGJg3YFO/F6ySE8zeANHDkwDm8XwAEgew6TkP\n",
       "1sMBMo/vAUTPO4iM7jcgoYVFC9P9BJAe7gIgmzcBokcMLMPq/BVIJmLRE2IfAPbFUSDbGeIfToh7\n",
       "+Ph+Akl2B0w9D95PAKsEqgfpA+lhXgCWmcbyCUhyGWBo4UzwVwCrBLoL5D6QHh4FkAzbBO5/QIoF\n",
       "ZCnzGTCABCdDJsP+B2CVQP9zQGxkYJwANo2B9TOIEsCwZwJDvAFE5QWGHGj88IP17Ojo+A6KpA/o\n",
       "Wrg7OvqhLjJhWISiB0jIYNUDjErGAxCVMUCboG4DBRULEF+EuY35LhgUgPUAZXkFICo5Nj2A6mEH\n",
       "hUEINLqZ0BMCqwMkhYBUctcmQPWAgpcNpLQ+AUtYg3zN/g2aMg/D0ijnBQbWwj8BDOr/gUI8E1C1\n",
       "hMsfZWCq/2MA0bMNnq5FkdQkEpkXkNPlOiL1QPMCODUcIFIPawOczxGAM2/fhjEgeTsOLvMalxYA\n",
       "I1RyU040yFMAAAAASUVORK5CYII=\n",
       "\" style=\"display:inline;vertical-align:middle;\" /></a></span></td></tr><tr><td>1</td><td>theorem</td><td></td><td><span style=\"font-size:20px;\"> <a class=\"ProveItLink\" href=\"../../_proofs_/foldForallOverBool.ipynb\" style=\"text-decoration: none\">&#x22A2;&nbsp;</a><a class=\"ProveItLink\" href=\"../../__pv_it/d40d2f60ef66daf5542d59156613ac49d719b2620/expr.ipynb\"><img src=\"data:image/png;base64,iVBORw0KGgoAAAANSUhEUgAAAPsAAAAXBAMAAAA/2iRsAAAAMFBMVEX///8QEBC6urrMzMxUVFRm\n",
       "ZmZERETc3NwyMjKqqqp2dnaIiIiYmJgiIiLu7u4AAAAU9Wx4AAAAAXRSTlMAQObYZgAAA5NJREFU\n",
       "SMfFlk1oE1EQgKfZ/DTZzbZ4UMSDEYp6EXMQFKU22KDixWpNi0VpFNyiVBqwNHgQg5de1OaiCB4M\n",
       "QrUWLEGsIBa64kUqag6KIrUGUemltrRG29JW583b3bz80UIUF7I7O2/e++bNm5kNwP+90n9jEfn9\n",
       "7pUZ2pKmpPhAueKDFJNflIn3+Ly0ZLL48MPfweCbCJO2cUUt/hrZNLjHXq+WjffE8VFZKpSzAM41\n",
       "AqiHGRO+CyVXuGw8LdFVYliaB3DPs0Pi4VE+oZ9KguGZx4542Xja19FSqTGNtAwKFTw851vxJNRq\n",
       "Nk25G41egPLxI9FoNFVi2DkFYJ9DYTN/Tw778H6aTYOfmvah5LrnjKe7qDYu4Ks07WyixCpVMYBJ\n",
       "djotPP3Tt3R89BK+HqAN1+8IHWmjQR/dr2dCeyPgMheUEsW0OwW83Q9OSu7KSAG+LgHSWyZcptfP\n",
       "UMdy4Abha0BF5+ApwH0a5Gmo4MmkwAnQpJ3QtATcztVyM48vi7cFYJzk14byeV/fMWN4+EB/Czm1\n",
       "ytjgxQZ8bKD5XpBZKII4MZ3F2wOgLMFNOjl2G8/XMjPy28BjAxliotqKq6mDIV32qA8MTzrMgpym\n",
       "SAaDB9nsOpom6142OgqwX9i9Vwd7DNosPMY2V0tm9QJ+CMZInMCdPdr0PS17YEDnw4sg4m1YATEL\n",
       "r8ZYK1JnQHkn4Cf98DIC1RaeV6ygJbMnAn5cCjBxlzMMCout7LEN8l1LGRO/1khYb7UVfGjbw1ya\n",
       "7zdOiuO39vfqIMUsvC2QpyWzGgHv7KRQBxwp1tAQ7zg0mi17frWzHof4yimWHBx/jZWrxzxGA9+X\n",
       "ZRKeMwUtme0Q8O7jlJxxeYpXBAa/kTc555K5dq+RRaThhQcVzMjZkIs/RdWejxe0BXhYx6SJUNMS\n",
       "1GqalkR8gir0a8cP81O0BRvz+m5QOmYRd4lPU9gJVcVz8XO0z3A2+OE8Ld02ivhXTGoGaQa+GLtP\n",
       "5PehCqEn8KZrdoZIDl76RRYpC68kXN05WjIbEfHkGub6AtgjHN+c/wFWBH88SaFv9DTm4PsyVGhj\n",
       "Ft7hkxayWoemrdbOABzOw6tY0J2LunqS2s6d9oL+J3zZxwWvhUv8+D62JExmpVAby9+9+Y5nX7T7\n",
       "d2bFfcvjv1kSdrrtBVq3yZA/+lf2aXRZXsl+nLUM3q2bEma7XqC1/4P/ngHx5ZkZzXQx7UDZsD9Q\n",
       "v/BHzxS7+AAAAABJRU5ErkJggg==\n",
       "\" style=\"display:inline;vertical-align:middle;\" /></a></span></td></tr>\n",
       "<tr><td>&nbsp;</td><td colspan=4 style-\"text-align:left\"><a class=\"ProveItLink\" href=\"../../_proofs_/foldForallOverBool.ipynb\">proveit.logic.boolean.foldForallOverBool</a></td></tr><tr><td>2</td><td>specialization</td><td>6, 4, 5</td><td><span style=\"font-size:20px;\"> <a class=\"ProveItLink\" href=\"../__pv_it/1c4bec0a6de916f9a9525ec14ab08c8583a776320/proof.ipynb\" style=\"text-decoration: none\">&#x22A2;&nbsp;</a><a class=\"ProveItLink\" href=\"../__pv_it/eb039b37602a90173375a11fd7a454cfa3f2e6c60/expr.ipynb\"><img src=\"data:image/png;base64,iVBORw0KGgoAAAANSUhEUgAAAGYAAAAVBAMAAABGR4Y+AAAAMFBMVEX///8QEBCYmJhmZmaqqqrc\n",
       "3Nzu7u5ERERUVFS6urp2dnbMzMwyMjIiIiKIiIgAAACFNc/vAAAAAXRSTlMAQObYZgAAARVJREFU\n",
       "OMtjYCADvD0NZejcBFPz4DKaOPWsRGVxNzDY3gWB6wzMG9DVwmRWMnCC+RsgengSQORmsNABLFZs\n",
       "hpjOATKP7wFEzzuEDIMWbj3cBUCKNwGiRwxJTyJuPQxHgZQzxD+cB5D0sDvg1gNUD9IH0sO8AEkP\n",
       "lwFuPUB3gdwH0sOjgKSHBWypzRkQOIGmB+h/jgkQPYwTkPRwCuC2h+ECQw6UxY+sh/sDHj0mDItI\n",
       "1hMDtAnqNgcMt8EiH00Px6YHUBY7chgwHcBjD3dtApQFDV7CYc3AcBjG4rwAltkFJnkmYOrZBdez\n",
       "Dc4SRZJPJDIvIKfLdUTqgeQFMGA7QKQe1gY4nyMAZ96+DWNA8nYcXOY1Li0AMVpnxqgw7xgAAAAA\n",
       "SUVORK5CYII=\n",
       "\" style=\"display:inline;vertical-align:middle;\" /></a></span></td></tr>\n",
       "<tr><td>&nbsp;</td><td colspan=4 style=\"text-align:left\"><span style=\"font-size:20px;\"><a class=\"ProveItLink\" href=\"../__pv_it/fd4b0a418766985890fb332a124e981d1643d8330/expr.ipynb\"><img src=\"data:image/png;base64,iVBORw0KGgoAAAANSUhEUgAAAEkAAAAVBAMAAAD4Ed5jAAAAMFBMVEX////u7u5mZmaYmJi6urqq\n",
       "qqp2dnbMzMwQEBBEREQyMjLc3NwiIiJUVFSIiIgAAAAeC3ydAAAAAXRSTlMAQObYZgAAAR1JREFU\n",
       "KM9jYCAZsDzAJmoCJt/+v3v37AYQqxarXqYCMPWLgYGzG8RYiN2KBSCC/RsDAysQM/A9wK7KDETw\n",
       "fWFgYP4EZHAIYFclASI4PzAw8H4FMrxweIozAEjwA+2VnwBkqCEktr3d+ghuP5sCkKhPYGA/BOIt\n",
       "hitiTGA+zHEAxmMFOf/9tTQ1cEC0wFWxMfB9YC2AB2MDkJgPc/QXhFkMvBMQ1rMDHc7whwFDFdC/\n",
       "D1BVsX+C8VqRVO0vYBBAtpEPbsRkuBrmDe8Z+OCqmIGu5/wI4yXBVcUbzGDYx4AUEkLz/8Kc4AP0\n",
       "9EwgmMgg+UwszwDGYeByQA5jjg14YgjhmgTsqvJQudhTDuMCVP5erKp40RzCjTWBPWdgAADdXkSh\n",
       "Sa6TGQAAAABJRU5ErkJggg==\n",
       "\" style=\"display:inline;vertical-align:middle;\" /></a> : <a class=\"ProveItLink\" href=\"../__pv_it/06d9464eee408a262f409686901ad75f37945a160/expr.ipynb\"><img src=\"data:image/png;base64,iVBORw0KGgoAAAANSUhEUgAAAFEAAAAOBAMAAAClee0nAAAALVBMVEX///8yMjLMzMwQEBAiIiKY\n",
       "mJhmZmZUVFSIiIh2dnbc3Nzu7u5ERESqqqoAAABdTVCLAAAAAXRSTlMAQObYZgAAAG5JREFUKM9j\n",
       "YCAE2FzA4AADMYApgYFIQHOVXDOqbmQQpXInQ0iACRI/URAExLGonMDQx3CJKDM3MNQQ7SMLYlVy\n",
       "PWLgRuKmgCPGB4vKKI4HDN3EmMn7lMeAqwG/yjtngGAD94nZM1thHEyVE4AEAGU/IhvOVqBnAAAA\n",
       "AElFTkSuQmCC\n",
       "\" style=\"display:inline;vertical-align:middle;\" /></a>, <a class=\"ProveItLink\" href=\"../../../../__pv_it/530be409e3083890784cf1d7b28c9e67e90af9360/expr.ipynb\"><img src=\"data:image/png;base64,iVBORw0KGgoAAAANSUhEUgAAAAsAAAAJBAMAAAAWSsseAAAAKlBMVEX///9ERETMzMwQEBAiIiKY\n",
       "mJju7u5mZmaqqqpUVFSIiIh2dnbc3NwAAAA/vyDhAAAAAXRSTlMAQObYZgAAAENJREFUCNdjYDi9\n",
       "8sTyBQxsG1hdmR0YuBm4LnAoMLAxcAowgADzAjB1VoEhgYH1wFoGrgSG3gBhhlMMDImrs3cFMAAA\n",
       "t0YN+iTRa+sAAAAASUVORK5CYII=\n",
       "\" style=\"display:inline;vertical-align:middle;\" /></a> : <a class=\"ProveItLink\" href=\"../__pv_it/54da8b562eb61b1391636cf9ce4aecb33c0076820/expr.ipynb\"><img src=\"data:image/png;base64,iVBORw0KGgoAAAANSUhEUgAAADkAAAAVBAMAAAAOWFv7AAAAMFBMVEX///8QEBCYmJhmZmaqqqrc\n",
       "3Nzu7u5ERERUVFS6urp2dnbMzMwyMjIiIiKIiIgAAACFNc/vAAAAAXRSTlMAQObYZgAAAPxJREFU\n",
       "KM9jYMAL3p6GMnRugql5cBlNIF4J54FZ3A0MtndB4DoD8waQGCdYbgNElicBRG4GCx0AyXIA1TDw\n",
       "PYDIvmNAyGqBZLkLgCzeBIisGJJsIti2o0CWM8RezgNIsuwOIDGgDEgFSJZ5AZIslwFIDGgqyHSQ\n",
       "LI8CkizLAZAY0EUcEyCyjBOQZDkFwGIXGHKg/uVHluX+ABYzYViERzYGqBtqsgOmyRybHkBl2ZFd\n",
       "xQR2FQN3bQJUFugJdB8xMByGxQLnBbD4LjDJMwEiuw0eR6JIkZuIEYNaSLLrMGQhMQgGbAcwZFkb\n",
       "4HyOAGDKuQ1LQpCUEweXfc3AAAAv5E7ekflR5wAAAABJRU5ErkJggg==\n",
       "\" style=\"display:inline;vertical-align:middle;\" /></a>, <a class=\"ProveItLink\" href=\"../../../../__pv_it/f8b9edf8e16034727f0aad55bb83e392c3db40d40/expr.ipynb\"><img src=\"data:image/png;base64,iVBORw0KGgoAAAANSUhEUgAAAAsAAAANBAMAAACN24kIAAAAMFBMVEX///+YmJhUVFQyMjIQEBBE\n",
       "REQiIiKqqqrMzMyIiIi6urrc3NxmZmZ2dnbu7u4AAADXeCicAAAAAXRSTlMAQObYZgAAAFhJREFU\n",
       "CNdj4LtzgWH/AwZerg8M8xkY2nkSGEIZGB6wTGD4ycDAUP+A4weQOszA6QCkbBhYFYDUIYb1AkDq\n",
       "6czzGxhA4BoQMyXwuQMptgusF4AU+8xTQBIAUqMVoSp/SLMAAAAASUVORK5CYII=\n",
       "\" style=\"display:inline;vertical-align:middle;\" /></a> : <a class=\"ProveItLink\" href=\"../__pv_it/f442276f834cda47790ded243b38294647dfe1df0/expr.ipynb\"><img src=\"data:image/png;base64,iVBORw0KGgoAAAANSUhEUgAAADUAAAAPBAMAAAC2KZqIAAAAMFBMVEX///+YmJh2dnaqqqoyMjLu\n",
       "7u5UVFS6urpEREQQEBAiIiJmZmbMzMyIiIjc3NwAAAD1oEhMAAAAAXRSTlMAQObYZgAAAHtJREFU\n",
       "GNNjYGBgeMuACrhXgUEDiH0aIsQOJg+ASZ4NUHVQOTaQMO8FrHI8IEO4ArDKMfgBsTUDdjlrqDw2\n",
       "OaB5YHOxyQHdwVaAQ45hAUMIAy65zQyKOOWeAHXikmM7eAGnHE9XAIrcrlWrVq5atQIi5A1XpcCA\n",
       "Do6i8AAHVSocMnjJgQAAAABJRU5ErkJggg==\n",
       "\" style=\"display:inline;vertical-align:middle;\" /></a></span></td></tr><tr><td>3</td><td>specialization</td><td>6, 7, 8</td><td><span style=\"font-size:20px;\"> <a class=\"ProveItLink\" href=\"../__pv_it/44bc2f86bca471012e483839732c8e7229e7d9900/proof.ipynb\" style=\"text-decoration: none\">&#x22A2;&nbsp;</a><a class=\"ProveItLink\" href=\"../__pv_it/183b5ff1c91586d17a57a4d70f714372654fc70a0/expr.ipynb\"><img src=\"data:image/png;base64,iVBORw0KGgoAAAANSUhEUgAAAGYAAAAVBAMAAABGR4Y+AAAAMFBMVEX///8QEBCYmJhmZmaqqqrc\n",
       "3Nzu7u5ERERUVFS6urp2dnbMzMwyMjIiIiKIiIgAAACFNc/vAAAAAXRSTlMAQObYZgAAARZJREFU\n",
       "OMtjYCADvD0NZejcBFPz4DKaOPWsRGVxN4DIOBDBvAGL8jiISk4wZwNED08CiNwMFjqARc9miB4O\n",
       "kHl8DyB63iFkGLRw6+EuAFK8CRA9Ykh6EnHrYTgKpJwh/uE8gKSH3QG3HqB6kD6QHuYFSHq4DHDr\n",
       "AboL5D6QHh4FJD0sYEttzoDACTQ9QP9zTIDoYZyApIdTALc9DBcYcqAsfmQ93B/w6DFhWESynhig\n",
       "TVC3OWC4zfYuCFxH18Ox6QGUxY4cBkwH8NjDXZsAZUGDl3BYMzAchrE4L4AdcxHsGJ4JaBpgMmA9\n",
       "2+C6RZGUJBKZF5DT5Toi9UDyAhiwHSBSD2sDnM8RgDNv34YxbiIyIhi8xqUFAMGuZvb3E0DBAAAA\n",
       "AElFTkSuQmCC\n",
       "\" style=\"display:inline;vertical-align:middle;\" /></a></span></td></tr>\n",
       "<tr><td>&nbsp;</td><td colspan=4 style=\"text-align:left\"><span style=\"font-size:20px;\"><a class=\"ProveItLink\" href=\"../__pv_it/fd4b0a418766985890fb332a124e981d1643d8330/expr.ipynb\"><img src=\"data:image/png;base64,iVBORw0KGgoAAAANSUhEUgAAAEkAAAAVBAMAAAD4Ed5jAAAAMFBMVEX////u7u5mZmaYmJi6urqq\n",
       "qqp2dnbMzMwQEBBEREQyMjLc3NwiIiJUVFSIiIgAAAAeC3ydAAAAAXRSTlMAQObYZgAAAR1JREFU\n",
       "KM9jYCAZsDzAJmoCJt/+v3v37AYQqxarXqYCMPWLgYGzG8RYiN2KBSCC/RsDAysQM/A9wK7KDETw\n",
       "fWFgYP4EZHAIYFclASI4PzAw8H4FMrxweIozAEjwA+2VnwBkqCEktr3d+ghuP5sCkKhPYGA/BOIt\n",
       "hitiTGA+zHEAxmMFOf/9tTQ1cEC0wFWxMfB9YC2AB2MDkJgPc/QXhFkMvBMQ1rMDHc7whwFDFdC/\n",
       "D1BVsX+C8VqRVO0vYBBAtpEPbsRkuBrmDe8Z+OCqmIGu5/wI4yXBVcUbzGDYx4AUEkLz/8Kc4AP0\n",
       "9EwgmMgg+UwszwDGYeByQA5jjg14YgjhmgTsqvJQudhTDuMCVP5erKp40RzCjTWBPWdgAADdXkSh\n",
       "Sa6TGQAAAABJRU5ErkJggg==\n",
       "\" style=\"display:inline;vertical-align:middle;\" /></a> : <a class=\"ProveItLink\" href=\"../__pv_it/5d949ac1c54c838cd60b0e764d60f86b5e6d660a0/expr.ipynb\"><img src=\"data:image/png;base64,iVBORw0KGgoAAAANSUhEUgAAAFEAAAAOBAMAAAClee0nAAAALVBMVEX///8yMjLMzMwQEBAiIiKY\n",
       "mJhmZmZUVFSIiIh2dnbc3Nzu7u5ERESqqqoAAABdTVCLAAAAAXRSTlMAQObYZgAAAG5JREFUKM9j\n",
       "YCACcDUwEAmYEgaNSq4ZVTcyiFK5kyEkwASJnygIAuJYVE5g6GO4RJSZGxhqiPaRBbEquR4xcCNx\n",
       "U1xAwAeLyiiOBwzdxJjJ+5THAHfsQlTeOQMEG7hPzJ7ZCuOgKmMDusLExeUAAH6DIgMMCW+iAAAA\n",
       "AElFTkSuQmCC\n",
       "\" style=\"display:inline;vertical-align:middle;\" /></a>, <a class=\"ProveItLink\" href=\"../../../../__pv_it/530be409e3083890784cf1d7b28c9e67e90af9360/expr.ipynb\"><img src=\"data:image/png;base64,iVBORw0KGgoAAAANSUhEUgAAAAsAAAAJBAMAAAAWSsseAAAAKlBMVEX///9ERETMzMwQEBAiIiKY\n",
       "mJju7u5mZmaqqqpUVFSIiIh2dnbc3NwAAAA/vyDhAAAAAXRSTlMAQObYZgAAAENJREFUCNdjYDi9\n",
       "8sTyBQxsG1hdmR0YuBm4LnAoMLAxcAowgADzAjB1VoEhgYH1wFoGrgSG3gBhhlMMDImrs3cFMAAA\n",
       "t0YN+iTRa+sAAAAASUVORK5CYII=\n",
       "\" style=\"display:inline;vertical-align:middle;\" /></a> : <a class=\"ProveItLink\" href=\"../__pv_it/2c40a46cc26842e05a116a65547464952a8098890/expr.ipynb\"><img src=\"data:image/png;base64,iVBORw0KGgoAAAANSUhEUgAAADkAAAAVBAMAAAAOWFv7AAAAMFBMVEX///8QEBCYmJhmZmaqqqrc\n",
       "3Nzu7u5ERERUVFS6urp2dnbMzMwyMjIiIiKIiIgAAACFNc/vAAAAAXRSTlMAQObYZgAAAP9JREFU\n",
       "KM9jYMAL3p6GMnRugql5cBlNIF4J54FZ3A0gMg5EMG8AiXGC5TZAZHkSQORmsNABkCwHUA0D3wOI\n",
       "7DsGhKwWSJa7AMjiTYDIiiHJJoJtOwpkOUPs5TyAJMvuABIDyoBUgGSZFyDJchmAxICmgkwHyfIo\n",
       "IMmyHACJAV3EMQEiyzgBSZZTACx2gSEH6l9+ZFnuD2AxE4ZFeGRjgLqhJjtgmsyx6QFUlh3ZVUxg\n",
       "VzFw1yZAZYGeQPcRA8NhWCxwAq2wvXv34t2714HemwCR3QaPI1GkyE3EiEEtJNl1GLKQGAQDtgMY\n",
       "sqwNcD5HADDl3IYlIUjKiYPLvmZgAABGkk52bJ3edwAAAABJRU5ErkJggg==\n",
       "\" style=\"display:inline;vertical-align:middle;\" /></a>, <a class=\"ProveItLink\" href=\"../../../../__pv_it/f8b9edf8e16034727f0aad55bb83e392c3db40d40/expr.ipynb\"><img src=\"data:image/png;base64,iVBORw0KGgoAAAANSUhEUgAAAAsAAAANBAMAAACN24kIAAAAMFBMVEX///+YmJhUVFQyMjIQEBBE\n",
       "REQiIiKqqqrMzMyIiIi6urrc3NxmZmZ2dnbu7u4AAADXeCicAAAAAXRSTlMAQObYZgAAAFhJREFU\n",
       "CNdj4LtzgWH/AwZerg8M8xkY2nkSGEIZGB6wTGD4ycDAUP+A4weQOszA6QCkbBhYFYDUIYb1AkDq\n",
       "6czzGxhA4BoQMyXwuQMptgusF4AU+8xTQBIAUqMVoSp/SLMAAAAASUVORK5CYII=\n",
       "\" style=\"display:inline;vertical-align:middle;\" /></a> : <a class=\"ProveItLink\" href=\"../__pv_it/491621fb4fe1a75cf61bb0f680150a59814c86380/expr.ipynb\"><img src=\"data:image/png;base64,iVBORw0KGgoAAAANSUhEUgAAADUAAAAPBAMAAAC2KZqIAAAAMFBMVEX///+YmJh2dnaqqqoyMjLu\n",
       "7u5UVFS6urpEREQQEBAiIiJmZmbMzMyIiIjc3NwAAAD1oEhMAAAAAXRSTlMAQObYZgAAAH9JREFU\n",
       "GNNjYGBgeMuAAfguQBmnIRQ7mDwAJnk2oMqxgYR5L2CV42kAElwBWOUY/IDYmgG7nDVUHpsc0Dyw\n",
       "udjkgO5gK8Ahx7CAIYQBl9xmBkWcck+AOnHJsR28gFOOpysARW7XqlUrV61aARHyBpPcq1atmrVq\n",
       "VQNq8B9F4QEA5vEqvogKH/gAAAAASUVORK5CYII=\n",
       "\" style=\"display:inline;vertical-align:middle;\" /></a></span></td></tr><tr><td>4</td><td>axiom</td><td></td><td><span style=\"font-size:20px;\"> <a class=\"ProveItLink\" href=\"../_axioms_.ipynb#orFT\" style=\"text-decoration: none\">&#x22A2;&nbsp;</a><a class=\"ProveItLink\" href=\"../__pv_it/5ea183ee3a62eec21a5ad7170d73035cb12c98600/expr.ipynb\"><img src=\"data:image/png;base64,iVBORw0KGgoAAAANSUhEUgAAAHAAAAAVBAMAAABs93eRAAAAMFBMVEX////c3NwiIiJERESqqqqY\n",
       "mJh2dnZmZmYQEBDu7u4yMjJUVFTMzMyIiIi6uroAAAAs73DqAAAAAXRSTlMAQObYZgAAAQtJREFU\n",
       "OMtjYCAb8F3AJxuHW+o0iGBE112kBALKDOwHGHDIMKwE8XgKIKIPwBwI+ziYXIDFLrAM7wVkjXtA\n",
       "xF1kjWG4NHJMQNZ4GERoImucgUvjKwZkjVwCDAwsBcgamR1waCxD0QjSBNKM0MhWgEPjUhSNIGce\n",
       "RpZmYAGHTtUqEFiNLNOHqhEYMPtQNPI14LDxH6pGJgbOBSgaeT4Qp5HdgS2AOI0tqBoZFzAxYHEq\n",
       "PLkgZExRNTLsiUXVyLoAh43paBoPa6JqxBkdj4D+ArqiSUnJAJIE4AqPQfgPMDWCZTgEUAV5JqDy\n",
       "Z+DKVawJ+LNrLk6ZlXj1cS7AKSWNVyO3AE4pRrxFxx1cEgDs8Ui/5ZhoRQAAAABJRU5ErkJggg==\n",
       "\" style=\"display:inline;vertical-align:middle;\" /></a></span></td></tr>\n",
       "<tr><td>&nbsp;</td><td colspan=4 style-\"text-align:left\"><a class=\"ProveItLink\" href=\"../_axioms_.ipynb#orFT\">proveit.logic.boolean.disjunction.orFT</a></td></tr><tr><td>5</td><td>specialization</td><td>10, 9</td><td><span style=\"font-size:20px;\"> <a class=\"ProveItLink\" href=\"../__pv_it/b34f844b5a8b0f257505896a2ddda1f25a27a2f00/proof.ipynb\" style=\"text-decoration: none\">&#x22A2;&nbsp;</a><a class=\"ProveItLink\" href=\"../__pv_it/8e96697ff6db1304f74f1861b6d3300d1b9a71ea0/expr.ipynb\"><img src=\"data:image/png;base64,iVBORw0KGgoAAAANSUhEUgAAAJwAAAAVBAMAAABBKZpuAAAAMFBMVEX///8QEBCYmJhmZmaqqqrc\n",
       "3Nzu7u5ERERUVFS6urp2dnbMzMwyMjIiIiKIiIgAAACFNc/vAAAAAXRSTlMAQObYZgAAAY9JREFU\n",
       "OMutlL9OAkEQh4fDIxEOYmFDYeIDGHO1Nj6AxZWUPACFITyAjYWhOXtJTK7azu7oJBYkRm2vMSS8\n",
       "APZ07r9xd2bhCuMUd7f89vuyy90OwP/W5t3co89c3Q7XGER5ONmlu0oRAgdtjc+hudJ1A5chMFeX\n",
       "mDt9QoDWdKxuqQepuiahzksBOSCEgKl6+ja63tqF0RO3+SkgB4QQUKqnyugaQxe2jrjOTwE5IISA\n",
       "JAM4SI3u0QthwnUkRY4SQv8kI6278MOC60iKHCWEXnBp3+yrH17r1/ah6xZ4ihwlhP47762u74cP\n",
       "fHV9qjMcJaSuC62F1W398IXrtlRnOEpIXfOqffoXneECXbzo4qk4Djb7+8nzFLlgszA9R93YD8/4\n",
       "6sZUZzhKKF1Zoa6o/VAKpisrptMfCiQp6mYmNMfrjetmZu8ndu+Go4TSdYaoa2QO3nHIMjrWHBCC\n",
       "Nij/2LeD5hY2BVqSYP1u6cLRnga1v0ZB+xy48C6cP6jXSWLzZXvZKqettvcczo9rm7skfgAK2ogP\n",
       "yk33MAAAAABJRU5ErkJggg==\n",
       "\" style=\"display:inline;vertical-align:middle;\" /></a></span></td></tr>\n",
       "<tr><td>&nbsp;</td><td colspan=4 style=\"text-align:left\"><span style=\"font-size:20px;\"><a class=\"ProveItLink\" href=\"../../../../__pv_it/2cbe72a7ad6f655694dd697106680215e8489b600/expr.ipynb\"><img src=\"data:image/png;base64,iVBORw0KGgoAAAANSUhEUgAAAA8AAAAOBAMAAAACpFvcAAAALVBMVEX///8QEBBERERUVFS6urqI\n",
       "iIhmZmaqqqrc3Nzu7u6YmJgyMjIiIiLMzMwAAADtIaYWAAAAAXRSTlMAQObYZgAAAFtJREFUCNdj\n",
       "YACBOwxQsA9Kc52bAGG05zVAGAFxDmCaZULdAjBjCsO9ADDDgaEvAUTzGhvbKYCVMDAwbgAxChgY\n",
       "eASANAeQwf0AyJgNxEwvGRia5HYwcOm9TgAA6BoR3jrzwFcAAAAASUVORK5CYII=\n",
       "\" style=\"display:inline;vertical-align:middle;\" /></a> : <a class=\"ProveItLink\" href=\"../../__pv_it/68a87cc3370287d726c7086ace789e680e4461c30/expr.ipynb\"><img src=\"data:image/png;base64,iVBORw0KGgoAAAANSUhEUgAAAA4AAAAOBAMAAADtZjDiAAAAFVBMVEX///92dnbMzMxEREQiIiJm\n",
       "ZmYAAABAT6GXAAAAAXRSTlMAQObYZgAAABhJREFUCNdjCHEBAWcGIFBlgABa0YpADAAxegPJJk4d\n",
       "XAAAAABJRU5ErkJggg==\n",
       "\" style=\"display:inline;vertical-align:middle;\" /></a></span></td></tr><tr><td>6</td><td>theorem</td><td></td><td><span style=\"font-size:20px;\"> <a class=\"ProveItLink\" href=\"../../../equality/_proofs_/subLeftSideInto.ipynb\" style=\"text-decoration: none\">&#x22A2;&nbsp;</a><a class=\"ProveItLink\" href=\"../../../equality/__pv_it/3ec60be0054bb218e4347eeddae1ab877388efa90/expr.ipynb\"><img src=\"data:image/png;base64,iVBORw0KGgoAAAANSUhEUgAAAMIAAAAXBAMAAACrPI2eAAAAMFBMVEX///8QEBC6urrMzMxUVFRm\n",
       "ZmZERETc3NwyMjKqqqp2dnaIiIiYmJgiIiLu7u4AAAAU9Wx4AAAAAXRSTlMAQObYZgAAAsZJREFU\n",
       "SMe1Vk1oE1EQ/pLd5m832+BFvEgED0KRRhA8NmhRsRdBeyke1oOtf5CAYlARFy8VFPVSEXJwEYq1\n",
       "ouRQD/bSFS+CiDkoghQpgkW8NKixttTqvL/ta8OCSjqwmdlvv51v38y8R4B1t5l1yRqvCW/ngToL\n",
       "XrYn78Tv3t43ZRbtVNAh4AHzN9r06T+BxMZVCVPAOXJJtz0CxiKQpgtWTUG2jxQ1ouNWexSsr5Sy\n",
       "SUEs7K6Tg32/UrnUpiIlGoC5QMG2FewE8GNw8P3fJTjDf9PRhE4PmGMVH6DrwsT5J1SsUWAPMETv\n",
       "lfoPD7UOnXC3m/17y0j6oth+pEKPD+MtC65TeXx7OkaDegfYCoek8Qx41Lps2a4cMnV1g3uRClMH\n",
       "xgf4sG4AMrAa6QKwBcjCCgjsBV7PRCiYRdjLqErwc6RCSSWgjjsw+YT20AAEWfZgGtgftYZsANOD\n",
       "KqJZiFL4hRUFGqiaVHA8tgGdb7Df0domuqgv6HKxWVOYK+BVGTmJ82GXRGhkGE2lsIn9XC6wI4mq\n",
       "hKHdrKeL40fIPTZdeurU5o2cptA9PhrA8CQeL0qieZXsWkjm20HYaepdeQoWKbyg2xF2NGU8/iif\n",
       "Yj1JfqxbrqYwxueqKHHDC4nQyUgsKwUa0bvBUVwUoahX4qAcaT4Lpm/WNIVjfB8UJc4VJFEnfyp9\n",
       "V4fFdmB28stD9hFX2CyyRnfKg2MHWB9j+VhBU1jga3AlHnclMcGrFJI1i5W1U0NtFsKSw0ZjDH5y\n",
       "GLFCtzZLxjznUjE5bvuSqNJJsmZ2uCszalmZm3SQG0vOqZHJGWMJ6b7jmsJYk3/jBwi8Iy+J8l1F\n",
       "1i08vddsHlu5Cvr0/SDsKQSeConCFFm3syrYtxrfpdzJuNeqMAuBV0OiMEXWLSmLY63pUKBcdRKt\n",
       "CmmJF0OiMEX+LzNX3T0XLfvH/w5/AOrJuu1B3OWnAAAAAElFTkSuQmCC\n",
       "\" style=\"display:inline;vertical-align:middle;\" /></a></span></td></tr>\n",
       "<tr><td>&nbsp;</td><td colspan=4 style-\"text-align:left\"><a class=\"ProveItLink\" href=\"../../../equality/_proofs_/subLeftSideInto.ipynb\">proveit.logic.equality.subLeftSideInto</a></td></tr><tr><td>7</td><td>axiom</td><td></td><td><span style=\"font-size:20px;\"> <a class=\"ProveItLink\" href=\"../_axioms_.ipynb#orFF\" style=\"text-decoration: none\">&#x22A2;&nbsp;</a><a class=\"ProveItLink\" href=\"../__pv_it/0ed976e03d3d7070b42aaf5485813e9ab228404b0/expr.ipynb\"><img src=\"data:image/png;base64,iVBORw0KGgoAAAANSUhEUgAAAHAAAAAVBAMAAABs93eRAAAAMFBMVEX////c3NwiIiJERESqqqqY\n",
       "mJh2dnZmZmYQEBDu7u4yMjJUVFTMzMyIiIi6uroAAAAs73DqAAAAAXRSTlMAQObYZgAAAQ5JREFU\n",
       "OMtjYCAb8F3AJxuHW+o0iGDEolsWRLAfYMAhw7ASRPAUQIQegDkQ9nEwuQCLRrAM7wVkjXtAxF1k\n",
       "jWG4NHJMQNZ4GERoImucgUvjKwZkjVwCDAwsBcgamR1waCxD0QjSBNKM0MhWgEPjUhSNIGceRpZm\n",
       "YAGHTtUqEFiNLNOHqhEYMPtQNPI14LDxH6pGJgbOBSgaeT4Qp5HdgS2AOI0tqBoZFzAxYHFqkRII\n",
       "KCPLmKJqZNgTi6qRdQEOG9PRNB7WRNWIMzoeAf0FdEWTkpIBJAlAFALdpgF2G9cDNF0wGQ4BVHGe\n",
       "Caj8GbhyFWsC/uyai1NmJV59nAtwSknj1cgtgFOKEW/RcQeXBADdEUd5x52DOAAAAABJRU5ErkJg\n",
       "gg==\n",
       "\" style=\"display:inline;vertical-align:middle;\" /></a></span></td></tr>\n",
       "<tr><td>&nbsp;</td><td colspan=4 style-\"text-align:left\"><a class=\"ProveItLink\" href=\"../_axioms_.ipynb#orFF\">proveit.logic.boolean.disjunction.orFF</a></td></tr><tr><td>8</td><td>specialization</td><td>10, 11</td><td><span style=\"font-size:20px;\"> <a class=\"ProveItLink\" href=\"../__pv_it/12e7392549ddd569fa9c4038e00bd4c57447a65b0/proof.ipynb\" style=\"text-decoration: none\">&#x22A2;&nbsp;</a><a class=\"ProveItLink\" href=\"../__pv_it/444b220bf1c91615a6b9dec90fd7905c2681daa20/expr.ipynb\"><img src=\"data:image/png;base64,iVBORw0KGgoAAAANSUhEUgAAAJwAAAAVBAMAAABBKZpuAAAAMFBMVEX///8QEBCYmJhmZmaqqqrc\n",
       "3Nzu7u5ERERUVFS6urp2dnbMzMwyMjIiIiKIiIgAAACFNc/vAAAAAXRSTlMAQObYZgAAAYhJREFU\n",
       "OMutlLFOwzAQhq8JrUSaVgwsHZB4AIQyw8IDMGTs2AfogKo+AAsD6hJ2kJAyeWMLGxVDJQSsWVCl\n",
       "vkDZuxGfc9h3bjogbnDi/vk+2Wl8AP9b63dzDT4zfdlfURBk/sM23VaaUDSJEH/WQxupcx9wUl6/\n",
       "hALUdGvdAieJHmOfclIgDhihYKbvvo2uv7Jh8ChtbgrEASMUFPquNLrWyIadA6lzUyAOGKEgTgH2\n",
       "EqO7d0KYSh1LieOEwp+qCHVnbphLHUuJ44TCBRf1P/vqhpd6CD+wrkGmxHFC4eu8rXUDN7yTqxtw\n",
       "neE4Uel60JnXuo0bvkjdhusMx4lKF15Ex3/RGc7Ttec9OhWH3mbDJdYVyJQ4b7MwOyXdxA1P5Oom\n",
       "XGc4TmhdUZIu3/mh5EJXlEKHHwrECekezO6OcHdvUsdS4jihdd0R6VqphbccspTPkQNG8AblHvvI\n",
       "a0R+U+BVEaLfLWw4bmhQzTX22ufQhjf+88PduopYf9W9bJnxVtt/amq6TVURP00KhwPNM5OIAAAA\n",
       "AElFTkSuQmCC\n",
       "\" style=\"display:inline;vertical-align:middle;\" /></a></span></td></tr>\n",
       "<tr><td>&nbsp;</td><td colspan=4 style=\"text-align:left\"><span style=\"font-size:20px;\"><a class=\"ProveItLink\" href=\"../../../../__pv_it/2cbe72a7ad6f655694dd697106680215e8489b600/expr.ipynb\"><img src=\"data:image/png;base64,iVBORw0KGgoAAAANSUhEUgAAAA8AAAAOBAMAAAACpFvcAAAALVBMVEX///8QEBBERERUVFS6urqI\n",
       "iIhmZmaqqqrc3Nzu7u6YmJgyMjIiIiLMzMwAAADtIaYWAAAAAXRSTlMAQObYZgAAAFtJREFUCNdj\n",
       "YACBOwxQsA9Kc52bAGG05zVAGAFxDmCaZULdAjBjCsO9ADDDgaEvAUTzGhvbKYCVMDAwbgAxChgY\n",
       "eASANAeQwf0AyJgNxEwvGRia5HYwcOm9TgAA6BoR3jrzwFcAAAAASUVORK5CYII=\n",
       "\" style=\"display:inline;vertical-align:middle;\" /></a> : <a class=\"ProveItLink\" href=\"../../__pv_it/8f1f7fac882de28c72b62ab80a1700b6d8fd066b0/expr.ipynb\"><img src=\"data:image/png;base64,iVBORw0KGgoAAAANSUhEUgAAAA4AAAAOBAMAAADtZjDiAAAAG1BMVEX///9EREQQEBAiIiJmZmbM\n",
       "zMyIiIjc3NwAAACryk5kAAAAAXRSTlMAQObYZgAAABlJREFUCNdjYGBgKGOAgBBa0s7GxkbGxoYA\n",
       "FMUF2aBfHgoAAAAASUVORK5CYII=\n",
       "\" style=\"display:inline;vertical-align:middle;\" /></a></span></td></tr><tr><td>9</td><td>theorem</td><td></td><td><span style=\"font-size:20px;\"> <a class=\"ProveItLink\" href=\"../../_proofs_/trueInBool.ipynb\" style=\"text-decoration: none\">&#x22A2;&nbsp;</a><a class=\"ProveItLink\" href=\"../../__pv_it/9f5690849bd61b8821dafe2919824d2ac18aea6c0/expr.ipynb\"><img src=\"data:image/png;base64,iVBORw0KGgoAAAANSUhEUgAAADYAAAAPBAMAAABdHiGLAAAAMFBMVEX///+qqqpUVFQQEBC6urrc\n",
       "3NyYmJgyMjKIiIju7u52dnbMzMxEREQiIiJmZmYAAADNQpwIAAAAAXRSTlMAQObYZgAAAJBJREFU\n",
       "GNNjeHsXBO4wIAOu+uPfbQ+CmfsY0AEPS8P0WQtwynE4FKDIcbbfvVsAlWNM0ESR256JpM/1ALIc\n",
       "60kkM/fmTECW4wlAyN39b4HizjkobmlEMdMZ5FOYWxgOeCHLbULWx3CAB1luLh45pgQUORQzOa8g\n",
       "ybG9ALtlF0wo/DU8rP9cVkQLR6FaiDshAAC+xzqFv6q7bgAAAABJRU5ErkJggg==\n",
       "\" style=\"display:inline;vertical-align:middle;\" /></a></span></td></tr>\n",
       "<tr><td>&nbsp;</td><td colspan=4 style-\"text-align:left\"><a class=\"ProveItLink\" href=\"../../_proofs_/trueInBool.ipynb\">proveit.logic.boolean.trueInBool</a></td></tr><tr><td>10</td><td>theorem</td><td></td><td><span style=\"font-size:20px;\"> <a class=\"ProveItLink\" href=\"unaryDisjunctionLemma.ipynb\" style=\"text-decoration: none\">&#x22A2;&nbsp;</a><a class=\"ProveItLink\" href=\"../__pv_it/a551c039bca50f02a0be6054e1e611571afe42fd0/expr.ipynb\"><img src=\"data:image/png;base64,iVBORw0KGgoAAAANSUhEUgAAAOUAAAAVBAMAAABLdTQ8AAAAMFBMVEX///8QEBC6urrMzMxUVFRm\n",
       "ZmZERETc3NwyMjKqqqp2dnaIiIiYmJgiIiLu7u4AAAAU9Wx4AAAAAXRSTlMAQObYZgAAA1VJREFU\n",
       "SMfFlk1oE0EUx18+N0022+KlerCu4kGoSg61Fz9abKDHFqSgYv06pIhKc5DWUtSglkqR2kvBm0Go\n",
       "IooseJTSICi1IqRKexA/oqgUKlIK1oJSfW/m7WazH8GbA5l9s2/+85t9M/MmAP+hlKp6gwZMXmF7\n",
       "+pV4NFrOJx6CxmqjqboUFanxwq9XE8BtqyGsUKuwQ6iLpFz9pXfQa6i9+DsgRfeoPerHHCVSUJgp\n",
       "yYzJwMSWsMq5+kvvLtnQxSxM1w1yS1EfPpTjPsiEQcxwSpqC+Vh6Xq5hNeMSSC8z22z9Qf2A01Hz\n",
       "QkQzi4z5MAMlYoZoSsmSZDYIhzL+E+uPLkGDndlM1Xv2DBzLAmh1QqTe7e+/4BfabXIVh/ExLtcz\n",
       "KOOZSCxjHXXOlb3MjCGlppNdxhSF+pQUrWQyb/yYhyUTecQlZiQvHDtrfmMd73T0Zy8ziUdcMZvS\n",
       "rQI+JqQIo94jXg+7mdclE+NK8SVmjJSg6aFfNKj4rIPXqFwFy2syKa7NbH6CFtwbcFOKtoImpOoy\n",
       "L/bIyFCBe66TTNw/YV0yA2IzBkH5QY865/rrFUzcP/vB3MOXKCibpSgJCYH4QtFa7DoCRn5xC/dc\n",
       "5lNZhAW2asWoTen0Cp2DJQeztpKZ5M/Bnul0B+3EFilKFJLiUD2cQ/vkxe/IjH9zMA/BgwomVuv/\n",
       "gRkZi3PE8IgHcmWmlmsSMzEyAE/FDss3HmXRBiadF+lKxJa2ag3+Zq3Ydr+jMg+mt8xUckm28H2y\n",
       "rhxb6BExD0M3Jxaja6O5nmeYFN5jsBUl1wCnFdWZiKKVewjaOKkqY5y5plk0LlLuc5iCUF5+Z2Q3\n",
       "ayaYFDpbYot2ulik3pLHWeEXFrOZMwLthuha+axAgL5Bm+vqLYXmM5nTtJ5x1uwwM/uQmeODRVBO\n",
       "rGbh2R98FdOdOaEoQj3LoYaYnEPfpmFQe1excZlFKn1DJAstKa1VfqfFDGSZuc+6V+ptCHfuq3dc\n",
       "M46bknMfl+246QrQzrE1LyPKyY67zJ7X77uYM9Uv67hhE31eAaXjLXzVRU7IFCrusgpmrDx1ze8u\n",
       "8y0LXqI7uJ72cs7FVFqtdjjrGtTm9SrtniLnGPjf5DXbk/K/SflPwCMPwWC10RIpIfoL5eDqA8sN\n",
       "TKMAAAAASUVORK5CYII=\n",
       "\" style=\"display:inline;vertical-align:middle;\" /></a></span></td></tr>\n",
       "<tr><td>&nbsp;</td><td colspan=4 style-\"text-align:left\"><a class=\"ProveItLink\" href=\"unaryDisjunctionLemma.ipynb\">proveit.logic.boolean.disjunction.unaryDisjunctionLemma</a></td></tr><tr><td>11</td><td>theorem</td><td></td><td><span style=\"font-size:20px;\"> <a class=\"ProveItLink\" href=\"../../_proofs_/falseInBool.ipynb\" style=\"text-decoration: none\">&#x22A2;&nbsp;</a><a class=\"ProveItLink\" href=\"../../__pv_it/5ddcdc170ae135aa2397d35b7606cd81f952c91a0/expr.ipynb\"><img src=\"data:image/png;base64,iVBORw0KGgoAAAANSUhEUgAAADYAAAAPBAMAAABdHiGLAAAAMFBMVEX///92dnaqqqpUVFS6urqY\n",
       "mJgyMjLu7u5EREQQEBAiIiJmZmbMzMyIiIjc3NwAAABz/qQtAAAAAXRSTlMAQObYZgAAAJVJREFU\n",
       "GNNjYGBgeMuABhjz277NagIzT6PLMXCwXCgrFMApx+uQgCLHfm3VqgSoHFOAOYrcsXAkfX4NyHJ8\n",
       "7UhmnoooQJbjeICQW/V/Loo7K1DccgnFTM9VqxBuYWhwRJY7jKyPoYEDWa4KjxxzAIocipnsS5Dk\n",
       "WPc2MOxatWrlqlUrwELP9sDD+sdKI7RwVM6CuBMCADjtOPFI200aAAAAAElFTkSuQmCC\n",
       "\" style=\"display:inline;vertical-align:middle;\" /></a></span></td></tr>\n",
       "<tr><td>&nbsp;</td><td colspan=4 style-\"text-align:left\"><a class=\"ProveItLink\" href=\"../../_proofs_/falseInBool.ipynb\">proveit.logic.boolean.falseInBool</a></td></tr></table>"
      ],
      "text/plain": [
       "\tstep type\trequirements\tstatement\n",
       "0\tspecialization\t1, 2, 3\t|- forall_{A in BOOLEANS} ([or](A) = A)\n",
       "\tP(A) : [or](A) = A\n",
       "1\ttheorem\t\t|- forall_{P | P(TRUE) , P(FALSE)} [forall_{A in BOOLEANS} P(A)]\n",
       "\tproveit.logic.boolean.foldForallOverBool\n",
       "2\tspecialization\t6, 4, 5\t|- [or](TRUE) = TRUE\n",
       "\tP(_x_) : _x_ = TRUE, x : [or](TRUE), y : FALSE or TRUE\n",
       "3\tspecialization\t6, 7, 8\t|- [or](FALSE) = FALSE\n",
       "\tP(_x_) : _x_ = FALSE, x : [or](FALSE), y : FALSE or FALSE\n",
       "4\taxiom\t\t|- (FALSE or TRUE) = TRUE\n",
       "\tproveit.logic.boolean.disjunction.orFT\n",
       "5\tspecialization\t10, 9\t|- [or](TRUE) = (FALSE or TRUE)\n",
       "\tA : TRUE\n",
       "6\ttheorem\t\t|- forall_{P, x, y | P(y) , x = y} P(x)\n",
       "\tproveit.logic.equality.subLeftSideInto\n",
       "7\taxiom\t\t|- (FALSE or FALSE) = FALSE\n",
       "\tproveit.logic.boolean.disjunction.orFF\n",
       "8\tspecialization\t10, 11\t|- [or](FALSE) = (FALSE or FALSE)\n",
       "\tA : FALSE\n",
       "9\ttheorem\t\t|- TRUE in BOOLEANS\n",
       "\tproveit.logic.boolean.trueInBool\n",
       "10\ttheorem\t\t|- forall_{A in BOOLEANS} ([or](A) = (FALSE or A))\n",
       "\tproveit.logic.boolean.disjunction.unaryDisjunctionLemma\n",
       "11\ttheorem\t\t|- FALSE in BOOLEANS\n",
       "\tproveit.logic.boolean.falseInBool"
      ]
     },
     "execution_count": 7,
     "metadata": {},
     "output_type": "execute_result"
    }
   ],
   "source": [
    "%qed"
   ]
  }
 ],
 "metadata": {
  "kernelspec": {
   "display_name": "Python 3",
   "language": "python",
   "name": "python3"
  }
 },
 "nbformat": 4,
 "nbformat_minor": 0
}
