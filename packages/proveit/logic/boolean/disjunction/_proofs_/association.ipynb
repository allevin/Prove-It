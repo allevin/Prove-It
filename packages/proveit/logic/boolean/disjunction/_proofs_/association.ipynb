{
 "cells": [
  {
   "cell_type": "markdown",
   "metadata": {},
   "source": [
    "Proof of <a class=\"ProveItLink\" href=\"../../../../_context_.ipynb\">proveit</a>.<a class=\"ProveItLink\" href=\"../../../_context_.ipynb\">logic</a>.<a class=\"ProveItLink\" href=\"../../_context_.ipynb\">boolean</a>.<a class=\"ProveItLink\" href=\"../_context_.ipynb\">disjunction</a>.<a class=\"ProveItLink\" href=\"../_theorems_.ipynb#association\">association</a> theorem\n",
    "========"
   ]
  },
  {
   "cell_type": "code",
   "execution_count": 1,
   "metadata": {},
   "outputs": [],
   "source": [
    "import proveit\n",
    "context = proveit.Context('..') # the theorem's context is in the parent directory"
   ]
  },
  {
   "cell_type": "code",
   "execution_count": 2,
   "metadata": {},
   "outputs": [
    {
     "name": "stdout",
     "output_type": "stream",
     "text": [
      "Beginning proof of association\n",
      "Recorded 'presuming' information\n"
     ]
    },
    {
     "name": "stdout",
     "output_type": "stream",
     "text": [
      "Presuming previous theorems (applied transitively).\n"
     ]
    },
    {
     "data": {
      "text/html": [
       "<strong id=\"association\">association:</strong> <a class=\"ProveItLink\" href=\"../__pv_it/756fd0ae527b705ef668873dadd69e34ac03f9700/expr.ipynb\"><img src=\"data:image/png;base64,iVBORw0KGgoAAAANSUhEUgAABMYAAAAaBAMAAACukE24AAAAMFBMVEX///8QEBC6urrMzMxUVFRm\n",
       "ZmZERETc3NwyMjKqqqp2dnaIiIiYmJgiIiLu7u4AAAAU9Wx4AAAAAXRSTlMAQObYZgAACm1JREFU\n",
       "aN7tW2tsHNUVPvuy9zE7xoDSoirYtBCoUJptoREqVbwCVVFVIS+PFIVA2LSSI7WJvD+sOOLl/eM2\n",
       "RCneqs2vNI1VJZAoqN4SEdGSis3DKXJbYqnQqghn138gaozxxiHOw2Z6z713Zu7M3Nmdsdd/2r3S\n",
       "3Yzv3PPt+Q7fnHvunQXAe9s+kYNmazZfLTjxoZ/p482INZv/1gcVPxpTl1nzRdZJC13zaSszaNFI\n",
       "qz7sHaS2QfAZ7dbcGR90hPmn5GwbxZSC9aL3t6YWzfbUkhnDXeXqeiVtoJ1iGqPJ6a8eNZbEf5Ti\n",
       "cmnsft5JS173aSs1uFCdnt6heY96TYNgeU9uasUN7xIT50dSUrYNY4pg6tDt05/0zi6arcNHv4xh\n",
       "9dW/qCd7iwYaReyDI/j3Kx41Fi+Qf6KV5dLYK6YrI5dNpvTT+d+okz7U+l+mgTDedgWgVctIDaRA\n",
       "VgPrvRHMH2tma4MJzlrn56VsvTG1jkuZUjAtCzDwufew2dnmazKozziuEX0EddHmee+DHeSzNetR\n",
       "Y3TijuWSWKLIOlLRFozhcAqMcbHRJP+2voCYBsJ41w0MYlpmIAeyGljuxTUMcnSmNpjprG3+mIyt\n",
       "R6aWcSlTejOkkc+By97DZmc7VpNBXcYwcgk/hwS0MaoxzEqRgteaHx+XjculsUCFdSQ2opn1Bwo7\n",
       "6Uyea/HjPP9DMBDG3yHPoKKVZAZyIKuB5d4BmiAi2dpgprO2+ZMyth6ZWsalTClYAjPIuXnvYbOz\n",
       "nazJoC7jGEuJPxTQJqnGlNf6+1/0vK8c6+/vX7bt5T28k/bngGZG5+ek73VOj+YILT3RCwbCeC95\n",
       "BpNXpQZyIKuB5V7HHE0YhTpghrO2+S0FCVuPTC3jUqb3sBqefJTz3sNmZ8t8dGNQl3FAo2dbfxTQ\n",
       "sPcBXOnp+dCzxtp6erYPL5fGnuKdJPDZKM3TrO3lRGwN+Ub5iZ1oIIxreQgNpWUGLkBWA/FeTMu6\n",
       "frvYdGft8+MZCVuPTMVxOVMK1kbk8sBlH2Gzs2U+ujGoxxgOXHEwxt5Hl9mtnjVGFt8WXwexD5S8\n",
       "z93DO5F/JiKkcJKIQ7KK8TzP33YDYzykfXlX+TapgRzIbiDcC2sl12+37Pq4s/b5McwvkV20pcEn\n",
       "U2FczpSCdVV3/aJa8B42B1vqoyuDeoyhe97BGDvR2J2g5kHtrnjSWDANF/BhqnEcELOewfg4OLiZ\n",
       "d4CTpLbIgB4iUlCGOyXzSf35EL9kBpyFMa6QfY7amzdCIxjIgQwD572oscevDaY7G7WdgARvkrD1\n",
       "ylQYlzOlYOfINvDjq97D5mDLfHQy8MYYhmYdjLETjSUhQfS62u3Ab/Ax+MNmQ2OknyCfz1EMdhYY\n",
       "76i2L7Dti7Jl5dY3Q5a1NOAj513iHdRrZAechdAT4/oXX5AeFOHTAYIBZ2GMh7FyWXMdvv2I3cAF\n",
       "SDeQ3EuyKujuumDcWWO+HsgZCVuvTM1xF6YUrPsLPDkY9hw2B1vuo52BR8ZQ/oLKIiegYScaS5Rw\n",
       "U3BIZnxxw9NwNl6JV0yNnaA7C/qgBLh35zIQpVky2P4e3DEPv2PDyu7dgyXzoOPdw4efBmXjiYdG\n",
       "9WzOJozuO+PQWLja3qGRb4vxYG2E12XuRQpxns11g0PW8QDu8teQCmW/3cAFyDBw3ouy3dyX6oJx\n",
       "Z835tTTmkak57sKUgnXgQqOlPYfNwZb76GDgjTEMUfOARGNq/n6jOrAlwR+9NA1/K2ZEjV0IkWIi\n",
       "RtPWo7zEe7YEcbrLPUDkl5ijokZ1FocvftU8FkrE1Tc6Y8fh5qBR/NIJ+7JGqruNd/jluulPtBkz\n",
       "8jvlr0pb80l+pRvssY7T88iRG0aQTAMXIMPAeY8eDEA8XReMO2vOF9ahyARtWfDJ1Bx3YYpg9DQ1\n",
       "rhU9h83Blq/nDgbeGNOjEICDkrUStuIii9tUZdO9BxPHU/wKYBRnnv7V86LGWvrI0kvL/uC/q2y4\n",
       "nIMoLpsq+hS6CfcFVJ3F4fgULuBBkrhOE43B70vwsDqO7wq+Tr4ixSaEUzt1p7bxrmLEynNm5MPf\n",
       "ZWsxfV1a0S/IdoW/AzMM5qzjWKC04lO/H6w3KiKYxGD0jT+l3/6x5Z7agcp4CxxgJk5FdNaYj1gY\n",
       "Uvsy44upMe7CdBsvr2BgwQlm4Kh12HIf7QzqhU//nklMOok8Vw9FU1jND3vHqTQAptaUkmn6RhOv\n",
       "UuzVwun41HcEjcWe0Yus5N38nIak1GexBovgSYuawhpwlKWpezfD+RLmUiVDNBZ8swLjsUxSoYe+\n",
       "o3xCEk58g1M4xHsfcuu9ZgYrtJ1902fkb3WBX2Atyk8EdYMQr6v18e45UE8u5Mwg8RsGhrogNVBP\n",
       "zcP7cMZ678Wrv239ewYcYAYOB9Od5fMR6x+yswtfTPVxN6aHaHmVg6mOfznATBxb2BxsuY82BnXD\n",
       "p89vLb9ceeEDXT3i2QUE8BUO+v7SW9CWot+DVzlWvJ+G4YOCxuAreCDBaLFzmmC1ZwvN+wGedcne\n",
       "k6qzuGFlCTblUFFEUInIox+Bmo0XWo7hEk5UxyZ8DGP6Ir+a9TaNiLdb02aNYMEgPzkmXqor+AVW\n",
       "DCwmhkGCb9X5OP6sQFtREoLEbxgY9MJp0HoxD7N6iRrVxXG2Y+FJcIIZODrYoGU+YmHSidq3eL6Y\n",
       "8nE3phxM06qY0GxgJo41bE62uo+DtRk7wqfPV7ZoH+S4ehgadtSYQiTUQrPdD+CbEC2wqzsg9M+e\n",
       "np8Sjb3wqaix9wCPO4h4b4chapS4zvNY2yWWQkN5ps7icORBZvhEBusxeNx8eRb5nmUC34PmhIoR\n",
       "xGCtc9n02g5cWorycSNIoYo3oHCRJIqXFwm2zo5FyxznuyQ/TO3jdqZLCpvBdtLFzidjqh7xXRL3\n",
       "8T78vAWOw0CQXW0IqmmWx4IPihrD9mtcKtvb2dvUFiKtNbijaJtlyyjRGFUnKbfi/PVHiWps2DzV\n",
       "SHxENaZP4I/BMOvOYHl94Xmfy439ft+cphLZ1pnOhoAFUpEMQTpqH28o06WB6WyPNih8qB6GdlTQ\n",
       "2GcJ2JlrnSEKPBtnV7d8DdYzjcGYXWOr2PbhHB0IEH29g4tjeJ5KGIJZpk5DQkrm+3aNjYYLTo2J\n",
       "v+1ZVLAIi8YEaYA820p2uCFgAxD4Vkp2stRQpksB09nKT7/8M2bqQTSKqGssfAS6SsEsqU7Xvsau\n",
       "niKlEpF28GedEAabxj6lSyV0zRA5wkAeYtUUuVI7CrA2Q5+p9XytfJ4JCmt8orEnjbWSVGMbhQl6\n",
       "6xM8Ql8Pf+7v55DhI/Lx54Y2+YvSKkimQj/JNQRsFUReJ645wRrKdClgOttwrjHhY+pBNIoouAYl\n",
       "x9WrZMWzvksy3lCVL4PSUS10laIdCxPtm4ngSvCf8kr8jVGkk6pT2b27hwLhgdjj8O7hV7cZSHfh\n",
       "TySNCWZ0iqz/D7Zjkse9kUwbAXas4YyP2eQfyjmvHO8reTVVqCFMiDrV2Wz/x03QmCK5ctGYmq0l\n",
       "zH3NsDabXGP124Tx/1f+ppYw082wNptZnE28vzhDpcYvduKVZmCbTWz/BUGQ6E43mJ6RAAAAAElF\n",
       "TkSuQmCC\n",
       "\" style=\"display:inline;vertical-align:middle;\" /></a><br>(see <a class=\"ProveItLink\" href=\"../__pv_it/756fd0ae527b705ef668873dadd69e34ac03f9700/dependencies.ipynb\">dependencies</a>)<br>"
      ],
      "text/plain": [
       "association: forall_{l, m, n in Naturals} [forall_{(A, B, C) in BOOLEANS^{l} * BOOLEANS^{m} * BOOLEANS^{n}} ((A_1 or  ...  or A_l or B_1 or  ...  or B_m or C_1 or  ...  or C_n) = (A_1 or  ...  or A_l or (B_1 or  ...  or B_m) or C_1 or  ...  or C_n))]"
      ]
     },
     "execution_count": 2,
     "metadata": {},
     "output_type": "execute_result"
    }
   ],
   "source": [
    "%proving association presuming []"
   ]
  },
  {
   "cell_type": "code",
   "execution_count": null,
   "metadata": {},
   "outputs": [],
   "source": []
  }
 ],
 "metadata": {
  "kernelspec": {
   "display_name": "Python 3",
   "language": "python",
   "name": "python3"
  }
 },
 "nbformat": 4,
 "nbformat_minor": 0
}
