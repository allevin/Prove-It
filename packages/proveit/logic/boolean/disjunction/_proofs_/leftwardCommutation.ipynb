{
 "cells": [
  {
   "cell_type": "markdown",
   "metadata": {},
   "source": [
    "Proof of <a class=\"ProveItLink\" href=\"../../../../_context_.ipynb\">proveit</a>.<a class=\"ProveItLink\" href=\"../../../_context_.ipynb\">logic</a>.<a class=\"ProveItLink\" href=\"../../_context_.ipynb\">boolean</a>.<a class=\"ProveItLink\" href=\"../_context_.ipynb\">disjunction</a>.<a class=\"ProveItLink\" href=\"../_theorems_.ipynb#leftwardCommutation\">leftwardCommutation</a> theorem\n",
    "========"
   ]
  },
  {
   "cell_type": "code",
   "execution_count": 1,
   "metadata": {},
   "outputs": [],
   "source": [
    "import proveit\n",
    "context = proveit.Context('..') # the theorem's context is in the parent directory"
   ]
  },
  {
   "cell_type": "code",
   "execution_count": 2,
   "metadata": {},
   "outputs": [
    {
     "name": "stdout",
     "output_type": "stream",
     "text": [
      "Beginning proof of leftwardCommutation\n",
      "Recorded 'presuming' information\n"
     ]
    },
    {
     "name": "stdout",
     "output_type": "stream",
     "text": [
      "Presuming previous theorems (applied transitively).\n"
     ]
    },
    {
     "data": {
      "text/html": [
       "<strong id=\"leftwardCommutation\">leftwardCommutation:</strong> <a class=\"ProveItLink\" href=\"../__pv_it/4784afd0b41811b6c468d1444e39fc0eb5e274410/expr.ipynb\"><img src=\"data:image/png;base64,iVBORw0KGgoAAAANSUhEUgAABTgAAAAaBAMAAABhmy5SAAAAMFBMVEX///8QEBC6urrMzMxUVFRm\n",
       "ZmZERETc3NwyMjKqqqp2dnaIiIiYmJgiIiLu7u4AAAAU9Wx4AAAAAXRSTlMAQObYZgAAC0hJREFU\n",
       "eNrtW32MVFcVP/O187mzrBiNGtlBxY8gYVTERgyzkWBjje5gSwwflqmJ2xhKmD/WQop2p0ZsQ7Q7\n",
       "RjEmremq/aBqylgjMQphBLdp0Mg2fjQSlh2iFhJg2e1CWyjwPPfrvXvvu7Nz37Jd/+jc5L5978w7\n",
       "957ze7977rn3vQWwL9vGytAu7TI/JTx2Isjto23E2mUeywA0gpAz+38wcSmvWArVgLomhe0Olrfm\n",
       "7RsJqhC4gw6iMLWGX2VyhihSo38iV+bA/zkxeSYF1Z3grR3hFclJw+GfLcnZSdGrzSc3I72skjI+\n",
       "HFDZpJAdWjRxZvu0fSMzKmQPrN0cL2r335g4c/j1AGaedSYmdjkC1tv9N6xgfzqvzoH/ZpPnEhPV\n",
       "HavWZMRieVaRnE+T64ctyZkiIzHRmE9ykt54jymn1xXT8BLxhxh6FGPQU5DlTglg8LJRAYztKwqa\n",
       "zk/rEF5X1zqoACSd3MyWyvKu1/Dw2MvCY/+9/Pnsv9TEUbPdMmCS3GiyDSZNFbTfVHesEFYQq/A6\n",
       "APfiMV6yJCe98d55ndX/wCuZpBwv610DnlwqUQJCWgxaT0GSR8iYHrxkVABT+6qCqnP2FOFMWeuA\n",
       "xKue0syWyvICiYihV8S87gt33L6Ic72Jo2DGRQLMk5tNtsGkqYKmo7pjhbCC2DFeB2hUilUtyUmH\n",
       "8IZ5JeciXrHscSZd8UpyOOVPAoiDnSK0ewqSPO0gWsevGRXA1L6qoOo8QI6L9Q4InEMLZrZUlh8m\n",
       "uWRiSkxyC/RbQ8y+xH6niaNgxkUCzJObTbbBpKmCpqO6Y4WwgthpXgcg89SOHd+0Xq0f27Fjx7wu\n",
       "2sMVVokLoz03vNkeh36y6L//Qax7RcCRFDx5B3nC4xWTgpxNeO1rCrJOjK5Qvq53QJ7E+GQLSyX5\n",
       "dmJmp8u8r+m3fpD9ORRyGmBvt+K/K29isg0mzRVUHc0dG4QVxDqqrA4AvNLff8KanF39/duG55Oc\n",
       "sWFWsQzmh1525cSthGHbdS9HQ1fw5CQjuuWSUUEqUvuagqwzSB/Pv7UO6OTrLGhhqSSns2+XCDXw\n",
       "hH7rRnqMTyecXAC7Ff9dudlkK0yaK6g6mjsWCKuIpYqsDtC5/25rcmIC0TG7nfhb6rNbD9VZxfJV\n",
       "2CLNI6f4xKAVnD8iIneRFTx5Yeqh701VjQpy8drXFGSdLXVDO4XLNI0qtbDUk0ccEkAKIkmDH9NR\n",
       "+RAtdEXzXRZQijGnHsBuFTAhN5tsh0lTBeU33R0LhFXEkhVWkZzvg2wFsn0NK3KGe+EsGcQ2W2JJ\n",
       "dfcrPytyhnKs4jphARy+DK5DmEp/2nA/Zt5RHl64wn9uqPLjOK+99BoIwCQFfSHG2xcKhk7Gy4aO\n",
       "yf2YRtVaWOrJMzTl8jafFut3voUe/4iNFgPYrfjvypuabIGJX8H0m+tOIIQpYjyVW8AqkrMT0jiY\n",
       "ljXbZtz9Rfj1nS45sR7E4320DbYlnOqZ6r7O2k2v3XiO+L7O6e45ARFl/g/NblrvyrEKcLEKy3E0\n",
       "fvzzfDySMWUcQWf5GVcIj6ryPnxYYWc4cseorqBGCbd9rmDqhOVVDa2DV0nEdxqtLHXlUYeANuTm\n",
       "hwX9Tjo5Z6+gFSWwt1v1X8jNJtth4lMw/ibcCYAwR0xwbpJVJGe6TpZST5jUz63fDM+lGqmGR86D\n",
       "dIFFh0SIbwkfL0KCTh+RkwB30bGD2cjxCvyMj+A9e3bXvQ0odjnyyJ8+vEGRsPL8vn2bIbPhYK+P\n",
       "nH3d3XQr5Sc8Ga2mjInCBvgVP+MKqaIq7yETgNMLyVFdQU123faFgqGTHjpD5LUOSO40eLWlpa48\n",
       "RNKzuPeozeSMTnX3kGzO2m7VfyE3m2yHiV/B9Jvrjj3CAjEfObOVFW5ao0Xxr9w/AX+pFWVyniVv\n",
       "a5I0UK7jWQVmMSm6HbscXf4RxRG5Gr1Cxwvhd2343HvoxhUr9PKRUii3RJHwPlPZZ3PJAyCS41CV\n",
       "VUgunJgYdDxyxiudRvx2ik8AhALPWIU8TqbGFE4hArqd5m8G3PZdBUMnNBmKgdYBeWZDoy0tdeV0\n",
       "vzDh7WHSaT02RgsNA+8gh++vnjhDtoZs7db8F3KzyXaY+BVMwLvu2CMsEPNN63A3mflJYM1sWvp4\n",
       "+kCenwGMkDuP/mCXTM6OAQxjdE0U/hdfj2EWkyAzfPadeFhFA/Y0suwyWT1RfteGU+dpevEhbDnP\n",
       "LqP5C+TllCQJIwWPIjnhmTqsiYuJsKPOKpyuku2JsvvIYQ1/50qMy3pTVfRTHDKh0FVW5DQjGpSg\n",
       "Ez9klca89oWCh46nUyB/ngGtAzQ3er3R0lJXTvcL+05x1HH20B/jPUSRMHT8Vb/dbqua3Zr/Qm42\n",
       "2RITXcGEietOAIQ5YiPP/p7QNFNhlZBzL7YRIZHq/PJ6Z2+ml5/l6SskOJo6/0mJnMkvi/yx8wM8\n",
       "ScDRuYVMSSmyTzVBsx08w2CKmfAIC4xL74RTdbrZP8IvO2EvjNZlCUb/TBHJGf5tA0bTRxrqtkL8\n",
       "M3Q/rOo98pVsAzdLIs7FUX6Cnmxjmq7CR0CRk4zofM+LHnTiB7eNi6Ny+66Ch46nk8FBuaSsd5DP\n",
       "7hr/ArS01O2hbxrOHLrU4KgbUiwiGCAxdPsVn92eyarduv9CbjbZEhNdwYSJ604AhBli2SPX4G/q\n",
       "VhKEkNdp4vr9v4OuPE1RyFmZLWiOwvDjEjnhXWRbiCHGdt3CU/130Xmn090veAzPOl4nS3vK79r6\n",
       "d9dhEwFkA9KPXb6EcXNrXpYgUZGn6di6k5AtZUSWQtJ5Uh3nBjrhOHn3kSdYLpV9G4kSJX6CZTff\n",
       "bBMKB0CWd9FPZkgoEtAJBbeN0yW5fVfBQ8fTgRXfXu9uqEgdXKcfb7SylMuJgvOPPEcdBd/SybmM\n",
       "NtuAPseZ1u32TFbt9vnP5c1MtsJEVzBh4roTCGGCWPxchc7giRyrhJwZ5F4HDbyfw2GWqLKzxRD5\n",
       "Z3//ViTnNy7I5PwrkN0nHA6LYIgqpa/yyNnlZvT78axrGiIVxu/acGwVz4HXKpea5I4iyTnhdiWV\n",
       "eTuvbhGPPNJk82u1dr21idyFbnWTfQq9fQ8ds45P1spSQw+Lza8vyzdh99YZrAiKiU8+IyaBEY7W\n",
       "SKopvb7k7n+MHBfCARgMs7P14Wwvi5zhVTI5SfkhiZO4FqQ3dOBacjmZ0UPIxCwl1lCORk8kJ+U3\n",
       "ppQpvtw5SakoLjXJoTol57CyQyG+AvA9ctuysMkGazLoa1gPHcsS1FKKOs5ovo8klE9Bgtq9MMAG\n",
       "89xiEri1UD5WROr8ElgV5LyYhp3l+CSOhOdS7Gzhe+FWRk44ppPz/VgxdT9OBSEk5mEyfccwWLO1\n",
       "E85A2RfKEC4xfntsHIlWNXJKkkzxswZySp/MzeqRZydrcwOdQOeNIydD3bQp+PDs7W7q/xuPSWBy\n",
       "DkLoo3m6+0l3QAU5o09DoR4uYT668il2thHzQmRx+Ds5iIJGzgt0VofCJPKYvKxNTuXxjKwnfw7x\n",
       "ByGCSe+yF+mAv5VP67tYBCiST5rcS00yQpZHSM4vKWjGe1kV5b6hTcE8vs38yVV83+VgH00LdKxL\n",
       "YEsZ6gwztQzchN232f/7wNxiErg1DHoxXGtEy6zKXkPdd/Zk/1bt9aX7tnT8EmR6pqqFeqLn+lg3\n",
       "rrULdfjv2l80IHINHnDGXiD7prEc5Xdmz55+1uIS8omzd6lKwkXyEfjz+568R7V4F69vlpI2TMPx\n",
       "2psIgN/wKpMzUvaf6S+vBH7VGRid8WZkP7/bpV2si0TOjOGsCTmzpRkY/Qn3/kfa+LbL3JCzdRlz\n",
       "/2/90RkY7cXS3ja+7TLrEh77++wUMzbbE6lGG+F2uZnyP10DlFJk7Df8AAAAAElFTkSuQmCC\n",
       "\" style=\"display:inline;vertical-align:middle;\" /></a><br>(see <a class=\"ProveItLink\" href=\"../__pv_it/4784afd0b41811b6c468d1444e39fc0eb5e274410/dependencies.ipynb\">dependencies</a>)<br>"
      ],
      "text/plain": [
       "leftwardCommutation: forall_{l, m, n in Naturals} [forall_{(A, B, C, D) in BOOLEANS^{l} * BOOLEANS^{m} * BOOLEANS * BOOLEANS^{n}} ((A_1 or  ...  or A_l or B_1 or  ...  or B_m or C or D_1 or  ...  or D_n) = (A_1 or  ...  or A_l or C or B_1 or  ...  or B_m or D_1 or  ...  or D_n))]"
      ]
     },
     "execution_count": 2,
     "metadata": {},
     "output_type": "execute_result"
    }
   ],
   "source": [
    "%proving leftwardCommutation presuming []"
   ]
  },
  {
   "cell_type": "code",
   "execution_count": null,
   "metadata": {},
   "outputs": [],
   "source": []
  }
 ],
 "metadata": {
  "kernelspec": {
   "display_name": "Python 3",
   "language": "python",
   "name": "python3"
  }
 },
 "nbformat": 4,
 "nbformat_minor": 0
}
