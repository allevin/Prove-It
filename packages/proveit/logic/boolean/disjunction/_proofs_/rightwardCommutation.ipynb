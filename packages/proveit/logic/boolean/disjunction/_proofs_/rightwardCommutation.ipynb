{
 "cells": [
  {
   "cell_type": "markdown",
   "metadata": {},
   "source": [
    "Proof of <a class=\"ProveItLink\" href=\"../../../../_context_.ipynb\">proveit</a>.<a class=\"ProveItLink\" href=\"../../../_context_.ipynb\">logic</a>.<a class=\"ProveItLink\" href=\"../../_context_.ipynb\">boolean</a>.<a class=\"ProveItLink\" href=\"../_context_.ipynb\">disjunction</a>.<a class=\"ProveItLink\" href=\"../_theorems_.ipynb#rightwardCommutation\">rightwardCommutation</a> theorem\n",
    "========"
   ]
  },
  {
   "cell_type": "code",
   "execution_count": 1,
   "metadata": {},
   "outputs": [],
   "source": [
    "import proveit\n",
    "context = proveit.Context('..') # the theorem's context is in the parent directory"
   ]
  },
  {
   "cell_type": "code",
   "execution_count": 2,
   "metadata": {},
   "outputs": [
    {
     "name": "stdout",
     "output_type": "stream",
     "text": [
      "Beginning proof of rightwardCommutation\n",
      "Recorded 'presuming' information\n"
     ]
    },
    {
     "name": "stdout",
     "output_type": "stream",
     "text": [
      "Presuming previous theorems (applied transitively).\n"
     ]
    },
    {
     "data": {
      "text/html": [
       "<strong id=\"rightwardCommutation\">rightwardCommutation:</strong> <a class=\"ProveItLink\" href=\"../__pv_it/783876eef80c5d37815083c30aff31ad0329e25c0/expr.ipynb\"><img src=\"data:image/png;base64,iVBORw0KGgoAAAANSUhEUgAABTUAAAAaBAMAAACUZaXiAAAAMFBMVEX///8QEBC6urrMzMxUVFRm\n",
       "ZmZERETc3NwyMjKqqqp2dnaIiIiYmJgiIiLu7u4AAAAU9Wx4AAAAAXRSTlMAQObYZgAAC+dJREFU\n",
       "eNrtW3uMVFcZ/+a1O487d6A0VWPobtUWDUFGrdhQ7U4KQtToDoVtpc+ljUuUIvMHKaSU7tqIFEI6\n",
       "Y7SJSV3ZP6CF2JRpG7AKzU4Liw1qWaLUqCw7JI0QgWWXZXnvXs/znse9w9y7btc/Oic5s3e+c7/f\n",
       "Od93fuec75wzC+A9rezLQS3V0qSkWX1dfl7vrXmsliYt1Weg7Ieb5v+hjcEizSiFrvjU9a5we//Q\n",
       "QiPjo1WPWDfnDriV1FkoDc3z0cpVWOPmNPv2rssbM+mfpoJP+10VKjd9QnyjWuNbw2ikGXOTTIZ/\n",
       "8sjNJNEuTio372QZpeRVn7puCkbzhfkLntNXkMt/NN9Z5d2wYP+W3JlbrrmWnbIGBtZZPpxk5scG\n",
       "TnZzsIizW0OMGP1dPu13U7hR091X18q+cfOlao1/+xezjLi5E39/wSM343gcRsuTys0XRPt2XRAe\n",
       "Jp/Obmwkfcm/CQVJHmgFeKxRkcUtZFjQSnvG3oUn5NnDrmWpy+hj63n3FrkaYHUAxKxGVtLheJd5\n",
       "PG5lwAeqrCDJ1aZXx1F9o9XBfVnZGi8dpWhEWUbcfAr/afXITfLiU5NKzUSRZmyJNWqLw2mw5XIi\n",
       "a+lePt8IBUnehLSaMopsF2FS3jN2nDgyOuhabxOerAMXXVsEbgaELDy9NfBOOOR4l2k3Wb3gHVVR\n",
       "EHKt6dVxVN9odXBfVrbGQ0epGkYXzYibeExGCh65SSawpZPKzUCZZuzQXZZY5rAlSecMPgd/HOfz\n",
       "jVCQ5N05gMNdsixmZfHj/Z6xt46Q1bfVtd5uPDFFh1xbBG4GJPDMBPkprOSE491b6Z/N1iB4R1UU\n",
       "hFxrelUczTdaHdyXla3x0FGqhjmFZsRN45U1a9Z73qcfWrNmzeRu1z/PMkpvByxh40aUX3S+HkXO\n",
       "imXBoSDJl6F8pCzLAhY5HPu9Z+yGS8SnBdd6V43h3rBcWyQlUUkdaWU/51GdPlME6Sqf6G0YA++o\n",
       "qoIt15peFUf3jVqH7cuK1njoKE3jhzQjbsLFtrZ/euZmqq1tZdekcvNBllFjh6N2FEPN3eh8HZsb\n",
       "ZcewsoIkRzHo2h8rsq0XVZBq2DGr9Qb1koU0NeTWIvdKUiTysPhME9epEqEeb0/nz4N3VFWBy/Wm\n",
       "V8XRfaPWYfuyojUeOkrT2E4z5iZa+Jd75iaKHurGdwAf2jI+bm5hGQ2vbMQqiS14mS4XejrOlgtd\n",
       "wZaHLuzdfUyVNV/XtvdVsMNSO5z4ZBFsuujWIvdKmkaIGq8xRqbJ7z+P00/JFENr+wE8dh28o6oK\n",
       "XO5oejUc3TdKHcKXFa3x0FGaxq9oxtz8HJgdYDaXPXEzmIFTeEbydHylrk1PjI+bN7EM8A4KTLLA\n",
       "DUXhdbjR5X0UXt/LHqkCM82WJ9CidjajvJsfloOj6thRK125XoNET93X7B6RWqRt8lglh6+QoIvv\n",
       "F4JT9JCbvGZMge4RsDu0KipX+HBMloume8TJD9+gDuFLF2vmgMeO0uy/jWbMzSQk0FCaVWm623Af\n",
       "vP6ozU2U96HPp4kP6cF2bFXLEso7Y9n05bvxwyJragOKE+YqSFPGx83zLIN5BYJobIWW9PLWnHI9\n",
       "0sRDDSQFZpotr0MNSVxXZP2k+4I5r9hJGsbOcK03TAK0/JgNJlqkD3VWSfMlQho+O4QGtRdTpGvP\n",
       "FWA2moy/+l2PqFwh2CvL7aZ7xeG+ca1D8qXDGl5B9Y7S7G+iGXMzUcK7qO1u6qdbHoaD8XK8LLi5\n",
       "j+ytyIwQuMqnJ3idtH/q+3AbaaiBwpDDHRBnw+W9HTseFudUxubNG/i6QkqMpfvu7SkopT0vHXBw\n",
       "Mzw0tQGHcjHW5UvhVbc2Rwpxhs4VtqvyFLLZuKrI8oQNgZxX7Cjd6HzCtd4AjjTrrS4bTLRITXYl\n",
       "DXjYttvXBBW42Tx1KjkS6/SIyhVY+MrkoukecWzfuNUh+dJpTSd47CjNfombZseddkinzd2PPzsA\n",
       "fy5mZW6ewncUMTL9LmIh1RKA2WRHcZxO8ogViKHhK2RcmLtbSom4+UajYW+hil2nP8NrwCWxPXBT\n",
       "MKuUvtQa4N8/xTL8/J6Bk/hMhHf5Wvf7/fqOJHviCltUeVOJNE6WdZN1a5tn7ARZGOMZ13rb8Xl/\n",
       "dFSAiRapiVdST07I83aNdE1/pA+nDwgx8MCNTRsYaLcEN6uh2gosWmVy0XSPOLZv3OqQfOm0phO8\n",
       "dZRuv7Smw3K87GNOGQ/N3JbYk2ZPAD34zf2/WCdzs241GsRkOxT8B9uK/gs5Ei+h2OoQ8WsS2ZMY\n",
       "IdusPTMGyok4vFbCMccXEHIasS9+BoLI3/uBlMA8sxdfOEml4fRa3tInWTYxQfsviS4Pf50GKGX+\n",
       "wS7757ELWFvhkirHR3LtHYrsBB5liQ7P2CY5J34LeeiNP2T2PqHiH8ZLR/NxAWZrKYiiEgNvT8Kj\n",
       "ZYKGv+trbB1m14kCXpBzostlVNOJaiukcrLcbrqOI8xUcbhvBDmkOiRfOqyxK6jWUbr979FMuPli\n",
       "L+PUmdmlZIZc6uOnNL082x8/M1fiZgzTkExqyRk0QjCHwcBnBBF8VWeSxp9Ds1V8BIe7RpbMjsHd\n",
       "5eQZcsbfg2fGmY/imR6VkRLojWWThlKahH1fVE8UYDX26aorostDK2n1o/zjHC2Yw06SuUKIBbpc\n",
       "vgypfrKsyOr7N5WfOQresddf/k39X9A2693r8Dc4oOI3D8PJty+UJW6yEowhEO1KUICaNtf1f4+g\n",
       "/dXtDAkL6heQg8CC6HIJVUALVFvhS4pJvOkOHNtMHYf5RpBDlMm+1K0RFVRzpm6/dIYEAXwriDvy\n",
       "2bcglSaewU+5EFmF90PXNomb8GmU76KkoYeHwWt7F+AXAuJ6fytCq7uGjwCiZB2JLDoGkd/h0ANz\n",
       "tdgyvYSZ2MNKzNZ4oe5NpfTfcIgHQbNoTlloJDRb1rDo8g3Up7fwjxM0oo3SrrUVEizQZfL7rfnz\n",
       "n+fgTIZ2cdbRnMTNKtgABxtGH0DuO90BwzxUZ2X4NzXW0bQMxkowhkC0K0lhhdHFFI3sCvRdLd7N\n",
       "WNYY6kQLrU2dTlQBbaMKhT2KSbzpoOPYZmo43DeCHKJM8aVmjaigekep9j9HM+GmgZhVR6bd76BB\n",
       "Fi3Qp9sg9EFb2wrEzWfOytx8HzDn0Gi4FfJEKY7me3ypljpvT9e7EKtTw5jDc2lUCYvptB75Joko\n",
       "I3fjMDUrl+il4gAlp0XidpffU+FkQTsNqyu6y91kfrHDRTQrb6qAb4OFKpzP6ZWEiyTUdN5ZKpuu\n",
       "Tp+oKyrI/eIIcri7xyHrBH/OZPZLd5aMAV/Bn9NgD7QH6VNL0MzQeTN4t8xNnH6Jl3S0C8zQE258\n",
       "WkPJSFd7yDfSufMu+EZbW1sRMbCL7oQSxwj74nF8oVgi3OwS10xyqZ341b+zyz0mapq35Bs7nWit\n",
       "H2ycGDCEFskirN86Cg65drnHNK3CWbRvHJscHpPfCpj9cTSX4Gxz81wC1ubqB9HgOBinT9M+Cwsp\n",
       "N+GQzs076M7tMBGkChAcZptzpE/WkzKYR3L4vQ/ZvMkY2BMucPYZ2W/p3JRKpST9Rm5cXY5M+8i4\n",
       "2Y7GutHaNUHcbIfAl9Nux43KrxJ9drk5WJwQ6nByfITcpPbjw1Byv8O5Gd4JTaVgK4pF57xCnx5E\n",
       "UR8axMGfNUIYNG6eJUs6NA0iGkN7GdZn0YPZUIA5WajfCCEU8M76Oxnv4Rzl5gPEQSieXEpW7XX4\n",
       "EADtfewSvVRKq1nmPtox4u+3zeGd3v3vF/sOSKZDP8pNDBhCi7wK1GUalHRa9XT+IX+o33b/kZlf\n",
       "HE4Oz8l3Q5n9eEZcqBkNJcfTy20rtDtL+4q0/wIYDUOFplI837JkEznp+k//9HmItNfhJ1bfEXKo\n",
       "eB+Yj5MT9pefJHq34191G5s3t5UAH2guFiVaqdIxRZo/LulNF9m6j4/5iTTNCjdDOeeTfo3F9QtO\n",
       "QtsPhlBAq1McxZtQS7XkO8ncNFyeKnDTbHXQWPD5ayLgqrGyliaEm9VTn/3/6b920NhwCQ3CNQfX\n",
       "0njTrL7M+BQNT7+Re63m4Vr6H9J/AVM3QEgGvgeiAAAAAElFTkSuQmCC\n",
       "\" style=\"display:inline;vertical-align:middle;\" /></a><br>(see <a class=\"ProveItLink\" href=\"../__pv_it/783876eef80c5d37815083c30aff31ad0329e25c0/dependencies.ipynb\">dependencies</a>)<br>"
      ],
      "text/plain": [
       "rightwardCommutation: forall_{l, m, n in Naturals} [forall_{(A, B, C, D) in BOOLEANS^{l} * BOOLEANS * BOOLEANS^{m} * BOOLEANS^{n}} ((A_1 or  ...  or A_l or B or C_1 or  ...  or C_m or D_1 or  ...  or D_n) = (A_1 or  ...  or A_l or C_1 or  ...  or C_m or B or D_1 or  ...  or D_n))]"
      ]
     },
     "execution_count": 2,
     "metadata": {},
     "output_type": "execute_result"
    }
   ],
   "source": [
    "%proving rightwardCommutation presuming []"
   ]
  },
  {
   "cell_type": "code",
   "execution_count": null,
   "metadata": {},
   "outputs": [],
   "source": []
  }
 ],
 "metadata": {
  "kernelspec": {
   "display_name": "Python 3",
   "language": "python",
   "name": "python3"
  }
 },
 "nbformat": 4,
 "nbformat_minor": 0
}
