{
 "cells": [
  {
   "cell_type": "markdown",
   "metadata": {},
   "source": [
    "Proof of <a class=\"ProveItLink\" href=\"../../../../_context_.ipynb\">proveit</a>.<a class=\"ProveItLink\" href=\"../../../_context_.ipynb\">logic</a>.<a class=\"ProveItLink\" href=\"../../_context_.ipynb\">boolean</a>.<a class=\"ProveItLink\" href=\"../_context_.ipynb\">disjunction</a>.<a class=\"ProveItLink\" href=\"../_theorems_.ipynb#disassociate\">disassociate</a> theorem\n",
    "========"
   ]
  },
  {
   "cell_type": "code",
   "execution_count": 1,
   "metadata": {},
   "outputs": [],
   "source": [
    "import proveit\n",
    "context = proveit.Context('..') # the theorem's context is in the parent directory"
   ]
  },
  {
   "cell_type": "code",
   "execution_count": 2,
   "metadata": {},
   "outputs": [
    {
     "name": "stdout",
     "output_type": "stream",
     "text": [
      "Beginning proof of disassociate\n",
      "Recorded 'presuming' information\n"
     ]
    },
    {
     "name": "stdout",
     "output_type": "stream",
     "text": [
      "Presuming previous theorems (applied transitively).\n"
     ]
    },
    {
     "data": {
      "text/html": [
       "<strong id=\"disassociate\">disassociate:</strong> <a class=\"ProveItLink\" href=\"../__pv_it/5031b0dec40452359a33b39a4a4470633f2d06440/expr.ipynb\"><img src=\"data:image/png;base64,iVBORw0KGgoAAAANSUhEUgAAA5QAAAAZBAMAAAC83nzgAAAAMFBMVEX///8QEBC6urrMzMxUVFRm\n",
       "ZmZERETc3NwyMjKqqqp2dnaIiIiYmJgiIiLu7u4AAAAU9Wx4AAAAAXRSTlMAQObYZgAACSFJREFU\n",
       "aN7tWm2MG8UZfu21zx+73juTNpS24ItIQ6WCblNoigLirPKjPxCNi4pQ+Iop6kUqjeIfUS6Cwrk/\n",
       "KK0U5Yza/KI0R0VIo6Y9k6opH6nifP4IlBwlAkF1nFGla1SS3LmBXL7c7fvOzM7Ortfuml4lTs1I\n",
       "t56v5/HsPPO+8874AMKndZMluJw+nSk6+V433Scuz9inOG2AejdSmgt97VbZh3a+S1wQoMfG1Lg9\n",
       "PElnQPQB+zOlQ128itL/AJeSmdprIaXM0IdRXbBS3sQ/Mhe6xAUCTjROn95oW+FZOgGiU5tLJxdf\n",
       "DK+k2j9uMSl3Un5LSCnTFfxI1heslOI9xz9yp4Q9W6e3nxmjU3IBSn3vWYCEXQgEBPJ7AV7MONn9\n",
       "wJnQZN7+ZSblRnwmiiGlZB03LlgldeFf7aasilluvZqYH3zV8a8uQKkfvEjK5IMAEMjvBXgwaZvU\n",
       "S86GJfP1P8qkJBuLV8KGPbSsVy9YKSPcnyTHbXcXpMWZafUzK+jxvigoAKV+H9qEYdeCABDI7wV4\n",
       "MNs+Zo6yGJbM1/8DJqWxY3j48dAR7NHh4eGFG8h+mX/8KWK72j2Ff1tbuybx3JVyfKECUOrXo01k\n",
       "zgUClKTwewEeTG6OeY1KWDJf/54KSQlnh4beCy1l79DQurEFK+W97Jk4k2TuiaetYoZ8iSYyKY7R\n",
       "KkCpt8ugjeaDAGpS+L0AFZOyi22/PYjM3z9dYFKiX14bWkr01j3/i3uChNVN78on/JbNfAkX4oqX\n",
       "Q3+lBYUK7ws35wfIes3+3E+mrgoEeIJfye8HKJiY6nZDkPn7p8pMyqVglsFcVQ8lZTQPJ3gwxU9a\n",
       "6Vwj2+Sb+pHs248VZPhFaaDjlHtaH/VQBaTn7Gzur05hpaw2Hrp67R/afoUckkhXsOd+0CmMFBOM\n",
       "UUSsPwCLQcc3RJYDxBTJesOugLm+LOdcAfhCLcEvAa1fkpRHlHBkSd+RJtrHpMyAjhLf0O5w/ORd\n",
       "8OKD7m3PBOzlEYQ4aR0rQPISZZZ8sR7NsbUi13iuoyv2tBZVqqBk4D4/6izFtDP30ewbsKQtxh2S\n",
       "SP+kh3keouiftO9MOG91IvAoSSscFICYIlkfo/1z4AJ87U4/wG8Agt8BBHxJhu/F14Ulk/0dlWaZ\n",
       "lHqNYqLtQcAP774fjqTr6bor5V4RWH37LK9bU4M0RVOpJnbaV1KljOdErir+PAXRqrO/VFWhEnXO\n",
       "QuR/cRRs3LEwfE1Osw0Ho8+1wShDUqWMNbI5G18lJaRcDbuC3j1eSYtV4AC2e+sjdEAZwAPns36A\n",
       "N0l+CWj9kiSPkK8MS+b290hplm+S24jPnL/7xGl4vVpQpTyhsX07+m6D102VIEm+doZOq8tBlfKG\n",
       "bX088zLuhXK3dwqiVWexF9t/HSpR5wyCFzIo2GjFPZAxGpP8jNbXBqMMSSS2UT192+m/27OulJuC\n",
       "75YT5YzIOYDN3voRWnbjF+XsuwBvkvwS0PolOnOY6XxYMre/x8HCWvLKtLSN+77yvL7HEjmAw9Tr\n",
       "4M8eU6Xs2cCcW+Y6EZ7j8lhDnnIN+YO/eaT8y8i/RNiAK1sah1NwWrH3NyGiUok6xfdioXcW4heU\n",
       "PYbRxCmyN602GGVIIv2AupOeU3OulLFbucdg98t1J4PLRdxmSsCct/7YeTrwT8jZlw11lczll4DD\n",
       "u1/Jv/qwB2MyF/UStJD5ByXIZH/iIr142ANbJ8TSPjlQy+SNvMhZ7DoIDqZPrlSkTD3AstuBh+fR\n",
       "xtBDbK3nqp59jwXIvejQYojV+12DcQqsVcOFvpuM9GaXigC7FSsWhYHFQ1k3TlrKaSJiiX8LgjC5\n",
       "lhiKXOQGGt76866U2jr+ejNYNpsiQwGIOKI7AE34GKd+1RyY+5sld/ZFg+Qwmx5+B2AeuATH4ZCX\n",
       "7PFzv0z8uQAtZP5BOWSiP3G95R5GIIKvrNN4n3gJei2qZbmSxkzkIIw9r0gJX2CM18Aomyj9gjAl\n",
       "pmxdlXJ5PXkRtOfwXc2iYjCiwFoB1+Y0GelSScUA04oVi8K+MdUqb+Y0tFZwva68EoIwypAcl4/W\n",
       "baM7WWXbZ6SU8KS4McFxm4tFhvYjvjNLgC7eS9TTzxz24poy+6JBcrCMy+8AEh+W4YwTmySd7f9I\n",
       "rnkPtJL5B+WQif7ERc4i2c+lNPB1e5gwd+DWkqzw3BLQ3h4aegSl/OEpVco3mH/NZvldYg9O5gDd\n",
       "BDLn3adK+WY2h1t8hub3V4rBiAJv7aNoFMfwc5eKAKxOHn9ZYX0/hpGKlIyml3ZDdM7vQBBGGZJz\n",
       "cafGQFLK29rE7r7jWU81uF7OvtbmPOfnj1XRwH86P2SxKm2T4uJOvOSN9FwEe2AkynN3R808t8ro\n",
       "LaqULOFGeoyVIijjPnLEq2rEq0iJe7LRFFJOx5U5ZAXeSrfzZhFX1zKXKlMSda4ZUyGHZnsODj9z\n",
       "6Hq6Al7GaWKX2KpjUrZi+JCM1XvlOjLGgqQMe4F7Y5uGZ7u9Cbb0YmK2f17IIla8gEy/UaSc0WFT\n",
       "KTGL83IkzXOLruVe8SDAUb+U6F9hcBb7wUgZUg0r8RR8gJvJ99S9cnkdNFtImcadIbEFNtXxwQqi\n",
       "lU3tLpzpUxTgMSoOoDrWe1OdFxIY4GxbBM8UI/1f4r8EEI2Zq8CKApeyFcOHlNqjWOaW/0LKGX2e\n",
       "pByhBVYcmxeyEYh81eJnUEfK2E4YrEWLuIeu2MFz99ZgGvWO/rgfYuCTcuojMHKNymAtmWtOZh8E\n",
       "7RKYv20ctxQpM+iA99tXcWVMdITaHAyW8MEKopXdXMxY7EJKUHEA1bHegyVe+JE9+eZn6xCzTrEf\n",
       "WO/iNPCPqavp9yAmZQtGDOn2hHvYVnxw4tcfd/cTemxncP2jo/d1N/3LIGNp3y/NC9kyiO8SRwLl\n",
       "3aDWknsB90rvxZ03SYQBvpsb9z6DDdkzbreQOUlzql7xC0DCc/hSb0e2wkSN/9SqcL4DHTAT+gG5\n",
       "7yQW7j9AdEq/9y1TrdSaa7mD9QYGst/X20mpvbizwxDif3TD2lCAabTJRyx+OeSmWz7f4bLXLBq7\n",
       "4P8hKVIaEGhjHaQ0Agzab5Uh0y+683VwOXWS8j+nyXD/B5v/BOMwuvqR63eXhfOn6OTxfwMSR4wM\n",
       "gzLJiwAAAABJRU5ErkJggg==\n",
       "\" style=\"display:inline;vertical-align:middle;\" /></a><br>(see <a class=\"ProveItLink\" href=\"../__pv_it/5031b0dec40452359a33b39a4a4470633f2d06440/dependencies.ipynb\">dependencies</a>)<br>"
      ],
      "text/plain": [
       "disassociate: forall_{l, m, n in Naturals} [forall_{A, B, C | A_1 or  ...  or A_l or (B_1 or  ...  or B_m) or C_1 or  ...  or C_n} (A_1 or  ...  or A_l or B_1 or  ...  or B_m or C_1 or  ...  or C_n)]"
      ]
     },
     "execution_count": 2,
     "metadata": {},
     "output_type": "execute_result"
    }
   ],
   "source": [
    "%proving disassociate presuming []"
   ]
  },
  {
   "cell_type": "code",
   "execution_count": null,
   "metadata": {},
   "outputs": [],
   "source": []
  }
 ],
 "metadata": {
  "kernelspec": {
   "display_name": "Python 3",
   "language": "python",
   "name": "python3"
  }
 },
 "nbformat": 4,
 "nbformat_minor": 0
}
