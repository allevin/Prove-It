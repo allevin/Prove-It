{
 "cells": [
  {
   "cell_type": "markdown",
   "metadata": {},
   "source": [
    "Proof of <a class=\"ProveItLink\" href=\"../../../../_context_.ipynb\">proveit</a>.<a class=\"ProveItLink\" href=\"../../../_context_.ipynb\">logic</a>.<a class=\"ProveItLink\" href=\"../../_context_.ipynb\">boolean</a>.<a class=\"ProveItLink\" href=\"../_context_.ipynb\">disjunction</a>.<a href=\"../_theorems_.ipynb#leftIfNotRight\" class=\"ProveItLink\">leftIfNotRight</a> theorem\n",
    "========"
   ]
  },
  {
   "cell_type": "code",
   "execution_count": 1,
   "metadata": {},
   "outputs": [],
   "source": [
    "import proveit\n",
    "from proveit import defaults\n",
    "from proveit._common_ import A, B\n",
    "from proveit.logic import inBool, Not, Or\n",
    "from proveit.logic.boolean.implication._theorems_ import affirmViaContradiction\n",
    "context = proveit.Context('..') # the theorem's context is in the parent directory"
   ]
  },
  {
   "cell_type": "code",
   "execution_count": 2,
   "metadata": {},
   "outputs": [
    {
     "name": "stdout",
     "output_type": "stream",
     "text": [
      "Beginning proof of leftIfNotRight\n",
      "Recorded 'presuming' information\n",
      "Presuming proveit.logic.boolean.implication.affirmViaContradiction theorem (applied transitively).\n",
      "Presuming previous theorems (applied transitively).\n"
     ]
    },
    {
     "data": {
      "text/html": [
       "<strong id=\"leftIfNotRight\">leftIfNotRight:</strong> <a class=\"ProveItLink\" href=\"../__pv_it/343966fa875dce5408c8e426f0a7f1298a2b5be60/expr.ipynb\"><img src=\"data:image/png;base64,iVBORw0KGgoAAAANSUhEUgAAAKsAAAAWBAMAAABNknGBAAAAMFBMVEX///8QEBC6urrMzMxUVFRm\n",
       "ZmZERETc3NwyMjKqqqp2dnaIiIiYmJgiIiLu7u4AAAAU9Wx4AAAAAXRSTlMAQObYZgAAAi1JREFU\n",
       "OMu1lM9LFVEUx7++cRx5897kPxAN0S6htwhaRLyHSrWzzeCmUoKuQZCzEDWidBMPXKib2vZWZRAx\n",
       "SLsWTosgaePmtZCgR5QEikqgFYh47pm58+74A5TGA/fec8585jv3nnvnooETsUXZfc5U8gq119KZ\n",
       "ylR2mtoINWsgS9XCNypsOzVzJkvZh/0+ab8aHX2caQ2CeZf6LSGWslTNNV6ENHQDgxxXuX++6V0t\n",
       "7SFd5VSVs4fSw+8oBzScgzPBlf4dFbwDdkfkTU4+DdlTOxojKWpf6GL8Bg1F2Pzyz23OmhXk/gAr\n",
       "3k0EtZWzKVlCbBrshFKmhUZPT6/k7bDIf9rbOqeLAcxF2HeerJFsfjUlS4hNh2ZYUYlpYQ5okat3\n",
       "Ji7yVwLB6fUSPvn4yFtaO39bl2WE/GuKSkwL6bNFrsdgl+xbcYvTF96/ewBwtQPvdKq2jMzBqigq\n",
       "sWZokWz7hvSe8fQXMM/5WeBDw6hFszUv67KMLKPVjylK5YUQ95oh8Ita2470WuR5cOreED+4S0ua\n",
       "Mb4IcV/WNq/JRkjeHVZUPNU2LRw5U0Vh6K88CgUpZ/oo88n7R0sqOZVotinZCHEG+hTVlNXDlHUC\n",
       "p0KrCmsHVp13hYvwSJNlBHhDn4ypMT+SjcP99mMLVu9XYxuzm951Ws6yy7+D0LYsQnjXFVXmx4YK\n",
       "D7/TEu8l1Tax1L1paX54tGvi0sHpw65jwz+abHg82cL/3XWVY7+xCwdBstD1+LkzAAAAAElFTkSu\n",
       "QmCC\n",
       "\" style=\"display:inline;vertical-align:middle;\" /></a><br>(see <a class=\"ProveItLink\" href=\"../__pv_it/343966fa875dce5408c8e426f0a7f1298a2b5be60/dependencies.ipynb\">dependencies</a>)<br>"
      ],
      "text/plain": [
       "leftIfNotRight: forall_{A, B in BOOLEANS | A or B , [not](B)} A"
      ]
     },
     "execution_count": 2,
     "metadata": {},
     "output_type": "execute_result"
    }
   ],
   "source": [
    "%proving leftIfNotRight presuming [affirmViaContradiction]"
   ]
  },
  {
   "cell_type": "code",
   "execution_count": 3,
   "metadata": {},
   "outputs": [
    {
     "data": {
      "text/html": [
       "<strong id=\"defaults.assumptions\">defaults.assumptions:</strong> <a class=\"ProveItLink\" href=\"../__pv_it/2154948e3943551716d40a7974abbfaf2bfad9d60/expr.ipynb\"><img src=\"data:image/png;base64,iVBORw0KGgoAAAANSUhEUgAAARMAAAAVBAMAAACXqRciAAAAMFBMVEX////c3NwiIiJERESqqqqY\n",
       "mJh2dnZmZmYQEBDu7u4yMjJUVFTMzMyIiIi6uroAAAAs73DqAAAAAXRSTlMAQObYZgAAA2xJREFU\n",
       "SMfNVl9IFEEY/86781x39zrQJ3vwuDCEIBcpMF88iPChh46EIoK6lwqCQCx6KpTqJaNcDEJ8yLOQ\n",
       "soc8qJdaQhGCygcPCoLIPH2QCgTN/t5R9s3Mzs7seHm+5cDu/NnvN99v5vfNtwOwiUo0txlYHCOv\n",
       "Kdae9H+qHGstXNrFe0dXHac17zM4vTJ2f1tS9I24MnkJTAk/EB4vOo8eQmQC26NsaEwxCUZzg7fS\n",
       "vHcZIPLHb2AtaqMnRbd6iW4xbU/8C1PCD1RZAN15yACYTJ9wk72GipnP8CX/xqeoUoEP1aJ78Bd5\n",
       "64QFm7IUpoQfmEbr6SwcQlLsU213jNbau0Qi41IJpZ645uYyTvLdb4BU9unevIH2ZeoflwgVtoKR\n",
       "CvcjyiwOHE/DAMBnNpCbZbK+OiLtypzFOz3o4KrfgOxKjTehaTIthvFpVzFS4X5EacGn0YZgEs6z\n",
       "Y2QfSNHF7ZEEmuzgi96ShcBd229gLRoNXgc+hb7Rut2lI2Pk4+r6kQpqWIfzVHbCCO3fppIhgZig\n",
       "kli97un5bKaLTSEMrPmmn14e0PIkNJg4hqVgpML9SCevOPO2AetQBm7QgTzUd5L6pi9s31hCT20H\n",
       "+A1QoJm93moh8IMJlQM9r2AgkiAlLfkB6CJD21lI9Wdxhh6gEhuOM07dfiQGPGzBWpD0nE35DZBK\n",
       "MMpP+5TjrLBWHAZVjLv8rOSHw1hImSiuscSoYDqoykj5jlMJCj1JlPsMCBXg8+JG9LLWOTihYgQV\n",
       "z4+ggiFFDxpSuUKGMGtW9JBGf0kqBgnJ8aTfQKYSIqeANesgrmIEFc+PoDKNG6d/pQLtJsciybOl\n",
       "nvJRWQCNp4hAAfwGrkD0jNSKNKo/z4GM0SQq3I8tUSFppR53KpyBUzhC1A3SbKntlKiEL1owFHdT\n",
       "xAv2gxAGSOXwa9C+kEGy6W3MgdFse2mFYIa8f9ME90MxzJiGlNFr08M8D1DTNwzhtgIN7boL3u9w\n",
       "pfExwAAuLtJWdJ6OuGhugL/D5mtJ0PpiEGgpxKBj9R77wCoPM7DsycH9EAwvZ/Gn+YDsdHUeqpRE\n",
       "vP9OQg4smFNTg2IQVRP5S6U/V+JeEls7hok/nF7/IpEqc9EIl7uJpDaGOSMuCf+ZCg23retOZJbz\n",
       "VO4OaG4MoxPNApviQvke4C9E6R5EnEiduwAAAABJRU5ErkJggg==\n",
       "\" style=\"display:inline;vertical-align:middle;\" /></a><br>"
      ],
      "text/plain": [
       "defaults.assumptions: (A in BOOLEANS , B in BOOLEANS , A or B , [not](A) , [not](B))"
      ]
     },
     "execution_count": 3,
     "metadata": {},
     "output_type": "execute_result"
    }
   ],
   "source": [
    "defaults.assumptions = [inBool(A), inBool(B), Or(A, B), Not(A), Not(B)]"
   ]
  },
  {
   "cell_type": "code",
   "execution_count": 4,
   "metadata": {},
   "outputs": [
    {
     "data": {
      "text/html": [
       "<strong id=\"AorB\">AorB:</strong> <a class=\"ProveItLink\" href=\"../__pv_it/0f1bf4090acd92174180531bf3e50944b30066e50/expr.ipynb\"><img src=\"data:image/png;base64,iVBORw0KGgoAAAANSUhEUgAAADcAAAAPBAMAAACy3Eq1AAAAMFBMVEX///92dnYQEBBERERUVFS6\n",
       "urqIiIhmZmaqqqrc3Nzu7u6YmJgyMjIiIiLMzMwAAACFkkdwAAAAAXRSTlMAQObYZgAAAP1JREFU\n",
       "GNNjYACBtwyogNv/i4vzUSjnPIhgBTMfgEkmAwaG+gCIwvsLgCQLSJwtASzyHki9dwAzZ9RPAJJ8\n",
       "QNUMvAvAIvlAgf0CYGZCPtiEk0DcDrHHCIgvgdWxLujfwACVOAmR/MLAMMcKzFoKtgJsJNhooA1f\n",
       "0tJvQ5QFMMwvYIA4hgXiQrafDAxrwe7hc3Hxh2i4wLAGopxZAajgN9R/TAfAYhUM0hBJfqAu7o8g\n",
       "VgPQNgWw2BygXog3gQ5k+QFkcAIleT6AxVheQ4IA7M35INNA1jD/gjjSdgHcm3w6QPZk/ZMM3PZ/\n",
       "wM5lOA6RK/7v4nJmA1pkMLxC5QIA6tw+1pV4TWcAAAAASUVORK5CYII=\n",
       "\" style=\"display:inline;vertical-align:middle;\" /></a><br>"
      ],
      "text/plain": [
       "AorB: A or B"
      ]
     },
     "execution_count": 4,
     "metadata": {},
     "output_type": "execute_result"
    }
   ],
   "source": [
    "AorB = Or(A, B)"
   ]
  },
  {
   "cell_type": "code",
   "execution_count": 5,
   "metadata": {},
   "outputs": [
    {
     "data": {
      "text/html": [
       "<span style=\"font-size:20px;\"><a class=\"ProveItLink\" href=\"../__pv_it/4f1a2cab967e9bf7add666fc9f4c66b7112e93040/expr.ipynb\"><img src=\"data:image/png;base64,iVBORw0KGgoAAAANSUhEUgAAALEAAAAVBAMAAAD7ihIOAAAAMFBMVEX///9ERETc3NyqqqpUVFS6\n",
       "urrMzMwyMjIQEBCIiIh2dnYiIiLu7u5mZmaYmJgAAABJJ2g3AAAAAXRSTlMAQObYZgAAAjxJREFU\n",
       "OMu1lc9LVFEUx8+80feYmTfj0EahwCf9A9MfYLh4KW1slkouRnDhrmkX5I+kXwuFdNFiVg20SFwZ\n",
       "BGkO+bbRpp0LIQraRIQahv1Su+fce979kQWJHnjvzf1+3/3MveecuQMApbdwwuEvRfgIX8CJh38b\n",
       "77ltNVq23Sc70zeeVoy3HR8+HMZxZ/VobQMH+VtSDLadmeXhcGJJD6VPJF8qMwDFr84kpS2a5E+/\n",
       "/iDDw0APpd+Pt4bcxHdx7TppUJpJ9nq/SPPVzbXnTL7YlvAc5Y/irUVKTgilHzaZNZOcy8mN+VOJ\n",
       "seYePUf6gah69g0pGTGxMGeTWTPJI9kDevYkOhv+y3PpHOUjNaCego4+8K4nNpk1Ihfr1HtVTJGI\n",
       "MzrPV9e/zfMg9VsqIwDXLjc23zm1YW0LB+NU7nbw9olQNivYuMAD9rF6l6T0KILwmfxYXMNoai0Q\n",
       "Wxu7R95YHO8QYVa8klYw095UZPahAGFdSl1INxbt9xlap7gN1VSf3mdbrzkDvAX2oVjJKxo23FbT\n",
       "JrNWQL0Nl5AV1wplY/lIcuqDVy8oEFb0SsUipxrlOY+s8+KaJn/QIotsUPW1D/0fdet6ewCJQWZN\n",
       "dx2lrpveeV01yJ8XIPwJlg+jLd264xPSl1FjTZO9rr0I3h9O0m4na+mJdPZOBcIHkeVT2THf3bvx\n",
       "wBSQz8Gac25wZAdUb3C/Rc7R4Pw4XB/+SnajBMfwiVw6DTKdz+Hqv2fOw//7/l35pY9P5X/wNzl3\n",
       "svvgz4vQAAAAAElFTkSuQmCC\n",
       "\" style=\"display:inline;vertical-align:middle;\" /></a> <a class=\"ProveItLink\" href=\"../__pv_it/7b24379eac4be7938d58c7269c0b42479b5d98f20/proof.ipynb\" style=\"text-decoration: none\">&#x22A2;&nbsp;</a><a class=\"ProveItLink\" href=\"../../../../__pv_it/2cbe72a7ad6f655694dd697106680215e8489b600/expr.ipynb\"><img src=\"data:image/png;base64,iVBORw0KGgoAAAANSUhEUgAAAA8AAAAOBAMAAAACpFvcAAAALVBMVEX///8QEBBERERUVFS6urqI\n",
       "iIhmZmaqqqrc3Nzu7u6YmJgyMjIiIiLMzMwAAADtIaYWAAAAAXRSTlMAQObYZgAAAFtJREFUCNdj\n",
       "YACBOwxQsA9Kc52bAGG05zVAGAFxDmCaZULdAjBjCsO9ADDDgaEvAUTzGhvbKYCVMDAwbgAxChgY\n",
       "eASANAeQwf0AyJgNxEwvGRia5HYwcOm9TgAA6BoR3jrzwFcAAAAASUVORK5CYII=\n",
       "\" style=\"display:inline;vertical-align:middle;\" /></a></span>"
      ],
      "text/plain": [
       "{A in BOOLEANS , A or B , [not](B)} |- A"
      ]
     },
     "execution_count": 5,
     "metadata": {},
     "output_type": "execute_result"
    }
   ],
   "source": [
    "AorB.affirmViaContradiction(A) # prove A via contradiction"
   ]
  },
  {
   "cell_type": "code",
   "execution_count": 6,
   "metadata": {},
   "outputs": [
    {
     "data": {
      "text/html": [
       "<table><tr><th>&nbsp;</th><th>step type</th><th>requirements</th><th>statement</th></tr>\n",
       "<tr><td>0</td><td>generalizaton</td><td>1</td><td><span style=\"font-size:20px;\"> <a class=\"ProveItLink\" href=\"../__pv_it/4370df7fc3f3fdc65c4555e43fb613658edfcb8c0/proof.ipynb\" style=\"text-decoration: none\">&#x22A2;&nbsp;</a><a class=\"ProveItLink\" href=\"../__pv_it/343966fa875dce5408c8e426f0a7f1298a2b5be60/expr.ipynb\"><img src=\"data:image/png;base64,iVBORw0KGgoAAAANSUhEUgAAAKsAAAAWBAMAAABNknGBAAAAMFBMVEX///8QEBC6urrMzMxUVFRm\n",
       "ZmZERETc3NwyMjKqqqp2dnaIiIiYmJgiIiLu7u4AAAAU9Wx4AAAAAXRSTlMAQObYZgAAAi1JREFU\n",
       "OMu1lM9LFVEUx7++cRx5897kPxAN0S6htwhaRLyHSrWzzeCmUoKuQZCzEDWidBMPXKib2vZWZRAx\n",
       "SLsWTosgaePmtZCgR5QEikqgFYh47pm58+74A5TGA/fec8585jv3nnvnooETsUXZfc5U8gq119KZ\n",
       "ylR2mtoINWsgS9XCNypsOzVzJkvZh/0+ab8aHX2caQ2CeZf6LSGWslTNNV6ENHQDgxxXuX++6V0t\n",
       "7SFd5VSVs4fSw+8oBzScgzPBlf4dFbwDdkfkTU4+DdlTOxojKWpf6GL8Bg1F2Pzyz23OmhXk/gAr\n",
       "3k0EtZWzKVlCbBrshFKmhUZPT6/k7bDIf9rbOqeLAcxF2HeerJFsfjUlS4hNh2ZYUYlpYQ5okat3\n",
       "Ji7yVwLB6fUSPvn4yFtaO39bl2WE/GuKSkwL6bNFrsdgl+xbcYvTF96/ewBwtQPvdKq2jMzBqigq\n",
       "sWZokWz7hvSe8fQXMM/5WeBDw6hFszUv67KMLKPVjylK5YUQ95oh8Ita2470WuR5cOreED+4S0ua\n",
       "Mb4IcV/WNq/JRkjeHVZUPNU2LRw5U0Vh6K88CgUpZ/oo88n7R0sqOZVotinZCHEG+hTVlNXDlHUC\n",
       "p0KrCmsHVp13hYvwSJNlBHhDn4ypMT+SjcP99mMLVu9XYxuzm951Ws6yy7+D0LYsQnjXFVXmx4YK\n",
       "D7/TEu8l1Tax1L1paX54tGvi0sHpw65jwz+abHg82cL/3XWVY7+xCwdBstD1+LkzAAAAAElFTkSu\n",
       "QmCC\n",
       "\" style=\"display:inline;vertical-align:middle;\" /></a></span></td></tr>\n",
       "<tr><td>1</td><td>specialization</td><td>2, 3, 4</td><td><span style=\"font-size:20px;\"><a class=\"ProveItLink\" href=\"../__pv_it/4f1a2cab967e9bf7add666fc9f4c66b7112e93040/expr.ipynb\"><img src=\"data:image/png;base64,iVBORw0KGgoAAAANSUhEUgAAALEAAAAVBAMAAAD7ihIOAAAAMFBMVEX///9ERETc3NyqqqpUVFS6\n",
       "urrMzMwyMjIQEBCIiIh2dnYiIiLu7u5mZmaYmJgAAABJJ2g3AAAAAXRSTlMAQObYZgAAAjxJREFU\n",
       "OMu1lc9LVFEUx8+80feYmTfj0EahwCf9A9MfYLh4KW1slkouRnDhrmkX5I+kXwuFdNFiVg20SFwZ\n",
       "BGkO+bbRpp0LIQraRIQahv1Su+fce979kQWJHnjvzf1+3/3MveecuQMApbdwwuEvRfgIX8CJh38b\n",
       "77ltNVq23Sc70zeeVoy3HR8+HMZxZ/VobQMH+VtSDLadmeXhcGJJD6VPJF8qMwDFr84kpS2a5E+/\n",
       "/iDDw0APpd+Pt4bcxHdx7TppUJpJ9nq/SPPVzbXnTL7YlvAc5Y/irUVKTgilHzaZNZOcy8mN+VOJ\n",
       "seYePUf6gah69g0pGTGxMGeTWTPJI9kDevYkOhv+y3PpHOUjNaCego4+8K4nNpk1Ihfr1HtVTJGI\n",
       "MzrPV9e/zfMg9VsqIwDXLjc23zm1YW0LB+NU7nbw9olQNivYuMAD9rF6l6T0KILwmfxYXMNoai0Q\n",
       "Wxu7R95YHO8QYVa8klYw095UZPahAGFdSl1INxbt9xlap7gN1VSf3mdbrzkDvAX2oVjJKxo23FbT\n",
       "JrNWQL0Nl5AV1wplY/lIcuqDVy8oEFb0SsUipxrlOY+s8+KaJn/QIotsUPW1D/0fdet6ewCJQWZN\n",
       "dx2lrpveeV01yJ8XIPwJlg+jLd264xPSl1FjTZO9rr0I3h9O0m4na+mJdPZOBcIHkeVT2THf3bvx\n",
       "wBSQz8Gac25wZAdUb3C/Rc7R4Pw4XB/+SnajBMfwiVw6DTKdz+Hqv2fOw//7/l35pY9P5X/wNzl3\n",
       "svvgz4vQAAAAAElFTkSuQmCC\n",
       "\" style=\"display:inline;vertical-align:middle;\" /></a> <a class=\"ProveItLink\" href=\"../__pv_it/7b24379eac4be7938d58c7269c0b42479b5d98f20/proof.ipynb\" style=\"text-decoration: none\">&#x22A2;&nbsp;</a><a class=\"ProveItLink\" href=\"../../../../__pv_it/2cbe72a7ad6f655694dd697106680215e8489b600/expr.ipynb\"><img src=\"data:image/png;base64,iVBORw0KGgoAAAANSUhEUgAAAA8AAAAOBAMAAAACpFvcAAAALVBMVEX///8QEBBERERUVFS6urqI\n",
       "iIhmZmaqqqrc3Nzu7u6YmJgyMjIiIiLMzMwAAADtIaYWAAAAAXRSTlMAQObYZgAAAFtJREFUCNdj\n",
       "YACBOwxQsA9Kc52bAGG05zVAGAFxDmCaZULdAjBjCsO9ADDDgaEvAUTzGhvbKYCVMDAwbgAxChgY\n",
       "eASANAeQwf0AyJgNxEwvGRia5HYwcOm9TgAA6BoR3jrzwFcAAAAASUVORK5CYII=\n",
       "\" style=\"display:inline;vertical-align:middle;\" /></a></span></td></tr>\n",
       "<tr><td>&nbsp;</td><td colspan=4 style=\"text-align:left\"><span style=\"font-size:20px;\"><a class=\"ProveItLink\" href=\"../../../../__pv_it/2cbe72a7ad6f655694dd697106680215e8489b600/expr.ipynb\"><img src=\"data:image/png;base64,iVBORw0KGgoAAAANSUhEUgAAAA8AAAAOBAMAAAACpFvcAAAALVBMVEX///8QEBBERERUVFS6urqI\n",
       "iIhmZmaqqqrc3Nzu7u6YmJgyMjIiIiLMzMwAAADtIaYWAAAAAXRSTlMAQObYZgAAAFtJREFUCNdj\n",
       "YACBOwxQsA9Kc52bAGG05zVAGAFxDmCaZULdAjBjCsO9ADDDgaEvAUTzGhvbKYCVMDAwbgAxChgY\n",
       "eASANAeQwf0AyJgNxEwvGRia5HYwcOm9TgAA6BoR3jrzwFcAAAAASUVORK5CYII=\n",
       "\" style=\"display:inline;vertical-align:middle;\" /></a> : <a class=\"ProveItLink\" href=\"../../../../__pv_it/2cbe72a7ad6f655694dd697106680215e8489b600/expr.ipynb\"><img src=\"data:image/png;base64,iVBORw0KGgoAAAANSUhEUgAAAA8AAAAOBAMAAAACpFvcAAAALVBMVEX///8QEBBERERUVFS6urqI\n",
       "iIhmZmaqqqrc3Nzu7u6YmJgyMjIiIiLMzMwAAADtIaYWAAAAAXRSTlMAQObYZgAAAFtJREFUCNdj\n",
       "YACBOwxQsA9Kc52bAGG05zVAGAFxDmCaZULdAjBjCsO9ADDDgaEvAUTzGhvbKYCVMDAwbgAxChgY\n",
       "eASANAeQwf0AyJgNxEwvGRia5HYwcOm9TgAA6BoR3jrzwFcAAAAASUVORK5CYII=\n",
       "\" style=\"display:inline;vertical-align:middle;\" /></a></span></td></tr><tr><td>2</td><td>theorem</td><td></td><td><span style=\"font-size:20px;\"> <a class=\"ProveItLink\" href=\"../../implication/_proofs_/affirmViaContradiction.ipynb\" style=\"text-decoration: none\">&#x22A2;&nbsp;</a><a class=\"ProveItLink\" href=\"../../implication/__pv_it/6e067bbf01a47ec3fdb8c87f2276ede1c4a744140/expr.ipynb\"><img src=\"data:image/png;base64,iVBORw0KGgoAAAANSUhEUgAAAJkAAAAWBAMAAAAhlCOEAAAAMFBMVEX///8QEBC6urrMzMxUVFRm\n",
       "ZmZERETc3NwyMjKqqqp2dnaIiIiYmJgiIiLu7u4AAAAU9Wx4AAAAAXRSTlMAQObYZgAAAh1JREFU\n",
       "OMtjeMBATXABRJymhkm2QLwSxOijhmn9QFwGxOwJVDCM5z4w0DiAmHUCFUyrjC8AGrm8vLyWGh7d\n",
       "sF8BSH5LS7uFV1kxMgenL5gezD8ApJwZGNLB/HZ0BQpgkn0BXICjgMEKl2mPGOw3ACkVBr4GcCh+\n",
       "goZmV1frATALEjdsCB3nFRi4FJCNSEC2uj4ASPEycIM1P/0DJF6HxjBsWPBaCUntbLgGvvgDUJsx\n",
       "TWN2cfEH8bgP8ILzw7qrQHZS3TugaVxvkNSmw3VwvQ0ABwwQzEQ3jYmBgRFkEV+DCdjwDWkMDEfB\n",
       "kbNAOw5JrQBchzUbUGQ3xPsFaKYBY4cXrDLdCUSyMMQyMIC9sSFUFincmBFec2C9AArmsLS0tAxh\n",
       "VNPYgaZxfACxpoKz6kmG/QzMCyBuY7VGqGVyYOACaQdGzwRuoHoLiHbWYBTTXoDc+w/EYgTFLN/V\n",
       "0PwHzNfS0rJB4caFMI3TARazb0PD/sFNY04tQDKtTL6dgSf/ByhSeUCRwFrAYG/A5wBxG7JpTPB0\n",
       "Es7A/JmBQY1haygQuKKnEBSgw8DAf4DBHerTaoRavgtQ05iAgQlMRKcY3gHBqw34THvyjYHd/w7D\n",
       "MwVw6k1DTr33ID7jAyankr8HGILAXFAyYE1LE0vLwpcnlwHDDS1t7kRVAYniOtJLBYhpz1DEODeQ\n",
       "W8ZATOM8gCzGQnaJBUkbDIeRxdbh1QEAkzCKhUZAJ2AAAAAASUVORK5CYII=\n",
       "\" style=\"display:inline;vertical-align:middle;\" /></a></span></td></tr>\n",
       "<tr><td>&nbsp;</td><td colspan=4 style-\"text-align:left\"><a class=\"ProveItLink\" href=\"../../implication/_proofs_/affirmViaContradiction.ipynb\">proveit.logic.boolean.implication.affirmViaContradiction</a></td></tr><tr><td>3</td><td>assumption</td><td></td><td><span style=\"font-size:20px;\"><a class=\"ProveItLink\" href=\"../__pv_it/3612ec1dc3b8c98c2193921a926214e0c20eaba70/expr.ipynb\"><img src=\"data:image/png;base64,iVBORw0KGgoAAAANSUhEUgAAAEkAAAAVBAMAAAD4Ed5jAAAAMFBMVEX///9ERETc3NyqqqpUVFS6\n",
       "urrMzMwyMjIQEBCIiIh2dnYiIiLu7u5mZmaYmJgAAABJJ2g3AAAAAXRSTlMAQObYZgAAAS5JREFU\n",
       "KM9jYGDgu8eAB7CtUgBRPLsY8AK2ZhDJ+QHK24Aqu/xjfcVGAyDjOojH1QARZf+AZohAJE/NKiC9\n",
       "AlnV6z8YqhimsqOpYrL9BJHkmb57dwFUlR3LAVRVnJxfIarS3yCZpYhmVgzzP4iZMggb2fbJwFTx\n",
       "go3nCWD7CZZjVICrit7/YwKQfg/iZASASFYGpr9guYPIrp9pCPL8BQaGlDawUIqLy0cwI2L3boTr\n",
       "GVkXABniD4DCCSAhoIHtEOXIZjEyCDAwcINUsoA0MgPxDrDcaQxVYHdxgWJGGYjrwXIsD5BVgWyE\n",
       "hwQPyDz5A2DPbkVS9XYiUngxSXxXYHj4vxYsqX4NHtvSLQbo8QgHJtUQP8IAdlXoAKyKj5AqcPri\n",
       "2UkgrbaCKb7FBNM9AKQsUzxrU6Y9AAAAAElFTkSuQmCC\n",
       "\" style=\"display:inline;vertical-align:middle;\" /></a> <a class=\"ProveItLink\" href=\"../__pv_it/dc2523262ffa0ce1920b871c7f702fb73e741c290/proof.ipynb\" style=\"text-decoration: none\">&#x22A2;&nbsp;</a><a class=\"ProveItLink\" href=\"../__pv_it/18d84e6b10643c76412edd0e67904c254c981c030/expr.ipynb\"><img src=\"data:image/png;base64,iVBORw0KGgoAAAANSUhEUgAAADYAAAAPBAMAAABdHiGLAAAAMFBMVEX///92dnYQEBBERERUVFS6\n",
       "urqIiIhmZmaqqqrc3Nzu7u6YmJgyMjIiIiLMzMwAAACFkkdwAAAAAXRSTlMAQObYZgAAANJJREFU\n",
       "GNNjYACBtwwogPG8zR9dCyjnPKocAzNrwpqFAmAm9/0FGHJsAQfAzBn1EyBiy87evQOV49jgBRZK\n",
       "yA8A03ynFyD0RRqAWKwL+jeAhSYvQJj5djOYs5ThfQJYyBJh393/amBWAMP8AhDNZYDslgwQj8/F\n",
       "xR9itu7du3C3MBgEgoQYGJjA7uVzQNLHYMAMZDQwMPAqgM28gC7HCZTj+QAW8kaRA5q5BsT+BRZa\n",
       "G4CQ4y4zYJisf5KB2/4P2KGcxx/AwvrzJQ+0MObwgbgTAgCMvTlc/0QYTQAAAABJRU5ErkJggg==\n",
       "\" style=\"display:inline;vertical-align:middle;\" /></a></span></td></tr>\n",
       "<tr><td>4</td><td>hypothetical reasoning</td><td>5</td><td><span style=\"font-size:20px;\"><a class=\"ProveItLink\" href=\"../__pv_it/d268bed2ebe8173e6b311f93f056393fe78ef96c0/expr.ipynb\"><img src=\"data:image/png;base64,iVBORw0KGgoAAAANSUhEUgAAAHEAAAAVBAMAAACDNRyvAAAAMFBMVEX///9ERETc3NyqqqpUVFS6\n",
       "urrMzMwyMjIQEBCIiIh2dnYiIiLu7u5mZmaYmJgAAABJJ2g3AAAAAXRSTlMAQObYZgAAAZZJREFU\n",
       "OMtjYGDgu8dAImBbpQCieHYxkAzYmkEk5wcobwOa9JP/Li7iAdjFroM4XA0QQXawCWCVbBCRRgYG\n",
       "3q9oxkHFViDrfP0HRLqBiJkQR/wE4i9ozoSKIetksv0EohJBxB6wCCdQgO8Xqk6YGLJOTk6ww9iB\n",
       "ocZ8ASzCCJTg7kHVCRND1hnD/A9EgXSxg8Ocgd+BganwAKpOmBhYJ28BOG4CQF6AuDQRoirfc+bt\n",
       "B2gBBBN7D+JkgIOTlYHpLwM0dFwhquYrMPBsgTB5d4PAAoQYO9BpKW1guRQXl49gBjcDTwFEuQRI\n",
       "N5KlbA5IYuJAIiIBGo/tEOMNuKCqQRHyfgGqTpgYN0icBWQFMxDvgMROATdUISjE/A1QdMLFwP7k\n",
       "AqU6ZSCuhyhwe4mIOqbvDAwHkHTCxBCxAvaaPERN4h5E1GXUMPD8hluaABND6GSS+K7A8PB/LST9\n",
       "QtIBr/wXF/c6oKH9CnCtMDG0dAt3FFrksypgyWZYdaIDPgZcOvnI0QnOnzw78eucgK1MaIUYupis\n",
       "cggACDt5+FUJbpUAAAAASUVORK5CYII=\n",
       "\" style=\"display:inline;vertical-align:middle;\" /></a> <a class=\"ProveItLink\" href=\"../__pv_it/bb58478a491348b2f0ae912d6b885ccce384dcd70/proof.ipynb\" style=\"text-decoration: none\">&#x22A2;&nbsp;</a><a class=\"ProveItLink\" href=\"../__pv_it/bfd67a9efaba7a0c8889fb52ceb84273d8c7993c0/expr.ipynb\"><img src=\"data:image/png;base64,iVBORw0KGgoAAAANSUhEUgAAAFsAAAAVBAMAAADbSo+2AAAAMFBMVEX////c3NwiIiJERESqqqqY\n",
       "mJh2dnZmZmYQEBDu7u4yMjJUVFTMzMyIiIi6uroAAAAs73DqAAAAAXRSTlMAQObYZgAAASNJREFU\n",
       "KM9jYCAR8F1AE2B9gE/5aRTeISCuwaqOEWLsShTB9UDMhVU5TwGI5EVxC6v+BCCRAOdzoivnmICs\n",
       "XKReAKimAc7nmoCm/BWKjRfug/xpggiHDWjKy1BCaYJ/AJBKR4jkoilfiqx8HsN5kFe8QOwiJRDQ\n",
       "L0BV3sfAwA6WAPnvAYM8SPAFkgleD1CU/4PxgK7k2b17vwGQfR5JOeeKB7iU8wEDagGa8lOZKKa3\n",
       "ICl3YGBgaoA5BuJ2JUtUt5silDMClXN9ALKjEIZ7o4UMPNAOMMwCksw/UQKScQGa8kdwvnD/QgZW\n",
       "+19A0XVwMWYBCA0KvCYlJQMGDgGMxISUCHjQ5ZDSEwywXcCT3ldiiMzClz2kMUQ24lPOiG417wHc\n",
       "igFg/0K2AuH1ZwAAAABJRU5ErkJggg==\n",
       "\" style=\"display:inline;vertical-align:middle;\" /></a></span></td></tr>\n",
       "<tr><td>5</td><td>specialization</td><td>6, 7, 8, 9</td><td><span style=\"font-size:20px;\"><a class=\"ProveItLink\" href=\"../__pv_it/3876acf3958a1014c6ea743a9fdaa422342f82360/expr.ipynb\"><img src=\"data:image/png;base64,iVBORw0KGgoAAAANSUhEUgAAAJkAAAAVBAMAAACnAFEqAAAAMFBMVEX///9ERETc3NyqqqpUVFS6\n",
       "urrMzMwyMjIQEBCIiIh2dnYiIiLu7u5mZmaYmJgAAABJJ2g3AAAAAXRSTlMAQObYZgAAAhpJREFU\n",
       "OMtjYGDgu8dABcC2SgFE8exioApgawaRnB+g3Gw06Sf/XVzEAzB0oSvj8//i4lgKZFwH8bgaoML1\n",
       "IIIVzEwAk40MDLxfMUyrRxfgEGBguA+0dQWyaXz7DwBJFpBBnBPATv8JxF/Q9UKUIYN8oOp8BzTT\n",
       "lO+DgpENaBEDN1gD5yeg3l/opkGUIYP5QIH3C9BMmzAfHEZFQGwLFmAESnD3oJsGVYYEJIB4xwFU\n",
       "01gP2D9ggJpUBBbhd2BgKkT3FkwZEgAGhroMA9Q03gKw2FGw/8G+BPsWGBaeM2+j64QrQ0oZX2bO\n",
       "3QdivAcRGRCXBzDoX2CAxABLACw8eLZAdPDuBoEFSMoYGG6DhHZBgvc0MBIY2IESKW0QG1xc/CFO\n",
       "2sBwHBEe85Ecx+aArAwCUiDBy/kPxBEHKo5IgKYzDoiXLzOsg4cHOK6QTUMog5sGDF5I1HOD1LKA\n",
       "ZQ2APEh0qANdB9YMss/fANU0hDK4aflAF7F8hoUbF0gzE1AZOySLseRBghkUHkzfgfkYyTSYsgNI\n",
       "poGSm34BA3IKAQUV4x+IJukD8OSWUcPAcH4DTGsCTBnPb7gN4OBlaz+AbJpifxEDn/x3SGzVQqJR\n",
       "/ouLex2QceIT3F8wZTz9iPxwEVg2lIPjCiUvwEEOGj8Is/RhVcBSJGE3DR08wBTiY8BlGh+1TAOX\n",
       "bzw78RvGiUVsAraytxVi0WKq1QsAG9WXW5tftxQAAAAASUVORK5CYII=\n",
       "\" style=\"display:inline;vertical-align:middle;\" /></a> <a class=\"ProveItLink\" href=\"../__pv_it/6fb07ce56ca386b3169e6a859ae30903a74715420/proof.ipynb\" style=\"text-decoration: none\">&#x22A2;&nbsp;</a><a class=\"ProveItLink\" href=\"../../__pv_it/8f1f7fac882de28c72b62ab80a1700b6d8fd066b0/expr.ipynb\"><img src=\"data:image/png;base64,iVBORw0KGgoAAAANSUhEUgAAAA4AAAAOBAMAAADtZjDiAAAAG1BMVEX///9EREQQEBAiIiJmZmbM\n",
       "zMyIiIjc3NwAAACryk5kAAAAAXRSTlMAQObYZgAAABlJREFUCNdjYGBgKGOAgBBa0s7GxkbGxoYA\n",
       "FMUF2aBfHgoAAAAASUVORK5CYII=\n",
       "\" style=\"display:inline;vertical-align:middle;\" /></a></span></td></tr>\n",
       "<tr><td>&nbsp;</td><td colspan=4 style=\"text-align:left\"><span style=\"font-size:20px;\"><a class=\"ProveItLink\" href=\"../../../../__pv_it/2cbe72a7ad6f655694dd697106680215e8489b600/expr.ipynb\"><img src=\"data:image/png;base64,iVBORw0KGgoAAAANSUhEUgAAAA8AAAAOBAMAAAACpFvcAAAALVBMVEX///8QEBBERERUVFS6urqI\n",
       "iIhmZmaqqqrc3Nzu7u6YmJgyMjIiIiLMzMwAAADtIaYWAAAAAXRSTlMAQObYZgAAAFtJREFUCNdj\n",
       "YACBOwxQsA9Kc52bAGG05zVAGAFxDmCaZULdAjBjCsO9ADDDgaEvAUTzGhvbKYCVMDAwbgAxChgY\n",
       "eASANAeQwf0AyJgNxEwvGRia5HYwcOm9TgAA6BoR3jrzwFcAAAAASUVORK5CYII=\n",
       "\" style=\"display:inline;vertical-align:middle;\" /></a> : <a class=\"ProveItLink\" href=\"../../../../__pv_it/2cbe72a7ad6f655694dd697106680215e8489b600/expr.ipynb\"><img src=\"data:image/png;base64,iVBORw0KGgoAAAANSUhEUgAAAA8AAAAOBAMAAAACpFvcAAAALVBMVEX///8QEBBERERUVFS6urqI\n",
       "iIhmZmaqqqrc3Nzu7u6YmJgyMjIiIiLMzMwAAADtIaYWAAAAAXRSTlMAQObYZgAAAFtJREFUCNdj\n",
       "YACBOwxQsA9Kc52bAGG05zVAGAFxDmCaZULdAjBjCsO9ADDDgaEvAUTzGhvbKYCVMDAwbgAxChgY\n",
       "eASANAeQwf0AyJgNxEwvGRia5HYwcOm9TgAA6BoR3jrzwFcAAAAASUVORK5CYII=\n",
       "\" style=\"display:inline;vertical-align:middle;\" /></a>, <a class=\"ProveItLink\" href=\"../../../../__pv_it/077b2ff79244fb4582cbe22c6e3356fa92a52f2f0/expr.ipynb\"><img src=\"data:image/png;base64,iVBORw0KGgoAAAANSUhEUgAAABAAAAAOBAMAAADUAYG5AAAAMFBMVEX///+qqqru7u4iIiJ2dnbc\n",
       "3NyIiIjMzMxmZmYQEBC6uroyMjJERERUVFSYmJgAAADLUcuvAAAAAXRSTlMAQObYZgAAAGpJREFU\n",
       "CNdjYGB4+//u3dMLGIBgDgMDxy8gzf4NiP8CGWxfGRj4vgAZPBMYGJgnARn8FxhY9ygAGfXX0pof\n",
       "gDTlBzAw2YIYJ0EckBBI53sHoBH/gIz7AhBjWH9DjancBLTl/N+7t/cxMAAA3u4f/5xagjYAAAAA\n",
       "SUVORK5CYII=\n",
       "\" style=\"display:inline;vertical-align:middle;\" /></a> : <a class=\"ProveItLink\" href=\"../../../../__pv_it/077b2ff79244fb4582cbe22c6e3356fa92a52f2f0/expr.ipynb\"><img src=\"data:image/png;base64,iVBORw0KGgoAAAANSUhEUgAAABAAAAAOBAMAAADUAYG5AAAAMFBMVEX///+qqqru7u4iIiJ2dnbc\n",
       "3NyIiIjMzMxmZmYQEBC6uroyMjJERERUVFSYmJgAAADLUcuvAAAAAXRSTlMAQObYZgAAAGpJREFU\n",
       "CNdjYGB4+//u3dMLGIBgDgMDxy8gzf4NiP8CGWxfGRj4vgAZPBMYGJgnARn8FxhY9ygAGfXX0pof\n",
       "gDTlBzAw2YIYJ0EckBBI53sHoBH/gIz7AhBjWH9DjancBLTl/N+7t/cxMAAA3u4f/5xagjYAAAAA\n",
       "SUVORK5CYII=\n",
       "\" style=\"display:inline;vertical-align:middle;\" /></a></span></td></tr><tr><td>6</td><td>theorem</td><td></td><td><span style=\"font-size:20px;\"> <a class=\"ProveItLink\" href=\"binaryOrContradiction.ipynb\" style=\"text-decoration: none\">&#x22A2;&nbsp;</a><a class=\"ProveItLink\" href=\"../__pv_it/09914cad4332a3a37704f959d3d64a9d1df152bb0/expr.ipynb\"><img src=\"data:image/png;base64,iVBORw0KGgoAAAANSUhEUgAAALMAAAAWBAMAAAB567CdAAAAMFBMVEX///8QEBC6urrMzMxUVFRm\n",
       "ZmZERETc3NwyMjKqqqp2dnaIiIiYmJgiIiLu7u4AAAAU9Wx4AAAAAXRSTlMAQObYZgAAAh9JREFU\n",
       "OMu1lL9v00AUx78kcVxi1/QfAHVgrJQMSAwMRCCVbs0Q0wlhCeFu1ENFp4psFgt4gT+gQ38sVSqx\n",
       "oA64UgdQB7pkASxlgG4ViKhFiFJx73yOn0uNKlE/KZf3zffe53LvzkYfhcUuDTvnDNW7NK7R8Oyc\n",
       "0eUWjY9pEacQ9IhothYUgjZXFhYWUQgah677oSD0bWBWJr4cXx7Ykw1KSsm8EU8lF+fs9oMMwk/T\n",
       "jKnQV2F1ZGe+S2mOwRijpJrMez+eZFvABierkr9NhR6FEdL3lyMptSZKPzjauh+Crqn4tIG6x2iq\n",
       "JA5uKrQRjsoncr0Xr9SFtsvRtf0WXosL2gQ+Avf4v1YlcXBToa3ONam6rpRfG3jrcfSNqkN5xYM1\n",
       "gOnzw1IlMYabCo3ZWzRW1Jr1zVePwNFNsQljHPPiYH9tTvJXToXvIWMm6Bdy/+/wRqpVcSB9hjYD\n",
       "4xssB3dEazowr9Bvy67rdoYlsRqaHH2BDsnq2XOS+FD0JGDoffvuMbBEra62YP1Mqp20RKrU1KIo\n",
       "uhxF9PIwydc83JTXWdj1BkPPoDwA9oSPSwFKgxQ9LJEqY2ZiQlSGug/9GHqP9bokLqa4YrVtkT/p\n",
       "Y7EF3VewpCRWsXlKfD6EPv2pfITVA3sqSNHWtIP53yGdP2rP7fZT0cf4MjeGJVIpMz9Mllczjnf6\n",
       "pJMqP67nonMmnVT5EZ4FHf5DnS0q//tm/QOva5lS+2+2eQAAAABJRU5ErkJggg==\n",
       "\" style=\"display:inline;vertical-align:middle;\" /></a></span></td></tr>\n",
       "<tr><td>&nbsp;</td><td colspan=4 style-\"text-align:left\"><a class=\"ProveItLink\" href=\"binaryOrContradiction.ipynb\">proveit.logic.boolean.disjunction.binaryOrContradiction</a></td></tr><tr><td>7</td><td>assumption</td><td></td><td><span style=\"font-size:20px;\"><a class=\"ProveItLink\" href=\"../__pv_it/2abc8060ba634b3a1c69314d724b873bb664ee1d0/expr.ipynb\"><img src=\"data:image/png;base64,iVBORw0KGgoAAAANSUhEUgAAAEkAAAAVBAMAAAD4Ed5jAAAAMFBMVEX///9ERETc3NyqqqpUVFS6\n",
       "urrMzMwyMjIQEBCIiIh2dnYiIiLu7u5mZmaYmJgAAABJJ2g3AAAAAXRSTlMAQObYZgAAAVZJREFU\n",
       "KM9jYGDgu8eAB7CtUgBRPLsY8AK2ZhDJ+QHK24Am/eS/i4t4AAPDdRCHqwEiyA5WHQDWABFpZGDg\n",
       "/crAsAJZ1es/ININRMyEGP4TiL+gqmKy/QSiEkHEHrAIJ1CA7xeqKk7Or2B7gT5ivgAWYQRKcPeg\n",
       "qoph/geiQCrYwX5n4HdgYCo8AFXFWwAOjwCQMyC2JUIcmu858/YDIP0exMkAe4uVgekvA9TlrhBV\n",
       "8xUYeLaAHAE0PqUNLJTi4vIRzOBm4CmAqJIAqQQZJg4kIhKg4dQOluM14HoAUfUFZNsCoD4gZmAB\n",
       "aWUG4h2QECnghsYFyDf+BlB3cYFiRhmI6yGybi8Z4MHF9J0BKSTATpE/AJZNhIQpOLgyapBUMUl8\n",
       "V2B4+L8WEp+QMOWV/+LiXsfAgBaP8JRyAC1tYFWFAcCq+AipAqcvnp0E0mormOJbTDDdAwDyolZE\n",
       "uavBMwAAAABJRU5ErkJggg==\n",
       "\" style=\"display:inline;vertical-align:middle;\" /></a> <a class=\"ProveItLink\" href=\"../__pv_it/1fe62088827f068ac7a50be509d0dc7fbf045dab0/proof.ipynb\" style=\"text-decoration: none\">&#x22A2;&nbsp;</a><a class=\"ProveItLink\" href=\"../__pv_it/0f1bf4090acd92174180531bf3e50944b30066e50/expr.ipynb\"><img src=\"data:image/png;base64,iVBORw0KGgoAAAANSUhEUgAAADcAAAAPBAMAAACy3Eq1AAAAMFBMVEX///92dnYQEBBERERUVFS6\n",
       "urqIiIhmZmaqqqrc3Nzu7u6YmJgyMjIiIiLMzMwAAACFkkdwAAAAAXRSTlMAQObYZgAAAP1JREFU\n",
       "GNNjYACBtwyogNv/i4vzUSjnPIhgBTMfgEkmAwaG+gCIwvsLgCQLSJwtASzyHki9dwAzZ9RPAJJ8\n",
       "QNUMvAvAIvlAgf0CYGZCPtiEk0DcDrHHCIgvgdWxLujfwACVOAmR/MLAMMcKzFoKtgJsJNhooA1f\n",
       "0tJvQ5QFMMwvYIA4hgXiQrafDAxrwe7hc3Hxh2i4wLAGopxZAajgN9R/TAfAYhUM0hBJfqAu7o8g\n",
       "VgPQNgWw2BygXog3gQ5k+QFkcAIleT6AxVheQ4IA7M35INNA1jD/gjjSdgHcm3w6QPZk/ZMM3PZ/\n",
       "wM5lOA6RK/7v4nJmA1pkMLxC5QIA6tw+1pV4TWcAAAAASUVORK5CYII=\n",
       "\" style=\"display:inline;vertical-align:middle;\" /></a></span></td></tr>\n",
       "<tr><td>8</td><td>assumption</td><td></td><td><span style=\"font-size:20px;\"><a class=\"ProveItLink\" href=\"../__pv_it/edd8455a49d47780786b5faa6e783100cb7d31cc0/expr.ipynb\"><img src=\"data:image/png;base64,iVBORw0KGgoAAAANSUhEUgAAADAAAAAVBAMAAADyTXAxAAAAMFBMVEX///9ERETc3NyqqqpUVFS6\n",
       "urrMzMwyMjIQEBCIiIh2dnYiIiLu7u5mZmaYmJgAAABJJ2g3AAAAAXRSTlMAQObYZgAAALxJREFU\n",
       "KM9jYGDgu8eABrIWgUieXQwYIMMASHB+QBFj2wAkeAuABFcDigT7B5gYmsTrP9glmGw/YZfg5PyK\n",
       "XSKG+R9MDOwCGOAJYPsJpPhALsgIYGC4vRsIQP5hZWD6C1JQy8CQ0gZTnQLCLi4fQWzGOgaGiAQk\n",
       "CaDudhAbpJulACHBDKR2wOzg2oCQUAZS9RjOZWPgAWmWP4DhDyaJ7woMD//XYg8rMMAvwYdFAhwa\n",
       "PDuxxGAAiORbjC3OAaHOM6CzgdAAAAAAAElFTkSuQmCC\n",
       "\" style=\"display:inline;vertical-align:middle;\" /></a> <a class=\"ProveItLink\" href=\"../__pv_it/04d7501518712e5b9d432219fd2131665990c4a50/proof.ipynb\" style=\"text-decoration: none\">&#x22A2;&nbsp;</a><a class=\"ProveItLink\" href=\"../__pv_it/feaa1d0e6d92ad9ead8e5ffd1f92697e3912387a0/expr.ipynb\"><img src=\"data:image/png;base64,iVBORw0KGgoAAAANSUhEUgAAABwAAAAOBAMAAADOPWE3AAAAMFBMVEX///8QEBBERES6urqIiIiq\n",
       "qqrc3Nzu7u6YmJgyMjJUVFTMzMx2dnYiIiJmZmYAAADMbjvTAAAAAXRSTlMAQObYZgAAAGNJREFU\n",
       "CNdjYEAA7gsMyIDzAwq39zsyjy3uGzKXheUzMtec9QcSj92A+wsDw9u7QHAHyGVmYPsHldkFwqtW\n",
       "fULiGjAwSCK4rEDqIoKbCqTmw1zLwD4BSOkXwFyk+DOBoen/PABSrhtHsYt+gAAAAABJRU5ErkJg\n",
       "gg==\n",
       "\" style=\"display:inline;vertical-align:middle;\" /></a></span></td></tr>\n",
       "<tr><td>9</td><td>assumption</td><td></td><td><span style=\"font-size:20px;\"><a class=\"ProveItLink\" href=\"../__pv_it/b22b15039733798321461907c74328825d8427750/expr.ipynb\"><img src=\"data:image/png;base64,iVBORw0KGgoAAAANSUhEUgAAADEAAAAVBAMAAAAdjxsPAAAAMFBMVEX////c3NxERESqqqpUVFS6\n",
       "urrMzMwyMjIQEBCIiIh2dnYiIiLu7u5mZmaYmJgAAABXZE4RAAAAAXRSTlMAQObYZgAAAN1JREFU\n",
       "KM9jYGDgu8eABthWCYAonl0MGICtGURyfkCI8Pl/cXEqBTKug3hcDUiKORQYGO4HMDCswJDJnwDE\n",
       "Dthk5gOtfr8Am4wGEO84gE3mCwODuA4DVIa3AMm1X2bO3QdivAcRGUCn3N4NBEB/cX5kYDgNdAAD\n",
       "+wUGhpQ2mIYUBgYmoMmc/0Ac9QcMDBEJCBl+oHq+X0A2N9B9DCwFCJl8oEqWzzB7uDYgZEDekS9g\n",
       "QHc1G9g7bO0HGDD9c+m/i0v5AwYGbD6FAQIyfNhkwPHDsxNLnLZCInIx1nQAAJmFPcGxt9K+AAAA\n",
       "AElFTkSuQmCC\n",
       "\" style=\"display:inline;vertical-align:middle;\" /></a> <a class=\"ProveItLink\" href=\"../__pv_it/659d862d8201b38a76dac4278242419974e1920f0/proof.ipynb\" style=\"text-decoration: none\">&#x22A2;&nbsp;</a><a class=\"ProveItLink\" href=\"../__pv_it/1da4e2fe7c44632f084fa27ea32e26dc689384c20/expr.ipynb\"><img src=\"data:image/png;base64,iVBORw0KGgoAAAANSUhEUgAAAB0AAAAOBAMAAAAh/woJAAAAMFBMVEX///+qqqru7u7c3NyIiIgQ\n",
       "EBC6uroyMjJERESYmJhUVFTMzMx2dnYiIiJmZmYAAADtoHoAAAAAAXRSTlMAQObYZgAAAHpJREFU\n",
       "CNdjYIACzvW/Vq0oY0AA1gYGhvcJCP5+ByBegOD7GzAwzD+A4LcC8VUFBP8XA4N5E4LL/cvF7yaQ\n",
       "fnsXCO4wMLB8ZmDQhRm3i4GBIwAo9hPB5wfKcf5B8PdPYGDg+ojgg6y3L4AZDraeOxxh/Yv/q1aV\n",
       "A7UAAFRxJOZ+1MVPAAAAAElFTkSuQmCC\n",
       "\" style=\"display:inline;vertical-align:middle;\" /></a></span></td></tr>\n",
       "</table>"
      ],
      "text/plain": [
       "\tstep type\trequirements\tstatement\n",
       "0\tgeneralizaton\t1\t|- forall_{A, B in BOOLEANS | A or B , [not](B)} A\n",
       "1\tspecialization\t2, 3, 4\t{A in BOOLEANS , A or B , [not](B)} |- A\n",
       "\tA : A\n",
       "2\ttheorem\t\t|- forall_{A in BOOLEANS | [not](A) => FALSE} A\n",
       "\tproveit.logic.boolean.implication.affirmViaContradiction\n",
       "3\tassumption\t\t{A in BOOLEANS} |- A in BOOLEANS\n",
       "4\thypothetical reasoning\t5\t{A or B , [not](B)} |- [not](A) => FALSE\n",
       "5\tspecialization\t6, 7, 8, 9\t{A or B , [not](A) , [not](B)} |- FALSE\n",
       "\tA : A, B : B\n",
       "6\ttheorem\t\t|- forall_{A, B | A or B , [not](A) , [not](B)} FALSE\n",
       "\tproveit.logic.boolean.disjunction.binaryOrContradiction\n",
       "7\tassumption\t\t{A or B} |- A or B\n",
       "8\tassumption\t\t{[not](A)} |- [not](A)\n",
       "9\tassumption\t\t{[not](B)} |- [not](B)"
      ]
     },
     "execution_count": 6,
     "metadata": {},
     "output_type": "execute_result"
    }
   ],
   "source": [
    "%qed"
   ]
  },
  {
   "cell_type": "code",
   "execution_count": null,
   "metadata": {},
   "outputs": [],
   "source": []
  }
 ],
 "metadata": {
  "kernelspec": {
   "display_name": "Python 3",
   "language": "python",
   "name": "python3"
  }
 },
 "nbformat": 4,
 "nbformat_minor": 0
}
