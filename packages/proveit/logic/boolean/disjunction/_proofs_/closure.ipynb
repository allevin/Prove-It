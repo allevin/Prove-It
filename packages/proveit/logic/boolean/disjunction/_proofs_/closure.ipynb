{
 "cells": [
  {
   "cell_type": "markdown",
   "metadata": {},
   "source": [
    "Proof of <a class=\"ProveItLink\" href=\"../../../../_context_.ipynb\">proveit</a>.<a class=\"ProveItLink\" href=\"../../../_context_.ipynb\">logic</a>.<a class=\"ProveItLink\" href=\"../../_context_.ipynb\">boolean</a>.<a class=\"ProveItLink\" href=\"../_context_.ipynb\">disjunction</a>.<a href=\"../_theorems_.ipynb#closure\" class=\"ProveItLink\">closure</a> theorem\n",
    "========"
   ]
  },
  {
   "cell_type": "code",
   "execution_count": null,
   "metadata": {},
   "outputs": [],
   "source": [
    "import proveit\n",
    "from proveit import Operation, Indexed, varIter\n",
    "from proveit.logic import Forall, InSet, Or, Booleans, inBool, And\n",
    "from proveit._common_ import A, B, Q, x, xx, l, m, n, AA, BB, P\n",
    "from proveit.logic._common_ import iterA1m\n",
    "from proveit.number import num, Exp, Add, one\n",
    "from proveit.number.sets.integer._theorems_ import induction\n",
    "from proveit.logic.boolean.disjunction._axioms_ import multiDisjunctionDef, emptyDisjunction\n",
    "from proveit.logic.boolean.disjunction._theorems_ import binaryClosure\n",
    "context = proveit.Context('..') # the theorem's context is in the parent directory"
   ]
  },
  {
   "cell_type": "code",
   "execution_count": null,
   "metadata": {},
   "outputs": [],
   "source": [
    "%proving closure presuming [induction]"
   ]
  },
  {
   "cell_type": "code",
   "execution_count": null,
   "metadata": {},
   "outputs": [],
   "source": [
    "step1 = multiDisjunctionDef.specialize({n:m, BB:AA, A:Indexed(AA, Add(m, num(1)))}, assumptions = multiDisjunctionDef.conditions + closure.conditions)"
   ]
  },
  {
   "cell_type": "code",
   "execution_count": null,
   "metadata": {},
   "outputs": [],
   "source": [
    "binaryClosure"
   ]
  },
  {
   "cell_type": "code",
   "execution_count": null,
   "metadata": {},
   "outputs": [],
   "source": [
    "assumptions = [InSet(Or(iterA1m), Booleans), InSet(Indexed(AA,Add(m, num(1))), Booleans)]"
   ]
  },
  {
   "cell_type": "code",
   "execution_count": null,
   "metadata": {},
   "outputs": [],
   "source": [
    "step2 = binaryClosure.specialize({A:Or(iterA1m), B:Indexed(AA, Add(m, num(1)))}, assumptions=assumptions)"
   ]
  },
  {
   "cell_type": "code",
   "execution_count": null,
   "metadata": {},
   "outputs": [],
   "source": [
    "#step1.subLeftSideInto(step2)"
   ]
  },
  {
   "cell_type": "code",
   "execution_count": null,
   "metadata": {},
   "outputs": [],
   "source": [
    "#emptyInBool = inBool(emptyDisjunction.operands[0]).prove()"
   ]
  },
  {
   "cell_type": "code",
   "execution_count": null,
   "metadata": {},
   "outputs": [],
   "source": [
    "#sub_Op = Forall([AA], InSet(Or(iterA1m), Booleans), conditions = [InSet(AA, Exp(Booleans, m))])"
   ]
  },
  {
   "cell_type": "code",
   "execution_count": null,
   "metadata": {},
   "outputs": [],
   "source": [
    "#induction.specialize({Operation(P, m):sub_Op})"
   ]
  },
  {
   "cell_type": "code",
   "execution_count": null,
   "metadata": {},
   "outputs": [],
   "source": []
  }
 ],
 "metadata": {
  "kernelspec": {
   "display_name": "Python 3",
   "language": "python",
   "name": "python3"
  }
 },
 "nbformat": 4,
 "nbformat_minor": 0
}
