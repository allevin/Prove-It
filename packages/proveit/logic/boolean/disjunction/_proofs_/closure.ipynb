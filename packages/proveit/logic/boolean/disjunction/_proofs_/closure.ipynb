{
 "cells": [
  {
   "cell_type": "markdown",
   "metadata": {
    "collapsed": true
   },
   "source": [
    "Proof of <a class=\"ProveItLink\" href=\"../../../../_context_.ipynb\">proveit</a>.<a class=\"ProveItLink\" href=\"../../../_context_.ipynb\">logic</a>.<a class=\"ProveItLink\" href=\"../../_context_.ipynb\">boolean</a>.<a class=\"ProveItLink\" href=\"../_context_.ipynb\">disjunction</a>.<a href=\"../_theorems_.ipynb#closure\" class=\"ProveItLink\">closure</a> theorem\n",
    "========"
   ]
  },
  {
   "cell_type": "code",
   "execution_count": 1,
   "metadata": {},
   "outputs": [],
   "source": [
    "import proveit\n",
    "from proveit import defaults\n",
    "from proveit.logic.set_theory._common_ import EmptySet\n",
    "from proveit.logic.set_theory.cardinality._axioms_ import emptyCard\n",
    "from proveit import Operation, Indexed, varIter\n",
    "from proveit.logic import Forall, InSet, Or, Booleans, inBool, And\n",
    "from proveit._common_ import A, B, Q, x, i, xx, l, m, n, AA, BB, P,S\n",
    "from proveit.logic._common_ import iterA1m\n",
    "from proveit.number import num, Exp, Add, one, Naturals, Less, zero\n",
    "from proveit.number.sets.integer._theorems_ import induction\n",
    "from proveit.number.sets.integer._axioms_ import emptyNatDef\n",
    "from proveit.logic.set_theory.membership._theorems_ import mem_exp_set_item_set, exp_set_0\n",
    "from proveit.logic.boolean.disjunction._axioms_ import multiDisjunctionDef, emptyDisjunction\n",
    "from proveit.logic.boolean.disjunction._theorems_ import binaryClosure\n",
    "context = proveit.Context('..') # the theorem's context is in the parent directory"
   ]
  },
  {
   "cell_type": "code",
   "execution_count": 2,
   "metadata": {},
   "outputs": [
    {
     "name": "stdout",
     "output_type": "stream",
     "text": [
      "Beginning proof of closure\n",
      "Recorded 'presuming' information\n",
      "Presuming theorems in proveit.logic, proveit.number (except any that presume this theorem).\n",
      "Presuming previous theorems (applied transitively).\n"
     ]
    },
    {
     "data": {
      "text/html": [
       "<strong id=\"closure\">closure:</strong> <a class=\"ProveItLink\" href=\"../__pv_it/2cb505713778067a1b94f558521c476c9ef7d74f0/expr.ipynb\"><img src=\"../__pv_it/2cb505713778067a1b94f558521c476c9ef7d74f0/expr.png\" style=\"display:inline;vertical-align:middle;\" /></a><br>(see <a class=\"ProveItLink\" href=\"../__pv_it/2cb505713778067a1b94f558521c476c9ef7d74f0/dependencies.ipynb\">dependencies</a>)<br>"
      ],
      "text/plain": [
       "closure: forall_{m in Naturals} [forall_{A in BOOLEANS^{m}} ((A_1 or  ...  or A_m) in BOOLEANS)]"
      ]
     },
     "execution_count": 2,
     "metadata": {},
     "output_type": "execute_result"
    }
   ],
   "source": [
    "%proving closure presuming [proveit.number, proveit.logic]"
   ]
  },
  {
   "cell_type": "code",
   "execution_count": 3,
   "metadata": {},
   "outputs": [
    {
     "data": {
      "text/html": [
       "<span style=\"font-size:20px;\"> &#x22A2;&nbsp;<a class=\"ProveItLink\" href=\"../__pv_it/3dc8194137d4ae8cf6636e21fc5465d72eb01b890/expr.ipynb\"><img src=\"../__pv_it/3dc8194137d4ae8cf6636e21fc5465d72eb01b890/expr.png\" style=\"display:inline;vertical-align:middle;\" /></a></span>"
      ],
      "text/plain": [
       "|= forall_{m in Naturals} [forall_{B, A} ((A_1 or  ...  or A_m or B) = ((A_1 or  ...  or A_m) or B))]"
      ]
     },
     "execution_count": 3,
     "metadata": {},
     "output_type": "execute_result"
    }
   ],
   "source": [
    "multiDisjunctionDef"
   ]
  },
  {
   "cell_type": "code",
   "execution_count": 4,
   "metadata": {},
   "outputs": [
    {
     "data": {
      "text/html": [
       "<strong id=\"step1\">step1:</strong> <span style=\"font-size:20px;\"><a class=\"ProveItLink\" href=\"../__pv_it/d7fa17de759a2f1be899d7b171ce7193ca5d80370/expr.ipynb\"><img src=\"../__pv_it/d7fa17de759a2f1be899d7b171ce7193ca5d80370/expr.png\" style=\"display:inline;vertical-align:middle;\" /></a> &#x22A2;&nbsp;<a class=\"ProveItLink\" href=\"../__pv_it/9876a3b1fb8685932a44f1de1c201579e483af140/expr.ipynb\"><img src=\"../__pv_it/9876a3b1fb8685932a44f1de1c201579e483af140/expr.png\" style=\"display:inline;vertical-align:middle;\" /></a></span><br>"
      ],
      "text/plain": [
       "step1: {m in Naturals} |= (A_1 or  ...  or A_m or A_(m + 1)) = ((A_1 or  ...  or A_m) or A_(m + 1))"
      ]
     },
     "execution_count": 4,
     "metadata": {},
     "output_type": "execute_result"
    }
   ],
   "source": [
    "step1 = multiDisjunctionDef.specialize({m:m, AA:AA, B:Indexed(AA, Add(m, num(1)))},\n",
    "                                       assumptions = multiDisjunctionDef.conditions + closure.conditions)"
   ]
  },
  {
   "cell_type": "code",
   "execution_count": 5,
   "metadata": {},
   "outputs": [
    {
     "data": {
      "text/html": [
       "<span style=\"font-size:20px;\"> &#x22A2;&nbsp;<a class=\"ProveItLink\" href=\"../__pv_it/39441255e3cd9fbcda2663152b054e4ca715853b0/expr.ipynb\"><img src=\"../__pv_it/39441255e3cd9fbcda2663152b054e4ca715853b0/expr.png\" style=\"display:inline;vertical-align:middle;\" /></a></span>"
      ],
      "text/plain": [
       "|= forall_{A, B in BOOLEANS} ((A or B) in BOOLEANS)"
      ]
     },
     "execution_count": 5,
     "metadata": {},
     "output_type": "execute_result"
    }
   ],
   "source": [
    "binaryClosure"
   ]
  },
  {
   "cell_type": "code",
   "execution_count": 6,
   "metadata": {},
   "outputs": [
    {
     "data": {
      "text/html": [
       "<strong id=\"assumptions\">assumptions:</strong> <a class=\"ProveItLink\" href=\"../__pv_it/84ed11804d271e6beac2f9ea7333c6208acdd3310/expr.ipynb\"><img src=\"../__pv_it/84ed11804d271e6beac2f9ea7333c6208acdd3310/expr.png\" style=\"display:inline;vertical-align:middle;\" /></a><br>"
      ],
      "text/plain": [
       "assumptions: ((A_1 or  ...  or A_m) in BOOLEANS , A_(m + 1) in BOOLEANS)"
      ]
     },
     "execution_count": 6,
     "metadata": {},
     "output_type": "execute_result"
    }
   ],
   "source": [
    "assumptions = [InSet(Or(iterA1m), Booleans), InSet(Indexed(AA,Add(m, num(1))), Booleans)]"
   ]
  },
  {
   "cell_type": "code",
   "execution_count": 7,
   "metadata": {},
   "outputs": [
    {
     "data": {
      "text/html": [
       "<strong id=\"step2\">step2:</strong> <span style=\"font-size:20px;\"><a class=\"ProveItLink\" href=\"../__pv_it/065abdf90ca7c5ba7c6a4765dc659599010d10c00/expr.ipynb\"><img src=\"../__pv_it/065abdf90ca7c5ba7c6a4765dc659599010d10c00/expr.png\" style=\"display:inline;vertical-align:middle;\" /></a> &#x22A2;&nbsp;<a class=\"ProveItLink\" href=\"../__pv_it/5e174a1d7c5b80f3febb71d2ff3c70663b09b1980/expr.ipynb\"><img src=\"../__pv_it/5e174a1d7c5b80f3febb71d2ff3c70663b09b1980/expr.png\" style=\"display:inline;vertical-align:middle;\" /></a></span><br>"
      ],
      "text/plain": [
       "step2: {(A_1 or  ...  or A_m) in BOOLEANS , A_(m + 1) in BOOLEANS} |= ((A_1 or  ...  or A_m) or A_(m + 1)) in BOOLEANS"
      ]
     },
     "execution_count": 7,
     "metadata": {},
     "output_type": "execute_result"
    }
   ],
   "source": [
    "step2 = binaryClosure.specialize({A:Or(iterA1m), B:Indexed(AA, Add(m, num(1)))}, assumptions=assumptions)"
   ]
  },
  {
   "cell_type": "code",
   "execution_count": 8,
   "metadata": {},
   "outputs": [
    {
     "data": {
      "text/html": [
       "<strong id=\"step1SubLeft\">step1SubLeft:</strong> <span style=\"font-size:20px;\"><a class=\"ProveItLink\" href=\"../__pv_it/0678b9fecbad6cc86ae8461e4b34cc1738731fbe0/expr.ipynb\"><img src=\"../__pv_it/0678b9fecbad6cc86ae8461e4b34cc1738731fbe0/expr.png\" style=\"display:inline;vertical-align:middle;\" /></a> &#x22A2;&nbsp;<a class=\"ProveItLink\" href=\"../__pv_it/7f909304bd4b76aba8df4d9d4eb74ea0f755c5710/expr.ipynb\"><img src=\"../__pv_it/7f909304bd4b76aba8df4d9d4eb74ea0f755c5710/expr.png\" style=\"display:inline;vertical-align:middle;\" /></a></span><br>"
      ],
      "text/plain": [
       "step1SubLeft: {(A_1 or  ...  or A_m) in BOOLEANS , A_(m + 1) in BOOLEANS , m in Naturals} |= (A_1 or  ...  or A_m or A_(m + 1)) in BOOLEANS"
      ]
     },
     "execution_count": 8,
     "metadata": {},
     "output_type": "execute_result"
    }
   ],
   "source": [
    "step1SubLeft = step1.subLeftSideInto(step2, assumptions = assumptions + list(step1.assumptions))"
   ]
  },
  {
   "cell_type": "code",
   "execution_count": 9,
   "metadata": {},
   "outputs": [
    {
     "data": {
      "text/html": [
       "<strong id=\"genStep1\">genStep1:</strong> <span style=\"font-size:20px;\"><a class=\"ProveItLink\" href=\"../__pv_it/76552c13c436cf67f18f00577a5d373f2447bc4a0/expr.ipynb\"><img src=\"../__pv_it/76552c13c436cf67f18f00577a5d373f2447bc4a0/expr.png\" style=\"display:inline;vertical-align:middle;\" /></a> &#x22A2;&nbsp;<a class=\"ProveItLink\" href=\"../__pv_it/8d94d618fb809133104ecb8ac869a08189abaf550/expr.ipynb\"><img src=\"../__pv_it/8d94d618fb809133104ecb8ac869a08189abaf550/expr.png\" style=\"display:inline;vertical-align:middle;\" /></a></span><br>"
      ],
      "text/plain": [
       "genStep1: {(A_1 or  ...  or A_m) in BOOLEANS , m in Naturals , A_(m + 1) in BOOLEANS} |= forall_{n in Naturals} ((A_1 or  ...  or A_m or A_(m + 1)) in BOOLEANS)"
      ]
     },
     "execution_count": 9,
     "metadata": {},
     "output_type": "execute_result"
    }
   ],
   "source": [
    "genStep1 = step1SubLeft.generalize((n), domain = Naturals)"
   ]
  },
  {
   "cell_type": "code",
   "execution_count": 10,
   "metadata": {},
   "outputs": [
    {
     "data": {
      "text/html": [
       "<strong id=\"emptyInBool\">emptyInBool:</strong> <span style=\"font-size:20px;\"> &#x22A2;&nbsp;<a class=\"ProveItLink\" href=\"../__pv_it/6c3f516447d9c5b30029442cfda6837c8bd5b2000/expr.ipynb\"><img src=\"../__pv_it/6c3f516447d9c5b30029442cfda6837c8bd5b2000/expr.png\" style=\"display:inline;vertical-align:middle;\" /></a></span><br>"
      ],
      "text/plain": [
       "emptyInBool: |= [or]() in BOOLEANS"
      ]
     },
     "execution_count": 10,
     "metadata": {},
     "output_type": "execute_result"
    }
   ],
   "source": [
    "emptyInBool = inBool(emptyDisjunction.operands[0]).prove()"
   ]
  },
  {
   "cell_type": "code",
   "execution_count": 11,
   "metadata": {},
   "outputs": [
    {
     "data": {
      "text/html": [
       "<strong id=\"specMem0\">specMem0:</strong> <span style=\"font-size:20px;\"> &#x22A2;&nbsp;<a class=\"ProveItLink\" href=\"../__pv_it/b218ef068dbb2da43bd59a30ac5e2159fa153ba90/expr.ipynb\"><img src=\"../__pv_it/b218ef068dbb2da43bd59a30ac5e2159fa153ba90/expr.png\" style=\"display:inline;vertical-align:middle;\" /></a></span><br>"
      ],
      "text/plain": [
       "specMem0: |= forall_{S} (emptyset in S^{0})"
      ]
     },
     "execution_count": 11,
     "metadata": {},
     "output_type": "execute_result"
    }
   ],
   "source": [
    "specMem0 = exp_set_0.specialize({x:EmptySet}, assumptions = (emptyCard.expr,))"
   ]
  },
  {
   "cell_type": "code",
   "execution_count": 12,
   "metadata": {},
   "outputs": [
    {
     "data": {
      "text/html": [
       "<span style=\"font-size:20px;\"> &#x22A2;&nbsp;<a class=\"ProveItLink\" href=\"../../../set_theory/membership/__pv_it/beea5bd3bee4573804d36eea7ea7461097e656020/expr.ipynb\"><img src=\"../../../set_theory/membership/__pv_it/beea5bd3bee4573804d36eea7ea7461097e656020/expr.png\" style=\"display:inline;vertical-align:middle;\" /></a></span>"
      ],
      "text/plain": [
       "|= forall_{m in Naturals} [forall_{S} [forall_{x in S^{m}} [forall_{i in {1...m}} (x_i in S)]]]"
      ]
     },
     "execution_count": 12,
     "metadata": {},
     "output_type": "execute_result"
    }
   ],
   "source": [
    "mem_exp_set_item_set"
   ]
  },
  {
   "cell_type": "code",
   "execution_count": 13,
   "metadata": {},
   "outputs": [
    {
     "data": {
      "text/html": [
       "<strong id=\"specMemItem\">specMemItem:</strong> <span style=\"font-size:20px;\"><a class=\"ProveItLink\" href=\"../__pv_it/c7ee3dff9f8d124763095701a7cecf64ad5982170/expr.ipynb\"><img src=\"../__pv_it/c7ee3dff9f8d124763095701a7cecf64ad5982170/expr.png\" style=\"display:inline;vertical-align:middle;\" /></a> &#x22A2;&nbsp;<a class=\"ProveItLink\" href=\"../__pv_it/d9f3b8feb5058775d4ed43b8a2e91759afd52dac0/expr.ipynb\"><img src=\"../__pv_it/d9f3b8feb5058775d4ed43b8a2e91759afd52dac0/expr.png\" style=\"display:inline;vertical-align:middle;\" /></a></span><br>"
      ],
      "text/plain": [
       "specMemItem: {A in S^{0}} |= forall_{i in {1...0}} (A_i in S)"
      ]
     },
     "execution_count": 13,
     "metadata": {},
     "output_type": "execute_result"
    }
   ],
   "source": [
    "specMemItem = mem_exp_set_item_set.specialize({m:zero, x:A}, \n",
    "                                              assumptions = (InSet(m, Naturals),(InSet(A, Exp(S,zero)))))"
   ]
  },
  {
   "cell_type": "code",
   "execution_count": 14,
   "metadata": {},
   "outputs": [
    {
     "data": {
      "text/html": [
       "<strong id=\"specEmptyNatDef\">specEmptyNatDef:</strong> <span style=\"font-size:20px;\"><a class=\"ProveItLink\" href=\"../__pv_it/341218048678a9046dfb606ad630f812aacb72bb0/expr.ipynb\"><img src=\"../__pv_it/341218048678a9046dfb606ad630f812aacb72bb0/expr.png\" style=\"display:inline;vertical-align:middle;\" /></a> &#x22A2;&nbsp;<a class=\"ProveItLink\" href=\"../__pv_it/6b945621ae5a02b4ebbb33d14103112ade83a3c60/expr.ipynb\"><img src=\"../__pv_it/6b945621ae5a02b4ebbb33d14103112ade83a3c60/expr.png\" style=\"display:inline;vertical-align:middle;\" /></a></span><br>"
      ],
      "text/plain": [
       "specEmptyNatDef: {m in Naturals , n in Naturals , m < n} |= A = ()"
      ]
     },
     "execution_count": 14,
     "metadata": {},
     "output_type": "execute_result"
    }
   ],
   "source": [
    "specEmptyNatDef = emptyNatDef.specialize({n:m, m:n, AA:AA},\n",
    "                                         assumptions = (InSet(m, Naturals), InSet(n, Naturals), Less(m, n)))"
   ]
  },
  {
   "cell_type": "code",
   "execution_count": 18,
   "metadata": {},
   "outputs": [
    {
     "data": {
      "text/html": [
       "<span style=\"font-size:20px;\"><a class=\"ProveItLink\" href=\"../__pv_it/341218048678a9046dfb606ad630f812aacb72bb0/expr.ipynb\"><img src=\"../__pv_it/341218048678a9046dfb606ad630f812aacb72bb0/expr.png\" style=\"display:inline;vertical-align:middle;\" /></a> &#x22A2;&nbsp;<a class=\"ProveItLink\" href=\"../__pv_it/224d7f730ba08751182b3b5cbe648a929e1b8cdb0/expr.ipynb\"><img src=\"../__pv_it/224d7f730ba08751182b3b5cbe648a929e1b8cdb0/expr.png\" style=\"display:inline;vertical-align:middle;\" /></a></span>"
      ],
      "text/plain": [
       "{m in Naturals , n in Naturals , m < n} |= (A = ()) = TRUE"
      ]
     },
     "execution_count": 18,
     "metadata": {},
     "output_type": "execute_result"
    }
   ],
   "source": [
    "specEmptyNatDef.evaluation()"
   ]
  },
  {
   "cell_type": "code",
   "execution_count": 16,
   "metadata": {},
   "outputs": [
    {
     "data": {
      "text/html": [
       "<strong id=\"spec_ind_closure\">spec_ind_closure:</strong> <span style=\"font-size:20px;\"> &#x22A2;&nbsp;<a class=\"ProveItLink\" href=\"../__pv_it/cee1d19c03915c6b4728da75a99582496d2d5fdd0/expr.ipynb\"><img src=\"../__pv_it/cee1d19c03915c6b4728da75a99582496d2d5fdd0/expr.png\" style=\"display:inline;vertical-align:middle;\" /></a></span><br>"
      ],
      "text/plain": [
       "spec_ind_closure: |= (((A_1 or  ...  or A_0) in BOOLEANS) and [forall_{m in Naturals | (A_1 or  ...  or A_m) in BOOLEANS} ((A_1 or  ...  or A_(m + 1)) in BOOLEANS)]) => [forall_{n in Naturals} ((A_1 or  ...  or A_n) in BOOLEANS)]"
      ]
     },
     "execution_count": 16,
     "metadata": {},
     "output_type": "execute_result"
    }
   ],
   "source": [
    "spec_ind_closure = induction.specialize({Operation(P, m):closure.instanceExpr.instanceExpr})"
   ]
  },
  {
   "cell_type": "code",
   "execution_count": null,
   "metadata": {},
   "outputs": [],
   "source": []
  },
  {
   "cell_type": "code",
   "execution_count": null,
   "metadata": {},
   "outputs": [],
   "source": []
  }
 ],
 "metadata": {
  "kernelspec": {
   "display_name": "Python 3",
   "language": "python",
   "name": "python3"
  },
  "language_info": {
   "codemirror_mode": {
    "name": "ipython",
    "version": 3
   },
   "file_extension": ".py",
   "mimetype": "text/x-python",
   "name": "python",
   "nbconvert_exporter": "python",
   "pygments_lexer": "ipython3",
   "version": "3.7.3"
  }
 },
 "nbformat": 4,
 "nbformat_minor": 1
}
