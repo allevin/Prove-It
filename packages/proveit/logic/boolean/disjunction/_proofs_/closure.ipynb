{
 "cells": [
  {
   "cell_type": "markdown",
   "metadata": {},
   "source": [
    "Proof of <a class=\"ProveItLink\" href=\"../../../../_context_.ipynb\">proveit</a>.<a class=\"ProveItLink\" href=\"../../../_context_.ipynb\">logic</a>.<a class=\"ProveItLink\" href=\"../../_context_.ipynb\">boolean</a>.<a class=\"ProveItLink\" href=\"../_context_.ipynb\">disjunction</a>.<a href=\"../_theorems_.ipynb#closure\" class=\"ProveItLink\">closure</a> theorem\n",
    "========"
   ]
  },
  {
   "cell_type": "code",
   "execution_count": 1,
   "metadata": {},
   "outputs": [],
   "source": [
    "import proveit\n",
    "from proveit import Operation, Indexed, varIter\n",
    "from proveit.logic import Forall, InSet, Or, Booleans, inBool, And\n",
    "from proveit._common_ import A, B, Q, x, xx, l, m, n, AA, BB, P\n",
    "from proveit.logic._common_ import iterA1m\n",
    "from proveit.number import num, Exp, Add, one\n",
    "from proveit.number.sets.integer._theorems_ import induction\n",
    "from proveit.logic.boolean.disjunction._axioms_ import multiDisjunctionDef, emptyDisjunction\n",
    "from proveit.logic.boolean.disjunction._theorems_ import binaryClosure\n",
    "context = proveit.Context('..') # the theorem's context is in the parent directory"
   ]
  },
  {
   "cell_type": "code",
   "execution_count": 2,
   "metadata": {},
   "outputs": [
    {
     "name": "stdout",
     "output_type": "stream",
     "text": [
      "Beginning proof of closure\n",
      "Recorded 'presuming' information\n"
     ]
    },
    {
     "name": "stdout",
     "output_type": "stream",
     "text": [
      "Presuming proveit.number.sets.integer.induction theorem (applied transitively).\n",
      "Presuming previous theorems (applied transitively).\n"
     ]
    },
    {
     "data": {
      "text/html": [
       "<strong id=\"closure\">closure:</strong> <a class=\"ProveItLink\" href=\"../__pv_it/3688f1b2b5faa56b47f98633e6e84854e760a0700/expr.ipynb\"><img src=\"data:image/png;base64,iVBORw0KGgoAAAANSUhEUgAAAVgAAAAVBAMAAADx8+t1AAAAMFBMVEX///8QEBC6urrMzMxUVFRm\n",
       "ZmZERETc3NwyMjKqqqp2dnaIiIiYmJgiIiLu7u4AAAAU9Wx4AAAAAXRSTlMAQObYZgAABH1JREFU\n",
       "SMfVlmtoHFUUgM/OvueV1Pr4IbYjSlsI0hE0PlA7NKCCry2llFCLg+IWxUh+SFYUzSoUUbSZPxF/\n",
       "KCxLtVEkLJEuYqIuaiS0UIe2SJWm2YI/AtU08RFQasd777kzc3dnHwn95YFzd/ace2a+e+65D4D/\n",
       "k9Q7epUz963tNX1ciexw1okgBKhG6y7UPncSXPp8vN17ZENjfStdvhe3UKkslNYJKwbsbvJNrI69\n",
       "9qOD9jJ8TE2H2sPKdNiZepfv0Q68k+xZgZnlKR7pLbHW9L8hBECmua/dpx/6BO1lGCFt2m4Py3wj\n",
       "3ZIzzZVOqucG5gEI7YIkKKfiz5YYAGopAgtTGbSXWT6STntYlvXBbrCbuBJ5y1sOzP20ORctGpoA\n",
       "zZ8tMQD0Xvy98M78GR/2/USd2cugHikUXoEOsMcKhYLbhVUqotKEuZsvh5M6DJDNRfu/QXTcX8Ni\n",
       "AMAzOJy360JmR9BeBljN53/uBNuTzw91WzLJEiqRUXPs98BOQSlws4xz4EgAwIesHamHZRA/+zza\n",
       "y6yuDnSCJQWWYt+T/m6/vmqoRJ6GJy75BcBKoL9Ff1ICcX+d8ABf3mNtSGTfsrBSQTuBvRn0YuOr\n",
       "7txjKNfUfVjJgkX2HPuH++cmJh5vjIgZqGQh9MLXfwHc/kiw8Ha22r4rkOA7Kg8I5EZWuba4wKbf\n",
       "RTuB1UCpCQV+dE9NtSdhMsgs2Yln2POuVe5XZH3KUAdnds76C7PHQAW46MB22u8DnsJIJlBcnoAw\n",
       "IDgh2CTeMD8fLrCUVGJ2AqvUNGEXrW5dqqvHkyLsDK5n6acV7ldkmKxlq3CVlIvAPrZhg/dvCJt0\n",
       "5For2EH4lD/5AQ2wcUvMbApsH1Yv3kYmY1/fYaVqgko/r951R0WAXcRQbatXR78iS0frMKC7sp/Z\n",
       "mIMK2Y1LS6NeCJsuai2L/EXgG4wfMDv1hTX9VFAGbgQWywAOkKr6dXtNs1QLDxDVnPxWgE29YOAy\n",
       "9Qz0K8ldZ8lMZnOayt+YqqHCeUKsecMBLAzgSa4HDc5i4h5+JPAA/ZtLcBq+owuCmR9ugKVlMIew\n",
       "42QYr34OPaacg7sRVpYfDWGz+9nMbIKxCvpJGeyu6LbspD7zN40cavp+Su45IWw/HgkXXd7oOOXx\n",
       "IYT2A9IXivAH27Zw6/rNEGBnq8HWBTE6yIfgVsg4cG8+n6+oZvrEuRAWrmdVQGrLQj+BLTXuvJKL\n",
       "6nmXIeF5nhnAZrCsz9u80a9F+0H8CQISlXgvvEksr+MgDprBRWboagftFFalg9wIVRiV4BfMLNz0\n",
       "lQB7gj4dBvjBRX8UFq7jGogPG29zBWq+ecZMxU4vG8Fxm32Q7wbCMVzmz+llktvvZUgMI6wq1Czw\n",
       "KoAdy+gnsHub7ozHuEZg1yqjkKiodgnkNpdRavdhJRtOQf8R0J8kf7aRxmqCXfgT1M0rDvPPTXz0\n",
       "XPsrIpOXxvatD3YLaGb82eFg+22WRQhhwxGQmmw8bjv6fUlbqFcsD3Swl7vEKvPm2j7yMtcrFMVs\n",
       "b//y5H8fa2EgHoglRwAAAABJRU5ErkJggg==\n",
       "\" style=\"display:inline;vertical-align:middle;\" /></a><br>(see <a class=\"ProveItLink\" href=\"../__pv_it/3688f1b2b5faa56b47f98633e6e84854e760a0700/dependencies.ipynb\">dependencies</a>)<br>"
      ],
      "text/plain": [
       "closure: forall_{m in Naturals} [forall_{A in BOOLEANS^{m}} ((A_1 or  ...  or A_m) in BOOLEANS)]"
      ]
     },
     "execution_count": 2,
     "metadata": {},
     "output_type": "execute_result"
    }
   ],
   "source": [
    "%proving closure presuming [induction]"
   ]
  },
  {
   "cell_type": "code",
   "execution_count": 3,
   "metadata": {},
   "outputs": [
    {
     "data": {
      "text/html": [
       "<strong id=\"step1\">step1:</strong> <span style=\"font-size:20px;\"><a class=\"ProveItLink\" href=\"../__pv_it/497157fe04b640ee3ade5cb85a02cacea37b39340/expr.ipynb\"><img src=\"data:image/png;base64,iVBORw0KGgoAAAANSUhEUgAAAE0AAAAVBAMAAADx+n4ZAAAAMFBMVEX////c3NxERESqqqpUVFS6\n",
       "urrMzMwyMjIQEBCIiIh2dnYiIiLu7u5mZmaYmJgAAABXZE4RAAAAAXRSTlMAQObYZgAAAUdJREFU\n",
       "KM9jYGDgu8eAF7CtEgBRPLsYCAC2ZhDJ+QGHNE+9Ug0D7/7NDAzXQVyuBlzmMD1IYmDgBzJW4FfH\n",
       "so1zAgMHTnU803fvLgCrCz/ghkdd+huYeWkOxw+gqItUlJyyIHKSAYjPqAO3N8GSTQGujhdoxwL3\n",
       "CTy/ApjBPmcSQKjjDXgJUvcexMsIYGAN2MTA85MBou4Qwh8JDD4sGUAG+wUGhpQ2oMt5vjIw/wGb\n",
       "zMAQsXs3zB8JDEd4KkAs9QdA8QQGsKINDBwLQGIpyOaxLQCZxw2SYCkAu5H7AkO8wAEg/zSyOobH\n",
       "TDD3cW1gAJl0PoDBnfEBSPYBsjouIeRwkQ8A6ankAgfzVni8BTBA4hauLoKBYREDg8k0sLT4NYgy\n",
       "1vomIHkcd/yaVEP8CwcE0gGqOj7C6sDpj2cnwfTcCqb4FhORPwCCQ1cLYdXRpwAAAABJRU5ErkJg\n",
       "gg==\n",
       "\" style=\"display:inline;vertical-align:middle;\" /></a> <a class=\"ProveItLink\" href=\"../__pv_it/cc9c92874d936e8264ef506db7ef569c0142fc790/proof.ipynb\" style=\"text-decoration: none\">&#x22A2;&nbsp;</a><a class=\"ProveItLink\" href=\"../__pv_it/b3a8776fe79fb3f796467675bef6928da8e1d50c0/expr.ipynb\"><img src=\"data:image/png;base64,iVBORw0KGgoAAAANSUhEUgAAAesAAAAVBAMAAACUMttPAAAAMFBMVEX////c3NwiIiJERESqqqqY\n",
       "mJh2dnZmZmYQEBDu7u4yMjJUVFTMzMyIiIi6uroAAAAs73DqAAAAAXRSTlMAQObYZgAABAFJREFU\n",
       "WMPlWE1oE0EUfvnPZpM2J0GLJHgrCg3iz0UweKl4KggqiqUepKCU5iBetBjRQ5Vi40FIBWkEfwPa\n",
       "qDdRGyiixUODBQ9itehFhNJYW2uxOM7Mzu7M7k6yWdueXGg6+9775vve7tt5Owvwnx5NFfovOu8S\n",
       "VxcwkZZZA9N228wKJIgsnY1LpKFvtLH3p0vOuoC2Lqn5rF1ZaQUSRJZQuWGJNPS+Nu79ze8//bVP\n",
       "Y7YLAJsviEpSwojdknMlgZZLVMpScJJoCo2xAkNzhlUlMGYXD5NdBNgwEygp5QvYimAKXEl4pmPs\n",
       "LAecJJpCwzntqvciXngpUiA5e0GKdhFgw9xBVSmfkrVaLoErCWPkp1XKkneSaAr9po3ehhEnuYn/\n",
       "2iXhot0EsPhiycElOeE263NDStOFhEgcwJ+RsvjSThLF0NN04FmOIL7MtjO89RDsZoAFkyiP/JGn\n",
       "3W1dXUjVu5BAUiapS1iCGSeJYuhtLf9MCHWwGqFVwkaWlZHbGUDqg51wbkFen/torkV6kPUoQuZw\n",
       "I6GVTWRn8RecJBpPAQ69Qs8OQQxlIHpGWyPwmqDKrpNg1wByXyALnxZFHym/V4/J6KtlxjCBuJGA\n",
       "l7MXcpamrINEP8maTo9DaZ0o89CE8HXws6UxCdel1WHYdYDMB8NpmP0humjgHrr4WiZsJhLdSPCC\n",
       "UpCzRKsOEn0096QWSjnVX/2DpBvonKfguDRtw64DZD4Y7e83t45G0m5QQigd7JCzsLRrSzSlfZGc\n",
       "7B0fukq6gc65AeR917AzQKBv5mRssmz2+QeGhhK4dRz8+K40tcucNi3y0CZ6EGuY1L8bCZ6CtwaL\n",
       "VuR1JPK0ceh2Ug+EuO0751Rfah1fIT85fSDYGeDabIe3FCiZfJDHqXhRXOlcgM1wxJz2YWsrIbeu\n",
       "roScKIO8sBytwRIoOEjkaeNQ0lJaiK7d85wzulUjGcbnyhwbCHYdsP49NJe1zmH4PE8IBUp7bhRg\n",
       "WetYPO1ueyuBuhIMdoUV9FhrDRaLDLtEnjY+/YwfMITb+ihCywYn3GWXFGOVC2zA7RzwHF5DJG3C\n",
       "ILQEKkKorFaiWbgFarF4ufiApf3Q+rpCCOtJMNjpgLS8jJQFO6brSnxavFcsVrTpcWg4Lq7xOud4\n",
       "jT2P1T4Ak5BokvvC5VjKU50W77b95fQ8CXQjIZqrwZJ3ksjvdt6yO/An3e38PFV8MfcH5c4EqJVA\n",
       "qktMO1iR7ApWJsFg6XGSyNPu4bs+GnJiseLuE0UKtsDYMbnzC3jL0R1xlva6kT6QtGJx4/lPEnQW\n",
       "vZ3XlujTp6ehLWv/Acd4aXhkvxmlVZKgxp0ifKZQT2XN09a/BsQkX0A2rpKED84XRgj9C53D2DXn\n",
       "14Y7AAAAAElFTkSuQmCC\n",
       "\" style=\"display:inline;vertical-align:middle;\" /></a></span><br>"
      ],
      "text/plain": [
       "step1: {m in Naturals} |- (A_1 or  ...  or A_m or A_(m + 1)) = ((A_1 or  ...  or A_m) or A_(m + 1))"
      ]
     },
     "execution_count": 3,
     "metadata": {},
     "output_type": "execute_result"
    }
   ],
   "source": [
    "step1 = multiDisjunctionDef.specialize({n:m, BB:AA, A:Indexed(AA, Add(m, num(1)))}, assumptions = multiDisjunctionDef.conditions + closure.conditions)"
   ]
  },
  {
   "cell_type": "code",
   "execution_count": 4,
   "metadata": {},
   "outputs": [
    {
     "data": {
      "text/html": [
       "<span style=\"font-size:20px;\"> <a class=\"ProveItLink\" href=\"binaryClosure.ipynb\" style=\"text-decoration: none\">&#x22A2;&nbsp;</a><a class=\"ProveItLink\" href=\"../__pv_it/007ee0ab524f98485a43568946fc875a941ae9e80/expr.ipynb\"><img src=\"data:image/png;base64,iVBORw0KGgoAAAANSUhEUgAAAMcAAAAWBAMAAACGSZV/AAAAMFBMVEX///8QEBC6urrMzMxUVFRm\n",
       "ZmZERETc3NwyMjKqqqp2dnaIiIiYmJgiIiLu7u4AAAAU9Wx4AAAAAXRSTlMAQObYZgAAA15JREFU\n",
       "SMe9Vl9Ik1EUP9vn9rl936b0khHGiqDIyj2IPURs5FCDSCHWQ39n0EwK20NoIdUQpBBLX4we91IZ\n",
       "QQyqh/DBFSRmRPPBiHAxoUIyK0SXlWjnnPt933TOrZe6cO9377n33N85v3PO3QD+R0v+3TFzFIey\n",
       "XCdUV3b5M+xxmrzMC1KBXfLyVIpn3F4346tuBzi4XGzvPj1X2gRgcQPcI8GNvCB0olB4XfidRrZb\n",
       "YoEpAHDCBYUZKlZzdOJzBCAM0IJLOZAPQyG2+sX81QKNVWBIPLjp8YIaWQGiuBBhWJhn6ckHYiIn\n",
       "NvBU7v1Bn0oa3rNkIATwOgLOYnF28nrirQZiix0AGEdG77a2XsrL1laKfVg4pUwzaXizrZ4lDdhH\n",
       "0IomEbKuZNqTLciRFV1IBYPv8oIcxm4RdOy0zdOHAAgI2wzAhWb83uZVSzJN155BXNjrmdxGFl7l\n",
       "8easv9q9AqSLbI/RzOmSfoNGVaUwfab/8RhNbvGyMR2TxOJ6MgcZ2AxO5kGdFglZDIogV+3s7Ihp\n",
       "CmsoLpxQZpBnQQv6XsEfxmiKsnsjGxFYGvgnuDLjdQ5Q+KqPzAJYvGBGrUn/UYhGJjdpCmRAEYNU\n",
       "+HwpFjk048CKlyik7GEjShMJI/AQ2IaeYsorMQez+GBU6EbBEgfl5OWvCGL/sgIEhxJhTY9d+FmE\n",
       "Xqi/dBCtYnUQqwBxhit4MxrkrW9uGArBc5pGI2XHNYV1RBcluo0ySaRy2CH2PIhV8NOgK54JQnRB\n",
       "I1NbAMd4q7z/UTNXKYL4S/WYnCUlWlzE3i1kVdpjRGVyhRSGeLl/GQjSpdJeL2O/gAHe6gN4mpQi\n",
       "whPLbk2BspNSkcNwTiRppShFKhOpJGmk8JQrDaIeCQg9MNGT4Rz1C91TyFiP9CYYPEMxsWsKOyik\n",
       "cZAb5kIwuNgh3jBRiocWfb5r7HG7oLHDrT+QqZF9dI5QVbrcEgIPbyK55W6nV3higJio7NYurx0p\n",
       "41dCf1ZstSK79DZuzLZjlsTkqyAvgIxpVqPR1aY/58TfcO5XwR7NLr+vTz6kQK4bk+ahb9Zfi1n0\n",
       "ycXFGIxleepXaxPZxVo1Lfn9MWZ3MCZL23li25sTpCa7uCCUIdi16g0ycdGW8yfHnV3+MFMQ+zf/\n",
       "I/4AM+Xh1y8Fe60AAAAASUVORK5CYII=\n",
       "\" style=\"display:inline;vertical-align:middle;\" /></a></span>"
      ],
      "text/plain": [
       "|- forall_{A, B in BOOLEANS} ((A or B) in BOOLEANS)"
      ]
     },
     "execution_count": 4,
     "metadata": {},
     "output_type": "execute_result"
    }
   ],
   "source": [
    "binaryClosure"
   ]
  },
  {
   "cell_type": "code",
   "execution_count": 5,
   "metadata": {},
   "outputs": [
    {
     "data": {
      "text/html": [
       "<strong id=\"assumptions\">assumptions:</strong> <a class=\"ProveItLink\" href=\"../__pv_it/b65847c3bbb5a398ade637d3ea1b652e72c50d640/expr.ipynb\"><img src=\"data:image/png;base64,iVBORw0KGgoAAAANSUhEUgAAAS4AAAAVBAMAAAAKpB6qAAAAMFBMVEX////c3NwiIiJERESqqqqY\n",
       "mJh2dnZmZmYQEBDu7u4yMjJUVFTMzMyIiIi6uroAAAAs73DqAAAAAXRSTlMAQObYZgAAA+9JREFU\n",
       "SMfNVkloE1EY/pM0bSaTxEBP1kNCRHDDjuKCIhgQUfRSEFxR9KCCIu1BerHFoB4KblFRrCBWsS49\n",
       "2Ih6UFwGRXA5OFjxUGxNK5RSkFbbWqvF5/+WmXkzmcYWL/7w/5l5y/e+928TgP9VYgZXlMjQJPe+\n",
       "TdvP2/+2eOLowTyaN0JR/N8nyatyh/1cpjvnSluX/Ty8UBqYAPrewdab0/Gudfh8SyhK9S/bi8zq\n",
       "BTvz7Obm0SQnTTW5lgZixsXzEnEJfVzRvii3dgOEAaIGV3oc+WYtUCklMS7LI2o6zDCSpDS1oZBX\n",
       "NG+TldGL8IJOJBXcAaEsMEUJVxMbRaOezxZsfE7NLPFynQxIUxf4j9KeSjUJXiVVD6xpGd0tl66m\n",
       "Zpu8VqlZUDLQh299fPZdiNhErqCuLkQIxwFKavhzNHlqVPYPL4LXmyV/dWnWtAPdVRHNWclf5fi7\n",
       "EGrR1rIx31iY5K21qwU3l1BOlBuVhN76W050Rte3VIrjs/UWFSe6U8qzdhwjMyjAHmhG28xxaspI\n",
       "lYggi2FE88CYJWKJsgQODcuUefTiNq8UOWF7k6O7HMVPmG/nV3flD5rUa+Ek2pNsbBNESQ1EDvJc\n",
       "xpxXve6HOf9EdJkMfBqRG2GG2rOOvH9vXY2jS7egtPhZiibnfcdK/O0FGgkWDWUIYgRXlIgaS8JF\n",
       "L5/7QRE1djkN/YPy5VkR9KZSdt6D1iMmTXSbNSPHzoodxi1W3gdi2Fve2rzUHw2naN2bvA7ALi9e\n",
       "ZelSEY6nDQ2O0ue83sj+Ai1g9h2B7sUrkpP9FQCN8jqKb1RhzavG07TuTV4VkPTi5Wvyi0Acb2xM\n",
       "YOlv7PyQ61huxfGMNy+BHqz/si/apjt5KckCXr2wCN+oKpRc5Vebl/qCd1VaKwqYBjvrNtGusC34\n",
       "SVzZPgxzYCvNNxY9tcrBq0fsFejn+qv8uWDOyQvuO3jROG7BigSm02jwVwzZvCILWPUqNFSXk6bB\n",
       "auRd1XeXgpO071ITjDEE3ieUeRKvYL3Gt5noU9this4WyrzO5CVeG9sYo260qFMIdr2nhIxZvOAG\n",
       "T9gj1DeaabB78aoiZBRUQoiuGpEMXKMTHL2izvpuD868h9u+yuiP4SWE0/Cw5WZLi2Ge5buhW9/t\n",
       "Bcdoe74NIew3obhcwCavV+M0Z1fXDulRzTeQt75DsO5qyvEJ75JfjkMbJGIuf0HJQ1GPZvVm6CeS\n",
       "aSGvCUoCVCOoIcL+cRbI3dQ3gB5bX+rm5ZZSw/E/h+3cO2JMitdn8OuRxXGrrRXlFdNgLjzfKXiN\n",
       "exbtnNOE/quoce/xqPdwoBjWHUra4Pqv8nGS1ygyF9XhD1RhN8mG197TAAAAAElFTkSuQmCC\n",
       "\" style=\"display:inline;vertical-align:middle;\" /></a><br>"
      ],
      "text/plain": [
       "assumptions: ((A_1 or  ...  or A_m) in BOOLEANS , A_(m + 1) in BOOLEANS)"
      ]
     },
     "execution_count": 5,
     "metadata": {},
     "output_type": "execute_result"
    }
   ],
   "source": [
    "assumptions = [InSet(Or(iterA1m), Booleans), InSet(Indexed(AA,Add(m, num(1))), Booleans)]"
   ]
  },
  {
   "cell_type": "code",
   "execution_count": 6,
   "metadata": {},
   "outputs": [
    {
     "data": {
      "text/html": [
       "<strong id=\"step2\">step2:</strong> <span style=\"font-size:20px;\"><a class=\"ProveItLink\" href=\"../__pv_it/8fb795685b5d7745a1adf7d782399c3cccb26f8b0/expr.ipynb\"><img src=\"data:image/png;base64,iVBORw0KGgoAAAANSUhEUgAAATUAAAAVBAMAAADV6mS1AAAAMFBMVEX////c3NxERESqqqpUVFS6\n",
       "urrMzMwyMjIQEBCIiIh2dnYiIiLu7u5mZmaYmJgAAABXZE4RAAAAAXRSTlMAQObYZgAABAFJREFU\n",
       "SMfNl0toE0EYx7+ku5um2cYgghehK4KCzyAevChB0SKIRi++Di4iKCha8VDx1eKjVDw0VFSqBxUF\n",
       "H6AG8R2x0YtWixYURQ9aREFFsbZai1bH+eaxM5tsa4seHMhkM4///Ob75vtmAwDxF/DfFetMAr/s\n",
       "61ibGd7WNUiR9Un1/OaPKw5c3dqJdbQD65W8KfZ9kGzNR9VzuevvK6sZ823vKK1hAOonO2s2XcD9\n",
       "PmUKtVhv5V3nv3ijTFa7RbPTbFtyeZLSuqoKhobNzJ17Grym3mdxlthbz9DvUx5bVLiU/PAGGa5q\n",
       "18tsrJqkS0lW63pfzBZNK2BdvR822B/xsZXmWUfkPFFKDnohXzR5BVY3xI/NpEPrusu/7IO5XJVg\n",
       "K2mf63Xr6oWlZUvuimSbbuR1tkV8xOFSomA20M+0YpUIjaCSNv4czTb06nbigbHqg2a3BY7X7VMv\n",
       "OPrb85rdhvrs9py1h7ojJO2Nnyb4CgpyRRL8ucKt+aoffoYcGq/5dM0rD8ev7i9D88qn1s3xkq0c\n",
       "zb+da7WVk3bhTeZPywnQuSH8SssEePlLx+aeTCi2HNmjrMrVCwzGVxipztuy5h485J/wx2rcy27W\n",
       "/haipA2sx/x80zgwgvZJ42AWf4rXwpGfWo/JQv62Lxb2edvj6tpOEI2vZTt6LDRNxqNDh66swxbm\n",
       "GbsLTEJHlYjYy8KdIPvHwBax9zAJyzt1I7DAWJzLqVgAZ6nolOqKnAGytcy9dIoXC2ET884YauPF\n",
       "rmQzeuobMCdItkdwLoitPFkmXDO/vt6XFiw9jUu2sMxJQj2IzUrpdgsD3UIM+QzcIrshpq5tvYU5\n",
       "QbINh2wQW6gqJpxS19paQdPCx/2HUk2jPZ/eD2YT6vFnS05EG10/m50tYmPnrQzbJ+IABGz+rNiM\n",
       "dTzzYgzZICuafd+JdEZTRowk7De/4CK8xvPHPGm0+9iWirlC/cHy9lgqnvKzwTwfG/pU5ZCz9DMM\n",
       "D8OkLsVmjWORbaPbHmZlRaOUZ97QDFyAJEMtVdDNFHgOsS9pbPFnDp8m1UcchCEuG6iz3U9rbB8b\n",
       "ffltGcAQQjPjfEK6PTbYxg/xDrSRIyseQrQQ0gsGIcQ1MlYtbMQOvsLwJ95d33l1Jp32WVefA6sh\n",
       "koTK6k3V1Rm5Vmib693143Yl/XdWQg9uyba2jyRekN1L3agT6kh7dxZM2ZLzXfsL9B910AgVZoHd\n",
       "oKRSxKksii1+NIhtgKUCjEzcoQqn+xigZ9xQB7Xcq7JCtqJySiRQ9Y7EZp/8mRkU20KIudbYhJf2\n",
       "+mUzHbgMK44Jtr7XYu9v9jWsh/2DF2kjEdweDW4O9/vey2+q+HHcQObv2Q4Mcit/+r/wGySQQoFv\n",
       "kGfQAAAAAElFTkSuQmCC\n",
       "\" style=\"display:inline;vertical-align:middle;\" /></a> <a class=\"ProveItLink\" href=\"../__pv_it/da59ffc6347d0405079fba841129c1d3dea65e3b0/proof.ipynb\" style=\"text-decoration: none\">&#x22A2;&nbsp;</a><a class=\"ProveItLink\" href=\"../__pv_it/4dd30ab0cd66dacca57b0ed3db8140ef15ea1cee0/expr.ipynb\"><img src=\"data:image/png;base64,iVBORw0KGgoAAAANSUhEUgAAARYAAAAVBAMAAABxgNxmAAAAMFBMVEX////c3NwiIiJERESqqqqY\n",
       "mJh2dnZmZmYQEBDu7u4yMjJUVFTMzMyIiIi6uroAAAAs73DqAAAAAXRSTlMAQObYZgAAA3xJREFU\n",
       "SMfNVk1oE0EUfpsmbTebTQOCoD0k5OQfuEpVEMHgpeKp0IOiKPEggh6ag/SixVI9FKk2CootlEax\n",
       "Fgva+HdQql0MosWDwYoHoRoVihSktT/WanGc2Zndmd1MLKEXH7zJ5M33dr99f7sA/5OE81SxhGbL\n",
       "9BUdAgUJ4HVC5iaFEnnFFIvvR5lcXA6nJICNSamfB1o5uP1XWx3e3GKKpek3j5a1msVRdNkFB4Cg\n",
       "tVqPHLJvgrJSLkHP/4pwvvtKEnScHp2lCE07pxq5HbOL4rKLDjjyVgyGyDJmpwjFpFwCySIueiED\n",
       "1WmwlLBtQrwSDJKCdHGFiHbRAUBtJWuOLGuZ6SaaknKhUICe6/F1jIu/4RFM4O0EPXlTjfjNr2Gt\n",
       "l1xGtLscAOosfhEAf4oa9FjngrzQ6uiD9aV5XD4Z0Iy3zZZBWQwiXuD17L5eEexuB4CjZCE8CB8i\n",
       "UXPwj5yLBYUVaZ6jZ41p6MPbPmpIVaEGlgUrD2znaR1uZw6O7AGWnxwzbIPTc0UXyHHoJl4vcXQe\n",
       "4AJQBdgHOkpB6CQtN1yfmmwMCHbqwOUrsLp9yiq0FT7Oi75k2Ly450BVQ6zdtwaQIFqBVGchjPCp\n",
       "n5V+DLql4XXstgMfbDRwoGbo/94ETM6IrhZ4lwMNt8XjTu2CMc65aD/bO0kL2lxOwBEpF8duO3i4\n",
       "VCUqWeKG29tdTe/lEsoKcQGjAs7iLVHYPdJ1kbSgzWU1yGeDY2cOgZZvx/VR08mRkvHRc39HV1cU\n",
       "N/3eD++yYzvcXGiOYh4uW/CWqEoIbfzOuWjP6URTyZK2N4KdOVyebPBlA+QR91PA0EH6exWXhw9F\n",
       "1ENzsB4OuLlQ6EMXl3Gru4jWEuDOWc4ltJl2XC/+r06zjWC3HVa9hxqzMuU0KuTopFPuk5ughNKT\n",
       "gUV6xrlQ6KUC5xJoMeAz3mKtQXhsDSO06HCBfvZ4+ArqGbbhdu7wBF5CkLTIHTaNaW8htAAaQsjU\n",
       "8qFWuAHawMC5gduMC4Uq/ab9bpxZ8wDP/whVRxwuIyVezl57B4xCNMwHe8jz5qg2dUOZKohxsaH+\n",
       "x7SPhNeU61Xlj5X33aBM4cg0VuKny8sBUdDyASMpcikFFb4ZrEsfm8+X9y1mwAbIHYYS4wjgC/jM\n",
       "0NYI47JysKU0tJbpsuXukghjKaiSp7pc0c0lIdl/Q/8CcTUcn8tddBIAAAAASUVORK5CYII=\n",
       "\" style=\"display:inline;vertical-align:middle;\" /></a></span><br>"
      ],
      "text/plain": [
       "step2: {(A_1 or  ...  or A_m) in BOOLEANS , A_(m + 1) in BOOLEANS} |- ((A_1 or  ...  or A_m) or A_(m + 1)) in BOOLEANS"
      ]
     },
     "execution_count": 6,
     "metadata": {},
     "output_type": "execute_result"
    }
   ],
   "source": [
    "step2 = binaryClosure.specialize({A:Or(iterA1m), B:Indexed(AA, Add(m, num(1)))}, assumptions=assumptions)"
   ]
  },
  {
   "cell_type": "code",
   "execution_count": 7,
   "metadata": {},
   "outputs": [],
   "source": [
    "#step1.subLeftSideInto(step2)"
   ]
  },
  {
   "cell_type": "code",
   "execution_count": 8,
   "metadata": {},
   "outputs": [],
   "source": [
    "#emptyInBool = inBool(emptyDisjunction.operands[0]).prove()"
   ]
  },
  {
   "cell_type": "code",
   "execution_count": 9,
   "metadata": {},
   "outputs": [],
   "source": [
    "#sub_Op = Forall([AA], InSet(Or(iterA1m), Booleans), conditions = [InSet(AA, Exp(Booleans, m))])"
   ]
  },
  {
   "cell_type": "code",
   "execution_count": 10,
   "metadata": {},
   "outputs": [],
   "source": [
    "#induction.specialize({Operation(P, m):sub_Op})"
   ]
  },
  {
   "cell_type": "code",
   "execution_count": null,
   "metadata": {},
   "outputs": [],
   "source": []
  }
 ],
 "metadata": {
  "kernelspec": {
   "display_name": "Python 3",
   "language": "python",
   "name": "python3"
  }
 },
 "nbformat": 4,
 "nbformat_minor": 0
}
