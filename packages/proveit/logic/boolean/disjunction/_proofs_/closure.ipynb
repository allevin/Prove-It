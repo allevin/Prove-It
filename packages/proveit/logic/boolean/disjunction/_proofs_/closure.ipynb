{
 "cells": [
  {
   "cell_type": "markdown",
   "metadata": {
    "collapsed": true
   },
   "source": [
    "Proof of <a class=\"ProveItLink\" href=\"../../../../_context_.ipynb\">proveit</a>.<a class=\"ProveItLink\" href=\"../../../_context_.ipynb\">logic</a>.<a class=\"ProveItLink\" href=\"../../_context_.ipynb\">boolean</a>.<a class=\"ProveItLink\" href=\"../_context_.ipynb\">disjunction</a>.<a href=\"../_theorems_.ipynb#closure\" class=\"ProveItLink\">closure</a> theorem\n",
    "========"
   ]
  },
  {
   "cell_type": "code",
   "execution_count": 1,
   "metadata": {},
   "outputs": [],
   "source": [
    "import proveit\n",
    "from proveit import defaults\n",
    "from proveit import KnownTruth\n",
    "from proveit.logic.set_theory._common_ import EmptySet\n",
    "from proveit.logic.set_theory.cardinality._axioms_ import emptyCard\n",
    "from proveit import Operation, Indexed, varIter\n",
    "from proveit.logic import Forall, InSet, Or, Booleans, inBool, And\n",
    "from proveit._common_ import A, B, Q, x, i, xx, l, m, n, AA, BB, P,S\n",
    "from proveit.logic._common_ import iterA1m\n",
    "from proveit.number import num, Exp, Add, one, Naturals, Less, zero, Greater\n",
    "from proveit.number.sets.integer._theorems_ import induction\n",
    "from proveit.number.sets.integer._axioms_ import emptyNatDef\n",
    "from proveit.logic.set_theory.membership._theorems_ import mem_exp_set_item_set, exp_set_0\n",
    "from proveit.logic.boolean.disjunction._axioms_ import multiDisjunctionDef, emptyDisjunction\n",
    "from proveit.logic.boolean.disjunction._theorems_ import binaryClosure\n",
    "context = proveit.Context('..') # the theorem's context is in the parent directory"
   ]
  },
  {
   "cell_type": "code",
   "execution_count": 2,
   "metadata": {},
   "outputs": [
    {
     "name": "stdout",
     "output_type": "stream",
     "text": [
      "Beginning proof of closure\n",
      "Recorded 'presuming' information\n",
      "Presuming theorems in proveit.logic, proveit.number (except any that presume this theorem).\n",
      "Presuming previous theorems (applied transitively).\n"
     ]
    },
    {
     "data": {
      "text/html": [
       "<strong id=\"closure\">closure:</strong> <a class=\"ProveItLink\" href=\"../__pv_it/2cb505713778067a1b94f558521c476c9ef7d74f0/expr.ipynb\"><img src=\"../__pv_it/2cb505713778067a1b94f558521c476c9ef7d74f0/expr.png\" style=\"display:inline;vertical-align:middle;\" /></a><br>(see <a class=\"ProveItLink\" href=\"../__pv_it/2cb505713778067a1b94f558521c476c9ef7d74f0/dependencies.ipynb\">dependencies</a>)<br>"
      ],
      "text/plain": [
       "closure: forall_{m in Naturals} [forall_{A in BOOLEANS^{m}} ((A_1 or  ...  or A_m) in BOOLEANS)]"
      ]
     },
     "execution_count": 2,
     "metadata": {},
     "output_type": "execute_result"
    }
   ],
   "source": [
    "%proving closure presuming [proveit.number, proveit.logic]"
   ]
  },
  {
   "cell_type": "code",
   "execution_count": 3,
   "metadata": {},
   "outputs": [
    {
     "data": {
      "text/html": [
       "<span style=\"font-size:20px;\"><a class=\"ProveItLink\" href=\"../__pv_it/42b81d6964547b3adfcfd8a76d157d86f07823d70/expr.ipynb\"><img src=\"../__pv_it/42b81d6964547b3adfcfd8a76d157d86f07823d70/expr.png\" style=\"display:inline;vertical-align:middle;\" /></a> &#x22A2;&nbsp;<a class=\"ProveItLink\" href=\"../__pv_it/281449689db10b8776005cee0cedc9c37021c7f10/expr.ipynb\"><img src=\"../__pv_it/281449689db10b8776005cee0cedc9c37021c7f10/expr.png\" style=\"display:inline;vertical-align:middle;\" /></a></span>"
      ],
      "text/plain": [
       "{A in BOOLEANS^{m} , forall_{A in BOOLEANS^{m}} ((A_1 or  ...  or A_m) in BOOLEANS)} |= (A_1 or  ...  or A_m) in BOOLEANS"
      ]
     },
     "execution_count": 3,
     "metadata": {},
     "output_type": "execute_result"
    }
   ],
   "source": [
    "closure.instanceExpr.prove([closure.instanceExpr]).specialize(assumptions = closure.instanceExpr.conditions)"
   ]
  },
  {
   "cell_type": "code",
   "execution_count": 4,
   "metadata": {},
   "outputs": [
    {
     "data": {
      "text/html": [
       "<span style=\"font-size:20px;\"> &#x22A2;&nbsp;<a class=\"ProveItLink\" href=\"../__pv_it/3dc8194137d4ae8cf6636e21fc5465d72eb01b890/expr.ipynb\"><img src=\"../__pv_it/3dc8194137d4ae8cf6636e21fc5465d72eb01b890/expr.png\" style=\"display:inline;vertical-align:middle;\" /></a></span>"
      ],
      "text/plain": [
       "|= forall_{m in Naturals} [forall_{B, A} ((A_1 or  ...  or A_m or B) = ((A_1 or  ...  or A_m) or B))]"
      ]
     },
     "execution_count": 4,
     "metadata": {},
     "output_type": "execute_result"
    }
   ],
   "source": [
    "multiDisjunctionDef"
   ]
  },
  {
   "cell_type": "code",
   "execution_count": 5,
   "metadata": {},
   "outputs": [
    {
     "data": {
      "text/html": [
       "<strong id=\"step1\">step1:</strong> <span style=\"font-size:20px;\"><a class=\"ProveItLink\" href=\"../__pv_it/d7fa17de759a2f1be899d7b171ce7193ca5d80370/expr.ipynb\"><img src=\"../__pv_it/d7fa17de759a2f1be899d7b171ce7193ca5d80370/expr.png\" style=\"display:inline;vertical-align:middle;\" /></a> &#x22A2;&nbsp;<a class=\"ProveItLink\" href=\"../__pv_it/7efeb09eca66b6cd809bafa2c358efc3504518bb0/expr.ipynb\"><img src=\"../__pv_it/7efeb09eca66b6cd809bafa2c358efc3504518bb0/expr.png\" style=\"display:inline;vertical-align:middle;\" /></a></span><br>"
      ],
      "text/plain": [
       "step1: {m in Naturals} |= (A_1 or  ...  or A_(m + 1)) = ((A_1 or  ...  or A_m) or A_(m + 1))"
      ]
     },
     "execution_count": 5,
     "metadata": {},
     "output_type": "execute_result"
    }
   ],
   "source": [
    "step1 = multiDisjunctionDef.specialize({m:m, AA:AA, B:Indexed(AA, Add(m, num(1)))},\n",
    "                                       assumptions = multiDisjunctionDef.conditions + closure.conditions)"
   ]
  },
  {
   "cell_type": "code",
   "execution_count": 6,
   "metadata": {},
   "outputs": [
    {
     "data": {
      "text/html": [
       "<span style=\"font-size:20px;\"> &#x22A2;&nbsp;<a class=\"ProveItLink\" href=\"../__pv_it/39441255e3cd9fbcda2663152b054e4ca715853b0/expr.ipynb\"><img src=\"../__pv_it/39441255e3cd9fbcda2663152b054e4ca715853b0/expr.png\" style=\"display:inline;vertical-align:middle;\" /></a></span>"
      ],
      "text/plain": [
       "|= forall_{A, B in BOOLEANS} ((A or B) in BOOLEANS)"
      ]
     },
     "execution_count": 6,
     "metadata": {},
     "output_type": "execute_result"
    }
   ],
   "source": [
    "binaryClosure"
   ]
  },
  {
   "cell_type": "code",
   "execution_count": 7,
   "metadata": {},
   "outputs": [
    {
     "data": {
      "text/html": [
       "<strong id=\"assumptions\">assumptions:</strong> <a class=\"ProveItLink\" href=\"../__pv_it/84ed11804d271e6beac2f9ea7333c6208acdd3310/expr.ipynb\"><img src=\"../__pv_it/84ed11804d271e6beac2f9ea7333c6208acdd3310/expr.png\" style=\"display:inline;vertical-align:middle;\" /></a><br>"
      ],
      "text/plain": [
       "assumptions: ((A_1 or  ...  or A_m) in BOOLEANS , A_(m + 1) in BOOLEANS)"
      ]
     },
     "execution_count": 7,
     "metadata": {},
     "output_type": "execute_result"
    }
   ],
   "source": [
    "assumptions = [InSet(Or(iterA1m), Booleans), InSet(Indexed(AA,Add(m, num(1))), Booleans)]"
   ]
  },
  {
   "cell_type": "code",
   "execution_count": 8,
   "metadata": {},
   "outputs": [
    {
     "data": {
      "text/html": [
       "<strong id=\"step2\">step2:</strong> <span style=\"font-size:20px;\"><a class=\"ProveItLink\" href=\"../__pv_it/065abdf90ca7c5ba7c6a4765dc659599010d10c00/expr.ipynb\"><img src=\"../__pv_it/065abdf90ca7c5ba7c6a4765dc659599010d10c00/expr.png\" style=\"display:inline;vertical-align:middle;\" /></a> &#x22A2;&nbsp;<a class=\"ProveItLink\" href=\"../__pv_it/5e174a1d7c5b80f3febb71d2ff3c70663b09b1980/expr.ipynb\"><img src=\"../__pv_it/5e174a1d7c5b80f3febb71d2ff3c70663b09b1980/expr.png\" style=\"display:inline;vertical-align:middle;\" /></a></span><br>"
      ],
      "text/plain": [
       "step2: {(A_1 or  ...  or A_m) in BOOLEANS , A_(m + 1) in BOOLEANS} |= ((A_1 or  ...  or A_m) or A_(m + 1)) in BOOLEANS"
      ]
     },
     "execution_count": 8,
     "metadata": {},
     "output_type": "execute_result"
    }
   ],
   "source": [
    "step2 = binaryClosure.specialize({A:Or(iterA1m), B:Indexed(AA, Add(m, num(1)))}, assumptions=assumptions)"
   ]
  },
  {
   "cell_type": "code",
   "execution_count": 9,
   "metadata": {},
   "outputs": [
    {
     "data": {
      "text/html": [
       "<strong id=\"step1SubLeft\">step1SubLeft:</strong> <span style=\"font-size:20px;\"><a class=\"ProveItLink\" href=\"../__pv_it/0678b9fecbad6cc86ae8461e4b34cc1738731fbe0/expr.ipynb\"><img src=\"../__pv_it/0678b9fecbad6cc86ae8461e4b34cc1738731fbe0/expr.png\" style=\"display:inline;vertical-align:middle;\" /></a> &#x22A2;&nbsp;<a class=\"ProveItLink\" href=\"../__pv_it/dd0c6176d91579a606a2ee3a0a338218d30d44c10/expr.ipynb\"><img src=\"../__pv_it/dd0c6176d91579a606a2ee3a0a338218d30d44c10/expr.png\" style=\"display:inline;vertical-align:middle;\" /></a></span><br>"
      ],
      "text/plain": [
       "step1SubLeft: {(A_1 or  ...  or A_m) in BOOLEANS , A_(m + 1) in BOOLEANS , m in Naturals} |= (A_1 or  ...  or A_(m + 1)) in BOOLEANS"
      ]
     },
     "execution_count": 9,
     "metadata": {},
     "output_type": "execute_result"
    }
   ],
   "source": [
    "step1SubLeft = step1.subLeftSideInto(step2, assumptions = assumptions)"
   ]
  },
  {
   "cell_type": "code",
   "execution_count": 10,
   "metadata": {},
   "outputs": [
    {
     "data": {
      "text/html": [
       "<strong id=\"genStep1\">genStep1:</strong> <span style=\"font-size:20px;\"> &#x22A2;&nbsp;<a class=\"ProveItLink\" href=\"../__pv_it/0cfe2d2ee1875f48797a700fd50b1d70c86e09da0/expr.ipynb\"><img src=\"../__pv_it/0cfe2d2ee1875f48797a700fd50b1d70c86e09da0/expr.png\" style=\"display:inline;vertical-align:middle;\" /></a></span><br>"
      ],
      "text/plain": [
       "genStep1: |= forall_{A | (A_1 or  ...  or A_m) in BOOLEANS , A_(m + 1) in BOOLEANS , m in Naturals} ((A_1 or  ...  or A_(m + 1)) in BOOLEANS)"
      ]
     },
     "execution_count": 10,
     "metadata": {},
     "output_type": "execute_result"
    }
   ],
   "source": [
    "genStep1 = step1SubLeft.generalize((AA) , conditions = step1SubLeft.assumptions)"
   ]
  },
  {
   "cell_type": "code",
   "execution_count": 11,
   "metadata": {},
   "outputs": [
    {
     "data": {
      "text/html": [
       "<span style=\"font-size:20px;\"> &#x22A2;&nbsp;<a class=\"ProveItLink\" href=\"../__pv_it/ae858482f5d3b5f54eb01be364a598bf6fe8f3990/expr.ipynb\"><img src=\"../__pv_it/ae858482f5d3b5f54eb01be364a598bf6fe8f3990/expr.png\" style=\"display:inline;vertical-align:middle;\" /></a></span>"
      ],
      "text/plain": [
       "|= [forall_{A | (A_1 or  ...  or A_m) in BOOLEANS , A_(m + 1) in BOOLEANS , m in Naturals} ((A_1 or  ...  or A_(m + 1)) in BOOLEANS)] = TRUE"
      ]
     },
     "execution_count": 11,
     "metadata": {},
     "output_type": "execute_result"
    }
   ],
   "source": [
    "genStep1.evaluation()"
   ]
  },
  {
   "cell_type": "code",
   "execution_count": 12,
   "metadata": {},
   "outputs": [
    {
     "data": {
      "text/html": [
       "<strong id=\"emptyInBool\">emptyInBool:</strong> <span style=\"font-size:20px;\"> &#x22A2;&nbsp;<a class=\"ProveItLink\" href=\"../__pv_it/6c3f516447d9c5b30029442cfda6837c8bd5b2000/expr.ipynb\"><img src=\"../__pv_it/6c3f516447d9c5b30029442cfda6837c8bd5b2000/expr.png\" style=\"display:inline;vertical-align:middle;\" /></a></span><br>"
      ],
      "text/plain": [
       "emptyInBool: |= [or]() in BOOLEANS"
      ]
     },
     "execution_count": 12,
     "metadata": {},
     "output_type": "execute_result"
    }
   ],
   "source": [
    "emptyInBool = inBool(emptyDisjunction.operands[0]).prove()"
   ]
  },
  {
   "cell_type": "code",
   "execution_count": 13,
   "metadata": {},
   "outputs": [
    {
     "data": {
      "text/html": [
       "<strong id=\"specMem0\">specMem0:</strong> <span style=\"font-size:20px;\"> &#x22A2;&nbsp;<a class=\"ProveItLink\" href=\"../__pv_it/b218ef068dbb2da43bd59a30ac5e2159fa153ba90/expr.ipynb\"><img src=\"../__pv_it/b218ef068dbb2da43bd59a30ac5e2159fa153ba90/expr.png\" style=\"display:inline;vertical-align:middle;\" /></a></span><br>"
      ],
      "text/plain": [
       "specMem0: |= forall_{S} (emptyset in S^{0})"
      ]
     },
     "execution_count": 13,
     "metadata": {},
     "output_type": "execute_result"
    }
   ],
   "source": [
    "specMem0 = exp_set_0.specialize({x:EmptySet}, assumptions = (emptyCard.expr,))"
   ]
  },
  {
   "cell_type": "code",
   "execution_count": 14,
   "metadata": {
    "scrolled": true
   },
   "outputs": [
    {
     "data": {
      "text/html": [
       "<span style=\"font-size:20px;\"> &#x22A2;&nbsp;<a class=\"ProveItLink\" href=\"../../../set_theory/membership/__pv_it/beea5bd3bee4573804d36eea7ea7461097e656020/expr.ipynb\"><img src=\"../../../set_theory/membership/__pv_it/beea5bd3bee4573804d36eea7ea7461097e656020/expr.png\" style=\"display:inline;vertical-align:middle;\" /></a></span>"
      ],
      "text/plain": [
       "|= forall_{m in Naturals} [forall_{S} [forall_{x in S^{m}} [forall_{i in {1...m}} (x_i in S)]]]"
      ]
     },
     "execution_count": 14,
     "metadata": {},
     "output_type": "execute_result"
    }
   ],
   "source": [
    "mem_exp_set_item_set"
   ]
  },
  {
   "cell_type": "code",
   "execution_count": 15,
   "metadata": {},
   "outputs": [
    {
     "data": {
      "text/html": [
       "<strong id=\"specMemItem\">specMemItem:</strong> <span style=\"font-size:20px;\"><a class=\"ProveItLink\" href=\"../__pv_it/635c587490ef7f9f1b1bf7dd9218441fcc84a52b0/expr.ipynb\"><img src=\"../__pv_it/635c587490ef7f9f1b1bf7dd9218441fcc84a52b0/expr.png\" style=\"display:inline;vertical-align:middle;\" /></a> &#x22A2;&nbsp;<a class=\"ProveItLink\" href=\"../__pv_it/33f7c8dd0b58077aae33448f5f0568510addce410/expr.ipynb\"><img src=\"../__pv_it/33f7c8dd0b58077aae33448f5f0568510addce410/expr.png\" style=\"display:inline;vertical-align:middle;\" /></a></span><br>"
      ],
      "text/plain": [
       "specMemItem: {m in Naturals , A in S^{m}} |= forall_{i in {1...m}} (A_i in S)"
      ]
     },
     "execution_count": 15,
     "metadata": {},
     "output_type": "execute_result"
    }
   ],
   "source": [
    "specMemItem = mem_exp_set_item_set.specialize({m:m, x:A}, \n",
    "                                              assumptions = (InSet(m, Naturals),(InSet(A, Exp(S,m)))))"
   ]
  },
  {
   "cell_type": "code",
   "execution_count": 16,
   "metadata": {},
   "outputs": [
    {
     "data": {
      "text/html": [
       "<strong id=\"specEmptyNatDef\">specEmptyNatDef:</strong> <span style=\"font-size:20px;\"><a class=\"ProveItLink\" href=\"../__pv_it/cb4f4d7dc3dda424f77d3274dd80e92f512062f20/expr.ipynb\"><img src=\"../__pv_it/cb4f4d7dc3dda424f77d3274dd80e92f512062f20/expr.png\" style=\"display:inline;vertical-align:middle;\" /></a> &#x22A2;&nbsp;<a class=\"ProveItLink\" href=\"../__pv_it/8eecfcba005efd7f17200a770f650b2a89d913da0/expr.ipynb\"><img src=\"../__pv_it/8eecfcba005efd7f17200a770f650b2a89d913da0/expr.png\" style=\"display:inline;vertical-align:middle;\" /></a></span><br>"
      ],
      "text/plain": [
       "specEmptyNatDef: {m in Naturals , m < 1} |= (A_1 or  ...  or A_m) = ()"
      ]
     },
     "execution_count": 16,
     "metadata": {},
     "output_type": "execute_result"
    }
   ],
   "source": [
    "specEmptyNatDef = emptyNatDef.specialize({n:m, m:num(1), AA:Or(iterA1m)},\n",
    "                                         assumptions = closure.conditions + (InSet(n, Naturals), Less(m, num(1))))"
   ]
  },
  {
   "cell_type": "code",
   "execution_count": 17,
   "metadata": {},
   "outputs": [
    {
     "data": {
      "text/html": [
       "<span style=\"font-size:20px;\"><a class=\"ProveItLink\" href=\"../__pv_it/cb4f4d7dc3dda424f77d3274dd80e92f512062f20/expr.ipynb\"><img src=\"../__pv_it/cb4f4d7dc3dda424f77d3274dd80e92f512062f20/expr.png\" style=\"display:inline;vertical-align:middle;\" /></a> &#x22A2;&nbsp;<a class=\"ProveItLink\" href=\"../__pv_it/f6386a00380aa08355c3c24a0df65bb4676b799d0/expr.ipynb\"><img src=\"../__pv_it/f6386a00380aa08355c3c24a0df65bb4676b799d0/expr.png\" style=\"display:inline;vertical-align:middle;\" /></a></span>"
      ],
      "text/plain": [
       "{m in Naturals , m < 1} |= ((A_1 or  ...  or A_m) = ()) = TRUE"
      ]
     },
     "execution_count": 17,
     "metadata": {},
     "output_type": "execute_result"
    }
   ],
   "source": [
    "specEmptyNatDef.evaluation()"
   ]
  },
  {
   "cell_type": "code",
   "execution_count": 18,
   "metadata": {},
   "outputs": [
    {
     "data": {
      "text/html": [
       "<span style=\"font-size:20px;\"> &#x22A2;&nbsp;<a class=\"ProveItLink\" href=\"../../../../number/sets/integer/__pv_it/63f54bb13fad81db8dc1626e3cde463523867e4d0/expr.ipynb\"><img src=\"../../../../number/sets/integer/__pv_it/63f54bb13fad81db8dc1626e3cde463523867e4d0/expr.png\" style=\"display:inline;vertical-align:middle;\" /></a></span>"
      ],
      "text/plain": [
       "|= forall_{P} ((P(0) and [forall_{m in Naturals | P(m)} P(m + 1)]) => [forall_{n in Naturals} P(n)])"
      ]
     },
     "execution_count": 18,
     "metadata": {},
     "output_type": "execute_result"
    }
   ],
   "source": [
    "induction"
   ]
  },
  {
   "cell_type": "code",
   "execution_count": 19,
   "metadata": {},
   "outputs": [
    {
     "data": {
      "text/html": [
       "<strong id=\"spec_ind_closure\">spec_ind_closure:</strong> <span style=\"font-size:20px;\"> &#x22A2;&nbsp;<a class=\"ProveItLink\" href=\"../__pv_it/0696d6d5ba4689eefdccbdf1952d06b7b155f2b00/expr.ipynb\"><img src=\"../__pv_it/0696d6d5ba4689eefdccbdf1952d06b7b155f2b00/expr.png\" style=\"display:inline;vertical-align:middle;\" /></a></span><br>"
      ],
      "text/plain": [
       "spec_ind_closure: |= ([forall_{A in BOOLEANS^{0}} ([or]() in BOOLEANS)] and [forall_{n in Naturals | forall_{A in BOOLEANS^{n}} ((A_1 or  ...  or A_n) in BOOLEANS)} [forall_{A in BOOLEANS^{n + 1}} ((A_1 or  ...  or A_(n + 1)) in BOOLEANS)]]) => [forall_{m in Naturals} [forall_{A in BOOLEANS^{m}} ((A_1 or  ...  or A_m) in BOOLEANS)]]"
      ]
     },
     "execution_count": 19,
     "metadata": {},
     "output_type": "execute_result"
    }
   ],
   "source": [
    "spec_ind_closure = induction.specialize({Operation(P, m):closure.instanceExpr},relabelMap = {m:n, n:m})"
   ]
  },
  {
   "cell_type": "code",
   "execution_count": 20,
   "metadata": {
    "scrolled": true
   },
   "outputs": [
    {
     "data": {
      "text/html": [
       "<strong id=\"sla\">sla:</strong> <span style=\"font-size:20px;\"> &#x22A2;&nbsp;<a class=\"ProveItLink\" href=\"../__pv_it/7590053b005e76a93276e6e8b37350a8255809ba0/expr.ipynb\"><img src=\"../__pv_it/7590053b005e76a93276e6e8b37350a8255809ba0/expr.png\" style=\"display:inline;vertical-align:middle;\" /></a></span><br>"
      ],
      "text/plain": [
       "sla: |= forall_{A in BOOLEANS^{0}} ([or]() in BOOLEANS)"
      ]
     },
     "execution_count": 20,
     "metadata": {},
     "output_type": "execute_result"
    }
   ],
   "source": [
    "sla = spec_ind_closure.antecedent.operands[0].prove()"
   ]
  },
  {
   "cell_type": "code",
   "execution_count": 21,
   "metadata": {},
   "outputs": [],
   "source": [
    "# sla = spec_ind_closure.antecedent.operands[1].prove(assumptions = [specMemItem.expr])"
   ]
  },
  {
   "cell_type": "code",
   "execution_count": null,
   "metadata": {},
   "outputs": [],
   "source": []
  }
 ],
 "metadata": {
  "kernelspec": {
   "display_name": "Python 3",
   "language": "python",
   "name": "python3"
  },
  "language_info": {
   "codemirror_mode": {
    "name": "ipython",
    "version": 3
   },
   "file_extension": ".py",
   "mimetype": "text/x-python",
   "name": "python",
   "nbconvert_exporter": "python",
   "pygments_lexer": "ipython3",
   "version": "3.7.1"
  }
 },
 "nbformat": 4,
 "nbformat_minor": 1
}
