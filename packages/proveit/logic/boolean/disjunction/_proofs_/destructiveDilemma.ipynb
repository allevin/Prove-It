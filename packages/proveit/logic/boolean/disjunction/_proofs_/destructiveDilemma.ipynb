{
 "cells": [
  {
   "cell_type": "markdown",
   "metadata": {},
   "source": [
    "Proof of <a class=\"ProveItLink\" href=\"../../../../_context_.ipynb\">proveit</a>.<a class=\"ProveItLink\" href=\"../../../_context_.ipynb\">logic</a>.<a class=\"ProveItLink\" href=\"../../_context_.ipynb\">boolean</a>.<a class=\"ProveItLink\" href=\"../_context_.ipynb\">disjunction</a>.<a href=\"../_theorems_.ipynb#destructiveDilemma\" class=\"ProveItLink\">destructiveDilemma</a> theorem\n",
    "========"
   ]
  },
  {
   "cell_type": "code",
   "execution_count": 1,
   "metadata": {},
   "outputs": [],
   "source": [
    "import proveit\n",
    "from proveit import defaults\n",
    "from proveit._common_ import A, B, C, D\n",
    "from proveit.logic import Implies, Not, Or\n",
    "from proveit.logic.boolean.disjunction._axioms_ import leftInBool, rightInBool\n",
    "leftInBool.proof().disable(); rightInBool.proof().disable() # disable these to avoid a longer proof\n",
    "context = proveit.Context('..') # the theorem's context is in the parent directory"
   ]
  },
  {
   "cell_type": "code",
   "execution_count": 2,
   "metadata": {},
   "outputs": [
    {
     "name": "stdout",
     "output_type": "stream",
     "text": [
      "Beginning proof of destructiveDilemma\n",
      "Recorded 'presuming' information\n"
     ]
    },
    {
     "name": "stdout",
     "output_type": "stream",
     "text": [
      "Presuming proveit.logic.boolean.implication.toContraposition, proveit.logic.boolean.negation.closure theorems (applied transitively).\n",
      "Presuming previous theorems (applied transitively).\n"
     ]
    },
    {
     "data": {
      "text/html": [
       "<strong id=\"destructiveDilemma\">destructiveDilemma:</strong> <a class=\"ProveItLink\" href=\"../__pv_it/bcfde435453fc672a03a7efa66cf9789530bb6480/expr.ipynb\"><img src=\"data:image/png;base64,iVBORw0KGgoAAAANSUhEUgAAAbcAAAAXBAMAAAB60hyCAAAAMFBMVEX///8QEBC6urrMzMxUVFRm\n",
       "ZmZERETc3NwyMjKqqqp2dnaIiIiYmJgiIiLu7u4AAAAU9Wx4AAAAAXRSTlMAQObYZgAABXtJREFU\n",
       "WMPdV11oXFUQns3d3bvZ3dwGX6qCuoqIUCVXECv+ZdGY+iIpmq1YrI2KG3+bBUMbLdq1UCJF2n2w\n",
       "Iih0EVorLXHVikgesipCGx+MDymoVTeioRBbS01bLSU6c2bOuefebfLQFxcHZvecuXNm5jt3zsy5\n",
       "AP9narRycG015hBlc1G1FVHBF8JTNPm6RcHdLBzQncgPRrScfAC8b76ndyskfFD8Psl2tCi4HU2x\n",
       "7UROqZeqpj79pKzsiw0ArM9BGYfIG/HPHWhNbJkas5WSPyOQbBVHcR/0w3FLoRsl3XmYxOEkw05U\n",
       "WhNcrMEc0IvrSwBeJ+UivZAO9fBKS2ECn39ThRkcImff27Tp5RbNyuuFA6pNUDV5moajyLtUgpYt\n",
       "hceQv21AEl8X8Zli8fuL9f6CPWk3I9cPaV10XqwVDqpnY3cd//aAACOAkKhaGvMAIxsA0quZ7wEY\n",
       "BL0VAG+eLvRybAcLY59SzEOF/ieibrkau8Ys6Tpm9pKGy0tv0/JR24SYtxxCdPq6sKFf1JmCt4BT\n",
       "UqUmpOpW4Zwf/+QoeS4zXwueeq/ZU3xkOyHTqYpuHZJq8DnATSV+tn37NrbEFShpCrTSfVdPTX3i\n",
       "pWlpTOLBXmI7BO3fWS7jS5gTPxJV1Z5uwdcBV0u1iSvDMfxdRxqYgJmzAMexM7R1MndARgX823ll\n",
       "MJGHtrOUAX8idhVlrxLCXOERqFXnrrHCf1tnC+segww5hXZT4HipJ4dCPNhLLIdCcRT2y/iUsG5m\n",
       "Tk9PH63pVpIpdEi0LBd0RdqvDLpxTjJn6lxzxqaVRkcNEtTYZ3CnHBXlD0Bbm3n8lRMILv27BW5Q\n",
       "rIpu3M/g8RqGZElHyksp8y0P7ZWQee2Q5TSFDxcBh70tVjbgHoYDTeCWoVb2XADOK6s7gFMrKo0/\n",
       "fDhEwX2A7BFqD/c4cxK+UsWquuJRC5zOJtHFREH5KohpbLJUGpH2oPbEmDcOZa9wChOy/jJhDQ7R\n",
       "d3TqtIQRvl1BrBKA68YkjP8dpCUM3q3SAdYpja7xgxvo/4hJIIwuPqV6PtQKV1hnztE1WHTb8vAR\n",
       "uHm4NbIUj7X2kCgivepb5tmhkUMX8v3y6DlhAeciihSahENs7w5O/2Q9AEdtbguGlRWGXWoDDst+\n",
       "7cMyQDt6TjtPo06syqWwVk3cHoBDMGmM6Smti2BnIV4iLHtRXpalIGgPmzdS8APzxiHLaQqXy6M9\n",
       "uuzzTYuOWHLByJzneRmVfBaoNudc2ghaAcRoA7zpwpDSfRIzoyIO5tTGYHS7G86RYvFZOnPpAFx7\n",
       "Xmqm6CK4dG4Y4A1dM3mpgDMeAG55KDBvHLIcnkG7CxLtjcJMG68ahezQXxjyVhZsk/yYMipr/unp\n",
       "eY1eZCrHDFlymShBt2ovmLBdNFhDFUCdV/T8HXh5fnM2uDbdEEQX594AxnedBsdLRaA8ZApI/ast\n",
       "8+zQyGnaoQ9RrMQcIU/O+l0yX97c/uX6JXQDoqi7o+AugDsNOJipQNqHEYyoASN1qhOclpsDcN6U\n",
       "gGNddaE9gJtwXIOTpXiFRTvKg3cCaT95VkuMQyN3cGr6NhnMVpsiT0e+8Cabwe0XVvTrGXD7jjrn\n",
       "Yd/pwn0VwIHXv3aMqk96Z6Ef3wbM5lQTL9pN/CdJddaFRI6LHbcW8PVSeADtsAfz+cVLjEMjx+m9\n",
       "pSU+eYiOReappg9u6qxeOfqR2zQIrjZ78cxB+A7yWcQJ3ciojUcvk2XbDriNCziMyIWGhcO0KjJ3\n",
       "81ENrGqKQ7QyOnBKF77SMrjZsFBfWLzI5yHeWBazs3Lpm7NbYw5/5flRtc1RwcfCIapHB1lYClx7\n",
       "PSQ0G/hOZB8Xt1NvxS8twfFl6JybtMqG93bsv4ryX3vCsR0RrLgcAAAAAElFTkSuQmCC\n",
       "\" style=\"display:inline;vertical-align:middle;\" /></a><br>(see <a class=\"ProveItLink\" href=\"../__pv_it/bcfde435453fc672a03a7efa66cf9789530bb6480/dependencies.ipynb\">dependencies</a>)<br>"
      ],
      "text/plain": [
       "destructiveDilemma: forall_{A, B, C, D in BOOLEANS | [not](C) or [not](D) , A => C , B => D} ([not](A) or [not](B))"
      ]
     },
     "execution_count": 2,
     "metadata": {},
     "output_type": "execute_result"
    }
   ],
   "source": [
    "%proving destructiveDilemma presuming [proveit.logic.boolean.implication.toContraposition, proveit.logic.boolean.negation.closure]"
   ]
  },
  {
   "cell_type": "markdown",
   "metadata": {},
   "source": [
    "Prove by applying the **constructiveDilemma** after taking contraposing $A \\Rightarrow C$ to $\\lnot C \\Rightarrow \\lnot A$ and $B \\Rightarrow D$ to $\\lnot D \\Rightarrow \\lnot B$."
   ]
  },
  {
   "cell_type": "code",
   "execution_count": 3,
   "metadata": {},
   "outputs": [
    {
     "data": {
      "text/html": [
       "<strong id=\"defaults.assumptions\">defaults.assumptions:</strong> <a class=\"ProveItLink\" href=\"../__pv_it/17204a6b892733e219bf39638506ac630b55b7910/expr.ipynb\"><img src=\"data:image/png;base64,iVBORw0KGgoAAAANSUhEUgAAAhkAAAAVBAMAAAAZaeHqAAAAMFBMVEX////c3NwiIiJERESqqqqY\n",
       "mJh2dnZmZmYQEBDu7u4yMjJUVFTMzMyIiIi6uroAAAAs73DqAAAAAXRSTlMAQObYZgAABdVJREFU\n",
       "WMPtWF1oXEUUns3+3t27m0CFQkRStlRaC2YViyYKCYgvrdAFoaKiyZOtQjFWbX2IpPYHrGKzRNAS\n",
       "/FlTYhMFs1KlNKkmpC+SPCRQQVBjtn1oS6UQTVttYhPPOfN77957Nw95yIMDe3dm7plvvnPmnDMz\n",
       "l7H/i1ky02uSRbTsFrleMeiFVaVAaJO8Pu58FRtqXjj0kGw9tzwy0uyk9/L80MDGVtmyLpx5I9Th\n",
       "D/ArAJwcC5hh0njzyaMH8utZp4usXVLV9OjiyPBjjMVNxHFPFTkWty+MOv21h4wgR2iDvGvIJRLO\n",
       "TPd+2C5bh2HqJadA7ro1+KJs7MmzzJv5AIAFxiI3AmYYNMx0lLErR1mSGrQENj6SBS1SW2RsJyxF\n",
       "0YAb8jKGwOIlkWOsq+whJcgBWpq7aLSxUME1XZaz2Xfgt+i2Bvs9Keq9W+DxSl0AwC14dBV8BdI6\n",
       "UKw+EIv9yaJkqHP4mFEPUabgXfw2Y7uMyDIVKLiwxCiYZEp5mKW9TpADtAQfeVcX18X6JZstCq6R\n",
       "/FnpmgAYvcVdry97n7TGEykx7QD+Xw0CWBJsfAQSWpXkMUwjB5l1EFvn8YG2ZscMa8yW+Qqd0F1S\n",
       "AYenSSwxCiTalLdqX5PkAO0a75me5S408YyxchdzsgGANUTH7i8YvrGOV+MUA+uDAObg0VDyFbim\n",
       "NenCZIQ5iHJKEjSIYELKmFHRgiLgq2GVuJQCVP5wY1F5BH6blQ0yykskOUDbz18VdlLUh5oMPx5/\n",
       "Sg6tLbHQSWqsK+hIsTcJ6QZi+nEQAGpNXuotsF8pElogB4KMthsraAm0CIu3G9aYZzxyYypxSwVE\n",
       "uph2YVGBAfVNWmgvc5EDtH7q+FS4cbhOc80uv6/i9PuZfXyyB3TeuNT4j4j2Lk3EDwAlyUu9BfoV\n",
       "QPymrG1nIkooWpKGshgkFLkR5TBSgXiWyt8uLBq1OPPzJqrtI5nGDhc5QDsuUncDvfvAkeN+yumI\n",
       "s7aSnXNmFp15nFcbdcj6AeD6jJZ9BY5LPdprZM4TeQiS5w+UWcpCi3sh0P+FjtSSkRKUAqJEaCfV\n",
       "WDL59ZSMju1lJzlAo33THhkZJV5XcT6Z41jushFxs7g4mUPwXmXRcIa777JO5D4AGOjsHX+BJXWo\n",
       "qJ2TCX+KemqYRdK1ZX0yoUBPgCXsOTlOKiBLL66yxpLJL216izVQdpADNOKRAfCi8xBEXMM64rif\n",
       "G0cgtAbjDLppOcYCADDQozf9BbQ1EqTBk8oa8dZY3m0NCvS2vGENpYDE+QLXRmOJ5Cc3Rl4mXnKS\n",
       "A7Qj2IbUW0NO1+PJ1UY9RjE/Wxu8rDGKU8dZAMAdcfjxEziirJG6jf8dKlJCxRq+B7dqa1CgHzY3\n",
       "T6WAyBsbyVE1FqUHMF/qhs4b2SYXOUDbhjMCWJLsmMo7uF7mboYRx/Mz+85hDYiUgkxD3NA+ABjo\n",
       "zQV/gW3KGsQthqLP8q5zz3PpvLYGBnoYzxTRIh+uFRBpo6T1BCxLHTcaDAfaIfOJJAdouI/14mxk\n",
       "R+t+g2v0rRz7bIOIuB/5iaanbFjj6QvM+gtJgcWviNObNwAwnegIENgtO8dYWyvLvMp03/ktfNOU\n",
       "S2xToNunRCcN1wrwUi/+BRbJYPKz39WnvFDROG4QOUC7BGeI7s9ZtGWBpqvvVHeq+c3fwmkP3CLe\n",
       "ApcksQeGTo2pW9uD77UyqxutMPnVAenIXgAfAcDpzgABZKFCfvjM61QRF6wkN0NGxaj1GtyyHiYa\n",
       "yTINNxVwnAMEFk2Bo740tmm51WtygJZw3i7Yjr6smY7YRdcNJzIs9hSZv1zjqwJ4CrhZoNIiJ9hi\n",
       "Od/2uG6d8MInD3MWLxnbCy3aHnzrz1f5KhCt9tkgvxIBDxYx1xePXR5D964Ef4UyHG1wLVjDg0Wv\n",
       "q50sVLpPcTWtQWh3B4qkq2FU+3JWFYALVLL4xtUOlSpEUnUrwGcrk+FoLLQmvgRWsEi7Y5/dUzHo\n",
       "t1WlAGj/AWeyIDhmmMTIAAAAAElFTkSuQmCC\n",
       "\" style=\"display:inline;vertical-align:middle;\" /></a><br>"
      ],
      "text/plain": [
       "defaults.assumptions: (A in BOOLEANS , B in BOOLEANS , C in BOOLEANS , D in BOOLEANS , [not](C) or [not](D) , A => C , B => D)"
      ]
     },
     "execution_count": 3,
     "metadata": {},
     "output_type": "execute_result"
    }
   ],
   "source": [
    "defaults.assumptions = destructiveDilemma.allConditions()"
   ]
  },
  {
   "cell_type": "code",
   "execution_count": 4,
   "metadata": {},
   "outputs": [
    {
     "data": {
      "text/html": [
       "<span style=\"font-size:20px;\"><a class=\"ProveItLink\" href=\"../__pv_it/a6120e296494a6f99e4bcff07da7d4a4399e00060/expr.ipynb\"><img src=\"data:image/png;base64,iVBORw0KGgoAAAANSUhEUgAAAJMAAAAVBAMAAACwIsHjAAAAMFBMVEX///9ERETc3NyqqqpUVFS6\n",
       "urrMzMwyMjIQEBCIiIh2dnYiIiLu7u5mZmaYmJgAAABJJ2g3AAAAAXRSTlMAQObYZgAAAfFJREFU\n",
       "OMtjYGDgu8dAKWBbpQCieHYxUA7YmkEk5wcoNxtVlqte/Hu3MJJANjYzeCb63mO6wMBwHaylASpa\n",
       "j6aKkXXC8VMLEPx6bEateMDAeuMBkEY2im//AQyjOAMK4FxkeR4Y4/geILFeAc0o5fsKEGXTd+8u\n",
       "gBrF/MAHrh0mDwLsMFMrQIwIBjSjJswPANPpb5BcFSQA1w6TBwFWBwjN+xlE6qIZxXrA/gGIZpJB\n",
       "8mD2Q7inYPIQsBJC6YOdfwxmFC8kOI4y5E8AG6CAMGr3/064Zpj87d0gsP8CWPA+3PT3ICID4u4A\n",
       "Bn2w9EGUYJ8M9yBMHgrMwbr2w+1lB0qmtEHSmIuLP1hbBMhSWLAzCETB0iBMHhaHFSCz/oPZ4EAQ\n",
       "BzowIgEcFAwMHGADUpBdxSDACAsqmDwUpK8Bkf0gghlkADcoAbKAVRgAeeDwP43dKLg8JKx2QyLH\n",
       "H+QgXnhYcW0AxRtQKTs4B7E8QDEqCpIcEfIQYAKhwDEBdh8iMRwHaf0DDoStSEbx3RRgOL8BRR4M\n",
       "mKB+5QOmq1gFFKMU+4sY+OS/g6NI/Ro8O3/c4czAcOITqjxKikkpuWvAwICe2hGOr96NHMAMQVjK\n",
       "FMxsjdUodPCAmAILbBQfVYwCl1c8O/Er4iSqFG2FRMNi6pTtAF89k8hDOXb3AAAAAElFTkSuQmCC\n",
       "\" style=\"display:inline;vertical-align:middle;\" /></a> <a class=\"ProveItLink\" href=\"../__pv_it/271fd548135f88541d37555fbb5bae0d580f61b60/proof.ipynb\" style=\"text-decoration: none\">&#x22A2;&nbsp;</a><a class=\"ProveItLink\" href=\"../__pv_it/e7d8740aab9565f89f93319ed61527cce5d72f6e0/expr.ipynb\"><img src=\"data:image/png;base64,iVBORw0KGgoAAAANSUhEUgAAAHgAAAAVBAMAAAB/IDdlAAAAMFBMVEX////c3NwiIiJERESqqqqY\n",
       "mJh2dnZmZmYQEBDu7u4yMjJUVFTMzMyIiIi6uroAAAAs73DqAAAAAXRSTlMAQObYZgAAAZ9JREFU\n",
       "OMtjYKAI8F1AE2B9QLyy00gCc63LA8QZarBpPo3COwTEIGUrEUJsrQwMz1sZuLBpXonCWw/EQGW8\n",
       "COdwLpoANOAjA2sCQtUEKM2L4mpWfaA4UBnHBLgQVyfIbw0MnA2YFiIpAwKRegEGkLJXCKF6ByDB\n",
       "WMDAYIIQew2lX6G4+sJ9UGiZMJTBRRh/gd1+gIEhHSkYoM4tQwn5Cf4BDCBlS+FC7F9hLC8wVwkM\n",
       "vkOEliJrnsdw/gJYWR9MWQLTR5jkCySFLOvAFEIZkPOAQb4ArOwfVBHPBv4PYGcD8Xlka2b1gUiE\n",
       "MiDevXu/AVgZQpQDrNkHTTPPsgnomvmAgb8ArKwFLsr9E0QXwJwN9bMyJI5akDQDI4WpAazMFC7K\n",
       "8xcUuiC1UUhe3gChEcoYGIGauT6AlcGj5QBDvAMDXyEDA0pUSUFpJGWzgCTzT7DYIyTv7dpeAmas\n",
       "Q4gZQmmEMuH+hQys9r8KQMo4BDDyAHLyPABLnliVIecCtFSFkhWwK1uJITqLcJaEKZPGEN2ITTN2\n",
       "ZYzojuQ9gE0zNmUAWHxs7G64s6QAAAAASUVORK5CYII=\n",
       "\" style=\"display:inline;vertical-align:middle;\" /></a></span>"
      ],
      "text/plain": [
       "{A in BOOLEANS , A => C} |- [not](C) => [not](A)"
      ]
     },
     "execution_count": 4,
     "metadata": {},
     "output_type": "execute_result"
    }
   ],
   "source": [
    "Implies(A, C).contrapose()"
   ]
  },
  {
   "cell_type": "code",
   "execution_count": 5,
   "metadata": {},
   "outputs": [
    {
     "data": {
      "text/html": [
       "<span style=\"font-size:20px;\"><a class=\"ProveItLink\" href=\"../__pv_it/7902e4f8efaad2111d92e394d46709b17949b0e40/expr.ipynb\"><img src=\"data:image/png;base64,iVBORw0KGgoAAAANSUhEUgAAAJcAAAAVBAMAAAC5yWGZAAAAMFBMVEX////c3NxERESqqqpUVFS6\n",
       "urrMzMwyMjIQEBCIiIh2dnYiIiLu7u5mZmaYmJgAAABXZE4RAAAAAXRSTlMAQObYZgAAAjxJREFU\n",
       "OMtjYGDgu8dAOWBbJQCieHYxUAOwNYNIzg8g8sl/Fxf1ABTp5Z/qKzYZQDl8/l9cnEqxGDIFqLEo\n",
       "Aci4DuJxNYAFmxgYeL+iqlOI5KlZBeNwKDAw3A/AYtp3Bgbmz0B6BcIwtp9A/AXdMIap7DBO/gQg\n",
       "doDxeBDe+wUk7h9AMYzzI9Arv8DSJ6t3b4cZZsdyAKppPjCA3y+AGcEOE2bg/Aq1CckwJiDJ3QO2\n",
       "qu4AksuEYJo0gHgH3AhWuBuZQEEu74BiGL8DA2MRWK3QAYQ32fbpwDjAIBDXQQTBShiDX4EB4n+w\n",
       "YbwF4CDxnHn7AVhWERFm0ft/TIAFzZeZc/eBWbd3g8D+C0hhCfb/exAvIwAaJDxbwEGrgBwBM41g\n",
       "QQMM09MOSLFjDo3Z+aBk4Q/ksAONT2mDB8l8kNNYu4H2wiOAiRUa5qAw5fyHZBhPBcQ0fRDRASLU\n",
       "gdojEqBBAoksNgdklzExQB0KDFNYbENA+hoI/QmUokG2cIN0s4DCjA3E9Qcld54NWA3LB1rL8hkR\n",
       "ZruhkQFKn+AEDQkzrg3QIGH8Dpb2QzEM6M0DsGQmX4BwmAksLL+BPHgAJQeAgiSjBix9OgDJsLeT\n",
       "GHh+Q8OUrR2eaBgYC5CSWTo4ZuGG8ep/cXGvg6qrTYBndO0WAwaefqCjLgGzc/kDhMOYBCD0WaBG\n",
       "p2sMDKh5Ewkwu0NjE5baBbAUOJhC2A1DB3zEFWhgw/ioZBi4POPZSUDVBOJK2laIzYupVQcAACRP\n",
       "pTcG9qYPAAAAAElFTkSuQmCC\n",
       "\" style=\"display:inline;vertical-align:middle;\" /></a> <a class=\"ProveItLink\" href=\"../__pv_it/dd49ea1097be03f132fca9cb3defc7129b1cdc530/proof.ipynb\" style=\"text-decoration: none\">&#x22A2;&nbsp;</a><a class=\"ProveItLink\" href=\"../__pv_it/eb14c6ce8a131809e89d98604dcfdf2212e28dcf0/expr.ipynb\"><img src=\"data:image/png;base64,iVBORw0KGgoAAAANSUhEUgAAAHsAAAAVBAMAAACUF4xmAAAAMFBMVEX////c3NwiIiJERESqqqqY\n",
       "mJh2dnZmZmYQEBDu7u4yMjJUVFTMzMyIiIi6uroAAAAs73DqAAAAAXRSTlMAQObYZgAAAcBJREFU\n",
       "OMullD1IQlEUx/+W+tS0nGsIamwpKAgXm5uaGgqqrSmQhqYgoYZaxK1oEqSgRYy2JHSMGnSvUJqk\n",
       "FqMv0LLOeR/d8z6goAfvnvfO+517z73/cx7wz6u/5vQEGn/jlni4Vu83X6VSvgJseoULbpG4RAMa\n",
       "oTgRSBvwvwARr3DJbQNaF8gBMZFT9I2GrSwCK8qXNa2N+6S7A8wDoaxyx2hGVGsIp92L2rgnOiBa\n",
       "6gB4EDn1tmgYLgKTyvdoWhtH0/fskZ3BhnAPjPPqFL6qfEEzaRtXhC9P2QRTOBLuKqPLtPFZftNG\n",
       "9Ovd+GbjLu7W58j6c8hYHEXVWYkyqd4UrL+gGxsXR3iMSyGNrnWalHOSH3Z5eqnYYYZHyU2TrdPy\n",
       "0ZbN/cwl9+oIjx5nneEdc48UvqPcLCdCfHxNsfdRQzHJ8QrlGT35KeWOfZBNML0gtl40rORIdl+b\n",
       "M80pjSq67FcpfhbCDZpWciT7JZcTCXf/A+4nO6Uzo1sKKnzCtIrTiDvXdYw0EIq7u0MWbcUqWg+O\n",
       "ila2h7PSbD8BD27N0YiW0r81rJkkNSyG3OSpV7ib6+P9+FyZxipe4W7uFvgGgcqCO8cAXkoAAAAA\n",
       "SUVORK5CYII=\n",
       "\" style=\"display:inline;vertical-align:middle;\" /></a></span>"
      ],
      "text/plain": [
       "{B in BOOLEANS , B => D} |- [not](D) => [not](B)"
      ]
     },
     "execution_count": 5,
     "metadata": {},
     "output_type": "execute_result"
    }
   ],
   "source": [
    "Implies(B, D).contrapose()"
   ]
  },
  {
   "cell_type": "code",
   "execution_count": 6,
   "metadata": {},
   "outputs": [],
   "source": [
    "#Or(Not(C), Not(D)).deriveViaMultiDilemma(Or(Not(A), Not(B)))"
   ]
  },
  {
   "cell_type": "code",
   "execution_count": 7,
   "metadata": {},
   "outputs": [],
   "source": [
    "#%qed"
   ]
  },
  {
   "cell_type": "code",
   "execution_count": null,
   "metadata": {},
   "outputs": [],
   "source": []
  }
 ],
 "metadata": {
  "kernelspec": {
   "display_name": "Python 3",
   "language": "python",
   "name": "python3"
  }
 },
 "nbformat": 4,
 "nbformat_minor": 0
}
