{
 "cells": [
  {
   "cell_type": "markdown",
   "metadata": {
    "collapsed": true
   },
   "source": [
    "Proof of <a class=\"ProveItLink\" href=\"../../../../_context_.ipynb\">proveit</a>.<a class=\"ProveItLink\" href=\"../../../_context_.ipynb\">logic</a>.<a class=\"ProveItLink\" href=\"../../_context_.ipynb\">boolean</a>.<a class=\"ProveItLink\" href=\"../_context_.ipynb\">disjunction</a>.<a href=\"../_theorems_.ipynb#destructiveDilemma\" class=\"ProveItLink\">destructiveDilemma</a> theorem\n",
    "========"
   ]
  },
  {
   "cell_type": "code",
   "execution_count": 1,
   "metadata": {},
   "outputs": [],
   "source": [
    "import proveit\n",
    "from proveit import defaults\n",
    "from proveit._common_ import A, B, C, D\n",
    "from proveit.logic import Implies, Not, Or\n",
    "from proveit.logic.boolean.disjunction._axioms_ import leftInBool, rightInBool\n",
    "leftInBool.proof().disable(); rightInBool.proof().disable() # disable these to avoid a longer proof\n",
    "context = proveit.Context('..') # the theorem's context is in the parent directory"
   ]
  },
  {
   "cell_type": "code",
   "execution_count": 2,
   "metadata": {},
   "outputs": [
    {
     "name": "stdout",
     "output_type": "stream",
     "text": [
      "Beginning proof of destructiveDilemma\n",
      "Recorded 'presuming' information\n",
      "Presuming proveit.logic.boolean.implication.toContraposition, proveit.logic.boolean.negation.closure theorems (applied transitively).\n",
      "Presuming previous theorems (applied transitively).\n"
     ]
    },
    {
     "data": {
      "text/html": [
       "<strong id=\"destructiveDilemma\">destructiveDilemma:</strong> <a class=\"ProveItLink\" href=\"../__pv_it/7de8b210ccb671c7d6a6b32db451f642d98368b60/expr.ipynb\"><img src=\"../__pv_it/7de8b210ccb671c7d6a6b32db451f642d98368b60/expr.png\" style=\"display:inline;vertical-align:middle;\" /></a><br>(see <a class=\"ProveItLink\" href=\"../__pv_it/7de8b210ccb671c7d6a6b32db451f642d98368b60/dependencies.ipynb\">dependencies</a>)<br>"
      ],
      "text/plain": [
       "destructiveDilemma: forall_{A, B, C, D in BOOLEANS | [not](C) or [not](D) , A => C , B => D} ([not](A) or [not](B))"
      ]
     },
     "execution_count": 2,
     "metadata": {},
     "output_type": "execute_result"
    }
   ],
   "source": [
    "%proving destructiveDilemma presuming [proveit.logic.boolean.implication.toContraposition, proveit.logic.boolean.negation.closure]"
   ]
  },
  {
   "cell_type": "markdown",
   "metadata": {},
   "source": [
    "Prove by applying the **constructiveDilemma** after taking contraposing $A \\Rightarrow C$ to $\\lnot C \\Rightarrow \\lnot A$ and $B \\Rightarrow D$ to $\\lnot D \\Rightarrow \\lnot B$."
   ]
  },
  {
   "cell_type": "code",
   "execution_count": 3,
   "metadata": {},
   "outputs": [
    {
     "data": {
      "text/html": [
       "<strong id=\"defaults.assumptions\">defaults.assumptions:</strong> <a class=\"ProveItLink\" href=\"../__pv_it/8a7ad9d60a768176994f97bf142d2698bae5b8700/expr.ipynb\"><img src=\"../__pv_it/8a7ad9d60a768176994f97bf142d2698bae5b8700/expr.png\" style=\"display:inline;vertical-align:middle;\" /></a><br>"
      ],
      "text/plain": [
       "defaults.assumptions: (A in BOOLEANS , B in BOOLEANS , C in BOOLEANS , D in BOOLEANS , [not](C) or [not](D) , A => C , B => D)"
      ]
     },
     "execution_count": 3,
     "metadata": {},
     "output_type": "execute_result"
    }
   ],
   "source": [
    "defaults.assumptions = destructiveDilemma.allConditions()"
   ]
  },
  {
   "cell_type": "code",
   "execution_count": 4,
   "metadata": {},
   "outputs": [
    {
     "data": {
      "text/html": [
       "<span style=\"font-size:20px;\"><a class=\"ProveItLink\" href=\"../__pv_it/0c485fe863ad9649fcea97cb7f4e89dcff9cd22d0/expr.ipynb\"><img src=\"../__pv_it/0c485fe863ad9649fcea97cb7f4e89dcff9cd22d0/expr.png\" style=\"display:inline;vertical-align:middle;\" /></a> &#x22A2;&nbsp;<a class=\"ProveItLink\" href=\"../__pv_it/2de53d7760b3873cfb95f0ce3f0cbc5a9d6a626f0/expr.ipynb\"><img src=\"../__pv_it/2de53d7760b3873cfb95f0ce3f0cbc5a9d6a626f0/expr.png\" style=\"display:inline;vertical-align:middle;\" /></a></span>"
      ],
      "text/plain": [
       "{A in BOOLEANS , A => C} |= [not](C) => [not](A)"
      ]
     },
     "execution_count": 4,
     "metadata": {},
     "output_type": "execute_result"
    }
   ],
   "source": [
    "Implies(A, C).contrapose()"
   ]
  },
  {
   "cell_type": "code",
   "execution_count": 5,
   "metadata": {},
   "outputs": [
    {
     "data": {
      "text/html": [
       "<span style=\"font-size:20px;\"><a class=\"ProveItLink\" href=\"../__pv_it/659ee4bbeb9b8ae59b14260d9f7130b8aca616110/expr.ipynb\"><img src=\"../__pv_it/659ee4bbeb9b8ae59b14260d9f7130b8aca616110/expr.png\" style=\"display:inline;vertical-align:middle;\" /></a> &#x22A2;&nbsp;<a class=\"ProveItLink\" href=\"../__pv_it/c0c9586b1fb70055e21681815c37742fe72c2b0e0/expr.ipynb\"><img src=\"../__pv_it/c0c9586b1fb70055e21681815c37742fe72c2b0e0/expr.png\" style=\"display:inline;vertical-align:middle;\" /></a></span>"
      ],
      "text/plain": [
       "{B in BOOLEANS , B => D} |= [not](D) => [not](B)"
      ]
     },
     "execution_count": 5,
     "metadata": {},
     "output_type": "execute_result"
    }
   ],
   "source": [
    "Implies(B, D).contrapose()"
   ]
  },
  {
   "cell_type": "code",
   "execution_count": 6,
   "metadata": {},
   "outputs": [],
   "source": [
    "#Or(Not(C), Not(D)).deriveViaMultiDilemma(Or(Not(A), Not(B)))"
   ]
  },
  {
   "cell_type": "code",
   "execution_count": 7,
   "metadata": {},
   "outputs": [],
   "source": [
    "#%qed"
   ]
  },
  {
   "cell_type": "code",
   "execution_count": null,
   "metadata": {},
   "outputs": [],
   "source": []
  }
 ],
 "metadata": {
  "kernelspec": {
   "display_name": "Python 3",
   "language": "python",
   "name": "python3"
  },
  "language_info": {
   "codemirror_mode": {
    "name": "ipython",
    "version": 3
   },
   "file_extension": ".py",
   "mimetype": "text/x-python",
   "name": "python",
   "nbconvert_exporter": "python",
   "pygments_lexer": "ipython3",
   "version": "3.7.3"
  }
 },
 "nbformat": 4,
 "nbformat_minor": 1
}
