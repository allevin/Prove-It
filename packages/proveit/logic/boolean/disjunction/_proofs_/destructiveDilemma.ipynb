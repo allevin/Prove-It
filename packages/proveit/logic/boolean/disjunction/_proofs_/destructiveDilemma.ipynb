{
 "cells": [
  {
   "cell_type": "markdown",
   "metadata": {
    "collapsed": true
   },
   "source": [
    "Proof of <a class=\"ProveItLink\" href=\"../../../../_context_.ipynb\">proveit</a>.<a class=\"ProveItLink\" href=\"../../../_context_.ipynb\">logic</a>.<a class=\"ProveItLink\" href=\"../../_context_.ipynb\">boolean</a>.<a class=\"ProveItLink\" href=\"../_context_.ipynb\">disjunction</a>.<a href=\"../_theorems_.ipynb#destructiveDilemma\" class=\"ProveItLink\">destructiveDilemma</a> theorem\n",
    "========"
   ]
  },
  {
   "cell_type": "code",
   "execution_count": 1,
   "metadata": {},
   "outputs": [],
   "source": [
    "import proveit\n",
    "from proveit import defaults\n",
    "from proveit._common_ import A, B, C, D\n",
    "from proveit.logic import Implies, Not, Or\n",
    "from proveit.logic.boolean.disjunction._axioms_ import leftInBool, rightInBool\n",
    "leftInBool.proof().disable(); rightInBool.proof().disable() # disable these to avoid a longer proof\n",
    "context = proveit.Context('..') # the theorem's context is in the parent directory"
   ]
  },
  {
   "cell_type": "code",
   "execution_count": 2,
   "metadata": {},
   "outputs": [
    {
     "name": "stdout",
     "output_type": "stream",
     "text": [
      "Beginning proof of destructiveDilemma\n"
     ]
    },
    {
     "name": "stdout",
     "output_type": "stream",
     "text": [
      "Recorded 'presuming' information\n"
     ]
    },
    {
     "name": "stdout",
     "output_type": "stream",
     "text": [
      "Presuming proveit.logic.boolean.implication.toContraposition, proveit.logic.boolean.negation.closure theorems (applied transitively).\n",
      "Presuming previous theorems (applied transitively).\n"
     ]
    },
    {
     "data": {
      "text/html": [
       "<strong id=\"destructiveDilemma\">destructiveDilemma:</strong> <a class=\"ProveItLink\" href=\"../__pv_it/e8d36dad2d649e079c55688242b19f33eb55dc1d0/expr.ipynb\"><img src=\"../__pv_it/e8d36dad2d649e079c55688242b19f33eb55dc1d0/expr.png\" style=\"display:inline;vertical-align:middle;\" /></a><br>(see <a class=\"ProveItLink\" href=\"../__pv_it/e8d36dad2d649e079c55688242b19f33eb55dc1d0/dependencies.ipynb\">dependencies</a>)<br>"
      ],
      "text/plain": [
       "destructiveDilemma: forall_{A, B, C, D in BOOLEANS | [not](C) or [not](D) , A => C , B => D} ([not](A) or [not](B))"
      ]
     },
     "execution_count": 2,
     "metadata": {},
     "output_type": "execute_result"
    }
   ],
   "source": [
    "%proving destructiveDilemma presuming [proveit.logic.boolean.implication.toContraposition, proveit.logic.boolean.negation.closure]"
   ]
  },
  {
   "cell_type": "markdown",
   "metadata": {},
   "source": [
    "Prove by applying the **constructiveDilemma** after taking contraposing $A \\Rightarrow C$ to $\\lnot C \\Rightarrow \\lnot A$ and $B \\Rightarrow D$ to $\\lnot D \\Rightarrow \\lnot B$."
   ]
  },
  {
   "cell_type": "code",
   "execution_count": 3,
   "metadata": {},
   "outputs": [
    {
     "data": {
      "text/html": [
       "<strong id=\"defaults.assumptions\">defaults.assumptions:</strong> <a class=\"ProveItLink\" href=\"../__pv_it/8a7ad9d60a768176994f97bf142d2698bae5b8700/expr.ipynb\"><img src=\"../__pv_it/8a7ad9d60a768176994f97bf142d2698bae5b8700/expr.png\" style=\"display:inline;vertical-align:middle;\" /></a><br>"
      ],
      "text/plain": [
       "defaults.assumptions: (A in BOOLEANS , B in BOOLEANS , C in BOOLEANS , D in BOOLEANS , [not](C) or [not](D) , A => C , B => D)"
      ]
     },
     "execution_count": 3,
     "metadata": {},
     "output_type": "execute_result"
    }
   ],
   "source": [
    "defaults.assumptions = destructiveDilemma.conditions"
   ]
  },
  {
   "cell_type": "code",
   "execution_count": 4,
   "metadata": {},
   "outputs": [
    {
     "data": {
      "text/html": [
       "<span style=\"font-size:20px;\"><a class=\"ProveItLink\" href=\"../__pv_it/0c485fe863ad9649fcea97cb7f4e89dcff9cd22d0/expr.ipynb\"><img src=\"../__pv_it/0c485fe863ad9649fcea97cb7f4e89dcff9cd22d0/expr.png\" style=\"display:inline;vertical-align:middle;\" /></a> &#x22A2;&nbsp;<a class=\"ProveItLink\" href=\"../__pv_it/2de53d7760b3873cfb95f0ce3f0cbc5a9d6a626f0/expr.ipynb\"><img src=\"../__pv_it/2de53d7760b3873cfb95f0ce3f0cbc5a9d6a626f0/expr.png\" style=\"display:inline;vertical-align:middle;\" /></a></span>"
      ],
      "text/plain": [
       "{A in BOOLEANS , A => C} |= [not](C) => [not](A)"
      ]
     },
     "execution_count": 4,
     "metadata": {},
     "output_type": "execute_result"
    }
   ],
   "source": [
    "Implies(A, C).contrapose()"
   ]
  },
  {
   "cell_type": "code",
   "execution_count": 5,
   "metadata": {},
   "outputs": [
    {
     "data": {
      "text/html": [
       "<span style=\"font-size:20px;\"><a class=\"ProveItLink\" href=\"../__pv_it/659ee4bbeb9b8ae59b14260d9f7130b8aca616110/expr.ipynb\"><img src=\"../__pv_it/659ee4bbeb9b8ae59b14260d9f7130b8aca616110/expr.png\" style=\"display:inline;vertical-align:middle;\" /></a> &#x22A2;&nbsp;<a class=\"ProveItLink\" href=\"../__pv_it/c0c9586b1fb70055e21681815c37742fe72c2b0e0/expr.ipynb\"><img src=\"../__pv_it/c0c9586b1fb70055e21681815c37742fe72c2b0e0/expr.png\" style=\"display:inline;vertical-align:middle;\" /></a></span>"
      ],
      "text/plain": [
       "{B in BOOLEANS , B => D} |= [not](D) => [not](B)"
      ]
     },
     "execution_count": 5,
     "metadata": {},
     "output_type": "execute_result"
    }
   ],
   "source": [
    "Implies(B, D).contrapose()"
   ]
  },
  {
   "cell_type": "code",
   "execution_count": 6,
   "metadata": {},
   "outputs": [
    {
     "data": {
      "text/html": [
       "<span style=\"font-size:20px;\"><a class=\"ProveItLink\" href=\"../__pv_it/6cc142c147131343bfb6d8e6f0f1bf5795b5e2270/expr.ipynb\"><img src=\"../__pv_it/6cc142c147131343bfb6d8e6f0f1bf5795b5e2270/expr.png\" style=\"display:inline;vertical-align:middle;\" /></a> &#x22A2;&nbsp;<a class=\"ProveItLink\" href=\"../__pv_it/1b19a969c9911b580a2875ed233a999108eb89630/expr.ipynb\"><img src=\"../__pv_it/1b19a969c9911b580a2875ed233a999108eb89630/expr.png\" style=\"display:inline;vertical-align:middle;\" /></a></span>"
      ],
      "text/plain": [
       "{A in BOOLEANS , B in BOOLEANS , C in BOOLEANS , D in BOOLEANS , [not](C) or [not](D) , A => C , B => D} |= [not](A) or [not](B)"
      ]
     },
     "execution_count": 6,
     "metadata": {},
     "output_type": "execute_result"
    }
   ],
   "source": [
    "Or(Not(C), Not(D)).deriveViaMultiDilemma(Or(Not(A), Not(B)))"
   ]
  },
  {
   "cell_type": "code",
   "execution_count": 7,
   "metadata": {},
   "outputs": [
    {
     "data": {
      "text/html": [
       "<table><tr><th>&nbsp;</th><th>step type</th><th>requirements</th><th>statement</th></tr>\n",
       "<tr><td>0</td><td>generalizaton</td><td>1</td><td><span style=\"font-size:20px;\"> &#x22A2;&nbsp;<a class=\"ProveItLink\" href=\"../__pv_it/e8d36dad2d649e079c55688242b19f33eb55dc1d0/expr.ipynb\"><img src=\"../__pv_it/e8d36dad2d649e079c55688242b19f33eb55dc1d0/expr.png\" style=\"display:inline;vertical-align:middle;\" /></a></span></td></tr>\n",
       "<tr><td>1</td><td>specialization</td><td>2, 3, 4, 5, 6, 7, 8, 9</td><td><span style=\"font-size:20px;\"><a class=\"ProveItLink\" href=\"../__pv_it/6cc142c147131343bfb6d8e6f0f1bf5795b5e2270/expr.ipynb\"><img src=\"../__pv_it/6cc142c147131343bfb6d8e6f0f1bf5795b5e2270/expr.png\" style=\"display:inline;vertical-align:middle;\" /></a> &#x22A2;&nbsp;<a class=\"ProveItLink\" href=\"../__pv_it/1b19a969c9911b580a2875ed233a999108eb89630/expr.ipynb\"><img src=\"../__pv_it/1b19a969c9911b580a2875ed233a999108eb89630/expr.png\" style=\"display:inline;vertical-align:middle;\" /></a></span></td></tr>\n",
       "<tr><td>&nbsp;</td><td colspan=4 style=\"text-align:left\"><span style=\"font-size:20px;\"><a class=\"ProveItLink\" href=\"../__pv_it/2d112cd6a731878806bcd05a6ff80000608919090/expr.ipynb\"><img src=\"../__pv_it/2d112cd6a731878806bcd05a6ff80000608919090/expr.png\" style=\"display:inline;vertical-align:middle;\" /></a>, <a class=\"ProveItLink\" href=\"../__pv_it/7bce1b1d7a2896a0709653acd674bb46b5ae30070/expr.ipynb\"><img src=\"../__pv_it/7bce1b1d7a2896a0709653acd674bb46b5ae30070/expr.png\" style=\"display:inline;vertical-align:middle;\" /></a>, <a class=\"ProveItLink\" href=\"../__pv_it/57bd8389f2e6b0e8b44eec6c76b2dc3862d66bf30/expr.ipynb\"><img src=\"../__pv_it/57bd8389f2e6b0e8b44eec6c76b2dc3862d66bf30/expr.png\" style=\"display:inline;vertical-align:middle;\" /></a>, <a class=\"ProveItLink\" href=\"../__pv_it/f3b3c5d0954e79d19c5a0a268de0cc12680ed7e90/expr.ipynb\"><img src=\"../__pv_it/f3b3c5d0954e79d19c5a0a268de0cc12680ed7e90/expr.png\" style=\"display:inline;vertical-align:middle;\" /></a></span></td></tr><tr><td>2</td><td>theorem</td><td></td><td><span style=\"font-size:20px;\"> &#x22A2;&nbsp;<a class=\"ProveItLink\" href=\"../__pv_it/9a082ebbf13415ad7005d8649b68a4c58660aa360/expr.ipynb\"><img src=\"../__pv_it/9a082ebbf13415ad7005d8649b68a4c58660aa360/expr.png\" style=\"display:inline;vertical-align:middle;\" /></a></span></td></tr>\n",
       "<tr><td>&nbsp;</td><td colspan=4 style-\"text-align:left\"><a class=\"ProveItLink\" href=\"constructiveDilemma.ipynb\">proveit.logic.boolean.disjunction.constructiveDilemma</a></td></tr><tr><td>3</td><td>specialization</td><td>12, 10</td><td><span style=\"font-size:20px;\"><a class=\"ProveItLink\" href=\"../__pv_it/549ecf82a9d4ac5ca0750c6c3aaf83e6e7209ca90/expr.ipynb\"><img src=\"../__pv_it/549ecf82a9d4ac5ca0750c6c3aaf83e6e7209ca90/expr.png\" style=\"display:inline;vertical-align:middle;\" /></a> &#x22A2;&nbsp;<a class=\"ProveItLink\" href=\"../__pv_it/c948abda081fd2d691427bf4804da2a83b7eea690/expr.ipynb\"><img src=\"../__pv_it/c948abda081fd2d691427bf4804da2a83b7eea690/expr.png\" style=\"display:inline;vertical-align:middle;\" /></a></span></td></tr>\n",
       "<tr><td>&nbsp;</td><td colspan=4 style=\"text-align:left\"><span style=\"font-size:20px;\"><a class=\"ProveItLink\" href=\"../__pv_it/fd15fc16e9d539ce9fb9767fdfdc4ccdf88f3a7e0/expr.ipynb\"><img src=\"../__pv_it/fd15fc16e9d539ce9fb9767fdfdc4ccdf88f3a7e0/expr.png\" style=\"display:inline;vertical-align:middle;\" /></a></span></td></tr><tr><td>4</td><td>specialization</td><td>12, 11</td><td><span style=\"font-size:20px;\"><a class=\"ProveItLink\" href=\"../__pv_it/aa3618fdfba9edc866f19a2dbc2f7cde292ff1c70/expr.ipynb\"><img src=\"../__pv_it/aa3618fdfba9edc866f19a2dbc2f7cde292ff1c70/expr.png\" style=\"display:inline;vertical-align:middle;\" /></a> &#x22A2;&nbsp;<a class=\"ProveItLink\" href=\"../__pv_it/aa6fad91cfe735137d2bf737ed5cb82fc75df3860/expr.ipynb\"><img src=\"../__pv_it/aa6fad91cfe735137d2bf737ed5cb82fc75df3860/expr.png\" style=\"display:inline;vertical-align:middle;\" /></a></span></td></tr>\n",
       "<tr><td>&nbsp;</td><td colspan=4 style=\"text-align:left\"><span style=\"font-size:20px;\"><a class=\"ProveItLink\" href=\"../__pv_it/a0ca7c381d1a18bf752cb739b05eb87de4080a3f0/expr.ipynb\"><img src=\"../__pv_it/a0ca7c381d1a18bf752cb739b05eb87de4080a3f0/expr.png\" style=\"display:inline;vertical-align:middle;\" /></a></span></td></tr><tr><td>5</td><td>specialization</td><td>12, 14</td><td><span style=\"font-size:20px;\"><a class=\"ProveItLink\" href=\"../__pv_it/017ca8cfa034181c90ba15dd10869f0f4e516d6a0/expr.ipynb\"><img src=\"../__pv_it/017ca8cfa034181c90ba15dd10869f0f4e516d6a0/expr.png\" style=\"display:inline;vertical-align:middle;\" /></a> &#x22A2;&nbsp;<a class=\"ProveItLink\" href=\"../__pv_it/986d2e7ca8eb67a3fbf4b28f256b01dbf875a3f20/expr.ipynb\"><img src=\"../__pv_it/986d2e7ca8eb67a3fbf4b28f256b01dbf875a3f20/expr.png\" style=\"display:inline;vertical-align:middle;\" /></a></span></td></tr>\n",
       "<tr><td>&nbsp;</td><td colspan=4 style=\"text-align:left\"><span style=\"font-size:20px;\"><a class=\"ProveItLink\" href=\"../__pv_it/e2ee195baea449ecf67452694c66cbd67b2c19580/expr.ipynb\"><img src=\"../__pv_it/e2ee195baea449ecf67452694c66cbd67b2c19580/expr.png\" style=\"display:inline;vertical-align:middle;\" /></a></span></td></tr><tr><td>6</td><td>specialization</td><td>12, 17</td><td><span style=\"font-size:20px;\"><a class=\"ProveItLink\" href=\"../__pv_it/2c2e947402f53b9e11cd7769e1b5b3378595750e0/expr.ipynb\"><img src=\"../__pv_it/2c2e947402f53b9e11cd7769e1b5b3378595750e0/expr.png\" style=\"display:inline;vertical-align:middle;\" /></a> &#x22A2;&nbsp;<a class=\"ProveItLink\" href=\"../__pv_it/f0c1dc06e1a7b006dbd5157d3bcf74367cd341560/expr.ipynb\"><img src=\"../__pv_it/f0c1dc06e1a7b006dbd5157d3bcf74367cd341560/expr.png\" style=\"display:inline;vertical-align:middle;\" /></a></span></td></tr>\n",
       "<tr><td>&nbsp;</td><td colspan=4 style=\"text-align:left\"><span style=\"font-size:20px;\"><a class=\"ProveItLink\" href=\"../__pv_it/788ef5511dfca54206679fdb7d1131e45dc4c3d50/expr.ipynb\"><img src=\"../__pv_it/788ef5511dfca54206679fdb7d1131e45dc4c3d50/expr.png\" style=\"display:inline;vertical-align:middle;\" /></a></span></td></tr><tr><td>7</td><td>assumption</td><td></td><td><span style=\"font-size:20px;\"><a class=\"ProveItLink\" href=\"../__pv_it/8227ec18f973fcbf83c9e0e2242ca7ce2d2cc1f10/expr.ipynb\"><img src=\"../__pv_it/8227ec18f973fcbf83c9e0e2242ca7ce2d2cc1f10/expr.png\" style=\"display:inline;vertical-align:middle;\" /></a> &#x22A2;&nbsp;<a class=\"ProveItLink\" href=\"../__pv_it/b0c52592c5c7a00624ff38aeefd4d74e5e15155c0/expr.ipynb\"><img src=\"../__pv_it/b0c52592c5c7a00624ff38aeefd4d74e5e15155c0/expr.png\" style=\"display:inline;vertical-align:middle;\" /></a></span></td></tr>\n",
       "<tr><td>8</td><td>specialization</td><td>15, 13, 14</td><td><span style=\"font-size:20px;\"><a class=\"ProveItLink\" href=\"../__pv_it/0c485fe863ad9649fcea97cb7f4e89dcff9cd22d0/expr.ipynb\"><img src=\"../__pv_it/0c485fe863ad9649fcea97cb7f4e89dcff9cd22d0/expr.png\" style=\"display:inline;vertical-align:middle;\" /></a> &#x22A2;&nbsp;<a class=\"ProveItLink\" href=\"../__pv_it/2de53d7760b3873cfb95f0ce3f0cbc5a9d6a626f0/expr.ipynb\"><img src=\"../__pv_it/2de53d7760b3873cfb95f0ce3f0cbc5a9d6a626f0/expr.png\" style=\"display:inline;vertical-align:middle;\" /></a></span></td></tr>\n",
       "<tr><td>&nbsp;</td><td colspan=4 style=\"text-align:left\"><span style=\"font-size:20px;\"><a class=\"ProveItLink\" href=\"../__pv_it/e2ee195baea449ecf67452694c66cbd67b2c19580/expr.ipynb\"><img src=\"../__pv_it/e2ee195baea449ecf67452694c66cbd67b2c19580/expr.png\" style=\"display:inline;vertical-align:middle;\" /></a>, <a class=\"ProveItLink\" href=\"../__pv_it/980e1b45d0249a0ec2ea73c3cc60691f9afcb8530/expr.ipynb\"><img src=\"../__pv_it/980e1b45d0249a0ec2ea73c3cc60691f9afcb8530/expr.png\" style=\"display:inline;vertical-align:middle;\" /></a></span></td></tr><tr><td>9</td><td>specialization</td><td>15, 16, 17</td><td><span style=\"font-size:20px;\"><a class=\"ProveItLink\" href=\"../__pv_it/659ee4bbeb9b8ae59b14260d9f7130b8aca616110/expr.ipynb\"><img src=\"../__pv_it/659ee4bbeb9b8ae59b14260d9f7130b8aca616110/expr.png\" style=\"display:inline;vertical-align:middle;\" /></a> &#x22A2;&nbsp;<a class=\"ProveItLink\" href=\"../__pv_it/c0c9586b1fb70055e21681815c37742fe72c2b0e0/expr.ipynb\"><img src=\"../__pv_it/c0c9586b1fb70055e21681815c37742fe72c2b0e0/expr.png\" style=\"display:inline;vertical-align:middle;\" /></a></span></td></tr>\n",
       "<tr><td>&nbsp;</td><td colspan=4 style=\"text-align:left\"><span style=\"font-size:20px;\"><a class=\"ProveItLink\" href=\"../__pv_it/788ef5511dfca54206679fdb7d1131e45dc4c3d50/expr.ipynb\"><img src=\"../__pv_it/788ef5511dfca54206679fdb7d1131e45dc4c3d50/expr.png\" style=\"display:inline;vertical-align:middle;\" /></a>, <a class=\"ProveItLink\" href=\"../__pv_it/9565a1c5c6f2fb644921f1bf1782bf14142eeee00/expr.ipynb\"><img src=\"../__pv_it/9565a1c5c6f2fb644921f1bf1782bf14142eeee00/expr.png\" style=\"display:inline;vertical-align:middle;\" /></a></span></td></tr><tr><td>10</td><td>assumption</td><td></td><td><span style=\"font-size:20px;\"><a class=\"ProveItLink\" href=\"../__pv_it/549ecf82a9d4ac5ca0750c6c3aaf83e6e7209ca90/expr.ipynb\"><img src=\"../__pv_it/549ecf82a9d4ac5ca0750c6c3aaf83e6e7209ca90/expr.png\" style=\"display:inline;vertical-align:middle;\" /></a> &#x22A2;&nbsp;<a class=\"ProveItLink\" href=\"../__pv_it/2cec3c732aceb253233bb533d4e43cc3f34f4f660/expr.ipynb\"><img src=\"../__pv_it/2cec3c732aceb253233bb533d4e43cc3f34f4f660/expr.png\" style=\"display:inline;vertical-align:middle;\" /></a></span></td></tr>\n",
       "<tr><td>11</td><td>assumption</td><td></td><td><span style=\"font-size:20px;\"><a class=\"ProveItLink\" href=\"../__pv_it/aa3618fdfba9edc866f19a2dbc2f7cde292ff1c70/expr.ipynb\"><img src=\"../__pv_it/aa3618fdfba9edc866f19a2dbc2f7cde292ff1c70/expr.png\" style=\"display:inline;vertical-align:middle;\" /></a> &#x22A2;&nbsp;<a class=\"ProveItLink\" href=\"../__pv_it/3891b823dfb55f51d513cc7144556dc1bfd425b70/expr.ipynb\"><img src=\"../__pv_it/3891b823dfb55f51d513cc7144556dc1bfd425b70/expr.png\" style=\"display:inline;vertical-align:middle;\" /></a></span></td></tr>\n",
       "<tr><td>12</td><td>theorem</td><td></td><td><span style=\"font-size:20px;\"> &#x22A2;&nbsp;<a class=\"ProveItLink\" href=\"../../negation/__pv_it/2bf039a75462a829870dcf59b07f81bfb03962800/expr.ipynb\"><img src=\"../../negation/__pv_it/2bf039a75462a829870dcf59b07f81bfb03962800/expr.png\" style=\"display:inline;vertical-align:middle;\" /></a></span></td></tr>\n",
       "<tr><td>&nbsp;</td><td colspan=4 style-\"text-align:left\"><a class=\"ProveItLink\" href=\"../../negation/_proofs_/closure.ipynb\">proveit.logic.boolean.negation.closure</a></td></tr><tr><td>13</td><td>assumption</td><td></td><td><span style=\"font-size:20px;\"><a class=\"ProveItLink\" href=\"../__pv_it/2b397a206fb82d71f2761db12bdc37b0a3e181fb0/expr.ipynb\"><img src=\"../__pv_it/2b397a206fb82d71f2761db12bdc37b0a3e181fb0/expr.png\" style=\"display:inline;vertical-align:middle;\" /></a> &#x22A2;&nbsp;<a class=\"ProveItLink\" href=\"../__pv_it/331937d6d92fa85ce5f21643895017d27da16a970/expr.ipynb\"><img src=\"../__pv_it/331937d6d92fa85ce5f21643895017d27da16a970/expr.png\" style=\"display:inline;vertical-align:middle;\" /></a></span></td></tr>\n",
       "<tr><td>14</td><td>assumption</td><td></td><td><span style=\"font-size:20px;\"><a class=\"ProveItLink\" href=\"../__pv_it/017ca8cfa034181c90ba15dd10869f0f4e516d6a0/expr.ipynb\"><img src=\"../__pv_it/017ca8cfa034181c90ba15dd10869f0f4e516d6a0/expr.png\" style=\"display:inline;vertical-align:middle;\" /></a> &#x22A2;&nbsp;<a class=\"ProveItLink\" href=\"../__pv_it/03a5c2b5cc6fc2c3cd686b4bcf84379b893abe210/expr.ipynb\"><img src=\"../__pv_it/03a5c2b5cc6fc2c3cd686b4bcf84379b893abe210/expr.png\" style=\"display:inline;vertical-align:middle;\" /></a></span></td></tr>\n",
       "<tr><td>15</td><td>theorem</td><td></td><td><span style=\"font-size:20px;\"> &#x22A2;&nbsp;<a class=\"ProveItLink\" href=\"../../implication/__pv_it/59ee696d90b8b4355ef659894d5508d5e5d744fb0/expr.ipynb\"><img src=\"../../implication/__pv_it/59ee696d90b8b4355ef659894d5508d5e5d744fb0/expr.png\" style=\"display:inline;vertical-align:middle;\" /></a></span></td></tr>\n",
       "<tr><td>&nbsp;</td><td colspan=4 style-\"text-align:left\"><a class=\"ProveItLink\" href=\"../../implication/_proofs_/toContraposition.ipynb\">proveit.logic.boolean.implication.toContraposition</a></td></tr><tr><td>16</td><td>assumption</td><td></td><td><span style=\"font-size:20px;\"><a class=\"ProveItLink\" href=\"../__pv_it/f1fac65ccef659fc47c1aac0e164213c40a2efaa0/expr.ipynb\"><img src=\"../__pv_it/f1fac65ccef659fc47c1aac0e164213c40a2efaa0/expr.png\" style=\"display:inline;vertical-align:middle;\" /></a> &#x22A2;&nbsp;<a class=\"ProveItLink\" href=\"../__pv_it/e3af43a0b7e250c3bd7b23616149288dd724e8c10/expr.ipynb\"><img src=\"../__pv_it/e3af43a0b7e250c3bd7b23616149288dd724e8c10/expr.png\" style=\"display:inline;vertical-align:middle;\" /></a></span></td></tr>\n",
       "<tr><td>17</td><td>assumption</td><td></td><td><span style=\"font-size:20px;\"><a class=\"ProveItLink\" href=\"../__pv_it/2c2e947402f53b9e11cd7769e1b5b3378595750e0/expr.ipynb\"><img src=\"../__pv_it/2c2e947402f53b9e11cd7769e1b5b3378595750e0/expr.png\" style=\"display:inline;vertical-align:middle;\" /></a> &#x22A2;&nbsp;<a class=\"ProveItLink\" href=\"../__pv_it/fe5c91c77f0659f9ea07a2e3257797875d6868370/expr.ipynb\"><img src=\"../__pv_it/fe5c91c77f0659f9ea07a2e3257797875d6868370/expr.png\" style=\"display:inline;vertical-align:middle;\" /></a></span></td></tr>\n",
       "</table>"
      ],
      "text/plain": [
       "\tstep type\trequirements\tstatement\n",
       "0\tgeneralizaton\t1\t|= forall_{A, B, C, D in BOOLEANS | [not](C) or [not](D) , A => C , B => D} ([not](A) or [not](B))\n",
       "1\tspecialization\t2, 3, 4, 5, 6, 7, 8, 9\t{A in BOOLEANS , B in BOOLEANS , C in BOOLEANS , D in BOOLEANS , [not](C) or [not](D) , A => C , B => D} |= [not](A) or [not](B)\n",
       "\tA -> [not](C), B -> [not](D), C -> [not](A), D -> [not](B)\n",
       "2\ttheorem\t\t|= forall_{A, B, C, D in BOOLEANS | A or B , A => C , B => D} (C or D)\n",
       "\tproveit.logic.boolean.disjunction.constructiveDilemma\n",
       "3\tspecialization\t12, 10\t{C in BOOLEANS} |= [not](C) in BOOLEANS\n",
       "\tA -> C\n",
       "4\tspecialization\t12, 11\t{D in BOOLEANS} |= [not](D) in BOOLEANS\n",
       "\tA -> D\n",
       "5\tspecialization\t12, 14\t{A in BOOLEANS} |= [not](A) in BOOLEANS\n",
       "\tA -> A\n",
       "6\tspecialization\t12, 17\t{B in BOOLEANS} |= [not](B) in BOOLEANS\n",
       "\tA -> B\n",
       "7\tassumption\t\t{[not](C) or [not](D)} |= [not](C) or [not](D)\n",
       "8\tspecialization\t15, 13, 14\t{A in BOOLEANS , A => C} |= [not](C) => [not](A)\n",
       "\tA -> A, B -> C\n",
       "9\tspecialization\t15, 16, 17\t{B in BOOLEANS , B => D} |= [not](D) => [not](B)\n",
       "\tA -> B, B -> D\n",
       "10\tassumption\t\t{C in BOOLEANS} |= C in BOOLEANS\n",
       "11\tassumption\t\t{D in BOOLEANS} |= D in BOOLEANS\n",
       "12\ttheorem\t\t|= forall_{A in BOOLEANS} ([not](A) in BOOLEANS)\n",
       "\tproveit.logic.boolean.negation.closure\n",
       "13\tassumption\t\t{A => C} |= A => C\n",
       "14\tassumption\t\t{A in BOOLEANS} |= A in BOOLEANS\n",
       "15\ttheorem\t\t|= forall_{A, B | A => B , A in BOOLEANS} ([not](B) => [not](A))\n",
       "\tproveit.logic.boolean.implication.toContraposition\n",
       "16\tassumption\t\t{B => D} |= B => D\n",
       "17\tassumption\t\t{B in BOOLEANS} |= B in BOOLEANS"
      ]
     },
     "execution_count": 7,
     "metadata": {},
     "output_type": "execute_result"
    }
   ],
   "source": [
    "%qed"
   ]
  },
  {
   "cell_type": "code",
   "execution_count": null,
   "metadata": {},
   "outputs": [],
   "source": []
  }
 ],
 "metadata": {
  "kernelspec": {
   "display_name": "Python 3",
   "language": "python",
   "name": "python3"
  },
  "language_info": {
   "codemirror_mode": {
    "name": "ipython",
    "version": 3
   },
   "file_extension": ".py",
   "mimetype": "text/x-python",
   "name": "python",
   "nbconvert_exporter": "python",
   "pygments_lexer": "ipython3",
   "version": "3.7.0"
  }
 },
 "nbformat": 4,
 "nbformat_minor": 1
}
