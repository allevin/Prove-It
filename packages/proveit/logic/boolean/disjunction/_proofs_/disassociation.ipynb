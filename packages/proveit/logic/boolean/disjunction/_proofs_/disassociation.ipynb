{
 "cells": [
  {
   "cell_type": "markdown",
   "metadata": {},
   "source": [
    "Proof of <a class=\"ProveItLink\" href=\"../../../../_context_.ipynb\">proveit</a>.<a class=\"ProveItLink\" href=\"../../../_context_.ipynb\">logic</a>.<a class=\"ProveItLink\" href=\"../../_context_.ipynb\">boolean</a>.<a class=\"ProveItLink\" href=\"../_context_.ipynb\">disjunction</a>.<a class=\"ProveItLink\" href=\"../_theorems_.ipynb#disassociation\">disassociation</a> theorem\n",
    "========"
   ]
  },
  {
   "cell_type": "code",
   "execution_count": 1,
   "metadata": {},
   "outputs": [],
   "source": [
    "import proveit\n",
    "context = proveit.Context('..') # the theorem's context is in the parent directory"
   ]
  },
  {
   "cell_type": "code",
   "execution_count": 2,
   "metadata": {},
   "outputs": [
    {
     "name": "stdout",
     "output_type": "stream",
     "text": [
      "Beginning proof of disassociation\n",
      "Recorded 'presuming' information\n"
     ]
    },
    {
     "name": "stdout",
     "output_type": "stream",
     "text": [
      "Presuming previous theorems (applied transitively).\n"
     ]
    },
    {
     "data": {
      "text/html": [
       "<strong id=\"disassociation\">disassociation:</strong> <a class=\"ProveItLink\" href=\"../__pv_it/2516529a3f202afa1e8d9fbd1fa94835df3ed1220/expr.ipynb\"><img src=\"data:image/png;base64,iVBORw0KGgoAAAANSUhEUgAABMYAAAAaBAMAAACukE24AAAAMFBMVEX///8QEBC6urrMzMxUVFRm\n",
       "ZmZERETc3NwyMjKqqqp2dnaIiIiYmJgiIiLu7u4AAAAU9Wx4AAAAAXRSTlMAQObYZgAACrhJREFU\n",
       "aN7tW2tsVMcVPvvyvu5e4xBBowrWaZukFaLeKimKmipeJWpRVVXeNKEpIcDSqkZqg7w/LIxCEu+P\n",
       "0hKLxlu1/KIUq4IElKreBgWlDRXLwzRy22CpSapGMV7+JKg4xosB87C5nTOPe+e+1nfttVSpO9Is\n",
       "13PnfHu+c787c2ZmAfBeto3moFEapabiH/2wlu4jjYg1Su2lG8q1aExdZM0XWSUlcLNGW0eDVQBN\n",
       "GimVx70DWQ1O2d3cqN2dO1ODb/eNVdYqaRc06iWW9kIdGHeh93en5s22vkxPMY3RwelvHjWWwH+U\n",
       "4mJp7CFeSUncqtHWySCAbC9WJia2a96jbjUIWU39Y3ty48tuewdcfeOv6smuojMa95KUsYGFMwa1\n",
       "f+XEJ11T82ZbX6aUbTccwb9f8aixGL5qkfJiaewVw5XBqwZT+mmPQit9QOIvw8Bop542XwcIaxlH\n",
       "I0cwswFA3nJ/EMePtqnqgJLTMY1EzS8eY97WlcczpqVdqLlEwokxgJYF6L3mPXRWtrLNwpnmqca2\n",
       "k89w1qPGaMftiyWxeJFVpKLN6s3BFOjtcqED/NtiMDAMjHb60X4bg5h2MnIGMxsADJvvxzQMdmSy\n",
       "OqDk9OAV/OyX0UyFG7drI87UwDkSjoxJK7nde9V76KxsJZs6MB2mGsO3KFTwqDE6yqxfLI35yqwi\n",
       "sUHNmEtQ2An74LkGP86LwcAwMNpX4scJ8h4qWsnJyBnMbABwwXz/AB0kQtnqgIbTUTZIfE9GM5WV\n",
       "7J8+bdKZGjhHwpExxHEUOTfjPXRWtpJNHZheoBpTXuvpedHzunK4p6dn0ZaXX+SVlL/4NCMyPyd1\n",
       "r717JEdoiUFeMtDb/XRe6iKPLnHD0cgZzGxA0uKC6X5ymj7LwhyAutM+je74/ElGM801bPaMjyTv\n",
       "AHgFdWGMOTxmdnnvobOylWzqwBRrN8D1zs4PPWusubNz28BiaewZXsngPRWh4zQrezkRS0G+Eb5j\n",
       "Jxvo7SHqqZaHQH/aycgFzGxApoyMfD+qZV29kIvu9IHrpvaY9SkxL6E31X/FO6gLY/KAiFwevlpD\n",
       "6KxsDZt6MMXaTafZrZ41Ribfppo2Yh8uee+7h1ci/0xIGr7JQBxwyhjP8/HbaiDaIyWaoHxm99g9\n",
       "jkbOYFYDiObl+0Gt5OqFadUnnO6YMT8pivb93Vh+qnsJ8CPYPOMd1IUxSa8qu39RKXgPnY2tYVMP\n",
       "pliJxr4Aah7UjrInjfnTcBFfoipbAVHz/ksNmwZ38QpwkuQVGRDhIQllsNWhP8k/H+OXzICzEO0+\n",
       "NFLIWkftyuvhkYycwXQDfTJbIt+P6Ov86oC60/3mjQSGJmehtJeyBE5c8w7qwpikYmQp+PEN76Gz\n",
       "sTVs6sEUK9FYAuJEr6vdNvp2fRf+uEnXGKnHyefzFIPtAcaSlZZZtnRRtqzY+mbANJf6ahjzrvAK\n",
       "6k2yAs5C4KkR8cUXHTeI8O0AyYCzEO3NrfRtJE+h7RZ89TtWIxcwYWCEYFK+n2BZ0ANzAgqnx2ia\n",
       "5c+Z0KRCvYTLBWgjU41XUBfGZCy5g7sHA55DZ2Nr2NSDKVaisXgJFwWHnIwvrXsWzsbKsbKhseN0\n",
       "ZUFfEh/37FwGInSU9Le8C/fOwO9Ys9LXt6tkbHS8c/jws6CsP/7YkBjJWYehfWdsGgtWWpK4ko/y\n",
       "QK2H3zu5FyrE+GguDA6Z2unT8+EKv41kKPutRi5guoFZY+J+hK3mls8JKJzup+a+OTTW0dJC9yI8\n",
       "growJnk6TjZa2nPobGwNm3ow5RpT8w/peZBlEPzBSxPw92JG1thF3JWO0mHrCZ7ibS5BjK5yDxD5\n",
       "xaepqFGdxYFLnzO2g+Ix9Y3W6DG4y68nvbTDvqw+1N3DK/zy0YlPcCUvArXD+ag0nE/wK2Gwx9Tu\n",
       "QzXT/cjB23qgDCMXMN3APLuJ+3RzAGLpOQGF0yfoDHLQjLZxFMsHupfRpRMTvRp4BnVhzHZTY1rR\n",
       "c+hsbA2bejDlcyVsxUkWl6nKhlUH48dS/ApgCHue/tVOWWNN3eS1o2m//98VfgaSgwhOmyr6FFiC\n",
       "6wKqzuJAbBwncD8J4mmiMfhDCR5XR/Cs4EvkK1KsQzC1Qzj1HK8qCm1s2tBY8OtsLqbHpWVxQZYr\n",
       "/AxMN5g2tTeVeIISxjd+P5iNyjKg1C4Mht74c/rtH2Iw8vJ9NYmD+FtgAzSwyianL+CrGM/zmAo0\n",
       "KWNFLy8UcG7KuYOqlkg4M6bpFfTO2kOnY6hzsDVsXJlaQ1eFqcJyftg7QqUBMN5WSqTpiSZepdix\n",
       "x+nY+NckjUU3iiQr8QDfnyGv32bMwUK4y6KmMAccYsPUqk1wvoRjqZIhGvO/WYaRaCah0E3fId4h\n",
       "Ace/zCkc4rUbuXXdNAIV2Ma+6TL5W53lF5iL8h1BYRDg+TRvp9sEHdOgnpyVnh6/qeOos6Z2YaCe\n",
       "moH34Iyx2yDuv3jjt+F/ZMAGqGNxQOF0eOzl8gvvi5ja9y6wIfxNurVVcAfljAWoC2OSXuVgPPkv\n",
       "W+gMDEvobGylL3Fjag1dFaZ87wJ8eISDPr/0FjSnaAzwKseS99MwcFDSGHwWNySYItj+jL/SuYXO\n",
       "cD4+4pK1J1Vncd2KEmzIoaKIoOKhJz4CNRsrNB3FKZyojnX4GIbFJL+a1WaNiLdD06b0QMEuvnNM\n",
       "vFSX8QvMGNjz0g3ifJnO2/3EHH9WoC0rSYHiN3UcemG0C4PwpTxMUclHWuX7AGeTs0+DHVDHEoC7\n",
       "RN65RXs/x2Oqo0lTMfXyDpGHRiYCN1DOmIO6MW6mv6LAucASOgPDHDo7W9lzF6a20LkzxYoaU4iE\n",
       "muho9234CkQK7OpeCHzQ2fkTorEXPpU19i7gdgcR70rop0bxW3wca77ChtBAnqmzOBB6hBk+lcF8\n",
       "DJ40Ds5C3zB14GvQnJQxghyoR10WvZYNl6aiuX25fHO/i5EbWLBIBomXjdMfm91cgFanMaZOZ0nL\n",
       "FwBqZTzv0OlsnWzmz5SdJfHH+yB+LoVj0OtnV+v8apqNY/5HZI1h+TVOlWQhRDs0EWm14YqieYpN\n",
       "o0RjVJ0k3YrxY48S1diAsasR/4hqTHTgr8EAq/ZAeT3wfND897BToDyDpeLZ8CR5D1936VArIMbU\n",
       "CW0hXloZzz90gm19mb4uaexyHHbkwpNEgWdj7Grp52Et0xgMWzV2P1s+nKMNPqKvEzg5BmeohMGf\n",
       "ZerUJaRkvmXV2FCwYNeY/NueeQWKsDAfy5UXEKhe8m4r2QGXPaHaAVlMHdAW4qWV8bxDJ9jWlyll\n",
       "KzQWPALtJX8W/glrXmNXz5BUicja/7NWCIJFY5/SqRLaJ4kcoTcP0UqKXKnJAqzJ0KFoLZ8rdzJB\n",
       "YY5PNPa0PleSbGy91EGUbskj9PXwtdp+Dhk8YiErncM937+htkjdD4lU4Mc5CLqcndUKyGLqgLYQ\n",
       "L62M5x06wba+TClb6YlCyXb1KpnxzGdJ+gnV2FVQkpVCeymSnB1t2UQEV4L/jK3A3xiFWqk6lb6+\n",
       "TgqEG2JPwjuHX31OR7oPfyKpdzAiU2S1bmVnHTCOQj3L0UXy8n+vHBVsJY0FcvYr23klz6YKVYQJ\n",
       "Ebs6G+X/uEgaUxyuXDSmZqsJc18jrI3irLG5y6j+/yt/U02Y6UZYG8VIzkbfm5+hUuUXO7FyI7CN\n",
       "Ipf/AvmN4gkdUwZZAAAAAElFTkSuQmCC\n",
       "\" style=\"display:inline;vertical-align:middle;\" /></a><br>(see <a class=\"ProveItLink\" href=\"../__pv_it/2516529a3f202afa1e8d9fbd1fa94835df3ed1220/dependencies.ipynb\">dependencies</a>)<br>"
      ],
      "text/plain": [
       "disassociation: forall_{l, m, n in Naturals} [forall_{(A, B, C) in BOOLEANS^{l} * BOOLEANS^{m} * BOOLEANS^{n}} ((A_1 or  ...  or A_l or (B_1 or  ...  or B_m) or C_1 or  ...  or C_n) = (A_1 or  ...  or A_l or B_1 or  ...  or B_m or C_1 or  ...  or C_n))]"
      ]
     },
     "execution_count": 2,
     "metadata": {},
     "output_type": "execute_result"
    }
   ],
   "source": [
    "%proving disassociation presuming []"
   ]
  },
  {
   "cell_type": "code",
   "execution_count": null,
   "metadata": {},
   "outputs": [],
   "source": []
  }
 ],
 "metadata": {
  "kernelspec": {
   "display_name": "Python 3",
   "language": "python",
   "name": "python3"
  }
 },
 "nbformat": 4,
 "nbformat_minor": 0
}
