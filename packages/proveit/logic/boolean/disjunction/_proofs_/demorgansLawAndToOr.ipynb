{
 "cells": [
  {
   "cell_type": "markdown",
   "metadata": {},
   "source": [
    "Proof of <a class=\"ProveItLink\" href=\"../../../../_context_.ipynb\">proveit</a>.<a class=\"ProveItLink\" href=\"../../../_context_.ipynb\">logic</a>.<a class=\"ProveItLink\" href=\"../../_context_.ipynb\">boolean</a>.<a class=\"ProveItLink\" href=\"../_context_.ipynb\">disjunction</a>.<a class=\"ProveItLink\" href=\"../_theorems_.ipynb#demorgansLawAndToOr\">demorgansLawAndToOr</a> theorem\n",
    "========"
   ]
  },
  {
   "cell_type": "code",
   "execution_count": 1,
   "metadata": {},
   "outputs": [],
   "source": [
    "import proveit\n",
    "context = proveit.Context('..') # the theorem's context is in the parent directory"
   ]
  },
  {
   "cell_type": "code",
   "execution_count": 2,
   "metadata": {},
   "outputs": [
    {
     "name": "stdout",
     "output_type": "stream",
     "text": [
      "Beginning proof of demorgansLawAndToOr\n",
      "Recorded 'presuming' information\n"
     ]
    },
    {
     "name": "stdout",
     "output_type": "stream",
     "text": [
      "Presuming previous theorems (applied transitively).\n"
     ]
    },
    {
     "data": {
      "text/html": [
       "<strong id=\"demorgansLawAndToOr\">demorgansLawAndToOr:</strong> <a class=\"ProveItLink\" href=\"../__pv_it/e8509b1c4e574ad0c552f8837937e20f7c29c1d60/expr.ipynb\"><img src=\"data:image/png;base64,iVBORw0KGgoAAAANSUhEUgAAAbQAAAAZBAMAAACr78bxAAAAMFBMVEX///8QEBC6urrMzMxUVFRm\n",
       "ZmZERETc3NwyMjKqqqp2dnaIiIiYmJgiIiLu7u4AAAAU9Wx4AAAAAXRSTlMAQObYZgAABVNJREFU\n",
       "WMPdmF+IG0UYwL9kk2yy2WzuLFrqQxOwXIUilwM9z5N6oQe+CNco9kF8MChexQcNWKxUNHnVh3aF\n",
       "9smCh1SrCGmweKj1T9raPrSiUQvFQq8piAraa653vXLa3vjNn92Z3ewlngSlDpvNN99+Ozu/b775\n",
       "ZnYBOpfY+bNwM5bw+XPdTFJws5Yd/2e0Zle05r/ao038T1ta5X1jtpSPcbQG/TvdCa2LRW+LlhfP\n",
       "/WOVN16YknI0x9Dep/LuTmhdLHpb4iJGDi24qixDbjf16A2SVy5VGNqLeNaLndC6WPS2HBGDR264\n",
       "qnFFrxaPfow0lEunGBp1U9TuhNbFordlvRi8Q8RVDdPTTLupR/86aSmXLjI08+DOna90TCNdLHq7\n",
       "HFX4/+ch4maveAkgUQiIXUWfbGSW1dXYZsl/cXLyXOfk38lCxxn7Qps2sbJxe7HZIRIATwb6fJxk\n",
       "3cYKHKPtIYq+nNtzRblkFBgahuz2zmiuxaAt568ou7AfMjeFRcrWpgIb2yXFQRnho+wQI1HnXi9E\n",
       "CUoan+EzIvj8RdE/DU9cV6krDG0DWBXvLSPbsslbmxLNtcjwHqspBeWYrIWclP12IJpyY0bCG1l6\n",
       "iAa4cBSSpADaow0ntWxZIeUIvdkHX15V47qPoaUgWZdK66NtdbNYhaoyao5FNFP09zBRA3hTVh9e\n",
       "FMKvtMtqNwxh7AReRjaCfnOdm2Zo1hKECRokGqIPfueDT3/ZhsFFdXVsMbRkPaXsN6Y3zjbN01EP\n",
       "mmNx11t9frRYSQ3n8I9zQorgrNqseIxVYnLCOE05WXzcgxaZ68/QZC7QorZRD0KT+q39/cpq4aJZ\n",
       "lbtxRB/fdCA5nQOTZhzzvntrKhqzwPJ9edmPFsKf7GRqo5PXkjhAz6muppWQrDpNOYHlLE8hNgXf\n",
       "eGD2F5rMBZpeCd7JuvrEmtnZMq4WJz78NH/kKRmQsB0D9vfBeipv5iHOIjdXPa6iMQuadtJX/Ggj\n",
       "6CFJ8A7QvDZB285jKvlacSOtjCgZLK0ktA3s4FFAh8FaRzdO11w0GBfbPOo3yxEU/UV0SIqUrGPX\n",
       "4Qx8RQl4GoF92MCrH0M6hylzlKMZxoSKto89YqgZ/1OiGZOTk8/QLiEFl0FbD3tqMLoWGG+sGVcC\n",
       "l1bQ+F20rChNOf4ZUbI27KAPeH5Jog3zhdmiMXe5IQSp1x+kTyC2/lsF5tG/bvKHEJ3dD8EQxG3Y\n",
       "jI+umTn9mxkVjVnAd/2ZBe+oxWAvPj8vZEhhxGPlLEe7B0yZ4Fllr5sn3ab8aGHseJpgWG8lZN5F\n",
       "i/OF2bqNjlBRCFJPyDJECCG5SE3rg9fohSxHM+nwroFpKIfhJz5qcMcXKhqzMPJg3vCjDWBvig7a\n",
       "AYBvGxwNlRNq5LLKgIPGmzIf+2zLCUo/AM4lgLWeRVmgaSu8V/n1oVyyqLeyzkZLzMgWjttJAyIl\n",
       "jmZW215Fh5q4afWjXUIXNoSM8QhjLY5mTmno0U/gpaa+G0+8cslB400lpuGWcIFvZk+pG9s2tL9b\n",
       "yhCpmUVcMT9Q0NDLP8DwQbCexMqdeMr70VIYa0fJOg+aBnRVmBHyhQUwM3M2Q4tmI02KO1bSruGJ\n",
       "V8Qik3OaGrcaBh21R9jhfalh/n7vam1VaAOQymnPlvhy1/YBATNCrdsHBCVDJm06HN5C0eKg0765\n",
       "nWS/pO/1oZEopEz+duVmWT3fg002i71/9G1EQbNQ/tl79f7bbc8OxWvsqRp27DDbpCj7lJd7gHYY\n",
       "eoAG+7FrAVuFYN/vD/YxO/6DL1oB3yHVfmPKgeNtFkZwSjMDX2qq4G7revkd8sxfAlGE+6HSEPYA\n",
       "AAAASUVORK5CYII=\n",
       "\" style=\"display:inline;vertical-align:middle;\" /></a><br>(see <a class=\"ProveItLink\" href=\"../__pv_it/e8509b1c4e574ad0c552f8837937e20f7c29c1d60/dependencies.ipynb\">dependencies</a>)<br>"
      ],
      "text/plain": [
       "demorgansLawAndToOr: forall_{m in Naturals} [forall_{A | [not]([not](A_1) and  ...  and [not](A_m))} (A_1 or  ...  or A_m)]"
      ]
     },
     "execution_count": 2,
     "metadata": {},
     "output_type": "execute_result"
    }
   ],
   "source": [
    "%proving demorgansLawAndToOr presuming []"
   ]
  },
  {
   "cell_type": "code",
   "execution_count": null,
   "metadata": {},
   "outputs": [],
   "source": []
  }
 ],
 "metadata": {
  "kernelspec": {
   "display_name": "Python 3",
   "language": "python",
   "name": "python3"
  }
 },
 "nbformat": 4,
 "nbformat_minor": 0
}
