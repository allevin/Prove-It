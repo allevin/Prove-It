{
 "cells": [
  {
   "cell_type": "markdown",
   "metadata": {
    "collapsed": true,
    "deletable": true,
    "editable": true
   },
   "source": [
    "Proof of <a class=\"ProveItLink\" href=\"../../../../_context_.ipynb\">proveit</a>.<a class=\"ProveItLink\" href=\"../../../_context_.ipynb\">logic</a>.<a class=\"ProveItLink\" href=\"../../_context_.ipynb\">boolean</a>.<a class=\"ProveItLink\" href=\"../_context_.ipynb\">disjunction</a>.<a href=\"../_theorems_.ipynb#notLeftIfNeither\" class=\"ProveItLink\">notLeftIfNeither</a> theorem\n",
    "========"
   ]
  },
  {
   "cell_type": "code",
   "execution_count": 1,
   "metadata": {
    "collapsed": false,
    "deletable": true,
    "editable": true
   },
   "outputs": [],
   "source": [
    "import proveit\n",
    "from proveit import defaults\n",
    "from proveit._common_ import A, B\n",
    "from proveit.logic import inBool, Not, Or\n",
    "context = proveit.Context('..') # the theorem's context is in the parent directory"
   ]
  },
  {
   "cell_type": "code",
   "execution_count": 2,
   "metadata": {
    "collapsed": false,
    "deletable": true,
    "editable": true
   },
   "outputs": [
    {
     "name": "stdout",
     "output_type": "stream",
     "text": [
      "Beginning proof of notLeftIfNeither\n",
      "Recorded 'presuming' information\n"
     ]
    },
    {
     "name": "stdout",
     "output_type": "stream",
     "text": [
      "Presuming proveit.logic.boolean.disjunction.singularConstructiveDilemma, proveit.logic.boolean.fromExcludedMiddle, proveit.logic.boolean.inBoolIfFalse, proveit.logic.boolean.inBoolIfTrue, proveit.logic.boolean.negation.operandInBool theorem(s) (and any of their dependencies).\n",
      "Presuming previous theorem(s) in this context (and any of their dependencies).\n"
     ]
    },
    {
     "data": {
      "text/html": [
       "<strong id=\"notLeftIfNeither\">notLeftIfNeither:</strong> <a class=\"ProveItLink\" href=\"../__pv_it/741e45a4289586be1ec81ab36b504c60301d5f4d0/expr.ipynb\"><img src=\"../__pv_it/741e45a4289586be1ec81ab36b504c60301d5f4d0/expr.png\" style=\"display:inline;vertical-align:middle;\" /></a><br>(see <a class=\"ProveItLink\" href=\"../__pv_it/741e45a4289586be1ec81ab36b504c60301d5f4d0/dependencies.ipynb\">dependencies</a>)<br>"
      ],
      "text/plain": [
       "notLeftIfNeither: forall_{A, B | [not](A or B)} [not](A)"
      ]
     },
     "execution_count": 2,
     "metadata": {},
     "output_type": "execute_result"
    }
   ],
   "source": [
    "%proving notLeftIfNeither presuming [proveit.logic.boolean.inBoolIfTrue, proveit.logic.boolean.negation.operandInBool]"
   ]
  },
  {
   "cell_type": "code",
   "execution_count": 3,
   "metadata": {
    "collapsed": false,
    "deletable": true,
    "editable": true
   },
   "outputs": [
    {
     "data": {
      "text/html": [
       "<strong id=\"defaults.assumptions\">defaults.assumptions:</strong> <a class=\"ProveItLink\" href=\"../__pv_it/9e5faaea18c8d83e0190c9b6b84ca6c8836d525c0/expr.ipynb\"><img src=\"../__pv_it/9e5faaea18c8d83e0190c9b6b84ca6c8836d525c0/expr.png\" style=\"display:inline;vertical-align:middle;\" /></a><br>"
      ],
      "text/plain": [
       "defaults.assumptions: ([not](A or B))"
      ]
     },
     "execution_count": 3,
     "metadata": {},
     "output_type": "execute_result"
    }
   ],
   "source": [
    "defaults.assumptions = notLeftIfNeither.conditions"
   ]
  },
  {
   "cell_type": "code",
   "execution_count": 4,
   "metadata": {
    "collapsed": false,
    "deletable": true,
    "editable": true,
    "scrolled": false
   },
   "outputs": [
    {
     "data": {
      "text/html": [
       "<strong id=\"AorB_given_A\">AorB_given_A:</strong> <span style=\"font-size:20px;\"><a class=\"ProveItLink\" href=\"../__pv_it/0b103beda05b272006530169e835021edc2e3b990/expr.ipynb\"><img src=\"../__pv_it/0b103beda05b272006530169e835021edc2e3b990/expr.png\" style=\"display:inline;vertical-align:middle;\" /></a> &#x22A2;&nbsp;<a class=\"ProveItLink\" href=\"../__pv_it/6b085089c20090840d052459f8893dc577d9cac10/expr.ipynb\"><img src=\"../__pv_it/6b085089c20090840d052459f8893dc577d9cac10/expr.png\" style=\"display:inline;vertical-align:middle;\" /></a></span><br>"
      ],
      "text/plain": [
       "AorB_given_A: {[not](A or B) , A} |= A or B"
      ]
     },
     "execution_count": 4,
     "metadata": {},
     "output_type": "execute_result"
    }
   ],
   "source": [
    "AorB_given_A = Or(A, B).concludeViaExample(A, defaults.assumptions + (A,))"
   ]
  },
  {
   "cell_type": "code",
   "execution_count": 5,
   "metadata": {
    "collapsed": false,
    "deletable": true,
    "editable": true
   },
   "outputs": [
    {
     "data": {
      "text/html": [
       "<strong id=\"A_impl_AorB\">A_impl_AorB:</strong> <span style=\"font-size:20px;\"><a class=\"ProveItLink\" href=\"../__pv_it/54a6219934e421fe7ecd877fc0b7fe35c400aefa0/expr.ipynb\"><img src=\"../__pv_it/54a6219934e421fe7ecd877fc0b7fe35c400aefa0/expr.png\" style=\"display:inline;vertical-align:middle;\" /></a> &#x22A2;&nbsp;<a class=\"ProveItLink\" href=\"../__pv_it/f9722f40d44b24f5ae5c5660871aaf1cc132ca800/expr.ipynb\"><img src=\"../__pv_it/f9722f40d44b24f5ae5c5660871aaf1cc132ca800/expr.png\" style=\"display:inline;vertical-align:middle;\" /></a></span><br>"
      ],
      "text/plain": [
       "A_impl_AorB: {[not](A or B)} |= A => (A or B)"
      ]
     },
     "execution_count": 5,
     "metadata": {},
     "output_type": "execute_result"
    }
   ],
   "source": [
    "A_impl_AorB = AorB_given_A.asImplication(A)"
   ]
  },
  {
   "cell_type": "code",
   "execution_count": 6,
   "metadata": {
    "collapsed": false,
    "deletable": true,
    "editable": true
   },
   "outputs": [
    {
     "data": {
      "text/html": [
       "<span style=\"font-size:20px;\"><a class=\"ProveItLink\" href=\"../__pv_it/54a6219934e421fe7ecd877fc0b7fe35c400aefa0/expr.ipynb\"><img src=\"../__pv_it/54a6219934e421fe7ecd877fc0b7fe35c400aefa0/expr.png\" style=\"display:inline;vertical-align:middle;\" /></a> &#x22A2;&nbsp;<a class=\"ProveItLink\" href=\"../__pv_it/feaa1d0e6d92ad9ead8e5ffd1f92697e3912387a0/expr.ipynb\"><img src=\"../__pv_it/feaa1d0e6d92ad9ead8e5ffd1f92697e3912387a0/expr.png\" style=\"display:inline;vertical-align:middle;\" /></a></span>"
      ],
      "text/plain": [
       "{[not](A or B)} |= [not](A)"
      ]
     },
     "execution_count": 6,
     "metadata": {},
     "output_type": "execute_result"
    }
   ],
   "source": [
    "A_impl_AorB.denyAntecedent()"
   ]
  },
  {
   "cell_type": "code",
   "execution_count": 7,
   "metadata": {
    "collapsed": false,
    "deletable": true,
    "editable": true,
    "scrolled": false
   },
   "outputs": [
    {
     "data": {
      "text/html": [
       "<table><tr><th>&nbsp;</th><th>step type</th><th>requirements</th><th>statement</th></tr>\n",
       "<tr><td>0</td><td>generalizaton</td><td>1</td><td><span style=\"font-size:20px;\"> &#x22A2;&nbsp;<a class=\"ProveItLink\" href=\"../__pv_it/741e45a4289586be1ec81ab36b504c60301d5f4d0/expr.ipynb\"><img src=\"../__pv_it/741e45a4289586be1ec81ab36b504c60301d5f4d0/expr.png\" style=\"display:inline;vertical-align:middle;\" /></a></span></td></tr>\n",
       "<tr><td>1</td><td>specialization</td><td>2, 6, 3, 15</td><td><span style=\"font-size:20px;\"><a class=\"ProveItLink\" href=\"../__pv_it/54a6219934e421fe7ecd877fc0b7fe35c400aefa0/expr.ipynb\"><img src=\"../__pv_it/54a6219934e421fe7ecd877fc0b7fe35c400aefa0/expr.png\" style=\"display:inline;vertical-align:middle;\" /></a> &#x22A2;&nbsp;<a class=\"ProveItLink\" href=\"../__pv_it/feaa1d0e6d92ad9ead8e5ffd1f92697e3912387a0/expr.ipynb\"><img src=\"../__pv_it/feaa1d0e6d92ad9ead8e5ffd1f92697e3912387a0/expr.png\" style=\"display:inline;vertical-align:middle;\" /></a></span></td></tr>\n",
       "<tr><td>&nbsp;</td><td colspan=4 style=\"text-align:left\"><span style=\"font-size:20px;\"><a class=\"ProveItLink\" href=\"../__pv_it/5fa8df6a7435f1eec38081ed73bf5e7109f10f640/expr.ipynb\"><img src=\"../__pv_it/5fa8df6a7435f1eec38081ed73bf5e7109f10f640/expr.png\" style=\"display:inline;vertical-align:middle;\" /></a>, <a class=\"ProveItLink\" href=\"../__pv_it/f5ef96fe5f0ae52dfe2f410a4c070576caee85440/expr.ipynb\"><img src=\"../__pv_it/f5ef96fe5f0ae52dfe2f410a4c070576caee85440/expr.png\" style=\"display:inline;vertical-align:middle;\" /></a></span></td></tr><tr><td>2</td><td>theorem</td><td></td><td><span style=\"font-size:20px;\"> &#x22A2;&nbsp;<a class=\"ProveItLink\" href=\"../../implication/__pv_it/3a086ae5519244c4c9f08e08c26d47f1579fa2480/expr.ipynb\"><img src=\"../../implication/__pv_it/3a086ae5519244c4c9f08e08c26d47f1579fa2480/expr.png\" style=\"display:inline;vertical-align:middle;\" /></a></span></td></tr>\n",
       "<tr><td>&nbsp;</td><td colspan=4 style-\"text-align:left\"><a class=\"ProveItLink\" href=\"../../implication/_proofs_/modusTollensDenial.ipynb\">proveit.logic.boolean.implication.modusTollensDenial</a></td></tr><tr><td>3</td><td>hypothetical reasoning</td><td>4</td><td><span style=\"font-size:20px;\"><a class=\"ProveItLink\" href=\"../__pv_it/54a6219934e421fe7ecd877fc0b7fe35c400aefa0/expr.ipynb\"><img src=\"../__pv_it/54a6219934e421fe7ecd877fc0b7fe35c400aefa0/expr.png\" style=\"display:inline;vertical-align:middle;\" /></a> &#x22A2;&nbsp;<a class=\"ProveItLink\" href=\"../__pv_it/f9722f40d44b24f5ae5c5660871aaf1cc132ca800/expr.ipynb\"><img src=\"../__pv_it/f9722f40d44b24f5ae5c5660871aaf1cc132ca800/expr.png\" style=\"display:inline;vertical-align:middle;\" /></a></span></td></tr>\n",
       "<tr><td>4</td><td>specialization</td><td>5, 6, 7, 8</td><td><span style=\"font-size:20px;\"><a class=\"ProveItLink\" href=\"../__pv_it/0b103beda05b272006530169e835021edc2e3b990/expr.ipynb\"><img src=\"../__pv_it/0b103beda05b272006530169e835021edc2e3b990/expr.png\" style=\"display:inline;vertical-align:middle;\" /></a> &#x22A2;&nbsp;<a class=\"ProveItLink\" href=\"../__pv_it/6b085089c20090840d052459f8893dc577d9cac10/expr.ipynb\"><img src=\"../__pv_it/6b085089c20090840d052459f8893dc577d9cac10/expr.png\" style=\"display:inline;vertical-align:middle;\" /></a></span></td></tr>\n",
       "<tr><td>&nbsp;</td><td colspan=4 style=\"text-align:left\"><span style=\"font-size:20px;\"><a class=\"ProveItLink\" href=\"../__pv_it/e2ee195baea449ecf67452694c66cbd67b2c19580/expr.ipynb\"><img src=\"../__pv_it/e2ee195baea449ecf67452694c66cbd67b2c19580/expr.png\" style=\"display:inline;vertical-align:middle;\" /></a>, <a class=\"ProveItLink\" href=\"../__pv_it/3da54a39405853797ebcbd9cbd4fe26001295deb0/expr.ipynb\"><img src=\"../__pv_it/3da54a39405853797ebcbd9cbd4fe26001295deb0/expr.png\" style=\"display:inline;vertical-align:middle;\" /></a></span></td></tr><tr><td>5</td><td>theorem</td><td></td><td><span style=\"font-size:20px;\"> &#x22A2;&nbsp;<a class=\"ProveItLink\" href=\"../__pv_it/7814f69cf23c6763d566ff710ff6eca304bc89230/expr.ipynb\"><img src=\"../__pv_it/7814f69cf23c6763d566ff710ff6eca304bc89230/expr.png\" style=\"display:inline;vertical-align:middle;\" /></a></span></td></tr>\n",
       "<tr><td>&nbsp;</td><td colspan=4 style-\"text-align:left\"><a class=\"ProveItLink\" href=\"orIfLeft.ipynb\">proveit.logic.boolean.disjunction.orIfLeft</a></td></tr><tr><td>6</td><td>specialization</td><td>9, 11</td><td><span style=\"font-size:20px;\"><a class=\"ProveItLink\" href=\"../__pv_it/54a6219934e421fe7ecd877fc0b7fe35c400aefa0/expr.ipynb\"><img src=\"../__pv_it/54a6219934e421fe7ecd877fc0b7fe35c400aefa0/expr.png\" style=\"display:inline;vertical-align:middle;\" /></a> &#x22A2;&nbsp;<a class=\"ProveItLink\" href=\"../__pv_it/03a5c2b5cc6fc2c3cd686b4bcf84379b893abe210/expr.ipynb\"><img src=\"../__pv_it/03a5c2b5cc6fc2c3cd686b4bcf84379b893abe210/expr.png\" style=\"display:inline;vertical-align:middle;\" /></a></span></td></tr>\n",
       "<tr><td>&nbsp;</td><td colspan=4 style=\"text-align:left\"><span style=\"font-size:20px;\"><a class=\"ProveItLink\" href=\"../__pv_it/e2ee195baea449ecf67452694c66cbd67b2c19580/expr.ipynb\"><img src=\"../__pv_it/e2ee195baea449ecf67452694c66cbd67b2c19580/expr.png\" style=\"display:inline;vertical-align:middle;\" /></a>, <a class=\"ProveItLink\" href=\"../__pv_it/3da54a39405853797ebcbd9cbd4fe26001295deb0/expr.ipynb\"><img src=\"../__pv_it/3da54a39405853797ebcbd9cbd4fe26001295deb0/expr.png\" style=\"display:inline;vertical-align:middle;\" /></a></span></td></tr><tr><td>7</td><td>specialization</td><td>10, 11</td><td><span style=\"font-size:20px;\"><a class=\"ProveItLink\" href=\"../__pv_it/54a6219934e421fe7ecd877fc0b7fe35c400aefa0/expr.ipynb\"><img src=\"../__pv_it/54a6219934e421fe7ecd877fc0b7fe35c400aefa0/expr.png\" style=\"display:inline;vertical-align:middle;\" /></a> &#x22A2;&nbsp;<a class=\"ProveItLink\" href=\"../__pv_it/fe5c91c77f0659f9ea07a2e3257797875d6868370/expr.ipynb\"><img src=\"../__pv_it/fe5c91c77f0659f9ea07a2e3257797875d6868370/expr.png\" style=\"display:inline;vertical-align:middle;\" /></a></span></td></tr>\n",
       "<tr><td>&nbsp;</td><td colspan=4 style=\"text-align:left\"><span style=\"font-size:20px;\"><a class=\"ProveItLink\" href=\"../__pv_it/e2ee195baea449ecf67452694c66cbd67b2c19580/expr.ipynb\"><img src=\"../__pv_it/e2ee195baea449ecf67452694c66cbd67b2c19580/expr.png\" style=\"display:inline;vertical-align:middle;\" /></a>, <a class=\"ProveItLink\" href=\"../__pv_it/3da54a39405853797ebcbd9cbd4fe26001295deb0/expr.ipynb\"><img src=\"../__pv_it/3da54a39405853797ebcbd9cbd4fe26001295deb0/expr.png\" style=\"display:inline;vertical-align:middle;\" /></a></span></td></tr><tr><td>8</td><td>assumption</td><td></td><td><span style=\"font-size:20px;\"><a class=\"ProveItLink\" href=\"../__pv_it/158bdc91074824c720728a23dba5d58593c8cc480/expr.ipynb\"><img src=\"../__pv_it/158bdc91074824c720728a23dba5d58593c8cc480/expr.png\" style=\"display:inline;vertical-align:middle;\" /></a> &#x22A2;&nbsp;<a class=\"ProveItLink\" href=\"../../../../__pv_it/2cbe72a7ad6f655694dd697106680215e8489b600/expr.ipynb\"><img src=\"../../../../__pv_it/2cbe72a7ad6f655694dd697106680215e8489b600/expr.png\" style=\"display:inline;vertical-align:middle;\" /></a></span></td></tr>\n",
       "<tr><td>9</td><td>axiom</td><td></td><td><span style=\"font-size:20px;\"> &#x22A2;&nbsp;<a class=\"ProveItLink\" href=\"../__pv_it/bde50ad9e36b4ffca0348858851f2ab49dd462d80/expr.ipynb\"><img src=\"../__pv_it/bde50ad9e36b4ffca0348858851f2ab49dd462d80/expr.png\" style=\"display:inline;vertical-align:middle;\" /></a></span></td></tr>\n",
       "<tr><td>&nbsp;</td><td colspan=4 style-\"text-align:left\"><a class=\"ProveItLink\" href=\"../_axioms_.ipynb#leftInBool\">proveit.logic.boolean.disjunction.leftInBool</a></td></tr><tr><td>10</td><td>axiom</td><td></td><td><span style=\"font-size:20px;\"> &#x22A2;&nbsp;<a class=\"ProveItLink\" href=\"../__pv_it/30c52e2f6bddaee0007f0657eafd92263e83474d0/expr.ipynb\"><img src=\"../__pv_it/30c52e2f6bddaee0007f0657eafd92263e83474d0/expr.png\" style=\"display:inline;vertical-align:middle;\" /></a></span></td></tr>\n",
       "<tr><td>&nbsp;</td><td colspan=4 style-\"text-align:left\"><a class=\"ProveItLink\" href=\"../_axioms_.ipynb#rightInBool\">proveit.logic.boolean.disjunction.rightInBool</a></td></tr><tr><td>11</td><td>specialization</td><td>12, 13</td><td><span style=\"font-size:20px;\"><a class=\"ProveItLink\" href=\"../__pv_it/54a6219934e421fe7ecd877fc0b7fe35c400aefa0/expr.ipynb\"><img src=\"../__pv_it/54a6219934e421fe7ecd877fc0b7fe35c400aefa0/expr.png\" style=\"display:inline;vertical-align:middle;\" /></a> &#x22A2;&nbsp;<a class=\"ProveItLink\" href=\"../__pv_it/12b3a0266bf45bf38a05a65053437e478a9644610/expr.ipynb\"><img src=\"../__pv_it/12b3a0266bf45bf38a05a65053437e478a9644610/expr.png\" style=\"display:inline;vertical-align:middle;\" /></a></span></td></tr>\n",
       "<tr><td>&nbsp;</td><td colspan=4 style=\"text-align:left\"><span style=\"font-size:20px;\"><a class=\"ProveItLink\" href=\"../__pv_it/923cf280a6ba65dcae789b6f0a02f4f36e43ecb80/expr.ipynb\"><img src=\"../__pv_it/923cf280a6ba65dcae789b6f0a02f4f36e43ecb80/expr.png\" style=\"display:inline;vertical-align:middle;\" /></a></span></td></tr><tr><td>12</td><td>theorem</td><td></td><td><span style=\"font-size:20px;\"> &#x22A2;&nbsp;<a class=\"ProveItLink\" href=\"../../negation/__pv_it/294c6dd568d6c3853f62a73ced27c0d7eb193a080/expr.ipynb\"><img src=\"../../negation/__pv_it/294c6dd568d6c3853f62a73ced27c0d7eb193a080/expr.png\" style=\"display:inline;vertical-align:middle;\" /></a></span></td></tr>\n",
       "<tr><td>&nbsp;</td><td colspan=4 style-\"text-align:left\"><a class=\"ProveItLink\" href=\"../../negation/_proofs_/operandInBool.ipynb\">proveit.logic.boolean.negation.operandInBool</a></td></tr><tr><td>13</td><td>specialization</td><td>14, 15</td><td><span style=\"font-size:20px;\"><a class=\"ProveItLink\" href=\"../__pv_it/54a6219934e421fe7ecd877fc0b7fe35c400aefa0/expr.ipynb\"><img src=\"../__pv_it/54a6219934e421fe7ecd877fc0b7fe35c400aefa0/expr.png\" style=\"display:inline;vertical-align:middle;\" /></a> &#x22A2;&nbsp;<a class=\"ProveItLink\" href=\"../__pv_it/33c5fdd7dbd22b3c23ac1f3db4cb43d012ef14880/expr.ipynb\"><img src=\"../__pv_it/33c5fdd7dbd22b3c23ac1f3db4cb43d012ef14880/expr.png\" style=\"display:inline;vertical-align:middle;\" /></a></span></td></tr>\n",
       "<tr><td>&nbsp;</td><td colspan=4 style=\"text-align:left\"><span style=\"font-size:20px;\"><a class=\"ProveItLink\" href=\"../__pv_it/0e1e989fb3244cb125254806abf31726a28c684c0/expr.ipynb\"><img src=\"../__pv_it/0e1e989fb3244cb125254806abf31726a28c684c0/expr.png\" style=\"display:inline;vertical-align:middle;\" /></a></span></td></tr><tr><td>14</td><td>theorem</td><td></td><td><span style=\"font-size:20px;\"> &#x22A2;&nbsp;<a class=\"ProveItLink\" href=\"../../__pv_it/cea60384d98dcd1f1843cfa91aaf2df1f412afdf0/expr.ipynb\"><img src=\"../../__pv_it/cea60384d98dcd1f1843cfa91aaf2df1f412afdf0/expr.png\" style=\"display:inline;vertical-align:middle;\" /></a></span></td></tr>\n",
       "<tr><td>&nbsp;</td><td colspan=4 style-\"text-align:left\"><a class=\"ProveItLink\" href=\"../../_proofs_/inBoolIfTrue.ipynb\">proveit.logic.boolean.inBoolIfTrue</a></td></tr><tr><td>15</td><td>assumption</td><td></td><td><span style=\"font-size:20px;\"><a class=\"ProveItLink\" href=\"../__pv_it/54a6219934e421fe7ecd877fc0b7fe35c400aefa0/expr.ipynb\"><img src=\"../__pv_it/54a6219934e421fe7ecd877fc0b7fe35c400aefa0/expr.png\" style=\"display:inline;vertical-align:middle;\" /></a> &#x22A2;&nbsp;<a class=\"ProveItLink\" href=\"../__pv_it/2867c872b27df7db874b5973e2979fa732864a3b0/expr.ipynb\"><img src=\"../__pv_it/2867c872b27df7db874b5973e2979fa732864a3b0/expr.png\" style=\"display:inline;vertical-align:middle;\" /></a></span></td></tr>\n",
       "</table>"
      ],
      "text/plain": [
       "\tstep type\trequirements\tstatement\n",
       "0\tgeneralizaton\t1\t|= forall_{A, B | [not](A or B)} [not](A)\n",
       "1\tspecialization\t2, 6, 3, 15\t{[not](A or B)} |= [not](A)\n",
       "\t{A -> A}, {B -> (A or B)}\n",
       "2\ttheorem\t\t|= forall_{A in BOOLEANS} [forall_{B | A => B , [not](B)} [not](A)]\n",
       "\tproveit.logic.boolean.implication.modusTollensDenial\n",
       "3\thypothetical reasoning\t4\t{[not](A or B)} |= A => (A or B)\n",
       "4\tspecialization\t5, 6, 7, 8\t{[not](A or B) , A} |= A or B\n",
       "\tA -> A, B -> B\n",
       "5\ttheorem\t\t|= forall_{A, B in BOOLEANS | A} (A or B)\n",
       "\tproveit.logic.boolean.disjunction.orIfLeft\n",
       "6\tspecialization\t9, 11\t{[not](A or B)} |= A in BOOLEANS\n",
       "\tA -> A, B -> B\n",
       "7\tspecialization\t10, 11\t{[not](A or B)} |= B in BOOLEANS\n",
       "\tA -> A, B -> B\n",
       "8\tassumption\t\t{A} |= A\n",
       "9\taxiom\t\t|= forall_{A, B | (A or B) in BOOLEANS} (A in BOOLEANS)\n",
       "\tproveit.logic.boolean.disjunction.leftInBool\n",
       "10\taxiom\t\t|= forall_{A, B | (A or B) in BOOLEANS} (B in BOOLEANS)\n",
       "\tproveit.logic.boolean.disjunction.rightInBool\n",
       "11\tspecialization\t12, 13\t{[not](A or B)} |= (A or B) in BOOLEANS\n",
       "\tA -> (A or B)\n",
       "12\ttheorem\t\t|= forall_{A | [not](A) in BOOLEANS} (A in BOOLEANS)\n",
       "\tproveit.logic.boolean.negation.operandInBool\n",
       "13\tspecialization\t14, 15\t{[not](A or B)} |= [not](A or B) in BOOLEANS\n",
       "\tA -> [not](A or B)\n",
       "14\ttheorem\t\t|= forall_{A | A} (A in BOOLEANS)\n",
       "\tproveit.logic.boolean.inBoolIfTrue\n",
       "15\tassumption\t\t{[not](A or B)} |= [not](A or B)"
      ]
     },
     "execution_count": 7,
     "metadata": {},
     "output_type": "execute_result"
    }
   ],
   "source": [
    "%qed"
   ]
  },
  {
   "cell_type": "code",
   "execution_count": 8,
   "metadata": {
    "collapsed": true,
    "deletable": true,
    "editable": true
   },
   "outputs": [],
   "source": []
  }
 ],
 "metadata": {
  "kernelspec": {
   "display_name": "Python 3",
   "language": "python",
   "name": "python3"
  },
  "language_info": {
   "codemirror_mode": {
    "name": "ipython",
    "version": 3
   },
   "file_extension": ".py",
   "mimetype": "text/x-python",
   "name": "python",
   "nbconvert_exporter": "python",
   "pygments_lexer": "ipython3",
   "version": "3.7.0"
  }
 },
 "nbformat": 4,
 "nbformat_minor": 0
}
