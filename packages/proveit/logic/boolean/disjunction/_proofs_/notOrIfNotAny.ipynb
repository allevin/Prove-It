{
 "cells": [
  {
   "cell_type": "markdown",
   "metadata": {},
   "source": [
    "Proof of <a class=\"ProveItLink\" href=\"../../../../_context_.ipynb\">proveit</a>.<a class=\"ProveItLink\" href=\"../../../_context_.ipynb\">logic</a>.<a class=\"ProveItLink\" href=\"../../_context_.ipynb\">boolean</a>.<a class=\"ProveItLink\" href=\"../_context_.ipynb\">disjunction</a>.<a href=\"../_theorems_.ipynb#notOrIfNotAny\" class=\"ProveItLink\">notOrIfNotAny</a> theorem\n",
    "========"
   ]
  },
  {
   "cell_type": "code",
   "execution_count": 1,
   "metadata": {},
   "outputs": [],
   "source": [
    "import proveit\n",
    "context = proveit.Context('..') # the theorem's context is in the parent directory"
   ]
  },
  {
   "cell_type": "code",
   "execution_count": 2,
   "metadata": {},
   "outputs": [
    {
     "name": "stdout",
     "output_type": "stream",
     "text": [
      "Beginning proof of notOrIfNotAny\n",
      "Recorded 'presuming' information\n"
     ]
    },
    {
     "name": "stdout",
     "output_type": "stream",
     "text": [
      "Presuming previous theorems (applied transitively).\n"
     ]
    },
    {
     "data": {
      "text/html": [
       "<strong id=\"notOrIfNotAny\">notOrIfNotAny:</strong> <a class=\"ProveItLink\" href=\"../__pv_it/0b1c1b19adde709b328c5164d6271abf28fa00440/expr.ipynb\"><img src=\"data:image/png;base64,iVBORw0KGgoAAAANSUhEUgAAAZQAAAAZBAMAAADkssUhAAAAMFBMVEX///8QEBC6urrMzMxUVFRm\n",
       "ZmZERETc3NwyMjKqqqp2dnaIiIiYmJgiIiLu7u4AAAAU9Wx4AAAAAXRSTlMAQObYZgAABJxJREFU\n",
       "WMPdmE9oHFUcx3/7dzazbyZJi0o9dBcUKxTJBDTR+idLA17EGg891B5cFLciFvawtEXRnYsERZq5\n",
       "5Cj2UC2ihMViECu6VuvBgq5aEAtpt+BBUNJtbCvWNOP7O/ObncmsIzm0/uA38+bN+759n/d+788s\n",
       "QLzll36Cm8HSS2cHFTHgZrHG/wmlOxClu6GB0EIP28VtyklYCRaclE5ROux2Og5lQIlkdi9KZyri\n",
       "fv5IwkqwIGcJpyjvsefDcSgDSiQzXE9BjLfuVrysMkcMjyW/WvIJCwBs6Q04QK9aNQ5lQIlEVsTx\n",
       "dUKGi9vxsqZRPrKshbVYAPCN9AbvmpwThzKgRCJL4Ym3VdzecHte1gS7nAvJMqwnDaXFAoAL0htA\n",
       "jh08+ErstB9QIpHdjaPGFgPVKa35MVcHGJoJ62apz6uRxQK68znC6WJ8tVY7G78Yx5dIZE+hdE5M\n",
       "3qY1t+LlMQyG02/zEickoDNnRniDh+e+eBSvxJiDJqHXuX/FtX0sGJlv4lnf5rfn4OlVFVo8uCai\n",
       "mtEVQYYEHr0tnKLcCaYd1N2/u1y8peujeCVKoh/zwfC/FodSCi60m+hgLDGj2Sm+XJER+PwKwH2P\n",
       "e0vBzujlIlsWSSnwu3JEeIM1ttj2X5gf7W6T6gIsoFFRJXKlagTKk1djSJRE2QraUoZ52y46MMZq\n",
       "eEv9Xn/HCuvArzKlBN6S0BNOUYptAy0ri9uWu+R0LoCiStzz9kgYJf3zpRgUJVkf5YnRUfe6j5Jz\n",
       "9HZURXvgA5lSgggU06Y7MNm7/Whx0QLCVg/ywGQLo/AS1H5oroVRjG1uzMlGSZRtQSgpNo2GNi8v\n",
       "N10fRbOjT32HQO4lSnDqw08qJ54NBhjso8H5+1jbqJAKFHg0WgtfYhRegi0TwythlHfApb27K5rE\n",
       "kyh7EaHkWfdfoDyGW/dQYFoekVj/mCpBN8mH5AYpBebJVTgDX7HW2sIZyjzlffVjGLbokrZDoOj6\n",
       "Lowyz3tkvFv420fRa7Xa87RNW2GuBTtu62N4l761kcQHl2aJFVR7lNXnOj7KhNggTRZDFzsyQX9n\n",
       "v0BSAu03G/7g1aHFGFKM9zEYh4IDD9MmtIilfXsOo/AS8P1o6XJwVGjCoJFLezjq+6yKJN7cwbOM\n",
       "NtR11yDruq7loRTEBmneykagKhPUXhM3T5BtZUbgdSYoC2cohPFuhkVopuEXMSpwx2cYhZfQK0Cu\n",
       "h1COAnzXWQ9FSMieT3eekttLCm9/gaFUKJl1Zt4j/Ucgq1jVemV8cJGzrUfH5WsdsnWBQhZCn17j\n",
       "dJdy+1FofMFUj6Nos3Coqx1ml1mJIiRDi7ApLQ8j5EjfQTCE8m+tCdkWqdLq3gfhCiVdhR9h4hiY\n",
       "z7CDEr1U+lEMGkdfuFsCKBk4fxlI6ZLDUDKrMFXP/MkuYjO2lGTa7OjO+od8bi/N7U2GchcYVuaF\n",
       "Ot+GTDvqg5jO5tagD+J8OIsFGPGeSN/2NjRjkIgvcK2yAac6Fkc8lv7Tt30Y5cHbaa9Peo+TgZdm\n",
       "VXfyx1XzcUe9vAEox6VvFAq3dkTqhvrHJeJ/sOwN+T/YmX8A2JxhuO/aOQwAAAAASUVORK5CYII=\n",
       "\" style=\"display:inline;vertical-align:middle;\" /></a><br>(see <a class=\"ProveItLink\" href=\"../__pv_it/0b1c1b19adde709b328c5164d6271abf28fa00440/dependencies.ipynb\">dependencies</a>)<br>"
      ],
      "text/plain": [
       "notOrIfNotAny: forall_{m in Naturals} [forall_{A | [not](A_1) ,  ...  , [not](A_m)} [not](A_1 or  ...  or A_m)]"
      ]
     },
     "execution_count": 2,
     "metadata": {},
     "output_type": "execute_result"
    }
   ],
   "source": [
    "%proving notOrIfNotAny presuming []"
   ]
  },
  {
   "cell_type": "code",
   "execution_count": null,
   "metadata": {},
   "outputs": [],
   "source": []
  }
 ],
 "metadata": {
  "kernelspec": {
   "display_name": "Python 3",
   "language": "python",
   "name": "python3"
  }
 },
 "nbformat": 4,
 "nbformat_minor": 0
}
