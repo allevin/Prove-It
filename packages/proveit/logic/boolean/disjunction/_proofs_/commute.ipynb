{
 "cells": [
  {
   "cell_type": "markdown",
   "metadata": {},
   "source": [
    "Proof of <a class=\"ProveItLink\" href=\"../../../../_context_.ipynb\">proveit</a>.<a class=\"ProveItLink\" href=\"../../../_context_.ipynb\">logic</a>.<a class=\"ProveItLink\" href=\"../../_context_.ipynb\">boolean</a>.<a class=\"ProveItLink\" href=\"../_context_.ipynb\">disjunction</a>.<a class=\"ProveItLink\" href=\"../_theorems_.ipynb#commute\">commute</a> theorem\n",
    "========"
   ]
  },
  {
   "cell_type": "code",
   "execution_count": 1,
   "metadata": {},
   "outputs": [],
   "source": [
    "import proveit\n",
    "context = proveit.Context('..') # the theorem's context is in the parent directory"
   ]
  },
  {
   "cell_type": "code",
   "execution_count": 2,
   "metadata": {},
   "outputs": [
    {
     "name": "stdout",
     "output_type": "stream",
     "text": [
      "Beginning proof of commute\n",
      "Recorded 'presuming' information\n"
     ]
    },
    {
     "name": "stdout",
     "output_type": "stream",
     "text": [
      "Presuming previous theorems (applied transitively).\n"
     ]
    },
    {
     "data": {
      "text/html": [
       "<strong id=\"commute\">commute:</strong> <a class=\"ProveItLink\" href=\"../__pv_it/2bb882fddf40241ae83baff6783155dfd52b1ad30/expr.ipynb\"><img src=\"data:image/png;base64,iVBORw0KGgoAAAANSUhEUgAAALMAAAAXBAMAAACyt2M4AAAAMFBMVEX///8QEBC6urrMzMxUVFRm\n",
       "ZmZERETc3NwyMjKqqqp2dnaIiIiYmJgiIiLu7u4AAAAU9Wx4AAAAAXRSTlMAQObYZgAAAuFJREFU\n",
       "SMe1VU1IVFEU/py/18x785QWURtx0aJF5QRiixYOOZjQwlk4BYE0EmmLaN5CkhbSbEoCydnYWoLI\n",
       "CMKoTczCKST6ITTITUWMUO0kcfwrTTvnzL3Ta8QBR7pwzzvvnjnfu+c7370D/L+RrzbRM14p+oLm\n",
       "NDtvq4Buojm5GYtdaiiPeAnTHwEe8MvtKqAlZx+BLNBT4L0qsmeeTBq4Sg8juXNkk/nwrtFcJKeV\n",
       "l7Iq9G6DzBv6BJHtz+wcuoabZK4A1i9ymnnpSzFijNAqZilyv79/oAo+DrEJ1AHheubAAYJxVY/J\n",
       "FAVou8s9PR+rgD7HpjYK4yZvn2EZnsfR4DrZUFxo6pWlQbF3lhJtERGXBtEpCKYSnRf06hCbltPZ\n",
       "rhwUGc3FgN3AHUCQ+ngQdpqXrAWJWHUw66RYDTJVUtdz4LH297KZcGB/gGrhSaV3GEv8YK5gyoe/\n",
       "rUvEH4VnxQ1tn8+B1UCzE2jUJchGuhlessNqg6T3WGyZxUMKNHNhOZGPZiQSHod/2g0dmovjGfU9\n",
       "CnwCuuCGZt1NjcqOMqEiMyzx/QraTjeJ3sd7JPIjgleOG/pEIMm+j2ovwBrU0Ac4hwvtEOUa6bBq\n",
       "CM33ihD0Ckk+taHG7NMrcENHqQizAX3067VsW+nKuaxkbawW31vVZXGN5jD3jPkZkfpfY0JCY9St\n",
       "vAvaypjzsJM4RdSkYdVr6HtK1sfUJdFcPDDCeCpfFB9quEn2TCIliBeJk4wLei5xhs7tXaY6EIf9\n",
       "U0MfIX5Ti7H2IS1ROTBG96qDl5s36J11ZTGk30GLyJlyGyMu6LPwFoDvFEdtBp5C6aA7Zddd2e08\n",
       "W/IOU2bOGISxAWPGxbWH+k7NCk2Sfz2PgbhOsEYrn9aH2vm6DKPjM3V8bCnRnvkLbXck0fc7x+JA\n",
       "aDjReavsUt12aJWXhuXyA/9EnC3JfRWhfeUJx7eF3jqMin9gT8oXcjuA3sXw7RbgD2BesQVTE/sa\n",
       "AAAAAElFTkSuQmCC\n",
       "\" style=\"display:inline;vertical-align:middle;\" /></a><br>(see <a class=\"ProveItLink\" href=\"../__pv_it/2bb882fddf40241ae83baff6783155dfd52b1ad30/dependencies.ipynb\">dependencies</a>)<br>"
      ],
      "text/plain": [
       "commute: forall_{A, B | A or B} (B or A)"
      ]
     },
     "execution_count": 2,
     "metadata": {},
     "output_type": "execute_result"
    }
   ],
   "source": [
    "%proving commute presuming []"
   ]
  },
  {
   "cell_type": "code",
   "execution_count": null,
   "metadata": {},
   "outputs": [],
   "source": []
  }
 ],
 "metadata": {
  "kernelspec": {
   "display_name": "Python 3",
   "language": "python",
   "name": "python3"
  }
 },
 "nbformat": 4,
 "nbformat_minor": 0
}
