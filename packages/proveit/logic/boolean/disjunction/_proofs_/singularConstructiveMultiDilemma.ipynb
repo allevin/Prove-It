{
 "cells": [
  {
   "cell_type": "markdown",
   "metadata": {},
   "source": [
    "Proof of <a class=\"ProveItLink\" href=\"../../../../_context_.ipynb\">proveit</a>.<a class=\"ProveItLink\" href=\"../../../_context_.ipynb\">logic</a>.<a class=\"ProveItLink\" href=\"../../_context_.ipynb\">boolean</a>.<a class=\"ProveItLink\" href=\"../_context_.ipynb\">disjunction</a>.<a class=\"ProveItLink\" href=\"../_theorems_.ipynb#singularConstructiveMultiDilemma\">singularConstructiveMultiDilemma</a> theorem\n",
    "========"
   ]
  },
  {
   "cell_type": "code",
   "execution_count": 1,
   "metadata": {},
   "outputs": [],
   "source": [
    "import proveit\n",
    "context = proveit.Context('..') # the theorem's context is in the parent directory"
   ]
  },
  {
   "cell_type": "code",
   "execution_count": 2,
   "metadata": {},
   "outputs": [
    {
     "name": "stdout",
     "output_type": "stream",
     "text": [
      "Beginning proof of singularConstructiveMultiDilemma\n",
      "Recorded 'presuming' information\n",
      "Presuming previous theorems (applied transitively).\n"
     ]
    },
    {
     "data": {
      "text/html": [
       "<strong id=\"singularConstructiveMultiDilemma\">singularConstructiveMultiDilemma:</strong> <a class=\"ProveItLink\" href=\"../__pv_it/0e5daa318827050f2369ffb3b24527b86a48f0050/expr.ipynb\"><img src=\"data:image/png;base64,iVBORw0KGgoAAAANSUhEUgAAAdQAAAAZBAMAAAB6CMKBAAAAMFBMVEX///8QEBC6urrMzMxUVFRm\n",
       "ZmZERETc3NwyMjKqqqp2dnaIiIiYmJgiIiLu7u4AAAAU9Wx4AAAAAXRSTlMAQObYZgAABOVJREFU\n",
       "WMPlWG+IFGUYf3bn5nZvdmbOSyIU85ZKDCxuDkTLQ1yUoyCQjVzlVGqUWgO/7IfKIDrtQwhCthAX\n",
       "hB9aypIKtoHyKogYyeuLkFuGkWhNUPehteMs8Sqvtud9331n3vlzs9I696UHZvZ93/29v3l+8z7P\n",
       "vH8A4q330reQmCVK7ln60gV6dTAtSR80WCR7qn39b6Q6Hb1xkpTqLKLUBimeifOmA6I7qcmRU2s+\n",
       "XrKf5lLfIS1H47zpgOhOanLkxJQVAKtWcKnP4D1jxnnTAdGd1OTI0fSXMD+UOS41izW5GudNB0R3\n",
       "UpMjR8uuJFPNEi5VPXHgwPOx3nRAdCc1OXK0x8g7zBTdyeZauXwhfj6IR3Q52SRGjiL/oFFsuFK3\n",
       "AOyL98ZFDC0QaWm38Gfco0PdBfLc6M5mhbTlF6b6sFT/KPjkqAdyLnk+sIS4C/RDfuh9pXzuVsfz\n",
       "xkUM1lijeuTIi7a4wOOF1F9xUnl3n1RGLl0E2EPbzAWpNtrQuyTQFvVAl0ubC0jVICe4rZ8s2apZ\n",
       "h7rgDUfIg8SPZmk3WLXmHTB17PQ9Y36pD19jv1b78lVY96BURj6EUfaqTyqn8gbwd4C+IEMIBQJX\n",
       "/yxV5EnN2ZqwZJlcPeOoZ2SfVI6493V8qbm94zMoVbkMx8xUfpVPavq7K6zwCSZKgVPyCu0ekkrJ\n",
       "9eVYGhGlulTE+kjk/4gxIVkB+SIK7TUizeVKUamveFL1Q2sxJHetOZ6bNEAtkvi8f70lSqUItK8P\n",
       "/gMwRQeqtuZR6DF+ZSsAV6q2uuXwhp6KEN60QruHpFJyhTg1I0p1qaiRbH6fgAPrSD8KH1URuXro\n",
       "84rCcn/fZoDLQ7ZWUAuQpalo1D8XpVIEchT7fwOgWWuVbrfxrwlo2KLUt6CFX5WtOFR5YSPRrrDu\n",
       "4eU+Ide8wDQDVHIZ7QWMyfMR2c9QzLYj7smlIpd0nTzWEaRO4Dp0/GPoN5QibGBSFWWr6M0EXakO\n",
       "O9nrINXYqMojMI1jut8QpEor4WULNtyGb9+EB7z0ZxXaPUIqIe+vBaR6VMxKBkR9gChKNPkRkets\n",
       "FdI7xE1ciqAfgmHIVmEjvhpLNTJffi96QxHw1cDgVZDOl8v7Sa4q4S+wNjDQwqQk2+03vFTlFdo9\n",
       "QiohT6F7uiVIFaiordsBJAWbgf4MJYp/oiJwSQ+Ojvn2qyoZ4qUwCQfT8BMbVbjzM9EbilAKoP4N\n",
       "eoGNapTU4/geG8y/abni/U0rrLs69unmqSoEyWWzHWlcqkeVK6Ftw4Tbjs11v1SGas8EJwlw1McV\n",
       "uTXPzOK4fqGw7wdKVeuh3fOwA1ILWGBiAD8XkorhBJtmmVTlNHIehWcdvNFKu3vfJNySLoa25voy\n",
       "gDeFABao9Bm098gXuAqKkTnMOPF2mKPaMwHB/WL5uCKlpk04B+tOgL4XK3fjrRD0RsNQOdVaBtN5\n",
       "uoQoh5cQP1wFdfBKlUrVcRKU5mBTBW+0wrtv0RtKNXwK8fPou44gVaQiyok3+raddZDmGSfe5jnK\n",
       "mwlgrZ8r/sBFwVyNPxN5G3M1eBzmq1H/KmKLUGn0FTU17sDFDFFhfHiuq+GSNxPAeOJnSz6pI8tj\n",
       "9mS6qVR7P7hRqRFU68MlbyZYhGO03pt4jNZhm25HlG7WieGNHNX2/FepEeSFJM6BvyHXv4NVolrD\n",
       "nGNGAAAAAElFTkSuQmCC\n",
       "\" style=\"display:inline;vertical-align:middle;\" /></a><br>(see <a class=\"ProveItLink\" href=\"../__pv_it/0e5daa318827050f2369ffb3b24527b86a48f0050/dependencies.ipynb\">dependencies</a>)<br>"
      ],
      "text/plain": [
       "singularConstructiveMultiDilemma: forall_{m in Naturals} [forall_{A in BOOLEANS^{m} | A_1 or  ...  or A_m} [forall_{C | A_1 => C ,  ...  , A_m => C} C]]"
      ]
     },
     "execution_count": 2,
     "metadata": {},
     "output_type": "execute_result"
    }
   ],
   "source": [
    "%proving singularConstructiveMultiDilemma presuming []"
   ]
  },
  {
   "cell_type": "code",
   "execution_count": null,
   "metadata": {},
   "outputs": [],
   "source": []
  }
 ],
 "metadata": {
  "kernelspec": {
   "display_name": "Python 3",
   "language": "python",
   "name": "python3"
  }
 },
 "nbformat": 4,
 "nbformat_minor": 0
}
