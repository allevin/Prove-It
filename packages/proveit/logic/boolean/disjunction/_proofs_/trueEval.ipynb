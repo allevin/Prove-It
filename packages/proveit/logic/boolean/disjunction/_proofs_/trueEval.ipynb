{
 "cells": [
  {
   "cell_type": "markdown",
   "metadata": {},
   "source": [
    "Proof of <a class=\"ProveItLink\" href=\"../../../../_context_.ipynb\">proveit</a>.<a class=\"ProveItLink\" href=\"../../../_context_.ipynb\">logic</a>.<a class=\"ProveItLink\" href=\"../../_context_.ipynb\">boolean</a>.<a class=\"ProveItLink\" href=\"../_context_.ipynb\">disjunction</a>.<a class=\"ProveItLink\" href=\"../_theorems_.ipynb#trueEval\">trueEval</a> theorem\n",
    "========"
   ]
  },
  {
   "cell_type": "code",
   "execution_count": 1,
   "metadata": {},
   "outputs": [],
   "source": [
    "import proveit\n",
    "context = proveit.Context('..') # the theorem's context is in the parent directory"
   ]
  },
  {
   "cell_type": "code",
   "execution_count": 2,
   "metadata": {},
   "outputs": [
    {
     "name": "stdout",
     "output_type": "stream",
     "text": [
      "Beginning proof of trueEval\n",
      "Recorded 'presuming' information\n"
     ]
    },
    {
     "name": "stdout",
     "output_type": "stream",
     "text": [
      "Presuming previous theorems (applied transitively).\n"
     ]
    },
    {
     "data": {
      "text/html": [
       "<strong id=\"trueEval\">trueEval:</strong> <a class=\"ProveItLink\" href=\"../__pv_it/006d8df3e659d3d1f216ab075808eb3d167de5840/expr.ipynb\"><img src=\"data:image/png;base64,iVBORw0KGgoAAAANSUhEUgAAAmwAAAAZBAMAAAB+y29NAAAAMFBMVEX///8QEBC6urrMzMxUVFRm\n",
       "ZmZERETc3NwyMjKqqqp2dnaIiIiYmJgiIiLu7u4AAAAU9Wx4AAAAAXRSTlMAQObYZgAABtdJREFU\n",
       "WMPtWWtsVEUUPvtqd+/e3lIwGGOwRVE0BKkJSwgoNBDDD2JY0IrllYUfyw8h7I8NJbzcH+KDELpG\n",
       "+YVIf/AyGLpKaDDWuDyKpio2UTASyi6JQSIFW8pTwes5c+fufc2VuxYTEjjJ3M6emXNmzjfnnHkU\n",
       "wBtV9PwMD0gjf88pr12rHqBlojQUvcKm3KWlymkFKXCzTNnyBPwL1YdSR8sQeLLQP0NuYNXDrp0O\n",
       "a7B1059vPcDG/E3ODRa28byQzj/LlHUTWNhDdNKGWmFTqnf4X961j73xtXJohWZgqN5tDNaSho+J\n",
       "t9kDbFIW/4SLg4VtszFc2xXDRvZ1zBXqmJPpv0wCdpmYg9dGrjluQKhIpENS0UC/yvVlBFOPlVrS\n",
       "sBK/lQkPsLFOKweLWjSnFTJCvV1iB+uhxDfTdPp8oceoScAuE7PzJJWQCveJFAl1tF2mbwtv6HKF\n",
       "rYvBRv4TynrZEshHmgYLm6+oFTKpTTWyFq1JldOVJ9DnDP9hFrDLxOy87VdZsCVEikQ6ImqcGK/y\n",
       "hrOusJ1lsMm7m5vXedpJu5qbm7sHC9vTvCB96VMNnN7GssXZPZxCg+IgELDJxOy82uvMubMiRSId\n",
       "PjVFfz7XD1xZN9ioJQ1wLZk85Qm26mRyeetgYZvHC2aGgTCLI422cBNsRJaGUyAQsMnEbLyImnBV\n",
       "JNSx/ZqFL8XdYKOWNIv6pZ5gwzxQgQNXOhN31jtsm3jBVYuH1Lyhv6gFjJ3O8PhyCNhkYjZe0NrV\n",
       "okioY9YtK8xsT3jtHaI3LWNQC8I2CpSMJ9j8DXAea6vZDsRPUPLiEUsPwCTvsA3lBeAQRCmdcMMx\n",
       "LQfrBP0xi0/jVS5g2V5KMjEbL6xviTpYJkVCHS0D1i12iJu3UUuaAInmxYfLDXPg00WmW0I3dOCX\n",
       "menTTlD+muMw8hZIfPLf7NmzwKpD3rhxg0X7ZV5AuYm7fQICr/B02c3WRHTM5ovKBcxkkonZeFVa\n",
       "GhwNsZfsikCoo/A3M0iP40CfG2zUgrBF84IdDC40LoBjUlEqmmDrIE+PsN16tpYJtiMjep1NSDnQ\n",
       "mI9Kymd1clPHtM5S2OZaLzwOnVuPOmAL9tfUqghZhMPWBJ+IrAplJQ67LmAik0zMxgtrm+7DANvs\n",
       "ikCoo4Xh5PMMm5IZL/DdJesvwXe5uAW28wG8eVB6A/8v/cwBKBICQ1h+bB99qRiVYF8+0g5D/RhM\n",
       "z6Cv1SNsUi9sTfh0xY/wAu9NufSb2mfAtgqEu3RlRr8N6wImMsnEbLwoC1KpoQSboQiEOr5iQbrD\n",
       "GqTW64clSGEpxrw8f8yOaDuNRDWATupw5P01Ftgq0hiMDICq0SwGQjcIu3pKHDJlnajkP1CE6Uo3\n",
       "3SjwMNhJ3jZmEW4mq/TpLONFIewK1w3Ygs9rB1d29S3qFVwRfvHTBYyZGjJm2DhPqaV4Pggl2HRF\n",
       "imUQQ8dZip9ohtsPcsbN22RtS4AtOPHecfmqBnaNpVq9drc4IvVOMsMWWYififRrJ7CjgE+/8Y2C\n",
       "MFvi0OzTmC0i8SqZ3J+gzDWOyKNwx7O8505e0mTVipsGbIHl2lB/4G/lNq9QRudnVF3AmKkhY4ZN\n",
       "56278VHl93ETbFwRU1saxOhfWXi3uPaEbv+dDyDgQ7jXH4TqetaVaqkAO58dgdYdZtjgUYYQDvUY\n",
       "tNAaVV/mKzdR20wxSF/OKQkpW7GffPFFlttCk+EcdOl5ZaxWqlV011mqOlCCDTbw4znCowznFUpS\n",
       "2vxLAsZMDRkkYzPXecdqb88FE2xcEVNbGsTUX16snkhx+7G3YFvXxqAWgk0maGbCcxBmiXwmjITA\n",
       "yWTydYRt7UULbMexfEA/ampUWu9qygc+BtsLyWQyh7C1Ggfi6GkGmyRZLlcpU95lxyAdtikuj0X2\n",
       "/cqYqVjGztvmpsilP9kvvlyB6XLFaRi0wxt+rdboVxo0b/NPLtqfKZ/SEucPZG3wFhuGmL9ybzPB\n",
       "1hnMOmGTW7XihM0rGTP1RtvK1t+I2ve6tu81wVbZh+Yfk2BVCmvDnoAZGmzQ5YDtIotRmNqHfZXa\n",
       "LEyIs1eBYEqDbW4pSWNma2JBusbt4eg/wabP9P+CTbPf/QagZEyw+RPwI0zYDVPzWJuXh3MYwP63\n",
       "6iDoeBTHQ17hCsi1/dmpefi9MIK9yMwBZQk77u5aZryV0mMfHneTedt7ssnHcZZ7rpb38qnP1Cut\n",
       "bplfrn60P5hya2ctaTtXt3EX5jbh/xKiWUdf9nQnYW7ztJo5rdzbtP/fW+ywBVLud1LupAln38g9\n",
       "D8NdJjtsMtwJNvjQ2TcI9zls7i8gpf+Tys6Ho333F2j+np/+AdeVPYu2L6geAAAAAElFTkSuQmCC\n",
       "\" style=\"display:inline;vertical-align:middle;\" /></a><br>(see <a class=\"ProveItLink\" href=\"../__pv_it/006d8df3e659d3d1f216ab075808eb3d167de5840/dependencies.ipynb\">dependencies</a>)<br>"
      ],
      "text/plain": [
       "trueEval: forall_{m, n in Naturals} [forall_{(A, C) in BOOLEANS^{m} * BOOLEANS^{n}} ((A_1 or  ...  or A_m or TRUE or C_1 or  ...  or C_n) = TRUE)]"
      ]
     },
     "execution_count": 2,
     "metadata": {},
     "output_type": "execute_result"
    }
   ],
   "source": [
    "%proving trueEval presuming []"
   ]
  },
  {
   "cell_type": "code",
   "execution_count": null,
   "metadata": {},
   "outputs": [],
   "source": []
  }
 ],
 "metadata": {
  "kernelspec": {
   "display_name": "Python 3",
   "language": "python",
   "name": "python3"
  }
 },
 "nbformat": 4,
 "nbformat_minor": 0
}
