{
 "cells": [
  {
   "cell_type": "markdown",
   "metadata": {},
   "source": [
    "Proof of <a class=\"ProveItLink\" href=\"../../../../_context_.ipynb\">proveit</a>.<a class=\"ProveItLink\" href=\"../../../_context_.ipynb\">logic</a>.<a class=\"ProveItLink\" href=\"../../_context_.ipynb\">boolean</a>.<a class=\"ProveItLink\" href=\"../_context_.ipynb\">disjunction</a>.<a class=\"ProveItLink\" href=\"../_theorems_.ipynb#falseEval\">falseEval</a> theorem\n",
    "========"
   ]
  },
  {
   "cell_type": "code",
   "execution_count": 1,
   "metadata": {},
   "outputs": [],
   "source": [
    "import proveit\n",
    "context = proveit.Context('..') # the theorem's context is in the parent directory"
   ]
  },
  {
   "cell_type": "code",
   "execution_count": 2,
   "metadata": {},
   "outputs": [
    {
     "name": "stdout",
     "output_type": "stream",
     "text": [
      "Beginning proof of falseEval\n",
      "Recorded 'presuming' information\n"
     ]
    },
    {
     "name": "stdout",
     "output_type": "stream",
     "text": [
      "Presuming previous theorems (applied transitively).\n"
     ]
    },
    {
     "data": {
      "text/html": [
       "<strong id=\"falseEval\">falseEval:</strong> <a class=\"ProveItLink\" href=\"../__pv_it/77d7d4d3118b815f99cc5115cd4c4e627b6b35990/expr.ipynb\"><img src=\"data:image/png;base64,iVBORw0KGgoAAAANSUhEUgAAAXQAAAAZBAMAAADTUMhQAAAAMFBMVEX///8QEBC6urrMzMxUVFRm\n",
       "ZmZERETc3NwyMjKqqqp2dnaIiIiYmJgiIiLu7u4AAAAU9Wx4AAAAAXRSTlMAQObYZgAABJ1JREFU\n",
       "WMPVmF2IG1UUgE8yyU4ymczutqj0KRFFC1J2FrT+oDW0oKBg8+CK9QdjxSlUpSkEK4hNHhR/kBof\n",
       "FnxzH9QqXbbB4iK22nTb9aEFSbVUKOw2C2KFSrru9ofVttdzf2bm7vyl2z64Hjh3Z3PO3Hxz7jnn\n",
       "3glAtPRM/QrLUeJTp7q5ZGG5SuX/jN7uit5e6lo2uKIoC0u89+G6ez0R6jXB0Vv0z7Eo9C4ePrlb\n",
       "KL377yWinx5xr5NmgMObjqUCX9HrXVHoXTx8sst133veXQs2+mnybHXEPxopSKZawOT3OJYKvI6j\n",
       "WopC7+LhlUyDKyUiV5yPEyY4n8uygQ777XwhLcl0NBT9KENPYSon61HoXTy8EmtzRUntJc7HCn34\n",
       "rL9u1tJhWvzzAZmVTDOh6DMMXd+9Y8dbkWXaxcMrq4WifB8jLuu7qMN+91QZIF0UC9bKXZX3lHoY\n",
       "OrVgc7xoWaeim2O0h1eeEYpZNp8ieefzYYHvEYpN8alUzY/mJJNWDEOnlgpLti3R6I7HgBMGddSu\n",
       "vlHvHR8KxdgUk6QpUoUlixJUMdMiaVBehhcuy0/F6vTp96i8vQidWhD9djA8pXzfUD5zU9tFdzxy\n",
       "TuvaTuPUwxpVEfRNB9ZPOk+1QijAIciQIihPtuzyTeQD0LFE1/MrvQ8OXpA3iL6wqFNLhcJlmq7J\n",
       "+GaoqZfGYEyKuu2RzNGonR16DuATsNExAOlxWBF3FndOKBgLECd4R1p0jRb8EbyudujO1WHgomRR\n",
       "ZsPQqQXRM0257sfv7LT1Y8lF6LbHmk/xYTObd3Y86LDBaGl1H3rir/4cbXY2+iYYDUJP1jURuo39\n",
       "/VI3vQZ0o4Zbn/7sXZ9lxk3QafD0++9tyOjMA+XnKtb/JLtcjN5KF7O6PfkqofDxus4Z2uxs9Deg\n",
       "FYSu1sQ5Kb2y06liN538+rvC/pechHl+isrJoISBLZhqfw40swW9ACmWc+bYYRmdedCy7p2zt7hF\n",
       "6EZJq/fss1FeFWpQ/tOXXPTEg3xDoitogD3gmolDxgwuXJaUjYnLcAKOUI5aWNR1XqYwjFPv/BZ6\n",
       "TWw5D3B0TXtCRh9mXz7YTv0DCq/Uxxx04xbP5J8LrdDC2LbgoiuvsbQzaE6ca9kD9he+IamP0ClJ\n",
       "XT1bg3k2Q9fmCDEajMdhEFJ1eMiyrIZuqj9Ny+jMA473586DctKyXoHVBQcdbvV8wRquvQS3o42E\n",
       "zDvo8A5vBDfTCJfsAbs6n4CQq5AghJiJhtIH71ODtyFh7hxnuUMtFF2nwVgJ41CNw2886nDbDzI6\n",
       "89AKoF8Bo+DsOyFRj5W5uu3ZRl8XvHUontNBzMyU1Nl88EEApIOAqJVZjPuPGiTKHF0f871qDOKW\n",
       "gkX0qCfX496E1Ee4+tGvUaqQaOglnGFPqMseCT1egl9g7W4wNtMTCA4FL3oWz6OHyCr4PS/Qn7Je\n",
       "tKwRseWFHHpZVL680FgS+h2QNZWtZd9OKW0+taAXPA1zPfoF7wvMdR51abf2vjRW4MYlUY60XO+7\n",
       "aRS62uB6o7Iv2nK96NudiCSLy/YXgeDfYVS7hOIH/qvfYU78C9sJVryjPjs+AAAAAElFTkSuQmCC\n",
       "\" style=\"display:inline;vertical-align:middle;\" /></a><br>(see <a class=\"ProveItLink\" href=\"../__pv_it/77d7d4d3118b815f99cc5115cd4c4e627b6b35990/dependencies.ipynb\">dependencies</a>)<br>"
      ],
      "text/plain": [
       "falseEval: forall_{m in Naturals} [forall_{A in {FALSE}^{m}} ((A_1 or  ...  or A_m) = FALSE)]"
      ]
     },
     "execution_count": 2,
     "metadata": {},
     "output_type": "execute_result"
    }
   ],
   "source": [
    "%proving falseEval presuming []"
   ]
  },
  {
   "cell_type": "code",
   "execution_count": null,
   "metadata": {},
   "outputs": [],
   "source": []
  }
 ],
 "metadata": {
  "kernelspec": {
   "display_name": "Python 3",
   "language": "python",
   "name": "python3"
  }
 },
 "nbformat": 4,
 "nbformat_minor": 0
}
