{
 "cells": [
  {
   "cell_type": "markdown",
   "metadata": {},
   "source": [
    "Proof of <a class=\"ProveItLink\" href=\"../../../../_context_.ipynb\">proveit</a>.<a class=\"ProveItLink\" href=\"../../../_context_.ipynb\">logic</a>.<a class=\"ProveItLink\" href=\"../../_context_.ipynb\">boolean</a>.<a class=\"ProveItLink\" href=\"../_context_.ipynb\">disjunction</a>.<a class=\"ProveItLink\" href=\"../_theorems_.ipynb#associate\">associate</a> theorem\n",
    "========"
   ]
  },
  {
   "cell_type": "code",
   "execution_count": 1,
   "metadata": {},
   "outputs": [],
   "source": [
    "import proveit\n",
    "context = proveit.Context('..') # the theorem's context is in the parent directory"
   ]
  },
  {
   "cell_type": "code",
   "execution_count": 2,
   "metadata": {},
   "outputs": [
    {
     "name": "stdout",
     "output_type": "stream",
     "text": [
      "Beginning proof of associate\n",
      "Recorded 'presuming' information\n"
     ]
    },
    {
     "name": "stdout",
     "output_type": "stream",
     "text": [
      "Presuming previous theorems (applied transitively).\n"
     ]
    },
    {
     "data": {
      "text/html": [
       "<strong id=\"associate\">associate:</strong> <a class=\"ProveItLink\" href=\"../__pv_it/c535fa0948f00a9df7d7dcab46d4c7f73220d37f0/expr.ipynb\"><img src=\"data:image/png;base64,iVBORw0KGgoAAAANSUhEUgAAA5cAAAAZBAMAAABX6cfjAAAAMFBMVEX///8QEBC6urrMzMxUVFRm\n",
       "ZmZERETc3NwyMjKqqqp2dnaIiIiYmJgiIiLu7u4AAAAU9Wx4AAAAAXRSTlMAQObYZgAACPtJREFU\n",
       "aN7tWn2IXFcVPzOzu/P9dqerLVGb2UVFocSdYF2lle7SgAWL7mitklabqdIJJQ2ZP0J3MbW7CrUq\n",
       "mhmQQKGUbCWxBirdKkaLgZ0SEyVKM1XboLLuBCUGjdmdNmnTNJvnOffr3fvefbMzGmgXc2Hf3I/z\n",
       "O/e887v33I+3AJ2n7QsVuJrermnDwmw34o2rHns7p/g4NLsh01mzb3oD/xmrdYmzAaJzADtcTO8o\n",
       "dK7IB8gMBSTev9i6LTPeuUZNnmlDMtl0+22HZGYZcm7tcRkTTlqc7RJoA9yIf051/dl/7Hi1c0V+\n",
       "wB2BMHnh187zOzr3rSF/ByfzAOV3d0hmisZporn2yBQ2p1xv5LOpEQtOO/aUM8gDaPXMW24JYPq8\n",
       "FWRXZgDQIl97ykXfRt1Ce4We0aZ8gpP5IP2UOiSTCT64BqPsL0XQdL11f5NWr6Ueck9aThAP4NWz\n",
       "R8zF5/Q5K8iqzARgfJs12595hZ7VVRR6RpvypA3JpDHbW+uQTDYoN69BMtfzn++4y6pqlB5/DQZk\n",
       "Gq9ZGXw8gFcfoUea5sTxS1aQVZkJwLA7YLQn3SLVfn4VhcponzxpQzIzT01Ofq3j3eyxycnJNbip\n",
       "jc6wn3Qjf9mLc3jOShaDso/i3x6R1wGq/oP06HNpQZ2xgezKfACA+432iMuOfc+tolAZ7Ze/n5EJ\n",
       "r5XLf+6YzP5yefvs2iOzl9s8Xai+ourIJwnLwXmPcKUfoOrvokf/BYCPnbOC7Mp8AID9Rvve18Kt\n",
       "0JIy2i+/n5OJYXhrx2RiLO9bgzcHiTr7uQ+2eHGOotWoRRaDW0zuIXSAqv8uW0xb3/peq2YF2ZX5\n",
       "AACPGe0Tl8Kt0JM02i//GCfzfeDMgDPR7IjM6Dic5oHrDb7by7dyK3ydPpp7eVdR7bgojbRdio3W\n",
       "J91c/i9hklonXlLd2VLm3uu3/kwrR5hNmQGYPw+KQtxH3GrB4rajR7yCAPz9slF/DT2O4/ufugDS\n",
       "4xooRJkEqDRstFdf1VfLcIXS6KrvVDTMycxCGsfthrAD2iOfhWfv8W6AGnCIu+cirztehAQbJMPv\n",
       "aUbzbAKoAZVvG5CN1gz6rFoPE1WdaMar7mxLZO4FGNYB/cwvSzUYwej0kU+JwU+j2DpmT4ucAEQb\n",
       "Rj0LvBOX6WAwG/tcww8KUSYA2nWE0b7IBky0sppCabSU17QRmek67Zr225D/uvOLcDTVTDU9Mg+J\n",
       "DeBnRMzeUocUjfbkCgrNV3Qye/MiNyf+jIJoTfO/XnT9M8UwYdmJB9C6swD2oo3p1wNkTuRy7gr+\n",
       "PiHsq6Wso2EzPC1yApAqGvWMzDyFKTyEJht+UIgyCfCRKdurbNccqaymUBqt5E0ynZkb5ULgjxFf\n",
       "fvgs/G6uqJN5mt+lRP/UEjckFUhQxF2iab8RdDI37B3gmed4R2ZBtKYx2O7EAYeur9bChGUnHkDr\n",
       "Lghw6BQQG9DDLKlODp49O+16ZMZnslb/T8lLaAkQK66sX0dYOhmk8OgofT8VcnMt6xXADLOqfZ6F\n",
       "zX2wmkJptJI3wyxspSBM4zhz9w370gcLIgdwhKQOf3+XTmbfTjbIsx9weSW+6xaKHVto8v/NIPP3\n",
       "02Jb34cbJzWEZEG2ovRtOHWWofdiqLDsxANo3QUBvbQ0Ofr1SR/RcRIZzdKO/gl5Ahe3mPQmjsyg\n",
       "go8Ll0tAf8Wof4AcRPcv0yue72WjYyj06iXA8/FvjPaTFOnSM0GFSpdjGC3lOVNMGyNzT0OM4zMj\n",
       "9ew4u7qlXAFYcD6cOnOTRmbyS2In7DJSo63yvetYFPHGnCAzVezHgNSD2PQQTT45s3iBtcYwHvyE\n",
       "GTFybTmHb/tpq7DqhCUGEN3ZtUfeDGyhcFrEP8FOezWPzFG+YjgUepcaIoO+2M7fVwE2glFPK1IP\n",
       "cnwmf8LzvWxUepYaRr0EeD7eb3a2+O3mQy9BQKGnSygURkt5zpQ6mkAEHZMmBh7+BfQX2AJBuUqM\n",
       "TYbDMLtPIxPezXpaD1XmzvRFMWkYt02dzI3NxJsQexJHtVOiySfvKniBtcJXcIfH5tX8LM3Mm66z\n",
       "CqtOWGIA3l2IdhpE5gce2sK47mV0qYshWJKZ4Guhcy2N9JLIYHqE/yjAQTDqca/YT59AWg9ovpeN\n",
       "Ss/Jkl6vAJ6Pv2HgcAPuvlQJKvR0CYXCaCnPmOLaGJkZ5KCPUXM7DsJEjeeGIfZyubwNyXzo3zqZ\n",
       "L7AoizsDtk71od9GaC1mN74DOpkv5vJ4Rs5STz+Iaws/L/BWBKSGaF7tGMLdAcAJq7DqhM8yAoju\n",
       "7Nr7aT2JGFPzOr0gyYyFHMdu8ZW3mfUR/aCtfH8LdKZM+tgZsLevptBv9O1s8RXXecLAD9NzEA7C\n",
       "dJTn7ow643xmRm/WyQSx8B5npQj6eJ7C8QSuSj1zGpmpccisCDJP9Wrvzwq8le7tndIXKErj/LvA\n",
       "yQwK804ymw/deqQmAKI7u/aeS+wljzz+K1V9zEZmp2nQ/HqRmbX5vmNlwsepkI9d3Sokprg2ReZS\n",
       "GqYq8WV0wdEUzw2+l0evw+gJP5kYZWFsGeVgegaSrUL8UTj5BsTu09fMjU2IuYLMFHo1vhummvhg\n",
       "BdHK3PI02hBHIvcOcjKDwryT5EG4JloUANGdXbuTr8FoER4vRfyfwP4rMp1ln993/w++lz4OOZZ2\n",
       "rZAzxbQpMnsOwFg9WoI/wOhTPHdXHU7hwhT95hD0gI/MxXOQybdqY/VEfmUhdw/ELoHz49YfCxqZ\n",
       "WQzDz7vruLsdjHux12Gsgg9WEK3sjmMJYV93F158Z5OTGRAWncAmp8G+pxJAdGfXDv9cvH4TXT1O\n",
       "ee+sReKvVu/ujoBP+m6ydmq+/NH57j7VSx9r67xJTpcKOVNMm/6OUA/kflje5rvOM5NCZPRa40qR\n",
       "uRuM61yvkD1DNmhNJ9oIQyNZzGZMQHvtcOhDqrDrCt70xq/Av1qkC1fQIK5NJzNWCeYCd7PmWqzk\n",
       "PhpGZuzZA+0+ZvzcLN/8rja3uU4pVev7qWlAW+2n4Fgd/o+STmYGrPOsDZkZy6T2z8yr6S0hc/W0\n",
       "0Nn/zY5f9etbkTYsjP8HwjOUwEk92hsAAAAASUVORK5CYII=\n",
       "\" style=\"display:inline;vertical-align:middle;\" /></a><br>(see <a class=\"ProveItLink\" href=\"../__pv_it/c535fa0948f00a9df7d7dcab46d4c7f73220d37f0/dependencies.ipynb\">dependencies</a>)<br>"
      ],
      "text/plain": [
       "associate: forall_{l, m, n in Naturals} [forall_{A, B, C | A_1 or  ...  or A_l or B_1 or  ...  or B_m or C_1 or  ...  or C_n} (A_1 or  ...  or A_l or (B_1 or  ...  or B_m) or C_1 or  ...  or C_n)]"
      ]
     },
     "execution_count": 2,
     "metadata": {},
     "output_type": "execute_result"
    }
   ],
   "source": [
    "%proving associate presuming []"
   ]
  },
  {
   "cell_type": "code",
   "execution_count": null,
   "metadata": {},
   "outputs": [],
   "source": []
  }
 ],
 "metadata": {
  "kernelspec": {
   "display_name": "Python 3",
   "language": "python",
   "name": "python3"
  }
 },
 "nbformat": 4,
 "nbformat_minor": 0
}
