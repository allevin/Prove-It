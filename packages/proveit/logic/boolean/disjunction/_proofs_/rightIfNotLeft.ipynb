{
 "cells": [
  {
   "cell_type": "markdown",
   "metadata": {
    "collapsed": true
   },
   "source": [
    "Proof of <a class=\"ProveItLink\" href=\"../../../../_context_.ipynb\">proveit</a>.<a class=\"ProveItLink\" href=\"../../../_context_.ipynb\">logic</a>.<a class=\"ProveItLink\" href=\"../../_context_.ipynb\">boolean</a>.<a class=\"ProveItLink\" href=\"../_context_.ipynb\">disjunction</a>.<a href=\"../_theorems_.ipynb#rightIfNotLeft\" class=\"ProveItLink\">rightIfNotLeft</a> theorem\n",
    "========"
   ]
  },
  {
   "cell_type": "code",
   "execution_count": 1,
   "metadata": {},
   "outputs": [],
   "source": [
    "import proveit\n",
    "from proveit import defaults\n",
    "from proveit._common_ import A, B\n",
    "from proveit.logic import inBool, Not, Or\n",
    "from proveit.logic.boolean.implication._theorems_ import affirmViaContradiction\n",
    "context = proveit.Context('..') # the theorem's context is in the parent directory"
   ]
  },
  {
   "cell_type": "code",
   "execution_count": 2,
   "metadata": {},
   "outputs": [
    {
     "name": "stdout",
     "output_type": "stream",
     "text": [
      "Beginning proof of rightIfNotLeft\n"
     ]
    },
    {
     "name": "stdout",
     "output_type": "stream",
     "text": [
      "Recorded 'presuming' information\n"
     ]
    },
    {
     "name": "stdout",
     "output_type": "stream",
     "text": [
      "Presuming proveit.logic.boolean.implication.affirmViaContradiction theorem (applied transitively).\n",
      "Presuming previous theorems (applied transitively).\n"
     ]
    },
    {
     "data": {
      "text/html": [
       "<strong id=\"rightIfNotLeft\">rightIfNotLeft:</strong> <a class=\"ProveItLink\" href=\"../__pv_it/896fb79f15672ec8c1dc34695a1bce8124fa7b540/expr.ipynb\"><img src=\"../__pv_it/896fb79f15672ec8c1dc34695a1bce8124fa7b540/expr.png\" style=\"display:inline;vertical-align:middle;\" /></a><br>(see <a class=\"ProveItLink\" href=\"../__pv_it/896fb79f15672ec8c1dc34695a1bce8124fa7b540/dependencies.ipynb\">dependencies</a>)<br>"
      ],
      "text/plain": [
       "rightIfNotLeft: forall_{A, B in BOOLEANS | A or B , [not](A)} B"
      ]
     },
     "execution_count": 2,
     "metadata": {},
     "output_type": "execute_result"
    }
   ],
   "source": [
    "%proving rightIfNotLeft presuming [affirmViaContradiction]"
   ]
  },
  {
   "cell_type": "code",
   "execution_count": 3,
   "metadata": {},
   "outputs": [
    {
     "data": {
      "text/html": [
       "<strong id=\"defaults.assumptions\">defaults.assumptions:</strong> <a class=\"ProveItLink\" href=\"../__pv_it/f580f7b23e8ef75b2b2dc2979cb77bc6365236ee0/expr.ipynb\"><img src=\"../__pv_it/f580f7b23e8ef75b2b2dc2979cb77bc6365236ee0/expr.png\" style=\"display:inline;vertical-align:middle;\" /></a><br>"
      ],
      "text/plain": [
       "defaults.assumptions: (A in BOOLEANS , B in BOOLEANS , A or B , [not](A) , [not](B))"
      ]
     },
     "execution_count": 3,
     "metadata": {},
     "output_type": "execute_result"
    }
   ],
   "source": [
    "defaults.assumptions = [inBool(A), inBool(B), Or(A, B), Not(A), Not(B)]"
   ]
  },
  {
   "cell_type": "code",
   "execution_count": 4,
   "metadata": {},
   "outputs": [
    {
     "data": {
      "text/html": [
       "<strong id=\"AorB\">AorB:</strong> <a class=\"ProveItLink\" href=\"../__pv_it/6b085089c20090840d052459f8893dc577d9cac10/expr.ipynb\"><img src=\"../__pv_it/6b085089c20090840d052459f8893dc577d9cac10/expr.png\" style=\"display:inline;vertical-align:middle;\" /></a><br>"
      ],
      "text/plain": [
       "AorB: A or B"
      ]
     },
     "execution_count": 4,
     "metadata": {},
     "output_type": "execute_result"
    }
   ],
   "source": [
    "AorB = Or(A, B)"
   ]
  },
  {
   "cell_type": "code",
   "execution_count": 5,
   "metadata": {},
   "outputs": [
    {
     "data": {
      "text/html": [
       "<span style=\"font-size:20px;\"><a class=\"ProveItLink\" href=\"../__pv_it/aa7aea8a2eb81e978ef34c8fe2118544c1f1d8d40/expr.ipynb\"><img src=\"../__pv_it/aa7aea8a2eb81e978ef34c8fe2118544c1f1d8d40/expr.png\" style=\"display:inline;vertical-align:middle;\" /></a> &#x22A2;&nbsp;<a class=\"ProveItLink\" href=\"../../../../__pv_it/077b2ff79244fb4582cbe22c6e3356fa92a52f2f0/expr.ipynb\"><img src=\"../../../../__pv_it/077b2ff79244fb4582cbe22c6e3356fa92a52f2f0/expr.png\" style=\"display:inline;vertical-align:middle;\" /></a></span>"
      ],
      "text/plain": [
       "{B in BOOLEANS , A or B , [not](A)} |= B"
      ]
     },
     "execution_count": 5,
     "metadata": {},
     "output_type": "execute_result"
    }
   ],
   "source": [
    "AorB.affirmViaContradiction(B)"
   ]
  },
  {
   "cell_type": "code",
   "execution_count": 6,
   "metadata": {},
   "outputs": [
    {
     "data": {
      "text/html": [
       "<table><tr><th>&nbsp;</th><th>step type</th><th>requirements</th><th>statement</th></tr>\n",
       "<tr><td>0</td><td>generalizaton</td><td>1</td><td><span style=\"font-size:20px;\"> &#x22A2;&nbsp;<a class=\"ProveItLink\" href=\"../__pv_it/896fb79f15672ec8c1dc34695a1bce8124fa7b540/expr.ipynb\"><img src=\"../__pv_it/896fb79f15672ec8c1dc34695a1bce8124fa7b540/expr.png\" style=\"display:inline;vertical-align:middle;\" /></a></span></td></tr>\n",
       "<tr><td>1</td><td>specialization</td><td>2, 3, 4</td><td><span style=\"font-size:20px;\"><a class=\"ProveItLink\" href=\"../__pv_it/aa7aea8a2eb81e978ef34c8fe2118544c1f1d8d40/expr.ipynb\"><img src=\"../__pv_it/aa7aea8a2eb81e978ef34c8fe2118544c1f1d8d40/expr.png\" style=\"display:inline;vertical-align:middle;\" /></a> &#x22A2;&nbsp;<a class=\"ProveItLink\" href=\"../../../../__pv_it/077b2ff79244fb4582cbe22c6e3356fa92a52f2f0/expr.ipynb\"><img src=\"../../../../__pv_it/077b2ff79244fb4582cbe22c6e3356fa92a52f2f0/expr.png\" style=\"display:inline;vertical-align:middle;\" /></a></span></td></tr>\n",
       "<tr><td>&nbsp;</td><td colspan=4 style=\"text-align:left\"><span style=\"font-size:20px;\"><a class=\"ProveItLink\" href=\"../__pv_it/788ef5511dfca54206679fdb7d1131e45dc4c3d50/expr.ipynb\"><img src=\"../__pv_it/788ef5511dfca54206679fdb7d1131e45dc4c3d50/expr.png\" style=\"display:inline;vertical-align:middle;\" /></a></span></td></tr><tr><td>2</td><td>theorem</td><td></td><td><span style=\"font-size:20px;\"> &#x22A2;&nbsp;<a class=\"ProveItLink\" href=\"../../implication/__pv_it/25738aae8baa600a16ee59ce8b9e44635e5c7cdf0/expr.ipynb\"><img src=\"../../implication/__pv_it/25738aae8baa600a16ee59ce8b9e44635e5c7cdf0/expr.png\" style=\"display:inline;vertical-align:middle;\" /></a></span></td></tr>\n",
       "<tr><td>&nbsp;</td><td colspan=4 style-\"text-align:left\"><a class=\"ProveItLink\" href=\"../../implication/_proofs_/affirmViaContradiction.ipynb\">proveit.logic.boolean.implication.affirmViaContradiction</a></td></tr><tr><td>3</td><td>assumption</td><td></td><td><span style=\"font-size:20px;\"><a class=\"ProveItLink\" href=\"../__pv_it/2c2e947402f53b9e11cd7769e1b5b3378595750e0/expr.ipynb\"><img src=\"../__pv_it/2c2e947402f53b9e11cd7769e1b5b3378595750e0/expr.png\" style=\"display:inline;vertical-align:middle;\" /></a> &#x22A2;&nbsp;<a class=\"ProveItLink\" href=\"../__pv_it/fe5c91c77f0659f9ea07a2e3257797875d6868370/expr.ipynb\"><img src=\"../__pv_it/fe5c91c77f0659f9ea07a2e3257797875d6868370/expr.png\" style=\"display:inline;vertical-align:middle;\" /></a></span></td></tr>\n",
       "<tr><td>4</td><td>hypothetical reasoning</td><td>5</td><td><span style=\"font-size:20px;\"><a class=\"ProveItLink\" href=\"../__pv_it/32cf08f4011636ff89ce00cd995fe1f37561e3df0/expr.ipynb\"><img src=\"../__pv_it/32cf08f4011636ff89ce00cd995fe1f37561e3df0/expr.png\" style=\"display:inline;vertical-align:middle;\" /></a> &#x22A2;&nbsp;<a class=\"ProveItLink\" href=\"../__pv_it/ea23f04db9d844095c95a481bf6a0d42c3b0e3770/expr.ipynb\"><img src=\"../__pv_it/ea23f04db9d844095c95a481bf6a0d42c3b0e3770/expr.png\" style=\"display:inline;vertical-align:middle;\" /></a></span></td></tr>\n",
       "<tr><td>5</td><td>specialization</td><td>6, 7, 8, 9</td><td><span style=\"font-size:20px;\"><a class=\"ProveItLink\" href=\"../__pv_it/4e479bbb063fff9d43b4f77e566af35e5cffcaf20/expr.ipynb\"><img src=\"../__pv_it/4e479bbb063fff9d43b4f77e566af35e5cffcaf20/expr.png\" style=\"display:inline;vertical-align:middle;\" /></a> &#x22A2;&nbsp;<a class=\"ProveItLink\" href=\"../../__pv_it/8f1f7fac882de28c72b62ab80a1700b6d8fd066b0/expr.ipynb\"><img src=\"../../__pv_it/8f1f7fac882de28c72b62ab80a1700b6d8fd066b0/expr.png\" style=\"display:inline;vertical-align:middle;\" /></a></span></td></tr>\n",
       "<tr><td>&nbsp;</td><td colspan=4 style=\"text-align:left\"><span style=\"font-size:20px;\"><a class=\"ProveItLink\" href=\"../__pv_it/5fa8df6a7435f1eec38081ed73bf5e7109f10f640/expr.ipynb\"><img src=\"../__pv_it/5fa8df6a7435f1eec38081ed73bf5e7109f10f640/expr.png\" style=\"display:inline;vertical-align:middle;\" /></a>, <a class=\"ProveItLink\" href=\"../__pv_it/00e4b46dd5e5a908d5cc5ab396bb15e8f919bb7e0/expr.ipynb\"><img src=\"../__pv_it/00e4b46dd5e5a908d5cc5ab396bb15e8f919bb7e0/expr.png\" style=\"display:inline;vertical-align:middle;\" /></a></span></td></tr><tr><td>6</td><td>theorem</td><td></td><td><span style=\"font-size:20px;\"> &#x22A2;&nbsp;<a class=\"ProveItLink\" href=\"../__pv_it/0958bcd3fc040df036774b5cadef06ab4bc107330/expr.ipynb\"><img src=\"../__pv_it/0958bcd3fc040df036774b5cadef06ab4bc107330/expr.png\" style=\"display:inline;vertical-align:middle;\" /></a></span></td></tr>\n",
       "<tr><td>&nbsp;</td><td colspan=4 style-\"text-align:left\"><a class=\"ProveItLink\" href=\"binaryOrContradiction.ipynb\">proveit.logic.boolean.disjunction.binaryOrContradiction</a></td></tr><tr><td>7</td><td>assumption</td><td></td><td><span style=\"font-size:20px;\"><a class=\"ProveItLink\" href=\"../__pv_it/b770e7b00fcb6b4f23fb62157f5bc5f0e8c091e20/expr.ipynb\"><img src=\"../__pv_it/b770e7b00fcb6b4f23fb62157f5bc5f0e8c091e20/expr.png\" style=\"display:inline;vertical-align:middle;\" /></a> &#x22A2;&nbsp;<a class=\"ProveItLink\" href=\"../__pv_it/6b085089c20090840d052459f8893dc577d9cac10/expr.ipynb\"><img src=\"../__pv_it/6b085089c20090840d052459f8893dc577d9cac10/expr.png\" style=\"display:inline;vertical-align:middle;\" /></a></span></td></tr>\n",
       "<tr><td>8</td><td>assumption</td><td></td><td><span style=\"font-size:20px;\"><a class=\"ProveItLink\" href=\"../__pv_it/d70bb8509ebbd8eaacf9f16c016cbcdff0854f010/expr.ipynb\"><img src=\"../__pv_it/d70bb8509ebbd8eaacf9f16c016cbcdff0854f010/expr.png\" style=\"display:inline;vertical-align:middle;\" /></a> &#x22A2;&nbsp;<a class=\"ProveItLink\" href=\"../__pv_it/feaa1d0e6d92ad9ead8e5ffd1f92697e3912387a0/expr.ipynb\"><img src=\"../__pv_it/feaa1d0e6d92ad9ead8e5ffd1f92697e3912387a0/expr.png\" style=\"display:inline;vertical-align:middle;\" /></a></span></td></tr>\n",
       "<tr><td>9</td><td>assumption</td><td></td><td><span style=\"font-size:20px;\"><a class=\"ProveItLink\" href=\"../__pv_it/b7e31d75543b3ce9f0c6e088e7bca956c708f1740/expr.ipynb\"><img src=\"../__pv_it/b7e31d75543b3ce9f0c6e088e7bca956c708f1740/expr.png\" style=\"display:inline;vertical-align:middle;\" /></a> &#x22A2;&nbsp;<a class=\"ProveItLink\" href=\"../__pv_it/1da4e2fe7c44632f084fa27ea32e26dc689384c20/expr.ipynb\"><img src=\"../__pv_it/1da4e2fe7c44632f084fa27ea32e26dc689384c20/expr.png\" style=\"display:inline;vertical-align:middle;\" /></a></span></td></tr>\n",
       "</table>"
      ],
      "text/plain": [
       "\tstep type\trequirements\tstatement\n",
       "0\tgeneralizaton\t1\t|= forall_{A, B in BOOLEANS | A or B , [not](A)} B\n",
       "1\tspecialization\t2, 3, 4\t{B in BOOLEANS , A or B , [not](A)} |= B\n",
       "\tA -> B\n",
       "2\ttheorem\t\t|= forall_{A in BOOLEANS | [not](A) => FALSE} A\n",
       "\tproveit.logic.boolean.implication.affirmViaContradiction\n",
       "3\tassumption\t\t{B in BOOLEANS} |= B in BOOLEANS\n",
       "4\thypothetical reasoning\t5\t{A or B , [not](A)} |= [not](B) => FALSE\n",
       "5\tspecialization\t6, 7, 8, 9\t{A or B , [not](A) , [not](B)} |= FALSE\n",
       "\t{A -> A}, {B -> B}\n",
       "6\ttheorem\t\t|= forall_{A, B | A or B , [not](A) , [not](B)} FALSE\n",
       "\tproveit.logic.boolean.disjunction.binaryOrContradiction\n",
       "7\tassumption\t\t{A or B} |= A or B\n",
       "8\tassumption\t\t{[not](A)} |= [not](A)\n",
       "9\tassumption\t\t{[not](B)} |= [not](B)"
      ]
     },
     "execution_count": 6,
     "metadata": {},
     "output_type": "execute_result"
    }
   ],
   "source": [
    "%qed"
   ]
  },
  {
   "cell_type": "code",
   "execution_count": 7,
   "metadata": {
    "collapsed": true
   },
   "outputs": [],
   "source": []
  }
 ],
 "metadata": {
  "kernelspec": {
   "display_name": "Python 3",
   "language": "python",
   "name": "python3"
  },
  "language_info": {
   "codemirror_mode": {
    "name": "ipython",
    "version": 3
   },
   "file_extension": ".py",
   "mimetype": "text/x-python",
   "name": "python",
   "nbconvert_exporter": "python",
   "pygments_lexer": "ipython3",
   "version": "3.7.0"
  }
 },
 "nbformat": 4,
 "nbformat_minor": 1
}
