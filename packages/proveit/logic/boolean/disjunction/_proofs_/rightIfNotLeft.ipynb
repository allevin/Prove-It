{
 "cells": [
  {
   "cell_type": "markdown",
   "metadata": {},
   "source": [
    "Proof of <a class=\"ProveItLink\" href=\"../../../../_context_.ipynb\">proveit</a>.<a class=\"ProveItLink\" href=\"../../../_context_.ipynb\">logic</a>.<a class=\"ProveItLink\" href=\"../../_context_.ipynb\">boolean</a>.<a class=\"ProveItLink\" href=\"../_context_.ipynb\">disjunction</a>.<a href=\"../_theorems_.ipynb#rightIfNotLeft\" class=\"ProveItLink\">rightIfNotLeft</a> theorem\n",
    "========"
   ]
  },
  {
   "cell_type": "code",
   "execution_count": 1,
   "metadata": {},
   "outputs": [],
   "source": [
    "import proveit\n",
    "from proveit import defaults\n",
    "from proveit._common_ import A, B\n",
    "from proveit.logic import inBool, Not, Or\n",
    "from proveit.logic.boolean.implication._theorems_ import affirmViaContradiction\n",
    "context = proveit.Context('..') # the theorem's context is in the parent directory"
   ]
  },
  {
   "cell_type": "code",
   "execution_count": 2,
   "metadata": {},
   "outputs": [
    {
     "name": "stdout",
     "output_type": "stream",
     "text": [
      "Beginning proof of rightIfNotLeft\n",
      "Recorded 'presuming' information\n",
      "Presuming proveit.logic.boolean.implication.affirmViaContradiction theorem (applied transitively).\n",
      "Presuming previous theorems (applied transitively).\n"
     ]
    },
    {
     "data": {
      "text/html": [
       "<strong id=\"rightIfNotLeft\">rightIfNotLeft:</strong> <a class=\"ProveItLink\" href=\"../__pv_it/592f1a13f46c732fb1dd2053ab93375a25e075e70/expr.ipynb\"><img src=\"data:image/png;base64,iVBORw0KGgoAAAANSUhEUgAAAKsAAAAWBAMAAABNknGBAAAAMFBMVEX///8QEBC6urrMzMxUVFRm\n",
       "ZmZERETc3NwyMjKqqqp2dnaIiIiYmJgiIiLu7u4AAAAU9Wx4AAAAAXRSTlMAQObYZgAAAoFJREFU\n",
       "OMu1VDFs00AUfY2TuMSO25EFFCE2kJIBiaFDLRqlbMkQlwWoAeEOSNRDRZFQaYRUBTpAFpgjhlIW\n",
       "ZCQYUIYaCSQQQ8tQBuiQAbqUAGrSokIp/Ds7sUOjShHmpLv79+//53/vf39U8V/GElveBAYnZxvp\n",
       "zA3gITvcDi7MHh0YTeAKiaIeHOygRVNFL5EbKQUHu2ACi2XIDyYnpwLM1TmabynUTcN4HyBsA7h6\n",
       "mfYhYIwriny9t6FlUn+ZJty913SFfeNa/kKbSdHdhUbl6QoTDkMp8NJYdyqkH1K/I83OzthcamZ0\n",
       "sYmP58DjtrpadwXpO1BTSYhD4s6ftrk+oiJEV2vaaVjltUN+WGXUBuWZzTyQNH2wrjMQpZAkdpDs\n",
       "OP/THi1zfdxCZAnS+etfCDb22Q8bq+XwjMqRgvkAnPFH6zoDfXQp/2AxFI5xUiyD67+m8MrESyZa\n",
       "5SNn/bADUR1RIGxCqUMu+lCbzlSy9PLwFpPGTrA17H4+WXlCieRsW9qBNm5V9owEJoDQz0rG30zC\n",
       "rdhZ2U5z77u8LbzGAtfPUz6qQtmJNjLgg5VL0jcoOoaJjgLkg0w3ZxhGwXPmZSvs51/sYWlQlrVx\n",
       "frpIPJSEd4ZxiXEb88HWtJEd4D6jNpqDstUMVfecMfI7nb7pPFFmmoiJQV6uZJ1MKaoTbRvsKQh1\n",
       "YJUs0VdCqO7Btpx3jaNka4tFiDsQKavDLgnXPNgQBUGVE3tB8nQVUzmIRfeWO3dC/bgJMbsibGN+\n",
       "QztJjWc1wX8Hw0uZktUx8ctmRYDYHS1/i0h0ijXlOO/VhFvSHHEL75m+YXYy33sc76zWuzPfNezu\n",
       "YO1/a3Zq1x5/AJlNttt+3hmaAAAAAElFTkSuQmCC\n",
       "\" style=\"display:inline;vertical-align:middle;\" /></a><br>(see <a class=\"ProveItLink\" href=\"../__pv_it/592f1a13f46c732fb1dd2053ab93375a25e075e70/dependencies.ipynb\">dependencies</a>)<br>"
      ],
      "text/plain": [
       "rightIfNotLeft: forall_{A, B in BOOLEANS | A or B , [not](A)} B"
      ]
     },
     "execution_count": 2,
     "metadata": {},
     "output_type": "execute_result"
    }
   ],
   "source": [
    "%proving rightIfNotLeft presuming [affirmViaContradiction]"
   ]
  },
  {
   "cell_type": "code",
   "execution_count": 3,
   "metadata": {},
   "outputs": [
    {
     "data": {
      "text/html": [
       "<strong id=\"defaults.assumptions\">defaults.assumptions:</strong> <a class=\"ProveItLink\" href=\"../__pv_it/2154948e3943551716d40a7974abbfaf2bfad9d60/expr.ipynb\"><img src=\"data:image/png;base64,iVBORw0KGgoAAAANSUhEUgAAARMAAAAVBAMAAACXqRciAAAAMFBMVEX////c3NwiIiJERESqqqqY\n",
       "mJh2dnZmZmYQEBDu7u4yMjJUVFTMzMyIiIi6uroAAAAs73DqAAAAAXRSTlMAQObYZgAAA2xJREFU\n",
       "SMfNVl9IFEEY/86781x39zrQJ3vwuDCEIBcpMF88iPChh46EIoK6lwqCQCx6KpTqJaNcDEJ8yLOQ\n",
       "soc8qJdaQhGCygcPCoLIPH2QCgTN/t5R9s3Mzs7seHm+5cDu/NnvN99v5vfNtwOwiUo0txlYHCOv\n",
       "Kdae9H+qHGstXNrFe0dXHac17zM4vTJ2f1tS9I24MnkJTAk/EB4vOo8eQmQC26NsaEwxCUZzg7fS\n",
       "vHcZIPLHb2AtaqMnRbd6iW4xbU/8C1PCD1RZAN15yACYTJ9wk72GipnP8CX/xqeoUoEP1aJ78Bd5\n",
       "64QFm7IUpoQfmEbr6SwcQlLsU213jNbau0Qi41IJpZ645uYyTvLdb4BU9unevIH2ZeoflwgVtoKR\n",
       "CvcjyiwOHE/DAMBnNpCbZbK+OiLtypzFOz3o4KrfgOxKjTehaTIthvFpVzFS4X5EacGn0YZgEs6z\n",
       "Y2QfSNHF7ZEEmuzgi96ShcBd229gLRoNXgc+hb7Rut2lI2Pk4+r6kQpqWIfzVHbCCO3fppIhgZig\n",
       "kli97un5bKaLTSEMrPmmn14e0PIkNJg4hqVgpML9SCevOPO2AetQBm7QgTzUd5L6pi9s31hCT20H\n",
       "+A1QoJm93moh8IMJlQM9r2AgkiAlLfkB6CJD21lI9Wdxhh6gEhuOM07dfiQGPGzBWpD0nE35DZBK\n",
       "MMpP+5TjrLBWHAZVjLv8rOSHw1hImSiuscSoYDqoykj5jlMJCj1JlPsMCBXg8+JG9LLWOTihYgQV\n",
       "z4+ggiFFDxpSuUKGMGtW9JBGf0kqBgnJ8aTfQKYSIqeANesgrmIEFc+PoDKNG6d/pQLtJsciybOl\n",
       "nvJRWQCNp4hAAfwGrkD0jNSKNKo/z4GM0SQq3I8tUSFppR53KpyBUzhC1A3SbKntlKiEL1owFHdT\n",
       "xAv2gxAGSOXwa9C+kEGy6W3MgdFse2mFYIa8f9ME90MxzJiGlNFr08M8D1DTNwzhtgIN7boL3u9w\n",
       "pfExwAAuLtJWdJ6OuGhugL/D5mtJ0PpiEGgpxKBj9R77wCoPM7DsycH9EAwvZ/Gn+YDsdHUeqpRE\n",
       "vP9OQg4smFNTg2IQVRP5S6U/V+JeEls7hok/nF7/IpEqc9EIl7uJpDaGOSMuCf+ZCg23retOZJbz\n",
       "VO4OaG4MoxPNApviQvke4C9E6R5EnEiduwAAAABJRU5ErkJggg==\n",
       "\" style=\"display:inline;vertical-align:middle;\" /></a><br>"
      ],
      "text/plain": [
       "defaults.assumptions: (A in BOOLEANS , B in BOOLEANS , A or B , [not](A) , [not](B))"
      ]
     },
     "execution_count": 3,
     "metadata": {},
     "output_type": "execute_result"
    }
   ],
   "source": [
    "defaults.assumptions = [inBool(A), inBool(B), Or(A, B), Not(A), Not(B)]"
   ]
  },
  {
   "cell_type": "code",
   "execution_count": 4,
   "metadata": {},
   "outputs": [
    {
     "data": {
      "text/html": [
       "<strong id=\"AorB\">AorB:</strong> <a class=\"ProveItLink\" href=\"../__pv_it/0f1bf4090acd92174180531bf3e50944b30066e50/expr.ipynb\"><img src=\"data:image/png;base64,iVBORw0KGgoAAAANSUhEUgAAADcAAAAPBAMAAACy3Eq1AAAAMFBMVEX///92dnYQEBBERERUVFS6\n",
       "urqIiIhmZmaqqqrc3Nzu7u6YmJgyMjIiIiLMzMwAAACFkkdwAAAAAXRSTlMAQObYZgAAAP1JREFU\n",
       "GNNjYACBtwyogNv/i4vzUSjnPIhgBTMfgEkmAwaG+gCIwvsLgCQLSJwtASzyHki9dwAzZ9RPAJJ8\n",
       "QNUMvAvAIvlAgf0CYGZCPtiEk0DcDrHHCIgvgdWxLujfwACVOAmR/MLAMMcKzFoKtgJsJNhooA1f\n",
       "0tJvQ5QFMMwvYIA4hgXiQrafDAxrwe7hc3Hxh2i4wLAGopxZAajgN9R/TAfAYhUM0hBJfqAu7o8g\n",
       "VgPQNgWw2BygXog3gQ5k+QFkcAIleT6AxVheQ4IA7M35INNA1jD/gjjSdgHcm3w6QPZk/ZMM3PZ/\n",
       "wM5lOA6RK/7v4nJmA1pkMLxC5QIA6tw+1pV4TWcAAAAASUVORK5CYII=\n",
       "\" style=\"display:inline;vertical-align:middle;\" /></a><br>"
      ],
      "text/plain": [
       "AorB: A or B"
      ]
     },
     "execution_count": 4,
     "metadata": {},
     "output_type": "execute_result"
    }
   ],
   "source": [
    "AorB = Or(A, B)"
   ]
  },
  {
   "cell_type": "code",
   "execution_count": 5,
   "metadata": {},
   "outputs": [
    {
     "data": {
      "text/html": [
       "<span style=\"font-size:20px;\"><a class=\"ProveItLink\" href=\"../__pv_it/3f8f6371bd851e0d616afb017a1280cdf1f0e4190/expr.ipynb\"><img src=\"data:image/png;base64,iVBORw0KGgoAAAANSUhEUgAAALIAAAAVBAMAAAAQvakNAAAAMFBMVEX////c3NxERESqqqpUVFS6\n",
       "urrMzMwyMjIQEBCIiIh2dnYiIiLu7u5mZmaYmJgAAABXZE4RAAAAAXRSTlMAQObYZgAAAnJJREFU\n",
       "OMu1Vb9PFEEU/rgfqwvruoGCkjUWkmgC/wCR6CY2RpbOEAsKCiJGuMJYmAMriaHgEisLg8beXCdy\n",
       "iW5jUCk0WhkTudBaiHjmoiLnezO7M7PrnTTwkpns/Pi+efPe92YBuJ9x0Hb1EffOGg7epoeps7ep\n",
       "c8cawbkbqcXuhVPNpZPGxEwG3QbDZlWpOzbHDLd5fNQHNsPUllyxsv7moR4vcFcUn5PogCE7sp2Q\n",
       "SubZCrXRLLMdzmkXX0TUF5jUrqADhuzLbpp5xQO+Sgdf36o9jZnz9YsK0bfp8V3JT/REyGC0dY18\n",
       "SzMPUlsVAGs+0j6P+wpSWREXL1EbkTMaY5ht/0gzN4D+M2KpN9LRmNlSwGJ0to6YtSSnNMawK/m9\n",
       "hFSk0Wrcf/BcLp3Qca617irESxFWEQlLXsTAaHNC6ycnhdM4zZe0KTgbIhmOb2bwnhqFGHgHmb2C\n",
       "1IPGAJ9qZGtCO11/eKIMTN0RLOS9vSduvUR7kgzCn0hUGgRj8pQq1uOTFSa2KW5BsCMW54HLrKPj\n",
       "dLb7S1CMGj7DzyVhJvlKBX7AEzmlMQYzXWeRv9n/AgNmKTuF7yIa1bbMVK09ItXoR7xDYzRznuWS\n",
       "xLm7GktzQPp0KcU8AUeodDguLiK7LutEYSKDuS+uVa06kqa1KLdshJrZ/ejjLZ/Moc3tyoifjpSc\n",
       "GeP8Vi8GHHZuKDKY37eC4GY9LqLyZPIi7ayeB16RBHqXS3CHmkIcnHa2BOMse6r+BpsetlrlVKUY\n",
       "lr8gtZHYeGb9WmZc9P59RdszZ62+z7qLDszuYTCLwnae/R9o7/f/qLT7pwgZuI8P5T/4F5i6tSvl\n",
       "Ame3AAAAAElFTkSuQmCC\n",
       "\" style=\"display:inline;vertical-align:middle;\" /></a> <a class=\"ProveItLink\" href=\"../__pv_it/791a69ee6a8e2109ed353092dc5bd80073aea4460/proof.ipynb\" style=\"text-decoration: none\">&#x22A2;&nbsp;</a><a class=\"ProveItLink\" href=\"../../../../__pv_it/077b2ff79244fb4582cbe22c6e3356fa92a52f2f0/expr.ipynb\"><img src=\"data:image/png;base64,iVBORw0KGgoAAAANSUhEUgAAABAAAAAOBAMAAADUAYG5AAAAMFBMVEX///+qqqru7u4iIiJ2dnbc\n",
       "3NyIiIjMzMxmZmYQEBC6uroyMjJERERUVFSYmJgAAADLUcuvAAAAAXRSTlMAQObYZgAAAGpJREFU\n",
       "CNdjYGB4+//u3dMLGIBgDgMDxy8gzf4NiP8CGWxfGRj4vgAZPBMYGJgnARn8FxhY9ygAGfXX0pof\n",
       "gDTlBzAw2YIYJ0EckBBI53sHoBH/gIz7AhBjWH9DjancBLTl/N+7t/cxMAAA3u4f/5xagjYAAAAA\n",
       "SUVORK5CYII=\n",
       "\" style=\"display:inline;vertical-align:middle;\" /></a></span>"
      ],
      "text/plain": [
       "{B in BOOLEANS , A or B , [not](A)} |- B"
      ]
     },
     "execution_count": 5,
     "metadata": {},
     "output_type": "execute_result"
    }
   ],
   "source": [
    "AorB.affirmViaContradiction(B)"
   ]
  },
  {
   "cell_type": "code",
   "execution_count": 6,
   "metadata": {},
   "outputs": [
    {
     "data": {
      "text/html": [
       "<table><tr><th>&nbsp;</th><th>step type</th><th>requirements</th><th>statement</th></tr>\n",
       "<tr><td>0</td><td>generalizaton</td><td>1</td><td><span style=\"font-size:20px;\"> <a class=\"ProveItLink\" href=\"../__pv_it/758f7196bd0c75f1eb78eccc8201fb094c7ec9bd0/proof.ipynb\" style=\"text-decoration: none\">&#x22A2;&nbsp;</a><a class=\"ProveItLink\" href=\"../__pv_it/592f1a13f46c732fb1dd2053ab93375a25e075e70/expr.ipynb\"><img src=\"data:image/png;base64,iVBORw0KGgoAAAANSUhEUgAAAKsAAAAWBAMAAABNknGBAAAAMFBMVEX///8QEBC6urrMzMxUVFRm\n",
       "ZmZERETc3NwyMjKqqqp2dnaIiIiYmJgiIiLu7u4AAAAU9Wx4AAAAAXRSTlMAQObYZgAAAoFJREFU\n",
       "OMu1VDFs00AUfY2TuMSO25EFFCE2kJIBiaFDLRqlbMkQlwWoAeEOSNRDRZFQaYRUBTpAFpgjhlIW\n",
       "ZCQYUIYaCSQQQ8tQBuiQAbqUAGrSokIp/Ds7sUOjShHmpLv79+//53/vf39U8V/GElveBAYnZxvp\n",
       "zA3gITvcDi7MHh0YTeAKiaIeHOygRVNFL5EbKQUHu2ACi2XIDyYnpwLM1TmabynUTcN4HyBsA7h6\n",
       "mfYhYIwriny9t6FlUn+ZJty913SFfeNa/kKbSdHdhUbl6QoTDkMp8NJYdyqkH1K/I83OzthcamZ0\n",
       "sYmP58DjtrpadwXpO1BTSYhD4s6ftrk+oiJEV2vaaVjltUN+WGXUBuWZzTyQNH2wrjMQpZAkdpDs\n",
       "OP/THi1zfdxCZAnS+etfCDb22Q8bq+XwjMqRgvkAnPFH6zoDfXQp/2AxFI5xUiyD67+m8MrESyZa\n",
       "5SNn/bADUR1RIGxCqUMu+lCbzlSy9PLwFpPGTrA17H4+WXlCieRsW9qBNm5V9owEJoDQz0rG30zC\n",
       "rdhZ2U5z77u8LbzGAtfPUz6qQtmJNjLgg5VL0jcoOoaJjgLkg0w3ZxhGwXPmZSvs51/sYWlQlrVx\n",
       "frpIPJSEd4ZxiXEb88HWtJEd4D6jNpqDstUMVfecMfI7nb7pPFFmmoiJQV6uZJ1MKaoTbRvsKQh1\n",
       "YJUs0VdCqO7Btpx3jaNka4tFiDsQKavDLgnXPNgQBUGVE3tB8nQVUzmIRfeWO3dC/bgJMbsibGN+\n",
       "QztJjWc1wX8Hw0uZktUx8ctmRYDYHS1/i0h0ijXlOO/VhFvSHHEL75m+YXYy33sc76zWuzPfNezu\n",
       "YO1/a3Zq1x5/AJlNttt+3hmaAAAAAElFTkSuQmCC\n",
       "\" style=\"display:inline;vertical-align:middle;\" /></a></span></td></tr>\n",
       "<tr><td>1</td><td>specialization</td><td>2, 3, 4</td><td><span style=\"font-size:20px;\"><a class=\"ProveItLink\" href=\"../__pv_it/3f8f6371bd851e0d616afb017a1280cdf1f0e4190/expr.ipynb\"><img src=\"data:image/png;base64,iVBORw0KGgoAAAANSUhEUgAAALIAAAAVBAMAAAAQvakNAAAAMFBMVEX////c3NxERESqqqpUVFS6\n",
       "urrMzMwyMjIQEBCIiIh2dnYiIiLu7u5mZmaYmJgAAABXZE4RAAAAAXRSTlMAQObYZgAAAnJJREFU\n",
       "OMu1Vb9PFEEU/rgfqwvruoGCkjUWkmgC/wCR6CY2RpbOEAsKCiJGuMJYmAMriaHgEisLg8beXCdy\n",
       "iW5jUCk0WhkTudBaiHjmoiLnezO7M7PrnTTwkpns/Pi+efPe92YBuJ9x0Hb1EffOGg7epoeps7ep\n",
       "c8cawbkbqcXuhVPNpZPGxEwG3QbDZlWpOzbHDLd5fNQHNsPUllyxsv7moR4vcFcUn5PogCE7sp2Q\n",
       "SubZCrXRLLMdzmkXX0TUF5jUrqADhuzLbpp5xQO+Sgdf36o9jZnz9YsK0bfp8V3JT/REyGC0dY18\n",
       "SzMPUlsVAGs+0j6P+wpSWREXL1EbkTMaY5ht/0gzN4D+M2KpN9LRmNlSwGJ0to6YtSSnNMawK/m9\n",
       "hFSk0Wrcf/BcLp3Qca617irESxFWEQlLXsTAaHNC6ycnhdM4zZe0KTgbIhmOb2bwnhqFGHgHmb2C\n",
       "1IPGAJ9qZGtCO11/eKIMTN0RLOS9vSduvUR7kgzCn0hUGgRj8pQq1uOTFSa2KW5BsCMW54HLrKPj\n",
       "dLb7S1CMGj7DzyVhJvlKBX7AEzmlMQYzXWeRv9n/AgNmKTuF7yIa1bbMVK09ItXoR7xDYzRznuWS\n",
       "xLm7GktzQPp0KcU8AUeodDguLiK7LutEYSKDuS+uVa06kqa1KLdshJrZ/ejjLZ/Moc3tyoifjpSc\n",
       "GeP8Vi8GHHZuKDKY37eC4GY9LqLyZPIi7ayeB16RBHqXS3CHmkIcnHa2BOMse6r+BpsetlrlVKUY\n",
       "lr8gtZHYeGb9WmZc9P59RdszZ62+z7qLDszuYTCLwnae/R9o7/f/qLT7pwgZuI8P5T/4F5i6tSvl\n",
       "Ame3AAAAAElFTkSuQmCC\n",
       "\" style=\"display:inline;vertical-align:middle;\" /></a> <a class=\"ProveItLink\" href=\"../__pv_it/791a69ee6a8e2109ed353092dc5bd80073aea4460/proof.ipynb\" style=\"text-decoration: none\">&#x22A2;&nbsp;</a><a class=\"ProveItLink\" href=\"../../../../__pv_it/077b2ff79244fb4582cbe22c6e3356fa92a52f2f0/expr.ipynb\"><img src=\"data:image/png;base64,iVBORw0KGgoAAAANSUhEUgAAABAAAAAOBAMAAADUAYG5AAAAMFBMVEX///+qqqru7u4iIiJ2dnbc\n",
       "3NyIiIjMzMxmZmYQEBC6uroyMjJERERUVFSYmJgAAADLUcuvAAAAAXRSTlMAQObYZgAAAGpJREFU\n",
       "CNdjYGB4+//u3dMLGIBgDgMDxy8gzf4NiP8CGWxfGRj4vgAZPBMYGJgnARn8FxhY9ygAGfXX0pof\n",
       "gDTlBzAw2YIYJ0EckBBI53sHoBH/gIz7AhBjWH9DjancBLTl/N+7t/cxMAAA3u4f/5xagjYAAAAA\n",
       "SUVORK5CYII=\n",
       "\" style=\"display:inline;vertical-align:middle;\" /></a></span></td></tr>\n",
       "<tr><td>&nbsp;</td><td colspan=4 style=\"text-align:left\"><span style=\"font-size:20px;\"><a class=\"ProveItLink\" href=\"../../../../__pv_it/2cbe72a7ad6f655694dd697106680215e8489b600/expr.ipynb\"><img src=\"data:image/png;base64,iVBORw0KGgoAAAANSUhEUgAAAA8AAAAOBAMAAAACpFvcAAAALVBMVEX///8QEBBERERUVFS6urqI\n",
       "iIhmZmaqqqrc3Nzu7u6YmJgyMjIiIiLMzMwAAADtIaYWAAAAAXRSTlMAQObYZgAAAFtJREFUCNdj\n",
       "YACBOwxQsA9Kc52bAGG05zVAGAFxDmCaZULdAjBjCsO9ADDDgaEvAUTzGhvbKYCVMDAwbgAxChgY\n",
       "eASANAeQwf0AyJgNxEwvGRia5HYwcOm9TgAA6BoR3jrzwFcAAAAASUVORK5CYII=\n",
       "\" style=\"display:inline;vertical-align:middle;\" /></a> : <a class=\"ProveItLink\" href=\"../../../../__pv_it/077b2ff79244fb4582cbe22c6e3356fa92a52f2f0/expr.ipynb\"><img src=\"data:image/png;base64,iVBORw0KGgoAAAANSUhEUgAAABAAAAAOBAMAAADUAYG5AAAAMFBMVEX///+qqqru7u4iIiJ2dnbc\n",
       "3NyIiIjMzMxmZmYQEBC6uroyMjJERERUVFSYmJgAAADLUcuvAAAAAXRSTlMAQObYZgAAAGpJREFU\n",
       "CNdjYGB4+//u3dMLGIBgDgMDxy8gzf4NiP8CGWxfGRj4vgAZPBMYGJgnARn8FxhY9ygAGfXX0pof\n",
       "gDTlBzAw2YIYJ0EckBBI53sHoBH/gIz7AhBjWH9DjancBLTl/N+7t/cxMAAA3u4f/5xagjYAAAAA\n",
       "SUVORK5CYII=\n",
       "\" style=\"display:inline;vertical-align:middle;\" /></a></span></td></tr><tr><td>2</td><td>theorem</td><td></td><td><span style=\"font-size:20px;\"> <a class=\"ProveItLink\" href=\"../../implication/_proofs_/affirmViaContradiction.ipynb\" style=\"text-decoration: none\">&#x22A2;&nbsp;</a><a class=\"ProveItLink\" href=\"../../implication/__pv_it/6e067bbf01a47ec3fdb8c87f2276ede1c4a744140/expr.ipynb\"><img src=\"data:image/png;base64,iVBORw0KGgoAAAANSUhEUgAAAJkAAAAWBAMAAAAhlCOEAAAAMFBMVEX///8QEBC6urrMzMxUVFRm\n",
       "ZmZERETc3NwyMjKqqqp2dnaIiIiYmJgiIiLu7u4AAAAU9Wx4AAAAAXRSTlMAQObYZgAAAh1JREFU\n",
       "OMtjeMBATXABRJymhkm2QLwSxOijhmn9QFwGxOwJVDCM5z4w0DiAmHUCFUyrjC8AGrm8vLyWGh7d\n",
       "sF8BSH5LS7uFV1kxMgenL5gezD8ApJwZGNLB/HZ0BQpgkn0BXICjgMEKl2mPGOw3ACkVBr4GcCh+\n",
       "goZmV1frATALEjdsCB3nFRi4FJCNSEC2uj4ASPEycIM1P/0DJF6HxjBsWPBaCUntbLgGvvgDUJsx\n",
       "TWN2cfEH8bgP8ILzw7qrQHZS3TugaVxvkNSmw3VwvQ0ABwwQzEQ3jYmBgRFkEV+DCdjwDWkMDEfB\n",
       "kbNAOw5JrQBchzUbUGQ3xPsFaKYBY4cXrDLdCUSyMMQyMIC9sSFUFincmBFec2C9AArmsLS0tAxh\n",
       "VNPYgaZxfACxpoKz6kmG/QzMCyBuY7VGqGVyYOACaQdGzwRuoHoLiHbWYBTTXoDc+w/EYgTFLN/V\n",
       "0PwHzNfS0rJB4caFMI3TARazb0PD/sFNY04tQDKtTL6dgSf/ByhSeUCRwFrAYG/A5wBxG7JpTPB0\n",
       "Es7A/JmBQY1haygQuKKnEBSgw8DAf4DBHerTaoRavgtQ05iAgQlMRKcY3gHBqw34THvyjYHd/w7D\n",
       "MwVw6k1DTr33ID7jAyankr8HGILAXFAyYE1LE0vLwpcnlwHDDS1t7kRVAYniOtJLBYhpz1DEODeQ\n",
       "W8ZATOM8gCzGQnaJBUkbDIeRxdbh1QEAkzCKhUZAJ2AAAAAASUVORK5CYII=\n",
       "\" style=\"display:inline;vertical-align:middle;\" /></a></span></td></tr>\n",
       "<tr><td>&nbsp;</td><td colspan=4 style-\"text-align:left\"><a class=\"ProveItLink\" href=\"../../implication/_proofs_/affirmViaContradiction.ipynb\">proveit.logic.boolean.implication.affirmViaContradiction</a></td></tr><tr><td>3</td><td>assumption</td><td></td><td><span style=\"font-size:20px;\"><a class=\"ProveItLink\" href=\"../__pv_it/914e2e75adaf19a4938e0413a1a8fbb4767549080/expr.ipynb\"><img src=\"data:image/png;base64,iVBORw0KGgoAAAANSUhEUgAAAEsAAAAVBAMAAAD85A5eAAAAMFBMVEX////c3NxERESqqqpUVFS6\n",
       "urrMzMwyMjIQEBCIiIh2dnYiIiLu7u5mZmaYmJgAAABXZE4RAAAAAXRSTlMAQObYZgAAAUJJREFU\n",
       "KM9jYGDgu8eAD7CtEgBRPLsY8AO2ZhDJ+QFEPvnv4qIegCK9/FN9xSYDIOM6iMfVABZsYmDg/Ypq\n",
       "jEIkT80qIL0CoYztJxB/QVfGMJUdVRnnR6BffoFlT1bv3g5TZsdyAEUZE5Dk7gGbW3cAyTQhVNP4\n",
       "HRgYi8DyQgcQlrLt04Ep4y0AkfmeM28/AEsqItwWvf/HBCD9HsTJAAfDfAEGni3gYFRA9sJMIyDN\n",
       "foGBIaUNLKQBUgoyjrV7926EF5hYFwAZ6kCJiASQECgs3oOE2ByQTWNiABrODRJnAbmN7R+Q8AcF\n",
       "Oc8GDGVgt3FtgAYb43ewpB+KMpCliAABBVtGDVjydACSsreTkMONV/+Li3sdRJKxNgEe9dotBqjB\n",
       "iwSY3aE+hQHsyjAAWBkfQWXg9Mazk1DqbQVTfIsJ5wUARE9btOyT4dIAAAAASUVORK5CYII=\n",
       "\" style=\"display:inline;vertical-align:middle;\" /></a> <a class=\"ProveItLink\" href=\"../__pv_it/c8fb2ead5ce9bf67050d1f45aa1e107c886568230/proof.ipynb\" style=\"text-decoration: none\">&#x22A2;&nbsp;</a><a class=\"ProveItLink\" href=\"../__pv_it/41a86ef0ff9417c73c472e1bdfa161b308e2753e0/expr.ipynb\"><img src=\"data:image/png;base64,iVBORw0KGgoAAAANSUhEUgAAADcAAAAPBAMAAACy3Eq1AAAAMFBMVEX///+qqqru7u4iIiJ2dnbc\n",
       "3NyIiIjMzMxmZmYQEBC6uroyMjJERERUVFSYmJgAAADLUcuvAAAAAXRSTlMAQObYZgAAAOZJREFU\n",
       "GNNjYGB4+//u3dMLGJCB95/9O20EwMw5DAwcv1AkGQ4sY9rkAmKwfwPiv+iSDFncIAbbVwYGvi9g\n",
       "MbXNxtYwSTleBSCDZwIDA/MksBn7FJB0xoAY/BcYWPeARWMUEMay2x0CMeqvpTU/AAsdRdi52P5n\n",
       "AoiRH8DAZAtiMB1AdlCaDIhxEqQApJVrsrExwkE8XA5ABsgX70EM9gvIOnkYgAax/wNy7oOCg8kA\n",
       "QxLkTdbfYKF7KJIgY0HerNwEFlJegCT5IgcYquf/3r29DyLEuqMAHvCH5wqghigD422oayEAAEv1\n",
       "Sz0foy5uAAAAAElFTkSuQmCC\n",
       "\" style=\"display:inline;vertical-align:middle;\" /></a></span></td></tr>\n",
       "<tr><td>4</td><td>hypothetical reasoning</td><td>5</td><td><span style=\"font-size:20px;\"><a class=\"ProveItLink\" href=\"../__pv_it/170be7e8a90ac14db6b32e4154b032e0d7e7cdce0/expr.ipynb\"><img src=\"data:image/png;base64,iVBORw0KGgoAAAANSUhEUgAAAHEAAAAVBAMAAACDNRyvAAAAMFBMVEX///9ERETc3NyqqqpUVFS6\n",
       "urrMzMwyMjIQEBCIiIh2dnYiIiLu7u5mZmaYmJgAAABJJ2g3AAAAAXRSTlMAQObYZgAAAZ9JREFU\n",
       "OMtjYGDgu8dAImBbpQCieHYxkAzYmkEk5wcoNxtN+sl/FxfxAAxdYGXXQQRXA1SoHkSwgpkJYLKR\n",
       "gYH3K4ZOsLIVyDr59h8AkiwgTZwTwE76CcRf0DVClKHoVL4P8jabAJDgPgD2xiegul/oOiHKUHRO\n",
       "mA/2UxEQ24IFGIES3D3oOiHKkHWyHrB/wADVVQQW4XdgYCo8gKYRqgysk7cALHSUIR/sO6BLwS5m\n",
       "YMj3nHn7AbqVUGXvQewMSMAHMOhfYICEDgtEZL4CA88WiHre3SCwAKGMHUiktEHi1sXFH2LVBobj\n",
       "EOUSIN1IlrI5ICkTB0pEJEDjkQPi7MsM6yAqQRHyfgGqTpgybpA4C1iDAZAHCSp1oK1ghf+AhL8B\n",
       "qk6YMrA/uUAKmYBC7JBkyJIHDilwdDJ9B6ZrJJ1wZYhYAXmN8Q9EgfQBeHRm1DAwnN8A05qAUAbX\n",
       "qdhfxMAn/x0cuAy1kOCU/+LiXgdknPgEdy9CGUoagoMcNH4QlmyGXSc6eIBLJx85OsH5k2cnfo2c\n",
       "2MqEVkiOW0xWOQQAAoFzEZWlVoEAAAAASUVORK5CYII=\n",
       "\" style=\"display:inline;vertical-align:middle;\" /></a> <a class=\"ProveItLink\" href=\"../__pv_it/496485383bab7bd1bfdce842d67405ce050a36470/proof.ipynb\" style=\"text-decoration: none\">&#x22A2;&nbsp;</a><a class=\"ProveItLink\" href=\"../__pv_it/780654ca0d87044d6c507aea8fecb7cace6d3b8d0/expr.ipynb\"><img src=\"data:image/png;base64,iVBORw0KGgoAAAANSUhEUgAAAFwAAAAVBAMAAAA5lpTPAAAAMFBMVEX////c3NwiIiJERESqqqqY\n",
       "mJh2dnZmZmYQEBDu7u4yMjJUVFTMzMyIiIi6uroAAAAs73DqAAAAAXRSTlMAQObYZgAAATxJREFU\n",
       "KM9jYCAR8F1AF4nDp/w0ghn9f/duqwcM7AewKpQFkyuRRJoZGNj/MTAswKr8OIjgRXILz18g/s3A\n",
       "EIYQ4kRTzjEBIcD7kYGB9RsDwwyEENcEVOWvkKxjbmBgYOoE0g6IgNiAqrwMSTn/BgbGxUDj2AoQ\n",
       "YrmoypciKT+/925RAJBmAfu1SAkE9AtQlPcBAwMsnsDAcF+AgVMb5IIGJDO8HiAr/wcLFaAjLYD0\n",
       "faDxPB+QlHOueIBDOTAMGeIT0JSfykQ2vQWhnOcrkN7vAHMMxO1KlihuN0UoBwU74y8gmxUpWr1R\n",
       "QyYdxjsADvYToDSBFJCMC1CVP4Jz2e1/794FDleuB4iYE4DQQJdpKCkpM3AIYCYmpETAgybFmoCp\n",
       "PBdPel+JIcK5AI9yaQwRbgE8yhkxMt8d3IoBgF5O3CK/r0EAAAAASUVORK5CYII=\n",
       "\" style=\"display:inline;vertical-align:middle;\" /></a></span></td></tr>\n",
       "<tr><td>5</td><td>specialization</td><td>6, 7, 8, 9</td><td><span style=\"font-size:20px;\"><a class=\"ProveItLink\" href=\"../__pv_it/3876acf3958a1014c6ea743a9fdaa422342f82360/expr.ipynb\"><img src=\"data:image/png;base64,iVBORw0KGgoAAAANSUhEUgAAAJkAAAAVBAMAAACnAFEqAAAAMFBMVEX///9ERETc3NyqqqpUVFS6\n",
       "urrMzMwyMjIQEBCIiIh2dnYiIiLu7u5mZmaYmJgAAABJJ2g3AAAAAXRSTlMAQObYZgAAAhpJREFU\n",
       "OMtjYGDgu8dABcC2SgFE8exioApgawaRnB+g3Gw06Sf/XVzEAzB0oSvj8//i4lgKZFwH8bgaoML1\n",
       "IIIVzEwAk40MDLxfMUyrRxfgEGBguA+0dQWyaXz7DwBJFpBBnBPATv8JxF/Q9UKUIYN8oOp8BzTT\n",
       "lO+DgpENaBEDN1gD5yeg3l/opkGUIYP5QIH3C9BMmzAfHEZFQGwLFmAESnD3oJsGVYYEJIB4xwFU\n",
       "01gP2D9ggJpUBBbhd2BgKkT3FkwZEgAGhroMA9Q03gKw2FGw/8G+BPsWGBaeM2+j64QrQ0oZX2bO\n",
       "3QdivAcRGRCXBzDoX2CAxABLACw8eLZAdPDuBoEFSMoYGG6DhHZBgvc0MBIY2IESKW0QG1xc/CFO\n",
       "2sBwHBEe85Ecx+aArAwCUiDBy/kPxBEHKo5IgKYzDoiXLzOsg4cHOK6QTUMog5sGDF5I1HOD1LKA\n",
       "ZQ2APEh0qANdB9YMss/fANU0hDK4aflAF7F8hoUbF0gzE1AZOySLseRBghkUHkzfgfkYyTSYsgNI\n",
       "poGSm34BA3IKAQUV4x+IJukD8OSWUcPAcH4DTGsCTBnPb7gN4OBlaz+AbJpifxEDn/x3SGzVQqJR\n",
       "/ouLex2QceIT3F8wZTz9iPxwEVg2lIPjCiUvwEEOGj8Is/RhVcBSJGE3DR08wBTiY8BlGh+1TAOX\n",
       "bzw78RvGiUVsAraytxVi0WKq1QsAG9WXW5tftxQAAAAASUVORK5CYII=\n",
       "\" style=\"display:inline;vertical-align:middle;\" /></a> <a class=\"ProveItLink\" href=\"../__pv_it/6fb07ce56ca386b3169e6a859ae30903a74715420/proof.ipynb\" style=\"text-decoration: none\">&#x22A2;&nbsp;</a><a class=\"ProveItLink\" href=\"../../__pv_it/8f1f7fac882de28c72b62ab80a1700b6d8fd066b0/expr.ipynb\"><img src=\"data:image/png;base64,iVBORw0KGgoAAAANSUhEUgAAAA4AAAAOBAMAAADtZjDiAAAAG1BMVEX///9EREQQEBAiIiJmZmbM\n",
       "zMyIiIjc3NwAAACryk5kAAAAAXRSTlMAQObYZgAAABlJREFUCNdjYGBgKGOAgBBa0s7GxkbGxoYA\n",
       "FMUF2aBfHgoAAAAASUVORK5CYII=\n",
       "\" style=\"display:inline;vertical-align:middle;\" /></a></span></td></tr>\n",
       "<tr><td>&nbsp;</td><td colspan=4 style=\"text-align:left\"><span style=\"font-size:20px;\"><a class=\"ProveItLink\" href=\"../../../../__pv_it/2cbe72a7ad6f655694dd697106680215e8489b600/expr.ipynb\"><img src=\"data:image/png;base64,iVBORw0KGgoAAAANSUhEUgAAAA8AAAAOBAMAAAACpFvcAAAALVBMVEX///8QEBBERERUVFS6urqI\n",
       "iIhmZmaqqqrc3Nzu7u6YmJgyMjIiIiLMzMwAAADtIaYWAAAAAXRSTlMAQObYZgAAAFtJREFUCNdj\n",
       "YACBOwxQsA9Kc52bAGG05zVAGAFxDmCaZULdAjBjCsO9ADDDgaEvAUTzGhvbKYCVMDAwbgAxChgY\n",
       "eASANAeQwf0AyJgNxEwvGRia5HYwcOm9TgAA6BoR3jrzwFcAAAAASUVORK5CYII=\n",
       "\" style=\"display:inline;vertical-align:middle;\" /></a> : <a class=\"ProveItLink\" href=\"../../../../__pv_it/2cbe72a7ad6f655694dd697106680215e8489b600/expr.ipynb\"><img src=\"data:image/png;base64,iVBORw0KGgoAAAANSUhEUgAAAA8AAAAOBAMAAAACpFvcAAAALVBMVEX///8QEBBERERUVFS6urqI\n",
       "iIhmZmaqqqrc3Nzu7u6YmJgyMjIiIiLMzMwAAADtIaYWAAAAAXRSTlMAQObYZgAAAFtJREFUCNdj\n",
       "YACBOwxQsA9Kc52bAGG05zVAGAFxDmCaZULdAjBjCsO9ADDDgaEvAUTzGhvbKYCVMDAwbgAxChgY\n",
       "eASANAeQwf0AyJgNxEwvGRia5HYwcOm9TgAA6BoR3jrzwFcAAAAASUVORK5CYII=\n",
       "\" style=\"display:inline;vertical-align:middle;\" /></a>, <a class=\"ProveItLink\" href=\"../../../../__pv_it/077b2ff79244fb4582cbe22c6e3356fa92a52f2f0/expr.ipynb\"><img src=\"data:image/png;base64,iVBORw0KGgoAAAANSUhEUgAAABAAAAAOBAMAAADUAYG5AAAAMFBMVEX///+qqqru7u4iIiJ2dnbc\n",
       "3NyIiIjMzMxmZmYQEBC6uroyMjJERERUVFSYmJgAAADLUcuvAAAAAXRSTlMAQObYZgAAAGpJREFU\n",
       "CNdjYGB4+//u3dMLGIBgDgMDxy8gzf4NiP8CGWxfGRj4vgAZPBMYGJgnARn8FxhY9ygAGfXX0pof\n",
       "gDTlBzAw2YIYJ0EckBBI53sHoBH/gIz7AhBjWH9DjancBLTl/N+7t/cxMAAA3u4f/5xagjYAAAAA\n",
       "SUVORK5CYII=\n",
       "\" style=\"display:inline;vertical-align:middle;\" /></a> : <a class=\"ProveItLink\" href=\"../../../../__pv_it/077b2ff79244fb4582cbe22c6e3356fa92a52f2f0/expr.ipynb\"><img src=\"data:image/png;base64,iVBORw0KGgoAAAANSUhEUgAAABAAAAAOBAMAAADUAYG5AAAAMFBMVEX///+qqqru7u4iIiJ2dnbc\n",
       "3NyIiIjMzMxmZmYQEBC6uroyMjJERERUVFSYmJgAAADLUcuvAAAAAXRSTlMAQObYZgAAAGpJREFU\n",
       "CNdjYGB4+//u3dMLGIBgDgMDxy8gzf4NiP8CGWxfGRj4vgAZPBMYGJgnARn8FxhY9ygAGfXX0pof\n",
       "gDTlBzAw2YIYJ0EckBBI53sHoBH/gIz7AhBjWH9DjancBLTl/N+7t/cxMAAA3u4f/5xagjYAAAAA\n",
       "SUVORK5CYII=\n",
       "\" style=\"display:inline;vertical-align:middle;\" /></a></span></td></tr><tr><td>6</td><td>theorem</td><td></td><td><span style=\"font-size:20px;\"> <a class=\"ProveItLink\" href=\"binaryOrContradiction.ipynb\" style=\"text-decoration: none\">&#x22A2;&nbsp;</a><a class=\"ProveItLink\" href=\"../__pv_it/09914cad4332a3a37704f959d3d64a9d1df152bb0/expr.ipynb\"><img src=\"data:image/png;base64,iVBORw0KGgoAAAANSUhEUgAAALMAAAAWBAMAAAB567CdAAAAMFBMVEX///8QEBC6urrMzMxUVFRm\n",
       "ZmZERETc3NwyMjKqqqp2dnaIiIiYmJgiIiLu7u4AAAAU9Wx4AAAAAXRSTlMAQObYZgAAAh9JREFU\n",
       "OMu1lL9v00AUx78kcVxi1/QfAHVgrJQMSAwMRCCVbs0Q0wlhCeFu1ENFp4psFgt4gT+gQ38sVSqx\n",
       "oA64UgdQB7pkASxlgG4ViKhFiFJx73yOn0uNKlE/KZf3zffe53LvzkYfhcUuDTvnDNW7NK7R8Oyc\n",
       "0eUWjY9pEacQ9IhothYUgjZXFhYWUQgah677oSD0bWBWJr4cXx7Ykw1KSsm8EU8lF+fs9oMMwk/T\n",
       "jKnQV2F1ZGe+S2mOwRijpJrMez+eZFvABierkr9NhR6FEdL3lyMptSZKPzjauh+Crqn4tIG6x2iq\n",
       "JA5uKrQRjsoncr0Xr9SFtsvRtf0WXosL2gQ+Avf4v1YlcXBToa3ONam6rpRfG3jrcfSNqkN5xYM1\n",
       "gOnzw1IlMYabCo3ZWzRW1Jr1zVePwNFNsQljHPPiYH9tTvJXToXvIWMm6Bdy/+/wRqpVcSB9hjYD\n",
       "4xssB3dEazowr9Bvy67rdoYlsRqaHH2BDsnq2XOS+FD0JGDoffvuMbBEra62YP1Mqp20RKrU1KIo\n",
       "uhxF9PIwydc83JTXWdj1BkPPoDwA9oSPSwFKgxQ9LJEqY2ZiQlSGug/9GHqP9bokLqa4YrVtkT/p\n",
       "Y7EF3VewpCRWsXlKfD6EPv2pfITVA3sqSNHWtIP53yGdP2rP7fZT0cf4MjeGJVIpMz9Mllczjnf6\n",
       "pJMqP67nonMmnVT5EZ4FHf5DnS0q//tm/QOva5lS+2+2eQAAAABJRU5ErkJggg==\n",
       "\" style=\"display:inline;vertical-align:middle;\" /></a></span></td></tr>\n",
       "<tr><td>&nbsp;</td><td colspan=4 style-\"text-align:left\"><a class=\"ProveItLink\" href=\"binaryOrContradiction.ipynb\">proveit.logic.boolean.disjunction.binaryOrContradiction</a></td></tr><tr><td>7</td><td>assumption</td><td></td><td><span style=\"font-size:20px;\"><a class=\"ProveItLink\" href=\"../__pv_it/2abc8060ba634b3a1c69314d724b873bb664ee1d0/expr.ipynb\"><img src=\"data:image/png;base64,iVBORw0KGgoAAAANSUhEUgAAAEkAAAAVBAMAAAD4Ed5jAAAAMFBMVEX///9ERETc3NyqqqpUVFS6\n",
       "urrMzMwyMjIQEBCIiIh2dnYiIiLu7u5mZmaYmJgAAABJJ2g3AAAAAXRSTlMAQObYZgAAAVZJREFU\n",
       "KM9jYGDgu8eAB7CtUgBRPLsY8AK2ZhDJ+QHK24Am/eS/i4t4AAPDdRCHqwEiyA5WHQDWABFpZGDg\n",
       "/crAsAJZ1es/ININRMyEGP4TiL+gqmKy/QSiEkHEHrAIJ1CA7xeqKk7Or2B7gT5ivgAWYQRKcPeg\n",
       "qoph/geiQCrYwX5n4HdgYCo8AFXFWwAOjwCQMyC2JUIcmu858/YDIP0exMkAe4uVgekvA9TlrhBV\n",
       "8xUYeLaAHAE0PqUNLJTi4vIRzOBm4CmAqJIAqQQZJg4kIhKg4dQOluM14HoAUfUFZNsCoD4gZmAB\n",
       "aWUG4h2QECnghsYFyDf+BlB3cYFiRhmI6yGybi8Z4MHF9J0BKSTATpE/AJZNhIQpOLgyapBUMUl8\n",
       "V2B4+L8WEp+QMOWV/+LiXsfAgBaP8JRyAC1tYFWFAcCq+AipAqcvnp0E0mormOJbTDDdAwDyolZE\n",
       "uavBMwAAAABJRU5ErkJggg==\n",
       "\" style=\"display:inline;vertical-align:middle;\" /></a> <a class=\"ProveItLink\" href=\"../__pv_it/1fe62088827f068ac7a50be509d0dc7fbf045dab0/proof.ipynb\" style=\"text-decoration: none\">&#x22A2;&nbsp;</a><a class=\"ProveItLink\" href=\"../__pv_it/0f1bf4090acd92174180531bf3e50944b30066e50/expr.ipynb\"><img src=\"data:image/png;base64,iVBORw0KGgoAAAANSUhEUgAAADcAAAAPBAMAAACy3Eq1AAAAMFBMVEX///92dnYQEBBERERUVFS6\n",
       "urqIiIhmZmaqqqrc3Nzu7u6YmJgyMjIiIiLMzMwAAACFkkdwAAAAAXRSTlMAQObYZgAAAP1JREFU\n",
       "GNNjYACBtwyogNv/i4vzUSjnPIhgBTMfgEkmAwaG+gCIwvsLgCQLSJwtASzyHki9dwAzZ9RPAJJ8\n",
       "QNUMvAvAIvlAgf0CYGZCPtiEk0DcDrHHCIgvgdWxLujfwACVOAmR/MLAMMcKzFoKtgJsJNhooA1f\n",
       "0tJvQ5QFMMwvYIA4hgXiQrafDAxrwe7hc3Hxh2i4wLAGopxZAajgN9R/TAfAYhUM0hBJfqAu7o8g\n",
       "VgPQNgWw2BygXog3gQ5k+QFkcAIleT6AxVheQ4IA7M35INNA1jD/gjjSdgHcm3w6QPZk/ZMM3PZ/\n",
       "wM5lOA6RK/7v4nJmA1pkMLxC5QIA6tw+1pV4TWcAAAAASUVORK5CYII=\n",
       "\" style=\"display:inline;vertical-align:middle;\" /></a></span></td></tr>\n",
       "<tr><td>8</td><td>assumption</td><td></td><td><span style=\"font-size:20px;\"><a class=\"ProveItLink\" href=\"../__pv_it/edd8455a49d47780786b5faa6e783100cb7d31cc0/expr.ipynb\"><img src=\"data:image/png;base64,iVBORw0KGgoAAAANSUhEUgAAADAAAAAVBAMAAADyTXAxAAAAMFBMVEX///9ERETc3NyqqqpUVFS6\n",
       "urrMzMwyMjIQEBCIiIh2dnYiIiLu7u5mZmaYmJgAAABJJ2g3AAAAAXRSTlMAQObYZgAAALxJREFU\n",
       "KM9jYGDgu8eABrIWgUieXQwYIMMASHB+QBFj2wAkeAuABFcDigT7B5gYmsTrP9glmGw/YZfg5PyK\n",
       "XSKG+R9MDOwCGOAJYPsJpPhALsgIYGC4vRsIQP5hZWD6C1JQy8CQ0gZTnQLCLi4fQWzGOgaGiAQk\n",
       "CaDudhAbpJulACHBDKR2wOzg2oCQUAZS9RjOZWPgAWmWP4DhDyaJ7woMD//XYg8rMMAvwYdFAhwa\n",
       "PDuxxGAAiORbjC3OAaHOM6CzgdAAAAAAAElFTkSuQmCC\n",
       "\" style=\"display:inline;vertical-align:middle;\" /></a> <a class=\"ProveItLink\" href=\"../__pv_it/04d7501518712e5b9d432219fd2131665990c4a50/proof.ipynb\" style=\"text-decoration: none\">&#x22A2;&nbsp;</a><a class=\"ProveItLink\" href=\"../__pv_it/feaa1d0e6d92ad9ead8e5ffd1f92697e3912387a0/expr.ipynb\"><img src=\"data:image/png;base64,iVBORw0KGgoAAAANSUhEUgAAABwAAAAOBAMAAADOPWE3AAAAMFBMVEX///8QEBBERES6urqIiIiq\n",
       "qqrc3Nzu7u6YmJgyMjJUVFTMzMx2dnYiIiJmZmYAAADMbjvTAAAAAXRSTlMAQObYZgAAAGNJREFU\n",
       "CNdjYEAA7gsMyIDzAwq39zsyjy3uGzKXheUzMtec9QcSj92A+wsDw9u7QHAHyGVmYPsHldkFwqtW\n",
       "fULiGjAwSCK4rEDqIoKbCqTmw1zLwD4BSOkXwFyk+DOBoen/PABSrhtHsYt+gAAAAABJRU5ErkJg\n",
       "gg==\n",
       "\" style=\"display:inline;vertical-align:middle;\" /></a></span></td></tr>\n",
       "<tr><td>9</td><td>assumption</td><td></td><td><span style=\"font-size:20px;\"><a class=\"ProveItLink\" href=\"../__pv_it/b22b15039733798321461907c74328825d8427750/expr.ipynb\"><img src=\"data:image/png;base64,iVBORw0KGgoAAAANSUhEUgAAADEAAAAVBAMAAAAdjxsPAAAAMFBMVEX////c3NxERESqqqpUVFS6\n",
       "urrMzMwyMjIQEBCIiIh2dnYiIiLu7u5mZmaYmJgAAABXZE4RAAAAAXRSTlMAQObYZgAAAN1JREFU\n",
       "KM9jYGDgu8eABthWCYAonl0MGICtGURyfkCI8Pl/cXEqBTKug3hcDUiKORQYGO4HMDCswJDJnwDE\n",
       "Dthk5gOtfr8Am4wGEO84gE3mCwODuA4DVIa3AMm1X2bO3QdivAcRGUCn3N4NBEB/cX5kYDgNdAAD\n",
       "+wUGhpQ2mIYUBgYmoMmc/0Ac9QcMDBEJCBl+oHq+X0A2N9B9DCwFCJl8oEqWzzB7uDYgZEDekS9g\n",
       "QHc1G9g7bO0HGDD9c+m/i0v5AwYGbD6FAQIyfNhkwPHDsxNLnLZCInIx1nQAAJmFPcGxt9K+AAAA\n",
       "AElFTkSuQmCC\n",
       "\" style=\"display:inline;vertical-align:middle;\" /></a> <a class=\"ProveItLink\" href=\"../__pv_it/659d862d8201b38a76dac4278242419974e1920f0/proof.ipynb\" style=\"text-decoration: none\">&#x22A2;&nbsp;</a><a class=\"ProveItLink\" href=\"../__pv_it/1da4e2fe7c44632f084fa27ea32e26dc689384c20/expr.ipynb\"><img src=\"data:image/png;base64,iVBORw0KGgoAAAANSUhEUgAAAB0AAAAOBAMAAAAh/woJAAAAMFBMVEX///+qqqru7u7c3NyIiIgQ\n",
       "EBC6uroyMjJERESYmJhUVFTMzMx2dnYiIiJmZmYAAADtoHoAAAAAAXRSTlMAQObYZgAAAHpJREFU\n",
       "CNdjYIACzvW/Vq0oY0AA1gYGhvcJCP5+ByBegOD7GzAwzD+A4LcC8VUFBP8XA4N5E4LL/cvF7yaQ\n",
       "fnsXCO4wMLB8ZmDQhRm3i4GBIwAo9hPB5wfKcf5B8PdPYGDg+ojgg6y3L4AZDraeOxxh/Yv/q1aV\n",
       "A7UAAFRxJOZ+1MVPAAAAAElFTkSuQmCC\n",
       "\" style=\"display:inline;vertical-align:middle;\" /></a></span></td></tr>\n",
       "</table>"
      ],
      "text/plain": [
       "\tstep type\trequirements\tstatement\n",
       "0\tgeneralizaton\t1\t|- forall_{A, B in BOOLEANS | A or B , [not](A)} B\n",
       "1\tspecialization\t2, 3, 4\t{B in BOOLEANS , A or B , [not](A)} |- B\n",
       "\tA : B\n",
       "2\ttheorem\t\t|- forall_{A in BOOLEANS | [not](A) => FALSE} A\n",
       "\tproveit.logic.boolean.implication.affirmViaContradiction\n",
       "3\tassumption\t\t{B in BOOLEANS} |- B in BOOLEANS\n",
       "4\thypothetical reasoning\t5\t{A or B , [not](A)} |- [not](B) => FALSE\n",
       "5\tspecialization\t6, 7, 8, 9\t{A or B , [not](A) , [not](B)} |- FALSE\n",
       "\tA : A, B : B\n",
       "6\ttheorem\t\t|- forall_{A, B | A or B , [not](A) , [not](B)} FALSE\n",
       "\tproveit.logic.boolean.disjunction.binaryOrContradiction\n",
       "7\tassumption\t\t{A or B} |- A or B\n",
       "8\tassumption\t\t{[not](A)} |- [not](A)\n",
       "9\tassumption\t\t{[not](B)} |- [not](B)"
      ]
     },
     "execution_count": 6,
     "metadata": {},
     "output_type": "execute_result"
    }
   ],
   "source": [
    "%qed"
   ]
  },
  {
   "cell_type": "code",
   "execution_count": null,
   "metadata": {},
   "outputs": [],
   "source": []
  }
 ],
 "metadata": {
  "kernelspec": {
   "display_name": "Python 3",
   "language": "python",
   "name": "python3"
  }
 },
 "nbformat": 4,
 "nbformat_minor": 0
}
