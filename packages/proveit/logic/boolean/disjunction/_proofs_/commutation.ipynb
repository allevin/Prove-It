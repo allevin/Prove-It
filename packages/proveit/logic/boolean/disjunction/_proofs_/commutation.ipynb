{
 "cells": [
  {
   "cell_type": "markdown",
   "metadata": {},
   "source": [
    "Proof of <a class=\"ProveItLink\" href=\"../../../../_context_.ipynb\">proveit</a>.<a class=\"ProveItLink\" href=\"../../../_context_.ipynb\">logic</a>.<a class=\"ProveItLink\" href=\"../../_context_.ipynb\">boolean</a>.<a class=\"ProveItLink\" href=\"../_context_.ipynb\">disjunction</a>.<a class=\"ProveItLink\" href=\"../_theorems_.ipynb#commutation\">commutation</a> theorem\n",
    "========"
   ]
  },
  {
   "cell_type": "code",
   "execution_count": 1,
   "metadata": {},
   "outputs": [],
   "source": [
    "import proveit\n",
    "context = proveit.Context('..') # the theorem's context is in the parent directory"
   ]
  },
  {
   "cell_type": "code",
   "execution_count": 2,
   "metadata": {},
   "outputs": [
    {
     "name": "stdout",
     "output_type": "stream",
     "text": [
      "Beginning proof of commutation\n",
      "Recorded 'presuming' information\n"
     ]
    },
    {
     "name": "stdout",
     "output_type": "stream",
     "text": [
      "Presuming previous theorems (applied transitively).\n"
     ]
    },
    {
     "data": {
      "text/html": [
       "<strong id=\"commutation\">commutation:</strong> <a class=\"ProveItLink\" href=\"../__pv_it/8c0ce12b528b498a0c0567bcbc2bd545323f74040/expr.ipynb\"><img src=\"data:image/png;base64,iVBORw0KGgoAAAANSUhEUgAAAQMAAAAWBAMAAAA2k+RkAAAAMFBMVEX///8QEBC6urrMzMxUVFRm\n",
       "ZmZERETc3NwyMjKqqqp2dnaIiIiYmJgiIiLu7u4AAAAU9Wx4AAAAAXRSTlMAQObYZgAAA85JREFU\n",
       "SMfFlk1IVFEUgM/M8/l0/hQXZYvMokVg5QRii4gZalChhUJMi8jUoLFIdBaiiZSDYIpIzcZo12ws\n",
       "I4iBauXCKSrMCA2yRViNUSHYH6JmP2jnnHuf9mbezLTzwrvv3Xvfd+555+8+gI1v8f97zRrFriTd\n",
       "G47iFFRa4iHeJ2nwLKMKZXgpXn5UJhMkVS/4KroBjppTj1Z9vjPJ6h0EJlQ3wC0aX86oAr2RIyyW\n",
       "8516FqrwhKUeoK4Ycswp2IQbzRsJbFdIEl4hgDa8afWZNLCTRUfE8/MV6g/D2owHFz1ecERMKeU3\n",
       "XgtGAk33Dr+HiHHxaWo4kwoWMkARP2qDP+hWTt1bnhkNAkxEwJVvStnxdccvIwHQUYcQETO4erO9\n",
       "/UJGP+yi2AqJT7PPsztQRG4NzzTg9QJ3O2tGQTbu4ywyEgDRUfILEtn4+UuBwOuMKhzHSxWG3pv7\n",
       "h24kjIRiQyufb8b7kBkFeV7QLsWNBFjj12OCsNWwixp5upf7q4v+CneSCgP0FQSBq5icK0xaLjJk\n",
       "YeT+ND1co07t4+bVKfAcGamNGQmA9xxAROSibXeCiy3smBdxkg924VRHf39PTCIF5FkOaStoiyAD\n",
       "65DwDDr7C225PVHxAhkprpdGgrKjq0YQVvIT2Hmjj2xfUL1gRZlz/hMQjcztkAipl8cqlPl8Szzl\n",
       "lKqzs+0EexJVmNcjZTRmIEDx+arrBaFgittjTs73O1NCchTUSbCfuvgVVbB9TlIBu0Kha9gmbITO\n",
       "FiFvrgLl40TEQKApwRJaV8EVKmPFogFe/eaGsSA85qiNlJyUwraQIyh1cyn6RXKGnGLNg3KzfuqO\n",
       "UN9wq9cphexTHTYQgENn/rojoJEdlAW1vFo6cq+Zaxaq4N+qx0ITGZwGHbKwUamRZZ3KQhcBY4lW\n",
       "aJKRoi0bCS0saywSDiIHueY/hVFeHgZ4EFciwgrqASmM8o3Sh53ZIgp1uSwz6GylMG6WlEMyUvbJ\n",
       "A0AnZml+ZT0pwULp4ZryC8mn0Rdh5VUgcI5iwSaF7SEHToLWsByEJ6s94qwQZeYYHkN9bK3uRBWQ\n",
       "UlsWfFUDciyJtm294GhZrmEihyLMQVurQfBwOUCnlrpdXmGFNRUsVFI2GzdQEs55kwIdzEzMrI12\n",
       "Y2THtF7QVkDD1KiUjujUTxXyzHj6CmpL+jlIPriSidv64MMSaNXTGL3Di/4qDJZPxVyaAjGTwzpV\n",
       "m01xWKcl9Eqxrvba0w2MhX9bKwWyN63AyuSpVshEZCX4CvanfFsjK3em/aVwp6DSEncTJ2Mb8ff6\n",
       "Fzk5DGWtu1rjAAAAAElFTkSuQmCC\n",
       "\" style=\"display:inline;vertical-align:middle;\" /></a><br>(see <a class=\"ProveItLink\" href=\"../__pv_it/8c0ce12b528b498a0c0567bcbc2bd545323f74040/dependencies.ipynb\">dependencies</a>)<br>"
      ],
      "text/plain": [
       "commutation: forall_{A, B in BOOLEANS} ((A or B) = (B or A))"
      ]
     },
     "execution_count": 2,
     "metadata": {},
     "output_type": "execute_result"
    }
   ],
   "source": [
    "%proving commutation presuming []"
   ]
  },
  {
   "cell_type": "code",
   "execution_count": null,
   "metadata": {},
   "outputs": [],
   "source": []
  }
 ],
 "metadata": {
  "kernelspec": {
   "display_name": "Python 3",
   "language": "python",
   "name": "python3"
  }
 },
 "nbformat": 4,
 "nbformat_minor": 0
}
