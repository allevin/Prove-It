{
 "cells": [
  {
   "cell_type": "markdown",
   "metadata": {},
   "source": [
    "Proof of <a class=\"ProveItLink\" href=\"../../../../_context_.ipynb\">proveit</a>.<a class=\"ProveItLink\" href=\"../../../_context_.ipynb\">logic</a>.<a class=\"ProveItLink\" href=\"../../_context_.ipynb\">boolean</a>.<a class=\"ProveItLink\" href=\"../_context_.ipynb\">disjunction</a>.<a class=\"ProveItLink\" href=\"../_theorems_.ipynb#rightwardCommute\">rightwardCommute</a> theorem\n",
    "========"
   ]
  },
  {
   "cell_type": "code",
   "execution_count": 1,
   "metadata": {},
   "outputs": [],
   "source": [
    "import proveit\n",
    "context = proveit.Context('..') # the theorem's context is in the parent directory"
   ]
  },
  {
   "cell_type": "code",
   "execution_count": 2,
   "metadata": {},
   "outputs": [
    {
     "name": "stdout",
     "output_type": "stream",
     "text": [
      "Beginning proof of rightwardCommute\n",
      "Recorded 'presuming' information\n"
     ]
    },
    {
     "name": "stdout",
     "output_type": "stream",
     "text": [
      "Presuming previous theorems (applied transitively).\n"
     ]
    },
    {
     "data": {
      "text/html": [
       "<strong id=\"rightwardCommute\">rightwardCommute:</strong> <a class=\"ProveItLink\" href=\"../__pv_it/d7f2940795f7950b1cd970f58abd043c647128bc0/expr.ipynb\"><img src=\"data:image/png;base64,iVBORw0KGgoAAAANSUhEUgAAA98AAAAZBAMAAADahIC3AAAAMFBMVEX///8QEBC6urrMzMxUVFRm\n",
       "ZmZERETc3NwyMjKqqqp2dnaIiIiYmJgiIiLu7u4AAAAU9Wx4AAAAAXRSTlMAQObYZgAACctJREFU\n",
       "aN7tWn2IXFcVP/Ox8z1vdk1J/Gpmg0r/KDFT1CitdIZsaIVid2oTQ4yxU6UbRcLOH6G7uE13FdpS\n",
       "CZ0RCQil7iqJJVDZjWJoScpOSRMlaneLTYOVzbwgJEHT/U42u+nmec+5975338yd7RtRaLe5sG/u\n",
       "5+/cd373nHvufQvgPe2dKMKt9GFOGyeGmuk+fktjH/YUzoHZDOHGalPAnfwnW25uWGBRV+vfbd1W\n",
       "fL0JmM9VZ+5P5Lz27rZYui3jHT6EA2Y6RCnRzgkns/2zR8KTNHJk1fAdENquDjU3Lrmk47t6oHhl\n",
       "7Y0mHOz1PxqvdWu1+bq1dev32911Runm5KXRJvDhsjU52WdJAQ9zwo9g/jmPhMfQEiLmqiFcvErM\n",
       "csyMtByoZ5Oe0ryG5zXdh9HsN815xolZTJt+K6OVsRagZbamzhoAiFrt2hmB7gVS19ljcFa+LCf8\n",
       "cfwpeCScOj6+ejz6ceHRLSc86VDqlRREzcaFsQSs5fruMaIiMu0ZZ5iYKGnbAsyQA/M1dRb6oXRB\n",
       "NyMlKYKz6Ih816RPHyLCcZG3lD0STq5g5+ohfD3/+ak1bVdtxsf5euePek4K3xYZtuq7D17FZ0vB\n",
       "K07UymPFN7Uy4guMoKWaOvQIUGrVzUhJiuBR9DmRGbkltBLhiRd7evZ7jtLP9PT0rJ5g3T9AP/Hx\n",
       "9E3Hy7OjZzRf3/cZ9ndQ5F/1WWZd9/QCYZW94vgsOuS+opURYuQk19fUkdDqtG5G6jblCO7G10ra\n",
       "i/MHRDhc6+p6xzPhqa6uvUOrhvAW/ir9mdKsXYe6imjuGw4KFeMOOBexd1K7e9Ry74vvizN4bQUZ\n",
       "qRyEnzZr6mgfsVo1M2ogmHaqlLRwOMwJZz5/j2fC2cYRWj23L5EK/TwGj7znVJ4XXrE2MDe5E0VT\n",
       "y7dYldruQafKG07neyvIyD5wfHeltu4qbeQFzYz0ggO0aWTthfULTvhnwRgAo9P0RLg/B5e5N+Qn\n",
       "0Wj39m3f4yHBo7fv+QNmHrLa0u8oAaPTuZFjVVsdQBVTm063vd3n9pmKaJ09p2fall3uyUcTTLTC\n",
       "6FWw6WHxzhbNaBYeBcX7vMa207xUmewescNtjziluRVkjBbBeKumbmyRNvIRKUCZUW0kygUnaNN3\n",
       "DnIbOOFJiLO1tLHRSfWpb8DR7zg3beNwgutqSb48HCXW2t6ADbRmEyy4HOObo1x/vqWVCHe3SkAX\n",
       "pi5t+LTpT7utShGtS2MsYrmuVqRIX1Nl2MSs4EtfF4aDBqBd7pdF8LPIDlMFqTLZPcm39Ts841Qp\n",
       "bvAXtTIeRaYq7rrOBVpXphTgtNT4CSk4SFFCyY5PspzweAVDvcO6of/e/m04HTNjpkP4CREAPiQc\n",
       "xTZ29ETYwfM8tGRiGEXBRRfhsnNc/LkLonWE/xEgzzuYmoHRZZMMQcVSRAs0UAudTIOd5TrCO9va\n",
       "6Jj1gnAE5VhFp4yd8JI4D820pXF3POzqHuGx0TrPOCWKvnxFrQw8kY0NuevSuHv3L9kCnJYaTyYF\n",
       "+3D3DltDNYQbA19khQM67/PdJyfhLyN5lfDL/HLK/3cRCvwDYDeuenRoAYonksxVxa+qhNudMYTd\n",
       "Z6OLgmx9hU+HACmvYGoGTqFHvMuNpYgWaKAWqgxvVN0EfMh+dM3kZL/lEB4eSGr9Q6/8lvCzeycv\n",
       "4TnugKt7nFx6LOcZZ5Rc+iFtWwD9mlibsi5Mt0OlcYfwXv3XDVtwPy6byDLUuHTYgx4fDSmx685D\n",
       "8WMZkQM4hb1O/rxPJTy0j6wieQf3YMYcJDBSbEFXadAuNsV0EXMRLjtTxf22fFGQrSFmO0UBSHkF\n",
       "UzPwEXRb/3RjKaI5mrxU5tDI6rBKeAgt4UIZ/XHR0WMHv2im7wam/YDgV7nHMD6B/niBq0zpTjci\n",
       "L4NnnAvo2OIDitadNvRrYbH7yLoERoVB9GtSgGwxXVJswTBGy+a8YBPgT4Lwg+PCkK5sqiRzdJmP\n",
       "uQzQTnAyduVuhfDobhHh84OJ/8bx+7DV51zxDrIXD91QCeedH2S53ylmJwvU+pUKxNvRSDkg5SWm\n",
       "fmDadcfE24XoIJsRR5MOgApR1LDr6jrG2A/fR0fcsqPHzXzTmmKva6B5GNxGAnu5GvbhW3UvCt9j\n",
       "d4f9138Z/msePOOEq8+aT5xVte604TH8LnHfLeuCVsboqz6oCBAthGtLUWbUOQeXXp03BZv2sQx8\n",
       "TAdxfIsnX4ZUBpVAuWKAnP9JGDqkEA6fIlHroUSai7EVivcDqVm5ymCYDUvNKYTzznez3Q0uKmYn\n",
       "Crw1lAGjgEbKASkvMBsMpAVnurG46MCvWJajyTsmDo3BoaVePvvZG1nWTaZLi9VLPUa4E7jAZm+s\n",
       "BfFg6Sm+71vMIXVa1ly84OrOTg3p5R2g8LEyDp5BrLNFVet2W0v3/Nav2ZusLdeylh9WBYgWwrWl\n",
       "OIJxgHU2I9hkFT8RhCeY2kJE3wNsU4yUeW4DBN7u6vohI/yJd1XC3yAnzeKcHD+SYtAqGPbxYKSd\n",
       "m5pNuOh8DtdH+z7FvqjAW3Hor3E2AhDzElM/kJhrdWMJ0cmiRJOJCpFZYeVOWqcWbMNpcEK9110M\n",
       "jTTo3iSOovX6Nm3dCw1bGghGNu2rVRG+fAGfa+AY9Pt5brvfyHEL99+jEg4i1BijUqoM/jkRmjNc\n",
       "WlgmGG8WFcJF53NkajtAsbsddit+kLnYUrQBMS8x9QMx5A6OJHae2HKqLNuFaCKc0GwHQNDsfPLu\n",
       "Ojj1vPPJ+oxWj94SV5kmNYmjaN1jalYAscmMYkQhfCoOvcXwNNPv6RjPrfkM94knmVpqCWduGLLT\n",
       "rB/0m7A/zzJGugyb8xB+BgJsI9l4DhzCRWfiDV5iAnvN8HPswQuiFTUfQyI4IOUFZoOBF9gu+hhE\n",
       "j8HH/HnRLkUT4YhA3dmDQ2fHwT9RhOcLPueqzfzv9TgV/9/wIbX+/yOcs0mHdpvw4BHIVvwF+Bts\n",
       "fpHnvlWBi8xD+p9uhyDUEF6dh0R6ppytxErbtz3LVFmBf1Vv76DjxI+tiTcPgEK46Mx5m2KOOFsM\n",
       "LLAHL4jWLTziBwFIeYHZYKDx25m32E+HMU4f6bFKiibCEYG6swcVIunliY+jW8j0OqpQ3P6PSrua\n",
       "UmPwiL6+WRypdc+pWQHA2ST7VV8YKnW537A93H216k6VukzC1e666SXewq6Vp9z/IoJ6B1H0OHA8\n",
       "mk8matqJcBeaWkjCic/bhT74yKR4pobwQLE+V3eX7g4OinUDvtyQ8Hs+udJH912Nv8isONAoxMqh\n",
       "39dM6+iRlV78IpypwEc1qYQnQG+mjQlP1A+oNLbwW+kDRvj7p4lm/y89d0vDH6y0cSL3HyeSyR/M\n",
       "G+RlAAAAAElFTkSuQmCC\n",
       "\" style=\"display:inline;vertical-align:middle;\" /></a><br>(see <a class=\"ProveItLink\" href=\"../__pv_it/d7f2940795f7950b1cd970f58abd043c647128bc0/dependencies.ipynb\">dependencies</a>)<br>"
      ],
      "text/plain": [
       "rightwardCommute: forall_{l, m, n in Naturals} [forall_{A, B, C, D | A_1 or  ...  or A_l or B or C_1 or  ...  or C_m or D_1 or  ...  or D_n} (A_1 or  ...  or A_l or C_1 or  ...  or C_m or B or D_1 or  ...  or D_n)]"
      ]
     },
     "execution_count": 2,
     "metadata": {},
     "output_type": "execute_result"
    }
   ],
   "source": [
    "%proving rightwardCommute presuming []"
   ]
  },
  {
   "cell_type": "code",
   "execution_count": null,
   "metadata": {},
   "outputs": [],
   "source": []
  }
 ],
 "metadata": {
  "kernelspec": {
   "display_name": "Python 3",
   "language": "python",
   "name": "python3"
  }
 },
 "nbformat": 4,
 "nbformat_minor": 0
}
