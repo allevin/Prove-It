{
 "cells": [
  {
   "cell_type": "markdown",
   "metadata": {},
   "source": [
    "Proof of <a class=\"ProveItLink\" href=\"../../../../_context_.ipynb\">proveit</a>.<a class=\"ProveItLink\" href=\"../../../_context_.ipynb\">logic</a>.<a class=\"ProveItLink\" href=\"../../_context_.ipynb\">boolean</a>.<a class=\"ProveItLink\" href=\"../_context_.ipynb\">disjunction</a>.<a class=\"ProveItLink\" href=\"../_theorems_.ipynb#destructiveMultiDilemma\">destructiveMultiDilemma</a> theorem\n",
    "========"
   ]
  },
  {
   "cell_type": "code",
   "execution_count": 1,
   "metadata": {},
   "outputs": [],
   "source": [
    "import proveit\n",
    "context = proveit.Context('..') # the theorem's context is in the parent directory"
   ]
  },
  {
   "cell_type": "code",
   "execution_count": 2,
   "metadata": {},
   "outputs": [
    {
     "name": "stdout",
     "output_type": "stream",
     "text": [
      "Beginning proof of destructiveMultiDilemma\n",
      "Recorded 'presuming' information\n"
     ]
    },
    {
     "name": "stdout",
     "output_type": "stream",
     "text": [
      "Presuming previous theorems (applied transitively).\n"
     ]
    },
    {
     "data": {
      "text/html": [
       "<strong id=\"destructiveMultiDilemma\">destructiveMultiDilemma:</strong> <a class=\"ProveItLink\" href=\"../__pv_it/7d5dfa9f388ba88a6213568df948dec6fa29e6050/expr.ipynb\"><img src=\"data:image/png;base64,iVBORw0KGgoAAAANSUhEUgAAArIAAAAZBAMAAAA/E9C3AAAAMFBMVEX///8QEBC6urrMzMxUVFRm\n",
       "ZmZERETc3NwyMjKqqqp2dnaIiIiYmJgiIiLu7u4AAAAU9Wx4AAAAAXRSTlMAQObYZgAAB41JREFU\n",
       "aN7tWn1sU1UUP23XtX19fdskgphIiyKYoFlJcCCoayCGP4xYxWkIihVjEQmhiQsQiKyQEJQ/WP9w\n",
       "CWYSCuEjRDOqhkXFSBFmiCRSlGjEDGpilkVgbvL9Meu5X+/d97GWmWic4ST37t3Tc85973fPPefc\n",
       "mwFUoGXdKbhNwyV396mKMoXbMP0taoZiRWSL/69Pnswbo+oS0sBs+qxGhmPDrs9NMDPNzCePlUO2\n",
       "ksTIIk+MNUG9A319K0pR+jxvGDac9LmJeQzZveTP5nLIVpIYWeQvsiao5jKArxRnv9GeupzHHjpp\n",
       "HxU2nPS5CT9DdgX2vkQ5ZCtJjCw6wJugxhsEGeaEapb0s8EiwqiKgBrMQRl9boKaaab4ezPlkK0k\n",
       "MbJoHG+CDl5AKEp5+qzVkr6BdKftIYA4V6gIZfS5CWqmGdQ9K1e+VTaDVZIYWeVQmjWdlvcjXlf5\n",
       "YAnd0FhmBuJ21Y3Y2oQNZ31uYglFFi4nk6fKV10VJEYUebOs6VRKg6dVbOZdpCOo+h2K+DaObhl9\n",
       "bmIXQxbDyuLyyFaQcCBf1MYaIpy86cQM/IMJLM+avsdLd719ZqwYbQEeCRocVDES0IhQRp+b2MKQ\n",
       "nQBaujyyukQ9g2d7qS788xCbjf1ZbXC4DsxwXgJj+d3XjNfN2nmchpzbLgqghAfqBnMmlivC2kvd\n",
       "SKdIiMyAtjzNsRwvktwshxkwe1VFhA2bvqDxvCGyIQjmzSamN0WCdxYNZHWJMPti9RJAK+OomzZt\n",
       "kLWr2R+pkuA6oDiW4dXSN183nnc48MA6t5nsokjH4+C/aeLURFijNBUzfgk/tP46PPwUTfTMOYfw\n",
       "tQL06jas+katwBsiG8yHpPJM29+UVxMd0CH5rJDwhhliXnzZfRiMzja9CLns2Xuhq/3Ig/MlpAKG\n",
       "nwgd8rKEq//CBu3GzM9clspvBx6Y5raRXRTp5Twol8oi6xok++oiwFYDWW9GcVo7mA8f2pDV9R2Q\n",
       "1dJTJe3OSX1F9ZjXhKyQeGhbLVvTK+g3GQguWtuHyCrnoD3hitwvIVttxH+hQ6L1Z7j79VjPBkb8\n",
       "dv80YKkdLbxARprbHgxkUaT3aH8mBX5zlHBlWBPItBDg993gyLJo4EuHHEPXKn6J4qjvEA1gMQYV\n",
       "dcHkncHOKKjEHdRHpuVkZKkE0nctf7I16wcv+n8Xdb3s5IUIxHl2UuPIuoyJhA6JXvhjVUqKAzio\n",
       "NfLDpFJRDmk2HlsFPrc9vZhExeKW0G2z5vCTZ00gc/waKfQLHNmj3AnYWV7TO2a66tGcbsOq3/Xx\n",
       "57EDr3ITRzmybWj3XH0+FFNj7GCmRjsOm5Bto2ulxGv+YElpdLIOl43GolzTPXkMTG1QyBvITjdy\n",
       "CNWpIm82AYIROh8Hjww8aalaKRmR2B2TeHNxfyaR1kWNuedakZXVn0fh10cRMwPJV8ZaklqcNeBH\n",
       "2KevgHZoMMWR3cX4Deyc8HuBd9ogE19W1G1Y9LWvbsJJOGKuusCFK7H2U6iJosYMhqyizJWRddG1\n",
       "mlL0M68/mCV+wxJ4LuudCT3osUujBrITAHbj16W5jmd7isKtJWCOEdDJABFUCAz4kuOg1YjODHHG\n",
       "mzFGcJuiYm6DJxRM6jRYzsPVu27zWXeBNVGNEhpNnIIiu56XZgy6XxK800Yz/gbDhkXfdzYNFyii\n",
       "63kjyKpkJZ6EKeDPwGP4nTk16vv2tIwslYATdWEWqZdHwF0Czw/J5FISZxVbrn9XrxCYToghCzt8\n",
       "UklNBoGY0ArV1RmHb44s5/0ouA0viLkNnggGJnVq4rUUVON+qe83S47hzUpb9dMt6g5xcfq4ZMN6\n",
       "q5Dz1MI7ptMtp1HQCS1u+JX5LNz3pe3mW4mBynZFGL3hKmgx5rMOyE4UyHIdiiwye7zS0YYM3Amh\n",
       "tRNDVkEvMhif8QiKwSak5+L63DZkTer7ifQTZK8hqgfT6vwvZnXpSe8b3pyQVXK3dtxw0HdFgwlf\n",
       "f4SaoGYEsr5+9NqvFZZhEFm1w4bsFDyClMC3EXz4ZdswjM3h0WCNDdnzAlmmw5DF11EwEPk2w6oi\n",
       "dnSgFbgW7mZo7NeLDDWL83AeQVHrQ/qAvCefG3mrUtyUIcrVifBv5Ota0hAYiAY64Q53fKhbRBnZ\n",
       "3mHcRFqoBb1WTWSpiV6QkEUn+R4a9oC2CAcPYBezIhvC3XaoNNZzE9aVuk+Qg0RPhJ4UkvaTAi+Q\n",
       "o1yHIfssAnQBd9oVaExhRwf8SskDZy6CGh7IiCLDG8F5OE/4J71uFnMjrzHPTRmiRo1C0jb4w4Pd\n",
       "dQsx1WsFRfdZEpB8MRsyq1sXgJQFKhze7foTIRT1vJGiJubIyBq5E+Os9XRrPgQZj7sxzjqeqYKW\n",
       "gpMiS0Kn6Z4jxapakyAvMvzyPBxZn+wohJe3vZJRo8Ba+RMC8ZBhbg1vDsfX6K3ePqwZ6gdigplp\n",
       "rmjEiuy0stLVIu+bkslHe03nMol6rENWZLRL88y8234wIDxPyvZKRo0ik5ZQMtWf/NuXasNHNn8L\n",
       "yML7DsnTUT7gbC5WaR7T5snDf5AqI9s9rP834Pip9n3V4axw2ImpFEf8BXv3yb8ASgKm+v0GG3AA\n",
       "AAAASUVORK5CYII=\n",
       "\" style=\"display:inline;vertical-align:middle;\" /></a><br>(see <a class=\"ProveItLink\" href=\"../__pv_it/7d5dfa9f388ba88a6213568df948dec6fa29e6050/dependencies.ipynb\">dependencies</a>)<br>"
      ],
      "text/plain": [
       "destructiveMultiDilemma: forall_{m in Naturals} [forall_{A, B in BOOLEANS^{m} | [not](A_1) or  ...  or [not](A_m) , A_1 => B_1 ,  ...  , A_m => B_m} ([not](B_1) or  ...  or [not](B_m))]"
      ]
     },
     "execution_count": 2,
     "metadata": {},
     "output_type": "execute_result"
    }
   ],
   "source": [
    "%proving destructiveMultiDilemma presuming []"
   ]
  },
  {
   "cell_type": "code",
   "execution_count": null,
   "metadata": {},
   "outputs": [],
   "source": []
  }
 ],
 "metadata": {
  "kernelspec": {
   "display_name": "Python 3",
   "language": "python",
   "name": "python3"
  }
 },
 "nbformat": 4,
 "nbformat_minor": 0
}
