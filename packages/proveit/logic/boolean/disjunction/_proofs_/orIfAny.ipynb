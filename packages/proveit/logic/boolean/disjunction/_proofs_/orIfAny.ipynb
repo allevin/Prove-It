{
 "cells": [
  {
   "cell_type": "markdown",
   "metadata": {},
   "source": [
    "Proof of <a class=\"ProveItLink\" href=\"../../../../_context_.ipynb\">proveit</a>.<a class=\"ProveItLink\" href=\"../../../_context_.ipynb\">logic</a>.<a class=\"ProveItLink\" href=\"../../_context_.ipynb\">boolean</a>.<a class=\"ProveItLink\" href=\"../_context_.ipynb\">disjunction</a>.<a href=\"../_theorems_.ipynb#orIfAny\" class=\"ProveItLink\">orIfAny</a> theorem\n",
    "========"
   ]
  },
  {
   "cell_type": "code",
   "execution_count": 1,
   "metadata": {},
   "outputs": [],
   "source": [
    "import proveit\n",
    "context = proveit.Context('..') # the theorem's context is in the parent directory"
   ]
  },
  {
   "cell_type": "code",
   "execution_count": 2,
   "metadata": {},
   "outputs": [
    {
     "name": "stdout",
     "output_type": "stream",
     "text": [
      "Beginning proof of orIfAny\n",
      "Recorded 'presuming' information\n"
     ]
    },
    {
     "name": "stdout",
     "output_type": "stream",
     "text": [
      "Presuming previous theorems (applied transitively).\n"
     ]
    },
    {
     "data": {
      "text/html": [
       "<strong id=\"orIfAny\">orIfAny:</strong> <a class=\"ProveItLink\" href=\"../__pv_it/197409d3897a5b8dd8fa7524d4ed4cd0f92f74310/expr.ipynb\"><img src=\"data:image/png;base64,iVBORw0KGgoAAAANSUhEUgAAAnoAAAAZBAMAAABUe57iAAAAMFBMVEX///8QEBC6urrMzMxUVFRm\n",
       "ZmZERETc3NwyMjKqqqp2dnaIiIiYmJgiIiLu7u4AAAAU9Wx4AAAAAXRSTlMAQObYZgAABzNJREFU\n",
       "WMPtWWtsFFUUPp19tbPTaRGDP1RaFSGGHyxGwYDaDSBoiGF5NKTyWiEsvgj7g1BChTYmQCCEbqIk\n",
       "/hDtDwRMEBcMDbEYRkqJwQeb2GBEHks0hoRSyvvNeM69M3fm7s7qttFGIjfZnbvnnsfc755z7rl3\n",
       "AYprwRM/w/0mNeXEsWJZy++jld+WQrZY9PR+fK3h/FGT6qVc7wSUOeaDyYN94teqOXoZenxXBHrM\n",
       "+7R0f4Dni/LnqZZeChYUOGhOmPBGdQ4YpzYkuwbdKh48N/90jt5n9NhYBHoqrWtptj/Qs6yoZlSQ\n",
       "2Mx9+TNi3xHrl1sgR2YQQOCiTPviBn6NuOSlyNOAxF/K0VuG36F4EegxpmX9ErhtVhyaGUEa76K7\n",
       "mp/mFbYDwi0gy/jQZXyXJZpqEpKlPV6KvAzI/FoLQ4/WOZAqAj3moHX9gt5g/lhv9gjSKPo6mR/j\n",
       "tKTldkC4BWSZ8DWc8E2J9skV+g7EvRR5GZD59UqGnratvn5lUXvu4fr6+ky/lAJNfMaZqrtOMCcB\n",
       "ymL5vGvxs8nqSwKyTBAnWz5YolVdYzIpD0WeBnL432TowdVE4lhR6FUkEotb+gO9ALfSGGm+KGg0\n",
       "Y5p5bttkTTBPQJapiEJoTdZNKzPjBRV50XP5P+XoYSZYVBR6mAKCaDcUKcyV+kfQKzXYYyHMu+0Q\n",
       "T1pRl/teWR5c+QKSTM3ktjmGRPObRkFFXvRc/g85ekNAbyoKPSUKZ7C3ggXXDb66S2pnLOAMhwYc\n",
       "bYiN6Uuc5mqCErYxapWw/wqI+WOmH+chjQndb1UitoC0+1gy+5Ogd0q0UjPiTo9uRZ4GHH7eHuPo\n",
       "lUPY8K66Vk+DXXNdZ40M7MNvtkAlNzn5G4BdXNkjWaXKUC37327fPltWpq1fv9o2I48GczRhmDEt\n",
       "51Mw4irAs6+Kct1zkTNsSV0CcolvybxOCBpuWrnJtohhwoCjyNOA4Lf3d45e2PDYauBs7Ww4pGbV\n",
       "rAu9feT2ZWxXn2q95gysgFgWuZOlBaYX0/fUGmFV312t1e0b1yFiOd1y9nF7Oa3RqBs9W5NAb8qA\n",
       "AeYdfG62kmFK9VzkOthh9WwBVwIVMlSsHGlx00pNNvCQMOAo8jTg8Evo6U3PePjr/FXd8H06JqF3\n",
       "hs4AlPpA+eUCJ/8KMIetOxWRI1kSbR3WnQ2rsNMoa4UHFEzST6HnRRA9tQsUBLMd7NFKN3q2JnJs\n",
       "grxsYHd3o+mgF2ryPmovB6sOEAJOEzI+yodTUm5amEWiGhUGhCJvAw6/FLmwCPOANmv4lnArjVMP\n",
       "oIMY2t9vkNALLkWnKGG/hnE/1i+BxjaqeRQNv1FW0WLMu5Q9WRivZ+iAgtVkB/ne8Lm0kDhujYaa\n",
       "XOgJTUQh5zidomhJisnBeOs4SYZ1u4PZ/HmrxLUFOnZ/FW1bIMtQuRe6LtH0KkpBe53lsRXpkhFB\n",
       "F/ykn9KPhd4mxLZrhFEe1YhKvQiwibWrXWPc6JWRczzHt2tWeINyq20i46iypjCEH2HCganHMWOU\n",
       "xco18n1CNF37qEFIdojR8IGsg57QRAuM7KGJNGSmHPRG8bpXp+A8n7E66FaLuZgtoB+4DZ1wUJJh\n",
       "5d7IjTJt5fWPQz/EHPRsRUL3+YxEt/hJ/09OxQIlOPNVe6EiQm/NekkfSxHt0LLFjR48zPBBhYOh\n",
       "mcGlNoHGDgYMzCxhO4ZnNpie1uNqKvglpZqXWN4LjKX0FhOj2g6X7wlNhCS+tmnexSLBxHCx0Svl\n",
       "da8+iPwsbnWwreYPW2D02Sa4xObmyASWXJ7w8gZZD1YJVXdmgoOerUjoPh2X6BZ/CPVT3fyehZ5G\n",
       "CE3GrFXKEsNkDGnf0UTibUTv3XMSej/i5wP6gfmZJYAgrgWrXVhSqCT0XkgkEmnEp8UprMPHGXqq\n",
       "io+vDYaea5SjJzRJqdk9OV+BC4oXc0+maV8lrCssk0fbXEBRAQP+tFIpTmpWGwit0KjwXq2iR7nv\n",
       "KWOzubejQ/GDifEIc+uKFCjs0mGKQWpp9HfL91z4dPhTNnpa7BVv9IQmaoe9JldsK4mE46Ge6uIF\n",
       "NvdWfyBWDWrahV6oB33ukArLk9gb+ARM4ujB4Tz0zrHAhZoe5IXGLKyMQWgtnL4BvoVs3v4kR2+m\n",
       "uK/ArFfHIreBdiPcQ6RRCz2uSb6h6ht6jbiMWrzlX0OvEUqejvAa0EZPiWMqHLUNagzsvWbAH7h2\n",
       "yppq8OfdzGNxeOoyaFUXUjWG2lw7Yx2rB/TPL3RS8E4DfT6rh7e+I8w9iYkngtVywgAqYKbLoxw9\n",
       "S5O9lq5ruhXNs3o3u6FQHvG9lSyav7cGhkIAE/YkN3qi2RXpVsx7nv9rhFN5vKAJEu7VKua93rxN\n",
       "0IPW8F//RyMc8ULPlyx8zrUutuL5vKPFrUYfLu6DcM+2XPQ0+Dv04KN8XuGEfvhfo1f4jkX8n6v9\n",
       "xQ3Vzj68gv9exU450fknLLVfJn4WsIoAAAAASUVORK5CYII=\n",
       "\" style=\"display:inline;vertical-align:middle;\" /></a><br>(see <a class=\"ProveItLink\" href=\"../__pv_it/197409d3897a5b8dd8fa7524d4ed4cd0f92f74310/dependencies.ipynb\">dependencies</a>)<br>"
      ],
      "text/plain": [
       "orIfAny: forall_{m, n in Naturals} [forall_{(A, B, C) in BOOLEANS^{m} * BOOLEANS * BOOLEANS^{n} | B} (A_1 or  ...  or A_m or B or C_1 or  ...  or C_n)]"
      ]
     },
     "execution_count": 2,
     "metadata": {},
     "output_type": "execute_result"
    }
   ],
   "source": [
    "%proving orIfAny presuming []"
   ]
  },
  {
   "cell_type": "code",
   "execution_count": null,
   "metadata": {},
   "outputs": [],
   "source": []
  }
 ],
 "metadata": {
  "kernelspec": {
   "display_name": "Python 3",
   "language": "python",
   "name": "python3"
  }
 },
 "nbformat": 4,
 "nbformat_minor": 0
}
