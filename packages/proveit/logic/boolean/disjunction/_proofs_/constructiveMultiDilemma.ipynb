{
 "cells": [
  {
   "cell_type": "markdown",
   "metadata": {},
   "source": [
    "Proof of <a class=\"ProveItLink\" href=\"../../../../_context_.ipynb\">proveit</a>.<a class=\"ProveItLink\" href=\"../../../_context_.ipynb\">logic</a>.<a class=\"ProveItLink\" href=\"../../_context_.ipynb\">boolean</a>.<a class=\"ProveItLink\" href=\"../_context_.ipynb\">disjunction</a>.<a class=\"ProveItLink\" href=\"../_theorems_.ipynb#constructiveMultiDilemma\">constructiveMultiDilemma</a> theorem\n",
    "========"
   ]
  },
  {
   "cell_type": "code",
   "execution_count": 1,
   "metadata": {},
   "outputs": [],
   "source": [
    "import proveit\n",
    "context = proveit.Context('..') # the theorem's context is in the parent directory"
   ]
  },
  {
   "cell_type": "code",
   "execution_count": 2,
   "metadata": {},
   "outputs": [
    {
     "name": "stdout",
     "output_type": "stream",
     "text": [
      "Beginning proof of constructiveMultiDilemma\n",
      "Recorded 'presuming' information\n",
      "Presuming previous theorems (applied transitively).\n"
     ]
    },
    {
     "data": {
      "text/html": [
       "<strong id=\"constructiveMultiDilemma\">constructiveMultiDilemma:</strong> <a class=\"ProveItLink\" href=\"../__pv_it/15d1529f6d64936aad911e8327fd448dc347c4440/expr.ipynb\"><img src=\"data:image/png;base64,iVBORw0KGgoAAAANSUhEUgAAAkUAAAAZBAMAAADNg0dXAAAAMFBMVEX///8QEBC6urrMzMxUVFRm\n",
       "ZmZERETc3NwyMjKqqqp2dnaIiIiYmJgiIiLu7u4AAAAU9Wx4AAAAAXRSTlMAQObYZgAABntJREFU\n",
       "WMPlmX2IVFUUwM/Mm9mZffPmrZNkGeRMnwYmO0KtpdUOLuEfkW3UFmLYZDRWIs4foZLkjoFY/uHO\n",
       "PwuFhGNoIsU6FS6VkWO5EQk5ViQVqxOESNq2k9+62+vcr/fenTf73tgHTHlg77x7Offc9373nHM/\n",
       "FsBDlg9n4UqWmcMFT50yXOESSkHFk1Hlv/ltMwBaDJRqV+N9ajpoCcaI+skBN0ZeGs0pSgqL49WR\n",
       "kZVGsvFeNR0eYYx2kudNboy8NJpTwsT9287iNxrdvClB2Tk0/bRkXOQOEGaMVpKftBsjL43mlD2k\n",
       "6LxEPjnFm7rMdkkCBE+kCM4OoBUoI8I7mHdj5KXRnDKNFHtP4XcaJd7UQYojzqgk8x9lWVfuAPok\n",
       "ykjbsWrVS64520ujKcWfI+WKUfz682bk4C6mtdupuwH/+tmj3AHgOcoIzmYyP7iv/R4aTSlBuqsx\n",
       "cqD0mZFD+ITr7Pb6OSdHB4DtjBFG6VJ3Rh4azZmySbwoxrWvHJ1qNR7h8VYjGGcKy7e1HeA1xuhm\n",
       "0HPujEyNdpaVthqx+I8TuLj5cMHtC9rzXg0TjlHPsBqvxsaLUpOPLGKakQd9Rc4kg/l6Xh2TmK8D\n",
       "CZajRQchNzBGUYiU5D539SQiV1csRqZGnG3LtTMAfaxF27hxvb13i/mOF90YxQteDbYxZKlr+GA3\n",
       "hMekljby0QEDv6L9Itz5IHeYCdyhDMf5Esc7mNLJGEVKUdtOWt/dU9LSAzBg8yOhEYwzjwzi6+zC\n",
       "2D7R8wQUCyduhKHN+29fKDN6+Cz7LfI/qSIMWdmjtsEcwyHCsCRPlkA942TkGycuehrgDW40r9bD\n",
       "DgvhHT4BokMNIz13h019cPpIRTsQlBgJjZlbJrHpOIdznIfIkrUjyEg9CZvTvsQtEiP/91X28CEb\n",
       "RK4IQ9bB0dbQmreN4Qw1YZjL67Q8moWwHIM+0reXcNt1yWQUykXruvVqcSo1O9TEGizFGNUWzdgW\n",
       "GUyCRqZOu3t20c6IaqB83fsHm6NRCKI/DlHXKMxYjLuwX9lu3GQUnW5UREMga4tEWhGGTJEaltrG\n",
       "cOZXYViYpMYNdCU5WluIwxy8QHaEZZMRdLEjlW4WzFbgHu7qosPQex+l9jyNDV9wRv1o5GR7KZrS\n",
       "UnTzDVpy4DOJUT/FrHa3/c4S7JRMDKeJhnax5/oSxnk/lEt2RtvBQGdfgHGagBes5MgqpiEz59KG\n",
       "QAWCGZR1SWuMBbWMmGEmj6Hys5OJc1UzT02tSeNksh86B/q+8azFqIPtIH8r80IfZ8vZcs6dd9A/\n",
       "HYNvYb+19oMPIa79ANqSaHcOY6SqC+yMfBTzrEqYeeHeApljpcD8KDgXjqEXLUvaGCnToK8Ic67B\n",
       "t0jDfCvZsYppSAhtULYKf+tJijGIBXlPTA1LiQvPnZGLDj/y43uTQ7wxhcydYBRmGe6nNC/0Kax9\n",
       "Pd8d8Q6hEzk4RfjAy5yRRiA+ALMgnId7cWqKWjL01RE7I6oBh2Jxls1WJMBvgPJdJrOM5CPVua5F\n",
       "YzFy6DmMj2+GbFsyVjENCWENUcGo43ExBrUghRozbKf2TBZa0AvbR2VNia5gpExwz3Nf7RGuqEyC\n",
       "V82zCJfJMAi9fviZ+RHc9Injjk3FcwtzzTjO3HnQU8yP6jHahqFdZl94LGjb2dIKM6Qt/HjeUN5u\n",
       "GRlFelAe7TbHcDBihvk6upto30/8HPnszdksonxZj1Gj4ktG0qHRBKhFG6PQKHrS5ypLqchIG3Aw\n",
       "moW7UQNCGyCE774F08B8HmtrHIwwIqBzlH2himEd2gSrK1jQCjfUOghX+ZHG6ixvIIz0EZS3yfvw\n",
       "MQ6TAWlfLDYIw3wdJcq/kMjrzUFrNSks2u5G/iqjXvQkLV2g2yaTkT8N30DHDtCXYOU2LFK1jKLo\n",
       "4/uMqcoYrDOGD5Et5rEE3UNmnHvIo6dBi1fzlJGOJ2nlHHRmsaAVbgi69LKKs95ZEg081ujlmBjj\n",
       "MOCAtC8WY8KwtY4C2ZWE4+PDscUgLJpXrKa82Lfo8hjdCtGk8nyWukEo5djWYz5yvc/WrMe3MB/V\n",
       "XnZKNRop0iHSVim3dkeJMRMxZxSqyBY059DWOgprwWmRyZq/f+iLJOsy8rzzn+1+IWyvzL3O5dZJ\n",
       "T6v5lvfRbQQ25d2dDiViYbZzaGsdrWfxn7/zv1xGpcYZNSSal0KpwaH/LWmA0fBl/X8tAP83mTmc\n",
       "+hNLvU8IazNPBQAAAABJRU5ErkJggg==\n",
       "\" style=\"display:inline;vertical-align:middle;\" /></a><br>(see <a class=\"ProveItLink\" href=\"../__pv_it/15d1529f6d64936aad911e8327fd448dc347c4440/dependencies.ipynb\">dependencies</a>)<br>"
      ],
      "text/plain": [
       "constructiveMultiDilemma: forall_{m in Naturals} [forall_{A, B in BOOLEANS^{m} | A_1 or  ...  or A_m , A_1 => B_1 ,  ...  , A_m => B_m} (B_1 or  ...  or B_m)]"
      ]
     },
     "execution_count": 2,
     "metadata": {},
     "output_type": "execute_result"
    }
   ],
   "source": [
    "%proving constructiveMultiDilemma presuming []"
   ]
  },
  {
   "cell_type": "code",
   "execution_count": null,
   "metadata": {},
   "outputs": [],
   "source": []
  }
 ],
 "metadata": {
  "kernelspec": {
   "display_name": "Python 3",
   "language": "python",
   "name": "python3"
  }
 },
 "nbformat": 4,
 "nbformat_minor": 0
}
