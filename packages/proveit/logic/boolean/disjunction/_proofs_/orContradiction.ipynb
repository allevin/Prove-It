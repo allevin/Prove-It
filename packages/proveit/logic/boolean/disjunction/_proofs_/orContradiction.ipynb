{
 "cells": [
  {
   "cell_type": "markdown",
   "metadata": {},
   "source": [
    "Proof of <a class=\"ProveItLink\" href=\"../../../../_context_.ipynb\">proveit</a>.<a class=\"ProveItLink\" href=\"../../../_context_.ipynb\">logic</a>.<a class=\"ProveItLink\" href=\"../../_context_.ipynb\">boolean</a>.<a class=\"ProveItLink\" href=\"../_context_.ipynb\">disjunction</a>.<a href=\"../_theorems_.ipynb#orContradiction\" class=\"ProveItLink\">orContradiction</a> theorem\n",
    "========"
   ]
  },
  {
   "cell_type": "code",
   "execution_count": 1,
   "metadata": {},
   "outputs": [],
   "source": [
    "import proveit\n",
    "context = proveit.Context('..') # the theorem's context is in the parent directory"
   ]
  },
  {
   "cell_type": "code",
   "execution_count": 2,
   "metadata": {},
   "outputs": [
    {
     "name": "stdout",
     "output_type": "stream",
     "text": [
      "Beginning proof of orContradiction\n",
      "Recorded 'presuming' information\n"
     ]
    },
    {
     "name": "stdout",
     "output_type": "stream",
     "text": [
      "Presuming previous theorems (applied transitively).\n"
     ]
    },
    {
     "data": {
      "text/html": [
       "<strong id=\"orContradiction\">orContradiction:</strong> <a class=\"ProveItLink\" href=\"../__pv_it/11656381a6036fdd8cf1cfd31591c0aaad63c09c0/expr.ipynb\"><img src=\"data:image/png;base64,iVBORw0KGgoAAAANSUhEUgAAAUsAAAAZBAMAAABKqBHlAAAAMFBMVEX///8QEBC6urrMzMxUVFRm\n",
       "ZmZERETc3NwyMjKqqqp2dnaIiIiYmJgiIiLu7u4AAAAU9Wx4AAAAAXRSTlMAQObYZgAAAyZJREFU\n",
       "WMPVl01oE0EUx/9NmqbdzG6tIqKgKShUkNIUxGpFGtqDB6HEQw/iZfGQnoQeiu1F25u3upeerVIt\n",
       "XkJEDAoiET8uBY16EIXVPYgnkVZLxc84u7MfM5vNbkWb6oPs7nvv/2Z/mZlkZoAIO62PYYOtW5+L\n",
       "1FSw8ZbM/i+YRiSm8S9gWr21GIYZpVhXwKKNec28z4RhRinW0+I5G/OMeVPDMKMUDcFspVMvoYVh\n",
       "RikagkkWJibOhv6EohQNwcRqPv8q/A8pQtEYzCFgNBzTVfSwoY85udiXsFf0aGuP1kt6mHugTIu5\n",
       "gyOdqa2Gh+kq0mzRanGETV/DMNNza4/WS3qYMlJlL67cHCkTtYAC15uOIpFWRczjq+xetD+C46hF\n",
       "C47WTXqYqbLMrTOlrg8GWUwImI6i++ImATP2cpk93OaXXcdx1L5tRGC0btLDVKb3A+TkvvlUKQNi\n",
       "hsmhviKPaSmoPZv6KWDKXVXDCTS7+yjHcdSiBUfrJj1MjA4C73vKcpbQf1EzSjKF+zympQCkXPtH\n",
       "AfMKqp3AMO3uToy7LduOqxaMRZuDtwkBJRzmLCU5dwvtGSmHfoYpScM85qy1rPcard94zPguXCii\n",
       "fxvtbhVHvdnNHFfN7Go+n5+2o/FLvi0sn6yL2WRO+GPoRauGI7SgSDLJx695TEuBpx3pFR5T7uio\n",
       "0voX9PEyvyNkjqv2THWicsBOW60tSei6vlPXVYZJzCHYghKmYnjLehO77/KYlkKiK9YPHnMeeFJh\n",
       "mO8S3Isth6nJiTuDDzWPxG4jGDOoxLctTi7R/nwksclPMUmhZlvcayBe5TDpmGNgiWFKD2gTM5g0\n",
       "6MVybHVbCZtjOSTP2yR2Gybm5Jhd4EvaJcGYMRXPcWAByinq7KWXrB9TpgN8r7rdw3yzApJe1ixM\n",
       "5RPF/oyBMXqxHEc9pFQkDfHvVkXGiZqYA2W7wJ9kJRGHDInOzahDRovgmZgQRpFzKm05mdDxERuw\n",
       "Bt1dU3xJu+TPz0IC5uEdIYu0okpayw2gT/z5Xqc77bj7ZfoCS/4y5pqsXBsiYcnfP1nqtef05oaf\n",
       "07O/AB/rFTL2bgtuAAAAAElFTkSuQmCC\n",
       "\" style=\"display:inline;vertical-align:middle;\" /></a><br>(see <a class=\"ProveItLink\" href=\"../__pv_it/11656381a6036fdd8cf1cfd31591c0aaad63c09c0/dependencies.ipynb\">dependencies</a>)<br>"
      ],
      "text/plain": [
       "orContradiction: forall_{m in Naturals} [forall_{A | A_1 or  ...  or A_m , [not](A_1) ,  ...  , [not](A_m)} FALSE]"
      ]
     },
     "execution_count": 2,
     "metadata": {},
     "output_type": "execute_result"
    }
   ],
   "source": [
    "%proving orContradiction presuming []"
   ]
  },
  {
   "cell_type": "code",
   "execution_count": null,
   "metadata": {},
   "outputs": [],
   "source": []
  }
 ],
 "metadata": {
  "kernelspec": {
   "display_name": "Python 3",
   "language": "python",
   "name": "python3"
  }
 },
 "nbformat": 4,
 "nbformat_minor": 0
}
