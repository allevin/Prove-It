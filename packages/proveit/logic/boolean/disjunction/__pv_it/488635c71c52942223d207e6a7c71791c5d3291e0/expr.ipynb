{
 "cells": [
  {
   "cell_type": "markdown",
   "metadata": {},
   "source": [
    "Expression of type <a class=\"ProveItLink\" href=\"../../../../../../../doc/html/api/proveit.Lambda.html\">Lambda</a>\n",
    "=======================\n",
    "# from context <a class=\"ProveItLink\" href=\"../../_context_.ipynb\">proveit.logic.boolean.disjunction</a>"
   ]
  },
  {
   "cell_type": "code",
   "execution_count": 1,
   "metadata": {},
   "outputs": [],
   "source": [
    "# import Expression classes needed to build the expression\n",
    "from proveit import Lambda\n",
    "from proveit._common_ import A, B\n",
    "from proveit.logic import Booleans, InSet, Or"
   ]
  },
  {
   "cell_type": "code",
   "execution_count": 2,
   "metadata": {},
   "outputs": [
    {
     "data": {
      "text/html": [
       "<strong id=\"expr\">expr:</strong> <a class=\"ProveItLink\" href=\"expr.ipynb\"><img src=\"data:image/png;base64,iVBORw0KGgoAAAANSUhEUgAAAQIAAAAVCAMAAACaNRD1AAAANlBMVEX///8UFBQNDQ2qqqru7u4i\n",
       "IiJ2dnbc3NyIiIjMzMxmZmYQEBC6uroyMjJERERUVFSYmJgAAAC3B9V0AAAAAXRSTlMAQObYZgAA\n",
       "AtFJREFUWMPVWOvWoyAMdBeQa7i8/8uuVdEQQHTbnvN9/FEqw4xjEqDT9CMak9Ova079Pza66qfZ\n",
       "fZthhAgphaV5uAvV4QlyhuQhgRWerX2jxxZkhr0nnr1CzXAp6NWs37Slmx4Af4b0r4/Kgc/zBh9b\n",
       "cDKsvXRGBzIGDymFwOAFiKBlrqT2a7jlgDqC9CZyZZyU26XFeWSBKtIginQ4EnRzDBFSMVwLWm7T\n",
       "Vo5imm9ZYA9BTSRXIJYGlJHFKaxIbkcWWBwEkpl01Evt853AY4gQwlApIoKWH3aAKJj7tRBN1UBq\n",
       "iLxjutz1oxxsWuCKQFbLC54DYHeDmYKBCCkYakVU0LQFjwR/DiyTiRWSzfnFG0jpeTvutIj50Wyu\n",
       "LTA4Gh2fWIqnFlNa0RaCGRqKqKAlf5RSRkQ0hpTggCeBeGZgjfSymXpCpGRz9jK4tgDQhNydmY4S\n",
       "4EyIphDM0FBEBe15xEXoWsADmsa6qY/kvl99FNsfOnttgUX9161MhpbKUEAqIYihpYgKynmkULj9\n",
       "/SOKZlE2nrcNpLMZUpXD12XeP9q1BYhMv5b7kDyJUF7GUSUEMbQUUUF5QcNlne5FsOmnwAZSh24U\n",
       "LJfJP7Vgu7P4jc1SmeY41aUACUEMLUVEkM7OhcR6FhicTpYdGVgjubhhwTARjulYLvR4kQSqrxaC\n",
       "E0EMBeUlVSbo1QJd7FR8JItxgQzxgnGPuzgohweDZNX2cN0exfIEUQuJ14qIoD2PtMWb0pKiXFSO\n",
       "BaeJ5MJ1GKNR/t6imJ8fGe8TlqC94K1SgIRghoaiQpDx2wEDIN4+Jm4h0kNKIKeU7VTihQ05vump\n",
       "qtoaiW09t2ld/ePCBNi1otMUUjBQRbWgx80OjvcsQLkikHZjg3zNoEe7WMowUvT8PD6/h5/VyIKP\n",
       "M3y8AX8HzR8flt9n+HiT4R10kGMLPs3wBQ/eCDRV/6Wj3LcZ+u0fRgwm4eYu9eoAAAAASUVORK5C\n",
       "YII=\n",
       "\" style=\"display:inline;vertical-align:middle;\" /></a><br>"
      ],
      "text/plain": [
       "expr: B -> (B in BOOLEANS) | (A or B) in BOOLEANS"
      ]
     },
     "execution_count": 2,
     "metadata": {},
     "output_type": "execute_result"
    }
   ],
   "source": [
    "# build up the expression from sub-expressions\n",
    "expr = Lambda(B, InSet(B, Booleans), conditions = [InSet(Or(A, B), Booleans)])"
   ]
  },
  {
   "cell_type": "code",
   "execution_count": 3,
   "metadata": {},
   "outputs": [
    {
     "name": "stdout",
     "output_type": "stream",
     "text": [
      "Passed sanity check: built 'expr' is the same as the stored Expression.\n"
     ]
    }
   ],
   "source": [
    "# check that the built expression is the same as the stored expression\n",
    "%check_expr"
   ]
  },
  {
   "cell_type": "code",
   "execution_count": 4,
   "metadata": {},
   "outputs": [
    {
     "data": {
      "text/html": [
       "<table><tr><th>&nbsp;</th><th>core type</th><th>sub-expressions</th><th>expression</th></tr>\n",
       "<tr><td>0</td><td>Lambda</td><td>parameter:&nbsp;12<br>body:&nbsp;1<br>conditions:&nbsp;2<br></td><td><a class=\"ProveItLink\" href=\"expr.ipynb\"><img src=\"data:image/png;base64,iVBORw0KGgoAAAANSUhEUgAAAQIAAAAVCAMAAACaNRD1AAAANlBMVEX///8UFBQNDQ2qqqru7u4i\n",
       "IiJ2dnbc3NyIiIjMzMxmZmYQEBC6uroyMjJERERUVFSYmJgAAAC3B9V0AAAAAXRSTlMAQObYZgAA\n",
       "AtFJREFUWMPVWOvWoyAMdBeQa7i8/8uuVdEQQHTbnvN9/FEqw4xjEqDT9CMak9Ova079Pza66qfZ\n",
       "fZthhAgphaV5uAvV4QlyhuQhgRWerX2jxxZkhr0nnr1CzXAp6NWs37Slmx4Af4b0r4/Kgc/zBh9b\n",
       "cDKsvXRGBzIGDymFwOAFiKBlrqT2a7jlgDqC9CZyZZyU26XFeWSBKtIginQ4EnRzDBFSMVwLWm7T\n",
       "Vo5imm9ZYA9BTSRXIJYGlJHFKaxIbkcWWBwEkpl01Evt853AY4gQwlApIoKWH3aAKJj7tRBN1UBq\n",
       "iLxjutz1oxxsWuCKQFbLC54DYHeDmYKBCCkYakVU0LQFjwR/DiyTiRWSzfnFG0jpeTvutIj50Wyu\n",
       "LTA4Gh2fWIqnFlNa0RaCGRqKqKAlf5RSRkQ0hpTggCeBeGZgjfSymXpCpGRz9jK4tgDQhNydmY4S\n",
       "4EyIphDM0FBEBe15xEXoWsADmsa6qY/kvl99FNsfOnttgUX9161MhpbKUEAqIYihpYgKynmkULj9\n",
       "/SOKZlE2nrcNpLMZUpXD12XeP9q1BYhMv5b7kDyJUF7GUSUEMbQUUUF5QcNlne5FsOmnwAZSh24U\n",
       "LJfJP7Vgu7P4jc1SmeY41aUACUEMLUVEkM7OhcR6FhicTpYdGVgjubhhwTARjulYLvR4kQSqrxaC\n",
       "E0EMBeUlVSbo1QJd7FR8JItxgQzxgnGPuzgohweDZNX2cN0exfIEUQuJ14qIoD2PtMWb0pKiXFSO\n",
       "BaeJ5MJ1GKNR/t6imJ8fGe8TlqC94K1SgIRghoaiQpDx2wEDIN4+Jm4h0kNKIKeU7VTihQ05vump\n",
       "qtoaiW09t2ld/ePCBNi1otMUUjBQRbWgx80OjvcsQLkikHZjg3zNoEe7WMowUvT8PD6/h5/VyIKP\n",
       "M3y8AX8HzR8flt9n+HiT4R10kGMLPs3wBQ/eCDRV/6Wj3LcZ+u0fRgwm4eYu9eoAAAAASUVORK5C\n",
       "YII=\n",
       "\" style=\"display:inline;vertical-align:middle;\" /></a></td></tr>\n",
       "<tr><td>1</td><td>Operation</td><td>operator:&nbsp;5<br>operands:&nbsp;3<br></td><td><a class=\"ProveItLink\" href=\"../41a86ef0ff9417c73c472e1bdfa161b308e2753e0/expr.ipynb\"><img src=\"data:image/png;base64,iVBORw0KGgoAAAANSUhEUgAAADcAAAAPBAMAAACy3Eq1AAAAMFBMVEX///+qqqru7u4iIiJ2dnbc\n",
       "3NyIiIjMzMxmZmYQEBC6uroyMjJERERUVFSYmJgAAADLUcuvAAAAAXRSTlMAQObYZgAAAOZJREFU\n",
       "GNNjYGB4+//u3dMLGJCB95/9O20EwMw5DAwcv1AkGQ4sY9rkAmKwfwPiv+iSDFncIAbbVwYGvi9g\n",
       "MbXNxtYwSTleBSCDZwIDA/MksBn7FJB0xoAY/BcYWPeARWMUEMay2x0CMeqvpTU/AAsdRdi52P5n\n",
       "AoiRH8DAZAtiMB1AdlCaDIhxEqQApJVrsrExwkE8XA5ABsgX70EM9gvIOnkYgAax/wNy7oOCg8kA\n",
       "QxLkTdbfYKF7KJIgY0HerNwEFlJegCT5IgcYquf/3r29DyLEuqMAHvCH5wqghigD422oayEAAEv1\n",
       "Sz0foy5uAAAAAElFTkSuQmCC\n",
       "\" style=\"display:inline;vertical-align:middle;\" /></a></td></tr>\n",
       "<tr><td>2</td><td>ExprTuple</td><td>4</td><td><a class=\"ProveItLink\" href=\"../ccfebb6e8808226a0d9a539ca4298b9b2e204fb70/expr.ipynb\"><img src=\"data:image/png;base64,iVBORw0KGgoAAAANSUhEUgAAAHsAAAAVBAMAAACUF4xmAAAAMFBMVEX////c3NwiIiJERESqqqqY\n",
       "mJh2dnZmZmYQEBDu7u4yMjJUVFTMzMyIiIi6uroAAAAs73DqAAAAAXRSTlMAQObYZgAAAi1JREFU\n",
       "OMulVD9oE1EY/6XJpcn1LhbqpEMlIFQXT6igLmZ2sSA4CGo2J6EgdFJaipNgPTqIBJRTCKJDG1EH\n",
       "vWJDMzrkBsHF0tNBxKniH7CB1u/PJde7Ji5+8L33ft97v/v+vXfAf0opUB0sRtjffpmHd5GSrKV5\n",
       "qx3/xRJwI2nOL5/emp8EhpsEnkZKsiyj+LJkWXCA2RBm6rPZUlC7VwU8wA5U2dkxl6cVHtbF0qaN\n",
       "dgNGdQ/dDol7gRy4qiT7Z0d5avFwRCwbZLhSRXFOaQ8el49G9NzUa+A+8A2qJMGGxG0SJzctlpOk\n",
       "E/TtSUFW3Y29f6K8shXMEJzRFrjnpnhmqilxoAMcOEXzVUFjbhz82nkC+WnUCdbF+FBS1cBb6q6z\n",
       "/uEwL84KPB7nXt65w448LNC0EFV8XEOmsr2Vhf0dWGzQ4iujorO7dO8JleawTXBbXPn+qh4YQtHT\n",
       "Y1Qy+xd3QJKbL5d7pYPzhSibMb1EHVDWcCUvRcA+8mz87tKtxi7vcLJCv0WQFRVyqw3KeEN6rE1f\n",
       "GfnZC/5Qmk7BnyDImiG6uanbK5fQa/s4R3RR4KsEnYI3POkJa43Nf3S7pZeG227ddnuNWwxjunHT\n",
       "kcZ9Jkg6dvcRjDNbWnpTp+s7vv9MqrCkST1pdp/Mj4mXfC5EgQIsjCbvtOUmcffS5t5o5btCl5af\n",
       "Q/pJpCU/4HdwLflgB0mtv1lux8FI/yHP+5tHOOdMoDpY7GZ/+0fgL0yXlLHgen8wAAAAAElFTkSu\n",
       "QmCC\n",
       "\" style=\"display:inline;vertical-align:middle;\" /></a></td></tr>\n",
       "<tr><td>3</td><td>ExprTuple</td><td>12, 8</td><td><a class=\"ProveItLink\" href=\"../46fef8cd01e90537d7ca36d1ba2c809996ed4b3a0/expr.ipynb\"><img src=\"data:image/png;base64,iVBORw0KGgoAAAANSUhEUgAAADQAAAAVBAMAAAD7ptBLAAAAMFBMVEX////c3NwiIiJERESqqqqY\n",
       "mJh2dnZmZmYQEBDu7u4yMjJUVFTMzMyIiIi6uroAAAAs73DqAAAAAXRSTlMAQObYZgAAASVJREFU\n",
       "KM9jYMAD+C5gE2V9ACROA3H0/927rR6AxbI+r1+h7MDAUANkrwQJNDMwsP+DqDd4y7kyjYGBi4GB\n",
       "F2Qez18g/g2TYrgHFGdNYOCYAOTyfgSyv8GlXLknMHA2MLwCcZkbGBiYOhG6hIG0CUMZiMu/gYFx\n",
       "8QSYFI+qJZBOZ1gK4p7fe7coAOpsg0f6P0D2ezH0gbj3BRg4tRngBt51BtIvGMBOtgBJB8ClmPkS\n",
       "gCZBpEDujk9ASDEYgKRaQN76CiT2O6BKvWAwhXqL8RcDAyeygVFAN0K8dQIYYPMVIFLhl8GOfwQM\n",
       "Pfvfu3eBPDHjIzh4jbpBZq9j4BBAioqHCCYwoFgTkKQCEEy2C9BIwZSaBcTSCC4vkqqNQMyINQHw\n",
       "HmAAAHCOVkQeB6BvAAAAAElFTkSuQmCC\n",
       "\" style=\"display:inline;vertical-align:middle;\" /></a></td></tr>\n",
       "<tr><td>4</td><td>Operation</td><td>operator:&nbsp;5<br>operands:&nbsp;6<br></td><td><a class=\"ProveItLink\" href=\"../f73e4d1ee6927ce16f5c1a3e29be5ea7cd1dbf160/expr.ipynb\"><img src=\"data:image/png;base64,iVBORw0KGgoAAAANSUhEUgAAAGwAAAAVBAMAAABRZRb3AAAAMFBMVEX////c3NwiIiJERESqqqqY\n",
       "mJh2dnZmZmYQEBDu7u4yMjJUVFTMzMyIiIi6uroAAAAs73DqAAAAAXRSTlMAQObYZgAAAdxJREFU\n",
       "OMudVD1IQlEUPqbP8vWeCTXVYAiBtfQCg2rJuaWgLYjcWoOgqTCiKageDg1CYYGEDWpUQ72oyLFB\n",
       "h6ApsgaJpqIfSKE695zUtHxDgvf8fuee+517H8A/f86MWVTK1ghcsDivzj8tGHtxgNlKtz0xkF/w\n",
       "oRJjO0Er1VZIbdAAglmQq8pZnZnwWgBU7lHq1oU4Fss1edIYSCdBCvyCqdkINFA6tARdQqTE0kme\n",
       "G3RMBMAxz+nrW56ub5ht5BAe2Ju5of5kzLVNkacP/16s6SNLierl3W41mGE69eERIQVEpn2hANDa\n",
       "j3KSrGa93OT5qA5RMjboKNxgissXrq86hDJEZk/5bJ7PZYCVbwbd3BrScUKK+gQQSqJyLyyH9pOS\n",
       "Sw0+qLRhnHKgDhwRDiMV6qtglA6x4PGUKAEtxzAnjomz6/12OiQ04U7SWxGmJH/sBpoVFoXux22Y\n",
       "aEukjsNpRDe+lJpsr4L1ilyEyY/sPh6H0tjcooMxMg8qYDniNyzMd3aneNhibMqSXhpAKFuGSXMa\n",
       "3OFMVjdBGswzlTKL6U/D2KFTxrn57bPiVX727iMVrso7p+iVdvFy2Y6YyeIDCZg/R3uN5xgzh4Vr\n",
       "+NvMYbs1/BbTj4J69qf7C5X9fHmkBIdKAAAAAElFTkSuQmCC\n",
       "\" style=\"display:inline;vertical-align:middle;\" /></a></td></tr>\n",
       "<tr><td>5</td><td>Literal</td><td></td><td><a class=\"ProveItLink\" href=\"../../../../set_theory/membership/__pv_it/088cbc857536a28d4119ad9639a84270ccb0545d0/expr.ipynb\"><img src=\"data:image/png;base64,iVBORw0KGgoAAAANSUhEUgAAAAwAAAAMBAMAAACkW0HUAAAALVBMVEX///+qqqpmZmZUVFQQEBC6\n",
       "urpERETc3NyYmJjMzMwiIiIyMjKIiIju7u4AAACYsrA9AAAAAXRSTlMAQObYZgAAADxJREFUCNdj\n",
       "YOA9vWrVBgaG2b0MQMCeCyIZ2ArA1DUwyRCyahVIyWQI7xaEYm4AU7xLIdxqTQgtvGvVBgCkcQ7e\n",
       "geM/tQAAAABJRU5ErkJggg==\n",
       "\" style=\"display:inline;vertical-align:middle;\" /></a></td></tr>\n",
       "<tr><td>6</td><td>ExprTuple</td><td>7, 8</td><td><a class=\"ProveItLink\" href=\"../8cffcfb45cd4e0c900a69019f9451fa17e4580860/expr.ipynb\"><img src=\"data:image/png;base64,iVBORw0KGgoAAAANSUhEUgAAAFsAAAAVBAMAAADbSo+2AAAAMFBMVEX////c3NwiIiJERESqqqqY\n",
       "mJh2dnZmZmYQEBDu7u4yMjJUVFTMzMyIiIi6uroAAAAs73DqAAAAAXRSTlMAQObYZgAAAbxJREFU\n",
       "KM+Vk79LQlEUx7/+eP5KTaipBiEIasqhoFryP0gI2iq3pkAI2kKJpqB6NEQ0xGtoqCGFWuJJho0N\n",
       "OgQtidbQ0GQ/IYXq3HPSXg1hgueee87nnvt9550H/PMXLLZKTitzIX7+V07L1c2jQ3Zd6dHa0iDg\n",
       "PqPNvqTTbCvK+Nn1RIAk7+EIFrc344ABBESLNqCrJatMiSMFShQyDTxQIXaSijCGzmRILefK9HOk\n",
       "TIGZeAN3xk6ALeBetBTLfK+PGGeCI8P079Ob1W9ImyOKBWmPPh5Tq0J9fA/qQNcIGnh+gk66Etjj\n",
       "wA5LFSEsCP566aoXDbznY1UVM7D21ZGwSKDHPGUn8ABsZJrVA5ckJpjCO5cyzVyEM3Z4DUFSdOSl\n",
       "iSNyR1hV8CB1SCh31MUPgXaqrL1acAfjy2ofpbIpztgMuyAFOtX2/BMnMUOKIdxXlVR2Cs22h+lG\n",
       "3SJGMzBL220VehPsXF6Sart/RYf3UXBtMcKNvAU61nehjdWkNT5Z5j9M84D0eNdDasSe+o5VrgJP\n",
       "6Ock+vVf823J0xBo8b+HXLP4c98D3ALOb6T7b9zyrbUpXbaWP75r4BOENHVpZ1sJLAAAAABJRU5E\n",
       "rkJggg==\n",
       "\" style=\"display:inline;vertical-align:middle;\" /></a></td></tr>\n",
       "<tr><td>7</td><td>Operation</td><td>operator:&nbsp;9<br>operands:&nbsp;10<br></td><td><a class=\"ProveItLink\" href=\"../0f1bf4090acd92174180531bf3e50944b30066e50/expr.ipynb\"><img src=\"data:image/png;base64,iVBORw0KGgoAAAANSUhEUgAAADcAAAAPBAMAAACy3Eq1AAAAMFBMVEX///92dnYQEBBERERUVFS6\n",
       "urqIiIhmZmaqqqrc3Nzu7u6YmJgyMjIiIiLMzMwAAACFkkdwAAAAAXRSTlMAQObYZgAAAP1JREFU\n",
       "GNNjYACBtwyogNv/i4vzUSjnPIhgBTMfgEkmAwaG+gCIwvsLgCQLSJwtASzyHki9dwAzZ9RPAJJ8\n",
       "QNUMvAvAIvlAgf0CYGZCPtiEk0DcDrHHCIgvgdWxLujfwACVOAmR/MLAMMcKzFoKtgJsJNhooA1f\n",
       "0tJvQ5QFMMwvYIA4hgXiQrafDAxrwe7hc3Hxh2i4wLAGopxZAajgN9R/TAfAYhUM0hBJfqAu7o8g\n",
       "VgPQNgWw2BygXog3gQ5k+QFkcAIleT6AxVheQ4IA7M35INNA1jD/gjjSdgHcm3w6QPZk/ZMM3PZ/\n",
       "wM5lOA6RK/7v4nJmA1pkMLxC5QIA6tw+1pV4TWcAAAAASUVORK5CYII=\n",
       "\" style=\"display:inline;vertical-align:middle;\" /></a></td></tr>\n",
       "<tr><td>8</td><td>Literal</td><td></td><td><a class=\"ProveItLink\" href=\"../../../__pv_it/46271c8230be96415d662709611f4ed2279d702b0/expr.ipynb\"><img src=\"data:image/png;base64,iVBORw0KGgoAAAANSUhEUgAAAA0AAAAOBAMAAAAGUYvhAAAAMFBMVEX///9mZmbMzMzc3NxUVFSY\n",
       "mJju7u6IiIi6urqqqqoiIiIQEBBEREQyMjJ2dnYAAAAQvcRZAAAAAXRSTlMAQObYZgAAAElJREFU\n",
       "CNdjePvn/u01ExgYGA60s117B6YZKngh9FSWBAjfBsxnWnoMRHet/10AkS+fA6F5OB5AaIYDqDRU\n",
       "PLCGgQFoz6ktExgAgLIl8DFvGtkAAAAASUVORK5CYII=\n",
       "\" style=\"display:inline;vertical-align:middle;\" /></a></td></tr>\n",
       "<tr><td>9</td><td>Literal</td><td></td><td><a class=\"ProveItLink\" href=\"../087d0b4ded7c7e5bf3bba05ecb616d7a8051ff650/expr.ipynb\"><img src=\"data:image/png;base64,iVBORw0KGgoAAAANSUhEUgAAAAwAAAAOBAMAAADpk+DfAAAALVBMVEX///+YmJh2dnZmZmaqqqrc\n",
       "3NwyMjLu7u4iIiJERESIiIhUVFTMzMy6uroAAAD0I/TTAAAAAXRSTlMAQObYZgAAAEtJREFUCNdj\n",
       "uMAABDwMe0DUKoaTIKqdgS2AgYHFAITAzHYGsMQqBoa9QIqDgT0BSDE7MAkAKdYEDpAehj1SYOpk\n",
       "O5hiMwBTPAUMDAB33Atnw8aG2QAAAABJRU5ErkJggg==\n",
       "\" style=\"display:inline;vertical-align:middle;\" /></a></td></tr>\n",
       "<tr><td>10</td><td>ExprTuple</td><td>11, 12</td><td><a class=\"ProveItLink\" href=\"../caee09fb4b5c95b986a9cee46a014afbad9bdc680/expr.ipynb\"><img src=\"data:image/png;base64,iVBORw0KGgoAAAANSUhEUgAAADUAAAAVBAMAAAAUZLt1AAAAMFBMVEX////c3NwiIiJERESqqqqY\n",
       "mJh2dnZmZmYQEBDu7u4yMjJUVFTMzMyIiIi6uroAAAAs73DqAAAAAXRSTlMAQObYZgAAATZJREFU\n",
       "KM9jYMAH+C5gFY4DEach7EMwQdb9v3dvXsfAfgDIXgkRWg/XwWHAwFD/gGEBAwMvxEhW/QkwufNA\n",
       "kfMbGMKAqiBiIvUCMLn7QFZ8AsMMBoZXEIEL9x/A5CyAWGMCA7MDQxnEsRP8A2ByvxkYpCwZGNgK\n",
       "GJaC+fPAtoABz++711WBNMsChj6wwAMG+QKoHO9HBoZJG4BGNTD8A6vdvXu/AVSOuQEo/xUo9gEi\n",
       "xwd07wKoHD9QD+s3sFwLiO/AwMDUAPMe0FHcX8BmmgK5jEA5rg8MDBNg3pMHGsK6gCEdyJ0FsuYn\n",
       "A+cnqPd4uiaA/fCIgUG4fyEDq/2vAs5+oJbi/7t3rwL5lesBA4cAUnQhsUFhxpqA4LIiR2AuIo7Q\n",
       "5ThBfpJG8JFTADfIfEbsaeIOAwMABOxNRsfkiy0AAAAASUVORK5CYII=\n",
       "\" style=\"display:inline;vertical-align:middle;\" /></a></td></tr>\n",
       "<tr><td>11</td><td>Variable</td><td></td><td><a class=\"ProveItLink\" href=\"../../../../../__pv_it/2cbe72a7ad6f655694dd697106680215e8489b600/expr.ipynb\"><img src=\"data:image/png;base64,iVBORw0KGgoAAAANSUhEUgAAAA8AAAAOBAMAAAACpFvcAAAALVBMVEX///8QEBBERERUVFS6urqI\n",
       "iIhmZmaqqqrc3Nzu7u6YmJgyMjIiIiLMzMwAAADtIaYWAAAAAXRSTlMAQObYZgAAAFtJREFUCNdj\n",
       "YACBOwxQsA9Kc52bAGG05zVAGAFxDmCaZULdAjBjCsO9ADDDgaEvAUTzGhvbKYCVMDAwbgAxChgY\n",
       "eASANAeQwf0AyJgNxEwvGRia5HYwcOm9TgAA6BoR3jrzwFcAAAAASUVORK5CYII=\n",
       "\" style=\"display:inline;vertical-align:middle;\" /></a></td></tr>\n",
       "<tr><td>12</td><td>Variable</td><td></td><td><a class=\"ProveItLink\" href=\"../../../../../__pv_it/077b2ff79244fb4582cbe22c6e3356fa92a52f2f0/expr.ipynb\"><img src=\"data:image/png;base64,iVBORw0KGgoAAAANSUhEUgAAABAAAAAOBAMAAADUAYG5AAAAMFBMVEX///+qqqru7u4iIiJ2dnbc\n",
       "3NyIiIjMzMxmZmYQEBC6uroyMjJERERUVFSYmJgAAADLUcuvAAAAAXRSTlMAQObYZgAAAGpJREFU\n",
       "CNdjYGB4+//u3dMLGIBgDgMDxy8gzf4NiP8CGWxfGRj4vgAZPBMYGJgnARn8FxhY9ygAGfXX0pof\n",
       "gDTlBzAw2YIYJ0EckBBI53sHoBH/gIz7AhBjWH9DjancBLTl/N+7t/cxMAAA3u4f/5xagjYAAAAA\n",
       "SUVORK5CYII=\n",
       "\" style=\"display:inline;vertical-align:middle;\" /></a></td></tr>\n",
       "</table>\n"
      ],
      "text/plain": [
       "0. B -> (B in BOOLEANS) | (A or B) in BOOLEANS\n",
       "   core type: Lambda\n",
       "   parameter: 12\n",
       "   body: 1\n",
       "   conditions: 2\\n1. B in BOOLEANS\n",
       "   core type: Operation\n",
       "   operator: 5\n",
       "   operands: 3\n",
       "2. ((A or B) in BOOLEANS)\n",
       "   core type: ExprTuple\n",
       "   sub-expressions: 4\n",
       "3. (B , BOOLEANS)\n",
       "   core type: ExprTuple\n",
       "   sub-expressions: 12, 8\n",
       "4. (A or B) in BOOLEANS\n",
       "   core type: Operation\n",
       "   operator: 5\n",
       "   operands: 6\n",
       "5. in\n",
       "   core type: Literal\n",
       "   sub-expressions: \n",
       "6. (A or B , BOOLEANS)\n",
       "   core type: ExprTuple\n",
       "   sub-expressions: 7, 8\n",
       "7. A or B\n",
       "   core type: Operation\n",
       "   operator: 9\n",
       "   operands: 10\n",
       "8. BOOLEANS\n",
       "   core type: Literal\n",
       "   sub-expressions: \n",
       "9. or\n",
       "   core type: Literal\n",
       "   sub-expressions: \n",
       "10. (A , B)\n",
       "    core type: ExprTuple\n",
       "    sub-expressions: 11, 12\n",
       "11. A\n",
       "    core type: Variable\n",
       "    sub-expressions: \n",
       "12. B\n",
       "    core type: Variable\n",
       "    sub-expressions: "
      ]
     },
     "execution_count": 4,
     "metadata": {},
     "output_type": "execute_result"
    }
   ],
   "source": [
    "# display the expression information\n",
    "expr.exprInfo()"
   ]
  },
  {
   "cell_type": "code",
   "execution_count": null,
   "metadata": {},
   "outputs": [],
   "source": []
  }
 ],
 "metadata": {
  "kernelspec": {
   "display_name": "Python 3",
   "language": "python",
   "name": "python3"
  }
 },
 "nbformat": 4,
 "nbformat_minor": 0
}
