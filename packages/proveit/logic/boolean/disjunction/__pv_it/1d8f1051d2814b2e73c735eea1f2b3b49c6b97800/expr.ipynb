{
 "cells": [
  {
   "cell_type": "markdown",
   "metadata": {},
   "source": [
    "Expression of type <a class=\"ProveItLink\" href=\"../../../../../../../doc/html/api/proveit.logic.Or.html\">Or</a>\n",
    "=======================\n",
    "# from context <a class=\"ProveItLink\" href=\"../../_context_.ipynb\">proveit.logic.boolean.disjunction</a>"
   ]
  },
  {
   "cell_type": "code",
   "execution_count": 1,
   "metadata": {},
   "outputs": [],
   "source": [
    "# import Expression classes needed to build the expression\n",
    "from proveit._common_ import A, B, C, D, E, F, G, H, I\n",
    "from proveit.logic import Or"
   ]
  },
  {
   "cell_type": "code",
   "execution_count": 2,
   "metadata": {},
   "outputs": [
    {
     "data": {
      "text/html": [
       "<strong id=\"expr\">expr:</strong> <a class=\"ProveItLink\" href=\"expr.ipynb\"><img src=\"data:image/png;base64,iVBORw0KGgoAAAANSUhEUgAAAUoAAAAPBAMAAABw5ZtdAAAAMFBMVEX///92dnYQEBBERERUVFS6\n",
       "urqIiIhmZmaqqqrc3Nzu7u6YmJgyMjIiIiLMzMwAAACFkkdwAAAAAXRSTlMAQObYZgAAAzpJREFU\n",
       "SMetljtsE0EQhv+LX/Hr7J4ikdKFIhFCogEM4kgag91RJgVK60hBIrwUSxR0xBJFKJByBdBA4QLR\n",
       "UMRSkFBAKBaiSkEs0oFQgvIiwSHM7N6db85n0bDSnc+fZ/ff2f13zgC3H5Dt1bFlnS0H4PPTN+sL\n",
       "/2Tx0o5VPB8Iu07jFdtdcdbIZIBt306Xtm8JaHhglW8x9dhS9yEgsSuZcRK4RhfU7E30YrkGMF+V\n",
       "DDzD+91xkbqUZZZrohtyS6/bdI8yjKvszD26dgRLfaQY44CernLEFHowbOYpw0PJYjQeEpJNUFy6\n",
       "LGQxQR+b0wjAvJ7l47kaT22UbllbLT0pp38KlhlmtUG6bXDEGlxmNgVDpayz9DPjD7tDsgFa7/6W\n",
       "kMUAfa9UEYCO9SYr6mGFrgcKRGg22WHB5rhzkvPMUEr9070YCsx2JMtswUBSslUbtbQtZJXzCja6\n",
       "Ia+QPV+HQ1e0FS4guWz7WVJ5P8UbwSqs5rKanwHbcNziY7lRvFEPPnaElFL1yaq+R2GQ2jNsKgfQ\n",
       "CquVJm+MTd3TQ7gs8btz6tacnQtjerOVWzoME2+LB4G42D4SNUjZWNuyLu0H4Z7uWcai2gRya1R7\n",
       "oFJD6jP8LHvQmRG5/zJ6MMTZgtFdwdhvjUCc0bY+AVKW7Rv/FQI5e8sq6Wk38VJ3PMUzrftZbkvt\n",
       "rs4TqYbL4neX836GCAf2DQrG1srruuKxzCGiToaeLNkXkcMQqGtTn+45ixP6F7bVUt7P+lTsQ4US\n",
       "VUNloOZi7ArGFqS+dcHYWrXUpIxr4oUzS0+W+7rVUUBqdFCzKnc8QVOvLhuuVPWzqEpRn85kIwuP\n",
       "Oam6TFt8SDJlLcMWzK2CPlldLvMhkPpVPanod11HuVwmnReaw8yOENXm152DstgQDBXa2Mh7yZS1\n",
       "FiQb6LyAXVldLsshEGr7HTOY52yvXH51lFy2VEXMfcFu6LrMG2teyUtG5dJ8F4jjRTC/SLbaOXmu\n",
       "hK9cBiAejawgXWjrvdTDJwr0h+GDO4YjaRbHZ12UmfbYnXTLz1Iz9L/iTEvGPaXxrPVmIG68BilB\n",
       "bAw3ji8KmJzxgNe+obuFMNP+vyxMVsC/3BpAD+U8uhUAAAAASUVORK5CYII=\n",
       "\" style=\"display:inline;vertical-align:middle;\" /></a><br>"
      ],
      "text/plain": [
       "expr: A or B or C or G or D or E or F or H or I"
      ]
     },
     "execution_count": 2,
     "metadata": {},
     "output_type": "execute_result"
    }
   ],
   "source": [
    "# build up the expression from sub-expressions\n",
    "expr = Or(A, B, C, G, D, E, F, H, I)"
   ]
  },
  {
   "cell_type": "code",
   "execution_count": 3,
   "metadata": {},
   "outputs": [
    {
     "name": "stdout",
     "output_type": "stream",
     "text": [
      "Passed sanity check: built 'expr' is the same as the stored Expression.\n"
     ]
    }
   ],
   "source": [
    "# check that the built expression is the same as the stored expression\n",
    "%check_expr"
   ]
  },
  {
   "cell_type": "code",
   "execution_count": 4,
   "metadata": {},
   "outputs": [
    {
     "data": {
      "text/html": [
       "<table><tr><th>&nbsp;</th><th>core type</th><th>sub-expressions</th><th>expression</th></tr>\n",
       "<tr><td>0</td><td>Operation</td><td>operator:&nbsp;1<br>operands:&nbsp;2<br></td><td><a class=\"ProveItLink\" href=\"expr.ipynb\"><img src=\"data:image/png;base64,iVBORw0KGgoAAAANSUhEUgAAAUoAAAAPBAMAAABw5ZtdAAAAMFBMVEX///92dnYQEBBERERUVFS6\n",
       "urqIiIhmZmaqqqrc3Nzu7u6YmJgyMjIiIiLMzMwAAACFkkdwAAAAAXRSTlMAQObYZgAAAzpJREFU\n",
       "SMetljtsE0EQhv+LX/Hr7J4ikdKFIhFCogEM4kgag91RJgVK60hBIrwUSxR0xBJFKJByBdBA4QLR\n",
       "UMRSkFBAKBaiSkEs0oFQgvIiwSHM7N6db85n0bDSnc+fZ/ff2f13zgC3H5Dt1bFlnS0H4PPTN+sL\n",
       "/2Tx0o5VPB8Iu07jFdtdcdbIZIBt306Xtm8JaHhglW8x9dhS9yEgsSuZcRK4RhfU7E30YrkGMF+V\n",
       "DDzD+91xkbqUZZZrohtyS6/bdI8yjKvszD26dgRLfaQY44CernLEFHowbOYpw0PJYjQeEpJNUFy6\n",
       "LGQxQR+b0wjAvJ7l47kaT22UbllbLT0pp38KlhlmtUG6bXDEGlxmNgVDpayz9DPjD7tDsgFa7/6W\n",
       "kMUAfa9UEYCO9SYr6mGFrgcKRGg22WHB5rhzkvPMUEr9070YCsx2JMtswUBSslUbtbQtZJXzCja6\n",
       "Ia+QPV+HQ1e0FS4guWz7WVJ5P8UbwSqs5rKanwHbcNziY7lRvFEPPnaElFL1yaq+R2GQ2jNsKgfQ\n",
       "CquVJm+MTd3TQ7gs8btz6tacnQtjerOVWzoME2+LB4G42D4SNUjZWNuyLu0H4Z7uWcai2gRya1R7\n",
       "oFJD6jP8LHvQmRG5/zJ6MMTZgtFdwdhvjUCc0bY+AVKW7Rv/FQI5e8sq6Wk38VJ3PMUzrftZbkvt\n",
       "rs4TqYbL4neX836GCAf2DQrG1srruuKxzCGiToaeLNkXkcMQqGtTn+45ixP6F7bVUt7P+lTsQ4US\n",
       "VUNloOZi7ArGFqS+dcHYWrXUpIxr4oUzS0+W+7rVUUBqdFCzKnc8QVOvLhuuVPWzqEpRn85kIwuP\n",
       "Oam6TFt8SDJlLcMWzK2CPlldLvMhkPpVPanod11HuVwmnReaw8yOENXm152DstgQDBXa2Mh7yZS1\n",
       "FiQb6LyAXVldLsshEGr7HTOY52yvXH51lFy2VEXMfcFu6LrMG2teyUtG5dJ8F4jjRTC/SLbaOXmu\n",
       "hK9cBiAejawgXWjrvdTDJwr0h+GDO4YjaRbHZ12UmfbYnXTLz1Iz9L/iTEvGPaXxrPVmIG68BilB\n",
       "bAw3ji8KmJzxgNe+obuFMNP+vyxMVsC/3BpAD+U8uhUAAAAASUVORK5CYII=\n",
       "\" style=\"display:inline;vertical-align:middle;\" /></a></td></tr>\n",
       "<tr><td>1</td><td>Literal</td><td></td><td><a class=\"ProveItLink\" href=\"../087d0b4ded7c7e5bf3bba05ecb616d7a8051ff650/expr.ipynb\"><img src=\"data:image/png;base64,iVBORw0KGgoAAAANSUhEUgAAAAwAAAAOBAMAAADpk+DfAAAALVBMVEX///+YmJh2dnZmZmaqqqrc\n",
       "3NwyMjLu7u4iIiJERESIiIhUVFTMzMy6uroAAAD0I/TTAAAAAXRSTlMAQObYZgAAAEtJREFUCNdj\n",
       "uMAABDwMe0DUKoaTIKqdgS2AgYHFAITAzHYGsMQqBoa9QIqDgT0BSDE7MAkAKdYEDpAehj1SYOpk\n",
       "O5hiMwBTPAUMDAB33Atnw8aG2QAAAABJRU5ErkJggg==\n",
       "\" style=\"display:inline;vertical-align:middle;\" /></a></td></tr>\n",
       "<tr><td>2</td><td>ExprTuple</td><td>3, 4, 5, 6, 7, 8, 9, 10, 11</td><td><a class=\"ProveItLink\" href=\"../453d0514fe417d4826685330eeeab0afd2c7075e0/expr.ipynb\"><img src=\"data:image/png;base64,iVBORw0KGgoAAAANSUhEUgAAAOMAAAAVBAMAAABGa0R7AAAAMFBMVEX////c3NwiIiJERESqqqqY\n",
       "mJh2dnZmZmYQEBDu7u4yMjJUVFTMzMyIiIi6uroAAAAs73DqAAAAAXRSTlMAQObYZgAAAzxJREFU\n",
       "SMfFVk1oE1EQnphu0m12mz0IBT2Yi6AgtBdpRSEFD14Eg6LgxeamItIUqfXn0IL2YA92EcTiDwZF\n",
       "ai3Y0oKVLNLee2jBgweVVC9VL/1JW2ljE2f2vclOwFxrIC/z7XzzJm++mZcA/IdX4/xOZrtAy6yy\n",
       "rYR+aEwXvcm3TDE/TnWHMho8O9qTalKmjazcMWZ9LntebkuA99uaVbhpTBe6lONKudWJzqAxonDD\n",
       "MsfXtwD0LmhwKQWNN1LKjvQDLPZrRzwLcKqdYyjdcQkOB6x4Qjrwga3renqTHXP4ZG5c2Y8P4tLp\n",
       "qAO/cDHtCrPSAFGOaaRDRRlscAEBlmivjHScwzO5Pgyd4L0gjxk60sp+Td4fug73ZP3zWAdrW4PI\n",
       "Hyo7gzVcTiq7E+uY51pESrgMAfzS2tglTtmG7wPqi0QpGrR8vRRa0TVJoAgVVSIQYrCJ5nlljxHT\n",
       "BaFduB2uK/izbp1T4j57jihzX5bWp6oOfnuYjmYV6MicMt4CZytNido9BMFahYCFR83AK6XTQqVI\n",
       "VvHrp/3a7k0F7R1dl83u040NjZZGcxVdYCkDXazeludN/q44qG3qsnBf+SDEHhuDH+juaXaCJLtW\n",
       "ZEqb1IuxGChZtuLqHJ3oExrbaxCwMFMfqKhZzytoRxj5tj5R2V+VFnFUwr71UvdVmHSp561RsjTM\n",
       "MHBhXKgXrozCmF+eZZ0S22+AKz4eVGyQljq1l79/pCR16UgFkjkm32KrYKYEK56VwlLKu/6u1KQ8\n",
       "cMiP6WJMu8G8xTblhUHDC3fkWEZcMX1Cvbm0ZFFh/Wtitzq2yWNJneryxpeV7TcMOyCPRw+P6BB/\n",
       "LJsYlAI1/LFckCwwsnCR+jWrxud5Qo2lNeCCSb1t4GkXHWVTGa2JtAY4ltYwfvohdHbrkACgWTyW\n",
       "woFD8h0nrm3LgTPlYRjCpryGl/IbrK05SN06O9rTzraVm+o2ZnxgEquVNKaQJ8mi5zUnFHiULNKI\n",
       "aNYHuF1+pxxNySKVuGEB6sUcwDf5o+b8264GVSES1GLhhWekhUdMPhg17GpQFSJBLdbV4Mdrh1L6\n",
       "bbNXXCmSNV/DrgZ2LVCDFaN6h3b0j8gXgL9KaBOiwX7HBAAAAABJRU5ErkJggg==\n",
       "\" style=\"display:inline;vertical-align:middle;\" /></a></td></tr>\n",
       "<tr><td>3</td><td>Variable</td><td></td><td><a class=\"ProveItLink\" href=\"../../../../../__pv_it/2cbe72a7ad6f655694dd697106680215e8489b600/expr.ipynb\"><img src=\"data:image/png;base64,iVBORw0KGgoAAAANSUhEUgAAAA8AAAAOBAMAAAACpFvcAAAALVBMVEX///8QEBBERERUVFS6urqI\n",
       "iIhmZmaqqqrc3Nzu7u6YmJgyMjIiIiLMzMwAAADtIaYWAAAAAXRSTlMAQObYZgAAAFtJREFUCNdj\n",
       "YACBOwxQsA9Kc52bAGG05zVAGAFxDmCaZULdAjBjCsO9ADDDgaEvAUTzGhvbKYCVMDAwbgAxChgY\n",
       "eASANAeQwf0AyJgNxEwvGRia5HYwcOm9TgAA6BoR3jrzwFcAAAAASUVORK5CYII=\n",
       "\" style=\"display:inline;vertical-align:middle;\" /></a></td></tr>\n",
       "<tr><td>4</td><td>Variable</td><td></td><td><a class=\"ProveItLink\" href=\"../../../../../__pv_it/077b2ff79244fb4582cbe22c6e3356fa92a52f2f0/expr.ipynb\"><img src=\"data:image/png;base64,iVBORw0KGgoAAAANSUhEUgAAABAAAAAOBAMAAADUAYG5AAAAMFBMVEX///+qqqru7u4iIiJ2dnbc\n",
       "3NyIiIjMzMxmZmYQEBC6uroyMjJERERUVFSYmJgAAADLUcuvAAAAAXRSTlMAQObYZgAAAGpJREFU\n",
       "CNdjYGB4+//u3dMLGIBgDgMDxy8gzf4NiP8CGWxfGRj4vgAZPBMYGJgnARn8FxhY9ygAGfXX0pof\n",
       "gDTlBzAw2YIYJ0EckBBI53sHoBH/gIz7AhBjWH9DjancBLTl/N+7t/cxMAAA3u4f/5xagjYAAAAA\n",
       "SUVORK5CYII=\n",
       "\" style=\"display:inline;vertical-align:middle;\" /></a></td></tr>\n",
       "<tr><td>5</td><td>Variable</td><td></td><td><a class=\"ProveItLink\" href=\"../../../../../__pv_it/985a1bdf1540838275dec15f4ad6de261cca93ce0/expr.ipynb\"><img src=\"data:image/png;base64,iVBORw0KGgoAAAANSUhEUgAAAA8AAAAOBAMAAAACpFvcAAAAMFBMVEX////MzMyqqqoiIiIyMjK6\n",
       "uroQEBB2dnbc3NyYmJhmZmZUVFRERESIiIju7u4AAAB204erAAAAAXRSTlMAQObYZgAAAGZJREFU\n",
       "CNdjYGDgu7NrJccCBgaGsgkMrMsmMDA8sQNy6hsYGNweABlhDAxcn4A0QxcDQ78DiPGQgWH9BAYI\n",
       "sG+AMv6DSaCGfBDNJMDAsB+kmwuI5S8AiTog5gSaEwXWIO29SgFIAQBC+RaDQlidVgAAAABJRU5E\n",
       "rkJggg==\n",
       "\" style=\"display:inline;vertical-align:middle;\" /></a></td></tr>\n",
       "<tr><td>6</td><td>Variable</td><td></td><td><a class=\"ProveItLink\" href=\"../../../../../__pv_it/994260d00d104a1ab9cf940a007fb6a4ff36f79e0/expr.ipynb\"><img src=\"data:image/png;base64,iVBORw0KGgoAAAANSUhEUgAAAA8AAAAOBAMAAAACpFvcAAAAMFBMVEX///+qqqrMzMwiIiIyMjK6\n",
       "uroQEBB2dnbc3NyYmJhmZmZUVFRERESIiIju7u4AAACtjd3MAAAAAXRSTlMAQObYZgAAAG5JREFU\n",
       "CNdjYGDgu7NrJccCBgaGsgkMrMsmMDA8sQNy6hsYGNweABnKDAxcH4E0QxcDQ78DiPGCgWH9BAYI\n",
       "sG+AMv4D8S2X4wwMaSBefQADw36Qbn8g1r/AwMDxBcjg/MnAoG0Oktf2XjVhEgMDAJHQGYM57+uu\n",
       "AAAAAElFTkSuQmCC\n",
       "\" style=\"display:inline;vertical-align:middle;\" /></a></td></tr>\n",
       "<tr><td>7</td><td>Variable</td><td></td><td><a class=\"ProveItLink\" href=\"../../../../../__pv_it/185e6d30f167ee2ee5ef3321098dc98e0d77bc590/expr.ipynb\"><img src=\"data:image/png;base64,iVBORw0KGgoAAAANSUhEUgAAABEAAAAOBAMAAAA7w+qHAAAALVBMVEX///8QEBCYmJjc3Ny6urru\n",
       "7u5mZmZ2dnaqqqrMzMxEREQyMjJUVFSIiIgAAABETr/8AAAAAXRSTlMAQObYZgAAAGpJREFUCNdj\n",
       "YGC48+7MmV0TGEDgNQMDxwsQg/M5kMgLABK8T4DEvAtAgusBkLA7ACT4FoDEDsAk9AqAxD2QCecc\n",
       "gMQ6kAGCIOIVEDM9Ahn3FkgwgnTxvgQSqwOgxs1OADLC1r05cyoTyAAAv4Qe+njAWvgAAAAASUVO\n",
       "RK5CYII=\n",
       "\" style=\"display:inline;vertical-align:middle;\" /></a></td></tr>\n",
       "<tr><td>8</td><td>Variable</td><td></td><td><a class=\"ProveItLink\" href=\"../../../../../__pv_it/9995c55100c62d7d8a012a35bafc852acbe03cf00/expr.ipynb\"><img src=\"data:image/png;base64,iVBORw0KGgoAAAANSUhEUgAAABAAAAAOBAMAAADUAYG5AAAALVBMVEX///8iIiKYmJjc3Nzu7u7M\n",
       "zMx2dnZmZma6urpERESqqqoyMjJUVFSIiIgAAACbLqVTAAAAAXRSTlMAQObYZgAAAGVJREFUCNdj\n",
       "YGC48+7MmdOvGYAARKwEYo63QIIdiNmeAglfIOZ+wMDGwAxk8E1gUAIpZejbc/oxmJEXwLABzNjH\n",
       "wJDAEABkvGRgMGC5ADWGzQFqjDnEGAZWUQYGn3lvzpyRE2AAAIznGVQJqiN4AAAAAElFTkSuQmCC\n",
       "\" style=\"display:inline;vertical-align:middle;\" /></a></td></tr>\n",
       "<tr><td>9</td><td>Variable</td><td></td><td><a class=\"ProveItLink\" href=\"../../../../../__pv_it/6d1586c49fb5fd7602fde2bbc54560e7304e8ccf0/expr.ipynb\"><img src=\"data:image/png;base64,iVBORw0KGgoAAAANSUhEUgAAABAAAAAOBAMAAADUAYG5AAAAMFBMVEX///9mZmYiIiLc3Nzu7u7M\n",
       "zMyqqqp2dna6urqYmJhEREQyMjIQEBBUVFSIiIgAAABBzvKsAAAAAXRSTlMAQObYZgAAAFxJREFU\n",
       "CNdjYGB4+//u3Tv/GIDgNxCvBGKO70BiBhCzfwMSqUDM/YWBmWEKkMGvwOAJUsrQL8AgDGbU7710\n",
       "AMzY78BwAcz4xMAygQFmDAiw/4AyuD9AaMf1f8GaAdy+F/r2qjhkAAAAAElFTkSuQmCC\n",
       "\" style=\"display:inline;vertical-align:middle;\" /></a></td></tr>\n",
       "<tr><td>10</td><td>Variable</td><td></td><td><a class=\"ProveItLink\" href=\"../../../../../__pv_it/fabf74ac81cd36aa91075816201d2b14195a56e60/expr.ipynb\"><img src=\"data:image/png;base64,iVBORw0KGgoAAAANSUhEUgAAABMAAAAOBAMAAAA/Njq6AAAALVBMVEX///+qqqp2dnbMzMy6uroi\n",
       "IiIyMjLc3NyYmJju7u5mZmZERERUVFSIiIgAAABaGT/LAAAAAXRSTlMAQObYZgAAAGhJREFUCNdj\n",
       "YGC4827XhJ53uwoYgOAZED8FMRhY3jIwML8CM5keMzDwPgQz2R4wMHC/BDP5NgBxAJjpl3PmzL4F\n",
       "YKaeAQPDPQEwMw+I900AM19DjYYa+whh7BM0Y2fte3OB69wbBQYGADOSITJjbaXUAAAAAElFTkSu\n",
       "QmCC\n",
       "\" style=\"display:inline;vertical-align:middle;\" /></a></td></tr>\n",
       "<tr><td>11</td><td>Variable</td><td></td><td><a class=\"ProveItLink\" href=\"../../../../../__pv_it/485fbf85ade6e4660c176b077846a05437e7af3e0/expr.ipynb\"><img src=\"data:image/png;base64,iVBORw0KGgoAAAANSUhEUgAAAAsAAAAOBAMAAAALT/umAAAAIVBMVEX////MzMyIiIi6uroyMjLc\n",
       "3NxmZmZERERUVFR2dnYAAABv5Bk0AAAAAXRSTlMAQObYZgAAAD9JREFUCNdjYGCYsaosgAEIloAI\n",
       "BuaVYIpzMZhiWQCmuArAlJUCmJolAKa8wCTDcoi2RRBtC5G0hVWtmMDAAAAhAQsT8Qr5GAAAAABJ\n",
       "RU5ErkJggg==\n",
       "\" style=\"display:inline;vertical-align:middle;\" /></a></td></tr>\n",
       "</table>\n"
      ],
      "text/plain": [
       "0. A or B or C or G or D or E or F or H or I\n",
       "   core type: Operation\n",
       "   operator: 1\n",
       "   operands: 2\n",
       "1. or\n",
       "   core type: Literal\n",
       "   sub-expressions: \n",
       "2. (A , B , C , G , D , E , F , H , I)\n",
       "   core type: ExprTuple\n",
       "   sub-expressions: 3, 4, 5, 6, 7, 8, 9, 10, 11\n",
       "3. A\n",
       "   core type: Variable\n",
       "   sub-expressions: \n",
       "4. B\n",
       "   core type: Variable\n",
       "   sub-expressions: \n",
       "5. C\n",
       "   core type: Variable\n",
       "   sub-expressions: \n",
       "6. G\n",
       "   core type: Variable\n",
       "   sub-expressions: \n",
       "7. D\n",
       "   core type: Variable\n",
       "   sub-expressions: \n",
       "8. E\n",
       "   core type: Variable\n",
       "   sub-expressions: \n",
       "9. F\n",
       "   core type: Variable\n",
       "   sub-expressions: \n",
       "10. H\n",
       "    core type: Variable\n",
       "    sub-expressions: \n",
       "11. I\n",
       "    core type: Variable\n",
       "    sub-expressions: "
      ]
     },
     "execution_count": 4,
     "metadata": {},
     "output_type": "execute_result"
    }
   ],
   "source": [
    "# display the expression information\n",
    "expr.exprInfo()"
   ]
  },
  {
   "cell_type": "code",
   "execution_count": null,
   "metadata": {},
   "outputs": [],
   "source": []
  }
 ],
 "metadata": {
  "kernelspec": {
   "display_name": "Python 3",
   "language": "python",
   "name": "python3"
  }
 },
 "nbformat": 4,
 "nbformat_minor": 0
}
