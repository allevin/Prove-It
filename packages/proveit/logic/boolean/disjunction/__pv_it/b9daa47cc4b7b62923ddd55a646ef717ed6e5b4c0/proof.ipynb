{
 "cells": [
  {
   "cell_type": "markdown",
   "metadata": {},
   "source": [
    "Show the Proof\n",
    "========"
   ]
  },
  {
   "cell_type": "code",
   "execution_count": 1,
   "metadata": {},
   "outputs": [
    {
     "data": {
      "text/html": [
       "<table><tr><th>&nbsp;</th><th>step type</th><th>requirements</th><th>statement</th></tr>\n",
       "<tr><td>0</td><td>specialization</td><td>1, 2</td><td><span style=\"font-size:20px;\"><a class=\"ProveItLink\" href=\"../ff772d4a4ccd5360dccfe03eeb42b0d5539e581a0/expr.ipynb\"><img src=\"data:image/png;base64,iVBORw0KGgoAAAANSUhEUgAAAGsAAAAVBAMAAACzuQ2OAAAAMFBMVEX////c3NxERESqqqpUVFS6\n",
       "urrMzMwyMjIQEBCIiIh2dnYiIiLu7u5mZmaYmJgAAABXZE4RAAAAAXRSTlMAQObYZgAAAclJREFU\n",
       "OMtjYGDgu8dACmBbJQCieHahiEbi08IXANLXDGJyfkAxywFCbUBT7//FxamUgeEaiHMdRHA1IMuz\n",
       "H4BQYLMCwCaABTgUGBjuBzCwg9grMLXNhFCv/4BIN4RI/gQgdmDgW4BdWw+YZLT9CKKSQMQesMh8\n",
       "YDi8X8DA04BVG2sBmOLk/Ap2KlAt8wWwiAYQ7wB6QBmrNt4FYCqG+R+IAmlhBwc3wxcGBnEdIL0W\n",
       "po23ADlEHoDjJIDtJwPUgUmQkP0yc+4+EMMciN+DGBnA8Lq9GwhA8ccBDjxWBsa/sAByhbga6NfT\n",
       "oLiJAJkNdERKG8ymFCDmB2tLcXH5BBbiZuCBuIUJ6BNOkMPzQTx1oJsiEjC0AYl2iFcNuMCuZuAH\n",
       "2sT3C6qNGxQALAVI2jgMQCEBCjVIRBRwQ+TygbpZPkMdCfYb1wYkbUwgw4WBuB4i5vaSAR5t8iDz\n",
       "n2NEACgVcQF9C/aOPiSRJUEiGxRtbO0HkCMANbo3MDBqfBdgePS/FhIhkMi+9N/FpRzsy1LsiasR\n",
       "LXMdQOXjSFwMr/DnUa4JMG182DIOLnAcnt94diKLMzrg1eYIcngrJOcuRpaQxKeLMwFalgAA8aNx\n",
       "Ab1ztcAAAAAASUVORK5CYII=\n",
       "\" style=\"display:inline;vertical-align:middle;\" /></a> <a class=\"ProveItLink\" href=\"proof.ipynb\" style=\"text-decoration: none\">&#x22A2;&nbsp;</a><a class=\"ProveItLink\" href=\"../1da4e2fe7c44632f084fa27ea32e26dc689384c20/expr.ipynb\"><img src=\"data:image/png;base64,iVBORw0KGgoAAAANSUhEUgAAAB0AAAAOBAMAAAAh/woJAAAAMFBMVEX///+qqqru7u7c3NyIiIgQ\n",
       "EBC6uroyMjJERESYmJhUVFTMzMx2dnYiIiJmZmYAAADtoHoAAAAAAXRSTlMAQObYZgAAAHpJREFU\n",
       "CNdjYIACzvW/Vq0oY0AA1gYGhvcJCP5+ByBegOD7GzAwzD+A4LcC8VUFBP8XA4N5E4LL/cvF7yaQ\n",
       "fnsXCO4wMLB8ZmDQhRm3i4GBIwAo9hPB5wfKcf5B8PdPYGDg+ojgg6y3L4AZDraeOxxh/Yv/q1aV\n",
       "A7UAAFRxJOZ+1MVPAAAAAElFTkSuQmCC\n",
       "\" style=\"display:inline;vertical-align:middle;\" /></a></span></td></tr>\n",
       "<tr><td>&nbsp;</td><td colspan=4 style=\"text-align:left\"><span style=\"font-size:20px;\"><a class=\"ProveItLink\" href=\"../../../../../__pv_it/2cbe72a7ad6f655694dd697106680215e8489b600/expr.ipynb\"><img src=\"data:image/png;base64,iVBORw0KGgoAAAANSUhEUgAAAA8AAAAOBAMAAAACpFvcAAAALVBMVEX///8QEBBERERUVFS6urqI\n",
       "iIhmZmaqqqrc3Nzu7u6YmJgyMjIiIiLMzMwAAADtIaYWAAAAAXRSTlMAQObYZgAAAFtJREFUCNdj\n",
       "YACBOwxQsA9Kc52bAGG05zVAGAFxDmCaZULdAjBjCsO9ADDDgaEvAUTzGhvbKYCVMDAwbgAxChgY\n",
       "eASANAeQwf0AyJgNxEwvGRia5HYwcOm9TgAA6BoR3jrzwFcAAAAASUVORK5CYII=\n",
       "\" style=\"display:inline;vertical-align:middle;\" /></a> : <a class=\"ProveItLink\" href=\"../../../../../__pv_it/2cbe72a7ad6f655694dd697106680215e8489b600/expr.ipynb\"><img src=\"data:image/png;base64,iVBORw0KGgoAAAANSUhEUgAAAA8AAAAOBAMAAAACpFvcAAAALVBMVEX///8QEBBERERUVFS6urqI\n",
       "iIhmZmaqqqrc3Nzu7u6YmJgyMjIiIiLMzMwAAADtIaYWAAAAAXRSTlMAQObYZgAAAFtJREFUCNdj\n",
       "YACBOwxQsA9Kc52bAGG05zVAGAFxDmCaZULdAjBjCsO9ADDDgaEvAUTzGhvbKYCVMDAwbgAxChgY\n",
       "eASANAeQwf0AyJgNxEwvGRia5HYwcOm9TgAA6BoR3jrzwFcAAAAASUVORK5CYII=\n",
       "\" style=\"display:inline;vertical-align:middle;\" /></a>, <a class=\"ProveItLink\" href=\"../../../../../__pv_it/077b2ff79244fb4582cbe22c6e3356fa92a52f2f0/expr.ipynb\"><img src=\"data:image/png;base64,iVBORw0KGgoAAAANSUhEUgAAABAAAAAOBAMAAADUAYG5AAAAMFBMVEX///+qqqru7u4iIiJ2dnbc\n",
       "3NyIiIjMzMxmZmYQEBC6uroyMjJERERUVFSYmJgAAADLUcuvAAAAAXRSTlMAQObYZgAAAGpJREFU\n",
       "CNdjYGB4+//u3dMLGIBgDgMDxy8gzf4NiP8CGWxfGRj4vgAZPBMYGJgnARn8FxhY9ygAGfXX0pof\n",
       "gDTlBzAw2YIYJ0EckBBI53sHoBH/gIz7AhBjWH9DjancBLTl/N+7t/cxMAAA3u4f/5xagjYAAAAA\n",
       "SUVORK5CYII=\n",
       "\" style=\"display:inline;vertical-align:middle;\" /></a> : <a class=\"ProveItLink\" href=\"../../../../../__pv_it/077b2ff79244fb4582cbe22c6e3356fa92a52f2f0/expr.ipynb\"><img src=\"data:image/png;base64,iVBORw0KGgoAAAANSUhEUgAAABAAAAAOBAMAAADUAYG5AAAAMFBMVEX///+qqqru7u4iIiJ2dnbc\n",
       "3NyIiIjMzMxmZmYQEBC6uroyMjJERERUVFSYmJgAAADLUcuvAAAAAXRSTlMAQObYZgAAAGpJREFU\n",
       "CNdjYGB4+//u3dMLGIBgDgMDxy8gzf4NiP8CGWxfGRj4vgAZPBMYGJgnARn8FxhY9ygAGfXX0pof\n",
       "gDTlBzAw2YIYJ0EckBBI53sHoBH/gIz7AhBjWH9DjancBLTl/N+7t/cxMAAA3u4f/5xagjYAAAAA\n",
       "SUVORK5CYII=\n",
       "\" style=\"display:inline;vertical-align:middle;\" /></a></span></td></tr><tr><td>1</td><td>theorem</td><td></td><td><span style=\"font-size:20px;\"> <a class=\"ProveItLink\" href=\"../../_proofs_/notRightIfNeither.ipynb\" style=\"text-decoration: none\">&#x22A2;&nbsp;</a><a class=\"ProveItLink\" href=\"../0ed3eb63399020e6b36873d4f190b50ff67d74bc0/expr.ipynb\"><img src=\"data:image/png;base64,iVBORw0KGgoAAAANSUhEUgAAAK8AAAAXBAMAAACPJQJeAAAAMFBMVEX///8QEBC6urrMzMxUVFRm\n",
       "ZmZERETc3NwyMjKqqqp2dnaIiIiYmJgiIiLu7u4AAAAU9Wx4AAAAAXRSTlMAQObYZgAAAtBJREFU\n",
       "OMu1VU1oE0EU/rqbzeZnsw0eBC8lBw8elKwgePDQoKUWPCSHRkEoRsStBzEBiz0Vc7IIornopZcg\n",
       "qBVBKnopPWTVHvw52IO5+EcLWrwUS/qnVqvvzWaT7SZVcPHBzrx58+abed97Mwv8L5n1DyFNeC1P\n",
       "6Jth5aUv4H1NdfpXT8+ZBBQDuMvjq76A3au3A0oNKAIXaKTm/OBGXUzI6/QtAy+AEJGslPwAd7jS\n",
       "FF0DtO/AHHV3hodHfDGxy6UH40Csi3o66qppvvnr4vNtbOF6f9xl60xBvUQRRDLAIWBQGEdFe2Ml\n",
       "22uIInL5q2VuQwUHMp/tPwW5bI+uuBy7j0wNWOxB2dsJvcg2rSamtDiicRGVO0LRvko448fAA+Cm\n",
       "PdhGSXrPQhtVCtBf86mYEkR5D3z6IdyUFKQ1L/AYN/oJC1wA9PUDyQI+25M1pyJSwEnqKwQnL1Ii\n",
       "rZhI6/2qmI5NQJnxAguuIgsZTBIttP4tMAAEjBbgZQ6sbAPrRXFz5AlTTH8x8KzgBRbcHAjm2Big\n",
       "aJegjTYKeEcTWOao0yWbCgweZHOAz0CSnHp0Dh5gWSQhRZFEExiiZetTvRSllBKzZ5vAXMbqV84U\n",
       "r7guIn+Oipgep9TMNoFvm6ZZFAhaKboIPYfDREoRWpezH245+xuijPfyDedyQwdHpFezeYF3mtgo\n",
       "bT5xLszAC9mjG1QJTHEwA/1bA3hPw1HJL/f0ieoLcQFpDKgU0C1yQQuShgdY4rfkGOQlYJ4c0VmC\n",
       "RLpkPzEdhdbLM9fQdpO7pY5C3YBa9XCc04ksiYqIUhOZJsPFWYxQrJp9Q+rdJrnnKB9XoabfUVLH\n",
       "V7J9JQ+wgQ/Q0zkM/bS4IBC5lu2/zFEmWp9NW+wr5xKt5bbZMtlUXXGH6v1QC3DAy87+LYDn275M\n",
       "Y85L0vJreug1WFsAh612wKl/e2YD7sHTNg6RP/6HfwPXZquxti+cKgAAAABJRU5ErkJggg==\n",
       "\" style=\"display:inline;vertical-align:middle;\" /></a></span></td></tr>\n",
       "<tr><td>&nbsp;</td><td colspan=4 style-\"text-align:left\"><a class=\"ProveItLink\" href=\"../../_proofs_/notRightIfNeither.ipynb\">proveit.logic.boolean.disjunction.notRightIfNeither</a></td></tr><tr><td>2</td><td>assumption</td><td></td><td><span style=\"font-size:20px;\"><a class=\"ProveItLink\" href=\"../ff772d4a4ccd5360dccfe03eeb42b0d5539e581a0/expr.ipynb\"><img src=\"data:image/png;base64,iVBORw0KGgoAAAANSUhEUgAAAGsAAAAVBAMAAACzuQ2OAAAAMFBMVEX////c3NxERESqqqpUVFS6\n",
       "urrMzMwyMjIQEBCIiIh2dnYiIiLu7u5mZmaYmJgAAABXZE4RAAAAAXRSTlMAQObYZgAAAclJREFU\n",
       "OMtjYGDgu8dACmBbJQCieHahiEbi08IXANLXDGJyfkAxywFCbUBT7//FxamUgeEaiHMdRHA1IMuz\n",
       "H4BQYLMCwCaABTgUGBjuBzCwg9grMLXNhFCv/4BIN4RI/gQgdmDgW4BdWw+YZLT9CKKSQMQesMh8\n",
       "YDi8X8DA04BVG2sBmOLk/Ap2KlAt8wWwiAYQ7wB6QBmrNt4FYCqG+R+IAmlhBwc3wxcGBnEdIL0W\n",
       "po23ADlEHoDjJIDtJwPUgUmQkP0yc+4+EMMciN+DGBnA8Lq9GwhA8ccBDjxWBsa/sAByhbga6NfT\n",
       "oLiJAJkNdERKG8ymFCDmB2tLcXH5BBbiZuCBuIUJ6BNOkMPzQTx1oJsiEjC0AYl2iFcNuMCuZuAH\n",
       "2sT3C6qNGxQALAVI2jgMQCEBCjVIRBRwQ+TygbpZPkMdCfYb1wYkbUwgw4WBuB4i5vaSAR5t8iDz\n",
       "n2NEACgVcQF9C/aOPiSRJUEiGxRtbO0HkCMANbo3MDBqfBdgePS/FhIhkMi+9N/FpRzsy1LsiasR\n",
       "LXMdQOXjSFwMr/DnUa4JMG182DIOLnAcnt94diKLMzrg1eYIcngrJOcuRpaQxKeLMwFalgAA8aNx\n",
       "Ab1ztcAAAAAASUVORK5CYII=\n",
       "\" style=\"display:inline;vertical-align:middle;\" /></a> <a class=\"ProveItLink\" href=\"../e17229044026c44cbac769870605e4a5b57459ec0/proof.ipynb\" style=\"text-decoration: none\">&#x22A2;&nbsp;</a><a class=\"ProveItLink\" href=\"../7287205f651df5658adbe6934eb34d509d29e06a0/expr.ipynb\"><img src=\"data:image/png;base64,iVBORw0KGgoAAAANSUhEUgAAAFYAAAAVBAMAAAAutAQGAAAAMFBMVEX////c3NxERESqqqqYmJgQ\n",
       "EBDu7u4yMjKIiIi6urpUVFTMzMx2dnYiIiJmZmYAAABjE816AAAAAXRSTlMAQObYZgAAAXRJREFU\n",
       "KM9jYCAPzMAnyTIBmce9AEJdQFO0/teqRZUMDK+RBdkTINQHEAk2hRsswKrAwPB+AgM7stoOCOX7\n",
       "DUSuRojsbwDiBQwsB5DUhoFJRruPIGoTiLgGFukXYGDwP8DAFoBQylkApjg4foJdAlTA/AAsogrE\n",
       "V4HuU0ao5YPYMY35C4gCqQOpB4JfDAziakD6HJLXHEAk2wTuHwxQ+zdBwuVXR98VEMOc4e1dILgD\n",
       "8i7Y65wMjP9gPl0JcRTQ/bmg4JwKMXMXEPOD1e5ateoTWIiXgQ3iASagnzhA7tqPrhZIhEOcb8AD\n",
       "dhQDP9BMlj+oalkNQF4C+RkSdgW8ELn9QC1cn1HdwAQyRhiI6yFiqz0Y4MErD3KOOzQpADEPMJTA\n",
       "TtSHxPUmSEyAgpc7PAE1zDgvMDCqfhdgcPpfBwlDSEw8+r9qVTnY5ZVIcRyImr64E1D5yHHM4IM/\n",
       "dfM0YKZJXCAdmcO4AK/ahSg8CXxKOTYwAADeHliu8zOSuAAAAABJRU5ErkJggg==\n",
       "\" style=\"display:inline;vertical-align:middle;\" /></a></span></td></tr>\n",
       "</table>"
      ],
      "text/plain": [
       "<proveit._core_.proof._ShowProof at 0x7f94e46a5780>"
      ]
     },
     "execution_count": 1,
     "metadata": {},
     "output_type": "execute_result"
    }
   ],
   "source": [
    "import proveit\n",
    "%show_proof"
   ]
  },
  {
   "cell_type": "code",
   "execution_count": null,
   "metadata": {},
   "outputs": [],
   "source": []
  }
 ],
 "metadata": {
  "kernelspec": {
   "display_name": "Python 3",
   "language": "python",
   "name": "python3"
  }
 },
 "nbformat": 4,
 "nbformat_minor": 0
}
