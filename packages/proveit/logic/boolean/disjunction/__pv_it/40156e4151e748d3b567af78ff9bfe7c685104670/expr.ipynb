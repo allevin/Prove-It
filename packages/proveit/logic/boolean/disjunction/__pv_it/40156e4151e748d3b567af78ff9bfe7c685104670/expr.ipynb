{
 "cells": [
  {
   "cell_type": "markdown",
   "metadata": {},
   "source": [
    "Expression of type <a class=\"ProveItLink\" href=\"../../../../../../../doc/html/api/proveit.logic.Set.html\">Set</a>\n",
    "=======================\n",
    "# from context <a class=\"ProveItLink\" href=\"../../_context_.ipynb\">proveit.logic.boolean.disjunction</a>"
   ]
  },
  {
   "cell_type": "code",
   "execution_count": 1,
   "metadata": {},
   "outputs": [],
   "source": [
    "# import Expression classes needed to build the expression\n",
    "from proveit._common_ import C, D\n",
    "from proveit.logic import Booleans, InSet, Or, Set"
   ]
  },
  {
   "cell_type": "code",
   "execution_count": 2,
   "metadata": {},
   "outputs": [
    {
     "data": {
      "text/html": [
       "<strong id=\"expr\">expr:</strong> <a class=\"ProveItLink\" href=\"expr.ipynb\"><img src=\"data:image/png;base64,iVBORw0KGgoAAAANSUhEUgAAAM8AAAAVBAMAAAATCqclAAAAMFBMVEX////c3NxERESqqqpUVFS6\n",
       "urrMzMwyMjIQEBCIiIh2dnYiIiLu7u5mZmaYmJgAAABXZE4RAAAAAXRSTlMAQObYZgAAAmJJREFU\n",
       "SMe9ljtsE0EQQMeO7y6218ZKj5RICApAWBSUJIWJKyDpghBSFFHQ4RIpCSB+DRGJkChSEYkClMqi\n",
       "QWCLXAmiIEBBBbilQCZR+CNgdnb3du5u0VXJSt6b2X03Mzcze2cAqL6H7R3+ak1exBPY7uFflXPx\n",
       "MynP97zr7Y5tF09uNZp7IzUN3N+8dOFh3U3HgbdSK12m+RbAGfzBBIVA3K4WwKgxFAFsDJ8Sc6tG\n",
       "idEJ4EHkSMyGKG2gNC7Xlgk7vwJQ+a1usUDMDtwJjMLpJGAdBQs4eVKakWtdwu7i0/k/1C0WwCTO\n",
       "dh4ZO0cLoTbK6BRgHX2Qz5xblxaxQwbWCTsk17aUGQuAfzFkAQ+Z6C2dBiJHuW+UnmlQTgJqR9iU\n",
       "NylHDICh0GbGf3rAKJZOA+SogkWs/LF57er0qTxUf5LMgRFbgtNr35dMC1s6DfSlcg5zW2ZVxkY4\n",
       "phr2K06FLyQzQAzzWi8fNu0d0Q4gwDSdvSFbk86SUDZBtEjIy8VBVX8GeDc7HVvrvLcCCdoF7OsB\n",
       "TGHiB8nOEZWleqmnjMvI+kpmgD/GA86Djt/SDqAsnRUw/gL1v+q1XKusD4bM7hUlM0C0nY4s7QCo\n",
       "RqW2rmRJN8v4R30w8FHzcyphHDgRs4OZCTntAtg56tfBe6V3Z7rRwfDn8fqyHQdeTDA7n26D+MVp\n",
       "B8Ad+c3jb8xuoDL0+m+jcVAenGcbcSA3Px29M/dfq4NYrDHaAXBHsZd6mFiYTOgDTd1Ueni1DOA/\n",
       "jlKjl7FfzfwgkaPqDjii75F4nEEVs8wsZX5hr6uA7u3Ef4Z/B3jWeCFbrggAAAAASUVORK5CYII=\n",
       "\" style=\"display:inline;vertical-align:middle;\" /></a><br>"
      ],
      "text/plain": [
       "expr: {C or D , C in BOOLEANS , D in BOOLEANS}"
      ]
     },
     "execution_count": 2,
     "metadata": {},
     "output_type": "execute_result"
    }
   ],
   "source": [
    "# build up the expression from sub-expressions\n",
    "expr = Set(Or(C, D), InSet(C, Booleans), InSet(D, Booleans))"
   ]
  },
  {
   "cell_type": "code",
   "execution_count": 3,
   "metadata": {},
   "outputs": [
    {
     "name": "stdout",
     "output_type": "stream",
     "text": [
      "Passed sanity check: built 'expr' is the same as the stored Expression.\n"
     ]
    }
   ],
   "source": [
    "# check that the built expression is the same as the stored expression\n",
    "%check_expr"
   ]
  },
  {
   "cell_type": "code",
   "execution_count": 4,
   "metadata": {},
   "outputs": [
    {
     "data": {
      "text/html": [
       "<table><tr><th>&nbsp;</th><th>core type</th><th>sub-expressions</th><th>expression</th></tr>\n",
       "<tr><td>0</td><td>Operation</td><td>operator:&nbsp;1<br>operands:&nbsp;2<br></td><td><a class=\"ProveItLink\" href=\"expr.ipynb\"><img src=\"data:image/png;base64,iVBORw0KGgoAAAANSUhEUgAAAM8AAAAVBAMAAAATCqclAAAAMFBMVEX////c3NxERESqqqpUVFS6\n",
       "urrMzMwyMjIQEBCIiIh2dnYiIiLu7u5mZmaYmJgAAABXZE4RAAAAAXRSTlMAQObYZgAAAmJJREFU\n",
       "SMe9ljtsE0EQQMeO7y6218ZKj5RICApAWBSUJIWJKyDpghBSFFHQ4RIpCSB+DRGJkChSEYkClMqi\n",
       "QWCLXAmiIEBBBbilQCZR+CNgdnb3du5u0VXJSt6b2X03Mzcze2cAqL6H7R3+ak1exBPY7uFflXPx\n",
       "MynP97zr7Y5tF09uNZp7IzUN3N+8dOFh3U3HgbdSK12m+RbAGfzBBIVA3K4WwKgxFAFsDJ8Sc6tG\n",
       "idEJ4EHkSMyGKG2gNC7Xlgk7vwJQ+a1usUDMDtwJjMLpJGAdBQs4eVKakWtdwu7i0/k/1C0WwCTO\n",
       "dh4ZO0cLoTbK6BRgHX2Qz5xblxaxQwbWCTsk17aUGQuAfzFkAQ+Z6C2dBiJHuW+UnmlQTgJqR9iU\n",
       "NylHDICh0GbGf3rAKJZOA+SogkWs/LF57er0qTxUf5LMgRFbgtNr35dMC1s6DfSlcg5zW2ZVxkY4\n",
       "phr2K06FLyQzQAzzWi8fNu0d0Q4gwDSdvSFbk86SUDZBtEjIy8VBVX8GeDc7HVvrvLcCCdoF7OsB\n",
       "TGHiB8nOEZWleqmnjMvI+kpmgD/GA86Djt/SDqAsnRUw/gL1v+q1XKusD4bM7hUlM0C0nY4s7QCo\n",
       "RqW2rmRJN8v4R30w8FHzcyphHDgRs4OZCTntAtg56tfBe6V3Z7rRwfDn8fqyHQdeTDA7n26D+MVp\n",
       "B8Ad+c3jb8xuoDL0+m+jcVAenGcbcSA3Px29M/dfq4NYrDHaAXBHsZd6mFiYTOgDTd1Ueni1DOA/\n",
       "jlKjl7FfzfwgkaPqDjii75F4nEEVs8wsZX5hr6uA7u3Ef4Z/B3jWeCFbrggAAAAASUVORK5CYII=\n",
       "\" style=\"display:inline;vertical-align:middle;\" /></a></td></tr>\n",
       "<tr><td>1</td><td>Literal</td><td></td><td><a class=\"ProveItLink\" href=\"../../../../set_theory/enumeration/__pv_it/07381ed5b23806e8d7914b78cb6667769e3708dd0/expr.ipynb\"><img src=\"data:image/png;base64,iVBORw0KGgoAAAANSUhEUgAAAB4AAAAOBAMAAADKyLEKAAAAMFBMVEX///8iIiIQEBCIiIjMzMzc\n",
       "3Nyqqqp2dnZEREQyMjK6urru7u5mZmZUVFSYmJgAAACI6eGPAAAAAXRSTlMAQObYZgAAALRJREFU\n",
       "CNdjYGDgu3Nm3wIGBJjHwN0PZW5yYGDgLWBgyITy8zcwMMQDxZyh/INAvD6BgcEFypcB4vjPDiBm\n",
       "TPFRrhs/LjMwMP//38rAwCbKEMPA9gEkE3fp0waG+AUMRxh4JkC01T9guPTOOICBEWgVH5C//wHD\n",
       "H5D4fqCz9oCMDGD4DLaegRXslLMMDMpAgxlOMmQxHDRgYG5gYLBk4D7KcIe7gOHC2rt9QCXsh40Z\n",
       "GCKMGQDRkC8N/Ph1XAAAAABJRU5ErkJggg==\n",
       "\" style=\"display:inline;vertical-align:middle;\" /></a></td></tr>\n",
       "<tr><td>2</td><td>ExprTuple</td><td>3, 4, 5</td><td><a class=\"ProveItLink\" href=\"../7dc443e6b29eca7f5ec8736af1733f2a8f0c84e10/expr.ipynb\"><img src=\"data:image/png;base64,iVBORw0KGgoAAAANSUhEUgAAAMgAAAAVBAMAAADx1rxcAAAAMFBMVEX////c3NwiIiJERESqqqqY\n",
       "mJh2dnZmZmYQEBDu7u4yMjJUVFTMzMyIiIi6uroAAAAs73DqAAAAAXRSTlMAQObYZgAAAmVJREFU\n",
       "SMe9lU1oE1EQx/9pmphNN2mgBw9eSsRDvFhFEVEwIF6kYG6CIOak4Kmi6EWwaD2IoIsnEcRQKDUX\n",
       "bQ9FSIoGevSQgudq7cUiCNaiqPVr3te+2c3DPcWF3czb+e1/3puZvAf8l6u43F/9zCo9Xgnr0eGr\n",
       "te0RX+HlVrt1JBz2Ahc2nz3ZWXXTEeAa2U26s7eA93RDRIUvmeEGcNKIhAC7xj56zXNmEKGjQJ7m\n",
       "QNnypgPS2aD3i8K5IpFuHdj2XeEWiGjgTd4MOB0DMnXk6PP8bVGbSXosCWdFIm9pVf4vhVuAEjdd\n",
       "3m00jg8FWpDRccCbxAcaXRfrTE0ItRIwOCGRo+LdlpKwAPyZgE10xMza0r3Aflwh5w+Zkg5UABGI\n",
       "rk3xgQrCAIwENhv+rkNmYOle4DxmKJdfbB4rOmVq7Zmv0ubAXpvytT3fTPszuhc4gbvAAKsoFf2F\n",
       "asqf9Bj6LW0GeGO8rivHTAuHtANYBzmGP8nPlR68hjTS4mVO1ZoBxRvlsq1rulhHjHYAXREkJzXG\n",
       "VWaq2ZoSFjM6q2wG+HN8omnoeVvaAXQxRcuU/a16KtUY0I0vsnlT2QzwRp1BLO0A1nFAVy2rm2Lx\n",
       "jG586qV0UyWJAwsRDcpGwGkXgNPUX7TOKooXtWepEja+P0u/j0ejwP1VpnHqNbzPnHYAooXXxExb\n",
       "zy8bT15l5dKfdvug+GM82IgCqdlOuP/tu1OFd6/EaAcAPEWuFN1w/CC2Vb+LjQdbunnMUVFKAGhb\n",
       "ydQTzoNa0nmRdKBkl9VW39cgD+ne8W+kkKSReLDOi0L1+fgtdPAXtlvca7IDPIMAAAAASUVORK5C\n",
       "YII=\n",
       "\" style=\"display:inline;vertical-align:middle;\" /></a></td></tr>\n",
       "<tr><td>3</td><td>Operation</td><td>operator:&nbsp;6<br>operands:&nbsp;7<br></td><td><a class=\"ProveItLink\" href=\"../d094b40ee7280f68ea040dbf7871cf82c8e06b1e0/expr.ipynb\"><img src=\"data:image/png;base64,iVBORw0KGgoAAAANSUhEUgAAADgAAAAPBAMAAABD1xE4AAAAMFBMVEX////MzMyqqqoiIiIyMjK6\n",
       "uroQEBB2dnbc3NyYmJhmZmZUVFRERESIiIju7u4AAAB204erAAAAAXRSTlMAQObYZgAAAQZJREFU\n",
       "GNNjYGDgu7NrJccCBmTAu//37i0HQayyCQysyyYwMLCCxQXAJL8DA4O+AgPDEzsgp76BgYEbJM57\n",
       "ASwpX8DAwPWPgcHtAZATBsSMB4AE8wOw5P0AIP8vA9cnEKcLRHgAsRbE0vNAzPGbod8BxHnIAJXw\n",
       "gEj+AZn0m2H9BLgbgUaCjQabyMDA+Z3BvgHhgQsM3AEQ1kcgwf2V4T+YB3GGAcMTiDKeD0CCLYEh\n",
       "H8RhgvhuEUMlRJIfZPr8CQz7QZq4IGItQL0Qb4J8mwOl6yBi3JKQIGC4DzSJxw/oJqA/o6COYjz8\n",
       "AO5NRi8QQ9p7lQLMvWABBr41/3fvPiXAgAbkULkASfM+HSLH3coAAAAASUVORK5CYII=\n",
       "\" style=\"display:inline;vertical-align:middle;\" /></a></td></tr>\n",
       "<tr><td>4</td><td>Operation</td><td>operator:&nbsp;9<br>operands:&nbsp;8<br></td><td><a class=\"ProveItLink\" href=\"../fd7f678709486d41d06d72d1a15c8d8fea4ac2f30/expr.ipynb\"><img src=\"data:image/png;base64,iVBORw0KGgoAAAANSUhEUgAAADYAAAAPBAMAAABdHiGLAAAAMFBMVEX////MzMyqqqoiIiIyMjK6\n",
       "uroQEBB2dnbc3NyYmJhmZmZUVFRERESIiIju7u4AAAB204erAAAAAXRSTlMAQObYZgAAANhJREFU\n",
       "GNNjYGDgu7NrJccCBiTA7n/kS/IhEKtsAgPrsgnIcgw8rBeePC9gYHhiB+TUN6DL8QY4MDC4PQBy\n",
       "wsBCfFeMjR2gckwT9jFwfQJxusByIvOQ9EUcYOgHK3wIIjjOIZkpPOcBw3qEK3gaEHLG/3MZGOwR\n",
       "rniD4pZLBxj+gzkg9zCEGRsj3MJwIJwhH8RmEgCR0sj6GA7wMOwHaeECizxGl5O/AGTXgUW4J6DI\n",
       "hTNwAv0XBXEPnymSHOfaA0BbvFcpQIVaFsLD+o/ZJgZUoO0McScEAABFOz+SfMQzfQAAAABJRU5E\n",
       "rkJggg==\n",
       "\" style=\"display:inline;vertical-align:middle;\" /></a></td></tr>\n",
       "<tr><td>5</td><td>Operation</td><td>operator:&nbsp;9<br>operands:&nbsp;10<br></td><td><a class=\"ProveItLink\" href=\"../0763f6d8486998fbf10d5185b725b9bae35309ac0/expr.ipynb\"><img src=\"data:image/png;base64,iVBORw0KGgoAAAANSUhEUgAAADgAAAAPBAMAAABD1xE4AAAAMFBMVEX///8iIiIQEBCYmJjc3Ny6\n",
       "urru7u5mZmZ2dnaqqqrMzMxEREQyMjJUVFSIiIgAAABUCcz6AAAAAXRSTlMAQObYZgAAAONJREFU\n",
       "GNNjYGB4+//u3dMLGJABx/k9fxR3gpl/GBg4f6JIMnCzPsjJaAAyuH4AifoEdEm+gANABt9XILH+\n",
       "AVgw76CgDFSS0+AaiPEBSPhfAIlxHU5A6AzZAGTwg4j1YEnvBISxC60TYCbag2xn2IKwU/C/Hojx\n",
       "HuSN+wFAgm0DsoNegnj7QTwlEMGqKCgIdxDDhggg4zcQM38Gu+cCkk6GDdxAkX9ADhPYQDYBdEm+\n",
       "X0DOHogzL6NIRkC8uaYAIpYYgJBkrtvAkL7/793bVVAxluMLYAH/W+gmAxrgvANxLQQAAJQZSrQa\n",
       "1FaRAAAAAElFTkSuQmCC\n",
       "\" style=\"display:inline;vertical-align:middle;\" /></a></td></tr>\n",
       "<tr><td>6</td><td>Literal</td><td></td><td><a class=\"ProveItLink\" href=\"../087d0b4ded7c7e5bf3bba05ecb616d7a8051ff650/expr.ipynb\"><img src=\"data:image/png;base64,iVBORw0KGgoAAAANSUhEUgAAAAwAAAAOBAMAAADpk+DfAAAALVBMVEX///+YmJh2dnZmZmaqqqrc\n",
       "3NwyMjLu7u4iIiJERESIiIhUVFTMzMy6uroAAAD0I/TTAAAAAXRSTlMAQObYZgAAAEtJREFUCNdj\n",
       "uMAABDwMe0DUKoaTIKqdgS2AgYHFAITAzHYGsMQqBoa9QIqDgT0BSDE7MAkAKdYEDpAehj1SYOpk\n",
       "O5hiMwBTPAUMDAB33Atnw8aG2QAAAABJRU5ErkJggg==\n",
       "\" style=\"display:inline;vertical-align:middle;\" /></a></td></tr>\n",
       "<tr><td>7</td><td>ExprTuple</td><td>11, 12</td><td><a class=\"ProveItLink\" href=\"../fd54ffea77e07ef6158e0f704a03bb0a9ca178230/expr.ipynb\"><img src=\"data:image/png;base64,iVBORw0KGgoAAAANSUhEUgAAADYAAAAVBAMAAAD/UwB2AAAAMFBMVEX////c3NwiIiJERESqqqqY\n",
       "mJh2dnZmZmYQEBDu7u4yMjJUVFTMzMyIiIi6uroAAAAs73DqAAAAAXRSTlMAQObYZgAAAUBJREFU\n",
       "KM9jYMAH+C5gFWZ9ACROg1hzrcsDxCGCt//v3r34AANDDZC9EojZWhkYnrdCdfxiYGD5wsDAxcDA\n",
       "CzSSc9EEoPxHiBTPNyBRP4GBNYGBAyjM1QmytwEix/sPSJy/wMDZwPAKpMoBSDAWQOSYPwAJ+Q0M\n",
       "DCYMZUDRXyAxzgMQOX4DkD6gXDrDUgYG9q/Ijj8P8lN8AgODF0MfAwPTR2S5+yD9+4G+e8EAtJn/\n",
       "A9hMqJw9iOgAGQCS4wDL+UDlPoMC5StYroWBgfsnSAzqTJ6/QIID5J4XDKZQLtsEiKm8f4CEFdDT\n",
       "DFFAlwJd5cDAV8jAMF8B6r1TYDPSGR6BzNm1vQRIzQC6d7r9792ba8Cmr2PgEEA4/yGyX4BhBgxS\n",
       "OAhAlmO7AIkjbHKzgFgazuNFifiNoPDHniZ4DzAAAExYUFmZUn67AAAAAElFTkSuQmCC\n",
       "\" style=\"display:inline;vertical-align:middle;\" /></a></td></tr>\n",
       "<tr><td>8</td><td>ExprTuple</td><td>11, 13</td><td><a class=\"ProveItLink\" href=\"../27442cd11f18ed9aa91867e6dfbe7fcf8d7a975d0/expr.ipynb\"><img src=\"data:image/png;base64,iVBORw0KGgoAAAANSUhEUgAAADIAAAAVBAMAAAD2uKAMAAAAMFBMVEX////c3NwiIiJERESqqqqY\n",
       "mJh2dnZmZmYQEBDu7u4yMjJUVFTMzMyIiIi6uroAAAAs73DqAAAAAXRSTlMAQObYZgAAASVJREFU\n",
       "KM9jYMAN+C5gEWR9ACROg1hzrcsDxEGMrM/rVyg7MDDUANkrgZitlYHheStYtcFbzpVpDAxcDAy8\n",
       "QMM4F00Ayn6EyjDcAwqzJjBwAAW5OkH2NcBkXLknMHA2MLwC8uqBBjMwFsD1CANpE4YyoNgvkBDn\n",
       "AagMj6olkE5nWMrAwP4Vyb0Gj/R/gPzhxdDHwMD0EVnmLcNdZyD9guEfAwP/B7BpcBlmvgQGhvMg\n",
       "GQ6wjA9ChsEAJNPCwMD9EyRUgCrzgsGUgYHnLygYJkDMg5kWBXQdA0O8AwNfIQPDfAWITPhlsKsf\n",
       "AUmeXdtLgNSMj+AQNeoGeXwdA4cAwsUPEUxg6ACDDg4CEEy2C5BYwJSZBcTScB4vUlBsBIUxttjm\n",
       "PcAAAB/VTWJRVON/AAAAAElFTkSuQmCC\n",
       "\" style=\"display:inline;vertical-align:middle;\" /></a></td></tr>\n",
       "<tr><td>9</td><td>Literal</td><td></td><td><a class=\"ProveItLink\" href=\"../../../../set_theory/membership/__pv_it/088cbc857536a28d4119ad9639a84270ccb0545d0/expr.ipynb\"><img src=\"data:image/png;base64,iVBORw0KGgoAAAANSUhEUgAAAAwAAAAMBAMAAACkW0HUAAAALVBMVEX///+qqqpmZmZUVFQQEBC6\n",
       "urpERETc3NyYmJjMzMwiIiIyMjKIiIju7u4AAACYsrA9AAAAAXRSTlMAQObYZgAAADxJREFUCNdj\n",
       "YOA9vWrVBgaG2b0MQMCeCyIZ2ArA1DUwyRCyahVIyWQI7xaEYm4AU7xLIdxqTQgtvGvVBgCkcQ7e\n",
       "geM/tQAAAABJRU5ErkJggg==\n",
       "\" style=\"display:inline;vertical-align:middle;\" /></a></td></tr>\n",
       "<tr><td>10</td><td>ExprTuple</td><td>12, 13</td><td><a class=\"ProveItLink\" href=\"../fb02af353adc6b70afd5cdd94ff64eec2da7b9f60/expr.ipynb\"><img src=\"data:image/png;base64,iVBORw0KGgoAAAANSUhEUgAAADUAAAAVBAMAAAAUZLt1AAAAMFBMVEX////c3NwiIiJERESqqqqY\n",
       "mJh2dnZmZmYQEBDu7u4yMjJUVFTMzMyIiIi6uroAAAAs73DqAAAAAXRSTlMAQObYZgAAAS1JREFU\n",
       "KM9jYMAH+C5gFY4DEaeB+Pb/3bsXHwCLsa23+tVkwsDADuKuBIn8YmBg+QLRwMx3Yda0BAaGBQwM\n",
       "vCAjeb4BifoJMDneB0CJMAYGDpAI7z8gcf4CTI4lYCcDwwwGhldg/gcgIb8Bru+hAZB2YCgD8fkN\n",
       "QPrgcoeCgYaxFTAsZYAZF58AlVP63wukWRYw9IH490EO3v8AbuYVoDl8DQwgVzDYg4gOuB8YDJ4B\n",
       "3f4BIvcZiFm/Iskxg+VaQN77CyQ4DFDlgGaagrz3B0hYAd02AclM1gUM6VDvnSpgYOD8BJFjrTUA\n",
       "++ERA8N0+9+7N9cAhTn7BUBh/VljC5DD9YCBQwA5vpA4wDBjTUCSY0Vi58LiCFOOExgVDNJIckhJ\n",
       "gBtkPCP2NHGHgQEADD5XmfG0utYAAAAASUVORK5CYII=\n",
       "\" style=\"display:inline;vertical-align:middle;\" /></a></td></tr>\n",
       "<tr><td>11</td><td>Variable</td><td></td><td><a class=\"ProveItLink\" href=\"../../../../../__pv_it/985a1bdf1540838275dec15f4ad6de261cca93ce0/expr.ipynb\"><img src=\"data:image/png;base64,iVBORw0KGgoAAAANSUhEUgAAAA8AAAAOBAMAAAACpFvcAAAAMFBMVEX////MzMyqqqoiIiIyMjK6\n",
       "uroQEBB2dnbc3NyYmJhmZmZUVFRERESIiIju7u4AAAB204erAAAAAXRSTlMAQObYZgAAAGZJREFU\n",
       "CNdjYGDgu7NrJccCBgaGsgkMrMsmMDA8sQNy6hsYGNweABlhDAxcn4A0QxcDQ78DiPGQgWH9BAYI\n",
       "sG+AMv6DSaCGfBDNJMDAsB+kmwuI5S8AiTog5gSaEwXWIO29SgFIAQBC+RaDQlidVgAAAABJRU5E\n",
       "rkJggg==\n",
       "\" style=\"display:inline;vertical-align:middle;\" /></a></td></tr>\n",
       "<tr><td>12</td><td>Variable</td><td></td><td><a class=\"ProveItLink\" href=\"../../../../../__pv_it/185e6d30f167ee2ee5ef3321098dc98e0d77bc590/expr.ipynb\"><img src=\"data:image/png;base64,iVBORw0KGgoAAAANSUhEUgAAABEAAAAOBAMAAAA7w+qHAAAALVBMVEX///8QEBCYmJjc3Ny6urru\n",
       "7u5mZmZ2dnaqqqrMzMxEREQyMjJUVFSIiIgAAABETr/8AAAAAXRSTlMAQObYZgAAAGpJREFUCNdj\n",
       "YGC48+7MmV0TGEDgNQMDxwsQg/M5kMgLABK8T4DEvAtAgusBkLA7ACT4FoDEDsAk9AqAxD2QCecc\n",
       "gMQ6kAGCIOIVEDM9Ahn3FkgwgnTxvgQSqwOgxs1OADLC1r05cyoTyAAAv4Qe+njAWvgAAAAASUVO\n",
       "RK5CYII=\n",
       "\" style=\"display:inline;vertical-align:middle;\" /></a></td></tr>\n",
       "<tr><td>13</td><td>Literal</td><td></td><td><a class=\"ProveItLink\" href=\"../../../__pv_it/46271c8230be96415d662709611f4ed2279d702b0/expr.ipynb\"><img src=\"data:image/png;base64,iVBORw0KGgoAAAANSUhEUgAAAA0AAAAOBAMAAAAGUYvhAAAAMFBMVEX///9mZmbMzMzc3NxUVFSY\n",
       "mJju7u6IiIi6urqqqqoiIiIQEBBEREQyMjJ2dnYAAAAQvcRZAAAAAXRSTlMAQObYZgAAAElJREFU\n",
       "CNdjePvn/u01ExgYGA60s117B6YZKngh9FSWBAjfBsxnWnoMRHet/10AkS+fA6F5OB5AaIYDqDRU\n",
       "PLCGgQFoz6ktExgAgLIl8DFvGtkAAAAASUVORK5CYII=\n",
       "\" style=\"display:inline;vertical-align:middle;\" /></a></td></tr>\n",
       "</table>\n"
      ],
      "text/plain": [
       "0. {C or D , C in BOOLEANS , D in BOOLEANS}\n",
       "   core type: Operation\n",
       "   operator: 1\n",
       "   operands: 2\n",
       "1. Set\n",
       "   core type: Literal\n",
       "   sub-expressions: \n",
       "2. (C or D , C in BOOLEANS , D in BOOLEANS)\n",
       "   core type: ExprTuple\n",
       "   sub-expressions: 3, 4, 5\n",
       "3. C or D\n",
       "   core type: Operation\n",
       "   operator: 6\n",
       "   operands: 7\n",
       "4. C in BOOLEANS\n",
       "   core type: Operation\n",
       "   operator: 9\n",
       "   operands: 8\n",
       "5. D in BOOLEANS\n",
       "   core type: Operation\n",
       "   operator: 9\n",
       "   operands: 10\n",
       "6. or\n",
       "   core type: Literal\n",
       "   sub-expressions: \n",
       "7. (C , D)\n",
       "   core type: ExprTuple\n",
       "   sub-expressions: 11, 12\n",
       "8. (C , BOOLEANS)\n",
       "   core type: ExprTuple\n",
       "   sub-expressions: 11, 13\n",
       "9. in\n",
       "   core type: Literal\n",
       "   sub-expressions: \n",
       "10. (D , BOOLEANS)\n",
       "    core type: ExprTuple\n",
       "    sub-expressions: 12, 13\n",
       "11. C\n",
       "    core type: Variable\n",
       "    sub-expressions: \n",
       "12. D\n",
       "    core type: Variable\n",
       "    sub-expressions: \n",
       "13. BOOLEANS\n",
       "    core type: Literal\n",
       "    sub-expressions: "
      ]
     },
     "execution_count": 4,
     "metadata": {},
     "output_type": "execute_result"
    }
   ],
   "source": [
    "# display the expression information\n",
    "expr.exprInfo()"
   ]
  },
  {
   "cell_type": "code",
   "execution_count": null,
   "metadata": {},
   "outputs": [],
   "source": []
  }
 ],
 "metadata": {
  "kernelspec": {
   "display_name": "Python 3",
   "language": "python",
   "name": "python3"
  }
 },
 "nbformat": 4,
 "nbformat_minor": 0
}
