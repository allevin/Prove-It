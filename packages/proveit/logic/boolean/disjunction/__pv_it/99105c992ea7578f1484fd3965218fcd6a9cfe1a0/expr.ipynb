{
 "cells": [
  {
   "cell_type": "markdown",
   "metadata": {},
   "source": [
    "Expression of type <a class=\"ProveItLink\" href=\"../../../../../../../doc/html/api/proveit.Lambda.html\">Lambda</a>\n",
    "=======================\n",
    "# from context <a class=\"ProveItLink\" href=\"../../_context_.ipynb\">proveit.logic.boolean.disjunction</a>"
   ]
  },
  {
   "cell_type": "code",
   "execution_count": 1,
   "metadata": {},
   "outputs": [],
   "source": [
    "# import Expression classes needed to build the expression\n",
    "from proveit import Lambda\n",
    "from proveit._common_ import B\n",
    "from proveit.logic import Booleans, FALSE, InSet, Or"
   ]
  },
  {
   "cell_type": "code",
   "execution_count": 2,
   "metadata": {},
   "outputs": [
    {
     "data": {
      "text/html": [
       "<strong id=\"expr\">expr:</strong> <a class=\"ProveItLink\" href=\"expr.ipynb\"><img src=\"data:image/png;base64,iVBORw0KGgoAAAANSUhEUgAAAP8AAAAVCAMAAAC+CcgcAAAANlBMVEX///8UFBQNDQ2qqqru7u4i\n",
       "IiJ2dnbc3NyIiIjMzMxmZmYQEBC6uroyMjJERERUVFSYmJgAAAC3B9V0AAAAAXRSTlMAQObYZgAA\n",
       "Ao9JREFUWMPVmGuzozAIht3N3Ugu///PbnrUCpFUWs9MZ/lQHAdffGIgSafpfzblvpR48dR/YmW5\n",
       "HW+XX6EpudbcLIFQL2Tqmzn/dp45vA63UBNUiCapiY/v+GUcvezDYlozVNkAgKb+MRQznSBosNBt\n",
       "mgeu8qTHBNOgrZ3Y+NP3l3F0su0Vq998luB7Tz3Dn0MfzOQpVsI/+WUjP8X3/EKOTrZd1rWRlGol\n",
       "/FFTz/CHtF8ZFNTl0ZE8oz2YZtC/qCpT1kz8mZ/luJRtNzZhg4nGzQ+o5/gn2Fqzwvf7PKgCmwIU\n",
       "PfhQbhtNEs/wcxwC2WmdLg7SM5KWmiJ5Z0s9y79zA16i+jwWPeSS5idqMIWL5/jPHCLZVi7e+9mU\n",
       "I8TQJzIWgUI9y7/N+6MOuDwKT0rHFqoxtUbPxDP8DIdIdisbbfKIX2ckExfqef617+XlXJ5HnuUo\n",
       "aJ3GjcqrdIrn+BkOkexeNr4+R+7vH0MsohVlv6wv+X+GUANXns88oR5NJe6pTo3q4Wwfz/EzHCLZ\n",
       "fbVAbbP7/uQ7Cvnn1jRsOZcnyoN4Qh5+qOamJOFnOCSyYR+uXNWAf8ZVFBX1A34Hncw5D57/RsD/\n",
       "ev5zHBLZfdV0FQb1H8jmNhXqB/xtD1Q8tzofeQqalLm8eNFtopaX/Y/jkMhuZRMi2s7S3TxdQvZV\n",
       "iKxGDH9IRjPlifJgBW2WwYuW2SfJ+sdxXMvOaT00ABTp4c8QP28d8ueXtFvAr8vlIecUB90BZz2o\n",
       "JBOz4uI7/hGHQPZdi4764THxYjfZ72dVBtqoL+KF598r2ffPy3aaROeXC7P+Zvwvnf/fNub8+4Fp\n",
       "uBv/LX6Xqf/Msrsb/y3+57897sb/Xz7cjve3+f8BiPYlSXPbNSIAAAAASUVORK5CYII=\n",
       "\" style=\"display:inline;vertical-align:middle;\" /></a><br>"
      ],
      "text/plain": [
       "expr: B -> ((FALSE or B) in BOOLEANS) | B in BOOLEANS"
      ]
     },
     "execution_count": 2,
     "metadata": {},
     "output_type": "execute_result"
    }
   ],
   "source": [
    "# build up the expression from sub-expressions\n",
    "expr = Lambda(B, InSet(Or(FALSE, B), Booleans), conditions = [InSet(B, Booleans)])"
   ]
  },
  {
   "cell_type": "code",
   "execution_count": 3,
   "metadata": {},
   "outputs": [
    {
     "name": "stdout",
     "output_type": "stream",
     "text": [
      "Passed sanity check: built 'expr' is the same as the stored Expression.\n"
     ]
    }
   ],
   "source": [
    "# check that the built expression is the same as the stored expression\n",
    "%check_expr"
   ]
  },
  {
   "cell_type": "code",
   "execution_count": 4,
   "metadata": {},
   "outputs": [
    {
     "data": {
      "text/html": [
       "<table><tr><th>&nbsp;</th><th>core type</th><th>sub-expressions</th><th>expression</th></tr>\n",
       "<tr><td>0</td><td>Lambda</td><td>parameter:&nbsp;12<br>body:&nbsp;1<br>conditions:&nbsp;2<br></td><td><a class=\"ProveItLink\" href=\"expr.ipynb\"><img src=\"data:image/png;base64,iVBORw0KGgoAAAANSUhEUgAAAP8AAAAVCAMAAAC+CcgcAAAANlBMVEX///8UFBQNDQ2qqqru7u4i\n",
       "IiJ2dnbc3NyIiIjMzMxmZmYQEBC6uroyMjJERERUVFSYmJgAAAC3B9V0AAAAAXRSTlMAQObYZgAA\n",
       "Ao9JREFUWMPVmGuzozAIht3N3Ugu///PbnrUCpFUWs9MZ/lQHAdffGIgSafpfzblvpR48dR/YmW5\n",
       "HW+XX6EpudbcLIFQL2Tqmzn/dp45vA63UBNUiCapiY/v+GUcvezDYlozVNkAgKb+MRQznSBosNBt\n",
       "mgeu8qTHBNOgrZ3Y+NP3l3F0su0Vq998luB7Tz3Dn0MfzOQpVsI/+WUjP8X3/EKOTrZd1rWRlGol\n",
       "/FFTz/CHtF8ZFNTl0ZE8oz2YZtC/qCpT1kz8mZ/luJRtNzZhg4nGzQ+o5/gn2Fqzwvf7PKgCmwIU\n",
       "PfhQbhtNEs/wcxwC2WmdLg7SM5KWmiJ5Z0s9y79zA16i+jwWPeSS5idqMIWL5/jPHCLZVi7e+9mU\n",
       "I8TQJzIWgUI9y7/N+6MOuDwKT0rHFqoxtUbPxDP8DIdIdisbbfKIX2ckExfqef617+XlXJ5HnuUo\n",
       "aJ3GjcqrdIrn+BkOkexeNr4+R+7vH0MsohVlv6wv+X+GUANXns88oR5NJe6pTo3q4Wwfz/EzHCLZ\n",
       "fbVAbbP7/uQ7Cvnn1jRsOZcnyoN4Qh5+qOamJOFnOCSyYR+uXNWAf8ZVFBX1A34Hncw5D57/RsD/\n",
       "ev5zHBLZfdV0FQb1H8jmNhXqB/xtD1Q8tzofeQqalLm8eNFtopaX/Y/jkMhuZRMi2s7S3TxdQvZV\n",
       "iKxGDH9IRjPlifJgBW2WwYuW2SfJ+sdxXMvOaT00ABTp4c8QP28d8ueXtFvAr8vlIecUB90BZz2o\n",
       "JBOz4uI7/hGHQPZdi4764THxYjfZ72dVBtqoL+KF598r2ffPy3aaROeXC7P+Zvwvnf/fNub8+4Fp\n",
       "uBv/LX6Xqf/Msrsb/y3+57897sb/Xz7cjve3+f8BiPYlSXPbNSIAAAAASUVORK5CYII=\n",
       "\" style=\"display:inline;vertical-align:middle;\" /></a></td></tr>\n",
       "<tr><td>1</td><td>Operation</td><td>operator:&nbsp;6<br>operands:&nbsp;3<br></td><td><a class=\"ProveItLink\" href=\"../334b03c9f2842d02e734093baa95d69df81968a20/expr.ipynb\"><img src=\"data:image/png;base64,iVBORw0KGgoAAAANSUhEUgAAAG0AAAAVBAMAAAC+p33JAAAAMFBMVEX////c3NwiIiJERESqqqqY\n",
       "mJh2dnZmZmYQEBDu7u4yMjJUVFTMzMyIiIi6uroAAAAs73DqAAAAAXRSTlMAQObYZgAAAbBJREFU\n",
       "OMtjYCAX8F3AJ8v6AJfMaRDBiKGZdf/v3ZvXMTDUoIlnfV6/QtkByFgJ4vEUQETBpvOAmRwGDAz1\n",
       "Dxi40A00eMu5Mo2BgfcCsr49IOIumHkeKHF+AwNrAoY+hntAwzgmIOs7DCI0wcz7AgwM8QkMnA0Q\n",
       "mbmLlLRg+ly5JzC8YkDWxwVUzAJhWwCxBtBQE4iCpROQ7BNmYChD0QfSA9ILBL8ZGKQsgXQ6mCc8\n",
       "AeFOHlWg+FIUfSA3HoaI/L57XRXE8AJzDRH+e6T/A+j1PlR9wDDZB2bwfmRgmLQByHgB4nEaIIfL\n",
       "XWcGhn+o+pgYOBeAGczA8OD9CgpXcOJoUlJChAszXwK6PnYHtgAwgx9oF+s3mD6eDcj2MTMYMLSg\n",
       "6mNcwARhnAdq5/4Cd6cCuj5TVH0Me2IZ4NEnD3JyFJi7FUUf0J3paPoOQ2IdFH08XRPg8TDpAZK+\n",
       "8MsMDI+AfgL6GehvSJBxQUwo/r979yqwT9dB3L/8ADxdG3UD0zWHAGry45mAyoelM5Zd0PCE5ZcE\n",
       "/NmTDVf2XIlf3yxcEtL49W3EJcGIt5zgPYBdHAAXVXGubFqMHAAAAABJRU5ErkJggg==\n",
       "\" style=\"display:inline;vertical-align:middle;\" /></a></td></tr>\n",
       "<tr><td>2</td><td>ExprTuple</td><td>4</td><td><a class=\"ProveItLink\" href=\"../bc5716cbdf8baf72c53055975f591c5351b6b51c0/expr.ipynb\"><img src=\"data:image/png;base64,iVBORw0KGgoAAAANSUhEUgAAAEQAAAAVBAMAAAAN71XTAAAAMFBMVEX////c3NwiIiJERESqqqqY\n",
       "mJh2dnZmZmYQEBDu7u4yMjJUVFTMzMyIiIi6uroAAAAs73DqAAAAAXRSTlMAQObYZgAAAUpJREFU\n",
       "KM9jYCAC8F3AJ8v6AEicBuLo/7t3Wz1Akcv6vH6FsgMDQw2QvRIk0MzAwP4PVb/BW86VaQwMXAwM\n",
       "vCB7eP4C8W90JQz3gPKsCQwcE4Bc3o9A9jewzNxFSlowJa7cExg4GxhegbjMDQwMTJ0gFs/SCUim\n",
       "CANpE4YyEJd/AwPjYrCc8ASERTyqlkA6nWEpiHt+792iALCEIcItj/R/gNzpxdAH4t4XYODUBjE4\n",
       "DZCde9cZSL9gAHvVAqQMZAxfk5ISwrnMfAlAGyBKQP6NTwC5dgOyKcwMBiAlLSCJr0BivwPIIgUM\n",
       "JS8YTKHBwvgLLLEVRQnIoiignyDBcgIcEQyTHiApCb8M9vQjYOzY/969aylEgnH5AXg0GnWD7F7H\n",
       "wCGAGjUsu6A+ggJgBLAm4E9ObBegiQE3mAXE0viVbAQ5EG/C5D3AAABDX1zcyGO8iwAAAABJRU5E\n",
       "rkJggg==\n",
       "\" style=\"display:inline;vertical-align:middle;\" /></a></td></tr>\n",
       "<tr><td>3</td><td>ExprTuple</td><td>5, 10</td><td><a class=\"ProveItLink\" href=\"../a02c4b4f69966ae1526b097948a90d412168395d0/expr.ipynb\"><img src=\"data:image/png;base64,iVBORw0KGgoAAAANSUhEUgAAAFsAAAAVBAMAAADbSo+2AAAAMFBMVEX////c3NwiIiJERESqqqqY\n",
       "mJh2dnZmZmYQEBDu7u4yMjJUVFTMzMyIiIi6uroAAAAs73DqAAAAAXRSTlMAQObYZgAAAYxJREFU\n",
       "KM+VkztLA0EUhU8em4fJxq21EBaE2G2hoFb5CQHBTk1nJQQEOzEEK0FdLESstrHQQgOxkQQVt7RI\n",
       "CsHGYLSwsPJdGDDemWGXmaghDuzlzMx3L2dn7gD/HKl6r+QsC5csBH7kaGetSvmQy8jR5GdxFIie\n",
       "02SfrSTzAmryCZcxC1jhc4RS9d3tHOAAel3Gqyw0uKzRRq3k4XqT2GkqYsu4y8IIl7cGMJfz8HD2\n",
       "BNgBHiHjfcSEhR6nL2371e/IWyiDJQVnKEuh0QIGJuDhF1OUGcljT8GZEVestBrXw/Bws73OijnY\n",
       "UHH6zVMu9Gdgq+RX16/ITKqALxUPIu4IpEAp7z4O64Gop048molkueinytqHhIc4vqriAScoRI2y\n",
       "Em8qTmbGVBzVGfjHPkS+bMmM5mC+A3fFJbFjT67ZiL8IXFu2+EHek1/TNIumaYmLEomL7UrlgPzE\n",
       "Nw3WYq/pY7bXRMxQOzFpd/S3tE9NoOW6N7km6QWvgXvC+Y0Mdseld5Mwfn1If40b4BsvdmlyuInP\n",
       "dQAAAABJRU5ErkJggg==\n",
       "\" style=\"display:inline;vertical-align:middle;\" /></a></td></tr>\n",
       "<tr><td>4</td><td>Operation</td><td>operator:&nbsp;6<br>operands:&nbsp;7<br></td><td><a class=\"ProveItLink\" href=\"../41a86ef0ff9417c73c472e1bdfa161b308e2753e0/expr.ipynb\"><img src=\"data:image/png;base64,iVBORw0KGgoAAAANSUhEUgAAADcAAAAPBAMAAACy3Eq1AAAAMFBMVEX///+qqqru7u4iIiJ2dnbc\n",
       "3NyIiIjMzMxmZmYQEBC6uroyMjJERERUVFSYmJgAAADLUcuvAAAAAXRSTlMAQObYZgAAAOZJREFU\n",
       "GNNjYGB4+//u3dMLGJCB95/9O20EwMw5DAwcv1AkGQ4sY9rkAmKwfwPiv+iSDFncIAbbVwYGvi9g\n",
       "MbXNxtYwSTleBSCDZwIDA/MksBn7FJB0xoAY/BcYWPeARWMUEMay2x0CMeqvpTU/AAsdRdi52P5n\n",
       "AoiRH8DAZAtiMB1AdlCaDIhxEqQApJVrsrExwkE8XA5ABsgX70EM9gvIOnkYgAax/wNy7oOCg8kA\n",
       "QxLkTdbfYKF7KJIgY0HerNwEFlJegCT5IgcYquf/3r29DyLEuqMAHvCH5wqghigD422oayEAAEv1\n",
       "Sz0foy5uAAAAAElFTkSuQmCC\n",
       "\" style=\"display:inline;vertical-align:middle;\" /></a></td></tr>\n",
       "<tr><td>5</td><td>Operation</td><td>operator:&nbsp;8<br>operands:&nbsp;9<br></td><td><a class=\"ProveItLink\" href=\"../e7175f0237dccb95c9f4c88e15c73008f3cfa0ff0/expr.ipynb\"><img src=\"data:image/png;base64,iVBORw0KGgoAAAANSUhEUgAAADYAAAAPBAMAAABdHiGLAAAAMFBMVEX///+YmJh2dnaqqqoyMjLu\n",
       "7u5UVFS6urpEREQQEBAiIiJmZmbMzMyIiIjc3NwAAAD1oEhMAAAAAXRSTlMAQObYZgAAAMpJREFU\n",
       "GNNjYGBgeMuADsT+p6W1FIBYpyECYDYPhD2DgYH7O5JcDoi4C2by/AXib0hyJ0DEUjCT9x8DA+Mn\n",
       "JDmWBwwMzBvATI4JDAxcU5HkQOIgeSDgT2Dg8whAkgOZdwLCOp97d5cAA7Ic0B3pENb9Bwysy1Dk\n",
       "uBhYHSCsTpC8ALIctwETxCAGkPPlFZDl+By4IAyej0Ai3wBZjiFHlgHuPb4vKPYxnID4HOy9k64M\n",
       "DLtWrVq5atUKiO8hPufu/5aW4ogW/DwBKFwAHZY22B2CyCgAAAAASUVORK5CYII=\n",
       "\" style=\"display:inline;vertical-align:middle;\" /></a></td></tr>\n",
       "<tr><td>6</td><td>Literal</td><td></td><td><a class=\"ProveItLink\" href=\"../../../../set_theory/membership/__pv_it/088cbc857536a28d4119ad9639a84270ccb0545d0/expr.ipynb\"><img src=\"data:image/png;base64,iVBORw0KGgoAAAANSUhEUgAAAAwAAAAMBAMAAACkW0HUAAAALVBMVEX///+qqqpmZmZUVFQQEBC6\n",
       "urpERETc3NyYmJjMzMwiIiIyMjKIiIju7u4AAACYsrA9AAAAAXRSTlMAQObYZgAAADxJREFUCNdj\n",
       "YOA9vWrVBgaG2b0MQMCeCyIZ2ArA1DUwyRCyahVIyWQI7xaEYm4AU7xLIdxqTQgtvGvVBgCkcQ7e\n",
       "geM/tQAAAABJRU5ErkJggg==\n",
       "\" style=\"display:inline;vertical-align:middle;\" /></a></td></tr>\n",
       "<tr><td>7</td><td>ExprTuple</td><td>12, 10</td><td><a class=\"ProveItLink\" href=\"../46fef8cd01e90537d7ca36d1ba2c809996ed4b3a0/expr.ipynb\"><img src=\"data:image/png;base64,iVBORw0KGgoAAAANSUhEUgAAADQAAAAVBAMAAAD7ptBLAAAAMFBMVEX////c3NwiIiJERESqqqqY\n",
       "mJh2dnZmZmYQEBDu7u4yMjJUVFTMzMyIiIi6uroAAAAs73DqAAAAAXRSTlMAQObYZgAAASVJREFU\n",
       "KM9jYMAD+C5gE2V9ACROA3H0/927rR6AxbI+r1+h7MDAUANkrwQJNDMwsP+DqDd4y7kyjYGBi4GB\n",
       "F2Qez18g/g2TYrgHFGdNYOCYAOTyfgSyv8GlXLknMHA2MLwCcZkbGBiYOhG6hIG0CUMZiMu/gYFx\n",
       "8QSYFI+qJZBOZ1gK4p7fe7coAOpsg0f6P0D2ezH0gbj3BRg4tRngBt51BtIvGMBOtgBJB8ClmPkS\n",
       "gCZBpEDujk9ASDEYgKRaQN76CiT2O6BKvWAwhXqL8RcDAyeygVFAN0K8dQIYYPMVIFLhl8GOfwQM\n",
       "Pfvfu3eBPDHjIzh4jbpBZq9j4BBAioqHCCYwoFgTkKQCEEy2C9BIwZSaBcTSCC4vkqqNQMyINQHw\n",
       "HmAAAHCOVkQeB6BvAAAAAElFTkSuQmCC\n",
       "\" style=\"display:inline;vertical-align:middle;\" /></a></td></tr>\n",
       "<tr><td>8</td><td>Literal</td><td></td><td><a class=\"ProveItLink\" href=\"../087d0b4ded7c7e5bf3bba05ecb616d7a8051ff650/expr.ipynb\"><img src=\"data:image/png;base64,iVBORw0KGgoAAAANSUhEUgAAAAwAAAAOBAMAAADpk+DfAAAALVBMVEX///+YmJh2dnZmZmaqqqrc\n",
       "3NwyMjLu7u4iIiJERESIiIhUVFTMzMy6uroAAAD0I/TTAAAAAXRSTlMAQObYZgAAAEtJREFUCNdj\n",
       "uMAABDwMe0DUKoaTIKqdgS2AgYHFAITAzHYGsMQqBoa9QIqDgT0BSDE7MAkAKdYEDpAehj1SYOpk\n",
       "O5hiMwBTPAUMDAB33Atnw8aG2QAAAABJRU5ErkJggg==\n",
       "\" style=\"display:inline;vertical-align:middle;\" /></a></td></tr>\n",
       "<tr><td>9</td><td>ExprTuple</td><td>11, 12</td><td><a class=\"ProveItLink\" href=\"../32fa11e0d460a97a7d19a4fd36e0b53258163d570/expr.ipynb\"><img src=\"data:image/png;base64,iVBORw0KGgoAAAANSUhEUgAAADYAAAAVBAMAAAD/UwB2AAAAMFBMVEX////c3NwiIiJERESqqqqY\n",
       "mJh2dnZmZmYQEBDu7u4yMjJUVFTMzMyIiIi6uroAAAAs73DqAAAAAXRSTlMAQObYZgAAAPtJREFU\n",
       "KM9jYMAH+C5gFWZ9ACROg1iMCAWs+3/v3ryOgaEGyF4JEuApQOjgMGBgqH/AwMXAwHsBXe48UOT8\n",
       "BgbWBAaOCehy9wUYGOITGDgbGF4xoMtZALEGUIcJQxmG3G8GBilLIJ3OsBRdjuf33euqIIYXQx+6\n",
       "HO9HBoZJG4CMFwz/0OWYG4DyX0HuxZTjB+ph/QaWa0GXOx/AwMD9BWymKZLcBJj35BcAGVFAl8Ll\n",
       "OD9BvcfTNQHsh0cMDOxKSkpNSkoGnP1ALcX/d+9eFQBStI6BQwApupDYoDADBikiepAjkO0CNI6w\n",
       "yM0CYmkEFyUFbESNcmTAe4ABAJ4xQRO/+5dLAAAAAElFTkSuQmCC\n",
       "\" style=\"display:inline;vertical-align:middle;\" /></a></td></tr>\n",
       "<tr><td>10</td><td>Literal</td><td></td><td><a class=\"ProveItLink\" href=\"../../../__pv_it/46271c8230be96415d662709611f4ed2279d702b0/expr.ipynb\"><img src=\"data:image/png;base64,iVBORw0KGgoAAAANSUhEUgAAAA0AAAAOBAMAAAAGUYvhAAAAMFBMVEX///9mZmbMzMzc3NxUVFSY\n",
       "mJju7u6IiIi6urqqqqoiIiIQEBBEREQyMjJ2dnYAAAAQvcRZAAAAAXRSTlMAQObYZgAAAElJREFU\n",
       "CNdjePvn/u01ExgYGA60s117B6YZKngh9FSWBAjfBsxnWnoMRHet/10AkS+fA6F5OB5AaIYDqDRU\n",
       "PLCGgQFoz6ktExgAgLIl8DFvGtkAAAAASUVORK5CYII=\n",
       "\" style=\"display:inline;vertical-align:middle;\" /></a></td></tr>\n",
       "<tr><td>11</td><td>Literal</td><td></td><td><a class=\"ProveItLink\" href=\"../../../__pv_it/8f1f7fac882de28c72b62ab80a1700b6d8fd066b0/expr.ipynb\"><img src=\"data:image/png;base64,iVBORw0KGgoAAAANSUhEUgAAAA4AAAAOBAMAAADtZjDiAAAAG1BMVEX///9EREQQEBAiIiJmZmbM\n",
       "zMyIiIjc3NwAAACryk5kAAAAAXRSTlMAQObYZgAAABlJREFUCNdjYGBgKGOAgBBa0s7GxkbGxoYA\n",
       "FMUF2aBfHgoAAAAASUVORK5CYII=\n",
       "\" style=\"display:inline;vertical-align:middle;\" /></a></td></tr>\n",
       "<tr><td>12</td><td>Variable</td><td></td><td><a class=\"ProveItLink\" href=\"../../../../../__pv_it/077b2ff79244fb4582cbe22c6e3356fa92a52f2f0/expr.ipynb\"><img src=\"data:image/png;base64,iVBORw0KGgoAAAANSUhEUgAAABAAAAAOBAMAAADUAYG5AAAAMFBMVEX///+qqqru7u4iIiJ2dnbc\n",
       "3NyIiIjMzMxmZmYQEBC6uroyMjJERERUVFSYmJgAAADLUcuvAAAAAXRSTlMAQObYZgAAAGpJREFU\n",
       "CNdjYGB4+//u3dMLGIBgDgMDxy8gzf4NiP8CGWxfGRj4vgAZPBMYGJgnARn8FxhY9ygAGfXX0pof\n",
       "gDTlBzAw2YIYJ0EckBBI53sHoBH/gIz7AhBjWH9DjancBLTl/N+7t/cxMAAA3u4f/5xagjYAAAAA\n",
       "SUVORK5CYII=\n",
       "\" style=\"display:inline;vertical-align:middle;\" /></a></td></tr>\n",
       "</table>\n"
      ],
      "text/plain": [
       "0. B -> ((FALSE or B) in BOOLEANS) | B in BOOLEANS\n",
       "   core type: Lambda\n",
       "   parameter: 12\n",
       "   body: 1\n",
       "   conditions: 2\\n1. (FALSE or B) in BOOLEANS\n",
       "   core type: Operation\n",
       "   operator: 6\n",
       "   operands: 3\n",
       "2. (B in BOOLEANS)\n",
       "   core type: ExprTuple\n",
       "   sub-expressions: 4\n",
       "3. (FALSE or B , BOOLEANS)\n",
       "   core type: ExprTuple\n",
       "   sub-expressions: 5, 10\n",
       "4. B in BOOLEANS\n",
       "   core type: Operation\n",
       "   operator: 6\n",
       "   operands: 7\n",
       "5. FALSE or B\n",
       "   core type: Operation\n",
       "   operator: 8\n",
       "   operands: 9\n",
       "6. in\n",
       "   core type: Literal\n",
       "   sub-expressions: \n",
       "7. (B , BOOLEANS)\n",
       "   core type: ExprTuple\n",
       "   sub-expressions: 12, 10\n",
       "8. or\n",
       "   core type: Literal\n",
       "   sub-expressions: \n",
       "9. (FALSE , B)\n",
       "   core type: ExprTuple\n",
       "   sub-expressions: 11, 12\n",
       "10. BOOLEANS\n",
       "    core type: Literal\n",
       "    sub-expressions: \n",
       "11. FALSE\n",
       "    core type: Literal\n",
       "    sub-expressions: \n",
       "12. B\n",
       "    core type: Variable\n",
       "    sub-expressions: "
      ]
     },
     "execution_count": 4,
     "metadata": {},
     "output_type": "execute_result"
    }
   ],
   "source": [
    "# display the expression information\n",
    "expr.exprInfo()"
   ]
  },
  {
   "cell_type": "code",
   "execution_count": null,
   "metadata": {},
   "outputs": [],
   "source": []
  }
 ],
 "metadata": {
  "kernelspec": {
   "display_name": "Python 3",
   "language": "python",
   "name": "python3"
  }
 },
 "nbformat": 4,
 "nbformat_minor": 0
}
