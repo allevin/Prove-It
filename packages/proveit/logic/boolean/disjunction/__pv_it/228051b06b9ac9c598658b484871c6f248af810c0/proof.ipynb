{
 "cells": [
  {
   "cell_type": "markdown",
   "metadata": {},
   "source": [
    "Show the Proof\n",
    "========"
   ]
  },
  {
   "cell_type": "code",
   "execution_count": 1,
   "metadata": {},
   "outputs": [
    {
     "data": {
      "text/html": [
       "<table><tr><th>&nbsp;</th><th>step type</th><th>requirements</th><th>statement</th></tr>\n",
       "<tr><td>0</td><td>modus ponens</td><td>1, 2</td><td><span style=\"font-size:20px;\"><a class=\"ProveItLink\" href=\"../5870071301dfccbd597709d549f0932b71f1887b0/expr.ipynb\"><img src=\"data:image/png;base64,iVBORw0KGgoAAAANSUhEUgAAAGsAAAAVBAMAAACzuQ2OAAAAMFBMVEX///9ERETc3NyqqqpUVFS6\n",
       "urrMzMwyMjIQEBCIiIh2dnYiIiLu7u5mZmaYmJgAAABJJ2g3AAAAAXRSTlMAQObYZgAAAXxJREFU\n",
       "OMtjYGDgu8dACmBbpQCieHYxkAbYmkEk5wcoNxuropMidx/ownlgNddBBFcDVKgemy6uPgaG2D44\n",
       "F6xmBbI2vv0H4LI8cEY1UJDrE4wLUYOiTfm+AlwbO8wE9h4gwQpzD1QNirYJ8wPg2lgdoIz7BkCC\n",
       "6QJMHKIGWRvrAfsHCC+thFBM38EuTYCZBlED1sZbABY6ypA/AUTf3g0C+yEW8P5DCR+omvcgdgbE\n",
       "bQEM+heQVJiDRbk/oWiDqmEHEiltkDh0cfEXQFLBUwHSx/8BOVzhasSBTo0Au5yVgYGjAElb+hoQ\n",
       "yQHWZgbzGlQN9wIgwQJWDQwx7gaE33bLgBWy/AGRMMfD1ID9xrUBFGRAIfYPCMtMoM76CVJwAOJM\n",
       "uBpEBBwHYsY/cF1MMPe+N2BgvcTAcH4Dshq4NsX+IgY++e/woGSEJRg2d9/LQOrEJ2Q1KKkEJW+g\n",
       "CwQhc3BqwwAPMLTxkawNnN94dhLWxYnig1ZIJlpMelkCAM7ubTQvBmPpAAAAAElFTkSuQmCC\n",
       "\" style=\"display:inline;vertical-align:middle;\" /></a> <a class=\"ProveItLink\" href=\"proof.ipynb\" style=\"text-decoration: none\">&#x22A2;&nbsp;</a><a class=\"ProveItLink\" href=\"../../../../../__pv_it/985a1bdf1540838275dec15f4ad6de261cca93ce0/expr.ipynb\"><img src=\"data:image/png;base64,iVBORw0KGgoAAAANSUhEUgAAAA8AAAAOBAMAAAACpFvcAAAAMFBMVEX////MzMyqqqoiIiIyMjK6\n",
       "uroQEBB2dnbc3NyYmJhmZmZUVFRERESIiIju7u4AAAB204erAAAAAXRSTlMAQObYZgAAAGZJREFU\n",
       "CNdjYGDgu7NrJccCBgaGsgkMrMsmMDA8sQNy6hsYGNweABlhDAxcn4A0QxcDQ78DiPGQgWH9BAYI\n",
       "sG+AMv6DSaCGfBDNJMDAsB+kmwuI5S8AiTog5gSaEwXWIO29SgFIAQBC+RaDQlidVgAAAABJRU5E\n",
       "rkJggg==\n",
       "\" style=\"display:inline;vertical-align:middle;\" /></a></span></td></tr>\n",
       "<tr><td>1</td><td>assumption</td><td></td><td><span style=\"font-size:20px;\"><a class=\"ProveItLink\" href=\"../de84fccd7730ff90e7b70ccea124bf3f0a35e8bf0/expr.ipynb\"><img src=\"data:image/png;base64,iVBORw0KGgoAAAANSUhEUgAAAFMAAAAVBAMAAADInc9CAAAAMFBMVEX///9ERETc3NyqqqpUVFS6\n",
       "urrMzMwyMjIQEBCIiIh2dnYiIiLu7u5mZmaYmJgAAABJJ2g3AAAAAXRSTlMAQObYZgAAAUJJREFU\n",
       "KM9jYGDgu8dACLCtUgBRPLsYCAO2ZhDJ+QHKzcamhmei7z2mCwwM10EcrgaoaD02pSseMLDeeACk\n",
       "kZXy7T+AMAvGOL4HSKxXQFOqfF8BrpQdpqsCxIhgQFM6YX4AXCmrA4Tm/QwiddGUsh6wf4Bw4koI\n",
       "pV8AIo/BlPKCuQxHGfIngOjbu0Fg/wWw4H247vcgIgNibwCD/gUkn5uDRffDnc8OlExpg4Sxi4u/\n",
       "AHJ4VoDU/gezwX4UB1oQkQB2KgMDRwGS0vQ1ILIfRDCDFHAvABIsYBUGQF4Dwq27ZcAa/EEG8sLd\n",
       "yrUBSDABlbJ/QBhqAqHAPgWbjwis40DM+AeukgnqFj5guMYqoChV7C9i4JP/Dg8CRpjPU0ruGjAw\n",
       "oMcWSprDTDa4lDJgV8pHlFJweuXZSUwuaIV4czFxeQsAPC5XQUSVqZcAAAAASUVORK5CYII=\n",
       "\" style=\"display:inline;vertical-align:middle;\" /></a> <a class=\"ProveItLink\" href=\"../be7b17369be962fc00f4fbceea68f97ced8b2db20/proof.ipynb\" style=\"text-decoration: none\">&#x22A2;&nbsp;</a><a class=\"ProveItLink\" href=\"../666bca2c98a55cab9264db49b27aa7da3ed1ce280/expr.ipynb\"><img src=\"data:image/png;base64,iVBORw0KGgoAAAANSUhEUgAAAD8AAAAPBAMAAAChCwpBAAAAMFBMVEX///92dnYQEBBERERUVFS6\n",
       "urqIiIhmZmaqqqrc3Nzu7u6YmJgyMjIiIiLMzMwAAACFkkdwAAAAAXRSTlMAQObYZgAAAOFJREFU\n",
       "GNNjYACBtwxYAFeyezVnAYR9HpsCoQ0MrEUbwEzu+wsQ+mCMNbeAhPwEMHtG/QS4Ah6Y2kMgRhCE\n",
       "nZAfAFfA6gCh2X+AyOkQsQX9GxBWi0Go+QdA5DoweynD+wQQXXsXBO5DHF6PpCeAYX4Bkut7wPbd\n",
       "RziLz8XF3wDZ/4dAKv6D2WAXszIwMB1AUvBGCkTqgwiOByCygYGBVwHhhrtWYGX+IM3sIBYnUAHP\n",
       "B4QBLRAK7G6wWWuAmPkXXJ4Tahs3MBzCQQ6drH+Sgdv+D9wbzDDXPzlS3oAtivjQ+AD0rD2U4WZv\n",
       "AQAAAABJRU5ErkJggg==\n",
       "\" style=\"display:inline;vertical-align:middle;\" /></a></span></td></tr>\n",
       "<tr><td>2</td><td>assumption</td><td></td><td><span style=\"font-size:20px;\"><a class=\"ProveItLink\" href=\"../2700633c29669936275e69317ebd77c3a6285b9c0/expr.ipynb\"><img src=\"data:image/png;base64,iVBORw0KGgoAAAANSUhEUgAAACIAAAAVBAMAAADRFiHkAAAAMFBMVEX///9ERETc3NyqqqpUVFS6\n",
       "urrMzMwyMjIQEBCIiIh2dnYiIiLu7u5mZmaYmJgAAABJJ2g3AAAAAXRSTlMAQObYZgAAAK1JREFU\n",
       "GNNjYGDgu8cAA1mLQCTPLgYEyDAAEpwfIBy2DUCCtwBIcDVARNg/wDgwkdd/0ESYbD+hiXByfkUT\n",
       "iWH+B+OAjWfgCWD7CaT4QMZnBIBEWBmY/oLoWgaGlDawphQXl48gmrGOgSEiAcQCKmwH0SAPsIDM\n",
       "YQbiHTBzuECuVwbiemTbeUDq5A8gRJgkviswPPxfi+YvMMAhwocsAvYAz07kMAR7gG8xSjgDAMfT\n",
       "LYlEWPTfAAAAAElFTkSuQmCC\n",
       "\" style=\"display:inline;vertical-align:middle;\" /></a> <a class=\"ProveItLink\" href=\"../0cbf4ba18936f5d879bcab1d3c6cf36bbb2fc9690/proof.ipynb\" style=\"text-decoration: none\">&#x22A2;&nbsp;</a><a class=\"ProveItLink\" href=\"../../../../../__pv_it/2cbe72a7ad6f655694dd697106680215e8489b600/expr.ipynb\"><img src=\"data:image/png;base64,iVBORw0KGgoAAAANSUhEUgAAAA8AAAAOBAMAAAACpFvcAAAALVBMVEX///8QEBBERERUVFS6urqI\n",
       "iIhmZmaqqqrc3Nzu7u6YmJgyMjIiIiLMzMwAAADtIaYWAAAAAXRSTlMAQObYZgAAAFtJREFUCNdj\n",
       "YACBOwxQsA9Kc52bAGG05zVAGAFxDmCaZULdAjBjCsO9ADDDgaEvAUTzGhvbKYCVMDAwbgAxChgY\n",
       "eASANAeQwf0AyJgNxEwvGRia5HYwcOm9TgAA6BoR3jrzwFcAAAAASUVORK5CYII=\n",
       "\" style=\"display:inline;vertical-align:middle;\" /></a></span></td></tr>\n",
       "</table>"
      ],
      "text/plain": [
       "<proveit._core_.proof._ShowProof at 0x7f94eae5b6d8>"
      ]
     },
     "execution_count": 1,
     "metadata": {},
     "output_type": "execute_result"
    }
   ],
   "source": [
    "import proveit\n",
    "%show_proof"
   ]
  },
  {
   "cell_type": "code",
   "execution_count": null,
   "metadata": {},
   "outputs": [],
   "source": []
  }
 ],
 "metadata": {
  "kernelspec": {
   "display_name": "Python 3",
   "language": "python",
   "name": "python3"
  }
 },
 "nbformat": 4,
 "nbformat_minor": 0
}
