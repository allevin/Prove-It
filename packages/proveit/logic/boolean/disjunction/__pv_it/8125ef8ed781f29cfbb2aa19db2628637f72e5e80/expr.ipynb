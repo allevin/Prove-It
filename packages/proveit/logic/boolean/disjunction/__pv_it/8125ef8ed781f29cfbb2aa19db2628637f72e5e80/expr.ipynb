{
 "cells": [
  {
   "cell_type": "markdown",
   "metadata": {},
   "source": [
    "Expression of type <a class=\"ProveItLink\" href=\"../../../../../../../doc/html/api/proveit.logic.Set.html\">Set</a>\n",
    "=======================\n",
    "# from context <a class=\"ProveItLink\" href=\"../../_context_.ipynb\">proveit.logic.boolean.disjunction</a>"
   ]
  },
  {
   "cell_type": "code",
   "execution_count": 1,
   "metadata": {},
   "outputs": [],
   "source": [
    "# import Expression classes needed to build the expression\n",
    "from proveit._common_ import K\n",
    "from proveit.logic import Booleans, InSet, Set"
   ]
  },
  {
   "cell_type": "code",
   "execution_count": 2,
   "metadata": {},
   "outputs": [
    {
     "data": {
      "text/html": [
       "<strong id=\"expr\">expr:</strong> <a class=\"ProveItLink\" href=\"expr.ipynb\"><img src=\"data:image/png;base64,iVBORw0KGgoAAAANSUhEUgAAAE0AAAAVBAMAAADx+n4ZAAAAMFBMVEX////c3NxERESqqqpUVFS6\n",
       "urrMzMwyMjIQEBCIiIh2dnYiIiLu7u5mZmaYmJgAAABXZE4RAAAAAXRSTlMAQObYZgAAAUVJREFU\n",
       "KM9jYGDgu8eAF7CtEgBRPLsYCAC2ZhDJ+QFETvmvcoDB/1MCsvzyT/UVmwyAjOsgHlcDWPA7EJsc\n",
       "QDVIIZKnZhWQXoFQx/oL6FADBnR1DFPZUdVxfWXgWQiVPlm9eztMnR3LARR17B8YsmDOrjuAZJ4Q\n",
       "qnn8BXwXoLJCBxD2su3TganjLQCR8QvWb4DKKiLcF73/xwQg/R7EyQgAketn8X6GSPIoIPtjphHI\n",
       "UUCrUtrAQvUPGL9DJFm7d+9G+IOJdQGQof6AgSEiARp8+pBAZnNANo+JAWg8N0gtSwE0+OIhCng2\n",
       "YKgDu48LJM71DajrD0TWD0UdyF5EuACDj4HzF0T2dACSureTkMPvrP6XCQyr/zuCZRlrE+DpQLvF\n",
       "ADWckQGzO9S/MIBDHQYAq+MjrA6c/nh2EkzPrWCKbzER+QMAWMpfNygBwq8AAAAASUVORK5CYII=\n",
       "\" style=\"display:inline;vertical-align:middle;\" /></a><br>"
      ],
      "text/plain": [
       "expr: {K in BOOLEANS}"
      ]
     },
     "execution_count": 2,
     "metadata": {},
     "output_type": "execute_result"
    }
   ],
   "source": [
    "# build up the expression from sub-expressions\n",
    "expr = Set(InSet(K, Booleans))"
   ]
  },
  {
   "cell_type": "code",
   "execution_count": 3,
   "metadata": {},
   "outputs": [
    {
     "name": "stdout",
     "output_type": "stream",
     "text": [
      "Passed sanity check: built 'expr' is the same as the stored Expression.\n"
     ]
    }
   ],
   "source": [
    "# check that the built expression is the same as the stored expression\n",
    "%check_expr"
   ]
  },
  {
   "cell_type": "code",
   "execution_count": 4,
   "metadata": {},
   "outputs": [
    {
     "data": {
      "text/html": [
       "<table><tr><th>&nbsp;</th><th>core type</th><th>sub-expressions</th><th>expression</th></tr>\n",
       "<tr><td>0</td><td>Operation</td><td>operator:&nbsp;1<br>operands:&nbsp;2<br></td><td><a class=\"ProveItLink\" href=\"expr.ipynb\"><img src=\"data:image/png;base64,iVBORw0KGgoAAAANSUhEUgAAAE0AAAAVBAMAAADx+n4ZAAAAMFBMVEX////c3NxERESqqqpUVFS6\n",
       "urrMzMwyMjIQEBCIiIh2dnYiIiLu7u5mZmaYmJgAAABXZE4RAAAAAXRSTlMAQObYZgAAAUVJREFU\n",
       "KM9jYGDgu8eAF7CtEgBRPLsYCAC2ZhDJ+QFETvmvcoDB/1MCsvzyT/UVmwyAjOsgHlcDWPA7EJsc\n",
       "QDVIIZKnZhWQXoFQx/oL6FADBnR1DFPZUdVxfWXgWQiVPlm9eztMnR3LARR17B8YsmDOrjuAZJ4Q\n",
       "qnn8BXwXoLJCBxD2su3TganjLQCR8QvWb4DKKiLcF73/xwQg/R7EyQgAketn8X6GSPIoIPtjphHI\n",
       "UUCrUtrAQvUPGL9DJFm7d+9G+IOJdQGQof6AgSEiARp8+pBAZnNANo+JAWg8N0gtSwE0+OIhCng2\n",
       "YKgDu48LJM71DajrD0TWD0UdyF5EuACDj4HzF0T2dACSureTkMPvrP6XCQyr/zuCZRlrE+DpQLvF\n",
       "ADWckQGzO9S/MIBDHQYAq+MjrA6c/nh2EkzPrWCKbzER+QMAWMpfNygBwq8AAAAASUVORK5CYII=\n",
       "\" style=\"display:inline;vertical-align:middle;\" /></a></td></tr>\n",
       "<tr><td>1</td><td>Literal</td><td></td><td><a class=\"ProveItLink\" href=\"../../../../set_theory/enumeration/__pv_it/07381ed5b23806e8d7914b78cb6667769e3708dd0/expr.ipynb\"><img src=\"data:image/png;base64,iVBORw0KGgoAAAANSUhEUgAAAB4AAAAOBAMAAADKyLEKAAAAMFBMVEX///8iIiIQEBCIiIjMzMzc\n",
       "3Nyqqqp2dnZEREQyMjK6urru7u5mZmZUVFSYmJgAAACI6eGPAAAAAXRSTlMAQObYZgAAALRJREFU\n",
       "CNdjYGDgu3Nm3wIGBJjHwN0PZW5yYGDgLWBgyITy8zcwMMQDxZyh/INAvD6BgcEFypcB4vjPDiBm\n",
       "TPFRrhs/LjMwMP//38rAwCbKEMPA9gEkE3fp0waG+AUMRxh4JkC01T9guPTOOICBEWgVH5C//wHD\n",
       "H5D4fqCz9oCMDGD4DLaegRXslLMMDMpAgxlOMmQxHDRgYG5gYLBk4D7KcIe7gOHC2rt9QCXsh40Z\n",
       "GCKMGQDRkC8N/Ph1XAAAAABJRU5ErkJggg==\n",
       "\" style=\"display:inline;vertical-align:middle;\" /></a></td></tr>\n",
       "<tr><td>2</td><td>ExprTuple</td><td>3</td><td><a class=\"ProveItLink\" href=\"../6dff8ddd83565d7fead8cd8b8005752429108b390/expr.ipynb\"><img src=\"data:image/png;base64,iVBORw0KGgoAAAANSUhEUgAAAEcAAAAVBAMAAADm2O7QAAAAMFBMVEX////c3NwiIiJERESqqqqY\n",
       "mJh2dnZmZmYQEBDu7u4yMjJUVFTMzMyIiIi6uroAAAAs73DqAAAAAXRSTlMAQObYZgAAAVRJREFU\n",
       "KM9jYCAK8F3ALx8HIk4DMe/+zzsZuP/bIEuyrbf61WTCwMB+AMhZCRLhX8DAwLIT1QhmvguzpiUw\n",
       "MACleMG2vQdyQhgwFPE+AKoIY2DgmAASyH/AME0AIsd5S0lpAVQRSwDQ9BkMDK/AMusZeBKgBpyK\n",
       "RDLpoQGQdmAoAwv8YgiHSjFaIll3KBhoD1sBw1JwMHxj+wSTEkAoUvrfC6RZFjD0gb37N6HeASI1\n",
       "GcXhV4DW8TUw/APxub4yyC+ASL1QUkI4nMHgGQMDzweIImAwMf+BKDqNbBKDATNYUQs0mPh+Q6Qm\n",
       "YSgCWmcKDiZg0OuDA4yBOwBFEdA61gUM6ZBgYmC4DwkoTj0kRay1BuAgeAQUL/6/l4FN/zfE81I1\n",
       "8Aj+rLEF5KsHDBwC6GnDe5HSAmQ+MFpYEwgluFxYUsEDOEHGShNQxA1yDyOB5HuHgQEAPc5atDTp\n",
       "aLkAAAAASUVORK5CYII=\n",
       "\" style=\"display:inline;vertical-align:middle;\" /></a></td></tr>\n",
       "<tr><td>3</td><td>Operation</td><td>operator:&nbsp;4<br>operands:&nbsp;5<br></td><td><a class=\"ProveItLink\" href=\"../dd72d89ce9199b2aa1574691508e7c8746269f280/expr.ipynb\"><img src=\"data:image/png;base64,iVBORw0KGgoAAAANSUhEUgAAADkAAAAPBAMAAACsFXoGAAAAMFBMVEX///8QEBAiIiJmZmbc3NyY\n",
       "mJh2dna6urqqqqoyMjLMzMzu7u5ERERUVFSIiIgAAACn3CmNAAAAAXRSTlMAQObYZgAAAOVJREFU\n",
       "GNNjYGB4+//sBob7fxYwIIHMP/Mn6jSAmT+BuHcDAwo4UMc9Ow3EYP/GwMDawIAuy/CcE8Rg+87A\n",
       "nQIV3DdJSRMm28oLMo/zA8MyqCTX1A1Ien1ADP4JrAZQMZ8NCJO5VE+DGPUJ+QpQsSMIe4v0Pz4A\n",
       "MfKfMf+ACHEfQHbVux4QY34Ay0+IELuQkhLCVTzsCRDvnocEBdcFZL08DAcg3q2HCHMrYMiy/WJg\n",
       "YPoNEbuKIgsyGehdBr5vELFNBUiywW8YGDaf//uAIen/FbAYy+QF8Fg4JIseugwcN6FuhgAAWvdP\n",
       "Bp3jo+EAAAAASUVORK5CYII=\n",
       "\" style=\"display:inline;vertical-align:middle;\" /></a></td></tr>\n",
       "<tr><td>4</td><td>Literal</td><td></td><td><a class=\"ProveItLink\" href=\"../../../../set_theory/membership/__pv_it/088cbc857536a28d4119ad9639a84270ccb0545d0/expr.ipynb\"><img src=\"data:image/png;base64,iVBORw0KGgoAAAANSUhEUgAAAAwAAAAMBAMAAACkW0HUAAAALVBMVEX///+qqqpmZmZUVFQQEBC6\n",
       "urpERETc3NyYmJjMzMwiIiIyMjKIiIju7u4AAACYsrA9AAAAAXRSTlMAQObYZgAAADxJREFUCNdj\n",
       "YOA9vWrVBgaG2b0MQMCeCyIZ2ArA1DUwyRCyahVIyWQI7xaEYm4AU7xLIdxqTQgtvGvVBgCkcQ7e\n",
       "geM/tQAAAABJRU5ErkJggg==\n",
       "\" style=\"display:inline;vertical-align:middle;\" /></a></td></tr>\n",
       "<tr><td>5</td><td>ExprTuple</td><td>6, 7</td><td><a class=\"ProveItLink\" href=\"../9f1cdbc81285498818f71e4996147432062a62ce0/expr.ipynb\"><img src=\"data:image/png;base64,iVBORw0KGgoAAAANSUhEUgAAADUAAAAVBAMAAAAUZLt1AAAAMFBMVEX////c3NwiIiJERESqqqqY\n",
       "mJh2dnZmZmYQEBDu7u4yMjJUVFTMzMyIiIi6uroAAAAs73DqAAAAAXRSTlMAQObYZgAAATBJREFU\n",
       "KM9jYMAH+C5gFY4DEaeB+PZ/6wkM+z8fADLZ1lv9ajJhYGAHcVaCFPwCYu8JYA3MfBdmTUtgYFjA\n",
       "wMALMpLvGwMDqwMDTI73AVAijIGBA6Sa7R8DZyIDXI4lYCcDwwwGhlcgPtcHhmMMCDnehwZA2oGh\n",
       "DMTnX8BagCR3KBhoGFsBw1IQ/31CvgJCTul/L5BmWcDQB+LnX2P/gmzmFaCZfA0M/0D89QGMv5Dk\n",
       "GAyeMTDwfIDIASXsDyDLMYPlWqDee78BTQ5opinIe38YGJh+AhkTkMxkXcCQDvEeAy9QL+cniBxr\n",
       "rQHYD48YGKbb/77AkPR/IwNnvwAorD9rbAFpeMDAIYAcX0gcYJixJiDJsSKxc2FxhCnHCYwKBmkk\n",
       "OaQkwA0ynhF7mrjDwAAAn+dXVX+7xAgAAAAASUVORK5CYII=\n",
       "\" style=\"display:inline;vertical-align:middle;\" /></a></td></tr>\n",
       "<tr><td>6</td><td>Variable</td><td></td><td><a class=\"ProveItLink\" href=\"../../../../../__pv_it/3fb1092d10295c809ebd5134eaa882b76222b6190/expr.ipynb\"><img src=\"data:image/png;base64,iVBORw0KGgoAAAANSUhEUgAAABMAAAAOBAMAAAA/Njq6AAAALVBMVEX///8iIiJmZmbc3NyYmJh2\n",
       "dna6urqqqqoyMjLMzMzu7u5ERERUVFSIiIgAAAAU/m/NAAAAAXRSTlMAQObYZgAAAG5JREFUCNdj\n",
       "YGC4827PAoZzrycwAMELIK5ZAGKxPWVgYCkAsRhYnzFwBYNZDBwPGKZCWAx8DSwKUGZeQJwAlBl3\n",
       "lek5lNnnwPwCygTS+8Dmg43NOwAx9iUDA+MrmLEMvE9BrEX73lxgCHx3mIEBAPGUHmvA0AqBAAAA\n",
       "AElFTkSuQmCC\n",
       "\" style=\"display:inline;vertical-align:middle;\" /></a></td></tr>\n",
       "<tr><td>7</td><td>Literal</td><td></td><td><a class=\"ProveItLink\" href=\"../../../__pv_it/46271c8230be96415d662709611f4ed2279d702b0/expr.ipynb\"><img src=\"data:image/png;base64,iVBORw0KGgoAAAANSUhEUgAAAA0AAAAOBAMAAAAGUYvhAAAAMFBMVEX///9mZmbMzMzc3NxUVFSY\n",
       "mJju7u6IiIi6urqqqqoiIiIQEBBEREQyMjJ2dnYAAAAQvcRZAAAAAXRSTlMAQObYZgAAAElJREFU\n",
       "CNdjePvn/u01ExgYGA60s117B6YZKngh9FSWBAjfBsxnWnoMRHet/10AkS+fA6F5OB5AaIYDqDRU\n",
       "PLCGgQFoz6ktExgAgLIl8DFvGtkAAAAASUVORK5CYII=\n",
       "\" style=\"display:inline;vertical-align:middle;\" /></a></td></tr>\n",
       "</table>\n"
      ],
      "text/plain": [
       "0. {K in BOOLEANS}\n",
       "   core type: Operation\n",
       "   operator: 1\n",
       "   operands: 2\n",
       "1. Set\n",
       "   core type: Literal\n",
       "   sub-expressions: \n",
       "2. (K in BOOLEANS)\n",
       "   core type: ExprTuple\n",
       "   sub-expressions: 3\n",
       "3. K in BOOLEANS\n",
       "   core type: Operation\n",
       "   operator: 4\n",
       "   operands: 5\n",
       "4. in\n",
       "   core type: Literal\n",
       "   sub-expressions: \n",
       "5. (K , BOOLEANS)\n",
       "   core type: ExprTuple\n",
       "   sub-expressions: 6, 7\n",
       "6. K\n",
       "   core type: Variable\n",
       "   sub-expressions: \n",
       "7. BOOLEANS\n",
       "   core type: Literal\n",
       "   sub-expressions: "
      ]
     },
     "execution_count": 4,
     "metadata": {},
     "output_type": "execute_result"
    }
   ],
   "source": [
    "# display the expression information\n",
    "expr.exprInfo()"
   ]
  },
  {
   "cell_type": "code",
   "execution_count": null,
   "metadata": {},
   "outputs": [],
   "source": []
  }
 ],
 "metadata": {
  "kernelspec": {
   "display_name": "Python 3",
   "language": "python",
   "name": "python3"
  }
 },
 "nbformat": 4,
 "nbformat_minor": 0
}
