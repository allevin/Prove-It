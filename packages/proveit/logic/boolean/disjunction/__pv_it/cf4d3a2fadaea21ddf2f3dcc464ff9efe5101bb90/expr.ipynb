{
 "cells": [
  {
   "cell_type": "markdown",
   "metadata": {},
   "source": [
    "Expression of type <a class=\"ProveItLink\" href=\"../../../../../../../doc/html/api/proveit.logic.Equals.html\">Equals</a>\n",
    "=======================\n",
    "# from context <a class=\"ProveItLink\" href=\"../../_context_.ipynb\">proveit.logic.boolean.disjunction</a>"
   ]
  },
  {
   "cell_type": "code",
   "execution_count": 1,
   "metadata": {},
   "outputs": [],
   "source": [
    "# import Expression classes needed to build the expression\n",
    "from proveit._common_ import A, B, C, D\n",
    "from proveit.logic import Equals, Or"
   ]
  },
  {
   "cell_type": "code",
   "execution_count": 2,
   "metadata": {},
   "outputs": [
    {
     "data": {
      "text/html": [
       "<strong id=\"expr\">expr:</strong> <a class=\"ProveItLink\" href=\"expr.ipynb\"><img src=\"data:image/png;base64,iVBORw0KGgoAAAANSUhEUgAAAUcAAAAVBAMAAAAnVjEQAAAAMFBMVEX////c3NwiIiJERESqqqqY\n",
       "mJh2dnZmZmYQEBDu7u4yMjJUVFTMzMyIiIi6uroAAAAs73DqAAAAAXRSTlMAQObYZgAAA/5JREFU\n",
       "SMfVlk1IVFEUx898f71xBhICWyhBkLQoIskscHZCBA4FLYrSTVSLyMqyRTCBBdWiHm0KqRgTMQ3K\n",
       "aCE41kgS9LEYoUWLkhnaWK2S1HAs7Zxz73yc9wyipkUX3p15v3vfeeee+z/nXYD/olVNVsKKJ/ev\n",
       "LB+k7rX6/8z61vRi6vEDCwy8GTnt6BDo3XIq1TcOcM5uni3f3t4VX20dMeosYD9aaZLrDKMDozsA\n",
       "fGgcBhV7yGvnv+Pc+zcBJHKSHYlD1dm4ZHkA9yxA0O4kWfZeBJjGC9gDQ48Ev4AFdaM3S5JFkgCt\n",
       "MQD8Cas98Ww0sQ/RezXJ4E9mWLCeeuyORwUz5rFLmOBpt/pI44G7aNY7g3djhKb00O4FkMj4gdei\n",
       "ZBm06MOJezFgJpPqRJTmYvTAqUgWQVu7YPeo/yjnhZfUggLnrU6S5eBl2h8amiBUr0YcLeR2OQoj\n",
       "8MxLls0p528CfFbPTWY50L14tSjSiNd6s5z5ZqlfLee5aOdqMeJbrE6S5USMfCIVB3HNbi3nMK+s\n",
       "HLlwHc7LkjXToxhdVwzOqEQ0W+OgX9yrLOFwzTbBapPU35LzIhRUksVhq5No2ZHndCNx0JvJA2qf\n",
       "3HMgUWQYHH2mZF9BScDbAf0M7rAEeQt5K2l46u06ECwRLzpQmsfPkSx2crCHuA3Tf7Tsmyv5XK/3\n",
       "Ep3O0S4KlHkydTIuGc8hCbiTcBVUotV2aLGHckWVXB8WbGO0PCn0vCyFKZ1TWhUNLTtnSreYDU91\n",
       "/QTHNwvCBAhskCz8nTJ5iSXN6jBSqbQKTB30QFEl4TnBlrk35TxSDlyiYFidRMsRLjUBFXwIJHX9\n",
       "TKW+WhAlQDYuGIvdj14YX5STWPf8aqgTDkFBJSrfSuwaC2lczqPXeeZ+4aSfndzFt76YV8sFw37F\n",
       "gha1ZsoYi70tzk5eIIA56FQlpAb0xyCDw6FZwdIURB8Ixsqhuq+227eWG+8KWg5xPVTJ6kg61aNu\n",
       "KhsSGbTKdEwwFnu3qmANNBArfAQg9HyyqBKdzkXGjx0FwVg5TeT9PmskG/QSvEogMHZA/VYXvm8l\n",
       "RAmgKkGJkdhd9NHyJLlykLxcC2pNm82iSowrpmAeDOy0Tp4CI+W84lDZShCBthhUndD3E6pGs+Sa\n",
       "zXLECfBiUEwjsRsD9AdL0AeAVdd6wdOcV7syoKacwi/+UKHkDBRODPe7YiDYjWY8hqizhfUwQpbB\n",
       "GB3pLNwH+QWOxnwU9iwPlCHwoZXRfjEtQA5sZf0Hc+CPStMvVzgt/Q5b4bNosWyYNiMrIDvDz6L9\n",
       "YPBnzWs7PFbK8rHSUe1vW8/KR7W/b6zhNZVx8pEdVcZyiFTjqMghPzxuZ5Wx/B7gJ2QMS5/pW3w5\n",
       "AAAAAElFTkSuQmCC\n",
       "\" style=\"display:inline;vertical-align:middle;\" /></a><br>"
      ],
      "text/plain": [
       "expr: (A or B or C or D) = (C or A or B or D)"
      ]
     },
     "execution_count": 2,
     "metadata": {},
     "output_type": "execute_result"
    }
   ],
   "source": [
    "# build up the expression from sub-expressions\n",
    "expr = Equals(Or(A, B, C, D), Or(C, A, B, D))"
   ]
  },
  {
   "cell_type": "code",
   "execution_count": 3,
   "metadata": {},
   "outputs": [
    {
     "name": "stdout",
     "output_type": "stream",
     "text": [
      "Passed sanity check: built 'expr' is the same as the stored Expression.\n"
     ]
    }
   ],
   "source": [
    "# check that the built expression is the same as the stored expression\n",
    "%check_expr"
   ]
  },
  {
   "cell_type": "code",
   "execution_count": 4,
   "metadata": {},
   "outputs": [
    {
     "data": {
      "text/html": [
       "<table><tr><th>&nbsp;</th><th>core type</th><th>sub-expressions</th><th>expression</th></tr>\n",
       "<tr><td>0</td><td>Operation</td><td>operator:&nbsp;1<br>operands:&nbsp;2<br></td><td><a class=\"ProveItLink\" href=\"expr.ipynb\"><img src=\"data:image/png;base64,iVBORw0KGgoAAAANSUhEUgAAAUcAAAAVBAMAAAAnVjEQAAAAMFBMVEX////c3NwiIiJERESqqqqY\n",
       "mJh2dnZmZmYQEBDu7u4yMjJUVFTMzMyIiIi6uroAAAAs73DqAAAAAXRSTlMAQObYZgAAA/5JREFU\n",
       "SMfVlk1IVFEUx898f71xBhICWyhBkLQoIskscHZCBA4FLYrSTVSLyMqyRTCBBdWiHm0KqRgTMQ3K\n",
       "aCE41kgS9LEYoUWLkhnaWK2S1HAs7Zxz73yc9wyipkUX3p15v3vfeeee+z/nXYD/olVNVsKKJ/ev\n",
       "LB+k7rX6/8z61vRi6vEDCwy8GTnt6BDo3XIq1TcOcM5uni3f3t4VX20dMeosYD9aaZLrDKMDozsA\n",
       "fGgcBhV7yGvnv+Pc+zcBJHKSHYlD1dm4ZHkA9yxA0O4kWfZeBJjGC9gDQ48Ev4AFdaM3S5JFkgCt\n",
       "MQD8Cas98Ww0sQ/RezXJ4E9mWLCeeuyORwUz5rFLmOBpt/pI44G7aNY7g3djhKb00O4FkMj4gdei\n",
       "ZBm06MOJezFgJpPqRJTmYvTAqUgWQVu7YPeo/yjnhZfUggLnrU6S5eBl2h8amiBUr0YcLeR2OQoj\n",
       "8MxLls0p528CfFbPTWY50L14tSjSiNd6s5z5ZqlfLee5aOdqMeJbrE6S5USMfCIVB3HNbi3nMK+s\n",
       "HLlwHc7LkjXToxhdVwzOqEQ0W+OgX9yrLOFwzTbBapPU35LzIhRUksVhq5No2ZHndCNx0JvJA2qf\n",
       "3HMgUWQYHH2mZF9BScDbAf0M7rAEeQt5K2l46u06ECwRLzpQmsfPkSx2crCHuA3Tf7Tsmyv5XK/3\n",
       "Ep3O0S4KlHkydTIuGc8hCbiTcBVUotV2aLGHckWVXB8WbGO0PCn0vCyFKZ1TWhUNLTtnSreYDU91\n",
       "/QTHNwvCBAhskCz8nTJ5iSXN6jBSqbQKTB30QFEl4TnBlrk35TxSDlyiYFidRMsRLjUBFXwIJHX9\n",
       "TKW+WhAlQDYuGIvdj14YX5STWPf8aqgTDkFBJSrfSuwaC2lczqPXeeZ+4aSfndzFt76YV8sFw37F\n",
       "gha1ZsoYi70tzk5eIIA56FQlpAb0xyCDw6FZwdIURB8Ixsqhuq+227eWG+8KWg5xPVTJ6kg61aNu\n",
       "KhsSGbTKdEwwFnu3qmANNBArfAQg9HyyqBKdzkXGjx0FwVg5TeT9PmskG/QSvEogMHZA/VYXvm8l\n",
       "RAmgKkGJkdhd9NHyJLlykLxcC2pNm82iSowrpmAeDOy0Tp4CI+W84lDZShCBthhUndD3E6pGs+Sa\n",
       "zXLECfBiUEwjsRsD9AdL0AeAVdd6wdOcV7syoKacwi/+UKHkDBRODPe7YiDYjWY8hqizhfUwQpbB\n",
       "GB3pLNwH+QWOxnwU9iwPlCHwoZXRfjEtQA5sZf0Hc+CPStMvVzgt/Q5b4bNosWyYNiMrIDvDz6L9\n",
       "YPBnzWs7PFbK8rHSUe1vW8/KR7W/b6zhNZVx8pEdVcZyiFTjqMghPzxuZ5Wx/B7gJ2QMS5/pW3w5\n",
       "AAAAAElFTkSuQmCC\n",
       "\" style=\"display:inline;vertical-align:middle;\" /></a></td></tr>\n",
       "<tr><td>1</td><td>Literal</td><td></td><td><a class=\"ProveItLink\" href=\"../../../../equality/__pv_it/2fb26078095930560931daa0500ce419a39ea6cd0/expr.ipynb\"><img src=\"data:image/png;base64,iVBORw0KGgoAAAANSUhEUgAAAA4AAAAFBAMAAACHocAhAAAAFVBMVEX///9EREQiIiJUVFQyMjJm\n",
       "ZmYAAADubVkoAAAAAXRSTlMAQObYZgAAABRJREFUCNdjCHEBAWcGXCBICQQUAUpuAwlgGKrkAAAA\n",
       "AElFTkSuQmCC\n",
       "\" style=\"display:inline;vertical-align:middle;\" /></a></td></tr>\n",
       "<tr><td>2</td><td>ExprTuple</td><td>3, 4</td><td><a class=\"ProveItLink\" href=\"../42944911174aa10b76dcfa56693477038c57584c0/expr.ipynb\"><img src=\"data:image/png;base64,iVBORw0KGgoAAAANSUhEUgAAASUAAAAVBAMAAADyROVdAAAAMFBMVEX////c3NwiIiJERESqqqqY\n",
       "mJh2dnZmZmYQEBDu7u4yMjJUVFTMzMyIiIi6uroAAAAs73DqAAAAAXRSTlMAQObYZgAAAy5JREFU\n",
       "SMfNVktoE1EUPUkzzW/SBiwIddFuBLuqCGIVIdl12aDgTtuNqAux4HchpKAL6cIObpQikiJSP6AB\n",
       "F4IjRiwutIsEXLjQ0uDGz6raVulH6/1Mkk6cdrrIIgN58+bcO2de7j33vgc049VWaqrlHONhWuev\n",
       "62xGYcV++rgOjL5/dj4w7II+rtn23VebONBldvtzJwh7fhAIM9cDxZ7IWBYKmUZ2A9myGzuZQdul\n",
       "DMVWnnQly0BoocLs5QDE5rbA3Z4DBtIA3RKaOqPX4tsLHmYEKZKhmHdh4z00nEkCcf6avmn+oiFr\n",
       "6ce9HOg6tOTPjeIQBYkcj9CSla4jm+TbFA89gswSMDjkwu6z71deCP1PBOXNxF/nGxs5AIH+H/7c\n",
       "mKWYmX+AW8B3fa80K2GMkXNI9dBHv13WeiwsKdrOwwT9+sWthfPSlZe5pwMtW9a9OTeQ4tWvEGEa\n",
       "F7T4rIEM39kek4iBzJ37XVhXjh9vw/nchMqAI1LUNXk6AN9Ci77cwDyHlwytw7gnwJ1K+HuceJJ5\n",
       "5sNOuLBsplollBZJj5M2ycMGDoiWOSU+3JI2GCTOUA7XnXrr0giS3l5qwEkDN/IurDdZq9wS4mWV\n",
       "Aau5oHNPB6rBwG9fbiRWaYhTkttGIKk2bbug/yqIaE51MkJ+iy5sTZ5UuN0YR1UGuKZzTwdM2/a8\n",
       "L7fqMkIGc07XRO0koqZwulUT0J7XUK7DxkQB2nTO4TiqMjCU39uBe9CoL7fqcjAja7rKALWq4IjW\n",
       "bS6oTEUyxxdcWIEjEFZzJ7prMog4yvFyQIhrzJdbdXkFkru9bEhXei11saOothCtoyomr51SKP6m\n",
       "VJPBAUsz5uWAjuomsRm36LKF9xQjhxPcfjmfS2qb0g7GLcQctVyYQX/tiyNjc49VlcE7Ko/ozw0c\n",
       "RC4py4+bdWlO8oR6wWdg29gEjNSyFl5Mb2dpa31YKW0Hw/Sji+lKYcn7uJmi3fQyf3os6ekQ6FtO\n",
       "4vDapA93lLF9osRYGZFk3R5u/X9+8MLe1h95kj4OW+WmvcUYasy5x2jUAep07azSLGsS/e1oDFej\n",
       "Tqtx1kCguc6+n4B/1I4xgceqRLYAAAAASUVORK5CYII=\n",
       "\" style=\"display:inline;vertical-align:middle;\" /></a></td></tr>\n",
       "<tr><td>3</td><td>Operation</td><td>operator:&nbsp;6<br>operands:&nbsp;5<br></td><td><a class=\"ProveItLink\" href=\"../342f44533fb807d4878ee35ed73a6dd435e8ed210/expr.ipynb\"><img src=\"data:image/png;base64,iVBORw0KGgoAAAANSUhEUgAAAIcAAAAPBAMAAAA8KsGMAAAAMFBMVEX///92dnYQEBBERERUVFS6\n",
       "urqIiIhmZmaqqqrc3Nzu7u6YmJgyMjIiIiLMzMwAAACFkkdwAAAAAXRSTlMAQObYZgAAAehJREFU\n",
       "OMuNUz0sQ1EUPm2fVv9e7RYxIiFiEtImnlhEu1k7SI1tYsCi3WxIDAySvgULSSerJiLShBBjDSQ2\n",
       "P2kbJVUNzs9V95nc5J5373e/d853zj0XgMYzOEcwXrcmTv+AeyOLhS0nNPdlWSd3anNJpoOXArmH\n",
       "ALIJB+bqB5jFCQnamfJjC6CzoQLf2mgN4nqTjFTwU4npWOACOa53XM0QIcU0s4Yma/N6O7tBCEaH\n",
       "sCBpBI67dCzUR2J70NwTocw076sKiCOZZoklnKuibRjnta1j2Rwaf4bcYYDODNM8VTT5GBfDXi+A\n",
       "IpfESR1gZ1TH/C3aBSg7ckCOcERIaIWd7CpFKJvlYxb11PwN6Jjv4/dOyiollQmlTeXOszosoJGQ\n",
       "XLGAhzEdC7//OsGiTsoqTcridG5aVlwEXMGBHHqwgN4PHYtUOR1RB4Gi8KJkelV/uAVcgm45jKCK\n",
       "YE3H3OxkjSFfzlUQ3gv1BwfDsod7GNvBuJIrkoyGjhlNsnIn/mJYaOab6kvwo5MQxwHjMQntNskX\n",
       "dYz5LmkimDmSr/cTzRiBlLKnKZ7H7XabmAO2AzvOQceyqux9Gdpt8kTqNgdLEIy2ROiZHC7guzpX\n",
       "af9g5vTU0s/1hIS9H8VnugJ/xwPAfzDTdu6/AcG6i5kiy891AAAAAElFTkSuQmCC\n",
       "\" style=\"display:inline;vertical-align:middle;\" /></a></td></tr>\n",
       "<tr><td>4</td><td>Operation</td><td>operator:&nbsp;6<br>operands:&nbsp;7<br></td><td><a class=\"ProveItLink\" href=\"../7b3c4615a91a3b020f9d2e2862615c72733eddf10/expr.ipynb\"><img src=\"data:image/png;base64,iVBORw0KGgoAAAANSUhEUgAAAIYAAAAPBAMAAADT6KqyAAAAMFBMVEX////MzMyqqqoiIiIyMjK6\n",
       "uroQEBB2dnbc3NyYmJhmZmZUVFRERESIiIju7u4AAAB204erAAAAAXRSTlMAQObYZgAAAa5JREFU\n",
       "KM+Nk79LQlEUx78vM9SnJjRFkM4tNgUt6VAhBeXU0OTQGOgUtJSEUwS+/0BpCIpAh6ZeoBE0NKRz\n",
       "FL3IdpOi4pV2zruv8t6pC/fH+Zz77j33e84DEL49PfSVobQRxfbXbPNsTmYhYifnvNow4D0wAK/D\n",
       "I65/mYd+NFQHKmmZDSeBeAxozZCxnQd05qGme23CgoyiNEWrCssBgS4wz5tXqGt0ETyWOGOnklfQ\n",
       "PYFSTmEUl/aFQIeNXR5S1CfcpzTZLaFL6lOWzBrUfTaKSTYe4DpSwum14oaCbKBwrbBPjtVGxfiV\n",
       "mQJ0AqX25Dy/H2n23c20so2eQcq9IZH/S1UTelos0yiWZRR6Bx6rCntm3V/Rcywh0SRa4gjNNGt1\n",
       "GQUz9M2Hwtqc8wyybAyIdO9j05WDXEkZDVedsGXG95QM1DiEgGAFusJpVDaejIyipJveURhrtu7O\n",
       "W4Lpo6J0fHTGYFtCTnmIHPYxCj+4RPHR2auurtqF0IWfG+xKiMtDW7NkRuWhLfBibPEo9pMZB2Av\n",
       "m4K/8VLuQzjumeasIW0LM7uKqD/rOPAPpLJvllSLm7S3jtoAAAAASUVORK5CYII=\n",
       "\" style=\"display:inline;vertical-align:middle;\" /></a></td></tr>\n",
       "<tr><td>5</td><td>ExprTuple</td><td>9, 10, 8, 11</td><td><a class=\"ProveItLink\" href=\"../8dc7b16fdb66b67ef402636d7d0da333f49c83890/expr.ipynb\"><img src=\"data:image/png;base64,iVBORw0KGgoAAAANSUhEUgAAAGkAAAAVBAMAAAC3TN2zAAAAMFBMVEX////c3NwiIiJERESqqqqY\n",
       "mJh2dnZmZmYQEBDu7u4yMjJUVFTMzMyIiIi6uroAAAAs73DqAAAAAXRSTlMAQObYZgAAAfBJREFU\n",
       "OMudVDFLW1EU/tJ4G595eQYUBB2cCu2kS6mCYP6Bb3LUbOogBkpbtwTaqUMTOomU8hxEW0EFB8E3\n",
       "JLhmMODgohhcWjpFawuaVnvOPfc2r0OgeuGe953z3XPv98657wH3G17tjglTbKqC921QlZvhzqb1\n",
       "nMPdF7Gchiki9saARIWcT0Jv/d2rcxjI140z68Nb9AV3B8BEBqBHSgSqoZLNOqDIwbbg5SdkFtKG\n",
       "yNJBV8Ak7Syre/Npm3VKaDoreJ3Zr5YgAe5vYAn4JpHaqdWEEZqPZa/EJds+Q4zTjDWBeAYvpZCl\n",
       "Cd9mUbx/VOBgwPaDIb7TdIl9mMOqDnzUb6OH2zw5emRw3o9UnMVB/QQ6ArzTkToGc4ZMnQPvTTGG\n",
       "0pGs1C8yyRsSVsCN3iYMy8OGjBdowQ/Bt9qa6sYb3BZi3YZkeeQGJqt7W3TwKLLpqBiC9532ddYb\n",
       "DlDrHhRsuyievBRc5mMSkT7iNbTCp1xOyupqGCncLq5dyS6cswSdGeebpALM8A1g1VdwLky73Lcl\n",
       "cRSd+SVtCGqXu8aAKn8G9BRXoMavc06Rjnl+G4afSaR2UN14lRHsMPFMv2JXHZ2R4nrRQnvtCL5R\n",
       "KttyVZRTbTAw3/pS/j/L4R4NtPx/vupaG4wky43d9Q9wDPwB+mqFhV2344EAAAAASUVORK5CYII=\n",
       "\" style=\"display:inline;vertical-align:middle;\" /></a></td></tr>\n",
       "<tr><td>6</td><td>Literal</td><td></td><td><a class=\"ProveItLink\" href=\"../087d0b4ded7c7e5bf3bba05ecb616d7a8051ff650/expr.ipynb\"><img src=\"data:image/png;base64,iVBORw0KGgoAAAANSUhEUgAAAAwAAAAOBAMAAADpk+DfAAAALVBMVEX///+YmJh2dnZmZmaqqqrc\n",
       "3NwyMjLu7u4iIiJERESIiIhUVFTMzMy6uroAAAD0I/TTAAAAAXRSTlMAQObYZgAAAEtJREFUCNdj\n",
       "uMAABDwMe0DUKoaTIKqdgS2AgYHFAITAzHYGsMQqBoa9QIqDgT0BSDE7MAkAKdYEDpAehj1SYOpk\n",
       "O5hiMwBTPAUMDAB33Atnw8aG2QAAAABJRU5ErkJggg==\n",
       "\" style=\"display:inline;vertical-align:middle;\" /></a></td></tr>\n",
       "<tr><td>7</td><td>ExprTuple</td><td>8, 9, 10, 11</td><td><a class=\"ProveItLink\" href=\"../8efaaa70b98fd0285360aec221293fd47e9ddb940/expr.ipynb\"><img src=\"data:image/png;base64,iVBORw0KGgoAAAANSUhEUgAAAGkAAAAVBAMAAAC3TN2zAAAAMFBMVEX////c3NwiIiJERESqqqqY\n",
       "mJh2dnZmZmYQEBDu7u4yMjJUVFTMzMyIiIi6uroAAAAs73DqAAAAAXRSTlMAQObYZgAAAe9JREFU\n",
       "OMudVDFIHEEUfZe7PW/vds8tAoFYmCaQMo3EECHX2QRyREip11kJhkhSGjAWsUiOVDbiERDRwggW\n",
       "gltob2G6NIqnjWilMSp6ieb92fnrbnk5mNn/5v838/e92QP+71f+0SZhUKZNmWaeva/ei9e9BzZw\n",
       "1lvhypIFPsFaH9CxQbDAkZ8EDiZjVvFYo8JjYLxpQWcDeFkB+PDZoPutTuZJzHp1qdEWs1vLCmo8\n",
       "iKnX3I2E4id5vw9amumPN9gNgKGaAh7q/QWmgSPC8YrUjmqp719r2MvxqG7Bc6lqAdkK3jG6kjV3\n",
       "Q0sPc2casub+UwWnIhRX8qOYY69nKWXdprQRidna+fkwVlZWnXMg18Bn4M5J2kBkLrRXZr6qGP4f\n",
       "TqVrowDnTiO0q6zNMDy1YZYK+dpJVsoKXPGOhVUwrBfKolJT6tBy1FME6B2Gqob1kacae1TCnMim\n",
       "DrGm9DvhHSYij3rsa+brtse7HN9tw2JXN6+C0X6XImflJjkNDMuxFZTfALNy/dyGOFOPAO3yprjd\n",
       "L2uXNy8Bld8XTddWx/iYpmKZ3qsAAzfzBry9CcNFNul+CeAKeGI8LTZRCG4130sakATlIJnhjXJq\n",
       "t7CazCWBkzJ0xH4pbbHMm3fF0E/mUiD1uZek3Uy7/wDbwD/d04XfVxeVkQAAAABJRU5ErkJggg==\n",
       "\" style=\"display:inline;vertical-align:middle;\" /></a></td></tr>\n",
       "<tr><td>8</td><td>Variable</td><td></td><td><a class=\"ProveItLink\" href=\"../../../../../__pv_it/985a1bdf1540838275dec15f4ad6de261cca93ce0/expr.ipynb\"><img src=\"data:image/png;base64,iVBORw0KGgoAAAANSUhEUgAAAA8AAAAOBAMAAAACpFvcAAAAMFBMVEX////MzMyqqqoiIiIyMjK6\n",
       "uroQEBB2dnbc3NyYmJhmZmZUVFRERESIiIju7u4AAAB204erAAAAAXRSTlMAQObYZgAAAGZJREFU\n",
       "CNdjYGDgu7NrJccCBgaGsgkMrMsmMDA8sQNy6hsYGNweABlhDAxcn4A0QxcDQ78DiPGQgWH9BAYI\n",
       "sG+AMv6DSaCGfBDNJMDAsB+kmwuI5S8AiTog5gSaEwXWIO29SgFIAQBC+RaDQlidVgAAAABJRU5E\n",
       "rkJggg==\n",
       "\" style=\"display:inline;vertical-align:middle;\" /></a></td></tr>\n",
       "<tr><td>9</td><td>Variable</td><td></td><td><a class=\"ProveItLink\" href=\"../../../../../__pv_it/2cbe72a7ad6f655694dd697106680215e8489b600/expr.ipynb\"><img src=\"data:image/png;base64,iVBORw0KGgoAAAANSUhEUgAAAA8AAAAOBAMAAAACpFvcAAAALVBMVEX///8QEBBERERUVFS6urqI\n",
       "iIhmZmaqqqrc3Nzu7u6YmJgyMjIiIiLMzMwAAADtIaYWAAAAAXRSTlMAQObYZgAAAFtJREFUCNdj\n",
       "YACBOwxQsA9Kc52bAGG05zVAGAFxDmCaZULdAjBjCsO9ADDDgaEvAUTzGhvbKYCVMDAwbgAxChgY\n",
       "eASANAeQwf0AyJgNxEwvGRia5HYwcOm9TgAA6BoR3jrzwFcAAAAASUVORK5CYII=\n",
       "\" style=\"display:inline;vertical-align:middle;\" /></a></td></tr>\n",
       "<tr><td>10</td><td>Variable</td><td></td><td><a class=\"ProveItLink\" href=\"../../../../../__pv_it/077b2ff79244fb4582cbe22c6e3356fa92a52f2f0/expr.ipynb\"><img src=\"data:image/png;base64,iVBORw0KGgoAAAANSUhEUgAAABAAAAAOBAMAAADUAYG5AAAAMFBMVEX///+qqqru7u4iIiJ2dnbc\n",
       "3NyIiIjMzMxmZmYQEBC6uroyMjJERERUVFSYmJgAAADLUcuvAAAAAXRSTlMAQObYZgAAAGpJREFU\n",
       "CNdjYGB4+//u3dMLGIBgDgMDxy8gzf4NiP8CGWxfGRj4vgAZPBMYGJgnARn8FxhY9ygAGfXX0pof\n",
       "gDTlBzAw2YIYJ0EckBBI53sHoBH/gIz7AhBjWH9DjancBLTl/N+7t/cxMAAA3u4f/5xagjYAAAAA\n",
       "SUVORK5CYII=\n",
       "\" style=\"display:inline;vertical-align:middle;\" /></a></td></tr>\n",
       "<tr><td>11</td><td>Variable</td><td></td><td><a class=\"ProveItLink\" href=\"../../../../../__pv_it/185e6d30f167ee2ee5ef3321098dc98e0d77bc590/expr.ipynb\"><img src=\"data:image/png;base64,iVBORw0KGgoAAAANSUhEUgAAABEAAAAOBAMAAAA7w+qHAAAALVBMVEX///8QEBCYmJjc3Ny6urru\n",
       "7u5mZmZ2dnaqqqrMzMxEREQyMjJUVFSIiIgAAABETr/8AAAAAXRSTlMAQObYZgAAAGpJREFUCNdj\n",
       "YGC48+7MmV0TGEDgNQMDxwsQg/M5kMgLABK8T4DEvAtAgusBkLA7ACT4FoDEDsAk9AqAxD2QCecc\n",
       "gMQ6kAGCIOIVEDM9Ahn3FkgwgnTxvgQSqwOgxs1OADLC1r05cyoTyAAAv4Qe+njAWvgAAAAASUVO\n",
       "RK5CYII=\n",
       "\" style=\"display:inline;vertical-align:middle;\" /></a></td></tr>\n",
       "</table>\n"
      ],
      "text/plain": [
       "0. (A or B or C or D) = (C or A or B or D)\n",
       "   core type: Operation\n",
       "   operator: 1\n",
       "   operands: 2\n",
       "1. =\n",
       "   core type: Literal\n",
       "   sub-expressions: \n",
       "2. (A or B or C or D , C or A or B or D)\n",
       "   core type: ExprTuple\n",
       "   sub-expressions: 3, 4\n",
       "3. A or B or C or D\n",
       "   core type: Operation\n",
       "   operator: 6\n",
       "   operands: 5\n",
       "4. C or A or B or D\n",
       "   core type: Operation\n",
       "   operator: 6\n",
       "   operands: 7\n",
       "5. (A , B , C , D)\n",
       "   core type: ExprTuple\n",
       "   sub-expressions: 9, 10, 8, 11\n",
       "6. or\n",
       "   core type: Literal\n",
       "   sub-expressions: \n",
       "7. (C , A , B , D)\n",
       "   core type: ExprTuple\n",
       "   sub-expressions: 8, 9, 10, 11\n",
       "8. C\n",
       "   core type: Variable\n",
       "   sub-expressions: \n",
       "9. A\n",
       "   core type: Variable\n",
       "   sub-expressions: \n",
       "10. B\n",
       "    core type: Variable\n",
       "    sub-expressions: \n",
       "11. D\n",
       "    core type: Variable\n",
       "    sub-expressions: "
      ]
     },
     "execution_count": 4,
     "metadata": {},
     "output_type": "execute_result"
    }
   ],
   "source": [
    "# display the expression information\n",
    "expr.exprInfo()"
   ]
  },
  {
   "cell_type": "code",
   "execution_count": null,
   "metadata": {},
   "outputs": [],
   "source": []
  }
 ],
 "metadata": {
  "kernelspec": {
   "display_name": "Python 3",
   "language": "python",
   "name": "python3"
  }
 },
 "nbformat": 4,
 "nbformat_minor": 0
}
