{
 "cells": [
  {
   "cell_type": "markdown",
   "metadata": {},
   "source": [
    "Show the Proof\n",
    "========"
   ]
  },
  {
   "cell_type": "code",
   "execution_count": 1,
   "metadata": {},
   "outputs": [
    {
     "data": {
      "text/html": [
       "<table><tr><th>&nbsp;</th><th>step type</th><th>requirements</th><th>statement</th></tr>\n",
       "<tr><td>0</td><td>assumption</td><td></td><td><span style=\"font-size:20px;\"><a class=\"ProveItLink\" href=\"../eafce538b7ba954f9ce67cb1f0540b3902f13b0e0/expr.ipynb\"><img src=\"data:image/png;base64,iVBORw0KGgoAAAANSUhEUgAAANEAAAAVBAMAAAAqbRZ+AAAAMFBMVEX////c3NxERESqqqpUVFS6\n",
       "urrMzMwyMjIQEBCIiIh2dnYiIiLu7u5mZmaYmJgAAABXZE4RAAAAAXRSTlMAQObYZgAAAvdJREFU\n",
       "SMe1Vk1oE0EUfrtJdpPN5gc9iAehB7EFKw0i3tQcYosHaY4tKpQSsLcET0JTW/8vpRRBJacEPKg9\n",
       "FVFQIxo8KV6igh5EDaIHqxIbGquire+92WxmUiOCMbCzu998876Zb968DQCEX8F//hlzUbrZt6kd\n",
       "7kjId+2kTlIb+EyPcYHMt1DeriYS3ckW8OHml5VNChIYXEoMbAEIjajMy7XJo9di+PCc3qwpbMwS\n",
       "95ikChzZENwTOLyuYtYMwKEZFYtkAPZgyEzLpLqG7ewc3q+4SjnR8eEHtf3gIsY3vJYUzB7HWVmL\n",
       "Ki9dwBnh4IU1SnDeVJSmGdd2UQAYpeaOsAWB8HcFM4nrm1J5+aSY1QMhYF8sFjOO0m5vSVLyiVUH\n",
       "AnWOhZniKTOiY2dwWsFek+9aWeX1EYZr12P8evijtKZ18ppCBcYPelboRqPNqPA/DtqRkoxpyzzp\n",
       "EZVXA+GyxcJab9M9425vQymE6zErPDxJBghHRgUzvS/3oqJgoZXmLrg8Hkcue9gcPeoqHbj3dRbv\n",
       "VXoZQ4v9nEY+0H6Cs8t7BTMfBfu6ggUXm0ouL/AFG2/d2T+4L2dEbjsZjWtNnSGTWCmVSNS4Pwi2\n",
       "k649pFaRsQgfBFvl6QT6UcXg3qFisZkRuo+2phuDDI00lLA5ywNDMUtYBpTg1YKM+TnWTpUX6SJe\n",
       "paGUktekA3YGKYYXxf2UMh68bopszwSdKkKbMhiTMS8fubLKS8+KQ+6492iNEu+ThRVIp6mtx2tS\n",
       "EPrfg3ucRLK5GG++VVJ5efRFz1JWsGfeiqxE7rlZTsnJlveJEKPiPPJxGsuCglVj4HsMKobHyZjg\n",
       "YLxY+4ak9OmcfJ5886D1LEfhzeqEqH/CnVAfFs5jziAHA2Ng/1NQMPsJ1uFtXFxNUY03PHMr7NZT\n",
       "MaUaHW+p8qXfVP6/wZxqBDvGi0qxbSotdOibd7UNzkph6avxrz8706aDv0/2LcrXeEeUvNE239zT\n",
       "fAtfwmZjR5Qu/OF/xC9l49i6jLFowAAAAABJRU5ErkJggg==\n",
       "\" style=\"display:inline;vertical-align:middle;\" /></a> <a class=\"ProveItLink\" href=\"proof.ipynb\" style=\"text-decoration: none\">&#x22A2;&nbsp;</a><a class=\"ProveItLink\" href=\"../c155912a93543e78962c8de077c124f256d135a90/expr.ipynb\"><img src=\"data:image/png;base64,iVBORw0KGgoAAAANSUhEUgAAALwAAAAVBAMAAAAOdJm+AAAAMFBMVEX////c3NwiIiJERESqqqqY\n",
       "mJh2dnZmZmYQEBDu7u4yMjJUVFTMzMyIiIi6uroAAAAs73DqAAAAAXRSTlMAQObYZgAAAqBJREFU\n",
       "OMu1VU1oE1EQnphsmzTZNqAg1ENKQKheukoF7SW9CV4MePNiLqKeFPw9KCnFgwjaRw8KQaVRSqyC\n",
       "jaiI5pBQ8KAeGlDwIJLVQxVPlaYFE22cN7ObzcQGPMRAZt98b95k3jdfZgH+86e/3I0sht1h4y0/\n",
       "Ftrji/XCk0dtYOjd87O+UwL62CgU7pUALsrInvmx2uQoLubYn6eb0LJENmgBpG2JHU9C/4WkxGoA\n",
       "gSpAX1sl/v5y5kYKTObGGFFow/qEgyziYzEvsMwONCejAousoUkrMFJ/pTftGQgq8rakozoWK4ZN\n",
       "jFQQOJIS2H1tv8k4c51LCU1w2tt34zud9IHkC/jOaLlCvcnidz8je/E7rFqx3qq2W2WcfxlNDG85\n",
       "Sm5kVnnVf7bgHMtHHUyCcyTL+3WAwX0Ci81oe0vGDeiLaBKPkbtZeeQsHFIwS84dopouTBfHMuqf\n",
       "PmwHgaWTTWa9ODqnSTxA7i6P+3jjGsB1cmyIkd6wXWFWsPkDYDovsJFoM70XV9FdLtrcEwhZra19\n",
       "b8E6lVooFHljCDLONrbKXBVYg6yScQltruhrEMmT8XiztWAtcXrUcZCIhTNwlI8NYOXGmsCmtAmU\n",
       "ZNyKVvWqmz6Sb6keLD9c1utxZJOFNYh1MadIdLgqsKIuvBcEFvnt/AMdcoba0u/BpQ/T9y0TGn7l\n",
       "jCAte5ZKE6MungCBmb/QjOnfPUz+M5F+ifSkafT/5Gp2q6bsI1eVwAy8zFenvS6mZf+GVMHCnLa9\n",
       "9MYlC76gVqeyYCRqPKpyvHsaJ9UDV4g5d/o9PD8OAruZwMHH04zHny9XckfayvBT5C0qZ8XrDYbq\n",
       "v2DuUAi8ZOW4gzfVnddGT4fXxlx30mc64Nu6k/5xB9zXlZehWdoQ/gPYNM3LQeSqwQAAAABJRU5E\n",
       "rkJggg==\n",
       "\" style=\"display:inline;vertical-align:middle;\" /></a></span></td></tr>\n",
       "</table>"
      ],
      "text/plain": [
       "<proveit._core_.proof._ShowProof at 0x7f94ead82fd0>"
      ]
     },
     "execution_count": 1,
     "metadata": {},
     "output_type": "execute_result"
    }
   ],
   "source": [
    "import proveit\n",
    "%show_proof"
   ]
  },
  {
   "cell_type": "code",
   "execution_count": null,
   "metadata": {},
   "outputs": [],
   "source": []
  }
 ],
 "metadata": {
  "kernelspec": {
   "display_name": "Python 3",
   "language": "python",
   "name": "python3"
  }
 },
 "nbformat": 4,
 "nbformat_minor": 0
}
