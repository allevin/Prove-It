{
 "cells": [
  {
   "cell_type": "markdown",
   "metadata": {},
   "source": [
    "Show the Proof\n",
    "========"
   ]
  },
  {
   "cell_type": "code",
   "execution_count": 1,
   "metadata": {},
   "outputs": [
    {
     "data": {
      "text/html": [
       "<table><tr><th>&nbsp;</th><th>step type</th><th>requirements</th><th>statement</th></tr>\n",
       "<tr><td>0</td><td>assumption</td><td></td><td><span style=\"font-size:20px;\"><a class=\"ProveItLink\" href=\"../958de91270bd76318a8aad7e182d7a1006cc29e10/expr.ipynb\"><img src=\"data:image/png;base64,iVBORw0KGgoAAAANSUhEUgAAAEUAAAAVBAMAAADiLT7tAAAAMFBMVEX////c3NxERESqqqpUVFS6\n",
       "urrMzMwyMjIQEBCIiIh2dnYiIiLu7u5mZmaYmJgAAABXZE4RAAAAAXRSTlMAQObYZgAAARtJREFU\n",
       "KM9jYGDgu8eAE7CtEgBRPLsY8AC2ZhDJ+QFELvmvK4Ast/xTfcUmAyDjOojH1QAW/I5mgEIkT80q\n",
       "IL0CoYb1F4YahqnsqGq4vkKkTlbv3g5TY8dyAEUN+weIE+sOIJkjhGoOvwJYRugAwi62fTowNbwF\n",
       "IDJ+AlhGEeGe6P0/QGLvQZyMABC5PgEcVgrIbp5pBHLEBQaGlDawUD2YZO3evRvhZibWBUCG+gMG\n",
       "hgiwCZ8gTnZANoeJAWgsN0gdC8g9rD/BEjwbMNSA3cMFEuf6BpHxQ1EDsgvhd2jwMJwOQFLzdhJy\n",
       "+Mjqf1kAlmGsTYDHqXaLAWoYwgCzO9RfMIBFDQYAq+HDrwacfnh24k2HrWCKbzGB9AwAGXpPPpx7\n",
       "yCgAAAAASUVORK5CYII=\n",
       "\" style=\"display:inline;vertical-align:middle;\" /></a> <a class=\"ProveItLink\" href=\"proof.ipynb\" style=\"text-decoration: none\">&#x22A2;&nbsp;</a><a class=\"ProveItLink\" href=\"../a014aa0b7ef235b3bb2137b14c0255166b76fb410/expr.ipynb\"><img src=\"data:image/png;base64,iVBORw0KGgoAAAANSUhEUgAAADEAAAAPBAMAAAC/wjryAAAAMFBMVEX///+qqqoQEBCYmJgiIiLu\n",
       "7u7MzMyIiIi6uroyMjLc3NxmZmZERERUVFR2dnYAAAAvupOAAAAAAXRSTlMAQObYZgAAALpJREFU\n",
       "GNNjYGB4+//0AgYk8PLP/Ek+AmDmTwZUcKCddeo7EIPjH4YMQwUniMH3AyIQPsXFEyYjzBsAZHB+\n",
       "APPZJgcg6VkDYvAfAPPXBCBMY3M+CmL0F4D5pxD2tPh/Aou9TwCRrAeQXVAuA2LMB3M5VFxcEC7g\n",
       "4XgAZPyBOOACsh4eBqARHN/BXFYHDBm+bxD+ZRQZkGlQ7zCENCDJWNcwMKw+//cBmM81OwEeokd0\n",
       "BZCDi/Em1G0QAAAObj8qg9dWXgAAAABJRU5ErkJggg==\n",
       "\" style=\"display:inline;vertical-align:middle;\" /></a></span></td></tr>\n",
       "</table>"
      ],
      "text/plain": [
       "<proveit._core_.proof._ShowProof at 0x7f94ebda20f0>"
      ]
     },
     "execution_count": 1,
     "metadata": {},
     "output_type": "execute_result"
    }
   ],
   "source": [
    "import proveit\n",
    "%show_proof"
   ]
  },
  {
   "cell_type": "code",
   "execution_count": null,
   "metadata": {},
   "outputs": [],
   "source": []
  }
 ],
 "metadata": {
  "kernelspec": {
   "display_name": "Python 3",
   "language": "python",
   "name": "python3"
  }
 },
 "nbformat": 4,
 "nbformat_minor": 0
}
