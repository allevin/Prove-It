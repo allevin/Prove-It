{
 "cells": [
  {
   "cell_type": "markdown",
   "metadata": {},
   "source": [
    "Expression of type <a class=\"ProveItLink\" href=\"../../../../../../../doc/html/api/proveit.ExprTuple.html\">ExprTuple</a>\n",
    "=======================\n",
    "# from context <a class=\"ProveItLink\" href=\"../../_context_.ipynb\">proveit.logic.boolean.disjunction</a>"
   ]
  },
  {
   "cell_type": "code",
   "execution_count": 1,
   "metadata": {},
   "outputs": [],
   "source": [
    "# import Expression classes needed to build the expression\n",
    "from proveit import ExprTuple\n",
    "from proveit._common_ import A, B, C, D\n",
    "from proveit.logic import Or"
   ]
  },
  {
   "cell_type": "code",
   "execution_count": 2,
   "metadata": {},
   "outputs": [
    {
     "data": {
      "text/html": [
       "<strong id=\"expr\">expr:</strong> <a class=\"ProveItLink\" href=\"expr.ipynb\"><img src=\"data:image/png;base64,iVBORw0KGgoAAAANSUhEUgAAATUAAAAVBAMAAADV6mS1AAAAMFBMVEX////c3NwiIiJERESqqqqY\n",
       "mJh2dnZmZmYQEBDu7u4yMjJUVFTMzMyIiIi6uroAAAAs73DqAAAAAXRSTlMAQObYZgAAA/xJREFU\n",
       "SMfNVk1IVFEUPuPM6Pw5DiQIutBNkLQwAskscHZuAoeCNlG6iWohTb+2CBQyKBf6aJNIhSZhFpTg\n",
       "QnCsGZKgcjEDLVqUOLSxXGlqoaZ2fu6bmXtthEChC+/Om++ee75zz/nufRfgf27B1L/h0s7sdlhM\n",
       "MEXdwyNtkTJ9cEp+3hhzTm3GYvVpKEoY+GfEBzOg9+PYNUfU5AtU6f/d8bXY6AsdK0Zs/CgIwTA+\n",
       "hbcBZvGBNLtgo2Gxfck55FdhvoXzNgD6TXwVwLVkM5yPQPBGRDcA8M2DzuE5ANCe1rES9NwUZoJi\n",
       "LJ33sYXxLeDABI1Oc/xSUncNDoE/kUEC6/isAZwEA/+JXbslQfRVY3cxpBlgO74CGgckcSQ5YmAt\n",
       "uPgVJvCgO99dykEHdpM0Ws1LEprS9hAR4/qggJFiXIIb4+gFA99QXNSeEvRNNwBwNNLyczhgBp03\n",
       "txhYWhKABHO03DDNJHn40NjFOpkTf6kZTvcAPo0MOHEJBbgWZ9jAqV6VI/xexLUt0w0wfI4/hwPq\n",
       "8Nln6VgDxbLGBNfxbZXlS+mncbIDwimZVlMElPsBkcMIOAZJAlEDpwwlJbZKFuMD3QDgu2sZNA7A\n",
       "EMoPG9giiGiQ4Akuczm7TapVfgnH9kiVCcvC5UH6V9OXKVxXv4GTHdcH6xDJ+MsagDdNpcrlCKxN\n",
       "f9pr8LINiQYJunH+QjY21ONrfukG2VOVUbUz/GlbIt79tjxzcUp7XN5rQtkjIWOAe9bxS+cg7d4b\n",
       "MbDftMc2mAD7Et7aXlkneDkhwNIIxGJxWXUV9EFGIjOYl8C8jpNM4I68b3Jv6QYwFYst6hyk3eJl\n",
       "AyO/ng4mwBg8THNMZBwujGRjw+PJI1OuwlmwJcKlU7FlcKJ1K3H0sIQSugGdYV06B2qXy6dhlItm\n",
       "WXwnZpCPHdkljv4C8dRJHe7FAq4dlIOc6QGij4ftmmbxdXWUUotTyopAMwAX7UmdI4kh+JcMLCXn\n",
       "OxHUKr+F6hCaOC2/tTQhbJ/l4H+bykiE97W7X8dJJvWWVJL9XwDNAErtj0yWg4432dM5GKbbOSwE\n",
       "5yiFYQheUpmflBOQcVKKc0XyctDKSOQdf+aiOo5L+ICQ9we5xVzMqv1gG7CcGiyNA7Ub6LJ0XtRt\n",
       "YAiE4CvNHx+7am8sn/pCI76nZwDcDasCDIksGvBLzMeLT+0+we8jPnqTQuihmKaet4Vth2LgqFsN\n",
       "wYnNoVyOK3g9eBbReL2EHUooAk/IuCuodZj4e+NO0ZsHDxrzthjkcGyLIYG75e/3p3y43Vrz4O6d\n",
       "usC1Zu9CW9rwtjPVabR7sTFBRZ7Bim2n+kN5BlI7FBsTOPJ4c2zL8mW37+RI8AeaGElQblIiSgAA\n",
       "AABJRU5ErkJggg==\n",
       "\" style=\"display:inline;vertical-align:middle;\" /></a><br>"
      ],
      "text/plain": [
       "expr: (C or (A or B) or D , C or A or B or D)"
      ]
     },
     "execution_count": 2,
     "metadata": {},
     "output_type": "execute_result"
    }
   ],
   "source": [
    "# build up the expression from sub-expressions\n",
    "expr = ExprTuple(Or(C, Or(A, B), D), Or(C, A, B, D))"
   ]
  },
  {
   "cell_type": "code",
   "execution_count": 3,
   "metadata": {},
   "outputs": [
    {
     "name": "stdout",
     "output_type": "stream",
     "text": [
      "Passed sanity check: built 'expr' is the same as the stored Expression.\n"
     ]
    }
   ],
   "source": [
    "# check that the built expression is the same as the stored expression\n",
    "%check_expr"
   ]
  },
  {
   "cell_type": "code",
   "execution_count": 4,
   "metadata": {},
   "outputs": [
    {
     "data": {
      "text/html": [
       "<table><tr><th>&nbsp;</th><th>core type</th><th>sub-expressions</th><th>expression</th></tr>\n",
       "<tr><td>0</td><td>ExprTuple</td><td>1, 2</td><td><a class=\"ProveItLink\" href=\"expr.ipynb\"><img src=\"data:image/png;base64,iVBORw0KGgoAAAANSUhEUgAAATUAAAAVBAMAAADV6mS1AAAAMFBMVEX////c3NwiIiJERESqqqqY\n",
       "mJh2dnZmZmYQEBDu7u4yMjJUVFTMzMyIiIi6uroAAAAs73DqAAAAAXRSTlMAQObYZgAAA/xJREFU\n",
       "SMfNVk1IVFEUPuPM6Pw5DiQIutBNkLQwAskscHZuAoeCNlG6iWohTb+2CBQyKBf6aJNIhSZhFpTg\n",
       "QnCsGZKgcjEDLVqUOLSxXGlqoaZ2fu6bmXtthEChC+/Om++ee75zz/nufRfgf27B1L/h0s7sdlhM\n",
       "MEXdwyNtkTJ9cEp+3hhzTm3GYvVpKEoY+GfEBzOg9+PYNUfU5AtU6f/d8bXY6AsdK0Zs/CgIwTA+\n",
       "hbcBZvGBNLtgo2Gxfck55FdhvoXzNgD6TXwVwLVkM5yPQPBGRDcA8M2DzuE5ANCe1rES9NwUZoJi\n",
       "LJ33sYXxLeDABI1Oc/xSUncNDoE/kUEC6/isAZwEA/+JXbslQfRVY3cxpBlgO74CGgckcSQ5YmAt\n",
       "uPgVJvCgO99dykEHdpM0Ws1LEprS9hAR4/qggJFiXIIb4+gFA99QXNSeEvRNNwBwNNLyczhgBp03\n",
       "txhYWhKABHO03DDNJHn40NjFOpkTf6kZTvcAPo0MOHEJBbgWZ9jAqV6VI/xexLUt0w0wfI4/hwPq\n",
       "8Nln6VgDxbLGBNfxbZXlS+mncbIDwimZVlMElPsBkcMIOAZJAlEDpwwlJbZKFuMD3QDgu2sZNA7A\n",
       "EMoPG9giiGiQ4Akuczm7TapVfgnH9kiVCcvC5UH6V9OXKVxXv4GTHdcH6xDJ+MsagDdNpcrlCKxN\n",
       "f9pr8LINiQYJunH+QjY21ONrfukG2VOVUbUz/GlbIt79tjxzcUp7XN5rQtkjIWOAe9bxS+cg7d4b\n",
       "MbDftMc2mAD7Et7aXlkneDkhwNIIxGJxWXUV9EFGIjOYl8C8jpNM4I68b3Jv6QYwFYst6hyk3eJl\n",
       "AyO/ng4mwBg8THNMZBwujGRjw+PJI1OuwlmwJcKlU7FlcKJ1K3H0sIQSugGdYV06B2qXy6dhlItm\n",
       "WXwnZpCPHdkljv4C8dRJHe7FAq4dlIOc6QGij4ftmmbxdXWUUotTyopAMwAX7UmdI4kh+JcMLCXn\n",
       "OxHUKr+F6hCaOC2/tTQhbJ/l4H+bykiE97W7X8dJJvWWVJL9XwDNAErtj0yWg4432dM5GKbbOSwE\n",
       "5yiFYQheUpmflBOQcVKKc0XyctDKSOQdf+aiOo5L+ICQ9we5xVzMqv1gG7CcGiyNA7Ub6LJ0XtRt\n",
       "YAiE4CvNHx+7am8sn/pCI76nZwDcDasCDIksGvBLzMeLT+0+we8jPnqTQuihmKaet4Vth2LgqFsN\n",
       "wYnNoVyOK3g9eBbReL2EHUooAk/IuCuodZj4e+NO0ZsHDxrzthjkcGyLIYG75e/3p3y43Vrz4O6d\n",
       "usC1Zu9CW9rwtjPVabR7sTFBRZ7Bim2n+kN5BlI7FBsTOPJ4c2zL8mW37+RI8AeaGElQblIiSgAA\n",
       "AABJRU5ErkJggg==\n",
       "\" style=\"display:inline;vertical-align:middle;\" /></a></td></tr>\n",
       "<tr><td>1</td><td>Operation</td><td>operator:&nbsp;8<br>operands:&nbsp;3<br></td><td><a class=\"ProveItLink\" href=\"../d5c5466c0e3b37c5768d7e916dcf9418bd1e9c8d0/expr.ipynb\"><img src=\"data:image/png;base64,iVBORw0KGgoAAAANSUhEUgAAAJYAAAAVBAMAAABWCwqnAAAAMFBMVEX////MzMyqqqoiIiIyMjK6\n",
       "uroQEBB2dnbc3NyYmJhmZmZUVFRERESIiIju7u4AAAB204erAAAAAXRSTlMAQObYZgAAAipJREFU\n",
       "OMu1lD1IHEEUx/8b9byvPQ+sJJCzSGWjlWATr4jiB+iBIYXVIaYLeJWghR7Byghukd7TIiEhcFek\n",
       "CFnhjIFAUsStJcELufQqisr59d7MrbszXBauyMLM2/d7szPvawf430+bE2SNZP5pSvz89DZcUNB9\n",
       "KTr1Tco1e3sI2NS4SfzDZ36bt9D22iJnBE/yNCHXTAofPYzQDlDMoFXnHWmgtxuoPiJlOQ/EmJuO\n",
       "O5EbgxX4MZAikSohktM5geg1MMwfPKVh0KFoYS1UESteFPMKBg4IbOSQyOqcMmhcIXrMyipPIzR6\n",
       "+OWJDNE5yCgY+Eqjnz7f1fgejXAN62lWfqNu4AV4I4tZ6bUUDNSAlR8kFzV+yX7WULTuykEOC8cx\n",
       "KtS/Ij0+TMt/7Q/wy0ONX3F2zzCY90rrICaieibUDNYLCoZ5Dvwp1dPr50dci1PcCE2msA9VIU/F\n",
       "YbZd3lEw4pRz84LrpvFDLlgWc6zck22yhQVvL+qfUFrB6CiJUNy9PM5nblgos0tRyVboKH5meKLW\n",
       "a8kqGCnKbezYjdHHOa/P63JJsliXbL1vXGLaq/VQwaK9RN1faZzCitO/EqFzpuv5N77IvHHJORXx\n",
       "awVzexmzFbcnPE7tZYyJ/3j8XbdbyTEppoC1uRFE9k4Kfvz+xrYfixYa8i9PMP+e1K+MB1KE8g2x\n",
       "d7NkG/OGF1Qu2N7uNHEXTgSbq83cqy+DzR+b2SscGISZbMxvAQBJn1eGbmiLAAAAAElFTkSuQmCC\n",
       "\" style=\"display:inline;vertical-align:middle;\" /></a></td></tr>\n",
       "<tr><td>2</td><td>Operation</td><td>operator:&nbsp;8<br>operands:&nbsp;4<br></td><td><a class=\"ProveItLink\" href=\"../7b3c4615a91a3b020f9d2e2862615c72733eddf10/expr.ipynb\"><img src=\"data:image/png;base64,iVBORw0KGgoAAAANSUhEUgAAAIYAAAAPBAMAAADT6KqyAAAAMFBMVEX////MzMyqqqoiIiIyMjK6\n",
       "uroQEBB2dnbc3NyYmJhmZmZUVFRERESIiIju7u4AAAB204erAAAAAXRSTlMAQObYZgAAAa5JREFU\n",
       "KM+Nk79LQlEUx78vM9SnJjRFkM4tNgUt6VAhBeXU0OTQGOgUtJSEUwS+/0BpCIpAh6ZeoBE0NKRz\n",
       "FL3IdpOi4pV2zruv8t6pC/fH+Zz77j33e84DEL49PfSVobQRxfbXbPNsTmYhYifnvNow4D0wAK/D\n",
       "I65/mYd+NFQHKmmZDSeBeAxozZCxnQd05qGme23CgoyiNEWrCssBgS4wz5tXqGt0ETyWOGOnklfQ\n",
       "PYFSTmEUl/aFQIeNXR5S1CfcpzTZLaFL6lOWzBrUfTaKSTYe4DpSwum14oaCbKBwrbBPjtVGxfiV\n",
       "mQJ0AqX25Dy/H2n23c20so2eQcq9IZH/S1UTelos0yiWZRR6Bx6rCntm3V/Rcywh0SRa4gjNNGt1\n",
       "GQUz9M2Hwtqc8wyybAyIdO9j05WDXEkZDVedsGXG95QM1DiEgGAFusJpVDaejIyipJveURhrtu7O\n",
       "W4Lpo6J0fHTGYFtCTnmIHPYxCj+4RPHR2auurtqF0IWfG+xKiMtDW7NkRuWhLfBibPEo9pMZB2Av\n",
       "m4K/8VLuQzjumeasIW0LM7uKqD/rOPAPpLJvllSLm7S3jtoAAAAASUVORK5CYII=\n",
       "\" style=\"display:inline;vertical-align:middle;\" /></a></td></tr>\n",
       "<tr><td>3</td><td>ExprTuple</td><td>6, 5, 7</td><td><a class=\"ProveItLink\" href=\"../e7703880e4f080670feb4264e6ef53879ef3f5f20/expr.ipynb\"><img src=\"data:image/png;base64,iVBORw0KGgoAAAANSUhEUgAAAHcAAAAVBAMAAACOK2zoAAAAMFBMVEX////c3NwiIiJERESqqqqY\n",
       "mJh2dnZmZmYQEBDu7u4yMjJUVFTMzMyIiIi6uroAAAAs73DqAAAAAXRSTlMAQObYZgAAAipJREFU\n",
       "OMulVD1oFFEQ/u5nL7d3u8kWgqCFNoJ2NmJEIdvZCB4KdprrrISIomUETWEKPazSiIsgQQsNWAjZ\n",
       "oIErU5ydjeFOG9EqMUYxp4nfzHtv46YJXA529s28+ebmfd+8Bfb0G34/GO6KmCUxj0/fbuzP4sHh\n",
       "fJ73rp++fmmdkM78GWBokc5zPpUp4MtUllxbEdvTOhqoHgcme3Z3JAHOxwBfIbv2n7ZYYDUDX/gt\n",
       "dkHMsgY6TOrM2d1Ok3/LjEssSlztvpz9jsMWzmqdtphjGulGwHjTbnfZQvAXmAG+0Z2MBTLhwGG4\n",
       "qc0TUTbBUT5HW3Z7TJL7QCnGLa42JOYvOvDX8rq8BCgF+GPqgVNue02oYKQygWc8wHqOW78nTZmW\n",
       "24b9/vKHI5kUsun9ZPEED4Dial54FH7BkvXWnIMJjxxf4R+a+qaSRDuiyvgOvJSma7oowk90USKX\n",
       "oWuvJNlVRoIVAVcVfM6BSea0LobiSsMoO2caNQ41x3hDwffYg8rqyC4Ls0aypGiVZWr9h5NZxvmu\n",
       "0faEpaDSso3v4/PK5C1cRibzIZ5AxepSlZKMpZfgqjQRY/g68ERGWo85ZjRtmxERmYNpFv9uZQ5m\n",
       "ZUGpPgv7829u8jVDUgujGxEubs2aGTdHubGVpi/Yuf8wgi/OSR2JWg/VaFukTztuXdDacXuj/z2O\n",
       "p9fcdhu7XGEv512zV3IQsJJzMHPD3T4euW9OXc5QGPAz9BH4Bw96jhp/wJTvAAAAAElFTkSuQmCC\n",
       "\" style=\"display:inline;vertical-align:middle;\" /></a></td></tr>\n",
       "<tr><td>4</td><td>ExprTuple</td><td>6, 10, 11, 7</td><td><a class=\"ProveItLink\" href=\"../8efaaa70b98fd0285360aec221293fd47e9ddb940/expr.ipynb\"><img src=\"data:image/png;base64,iVBORw0KGgoAAAANSUhEUgAAAGkAAAAVBAMAAAC3TN2zAAAAMFBMVEX////c3NwiIiJERESqqqqY\n",
       "mJh2dnZmZmYQEBDu7u4yMjJUVFTMzMyIiIi6uroAAAAs73DqAAAAAXRSTlMAQObYZgAAAe9JREFU\n",
       "OMudVDFIHEEUfZe7PW/vds8tAoFYmCaQMo3EECHX2QRyREip11kJhkhSGjAWsUiOVDbiERDRwggW\n",
       "gltob2G6NIqnjWilMSp6ieb92fnrbnk5mNn/5v838/e92QP+71f+0SZhUKZNmWaeva/ei9e9BzZw\n",
       "1lvhypIFPsFaH9CxQbDAkZ8EDiZjVvFYo8JjYLxpQWcDeFkB+PDZoPutTuZJzHp1qdEWs1vLCmo8\n",
       "iKnX3I2E4id5vw9amumPN9gNgKGaAh7q/QWmgSPC8YrUjmqp719r2MvxqG7Bc6lqAdkK3jG6kjV3\n",
       "Q0sPc2casub+UwWnIhRX8qOYY69nKWXdprQRidna+fkwVlZWnXMg18Bn4M5J2kBkLrRXZr6qGP4f\n",
       "TqVrowDnTiO0q6zNMDy1YZYK+dpJVsoKXPGOhVUwrBfKolJT6tBy1FME6B2Gqob1kacae1TCnMim\n",
       "DrGm9DvhHSYij3rsa+brtse7HN9tw2JXN6+C0X6XImflJjkNDMuxFZTfALNy/dyGOFOPAO3yprjd\n",
       "L2uXNy8Bld8XTddWx/iYpmKZ3qsAAzfzBry9CcNFNul+CeAKeGI8LTZRCG4130sakATlIJnhjXJq\n",
       "t7CazCWBkzJ0xH4pbbHMm3fF0E/mUiD1uZek3Uy7/wDbwD/d04XfVxeVkQAAAABJRU5ErkJggg==\n",
       "\" style=\"display:inline;vertical-align:middle;\" /></a></td></tr>\n",
       "<tr><td>5</td><td>Operation</td><td>operator:&nbsp;8<br>operands:&nbsp;9<br></td><td><a class=\"ProveItLink\" href=\"../0f1bf4090acd92174180531bf3e50944b30066e50/expr.ipynb\"><img src=\"data:image/png;base64,iVBORw0KGgoAAAANSUhEUgAAADcAAAAPBAMAAACy3Eq1AAAAMFBMVEX///92dnYQEBBERERUVFS6\n",
       "urqIiIhmZmaqqqrc3Nzu7u6YmJgyMjIiIiLMzMwAAACFkkdwAAAAAXRSTlMAQObYZgAAAP1JREFU\n",
       "GNNjYACBtwyogNv/i4vzUSjnPIhgBTMfgEkmAwaG+gCIwvsLgCQLSJwtASzyHki9dwAzZ9RPAJJ8\n",
       "QNUMvAvAIvlAgf0CYGZCPtiEk0DcDrHHCIgvgdWxLujfwACVOAmR/MLAMMcKzFoKtgJsJNhooA1f\n",
       "0tJvQ5QFMMwvYIA4hgXiQrafDAxrwe7hc3Hxh2i4wLAGopxZAajgN9R/TAfAYhUM0hBJfqAu7o8g\n",
       "VgPQNgWw2BygXog3gQ5k+QFkcAIleT6AxVheQ4IA7M35INNA1jD/gjjSdgHcm3w6QPZk/ZMM3PZ/\n",
       "wM5lOA6RK/7v4nJmA1pkMLxC5QIA6tw+1pV4TWcAAAAASUVORK5CYII=\n",
       "\" style=\"display:inline;vertical-align:middle;\" /></a></td></tr>\n",
       "<tr><td>6</td><td>Variable</td><td></td><td><a class=\"ProveItLink\" href=\"../../../../../__pv_it/985a1bdf1540838275dec15f4ad6de261cca93ce0/expr.ipynb\"><img src=\"data:image/png;base64,iVBORw0KGgoAAAANSUhEUgAAAA8AAAAOBAMAAAACpFvcAAAAMFBMVEX////MzMyqqqoiIiIyMjK6\n",
       "uroQEBB2dnbc3NyYmJhmZmZUVFRERESIiIju7u4AAAB204erAAAAAXRSTlMAQObYZgAAAGZJREFU\n",
       "CNdjYGDgu7NrJccCBgaGsgkMrMsmMDA8sQNy6hsYGNweABlhDAxcn4A0QxcDQ78DiPGQgWH9BAYI\n",
       "sG+AMv6DSaCGfBDNJMDAsB+kmwuI5S8AiTog5gSaEwXWIO29SgFIAQBC+RaDQlidVgAAAABJRU5E\n",
       "rkJggg==\n",
       "\" style=\"display:inline;vertical-align:middle;\" /></a></td></tr>\n",
       "<tr><td>7</td><td>Variable</td><td></td><td><a class=\"ProveItLink\" href=\"../../../../../__pv_it/185e6d30f167ee2ee5ef3321098dc98e0d77bc590/expr.ipynb\"><img src=\"data:image/png;base64,iVBORw0KGgoAAAANSUhEUgAAABEAAAAOBAMAAAA7w+qHAAAALVBMVEX///8QEBCYmJjc3Ny6urru\n",
       "7u5mZmZ2dnaqqqrMzMxEREQyMjJUVFSIiIgAAABETr/8AAAAAXRSTlMAQObYZgAAAGpJREFUCNdj\n",
       "YGC48+7MmV0TGEDgNQMDxwsQg/M5kMgLABK8T4DEvAtAgusBkLA7ACT4FoDEDsAk9AqAxD2QCecc\n",
       "gMQ6kAGCIOIVEDM9Ahn3FkgwgnTxvgQSqwOgxs1OADLC1r05cyoTyAAAv4Qe+njAWvgAAAAASUVO\n",
       "RK5CYII=\n",
       "\" style=\"display:inline;vertical-align:middle;\" /></a></td></tr>\n",
       "<tr><td>8</td><td>Literal</td><td></td><td><a class=\"ProveItLink\" href=\"../087d0b4ded7c7e5bf3bba05ecb616d7a8051ff650/expr.ipynb\"><img src=\"data:image/png;base64,iVBORw0KGgoAAAANSUhEUgAAAAwAAAAOBAMAAADpk+DfAAAALVBMVEX///+YmJh2dnZmZmaqqqrc\n",
       "3NwyMjLu7u4iIiJERESIiIhUVFTMzMy6uroAAAD0I/TTAAAAAXRSTlMAQObYZgAAAEtJREFUCNdj\n",
       "uMAABDwMe0DUKoaTIKqdgS2AgYHFAITAzHYGsMQqBoa9QIqDgT0BSDE7MAkAKdYEDpAehj1SYOpk\n",
       "O5hiMwBTPAUMDAB33Atnw8aG2QAAAABJRU5ErkJggg==\n",
       "\" style=\"display:inline;vertical-align:middle;\" /></a></td></tr>\n",
       "<tr><td>9</td><td>ExprTuple</td><td>10, 11</td><td><a class=\"ProveItLink\" href=\"../caee09fb4b5c95b986a9cee46a014afbad9bdc680/expr.ipynb\"><img src=\"data:image/png;base64,iVBORw0KGgoAAAANSUhEUgAAADUAAAAVBAMAAAAUZLt1AAAAMFBMVEX////c3NwiIiJERESqqqqY\n",
       "mJh2dnZmZmYQEBDu7u4yMjJUVFTMzMyIiIi6uroAAAAs73DqAAAAAXRSTlMAQObYZgAAATZJREFU\n",
       "KM9jYMAH+C5gFY4DEach7EMwQdb9v3dvXsfAfgDIXgkRWg/XwWHAwFD/gGEBAwMvxEhW/QkwufNA\n",
       "kfMbGMKAqiBiIvUCMLn7QFZ8AsMMBoZXEIEL9x/A5CyAWGMCA7MDQxnEsRP8A2ByvxkYpCwZGNgK\n",
       "GJaC+fPAtoABz++711WBNMsChj6wwAMG+QKoHO9HBoZJG4BGNTD8A6vdvXu/AVSOuQEo/xUo9gEi\n",
       "xwd07wKoHD9QD+s3sFwLiO/AwMDUAPMe0FHcX8BmmgK5jEA5rg8MDBNg3pMHGsK6gCEdyJ0FsuYn\n",
       "A+cnqPd4uiaA/fCIgUG4fyEDq/2vAs5+oJbi/7t3rwL5lesBA4cAUnQhsUFhxpqA4LIiR2AuIo7Q\n",
       "5ThBfpJG8JFTADfIfEbsaeIOAwMABOxNRsfkiy0AAAAASUVORK5CYII=\n",
       "\" style=\"display:inline;vertical-align:middle;\" /></a></td></tr>\n",
       "<tr><td>10</td><td>Variable</td><td></td><td><a class=\"ProveItLink\" href=\"../../../../../__pv_it/2cbe72a7ad6f655694dd697106680215e8489b600/expr.ipynb\"><img src=\"data:image/png;base64,iVBORw0KGgoAAAANSUhEUgAAAA8AAAAOBAMAAAACpFvcAAAALVBMVEX///8QEBBERERUVFS6urqI\n",
       "iIhmZmaqqqrc3Nzu7u6YmJgyMjIiIiLMzMwAAADtIaYWAAAAAXRSTlMAQObYZgAAAFtJREFUCNdj\n",
       "YACBOwxQsA9Kc52bAGG05zVAGAFxDmCaZULdAjBjCsO9ADDDgaEvAUTzGhvbKYCVMDAwbgAxChgY\n",
       "eASANAeQwf0AyJgNxEwvGRia5HYwcOm9TgAA6BoR3jrzwFcAAAAASUVORK5CYII=\n",
       "\" style=\"display:inline;vertical-align:middle;\" /></a></td></tr>\n",
       "<tr><td>11</td><td>Variable</td><td></td><td><a class=\"ProveItLink\" href=\"../../../../../__pv_it/077b2ff79244fb4582cbe22c6e3356fa92a52f2f0/expr.ipynb\"><img src=\"data:image/png;base64,iVBORw0KGgoAAAANSUhEUgAAABAAAAAOBAMAAADUAYG5AAAAMFBMVEX///+qqqru7u4iIiJ2dnbc\n",
       "3NyIiIjMzMxmZmYQEBC6uroyMjJERERUVFSYmJgAAADLUcuvAAAAAXRSTlMAQObYZgAAAGpJREFU\n",
       "CNdjYGB4+//u3dMLGIBgDgMDxy8gzf4NiP8CGWxfGRj4vgAZPBMYGJgnARn8FxhY9ygAGfXX0pof\n",
       "gDTlBzAw2YIYJ0EckBBI53sHoBH/gIz7AhBjWH9DjancBLTl/N+7t/cxMAAA3u4f/5xagjYAAAAA\n",
       "SUVORK5CYII=\n",
       "\" style=\"display:inline;vertical-align:middle;\" /></a></td></tr>\n",
       "</table>\n"
      ],
      "text/plain": [
       "0. (C or (A or B) or D , C or A or B or D)\n",
       "   core type: ExprTuple\n",
       "   sub-expressions: 1, 2\n",
       "1. C or (A or B) or D\n",
       "   core type: Operation\n",
       "   operator: 8\n",
       "   operands: 3\n",
       "2. C or A or B or D\n",
       "   core type: Operation\n",
       "   operator: 8\n",
       "   operands: 4\n",
       "3. (C , A or B , D)\n",
       "   core type: ExprTuple\n",
       "   sub-expressions: 6, 5, 7\n",
       "4. (C , A , B , D)\n",
       "   core type: ExprTuple\n",
       "   sub-expressions: 6, 10, 11, 7\n",
       "5. A or B\n",
       "   core type: Operation\n",
       "   operator: 8\n",
       "   operands: 9\n",
       "6. C\n",
       "   core type: Variable\n",
       "   sub-expressions: \n",
       "7. D\n",
       "   core type: Variable\n",
       "   sub-expressions: \n",
       "8. or\n",
       "   core type: Literal\n",
       "   sub-expressions: \n",
       "9. (A , B)\n",
       "   core type: ExprTuple\n",
       "   sub-expressions: 10, 11\n",
       "10. A\n",
       "    core type: Variable\n",
       "    sub-expressions: \n",
       "11. B\n",
       "    core type: Variable\n",
       "    sub-expressions: "
      ]
     },
     "execution_count": 4,
     "metadata": {},
     "output_type": "execute_result"
    }
   ],
   "source": [
    "# display the expression information\n",
    "expr.exprInfo()"
   ]
  },
  {
   "cell_type": "code",
   "execution_count": null,
   "metadata": {},
   "outputs": [],
   "source": []
  }
 ],
 "metadata": {
  "kernelspec": {
   "display_name": "Python 3",
   "language": "python",
   "name": "python3"
  }
 },
 "nbformat": 4,
 "nbformat_minor": 0
}
