{
 "cells": [
  {
   "cell_type": "markdown",
   "metadata": {},
   "source": [
    "Expression of type <a class=\"ProveItLink\" href=\"../../../../../../../doc/html/api/proveit.logic.Or.html\">Or</a>\n",
    "=======================\n",
    "# from context <a class=\"ProveItLink\" href=\"../../_context_.ipynb\">proveit.logic.boolean.disjunction</a>"
   ]
  },
  {
   "cell_type": "code",
   "execution_count": 1,
   "metadata": {},
   "outputs": [],
   "source": [
    "# import Expression classes needed to build the expression\n",
    "from proveit.logic import FALSE, Or, TRUE"
   ]
  },
  {
   "cell_type": "code",
   "execution_count": 2,
   "metadata": {},
   "outputs": [
    {
     "data": {
      "text/html": [
       "<strong id=\"expr\">expr:</strong> <a class=\"ProveItLink\" href=\"expr.ipynb\"><img src=\"data:image/png;base64,iVBORw0KGgoAAAANSUhEUgAAAKsAAAAPBAMAAABpSyLSAAAAMFBMVEX///+YmJh2dnaqqqoyMjLu\n",
       "7u5UVFS6urpEREQQEBAiIiJmZmbMzMyIiIjc3NwAAAD1oEhMAAAAAXRSTlMAQObYZgAAASJJREFU\n",
       "OMuFlDFuwjAYhZ8opFIwiAtUam/QnYW9EsrQO7AwcARmjsDUJRL1hNStUztUQuqSCyAxsPYO2An+\n",
       "/ft3+9dSnOR97z3LiWQA+EE2xo0QhrYdayFr0e/udtvOH+1s9p22al/ANW7TooEVXh41CVv66ZjU\n",
       "cpsWDcz4HZZVwg5+qpNabtOigWHurmlSgf4JuNmnGrNpUWLTK2fMV/pqrjGbFiXmdmHWgtXXD8E0\n",
       "ZlOjgblvXqwEc79rIWqZTY0Ghhc8iwqUGMykFm1qlNgbHiQbPvYmUos2NUrs7BYVbDwrIbVoU6PE\n",
       "is9GMizvstpoU6PEzKbKag91Vhttf0ffrX21dtdJT3SsbMOx0qcFzH146mz/Rml85QeSqXLtF5vQ\n",
       "LjljfX0yz+ViAAAAAElFTkSuQmCC\n",
       "\" style=\"display:inline;vertical-align:middle;\" /></a><br>"
      ],
      "text/plain": [
       "expr: FALSE or FALSE or TRUE or FALSE or FALSE"
      ]
     },
     "execution_count": 2,
     "metadata": {},
     "output_type": "execute_result"
    }
   ],
   "source": [
    "# build up the expression from sub-expressions\n",
    "expr = Or(FALSE, FALSE, TRUE, FALSE, FALSE)"
   ]
  },
  {
   "cell_type": "code",
   "execution_count": 3,
   "metadata": {},
   "outputs": [
    {
     "name": "stdout",
     "output_type": "stream",
     "text": [
      "Passed sanity check: built 'expr' is the same as the stored Expression.\n"
     ]
    }
   ],
   "source": [
    "# check that the built expression is the same as the stored expression\n",
    "%check_expr"
   ]
  },
  {
   "cell_type": "code",
   "execution_count": 4,
   "metadata": {},
   "outputs": [
    {
     "data": {
      "text/html": [
       "<table><tr><th>&nbsp;</th><th>core type</th><th>sub-expressions</th><th>expression</th></tr>\n",
       "<tr><td>0</td><td>Operation</td><td>operator:&nbsp;1<br>operands:&nbsp;2<br></td><td><a class=\"ProveItLink\" href=\"expr.ipynb\"><img src=\"data:image/png;base64,iVBORw0KGgoAAAANSUhEUgAAAKsAAAAPBAMAAABpSyLSAAAAMFBMVEX///+YmJh2dnaqqqoyMjLu\n",
       "7u5UVFS6urpEREQQEBAiIiJmZmbMzMyIiIjc3NwAAAD1oEhMAAAAAXRSTlMAQObYZgAAASJJREFU\n",
       "OMuFlDFuwjAYhZ8opFIwiAtUam/QnYW9EsrQO7AwcARmjsDUJRL1hNStUztUQuqSCyAxsPYO2An+\n",
       "/ft3+9dSnOR97z3LiWQA+EE2xo0QhrYdayFr0e/udtvOH+1s9p22al/ANW7TooEVXh41CVv66ZjU\n",
       "cpsWDcz4HZZVwg5+qpNabtOigWHurmlSgf4JuNmnGrNpUWLTK2fMV/pqrjGbFiXmdmHWgtXXD8E0\n",
       "ZlOjgblvXqwEc79rIWqZTY0Ghhc8iwqUGMykFm1qlNgbHiQbPvYmUos2NUrs7BYVbDwrIbVoU6PE\n",
       "is9GMizvstpoU6PEzKbKag91Vhttf0ffrX21dtdJT3SsbMOx0qcFzH146mz/Rml85QeSqXLtF5vQ\n",
       "LjljfX0yz+ViAAAAAElFTkSuQmCC\n",
       "\" style=\"display:inline;vertical-align:middle;\" /></a></td></tr>\n",
       "<tr><td>1</td><td>Literal</td><td></td><td><a class=\"ProveItLink\" href=\"../087d0b4ded7c7e5bf3bba05ecb616d7a8051ff650/expr.ipynb\"><img src=\"data:image/png;base64,iVBORw0KGgoAAAANSUhEUgAAAAwAAAAOBAMAAADpk+DfAAAALVBMVEX///+YmJh2dnZmZmaqqqrc\n",
       "3NwyMjLu7u4iIiJERESIiIhUVFTMzMy6uroAAAD0I/TTAAAAAXRSTlMAQObYZgAAAEtJREFUCNdj\n",
       "uMAABDwMe0DUKoaTIKqdgS2AgYHFAITAzHYGsMQqBoa9QIqDgT0BSDE7MAkAKdYEDpAehj1SYOpk\n",
       "O5hiMwBTPAUMDAB33Atnw8aG2QAAAABJRU5ErkJggg==\n",
       "\" style=\"display:inline;vertical-align:middle;\" /></a></td></tr>\n",
       "<tr><td>2</td><td>ExprTuple</td><td>4, 4, 3, 4, 4</td><td><a class=\"ProveItLink\" href=\"../71722ee6dc60d70c12dec93c1bfe25130ad312b80/expr.ipynb\"><img src=\"data:image/png;base64,iVBORw0KGgoAAAANSUhEUgAAAIEAAAAVBAMAAACTeZA2AAAAMFBMVEX////c3NwiIiJERESqqqqY\n",
       "mJh2dnZmZmYQEBDu7u4yMjJUVFTMzMyIiIi6uroAAAAs73DqAAAAAXRSTlMAQObYZgAAAO1JREFU\n",
       "OMtjYKAc8F2gQHMciDgNIhiRjZGFs4qUQEAZxsVUxX4ASKwEsXgKkOSOM+DgYFG1gIGB9wJFJoQx\n",
       "MHBMoMiEGQwMrxgoMoHZgaGMMhPYChiWUmYCywKGPspM4Gtg+EeZCTwfqGBCC8W+MEWSm4Akx8mA\n",
       "ycFUxcC6gCEdIcf5CUluvgImB1MVKDYfAbMHMPc0KSkZcPYLgDOTBigzzfgIUXgMnPI+4lDFwPWA\n",
       "gUMAKaMjsRkeMuDgoKgCpmrWBASXFVlTAC4OiqpcWO4m1wROYO5mkEbwkQsQXgZcHGRV3ALoBQ+p\n",
       "4A4DAwCguFca8gbtWAAAAABJRU5ErkJggg==\n",
       "\" style=\"display:inline;vertical-align:middle;\" /></a></td></tr>\n",
       "<tr><td>3</td><td>Literal</td><td></td><td><a class=\"ProveItLink\" href=\"../../../__pv_it/68a87cc3370287d726c7086ace789e680e4461c30/expr.ipynb\"><img src=\"data:image/png;base64,iVBORw0KGgoAAAANSUhEUgAAAA4AAAAOBAMAAADtZjDiAAAAFVBMVEX///92dnbMzMxEREQiIiJm\n",
       "ZmYAAABAT6GXAAAAAXRSTlMAQObYZgAAABhJREFUCNdjCHEBAWcGIFBlgABa0YpADAAxegPJJk4d\n",
       "XAAAAABJRU5ErkJggg==\n",
       "\" style=\"display:inline;vertical-align:middle;\" /></a></td></tr>\n",
       "<tr><td>4</td><td>Literal</td><td></td><td><a class=\"ProveItLink\" href=\"../../../__pv_it/8f1f7fac882de28c72b62ab80a1700b6d8fd066b0/expr.ipynb\"><img src=\"data:image/png;base64,iVBORw0KGgoAAAANSUhEUgAAAA4AAAAOBAMAAADtZjDiAAAAG1BMVEX///9EREQQEBAiIiJmZmbM\n",
       "zMyIiIjc3NwAAACryk5kAAAAAXRSTlMAQObYZgAAABlJREFUCNdjYGBgKGOAgBBa0s7GxkbGxoYA\n",
       "FMUF2aBfHgoAAAAASUVORK5CYII=\n",
       "\" style=\"display:inline;vertical-align:middle;\" /></a></td></tr>\n",
       "</table>\n"
      ],
      "text/plain": [
       "0. FALSE or FALSE or TRUE or FALSE or FALSE\n",
       "   core type: Operation\n",
       "   operator: 1\n",
       "   operands: 2\n",
       "1. or\n",
       "   core type: Literal\n",
       "   sub-expressions: \n",
       "2. (FALSE , FALSE , TRUE , FALSE , FALSE)\n",
       "   core type: ExprTuple\n",
       "   sub-expressions: 4, 4, 3, 4, 4\n",
       "3. TRUE\n",
       "   core type: Literal\n",
       "   sub-expressions: \n",
       "4. FALSE\n",
       "   core type: Literal\n",
       "   sub-expressions: "
      ]
     },
     "execution_count": 4,
     "metadata": {},
     "output_type": "execute_result"
    }
   ],
   "source": [
    "# display the expression information\n",
    "expr.exprInfo()"
   ]
  },
  {
   "cell_type": "code",
   "execution_count": null,
   "metadata": {},
   "outputs": [],
   "source": []
  }
 ],
 "metadata": {
  "kernelspec": {
   "display_name": "Python 3",
   "language": "python",
   "name": "python3"
  }
 },
 "nbformat": 4,
 "nbformat_minor": 0
}
