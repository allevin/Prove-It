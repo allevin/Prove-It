{
 "cells": [
  {
   "cell_type": "markdown",
   "metadata": {},
   "source": [
    "Expression of type <a class=\"ProveItLink\" href=\"../../../../../../../doc/html/api/proveit.ExprTuple.html\">ExprTuple</a>\n",
    "=======================\n",
    "# from context <a class=\"ProveItLink\" href=\"../../_context_.ipynb\">proveit.logic.boolean.disjunction</a>"
   ]
  },
  {
   "cell_type": "code",
   "execution_count": 1,
   "metadata": {},
   "outputs": [],
   "source": [
    "# import Expression classes needed to build the expression\n",
    "from proveit import ExprTuple\n",
    "from proveit._common_ import B\n",
    "from proveit.logic import And, Booleans, InSet, Not\n",
    "from proveit.logic.boolean.negation._theorems_ import notFalse"
   ]
  },
  {
   "cell_type": "code",
   "execution_count": 2,
   "metadata": {},
   "outputs": [
    {
     "data": {
      "text/html": [
       "<strong id=\"expr\">expr:</strong> <a class=\"ProveItLink\" href=\"expr.ipynb\"><img src=\"data:image/png;base64,iVBORw0KGgoAAAANSUhEUgAAAOMAAAAVBAMAAABGa0R7AAAAMFBMVEX////c3NwiIiJERESqqqqY\n",
       "mJh2dnZmZmYQEBDu7u4yMjJUVFTMzMyIiIi6uroAAAAs73DqAAAAAXRSTlMAQObYZgAAArRJREFU\n",
       "SMfFVk1oE1EQniRNk5if5mqlEFaQgiBBFLQXe/PgJSAERKi5SE8FKdKTQtVePFiCgpReTJUiOZmD\n",
       "Fw1i8aLYgzl4khbTHooUChbRQ4utOz9vd97b0pKTA9++fW/nfd/u7MzsAvwHK3R68d4SWDZ2NOeY\n",
       "Aiz7uL7fbo90LZ/+VyM798+5O3MtRmBDeEgtOW7L4alQo4sBNPHCA3+yZ29LFDrzT2sO17E6I7CP\n",
       "dGzI7LiMTeUh1A0IkMcY5P762I1I5rsNR3JV4EhWZfaSh7yKq6GuQoA03nN+GyD5h1wy3zyvIZJ9\n",
       "lTeO5EOBIzkn9Gc5AGkVB0M9BwE2iX4aIM5Un6+pp1wrO2nRYLiSiVEaslv8eJs6WEKNLoIpXB9o\n",
       "QewF3Vrsogrsh6t1WzJVY7iS/bdomIcSjVPKwVCji2AR17+8W52ssFAxlPT2H7nZU2G4kn385Dfh\n",
       "No2LysFQo4tgFte/FyFzmjyeWOnzlQOb8tD8p0t3GZM4PxVKFqZpKMEgjbNqi6FGFwGVxgWUpbv/\n",
       "gZ4mfaC8YZfkQJcRFh9L5n7iMdmBLFXontpiqNFFQJexPm7U7CImyUQvkvG6tAktaaiV5Axe+u0f\n",
       "3lPWPT5UMj3KcCU5sJd9LODJTLgloFaBPS+1E9vhPK9YkhuQ0ZKJCsOVTNKrWBBZ4pQtATW6CMal\n",
       "dj5xk8qcUZLJu2V4VjILS2GmM6FTJDnMtThOx8MtAbUqknU/uy7ttt+axB68E7T1X8Ov/W6xrVtB\n",
       "iSHmJ+6w5530Cwffb7Zret16WMgBNboI0kWn9q4896z+sqYn9wSOUcMr0CnqRjjBanjJ2hFfSKvy\n",
       "q6qHK5uwpwdxTig0e5GMfLw4AdwPTpQTXQzgxOGKeWsWazFsy7qBjHKiiwHEevoRGTJ/AtpW3IUo\n",
       "50qIf1uO6Ib8ftN+AAAAAElFTkSuQmCC\n",
       "\" style=\"display:inline;vertical-align:middle;\" /></a><br>"
      ],
      "text/plain": [
       "expr: (B in BOOLEANS , [not]([not](FALSE) and [not](B)))"
      ]
     },
     "execution_count": 2,
     "metadata": {},
     "output_type": "execute_result"
    }
   ],
   "source": [
    "# build up the expression from sub-expressions\n",
    "expr = ExprTuple(InSet(B, Booleans), Not(And(notFalse.expr, Not(B))))"
   ]
  },
  {
   "cell_type": "code",
   "execution_count": 3,
   "metadata": {},
   "outputs": [
    {
     "name": "stdout",
     "output_type": "stream",
     "text": [
      "Passed sanity check: built 'expr' is the same as the stored Expression.\n"
     ]
    }
   ],
   "source": [
    "# check that the built expression is the same as the stored expression\n",
    "%check_expr"
   ]
  },
  {
   "cell_type": "code",
   "execution_count": 4,
   "metadata": {},
   "outputs": [
    {
     "data": {
      "text/html": [
       "<table><tr><th>&nbsp;</th><th>core type</th><th>sub-expressions</th><th>expression</th></tr>\n",
       "<tr><td>0</td><td>ExprTuple</td><td>1, 2</td><td><a class=\"ProveItLink\" href=\"expr.ipynb\"><img src=\"data:image/png;base64,iVBORw0KGgoAAAANSUhEUgAAAOMAAAAVBAMAAABGa0R7AAAAMFBMVEX////c3NwiIiJERESqqqqY\n",
       "mJh2dnZmZmYQEBDu7u4yMjJUVFTMzMyIiIi6uroAAAAs73DqAAAAAXRSTlMAQObYZgAAArRJREFU\n",
       "SMfFVk1oE1EQniRNk5if5mqlEFaQgiBBFLQXe/PgJSAERKi5SE8FKdKTQtVePFiCgpReTJUiOZmD\n",
       "Fw1i8aLYgzl4khbTHooUChbRQ4utOz9vd97b0pKTA9++fW/nfd/u7MzsAvwHK3R68d4SWDZ2NOeY\n",
       "Aiz7uL7fbo90LZ/+VyM798+5O3MtRmBDeEgtOW7L4alQo4sBNPHCA3+yZ29LFDrzT2sO17E6I7CP\n",
       "dGzI7LiMTeUh1A0IkMcY5P762I1I5rsNR3JV4EhWZfaSh7yKq6GuQoA03nN+GyD5h1wy3zyvIZJ9\n",
       "lTeO5EOBIzkn9Gc5AGkVB0M9BwE2iX4aIM5Un6+pp1wrO2nRYLiSiVEaslv8eJs6WEKNLoIpXB9o\n",
       "QewF3Vrsogrsh6t1WzJVY7iS/bdomIcSjVPKwVCji2AR17+8W52ssFAxlPT2H7nZU2G4kn385Dfh\n",
       "No2LysFQo4tgFte/FyFzmjyeWOnzlQOb8tD8p0t3GZM4PxVKFqZpKMEgjbNqi6FGFwGVxgWUpbv/\n",
       "gZ4mfaC8YZfkQJcRFh9L5n7iMdmBLFXontpiqNFFQJexPm7U7CImyUQvkvG6tAktaaiV5Axe+u0f\n",
       "3lPWPT5UMj3KcCU5sJd9LODJTLgloFaBPS+1E9vhPK9YkhuQ0ZKJCsOVTNKrWBBZ4pQtATW6CMal\n",
       "dj5xk8qcUZLJu2V4VjILS2GmM6FTJDnMtThOx8MtAbUqknU/uy7ttt+axB68E7T1X8Ov/W6xrVtB\n",
       "iSHmJ+6w5530Cwffb7Zret16WMgBNboI0kWn9q4896z+sqYn9wSOUcMr0CnqRjjBanjJ2hFfSKvy\n",
       "q6qHK5uwpwdxTig0e5GMfLw4AdwPTpQTXQzgxOGKeWsWazFsy7qBjHKiiwHEevoRGTJ/AtpW3IUo\n",
       "50qIf1uO6Ib8ftN+AAAAAElFTkSuQmCC\n",
       "\" style=\"display:inline;vertical-align:middle;\" /></a></td></tr>\n",
       "<tr><td>1</td><td>Operation</td><td>operator:&nbsp;3<br>operands:&nbsp;4<br></td><td><a class=\"ProveItLink\" href=\"../41a86ef0ff9417c73c472e1bdfa161b308e2753e0/expr.ipynb\"><img src=\"data:image/png;base64,iVBORw0KGgoAAAANSUhEUgAAADcAAAAPBAMAAACy3Eq1AAAAMFBMVEX///+qqqru7u4iIiJ2dnbc\n",
       "3NyIiIjMzMxmZmYQEBC6uroyMjJERERUVFSYmJgAAADLUcuvAAAAAXRSTlMAQObYZgAAAOZJREFU\n",
       "GNNjYGB4+//u3dMLGJCB95/9O20EwMw5DAwcv1AkGQ4sY9rkAmKwfwPiv+iSDFncIAbbVwYGvi9g\n",
       "MbXNxtYwSTleBSCDZwIDA/MksBn7FJB0xoAY/BcYWPeARWMUEMay2x0CMeqvpTU/AAsdRdi52P5n\n",
       "AoiRH8DAZAtiMB1AdlCaDIhxEqQApJVrsrExwkE8XA5ABsgX70EM9gvIOnkYgAax/wNy7oOCg8kA\n",
       "QxLkTdbfYKF7KJIgY0HerNwEFlJegCT5IgcYquf/3r29DyLEuqMAHvCH5wqghigD422oayEAAEv1\n",
       "Sz0foy5uAAAAAElFTkSuQmCC\n",
       "\" style=\"display:inline;vertical-align:middle;\" /></a></td></tr>\n",
       "<tr><td>2</td><td>Operation</td><td>operator:&nbsp;12<br>operand:&nbsp;5<br></td><td><a class=\"ProveItLink\" href=\"../96d8d43c226c24b31e151ed1dc2634136a6dcc7e0/expr.ipynb\"><img src=\"data:image/png;base64,iVBORw0KGgoAAAANSUhEUgAAAJIAAAAVBAMAAABf4KrdAAAAMFBMVEX////c3NxERESqqqqYmJgQ\n",
       "EBDu7u4yMjKIiIi6urpUVFTMzMx2dnYiIiJmZmYAAABjE816AAAAAXRSTlMAQObYZgAAAbBJREFU\n",
       "OMu1lL1LA0EQxec05hLy4dVWQhRL7dKmi9goCoKFkM42iATSpUyXNMFKiJUaC0PAxib5C4JVCvEg\n",
       "vaYQBE0QdHd2Nns7d4KND97c7vLblws3uwD/oGRN2VKsGYWFEBt7IGs5uOWFJwWQne9OZ6OJiIVV\n",
       "yFqpsayuzi0FMK19gOwUETewmqgps6TYQM3cscHmxKfwDBGNSS2VlFlSfE/NeiODzX/8TUR8IaIx\n",
       "qXMyS4Kcmt3UDaa1ILZnDhWSM8uvZJ40xBovZwymtdwG57SkkKFZPiPzpDzWdCG7Nce0+tf1SYGQ\n",
       "PEx8oWcxPFLOyrk/MEktrBlwyjgIIg0P4k+EtEyPTMn4Om2T1Me6DXCLgyCyLp6NgkL6f00a6ZYM\n",
       "IjPx3B2Ekg7IPAlfe1GMXQ9sJPUunndboX+3RuZJRexLT6VZiGwn54OQIi0D+5Rd1gU9WR7BRmQ7\n",
       "3Vcg1AUXZCX5fY59fxWgin0pSx1sZHPWucKmqJL1afGUmdQxwEsjqbEIJHha+Dkkpdl19AtiYfxW\n",
       "UTrhC9GIha2QbV3yhWjEwuQd6fCrNdHl+yIR4R/dU5GYGJ06pAAAAABJRU5ErkJggg==\n",
       "\" style=\"display:inline;vertical-align:middle;\" /></a></td></tr>\n",
       "<tr><td>3</td><td>Literal</td><td></td><td><a class=\"ProveItLink\" href=\"../../../../set_theory/membership/__pv_it/088cbc857536a28d4119ad9639a84270ccb0545d0/expr.ipynb\"><img src=\"data:image/png;base64,iVBORw0KGgoAAAANSUhEUgAAAAwAAAAMBAMAAACkW0HUAAAALVBMVEX///+qqqpmZmZUVFQQEBC6\n",
       "urpERETc3NyYmJjMzMwiIiIyMjKIiIju7u4AAACYsrA9AAAAAXRSTlMAQObYZgAAADxJREFUCNdj\n",
       "YOA9vWrVBgaG2b0MQMCeCyIZ2ArA1DUwyRCyahVIyWQI7xaEYm4AU7xLIdxqTQgtvGvVBgCkcQ7e\n",
       "geM/tQAAAABJRU5ErkJggg==\n",
       "\" style=\"display:inline;vertical-align:middle;\" /></a></td></tr>\n",
       "<tr><td>4</td><td>ExprTuple</td><td>13, 6</td><td><a class=\"ProveItLink\" href=\"../46fef8cd01e90537d7ca36d1ba2c809996ed4b3a0/expr.ipynb\"><img src=\"data:image/png;base64,iVBORw0KGgoAAAANSUhEUgAAADQAAAAVBAMAAAD7ptBLAAAAMFBMVEX////c3NwiIiJERESqqqqY\n",
       "mJh2dnZmZmYQEBDu7u4yMjJUVFTMzMyIiIi6uroAAAAs73DqAAAAAXRSTlMAQObYZgAAASVJREFU\n",
       "KM9jYMAD+C5gE2V9ACROA3H0/927rR6AxbI+r1+h7MDAUANkrwQJNDMwsP+DqDd4y7kyjYGBi4GB\n",
       "F2Qez18g/g2TYrgHFGdNYOCYAOTyfgSyv8GlXLknMHA2MLwCcZkbGBiYOhG6hIG0CUMZiMu/gYFx\n",
       "8QSYFI+qJZBOZ1gK4p7fe7coAOpsg0f6P0D2ezH0gbj3BRg4tRngBt51BtIvGMBOtgBJB8ClmPkS\n",
       "gCZBpEDujk9ASDEYgKRaQN76CiT2O6BKvWAwhXqL8RcDAyeygVFAN0K8dQIYYPMVIFLhl8GOfwQM\n",
       "Pfvfu3eBPDHjIzh4jbpBZq9j4BBAioqHCCYwoFgTkKQCEEy2C9BIwZSaBcTSCC4vkqqNQMyINQHw\n",
       "HmAAAHCOVkQeB6BvAAAAAElFTkSuQmCC\n",
       "\" style=\"display:inline;vertical-align:middle;\" /></a></td></tr>\n",
       "<tr><td>5</td><td>Operation</td><td>operator:&nbsp;7<br>operands:&nbsp;8<br></td><td><a class=\"ProveItLink\" href=\"../598106154825f215699ee381e4ab6d759b478fa30/expr.ipynb\"><img src=\"data:image/png;base64,iVBORw0KGgoAAAANSUhEUgAAAHAAAAAVBAMAAABs93eRAAAAMFBMVEX////c3NwiIiJERESqqqqY\n",
       "mJh2dnZmZmYQEBDu7u4yMjJUVFTMzMyIiIi6uroAAAAs73DqAAAAAXRSTlMAQObYZgAAAZ9JREFU\n",
       "OMudlD1Iw0AUx18tqbUfaVcrYigojkUUdHMTnDo5uJhFuhYVJ8EPXHSQ4NipDiLtUCKOHezukG5O\n",
       "xeIkQgdBXQLqvXfX5rw7FwN5yXv9/Y+X/7srwL8vu6sUrL6KDMCEPEiFGC1yoGAZP1Lch+27Fkca\n",
       "MlLFmBLZpHimvIhIlgAO+4hku5rQcnl2I6o9iQgYHviIJD1NOHHEkwXx05lEPOUBtlxEXkETwiLF\n",
       "9IA3Y9clYpnd8x4i+wZhhWINHHqOuxIRAhRWCLk2CNcpbsMe96YsAWHvcZYjF2zJIl5uJHyh6ECB\n",
       "G8mGtoPEHLPyDeDSJ+RLHpYQBuRtF9IdfMkNNwSbeJz5lv0g5E/hmCcmLwtzrGJ9EnJqEFKra+y+\n",
       "olZXI2HAvjf9TsiSQbgJQoRiiJcjIY5xpk5IZWhY5/c4MiVsF7NEdbg2jTFz7hHyPLIazT0pFpmg\n",
       "hePHL6P9aDsjZPe73W5SAy1I5rWDRlvOplfy5RhMiOVq1YRyQjfAiDS0ak3J5WMlIVNa9VbJY74R\n",
       "ial/HdmOik2DjvwAeJRqxFf8mFkAAAAASUVORK5CYII=\n",
       "\" style=\"display:inline;vertical-align:middle;\" /></a></td></tr>\n",
       "<tr><td>6</td><td>Literal</td><td></td><td><a class=\"ProveItLink\" href=\"../../../__pv_it/46271c8230be96415d662709611f4ed2279d702b0/expr.ipynb\"><img src=\"data:image/png;base64,iVBORw0KGgoAAAANSUhEUgAAAA0AAAAOBAMAAAAGUYvhAAAAMFBMVEX///9mZmbMzMzc3NxUVFSY\n",
       "mJju7u6IiIi6urqqqqoiIiIQEBBEREQyMjJ2dnYAAAAQvcRZAAAAAXRSTlMAQObYZgAAAElJREFU\n",
       "CNdjePvn/u01ExgYGA60s117B6YZKngh9FSWBAjfBsxnWnoMRHet/10AkS+fA6F5OB5AaIYDqDRU\n",
       "PLCGgQFoz6ktExgAgLIl8DFvGtkAAAAASUVORK5CYII=\n",
       "\" style=\"display:inline;vertical-align:middle;\" /></a></td></tr>\n",
       "<tr><td>7</td><td>Literal</td><td></td><td><a class=\"ProveItLink\" href=\"../../../conjunction/__pv_it/76b5f4f4c45c0b6a9b59b297fc07dfa9555698f50/expr.ipynb\"><img src=\"data:image/png;base64,iVBORw0KGgoAAAANSUhEUgAAAAwAAAAOBAMAAADpk+DfAAAALVBMVEX///+qqqqYmJh2dnaIiIi6\n",
       "urpUVFQiIiJERETMzMxmZmYyMjLu7u7c3NwAAABvwqPxAAAAAXRSTlMAQObYZgAAAEtJREFUCNdj\n",
       "YGDgPcAAAtwLwNSMGjCV6gIieTawgyhmBS4BIMXOwLsBSKkwMGQCKaC6aQwMjEBd3BdACMScAVJd\n",
       "wJAKolwYAkAUKwAk0guX6efcigAAAABJRU5ErkJggg==\n",
       "\" style=\"display:inline;vertical-align:middle;\" /></a></td></tr>\n",
       "<tr><td>8</td><td>ExprTuple</td><td>9, 10</td><td><a class=\"ProveItLink\" href=\"../fb43e214b3314dc2c367d89e9f3163bddb8e62310/expr.ipynb\"><img src=\"data:image/png;base64,iVBORw0KGgoAAAANSUhEUgAAAFIAAAAVBAMAAAAnX6R8AAAAMFBMVEX////c3NwiIiJERESqqqqY\n",
       "mJh2dnZmZmYQEBDu7u4yMjJUVFTMzMyIiIi6uroAAAAs73DqAAAAAXRSTlMAQObYZgAAARhJREFU\n",
       "KM9jYCAe8F0gQhHrAyBxGkmAEUMX6/7fuzevY2CoAbJXIonzFGCYxmHAwFD/gIGLgYH3An6V54Hy\n",
       "5zcwsCYwcEzAr/K+AANDfAIDZwPDKwb8Ki2AWANomglDGQGVvxkYpCyBdDrDUvwqeX7fva4KYngx\n",
       "9DEwsCuBQAKKyiKQkBrQwx8ZGCZtAAq8YPgH07wB00xgUDM3AFV/BYUBIZX8QGHWb2CVLfhVng9g\n",
       "YOD+ArbdFFPlBCSVoOCUXwBkRwF9DwUHYCo5P8E9Dg5Onq4J4FB6BLcLFARNSkoGnP0CcLHi/7t3\n",
       "rwoAsdYxcAhgpkNMIVBssiZgJkYsCZTtAmqqw61yFhBLY4hiywQbsaZzLID3AAMAA/dKLLFTs+0A\n",
       "AAAASUVORK5CYII=\n",
       "\" style=\"display:inline;vertical-align:middle;\" /></a></td></tr>\n",
       "<tr><td>9</td><td>Operation</td><td>operator:&nbsp;12<br>operand:&nbsp;11<br></td><td><a class=\"ProveItLink\" href=\"../../../negation/__pv_it/01165fd25131c0df966b8e8c1626e275fd04f3050/expr.ipynb\"><img src=\"data:image/png;base64,iVBORw0KGgoAAAANSUhEUgAAABwAAAAOBAMAAADOPWE3AAAAIVBMVEX///9EREQQEBCIiIjc3NxU\n",
       "VFTMzMx2dnYiIiJmZmYAAADo3DW1AAAAAXRSTlMAQObYZgAAACVJREFUCNdjYIADZwYUkEll7owO\n",
       "IGhHlU2lgMuGbhHQgqaOjkYA4xoNxELsxwMAAAAASUVORK5CYII=\n",
       "\" style=\"display:inline;vertical-align:middle;\" /></a></td></tr>\n",
       "<tr><td>10</td><td>Operation</td><td>operator:&nbsp;12<br>operand:&nbsp;13<br></td><td><a class=\"ProveItLink\" href=\"../1da4e2fe7c44632f084fa27ea32e26dc689384c20/expr.ipynb\"><img src=\"data:image/png;base64,iVBORw0KGgoAAAANSUhEUgAAAB0AAAAOBAMAAAAh/woJAAAAMFBMVEX///+qqqru7u7c3NyIiIgQ\n",
       "EBC6uroyMjJERESYmJhUVFTMzMx2dnYiIiJmZmYAAADtoHoAAAAAAXRSTlMAQObYZgAAAHpJREFU\n",
       "CNdjYIACzvW/Vq0oY0AA1gYGhvcJCP5+ByBegOD7GzAwzD+A4LcC8VUFBP8XA4N5E4LL/cvF7yaQ\n",
       "fnsXCO4wMLB8ZmDQhRm3i4GBIwAo9hPB5wfKcf5B8PdPYGDg+ojgg6y3L4AZDraeOxxh/Yv/q1aV\n",
       "A7UAAFRxJOZ+1MVPAAAAAElFTkSuQmCC\n",
       "\" style=\"display:inline;vertical-align:middle;\" /></a></td></tr>\n",
       "<tr><td>11</td><td>Literal</td><td></td><td><a class=\"ProveItLink\" href=\"../../../__pv_it/8f1f7fac882de28c72b62ab80a1700b6d8fd066b0/expr.ipynb\"><img src=\"data:image/png;base64,iVBORw0KGgoAAAANSUhEUgAAAA4AAAAOBAMAAADtZjDiAAAAG1BMVEX///9EREQQEBAiIiJmZmbM\n",
       "zMyIiIjc3NwAAACryk5kAAAAAXRSTlMAQObYZgAAABlJREFUCNdjYGBgKGOAgBBa0s7GxkbGxoYA\n",
       "FMUF2aBfHgoAAAAASUVORK5CYII=\n",
       "\" style=\"display:inline;vertical-align:middle;\" /></a></td></tr>\n",
       "<tr><td>12</td><td>Literal</td><td></td><td><a class=\"ProveItLink\" href=\"../../../negation/__pv_it/7bea79645543c2413aa17e787cca04e21046fde60/expr.ipynb\"><img src=\"data:image/png;base64,iVBORw0KGgoAAAANSUhEUgAAAAwAAAAGBAMAAAAFwGKyAAAAFVBMVEX///9UVFTMzMx2dnYiIiJm\n",
       "ZmYAAACWz4ZEAAAAAXRSTlMAQObYZgAAABRJREFUCNdjCHEBAmcGMFDEQzEBAEl+Ai6uYJv/AAAA\n",
       "AElFTkSuQmCC\n",
       "\" style=\"display:inline;vertical-align:middle;\" /></a></td></tr>\n",
       "<tr><td>13</td><td>Variable</td><td></td><td><a class=\"ProveItLink\" href=\"../../../../../__pv_it/077b2ff79244fb4582cbe22c6e3356fa92a52f2f0/expr.ipynb\"><img src=\"data:image/png;base64,iVBORw0KGgoAAAANSUhEUgAAABAAAAAOBAMAAADUAYG5AAAAMFBMVEX///+qqqru7u4iIiJ2dnbc\n",
       "3NyIiIjMzMxmZmYQEBC6uroyMjJERERUVFSYmJgAAADLUcuvAAAAAXRSTlMAQObYZgAAAGpJREFU\n",
       "CNdjYGB4+//u3dMLGIBgDgMDxy8gzf4NiP8CGWxfGRj4vgAZPBMYGJgnARn8FxhY9ygAGfXX0pof\n",
       "gDTlBzAw2YIYJ0EckBBI53sHoBH/gIz7AhBjWH9DjancBLTl/N+7t/cxMAAA3u4f/5xagjYAAAAA\n",
       "SUVORK5CYII=\n",
       "\" style=\"display:inline;vertical-align:middle;\" /></a></td></tr>\n",
       "</table>\n"
      ],
      "text/plain": [
       "0. (B in BOOLEANS , [not]([not](FALSE) and [not](B)))\n",
       "   core type: ExprTuple\n",
       "   sub-expressions: 1, 2\n",
       "1. B in BOOLEANS\n",
       "   core type: Operation\n",
       "   operator: 3\n",
       "   operands: 4\n",
       "2. [not]([not](FALSE) and [not](B))\n",
       "   core type: Operation\n",
       "   operator: 12\n",
       "   operand: 5\n",
       "3. in\n",
       "   core type: Literal\n",
       "   sub-expressions: \n",
       "4. (B , BOOLEANS)\n",
       "   core type: ExprTuple\n",
       "   sub-expressions: 13, 6\n",
       "5. [not](FALSE) and [not](B)\n",
       "   core type: Operation\n",
       "   operator: 7\n",
       "   operands: 8\n",
       "6. BOOLEANS\n",
       "   core type: Literal\n",
       "   sub-expressions: \n",
       "7. and\n",
       "   core type: Literal\n",
       "   sub-expressions: \n",
       "8. ([not](FALSE) , [not](B))\n",
       "   core type: ExprTuple\n",
       "   sub-expressions: 9, 10\n",
       "9. [not](FALSE)\n",
       "   core type: Operation\n",
       "   operator: 12\n",
       "   operand: 11\n",
       "10. [not](B)\n",
       "    core type: Operation\n",
       "    operator: 12\n",
       "    operand: 13\n",
       "11. FALSE\n",
       "    core type: Literal\n",
       "    sub-expressions: \n",
       "12. not\n",
       "    core type: Literal\n",
       "    sub-expressions: \n",
       "13. B\n",
       "    core type: Variable\n",
       "    sub-expressions: "
      ]
     },
     "execution_count": 4,
     "metadata": {},
     "output_type": "execute_result"
    }
   ],
   "source": [
    "# display the expression information\n",
    "expr.exprInfo()"
   ]
  },
  {
   "cell_type": "code",
   "execution_count": null,
   "metadata": {},
   "outputs": [],
   "source": []
  }
 ],
 "metadata": {
  "kernelspec": {
   "display_name": "Python 3",
   "language": "python",
   "name": "python3"
  }
 },
 "nbformat": 4,
 "nbformat_minor": 0
}
