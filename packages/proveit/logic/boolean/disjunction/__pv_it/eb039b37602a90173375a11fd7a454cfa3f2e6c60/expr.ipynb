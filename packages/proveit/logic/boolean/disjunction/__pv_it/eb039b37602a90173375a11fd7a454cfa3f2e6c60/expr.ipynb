{
 "cells": [
  {
   "cell_type": "markdown",
   "metadata": {},
   "source": [
    "Expression of type <a class=\"ProveItLink\" href=\"../../../../../../../doc/html/api/proveit.logic.Equals.html\">Equals</a>\n",
    "=======================\n",
    "# from context <a class=\"ProveItLink\" href=\"../../_context_.ipynb\">proveit.logic.boolean.disjunction</a>"
   ]
  },
  {
   "cell_type": "code",
   "execution_count": 1,
   "metadata": {},
   "outputs": [],
   "source": [
    "# import Expression classes needed to build the expression\n",
    "from proveit.logic import Equals, Or, TRUE"
   ]
  },
  {
   "cell_type": "code",
   "execution_count": 2,
   "metadata": {},
   "outputs": [
    {
     "data": {
      "text/html": [
       "<strong id=\"expr\">expr:</strong> <a class=\"ProveItLink\" href=\"expr.ipynb\"><img src=\"data:image/png;base64,iVBORw0KGgoAAAANSUhEUgAAAGYAAAAVBAMAAABGR4Y+AAAAMFBMVEX///8QEBCYmJhmZmaqqqrc\n",
       "3Nzu7u5ERERUVFS6urp2dnbMzMwyMjIiIiKIiIgAAACFNc/vAAAAAXRSTlMAQObYZgAAARVJREFU\n",
       "OMtjYCADvD0NZejcBFPz4DKaOPWsRGVxNzDY3gWB6wzMG9DVwmRWMnCC+RsgengSQORmsNABLFZs\n",
       "hpjOATKP7wFEzzuEDIMWbj3cBUCKNwGiRwxJTyJuPQxHgZQzxD+cB5D0sDvg1gNUD9IH0sO8AEkP\n",
       "lwFuPUB3gdwH0sOjgKSHBWypzRkQOIGmB+h/jgkQPYwTkPRwCuC2h+ECQw6UxY+sh/sDHj0mDItI\n",
       "1hMDtAnqNgcMt8EiH00Px6YHUBY7chgwHcBjD3dtApQFDV7CYc3AcBjG4rwAltkFJnkmYOrZBdez\n",
       "Dc4SRZJPJDIvIKfLdUTqgeQFMGA7QKQe1gY4nyMAZ96+DWNA8nYcXOY1Li0AMVpnxqgw7xgAAAAA\n",
       "SUVORK5CYII=\n",
       "\" style=\"display:inline;vertical-align:middle;\" /></a><br>"
      ],
      "text/plain": [
       "expr: [or](TRUE) = TRUE"
      ]
     },
     "execution_count": 2,
     "metadata": {},
     "output_type": "execute_result"
    }
   ],
   "source": [
    "# build up the expression from sub-expressions\n",
    "expr = Equals(Or(TRUE), TRUE)"
   ]
  },
  {
   "cell_type": "code",
   "execution_count": 3,
   "metadata": {},
   "outputs": [
    {
     "name": "stdout",
     "output_type": "stream",
     "text": [
      "Passed sanity check: built 'expr' is the same as the stored Expression.\n"
     ]
    }
   ],
   "source": [
    "# check that the built expression is the same as the stored expression\n",
    "%check_expr"
   ]
  },
  {
   "cell_type": "code",
   "execution_count": 4,
   "metadata": {},
   "outputs": [
    {
     "data": {
      "text/html": [
       "<table><tr><th>&nbsp;</th><th>core type</th><th>sub-expressions</th><th>expression</th></tr>\n",
       "<tr><td>0</td><td>Operation</td><td>operator:&nbsp;1<br>operands:&nbsp;2<br></td><td><a class=\"ProveItLink\" href=\"expr.ipynb\"><img src=\"data:image/png;base64,iVBORw0KGgoAAAANSUhEUgAAAGYAAAAVBAMAAABGR4Y+AAAAMFBMVEX///8QEBCYmJhmZmaqqqrc\n",
       "3Nzu7u5ERERUVFS6urp2dnbMzMwyMjIiIiKIiIgAAACFNc/vAAAAAXRSTlMAQObYZgAAARVJREFU\n",
       "OMtjYCADvD0NZejcBFPz4DKaOPWsRGVxNzDY3gWB6wzMG9DVwmRWMnCC+RsgengSQORmsNABLFZs\n",
       "hpjOATKP7wFEzzuEDIMWbj3cBUCKNwGiRwxJTyJuPQxHgZQzxD+cB5D0sDvg1gNUD9IH0sO8AEkP\n",
       "lwFuPUB3gdwH0sOjgKSHBWypzRkQOIGmB+h/jgkQPYwTkPRwCuC2h+ECQw6UxY+sh/sDHj0mDItI\n",
       "1hMDtAnqNgcMt8EiH00Px6YHUBY7chgwHcBjD3dtApQFDV7CYc3AcBjG4rwAltkFJnkmYOrZBdez\n",
       "Dc4SRZJPJDIvIKfLdUTqgeQFMGA7QKQe1gY4nyMAZ96+DWNA8nYcXOY1Li0AMVpnxqgw7xgAAAAA\n",
       "SUVORK5CYII=\n",
       "\" style=\"display:inline;vertical-align:middle;\" /></a></td></tr>\n",
       "<tr><td>1</td><td>Literal</td><td></td><td><a class=\"ProveItLink\" href=\"../../../../equality/__pv_it/2fb26078095930560931daa0500ce419a39ea6cd0/expr.ipynb\"><img src=\"data:image/png;base64,iVBORw0KGgoAAAANSUhEUgAAAA4AAAAFBAMAAACHocAhAAAAFVBMVEX///9EREQiIiJUVFQyMjJm\n",
       "ZmYAAADubVkoAAAAAXRSTlMAQObYZgAAABRJREFUCNdjCHEBAWcGXCBICQQUAUpuAwlgGKrkAAAA\n",
       "AElFTkSuQmCC\n",
       "\" style=\"display:inline;vertical-align:middle;\" /></a></td></tr>\n",
       "<tr><td>2</td><td>ExprTuple</td><td>3, 6</td><td><a class=\"ProveItLink\" href=\"../3be9cf6e6ffc01efdbdc7c6649c5b659f540e2740/expr.ipynb\"><img src=\"data:image/png;base64,iVBORw0KGgoAAAANSUhEUgAAAGYAAAAVBAMAAABGR4Y+AAAAMFBMVEX////c3NwiIiJERESqqqqY\n",
       "mJh2dnZmZmYQEBDu7u4yMjJUVFTMzMyIiIi6uroAAAAs73DqAAAAAXRSTlMAQObYZgAAAYhJREFU\n",
       "OMudk71KA0EQgEfj5X5zXq0IIbYiQbRPJ1hZWaSQNGKlBBEriwg2NnqlWJ2FiCCSvME1KmLhkVrh\n",
       "sBJBEB9AnNndu5vcFopb7M7Ozrc7MzsD8J/hJzC8VnJ7Xiwf+eG6Zm6kOD0CbOcaIXl92GnQmAUz\n",
       "zk5MoWk0YR83V2TpC30sGSek+V6oIvaE1xWnALWEGJfuQ1EwL1AwaxpjdMAKifGauBsPJXPEmFON\n",
       "sXvwLqM4x2VZxuNHjKm0ygwswp5k0J44YswOY6pdjdmEC8mgX+QfMc4qYyYijVmBY8lg/G4qGStl\n",
       "jN/TmDf4Vr9ShzMlTXLG+9SYp5zZhY0/M4fKcgpfUr61fvNtSVm6t4mSKjwHBuUgHGHamDlp6S2E\n",
       "SlLpLXJtf5Vy/ZpV5mVWo35dHN2J2cHg7JNAMvLjbsAKFPOQ1/UBqxdRO37ANFg7WHLlXuB1uSWC\n",
       "4g1UTVQvjDBOWFwaaQx947TGjPXzvSu8SjgzIAvs7Tm1H8renskNnrXersXwA9jTZbvUTd96AAAA\n",
       "AElFTkSuQmCC\n",
       "\" style=\"display:inline;vertical-align:middle;\" /></a></td></tr>\n",
       "<tr><td>3</td><td>Operation</td><td>operator:&nbsp;4<br>operands:&nbsp;5<br></td><td><a class=\"ProveItLink\" href=\"../54da8b562eb61b1391636cf9ce4aecb33c0076820/expr.ipynb\"><img src=\"data:image/png;base64,iVBORw0KGgoAAAANSUhEUgAAADkAAAAVBAMAAAAOWFv7AAAAMFBMVEX///8QEBCYmJhmZmaqqqrc\n",
       "3Nzu7u5ERERUVFS6urp2dnbMzMwyMjIiIiKIiIgAAACFNc/vAAAAAXRSTlMAQObYZgAAAPxJREFU\n",
       "KM9jYMAL3p6GMnRugql5cBlNIF4J54FZ3A0MtndB4DoD8waQGCdYbgNElicBRG4GCx0AyXIA1TDw\n",
       "PYDIvmNAyGqBZLkLgCzeBIisGJJsIti2o0CWM8RezgNIsuwOIDGgDEgFSJZ5AZIslwFIDGgqyHSQ\n",
       "LI8CkizLAZAY0EUcEyCyjBOQZDkFwGIXGHKg/uVHluX+ABYzYViERzYGqBtqsgOmyRybHkBl2ZFd\n",
       "xQR2FQN3bQJUFugJdB8xMByGxQLnBbD4LjDJMwEiuw0eR6JIkZuIEYNaSLLrMGQhMQgGbAcwZFkb\n",
       "4HyOAGDKuQ1LQpCUEweXfc3AAAAv5E7ekflR5wAAAABJRU5ErkJggg==\n",
       "\" style=\"display:inline;vertical-align:middle;\" /></a></td></tr>\n",
       "<tr><td>4</td><td>Literal</td><td></td><td><a class=\"ProveItLink\" href=\"../087d0b4ded7c7e5bf3bba05ecb616d7a8051ff650/expr.ipynb\"><img src=\"data:image/png;base64,iVBORw0KGgoAAAANSUhEUgAAAAwAAAAOBAMAAADpk+DfAAAALVBMVEX///+YmJh2dnZmZmaqqqrc\n",
       "3NwyMjLu7u4iIiJERESIiIhUVFTMzMy6uroAAAD0I/TTAAAAAXRSTlMAQObYZgAAAEtJREFUCNdj\n",
       "uMAABDwMe0DUKoaTIKqdgS2AgYHFAITAzHYGsMQqBoa9QIqDgT0BSDE7MAkAKdYEDpAehj1SYOpk\n",
       "O5hiMwBTPAUMDAB33Atnw8aG2QAAAABJRU5ErkJggg==\n",
       "\" style=\"display:inline;vertical-align:middle;\" /></a></td></tr>\n",
       "<tr><td>5</td><td>ExprTuple</td><td>6</td><td><a class=\"ProveItLink\" href=\"../c0007fe84c08caa977bfa6dfedd9e5ac081301b70/expr.ipynb\"><img src=\"data:image/png;base64,iVBORw0KGgoAAAANSUhEUgAAABwAAAAVBAMAAACnLJNvAAAAMFBMVEX////c3NwiIiJERESqqqqY\n",
       "mJh2dnZmZmYQEBDu7u4yMjJUVFTMzMyIiIi6uroAAAAs73DqAAAAAXRSTlMAQObYZgAAAIJJREFU\n",
       "GNNjYEADfBdgLNYHQOI0A7sSGBgw1AC5K0ESPAUgkouBgfcCgsuawMAxAcHlbGB4xYDgMpgwlCFz\n",
       "0xmWInO9GPqQuS8Y/iFzz6NzW1AVmyJzo4Bmo1j0CMJNAFPrGDgEEH4FOpI1AcFluwD1IATMAmJp\n",
       "BHcjEDPCA4f3AAMAkwcfPErPFToAAAAASUVORK5CYII=\n",
       "\" style=\"display:inline;vertical-align:middle;\" /></a></td></tr>\n",
       "<tr><td>6</td><td>Literal</td><td></td><td><a class=\"ProveItLink\" href=\"../../../__pv_it/68a87cc3370287d726c7086ace789e680e4461c30/expr.ipynb\"><img src=\"data:image/png;base64,iVBORw0KGgoAAAANSUhEUgAAAA4AAAAOBAMAAADtZjDiAAAAFVBMVEX///92dnbMzMxEREQiIiJm\n",
       "ZmYAAABAT6GXAAAAAXRSTlMAQObYZgAAABhJREFUCNdjCHEBAWcGIFBlgABa0YpADAAxegPJJk4d\n",
       "XAAAAABJRU5ErkJggg==\n",
       "\" style=\"display:inline;vertical-align:middle;\" /></a></td></tr>\n",
       "</table>\n"
      ],
      "text/plain": [
       "0. [or](TRUE) = TRUE\n",
       "   core type: Operation\n",
       "   operator: 1\n",
       "   operands: 2\n",
       "1. =\n",
       "   core type: Literal\n",
       "   sub-expressions: \n",
       "2. ([or](TRUE) , TRUE)\n",
       "   core type: ExprTuple\n",
       "   sub-expressions: 3, 6\n",
       "3. [or](TRUE)\n",
       "   core type: Operation\n",
       "   operator: 4\n",
       "   operands: 5\n",
       "4. or\n",
       "   core type: Literal\n",
       "   sub-expressions: \n",
       "5. (TRUE)\n",
       "   core type: ExprTuple\n",
       "   sub-expressions: 6\n",
       "6. TRUE\n",
       "   core type: Literal\n",
       "   sub-expressions: "
      ]
     },
     "execution_count": 4,
     "metadata": {},
     "output_type": "execute_result"
    }
   ],
   "source": [
    "# display the expression information\n",
    "expr.exprInfo()"
   ]
  },
  {
   "cell_type": "code",
   "execution_count": null,
   "metadata": {},
   "outputs": [],
   "source": []
  }
 ],
 "metadata": {
  "kernelspec": {
   "display_name": "Python 3",
   "language": "python",
   "name": "python3"
  }
 },
 "nbformat": 4,
 "nbformat_minor": 0
}
