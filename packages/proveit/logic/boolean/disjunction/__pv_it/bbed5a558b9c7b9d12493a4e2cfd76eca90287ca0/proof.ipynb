{
 "cells": [
  {
   "cell_type": "markdown",
   "metadata": {},
   "source": [
    "Show the Proof\n",
    "========"
   ]
  },
  {
   "cell_type": "code",
   "execution_count": 1,
   "metadata": {},
   "outputs": [
    {
     "data": {
      "text/html": [
       "<table><tr><th>&nbsp;</th><th>step type</th><th>requirements</th><th>statement</th></tr>\n",
       "<tr><td>0</td><td>assumption</td><td></td><td><span style=\"font-size:20px;\"><a class=\"ProveItLink\" href=\"../bf402af890133d89e3c6c8891d3a02b640f686d50/expr.ipynb\"><img src=\"data:image/png;base64,iVBORw0KGgoAAAANSUhEUgAAAE8AAAAVBAMAAAD1D64kAAAAMFBMVEX////c3NxERESqqqpUVFS6\n",
       "urrMzMwyMjIQEBCIiIh2dnYiIiLu7u5mZmaYmJgAAABXZE4RAAAAAXRSTlMAQObYZgAAAOFJREFU\n",
       "KM9jYGDgu8eAH7CtEgBRPLsYCAG2ZhDJ+QHMOaly94EshhLGCWDqOojgagCTfQwMsX2YZl0AUyvg\n",
       "CnmqDwBZHwkrZO8BEqwNhBXeNwA56AJBhYzfwf5PwKuQtwCI/8GleMvBwAFF4XsQkRHAwMD9EVcI\n",
       "QhSyA6mUNiCDHxyWPDgVMqg/YGCIALqMA6zQDKdC7gVAggXoRpY/IC5YkHc3GChgupFrA5D/E8Q4\n",
       "wEA4HN8bMLBeZCBCIZu772UMVSBXdINdgVBIAJCmkI8IheD0yLOTcApvBVN8i4nJMwCG8kmJnNP2\n",
       "nQAAAABJRU5ErkJggg==\n",
       "\" style=\"display:inline;vertical-align:middle;\" /></a> <a class=\"ProveItLink\" href=\"proof.ipynb\" style=\"text-decoration: none\">&#x22A2;&nbsp;</a><a class=\"ProveItLink\" href=\"../51062a4565d521fc423bce91fc66a4d37c14cbec0/expr.ipynb\"><img src=\"data:image/png;base64,iVBORw0KGgoAAAANSUhEUgAAADoAAAAOBAMAAACMfhKgAAAAMFBMVEX////MzMyqqqoiIiIyMjK6\n",
       "uroQEBB2dnbc3NyYmJhmZmZUVFRERESIiIju7u4AAAB204erAAAAAXRSTlMAQObYZgAAAINJREFU\n",
       "GNNjYGDgu7NrJccCBnTQC6HKJjCwLpuAISsFJp/YAYn6Bhyybg+ARBgDdlmuTyCyC4dsvwOIfIhD\n",
       "dj3CPUtcQMAbWdYe0z1Isv/BzAc4ZPNBBJMADtn9IG1cYP5iYxCwQZaVvwAk6nDZywn0b1QDLlkG\n",
       "ae9VChhSQEvMgJYAAEKDHkrtkMG7AAAAAElFTkSuQmCC\n",
       "\" style=\"display:inline;vertical-align:middle;\" /></a></span></td></tr>\n",
       "</table>"
      ],
      "text/plain": [
       "<proveit._core_.proof._ShowProof at 0x7f94ea950b38>"
      ]
     },
     "execution_count": 1,
     "metadata": {},
     "output_type": "execute_result"
    }
   ],
   "source": [
    "import proveit\n",
    "%show_proof"
   ]
  },
  {
   "cell_type": "code",
   "execution_count": null,
   "metadata": {},
   "outputs": [],
   "source": []
  }
 ],
 "metadata": {
  "kernelspec": {
   "display_name": "Python 3",
   "language": "python",
   "name": "python3"
  }
 },
 "nbformat": 4,
 "nbformat_minor": 0
}
