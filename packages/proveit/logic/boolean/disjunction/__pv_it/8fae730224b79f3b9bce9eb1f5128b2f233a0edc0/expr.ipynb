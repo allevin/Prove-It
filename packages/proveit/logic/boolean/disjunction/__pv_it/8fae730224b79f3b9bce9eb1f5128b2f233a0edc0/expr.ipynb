{
 "cells": [
  {
   "cell_type": "markdown",
   "metadata": {},
   "source": [
    "Expression of type <a class=\"ProveItLink\" href=\"../../../../../../../doc/html/api/proveit.ExprTuple.html\">ExprTuple</a>\n",
    "=======================\n",
    "# from context <a class=\"ProveItLink\" href=\"../../_context_.ipynb\">proveit.logic.boolean.disjunction</a>"
   ]
  },
  {
   "cell_type": "code",
   "execution_count": 1,
   "metadata": {},
   "outputs": [],
   "source": [
    "# import Expression classes needed to build the expression\n",
    "from proveit import ExprTuple\n",
    "from proveit._common_ import H, I, J, K\n",
    "from proveit.logic import Booleans, InSet"
   ]
  },
  {
   "cell_type": "code",
   "execution_count": 2,
   "metadata": {},
   "outputs": [
    {
     "data": {
      "text/html": [
       "<strong id=\"expr\">expr:</strong> <a class=\"ProveItLink\" href=\"expr.ipynb\"><img src=\"data:image/png;base64,iVBORw0KGgoAAAANSUhEUgAAAQMAAAAVBAMAAACwB5bKAAAAMFBMVEX////c3NwiIiJERESqqqqY\n",
       "mJh2dnZmZmYQEBDu7u4yMjJUVFTMzMyIiIi6uroAAAAs73DqAAAAAXRSTlMAQObYZgAAAudJREFU\n",
       "SMfNVk1oE0EUfiE/7SabTaAHRQ+GFVE8mK0opSIkIJ5EDCgWESQnC4qkUPCktBRvoi4RqgjSpVBs\n",
       "8ZAc9FCLNHi0l4Ce1Nq0hyKCWI2tmjSNM9l5M5ttOjnGhU327fftN2/m/cwA/AeXVuzk6FfozwK5\n",
       "P9b7zMv1vqgTDOROVMaOoXXdhV4r56b3J7k5GD8IO8Lh+fIshOonW6l3FYgxQ99UyP3T5aBXKz4Z\n",
       "T6NVcaHGN2XmqjAzBQkcsQB8s63VCRSmcdBqAOrv7S6ESxaGa2ObC/A5KMxpGfydDHVhB/WLAN0m\n",
       "XZZN4ssvG1M+6LrFSL4U+h7Ysv+fTuqHcYzTIZMrVmVwpgTjGEZkoPpjgK/UDq6Rd39tzttLDj+X\n",
       "DWZQBrnUKdMxzR6R0+syOAcqBpQzUN2bhJuNYJHnSKwBefodS/XmPEpGbF96TLHS6oF+kV0/ZHAF\n",
       "BvCRM1A9MARTjWA9n5tLDNlQVLig1+/xcNql2yuCvRL/I8o5OCqBtY0AT/Vet7rPgvuYz0t2DT1s\n",
       "Spj3RlPGK4Yz3xZPcWsiL4EDtfQIK1DBQHVtFLbsYAEk7CX6ousiHcFY5eFszGeMgDzfvBov2XMp\n",
       "CRxch32ssgQD1dU124WyKPwF5yqA4WVG2U6mvHOaXuBzGjElMGkL3k1wCaA6ceEOtgVW+NmWLlAG\n",
       "XcdYqzF2D4EugWlb0FjRCgaqk0Acx7bACj+UaiKtggKMQa+XTWOQlaazz6TVmgRu5FHcdDEwEH4L\n",
       "Bl1tQTniIPlvGzARE20BsiXHGAPvQKGpfhayeQncyKOltIvB1GlRrgA8SlSLXfNVRtpzi28k5UMv\n",
       "SPsiJb8rwVDPswLfh47eTYLygNRweBHn1gpWhuuvIRCvRpsYqA7BEnRH3fvnmUndctrLTsP3iqU8\n",
       "1nzz523gFgzSoP3pdlt6Sgb65d/62x4YbuBm3TEXFLrge9uQwlK0zZGr7YksRCPl6ejB7RPAP4pT\n",
       "GbF1+L/GAAAAAElFTkSuQmCC\n",
       "\" style=\"display:inline;vertical-align:middle;\" /></a><br>"
      ],
      "text/plain": [
       "expr: (H in BOOLEANS , I in BOOLEANS , J in BOOLEANS , K in BOOLEANS)"
      ]
     },
     "execution_count": 2,
     "metadata": {},
     "output_type": "execute_result"
    }
   ],
   "source": [
    "# build up the expression from sub-expressions\n",
    "expr = ExprTuple(InSet(H, Booleans), InSet(I, Booleans), InSet(J, Booleans), InSet(K, Booleans))"
   ]
  },
  {
   "cell_type": "code",
   "execution_count": 3,
   "metadata": {},
   "outputs": [
    {
     "name": "stdout",
     "output_type": "stream",
     "text": [
      "Passed sanity check: built 'expr' is the same as the stored Expression.\n"
     ]
    }
   ],
   "source": [
    "# check that the built expression is the same as the stored expression\n",
    "%check_expr"
   ]
  },
  {
   "cell_type": "code",
   "execution_count": 4,
   "metadata": {},
   "outputs": [
    {
     "data": {
      "text/html": [
       "<table><tr><th>&nbsp;</th><th>core type</th><th>sub-expressions</th><th>expression</th></tr>\n",
       "<tr><td>0</td><td>ExprTuple</td><td>1, 2, 3, 4</td><td><a class=\"ProveItLink\" href=\"expr.ipynb\"><img src=\"data:image/png;base64,iVBORw0KGgoAAAANSUhEUgAAAQMAAAAVBAMAAACwB5bKAAAAMFBMVEX////c3NwiIiJERESqqqqY\n",
       "mJh2dnZmZmYQEBDu7u4yMjJUVFTMzMyIiIi6uroAAAAs73DqAAAAAXRSTlMAQObYZgAAAudJREFU\n",
       "SMfNVk1oE0EUfiE/7SabTaAHRQ+GFVE8mK0opSIkIJ5EDCgWESQnC4qkUPCktBRvoi4RqgjSpVBs\n",
       "8ZAc9FCLNHi0l4Ce1Nq0hyKCWI2tmjSNM9l5M5ttOjnGhU327fftN2/m/cwA/AeXVuzk6FfozwK5\n",
       "P9b7zMv1vqgTDOROVMaOoXXdhV4r56b3J7k5GD8IO8Lh+fIshOonW6l3FYgxQ99UyP3T5aBXKz4Z\n",
       "T6NVcaHGN2XmqjAzBQkcsQB8s63VCRSmcdBqAOrv7S6ESxaGa2ObC/A5KMxpGfydDHVhB/WLAN0m\n",
       "XZZN4ssvG1M+6LrFSL4U+h7Ysv+fTuqHcYzTIZMrVmVwpgTjGEZkoPpjgK/UDq6Rd39tzttLDj+X\n",
       "DWZQBrnUKdMxzR6R0+syOAcqBpQzUN2bhJuNYJHnSKwBefodS/XmPEpGbF96TLHS6oF+kV0/ZHAF\n",
       "BvCRM1A9MARTjWA9n5tLDNlQVLig1+/xcNql2yuCvRL/I8o5OCqBtY0AT/Vet7rPgvuYz0t2DT1s\n",
       "Spj3RlPGK4Yz3xZPcWsiL4EDtfQIK1DBQHVtFLbsYAEk7CX6ousiHcFY5eFszGeMgDzfvBov2XMp\n",
       "CRxch32ssgQD1dU124WyKPwF5yqA4WVG2U6mvHOaXuBzGjElMGkL3k1wCaA6ceEOtgVW+NmWLlAG\n",
       "XcdYqzF2D4EugWlb0FjRCgaqk0Acx7bACj+UaiKtggKMQa+XTWOQlaazz6TVmgRu5FHcdDEwEH4L\n",
       "Bl1tQTniIPlvGzARE20BsiXHGAPvQKGpfhayeQncyKOltIvB1GlRrgA8SlSLXfNVRtpzi28k5UMv\n",
       "SPsiJb8rwVDPswLfh47eTYLygNRweBHn1gpWhuuvIRCvRpsYqA7BEnRH3fvnmUndctrLTsP3iqU8\n",
       "1nzz523gFgzSoP3pdlt6Sgb65d/62x4YbuBm3TEXFLrge9uQwlK0zZGr7YksRCPl6ejB7RPAP4pT\n",
       "GbF1+L/GAAAAAElFTkSuQmCC\n",
       "\" style=\"display:inline;vertical-align:middle;\" /></a></td></tr>\n",
       "<tr><td>1</td><td>Operation</td><td>operator:&nbsp;8<br>operands:&nbsp;5<br></td><td><a class=\"ProveItLink\" href=\"../0cf0d99d817bd5dcca8186785718492af1d3b38f0/expr.ipynb\"><img src=\"data:image/png;base64,iVBORw0KGgoAAAANSUhEUgAAADkAAAAPBAMAAACsFXoGAAAAMFBMVEX///8QEBCqqqp2dnbMzMy6\n",
       "uroiIiIyMjLc3NyYmJju7u5mZmZERERUVFSIiIgAAADpO3mLAAAAAXRSTlMAQObYZgAAAOVJREFU\n",
       "GNNjYGB4+//0grn/TzcwIAHzP/WFOQpg5ncg/saACg7EcVUZgxis/xgYWH5jyDI8ZQcxmL8wMPB9\n",
       "ggiuK0tLh8lq8i4AMtg/MDDw/AKLsVQuQNLbA2LwHwDiBLBYzwKEySyZp0CM+Nq7d89vAIudQNgb\n",
       "lv/xAYhh78DA8B7seq4DyK56pwNi1APxebCRrGJpaQhX8bAaABl/oF4GOuoCsl4ehgNQ734GC3El\n",
       "YMiCvfsVInYTRRZkMpJ3GZYFIMnOfsPAsPr83wfc9/8agMU4qh3gsXBMVgEtdBmYrkPdDAEAixRQ\n",
       "GUEne8EAAAAASUVORK5CYII=\n",
       "\" style=\"display:inline;vertical-align:middle;\" /></a></td></tr>\n",
       "<tr><td>2</td><td>Operation</td><td>operator:&nbsp;8<br>operands:&nbsp;6<br></td><td><a class=\"ProveItLink\" href=\"../a014aa0b7ef235b3bb2137b14c0255166b76fb410/expr.ipynb\"><img src=\"data:image/png;base64,iVBORw0KGgoAAAANSUhEUgAAADEAAAAPBAMAAAC/wjryAAAAMFBMVEX///+qqqoQEBCYmJgiIiLu\n",
       "7u7MzMyIiIi6uroyMjLc3NxmZmZERERUVFR2dnYAAAAvupOAAAAAAXRSTlMAQObYZgAAALpJREFU\n",
       "GNNjYGB4+//0AgYk8PLP/Ek+AmDmTwZUcKCddeo7EIPjH4YMQwUniMH3AyIQPsXFEyYjzBsAZHB+\n",
       "APPZJgcg6VkDYvAfAPPXBCBMY3M+CmL0F4D5pxD2tPh/Aou9TwCRrAeQXVAuA2LMB3M5VFxcEC7g\n",
       "4XgAZPyBOOACsh4eBqARHN/BXFYHDBm+bxD+ZRQZkGlQ7zCENCDJWNcwMKw+//cBmM81OwEeokd0\n",
       "BZCDi/Em1G0QAAAObj8qg9dWXgAAAABJRU5ErkJggg==\n",
       "\" style=\"display:inline;vertical-align:middle;\" /></a></td></tr>\n",
       "<tr><td>3</td><td>Operation</td><td>operator:&nbsp;8<br>operands:&nbsp;7<br></td><td><a class=\"ProveItLink\" href=\"../b72241bded44dfa93da3053397ea747a5d46b51e0/expr.ipynb\"><img src=\"data:image/png;base64,iVBORw0KGgoAAAANSUhEUgAAADMAAAAPBAMAAAC7N+rPAAAAMFBMVEX///9ERESIiIiqqqru7u7c\n",
       "3NyYmJi6urpUVFQQEBAyMjLMzMwiIiJmZmZ2dnYAAACebuTwAAAAAXRSTlMAQObYZgAAAL5JREFU\n",
       "GNNjYGBgeHv+LAMyePVx/cqDBhD2+w0oUgwCRSxL3kGYKxnQpRjUuSDMHxCKRevMmQVQKTMOBxCL\n",
       "/RtEalcKkq5AMIvvK5hiFUEYyH0MwuGaAKYYA+BSNed/KoBZ/g1gyhHZGUqGYJZ9ApiqPHMG4QxG\n",
       "9gcg1n2wYxh2IOtiZBBgiLzAcAYi4IMu9f4B9yeIAEcCshTQQCMGnwaoj48jSeUqMjAwKbXBRKJu\n",
       "w4NXZoYBathZrIG4EAIAYQo1n6w9PhIAAAAASUVORK5CYII=\n",
       "\" style=\"display:inline;vertical-align:middle;\" /></a></td></tr>\n",
       "<tr><td>4</td><td>Operation</td><td>operator:&nbsp;8<br>operands:&nbsp;9<br></td><td><a class=\"ProveItLink\" href=\"../dd72d89ce9199b2aa1574691508e7c8746269f280/expr.ipynb\"><img src=\"data:image/png;base64,iVBORw0KGgoAAAANSUhEUgAAADkAAAAPBAMAAACsFXoGAAAAMFBMVEX///8QEBAiIiJmZmbc3NyY\n",
       "mJh2dna6urqqqqoyMjLMzMzu7u5ERERUVFSIiIgAAACn3CmNAAAAAXRSTlMAQObYZgAAAOVJREFU\n",
       "GNNjYGB4+//sBob7fxYwIIHMP/Mn6jSAmT+BuHcDAwo4UMc9Ow3EYP/GwMDawIAuy/CcE8Rg+87A\n",
       "nQIV3DdJSRMm28oLMo/zA8MyqCTX1A1Ien1ADP4JrAZQMZ8NCJO5VE+DGPUJ+QpQsSMIe4v0Pz4A\n",
       "MfKfMf+ACHEfQHbVux4QY34Ay0+IELuQkhLCVTzsCRDvnocEBdcFZL08DAcg3q2HCHMrYMiy/WJg\n",
       "YPoNEbuKIgsyGehdBr5vELFNBUiywW8YGDaf//uAIen/FbAYy+QF8Fg4JIseugwcN6FuhgAAWvdP\n",
       "Bp3jo+EAAAAASUVORK5CYII=\n",
       "\" style=\"display:inline;vertical-align:middle;\" /></a></td></tr>\n",
       "<tr><td>5</td><td>ExprTuple</td><td>10, 14</td><td><a class=\"ProveItLink\" href=\"../d07a97661021399f08d6b1798921fd256b97dda10/expr.ipynb\"><img src=\"data:image/png;base64,iVBORw0KGgoAAAANSUhEUgAAADUAAAAVBAMAAAAUZLt1AAAAMFBMVEX////c3NwiIiJERESqqqqY\n",
       "mJh2dnZmZmYQEBDu7u4yMjJUVFTMzMyIiIi6uroAAAAs73DqAAAAAXRSTlMAQObYZgAAASZJREFU\n",
       "KM9jYMAH+C5gFY4DEaeB+PZ/8wnR/80FgEy29Va/mkwYGNgPADkrQQp+AfEniAZmvguzpiUwMCxg\n",
       "YOAFGcn3l4GB5ztcjvcBUCKMgYFjAsigP0BFX+ByLAE7GRhmMDC8AvG5PgDFfiL0PTQA0g4MZSA+\n",
       "P5DNrwCXOxQMNIytgGEpiP9+9e7d9gUwOaX/vUCaZQFDH4ifD3TwfQeEmVeA5vA1MPwD8dcDsf0E\n",
       "uByDwTOguz9A5D5DvQiXYwbLtcC89w1NDmimKcx7IAMmIJnJuoAhHcl7nJ8gcqy1BmA/PGJgmG7/\n",
       "+wL7/t8JDJz9AqCw/qyxBaThAQOHAHJ8IXGAYcaagCTHisTOhcURphwnMCoYpJHkkJIAN8h4Ruxp\n",
       "4g4DAwBT5Vhafo5MjAAAAABJRU5ErkJggg==\n",
       "\" style=\"display:inline;vertical-align:middle;\" /></a></td></tr>\n",
       "<tr><td>6</td><td>ExprTuple</td><td>11, 14</td><td><a class=\"ProveItLink\" href=\"../13f83de784daa29ce2a284c4a2442b99187a9deb0/expr.ipynb\"><img src=\"data:image/png;base64,iVBORw0KGgoAAAANSUhEUgAAAC4AAAAVBAMAAADLKsFqAAAAMFBMVEX////c3NwiIiJERESqqqqY\n",
       "mJh2dnZmZmYQEBDu7u4yMjJUVFTMzMyIiIi6uroAAAAs73DqAAAAAXRSTlMAQObYZgAAAPtJREFU\n",
       "GNNjYMAF+C5gCLE+ABKngTj7v7kASCDr8/oVyg4MDDVA9kqQwC+oSoO3nCvTGBi4GBh4QcbwfYOL\n",
       "M9wDCrImMHBMAHLZ/iHEXbknMHA2MLwCcbk+IKkXBtImDGUgLr8BXJxH1RJIpzMsBXHfw9xq8Ej/\n",
       "B4jtxdAH4uYfQJhz1xlIv2AA27ieASHOzJfAwHAeIv4ZWZzBACTeAnL+X3TxFwymIOf/ARKcyOZE\n",
       "AV0Edf58BYh4+GWwOx8xMIjb/wYqmfERHG5G3cBwY1jHwCEAM/shIqCB4QAMIigIQIizXYCGM5r4\n",
       "LCCWhrJ5kSJsIxAzYsYj7wEGAAXjSEWB632dAAAAAElFTkSuQmCC\n",
       "\" style=\"display:inline;vertical-align:middle;\" /></a></td></tr>\n",
       "<tr><td>7</td><td>ExprTuple</td><td>12, 14</td><td><a class=\"ProveItLink\" href=\"../c5326c4b38f6ebae1440083666b54151ffdd574e0/expr.ipynb\"><img src=\"data:image/png;base64,iVBORw0KGgoAAAANSUhEUgAAAC4AAAAVBAMAAADLKsFqAAAAMFBMVEX////c3NwiIiJERESqqqqY\n",
       "mJh2dnZmZmYQEBDu7u4yMjJUVFTMzMyIiIi6uroAAAAs73DqAAAAAXRSTlMAQObYZgAAAQlJREFU\n",
       "GNNjYMAF+C5gCLE+ABKnQSy2ok8FQCrr8/oVyg4MDDVA9kqwErY/YMrgLefKNAYGLgYGXogxXA1Q\n",
       "cYZ7QEHWBAaOCWAB/g0wcVfuCQycDQyvIFa9D4CrFwbSJgxlEPF8Aag4j6olkE5nWAoRXwGhDB7p\n",
       "/wBZ6MXQB+Zz/maAmXPXGUi/YPgH5rN8hYsz8yUwMJyHirP/RIgzGIDEWxgYGNsZmBRQxV8wmAL9\n",
       "+o3h/AUGTmRzooAuYmC5wKnNwDBfASIefhnszkdA8u5toK9mfASHm1E3MNwY1jFwCMBC9yEioIHh\n",
       "AAwiKAhAiLNdgIUzqvgsIJaGsnmRImwjEDNixiPvAQYAwm5I7m6zaY4AAAAASUVORK5CYII=\n",
       "\" style=\"display:inline;vertical-align:middle;\" /></a></td></tr>\n",
       "<tr><td>8</td><td>Literal</td><td></td><td><a class=\"ProveItLink\" href=\"../../../../set_theory/membership/__pv_it/088cbc857536a28d4119ad9639a84270ccb0545d0/expr.ipynb\"><img src=\"data:image/png;base64,iVBORw0KGgoAAAANSUhEUgAAAAwAAAAMBAMAAACkW0HUAAAALVBMVEX///+qqqpmZmZUVFQQEBC6\n",
       "urpERETc3NyYmJjMzMwiIiIyMjKIiIju7u4AAACYsrA9AAAAAXRSTlMAQObYZgAAADxJREFUCNdj\n",
       "YOA9vWrVBgaG2b0MQMCeCyIZ2ArA1DUwyRCyahVIyWQI7xaEYm4AU7xLIdxqTQgtvGvVBgCkcQ7e\n",
       "geM/tQAAAABJRU5ErkJggg==\n",
       "\" style=\"display:inline;vertical-align:middle;\" /></a></td></tr>\n",
       "<tr><td>9</td><td>ExprTuple</td><td>13, 14</td><td><a class=\"ProveItLink\" href=\"../9f1cdbc81285498818f71e4996147432062a62ce0/expr.ipynb\"><img src=\"data:image/png;base64,iVBORw0KGgoAAAANSUhEUgAAADUAAAAVBAMAAAAUZLt1AAAAMFBMVEX////c3NwiIiJERESqqqqY\n",
       "mJh2dnZmZmYQEBDu7u4yMjJUVFTMzMyIiIi6uroAAAAs73DqAAAAAXRSTlMAQObYZgAAATBJREFU\n",
       "KM9jYMAH+C5gFY4DEaeB+PZ/6wkM+z8fADLZ1lv9ajJhYGAHcVaCFPwCYu8JYA3MfBdmTUtgYFjA\n",
       "wMALMpLvGwMDqwMDTI73AVAijIGBA6Sa7R8DZyIDXI4lYCcDwwwGhlcgPtcHhmMMCDnehwZA2oGh\n",
       "DMTnX8BagCR3KBhoGFsBw1IQ/31CvgJCTul/L5BmWcDQB+LnX2P/gmzmFaCZfA0M/0D89QGMv5Dk\n",
       "GAyeMTDwfIDIASXsDyDLMYPlWqDee78BTQ5opinIe38YGJh+AhkTkMxkXcCQDvEeAy9QL+cniBxr\n",
       "rQHYD48YGKbb/77AkPR/IwNnvwAorD9rbAFpeMDAIYAcX0gcYJixJiDJsSKxc2FxhCnHCYwKBmkk\n",
       "OaQkwA0ynhF7mrjDwAAAn+dXVX+7xAgAAAAASUVORK5CYII=\n",
       "\" style=\"display:inline;vertical-align:middle;\" /></a></td></tr>\n",
       "<tr><td>10</td><td>Variable</td><td></td><td><a class=\"ProveItLink\" href=\"../../../../../__pv_it/fabf74ac81cd36aa91075816201d2b14195a56e60/expr.ipynb\"><img src=\"data:image/png;base64,iVBORw0KGgoAAAANSUhEUgAAABMAAAAOBAMAAAA/Njq6AAAALVBMVEX///+qqqp2dnbMzMy6uroi\n",
       "IiIyMjLc3NyYmJju7u5mZmZERERUVFSIiIgAAABaGT/LAAAAAXRSTlMAQObYZgAAAGhJREFUCNdj\n",
       "YGC4827XhJ53uwoYgOAZED8FMRhY3jIwML8CM5keMzDwPgQz2R4wMHC/BDP5NgBxAJjpl3PmzL4F\n",
       "YKaeAQPDPQEwMw+I900AM19DjYYa+whh7BM0Y2fte3OB69wbBQYGADOSITJjbaXUAAAAAElFTkSu\n",
       "QmCC\n",
       "\" style=\"display:inline;vertical-align:middle;\" /></a></td></tr>\n",
       "<tr><td>11</td><td>Variable</td><td></td><td><a class=\"ProveItLink\" href=\"../../../../../__pv_it/485fbf85ade6e4660c176b077846a05437e7af3e0/expr.ipynb\"><img src=\"data:image/png;base64,iVBORw0KGgoAAAANSUhEUgAAAAsAAAAOBAMAAAALT/umAAAAIVBMVEX////MzMyIiIi6uroyMjLc\n",
       "3NxmZmZERERUVFR2dnYAAABv5Bk0AAAAAXRSTlMAQObYZgAAAD9JREFUCNdjYGCYsaosgAEIloAI\n",
       "BuaVYIpzMZhiWQCmuArAlJUCmJolAKa8wCTDcoi2RRBtC5G0hVWtmMDAAAAhAQsT8Qr5GAAAAABJ\n",
       "RU5ErkJggg==\n",
       "\" style=\"display:inline;vertical-align:middle;\" /></a></td></tr>\n",
       "<tr><td>12</td><td>Variable</td><td></td><td><a class=\"ProveItLink\" href=\"../../../../../__pv_it/0730776658406f13a5e8bca83a69f67d4b6b708d0/expr.ipynb\"><img src=\"data:image/png;base64,iVBORw0KGgoAAAANSUhEUgAAAA0AAAAOBAMAAAAGUYvhAAAALVBMVEX///+IiIiqqqru7u7c3NyY\n",
       "mJi6urpUVFQQEBAyMjLMzMwiIiJmZmZ2dnYAAABVuDDQAAAAAXRSTlMAQObYZgAAAEdJREFUCNdj\n",
       "YGBguLNvDwMY3FsAoWdAKIbnEIrtKYTmfQKhORsgtF0BhNYLgNDnDICExwGG3WCzLnA9BNGKDNZg\n",
       "ZYyCpSAKAIbhD5JM+WhaAAAAAElFTkSuQmCC\n",
       "\" style=\"display:inline;vertical-align:middle;\" /></a></td></tr>\n",
       "<tr><td>13</td><td>Variable</td><td></td><td><a class=\"ProveItLink\" href=\"../../../../../__pv_it/3fb1092d10295c809ebd5134eaa882b76222b6190/expr.ipynb\"><img src=\"data:image/png;base64,iVBORw0KGgoAAAANSUhEUgAAABMAAAAOBAMAAAA/Njq6AAAALVBMVEX///8iIiJmZmbc3NyYmJh2\n",
       "dna6urqqqqoyMjLMzMzu7u5ERERUVFSIiIgAAAAU/m/NAAAAAXRSTlMAQObYZgAAAG5JREFUCNdj\n",
       "YGC4827PAoZzrycwAMELIK5ZAGKxPWVgYCkAsRhYnzFwBYNZDBwPGKZCWAx8DSwKUGZeQJwAlBl3\n",
       "lek5lNnnwPwCygTS+8Dmg43NOwAx9iUDA+MrmLEMvE9BrEX73lxgCHx3mIEBAPGUHmvA0AqBAAAA\n",
       "AElFTkSuQmCC\n",
       "\" style=\"display:inline;vertical-align:middle;\" /></a></td></tr>\n",
       "<tr><td>14</td><td>Literal</td><td></td><td><a class=\"ProveItLink\" href=\"../../../__pv_it/46271c8230be96415d662709611f4ed2279d702b0/expr.ipynb\"><img src=\"data:image/png;base64,iVBORw0KGgoAAAANSUhEUgAAAA0AAAAOBAMAAAAGUYvhAAAAMFBMVEX///9mZmbMzMzc3NxUVFSY\n",
       "mJju7u6IiIi6urqqqqoiIiIQEBBEREQyMjJ2dnYAAAAQvcRZAAAAAXRSTlMAQObYZgAAAElJREFU\n",
       "CNdjePvn/u01ExgYGA60s117B6YZKngh9FSWBAjfBsxnWnoMRHet/10AkS+fA6F5OB5AaIYDqDRU\n",
       "PLCGgQFoz6ktExgAgLIl8DFvGtkAAAAASUVORK5CYII=\n",
       "\" style=\"display:inline;vertical-align:middle;\" /></a></td></tr>\n",
       "</table>\n"
      ],
      "text/plain": [
       "0. (H in BOOLEANS , I in BOOLEANS , J in BOOLEANS , K in BOOLEANS)\n",
       "   core type: ExprTuple\n",
       "   sub-expressions: 1, 2, 3, 4\n",
       "1. H in BOOLEANS\n",
       "   core type: Operation\n",
       "   operator: 8\n",
       "   operands: 5\n",
       "2. I in BOOLEANS\n",
       "   core type: Operation\n",
       "   operator: 8\n",
       "   operands: 6\n",
       "3. J in BOOLEANS\n",
       "   core type: Operation\n",
       "   operator: 8\n",
       "   operands: 7\n",
       "4. K in BOOLEANS\n",
       "   core type: Operation\n",
       "   operator: 8\n",
       "   operands: 9\n",
       "5. (H , BOOLEANS)\n",
       "   core type: ExprTuple\n",
       "   sub-expressions: 10, 14\n",
       "6. (I , BOOLEANS)\n",
       "   core type: ExprTuple\n",
       "   sub-expressions: 11, 14\n",
       "7. (J , BOOLEANS)\n",
       "   core type: ExprTuple\n",
       "   sub-expressions: 12, 14\n",
       "8. in\n",
       "   core type: Literal\n",
       "   sub-expressions: \n",
       "9. (K , BOOLEANS)\n",
       "   core type: ExprTuple\n",
       "   sub-expressions: 13, 14\n",
       "10. H\n",
       "    core type: Variable\n",
       "    sub-expressions: \n",
       "11. I\n",
       "    core type: Variable\n",
       "    sub-expressions: \n",
       "12. J\n",
       "    core type: Variable\n",
       "    sub-expressions: \n",
       "13. K\n",
       "    core type: Variable\n",
       "    sub-expressions: \n",
       "14. BOOLEANS\n",
       "    core type: Literal\n",
       "    sub-expressions: "
      ]
     },
     "execution_count": 4,
     "metadata": {},
     "output_type": "execute_result"
    }
   ],
   "source": [
    "# display the expression information\n",
    "expr.exprInfo()"
   ]
  },
  {
   "cell_type": "code",
   "execution_count": null,
   "metadata": {},
   "outputs": [],
   "source": []
  }
 ],
 "metadata": {
  "kernelspec": {
   "display_name": "Python 3",
   "language": "python",
   "name": "python3"
  }
 },
 "nbformat": 4,
 "nbformat_minor": 0
}
