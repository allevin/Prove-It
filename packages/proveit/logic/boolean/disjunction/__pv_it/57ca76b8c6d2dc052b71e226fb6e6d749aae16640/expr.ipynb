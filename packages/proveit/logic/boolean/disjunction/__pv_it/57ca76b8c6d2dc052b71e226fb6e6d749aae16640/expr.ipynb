{
 "cells": [
  {
   "cell_type": "markdown",
   "metadata": {},
   "source": [
    "Expression of type <a class=\"ProveItLink\" href=\"../../../../../../../doc/html/api/proveit.logic.Equals.html\">Equals</a>\n",
    "=======================\n",
    "# from context <a class=\"ProveItLink\" href=\"../../_context_.ipynb\">proveit.logic.boolean.disjunction</a>"
   ]
  },
  {
   "cell_type": "code",
   "execution_count": 1,
   "metadata": {},
   "outputs": [],
   "source": [
    "# import Expression classes needed to build the expression\n",
    "from proveit.logic import And, Equals, FALSE, Not\n",
    "from proveit.logic.boolean.negation._theorems_ import notFalse"
   ]
  },
  {
   "cell_type": "code",
   "execution_count": 2,
   "metadata": {},
   "outputs": [
    {
     "data": {
      "text/html": [
       "<strong id=\"expr\">expr:</strong> <a class=\"ProveItLink\" href=\"expr.ipynb\"><img src=\"data:image/png;base64,iVBORw0KGgoAAAANSUhEUgAAAM4AAAAVBAMAAAD8yMwbAAAAMFBMVEX////c3NwiIiJERESqqqqY\n",
       "mJh2dnZmZmYQEBDu7u4yMjJUVFTMzMyIiIi6uroAAAAs73DqAAAAAXRSTlMAQObYZgAAAehJREFU\n",
       "SMe9VT1LA0EQ3ct3zst5fRBCBDGdhelTW6WyEJR0qYRgkUIsoqSxkZRidU2KKEjsRQIpLCzMD1AI\n",
       "qSQg+AuCtzub7OzsJqCCD95s5jE3726zH4z9F/wRSTSBIzmmz3xS4QhxCV5oggVHeJ6RR7w+SjZ4\n",
       "SA8UDYgK1sNSjwheg0d37tqB0e2gkmcRQ0QKUZHDs8QTTQCfZE32b8D4bnRh+4hWnwx+N55oAvhk\n",
       "W5ANSzBemj7XiFafKVamVAAftgvZE3yIH5o+8Yqi1aeJlSYVpE9dxGwYE2O6ZvqkGopWny5WulSQ\n",
       "PnvQq5oWb+tWTZ9EqMjY6S3HHa64it6vyFGDRBekz4eIMeaILploP53wii3l47cUrd8zw3tiRgXp\n",
       "8yriIWOPfFwf460HPt6X4l99SrLzr3zauG2bCnjeEtFvN+DzVjF99HkTs1rcxD5l3LZMBelzIP7+\n",
       "ALxYvGr6JENF6/fU59lAJpqA1/WQhwJDa9f7wbqeYGWiCXzZXRSLO4zdi106P3L8wqIkmqBtMUHu\n",
       "WFHDvCIT4HMnYLoAgHNHdPB5ODffedW5w/AZuUg0AZAiN5LlsDxGtGPlvQC4Ibl2L8gjSXEJ8jTJ\n",
       "GyUPJHf6tGItUFwCZ0QSh97buYH9hkR4Q7TiG2OanKmtBTT0AAAAAElFTkSuQmCC\n",
       "\" style=\"display:inline;vertical-align:middle;\" /></a><br>"
      ],
      "text/plain": [
       "expr: [not]([not](FALSE) and [not](FALSE)) = FALSE"
      ]
     },
     "execution_count": 2,
     "metadata": {},
     "output_type": "execute_result"
    }
   ],
   "source": [
    "# build up the expression from sub-expressions\n",
    "expr = Equals(Not(And(notFalse.expr, notFalse.expr)), FALSE)"
   ]
  },
  {
   "cell_type": "code",
   "execution_count": 3,
   "metadata": {},
   "outputs": [
    {
     "name": "stdout",
     "output_type": "stream",
     "text": [
      "Passed sanity check: built 'expr' is the same as the stored Expression.\n"
     ]
    }
   ],
   "source": [
    "# check that the built expression is the same as the stored expression\n",
    "%check_expr"
   ]
  },
  {
   "cell_type": "code",
   "execution_count": 4,
   "metadata": {},
   "outputs": [
    {
     "data": {
      "text/html": [
       "<table><tr><th>&nbsp;</th><th>core type</th><th>sub-expressions</th><th>expression</th></tr>\n",
       "<tr><td>0</td><td>Operation</td><td>operator:&nbsp;1<br>operands:&nbsp;2<br></td><td><a class=\"ProveItLink\" href=\"expr.ipynb\"><img src=\"data:image/png;base64,iVBORw0KGgoAAAANSUhEUgAAAM4AAAAVBAMAAAD8yMwbAAAAMFBMVEX////c3NwiIiJERESqqqqY\n",
       "mJh2dnZmZmYQEBDu7u4yMjJUVFTMzMyIiIi6uroAAAAs73DqAAAAAXRSTlMAQObYZgAAAehJREFU\n",
       "SMe9VT1LA0EQ3ct3zst5fRBCBDGdhelTW6WyEJR0qYRgkUIsoqSxkZRidU2KKEjsRQIpLCzMD1AI\n",
       "qSQg+AuCtzub7OzsJqCCD95s5jE3726zH4z9F/wRSTSBIzmmz3xS4QhxCV5oggVHeJ6RR7w+SjZ4\n",
       "SA8UDYgK1sNSjwheg0d37tqB0e2gkmcRQ0QKUZHDs8QTTQCfZE32b8D4bnRh+4hWnwx+N55oAvhk\n",
       "W5ANSzBemj7XiFafKVamVAAftgvZE3yIH5o+8Yqi1aeJlSYVpE9dxGwYE2O6ZvqkGopWny5WulSQ\n",
       "PnvQq5oWb+tWTZ9EqMjY6S3HHa64it6vyFGDRBekz4eIMeaILploP53wii3l47cUrd8zw3tiRgXp\n",
       "8yriIWOPfFwf460HPt6X4l99SrLzr3zauG2bCnjeEtFvN+DzVjF99HkTs1rcxD5l3LZMBelzIP7+\n",
       "ALxYvGr6JENF6/fU59lAJpqA1/WQhwJDa9f7wbqeYGWiCXzZXRSLO4zdi106P3L8wqIkmqBtMUHu\n",
       "WFHDvCIT4HMnYLoAgHNHdPB5ODffedW5w/AZuUg0AZAiN5LlsDxGtGPlvQC4Ibl2L8gjSXEJ8jTJ\n",
       "GyUPJHf6tGItUFwCZ0QSh97buYH9hkR4Q7TiG2OanKmtBTT0AAAAAElFTkSuQmCC\n",
       "\" style=\"display:inline;vertical-align:middle;\" /></a></td></tr>\n",
       "<tr><td>1</td><td>Literal</td><td></td><td><a class=\"ProveItLink\" href=\"../../../../equality/__pv_it/2fb26078095930560931daa0500ce419a39ea6cd0/expr.ipynb\"><img src=\"data:image/png;base64,iVBORw0KGgoAAAANSUhEUgAAAA4AAAAFBAMAAACHocAhAAAAFVBMVEX///9EREQiIiJUVFQyMjJm\n",
       "ZmYAAADubVkoAAAAAXRSTlMAQObYZgAAABRJREFUCNdjCHEBAWcGXCBICQQUAUpuAwlgGKrkAAAA\n",
       "AElFTkSuQmCC\n",
       "\" style=\"display:inline;vertical-align:middle;\" /></a></td></tr>\n",
       "<tr><td>2</td><td>ExprTuple</td><td>3, 9</td><td><a class=\"ProveItLink\" href=\"../2ddaa754d3be9c09d842e8a6592686127935c7040/expr.ipynb\"><img src=\"data:image/png;base64,iVBORw0KGgoAAAANSUhEUgAAAL0AAAAVBAMAAADhtvKAAAAAMFBMVEX////c3NwiIiJERESqqqqY\n",
       "mJh2dnZmZmYQEBDu7u4yMjJUVFTMzMyIiIi6uroAAAAs73DqAAAAAXRSTlMAQObYZgAAAfBJREFU\n",
       "OMu1lb9KA0EQxjfG/PMuZ1oNgXCCWIpon06wSpXCQtKIlSAiqSxU0thoSkmVFEHSSHyDdBYW3gMo\n",
       "HFYiBMQHEHd35nKzs2fQwoEve7eZ37d7u3N7Qvx3eAG5maCM2JuJqMiEoCTwkXS4I9A0KuonN2Yc\n",
       "RVJ6rFNUAjgkvQsd0DQe9G8P75awpYh7pEGUDRbps76gWFoD726hMRDwzzRBNpin071EsbQbtNqA\n",
       "XAMB/8IZyAbf6b71QDwtXdONM4GJUwT9xSbKAlukM9cE8bQseHRFVbetBP8DlAUO6PbWQTxtHp5p\n",
       "X5zodpDgv4OywCs5ZV+FnHc+BB2r+9U4zYOVrYpl3VIk8n9Dmf4S/CKlvxiC4iKHNPdD10ggHP0m\n",
       "UCTyf0KZ/hL8vf9cB9+9P/m3SXK+BuL+sD7bUn110U7w/3F9tkhyug7i/hm9v30cw0Ai/12U6FB/\n",
       "CU6Lagx1iLUoQVaf7rpaI0HrcGzXZ+GT1ecrfb+qIAxZRmu+vyJrVu2JE0ZHQ4yoMrrwfTnynQAV\n",
       "rksmmC+RAc5RLPT54OlLNYiBQMTng1cyQeNUapDDjMQhO+2bVkY2AMk/OTjzfIbJ9VjH0PLvokx/\n",
       "DZbpx2IEMsPh61G2/O9RQgQcTAXss1Ph8DPvSPHvY3EMssFvCRWZlzjpef8AAAAASUVORK5CYII=\n",
       "\" style=\"display:inline;vertical-align:middle;\" /></a></td></tr>\n",
       "<tr><td>3</td><td>Operation</td><td>operator:&nbsp;8<br>operand:&nbsp;4<br></td><td><a class=\"ProveItLink\" href=\"../26d240c6d349c915128ac6be3b692dedb37728140/expr.ipynb\"><img src=\"data:image/png;base64,iVBORw0KGgoAAAANSUhEUgAAAJIAAAAVBAMAAABf4KrdAAAAMFBMVEX////c3NxERESqqqqYmJgQ\n",
       "EBDu7u4yMjKIiIi6urpUVFTMzMx2dnYiIiJmZmYAAABjE816AAAAAXRSTlMAQObYZgAAAaNJREFU\n",
       "OMu1lL9Lw0AUx1/6wzY2rR2Lk6B/QDfXbip0UATBQegirhmk4JZRcMkiugh1LC6ho4NmdJIi2MlA\n",
       "dhVc3cy993JJ36XQxS98csnL3fd+vTuA/9AtM6c9GbA9Eaj4RKbGiNDqqEcrEA0fc+8Wun4yWrUB\n",
       "ofWET5cbpX+G+c5jbMhoXTLCqc/9xFTWPcOpEhJaR4xwOqWPyYzK6sBwWtkn9Eq6hHQqdbEY83Bv\n",
       "wHCCTYbVCgnp5FC/bpOCXwVOr0y64D1COpVxnE6vRWM7L3DaRr6jRB9qAXxCB9jJxhVogkUzP05G\n",
       "rmpEYeZ0zXCOrPlEljTk1PhRz12AB/z8zWVf6vTMLOU0S1NyCadql5BOOLty0qTWVp+HBU5idqUe\n",
       "IZ0qan2USxmbbRU47TAqwrvtxJAF8lkwUW9TyO92sDAL7CnBSrbwPYrekuGotRunxwnusgRMNvAk\n",
       "ijYALoBIdcAI4WnBnbDxtLSNGvK04FHtm04v4jYKjRqORyy+VahDVwSGhtMZk11bI2Jeq3I264bT\n",
       "PTN/R3ZktSsZsOTtWw+QP54Fg+yeLNTnAAAAAElFTkSuQmCC\n",
       "\" style=\"display:inline;vertical-align:middle;\" /></a></td></tr>\n",
       "<tr><td>4</td><td>Operation</td><td>operator:&nbsp;5<br>operands:&nbsp;6<br></td><td><a class=\"ProveItLink\" href=\"../a7f222f3313cd76c47520efe8869eec12d76c2c00/expr.ipynb\"><img src=\"data:image/png;base64,iVBORw0KGgoAAAANSUhEUgAAAG8AAAAVBAMAAAC6Uq30AAAAMFBMVEX////c3NwiIiJERESqqqqY\n",
       "mJh2dnZmZmYQEBDu7u4yMjJUVFTMzMyIiIi6uroAAAAs73DqAAAAAXRSTlMAQObYZgAAAXRJREFU\n",
       "OMtjYCAb8F1AE2B9gK7kLbpAHIg4jSTACDakBk0ZzwYkjiyIYD8AJFYiKykAkVwwYyZAaK4JSEqO\n",
       "g8kFDAy8FzA0siZANRRA6LsMGBrDGBg4JmBo5GyA8A5rQuhOTI0zGBheMWBoZDCB8PZBrOJbgKmR\n",
       "2YGhDIvGdDDJuYAJTLMnYGpkK2BYikWjF0QygN0B7NUATI0sCxj6gEYqgUACQuMLMMnEwAh2JAcw\n",
       "XotAKtQQGvkaGP4hRxZU43kwGcvAsAdE88MSxGmERp4PeDRqQpXi0NiCRSPYqSxANpcAyKkOmBqB\n",
       "TjXFojEKHCYCEM0MzAGYGlkXQIMeCA6gRcdhEKEACXqo2SjR8Qge0KDAbVJSMmBgWAeOflhq41OA\n",
       "KwEGroaSkjLQOQ8YOAQwMhokyYGDhA9ENGLmxRmIFI0E2NByaBimxly0bAUBs9D4KNkKmhqBhDSG\n",
       "xo1ofMYN6Cq4BeC5HgnwHkBXJ4sucIeBAQAoXFcMoQAiHQAAAABJRU5ErkJggg==\n",
       "\" style=\"display:inline;vertical-align:middle;\" /></a></td></tr>\n",
       "<tr><td>5</td><td>Literal</td><td></td><td><a class=\"ProveItLink\" href=\"../../../conjunction/__pv_it/76b5f4f4c45c0b6a9b59b297fc07dfa9555698f50/expr.ipynb\"><img src=\"data:image/png;base64,iVBORw0KGgoAAAANSUhEUgAAAAwAAAAOBAMAAADpk+DfAAAALVBMVEX///+qqqqYmJh2dnaIiIi6\n",
       "urpUVFQiIiJERETMzMxmZmYyMjLu7u7c3NwAAABvwqPxAAAAAXRSTlMAQObYZgAAAEtJREFUCNdj\n",
       "YGDgPcAAAtwLwNSMGjCV6gIieTawgyhmBS4BIMXOwLsBSKkwMGQCKaC6aQwMjEBd3BdACMScAVJd\n",
       "wJAKolwYAkAUKwAk0guX6efcigAAAABJRU5ErkJggg==\n",
       "\" style=\"display:inline;vertical-align:middle;\" /></a></td></tr>\n",
       "<tr><td>6</td><td>ExprTuple</td><td>7, 7</td><td><a class=\"ProveItLink\" href=\"../3844cc1d435fd1c8eda691d2684bfc7396e824c10/expr.ipynb\"><img src=\"data:image/png;base64,iVBORw0KGgoAAAANSUhEUgAAAFEAAAAVBAMAAADMaB9/AAAAMFBMVEX////c3NwiIiJERESqqqqY\n",
       "mJh2dnZmZmYQEBDu7u4yMjJUVFTMzMyIiIi6uroAAAAs73DqAAAAAXRSTlMAQObYZgAAANBJREFU\n",
       "KM9jYCAe8F0gQlEciDiNJMCIRZcsiGA/ACRWIonyFGCqPA4mFzAw8F4gSmUYAwPHBKJUzmBgeMVA\n",
       "lEpmB4Yy4lSyFTAsJU4lywKGPmAQKIFAAorKIpCQGkIlXwPDP5hxGzDNPI1QyfOBBJUtxKkE2m6K\n",
       "qXICFpWsCxjSYcIHYCo5P8GDAiWUHsHtAgVBk5KSAWe/AANSEGgoKSkzMHA9YOAQwEyHmEKg2GRN\n",
       "wBBlxZJAc9FSHU6VnMBUxyCNIYwlOXML4EjnGOAOAwMABJ03NxJILyYAAAAASUVORK5CYII=\n",
       "\" style=\"display:inline;vertical-align:middle;\" /></a></td></tr>\n",
       "<tr><td>7</td><td>Operation</td><td>operator:&nbsp;8<br>operand:&nbsp;9<br></td><td><a class=\"ProveItLink\" href=\"../../../negation/__pv_it/01165fd25131c0df966b8e8c1626e275fd04f3050/expr.ipynb\"><img src=\"data:image/png;base64,iVBORw0KGgoAAAANSUhEUgAAABwAAAAOBAMAAADOPWE3AAAAIVBMVEX///9EREQQEBCIiIjc3NxU\n",
       "VFTMzMx2dnYiIiJmZmYAAADo3DW1AAAAAXRSTlMAQObYZgAAACVJREFUCNdjYIADZwYUkEll7owO\n",
       "IGhHlU2lgMuGbhHQgqaOjkYA4xoNxELsxwMAAAAASUVORK5CYII=\n",
       "\" style=\"display:inline;vertical-align:middle;\" /></a></td></tr>\n",
       "<tr><td>8</td><td>Literal</td><td></td><td><a class=\"ProveItLink\" href=\"../../../negation/__pv_it/7bea79645543c2413aa17e787cca04e21046fde60/expr.ipynb\"><img src=\"data:image/png;base64,iVBORw0KGgoAAAANSUhEUgAAAAwAAAAGBAMAAAAFwGKyAAAAFVBMVEX///9UVFTMzMx2dnYiIiJm\n",
       "ZmYAAACWz4ZEAAAAAXRSTlMAQObYZgAAABRJREFUCNdjCHEBAmcGMFDEQzEBAEl+Ai6uYJv/AAAA\n",
       "AElFTkSuQmCC\n",
       "\" style=\"display:inline;vertical-align:middle;\" /></a></td></tr>\n",
       "<tr><td>9</td><td>Literal</td><td></td><td><a class=\"ProveItLink\" href=\"../../../__pv_it/8f1f7fac882de28c72b62ab80a1700b6d8fd066b0/expr.ipynb\"><img src=\"data:image/png;base64,iVBORw0KGgoAAAANSUhEUgAAAA4AAAAOBAMAAADtZjDiAAAAG1BMVEX///9EREQQEBAiIiJmZmbM\n",
       "zMyIiIjc3NwAAACryk5kAAAAAXRSTlMAQObYZgAAABlJREFUCNdjYGBgKGOAgBBa0s7GxkbGxoYA\n",
       "FMUF2aBfHgoAAAAASUVORK5CYII=\n",
       "\" style=\"display:inline;vertical-align:middle;\" /></a></td></tr>\n",
       "</table>\n"
      ],
      "text/plain": [
       "0. [not]([not](FALSE) and [not](FALSE)) = FALSE\n",
       "   core type: Operation\n",
       "   operator: 1\n",
       "   operands: 2\n",
       "1. =\n",
       "   core type: Literal\n",
       "   sub-expressions: \n",
       "2. ([not]([not](FALSE) and [not](FALSE)) , FALSE)\n",
       "   core type: ExprTuple\n",
       "   sub-expressions: 3, 9\n",
       "3. [not]([not](FALSE) and [not](FALSE))\n",
       "   core type: Operation\n",
       "   operator: 8\n",
       "   operand: 4\n",
       "4. [not](FALSE) and [not](FALSE)\n",
       "   core type: Operation\n",
       "   operator: 5\n",
       "   operands: 6\n",
       "5. and\n",
       "   core type: Literal\n",
       "   sub-expressions: \n",
       "6. ([not](FALSE) , [not](FALSE))\n",
       "   core type: ExprTuple\n",
       "   sub-expressions: 7, 7\n",
       "7. [not](FALSE)\n",
       "   core type: Operation\n",
       "   operator: 8\n",
       "   operand: 9\n",
       "8. not\n",
       "   core type: Literal\n",
       "   sub-expressions: \n",
       "9. FALSE\n",
       "   core type: Literal\n",
       "   sub-expressions: "
      ]
     },
     "execution_count": 4,
     "metadata": {},
     "output_type": "execute_result"
    }
   ],
   "source": [
    "# display the expression information\n",
    "expr.exprInfo()"
   ]
  },
  {
   "cell_type": "code",
   "execution_count": null,
   "metadata": {},
   "outputs": [],
   "source": []
  }
 ],
 "metadata": {
  "kernelspec": {
   "display_name": "Python 3",
   "language": "python",
   "name": "python3"
  }
 },
 "nbformat": 4,
 "nbformat_minor": 0
}
