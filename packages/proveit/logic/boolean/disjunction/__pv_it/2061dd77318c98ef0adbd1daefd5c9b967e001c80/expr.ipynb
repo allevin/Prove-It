{
 "cells": [
  {
   "cell_type": "markdown",
   "metadata": {},
   "source": [
    "Expression of type <a class=\"ProveItLink\" href=\"../../../../../../../doc/html/api/proveit.ExprTuple.html\">ExprTuple</a>\n",
    "=======================\n",
    "# from context <a class=\"ProveItLink\" href=\"../../_context_.ipynb\">proveit.logic.boolean.disjunction</a>"
   ]
  },
  {
   "cell_type": "code",
   "execution_count": 1,
   "metadata": {},
   "outputs": [],
   "source": [
    "# import Expression classes needed to build the expression\n",
    "from proveit import ExprTuple\n",
    "from proveit._common_ import H, I, J, K\n",
    "from proveit.logic import Booleans\n",
    "from proveit.number import Exp, four"
   ]
  },
  {
   "cell_type": "code",
   "execution_count": 2,
   "metadata": {},
   "outputs": [
    {
     "data": {
      "text/html": [
       "<strong id=\"expr\">expr:</strong> <a class=\"ProveItLink\" href=\"expr.ipynb\"><img src=\"data:image/png;base64,iVBORw0KGgoAAAANSUhEUgAAAJgAAAAcBAMAAABvzWvcAAAAMFBMVEX///+qqqp2dnYiIiJERESI\n",
       "iIhmZmYQEBDc3NyYmJgyMjLu7u5UVFTMzMy6uroAAACGxKilAAAAAXRSTlMAQObYZgAAArFJREFU\n",
       "SMetVU2I00AUfv1J2zT9O4ggCAZFERHag4iCYkUQxIUGdfFStaiIsoL14kk0h8WDCFYRj9KTi6zQ\n",
       "XLTgxSorqCy0eha6sAjiwXbbqOv2zzdJ5qc2B5c28DJfv5n58t7MN1OAiTxhmOCzxXDAj/G1lKQB\n",
       "KgHRyvhi0msDvhDwyhhf7BOKSRqCDxgxbT1Tn4wwKorBPoBQHn+QFKWqOSNXzct29+7BUd0Z6b3Q\n",
       "zlkgO5gyoGrWAjUqssssze1JgKwTsSxAgAycJz3xIkaKjlvj3/X2BG4zTiuyrvRXZX4rvAAihhFc\n",
       "ArtcaOC7nnNGxVqCifKckxMIHgpicDYMGy9duwLgK0AdqaC1B0nM/lyCZtPnYvEK45SdBJRFsU0R\n",
       "nH0fI5CG00h9tzpKGBm6teEmF2sUGPfZAv6EmNks5lt9g68mfETqvNVhYrRZNmkulnS2Il6U7VXw\n",
       "5rhYdP9xujIdmMLmmYXXFhcXfrFsBLPMUU5N2vvjYTuQXj70m46M9uApNrfonkkrLJsaPytdyp0I\n",
       "2P2xvFDm9AYHh/qwF5s+XSV/h44q8cQ8fyhXCNmGiTYFMX9MdT66wsXIKsVZ/iYXC3S4zTK1UTFI\n",
       "s8yeY3Od2Uyli/mT5n4DfClus0ZlpEwu1oMFbI4xm6GDDWZ6grwtqGugUM5nZSmTApR/y4ytwkls\n",
       "dgg2U9p0AS3k0ZQDeFJSDie1mDUsDsUen3KyRJ81sFnGmRcH7+Dq4C0ot9FVdzJd1UYwnUXLllcB\n",
       "Xma6GmwbvCeyS2BzeNCP3GSHpghxrC6oC9dJTB9F8G3oxim7cPgJDSJYsawKnOyCoDA0bbsLh3Xr\n",
       "EE3RK+i/xZSiq9gjjMMY9wROc0HS0KyIPsrhcxDjLrHIuq7tM66sdQl41Mn8dc5a7weTEZuByT5/\n",
       "Ad5Zzexf2akZAAAAAElFTkSuQmCC\n",
       "\" style=\"display:inline;vertical-align:middle;\" /></a><br>"
      ],
      "text/plain": [
       "expr: ((H , I , J , K) , BOOLEANS^{4})"
      ]
     },
     "execution_count": 2,
     "metadata": {},
     "output_type": "execute_result"
    }
   ],
   "source": [
    "# build up the expression from sub-expressions\n",
    "expr = ExprTuple([H, I, J, K], Exp(Booleans, four))"
   ]
  },
  {
   "cell_type": "code",
   "execution_count": 3,
   "metadata": {},
   "outputs": [
    {
     "name": "stdout",
     "output_type": "stream",
     "text": [
      "Passed sanity check: built 'expr' is the same as the stored Expression.\n"
     ]
    }
   ],
   "source": [
    "# check that the built expression is the same as the stored expression\n",
    "%check_expr"
   ]
  },
  {
   "cell_type": "code",
   "execution_count": 4,
   "metadata": {},
   "outputs": [
    {
     "data": {
      "text/html": [
       "<table><tr><th>&nbsp;</th><th>core type</th><th>sub-expressions</th><th>expression</th></tr>\n",
       "<tr><td>0</td><td>ExprTuple</td><td>1, 2</td><td><a class=\"ProveItLink\" href=\"expr.ipynb\"><img src=\"data:image/png;base64,iVBORw0KGgoAAAANSUhEUgAAAJgAAAAcBAMAAABvzWvcAAAAMFBMVEX///+qqqp2dnYiIiJERESI\n",
       "iIhmZmYQEBDc3NyYmJgyMjLu7u5UVFTMzMy6uroAAACGxKilAAAAAXRSTlMAQObYZgAAArFJREFU\n",
       "SMetVU2I00AUfv1J2zT9O4ggCAZFERHag4iCYkUQxIUGdfFStaiIsoL14kk0h8WDCFYRj9KTi6zQ\n",
       "XLTgxSorqCy0eha6sAjiwXbbqOv2zzdJ5qc2B5c28DJfv5n58t7MN1OAiTxhmOCzxXDAj/G1lKQB\n",
       "KgHRyvhi0msDvhDwyhhf7BOKSRqCDxgxbT1Tn4wwKorBPoBQHn+QFKWqOSNXzct29+7BUd0Z6b3Q\n",
       "zlkgO5gyoGrWAjUqssssze1JgKwTsSxAgAycJz3xIkaKjlvj3/X2BG4zTiuyrvRXZX4rvAAihhFc\n",
       "ArtcaOC7nnNGxVqCifKckxMIHgpicDYMGy9duwLgK0AdqaC1B0nM/lyCZtPnYvEK45SdBJRFsU0R\n",
       "nH0fI5CG00h9tzpKGBm6teEmF2sUGPfZAv6EmNks5lt9g68mfETqvNVhYrRZNmkulnS2Il6U7VXw\n",
       "5rhYdP9xujIdmMLmmYXXFhcXfrFsBLPMUU5N2vvjYTuQXj70m46M9uApNrfonkkrLJsaPytdyp0I\n",
       "2P2xvFDm9AYHh/qwF5s+XSV/h44q8cQ8fyhXCNmGiTYFMX9MdT66wsXIKsVZ/iYXC3S4zTK1UTFI\n",
       "s8yeY3Od2Uyli/mT5n4DfClus0ZlpEwu1oMFbI4xm6GDDWZ6grwtqGugUM5nZSmTApR/y4ytwkls\n",
       "dgg2U9p0AS3k0ZQDeFJSDie1mDUsDsUen3KyRJ81sFnGmRcH7+Dq4C0ot9FVdzJd1UYwnUXLllcB\n",
       "Xma6GmwbvCeyS2BzeNCP3GSHpghxrC6oC9dJTB9F8G3oxim7cPgJDSJYsawKnOyCoDA0bbsLh3Xr\n",
       "EE3RK+i/xZSiq9gjjMMY9wROc0HS0KyIPsrhcxDjLrHIuq7tM66sdQl41Mn8dc5a7weTEZuByT5/\n",
       "Ad5Zzexf2akZAAAAAElFTkSuQmCC\n",
       "\" style=\"display:inline;vertical-align:middle;\" /></a></td></tr>\n",
       "<tr><td>1</td><td>ExprTuple</td><td>3, 4, 5, 6</td><td><a class=\"ProveItLink\" href=\"../656394ec24288b3dc76c2d2345c5082b9534ef410/expr.ipynb\"><img src=\"data:image/png;base64,iVBORw0KGgoAAAANSUhEUgAAAGMAAAAVBAMAAACgbk16AAAAMFBMVEX////c3NwiIiJERESqqqqY\n",
       "mJh2dnZmZmYQEBDu7u4yMjJUVFTMzMyIiIi6uroAAAAs73DqAAAAAXRSTlMAQObYZgAAAa1JREFU\n",
       "OMudUz1MwkAYfYgFihQ7mrgQF0ddDIND2Y2RycXEoAuTocbEVQZnbVx0g8VE4yAOujDA5OLC5IJG\n",
       "dHThp4qRv3rX9mtLZBAvud7r9b2v33fvO+AfI1oZh73JHw9sVo24tmHEZXM3UNJ3iZFemLdA1VjW\n",
       "UNLLwTJ7ueQ7HTZbxJvOu1EzZRtwxooGsG8SzyvaByJfRKunXMkFpd8GhAQD60BI47n0mPbDiVxz\n",
       "JV17DQwgbnFwBrzzNdwA/N9Eu/aczacNGOPeBP4E9s3sF9mMEU93JYGmU5+gWjsqzs3sr4pFRaXI\n",
       "fVcSzjr1ZayQk3kc0bm8JChyz5XkClTfY9CqNZrFgLJXNDdtZ6wlqb6kr2OCSMOS6PbBgwqjcaC5\n",
       "tihlW3JItrQdW6iDZlTMeWypF+zElsgW/jvNMZyjTCrCYolU34TpgpBH2mOL2KLCTLSKExY4F7MZ\n",
       "Uts+5DfgVOlWgqVuCuKxDN+ecQcTQXq+5XY3LQa2jRsuriEkey+C/Bvhdaj7WcMInh6EMAIhOSTZ\n",
       "oeb/s0TkF2PWs1EZgaShn0zxhH1jXeQn4AcTg4InS07e0gAAAABJRU5ErkJggg==\n",
       "\" style=\"display:inline;vertical-align:middle;\" /></a></td></tr>\n",
       "<tr><td>2</td><td>Operation</td><td>operator:&nbsp;7<br>operands:&nbsp;8<br></td><td><a class=\"ProveItLink\" href=\"../2a67cfb1d5e4f1919e496e6aad098b5cd7560a810/expr.ipynb\"><img src=\"data:image/png;base64,iVBORw0KGgoAAAANSUhEUgAAABYAAAAUBAMAAAB7UtADAAAAMFBMVEX///9mZmbMzMzc3NxUVFSY\n",
       "mJju7u6IiIi6urqqqqoiIiIQEBBEREQyMjJ2dnYAAAAQvcRZAAAAAXRSTlMAQObYZgAAAHdJREFU\n",
       "CNdjYIABXgYEmJ8AZ7K9R7DZ8xFsTST2AyD77Z/7t9dMYGA1AIkfaGe79o4hnQHCZqjgZZgoKC8K\n",
       "Zk9lAYrZQ8VtGBhY/T1BbKalx6CGHeha/7sAxm5nKJ+DYPNwPECwGQ5gZyOpCayBMIFuO7VlApgJ\n",
       "AMGLMBpL2829AAAAAElFTkSuQmCC\n",
       "\" style=\"display:inline;vertical-align:middle;\" /></a></td></tr>\n",
       "<tr><td>3</td><td>Variable</td><td></td><td><a class=\"ProveItLink\" href=\"../../../../../__pv_it/fabf74ac81cd36aa91075816201d2b14195a56e60/expr.ipynb\"><img src=\"data:image/png;base64,iVBORw0KGgoAAAANSUhEUgAAABMAAAAOBAMAAAA/Njq6AAAALVBMVEX///+qqqp2dnbMzMy6uroi\n",
       "IiIyMjLc3NyYmJju7u5mZmZERERUVFSIiIgAAABaGT/LAAAAAXRSTlMAQObYZgAAAGhJREFUCNdj\n",
       "YGC4827XhJ53uwoYgOAZED8FMRhY3jIwML8CM5keMzDwPgQz2R4wMHC/BDP5NgBxAJjpl3PmzL4F\n",
       "YKaeAQPDPQEwMw+I900AM19DjYYa+whh7BM0Y2fte3OB69wbBQYGADOSITJjbaXUAAAAAElFTkSu\n",
       "QmCC\n",
       "\" style=\"display:inline;vertical-align:middle;\" /></a></td></tr>\n",
       "<tr><td>4</td><td>Variable</td><td></td><td><a class=\"ProveItLink\" href=\"../../../../../__pv_it/485fbf85ade6e4660c176b077846a05437e7af3e0/expr.ipynb\"><img src=\"data:image/png;base64,iVBORw0KGgoAAAANSUhEUgAAAAsAAAAOBAMAAAALT/umAAAAIVBMVEX////MzMyIiIi6uroyMjLc\n",
       "3NxmZmZERERUVFR2dnYAAABv5Bk0AAAAAXRSTlMAQObYZgAAAD9JREFUCNdjYGCYsaosgAEIloAI\n",
       "BuaVYIpzMZhiWQCmuArAlJUCmJolAKa8wCTDcoi2RRBtC5G0hVWtmMDAAAAhAQsT8Qr5GAAAAABJ\n",
       "RU5ErkJggg==\n",
       "\" style=\"display:inline;vertical-align:middle;\" /></a></td></tr>\n",
       "<tr><td>5</td><td>Variable</td><td></td><td><a class=\"ProveItLink\" href=\"../../../../../__pv_it/0730776658406f13a5e8bca83a69f67d4b6b708d0/expr.ipynb\"><img src=\"data:image/png;base64,iVBORw0KGgoAAAANSUhEUgAAAA0AAAAOBAMAAAAGUYvhAAAALVBMVEX///+IiIiqqqru7u7c3NyY\n",
       "mJi6urpUVFQQEBAyMjLMzMwiIiJmZmZ2dnYAAABVuDDQAAAAAXRSTlMAQObYZgAAAEdJREFUCNdj\n",
       "YGBguLNvDwMY3FsAoWdAKIbnEIrtKYTmfQKhORsgtF0BhNYLgNDnDICExwGG3WCzLnA9BNGKDNZg\n",
       "ZYyCpSAKAIbhD5JM+WhaAAAAAElFTkSuQmCC\n",
       "\" style=\"display:inline;vertical-align:middle;\" /></a></td></tr>\n",
       "<tr><td>6</td><td>Variable</td><td></td><td><a class=\"ProveItLink\" href=\"../../../../../__pv_it/3fb1092d10295c809ebd5134eaa882b76222b6190/expr.ipynb\"><img src=\"data:image/png;base64,iVBORw0KGgoAAAANSUhEUgAAABMAAAAOBAMAAAA/Njq6AAAALVBMVEX///8iIiJmZmbc3NyYmJh2\n",
       "dna6urqqqqoyMjLMzMzu7u5ERERUVFSIiIgAAAAU/m/NAAAAAXRSTlMAQObYZgAAAG5JREFUCNdj\n",
       "YGC4827PAoZzrycwAMELIK5ZAGKxPWVgYCkAsRhYnzFwBYNZDBwPGKZCWAx8DSwKUGZeQJwAlBl3\n",
       "lek5lNnnwPwCygTS+8Dmg43NOwAx9iUDA+MrmLEMvE9BrEX73lxgCHx3mIEBAPGUHmvA0AqBAAAA\n",
       "AElFTkSuQmCC\n",
       "\" style=\"display:inline;vertical-align:middle;\" /></a></td></tr>\n",
       "<tr><td>7</td><td>Literal</td><td></td><td><a class=\"ProveItLink\" href=\"../../../../../number/exponentiation/__pv_it/deb2bf23cbccdd6e6791e1b35b5b9794ce12dbd50/expr.ipynb\"><img src=\"data:image/png;base64,iVBORw0KGgoAAAANSUhEUgAAACgAAAASBAMAAADbMYGVAAAAMFBMVEX///8QEBAiIiKYmJjc3Nzu\n",
       "7u7MzMx2dnZmZma6urpERESqqqoyMjJUVFSIiIgAAAAoDOMTAAAAAXRSTlMAQObYZgAAAOBJREFU\n",
       "GNNjYGB4+//u3Tt/GNAASGAXmhjnPyDBgSbI/g1IxKEJ8nxgYGdgQRPkX8BgDKRY6q7s62OYvmze\n",
       "2wAgb/7ZO1+AVDiDkYEQQ0HTBr4DQF59AgOIKmB4z7CNbcNZBu6vQN55kEACQwDDLQYGVobfDHwg\n",
       "fb8YGBxYHwAZciD3fWXg+gB1JjvQcJZvQIXsCgz8F6DO9GBgMOH7wPCUgaeBwd4B7EwGNjUG7s9c\n",
       "AiwPgO5jkWRgiF3/9+5dfQUG1nWl5Y+B7pv+1gE9bBhqGLCAE1jEWH9jEbT5A3IwAC4sP/1L6Qlu\n",
       "AAAAAElFTkSuQmCC\n",
       "\" style=\"display:inline;vertical-align:middle;\" /></a></td></tr>\n",
       "<tr><td>8</td><td>ExprTuple</td><td>9, 10</td><td><a class=\"ProveItLink\" href=\"../99d9e2a7ce1678a36d25eb1d98e07cd4f4d6b5730/expr.ipynb\"><img src=\"data:image/png;base64,iVBORw0KGgoAAAANSUhEUgAAAC0AAAAVBAMAAAAgHXppAAAAMFBMVEX////c3NwiIiJERESqqqqY\n",
       "mJh2dnZmZmYQEBDu7u4yMjJUVFTMzMyIiIi6uroAAAAs73DqAAAAAXRSTlMAQObYZgAAAQJJREFU\n",
       "GNNjYMAF+C5gCMWBiNMMWZ/Xr1B2gAnybGBgPwCkVzIwGLzlXJkGE2cyYGBYwMDAewEkznCPCyZ+\n",
       "AygexsDAMQEs7so9ASLMGAUUn8HA8IoBol4YqpyNCyjO7MBQBhbnUbWEigeCxNkKGJaCxB/p/4C6\n",
       "lvMCSJxlAUMfxJy7zlBjGEDifA0M/yDizHwJYHEfsDjPB7g4gwHYmASYeAuKOMvu3fu7L4DMMUWY\n",
       "A/EBB1AB6wKGdIh4+GUGzk9wcaA7HzGAws2o24GBs18A5KD93wMYuB4wcAggQhzOBIYDawJcnBXO\n",
       "yoWEM7o4JzCcGaTh4vCI4wYZyIgZj3cYGADgx0Rx/3IEeAAAAABJRU5ErkJggg==\n",
       "\" style=\"display:inline;vertical-align:middle;\" /></a></td></tr>\n",
       "<tr><td>9</td><td>Literal</td><td></td><td><a class=\"ProveItLink\" href=\"../../../__pv_it/46271c8230be96415d662709611f4ed2279d702b0/expr.ipynb\"><img src=\"data:image/png;base64,iVBORw0KGgoAAAANSUhEUgAAAA0AAAAOBAMAAAAGUYvhAAAAMFBMVEX///9mZmbMzMzc3NxUVFSY\n",
       "mJju7u6IiIi6urqqqqoiIiIQEBBEREQyMjJ2dnYAAAAQvcRZAAAAAXRSTlMAQObYZgAAAElJREFU\n",
       "CNdjePvn/u01ExgYGA60s117B6YZKngh9FSWBAjfBsxnWnoMRHet/10AkS+fA6F5OB5AaIYDqDRU\n",
       "PLCGgQFoz6ktExgAgLIl8DFvGtkAAAAASUVORK5CYII=\n",
       "\" style=\"display:inline;vertical-align:middle;\" /></a></td></tr>\n",
       "<tr><td>10</td><td>Literal</td><td></td><td><a class=\"ProveItLink\" href=\"../../../../../number/numeral/__pv_it/23412ce59ea7e77353d2f9225e02248e73651ca00/expr.ipynb\"><img src=\"data:image/png;base64,iVBORw0KGgoAAAANSUhEUgAAAAoAAAAPBAMAAAAv0UM9AAAALVBMVEX///9mZmaqqqru7u52dnYy\n",
       "MjKYmJjc3NwQEBCIiIhEREQiIiJUVFTMzMwAAACUDTcXAAAAAXRSTlMAQObYZgAAAD5JREFUCNdj\n",
       "YGBguMMAArtABGcXiCyLApEOIJKtAERaMoBIBxDJdAFEmjCASJ0zZ16cBCkF64KQPu/EwBwGACv6\n",
       "DSRgin9qAAAAAElFTkSuQmCC\n",
       "\" style=\"display:inline;vertical-align:middle;\" /></a></td></tr>\n",
       "</table>\n"
      ],
      "text/plain": [
       "0. ((H , I , J , K) , BOOLEANS^{4})\n",
       "   core type: ExprTuple\n",
       "   sub-expressions: 1, 2\n",
       "1. (H , I , J , K)\n",
       "   core type: ExprTuple\n",
       "   sub-expressions: 3, 4, 5, 6\n",
       "2. BOOLEANS^{4}\n",
       "   core type: Operation\n",
       "   operator: 7\n",
       "   operands: 8\n",
       "3. H\n",
       "   core type: Variable\n",
       "   sub-expressions: \n",
       "4. I\n",
       "   core type: Variable\n",
       "   sub-expressions: \n",
       "5. J\n",
       "   core type: Variable\n",
       "   sub-expressions: \n",
       "6. K\n",
       "   core type: Variable\n",
       "   sub-expressions: \n",
       "7. Exp\n",
       "   core type: Literal\n",
       "   sub-expressions: \n",
       "8. (BOOLEANS , 4)\n",
       "   core type: ExprTuple\n",
       "   sub-expressions: 9, 10\n",
       "9. BOOLEANS\n",
       "   core type: Literal\n",
       "   sub-expressions: \n",
       "10. 4\n",
       "    core type: Literal\n",
       "    sub-expressions: "
      ]
     },
     "execution_count": 4,
     "metadata": {},
     "output_type": "execute_result"
    }
   ],
   "source": [
    "# display the expression information\n",
    "expr.exprInfo()"
   ]
  },
  {
   "cell_type": "code",
   "execution_count": null,
   "metadata": {},
   "outputs": [],
   "source": []
  }
 ],
 "metadata": {
  "kernelspec": {
   "display_name": "Python 3",
   "language": "python",
   "name": "python3"
  }
 },
 "nbformat": 4,
 "nbformat_minor": 0
}
