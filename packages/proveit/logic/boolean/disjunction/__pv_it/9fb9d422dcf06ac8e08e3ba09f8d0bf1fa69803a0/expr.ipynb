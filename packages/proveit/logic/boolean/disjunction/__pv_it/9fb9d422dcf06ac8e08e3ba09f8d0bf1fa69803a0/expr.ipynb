{
 "cells": [
  {
   "cell_type": "markdown",
   "metadata": {},
   "source": [
    "Expression of type <a class=\"ProveItLink\" href=\"../../../../../../../doc/html/api/proveit.ExprTuple.html\">ExprTuple</a>\n",
    "=======================\n",
    "# from context <a class=\"ProveItLink\" href=\"../../_context_.ipynb\">proveit.logic.boolean.disjunction</a>"
   ]
  },
  {
   "cell_type": "code",
   "execution_count": 1,
   "metadata": {},
   "outputs": [],
   "source": [
    "# import Expression classes needed to build the expression\n",
    "from proveit import ExprTuple\n",
    "from proveit._common_ import C, D, E, F, G, H, I"
   ]
  },
  {
   "cell_type": "code",
   "execution_count": 2,
   "metadata": {},
   "outputs": [
    {
     "data": {
      "text/html": [
       "<strong id=\"expr\">expr:</strong> <a class=\"ProveItLink\" href=\"expr.ipynb\"><img src=\"data:image/png;base64,iVBORw0KGgoAAAANSUhEUgAAAK8AAAAVBAMAAADC7aNVAAAAMFBMVEX////c3NwiIiJERESqqqqY\n",
       "mJh2dnZmZmYQEBDu7u4yMjJUVFTMzMyIiIi6uroAAAAs73DqAAAAAXRSTlMAQObYZgAAAo5JREFU\n",
       "OMu1Vb9v00AU/kJiJ07sxBsDQzMydkGVYEj+AAZPLEjUG2JATVV+SAgJBirBQr0gulREVAyIIaiV\n",
       "qISHRIwwNDtITVmQWJqmtFUTaHjvfGefB2+tFV383X3fu/e+e7kA5/ZU+2cf8xYP33hYu/bQuxhN\n",
       "fp+G4XpPMpzuJAw7bQ2syDw0BUnmgpvTOVcAs3uwWGT9ewbLwK9lSRsDhT9q7xoFLcxqIO9Fcl3B\n",
       "Eox0CX0cysB6GxB1P5q3j2h4EkjWHifYUsAHjAG/pRSo/iPZMTTWDaBEjPILXn0qCz6lYVsZv0BF\n",
       "WTFoUvrCJaGw63Le/EuyuMgF2noV+M35kQA5mVd+SMPMR8nqAD5cBQK4hqglpUCZJPkTJBLkm3hA\n",
       "hLGoTh5YjR3dVoEPYHjxYY9gRUAq1IYsqan0SUI1tPAOKB7qrSJcmPele+Ow48aNeYxiBNIK7H0I\n",
       "w0ZLMxyFNl4CF/Z11g5n3h3E7pXjFXMcXo7e0gpxEDtNzXA+MDqq2lAUJhcaPDxP3DNhK3CCiqyd\n",
       "FM6jdV9ztRFohsMecuCSCHxds8g4TNzLYU2BOl5FbyXuIPNUd3UMzXAO/AyoiAOVHtlsUWlWb+M7\n",
       "WoNGj1CI1OI2PoIuISuuyFhmEJnhsEVXqa5AucddFagGjSwTipm2nBdtzOnHEhht3OYeaKK6CLyp\n",
       "yzb+SqGskXLvS08DkjXvwd7w5bxqY41F7faTE/i8dY++VumsXzcm4eZjTmzFhbVJF9LGSIKl6ZYr\n",
       "Way4b/TEPEv6xe7EFyi3NP3Eew1QcpO22U1dp24G2M0iaYh+0oafLHg6y8gCXhZJQ3fltXnWgS2+\n",
       "wS/F806K1c8ATiYpQRX2JHcOf00/gP9Jo9yHGqgYywAAAABJRU5ErkJggg==\n",
       "\" style=\"display:inline;vertical-align:middle;\" /></a><br>"
      ],
      "text/plain": [
       "expr: (C , D , E , F , G , H , I)"
      ]
     },
     "execution_count": 2,
     "metadata": {},
     "output_type": "execute_result"
    }
   ],
   "source": [
    "# build up the expression from sub-expressions\n",
    "expr = ExprTuple(C, D, E, F, G, H, I)"
   ]
  },
  {
   "cell_type": "code",
   "execution_count": 3,
   "metadata": {},
   "outputs": [
    {
     "name": "stdout",
     "output_type": "stream",
     "text": [
      "Passed sanity check: built 'expr' is the same as the stored Expression.\n"
     ]
    }
   ],
   "source": [
    "# check that the built expression is the same as the stored expression\n",
    "%check_expr"
   ]
  },
  {
   "cell_type": "code",
   "execution_count": 4,
   "metadata": {},
   "outputs": [
    {
     "data": {
      "text/html": [
       "<table><tr><th>&nbsp;</th><th>core type</th><th>sub-expressions</th><th>expression</th></tr>\n",
       "<tr><td>0</td><td>ExprTuple</td><td>1, 2, 3, 4, 5, 6, 7</td><td><a class=\"ProveItLink\" href=\"expr.ipynb\"><img src=\"data:image/png;base64,iVBORw0KGgoAAAANSUhEUgAAAK8AAAAVBAMAAADC7aNVAAAAMFBMVEX////c3NwiIiJERESqqqqY\n",
       "mJh2dnZmZmYQEBDu7u4yMjJUVFTMzMyIiIi6uroAAAAs73DqAAAAAXRSTlMAQObYZgAAAo5JREFU\n",
       "OMu1Vb9v00AU/kJiJ07sxBsDQzMydkGVYEj+AAZPLEjUG2JATVV+SAgJBirBQr0gulREVAyIIaiV\n",
       "qISHRIwwNDtITVmQWJqmtFUTaHjvfGefB2+tFV383X3fu/e+e7kA5/ZU+2cf8xYP33hYu/bQuxhN\n",
       "fp+G4XpPMpzuJAw7bQ2syDw0BUnmgpvTOVcAs3uwWGT9ewbLwK9lSRsDhT9q7xoFLcxqIO9Fcl3B\n",
       "Eox0CX0cysB6GxB1P5q3j2h4EkjWHifYUsAHjAG/pRSo/iPZMTTWDaBEjPILXn0qCz6lYVsZv0BF\n",
       "WTFoUvrCJaGw63Le/EuyuMgF2noV+M35kQA5mVd+SMPMR8nqAD5cBQK4hqglpUCZJPkTJBLkm3hA\n",
       "hLGoTh5YjR3dVoEPYHjxYY9gRUAq1IYsqan0SUI1tPAOKB7qrSJcmPele+Ow48aNeYxiBNIK7H0I\n",
       "w0ZLMxyFNl4CF/Z11g5n3h3E7pXjFXMcXo7e0gpxEDtNzXA+MDqq2lAUJhcaPDxP3DNhK3CCiqyd\n",
       "FM6jdV9ztRFohsMecuCSCHxds8g4TNzLYU2BOl5FbyXuIPNUd3UMzXAO/AyoiAOVHtlsUWlWb+M7\n",
       "WoNGj1CI1OI2PoIuISuuyFhmEJnhsEVXqa5AucddFagGjSwTipm2nBdtzOnHEhht3OYeaKK6CLyp\n",
       "yzb+SqGskXLvS08DkjXvwd7w5bxqY41F7faTE/i8dY++VumsXzcm4eZjTmzFhbVJF9LGSIKl6ZYr\n",
       "Way4b/TEPEv6xe7EFyi3NP3Eew1QcpO22U1dp24G2M0iaYh+0oafLHg6y8gCXhZJQ3fltXnWgS2+\n",
       "wS/F806K1c8ATiYpQRX2JHcOf00/gP9Jo9yHGqgYywAAAABJRU5ErkJggg==\n",
       "\" style=\"display:inline;vertical-align:middle;\" /></a></td></tr>\n",
       "<tr><td>1</td><td>Variable</td><td></td><td><a class=\"ProveItLink\" href=\"../../../../../__pv_it/985a1bdf1540838275dec15f4ad6de261cca93ce0/expr.ipynb\"><img src=\"data:image/png;base64,iVBORw0KGgoAAAANSUhEUgAAAA8AAAAOBAMAAAACpFvcAAAAMFBMVEX////MzMyqqqoiIiIyMjK6\n",
       "uroQEBB2dnbc3NyYmJhmZmZUVFRERESIiIju7u4AAAB204erAAAAAXRSTlMAQObYZgAAAGZJREFU\n",
       "CNdjYGDgu7NrJccCBgaGsgkMrMsmMDA8sQNy6hsYGNweABlhDAxcn4A0QxcDQ78DiPGQgWH9BAYI\n",
       "sG+AMv6DSaCGfBDNJMDAsB+kmwuI5S8AiTog5gSaEwXWIO29SgFIAQBC+RaDQlidVgAAAABJRU5E\n",
       "rkJggg==\n",
       "\" style=\"display:inline;vertical-align:middle;\" /></a></td></tr>\n",
       "<tr><td>2</td><td>Variable</td><td></td><td><a class=\"ProveItLink\" href=\"../../../../../__pv_it/185e6d30f167ee2ee5ef3321098dc98e0d77bc590/expr.ipynb\"><img src=\"data:image/png;base64,iVBORw0KGgoAAAANSUhEUgAAABEAAAAOBAMAAAA7w+qHAAAALVBMVEX///8QEBCYmJjc3Ny6urru\n",
       "7u5mZmZ2dnaqqqrMzMxEREQyMjJUVFSIiIgAAABETr/8AAAAAXRSTlMAQObYZgAAAGpJREFUCNdj\n",
       "YGC48+7MmV0TGEDgNQMDxwsQg/M5kMgLABK8T4DEvAtAgusBkLA7ACT4FoDEDsAk9AqAxD2QCecc\n",
       "gMQ6kAGCIOIVEDM9Ahn3FkgwgnTxvgQSqwOgxs1OADLC1r05cyoTyAAAv4Qe+njAWvgAAAAASUVO\n",
       "RK5CYII=\n",
       "\" style=\"display:inline;vertical-align:middle;\" /></a></td></tr>\n",
       "<tr><td>3</td><td>Variable</td><td></td><td><a class=\"ProveItLink\" href=\"../../../../../__pv_it/9995c55100c62d7d8a012a35bafc852acbe03cf00/expr.ipynb\"><img src=\"data:image/png;base64,iVBORw0KGgoAAAANSUhEUgAAABAAAAAOBAMAAADUAYG5AAAALVBMVEX///8iIiKYmJjc3Nzu7u7M\n",
       "zMx2dnZmZma6urpERESqqqoyMjJUVFSIiIgAAACbLqVTAAAAAXRSTlMAQObYZgAAAGVJREFUCNdj\n",
       "YGC48+7MmdOvGYAARKwEYo63QIIdiNmeAglfIOZ+wMDGwAxk8E1gUAIpZejbc/oxmJEXwLABzNjH\n",
       "wJDAEABkvGRgMGC5ADWGzQFqjDnEGAZWUQYGn3lvzpyRE2AAAIznGVQJqiN4AAAAAElFTkSuQmCC\n",
       "\" style=\"display:inline;vertical-align:middle;\" /></a></td></tr>\n",
       "<tr><td>4</td><td>Variable</td><td></td><td><a class=\"ProveItLink\" href=\"../../../../../__pv_it/6d1586c49fb5fd7602fde2bbc54560e7304e8ccf0/expr.ipynb\"><img src=\"data:image/png;base64,iVBORw0KGgoAAAANSUhEUgAAABAAAAAOBAMAAADUAYG5AAAAMFBMVEX///9mZmYiIiLc3Nzu7u7M\n",
       "zMyqqqp2dna6urqYmJhEREQyMjIQEBBUVFSIiIgAAABBzvKsAAAAAXRSTlMAQObYZgAAAFxJREFU\n",
       "CNdjYGB4+//u3Tv/GIDgNxCvBGKO70BiBhCzfwMSqUDM/YWBmWEKkMGvwOAJUsrQL8AgDGbU7710\n",
       "AMzY78BwAcz4xMAygQFmDAiw/4AyuD9AaMf1f8GaAdy+F/r2qjhkAAAAAElFTkSuQmCC\n",
       "\" style=\"display:inline;vertical-align:middle;\" /></a></td></tr>\n",
       "<tr><td>5</td><td>Variable</td><td></td><td><a class=\"ProveItLink\" href=\"../../../../../__pv_it/994260d00d104a1ab9cf940a007fb6a4ff36f79e0/expr.ipynb\"><img src=\"data:image/png;base64,iVBORw0KGgoAAAANSUhEUgAAAA8AAAAOBAMAAAACpFvcAAAAMFBMVEX///+qqqrMzMwiIiIyMjK6\n",
       "uroQEBB2dnbc3NyYmJhmZmZUVFRERESIiIju7u4AAACtjd3MAAAAAXRSTlMAQObYZgAAAG5JREFU\n",
       "CNdjYGDgu7NrJccCBgaGsgkMrMsmMDA8sQNy6hsYGNweABnKDAxcH4E0QxcDQ78DiPGCgWH9BAYI\n",
       "sG+AMv4D8S2X4wwMaSBefQADw36Qbn8g1r/AwMDxBcjg/MnAoG0Oktf2XjVhEgMDAJHQGYM57+uu\n",
       "AAAAAElFTkSuQmCC\n",
       "\" style=\"display:inline;vertical-align:middle;\" /></a></td></tr>\n",
       "<tr><td>6</td><td>Variable</td><td></td><td><a class=\"ProveItLink\" href=\"../../../../../__pv_it/fabf74ac81cd36aa91075816201d2b14195a56e60/expr.ipynb\"><img src=\"data:image/png;base64,iVBORw0KGgoAAAANSUhEUgAAABMAAAAOBAMAAAA/Njq6AAAALVBMVEX///+qqqp2dnbMzMy6uroi\n",
       "IiIyMjLc3NyYmJju7u5mZmZERERUVFSIiIgAAABaGT/LAAAAAXRSTlMAQObYZgAAAGhJREFUCNdj\n",
       "YGC4827XhJ53uwoYgOAZED8FMRhY3jIwML8CM5keMzDwPgQz2R4wMHC/BDP5NgBxAJjpl3PmzL4F\n",
       "YKaeAQPDPQEwMw+I900AM19DjYYa+whh7BM0Y2fte3OB69wbBQYGADOSITJjbaXUAAAAAElFTkSu\n",
       "QmCC\n",
       "\" style=\"display:inline;vertical-align:middle;\" /></a></td></tr>\n",
       "<tr><td>7</td><td>Variable</td><td></td><td><a class=\"ProveItLink\" href=\"../../../../../__pv_it/485fbf85ade6e4660c176b077846a05437e7af3e0/expr.ipynb\"><img src=\"data:image/png;base64,iVBORw0KGgoAAAANSUhEUgAAAAsAAAAOBAMAAAALT/umAAAAIVBMVEX////MzMyIiIi6uroyMjLc\n",
       "3NxmZmZERERUVFR2dnYAAABv5Bk0AAAAAXRSTlMAQObYZgAAAD9JREFUCNdjYGCYsaosgAEIloAI\n",
       "BuaVYIpzMZhiWQCmuArAlJUCmJolAKa8wCTDcoi2RRBtC5G0hVWtmMDAAAAhAQsT8Qr5GAAAAABJ\n",
       "RU5ErkJggg==\n",
       "\" style=\"display:inline;vertical-align:middle;\" /></a></td></tr>\n",
       "</table>\n"
      ],
      "text/plain": [
       "0. (C , D , E , F , G , H , I)\n",
       "   core type: ExprTuple\n",
       "   sub-expressions: 1, 2, 3, 4, 5, 6, 7\n",
       "1. C\n",
       "   core type: Variable\n",
       "   sub-expressions: \n",
       "2. D\n",
       "   core type: Variable\n",
       "   sub-expressions: \n",
       "3. E\n",
       "   core type: Variable\n",
       "   sub-expressions: \n",
       "4. F\n",
       "   core type: Variable\n",
       "   sub-expressions: \n",
       "5. G\n",
       "   core type: Variable\n",
       "   sub-expressions: \n",
       "6. H\n",
       "   core type: Variable\n",
       "   sub-expressions: \n",
       "7. I\n",
       "   core type: Variable\n",
       "   sub-expressions: "
      ]
     },
     "execution_count": 4,
     "metadata": {},
     "output_type": "execute_result"
    }
   ],
   "source": [
    "# display the expression information\n",
    "expr.exprInfo()"
   ]
  },
  {
   "cell_type": "code",
   "execution_count": null,
   "metadata": {},
   "outputs": [],
   "source": []
  }
 ],
 "metadata": {
  "kernelspec": {
   "display_name": "Python 3",
   "language": "python",
   "name": "python3"
  }
 },
 "nbformat": 4,
 "nbformat_minor": 0
}
