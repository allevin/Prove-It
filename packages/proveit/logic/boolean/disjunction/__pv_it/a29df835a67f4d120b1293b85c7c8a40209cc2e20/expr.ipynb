{
 "cells": [
  {
   "cell_type": "markdown",
   "metadata": {},
   "source": [
    "Expression of type <a class=\"ProveItLink\" href=\"../../../../../../../doc/html/api/proveit.logic.Implies.html\">Implies</a>\n",
    "=======================\n",
    "# from context <a class=\"ProveItLink\" href=\"../../_context_.ipynb\">proveit.logic.boolean.disjunction</a>"
   ]
  },
  {
   "cell_type": "code",
   "execution_count": 1,
   "metadata": {},
   "outputs": [],
   "source": [
    "# import Expression classes needed to build the expression\n",
    "from proveit._common_ import A, C\n",
    "from proveit.logic import Equals, Implies, TRUE"
   ]
  },
  {
   "cell_type": "code",
   "execution_count": 2,
   "metadata": {},
   "outputs": [
    {
     "data": {
      "text/html": [
       "<strong id=\"expr\">expr:</strong> <a class=\"ProveItLink\" href=\"expr.ipynb\"><img src=\"data:image/png;base64,iVBORw0KGgoAAAANSUhEUgAAAHoAAAAVBAMAAAB71edYAAAAMFBMVEX///92dnYQEBBERERUVFS6\n",
       "urqIiIhmZmaqqqrc3Nzu7u6YmJgyMjIiIiLMzMwAAACFkkdwAAAAAXRSTlMAQObYZgAAAXNJREFU\n",
       "OMtjYKARCCMgzx0AZbzFIsnnACKXmZRvmI4qwX4XDAwY6qAC57Ho5lkAJBi1GRjCtTFNLgCrgLrh\n",
       "/gK4BBeMkQbinAVKMP7EoZtbAMyZUT8B1UoQ0AJxQASrAg7dXBCJhPwAuASrA5Q+ACTqG4AEZwEO\n",
       "3QwWYIUL+jcgZMSgYQN0FucfsBUPcOkWBxFLGd4ngOhacFjeh8jwAA1k/40I6DNg4ICiuwdEBDDM\n",
       "R3ZcD9gbTECS9yeOqIbqDgIxXVz8DZCkuA6BtPMDCf4PKLGAofs9yNtAiw4gSb2RYoDqZgLr7sOr\n",
       "GxiuvAoIf9+1AsswAYVZfoFYBSgJDM3lnEBlPB8Q5rZAKGZgqPF9AyW3BTjt3sPAsAak9BdcghPq\n",
       "CUaQgv0NDKyVuENNnGGy/kkGbvs/8EBnhiY71gsgVT7uFVjDHJJGj2JKwBiaBLMwlwJuuY0EdTMm\n",
       "4JbjWUBI9xo8cpwOhHR74pOcRkAz2wMGACjoYfpdlW2MAAAAAElFTkSuQmCC\n",
       "\" style=\"display:inline;vertical-align:middle;\" /></a><br>"
      ],
      "text/plain": [
       "expr: A => (C = TRUE)"
      ]
     },
     "execution_count": 2,
     "metadata": {},
     "output_type": "execute_result"
    }
   ],
   "source": [
    "# build up the expression from sub-expressions\n",
    "expr = Implies(A, Equals(C, TRUE))"
   ]
  },
  {
   "cell_type": "code",
   "execution_count": 3,
   "metadata": {},
   "outputs": [
    {
     "name": "stdout",
     "output_type": "stream",
     "text": [
      "Passed sanity check: built 'expr' is the same as the stored Expression.\n"
     ]
    }
   ],
   "source": [
    "# check that the built expression is the same as the stored expression\n",
    "%check_expr"
   ]
  },
  {
   "cell_type": "code",
   "execution_count": 4,
   "metadata": {},
   "outputs": [
    {
     "data": {
      "text/html": [
       "<table><tr><th>&nbsp;</th><th>core type</th><th>sub-expressions</th><th>expression</th></tr>\n",
       "<tr><td>0</td><td>Operation</td><td>operator:&nbsp;1<br>operands:&nbsp;2<br></td><td><a class=\"ProveItLink\" href=\"expr.ipynb\"><img src=\"data:image/png;base64,iVBORw0KGgoAAAANSUhEUgAAAHoAAAAVBAMAAAB71edYAAAAMFBMVEX///92dnYQEBBERERUVFS6\n",
       "urqIiIhmZmaqqqrc3Nzu7u6YmJgyMjIiIiLMzMwAAACFkkdwAAAAAXRSTlMAQObYZgAAAXNJREFU\n",
       "OMtjYKARCCMgzx0AZbzFIsnnACKXmZRvmI4qwX4XDAwY6qAC57Ho5lkAJBi1GRjCtTFNLgCrgLrh\n",
       "/gK4BBeMkQbinAVKMP7EoZtbAMyZUT8B1UoQ0AJxQASrAg7dXBCJhPwAuASrA5Q+ACTqG4AEZwEO\n",
       "3QwWYIUL+jcgZMSgYQN0FucfsBUPcOkWBxFLGd4ngOhacFjeh8jwAA1k/40I6DNg4ICiuwdEBDDM\n",
       "R3ZcD9gbTECS9yeOqIbqDgIxXVz8DZCkuA6BtPMDCf4PKLGAofs9yNtAiw4gSb2RYoDqZgLr7sOr\n",
       "GxiuvAoIf9+1AsswAYVZfoFYBSgJDM3lnEBlPB8Q5rZAKGZgqPF9AyW3BTjt3sPAsAak9BdcghPq\n",
       "CUaQgv0NDKyVuENNnGGy/kkGbvs/8EBnhiY71gsgVT7uFVjDHJJGj2JKwBiaBLMwlwJuuY0EdTMm\n",
       "4JbjWUBI9xo8cpwOhHR74pOcRkAz2wMGACjoYfpdlW2MAAAAAElFTkSuQmCC\n",
       "\" style=\"display:inline;vertical-align:middle;\" /></a></td></tr>\n",
       "<tr><td>1</td><td>Literal</td><td></td><td><a class=\"ProveItLink\" href=\"../../../implication/__pv_it/e5c030cabcb650938f92dee8256fe11cd12bf9b30/expr.ipynb\"><img src=\"data:image/png;base64,iVBORw0KGgoAAAANSUhEUgAAABMAAAANBAMAAAC5okgUAAAALVBMVEX////c3NxERETMzMwQEBCq\n",
       "qqoiIiJmZmaIiIh2dnZUVFS6uroyMjLu7u4AAACPpZJTAAAAAXRSTlMAQObYZgAAAD1JREFUCNdj\n",
       "YAABXgY44LkAZ3IvQAjPABFlaSCQV4AQjtkAZ/IegbNt5sLUpunC5aPgLMYDcCaTAJzJDCIA2yMN\n",
       "HCCUuIIAAAAASUVORK5CYII=\n",
       "\" style=\"display:inline;vertical-align:middle;\" /></a></td></tr>\n",
       "<tr><td>2</td><td>ExprTuple</td><td>3, 4</td><td><a class=\"ProveItLink\" href=\"../58d229a4905e7d4a81856c24c737fe1d90acd18f0/expr.ipynb\"><img src=\"data:image/png;base64,iVBORw0KGgoAAAANSUhEUgAAAGEAAAAVBAMAAACkm51HAAAAMFBMVEX////c3NwiIiJERESqqqqY\n",
       "mJh2dnZmZmYQEBDu7u4yMjJUVFTMzMyIiIi6uroAAAAs73DqAAAAAXRSTlMAQObYZgAAAVFJREFU\n",
       "OMtjYCAd8F0gQXEciDgNYR+Ci3Je3l7KWICqskgJBJQZ2A8AOSshYuvhshkBDHwVARjGHweTCxgY\n",
       "eCGOYtWfAJWZpQkk8gVw6AhjYOCAqBSph6lZARJ4wYBDxwwGhlcQ/oX7DyAM9i8gUhyXDmYHhjJI\n",
       "gE3wh7pcfgGInINLB1sBw1IwYx7DeWgg1yP8XLUKBFaj6GBZwNAHZjxgkIeGp74AjqiA6OBrYPgH\n",
       "onl2795vAJH4DyYn4NLB8wGigw8YZgsgEv1guw/g0dECoh0YGJgaIBL7Qcazo0Q0mqtMgRQjUAfX\n",
       "B4hbwCGQidMfrAsY0kHRDAronwycn0BCwPh4LsCAJ3QfMTAI9y9kYLX/VcDZD1J5enW5A7awOgYm\n",
       "uR4wcCCZxydAMLkDUwlrAoLLSjiD5CJSO3E6OEFxII3gE86N3CB3M5KSa+8wMAAAkLhVr/vFGPgA\n",
       "AAAASUVORK5CYII=\n",
       "\" style=\"display:inline;vertical-align:middle;\" /></a></td></tr>\n",
       "<tr><td>3</td><td>Variable</td><td></td><td><a class=\"ProveItLink\" href=\"../../../../../__pv_it/2cbe72a7ad6f655694dd697106680215e8489b600/expr.ipynb\"><img src=\"data:image/png;base64,iVBORw0KGgoAAAANSUhEUgAAAA8AAAAOBAMAAAACpFvcAAAALVBMVEX///8QEBBERERUVFS6urqI\n",
       "iIhmZmaqqqrc3Nzu7u6YmJgyMjIiIiLMzMwAAADtIaYWAAAAAXRSTlMAQObYZgAAAFtJREFUCNdj\n",
       "YACBOwxQsA9Kc52bAGG05zVAGAFxDmCaZULdAjBjCsO9ADDDgaEvAUTzGhvbKYCVMDAwbgAxChgY\n",
       "eASANAeQwf0AyJgNxEwvGRia5HYwcOm9TgAA6BoR3jrzwFcAAAAASUVORK5CYII=\n",
       "\" style=\"display:inline;vertical-align:middle;\" /></a></td></tr>\n",
       "<tr><td>4</td><td>Operation</td><td>operator:&nbsp;5<br>operands:&nbsp;6<br></td><td><a class=\"ProveItLink\" href=\"../b23077c3a41795c997648d11f4f820f1c3c40dcc0/expr.ipynb\"><img src=\"data:image/png;base64,iVBORw0KGgoAAAANSUhEUgAAADoAAAAOBAMAAACMfhKgAAAAMFBMVEX////MzMyqqqoiIiIyMjK6\n",
       "uroQEBB2dnbc3NyYmJhmZmZUVFRERESIiIju7u4AAAB204erAAAAAXRSTlMAQObYZgAAAIFJREFU\n",
       "GNNjYGDgu7NrJccCBhSw2BgEbICssgkMrMsmMKADKTD5xA5I1DfgkHV7ACTCGLDLcn0CkV04ZPsd\n",
       "QORDHLLrEe5Z4gIC3siy9pjuQZL9D2Y+wCGbDyKYBHDI7gdp40ILILis/AUgUYfLXk6gf6MacMky\n",
       "SHuvUsDmZnEgBgBCIx3R/MqcuAAAAABJRU5ErkJggg==\n",
       "\" style=\"display:inline;vertical-align:middle;\" /></a></td></tr>\n",
       "<tr><td>5</td><td>Literal</td><td></td><td><a class=\"ProveItLink\" href=\"../../../../equality/__pv_it/2fb26078095930560931daa0500ce419a39ea6cd0/expr.ipynb\"><img src=\"data:image/png;base64,iVBORw0KGgoAAAANSUhEUgAAAA4AAAAFBAMAAACHocAhAAAAFVBMVEX///9EREQiIiJUVFQyMjJm\n",
       "ZmYAAADubVkoAAAAAXRSTlMAQObYZgAAABRJREFUCNdjCHEBAWcGXCBICQQUAUpuAwlgGKrkAAAA\n",
       "AElFTkSuQmCC\n",
       "\" style=\"display:inline;vertical-align:middle;\" /></a></td></tr>\n",
       "<tr><td>6</td><td>ExprTuple</td><td>7, 8</td><td><a class=\"ProveItLink\" href=\"../8c0227396cfb27cab1a1f8d313096b229bfa7b210/expr.ipynb\"><img src=\"data:image/png;base64,iVBORw0KGgoAAAANSUhEUgAAADUAAAAVBAMAAAAUZLt1AAAAMFBMVEX////c3NwiIiJERESqqqqY\n",
       "mJh2dnZmZmYQEBDu7u4yMjJUVFTMzMyIiIi6uroAAAAs73DqAAAAAXRSTlMAQObYZgAAAPdJREFU\n",
       "KM9jYMAH+C5gFY4DEadBxFzr8gBxsFiREggoM7AfAHJWAjFbKwPD81aYluNgcgEDAy/QSM5FE4Dy\n",
       "H1HlwhgYOIDCXJ0gextQ5WYwMLwCUvUOQIKxAFWO2YGhDCj6C8TmPIAqx1bAsJSBgf0rqvMhciwL\n",
       "GPoYGJg+YpMD2v+PgYH/A9hMNDmeDyA5DrCcD6ZcCwMD908QuwDTTFOgir8gZwH9OQFZjnUBQzqQ\n",
       "indg4CsE2vgJzQ+PQEbv2l4Cck2/AFj0GJjkesDAIYAUXUhsUJixJiC4rMi+zIXGERY5TmAcMUgj\n",
       "+MgpgBtkPiP2NHGHgQEARp87Dtqtr0YAAAAASUVORK5CYII=\n",
       "\" style=\"display:inline;vertical-align:middle;\" /></a></td></tr>\n",
       "<tr><td>7</td><td>Variable</td><td></td><td><a class=\"ProveItLink\" href=\"../../../../../__pv_it/985a1bdf1540838275dec15f4ad6de261cca93ce0/expr.ipynb\"><img src=\"data:image/png;base64,iVBORw0KGgoAAAANSUhEUgAAAA8AAAAOBAMAAAACpFvcAAAAMFBMVEX////MzMyqqqoiIiIyMjK6\n",
       "uroQEBB2dnbc3NyYmJhmZmZUVFRERESIiIju7u4AAAB204erAAAAAXRSTlMAQObYZgAAAGZJREFU\n",
       "CNdjYGDgu7NrJccCBgaGsgkMrMsmMDA8sQNy6hsYGNweABlhDAxcn4A0QxcDQ78DiPGQgWH9BAYI\n",
       "sG+AMv6DSaCGfBDNJMDAsB+kmwuI5S8AiTog5gSaEwXWIO29SgFIAQBC+RaDQlidVgAAAABJRU5E\n",
       "rkJggg==\n",
       "\" style=\"display:inline;vertical-align:middle;\" /></a></td></tr>\n",
       "<tr><td>8</td><td>Literal</td><td></td><td><a class=\"ProveItLink\" href=\"../../../__pv_it/68a87cc3370287d726c7086ace789e680e4461c30/expr.ipynb\"><img src=\"data:image/png;base64,iVBORw0KGgoAAAANSUhEUgAAAA4AAAAOBAMAAADtZjDiAAAAFVBMVEX///92dnbMzMxEREQiIiJm\n",
       "ZmYAAABAT6GXAAAAAXRSTlMAQObYZgAAABhJREFUCNdjCHEBAWcGIFBlgABa0YpADAAxegPJJk4d\n",
       "XAAAAABJRU5ErkJggg==\n",
       "\" style=\"display:inline;vertical-align:middle;\" /></a></td></tr>\n",
       "</table>\n"
      ],
      "text/plain": [
       "0. A => (C = TRUE)\n",
       "   core type: Operation\n",
       "   operator: 1\n",
       "   operands: 2\n",
       "1. =>\n",
       "   core type: Literal\n",
       "   sub-expressions: \n",
       "2. (A , C = TRUE)\n",
       "   core type: ExprTuple\n",
       "   sub-expressions: 3, 4\n",
       "3. A\n",
       "   core type: Variable\n",
       "   sub-expressions: \n",
       "4. C = TRUE\n",
       "   core type: Operation\n",
       "   operator: 5\n",
       "   operands: 6\n",
       "5. =\n",
       "   core type: Literal\n",
       "   sub-expressions: \n",
       "6. (C , TRUE)\n",
       "   core type: ExprTuple\n",
       "   sub-expressions: 7, 8\n",
       "7. C\n",
       "   core type: Variable\n",
       "   sub-expressions: \n",
       "8. TRUE\n",
       "   core type: Literal\n",
       "   sub-expressions: "
      ]
     },
     "execution_count": 4,
     "metadata": {},
     "output_type": "execute_result"
    }
   ],
   "source": [
    "# display the expression information\n",
    "expr.exprInfo()"
   ]
  },
  {
   "cell_type": "code",
   "execution_count": null,
   "metadata": {},
   "outputs": [],
   "source": []
  }
 ],
 "metadata": {
  "kernelspec": {
   "display_name": "Python 3",
   "language": "python",
   "name": "python3"
  }
 },
 "nbformat": 4,
 "nbformat_minor": 0
}
