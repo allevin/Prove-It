{
 "cells": [
  {
   "cell_type": "markdown",
   "metadata": {},
   "source": [
    "Show the Proof\n",
    "========"
   ]
  },
  {
   "cell_type": "code",
   "execution_count": 1,
   "metadata": {},
   "outputs": [
    {
     "data": {
      "text/html": [
       "<table><tr><th>&nbsp;</th><th>step type</th><th>requirements</th><th>statement</th></tr>\n",
       "<tr><td>0</td><td>assumption</td><td></td><td><span style=\"font-size:20px;\"><a class=\"ProveItLink\" href=\"../593a924c5b9eb6488f4f396ed52eb50a1195bff80/expr.ipynb\"><img src=\"data:image/png;base64,iVBORw0KGgoAAAANSUhEUgAAAFUAAAAVBAMAAADFg78FAAAAMFBMVEX///9ERETc3NyqqqpUVFS6\n",
       "urrMzMwyMjIQEBCIiIh2dnYiIiLu7u5mZmaYmJgAAABJJ2g3AAAAAXRSTlMAQObYZgAAAUZJREFU\n",
       "KM9jYGDgu8dAELCtUgBRPLsYiABszSCS8wOUtwGLEk7/j3f4/D9eYmC4DuJyNUCE2T9gM4+/AIhB\n",
       "pqxAVvv6D0IFD5wVP4GBIf8Cmlom208ItewHYKz1CQwM8w3Q1HJyfkWoZXWAseqBWP4AmtoY5n9I\n",
       "zlwJY3wE4t8MMLW8BWAXBrD9BEve3g0C+y9ALfju4uL4F8R6DyIyAsCCDEx/kf1vDhZl4PoGdN1n\n",
       "sBeAulPawIIpLi4fkdXyVATAApIREkDiDxgYIhJALKBMO7La9DWQ4BWABDEDA/cCIMECYjID8Q4k\n",
       "9+6WQQreBXD3coFiRRkaPDBgghy8AQzIYcZTAAtGCGAqQA9euFomie8KDA//18LVMipAPHjxvyfD\n",
       "lf9eDOjpASUFYgrhVMuAQy0fcWrB6ZdnJ1H5ohVM8S0mMr8BAGm4XYWr0H0PAAAAAElFTkSuQmCC\n",
       "\" style=\"display:inline;vertical-align:middle;\" /></a> <a class=\"ProveItLink\" href=\"proof.ipynb\" style=\"text-decoration: none\">&#x22A2;&nbsp;</a><a class=\"ProveItLink\" href=\"../ac54d531cdd4e8e152ede9522e5a75c7b88e37e40/expr.ipynb\"><img src=\"data:image/png;base64,iVBORw0KGgoAAAANSUhEUgAAAEMAAAAPBAMAAABNfm9XAAAAMFBMVEX///92dnYQEBBERERUVFS6\n",
       "urqIiIhmZmaqqqrc3Nzu7u6YmJgyMjIiIiLMzMwAAACFkkdwAAAAAXRSTlMAQObYZgAAAORJREFU\n",
       "KM9jYACBtwxYQMp/8wVb/ptPgPDOY1PC8AeI/0LZ3PcXICTgTNZvDAx836GcGfUTEEpOwRiM/xgY\n",
       "2H5AOQn5AQglITAGzwcGBuZfUBMX9G9AKGFMgDL4DYD4AoS9lOE9WJj9LhjArI8/4uJiXwBhBzDM\n",
       "L0DyCMdRCC3/gIEhvwHM5HNx8TdA9uwaVXhI2EP8x8rAwHQASQXfQYj4Z2jQAAHQLF4FJLdcXoAI\n",
       "lo9gJmcDxH9wpzggBctXiM0MCO+DwByMYJmsf5KB2/4PwkuWEGq5/ZcEdv8vAtgi7wG6AABg7Udg\n",
       "2AFDvgAAAABJRU5ErkJggg==\n",
       "\" style=\"display:inline;vertical-align:middle;\" /></a></span></td></tr>\n",
       "</table>"
      ],
      "text/plain": [
       "<proveit._core_.proof._ShowProof at 0x7f94ebb1def0>"
      ]
     },
     "execution_count": 1,
     "metadata": {},
     "output_type": "execute_result"
    }
   ],
   "source": [
    "import proveit\n",
    "%show_proof"
   ]
  },
  {
   "cell_type": "code",
   "execution_count": null,
   "metadata": {},
   "outputs": [],
   "source": []
  }
 ],
 "metadata": {
  "kernelspec": {
   "display_name": "Python 3",
   "language": "python",
   "name": "python3"
  }
 },
 "nbformat": 4,
 "nbformat_minor": 0
}
