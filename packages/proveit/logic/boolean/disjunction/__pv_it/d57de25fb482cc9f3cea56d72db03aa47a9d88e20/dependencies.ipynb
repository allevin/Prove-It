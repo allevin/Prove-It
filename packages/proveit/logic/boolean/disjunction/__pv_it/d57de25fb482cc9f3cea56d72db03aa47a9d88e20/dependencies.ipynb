{
 "cells": [
  {
   "cell_type": "markdown",
   "metadata": {},
   "source": [
    "Theorem Dependencies\n",
    "=======================\n",
    "\n",
    "## <a class=\"ProveItLink\" href=\"../../_context_.ipynb\">proveit.logic.boolean.disjunction</a>.<a class=\"ProveItLink\" href=\"../../_theorems_.ipynb#singularConstructiveDilemma\">singularConstructiveDilemma</a> \n",
    "***see <a class=\"ProveItLink\" href=\"../../_proofs_/singularConstructiveDilemma.ipynb\">proof</a>***"
   ]
  },
  {
   "cell_type": "code",
   "execution_count": 1,
   "metadata": {},
   "outputs": [],
   "source": [
    "from proveit.logic.boolean.disjunction._theorems_ import singularConstructiveDilemma"
   ]
  },
  {
   "cell_type": "code",
   "execution_count": 2,
   "metadata": {},
   "outputs": [
    {
     "data": {
      "text/html": [
       "<h3>Axioms required (directly or indirectly) to prove singularConstructiveDilemma</h3>"
      ],
      "text/plain": [
       "<IPython.core.display.HTML object>"
      ]
     },
     "metadata": {},
     "output_type": "display_data"
    },
    {
     "data": {
      "text/html": [
       "<dl>"
      ],
      "text/plain": [
       "<IPython.core.display.HTML object>"
      ]
     },
     "metadata": {},
     "output_type": "display_data"
    },
    {
     "data": {
      "text/html": [
       "<dt><a class=\"ProveItLink\" href=\"../../_axioms_.ipynb#orFF\">proveit.logic.boolean.disjunction.orFF</a></dt><dd><a class=\"ProveItLink\" href=\"../0ed976e03d3d7070b42aaf5485813e9ab228404b0/expr.ipynb\"><img src=\"data:image/png;base64,iVBORw0KGgoAAAANSUhEUgAAAHAAAAAVBAMAAABs93eRAAAAMFBMVEX////c3NwiIiJERESqqqqY\n",
       "mJh2dnZmZmYQEBDu7u4yMjJUVFTMzMyIiIi6uroAAAAs73DqAAAAAXRSTlMAQObYZgAAAQ5JREFU\n",
       "OMtjYCAb8F3AJxuHW+o0iGDEolsWRLAfYMAhw7ASRPAUQIQegDkQ9nEwuQCLRrAM7wVkjXtAxF1k\n",
       "jWG4NHJMQNZ4GERoImucgUvjKwZkjVwCDAwsBcgamR1waCxD0QjSBNKM0MhWgEPjUhSNIGceRpZm\n",
       "YAGHTtUqEFiNLNOHqhEYMPtQNPI14LDxH6pGJgbOBSgaeT4Qp5HdgS2AOI0tqBoZFzAxYHFqkRII\n",
       "KCPLmKJqZNgTi6qRdQEOG9PRNB7WRNWIMzoeAf0FdEWTkpIBJAlAFALdpgF2G9cDNF0wGQ4BVHGe\n",
       "Caj8GbhyFWsC/uyai1NmJV59nAtwSknj1cgtgFOKEW/RcQeXBADdEUd5x52DOAAAAABJRU5ErkJg\n",
       "gg==\n",
       "\" style=\"display:inline;vertical-align:middle;\" /></a></dd>"
      ],
      "text/plain": [
       "<IPython.core.display.HTML object>"
      ]
     },
     "metadata": {},
     "output_type": "display_data"
    },
    {
     "data": {
      "text/html": [
       "<dt><a class=\"ProveItLink\" href=\"../../../_axioms_.ipynb#eqTrueElim\">proveit.logic.boolean.eqTrueElim</a></dt><dd><a class=\"ProveItLink\" href=\"../../../__pv_it/3e7bd867633eab3d515d0929d36506bc9b5772e10/expr.ipynb\"><img src=\"data:image/png;base64,iVBORw0KGgoAAAANSUhEUgAAAGgAAAAWBAMAAADeGsQjAAAAMFBMVEX///8QEBC6urrMzMxUVFRm\n",
       "ZmZERETc3NwyMjKqqqp2dnaIiIiYmJgiIiLu7u4AAAAU9Wx4AAAAAXRSTlMAQObYZgAAAUpJREFU\n",
       "OMtjeMBABrgAIk6ToIEZqGMliNFHgiaODwwMZUCaPYEETWf/ATUCPcU6gXg97FO/MzDwLC8vryXB\n",
       "Im7uT0DyW1raLRI06XH+AZLODAzpYG47mGSCe7gAmx4+BebfQEqFga8BxOX5BBZlg0mfV4AyWNPS\n",
       "xNKyoBwmBvavQIqXgfsAiPv0D4omvvgDCPMRoWvi4vIN5LMDvOBUse4qiiautwHYNAGtlwAZ2WAC\n",
       "jugNaSiarNkSsGjiBOKLIEa6E4hkYYhF0eTAeoHBowMINiBrqgTifhBjKjj5nWTYj6yJZwL3B0yb\n",
       "wEGWD/INI8gsvquhYA5M09vQsH8YmtgTfxQwHPvfCjIUpJi1gMHeAElTOAPzZ4YMDOehAh0GBv4D\n",
       "CE1MQPYfbKGHDJ58Y2D3vwPXxOefwFDy9wABTQjARk5Opp8mFiLUAADNR1FAr8G4iQAAAABJRU5E\n",
       "rkJggg==\n",
       "\" style=\"display:inline;vertical-align:middle;\" /></a></dd>"
      ],
      "text/plain": [
       "<IPython.core.display.HTML object>"
      ]
     },
     "metadata": {},
     "output_type": "display_data"
    },
    {
     "data": {
      "text/html": [
       "<dt><a class=\"ProveItLink\" href=\"../../../_axioms_.ipynb#eqTrueIntro\">proveit.logic.boolean.eqTrueIntro</a></dt><dd><a class=\"ProveItLink\" href=\"../../../__pv_it/d0cb838f1f1e44deadf0499da151f8dae5a0de4f0/expr.ipynb\"><img src=\"data:image/png;base64,iVBORw0KGgoAAAANSUhEUgAAAIwAAAAXBAMAAAArT7qNAAAAMFBMVEX///8QEBC6urrMzMxUVFRm\n",
       "ZmZERETc3NwyMjKqqqp2dnaIiIiYmJgiIiLu7u4AAAAU9Wx4AAAAAXRSTlMAQObYZgAAAaxJREFU\n",
       "OMtjYKAOeEBYCdMG/PI8CgwMF0CM03iVmUAoW3Rx1rtgkMAQzMCwEiTQh9cYqGw/FinmABDJwcBQ\n",
       "BqTYE/CZwg3xE8/9B7iM4VnAwAGUZJ2AzxhGiPbK+AJcxvAJMPAsLy+vxesnDQi1Yb8CLmMYMhkY\n",
       "vqWl3cJrTBQkuh7MP4DTmKUMDM4MDOlgdjtEOUxFO4zRAyYfMdiDw4i1AwwcUIyZwcCgwsDXAA6n\n",
       "T2ARNlhi+AQzRghMKjDUB+B0jSIDAy8DN9i1T/+gGAPlAgHYPGYXF/8EnMbYA+PzAC84KtZdRTEG\n",
       "yoUZA/QrYwM+Y/gawKmUeUMasjEwLhBIgghgkuAVQEm6aJ5iSHcCsVgYYpGNgXGBIAeUQIHGcHzA\n",
       "6ZoTQDwVnK1OMuxHNgbGhcQmwwuQzD98Ec7ACIpIvquh+Q8QxsC5QKALzDHy7Qw8+T8wo4p5AZhq\n",
       "AkUtSD1rAYO9AcIYOBdkTQGhkoRPAMbSYWDgP4AwBs6FZDwCgAtWID35xsDufwduDIJLuBiBhhwa\n",
       "YMMUKiFkjDtRxrATKES5DYgyhhzAQpYuAAUAaqwIkhhoAAAAAElFTkSuQmCC\n",
       "\" style=\"display:inline;vertical-align:middle;\" /></a></dd>"
      ],
      "text/plain": [
       "<IPython.core.display.HTML object>"
      ]
     },
     "metadata": {},
     "output_type": "display_data"
    },
    {
     "data": {
      "text/html": [
       "<dt><a class=\"ProveItLink\" href=\"../../../implication/_axioms_.ipynb#impliesFalseDef\">proveit.logic.boolean.implication.impliesFalseDef</a></dt><dd><a class=\"ProveItLink\" href=\"../../../implication/__pv_it/0360c7ad947a096705c0fcf3db690f3dc937688f0/expr.ipynb\"><img src=\"data:image/png;base64,iVBORw0KGgoAAAANSUhEUgAAAOAAAAAVBAMAAACtXP94AAAAMFBMVEX///8QEBC6urrMzMxUVFRm\n",
       "ZmZERETc3NwyMjKqqqp2dnaIiIiYmJgiIiLu7u4AAAAU9Wx4AAAAAXRSTlMAQObYZgAAAnBJREFU\n",
       "SMe9Vc9rE0EUfukaE5PNtvTWQzGVHgQVcvAmkqCFHCtILuIvPGwRheYgrSJqCJRKkOql0Fv3EsWL\n",
       "7H/QvQgVL17agyguohKoiBQsHkR8MzubeTO7sxUPPvh2h/3mm2923psZgP8dYSY74ksoYVfNIjPH\n",
       "mDes8drU4ySBjNOI86n9C3xi6ZxQPWftFZPhCoGMx4hian/rHBg5oVpg87pq8Cv7EmRhPmAebC8t\n",
       "LZEh5RKqIr7yTwyGuVBCxp0rbQBnTF0Haki5hMp+trh4z7SiRwlk+BusKq7LD9OaIeWSqj3XfWsy\n",
       "vEAgKzdcD/DVl19KvmbYT6n3oeoswBz/tJzs9YhgGB+hzgzWWDv/nscPzTDiHvJo6KppcDo8qbsi\n",
       "ub3eUiD04xLR0KwaqvCADTtF5nCoqxpOJecuVRUo8/E//8LHTusi+N7OEdFrl4CPh9O1ZmZmWVXX\n",
       "6XCDccWwntwvUlUOKrwGX2xh+9r9b2hY+pphOIJF29EGtXrhPoZE5XT4MWL5LsBLXk7escui2wRB\n",
       "bIhbqDIWL5vI4XaYsqSCi/Y4Vc2dYV8OwCUAnky/NRnn8CaBMCygtPgd25skhQ2taDYTRx5VrfLj\n",
       "9BVsgOVFf5g/Jfr1CXjUYIDPg7/V0r8N+20LRZVj5epsteZDa9t1b7AclkS/EwRRLBxeBnv+J47b\n",
       "lcNF24qv4SRfw67mp6psloB8G+o1pxH94dAw15bQgh5ftQzOxBwHGA2gKZb0bnzgehJalHzzhWjm\n",
       "hsynPSjMvoMvVb7x3SD7eoqzYorB3zNPMYc0bhGo0cwwbP4DQ27wGOpNWTOLzBwyfwCulsldcIJz\n",
       "nAAAAABJRU5ErkJggg==\n",
       "\" style=\"display:inline;vertical-align:middle;\" /></a></dd>"
      ],
      "text/plain": [
       "<IPython.core.display.HTML object>"
      ]
     },
     "metadata": {},
     "output_type": "display_data"
    },
    {
     "data": {
      "text/html": [
       "<dt><a class=\"ProveItLink\" href=\"../../../negation/_axioms_.ipynb#negationElim\">proveit.logic.boolean.negation.negationElim</a></dt><dd><a class=\"ProveItLink\" href=\"../../../negation/__pv_it/3b08940eb52ec7364a09d58733ea5eec05fbe9620/expr.ipynb\"><img src=\"data:image/png;base64,iVBORw0KGgoAAAANSUhEUgAAAJcAAAAXBAMAAAD0AcCSAAAAMFBMVEX///8QEBC6urrMzMxUVFRm\n",
       "ZmZERETc3NwyMjKqqqp2dnaIiIiYmJgiIiLu7u4AAAAU9Wx4AAAAAXRSTlMAQObYZgAAAbxJREFU\n",
       "OMtjYKAmeECsQqYN+OUPAfEFEOM0EYaZQChbLFLVIILVgIFhJYjRR4RhUDX9WKRMwWQDA0MZkGJP\n",
       "IGwWN8SXPPcf4DLsFAMDB1CSdQJhwxghhlTGF+Ay7CHQquXl5bVE+FIDQm3Yr4DLMDagk76lpd0i\n",
       "wrAoSJQ+mH8Al2FcAQwMzgwM6WBOO0Q5qrp2GKMHTD5isAeHXUQHCLSgGMYJjAEVBr4GcNB+gjgW\n",
       "xSyoIBAIgUkFhvoAXC5jEmBg4GXgBrv86R8shkEFgQBsKrOLi38CLsOYPwDj/AAvOKLWXcViGFQQ\n",
       "ZhgwDBgb8BnG1wBO28wb0jANgwkCgSSIAMYXrwCIEXsXBK5heJMh3QnEZGGIxTQMJggEOaDEDTSM\n",
       "4wMul/GA3DwVnD1PMuxHMmxZWlpaA0IQCJYC8QuQ/D98SYOBERTZfFdD8x+guiwBIQgEusCcJ9/O\n",
       "wJP/Ay06gT6+CPYxByg584DUsxYw2BugGwYXBFlZQChZP4SzdBgY+A+gGwYXBFm5gJBhq2GMJ98Y\n",
       "2P3voBpmgBAkppjiw5Jm2HApLiFgGEsBCYaxEyi2NzOQYBg5gIUCvQCemG+1sUJnVwAAAABJRU5E\n",
       "rkJggg==\n",
       "\" style=\"display:inline;vertical-align:middle;\" /></a></dd>"
      ],
      "text/plain": [
       "<IPython.core.display.HTML object>"
      ]
     },
     "metadata": {},
     "output_type": "display_data"
    },
    {
     "data": {
      "text/html": [
       "<dt><a class=\"ProveItLink\" href=\"../../../negation/_axioms_.ipynb#negationIntro\">proveit.logic.boolean.negation.negationIntro</a></dt><dd><a class=\"ProveItLink\" href=\"../../../negation/__pv_it/799eb3b565b99e60491a24b404f1db01d8e6476d0/expr.ipynb\"><img src=\"data:image/png;base64,iVBORw0KGgoAAAANSUhEUgAAAIUAAAAXBAMAAADXWpFHAAAAMFBMVEX///8QEBC6urrMzMxUVFRm\n",
       "ZmZERETc3NwyMjKqqqp2dnaIiIiYmJgiIiLu7u4AAAAU9Wx4AAAAAXRSTlMAQObYZgAAActJREFU\n",
       "OMtjYKACeECacm10gUNAfAHEOE2sEcwOKDygZlYDBoaVIE4fsWZwoDib4wOQaGBgKANS7AnEmrEb\n",
       "hXf2H5A4BTGZdQKxZsghc9infgeSDxkYeJaXl9cSawRTAzKPm/sTkGQDOuBbWtotYs1gXYDM0+P8\n",
       "AyS5AhgYnBkY0sFC7RCr4AFWgCVIDyBx+BSYfwMpTqDbVBj4wC7k+QSWYYMpOa+AUA4Lc0agWOxd\n",
       "ILgFto39K4gSYGDgZeAGm/70D4oZfPEHMM3gh5lrAsIuLt9AiQQYwdwHeMGRvu4qihlcbwMImAFk\n",
       "S0DN4GswAae5DWkoZlizJWDxywSEGZxA6iLULwzpTiBRFoZYFDMcWC8weHQAwQYkM9gOIMyoBFL9\n",
       "oHAEheZUcJY5ybAf2QyeCdwfMN3BBfMfMyQi8h9AxRhBNvFdDc1/gGTG29Cwf5hmMF2Ap9HEHwUM\n",
       "x/63AuMbFEY8IL2sBQz2BkhmhDMwf2bIQPcLgzhmmnkIZ+kAA/0AwgwmIPsPpjtAGQwdrIYxnnxj\n",
       "YPe/AzeDzz+BoeQvNABZ09LE0rKw5X2w0gZMY9nwZhh2B3QRlgJSzWCoRhfYzECyGUQBFtK1AAB+\n",
       "a2tdy7eWbQAAAABJRU5ErkJggg==\n",
       "\" style=\"display:inline;vertical-align:middle;\" /></a></dd>"
      ],
      "text/plain": [
       "<IPython.core.display.HTML object>"
      ]
     },
     "metadata": {},
     "output_type": "display_data"
    },
    {
     "data": {
      "text/html": [
       "<dt><a class=\"ProveItLink\" href=\"../../../../equality/_axioms_.ipynb#equalityInBool\">proveit.logic.equality.equalityInBool</a></dt><dd><a class=\"ProveItLink\" href=\"../../../../equality/__pv_it/73f6352d4b9c57bd488459471847814cbb959ffb0/expr.ipynb\"><img src=\"data:image/png;base64,iVBORw0KGgoAAAANSUhEUgAAAKYAAAAWBAMAAAC4bPoxAAAAMFBMVEX///8QEBC6urrMzMxUVFRm\n",
       "ZmZERETc3NwyMjKqqqp2dnaIiIiYmJgiIiLu7u4AAAAU9Wx4AAAAAXRSTlMAQObYZgAAAmFJREFU\n",
       "OMu1VT2IE0EU/pJNNsnuZg2ejYVwgoUgwQg2VjlOUFErtRAtXJscgsoWkvMUvSgcWJzxChUL4bYJ\n",
       "/hxKkDOgKW4bQbBJJSIXnCqIh3AqnIWN85dssruDFvrg2535dt6befN+FvgPQlQfkk0BhVjjar7D\n",
       "Bu9iPu6VUMnx0Pzxxp0b7xc4/4TN6zE6dQXfl2yYcHbZ9aecr9JZxomqmE0BtfNexCZeZDmfpRea\n",
       "XoiqJIiAUuyCeK/d7n7o23yYIoy3Hk1PX4tR2SmhlnP8qc2ToXNWBb9RqXyM0TglcWV55mXoCuyG\n",
       "h1mCBp9USeC7tnqRvim/H5iKsTkvYHvWaoLlRvoWlwk6NJLrWAEe8HWBrlP89I3tTvkdsGsxNjcL\n",
       "GDDXc6XRT/vSHVSA7fzMznCM2vfB+TxMP8bmdwEbqUhSkEQTv4Ayr4xt3W4QIz3pcd7080RtkwY/\n",
       "mlCLRPshbWoTw+fU4XDerrFqWZpcph4mW4P82SqB2RKv33SXCz/0SZiFvu+diE3GT03SayMHEjRJ\n",
       "1za5e+SK8wKWuwIz7MccdHq8t3x8dMQm853x9+hWSR5nXC+iJVc0BBb9s7ga9v0EdvuQufR1fMjm\n",
       "m5bUFBf2k/OHcUSuKAr0Xn9ZioSw1z7jAjf5ODNXGvSQC1tYQTLeYq5pBU1k0Fi/Nl2BeHkW1Gbu\n",
       "kIx7qGZRNmoGLrsYo+kctIhImxCS6tg0eoaiwQz43qvTz1H2cbdV+3Ovy3s63eyzwoUQ72fc1GD3\n",
       "SxJRybWP0edBhc1RXnN1L2hFmaaAQszSX/EWPYH3D35xvwHMAqgmkf/s6AAAAABJRU5ErkJggg==\n",
       "\" style=\"display:inline;vertical-align:middle;\" /></a></dd>"
      ],
      "text/plain": [
       "<IPython.core.display.HTML object>"
      ]
     },
     "metadata": {},
     "output_type": "display_data"
    },
    {
     "data": {
      "text/html": [
       "<dt><a class=\"ProveItLink\" href=\"../../../../equality/_axioms_.ipynb#equalsSymmetry\">proveit.logic.equality.equalsSymmetry</a></dt><dd><a class=\"ProveItLink\" href=\"../../../../equality/__pv_it/00337eac3723871d5661da0e358240a663e29ee80/expr.ipynb\"><img src=\"data:image/png;base64,iVBORw0KGgoAAAANSUhEUgAAAN0AAAAWBAMAAAC2xYReAAAAMFBMVEX///8QEBC6urrMzMxUVFRm\n",
       "ZmZERETc3NwyMjKqqqp2dnaIiIiYmJgiIiLu7u4AAAAU9Wx4AAAAAXRSTlMAQObYZgAAAoFJREFU\n",
       "SMe9VjFoFEEU/bd7u5u7vdscppAgyhUWggQVbFJFIkTQRsQiGESrS6HFFmIEUbdQSBFCQK0s3CaI\n",
       "HgkHyoGc6GIjRISrLITA2qTQ5jCghRbOnz+7uZ2dubtGHzzu9r83f/Zm/p85gP+MWCcYLaIO7xWx\n",
       "o4PtyC4+fFQYTgrqYB3PhcxTg+3I5/iwqjCsauIpglxkLB5iZ7zJPpyredltEfXYykU6w+xb9E7W\n",
       "Wl4uxEQ9vuYih4bZGSvPlpbuKOQjgnrY8lsawTA78mej8UUhXyJ66yHck36m0zzzZAGgfF4uiTDV\n",
       "+iFSoB15GmBRMd8KsWz04B0+zy8j7uPXb/ApOghQCqT4WJRqYPHwMhasSIF25GHwVOuwjzhtdaEh\n",
       "SSEb/pAtX03e8nqq9UOkQDuyCm6kmO8HMS604HfuiJjj3daT4uP1VMvYKQXakW5UjfXzwdPY3M2J\n",
       "B7TzCS0DSpHM5wV4ijRnX7HmN9ppD0wKzoPL1+3yNuIzFcwueMl69sULa6kGFg9v88amFMl6wuIs\n",
       "29N4Dt3fx/0T4qWuCz4AWz6lPrg9eMs6Sd52O0q1DCgF2vmQx+wINXg9wt0paAvTuuBFOCZtb+mP\n",
       "XXNain5ggUTLgFIk/QAFrv/i0lk4J0xTgjudK77UT9c2X7zB8q/L/d5NtQwoBdr5kArumFkzqQsm\n",
       "kuL2iQAbI59n+3Vny8beeUaYKQdluOXDhJEUXSXkLHa9SU2S5ggnOEKkaPYP2Xm9sAkzETxqB9n7\n",
       "qBraoXo6b9T7iFKgXR4SOX4x3ewbnKXOBc3PK/q5kKO8bykF2qUhpm+He1cClpkz4AJ8qYjdHmyX\n",
       "hlTYq4T/+O/SX8R3y4z+LqoKAAAAAElFTkSuQmCC\n",
       "\" style=\"display:inline;vertical-align:middle;\" /></a></dd>"
      ],
      "text/plain": [
       "<IPython.core.display.HTML object>"
      ]
     },
     "metadata": {},
     "output_type": "display_data"
    },
    {
     "data": {
      "text/html": [
       "<dt><a class=\"ProveItLink\" href=\"../../../../equality/_axioms_.ipynb#equalsTransitivity\">proveit.logic.equality.equalsTransitivity</a></dt><dd><a class=\"ProveItLink\" href=\"../../../../equality/__pv_it/15953cfebb497c481d8be77ed0e16c42a27f82610/expr.ipynb\"><img src=\"data:image/png;base64,iVBORw0KGgoAAAANSUhEUgAAANEAAAAXBAMAAABnpbd1AAAAMFBMVEX///8QEBC6urrMzMxUVFRm\n",
       "ZmZERETc3NwyMjKqqqp2dnaIiIiYmJgiIiLu7u4AAAAU9Wx4AAAAAXRSTlMAQObYZgAAAoBJREFU\n",
       "SMe9VUtoE1EUPZOZZvLrJLQLFVFScKFUMcVC3UglhQotSFYiFiGrVqyLQcQoogQRKihF0Lqwm8GN\n",
       "n0AIWAO2ooNQBD+QlYggRBeKuokIdtOF976Zya+daOHhgXDe3Jt55913PwP8N1TlbdXv73pBvwov\n",
       "XssQUg/6+7pSwANezMpQCnW6njxwlkjPylBa6uR85Zyk64YMpe2dnJ+A2L1c7qIMoUC+kzdIwfye\n",
       "nPwgQ6nLojQUDs1PtDv6evQSIhlgBJjyO+aGCsIGvuOtvY0fjl5lXOGlfurxESBMEe+A4Rd3cCNK\n",
       "ShKw8Bw32+wGjMN06ATQjagtQyme5DEwuo7nDDdbDaTTXZWlBGxdJwcZV8nID9KqkF6gNg6UobDs\n",
       "gdnzDaXIQv+IN2+yopZdEoPh/Ve3RRRm/RfdFuH4R8Y74bgj5Oj2MJWm3aqj/M8fcXOA7ellq6FU\n",
       "1LJbNE7wNaO0otIbghwLtN3HvAugHLyM1vCsLaSwBY2aiWthrsJVdp2tl/agLNzfmm4vGfLyqH+u\n",
       "RLN1chPudT3VcXg1mKCKbsX+5TeXhZfCFr4VYR7DuNgy2ZynuOm9pVlaqUECp+vpqMCYLj582p6m\n",
       "TOwnHSbEO8Y4M2pCZXMPepn2YahJaQCpoHNXSlJJiYJWPIuaUr1zbPrLNHIwHMlHcM5Eb6BGpI7t\n",
       "ytaV1Np9WF7PpPZCnxHkYvDu7aYh6o+Ct/jyZKKIYRu3ynmiaGCzWVcypucWvTYIj5+AuirIRalv\n",
       "5l++Gu3DwdZNToDt2085TmPMoTXQO3wJNbP1o2kGrZ1MvkoneWAPObQWF/yVHrU+xhBesph8leYX\n",
       "OXKHpEKTudkfgDCcYn7TElEAAAAASUVORK5CYII=\n",
       "\" style=\"display:inline;vertical-align:middle;\" /></a></dd>"
      ],
      "text/plain": [
       "<IPython.core.display.HTML object>"
      ]
     },
     "metadata": {},
     "output_type": "display_data"
    },
    {
     "data": {
      "text/html": [
       "<dt><a class=\"ProveItLink\" href=\"../../../../equality/_axioms_.ipynb#notEqualsDef\">proveit.logic.equality.notEqualsDef</a></dt><dd><a class=\"ProveItLink\" href=\"../../../../equality/__pv_it/c5793376bd5f3ed65f46b9bf759589707c82e7920/expr.ipynb\"><img src=\"data:image/png;base64,iVBORw0KGgoAAAANSUhEUgAAAP8AAAAWCAMAAAA4nbqyAAAAPFBMVEX///8LCwsYGBgNDQ0oKCgQ\n",
       "EBC6urrMzMxUVFRmZmZERETc3NwyMjKqqqp2dnaIiIiYmJgiIiLu7u4AAACwKje0AAAAAXRSTlMA\n",
       "QObYZgAAArlJREFUWMPlWNuy2yAMpD3lYjD3///XAjE5FhZYznT60OohO7GI1qCVgDD2n1v64DfC\n",
       "Q5yZM9jTIJ6x0B1r67wQ47efGlYqiDMzO/58k09Y6I4767wAne3unSqFPvDuB2qW6P0JC91xHxJB\n",
       "o3u2NDGK9xCfpr8ozdFZ6A5CBTgE+3JulhiFJ4iP088Sp7PQHYRexxEMzjSL1Oa3Q5zW70JP2lJZ\n",
       "6A6KdV6AWVeLjtpFHETjvDLWb6MsNehyybXxJrfsuY3KMnXMaMeUo7wAVXtRbahNJABMJXyIgfGu\n",
       "n21v9uurfr5btWMi1+LN7Zv9TuIx/GXqwjKjv9BOAuG8AEUdnMiy4gKgO6JbuUq/tGyrb6pfRSE4\n",
       "kWWLb3Mk2rEIcV6IdYAP1PlnAbDqSl1LXajxlMWrUvNLrjJTWS67/poWOd1hvBDr3GP6cP4tJ9ci\n",
       "3MdysrUCZZZ/aP4T2quhvBCL9nv00lSEV7KfMzWy33ALsTYXeTpIN8n+/PESrT7VeV3pQX9Q4efh\n",
       "3E7mP6OdBUJ5B9Tm2KtdqqI6KJJn2TA5lqoOAIN5NReflulne221+phEuO02Okzmv6TF+iXGO6Dd\n",
       "ji4qzo3XJFEe+7HI4B5ic2C6LJHxi+pveSiPRA4wxuLqdBkh72nR/RLjHfFUSfmUOVW6rBoZRDxj\n",
       "0t4l54b2eU1/Hei3Hny/vQKKuHTgtGgHxHhHDG8VVbnL8ybELxsMNxCRnjNJr4sPzr/mqWMhprg4\n",
       "/54llpnb295qWgbL3EW+vUVcDdlMVKx0tndZ+l3lo8vTDe+IJ63YrQirrkRVllVe78/vv1j66/FF\n",
       "H2+e/uL9F+MdEV/mIgKDlH9tjAoiIf3MlirsRa9ICp5FnzvQXCC8I6IHR9PWDb9t9a476b43zc1L\n",
       "2qtPe7v57B+AzjviLP117Rz7x+03cmkoGF9quhUAAAAASUVORK5CYII=\n",
       "\" style=\"display:inline;vertical-align:middle;\" /></a></dd>"
      ],
      "text/plain": [
       "<IPython.core.display.HTML object>"
      ]
     },
     "metadata": {},
     "output_type": "display_data"
    },
    {
     "data": {
      "text/html": [
       "<dt><a class=\"ProveItLink\" href=\"../../../../equality/_axioms_.ipynb#substitution\">proveit.logic.equality.substitution</a></dt><dd><a class=\"ProveItLink\" href=\"../../../../equality/__pv_it/8d36a51e21a3e1f2d1a576f0cfdfe721d403af1e0/expr.ipynb\"><img src=\"data:image/png;base64,iVBORw0KGgoAAAANSUhEUgAAAO8AAAAXBAMAAAARnwX+AAAAMFBMVEX///8QEBC6urrMzMxUVFRm\n",
       "ZmZERETc3NwyMjKqqqp2dnaIiIiYmJgiIiLu7u4AAAAU9Wx4AAAAAXRSTlMAQObYZgAAAvdJREFU\n",
       "SMfFVj1oFEEUfvef293bHKayECJYpIk5wcYqRyRGTBPUQgyiNonCgVuI8QfNIggWEq5QsLttDglB\n",
       "OTAemhRZJIVoc7UorE0QLXIYMIUiznszO7O3uznJQfDBm/123jfzZt+99+YA/pd4vS5MNqLYGPw3\n",
       "/63QFr586MHxURzMyQmJUc7EEEOcTInrIr4s9OCY1mQXf3es74shhjk21xvskbu0e786RW7zcFVi\n",
       "irUTZYY577n2sR85U9294wQlRy2AKazFKDPM+cLVeDY3d7eHSA/ReCGASa5GmWFOtsr158zMxx4c\n",
       "n8dh/cC4j28v33rFolmPEBXHrDsw74E2BaTHAWYxSOON6O5dquMRjb98bDrGpwSrkKeUuA9JytDJ\n",
       "0ZJtWAPI21wPgYl5llmZiu7eJen24ZDb8rEGejvPiuRghKg4xzItmGEFXeRaAN1lhkLc13Vx/AOH\n",
       "fNvHJqSJPBohKo6XaODnp9pcdbeACdfv9eBYaymcaMQ7DnBqXmpLOTZt7CnGtWk0L40ts3glmyL7\n",
       "uWM+SW2vKctiPyVoWeH5ErZfCnXmMwlfHeCcA72oQg2zY2h4R6fzTiRYon/vt46oL6bJk5gtDWkA\n",
       "qKivRGxYa6B7YpvOgpcceECnMGyu8IRiQXWQ5Ml6bxiayrGY7DAI/uagj2vuZbgDceWkOHAWRlyQ\n",
       "5SSOVOG0bRpPwWTwN96Wu/gGgGEcRjwfb6x8W8IcvR9xrDiwsXrRYr1ykCsYniwPSBVT/GUg4Bgn\n",
       "r1CopYEdl20BrwN4p5bZwXmuWqa/4g/ATWtUszX2gIFkWzmmSSG+ga4Do1wJXw1auAsFOemWiSm2\n",
       "JBTEVzEP7sab6RfsAY+btnJMk0J8A11ziYVW8IpE+RpJrQCn4GQdoHZl2upk+Gu7HLs5K92IrWNp\n",
       "YHIdjLolsZCJsOMgJ796mj3TFldxga+zSk3x15SVdYbiG4g04CECUfWxXtq54/icl0LF/xEMuiEO\n",
       "yY7mxDuWhr2W8t5t/RfNBeNeS11EOAAAAABJRU5ErkJggg==\n",
       "\" style=\"display:inline;vertical-align:middle;\" /></a></dd>"
      ],
      "text/plain": [
       "<IPython.core.display.HTML object>"
      ]
     },
     "metadata": {},
     "output_type": "display_data"
    },
    {
     "data": {
      "text/html": [
       "</dl>"
      ],
      "text/plain": [
       "<IPython.core.display.HTML object>"
      ]
     },
     "metadata": {},
     "output_type": "display_data"
    },
    {
     "data": {
      "text/html": [
       "<h3>Theorems that depend directly on singularConstructiveDilemma</h3>"
      ],
      "text/plain": [
       "<IPython.core.display.HTML object>"
      ]
     },
     "metadata": {},
     "output_type": "display_data"
    },
    {
     "data": {
      "text/html": [
       "<dl>"
      ],
      "text/plain": [
       "<IPython.core.display.HTML object>"
      ]
     },
     "metadata": {},
     "output_type": "display_data"
    },
    {
     "data": {
      "text/html": [
       "<dt><a class=\"ProveItLink\" href=\"../../_proofs_/constructiveDilemma.ipynb\">proveit.logic.boolean.disjunction.constructiveDilemma</a></dt><dd><a class=\"ProveItLink\" href=\"../fcf6dc4140b9f7c67e6a969934108219ce7d63810/expr.ipynb\"><img src=\"data:image/png;base64,iVBORw0KGgoAAAANSUhEUgAAAUwAAAAXBAMAAACSfmvsAAAAMFBMVEX///8QEBC6urrMzMxUVFRm\n",
       "ZmZERETc3NwyMjKqqqp2dnaIiIiYmJgiIiLu7u4AAAAU9Wx4AAAAAXRSTlMAQObYZgAABIhJREFU\n",
       "SMfVV19oW1UY/6W3Sdqb5LbqgzhQoygIKo0gm1CkwTWtL9JIczsoc0Zld/MP9j5UN5DNTtTiGJoX\n",
       "hz4ZlelU6CJMRfqwO1CY+LC9dKCOmqEdw7o6pqt2q5vf951zb27S2tEHjX5wT875vnO+8zvfv3MC\n",
       "/D+o+h/A0FJZUZxMA8e483VzYd7NjfVpbmM8X8c/eLm39+UMMAh8wONXmwtTtn/bQ8uDHpDmgaEE\n",
       "fwDtC0Ab8CyN4sWmokywz09PU3PABdYza1IExgVqHq4iWUYbBWe01FSYEc6PXdzcRN9aZk0r/Oeo\n",
       "6anA6kTy/W3bdjTX57fRF13g3jP0tZFF21WMxs5S83wWeByYd5xvmwtzmMGMce8HKIgMlaiDg7GH\n",
       "YO6TWNgizHFp9563+zIqz+yJz3jZiF14rFFzWv9qffWzAqY4Ljc869bpbdgG2MMR6AWiae148Tdw\n",
       "tAy8AdwCS06SPKeKVCcSndy510NMOoeBu9TGyd27X1Lq/Jw76uPlWR8vYVIWnAAeqdMLfxvjWt2/\n",
       "mr7va0ej9LlP9Q7xQQbSErMpJGTrmUURRbNo+Z1L7q9kIkHTJ0zM2htRKc/eHIZpkRH4xPQVgC43\n",
       "YAbURTvtDevV1FqUJUJsn8u1uyal7QaMcHMVm5W84qVEOjElolQFUS75J8nWhtwO34HtkHh05xzB\n",
       "NH8OwzTP5PE5FbSszHqoxmR6kyGvoaY7rBftJT0MrM8wbxSRhEG0ZOpzzrPZFxVMa0wuAaPiiOiX\n",
       "DI6wVQ7wJozfIrMmzuJLFlbKt28Kw+yOFREj07g8KzleY0qekhqTc3UurFdnAg1xSMO8jl3LW0Vl\n",
       "GB9L6YC5yNWqqAvVFomEVm2MrsmDT/Pv8eDCpZ1aj0H8ULGvr4vNLBkokcYozbo42VetMYccx9l6\n",
       "DRktuDhEb5TYzi62WRd9D2jRU362TKjxen13J8hA2Mpaj9D3uvjiK324/ZQNLLng6zcJYKRslJU1\n",
       "o90hmMkSmdkqol9mJW+oMVWYD6Kj7Kvx9RLZGRlijRbt41VUN2/VabRWFXcpm/fk/RkRPog1ZY+I\n",
       "ls3kkJLWMSuTaae3qsZxx3mSY9MMwTxjD10C3uHQjOVhLYSY4rTNboQWW5WwXoaxAXiCIlFPw53y\n",
       "/HjR9u/CNhXbMyO/9fYNSvcFPoiEhYseCeAFlZ0Y8p3QQau/gZVV1qyDuQEG+eUUreVZXBt85ic2\n",
       "UY7U0kSzGuhNMLuQV8OUDyvi1hdlo/FxaQWV7A7ayYuPI34J8SlQ52QJZgbbCX0V2ykg+7XTn6vB\n",
       "bCE25aH5Bd8iVezI8zrFnCP6iaxoUXq8i0CvxfyPGAkN9wQ1tHyFa8r036M/ziM+cMJYxP7z9v0l\n",
       "UMcqDJMxezzzNbtATsKptJR3p5ZC1kARo396Ugp41iu0+6LP9F+RM7kPqwj0iq3YLzTMufUPuRXo\n",
       "dOM7eUmnVqnfo9gMqO7l5y6jgGjn8uz40v8Lo1eA2d8wXtfYMdzlF/7dA3XdqtgB8pX/ZCQyDQyv\n",
       "sZPE6mB6q2L/45T9l/f7CxBlWMs+FvP9AAAAAElFTkSuQmCC\n",
       "\" style=\"display:inline;vertical-align:middle;\" /></a></dd>"
      ],
      "text/plain": [
       "<IPython.core.display.HTML object>"
      ]
     },
     "metadata": {},
     "output_type": "display_data"
    },
    {
     "data": {
      "text/html": [
       "<dt><a class=\"ProveItLink\" href=\"../../_proofs_/orIfLeft.ipynb\">proveit.logic.boolean.disjunction.orIfLeft</a></dt><dd><a class=\"ProveItLink\" href=\"../3c4b3483045068595eecea6c2a0d5f0b783374600/expr.ipynb\"><img src=\"data:image/png;base64,iVBORw0KGgoAAAANSUhEUgAAAK8AAAAXBAMAAACPJQJeAAAAMFBMVEX///8QEBC6urrMzMxUVFRm\n",
       "ZmZERETc3NwyMjKqqqp2dnaIiIiYmJgiIiLu7u4AAAAU9Wx4AAAAAXRSTlMAQObYZgAAAr9JREFU\n",
       "OMu1VUtoE2EQ/trNdmPzsHgQPKhBPAgqRhA8+GjQoAUP6SUHxfoCtwUfzUGsImouNVBEe6lXc1Er\n",
       "igT01kOjKPg42IP1IIKpqAgVLaWt9UF1HrvLJsRgig78+/+Zmf+b2flmNsD/ktL8rjUWalkf0Brh\n",
       "w7O6gTfotqVC/fBXMtkVgxkHbvLvS3UDOzcuS/ZyjMtzMWBOAlngJP2yDtSLG9JKhN9wJQNxT2P8\n",
       "oDUFPAWCZDL76wVuUGpO788wGucVEU3oK0X7DozRdqOn52zdlVilW2E4xluO1oAomlooxDLaKdUZ\n",
       "235VN/AebY3S1SIc0JxoFiZgXaDcm9uB7UAn4JmuTKd3xCtgYu4h5x4uyvMtWqWyVAZDaWrdNdTB\n",
       "sRYQeysRzQoRk8pHC0Iteurr65WE4HLruJAscgKeb3eoDGjw4QyiL/hduCQIyfX3P8VkJtBIDIyn\n",
       "96KQH19RBuy4kEgEI5lMqWkEH1V/kMEJzpigcEUl9M6omCIFmCMIHTr3mYCbP5UBOy4uMPVvg7ws\n",
       "duO26qnT8DyvwNGsTJFRsMX0JY7HGTwSzvOr9/mBXReSJfwg5iNatVM6wDD4lVL9Wgp0bmNdAB1i\n",
       "Wzd077hMDgGnl5bV2HUhOcpjRQDBCbVs1oHhNrZmmQ0GGJBoTzAstkHgfsnIa8bmJj+w60JyjRaX\n",
       "tWlOMz1W8tp4PU87txsaOFp0NN0txsNUjX7jpW0f4Ro3+4A9F5K19C1YnkO4e1baAr1KfPdUsk06\n",
       "MchNEmZvM4NWad9vVI14NKEZlwF7LpxMprzTt1Z0/ph3WkNTU7RysOZgEfc7nVKc8QGLi9vR+dqT\n",
       "ecs9vJuBlXpNpA5Op9uIlA8xGRDbR566VHw2/yA6cj4Je6frVGNPqnxVT9QEDlRUChur+1UBtmr+\n",
       "Nd2tVBT/GvjfSGIed34DWM+7VmXBjLYAAAAASUVORK5CYII=\n",
       "\" style=\"display:inline;vertical-align:middle;\" /></a></dd>"
      ],
      "text/plain": [
       "<IPython.core.display.HTML object>"
      ]
     },
     "metadata": {},
     "output_type": "display_data"
    },
    {
     "data": {
      "text/html": [
       "<dt><a class=\"ProveItLink\" href=\"../../_proofs_/orIfRight.ipynb\">proveit.logic.boolean.disjunction.orIfRight</a></dt><dd><a class=\"ProveItLink\" href=\"../cadc2f6f4fa72f8b72c2f845040af1644417dd880/expr.ipynb\"><img src=\"data:image/png;base64,iVBORw0KGgoAAAANSUhEUgAAALAAAAAXBAMAAABZgNg7AAAAMFBMVEX///8QEBC6urrMzMxUVFRm\n",
       "ZmZERETc3NwyMjKqqqp2dnaIiIiYmJgiIiLu7u4AAAAU9Wx4AAAAAXRSTlMAQObYZgAAAtxJREFU\n",
       "OMu1VU1oE1EQ/pJNmprdbIMnPahRPAgqyUHw4E+ChtZbAnYFRW1VTBF/moPYitSWQokWsb0o3sxF\n",
       "rSASQU89NB6EigfroR60YBCVQv3D/mi1VOfNe4nbJQZT9MG+N29m53uzM9+bBf7XKCzOzZ2rZDVC\n",
       "wIgQnlQNvEku25yIial4fTewG7gt9perBlYefRw9ixGeXc1AUwi1wBna+ZqrxdVlJoxXIpOeyG9N\n",
       "lJZoDEYWtWTy9lcL7JKlOduUplkTcQWkZogUT7MwgzButbV1VJ2JdXLJDYXEkqHnitQcoucZnXEM\n",
       "mEmlXlQNvE9So3A9DwWakYYpoP0UrTeAnUALUDJdnbbqIw4YDgtLWq3GI0pziefXnFJOgybLpE0N\n",
       "PhgTwjVgLcwuLsQXWY8g9KCUent7OCCo2j4E7ingperAzqQqpUcern8FPsRIWE3HQWf3t3Ns8sbg\n",
       "JuuEtR+57MQaO3AjEE5LkYPQ4vGENI1gXOprKCZdAEVpzcuC3h1lUyAH7wj0w+c/ErD/vR34JXAA\n",
       "NmDir4s/FntxR+rrKFrjuwQ2u/gWabkUmz5FMJzGI655dv1BG7A5CUOVCMvFRCQNyKy1ywtMePTx\n",
       "nlmZCrTsECqPiiY8eJ+qyoHkrBX2HLt/DNYXO8sJca0IuPYzbz1bVesQNO4UzsOCLHzaYwyxaYCK\n",
       "VNCyMmLvFhuwvwvGSgVMbOK01sxLMpwslGisLSuoF1ziNHPUamXjUcpGv/Y8lToucuy3AdckYc4q\n",
       "4I3UC1ZlYLR+Y1qgR6r3/IzHL/BXdgtaCUBvGlGmL7mGI2ZMRrwAuK4f7snilU4vZPp2B/PNYFHa\n",
       "QI55Xwa+efiIHg0qFedswJ0FdCSL7TFb+Wb6i+36zQx8iTFtDgPT1i4qyrsQX5CUrXj+PqvxorNt\n",
       "/mmMO/t0SbpJOS6NMl31dGXgBsd+c/nXygD7Kv6adGe3yf818L8ZsUX4/AJl9rwaTZrhVwAAAABJ\n",
       "RU5ErkJggg==\n",
       "\" style=\"display:inline;vertical-align:middle;\" /></a></dd>"
      ],
      "text/plain": [
       "<IPython.core.display.HTML object>"
      ]
     },
     "metadata": {},
     "output_type": "display_data"
    },
    {
     "data": {
      "text/html": [
       "<dt><a class=\"ProveItLink\" href=\"../../../_proofs_/foldForallOverBool.ipynb\">proveit.logic.boolean.foldForallOverBool</a></dt><dd><a class=\"ProveItLink\" href=\"../../../__pv_it/d40d2f60ef66daf5542d59156613ac49d719b2620/expr.ipynb\"><img src=\"data:image/png;base64,iVBORw0KGgoAAAANSUhEUgAAAPsAAAAXBAMAAAA/2iRsAAAAMFBMVEX///8QEBC6urrMzMxUVFRm\n",
       "ZmZERETc3NwyMjKqqqp2dnaIiIiYmJgiIiLu7u4AAAAU9Wx4AAAAAXRSTlMAQObYZgAAA5NJREFU\n",
       "SMfFlk1oE1EQgKfZ/DTZzbZ4UMSDEYp6EXMQFKU22KDixWpNi0VpFNyiVBqwNHgQg5de1OaiCB4M\n",
       "QrUWLEGsIBa64kUqag6KIrUGUemltrRG29JW583b3bz80UIUF7I7O2/e++bNm5kNwP+90n9jEfn9\n",
       "7pUZ2pKmpPhAueKDFJNflIn3+Ly0ZLL48MPfweCbCJO2cUUt/hrZNLjHXq+WjffE8VFZKpSzAM41\n",
       "AqiHGRO+CyVXuGw8LdFVYliaB3DPs0Pi4VE+oZ9KguGZx4542Xja19FSqTGNtAwKFTw851vxJNRq\n",
       "Nk25G41egPLxI9FoNFVi2DkFYJ9DYTN/Tw778H6aTYOfmvah5LrnjKe7qDYu4Ks07WyixCpVMYBJ\n",
       "djotPP3Tt3R89BK+HqAN1+8IHWmjQR/dr2dCeyPgMheUEsW0OwW83Q9OSu7KSAG+LgHSWyZcptfP\n",
       "UMdy4Abha0BF5+ApwH0a5Gmo4MmkwAnQpJ3QtATcztVyM48vi7cFYJzk14byeV/fMWN4+EB/Czm1\n",
       "ytjgxQZ8bKD5XpBZKII4MZ3F2wOgLMFNOjl2G8/XMjPy28BjAxliotqKq6mDIV32qA8MTzrMgpym\n",
       "SAaDB9nsOpom6142OgqwX9i9Vwd7DNosPMY2V0tm9QJ+CMZInMCdPdr0PS17YEDnw4sg4m1YATEL\n",
       "r8ZYK1JnQHkn4Cf98DIC1RaeV6ygJbMnAn5cCjBxlzMMCout7LEN8l1LGRO/1khYb7UVfGjbw1ya\n",
       "7zdOiuO39vfqIMUsvC2QpyWzGgHv7KRQBxwp1tAQ7zg0mi17frWzHof4yimWHBx/jZWrxzxGA9+X\n",
       "ZRKeMwUtme0Q8O7jlJxxeYpXBAa/kTc555K5dq+RRaThhQcVzMjZkIs/RdWejxe0BXhYx6SJUNMS\n",
       "1GqalkR8gir0a8cP81O0BRvz+m5QOmYRd4lPU9gJVcVz8XO0z3A2+OE8Ld02ivhXTGoGaQa+GLtP\n",
       "5PehCqEn8KZrdoZIDl76RRYpC68kXN05WjIbEfHkGub6AtgjHN+c/wFWBH88SaFv9DTm4PsyVGhj\n",
       "Ft7hkxayWoemrdbOABzOw6tY0J2LunqS2s6d9oL+J3zZxwWvhUv8+D62JExmpVAby9+9+Y5nX7T7\n",
       "d2bFfcvjv1kSdrrtBVq3yZA/+lf2aXRZXsl+nLUM3q2bEma7XqC1/4P/ngHx5ZkZzXQx7UDZsD9Q\n",
       "v/BHzxS7+AAAAABJRU5ErkJggg==\n",
       "\" style=\"display:inline;vertical-align:middle;\" /></a></dd>"
      ],
      "text/plain": [
       "<IPython.core.display.HTML object>"
      ]
     },
     "metadata": {},
     "output_type": "display_data"
    },
    {
     "data": {
      "text/html": [
       "<dt><a class=\"ProveItLink\" href=\"../../../_proofs_/fromExcludedMiddle.ipynb\">proveit.logic.boolean.fromExcludedMiddle</a></dt><dd><a class=\"ProveItLink\" href=\"../../../__pv_it/a34aadc5d2a4092d51d83d0e250fd83dbcb4aeef0/expr.ipynb\"><img src=\"data:image/png;base64,iVBORw0KGgoAAAANSUhEUgAAAPoAAAAZBAMAAADqEi4iAAAAMFBMVEX///8QEBC6urrMzMxUVFRm\n",
       "ZmZERETc3NwyMjKqqqp2dnaIiIiYmJgiIiLu7u4AAAAU9Wx4AAAAAXRSTlMAQObYZgAAA0VJREFU\n",
       "SMfFlk1IVFEUx//Omw/nvZmn20rCRR+boFlERCIOidBOK8dBSZwixhZJA5nTJrBVq2IgatNmICgr\n",
       "mIbIIhJ60KYMahbZQjQm0BBEkQSNMumcO2981/eeBtbUXdx3P865v3fOPffeA7iUvskUKl88k+Ou\n",
       "4wX8m9L/n+lFV7r+j+jCzrd2epg/oXylsLNnYsZFpt/n3nU7Xc3Qp7pYIbhaB+yuY/oA9QIJO12M\n",
       "DFQIrl8js9RlprOBvowj6tgbnRWiV+/k81bL9NC9dPqyM+ZH0+l0pUK/h40NtIkTt5RMjjvpNclk\n",
       "X3YLK1+QOxlXkcA34f6IoDcDvdTTWrpmUxbdG4FfdKvt1159uXFVHn0Syz3jla0/JsXDcBGBb0W6\n",
       "bXZBHwSUCeCUZLsnihnRfm/SXg8NnRSNcoSGvkorNxrw00bCbw2RolrvIoLwskQPQzOA/eSIW/Jd\n",
       "V8CIcFAPTerDMUNT9cf1Mn16RbqyF4EgT9y2ApsU2SyHCGoWxHyJrhnhIvTt1GmQ6SP4JI7mHEXH\n",
       "073zRU1FzpDpuTHxCfLmfiaHK3w39VpnmhWbXURQJeg3SnR98ADJ8si8TJ9Rotxs8CcQauO4UD3D\n",
       "RYmu5JOlBgMfsTE8W7tGZ0W8cBGBd5XrNvOV6T1C7k/YXxl/v/Bz1FdANTc037EJed+96IYvSeUK\n",
       "7dlHU1GxXM2KFFMOERL6wa4pmvSbfMCydnqwW4RWRlsohS55/kReor/BS1M6FsH38uZGoRLtrKmI\n",
       "Q04RjscMPPHyC1tFi1YRXc+ve2F3cDUX61hFIy2YJ3o2a9H1sdh58xk4GAdHzSz/stgtjnyhuEaX\n",
       "RNj4oy2da+97iO/ahOkMi/6OqziURUyZtst0XwpNES1GpZ12sIOjkG1PlOlCEXvgEHHLLvRtwB1n\n",
       "duGhKF+BN1WixyXP76PdMvR5Kg85oDNQI7iU0gsmvaSIUdhENshtplseFB10vTWB/p+GflrcNnfP\n",
       "WVE3tYRAq4hCcTT09i6yq8konVIopiKOwyaylcyKIslKNGyvcUBKAgw8Xz856BD507wuseGMksKX\n",
       "dQPB/F/PKjemh4hnyAPeLeW0k5vl89FNF3wld3K/yec//AI0vQIRsK/SQwAAAABJRU5ErkJggg==\n",
       "\" style=\"display:inline;vertical-align:middle;\" /></a></dd>"
      ],
      "text/plain": [
       "<IPython.core.display.HTML object>"
      ]
     },
     "metadata": {},
     "output_type": "display_data"
    },
    {
     "data": {
      "text/html": [
       "</dl>"
      ],
      "text/plain": [
       "<IPython.core.display.HTML object>"
      ]
     },
     "metadata": {},
     "output_type": "display_data"
    }
   ],
   "source": [
    "%dependencies singularConstructiveDilemma"
   ]
  }
 ],
 "metadata": {
  "kernelspec": {
   "display_name": "Python 3",
   "language": "python",
   "name": "python3"
  }
 },
 "nbformat": 4,
 "nbformat_minor": 0
}
