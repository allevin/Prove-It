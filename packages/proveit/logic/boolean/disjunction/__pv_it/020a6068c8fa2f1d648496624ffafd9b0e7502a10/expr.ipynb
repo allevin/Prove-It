{
 "cells": [
  {
   "cell_type": "markdown",
   "metadata": {},
   "source": [
    "Expression of type <a class=\"ProveItLink\" href=\"../../../../../../../doc/html/api/proveit.logic.Or.html\">Or</a>\n",
    "=======================\n",
    "# from context <a class=\"ProveItLink\" href=\"../../_context_.ipynb\">proveit.logic.boolean.disjunction</a>"
   ]
  },
  {
   "cell_type": "code",
   "execution_count": 1,
   "metadata": {},
   "outputs": [],
   "source": [
    "# import Expression classes needed to build the expression\n",
    "from proveit._common_ import A, B, C, D, E, F, G, H, I\n",
    "from proveit.logic import Or"
   ]
  },
  {
   "cell_type": "code",
   "execution_count": 2,
   "metadata": {},
   "outputs": [
    {
     "data": {
      "text/html": [
       "<strong id=\"expr\">expr:</strong> <a class=\"ProveItLink\" href=\"expr.ipynb\"><img src=\"data:image/png;base64,iVBORw0KGgoAAAANSUhEUgAAAVgAAAAVBAMAAADx8+t1AAAAMFBMVEX////c3NwiIiJERESqqqqY\n",
       "mJh2dnZmZmYQEBDu7u4yMjJUVFTMzMyIiIi6uroAAAAs73DqAAAAAXRSTlMAQObYZgAAA+RJREFU\n",
       "SMfVl09oVFcUxr83ybyZN5lMBioEdJGshNCFIljELmZ23QjOShDbOptSXZSM9W9pIYIV7KZ9XUgl\n",
       "oEwUseoiwUAtPnVEKdRmkYALF60kuBHcGJMYMamJ555z38ycN6+Dy2ngvbnvd+93z7n3nnvuDfC/\n",
       "+svNtKv9vLOcnZKf+xG8bz0Ids4hdS/a/vzHx0v9Gv1NbS9FGvbWVoNgvNrS7ve3up336OZRpxKR\n",
       "Ln6TrC0eUtBlcFU+xnmWuShmTwGpNaAa4e5p4Bk9mDNfWRGvAN1LEX0fKbu3akbtsF1rD5SQO1Fq\n",
       "lfYNxvTXK1GQ3OLTu8dwIVmagewqsAeKexepnfuSSrdNxRMWZ5fpNeIrPV6Yn4piuWUbWA3t6BC9\n",
       "hvOt0ukKIrAMpH0ubhjJG6s0E0gw6SWHktT5OSie+cEYPUmvB6ZiSNaNVgDTM0qPYTLkaeaa2d+l\n",
       "tL/6NgSj0tliFNJyPJeFnJnlpRmj5xMGXeRQgjzrKio+Yj45xjI0um4Jtq55eg1MKL2JqzLyimXe\n",
       "wMHeZm3KuI9+tEhR8GPgMUkJ/u4SbMWYhMgEnEtmySvN3FnhTWFWxxgzRk1bMwHTE0qPRSS5y+Y+\n",
       "B3GWC3XtAG+JnxGVAguIgZe5dIFXkaecp55s33nytTHWXW3mqVeN/Tlkl1MiAPvLSp9bCcZlKA32\n",
       "ooJDWjtSqnenpMHk6yg0WeRHLs5hgGeQgrmH4wGzeXgfhvFZ54mXDWdpg9yV0qyZ6dqc0rv/ImMz\n",
       "UZ0NX79xUmu35BsJq1mK3qUYiDXeQEFQkwEMYlS0O4wTNO7sfDPv4y9PRg3PptGCeZ3R+sw8XJud\n",
       "6mzcxwSUdp2ex9c+apGi6w1aoThL+Swtho/gC6lctStrnbU8zV+7GKWKbqkRTslXWk9x7OC8Zgvw\n",
       "rCLUngn3eUTKWbUF4ntToi2ekAXaiEFJncZ2rRiGQch7eMCSA5xqQvoxKRnprUovafagYpxmobQ1\n",
       "PzyPItLpcgzkA8Up2mkmb/6QFGzSLG/9ZLWZs1+uJD7c/sxGmwmnnb7Sc660x2jI3LVGwFut2ZqS\n",
       "YSJSyaQRiC/NMYJ6kGS3+fU0+6c5iSV11fn+InLhof1AjgROs3/Z4z1sx9N1/55idj6atSZ4pjbH\n",
       "SAt+DMRT4IOfxpAsrIi5KxJThdXgFme1jB3iFSu+dfNIaDAjil+o7eR3IZR23iTdWW4sKEbtGncT\n",
       "q8XU9eOlT7X08PodfLv+m4LOYQbpvL4FPYxcss79BzeO+zGXuIfvx+K0cVINk+X2N8ivOuo+e7Vt\n",
       "rVftKGc3ta3tyXeUs07bf2v+6SRX3wEChWVMi0RfnQAAAABJRU5ErkJggg==\n",
       "\" style=\"display:inline;vertical-align:middle;\" /></a><br>"
      ],
      "text/plain": [
       "expr: (A or B) or C or D or E or F or G or H or I"
      ]
     },
     "execution_count": 2,
     "metadata": {},
     "output_type": "execute_result"
    }
   ],
   "source": [
    "# build up the expression from sub-expressions\n",
    "expr = Or(Or(A, B), C, D, E, F, G, H, I)"
   ]
  },
  {
   "cell_type": "code",
   "execution_count": 3,
   "metadata": {},
   "outputs": [
    {
     "name": "stdout",
     "output_type": "stream",
     "text": [
      "Passed sanity check: built 'expr' is the same as the stored Expression.\n"
     ]
    }
   ],
   "source": [
    "# check that the built expression is the same as the stored expression\n",
    "%check_expr"
   ]
  },
  {
   "cell_type": "code",
   "execution_count": 4,
   "metadata": {},
   "outputs": [
    {
     "data": {
      "text/html": [
       "<table><tr><th>&nbsp;</th><th>core type</th><th>sub-expressions</th><th>expression</th></tr>\n",
       "<tr><td>0</td><td>Operation</td><td>operator:&nbsp;10<br>operands:&nbsp;1<br></td><td><a class=\"ProveItLink\" href=\"expr.ipynb\"><img src=\"data:image/png;base64,iVBORw0KGgoAAAANSUhEUgAAAVgAAAAVBAMAAADx8+t1AAAAMFBMVEX////c3NwiIiJERESqqqqY\n",
       "mJh2dnZmZmYQEBDu7u4yMjJUVFTMzMyIiIi6uroAAAAs73DqAAAAAXRSTlMAQObYZgAAA+RJREFU\n",
       "SMfVl09oVFcUxr83ybyZN5lMBioEdJGshNCFIljELmZ23QjOShDbOptSXZSM9W9pIYIV7KZ9XUgl\n",
       "oEwUseoiwUAtPnVEKdRmkYALF60kuBHcGJMYMamJ555z38ycN6+Dy2ngvbnvd+93z7n3nnvuDfC/\n",
       "+svNtKv9vLOcnZKf+xG8bz0Ids4hdS/a/vzHx0v9Gv1NbS9FGvbWVoNgvNrS7ve3up336OZRpxKR\n",
       "Ln6TrC0eUtBlcFU+xnmWuShmTwGpNaAa4e5p4Bk9mDNfWRGvAN1LEX0fKbu3akbtsF1rD5SQO1Fq\n",
       "lfYNxvTXK1GQ3OLTu8dwIVmagewqsAeKexepnfuSSrdNxRMWZ5fpNeIrPV6Yn4piuWUbWA3t6BC9\n",
       "hvOt0ukKIrAMpH0ubhjJG6s0E0gw6SWHktT5OSie+cEYPUmvB6ZiSNaNVgDTM0qPYTLkaeaa2d+l\n",
       "tL/6NgSj0tliFNJyPJeFnJnlpRmj5xMGXeRQgjzrKio+Yj45xjI0um4Jtq55eg1MKL2JqzLyimXe\n",
       "wMHeZm3KuI9+tEhR8GPgMUkJ/u4SbMWYhMgEnEtmySvN3FnhTWFWxxgzRk1bMwHTE0qPRSS5y+Y+\n",
       "B3GWC3XtAG+JnxGVAguIgZe5dIFXkaecp55s33nytTHWXW3mqVeN/Tlkl1MiAPvLSp9bCcZlKA32\n",
       "ooJDWjtSqnenpMHk6yg0WeRHLs5hgGeQgrmH4wGzeXgfhvFZ54mXDWdpg9yV0qyZ6dqc0rv/ImMz\n",
       "UZ0NX79xUmu35BsJq1mK3qUYiDXeQEFQkwEMYlS0O4wTNO7sfDPv4y9PRg3PptGCeZ3R+sw8XJud\n",
       "6mzcxwSUdp2ex9c+apGi6w1aoThL+Swtho/gC6lctStrnbU8zV+7GKWKbqkRTslXWk9x7OC8Zgvw\n",
       "rCLUngn3eUTKWbUF4ntToi2ekAXaiEFJncZ2rRiGQch7eMCSA5xqQvoxKRnprUovafagYpxmobQ1\n",
       "PzyPItLpcgzkA8Up2mkmb/6QFGzSLG/9ZLWZs1+uJD7c/sxGmwmnnb7Sc660x2jI3LVGwFut2ZqS\n",
       "YSJSyaQRiC/NMYJ6kGS3+fU0+6c5iSV11fn+InLhof1AjgROs3/Z4z1sx9N1/55idj6atSZ4pjbH\n",
       "SAt+DMRT4IOfxpAsrIi5KxJThdXgFme1jB3iFSu+dfNIaDAjil+o7eR3IZR23iTdWW4sKEbtGncT\n",
       "q8XU9eOlT7X08PodfLv+m4LOYQbpvL4FPYxcss79BzeO+zGXuIfvx+K0cVINk+X2N8ivOuo+e7Vt\n",
       "rVftKGc3ta3tyXeUs07bf2v+6SRX3wEChWVMi0RfnQAAAABJRU5ErkJggg==\n",
       "\" style=\"display:inline;vertical-align:middle;\" /></a></td></tr>\n",
       "<tr><td>1</td><td>ExprTuple</td><td>2, 3, 4, 5, 6, 7, 8, 9</td><td><a class=\"ProveItLink\" href=\"../abb0742f21e39c6f6db33528e8e0a9ad4a1884f00/expr.ipynb\"><img src=\"data:image/png;base64,iVBORw0KGgoAAAANSUhEUgAAAPAAAAAVBAMAAACK8n6QAAAAMFBMVEX////c3NwiIiJERESqqqqY\n",
       "mJh2dnZmZmYQEBDu7u4yMjJUVFTMzMyIiIi6uroAAAAs73DqAAAAAXRSTlMAQObYZgAAA3pJREFU\n",
       "SMfFVk1IVFEU/mam+XnOG31QINRCV1EUGFEZFcxACyEC36ZNBs4mbKemZYtAwYTc5GsRhVFpEVZC\n",
       "1ibBR4wEQeHCgRYtIkbbFG38K0WnsnPvuXfmJoy20oF3Peedc+459/vOeVdgy37l2c3PGZ6iZYLl\n",
       "N2tsDau+f2xKa/eOd7iVLCYyeX/shDZ8IrexlaLF71PnsD6MXgq0aKdar2G11pFKJLPQiqskPGXj\n",
       "iDy9FMfl2g1E/6jtIz3A1x6lVAwA9SmdWSQ9aVhCLssXXJRfcQ2neRheZVQmVxiu8WiNi5z8xv5N\n",
       "T15V/5CMkTkVOJmmkpY1UeSGqFJm0gpFoH8vLc1O0clegumVRsyT2o5O4WQfoCUo3yQoT3iRXct6\n",
       "RXSXCsxNcVmMxS9BhFKaCYdtjNcTz6BPOCV+6MTNFG914Ttr2ZysdJCeOvkiRHmCvWzsFMBqwpAU\n",
       "isICZbOIIKCUEQ9OWJYdlWkqi04IaYyY1EO4zGB49ZKPOpWcmHiBwCNGIyCbxxpXgQsokoCKAzhT\n",
       "aMh5WIrVqgGx3iw6oaIaRjya8Fgq9zEpmSWYJdzE5OvPF9Uu0Z9mu0uUNQmYGR6bKwzmEqKK1U7X\n",
       "DJkZ9v1ki9kVOIUbUptClTRQY8W5O3IOrH3sGpwzd0kIVuO635vHMaAtkRV/jxJrHDOEnJBLmV2B\n",
       "b5A72L6f4YNWo5/tR0VyrrtiVkKtAkNCi3UVCUur+UPZMuLq9So9H58dMVhNegbhBCgnpvmNceHt\n",
       "OM92QWJjWoox6XraIAyNbpEwx1LfDKLxlnp9XbdvgdUVmPGU+Jr4QzAE+Qw7wU1gC14zDE9cNqTm\n",
       "SDZDt0lYxCsOqPplPN2+eowXC4RnGerDom1TGgHE33L5YoxFN1u6nWh3BjtHwIboc+cVCKtUCp/Q\n",
       "0tXpcB5jgaynCQfOUl9D0qrmzD7oFcb4HW3/QADQmEJ5q5LFGNtDtOW8JszerxQ+ofQKE2ATu5Wi\n",
       "x9j0asIXYHvfIMLJFcZyiCcoSTeBmLQ7oqPtsdF2JVttdCvUUtFWHzXuXXLza6qlQpZRR0dgYrjD\n",
       "PcfK7WQ+G83k09Ir0Lb6StifI+b8eyu9X3NLTZeQUe6UUKaxcQh9MsPp9a9Ot4SMcCnFxcYhkWzh\n",
       "WtzcxKKrdq2bN1FCpmulhJLAf4S8FLO0Bf/6JMbxF3pLG5IpphVtAAAAAElFTkSuQmCC\n",
       "\" style=\"display:inline;vertical-align:middle;\" /></a></td></tr>\n",
       "<tr><td>2</td><td>Operation</td><td>operator:&nbsp;10<br>operands:&nbsp;11<br></td><td><a class=\"ProveItLink\" href=\"../0f1bf4090acd92174180531bf3e50944b30066e50/expr.ipynb\"><img src=\"data:image/png;base64,iVBORw0KGgoAAAANSUhEUgAAADcAAAAPBAMAAACy3Eq1AAAAMFBMVEX///92dnYQEBBERERUVFS6\n",
       "urqIiIhmZmaqqqrc3Nzu7u6YmJgyMjIiIiLMzMwAAACFkkdwAAAAAXRSTlMAQObYZgAAAP1JREFU\n",
       "GNNjYACBtwyogNv/i4vzUSjnPIhgBTMfgEkmAwaG+gCIwvsLgCQLSJwtASzyHki9dwAzZ9RPAJJ8\n",
       "QNUMvAvAIvlAgf0CYGZCPtiEk0DcDrHHCIgvgdWxLujfwACVOAmR/MLAMMcKzFoKtgJsJNhooA1f\n",
       "0tJvQ5QFMMwvYIA4hgXiQrafDAxrwe7hc3Hxh2i4wLAGopxZAajgN9R/TAfAYhUM0hBJfqAu7o8g\n",
       "VgPQNgWw2BygXog3gQ5k+QFkcAIleT6AxVheQ4IA7M35INNA1jD/gjjSdgHcm3w6QPZk/ZMM3PZ/\n",
       "wM5lOA6RK/7v4nJmA1pkMLxC5QIA6tw+1pV4TWcAAAAASUVORK5CYII=\n",
       "\" style=\"display:inline;vertical-align:middle;\" /></a></td></tr>\n",
       "<tr><td>3</td><td>Variable</td><td></td><td><a class=\"ProveItLink\" href=\"../../../../../__pv_it/985a1bdf1540838275dec15f4ad6de261cca93ce0/expr.ipynb\"><img src=\"data:image/png;base64,iVBORw0KGgoAAAANSUhEUgAAAA8AAAAOBAMAAAACpFvcAAAAMFBMVEX////MzMyqqqoiIiIyMjK6\n",
       "uroQEBB2dnbc3NyYmJhmZmZUVFRERESIiIju7u4AAAB204erAAAAAXRSTlMAQObYZgAAAGZJREFU\n",
       "CNdjYGDgu7NrJccCBgaGsgkMrMsmMDA8sQNy6hsYGNweABlhDAxcn4A0QxcDQ78DiPGQgWH9BAYI\n",
       "sG+AMv6DSaCGfBDNJMDAsB+kmwuI5S8AiTog5gSaEwXWIO29SgFIAQBC+RaDQlidVgAAAABJRU5E\n",
       "rkJggg==\n",
       "\" style=\"display:inline;vertical-align:middle;\" /></a></td></tr>\n",
       "<tr><td>4</td><td>Variable</td><td></td><td><a class=\"ProveItLink\" href=\"../../../../../__pv_it/185e6d30f167ee2ee5ef3321098dc98e0d77bc590/expr.ipynb\"><img src=\"data:image/png;base64,iVBORw0KGgoAAAANSUhEUgAAABEAAAAOBAMAAAA7w+qHAAAALVBMVEX///8QEBCYmJjc3Ny6urru\n",
       "7u5mZmZ2dnaqqqrMzMxEREQyMjJUVFSIiIgAAABETr/8AAAAAXRSTlMAQObYZgAAAGpJREFUCNdj\n",
       "YGC48+7MmV0TGEDgNQMDxwsQg/M5kMgLABK8T4DEvAtAgusBkLA7ACT4FoDEDsAk9AqAxD2QCecc\n",
       "gMQ6kAGCIOIVEDM9Ahn3FkgwgnTxvgQSqwOgxs1OADLC1r05cyoTyAAAv4Qe+njAWvgAAAAASUVO\n",
       "RK5CYII=\n",
       "\" style=\"display:inline;vertical-align:middle;\" /></a></td></tr>\n",
       "<tr><td>5</td><td>Variable</td><td></td><td><a class=\"ProveItLink\" href=\"../../../../../__pv_it/9995c55100c62d7d8a012a35bafc852acbe03cf00/expr.ipynb\"><img src=\"data:image/png;base64,iVBORw0KGgoAAAANSUhEUgAAABAAAAAOBAMAAADUAYG5AAAALVBMVEX///8iIiKYmJjc3Nzu7u7M\n",
       "zMx2dnZmZma6urpERESqqqoyMjJUVFSIiIgAAACbLqVTAAAAAXRSTlMAQObYZgAAAGVJREFUCNdj\n",
       "YGC48+7MmdOvGYAARKwEYo63QIIdiNmeAglfIOZ+wMDGwAxk8E1gUAIpZejbc/oxmJEXwLABzNjH\n",
       "wJDAEABkvGRgMGC5ADWGzQFqjDnEGAZWUQYGn3lvzpyRE2AAAIznGVQJqiN4AAAAAElFTkSuQmCC\n",
       "\" style=\"display:inline;vertical-align:middle;\" /></a></td></tr>\n",
       "<tr><td>6</td><td>Variable</td><td></td><td><a class=\"ProveItLink\" href=\"../../../../../__pv_it/6d1586c49fb5fd7602fde2bbc54560e7304e8ccf0/expr.ipynb\"><img src=\"data:image/png;base64,iVBORw0KGgoAAAANSUhEUgAAABAAAAAOBAMAAADUAYG5AAAAMFBMVEX///9mZmYiIiLc3Nzu7u7M\n",
       "zMyqqqp2dna6urqYmJhEREQyMjIQEBBUVFSIiIgAAABBzvKsAAAAAXRSTlMAQObYZgAAAFxJREFU\n",
       "CNdjYGB4+//u3Tv/GIDgNxCvBGKO70BiBhCzfwMSqUDM/YWBmWEKkMGvwOAJUsrQL8AgDGbU7710\n",
       "AMzY78BwAcz4xMAygQFmDAiw/4AyuD9AaMf1f8GaAdy+F/r2qjhkAAAAAElFTkSuQmCC\n",
       "\" style=\"display:inline;vertical-align:middle;\" /></a></td></tr>\n",
       "<tr><td>7</td><td>Variable</td><td></td><td><a class=\"ProveItLink\" href=\"../../../../../__pv_it/994260d00d104a1ab9cf940a007fb6a4ff36f79e0/expr.ipynb\"><img src=\"data:image/png;base64,iVBORw0KGgoAAAANSUhEUgAAAA8AAAAOBAMAAAACpFvcAAAAMFBMVEX///+qqqrMzMwiIiIyMjK6\n",
       "uroQEBB2dnbc3NyYmJhmZmZUVFRERESIiIju7u4AAACtjd3MAAAAAXRSTlMAQObYZgAAAG5JREFU\n",
       "CNdjYGDgu7NrJccCBgaGsgkMrMsmMDA8sQNy6hsYGNweABnKDAxcH4E0QxcDQ78DiPGCgWH9BAYI\n",
       "sG+AMv4D8S2X4wwMaSBefQADw36Qbn8g1r/AwMDxBcjg/MnAoG0Oktf2XjVhEgMDAJHQGYM57+uu\n",
       "AAAAAElFTkSuQmCC\n",
       "\" style=\"display:inline;vertical-align:middle;\" /></a></td></tr>\n",
       "<tr><td>8</td><td>Variable</td><td></td><td><a class=\"ProveItLink\" href=\"../../../../../__pv_it/fabf74ac81cd36aa91075816201d2b14195a56e60/expr.ipynb\"><img src=\"data:image/png;base64,iVBORw0KGgoAAAANSUhEUgAAABMAAAAOBAMAAAA/Njq6AAAALVBMVEX///+qqqp2dnbMzMy6uroi\n",
       "IiIyMjLc3NyYmJju7u5mZmZERERUVFSIiIgAAABaGT/LAAAAAXRSTlMAQObYZgAAAGhJREFUCNdj\n",
       "YGC4827XhJ53uwoYgOAZED8FMRhY3jIwML8CM5keMzDwPgQz2R4wMHC/BDP5NgBxAJjpl3PmzL4F\n",
       "YKaeAQPDPQEwMw+I900AM19DjYYa+whh7BM0Y2fte3OB69wbBQYGADOSITJjbaXUAAAAAElFTkSu\n",
       "QmCC\n",
       "\" style=\"display:inline;vertical-align:middle;\" /></a></td></tr>\n",
       "<tr><td>9</td><td>Variable</td><td></td><td><a class=\"ProveItLink\" href=\"../../../../../__pv_it/485fbf85ade6e4660c176b077846a05437e7af3e0/expr.ipynb\"><img src=\"data:image/png;base64,iVBORw0KGgoAAAANSUhEUgAAAAsAAAAOBAMAAAALT/umAAAAIVBMVEX////MzMyIiIi6uroyMjLc\n",
       "3NxmZmZERERUVFR2dnYAAABv5Bk0AAAAAXRSTlMAQObYZgAAAD9JREFUCNdjYGCYsaosgAEIloAI\n",
       "BuaVYIpzMZhiWQCmuArAlJUCmJolAKa8wCTDcoi2RRBtC5G0hVWtmMDAAAAhAQsT8Qr5GAAAAABJ\n",
       "RU5ErkJggg==\n",
       "\" style=\"display:inline;vertical-align:middle;\" /></a></td></tr>\n",
       "<tr><td>10</td><td>Literal</td><td></td><td><a class=\"ProveItLink\" href=\"../087d0b4ded7c7e5bf3bba05ecb616d7a8051ff650/expr.ipynb\"><img src=\"data:image/png;base64,iVBORw0KGgoAAAANSUhEUgAAAAwAAAAOBAMAAADpk+DfAAAALVBMVEX///+YmJh2dnZmZmaqqqrc\n",
       "3NwyMjLu7u4iIiJERESIiIhUVFTMzMy6uroAAAD0I/TTAAAAAXRSTlMAQObYZgAAAEtJREFUCNdj\n",
       "uMAABDwMe0DUKoaTIKqdgS2AgYHFAITAzHYGsMQqBoa9QIqDgT0BSDE7MAkAKdYEDpAehj1SYOpk\n",
       "O5hiMwBTPAUMDAB33Atnw8aG2QAAAABJRU5ErkJggg==\n",
       "\" style=\"display:inline;vertical-align:middle;\" /></a></td></tr>\n",
       "<tr><td>11</td><td>ExprTuple</td><td>12, 13</td><td><a class=\"ProveItLink\" href=\"../caee09fb4b5c95b986a9cee46a014afbad9bdc680/expr.ipynb\"><img src=\"data:image/png;base64,iVBORw0KGgoAAAANSUhEUgAAADUAAAAVBAMAAAAUZLt1AAAAMFBMVEX////c3NwiIiJERESqqqqY\n",
       "mJh2dnZmZmYQEBDu7u4yMjJUVFTMzMyIiIi6uroAAAAs73DqAAAAAXRSTlMAQObYZgAAATZJREFU\n",
       "KM9jYMAH+C5gFY4DEach7EMwQdb9v3dvXsfAfgDIXgkRWg/XwWHAwFD/gGEBAwMvxEhW/QkwufNA\n",
       "kfMbGMKAqiBiIvUCMLn7QFZ8AsMMBoZXEIEL9x/A5CyAWGMCA7MDQxnEsRP8A2ByvxkYpCwZGNgK\n",
       "GJaC+fPAtoABz++711WBNMsChj6wwAMG+QKoHO9HBoZJG4BGNTD8A6vdvXu/AVSOuQEo/xUo9gEi\n",
       "xwd07wKoHD9QD+s3sFwLiO/AwMDUAPMe0FHcX8BmmgK5jEA5rg8MDBNg3pMHGsK6gCEdyJ0FsuYn\n",
       "A+cnqPd4uiaA/fCIgUG4fyEDq/2vAs5+oJbi/7t3rwL5lesBA4cAUnQhsUFhxpqA4LIiR2AuIo7Q\n",
       "5ThBfpJG8JFTADfIfEbsaeIOAwMABOxNRsfkiy0AAAAASUVORK5CYII=\n",
       "\" style=\"display:inline;vertical-align:middle;\" /></a></td></tr>\n",
       "<tr><td>12</td><td>Variable</td><td></td><td><a class=\"ProveItLink\" href=\"../../../../../__pv_it/2cbe72a7ad6f655694dd697106680215e8489b600/expr.ipynb\"><img src=\"data:image/png;base64,iVBORw0KGgoAAAANSUhEUgAAAA8AAAAOBAMAAAACpFvcAAAALVBMVEX///8QEBBERERUVFS6urqI\n",
       "iIhmZmaqqqrc3Nzu7u6YmJgyMjIiIiLMzMwAAADtIaYWAAAAAXRSTlMAQObYZgAAAFtJREFUCNdj\n",
       "YACBOwxQsA9Kc52bAGG05zVAGAFxDmCaZULdAjBjCsO9ADDDgaEvAUTzGhvbKYCVMDAwbgAxChgY\n",
       "eASANAeQwf0AyJgNxEwvGRia5HYwcOm9TgAA6BoR3jrzwFcAAAAASUVORK5CYII=\n",
       "\" style=\"display:inline;vertical-align:middle;\" /></a></td></tr>\n",
       "<tr><td>13</td><td>Variable</td><td></td><td><a class=\"ProveItLink\" href=\"../../../../../__pv_it/077b2ff79244fb4582cbe22c6e3356fa92a52f2f0/expr.ipynb\"><img src=\"data:image/png;base64,iVBORw0KGgoAAAANSUhEUgAAABAAAAAOBAMAAADUAYG5AAAAMFBMVEX///+qqqru7u4iIiJ2dnbc\n",
       "3NyIiIjMzMxmZmYQEBC6uroyMjJERERUVFSYmJgAAADLUcuvAAAAAXRSTlMAQObYZgAAAGpJREFU\n",
       "CNdjYGB4+//u3dMLGIBgDgMDxy8gzf4NiP8CGWxfGRj4vgAZPBMYGJgnARn8FxhY9ygAGfXX0pof\n",
       "gDTlBzAw2YIYJ0EckBBI53sHoBH/gIz7AhBjWH9DjancBLTl/N+7t/cxMAAA3u4f/5xagjYAAAAA\n",
       "SUVORK5CYII=\n",
       "\" style=\"display:inline;vertical-align:middle;\" /></a></td></tr>\n",
       "</table>\n"
      ],
      "text/plain": [
       "0. (A or B) or C or D or E or F or G or H or I\n",
       "   core type: Operation\n",
       "   operator: 10\n",
       "   operands: 1\n",
       "1. (A or B , C , D , E , F , G , H , I)\n",
       "   core type: ExprTuple\n",
       "   sub-expressions: 2, 3, 4, 5, 6, 7, 8, 9\n",
       "2. A or B\n",
       "   core type: Operation\n",
       "   operator: 10\n",
       "   operands: 11\n",
       "3. C\n",
       "   core type: Variable\n",
       "   sub-expressions: \n",
       "4. D\n",
       "   core type: Variable\n",
       "   sub-expressions: \n",
       "5. E\n",
       "   core type: Variable\n",
       "   sub-expressions: \n",
       "6. F\n",
       "   core type: Variable\n",
       "   sub-expressions: \n",
       "7. G\n",
       "   core type: Variable\n",
       "   sub-expressions: \n",
       "8. H\n",
       "   core type: Variable\n",
       "   sub-expressions: \n",
       "9. I\n",
       "   core type: Variable\n",
       "   sub-expressions: \n",
       "10. or\n",
       "    core type: Literal\n",
       "    sub-expressions: \n",
       "11. (A , B)\n",
       "    core type: ExprTuple\n",
       "    sub-expressions: 12, 13\n",
       "12. A\n",
       "    core type: Variable\n",
       "    sub-expressions: \n",
       "13. B\n",
       "    core type: Variable\n",
       "    sub-expressions: "
      ]
     },
     "execution_count": 4,
     "metadata": {},
     "output_type": "execute_result"
    }
   ],
   "source": [
    "# display the expression information\n",
    "expr.exprInfo()"
   ]
  },
  {
   "cell_type": "code",
   "execution_count": null,
   "metadata": {},
   "outputs": [],
   "source": []
  }
 ],
 "metadata": {
  "kernelspec": {
   "display_name": "Python 3",
   "language": "python",
   "name": "python3"
  }
 },
 "nbformat": 4,
 "nbformat_minor": 0
}
