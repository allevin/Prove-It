{
 "cells": [
  {
   "cell_type": "markdown",
   "metadata": {},
   "source": [
    "Show the Proof\n",
    "========"
   ]
  },
  {
   "cell_type": "code",
   "execution_count": 1,
   "metadata": {},
   "outputs": [
    {
     "data": {
      "text/html": [
       "<table><tr><th>&nbsp;</th><th>step type</th><th>requirements</th><th>statement</th></tr>\n",
       "<tr><td>0</td><td>assumption</td><td></td><td><span style=\"font-size:20px;\"><a class=\"ProveItLink\" href=\"../21ce815e3bd3337666b618c864f2877136285d110/expr.ipynb\"><img src=\"data:image/png;base64,iVBORw0KGgoAAAANSUhEUgAAAIcAAAAVBAMAAACeZ+BxAAAAMFBMVEX////c3NxERESqqqpUVFS6\n",
       "urrMzMwyMjIQEBCIiIh2dnYiIiLu7u5mZmaYmJgAAABXZE4RAAAAAXRSTlMAQObYZgAAAjxJREFU\n",
       "OMudlD1oFEEUx/+57O3eXnY310kKMRDQQsTrrMQIB1YhKWMhXHFFCsldwICFgVPRSjBYBFLlwEYl\n",
       "MWnzAVqZlEFBBUmyjQTSJGgiKEJ8783c7OxuKhd25u3Mb/4z72MHQLSL/3/cNxXugjVub2dnv+f4\n",
       "HBKNscpjNv0jNoeTueDFyG7PdljP7pkg/uhx7dZF4DN/fOGm3KbGe5/Qr2IUv8ZosV2UEdGzkX6a\n",
       "vFGFJ7gRmU+AzQ1qlis44A+H1/uzSCNodoDwL6JOSuRZAtznHceBLfFhkJo+OYOFYIGi4f5G0LZF\n",
       "ii0zH/7k9jxQqLIxRe91caxliVylt+cYGLJFwo6ZvyDwBxrfhhaYEvGOJfKDD0kiS12RkFZ5sZnf\n",
       "65q9okauiEs2wp5Qgv8A16g/5JEJ8q9E77d1etbwrqLJYhsqqA6Xg43A/8UxP5HQwaMTN55yysb0\n",
       "ygZOpadQukdirWBTZTVBUOCpEm3S5IFLdMbxeop4Lq7UjcgnvM2J9LODh7ES6eNgOeR7qWqIUc5n\n",
       "aNzBOTqLuJMgaHLhPFKVoGJSJqgQG0KARQ6cyqkzKaVmI1iggxYekL1vp1ilk+OOiOrkDgdXj7mX\n",
       "VblbCJeJO8P2UqrYVpL8Ne7tyMk9HYQZnSyDBB9Pa7Ur8j9Np8r+Yf6m2NL9Xd2fgaTLXv1t6ed1\n",
       "5vsMpDzbFYmyV4HepZUZyCOqguQ+CVb5bxrOAk4lM5BHcJPj/ETdci+pGcgCc7klOcSv6zv2H23K\n",
       "kEsgz231AAAAAElFTkSuQmCC\n",
       "\" style=\"display:inline;vertical-align:middle;\" /></a> <a class=\"ProveItLink\" href=\"proof.ipynb\" style=\"text-decoration: none\">&#x22A2;&nbsp;</a><a class=\"ProveItLink\" href=\"../5ad28abb0fcfc5abf4fccda0de15258c5ab27d570/expr.ipynb\"><img src=\"data:image/png;base64,iVBORw0KGgoAAAANSUhEUgAAAHEAAAAVBAMAAACDNRyvAAAAMFBMVEX////c3NwiIiJERESqqqqY\n",
       "mJh2dnZmZmYQEBDu7u4yMjJUVFTMzMyIiIi6uroAAAAs73DqAAAAAXRSTlMAQObYZgAAAdZJREFU\n",
       "OMudlDtIA0EQhv+8Lg8TtbOwEOzSpdBGC1OLRSoLQZPOSjhBtBGSQkEbSacIwqFY2EjEQjCiB3Za\n",
       "mF7FYKNYJWgEo0Z3Zi93650guMXs7H/f7M3ezB7w/9FZcQmh6p8IpshcKsLW8EKmB4tuTkGuv8rl\n",
       "HRNhU/h7jqwtAw/LiPGC3xxnV0HQBIIvgAEknEyi20URXUcoR6sTMrdkFATxV2HyRYwDkaKtxlbp\n",
       "TAVEC7Q6J5MkoyBItIS5qmADeHLUfFoYnw4M8D7dIi+dPAVBoCZMXwmBNOZt0dfklMXZp8mhKIqG\n",
       "ggBdKXpnCZqOXVsMN9reKKxMOWMF4USBbA5BA2sipJ9Gzl9vP36E9XVO2XEQ4I7KcValz9Fqf7RS\n",
       "V42zpY1Z8SNqsOMgwAg5K8KvKXKEI8fsyHBay3gin6nJGhy5ZMsdbzTrdrY+wy8fOQjin1SlFBdv\n",
       "0JZZ1ah2E1I6mZSzgyDxIeYhwYQMWQEaJrJpdM6Sa2nnSTkrCJXzgtISVblXOuv4aI6dfaundDk7\n",
       "yPrIe/mQL0Ssiki3597J7hM7WV33C0LdJ9v7x9Bc1/EXBDOuKyTHplvwIlzpXo984Ba8SAcdwOf+\n",
       "VSRMN+dBcAN8A0Hpek6baFczAAAAAElFTkSuQmCC\n",
       "\" style=\"display:inline;vertical-align:middle;\" /></a></span></td></tr>\n",
       "</table>"
      ],
      "text/plain": [
       "<proveit._core_.proof._ShowProof at 0x7f94ebd59d30>"
      ]
     },
     "execution_count": 1,
     "metadata": {},
     "output_type": "execute_result"
    }
   ],
   "source": [
    "import proveit\n",
    "%show_proof"
   ]
  },
  {
   "cell_type": "code",
   "execution_count": null,
   "metadata": {},
   "outputs": [],
   "source": []
  }
 ],
 "metadata": {
  "kernelspec": {
   "display_name": "Python 3",
   "language": "python",
   "name": "python3"
  }
 },
 "nbformat": 4,
 "nbformat_minor": 0
}
