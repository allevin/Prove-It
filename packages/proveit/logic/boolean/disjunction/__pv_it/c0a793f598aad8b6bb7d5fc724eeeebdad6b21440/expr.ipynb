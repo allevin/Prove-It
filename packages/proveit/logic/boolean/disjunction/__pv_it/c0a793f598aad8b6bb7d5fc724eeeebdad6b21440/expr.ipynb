{
 "cells": [
  {
   "cell_type": "markdown",
   "metadata": {},
   "source": [
    "Expression of type <a class=\"ProveItLink\" href=\"../../../../../../../doc/html/api/proveit.logic.Or.html\">Or</a>\n",
    "=======================\n",
    "# from context <a class=\"ProveItLink\" href=\"../../_context_.ipynb\">proveit.logic.boolean.disjunction</a>"
   ]
  },
  {
   "cell_type": "code",
   "execution_count": 1,
   "metadata": {},
   "outputs": [],
   "source": [
    "# import Expression classes needed to build the expression\n",
    "from proveit._common_ import A, B, C, D, E, F, G, H\n",
    "from proveit.logic import Or"
   ]
  },
  {
   "cell_type": "code",
   "execution_count": 2,
   "metadata": {},
   "outputs": [
    {
     "data": {
      "text/html": [
       "<strong id=\"expr\">expr:</strong> <a class=\"ProveItLink\" href=\"expr.ipynb\"><img src=\"data:image/png;base64,iVBORw0KGgoAAAANSUhEUgAAASgAAAAPBAMAAACl908QAAAAMFBMVEX///92dnYQEBBERERUVFS6\n",
       "urqIiIhmZmaqqqrc3Nzu7u6YmJgyMjIiIiLMzMwAAACFkkdwAAAAAXRSTlMAQObYZgAAA0FJREFU\n",
       "SMeNVk1ME1EQngKldNsuxKuHEr3hQTTexLTKCpdKe/NIEw0eS9QEkGibePCGTTzgwYQ9+BMjhz2o\n",
       "B02kERKCP7EmnjiIEU7+BAig/Fpn3rzu7rQc2GRft99+38y8mXnTAtD1G+T1vGJZXZka8PGpIWdc\n",
       "QpeRN/2tHkvt1mPn/kjMuNQ7Gh4UUHN67UYkvTbC3z7RElSP7OIoQGhDYoFjABfxBhWsyUJ03rJZ\n",
       "o6WAbu+DnZbaQw4ErzqS1lrCu8ymIws2rk30ojmrZLgrc11gxkfkBLbwqY8YA0poruKSt4U2SBkJ\n",
       "SXtB4r0Q2sl5XOJFQYN+/FjW2bufL5KHTlxitsojOo+sCizaQcbbcVkkxjznm7K5nBXawD8qtbQX\n",
       "oGyOCe1bW7eNjwZxDDBX4KCyOZXWObzvKKARncc6BJYnruqBKO6ghbfTuILLRFJooysQgLC0F91G\n",
       "5JVfG6IwYVzSVBslOL6gfdcB/WaOa5uE8LTtx8KqdQ1KNRkl48SjXS4npbYTXrMLH1aGZ+rB1U6U\n",
       "6OtTSYM1vPf48ZGqgMqhyiX66Rm4qeJ0sdCOd0jmdRm4cjDVJrT9M6ktAGmvfxBGpDbvuOY8WnDX\n",
       "srr/MpqBCVUN7LYmngO5IhhfwI/FtrygsFHP81OOMpfOCC32RQlA2ovPXGiX2oWiNwhcGrVj8yYf\n",
       "IctKc6RlmGTeSXLo+LHWFVU+3hoY2m2CliNSi33Rpk+4h9mQBKGt4H3lwwlJw3aExm3Q86mBnQzD\n",
       "YX67Xq2KizWooMYUFCoEHK8HIjtSi1jRyEpsDwytqGrVTuIZSaMWbeVQ8FjFOLkPgAeXSX7SBT/W\n",
       "pDbAZy5cirERGmfQ0Cm0akwFbImturWqatN2dWZ7NB5TKhfhAueNPP/kHdKYCutfCo2ZPl/Q91J3\n",
       "A42kLlto1ZgaB4lteA2ptXREalzoMaWyR/XUhTTP2O6Y+v4OBDZVgKA+QbDIo1ONqV+Dkkf7M7/W\n",
       "YyC1VPSlz5Lmjal7x+cgkthl07Nc98S6lXpftTKrlane4SoUZfYT5HXfkryHiFkLZYEhbwRqtLA0\n",
       "M+S8ETTjWqUHrlfO1vwPgB9Qf+2DmfbBeAfV1tL+A/2VLZjn7z2rAAAAAElFTkSuQmCC\n",
       "\" style=\"display:inline;vertical-align:middle;\" /></a><br>"
      ],
      "text/plain": [
       "expr: A or B or C or D or E or F or G or H"
      ]
     },
     "execution_count": 2,
     "metadata": {},
     "output_type": "execute_result"
    }
   ],
   "source": [
    "# build up the expression from sub-expressions\n",
    "expr = Or(A, B, C, D, E, F, G, H)"
   ]
  },
  {
   "cell_type": "code",
   "execution_count": 3,
   "metadata": {},
   "outputs": [
    {
     "name": "stdout",
     "output_type": "stream",
     "text": [
      "Passed sanity check: built 'expr' is the same as the stored Expression.\n"
     ]
    }
   ],
   "source": [
    "# check that the built expression is the same as the stored expression\n",
    "%check_expr"
   ]
  },
  {
   "cell_type": "code",
   "execution_count": 4,
   "metadata": {},
   "outputs": [
    {
     "data": {
      "text/html": [
       "<table><tr><th>&nbsp;</th><th>core type</th><th>sub-expressions</th><th>expression</th></tr>\n",
       "<tr><td>0</td><td>Operation</td><td>operator:&nbsp;1<br>operands:&nbsp;2<br></td><td><a class=\"ProveItLink\" href=\"expr.ipynb\"><img src=\"data:image/png;base64,iVBORw0KGgoAAAANSUhEUgAAASgAAAAPBAMAAACl908QAAAAMFBMVEX///92dnYQEBBERERUVFS6\n",
       "urqIiIhmZmaqqqrc3Nzu7u6YmJgyMjIiIiLMzMwAAACFkkdwAAAAAXRSTlMAQObYZgAAA0FJREFU\n",
       "SMeNVk1ME1EQngKldNsuxKuHEr3hQTTexLTKCpdKe/NIEw0eS9QEkGibePCGTTzgwYQ9+BMjhz2o\n",
       "B02kERKCP7EmnjiIEU7+BAig/Fpn3rzu7rQc2GRft99+38y8mXnTAtD1G+T1vGJZXZka8PGpIWdc\n",
       "QpeRN/2tHkvt1mPn/kjMuNQ7Gh4UUHN67UYkvTbC3z7RElSP7OIoQGhDYoFjABfxBhWsyUJ03rJZ\n",
       "o6WAbu+DnZbaQw4ErzqS1lrCu8ymIws2rk30ojmrZLgrc11gxkfkBLbwqY8YA0poruKSt4U2SBkJ\n",
       "SXtB4r0Q2sl5XOJFQYN+/FjW2bufL5KHTlxitsojOo+sCizaQcbbcVkkxjznm7K5nBXawD8qtbQX\n",
       "oGyOCe1bW7eNjwZxDDBX4KCyOZXWObzvKKARncc6BJYnruqBKO6ghbfTuILLRFJooysQgLC0F91G\n",
       "5JVfG6IwYVzSVBslOL6gfdcB/WaOa5uE8LTtx8KqdQ1KNRkl48SjXS4npbYTXrMLH1aGZ+rB1U6U\n",
       "6OtTSYM1vPf48ZGqgMqhyiX66Rm4qeJ0sdCOd0jmdRm4cjDVJrT9M6ktAGmvfxBGpDbvuOY8WnDX\n",
       "srr/MpqBCVUN7LYmngO5IhhfwI/FtrygsFHP81OOMpfOCC32RQlA2ovPXGiX2oWiNwhcGrVj8yYf\n",
       "IctKc6RlmGTeSXLo+LHWFVU+3hoY2m2CliNSi33Rpk+4h9mQBKGt4H3lwwlJw3aExm3Q86mBnQzD\n",
       "YX67Xq2KizWooMYUFCoEHK8HIjtSi1jRyEpsDwytqGrVTuIZSaMWbeVQ8FjFOLkPgAeXSX7SBT/W\n",
       "pDbAZy5cirERGmfQ0Cm0akwFbImturWqatN2dWZ7NB5TKhfhAueNPP/kHdKYCutfCo2ZPl/Q91J3\n",
       "A42kLlto1ZgaB4lteA2ptXREalzoMaWyR/XUhTTP2O6Y+v4OBDZVgKA+QbDIo1ONqV+Dkkf7M7/W\n",
       "YyC1VPSlz5Lmjal7x+cgkthl07Nc98S6lXpftTKrlane4SoUZfYT5HXfkryHiFkLZYEhbwRqtLA0\n",
       "M+S8ETTjWqUHrlfO1vwPgB9Qf+2DmfbBeAfV1tL+A/2VLZjn7z2rAAAAAElFTkSuQmCC\n",
       "\" style=\"display:inline;vertical-align:middle;\" /></a></td></tr>\n",
       "<tr><td>1</td><td>Literal</td><td></td><td><a class=\"ProveItLink\" href=\"../087d0b4ded7c7e5bf3bba05ecb616d7a8051ff650/expr.ipynb\"><img src=\"data:image/png;base64,iVBORw0KGgoAAAANSUhEUgAAAAwAAAAOBAMAAADpk+DfAAAALVBMVEX///+YmJh2dnZmZmaqqqrc\n",
       "3NwyMjLu7u4iIiJERESIiIhUVFTMzMy6uroAAAD0I/TTAAAAAXRSTlMAQObYZgAAAEtJREFUCNdj\n",
       "uMAABDwMe0DUKoaTIKqdgS2AgYHFAITAzHYGsMQqBoa9QIqDgT0BSDE7MAkAKdYEDpAehj1SYOpk\n",
       "O5hiMwBTPAUMDAB33Atnw8aG2QAAAABJRU5ErkJggg==\n",
       "\" style=\"display:inline;vertical-align:middle;\" /></a></td></tr>\n",
       "<tr><td>2</td><td>ExprTuple</td><td>3, 4, 5, 6, 7, 8, 9, 10</td><td><a class=\"ProveItLink\" href=\"../bcbee9b493f0762462a8e37b4c43eb15175397860/expr.ipynb\"><img src=\"data:image/png;base64,iVBORw0KGgoAAAANSUhEUgAAAM8AAAAVBAMAAAATCqclAAAAMFBMVEX////c3NwiIiJERESqqqqY\n",
       "mJh2dnZmZmYQEBDu7u4yMjJUVFTMzMyIiIi6uroAAAAs73DqAAAAAXRSTlMAQObYZgAAAv9JREFU\n",
       "SMe9VU1oE1EQ/mK6TdfubgIKBT20F0VBaC/+gZCAV6G5KAiiuakHaYr4h4cW9CAe7CqIxd94ELUF\n",
       "LRZUukiK1x4a8NCDSqMXxUtrq5Um2jrzfnZfaPfYBvZlvpn93tv5ZmYXWLefV1n7M47zMiHt99pp\n",
       "levB6AuN7A9vziWKwnQpMHZABz4uB8FYzQBv/61gEGX+klWe702NE3gufS/D41u6gL6qAqfy8C7m\n",
       "pZ0uAd05fRsfctAEu1cyBCXdAdCfK5WzOn1NmiTP5Ii07+6kpSejAgUgtagV5wRSGixofRoZmOG9\n",
       "KL0j9PzygM19OoZpsk4UpP2Mo991gNJ0lEBo/kvLAw1+0XIoYoR16CHNpkmEQeCH9FSmtVjYR9cO\n",
       "eXyKN0CbCmTpStQV2DiLZiQ0WCTz6EqGKEiW9krmcF7m7ndrWUFbbdkvzfYSr/dVYJ4uRx+U7sLh\n",
       "sKxUhtsm4yYMyhynXMQT4XgoKiN+Tv3z1DZl9+WNHhWqWQta/eGxn2FopojeVRjwakEw+oeMphJu\n",
       "CE8V7aoj4RL/luqFzozBcrkqrUuR+qUw1DP8qn8Vhiiky2J6/RBEJwjKXSqYJIr7W9rLYlX9mJzl\n",
       "3u+P1C9gXAMfIxFjamhPVEgkuU+dWXmQRzvo50uPRAIN8NI0HlaF2jEfqZ+xtdxzsJX/mkiwGhVS\n",
       "jBIfdJUd1IAb9KNOEqX1l7TLvjEsoopXzDFq9o0xMhjh8IsxKkjpeJ4TOZmlr8eIe8fXe5/WAcos\n",
       "Se8ROxyjNg2WQomZkagpvxwjTs8q4SRPM4SU9pwaI+e6L4FFmX3LqACNkfOU/h91KPWdXQaAYlB1\n",
       "J7YrfzhG3N5fgU0Dj2Fla0V7gJI5S+/HIVJPAEwMX8hJ2+bAXi7XILXlvWw9CDo7JLiTrXNzh4z8\n",
       "MeknyjtcXn7Nj1JFi9GPntmbXlwAX2JAw10NN/EryCpE0DJjVowN5GOAFXsTzkSfiTU9yOYW3xrh\n",
       "hm9tJcaGGwcqcTehlUVNrMOn/BPwHyleAdnbvXTuAAAAAElFTkSuQmCC\n",
       "\" style=\"display:inline;vertical-align:middle;\" /></a></td></tr>\n",
       "<tr><td>3</td><td>Variable</td><td></td><td><a class=\"ProveItLink\" href=\"../../../../../__pv_it/2cbe72a7ad6f655694dd697106680215e8489b600/expr.ipynb\"><img src=\"data:image/png;base64,iVBORw0KGgoAAAANSUhEUgAAAA8AAAAOBAMAAAACpFvcAAAALVBMVEX///8QEBBERERUVFS6urqI\n",
       "iIhmZmaqqqrc3Nzu7u6YmJgyMjIiIiLMzMwAAADtIaYWAAAAAXRSTlMAQObYZgAAAFtJREFUCNdj\n",
       "YACBOwxQsA9Kc52bAGG05zVAGAFxDmCaZULdAjBjCsO9ADDDgaEvAUTzGhvbKYCVMDAwbgAxChgY\n",
       "eASANAeQwf0AyJgNxEwvGRia5HYwcOm9TgAA6BoR3jrzwFcAAAAASUVORK5CYII=\n",
       "\" style=\"display:inline;vertical-align:middle;\" /></a></td></tr>\n",
       "<tr><td>4</td><td>Variable</td><td></td><td><a class=\"ProveItLink\" href=\"../../../../../__pv_it/077b2ff79244fb4582cbe22c6e3356fa92a52f2f0/expr.ipynb\"><img src=\"data:image/png;base64,iVBORw0KGgoAAAANSUhEUgAAABAAAAAOBAMAAADUAYG5AAAAMFBMVEX///+qqqru7u4iIiJ2dnbc\n",
       "3NyIiIjMzMxmZmYQEBC6uroyMjJERERUVFSYmJgAAADLUcuvAAAAAXRSTlMAQObYZgAAAGpJREFU\n",
       "CNdjYGB4+//u3dMLGIBgDgMDxy8gzf4NiP8CGWxfGRj4vgAZPBMYGJgnARn8FxhY9ygAGfXX0pof\n",
       "gDTlBzAw2YIYJ0EckBBI53sHoBH/gIz7AhBjWH9DjancBLTl/N+7t/cxMAAA3u4f/5xagjYAAAAA\n",
       "SUVORK5CYII=\n",
       "\" style=\"display:inline;vertical-align:middle;\" /></a></td></tr>\n",
       "<tr><td>5</td><td>Variable</td><td></td><td><a class=\"ProveItLink\" href=\"../../../../../__pv_it/985a1bdf1540838275dec15f4ad6de261cca93ce0/expr.ipynb\"><img src=\"data:image/png;base64,iVBORw0KGgoAAAANSUhEUgAAAA8AAAAOBAMAAAACpFvcAAAAMFBMVEX////MzMyqqqoiIiIyMjK6\n",
       "uroQEBB2dnbc3NyYmJhmZmZUVFRERESIiIju7u4AAAB204erAAAAAXRSTlMAQObYZgAAAGZJREFU\n",
       "CNdjYGDgu7NrJccCBgaGsgkMrMsmMDA8sQNy6hsYGNweABlhDAxcn4A0QxcDQ78DiPGQgWH9BAYI\n",
       "sG+AMv6DSaCGfBDNJMDAsB+kmwuI5S8AiTog5gSaEwXWIO29SgFIAQBC+RaDQlidVgAAAABJRU5E\n",
       "rkJggg==\n",
       "\" style=\"display:inline;vertical-align:middle;\" /></a></td></tr>\n",
       "<tr><td>6</td><td>Variable</td><td></td><td><a class=\"ProveItLink\" href=\"../../../../../__pv_it/185e6d30f167ee2ee5ef3321098dc98e0d77bc590/expr.ipynb\"><img src=\"data:image/png;base64,iVBORw0KGgoAAAANSUhEUgAAABEAAAAOBAMAAAA7w+qHAAAALVBMVEX///8QEBCYmJjc3Ny6urru\n",
       "7u5mZmZ2dnaqqqrMzMxEREQyMjJUVFSIiIgAAABETr/8AAAAAXRSTlMAQObYZgAAAGpJREFUCNdj\n",
       "YGC48+7MmV0TGEDgNQMDxwsQg/M5kMgLABK8T4DEvAtAgusBkLA7ACT4FoDEDsAk9AqAxD2QCecc\n",
       "gMQ6kAGCIOIVEDM9Ahn3FkgwgnTxvgQSqwOgxs1OADLC1r05cyoTyAAAv4Qe+njAWvgAAAAASUVO\n",
       "RK5CYII=\n",
       "\" style=\"display:inline;vertical-align:middle;\" /></a></td></tr>\n",
       "<tr><td>7</td><td>Variable</td><td></td><td><a class=\"ProveItLink\" href=\"../../../../../__pv_it/9995c55100c62d7d8a012a35bafc852acbe03cf00/expr.ipynb\"><img src=\"data:image/png;base64,iVBORw0KGgoAAAANSUhEUgAAABAAAAAOBAMAAADUAYG5AAAALVBMVEX///8iIiKYmJjc3Nzu7u7M\n",
       "zMx2dnZmZma6urpERESqqqoyMjJUVFSIiIgAAACbLqVTAAAAAXRSTlMAQObYZgAAAGVJREFUCNdj\n",
       "YGC48+7MmdOvGYAARKwEYo63QIIdiNmeAglfIOZ+wMDGwAxk8E1gUAIpZejbc/oxmJEXwLABzNjH\n",
       "wJDAEABkvGRgMGC5ADWGzQFqjDnEGAZWUQYGn3lvzpyRE2AAAIznGVQJqiN4AAAAAElFTkSuQmCC\n",
       "\" style=\"display:inline;vertical-align:middle;\" /></a></td></tr>\n",
       "<tr><td>8</td><td>Variable</td><td></td><td><a class=\"ProveItLink\" href=\"../../../../../__pv_it/6d1586c49fb5fd7602fde2bbc54560e7304e8ccf0/expr.ipynb\"><img src=\"data:image/png;base64,iVBORw0KGgoAAAANSUhEUgAAABAAAAAOBAMAAADUAYG5AAAAMFBMVEX///9mZmYiIiLc3Nzu7u7M\n",
       "zMyqqqp2dna6urqYmJhEREQyMjIQEBBUVFSIiIgAAABBzvKsAAAAAXRSTlMAQObYZgAAAFxJREFU\n",
       "CNdjYGB4+//u3Tv/GIDgNxCvBGKO70BiBhCzfwMSqUDM/YWBmWEKkMGvwOAJUsrQL8AgDGbU7710\n",
       "AMzY78BwAcz4xMAygQFmDAiw/4AyuD9AaMf1f8GaAdy+F/r2qjhkAAAAAElFTkSuQmCC\n",
       "\" style=\"display:inline;vertical-align:middle;\" /></a></td></tr>\n",
       "<tr><td>9</td><td>Variable</td><td></td><td><a class=\"ProveItLink\" href=\"../../../../../__pv_it/994260d00d104a1ab9cf940a007fb6a4ff36f79e0/expr.ipynb\"><img src=\"data:image/png;base64,iVBORw0KGgoAAAANSUhEUgAAAA8AAAAOBAMAAAACpFvcAAAAMFBMVEX///+qqqrMzMwiIiIyMjK6\n",
       "uroQEBB2dnbc3NyYmJhmZmZUVFRERESIiIju7u4AAACtjd3MAAAAAXRSTlMAQObYZgAAAG5JREFU\n",
       "CNdjYGDgu7NrJccCBgaGsgkMrMsmMDA8sQNy6hsYGNweABnKDAxcH4E0QxcDQ78DiPGCgWH9BAYI\n",
       "sG+AMv4D8S2X4wwMaSBefQADw36Qbn8g1r/AwMDxBcjg/MnAoG0Oktf2XjVhEgMDAJHQGYM57+uu\n",
       "AAAAAElFTkSuQmCC\n",
       "\" style=\"display:inline;vertical-align:middle;\" /></a></td></tr>\n",
       "<tr><td>10</td><td>Variable</td><td></td><td><a class=\"ProveItLink\" href=\"../../../../../__pv_it/fabf74ac81cd36aa91075816201d2b14195a56e60/expr.ipynb\"><img src=\"data:image/png;base64,iVBORw0KGgoAAAANSUhEUgAAABMAAAAOBAMAAAA/Njq6AAAALVBMVEX///+qqqp2dnbMzMy6uroi\n",
       "IiIyMjLc3NyYmJju7u5mZmZERERUVFSIiIgAAABaGT/LAAAAAXRSTlMAQObYZgAAAGhJREFUCNdj\n",
       "YGC4827XhJ53uwoYgOAZED8FMRhY3jIwML8CM5keMzDwPgQz2R4wMHC/BDP5NgBxAJjpl3PmzL4F\n",
       "YKaeAQPDPQEwMw+I900AM19DjYYa+whh7BM0Y2fte3OB69wbBQYGADOSITJjbaXUAAAAAElFTkSu\n",
       "QmCC\n",
       "\" style=\"display:inline;vertical-align:middle;\" /></a></td></tr>\n",
       "</table>\n"
      ],
      "text/plain": [
       "0. A or B or C or D or E or F or G or H\n",
       "   core type: Operation\n",
       "   operator: 1\n",
       "   operands: 2\n",
       "1. or\n",
       "   core type: Literal\n",
       "   sub-expressions: \n",
       "2. (A , B , C , D , E , F , G , H)\n",
       "   core type: ExprTuple\n",
       "   sub-expressions: 3, 4, 5, 6, 7, 8, 9, 10\n",
       "3. A\n",
       "   core type: Variable\n",
       "   sub-expressions: \n",
       "4. B\n",
       "   core type: Variable\n",
       "   sub-expressions: \n",
       "5. C\n",
       "   core type: Variable\n",
       "   sub-expressions: \n",
       "6. D\n",
       "   core type: Variable\n",
       "   sub-expressions: \n",
       "7. E\n",
       "   core type: Variable\n",
       "   sub-expressions: \n",
       "8. F\n",
       "   core type: Variable\n",
       "   sub-expressions: \n",
       "9. G\n",
       "   core type: Variable\n",
       "   sub-expressions: \n",
       "10. H\n",
       "    core type: Variable\n",
       "    sub-expressions: "
      ]
     },
     "execution_count": 4,
     "metadata": {},
     "output_type": "execute_result"
    }
   ],
   "source": [
    "# display the expression information\n",
    "expr.exprInfo()"
   ]
  },
  {
   "cell_type": "code",
   "execution_count": null,
   "metadata": {},
   "outputs": [],
   "source": []
  }
 ],
 "metadata": {
  "kernelspec": {
   "display_name": "Python 3",
   "language": "python",
   "name": "python3"
  }
 },
 "nbformat": 4,
 "nbformat_minor": 0
}
