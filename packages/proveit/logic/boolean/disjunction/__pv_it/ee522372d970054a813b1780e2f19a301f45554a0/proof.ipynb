{
 "cells": [
  {
   "cell_type": "markdown",
   "metadata": {},
   "source": [
    "Show the Proof\n",
    "========"
   ]
  },
  {
   "cell_type": "code",
   "execution_count": 1,
   "metadata": {},
   "outputs": [
    {
     "data": {
      "text/html": [
       "<table><tr><th>&nbsp;</th><th>step type</th><th>requirements</th><th>statement</th></tr>\n",
       "<tr><td>0</td><td>hypothetical reasoning</td><td>1</td><td><span style=\"font-size:20px;\"> <a class=\"ProveItLink\" href=\"proof.ipynb\" style=\"text-decoration: none\">&#x22A2;&nbsp;</a><a class=\"ProveItLink\" href=\"../69f921e584a2d59ff958b2707f3dd17bf8ba68040/expr.ipynb\"><img src=\"data:image/png;base64,iVBORw0KGgoAAAANSUhEUgAAAQkAAAAVBAMAAACnJQYDAAAAMFBMVEX////c3NwiIiJERESqqqqY\n",
       "mJh2dnZmZmYQEBDu7u4yMjJUVFTMzMyIiIi6uroAAAAs73DqAAAAAXRSTlMAQObYZgAAAplJREFU\n",
       "SMfNVr9rU1EUPq9pmjR5jW82CCWC0EkRM7h1K7RLpg6C0kWCQyGIdHKoksUlZJROz6FoFom7SKBU\n",
       "0Qz2D1B4dJKC4F8QvPee+94595w06uYH37u5J/c793v35wP4P9A4E5UgYFHOpOanDDxg/EMXME8L\n",
       "Ux6ZikDk9E+FLh7nvx63LK5DZQIFNaaUioFrYcT/GYlA3LPPWu5piGVtyJp8cs+UUWFEqaDhnhOh\n",
       "XeMWbSUIoLS853vHRPAdlItdRo9VnrVwUZ8A9VFoq/y9bCUIoHT1EGsnG1i+0C5eMoIYMczoXcS3\n",
       "zGNpKLQXPOMFiICX3sHaBxyERqpdlDaJ+Zocs6xFKnhluCW1Bzzjgad00cUhTpdcWdnTLlZ6xBz7\n",
       "LCu52PJOAu0xz3jsKV1sY+tOxb1praNdLKfEfPnf7FFWcmFmw81KoB2Yd3Ma+4IDJAW89AfqIXJ9\n",
       "VDPfzw3K1DgkFtjGg2YQuDArs54FLoxmxs+AmWcR8NKv7nkf4L0tr2T8HMBM8S8i7ZI3ruUscAHr\n",
       "cBSOo9H8g4sN3+9fu/jyCOa4eAIPlYs+77TvKV24GVk2v2uJnZFN7SKcEVwXrbvYrB+6uGpGQ85I\n",
       "m3fa9pQu7rlFmaATKHW0i3JKzLHjy3boon56Frowmm4emfgdGQT4Tj3BSWW7MV64U6PcUDd0Ed8e\n",
       "ql1+znfduSfCbpXnrZbZVm/dmZUf3o11rvmIB2VG9CgllJVSGbzW2mrCT/AEwoBf626ys+IyeqYv\n",
       "rDkneMyzcnzW2jI/CG0lCCBWxKW8q13sM0rMyai0C292xJGoBze7P9yJl9zsl8JpmjzSlAGHd6Ie\n",
       "jWWLekLUaC504TTBN5CtqI+iNfUBdU0GvjFqRAu/+IzmN33kz8PPuz7TAAAAAElFTkSuQmCC\n",
       "\" style=\"display:inline;vertical-align:middle;\" /></a></span></td></tr>\n",
       "<tr><td>1</td><td>theorem</td><td></td><td><span style=\"font-size:20px;\"> <a class=\"ProveItLink\" href=\"../../_proofs_/falseOrTrue.ipynb\" style=\"text-decoration: none\">&#x22A2;&nbsp;</a><a class=\"ProveItLink\" href=\"../f442276f834cda47790ded243b38294647dfe1df0/expr.ipynb\"><img src=\"data:image/png;base64,iVBORw0KGgoAAAANSUhEUgAAADUAAAAPBAMAAAC2KZqIAAAAMFBMVEX///+YmJh2dnaqqqoyMjLu\n",
       "7u5UVFS6urpEREQQEBAiIiJmZmbMzMyIiIjc3NwAAAD1oEhMAAAAAXRSTlMAQObYZgAAAHtJREFU\n",
       "GNNjYGBgeMuACrhXgUEDiH0aIsQOJg+ASZ4NUHVQOTaQMO8FrHI8IEO4ArDKMfgBsTUDdjlrqDw2\n",
       "OaB5YHOxyQHdwVaAQ45hAUMIAy65zQyKOOWeAHXikmM7eAGnHE9XAIrcrlWrVq5atQIi5A1XpcCA\n",
       "Do6i8AAHVSocMnjJgQAAAABJRU5ErkJggg==\n",
       "\" style=\"display:inline;vertical-align:middle;\" /></a></span></td></tr>\n",
       "<tr><td>&nbsp;</td><td colspan=4 style-\"text-align:left\"><a class=\"ProveItLink\" href=\"../../_proofs_/falseOrTrue.ipynb\">proveit.logic.boolean.disjunction.falseOrTrue</a></td></tr></table>"
      ],
      "text/plain": [
       "<proveit._core_.proof._ShowProof at 0x7f94ebfea320>"
      ]
     },
     "execution_count": 1,
     "metadata": {},
     "output_type": "execute_result"
    }
   ],
   "source": [
    "import proveit\n",
    "%show_proof"
   ]
  },
  {
   "cell_type": "code",
   "execution_count": null,
   "metadata": {},
   "outputs": [],
   "source": []
  }
 ],
 "metadata": {
  "kernelspec": {
   "display_name": "Python 3",
   "language": "python",
   "name": "python3"
  }
 },
 "nbformat": 4,
 "nbformat_minor": 0
}
