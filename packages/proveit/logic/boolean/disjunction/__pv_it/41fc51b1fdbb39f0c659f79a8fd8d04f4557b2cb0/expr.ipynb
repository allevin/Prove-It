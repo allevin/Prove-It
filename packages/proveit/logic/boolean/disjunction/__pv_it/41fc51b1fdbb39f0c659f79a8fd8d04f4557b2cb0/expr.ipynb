{
 "cells": [
  {
   "cell_type": "markdown",
   "metadata": {},
   "source": [
    "Expression of type <a class=\"ProveItLink\" href=\"../../../../../../../doc/html/api/proveit.ExprTuple.html\">ExprTuple</a>\n",
    "=======================\n",
    "# from context <a class=\"ProveItLink\" href=\"../../_context_.ipynb\">proveit.logic.boolean.disjunction</a>"
   ]
  },
  {
   "cell_type": "code",
   "execution_count": 1,
   "metadata": {},
   "outputs": [],
   "source": [
    "# import Expression classes needed to build the expression\n",
    "from proveit import ExprTuple\n",
    "from proveit._common_ import x\n",
    "from proveit.logic import Equals\n",
    "from proveit.number import Len, zero"
   ]
  },
  {
   "cell_type": "code",
   "execution_count": 2,
   "metadata": {},
   "outputs": [
    {
     "data": {
      "text/html": [
       "<strong id=\"expr\">expr:</strong> <a class=\"ProveItLink\" href=\"expr.ipynb\"><img src=\"data:image/png;base64,iVBORw0KGgoAAAANSUhEUgAAAEkAAAAVBAMAAAD4Ed5jAAAAMFBMVEX////c3NwiIiJERESqqqqY\n",
       "mJh2dnZmZmYQEBDu7u4yMjJUVFTMzMyIiIi6uroAAAAs73DqAAAAAXRSTlMAQObYZgAAASVJREFU\n",
       "KM+F0jFLw0AUwPG/2tTEmpJBuogoipMOLoJj/ATN5CjBxalFHDoIgoOjSEAQxywO6pfI7uDhYMFK\n",
       "Wxxd7KSbeHdJHOw1eUM47n7cu7z3QMYuWfwtxqIuaOfrtgnsq88jk5Vz2k2YTeTqrkBND51NiMEV\n",
       "BeoZXmEP7KhAbcCnxw18UKC+4clnxqeTHjZ6C13xX019SSWoHnGrlRNa6/ZKqk7uVTzkKqQSc6lV\n",
       "FXdUSYx3hdTP+EnvorY1/q4s4/woU/JfxYTXB0qdZ4fLCVGqjldVrGWVaHoq47ZWljfAjUxVPQAr\n",
       "5lCrZrDDkqFDvnOBqsS7Vlcv163A0O1OT7Z6bojtUTI5qkNWWKpaJZOTppWTw2KZqnmqwIJ+vtE3\n",
       "qTf4BagiVcjAJTbEAAAAAElFTkSuQmCC\n",
       "\" style=\"display:inline;vertical-align:middle;\" /></a><br>"
      ],
      "text/plain": [
       "expr: (|x| = 0)"
      ]
     },
     "execution_count": 2,
     "metadata": {},
     "output_type": "execute_result"
    }
   ],
   "source": [
    "# build up the expression from sub-expressions\n",
    "expr = ExprTuple(Equals(Len(x), zero))"
   ]
  },
  {
   "cell_type": "code",
   "execution_count": 3,
   "metadata": {},
   "outputs": [
    {
     "name": "stdout",
     "output_type": "stream",
     "text": [
      "Passed sanity check: built 'expr' is the same as the stored Expression.\n"
     ]
    }
   ],
   "source": [
    "# check that the built expression is the same as the stored expression\n",
    "%check_expr"
   ]
  },
  {
   "cell_type": "code",
   "execution_count": 4,
   "metadata": {},
   "outputs": [
    {
     "data": {
      "text/html": [
       "<table><tr><th>&nbsp;</th><th>core type</th><th>sub-expressions</th><th>expression</th></tr>\n",
       "<tr><td>0</td><td>ExprTuple</td><td>1</td><td><a class=\"ProveItLink\" href=\"expr.ipynb\"><img src=\"data:image/png;base64,iVBORw0KGgoAAAANSUhEUgAAAEkAAAAVBAMAAAD4Ed5jAAAAMFBMVEX////c3NwiIiJERESqqqqY\n",
       "mJh2dnZmZmYQEBDu7u4yMjJUVFTMzMyIiIi6uroAAAAs73DqAAAAAXRSTlMAQObYZgAAASVJREFU\n",
       "KM+F0jFLw0AUwPG/2tTEmpJBuogoipMOLoJj/ATN5CjBxalFHDoIgoOjSEAQxywO6pfI7uDhYMFK\n",
       "Wxxd7KSbeHdJHOw1eUM47n7cu7z3QMYuWfwtxqIuaOfrtgnsq88jk5Vz2k2YTeTqrkBND51NiMEV\n",
       "BeoZXmEP7KhAbcCnxw18UKC+4clnxqeTHjZ6C13xX019SSWoHnGrlRNa6/ZKqk7uVTzkKqQSc6lV\n",
       "FXdUSYx3hdTP+EnvorY1/q4s4/woU/JfxYTXB0qdZ4fLCVGqjldVrGWVaHoq47ZWljfAjUxVPQAr\n",
       "5lCrZrDDkqFDvnOBqsS7Vlcv163A0O1OT7Z6bojtUTI5qkNWWKpaJZOTppWTw2KZqnmqwIJ+vtE3\n",
       "qTf4BagiVcjAJTbEAAAAAElFTkSuQmCC\n",
       "\" style=\"display:inline;vertical-align:middle;\" /></a></td></tr>\n",
       "<tr><td>1</td><td>Operation</td><td>operator:&nbsp;2<br>operands:&nbsp;3<br></td><td><a class=\"ProveItLink\" href=\"../973c00772d40448cc77d7ac28aa3ecfccf5a1d320/expr.ipynb\"><img src=\"data:image/png;base64,iVBORw0KGgoAAAANSUhEUgAAADsAAAAVBAMAAAAKrYvGAAAAMFBMVEX///8yMjJERETMzMwQEBAi\n",
       "IiKYmJju7u5mZmZUVFSIiIi6urp2dnbc3NyqqqoAAABOooW1AAAAAXRSTlMAQObYZgAAAK9JREFU\n",
       "KM9jeMsABXAGCjiNwSBOmr1rhQEeadYN7MF4pJcyMCzEIx3JwLD/Am7pHwwM9g9AondW3luxAF2a\n",
       "9w9QGiTKfoAtjCUAIt0oCAKSMOkDQFEeBq4PfAZYdYOk2Rk4FTDthhvOwMCyAIfTEsCi9w0YCiDS\n",
       "raEgEAT12HuQx9gurGfgKsAWLEdBZr5PUGG4hSVQH7A7g0SL1tScSsASJT0rDciPUGpIr8ZgIAMA\n",
       "hA5L3D4EFmkAAAAASUVORK5CYII=\n",
       "\" style=\"display:inline;vertical-align:middle;\" /></a></td></tr>\n",
       "<tr><td>2</td><td>Literal</td><td></td><td><a class=\"ProveItLink\" href=\"../../../../equality/__pv_it/2fb26078095930560931daa0500ce419a39ea6cd0/expr.ipynb\"><img src=\"data:image/png;base64,iVBORw0KGgoAAAANSUhEUgAAAA4AAAAFBAMAAACHocAhAAAAFVBMVEX///9EREQiIiJUVFQyMjJm\n",
       "ZmYAAADubVkoAAAAAXRSTlMAQObYZgAAABRJREFUCNdjCHEBAWcGXCBICQQUAUpuAwlgGKrkAAAA\n",
       "AElFTkSuQmCC\n",
       "\" style=\"display:inline;vertical-align:middle;\" /></a></td></tr>\n",
       "<tr><td>3</td><td>ExprTuple</td><td>4, 5</td><td><a class=\"ProveItLink\" href=\"../453b4eb894b704fcdabc48205b4c878803e0b5350/expr.ipynb\"><img src=\"data:image/png;base64,iVBORw0KGgoAAAANSUhEUgAAADcAAAAVBAMAAAAQkWtIAAAAMFBMVEX////c3NwiIiJERESqqqqY\n",
       "mJh2dnZmZmYQEBDu7u4yMjJUVFTMzMyIiIi6uroAAAAs73DqAAAAAXRSTlMAQObYZgAAAR5JREFU\n",
       "KM9lkr9Lw0AUxz/VpibWhBvERUQXJx1cBMf4FzSTowQXpxanboKDo2hAEMcsDv4X2R08HCzYUouj\n",
       "i8VBN/HukgsJecPx7n249+P7DpQdUljpWAskA+sPKvFjfTzRgN75KGMpU95jEy7MvF1IwZdN+AJv\n",
       "cARu0oQ78CW4h0+a8BeeQxZDhnlsbbw6sm23fhSUdM54MNCLnW13qwpj2inXBnbw5+2sDoML/vKX\n",
       "dPfKmkXalXkBVdey3lCk4WUR28xIKqP0hE67b6Aj3vENTHIRTsBJOTWwFx2wYYp/a/lC7wo9yoeB\n",
       "t693/cjAG6GEH46V6sszXFFXKBD2ouRz4jp0yoX2mysroadWxnodSut3df6WZGoD08o3mcA/depT\n",
       "PWXXo7sAAAAASUVORK5CYII=\n",
       "\" style=\"display:inline;vertical-align:middle;\" /></a></td></tr>\n",
       "<tr><td>4</td><td>Operation</td><td>operator:&nbsp;6<br>operand:&nbsp;7<br></td><td><a class=\"ProveItLink\" href=\"../bd9fc375686998bea5c9acae6bdc7e205708f9e40/expr.ipynb\"><img src=\"data:image/png;base64,iVBORw0KGgoAAAANSUhEUgAAABQAAAAVBAMAAAC0+9ObAAAALVBMVEX///9ERETMzMwQEBAiIiKY\n",
       "mJju7u5mZmZUVFSIiIi6urp2dnbc3NyqqqoAAAACIKMoAAAAAXRSTlMAQObYZgAAAFVJREFUCNdj\n",
       "uMMABXcYdsGYuyhgnp5xdvoEMJNtA6srswOYyc3A+YBXASLKwCEA18Y8Ac48p8CQAGayHpjHwAlh\n",
       "3gsQZjgJUZA4O3tnAKnOmQVjzgIAqzIsifxqiLQAAAAASUVORK5CYII=\n",
       "\" style=\"display:inline;vertical-align:middle;\" /></a></td></tr>\n",
       "<tr><td>5</td><td>Literal</td><td></td><td><a class=\"ProveItLink\" href=\"../../../../../number/numeral/__pv_it/ec23fc7a1b4222a5f4948b495002b97d6fa18c3c0/expr.ipynb\"><img src=\"data:image/png;base64,iVBORw0KGgoAAAANSUhEUgAAAAoAAAAOBAMAAADkjZCYAAAALVBMVEX///8QEBCYmJh2dnaqqqrc\n",
       "3NxUVFQyMjK6uroiIiLMzMyIiIhmZmbu7u4AAAAZjyHdAAAAAXRSTlMAQObYZgAAAEpJREFUCNdj\n",
       "YLiz+xQDA8MMhpsLGLgnMHAXMHAmMHA8ZeA7wMD1hCHOgIHrNZh8jES+Bss+AqlkeQrSxTyBgWEK\n",
       "w8UFDAx3rLMYAMCjFldHSx/9AAAAAElFTkSuQmCC\n",
       "\" style=\"display:inline;vertical-align:middle;\" /></a></td></tr>\n",
       "<tr><td>6</td><td>Literal</td><td></td><td><a class=\"ProveItLink\" href=\"../../../../../number/sets/integer/__pv_it/0a9286fafc7688968c9f0b1c9372a7c495b9f9510/expr.ipynb\"><img src=\"data:image/png;base64,iVBORw0KGgoAAAANSUhEUgAAADsAAAASBAMAAAAXqLt+AAAAMFBMVEX///+qqqru7u5ERERUVFTM\n",
       "zMzc3NyIiIgQEBAyMjJmZmaYmJi6uroiIiJ2dnYAAAD2HuJxAAAAAXRSTlMAQObYZgAAAURJREFU\n",
       "KM99kT9LAnEYxz93Xmnn33fgvYJ0iISWhIJ0k95ABw2BixcFkhC1RFu4BU03lNIibg0N3hDUlhA0\n",
       "xlFDQQgmaBQOPXc5BGoPHPf93ef3fJ/vw0FnyKRSc23/He5OYEcwZ/tSr45jpQfxhC9D1jjWxfje\n",
       "8GWpMI6jYtz5lS15iq81bhe3dl2JUn9P3ywvWJxd7ZiCVmTUI0XcvKX24ZySTVLSfZl6VvCx+Dtc\n",
       "RJwH1CHhnpfpUlr6aGmYkY7cddlUhUngUJYNkyc/XVRmBQ/he7SMViWZYN9z8ZiYEsgafI72jzeN\n",
       "A5MllC5myuENQz653vggIZeW4coeH3JTcUSchE3i6xZ7qDXP6kUppAxtgGbPk0ftx6StYRCrl+EO\n",
       "NreJrFXazGYsTqHxPOFXBWyml0MqMZ3qA1b/aVYylebf8w8ORloN8BKQFQAAAABJRU5ErkJggg==\n",
       "\" style=\"display:inline;vertical-align:middle;\" /></a></td></tr>\n",
       "<tr><td>7</td><td>Variable</td><td></td><td><a class=\"ProveItLink\" href=\"../../../../../__pv_it/530be409e3083890784cf1d7b28c9e67e90af9360/expr.ipynb\"><img src=\"data:image/png;base64,iVBORw0KGgoAAAANSUhEUgAAAAsAAAAJBAMAAAAWSsseAAAAKlBMVEX///9ERETMzMwQEBAiIiKY\n",
       "mJju7u5mZmaqqqpUVFSIiIh2dnbc3NwAAAA/vyDhAAAAAXRSTlMAQObYZgAAAENJREFUCNdjYDi9\n",
       "8sTyBQxsG1hdmR0YuBm4LnAoMLAxcAowgADzAjB1VoEhgYH1wFoGrgSG3gBhhlMMDImrs3cFMAAA\n",
       "t0YN+iTRa+sAAAAASUVORK5CYII=\n",
       "\" style=\"display:inline;vertical-align:middle;\" /></a></td></tr>\n",
       "</table>\n"
      ],
      "text/plain": [
       "0. (|x| = 0)\n",
       "   core type: ExprTuple\n",
       "   sub-expressions: 1\n",
       "1. |x| = 0\n",
       "   core type: Operation\n",
       "   operator: 2\n",
       "   operands: 3\n",
       "2. =\n",
       "   core type: Literal\n",
       "   sub-expressions: \n",
       "3. (|x| , 0)\n",
       "   core type: ExprTuple\n",
       "   sub-expressions: 4, 5\n",
       "4. |x|\n",
       "   core type: Operation\n",
       "   operator: 6\n",
       "   operand: 7\n",
       "5. 0\n",
       "   core type: Literal\n",
       "   sub-expressions: \n",
       "6. length\n",
       "   core type: Literal\n",
       "   sub-expressions: \n",
       "7. x\n",
       "   core type: Variable\n",
       "   sub-expressions: "
      ]
     },
     "execution_count": 4,
     "metadata": {},
     "output_type": "execute_result"
    }
   ],
   "source": [
    "# display the expression information\n",
    "expr.exprInfo()"
   ]
  },
  {
   "cell_type": "code",
   "execution_count": null,
   "metadata": {},
   "outputs": [],
   "source": []
  }
 ],
 "metadata": {
  "kernelspec": {
   "display_name": "Python 3",
   "language": "python",
   "name": "python3"
  }
 },
 "nbformat": 4,
 "nbformat_minor": 0
}
