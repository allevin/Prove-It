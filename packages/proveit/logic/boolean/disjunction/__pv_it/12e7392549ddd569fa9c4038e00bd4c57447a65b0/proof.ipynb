{
 "cells": [
  {
   "cell_type": "markdown",
   "metadata": {},
   "source": [
    "Show the Proof\n",
    "========"
   ]
  },
  {
   "cell_type": "code",
   "execution_count": 1,
   "metadata": {},
   "outputs": [
    {
     "data": {
      "text/html": [
       "<table><tr><th>&nbsp;</th><th>step type</th><th>requirements</th><th>statement</th></tr>\n",
       "<tr><td>0</td><td>specialization</td><td>1, 2</td><td><span style=\"font-size:20px;\"> <a class=\"ProveItLink\" href=\"proof.ipynb\" style=\"text-decoration: none\">&#x22A2;&nbsp;</a><a class=\"ProveItLink\" href=\"../444b220bf1c91615a6b9dec90fd7905c2681daa20/expr.ipynb\"><img src=\"data:image/png;base64,iVBORw0KGgoAAAANSUhEUgAAAJwAAAAVBAMAAABBKZpuAAAAMFBMVEX///8QEBCYmJhmZmaqqqrc\n",
       "3Nzu7u5ERERUVFS6urp2dnbMzMwyMjIiIiKIiIgAAACFNc/vAAAAAXRSTlMAQObYZgAAAYhJREFU\n",
       "OMutlLFOwzAQhq8JrUSaVgwsHZB4AIQyw8IDMGTs2AfogKo+AAsD6hJ2kJAyeWMLGxVDJQSsWVCl\n",
       "vkDZuxGfc9h3bjogbnDi/vk+2Wl8AP9b63dzDT4zfdlfURBk/sM23VaaUDSJEH/WQxupcx9wUl6/\n",
       "hALUdGvdAieJHmOfclIgDhihYKbvvo2uv7Jh8ChtbgrEASMUFPquNLrWyIadA6lzUyAOGKEgTgH2\n",
       "EqO7d0KYSh1LieOEwp+qCHVnbphLHUuJ44TCBRf1P/vqhpd6CD+wrkGmxHFC4eu8rXUDN7yTqxtw\n",
       "neE4Uel60JnXuo0bvkjdhusMx4lKF15Ex3/RGc7Ttec9OhWH3mbDJdYVyJQ4b7MwOyXdxA1P5Oom\n",
       "XGc4TmhdUZIu3/mh5EJXlEKHHwrECekezO6OcHdvUsdS4jihdd0R6VqphbccspTPkQNG8AblHvvI\n",
       "a0R+U+BVEaLfLWw4bmhQzTX22ufQhjf+88PduopYf9W9bJnxVtt/amq6TVURP00KhwPNM5OIAAAA\n",
       "AElFTkSuQmCC\n",
       "\" style=\"display:inline;vertical-align:middle;\" /></a></span></td></tr>\n",
       "<tr><td>&nbsp;</td><td colspan=4 style=\"text-align:left\"><span style=\"font-size:20px;\"><a class=\"ProveItLink\" href=\"../../../../../__pv_it/2cbe72a7ad6f655694dd697106680215e8489b600/expr.ipynb\"><img src=\"data:image/png;base64,iVBORw0KGgoAAAANSUhEUgAAAA8AAAAOBAMAAAACpFvcAAAALVBMVEX///8QEBBERERUVFS6urqI\n",
       "iIhmZmaqqqrc3Nzu7u6YmJgyMjIiIiLMzMwAAADtIaYWAAAAAXRSTlMAQObYZgAAAFtJREFUCNdj\n",
       "YACBOwxQsA9Kc52bAGG05zVAGAFxDmCaZULdAjBjCsO9ADDDgaEvAUTzGhvbKYCVMDAwbgAxChgY\n",
       "eASANAeQwf0AyJgNxEwvGRia5HYwcOm9TgAA6BoR3jrzwFcAAAAASUVORK5CYII=\n",
       "\" style=\"display:inline;vertical-align:middle;\" /></a> : <a class=\"ProveItLink\" href=\"../../../__pv_it/8f1f7fac882de28c72b62ab80a1700b6d8fd066b0/expr.ipynb\"><img src=\"data:image/png;base64,iVBORw0KGgoAAAANSUhEUgAAAA4AAAAOBAMAAADtZjDiAAAAG1BMVEX///9EREQQEBAiIiJmZmbM\n",
       "zMyIiIjc3NwAAACryk5kAAAAAXRSTlMAQObYZgAAABlJREFUCNdjYGBgKGOAgBBa0s7GxkbGxoYA\n",
       "FMUF2aBfHgoAAAAASUVORK5CYII=\n",
       "\" style=\"display:inline;vertical-align:middle;\" /></a></span></td></tr><tr><td>1</td><td>theorem</td><td></td><td><span style=\"font-size:20px;\"> <a class=\"ProveItLink\" href=\"../../_proofs_/unaryDisjunctionLemma.ipynb\" style=\"text-decoration: none\">&#x22A2;&nbsp;</a><a class=\"ProveItLink\" href=\"../a551c039bca50f02a0be6054e1e611571afe42fd0/expr.ipynb\"><img src=\"data:image/png;base64,iVBORw0KGgoAAAANSUhEUgAAAOUAAAAVBAMAAABLdTQ8AAAAMFBMVEX///8QEBC6urrMzMxUVFRm\n",
       "ZmZERETc3NwyMjKqqqp2dnaIiIiYmJgiIiLu7u4AAAAU9Wx4AAAAAXRSTlMAQObYZgAAA1VJREFU\n",
       "SMfFlk1oE0EUx18+N0022+KlerCu4kGoSg61Fz9abKDHFqSgYv06pIhKc5DWUtSglkqR2kvBm0Go\n",
       "IooseJTSICi1IqRKexA/oqgUKlIK1oJSfW/m7WazH8GbA5l9s2/+85t9M/MmAP+hlKp6gwZMXmF7\n",
       "+pV4NFrOJx6CxmqjqboUFanxwq9XE8BtqyGsUKuwQ6iLpFz9pXfQa6i9+DsgRfeoPerHHCVSUJgp\n",
       "yYzJwMSWsMq5+kvvLtnQxSxM1w1yS1EfPpTjPsiEQcxwSpqC+Vh6Xq5hNeMSSC8z22z9Qf2A01Hz\n",
       "QkQzi4z5MAMlYoZoSsmSZDYIhzL+E+uPLkGDndlM1Xv2DBzLAmh1QqTe7e+/4BfabXIVh/ExLtcz\n",
       "KOOZSCxjHXXOlb3MjCGlppNdxhSF+pQUrWQyb/yYhyUTecQlZiQvHDtrfmMd73T0Zy8ziUdcMZvS\n",
       "rQI+JqQIo94jXg+7mdclE+NK8SVmjJSg6aFfNKj4rIPXqFwFy2syKa7NbH6CFtwbcFOKtoImpOoy\n",
       "L/bIyFCBe66TTNw/YV0yA2IzBkH5QY865/rrFUzcP/vB3MOXKCibpSgJCYH4QtFa7DoCRn5xC/dc\n",
       "5lNZhAW2asWoTen0Cp2DJQeztpKZ5M/Bnul0B+3EFilKFJLiUD2cQ/vkxe/IjH9zMA/BgwomVuv/\n",
       "gRkZi3PE8IgHcmWmlmsSMzEyAE/FDss3HmXRBiadF+lKxJa2ag3+Zq3Ydr+jMg+mt8xUckm28H2y\n",
       "rhxb6BExD0M3Jxaja6O5nmeYFN5jsBUl1wCnFdWZiKKVewjaOKkqY5y5plk0LlLuc5iCUF5+Z2Q3\n",
       "ayaYFDpbYot2ulik3pLHWeEXFrOZMwLthuha+axAgL5Bm+vqLYXmM5nTtJ5x1uwwM/uQmeODRVBO\n",
       "rGbh2R98FdOdOaEoQj3LoYaYnEPfpmFQe1excZlFKn1DJAstKa1VfqfFDGSZuc+6V+ptCHfuq3dc\n",
       "M46bknMfl+246QrQzrE1LyPKyY67zJ7X77uYM9Uv67hhE31eAaXjLXzVRU7IFCrusgpmrDx1ze8u\n",
       "8y0LXqI7uJ72cs7FVFqtdjjrGtTm9SrtniLnGPjf5DXbk/K/SflPwCMPwWC10RIpIfoL5eDqA8sN\n",
       "TKMAAAAASUVORK5CYII=\n",
       "\" style=\"display:inline;vertical-align:middle;\" /></a></span></td></tr>\n",
       "<tr><td>&nbsp;</td><td colspan=4 style-\"text-align:left\"><a class=\"ProveItLink\" href=\"../../_proofs_/unaryDisjunctionLemma.ipynb\">proveit.logic.boolean.disjunction.unaryDisjunctionLemma</a></td></tr><tr><td>2</td><td>theorem</td><td></td><td><span style=\"font-size:20px;\"> <a class=\"ProveItLink\" href=\"../../../_proofs_/falseInBool.ipynb\" style=\"text-decoration: none\">&#x22A2;&nbsp;</a><a class=\"ProveItLink\" href=\"../../../__pv_it/5ddcdc170ae135aa2397d35b7606cd81f952c91a0/expr.ipynb\"><img src=\"data:image/png;base64,iVBORw0KGgoAAAANSUhEUgAAADYAAAAPBAMAAABdHiGLAAAAMFBMVEX///92dnaqqqpUVFS6urqY\n",
       "mJgyMjLu7u5EREQQEBAiIiJmZmbMzMyIiIjc3NwAAABz/qQtAAAAAXRSTlMAQObYZgAAAJVJREFU\n",
       "GNNjYGBgeMuABhjz277NagIzT6PLMXCwXCgrFMApx+uQgCLHfm3VqgSoHFOAOYrcsXAkfX4NyHJ8\n",
       "7UhmnoooQJbjeICQW/V/Loo7K1DccgnFTM9VqxBuYWhwRJY7jKyPoYEDWa4KjxxzAIocipnsS5Dk\n",
       "WPc2MOxatWrlqlUrwELP9sDD+sdKI7RwVM6CuBMCADjtOPFI200aAAAAAElFTkSuQmCC\n",
       "\" style=\"display:inline;vertical-align:middle;\" /></a></span></td></tr>\n",
       "<tr><td>&nbsp;</td><td colspan=4 style-\"text-align:left\"><a class=\"ProveItLink\" href=\"../../../_proofs_/falseInBool.ipynb\">proveit.logic.boolean.falseInBool</a></td></tr></table>"
      ],
      "text/plain": [
       "<proveit._core_.proof._ShowProof at 0x7f94eaf10080>"
      ]
     },
     "execution_count": 1,
     "metadata": {},
     "output_type": "execute_result"
    }
   ],
   "source": [
    "import proveit\n",
    "%show_proof"
   ]
  },
  {
   "cell_type": "code",
   "execution_count": null,
   "metadata": {},
   "outputs": [],
   "source": []
  }
 ],
 "metadata": {
  "kernelspec": {
   "display_name": "Python 3",
   "language": "python",
   "name": "python3"
  }
 },
 "nbformat": 4,
 "nbformat_minor": 0
}
