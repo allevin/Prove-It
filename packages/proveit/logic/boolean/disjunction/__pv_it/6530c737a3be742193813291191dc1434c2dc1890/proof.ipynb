{
 "cells": [
  {
   "cell_type": "markdown",
   "metadata": {},
   "source": [
    "Show the Proof\n",
    "========"
   ]
  },
  {
   "cell_type": "code",
   "execution_count": 1,
   "metadata": {},
   "outputs": [
    {
     "data": {
      "text/html": [
       "<table><tr><th>&nbsp;</th><th>step type</th><th>requirements</th><th>statement</th></tr>\n",
       "<tr><td>0</td><td>specialization</td><td>1</td><td><span style=\"font-size:20px;\"> <a class=\"ProveItLink\" href=\"proof.ipynb\" style=\"text-decoration: none\">&#x22A2;&nbsp;</a><a class=\"ProveItLink\" href=\"../a92b253351daeb222aa0e3868f928e40d46476d30/expr.ipynb\"><img src=\"data:image/png;base64,iVBORw0KGgoAAAANSUhEUgAAAEMAAAAPBAMAAABNfm9XAAAAMFBMVEX///8iIiIQEBCYmJjc3Ny6\n",
       "urru7u5mZmZ2dnaqqqrMzMxEREQyMjJUVFSIiIgAAABUCcz6AAAAAXRSTlMAQObYZgAAAMJJREFU\n",
       "KM9jYGB4+//u3dMLGDABksQfBgbOn1iUICS4fgCJ+gSYOBtcBUKC7yuQWP8AJsEDV4yQ4P4AJPwv\n",
       "wCRY4SyEBP8GkGK4BEMfjIGQABtl3wAkCgVBQL4AqgQh8R7kr/sBCI/MgbIREvtBXCUkv7IdgqhB\n",
       "SPwGYubPSErWtEFouATXPyDBBHIZ1C2C26DBApfg+wUk9iQgDJkLCxa4BMj3awoQKlgOIAULWCJ9\n",
       "/9+7t6uQXMLtAKExJBCAC10AABJgTagsAlBJAAAAAElFTkSuQmCC\n",
       "\" style=\"display:inline;vertical-align:middle;\" /></a></span></td></tr>\n",
       "<tr><td>&nbsp;</td><td colspan=4 style=\"text-align:left\"><span style=\"font-size:20px;\"><a class=\"ProveItLink\" href=\"../../../../../__pv_it/2cbe72a7ad6f655694dd697106680215e8489b600/expr.ipynb\"><img src=\"data:image/png;base64,iVBORw0KGgoAAAANSUhEUgAAAA8AAAAOBAMAAAACpFvcAAAALVBMVEX///8QEBBERERUVFS6urqI\n",
       "iIhmZmaqqqrc3Nzu7u6YmJgyMjIiIiLMzMwAAADtIaYWAAAAAXRSTlMAQObYZgAAAFtJREFUCNdj\n",
       "YACBOwxQsA9Kc52bAGG05zVAGAFxDmCaZULdAjBjCsO9ADDDgaEvAUTzGhvbKYCVMDAwbgAxChgY\n",
       "eASANAeQwf0AyJgNxEwvGRia5HYwcOm9TgAA6BoR3jrzwFcAAAAASUVORK5CYII=\n",
       "\" style=\"display:inline;vertical-align:middle;\" /></a> : <a class=\"ProveItLink\" href=\"../../../../../__pv_it/185e6d30f167ee2ee5ef3321098dc98e0d77bc590/expr.ipynb\"><img src=\"data:image/png;base64,iVBORw0KGgoAAAANSUhEUgAAABEAAAAOBAMAAAA7w+qHAAAALVBMVEX///8QEBCYmJjc3Ny6urru\n",
       "7u5mZmZ2dnaqqqrMzMxEREQyMjJUVFSIiIgAAABETr/8AAAAAXRSTlMAQObYZgAAAGpJREFUCNdj\n",
       "YGC48+7MmV0TGEDgNQMDxwsQg/M5kMgLABK8T4DEvAtAgusBkLA7ACT4FoDEDsAk9AqAxD2QCecc\n",
       "gMQ6kAGCIOIVEDM9Ahn3FkgwgnTxvgQSqwOgxs1OADLC1r05cyoTyAAAv4Qe+njAWvgAAAAASUVO\n",
       "RK5CYII=\n",
       "\" style=\"display:inline;vertical-align:middle;\" /></a></span></td></tr><tr><td>1</td><td>theorem</td><td></td><td><span style=\"font-size:20px;\"> <a class=\"ProveItLink\" href=\"../../../implication/_proofs_/selfImplication.ipynb\" style=\"text-decoration: none\">&#x22A2;&nbsp;</a><a class=\"ProveItLink\" href=\"../b3f1e47996e9d7d5e45357ca5f277e4269e524d30/expr.ipynb\"><img src=\"data:image/png;base64,iVBORw0KGgoAAAANSUhEUgAAAHIAAAAVBAMAAABoAqesAAAAMFBMVEX///8QEBC6urrMzMxUVFRm\n",
       "ZmZERETc3NwyMjKqqqp2dnaIiIiYmJgiIiLu7u4AAAAU9Wx4AAAAAXRSTlMAQObYZgAAAatJREFU\n",
       "OMtjYCAbPMAixrSBkC4eBQaGCyDGaVRxEwhli0MbSDyYgWEliN2HKgXl9uPQCRLnYGAoA1LsCSgy\n",
       "3BDH8txH+IQP2aUgcZ4FDBxAinUCik5GiI7K+AK4EAdScIDF+QQYeJaXl9eiukYDQm3Yr4AIMweE\n",
       "NEQ8k4HhW1raLVSdURDFD+YfQIitRhgCEV/KwODMwJAOFmqHyfWAyUcM9mD/xt4FgfsBMFmo+AwG\n",
       "BhUGvgawxz/B5ITApAJDfQCSQ2bAnA4VV2Rg4GXgBrvq6R+YIrARzC4u/shBztcI0QoTtwfGwQFe\n",
       "cMCtu4qikwkYxg1IOi3WQb0JFQfq5GsAJxnmDWkwRZIgAhhRvAIIf97Ng0rCxIGuZUh3AomwMMTC\n",
       "dOaAEgdQBccHhJVToDRc/AQQTwUn3ZMM+2GqgAHO8AKI2f7BNbLDHA4XByliBAUy39XQfFg60QWm\n",
       "Sfl2Bp78H/DAZYMmJ4R4Eyg6QDpYCxjsDWCprwAjkTOjC/AJwFg6DAz8sCQDTM0EARcsCz/5xsDu\n",
       "fwctl+EDL7ALlxDW6Y5dmJ1gacJtwAAAib1spl/buwAAAAAASUVORK5CYII=\n",
       "\" style=\"display:inline;vertical-align:middle;\" /></a></span></td></tr>\n",
       "<tr><td>&nbsp;</td><td colspan=4 style-\"text-align:left\"><a class=\"ProveItLink\" href=\"../../../implication/_proofs_/selfImplication.ipynb\">proveit.logic.boolean.implication.selfImplication</a></td></tr></table>"
      ],
      "text/plain": [
       "<proveit._core_.proof._ShowProof at 0x7f94ead82f60>"
      ]
     },
     "execution_count": 1,
     "metadata": {},
     "output_type": "execute_result"
    }
   ],
   "source": [
    "import proveit\n",
    "%show_proof"
   ]
  },
  {
   "cell_type": "code",
   "execution_count": null,
   "metadata": {},
   "outputs": [],
   "source": []
  }
 ],
 "metadata": {
  "kernelspec": {
   "display_name": "Python 3",
   "language": "python",
   "name": "python3"
  }
 },
 "nbformat": 4,
 "nbformat_minor": 0
}
