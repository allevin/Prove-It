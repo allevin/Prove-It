{
 "cells": [
  {
   "cell_type": "markdown",
   "metadata": {},
   "source": [
    "Expression of type <a class=\"ProveItLink\" href=\"../../../../../../../doc/html/api/proveit.ExprTuple.html\">ExprTuple</a>\n",
    "=======================\n",
    "# from context <a class=\"ProveItLink\" href=\"../../_context_.ipynb\">proveit.logic.boolean.disjunction</a>"
   ]
  },
  {
   "cell_type": "code",
   "execution_count": 1,
   "metadata": {},
   "outputs": [],
   "source": [
    "# import Expression classes needed to build the expression\n",
    "from proveit import ExprTuple\n",
    "from proveit._common_ import A, B\n",
    "from proveit.logic import And, Not"
   ]
  },
  {
   "cell_type": "code",
   "execution_count": 2,
   "metadata": {},
   "outputs": [
    {
     "data": {
      "text/html": [
       "<strong id=\"expr\">expr:</strong> <a class=\"ProveItLink\" href=\"expr.ipynb\"><img src=\"data:image/png;base64,iVBORw0KGgoAAAANSUhEUgAAAKEAAAAVBAMAAADcJJPmAAAAMFBMVEX////c3NwiIiJERESqqqqY\n",
       "mJh2dnZmZmYQEBDu7u4yMjJUVFTMzMyIiIi6uroAAAAs73DqAAAAAXRSTlMAQObYZgAAAiNJREFU\n",
       "OMutVL9rFEEU/vb0ktzd5lzQJqYw2FooYkBskk6w0crCgF4jqYQgkkrwwDQ2cUtJIRskSJokti6S\n",
       "I1UgRe4PSLgllQQELRRMyOl782vfzIXY+ODb2fft997M7HszwP+3ZjdwPIKtWpwVouyxAHbkl52Q\n",
       "wBbhZRAvFDN/8vxOgeEOHLAqtashgXVC3byPCZW115SmD2RwGJU7YMcjUL2e0qOlnY+lylp8QjgG\n",
       "HsJhJBXx7HgELr1KgFpbR99Mncqt4QdN+At4B4dDGX+IgEC3x2W5pd4b37pOZe0cTVZ5Q+O0w7yM\n",
       "nzcoq5ref0DDrHKWMOFU1i5sIPpAax6ac1iRCVYMnL3HLq/rnnKe4oVTWdv9sv+c5zyfOSxSra6y\n",
       "8d9f1CiJAldoYnxV0RO4rEap6CWoXePNtB36tmgb9OgbWCLO880bvBJV9i4a3G6e4jaNPVpk/N3h\n",
       "zIxNKmxmM1ZSLfIU1Dh40vIyLsiMCwaWoOJV2nbXdwnL8BXxTxo3p71dT8qMkwaGiEhap4nxCCYb\n",
       "Z5UKbsfoiH9J5jBrq9YxXSKIJW6434aL+YdW4Cu4Hbf5UIruOZDNcmCg7eLbZVSnjki3xv1d2ANY\n",
       "KoanjvPPqpnqhcNIIk9hAp/Qpk5hU70WOFUhT6G9BfS90AoIbUP+fXiKAs8E/nGb6ePn26CilpXA\n",
       "uPwyHhLKPgX+oKKRlEAkt8ROFN75o52AGFBgr8RffsWs647qbG8AAAAASUVORK5CYII=\n",
       "\" style=\"display:inline;vertical-align:middle;\" /></a><br>"
      ],
      "text/plain": [
       "expr: ([not]([not](A) and [not](B)))"
      ]
     },
     "execution_count": 2,
     "metadata": {},
     "output_type": "execute_result"
    }
   ],
   "source": [
    "# build up the expression from sub-expressions\n",
    "expr = ExprTuple(Not(And(Not(A), Not(B))))"
   ]
  },
  {
   "cell_type": "code",
   "execution_count": 3,
   "metadata": {},
   "outputs": [
    {
     "name": "stdout",
     "output_type": "stream",
     "text": [
      "Passed sanity check: built 'expr' is the same as the stored Expression.\n"
     ]
    }
   ],
   "source": [
    "# check that the built expression is the same as the stored expression\n",
    "%check_expr"
   ]
  },
  {
   "cell_type": "code",
   "execution_count": 4,
   "metadata": {},
   "outputs": [
    {
     "data": {
      "text/html": [
       "<table><tr><th>&nbsp;</th><th>core type</th><th>sub-expressions</th><th>expression</th></tr>\n",
       "<tr><td>0</td><td>ExprTuple</td><td>1</td><td><a class=\"ProveItLink\" href=\"expr.ipynb\"><img src=\"data:image/png;base64,iVBORw0KGgoAAAANSUhEUgAAAKEAAAAVBAMAAADcJJPmAAAAMFBMVEX////c3NwiIiJERESqqqqY\n",
       "mJh2dnZmZmYQEBDu7u4yMjJUVFTMzMyIiIi6uroAAAAs73DqAAAAAXRSTlMAQObYZgAAAiNJREFU\n",
       "OMutVL9rFEEU/vb0ktzd5lzQJqYw2FooYkBskk6w0crCgF4jqYQgkkrwwDQ2cUtJIRskSJokti6S\n",
       "I1UgRe4PSLgllQQELRRMyOl782vfzIXY+ODb2fft997M7HszwP+3ZjdwPIKtWpwVouyxAHbkl52Q\n",
       "wBbhZRAvFDN/8vxOgeEOHLAqtashgXVC3byPCZW115SmD2RwGJU7YMcjUL2e0qOlnY+lylp8QjgG\n",
       "HsJhJBXx7HgELr1KgFpbR99Mncqt4QdN+At4B4dDGX+IgEC3x2W5pd4b37pOZe0cTVZ5Q+O0w7yM\n",
       "nzcoq5ref0DDrHKWMOFU1i5sIPpAax6ac1iRCVYMnL3HLq/rnnKe4oVTWdv9sv+c5zyfOSxSra6y\n",
       "8d9f1CiJAldoYnxV0RO4rEap6CWoXePNtB36tmgb9OgbWCLO880bvBJV9i4a3G6e4jaNPVpk/N3h\n",
       "zIxNKmxmM1ZSLfIU1Dh40vIyLsiMCwaWoOJV2nbXdwnL8BXxTxo3p71dT8qMkwaGiEhap4nxCCYb\n",
       "Z5UKbsfoiH9J5jBrq9YxXSKIJW6434aL+YdW4Cu4Hbf5UIruOZDNcmCg7eLbZVSnjki3xv1d2ANY\n",
       "KoanjvPPqpnqhcNIIk9hAp/Qpk5hU70WOFUhT6G9BfS90AoIbUP+fXiKAs8E/nGb6ePn26CilpXA\n",
       "uPwyHhLKPgX+oKKRlEAkt8ROFN75o52AGFBgr8RffsWs647qbG8AAAAASUVORK5CYII=\n",
       "\" style=\"display:inline;vertical-align:middle;\" /></a></td></tr>\n",
       "<tr><td>1</td><td>Operation</td><td>operator:&nbsp;8<br>operand:&nbsp;2<br></td><td><a class=\"ProveItLink\" href=\"../d78ecc3093173dc93677e6dd0c149c0be6ebf49c0/expr.ipynb\"><img src=\"data:image/png;base64,iVBORw0KGgoAAAANSUhEUgAAAJIAAAAVBAMAAABf4KrdAAAAMFBMVEX////c3NxERESqqqqYmJgQ\n",
       "EBDu7u4yMjKIiIi6urpUVFTMzMx2dnYiIiJmZmYAAABjE816AAAAAXRSTlMAQObYZgAAAfhJREFU\n",
       "OMu1lDtsE0EQhn8/Yp9jx7FEAR1IKGlxlw5ZaQDJiNCQ1g2iQnKH0kBKS5HINUGUTrocBVHKNHZJ\n",
       "hVyAqyBFtAjxFA8LEWZ2ZndvfSZdfunbvR3/t7c7u2PgPPRcCXRrlitQMRa8qn0hFRkB9YPwvZSj\n",
       "+HKS7G0AHyA4lTtCKvKZmq485zreZTV3BfgUo8zh9Hs9xev2D2raOsOJd1kNNok+ikMYnO4pTrnr\n",
       "X6i9L4PDsXdZbTeAO0OU1mCwqnQFryj6TW2+aQb7PedyWiLe0m6vQlDVh4LXs8J3amtmW6XugnM5\n",
       "TYCLy9S/Vmx6W4JTKa7+oq5gVlFr1ZvW5Y5x0nv6hh9WDB/fkY75IGLBBSrI/eXOZGABOTNj2hFR\n",
       "Gh/ypdhRSEfEYiy4wFGSfOUv81XATeAFEDry9I2IEzBQ/jcTPa+7mcYSCxyLtJ7in+xMc03BBgp8\n",
       "MHZ3BUp7uYHQMaCczX/L7i7fEmzgAnVPuCY4PzwLzxY4+Dpd5l9vKLwDPe3aiT0WOnbqrnU0dsjB\n",
       "EQIHX6fqeid7CyojQe/30s8GVk8f03I4M/u2ULwD70+T5JFZ4oZidVeZkqkWk+cKZjumq8WUajvr\n",
       "exUOZzhqm8IZ/ypSJuE468ADxZd+Xwg13wjHWQd2Fa9LSqCt6UDGER0Y/gEsx5IGu5ShYgAAAABJ\n",
       "RU5ErkJggg==\n",
       "\" style=\"display:inline;vertical-align:middle;\" /></a></td></tr>\n",
       "<tr><td>2</td><td>Operation</td><td>operator:&nbsp;3<br>operands:&nbsp;4<br></td><td><a class=\"ProveItLink\" href=\"../b778e1e5da0f9038b8e547d47ba53f637a892e340/expr.ipynb\"><img src=\"data:image/png;base64,iVBORw0KGgoAAAANSUhEUgAAAG8AAAAVBAMAAAC6Uq30AAAAMFBMVEX////c3NwiIiJERESqqqqY\n",
       "mJh2dnZmZmYQEBDu7u4yMjJUVFTMzMyIiIi6uroAAAAs73DqAAAAAXRSTlMAQObYZgAAAetJREFU\n",
       "OMudVDFIAzEUfW29Vq/tWdBFRSyC4qaIgk52E1zs5OCgXcRJKCpOQiu46KCHkzjIdRDRoVYcb7C4\n",
       "OrSbi6XFSYRCBRW0oP7krl4utxnIJfl57/PyfnLAv5tWlgJKTYbU5cAS+9y7QnfUtyVYpOAkvW2a\n",
       "N3mEijS/cIGuqKv2vMceVd3Zbx8DMjUYQNSlVBklkJKyFud2sCIASgQvFbBAKXSR2J2JAR1ZS+G4\n",
       "vbUnAKq0v5zCMfDiUlquMmcm+Dxct8RohgCYoj6iI5DAlsthfT5JwypfnCDOx1BKQDSB3mkgmMaZ\n",
       "SDzlZ8AcX6xg0/ImKRjcrDwM0dhm4IBSDrLG8tYwkKbhmYPi6LWMJPXrDDFMVr4CR1QdLYtvoVgR\n",
       "07wdY9Zxg8sIs3Khs3UhqOIB8i36TsiGi6hReqNF9Ot25UViJ0WUD07cFYgJgmdbUmep57jUhEMs\n",
       "0XnDb1zqpEP0EUJt0HwRNomREUg6RFbGARKlGLb11IrkP6E+7XJE2GH9bCOYbuXmZYzs6zz29Gd1\n",
       "12EOyswXwfKs/Oxk/D5q8T/Ixo9pXjIBag3tMc9D41dO41Puy473LR47N1poQemFLniJa55nZd01\n",
       "d1N1jyZWtD4P8Vpa+woyIszO55N/HdGijOuXA4/AL+wRdvfV5kdzAAAAAElFTkSuQmCC\n",
       "\" style=\"display:inline;vertical-align:middle;\" /></a></td></tr>\n",
       "<tr><td>3</td><td>Literal</td><td></td><td><a class=\"ProveItLink\" href=\"../../../conjunction/__pv_it/76b5f4f4c45c0b6a9b59b297fc07dfa9555698f50/expr.ipynb\"><img src=\"data:image/png;base64,iVBORw0KGgoAAAANSUhEUgAAAAwAAAAOBAMAAADpk+DfAAAALVBMVEX///+qqqqYmJh2dnaIiIi6\n",
       "urpUVFQiIiJERETMzMxmZmYyMjLu7u7c3NwAAABvwqPxAAAAAXRSTlMAQObYZgAAAEtJREFUCNdj\n",
       "YGDgPcAAAtwLwNSMGjCV6gIieTawgyhmBS4BIMXOwLsBSKkwMGQCKaC6aQwMjEBd3BdACMScAVJd\n",
       "wJAKolwYAkAUKwAk0guX6efcigAAAABJRU5ErkJggg==\n",
       "\" style=\"display:inline;vertical-align:middle;\" /></a></td></tr>\n",
       "<tr><td>4</td><td>ExprTuple</td><td>5, 6</td><td><a class=\"ProveItLink\" href=\"../00c05ccc47c117964962fd4a31bd37c34eda9df40/expr.ipynb\"><img src=\"data:image/png;base64,iVBORw0KGgoAAAANSUhEUgAAAFEAAAAVBAMAAADMaB9/AAAAMFBMVEX////c3NwiIiJERESqqqqY\n",
       "mJh2dnZmZmYQEBDu7u4yMjJUVFTMzMyIiIi6uroAAAAs73DqAAAAAXRSTlMAQObYZgAAAVdJREFU\n",
       "KM9jYCAe8F0gQlEciDiNInQITQnr/t+7N69jYD8AZK9EkVmPbhqHAQND/QOGBQwMvCiWs+pPQFN5\n",
       "Hih/fgNDGFAPipRIvQCayvtAgfgEhhkMDK9QxC/cf4Cm0gKINSYwMDswlKGEwwT/ADSVvxkYpCwZ\n",
       "GNgKGJYiC88DOwsZ8Py+e10VSLMsYOhjYGBXAoEEIP8Bg3wBREURSEgN6OGPDAyTNgBta2D4B9MM\n",
       "5PLs3r3fAMlAYFAzNwBVfwVKfUBRyQcMigWoKvmBwqzfwCpbkFQ6MDAwNaCqPA/0IfcXsO2mCJWM\n",
       "QJVcHxgYJiCpBAWnPNAe1gUM6TDhAwyzgCTzTwbOT3CPg4OTp2sCOJQewe0S7l/IwGr/q4CzHxFP\n",
       "xf93714FCmKuBwwcApjpEFMIFJusCRiirFgSaC5GqsOhkhMUeNIYwlgyATfIQYzE5I47DAwA/tdW\n",
       "XzreP5oAAAAASUVORK5CYII=\n",
       "\" style=\"display:inline;vertical-align:middle;\" /></a></td></tr>\n",
       "<tr><td>5</td><td>Operation</td><td>operator:&nbsp;8<br>operand:&nbsp;7<br></td><td><a class=\"ProveItLink\" href=\"../feaa1d0e6d92ad9ead8e5ffd1f92697e3912387a0/expr.ipynb\"><img src=\"data:image/png;base64,iVBORw0KGgoAAAANSUhEUgAAABwAAAAOBAMAAADOPWE3AAAAMFBMVEX///8QEBBERES6urqIiIiq\n",
       "qqrc3Nzu7u6YmJgyMjJUVFTMzMx2dnYiIiJmZmYAAADMbjvTAAAAAXRSTlMAQObYZgAAAGNJREFU\n",
       "CNdjYEAA7gsMyIDzAwq39zsyjy3uGzKXheUzMtec9QcSj92A+wsDw9u7QHAHyGVmYPsHldkFwqtW\n",
       "fULiGjAwSCK4rEDqIoKbCqTmw1zLwD4BSOkXwFyk+DOBoen/PABSrhtHsYt+gAAAAABJRU5ErkJg\n",
       "gg==\n",
       "\" style=\"display:inline;vertical-align:middle;\" /></a></td></tr>\n",
       "<tr><td>6</td><td>Operation</td><td>operator:&nbsp;8<br>operand:&nbsp;9<br></td><td><a class=\"ProveItLink\" href=\"../1da4e2fe7c44632f084fa27ea32e26dc689384c20/expr.ipynb\"><img src=\"data:image/png;base64,iVBORw0KGgoAAAANSUhEUgAAAB0AAAAOBAMAAAAh/woJAAAAMFBMVEX///+qqqru7u7c3NyIiIgQ\n",
       "EBC6uroyMjJERESYmJhUVFTMzMx2dnYiIiJmZmYAAADtoHoAAAAAAXRSTlMAQObYZgAAAHpJREFU\n",
       "CNdjYIACzvW/Vq0oY0AA1gYGhvcJCP5+ByBegOD7GzAwzD+A4LcC8VUFBP8XA4N5E4LL/cvF7yaQ\n",
       "fnsXCO4wMLB8ZmDQhRm3i4GBIwAo9hPB5wfKcf5B8PdPYGDg+ojgg6y3L4AZDraeOxxh/Yv/q1aV\n",
       "A7UAAFRxJOZ+1MVPAAAAAElFTkSuQmCC\n",
       "\" style=\"display:inline;vertical-align:middle;\" /></a></td></tr>\n",
       "<tr><td>7</td><td>Variable</td><td></td><td><a class=\"ProveItLink\" href=\"../../../../../__pv_it/2cbe72a7ad6f655694dd697106680215e8489b600/expr.ipynb\"><img src=\"data:image/png;base64,iVBORw0KGgoAAAANSUhEUgAAAA8AAAAOBAMAAAACpFvcAAAALVBMVEX///8QEBBERERUVFS6urqI\n",
       "iIhmZmaqqqrc3Nzu7u6YmJgyMjIiIiLMzMwAAADtIaYWAAAAAXRSTlMAQObYZgAAAFtJREFUCNdj\n",
       "YACBOwxQsA9Kc52bAGG05zVAGAFxDmCaZULdAjBjCsO9ADDDgaEvAUTzGhvbKYCVMDAwbgAxChgY\n",
       "eASANAeQwf0AyJgNxEwvGRia5HYwcOm9TgAA6BoR3jrzwFcAAAAASUVORK5CYII=\n",
       "\" style=\"display:inline;vertical-align:middle;\" /></a></td></tr>\n",
       "<tr><td>8</td><td>Literal</td><td></td><td><a class=\"ProveItLink\" href=\"../../../negation/__pv_it/7bea79645543c2413aa17e787cca04e21046fde60/expr.ipynb\"><img src=\"data:image/png;base64,iVBORw0KGgoAAAANSUhEUgAAAAwAAAAGBAMAAAAFwGKyAAAAFVBMVEX///9UVFTMzMx2dnYiIiJm\n",
       "ZmYAAACWz4ZEAAAAAXRSTlMAQObYZgAAABRJREFUCNdjCHEBAmcGMFDEQzEBAEl+Ai6uYJv/AAAA\n",
       "AElFTkSuQmCC\n",
       "\" style=\"display:inline;vertical-align:middle;\" /></a></td></tr>\n",
       "<tr><td>9</td><td>Variable</td><td></td><td><a class=\"ProveItLink\" href=\"../../../../../__pv_it/077b2ff79244fb4582cbe22c6e3356fa92a52f2f0/expr.ipynb\"><img src=\"data:image/png;base64,iVBORw0KGgoAAAANSUhEUgAAABAAAAAOBAMAAADUAYG5AAAAMFBMVEX///+qqqru7u4iIiJ2dnbc\n",
       "3NyIiIjMzMxmZmYQEBC6uroyMjJERERUVFSYmJgAAADLUcuvAAAAAXRSTlMAQObYZgAAAGpJREFU\n",
       "CNdjYGB4+//u3dMLGIBgDgMDxy8gzf4NiP8CGWxfGRj4vgAZPBMYGJgnARn8FxhY9ygAGfXX0pof\n",
       "gDTlBzAw2YIYJ0EckBBI53sHoBH/gIz7AhBjWH9DjancBLTl/N+7t/cxMAAA3u4f/5xagjYAAAAA\n",
       "SUVORK5CYII=\n",
       "\" style=\"display:inline;vertical-align:middle;\" /></a></td></tr>\n",
       "</table>\n"
      ],
      "text/plain": [
       "0. ([not]([not](A) and [not](B)))\n",
       "   core type: ExprTuple\n",
       "   sub-expressions: 1\n",
       "1. [not]([not](A) and [not](B))\n",
       "   core type: Operation\n",
       "   operator: 8\n",
       "   operand: 2\n",
       "2. [not](A) and [not](B)\n",
       "   core type: Operation\n",
       "   operator: 3\n",
       "   operands: 4\n",
       "3. and\n",
       "   core type: Literal\n",
       "   sub-expressions: \n",
       "4. ([not](A) , [not](B))\n",
       "   core type: ExprTuple\n",
       "   sub-expressions: 5, 6\n",
       "5. [not](A)\n",
       "   core type: Operation\n",
       "   operator: 8\n",
       "   operand: 7\n",
       "6. [not](B)\n",
       "   core type: Operation\n",
       "   operator: 8\n",
       "   operand: 9\n",
       "7. A\n",
       "   core type: Variable\n",
       "   sub-expressions: \n",
       "8. not\n",
       "   core type: Literal\n",
       "   sub-expressions: \n",
       "9. B\n",
       "   core type: Variable\n",
       "   sub-expressions: "
      ]
     },
     "execution_count": 4,
     "metadata": {},
     "output_type": "execute_result"
    }
   ],
   "source": [
    "# display the expression information\n",
    "expr.exprInfo()"
   ]
  },
  {
   "cell_type": "code",
   "execution_count": null,
   "metadata": {},
   "outputs": [],
   "source": []
  }
 ],
 "metadata": {
  "kernelspec": {
   "display_name": "Python 3",
   "language": "python",
   "name": "python3"
  }
 },
 "nbformat": 4,
 "nbformat_minor": 0
}
