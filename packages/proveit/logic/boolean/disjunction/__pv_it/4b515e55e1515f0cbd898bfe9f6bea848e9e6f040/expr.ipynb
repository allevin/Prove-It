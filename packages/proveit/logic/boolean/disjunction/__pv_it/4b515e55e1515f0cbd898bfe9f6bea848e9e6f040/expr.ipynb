{
 "cells": [
  {
   "cell_type": "markdown",
   "metadata": {},
   "source": [
    "Expression of type <a class=\"ProveItLink\" href=\"../../../../../../../doc/html/api/proveit.Lambda.html\">Lambda</a>\n",
    "=======================\n",
    "# from context <a class=\"ProveItLink\" href=\"../../_context_.ipynb\">proveit.logic.boolean.disjunction</a>"
   ]
  },
  {
   "cell_type": "code",
   "execution_count": 1,
   "metadata": {},
   "outputs": [],
   "source": [
    "# import Expression classes needed to build the expression\n",
    "from proveit import Lambda\n",
    "from proveit._common_ import A, B\n",
    "from proveit.logic import Or"
   ]
  },
  {
   "cell_type": "code",
   "execution_count": 2,
   "metadata": {},
   "outputs": [
    {
     "data": {
      "text/html": [
       "<strong id=\"expr\">expr:</strong> <a class=\"ProveItLink\" href=\"expr.ipynb\"><img src=\"data:image/png;base64,iVBORw0KGgoAAAANSUhEUgAAAMYAAAAVCAMAAAAq72HuAAAANlBMVEX///8UFBQNDQ2qqqru7u4i\n",
       "IiJ2dnbc3NyIiIjMzMxmZmYQEBC6uroyMjJERERUVFSYmJgAAAC3B9V0AAAAAXRSTlMAQObYZgAA\n",
       "AhZJREFUWMPNV+d6wyAMdAs2y2K8/8uWBDBDYJO4+Vr+OEOn04EGXpb/sAj7G96dv4+1O/pp238j\n",
       "KGucM35pmHQnzDtAsYanFFMykvkLUSsdCNycDqBDYOGgjRZc+jAl4zAfOm3JhePxaWZU8COlMNAI\n",
       "bBV3b3VRvd0mZGTzkVNEzl2oMeu2GRnq8I+BQqf/VlqBGJHReKHqWkZhPnKKyHX0uyo6U985KTpA\n",
       "iORENkfoaVO0mlzKKM0HThF5OBUGOquo85eUvDIfWQeYmKBuojtdiLMpbHklozIfOG3JfXJxzuVq\n",
       "C5umTZjimMDm7MTAeO45D0Ie7TmXfVRwIaM27ztF5DHJ6GqGMqjJ+6D2M2CsQlNH9vjGXDqEXV3I\n",
       "qM37ThF5SjJeHOP311otlTM1f+oBww5QaAbNYzl9bOS5jMa87xSRp4ZVNqp29hQbUQjqAH3t+ELa\n",
       "LNpdf4wwKaMx7zttyUWSYxwZyZBFbSlyRNMBPoquhZPUUuaSqjXvOkXkqf8yB6PaEOUo07Zp3BXw\n",
       "Oa0sr2dAM5ftaYkj865TRB6TTCgoZ0td4RWpXE6Az4ZSjb4jpXWay6cNF5v3nLbkUocbFoCdvd6G\n",
       "kzoBQhEm08o927319vGP9iZZyOiZY6dvRN25jFy9Hojzy8DMZeRlp29c7Ld7+I1/5H3j5QW3NobO\n",
       "XdQ/v5i5gzbsn8hY2I2XWC7wT3dl/ACkBRxNONSOCQAAAABJRU5ErkJggg==\n",
       "\" style=\"display:inline;vertical-align:middle;\" /></a><br>"
      ],
      "text/plain": [
       "expr: B -> (B or A) | A or B"
      ]
     },
     "execution_count": 2,
     "metadata": {},
     "output_type": "execute_result"
    }
   ],
   "source": [
    "# build up the expression from sub-expressions\n",
    "expr = Lambda(B, Or(B, A), conditions = [Or(A, B)])"
   ]
  },
  {
   "cell_type": "code",
   "execution_count": 3,
   "metadata": {},
   "outputs": [
    {
     "name": "stdout",
     "output_type": "stream",
     "text": [
      "Passed sanity check: built 'expr' is the same as the stored Expression.\n"
     ]
    }
   ],
   "source": [
    "# check that the built expression is the same as the stored expression\n",
    "%check_expr"
   ]
  },
  {
   "cell_type": "code",
   "execution_count": 4,
   "metadata": {},
   "outputs": [
    {
     "data": {
      "text/html": [
       "<table><tr><th>&nbsp;</th><th>core type</th><th>sub-expressions</th><th>expression</th></tr>\n",
       "<tr><td>0</td><td>Lambda</td><td>parameter:&nbsp;8<br>body:&nbsp;1<br>conditions:&nbsp;2<br></td><td><a class=\"ProveItLink\" href=\"expr.ipynb\"><img src=\"data:image/png;base64,iVBORw0KGgoAAAANSUhEUgAAAMYAAAAVCAMAAAAq72HuAAAANlBMVEX///8UFBQNDQ2qqqru7u4i\n",
       "IiJ2dnbc3NyIiIjMzMxmZmYQEBC6uroyMjJERERUVFSYmJgAAAC3B9V0AAAAAXRSTlMAQObYZgAA\n",
       "AhZJREFUWMPNV+d6wyAMdAs2y2K8/8uWBDBDYJO4+Vr+OEOn04EGXpb/sAj7G96dv4+1O/pp238j\n",
       "KGucM35pmHQnzDtAsYanFFMykvkLUSsdCNycDqBDYOGgjRZc+jAl4zAfOm3JhePxaWZU8COlMNAI\n",
       "bBV3b3VRvd0mZGTzkVNEzl2oMeu2GRnq8I+BQqf/VlqBGJHReKHqWkZhPnKKyHX0uyo6U985KTpA\n",
       "iORENkfoaVO0mlzKKM0HThF5OBUGOquo85eUvDIfWQeYmKBuojtdiLMpbHklozIfOG3JfXJxzuVq\n",
       "C5umTZjimMDm7MTAeO45D0Ie7TmXfVRwIaM27ztF5DHJ6GqGMqjJ+6D2M2CsQlNH9vjGXDqEXV3I\n",
       "qM37ThF5SjJeHOP311otlTM1f+oBww5QaAbNYzl9bOS5jMa87xSRp4ZVNqp29hQbUQjqAH3t+ELa\n",
       "LNpdf4wwKaMx7zttyUWSYxwZyZBFbSlyRNMBPoquhZPUUuaSqjXvOkXkqf8yB6PaEOUo07Zp3BXw\n",
       "Oa0sr2dAM5ftaYkj865TRB6TTCgoZ0td4RWpXE6Az4ZSjb4jpXWay6cNF5v3nLbkUocbFoCdvd6G\n",
       "kzoBQhEm08o927319vGP9iZZyOiZY6dvRN25jFy9Hojzy8DMZeRlp29c7Ld7+I1/5H3j5QW3NobO\n",
       "XdQ/v5i5gzbsn8hY2I2XWC7wT3dl/ACkBRxNONSOCQAAAABJRU5ErkJggg==\n",
       "\" style=\"display:inline;vertical-align:middle;\" /></a></td></tr>\n",
       "<tr><td>1</td><td>Operation</td><td>operator:&nbsp;5<br>operands:&nbsp;3<br></td><td><a class=\"ProveItLink\" href=\"../2459ea372457ec2f6ea99bb345a6bd623abcd8ad0/expr.ipynb\"><img src=\"data:image/png;base64,iVBORw0KGgoAAAANSUhEUgAAADcAAAAPBAMAAACy3Eq1AAAAMFBMVEX///+qqqru7u4iIiJ2dnbc\n",
       "3NyIiIjMzMxmZmYQEBC6uroyMjJERERUVFSYmJgAAADLUcuvAAAAAXRSTlMAQObYZgAAAPtJREFU\n",
       "GNNjYGB4+//u3dMLGNBBMYSaw8DA8QtIgxWwwyT3g0n2b0D8F8i4DuKlQeX47BVAFNtXIPMLkFED\n",
       "4hlBJQP7A0AUzwQGBuZJQAY3kMvYAJVMyAfbwn+BgXUPyAyQBHcARI5LQf4BiK6/ltYMZoCMrIFq\n",
       "1GKoTwDR+QEMTLYMUMfcgkouYIgHW3ASpACslZmBaQNEjv3u3fsHQAyQL947gFgcAiwPoFYyMHCC\n",
       "1LH/AxL3BUBCrBuYoaYCucwToN5k/Q0Ru/4MQrMCJbk/QL1ZuQkiWAMNAm2Q+CegPef/3r29D2oa\n",
       "NyQIYuZvZeA7/7sBNSbYFVC4AF2DPrMOsFAfAAAAAElFTkSuQmCC\n",
       "\" style=\"display:inline;vertical-align:middle;\" /></a></td></tr>\n",
       "<tr><td>2</td><td>ExprTuple</td><td>4</td><td><a class=\"ProveItLink\" href=\"../5103ce32d3ebc21586959bdccefe171414668d120/expr.ipynb\"><img src=\"data:image/png;base64,iVBORw0KGgoAAAANSUhEUgAAAEMAAAAVBAMAAADvM06qAAAAMFBMVEX////c3NwiIiJERESqqqqY\n",
       "mJh2dnZmZmYQEBDu7u4yMjJUVFTMzMyIiIi6uroAAAAs73DqAAAAAXRSTlMAQObYZgAAAWdJREFU\n",
       "KM+NUjtIA0EQffFcPXOJBrSKRWwEO0UQtDKdpVaWmkashIBimyusLHSxEgu5K0S00IDlFQmChVgk\n",
       "nY2Sw9Iqggp6oM7OHIoBDxd2dmfm7bz5LPCP1d9M8i4ZcSP3yw6fqkXBxRl663Q/EdM5R+RrnaU9\n",
       "AVRCeEBWeNS4JukYb2xp0NGoYpHAmg1DlRzJDL1El1haZFguYR94FJ5mKzSHT3tOLNO0xzSsIjal\n",
       "LD2/gNjtCyQC8jNATxlHrB8yNZMwGXFG97ejdHZ72GFDiEIZkqrDjMg+AXtViu/ig58EQU0ej+BA\n",
       "eCyXYC/kaguE+mF77NnAikAGKIJ6ZciW0YuUhcuePMWRtlD6zjMTTZGaIki6zR7nKh6ZaUuBIisP\n",
       "q6QaeutNCpnU323JbGsu+gEY3PWhZt+5JBwLYv0zCE5Nq9Ih7NzvCV93TJwGoErJ32nt5zP8sfpM\n",
       "L4YTIY7JI5X4Me+AL8zqV3DrjRSmAAAAAElFTkSuQmCC\n",
       "\" style=\"display:inline;vertical-align:middle;\" /></a></td></tr>\n",
       "<tr><td>3</td><td>ExprTuple</td><td>8, 7</td><td><a class=\"ProveItLink\" href=\"../1d9a4008d5668a743cd8f9a815871ca1c5e3cf130/expr.ipynb\"><img src=\"data:image/png;base64,iVBORw0KGgoAAAANSUhEUgAAADYAAAAVBAMAAAD/UwB2AAAAMFBMVEX////c3NwiIiJERESqqqqY\n",
       "mJh2dnZmZmYQEBDu7u4yMjJUVFTMzMyIiIi6uroAAAAs73DqAAAAAXRSTlMAQObYZgAAAS5JREFU\n",
       "KM9jYMAH+C5gFWZ9ACROA3H0/927rR4gJA4BcQ0QrwRxmhkY2P8h5NYDMRcDAy/ISJ6/QPwbYZ7+\n",
       "BCCRwMABpBh4PwLZ3+ByIvUCDAycDQyvQBzmBgYGpk643IX7ILtNGMpAHP4NDIyLJ8BdPsE/AEil\n",
       "MywF8c7vvVsUANc2j+E8yBFeDH0g3n0BBk5tuNwDBvkCIPWCAexyC5A8TCPP7t37DUCGQeRAzo9P\n",
       "gFnHwMCxACzXAlL5FUjsd4DKAWmmBrCZplDvMf4CegkkxQiU4/oAZEQBXQrx3glg2M1XAHJmgQR+\n",
       "gv3wCBiS9r937wL5ZQZQv3D/QgZW+19Ah65j4BBAipiHSGxgmLEmIPEDkNhsF6BxhEUOZK80gsuL\n",
       "HPEbQW7GniZ4DzAAAJGlTQr2mfDRAAAAAElFTkSuQmCC\n",
       "\" style=\"display:inline;vertical-align:middle;\" /></a></td></tr>\n",
       "<tr><td>4</td><td>Operation</td><td>operator:&nbsp;5<br>operands:&nbsp;6<br></td><td><a class=\"ProveItLink\" href=\"../0f1bf4090acd92174180531bf3e50944b30066e50/expr.ipynb\"><img src=\"data:image/png;base64,iVBORw0KGgoAAAANSUhEUgAAADcAAAAPBAMAAACy3Eq1AAAAMFBMVEX///92dnYQEBBERERUVFS6\n",
       "urqIiIhmZmaqqqrc3Nzu7u6YmJgyMjIiIiLMzMwAAACFkkdwAAAAAXRSTlMAQObYZgAAAP1JREFU\n",
       "GNNjYACBtwyogNv/i4vzUSjnPIhgBTMfgEkmAwaG+gCIwvsLgCQLSJwtASzyHki9dwAzZ9RPAJJ8\n",
       "QNUMvAvAIvlAgf0CYGZCPtiEk0DcDrHHCIgvgdWxLujfwACVOAmR/MLAMMcKzFoKtgJsJNhooA1f\n",
       "0tJvQ5QFMMwvYIA4hgXiQrafDAxrwe7hc3Hxh2i4wLAGopxZAajgN9R/TAfAYhUM0hBJfqAu7o8g\n",
       "VgPQNgWw2BygXog3gQ5k+QFkcAIleT6AxVheQ4IA7M35INNA1jD/gjjSdgHcm3w6QPZk/ZMM3PZ/\n",
       "wM5lOA6RK/7v4nJmA1pkMLxC5QIA6tw+1pV4TWcAAAAASUVORK5CYII=\n",
       "\" style=\"display:inline;vertical-align:middle;\" /></a></td></tr>\n",
       "<tr><td>5</td><td>Literal</td><td></td><td><a class=\"ProveItLink\" href=\"../087d0b4ded7c7e5bf3bba05ecb616d7a8051ff650/expr.ipynb\"><img src=\"data:image/png;base64,iVBORw0KGgoAAAANSUhEUgAAAAwAAAAOBAMAAADpk+DfAAAALVBMVEX///+YmJh2dnZmZmaqqqrc\n",
       "3NwyMjLu7u4iIiJERESIiIhUVFTMzMy6uroAAAD0I/TTAAAAAXRSTlMAQObYZgAAAEtJREFUCNdj\n",
       "uMAABDwMe0DUKoaTIKqdgS2AgYHFAITAzHYGsMQqBoa9QIqDgT0BSDE7MAkAKdYEDpAehj1SYOpk\n",
       "O5hiMwBTPAUMDAB33Atnw8aG2QAAAABJRU5ErkJggg==\n",
       "\" style=\"display:inline;vertical-align:middle;\" /></a></td></tr>\n",
       "<tr><td>6</td><td>ExprTuple</td><td>7, 8</td><td><a class=\"ProveItLink\" href=\"../caee09fb4b5c95b986a9cee46a014afbad9bdc680/expr.ipynb\"><img src=\"data:image/png;base64,iVBORw0KGgoAAAANSUhEUgAAADUAAAAVBAMAAAAUZLt1AAAAMFBMVEX////c3NwiIiJERESqqqqY\n",
       "mJh2dnZmZmYQEBDu7u4yMjJUVFTMzMyIiIi6uroAAAAs73DqAAAAAXRSTlMAQObYZgAAATZJREFU\n",
       "KM9jYMAH+C5gFY4DEach7EMwQdb9v3dvXsfAfgDIXgkRWg/XwWHAwFD/gGEBAwMvxEhW/QkwufNA\n",
       "kfMbGMKAqiBiIvUCMLn7QFZ8AsMMBoZXEIEL9x/A5CyAWGMCA7MDQxnEsRP8A2ByvxkYpCwZGNgK\n",
       "GJaC+fPAtoABz++711WBNMsChj6wwAMG+QKoHO9HBoZJG4BGNTD8A6vdvXu/AVSOuQEo/xUo9gEi\n",
       "xwd07wKoHD9QD+s3sFwLiO/AwMDUAPMe0FHcX8BmmgK5jEA5rg8MDBNg3pMHGsK6gCEdyJ0FsuYn\n",
       "A+cnqPd4uiaA/fCIgUG4fyEDq/2vAs5+oJbi/7t3rwL5lesBA4cAUnQhsUFhxpqA4LIiR2AuIo7Q\n",
       "5ThBfpJG8JFTADfIfEbsaeIOAwMABOxNRsfkiy0AAAAASUVORK5CYII=\n",
       "\" style=\"display:inline;vertical-align:middle;\" /></a></td></tr>\n",
       "<tr><td>7</td><td>Variable</td><td></td><td><a class=\"ProveItLink\" href=\"../../../../../__pv_it/2cbe72a7ad6f655694dd697106680215e8489b600/expr.ipynb\"><img src=\"data:image/png;base64,iVBORw0KGgoAAAANSUhEUgAAAA8AAAAOBAMAAAACpFvcAAAALVBMVEX///8QEBBERERUVFS6urqI\n",
       "iIhmZmaqqqrc3Nzu7u6YmJgyMjIiIiLMzMwAAADtIaYWAAAAAXRSTlMAQObYZgAAAFtJREFUCNdj\n",
       "YACBOwxQsA9Kc52bAGG05zVAGAFxDmCaZULdAjBjCsO9ADDDgaEvAUTzGhvbKYCVMDAwbgAxChgY\n",
       "eASANAeQwf0AyJgNxEwvGRia5HYwcOm9TgAA6BoR3jrzwFcAAAAASUVORK5CYII=\n",
       "\" style=\"display:inline;vertical-align:middle;\" /></a></td></tr>\n",
       "<tr><td>8</td><td>Variable</td><td></td><td><a class=\"ProveItLink\" href=\"../../../../../__pv_it/077b2ff79244fb4582cbe22c6e3356fa92a52f2f0/expr.ipynb\"><img src=\"data:image/png;base64,iVBORw0KGgoAAAANSUhEUgAAABAAAAAOBAMAAADUAYG5AAAAMFBMVEX///+qqqru7u4iIiJ2dnbc\n",
       "3NyIiIjMzMxmZmYQEBC6uroyMjJERERUVFSYmJgAAADLUcuvAAAAAXRSTlMAQObYZgAAAGpJREFU\n",
       "CNdjYGB4+//u3dMLGIBgDgMDxy8gzf4NiP8CGWxfGRj4vgAZPBMYGJgnARn8FxhY9ygAGfXX0pof\n",
       "gDTlBzAw2YIYJ0EckBBI53sHoBH/gIz7AhBjWH9DjancBLTl/N+7t/cxMAAA3u4f/5xagjYAAAAA\n",
       "SUVORK5CYII=\n",
       "\" style=\"display:inline;vertical-align:middle;\" /></a></td></tr>\n",
       "</table>\n"
      ],
      "text/plain": [
       "0. B -> (B or A) | A or B\n",
       "   core type: Lambda\n",
       "   parameter: 8\n",
       "   body: 1\n",
       "   conditions: 2\\n1. B or A\n",
       "   core type: Operation\n",
       "   operator: 5\n",
       "   operands: 3\n",
       "2. (A or B)\n",
       "   core type: ExprTuple\n",
       "   sub-expressions: 4\n",
       "3. (B , A)\n",
       "   core type: ExprTuple\n",
       "   sub-expressions: 8, 7\n",
       "4. A or B\n",
       "   core type: Operation\n",
       "   operator: 5\n",
       "   operands: 6\n",
       "5. or\n",
       "   core type: Literal\n",
       "   sub-expressions: \n",
       "6. (A , B)\n",
       "   core type: ExprTuple\n",
       "   sub-expressions: 7, 8\n",
       "7. A\n",
       "   core type: Variable\n",
       "   sub-expressions: \n",
       "8. B\n",
       "   core type: Variable\n",
       "   sub-expressions: "
      ]
     },
     "execution_count": 4,
     "metadata": {},
     "output_type": "execute_result"
    }
   ],
   "source": [
    "# display the expression information\n",
    "expr.exprInfo()"
   ]
  },
  {
   "cell_type": "code",
   "execution_count": null,
   "metadata": {},
   "outputs": [],
   "source": []
  }
 ],
 "metadata": {
  "kernelspec": {
   "display_name": "Python 3",
   "language": "python",
   "name": "python3"
  }
 },
 "nbformat": 4,
 "nbformat_minor": 0
}
