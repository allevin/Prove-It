{
 "cells": [
  {
   "cell_type": "markdown",
   "metadata": {},
   "source": [
    "Show the Proof\n",
    "========"
   ]
  },
  {
   "cell_type": "code",
   "execution_count": 1,
   "metadata": {},
   "outputs": [
    {
     "data": {
      "text/html": [
       "<table><tr><th>&nbsp;</th><th>step type</th><th>requirements</th><th>statement</th></tr>\n",
       "<tr><td>0</td><td>specialization</td><td>1, 2</td><td><span style=\"font-size:20px;\"> <a class=\"ProveItLink\" href=\"proof.ipynb\" style=\"text-decoration: none\">&#x22A2;&nbsp;</a><a class=\"ProveItLink\" href=\"../9f29d0258c529564c1219cd8998dfca0b5aa8dd30/expr.ipynb\"><img src=\"data:image/png;base64,iVBORw0KGgoAAAANSUhEUgAAAP0AAAAVBAMAAAB/DPUgAAAAMFBMVEX///8QEBC6urrMzMxUVFRm\n",
       "ZmZERETc3NwyMjKqqqp2dnaIiIiYmJgiIiLu7u4AAAAU9Wx4AAAAAXRSTlMAQObYZgAAA5tJREFU\n",
       "SMfFlk1oE0EUgF+ySWN2k9WTYtUa0SLowRxKD9VaUYIVRFtqKGqhUSRVUMlFK4gYxeLFn4BUPElF\n",
       "1FqlBkVBBFlEtNSD9SZia4oKxWL1YH/E3/fmzWTTZI1VDw686Wbm7Xzvb94W4D+PzO9Vlkr56xEI\n",
       "Oa8/QOmjhyfF3tZWsYB5J9Lkq5s6dnhH1Nonnhomb+ind07M2wXgDQNcpYVTxY6ZlmGBCxa46y1e\n",
       "dIs5XKAsPNWYMhegfC4fkadV4k4PvesASALsx5++WDH+PSlDAzjdSPCih9BGukB5jXoDzJNosz7O\n",
       "Cego4BshhPeyZ95UMX6ZlCMUgwUqKWRysLB4KmkaED7TO+4ZYtWcITNysv+55PutDQCDaNqV1tZD\n",
       "xfDuJIv3M/3ap5aPo7Q7JAvj4xc10kxOqXLZxUafyNj+L0YPSlBnLB5/4cTdK/96O1gOJ+nXa7Xd\n",
       "Lm3IG8QmG8A3IRyXFXJJzPszdvyrH1F66kTGWiiXkS3Didw7U6Y8sliarZzIi9hrTmUzIHPg/apW\n",
       "yO5z4qnFzn//jzlkLe4tAhNn7SXANt7s6exsAlg4IHVdIZZXbJ22SdxYqj1PyLlaVwv7xlVEvquy\n",
       "MWO59Xc3xuURBAM9W4aBOosqt6OWoZs3Q6al+NNDLD9ku/IzHxvHkFPagsIdfOWjQAK8I36NqKR5\n",
       "/f3Z+oPYEnQGlQwLQ2mW4upygDuLRzKGDt2WAfn8+cKZcJa/Ga478b0pXSTKJfhnAO5n+aKJQZZf\n",
       "wnwzWYGFQNojEKByNXT37UxVV6ksHVeKZSMVjxey/APQ58T3JYPcIAgLdaCdt+Pfl88X17MF8xWM\n",
       "2X3K8Na/lFde6FosNdRsum2+Z0Xa/oBkONaiA3Ez175QC8yAbhK/R6ytn8TH+AcoVe144HRuUFWC\n",
       "r0NDGoZH5W2gO0ISwPtfnrD52h5BNr+p6QNvVMrEPU2BuxHgseDz/XsfsvmBrTE+F1zohwv5Zhqq\n",
       "4/F4GvkdOf3S3ccCFcei1FIUH9q4tc1U06CMoWw5Wm1kMx0q+Ec5N21h9f0Ze7aOdMmgAHXgmAjW\n",
       "G+l/Lh9mSVH3SfFX/uJzOakp+6PRUSvbf/21XP9qDKoHczbARcxpgvmNuR+WXin5/CkOH/qvp533\n",
       "rmWf3ka60G5zu+g/l3c7fn/5uM7R9B/xH35KOXcKkJ1i0n8GmP8CB1ax/MNY67zsSUzp7YNS/noY\n",
       "Yef1WwA/AbPk+GA/mFMuAAAAAElFTkSuQmCC\n",
       "\" style=\"display:inline;vertical-align:middle;\" /></a></span></td></tr>\n",
       "<tr><td>&nbsp;</td><td colspan=4 style=\"text-align:left\"><span style=\"font-size:20px;\"><a class=\"ProveItLink\" href=\"../../../../../__pv_it/78af03acba5349fd70398a32ce59bae1da52f0870/expr.ipynb\"><img src=\"data:image/png;base64,iVBORw0KGgoAAAANSUhEUgAAABIAAAAJBAMAAADN8WE8AAAAMFBMVEX////MzMyYmJgQEBBmZmYi\n",
       "IiLu7u4yMjKqqqp2dnZUVFTc3NxERESIiIi6uroAAABe5jFNAAAAAXRSTlMAQObYZgAAAFtJREFU\n",
       "CNdj4Luz++5KvrsnGBg4uWoZ8ucx9DMwvGM9wJB/AcRKyH/A0J/A4M7AAKJcGRgsgSwgL4SB7zcb\n",
       "iMf2j4GrYBMD9z8Gpg8M7BcmMPAZMHAeYOBYKwAAtXMYHwtZnY0AAAAASUVORK5CYII=\n",
       "\" style=\"display:inline;vertical-align:middle;\" /></a> : <a class=\"ProveItLink\" href=\"../../../../../number/numeral/__pv_it/23412ce59ea7e77353d2f9225e02248e73651ca00/expr.ipynb\"><img src=\"data:image/png;base64,iVBORw0KGgoAAAANSUhEUgAAAAoAAAAPBAMAAAAv0UM9AAAALVBMVEX///9mZmaqqqru7u52dnYy\n",
       "MjKYmJjc3NwQEBCIiIhEREQiIiJUVFTMzMwAAACUDTcXAAAAAXRSTlMAQObYZgAAAD5JREFUCNdj\n",
       "YGBguMMAArtABGcXiCyLApEOIJKtAERaMoBIBxDJdAFEmjCASJ0zZ16cBCkF64KQPu/EwBwGACv6\n",
       "DSRgin9qAAAAAElFTkSuQmCC\n",
       "\" style=\"display:inline;vertical-align:middle;\" /></a>, <a class=\"ProveItLink\" href=\"../../../../../__pv_it/eb438fefc4bd0ac977777d6dfd3e8a72dfbedbd50/expr.ipynb\"><img src=\"data:image/png;base64,iVBORw0KGgoAAAANSUhEUgAAABIAAAAPBAMAAAAbqIIhAAAAMFBMVEX///+YmJhmZmZERES6urrc\n",
       "3Nzu7u4QEBCIiIgyMjJUVFR2dnYiIiKqqqrMzMwAAAD8et6HAAAAAXRSTlMAQObYZgAAAGpJREFU\n",
       "CNdjYAABvr8MUMDzG8ba/wvK4Pv/B8ri3P8fyuph/58AZrD+4/zvAGYxKzD9FwCzxBk4/iuAGGx/\n",
       "GVj+G4BYXN/L6/8fALGuP0tL/f8BJFkLJM5/BRJRICX2QCfw/weauv7//38AzEYi08a6/oIAAAAA\n",
       "SUVORK5CYII=\n",
       "\" style=\"display:inline;vertical-align:middle;\" /></a> : <a class=\"ProveItLink\" href=\"../../../../../__pv_it/985a1bdf1540838275dec15f4ad6de261cca93ce0/expr.ipynb\"><img src=\"data:image/png;base64,iVBORw0KGgoAAAANSUhEUgAAAA8AAAAOBAMAAAACpFvcAAAAMFBMVEX////MzMyqqqoiIiIyMjK6\n",
       "uroQEBB2dnbc3NyYmJhmZmZUVFRERESIiIju7u4AAAB204erAAAAAXRSTlMAQObYZgAAAGZJREFU\n",
       "CNdjYGDgu7NrJccCBgaGsgkMrMsmMDA8sQNy6hsYGNweABlhDAxcn4A0QxcDQ78DiPGQgWH9BAYI\n",
       "sG+AMv6DSaCGfBDNJMDAsB+kmwuI5S8AiTog5gSaEwXWIO29SgFIAQBC+RaDQlidVgAAAABJRU5E\n",
       "rkJggg==\n",
       "\" style=\"display:inline;vertical-align:middle;\" /></a></span></td></tr><tr><td>1</td><td>theorem</td><td></td><td><span style=\"font-size:20px;\"> <a class=\"ProveItLink\" href=\"../../_proofs_/closure.ipynb\" style=\"text-decoration: none\">&#x22A2;&nbsp;</a><a class=\"ProveItLink\" href=\"../3688f1b2b5faa56b47f98633e6e84854e760a0700/expr.ipynb\"><img src=\"data:image/png;base64,iVBORw0KGgoAAAANSUhEUgAAAVgAAAAVBAMAAADx8+t1AAAAMFBMVEX///8QEBC6urrMzMxUVFRm\n",
       "ZmZERETc3NwyMjKqqqp2dnaIiIiYmJgiIiLu7u4AAAAU9Wx4AAAAAXRSTlMAQObYZgAABH1JREFU\n",
       "SMfVlmtoHFUUgM/OvueV1Pr4IbYjSlsI0hE0PlA7NKCCry2llFCLg+IWxUh+SFYUzSoUUbSZPxF/\n",
       "KCxLtVEkLJEuYqIuaiS0UIe2SJWm2YI/AtU08RFQasd777kzc3dnHwn95YFzd/ace2a+e+65D4D/\n",
       "k9Q7epUz963tNX1ciexw1okgBKhG6y7UPncSXPp8vN17ZENjfStdvhe3UKkslNYJKwbsbvJNrI69\n",
       "9qOD9jJ8TE2H2sPKdNiZepfv0Q68k+xZgZnlKR7pLbHW9L8hBECmua/dpx/6BO1lGCFt2m4Py3wj\n",
       "3ZIzzZVOqucG5gEI7YIkKKfiz5YYAGopAgtTGbSXWT6STntYlvXBbrCbuBJ5y1sOzP20ORctGpoA\n",
       "zZ8tMQD0Xvy98M78GR/2/USd2cugHikUXoEOsMcKhYLbhVUqotKEuZsvh5M6DJDNRfu/QXTcX8Ni\n",
       "AMAzOJy360JmR9BeBljN53/uBNuTzw91WzLJEiqRUXPs98BOQSlws4xz4EgAwIesHamHZRA/+zza\n",
       "y6yuDnSCJQWWYt+T/m6/vmqoRJ6GJy75BcBKoL9Ff1ICcX+d8ABf3mNtSGTfsrBSQTuBvRn0YuOr\n",
       "7txjKNfUfVjJgkX2HPuH++cmJh5vjIgZqGQh9MLXfwHc/kiw8Ha22r4rkOA7Kg8I5EZWuba4wKbf\n",
       "RTuB1UCpCQV+dE9NtSdhMsgs2Yln2POuVe5XZH3KUAdnds76C7PHQAW46MB22u8DnsJIJlBcnoAw\n",
       "IDgh2CTeMD8fLrCUVGJ2AqvUNGEXrW5dqqvHkyLsDK5n6acV7ldkmKxlq3CVlIvAPrZhg/dvCJt0\n",
       "5For2EH4lD/5AQ2wcUvMbApsH1Yv3kYmY1/fYaVqgko/r951R0WAXcRQbatXR78iS0frMKC7sp/Z\n",
       "mIMK2Y1LS6NeCJsuai2L/EXgG4wfMDv1hTX9VFAGbgQWywAOkKr6dXtNs1QLDxDVnPxWgE29YOAy\n",
       "9Qz0K8ldZ8lMZnOayt+YqqHCeUKsecMBLAzgSa4HDc5i4h5+JPAA/ZtLcBq+owuCmR9ugKVlMIew\n",
       "42QYr34OPaacg7sRVpYfDWGz+9nMbIKxCvpJGeyu6LbspD7zN40cavp+Su45IWw/HgkXXd7oOOXx\n",
       "IYT2A9IXivAH27Zw6/rNEGBnq8HWBTE6yIfgVsg4cG8+n6+oZvrEuRAWrmdVQGrLQj+BLTXuvJKL\n",
       "6nmXIeF5nhnAZrCsz9u80a9F+0H8CQISlXgvvEksr+MgDprBRWboagftFFalg9wIVRiV4BfMLNz0\n",
       "lQB7gj4dBvjBRX8UFq7jGogPG29zBWq+ecZMxU4vG8Fxm32Q7wbCMVzmz+llktvvZUgMI6wq1Czw\n",
       "KoAdy+gnsHub7ozHuEZg1yqjkKiodgnkNpdRavdhJRtOQf8R0J8kf7aRxmqCXfgT1M0rDvPPTXz0\n",
       "XPsrIpOXxvatD3YLaGb82eFg+22WRQhhwxGQmmw8bjv6fUlbqFcsD3Swl7vEKvPm2j7yMtcrFMVs\n",
       "b//y5H8fa2EgHoglRwAAAABJRU5ErkJggg==\n",
       "\" style=\"display:inline;vertical-align:middle;\" /></a></span></td></tr>\n",
       "<tr><td>&nbsp;</td><td colspan=4 style-\"text-align:left\"><a class=\"ProveItLink\" href=\"../../_proofs_/closure.ipynb\">proveit.logic.boolean.disjunction.closure</a></td></tr><tr><td>2</td><td>theorem</td><td></td><td><span style=\"font-size:20px;\"> <a class=\"ProveItLink\" href=\"../../../../../number/numeral/deci/_proofs_/nat4.ipynb\" style=\"text-decoration: none\">&#x22A2;&nbsp;</a><a class=\"ProveItLink\" href=\"../187f61bdf15fe8a518e21f4c2127ec83e106d9910/expr.ipynb\"><img src=\"data:image/png;base64,iVBORw0KGgoAAAANSUhEUgAAADMAAAAPBAMAAAC7N+rPAAAAMFBMVEX///+6urpmZmaqqqru7u52\n",
       "dnYyMjKYmJjc3NwQEBCIiIhEREQiIiJUVFTMzMwAAACQ7J58AAAAAXRSTlMAQObYZgAAANJJREFU\n",
       "GNNjYGBgeMuAAtx+b3Ng0PljAGKfRpVi2M63gYHhA4jFNRtN6s6DVQwME0Cs9myIiFfOmWNgxsUU\n",
       "3gcQqQCIFF+6A1TXvbcsKWAp9gaIVDdMhuEe84LXYCkvBojUDrhd9xgU2ReApAIgUiwbkKR4He4B\n",
       "pZgfQKQY55w5A3XGPQaWC25AKVcGiBTfBSRdDE/5gFK2d+/+vAUy8ACyFLsBxHyIl68jSzFEIEv5\n",
       "CMCkNgIxUwKIFftfHURxJD2AyIj9BOpgSUAOOuZrUBdCAQDo0EBn8/FI3gAAAABJRU5ErkJggg==\n",
       "\" style=\"display:inline;vertical-align:middle;\" /></a></span></td></tr>\n",
       "<tr><td>&nbsp;</td><td colspan=4 style-\"text-align:left\"><a class=\"ProveItLink\" href=\"../../../../../number/numeral/deci/_proofs_/nat4.ipynb\">proveit.number.numeral.deci.nat4</a></td></tr></table>"
      ],
      "text/plain": [
       "<proveit._core_.proof._ShowProof at 0x7f94ebe1ad68>"
      ]
     },
     "execution_count": 1,
     "metadata": {},
     "output_type": "execute_result"
    }
   ],
   "source": [
    "import proveit\n",
    "%show_proof"
   ]
  },
  {
   "cell_type": "code",
   "execution_count": null,
   "metadata": {},
   "outputs": [],
   "source": []
  }
 ],
 "metadata": {
  "kernelspec": {
   "display_name": "Python 3",
   "language": "python",
   "name": "python3"
  }
 },
 "nbformat": 4,
 "nbformat_minor": 0
}
