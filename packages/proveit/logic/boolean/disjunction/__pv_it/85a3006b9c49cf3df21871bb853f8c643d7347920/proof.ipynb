{
 "cells": [
  {
   "cell_type": "markdown",
   "metadata": {},
   "source": [
    "Show the Proof\n",
    "========"
   ]
  },
  {
   "cell_type": "code",
   "execution_count": 1,
   "metadata": {},
   "outputs": [
    {
     "data": {
      "text/html": [
       "<table><tr><th>&nbsp;</th><th>step type</th><th>requirements</th><th>statement</th></tr>\n",
       "<tr><td>0</td><td>specialization</td><td>1, 2</td><td><span style=\"font-size:20px;\"> <a class=\"ProveItLink\" href=\"proof.ipynb\" style=\"text-decoration: none\">&#x22A2;&nbsp;</a><a class=\"ProveItLink\" href=\"../8be56ac8368cc3999f278749313196cfc4b2b9af0/expr.ipynb\"><img src=\"data:image/png;base64,iVBORw0KGgoAAAANSUhEUgAAALgAAAAVBAMAAAAHnznEAAAAMFBMVEX///8QEBCYmJhmZmaqqqrc\n",
       "3Nzu7u5ERERUVFS6urp2dnbMzMwyMjIiIiKIiIgAAACFNc/vAAAAAXRSTlMAQObYZgAAAqhJREFU\n",
       "OMu1lT1oE2EYgN/8XH6aS8xgC4JgN2mpksFJBwNZBTMUdBA9R8FBxVXaRYh08Lo4qQQ7ZZHg0HaR\n",
       "BksFUTEugSLF20trUawUivr+nsnd6eYHue+793vuue/e7ycA/7PsvJU6/d7n+mnYMxWHi0HIw8ym\n",
       "8lPJ4jT6OnYzxvLSPN+U+gCZbuyB1SFeWsgncPASf+cIEanKXY873T289GLPvCa+yM2uyIlnzqJS\n",
       "PlAXwQt0t6vyXek8tY+X6ai7EhBf6EqzYzxzFpWUfMZ3ptuIrNDtQOUT3Ok0vuP1elSe8kheuoXN\n",
       "sifyCeMsymX2fBMgV0XExUa2JvKipKJSOcBrvh6RP5ZMb2DVkJwzL5xGuQRfSHYXERTTC1ieaXPn\n",
       "o+xXmuJaRH5W5A1RdYwXTqOcf+/iJFZLhAyAUsNyl4KQ80s/scrSsDLvuPAieiVy/HhKQsd45ixK\n",
       "5QasUfIvEIKT8kDlKV9m3vlGVTUy8mMix2kr6CJmXjiNUvHhGn3MIo8Ecj2VH+Hu1VbrB83RXkR+\n",
       "oKu7Dze1xbxyEqX7VushfcMaIZn62OSIHC/H/yU/A88S5BKVJZ/qmdzplW2Hpmjis/j7aJ+b2eLC\n",
       "2Tyqyis4Sk1L/U/6JIoFY+WqpQUWTps8TxM0q1ssHd2id1RZeBFoi3nlJIpjresOn2FkZWByWlU0\n",
       "ATDnJSzFJVWW7nnaYkQ5iQJnPr9vSxHcmsmLfXBuHzbh5K91DPsR+RM7rtbt4CpSJozjKFw6sQHp\n",
       "uUNUvpGReOGpOD7kim//psqXw1NxfIhbHqV5+48cucOH1fPYEd2OHbnTSZwKg6hcj1x+81+O3BE5\n",
       "8gmc5T4id+bDzkIzxl+OyZFP4Ljcx7+5T3pWb8m0XA07t+O8E4Q87Gwqv53srnThN6TX1GJDe+yk\n",
       "AAAAAElFTkSuQmCC\n",
       "\" style=\"display:inline;vertical-align:middle;\" /></a></span></td></tr>\n",
       "<tr><td>&nbsp;</td><td colspan=4 style=\"text-align:left\"><span style=\"font-size:20px;\"><a class=\"ProveItLink\" href=\"../../../../../__pv_it/39dbcd3ca0390345b51c6ef7785756419e2c14390/expr.ipynb\"><img src=\"data:image/png;base64,iVBORw0KGgoAAAANSUhEUgAAAAwAAAAJBAMAAAD0ltBnAAAAMFBMVEX///8QEBCYmJhmZmaqqqoi\n",
       "IiLMzMzu7u4yMjJ2dnZUVFTc3NxERESIiIi6uroAAABbPXqjAAAAAXRSTlMAQObYZgAAAERJREFU\n",
       "CNdj4Luz++5KBgZOrl6G+gSGd6wHGOofMBQAsX8BAwivYGBgsGBg+MTOwCDJwPSdk4H7HwPnATcG\n",
       "PgEG7rMOAGtQEUwHZIDZAAAAAElFTkSuQmCC\n",
       "\" style=\"display:inline;vertical-align:middle;\" /></a> : <a class=\"ProveItLink\" href=\"../../../../../number/numeral/__pv_it/ec23fc7a1b4222a5f4948b495002b97d6fa18c3c0/expr.ipynb\"><img src=\"data:image/png;base64,iVBORw0KGgoAAAANSUhEUgAAAAoAAAAOBAMAAADkjZCYAAAALVBMVEX///8QEBCYmJh2dnaqqqrc\n",
       "3NxUVFQyMjK6uroiIiLMzMyIiIhmZmbu7u4AAAAZjyHdAAAAAXRSTlMAQObYZgAAAEpJREFUCNdj\n",
       "YLiz+xQDA8MMhpsLGLgnMHAXMHAmMHA8ZeA7wMD1hCHOgIHrNZh8jES+Bss+AqlkeQrSxTyBgWEK\n",
       "w8UFDAx3rLMYAMCjFldHSx/9AAAAAElFTkSuQmCC\n",
       "\" style=\"display:inline;vertical-align:middle;\" /></a>, <a class=\"ProveItLink\" href=\"../../../../../__pv_it/2cbe72a7ad6f655694dd697106680215e8489b600/expr.ipynb\"><img src=\"data:image/png;base64,iVBORw0KGgoAAAANSUhEUgAAAA8AAAAOBAMAAAACpFvcAAAALVBMVEX///8QEBBERERUVFS6urqI\n",
       "iIhmZmaqqqrc3Nzu7u6YmJgyMjIiIiLMzMwAAADtIaYWAAAAAXRSTlMAQObYZgAAAFtJREFUCNdj\n",
       "YACBOwxQsA9Kc52bAGG05zVAGAFxDmCaZULdAjBjCsO9ADDDgaEvAUTzGhvbKYCVMDAwbgAxChgY\n",
       "eASANAeQwf0AyJgNxEwvGRia5HYwcOm9TgAA6BoR3jrzwFcAAAAASUVORK5CYII=\n",
       "\" style=\"display:inline;vertical-align:middle;\" /></a> : <a class=\"ProveItLink\" href=\"../../../../../__pv_it/2cbe72a7ad6f655694dd697106680215e8489b600/expr.ipynb\"><img src=\"data:image/png;base64,iVBORw0KGgoAAAANSUhEUgAAAA8AAAAOBAMAAAACpFvcAAAALVBMVEX///8QEBBERERUVFS6urqI\n",
       "iIhmZmaqqqrc3Nzu7u6YmJgyMjIiIiLMzMwAAADtIaYWAAAAAXRSTlMAQObYZgAAAFtJREFUCNdj\n",
       "YACBOwxQsA9Kc52bAGG05zVAGAFxDmCaZULdAjBjCsO9ADDDgaEvAUTzGhvbKYCVMDAwbgAxChgY\n",
       "eASANAeQwf0AyJgNxEwvGRia5HYwcOm9TgAA6BoR3jrzwFcAAAAASUVORK5CYII=\n",
       "\" style=\"display:inline;vertical-align:middle;\" /></a>, <a class=\"ProveItLink\" href=\"../../../../../__pv_it/a275d402e75fbbde925e8ebdcbfd239a2138849c0/expr.ipynb\"><img src=\"data:image/png;base64,iVBORw0KGgoAAAANSUhEUgAAABIAAAAPBAMAAAAbqIIhAAAAMFBMVEX///92dna6urqqqqoiIiKY\n",
       "mJiIiIhmZmbc3NwyMjLu7u7MzMxUVFQQEBBEREQAAAA0CE+eAAAAAXRSTlMAQObYZgAAAIdJREFU\n",
       "CNdjYGB4/x8I7mxgYGDgmn9r1Yr3v4Eshv8PGBj6vwMZ3P8TgKw/QBbbf6Ca+K9AFt9/IOE/AUjw\n",
       "/2Rg2AmSZNj/d+aUvwYgVvxnBoZ1P0Gs878YGJj+CwBZ9x1ArAMMDBz/CxgYGEFmsv4Hqu7/ApTk\n",
       "+d/AsPS+B9A0kEv+PmVgAADmSjTeJ9tS4QAAAABJRU5ErkJggg==\n",
       "\" style=\"display:inline;vertical-align:middle;\" /></a> : <a class=\"ProveItLink\" href=\"../feb17bb8e989ce470672228f3fb01ca3e9677f560/expr.ipynb\"><img src=\"data:image/png;base64,iVBORw0KGgoAAAANSUhEUgAAAAwAAAAVBAMAAACAghKHAAAAMFBMVEX////c3NwiIiJERESqqqqY\n",
       "mJh2dnZmZmYQEBDu7u4yMjJUVFTMzMyIiIi6uroAAAAs73DqAAAAAXRSTlMAQObYZgAAAG1JREFU\n",
       "CNdjYIACvgusD4DUaQaGGiC1koGBi4GB9wIDA2sCA8cEBgbOBoZXIGUmDGUgKp1hKYjyYugDUS8Y\n",
       "/oGo8zCqBSJoCqKigGrBGh6BqHUMHAJgw4DGMrBdAFs0CyguzcCwEUgxXuA9wAAApdcX/S64IkwA\n",
       "AAAASUVORK5CYII=\n",
       "\" style=\"display:inline;vertical-align:middle;\" /></a></span></td></tr><tr><td>1</td><td>axiom</td><td></td><td><span style=\"font-size:20px;\"> <a class=\"ProveItLink\" href=\"../../_axioms_.ipynb#multiDisjunctionDef\" style=\"text-decoration: none\">&#x22A2;&nbsp;</a><a class=\"ProveItLink\" href=\"../9a806b676683e82c348f434336edfdc1c84664e50/expr.ipynb\"><img src=\"data:image/png;base64,iVBORw0KGgoAAAANSUhEUgAAAh8AAAAWBAMAAACS4+MDAAAAMFBMVEX///8QEBC6urrMzMxUVFRm\n",
       "ZmZERETc3NwyMjKqqqp2dnaIiIiYmJgiIiLu7u4AAAAU9Wx4AAAAAXRSTlMAQObYZgAABbdJREFU\n",
       "WMPtWF9oW1UY/5KbNGlyc9M5mQ5hjSgiDGkREXFqgw72sIcGtcqmrtWHDNHRPJR2Ml0uwmwf3BqQ\n",
       "gW/2YfMPGxjdi7hB48qGVLEBQUXomvkwC2tro/vTbU2v3/l3c869uel61zc9cG5O7nd/9/ed3znn\n",
       "O9+5AP8XtVSa2OK/PdMUGyyy2m9hubvz9klXA+gp972t4I+shTxffY7/O+tNiCb9cArK5P8PjR+L\n",
       "pRL06aIH12O8GqNbFv7s/+f2BWkKeBrrC667Wtov2Wx1YWHQ4gqGOz0JiSmWgi/IrSNegsQK+BP1\n",
       "mkVHBNTqA8hfFfOGXt3EdNQ11lYADsQooXShqRO+yJLXACJWhhtMpyt1QpMKMoitSJ+XINQy6LWi\n",
       "iqyCZuE1f4XfDnVym6PQWXuaDbcCUBH6DHZdH3OiT4Nfsq5bRJA0N0w6rBLhJBWEKB8ueAlCx2SX\n",
       "hyCBCqsQJxNyallMbiJiwj2rHieXC0xKBaAi3unN4bpoc6K3gF+ycVxeulXihosOq0R4kfZY/2xo\n",
       "6D3wFGRyaGio7GF+mFeMW3iZMcX9YaxH3Y9Hkbc1Aw0ACqI4Tib0m874bfom619EyZbsGFtQrRIh\n",
       "mrDHcC2b/d1bkGQ2u2/Mw7ybV0gi3RP2AqD+DbsfJx4QT9wAGRGsfEIG87gDHB7zTWaZoI2m7T5l\n",
       "VKtEiCYiCK6nvd6C4BptyQnJ8U57dUNNrNgPeYWu6sjhaoHPXzqDtUZR6QKfq3WAKBLiD+gi7/+Y\n",
       "qjBCC+lMtOSXTLPuHZnZXFfKVF2RCNFEBHkQDFPe3g49D1/tsQUJpmGWtqdYajCVgahYv3fxClM3\n",
       "AC4tgfZiWQTbUINEgkSxZ1mLA+TwLBApyJMxvN8Zr1J+yXSrAEa/3cVgm+qKRIgmIkgC4iLgwOWe\n",
       "V+F8rBKr2IJgnnKGZg697CH8iYkt729eoXsF32aNQSuPNmUuoqMkbOkFwC42Qtu+vZsMeJcDm0z5\n",
       "JQtZ2JuOm/aAL6quSIRoIj2Ol+wgHX/j4AL8WMzIgpxh0Tg2z2LQTA6iN5yCtJeJj2nbx11wspGP\n",
       "4UKMSy8AdrERmFcEzKaCrJUsUMNLxxVVkLorEiEXxDAx/9Nf2XoM4Bx5YuKjA7IgszRFhG0tbKFi\n",
       "iO8VI7uZV5r1xDA9ED7uh4YbU8RM8AYHMFYFgcEh0SaWTHiaFsIcKPglozncl7fg3Nffpu0lY1tl\n",
       "Qr5kYC+uprmOUqKTZXETsbknJUFaBugKTYcpbbCafd0OUG/zSlYp5HEghI+hp1jcNcRhyeDZEj8i\n",
       "CABjlRERNETJGH7vPJGUViOryIQSGYk5EatsnF2GnwneVKwyoc6CKhzFNx/8BpI5jQ79BIwdkwRp\n",
       "fY12oRCnUy1+U5ohx3kNWTmYa/+17qO2j73gL/xv1HiD5EM8FxIAyqogSDhoWWmw7dLdshmZzUMb\n",
       "Eln3dTC+q+Uil024Ll5Ut8qEfNuFAFF4J84Z7Zds9i0U5N15SRC4j7Tme15aoQOFy7hjkTv5CKtJ\n",
       "epwkoyd8hEM8K8TJbmziDbJ3MmfqgJ32bsIQg+3DoPcv4WPvOxOz8ipkNg9t1MnI89YmnF+hIl0t\n",
       "0ZRsVQjRRHusk+5vhJ6gkWYzJLhNFuQn0noZNHq+DKAY42ILC+RYre/xwkePrwaaM8UmrA0R7tT9\n",
       "HrhDskBnOJPiqbvbWk/d+VJahI0PwA4mCEzKgtDxQYWXYX8O8ia0VsXZkhyIlFNYa3lt32IYa8OU\n",
       "0HVcm4Q7JMtD4FH0/AR4Ep6Qe9wHu0twCf8GP8D0FFRBDNypB2qlrlK0vTa9YY/7+M/79/nV4pp8\n",
       "ZKwNv2E0Of77JHsIwidBTUJVQsOUBOHlU4whauquFKfzA7yuf9nhnk3pdSEL5TwJiSmWaoqOTytf\n",
       "XjTnyyJFVte9xBt81zoA60F2ypvwFOlwai0v0/8L35j/BUMaTTTl19uLAAAAAElFTkSuQmCC\n",
       "\" style=\"display:inline;vertical-align:middle;\" /></a></span></td></tr>\n",
       "<tr><td>&nbsp;</td><td colspan=4 style-\"text-align:left\"><a class=\"ProveItLink\" href=\"../../_axioms_.ipynb#multiDisjunctionDef\">proveit.logic.boolean.disjunction.multiDisjunctionDef</a></td></tr><tr><td>2</td><td>theorem</td><td></td><td><span style=\"font-size:20px;\"> <a class=\"ProveItLink\" href=\"../../../../../number/sets/integer/_proofs_/zeroInNats.ipynb\" style=\"text-decoration: none\">&#x22A2;&nbsp;</a><a class=\"ProveItLink\" href=\"../../../../../number/sets/integer/__pv_it/96963c4a116b4edbad2dd70262237f9296baf3120/expr.ipynb\"><img src=\"data:image/png;base64,iVBORw0KGgoAAAANSUhEUgAAADMAAAAPBAMAAAC7N+rPAAAAMFBMVEX///9EREQQEBCYmJh2dnaq\n",
       "qqrc3NxUVFQyMjK6uroiIiLMzMyIiIhmZmbu7u4AAADSWfX9AAAAAXRSTlMAQObYZgAAANxJREFU\n",
       "GNNjYHh75jYDCnjxUeIBw61fAQwMKxlebUCVE+YWYGD4wMDAs4CBpwFVqmrDGQYGBQYGrgIGzm9g\n",
       "kTddq1aAGZV97BtAUvwXGLi/ggS4mx9AdVVv5+sDSeU7MHD/AQkkwmQYqlkPbIRJfQEJiMHtqma4\n",
       "yXwASYpPAEmK/UE1koGcWqtWQZ1RzcBX8ALqjM8gVxQg6WLYwg1xPCvI8XwLkKWYAwTAXmYBixYj\n",
       "SzG4gaxeyvAIHFCvJsCkJIGYFxRCb32qwQJsvdCgnPEJqIMPJfBYK6AuhAIAynxBe6QeIUQAAAAA\n",
       "SUVORK5CYII=\n",
       "\" style=\"display:inline;vertical-align:middle;\" /></a></span></td></tr>\n",
       "<tr><td>&nbsp;</td><td colspan=4 style-\"text-align:left\"><a class=\"ProveItLink\" href=\"../../../../../number/sets/integer/_proofs_/zeroInNats.ipynb\">proveit.number.sets.integer.zeroInNats</a></td></tr></table>"
      ],
      "text/plain": [
       "<proveit._core_.proof._ShowProof at 0x7f94ea950a90>"
      ]
     },
     "execution_count": 1,
     "metadata": {},
     "output_type": "execute_result"
    }
   ],
   "source": [
    "import proveit\n",
    "%show_proof"
   ]
  },
  {
   "cell_type": "code",
   "execution_count": null,
   "metadata": {},
   "outputs": [],
   "source": []
  }
 ],
 "metadata": {
  "kernelspec": {
   "display_name": "Python 3",
   "language": "python",
   "name": "python3"
  }
 },
 "nbformat": 4,
 "nbformat_minor": 0
}
