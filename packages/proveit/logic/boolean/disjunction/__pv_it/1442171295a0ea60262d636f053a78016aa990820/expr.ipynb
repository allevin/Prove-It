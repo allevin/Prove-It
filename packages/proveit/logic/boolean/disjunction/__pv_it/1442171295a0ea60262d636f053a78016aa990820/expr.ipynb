{
 "cells": [
  {
   "cell_type": "markdown",
   "metadata": {},
   "source": [
    "Expression of type <a class=\"ProveItLink\" href=\"../../../../../../../doc/html/api/proveit.logic.Set.html\">Set</a>\n",
    "=======================\n",
    "# from context <a class=\"ProveItLink\" href=\"../../_context_.ipynb\">proveit.logic.boolean.disjunction</a>"
   ]
  },
  {
   "cell_type": "code",
   "execution_count": 1,
   "metadata": {},
   "outputs": [],
   "source": [
    "# import Expression classes needed to build the expression\n",
    "from proveit._common_ import D\n",
    "from proveit.logic import Booleans, InSet, Set"
   ]
  },
  {
   "cell_type": "code",
   "execution_count": 2,
   "metadata": {},
   "outputs": [
    {
     "data": {
      "text/html": [
       "<strong id=\"expr\">expr:</strong> <a class=\"ProveItLink\" href=\"expr.ipynb\"><img src=\"data:image/png;base64,iVBORw0KGgoAAAANSUhEUgAAAEsAAAAVBAMAAAD85A5eAAAAMFBMVEX////c3NxERESqqqpUVFS6\n",
       "urrMzMwyMjIQEBCIiIh2dnYiIiLu7u5mZmaYmJgAAABXZE4RAAAAAXRSTlMAQObYZgAAAUNJREFU\n",
       "KM9jYGDgu8eAD7CtEgBRPLsY8AO2ZhDJ+QFE+H9xcVdDlV7+qb5ikwGQcR3E42oAkfwFDAz2Bqjq\n",
       "FCJ5alYB6RUIZfkLGBh4/6ArY5jKjqpsfgDQET/BsjzTd+8ugCqzYzmAokwfiBm/gJWlv0EyTQjV\n",
       "tE8gL4GVMeogLGXbpwNTxguyAGwf3y8Qn0kArix6/48JQPo9iJMRAAqQb0CC5SuIfwjZCzONgDT7\n",
       "BQaGlDawEaDA4wBbH7F7N8ILTKzAEGBQfwAUTgAFmwLI8AcgyRRk05gYgBLcIKUsIJ35IDc0gSVP\n",
       "YygDu41rAyjYgEYy1YAlWR4gKwNZiggQYLCx1UIkebYiKXs7CSnceC79d3HRTYDKil+DR712iwFq\n",
       "8CIDk2qIT2EAhzJ0AFbGR1AZOL3x7CSUelvBFN9iwnkBAONjWa8tqJFhAAAAAElFTkSuQmCC\n",
       "\" style=\"display:inline;vertical-align:middle;\" /></a><br>"
      ],
      "text/plain": [
       "expr: {D in BOOLEANS}"
      ]
     },
     "execution_count": 2,
     "metadata": {},
     "output_type": "execute_result"
    }
   ],
   "source": [
    "# build up the expression from sub-expressions\n",
    "expr = Set(InSet(D, Booleans))"
   ]
  },
  {
   "cell_type": "code",
   "execution_count": 3,
   "metadata": {},
   "outputs": [
    {
     "name": "stdout",
     "output_type": "stream",
     "text": [
      "Passed sanity check: built 'expr' is the same as the stored Expression.\n"
     ]
    }
   ],
   "source": [
    "# check that the built expression is the same as the stored expression\n",
    "%check_expr"
   ]
  },
  {
   "cell_type": "code",
   "execution_count": 4,
   "metadata": {},
   "outputs": [
    {
     "data": {
      "text/html": [
       "<table><tr><th>&nbsp;</th><th>core type</th><th>sub-expressions</th><th>expression</th></tr>\n",
       "<tr><td>0</td><td>Operation</td><td>operator:&nbsp;1<br>operands:&nbsp;2<br></td><td><a class=\"ProveItLink\" href=\"expr.ipynb\"><img src=\"data:image/png;base64,iVBORw0KGgoAAAANSUhEUgAAAEsAAAAVBAMAAAD85A5eAAAAMFBMVEX////c3NxERESqqqpUVFS6\n",
       "urrMzMwyMjIQEBCIiIh2dnYiIiLu7u5mZmaYmJgAAABXZE4RAAAAAXRSTlMAQObYZgAAAUNJREFU\n",
       "KM9jYGDgu8eAD7CtEgBRPLsY8AO2ZhDJ+QFE+H9xcVdDlV7+qb5ikwGQcR3E42oAkfwFDAz2Bqjq\n",
       "FCJ5alYB6RUIZfkLGBh4/6ArY5jKjqpsfgDQET/BsjzTd+8ugCqzYzmAokwfiBm/gJWlv0EyTQjV\n",
       "tE8gL4GVMeogLGXbpwNTxguyAGwf3y8Qn0kArix6/48JQPo9iJMRAAqQb0CC5SuIfwjZCzONgDT7\n",
       "BQaGlDawEaDA4wBbH7F7N8ILTKzAEGBQfwAUTgAFmwLI8AcgyRRk05gYgBLcIKUsIJ35IDc0gSVP\n",
       "YygDu41rAyjYgEYy1YAlWR4gKwNZiggQYLCx1UIkebYiKXs7CSnceC79d3HRTYDKil+DR712iwFq\n",
       "8CIDk2qIT2EAhzJ0AFbGR1AZOL3x7CSUelvBFN9iwnkBAONjWa8tqJFhAAAAAElFTkSuQmCC\n",
       "\" style=\"display:inline;vertical-align:middle;\" /></a></td></tr>\n",
       "<tr><td>1</td><td>Literal</td><td></td><td><a class=\"ProveItLink\" href=\"../../../../set_theory/enumeration/__pv_it/07381ed5b23806e8d7914b78cb6667769e3708dd0/expr.ipynb\"><img src=\"data:image/png;base64,iVBORw0KGgoAAAANSUhEUgAAAB4AAAAOBAMAAADKyLEKAAAAMFBMVEX///8iIiIQEBCIiIjMzMzc\n",
       "3Nyqqqp2dnZEREQyMjK6urru7u5mZmZUVFSYmJgAAACI6eGPAAAAAXRSTlMAQObYZgAAALRJREFU\n",
       "CNdjYGDgu3Nm3wIGBJjHwN0PZW5yYGDgLWBgyITy8zcwMMQDxZyh/INAvD6BgcEFypcB4vjPDiBm\n",
       "TPFRrhs/LjMwMP//38rAwCbKEMPA9gEkE3fp0waG+AUMRxh4JkC01T9guPTOOICBEWgVH5C//wHD\n",
       "H5D4fqCz9oCMDGD4DLaegRXslLMMDMpAgxlOMmQxHDRgYG5gYLBk4D7KcIe7gOHC2rt9QCXsh40Z\n",
       "GCKMGQDRkC8N/Ph1XAAAAABJRU5ErkJggg==\n",
       "\" style=\"display:inline;vertical-align:middle;\" /></a></td></tr>\n",
       "<tr><td>2</td><td>ExprTuple</td><td>3</td><td><a class=\"ProveItLink\" href=\"../16506d4d51f697647c92986ddd98bd1be6da52f70/expr.ipynb\"><img src=\"data:image/png;base64,iVBORw0KGgoAAAANSUhEUgAAAEUAAAAVBAMAAADiLT7tAAAAMFBMVEX////c3NwiIiJERESqqqqY\n",
       "mJh2dnZmZmYQEBDu7u4yMjJUVFTMzMyIiIi6uroAAAAs73DqAAAAAXRSTlMAQObYZgAAAVRJREFU\n",
       "KM9jYCAG8F3AKx0HIk4D8e3/u3cvPoAix7be6leTCQMDO0h4JUjkFwMDyxdUA5j5LsyalsDAsICB\n",
       "gRdkFc83IFE/AV0N7wOggjAGBg6QDO8/IHEe4rC5i5S0oGpYAnYyMMxgYHgF5n8AEvIbQEyepRMQ\n",
       "5jw0ANIODGUgPr8ByBywGuEJCLsOBQM5bAUMSxlg1sQngJiGCPco/e8F0iwLGPpA/PsgD+5/ACQ4\n",
       "DZDdfAXI42tgALmWwR5EdIBDtElJCe5mBoNnQAd+gKj5DMSsX8FO3oBkDoMBM1hNC0jiL5DgANvC\n",
       "qYCuBmiXKSh4/gAJK4iHtqKoAdrFuoAhHRo8pwogUpMeINSw1hqA/f6IgWG6/e/dm2ugUozLD8Di\n",
       "9LPGFiCD6wEDhwBaYmDZBfEXDADjgjWBQPrKhaUN3IATGPUM0vjVcIPcwog/rd5hYAAAEcZe5Rm0\n",
       "yk8AAAAASUVORK5CYII=\n",
       "\" style=\"display:inline;vertical-align:middle;\" /></a></td></tr>\n",
       "<tr><td>3</td><td>Operation</td><td>operator:&nbsp;4<br>operands:&nbsp;5<br></td><td><a class=\"ProveItLink\" href=\"../0763f6d8486998fbf10d5185b725b9bae35309ac0/expr.ipynb\"><img src=\"data:image/png;base64,iVBORw0KGgoAAAANSUhEUgAAADgAAAAPBAMAAABD1xE4AAAAMFBMVEX///8iIiIQEBCYmJjc3Ny6\n",
       "urru7u5mZmZ2dnaqqqrMzMxEREQyMjJUVFSIiIgAAABUCcz6AAAAAXRSTlMAQObYZgAAAONJREFU\n",
       "GNNjYGB4+//u3dMLGJABx/k9fxR3gpl/GBg4f6JIMnCzPsjJaAAyuH4AifoEdEm+gANABt9XILH+\n",
       "AVgw76CgDFSS0+AaiPEBSPhfAIlxHU5A6AzZAGTwg4j1YEnvBISxC60TYCbag2xn2IKwU/C/Hojx\n",
       "HuSN+wFAgm0DsoNegnj7QTwlEMGqKCgIdxDDhggg4zcQM38Gu+cCkk6GDdxAkX9ADhPYQDYBdEm+\n",
       "X0DOHogzL6NIRkC8uaYAIpYYgJBkrtvAkL7/793bVVAxluMLYAH/W+gmAxrgvANxLQQAAJQZSrQa\n",
       "1FaRAAAAAElFTkSuQmCC\n",
       "\" style=\"display:inline;vertical-align:middle;\" /></a></td></tr>\n",
       "<tr><td>4</td><td>Literal</td><td></td><td><a class=\"ProveItLink\" href=\"../../../../set_theory/membership/__pv_it/088cbc857536a28d4119ad9639a84270ccb0545d0/expr.ipynb\"><img src=\"data:image/png;base64,iVBORw0KGgoAAAANSUhEUgAAAAwAAAAMBAMAAACkW0HUAAAALVBMVEX///+qqqpmZmZUVFQQEBC6\n",
       "urpERETc3NyYmJjMzMwiIiIyMjKIiIju7u4AAACYsrA9AAAAAXRSTlMAQObYZgAAADxJREFUCNdj\n",
       "YOA9vWrVBgaG2b0MQMCeCyIZ2ArA1DUwyRCyahVIyWQI7xaEYm4AU7xLIdxqTQgtvGvVBgCkcQ7e\n",
       "geM/tQAAAABJRU5ErkJggg==\n",
       "\" style=\"display:inline;vertical-align:middle;\" /></a></td></tr>\n",
       "<tr><td>5</td><td>ExprTuple</td><td>6, 7</td><td><a class=\"ProveItLink\" href=\"../fb02af353adc6b70afd5cdd94ff64eec2da7b9f60/expr.ipynb\"><img src=\"data:image/png;base64,iVBORw0KGgoAAAANSUhEUgAAADUAAAAVBAMAAAAUZLt1AAAAMFBMVEX////c3NwiIiJERESqqqqY\n",
       "mJh2dnZmZmYQEBDu7u4yMjJUVFTMzMyIiIi6uroAAAAs73DqAAAAAXRSTlMAQObYZgAAAS1JREFU\n",
       "KM9jYMAH+C5gFY4DEaeB+Pb/3bsXHwCLsa23+tVkwsDADuKuBIn8YmBg+QLRwMx3Yda0BAaGBQwM\n",
       "vCAjeb4BifoJMDneB0CJMAYGDpAI7z8gcf4CTI4lYCcDwwwGhldg/gcgIb8Bru+hAZB2YCgD8fkN\n",
       "QPrgcoeCgYaxFTAsZYAZF58AlVP63wukWRYw9IH490EO3v8AbuYVoDl8DQwgVzDYg4gOuB8YDJ4B\n",
       "3f4BIvcZiFm/Iskxg+VaQN77CyQ4DFDlgGaagrz3B0hYAd02AclM1gUM6VDvnSpgYOD8BJFjrTUA\n",
       "++ERA8N0+9+7N9cAhTn7BUBh/VljC5DD9YCBQwA5vpA4wDBjTUCSY0Vi58LiCFOOExgVDNJIckhJ\n",
       "gBtkPCP2NHGHgQEADD5XmfG0utYAAAAASUVORK5CYII=\n",
       "\" style=\"display:inline;vertical-align:middle;\" /></a></td></tr>\n",
       "<tr><td>6</td><td>Variable</td><td></td><td><a class=\"ProveItLink\" href=\"../../../../../__pv_it/185e6d30f167ee2ee5ef3321098dc98e0d77bc590/expr.ipynb\"><img src=\"data:image/png;base64,iVBORw0KGgoAAAANSUhEUgAAABEAAAAOBAMAAAA7w+qHAAAALVBMVEX///8QEBCYmJjc3Ny6urru\n",
       "7u5mZmZ2dnaqqqrMzMxEREQyMjJUVFSIiIgAAABETr/8AAAAAXRSTlMAQObYZgAAAGpJREFUCNdj\n",
       "YGC48+7MmV0TGEDgNQMDxwsQg/M5kMgLABK8T4DEvAtAgusBkLA7ACT4FoDEDsAk9AqAxD2QCecc\n",
       "gMQ6kAGCIOIVEDM9Ahn3FkgwgnTxvgQSqwOgxs1OADLC1r05cyoTyAAAv4Qe+njAWvgAAAAASUVO\n",
       "RK5CYII=\n",
       "\" style=\"display:inline;vertical-align:middle;\" /></a></td></tr>\n",
       "<tr><td>7</td><td>Literal</td><td></td><td><a class=\"ProveItLink\" href=\"../../../__pv_it/46271c8230be96415d662709611f4ed2279d702b0/expr.ipynb\"><img src=\"data:image/png;base64,iVBORw0KGgoAAAANSUhEUgAAAA0AAAAOBAMAAAAGUYvhAAAAMFBMVEX///9mZmbMzMzc3NxUVFSY\n",
       "mJju7u6IiIi6urqqqqoiIiIQEBBEREQyMjJ2dnYAAAAQvcRZAAAAAXRSTlMAQObYZgAAAElJREFU\n",
       "CNdjePvn/u01ExgYGA60s117B6YZKngh9FSWBAjfBsxnWnoMRHet/10AkS+fA6F5OB5AaIYDqDRU\n",
       "PLCGgQFoz6ktExgAgLIl8DFvGtkAAAAASUVORK5CYII=\n",
       "\" style=\"display:inline;vertical-align:middle;\" /></a></td></tr>\n",
       "</table>\n"
      ],
      "text/plain": [
       "0. {D in BOOLEANS}\n",
       "   core type: Operation\n",
       "   operator: 1\n",
       "   operands: 2\n",
       "1. Set\n",
       "   core type: Literal\n",
       "   sub-expressions: \n",
       "2. (D in BOOLEANS)\n",
       "   core type: ExprTuple\n",
       "   sub-expressions: 3\n",
       "3. D in BOOLEANS\n",
       "   core type: Operation\n",
       "   operator: 4\n",
       "   operands: 5\n",
       "4. in\n",
       "   core type: Literal\n",
       "   sub-expressions: \n",
       "5. (D , BOOLEANS)\n",
       "   core type: ExprTuple\n",
       "   sub-expressions: 6, 7\n",
       "6. D\n",
       "   core type: Variable\n",
       "   sub-expressions: \n",
       "7. BOOLEANS\n",
       "   core type: Literal\n",
       "   sub-expressions: "
      ]
     },
     "execution_count": 4,
     "metadata": {},
     "output_type": "execute_result"
    }
   ],
   "source": [
    "# display the expression information\n",
    "expr.exprInfo()"
   ]
  },
  {
   "cell_type": "code",
   "execution_count": null,
   "metadata": {},
   "outputs": [],
   "source": []
  }
 ],
 "metadata": {
  "kernelspec": {
   "display_name": "Python 3",
   "language": "python",
   "name": "python3"
  }
 },
 "nbformat": 4,
 "nbformat_minor": 0
}
