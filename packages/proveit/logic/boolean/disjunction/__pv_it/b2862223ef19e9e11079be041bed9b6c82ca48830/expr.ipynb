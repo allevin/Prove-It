{
 "cells": [
  {
   "cell_type": "markdown",
   "metadata": {},
   "source": [
    "Expression of type <a class=\"ProveItLink\" href=\"../../../../../../../doc/html/api/proveit.logic.InSet.html\">InSet</a>\n",
    "=======================\n",
    "# from context <a class=\"ProveItLink\" href=\"../../_context_.ipynb\">proveit.logic.boolean.disjunction</a>"
   ]
  },
  {
   "cell_type": "code",
   "execution_count": 1,
   "metadata": {},
   "outputs": [],
   "source": [
    "# import Expression classes needed to build the expression\n",
    "from proveit._common_ import A, B\n",
    "from proveit.logic import And, Booleans, InSet, Not"
   ]
  },
  {
   "cell_type": "code",
   "execution_count": 2,
   "metadata": {},
   "outputs": [
    {
     "data": {
      "text/html": [
       "<strong id=\"expr\">expr:</strong> <a class=\"ProveItLink\" href=\"expr.ipynb\"><img src=\"data:image/png;base64,iVBORw0KGgoAAAANSUhEUgAAAKgAAAAVBAMAAAAgMbgsAAAAMFBMVEX////c3NwiIiJERESqqqqY\n",
       "mJh2dnZmZmYQEBDu7u4yMjJUVFTMzMyIiIi6uroAAAAs73DqAAAAAXRSTlMAQObYZgAAAoZJREFU\n",
       "OMu1lE1oE0EUx98m2SZZs9tAPSlSCSitF1doQb3YsxcXBA+CmJvXotCT0lp6UaguPXgIKKsQRA9p\n",
       "inrQiA3t0UNyEDyVrj0UKQiKH2ADrW/ezGRmJ9ujD17mzc4v/5k382YA/ot5Xe4Js2MT+wYpyCAm\n",
       "7KNwZWvotw2q1FRqq73WqwZHDGxo+fzu/AQGL4QrW0Z3RGyFvHVCNV7wAWZjQhxj7qzXrT2qgouZ\n",
       "u4ns7dMoYFeF2DRvNzSgg3inSYjENFE3jqCACoVQHzg8WwYozvHO+jhv72nAJo5frxIiscfPKqeE\n",
       "aC54CzsY7iRm626y7Z/gnQ98iV6kAWfRx0KOcKxUD9VKv/gwg+FMohrCSwE2N6hTjDLU5vU0ewBH\n",
       "zgmEYyOhSn/tcgh1DOu66BPaM7jIjzPIT9HWBloh9DY+nwCBcOyM2tPK/iLAAyDPV5ix9cQwyg7n\n",
       "K0EZsCjxAu7ITUacxGP9AbDUFAhhRV8/qE8+7GG4pxVjqdVaZUyHvlwDeM/a4VhVdRYPx/0tEMK8\n",
       "eZxOHhT42wOiHi4r6ouOi4uhiw4jZf/RRdXNINEsLGC4oIniFmbmZF453AinzNKfUqId3N9DvxLp\n",
       "HzdEJzGcVKIW/tv5jvFVOp8yF4ZsoERZmY5GAiEM3iREt7W6QGtDjY38ld/W2Q9bxtC0nJfKtHQ/\n",
       "TJTUUqxE7Ts+bGG41S+XkYdPwb6wixINKn15Q71+gnBrv9V6SQtvCMcX4nlbPig/x17jbpW5G8bv\n",
       "Hy3AYz93IRWR1zT3jp++fD5SngU2p/HCXoFUxMSkDT59zGpG3wlTkdoBj/RR4UlbMfpWMxVZOUDU\n",
       "6nJPmNs2sWOQggxiZP8AsTG0dLNd5rkAAAAASUVORK5CYII=\n",
       "\" style=\"display:inline;vertical-align:middle;\" /></a><br>"
      ],
      "text/plain": [
       "expr: ([not](A) and [not](B)) in BOOLEANS"
      ]
     },
     "execution_count": 2,
     "metadata": {},
     "output_type": "execute_result"
    }
   ],
   "source": [
    "# build up the expression from sub-expressions\n",
    "expr = InSet(And(Not(A), Not(B)), Booleans)"
   ]
  },
  {
   "cell_type": "code",
   "execution_count": 3,
   "metadata": {},
   "outputs": [
    {
     "name": "stdout",
     "output_type": "stream",
     "text": [
      "Passed sanity check: built 'expr' is the same as the stored Expression.\n"
     ]
    }
   ],
   "source": [
    "# check that the built expression is the same as the stored expression\n",
    "%check_expr"
   ]
  },
  {
   "cell_type": "code",
   "execution_count": 4,
   "metadata": {},
   "outputs": [
    {
     "data": {
      "text/html": [
       "<table><tr><th>&nbsp;</th><th>core type</th><th>sub-expressions</th><th>expression</th></tr>\n",
       "<tr><td>0</td><td>Operation</td><td>operator:&nbsp;1<br>operands:&nbsp;2<br></td><td><a class=\"ProveItLink\" href=\"expr.ipynb\"><img src=\"data:image/png;base64,iVBORw0KGgoAAAANSUhEUgAAAKgAAAAVBAMAAAAgMbgsAAAAMFBMVEX////c3NwiIiJERESqqqqY\n",
       "mJh2dnZmZmYQEBDu7u4yMjJUVFTMzMyIiIi6uroAAAAs73DqAAAAAXRSTlMAQObYZgAAAoZJREFU\n",
       "OMu1lE1oE0EUx98m2SZZs9tAPSlSCSitF1doQb3YsxcXBA+CmJvXotCT0lp6UaguPXgIKKsQRA9p\n",
       "inrQiA3t0UNyEDyVrj0UKQiKH2ADrW/ezGRmJ9ujD17mzc4v/5k382YA/ot5Xe4Js2MT+wYpyCAm\n",
       "7KNwZWvotw2q1FRqq73WqwZHDGxo+fzu/AQGL4QrW0Z3RGyFvHVCNV7wAWZjQhxj7qzXrT2qgouZ\n",
       "u4ns7dMoYFeF2DRvNzSgg3inSYjENFE3jqCACoVQHzg8WwYozvHO+jhv72nAJo5frxIiscfPKqeE\n",
       "aC54CzsY7iRm626y7Z/gnQ98iV6kAWfRx0KOcKxUD9VKv/gwg+FMohrCSwE2N6hTjDLU5vU0ewBH\n",
       "zgmEYyOhSn/tcgh1DOu66BPaM7jIjzPIT9HWBloh9DY+nwCBcOyM2tPK/iLAAyDPV5ix9cQwyg7n\n",
       "K0EZsCjxAu7ITUacxGP9AbDUFAhhRV8/qE8+7GG4pxVjqdVaZUyHvlwDeM/a4VhVdRYPx/0tEMK8\n",
       "eZxOHhT42wOiHi4r6ouOi4uhiw4jZf/RRdXNINEsLGC4oIniFmbmZF453AinzNKfUqId3N9DvxLp\n",
       "HzdEJzGcVKIW/tv5jvFVOp8yF4ZsoERZmY5GAiEM3iREt7W6QGtDjY38ld/W2Q9bxtC0nJfKtHQ/\n",
       "TJTUUqxE7Ts+bGG41S+XkYdPwb6wixINKn15Q71+gnBrv9V6SQtvCMcX4nlbPig/x17jbpW5G8bv\n",
       "Hy3AYz93IRWR1zT3jp++fD5SngU2p/HCXoFUxMSkDT59zGpG3wlTkdoBj/RR4UlbMfpWMxVZOUDU\n",
       "6nJPmNs2sWOQggxiZP8AsTG0dLNd5rkAAAAASUVORK5CYII=\n",
       "\" style=\"display:inline;vertical-align:middle;\" /></a></td></tr>\n",
       "<tr><td>1</td><td>Literal</td><td></td><td><a class=\"ProveItLink\" href=\"../../../../set_theory/membership/__pv_it/088cbc857536a28d4119ad9639a84270ccb0545d0/expr.ipynb\"><img src=\"data:image/png;base64,iVBORw0KGgoAAAANSUhEUgAAAAwAAAAMBAMAAACkW0HUAAAALVBMVEX///+qqqpmZmZUVFQQEBC6\n",
       "urpERETc3NyYmJjMzMwiIiIyMjKIiIju7u4AAACYsrA9AAAAAXRSTlMAQObYZgAAADxJREFUCNdj\n",
       "YOA9vWrVBgaG2b0MQMCeCyIZ2ArA1DUwyRCyahVIyWQI7xaEYm4AU7xLIdxqTQgtvGvVBgCkcQ7e\n",
       "geM/tQAAAABJRU5ErkJggg==\n",
       "\" style=\"display:inline;vertical-align:middle;\" /></a></td></tr>\n",
       "<tr><td>2</td><td>ExprTuple</td><td>3, 4</td><td><a class=\"ProveItLink\" href=\"../14d9c42e411702524d88a381d419cd1180b6e84d0/expr.ipynb\"><img src=\"data:image/png;base64,iVBORw0KGgoAAAANSUhEUgAAAJcAAAAVBAMAAAC5yWGZAAAAMFBMVEX////c3NwiIiJERESqqqqY\n",
       "mJh2dnZmZmYQEBDu7u4yMjJUVFTMzMyIiIi6uroAAAAs73DqAAAAAXRSTlMAQObYZgAAAnlJREFU\n",
       "OMutlD1oFEEUx//3sXe3m7vNgVaKJASUpPKKBIyNV9u4IKQQ1O1SCUEhlZJT0ihoFgsJV4S1SKHF\n",
       "5UQbOTFHUlrcFYKNIWcKEUGIn2AOEt+b2Z2d2yyk8cHb2bf7m//Oe29mgf9qdlf6gBm9OPYNRyDX\n",
       "+PIu8Mg2yG/Hphabkcp6v/WyoZDc2vm9e5NAvk3Bs8AjWyO3gvuUJ0fLi94XKsBCTyEZu1t/4gI+\n",
       "UOpK19Z/liYabiAyJ8ctDegQ3mkqhMRKPVKaoc940iM7vlAGzJoMNifkeF8Dtun9dVchJJZ1XgPL\n",
       "wFdIj6y7zaWdlMFbuSTb14Bz5OOeQnhlnyjzTBXzFM4PdNe75NAwKwLTT4sx72pEHzgxrRAW27hM\n",
       "2rk5rFK4qoutiJrgomyVk6+K0jlaY/tbH05DISQ2dvCQxqyPRzSQ58fY+Ps9jHDRvwgwjZRIsECZ\n",
       "32TiDLXrO/C4qRCR5ntK065hn8J9bTMVW631CrdMPLkKvOFxONyhtCMzVPjSb4WwGCqfaebuITGb\n",
       "luErciLY0LrYMFHGn5hYRogtUrioiVGJ0rUwhywlbJU5zWok1qH6Df0aSFOIUZpTFE5FYimaZe3S\n",
       "/RVR97IURMaJxHibjfgS8bQ0DV/0dzZsVBt1fvs3fLbJl1GItgffE9us+MATiPlDihl3KoLZoXBH\n",
       "tf3Y0lMYF/ZoakNs2fAk2aMKuXXQaj0XC23AXCrzQf85/orT6KFAi2aPmTwrouw2X+4iEbG1mcvy\n",
       "RBvuITIX+8PNIBExtPhG4i+IrR6LLS8R0cRM7snJwAftRSxONRMRbf1DnHGqK33ASu341FM4AvkI\n",
       "/APzqa1k0+yAWAAAAABJRU5ErkJggg==\n",
       "\" style=\"display:inline;vertical-align:middle;\" /></a></td></tr>\n",
       "<tr><td>3</td><td>Operation</td><td>operator:&nbsp;5<br>operands:&nbsp;6<br></td><td><a class=\"ProveItLink\" href=\"../b778e1e5da0f9038b8e547d47ba53f637a892e340/expr.ipynb\"><img src=\"data:image/png;base64,iVBORw0KGgoAAAANSUhEUgAAAG8AAAAVBAMAAAC6Uq30AAAAMFBMVEX////c3NwiIiJERESqqqqY\n",
       "mJh2dnZmZmYQEBDu7u4yMjJUVFTMzMyIiIi6uroAAAAs73DqAAAAAXRSTlMAQObYZgAAAetJREFU\n",
       "OMudVDFIAzEUfW29Vq/tWdBFRSyC4qaIgk52E1zs5OCgXcRJKCpOQiu46KCHkzjIdRDRoVYcb7C4\n",
       "OrSbi6XFSYRCBRW0oP7krl4utxnIJfl57/PyfnLAv5tWlgJKTYbU5cAS+9y7QnfUtyVYpOAkvW2a\n",
       "N3mEijS/cIGuqKv2vMceVd3Zbx8DMjUYQNSlVBklkJKyFud2sCIASgQvFbBAKXSR2J2JAR1ZS+G4\n",
       "vbUnAKq0v5zCMfDiUlquMmcm+Dxct8RohgCYoj6iI5DAlsthfT5JwypfnCDOx1BKQDSB3mkgmMaZ\n",
       "SDzlZ8AcX6xg0/ImKRjcrDwM0dhm4IBSDrLG8tYwkKbhmYPi6LWMJPXrDDFMVr4CR1QdLYtvoVgR\n",
       "07wdY9Zxg8sIs3Khs3UhqOIB8i36TsiGi6hReqNF9Ot25UViJ0WUD07cFYgJgmdbUmep57jUhEMs\n",
       "0XnDb1zqpEP0EUJt0HwRNomREUg6RFbGARKlGLb11IrkP6E+7XJE2GH9bCOYbuXmZYzs6zz29Gd1\n",
       "12EOyswXwfKs/Oxk/D5q8T/Ixo9pXjIBag3tMc9D41dO41Puy473LR47N1poQemFLniJa55nZd01\n",
       "d1N1jyZWtD4P8Vpa+woyIszO55N/HdGijOuXA4/AL+wRdvfV5kdzAAAAAElFTkSuQmCC\n",
       "\" style=\"display:inline;vertical-align:middle;\" /></a></td></tr>\n",
       "<tr><td>4</td><td>Literal</td><td></td><td><a class=\"ProveItLink\" href=\"../../../__pv_it/46271c8230be96415d662709611f4ed2279d702b0/expr.ipynb\"><img src=\"data:image/png;base64,iVBORw0KGgoAAAANSUhEUgAAAA0AAAAOBAMAAAAGUYvhAAAAMFBMVEX///9mZmbMzMzc3NxUVFSY\n",
       "mJju7u6IiIi6urqqqqoiIiIQEBBEREQyMjJ2dnYAAAAQvcRZAAAAAXRSTlMAQObYZgAAAElJREFU\n",
       "CNdjePvn/u01ExgYGA60s117B6YZKngh9FSWBAjfBsxnWnoMRHet/10AkS+fA6F5OB5AaIYDqDRU\n",
       "PLCGgQFoz6ktExgAgLIl8DFvGtkAAAAASUVORK5CYII=\n",
       "\" style=\"display:inline;vertical-align:middle;\" /></a></td></tr>\n",
       "<tr><td>5</td><td>Literal</td><td></td><td><a class=\"ProveItLink\" href=\"../../../conjunction/__pv_it/76b5f4f4c45c0b6a9b59b297fc07dfa9555698f50/expr.ipynb\"><img src=\"data:image/png;base64,iVBORw0KGgoAAAANSUhEUgAAAAwAAAAOBAMAAADpk+DfAAAALVBMVEX///+qqqqYmJh2dnaIiIi6\n",
       "urpUVFQiIiJERETMzMxmZmYyMjLu7u7c3NwAAABvwqPxAAAAAXRSTlMAQObYZgAAAEtJREFUCNdj\n",
       "YGDgPcAAAtwLwNSMGjCV6gIieTawgyhmBS4BIMXOwLsBSKkwMGQCKaC6aQwMjEBd3BdACMScAVJd\n",
       "wJAKolwYAkAUKwAk0guX6efcigAAAABJRU5ErkJggg==\n",
       "\" style=\"display:inline;vertical-align:middle;\" /></a></td></tr>\n",
       "<tr><td>6</td><td>ExprTuple</td><td>7, 8</td><td><a class=\"ProveItLink\" href=\"../00c05ccc47c117964962fd4a31bd37c34eda9df40/expr.ipynb\"><img src=\"data:image/png;base64,iVBORw0KGgoAAAANSUhEUgAAAFEAAAAVBAMAAADMaB9/AAAAMFBMVEX////c3NwiIiJERESqqqqY\n",
       "mJh2dnZmZmYQEBDu7u4yMjJUVFTMzMyIiIi6uroAAAAs73DqAAAAAXRSTlMAQObYZgAAAVdJREFU\n",
       "KM9jYCAe8F0gQlEciDiNInQITQnr/t+7N69jYD8AZK9EkVmPbhqHAQND/QOGBQwMvCiWs+pPQFN5\n",
       "Hih/fgNDGFAPipRIvQCayvtAgfgEhhkMDK9QxC/cf4Cm0gKINSYwMDswlKGEwwT/ADSVvxkYpCwZ\n",
       "GNgKGJYiC88DOwsZ8Py+e10VSLMsYOhjYGBXAoEEIP8Bg3wBREURSEgN6OGPDAyTNgBta2D4B9MM\n",
       "5PLs3r3fAMlAYFAzNwBVfwVKfUBRyQcMigWoKvmBwqzfwCpbkFQ6MDAwNaCqPA/0IfcXsO2mCJWM\n",
       "QJVcHxgYJiCpBAWnPNAe1gUM6TDhAwyzgCTzTwbOT3CPg4OTp2sCOJQewe0S7l/IwGr/q4CzHxFP\n",
       "xf93714FCmKuBwwcApjpEFMIFJusCRiirFgSaC5GqsOhkhMUeNIYwlgyATfIQYzE5I47DAwA/tdW\n",
       "XzreP5oAAAAASUVORK5CYII=\n",
       "\" style=\"display:inline;vertical-align:middle;\" /></a></td></tr>\n",
       "<tr><td>7</td><td>Operation</td><td>operator:&nbsp;10<br>operand:&nbsp;9<br></td><td><a class=\"ProveItLink\" href=\"../feaa1d0e6d92ad9ead8e5ffd1f92697e3912387a0/expr.ipynb\"><img src=\"data:image/png;base64,iVBORw0KGgoAAAANSUhEUgAAABwAAAAOBAMAAADOPWE3AAAAMFBMVEX///8QEBBERES6urqIiIiq\n",
       "qqrc3Nzu7u6YmJgyMjJUVFTMzMx2dnYiIiJmZmYAAADMbjvTAAAAAXRSTlMAQObYZgAAAGNJREFU\n",
       "CNdjYEAA7gsMyIDzAwq39zsyjy3uGzKXheUzMtec9QcSj92A+wsDw9u7QHAHyGVmYPsHldkFwqtW\n",
       "fULiGjAwSCK4rEDqIoKbCqTmw1zLwD4BSOkXwFyk+DOBoen/PABSrhtHsYt+gAAAAABJRU5ErkJg\n",
       "gg==\n",
       "\" style=\"display:inline;vertical-align:middle;\" /></a></td></tr>\n",
       "<tr><td>8</td><td>Operation</td><td>operator:&nbsp;10<br>operand:&nbsp;11<br></td><td><a class=\"ProveItLink\" href=\"../1da4e2fe7c44632f084fa27ea32e26dc689384c20/expr.ipynb\"><img src=\"data:image/png;base64,iVBORw0KGgoAAAANSUhEUgAAAB0AAAAOBAMAAAAh/woJAAAAMFBMVEX///+qqqru7u7c3NyIiIgQ\n",
       "EBC6uroyMjJERESYmJhUVFTMzMx2dnYiIiJmZmYAAADtoHoAAAAAAXRSTlMAQObYZgAAAHpJREFU\n",
       "CNdjYIACzvW/Vq0oY0AA1gYGhvcJCP5+ByBegOD7GzAwzD+A4LcC8VUFBP8XA4N5E4LL/cvF7yaQ\n",
       "fnsXCO4wMLB8ZmDQhRm3i4GBIwAo9hPB5wfKcf5B8PdPYGDg+ojgg6y3L4AZDraeOxxh/Yv/q1aV\n",
       "A7UAAFRxJOZ+1MVPAAAAAElFTkSuQmCC\n",
       "\" style=\"display:inline;vertical-align:middle;\" /></a></td></tr>\n",
       "<tr><td>9</td><td>Variable</td><td></td><td><a class=\"ProveItLink\" href=\"../../../../../__pv_it/2cbe72a7ad6f655694dd697106680215e8489b600/expr.ipynb\"><img src=\"data:image/png;base64,iVBORw0KGgoAAAANSUhEUgAAAA8AAAAOBAMAAAACpFvcAAAALVBMVEX///8QEBBERERUVFS6urqI\n",
       "iIhmZmaqqqrc3Nzu7u6YmJgyMjIiIiLMzMwAAADtIaYWAAAAAXRSTlMAQObYZgAAAFtJREFUCNdj\n",
       "YACBOwxQsA9Kc52bAGG05zVAGAFxDmCaZULdAjBjCsO9ADDDgaEvAUTzGhvbKYCVMDAwbgAxChgY\n",
       "eASANAeQwf0AyJgNxEwvGRia5HYwcOm9TgAA6BoR3jrzwFcAAAAASUVORK5CYII=\n",
       "\" style=\"display:inline;vertical-align:middle;\" /></a></td></tr>\n",
       "<tr><td>10</td><td>Literal</td><td></td><td><a class=\"ProveItLink\" href=\"../../../negation/__pv_it/7bea79645543c2413aa17e787cca04e21046fde60/expr.ipynb\"><img src=\"data:image/png;base64,iVBORw0KGgoAAAANSUhEUgAAAAwAAAAGBAMAAAAFwGKyAAAAFVBMVEX///9UVFTMzMx2dnYiIiJm\n",
       "ZmYAAACWz4ZEAAAAAXRSTlMAQObYZgAAABRJREFUCNdjCHEBAmcGMFDEQzEBAEl+Ai6uYJv/AAAA\n",
       "AElFTkSuQmCC\n",
       "\" style=\"display:inline;vertical-align:middle;\" /></a></td></tr>\n",
       "<tr><td>11</td><td>Variable</td><td></td><td><a class=\"ProveItLink\" href=\"../../../../../__pv_it/077b2ff79244fb4582cbe22c6e3356fa92a52f2f0/expr.ipynb\"><img src=\"data:image/png;base64,iVBORw0KGgoAAAANSUhEUgAAABAAAAAOBAMAAADUAYG5AAAAMFBMVEX///+qqqru7u4iIiJ2dnbc\n",
       "3NyIiIjMzMxmZmYQEBC6uroyMjJERERUVFSYmJgAAADLUcuvAAAAAXRSTlMAQObYZgAAAGpJREFU\n",
       "CNdjYGB4+//u3dMLGIBgDgMDxy8gzf4NiP8CGWxfGRj4vgAZPBMYGJgnARn8FxhY9ygAGfXX0pof\n",
       "gDTlBzAw2YIYJ0EckBBI53sHoBH/gIz7AhBjWH9DjancBLTl/N+7t/cxMAAA3u4f/5xagjYAAAAA\n",
       "SUVORK5CYII=\n",
       "\" style=\"display:inline;vertical-align:middle;\" /></a></td></tr>\n",
       "</table>\n"
      ],
      "text/plain": [
       "0. ([not](A) and [not](B)) in BOOLEANS\n",
       "   core type: Operation\n",
       "   operator: 1\n",
       "   operands: 2\n",
       "1. in\n",
       "   core type: Literal\n",
       "   sub-expressions: \n",
       "2. ([not](A) and [not](B) , BOOLEANS)\n",
       "   core type: ExprTuple\n",
       "   sub-expressions: 3, 4\n",
       "3. [not](A) and [not](B)\n",
       "   core type: Operation\n",
       "   operator: 5\n",
       "   operands: 6\n",
       "4. BOOLEANS\n",
       "   core type: Literal\n",
       "   sub-expressions: \n",
       "5. and\n",
       "   core type: Literal\n",
       "   sub-expressions: \n",
       "6. ([not](A) , [not](B))\n",
       "   core type: ExprTuple\n",
       "   sub-expressions: 7, 8\n",
       "7. [not](A)\n",
       "   core type: Operation\n",
       "   operator: 10\n",
       "   operand: 9\n",
       "8. [not](B)\n",
       "   core type: Operation\n",
       "   operator: 10\n",
       "   operand: 11\n",
       "9. A\n",
       "   core type: Variable\n",
       "   sub-expressions: \n",
       "10. not\n",
       "    core type: Literal\n",
       "    sub-expressions: \n",
       "11. B\n",
       "    core type: Variable\n",
       "    sub-expressions: "
      ]
     },
     "execution_count": 4,
     "metadata": {},
     "output_type": "execute_result"
    }
   ],
   "source": [
    "# display the expression information\n",
    "expr.exprInfo()"
   ]
  },
  {
   "cell_type": "code",
   "execution_count": null,
   "metadata": {},
   "outputs": [],
   "source": []
  }
 ],
 "metadata": {
  "kernelspec": {
   "display_name": "Python 3",
   "language": "python",
   "name": "python3"
  }
 },
 "nbformat": 4,
 "nbformat_minor": 0
}
