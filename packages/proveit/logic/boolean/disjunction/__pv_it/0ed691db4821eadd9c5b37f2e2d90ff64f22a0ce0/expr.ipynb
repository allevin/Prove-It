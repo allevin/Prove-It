{
 "cells": [
  {
   "cell_type": "markdown",
   "metadata": {},
   "source": [
    "Expression of type <a class=\"ProveItLink\" href=\"../../../../../../../doc/html/api/proveit.Lambda.html\">Lambda</a>\n",
    "=======================\n",
    "# from context <a class=\"ProveItLink\" href=\"../../_context_.ipynb\">proveit.logic.boolean.disjunction</a>"
   ]
  },
  {
   "cell_type": "code",
   "execution_count": 1,
   "metadata": {},
   "outputs": [],
   "source": [
    "# import Expression classes needed to build the expression\n",
    "from proveit import Lambda\n",
    "from proveit._common_ import Px, Py, x, y\n",
    "from proveit.logic import Equals, Forall"
   ]
  },
  {
   "cell_type": "code",
   "execution_count": 2,
   "metadata": {},
   "outputs": [
    {
     "data": {
      "text/html": [
       "<strong id=\"expr\">expr:</strong> <a class=\"ProveItLink\" href=\"expr.ipynb\"><img src=\"data:image/png;base64,iVBORw0KGgoAAAANSUhEUgAAAP8AAAAZCAMAAADJywhnAAAANlBMVEX///+6uroUFBQNDQ0yMjJE\n",
       "RETMzMwQEBAiIiKYmJju7u5mZmaqqqpUVFSIiIh2dnbc3NwAAACltDI1AAAAAXRSTlMAQObYZgAA\n",
       "AxFJREFUWMPtmNmynCAURSURZDzA//9sQEAZ2+GSm6QqvLStxYYlZ3RZHg5MKTXLnxzI7UD/sdXp\n",
       "8hcMo/7zl0Oa7+Tn32TpUPxlaMyv0VO1TO4x/2kEDOaggrJWuUHVeZCkphTkLn9HrlE75R7za5n+\n",
       "rtNMwa4hvm5mrL3eP/9GrrPT9S2/wWkjeBY+sSGmS5tiO7SmxfRd/kauo3bIPY9/6WUKOYsfbCBg\n",
       "VsQ7W3tgfLvL38h11A655/xMm33MywbYhl9l4ytFPevE8iZ/LddVC3JGgzISBPTdQspe/rPYj4l1\n",
       "SPRXbpNHiaDN9X5h7H5+Wtzkr+VE8pwC1stx94RRtmx0kOIV7/CrPXbiXtZFX3B/QsVxCixscUF2\n",
       "t+dwGOs9/kYuqlWwXk5HdUkG/FyZlh/5HfC+Ub1zf6W1O+pzqW0nInIRfkkcVNF2M//VckGthvVy\n",
       "/nRVseefP2gxNova+s//ApvGj20dn8Ki7u7mbdVCPNd7/I1cRKhgo1xYYljiKtR56Nkpn8Zvm0ia\n",
       "Xrr0KMSSR/yNXHaEGWyS29X5gF+Y3stxth8rKgS4yC85v4s2CBSpC1FcJyRyZL1zmzHuCu9kEDPV\n",
       "Tftv5bYjiuewXo6ZEFxgwE+g3/9gE+yCw2LNQrbe+Wvurc2trdY0oJ2QpevcjKJzrR4FR2B2L/61\n",
       "clGtgnVy0jJXJDrJE7ME5oP+T4pwaThyF4B7/OgIvHnzVk/oun9KdYtwrMiy4uYVfysXJtaw7i7H\n",
       "oLnW/VD2sf89/Ei5qKpg4P+2kyKrCVxg161A85kjPsUAIqms6Jq/KxfUatj1ea7OWj+e5ZaN9Pm9\n",
       "mbtHOLP/ZsJgnI3QounT+veT2oT6t5QmoUZp+F141bHC+DRhMEJ3oqjfp0zh9DV/r9fRMIVfKsBr\n",
       "j9+ZmxTO4i4mjMbeZPkSG+sj57z//tH2v/x1/1vGM1N483X+ryd8/MolnfcntqMQfcPfzlFmCr87\n",
       "naK7uuSvJ4y3XL4kIGMWQE/VMrmv8bsT0o/qv3rCv/X99/L7/+/em//+P22NX+qRIy0LEmCFAAAA\n",
       "AElFTkSuQmCC\n",
       "\" style=\"display:inline;vertical-align:middle;\" /></a><br>"
      ],
      "text/plain": [
       "expr: x -> [forall_{y | x = y} P(y)] | P(x)"
      ]
     },
     "execution_count": 2,
     "metadata": {},
     "output_type": "execute_result"
    }
   ],
   "source": [
    "# build up the expression from sub-expressions\n",
    "expr = Lambda(x, Forall([y], Py, conditions = [Equals(x, y)]), conditions = [Px])"
   ]
  },
  {
   "cell_type": "code",
   "execution_count": 3,
   "metadata": {},
   "outputs": [
    {
     "name": "stdout",
     "output_type": "stream",
     "text": [
      "Passed sanity check: built 'expr' is the same as the stored Expression.\n"
     ]
    }
   ],
   "source": [
    "# check that the built expression is the same as the stored expression\n",
    "%check_expr"
   ]
  },
  {
   "cell_type": "code",
   "execution_count": 4,
   "metadata": {},
   "outputs": [
    {
     "data": {
      "text/html": [
       "<table><tr><th>&nbsp;</th><th>core type</th><th>sub-expressions</th><th>expression</th></tr>\n",
       "<tr><td>0</td><td>Lambda</td><td>parameter:&nbsp;12<br>body:&nbsp;1<br>conditions:&nbsp;2<br></td><td><a class=\"ProveItLink\" href=\"expr.ipynb\"><img src=\"data:image/png;base64,iVBORw0KGgoAAAANSUhEUgAAAP8AAAAZCAMAAADJywhnAAAANlBMVEX///+6uroUFBQNDQ0yMjJE\n",
       "RETMzMwQEBAiIiKYmJju7u5mZmaqqqpUVFSIiIh2dnbc3NwAAACltDI1AAAAAXRSTlMAQObYZgAA\n",
       "AxFJREFUWMPtmNmynCAURSURZDzA//9sQEAZ2+GSm6QqvLStxYYlZ3RZHg5MKTXLnxzI7UD/sdXp\n",
       "8hcMo/7zl0Oa7+Tn32TpUPxlaMyv0VO1TO4x/2kEDOaggrJWuUHVeZCkphTkLn9HrlE75R7za5n+\n",
       "rtNMwa4hvm5mrL3eP/9GrrPT9S2/wWkjeBY+sSGmS5tiO7SmxfRd/kauo3bIPY9/6WUKOYsfbCBg\n",
       "VsQ7W3tgfLvL38h11A655/xMm33MywbYhl9l4ytFPevE8iZ/LddVC3JGgzISBPTdQspe/rPYj4l1\n",
       "SPRXbpNHiaDN9X5h7H5+Wtzkr+VE8pwC1stx94RRtmx0kOIV7/CrPXbiXtZFX3B/QsVxCixscUF2\n",
       "t+dwGOs9/kYuqlWwXk5HdUkG/FyZlh/5HfC+Ub1zf6W1O+pzqW0nInIRfkkcVNF2M//VckGthvVy\n",
       "/nRVseefP2gxNova+s//ApvGj20dn8Ki7u7mbdVCPNd7/I1cRKhgo1xYYljiKtR56Nkpn8Zvm0ia\n",
       "Xrr0KMSSR/yNXHaEGWyS29X5gF+Y3stxth8rKgS4yC85v4s2CBSpC1FcJyRyZL1zmzHuCu9kEDPV\n",
       "Tftv5bYjiuewXo6ZEFxgwE+g3/9gE+yCw2LNQrbe+Wvurc2trdY0oJ2QpevcjKJzrR4FR2B2L/61\n",
       "clGtgnVy0jJXJDrJE7ME5oP+T4pwaThyF4B7/OgIvHnzVk/oun9KdYtwrMiy4uYVfysXJtaw7i7H\n",
       "oLnW/VD2sf89/Ei5qKpg4P+2kyKrCVxg161A85kjPsUAIqms6Jq/KxfUatj1ea7OWj+e5ZaN9Pm9\n",
       "mbtHOLP/ZsJgnI3QounT+veT2oT6t5QmoUZp+F141bHC+DRhMEJ3oqjfp0zh9DV/r9fRMIVfKsBr\n",
       "j9+ZmxTO4i4mjMbeZPkSG+sj57z//tH2v/x1/1vGM1N483X+ryd8/MolnfcntqMQfcPfzlFmCr87\n",
       "naK7uuSvJ4y3XL4kIGMWQE/VMrmv8bsT0o/qv3rCv/X99/L7/+/em//+P22NX+qRIy0LEmCFAAAA\n",
       "AElFTkSuQmCC\n",
       "\" style=\"display:inline;vertical-align:middle;\" /></a></td></tr>\n",
       "<tr><td>1</td><td>Operation</td><td>operator:&nbsp;3<br>operand:&nbsp;4<br></td><td><a class=\"ProveItLink\" href=\"../9010771b62b69b44beb99deb27da3f8c345399ea0/expr.ipynb\"><img src=\"data:image/png;base64,iVBORw0KGgoAAAANSUhEUgAAAHsAAAAXBAMAAADZ3y1tAAAAMFBMVEX///8QEBC6urrMzMxUVFRm\n",
       "ZmZERETc3NwyMjKqqqp2dnaIiIiYmJgiIiLu7u4AAAAU9Wx4AAAAAXRSTlMAQObYZgAAAg1JREFU\n",
       "OMulVDtII1EUPZOZTD6TTMJaLDaSwkIQMcI2WymrlTaLbCE2poqiginEVKvTLCy4hC20svA1sj92\n",
       "CSgpTKFY7jYptLEaBW0sDP4/qHvfzLyZrFGYsBcuc7nc89675xwG+L8wG4cEivZ3i7LCiz8+QGsP\n",
       "fX3bOV69cjrBNPCNFwU/l14B6st/pg1ghj6hjA+0fANEKKEVRes3EKblg599wLUTIHZOheTStUed\n",
       "L/n8ez9vV6uAck1Fm9eiay+y2V0/8ARtesy3HAb0FYY5E9G3QC8w6g2lnoV3M8g7vPgERANVbBAV\n",
       "dGIrdMMbep7Ejf7vw5ZuL4DXwQqyZIAkEIe26Qc+JRgjCk2piFsSg+jQNuOmH/gdPDiWTfnUhusG\n",
       "uShQcvSw4NG19l5ntj2DFlv2cwFvphyClrQfj9E3wFEi1+Xd/kvJNCsfKeb14qWcdGW3Y5LyA9Qe\n",
       "Ep2Ttki2n+1AyYOnwoKN0H5Fs/dR7wV8hfIdOmmECweJm7AfAzW7J3JiVmGK5dGDqTPh1Q7Kw/II\n",
       "jYS5zDHTUqOpBt6FtGo9HlJKSj/iULLO/mmb1okmMoKAy9WvYGI23flYghiDUtE5gT/c3kLJcOH6\n",
       "xOK60DIyMFYnYQFxpjLU2C2Us1es0z3vcFIb04iUBzkvLkMqa3vaNuMBow4eckhcdTuRMnsavrTe\n",
       "0G+wp7G/5l9c+X6I/ieA9gAAAABJRU5ErkJggg==\n",
       "\" style=\"display:inline;vertical-align:middle;\" /></a></td></tr>\n",
       "<tr><td>2</td><td>ExprTuple</td><td>5</td><td><a class=\"ProveItLink\" href=\"../f4315632b04d377bf0dc07ec9da14a0e6360a9600/expr.ipynb\"><img src=\"data:image/png;base64,iVBORw0KGgoAAAANSUhEUgAAADwAAAAVBAMAAADocZC/AAAAMFBMVEX////c3NwiIiJERESqqqqY\n",
       "mJh2dnZmZmYQEBDu7u4yMjJUVFTMzMyIiIi6uroAAAAs73DqAAAAAXRSTlMAQObYZgAAAS5JREFU\n",
       "KM+FkjFIw1AQhn9JUxLbaAZxEdFFHFw6KLh1d7GzUyadXDs5KDhLQVBw0cWhi+Di0iW7g5l06NDi\n",
       "JJ2KiEWF6v333msMCB58cN87uNy9POCfmMn+Mr9vwL3Q/e501mJY0ziwtCmfgHcEZ4xpQ8Ru1Xeg\n",
       "JBgz3RMlaPF0LPlIEjWN8FAZMPeGQOVNkkE+5LrSZDp7BVzWJKHNd+ee5Bt7INcsPySorjIRCxN/\n",
       "JVgGtkBOeNq7223qXmJlRMNSCryAjHladxOJhajUtKOi5VfkZRk/y8vHXHvkyjQspWi55ht2bRNi\n",
       "ftxDJOUdEM7vfbiy2HZjE4twiz0D5/Uvd5dip49n+w1Jb5Qg/v0/c7OXyqvPI7dyZmgXHsfELiwL\n",
       "hfLEbi1ThcfkLEqVH6SPVL58pfMpAAAAAElFTkSuQmCC\n",
       "\" style=\"display:inline;vertical-align:middle;\" /></a></td></tr>\n",
       "<tr><td>3</td><td>Literal</td><td></td><td><a class=\"ProveItLink\" href=\"../../../quantification/universal/__pv_it/265f8c02ac1094d56e0e6410a1c1fd3500dc9f540/expr.ipynb\"><img src=\"data:image/png;base64,iVBORw0KGgoAAAANSUhEUgAAAAwAAAAQBAMAAADQT4M0AAAAMFBMVEX///8QEBC6urrMzMxUVFRm\n",
       "ZmZERETc3NwyMjKqqqp2dnaIiIiYmJgiIiLu7u4AAAAU9Wx4AAAAAXRSTlMAQObYZgAAAFhJREFU\n",
       "CNdjeMAABhdAxGmGlSCqj6EMSLInMHAAJVknMPAsLy+vBYp8S0u7BaScGRjSgZQKA18DkOJl4D4A\n",
       "pLgP8IJM4mswARuX7gSmpoKNZWDcAKZ4gCoAgTQTILaSE58AAAAASUVORK5CYII=\n",
       "\" style=\"display:inline;vertical-align:middle;\" /></a></td></tr>\n",
       "<tr><td>4</td><td>Lambda</td><td>parameter:&nbsp;13<br>body:&nbsp;6<br>conditions:&nbsp;7<br></td><td><a class=\"ProveItLink\" href=\"../043bd9c235cad7855601dfa6bf73095e960e7acb0/expr.ipynb\"><img src=\"data:image/png;base64,iVBORw0KGgoAAAANSUhEUgAAAKQAAAAVCAMAAAD//bWjAAAANlBMVEX///8UFBQNDQ2YmJhUVFQy\n",
       "MjIQEBBEREQiIiKqqqrMzMyIiIi6urrc3NxmZmZ2dnbu7u4AAACrLjZHAAAAAXRSTlMAQObYZgAA\n",
       "AcxJREFUSMfFluuSgyAMhdnlToCQ93/ZBbUKqNhpnZU/TDX9cjwJF8b+ZdjAnh4emp/c7yLQ/6ce\n",
       "EEQiDyM2b5zogqJ7ViRjJKdJq1WlTH2MfFikI5y7bJmzubAL4visSKA5H6e4PFE7I1lSz4rUNM+C\n",
       "7LJq5FGUvVdkwliKEygdNpS1hy2ZSL9WCR5gMA5EBgQRLER4XxgyT1MZXy9NGyvSQUs6s6qQfJbR\n",
       "YKw8F5kygRvO1JooymqsW0VFdJbFEq31icgkQtOSAjF/4vZMTfk7jFfnInHJbN14hVbE7JMqvtNq\n",
       "/u+PaYYiX7dkv0zmtx3G0cDJUh593YYN0Za8jtyJk0zU/USGHYrsMCORk/3wzllaEWPpH9jq08mI\n",
       "oWnJ2KOUfTVWhRmVe1oMbrF0/mtduM3jmihLXi1ORDo42iXr3YazPYYPFg4P8/KCdOFkTYx58sQ3\n",
       "IX1rsFFLrrtNgxlsQTbH6GxPuKx4TUwaINIbd6kUdb5d9Gy/ON9gpD8VmeMwIQK/ztcJQ/P5aaD2\n",
       "mPuOxYUoTIHaz0XOt4kGg3CDyJpocg6N3xys01WtxqRbrmo10ebCf3f8B9FhRLhD5PfCWpVtdWF/\n",
       "3sFX2f4AM6UV2IWn7A8AAAAASUVORK5CYII=\n",
       "\" style=\"display:inline;vertical-align:middle;\" /></a></td></tr>\n",
       "<tr><td>5</td><td>Operation</td><td>operator:&nbsp;8<br>operand:&nbsp;12<br></td><td><a class=\"ProveItLink\" href=\"../../../../../__pv_it/8c735c381b4cbf3c87e86ca2468da4e5c976f9b00/expr.ipynb\"><img src=\"data:image/png;base64,iVBORw0KGgoAAAANSUhEUgAAAC4AAAAVBAMAAADLKsFqAAAAMFBMVEX////u7u5mZmaYmJi6urqq\n",
       "qqp2dnbMzMwQEBBEREQyMjLc3NwiIiJUVFSIiIgAAAAeC3ydAAAAAXRSTlMAQObYZgAAAQlJREFU\n",
       "GNNjYCACsDyA0MwOIPLt/7t3z24AsWphCtTB5C8GBs5uEGMhTJwLRLB/Y2BgBWIGvgcwceYEEPcL\n",
       "kPEJyOAQgIkzNgAJzg8MDLxfgQwvhAumAjH/AgYG+QlAhhoQb3u79RHQuCQgsz6Bgf0QSNFioAEJ\n",
       "zIc5DjAwRAG576+lqYGd2cLAwMbA94G1gIHBA8idD7MOaD8jAy/IRIZ6IP7DgBAHOuoBVJz9E0y8\n",
       "FUTsL2AQAJvD9wUmPhnojw3vGfiA4lZA53+EiQMdF28wg2EfmCk0/y/M+z4MDJLPxPIMgMwlyMHM\n",
       "sQElHBhQQgsM2B6gxAs8nKVQ42svjHEbVZwbqp2vgAEAALg9cr1t3EsAAAAASUVORK5CYII=\n",
       "\" style=\"display:inline;vertical-align:middle;\" /></a></td></tr>\n",
       "<tr><td>6</td><td>Operation</td><td>operator:&nbsp;8<br>operand:&nbsp;13<br></td><td><a class=\"ProveItLink\" href=\"../../../../../__pv_it/c5f09cc3a2885e6789037be52d7dfbf4f0376cee0/expr.ipynb\"><img src=\"data:image/png;base64,iVBORw0KGgoAAAANSUhEUgAAAC0AAAAVBAMAAAAgHXppAAAAMFBMVEX////u7u5mZmaYmJi6urqq\n",
       "qqp2dnbMzMwQEBBEREQyMjLc3NwiIiJUVFSIiIgAAAAeC3ydAAAAAXRSTlMAQObYZgAAAR1JREFU\n",
       "GNNjYCACsDyA0CZg8u3/u3fPbgCxaqHyTAVg6hcDA2c3iLEQpnEBiGD/xsDACsQMfA9g4mYggu8L\n",
       "AwPzJyCDQwAmLgEiOD8wMPB+BTK84A7gDAAS/EDT5CcAGWoMDIxJCQz7BRjYFIDc+gQG9kMgVYsZ\n",
       "GNhYPjC8B1oHsvj9tTQ1sDNbGBhKmQ4wzAR6pAHInQ+zDmi/AMcDhn9AJwKtZPjDgBBniBdg/w4R\n",
       "Z/8EE28FYi0GvgaIOSDnQ8BkIF7EwHkB6B2gvZwfYeJJQKzL4G/AAHKn0Py/MO/7ALHkO32g27gc\n",
       "kIOZA+zaHFg4wAFzAgPvAUaQ7Xmo8bKQgSeBMwEYGgtQxfcysL5TAdK8G1DFuaEueM7AAADgEUAs\n",
       "2jlUwQAAAABJRU5ErkJggg==\n",
       "\" style=\"display:inline;vertical-align:middle;\" /></a></td></tr>\n",
       "<tr><td>7</td><td>ExprTuple</td><td>9</td><td><a class=\"ProveItLink\" href=\"../82fb4307ca164a925e64306878b44eca13cccb360/expr.ipynb\"><img src=\"data:image/png;base64,iVBORw0KGgoAAAANSUhEUgAAAD8AAAAVBAMAAAADRiu8AAAAMFBMVEX////c3NwiIiJERESqqqqY\n",
       "mJh2dnZmZmYQEBDu7u4yMjJUVFTMzMyIiIi6uroAAAAs73DqAAAAAXRSTlMAQObYZgAAARFJREFU\n",
       "KM9jYCAI+C7glosDEafxaGY/ACRW4jN+AQMD7wV8CsIYGDgm4FMwg4HhFV4fMDswlAEpsdsi19Fs\n",
       "4kxPYJCfwMBWwLAUyElgVeVQADl6FRhsADLZ+D4w3GdgYFnA0AfkMPB+YDmAasIRdgUGY2AgNTD8\n",
       "A5rAwG2AbvkEjgsMfxkYeD6AFAC9gulX/wk8f8AKWkA8+QMMIN+yK4EB2LgqBt4GsBWmDAysAvcZ\n",
       "eNGDYzkDM9CxrAsY0oGmBVgwyKJbUc3wPoAB5M1HDAyTr03LDUBXMPluvQADA9cDBg4BXKGYBAlq\n",
       "1gSsstwKnCDn5+KMbqYEZqBOTmB0M0hjVcBytw5kDsh+RjwJ4g4DAwALUz0NBgexYgAAAABJRU5E\n",
       "rkJggg==\n",
       "\" style=\"display:inline;vertical-align:middle;\" /></a></td></tr>\n",
       "<tr><td>8</td><td>Variable</td><td></td><td><a class=\"ProveItLink\" href=\"../../../../../__pv_it/6369c6c8083c513ca7161ace249642d040f9327d0/expr.ipynb\"><img src=\"data:image/png;base64,iVBORw0KGgoAAAANSUhEUgAAABAAAAAOBAMAAADUAYG5AAAAMFBMVEX////u7u5mZmaYmJi6urqq\n",
       "qqp2dnbMzMwQEBBEREQyMjLc3NwiIiJUVFSIiIgAAAAeC3ydAAAAAXRSTlMAQObYZgAAAGBJREFU\n",
       "CNdjYGB4+//u3bMbGIDgFwMDZzeQZv/GwMAKxAx8XxgYmD8BGZwfGBh4vwIZ/AsYGOQnABn1CQzs\n",
       "h0Ca3l9LUwPrni/AAAF/oDT7JygDZAwYcH6E0ELz/z4A0QBnpRnRyxnfJQAAAABJRU5ErkJggg==\n",
       "\" style=\"display:inline;vertical-align:middle;\" /></a></td></tr>\n",
       "<tr><td>9</td><td>Operation</td><td>operator:&nbsp;10<br>operands:&nbsp;11<br></td><td><a class=\"ProveItLink\" href=\"../11c10f4bba158f3c28c22f8b0eddbb73cf6480560/expr.ipynb\"><img src=\"data:image/png;base64,iVBORw0KGgoAAAANSUhEUgAAADMAAAANBAMAAAD2/0vEAAAAMFBMVEX///+6uroyMjJERETMzMwQ\n",
       "EBAiIiKYmJju7u5mZmaqqqpUVFSIiIh2dnbc3NwAAAAWgogoAAAAAXRSTlMAQObYZgAAAKRJREFU\n",
       "GNNjYHh7+tXJAwwogOPmBYb3DQwcF9jTWROAfE4lMNgAZPIyfmA4D6QYeD5wOaDq8uJMYDAGambg\n",
       "NmBAAw2sBxj+gBisB9ClGNY3sHwB0e8dGBpAdqWBAdiISQw8AQwM7A/OM/A0oOnSZGAGOmd9gSnD\n",
       "G3QDZzPIFzAwNJ/tvVOALtV8Zv4DBlzgGg5x7gSOKBxSbBeYL+CQ4jozEUgCABYeKl4jfnQmAAAA\n",
       "AElFTkSuQmCC\n",
       "\" style=\"display:inline;vertical-align:middle;\" /></a></td></tr>\n",
       "<tr><td>10</td><td>Literal</td><td></td><td><a class=\"ProveItLink\" href=\"../../../../equality/__pv_it/2fb26078095930560931daa0500ce419a39ea6cd0/expr.ipynb\"><img src=\"data:image/png;base64,iVBORw0KGgoAAAANSUhEUgAAAA4AAAAFBAMAAACHocAhAAAAFVBMVEX///9EREQiIiJUVFQyMjJm\n",
       "ZmYAAADubVkoAAAAAXRSTlMAQObYZgAAABRJREFUCNdjCHEBAWcGXCBICQQUAUpuAwlgGKrkAAAA\n",
       "AElFTkSuQmCC\n",
       "\" style=\"display:inline;vertical-align:middle;\" /></a></td></tr>\n",
       "<tr><td>11</td><td>ExprTuple</td><td>12, 13</td><td><a class=\"ProveItLink\" href=\"../a6a2ac9310c73e21661c7634808321702fb219240/expr.ipynb\"><img src=\"data:image/png;base64,iVBORw0KGgoAAAANSUhEUgAAACwAAAAVBAMAAADP3xFXAAAAMFBMVEX////c3NwiIiJERESqqqqY\n",
       "mJh2dnZmZmYQEBDu7u4yMjJUVFTMzMyIiIi6uroAAAAs73DqAAAAAXRSTlMAQObYZgAAAQtJREFU\n",
       "GNNjYMAB+C6gi7A+ABKnMVXWAPFKTGEuBgbeC5jCrAkMHBMwhTkbGF5hc4YJQxmQFLstch1i1rQy\n",
       "BsafDAzpDEuBehJYVTkUwMIJ7xl4PzAweDH0MTCwAZksB0CiPA5FDMwGDAwvGP4BVTNwG0DtYuhl\n",
       "4Acadx4kzMDAAXMly0+G8wdAwi0gnvwBBog72Rcw3GAAGWIKdL3AfQbeCWAJrgIGayAVBXQLg3+A\n",
       "BYMsA+cnkOoNfF8ZQA58xMAw+dq03AAGzn4BoJ221z8ChdcxcAjAQxjMYlMAex4YLLAAAuJNDDMc\n",
       "gFIXkAIWJKzGYAYkZwGxNEwY5Hbf66CY2QjEjBgBznuAAQAt5DtyKXSr1gAAAABJRU5ErkJggg==\n",
       "\" style=\"display:inline;vertical-align:middle;\" /></a></td></tr>\n",
       "<tr><td>12</td><td>Variable</td><td></td><td><a class=\"ProveItLink\" href=\"../../../../../__pv_it/530be409e3083890784cf1d7b28c9e67e90af9360/expr.ipynb\"><img src=\"data:image/png;base64,iVBORw0KGgoAAAANSUhEUgAAAAsAAAAJBAMAAAAWSsseAAAAKlBMVEX///9ERETMzMwQEBAiIiKY\n",
       "mJju7u5mZmaqqqpUVFSIiIh2dnbc3NwAAAA/vyDhAAAAAXRSTlMAQObYZgAAAENJREFUCNdjYDi9\n",
       "8sTyBQxsG1hdmR0YuBm4LnAoMLAxcAowgADzAjB1VoEhgYH1wFoGrgSG3gBhhlMMDImrs3cFMAAA\n",
       "t0YN+iTRa+sAAAAASUVORK5CYII=\n",
       "\" style=\"display:inline;vertical-align:middle;\" /></a></td></tr>\n",
       "<tr><td>13</td><td>Variable</td><td></td><td><a class=\"ProveItLink\" href=\"../../../../../__pv_it/f8b9edf8e16034727f0aad55bb83e392c3db40d40/expr.ipynb\"><img src=\"data:image/png;base64,iVBORw0KGgoAAAANSUhEUgAAAAsAAAANBAMAAACN24kIAAAAMFBMVEX///+YmJhUVFQyMjIQEBBE\n",
       "REQiIiKqqqrMzMyIiIi6urrc3NxmZmZ2dnbu7u4AAADXeCicAAAAAXRSTlMAQObYZgAAAFhJREFU\n",
       "CNdj4LtzgWH/AwZerg8M8xkY2nkSGEIZGB6wTGD4ycDAUP+A4weQOszA6QCkbBhYFYDUIYb1AkDq\n",
       "6czzGxhA4BoQMyXwuQMptgusF4AU+8xTQBIAUqMVoSp/SLMAAAAASUVORK5CYII=\n",
       "\" style=\"display:inline;vertical-align:middle;\" /></a></td></tr>\n",
       "</table>\n"
      ],
      "text/plain": [
       "0. x -> [forall_{y | x = y} P(y)] | P(x)\n",
       "   core type: Lambda\n",
       "   parameter: 12\n",
       "   body: 1\n",
       "   conditions: 2\\n1. forall_{y | x = y} P(y)\n",
       "   core type: Operation\n",
       "   operator: 3\n",
       "   operand: 4\n",
       "2. (P(x))\n",
       "   core type: ExprTuple\n",
       "   sub-expressions: 5\n",
       "3. forall\n",
       "   core type: Literal\n",
       "   sub-expressions: \n",
       "4. y -> P(y) | x = y\n",
       "   core type: Lambda\n",
       "   parameter: 13\n",
       "   body: 6\n",
       "   conditions: 7\\n5. P(x)\n",
       "   core type: Operation\n",
       "   operator: 8\n",
       "   operand: 12\n",
       "6. P(y)\n",
       "   core type: Operation\n",
       "   operator: 8\n",
       "   operand: 13\n",
       "7. (x = y)\n",
       "   core type: ExprTuple\n",
       "   sub-expressions: 9\n",
       "8. P\n",
       "   core type: Variable\n",
       "   sub-expressions: \n",
       "9. x = y\n",
       "   core type: Operation\n",
       "   operator: 10\n",
       "   operands: 11\n",
       "10. =\n",
       "    core type: Literal\n",
       "    sub-expressions: \n",
       "11. (x , y)\n",
       "    core type: ExprTuple\n",
       "    sub-expressions: 12, 13\n",
       "12. x\n",
       "    core type: Variable\n",
       "    sub-expressions: \n",
       "13. y\n",
       "    core type: Variable\n",
       "    sub-expressions: "
      ]
     },
     "execution_count": 4,
     "metadata": {},
     "output_type": "execute_result"
    }
   ],
   "source": [
    "# display the expression information\n",
    "expr.exprInfo()"
   ]
  },
  {
   "cell_type": "code",
   "execution_count": null,
   "metadata": {},
   "outputs": [],
   "source": []
  }
 ],
 "metadata": {
  "kernelspec": {
   "display_name": "Python 3",
   "language": "python",
   "name": "python3"
  }
 },
 "nbformat": 4,
 "nbformat_minor": 0
}
