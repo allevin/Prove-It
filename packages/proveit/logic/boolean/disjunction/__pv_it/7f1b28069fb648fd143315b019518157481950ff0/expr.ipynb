{
 "cells": [
  {
   "cell_type": "markdown",
   "metadata": {},
   "source": [
    "Expression of type <a class=\"ProveItLink\" href=\"../../../../../../../doc/html/api/proveit.logic.Not.html\">Not</a>\n",
    "=======================\n",
    "# from context <a class=\"ProveItLink\" href=\"../../_context_.ipynb\">proveit.logic.boolean.disjunction</a>"
   ]
  },
  {
   "cell_type": "code",
   "execution_count": 1,
   "metadata": {},
   "outputs": [],
   "source": [
    "# import Expression classes needed to build the expression\n",
    "from proveit.logic import And, Not\n",
    "from proveit.logic.boolean.negation._theorems_ import notFalse"
   ]
  },
  {
   "cell_type": "code",
   "execution_count": 2,
   "metadata": {},
   "outputs": [
    {
     "data": {
      "text/html": [
       "<strong id=\"expr\">expr:</strong> <a class=\"ProveItLink\" href=\"expr.ipynb\"><img src=\"data:image/png;base64,iVBORw0KGgoAAAANSUhEUgAAALAAAAAVBAMAAAAUSHkwAAAAMFBMVEX////c3NxERESqqqqYmJgQ\n",
       "EBDu7u4yMjKIiIi6urpUVFTMzMx2dnYiIiJmZmYAAABjE816AAAAAXRSTlMAQObYZgAAAddJREFU\n",
       "OMu1lT1LA0EQhidfJmc+TBmsBP0B6WyvUyGFQQhYCGnE9goJ2KUUbNKIaQQtg01IaaFXWkkQTOVB\n",
       "ehVs7bydncvOzh4SCwfeu503e0/2dmf3AP49hjIZyh570vD6wsgPjJIo34CdWEZDXWpjwbln7Qz+\n",
       "yTsTRbELdmIZD3gNiJH80uNjmeODTBTnfCjn0tDgFv3tXN9LfQecD40oOpzTkYYGH+tkMtP3QtcB\n",
       "r+wb0ToEfFECYRA428TbiF7mChwwbDJh1ELWSSWWQeCKHlVQ1eZHCviZSc+bz9fOFwaBc/gWFb+m\n",
       "R36aAt5e6DOK4w0KceVREzCxDAJ7OHNVyOhpOozfS/WIQgO+ZMKCXBuw2lSJZRC4/KWuuwB3mH7z\n",
       "LUDgR6a/gmfJzlgKXGgyjkosg09FLiYU6yo9SAE7U5H1GUcllkHgvJpbBc0hZSsFvMOkXKokbOqy\n",
       "sgxebhPVmgIvqfEv5eZN+QaZWkZcHK9R9BIPVs37aHEAXJvCj0vjKIo2AM7ASEebF2VbGmC2NC6q\n",
       "h1u67vRwt3RywJik5YKfxOkbOj0qfaOljk09nEAYPQd8wpQc1PxcV4llYKzKV193wLdM1keCJw35\n",
       "1IU0MvLTVBov9AM1AaCe/bjjGQAAAABJRU5ErkJggg==\n",
       "\" style=\"display:inline;vertical-align:middle;\" /></a><br>"
      ],
      "text/plain": [
       "expr: [not]([not]([not](FALSE) and [not](FALSE)))"
      ]
     },
     "execution_count": 2,
     "metadata": {},
     "output_type": "execute_result"
    }
   ],
   "source": [
    "# build up the expression from sub-expressions\n",
    "expr = Not(Not(And(notFalse.expr, notFalse.expr)))"
   ]
  },
  {
   "cell_type": "code",
   "execution_count": 3,
   "metadata": {},
   "outputs": [
    {
     "name": "stdout",
     "output_type": "stream",
     "text": [
      "Passed sanity check: built 'expr' is the same as the stored Expression.\n"
     ]
    }
   ],
   "source": [
    "# check that the built expression is the same as the stored expression\n",
    "%check_expr"
   ]
  },
  {
   "cell_type": "code",
   "execution_count": 4,
   "metadata": {},
   "outputs": [
    {
     "data": {
      "text/html": [
       "<table><tr><th>&nbsp;</th><th>core type</th><th>sub-expressions</th><th>expression</th></tr>\n",
       "<tr><td>0</td><td>Operation</td><td>operator:&nbsp;6<br>operand:&nbsp;1<br></td><td><a class=\"ProveItLink\" href=\"expr.ipynb\"><img src=\"data:image/png;base64,iVBORw0KGgoAAAANSUhEUgAAALAAAAAVBAMAAAAUSHkwAAAAMFBMVEX////c3NxERESqqqqYmJgQ\n",
       "EBDu7u4yMjKIiIi6urpUVFTMzMx2dnYiIiJmZmYAAABjE816AAAAAXRSTlMAQObYZgAAAddJREFU\n",
       "OMu1lT1LA0EQhidfJmc+TBmsBP0B6WyvUyGFQQhYCGnE9goJ2KUUbNKIaQQtg01IaaFXWkkQTOVB\n",
       "ehVs7bydncvOzh4SCwfeu503e0/2dmf3AP49hjIZyh570vD6wsgPjJIo34CdWEZDXWpjwbln7Qz+\n",
       "yTsTRbELdmIZD3gNiJH80uNjmeODTBTnfCjn0tDgFv3tXN9LfQecD40oOpzTkYYGH+tkMtP3QtcB\n",
       "r+wb0ToEfFECYRA428TbiF7mChwwbDJh1ELWSSWWQeCKHlVQ1eZHCviZSc+bz9fOFwaBc/gWFb+m\n",
       "R36aAt5e6DOK4w0KceVREzCxDAJ7OHNVyOhpOozfS/WIQgO+ZMKCXBuw2lSJZRC4/KWuuwB3mH7z\n",
       "LUDgR6a/gmfJzlgKXGgyjkosg09FLiYU6yo9SAE7U5H1GUcllkHgvJpbBc0hZSsFvMOkXKokbOqy\n",
       "sgxebhPVmgIvqfEv5eZN+QaZWkZcHK9R9BIPVs37aHEAXJvCj0vjKIo2AM7ASEebF2VbGmC2NC6q\n",
       "h1u67vRwt3RywJik5YKfxOkbOj0qfaOljk09nEAYPQd8wpQc1PxcV4llYKzKV193wLdM1keCJw35\n",
       "1IU0MvLTVBov9AM1AaCe/bjjGQAAAABJRU5ErkJggg==\n",
       "\" style=\"display:inline;vertical-align:middle;\" /></a></td></tr>\n",
       "<tr><td>1</td><td>Operation</td><td>operator:&nbsp;6<br>operand:&nbsp;2<br></td><td><a class=\"ProveItLink\" href=\"../26d240c6d349c915128ac6be3b692dedb37728140/expr.ipynb\"><img src=\"data:image/png;base64,iVBORw0KGgoAAAANSUhEUgAAAJIAAAAVBAMAAABf4KrdAAAAMFBMVEX////c3NxERESqqqqYmJgQ\n",
       "EBDu7u4yMjKIiIi6urpUVFTMzMx2dnYiIiJmZmYAAABjE816AAAAAXRSTlMAQObYZgAAAaNJREFU\n",
       "OMu1lL9Lw0AUx1/6wzY2rR2Lk6B/QDfXbip0UATBQegirhmk4JZRcMkiugh1LC6ho4NmdJIi2MlA\n",
       "dhVc3cy993JJ36XQxS98csnL3fd+vTuA/9AtM6c9GbA9Eaj4RKbGiNDqqEcrEA0fc+8Wun4yWrUB\n",
       "ofWET5cbpX+G+c5jbMhoXTLCqc/9xFTWPcOpEhJaR4xwOqWPyYzK6sBwWtkn9Eq6hHQqdbEY83Bv\n",
       "wHCCTYbVCgnp5FC/bpOCXwVOr0y64D1COpVxnE6vRWM7L3DaRr6jRB9qAXxCB9jJxhVogkUzP05G\n",
       "rmpEYeZ0zXCOrPlEljTk1PhRz12AB/z8zWVf6vTMLOU0S1NyCadql5BOOLty0qTWVp+HBU5idqUe\n",
       "IZ0qan2USxmbbRU47TAqwrvtxJAF8lkwUW9TyO92sDAL7CnBSrbwPYrekuGotRunxwnusgRMNvAk\n",
       "ijYALoBIdcAI4WnBnbDxtLSNGvK04FHtm04v4jYKjRqORyy+VahDVwSGhtMZk11bI2Jeq3I264bT\n",
       "PTN/R3ZktSsZsOTtWw+QP54Fg+yeLNTnAAAAAElFTkSuQmCC\n",
       "\" style=\"display:inline;vertical-align:middle;\" /></a></td></tr>\n",
       "<tr><td>2</td><td>Operation</td><td>operator:&nbsp;3<br>operands:&nbsp;4<br></td><td><a class=\"ProveItLink\" href=\"../a7f222f3313cd76c47520efe8869eec12d76c2c00/expr.ipynb\"><img src=\"data:image/png;base64,iVBORw0KGgoAAAANSUhEUgAAAG8AAAAVBAMAAAC6Uq30AAAAMFBMVEX////c3NwiIiJERESqqqqY\n",
       "mJh2dnZmZmYQEBDu7u4yMjJUVFTMzMyIiIi6uroAAAAs73DqAAAAAXRSTlMAQObYZgAAAXRJREFU\n",
       "OMtjYCAb8F1AE2B9gK7kLbpAHIg4jSTACDakBk0ZzwYkjiyIYD8AJFYiKykAkVwwYyZAaK4JSEqO\n",
       "g8kFDAy8FzA0siZANRRA6LsMGBrDGBg4JmBo5GyA8A5rQuhOTI0zGBheMWBoZDCB8PZBrOJbgKmR\n",
       "2YGhDIvGdDDJuYAJTLMnYGpkK2BYikWjF0QygN0B7NUATI0sCxj6gEYqgUACQuMLMMnEwAh2JAcw\n",
       "XotAKtQQGvkaGP4hRxZU43kwGcvAsAdE88MSxGmERp4PeDRqQpXi0NiCRSPYqSxANpcAyKkOmBqB\n",
       "TjXFojEKHCYCEM0MzAGYGlkXQIMeCA6gRcdhEKEACXqo2SjR8Qge0KDAbVJSMmBgWAeOflhq41OA\n",
       "KwEGroaSkjLQOQ8YOAQwMhokyYGDhA9ENGLmxRmIFI0E2NByaBimxly0bAUBs9D4KNkKmhqBhDSG\n",
       "xo1ofMYN6Cq4BeC5HgnwHkBXJ4sucIeBAQAoXFcMoQAiHQAAAABJRU5ErkJggg==\n",
       "\" style=\"display:inline;vertical-align:middle;\" /></a></td></tr>\n",
       "<tr><td>3</td><td>Literal</td><td></td><td><a class=\"ProveItLink\" href=\"../../../conjunction/__pv_it/76b5f4f4c45c0b6a9b59b297fc07dfa9555698f50/expr.ipynb\"><img src=\"data:image/png;base64,iVBORw0KGgoAAAANSUhEUgAAAAwAAAAOBAMAAADpk+DfAAAALVBMVEX///+qqqqYmJh2dnaIiIi6\n",
       "urpUVFQiIiJERETMzMxmZmYyMjLu7u7c3NwAAABvwqPxAAAAAXRSTlMAQObYZgAAAEtJREFUCNdj\n",
       "YGDgPcAAAtwLwNSMGjCV6gIieTawgyhmBS4BIMXOwLsBSKkwMGQCKaC6aQwMjEBd3BdACMScAVJd\n",
       "wJAKolwYAkAUKwAk0guX6efcigAAAABJRU5ErkJggg==\n",
       "\" style=\"display:inline;vertical-align:middle;\" /></a></td></tr>\n",
       "<tr><td>4</td><td>ExprTuple</td><td>5, 5</td><td><a class=\"ProveItLink\" href=\"../3844cc1d435fd1c8eda691d2684bfc7396e824c10/expr.ipynb\"><img src=\"data:image/png;base64,iVBORw0KGgoAAAANSUhEUgAAAFEAAAAVBAMAAADMaB9/AAAAMFBMVEX////c3NwiIiJERESqqqqY\n",
       "mJh2dnZmZmYQEBDu7u4yMjJUVFTMzMyIiIi6uroAAAAs73DqAAAAAXRSTlMAQObYZgAAANBJREFU\n",
       "KM9jYCAe8F0gQlEciDiNJMCIRZcsiGA/ACRWIonyFGCqPA4mFzAw8F4gSmUYAwPHBKJUzmBgeMVA\n",
       "lEpmB4Yy4lSyFTAsJU4lywKGPmAQKIFAAorKIpCQGkIlXwPDP5hxGzDNPI1QyfOBBJUtxKkE2m6K\n",
       "qXICFpWsCxjSYcIHYCo5P8GDAiWUHsHtAgVBk5KSAWe/AANSEGgoKSkzMHA9YOAQwEyHmEKg2GRN\n",
       "wBBlxZJAc9FSHU6VnMBUxyCNIYwlOXML4EjnGOAOAwMABJ03NxJILyYAAAAASUVORK5CYII=\n",
       "\" style=\"display:inline;vertical-align:middle;\" /></a></td></tr>\n",
       "<tr><td>5</td><td>Operation</td><td>operator:&nbsp;6<br>operand:&nbsp;7<br></td><td><a class=\"ProveItLink\" href=\"../../../negation/__pv_it/01165fd25131c0df966b8e8c1626e275fd04f3050/expr.ipynb\"><img src=\"data:image/png;base64,iVBORw0KGgoAAAANSUhEUgAAABwAAAAOBAMAAADOPWE3AAAAIVBMVEX///9EREQQEBCIiIjc3NxU\n",
       "VFTMzMx2dnYiIiJmZmYAAADo3DW1AAAAAXRSTlMAQObYZgAAACVJREFUCNdjYIADZwYUkEll7owO\n",
       "IGhHlU2lgMuGbhHQgqaOjkYA4xoNxELsxwMAAAAASUVORK5CYII=\n",
       "\" style=\"display:inline;vertical-align:middle;\" /></a></td></tr>\n",
       "<tr><td>6</td><td>Literal</td><td></td><td><a class=\"ProveItLink\" href=\"../../../negation/__pv_it/7bea79645543c2413aa17e787cca04e21046fde60/expr.ipynb\"><img src=\"data:image/png;base64,iVBORw0KGgoAAAANSUhEUgAAAAwAAAAGBAMAAAAFwGKyAAAAFVBMVEX///9UVFTMzMx2dnYiIiJm\n",
       "ZmYAAACWz4ZEAAAAAXRSTlMAQObYZgAAABRJREFUCNdjCHEBAmcGMFDEQzEBAEl+Ai6uYJv/AAAA\n",
       "AElFTkSuQmCC\n",
       "\" style=\"display:inline;vertical-align:middle;\" /></a></td></tr>\n",
       "<tr><td>7</td><td>Literal</td><td></td><td><a class=\"ProveItLink\" href=\"../../../__pv_it/8f1f7fac882de28c72b62ab80a1700b6d8fd066b0/expr.ipynb\"><img src=\"data:image/png;base64,iVBORw0KGgoAAAANSUhEUgAAAA4AAAAOBAMAAADtZjDiAAAAG1BMVEX///9EREQQEBAiIiJmZmbM\n",
       "zMyIiIjc3NwAAACryk5kAAAAAXRSTlMAQObYZgAAABlJREFUCNdjYGBgKGOAgBBa0s7GxkbGxoYA\n",
       "FMUF2aBfHgoAAAAASUVORK5CYII=\n",
       "\" style=\"display:inline;vertical-align:middle;\" /></a></td></tr>\n",
       "</table>\n"
      ],
      "text/plain": [
       "0. [not]([not]([not](FALSE) and [not](FALSE)))\n",
       "   core type: Operation\n",
       "   operator: 6\n",
       "   operand: 1\n",
       "1. [not]([not](FALSE) and [not](FALSE))\n",
       "   core type: Operation\n",
       "   operator: 6\n",
       "   operand: 2\n",
       "2. [not](FALSE) and [not](FALSE)\n",
       "   core type: Operation\n",
       "   operator: 3\n",
       "   operands: 4\n",
       "3. and\n",
       "   core type: Literal\n",
       "   sub-expressions: \n",
       "4. ([not](FALSE) , [not](FALSE))\n",
       "   core type: ExprTuple\n",
       "   sub-expressions: 5, 5\n",
       "5. [not](FALSE)\n",
       "   core type: Operation\n",
       "   operator: 6\n",
       "   operand: 7\n",
       "6. not\n",
       "   core type: Literal\n",
       "   sub-expressions: \n",
       "7. FALSE\n",
       "   core type: Literal\n",
       "   sub-expressions: "
      ]
     },
     "execution_count": 4,
     "metadata": {},
     "output_type": "execute_result"
    }
   ],
   "source": [
    "# display the expression information\n",
    "expr.exprInfo()"
   ]
  },
  {
   "cell_type": "code",
   "execution_count": null,
   "metadata": {},
   "outputs": [],
   "source": []
  }
 ],
 "metadata": {
  "kernelspec": {
   "display_name": "Python 3",
   "language": "python",
   "name": "python3"
  }
 },
 "nbformat": 4,
 "nbformat_minor": 0
}
