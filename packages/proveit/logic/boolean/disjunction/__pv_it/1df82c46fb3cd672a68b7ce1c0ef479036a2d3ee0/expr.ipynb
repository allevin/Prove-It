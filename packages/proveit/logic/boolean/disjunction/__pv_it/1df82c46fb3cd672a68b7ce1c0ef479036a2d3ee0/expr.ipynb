{
 "cells": [
  {
   "cell_type": "markdown",
   "metadata": {},
   "source": [
    "Expression of type <a class=\"ProveItLink\" href=\"../../../../../../../doc/html/api/proveit.logic.Equals.html\">Equals</a>\n",
    "=======================\n",
    "# from context <a class=\"ProveItLink\" href=\"../../_context_.ipynb\">proveit.logic.boolean.disjunction</a>"
   ]
  },
  {
   "cell_type": "code",
   "execution_count": 1,
   "metadata": {},
   "outputs": [],
   "source": [
    "# import Expression classes needed to build the expression\n",
    "from proveit._common_ import A\n",
    "from proveit.logic import Equals, FALSE, Or"
   ]
  },
  {
   "cell_type": "code",
   "execution_count": 2,
   "metadata": {},
   "outputs": [
    {
     "data": {
      "text/html": [
       "<strong id=\"expr\">expr:</strong> <a class=\"ProveItLink\" href=\"expr.ipynb\"><img src=\"data:image/png;base64,iVBORw0KGgoAAAANSUhEUgAAAJwAAAAVBAMAAABBKZpuAAAAMFBMVEX///8QEBCYmJhmZmaqqqrc\n",
       "3Nzu7u5ERERUVFS6urp2dnbMzMwyMjIiIiKIiIgAAACFNc/vAAAAAXRSTlMAQObYZgAAAk1JREFU\n",
       "OMutlDFoFEEUQH92b+9ub/fWK4wgREwXlERSWGnhQdqAVwRMIbqWQoootpI0gQspPBsrlcNUNnKk\n",
       "yKWRHEoEMeClEUIQtxc1GEwIBJP///zd7Mwmh4UD+2f+/pk38+f/+QD/t/34JIPhTe5eJpZL2clu\n",
       "1AtlNQBeJxqPvFkee10Au5VZsELCOZH5Fr/rBHFZbSmcH7Lmb6PoZNZ84K1GldJgJTZ9plWEK9Ip\n",
       "gkjhfirjyC6KyyYtiNK4hdR8sL7hOawmQrxpVMuhwp1jozP2B+U9E9cXpnFtEl/ENHGjBpCvEGQN\n",
       "1TF1d65yMAj2URaqBu45pHE+AnIyhugX+f6IIIgiJOHsJhuf5X6jLI0auGsajlCE5JCHNwexWyQI\n",
       "OkoOE86nn5BveH9pPh3VXufGAX+n4cjRtgzvwyrd6zhB8IaLkjJ9HC4XnB3qKsbpzus4DMM8xFG+\n",
       "S3+fMqQLU5J3Zxi3Uq/v0bptA7ev48qQl1zy6vUnFNBVhlyFVxoOxcA/4OxqaVCuDv3qJLjbeD5x\n",
       "loKZw28jdtb+yo32hrM6zumUZYSrypXE2eJSJLgCbTchSW6Zz+KhjoOFK8KtyjsaZoj3OBQc5QZf\n",
       "yEx4QqIsGri2JDHdfGE3ThSA93EJcLvgPDiowdAh/vIbBu6F8v2C+A6+At+6uAbWzAEqHxVuOako\n",
       "/anV2UdW03Uv1HX1yNIFKv3s32QKWrN37SxFJs4/3jB/SoE6vU1lyqczm+jFWmb+ZG/cHBb3rbjK\n",
       "q+J+JzF+z853ehb3oAVH2gOdkUKEjIAAAAAASUVORK5CYII=\n",
       "\" style=\"display:inline;vertical-align:middle;\" /></a><br>"
      ],
      "text/plain": [
       "expr: [or](A) = (FALSE or A)"
      ]
     },
     "execution_count": 2,
     "metadata": {},
     "output_type": "execute_result"
    }
   ],
   "source": [
    "# build up the expression from sub-expressions\n",
    "expr = Equals(Or(A), Or(FALSE, A))"
   ]
  },
  {
   "cell_type": "code",
   "execution_count": 3,
   "metadata": {},
   "outputs": [
    {
     "name": "stdout",
     "output_type": "stream",
     "text": [
      "Passed sanity check: built 'expr' is the same as the stored Expression.\n"
     ]
    }
   ],
   "source": [
    "# check that the built expression is the same as the stored expression\n",
    "%check_expr"
   ]
  },
  {
   "cell_type": "code",
   "execution_count": 4,
   "metadata": {},
   "outputs": [
    {
     "data": {
      "text/html": [
       "<table><tr><th>&nbsp;</th><th>core type</th><th>sub-expressions</th><th>expression</th></tr>\n",
       "<tr><td>0</td><td>Operation</td><td>operator:&nbsp;1<br>operands:&nbsp;2<br></td><td><a class=\"ProveItLink\" href=\"expr.ipynb\"><img src=\"data:image/png;base64,iVBORw0KGgoAAAANSUhEUgAAAJwAAAAVBAMAAABBKZpuAAAAMFBMVEX///8QEBCYmJhmZmaqqqrc\n",
       "3Nzu7u5ERERUVFS6urp2dnbMzMwyMjIiIiKIiIgAAACFNc/vAAAAAXRSTlMAQObYZgAAAk1JREFU\n",
       "OMutlDFoFEEUQH92b+9ub/fWK4wgREwXlERSWGnhQdqAVwRMIbqWQoootpI0gQspPBsrlcNUNnKk\n",
       "yKWRHEoEMeClEUIQtxc1GEwIBJP///zd7Mwmh4UD+2f+/pk38+f/+QD/t/34JIPhTe5eJpZL2clu\n",
       "1AtlNQBeJxqPvFkee10Au5VZsELCOZH5Fr/rBHFZbSmcH7Lmb6PoZNZ84K1GldJgJTZ9plWEK9Ip\n",
       "gkjhfirjyC6KyyYtiNK4hdR8sL7hOawmQrxpVMuhwp1jozP2B+U9E9cXpnFtEl/ENHGjBpCvEGQN\n",
       "1TF1d65yMAj2URaqBu45pHE+AnIyhugX+f6IIIgiJOHsJhuf5X6jLI0auGsajlCE5JCHNwexWyQI\n",
       "OkoOE86nn5BveH9pPh3VXufGAX+n4cjRtgzvwyrd6zhB8IaLkjJ9HC4XnB3qKsbpzus4DMM8xFG+\n",
       "S3+fMqQLU5J3Zxi3Uq/v0bptA7ev48qQl1zy6vUnFNBVhlyFVxoOxcA/4OxqaVCuDv3qJLjbeD5x\n",
       "loKZw28jdtb+yo32hrM6zumUZYSrypXE2eJSJLgCbTchSW6Zz+KhjoOFK8KtyjsaZoj3OBQc5QZf\n",
       "yEx4QqIsGri2JDHdfGE3ThSA93EJcLvgPDiowdAh/vIbBu6F8v2C+A6+At+6uAbWzAEqHxVuOako\n",
       "/anV2UdW03Uv1HX1yNIFKv3s32QKWrN37SxFJs4/3jB/SoE6vU1lyqczm+jFWmb+ZG/cHBb3rbjK\n",
       "q+J+JzF+z853ehb3oAVH2gOdkUKEjIAAAAAASUVORK5CYII=\n",
       "\" style=\"display:inline;vertical-align:middle;\" /></a></td></tr>\n",
       "<tr><td>1</td><td>Literal</td><td></td><td><a class=\"ProveItLink\" href=\"../../../../equality/__pv_it/2fb26078095930560931daa0500ce419a39ea6cd0/expr.ipynb\"><img src=\"data:image/png;base64,iVBORw0KGgoAAAANSUhEUgAAAA4AAAAFBAMAAACHocAhAAAAFVBMVEX///9EREQiIiJUVFQyMjJm\n",
       "ZmYAAADubVkoAAAAAXRSTlMAQObYZgAAABRJREFUCNdjCHEBAWcGXCBICQQUAUpuAwlgGKrkAAAA\n",
       "AElFTkSuQmCC\n",
       "\" style=\"display:inline;vertical-align:middle;\" /></a></td></tr>\n",
       "<tr><td>2</td><td>ExprTuple</td><td>3, 4</td><td><a class=\"ProveItLink\" href=\"../c9799fb01e86332031244bf732b97ca30dadaed90/expr.ipynb\"><img src=\"data:image/png;base64,iVBORw0KGgoAAAANSUhEUgAAAIwAAAAVBAMAAABmhxuGAAAAMFBMVEX////c3NwiIiJERESqqqqY\n",
       "mJh2dnZmZmYQEBDu7u4yMjJUVFTMzMyIiIi6uroAAAAs73DqAAAAAXRSTlMAQObYZgAAAkhJREFU\n",
       "OMutlE1oE0EUx/+bZJPNZhMD9qQUw3ppQagUBW/NLeClRcGDUOlFPClBxJNghF70YPdYeihbQYog\n",
       "2p5TtFhEpIcuni0GTyoIVRFpwer7mA3JrqU5ODBvdmbf/Gbem/ce8J9aJcK7p/ppP+rI+LX788og\n",
       "BJt3bQI34oW8YLwVmXg1oLDeoz78L8Yr6neoP2GMbjcYNxAFd4dE2LPjjbm+yJj/nDWBcsSYNV7Z\n",
       "NphtVbiwS+JSGlNiAm8Tg8boTHsGTsCYDV4aNZj7omA1vpGcT2O80yQyemMM3a0CxRa+gDEuTXJN\n",
       "xVTUkHJ5n2S2nsJgiXrDfEcfeMsZ3BYMIRglmMKMKHzO/WSnN9OYhkHxkcHkFA3X8FgwZBAbJhiX\n",
       "f6DY8X7TkAvTGDJIDKO2iC120nk8VAy59YXBOB19D+sXD600htxb0gCjFz7B1/2EfcVkUAwN5oio\n",
       "bLbbP9ifO2kMalgw3m63X/K9tmJMoZ6f6sOQeHAQ5haudkPICQUzqxgrzMRR7PDj5KiPHGAUjtF9\n",
       "pJFmpiVGnVUM1qZjTJZdPGQC1ObDggSm9FqDz6qbWL9Mb6WYjdEYw2/MjsJEYCbfExhvXMHsoeyu\n",
       "PPhHg3GbMaZSg3Vur4qLf5ZpmVaKcxScN31/xPdPKmdZ5NG5JdgTe7TxGZyqYrygm+H3ehJAkqFS\n",
       "TaT12/4pJQOlVbJQ9Kbjdcm/QwpOPjKFog9jCoWcEw6CYR8dT2Gsla5CScyJDsGs8iYqoqdMlPud\n",
       "RJl7P0gRLa/jLz2jm0l5GBqIAAAAAElFTkSuQmCC\n",
       "\" style=\"display:inline;vertical-align:middle;\" /></a></td></tr>\n",
       "<tr><td>3</td><td>Operation</td><td>operator:&nbsp;6<br>operands:&nbsp;5<br></td><td><a class=\"ProveItLink\" href=\"../e12620ca8f0cea881d1734b7283761972f4403cf0/expr.ipynb\"><img src=\"data:image/png;base64,iVBORw0KGgoAAAANSUhEUgAAADkAAAAVBAMAAAAOWFv7AAAAMFBMVEX///8QEBCYmJhmZmaqqqrc\n",
       "3Nzu7u5ERERUVFS6urp2dnbMzMwyMjIiIiKIiIgAAACFNc/vAAAAAXRSTlMAQObYZgAAATZJREFU\n",
       "KM9jYMAL3p6GMnRugql5cBlNIF4J54FZ3A1gNvcFBgbmDSAxTjB/A0SWJwHM4/kAJA6AZDmAahj4\n",
       "HkBk30HM0f0GJLRAstwFQBZvAkRWDCzJ6vwVSCaCbTsKZDlD7OU8AJbl4/sJJNkdQGJAGZAKkCzz\n",
       "ArDsNJZPQJLLACQGNBVkOkiWRwEkyTaB+x+QYjkAEgO6iGMCRJZxAkiWk4H1M4gSAItdYMiB+pcf\n",
       "LLujo+M7yNMfwGImDItQZIGEDEI2BqgbarIDyD4gvogwmWPTA6gsO8hVIUB8HoiZwK5i4K5NgMoC\n",
       "PcHABvJzfQLMRwwMh2GxwHmBgbXwTwCD+n+gEM8EiOw2eByJIkVuIkYMaiHJrsOQhcYgOMQOYMiy\n",
       "NsD5HAHAlHMbloQgKScOLvuagQEA5phUhgAg/JYAAAAASUVORK5CYII=\n",
       "\" style=\"display:inline;vertical-align:middle;\" /></a></td></tr>\n",
       "<tr><td>4</td><td>Operation</td><td>operator:&nbsp;6<br>operands:&nbsp;7<br></td><td><a class=\"ProveItLink\" href=\"../7c3805110dd5902fbb94127b4654831b37e5f58a0/expr.ipynb\"><img src=\"data:image/png;base64,iVBORw0KGgoAAAANSUhEUgAAADYAAAAPBAMAAABdHiGLAAAAMFBMVEX///+YmJh2dnaqqqoyMjLu\n",
       "7u5UVFS6urpEREQQEBAiIiJmZmbMzMyIiIjc3NwAAAD1oEhMAAAAAXRSTlMAQObYZgAAALNJREFU\n",
       "GNNjYGBgeMuABfAsAFOnITx2MHkAKsfyAVmODSTMewEqJ/UVWY6nAUhwBUA4fNb/kOUY/IDYGsrm\n",
       "5f2OImcNlQeBUuaPKHJA88DmAgFrAc9fFDmgO9gKYG7m+40ix7CAIQTKOpaW9gNVbjODIpQF1D4F\n",
       "Ve4JAyQwGJiBeCWqHNtBqM8fA7E/qhxPF8TnrA5Aoj+AYdeqVStXrVoBkfSGhEnnlwcMEv+9UQP/\n",
       "KAoPAGw8L/Rrd5R7AAAAAElFTkSuQmCC\n",
       "\" style=\"display:inline;vertical-align:middle;\" /></a></td></tr>\n",
       "<tr><td>5</td><td>ExprTuple</td><td>9</td><td><a class=\"ProveItLink\" href=\"../b7d96af9ad4b1093cdfbc7f0db04afd2340d5b5e0/expr.ipynb\"><img src=\"data:image/png;base64,iVBORw0KGgoAAAANSUhEUgAAABwAAAAVBAMAAACnLJNvAAAAMFBMVEX////c3NwiIiJERESqqqqY\n",
       "mJh2dnZmZmYQEBDu7u4yMjJUVFTMzMyIiIi6uroAAAAs73DqAAAAAXRSTlMAQObYZgAAAMBJREFU\n",
       "GNNjYEADfBdgLNYHQOI0hH0IiGuAeCWEux6IuRgYeCFqWfUnAIkEBo4JYK5IvQADA2cDwyuI2gv3\n",
       "QeaYMJRBjJ/gHwCk0hmWgrnzGM6DzPBi6ANzHzDIFwCpFwz/QDye3bv3GwDp8xAuHwMDxwIwtwXE\n",
       "dWBgYGoAKzYFkoxALtcHICMKaDYDwywgZv4JtugRA4Nw/0IGVvtfQKPXMXAIIPwKdCTQ2XDAdgHu\n",
       "QQaoGdII7kaQLfDA4T3AAAAlziv4kp0h2wAAAABJRU5ErkJggg==\n",
       "\" style=\"display:inline;vertical-align:middle;\" /></a></td></tr>\n",
       "<tr><td>6</td><td>Literal</td><td></td><td><a class=\"ProveItLink\" href=\"../087d0b4ded7c7e5bf3bba05ecb616d7a8051ff650/expr.ipynb\"><img src=\"data:image/png;base64,iVBORw0KGgoAAAANSUhEUgAAAAwAAAAOBAMAAADpk+DfAAAALVBMVEX///+YmJh2dnZmZmaqqqrc\n",
       "3NwyMjLu7u4iIiJERESIiIhUVFTMzMy6uroAAAD0I/TTAAAAAXRSTlMAQObYZgAAAEtJREFUCNdj\n",
       "uMAABDwMe0DUKoaTIKqdgS2AgYHFAITAzHYGsMQqBoa9QIqDgT0BSDE7MAkAKdYEDpAehj1SYOpk\n",
       "O5hiMwBTPAUMDAB33Atnw8aG2QAAAABJRU5ErkJggg==\n",
       "\" style=\"display:inline;vertical-align:middle;\" /></a></td></tr>\n",
       "<tr><td>7</td><td>ExprTuple</td><td>8, 9</td><td><a class=\"ProveItLink\" href=\"../a435410e8f6fc415ddd6b79b9a2246df6bd8eef40/expr.ipynb\"><img src=\"data:image/png;base64,iVBORw0KGgoAAAANSUhEUgAAADYAAAAVBAMAAAD/UwB2AAAAMFBMVEX////c3NwiIiJERESqqqqY\n",
       "mJh2dnZmZmYQEBDu7u4yMjJUVFTMzMyIiIi6uroAAAAs73DqAAAAAXRSTlMAQObYZgAAAOhJREFU\n",
       "KM9jYMAH+C5gFWZ9ACROg1iMqAoOAXENEK8EcXgKUOTWAzEXAwPvBUw5Vv0JQCKBgWMCppxIvQAD\n",
       "A2cDwysGTLkL90EOMWEow5Tjm+AfAKTSGZZiys1jOA9yhBdDH6bcAwZ5EPcFwz8MOZ7du/cbAOnz\n",
       "WOT4GBg4FoDlWjDkHBgYmBrAZpoiyYG9ygiU4/oAZEQBXQqX4/wEYs4CYuafYD88YmBgV1JSalJS\n",
       "MuDsBwaHcP9CBlb7X0C16xg4BJBcgcQGhRkwSBFhjBxwbBegcYRFDmSvNFIYI8ttxIxyGOA9wAAA\n",
       "Vj03J4V06BsAAAAASUVORK5CYII=\n",
       "\" style=\"display:inline;vertical-align:middle;\" /></a></td></tr>\n",
       "<tr><td>8</td><td>Literal</td><td></td><td><a class=\"ProveItLink\" href=\"../../../__pv_it/8f1f7fac882de28c72b62ab80a1700b6d8fd066b0/expr.ipynb\"><img src=\"data:image/png;base64,iVBORw0KGgoAAAANSUhEUgAAAA4AAAAOBAMAAADtZjDiAAAAG1BMVEX///9EREQQEBAiIiJmZmbM\n",
       "zMyIiIjc3NwAAACryk5kAAAAAXRSTlMAQObYZgAAABlJREFUCNdjYGBgKGOAgBBa0s7GxkbGxoYA\n",
       "FMUF2aBfHgoAAAAASUVORK5CYII=\n",
       "\" style=\"display:inline;vertical-align:middle;\" /></a></td></tr>\n",
       "<tr><td>9</td><td>Variable</td><td></td><td><a class=\"ProveItLink\" href=\"../../../../../__pv_it/2cbe72a7ad6f655694dd697106680215e8489b600/expr.ipynb\"><img src=\"data:image/png;base64,iVBORw0KGgoAAAANSUhEUgAAAA8AAAAOBAMAAAACpFvcAAAALVBMVEX///8QEBBERERUVFS6urqI\n",
       "iIhmZmaqqqrc3Nzu7u6YmJgyMjIiIiLMzMwAAADtIaYWAAAAAXRSTlMAQObYZgAAAFtJREFUCNdj\n",
       "YACBOwxQsA9Kc52bAGG05zVAGAFxDmCaZULdAjBjCsO9ADDDgaEvAUTzGhvbKYCVMDAwbgAxChgY\n",
       "eASANAeQwf0AyJgNxEwvGRia5HYwcOm9TgAA6BoR3jrzwFcAAAAASUVORK5CYII=\n",
       "\" style=\"display:inline;vertical-align:middle;\" /></a></td></tr>\n",
       "</table>\n"
      ],
      "text/plain": [
       "0. [or](A) = (FALSE or A)\n",
       "   core type: Operation\n",
       "   operator: 1\n",
       "   operands: 2\n",
       "1. =\n",
       "   core type: Literal\n",
       "   sub-expressions: \n",
       "2. ([or](A) , FALSE or A)\n",
       "   core type: ExprTuple\n",
       "   sub-expressions: 3, 4\n",
       "3. [or](A)\n",
       "   core type: Operation\n",
       "   operator: 6\n",
       "   operands: 5\n",
       "4. FALSE or A\n",
       "   core type: Operation\n",
       "   operator: 6\n",
       "   operands: 7\n",
       "5. (A)\n",
       "   core type: ExprTuple\n",
       "   sub-expressions: 9\n",
       "6. or\n",
       "   core type: Literal\n",
       "   sub-expressions: \n",
       "7. (FALSE , A)\n",
       "   core type: ExprTuple\n",
       "   sub-expressions: 8, 9\n",
       "8. FALSE\n",
       "   core type: Literal\n",
       "   sub-expressions: \n",
       "9. A\n",
       "   core type: Variable\n",
       "   sub-expressions: "
      ]
     },
     "execution_count": 4,
     "metadata": {},
     "output_type": "execute_result"
    }
   ],
   "source": [
    "# display the expression information\n",
    "expr.exprInfo()"
   ]
  },
  {
   "cell_type": "code",
   "execution_count": null,
   "metadata": {},
   "outputs": [],
   "source": []
  }
 ],
 "metadata": {
  "kernelspec": {
   "display_name": "Python 3",
   "language": "python",
   "name": "python3"
  }
 },
 "nbformat": 4,
 "nbformat_minor": 0
}
