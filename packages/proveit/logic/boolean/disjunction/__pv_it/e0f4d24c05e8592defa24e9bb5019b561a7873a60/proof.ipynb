{
 "cells": [
  {
   "cell_type": "markdown",
   "metadata": {},
   "source": [
    "Show the Proof\n",
    "========"
   ]
  },
  {
   "cell_type": "code",
   "execution_count": 1,
   "metadata": {},
   "outputs": [
    {
     "data": {
      "text/html": [
       "<table><tr><th>&nbsp;</th><th>step type</th><th>requirements</th><th>statement</th></tr>\n",
       "<tr><td>0</td><td>hypothetical reasoning</td><td>1</td><td><span style=\"font-size:20px;\"> <a class=\"ProveItLink\" href=\"proof.ipynb\" style=\"text-decoration: none\">&#x22A2;&nbsp;</a><a class=\"ProveItLink\" href=\"../b01bb2d623dffd26a89fd1e043117306102aba280/expr.ipynb\"><img src=\"data:image/png;base64,iVBORw0KGgoAAAANSUhEUgAAAQkAAAAVBAMAAACnJQYDAAAAMFBMVEX////c3NwiIiJERESqqqqY\n",
       "mJh2dnZmZmYQEBDu7u4yMjJUVFTMzMyIiIi6uroAAAAs73DqAAAAAXRSTlMAQObYZgAAAppJREFU\n",
       "SMfNVkFrU0EQntc0bZq8Pt/ZUJAIYk8WMQdvvRXqJaceBKUXCR4KQaQnDxVy8RJylJ6eh6K5SLyL\n",
       "BIqI5mB/gMKjJykI/oLg7s68N7OzadSbA997mWG/2S+zu7MP4P+w5Ew5XsBaNdecnzrwUOAPU8A8\n",
       "LkxlZCoDqy1nW/BM8eKxcDbc0AkjtCmn8q3kwkiGRyoQ9+yzTl40xHd9KIZ8cs9MILARp4LEPSeK\n",
       "uy6rZR0vgNTqPs2OieA7BCr2BMjWZNZSRWMCPEfJrcn/ZR0vgNS1I/RON/H9IlTxUgBUxTAjqYjt\n",
       "qiwNFfdCZrwAFSDqHfQ+YBGSLFRR2WYUe3Isspap4JXBjuYeyoyHBK2iiyXOlnDX7ocqVnqMwg5E\n",
       "VlaxQ0o87onMeELQKnZxdGfV/dN6J1SxnDEAnrgTcavHWVmFWY14S3MHxYm0f3CA4ABRfyAfIjdH\n",
       "Lad5bnCm5IhR2i42moGnwuzMRu6pMJyZ7AEzQhkg6lf3fADw3r6v5KK7UKb4F4NPyRs3cuapgGtw\n",
       "7NfRcP5BxSbN+9cqvjyGOSqewqNARV9O2idoFW5Fls3vempXZDtU4a8I7ovWXRzW91VcNdXQK9KW\n",
       "k7YJWsV9tylTVAKVTqiimjEKu0fvtq+i8fHMV2E43SIyoRPpBeRJPcVFFacxXnhSo0JQ11cR3x4G\n",
       "p/xcnrpzAp9UbA1vXc8qmndSVtSW/mardd0UKmeQVVKRtUxl7HXIraWyg6fgB2ivu8XOy8voeXhh\n",
       "zengscwq7XPIrcpGaB0vgLaivg/2QhUHAtrmZAy4C292tGPlezc7NXfGJTf7peY4TRlp6oCzd8qP\n",
       "xnpEI2WE1lyownEiWW7rRPr7bD34gNrQgW8CoUULv/gM5zfKdszzPfA9JAAAAABJRU5ErkJggg==\n",
       "\" style=\"display:inline;vertical-align:middle;\" /></a></span></td></tr>\n",
       "<tr><td>1</td><td>theorem</td><td></td><td><span style=\"font-size:20px;\"> <a class=\"ProveItLink\" href=\"../../_proofs_/trueOrFalse.ipynb\" style=\"text-decoration: none\">&#x22A2;&nbsp;</a><a class=\"ProveItLink\" href=\"../7ee56ac56fe7319585c441261a5a8301695cb6a90/expr.ipynb\"><img src=\"data:image/png;base64,iVBORw0KGgoAAAANSUhEUgAAADUAAAAPBAMAAAC2KZqIAAAAMFBMVEX///8QEBCYmJiqqqrc3Nwy\n",
       "MjLu7u6IiIhUVFS6urp2dnbMzMxEREQiIiJmZmYAAADfOGkeAAAAAXRSTlMAQObYZgAAAHhJREFU\n",
       "GNNjeHsXBO4woAKWAihjH4TiBJMbwCT3A1Q5DpAwewFWOe4DQII3AascQwgQ2zFgl7ODymOTA5oH\n",
       "NhebHNAdHBNwyDFcYEhlwCX3mGERTjlXoE5cchybCnDKcZ9NQJfbBQ/iODDJBwx82bt3D6AG/zYU\n",
       "HgBsMC5BQDKFNgAAAABJRU5ErkJggg==\n",
       "\" style=\"display:inline;vertical-align:middle;\" /></a></span></td></tr>\n",
       "<tr><td>&nbsp;</td><td colspan=4 style-\"text-align:left\"><a class=\"ProveItLink\" href=\"../../_proofs_/trueOrFalse.ipynb\">proveit.logic.boolean.disjunction.trueOrFalse</a></td></tr></table>"
      ],
      "text/plain": [
       "<proveit._core_.proof._ShowProof at 0x7f94ebd060f0>"
      ]
     },
     "execution_count": 1,
     "metadata": {},
     "output_type": "execute_result"
    }
   ],
   "source": [
    "import proveit\n",
    "%show_proof"
   ]
  },
  {
   "cell_type": "code",
   "execution_count": null,
   "metadata": {},
   "outputs": [],
   "source": []
  }
 ],
 "metadata": {
  "kernelspec": {
   "display_name": "Python 3",
   "language": "python",
   "name": "python3"
  }
 },
 "nbformat": 4,
 "nbformat_minor": 0
}
