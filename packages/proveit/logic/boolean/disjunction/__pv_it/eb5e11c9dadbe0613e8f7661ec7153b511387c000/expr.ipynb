{
 "cells": [
  {
   "cell_type": "markdown",
   "metadata": {},
   "source": [
    "Expression of type <a class=\"ProveItLink\" href=\"../../../../../../../doc/html/api/proveit.logic.Or.html\">Or</a>\n",
    "=======================\n",
    "# from context <a class=\"ProveItLink\" href=\"../../_context_.ipynb\">proveit.logic.boolean.disjunction</a>"
   ]
  },
  {
   "cell_type": "code",
   "execution_count": 1,
   "metadata": {},
   "outputs": [],
   "source": [
    "# import Expression classes needed to build the expression\n",
    "from proveit._common_ import A, B, C, D\n",
    "from proveit.logic import Or"
   ]
  },
  {
   "cell_type": "code",
   "execution_count": 2,
   "metadata": {},
   "outputs": [
    {
     "data": {
      "text/html": [
       "<strong id=\"expr\">expr:</strong> <a class=\"ProveItLink\" href=\"expr.ipynb\"><img src=\"data:image/png;base64,iVBORw0KGgoAAAANSUhEUgAAAJUAAAAVBAMAAAC9PLGkAAAAMFBMVEX////c3NwiIiJERESqqqqY\n",
       "mJh2dnZmZmYQEBDu7u4yMjJUVFTMzMyIiIi6uroAAAAs73DqAAAAAXRSTlMAQObYZgAAAmJJREFU\n",
       "OMutVD2IE1EQ/rK5zd9uLgEF4SxiI5hKEQR/iqSzEUxlp3eNWAkRD22EWCiohS42dwjKRhE5Cw1Y\n",
       "COYw4mGhFnedhR4JNoLVHZ4Hl+jp/OzuZRdcDNyDN2/nm3nzZr43+4DtHONLcdYzI8X6qMvbCGx2\n",
       "Bu0Xz5B+E/W/f+xybVcY+vyn3X7EjnOqP5cc5VO3Zw4AjR7cCJ66DnyjiR5rtm7uA2NrQF5LNPc7\n",
       "JC1295BFWhZbOIUQnn1IfqlV+ppnw7K42uskGg4yjqg7G0UGKRcYinQJmJzCLEJ47ianeZXEAhvK\n",
       "4prf1LO/a5ZLXcm5SfO4Iodp7nOQrIbwBquJOkels8bq4ppcIVFq4ZJepnOyBs+/qbEGwMQRqqc+\n",
       "jCf6rGW5ZI7D8WgUOG3i47FoD4QeqUPqobIGy5/28hZ3GE//3Lq9slenUst83Bath5KcT/xaPeWA\n",
       "+L3b8rgJcGN1Kxbx/lq/upxnp4dNSaLd7mg6e3BP7UmKkacs7JVhvCBaViADWVd9KyxuQGNR/2QU\n",
       "n8ZZtRcoJ3M9iOXhGdFOCJSupmrq+4Obis69xgpdjiG1YIIyUA7Iz1rza/Rxa4Ol3l7CNdTV/u21\n",
       "9iFGKVZOz7feeb8nt1eJcjXdYVy2pbQBMX9a1/wvEkcJPEcrU5Hc0DMOOkF72bccvycCfLKK8Qse\n",
       "+QtlBO31gd2+AjvuNGFW+rrpidov0u/6lOnI6bX6uP3q5bR/kTndMVOhV+CKsFkM//PvI8/C7D9w\n",
       "jutE35ap+Cfp/Cjv11ys1W+h/xu7Y61WcZRYidg3+ssIkf4CtkOlXBj0ScsAAAAASUVORK5CYII=\n",
       "\" style=\"display:inline;vertical-align:middle;\" /></a><br>"
      ],
      "text/plain": [
       "expr: (A or B) or C or D"
      ]
     },
     "execution_count": 2,
     "metadata": {},
     "output_type": "execute_result"
    }
   ],
   "source": [
    "# build up the expression from sub-expressions\n",
    "expr = Or(Or(A, B), C, D)"
   ]
  },
  {
   "cell_type": "code",
   "execution_count": 3,
   "metadata": {},
   "outputs": [
    {
     "name": "stdout",
     "output_type": "stream",
     "text": [
      "Passed sanity check: built 'expr' is the same as the stored Expression.\n"
     ]
    }
   ],
   "source": [
    "# check that the built expression is the same as the stored expression\n",
    "%check_expr"
   ]
  },
  {
   "cell_type": "code",
   "execution_count": 4,
   "metadata": {},
   "outputs": [
    {
     "data": {
      "text/html": [
       "<table><tr><th>&nbsp;</th><th>core type</th><th>sub-expressions</th><th>expression</th></tr>\n",
       "<tr><td>0</td><td>Operation</td><td>operator:&nbsp;5<br>operands:&nbsp;1<br></td><td><a class=\"ProveItLink\" href=\"expr.ipynb\"><img src=\"data:image/png;base64,iVBORw0KGgoAAAANSUhEUgAAAJUAAAAVBAMAAAC9PLGkAAAAMFBMVEX////c3NwiIiJERESqqqqY\n",
       "mJh2dnZmZmYQEBDu7u4yMjJUVFTMzMyIiIi6uroAAAAs73DqAAAAAXRSTlMAQObYZgAAAmJJREFU\n",
       "OMutVD2IE1EQ/rK5zd9uLgEF4SxiI5hKEQR/iqSzEUxlp3eNWAkRD22EWCiohS42dwjKRhE5Cw1Y\n",
       "COYw4mGhFnedhR4JNoLVHZ4Hl+jp/OzuZRdcDNyDN2/nm3nzZr43+4DtHONLcdYzI8X6qMvbCGx2\n",
       "Bu0Xz5B+E/W/f+xybVcY+vyn3X7EjnOqP5cc5VO3Zw4AjR7cCJ66DnyjiR5rtm7uA2NrQF5LNPc7\n",
       "JC1295BFWhZbOIUQnn1IfqlV+ppnw7K42uskGg4yjqg7G0UGKRcYinQJmJzCLEJ47ianeZXEAhvK\n",
       "4prf1LO/a5ZLXcm5SfO4Iodp7nOQrIbwBquJOkels8bq4ppcIVFq4ZJepnOyBs+/qbEGwMQRqqc+\n",
       "jCf6rGW5ZI7D8WgUOG3i47FoD4QeqUPqobIGy5/28hZ3GE//3Lq9slenUst83Bath5KcT/xaPeWA\n",
       "+L3b8rgJcGN1Kxbx/lq/upxnp4dNSaLd7mg6e3BP7UmKkacs7JVhvCBaViADWVd9KyxuQGNR/2QU\n",
       "n8ZZtRcoJ3M9iOXhGdFOCJSupmrq+4Obis69xgpdjiG1YIIyUA7Iz1rza/Rxa4Ol3l7CNdTV/u21\n",
       "9iFGKVZOz7feeb8nt1eJcjXdYVy2pbQBMX9a1/wvEkcJPEcrU5Hc0DMOOkF72bccvycCfLKK8Qse\n",
       "+QtlBO31gd2+AjvuNGFW+rrpidov0u/6lOnI6bX6uP3q5bR/kTndMVOhV+CKsFkM//PvI8/C7D9w\n",
       "jutE35ap+Cfp/Cjv11ys1W+h/xu7Y61WcZRYidg3+ssIkf4CtkOlXBj0ScsAAAAASUVORK5CYII=\n",
       "\" style=\"display:inline;vertical-align:middle;\" /></a></td></tr>\n",
       "<tr><td>1</td><td>ExprTuple</td><td>2, 3, 4</td><td><a class=\"ProveItLink\" href=\"../b55977b9d828aa1793e8735e2b9caedf62cb6cc80/expr.ipynb\"><img src=\"data:image/png;base64,iVBORw0KGgoAAAANSUhEUgAAAHcAAAAVBAMAAACOK2zoAAAAMFBMVEX////c3NwiIiJERESqqqqY\n",
       "mJh2dnZmZmYQEBDu7u4yMjJUVFTMzMyIiIi6uroAAAAs73DqAAAAAXRSTlMAQObYZgAAAiRJREFU\n",
       "OMulVD9IG2EU/yXxmpx30YMKBTvYRWgnRZAqFMzmaKaOmqVoh6JgW7sloJODOTqVICUOxVZBBYdC\n",
       "b0gQHMQhAQeXloQulk7R2oLaat+fTxulCrUH9+537/fevd/33vcd8F9XU/l6eYNsNhWvXeCswlGw\n",
       "unT6Zm+9fxYaExgn4sMDIFqkl3dKL4sKgUWxsU4gXTXJI0k0vUgqbs4DAwmAHnFVbXX4ZB3OM54S\n",
       "PUorGp+7R2bU05dSisoeAA+pgC+eljRTLlVDWD0VcgylNP4tu74YFRWS4/4CXgFf1VOuiMI5uvvV\n",
       "00P3Xf1OdJ/tLZPcR3foCIgk8Fxb7g/IivrNB+giurVXYVue7axJ/sYSib0xhjfieC1LFMkinelP\n",
       "2+0mPJ2sGwMrhvUDaMhjRjxVtMkgqFmOdji+C7w0/erw6pLjP7mzx6Q2g2P5WhAUtOAd5DQmkqG4\n",
       "74pPxPqGqPEciXVrmkzzjcm68BSPzDRXVBxfWTYNRUNwlaGkJE+xg0YezgjVSrV1mkQ7+4oLXDRq\n",
       "ZEtzJiGyu7nxlNxYE8pZN1udx8xd9k/jHxvhFVIQ4W1p5THMG4iXcqC97PLPxuxO+7D3OIwU7HiK\n",
       "eczuPAMa1WfgZnYOVt+h7vt5zR0/CYIFUm5nudObixMJxTYT92X5jVXEvPOnaePiifX+jmV7Wqmr\n",
       "j611CQae/DmS/5xs82xvX51cvgTD4TWErvkb+gj8BpU9j6+fkLTPAAAAAElFTkSuQmCC\n",
       "\" style=\"display:inline;vertical-align:middle;\" /></a></td></tr>\n",
       "<tr><td>2</td><td>Operation</td><td>operator:&nbsp;5<br>operands:&nbsp;6<br></td><td><a class=\"ProveItLink\" href=\"../0f1bf4090acd92174180531bf3e50944b30066e50/expr.ipynb\"><img src=\"data:image/png;base64,iVBORw0KGgoAAAANSUhEUgAAADcAAAAPBAMAAACy3Eq1AAAAMFBMVEX///92dnYQEBBERERUVFS6\n",
       "urqIiIhmZmaqqqrc3Nzu7u6YmJgyMjIiIiLMzMwAAACFkkdwAAAAAXRSTlMAQObYZgAAAP1JREFU\n",
       "GNNjYACBtwyogNv/i4vzUSjnPIhgBTMfgEkmAwaG+gCIwvsLgCQLSJwtASzyHki9dwAzZ9RPAJJ8\n",
       "QNUMvAvAIvlAgf0CYGZCPtiEk0DcDrHHCIgvgdWxLujfwACVOAmR/MLAMMcKzFoKtgJsJNhooA1f\n",
       "0tJvQ5QFMMwvYIA4hgXiQrafDAxrwe7hc3Hxh2i4wLAGopxZAajgN9R/TAfAYhUM0hBJfqAu7o8g\n",
       "VgPQNgWw2BygXog3gQ5k+QFkcAIleT6AxVheQ4IA7M35INNA1jD/gjjSdgHcm3w6QPZk/ZMM3PZ/\n",
       "wM5lOA6RK/7v4nJmA1pkMLxC5QIA6tw+1pV4TWcAAAAASUVORK5CYII=\n",
       "\" style=\"display:inline;vertical-align:middle;\" /></a></td></tr>\n",
       "<tr><td>3</td><td>Variable</td><td></td><td><a class=\"ProveItLink\" href=\"../../../../../__pv_it/985a1bdf1540838275dec15f4ad6de261cca93ce0/expr.ipynb\"><img src=\"data:image/png;base64,iVBORw0KGgoAAAANSUhEUgAAAA8AAAAOBAMAAAACpFvcAAAAMFBMVEX////MzMyqqqoiIiIyMjK6\n",
       "uroQEBB2dnbc3NyYmJhmZmZUVFRERESIiIju7u4AAAB204erAAAAAXRSTlMAQObYZgAAAGZJREFU\n",
       "CNdjYGDgu7NrJccCBgaGsgkMrMsmMDA8sQNy6hsYGNweABlhDAxcn4A0QxcDQ78DiPGQgWH9BAYI\n",
       "sG+AMv6DSaCGfBDNJMDAsB+kmwuI5S8AiTog5gSaEwXWIO29SgFIAQBC+RaDQlidVgAAAABJRU5E\n",
       "rkJggg==\n",
       "\" style=\"display:inline;vertical-align:middle;\" /></a></td></tr>\n",
       "<tr><td>4</td><td>Variable</td><td></td><td><a class=\"ProveItLink\" href=\"../../../../../__pv_it/185e6d30f167ee2ee5ef3321098dc98e0d77bc590/expr.ipynb\"><img src=\"data:image/png;base64,iVBORw0KGgoAAAANSUhEUgAAABEAAAAOBAMAAAA7w+qHAAAALVBMVEX///8QEBCYmJjc3Ny6urru\n",
       "7u5mZmZ2dnaqqqrMzMxEREQyMjJUVFSIiIgAAABETr/8AAAAAXRSTlMAQObYZgAAAGpJREFUCNdj\n",
       "YGC48+7MmV0TGEDgNQMDxwsQg/M5kMgLABK8T4DEvAtAgusBkLA7ACT4FoDEDsAk9AqAxD2QCecc\n",
       "gMQ6kAGCIOIVEDM9Ahn3FkgwgnTxvgQSqwOgxs1OADLC1r05cyoTyAAAv4Qe+njAWvgAAAAASUVO\n",
       "RK5CYII=\n",
       "\" style=\"display:inline;vertical-align:middle;\" /></a></td></tr>\n",
       "<tr><td>5</td><td>Literal</td><td></td><td><a class=\"ProveItLink\" href=\"../087d0b4ded7c7e5bf3bba05ecb616d7a8051ff650/expr.ipynb\"><img src=\"data:image/png;base64,iVBORw0KGgoAAAANSUhEUgAAAAwAAAAOBAMAAADpk+DfAAAALVBMVEX///+YmJh2dnZmZmaqqqrc\n",
       "3NwyMjLu7u4iIiJERESIiIhUVFTMzMy6uroAAAD0I/TTAAAAAXRSTlMAQObYZgAAAEtJREFUCNdj\n",
       "uMAABDwMe0DUKoaTIKqdgS2AgYHFAITAzHYGsMQqBoa9QIqDgT0BSDE7MAkAKdYEDpAehj1SYOpk\n",
       "O5hiMwBTPAUMDAB33Atnw8aG2QAAAABJRU5ErkJggg==\n",
       "\" style=\"display:inline;vertical-align:middle;\" /></a></td></tr>\n",
       "<tr><td>6</td><td>ExprTuple</td><td>7, 8</td><td><a class=\"ProveItLink\" href=\"../caee09fb4b5c95b986a9cee46a014afbad9bdc680/expr.ipynb\"><img src=\"data:image/png;base64,iVBORw0KGgoAAAANSUhEUgAAADUAAAAVBAMAAAAUZLt1AAAAMFBMVEX////c3NwiIiJERESqqqqY\n",
       "mJh2dnZmZmYQEBDu7u4yMjJUVFTMzMyIiIi6uroAAAAs73DqAAAAAXRSTlMAQObYZgAAATZJREFU\n",
       "KM9jYMAH+C5gFY4DEach7EMwQdb9v3dvXsfAfgDIXgkRWg/XwWHAwFD/gGEBAwMvxEhW/QkwufNA\n",
       "kfMbGMKAqiBiIvUCMLn7QFZ8AsMMBoZXEIEL9x/A5CyAWGMCA7MDQxnEsRP8A2ByvxkYpCwZGNgK\n",
       "GJaC+fPAtoABz++711WBNMsChj6wwAMG+QKoHO9HBoZJG4BGNTD8A6vdvXu/AVSOuQEo/xUo9gEi\n",
       "xwd07wKoHD9QD+s3sFwLiO/AwMDUAPMe0FHcX8BmmgK5jEA5rg8MDBNg3pMHGsK6gCEdyJ0FsuYn\n",
       "A+cnqPd4uiaA/fCIgUG4fyEDq/2vAs5+oJbi/7t3rwL5lesBA4cAUnQhsUFhxpqA4LIiR2AuIo7Q\n",
       "5ThBfpJG8JFTADfIfEbsaeIOAwMABOxNRsfkiy0AAAAASUVORK5CYII=\n",
       "\" style=\"display:inline;vertical-align:middle;\" /></a></td></tr>\n",
       "<tr><td>7</td><td>Variable</td><td></td><td><a class=\"ProveItLink\" href=\"../../../../../__pv_it/2cbe72a7ad6f655694dd697106680215e8489b600/expr.ipynb\"><img src=\"data:image/png;base64,iVBORw0KGgoAAAANSUhEUgAAAA8AAAAOBAMAAAACpFvcAAAALVBMVEX///8QEBBERERUVFS6urqI\n",
       "iIhmZmaqqqrc3Nzu7u6YmJgyMjIiIiLMzMwAAADtIaYWAAAAAXRSTlMAQObYZgAAAFtJREFUCNdj\n",
       "YACBOwxQsA9Kc52bAGG05zVAGAFxDmCaZULdAjBjCsO9ADDDgaEvAUTzGhvbKYCVMDAwbgAxChgY\n",
       "eASANAeQwf0AyJgNxEwvGRia5HYwcOm9TgAA6BoR3jrzwFcAAAAASUVORK5CYII=\n",
       "\" style=\"display:inline;vertical-align:middle;\" /></a></td></tr>\n",
       "<tr><td>8</td><td>Variable</td><td></td><td><a class=\"ProveItLink\" href=\"../../../../../__pv_it/077b2ff79244fb4582cbe22c6e3356fa92a52f2f0/expr.ipynb\"><img src=\"data:image/png;base64,iVBORw0KGgoAAAANSUhEUgAAABAAAAAOBAMAAADUAYG5AAAAMFBMVEX///+qqqru7u4iIiJ2dnbc\n",
       "3NyIiIjMzMxmZmYQEBC6uroyMjJERERUVFSYmJgAAADLUcuvAAAAAXRSTlMAQObYZgAAAGpJREFU\n",
       "CNdjYGB4+//u3dMLGIBgDgMDxy8gzf4NiP8CGWxfGRj4vgAZPBMYGJgnARn8FxhY9ygAGfXX0pof\n",
       "gDTlBzAw2YIYJ0EckBBI53sHoBH/gIz7AhBjWH9DjancBLTl/N+7t/cxMAAA3u4f/5xagjYAAAAA\n",
       "SUVORK5CYII=\n",
       "\" style=\"display:inline;vertical-align:middle;\" /></a></td></tr>\n",
       "</table>\n"
      ],
      "text/plain": [
       "0. (A or B) or C or D\n",
       "   core type: Operation\n",
       "   operator: 5\n",
       "   operands: 1\n",
       "1. (A or B , C , D)\n",
       "   core type: ExprTuple\n",
       "   sub-expressions: 2, 3, 4\n",
       "2. A or B\n",
       "   core type: Operation\n",
       "   operator: 5\n",
       "   operands: 6\n",
       "3. C\n",
       "   core type: Variable\n",
       "   sub-expressions: \n",
       "4. D\n",
       "   core type: Variable\n",
       "   sub-expressions: \n",
       "5. or\n",
       "   core type: Literal\n",
       "   sub-expressions: \n",
       "6. (A , B)\n",
       "   core type: ExprTuple\n",
       "   sub-expressions: 7, 8\n",
       "7. A\n",
       "   core type: Variable\n",
       "   sub-expressions: \n",
       "8. B\n",
       "   core type: Variable\n",
       "   sub-expressions: "
      ]
     },
     "execution_count": 4,
     "metadata": {},
     "output_type": "execute_result"
    }
   ],
   "source": [
    "# display the expression information\n",
    "expr.exprInfo()"
   ]
  },
  {
   "cell_type": "code",
   "execution_count": null,
   "metadata": {},
   "outputs": [],
   "source": []
  }
 ],
 "metadata": {
  "kernelspec": {
   "display_name": "Python 3",
   "language": "python",
   "name": "python3"
  }
 },
 "nbformat": 4,
 "nbformat_minor": 0
}
