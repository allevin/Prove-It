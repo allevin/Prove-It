{
 "cells": [
  {
   "cell_type": "markdown",
   "metadata": {},
   "source": [
    "Expression of type <a class=\"ProveItLink\" href=\"../../../../../../../doc/html/api/proveit.ExprTuple.html\">ExprTuple</a>\n",
    "=======================\n",
    "# from context <a class=\"ProveItLink\" href=\"../../_context_.ipynb\">proveit.logic.boolean.disjunction</a>"
   ]
  },
  {
   "cell_type": "code",
   "execution_count": 1,
   "metadata": {},
   "outputs": [],
   "source": [
    "# import Expression classes needed to build the expression\n",
    "from proveit import ExprTuple\n",
    "from proveit._common_ import A, B, C, D\n",
    "from proveit.logic import Not, Or"
   ]
  },
  {
   "cell_type": "code",
   "execution_count": 2,
   "metadata": {},
   "outputs": [
    {
     "data": {
      "text/html": [
       "<strong id=\"expr\">expr:</strong> <a class=\"ProveItLink\" href=\"expr.ipynb\"><img src=\"data:image/png;base64,iVBORw0KGgoAAAANSUhEUgAAAQsAAAAVBAMAAACj0NY+AAAAMFBMVEX////c3NwiIiJERESqqqqY\n",
       "mJh2dnZmZmYQEBDu7u4yMjJUVFTMzMyIiIi6uroAAAAs73DqAAAAAXRSTlMAQObYZgAAA3FJREFU\n",
       "SMfNlk9IFHEUx9/uuruzs7MqFARGKEGRpyIS+nNwb0EE7clDUO4lPAlbiV2ENTCoDjV0SYRiLCTq\n",
       "YBsdglZSkg7Vwb11KHHxUgSBkgr+yXrv/Wbm92dExFM/eDPz+/0+8/29ee83bwbgP2mNNWFaS9ZN\n",
       "7Jc5cHkroV0hjH32Tbb3aAMG7lSki5Pr1dfjkJ4yEFXk0ZkbhX3bIl//VqtPpxhh7Llvsr1Es9l5\n",
       "7rKW7cp56xhAuQ6egSgiqVsA39EY4cA6YCCwBtCwJBC0XE2YkpCjuGSyiFdZkheTswowgyMzFegC\n",
       "DVFEMk9QIbUIApkI71fXcVbwUHYZQbNcYbLtLTej0iCh+NgQ58k7CjCH891FGAYNUURsohtRgZFp\n",
       "OrSDjkBuUzwQIWg/QZhstTkK4wm6HEU7y7H3FOAk2hEXEnkNUUTKNBMrgUBs9LqhZCCQWMBDa4UR\n",
       "tH7s9Wu72b1QwFMP+Pq0DqSLCrEO0HIKo17SECkSW+PMTPkIuUCu6Os0URgxtYSgjWFvTHXjMece\n",
       "zoGINkcd7IKS1fXZL4dI3tMQKZJeDq4E0u4nRluHF8HUEoJ2D3to6YPUiryxW+kZfvh7Kssb3cLj\n",
       "NSIO4yDuvQcVkXwFkSLxxTCyg/72fAdgrDNHe3uyzgga7ZRNpTg41eokx4tH2mBEhLAu3/wE3pjD\n",
       "B3YWNESKNPFEBgIkDhnPQAA66eK2QNBMN7AQWF7oRh9cibjRhFRyJXQjQKSIxRPnQzfS+VQh4sZv\n",
       "Kg3LoRtD2B1SpnHjxgeDpEALPiwnJS/dmEHN7FIQ8RCRItlVOpfCpMS8OBgIOH/8OugnpQO7HXI6\n",
       "huvZ9AwXeST7QVScREG6QWWjFQOW9DREivASKaoRPjJxCQwEcht4Pu0KBK0neDlFUaY8J1bDMee4\n",
       "qDji5RRFGcuGc9cNxwJEEenOQ+NV5bbpdjARKhufSj6CNo+X8+FrtOf+KCQ713BqXAw887d8W4hc\n",
       "x2/SCwqOXdeQeeWVfvumT5RTgdglE3nYiZ/HgQBBszDEVnPk858RiYePfv9m9A9hGDRkC5EAcdzt\n",
       "kWHxDUsWI7Mp48+gKyrQa/yiFHeN9G75oac2YvRtNxIvzxiIiuwQYWy/b3p7ZfRjFZPImhGOiuwQ\n",
       "YSxWE6a1nPnfBAfMgW/mQERkpwjaPyYxF5xxjuFNAAAAAElFTkSuQmCC\n",
       "\" style=\"display:inline;vertical-align:middle;\" /></a><br>"
      ],
      "text/plain": [
       "expr: ([not](A) or [not](B) or [not](C) or [not](D))"
      ]
     },
     "execution_count": 2,
     "metadata": {},
     "output_type": "execute_result"
    }
   ],
   "source": [
    "# build up the expression from sub-expressions\n",
    "expr = ExprTuple(Or(Not(A), Not(B), Not(C), Not(D)))"
   ]
  },
  {
   "cell_type": "code",
   "execution_count": 3,
   "metadata": {},
   "outputs": [
    {
     "name": "stdout",
     "output_type": "stream",
     "text": [
      "Passed sanity check: built 'expr' is the same as the stored Expression.\n"
     ]
    }
   ],
   "source": [
    "# check that the built expression is the same as the stored expression\n",
    "%check_expr"
   ]
  },
  {
   "cell_type": "code",
   "execution_count": 4,
   "metadata": {},
   "outputs": [
    {
     "data": {
      "text/html": [
       "<table><tr><th>&nbsp;</th><th>core type</th><th>sub-expressions</th><th>expression</th></tr>\n",
       "<tr><td>0</td><td>ExprTuple</td><td>1</td><td><a class=\"ProveItLink\" href=\"expr.ipynb\"><img src=\"data:image/png;base64,iVBORw0KGgoAAAANSUhEUgAAAQsAAAAVBAMAAACj0NY+AAAAMFBMVEX////c3NwiIiJERESqqqqY\n",
       "mJh2dnZmZmYQEBDu7u4yMjJUVFTMzMyIiIi6uroAAAAs73DqAAAAAXRSTlMAQObYZgAAA3FJREFU\n",
       "SMfNlk9IFHEUx9/uuruzs7MqFARGKEGRpyIS+nNwb0EE7clDUO4lPAlbiV2ENTCoDjV0SYRiLCTq\n",
       "YBsdglZSkg7Vwb11KHHxUgSBkgr+yXrv/Wbm92dExFM/eDPz+/0+8/29ee83bwbgP2mNNWFaS9ZN\n",
       "7Jc5cHkroV0hjH32Tbb3aAMG7lSki5Pr1dfjkJ4yEFXk0ZkbhX3bIl//VqtPpxhh7Llvsr1Es9l5\n",
       "7rKW7cp56xhAuQ6egSgiqVsA39EY4cA6YCCwBtCwJBC0XE2YkpCjuGSyiFdZkheTswowgyMzFegC\n",
       "DVFEMk9QIbUIApkI71fXcVbwUHYZQbNcYbLtLTej0iCh+NgQ58k7CjCH891FGAYNUURsohtRgZFp\n",
       "OrSDjkBuUzwQIWg/QZhstTkK4wm6HEU7y7H3FOAk2hEXEnkNUUTKNBMrgUBs9LqhZCCQWMBDa4UR\n",
       "tH7s9Wu72b1QwFMP+Pq0DqSLCrEO0HIKo17SECkSW+PMTPkIuUCu6Os0URgxtYSgjWFvTHXjMece\n",
       "zoGINkcd7IKS1fXZL4dI3tMQKZJeDq4E0u4nRluHF8HUEoJ2D3to6YPUiryxW+kZfvh7Kssb3cLj\n",
       "NSIO4yDuvQcVkXwFkSLxxTCyg/72fAdgrDNHe3uyzgga7ZRNpTg41eokx4tH2mBEhLAu3/wE3pjD\n",
       "B3YWNESKNPFEBgIkDhnPQAA66eK2QNBMN7AQWF7oRh9cibjRhFRyJXQjQKSIxRPnQzfS+VQh4sZv\n",
       "Kg3LoRtD2B1SpnHjxgeDpEALPiwnJS/dmEHN7FIQ8RCRItlVOpfCpMS8OBgIOH/8OugnpQO7HXI6\n",
       "huvZ9AwXeST7QVScREG6QWWjFQOW9DREivASKaoRPjJxCQwEcht4Pu0KBK0neDlFUaY8J1bDMee4\n",
       "qDji5RRFGcuGc9cNxwJEEenOQ+NV5bbpdjARKhufSj6CNo+X8+FrtOf+KCQ713BqXAw887d8W4hc\n",
       "x2/SCwqOXdeQeeWVfvumT5RTgdglE3nYiZ/HgQBBszDEVnPk858RiYePfv9m9A9hGDRkC5EAcdzt\n",
       "kWHxDUsWI7Mp48+gKyrQa/yiFHeN9G75oac2YvRtNxIvzxiIiuwQYWy/b3p7ZfRjFZPImhGOiuwQ\n",
       "YSxWE6a1nPnfBAfMgW/mQERkpwjaPyYxF5xxjuFNAAAAAElFTkSuQmCC\n",
       "\" style=\"display:inline;vertical-align:middle;\" /></a></td></tr>\n",
       "<tr><td>1</td><td>Operation</td><td>operator:&nbsp;2<br>operands:&nbsp;3<br></td><td><a class=\"ProveItLink\" href=\"../ab90c64c7caebb13933fa0ab141d2393f7f775530/expr.ipynb\"><img src=\"data:image/png;base64,iVBORw0KGgoAAAANSUhEUgAAAPsAAAAVBAMAAAByEoVnAAAAMFBMVEX////c3NwiIiJERESqqqqY\n",
       "mJh2dnZmZmYQEBDu7u4yMjJUVFTMzMyIiIi6uroAAAAs73DqAAAAAXRSTlMAQObYZgAAAzhJREFU\n",
       "SMfFlj1oFFEQx+fusvext5cEFISIJAiKqRRR8KPIdYIIXpVC0FwjqYRTgzaBi6CgFrrYGALKRhGJ\n",
       "RTyxELzgHQYLtbh0FhpypFEEIcEYyIfRmXm7+z5W4mHjwtuPeb/9z9t5M+8twH8+2mcMg9U0kW+m\n",
       "4cxfRVpG3mum19iGDcypyKHV1qrPJyFVNxBV5N7Ry4VtmyIff1WrD+sCmdCgp9hsHiw/sobtyv70\n",
       "PoByEzwDUUSS1wA+Y2OEA+mAgcAqQNsSIzktJtZedGUV8S5LsqJzVgEaaGlUoB80RBHJPECF5CII\n",
       "ZCp8X/XjLOOp7BKSdlX3W8udqDBCCH4mxLnzhgLMYf9AEUZBQxQRm+h2VGBkmk69oCOQ2xAfgshX\n",
       "LfYzcxSuA3Q7ju0Yx9hTgEPY9riQyGuIIlKmnlgJBGLjaNtKBgKJBTx1Vwi5pGWne7KAl0HwdUkf\n",
       "UkWFWAPoOozRLWmIFImt8gzUfYRc0xBA89NBYcMpROSR6v4+zy0cBxFVji7YBWXW1mY/7CJZT0Ok\n",
       "SOpHcCeQXn8CND/sBKcQkVv4yk46ipyo3TTmL36uZDlx03i+QMRuNGJO3amIyVUQKRJfDCM54qfd\n",
       "K9ARTCDK2VqTkA2luJ1qtcZxYUsPjIlQNWXlJlAzhx/oLGiIFOngjgwESBwynoEA9NHNdUZUMxZy\n",
       "2gvdD8HZiPsOpKzl0H2ASJE0d5wI3afyyULE/XcqcfERVxUz5mp8JAg+dOHHcfDz0n0DtbJLQWRD\n",
       "RIpkV+haCoMf8+JgIOD89NcvRA5Kcwz92DTmU2zJvhErRaIg3VPZd2OALE9DpAhLJ6nGfWTqNBgI\n",
       "5NbxesRlZDBIlTrPY2IlKDxw9ouVQhSZWDyx7J2bbmgLEEVkIA/t55XXpnvBRKjs35UEMh+Ww5bb\n",
       "42D1raJ9Uhge+yncEyIXca94QsGwmxoyr5TmyxdDYvkTiF0ykbt9uG0N+0i6M7IFZ8TEwlv/+Up0\n",
       "lx4FDfmDSIA47qaIVYxYk8bO3B998Zzxi1D8Z2QiYh0znm03Eh/PMERFWkW2R8zPjOdYxSSyZiSj\n",
       "Iq0iMfMnKGf+p8AO0/DJNEREWkR+A7kj/1WGxySrAAAAAElFTkSuQmCC\n",
       "\" style=\"display:inline;vertical-align:middle;\" /></a></td></tr>\n",
       "<tr><td>2</td><td>Literal</td><td></td><td><a class=\"ProveItLink\" href=\"../087d0b4ded7c7e5bf3bba05ecb616d7a8051ff650/expr.ipynb\"><img src=\"data:image/png;base64,iVBORw0KGgoAAAANSUhEUgAAAAwAAAAOBAMAAADpk+DfAAAALVBMVEX///+YmJh2dnZmZmaqqqrc\n",
       "3NwyMjLu7u4iIiJERESIiIhUVFTMzMy6uroAAAD0I/TTAAAAAXRSTlMAQObYZgAAAEtJREFUCNdj\n",
       "uMAABDwMe0DUKoaTIKqdgS2AgYHFAITAzHYGsMQqBoa9QIqDgT0BSDE7MAkAKdYEDpAehj1SYOpk\n",
       "O5hiMwBTPAUMDAB33Atnw8aG2QAAAABJRU5ErkJggg==\n",
       "\" style=\"display:inline;vertical-align:middle;\" /></a></td></tr>\n",
       "<tr><td>3</td><td>ExprTuple</td><td>4, 5, 6, 7</td><td><a class=\"ProveItLink\" href=\"../2dbce677fed10e6738aa121bd3a4f69552ca5da70/expr.ipynb\"><img src=\"data:image/png;base64,iVBORw0KGgoAAAANSUhEUgAAAKEAAAAVBAMAAADcJJPmAAAAMFBMVEX////c3NwiIiJERESqqqqY\n",
       "mJh2dnZmZmYQEBDu7u4yMjJUVFTMzMyIiIi6uroAAAAs73DqAAAAAXRSTlMAQObYZgAAAhxJREFU\n",
       "OMutlT9IG1Ecx78hOZMzd/EGQdBBKSg6tUtpCoLZHA0KjprNOhSlYu2m0E4O9egUSsEsoragAYdC\n",
       "b9A9QwSHLpVEF6tTrP+wsU1/v5Mm73eXIWAO8t7d531/v3vv/b7vAjT/iu03MdkENzmBjB4p0XbL\n",
       "zs6WJ04/+DofmFWJSbJvg0B4jx42hbi15ImOPAEWi5K9SCL2JilQWwYYSQDUmXLRo7eejHkaz2cF\n",
       "+jhAzYwlZSmaIMWO0xxsdSAwfO7JWKDIyZRAGxzy0yOjZRh/gDRwJgZM868nY5x+/eKt4UtuO6Rs\n",
       "iKdTBoIJvBYDp6ErT0ZSdT4XpDvD7Scpu+CqkrZlFmuiiEWeuah9+fB7r0SLSb9r3DDtGghl8J5u\n",
       "Xz2iq4+9icDNveQ/MmlfP2QFe6zUpCq7o4co7VhsCdV9Y1/mHOdCeTOh4BLJrwSruL0tZWy6CGmN\n",
       "ksxIBVuWGduy96tR2Ap3oT0pI9diMulmfKfwENdVZsyTKnop2C5PL+yRsavfwl31U4W3U7dN9VEQ\n",
       "25GLa9eYGz0tEAo05SCfPi2DqWq5oLMthmys9lQR29FYtqH/qsk0mvKJJRDb0Vjne3LPce28xH9b\n",
       "GKusI107N3MVx/lMC9dXlALnviwkBNJZ9szd2dYiIpbfXUd1vnlWI8g9hVrKj+tYWGsIAS99X7MH\n",
       "ZnRL0eXDZh3pfkMIUd6JQDP/FX4A/wAc0Jd7WRi8RAAAAABJRU5ErkJggg==\n",
       "\" style=\"display:inline;vertical-align:middle;\" /></a></td></tr>\n",
       "<tr><td>4</td><td>Operation</td><td>operator:&nbsp;11<br>operand:&nbsp;8<br></td><td><a class=\"ProveItLink\" href=\"../feaa1d0e6d92ad9ead8e5ffd1f92697e3912387a0/expr.ipynb\"><img src=\"data:image/png;base64,iVBORw0KGgoAAAANSUhEUgAAABwAAAAOBAMAAADOPWE3AAAAMFBMVEX///8QEBBERES6urqIiIiq\n",
       "qqrc3Nzu7u6YmJgyMjJUVFTMzMx2dnYiIiJmZmYAAADMbjvTAAAAAXRSTlMAQObYZgAAAGNJREFU\n",
       "CNdjYEAA7gsMyIDzAwq39zsyjy3uGzKXheUzMtec9QcSj92A+wsDw9u7QHAHyGVmYPsHldkFwqtW\n",
       "fULiGjAwSCK4rEDqIoKbCqTmw1zLwD4BSOkXwFyk+DOBoen/PABSrhtHsYt+gAAAAABJRU5ErkJg\n",
       "gg==\n",
       "\" style=\"display:inline;vertical-align:middle;\" /></a></td></tr>\n",
       "<tr><td>5</td><td>Operation</td><td>operator:&nbsp;11<br>operand:&nbsp;9<br></td><td><a class=\"ProveItLink\" href=\"../1da4e2fe7c44632f084fa27ea32e26dc689384c20/expr.ipynb\"><img src=\"data:image/png;base64,iVBORw0KGgoAAAANSUhEUgAAAB0AAAAOBAMAAAAh/woJAAAAMFBMVEX///+qqqru7u7c3NyIiIgQ\n",
       "EBC6uroyMjJERESYmJhUVFTMzMx2dnYiIiJmZmYAAADtoHoAAAAAAXRSTlMAQObYZgAAAHpJREFU\n",
       "CNdjYIACzvW/Vq0oY0AA1gYGhvcJCP5+ByBegOD7GzAwzD+A4LcC8VUFBP8XA4N5E4LL/cvF7yaQ\n",
       "fnsXCO4wMLB8ZmDQhRm3i4GBIwAo9hPB5wfKcf5B8PdPYGDg+ojgg6y3L4AZDraeOxxh/Yv/q1aV\n",
       "A7UAAFRxJOZ+1MVPAAAAAElFTkSuQmCC\n",
       "\" style=\"display:inline;vertical-align:middle;\" /></a></td></tr>\n",
       "<tr><td>6</td><td>Operation</td><td>operator:&nbsp;11<br>operand:&nbsp;10<br></td><td><a class=\"ProveItLink\" href=\"../4fbdcb4671f0f96544ca64362db2c9fec03a54b30/expr.ipynb\"><img src=\"data:image/png;base64,iVBORw0KGgoAAAANSUhEUgAAAB0AAAAOBAMAAAAh/woJAAAAMFBMVEX///+qqqoyMjK6uroQEBDc\n",
       "3NyYmJhERESIiIju7u5UVFTMzMx2dnYiIiJmZmYAAABcp3IwAAAAAXRSTlMAQObYZgAAAG9JREFU\n",
       "CNdjYIABzvZ1z1gfwLkMRxIYmJ8kwLmTbgKJ8wFwvsoEIGEC5/J9BJFxcH68AoicDee/h5n09i4Q\n",
       "3GG4jzAJCHYx/AfTE+B8fxDFuAHOXw+S4kOo398ApE7C+NwMbED77ZDN3KX1TgBIAQC0Ih9XIAXH\n",
       "nQAAAABJRU5ErkJggg==\n",
       "\" style=\"display:inline;vertical-align:middle;\" /></a></td></tr>\n",
       "<tr><td>7</td><td>Operation</td><td>operator:&nbsp;11<br>operand:&nbsp;12<br></td><td><a class=\"ProveItLink\" href=\"../c73b4c1401958a1aff8e67e1df37ba89db69842c0/expr.ipynb\"><img src=\"data:image/png;base64,iVBORw0KGgoAAAANSUhEUgAAAB4AAAAOBAMAAADKyLEKAAAAMFBMVEX///8QEBCYmJjc3Ny6urru\n",
       "7u6qqqpEREQyMjKIiIhUVFTMzMx2dnYiIiJmZmYAAABStBNaAAAAAXRSTlMAQObYZgAAAHtJREFU\n",
       "CNdjYIACzvW/Vq2oZkAA/gYGhvwEBH//AQYGvq8I/nwHBgbunwh+PRAz/0LwvwMxN4IPVsr0h+Ht\n",
       "XSC4A7TvN5DP9QUiuYuBgf0DkGYUgPP5C4C0vgKcv38CkBZngPPnbwDqaYUZDraeuw9uG+vz/6tW\n",
       "1QGVAADBniOLezkOFwAAAABJRU5ErkJggg==\n",
       "\" style=\"display:inline;vertical-align:middle;\" /></a></td></tr>\n",
       "<tr><td>8</td><td>Variable</td><td></td><td><a class=\"ProveItLink\" href=\"../../../../../__pv_it/2cbe72a7ad6f655694dd697106680215e8489b600/expr.ipynb\"><img src=\"data:image/png;base64,iVBORw0KGgoAAAANSUhEUgAAAA8AAAAOBAMAAAACpFvcAAAALVBMVEX///8QEBBERERUVFS6urqI\n",
       "iIhmZmaqqqrc3Nzu7u6YmJgyMjIiIiLMzMwAAADtIaYWAAAAAXRSTlMAQObYZgAAAFtJREFUCNdj\n",
       "YACBOwxQsA9Kc52bAGG05zVAGAFxDmCaZULdAjBjCsO9ADDDgaEvAUTzGhvbKYCVMDAwbgAxChgY\n",
       "eASANAeQwf0AyJgNxEwvGRia5HYwcOm9TgAA6BoR3jrzwFcAAAAASUVORK5CYII=\n",
       "\" style=\"display:inline;vertical-align:middle;\" /></a></td></tr>\n",
       "<tr><td>9</td><td>Variable</td><td></td><td><a class=\"ProveItLink\" href=\"../../../../../__pv_it/077b2ff79244fb4582cbe22c6e3356fa92a52f2f0/expr.ipynb\"><img src=\"data:image/png;base64,iVBORw0KGgoAAAANSUhEUgAAABAAAAAOBAMAAADUAYG5AAAAMFBMVEX///+qqqru7u4iIiJ2dnbc\n",
       "3NyIiIjMzMxmZmYQEBC6uroyMjJERERUVFSYmJgAAADLUcuvAAAAAXRSTlMAQObYZgAAAGpJREFU\n",
       "CNdjYGB4+//u3dMLGIBgDgMDxy8gzf4NiP8CGWxfGRj4vgAZPBMYGJgnARn8FxhY9ygAGfXX0pof\n",
       "gDTlBzAw2YIYJ0EckBBI53sHoBH/gIz7AhBjWH9DjancBLTl/N+7t/cxMAAA3u4f/5xagjYAAAAA\n",
       "SUVORK5CYII=\n",
       "\" style=\"display:inline;vertical-align:middle;\" /></a></td></tr>\n",
       "<tr><td>10</td><td>Variable</td><td></td><td><a class=\"ProveItLink\" href=\"../../../../../__pv_it/985a1bdf1540838275dec15f4ad6de261cca93ce0/expr.ipynb\"><img src=\"data:image/png;base64,iVBORw0KGgoAAAANSUhEUgAAAA8AAAAOBAMAAAACpFvcAAAAMFBMVEX////MzMyqqqoiIiIyMjK6\n",
       "uroQEBB2dnbc3NyYmJhmZmZUVFRERESIiIju7u4AAAB204erAAAAAXRSTlMAQObYZgAAAGZJREFU\n",
       "CNdjYGDgu7NrJccCBgaGsgkMrMsmMDA8sQNy6hsYGNweABlhDAxcn4A0QxcDQ78DiPGQgWH9BAYI\n",
       "sG+AMv6DSaCGfBDNJMDAsB+kmwuI5S8AiTog5gSaEwXWIO29SgFIAQBC+RaDQlidVgAAAABJRU5E\n",
       "rkJggg==\n",
       "\" style=\"display:inline;vertical-align:middle;\" /></a></td></tr>\n",
       "<tr><td>11</td><td>Literal</td><td></td><td><a class=\"ProveItLink\" href=\"../../../negation/__pv_it/7bea79645543c2413aa17e787cca04e21046fde60/expr.ipynb\"><img src=\"data:image/png;base64,iVBORw0KGgoAAAANSUhEUgAAAAwAAAAGBAMAAAAFwGKyAAAAFVBMVEX///9UVFTMzMx2dnYiIiJm\n",
       "ZmYAAACWz4ZEAAAAAXRSTlMAQObYZgAAABRJREFUCNdjCHEBAmcGMFDEQzEBAEl+Ai6uYJv/AAAA\n",
       "AElFTkSuQmCC\n",
       "\" style=\"display:inline;vertical-align:middle;\" /></a></td></tr>\n",
       "<tr><td>12</td><td>Variable</td><td></td><td><a class=\"ProveItLink\" href=\"../../../../../__pv_it/185e6d30f167ee2ee5ef3321098dc98e0d77bc590/expr.ipynb\"><img src=\"data:image/png;base64,iVBORw0KGgoAAAANSUhEUgAAABEAAAAOBAMAAAA7w+qHAAAALVBMVEX///8QEBCYmJjc3Ny6urru\n",
       "7u5mZmZ2dnaqqqrMzMxEREQyMjJUVFSIiIgAAABETr/8AAAAAXRSTlMAQObYZgAAAGpJREFUCNdj\n",
       "YGC48+7MmV0TGEDgNQMDxwsQg/M5kMgLABK8T4DEvAtAgusBkLA7ACT4FoDEDsAk9AqAxD2QCecc\n",
       "gMQ6kAGCIOIVEDM9Ahn3FkgwgnTxvgQSqwOgxs1OADLC1r05cyoTyAAAv4Qe+njAWvgAAAAASUVO\n",
       "RK5CYII=\n",
       "\" style=\"display:inline;vertical-align:middle;\" /></a></td></tr>\n",
       "</table>\n"
      ],
      "text/plain": [
       "0. ([not](A) or [not](B) or [not](C) or [not](D))\n",
       "   core type: ExprTuple\n",
       "   sub-expressions: 1\n",
       "1. [not](A) or [not](B) or [not](C) or [not](D)\n",
       "   core type: Operation\n",
       "   operator: 2\n",
       "   operands: 3\n",
       "2. or\n",
       "   core type: Literal\n",
       "   sub-expressions: \n",
       "3. ([not](A) , [not](B) , [not](C) , [not](D))\n",
       "   core type: ExprTuple\n",
       "   sub-expressions: 4, 5, 6, 7\n",
       "4. [not](A)\n",
       "   core type: Operation\n",
       "   operator: 11\n",
       "   operand: 8\n",
       "5. [not](B)\n",
       "   core type: Operation\n",
       "   operator: 11\n",
       "   operand: 9\n",
       "6. [not](C)\n",
       "   core type: Operation\n",
       "   operator: 11\n",
       "   operand: 10\n",
       "7. [not](D)\n",
       "   core type: Operation\n",
       "   operator: 11\n",
       "   operand: 12\n",
       "8. A\n",
       "   core type: Variable\n",
       "   sub-expressions: \n",
       "9. B\n",
       "   core type: Variable\n",
       "   sub-expressions: \n",
       "10. C\n",
       "    core type: Variable\n",
       "    sub-expressions: \n",
       "11. not\n",
       "    core type: Literal\n",
       "    sub-expressions: \n",
       "12. D\n",
       "    core type: Variable\n",
       "    sub-expressions: "
      ]
     },
     "execution_count": 4,
     "metadata": {},
     "output_type": "execute_result"
    }
   ],
   "source": [
    "# display the expression information\n",
    "expr.exprInfo()"
   ]
  },
  {
   "cell_type": "code",
   "execution_count": null,
   "metadata": {},
   "outputs": [],
   "source": []
  }
 ],
 "metadata": {
  "kernelspec": {
   "display_name": "Python 3",
   "language": "python",
   "name": "python3"
  }
 },
 "nbformat": 4,
 "nbformat_minor": 0
}
