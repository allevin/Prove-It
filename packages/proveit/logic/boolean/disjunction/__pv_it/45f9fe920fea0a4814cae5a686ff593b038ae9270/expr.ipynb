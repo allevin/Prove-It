{
 "cells": [
  {
   "cell_type": "markdown",
   "metadata": {},
   "source": [
    "Expression of type <a class=\"ProveItLink\" href=\"../../../../../../../doc/html/api/proveit.ExprTuple.html\">ExprTuple</a>\n",
    "=======================\n",
    "# from context <a class=\"ProveItLink\" href=\"../../_context_.ipynb\">proveit.logic.boolean.disjunction</a>"
   ]
  },
  {
   "cell_type": "code",
   "execution_count": 1,
   "metadata": {},
   "outputs": [],
   "source": [
    "# import Expression classes needed to build the expression\n",
    "from proveit import ExprTuple\n",
    "from proveit._common_ import A, B, C, D\n",
    "from proveit.logic import Or"
   ]
  },
  {
   "cell_type": "code",
   "execution_count": 2,
   "metadata": {},
   "outputs": [
    {
     "data": {
      "text/html": [
       "<strong id=\"expr\">expr:</strong> <a class=\"ProveItLink\" href=\"expr.ipynb\"><img src=\"data:image/png;base64,iVBORw0KGgoAAAANSUhEUgAAATUAAAAVBAMAAADV6mS1AAAAMFBMVEX////c3NwiIiJERESqqqqY\n",
       "mJh2dnZmZmYQEBDu7u4yMjJUVFTMzMyIiIi6uroAAAAs73DqAAAAAXRSTlMAQObYZgAAA5BJREFU\n",
       "SMfNVk1oE1EQnvxskt1sNgELQkXai2BPFVGsIiS3gpcGhR4ErRepHsSCvwchFT1oDzZ4UYpIikj9\n",
       "Aa14EIyYYvGgPaTgwYOWFi9WQajWH9qqdX42qbt9bz1owYW89/LNvJl5M9/7AfifP2d8hR18CBIa\n",
       "UxrBXmrGZPzEP6myUL5/xweaLx4cC/V4oFeL5fK1kQAFe1i6ZrX9Uz4XKcQfbgeIk82bgt3llldh\n",
       "8zCxAaCA/x3+J94P5ME5mfdi8wDRzzXLCgWryGNrRm3f8vtNlwA6cgDYpaSkRiubeETNBCNVFFRx\n",
       "zUnyIFoDLdgczngw+ys2BfGvVBBrsHNObd/Y58cRiKNyJ4YvZhsKGepGqWlhZBKBLtSzcX0QZq0b\n",
       "1E6DB0v9dP3oFM6zJNT+UW3f7PXjmEP7B8BlgPdidXyS02rhhKjwpQ1/68n6IP7aCYlz6VbD7xhE\n",
       "qFZNwimVglMSGvEaVPY3+fAsrWQBDefguGzWYkeeepJbnEFAceNWcF2QK2hiN1c8GKQpQ1WJTaUQ\n",
       "55rBu+gXjf1uHz5LaUdhrAeuM3C1VpYWN78onni5jkdYGi4RFPL13VTHZF6XBKBSsBgzp6hMSvs7\n",
       "fDjpGUjiaAkuuPukSTKKfHwsRUB+XOR0IKWTXPDWzNJOr2EwSayvyFilkODWgdA3jf1pH/4dmyQS\n",
       "wOkFpoFdLlckDWEwhSAR5GiK6wDNMMD9IrdFD8b0gHOgVUhzbGPl8qzGftWHE38TKLRnJDY8jhIi\n",
       "iudiUpj0sKQWv6Own/t+ZsaIB2N6GLIGpYLEhk2fxn7Vh1OOuvIc21kC8KgL98peL4XFTxXFSTlT\n",
       "G0HO9AplJA4ejOmRkJwrFRI5ipf2pMb+tA8n/p4BrulmEuRq5zaegnugfvzIvoPk0/GlaQfBgzE9\n",
       "thWlkiqFCKWjoX7xLLe/24dj2iN0Vxkl3sLEjMicyEblBKTjx+4T6tgbpTdwmW9dutcwosdz3Ebm\n",
       "J41CjIQUQ7aott/t9Yv8tYfciW8AVvUPgpGdl41qSXcEr/BbtSNhyO3Hbp/IgQe7lMUbm65rsz+j\n",
       "VACnGUJt8xnYtTiktu++JwQ3Cd8i9/AUJDLed4BdXP5eeQZ/xpyMRuF0sH25sxR+8c6Su/bvP0Mn\n",
       "6AyeF9M9Hw8tvZFWLDarGDhvQIMzR9f8m9i0r+fQcOC8exo8SRwJrfSbfG2QMDWiEbwG+AWeRkmq\n",
       "k1jpSgAAAABJRU5ErkJggg==\n",
       "\" style=\"display:inline;vertical-align:middle;\" /></a><br>"
      ],
      "text/plain": [
       "expr: (A or B or C or D , C or (A or B) or D)"
      ]
     },
     "execution_count": 2,
     "metadata": {},
     "output_type": "execute_result"
    }
   ],
   "source": [
    "# build up the expression from sub-expressions\n",
    "expr = ExprTuple(Or(A, B, C, D), Or(C, Or(A, B), D))"
   ]
  },
  {
   "cell_type": "code",
   "execution_count": 3,
   "metadata": {},
   "outputs": [
    {
     "name": "stdout",
     "output_type": "stream",
     "text": [
      "Passed sanity check: built 'expr' is the same as the stored Expression.\n"
     ]
    }
   ],
   "source": [
    "# check that the built expression is the same as the stored expression\n",
    "%check_expr"
   ]
  },
  {
   "cell_type": "code",
   "execution_count": 4,
   "metadata": {},
   "outputs": [
    {
     "data": {
      "text/html": [
       "<table><tr><th>&nbsp;</th><th>core type</th><th>sub-expressions</th><th>expression</th></tr>\n",
       "<tr><td>0</td><td>ExprTuple</td><td>1, 2</td><td><a class=\"ProveItLink\" href=\"expr.ipynb\"><img src=\"data:image/png;base64,iVBORw0KGgoAAAANSUhEUgAAATUAAAAVBAMAAADV6mS1AAAAMFBMVEX////c3NwiIiJERESqqqqY\n",
       "mJh2dnZmZmYQEBDu7u4yMjJUVFTMzMyIiIi6uroAAAAs73DqAAAAAXRSTlMAQObYZgAAA5BJREFU\n",
       "SMfNVk1oE1EQnvxskt1sNgELQkXai2BPFVGsIiS3gpcGhR4ErRepHsSCvwchFT1oDzZ4UYpIikj9\n",
       "Aa14EIyYYvGgPaTgwYOWFi9WQajWH9qqdX42qbt9bz1owYW89/LNvJl5M9/7AfifP2d8hR18CBIa\n",
       "UxrBXmrGZPzEP6myUL5/xweaLx4cC/V4oFeL5fK1kQAFe1i6ZrX9Uz4XKcQfbgeIk82bgt3llldh\n",
       "8zCxAaCA/x3+J94P5ME5mfdi8wDRzzXLCgWryGNrRm3f8vtNlwA6cgDYpaSkRiubeETNBCNVFFRx\n",
       "zUnyIFoDLdgczngw+ys2BfGvVBBrsHNObd/Y58cRiKNyJ4YvZhsKGepGqWlhZBKBLtSzcX0QZq0b\n",
       "1E6DB0v9dP3oFM6zJNT+UW3f7PXjmEP7B8BlgPdidXyS02rhhKjwpQ1/68n6IP7aCYlz6VbD7xhE\n",
       "qFZNwimVglMSGvEaVPY3+fAsrWQBDefguGzWYkeeepJbnEFAceNWcF2QK2hiN1c8GKQpQ1WJTaUQ\n",
       "55rBu+gXjf1uHz5LaUdhrAeuM3C1VpYWN78onni5jkdYGi4RFPL13VTHZF6XBKBSsBgzp6hMSvs7\n",
       "fDjpGUjiaAkuuPukSTKKfHwsRUB+XOR0IKWTXPDWzNJOr2EwSayvyFilkODWgdA3jf1pH/4dmyQS\n",
       "wOkFpoFdLlckDWEwhSAR5GiK6wDNMMD9IrdFD8b0gHOgVUhzbGPl8qzGftWHE38TKLRnJDY8jhIi\n",
       "iudiUpj0sKQWv6Own/t+ZsaIB2N6GLIGpYLEhk2fxn7Vh1OOuvIc21kC8KgL98peL4XFTxXFSTlT\n",
       "G0HO9AplJA4ejOmRkJwrFRI5ipf2pMb+tA8n/p4BrulmEuRq5zaegnugfvzIvoPk0/GlaQfBgzE9\n",
       "thWlkiqFCKWjoX7xLLe/24dj2iN0Vxkl3sLEjMicyEblBKTjx+4T6tgbpTdwmW9dutcwosdz3Ebm\n",
       "J41CjIQUQ7aott/t9Yv8tYfciW8AVvUPgpGdl41qSXcEr/BbtSNhyO3Hbp/IgQe7lMUbm65rsz+j\n",
       "VACnGUJt8xnYtTiktu++JwQ3Cd8i9/AUJDLed4BdXP5eeQZ/xpyMRuF0sH25sxR+8c6Su/bvP0Mn\n",
       "6AyeF9M9Hw8tvZFWLDarGDhvQIMzR9f8m9i0r+fQcOC8exo8SRwJrfSbfG2QMDWiEbwG+AWeRkmq\n",
       "k1jpSgAAAABJRU5ErkJggg==\n",
       "\" style=\"display:inline;vertical-align:middle;\" /></a></td></tr>\n",
       "<tr><td>1</td><td>Operation</td><td>operator:&nbsp;8<br>operands:&nbsp;3<br></td><td><a class=\"ProveItLink\" href=\"../342f44533fb807d4878ee35ed73a6dd435e8ed210/expr.ipynb\"><img src=\"data:image/png;base64,iVBORw0KGgoAAAANSUhEUgAAAIcAAAAPBAMAAAA8KsGMAAAAMFBMVEX///92dnYQEBBERERUVFS6\n",
       "urqIiIhmZmaqqqrc3Nzu7u6YmJgyMjIiIiLMzMwAAACFkkdwAAAAAXRSTlMAQObYZgAAAehJREFU\n",
       "OMuNUz0sQ1EUPm2fVv9e7RYxIiFiEtImnlhEu1k7SI1tYsCi3WxIDAySvgULSSerJiLShBBjDSQ2\n",
       "P2kbJVUNzs9V95nc5J5373e/d853zj0XgMYzOEcwXrcmTv+AeyOLhS0nNPdlWSd3anNJpoOXArmH\n",
       "ALIJB+bqB5jFCQnamfJjC6CzoQLf2mgN4nqTjFTwU4npWOACOa53XM0QIcU0s4Yma/N6O7tBCEaH\n",
       "sCBpBI67dCzUR2J70NwTocw076sKiCOZZoklnKuibRjnta1j2Rwaf4bcYYDODNM8VTT5GBfDXi+A\n",
       "IpfESR1gZ1TH/C3aBSg7ckCOcERIaIWd7CpFKJvlYxb11PwN6Jjv4/dOyiollQmlTeXOszosoJGQ\n",
       "XLGAhzEdC7//OsGiTsoqTcridG5aVlwEXMGBHHqwgN4PHYtUOR1RB4Gi8KJkelV/uAVcgm45jKCK\n",
       "YE3H3OxkjSFfzlUQ3gv1BwfDsod7GNvBuJIrkoyGjhlNsnIn/mJYaOab6kvwo5MQxwHjMQntNskX\n",
       "dYz5LmkimDmSr/cTzRiBlLKnKZ7H7XabmAO2AzvOQceyqux9Gdpt8kTqNgdLEIy2ROiZHC7guzpX\n",
       "af9g5vTU0s/1hIS9H8VnugJ/xwPAfzDTdu6/AcG6i5kiy891AAAAAElFTkSuQmCC\n",
       "\" style=\"display:inline;vertical-align:middle;\" /></a></td></tr>\n",
       "<tr><td>2</td><td>Operation</td><td>operator:&nbsp;8<br>operands:&nbsp;4<br></td><td><a class=\"ProveItLink\" href=\"../d5c5466c0e3b37c5768d7e916dcf9418bd1e9c8d0/expr.ipynb\"><img src=\"data:image/png;base64,iVBORw0KGgoAAAANSUhEUgAAAJYAAAAVBAMAAABWCwqnAAAAMFBMVEX////MzMyqqqoiIiIyMjK6\n",
       "uroQEBB2dnbc3NyYmJhmZmZUVFRERESIiIju7u4AAAB204erAAAAAXRSTlMAQObYZgAAAipJREFU\n",
       "OMu1lD1IHEEUx/8b9byvPQ+sJJCzSGWjlWATr4jiB+iBIYXVIaYLeJWghR7Byghukd7TIiEhcFek\n",
       "CFnhjIFAUsStJcELufQqisr59d7MrbszXBauyMLM2/d7szPvawf430+bE2SNZP5pSvz89DZcUNB9\n",
       "KTr1Tco1e3sI2NS4SfzDZ36bt9D22iJnBE/yNCHXTAofPYzQDlDMoFXnHWmgtxuoPiJlOQ/EmJuO\n",
       "O5EbgxX4MZAikSohktM5geg1MMwfPKVh0KFoYS1UESteFPMKBg4IbOSQyOqcMmhcIXrMyipPIzR6\n",
       "+OWJDNE5yCgY+Eqjnz7f1fgejXAN62lWfqNu4AV4I4tZ6bUUDNSAlR8kFzV+yX7WULTuykEOC8cx\n",
       "KtS/Ij0+TMt/7Q/wy0ONX3F2zzCY90rrICaieibUDNYLCoZ5Dvwp1dPr50dci1PcCE2msA9VIU/F\n",
       "YbZd3lEw4pRz84LrpvFDLlgWc6zck22yhQVvL+qfUFrB6CiJUNy9PM5nblgos0tRyVboKH5meKLW\n",
       "a8kqGCnKbezYjdHHOa/P63JJsliXbL1vXGLaq/VQwaK9RN1faZzCitO/EqFzpuv5N77IvHHJORXx\n",
       "awVzexmzFbcnPE7tZYyJ/3j8XbdbyTEppoC1uRFE9k4Kfvz+xrYfixYa8i9PMP+e1K+MB1KE8g2x\n",
       "d7NkG/OGF1Qu2N7uNHEXTgSbq83cqy+DzR+b2SscGISZbMxvAQBJn1eGbmiLAAAAAElFTkSuQmCC\n",
       "\" style=\"display:inline;vertical-align:middle;\" /></a></td></tr>\n",
       "<tr><td>3</td><td>ExprTuple</td><td>10, 11, 5, 7</td><td><a class=\"ProveItLink\" href=\"../8dc7b16fdb66b67ef402636d7d0da333f49c83890/expr.ipynb\"><img src=\"data:image/png;base64,iVBORw0KGgoAAAANSUhEUgAAAGkAAAAVBAMAAAC3TN2zAAAAMFBMVEX////c3NwiIiJERESqqqqY\n",
       "mJh2dnZmZmYQEBDu7u4yMjJUVFTMzMyIiIi6uroAAAAs73DqAAAAAXRSTlMAQObYZgAAAfBJREFU\n",
       "OMudVDFLW1EU/tJ4G595eQYUBB2cCu2kS6mCYP6Bb3LUbOogBkpbtwTaqUMTOomU8hxEW0EFB8E3\n",
       "JLhmMODgohhcWjpFawuaVnvOPfc2r0OgeuGe953z3XPv98657wH3G17tjglTbKqC921QlZvhzqb1\n",
       "nMPdF7Gchiki9saARIWcT0Jv/d2rcxjI140z68Nb9AV3B8BEBqBHSgSqoZLNOqDIwbbg5SdkFtKG\n",
       "yNJBV8Ak7Syre/Npm3VKaDoreJ3Zr5YgAe5vYAn4JpHaqdWEEZqPZa/EJds+Q4zTjDWBeAYvpZCl\n",
       "Cd9mUbx/VOBgwPaDIb7TdIl9mMOqDnzUb6OH2zw5emRw3o9UnMVB/QQ6ArzTkToGc4ZMnQPvTTGG\n",
       "0pGs1C8yyRsSVsCN3iYMy8OGjBdowQ/Bt9qa6sYb3BZi3YZkeeQGJqt7W3TwKLLpqBiC9532ddYb\n",
       "DlDrHhRsuyievBRc5mMSkT7iNbTCp1xOyupqGCncLq5dyS6cswSdGeebpALM8A1g1VdwLky73Lcl\n",
       "cRSd+SVtCGqXu8aAKn8G9BRXoMavc06Rjnl+G4afSaR2UN14lRHsMPFMv2JXHZ2R4nrRQnvtCL5R\n",
       "KttyVZRTbTAw3/pS/j/L4R4NtPx/vupaG4wky43d9Q9wDPwB+mqFhV2344EAAAAASUVORK5CYII=\n",
       "\" style=\"display:inline;vertical-align:middle;\" /></a></td></tr>\n",
       "<tr><td>4</td><td>ExprTuple</td><td>5, 6, 7</td><td><a class=\"ProveItLink\" href=\"../e7703880e4f080670feb4264e6ef53879ef3f5f20/expr.ipynb\"><img src=\"data:image/png;base64,iVBORw0KGgoAAAANSUhEUgAAAHcAAAAVBAMAAACOK2zoAAAAMFBMVEX////c3NwiIiJERESqqqqY\n",
       "mJh2dnZmZmYQEBDu7u4yMjJUVFTMzMyIiIi6uroAAAAs73DqAAAAAXRSTlMAQObYZgAAAipJREFU\n",
       "OMulVD1oFFEQ/u5nL7d3u8kWgqCFNoJ2NmJEIdvZCB4KdprrrISIomUETWEKPazSiIsgQQsNWAjZ\n",
       "oIErU5ydjeFOG9EqMUYxp4nfzHtv46YJXA529s28+ebmfd+8Bfb0G34/GO6KmCUxj0/fbuzP4sHh\n",
       "fJ73rp++fmmdkM78GWBokc5zPpUp4MtUllxbEdvTOhqoHgcme3Z3JAHOxwBfIbv2n7ZYYDUDX/gt\n",
       "dkHMsgY6TOrM2d1Ok3/LjEssSlztvpz9jsMWzmqdtphjGulGwHjTbnfZQvAXmAG+0Z2MBTLhwGG4\n",
       "qc0TUTbBUT5HW3Z7TJL7QCnGLa42JOYvOvDX8rq8BCgF+GPqgVNue02oYKQygWc8wHqOW78nTZmW\n",
       "24b9/vKHI5kUsun9ZPEED4Dial54FH7BkvXWnIMJjxxf4R+a+qaSRDuiyvgOvJSma7oowk90USKX\n",
       "oWuvJNlVRoIVAVcVfM6BSea0LobiSsMoO2caNQ41x3hDwffYg8rqyC4Ls0aypGiVZWr9h5NZxvmu\n",
       "0faEpaDSso3v4/PK5C1cRibzIZ5AxepSlZKMpZfgqjQRY/g68ERGWo85ZjRtmxERmYNpFv9uZQ5m\n",
       "ZUGpPgv7829u8jVDUgujGxEubs2aGTdHubGVpi/Yuf8wgi/OSR2JWg/VaFukTztuXdDacXuj/z2O\n",
       "p9fcdhu7XGEv512zV3IQsJJzMHPD3T4euW9OXc5QGPAz9BH4Bw96jhp/wJTvAAAAAElFTkSuQmCC\n",
       "\" style=\"display:inline;vertical-align:middle;\" /></a></td></tr>\n",
       "<tr><td>5</td><td>Variable</td><td></td><td><a class=\"ProveItLink\" href=\"../../../../../__pv_it/985a1bdf1540838275dec15f4ad6de261cca93ce0/expr.ipynb\"><img src=\"data:image/png;base64,iVBORw0KGgoAAAANSUhEUgAAAA8AAAAOBAMAAAACpFvcAAAAMFBMVEX////MzMyqqqoiIiIyMjK6\n",
       "uroQEBB2dnbc3NyYmJhmZmZUVFRERESIiIju7u4AAAB204erAAAAAXRSTlMAQObYZgAAAGZJREFU\n",
       "CNdjYGDgu7NrJccCBgaGsgkMrMsmMDA8sQNy6hsYGNweABlhDAxcn4A0QxcDQ78DiPGQgWH9BAYI\n",
       "sG+AMv6DSaCGfBDNJMDAsB+kmwuI5S8AiTog5gSaEwXWIO29SgFIAQBC+RaDQlidVgAAAABJRU5E\n",
       "rkJggg==\n",
       "\" style=\"display:inline;vertical-align:middle;\" /></a></td></tr>\n",
       "<tr><td>6</td><td>Operation</td><td>operator:&nbsp;8<br>operands:&nbsp;9<br></td><td><a class=\"ProveItLink\" href=\"../0f1bf4090acd92174180531bf3e50944b30066e50/expr.ipynb\"><img src=\"data:image/png;base64,iVBORw0KGgoAAAANSUhEUgAAADcAAAAPBAMAAACy3Eq1AAAAMFBMVEX///92dnYQEBBERERUVFS6\n",
       "urqIiIhmZmaqqqrc3Nzu7u6YmJgyMjIiIiLMzMwAAACFkkdwAAAAAXRSTlMAQObYZgAAAP1JREFU\n",
       "GNNjYACBtwyogNv/i4vzUSjnPIhgBTMfgEkmAwaG+gCIwvsLgCQLSJwtASzyHki9dwAzZ9RPAJJ8\n",
       "QNUMvAvAIvlAgf0CYGZCPtiEk0DcDrHHCIgvgdWxLujfwACVOAmR/MLAMMcKzFoKtgJsJNhooA1f\n",
       "0tJvQ5QFMMwvYIA4hgXiQrafDAxrwe7hc3Hxh2i4wLAGopxZAajgN9R/TAfAYhUM0hBJfqAu7o8g\n",
       "VgPQNgWw2BygXog3gQ5k+QFkcAIleT6AxVheQ4IA7M35INNA1jD/gjjSdgHcm3w6QPZk/ZMM3PZ/\n",
       "wM5lOA6RK/7v4nJmA1pkMLxC5QIA6tw+1pV4TWcAAAAASUVORK5CYII=\n",
       "\" style=\"display:inline;vertical-align:middle;\" /></a></td></tr>\n",
       "<tr><td>7</td><td>Variable</td><td></td><td><a class=\"ProveItLink\" href=\"../../../../../__pv_it/185e6d30f167ee2ee5ef3321098dc98e0d77bc590/expr.ipynb\"><img src=\"data:image/png;base64,iVBORw0KGgoAAAANSUhEUgAAABEAAAAOBAMAAAA7w+qHAAAALVBMVEX///8QEBCYmJjc3Ny6urru\n",
       "7u5mZmZ2dnaqqqrMzMxEREQyMjJUVFSIiIgAAABETr/8AAAAAXRSTlMAQObYZgAAAGpJREFUCNdj\n",
       "YGC48+7MmV0TGEDgNQMDxwsQg/M5kMgLABK8T4DEvAtAgusBkLA7ACT4FoDEDsAk9AqAxD2QCecc\n",
       "gMQ6kAGCIOIVEDM9Ahn3FkgwgnTxvgQSqwOgxs1OADLC1r05cyoTyAAAv4Qe+njAWvgAAAAASUVO\n",
       "RK5CYII=\n",
       "\" style=\"display:inline;vertical-align:middle;\" /></a></td></tr>\n",
       "<tr><td>8</td><td>Literal</td><td></td><td><a class=\"ProveItLink\" href=\"../087d0b4ded7c7e5bf3bba05ecb616d7a8051ff650/expr.ipynb\"><img src=\"data:image/png;base64,iVBORw0KGgoAAAANSUhEUgAAAAwAAAAOBAMAAADpk+DfAAAALVBMVEX///+YmJh2dnZmZmaqqqrc\n",
       "3NwyMjLu7u4iIiJERESIiIhUVFTMzMy6uroAAAD0I/TTAAAAAXRSTlMAQObYZgAAAEtJREFUCNdj\n",
       "uMAABDwMe0DUKoaTIKqdgS2AgYHFAITAzHYGsMQqBoa9QIqDgT0BSDE7MAkAKdYEDpAehj1SYOpk\n",
       "O5hiMwBTPAUMDAB33Atnw8aG2QAAAABJRU5ErkJggg==\n",
       "\" style=\"display:inline;vertical-align:middle;\" /></a></td></tr>\n",
       "<tr><td>9</td><td>ExprTuple</td><td>10, 11</td><td><a class=\"ProveItLink\" href=\"../caee09fb4b5c95b986a9cee46a014afbad9bdc680/expr.ipynb\"><img src=\"data:image/png;base64,iVBORw0KGgoAAAANSUhEUgAAADUAAAAVBAMAAAAUZLt1AAAAMFBMVEX////c3NwiIiJERESqqqqY\n",
       "mJh2dnZmZmYQEBDu7u4yMjJUVFTMzMyIiIi6uroAAAAs73DqAAAAAXRSTlMAQObYZgAAATZJREFU\n",
       "KM9jYMAH+C5gFY4DEach7EMwQdb9v3dvXsfAfgDIXgkRWg/XwWHAwFD/gGEBAwMvxEhW/QkwufNA\n",
       "kfMbGMKAqiBiIvUCMLn7QFZ8AsMMBoZXEIEL9x/A5CyAWGMCA7MDQxnEsRP8A2ByvxkYpCwZGNgK\n",
       "GJaC+fPAtoABz++711WBNMsChj6wwAMG+QKoHO9HBoZJG4BGNTD8A6vdvXu/AVSOuQEo/xUo9gEi\n",
       "xwd07wKoHD9QD+s3sFwLiO/AwMDUAPMe0FHcX8BmmgK5jEA5rg8MDBNg3pMHGsK6gCEdyJ0FsuYn\n",
       "A+cnqPd4uiaA/fCIgUG4fyEDq/2vAs5+oJbi/7t3rwL5lesBA4cAUnQhsUFhxpqA4LIiR2AuIo7Q\n",
       "5ThBfpJG8JFTADfIfEbsaeIOAwMABOxNRsfkiy0AAAAASUVORK5CYII=\n",
       "\" style=\"display:inline;vertical-align:middle;\" /></a></td></tr>\n",
       "<tr><td>10</td><td>Variable</td><td></td><td><a class=\"ProveItLink\" href=\"../../../../../__pv_it/2cbe72a7ad6f655694dd697106680215e8489b600/expr.ipynb\"><img src=\"data:image/png;base64,iVBORw0KGgoAAAANSUhEUgAAAA8AAAAOBAMAAAACpFvcAAAALVBMVEX///8QEBBERERUVFS6urqI\n",
       "iIhmZmaqqqrc3Nzu7u6YmJgyMjIiIiLMzMwAAADtIaYWAAAAAXRSTlMAQObYZgAAAFtJREFUCNdj\n",
       "YACBOwxQsA9Kc52bAGG05zVAGAFxDmCaZULdAjBjCsO9ADDDgaEvAUTzGhvbKYCVMDAwbgAxChgY\n",
       "eASANAeQwf0AyJgNxEwvGRia5HYwcOm9TgAA6BoR3jrzwFcAAAAASUVORK5CYII=\n",
       "\" style=\"display:inline;vertical-align:middle;\" /></a></td></tr>\n",
       "<tr><td>11</td><td>Variable</td><td></td><td><a class=\"ProveItLink\" href=\"../../../../../__pv_it/077b2ff79244fb4582cbe22c6e3356fa92a52f2f0/expr.ipynb\"><img src=\"data:image/png;base64,iVBORw0KGgoAAAANSUhEUgAAABAAAAAOBAMAAADUAYG5AAAAMFBMVEX///+qqqru7u4iIiJ2dnbc\n",
       "3NyIiIjMzMxmZmYQEBC6uroyMjJERERUVFSYmJgAAADLUcuvAAAAAXRSTlMAQObYZgAAAGpJREFU\n",
       "CNdjYGB4+//u3dMLGIBgDgMDxy8gzf4NiP8CGWxfGRj4vgAZPBMYGJgnARn8FxhY9ygAGfXX0pof\n",
       "gDTlBzAw2YIYJ0EckBBI53sHoBH/gIz7AhBjWH9DjancBLTl/N+7t/cxMAAA3u4f/5xagjYAAAAA\n",
       "SUVORK5CYII=\n",
       "\" style=\"display:inline;vertical-align:middle;\" /></a></td></tr>\n",
       "</table>\n"
      ],
      "text/plain": [
       "0. (A or B or C or D , C or (A or B) or D)\n",
       "   core type: ExprTuple\n",
       "   sub-expressions: 1, 2\n",
       "1. A or B or C or D\n",
       "   core type: Operation\n",
       "   operator: 8\n",
       "   operands: 3\n",
       "2. C or (A or B) or D\n",
       "   core type: Operation\n",
       "   operator: 8\n",
       "   operands: 4\n",
       "3. (A , B , C , D)\n",
       "   core type: ExprTuple\n",
       "   sub-expressions: 10, 11, 5, 7\n",
       "4. (C , A or B , D)\n",
       "   core type: ExprTuple\n",
       "   sub-expressions: 5, 6, 7\n",
       "5. C\n",
       "   core type: Variable\n",
       "   sub-expressions: \n",
       "6. A or B\n",
       "   core type: Operation\n",
       "   operator: 8\n",
       "   operands: 9\n",
       "7. D\n",
       "   core type: Variable\n",
       "   sub-expressions: \n",
       "8. or\n",
       "   core type: Literal\n",
       "   sub-expressions: \n",
       "9. (A , B)\n",
       "   core type: ExprTuple\n",
       "   sub-expressions: 10, 11\n",
       "10. A\n",
       "    core type: Variable\n",
       "    sub-expressions: \n",
       "11. B\n",
       "    core type: Variable\n",
       "    sub-expressions: "
      ]
     },
     "execution_count": 4,
     "metadata": {},
     "output_type": "execute_result"
    }
   ],
   "source": [
    "# display the expression information\n",
    "expr.exprInfo()"
   ]
  },
  {
   "cell_type": "code",
   "execution_count": null,
   "metadata": {},
   "outputs": [],
   "source": []
  }
 ],
 "metadata": {
  "kernelspec": {
   "display_name": "Python 3",
   "language": "python",
   "name": "python3"
  }
 },
 "nbformat": 4,
 "nbformat_minor": 0
}
