{
 "cells": [
  {
   "cell_type": "markdown",
   "metadata": {},
   "source": [
    "Show the Proof\n",
    "========"
   ]
  },
  {
   "cell_type": "code",
   "execution_count": 1,
   "metadata": {},
   "outputs": [
    {
     "data": {
      "text/html": [
       "<table><tr><th>&nbsp;</th><th>step type</th><th>requirements</th><th>statement</th></tr>\n",
       "<tr><td>0</td><td>assumption</td><td></td><td><span style=\"font-size:20px;\"><a class=\"ProveItLink\" href=\"../0330597166ec91bf33e92121417540f871896a1c0/expr.ipynb\"><img src=\"data:image/png;base64,iVBORw0KGgoAAAANSUhEUgAAAE8AAAAVBAMAAAD1D64kAAAAMFBMVEX////c3NxERESqqqpUVFS6\n",
       "urrMzMwyMjIQEBCIiIh2dnYiIiLu7u5mZmaYmJgAAABXZE4RAAAAAXRSTlMAQObYZgAAAOZJREFU\n",
       "KM9jYGDgu8eAH7CtEgBRPLsYCAG2ZhDJ+QFE+H9xcVfDVMI4AUxdBxFcDSCSv4CBwd4A06wLYGoF\n",
       "QmH+AgYG3j9EKJwfABT9SYRCfZCDvhCh8BNIFL9C3gIGqK18v0DccjBwQFH4HkRkBICC5xuQYPmK\n",
       "y0R2IJXSBmIxgQKTowGXQgb1BwwMEQmgYFQAWfAAl0LuBSALQW7MB8VAE9jJu8FAAdONXBtAwQg0\n",
       "lqmGgXDwAIORrZaBoEKeS/9dXHQT0FWBXNENdgVSgOMHpCnkI0IhOD3y7CScwlvBFN9iYvIMAKh0\n",
       "S4AXgn6IAAAAAElFTkSuQmCC\n",
       "\" style=\"display:inline;vertical-align:middle;\" /></a> <a class=\"ProveItLink\" href=\"proof.ipynb\" style=\"text-decoration: none\">&#x22A2;&nbsp;</a><a class=\"ProveItLink\" href=\"../e3914251eb827e12a702a4ab0f815dc1631f8fec0/expr.ipynb\"><img src=\"data:image/png;base64,iVBORw0KGgoAAAANSUhEUgAAADwAAAAOBAMAAACBYGLnAAAAMFBMVEX///8iIiIQEBCYmJjc3Ny6\n",
       "urru7u5mZmZ2dnaqqqrMzMxEREQyMjJUVFSIiIgAAABUCcz6AAAAAXRSTlMAQObYZgAAAIxJREFU\n",
       "GNNjYGB4+//u3dMLGDCAH5T+w8DA+RNTejmE4voBJOoTcEnzfQUS6x/gkub+ACT8L+CS5t8A0o1T\n",
       "GmyufQOQqDkDAmdRpd+DPHU/AJfu/SBCCafHfgMx82dc0lz/gAQTyHkMhYIgII0izfcLSOxJwKUb\n",
       "5O01BQw4pNP3/717uwpDDmiPENAeAB4YMS22KH4ZAAAAAElFTkSuQmCC\n",
       "\" style=\"display:inline;vertical-align:middle;\" /></a></span></td></tr>\n",
       "</table>"
      ],
      "text/plain": [
       "<proveit._core_.proof._ShowProof at 0x7f94ebfb13c8>"
      ]
     },
     "execution_count": 1,
     "metadata": {},
     "output_type": "execute_result"
    }
   ],
   "source": [
    "import proveit\n",
    "%show_proof"
   ]
  },
  {
   "cell_type": "code",
   "execution_count": null,
   "metadata": {},
   "outputs": [],
   "source": []
  }
 ],
 "metadata": {
  "kernelspec": {
   "display_name": "Python 3",
   "language": "python",
   "name": "python3"
  }
 },
 "nbformat": 4,
 "nbformat_minor": 0
}
