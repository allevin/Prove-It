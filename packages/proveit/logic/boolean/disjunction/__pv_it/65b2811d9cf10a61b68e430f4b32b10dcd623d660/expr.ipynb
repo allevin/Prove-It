{
 "cells": [
  {
   "cell_type": "markdown",
   "metadata": {},
   "source": [
    "Expression of type <a class=\"ProveItLink\" href=\"../../../../../../../doc/html/api/proveit.logic.InSet.html\">InSet</a>\n",
    "=======================\n",
    "# from context <a class=\"ProveItLink\" href=\"../../_context_.ipynb\">proveit.logic.boolean.disjunction</a>"
   ]
  },
  {
   "cell_type": "code",
   "execution_count": 1,
   "metadata": {},
   "outputs": [],
   "source": [
    "# import Expression classes needed to build the expression\n",
    "from proveit._common_ import A, B\n",
    "from proveit.logic import And, Booleans, InSet, Not"
   ]
  },
  {
   "cell_type": "code",
   "execution_count": 2,
   "metadata": {},
   "outputs": [
    {
     "data": {
      "text/html": [
       "<strong id=\"expr\">expr:</strong> <a class=\"ProveItLink\" href=\"expr.ipynb\"><img src=\"data:image/png;base64,iVBORw0KGgoAAAANSUhEUgAAAMkAAAAVBAMAAAAeFNdiAAAAMFBMVEX////c3NwiIiJERESqqqqY\n",
       "mJh2dnZmZmYQEBDu7u4yMjJUVFTMzMyIiIi6uroAAAAs73DqAAAAAXRSTlMAQObYZgAAArpJREFU\n",
       "SMe9VU1oE0EUfptsfjZ/Xag3EUJFsXowikL10oCI4CkoVFDUnCwIQunBUw9qe1FBgicRhKCUmouN\n",
       "By+N1kAvQg8teDV26UmFglL8azD1vXkzm5eN3aMffDt/75s3M2/mLcD/QW5VNDY0e3AlVEKIecx+\n",
       "U4NlUc/UmaInD5Bo7iy5tN1onPRgCqvEoOn1zfnne4tYqYnOVIUper7ip8p1y4xIyTRO3YEUmULX\n",
       "1Edhw6ldA8jK3bc0uzj3Gz9j2uMEl1KS+YNsQ6wMisZUeIGP6D4pl35X04d15ht+H3FjaZhLKcni\n",
       "eOwHOLdA0Zg+eTp00Hg5na7AFxnVKlNMku3gN1pUjUW9TSmJ4tQRXNgxYLJpZrYi9jIIcFNIEmVm\n",
       "F5/t7/iNq6NyqhHulJKBOljPcMpxYLLpYKV7Ypl9JwBmZahLTB+OR+cOttpfvJTgPUnJypvWJCnO\n",
       "arLpkW5c1g//wjA+wOUPEXAPSY85Se39dIRg/aSCThwiYPFpSsmaC84h7PukqUydgox+6xRARzyV\n",
       "AY/pP4rlRmOTxug6w2WA12pESkawXMPNrABTmebu4BL86Edz5XAvWL/nexk2z1FK2lheLQe8iIdN\n",
       "XqAAM0KSLDKNFxuLA+YYbIxryqURIcnQ5XhbDJ5YPujluPASLTGNl11YzFOaoniQB1vdICGh52Jt\n",
       "Yf2ipjKFVz1e8MTGTbvJ1zA+YebAq4vFaEX3LVGnWqSQ0HN5V4PgTX7oCS8X3gOsy1eZZ+p3P7Ll\n",
       "wvntOdwGiRZNChKSxGi7saAu9gtNZQrWXNPPlkfvUxxc4ea2ZgAqbSh5TmUYt88imGHsBX3HzK9B\n",
       "vvWxf+Q7xI3A36TcZxFfZQZNfYRnfk4tIRLGY80+U4PdMgXXmb1IuyESxkvNtLuDF0v+YPZo9uBD\n",
       "qESl7iaz35TxF1Di0PX/3adEAAAAAElFTkSuQmCC\n",
       "\" style=\"display:inline;vertical-align:middle;\" /></a><br>"
      ],
      "text/plain": [
       "expr: [not]([not](A) and [not](B)) in BOOLEANS"
      ]
     },
     "execution_count": 2,
     "metadata": {},
     "output_type": "execute_result"
    }
   ],
   "source": [
    "# build up the expression from sub-expressions\n",
    "expr = InSet(Not(And(Not(A), Not(B))), Booleans)"
   ]
  },
  {
   "cell_type": "code",
   "execution_count": 3,
   "metadata": {},
   "outputs": [
    {
     "name": "stdout",
     "output_type": "stream",
     "text": [
      "Passed sanity check: built 'expr' is the same as the stored Expression.\n"
     ]
    }
   ],
   "source": [
    "# check that the built expression is the same as the stored expression\n",
    "%check_expr"
   ]
  },
  {
   "cell_type": "code",
   "execution_count": 4,
   "metadata": {},
   "outputs": [
    {
     "data": {
      "text/html": [
       "<table><tr><th>&nbsp;</th><th>core type</th><th>sub-expressions</th><th>expression</th></tr>\n",
       "<tr><td>0</td><td>Operation</td><td>operator:&nbsp;1<br>operands:&nbsp;2<br></td><td><a class=\"ProveItLink\" href=\"expr.ipynb\"><img src=\"data:image/png;base64,iVBORw0KGgoAAAANSUhEUgAAAMkAAAAVBAMAAAAeFNdiAAAAMFBMVEX////c3NwiIiJERESqqqqY\n",
       "mJh2dnZmZmYQEBDu7u4yMjJUVFTMzMyIiIi6uroAAAAs73DqAAAAAXRSTlMAQObYZgAAArpJREFU\n",
       "SMe9VU1oE0EUfptsfjZ/Xag3EUJFsXowikL10oCI4CkoVFDUnCwIQunBUw9qe1FBgicRhKCUmouN\n",
       "By+N1kAvQg8teDV26UmFglL8azD1vXkzm5eN3aMffDt/75s3M2/mLcD/QW5VNDY0e3AlVEKIecx+\n",
       "U4NlUc/UmaInD5Bo7iy5tN1onPRgCqvEoOn1zfnne4tYqYnOVIUper7ip8p1y4xIyTRO3YEUmULX\n",
       "1Edhw6ldA8jK3bc0uzj3Gz9j2uMEl1KS+YNsQ6wMisZUeIGP6D4pl35X04d15ht+H3FjaZhLKcni\n",
       "eOwHOLdA0Zg+eTp00Hg5na7AFxnVKlNMku3gN1pUjUW9TSmJ4tQRXNgxYLJpZrYi9jIIcFNIEmVm\n",
       "F5/t7/iNq6NyqhHulJKBOljPcMpxYLLpYKV7Ypl9JwBmZahLTB+OR+cOttpfvJTgPUnJypvWJCnO\n",
       "arLpkW5c1g//wjA+wOUPEXAPSY85Se39dIRg/aSCThwiYPFpSsmaC84h7PukqUydgox+6xRARzyV\n",
       "AY/pP4rlRmOTxug6w2WA12pESkawXMPNrABTmebu4BL86Edz5XAvWL/nexk2z1FK2lheLQe8iIdN\n",
       "XqAAM0KSLDKNFxuLA+YYbIxryqURIcnQ5XhbDJ5YPujluPASLTGNl11YzFOaoniQB1vdICGh52Jt\n",
       "Yf2ipjKFVz1e8MTGTbvJ1zA+YebAq4vFaEX3LVGnWqSQ0HN5V4PgTX7oCS8X3gOsy1eZZ+p3P7Ll\n",
       "wvntOdwGiRZNChKSxGi7saAu9gtNZQrWXNPPlkfvUxxc4ea2ZgAqbSh5TmUYt88imGHsBX3HzK9B\n",
       "vvWxf+Q7xI3A36TcZxFfZQZNfYRnfk4tIRLGY80+U4PdMgXXmb1IuyESxkvNtLuDF0v+YPZo9uBD\n",
       "qESl7iaz35TxF1Di0PX/3adEAAAAAElFTkSuQmCC\n",
       "\" style=\"display:inline;vertical-align:middle;\" /></a></td></tr>\n",
       "<tr><td>1</td><td>Literal</td><td></td><td><a class=\"ProveItLink\" href=\"../../../../set_theory/membership/__pv_it/088cbc857536a28d4119ad9639a84270ccb0545d0/expr.ipynb\"><img src=\"data:image/png;base64,iVBORw0KGgoAAAANSUhEUgAAAAwAAAAMBAMAAACkW0HUAAAALVBMVEX///+qqqpmZmZUVFQQEBC6\n",
       "urpERETc3NyYmJjMzMwiIiIyMjKIiIju7u4AAACYsrA9AAAAAXRSTlMAQObYZgAAADxJREFUCNdj\n",
       "YOA9vWrVBgaG2b0MQMCeCyIZ2ArA1DUwyRCyahVIyWQI7xaEYm4AU7xLIdxqTQgtvGvVBgCkcQ7e\n",
       "geM/tQAAAABJRU5ErkJggg==\n",
       "\" style=\"display:inline;vertical-align:middle;\" /></a></td></tr>\n",
       "<tr><td>2</td><td>ExprTuple</td><td>3, 4</td><td><a class=\"ProveItLink\" href=\"../8e7821f597ca77e437457042755b5b52de9449c50/expr.ipynb\"><img src=\"data:image/png;base64,iVBORw0KGgoAAAANSUhEUgAAALwAAAAVBAMAAAAOdJm+AAAAMFBMVEX////c3NwiIiJERESqqqqY\n",
       "mJh2dnZmZmYQEBDu7u4yMjJUVFTMzMyIiIi6uroAAAAs73DqAAAAAXRSTlMAQObYZgAAAptJREFU\n",
       "OMu1VE1oE0EUfmmSJtts0oBetAhBUQQPhlKhemlApOApKFRQ0FxUEAQp4slDRC9V0BxLTykimouN\n",
       "V4OYo9BDA16NXXqqQqBa/Gux9f1l87Jd6qkPvnkzs9/3dubNmwHYY8u0zKCj6LOru0p8yg5a3MNm\n",
       "0Uy4dYGZyQEkmgGdkVzZbjTOeEzp0W6tL7w6UgC4j/2a0Q1VBGZmDZuqDg6ot5KHGHdLKFV/Mt9x\n",
       "ajdQDJC2G20renbhDzZTOngpzkrcv4hNoUyZ8PAZY8dLkLSLnVH4Fpn8hu2shhoVrpWk8Xv8p1Bm\n",
       "bfhzqQo4Zfhqj6wqMOo0bhyiBR6kOrJsK4mWAQZmhKI0Xf0+9GNwz3ATJUHPvsR+YDt4hwdzkGNv\n",
       "JcN1iDyvCEVpHN49ehr9TXhhz7Eo8M3xKLcQkx1dh7vsrWTpXXu6qJSYv/H8ysnftNPz8BQXfJgM\n",
       "V530BNM0PkbZgsgvcmUW5eAgeytZzoJzQilKk+S0z6JfhS1T8sOewC/uxUZjnb6t8S1pQYpL20rG\n",
       "0S8XhSI0DR/N4M+Xdg+P/cd++IGKXjkrwZqEa6Ww8JCn8I8MN1kQdMPH0B33kzOJmKeOkbh08u8L\n",
       "Icnh8KtwyoSPFgXd8PvRLVBa+Mzm9RdWQmUf2VAK0yo2OZexdtSagepywSH6hFYduHlKEHC5+RIq\n",
       "+w816Emd7xr+0kdmrthrlRPojR3fyMLFbXwJhug8Ul73PehJEhObjbdcp0QhOM+y/KSNPqEkv4Zk\n",
       "1sR/oAgY3/YMd+kffRJDEZr5iI9C3N7S/ofJt9uBd7wUTmFa3EwOtv73IPMiqoGJGoRRhGbDzyFG\n",
       "7ANZF/RbKpiMEQijCM2+728opJ04pOizT8GJSCuMsoOWbsI/wt7KqKjPHagAAAAASUVORK5CYII=\n",
       "\" style=\"display:inline;vertical-align:middle;\" /></a></td></tr>\n",
       "<tr><td>3</td><td>Operation</td><td>operator:&nbsp;11<br>operand:&nbsp;5<br></td><td><a class=\"ProveItLink\" href=\"../d78ecc3093173dc93677e6dd0c149c0be6ebf49c0/expr.ipynb\"><img src=\"data:image/png;base64,iVBORw0KGgoAAAANSUhEUgAAAJIAAAAVBAMAAABf4KrdAAAAMFBMVEX////c3NxERESqqqqYmJgQ\n",
       "EBDu7u4yMjKIiIi6urpUVFTMzMx2dnYiIiJmZmYAAABjE816AAAAAXRSTlMAQObYZgAAAfhJREFU\n",
       "OMu1lDtsE0EQhn8/Yp9jx7FEAR1IKGlxlw5ZaQDJiNCQ1g2iQnKH0kBKS5HINUGUTrocBVHKNHZJ\n",
       "hVyAqyBFtAjxFA8LEWZ2ZndvfSZdfunbvR3/t7c7u2PgPPRcCXRrlitQMRa8qn0hFRkB9YPwvZSj\n",
       "+HKS7G0AHyA4lTtCKvKZmq485zreZTV3BfgUo8zh9Hs9xev2D2raOsOJd1kNNok+ikMYnO4pTrnr\n",
       "X6i9L4PDsXdZbTeAO0OU1mCwqnQFryj6TW2+aQb7PedyWiLe0m6vQlDVh4LXs8J3amtmW6XugnM5\n",
       "TYCLy9S/Vmx6W4JTKa7+oq5gVlFr1ZvW5Y5x0nv6hh9WDB/fkY75IGLBBSrI/eXOZGABOTNj2hFR\n",
       "Gh/ypdhRSEfEYiy4wFGSfOUv81XATeAFEDry9I2IEzBQ/jcTPa+7mcYSCxyLtJ7in+xMc03BBgp8\n",
       "MHZ3BUp7uYHQMaCczX/L7i7fEmzgAnVPuCY4PzwLzxY4+Dpd5l9vKLwDPe3aiT0WOnbqrnU0dsjB\n",
       "EQIHX6fqeid7CyojQe/30s8GVk8f03I4M/u2ULwD70+T5JFZ4oZidVeZkqkWk+cKZjumq8WUajvr\n",
       "exUOZzhqm8IZ/ypSJuE468ADxZd+Xwg13wjHWQd2Fa9LSqCt6UDGER0Y/gEsx5IGu5ShYgAAAABJ\n",
       "RU5ErkJggg==\n",
       "\" style=\"display:inline;vertical-align:middle;\" /></a></td></tr>\n",
       "<tr><td>4</td><td>Literal</td><td></td><td><a class=\"ProveItLink\" href=\"../../../__pv_it/46271c8230be96415d662709611f4ed2279d702b0/expr.ipynb\"><img src=\"data:image/png;base64,iVBORw0KGgoAAAANSUhEUgAAAA0AAAAOBAMAAAAGUYvhAAAAMFBMVEX///9mZmbMzMzc3NxUVFSY\n",
       "mJju7u6IiIi6urqqqqoiIiIQEBBEREQyMjJ2dnYAAAAQvcRZAAAAAXRSTlMAQObYZgAAAElJREFU\n",
       "CNdjePvn/u01ExgYGA60s117B6YZKngh9FSWBAjfBsxnWnoMRHet/10AkS+fA6F5OB5AaIYDqDRU\n",
       "PLCGgQFoz6ktExgAgLIl8DFvGtkAAAAASUVORK5CYII=\n",
       "\" style=\"display:inline;vertical-align:middle;\" /></a></td></tr>\n",
       "<tr><td>5</td><td>Operation</td><td>operator:&nbsp;6<br>operands:&nbsp;7<br></td><td><a class=\"ProveItLink\" href=\"../b778e1e5da0f9038b8e547d47ba53f637a892e340/expr.ipynb\"><img src=\"data:image/png;base64,iVBORw0KGgoAAAANSUhEUgAAAG8AAAAVBAMAAAC6Uq30AAAAMFBMVEX////c3NwiIiJERESqqqqY\n",
       "mJh2dnZmZmYQEBDu7u4yMjJUVFTMzMyIiIi6uroAAAAs73DqAAAAAXRSTlMAQObYZgAAAetJREFU\n",
       "OMudVDFIAzEUfW29Vq/tWdBFRSyC4qaIgk52E1zs5OCgXcRJKCpOQiu46KCHkzjIdRDRoVYcb7C4\n",
       "OrSbi6XFSYRCBRW0oP7krl4utxnIJfl57/PyfnLAv5tWlgJKTYbU5cAS+9y7QnfUtyVYpOAkvW2a\n",
       "N3mEijS/cIGuqKv2vMceVd3Zbx8DMjUYQNSlVBklkJKyFud2sCIASgQvFbBAKXSR2J2JAR1ZS+G4\n",
       "vbUnAKq0v5zCMfDiUlquMmcm+Dxct8RohgCYoj6iI5DAlsthfT5JwypfnCDOx1BKQDSB3mkgmMaZ\n",
       "SDzlZ8AcX6xg0/ImKRjcrDwM0dhm4IBSDrLG8tYwkKbhmYPi6LWMJPXrDDFMVr4CR1QdLYtvoVgR\n",
       "07wdY9Zxg8sIs3Khs3UhqOIB8i36TsiGi6hReqNF9Ot25UViJ0WUD07cFYgJgmdbUmep57jUhEMs\n",
       "0XnDb1zqpEP0EUJt0HwRNomREUg6RFbGARKlGLb11IrkP6E+7XJE2GH9bCOYbuXmZYzs6zz29Gd1\n",
       "12EOyswXwfKs/Oxk/D5q8T/Ixo9pXjIBag3tMc9D41dO41Puy473LR47N1poQemFLniJa55nZd01\n",
       "d1N1jyZWtD4P8Vpa+woyIszO55N/HdGijOuXA4/AL+wRdvfV5kdzAAAAAElFTkSuQmCC\n",
       "\" style=\"display:inline;vertical-align:middle;\" /></a></td></tr>\n",
       "<tr><td>6</td><td>Literal</td><td></td><td><a class=\"ProveItLink\" href=\"../../../conjunction/__pv_it/76b5f4f4c45c0b6a9b59b297fc07dfa9555698f50/expr.ipynb\"><img src=\"data:image/png;base64,iVBORw0KGgoAAAANSUhEUgAAAAwAAAAOBAMAAADpk+DfAAAALVBMVEX///+qqqqYmJh2dnaIiIi6\n",
       "urpUVFQiIiJERETMzMxmZmYyMjLu7u7c3NwAAABvwqPxAAAAAXRSTlMAQObYZgAAAEtJREFUCNdj\n",
       "YGDgPcAAAtwLwNSMGjCV6gIieTawgyhmBS4BIMXOwLsBSKkwMGQCKaC6aQwMjEBd3BdACMScAVJd\n",
       "wJAKolwYAkAUKwAk0guX6efcigAAAABJRU5ErkJggg==\n",
       "\" style=\"display:inline;vertical-align:middle;\" /></a></td></tr>\n",
       "<tr><td>7</td><td>ExprTuple</td><td>8, 9</td><td><a class=\"ProveItLink\" href=\"../00c05ccc47c117964962fd4a31bd37c34eda9df40/expr.ipynb\"><img src=\"data:image/png;base64,iVBORw0KGgoAAAANSUhEUgAAAFEAAAAVBAMAAADMaB9/AAAAMFBMVEX////c3NwiIiJERESqqqqY\n",
       "mJh2dnZmZmYQEBDu7u4yMjJUVFTMzMyIiIi6uroAAAAs73DqAAAAAXRSTlMAQObYZgAAAVdJREFU\n",
       "KM9jYCAe8F0gQlEciDiNInQITQnr/t+7N69jYD8AZK9EkVmPbhqHAQND/QOGBQwMvCiWs+pPQFN5\n",
       "Hih/fgNDGFAPipRIvQCayvtAgfgEhhkMDK9QxC/cf4Cm0gKINSYwMDswlKGEwwT/ADSVvxkYpCwZ\n",
       "GNgKGJYiC88DOwsZ8Py+e10VSLMsYOhjYGBXAoEEIP8Bg3wBREURSEgN6OGPDAyTNgBta2D4B9MM\n",
       "5PLs3r3fAMlAYFAzNwBVfwVKfUBRyQcMigWoKvmBwqzfwCpbkFQ6MDAwNaCqPA/0IfcXsO2mCJWM\n",
       "QJVcHxgYJiCpBAWnPNAe1gUM6TDhAwyzgCTzTwbOT3CPg4OTp2sCOJQewe0S7l/IwGr/q4CzHxFP\n",
       "xf93714FCmKuBwwcApjpEFMIFJusCRiirFgSaC5GqsOhkhMUeNIYwlgyATfIQYzE5I47DAwA/tdW\n",
       "XzreP5oAAAAASUVORK5CYII=\n",
       "\" style=\"display:inline;vertical-align:middle;\" /></a></td></tr>\n",
       "<tr><td>8</td><td>Operation</td><td>operator:&nbsp;11<br>operand:&nbsp;10<br></td><td><a class=\"ProveItLink\" href=\"../feaa1d0e6d92ad9ead8e5ffd1f92697e3912387a0/expr.ipynb\"><img src=\"data:image/png;base64,iVBORw0KGgoAAAANSUhEUgAAABwAAAAOBAMAAADOPWE3AAAAMFBMVEX///8QEBBERES6urqIiIiq\n",
       "qqrc3Nzu7u6YmJgyMjJUVFTMzMx2dnYiIiJmZmYAAADMbjvTAAAAAXRSTlMAQObYZgAAAGNJREFU\n",
       "CNdjYEAA7gsMyIDzAwq39zsyjy3uGzKXheUzMtec9QcSj92A+wsDw9u7QHAHyGVmYPsHldkFwqtW\n",
       "fULiGjAwSCK4rEDqIoKbCqTmw1zLwD4BSOkXwFyk+DOBoen/PABSrhtHsYt+gAAAAABJRU5ErkJg\n",
       "gg==\n",
       "\" style=\"display:inline;vertical-align:middle;\" /></a></td></tr>\n",
       "<tr><td>9</td><td>Operation</td><td>operator:&nbsp;11<br>operand:&nbsp;12<br></td><td><a class=\"ProveItLink\" href=\"../1da4e2fe7c44632f084fa27ea32e26dc689384c20/expr.ipynb\"><img src=\"data:image/png;base64,iVBORw0KGgoAAAANSUhEUgAAAB0AAAAOBAMAAAAh/woJAAAAMFBMVEX///+qqqru7u7c3NyIiIgQ\n",
       "EBC6uroyMjJERESYmJhUVFTMzMx2dnYiIiJmZmYAAADtoHoAAAAAAXRSTlMAQObYZgAAAHpJREFU\n",
       "CNdjYIACzvW/Vq0oY0AA1gYGhvcJCP5+ByBegOD7GzAwzD+A4LcC8VUFBP8XA4N5E4LL/cvF7yaQ\n",
       "fnsXCO4wMLB8ZmDQhRm3i4GBIwAo9hPB5wfKcf5B8PdPYGDg+ojgg6y3L4AZDraeOxxh/Yv/q1aV\n",
       "A7UAAFRxJOZ+1MVPAAAAAElFTkSuQmCC\n",
       "\" style=\"display:inline;vertical-align:middle;\" /></a></td></tr>\n",
       "<tr><td>10</td><td>Variable</td><td></td><td><a class=\"ProveItLink\" href=\"../../../../../__pv_it/2cbe72a7ad6f655694dd697106680215e8489b600/expr.ipynb\"><img src=\"data:image/png;base64,iVBORw0KGgoAAAANSUhEUgAAAA8AAAAOBAMAAAACpFvcAAAALVBMVEX///8QEBBERERUVFS6urqI\n",
       "iIhmZmaqqqrc3Nzu7u6YmJgyMjIiIiLMzMwAAADtIaYWAAAAAXRSTlMAQObYZgAAAFtJREFUCNdj\n",
       "YACBOwxQsA9Kc52bAGG05zVAGAFxDmCaZULdAjBjCsO9ADDDgaEvAUTzGhvbKYCVMDAwbgAxChgY\n",
       "eASANAeQwf0AyJgNxEwvGRia5HYwcOm9TgAA6BoR3jrzwFcAAAAASUVORK5CYII=\n",
       "\" style=\"display:inline;vertical-align:middle;\" /></a></td></tr>\n",
       "<tr><td>11</td><td>Literal</td><td></td><td><a class=\"ProveItLink\" href=\"../../../negation/__pv_it/7bea79645543c2413aa17e787cca04e21046fde60/expr.ipynb\"><img src=\"data:image/png;base64,iVBORw0KGgoAAAANSUhEUgAAAAwAAAAGBAMAAAAFwGKyAAAAFVBMVEX///9UVFTMzMx2dnYiIiJm\n",
       "ZmYAAACWz4ZEAAAAAXRSTlMAQObYZgAAABRJREFUCNdjCHEBAmcGMFDEQzEBAEl+Ai6uYJv/AAAA\n",
       "AElFTkSuQmCC\n",
       "\" style=\"display:inline;vertical-align:middle;\" /></a></td></tr>\n",
       "<tr><td>12</td><td>Variable</td><td></td><td><a class=\"ProveItLink\" href=\"../../../../../__pv_it/077b2ff79244fb4582cbe22c6e3356fa92a52f2f0/expr.ipynb\"><img src=\"data:image/png;base64,iVBORw0KGgoAAAANSUhEUgAAABAAAAAOBAMAAADUAYG5AAAAMFBMVEX///+qqqru7u4iIiJ2dnbc\n",
       "3NyIiIjMzMxmZmYQEBC6uroyMjJERERUVFSYmJgAAADLUcuvAAAAAXRSTlMAQObYZgAAAGpJREFU\n",
       "CNdjYGB4+//u3dMLGIBgDgMDxy8gzf4NiP8CGWxfGRj4vgAZPBMYGJgnARn8FxhY9ygAGfXX0pof\n",
       "gDTlBzAw2YIYJ0EckBBI53sHoBH/gIz7AhBjWH9DjancBLTl/N+7t/cxMAAA3u4f/5xagjYAAAAA\n",
       "SUVORK5CYII=\n",
       "\" style=\"display:inline;vertical-align:middle;\" /></a></td></tr>\n",
       "</table>\n"
      ],
      "text/plain": [
       "0. [not]([not](A) and [not](B)) in BOOLEANS\n",
       "   core type: Operation\n",
       "   operator: 1\n",
       "   operands: 2\n",
       "1. in\n",
       "   core type: Literal\n",
       "   sub-expressions: \n",
       "2. ([not]([not](A) and [not](B)) , BOOLEANS)\n",
       "   core type: ExprTuple\n",
       "   sub-expressions: 3, 4\n",
       "3. [not]([not](A) and [not](B))\n",
       "   core type: Operation\n",
       "   operator: 11\n",
       "   operand: 5\n",
       "4. BOOLEANS\n",
       "   core type: Literal\n",
       "   sub-expressions: \n",
       "5. [not](A) and [not](B)\n",
       "   core type: Operation\n",
       "   operator: 6\n",
       "   operands: 7\n",
       "6. and\n",
       "   core type: Literal\n",
       "   sub-expressions: \n",
       "7. ([not](A) , [not](B))\n",
       "   core type: ExprTuple\n",
       "   sub-expressions: 8, 9\n",
       "8. [not](A)\n",
       "   core type: Operation\n",
       "   operator: 11\n",
       "   operand: 10\n",
       "9. [not](B)\n",
       "   core type: Operation\n",
       "   operator: 11\n",
       "   operand: 12\n",
       "10. A\n",
       "    core type: Variable\n",
       "    sub-expressions: \n",
       "11. not\n",
       "    core type: Literal\n",
       "    sub-expressions: \n",
       "12. B\n",
       "    core type: Variable\n",
       "    sub-expressions: "
      ]
     },
     "execution_count": 4,
     "metadata": {},
     "output_type": "execute_result"
    }
   ],
   "source": [
    "# display the expression information\n",
    "expr.exprInfo()"
   ]
  },
  {
   "cell_type": "code",
   "execution_count": null,
   "metadata": {},
   "outputs": [],
   "source": []
  }
 ],
 "metadata": {
  "kernelspec": {
   "display_name": "Python 3",
   "language": "python",
   "name": "python3"
  }
 },
 "nbformat": 4,
 "nbformat_minor": 0
}
