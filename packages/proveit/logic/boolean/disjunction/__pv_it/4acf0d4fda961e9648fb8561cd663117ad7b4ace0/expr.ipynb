{
 "cells": [
  {
   "cell_type": "markdown",
   "metadata": {},
   "source": [
    "Expression of type <a class=\"ProveItLink\" href=\"../../../../../../../doc/html/api/proveit.ExprTuple.html\">ExprTuple</a>\n",
    "=======================\n",
    "# from context <a class=\"ProveItLink\" href=\"../../_context_.ipynb\">proveit.logic.boolean.disjunction</a>"
   ]
  },
  {
   "cell_type": "code",
   "execution_count": 1,
   "metadata": {},
   "outputs": [],
   "source": [
    "# import Expression classes needed to build the expression\n",
    "from proveit import ExprTuple\n",
    "from proveit.logic import And, FALSE, Not, Or\n",
    "from proveit.logic.boolean.negation._theorems_ import notFalse"
   ]
  },
  {
   "cell_type": "code",
   "execution_count": 2,
   "metadata": {},
   "outputs": [
    {
     "data": {
      "text/html": [
       "<strong id=\"expr\">expr:</strong> <a class=\"ProveItLink\" href=\"expr.ipynb\"><img src=\"data:image/png;base64,iVBORw0KGgoAAAANSUhEUgAAAOUAAAAVBAMAAABLdTQ8AAAAMFBMVEX////c3NwiIiJERESqqqqY\n",
       "mJh2dnZmZmYQEBDu7u4yMjJUVFTMzMyIiIi6uroAAAAs73DqAAAAAXRSTlMAQObYZgAAAkhJREFU\n",
       "SMfFVbFKA0EQnUSTmOQ806oI4QTRTkT7dIJVKgtBsRErIYhYWajY2EhKsfEsRGxEe5FACgsL/QCF\n",
       "aCWCoD8g7s6Myeysclo58PaYlzf3Nns7uwD/EeGdShzCRqala141scBIDlTdSOZGESn031B1wblI\n",
       "huyQaxBUoRttJZxK+lQRQc2OBc76+VmoC8k1jjHDLQTAJQqUsldOyCYOQaWZRcpOmH0Az3OWoT0v\n",
       "hb6t7JFztolDUGl+k5IJ/mnX99xnaM+mHcaU8kXWv4AiuHQSx+IrLUEY+55dFYL2LJQAumtKuS7r\n",
       "1xm6dBnHAyjjM7foe2ZrBO1p/ayvozyW9ccMXTqD4xKs0dyrvmd3TNCedl2bWrln5h3ZsJPfI3QI\n",
       "Ln3GsQwD9NXNZly1ipHOm8JNgudp9s+V42lUH7LnPhhtgktvcffeQRFbsK8lupnfFLwRPM805GPH\n",
       "06h+75mu82HwJ89cJVvVnjvSYoehPXFtpw2OcG0rvuePa5uK06DXdkpaTDG05xyw3zTu9qrvmYkJ\n",
       "kFeecDnvehrV8hfT4J5wCNErwTh+HRA9EXzTK4dl5dkc87rqSe77JwZ/CrM1t6PIeJ3ZE6HFhyOE\n",
       "5bbEbN/RKBo2/dMiwP67LLSdVfOUPSV59pXAJSjw7As7Z/aWf2d0zr5HfQnVPWVGHio2cQiKrLqY\n",
       "Zn3PFQZANeECXUm6y4APPTcKdW8lYvjqwwRPVA1KZlATGBcqT51rRbFEMF884W+iyrnRbeJd8b2N\n",
       "b298GfeM5DCqT8ffr7NxxD1LAAAAAElFTkSuQmCC\n",
       "\" style=\"display:inline;vertical-align:middle;\" /></a><br>"
      ],
      "text/plain": [
       "expr: ([not]([not](FALSE) and [not](FALSE)) , FALSE or FALSE)"
      ]
     },
     "execution_count": 2,
     "metadata": {},
     "output_type": "execute_result"
    }
   ],
   "source": [
    "# build up the expression from sub-expressions\n",
    "expr = ExprTuple(Not(And(notFalse.expr, notFalse.expr)), Or(FALSE, FALSE))"
   ]
  },
  {
   "cell_type": "code",
   "execution_count": 3,
   "metadata": {},
   "outputs": [
    {
     "name": "stdout",
     "output_type": "stream",
     "text": [
      "Passed sanity check: built 'expr' is the same as the stored Expression.\n"
     ]
    }
   ],
   "source": [
    "# check that the built expression is the same as the stored expression\n",
    "%check_expr"
   ]
  },
  {
   "cell_type": "code",
   "execution_count": 4,
   "metadata": {},
   "outputs": [
    {
     "data": {
      "text/html": [
       "<table><tr><th>&nbsp;</th><th>core type</th><th>sub-expressions</th><th>expression</th></tr>\n",
       "<tr><td>0</td><td>ExprTuple</td><td>1, 2</td><td><a class=\"ProveItLink\" href=\"expr.ipynb\"><img src=\"data:image/png;base64,iVBORw0KGgoAAAANSUhEUgAAAOUAAAAVBAMAAABLdTQ8AAAAMFBMVEX////c3NwiIiJERESqqqqY\n",
       "mJh2dnZmZmYQEBDu7u4yMjJUVFTMzMyIiIi6uroAAAAs73DqAAAAAXRSTlMAQObYZgAAAkhJREFU\n",
       "SMfFVbFKA0EQnUSTmOQ806oI4QTRTkT7dIJVKgtBsRErIYhYWajY2EhKsfEsRGxEe5FACgsL/QCF\n",
       "aCWCoD8g7s6Myeysclo58PaYlzf3Nns7uwD/EeGdShzCRqala141scBIDlTdSOZGESn031B1wblI\n",
       "huyQaxBUoRttJZxK+lQRQc2OBc76+VmoC8k1jjHDLQTAJQqUsldOyCYOQaWZRcpOmH0Az3OWoT0v\n",
       "hb6t7JFztolDUGl+k5IJ/mnX99xnaM+mHcaU8kXWv4AiuHQSx+IrLUEY+55dFYL2LJQAumtKuS7r\n",
       "1xm6dBnHAyjjM7foe2ZrBO1p/ayvozyW9ccMXTqD4xKs0dyrvmd3TNCedl2bWrln5h3ZsJPfI3QI\n",
       "Ln3GsQwD9NXNZly1ipHOm8JNgudp9s+V42lUH7LnPhhtgktvcffeQRFbsK8lupnfFLwRPM805GPH\n",
       "06h+75mu82HwJ89cJVvVnjvSYoehPXFtpw2OcG0rvuePa5uK06DXdkpaTDG05xyw3zTu9qrvmYkJ\n",
       "kFeecDnvehrV8hfT4J5wCNErwTh+HRA9EXzTK4dl5dkc87rqSe77JwZ/CrM1t6PIeJ3ZE6HFhyOE\n",
       "5bbEbN/RKBo2/dMiwP67LLSdVfOUPSV59pXAJSjw7As7Z/aWf2d0zr5HfQnVPWVGHio2cQiKrLqY\n",
       "Zn3PFQZANeECXUm6y4APPTcKdW8lYvjqwwRPVA1KZlATGBcqT51rRbFEMF884W+iyrnRbeJd8b2N\n",
       "b298GfeM5DCqT8ffr7NxxD1LAAAAAElFTkSuQmCC\n",
       "\" style=\"display:inline;vertical-align:middle;\" /></a></td></tr>\n",
       "<tr><td>1</td><td>Operation</td><td>operator:&nbsp;9<br>operand:&nbsp;3<br></td><td><a class=\"ProveItLink\" href=\"../26d240c6d349c915128ac6be3b692dedb37728140/expr.ipynb\"><img src=\"data:image/png;base64,iVBORw0KGgoAAAANSUhEUgAAAJIAAAAVBAMAAABf4KrdAAAAMFBMVEX////c3NxERESqqqqYmJgQ\n",
       "EBDu7u4yMjKIiIi6urpUVFTMzMx2dnYiIiJmZmYAAABjE816AAAAAXRSTlMAQObYZgAAAaNJREFU\n",
       "OMu1lL9Lw0AUx1/6wzY2rR2Lk6B/QDfXbip0UATBQegirhmk4JZRcMkiugh1LC6ho4NmdJIi2MlA\n",
       "dhVc3cy993JJ36XQxS98csnL3fd+vTuA/9AtM6c9GbA9Eaj4RKbGiNDqqEcrEA0fc+8Wun4yWrUB\n",
       "ofWET5cbpX+G+c5jbMhoXTLCqc/9xFTWPcOpEhJaR4xwOqWPyYzK6sBwWtkn9Eq6hHQqdbEY83Bv\n",
       "wHCCTYbVCgnp5FC/bpOCXwVOr0y64D1COpVxnE6vRWM7L3DaRr6jRB9qAXxCB9jJxhVogkUzP05G\n",
       "rmpEYeZ0zXCOrPlEljTk1PhRz12AB/z8zWVf6vTMLOU0S1NyCadql5BOOLty0qTWVp+HBU5idqUe\n",
       "IZ0qan2USxmbbRU47TAqwrvtxJAF8lkwUW9TyO92sDAL7CnBSrbwPYrekuGotRunxwnusgRMNvAk\n",
       "ijYALoBIdcAI4WnBnbDxtLSNGvK04FHtm04v4jYKjRqORyy+VahDVwSGhtMZk11bI2Jeq3I264bT\n",
       "PTN/R3ZktSsZsOTtWw+QP54Fg+yeLNTnAAAAAElFTkSuQmCC\n",
       "\" style=\"display:inline;vertical-align:middle;\" /></a></td></tr>\n",
       "<tr><td>2</td><td>Operation</td><td>operator:&nbsp;4<br>operands:&nbsp;5<br></td><td><a class=\"ProveItLink\" href=\"../491621fb4fe1a75cf61bb0f680150a59814c86380/expr.ipynb\"><img src=\"data:image/png;base64,iVBORw0KGgoAAAANSUhEUgAAADUAAAAPBAMAAAC2KZqIAAAAMFBMVEX///+YmJh2dnaqqqoyMjLu\n",
       "7u5UVFS6urpEREQQEBAiIiJmZmbMzMyIiIjc3NwAAAD1oEhMAAAAAXRSTlMAQObYZgAAAH9JREFU\n",
       "GNNjYGBgeMuAAfguQBmnIRQ7mDwAJnk2oMqxgYR5L2CV42kAElwBWOUY/IDYmgG7nDVUHpsc0Dyw\n",
       "udjkgO5gK8Ahx7CAIYQBl9xmBkWcck+AOnHJsR28gFOOpysARW7XqlUrV61aARHyBpPcq1atmrVq\n",
       "VQNq8B9F4QEA5vEqvogKH/gAAAAASUVORK5CYII=\n",
       "\" style=\"display:inline;vertical-align:middle;\" /></a></td></tr>\n",
       "<tr><td>3</td><td>Operation</td><td>operator:&nbsp;6<br>operands:&nbsp;7<br></td><td><a class=\"ProveItLink\" href=\"../a7f222f3313cd76c47520efe8869eec12d76c2c00/expr.ipynb\"><img src=\"data:image/png;base64,iVBORw0KGgoAAAANSUhEUgAAAG8AAAAVBAMAAAC6Uq30AAAAMFBMVEX////c3NwiIiJERESqqqqY\n",
       "mJh2dnZmZmYQEBDu7u4yMjJUVFTMzMyIiIi6uroAAAAs73DqAAAAAXRSTlMAQObYZgAAAXRJREFU\n",
       "OMtjYCAb8F1AE2B9gK7kLbpAHIg4jSTACDakBk0ZzwYkjiyIYD8AJFYiKykAkVwwYyZAaK4JSEqO\n",
       "g8kFDAy8FzA0siZANRRA6LsMGBrDGBg4JmBo5GyA8A5rQuhOTI0zGBheMWBoZDCB8PZBrOJbgKmR\n",
       "2YGhDIvGdDDJuYAJTLMnYGpkK2BYikWjF0QygN0B7NUATI0sCxj6gEYqgUACQuMLMMnEwAh2JAcw\n",
       "XotAKtQQGvkaGP4hRxZU43kwGcvAsAdE88MSxGmERp4PeDRqQpXi0NiCRSPYqSxANpcAyKkOmBqB\n",
       "TjXFojEKHCYCEM0MzAGYGlkXQIMeCA6gRcdhEKEACXqo2SjR8Qge0KDAbVJSMmBgWAeOflhq41OA\n",
       "KwEGroaSkjLQOQ8YOAQwMhokyYGDhA9ENGLmxRmIFI0E2NByaBimxly0bAUBs9D4KNkKmhqBhDSG\n",
       "xo1ofMYN6Cq4BeC5HgnwHkBXJ4sucIeBAQAoXFcMoQAiHQAAAABJRU5ErkJggg==\n",
       "\" style=\"display:inline;vertical-align:middle;\" /></a></td></tr>\n",
       "<tr><td>4</td><td>Literal</td><td></td><td><a class=\"ProveItLink\" href=\"../087d0b4ded7c7e5bf3bba05ecb616d7a8051ff650/expr.ipynb\"><img src=\"data:image/png;base64,iVBORw0KGgoAAAANSUhEUgAAAAwAAAAOBAMAAADpk+DfAAAALVBMVEX///+YmJh2dnZmZmaqqqrc\n",
       "3NwyMjLu7u4iIiJERESIiIhUVFTMzMy6uroAAAD0I/TTAAAAAXRSTlMAQObYZgAAAEtJREFUCNdj\n",
       "uMAABDwMe0DUKoaTIKqdgS2AgYHFAITAzHYGsMQqBoa9QIqDgT0BSDE7MAkAKdYEDpAehj1SYOpk\n",
       "O5hiMwBTPAUMDAB33Atnw8aG2QAAAABJRU5ErkJggg==\n",
       "\" style=\"display:inline;vertical-align:middle;\" /></a></td></tr>\n",
       "<tr><td>5</td><td>ExprTuple</td><td>10, 10</td><td><a class=\"ProveItLink\" href=\"../0f765c86883f159901bd422ce2aa1574ee4b44270/expr.ipynb\"><img src=\"data:image/png;base64,iVBORw0KGgoAAAANSUhEUgAAADUAAAAVBAMAAAAUZLt1AAAAMFBMVEX////c3NwiIiJERESqqqqY\n",
       "mJh2dnZmZmYQEBDu7u4yMjJUVFTMzMyIiIi6uroAAAAs73DqAAAAAXRSTlMAQObYZgAAALNJREFU\n",
       "KM9jYMAH+C5gFY4DEadBBCOyAlkQwX4ASKwEsXgKkOSOg8kFDAy8F3DIhTEwcEzAITeDgeEVAw45\n",
       "ZgeGMlxybAUMS3HJsSxg6MMlx9fA8A+XHM8HvHIteMw0RZKbgCzHuoAhHSHH+QnND4+AwaqkpNSk\n",
       "pGTA2S/AwFCkpKShpKTMwMD1gIFDACm6kNigMGNNQHBZkSMwFxZHmHKcwDhikEbwkSOYWwA9yhHg\n",
       "DgMDAMpvLh492isZAAAAAElFTkSuQmCC\n",
       "\" style=\"display:inline;vertical-align:middle;\" /></a></td></tr>\n",
       "<tr><td>6</td><td>Literal</td><td></td><td><a class=\"ProveItLink\" href=\"../../../conjunction/__pv_it/76b5f4f4c45c0b6a9b59b297fc07dfa9555698f50/expr.ipynb\"><img src=\"data:image/png;base64,iVBORw0KGgoAAAANSUhEUgAAAAwAAAAOBAMAAADpk+DfAAAALVBMVEX///+qqqqYmJh2dnaIiIi6\n",
       "urpUVFQiIiJERETMzMxmZmYyMjLu7u7c3NwAAABvwqPxAAAAAXRSTlMAQObYZgAAAEtJREFUCNdj\n",
       "YGDgPcAAAtwLwNSMGjCV6gIieTawgyhmBS4BIMXOwLsBSKkwMGQCKaC6aQwMjEBd3BdACMScAVJd\n",
       "wJAKolwYAkAUKwAk0guX6efcigAAAABJRU5ErkJggg==\n",
       "\" style=\"display:inline;vertical-align:middle;\" /></a></td></tr>\n",
       "<tr><td>7</td><td>ExprTuple</td><td>8, 8</td><td><a class=\"ProveItLink\" href=\"../3844cc1d435fd1c8eda691d2684bfc7396e824c10/expr.ipynb\"><img src=\"data:image/png;base64,iVBORw0KGgoAAAANSUhEUgAAAFEAAAAVBAMAAADMaB9/AAAAMFBMVEX////c3NwiIiJERESqqqqY\n",
       "mJh2dnZmZmYQEBDu7u4yMjJUVFTMzMyIiIi6uroAAAAs73DqAAAAAXRSTlMAQObYZgAAANBJREFU\n",
       "KM9jYCAe8F0gQlEciDiNJMCIRZcsiGA/ACRWIonyFGCqPA4mFzAw8F4gSmUYAwPHBKJUzmBgeMVA\n",
       "lEpmB4Yy4lSyFTAsJU4lywKGPmAQKIFAAorKIpCQGkIlXwPDP5hxGzDNPI1QyfOBBJUtxKkE2m6K\n",
       "qXICFpWsCxjSYcIHYCo5P8GDAiWUHsHtAgVBk5KSAWe/AANSEGgoKSkzMHA9YOAQwEyHmEKg2GRN\n",
       "wBBlxZJAc9FSHU6VnMBUxyCNIYwlOXML4EjnGOAOAwMABJ03NxJILyYAAAAASUVORK5CYII=\n",
       "\" style=\"display:inline;vertical-align:middle;\" /></a></td></tr>\n",
       "<tr><td>8</td><td>Operation</td><td>operator:&nbsp;9<br>operand:&nbsp;10<br></td><td><a class=\"ProveItLink\" href=\"../../../negation/__pv_it/01165fd25131c0df966b8e8c1626e275fd04f3050/expr.ipynb\"><img src=\"data:image/png;base64,iVBORw0KGgoAAAANSUhEUgAAABwAAAAOBAMAAADOPWE3AAAAIVBMVEX///9EREQQEBCIiIjc3NxU\n",
       "VFTMzMx2dnYiIiJmZmYAAADo3DW1AAAAAXRSTlMAQObYZgAAACVJREFUCNdjYIADZwYUkEll7owO\n",
       "IGhHlU2lgMuGbhHQgqaOjkYA4xoNxELsxwMAAAAASUVORK5CYII=\n",
       "\" style=\"display:inline;vertical-align:middle;\" /></a></td></tr>\n",
       "<tr><td>9</td><td>Literal</td><td></td><td><a class=\"ProveItLink\" href=\"../../../negation/__pv_it/7bea79645543c2413aa17e787cca04e21046fde60/expr.ipynb\"><img src=\"data:image/png;base64,iVBORw0KGgoAAAANSUhEUgAAAAwAAAAGBAMAAAAFwGKyAAAAFVBMVEX///9UVFTMzMx2dnYiIiJm\n",
       "ZmYAAACWz4ZEAAAAAXRSTlMAQObYZgAAABRJREFUCNdjCHEBAmcGMFDEQzEBAEl+Ai6uYJv/AAAA\n",
       "AElFTkSuQmCC\n",
       "\" style=\"display:inline;vertical-align:middle;\" /></a></td></tr>\n",
       "<tr><td>10</td><td>Literal</td><td></td><td><a class=\"ProveItLink\" href=\"../../../__pv_it/8f1f7fac882de28c72b62ab80a1700b6d8fd066b0/expr.ipynb\"><img src=\"data:image/png;base64,iVBORw0KGgoAAAANSUhEUgAAAA4AAAAOBAMAAADtZjDiAAAAG1BMVEX///9EREQQEBAiIiJmZmbM\n",
       "zMyIiIjc3NwAAACryk5kAAAAAXRSTlMAQObYZgAAABlJREFUCNdjYGBgKGOAgBBa0s7GxkbGxoYA\n",
       "FMUF2aBfHgoAAAAASUVORK5CYII=\n",
       "\" style=\"display:inline;vertical-align:middle;\" /></a></td></tr>\n",
       "</table>\n"
      ],
      "text/plain": [
       "0. ([not]([not](FALSE) and [not](FALSE)) , FALSE or FALSE)\n",
       "   core type: ExprTuple\n",
       "   sub-expressions: 1, 2\n",
       "1. [not]([not](FALSE) and [not](FALSE))\n",
       "   core type: Operation\n",
       "   operator: 9\n",
       "   operand: 3\n",
       "2. FALSE or FALSE\n",
       "   core type: Operation\n",
       "   operator: 4\n",
       "   operands: 5\n",
       "3. [not](FALSE) and [not](FALSE)\n",
       "   core type: Operation\n",
       "   operator: 6\n",
       "   operands: 7\n",
       "4. or\n",
       "   core type: Literal\n",
       "   sub-expressions: \n",
       "5. (FALSE , FALSE)\n",
       "   core type: ExprTuple\n",
       "   sub-expressions: 10, 10\n",
       "6. and\n",
       "   core type: Literal\n",
       "   sub-expressions: \n",
       "7. ([not](FALSE) , [not](FALSE))\n",
       "   core type: ExprTuple\n",
       "   sub-expressions: 8, 8\n",
       "8. [not](FALSE)\n",
       "   core type: Operation\n",
       "   operator: 9\n",
       "   operand: 10\n",
       "9. not\n",
       "   core type: Literal\n",
       "   sub-expressions: \n",
       "10. FALSE\n",
       "    core type: Literal\n",
       "    sub-expressions: "
      ]
     },
     "execution_count": 4,
     "metadata": {},
     "output_type": "execute_result"
    }
   ],
   "source": [
    "# display the expression information\n",
    "expr.exprInfo()"
   ]
  },
  {
   "cell_type": "code",
   "execution_count": null,
   "metadata": {},
   "outputs": [],
   "source": []
  }
 ],
 "metadata": {
  "kernelspec": {
   "display_name": "Python 3",
   "language": "python",
   "name": "python3"
  }
 },
 "nbformat": 4,
 "nbformat_minor": 0
}
