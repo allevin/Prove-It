{
 "cells": [
  {
   "cell_type": "markdown",
   "metadata": {},
   "source": [
    "Expression of type <a class=\"ProveItLink\" href=\"../../../../../../../doc/html/api/proveit.logic.Or.html\">Or</a>\n",
    "=======================\n",
    "# from context <a class=\"ProveItLink\" href=\"../../_context_.ipynb\">proveit.logic.boolean.disjunction</a>"
   ]
  },
  {
   "cell_type": "code",
   "execution_count": 1,
   "metadata": {},
   "outputs": [],
   "source": [
    "# import Expression classes needed to build the expression\n",
    "from proveit._common_ import A, B, C, D, E, F, G, H, I\n",
    "from proveit.logic import Or"
   ]
  },
  {
   "cell_type": "code",
   "execution_count": 2,
   "metadata": {},
   "outputs": [
    {
     "data": {
      "text/html": [
       "<strong id=\"expr\">expr:</strong> <a class=\"ProveItLink\" href=\"expr.ipynb\"><img src=\"data:image/png;base64,iVBORw0KGgoAAAANSUhEUgAAAVkAAAAVBAMAAAAeMYBLAAAAMFBMVEX////MzMyqqqoiIiIyMjK6\n",
       "uroQEBB2dnbc3NyYmJhmZmZUVFRERESIiIju7u4AAAB204erAAAAAXRSTlMAQObYZgAAA/BJREFU\n",
       "SMflV01oXFUU/t7kzX/ey4DdiMGZhauuZlVwEwNaKW0hWbkoaLooYjftWwkqmKF0VZAMKLhQSVqK\n",
       "0FJIShUkrxBR6aKCk7VaMmI2CgVNpqTttBnPOfe+n/NmGEEUAg7Me2+++71zzr3nO+feAf5Hn9fH\n",
       "DZbn/wOP/s/r10orCvppEIYna5rmbfTDcG5WYc6auTUzYRL19lHgMkaYOL+pwfvfX29fQsb93e4n\n",
       "g7stBb5ngLfbyH/eBvICmhh7QG6HH2R5HMGmKNLc14rnduXZ/SNDLRBtdR4uRpiY1K6KZ4FTZzWN\n",
       "3WMXI0Bsz9BlkcKu8tuezNzZo8sqh3KTf94T9gIPrSieGcCH+9DUOo3W11AOMvhCYPSRmPBfJi/F\n",
       "h5qWf0ohPM68m+eY8CoH9RqHSAuCCVkt74F1iWn+OSP0RXLhbyreORkoHWZvaeoWTX45gH86gy82\n",
       "KD21tAn3XKSkFK34J4Wwk3m3yDFVBBXhHKPvYRmZ5NQusShd8pszop4DArTSvLxRsSeTS1Pv0PcI\n",
       "BfNNBp/rolXupk2sNni6K5rGyprcxzCIJfH4C+zrx4y+eO51jpaprpH7E5TbULyKZBpv5B5BU/vA\n",
       "xR/o/m4G34WvTZREjH5L09j9VBPDIFbbcdVRaiRFVgTLgU3DtNFNL5xraZ4r7/rzzlMoqtO/9+OL\n",
       "/PCCxvOPUdEmKo+Soo9pWDgRhp2VLMgxvZT0CZJ91bTILa6CjXkr8S8jMbkZXkGueZSkIhKqRzr+\n",
       "dc2WQ9pELzyiTUw8TKKNaVIhW40RIAbyaDpRE9tmpMOXN80qwJ+NdFO0zSTiTUm0z4XhE02dpOry\n",
       "eNXqGRP7qNrQrIkpEqN39WSgaFwh6HQxDOK8yMN02St4B1ai1GlMkiqNYjvSTQn3Fc9ES5czGSqt\n",
       "a3kvjjbBm/jNRmtNFE5H1Z6iifseRoDY4DlUDHARZlMSHRaMhEuzEyndvK94Bc5WjutfU+vkoLoT\n",
       "KyExEcRptyaq+/HmktCk3e5hGLQFZYJA9VmzK3rU7/CdSQVufpboxm7QEY+3JVyIspRQud1Kr/ko\n",
       "YyI5OFgTsi5Ls5om7fYBhkHKGK3BKVtpzrfduN0eik4O0zOJbp6pKV6ROCIrK7KISu3WOdONOpg2\n",
       "Ae1quQ3nVqBpSbvNgFwkJ643IhvH5fp7hw4l8YnElbD923TQubWreMg3UbrTa+HTwfEUFTeI+oqo\n",
       "7agycWOwnjQga8L5Yv1auZamsfvNykY/UOClTj/IHseeH3FEc7rDWMR7azzV7LzjTfyNp9HgP/t8\n",
       "PH64uHmgDuPu+IlvH6y/DqW1scNfHbB/Oh+MG/Rq/7a7vwDkTVS/eFcYGgAAAABJRU5ErkJggg==\n",
       "\" style=\"display:inline;vertical-align:middle;\" /></a><br>"
      ],
      "text/plain": [
       "expr: C or D or E or (A or B) or F or G or H or I"
      ]
     },
     "execution_count": 2,
     "metadata": {},
     "output_type": "execute_result"
    }
   ],
   "source": [
    "# build up the expression from sub-expressions\n",
    "expr = Or(C, D, E, Or(A, B), F, G, H, I)"
   ]
  },
  {
   "cell_type": "code",
   "execution_count": 3,
   "metadata": {},
   "outputs": [
    {
     "name": "stdout",
     "output_type": "stream",
     "text": [
      "Passed sanity check: built 'expr' is the same as the stored Expression.\n"
     ]
    }
   ],
   "source": [
    "# check that the built expression is the same as the stored expression\n",
    "%check_expr"
   ]
  },
  {
   "cell_type": "code",
   "execution_count": 4,
   "metadata": {},
   "outputs": [
    {
     "data": {
      "text/html": [
       "<table><tr><th>&nbsp;</th><th>core type</th><th>sub-expressions</th><th>expression</th></tr>\n",
       "<tr><td>0</td><td>Operation</td><td>operator:&nbsp;10<br>operands:&nbsp;1<br></td><td><a class=\"ProveItLink\" href=\"expr.ipynb\"><img src=\"data:image/png;base64,iVBORw0KGgoAAAANSUhEUgAAAVkAAAAVBAMAAAAeMYBLAAAAMFBMVEX////MzMyqqqoiIiIyMjK6\n",
       "uroQEBB2dnbc3NyYmJhmZmZUVFRERESIiIju7u4AAAB204erAAAAAXRSTlMAQObYZgAAA/BJREFU\n",
       "SMflV01oXFUU/t7kzX/ey4DdiMGZhauuZlVwEwNaKW0hWbkoaLooYjftWwkqmKF0VZAMKLhQSVqK\n",
       "0FJIShUkrxBR6aKCk7VaMmI2CgVNpqTttBnPOfe+n/NmGEEUAg7Me2+++71zzr3nO+feAf5Hn9fH\n",
       "DZbn/wOP/s/r10orCvppEIYna5rmbfTDcG5WYc6auTUzYRL19lHgMkaYOL+pwfvfX29fQsb93e4n\n",
       "g7stBb5ngLfbyH/eBvICmhh7QG6HH2R5HMGmKNLc14rnduXZ/SNDLRBtdR4uRpiY1K6KZ4FTZzWN\n",
       "3WMXI0Bsz9BlkcKu8tuezNzZo8sqh3KTf94T9gIPrSieGcCH+9DUOo3W11AOMvhCYPSRmPBfJi/F\n",
       "h5qWf0ohPM68m+eY8CoH9RqHSAuCCVkt74F1iWn+OSP0RXLhbyreORkoHWZvaeoWTX45gH86gy82\n",
       "KD21tAn3XKSkFK34J4Wwk3m3yDFVBBXhHKPvYRmZ5NQusShd8pszop4DArTSvLxRsSeTS1Pv0PcI\n",
       "BfNNBp/rolXupk2sNni6K5rGyprcxzCIJfH4C+zrx4y+eO51jpaprpH7E5TbULyKZBpv5B5BU/vA\n",
       "xR/o/m4G34WvTZREjH5L09j9VBPDIFbbcdVRaiRFVgTLgU3DtNFNL5xraZ4r7/rzzlMoqtO/9+OL\n",
       "/PCCxvOPUdEmKo+Soo9pWDgRhp2VLMgxvZT0CZJ91bTILa6CjXkr8S8jMbkZXkGueZSkIhKqRzr+\n",
       "dc2WQ9pELzyiTUw8TKKNaVIhW40RIAbyaDpRE9tmpMOXN80qwJ+NdFO0zSTiTUm0z4XhE02dpOry\n",
       "eNXqGRP7qNrQrIkpEqN39WSgaFwh6HQxDOK8yMN02St4B1ai1GlMkiqNYjvSTQn3Fc9ES5czGSqt\n",
       "a3kvjjbBm/jNRmtNFE5H1Z6iifseRoDY4DlUDHARZlMSHRaMhEuzEyndvK94Bc5WjutfU+vkoLoT\n",
       "KyExEcRptyaq+/HmktCk3e5hGLQFZYJA9VmzK3rU7/CdSQVufpboxm7QEY+3JVyIspRQud1Kr/ko\n",
       "YyI5OFgTsi5Ls5om7fYBhkHKGK3BKVtpzrfduN0eik4O0zOJbp6pKV6ROCIrK7KISu3WOdONOpg2\n",
       "Ae1quQ3nVqBpSbvNgFwkJ643IhvH5fp7hw4l8YnElbD923TQubWreMg3UbrTa+HTwfEUFTeI+oqo\n",
       "7agycWOwnjQga8L5Yv1auZamsfvNykY/UOClTj/IHseeH3FEc7rDWMR7azzV7LzjTfyNp9HgP/t8\n",
       "PH64uHmgDuPu+IlvH6y/DqW1scNfHbB/Oh+MG/Rq/7a7vwDkTVS/eFcYGgAAAABJRU5ErkJggg==\n",
       "\" style=\"display:inline;vertical-align:middle;\" /></a></td></tr>\n",
       "<tr><td>1</td><td>ExprTuple</td><td>2, 3, 4, 5, 6, 7, 8, 9</td><td><a class=\"ProveItLink\" href=\"../ca5ba6b106047b87edf9f42c75a63092a61b42ae0/expr.ipynb\"><img src=\"data:image/png;base64,iVBORw0KGgoAAAANSUhEUgAAAPAAAAAVBAMAAACK8n6QAAAAMFBMVEX////c3NwiIiJERESqqqqY\n",
       "mJh2dnZmZmYQEBDu7u4yMjJUVFTMzMyIiIi6uroAAAAs73DqAAAAAXRSTlMAQObYZgAAA39JREFU\n",
       "SMfFVjtMFFEUvct+Z9jPFCYkWkCjgUoKFdRitzMxFhPt/MTt0AoIKhYmUEiCFDKaGA0JkWiMCgmr\n",
       "kkjiEJdAJwWbWFAYwmLjp0GWX9gV13vfb96SbOhgknnzPnfOffeec+cNwIFd8dz++wzmsZmj3vDZ\n",
       "bruOT34ru+7LaWERy5ZcNzOi3og27ELA9Ylx3XhQxGF8nbzt65CQLc6VcovFBqHsWifcw85bGvQB\n",
       "/OgT7xcBAusSOYFOA83KkfmH2jzbA5uI4FpPXjP227x/w4b4XduDhIIOaeI2cYfGCwedr4qgNrHp\n",
       "cYTVCgXQoRxf3KZ2ippFNjGP6/PvpHFaZBFgqAmbdkuwuYOwW6BbpSGCLswHtNorEvZP4LGrHZNu\n",
       "KBX4zrHdzVLTxGaWEPt6WhqnMD2cpTe08xkxH/qLsCqJ7bg1oxd+U3wpAhVx+Smb9TKIDEAaLPlO\n",
       "jO0KTJwIcPNWvBtlejIOWEE2CDM3dRpB/m3wIAFOwB10WWRqEIJKEKMqe2sQtD0t/Qps0IOcmnw3\n",
       "JYDDp+VyAQxhXM/0+Ag8yISS5Ro1bfAKt7ehC5VlWWYvXnQzKl4w8tEdEGme5YIoLS4cVYW5BWFh\n",
       "3GPrkCtjrpuUQokziPPwEKBmVbdaosizecWOqZU8+LhEUFifee7x1ccyO6Gi2yi6xy0dkoSylNII\n",
       "B/gJSFqC1YghFpLU9HvshEThUMm7LssT1IDBa9uPiozJhJnbUCu6ZbwXRk9prCadioqcJ8cR1r2g\n",
       "URDc8NjxwbB0jGkYYJ1wKsRzmcBog5vSuAGeiG6/lK+CLIJGODm+D1DLBCc4YCxGmvUyvikGAVIw\n",
       "L6uRGiEI9F+7rhWouLKOlK8s403QITHVJ4WvkMOTHSMKzuB7jmQH64zTcMgDm7oGqoxJwY4XoSEV\n",
       "SsViqDKmOlSQAJdR16jhFMQ7AZ43iDL+gtEbBcnOzDRfYbQKqmb554PKODrgaMYChbiaOyYGsox1\n",
       "qzb4Tun9NHkLH89Qok+T+NWnT7gxaIExgQfGhwJf8bUWLbhUfs0VwonpwvVRWxh3lSctgYJex7rt\n",
       "qwoyF86W0szK11X+SOvjENGEv1xxXOoVsbzrXIs6u87WaihVIPGTGfQUARVVH9QH9l4HbDXbKpCh\n",
       "HD8W993xEN5H1ChWgaX/mMT2+qXIVbGtBvmeavIAfn1i0/Afh3Qf9x7/3HMAAAAASUVORK5CYII=\n",
       "\" style=\"display:inline;vertical-align:middle;\" /></a></td></tr>\n",
       "<tr><td>2</td><td>Variable</td><td></td><td><a class=\"ProveItLink\" href=\"../../../../../__pv_it/985a1bdf1540838275dec15f4ad6de261cca93ce0/expr.ipynb\"><img src=\"data:image/png;base64,iVBORw0KGgoAAAANSUhEUgAAAA8AAAAOBAMAAAACpFvcAAAAMFBMVEX////MzMyqqqoiIiIyMjK6\n",
       "uroQEBB2dnbc3NyYmJhmZmZUVFRERESIiIju7u4AAAB204erAAAAAXRSTlMAQObYZgAAAGZJREFU\n",
       "CNdjYGDgu7NrJccCBgaGsgkMrMsmMDA8sQNy6hsYGNweABlhDAxcn4A0QxcDQ78DiPGQgWH9BAYI\n",
       "sG+AMv6DSaCGfBDNJMDAsB+kmwuI5S8AiTog5gSaEwXWIO29SgFIAQBC+RaDQlidVgAAAABJRU5E\n",
       "rkJggg==\n",
       "\" style=\"display:inline;vertical-align:middle;\" /></a></td></tr>\n",
       "<tr><td>3</td><td>Variable</td><td></td><td><a class=\"ProveItLink\" href=\"../../../../../__pv_it/185e6d30f167ee2ee5ef3321098dc98e0d77bc590/expr.ipynb\"><img src=\"data:image/png;base64,iVBORw0KGgoAAAANSUhEUgAAABEAAAAOBAMAAAA7w+qHAAAALVBMVEX///8QEBCYmJjc3Ny6urru\n",
       "7u5mZmZ2dnaqqqrMzMxEREQyMjJUVFSIiIgAAABETr/8AAAAAXRSTlMAQObYZgAAAGpJREFUCNdj\n",
       "YGC48+7MmV0TGEDgNQMDxwsQg/M5kMgLABK8T4DEvAtAgusBkLA7ACT4FoDEDsAk9AqAxD2QCecc\n",
       "gMQ6kAGCIOIVEDM9Ahn3FkgwgnTxvgQSqwOgxs1OADLC1r05cyoTyAAAv4Qe+njAWvgAAAAASUVO\n",
       "RK5CYII=\n",
       "\" style=\"display:inline;vertical-align:middle;\" /></a></td></tr>\n",
       "<tr><td>4</td><td>Variable</td><td></td><td><a class=\"ProveItLink\" href=\"../../../../../__pv_it/9995c55100c62d7d8a012a35bafc852acbe03cf00/expr.ipynb\"><img src=\"data:image/png;base64,iVBORw0KGgoAAAANSUhEUgAAABAAAAAOBAMAAADUAYG5AAAALVBMVEX///8iIiKYmJjc3Nzu7u7M\n",
       "zMx2dnZmZma6urpERESqqqoyMjJUVFSIiIgAAACbLqVTAAAAAXRSTlMAQObYZgAAAGVJREFUCNdj\n",
       "YGC48+7MmdOvGYAARKwEYo63QIIdiNmeAglfIOZ+wMDGwAxk8E1gUAIpZejbc/oxmJEXwLABzNjH\n",
       "wJDAEABkvGRgMGC5ADWGzQFqjDnEGAZWUQYGn3lvzpyRE2AAAIznGVQJqiN4AAAAAElFTkSuQmCC\n",
       "\" style=\"display:inline;vertical-align:middle;\" /></a></td></tr>\n",
       "<tr><td>5</td><td>Operation</td><td>operator:&nbsp;10<br>operands:&nbsp;11<br></td><td><a class=\"ProveItLink\" href=\"../0f1bf4090acd92174180531bf3e50944b30066e50/expr.ipynb\"><img src=\"data:image/png;base64,iVBORw0KGgoAAAANSUhEUgAAADcAAAAPBAMAAACy3Eq1AAAAMFBMVEX///92dnYQEBBERERUVFS6\n",
       "urqIiIhmZmaqqqrc3Nzu7u6YmJgyMjIiIiLMzMwAAACFkkdwAAAAAXRSTlMAQObYZgAAAP1JREFU\n",
       "GNNjYACBtwyogNv/i4vzUSjnPIhgBTMfgEkmAwaG+gCIwvsLgCQLSJwtASzyHki9dwAzZ9RPAJJ8\n",
       "QNUMvAvAIvlAgf0CYGZCPtiEk0DcDrHHCIgvgdWxLujfwACVOAmR/MLAMMcKzFoKtgJsJNhooA1f\n",
       "0tJvQ5QFMMwvYIA4hgXiQrafDAxrwe7hc3Hxh2i4wLAGopxZAajgN9R/TAfAYhUM0hBJfqAu7o8g\n",
       "VgPQNgWw2BygXog3gQ5k+QFkcAIleT6AxVheQ4IA7M35INNA1jD/gjjSdgHcm3w6QPZk/ZMM3PZ/\n",
       "wM5lOA6RK/7v4nJmA1pkMLxC5QIA6tw+1pV4TWcAAAAASUVORK5CYII=\n",
       "\" style=\"display:inline;vertical-align:middle;\" /></a></td></tr>\n",
       "<tr><td>6</td><td>Variable</td><td></td><td><a class=\"ProveItLink\" href=\"../../../../../__pv_it/6d1586c49fb5fd7602fde2bbc54560e7304e8ccf0/expr.ipynb\"><img src=\"data:image/png;base64,iVBORw0KGgoAAAANSUhEUgAAABAAAAAOBAMAAADUAYG5AAAAMFBMVEX///9mZmYiIiLc3Nzu7u7M\n",
       "zMyqqqp2dna6urqYmJhEREQyMjIQEBBUVFSIiIgAAABBzvKsAAAAAXRSTlMAQObYZgAAAFxJREFU\n",
       "CNdjYGB4+//u3Tv/GIDgNxCvBGKO70BiBhCzfwMSqUDM/YWBmWEKkMGvwOAJUsrQL8AgDGbU7710\n",
       "AMzY78BwAcz4xMAygQFmDAiw/4AyuD9AaMf1f8GaAdy+F/r2qjhkAAAAAElFTkSuQmCC\n",
       "\" style=\"display:inline;vertical-align:middle;\" /></a></td></tr>\n",
       "<tr><td>7</td><td>Variable</td><td></td><td><a class=\"ProveItLink\" href=\"../../../../../__pv_it/994260d00d104a1ab9cf940a007fb6a4ff36f79e0/expr.ipynb\"><img src=\"data:image/png;base64,iVBORw0KGgoAAAANSUhEUgAAAA8AAAAOBAMAAAACpFvcAAAAMFBMVEX///+qqqrMzMwiIiIyMjK6\n",
       "uroQEBB2dnbc3NyYmJhmZmZUVFRERESIiIju7u4AAACtjd3MAAAAAXRSTlMAQObYZgAAAG5JREFU\n",
       "CNdjYGDgu7NrJccCBgaGsgkMrMsmMDA8sQNy6hsYGNweABnKDAxcH4E0QxcDQ78DiPGCgWH9BAYI\n",
       "sG+AMv4D8S2X4wwMaSBefQADw36Qbn8g1r/AwMDxBcjg/MnAoG0Oktf2XjVhEgMDAJHQGYM57+uu\n",
       "AAAAAElFTkSuQmCC\n",
       "\" style=\"display:inline;vertical-align:middle;\" /></a></td></tr>\n",
       "<tr><td>8</td><td>Variable</td><td></td><td><a class=\"ProveItLink\" href=\"../../../../../__pv_it/fabf74ac81cd36aa91075816201d2b14195a56e60/expr.ipynb\"><img src=\"data:image/png;base64,iVBORw0KGgoAAAANSUhEUgAAABMAAAAOBAMAAAA/Njq6AAAALVBMVEX///+qqqp2dnbMzMy6uroi\n",
       "IiIyMjLc3NyYmJju7u5mZmZERERUVFSIiIgAAABaGT/LAAAAAXRSTlMAQObYZgAAAGhJREFUCNdj\n",
       "YGC4827XhJ53uwoYgOAZED8FMRhY3jIwML8CM5keMzDwPgQz2R4wMHC/BDP5NgBxAJjpl3PmzL4F\n",
       "YKaeAQPDPQEwMw+I900AM19DjYYa+whh7BM0Y2fte3OB69wbBQYGADOSITJjbaXUAAAAAElFTkSu\n",
       "QmCC\n",
       "\" style=\"display:inline;vertical-align:middle;\" /></a></td></tr>\n",
       "<tr><td>9</td><td>Variable</td><td></td><td><a class=\"ProveItLink\" href=\"../../../../../__pv_it/485fbf85ade6e4660c176b077846a05437e7af3e0/expr.ipynb\"><img src=\"data:image/png;base64,iVBORw0KGgoAAAANSUhEUgAAAAsAAAAOBAMAAAALT/umAAAAIVBMVEX////MzMyIiIi6uroyMjLc\n",
       "3NxmZmZERERUVFR2dnYAAABv5Bk0AAAAAXRSTlMAQObYZgAAAD9JREFUCNdjYGCYsaosgAEIloAI\n",
       "BuaVYIpzMZhiWQCmuArAlJUCmJolAKa8wCTDcoi2RRBtC5G0hVWtmMDAAAAhAQsT8Qr5GAAAAABJ\n",
       "RU5ErkJggg==\n",
       "\" style=\"display:inline;vertical-align:middle;\" /></a></td></tr>\n",
       "<tr><td>10</td><td>Literal</td><td></td><td><a class=\"ProveItLink\" href=\"../087d0b4ded7c7e5bf3bba05ecb616d7a8051ff650/expr.ipynb\"><img src=\"data:image/png;base64,iVBORw0KGgoAAAANSUhEUgAAAAwAAAAOBAMAAADpk+DfAAAALVBMVEX///+YmJh2dnZmZmaqqqrc\n",
       "3NwyMjLu7u4iIiJERESIiIhUVFTMzMy6uroAAAD0I/TTAAAAAXRSTlMAQObYZgAAAEtJREFUCNdj\n",
       "uMAABDwMe0DUKoaTIKqdgS2AgYHFAITAzHYGsMQqBoa9QIqDgT0BSDE7MAkAKdYEDpAehj1SYOpk\n",
       "O5hiMwBTPAUMDAB33Atnw8aG2QAAAABJRU5ErkJggg==\n",
       "\" style=\"display:inline;vertical-align:middle;\" /></a></td></tr>\n",
       "<tr><td>11</td><td>ExprTuple</td><td>12, 13</td><td><a class=\"ProveItLink\" href=\"../caee09fb4b5c95b986a9cee46a014afbad9bdc680/expr.ipynb\"><img src=\"data:image/png;base64,iVBORw0KGgoAAAANSUhEUgAAADUAAAAVBAMAAAAUZLt1AAAAMFBMVEX////c3NwiIiJERESqqqqY\n",
       "mJh2dnZmZmYQEBDu7u4yMjJUVFTMzMyIiIi6uroAAAAs73DqAAAAAXRSTlMAQObYZgAAATZJREFU\n",
       "KM9jYMAH+C5gFY4DEach7EMwQdb9v3dvXsfAfgDIXgkRWg/XwWHAwFD/gGEBAwMvxEhW/QkwufNA\n",
       "kfMbGMKAqiBiIvUCMLn7QFZ8AsMMBoZXEIEL9x/A5CyAWGMCA7MDQxnEsRP8A2ByvxkYpCwZGNgK\n",
       "GJaC+fPAtoABz++711WBNMsChj6wwAMG+QKoHO9HBoZJG4BGNTD8A6vdvXu/AVSOuQEo/xUo9gEi\n",
       "xwd07wKoHD9QD+s3sFwLiO/AwMDUAPMe0FHcX8BmmgK5jEA5rg8MDBNg3pMHGsK6gCEdyJ0FsuYn\n",
       "A+cnqPd4uiaA/fCIgUG4fyEDq/2vAs5+oJbi/7t3rwL5lesBA4cAUnQhsUFhxpqA4LIiR2AuIo7Q\n",
       "5ThBfpJG8JFTADfIfEbsaeIOAwMABOxNRsfkiy0AAAAASUVORK5CYII=\n",
       "\" style=\"display:inline;vertical-align:middle;\" /></a></td></tr>\n",
       "<tr><td>12</td><td>Variable</td><td></td><td><a class=\"ProveItLink\" href=\"../../../../../__pv_it/2cbe72a7ad6f655694dd697106680215e8489b600/expr.ipynb\"><img src=\"data:image/png;base64,iVBORw0KGgoAAAANSUhEUgAAAA8AAAAOBAMAAAACpFvcAAAALVBMVEX///8QEBBERERUVFS6urqI\n",
       "iIhmZmaqqqrc3Nzu7u6YmJgyMjIiIiLMzMwAAADtIaYWAAAAAXRSTlMAQObYZgAAAFtJREFUCNdj\n",
       "YACBOwxQsA9Kc52bAGG05zVAGAFxDmCaZULdAjBjCsO9ADDDgaEvAUTzGhvbKYCVMDAwbgAxChgY\n",
       "eASANAeQwf0AyJgNxEwvGRia5HYwcOm9TgAA6BoR3jrzwFcAAAAASUVORK5CYII=\n",
       "\" style=\"display:inline;vertical-align:middle;\" /></a></td></tr>\n",
       "<tr><td>13</td><td>Variable</td><td></td><td><a class=\"ProveItLink\" href=\"../../../../../__pv_it/077b2ff79244fb4582cbe22c6e3356fa92a52f2f0/expr.ipynb\"><img src=\"data:image/png;base64,iVBORw0KGgoAAAANSUhEUgAAABAAAAAOBAMAAADUAYG5AAAAMFBMVEX///+qqqru7u4iIiJ2dnbc\n",
       "3NyIiIjMzMxmZmYQEBC6uroyMjJERERUVFSYmJgAAADLUcuvAAAAAXRSTlMAQObYZgAAAGpJREFU\n",
       "CNdjYGB4+//u3dMLGIBgDgMDxy8gzf4NiP8CGWxfGRj4vgAZPBMYGJgnARn8FxhY9ygAGfXX0pof\n",
       "gDTlBzAw2YIYJ0EckBBI53sHoBH/gIz7AhBjWH9DjancBLTl/N+7t/cxMAAA3u4f/5xagjYAAAAA\n",
       "SUVORK5CYII=\n",
       "\" style=\"display:inline;vertical-align:middle;\" /></a></td></tr>\n",
       "</table>\n"
      ],
      "text/plain": [
       "0. C or D or E or (A or B) or F or G or H or I\n",
       "   core type: Operation\n",
       "   operator: 10\n",
       "   operands: 1\n",
       "1. (C , D , E , A or B , F , G , H , I)\n",
       "   core type: ExprTuple\n",
       "   sub-expressions: 2, 3, 4, 5, 6, 7, 8, 9\n",
       "2. C\n",
       "   core type: Variable\n",
       "   sub-expressions: \n",
       "3. D\n",
       "   core type: Variable\n",
       "   sub-expressions: \n",
       "4. E\n",
       "   core type: Variable\n",
       "   sub-expressions: \n",
       "5. A or B\n",
       "   core type: Operation\n",
       "   operator: 10\n",
       "   operands: 11\n",
       "6. F\n",
       "   core type: Variable\n",
       "   sub-expressions: \n",
       "7. G\n",
       "   core type: Variable\n",
       "   sub-expressions: \n",
       "8. H\n",
       "   core type: Variable\n",
       "   sub-expressions: \n",
       "9. I\n",
       "   core type: Variable\n",
       "   sub-expressions: \n",
       "10. or\n",
       "    core type: Literal\n",
       "    sub-expressions: \n",
       "11. (A , B)\n",
       "    core type: ExprTuple\n",
       "    sub-expressions: 12, 13\n",
       "12. A\n",
       "    core type: Variable\n",
       "    sub-expressions: \n",
       "13. B\n",
       "    core type: Variable\n",
       "    sub-expressions: "
      ]
     },
     "execution_count": 4,
     "metadata": {},
     "output_type": "execute_result"
    }
   ],
   "source": [
    "# display the expression information\n",
    "expr.exprInfo()"
   ]
  },
  {
   "cell_type": "code",
   "execution_count": null,
   "metadata": {},
   "outputs": [],
   "source": []
  }
 ],
 "metadata": {
  "kernelspec": {
   "display_name": "Python 3",
   "language": "python",
   "name": "python3"
  }
 },
 "nbformat": 4,
 "nbformat_minor": 0
}
