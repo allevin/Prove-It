{
 "cells": [
  {
   "cell_type": "markdown",
   "metadata": {},
   "source": [
    "Expression of type <a class=\"ProveItLink\" href=\"../../../../../../../doc/html/api/proveit.logic.Set.html\">Set</a>\n",
    "=======================\n",
    "# from context <a class=\"ProveItLink\" href=\"../../_context_.ipynb\">proveit.logic.boolean.disjunction</a>"
   ]
  },
  {
   "cell_type": "code",
   "execution_count": 1,
   "metadata": {},
   "outputs": [],
   "source": [
    "# import Expression classes needed to build the expression\n",
    "from proveit._common_ import A, B, C\n",
    "from proveit.logic import Booleans, InSet, Or, Set"
   ]
  },
  {
   "cell_type": "code",
   "execution_count": 2,
   "metadata": {},
   "outputs": [
    {
     "data": {
      "text/html": [
       "<strong id=\"expr\">expr:</strong> <a class=\"ProveItLink\" href=\"expr.ipynb\"><img src=\"data:image/png;base64,iVBORw0KGgoAAAANSUhEUgAAAKkAAAAVBAMAAADP89MSAAAAMFBMVEX////c3NxERESqqqpUVFS6\n",
       "urrMzMwyMjIQEBCIiIh2dnYiIiLu7u5mZmaYmJgAAABXZE4RAAAAAXRSTlMAQObYZgAAAqFJREFU\n",
       "OMutVU1oE0EUfombTbK72YYqeBIjChUqNnjQk1phIXjQ5malCHvooaDYRhCENmnw72KpRfDQUwse\n",
       "lIJSRBAN2L1IES+RgoKizUHwJDHSUpWiznuT2Z3ZGCXgwL7d/ebNt2++994sANgf4D8OfSGNN+sp\n",
       "2thMh6vtfDvaK2iTX9AOc+hsyOXjL8fpCa9/sed9bQe8DqF3v05eephlD2/wzSijneBTkxQ3Pbpk\n",
       "LwOk1lXMmAY4Mw3xcJCZ09bEArvf81mTXAB7yWNWc31E/86uNQWzxpmP0QB7voUVbscV1oRHE1tX\n",
       "UWo9w4xJSLLBPvVDweJTGHoZrHJTj/HKY8F6RPNk1lPcY2aONCyw6zABUTZpTinYKmoXqQLs5skp\n",
       "eVKs3UqsbwmPeUdr0FxdIKSrHyIXPBmLbFDhMEHuk0e3FyigP9snWFNjzJQIfw6jpCbbKe0YYPT4\n",
       "7Dv6kI+lfgqWQ2R3BboOLX3D5XV8GcFNXyM8DzurwLOi8XKaS4P1CGTMbAiWQQo6I2dr9gAKzziG\n",
       "ryOyThI5zgB3WoRl7rkXmWsy1kXlbeE+SLQblUqQrWgMC6OHLRh0BSurycQYOazAA86KRVWfl7EE\n",
       "sR4UrHq/HGsUWFQm+mtIRF3GkmvyctnOIqM1KOJAVsa0TbRVX4HFFlbS1UB8P2aXrY5TJKCd512B\n",
       "5cqT7mPYF2Bg4j8RfFJhRQWCysIqQdmimzzGXs8v15FmMwusnoXYKwBRWS/zEuvnW0q9DrHCu1kA\n",
       "u2+DigCKZFN9a06uJFYVm+y5Eyv0cJFspOj6p0vv1azasWm1p8/94YgLYaJjt+SaNSBGwNpyVPx7\n",
       "GO1OZGK15ZOwg7HcboLOV+sJ2m0dsx5r9y/gfWrfQdE7/cMk3b/8t34DWRuwfJCddk0AAAAASUVO\n",
       "RK5CYII=\n",
       "\" style=\"display:inline;vertical-align:middle;\" /></a><br>"
      ],
      "text/plain": [
       "expr: {(A or B or C) in BOOLEANS}"
      ]
     },
     "execution_count": 2,
     "metadata": {},
     "output_type": "execute_result"
    }
   ],
   "source": [
    "# build up the expression from sub-expressions\n",
    "expr = Set(InSet(Or(A, B, C), Booleans))"
   ]
  },
  {
   "cell_type": "code",
   "execution_count": 3,
   "metadata": {},
   "outputs": [
    {
     "name": "stdout",
     "output_type": "stream",
     "text": [
      "Passed sanity check: built 'expr' is the same as the stored Expression.\n"
     ]
    }
   ],
   "source": [
    "# check that the built expression is the same as the stored expression\n",
    "%check_expr"
   ]
  },
  {
   "cell_type": "code",
   "execution_count": 4,
   "metadata": {},
   "outputs": [
    {
     "data": {
      "text/html": [
       "<table><tr><th>&nbsp;</th><th>core type</th><th>sub-expressions</th><th>expression</th></tr>\n",
       "<tr><td>0</td><td>Operation</td><td>operator:&nbsp;1<br>operands:&nbsp;2<br></td><td><a class=\"ProveItLink\" href=\"expr.ipynb\"><img src=\"data:image/png;base64,iVBORw0KGgoAAAANSUhEUgAAAKkAAAAVBAMAAADP89MSAAAAMFBMVEX////c3NxERESqqqpUVFS6\n",
       "urrMzMwyMjIQEBCIiIh2dnYiIiLu7u5mZmaYmJgAAABXZE4RAAAAAXRSTlMAQObYZgAAAqFJREFU\n",
       "OMutVU1oE0EUfombTbK72YYqeBIjChUqNnjQk1phIXjQ5malCHvooaDYRhCENmnw72KpRfDQUwse\n",
       "lIJSRBAN2L1IES+RgoKizUHwJDHSUpWiznuT2Z3ZGCXgwL7d/ebNt2++994sANgf4D8OfSGNN+sp\n",
       "2thMh6vtfDvaK2iTX9AOc+hsyOXjL8fpCa9/sed9bQe8DqF3v05eephlD2/wzSijneBTkxQ3Pbpk\n",
       "LwOk1lXMmAY4Mw3xcJCZ09bEArvf81mTXAB7yWNWc31E/86uNQWzxpmP0QB7voUVbscV1oRHE1tX\n",
       "UWo9w4xJSLLBPvVDweJTGHoZrHJTj/HKY8F6RPNk1lPcY2aONCyw6zABUTZpTinYKmoXqQLs5skp\n",
       "eVKs3UqsbwmPeUdr0FxdIKSrHyIXPBmLbFDhMEHuk0e3FyigP9snWFNjzJQIfw6jpCbbKe0YYPT4\n",
       "7Dv6kI+lfgqWQ2R3BboOLX3D5XV8GcFNXyM8DzurwLOi8XKaS4P1CGTMbAiWQQo6I2dr9gAKzziG\n",
       "ryOyThI5zgB3WoRl7rkXmWsy1kXlbeE+SLQblUqQrWgMC6OHLRh0BSurycQYOazAA86KRVWfl7EE\n",
       "sR4UrHq/HGsUWFQm+mtIRF3GkmvyctnOIqM1KOJAVsa0TbRVX4HFFlbS1UB8P2aXrY5TJKCd512B\n",
       "5cqT7mPYF2Bg4j8RfFJhRQWCysIqQdmimzzGXs8v15FmMwusnoXYKwBRWS/zEuvnW0q9DrHCu1kA\n",
       "u2+DigCKZFN9a06uJFYVm+y5Eyv0cJFspOj6p0vv1azasWm1p8/94YgLYaJjt+SaNSBGwNpyVPx7\n",
       "GO1OZGK15ZOwg7HcboLOV+sJ2m0dsx5r9y/gfWrfQdE7/cMk3b/8t34DWRuwfJCddk0AAAAASUVO\n",
       "RK5CYII=\n",
       "\" style=\"display:inline;vertical-align:middle;\" /></a></td></tr>\n",
       "<tr><td>1</td><td>Literal</td><td></td><td><a class=\"ProveItLink\" href=\"../../../../set_theory/enumeration/__pv_it/07381ed5b23806e8d7914b78cb6667769e3708dd0/expr.ipynb\"><img src=\"data:image/png;base64,iVBORw0KGgoAAAANSUhEUgAAAB4AAAAOBAMAAADKyLEKAAAAMFBMVEX///8iIiIQEBCIiIjMzMzc\n",
       "3Nyqqqp2dnZEREQyMjK6urru7u5mZmZUVFSYmJgAAACI6eGPAAAAAXRSTlMAQObYZgAAALRJREFU\n",
       "CNdjYGDgu3Nm3wIGBJjHwN0PZW5yYGDgLWBgyITy8zcwMMQDxZyh/INAvD6BgcEFypcB4vjPDiBm\n",
       "TPFRrhs/LjMwMP//38rAwCbKEMPA9gEkE3fp0waG+AUMRxh4JkC01T9guPTOOICBEWgVH5C//wHD\n",
       "H5D4fqCz9oCMDGD4DLaegRXslLMMDMpAgxlOMmQxHDRgYG5gYLBk4D7KcIe7gOHC2rt9QCXsh40Z\n",
       "GCKMGQDRkC8N/Ph1XAAAAABJRU5ErkJggg==\n",
       "\" style=\"display:inline;vertical-align:middle;\" /></a></td></tr>\n",
       "<tr><td>2</td><td>ExprTuple</td><td>3</td><td><a class=\"ProveItLink\" href=\"../5831ba0b71c7999f8286772ac52eff97031fba060/expr.ipynb\"><img src=\"data:image/png;base64,iVBORw0KGgoAAAANSUhEUgAAAKIAAAAVBAMAAAA3EyjlAAAAMFBMVEX////c3NwiIiJERESqqqqY\n",
       "mJh2dnZmZmYQEBDu7u4yMjJUVFTMzMyIiIi6uroAAAAs73DqAAAAAXRSTlMAQObYZgAAAnFJREFU\n",
       "OMutlE1oE1EQx/+bmO+PFiIIerBEvOihsVTw49CAiCCCuQn10FxU8BSl1EuhRe2hCHXxWFBMJcRe\n",
       "bD2IkCANgqB46ILn2tCLpSAYRLEtVmfm7W5eNm0k4MAM2d++98+8mXkL/H9LWsq7skC9A/9oO9lb\n",
       "z/urf6rVM969j8/eyR3AuIfe/L7w/EgWwudtJ1uQnOVnTeI9ILTTyoJTwJcpRL3ZZb5G5q+DecJS\n",
       "zin3mxRjvFGR+G/y7RYWmaM1wQYC+TZFfCY54mFawU62f6KXZTIUfEISDVrys4VFpznlSUQm7RrM\n",
       "pY85iudjJvMNetpQb61VqVmR/IIAP23zTbewCaoVjAIwKCviJVPLMQXmYxTHVNPNyznYO4tCehZh\n",
       "PDN1ZmzxU4SKcENWpMzmqeNHT4N5iWJJ2BMsS/XodHJKYPnNym35E5eFfjgKFyWeaNZxrf+XJXyG\n",
       "4oywOg4XoDoQUyOz2ovIcejM13AU1iXZjN6ZlXPCeTh2pCTV6pJa0IdZteoUq+Z01vNNhDh/KdTd\n",
       "dLrZGX8yz9xVpJkLP5WXo7imFHlwRvI6C4viJUcxvqjn6EeG+X16Ygc10adG4iBlJOu5aEtZncU2\n",
       "ORbcU/e1Ka7jJD2xG7QzKhkg9k5NPI+jaq7LeOYR5AYPC37VosinHpYpYOcy+TdVbgOmO47v7Qvq\n",
       "sJEskrcAZ3oe1TXFK5+Er1EkTz0sIjC0Jc1GWWJoaLtaKTk7yrZy5fWo/Hgh0SjX3C/FwIOs8DDd\n",
       "PHbdPuzynfIw5xbuq9i9bnK+8m3X/t8WtPbm2tesC5vtwA/Z3p297MANS3lXlqjtyf8CIT23zlPR\n",
       "sjMAAAAASUVORK5CYII=\n",
       "\" style=\"display:inline;vertical-align:middle;\" /></a></td></tr>\n",
       "<tr><td>3</td><td>Operation</td><td>operator:&nbsp;4<br>operands:&nbsp;5<br></td><td><a class=\"ProveItLink\" href=\"../37e5900eb583d6e5ff52f2f67f9765e32878aa7e0/expr.ipynb\"><img src=\"data:image/png;base64,iVBORw0KGgoAAAANSUhEUgAAAJMAAAAVBAMAAACwIsHjAAAAMFBMVEX////c3NwiIiJERESqqqqY\n",
       "mJh2dnZmZmYQEBDu7u4yMjJUVFTMzMyIiIi6uroAAAAs73DqAAAAAXRSTlMAQObYZgAAAkpJREFU\n",
       "OMutVE1oE1EQ/jYxP5tN0kAFQQ+WiBc9NBYFrYcGRAQRzE3QQ3NRwVOUopdCi9pDEXTpsaA0LSHm\n",
       "YutBhCzSIAiKhxY814ZeFEEwiGJbrM7M293srs1hwYWdfe+bmW/n7z3gPz7Z1ZAOsXYvzXv1eR2A\n",
       "r/yxrOGg0+PTd0r7MB5Ab3xffHqoSIuG2i9KhLJsibwHJHb8WHwK+DSFVDCawle9cQ3IqPxigyZJ\n",
       "gz0Ukv5N77YP0+fJJt5BrPwPFT4Sf9KU3d6JHPsXSEQEyXSI/6cPS01zkJPQJ+105/NHHKqzhokv\n",
       "Cl5dl7pU6T0nQJTsI9M+bILroVWA42KRrpmeqPqB26qN5sUSbJeqIH1L0BZML6Zt8U6nfK+LRb/Z\n",
       "TTB9+BRQk80TrEiFKBFJCFh5tXZL2F0s8cNxPS/yWLdWG4O/yP2hbNo4WIEqr6EmYD0H/Si8WKTj\n",
       "uH6W8Aresq+dAXYkbctaVpoBzCr1SaYrebG+b8LAEUtN7ubz3bJHs2VFRbOTnBN0DFcVFc/BaNmL\n",
       "JYXqgkOVXvJGFUUB93lNrYmoDu+nGMSQC7Nc9GLGJsuKm+BAkOoE94ZcUvJPGG/UyPJYqZa5GA8t\n",
       "4ty2ywK/8FFRgtxYLkV0U0UzZLpj9dY+Uw42WkT2Ji/UMMy0PVSXPgAbNCCPqoiNbEkLUReZGNm2\n",
       "mjXHtG5TNl+OyeKZSK3eco/z0ANKLJnzn6d3u1weAcw5OHuadged26cc+oaL97rhGqGpZnspDoSm\n",
       "et5LoYW9kDOt3fG/Wmqf0ubmvsQAAAAASUVORK5CYII=\n",
       "\" style=\"display:inline;vertical-align:middle;\" /></a></td></tr>\n",
       "<tr><td>4</td><td>Literal</td><td></td><td><a class=\"ProveItLink\" href=\"../../../../set_theory/membership/__pv_it/088cbc857536a28d4119ad9639a84270ccb0545d0/expr.ipynb\"><img src=\"data:image/png;base64,iVBORw0KGgoAAAANSUhEUgAAAAwAAAAMBAMAAACkW0HUAAAALVBMVEX///+qqqpmZmZUVFQQEBC6\n",
       "urpERETc3NyYmJjMzMwiIiIyMjKIiIju7u4AAACYsrA9AAAAAXRSTlMAQObYZgAAADxJREFUCNdj\n",
       "YOA9vWrVBgaG2b0MQMCeCyIZ2ArA1DUwyRCyahVIyWQI7xaEYm4AU7xLIdxqTQgtvGvVBgCkcQ7e\n",
       "geM/tQAAAABJRU5ErkJggg==\n",
       "\" style=\"display:inline;vertical-align:middle;\" /></a></td></tr>\n",
       "<tr><td>5</td><td>ExprTuple</td><td>6, 7</td><td><a class=\"ProveItLink\" href=\"../e4a6afbe0d80a109fc05efd6ea046fba353ed50d0/expr.ipynb\"><img src=\"data:image/png;base64,iVBORw0KGgoAAAANSUhEUgAAAIEAAAAVBAMAAACTeZA2AAAAMFBMVEX////c3NwiIiJERESqqqqY\n",
       "mJh2dnZmZmYQEBDu7u4yMjJUVFTMzMyIiIi6uroAAAAs73DqAAAAAXRSTlMAQObYZgAAAkpJREFU\n",
       "OMulVEtoE1EUPWk6+c3HAYVCXVQEoV01iIK6MTuXBoTu1G5EXYgBvxtJEFeCJrgQCSLThfgp2EIF\n",
       "kSkmtLiQLjKg4MbS6ELFVf2CDRjvZ6ZJ46pmYO677753z73n3fse0P/nBH04H2OxpPpCz5pRa/lz\n",
       "T3qM6dfPLsQKpCRmDqxd3QMk6zR5pIszIpssLFFTWaBIc0dmdZGn8nAu51mLO0H19iTgAbaSMMYr\n",
       "PMyzWBZLgxYas4DJzrqrOkbirBsi2E1yn6BQ4oltRVlYZDEmlhUyHKcoFuWCAdn1kOVnhAiD+efA\n",
       "HeCLkghWhECG3AYLYtlH/yi7TNF/iC3JHyyHIgT7PWHHc7ioBakcFnrsnZFs0AKG9yP0ZhSMeCzv\n",
       "RggLRwg/UcB9MdwT2spAmMBqLb/dJRoxECYo5jtViTs72zc4pIebYQ1GNHc6xRei2F+BW7PQUzSF\n",
       "4rjbjRDYbwjXKeGPBPT9WlYDIu3plhL5/hR1B6oytkVWIgRkP5LnqiJQzVPqmMwlNNctFN/4Jep5\n",
       "nJCxLCdV7yDEBeEaz3MUvCQrMW9A02wQkCmHj2HKgr8ah09iAwKx2MtuhJBZ1aX5o1hvBz18mC+D\n",
       "9R7DaeURsTA8nOReY9Nv9VzUfuJ2sK4rZ2u3jgal9MlF+psiGFeyUs0PwNbyFIyDa1qMjA7n2r7/\n",
       "OKreg3Bcmr5E2abLLt+s76NPeXsTKXfj9bMq/97hVz3vQZcLdbUxuelHwejSz3Ru9/8hSPNs3zRC\n",
       "16NmMqFYP6/cO+AvfXyX/7hjFT4AAAAASUVORK5CYII=\n",
       "\" style=\"display:inline;vertical-align:middle;\" /></a></td></tr>\n",
       "<tr><td>6</td><td>Operation</td><td>operator:&nbsp;8<br>operands:&nbsp;9<br></td><td><a class=\"ProveItLink\" href=\"../ebd450f61d15b527672f06ab720798644884e75c0/expr.ipynb\"><img src=\"data:image/png;base64,iVBORw0KGgoAAAANSUhEUgAAAF8AAAAPBAMAAABw7A4xAAAAMFBMVEX///92dnYQEBBERERUVFS6\n",
       "urqIiIhmZmaqqqrc3Nzu7u6YmJgyMjIiIiLMzMwAAACFkkdwAAAAAXRSTlMAQObYZgAAAWBJREFU\n",
       "KM9jYACBtwyogNv/i4vzUTRBrmT3as4CCPs8iGAFMx+ASSYDBob6AFQxoQ0MrEUbIAbeXwAkWUDi\n",
       "bAlgkfdA6r0DitiaW0BCfgJYekY9iOYDmsrAuwAskg8U2C+AInYIRAZBXJSQHwCiTgJxO0TECIgv\n",
       "LUAWY/8BIqeDZVkX9IOd1g5VAARfGBjmWKGIzT8AIteBZZeCnQy2GuwEoEu+pKXfZkARq9+ACK8A\n",
       "hvng0AJ6jgXsNga2nwwMax1QxO5PgKvnc3Hxhxh8gWENRIhZAaj0N4rYfzC5ABr+TGAHMlQwSEM0\n",
       "8ANN5/6IIqYPIjjAMdIAdKkCWHAO0DxINAAdzPIDRcwfZDg7iMUJ1MDzASzI8hoSbeBogAQLXAwc\n",
       "LlLgGAS5+RfEN7YL4NHAp7MARYwbaGE4yOOT9U8ycNv/gSSq4xD1xf9dXM7AghEqxvDkSHkDAzp4\n",
       "xcBASAwANRtk9OKCOBQAAAAASUVORK5CYII=\n",
       "\" style=\"display:inline;vertical-align:middle;\" /></a></td></tr>\n",
       "<tr><td>7</td><td>Literal</td><td></td><td><a class=\"ProveItLink\" href=\"../../../__pv_it/46271c8230be96415d662709611f4ed2279d702b0/expr.ipynb\"><img src=\"data:image/png;base64,iVBORw0KGgoAAAANSUhEUgAAAA0AAAAOBAMAAAAGUYvhAAAAMFBMVEX///9mZmbMzMzc3NxUVFSY\n",
       "mJju7u6IiIi6urqqqqoiIiIQEBBEREQyMjJ2dnYAAAAQvcRZAAAAAXRSTlMAQObYZgAAAElJREFU\n",
       "CNdjePvn/u01ExgYGA60s117B6YZKngh9FSWBAjfBsxnWnoMRHet/10AkS+fA6F5OB5AaIYDqDRU\n",
       "PLCGgQFoz6ktExgAgLIl8DFvGtkAAAAASUVORK5CYII=\n",
       "\" style=\"display:inline;vertical-align:middle;\" /></a></td></tr>\n",
       "<tr><td>8</td><td>Literal</td><td></td><td><a class=\"ProveItLink\" href=\"../087d0b4ded7c7e5bf3bba05ecb616d7a8051ff650/expr.ipynb\"><img src=\"data:image/png;base64,iVBORw0KGgoAAAANSUhEUgAAAAwAAAAOBAMAAADpk+DfAAAALVBMVEX///+YmJh2dnZmZmaqqqrc\n",
       "3NwyMjLu7u4iIiJERESIiIhUVFTMzMy6uroAAAD0I/TTAAAAAXRSTlMAQObYZgAAAEtJREFUCNdj\n",
       "uMAABDwMe0DUKoaTIKqdgS2AgYHFAITAzHYGsMQqBoa9QIqDgT0BSDE7MAkAKdYEDpAehj1SYOpk\n",
       "O5hiMwBTPAUMDAB33Atnw8aG2QAAAABJRU5ErkJggg==\n",
       "\" style=\"display:inline;vertical-align:middle;\" /></a></td></tr>\n",
       "<tr><td>9</td><td>ExprTuple</td><td>10, 11, 12</td><td><a class=\"ProveItLink\" href=\"../3f290ae5514e8ababf154639022a3e6aa30f85750/expr.ipynb\"><img src=\"data:image/png;base64,iVBORw0KGgoAAAANSUhEUgAAAE8AAAAVBAMAAAD1D64kAAAAMFBMVEX////c3NwiIiJERESqqqqY\n",
       "mJh2dnZmZmYQEBDu7u4yMjJUVFTMzMyIiIi6uroAAAAs73DqAAAAAXRSTlMAQObYZgAAAZVJREFU\n",
       "KM+NUztLA0EQ/mI8k8vjDCgIWqQStEoaQSvzD0xlqenUQjwQH11SWFmYw0pE5CwEH6CChcUVCbYp\n",
       "ErCwURJsFKsoUdCAcXbn1iSFmoWb+765b3Yeuwd0vIzS/5oZYQqMr5VTy9WdyzPF9JurFY/pyxM8\n",
       "Zs/5T7g/DqQrLplPwlhPwgbCnFmLWUpYJE/xgvHuKJmlCKYpngX96YgSlgnNphgfia9PwA7wzJ5S\n",
       "WSXDOD0jHO6rCTsAeBNY5datqaQS1oHBCYZRW9g9oMfEofTsy8rkCtXvb4ddnFbR3Ta2JKggarq+\n",
       "8Auw7fYSU4UbGXzJXRwnF3d93gyJ3xg3pKV6Q1UWGtS97Qp7aTftnXFWps1L4YbACaAro8ZIdQVr\n",
       "jHOieR+nHqOXh4SBqszBYxTdWu7ssSDOw8acmL8o7QP6qzvG0KbFRKOdH0VDNJ4HoC97AG3y09Sz\n",
       "5FtuOM4JZZcEhdO1hIgOVOCPtNy4CH4hdIRaqkm11jvYRhab1+xPoS5mN9TkbXe9lQRFGZ4OfoU7\n",
       "4BvUnmWyIUTp6gAAAABJRU5ErkJggg==\n",
       "\" style=\"display:inline;vertical-align:middle;\" /></a></td></tr>\n",
       "<tr><td>10</td><td>Variable</td><td></td><td><a class=\"ProveItLink\" href=\"../../../../../__pv_it/2cbe72a7ad6f655694dd697106680215e8489b600/expr.ipynb\"><img src=\"data:image/png;base64,iVBORw0KGgoAAAANSUhEUgAAAA8AAAAOBAMAAAACpFvcAAAALVBMVEX///8QEBBERERUVFS6urqI\n",
       "iIhmZmaqqqrc3Nzu7u6YmJgyMjIiIiLMzMwAAADtIaYWAAAAAXRSTlMAQObYZgAAAFtJREFUCNdj\n",
       "YACBOwxQsA9Kc52bAGG05zVAGAFxDmCaZULdAjBjCsO9ADDDgaEvAUTzGhvbKYCVMDAwbgAxChgY\n",
       "eASANAeQwf0AyJgNxEwvGRia5HYwcOm9TgAA6BoR3jrzwFcAAAAASUVORK5CYII=\n",
       "\" style=\"display:inline;vertical-align:middle;\" /></a></td></tr>\n",
       "<tr><td>11</td><td>Variable</td><td></td><td><a class=\"ProveItLink\" href=\"../../../../../__pv_it/077b2ff79244fb4582cbe22c6e3356fa92a52f2f0/expr.ipynb\"><img src=\"data:image/png;base64,iVBORw0KGgoAAAANSUhEUgAAABAAAAAOBAMAAADUAYG5AAAAMFBMVEX///+qqqru7u4iIiJ2dnbc\n",
       "3NyIiIjMzMxmZmYQEBC6uroyMjJERERUVFSYmJgAAADLUcuvAAAAAXRSTlMAQObYZgAAAGpJREFU\n",
       "CNdjYGB4+//u3dMLGIBgDgMDxy8gzf4NiP8CGWxfGRj4vgAZPBMYGJgnARn8FxhY9ygAGfXX0pof\n",
       "gDTlBzAw2YIYJ0EckBBI53sHoBH/gIz7AhBjWH9DjancBLTl/N+7t/cxMAAA3u4f/5xagjYAAAAA\n",
       "SUVORK5CYII=\n",
       "\" style=\"display:inline;vertical-align:middle;\" /></a></td></tr>\n",
       "<tr><td>12</td><td>Variable</td><td></td><td><a class=\"ProveItLink\" href=\"../../../../../__pv_it/985a1bdf1540838275dec15f4ad6de261cca93ce0/expr.ipynb\"><img src=\"data:image/png;base64,iVBORw0KGgoAAAANSUhEUgAAAA8AAAAOBAMAAAACpFvcAAAAMFBMVEX////MzMyqqqoiIiIyMjK6\n",
       "uroQEBB2dnbc3NyYmJhmZmZUVFRERESIiIju7u4AAAB204erAAAAAXRSTlMAQObYZgAAAGZJREFU\n",
       "CNdjYGDgu7NrJccCBgaGsgkMrMsmMDA8sQNy6hsYGNweABlhDAxcn4A0QxcDQ78DiPGQgWH9BAYI\n",
       "sG+AMv6DSaCGfBDNJMDAsB+kmwuI5S8AiTog5gSaEwXWIO29SgFIAQBC+RaDQlidVgAAAABJRU5E\n",
       "rkJggg==\n",
       "\" style=\"display:inline;vertical-align:middle;\" /></a></td></tr>\n",
       "</table>\n"
      ],
      "text/plain": [
       "0. {(A or B or C) in BOOLEANS}\n",
       "   core type: Operation\n",
       "   operator: 1\n",
       "   operands: 2\n",
       "1. Set\n",
       "   core type: Literal\n",
       "   sub-expressions: \n",
       "2. ((A or B or C) in BOOLEANS)\n",
       "   core type: ExprTuple\n",
       "   sub-expressions: 3\n",
       "3. (A or B or C) in BOOLEANS\n",
       "   core type: Operation\n",
       "   operator: 4\n",
       "   operands: 5\n",
       "4. in\n",
       "   core type: Literal\n",
       "   sub-expressions: \n",
       "5. (A or B or C , BOOLEANS)\n",
       "   core type: ExprTuple\n",
       "   sub-expressions: 6, 7\n",
       "6. A or B or C\n",
       "   core type: Operation\n",
       "   operator: 8\n",
       "   operands: 9\n",
       "7. BOOLEANS\n",
       "   core type: Literal\n",
       "   sub-expressions: \n",
       "8. or\n",
       "   core type: Literal\n",
       "   sub-expressions: \n",
       "9. (A , B , C)\n",
       "   core type: ExprTuple\n",
       "   sub-expressions: 10, 11, 12\n",
       "10. A\n",
       "    core type: Variable\n",
       "    sub-expressions: \n",
       "11. B\n",
       "    core type: Variable\n",
       "    sub-expressions: \n",
       "12. C\n",
       "    core type: Variable\n",
       "    sub-expressions: "
      ]
     },
     "execution_count": 4,
     "metadata": {},
     "output_type": "execute_result"
    }
   ],
   "source": [
    "# display the expression information\n",
    "expr.exprInfo()"
   ]
  },
  {
   "cell_type": "code",
   "execution_count": null,
   "metadata": {},
   "outputs": [],
   "source": []
  }
 ],
 "metadata": {
  "kernelspec": {
   "display_name": "Python 3",
   "language": "python",
   "name": "python3"
  }
 },
 "nbformat": 4,
 "nbformat_minor": 0
}
