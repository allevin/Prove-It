{
 "cells": [
  {
   "cell_type": "markdown",
   "metadata": {},
   "source": [
    "Show the Proof\n",
    "========"
   ]
  },
  {
   "cell_type": "code",
   "execution_count": 1,
   "metadata": {},
   "outputs": [
    {
     "data": {
      "text/html": [
       "<table><tr><th>&nbsp;</th><th>step type</th><th>requirements</th><th>statement</th></tr>\n",
       "<tr><td>0</td><td>assumption</td><td></td><td><span style=\"font-size:20px;\"><a class=\"ProveItLink\" href=\"../5631b1bc8f2565e98102c877916bf8cf8b2c30ba0/expr.ipynb\"><img src=\"data:image/png;base64,iVBORw0KGgoAAAANSUhEUgAAADEAAAAVBAMAAAAdjxsPAAAAMFBMVEX////c3NxERESqqqpUVFS6\n",
       "urrMzMwyMjIQEBCIiIh2dnYiIiLu7u5mZmaYmJgAAABXZE4RAAAAAXRSTlMAQObYZgAAAMxJREFU\n",
       "KM9jYGDgu8eABthWCYAonl0MGICtGURyfkAWO6ly94EsA8N1EJurAUmCq4+BIRaIV6DL8FQfAAp8\n",
       "xCLD3gMkWBuwyNw3ABKMFzBlGL+DjUyAyvAWwGV4/8FY70FERgBQaDcILOD+CLcQaGJKG9x7Dvxg\n",
       "r/GACPUHDAwRCXAZDrCMGRBzLwASLAVwGZY/IPoCzB6uDXAZtp8gPtCz6K5OYHhvwMB6kYEBi0/Z\n",
       "3H0vM2CVgQMCMnzYZMDxw7MTS5y2gim+xVjTAQAT7ji3n3iO0gAAAABJRU5ErkJggg==\n",
       "\" style=\"display:inline;vertical-align:middle;\" /></a> <a class=\"ProveItLink\" href=\"proof.ipynb\" style=\"text-decoration: none\">&#x22A2;&nbsp;</a><a class=\"ProveItLink\" href=\"../4fbdcb4671f0f96544ca64362db2c9fec03a54b30/expr.ipynb\"><img src=\"data:image/png;base64,iVBORw0KGgoAAAANSUhEUgAAAB0AAAAOBAMAAAAh/woJAAAAMFBMVEX///+qqqoyMjK6uroQEBDc\n",
       "3NyYmJhERESIiIju7u5UVFTMzMx2dnYiIiJmZmYAAABcp3IwAAAAAXRSTlMAQObYZgAAAG9JREFU\n",
       "CNdjYIABzvZ1z1gfwLkMRxIYmJ8kwLmTbgKJ8wFwvsoEIGEC5/J9BJFxcH68AoicDee/h5n09i4Q\n",
       "3GG4jzAJCHYx/AfTE+B8fxDFuAHOXw+S4kOo398ApE7C+NwMbED77ZDN3KX1TgBIAQC0Ih9XIAXH\n",
       "nQAAAABJRU5ErkJggg==\n",
       "\" style=\"display:inline;vertical-align:middle;\" /></a></span></td></tr>\n",
       "</table>"
      ],
      "text/plain": [
       "<proveit._core_.proof._ShowProof at 0x7f94eb4ca860>"
      ]
     },
     "execution_count": 1,
     "metadata": {},
     "output_type": "execute_result"
    }
   ],
   "source": [
    "import proveit\n",
    "%show_proof"
   ]
  },
  {
   "cell_type": "code",
   "execution_count": null,
   "metadata": {},
   "outputs": [],
   "source": []
  }
 ],
 "metadata": {
  "kernelspec": {
   "display_name": "Python 3",
   "language": "python",
   "name": "python3"
  }
 },
 "nbformat": 4,
 "nbformat_minor": 0
}
