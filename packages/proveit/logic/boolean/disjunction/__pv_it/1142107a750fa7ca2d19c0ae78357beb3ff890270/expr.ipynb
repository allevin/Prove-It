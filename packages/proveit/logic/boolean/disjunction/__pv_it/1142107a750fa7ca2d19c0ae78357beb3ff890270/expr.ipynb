{
 "cells": [
  {
   "cell_type": "markdown",
   "metadata": {},
   "source": [
    "Expression of type <a class=\"ProveItLink\" href=\"../../../../../../../doc/html/api/proveit.ExprTuple.html\">ExprTuple</a>\n",
    "=======================\n",
    "# from context <a class=\"ProveItLink\" href=\"../../_context_.ipynb\">proveit.logic.boolean.disjunction</a>"
   ]
  },
  {
   "cell_type": "code",
   "execution_count": 1,
   "metadata": {},
   "outputs": [],
   "source": [
    "# import Expression classes needed to build the expression\n",
    "from proveit import ExprTuple\n",
    "from proveit._common_ import A, B, C, D\n",
    "from proveit.logic import Or"
   ]
  },
  {
   "cell_type": "code",
   "execution_count": 2,
   "metadata": {},
   "outputs": [
    {
     "data": {
      "text/html": [
       "<strong id=\"expr\">expr:</strong> <a class=\"ProveItLink\" href=\"expr.ipynb\"><img src=\"data:image/png;base64,iVBORw0KGgoAAAANSUhEUgAAAMcAAAAVBAMAAAAA3efRAAAAMFBMVEX////c3NwiIiJERESqqqqY\n",
       "mJh2dnZmZmYQEBDu7u4yMjJUVFTMzMyIiIi6uroAAAAs73DqAAAAAXRSTlMAQObYZgAAAsxJREFU\n",
       "SMe9VU1oE1EQnvxskk12k4AFQQ/1Ilg82ItYfyB78yJ0UfAimtw8CesPemyh9tAe7OJJBGVVStGD\n",
       "FjwI3WqCuQg9pDcvhgQvoqfWWqWJps682X2bVxE8NAbydufb+Xnzzbx5AP/ll18drP9LtKzw+9sQ\n",
       "1Kpd/+XzSMk4sMPqwrbvn2jvAB+cvGXvVRAT/SydAkjXUHjK2Av5NTMKMBE5ya7RKmSDkSm07KlY\n",
       "ahrg07SKFTyAcQsAHyazpR1xQ68NRBqLMsjZLVqXaWlyar/w31Uw/TFap9ZVvUYFN4PG53Hf7Hxo\n",
       "ohh6beFbuRJKsdNkC3VaRpgHBLTvCpadoeJOqnqtNm/oHsAX9rXakgSN4f+QzMs0e8INRk46Akmg\n",
       "s/iMgk1YtB1H1SsRhhknLLjJLeaO26FbxPcdl2x9Tm7SgwyznGxhEWJP3H4s1hGc1VS9DWBaUw7M\n",
       "C+ChqART3m2+Pyhj6G3KmCmoBzV73bxmK1h6M2oqqSfsiNakB3eAm2fYCflByu/Kuuch9gOCYr6R\n",
       "NdMPK1h8PQoi9cyfuOR6olaCccP3q6OBFlFuyq2t+P6GeImD7kU1a9n9WEF0ua7qJQjMoDNjjYPk\n",
       "UQxcEOXcPEGKMCte0lbKljULui/EMiLIGVWvQLsu2yLIbQKwOeKT4TFBPPctEJLUadzKXjyoGWVZ\n",
       "tfqxnDhKjqonijzFrX2UPlh8sN3wmAx7gTAUzYLli1HNuJ0kJmqcclW9FjZbgsaJ5sFlfNwnCrdA\n",
       "/xpQbsy6LAh6S2xdH4lq9i6YRSFWtiB/FVQMj4mxIEaOAx8B9sw9Aq3UcfQ5TOI6jr9nyBgJsbFO\n",
       "Ec5tL/AMYzrSJZx78+FcC1rSWHp1AxRMJz/HagJoQ6bYN/WL8BeBHLl/jvF/wnCsaJVI1Pq/abt1\n",
       "oVyJRv3Agoi67o9k5Y7crQszJ6bbgK/fDwC/Aeb11si4Yj/YAAAAAElFTkSuQmCC\n",
       "\" style=\"display:inline;vertical-align:middle;\" /></a><br>"
      ],
      "text/plain": [
       "expr: (A , B , A or B or C or D)"
      ]
     },
     "execution_count": 2,
     "metadata": {},
     "output_type": "execute_result"
    }
   ],
   "source": [
    "# build up the expression from sub-expressions\n",
    "expr = ExprTuple(A, B, Or(A, B, C, D))"
   ]
  },
  {
   "cell_type": "code",
   "execution_count": 3,
   "metadata": {},
   "outputs": [
    {
     "name": "stdout",
     "output_type": "stream",
     "text": [
      "Passed sanity check: built 'expr' is the same as the stored Expression.\n"
     ]
    }
   ],
   "source": [
    "# check that the built expression is the same as the stored expression\n",
    "%check_expr"
   ]
  },
  {
   "cell_type": "code",
   "execution_count": 4,
   "metadata": {},
   "outputs": [
    {
     "data": {
      "text/html": [
       "<table><tr><th>&nbsp;</th><th>core type</th><th>sub-expressions</th><th>expression</th></tr>\n",
       "<tr><td>0</td><td>ExprTuple</td><td>4, 5, 1</td><td><a class=\"ProveItLink\" href=\"expr.ipynb\"><img src=\"data:image/png;base64,iVBORw0KGgoAAAANSUhEUgAAAMcAAAAVBAMAAAAA3efRAAAAMFBMVEX////c3NwiIiJERESqqqqY\n",
       "mJh2dnZmZmYQEBDu7u4yMjJUVFTMzMyIiIi6uroAAAAs73DqAAAAAXRSTlMAQObYZgAAAsxJREFU\n",
       "SMe9VU1oE1EQnvxskk12k4AFQQ/1Ilg82ItYfyB78yJ0UfAimtw8CesPemyh9tAe7OJJBGVVStGD\n",
       "FjwI3WqCuQg9pDcvhgQvoqfWWqWJps682X2bVxE8NAbydufb+Xnzzbx5AP/ll18drP9LtKzw+9sQ\n",
       "1Kpd/+XzSMk4sMPqwrbvn2jvAB+cvGXvVRAT/SydAkjXUHjK2Av5NTMKMBE5ya7RKmSDkSm07KlY\n",
       "ahrg07SKFTyAcQsAHyazpR1xQ68NRBqLMsjZLVqXaWlyar/w31Uw/TFap9ZVvUYFN4PG53Hf7Hxo\n",
       "ohh6beFbuRJKsdNkC3VaRpgHBLTvCpadoeJOqnqtNm/oHsAX9rXakgSN4f+QzMs0e8INRk46Akmg\n",
       "s/iMgk1YtB1H1SsRhhknLLjJLeaO26FbxPcdl2x9Tm7SgwyznGxhEWJP3H4s1hGc1VS9DWBaUw7M\n",
       "C+ChqART3m2+Pyhj6G3KmCmoBzV73bxmK1h6M2oqqSfsiNakB3eAm2fYCflByu/Kuuch9gOCYr6R\n",
       "NdMPK1h8PQoi9cyfuOR6olaCccP3q6OBFlFuyq2t+P6GeImD7kU1a9n9WEF0ua7qJQjMoDNjjYPk\n",
       "UQxcEOXcPEGKMCte0lbKljULui/EMiLIGVWvQLsu2yLIbQKwOeKT4TFBPPctEJLUadzKXjyoGWVZ\n",
       "tfqxnDhKjqonijzFrX2UPlh8sN3wmAx7gTAUzYLli1HNuJ0kJmqcclW9FjZbgsaJ5sFlfNwnCrdA\n",
       "/xpQbsy6LAh6S2xdH4lq9i6YRSFWtiB/FVQMj4mxIEaOAx8B9sw9Aq3UcfQ5TOI6jr9nyBgJsbFO\n",
       "Ec5tL/AMYzrSJZx78+FcC1rSWHp1AxRMJz/HagJoQ6bYN/WL8BeBHLl/jvF/wnCsaJVI1Pq/abt1\n",
       "oVyJRv3Agoi67o9k5Y7crQszJ6bbgK/fDwC/Aeb11si4Yj/YAAAAAElFTkSuQmCC\n",
       "\" style=\"display:inline;vertical-align:middle;\" /></a></td></tr>\n",
       "<tr><td>1</td><td>Operation</td><td>operator:&nbsp;2<br>operands:&nbsp;3<br></td><td><a class=\"ProveItLink\" href=\"../342f44533fb807d4878ee35ed73a6dd435e8ed210/expr.ipynb\"><img src=\"data:image/png;base64,iVBORw0KGgoAAAANSUhEUgAAAIcAAAAPBAMAAAA8KsGMAAAAMFBMVEX///92dnYQEBBERERUVFS6\n",
       "urqIiIhmZmaqqqrc3Nzu7u6YmJgyMjIiIiLMzMwAAACFkkdwAAAAAXRSTlMAQObYZgAAAehJREFU\n",
       "OMuNUz0sQ1EUPm2fVv9e7RYxIiFiEtImnlhEu1k7SI1tYsCi3WxIDAySvgULSSerJiLShBBjDSQ2\n",
       "P2kbJVUNzs9V95nc5J5373e/d853zj0XgMYzOEcwXrcmTv+AeyOLhS0nNPdlWSd3anNJpoOXArmH\n",
       "ALIJB+bqB5jFCQnamfJjC6CzoQLf2mgN4nqTjFTwU4npWOACOa53XM0QIcU0s4Yma/N6O7tBCEaH\n",
       "sCBpBI67dCzUR2J70NwTocw076sKiCOZZoklnKuibRjnta1j2Rwaf4bcYYDODNM8VTT5GBfDXi+A\n",
       "IpfESR1gZ1TH/C3aBSg7ckCOcERIaIWd7CpFKJvlYxb11PwN6Jjv4/dOyiollQmlTeXOszosoJGQ\n",
       "XLGAhzEdC7//OsGiTsoqTcridG5aVlwEXMGBHHqwgN4PHYtUOR1RB4Gi8KJkelV/uAVcgm45jKCK\n",
       "YE3H3OxkjSFfzlUQ3gv1BwfDsod7GNvBuJIrkoyGjhlNsnIn/mJYaOab6kvwo5MQxwHjMQntNskX\n",
       "dYz5LmkimDmSr/cTzRiBlLKnKZ7H7XabmAO2AzvOQceyqux9Gdpt8kTqNgdLEIy2ROiZHC7guzpX\n",
       "af9g5vTU0s/1hIS9H8VnugJ/xwPAfzDTdu6/AcG6i5kiy891AAAAAElFTkSuQmCC\n",
       "\" style=\"display:inline;vertical-align:middle;\" /></a></td></tr>\n",
       "<tr><td>2</td><td>Literal</td><td></td><td><a class=\"ProveItLink\" href=\"../087d0b4ded7c7e5bf3bba05ecb616d7a8051ff650/expr.ipynb\"><img src=\"data:image/png;base64,iVBORw0KGgoAAAANSUhEUgAAAAwAAAAOBAMAAADpk+DfAAAALVBMVEX///+YmJh2dnZmZmaqqqrc\n",
       "3NwyMjLu7u4iIiJERESIiIhUVFTMzMy6uroAAAD0I/TTAAAAAXRSTlMAQObYZgAAAEtJREFUCNdj\n",
       "uMAABDwMe0DUKoaTIKqdgS2AgYHFAITAzHYGsMQqBoa9QIqDgT0BSDE7MAkAKdYEDpAehj1SYOpk\n",
       "O5hiMwBTPAUMDAB33Atnw8aG2QAAAABJRU5ErkJggg==\n",
       "\" style=\"display:inline;vertical-align:middle;\" /></a></td></tr>\n",
       "<tr><td>3</td><td>ExprTuple</td><td>4, 5, 6, 7</td><td><a class=\"ProveItLink\" href=\"../8dc7b16fdb66b67ef402636d7d0da333f49c83890/expr.ipynb\"><img src=\"data:image/png;base64,iVBORw0KGgoAAAANSUhEUgAAAGkAAAAVBAMAAAC3TN2zAAAAMFBMVEX////c3NwiIiJERESqqqqY\n",
       "mJh2dnZmZmYQEBDu7u4yMjJUVFTMzMyIiIi6uroAAAAs73DqAAAAAXRSTlMAQObYZgAAAfBJREFU\n",
       "OMudVDFLW1EU/tJ4G595eQYUBB2cCu2kS6mCYP6Bb3LUbOogBkpbtwTaqUMTOomU8hxEW0EFB8E3\n",
       "JLhmMODgohhcWjpFawuaVnvOPfc2r0OgeuGe953z3XPv98657wH3G17tjglTbKqC921QlZvhzqb1\n",
       "nMPdF7Gchiki9saARIWcT0Jv/d2rcxjI140z68Nb9AV3B8BEBqBHSgSqoZLNOqDIwbbg5SdkFtKG\n",
       "yNJBV8Ak7Syre/Npm3VKaDoreJ3Zr5YgAe5vYAn4JpHaqdWEEZqPZa/EJds+Q4zTjDWBeAYvpZCl\n",
       "Cd9mUbx/VOBgwPaDIb7TdIl9mMOqDnzUb6OH2zw5emRw3o9UnMVB/QQ6ArzTkToGc4ZMnQPvTTGG\n",
       "0pGs1C8yyRsSVsCN3iYMy8OGjBdowQ/Bt9qa6sYb3BZi3YZkeeQGJqt7W3TwKLLpqBiC9532ddYb\n",
       "DlDrHhRsuyievBRc5mMSkT7iNbTCp1xOyupqGCncLq5dyS6cswSdGeebpALM8A1g1VdwLky73Lcl\n",
       "cRSd+SVtCGqXu8aAKn8G9BRXoMavc06Rjnl+G4afSaR2UN14lRHsMPFMv2JXHZ2R4nrRQnvtCL5R\n",
       "KttyVZRTbTAw3/pS/j/L4R4NtPx/vupaG4wky43d9Q9wDPwB+mqFhV2344EAAAAASUVORK5CYII=\n",
       "\" style=\"display:inline;vertical-align:middle;\" /></a></td></tr>\n",
       "<tr><td>4</td><td>Variable</td><td></td><td><a class=\"ProveItLink\" href=\"../../../../../__pv_it/2cbe72a7ad6f655694dd697106680215e8489b600/expr.ipynb\"><img src=\"data:image/png;base64,iVBORw0KGgoAAAANSUhEUgAAAA8AAAAOBAMAAAACpFvcAAAALVBMVEX///8QEBBERERUVFS6urqI\n",
       "iIhmZmaqqqrc3Nzu7u6YmJgyMjIiIiLMzMwAAADtIaYWAAAAAXRSTlMAQObYZgAAAFtJREFUCNdj\n",
       "YACBOwxQsA9Kc52bAGG05zVAGAFxDmCaZULdAjBjCsO9ADDDgaEvAUTzGhvbKYCVMDAwbgAxChgY\n",
       "eASANAeQwf0AyJgNxEwvGRia5HYwcOm9TgAA6BoR3jrzwFcAAAAASUVORK5CYII=\n",
       "\" style=\"display:inline;vertical-align:middle;\" /></a></td></tr>\n",
       "<tr><td>5</td><td>Variable</td><td></td><td><a class=\"ProveItLink\" href=\"../../../../../__pv_it/077b2ff79244fb4582cbe22c6e3356fa92a52f2f0/expr.ipynb\"><img src=\"data:image/png;base64,iVBORw0KGgoAAAANSUhEUgAAABAAAAAOBAMAAADUAYG5AAAAMFBMVEX///+qqqru7u4iIiJ2dnbc\n",
       "3NyIiIjMzMxmZmYQEBC6uroyMjJERERUVFSYmJgAAADLUcuvAAAAAXRSTlMAQObYZgAAAGpJREFU\n",
       "CNdjYGB4+//u3dMLGIBgDgMDxy8gzf4NiP8CGWxfGRj4vgAZPBMYGJgnARn8FxhY9ygAGfXX0pof\n",
       "gDTlBzAw2YIYJ0EckBBI53sHoBH/gIz7AhBjWH9DjancBLTl/N+7t/cxMAAA3u4f/5xagjYAAAAA\n",
       "SUVORK5CYII=\n",
       "\" style=\"display:inline;vertical-align:middle;\" /></a></td></tr>\n",
       "<tr><td>6</td><td>Variable</td><td></td><td><a class=\"ProveItLink\" href=\"../../../../../__pv_it/985a1bdf1540838275dec15f4ad6de261cca93ce0/expr.ipynb\"><img src=\"data:image/png;base64,iVBORw0KGgoAAAANSUhEUgAAAA8AAAAOBAMAAAACpFvcAAAAMFBMVEX////MzMyqqqoiIiIyMjK6\n",
       "uroQEBB2dnbc3NyYmJhmZmZUVFRERESIiIju7u4AAAB204erAAAAAXRSTlMAQObYZgAAAGZJREFU\n",
       "CNdjYGDgu7NrJccCBgaGsgkMrMsmMDA8sQNy6hsYGNweABlhDAxcn4A0QxcDQ78DiPGQgWH9BAYI\n",
       "sG+AMv6DSaCGfBDNJMDAsB+kmwuI5S8AiTog5gSaEwXWIO29SgFIAQBC+RaDQlidVgAAAABJRU5E\n",
       "rkJggg==\n",
       "\" style=\"display:inline;vertical-align:middle;\" /></a></td></tr>\n",
       "<tr><td>7</td><td>Variable</td><td></td><td><a class=\"ProveItLink\" href=\"../../../../../__pv_it/185e6d30f167ee2ee5ef3321098dc98e0d77bc590/expr.ipynb\"><img src=\"data:image/png;base64,iVBORw0KGgoAAAANSUhEUgAAABEAAAAOBAMAAAA7w+qHAAAALVBMVEX///8QEBCYmJjc3Ny6urru\n",
       "7u5mZmZ2dnaqqqrMzMxEREQyMjJUVFSIiIgAAABETr/8AAAAAXRSTlMAQObYZgAAAGpJREFUCNdj\n",
       "YGC48+7MmV0TGEDgNQMDxwsQg/M5kMgLABK8T4DEvAtAgusBkLA7ACT4FoDEDsAk9AqAxD2QCecc\n",
       "gMQ6kAGCIOIVEDM9Ahn3FkgwgnTxvgQSqwOgxs1OADLC1r05cyoTyAAAv4Qe+njAWvgAAAAASUVO\n",
       "RK5CYII=\n",
       "\" style=\"display:inline;vertical-align:middle;\" /></a></td></tr>\n",
       "</table>\n"
      ],
      "text/plain": [
       "0. (A , B , A or B or C or D)\n",
       "   core type: ExprTuple\n",
       "   sub-expressions: 4, 5, 1\n",
       "1. A or B or C or D\n",
       "   core type: Operation\n",
       "   operator: 2\n",
       "   operands: 3\n",
       "2. or\n",
       "   core type: Literal\n",
       "   sub-expressions: \n",
       "3. (A , B , C , D)\n",
       "   core type: ExprTuple\n",
       "   sub-expressions: 4, 5, 6, 7\n",
       "4. A\n",
       "   core type: Variable\n",
       "   sub-expressions: \n",
       "5. B\n",
       "   core type: Variable\n",
       "   sub-expressions: \n",
       "6. C\n",
       "   core type: Variable\n",
       "   sub-expressions: \n",
       "7. D\n",
       "   core type: Variable\n",
       "   sub-expressions: "
      ]
     },
     "execution_count": 4,
     "metadata": {},
     "output_type": "execute_result"
    }
   ],
   "source": [
    "# display the expression information\n",
    "expr.exprInfo()"
   ]
  },
  {
   "cell_type": "code",
   "execution_count": null,
   "metadata": {},
   "outputs": [],
   "source": []
  }
 ],
 "metadata": {
  "kernelspec": {
   "display_name": "Python 3",
   "language": "python",
   "name": "python3"
  }
 },
 "nbformat": 4,
 "nbformat_minor": 0
}
