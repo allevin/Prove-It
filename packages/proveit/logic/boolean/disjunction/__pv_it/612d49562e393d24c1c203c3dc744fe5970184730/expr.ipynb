{
 "cells": [
  {
   "cell_type": "markdown",
   "metadata": {},
   "source": [
    "Expression of type <a class=\"ProveItLink\" href=\"../../../../../../../doc/html/api/proveit.logic.Set.html\">Set</a>\n",
    "=======================\n",
    "# from context <a class=\"ProveItLink\" href=\"../../_context_.ipynb\">proveit.logic.boolean.disjunction</a>"
   ]
  },
  {
   "cell_type": "code",
   "execution_count": 1,
   "metadata": {},
   "outputs": [],
   "source": [
    "# import Expression classes needed to build the expression\n",
    "from proveit._common_ import A, B, C\n",
    "from proveit.logic import Not, Or, Set"
   ]
  },
  {
   "cell_type": "code",
   "execution_count": 2,
   "metadata": {},
   "outputs": [
    {
     "data": {
      "text/html": [
       "<strong id=\"expr\">expr:</strong> <a class=\"ProveItLink\" href=\"expr.ipynb\"><img src=\"data:image/png;base64,iVBORw0KGgoAAAANSUhEUgAAAOUAAAAVBAMAAABLdTQ8AAAAMFBMVEX///9ERETc3NyqqqpUVFS6\n",
       "urrMzMwyMjIQEBCIiIh2dnYiIiLu7u5mZmaYmJgAAABJJ2g3AAAAAXRSTlMAQObYZgAAArZJREFU\n",
       "SMe9lj1s00AUxx9O7dSO7TIgtVuCOlfNxIboYFoxVKmYOlApkTpUYmhADEh8BSFgqUgYO7USS4WQ\n",
       "YGDgI1KzQGEiggEk1MZILIghEIoioDTcu7Pvqx7Ckif57P7uPf/P7727FAD8HRiYWfdzeHOfwQDN\n",
       "uoGj/S3665E2/bkXBKNzKnPvzu4YTf1FZ/uIhNdHtsMJgPf47FQYS1Nt6mkxch3A+6myjRDMD6Gu\n",
       "eU0HcaRkzh2ABXJtyJpf93CcxmGVffgvcu0qbKtOhoc5TcHfbGgJjCOlBF0iPk5H1TSOd/BWwqFO\n",
       "iU2A/1thF/Hl8/pXjbe0VfBIYekVMpgVVdO2aTLSJDzFCnaITGRWZOb9QD6ha9bWtNrxSGGtPH5X\n",
       "U9U8k9rHG747zZY9MgXGuYbMJsvIX2qSZuOEVmEeyc3o0gQXI02PvsidwyKwHJaY3/Kp1Y+hwlph\n",
       "Uvu/gOWaSkRkbN5+/NTGYYkmxgTjL0S9cpLNruXAfaywTalu3nO0ddrWk00ViciYZTq8sMR38RZ9\n",
       "XAyC7/QhA26ZzY6hbiizHuVS0qwpcgVB4bCKRGTMRuhGdHEYJRPzxWhf3mYLyzuRNzZ7e11mVVrx\n",
       "oipgAgyXVSQiYzZMNY/h+pEPYUCKXE9YtcuZyBFLUMjLrICf6IEqQDwyFQVJkTEbopu/GdfTwTNv\n",
       "XJwm01/EJmPtxhntlQdRjiIBI8+OsIZAcaTkRhvUQR++V2i5siysVBebbOkyyMwn+3OB9NEbfjQX\n",
       "YQtd98D9I1AcKbu182C+BUnTGOvm4FPvCm8sTGF2N5i5KjUb7bQL25iyV7wL4Wj1PPjZbtOt8p7m\n",
       "kZIbWDOz70DWVA/LRsIvkMZOH3QxcwdZgluyZj+WcDb4/bkxTX+wmvT3033635J2Aqv152bdZCu8\n",
       "N+D/h/4BuE7c0J1KkqYAAAAASUVORK5CYII=\n",
       "\" style=\"display:inline;vertical-align:middle;\" /></a><br>"
      ],
      "text/plain": [
       "expr: {A or B or C , [not](A) , [not](B) , [not](C)}"
      ]
     },
     "execution_count": 2,
     "metadata": {},
     "output_type": "execute_result"
    }
   ],
   "source": [
    "# build up the expression from sub-expressions\n",
    "expr = Set(Or(A, B, C), Not(A), Not(B), Not(C))"
   ]
  },
  {
   "cell_type": "code",
   "execution_count": 3,
   "metadata": {},
   "outputs": [
    {
     "name": "stdout",
     "output_type": "stream",
     "text": [
      "Passed sanity check: built 'expr' is the same as the stored Expression.\n"
     ]
    }
   ],
   "source": [
    "# check that the built expression is the same as the stored expression\n",
    "%check_expr"
   ]
  },
  {
   "cell_type": "code",
   "execution_count": 4,
   "metadata": {},
   "outputs": [
    {
     "data": {
      "text/html": [
       "<table><tr><th>&nbsp;</th><th>core type</th><th>sub-expressions</th><th>expression</th></tr>\n",
       "<tr><td>0</td><td>Operation</td><td>operator:&nbsp;1<br>operands:&nbsp;2<br></td><td><a class=\"ProveItLink\" href=\"expr.ipynb\"><img src=\"data:image/png;base64,iVBORw0KGgoAAAANSUhEUgAAAOUAAAAVBAMAAABLdTQ8AAAAMFBMVEX///9ERETc3NyqqqpUVFS6\n",
       "urrMzMwyMjIQEBCIiIh2dnYiIiLu7u5mZmaYmJgAAABJJ2g3AAAAAXRSTlMAQObYZgAAArZJREFU\n",
       "SMe9lj1s00AUxx9O7dSO7TIgtVuCOlfNxIboYFoxVKmYOlApkTpUYmhADEh8BSFgqUgYO7USS4WQ\n",
       "YGDgI1KzQGEiggEk1MZILIghEIoioDTcu7Pvqx7Ckif57P7uPf/P7727FAD8HRiYWfdzeHOfwQDN\n",
       "uoGj/S3665E2/bkXBKNzKnPvzu4YTf1FZ/uIhNdHtsMJgPf47FQYS1Nt6mkxch3A+6myjRDMD6Gu\n",
       "eU0HcaRkzh2ABXJtyJpf93CcxmGVffgvcu0qbKtOhoc5TcHfbGgJjCOlBF0iPk5H1TSOd/BWwqFO\n",
       "iU2A/1thF/Hl8/pXjbe0VfBIYekVMpgVVdO2aTLSJDzFCnaITGRWZOb9QD6ha9bWtNrxSGGtPH5X\n",
       "U9U8k9rHG747zZY9MgXGuYbMJsvIX2qSZuOEVmEeyc3o0gQXI02PvsidwyKwHJaY3/Kp1Y+hwlph\n",
       "Uvu/gOWaSkRkbN5+/NTGYYkmxgTjL0S9cpLNruXAfaywTalu3nO0ddrWk00ViciYZTq8sMR38RZ9\n",
       "XAyC7/QhA26ZzY6hbiizHuVS0qwpcgVB4bCKRGTMRuhGdHEYJRPzxWhf3mYLyzuRNzZ7e11mVVrx\n",
       "oipgAgyXVSQiYzZMNY/h+pEPYUCKXE9YtcuZyBFLUMjLrICf6IEqQDwyFQVJkTEbopu/GdfTwTNv\n",
       "XJwm01/EJmPtxhntlQdRjiIBI8+OsIZAcaTkRhvUQR++V2i5siysVBebbOkyyMwn+3OB9NEbfjQX\n",
       "YQtd98D9I1AcKbu182C+BUnTGOvm4FPvCm8sTGF2N5i5KjUb7bQL25iyV7wL4Wj1PPjZbtOt8p7m\n",
       "kZIbWDOz70DWVA/LRsIvkMZOH3QxcwdZgluyZj+WcDb4/bkxTX+wmvT3033635J2Aqv152bdZCu8\n",
       "N+D/h/4BuE7c0J1KkqYAAAAASUVORK5CYII=\n",
       "\" style=\"display:inline;vertical-align:middle;\" /></a></td></tr>\n",
       "<tr><td>1</td><td>Literal</td><td></td><td><a class=\"ProveItLink\" href=\"../../../../set_theory/enumeration/__pv_it/07381ed5b23806e8d7914b78cb6667769e3708dd0/expr.ipynb\"><img src=\"data:image/png;base64,iVBORw0KGgoAAAANSUhEUgAAAB4AAAAOBAMAAADKyLEKAAAAMFBMVEX///8iIiIQEBCIiIjMzMzc\n",
       "3Nyqqqp2dnZEREQyMjK6urru7u5mZmZUVFSYmJgAAACI6eGPAAAAAXRSTlMAQObYZgAAALRJREFU\n",
       "CNdjYGDgu3Nm3wIGBJjHwN0PZW5yYGDgLWBgyITy8zcwMMQDxZyh/INAvD6BgcEFypcB4vjPDiBm\n",
       "TPFRrhs/LjMwMP//38rAwCbKEMPA9gEkE3fp0waG+AUMRxh4JkC01T9guPTOOICBEWgVH5C//wHD\n",
       "H5D4fqCz9oCMDGD4DLaegRXslLMMDMpAgxlOMmQxHDRgYG5gYLBk4D7KcIe7gOHC2rt9QCXsh40Z\n",
       "GCKMGQDRkC8N/Ph1XAAAAABJRU5ErkJggg==\n",
       "\" style=\"display:inline;vertical-align:middle;\" /></a></td></tr>\n",
       "<tr><td>2</td><td>ExprTuple</td><td>3, 4, 5, 6</td><td><a class=\"ProveItLink\" href=\"../1be0c05c36e6a358e6737ee7ff47ccc0381a7fa40/expr.ipynb\"><img src=\"data:image/png;base64,iVBORw0KGgoAAAANSUhEUgAAAN8AAAAVBAMAAAA0pCbNAAAAMFBMVEX////c3NwiIiJERESqqqqY\n",
       "mJh2dnZmZmYQEBDu7u4yMjJUVFTMzMyIiIi6uroAAAAs73DqAAAAAXRSTlMAQObYZgAAAsxJREFU\n",
       "SMe9lk1oE0EUx1/SbJLt7qYLFoR6aBAUPVUEoeKhufUiuCh4tL2IehCjVustPdiDPZjFUyl+JILU\n",
       "D9CCh4J7SBA8SA8JePCiNHqpeqraKCbY+OZNZjI75pBeMrCT4bfvY+bNf2YD0PeWqvYv1xnWrfHx\n",
       "a+2dUWoGL59r8N6xWW+3HsVO9+Bpvlu9Fskmyjh8wskLWi0Ny9QnDwHkaiEWnwfYmNcTDm5qQHiq\n",
       "7bwHqRseFAAcXlFjzMfeYnHbpII/lRWVmQ/RJv5dT3jyjwaEp9KWDmJ3yYXTOB2fyHDOZdXBuUGU\n",
       "k3UEU9MqG7zFijCnhY9M6lMQnkp7zPy/ACwCfOOkuk41KOIzyck4Pgd8leUyLH5WC+842xqRnrIl\n",
       "tliPuz+Qgetcqv4JD9qBi9yoCTByVGWRBu1+WQv/NVbXiPSUbbTA+ru4IVl4ROQ+FZ5KRyXESjY/\n",
       "vt8HKkvUuyndrNl/NdVKT9lyXnsQK8BtGtRglEqF4rC4vhzcmTsrKouqe3VlL7b9JOzI7zDqeEo2\n",
       "5opDPwe0AXYQlPjC0rDEXw2gOJy6yoZI/qaSlR3htSD4GUaKp2At+sVttTd5QjxrSSozzMBZbjWE\n",
       "czR+qSxJCY9rCXHtC2GkeAqWp3KWKeFNNkb5RbncR6B9b1Sw7NaWyiw6b9lw9BhTZBgpnoKVmGYT\n",
       "vKRHmP4y8r6w3lQ7h4mLSzASR9yn0sjow/ySMhUkPBUzUuQFdr8U4By7B9ie8fvCPuzLw2Qv+CE2\n",
       "lYHUZQz+Q+oRTDalCR8epCUSnqqZgQveYMLBY/EZYFe+CMZEgxdrmRtdbQXBUyHmNrNfrc4w2eRd\n",
       "ecuMN1w41VqGxY6Chadihot8Npuhe7cGSTd8ZN52OWsaS7n/m3zq8t3rYoZXmzG946+a0YV5vZld\n",
       "7Hye+pKQtnzPjhN2+Yvg9GZmsSpH+vgX4wPAPxsj11iRRgwpAAAAAElFTkSuQmCC\n",
       "\" style=\"display:inline;vertical-align:middle;\" /></a></td></tr>\n",
       "<tr><td>3</td><td>Operation</td><td>operator:&nbsp;7<br>operands:&nbsp;8<br></td><td><a class=\"ProveItLink\" href=\"../ebd450f61d15b527672f06ab720798644884e75c0/expr.ipynb\"><img src=\"data:image/png;base64,iVBORw0KGgoAAAANSUhEUgAAAF8AAAAPBAMAAABw7A4xAAAAMFBMVEX///92dnYQEBBERERUVFS6\n",
       "urqIiIhmZmaqqqrc3Nzu7u6YmJgyMjIiIiLMzMwAAACFkkdwAAAAAXRSTlMAQObYZgAAAWBJREFU\n",
       "KM9jYACBtwyogNv/i4vzUTRBrmT3as4CCPs8iGAFMx+ASSYDBob6AFQxoQ0MrEUbIAbeXwAkWUDi\n",
       "bAlgkfdA6r0DitiaW0BCfgJYekY9iOYDmsrAuwAskg8U2C+AInYIRAZBXJSQHwCiTgJxO0TECIgv\n",
       "LUAWY/8BIqeDZVkX9IOd1g5VAARfGBjmWKGIzT8AIteBZZeCnQy2GuwEoEu+pKXfZkARq9+ACK8A\n",
       "hvng0AJ6jgXsNga2nwwMax1QxO5PgKvnc3Hxhxh8gWENRIhZAaj0N4rYfzC5ABr+TGAHMlQwSEM0\n",
       "8ANN5/6IIqYPIjjAMdIAdKkCWHAO0DxINAAdzPIDRcwfZDg7iMUJ1MDzASzI8hoSbeBogAQLXAwc\n",
       "LlLgGAS5+RfEN7YL4NHAp7MARYwbaGE4yOOT9U8ycNv/gSSq4xD1xf9dXM7AghEqxvDkSHkDAzp4\n",
       "xcBASAwANRtk9OKCOBQAAAAASUVORK5CYII=\n",
       "\" style=\"display:inline;vertical-align:middle;\" /></a></td></tr>\n",
       "<tr><td>4</td><td>Operation</td><td>operator:&nbsp;9<br>operand:&nbsp;10<br></td><td><a class=\"ProveItLink\" href=\"../feaa1d0e6d92ad9ead8e5ffd1f92697e3912387a0/expr.ipynb\"><img src=\"data:image/png;base64,iVBORw0KGgoAAAANSUhEUgAAABwAAAAOBAMAAADOPWE3AAAAMFBMVEX///8QEBBERES6urqIiIiq\n",
       "qqrc3Nzu7u6YmJgyMjJUVFTMzMx2dnYiIiJmZmYAAADMbjvTAAAAAXRSTlMAQObYZgAAAGNJREFU\n",
       "CNdjYEAA7gsMyIDzAwq39zsyjy3uGzKXheUzMtec9QcSj92A+wsDw9u7QHAHyGVmYPsHldkFwqtW\n",
       "fULiGjAwSCK4rEDqIoKbCqTmw1zLwD4BSOkXwFyk+DOBoen/PABSrhtHsYt+gAAAAABJRU5ErkJg\n",
       "gg==\n",
       "\" style=\"display:inline;vertical-align:middle;\" /></a></td></tr>\n",
       "<tr><td>5</td><td>Operation</td><td>operator:&nbsp;9<br>operand:&nbsp;11<br></td><td><a class=\"ProveItLink\" href=\"../1da4e2fe7c44632f084fa27ea32e26dc689384c20/expr.ipynb\"><img src=\"data:image/png;base64,iVBORw0KGgoAAAANSUhEUgAAAB0AAAAOBAMAAAAh/woJAAAAMFBMVEX///+qqqru7u7c3NyIiIgQ\n",
       "EBC6uroyMjJERESYmJhUVFTMzMx2dnYiIiJmZmYAAADtoHoAAAAAAXRSTlMAQObYZgAAAHpJREFU\n",
       "CNdjYIACzvW/Vq0oY0AA1gYGhvcJCP5+ByBegOD7GzAwzD+A4LcC8VUFBP8XA4N5E4LL/cvF7yaQ\n",
       "fnsXCO4wMLB8ZmDQhRm3i4GBIwAo9hPB5wfKcf5B8PdPYGDg+ojgg6y3L4AZDraeOxxh/Yv/q1aV\n",
       "A7UAAFRxJOZ+1MVPAAAAAElFTkSuQmCC\n",
       "\" style=\"display:inline;vertical-align:middle;\" /></a></td></tr>\n",
       "<tr><td>6</td><td>Operation</td><td>operator:&nbsp;9<br>operand:&nbsp;12<br></td><td><a class=\"ProveItLink\" href=\"../4fbdcb4671f0f96544ca64362db2c9fec03a54b30/expr.ipynb\"><img src=\"data:image/png;base64,iVBORw0KGgoAAAANSUhEUgAAAB0AAAAOBAMAAAAh/woJAAAAMFBMVEX///+qqqoyMjK6uroQEBDc\n",
       "3NyYmJhERESIiIju7u5UVFTMzMx2dnYiIiJmZmYAAABcp3IwAAAAAXRSTlMAQObYZgAAAG9JREFU\n",
       "CNdjYIABzvZ1z1gfwLkMRxIYmJ8kwLmTbgKJ8wFwvsoEIGEC5/J9BJFxcH68AoicDee/h5n09i4Q\n",
       "3GG4jzAJCHYx/AfTE+B8fxDFuAHOXw+S4kOo398ApE7C+NwMbED77ZDN3KX1TgBIAQC0Ih9XIAXH\n",
       "nQAAAABJRU5ErkJggg==\n",
       "\" style=\"display:inline;vertical-align:middle;\" /></a></td></tr>\n",
       "<tr><td>7</td><td>Literal</td><td></td><td><a class=\"ProveItLink\" href=\"../087d0b4ded7c7e5bf3bba05ecb616d7a8051ff650/expr.ipynb\"><img src=\"data:image/png;base64,iVBORw0KGgoAAAANSUhEUgAAAAwAAAAOBAMAAADpk+DfAAAALVBMVEX///+YmJh2dnZmZmaqqqrc\n",
       "3NwyMjLu7u4iIiJERESIiIhUVFTMzMy6uroAAAD0I/TTAAAAAXRSTlMAQObYZgAAAEtJREFUCNdj\n",
       "uMAABDwMe0DUKoaTIKqdgS2AgYHFAITAzHYGsMQqBoa9QIqDgT0BSDE7MAkAKdYEDpAehj1SYOpk\n",
       "O5hiMwBTPAUMDAB33Atnw8aG2QAAAABJRU5ErkJggg==\n",
       "\" style=\"display:inline;vertical-align:middle;\" /></a></td></tr>\n",
       "<tr><td>8</td><td>ExprTuple</td><td>10, 11, 12</td><td><a class=\"ProveItLink\" href=\"../3f290ae5514e8ababf154639022a3e6aa30f85750/expr.ipynb\"><img src=\"data:image/png;base64,iVBORw0KGgoAAAANSUhEUgAAAE8AAAAVBAMAAAD1D64kAAAAMFBMVEX////c3NwiIiJERESqqqqY\n",
       "mJh2dnZmZmYQEBDu7u4yMjJUVFTMzMyIiIi6uroAAAAs73DqAAAAAXRSTlMAQObYZgAAAZVJREFU\n",
       "KM+NUztLA0EQ/mI8k8vjDCgIWqQStEoaQSvzD0xlqenUQjwQH11SWFmYw0pE5CwEH6CChcUVCbYp\n",
       "ErCwURJsFKsoUdCAcXbn1iSFmoWb+765b3Yeuwd0vIzS/5oZYQqMr5VTy9WdyzPF9JurFY/pyxM8\n",
       "Zs/5T7g/DqQrLplPwlhPwgbCnFmLWUpYJE/xgvHuKJmlCKYpngX96YgSlgnNphgfia9PwA7wzJ5S\n",
       "WSXDOD0jHO6rCTsAeBNY5datqaQS1oHBCYZRW9g9oMfEofTsy8rkCtXvb4ddnFbR3Ta2JKggarq+\n",
       "8Auw7fYSU4UbGXzJXRwnF3d93gyJ3xg3pKV6Q1UWGtS97Qp7aTftnXFWps1L4YbACaAro8ZIdQVr\n",
       "jHOieR+nHqOXh4SBqszBYxTdWu7ssSDOw8acmL8o7QP6qzvG0KbFRKOdH0VDNJ4HoC97AG3y09Sz\n",
       "5FtuOM4JZZcEhdO1hIgOVOCPtNy4CH4hdIRaqkm11jvYRhab1+xPoS5mN9TkbXe9lQRFGZ4OfoU7\n",
       "4BvUnmWyIUTp6gAAAABJRU5ErkJggg==\n",
       "\" style=\"display:inline;vertical-align:middle;\" /></a></td></tr>\n",
       "<tr><td>9</td><td>Literal</td><td></td><td><a class=\"ProveItLink\" href=\"../../../negation/__pv_it/7bea79645543c2413aa17e787cca04e21046fde60/expr.ipynb\"><img src=\"data:image/png;base64,iVBORw0KGgoAAAANSUhEUgAAAAwAAAAGBAMAAAAFwGKyAAAAFVBMVEX///9UVFTMzMx2dnYiIiJm\n",
       "ZmYAAACWz4ZEAAAAAXRSTlMAQObYZgAAABRJREFUCNdjCHEBAmcGMFDEQzEBAEl+Ai6uYJv/AAAA\n",
       "AElFTkSuQmCC\n",
       "\" style=\"display:inline;vertical-align:middle;\" /></a></td></tr>\n",
       "<tr><td>10</td><td>Variable</td><td></td><td><a class=\"ProveItLink\" href=\"../../../../../__pv_it/2cbe72a7ad6f655694dd697106680215e8489b600/expr.ipynb\"><img src=\"data:image/png;base64,iVBORw0KGgoAAAANSUhEUgAAAA8AAAAOBAMAAAACpFvcAAAALVBMVEX///8QEBBERERUVFS6urqI\n",
       "iIhmZmaqqqrc3Nzu7u6YmJgyMjIiIiLMzMwAAADtIaYWAAAAAXRSTlMAQObYZgAAAFtJREFUCNdj\n",
       "YACBOwxQsA9Kc52bAGG05zVAGAFxDmCaZULdAjBjCsO9ADDDgaEvAUTzGhvbKYCVMDAwbgAxChgY\n",
       "eASANAeQwf0AyJgNxEwvGRia5HYwcOm9TgAA6BoR3jrzwFcAAAAASUVORK5CYII=\n",
       "\" style=\"display:inline;vertical-align:middle;\" /></a></td></tr>\n",
       "<tr><td>11</td><td>Variable</td><td></td><td><a class=\"ProveItLink\" href=\"../../../../../__pv_it/077b2ff79244fb4582cbe22c6e3356fa92a52f2f0/expr.ipynb\"><img src=\"data:image/png;base64,iVBORw0KGgoAAAANSUhEUgAAABAAAAAOBAMAAADUAYG5AAAAMFBMVEX///+qqqru7u4iIiJ2dnbc\n",
       "3NyIiIjMzMxmZmYQEBC6uroyMjJERERUVFSYmJgAAADLUcuvAAAAAXRSTlMAQObYZgAAAGpJREFU\n",
       "CNdjYGB4+//u3dMLGIBgDgMDxy8gzf4NiP8CGWxfGRj4vgAZPBMYGJgnARn8FxhY9ygAGfXX0pof\n",
       "gDTlBzAw2YIYJ0EckBBI53sHoBH/gIz7AhBjWH9DjancBLTl/N+7t/cxMAAA3u4f/5xagjYAAAAA\n",
       "SUVORK5CYII=\n",
       "\" style=\"display:inline;vertical-align:middle;\" /></a></td></tr>\n",
       "<tr><td>12</td><td>Variable</td><td></td><td><a class=\"ProveItLink\" href=\"../../../../../__pv_it/985a1bdf1540838275dec15f4ad6de261cca93ce0/expr.ipynb\"><img src=\"data:image/png;base64,iVBORw0KGgoAAAANSUhEUgAAAA8AAAAOBAMAAAACpFvcAAAAMFBMVEX////MzMyqqqoiIiIyMjK6\n",
       "uroQEBB2dnbc3NyYmJhmZmZUVFRERESIiIju7u4AAAB204erAAAAAXRSTlMAQObYZgAAAGZJREFU\n",
       "CNdjYGDgu7NrJccCBgaGsgkMrMsmMDA8sQNy6hsYGNweABlhDAxcn4A0QxcDQ78DiPGQgWH9BAYI\n",
       "sG+AMv6DSaCGfBDNJMDAsB+kmwuI5S8AiTog5gSaEwXWIO29SgFIAQBC+RaDQlidVgAAAABJRU5E\n",
       "rkJggg==\n",
       "\" style=\"display:inline;vertical-align:middle;\" /></a></td></tr>\n",
       "</table>\n"
      ],
      "text/plain": [
       "0. {A or B or C , [not](A) , [not](B) , [not](C)}\n",
       "   core type: Operation\n",
       "   operator: 1\n",
       "   operands: 2\n",
       "1. Set\n",
       "   core type: Literal\n",
       "   sub-expressions: \n",
       "2. (A or B or C , [not](A) , [not](B) , [not](C))\n",
       "   core type: ExprTuple\n",
       "   sub-expressions: 3, 4, 5, 6\n",
       "3. A or B or C\n",
       "   core type: Operation\n",
       "   operator: 7\n",
       "   operands: 8\n",
       "4. [not](A)\n",
       "   core type: Operation\n",
       "   operator: 9\n",
       "   operand: 10\n",
       "5. [not](B)\n",
       "   core type: Operation\n",
       "   operator: 9\n",
       "   operand: 11\n",
       "6. [not](C)\n",
       "   core type: Operation\n",
       "   operator: 9\n",
       "   operand: 12\n",
       "7. or\n",
       "   core type: Literal\n",
       "   sub-expressions: \n",
       "8. (A , B , C)\n",
       "   core type: ExprTuple\n",
       "   sub-expressions: 10, 11, 12\n",
       "9. not\n",
       "   core type: Literal\n",
       "   sub-expressions: \n",
       "10. A\n",
       "    core type: Variable\n",
       "    sub-expressions: \n",
       "11. B\n",
       "    core type: Variable\n",
       "    sub-expressions: \n",
       "12. C\n",
       "    core type: Variable\n",
       "    sub-expressions: "
      ]
     },
     "execution_count": 4,
     "metadata": {},
     "output_type": "execute_result"
    }
   ],
   "source": [
    "# display the expression information\n",
    "expr.exprInfo()"
   ]
  },
  {
   "cell_type": "code",
   "execution_count": null,
   "metadata": {},
   "outputs": [],
   "source": []
  }
 ],
 "metadata": {
  "kernelspec": {
   "display_name": "Python 3",
   "language": "python",
   "name": "python3"
  }
 },
 "nbformat": 4,
 "nbformat_minor": 0
}
