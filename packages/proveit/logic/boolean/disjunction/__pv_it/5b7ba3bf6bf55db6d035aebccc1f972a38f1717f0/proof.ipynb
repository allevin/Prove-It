{
 "cells": [
  {
   "cell_type": "markdown",
   "metadata": {},
   "source": [
    "Show the Proof\n",
    "========"
   ]
  },
  {
   "cell_type": "code",
   "execution_count": 1,
   "metadata": {},
   "outputs": [
    {
     "data": {
      "text/html": [
       "<table><tr><th>&nbsp;</th><th>step type</th><th>requirements</th><th>statement</th></tr>\n",
       "<tr><td>0</td><td>assumption</td><td></td><td><span style=\"font-size:20px;\"><a class=\"ProveItLink\" href=\"../eea0c5427bd111caf9a2b5b497ea666f55c86d7d0/expr.ipynb\"><img src=\"data:image/png;base64,iVBORw0KGgoAAAANSUhEUgAAAE0AAAAVBAMAAADx+n4ZAAAAMFBMVEX////c3NxERESqqqpUVFS6\n",
       "urrMzMwyMjIQEBCIiIh2dnYiIiLu7u5mZmaYmJgAAABXZE4RAAAAAXRSTlMAQObYZgAAAUJJREFU\n",
       "KM9jYGDgu8eAF7CtEgBRPLsYCAC2ZhDJ+QFETvmve+DJf10BZPnln+orNhkAGddBPK4GsOB3IP6N\n",
       "ZpBCJE/NKiC9AqGO9SfQ/L8Y6himsqOq4/oGdMFniPTJ6t3bYersWA6gqGMHupLpD8TZdQeQzBNC\n",
       "NY9fAYg3gGWFDiDsZdunA1PHWwAi40tcXPQvgGUVEe6L3v9jApB+D+JkBIDI9QkMDPMNwOGpgOyP\n",
       "mUYgRwENSGkDC9UDsT7YQtbu3bsR/mBiXQBkqD9gYIhIAAl9ggYh0BsOyOYxMQCN5wapZSmABd8v\n",
       "sCTPBgx1YPdxbYAF31eIrB+KOpC9iHBBCj6G0wFI6t5OQg6/s/pfJvD6f1kAlmWsTYCnA+0WA9Rw\n",
       "RgbM7lD/wgAOdRgArI6PsDpw+uPZSTA9t4IpvsVE5A8A0kJgYSQMrk4AAAAASUVORK5CYII=\n",
       "\" style=\"display:inline;vertical-align:middle;\" /></a> <a class=\"ProveItLink\" href=\"proof.ipynb\" style=\"text-decoration: none\">&#x22A2;&nbsp;</a><a class=\"ProveItLink\" href=\"../0cf0d99d817bd5dcca8186785718492af1d3b38f0/expr.ipynb\"><img src=\"data:image/png;base64,iVBORw0KGgoAAAANSUhEUgAAADkAAAAPBAMAAACsFXoGAAAAMFBMVEX///8QEBCqqqp2dnbMzMy6\n",
       "uroiIiIyMjLc3NyYmJju7u5mZmZERERUVFSIiIgAAADpO3mLAAAAAXRSTlMAQObYZgAAAOVJREFU\n",
       "GNNjYGB4+//0grn/TzcwIAHzP/WFOQpg5ncg/saACg7EcVUZgxis/xgYWH5jyDI8ZQcxmL8wMPB9\n",
       "ggiuK0tLh8lq8i4AMtg/MDDw/AKLsVQuQNLbA2LwHwDiBLBYzwKEySyZp0CM+Nq7d89vAIudQNgb\n",
       "lv/xAYhh78DA8B7seq4DyK56pwNi1APxebCRrGJpaQhX8bAaABl/oF4GOuoCsl4ehgNQ734GC3El\n",
       "YMiCvfsVInYTRRZkMpJ3GZYFIMnOfsPAsPr83wfc9/8agMU4qh3gsXBMVgEtdBmYrkPdDAEAixRQ\n",
       "GUEne8EAAAAASUVORK5CYII=\n",
       "\" style=\"display:inline;vertical-align:middle;\" /></a></span></td></tr>\n",
       "</table>"
      ],
      "text/plain": [
       "<proveit._core_.proof._ShowProof at 0x7f94eb122198>"
      ]
     },
     "execution_count": 1,
     "metadata": {},
     "output_type": "execute_result"
    }
   ],
   "source": [
    "import proveit\n",
    "%show_proof"
   ]
  },
  {
   "cell_type": "code",
   "execution_count": null,
   "metadata": {},
   "outputs": [],
   "source": []
  }
 ],
 "metadata": {
  "kernelspec": {
   "display_name": "Python 3",
   "language": "python",
   "name": "python3"
  }
 },
 "nbformat": 4,
 "nbformat_minor": 0
}
