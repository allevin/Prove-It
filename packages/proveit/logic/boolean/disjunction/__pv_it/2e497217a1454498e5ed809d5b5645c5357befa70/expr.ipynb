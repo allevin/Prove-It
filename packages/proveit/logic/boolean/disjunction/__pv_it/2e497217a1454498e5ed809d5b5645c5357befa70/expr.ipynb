{
 "cells": [
  {
   "cell_type": "markdown",
   "metadata": {},
   "source": [
    "Expression of type <a class=\"ProveItLink\" href=\"../../../../../../../doc/html/api/proveit.ExprTuple.html\">ExprTuple</a>\n",
    "=======================\n",
    "# from context <a class=\"ProveItLink\" href=\"../../_context_.ipynb\">proveit.logic.boolean.disjunction</a>"
   ]
  },
  {
   "cell_type": "code",
   "execution_count": 1,
   "metadata": {},
   "outputs": [],
   "source": [
    "# import Expression classes needed to build the expression\n",
    "from proveit import ExprTuple\n",
    "from proveit._common_ import A, B, C, D, E\n",
    "from proveit.logic import Or"
   ]
  },
  {
   "cell_type": "code",
   "execution_count": 2,
   "metadata": {},
   "outputs": [
    {
     "data": {
      "text/html": [
       "<strong id=\"expr\">expr:</strong> <a class=\"ProveItLink\" href=\"expr.ipynb\"><img src=\"data:image/png;base64,iVBORw0KGgoAAAANSUhEUgAAAXQAAAAVBAMAAACkkggrAAAAMFBMVEX////c3NwiIiJERESqqqqY\n",
       "mJh2dnZmZmYQEBDu7u4yMjJUVFTMzMyIiIi6uroAAAAs73DqAAAAAXRSTlMAQObYZgAAA0hJREFU\n",
       "SMfVV01oE0EUfkm72+xm0wQUCvXQXgQLQoso+HNowIMggrl4EaS5SPGkYtFLIT0oqAddvChKNVFE\n",
       "VGirPQhdsaHFg3pIbx6kNHqxeGmrbaGtrb43b7KZWXsodnNIYCeTb9837837mwlAHX+ap+rRaqOM\n",
       "wyeeTwTfja95o0MBcPDIlUyLDn3543lPijqWQK43nK8KjK3+o3u7+vpx/pyhYREBMWVDYl0AubKG\n",
       "mdcAvuMDtGVwmIhWNS4GuEk0u7ELfAE4GiBtX5+NHuJ8MTpdHOPEkEgJv0ojKmY9RhlzAWdvSWBa\n",
       "iDnLOORcnTtHXxdkQq7j0KSTQtBnZCHmCmRnLkU4eSrKyAwCPVkVs2+QJQM4TJJAByfHhlSrcs+j\n",
       "ekvWkPmbIq+TQtBnDcAPXmpqRgSlgM8xRg7is8dVsVwahwg500Y1jezVhnkc2kZ0LmZDFlI8t+fB\n",
       "hIhOCkPffrjMUXVPZkBSCrzUGkDrIRWLiFqzKJ60jM2mJclJFGiV+wuMTCWpUeCUmCikMPT1wlMB\n",
       "PBQxF4FyuLyctenPu0HFmpaqdd4hg8i5IgKtcJtXveFURXTu5dhCkBSGvuNwSwBlaBPxwPKIlzmn\n",
       "UN+dERWLLlSXwpJ5x7MZ8sp4WeNietu+KOZ9PkgKQ98sbIgte944b74d7rNIA5ZHYknFkvMigOwZ\n",
       "sKQ93TRc17kivR1Q8r6ok8LQV2LTsZfG+FUfnJUpih4wllUsJpY6IaCmtJmppDXKLQW4XViXg+AL\n",
       "pLjbVElh6CvBVfqNpRwdEG9acc+cUygaX1Sx+Ar43TqSj0r/rcvTROWKtn5Oaeumq5FC0TcLB+hF\n",
       "WgRZyL+X7ZjabFtexZyqEXhInJFnPnXtw67OpbaOTc3y23qLTgpF32nsMSBSq2GFd7XP9dusc9PV\n",
       "sJ40NF+UfpuUZwu12Y+yWftcOuQnivConfMenL06KRR9vfANYMftAhjdq2zAMxa5hLecF5XeLDFn\n",
       "7E1fpeRtlr7bjZemftDkrFHkvv4JcA9bxAMU8DrbNVI4+oYgltJvZh82uWFugjnuFuS+boH0v/rw\n",
       "ImBka3epztTwwm5O+ZfeejOd6mVXzVZP1PJv0ivqVHX5By9RhL+48Ia+otaF2gAAAABJRU5ErkJg\n",
       "gg==\n",
       "\" style=\"display:inline;vertical-align:middle;\" /></a><br>"
      ],
      "text/plain": [
       "expr: (A or B or C or D or E , E or A or B or C or D)"
      ]
     },
     "execution_count": 2,
     "metadata": {},
     "output_type": "execute_result"
    }
   ],
   "source": [
    "# build up the expression from sub-expressions\n",
    "expr = ExprTuple(Or(A, B, C, D, E), Or(E, A, B, C, D))"
   ]
  },
  {
   "cell_type": "code",
   "execution_count": 3,
   "metadata": {},
   "outputs": [
    {
     "name": "stdout",
     "output_type": "stream",
     "text": [
      "Passed sanity check: built 'expr' is the same as the stored Expression.\n"
     ]
    }
   ],
   "source": [
    "# check that the built expression is the same as the stored expression\n",
    "%check_expr"
   ]
  },
  {
   "cell_type": "code",
   "execution_count": 4,
   "metadata": {},
   "outputs": [
    {
     "data": {
      "text/html": [
       "<table><tr><th>&nbsp;</th><th>core type</th><th>sub-expressions</th><th>expression</th></tr>\n",
       "<tr><td>0</td><td>ExprTuple</td><td>1, 2</td><td><a class=\"ProveItLink\" href=\"expr.ipynb\"><img src=\"data:image/png;base64,iVBORw0KGgoAAAANSUhEUgAAAXQAAAAVBAMAAACkkggrAAAAMFBMVEX////c3NwiIiJERESqqqqY\n",
       "mJh2dnZmZmYQEBDu7u4yMjJUVFTMzMyIiIi6uroAAAAs73DqAAAAAXRSTlMAQObYZgAAA0hJREFU\n",
       "SMfVV01oE0EUfkm72+xm0wQUCvXQXgQLQoso+HNowIMggrl4EaS5SPGkYtFLIT0oqAddvChKNVFE\n",
       "VGirPQhdsaHFg3pIbx6kNHqxeGmrbaGtrb43b7KZWXsodnNIYCeTb9837837mwlAHX+ap+rRaqOM\n",
       "wyeeTwTfja95o0MBcPDIlUyLDn3543lPijqWQK43nK8KjK3+o3u7+vpx/pyhYREBMWVDYl0AubKG\n",
       "mdcAvuMDtGVwmIhWNS4GuEk0u7ELfAE4GiBtX5+NHuJ8MTpdHOPEkEgJv0ojKmY9RhlzAWdvSWBa\n",
       "iDnLOORcnTtHXxdkQq7j0KSTQtBnZCHmCmRnLkU4eSrKyAwCPVkVs2+QJQM4TJJAByfHhlSrcs+j\n",
       "ekvWkPmbIq+TQtBnDcAPXmpqRgSlgM8xRg7is8dVsVwahwg500Y1jezVhnkc2kZ0LmZDFlI8t+fB\n",
       "hIhOCkPffrjMUXVPZkBSCrzUGkDrIRWLiFqzKJ60jM2mJclJFGiV+wuMTCWpUeCUmCikMPT1wlMB\n",
       "PBQxF4FyuLyctenPu0HFmpaqdd4hg8i5IgKtcJtXveFURXTu5dhCkBSGvuNwSwBlaBPxwPKIlzmn\n",
       "UN+dERWLLlSXwpJ5x7MZ8sp4WeNietu+KOZ9PkgKQ98sbIgte944b74d7rNIA5ZHYknFkvMigOwZ\n",
       "sKQ93TRc17kivR1Q8r6ok8LQV2LTsZfG+FUfnJUpih4wllUsJpY6IaCmtJmppDXKLQW4XViXg+AL\n",
       "pLjbVElh6CvBVfqNpRwdEG9acc+cUygaX1Sx+Ar43TqSj0r/rcvTROWKtn5Oaeumq5FC0TcLB+hF\n",
       "WgRZyL+X7ZjabFtexZyqEXhInJFnPnXtw67OpbaOTc3y23qLTgpF32nsMSBSq2GFd7XP9dusc9PV\n",
       "sJ40NF+UfpuUZwu12Y+yWftcOuQnivConfMenL06KRR9vfANYMftAhjdq2zAMxa5hLecF5XeLDFn\n",
       "7E1fpeRtlr7bjZemftDkrFHkvv4JcA9bxAMU8DrbNVI4+oYgltJvZh82uWFugjnuFuS+boH0v/rw\n",
       "ImBka3epztTwwm5O+ZfeejOd6mVXzVZP1PJv0ivqVHX5By9RhL+48Ia+otaF2gAAAABJRU5ErkJg\n",
       "gg==\n",
       "\" style=\"display:inline;vertical-align:middle;\" /></a></td></tr>\n",
       "<tr><td>1</td><td>Operation</td><td>operator:&nbsp;4<br>operands:&nbsp;3<br></td><td><a class=\"ProveItLink\" href=\"../8da3b2e25be5a9ab3452096a51f26ff522560bfc0/expr.ipynb\"><img src=\"data:image/png;base64,iVBORw0KGgoAAAANSUhEUgAAAK8AAAAPBAMAAABgoIKoAAAAMFBMVEX///92dnYQEBBERERUVFS6\n",
       "urqIiIhmZmaqqqrc3Nzu7u6YmJgyMjIiIiLMzMwAAACFkkdwAAAAAXRSTlMAQObYZgAAAhhJREFU\n",
       "OMudlM9LG1EQxyfmh0lWN8GjHiI9CwaPRUkgC54kixePDVjqMWIPLRSa3Dx2wYMehLyLerFl/wPF\n",
       "tpSAkOJRD8nBU6skwbT4I9XOvNnEnXjzwc57+3nf2Tdv3uwDoHYJshn5jpX7PgDjy/MfYqsCvX6w\n",
       "rK8NKYugr1U75JcambAesmwoDVCyJRtzIbzmStYFiF4P+Cbwo9E0B1hXaEPEIwVNmtg1s4Ltn6JJ\n",
       "OYKZbTQlJX1fUcc72yo5pKJVRpUmRQQHScGOyC5KXeSPF4TfN4WLxHmNQtGmrorPOudmBp8T5WfD\n",
       "tGPYlLpgC00lK30xr0lwdHLVJxe8iSpPdgC2XwpW0cfxReoSFCilzO97BYbLox29G70Vk5Nudt6s\n",
       "nIFgJbd/7o867Ucp87Fw16o5LLShonONyQ/ZXDI3AJ+zgtWdx4Lq64p0ZnlbsMA9jLDOtKw8L/YT\n",
       "9hkFJ1F6J9iDtkrqMmReSDbSggCYXv0OcT2/hwmeTGC0RluwaTLRhtRdUa3eDfimIQa7NCpjhiY1\n",
       "28Z1OXeY0NC1YHkKdhgEM/96/5LfV5fxOD6xsg6fWug3l58uYy6DPmv29D4WuUczq6QvlbH+8yk1\n",
       "wVuOYE71y9icUoIZuIEl7wB7jMr4YlUyfT1c4sc3pqtgZLo8/YPn3uLdctwrL4/B+bd3ZRBsL4NX\n",
       "1UfJ4jn0Xfg3cH/BL3jansn+A9ICtimU7Tq4AAAAAElFTkSuQmCC\n",
       "\" style=\"display:inline;vertical-align:middle;\" /></a></td></tr>\n",
       "<tr><td>2</td><td>Operation</td><td>operator:&nbsp;4<br>operands:&nbsp;5<br></td><td><a class=\"ProveItLink\" href=\"../5cfe5f51139921c78eb43e642b12f209445130850/expr.ipynb\"><img src=\"data:image/png;base64,iVBORw0KGgoAAAANSUhEUgAAAK8AAAAPBAMAAABgoIKoAAAAMFBMVEX///8QEBAiIiKYmJjc3Nzu\n",
       "7u7MzMx2dnZmZma6urpERESqqqoyMjJUVFSIiIgAAAAoDOMTAAAAAXRSTlMAQObYZgAAAkNJREFU\n",
       "OMuNVM9rE0EYfdlsdtM0PyqlFy96qTdpwLM2R6lC96igEhUvRWjBP8AiIkIPybE3o+eW5CTixaIR\n",
       "SkHsqahkTf4Bm0BTi7VRvx+z2Ux6MTBfZl++92bezNsA+PE3DFsnGP/cG3u+TG0b1THwzubz4lUb\n",
       "YrmdskxZ9C0NYXlRw2cuEzLVtrNA+peN+dPA+vQYleQmfwv5D5U0jT1+2je6ybmAao75+Y7QqM0b\n",
       "WFjqPfX4fZvqHVGpMNn/yZ5oLDE+a4SvVUrcVaPicBfyJJA8srDsDO9ryqbm2dUyr5vtwYfLE5Ka\n",
       "XDXCna7Ya9J4I0CGBJwZC6s0qLirNjXTo7K4S6VQwyWB+BfukPMJ3hVhBJqCFHbh7gSjmCs3nirb\n",
       "1AIbWmbhF59afVWbNZ7oc1PdsGWxTr3f95/IWkMsfRBnIaYKb36FyuMythSj0/9qGqtYFGd0STnN\n",
       "WLeE1EWMYk4/Fo6pXXbQrmquVjQ9DlJmCS8M27rR87il0EsmFUexQk+OAja1zuUMl2OglBLf6YZf\n",
       "NEcMJLRxDY8UGkQOh1hChF/Dph5zVg+iGPtyK+6WY5zRdTtTMrtO+xMP3NtujGK5Q66ahSGV445E\n",
       "LYqxeS33rui325AUCvt+B1GMXfPiG8yLtxRT8yy3EWiM4V1QdMm8HnyEmUPdwatgGOO7H2Fh8w1M\n",
       "PIVN5Rg/ZBe364MwnFO7yKqvhXNNJOsn+rCtZ0htrQ9RBrbNAq0vaxFkqDeo79uzU/9oXnAKwgP8\n",
       "FzZO/Qdm07SdytIR0QAAAABJRU5ErkJggg==\n",
       "\" style=\"display:inline;vertical-align:middle;\" /></a></td></tr>\n",
       "<tr><td>3</td><td>ExprTuple</td><td>7, 8, 9, 10, 6</td><td><a class=\"ProveItLink\" href=\"../48b8758d7ce008e3b0e47a1b73432346514090220/expr.ipynb\"><img src=\"data:image/png;base64,iVBORw0KGgoAAAANSUhEUgAAAIMAAAAVBAMAAACXjEALAAAAMFBMVEX////c3NwiIiJERESqqqqY\n",
       "mJh2dnZmZmYQEBDu7u4yMjJUVFTMzMyIiIi6uroAAAAs73DqAAAAAXRSTlMAQObYZgAAAkJJREFU\n",
       "OMutVDtvE0EQ/ky8ds6xj5NAQoLCNEhQxQ0S0Nj/AFeU4A5SoJyEeBRIdkGBKPCJhijicQgh8ZAw\n",
       "IgXFFbZSkiKWKCgA2dCAaDCPRMIOCTO7O75L4YZgyaPvm9mdnW9n9oD/8HO7O9l9ms2KwcviVO1R\n",
       "tPRcmPPm1cWUb/C7rSh62LGBAi2LWmGW+RPjao0TT5eAet+Sc1W4V6qWDIH0L1m2OyRWAtmC0aFm\n",
       "A4mtkmf1hcGLR8jMe4bk18nUZd033ujjFJ1pXHvrnqToETpTM/gxR79I7Zv2AP2bJwlOFwvAV+Po\n",
       "9qR0HKP/YZM4q8veZwNTAzJFWx8rr8HDVAWXTFuCkyIYI2D/cQOLIds7or6EWCJ+QvGWjI9Hmt+L\n",
       "C8yPPrw9ZHG9mmygXiIS3WHUYu3pEDe1o4+iL4q/A7fsUbNeMkWPG9i2gjMbyOlUDWzqk6OoXRLF\n",
       "DUqzZvCWttKDMpvrluQGyCBPWwcmhUudCUUxVaDWDW6ySXfG6imyFl9MCnd1imvMK8Cuhigm/TN2\n",
       "gNpcQFYu6Y+du3gs5rSQo4RSFV2YqZjHgjsRyAXO2UBhg8yJAM54LHjyVYizPIN8Bb/h/LBjkb8R\n",
       "GKKoms+eDfBYvKZN9w/Kg1ju6KZ+AvY0H0CVh77TpAIu0Ft6Slo0wcqzyxWLb5fp+V0l3wK1zFmi\n",
       "ZS85c66P6UTf3GQP3UkBfEwSGnBVi6lKxtQEDGybt/PxY//HFA7PwoGYb/t+dSdgFJJkhiWmdvTh\n",
       "ew/8BQ43qTqeMmcWAAAAAElFTkSuQmCC\n",
       "\" style=\"display:inline;vertical-align:middle;\" /></a></td></tr>\n",
       "<tr><td>4</td><td>Literal</td><td></td><td><a class=\"ProveItLink\" href=\"../087d0b4ded7c7e5bf3bba05ecb616d7a8051ff650/expr.ipynb\"><img src=\"data:image/png;base64,iVBORw0KGgoAAAANSUhEUgAAAAwAAAAOBAMAAADpk+DfAAAALVBMVEX///+YmJh2dnZmZmaqqqrc\n",
       "3NwyMjLu7u4iIiJERESIiIhUVFTMzMy6uroAAAD0I/TTAAAAAXRSTlMAQObYZgAAAEtJREFUCNdj\n",
       "uMAABDwMe0DUKoaTIKqdgS2AgYHFAITAzHYGsMQqBoa9QIqDgT0BSDE7MAkAKdYEDpAehj1SYOpk\n",
       "O5hiMwBTPAUMDAB33Atnw8aG2QAAAABJRU5ErkJggg==\n",
       "\" style=\"display:inline;vertical-align:middle;\" /></a></td></tr>\n",
       "<tr><td>5</td><td>ExprTuple</td><td>6, 7, 8, 9, 10</td><td><a class=\"ProveItLink\" href=\"../88c876a60e4b752c68236ad25f9694ef585475c80/expr.ipynb\"><img src=\"data:image/png;base64,iVBORw0KGgoAAAANSUhEUgAAAIMAAAAVBAMAAACXjEALAAAAMFBMVEX////c3NwiIiJERESqqqqY\n",
       "mJh2dnZmZmYQEBDu7u4yMjJUVFTMzMyIiIi6uroAAAAs73DqAAAAAXRSTlMAQObYZgAAAklJREFU\n",
       "OMutVL9rU1EU/p7pS/qal+SBBaEd6iIoCMkiKggJ+Af0LTrabK2DNCD+2BLQycE8nIqt+hxEbaEt\n",
       "OAh5Q0LXDg106FCl0UVxMWoV2mjrOfdHcjNksV64533nffeee84933vAfxjp5lF2X2OzTnP7MIpq\n",
       "+z1iTQO73oneLGvP2Xx7yyoJmCKidglINMh5zW94++VeiJUuGs4B5ZZyZnyk7/oSZ0JgsgDQI8V1\n",
       "pP+QSXT32dlAww2iN1YlfnyGzKyniCLt2AOu0jG8Ov6bzJNuiNGyp+EOoamixK946WdNUGounTwH\n",
       "fGF/pI04rG6I5o5OHRdonpY5JXbZnlBEnqbVAWIF3BaF5XDF6FEw6WtMi8YuSjgRsl1QxA+aLrHx\n",
       "El6w/3Wp9q0X4qm4ATHczvutUwqXfaOZXAPsX8BQiIf8YraBsEe3MFFSMEWRH6nbzHpGiBTfXvKA\n",
       "Uq7gQDWxiIY+IIrqOYVjFVr9U+JDYVWvYm3uOLFuW4agwjxHJ58mTueUWZXp8qiyGVIHZfiQKV+E\n",
       "uK9lEddaIL0cq2hZ0KLkrsT1wBCPuK17EIWc07KgbjlMWgXRZJkxy4I7Eehd1zVB2cRY2HaIaSkL\n",
       "uGeBZydZg1zpHpzvShbug0A6NmXzyVMEycJ9yYCa+hGYz3eiKEvb5+j+j1efw87vl5wqJXCTPr9F\n",
       "qkU4WF+6U5DYYeK8uJaRFobNVn0wfwLeAKePYIHbRcM3xWNjgNNH4Ib+2P85hMPtHzckZ5LNQU4f\n",
       "keSqrCP9+N4BfwF+UqQw4lNiIgAAAABJRU5ErkJggg==\n",
       "\" style=\"display:inline;vertical-align:middle;\" /></a></td></tr>\n",
       "<tr><td>6</td><td>Variable</td><td></td><td><a class=\"ProveItLink\" href=\"../../../../../__pv_it/9995c55100c62d7d8a012a35bafc852acbe03cf00/expr.ipynb\"><img src=\"data:image/png;base64,iVBORw0KGgoAAAANSUhEUgAAABAAAAAOBAMAAADUAYG5AAAALVBMVEX///8iIiKYmJjc3Nzu7u7M\n",
       "zMx2dnZmZma6urpERESqqqoyMjJUVFSIiIgAAACbLqVTAAAAAXRSTlMAQObYZgAAAGVJREFUCNdj\n",
       "YGC48+7MmdOvGYAARKwEYo63QIIdiNmeAglfIOZ+wMDGwAxk8E1gUAIpZejbc/oxmJEXwLABzNjH\n",
       "wJDAEABkvGRgMGC5ADWGzQFqjDnEGAZWUQYGn3lvzpyRE2AAAIznGVQJqiN4AAAAAElFTkSuQmCC\n",
       "\" style=\"display:inline;vertical-align:middle;\" /></a></td></tr>\n",
       "<tr><td>7</td><td>Variable</td><td></td><td><a class=\"ProveItLink\" href=\"../../../../../__pv_it/2cbe72a7ad6f655694dd697106680215e8489b600/expr.ipynb\"><img src=\"data:image/png;base64,iVBORw0KGgoAAAANSUhEUgAAAA8AAAAOBAMAAAACpFvcAAAALVBMVEX///8QEBBERERUVFS6urqI\n",
       "iIhmZmaqqqrc3Nzu7u6YmJgyMjIiIiLMzMwAAADtIaYWAAAAAXRSTlMAQObYZgAAAFtJREFUCNdj\n",
       "YACBOwxQsA9Kc52bAGG05zVAGAFxDmCaZULdAjBjCsO9ADDDgaEvAUTzGhvbKYCVMDAwbgAxChgY\n",
       "eASANAeQwf0AyJgNxEwvGRia5HYwcOm9TgAA6BoR3jrzwFcAAAAASUVORK5CYII=\n",
       "\" style=\"display:inline;vertical-align:middle;\" /></a></td></tr>\n",
       "<tr><td>8</td><td>Variable</td><td></td><td><a class=\"ProveItLink\" href=\"../../../../../__pv_it/077b2ff79244fb4582cbe22c6e3356fa92a52f2f0/expr.ipynb\"><img src=\"data:image/png;base64,iVBORw0KGgoAAAANSUhEUgAAABAAAAAOBAMAAADUAYG5AAAAMFBMVEX///+qqqru7u4iIiJ2dnbc\n",
       "3NyIiIjMzMxmZmYQEBC6uroyMjJERERUVFSYmJgAAADLUcuvAAAAAXRSTlMAQObYZgAAAGpJREFU\n",
       "CNdjYGB4+//u3dMLGIBgDgMDxy8gzf4NiP8CGWxfGRj4vgAZPBMYGJgnARn8FxhY9ygAGfXX0pof\n",
       "gDTlBzAw2YIYJ0EckBBI53sHoBH/gIz7AhBjWH9DjancBLTl/N+7t/cxMAAA3u4f/5xagjYAAAAA\n",
       "SUVORK5CYII=\n",
       "\" style=\"display:inline;vertical-align:middle;\" /></a></td></tr>\n",
       "<tr><td>9</td><td>Variable</td><td></td><td><a class=\"ProveItLink\" href=\"../../../../../__pv_it/985a1bdf1540838275dec15f4ad6de261cca93ce0/expr.ipynb\"><img src=\"data:image/png;base64,iVBORw0KGgoAAAANSUhEUgAAAA8AAAAOBAMAAAACpFvcAAAAMFBMVEX////MzMyqqqoiIiIyMjK6\n",
       "uroQEBB2dnbc3NyYmJhmZmZUVFRERESIiIju7u4AAAB204erAAAAAXRSTlMAQObYZgAAAGZJREFU\n",
       "CNdjYGDgu7NrJccCBgaGsgkMrMsmMDA8sQNy6hsYGNweABlhDAxcn4A0QxcDQ78DiPGQgWH9BAYI\n",
       "sG+AMv6DSaCGfBDNJMDAsB+kmwuI5S8AiTog5gSaEwXWIO29SgFIAQBC+RaDQlidVgAAAABJRU5E\n",
       "rkJggg==\n",
       "\" style=\"display:inline;vertical-align:middle;\" /></a></td></tr>\n",
       "<tr><td>10</td><td>Variable</td><td></td><td><a class=\"ProveItLink\" href=\"../../../../../__pv_it/185e6d30f167ee2ee5ef3321098dc98e0d77bc590/expr.ipynb\"><img src=\"data:image/png;base64,iVBORw0KGgoAAAANSUhEUgAAABEAAAAOBAMAAAA7w+qHAAAALVBMVEX///8QEBCYmJjc3Ny6urru\n",
       "7u5mZmZ2dnaqqqrMzMxEREQyMjJUVFSIiIgAAABETr/8AAAAAXRSTlMAQObYZgAAAGpJREFUCNdj\n",
       "YGC48+7MmV0TGEDgNQMDxwsQg/M5kMgLABK8T4DEvAtAgusBkLA7ACT4FoDEDsAk9AqAxD2QCecc\n",
       "gMQ6kAGCIOIVEDM9Ahn3FkgwgnTxvgQSqwOgxs1OADLC1r05cyoTyAAAv4Qe+njAWvgAAAAASUVO\n",
       "RK5CYII=\n",
       "\" style=\"display:inline;vertical-align:middle;\" /></a></td></tr>\n",
       "</table>\n"
      ],
      "text/plain": [
       "0. (A or B or C or D or E , E or A or B or C or D)\n",
       "   core type: ExprTuple\n",
       "   sub-expressions: 1, 2\n",
       "1. A or B or C or D or E\n",
       "   core type: Operation\n",
       "   operator: 4\n",
       "   operands: 3\n",
       "2. E or A or B or C or D\n",
       "   core type: Operation\n",
       "   operator: 4\n",
       "   operands: 5\n",
       "3. (A , B , C , D , E)\n",
       "   core type: ExprTuple\n",
       "   sub-expressions: 7, 8, 9, 10, 6\n",
       "4. or\n",
       "   core type: Literal\n",
       "   sub-expressions: \n",
       "5. (E , A , B , C , D)\n",
       "   core type: ExprTuple\n",
       "   sub-expressions: 6, 7, 8, 9, 10\n",
       "6. E\n",
       "   core type: Variable\n",
       "   sub-expressions: \n",
       "7. A\n",
       "   core type: Variable\n",
       "   sub-expressions: \n",
       "8. B\n",
       "   core type: Variable\n",
       "   sub-expressions: \n",
       "9. C\n",
       "   core type: Variable\n",
       "   sub-expressions: \n",
       "10. D\n",
       "    core type: Variable\n",
       "    sub-expressions: "
      ]
     },
     "execution_count": 4,
     "metadata": {},
     "output_type": "execute_result"
    }
   ],
   "source": [
    "# display the expression information\n",
    "expr.exprInfo()"
   ]
  },
  {
   "cell_type": "code",
   "execution_count": null,
   "metadata": {},
   "outputs": [],
   "source": []
  }
 ],
 "metadata": {
  "kernelspec": {
   "display_name": "Python 3",
   "language": "python",
   "name": "python3"
  }
 },
 "nbformat": 4,
 "nbformat_minor": 0
}
