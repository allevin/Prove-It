{
 "cells": [
  {
   "cell_type": "markdown",
   "metadata": {},
   "source": [
    "Expression of type <a class=\"ProveItLink\" href=\"../../../../../../../doc/html/api/proveit.logic.Or.html\">Or</a>\n",
    "=======================\n",
    "# from context <a class=\"ProveItLink\" href=\"../../_context_.ipynb\">proveit.logic.boolean.disjunction</a>"
   ]
  },
  {
   "cell_type": "code",
   "execution_count": 1,
   "metadata": {},
   "outputs": [],
   "source": [
    "# import Expression classes needed to build the expression\n",
    "from proveit._common_ import B\n",
    "from proveit.logic import Equals, FALSE, Or, TRUE"
   ]
  },
  {
   "cell_type": "code",
   "execution_count": 2,
   "metadata": {},
   "outputs": [
    {
     "data": {
      "text/html": [
       "<strong id=\"expr\">expr:</strong> <a class=\"ProveItLink\" href=\"expr.ipynb\"><img src=\"data:image/png;base64,iVBORw0KGgoAAAANSUhEUgAAAK0AAAAVBAMAAADGGHNoAAAAMFBMVEX////c3NwiIiJERESqqqqY\n",
       "mJh2dnZmZmYQEBDu7u4yMjJUVFTMzMyIiIi6uroAAAAs73DqAAAAAXRSTlMAQObYZgAAAdhJREFU\n",
       "OMtjYKAV4LtAQEEceTpOAzHr/t+7N69Dky1SAgFlBvYDaBIgHdH/d++2eoBppCyIAOtYCWJxGDAw\n",
       "1GMqOw4mF4AdCWaCrQDraAZq/8eAWwcv2FPngeT5DThUhYEIbpCRYMVggucvEP9mwK2DYwKIcV+A\n",
       "gSE+AYeqGSCCB+gjBiaQYrAO3o/A0PvGgFvHKzDDAog1JuBQxewAIhcCsTuIAdbB3AC0pZMBt44y\n",
       "MAPoIylLXKrYChigZoLMhujg38DAuHgCHh1LwZ78ffe6KlikahUIrEZRxQKOOGAYgMMCouP83rtF\n",
       "Afh09DFAQ2vSBly28zUwQKKLG5xi+qARwqnNgEfHP1ho8X7FpYrnA5hSYJgFpv/BIuR+AB4d/6Ch\n",
       "hSd2oeaWMKQizAUlMSwJCKGjBRxaQJu5vyBnMsxwYJACuhgEQDp4QJ7b74BHhyks+covwGU7K0SG\n",
       "+yikXDCFRgjjLwY8OtKhocXTNQF/OmPgMYKoSIdGyImVDHh0PAJSxcBCZBWWSGA4Bia5oAXHcggF\n",
       "1MFu/3v3rqUYyoFBogEOEqAODgGCJekMKH0SQhGngzWBoKpcVC6ROlYSUsSJHqHE6ZAmpIob3d/E\n",
       "6WAkVKvcQRcgRgcA7K2aW1wlQbQAAAAASUVORK5CYII=\n",
       "\" style=\"display:inline;vertical-align:middle;\" /></a><br>"
      ],
      "text/plain": [
       "expr: (B = TRUE) or (B = FALSE)"
      ]
     },
     "execution_count": 2,
     "metadata": {},
     "output_type": "execute_result"
    }
   ],
   "source": [
    "# build up the expression from sub-expressions\n",
    "expr = Or(Equals(B, TRUE), Equals(B, FALSE))"
   ]
  },
  {
   "cell_type": "code",
   "execution_count": 3,
   "metadata": {},
   "outputs": [
    {
     "name": "stdout",
     "output_type": "stream",
     "text": [
      "Passed sanity check: built 'expr' is the same as the stored Expression.\n"
     ]
    }
   ],
   "source": [
    "# check that the built expression is the same as the stored expression\n",
    "%check_expr"
   ]
  },
  {
   "cell_type": "code",
   "execution_count": 4,
   "metadata": {},
   "outputs": [
    {
     "data": {
      "text/html": [
       "<table><tr><th>&nbsp;</th><th>core type</th><th>sub-expressions</th><th>expression</th></tr>\n",
       "<tr><td>0</td><td>Operation</td><td>operator:&nbsp;1<br>operands:&nbsp;2<br></td><td><a class=\"ProveItLink\" href=\"expr.ipynb\"><img src=\"data:image/png;base64,iVBORw0KGgoAAAANSUhEUgAAAK0AAAAVBAMAAADGGHNoAAAAMFBMVEX////c3NwiIiJERESqqqqY\n",
       "mJh2dnZmZmYQEBDu7u4yMjJUVFTMzMyIiIi6uroAAAAs73DqAAAAAXRSTlMAQObYZgAAAdhJREFU\n",
       "OMtjYKAV4LtAQEEceTpOAzHr/t+7N69Dky1SAgFlBvYDaBIgHdH/d++2eoBppCyIAOtYCWJxGDAw\n",
       "1GMqOw4mF4AdCWaCrQDraAZq/8eAWwcv2FPngeT5DThUhYEIbpCRYMVggucvEP9mwK2DYwKIcV+A\n",
       "gSE+AYeqGSCCB+gjBiaQYrAO3o/A0PvGgFvHKzDDAog1JuBQxewAIhcCsTuIAdbB3AC0pZMBt44y\n",
       "MAPoIylLXKrYChigZoLMhujg38DAuHgCHh1LwZ78ffe6KlikahUIrEZRxQKOOGAYgMMCouP83rtF\n",
       "Afh09DFAQ2vSBly28zUwQKKLG5xi+qARwqnNgEfHP1ho8X7FpYrnA5hSYJgFpv/BIuR+AB4d/6Ch\n",
       "hSd2oeaWMKQizAUlMSwJCKGjBRxaQJu5vyBnMsxwYJACuhgEQDp4QJ7b74BHhyks+covwGU7K0SG\n",
       "+yikXDCFRgjjLwY8OtKhocXTNQF/OmPgMYKoSIdGyImVDHh0PAJSxcBCZBWWSGA4Bia5oAXHcggF\n",
       "1MFu/3v3rqUYyoFBogEOEqAODgGCJekMKH0SQhGngzWBoKpcVC6ROlYSUsSJHqHE6ZAmpIob3d/E\n",
       "6WAkVKvcQRcgRgcA7K2aW1wlQbQAAAAASUVORK5CYII=\n",
       "\" style=\"display:inline;vertical-align:middle;\" /></a></td></tr>\n",
       "<tr><td>1</td><td>Literal</td><td></td><td><a class=\"ProveItLink\" href=\"../087d0b4ded7c7e5bf3bba05ecb616d7a8051ff650/expr.ipynb\"><img src=\"data:image/png;base64,iVBORw0KGgoAAAANSUhEUgAAAAwAAAAOBAMAAADpk+DfAAAALVBMVEX///+YmJh2dnZmZmaqqqrc\n",
       "3NwyMjLu7u4iIiJERESIiIhUVFTMzMy6uroAAAD0I/TTAAAAAXRSTlMAQObYZgAAAEtJREFUCNdj\n",
       "uMAABDwMe0DUKoaTIKqdgS2AgYHFAITAzHYGsMQqBoa9QIqDgT0BSDE7MAkAKdYEDpAehj1SYOpk\n",
       "O5hiMwBTPAUMDAB33Atnw8aG2QAAAABJRU5ErkJggg==\n",
       "\" style=\"display:inline;vertical-align:middle;\" /></a></td></tr>\n",
       "<tr><td>2</td><td>ExprTuple</td><td>3, 4</td><td><a class=\"ProveItLink\" href=\"../2e3d7c6383191a3c54578e2a615960fc71f58beb0/expr.ipynb\"><img src=\"data:image/png;base64,iVBORw0KGgoAAAANSUhEUgAAAI8AAAAVBAMAAACNsKCFAAAAMFBMVEX////c3NwiIiJERESqqqqY\n",
       "mJh2dnZmZmYQEBDu7u4yMjJUVFTMzMyIiIi6uroAAAAs73DqAAAAAXRSTlMAQObYZgAAAT5JREFU\n",
       "OMtjYKAa4LtAuRlxIOI0EEf/373b6gGabJESCChDeViVAIEsiGA/ACRWgljNQM4/TFXHkdh4lSxg\n",
       "YOAF+YznLxD/xmsQfiVhDAwcE4A070cGBtZveA3Cr2QGA8MrEM3cwMDA1InXIPxKmB0YykA0/wYG\n",
       "xsUT8BqEXwlbAcNSEH1+792iALBI1SoQWI1pEH4lLAsY+kD0fQEGTm0GvC7Cr4SvgQEcoxYglQF4\n",
       "DcKvhOcDxCBQtMYn4DUIvxKgQS0g6iuQ2O+AmZwRBhFQAvSaKTSNMP7CFQCcDASVMLAuYEiHppET\n",
       "K3Gpmq9AUAko+h8Bs5D97927lmLL1cfAqfYjTiVAX2qAfcn1gIFDgGAh8ZBwOQLMIqwJBFUFEDYo\n",
       "F1aMUGgQJ7AYYZAmpIqXsIO4QeHDSIWi9g4DAwBjiHf541H7cwAAAABJRU5ErkJggg==\n",
       "\" style=\"display:inline;vertical-align:middle;\" /></a></td></tr>\n",
       "<tr><td>3</td><td>Operation</td><td>operator:&nbsp;6<br>operands:&nbsp;5<br></td><td><a class=\"ProveItLink\" href=\"../832229df1740961f676ef0929f5b88a1d2e69c8f0/expr.ipynb\"><img src=\"data:image/png;base64,iVBORw0KGgoAAAANSUhEUgAAADwAAAAOBAMAAACBYGLnAAAAMFBMVEX///+qqqru7u4iIiJ2dnbc\n",
       "3NyIiIjMzMxmZmYQEBC6uroyMjJERERUVFSYmJgAAADLUcuvAAAAAXRSTlMAQObYZgAAAItJREFU\n",
       "GNNjYGB4+//u3dMLGFBBszEI2ICYcxgYOH4xYIAKCMX+DYj/4pRm+8rAwPcFpzTPBAYG5kk4pfkv\n",
       "MLDuUcApXX8trfkBmNW9GwT2okrnBzAw2TLg1H0SpOQBTmmQn9474JJm/wck7gugBRVcGuRt1t84\n",
       "7QZ5u3ITLmmO83/v3t6HRZahBIgBOGYufu9fDlQAAAAASUVORK5CYII=\n",
       "\" style=\"display:inline;vertical-align:middle;\" /></a></td></tr>\n",
       "<tr><td>4</td><td>Operation</td><td>operator:&nbsp;6<br>operands:&nbsp;7<br></td><td><a class=\"ProveItLink\" href=\"../a7f268d0300524d11cd147935bf2f1176ea177a30/expr.ipynb\"><img src=\"data:image/png;base64,iVBORw0KGgoAAAANSUhEUgAAADwAAAAOBAMAAACBYGLnAAAAMFBMVEX///+qqqru7u4iIiJ2dnbc\n",
       "3NyIiIjMzMxmZmYQEBC6uroyMjJERERUVFSYmJgAAADLUcuvAAAAAXRSTlMAQObYZgAAAI1JREFU\n",
       "GNNjYGB4+//u3dMLGDBAGJSew8DA8QtTugJCsX8D4r84pdm+MjDwfcEpzTOBgYF5Ek5p/gsMrHsU\n",
       "cErXX0trfgBmde8Ggb2o0vkBDEy2DDh1nwQpeYBTGuSn9w64pNn/AYn7AiBmszEI2KBIg7zN+hun\n",
       "3SBvV27CJc1x/u/d2/sw5ID2WALtAQABMC5m6XxmHQAAAABJRU5ErkJggg==\n",
       "\" style=\"display:inline;vertical-align:middle;\" /></a></td></tr>\n",
       "<tr><td>5</td><td>ExprTuple</td><td>9, 8</td><td><a class=\"ProveItLink\" href=\"../3e79c2202cc7577754a4528ea231cce3d4dfc5000/expr.ipynb\"><img src=\"data:image/png;base64,iVBORw0KGgoAAAANSUhEUgAAADYAAAAVBAMAAAD/UwB2AAAAMFBMVEX////c3NwiIiJERESqqqqY\n",
       "mJh2dnZmZmYQEBDu7u4yMjJUVFTMzMyIiIi6uroAAAAs73DqAAAAAXRSTlMAQObYZgAAAPNJREFU\n",
       "KM9jYMAH+C5gFWZ9ACROA3H0/927rR6AxdiVwMCAoQbIWQkSaQYK/oNp4SkAkVwMDLwgI3n+AvFv\n",
       "VDnWBAaOCUCa9yOQ/Q1VjrOB4RWIZm5gYGDqRJVjMGEoA1H8GxgYF09Ak0tnWAqizu+9WxTAgCbn\n",
       "xdAHou4LMHBqo8u9YAC73AIkH4Amdx4iB3J+fAKGXAuI8xVI7HfAMNMU6j3GXwwME1DkooAuhXjv\n",
       "xEoGzk9ofngEDEn737t3Af3C2S8AkYPYvI6BQwApupDYoDBjTUCKM+QIZLsAjSMscrOAWBrBRUkB\n",
       "G4GYEXua4D3AAABTJD+ak77tNAAAAABJRU5ErkJggg==\n",
       "\" style=\"display:inline;vertical-align:middle;\" /></a></td></tr>\n",
       "<tr><td>6</td><td>Literal</td><td></td><td><a class=\"ProveItLink\" href=\"../../../../equality/__pv_it/2fb26078095930560931daa0500ce419a39ea6cd0/expr.ipynb\"><img src=\"data:image/png;base64,iVBORw0KGgoAAAANSUhEUgAAAA4AAAAFBAMAAACHocAhAAAAFVBMVEX///9EREQiIiJUVFQyMjJm\n",
       "ZmYAAADubVkoAAAAAXRSTlMAQObYZgAAABRJREFUCNdjCHEBAWcGXCBICQQUAUpuAwlgGKrkAAAA\n",
       "AElFTkSuQmCC\n",
       "\" style=\"display:inline;vertical-align:middle;\" /></a></td></tr>\n",
       "<tr><td>7</td><td>ExprTuple</td><td>9, 10</td><td><a class=\"ProveItLink\" href=\"../25967a172fcd6c24495155e4ca7b42be9ebe38700/expr.ipynb\"><img src=\"data:image/png;base64,iVBORw0KGgoAAAANSUhEUgAAADYAAAAVBAMAAAD/UwB2AAAAMFBMVEX////c3NwiIiJERESqqqqY\n",
       "mJh2dnZmZmYQEBDu7u4yMjJUVFTMzMyIiIi6uroAAAAs73DqAAAAAXRSTlMAQObYZgAAAPZJREFU\n",
       "KM9jYMAH+C5gFWZ9ACROA3H0/927rR7AhBnBqmuAeCWI0czAwP4PJsdTACK5GBh4QYp4/gLxb1Q5\n",
       "1gQGjglAmvcjkP0NVY6zgeEViGZuYGBg6kSVYzBhKANR/BsYGBdPQJNLZ1gKos7vvVsUwIAm58XQ\n",
       "B6LuCzBwaqPLvWAAu9wCJB+AJnceIgdyfnwChlwLiPMVSOx3wDDTFOo9xl8MDBNQ5KKALoV478RK\n",
       "Bs5PaH54BAxJ+9+7dwH9wtkvAOQoKSk1KSkZMDCsY+AQQIouJDYozFgTkOIMOQLZLkDjCIvcLCCW\n",
       "RnBRUsBGeCxjAN4DDAB9IEBfqvNStwAAAABJRU5ErkJggg==\n",
       "\" style=\"display:inline;vertical-align:middle;\" /></a></td></tr>\n",
       "<tr><td>8</td><td>Literal</td><td></td><td><a class=\"ProveItLink\" href=\"../../../__pv_it/68a87cc3370287d726c7086ace789e680e4461c30/expr.ipynb\"><img src=\"data:image/png;base64,iVBORw0KGgoAAAANSUhEUgAAAA4AAAAOBAMAAADtZjDiAAAAFVBMVEX///92dnbMzMxEREQiIiJm\n",
       "ZmYAAABAT6GXAAAAAXRSTlMAQObYZgAAABhJREFUCNdjCHEBAWcGIFBlgABa0YpADAAxegPJJk4d\n",
       "XAAAAABJRU5ErkJggg==\n",
       "\" style=\"display:inline;vertical-align:middle;\" /></a></td></tr>\n",
       "<tr><td>9</td><td>Variable</td><td></td><td><a class=\"ProveItLink\" href=\"../../../../../__pv_it/077b2ff79244fb4582cbe22c6e3356fa92a52f2f0/expr.ipynb\"><img src=\"data:image/png;base64,iVBORw0KGgoAAAANSUhEUgAAABAAAAAOBAMAAADUAYG5AAAAMFBMVEX///+qqqru7u4iIiJ2dnbc\n",
       "3NyIiIjMzMxmZmYQEBC6uroyMjJERERUVFSYmJgAAADLUcuvAAAAAXRSTlMAQObYZgAAAGpJREFU\n",
       "CNdjYGB4+//u3dMLGIBgDgMDxy8gzf4NiP8CGWxfGRj4vgAZPBMYGJgnARn8FxhY9ygAGfXX0pof\n",
       "gDTlBzAw2YIYJ0EckBBI53sHoBH/gIz7AhBjWH9DjancBLTl/N+7t/cxMAAA3u4f/5xagjYAAAAA\n",
       "SUVORK5CYII=\n",
       "\" style=\"display:inline;vertical-align:middle;\" /></a></td></tr>\n",
       "<tr><td>10</td><td>Literal</td><td></td><td><a class=\"ProveItLink\" href=\"../../../__pv_it/8f1f7fac882de28c72b62ab80a1700b6d8fd066b0/expr.ipynb\"><img src=\"data:image/png;base64,iVBORw0KGgoAAAANSUhEUgAAAA4AAAAOBAMAAADtZjDiAAAAG1BMVEX///9EREQQEBAiIiJmZmbM\n",
       "zMyIiIjc3NwAAACryk5kAAAAAXRSTlMAQObYZgAAABlJREFUCNdjYGBgKGOAgBBa0s7GxkbGxoYA\n",
       "FMUF2aBfHgoAAAAASUVORK5CYII=\n",
       "\" style=\"display:inline;vertical-align:middle;\" /></a></td></tr>\n",
       "</table>\n"
      ],
      "text/plain": [
       "0. (B = TRUE) or (B = FALSE)\n",
       "   core type: Operation\n",
       "   operator: 1\n",
       "   operands: 2\n",
       "1. or\n",
       "   core type: Literal\n",
       "   sub-expressions: \n",
       "2. (B = TRUE , B = FALSE)\n",
       "   core type: ExprTuple\n",
       "   sub-expressions: 3, 4\n",
       "3. B = TRUE\n",
       "   core type: Operation\n",
       "   operator: 6\n",
       "   operands: 5\n",
       "4. B = FALSE\n",
       "   core type: Operation\n",
       "   operator: 6\n",
       "   operands: 7\n",
       "5. (B , TRUE)\n",
       "   core type: ExprTuple\n",
       "   sub-expressions: 9, 8\n",
       "6. =\n",
       "   core type: Literal\n",
       "   sub-expressions: \n",
       "7. (B , FALSE)\n",
       "   core type: ExprTuple\n",
       "   sub-expressions: 9, 10\n",
       "8. TRUE\n",
       "   core type: Literal\n",
       "   sub-expressions: \n",
       "9. B\n",
       "   core type: Variable\n",
       "   sub-expressions: \n",
       "10. FALSE\n",
       "    core type: Literal\n",
       "    sub-expressions: "
      ]
     },
     "execution_count": 4,
     "metadata": {},
     "output_type": "execute_result"
    }
   ],
   "source": [
    "# display the expression information\n",
    "expr.exprInfo()"
   ]
  },
  {
   "cell_type": "code",
   "execution_count": null,
   "metadata": {},
   "outputs": [],
   "source": []
  }
 ],
 "metadata": {
  "kernelspec": {
   "display_name": "Python 3",
   "language": "python",
   "name": "python3"
  }
 },
 "nbformat": 4,
 "nbformat_minor": 0
}
