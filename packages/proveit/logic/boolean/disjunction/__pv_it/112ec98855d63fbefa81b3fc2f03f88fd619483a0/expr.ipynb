{
 "cells": [
  {
   "cell_type": "markdown",
   "metadata": {},
   "source": [
    "Expression of type <a class=\"ProveItLink\" href=\"../../../../../../../doc/html/api/proveit.ExprTuple.html\">ExprTuple</a>\n",
    "=======================\n",
    "# from context <a class=\"ProveItLink\" href=\"../../_context_.ipynb\">proveit.logic.boolean.disjunction</a>"
   ]
  },
  {
   "cell_type": "code",
   "execution_count": 1,
   "metadata": {},
   "outputs": [],
   "source": [
    "# import Expression classes needed to build the expression\n",
    "from proveit import ExprTuple\n",
    "from proveit._common_ import A, B, C, D, E, F, G, H, I"
   ]
  },
  {
   "cell_type": "code",
   "execution_count": 2,
   "metadata": {},
   "outputs": [
    {
     "data": {
      "text/html": [
       "<strong id=\"expr\">expr:</strong> <a class=\"ProveItLink\" href=\"expr.ipynb\"><img src=\"data:image/png;base64,iVBORw0KGgoAAAANSUhEUgAAAOMAAAAVBAMAAABGa0R7AAAAMFBMVEX////c3NwiIiJERESqqqqY\n",
       "mJh2dnZmZmYQEBDu7u4yMjJUVFTMzMyIiIi6uroAAAAs73DqAAAAAXRSTlMAQObYZgAAA0lJREFU\n",
       "SMfFVk1oU0EQntf0JX3te0lAoQcP7VUU2kupqJCAV6G5KIhgc1MRaVRq/Tk0UHvoxb6LWOpftBQt\n",
       "PbRUsJJHSfAkeEjBo0pSLxUvbZpaSaONM/t235scAj3VQHZnd76d2flmZhOA//AJrx6kt0s0fKLB\n",
       "+Lw8rKXEppWrOdnTCvKl7jjZXf/IByVcRMXJEkO9/ysXz06NJDpB2qrc1XOVG+7qWr0/GsqjMEer\n",
       "KwkI30m4mkgGYCCuTJO7M77LBU8aAwjtcVSfKwbHAdbHwbcV6eYo3LCI1+mjOAxFXUUhicaqina6\n",
       "e8jzo/fYUjJRYdYUakdxBsYrRATLUrGB1gspjjoP0EY23tDwQ2qKJdege+c/RJXn8vCovBdYaFXf\n",
       "UahtHM4KsX2C7qMCG0Iei4qxIJEyBfCToqATIPmHGH41df/2TQiC5rlcLar0BdIALRMKVUXMBSGO\n",
       "kgMtxfIQs31beC4Ot3HqytDOU6mpAKMs0gvnWHXbAwmlWARtRhnDdD1yJU2UmhFltrbAt4WhpmCW\n",
       "bpZgZSw49SjbmM+Wfd1zKKiWKqx8u+kd20iBrMrQr4YG3HWct7+BJRZaM/AQp54og1mUvY49PxkZ\n",
       "X1eCLkVZMQrGMbU/NL+UdqWWMndJlWBtA0sshNNAtutiR7IUIMbb0n4ykpBXBDhOrlfKJ8itCnPB\n",
       "hkVJHp627s0k/ewFqg0NZm4Kl5Mkt+YZ44MJPxlRQ5EZxruomCnZg9IypsuQB8Rdg3ssexGPpYp0\n",
       "+QCnnM2aT2RrjLdlUFUJFmOLDN+knOXirOHcT0dVlabXlklui4jtU16uSmqLGG0AnyTDa8tOqdHi\n",
       "rjVbtiVVpwF+VLYqPuoA22vLErcFegYu04QZXsdy2JJtab7G+UW3vK95XGqmQWRGLKgtP84xFEgQ\n",
       "psRcSsqFakuGwib5Lp72+RGMwJhEt7fwhe6ntE5hHE9iNcfp6RYaODT5EvTYbooWIVRkZyXqcaxG\n",
       "LSJAYGaXh/W8srUC9+vvXFRnrEYUt5egjTVImDcLrEETTcNibT8ghsIHT0/6Cr3hp42/Dw0avQmq\n",
       "OYihrqsfrwNzaVDLHPEVDf8PLL5Ybbaw9gNiqA7iWzvQPyJfAf4BYi0SWLmyQTQAAAAASUVORK5C\n",
       "YII=\n",
       "\" style=\"display:inline;vertical-align:middle;\" /></a><br>"
      ],
      "text/plain": [
       "expr: (C , D , E , A , B , F , G , H , I)"
      ]
     },
     "execution_count": 2,
     "metadata": {},
     "output_type": "execute_result"
    }
   ],
   "source": [
    "# build up the expression from sub-expressions\n",
    "expr = ExprTuple(C, D, E, A, B, F, G, H, I)"
   ]
  },
  {
   "cell_type": "code",
   "execution_count": 3,
   "metadata": {},
   "outputs": [
    {
     "name": "stdout",
     "output_type": "stream",
     "text": [
      "Passed sanity check: built 'expr' is the same as the stored Expression.\n"
     ]
    }
   ],
   "source": [
    "# check that the built expression is the same as the stored expression\n",
    "%check_expr"
   ]
  },
  {
   "cell_type": "code",
   "execution_count": 4,
   "metadata": {},
   "outputs": [
    {
     "data": {
      "text/html": [
       "<table><tr><th>&nbsp;</th><th>core type</th><th>sub-expressions</th><th>expression</th></tr>\n",
       "<tr><td>0</td><td>ExprTuple</td><td>1, 2, 3, 4, 5, 6, 7, 8, 9</td><td><a class=\"ProveItLink\" href=\"expr.ipynb\"><img src=\"data:image/png;base64,iVBORw0KGgoAAAANSUhEUgAAAOMAAAAVBAMAAABGa0R7AAAAMFBMVEX////c3NwiIiJERESqqqqY\n",
       "mJh2dnZmZmYQEBDu7u4yMjJUVFTMzMyIiIi6uroAAAAs73DqAAAAAXRSTlMAQObYZgAAA0lJREFU\n",
       "SMfFVk1oU0EQntf0JX3te0lAoQcP7VUU2kupqJCAV6G5KIhgc1MRaVRq/Tk0UHvoxb6LWOpftBQt\n",
       "PbRUsJJHSfAkeEjBo0pSLxUvbZpaSaONM/t235scAj3VQHZnd76d2flmZhOA//AJrx6kt0s0fKLB\n",
       "+Lw8rKXEppWrOdnTCvKl7jjZXf/IByVcRMXJEkO9/ysXz06NJDpB2qrc1XOVG+7qWr0/GsqjMEer\n",
       "KwkI30m4mkgGYCCuTJO7M77LBU8aAwjtcVSfKwbHAdbHwbcV6eYo3LCI1+mjOAxFXUUhicaqina6\n",
       "e8jzo/fYUjJRYdYUakdxBsYrRATLUrGB1gspjjoP0EY23tDwQ2qKJdege+c/RJXn8vCovBdYaFXf\n",
       "UahtHM4KsX2C7qMCG0Iei4qxIJEyBfCToqATIPmHGH41df/2TQiC5rlcLar0BdIALRMKVUXMBSGO\n",
       "kgMtxfIQs31beC4Ot3HqytDOU6mpAKMs0gvnWHXbAwmlWARtRhnDdD1yJU2UmhFltrbAt4WhpmCW\n",
       "bpZgZSw49SjbmM+Wfd1zKKiWKqx8u+kd20iBrMrQr4YG3HWct7+BJRZaM/AQp54og1mUvY49PxkZ\n",
       "X1eCLkVZMQrGMbU/NL+UdqWWMndJlWBtA0sshNNAtutiR7IUIMbb0n4ykpBXBDhOrlfKJ8itCnPB\n",
       "hkVJHp627s0k/ewFqg0NZm4Kl5Mkt+YZ44MJPxlRQ5EZxruomCnZg9IypsuQB8Rdg3ssexGPpYp0\n",
       "+QCnnM2aT2RrjLdlUFUJFmOLDN+knOXirOHcT0dVlabXlklui4jtU16uSmqLGG0AnyTDa8tOqdHi\n",
       "rjVbtiVVpwF+VLYqPuoA22vLErcFegYu04QZXsdy2JJtab7G+UW3vK95XGqmQWRGLKgtP84xFEgQ\n",
       "psRcSsqFakuGwib5Lp72+RGMwJhEt7fwhe6ntE5hHE9iNcfp6RYaODT5EvTYbooWIVRkZyXqcaxG\n",
       "LSJAYGaXh/W8srUC9+vvXFRnrEYUt5egjTVImDcLrEETTcNibT8ghsIHT0/6Cr3hp42/Dw0avQmq\n",
       "OYihrqsfrwNzaVDLHPEVDf8PLL5Ybbaw9gNiqA7iWzvQPyJfAf4BYi0SWLmyQTQAAAAASUVORK5C\n",
       "YII=\n",
       "\" style=\"display:inline;vertical-align:middle;\" /></a></td></tr>\n",
       "<tr><td>1</td><td>Variable</td><td></td><td><a class=\"ProveItLink\" href=\"../../../../../__pv_it/985a1bdf1540838275dec15f4ad6de261cca93ce0/expr.ipynb\"><img src=\"data:image/png;base64,iVBORw0KGgoAAAANSUhEUgAAAA8AAAAOBAMAAAACpFvcAAAAMFBMVEX////MzMyqqqoiIiIyMjK6\n",
       "uroQEBB2dnbc3NyYmJhmZmZUVFRERESIiIju7u4AAAB204erAAAAAXRSTlMAQObYZgAAAGZJREFU\n",
       "CNdjYGDgu7NrJccCBgaGsgkMrMsmMDA8sQNy6hsYGNweABlhDAxcn4A0QxcDQ78DiPGQgWH9BAYI\n",
       "sG+AMv6DSaCGfBDNJMDAsB+kmwuI5S8AiTog5gSaEwXWIO29SgFIAQBC+RaDQlidVgAAAABJRU5E\n",
       "rkJggg==\n",
       "\" style=\"display:inline;vertical-align:middle;\" /></a></td></tr>\n",
       "<tr><td>2</td><td>Variable</td><td></td><td><a class=\"ProveItLink\" href=\"../../../../../__pv_it/185e6d30f167ee2ee5ef3321098dc98e0d77bc590/expr.ipynb\"><img src=\"data:image/png;base64,iVBORw0KGgoAAAANSUhEUgAAABEAAAAOBAMAAAA7w+qHAAAALVBMVEX///8QEBCYmJjc3Ny6urru\n",
       "7u5mZmZ2dnaqqqrMzMxEREQyMjJUVFSIiIgAAABETr/8AAAAAXRSTlMAQObYZgAAAGpJREFUCNdj\n",
       "YGC48+7MmV0TGEDgNQMDxwsQg/M5kMgLABK8T4DEvAtAgusBkLA7ACT4FoDEDsAk9AqAxD2QCecc\n",
       "gMQ6kAGCIOIVEDM9Ahn3FkgwgnTxvgQSqwOgxs1OADLC1r05cyoTyAAAv4Qe+njAWvgAAAAASUVO\n",
       "RK5CYII=\n",
       "\" style=\"display:inline;vertical-align:middle;\" /></a></td></tr>\n",
       "<tr><td>3</td><td>Variable</td><td></td><td><a class=\"ProveItLink\" href=\"../../../../../__pv_it/9995c55100c62d7d8a012a35bafc852acbe03cf00/expr.ipynb\"><img src=\"data:image/png;base64,iVBORw0KGgoAAAANSUhEUgAAABAAAAAOBAMAAADUAYG5AAAALVBMVEX///8iIiKYmJjc3Nzu7u7M\n",
       "zMx2dnZmZma6urpERESqqqoyMjJUVFSIiIgAAACbLqVTAAAAAXRSTlMAQObYZgAAAGVJREFUCNdj\n",
       "YGC48+7MmdOvGYAARKwEYo63QIIdiNmeAglfIOZ+wMDGwAxk8E1gUAIpZejbc/oxmJEXwLABzNjH\n",
       "wJDAEABkvGRgMGC5ADWGzQFqjDnEGAZWUQYGn3lvzpyRE2AAAIznGVQJqiN4AAAAAElFTkSuQmCC\n",
       "\" style=\"display:inline;vertical-align:middle;\" /></a></td></tr>\n",
       "<tr><td>4</td><td>Variable</td><td></td><td><a class=\"ProveItLink\" href=\"../../../../../__pv_it/2cbe72a7ad6f655694dd697106680215e8489b600/expr.ipynb\"><img src=\"data:image/png;base64,iVBORw0KGgoAAAANSUhEUgAAAA8AAAAOBAMAAAACpFvcAAAALVBMVEX///8QEBBERERUVFS6urqI\n",
       "iIhmZmaqqqrc3Nzu7u6YmJgyMjIiIiLMzMwAAADtIaYWAAAAAXRSTlMAQObYZgAAAFtJREFUCNdj\n",
       "YACBOwxQsA9Kc52bAGG05zVAGAFxDmCaZULdAjBjCsO9ADDDgaEvAUTzGhvbKYCVMDAwbgAxChgY\n",
       "eASANAeQwf0AyJgNxEwvGRia5HYwcOm9TgAA6BoR3jrzwFcAAAAASUVORK5CYII=\n",
       "\" style=\"display:inline;vertical-align:middle;\" /></a></td></tr>\n",
       "<tr><td>5</td><td>Variable</td><td></td><td><a class=\"ProveItLink\" href=\"../../../../../__pv_it/077b2ff79244fb4582cbe22c6e3356fa92a52f2f0/expr.ipynb\"><img src=\"data:image/png;base64,iVBORw0KGgoAAAANSUhEUgAAABAAAAAOBAMAAADUAYG5AAAAMFBMVEX///+qqqru7u4iIiJ2dnbc\n",
       "3NyIiIjMzMxmZmYQEBC6uroyMjJERERUVFSYmJgAAADLUcuvAAAAAXRSTlMAQObYZgAAAGpJREFU\n",
       "CNdjYGB4+//u3dMLGIBgDgMDxy8gzf4NiP8CGWxfGRj4vgAZPBMYGJgnARn8FxhY9ygAGfXX0pof\n",
       "gDTlBzAw2YIYJ0EckBBI53sHoBH/gIz7AhBjWH9DjancBLTl/N+7t/cxMAAA3u4f/5xagjYAAAAA\n",
       "SUVORK5CYII=\n",
       "\" style=\"display:inline;vertical-align:middle;\" /></a></td></tr>\n",
       "<tr><td>6</td><td>Variable</td><td></td><td><a class=\"ProveItLink\" href=\"../../../../../__pv_it/6d1586c49fb5fd7602fde2bbc54560e7304e8ccf0/expr.ipynb\"><img src=\"data:image/png;base64,iVBORw0KGgoAAAANSUhEUgAAABAAAAAOBAMAAADUAYG5AAAAMFBMVEX///9mZmYiIiLc3Nzu7u7M\n",
       "zMyqqqp2dna6urqYmJhEREQyMjIQEBBUVFSIiIgAAABBzvKsAAAAAXRSTlMAQObYZgAAAFxJREFU\n",
       "CNdjYGB4+//u3Tv/GIDgNxCvBGKO70BiBhCzfwMSqUDM/YWBmWEKkMGvwOAJUsrQL8AgDGbU7710\n",
       "AMzY78BwAcz4xMAygQFmDAiw/4AyuD9AaMf1f8GaAdy+F/r2qjhkAAAAAElFTkSuQmCC\n",
       "\" style=\"display:inline;vertical-align:middle;\" /></a></td></tr>\n",
       "<tr><td>7</td><td>Variable</td><td></td><td><a class=\"ProveItLink\" href=\"../../../../../__pv_it/994260d00d104a1ab9cf940a007fb6a4ff36f79e0/expr.ipynb\"><img src=\"data:image/png;base64,iVBORw0KGgoAAAANSUhEUgAAAA8AAAAOBAMAAAACpFvcAAAAMFBMVEX///+qqqrMzMwiIiIyMjK6\n",
       "uroQEBB2dnbc3NyYmJhmZmZUVFRERESIiIju7u4AAACtjd3MAAAAAXRSTlMAQObYZgAAAG5JREFU\n",
       "CNdjYGDgu7NrJccCBgaGsgkMrMsmMDA8sQNy6hsYGNweABnKDAxcH4E0QxcDQ78DiPGCgWH9BAYI\n",
       "sG+AMv4D8S2X4wwMaSBefQADw36Qbn8g1r/AwMDxBcjg/MnAoG0Oktf2XjVhEgMDAJHQGYM57+uu\n",
       "AAAAAElFTkSuQmCC\n",
       "\" style=\"display:inline;vertical-align:middle;\" /></a></td></tr>\n",
       "<tr><td>8</td><td>Variable</td><td></td><td><a class=\"ProveItLink\" href=\"../../../../../__pv_it/fabf74ac81cd36aa91075816201d2b14195a56e60/expr.ipynb\"><img src=\"data:image/png;base64,iVBORw0KGgoAAAANSUhEUgAAABMAAAAOBAMAAAA/Njq6AAAALVBMVEX///+qqqp2dnbMzMy6uroi\n",
       "IiIyMjLc3NyYmJju7u5mZmZERERUVFSIiIgAAABaGT/LAAAAAXRSTlMAQObYZgAAAGhJREFUCNdj\n",
       "YGC4827XhJ53uwoYgOAZED8FMRhY3jIwML8CM5keMzDwPgQz2R4wMHC/BDP5NgBxAJjpl3PmzL4F\n",
       "YKaeAQPDPQEwMw+I900AM19DjYYa+whh7BM0Y2fte3OB69wbBQYGADOSITJjbaXUAAAAAElFTkSu\n",
       "QmCC\n",
       "\" style=\"display:inline;vertical-align:middle;\" /></a></td></tr>\n",
       "<tr><td>9</td><td>Variable</td><td></td><td><a class=\"ProveItLink\" href=\"../../../../../__pv_it/485fbf85ade6e4660c176b077846a05437e7af3e0/expr.ipynb\"><img src=\"data:image/png;base64,iVBORw0KGgoAAAANSUhEUgAAAAsAAAAOBAMAAAALT/umAAAAIVBMVEX////MzMyIiIi6uroyMjLc\n",
       "3NxmZmZERERUVFR2dnYAAABv5Bk0AAAAAXRSTlMAQObYZgAAAD9JREFUCNdjYGCYsaosgAEIloAI\n",
       "BuaVYIpzMZhiWQCmuArAlJUCmJolAKa8wCTDcoi2RRBtC5G0hVWtmMDAAAAhAQsT8Qr5GAAAAABJ\n",
       "RU5ErkJggg==\n",
       "\" style=\"display:inline;vertical-align:middle;\" /></a></td></tr>\n",
       "</table>\n"
      ],
      "text/plain": [
       "0. (C , D , E , A , B , F , G , H , I)\n",
       "   core type: ExprTuple\n",
       "   sub-expressions: 1, 2, 3, 4, 5, 6, 7, 8, 9\n",
       "1. C\n",
       "   core type: Variable\n",
       "   sub-expressions: \n",
       "2. D\n",
       "   core type: Variable\n",
       "   sub-expressions: \n",
       "3. E\n",
       "   core type: Variable\n",
       "   sub-expressions: \n",
       "4. A\n",
       "   core type: Variable\n",
       "   sub-expressions: \n",
       "5. B\n",
       "   core type: Variable\n",
       "   sub-expressions: \n",
       "6. F\n",
       "   core type: Variable\n",
       "   sub-expressions: \n",
       "7. G\n",
       "   core type: Variable\n",
       "   sub-expressions: \n",
       "8. H\n",
       "   core type: Variable\n",
       "   sub-expressions: \n",
       "9. I\n",
       "   core type: Variable\n",
       "   sub-expressions: "
      ]
     },
     "execution_count": 4,
     "metadata": {},
     "output_type": "execute_result"
    }
   ],
   "source": [
    "# display the expression information\n",
    "expr.exprInfo()"
   ]
  },
  {
   "cell_type": "code",
   "execution_count": null,
   "metadata": {},
   "outputs": [],
   "source": []
  }
 ],
 "metadata": {
  "kernelspec": {
   "display_name": "Python 3",
   "language": "python",
   "name": "python3"
  }
 },
 "nbformat": 4,
 "nbformat_minor": 0
}
