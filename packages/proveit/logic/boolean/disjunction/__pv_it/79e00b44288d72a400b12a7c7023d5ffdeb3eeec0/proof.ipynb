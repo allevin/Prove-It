{
 "cells": [
  {
   "cell_type": "markdown",
   "metadata": {},
   "source": [
    "Show the Proof\n",
    "========"
   ]
  },
  {
   "cell_type": "code",
   "execution_count": 1,
   "metadata": {},
   "outputs": [
    {
     "data": {
      "text/html": [
       "<table><tr><th>&nbsp;</th><th>step type</th><th>requirements</th><th>statement</th></tr>\n",
       "<tr><td>0</td><td>specialization</td><td>1, 2</td><td><span style=\"font-size:20px;\"><a class=\"ProveItLink\" href=\"../edd8455a49d47780786b5faa6e783100cb7d31cc0/expr.ipynb\"><img src=\"data:image/png;base64,iVBORw0KGgoAAAANSUhEUgAAADAAAAAVBAMAAADyTXAxAAAAMFBMVEX///9ERETc3NyqqqpUVFS6\n",
       "urrMzMwyMjIQEBCIiIh2dnYiIiLu7u5mZmaYmJgAAABJJ2g3AAAAAXRSTlMAQObYZgAAALxJREFU\n",
       "KM9jYGDgu8eABrIWgUieXQwYIMMASHB+QBFj2wAkeAuABFcDigT7B5gYmsTrP9glmGw/YZfg5PyK\n",
       "XSKG+R9MDOwCGOAJYPsJpPhALsgIYGC4vRsIQP5hZWD6C1JQy8CQ0gZTnQLCLi4fQWzGOgaGiAQk\n",
       "CaDudhAbpJulACHBDKR2wOzg2oCQUAZS9RjOZWPgAWmWP4DhDyaJ7woMD//XYg8rMMAvwYdFAhwa\n",
       "PDuxxGAAiORbjC3OAaHOM6CzgdAAAAAAAElFTkSuQmCC\n",
       "\" style=\"display:inline;vertical-align:middle;\" /></a> <a class=\"ProveItLink\" href=\"proof.ipynb\" style=\"text-decoration: none\">&#x22A2;&nbsp;</a><a class=\"ProveItLink\" href=\"../426f24f13399e2dc2a5e99c45fae64cafe24cc1a0/expr.ipynb\"><img src=\"data:image/png;base64,iVBORw0KGgoAAAANSUhEUgAAADoAAAAOBAMAAACMfhKgAAAALVBMVEX///8QEBBERERUVFS6urqI\n",
       "iIhmZmaqqqrc3Nzu7u6YmJgyMjIiIiLMzMwAAADtIaYWAAAAAXRSTlMAQObYZgAAAHpJREFUGNNj\n",
       "YACBOwyYoBXO2odF9hqMwXVuAh7Z9rwGPLIBcQ64ZVkm1C3ALTuF4V4AiM7eDQKb0WQdGPoScOrl\n",
       "NTa2U8Apy8LAwLgBp2wBAwOPAIiRcwYEDqHIcgBluR/g0jsbiJle4pBtktvBwKX3Gs3RQEsOAi0B\n",
       "AOmUK3k+2YIcAAAAAElFTkSuQmCC\n",
       "\" style=\"display:inline;vertical-align:middle;\" /></a></span></td></tr>\n",
       "<tr><td>&nbsp;</td><td colspan=4 style=\"text-align:left\"><span style=\"font-size:20px;\"><a class=\"ProveItLink\" href=\"../../../../../__pv_it/2cbe72a7ad6f655694dd697106680215e8489b600/expr.ipynb\"><img src=\"data:image/png;base64,iVBORw0KGgoAAAANSUhEUgAAAA8AAAAOBAMAAAACpFvcAAAALVBMVEX///8QEBBERERUVFS6urqI\n",
       "iIhmZmaqqqrc3Nzu7u6YmJgyMjIiIiLMzMwAAADtIaYWAAAAAXRSTlMAQObYZgAAAFtJREFUCNdj\n",
       "YACBOwxQsA9Kc52bAGG05zVAGAFxDmCaZULdAjBjCsO9ADDDgaEvAUTzGhvbKYCVMDAwbgAxChgY\n",
       "eASANAeQwf0AyJgNxEwvGRia5HYwcOm9TgAA6BoR3jrzwFcAAAAASUVORK5CYII=\n",
       "\" style=\"display:inline;vertical-align:middle;\" /></a> : <a class=\"ProveItLink\" href=\"../../../../../__pv_it/2cbe72a7ad6f655694dd697106680215e8489b600/expr.ipynb\"><img src=\"data:image/png;base64,iVBORw0KGgoAAAANSUhEUgAAAA8AAAAOBAMAAAACpFvcAAAALVBMVEX///8QEBBERERUVFS6urqI\n",
       "iIhmZmaqqqrc3Nzu7u6YmJgyMjIiIiLMzMwAAADtIaYWAAAAAXRSTlMAQObYZgAAAFtJREFUCNdj\n",
       "YACBOwxQsA9Kc52bAGG05zVAGAFxDmCaZULdAjBjCsO9ADDDgaEvAUTzGhvbKYCVMDAwbgAxChgY\n",
       "eASANAeQwf0AyJgNxEwvGRia5HYwcOm9TgAA6BoR3jrzwFcAAAAASUVORK5CYII=\n",
       "\" style=\"display:inline;vertical-align:middle;\" /></a></span></td></tr><tr><td>1</td><td>axiom</td><td></td><td><span style=\"font-size:20px;\"> <a class=\"ProveItLink\" href=\"../../../negation/_axioms_.ipynb#negationElim\" style=\"text-decoration: none\">&#x22A2;&nbsp;</a><a class=\"ProveItLink\" href=\"../../../negation/__pv_it/3b08940eb52ec7364a09d58733ea5eec05fbe9620/expr.ipynb\"><img src=\"data:image/png;base64,iVBORw0KGgoAAAANSUhEUgAAAJcAAAAXBAMAAAD0AcCSAAAAMFBMVEX///8QEBC6urrMzMxUVFRm\n",
       "ZmZERETc3NwyMjKqqqp2dnaIiIiYmJgiIiLu7u4AAAAU9Wx4AAAAAXRSTlMAQObYZgAAAbxJREFU\n",
       "OMtjYKAmeECsQqYN+OUPAfEFEOM0EYaZQChbLFLVIILVgIFhJYjRR4RhUDX9WKRMwWQDA0MZkGJP\n",
       "IGwWN8SXPPcf4DLsFAMDB1CSdQJhwxghhlTGF+Ay7CHQquXl5bVE+FIDQm3Yr4DLMDagk76lpd0i\n",
       "wrAoSJQ+mH8Al2FcAQwMzgwM6WBOO0Q5qrp2GKMHTD5isAeHXUQHCLSgGMYJjAEVBr4GcNB+gjgW\n",
       "xSyoIBAIgUkFhvoAXC5jEmBg4GXgBrv86R8shkEFgQBsKrOLi38CLsOYPwDj/AAvOKLWXcViGFQQ\n",
       "ZhgwDBgb8BnG1wBO28wb0jANgwkCgSSIAMYXrwCIEXsXBK5heJMh3QnEZGGIxTQMJggEOaDEDTSM\n",
       "4wMul/GA3DwVnD1PMuxHMmxZWlpaA0IQCJYC8QuQ/D98SYOBERTZfFdD8x+guiwBIQgEusCcJ9/O\n",
       "wJP/Ay06gT6+CPYxByg584DUsxYw2BugGwYXBFlZQChZP4SzdBgY+A+gGwYXBFm5gJBhq2GMJ98Y\n",
       "2P3voBpmgBAkppjiw5Jm2HApLiFgGEsBCYaxEyi2NzOQYBg5gIUCvQCemG+1sUJnVwAAAABJRU5E\n",
       "rkJggg==\n",
       "\" style=\"display:inline;vertical-align:middle;\" /></a></span></td></tr>\n",
       "<tr><td>&nbsp;</td><td colspan=4 style-\"text-align:left\"><a class=\"ProveItLink\" href=\"../../../negation/_axioms_.ipynb#negationElim\">proveit.logic.boolean.negation.negationElim</a></td></tr><tr><td>2</td><td>assumption</td><td></td><td><span style=\"font-size:20px;\"><a class=\"ProveItLink\" href=\"../edd8455a49d47780786b5faa6e783100cb7d31cc0/expr.ipynb\"><img src=\"data:image/png;base64,iVBORw0KGgoAAAANSUhEUgAAADAAAAAVBAMAAADyTXAxAAAAMFBMVEX///9ERETc3NyqqqpUVFS6\n",
       "urrMzMwyMjIQEBCIiIh2dnYiIiLu7u5mZmaYmJgAAABJJ2g3AAAAAXRSTlMAQObYZgAAALxJREFU\n",
       "KM9jYGDgu8eABrIWgUieXQwYIMMASHB+QBFj2wAkeAuABFcDigT7B5gYmsTrP9glmGw/YZfg5PyK\n",
       "XSKG+R9MDOwCGOAJYPsJpPhALsgIYGC4vRsIQP5hZWD6C1JQy8CQ0gZTnQLCLi4fQWzGOgaGiAQk\n",
       "CaDudhAbpJulACHBDKR2wOzg2oCQUAZS9RjOZWPgAWmWP4DhDyaJ7woMD//XYg8rMMAvwYdFAhwa\n",
       "PDuxxGAAiORbjC3OAaHOM6CzgdAAAAAAAElFTkSuQmCC\n",
       "\" style=\"display:inline;vertical-align:middle;\" /></a> <a class=\"ProveItLink\" href=\"../04d7501518712e5b9d432219fd2131665990c4a50/proof.ipynb\" style=\"text-decoration: none\">&#x22A2;&nbsp;</a><a class=\"ProveItLink\" href=\"../feaa1d0e6d92ad9ead8e5ffd1f92697e3912387a0/expr.ipynb\"><img src=\"data:image/png;base64,iVBORw0KGgoAAAANSUhEUgAAABwAAAAOBAMAAADOPWE3AAAAMFBMVEX///8QEBBERES6urqIiIiq\n",
       "qqrc3Nzu7u6YmJgyMjJUVFTMzMx2dnYiIiJmZmYAAADMbjvTAAAAAXRSTlMAQObYZgAAAGNJREFU\n",
       "CNdjYEAA7gsMyIDzAwq39zsyjy3uGzKXheUzMtec9QcSj92A+wsDw9u7QHAHyGVmYPsHldkFwqtW\n",
       "fULiGjAwSCK4rEDqIoKbCqTmw1zLwD4BSOkXwFyk+DOBoen/PABSrhtHsYt+gAAAAABJRU5ErkJg\n",
       "gg==\n",
       "\" style=\"display:inline;vertical-align:middle;\" /></a></span></td></tr>\n",
       "</table>"
      ],
      "text/plain": [
       "<proveit._core_.proof._ShowProof at 0x7f94eb5a7b38>"
      ]
     },
     "execution_count": 1,
     "metadata": {},
     "output_type": "execute_result"
    }
   ],
   "source": [
    "import proveit\n",
    "%show_proof"
   ]
  },
  {
   "cell_type": "code",
   "execution_count": null,
   "metadata": {},
   "outputs": [],
   "source": []
  }
 ],
 "metadata": {
  "kernelspec": {
   "display_name": "Python 3",
   "language": "python",
   "name": "python3"
  }
 },
 "nbformat": 4,
 "nbformat_minor": 0
}
