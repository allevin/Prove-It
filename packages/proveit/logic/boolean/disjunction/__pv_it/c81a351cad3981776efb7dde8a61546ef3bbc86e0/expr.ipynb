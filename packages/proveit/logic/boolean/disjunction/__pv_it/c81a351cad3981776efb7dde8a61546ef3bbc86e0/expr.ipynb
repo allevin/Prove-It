{
 "cells": [
  {
   "cell_type": "markdown",
   "metadata": {},
   "source": [
    "Expression of type <a class=\"ProveItLink\" href=\"../../../../../../../doc/html/api/proveit.ExprTuple.html\">ExprTuple</a>\n",
    "=======================\n",
    "# from context <a class=\"ProveItLink\" href=\"../../_context_.ipynb\">proveit.logic.boolean.disjunction</a>"
   ]
  },
  {
   "cell_type": "code",
   "execution_count": 1,
   "metadata": {},
   "outputs": [],
   "source": [
    "# import Expression classes needed to build the expression\n",
    "from proveit import ExprTuple\n",
    "from proveit._common_ import E, F, G"
   ]
  },
  {
   "cell_type": "code",
   "execution_count": 2,
   "metadata": {},
   "outputs": [
    {
     "data": {
      "text/html": [
       "<strong id=\"expr\">expr:</strong> <a class=\"ProveItLink\" href=\"expr.ipynb\"><img src=\"data:image/png;base64,iVBORw0KGgoAAAANSUhEUgAAAE0AAAAVBAMAAADx+n4ZAAAAMFBMVEX////c3NwiIiJERESqqqqY\n",
       "mJh2dnZmZmYQEBDu7u4yMjJUVFTMzMyIiIi6uroAAAAs73DqAAAAAXRSTlMAQObYZgAAAZNJREFU\n",
       "KM+NUj0sQ1EU/l7oa1+19TaDQSeJRFJLrZVYDW8hkYh0Y5HW4GfTwWDiGURDxFsk6FCxkL5BY+1A\n",
       "YjAwlNHSqp+Eos559732Tuom99zv3Pud973zA/x3Ra7bUqbZlGjfNWy78OnesnP+LbB2c7agpP1F\n",
       "gkfsM2fUC2cnLuCsgciyAQsIs2yEw/3ej7x7UtgZIJPSMQEETILqF5k9l6e+khlz4CE/XgJZ4In9\n",
       "YBUqFJcX/CA4ycjPEegBOkawyLB7COPN7Lqj2BKoz2K7SRJpHDCs5ArPTV4ljXmBVgz3qtPCOp+p\n",
       "IqwmL5U7zQgU073UMvjhMw8kUXQv8yZOBGrQvj0eBkJVwXsBdM3rSw2aq7fmfL7s8Fa98qmmVD6x\n",
       "Lkyhxbpxr3yUvuaUz1EAU65IQuHu+CzMiPIhNAjsR12HQmr8/Ebt74dTl0dgN1G37RhxslSc7USd\n",
       "q6JtcK6l3JIxxbFlBHRpgB6kcZPvqW++pOQbLeiTB3DOm6u/eRo3obflh6U3ecq7+B+U9nN/D/wC\n",
       "j3BqAoZUxboAAAAASUVORK5CYII=\n",
       "\" style=\"display:inline;vertical-align:middle;\" /></a><br>"
      ],
      "text/plain": [
       "expr: (E , F , G)"
      ]
     },
     "execution_count": 2,
     "metadata": {},
     "output_type": "execute_result"
    }
   ],
   "source": [
    "# build up the expression from sub-expressions\n",
    "expr = ExprTuple(E, F, G)"
   ]
  },
  {
   "cell_type": "code",
   "execution_count": 3,
   "metadata": {},
   "outputs": [
    {
     "name": "stdout",
     "output_type": "stream",
     "text": [
      "Passed sanity check: built 'expr' is the same as the stored Expression.\n"
     ]
    }
   ],
   "source": [
    "# check that the built expression is the same as the stored expression\n",
    "%check_expr"
   ]
  },
  {
   "cell_type": "code",
   "execution_count": 4,
   "metadata": {},
   "outputs": [
    {
     "data": {
      "text/html": [
       "<table><tr><th>&nbsp;</th><th>core type</th><th>sub-expressions</th><th>expression</th></tr>\n",
       "<tr><td>0</td><td>ExprTuple</td><td>1, 2, 3</td><td><a class=\"ProveItLink\" href=\"expr.ipynb\"><img src=\"data:image/png;base64,iVBORw0KGgoAAAANSUhEUgAAAE0AAAAVBAMAAADx+n4ZAAAAMFBMVEX////c3NwiIiJERESqqqqY\n",
       "mJh2dnZmZmYQEBDu7u4yMjJUVFTMzMyIiIi6uroAAAAs73DqAAAAAXRSTlMAQObYZgAAAZNJREFU\n",
       "KM+NUj0sQ1EU/l7oa1+19TaDQSeJRFJLrZVYDW8hkYh0Y5HW4GfTwWDiGURDxFsk6FCxkL5BY+1A\n",
       "YjAwlNHSqp+Eos559732Tuom99zv3Pud973zA/x3Ra7bUqbZlGjfNWy78OnesnP+LbB2c7agpP1F\n",
       "gkfsM2fUC2cnLuCsgciyAQsIs2yEw/3ej7x7UtgZIJPSMQEETILqF5k9l6e+khlz4CE/XgJZ4In9\n",
       "YBUqFJcX/CA4ycjPEegBOkawyLB7COPN7Lqj2BKoz2K7SRJpHDCs5ArPTV4ljXmBVgz3qtPCOp+p\n",
       "IqwmL5U7zQgU073UMvjhMw8kUXQv8yZOBGrQvj0eBkJVwXsBdM3rSw2aq7fmfL7s8Fa98qmmVD6x\n",
       "Lkyhxbpxr3yUvuaUz1EAU65IQuHu+CzMiPIhNAjsR12HQmr8/Ebt74dTl0dgN1G37RhxslSc7USd\n",
       "q6JtcK6l3JIxxbFlBHRpgB6kcZPvqW++pOQbLeiTB3DOm6u/eRo3obflh6U3ecq7+B+U9nN/D/wC\n",
       "j3BqAoZUxboAAAAASUVORK5CYII=\n",
       "\" style=\"display:inline;vertical-align:middle;\" /></a></td></tr>\n",
       "<tr><td>1</td><td>Variable</td><td></td><td><a class=\"ProveItLink\" href=\"../../../../../__pv_it/9995c55100c62d7d8a012a35bafc852acbe03cf00/expr.ipynb\"><img src=\"data:image/png;base64,iVBORw0KGgoAAAANSUhEUgAAABAAAAAOBAMAAADUAYG5AAAALVBMVEX///8iIiKYmJjc3Nzu7u7M\n",
       "zMx2dnZmZma6urpERESqqqoyMjJUVFSIiIgAAACbLqVTAAAAAXRSTlMAQObYZgAAAGVJREFUCNdj\n",
       "YGC48+7MmdOvGYAARKwEYo63QIIdiNmeAglfIOZ+wMDGwAxk8E1gUAIpZejbc/oxmJEXwLABzNjH\n",
       "wJDAEABkvGRgMGC5ADWGzQFqjDnEGAZWUQYGn3lvzpyRE2AAAIznGVQJqiN4AAAAAElFTkSuQmCC\n",
       "\" style=\"display:inline;vertical-align:middle;\" /></a></td></tr>\n",
       "<tr><td>2</td><td>Variable</td><td></td><td><a class=\"ProveItLink\" href=\"../../../../../__pv_it/6d1586c49fb5fd7602fde2bbc54560e7304e8ccf0/expr.ipynb\"><img src=\"data:image/png;base64,iVBORw0KGgoAAAANSUhEUgAAABAAAAAOBAMAAADUAYG5AAAAMFBMVEX///9mZmYiIiLc3Nzu7u7M\n",
       "zMyqqqp2dna6urqYmJhEREQyMjIQEBBUVFSIiIgAAABBzvKsAAAAAXRSTlMAQObYZgAAAFxJREFU\n",
       "CNdjYGB4+//u3Tv/GIDgNxCvBGKO70BiBhCzfwMSqUDM/YWBmWEKkMGvwOAJUsrQL8AgDGbU7710\n",
       "AMzY78BwAcz4xMAygQFmDAiw/4AyuD9AaMf1f8GaAdy+F/r2qjhkAAAAAElFTkSuQmCC\n",
       "\" style=\"display:inline;vertical-align:middle;\" /></a></td></tr>\n",
       "<tr><td>3</td><td>Variable</td><td></td><td><a class=\"ProveItLink\" href=\"../../../../../__pv_it/994260d00d104a1ab9cf940a007fb6a4ff36f79e0/expr.ipynb\"><img src=\"data:image/png;base64,iVBORw0KGgoAAAANSUhEUgAAAA8AAAAOBAMAAAACpFvcAAAAMFBMVEX///+qqqrMzMwiIiIyMjK6\n",
       "uroQEBB2dnbc3NyYmJhmZmZUVFRERESIiIju7u4AAACtjd3MAAAAAXRSTlMAQObYZgAAAG5JREFU\n",
       "CNdjYGDgu7NrJccCBgaGsgkMrMsmMDA8sQNy6hsYGNweABnKDAxcH4E0QxcDQ78DiPGCgWH9BAYI\n",
       "sG+AMv4D8S2X4wwMaSBefQADw36Qbn8g1r/AwMDxBcjg/MnAoG0Oktf2XjVhEgMDAJHQGYM57+uu\n",
       "AAAAAElFTkSuQmCC\n",
       "\" style=\"display:inline;vertical-align:middle;\" /></a></td></tr>\n",
       "</table>\n"
      ],
      "text/plain": [
       "0. (E , F , G)\n",
       "   core type: ExprTuple\n",
       "   sub-expressions: 1, 2, 3\n",
       "1. E\n",
       "   core type: Variable\n",
       "   sub-expressions: \n",
       "2. F\n",
       "   core type: Variable\n",
       "   sub-expressions: \n",
       "3. G\n",
       "   core type: Variable\n",
       "   sub-expressions: "
      ]
     },
     "execution_count": 4,
     "metadata": {},
     "output_type": "execute_result"
    }
   ],
   "source": [
    "# display the expression information\n",
    "expr.exprInfo()"
   ]
  },
  {
   "cell_type": "code",
   "execution_count": null,
   "metadata": {},
   "outputs": [],
   "source": []
  }
 ],
 "metadata": {
  "kernelspec": {
   "display_name": "Python 3",
   "language": "python",
   "name": "python3"
  }
 },
 "nbformat": 4,
 "nbformat_minor": 0
}
