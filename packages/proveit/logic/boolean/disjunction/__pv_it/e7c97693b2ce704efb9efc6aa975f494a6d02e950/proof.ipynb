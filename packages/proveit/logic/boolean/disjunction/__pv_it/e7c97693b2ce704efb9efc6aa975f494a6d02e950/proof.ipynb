{
 "cells": [
  {
   "cell_type": "markdown",
   "metadata": {},
   "source": [
    "Show the Proof\n",
    "========"
   ]
  },
  {
   "cell_type": "code",
   "execution_count": 1,
   "metadata": {},
   "outputs": [
    {
     "data": {
      "text/html": [
       "<table><tr><th>&nbsp;</th><th>step type</th><th>requirements</th><th>statement</th></tr>\n",
       "<tr><td>0</td><td>specialization</td><td>1, 2</td><td><span style=\"font-size:20px;\"><a class=\"ProveItLink\" href=\"../ff772d4a4ccd5360dccfe03eeb42b0d5539e581a0/expr.ipynb\"><img src=\"data:image/png;base64,iVBORw0KGgoAAAANSUhEUgAAAGsAAAAVBAMAAACzuQ2OAAAAMFBMVEX////c3NxERESqqqpUVFS6\n",
       "urrMzMwyMjIQEBCIiIh2dnYiIiLu7u5mZmaYmJgAAABXZE4RAAAAAXRSTlMAQObYZgAAAclJREFU\n",
       "OMtjYGDgu8dACmBbJQCieHahiEbi08IXANLXDGJyfkAxywFCbUBT7//FxamUgeEaiHMdRHA1IMuz\n",
       "H4BQYLMCwCaABTgUGBjuBzCwg9grMLXNhFCv/4BIN4RI/gQgdmDgW4BdWw+YZLT9CKKSQMQesMh8\n",
       "YDi8X8DA04BVG2sBmOLk/Ap2KlAt8wWwiAYQ7wB6QBmrNt4FYCqG+R+IAmlhBwc3wxcGBnEdIL0W\n",
       "po23ADlEHoDjJIDtJwPUgUmQkP0yc+4+EMMciN+DGBnA8Lq9GwhA8ccBDjxWBsa/sAByhbga6NfT\n",
       "oLiJAJkNdERKG8ymFCDmB2tLcXH5BBbiZuCBuIUJ6BNOkMPzQTx1oJsiEjC0AYl2iFcNuMCuZuAH\n",
       "2sT3C6qNGxQALAVI2jgMQCEBCjVIRBRwQ+TygbpZPkMdCfYb1wYkbUwgw4WBuB4i5vaSAR5t8iDz\n",
       "n2NEACgVcQF9C/aOPiSRJUEiGxRtbO0HkCMANbo3MDBqfBdgePS/FhIhkMi+9N/FpRzsy1LsiasR\n",
       "LXMdQOXjSFwMr/DnUa4JMG182DIOLnAcnt94diKLMzrg1eYIcngrJOcuRpaQxKeLMwFalgAA8aNx\n",
       "Ab1ztcAAAAAASUVORK5CYII=\n",
       "\" style=\"display:inline;vertical-align:middle;\" /></a> <a class=\"ProveItLink\" href=\"proof.ipynb\" style=\"text-decoration: none\">&#x22A2;&nbsp;</a><a class=\"ProveItLink\" href=\"../feaa1d0e6d92ad9ead8e5ffd1f92697e3912387a0/expr.ipynb\"><img src=\"data:image/png;base64,iVBORw0KGgoAAAANSUhEUgAAABwAAAAOBAMAAADOPWE3AAAAMFBMVEX///8QEBBERES6urqIiIiq\n",
       "qqrc3Nzu7u6YmJgyMjJUVFTMzMx2dnYiIiJmZmYAAADMbjvTAAAAAXRSTlMAQObYZgAAAGNJREFU\n",
       "CNdjYEAA7gsMyIDzAwq39zsyjy3uGzKXheUzMtec9QcSj92A+wsDw9u7QHAHyGVmYPsHldkFwqtW\n",
       "fULiGjAwSCK4rEDqIoKbCqTmw1zLwD4BSOkXwFyk+DOBoen/PABSrhtHsYt+gAAAAABJRU5ErkJg\n",
       "gg==\n",
       "\" style=\"display:inline;vertical-align:middle;\" /></a></span></td></tr>\n",
       "<tr><td>&nbsp;</td><td colspan=4 style=\"text-align:left\"><span style=\"font-size:20px;\"><a class=\"ProveItLink\" href=\"../../../../../__pv_it/2cbe72a7ad6f655694dd697106680215e8489b600/expr.ipynb\"><img src=\"data:image/png;base64,iVBORw0KGgoAAAANSUhEUgAAAA8AAAAOBAMAAAACpFvcAAAALVBMVEX///8QEBBERERUVFS6urqI\n",
       "iIhmZmaqqqrc3Nzu7u6YmJgyMjIiIiLMzMwAAADtIaYWAAAAAXRSTlMAQObYZgAAAFtJREFUCNdj\n",
       "YACBOwxQsA9Kc52bAGG05zVAGAFxDmCaZULdAjBjCsO9ADDDgaEvAUTzGhvbKYCVMDAwbgAxChgY\n",
       "eASANAeQwf0AyJgNxEwvGRia5HYwcOm9TgAA6BoR3jrzwFcAAAAASUVORK5CYII=\n",
       "\" style=\"display:inline;vertical-align:middle;\" /></a> : <a class=\"ProveItLink\" href=\"../../../../../__pv_it/2cbe72a7ad6f655694dd697106680215e8489b600/expr.ipynb\"><img src=\"data:image/png;base64,iVBORw0KGgoAAAANSUhEUgAAAA8AAAAOBAMAAAACpFvcAAAALVBMVEX///8QEBBERERUVFS6urqI\n",
       "iIhmZmaqqqrc3Nzu7u6YmJgyMjIiIiLMzMwAAADtIaYWAAAAAXRSTlMAQObYZgAAAFtJREFUCNdj\n",
       "YACBOwxQsA9Kc52bAGG05zVAGAFxDmCaZULdAjBjCsO9ADDDgaEvAUTzGhvbKYCVMDAwbgAxChgY\n",
       "eASANAeQwf0AyJgNxEwvGRia5HYwcOm9TgAA6BoR3jrzwFcAAAAASUVORK5CYII=\n",
       "\" style=\"display:inline;vertical-align:middle;\" /></a>, <a class=\"ProveItLink\" href=\"../../../../../__pv_it/077b2ff79244fb4582cbe22c6e3356fa92a52f2f0/expr.ipynb\"><img src=\"data:image/png;base64,iVBORw0KGgoAAAANSUhEUgAAABAAAAAOBAMAAADUAYG5AAAAMFBMVEX///+qqqru7u4iIiJ2dnbc\n",
       "3NyIiIjMzMxmZmYQEBC6uroyMjJERERUVFSYmJgAAADLUcuvAAAAAXRSTlMAQObYZgAAAGpJREFU\n",
       "CNdjYGB4+//u3dMLGIBgDgMDxy8gzf4NiP8CGWxfGRj4vgAZPBMYGJgnARn8FxhY9ygAGfXX0pof\n",
       "gDTlBzAw2YIYJ0EckBBI53sHoBH/gIz7AhBjWH9DjancBLTl/N+7t/cxMAAA3u4f/5xagjYAAAAA\n",
       "SUVORK5CYII=\n",
       "\" style=\"display:inline;vertical-align:middle;\" /></a> : <a class=\"ProveItLink\" href=\"../../../../../__pv_it/077b2ff79244fb4582cbe22c6e3356fa92a52f2f0/expr.ipynb\"><img src=\"data:image/png;base64,iVBORw0KGgoAAAANSUhEUgAAABAAAAAOBAMAAADUAYG5AAAAMFBMVEX///+qqqru7u4iIiJ2dnbc\n",
       "3NyIiIjMzMxmZmYQEBC6uroyMjJERERUVFSYmJgAAADLUcuvAAAAAXRSTlMAQObYZgAAAGpJREFU\n",
       "CNdjYGB4+//u3dMLGIBgDgMDxy8gzf4NiP8CGWxfGRj4vgAZPBMYGJgnARn8FxhY9ygAGfXX0pof\n",
       "gDTlBzAw2YIYJ0EckBBI53sHoBH/gIz7AhBjWH9DjancBLTl/N+7t/cxMAAA3u4f/5xagjYAAAAA\n",
       "SUVORK5CYII=\n",
       "\" style=\"display:inline;vertical-align:middle;\" /></a></span></td></tr><tr><td>1</td><td>theorem</td><td></td><td><span style=\"font-size:20px;\"> <a class=\"ProveItLink\" href=\"../../_proofs_/notLeftIfNeither.ipynb\" style=\"text-decoration: none\">&#x22A2;&nbsp;</a><a class=\"ProveItLink\" href=\"../435c58b29f8d6c6d52e48d5cedc7599498d685cb0/expr.ipynb\"><img src=\"data:image/png;base64,iVBORw0KGgoAAAANSUhEUgAAAK4AAAAXBAMAAABg52lgAAAAMFBMVEX///8QEBC6urrMzMxUVFRm\n",
       "ZmZERETc3NwyMjKqqqp2dnaIiIiYmJgiIiLu7u4AAAAU9Wx4AAAAAXRSTlMAQObYZgAAArtJREFU\n",
       "OMu1VU1oE1EQ/rJJuvnZrMGbF40g4kFJDoKiSIKW1luDJgqCNCCmCGIWLC0eSoOXIIjNRRE8GIRq\n",
       "vZQIXkoOXdFD1YO95OJvEC29FEtLa8VanHm7abIvqYLBgbdv3ryZL/O+mfcC/CepdQ6hlCWDFgFm\n",
       "WXndEe5Bx+oYjdPAY9ZvdYTrjB6j4QOGaFIzncAGHTRon4hZrQQfTd5iJ7guR4mu9RuAHob2aHh4\n",
       "pCMa9jlW5WkqGi4Bq9ns27/GXm1jqx/ynKM3avdNmsaBE8CAMBXE985KuicmPJq81RJ/fYa99OfS\n",
       "qQs4Yq9uNuN+RpzpvgvsgZ4XhC9ZvIcRDLPS1eRt6W8i9fUz4AkC9nI7FegDC/94BKNJmnYDIQQ5\n",
       "c3xdF17eBJTvMu49/uj9JjgXGikgaljpAEu2kztBo7u7j5srTm1ihkRBJ6tiN1SGd1bGFUQFFpKY\n",
       "Ik4o/B1wXjAo4xJ5rryFq+fFfXGXs2L3WwwzhowriDnalWGjx4C+DI2qUbE2dzThUi1DYYsHDBxn\n",
       "q4czIIlWnl6BhOsWJ07QOYIRDFJWPys9Na6MkMsNXJVwfYukz9C4LY79EtNid4KqUmvgPsxms3kl\n",
       "wQUtBhehZ9BLjOSh7QQOW3jj9Z+PYZ7jNmybi4uhV9M5AXeRqCg68834GXchfYYiHjC9XUnoPzZx\n",
       "D2w6Du0qQMutUUNc50QYz2sgLtqW/KMxCVfhEp+FexmYI0dsK0Ihfa99j42WK6OH69p+8jbVAtQN\n",
       "qFWJ34xOTCnUjNSJgRdkGK1hhJJ6Zb80pRbcQP0p+rIKte+9ex0TK+mTRQk3ho/QqS0Hf5ncCgiM\n",
       "pVM3yH6q7TvJMi8/9C13zJKphtp0aPtecIdI0iutD22BO9fuLfLXD6vK/0PBmGQwt8D1m21wPf/2\n",
       "rDrCnrdxmPxT9G9006DoFESgVQAAAABJRU5ErkJggg==\n",
       "\" style=\"display:inline;vertical-align:middle;\" /></a></span></td></tr>\n",
       "<tr><td>&nbsp;</td><td colspan=4 style-\"text-align:left\"><a class=\"ProveItLink\" href=\"../../_proofs_/notLeftIfNeither.ipynb\">proveit.logic.boolean.disjunction.notLeftIfNeither</a></td></tr><tr><td>2</td><td>assumption</td><td></td><td><span style=\"font-size:20px;\"><a class=\"ProveItLink\" href=\"../ff772d4a4ccd5360dccfe03eeb42b0d5539e581a0/expr.ipynb\"><img src=\"data:image/png;base64,iVBORw0KGgoAAAANSUhEUgAAAGsAAAAVBAMAAACzuQ2OAAAAMFBMVEX////c3NxERESqqqpUVFS6\n",
       "urrMzMwyMjIQEBCIiIh2dnYiIiLu7u5mZmaYmJgAAABXZE4RAAAAAXRSTlMAQObYZgAAAclJREFU\n",
       "OMtjYGDgu8dACmBbJQCieHahiEbi08IXANLXDGJyfkAxywFCbUBT7//FxamUgeEaiHMdRHA1IMuz\n",
       "H4BQYLMCwCaABTgUGBjuBzCwg9grMLXNhFCv/4BIN4RI/gQgdmDgW4BdWw+YZLT9CKKSQMQesMh8\n",
       "YDi8X8DA04BVG2sBmOLk/Ap2KlAt8wWwiAYQ7wB6QBmrNt4FYCqG+R+IAmlhBwc3wxcGBnEdIL0W\n",
       "po23ADlEHoDjJIDtJwPUgUmQkP0yc+4+EMMciN+DGBnA8Lq9GwhA8ccBDjxWBsa/sAByhbga6NfT\n",
       "oLiJAJkNdERKG8ymFCDmB2tLcXH5BBbiZuCBuIUJ6BNOkMPzQTx1oJsiEjC0AYl2iFcNuMCuZuAH\n",
       "2sT3C6qNGxQALAVI2jgMQCEBCjVIRBRwQ+TygbpZPkMdCfYb1wYkbUwgw4WBuB4i5vaSAR5t8iDz\n",
       "n2NEACgVcQF9C/aOPiSRJUEiGxRtbO0HkCMANbo3MDBqfBdgePS/FhIhkMi+9N/FpRzsy1LsiasR\n",
       "LXMdQOXjSFwMr/DnUa4JMG182DIOLnAcnt94diKLMzrg1eYIcngrJOcuRpaQxKeLMwFalgAA8aNx\n",
       "Ab1ztcAAAAAASUVORK5CYII=\n",
       "\" style=\"display:inline;vertical-align:middle;\" /></a> <a class=\"ProveItLink\" href=\"../e17229044026c44cbac769870605e4a5b57459ec0/proof.ipynb\" style=\"text-decoration: none\">&#x22A2;&nbsp;</a><a class=\"ProveItLink\" href=\"../7287205f651df5658adbe6934eb34d509d29e06a0/expr.ipynb\"><img src=\"data:image/png;base64,iVBORw0KGgoAAAANSUhEUgAAAFYAAAAVBAMAAAAutAQGAAAAMFBMVEX////c3NxERESqqqqYmJgQ\n",
       "EBDu7u4yMjKIiIi6urpUVFTMzMx2dnYiIiJmZmYAAABjE816AAAAAXRSTlMAQObYZgAAAXRJREFU\n",
       "KM9jYCAPzMAnyTIBmce9AEJdQFO0/teqRZUMDK+RBdkTINQHEAk2hRsswKrAwPB+AgM7stoOCOX7\n",
       "DUSuRojsbwDiBQwsB5DUhoFJRruPIGoTiLgGFukXYGDwP8DAFoBQylkApjg4foJdAlTA/AAsogrE\n",
       "V4HuU0ao5YPYMY35C4gCqQOpB4JfDAziakD6HJLXHEAk2wTuHwxQ+zdBwuVXR98VEMOc4e1dILgD\n",
       "8i7Y65wMjP9gPl0JcRTQ/bmg4JwKMXMXEPOD1e5ateoTWIiXgQ3iASagnzhA7tqPrhZIhEOcb8AD\n",
       "dhQDP9BMlj+oalkNQF4C+RkSdgW8ELn9QC1cn1HdwAQyRhiI6yFiqz0Y4MErD3KOOzQpADEPMJTA\n",
       "TtSHxPUmSEyAgpc7PAE1zDgvMDCqfhdgcPpfBwlDSEw8+r9qVTnY5ZVIcRyImr64E1D5yHHM4IM/\n",
       "dfM0YKZJXCAdmcO4AK/ahSg8CXxKOTYwAADeHliu8zOSuAAAAABJRU5ErkJggg==\n",
       "\" style=\"display:inline;vertical-align:middle;\" /></a></span></td></tr>\n",
       "</table>"
      ],
      "text/plain": [
       "<proveit._core_.proof._ShowProof at 0x7f94eb416128>"
      ]
     },
     "execution_count": 1,
     "metadata": {},
     "output_type": "execute_result"
    }
   ],
   "source": [
    "import proveit\n",
    "%show_proof"
   ]
  },
  {
   "cell_type": "code",
   "execution_count": null,
   "metadata": {},
   "outputs": [],
   "source": []
  }
 ],
 "metadata": {
  "kernelspec": {
   "display_name": "Python 3",
   "language": "python",
   "name": "python3"
  }
 },
 "nbformat": 4,
 "nbformat_minor": 0
}
