{
 "cells": [
  {
   "cell_type": "markdown",
   "metadata": {},
   "source": [
    "Expression of type <a class=\"ProveItLink\" href=\"../../../../../../../doc/html/api/proveit.logic.Or.html\">Or</a>\n",
    "=======================\n",
    "# from context <a class=\"ProveItLink\" href=\"../../_context_.ipynb\">proveit.logic.boolean.disjunction</a>"
   ]
  },
  {
   "cell_type": "code",
   "execution_count": 1,
   "metadata": {},
   "outputs": [],
   "source": [
    "# import Expression classes needed to build the expression\n",
    "from proveit.logic import Or, TRUE"
   ]
  },
  {
   "cell_type": "code",
   "execution_count": 2,
   "metadata": {},
   "outputs": [
    {
     "data": {
      "text/html": [
       "<strong id=\"expr\">expr:</strong> <a class=\"ProveItLink\" href=\"expr.ipynb\"><img src=\"data:image/png;base64,iVBORw0KGgoAAAANSUhEUgAAADkAAAAVBAMAAAAOWFv7AAAAMFBMVEX///8QEBCYmJhmZmaqqqrc\n",
       "3Nzu7u5ERERUVFS6urp2dnbMzMwyMjIiIiKIiIgAAACFNc/vAAAAAXRSTlMAQObYZgAAAPxJREFU\n",
       "KM9jYMAL3p6GMnRugql5cBlNIF4J54FZ3A0MtndB4DoD8waQGCdYbgNElicBRG4GCx0AyXIA1TDw\n",
       "PYDIvmNAyGqBZLkLgCzeBIisGJJsIti2o0CWM8RezgNIsuwOIDGgDEgFSJZ5AZIslwFIDGgqyHSQ\n",
       "LI8CkizLAZAY0EUcEyCyjBOQZDkFwGIXGHKg/uVHluX+ABYzYViERzYGqBtqsgOmyRybHkBl2ZFd\n",
       "xQR2FQN3bQJUFugJdB8xMByGxQLnBbD4LjDJMwEiuw0eR6JIkZuIEYNaSLLrMGQhMQgGbAcwZFkb\n",
       "4HyOAGDKuQ1LQpCUEweXfc3AAAAv5E7ekflR5wAAAABJRU5ErkJggg==\n",
       "\" style=\"display:inline;vertical-align:middle;\" /></a><br>"
      ],
      "text/plain": [
       "expr: [or](TRUE)"
      ]
     },
     "execution_count": 2,
     "metadata": {},
     "output_type": "execute_result"
    }
   ],
   "source": [
    "# build up the expression from sub-expressions\n",
    "expr = Or(TRUE)"
   ]
  },
  {
   "cell_type": "code",
   "execution_count": 3,
   "metadata": {},
   "outputs": [
    {
     "name": "stdout",
     "output_type": "stream",
     "text": [
      "Passed sanity check: built 'expr' is the same as the stored Expression.\n"
     ]
    }
   ],
   "source": [
    "# check that the built expression is the same as the stored expression\n",
    "%check_expr"
   ]
  },
  {
   "cell_type": "code",
   "execution_count": 4,
   "metadata": {},
   "outputs": [
    {
     "data": {
      "text/html": [
       "<table><tr><th>&nbsp;</th><th>core type</th><th>sub-expressions</th><th>expression</th></tr>\n",
       "<tr><td>0</td><td>Operation</td><td>operator:&nbsp;1<br>operands:&nbsp;2<br></td><td><a class=\"ProveItLink\" href=\"expr.ipynb\"><img src=\"data:image/png;base64,iVBORw0KGgoAAAANSUhEUgAAADkAAAAVBAMAAAAOWFv7AAAAMFBMVEX///8QEBCYmJhmZmaqqqrc\n",
       "3Nzu7u5ERERUVFS6urp2dnbMzMwyMjIiIiKIiIgAAACFNc/vAAAAAXRSTlMAQObYZgAAAPxJREFU\n",
       "KM9jYMAL3p6GMnRugql5cBlNIF4J54FZ3A0MtndB4DoD8waQGCdYbgNElicBRG4GCx0AyXIA1TDw\n",
       "PYDIvmNAyGqBZLkLgCzeBIisGJJsIti2o0CWM8RezgNIsuwOIDGgDEgFSJZ5AZIslwFIDGgqyHSQ\n",
       "LI8CkizLAZAY0EUcEyCyjBOQZDkFwGIXGHKg/uVHluX+ABYzYViERzYGqBtqsgOmyRybHkBl2ZFd\n",
       "xQR2FQN3bQJUFugJdB8xMByGxQLnBbD4LjDJMwEiuw0eR6JIkZuIEYNaSLLrMGQhMQgGbAcwZFkb\n",
       "4HyOAGDKuQ1LQpCUEweXfc3AAAAv5E7ekflR5wAAAABJRU5ErkJggg==\n",
       "\" style=\"display:inline;vertical-align:middle;\" /></a></td></tr>\n",
       "<tr><td>1</td><td>Literal</td><td></td><td><a class=\"ProveItLink\" href=\"../087d0b4ded7c7e5bf3bba05ecb616d7a8051ff650/expr.ipynb\"><img src=\"data:image/png;base64,iVBORw0KGgoAAAANSUhEUgAAAAwAAAAOBAMAAADpk+DfAAAALVBMVEX///+YmJh2dnZmZmaqqqrc\n",
       "3NwyMjLu7u4iIiJERESIiIhUVFTMzMy6uroAAAD0I/TTAAAAAXRSTlMAQObYZgAAAEtJREFUCNdj\n",
       "uMAABDwMe0DUKoaTIKqdgS2AgYHFAITAzHYGsMQqBoa9QIqDgT0BSDE7MAkAKdYEDpAehj1SYOpk\n",
       "O5hiMwBTPAUMDAB33Atnw8aG2QAAAABJRU5ErkJggg==\n",
       "\" style=\"display:inline;vertical-align:middle;\" /></a></td></tr>\n",
       "<tr><td>2</td><td>ExprTuple</td><td>3</td><td><a class=\"ProveItLink\" href=\"../c0007fe84c08caa977bfa6dfedd9e5ac081301b70/expr.ipynb\"><img src=\"data:image/png;base64,iVBORw0KGgoAAAANSUhEUgAAABwAAAAVBAMAAACnLJNvAAAAMFBMVEX////c3NwiIiJERESqqqqY\n",
       "mJh2dnZmZmYQEBDu7u4yMjJUVFTMzMyIiIi6uroAAAAs73DqAAAAAXRSTlMAQObYZgAAAIJJREFU\n",
       "GNNjYEADfBdgLNYHQOI0A7sSGBgw1AC5K0ESPAUgkouBgfcCgsuawMAxAcHlbGB4xYDgMpgwlCFz\n",
       "0xmWInO9GPqQuS8Y/iFzz6NzW1AVmyJzo4Bmo1j0CMJNAFPrGDgEEH4FOpI1AcFluwD1IATMAmJp\n",
       "BHcjEDPCA4f3AAMAkwcfPErPFToAAAAASUVORK5CYII=\n",
       "\" style=\"display:inline;vertical-align:middle;\" /></a></td></tr>\n",
       "<tr><td>3</td><td>Literal</td><td></td><td><a class=\"ProveItLink\" href=\"../../../__pv_it/68a87cc3370287d726c7086ace789e680e4461c30/expr.ipynb\"><img src=\"data:image/png;base64,iVBORw0KGgoAAAANSUhEUgAAAA4AAAAOBAMAAADtZjDiAAAAFVBMVEX///92dnbMzMxEREQiIiJm\n",
       "ZmYAAABAT6GXAAAAAXRSTlMAQObYZgAAABhJREFUCNdjCHEBAWcGIFBlgABa0YpADAAxegPJJk4d\n",
       "XAAAAABJRU5ErkJggg==\n",
       "\" style=\"display:inline;vertical-align:middle;\" /></a></td></tr>\n",
       "</table>\n"
      ],
      "text/plain": [
       "0. [or](TRUE)\n",
       "   core type: Operation\n",
       "   operator: 1\n",
       "   operands: 2\n",
       "1. or\n",
       "   core type: Literal\n",
       "   sub-expressions: \n",
       "2. (TRUE)\n",
       "   core type: ExprTuple\n",
       "   sub-expressions: 3\n",
       "3. TRUE\n",
       "   core type: Literal\n",
       "   sub-expressions: "
      ]
     },
     "execution_count": 4,
     "metadata": {},
     "output_type": "execute_result"
    }
   ],
   "source": [
    "# display the expression information\n",
    "expr.exprInfo()"
   ]
  },
  {
   "cell_type": "code",
   "execution_count": null,
   "metadata": {},
   "outputs": [],
   "source": []
  }
 ],
 "metadata": {
  "kernelspec": {
   "display_name": "Python 3",
   "language": "python",
   "name": "python3"
  }
 },
 "nbformat": 4,
 "nbformat_minor": 0
}
