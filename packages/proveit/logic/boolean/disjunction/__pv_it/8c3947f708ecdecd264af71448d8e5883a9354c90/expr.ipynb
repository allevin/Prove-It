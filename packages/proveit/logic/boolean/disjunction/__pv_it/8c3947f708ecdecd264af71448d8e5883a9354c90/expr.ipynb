{
 "cells": [
  {
   "cell_type": "markdown",
   "metadata": {},
   "source": [
    "Expression of type <a class=\"ProveItLink\" href=\"../../../../../../../doc/html/api/proveit.logic.Forall.html\">Forall</a>\n",
    "=======================\n",
    "# from context <a class=\"ProveItLink\" href=\"../../_context_.ipynb\">proveit.logic.boolean.disjunction</a>"
   ]
  },
  {
   "cell_type": "code",
   "execution_count": 1,
   "metadata": {},
   "outputs": [],
   "source": [
    "# import Expression classes needed to build the expression\n",
    "from proveit._common_ import A, B\n",
    "from proveit.logic import Forall, Not, Or"
   ]
  },
  {
   "cell_type": "code",
   "execution_count": 2,
   "metadata": {},
   "outputs": [
    {
     "data": {
      "text/html": [
       "<strong id=\"expr\">expr:</strong> <a class=\"ProveItLink\" href=\"expr.ipynb\"><img src=\"data:image/png;base64,iVBORw0KGgoAAAANSUhEUgAAAJwAAAAXBAMAAAAM4TtlAAAAMFBMVEX///8QEBC6urrMzMxUVFRm\n",
       "ZmZERETc3NwyMjKqqqp2dnaIiIiYmJgiIiLu7u4AAAAU9Wx4AAAAAXRSTlMAQObYZgAAAlRJREFU\n",
       "OMutVU1o1EAU/jb7l02ycfHmRSN48CLuwZtIgxZ7dMFdBUG6IGQRhAZcWjyUBi9FELsXQejBpaDi\n",
       "bT0WD0b0IHiwZ8V28VB6KRQLoviD72WSbJJNFwwOTN57M998M+9nJsD/bcPMK6VBYkAzgA1W3meh\n",
       "OxOzzlG/DDxn/UEWuviiFeoyME+i3M7ApsZ81bYoalofMoliLwNdLhb1O7M2oNegPVtYWMzi68mY\n",
       "NXhFecBN4JtlfTxoye2UsYovr8WyPHzskngCXAA6BJprNW94ExFQuc9f2Q6IPEy+L6z7UbovmOJQ\n",
       "PgJOQHdIew284IlSBCT0D0ZgC8yaMA5TzD9zY3oDSw0Sx4EqVD5nEzhtJ+hW+aPPuuCdBwFmR0x+\n",
       "9UF5k/r09CWujilKuFvlHH0CridP1+GPstvAOjluBphCfYyOIpRzBJ3ucHnr+9CWk3Q1/pwttXmw\n",
       "YAcYv+COROio0Ko14Sw65zkDP19eHCbo8rwhzOIGVAPdECOZ3uytEV2Z6OQ90t9Rf8jXVnGgHR3R\n",
       "PbUsy/HWaT11D3obMyFG7MJFIVrdi2bpjz+W48OXGtB/xE/XrjDdbusKAdc4dD7GpzsVAuePLUOb\n",
       "+06pvcv7s5OHepD2E3QSJ+sq8jS+XbRDjCRueM4eq3C9FmhLQyw2EnQ6RUGiIvpFfr4dYTRRx76I\n",
       "NiV4FZSVVvMe4nR1bEKncur+djmpIaZopD1Q3HbGr2S0UNZHasQz2ZfdsbUzk+m2U9+F1eBGJx93\n",
       "tT6ZruKm0Zn/8owVosabFIAy6Wf1F8SdjWZdJj2rAAAAAElFTkSuQmCC\n",
       "\" style=\"display:inline;vertical-align:middle;\" /></a><br>"
      ],
      "text/plain": [
       "expr: forall_{B | [not](A or B)} [not](A)"
      ]
     },
     "execution_count": 2,
     "metadata": {},
     "output_type": "execute_result"
    }
   ],
   "source": [
    "# build up the expression from sub-expressions\n",
    "expr = Forall([B], Not(A), conditions = [Not(Or(A, B))])"
   ]
  },
  {
   "cell_type": "code",
   "execution_count": 3,
   "metadata": {},
   "outputs": [
    {
     "name": "stdout",
     "output_type": "stream",
     "text": [
      "Passed sanity check: built 'expr' is the same as the stored Expression.\n"
     ]
    }
   ],
   "source": [
    "# check that the built expression is the same as the stored expression\n",
    "%check_expr"
   ]
  },
  {
   "cell_type": "code",
   "execution_count": 4,
   "metadata": {},
   "outputs": [
    {
     "data": {
      "text/html": [
       "<table><tr><th>&nbsp;</th><th>core type</th><th>sub-expressions</th><th>expression</th></tr>\n",
       "<tr><td>0</td><td>Operation</td><td>operator:&nbsp;1<br>operand:&nbsp;2<br></td><td><a class=\"ProveItLink\" href=\"expr.ipynb\"><img src=\"data:image/png;base64,iVBORw0KGgoAAAANSUhEUgAAAJwAAAAXBAMAAAAM4TtlAAAAMFBMVEX///8QEBC6urrMzMxUVFRm\n",
       "ZmZERETc3NwyMjKqqqp2dnaIiIiYmJgiIiLu7u4AAAAU9Wx4AAAAAXRSTlMAQObYZgAAAlRJREFU\n",
       "OMutVU1o1EAU/jb7l02ycfHmRSN48CLuwZtIgxZ7dMFdBUG6IGQRhAZcWjyUBi9FELsXQejBpaDi\n",
       "bT0WD0b0IHiwZ8V28VB6KRQLoviD72WSbJJNFwwOTN57M998M+9nJsD/bcPMK6VBYkAzgA1W3meh\n",
       "OxOzzlG/DDxn/UEWuviiFeoyME+i3M7ApsZ81bYoalofMoliLwNdLhb1O7M2oNegPVtYWMzi68mY\n",
       "NXhFecBN4JtlfTxoye2UsYovr8WyPHzskngCXAA6BJprNW94ExFQuc9f2Q6IPEy+L6z7UbovmOJQ\n",
       "PgJOQHdIew284IlSBCT0D0ZgC8yaMA5TzD9zY3oDSw0Sx4EqVD5nEzhtJ+hW+aPPuuCdBwFmR0x+\n",
       "9UF5k/r09CWujilKuFvlHH0CridP1+GPstvAOjluBphCfYyOIpRzBJ3ucHnr+9CWk3Q1/pwttXmw\n",
       "YAcYv+COROio0Ko14Sw65zkDP19eHCbo8rwhzOIGVAPdECOZ3uytEV2Z6OQ90t9Rf8jXVnGgHR3R\n",
       "PbUsy/HWaT11D3obMyFG7MJFIVrdi2bpjz+W48OXGtB/xE/XrjDdbusKAdc4dD7GpzsVAuePLUOb\n",
       "+06pvcv7s5OHepD2E3QSJ+sq8jS+XbRDjCRueM4eq3C9FmhLQyw2EnQ6RUGiIvpFfr4dYTRRx76I\n",
       "NiV4FZSVVvMe4nR1bEKncur+djmpIaZopD1Q3HbGr2S0UNZHasQz2ZfdsbUzk+m2U9+F1eBGJx93\n",
       "tT6ZruKm0Zn/8owVosabFIAy6Wf1F8SdjWZdJj2rAAAAAElFTkSuQmCC\n",
       "\" style=\"display:inline;vertical-align:middle;\" /></a></td></tr>\n",
       "<tr><td>1</td><td>Literal</td><td></td><td><a class=\"ProveItLink\" href=\"../../../quantification/universal/__pv_it/265f8c02ac1094d56e0e6410a1c1fd3500dc9f540/expr.ipynb\"><img src=\"data:image/png;base64,iVBORw0KGgoAAAANSUhEUgAAAAwAAAAQBAMAAADQT4M0AAAAMFBMVEX///8QEBC6urrMzMxUVFRm\n",
       "ZmZERETc3NwyMjKqqqp2dnaIiIiYmJgiIiLu7u4AAAAU9Wx4AAAAAXRSTlMAQObYZgAAAFhJREFU\n",
       "CNdjeMAABhdAxGmGlSCqj6EMSLInMHAAJVknMPAsLy+vBYp8S0u7BaScGRjSgZQKA18DkOJl4D4A\n",
       "pLgP8IJM4mswARuX7gSmpoKNZWDcAKZ4gCoAgTQTILaSE58AAAAASUVORK5CYII=\n",
       "\" style=\"display:inline;vertical-align:middle;\" /></a></td></tr>\n",
       "<tr><td>2</td><td>Lambda</td><td>parameter:&nbsp;11<br>body:&nbsp;3<br>conditions:&nbsp;4<br></td><td><a class=\"ProveItLink\" href=\"../2061122ef4360fcf3f66c448c09a4d6243e381730/expr.ipynb\"><img src=\"data:image/png;base64,iVBORw0KGgoAAAANSUhEUgAAAMkAAAAVCAMAAADb5DpjAAAANlBMVEX///8UFBQNDQ2qqqru7u4i\n",
       "IiJ2dnbc3NyIiIjMzMxmZmYQEBC6uroyMjJERERUVFSYmJgAAAC3B9V0AAAAAXRSTlMAQObYZgAA\n",
       "AkNJREFUWMPNV1lyhSAQNAFkk+3+lw0JizMICrEqFX7U97Cnm1ndtj9ahG//ch3iaYc/8PN+vIac\n",
       "sOVdCC4ua465V6W7+Y+lq5JLSjBkARlyx4yBLW2T9TAnxdCb/0K5WVKCIStI9BXQB3ZgxtWWDCJf\n",
       "3YwQcRMInoXMye8LSjDkCbJtTvb2NIyrLRFSPvqwzyjRY5dwojLWRvWCEgQJQCJXW+4Y2NMwrrZs\n",
       "vmE3HEFumpuzjTYKZ0umlWBICBIjJ4siCmxpGRdbyUXc2FMIZksgKTV23EE3Enwhr6aVIEgEciow\n",
       "sI63jLOtGGxCCMU82NoUDwecZfyIED3OCI4UzLQSCIlBalSdUdZjnG3loKPMDZVQd56ITqQUq2sH\n",
       "dYaH4opD95V0XtRAJwapme7gUVwYZ1sl6ATw6ecHQ0ufkXsp1aUXyO8S74KtB/fkk9pEAGQDUk6V\n",
       "onC/MM62Su2FpattTeBIhkrS79q8UtKA/DgxZumOQvrCONmSRZgLZKREgXTTpE+IlHLyEF0dJSdk\n",
       "C5ISu+FzZZxsldrMgxnliYSNy/ouIU6a/uzNtJIKeQHJ3dGjznllnGzloJMaTgy4jaM2g6prHSNq\n",
       "INtAp6uwbCCvILk7MtpJE8D4G0DZNIyZcXFtm0ZnvONWh5+C7yOcSbzQPPrQGdkIJLsIPvQYz86+\n",
       "7Wgx9a2xNq3cQ0q6Ymvhe2BqOtvFgpI5yElbC8tMjGf0zVS/uKj57Zt8Yvh3fEkJdy+UuN9/WvNH\n",
       "bwrZPB+vIe9tfQEWKxqmLE+tmgAAAABJRU5ErkJggg==\n",
       "\" style=\"display:inline;vertical-align:middle;\" /></a></td></tr>\n",
       "<tr><td>3</td><td>Operation</td><td>operator:&nbsp;6<br>operand:&nbsp;10<br></td><td><a class=\"ProveItLink\" href=\"../feaa1d0e6d92ad9ead8e5ffd1f92697e3912387a0/expr.ipynb\"><img src=\"data:image/png;base64,iVBORw0KGgoAAAANSUhEUgAAABwAAAAOBAMAAADOPWE3AAAAMFBMVEX///8QEBBERES6urqIiIiq\n",
       "qqrc3Nzu7u6YmJgyMjJUVFTMzMx2dnYiIiJmZmYAAADMbjvTAAAAAXRSTlMAQObYZgAAAGNJREFU\n",
       "CNdjYEAA7gsMyIDzAwq39zsyjy3uGzKXheUzMtec9QcSj92A+wsDw9u7QHAHyGVmYPsHldkFwqtW\n",
       "fULiGjAwSCK4rEDqIoKbCqTmw1zLwD4BSOkXwFyk+DOBoen/PABSrhtHsYt+gAAAAABJRU5ErkJg\n",
       "gg==\n",
       "\" style=\"display:inline;vertical-align:middle;\" /></a></td></tr>\n",
       "<tr><td>4</td><td>ExprTuple</td><td>5</td><td><a class=\"ProveItLink\" href=\"../da4a69bbbdfbc0e47840e3bf4fa8225763d25ebd0/expr.ipynb\"><img src=\"data:image/png;base64,iVBORw0KGgoAAAANSUhEUgAAAGUAAAAVBAMAAACtcD09AAAAMFBMVEX////c3NwiIiJERESqqqqY\n",
       "mJh2dnZmZmYQEBDu7u4yMjJUVFTMzMyIiIi6uroAAAAs73DqAAAAAXRSTlMAQObYZgAAAalJREFU\n",
       "OMudUz1LA0EQfZcY83GXeKCVKRRbC0UQxCbpLLWyETSNWAlBxNaANjYxpVjIBRGxMrWHJAiCYpH8\n",
       "ACWHpVUsFEwwOju7hs1n4cKbvfdmZ3duZhf4z4hV+pGusa6AJ11V5K5j8dqP6y56CJbAwJXuVOSa\n",
       "z+TPEtsDWtwEHDCiejaKBGZyZM1SS7G+CQ1gFYxQTotRZGzfFgtnyfhYib7TRp/ACRhvemqKVKqe\n",
       "mPKEJRb8GYo+ojnJ2NNjJInllleg1udZGSnAOKcTh9OMCz1GkjOU+S8oL84PKN++7IhthhxGlioy\n",
       "JUaKtCyv8DCRVhUxOUlUbYSnRQYZRlMdYRXIMLFctyi3n8SpdC6IODrIqjG6Y6gvIYe1XWxKJ5UZ\n",
       "G6lWzKEew4Rq48uwNk4nse+DTDHZym1ejxHEIF+kxpp5L3ss2mPURbMdxtZfzUTXBRG/4P+S+8zl\n",
       "Wu15ENdK1fpVrzWR0eM8Aok6Fw6XbIOJhnvDbYh4jJCt3x27/T4/dtxvdXcCKU1rIz3GtkKvt9Bn\n",
       "hB0JxHU1PjDGtCVg6A/IGPi2nyV+AYfFc7WHdwYPAAAAAElFTkSuQmCC\n",
       "\" style=\"display:inline;vertical-align:middle;\" /></a></td></tr>\n",
       "<tr><td>5</td><td>Operation</td><td>operator:&nbsp;6<br>operand:&nbsp;7<br></td><td><a class=\"ProveItLink\" href=\"../7287205f651df5658adbe6934eb34d509d29e06a0/expr.ipynb\"><img src=\"data:image/png;base64,iVBORw0KGgoAAAANSUhEUgAAAFYAAAAVBAMAAAAutAQGAAAAMFBMVEX////c3NxERESqqqqYmJgQ\n",
       "EBDu7u4yMjKIiIi6urpUVFTMzMx2dnYiIiJmZmYAAABjE816AAAAAXRSTlMAQObYZgAAAXRJREFU\n",
       "KM9jYCAPzMAnyTIBmce9AEJdQFO0/teqRZUMDK+RBdkTINQHEAk2hRsswKrAwPB+AgM7stoOCOX7\n",
       "DUSuRojsbwDiBQwsB5DUhoFJRruPIGoTiLgGFukXYGDwP8DAFoBQylkApjg4foJdAlTA/AAsogrE\n",
       "V4HuU0ao5YPYMY35C4gCqQOpB4JfDAziakD6HJLXHEAk2wTuHwxQ+zdBwuVXR98VEMOc4e1dILgD\n",
       "8i7Y65wMjP9gPl0JcRTQ/bmg4JwKMXMXEPOD1e5ateoTWIiXgQ3iASagnzhA7tqPrhZIhEOcb8AD\n",
       "dhQDP9BMlj+oalkNQF4C+RkSdgW8ELn9QC1cn1HdwAQyRhiI6yFiqz0Y4MErD3KOOzQpADEPMJTA\n",
       "TtSHxPUmSEyAgpc7PAE1zDgvMDCqfhdgcPpfBwlDSEw8+r9qVTnY5ZVIcRyImr64E1D5yHHM4IM/\n",
       "dfM0YKZJXCAdmcO4AK/ahSg8CXxKOTYwAADeHliu8zOSuAAAAABJRU5ErkJggg==\n",
       "\" style=\"display:inline;vertical-align:middle;\" /></a></td></tr>\n",
       "<tr><td>6</td><td>Literal</td><td></td><td><a class=\"ProveItLink\" href=\"../../../negation/__pv_it/7bea79645543c2413aa17e787cca04e21046fde60/expr.ipynb\"><img src=\"data:image/png;base64,iVBORw0KGgoAAAANSUhEUgAAAAwAAAAGBAMAAAAFwGKyAAAAFVBMVEX///9UVFTMzMx2dnYiIiJm\n",
       "ZmYAAACWz4ZEAAAAAXRSTlMAQObYZgAAABRJREFUCNdjCHEBAmcGMFDEQzEBAEl+Ai6uYJv/AAAA\n",
       "AElFTkSuQmCC\n",
       "\" style=\"display:inline;vertical-align:middle;\" /></a></td></tr>\n",
       "<tr><td>7</td><td>Operation</td><td>operator:&nbsp;8<br>operands:&nbsp;9<br></td><td><a class=\"ProveItLink\" href=\"../0f1bf4090acd92174180531bf3e50944b30066e50/expr.ipynb\"><img src=\"data:image/png;base64,iVBORw0KGgoAAAANSUhEUgAAADcAAAAPBAMAAACy3Eq1AAAAMFBMVEX///92dnYQEBBERERUVFS6\n",
       "urqIiIhmZmaqqqrc3Nzu7u6YmJgyMjIiIiLMzMwAAACFkkdwAAAAAXRSTlMAQObYZgAAAP1JREFU\n",
       "GNNjYACBtwyogNv/i4vzUSjnPIhgBTMfgEkmAwaG+gCIwvsLgCQLSJwtASzyHki9dwAzZ9RPAJJ8\n",
       "QNUMvAvAIvlAgf0CYGZCPtiEk0DcDrHHCIgvgdWxLujfwACVOAmR/MLAMMcKzFoKtgJsJNhooA1f\n",
       "0tJvQ5QFMMwvYIA4hgXiQrafDAxrwe7hc3Hxh2i4wLAGopxZAajgN9R/TAfAYhUM0hBJfqAu7o8g\n",
       "VgPQNgWw2BygXog3gQ5k+QFkcAIleT6AxVheQ4IA7M35INNA1jD/gjjSdgHcm3w6QPZk/ZMM3PZ/\n",
       "wM5lOA6RK/7v4nJmA1pkMLxC5QIA6tw+1pV4TWcAAAAASUVORK5CYII=\n",
       "\" style=\"display:inline;vertical-align:middle;\" /></a></td></tr>\n",
       "<tr><td>8</td><td>Literal</td><td></td><td><a class=\"ProveItLink\" href=\"../087d0b4ded7c7e5bf3bba05ecb616d7a8051ff650/expr.ipynb\"><img src=\"data:image/png;base64,iVBORw0KGgoAAAANSUhEUgAAAAwAAAAOBAMAAADpk+DfAAAALVBMVEX///+YmJh2dnZmZmaqqqrc\n",
       "3NwyMjLu7u4iIiJERESIiIhUVFTMzMy6uroAAAD0I/TTAAAAAXRSTlMAQObYZgAAAEtJREFUCNdj\n",
       "uMAABDwMe0DUKoaTIKqdgS2AgYHFAITAzHYGsMQqBoa9QIqDgT0BSDE7MAkAKdYEDpAehj1SYOpk\n",
       "O5hiMwBTPAUMDAB33Atnw8aG2QAAAABJRU5ErkJggg==\n",
       "\" style=\"display:inline;vertical-align:middle;\" /></a></td></tr>\n",
       "<tr><td>9</td><td>ExprTuple</td><td>10, 11</td><td><a class=\"ProveItLink\" href=\"../caee09fb4b5c95b986a9cee46a014afbad9bdc680/expr.ipynb\"><img src=\"data:image/png;base64,iVBORw0KGgoAAAANSUhEUgAAADUAAAAVBAMAAAAUZLt1AAAAMFBMVEX////c3NwiIiJERESqqqqY\n",
       "mJh2dnZmZmYQEBDu7u4yMjJUVFTMzMyIiIi6uroAAAAs73DqAAAAAXRSTlMAQObYZgAAATZJREFU\n",
       "KM9jYMAH+C5gFY4DEach7EMwQdb9v3dvXsfAfgDIXgkRWg/XwWHAwFD/gGEBAwMvxEhW/QkwufNA\n",
       "kfMbGMKAqiBiIvUCMLn7QFZ8AsMMBoZXEIEL9x/A5CyAWGMCA7MDQxnEsRP8A2ByvxkYpCwZGNgK\n",
       "GJaC+fPAtoABz++711WBNMsChj6wwAMG+QKoHO9HBoZJG4BGNTD8A6vdvXu/AVSOuQEo/xUo9gEi\n",
       "xwd07wKoHD9QD+s3sFwLiO/AwMDUAPMe0FHcX8BmmgK5jEA5rg8MDBNg3pMHGsK6gCEdyJ0FsuYn\n",
       "A+cnqPd4uiaA/fCIgUG4fyEDq/2vAs5+oJbi/7t3rwL5lesBA4cAUnQhsUFhxpqA4LIiR2AuIo7Q\n",
       "5ThBfpJG8JFTADfIfEbsaeIOAwMABOxNRsfkiy0AAAAASUVORK5CYII=\n",
       "\" style=\"display:inline;vertical-align:middle;\" /></a></td></tr>\n",
       "<tr><td>10</td><td>Variable</td><td></td><td><a class=\"ProveItLink\" href=\"../../../../../__pv_it/2cbe72a7ad6f655694dd697106680215e8489b600/expr.ipynb\"><img src=\"data:image/png;base64,iVBORw0KGgoAAAANSUhEUgAAAA8AAAAOBAMAAAACpFvcAAAALVBMVEX///8QEBBERERUVFS6urqI\n",
       "iIhmZmaqqqrc3Nzu7u6YmJgyMjIiIiLMzMwAAADtIaYWAAAAAXRSTlMAQObYZgAAAFtJREFUCNdj\n",
       "YACBOwxQsA9Kc52bAGG05zVAGAFxDmCaZULdAjBjCsO9ADDDgaEvAUTzGhvbKYCVMDAwbgAxChgY\n",
       "eASANAeQwf0AyJgNxEwvGRia5HYwcOm9TgAA6BoR3jrzwFcAAAAASUVORK5CYII=\n",
       "\" style=\"display:inline;vertical-align:middle;\" /></a></td></tr>\n",
       "<tr><td>11</td><td>Variable</td><td></td><td><a class=\"ProveItLink\" href=\"../../../../../__pv_it/077b2ff79244fb4582cbe22c6e3356fa92a52f2f0/expr.ipynb\"><img src=\"data:image/png;base64,iVBORw0KGgoAAAANSUhEUgAAABAAAAAOBAMAAADUAYG5AAAAMFBMVEX///+qqqru7u4iIiJ2dnbc\n",
       "3NyIiIjMzMxmZmYQEBC6uroyMjJERERUVFSYmJgAAADLUcuvAAAAAXRSTlMAQObYZgAAAGpJREFU\n",
       "CNdjYGB4+//u3dMLGIBgDgMDxy8gzf4NiP8CGWxfGRj4vgAZPBMYGJgnARn8FxhY9ygAGfXX0pof\n",
       "gDTlBzAw2YIYJ0EckBBI53sHoBH/gIz7AhBjWH9DjancBLTl/N+7t/cxMAAA3u4f/5xagjYAAAAA\n",
       "SUVORK5CYII=\n",
       "\" style=\"display:inline;vertical-align:middle;\" /></a></td></tr>\n",
       "</table>\n"
      ],
      "text/plain": [
       "0. forall_{B | [not](A or B)} [not](A)\n",
       "   core type: Operation\n",
       "   operator: 1\n",
       "   operand: 2\n",
       "1. forall\n",
       "   core type: Literal\n",
       "   sub-expressions: \n",
       "2. B -> [not](A) | [not](A or B)\n",
       "   core type: Lambda\n",
       "   parameter: 11\n",
       "   body: 3\n",
       "   conditions: 4\\n3. [not](A)\n",
       "   core type: Operation\n",
       "   operator: 6\n",
       "   operand: 10\n",
       "4. ([not](A or B))\n",
       "   core type: ExprTuple\n",
       "   sub-expressions: 5\n",
       "5. [not](A or B)\n",
       "   core type: Operation\n",
       "   operator: 6\n",
       "   operand: 7\n",
       "6. not\n",
       "   core type: Literal\n",
       "   sub-expressions: \n",
       "7. A or B\n",
       "   core type: Operation\n",
       "   operator: 8\n",
       "   operands: 9\n",
       "8. or\n",
       "   core type: Literal\n",
       "   sub-expressions: \n",
       "9. (A , B)\n",
       "   core type: ExprTuple\n",
       "   sub-expressions: 10, 11\n",
       "10. A\n",
       "    core type: Variable\n",
       "    sub-expressions: \n",
       "11. B\n",
       "    core type: Variable\n",
       "    sub-expressions: "
      ]
     },
     "execution_count": 4,
     "metadata": {},
     "output_type": "execute_result"
    }
   ],
   "source": [
    "# display the expression information\n",
    "expr.exprInfo()"
   ]
  },
  {
   "cell_type": "code",
   "execution_count": null,
   "metadata": {},
   "outputs": [],
   "source": []
  }
 ],
 "metadata": {
  "kernelspec": {
   "display_name": "Python 3",
   "language": "python",
   "name": "python3"
  }
 },
 "nbformat": 4,
 "nbformat_minor": 0
}
