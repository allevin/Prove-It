{
 "cells": [
  {
   "cell_type": "markdown",
   "metadata": {},
   "source": [
    "Show the Proof\n",
    "========"
   ]
  },
  {
   "cell_type": "code",
   "execution_count": 1,
   "metadata": {},
   "outputs": [
    {
     "data": {
      "text/html": [
       "<table><tr><th>&nbsp;</th><th>step type</th><th>requirements</th><th>statement</th></tr>\n",
       "<tr><td>0</td><td>assumption</td><td></td><td><span style=\"font-size:20px;\"><a class=\"ProveItLink\" href=\"../a7f28bd581bce76872569733f07f8e3cf406cd080/expr.ipynb\"><img src=\"data:image/png;base64,iVBORw0KGgoAAAANSUhEUgAAAE8AAAAVBAMAAAD1D64kAAAAMFBMVEX////c3NxERESqqqpUVFS6\n",
       "urrMzMwyMjIQEBCIiIh2dnYiIiLu7u5mZmaYmJgAAABXZE4RAAAAAXRSTlMAQObYZgAAAS9JREFU\n",
       "KM9jYGDgu8eAH7CtEgBRPLsYCAG2ZhDJ+QFEPvnv4qIegKmGy//TRQaG62BmA1ikiYGB9ysW0/gL\n",
       "gMQKhEK2n0D8BS59AM6KX4CqkPMj0Fe/4NI1cNb6AFSFTECSuwcuHQJn1TOgKuR3YGAsQljINQHG\n",
       "+gRXyAtyLUO+58zbD8Dc3WDwF6qO9SeIfA8iMsCBMl+AgWcLkmeZS6FGfwOR7BcYGFLawAIaIMUP\n",
       "kFQebwVT7OBQZlAHSkUkgFigkHm/ACkyqiAO5lcAkdwgGRaQG9n+AQl/A4QbN0E9Fj8B7kauDdBg\n",
       "ZPyO5EQHWDAmoAYPKBgzEKHMII4SjAiFvPpfXNzrkLyiCKEYL/33QgtwNJCAysWtkAGLQj4iFILT\n",
       "I89OwikcEvh8i4nJMwDLs1aavfVJOAAAAABJRU5ErkJggg==\n",
       "\" style=\"display:inline;vertical-align:middle;\" /></a> <a class=\"ProveItLink\" href=\"proof.ipynb\" style=\"text-decoration: none\">&#x22A2;&nbsp;</a><a class=\"ProveItLink\" href=\"../a4467da15f0cbacdf0db3c96a9d0ce3c2d99d9390/expr.ipynb\"><img src=\"data:image/png;base64,iVBORw0KGgoAAAANSUhEUgAAADwAAAAPBAMAAABKPLFCAAAAMFBMVEX///+qqqru7u4iIiJ2dnbc\n",
       "3NyIiIjMzMxmZmYQEBC6uroyMjJERERUVFSYmJgAAADLUcuvAAAAAXRSTlMAQObYZgAAANBJREFU\n",
       "GNNjYGB4+//u3dMLGDAAy/0/rSB6DgMDxy9MaQb+DSCS/RsQ/4ULKsBZ6x1AJNtXBga+L3DBTXCW\n",
       "P9hGngkMDMyT4IJr4az9ECsuMLDuQRjJkgBj/QGT9dfSmh+AGBzGYPADKsv1DUzlBzAw2SI5mHEX\n",
       "1JjvYOokSMkDJHntWWCK+wOYAvnpvQNCln0LxCH8B8C8f0DivgDCbhuoM9cnwLzN+hvJ6gswbxfA\n",
       "vF2JCAuGaBRvc5z/e/f2PiSHHYVQrD3/r2CJB4YCZA4Axz052Pczb1MAAAAASUVORK5CYII=\n",
       "\" style=\"display:inline;vertical-align:middle;\" /></a></span></td></tr>\n",
       "</table>"
      ],
      "text/plain": [
       "<proveit._core_.proof._ShowProof at 0x7f9500076e80>"
      ]
     },
     "execution_count": 1,
     "metadata": {},
     "output_type": "execute_result"
    }
   ],
   "source": [
    "import proveit\n",
    "%show_proof"
   ]
  },
  {
   "cell_type": "code",
   "execution_count": null,
   "metadata": {},
   "outputs": [],
   "source": []
  }
 ],
 "metadata": {
  "kernelspec": {
   "display_name": "Python 3",
   "language": "python",
   "name": "python3"
  }
 },
 "nbformat": 4,
 "nbformat_minor": 0
}
