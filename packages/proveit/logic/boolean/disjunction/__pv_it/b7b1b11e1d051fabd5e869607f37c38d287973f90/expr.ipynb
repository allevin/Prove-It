{
 "cells": [
  {
   "cell_type": "markdown",
   "metadata": {},
   "source": [
    "Expression of type <a class=\"ProveItLink\" href=\"../../../../../../../doc/html/api/proveit.Lambda.html\">Lambda</a>\n",
    "=======================\n",
    "# from context <a class=\"ProveItLink\" href=\"../../_context_.ipynb\">proveit.logic.boolean.disjunction</a>"
   ]
  },
  {
   "cell_type": "code",
   "execution_count": 1,
   "metadata": {},
   "outputs": [],
   "source": [
    "# import Expression classes needed to build the expression\n",
    "from proveit import Lambda\n",
    "from proveit._common_ import A, B\n",
    "from proveit.logic import Forall, Or"
   ]
  },
  {
   "cell_type": "code",
   "execution_count": 2,
   "metadata": {},
   "outputs": [
    {
     "data": {
      "text/html": [
       "<strong id=\"expr\">expr:</strong> <a class=\"ProveItLink\" href=\"expr.ipynb\"><img src=\"data:image/png;base64,iVBORw0KGgoAAAANSUhEUgAAAPMAAAAZCAMAAADT9+jpAAAANlBMVEX///92dnYUFBQNDQ0QEBBE\n",
       "RERUVFS6urqIiIhmZmaqqqrc3Nzu7u6YmJgyMjIiIiLMzMwAAACuIkBbAAAAAXRSTlMAQObYZgAA\n",
       "AsRJREFUWMPtmNmS3CAMRSEx+6r//9nYbAYMM6bdk8xUhZeuLmG4ByQhQOiFRpxzCn2fxnY9+Ivn\n",
       "cOjbNUX/MyMk1duZ9fs8k7/8qWFzZsxuDODdCvPZ2fBHyJ6uiDAUgO6N2IAk/BpzP7yFFWYsy3fP\n",
       "trz9vBJRafZVj42EHwHBbteYO0bjQC8wK5JnI4+QOZ+JoH7UxwNPv4HS4BXmjlFJAWolh+X9EfIR\n",
       "8zYV4ctiuqoPTx0MBFq9LTD3jHwfja0wG6xCe5bEmUVTETbpk6KuDRKkS4tF5H3mjpFpJMGc07Vp\n",
       "X47OKiBHe1gMiPrzTkRmtfXeRJdWlqS9x+I2cze8ZmekDE5gqgfMMd5IFCQJCCEoqbJNM+fAHnlO\n",
       "DRcRyad9nTD2MOacC1c+k/Yucz/8YVcgZsyaqiszO6bR2SNM8Dm+VV7Ypo+LPYYzQ1MRKXfRWnwK\n",
       "Z+0yI9vuMnfD++PIo3Cq/P3LNW1rYt2dPzwvuAiTsipHtMxXe3RVhqYiUvHTxFkOZ56d1MNN5n74\n",
       "aN7stLps1jpbD96SUl3YE+Fm+3y198wXEfFMwAZdwrmk7QXmbniZU+GMWahRvb3vQCmiNByRaup0\n",
       "0zAP7FFDSY9XEUeq6qT4vL0U5Jpvd8MreSlSWmbPx3cMosr+M9hTCyV1rmuYB/bYyaCpiJAn28o2\n",
       "n84KSh65l8O64UvAkLNIaSH15F4lT1fFNiYqPWEe2OujZigi5GynB+Hst1Kx3jur2uEV2SB4nCEA\n",
       "VqzdJbeyNkRED5YT5oE9Xfdj/ToT0fwRJF4wbHXCxbvGx8yvME6ZTdmECMPAT5gH9rRsHxe8/pM7\n",
       "wFLt+d43AxU8UjkxieeRPS3bszoO83/FjG2osmzjueQT+zuuonrxLvnVb0M375iPXrJKffizmJF6\n",
       "/Z2F+/nK8e/M/EPePW+9b9O/Bny8by/M9gdUpCA8ELlJ5QAAAABJRU5ErkJggg==\n",
       "\" style=\"display:inline;vertical-align:middle;\" /></a><br>"
      ],
      "text/plain": [
       "expr: A -> [forall_{B | B} (A or B)] | A"
      ]
     },
     "execution_count": 2,
     "metadata": {},
     "output_type": "execute_result"
    }
   ],
   "source": [
    "# build up the expression from sub-expressions\n",
    "subExpr1 = [B]\n",
    "expr = Lambda(A, Forall(subExpr1, Or(A, B), conditions = subExpr1), conditions = [A])"
   ]
  },
  {
   "cell_type": "code",
   "execution_count": 3,
   "metadata": {},
   "outputs": [
    {
     "name": "stdout",
     "output_type": "stream",
     "text": [
      "Passed sanity check: built 'expr' is the same as the stored Expression.\n"
     ]
    }
   ],
   "source": [
    "# check that the built expression is the same as the stored expression\n",
    "%check_expr"
   ]
  },
  {
   "cell_type": "code",
   "execution_count": 4,
   "metadata": {},
   "outputs": [
    {
     "data": {
      "text/html": [
       "<table><tr><th>&nbsp;</th><th>core type</th><th>sub-expressions</th><th>expression</th></tr>\n",
       "<tr><td>0</td><td>Lambda</td><td>parameter:&nbsp;9<br>body:&nbsp;1<br>conditions:&nbsp;2<br></td><td><a class=\"ProveItLink\" href=\"expr.ipynb\"><img src=\"data:image/png;base64,iVBORw0KGgoAAAANSUhEUgAAAPMAAAAZCAMAAADT9+jpAAAANlBMVEX///92dnYUFBQNDQ0QEBBE\n",
       "RERUVFS6urqIiIhmZmaqqqrc3Nzu7u6YmJgyMjIiIiLMzMwAAACuIkBbAAAAAXRSTlMAQObYZgAA\n",
       "AsRJREFUWMPtmNmS3CAMRSEx+6r//9nYbAYMM6bdk8xUhZeuLmG4ByQhQOiFRpxzCn2fxnY9+Ivn\n",
       "cOjbNUX/MyMk1duZ9fs8k7/8qWFzZsxuDODdCvPZ2fBHyJ6uiDAUgO6N2IAk/BpzP7yFFWYsy3fP\n",
       "trz9vBJRafZVj42EHwHBbteYO0bjQC8wK5JnI4+QOZ+JoH7UxwNPv4HS4BXmjlFJAWolh+X9EfIR\n",
       "8zYV4ctiuqoPTx0MBFq9LTD3jHwfja0wG6xCe5bEmUVTETbpk6KuDRKkS4tF5H3mjpFpJMGc07Vp\n",
       "X47OKiBHe1gMiPrzTkRmtfXeRJdWlqS9x+I2cze8ZmekDE5gqgfMMd5IFCQJCCEoqbJNM+fAHnlO\n",
       "DRcRyad9nTD2MOacC1c+k/Yucz/8YVcgZsyaqiszO6bR2SNM8Dm+VV7Ypo+LPYYzQ1MRKXfRWnwK\n",
       "Z+0yI9vuMnfD++PIo3Cq/P3LNW1rYt2dPzwvuAiTsipHtMxXe3RVhqYiUvHTxFkOZ56d1MNN5n74\n",
       "aN7stLps1jpbD96SUl3YE+Fm+3y198wXEfFMwAZdwrmk7QXmbniZU+GMWahRvb3vQCmiNByRaup0\n",
       "0zAP7FFDSY9XEUeq6qT4vL0U5Jpvd8MreSlSWmbPx3cMosr+M9hTCyV1rmuYB/bYyaCpiJAn28o2\n",
       "n84KSh65l8O64UvAkLNIaSH15F4lT1fFNiYqPWEe2OujZigi5GynB+Hst1Kx3jur2uEV2SB4nCEA\n",
       "VqzdJbeyNkRED5YT5oE9Xfdj/ToT0fwRJF4wbHXCxbvGx8yvME6ZTdmECMPAT5gH9rRsHxe8/pM7\n",
       "wFLt+d43AxU8UjkxieeRPS3bszoO83/FjG2osmzjueQT+zuuonrxLvnVb0M375iPXrJKffizmJF6\n",
       "/Z2F+/nK8e/M/EPePW+9b9O/Bny8by/M9gdUpCA8ELlJ5QAAAABJRU5ErkJggg==\n",
       "\" style=\"display:inline;vertical-align:middle;\" /></a></td></tr>\n",
       "<tr><td>1</td><td>Operation</td><td>operator:&nbsp;3<br>operand:&nbsp;4<br></td><td><a class=\"ProveItLink\" href=\"../585e642997294fc00bcea396a37a6e8aa937d1f20/expr.ipynb\"><img src=\"data:image/png;base64,iVBORw0KGgoAAAANSUhEUgAAAIoAAAAXBAMAAAAmUcrKAAAAMFBMVEX///8QEBC6urrMzMxUVFRm\n",
       "ZmZERETc3NwyMjKqqqp2dnaIiIiYmJgiIiLu7u4AAAAU9Wx4AAAAAXRSTlMAQObYZgAAAlJJREFU\n",
       "OMutlE1oE0EUx/+bb7ObbfCkF43gwYtkDx7VBF2itwZMBAVpRWwRtM1BbD2UhIJEQWwuijdzESt4\n",
       "iKCnHFpvBQ/GgxcVXDz1IopNrVWpvpk326yhDqG4sPPx3u5v5r33nwH+y+MN8E2opfNaGaAjBi/1\n",
       "lEPcHen/fbjrFmaBU8BjMb+jpyj3nNyXHDqyNUaBkQwSwDWaxUe1EJMDsj6I6CNOz5KjLpeH1USC\n",
       "XNGGlmJw7q6PVKgNixVTbFkgw6sm7DSsR1NTM/qADnDXWsiIrk7vXbacp/c1AS8B38bG3uopZ7lQ\n",
       "3oNFKEKdHV1geoL6h8BxYBzYMVkuXZAuuSDurZYLjqLclu1HmQYZTZjzGO62n78Xg/vAftg1Gr0A\n",
       "nkoff2GlYaYVZaeiV4sq1xFeyVwDPuVpsI/YMMVOS0C20qNE8witKcpXubDrDrOrg2W2x2gZ85eo\n",
       "FfWLMuPvgHOBvaRaiHaCFNKJUZPTM3jC9iHah/WDKXZNSNNegVUPUD47WKooym7RkBhSHOI0FD5H\n",
       "MUTWOSKMHxNL/WwXvAAl23424dfoshAmURJf5DRyWB0rIZeq2N+SKJ1AJ2uw9gQo85Rv/6BSIWUq\n",
       "YhtcmiveplzCuzz1gSHQsSLs9QDlIgXlK/ognZO9dViT32WRcIPNp3+77k0poVlRVIEbaiC0EqAQ\n",
       "Mevrxaj8rcKjfaq0fUmg6mGm2KPENxB/s3kDNPXaTvrXT3KuXLqFHmV+tXyy0X8z/OtZ3sK2xS1x\n",
       "VU85MRglrr0xTWcwyjae/Db++QN+q4x9mDbBSQAAAABJRU5ErkJggg==\n",
       "\" style=\"display:inline;vertical-align:middle;\" /></a></td></tr>\n",
       "<tr><td>2</td><td>ExprTuple</td><td>9</td><td><a class=\"ProveItLink\" href=\"../b7d96af9ad4b1093cdfbc7f0db04afd2340d5b5e0/expr.ipynb\"><img src=\"data:image/png;base64,iVBORw0KGgoAAAANSUhEUgAAABwAAAAVBAMAAACnLJNvAAAAMFBMVEX////c3NwiIiJERESqqqqY\n",
       "mJh2dnZmZmYQEBDu7u4yMjJUVFTMzMyIiIi6uroAAAAs73DqAAAAAXRSTlMAQObYZgAAAMBJREFU\n",
       "GNNjYEADfBdgLNYHQOI0hH0IiGuAeCWEux6IuRgYeCFqWfUnAIkEBo4JYK5IvQADA2cDwyuI2gv3\n",
       "QeaYMJRBjJ/gHwCk0hmWgrnzGM6DzPBi6ANzHzDIFwCpFwz/QDye3bv3GwDp8xAuHwMDxwIwtwXE\n",
       "dWBgYGoAKzYFkoxALtcHICMKaDYDwywgZv4JtugRA4Nw/0IGVvtfQKPXMXAIIPwKdCTQ2XDAdgHu\n",
       "QQaoGdII7kaQLfDA4T3AAAAlziv4kp0h2wAAAABJRU5ErkJggg==\n",
       "\" style=\"display:inline;vertical-align:middle;\" /></a></td></tr>\n",
       "<tr><td>3</td><td>Literal</td><td></td><td><a class=\"ProveItLink\" href=\"../../../quantification/universal/__pv_it/265f8c02ac1094d56e0e6410a1c1fd3500dc9f540/expr.ipynb\"><img src=\"data:image/png;base64,iVBORw0KGgoAAAANSUhEUgAAAAwAAAAQBAMAAADQT4M0AAAAMFBMVEX///8QEBC6urrMzMxUVFRm\n",
       "ZmZERETc3NwyMjKqqqp2dnaIiIiYmJgiIiLu7u4AAAAU9Wx4AAAAAXRSTlMAQObYZgAAAFhJREFU\n",
       "CNdjeMAABhdAxGmGlSCqj6EMSLInMHAAJVknMPAsLy+vBYp8S0u7BaScGRjSgZQKA18DkOJl4D4A\n",
       "pLgP8IJM4mswARuX7gSmpoKNZWDcAKZ4gCoAgTQTILaSE58AAAAASUVORK5CYII=\n",
       "\" style=\"display:inline;vertical-align:middle;\" /></a></td></tr>\n",
       "<tr><td>4</td><td>Lambda</td><td>parameter:&nbsp;10<br>body:&nbsp;5<br>conditions:&nbsp;6<br></td><td><a class=\"ProveItLink\" href=\"../044edfcc7740411b5dca380517e5a5ebc02f85400/expr.ipynb\"><img src=\"data:image/png;base64,iVBORw0KGgoAAAANSUhEUgAAAKAAAAAVCAMAAAD2FhXZAAAANlBMVEX///8UFBQNDQ2qqqru7u4i\n",
       "IiJ2dnbc3NyIiIjMzMxmZmYQEBC6uroyMjJERERUVFSYmJgAAAC3B9V0AAAAAXRSTlMAQObYZgAA\n",
       "AdNJREFUSMfNlulyhSAMhW3Zd/L+L1urImERvNfemfLHZQ6Hb5IQWJb/MIj4c0sr354abfOL28mU\n",
       "ABDW4Z29uYgKxRd7yV+rCWCHx/jtoeEmoaPFF+TIImykKP3dNII1jwJ5PMMtPlkkODI4eYPqaSr/\n",
       "yCeADY+EvUoj8FuABgdQEA1nkSuf3hjSVP7UTAAbHn/MYMXK1zukyJFc/fIC7mAlGklqf0/GgA3P\n",
       "HknhfOYr64QUjhrH2dKFQMxKXYJ2/bkeA9b6NdVSSs0i0lQbM+DQOiSkNpcMSm1Odc+fuCFgoz9S\n",
       "Tlm4BKQBRcQgv99XAbreQMG2JZX9rRkCNvqUcolS9f3FimFQnaFX9duvAvgq9tT1Sur0VzAEbPRp\n",
       "M+NNXPdeHBIEuL8ZzKPXeuWxLSnkPwGs9SqBBiBXgBrXvDllJO023HZcNbv1H6e40aeuI8Bd1aAq\n",
       "OrOPZwtsjpKtWUfZ62rZPw43SaM/Uq4MPsDKy0DZHlOXOCvNAxYoz2inpJD/uM1Ueu33k9m5ePsq\n",
       "s4VXeANbt4urg8NLFh89//pSggHf4OkcdeP7m5qcR9Oj7vGI/NF0Lj8NWF23Xhx0ft16PER4MDmI\n",
       "zwMu4v0rv1Ttr2vAH7r8F7jfzXrfAAAAAElFTkSuQmCC\n",
       "\" style=\"display:inline;vertical-align:middle;\" /></a></td></tr>\n",
       "<tr><td>5</td><td>Operation</td><td>operator:&nbsp;7<br>operands:&nbsp;8<br></td><td><a class=\"ProveItLink\" href=\"../0f1bf4090acd92174180531bf3e50944b30066e50/expr.ipynb\"><img src=\"data:image/png;base64,iVBORw0KGgoAAAANSUhEUgAAADcAAAAPBAMAAACy3Eq1AAAAMFBMVEX///92dnYQEBBERERUVFS6\n",
       "urqIiIhmZmaqqqrc3Nzu7u6YmJgyMjIiIiLMzMwAAACFkkdwAAAAAXRSTlMAQObYZgAAAP1JREFU\n",
       "GNNjYACBtwyogNv/i4vzUSjnPIhgBTMfgEkmAwaG+gCIwvsLgCQLSJwtASzyHki9dwAzZ9RPAJJ8\n",
       "QNUMvAvAIvlAgf0CYGZCPtiEk0DcDrHHCIgvgdWxLujfwACVOAmR/MLAMMcKzFoKtgJsJNhooA1f\n",
       "0tJvQ5QFMMwvYIA4hgXiQrafDAxrwe7hc3Hxh2i4wLAGopxZAajgN9R/TAfAYhUM0hBJfqAu7o8g\n",
       "VgPQNgWw2BygXog3gQ5k+QFkcAIleT6AxVheQ4IA7M35INNA1jD/gjjSdgHcm3w6QPZk/ZMM3PZ/\n",
       "wM5lOA6RK/7v4nJmA1pkMLxC5QIA6tw+1pV4TWcAAAAASUVORK5CYII=\n",
       "\" style=\"display:inline;vertical-align:middle;\" /></a></td></tr>\n",
       "<tr><td>6</td><td>ExprTuple</td><td>10</td><td><a class=\"ProveItLink\" href=\"../a1a19f6677ed3601feaa5e06d5228e69f2c236a10/expr.ipynb\"><img src=\"data:image/png;base64,iVBORw0KGgoAAAANSUhEUgAAAB0AAAAVBAMAAABI7vhRAAAAMFBMVEX////c3NwiIiJERESqqqqY\n",
       "mJh2dnZmZmYQEBDu7u4yMjJUVFTMzMyIiIi6uroAAAAs73DqAAAAAXRSTlMAQObYZgAAANhJREFU\n",
       "GNNjYEAHfBfgzDgQcRqIo//v3m31gIH9AJC9EiTYzMDA/o+BYQEDAy9IOc9fIP7NwBDGwMAxAcjn\n",
       "/cjAwPqNgWEGA8MrkHLmBgYGpk4g7cBQBuLzb2BgXAxUyFbAsBTEP7/3blEAkGZZwNAH4t8XYODU\n",
       "BrmlgeEfiG8BEgMq4PkA4QOtYohPAPNbQNZ/BRL7HcDqTaHWM/4CMlgXMKRDrT8BcjfQvkdAl9v/\n",
       "3r0LbC/XAwYOASS/A93LmoDEz4X5FwI4gf5lkEbwuUF6GRHhdYeBAQDRdzVsr93CgQAAAABJRU5E\n",
       "rkJggg==\n",
       "\" style=\"display:inline;vertical-align:middle;\" /></a></td></tr>\n",
       "<tr><td>7</td><td>Literal</td><td></td><td><a class=\"ProveItLink\" href=\"../087d0b4ded7c7e5bf3bba05ecb616d7a8051ff650/expr.ipynb\"><img src=\"data:image/png;base64,iVBORw0KGgoAAAANSUhEUgAAAAwAAAAOBAMAAADpk+DfAAAALVBMVEX///+YmJh2dnZmZmaqqqrc\n",
       "3NwyMjLu7u4iIiJERESIiIhUVFTMzMy6uroAAAD0I/TTAAAAAXRSTlMAQObYZgAAAEtJREFUCNdj\n",
       "uMAABDwMe0DUKoaTIKqdgS2AgYHFAITAzHYGsMQqBoa9QIqDgT0BSDE7MAkAKdYEDpAehj1SYOpk\n",
       "O5hiMwBTPAUMDAB33Atnw8aG2QAAAABJRU5ErkJggg==\n",
       "\" style=\"display:inline;vertical-align:middle;\" /></a></td></tr>\n",
       "<tr><td>8</td><td>ExprTuple</td><td>9, 10</td><td><a class=\"ProveItLink\" href=\"../caee09fb4b5c95b986a9cee46a014afbad9bdc680/expr.ipynb\"><img src=\"data:image/png;base64,iVBORw0KGgoAAAANSUhEUgAAADUAAAAVBAMAAAAUZLt1AAAAMFBMVEX////c3NwiIiJERESqqqqY\n",
       "mJh2dnZmZmYQEBDu7u4yMjJUVFTMzMyIiIi6uroAAAAs73DqAAAAAXRSTlMAQObYZgAAATZJREFU\n",
       "KM9jYMAH+C5gFY4DEach7EMwQdb9v3dvXsfAfgDIXgkRWg/XwWHAwFD/gGEBAwMvxEhW/QkwufNA\n",
       "kfMbGMKAqiBiIvUCMLn7QFZ8AsMMBoZXEIEL9x/A5CyAWGMCA7MDQxnEsRP8A2ByvxkYpCwZGNgK\n",
       "GJaC+fPAtoABz++711WBNMsChj6wwAMG+QKoHO9HBoZJG4BGNTD8A6vdvXu/AVSOuQEo/xUo9gEi\n",
       "xwd07wKoHD9QD+s3sFwLiO/AwMDUAPMe0FHcX8BmmgK5jEA5rg8MDBNg3pMHGsK6gCEdyJ0FsuYn\n",
       "A+cnqPd4uiaA/fCIgUG4fyEDq/2vAs5+oJbi/7t3rwL5lesBA4cAUnQhsUFhxpqA4LIiR2AuIo7Q\n",
       "5ThBfpJG8JFTADfIfEbsaeIOAwMABOxNRsfkiy0AAAAASUVORK5CYII=\n",
       "\" style=\"display:inline;vertical-align:middle;\" /></a></td></tr>\n",
       "<tr><td>9</td><td>Variable</td><td></td><td><a class=\"ProveItLink\" href=\"../../../../../__pv_it/2cbe72a7ad6f655694dd697106680215e8489b600/expr.ipynb\"><img src=\"data:image/png;base64,iVBORw0KGgoAAAANSUhEUgAAAA8AAAAOBAMAAAACpFvcAAAALVBMVEX///8QEBBERERUVFS6urqI\n",
       "iIhmZmaqqqrc3Nzu7u6YmJgyMjIiIiLMzMwAAADtIaYWAAAAAXRSTlMAQObYZgAAAFtJREFUCNdj\n",
       "YACBOwxQsA9Kc52bAGG05zVAGAFxDmCaZULdAjBjCsO9ADDDgaEvAUTzGhvbKYCVMDAwbgAxChgY\n",
       "eASANAeQwf0AyJgNxEwvGRia5HYwcOm9TgAA6BoR3jrzwFcAAAAASUVORK5CYII=\n",
       "\" style=\"display:inline;vertical-align:middle;\" /></a></td></tr>\n",
       "<tr><td>10</td><td>Variable</td><td></td><td><a class=\"ProveItLink\" href=\"../../../../../__pv_it/077b2ff79244fb4582cbe22c6e3356fa92a52f2f0/expr.ipynb\"><img src=\"data:image/png;base64,iVBORw0KGgoAAAANSUhEUgAAABAAAAAOBAMAAADUAYG5AAAAMFBMVEX///+qqqru7u4iIiJ2dnbc\n",
       "3NyIiIjMzMxmZmYQEBC6uroyMjJERERUVFSYmJgAAADLUcuvAAAAAXRSTlMAQObYZgAAAGpJREFU\n",
       "CNdjYGB4+//u3dMLGIBgDgMDxy8gzf4NiP8CGWxfGRj4vgAZPBMYGJgnARn8FxhY9ygAGfXX0pof\n",
       "gDTlBzAw2YIYJ0EckBBI53sHoBH/gIz7AhBjWH9DjancBLTl/N+7t/cxMAAA3u4f/5xagjYAAAAA\n",
       "SUVORK5CYII=\n",
       "\" style=\"display:inline;vertical-align:middle;\" /></a></td></tr>\n",
       "</table>\n"
      ],
      "text/plain": [
       "0. A -> [forall_{B | B} (A or B)] | A\n",
       "   core type: Lambda\n",
       "   parameter: 9\n",
       "   body: 1\n",
       "   conditions: 2\\n1. forall_{B | B} (A or B)\n",
       "   core type: Operation\n",
       "   operator: 3\n",
       "   operand: 4\n",
       "2. (A)\n",
       "   core type: ExprTuple\n",
       "   sub-expressions: 9\n",
       "3. forall\n",
       "   core type: Literal\n",
       "   sub-expressions: \n",
       "4. B -> (A or B) | B\n",
       "   core type: Lambda\n",
       "   parameter: 10\n",
       "   body: 5\n",
       "   conditions: 6\\n5. A or B\n",
       "   core type: Operation\n",
       "   operator: 7\n",
       "   operands: 8\n",
       "6. (B)\n",
       "   core type: ExprTuple\n",
       "   sub-expressions: 10\n",
       "7. or\n",
       "   core type: Literal\n",
       "   sub-expressions: \n",
       "8. (A , B)\n",
       "   core type: ExprTuple\n",
       "   sub-expressions: 9, 10\n",
       "9. A\n",
       "   core type: Variable\n",
       "   sub-expressions: \n",
       "10. B\n",
       "    core type: Variable\n",
       "    sub-expressions: "
      ]
     },
     "execution_count": 4,
     "metadata": {},
     "output_type": "execute_result"
    }
   ],
   "source": [
    "# display the expression information\n",
    "expr.exprInfo()"
   ]
  },
  {
   "cell_type": "code",
   "execution_count": null,
   "metadata": {},
   "outputs": [],
   "source": []
  }
 ],
 "metadata": {
  "kernelspec": {
   "display_name": "Python 3",
   "language": "python",
   "name": "python3"
  }
 },
 "nbformat": 4,
 "nbformat_minor": 0
}
