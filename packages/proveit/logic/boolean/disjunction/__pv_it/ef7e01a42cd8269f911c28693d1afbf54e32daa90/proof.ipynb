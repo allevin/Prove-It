{
 "cells": [
  {
   "cell_type": "markdown",
   "metadata": {},
   "source": [
    "Show the Proof\n",
    "========"
   ]
  },
  {
   "cell_type": "code",
   "execution_count": 1,
   "metadata": {},
   "outputs": [
    {
     "data": {
      "text/html": [
       "<table><tr><th>&nbsp;</th><th>step type</th><th>requirements</th><th>statement</th></tr>\n",
       "<tr><td>0</td><td>assumption</td><td></td><td><span style=\"font-size:20px;\"><a class=\"ProveItLink\" href=\"../5f9eeda177669eff8ebd70deacc708a937d2a23d0/expr.ipynb\"><img src=\"data:image/png;base64,iVBORw0KGgoAAAANSUhEUgAAAPkAAAAVBAMAAAB251VaAAAAMFBMVEX///9ERETc3NyqqqpUVFS6\n",
       "urrMzMwyMjIQEBCIiIh2dnYiIiLu7u5mZmaYmJgAAABJJ2g3AAAAAXRSTlMAQObYZgAAAxFJREFU\n",
       "SMfFlktoE2EQxydpXpvHVvBQQTERhV6U5OapmEpAPEhysyJCDgELimmLRQ8+IsXHQWgELz1IAl5E\n",
       "bO3Bg4rYvWgOIlQEFcUmB8Gj1TQGi7TOfI/NTswhwYAL+Xbz2//OfDsz33wLAOYK/IfDdz9Gp/DT\n",
       "Hp7xFvvh2cyQ+xm6NFYVO9Wm+bKZSg1lOMt1lprptdTodBsM3zqy4l5m6DaanMwCvKM/72kIFtSt\n",
       "y+q8V2uvAEQanF1wSL3iMivGwBaAaoazezXwfqhx1gQYqAP4xX2nd3PJkhcXdWZ+4W+NMaPokHqy\n",
       "LZLHUz7JWOUZDg9jjPnWcahaYJbbve+uxqTT7WoWxg/0s85YwHJIffi+EJKkhOBbmbHzNI5xndGQ\n",
       "Mw0X2r0XSzLHnmOqslx4I3STsaNMOoW/EUm24e+x5WSROo37uM5FNRbHGG1t8+61DtTERQUWpcXB\n",
       "JLgnLcY+MumIsowHJmh4B2PxCRpfct0ghYEyNK+9R4QMXojc4bEAb6XF/OG5T3JCNrvEpBhNEVUq\n",
       "j7k7z4Gxas2u9JZOPEcZ2k9nIuMy4BmIy9WxCMOgcxl+BIxdZVKsJE/GLpFXScaWYrb3lq5EBZjO\n",
       "yHrwo5HcNTn7VCot5mcWZZHKXJZqjDWYFCdVaZWIscHYphgtrovScIOCQBdDaHwsqxZvYEKHKalz\n",
       "KaLkYA0mxXQs2CWil4dmszQMZLnuO73KhvIeItseYSmB/wqsRHykSicYm2FSTIcq0Dy+hafOWJpe\n",
       "OwKMUQcRjUlEXuQ9SHfcaNK/ypYH5dLdBMZ2Mil4zhTtElFFbjNRYA+AMeMnxZum9ZWtOMqL67fd\n",
       "GnQux0VnbbF5p9TRmLBEfNctxkwMxQlVeZrRcj+5rA3Z3nfNToEZbeINUZzUFiPRtdQhucJsBsed\n",
       "0lYDfoObxzm9wnSjzp39nADGXqPJUbHBwHR7r1NbqFpTnVkgxrex0x22z27Y3522q4253J9Pi2BR\n",
       "ezd78K532H89Kvb+Hn7Sw2N7+uP9IJWibJzm3e4fc/fly8rIqu+6P8xR99x9m1HxAAAAAElFTkSu\n",
       "QmCC\n",
       "\" style=\"display:inline;vertical-align:middle;\" /></a> <a class=\"ProveItLink\" href=\"proof.ipynb\" style=\"text-decoration: none\">&#x22A2;&nbsp;</a><a class=\"ProveItLink\" href=\"../aec22aaf5f1afc78b0a42addbe9d3bb1daded6580/expr.ipynb\"><img src=\"data:image/png;base64,iVBORw0KGgoAAAANSUhEUgAAAOQAAAAVBAMAAACkt18CAAAAMFBMVEX///92dnYQEBBERERUVFS6\n",
       "urqIiIhmZmaqqqrc3Nzu7u6YmJgyMjIiIiLMzMwAAACFkkdwAAAAAXRSTlMAQObYZgAAAsRJREFU\n",
       "SMfNlk1oE0EUx5/JZtNk2zR4KdiDRRFEhIon0UoCXRRB2MWDXhQCSj2m6sGCaHLrRTCgoEghexEv\n",
       "UXLwKFisIq2CRTzpoUF68oO0mEi0wfrezOzuvJJDA3twYV92fvvfNzPvvZkJwH98JQpReLFc9fBj\n",
       "y4tnm7Y94XK22ltqOS178vUWmL548kZqmqFL6HKhAXBLtd+r34e+YC9Ass3ZkiZNiMeGsLFDACWX\n",
       "s511SFytc9YFGOgADKqRrnjy4Y1yn/mFd4sxs6BJjUZImvjTzDNW+4Rmd4WxzDqakgdWVnz1oFSR\n",
       "PR1XXZu/0fk6YzFPk2ZwZjAkSRHBiyxjL8me4TqzLYeXHhNfFYoyb8ZZVSJx5EMHGDsPunQR71lJ\n",
       "DuP9wdNZskP2PtfF19BUMRpHRGa8O3WBa7As3QznIbXgMXYFdOmscocXxn/uKGPVebJPuW6YJkwJ\n",
       "GKHWI5EPvEZhRrppnpi6KUcRsLegSzFYImiU8qnLn4GxUj2o01AnvqME3KaWC1VZ0MswB35+0h+B\n",
       "sX2gS7EkDDdI+5M8YyuVoMtQV6RKclyVY9t2xEisgiwxmZ9inTGxZAIpjqQWpt3cYGxTWI/rcmT2\n",
       "0HTlIovN+1HI+/kRQdBYG3QpRns0SLtf3D4bJzPQ4LqfNP4N1WUZHY+xXGfolVNmbD/oUoy2qrQm\n",
       "BsPoMObQBJPAGK10sWtQYFPoZ3CNVTTlJ9UFxo6BLgXjWyFIuyrRgIlK2QWMmX/RTNBYnoOIdfxP\n",
       "sG79/HwRG1zIRkCTarsGpj1z0GPMwkmfUyXkM1qW36elo7vji2DlutgSpUW7UzLXsk/LRREwuACa\n",
       "NNwHr+Fu/c5fFP5+ufrqehkYe4wuJ+WOrh8BCbUMoCeLVfhh8bXHybQdpja8bR102WiO3R19HLtL\n",
       "0XRZ60N7L5ouT/WhTUXyR8RswD+FBenhsJNkpwAAAABJRU5ErkJggg==\n",
       "\" style=\"display:inline;vertical-align:middle;\" /></a></span></td></tr>\n",
       "</table>"
      ],
      "text/plain": [
       "<proveit._core_.proof._ShowProof at 0x7f94ebb8e080>"
      ]
     },
     "execution_count": 1,
     "metadata": {},
     "output_type": "execute_result"
    }
   ],
   "source": [
    "import proveit\n",
    "%show_proof"
   ]
  },
  {
   "cell_type": "code",
   "execution_count": null,
   "metadata": {},
   "outputs": [],
   "source": []
  }
 ],
 "metadata": {
  "kernelspec": {
   "display_name": "Python 3",
   "language": "python",
   "name": "python3"
  }
 },
 "nbformat": 4,
 "nbformat_minor": 0
}
