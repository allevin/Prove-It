{
 "cells": [
  {
   "cell_type": "markdown",
   "metadata": {},
   "source": [
    "Expression of type <a class=\"ProveItLink\" href=\"../../../../../../../doc/html/api/proveit.logic.Set.html\">Set</a>\n",
    "=======================\n",
    "# from context <a class=\"ProveItLink\" href=\"../../_context_.ipynb\">proveit.logic.boolean.disjunction</a>"
   ]
  },
  {
   "cell_type": "code",
   "execution_count": 1,
   "metadata": {},
   "outputs": [],
   "source": [
    "# import Expression classes needed to build the expression\n",
    "from proveit._common_ import C, D\n",
    "from proveit.logic import Booleans, InSet, Set"
   ]
  },
  {
   "cell_type": "code",
   "execution_count": 2,
   "metadata": {},
   "outputs": [
    {
     "data": {
      "text/html": [
       "<strong id=\"expr\">expr:</strong> <a class=\"ProveItLink\" href=\"expr.ipynb\"><img src=\"data:image/png;base64,iVBORw0KGgoAAAANSUhEUgAAAI0AAAAVBAMAAACJRXC4AAAAMFBMVEX////c3NxERESqqqpUVFS6\n",
       "urrMzMwyMjIQEBCIiIh2dnYiIiLu7u5mZmaYmJgAAABXZE4RAAAAAXRSTlMAQObYZgAAAcVJREFU\n",
       "OMtjYGDgu8dAEWBbJQCieHYxUAjYmkEk5wcw56TK3QeyKNLLP9VXbDKAcjj9v7i4qzFgV3AdxONq\n",
       "AJN9DAyxfajqFCJ5albBOPwFDAz2BtgVrICbw1N9AMj6iK6MYSo7jJO/gIGB9w92BQhz2HuABGsD\n",
       "xIfVu7fDlNmxHIDqmR8ADIif2BUgzLkPcjHjBXCo1R1Ask4IZrc+SMEX7Arg5jB+B8dcAogUOoBw\n",
       "Nts+HRjnE8iEL9gVgM3hBQYg7z+EpxUR3o/e/2MCLG5BXuL7hV3BexAnA+hxbkQI8yggB+NMI1i8\n",
       "fwMSLF+xK2AHBkhKGyhSwWmIB0Swdu/ejQhGJtYFEC1MIBUcDTgUqD9gYIgAhgoH2BwzsAcckK1j\n",
       "YoDazg+i3z/AroAbZBYLMHxYwAkDHF08G7Cakw8KhyYcCsDhw7UBGopckHjwQ1EGdDZYeD7Q1Uw1\n",
       "2BUgpZ/3BgysFyGSpwOQlL2dxMDzG5p82GqxK0A2h83d9zJUkrE2AZ4NtVsMGHj6BRh4Lv13cdFN\n",
       "wK4A2RxkwOwOjQ4oYBUgoACHOeiAj2ABBDaHj3JzwOUPz04CqiYQLA9bIfYtpkL5DAB5H5amZT4M\n",
       "EQAAAABJRU5ErkJggg==\n",
       "\" style=\"display:inline;vertical-align:middle;\" /></a><br>"
      ],
      "text/plain": [
       "expr: {C in BOOLEANS , D in BOOLEANS}"
      ]
     },
     "execution_count": 2,
     "metadata": {},
     "output_type": "execute_result"
    }
   ],
   "source": [
    "# build up the expression from sub-expressions\n",
    "expr = Set(InSet(C, Booleans), InSet(D, Booleans))"
   ]
  },
  {
   "cell_type": "code",
   "execution_count": 3,
   "metadata": {},
   "outputs": [
    {
     "name": "stdout",
     "output_type": "stream",
     "text": [
      "Passed sanity check: built 'expr' is the same as the stored Expression.\n"
     ]
    }
   ],
   "source": [
    "# check that the built expression is the same as the stored expression\n",
    "%check_expr"
   ]
  },
  {
   "cell_type": "code",
   "execution_count": 4,
   "metadata": {},
   "outputs": [
    {
     "data": {
      "text/html": [
       "<table><tr><th>&nbsp;</th><th>core type</th><th>sub-expressions</th><th>expression</th></tr>\n",
       "<tr><td>0</td><td>Operation</td><td>operator:&nbsp;1<br>operands:&nbsp;2<br></td><td><a class=\"ProveItLink\" href=\"expr.ipynb\"><img src=\"data:image/png;base64,iVBORw0KGgoAAAANSUhEUgAAAI0AAAAVBAMAAACJRXC4AAAAMFBMVEX////c3NxERESqqqpUVFS6\n",
       "urrMzMwyMjIQEBCIiIh2dnYiIiLu7u5mZmaYmJgAAABXZE4RAAAAAXRSTlMAQObYZgAAAcVJREFU\n",
       "OMtjYGDgu8dAEWBbJQCieHYxUAjYmkEk5wcw56TK3QeyKNLLP9VXbDKAcjj9v7i4qzFgV3AdxONq\n",
       "AJN9DAyxfajqFCJ5albBOPwFDAz2BtgVrICbw1N9AMj6iK6MYSo7jJO/gIGB9w92BQhz2HuABGsD\n",
       "xIfVu7fDlNmxHIDqmR8ADIif2BUgzLkPcjHjBXCo1R1Ask4IZrc+SMEX7Arg5jB+B8dcAogUOoBw\n",
       "Nts+HRjnE8iEL9gVgM3hBQYg7z+EpxUR3o/e/2MCLG5BXuL7hV3BexAnA+hxbkQI8yggB+NMI1i8\n",
       "fwMSLF+xK2AHBkhKGyhSwWmIB0Swdu/ejQhGJtYFEC1MIBUcDTgUqD9gYIgAhgoH2BwzsAcckK1j\n",
       "YoDazg+i3z/AroAbZBYLMHxYwAkDHF08G7Cakw8KhyYcCsDhw7UBGopckHjwQ1EGdDZYeD7Q1Uw1\n",
       "2BUgpZ/3BgysFyGSpwOQlL2dxMDzG5p82GqxK0A2h83d9zJUkrE2AZ4NtVsMGHj6BRh4Lv13cdFN\n",
       "wK4A2RxkwOwOjQ4oYBUgoACHOeiAj2ABBDaHj3JzwOUPz04CqiYQLA9bIfYtpkL5DAB5H5amZT4M\n",
       "EQAAAABJRU5ErkJggg==\n",
       "\" style=\"display:inline;vertical-align:middle;\" /></a></td></tr>\n",
       "<tr><td>1</td><td>Literal</td><td></td><td><a class=\"ProveItLink\" href=\"../../../../set_theory/enumeration/__pv_it/07381ed5b23806e8d7914b78cb6667769e3708dd0/expr.ipynb\"><img src=\"data:image/png;base64,iVBORw0KGgoAAAANSUhEUgAAAB4AAAAOBAMAAADKyLEKAAAAMFBMVEX///8iIiIQEBCIiIjMzMzc\n",
       "3Nyqqqp2dnZEREQyMjK6urru7u5mZmZUVFSYmJgAAACI6eGPAAAAAXRSTlMAQObYZgAAALRJREFU\n",
       "CNdjYGDgu3Nm3wIGBJjHwN0PZW5yYGDgLWBgyITy8zcwMMQDxZyh/INAvD6BgcEFypcB4vjPDiBm\n",
       "TPFRrhs/LjMwMP//38rAwCbKEMPA9gEkE3fp0waG+AUMRxh4JkC01T9guPTOOICBEWgVH5C//wHD\n",
       "H5D4fqCz9oCMDGD4DLaegRXslLMMDMpAgxlOMmQxHDRgYG5gYLBk4D7KcIe7gOHC2rt9QCXsh40Z\n",
       "GCKMGQDRkC8N/Ph1XAAAAABJRU5ErkJggg==\n",
       "\" style=\"display:inline;vertical-align:middle;\" /></a></td></tr>\n",
       "<tr><td>2</td><td>ExprTuple</td><td>3, 4</td><td><a class=\"ProveItLink\" href=\"../a569ae47bd358e7e9f5528a1fe00a0e4036c519c0/expr.ipynb\"><img src=\"data:image/png;base64,iVBORw0KGgoAAAANSUhEUgAAAIYAAAAVBAMAAABxpYtPAAAAMFBMVEX////c3NwiIiJERESqqqqY\n",
       "mJh2dnZmZmYQEBDu7u4yMjJUVFTMzMyIiIi6uroAAAAs73DqAAAAAXRSTlMAQObYZgAAAclJREFU\n",
       "OMtjYKAG4LtAkXbWB0DiNIg117o8QBxFLuvz+hXKDlAO7/7fu3fZMGBVUANkrwRitlYGhuetqGoM\n",
       "3nKuTINx+BcwMPg7YFXABbQC6BXORROA5nxEV8JwjwvGOZ/AwMD+E6sC1gQGDqB2rk5QuDSAZeYu\n",
       "UtKCKXHlngBVfx/oa56/WBVwNjC8AvLqQa5kLABJ8CydgGSNMMxOe5CC39gVmDCUASV/gYQ4D4BI\n",
       "4QkIp/KoWsI4n0G6f2NXkM6wFOjRrwhPGiK8+0j/Byzawd5g/YZdgRdDHwMDEyI0OQ2Qg+yuMyxu\n",
       "/wAJ7n/YFbxgAErwfwBrBye4JiUlRJAx8yVAlDODVHA0YFdwHmQGB9gMH7CjNyBbw8wAtZUfRMcH\n",
       "YFdwnqEF6EhwxIOjhVMBqxnnQf5uxqHgBYMpNMTYIOG9FUUJ0Klg4fvAOGNeiV0BQxQwZoCudGDg\n",
       "K4RITHqApCT8MgPnJ2jy4FmOXQEobh+BPLlrewlUgnH5AXiWMup2YODsF2DgLP6/e7f5AewKGBjW\n",
       "MXAIoOYCll3QYIcVDWjyGAqAaZ01gUD5QKgAYbsAyfuUmDELiKXxKyFYym0EBRJlZSHvAQYApUCb\n",
       "eVxSk3oAAAAASUVORK5CYII=\n",
       "\" style=\"display:inline;vertical-align:middle;\" /></a></td></tr>\n",
       "<tr><td>3</td><td>Operation</td><td>operator:&nbsp;6<br>operands:&nbsp;5<br></td><td><a class=\"ProveItLink\" href=\"../fd7f678709486d41d06d72d1a15c8d8fea4ac2f30/expr.ipynb\"><img src=\"data:image/png;base64,iVBORw0KGgoAAAANSUhEUgAAADYAAAAPBAMAAABdHiGLAAAAMFBMVEX////MzMyqqqoiIiIyMjK6\n",
       "uroQEBB2dnbc3NyYmJhmZmZUVFRERESIiIju7u4AAAB204erAAAAAXRSTlMAQObYZgAAANhJREFU\n",
       "GNNjYGDgu7NrJccCBiTA7n/kS/IhEKtsAgPrsgnIcgw8rBeePC9gYHhiB+TUN6DL8QY4MDC4PQBy\n",
       "wsBCfFeMjR2gckwT9jFwfQJxusByIvOQ9EUcYOgHK3wIIjjOIZkpPOcBw3qEK3gaEHLG/3MZGOwR\n",
       "rniD4pZLBxj+gzkg9zCEGRsj3MJwIJwhH8RmEgCR0sj6GA7wMOwHaeECizxGl5O/AGTXgUW4J6DI\n",
       "hTNwAv0XBXEPnymSHOfaA0BbvFcpQIVaFsLD+o/ZJgZUoO0McScEAABFOz+SfMQzfQAAAABJRU5E\n",
       "rkJggg==\n",
       "\" style=\"display:inline;vertical-align:middle;\" /></a></td></tr>\n",
       "<tr><td>4</td><td>Operation</td><td>operator:&nbsp;6<br>operands:&nbsp;7<br></td><td><a class=\"ProveItLink\" href=\"../0763f6d8486998fbf10d5185b725b9bae35309ac0/expr.ipynb\"><img src=\"data:image/png;base64,iVBORw0KGgoAAAANSUhEUgAAADgAAAAPBAMAAABD1xE4AAAAMFBMVEX///8iIiIQEBCYmJjc3Ny6\n",
       "urru7u5mZmZ2dnaqqqrMzMxEREQyMjJUVFSIiIgAAABUCcz6AAAAAXRSTlMAQObYZgAAAONJREFU\n",
       "GNNjYGB4+//u3dMLGJABx/k9fxR3gpl/GBg4f6JIMnCzPsjJaAAyuH4AifoEdEm+gANABt9XILH+\n",
       "AVgw76CgDFSS0+AaiPEBSPhfAIlxHU5A6AzZAGTwg4j1YEnvBISxC60TYCbag2xn2IKwU/C/Hojx\n",
       "HuSN+wFAgm0DsoNegnj7QTwlEMGqKCgIdxDDhggg4zcQM38Gu+cCkk6GDdxAkX9ADhPYQDYBdEm+\n",
       "X0DOHogzL6NIRkC8uaYAIpYYgJBkrtvAkL7/793bVVAxluMLYAH/W+gmAxrgvANxLQQAAJQZSrQa\n",
       "1FaRAAAAAElFTkSuQmCC\n",
       "\" style=\"display:inline;vertical-align:middle;\" /></a></td></tr>\n",
       "<tr><td>5</td><td>ExprTuple</td><td>8, 10</td><td><a class=\"ProveItLink\" href=\"../27442cd11f18ed9aa91867e6dfbe7fcf8d7a975d0/expr.ipynb\"><img src=\"data:image/png;base64,iVBORw0KGgoAAAANSUhEUgAAADIAAAAVBAMAAAD2uKAMAAAAMFBMVEX////c3NwiIiJERESqqqqY\n",
       "mJh2dnZmZmYQEBDu7u4yMjJUVFTMzMyIiIi6uroAAAAs73DqAAAAAXRSTlMAQObYZgAAASVJREFU\n",
       "KM9jYMAN+C5gEWR9ACROg1hzrcsDxEGMrM/rVyg7MDDUANkrgZitlYHheStYtcFbzpVpDAxcDAy8\n",
       "QMM4F00Ayn6EyjDcAwqzJjBwAAW5OkH2NcBkXLknMHA2MLwC8uqBBjMwFsD1CANpE4YyoNgvkBDn\n",
       "AagMj6olkE5nWMrAwP4Vyb0Gj/R/gPzhxdDHwMD0EVnmLcNdZyD9guEfAwP/B7BpcBlmvgQGhvMg\n",
       "GQ6wjA9ChsEAJNPCwMD9EyRUgCrzgsGUgYHnLygYJkDMg5kWBXQdA0O8AwNfIQPDfAWITPhlsKsf\n",
       "AUmeXdtLgNSMj+AQNeoGeXwdA4cAwsUPEUxg6ACDDg4CEEy2C5BYwJSZBcTScB4vUlBsBIUxttjm\n",
       "PcAAAB/VTWJRVON/AAAAAElFTkSuQmCC\n",
       "\" style=\"display:inline;vertical-align:middle;\" /></a></td></tr>\n",
       "<tr><td>6</td><td>Literal</td><td></td><td><a class=\"ProveItLink\" href=\"../../../../set_theory/membership/__pv_it/088cbc857536a28d4119ad9639a84270ccb0545d0/expr.ipynb\"><img src=\"data:image/png;base64,iVBORw0KGgoAAAANSUhEUgAAAAwAAAAMBAMAAACkW0HUAAAALVBMVEX///+qqqpmZmZUVFQQEBC6\n",
       "urpERETc3NyYmJjMzMwiIiIyMjKIiIju7u4AAACYsrA9AAAAAXRSTlMAQObYZgAAADxJREFUCNdj\n",
       "YOA9vWrVBgaG2b0MQMCeCyIZ2ArA1DUwyRCyahVIyWQI7xaEYm4AU7xLIdxqTQgtvGvVBgCkcQ7e\n",
       "geM/tQAAAABJRU5ErkJggg==\n",
       "\" style=\"display:inline;vertical-align:middle;\" /></a></td></tr>\n",
       "<tr><td>7</td><td>ExprTuple</td><td>9, 10</td><td><a class=\"ProveItLink\" href=\"../fb02af353adc6b70afd5cdd94ff64eec2da7b9f60/expr.ipynb\"><img src=\"data:image/png;base64,iVBORw0KGgoAAAANSUhEUgAAADUAAAAVBAMAAAAUZLt1AAAAMFBMVEX////c3NwiIiJERESqqqqY\n",
       "mJh2dnZmZmYQEBDu7u4yMjJUVFTMzMyIiIi6uroAAAAs73DqAAAAAXRSTlMAQObYZgAAAS1JREFU\n",
       "KM9jYMAH+C5gFY4DEaeB+Pb/3bsXHwCLsa23+tVkwsDADuKuBIn8YmBg+QLRwMx3Yda0BAaGBQwM\n",
       "vCAjeb4BifoJMDneB0CJMAYGDpAI7z8gcf4CTI4lYCcDwwwGhldg/gcgIb8Bru+hAZB2YCgD8fkN\n",
       "QPrgcoeCgYaxFTAsZYAZF58AlVP63wukWRYw9IH490EO3v8AbuYVoDl8DQwgVzDYg4gOuB8YDJ4B\n",
       "3f4BIvcZiFm/Iskxg+VaQN77CyQ4DFDlgGaagrz3B0hYAd02AclM1gUM6VDvnSpgYOD8BJFjrTUA\n",
       "++ERA8N0+9+7N9cAhTn7BUBh/VljC5DD9YCBQwA5vpA4wDBjTUCSY0Vi58LiCFOOExgVDNJIckhJ\n",
       "gBtkPCP2NHGHgQEADD5XmfG0utYAAAAASUVORK5CYII=\n",
       "\" style=\"display:inline;vertical-align:middle;\" /></a></td></tr>\n",
       "<tr><td>8</td><td>Variable</td><td></td><td><a class=\"ProveItLink\" href=\"../../../../../__pv_it/985a1bdf1540838275dec15f4ad6de261cca93ce0/expr.ipynb\"><img src=\"data:image/png;base64,iVBORw0KGgoAAAANSUhEUgAAAA8AAAAOBAMAAAACpFvcAAAAMFBMVEX////MzMyqqqoiIiIyMjK6\n",
       "uroQEBB2dnbc3NyYmJhmZmZUVFRERESIiIju7u4AAAB204erAAAAAXRSTlMAQObYZgAAAGZJREFU\n",
       "CNdjYGDgu7NrJccCBgaGsgkMrMsmMDA8sQNy6hsYGNweABlhDAxcn4A0QxcDQ78DiPGQgWH9BAYI\n",
       "sG+AMv6DSaCGfBDNJMDAsB+kmwuI5S8AiTog5gSaEwXWIO29SgFIAQBC+RaDQlidVgAAAABJRU5E\n",
       "rkJggg==\n",
       "\" style=\"display:inline;vertical-align:middle;\" /></a></td></tr>\n",
       "<tr><td>9</td><td>Variable</td><td></td><td><a class=\"ProveItLink\" href=\"../../../../../__pv_it/185e6d30f167ee2ee5ef3321098dc98e0d77bc590/expr.ipynb\"><img src=\"data:image/png;base64,iVBORw0KGgoAAAANSUhEUgAAABEAAAAOBAMAAAA7w+qHAAAALVBMVEX///8QEBCYmJjc3Ny6urru\n",
       "7u5mZmZ2dnaqqqrMzMxEREQyMjJUVFSIiIgAAABETr/8AAAAAXRSTlMAQObYZgAAAGpJREFUCNdj\n",
       "YGC48+7MmV0TGEDgNQMDxwsQg/M5kMgLABK8T4DEvAtAgusBkLA7ACT4FoDEDsAk9AqAxD2QCecc\n",
       "gMQ6kAGCIOIVEDM9Ahn3FkgwgnTxvgQSqwOgxs1OADLC1r05cyoTyAAAv4Qe+njAWvgAAAAASUVO\n",
       "RK5CYII=\n",
       "\" style=\"display:inline;vertical-align:middle;\" /></a></td></tr>\n",
       "<tr><td>10</td><td>Literal</td><td></td><td><a class=\"ProveItLink\" href=\"../../../__pv_it/46271c8230be96415d662709611f4ed2279d702b0/expr.ipynb\"><img src=\"data:image/png;base64,iVBORw0KGgoAAAANSUhEUgAAAA0AAAAOBAMAAAAGUYvhAAAAMFBMVEX///9mZmbMzMzc3NxUVFSY\n",
       "mJju7u6IiIi6urqqqqoiIiIQEBBEREQyMjJ2dnYAAAAQvcRZAAAAAXRSTlMAQObYZgAAAElJREFU\n",
       "CNdjePvn/u01ExgYGA60s117B6YZKngh9FSWBAjfBsxnWnoMRHet/10AkS+fA6F5OB5AaIYDqDRU\n",
       "PLCGgQFoz6ktExgAgLIl8DFvGtkAAAAASUVORK5CYII=\n",
       "\" style=\"display:inline;vertical-align:middle;\" /></a></td></tr>\n",
       "</table>\n"
      ],
      "text/plain": [
       "0. {C in BOOLEANS , D in BOOLEANS}\n",
       "   core type: Operation\n",
       "   operator: 1\n",
       "   operands: 2\n",
       "1. Set\n",
       "   core type: Literal\n",
       "   sub-expressions: \n",
       "2. (C in BOOLEANS , D in BOOLEANS)\n",
       "   core type: ExprTuple\n",
       "   sub-expressions: 3, 4\n",
       "3. C in BOOLEANS\n",
       "   core type: Operation\n",
       "   operator: 6\n",
       "   operands: 5\n",
       "4. D in BOOLEANS\n",
       "   core type: Operation\n",
       "   operator: 6\n",
       "   operands: 7\n",
       "5. (C , BOOLEANS)\n",
       "   core type: ExprTuple\n",
       "   sub-expressions: 8, 10\n",
       "6. in\n",
       "   core type: Literal\n",
       "   sub-expressions: \n",
       "7. (D , BOOLEANS)\n",
       "   core type: ExprTuple\n",
       "   sub-expressions: 9, 10\n",
       "8. C\n",
       "   core type: Variable\n",
       "   sub-expressions: \n",
       "9. D\n",
       "   core type: Variable\n",
       "   sub-expressions: \n",
       "10. BOOLEANS\n",
       "    core type: Literal\n",
       "    sub-expressions: "
      ]
     },
     "execution_count": 4,
     "metadata": {},
     "output_type": "execute_result"
    }
   ],
   "source": [
    "# display the expression information\n",
    "expr.exprInfo()"
   ]
  },
  {
   "cell_type": "code",
   "execution_count": null,
   "metadata": {},
   "outputs": [],
   "source": []
  }
 ],
 "metadata": {
  "kernelspec": {
   "display_name": "Python 3",
   "language": "python",
   "name": "python3"
  }
 },
 "nbformat": 4,
 "nbformat_minor": 0
}
