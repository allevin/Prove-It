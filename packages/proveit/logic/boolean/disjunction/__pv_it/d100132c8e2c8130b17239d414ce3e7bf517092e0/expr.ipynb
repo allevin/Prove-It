{
 "cells": [
  {
   "cell_type": "markdown",
   "metadata": {},
   "source": [
    "Expression of type <a class=\"ProveItLink\" href=\"../../../../../../../doc/html/api/proveit.logic.InSet.html\">InSet</a>\n",
    "=======================\n",
    "# from context <a class=\"ProveItLink\" href=\"../../_context_.ipynb\">proveit.logic.boolean.disjunction</a>"
   ]
  },
  {
   "cell_type": "code",
   "execution_count": 1,
   "metadata": {},
   "outputs": [],
   "source": [
    "# import Expression classes needed to build the expression\n",
    "from proveit._common_ import C\n",
    "from proveit.logic import Booleans, InSet\n",
    "from proveit.number import Exp, one"
   ]
  },
  {
   "cell_type": "code",
   "execution_count": 2,
   "metadata": {},
   "outputs": [
    {
     "data": {
      "text/html": [
       "<strong id=\"expr\">expr:</strong> <a class=\"ProveItLink\" href=\"expr.ipynb\"><img src=\"data:image/png;base64,iVBORw0KGgoAAAANSUhEUgAAAE0AAAAZBAMAAACGOL5iAAAAMFBMVEX////c3NwiIiJERESqqqqY\n",
       "mJh2dnZmZmYQEBDu7u4yMjJUVFTMzMyIiIi6uroAAAAs73DqAAAAAXRSTlMAQObYZgAAAWRJREFU\n",
       "KM9jYCAC8BgwEKWsWoEodQwstFDHdwHOj8On7jSINde6PECcgf0AqnzW5/UrlB2g6lYCMVsrA8Nz\n",
       "IF6AZpDBW86VaRB1vEBrORdNAKr9yMAQhqGO4R4XRB0HUAlXJ8idDQwMMyDScxcpacHUuXJPAKt7\n",
       "BeTWA93AwFjAwMDsAA7XpROQzBNmYMz6foGhDKjiF0iME+gJtgIQS3gCwl4eVUsIcykDA/tXeACA\n",
       "PWKIcN8j/R/QYOtjYGD6CBMHuZGB0wDZH3edIcx/DAz8H8D2glwGYvE1KSkh/MHMlwBTxwFW5wNT\n",
       "x7MB2TxmBojxLQwM3D9BjAK4vQrY1JkCDfgLihKQJ1nB/tiKog5qbzoQxzsw8BWCOJBwmfQASV34\n",
       "ZQjzEchFu7aXgDlcYBWMyw/A04FRtwOEzSGAFJ/QeGPZBfUvEmBNQOLk4kmsKxFMzgV41EkjmNwC\n",
       "eNQxItL9HdyqAIKVWGvEFTbzAAAAAElFTkSuQmCC\n",
       "\" style=\"display:inline;vertical-align:middle;\" /></a><br>"
      ],
      "text/plain": [
       "expr: (C) in BOOLEANS^{1}"
      ]
     },
     "execution_count": 2,
     "metadata": {},
     "output_type": "execute_result"
    }
   ],
   "source": [
    "# build up the expression from sub-expressions\n",
    "expr = InSet([C], Exp(Booleans, one))"
   ]
  },
  {
   "cell_type": "code",
   "execution_count": 3,
   "metadata": {},
   "outputs": [
    {
     "name": "stdout",
     "output_type": "stream",
     "text": [
      "Passed sanity check: built 'expr' is the same as the stored Expression.\n"
     ]
    }
   ],
   "source": [
    "# check that the built expression is the same as the stored expression\n",
    "%check_expr"
   ]
  },
  {
   "cell_type": "code",
   "execution_count": 4,
   "metadata": {},
   "outputs": [
    {
     "data": {
      "text/html": [
       "<table><tr><th>&nbsp;</th><th>core type</th><th>sub-expressions</th><th>expression</th></tr>\n",
       "<tr><td>0</td><td>Operation</td><td>operator:&nbsp;1<br>operands:&nbsp;2<br></td><td><a class=\"ProveItLink\" href=\"expr.ipynb\"><img src=\"data:image/png;base64,iVBORw0KGgoAAAANSUhEUgAAAE0AAAAZBAMAAACGOL5iAAAAMFBMVEX////c3NwiIiJERESqqqqY\n",
       "mJh2dnZmZmYQEBDu7u4yMjJUVFTMzMyIiIi6uroAAAAs73DqAAAAAXRSTlMAQObYZgAAAWRJREFU\n",
       "KM9jYCAC8BgwEKWsWoEodQwstFDHdwHOj8On7jSINde6PECcgf0AqnzW5/UrlB2g6lYCMVsrA8Nz\n",
       "IF6AZpDBW86VaRB1vEBrORdNAKr9yMAQhqGO4R4XRB0HUAlXJ8idDQwMMyDScxcpacHUuXJPAKt7\n",
       "BeTWA93AwFjAwMDsAA7XpROQzBNmYMz6foGhDKjiF0iME+gJtgIQS3gCwl4eVUsIcykDA/tXeACA\n",
       "PWKIcN8j/R/QYOtjYGD6CBMHuZGB0wDZH3edIcx/DAz8H8D2glwGYvE1KSkh/MHMlwBTxwFW5wNT\n",
       "x7MB2TxmBojxLQwM3D9BjAK4vQrY1JkCDfgLihKQJ1nB/tiKog5qbzoQxzsw8BWCOJBwmfQASV34\n",
       "ZQjzEchFu7aXgDlcYBWMyw/A04FRtwOEzSGAFJ/QeGPZBfUvEmBNQOLk4kmsKxFMzgV41EkjmNwC\n",
       "eNQxItL9HdyqAIKVWGvEFTbzAAAAAElFTkSuQmCC\n",
       "\" style=\"display:inline;vertical-align:middle;\" /></a></td></tr>\n",
       "<tr><td>1</td><td>Literal</td><td></td><td><a class=\"ProveItLink\" href=\"../../../../set_theory/membership/__pv_it/088cbc857536a28d4119ad9639a84270ccb0545d0/expr.ipynb\"><img src=\"data:image/png;base64,iVBORw0KGgoAAAANSUhEUgAAAAwAAAAMBAMAAACkW0HUAAAALVBMVEX///+qqqpmZmZUVFQQEBC6\n",
       "urpERETc3NyYmJjMzMwiIiIyMjKIiIju7u4AAACYsrA9AAAAAXRSTlMAQObYZgAAADxJREFUCNdj\n",
       "YOA9vWrVBgaG2b0MQMCeCyIZ2ArA1DUwyRCyahVIyWQI7xaEYm4AU7xLIdxqTQgtvGvVBgCkcQ7e\n",
       "geM/tQAAAABJRU5ErkJggg==\n",
       "\" style=\"display:inline;vertical-align:middle;\" /></a></td></tr>\n",
       "<tr><td>2</td><td>ExprTuple</td><td>3, 4</td><td><a class=\"ProveItLink\" href=\"../5ca44700cec6a5146375ab176b37508e11c589780/expr.ipynb\"><img src=\"data:image/png;base64,iVBORw0KGgoAAAANSUhEUgAAAFIAAAAcBAMAAAAAUPW0AAAAMFBMVEX///+qqqp2dnYiIiJERESI\n",
       "iIhmZmYQEBDc3NyYmJgyMjLu7u5UVFTMzMy6uroAAACGxKilAAAAAXRSTlMAQObYZgAAAcxJREFU\n",
       "OMuVk88rBGEYx79YY3dnZ3YPLm6bkuLAQSLJyJHDlt1c0J5IFEdFmQMOLobkqD3ZA2VvSomDFBf+\n",
       "AEUJN3YjlPx4nnffmR3TlvHWO8/zvvN5n1/v8wJ/Ds2Av6FNtdrq4x9oBZFxcebYB3nFykHOB1md\n",
       "IOWMV3fO/lZZEh1AcMaOQE2eTgTTyqVNNL3sZdtikhwGlDTJMEfQaEEft5BxjBl36k69JI9yqLkh\n",
       "meJ4u+jTYmLdRWI0LMkqC9e8N0czy3YfgH03WRfJFUnFwBAJnTwqBf65DARibpuLCDa9UuKhPM75\n",
       "ABV2VcR3CFSmS6TW2S91/QMDnJAFTFt2UZyUjNuet4R9p5/YJsFZ9Zj26RmX91St1INfaCcRJfJb\n",
       "bFBWWt5FBvR4UVcLDrkgPF96SRiOzV32TulecJEUr/cS+YkTEgHK5ppjb6YZyhSj+O1df8cgioUJ\n",
       "UT3vTblQnyW5mZT2qZ5PfIBv4Wp3TNQ8TEGrC6bokL55+xoqM4hy78y6mkzcpm56Wi+cQIQDWXft\n",
       "NQhn3iY9MqG12l0nC5cpS27Q7OUalN5SRPhNeMlumiusLDlbI2XfUojbpiLu49Eviu+aD3IS/xg/\n",
       "VJlwvOK5l8gAAAAASUVORK5CYII=\n",
       "\" style=\"display:inline;vertical-align:middle;\" /></a></td></tr>\n",
       "<tr><td>3</td><td>ExprTuple</td><td>5</td><td><a class=\"ProveItLink\" href=\"../be55ef2922664dcf57ac9f0bcf66a9c945fe42b10/expr.ipynb\"><img src=\"data:image/png;base64,iVBORw0KGgoAAAANSUhEUgAAAB0AAAAVBAMAAABI7vhRAAAAMFBMVEX////c3NwiIiJERESqqqqY\n",
       "mJh2dnZmZmYQEBDu7u4yMjJUVFTMzMyIiIi6uroAAAAs73DqAAAAAXRSTlMAQObYZgAAAMxJREFU\n",
       "GNNjYEAHfBfgzDgQcRpEcF7eXspYwH4AyFwJ4mcEMPBVBDAsYGDgBSmfpQkk8gUYwhgYOCYAmStA\n",
       "xAsGhhkMDK+ALPYvID3iDAzMDgxlQJb8AhB/DgMDWwHDUiCrPgBqIcsChj4gpS8Ac0sDwz8g9R/M\n",
       "AZrJ8wHM7werPQDmtwCZ+0HWsUPUmwKp8yA3ZQIx6wKGdBAFtP85yEygfY/Aflpd7gCiuR4wcAgg\n",
       "+R3oXtYEJH4uzL8QwAlytzSCzw3Sy4gIrzsMDAC3gi16A9UUqQAAAABJRU5ErkJggg==\n",
       "\" style=\"display:inline;vertical-align:middle;\" /></a></td></tr>\n",
       "<tr><td>4</td><td>Operation</td><td>operator:&nbsp;6<br>operands:&nbsp;7<br></td><td><a class=\"ProveItLink\" href=\"../7a57ed6b4bdb39b022534e6abb16d475e24a17eb0/expr.ipynb\"><img src=\"data:image/png;base64,iVBORw0KGgoAAAANSUhEUgAAABUAAAAUBAMAAACQZWsAAAAAMFBMVEX///9mZmbMzMzc3NxUVFSY\n",
       "mJju7u6IiIi6urqqqqoiIiIQEBBEREQyMjJ2dnYAAAAQvcRZAAAAAXRSTlMAQObYZgAAAGJJREFU\n",
       "CNdjYIACpgMMcKbIAjibgZNI9ts/92+vmQAVP9DOdu0dnM1QwYtgT2VJQIjbMDC//VgAYjMtPQY1\n",
       "7EDX+t8FMHY7Q/kcBJuH4wGCzXAAOxtJTWANhAl026ktE8BMALQvLwEPcrvFAAAAAElFTkSuQmCC\n",
       "\" style=\"display:inline;vertical-align:middle;\" /></a></td></tr>\n",
       "<tr><td>5</td><td>Variable</td><td></td><td><a class=\"ProveItLink\" href=\"../../../../../__pv_it/985a1bdf1540838275dec15f4ad6de261cca93ce0/expr.ipynb\"><img src=\"data:image/png;base64,iVBORw0KGgoAAAANSUhEUgAAAA8AAAAOBAMAAAACpFvcAAAAMFBMVEX////MzMyqqqoiIiIyMjK6\n",
       "uroQEBB2dnbc3NyYmJhmZmZUVFRERESIiIju7u4AAAB204erAAAAAXRSTlMAQObYZgAAAGZJREFU\n",
       "CNdjYGDgu7NrJccCBgaGsgkMrMsmMDA8sQNy6hsYGNweABlhDAxcn4A0QxcDQ78DiPGQgWH9BAYI\n",
       "sG+AMv6DSaCGfBDNJMDAsB+kmwuI5S8AiTog5gSaEwXWIO29SgFIAQBC+RaDQlidVgAAAABJRU5E\n",
       "rkJggg==\n",
       "\" style=\"display:inline;vertical-align:middle;\" /></a></td></tr>\n",
       "<tr><td>6</td><td>Literal</td><td></td><td><a class=\"ProveItLink\" href=\"../../../../../number/exponentiation/__pv_it/deb2bf23cbccdd6e6791e1b35b5b9794ce12dbd50/expr.ipynb\"><img src=\"data:image/png;base64,iVBORw0KGgoAAAANSUhEUgAAACgAAAASBAMAAADbMYGVAAAAMFBMVEX///8QEBAiIiKYmJjc3Nzu\n",
       "7u7MzMx2dnZmZma6urpERESqqqoyMjJUVFSIiIgAAAAoDOMTAAAAAXRSTlMAQObYZgAAAOBJREFU\n",
       "GNNjYGB4+//u3Tt/GNAASGAXmhjnPyDBgSbI/g1IxKEJ8nxgYGdgQRPkX8BgDKRY6q7s62OYvmze\n",
       "2wAgb/7ZO1+AVDiDkYEQQ0HTBr4DQF59AgOIKmB4z7CNbcNZBu6vQN55kEACQwDDLQYGVobfDHwg\n",
       "fb8YGBxYHwAZciD3fWXg+gB1JjvQcJZvQIXsCgz8F6DO9GBgMOH7wPCUgaeBwd4B7EwGNjUG7s9c\n",
       "AiwPgO5jkWRgiF3/9+5dfQUG1nWl5Y+B7pv+1gE9bBhqGLCAE1jEWH9jEbT5A3IwAC4sP/1L6Qlu\n",
       "AAAAAElFTkSuQmCC\n",
       "\" style=\"display:inline;vertical-align:middle;\" /></a></td></tr>\n",
       "<tr><td>7</td><td>ExprTuple</td><td>8, 9</td><td><a class=\"ProveItLink\" href=\"../f2d1eb76084697ebe27855f25ec8c46cd9f355d00/expr.ipynb\"><img src=\"data:image/png;base64,iVBORw0KGgoAAAANSUhEUgAAAC0AAAAVBAMAAAAgHXppAAAAMFBMVEX////c3NwiIiJERESqqqqY\n",
       "mJh2dnZmZmYQEBDu7u4yMjJUVFTMzMyIiIi6uroAAAAs73DqAAAAAXRSTlMAQObYZgAAAOdJREFU\n",
       "GNNjYMAF+C5gCMWBiNMMWZ/Xr1B2gAlaMjCwHwDSKxkYDN5yrkyDCk/+CSQWMDDwXgCJM9zjggjP\n",
       "3g0SD2Ng4JgAFnflngCR4AWJz2BgeMUAUS/MgCTO7MBQBhbnUbVEFmcrYFgKEn+k/+MCsjjLAoY+\n",
       "iDl3nZHF+RoY/kHEmfkSkMR5PsDFGQxQxVuwiQPNMUWYMwEuzrqAIR0iHn6ZgfMTsjsfMYDCzajb\n",
       "gYGzXwAYZBW/ShkYuB4wcAggQhzOBIYDawJcnBXOyoWEM7o4JzCcGaTh4vCI4wYZyIgZj3cYGAAH\n",
       "aUjXgRHQWQAAAABJRU5ErkJggg==\n",
       "\" style=\"display:inline;vertical-align:middle;\" /></a></td></tr>\n",
       "<tr><td>8</td><td>Literal</td><td></td><td><a class=\"ProveItLink\" href=\"../../../__pv_it/46271c8230be96415d662709611f4ed2279d702b0/expr.ipynb\"><img src=\"data:image/png;base64,iVBORw0KGgoAAAANSUhEUgAAAA0AAAAOBAMAAAAGUYvhAAAAMFBMVEX///9mZmbMzMzc3NxUVFSY\n",
       "mJju7u6IiIi6urqqqqoiIiIQEBBEREQyMjJ2dnYAAAAQvcRZAAAAAXRSTlMAQObYZgAAAElJREFU\n",
       "CNdjePvn/u01ExgYGA60s117B6YZKngh9FSWBAjfBsxnWnoMRHet/10AkS+fA6F5OB5AaIYDqDRU\n",
       "PLCGgQFoz6ktExgAgLIl8DFvGtkAAAAASUVORK5CYII=\n",
       "\" style=\"display:inline;vertical-align:middle;\" /></a></td></tr>\n",
       "<tr><td>9</td><td>Literal</td><td></td><td><a class=\"ProveItLink\" href=\"../../../../../number/numeral/__pv_it/9be8badea4c35b9724062cecc501d17a3158d1d20/expr.ipynb\"><img src=\"data:image/png;base64,iVBORw0KGgoAAAANSUhEUgAAAAgAAAAPBAMAAAArJJMAAAAAHlBMVEX///+YmJgyMjIQEBBmZmaI\n",
       "iIhUVFTu7u5EREQAAAAw+MI4AAAAAXRSTlMAQObYZgAAACFJREFUCNdjYGBoZ2BgqJjOwFCWBiQY\n",
       "WEklWJwnOTKAAACjEQo8HvEr3AAAAABJRU5ErkJggg==\n",
       "\" style=\"display:inline;vertical-align:middle;\" /></a></td></tr>\n",
       "</table>\n"
      ],
      "text/plain": [
       "0. (C) in BOOLEANS^{1}\n",
       "   core type: Operation\n",
       "   operator: 1\n",
       "   operands: 2\n",
       "1. in\n",
       "   core type: Literal\n",
       "   sub-expressions: \n",
       "2. ((C) , BOOLEANS^{1})\n",
       "   core type: ExprTuple\n",
       "   sub-expressions: 3, 4\n",
       "3. (C)\n",
       "   core type: ExprTuple\n",
       "   sub-expressions: 5\n",
       "4. BOOLEANS^{1}\n",
       "   core type: Operation\n",
       "   operator: 6\n",
       "   operands: 7\n",
       "5. C\n",
       "   core type: Variable\n",
       "   sub-expressions: \n",
       "6. Exp\n",
       "   core type: Literal\n",
       "   sub-expressions: \n",
       "7. (BOOLEANS , 1)\n",
       "   core type: ExprTuple\n",
       "   sub-expressions: 8, 9\n",
       "8. BOOLEANS\n",
       "   core type: Literal\n",
       "   sub-expressions: \n",
       "9. 1\n",
       "   core type: Literal\n",
       "   sub-expressions: "
      ]
     },
     "execution_count": 4,
     "metadata": {},
     "output_type": "execute_result"
    }
   ],
   "source": [
    "# display the expression information\n",
    "expr.exprInfo()"
   ]
  },
  {
   "cell_type": "code",
   "execution_count": null,
   "metadata": {},
   "outputs": [],
   "source": []
  }
 ],
 "metadata": {
  "kernelspec": {
   "display_name": "Python 3",
   "language": "python",
   "name": "python3"
  }
 },
 "nbformat": 4,
 "nbformat_minor": 0
}
