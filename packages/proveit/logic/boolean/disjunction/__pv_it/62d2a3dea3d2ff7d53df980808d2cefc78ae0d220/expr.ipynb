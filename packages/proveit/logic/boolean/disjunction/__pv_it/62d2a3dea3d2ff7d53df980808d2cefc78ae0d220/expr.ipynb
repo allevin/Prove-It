{
 "cells": [
  {
   "cell_type": "markdown",
   "metadata": {},
   "source": [
    "Expression of type <a class=\"ProveItLink\" href=\"../../../../../../../doc/html/api/proveit.logic.InSet.html\">InSet</a>\n",
    "=======================\n",
    "# from context <a class=\"ProveItLink\" href=\"../../_context_.ipynb\">proveit.logic.boolean.disjunction</a>"
   ]
  },
  {
   "cell_type": "code",
   "execution_count": 1,
   "metadata": {},
   "outputs": [],
   "source": [
    "# import Expression classes needed to build the expression\n",
    "from proveit._common_ import A, B\n",
    "from proveit.logic import Booleans, InSet\n",
    "from proveit.number import Exp, two"
   ]
  },
  {
   "cell_type": "code",
   "execution_count": 2,
   "metadata": {},
   "outputs": [
    {
     "data": {
      "text/html": [
       "<strong id=\"expr\">expr:</strong> <a class=\"ProveItLink\" href=\"expr.ipynb\"><img src=\"data:image/png;base64,iVBORw0KGgoAAAANSUhEUgAAAGcAAAAZBAMAAADeRy17AAAAMFBMVEX////c3NwiIiJERESqqqqY\n",
       "mJh2dnZmZmYQEBDu7u4yMjJUVFTMzMyIiIi6uroAAAAs73DqAAAAAXRSTlMAQObYZgAAAelJREFU\n",
       "OMuVU00oRFEU/saYn8fM84oVC3krpZgFhY1Z2FmYUkqK2VmpiVJEJmwsmBclzYJBlJVZ2IyXiI1Y\n",
       "mIWVyLCQrPxEGTHuffc+c01j6t26952f+51z3nfOBSwu53ACltcoxqyDalB9aBk0g9WU9VTo1AA5\n",
       "mdfV9y9oi+wzJh6Ztt6Mrrem4Mqp3LnTmp5qpEKcHNvMuPPrngZc30AsJ4FdTkaXgkA3kb2sOkeD\n",
       "xp2eL7I/mTMH5E3FIAc9h3CzyxWTCnd6n0mId2CZqdKlqsY4qDiQwHF7h4ZH5kvemETaw0DRLPn6\n",
       "DfW0R8h060MkkwFGDIusdQa4sywO2wZJ7wxRzdYilHfUxf9h0zhXcG4yf75/PUQDFLOilCxIzcxx\n",
       "ed44U6gOccONAqmOJg9TbfEPERc+Jn8bjOn6AdfRTIEkleeJag+qmiUCvnsBJANusy+EbfQHTdCZ\n",
       "mAk+uzmAZBGiisK8TW/kOPCb5S3kBTVRisidEhJY422ypWm7jdSlgT8gXt4A2VFq+4D0wtt0QkeL\n",
       "US7VCyDHBP/xO6A8sgZHWzokRRS42j71PaMNJazbleO/A/tau8sDuJXseMmCbI4ROtbV3NmFIyjI\n",
       "omOw0EPczg+SYoVAVVlRfMOlSiGQLf9zvyoA+QF16IAL73KwaAAAAABJRU5ErkJggg==\n",
       "\" style=\"display:inline;vertical-align:middle;\" /></a><br>"
      ],
      "text/plain": [
       "expr: (A , B) in BOOLEANS^{2}"
      ]
     },
     "execution_count": 2,
     "metadata": {},
     "output_type": "execute_result"
    }
   ],
   "source": [
    "# build up the expression from sub-expressions\n",
    "expr = InSet([A, B], Exp(Booleans, two))"
   ]
  },
  {
   "cell_type": "code",
   "execution_count": 3,
   "metadata": {},
   "outputs": [
    {
     "name": "stdout",
     "output_type": "stream",
     "text": [
      "Passed sanity check: built 'expr' is the same as the stored Expression.\n"
     ]
    }
   ],
   "source": [
    "# check that the built expression is the same as the stored expression\n",
    "%check_expr"
   ]
  },
  {
   "cell_type": "code",
   "execution_count": 4,
   "metadata": {},
   "outputs": [
    {
     "data": {
      "text/html": [
       "<table><tr><th>&nbsp;</th><th>core type</th><th>sub-expressions</th><th>expression</th></tr>\n",
       "<tr><td>0</td><td>Operation</td><td>operator:&nbsp;1<br>operands:&nbsp;2<br></td><td><a class=\"ProveItLink\" href=\"expr.ipynb\"><img src=\"data:image/png;base64,iVBORw0KGgoAAAANSUhEUgAAAGcAAAAZBAMAAADeRy17AAAAMFBMVEX////c3NwiIiJERESqqqqY\n",
       "mJh2dnZmZmYQEBDu7u4yMjJUVFTMzMyIiIi6uroAAAAs73DqAAAAAXRSTlMAQObYZgAAAelJREFU\n",
       "OMuVU00oRFEU/saYn8fM84oVC3krpZgFhY1Z2FmYUkqK2VmpiVJEJmwsmBclzYJBlJVZ2IyXiI1Y\n",
       "mIWVyLCQrPxEGTHuffc+c01j6t26952f+51z3nfOBSwu53ACltcoxqyDalB9aBk0g9WU9VTo1AA5\n",
       "mdfV9y9oi+wzJh6Ztt6Mrrem4Mqp3LnTmp5qpEKcHNvMuPPrngZc30AsJ4FdTkaXgkA3kb2sOkeD\n",
       "xp2eL7I/mTMH5E3FIAc9h3CzyxWTCnd6n0mId2CZqdKlqsY4qDiQwHF7h4ZH5kvemETaw0DRLPn6\n",
       "DfW0R8h060MkkwFGDIusdQa4sywO2wZJ7wxRzdYilHfUxf9h0zhXcG4yf75/PUQDFLOilCxIzcxx\n",
       "ed44U6gOccONAqmOJg9TbfEPERc+Jn8bjOn6AdfRTIEkleeJag+qmiUCvnsBJANusy+EbfQHTdCZ\n",
       "mAk+uzmAZBGiisK8TW/kOPCb5S3kBTVRisidEhJY422ypWm7jdSlgT8gXt4A2VFq+4D0wtt0QkeL\n",
       "US7VCyDHBP/xO6A8sgZHWzokRRS42j71PaMNJazbleO/A/tau8sDuJXseMmCbI4ROtbV3NmFIyjI\n",
       "omOw0EPczg+SYoVAVVlRfMOlSiGQLf9zvyoA+QF16IAL73KwaAAAAABJRU5ErkJggg==\n",
       "\" style=\"display:inline;vertical-align:middle;\" /></a></td></tr>\n",
       "<tr><td>1</td><td>Literal</td><td></td><td><a class=\"ProveItLink\" href=\"../../../../set_theory/membership/__pv_it/088cbc857536a28d4119ad9639a84270ccb0545d0/expr.ipynb\"><img src=\"data:image/png;base64,iVBORw0KGgoAAAANSUhEUgAAAAwAAAAMBAMAAACkW0HUAAAALVBMVEX///+qqqpmZmZUVFQQEBC6\n",
       "urpERETc3NyYmJjMzMwiIiIyMjKIiIju7u4AAACYsrA9AAAAAXRSTlMAQObYZgAAADxJREFUCNdj\n",
       "YOA9vWrVBgaG2b0MQMCeCyIZ2ArA1DUwyRCyahVIyWQI7xaEYm4AU7xLIdxqTQgtvGvVBgCkcQ7e\n",
       "geM/tQAAAABJRU5ErkJggg==\n",
       "\" style=\"display:inline;vertical-align:middle;\" /></a></td></tr>\n",
       "<tr><td>2</td><td>ExprTuple</td><td>3, 4</td><td><a class=\"ProveItLink\" href=\"../cda06fa88382d6f81c82736983beb87eeaec45610/expr.ipynb\"><img src=\"data:image/png;base64,iVBORw0KGgoAAAANSUhEUgAAAGsAAAAcBAMAAACUtlxGAAAAMFBMVEX///+qqqp2dnYiIiJERESI\n",
       "iIhmZmYQEBDc3NyYmJgyMjLu7u5UVFTMzMy6uroAAACGxKilAAAAAXRSTlMAQObYZgAAAkVJREFU\n",
       "OMudVD9o1FAY/+XukiaXJp6Lk2AWF6cDwSo4nFOhCK3I4SQWrIsuFRVEh8bBxaXXWpyKHqIFUWhw\n",
       "KXS5CjrYBjxQcBEaBKEgeEWr1OvR+H1J3uV5vSV98F6+f7+83/d97z0g08hNrGEf4xquCvFHBthJ\n",
       "TDdzkWStZIBdRyOIActeJppHPFT5+56Xb/1jHu81PQXyLqBPpkStsnDOh74/EkBrigoujrRvnGGB\n",
       "IlWa2jgpxZhocbP705vk2QXqQi/YY8uvHWCWZHMHGAhIqMa+hzsiyvpNsxNHCZga1GE7FhE4Bayz\n",
       "8W7k0g9tiyiVJOMnsCTBlNoaPh08TMQmgAtks2MuqrrbjaKM8/SzQknabaOCqTAk5QmwSh/NiVzf\n",
       "lb8CdmAF+jP6b248hX2cE61qeTjLpaixYgacUTzW31Uvs1Gpd2HHw1tdbxMLSMoCG/of4bjkwjzN\n",
       "tkmJ5LlKokwHOMGUItgX398SsGGG0nbWZgpD5WuiNEoSjJY7AtbhxJ1eWCHd7RWT5HopNIdE27g2\n",
       "H0r/k5RgTbxlG2d/j+YiFUa0TW+TYHBJvF6SLRfnEZfZ5IBRD41y0rbPL4XnVwwzroiSUN9aXK8y\n",
       "9OG2i7lwAUu0kTba8VdfRKeUEjanXD7KW0NvRObHqBx8yG9LN2NDvibR4bLdnsvzHBjkEzIr2Wpy\n",
       "wFFejB6UuZ3csaLXHxYlvAdmcI58+fT0PVHlgMGI3lgPLM95PWDpfv9H4WJf6yNeFCfjW6nHfZjJ\n",
       "CNM87Hf8A/mLmf0aYCUBAAAAAElFTkSuQmCC\n",
       "\" style=\"display:inline;vertical-align:middle;\" /></a></td></tr>\n",
       "<tr><td>3</td><td>ExprTuple</td><td>5, 6</td><td><a class=\"ProveItLink\" href=\"../caee09fb4b5c95b986a9cee46a014afbad9bdc680/expr.ipynb\"><img src=\"data:image/png;base64,iVBORw0KGgoAAAANSUhEUgAAADUAAAAVBAMAAAAUZLt1AAAAMFBMVEX////c3NwiIiJERESqqqqY\n",
       "mJh2dnZmZmYQEBDu7u4yMjJUVFTMzMyIiIi6uroAAAAs73DqAAAAAXRSTlMAQObYZgAAATZJREFU\n",
       "KM9jYMAH+C5gFY4DEach7EMwQdb9v3dvXsfAfgDIXgkRWg/XwWHAwFD/gGEBAwMvxEhW/QkwufNA\n",
       "kfMbGMKAqiBiIvUCMLn7QFZ8AsMMBoZXEIEL9x/A5CyAWGMCA7MDQxnEsRP8A2ByvxkYpCwZGNgK\n",
       "GJaC+fPAtoABz++711WBNMsChj6wwAMG+QKoHO9HBoZJG4BGNTD8A6vdvXu/AVSOuQEo/xUo9gEi\n",
       "xwd07wKoHD9QD+s3sFwLiO/AwMDUAPMe0FHcX8BmmgK5jEA5rg8MDBNg3pMHGsK6gCEdyJ0FsuYn\n",
       "A+cnqPd4uiaA/fCIgUG4fyEDq/2vAs5+oJbi/7t3rwL5lesBA4cAUnQhsUFhxpqA4LIiR2AuIo7Q\n",
       "5ThBfpJG8JFTADfIfEbsaeIOAwMABOxNRsfkiy0AAAAASUVORK5CYII=\n",
       "\" style=\"display:inline;vertical-align:middle;\" /></a></td></tr>\n",
       "<tr><td>4</td><td>Operation</td><td>operator:&nbsp;7<br>operands:&nbsp;8<br></td><td><a class=\"ProveItLink\" href=\"../80916f78fe8f88648e548cee85f5261a65c126a40/expr.ipynb\"><img src=\"data:image/png;base64,iVBORw0KGgoAAAANSUhEUgAAABYAAAAUBAMAAAB7UtADAAAAMFBMVEX///9mZmbMzMzc3NxUVFSY\n",
       "mJju7u6IiIi6urqqqqoiIiIQEBBEREQyMjJ2dnYAAAAQvcRZAAAAAXRSTlMAQObYZgAAAIRJREFU\n",
       "CNdjYICCh0cSYEzGBMYLMDaXAfMnGJt7AtsPBjjg/IZg8z5gePvn/u01E4DsJ0B8oJ3t2jsGBtYH\n",
       "YDZDBS8DQx+DEpg9lSWB6eRMN4i4DQP3//8fQGympcegZh3oWv+7AMZuZyifg2DzcDxAsBkOYGcj\n",
       "qQmsgTCBbju1ZQKYCQDWoDT3EPNjYwAAAABJRU5ErkJggg==\n",
       "\" style=\"display:inline;vertical-align:middle;\" /></a></td></tr>\n",
       "<tr><td>5</td><td>Variable</td><td></td><td><a class=\"ProveItLink\" href=\"../../../../../__pv_it/2cbe72a7ad6f655694dd697106680215e8489b600/expr.ipynb\"><img src=\"data:image/png;base64,iVBORw0KGgoAAAANSUhEUgAAAA8AAAAOBAMAAAACpFvcAAAALVBMVEX///8QEBBERERUVFS6urqI\n",
       "iIhmZmaqqqrc3Nzu7u6YmJgyMjIiIiLMzMwAAADtIaYWAAAAAXRSTlMAQObYZgAAAFtJREFUCNdj\n",
       "YACBOwxQsA9Kc52bAGG05zVAGAFxDmCaZULdAjBjCsO9ADDDgaEvAUTzGhvbKYCVMDAwbgAxChgY\n",
       "eASANAeQwf0AyJgNxEwvGRia5HYwcOm9TgAA6BoR3jrzwFcAAAAASUVORK5CYII=\n",
       "\" style=\"display:inline;vertical-align:middle;\" /></a></td></tr>\n",
       "<tr><td>6</td><td>Variable</td><td></td><td><a class=\"ProveItLink\" href=\"../../../../../__pv_it/077b2ff79244fb4582cbe22c6e3356fa92a52f2f0/expr.ipynb\"><img src=\"data:image/png;base64,iVBORw0KGgoAAAANSUhEUgAAABAAAAAOBAMAAADUAYG5AAAAMFBMVEX///+qqqru7u4iIiJ2dnbc\n",
       "3NyIiIjMzMxmZmYQEBC6uroyMjJERERUVFSYmJgAAADLUcuvAAAAAXRSTlMAQObYZgAAAGpJREFU\n",
       "CNdjYGB4+//u3dMLGIBgDgMDxy8gzf4NiP8CGWxfGRj4vgAZPBMYGJgnARn8FxhY9ygAGfXX0pof\n",
       "gDTlBzAw2YIYJ0EckBBI53sHoBH/gIz7AhBjWH9DjancBLTl/N+7t/cxMAAA3u4f/5xagjYAAAAA\n",
       "SUVORK5CYII=\n",
       "\" style=\"display:inline;vertical-align:middle;\" /></a></td></tr>\n",
       "<tr><td>7</td><td>Literal</td><td></td><td><a class=\"ProveItLink\" href=\"../../../../../number/exponentiation/__pv_it/deb2bf23cbccdd6e6791e1b35b5b9794ce12dbd50/expr.ipynb\"><img src=\"data:image/png;base64,iVBORw0KGgoAAAANSUhEUgAAACgAAAASBAMAAADbMYGVAAAAMFBMVEX///8QEBAiIiKYmJjc3Nzu\n",
       "7u7MzMx2dnZmZma6urpERESqqqoyMjJUVFSIiIgAAAAoDOMTAAAAAXRSTlMAQObYZgAAAOBJREFU\n",
       "GNNjYGB4+//u3Tt/GNAASGAXmhjnPyDBgSbI/g1IxKEJ8nxgYGdgQRPkX8BgDKRY6q7s62OYvmze\n",
       "2wAgb/7ZO1+AVDiDkYEQQ0HTBr4DQF59AgOIKmB4z7CNbcNZBu6vQN55kEACQwDDLQYGVobfDHwg\n",
       "fb8YGBxYHwAZciD3fWXg+gB1JjvQcJZvQIXsCgz8F6DO9GBgMOH7wPCUgaeBwd4B7EwGNjUG7s9c\n",
       "AiwPgO5jkWRgiF3/9+5dfQUG1nWl5Y+B7pv+1gE9bBhqGLCAE1jEWH9jEbT5A3IwAC4sP/1L6Qlu\n",
       "AAAAAElFTkSuQmCC\n",
       "\" style=\"display:inline;vertical-align:middle;\" /></a></td></tr>\n",
       "<tr><td>8</td><td>ExprTuple</td><td>9, 10</td><td><a class=\"ProveItLink\" href=\"../414e8800f1d1efa4c79fba266b1f17989e0e26480/expr.ipynb\"><img src=\"data:image/png;base64,iVBORw0KGgoAAAANSUhEUgAAAC0AAAAVBAMAAAAgHXppAAAAMFBMVEX////c3NwiIiJERESqqqqY\n",
       "mJh2dnZmZmYQEBDu7u4yMjJUVFTMzMyIiIi6uroAAAAs73DqAAAAAXRSTlMAQObYZgAAARFJREFU\n",
       "GNN10bFLw0AUx/FvqNEmTUqwo6M4JwgObgER/wPdpFOEglAUdNTBQRD0RseACHaqq5PuLgVXldBR\n",
       "EERFnKx3efYKLd4QHp/cPd79Dv5b9d4EbZrPPa2P7tV8KuTsXxTM3OmqA8mr18nE5wg/IYewZ5xn\n",
       "X/wGYliHqip9taZKP1bcFpzDC7K/Ifu7ioOCSspe6cHCsp0mVky3uTTej7/ttMEXTOWcSp+nlaH7\n",
       "ib7TIT/ilXrzz3fNmTfrJMLhtfjRmK/hRKbP0qiPuUHQxo1wc7bENx7w3nU5m2U7mDn7mNwWT1K8\n",
       "s0gPPxjo335BNRolbkudg9u07tpqW3Iedy8vEx8uG0XNNHQm3/ERfgGi4EpwIB8kjgAAAABJRU5E\n",
       "rkJggg==\n",
       "\" style=\"display:inline;vertical-align:middle;\" /></a></td></tr>\n",
       "<tr><td>9</td><td>Literal</td><td></td><td><a class=\"ProveItLink\" href=\"../../../__pv_it/46271c8230be96415d662709611f4ed2279d702b0/expr.ipynb\"><img src=\"data:image/png;base64,iVBORw0KGgoAAAANSUhEUgAAAA0AAAAOBAMAAAAGUYvhAAAAMFBMVEX///9mZmbMzMzc3NxUVFSY\n",
       "mJju7u6IiIi6urqqqqoiIiIQEBBEREQyMjJ2dnYAAAAQvcRZAAAAAXRSTlMAQObYZgAAAElJREFU\n",
       "CNdjePvn/u01ExgYGA60s117B6YZKngh9FSWBAjfBsxnWnoMRHet/10AkS+fA6F5OB5AaIYDqDRU\n",
       "PLCGgQFoz6ktExgAgLIl8DFvGtkAAAAASUVORK5CYII=\n",
       "\" style=\"display:inline;vertical-align:middle;\" /></a></td></tr>\n",
       "<tr><td>10</td><td>Literal</td><td></td><td><a class=\"ProveItLink\" href=\"../../../../../number/numeral/__pv_it/77d407a64829263cdc16415becd4c2293f77a4bf0/expr.ipynb\"><img src=\"data:image/png;base64,iVBORw0KGgoAAAANSUhEUgAAAAkAAAAOBAMAAAAPuiubAAAAMFBMVEX///+YmJh2dnbMzMwQEBAi\n",
       "IiLu7u6qqqqIiIhUVFS6urpEREQyMjJmZmbc3NwAAACOMKdoAAAAAXRSTlMAQObYZgAAAFBJREFU\n",
       "CNdj4Lt7egEDw0sGju8MDNMYGOIZGFwSGOYvYDifwHAfKAEUSQASzJ9ATJ4NIPI2iOCYACJrGfge\n",
       "MDBfYGB8wPBUSekqUPH//18ZAIliFhc3zESNAAAAAElFTkSuQmCC\n",
       "\" style=\"display:inline;vertical-align:middle;\" /></a></td></tr>\n",
       "</table>\n"
      ],
      "text/plain": [
       "0. (A , B) in BOOLEANS^{2}\n",
       "   core type: Operation\n",
       "   operator: 1\n",
       "   operands: 2\n",
       "1. in\n",
       "   core type: Literal\n",
       "   sub-expressions: \n",
       "2. ((A , B) , BOOLEANS^{2})\n",
       "   core type: ExprTuple\n",
       "   sub-expressions: 3, 4\n",
       "3. (A , B)\n",
       "   core type: ExprTuple\n",
       "   sub-expressions: 5, 6\n",
       "4. BOOLEANS^{2}\n",
       "   core type: Operation\n",
       "   operator: 7\n",
       "   operands: 8\n",
       "5. A\n",
       "   core type: Variable\n",
       "   sub-expressions: \n",
       "6. B\n",
       "   core type: Variable\n",
       "   sub-expressions: \n",
       "7. Exp\n",
       "   core type: Literal\n",
       "   sub-expressions: \n",
       "8. (BOOLEANS , 2)\n",
       "   core type: ExprTuple\n",
       "   sub-expressions: 9, 10\n",
       "9. BOOLEANS\n",
       "   core type: Literal\n",
       "   sub-expressions: \n",
       "10. 2\n",
       "    core type: Literal\n",
       "    sub-expressions: "
      ]
     },
     "execution_count": 4,
     "metadata": {},
     "output_type": "execute_result"
    }
   ],
   "source": [
    "# display the expression information\n",
    "expr.exprInfo()"
   ]
  },
  {
   "cell_type": "code",
   "execution_count": null,
   "metadata": {},
   "outputs": [],
   "source": []
  }
 ],
 "metadata": {
  "kernelspec": {
   "display_name": "Python 3",
   "language": "python",
   "name": "python3"
  }
 },
 "nbformat": 4,
 "nbformat_minor": 0
}
