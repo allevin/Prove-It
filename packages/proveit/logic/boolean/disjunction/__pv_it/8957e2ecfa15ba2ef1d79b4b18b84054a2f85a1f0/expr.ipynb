{
 "cells": [
  {
   "cell_type": "markdown",
   "metadata": {},
   "source": [
    "Expression of type <a class=\"ProveItLink\" href=\"../../../../../../../doc/html/api/proveit.logic.Or.html\">Or</a>\n",
    "=======================\n",
    "# from context <a class=\"ProveItLink\" href=\"../../_context_.ipynb\">proveit.logic.boolean.disjunction</a>"
   ]
  },
  {
   "cell_type": "code",
   "execution_count": 1,
   "metadata": {},
   "outputs": [],
   "source": [
    "# import Expression classes needed to build the expression\n",
    "from proveit._common_ import A\n",
    "from proveit.logic import Or"
   ]
  },
  {
   "cell_type": "code",
   "execution_count": 2,
   "metadata": {},
   "outputs": [
    {
     "data": {
      "text/html": [
       "<strong id=\"expr\">expr:</strong> <a class=\"ProveItLink\" href=\"expr.ipynb\"><img src=\"data:image/png;base64,iVBORw0KGgoAAAANSUhEUgAAAFEAAAAVBAMAAADMaB9/AAAAMFBMVEX///8QEBCYmJhmZmaqqqrc\n",
       "3Nzu7u5ERERUVFS6urp2dnbMzMwyMjIiIiKIiIgAAACFNc/vAAAAAXRSTlMAQObYZgAAAW5JREFU\n",
       "KM+Nkz9Lw2AQxs/GmP/aRVe7KiIZ3A34AewguIjGUXDwC4gdKx3sJxBxc5HiYCYxIJ066CSIg9lF\n",
       "7eTk4D3vXQpSq30hySXPL/fce7kQjb3eehosPZnLKS2MIC9+RkGDrM4wdWN0z8QdIcOUKEfQNu+V\n",
       "5L0hXeSYLoR852MRQau8w6q8pCCDA46jVMg5PnYRZDg9KrmxWjfVdTlekzo9ODsJymBtMlay+Ggb\n",
       "nSnQIK0zPvkAQIHG8tL1mtHZGRWADGuAcnXONOUe3RZG5924kp0msGWvqrs5VrJNO7HoD7Sv/ZwB\n",
       "GfQhRzSVCxg0myfquULnw6SV+DUtk71y0bc4q7onA3c7j9Scn0VV0d2rQkkHaSri2loW0GYy7Ise\n",
       "HKZKmgb50sZM+449OJ86F3flhHgoIzTfnEJ5YXO+S5Wjr1jI68EszZZfk53SP6cO03E51nzy1JVt\n",
       "/Ie0G+TWR/wdz2Ugf8c2vf4OfgMAt2AAqvGQswAAAABJRU5ErkJggg==\n",
       "\" style=\"display:inline;vertical-align:middle;\" /></a><br>"
      ],
      "text/plain": [
       "expr: [or]() or A"
      ]
     },
     "execution_count": 2,
     "metadata": {},
     "output_type": "execute_result"
    }
   ],
   "source": [
    "# build up the expression from sub-expressions\n",
    "expr = Or(Or(), A)"
   ]
  },
  {
   "cell_type": "code",
   "execution_count": 3,
   "metadata": {},
   "outputs": [
    {
     "name": "stdout",
     "output_type": "stream",
     "text": [
      "Passed sanity check: built 'expr' is the same as the stored Expression.\n"
     ]
    }
   ],
   "source": [
    "# check that the built expression is the same as the stored expression\n",
    "%check_expr"
   ]
  },
  {
   "cell_type": "code",
   "execution_count": 4,
   "metadata": {},
   "outputs": [
    {
     "data": {
      "text/html": [
       "<table><tr><th>&nbsp;</th><th>core type</th><th>sub-expressions</th><th>expression</th></tr>\n",
       "<tr><td>0</td><td>Operation</td><td>operator:&nbsp;4<br>operands:&nbsp;1<br></td><td><a class=\"ProveItLink\" href=\"expr.ipynb\"><img src=\"data:image/png;base64,iVBORw0KGgoAAAANSUhEUgAAAFEAAAAVBAMAAADMaB9/AAAAMFBMVEX///8QEBCYmJhmZmaqqqrc\n",
       "3Nzu7u5ERERUVFS6urp2dnbMzMwyMjIiIiKIiIgAAACFNc/vAAAAAXRSTlMAQObYZgAAAW5JREFU\n",
       "KM+Nkz9Lw2AQxs/GmP/aRVe7KiIZ3A34AewguIjGUXDwC4gdKx3sJxBxc5HiYCYxIJ066CSIg9lF\n",
       "7eTk4D3vXQpSq30hySXPL/fce7kQjb3eehosPZnLKS2MIC9+RkGDrM4wdWN0z8QdIcOUKEfQNu+V\n",
       "5L0hXeSYLoR852MRQau8w6q8pCCDA46jVMg5PnYRZDg9KrmxWjfVdTlekzo9ODsJymBtMlay+Ggb\n",
       "nSnQIK0zPvkAQIHG8tL1mtHZGRWADGuAcnXONOUe3RZG5924kp0msGWvqrs5VrJNO7HoD7Sv/ZwB\n",
       "GfQhRzSVCxg0myfquULnw6SV+DUtk71y0bc4q7onA3c7j9Scn0VV0d2rQkkHaSri2loW0GYy7Ise\n",
       "HKZKmgb50sZM+449OJ86F3flhHgoIzTfnEJ5YXO+S5Wjr1jI68EszZZfk53SP6cO03E51nzy1JVt\n",
       "/Ie0G+TWR/wdz2Ugf8c2vf4OfgMAt2AAqvGQswAAAABJRU5ErkJggg==\n",
       "\" style=\"display:inline;vertical-align:middle;\" /></a></td></tr>\n",
       "<tr><td>1</td><td>ExprTuple</td><td>2, 3</td><td><a class=\"ProveItLink\" href=\"../7bd9b8e1dafdb101a50eef696684f7b3fea42c3e0/expr.ipynb\"><img src=\"data:image/png;base64,iVBORw0KGgoAAAANSUhEUgAAAFYAAAAVBAMAAAAutAQGAAAAMFBMVEX////c3NwiIiJERESqqqqY\n",
       "mJh2dnZmZmYQEBDu7u4yMjJUVFTMzMyIiIi6uroAAAAs73DqAAAAAXRSTlMAQObYZgAAAaJJREFU\n",
       "KM+Vk79LAzEUx79tvfZ6dz0LOimif4CoiM52E1zs5NBBuoiT4iBOghVcXPTG4qDtUEQQrXMHi+Ag\n",
       "Dj06K1YnEQQddRDfS9Iz5+HgQZKX5HN5P/IN8J/P9dE+VXZhTAyvWIxgRoe6W2A1WBGWU0eqGQKv\n",
       "qG1SO2HCFUtNyVoeUAmx57wKZHxmbT6HTMHeU1sI+R+nv40iTI9ZZ4KW4p5kd6mVdbZ/KwukS3iR\n",
       "UVZpmJXxuuw/kdNY/4ETm8KGZIljntlUkbrkmlYpbz5PwzJqkiX/HAezFm/0aMkdokVJYQ57kqW8\n",
       "7I5kTXboln7YDobZyzO+VFVHcKCsXmadtwB1Go1LTr0VsOtY+oOl2psVwe4oYoBOVjHkwjHQNF4S\n",
       "MUwrwr72lZXg3Aw+Kc1ojFiLvRSoEpJwJj1liXKJ7ohdcRqJD1Gzp65ijrvacZmwOOjyO9C3X4Ux\n",
       "80m/nsHMKvYm0Nl2cMeP2uXRHZMkfmuSdbMipnmNTfpKkyGWNJmuRFiOezDCxuqws2xkdLFd8A69\n",
       "oVE1b8s3NIS7yBvKNPEN/A9n0vswGa8AAAAASUVORK5CYII=\n",
       "\" style=\"display:inline;vertical-align:middle;\" /></a></td></tr>\n",
       "<tr><td>2</td><td>Operation</td><td>operator:&nbsp;4<br>operands:&nbsp;5<br></td><td><a class=\"ProveItLink\" href=\"../0e3149a80afb6ef5ac02d7991e0c4c95e5f3c3750/expr.ipynb\"><img src=\"data:image/png;base64,iVBORw0KGgoAAAANSUhEUgAAACkAAAAVBAMAAAAp9toTAAAAMFBMVEX///8QEBCYmJhmZmaqqqrc\n",
       "3Nzu7u5ERERUVFS6urp2dnbMzMwyMjIiIiKIiIgAAACFNc/vAAAAAXRSTlMAQObYZgAAAOVJREFU\n",
       "GNNjYMAK3p6GMnRugql5DJpAciVcHszibmBg3gBic4LFNkBEeRIYGA6ARDmAcgx8DyCi74BYCyTK\n",
       "XQBk8SZARMWAOBFs2lEgyxliLidQNwO7A4gNFAHJgESZFwAJLgMQG6gbZApIlEcBSLAcALGBNnFM\n",
       "gIgyTgAZIwBmX2DIgbqXHyTK/QHMNmFYhEU0BqgaaoIDwgSOTQ+gouwg25jAtjFw1yZARYGOgrmM\n",
       "geEwLHQ4QUbxTICIboOHmSjcx8ghCQwZhnUYosCQZDuAIcrawMARAIyh27CogsRQHMNrBgYAgNtA\n",
       "Wxtv7ekAAAAASUVORK5CYII=\n",
       "\" style=\"display:inline;vertical-align:middle;\" /></a></td></tr>\n",
       "<tr><td>3</td><td>Variable</td><td></td><td><a class=\"ProveItLink\" href=\"../../../../../__pv_it/2cbe72a7ad6f655694dd697106680215e8489b600/expr.ipynb\"><img src=\"data:image/png;base64,iVBORw0KGgoAAAANSUhEUgAAAA8AAAAOBAMAAAACpFvcAAAALVBMVEX///8QEBBERERUVFS6urqI\n",
       "iIhmZmaqqqrc3Nzu7u6YmJgyMjIiIiLMzMwAAADtIaYWAAAAAXRSTlMAQObYZgAAAFtJREFUCNdj\n",
       "YACBOwxQsA9Kc52bAGG05zVAGAFxDmCaZULdAjBjCsO9ADDDgaEvAUTzGhvbKYCVMDAwbgAxChgY\n",
       "eASANAeQwf0AyJgNxEwvGRia5HYwcOm9TgAA6BoR3jrzwFcAAAAASUVORK5CYII=\n",
       "\" style=\"display:inline;vertical-align:middle;\" /></a></td></tr>\n",
       "<tr><td>4</td><td>Literal</td><td></td><td><a class=\"ProveItLink\" href=\"../087d0b4ded7c7e5bf3bba05ecb616d7a8051ff650/expr.ipynb\"><img src=\"data:image/png;base64,iVBORw0KGgoAAAANSUhEUgAAAAwAAAAOBAMAAADpk+DfAAAALVBMVEX///+YmJh2dnZmZmaqqqrc\n",
       "3NwyMjLu7u4iIiJERESIiIhUVFTMzMy6uroAAAD0I/TTAAAAAXRSTlMAQObYZgAAAEtJREFUCNdj\n",
       "uMAABDwMe0DUKoaTIKqdgS2AgYHFAITAzHYGsMQqBoa9QIqDgT0BSDE7MAkAKdYEDpAehj1SYOpk\n",
       "O5hiMwBTPAUMDAB33Atnw8aG2QAAAABJRU5ErkJggg==\n",
       "\" style=\"display:inline;vertical-align:middle;\" /></a></td></tr>\n",
       "<tr><td>5</td><td>ExprTuple</td><td></td><td><a class=\"ProveItLink\" href=\"../feb17bb8e989ce470672228f3fb01ca3e9677f560/expr.ipynb\"><img src=\"data:image/png;base64,iVBORw0KGgoAAAANSUhEUgAAAAwAAAAVBAMAAACAghKHAAAAMFBMVEX////c3NwiIiJERESqqqqY\n",
       "mJh2dnZmZmYQEBDu7u4yMjJUVFTMzMyIiIi6uroAAAAs73DqAAAAAXRSTlMAQObYZgAAAG1JREFU\n",
       "CNdjYIACvgusD4DUaQaGGiC1koGBi4GB9wIDA2sCA8cEBgbOBoZXIGUmDGUgKp1hKYjyYugDUS8Y\n",
       "/oGo8zCqBSJoCqKigGrBGh6BqHUMHAJgw4DGMrBdAFs0CyguzcCwEUgxXuA9wAAApdcX/S64IkwA\n",
       "AAAASUVORK5CYII=\n",
       "\" style=\"display:inline;vertical-align:middle;\" /></a></td></tr>\n",
       "</table>\n"
      ],
      "text/plain": [
       "0. [or]() or A\n",
       "   core type: Operation\n",
       "   operator: 4\n",
       "   operands: 1\n",
       "1. ([or]() , A)\n",
       "   core type: ExprTuple\n",
       "   sub-expressions: 2, 3\n",
       "2. [or]()\n",
       "   core type: Operation\n",
       "   operator: 4\n",
       "   operands: 5\n",
       "3. A\n",
       "   core type: Variable\n",
       "   sub-expressions: \n",
       "4. or\n",
       "   core type: Literal\n",
       "   sub-expressions: \n",
       "5. ()\n",
       "   core type: ExprTuple\n",
       "   sub-expressions: "
      ]
     },
     "execution_count": 4,
     "metadata": {},
     "output_type": "execute_result"
    }
   ],
   "source": [
    "# display the expression information\n",
    "expr.exprInfo()"
   ]
  },
  {
   "cell_type": "code",
   "execution_count": null,
   "metadata": {},
   "outputs": [],
   "source": []
  }
 ],
 "metadata": {
  "kernelspec": {
   "display_name": "Python 3",
   "language": "python",
   "name": "python3"
  }
 },
 "nbformat": 4,
 "nbformat_minor": 0
}
