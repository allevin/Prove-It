{
 "cells": [
  {
   "cell_type": "markdown",
   "metadata": {},
   "source": [
    "Expression of type <a class=\"ProveItLink\" href=\"../../../../../../../doc/html/api/proveit.logic.Set.html\">Set</a>\n",
    "=======================\n",
    "# from context <a class=\"ProveItLink\" href=\"../../_context_.ipynb\">proveit.logic.boolean.disjunction</a>"
   ]
  },
  {
   "cell_type": "code",
   "execution_count": 1,
   "metadata": {},
   "outputs": [],
   "source": [
    "# import Expression classes needed to build the expression\n",
    "from proveit._common_ import B, E\n",
    "from proveit.logic import Implies, Set"
   ]
  },
  {
   "cell_type": "code",
   "execution_count": 2,
   "metadata": {},
   "outputs": [
    {
     "data": {
      "text/html": [
       "<strong id=\"expr\">expr:</strong> <a class=\"ProveItLink\" href=\"expr.ipynb\"><img src=\"data:image/png;base64,iVBORw0KGgoAAAANSUhEUgAAAFMAAAAVBAMAAADInc9CAAAAMFBMVEX////c3NxERESqqqpUVFS6\n",
       "urrMzMwyMjIQEBCIiIh2dnYiIiLu7u5mZmaYmJgAAABXZE4RAAAAAXRSTlMAQObYZgAAAVxJREFU\n",
       "KM9jYGDgu8dACLCtEgBRPLsYCAO2ZhDJ+QFI8Pl/cXEqxaJmyn8XF/fvDAzXQRyuBhDJocDAcD8A\n",
       "i1qgMgYjBoYVCKX5E4DYASbPA1fJ+hNI8KIonQ909/sFMAXsB2Asrm9A4iSKUg0g3gFXwAo3n/0D\n",
       "AxcDI4rSLwwM4joIF66EMfgVGN6BaLBS3gJQYHyZOXcfWO72bhDYfwGqNL7E/SOIfg8iMkD+5gTy\n",
       "TzsgedwcGhrrExgKwA4B6k1pA7GYgK7g/IeklKcCoraegWEBQwKQof6AgSECxOAHmsj3C0lp+hoI\n",
       "/YmBQYAHGJDcoNBhAVmQD9TD8hnh1t06SMHKdQDqVq4N0GCVL0AYaoIcrLIMyIEFDFa2dniwMjAW\n",
       "IIKVgW0bstJLwERR/gBhKJMAhD6i/8XFZf8GFFPR0xyGCE6lDNiV8hGlFJxeeXYSkwtawRTfYuLy\n",
       "FgB8JGCixzYF5QAAAABJRU5ErkJggg==\n",
       "\" style=\"display:inline;vertical-align:middle;\" /></a><br>"
      ],
      "text/plain": [
       "expr: {B => E}"
      ]
     },
     "execution_count": 2,
     "metadata": {},
     "output_type": "execute_result"
    }
   ],
   "source": [
    "# build up the expression from sub-expressions\n",
    "expr = Set(Implies(B, E))"
   ]
  },
  {
   "cell_type": "code",
   "execution_count": 3,
   "metadata": {},
   "outputs": [
    {
     "name": "stdout",
     "output_type": "stream",
     "text": [
      "Passed sanity check: built 'expr' is the same as the stored Expression.\n"
     ]
    }
   ],
   "source": [
    "# check that the built expression is the same as the stored expression\n",
    "%check_expr"
   ]
  },
  {
   "cell_type": "code",
   "execution_count": 4,
   "metadata": {},
   "outputs": [
    {
     "data": {
      "text/html": [
       "<table><tr><th>&nbsp;</th><th>core type</th><th>sub-expressions</th><th>expression</th></tr>\n",
       "<tr><td>0</td><td>Operation</td><td>operator:&nbsp;1<br>operands:&nbsp;2<br></td><td><a class=\"ProveItLink\" href=\"expr.ipynb\"><img src=\"data:image/png;base64,iVBORw0KGgoAAAANSUhEUgAAAFMAAAAVBAMAAADInc9CAAAAMFBMVEX////c3NxERESqqqpUVFS6\n",
       "urrMzMwyMjIQEBCIiIh2dnYiIiLu7u5mZmaYmJgAAABXZE4RAAAAAXRSTlMAQObYZgAAAVxJREFU\n",
       "KM9jYGDgu8dACLCtEgBRPLsYCAO2ZhDJ+QFI8Pl/cXEqxaJmyn8XF/fvDAzXQRyuBhDJocDAcD8A\n",
       "i1qgMgYjBoYVCKX5E4DYASbPA1fJ+hNI8KIonQ909/sFMAXsB2Asrm9A4iSKUg0g3gFXwAo3n/0D\n",
       "AxcDI4rSLwwM4joIF66EMfgVGN6BaLBS3gJQYHyZOXcfWO72bhDYfwGqNL7E/SOIfg8iMkD+5gTy\n",
       "TzsgedwcGhrrExgKwA4B6k1pA7GYgK7g/IeklKcCoraegWEBQwKQof6AgSECxOAHmsj3C0lp+hoI\n",
       "/YmBQYAHGJDcoNBhAVmQD9TD8hnh1t06SMHKdQDqVq4N0GCVL0AYaoIcrLIMyIEFDFa2dniwMjAW\n",
       "IIKVgW0bstJLwERR/gBhKJMAhD6i/8XFZf8GFFPR0xyGCE6lDNiV8hGlFJxeeXYSkwtawRTfYuLy\n",
       "FgB8JGCixzYF5QAAAABJRU5ErkJggg==\n",
       "\" style=\"display:inline;vertical-align:middle;\" /></a></td></tr>\n",
       "<tr><td>1</td><td>Literal</td><td></td><td><a class=\"ProveItLink\" href=\"../../../../set_theory/enumeration/__pv_it/07381ed5b23806e8d7914b78cb6667769e3708dd0/expr.ipynb\"><img src=\"data:image/png;base64,iVBORw0KGgoAAAANSUhEUgAAAB4AAAAOBAMAAADKyLEKAAAAMFBMVEX///8iIiIQEBCIiIjMzMzc\n",
       "3Nyqqqp2dnZEREQyMjK6urru7u5mZmZUVFSYmJgAAACI6eGPAAAAAXRSTlMAQObYZgAAALRJREFU\n",
       "CNdjYGDgu3Nm3wIGBJjHwN0PZW5yYGDgLWBgyITy8zcwMMQDxZyh/INAvD6BgcEFypcB4vjPDiBm\n",
       "TPFRrhs/LjMwMP//38rAwCbKEMPA9gEkE3fp0waG+AUMRxh4JkC01T9guPTOOICBEWgVH5C//wHD\n",
       "H5D4fqCz9oCMDGD4DLaegRXslLMMDMpAgxlOMmQxHDRgYG5gYLBk4D7KcIe7gOHC2rt9QCXsh40Z\n",
       "GCKMGQDRkC8N/Ph1XAAAAABJRU5ErkJggg==\n",
       "\" style=\"display:inline;vertical-align:middle;\" /></a></td></tr>\n",
       "<tr><td>2</td><td>ExprTuple</td><td>3</td><td><a class=\"ProveItLink\" href=\"../ebef64333ccbff350100d544567cb84e0afe45620/expr.ipynb\"><img src=\"data:image/png;base64,iVBORw0KGgoAAAANSUhEUgAAAE0AAAAVBAMAAADx+n4ZAAAAMFBMVEX////c3NwiIiJERESqqqqY\n",
       "mJh2dnZmZmYQEBDu7u4yMjJUVFTMzMyIiIi6uroAAAAs73DqAAAAAXRSTlMAQObYZgAAAWRJREFU\n",
       "KM9jYCAW8F0gqCQORJwG4uj/u3dbPcBUwLv/9+7d6xewHwCyV4IEmhkY2P9hMYl/AQMDiwEDkOQF\n",
       "WcvzF4h/w2UnwFnvQbIFDGEMDBwgQd6PDAys3+CyK+GsfKCNnBcYZjAwvAJxmRsYGJg64bKv4az1\n",
       "DAwJDAIMzA4MZWBnbGBgXIywjQ0eBJ8ZWANAAgUMS0Hc83vvFoH4DOxKYPAdFma/dq8XANIsCxj6\n",
       "QPz7Agyc2kjeZFkHNfgPAxdYfQMDODQsQGoDkBTOAmtn4PrAwMbAAwyLDxB1oCCJT0Ao41kGcSy/\n",
       "AQMjw1ywuhaQ8Fcgsd8B4T7lCUjBlwm21xQafIy/kJy3ASn4GAuAYbuAIR0afCcQgcsghRR8DIcO\n",
       "gMPlEdAy+9+7dy1F8oUhhOLcDEwemz6B/POAgUMAM/YPoAsA4401gYg0mosS6TgBJzBdMUgTVscN\n",
       "chsj4XR/h4EBAOOKXONW0WRoAAAAAElFTkSuQmCC\n",
       "\" style=\"display:inline;vertical-align:middle;\" /></a></td></tr>\n",
       "<tr><td>3</td><td>Operation</td><td>operator:&nbsp;4<br>operands:&nbsp;5<br></td><td><a class=\"ProveItLink\" href=\"../ca8a3ba74e3f7a27aa4a6466b65d74f38f8d1a1f0/expr.ipynb\"><img src=\"data:image/png;base64,iVBORw0KGgoAAAANSUhEUgAAAEEAAAAPBAMAAABJi79qAAAAMFBMVEX///+qqqru7u4iIiJ2dnbc\n",
       "3NyIiIjMzMxmZmYQEBC6uroyMjJERERUVFSYmJgAAADLUcuvAAAAAXRSTlMAQObYZgAAAPtJREFU\n",
       "GNNjYGB4+//u3dMLGDAA2/2/d+/u3wBizmFg4PiFqYKBHyjLeADIYP8GxH/h4gpw1voEINEAMu0r\n",
       "AwPfF7j4JjjLv4CBgQmkimcCAwPzJLj4WjhrPwODA0MAyLoLDKx7EGazJMBYfxj4HoAZ9dfSmsEs\n",
       "DmMw+AFVwPX77v4AMCs/gIHJFskLjLughn1n4IawToJUPUBSoj0LTHF/YGBhYAexQB5974BQwL4F\n",
       "4ij+AwysDGoggX9A4r4Awh02CkjB4QQNDtbfSM64gBQcrA3Q4KhEBBNDNFJwMBQDVXGc/3v39j4k\n",
       "dx6FUEx3gBF6+TOW6GIoQOMDAB9fRmXFBdcAAAAAAElFTkSuQmCC\n",
       "\" style=\"display:inline;vertical-align:middle;\" /></a></td></tr>\n",
       "<tr><td>4</td><td>Literal</td><td></td><td><a class=\"ProveItLink\" href=\"../../../implication/__pv_it/e5c030cabcb650938f92dee8256fe11cd12bf9b30/expr.ipynb\"><img src=\"data:image/png;base64,iVBORw0KGgoAAAANSUhEUgAAABMAAAANBAMAAAC5okgUAAAALVBMVEX////c3NxERETMzMwQEBCq\n",
       "qqoiIiJmZmaIiIh2dnZUVFS6uroyMjLu7u4AAACPpZJTAAAAAXRSTlMAQObYZgAAAD1JREFUCNdj\n",
       "YAABXgY44LkAZ3IvQAjPABFlaSCQV4AQjtkAZ/IegbNt5sLUpunC5aPgLMYDcCaTAJzJDCIA2yMN\n",
       "HCCUuIIAAAAASUVORK5CYII=\n",
       "\" style=\"display:inline;vertical-align:middle;\" /></a></td></tr>\n",
       "<tr><td>5</td><td>ExprTuple</td><td>6, 7</td><td><a class=\"ProveItLink\" href=\"../d88dae47bc5c0c03e05dcc840a22244fdea1e86e0/expr.ipynb\"><img src=\"data:image/png;base64,iVBORw0KGgoAAAANSUhEUgAAADcAAAAVBAMAAAAQkWtIAAAAMFBMVEX////c3NwiIiJERESqqqqY\n",
       "mJh2dnZmZmYQEBDu7u4yMjJUVFTMzMyIiIi6uroAAAAs73DqAAAAAXRSTlMAQObYZgAAAUFJREFU\n",
       "KM9jYMAL+C5gF48DEaeBOPr/7t1WD6Cit4GcXb8Y2A8A2StBAs0MDOz/YHp+AbEzA8MCBgZekKk8\n",
       "f4H4N8weIIeBnYEhjIGBYwKQyfuRgYH1G1SS7Q+QmMvAMIOB4RWIz9zAwMDUCZXk+sDAxsAIFHRg\n",
       "KAPx+TcwMC6eAJXkN2AIBZtQwLAURJ/fe7coAOae96t3fQTRLAsY+kD0fQEGTm2YZP4BkEOBDmtg\n",
       "AHvAAqQApnU9A0MCA9CTPB8gkiBfxCdAJT8zMAhwXgBLtoC8+RVI7HdA8ibbBLCxplBvMgLDhRPu\n",
       "TXEgZl3AkA715glgMM5XgHiTgUcH4pVHwKCy/717F8hLM4AmzAZyduuDVT1g4BBAiqaHyHEGDD7W\n",
       "BCR+ALJkLizKsEhygkJCGsHnRdbIDbKPEUcyucPAAAACoFQX9YB9VQAAAABJRU5ErkJggg==\n",
       "\" style=\"display:inline;vertical-align:middle;\" /></a></td></tr>\n",
       "<tr><td>6</td><td>Variable</td><td></td><td><a class=\"ProveItLink\" href=\"../../../../../__pv_it/077b2ff79244fb4582cbe22c6e3356fa92a52f2f0/expr.ipynb\"><img src=\"data:image/png;base64,iVBORw0KGgoAAAANSUhEUgAAABAAAAAOBAMAAADUAYG5AAAAMFBMVEX///+qqqru7u4iIiJ2dnbc\n",
       "3NyIiIjMzMxmZmYQEBC6uroyMjJERERUVFSYmJgAAADLUcuvAAAAAXRSTlMAQObYZgAAAGpJREFU\n",
       "CNdjYGB4+//u3dMLGIBgDgMDxy8gzf4NiP8CGWxfGRj4vgAZPBMYGJgnARn8FxhY9ygAGfXX0pof\n",
       "gDTlBzAw2YIYJ0EckBBI53sHoBH/gIz7AhBjWH9DjancBLTl/N+7t/cxMAAA3u4f/5xagjYAAAAA\n",
       "SUVORK5CYII=\n",
       "\" style=\"display:inline;vertical-align:middle;\" /></a></td></tr>\n",
       "<tr><td>7</td><td>Variable</td><td></td><td><a class=\"ProveItLink\" href=\"../../../../../__pv_it/9995c55100c62d7d8a012a35bafc852acbe03cf00/expr.ipynb\"><img src=\"data:image/png;base64,iVBORw0KGgoAAAANSUhEUgAAABAAAAAOBAMAAADUAYG5AAAALVBMVEX///8iIiKYmJjc3Nzu7u7M\n",
       "zMx2dnZmZma6urpERESqqqoyMjJUVFSIiIgAAACbLqVTAAAAAXRSTlMAQObYZgAAAGVJREFUCNdj\n",
       "YGC48+7MmdOvGYAARKwEYo63QIIdiNmeAglfIOZ+wMDGwAxk8E1gUAIpZejbc/oxmJEXwLABzNjH\n",
       "wJDAEABkvGRgMGC5ADWGzQFqjDnEGAZWUQYGn3lvzpyRE2AAAIznGVQJqiN4AAAAAElFTkSuQmCC\n",
       "\" style=\"display:inline;vertical-align:middle;\" /></a></td></tr>\n",
       "</table>\n"
      ],
      "text/plain": [
       "0. {B => E}\n",
       "   core type: Operation\n",
       "   operator: 1\n",
       "   operands: 2\n",
       "1. Set\n",
       "   core type: Literal\n",
       "   sub-expressions: \n",
       "2. (B => E)\n",
       "   core type: ExprTuple\n",
       "   sub-expressions: 3\n",
       "3. B => E\n",
       "   core type: Operation\n",
       "   operator: 4\n",
       "   operands: 5\n",
       "4. =>\n",
       "   core type: Literal\n",
       "   sub-expressions: \n",
       "5. (B , E)\n",
       "   core type: ExprTuple\n",
       "   sub-expressions: 6, 7\n",
       "6. B\n",
       "   core type: Variable\n",
       "   sub-expressions: \n",
       "7. E\n",
       "   core type: Variable\n",
       "   sub-expressions: "
      ]
     },
     "execution_count": 4,
     "metadata": {},
     "output_type": "execute_result"
    }
   ],
   "source": [
    "# display the expression information\n",
    "expr.exprInfo()"
   ]
  },
  {
   "cell_type": "code",
   "execution_count": null,
   "metadata": {},
   "outputs": [],
   "source": []
  }
 ],
 "metadata": {
  "kernelspec": {
   "display_name": "Python 3",
   "language": "python",
   "name": "python3"
  }
 },
 "nbformat": 4,
 "nbformat_minor": 0
}
