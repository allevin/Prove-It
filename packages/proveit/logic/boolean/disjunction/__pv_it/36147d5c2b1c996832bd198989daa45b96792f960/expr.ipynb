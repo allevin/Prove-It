{
 "cells": [
  {
   "cell_type": "markdown",
   "metadata": {},
   "source": [
    "Expression of type <a class=\"ProveItLink\" href=\"../../../../../../../doc/html/api/proveit.logic.InSet.html\">InSet</a>\n",
    "=======================\n",
    "# from context <a class=\"ProveItLink\" href=\"../../_context_.ipynb\">proveit.logic.boolean.disjunction</a>"
   ]
  },
  {
   "cell_type": "code",
   "execution_count": 1,
   "metadata": {},
   "outputs": [],
   "source": [
    "# import Expression classes needed to build the expression\n",
    "from proveit._common_ import S, a, b, c, d\n",
    "from proveit.logic import InSet\n",
    "from proveit.number import Exp, four"
   ]
  },
  {
   "cell_type": "code",
   "execution_count": 2,
   "metadata": {},
   "outputs": [
    {
     "data": {
      "text/html": [
       "<strong id=\"expr\">expr:</strong> <a class=\"ProveItLink\" href=\"expr.ipynb\"><img src=\"data:image/png;base64,iVBORw0KGgoAAAANSUhEUgAAAIAAAAAZBAMAAAALeTtzAAAAMFBMVEX////c3NwiIiJERESqqqqY\n",
       "mJh2dnZmZmYQEBDu7u4yMjJUVFTMzMyIiIi6uroAAAAs73DqAAAAAXRSTlMAQObYZgAAAhhJREFU\n",
       "OMulVD1IG2EYfjS5JJdrclm6tEPKLd1KHASdzFbQwZuELiV0aKfWUFAHBVsobsqhlLqUiFCKdMmg\n",
       "KC3Sg3Yo/YGsLY2khYLUwYgKdWjt+33vfafe9VLhXjjyfO/z3vO9fzkglmUR04adeO/rozEFcrWY\n",
       "Am+FQL7x/8CbEf6KEPhwuqaNK+GofF817Ya82vrE4x8FIbByZiz1f9xjlrEUcj6DPvAUJJBrBGLD\n",
       "tutgJOgzKsDg9YnpMWScQGzYbgGLXolfLIuTKVJRn+jHwc9gbNieAwnO7P0N/yZyfIT2ehXjdOra\n",
       "vPeQ/S+aa95dt5vcOOIOgFRV4n5ftPjb9ZsBbBcSbX5tHyYT71pZHghxR0BSJp4onKzQ8XEPozkS\n",
       "PkS6JA/JI2QqUmkWCVteShy9nH8gDgun6rq48Yv79Yc62kY3z4JiTZms0VbdJo4kL8jztmWpJpKN\n",
       "2krALKHGiXdXsSvdZknNlbiWEjjZOY2eGgs8ooY0MAzHW4NpCYpqOzyOS5j3BZ4IijvSS1JlvEy6\n",
       "uhBwMQMJSN0WgDloMnHDVgKD9EwyvEP7ayevplCjrhvldJ1BFSlXAOa8MerXlMD9BnJeld/FqLfe\n",
       "bGFxjyI2xyABxpufJWAO2ZYMvjTlCdR3XvV6MOPP9ls0UKuMoWUr+L/SKgrZ0QB3O3wsVs4hoC91\n",
       "ELislhORAEahg0DXOT5pX6Opv/MHkZxj1C9zAAAAAElFTkSuQmCC\n",
       "\" style=\"display:inline;vertical-align:middle;\" /></a><br>"
      ],
      "text/plain": [
       "expr: (a , b , c , d) in S^{4}"
      ]
     },
     "execution_count": 2,
     "metadata": {},
     "output_type": "execute_result"
    }
   ],
   "source": [
    "# build up the expression from sub-expressions\n",
    "expr = InSet([a, b, c, d], Exp(S, four))"
   ]
  },
  {
   "cell_type": "code",
   "execution_count": 3,
   "metadata": {},
   "outputs": [
    {
     "name": "stdout",
     "output_type": "stream",
     "text": [
      "Passed sanity check: built 'expr' is the same as the stored Expression.\n"
     ]
    }
   ],
   "source": [
    "# check that the built expression is the same as the stored expression\n",
    "%check_expr"
   ]
  },
  {
   "cell_type": "code",
   "execution_count": 4,
   "metadata": {},
   "outputs": [
    {
     "data": {
      "text/html": [
       "<table><tr><th>&nbsp;</th><th>core type</th><th>sub-expressions</th><th>expression</th></tr>\n",
       "<tr><td>0</td><td>Operation</td><td>operator:&nbsp;1<br>operands:&nbsp;2<br></td><td><a class=\"ProveItLink\" href=\"expr.ipynb\"><img src=\"data:image/png;base64,iVBORw0KGgoAAAANSUhEUgAAAIAAAAAZBAMAAAALeTtzAAAAMFBMVEX////c3NwiIiJERESqqqqY\n",
       "mJh2dnZmZmYQEBDu7u4yMjJUVFTMzMyIiIi6uroAAAAs73DqAAAAAXRSTlMAQObYZgAAAhhJREFU\n",
       "OMulVD1IG2EYfjS5JJdrclm6tEPKLd1KHASdzFbQwZuELiV0aKfWUFAHBVsobsqhlLqUiFCKdMmg\n",
       "KC3Sg3Yo/YGsLY2khYLUwYgKdWjt+33vfafe9VLhXjjyfO/z3vO9fzkglmUR04adeO/rozEFcrWY\n",
       "Am+FQL7x/8CbEf6KEPhwuqaNK+GofF817Ya82vrE4x8FIbByZiz1f9xjlrEUcj6DPvAUJJBrBGLD\n",
       "tutgJOgzKsDg9YnpMWScQGzYbgGLXolfLIuTKVJRn+jHwc9gbNieAwnO7P0N/yZyfIT2ehXjdOra\n",
       "vPeQ/S+aa95dt5vcOOIOgFRV4n5ftPjb9ZsBbBcSbX5tHyYT71pZHghxR0BSJp4onKzQ8XEPozkS\n",
       "PkS6JA/JI2QqUmkWCVteShy9nH8gDgun6rq48Yv79Yc62kY3z4JiTZms0VbdJo4kL8jztmWpJpKN\n",
       "2krALKHGiXdXsSvdZknNlbiWEjjZOY2eGgs8ooY0MAzHW4NpCYpqOzyOS5j3BZ4IijvSS1JlvEy6\n",
       "uhBwMQMJSN0WgDloMnHDVgKD9EwyvEP7ayevplCjrhvldJ1BFSlXAOa8MerXlMD9BnJeld/FqLfe\n",
       "bGFxjyI2xyABxpufJWAO2ZYMvjTlCdR3XvV6MOPP9ls0UKuMoWUr+L/SKgrZ0QB3O3wsVs4hoC91\n",
       "ELislhORAEahg0DXOT5pX6Opv/MHkZxj1C9zAAAAAElFTkSuQmCC\n",
       "\" style=\"display:inline;vertical-align:middle;\" /></a></td></tr>\n",
       "<tr><td>1</td><td>Literal</td><td></td><td><a class=\"ProveItLink\" href=\"../../../../set_theory/membership/__pv_it/088cbc857536a28d4119ad9639a84270ccb0545d0/expr.ipynb\"><img src=\"data:image/png;base64,iVBORw0KGgoAAAANSUhEUgAAAAwAAAAMBAMAAACkW0HUAAAALVBMVEX///+qqqpmZmZUVFQQEBC6\n",
       "urpERETc3NyYmJjMzMwiIiIyMjKIiIju7u4AAACYsrA9AAAAAXRSTlMAQObYZgAAADxJREFUCNdj\n",
       "YOA9vWrVBgaG2b0MQMCeCyIZ2ArA1DUwyRCyahVIyWQI7xaEYm4AU7xLIdxqTQgtvGvVBgCkcQ7e\n",
       "geM/tQAAAABJRU5ErkJggg==\n",
       "\" style=\"display:inline;vertical-align:middle;\" /></a></td></tr>\n",
       "<tr><td>2</td><td>ExprTuple</td><td>3, 4</td><td><a class=\"ProveItLink\" href=\"../a58c3d90d40d120d64bcf911b2e1748752ab5d290/expr.ipynb\"><img src=\"data:image/png;base64,iVBORw0KGgoAAAANSUhEUgAAAIUAAAAcBAMAAAC9nWGEAAAAMFBMVEX///+qqqp2dnYiIiJERESI\n",
       "iIhmZmYQEBDc3NyYmJgyMjLu7u5UVFTMzMy6uroAAACGxKilAAAAAXRSTlMAQObYZgAAAoFJREFU\n",
       "OMutVT9oE3EU/vLv8ueSGHCrSAOSRVC7WHCLg2hBaFCig7YElAziUHQpCHqLg1LI6SAOogFRKDgc\n",
       "DhalkAqmYhGaQUdpFumiNsW2GmKp7/1+d79cwkVK4oPLfe/l3nff+3N3wCBWxsDmaznoR98cL1vw\n",
       "C5BY6JvjQsvOfmP1S5HYR7XkGX3gn6+7SHncHfDrxBEwgMhUdz3z1z0IkicLWq3tRheLr+sPmSNE\n",
       "qVqBQrGOel54qdiTck9yFvq4nmMOPsJ12EUpW/fiWLNwXznxNDDkKxa3TOAYsMKxGx2yW14cB4A5\n",
       "5ZSorM/UB77yMnCeszr2zT/ixfEcCKaUKEJfgEd/6PwEWKKQRtIwc2bVEBfEqhdNe4cyExJEqoep\n",
       "QH9B6disuYs8zVmUk5zGuAxWstiW87+JpzK0agRJtk/JDe3snHLwSo01ir6WTK6MbdjCNQHmchiT\n",
       "MprQKD85pW5+5/0vZ5SlOkZ5bsSxDByVwSvAlgDLagwNBKjcRMPVnyN2vaikFMcGdFkBRZJNATbU\n",
       "bmRRqbs4opxqtnXwQoVTiGzC19Dt9dDEdCnkXJbDMKx2La84ZrTn/I5OQRP6OuLl/eAitxFOC9Dk\n",
       "O1pS7pKvhij3lP0hOq6quRg4Czm0WewtpPWf5L2l/wVYBA4JEDN9o355mfAv5RDKOhy0H2u8Y7RV\n",
       "M/nvJ+r6LVI4f45kMdAyeUuASHXy0yRRUU+Ev/Dt45hq7kHqF2/LtNpzoyewd93lS3smH5/20xTt\n",
       "DYBMly9M/00DG3E/+//i0MteHFFuzHEeo/MOyqEnQNzo9KUFuBd3Gd3exbtwwjP6QHwk0oN8YiJy\n",
       "xvcG4dAs/Bf7C2j7rSYexnSXAAAAAElFTkSuQmCC\n",
       "\" style=\"display:inline;vertical-align:middle;\" /></a></td></tr>\n",
       "<tr><td>3</td><td>ExprTuple</td><td>5, 6, 7, 8</td><td><a class=\"ProveItLink\" href=\"../01f3547cb6e447be93e3bf9397d84951004f68d70/expr.ipynb\"><img src=\"data:image/png;base64,iVBORw0KGgoAAAANSUhEUgAAAFAAAAAVBAMAAAAjqnRBAAAAMFBMVEX////c3NwiIiJERESqqqqY\n",
       "mJh2dnZmZmYQEBDu7u4yMjJUVFTMzMyIiIi6uroAAAAs73DqAAAAAXRSTlMAQObYZgAAAXtJREFU\n",
       "KM+Nkz9Iw0AYxV/bJG0S2nTv0E66dtBRLI4imNkpOOgmWewgghZEJyWjuLSLgwhSB0GEYsBFcLCT\n",
       "4JBSdRERGmkdOlj87q6BFFJthuSXd+++f7kAE1+Z5v8euU23h5CgXhcibG8H2KbHWVjT6lEBe9CA\n",
       "9EhmoxRVXB+yhZQT1jpOhFEpQN3Fx4i2GpVZs4EZlIlijY2K0M69q2Fba54rKPfUoXrWcUr8nk34\n",
       "YrkLQ6zftzUxgEwF81TPIo4o4DeSRa5KfaQsvuMQCZNLeRNbLBYGgO4jLnpP1mDYDHQ/KPAWmKLH\n",
       "IzMaRVRFwriNDg9kFANjF+qAG/coehPLcIZj3OGQD6Yb+4Hkqyz1LFAt4UZyVWZ0sQ8OFNdkoPag\n",
       "15aAFeobmilNK6hSl3opWRdgQ3EZ0FQWbIuN55WNsXXXwvEX7W9sggPK3rOAnPc5R2fnAqlsUPbL\n",
       "eGCfULaCF3M8QGmGjtlfxhNWxJDTGAvAJZvUBL9C2sUvYK1jupu6jYwAAAAASUVORK5CYII=\n",
       "\" style=\"display:inline;vertical-align:middle;\" /></a></td></tr>\n",
       "<tr><td>4</td><td>Operation</td><td>operator:&nbsp;9<br>operands:&nbsp;10<br></td><td><a class=\"ProveItLink\" href=\"../94ddb8c5f084ef1eebe9c1222ff710b1e0a375210/expr.ipynb\"><img src=\"data:image/png;base64,iVBORw0KGgoAAAANSUhEUgAAABUAAAAUBAMAAACQZWsAAAAAMFBMVEX///8iIiIQEBCIiIjMzMzc\n",
       "3Nyqqqp2dnZEREQyMjK6urru7u5mZmZUVFSYmJgAAACI6eGPAAAAAXRSTlMAQObYZgAAAIZJREFU\n",
       "CNdjYICBCXAWA9tvBHs7EtsawWbJRrDZucFsvjtn9i14CmHPY+Du5zYAs3kLGBgy2c6c+fOAgSHe\n",
       "gYHBmYGBFSS+PoGBwYWB4e1fIB3/2QFuGvP//61wTtylTxsQ9tc/gNB8QLwfyt4DxPEBEHYmEJ+F\n",
       "qj1owMDcAGVfWHu3D8oEAIsaKTsFR0giAAAAAElFTkSuQmCC\n",
       "\" style=\"display:inline;vertical-align:middle;\" /></a></td></tr>\n",
       "<tr><td>5</td><td>Variable</td><td></td><td><a class=\"ProveItLink\" href=\"../../../../../__pv_it/07527342713064c87612d00d8557c53d53d5324a0/expr.ipynb\"><img src=\"data:image/png;base64,iVBORw0KGgoAAAANSUhEUgAAAAsAAAAJBAMAAAAWSsseAAAAMFBMVEX///8yMjKqqqrMzMzu7u4i\n",
       "IiJmZmaYmJhEREQQEBC6urp2dnaIiIhUVFTc3NwAAAD87Fq/AAAAAXRSTlMAQObYZgAAAEhJREFU\n",
       "CNdjYOC7s2seAwPDygccHxgY+L4zsDUwMPB+YGA9wMDA38Dgb8DA8P4Agz6DA4O/AsNFJgMGxgKm\n",
       "MG6gyjunLE4xAAAZTBA5TB6DCwAAAABJRU5ErkJggg==\n",
       "\" style=\"display:inline;vertical-align:middle;\" /></a></td></tr>\n",
       "<tr><td>6</td><td>Variable</td><td></td><td><a class=\"ProveItLink\" href=\"../../../../../__pv_it/6840a4fa6c106149dc16a131294d0c5e44f1b0480/expr.ipynb\"><img src=\"data:image/png;base64,iVBORw0KGgoAAAANSUhEUgAAAAkAAAAOBAMAAAAPuiubAAAALVBMVEX///9mZmbMzMxERESYmJiI\n",
       "iIh2dna6urqqqqoyMjIiIiIQEBBUVFTu7u4AAAD9S1JeAAAAAXRSTlMAQObYZgAAAE1JREFUCNdj\n",
       "4D29gAEIOA+ASL4GEFl3AURmgQiGOaFHGBh4HzPwKTBwvGXgTmBgnMDAJ8DAJcBQ5wBSLncBJLWN\n",
       "gYGngRFoBO9REQYGAGrcDtUkVqASAAAAAElFTkSuQmCC\n",
       "\" style=\"display:inline;vertical-align:middle;\" /></a></td></tr>\n",
       "<tr><td>7</td><td>Variable</td><td></td><td><a class=\"ProveItLink\" href=\"../../../../../__pv_it/cbdfda466482236edba0ce44ac7ef39cda0af7a40/expr.ipynb\"><img src=\"data:image/png;base64,iVBORw0KGgoAAAANSUhEUgAAAAkAAAAJBAMAAAASvxsjAAAALVBMVEX///9mZmbc3NxUVFSYmJhE\n",
       "REQiIiIyMjK6uroQEBDMzMyIiIh2dnbu7u4AAABgFDGoAAAAAXRSTlMAQObYZgAAADZJREFUCNdj\n",
       "YOA9s3sBA8PKBvYEBt7ZDKwODMwPGICALwBE6m0Asx0YGIDiAgw8QJUyu/cyAAAmuwmycZ8WfQAA\n",
       "AABJRU5ErkJggg==\n",
       "\" style=\"display:inline;vertical-align:middle;\" /></a></td></tr>\n",
       "<tr><td>8</td><td>Variable</td><td></td><td><a class=\"ProveItLink\" href=\"../../../../../__pv_it/3a5de44ed6135dbbdbbeec6704c741e238f127300/expr.ipynb\"><img src=\"data:image/png;base64,iVBORw0KGgoAAAANSUhEUgAAAAsAAAAOBAMAAAALT/umAAAAMFBMVEX////MzMyYmJiIiIhUVFTc\n",
       "3NwyMjIiIiJ2dnbu7u6qqqpmZmYQEBBERES6uroAAABkyy6XAAAAAXRSTlMAQObYZgAAAFhJREFU\n",
       "CNdjYGBg4LuzgQEE+BeAqfcTwFQ7mGTIBmJW575fQOpNAO9PIOcTA3cCAwPLBwb2BqCeCwzzHzAw\n",
       "xBswrGeYwDB/AYMblwADmwJXNQdIm52sHQMAfyoTCZukXIEAAAAASUVORK5CYII=\n",
       "\" style=\"display:inline;vertical-align:middle;\" /></a></td></tr>\n",
       "<tr><td>9</td><td>Literal</td><td></td><td><a class=\"ProveItLink\" href=\"../../../../../number/exponentiation/__pv_it/deb2bf23cbccdd6e6791e1b35b5b9794ce12dbd50/expr.ipynb\"><img src=\"data:image/png;base64,iVBORw0KGgoAAAANSUhEUgAAACgAAAASBAMAAADbMYGVAAAAMFBMVEX///8QEBAiIiKYmJjc3Nzu\n",
       "7u7MzMx2dnZmZma6urpERESqqqoyMjJUVFSIiIgAAAAoDOMTAAAAAXRSTlMAQObYZgAAAOBJREFU\n",
       "GNNjYGB4+//u3Tt/GNAASGAXmhjnPyDBgSbI/g1IxKEJ8nxgYGdgQRPkX8BgDKRY6q7s62OYvmze\n",
       "2wAgb/7ZO1+AVDiDkYEQQ0HTBr4DQF59AgOIKmB4z7CNbcNZBu6vQN55kEACQwDDLQYGVobfDHwg\n",
       "fb8YGBxYHwAZciD3fWXg+gB1JjvQcJZvQIXsCgz8F6DO9GBgMOH7wPCUgaeBwd4B7EwGNjUG7s9c\n",
       "AiwPgO5jkWRgiF3/9+5dfQUG1nWl5Y+B7pv+1gE9bBhqGLCAE1jEWH9jEbT5A3IwAC4sP/1L6Qlu\n",
       "AAAAAElFTkSuQmCC\n",
       "\" style=\"display:inline;vertical-align:middle;\" /></a></td></tr>\n",
       "<tr><td>10</td><td>ExprTuple</td><td>11, 12</td><td><a class=\"ProveItLink\" href=\"../c344c94059453e9ea1b904cefb5cf4640bccb68d0/expr.ipynb\"><img src=\"data:image/png;base64,iVBORw0KGgoAAAANSUhEUgAAAC0AAAAVBAMAAAAgHXppAAAAMFBMVEX////c3NwiIiJERESqqqqY\n",
       "mJh2dnZmZmYQEBDu7u4yMjJUVFTMzMyIiIi6uroAAAAs73DqAAAAAXRSTlMAQObYZgAAARdJREFU\n",
       "GNNjYMAF+C5gCMWBiNMggnV7+dQHEEGeDQzsB4D0ShBnKQOnPVQxkwEDwwIGBl6QMdwJDAxeUPEb\n",
       "QPEwBgaOCUC2PFDjWYgwYxRQfAYDwysQ570DA8MZiDgbF1Cc2YGhDMSR/3sA5pZAkDhbAdBGIOD9\n",
       "/98QIsx5ASTOsoChD8wV3fFjAsQYBpA4XwPDP6j+/AAw5QMW5/kAFmcF4vlgcc4EmHgLkDcdZLUA\n",
       "SJxl9+793RdA5pgyQLxUzcAJMZADqJ51AUM6kFl0gYHXgGG+Alwc6M5HQOaG17uB2mZ8BDto//cA\n",
       "Bq4HDBwC8OB9CGcBw4E1Ac4LgLNyYeGMKs4JDGcGaRiPF66AG2Q2I2Y83mFgAABEPD2WXJTffwAA\n",
       "AABJRU5ErkJggg==\n",
       "\" style=\"display:inline;vertical-align:middle;\" /></a></td></tr>\n",
       "<tr><td>11</td><td>Variable</td><td></td><td><a class=\"ProveItLink\" href=\"../../../../../__pv_it/abeee18594afe51bfb1be95d9591fbba24ac53f30/expr.ipynb\"><img src=\"data:image/png;base64,iVBORw0KGgoAAAANSUhEUgAAAA0AAAAOBAMAAAAGUYvhAAAAMFBMVEX///8iIiIQEBCIiIjMzMzc\n",
       "3Nyqqqp2dnZEREQyMjK6urru7u5mZmZUVFSYmJgAAACI6eGPAAAAAXRSTlMAQObYZgAAAF1JREFU\n",
       "CNdjYGDgu3Nm3wIGBoZ5DNz9QIq3gIEhE0jHOzAwOAPp9QkMDC4g/megABAw///fCmbEXfq0Acxg\n",
       "qH8ANAVI7wfSe0BKAyBGnAXigwYMzA1A+sLau31ACgAz0hhbkhGHbwAAAABJRU5ErkJggg==\n",
       "\" style=\"display:inline;vertical-align:middle;\" /></a></td></tr>\n",
       "<tr><td>12</td><td>Literal</td><td></td><td><a class=\"ProveItLink\" href=\"../../../../../number/numeral/__pv_it/23412ce59ea7e77353d2f9225e02248e73651ca00/expr.ipynb\"><img src=\"data:image/png;base64,iVBORw0KGgoAAAANSUhEUgAAAAoAAAAPBAMAAAAv0UM9AAAALVBMVEX///9mZmaqqqru7u52dnYy\n",
       "MjKYmJjc3NwQEBCIiIhEREQiIiJUVFTMzMwAAACUDTcXAAAAAXRSTlMAQObYZgAAAD5JREFUCNdj\n",
       "YGBguMMAArtABGcXiCyLApEOIJKtAERaMoBIBxDJdAFEmjCASJ0zZ16cBCkF64KQPu/EwBwGACv6\n",
       "DSRgin9qAAAAAElFTkSuQmCC\n",
       "\" style=\"display:inline;vertical-align:middle;\" /></a></td></tr>\n",
       "</table>\n"
      ],
      "text/plain": [
       "0. (a , b , c , d) in S^{4}\n",
       "   core type: Operation\n",
       "   operator: 1\n",
       "   operands: 2\n",
       "1. in\n",
       "   core type: Literal\n",
       "   sub-expressions: \n",
       "2. ((a , b , c , d) , S^{4})\n",
       "   core type: ExprTuple\n",
       "   sub-expressions: 3, 4\n",
       "3. (a , b , c , d)\n",
       "   core type: ExprTuple\n",
       "   sub-expressions: 5, 6, 7, 8\n",
       "4. S^{4}\n",
       "   core type: Operation\n",
       "   operator: 9\n",
       "   operands: 10\n",
       "5. a\n",
       "   core type: Variable\n",
       "   sub-expressions: \n",
       "6. b\n",
       "   core type: Variable\n",
       "   sub-expressions: \n",
       "7. c\n",
       "   core type: Variable\n",
       "   sub-expressions: \n",
       "8. d\n",
       "   core type: Variable\n",
       "   sub-expressions: \n",
       "9. Exp\n",
       "   core type: Literal\n",
       "   sub-expressions: \n",
       "10. (S , 4)\n",
       "    core type: ExprTuple\n",
       "    sub-expressions: 11, 12\n",
       "11. S\n",
       "    core type: Variable\n",
       "    sub-expressions: \n",
       "12. 4\n",
       "    core type: Literal\n",
       "    sub-expressions: "
      ]
     },
     "execution_count": 4,
     "metadata": {},
     "output_type": "execute_result"
    }
   ],
   "source": [
    "# display the expression information\n",
    "expr.exprInfo()"
   ]
  },
  {
   "cell_type": "code",
   "execution_count": null,
   "metadata": {},
   "outputs": [],
   "source": []
  }
 ],
 "metadata": {
  "kernelspec": {
   "display_name": "Python 3",
   "language": "python",
   "name": "python3"
  }
 },
 "nbformat": 4,
 "nbformat_minor": 0
}
