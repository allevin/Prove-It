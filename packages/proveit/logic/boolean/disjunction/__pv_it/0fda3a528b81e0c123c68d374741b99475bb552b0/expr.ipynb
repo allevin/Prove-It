{
 "cells": [
  {
   "cell_type": "markdown",
   "metadata": {},
   "source": [
    "Expression of type <a class=\"ProveItLink\" href=\"../../../../../../../doc/html/api/proveit.ExprTuple.html\">ExprTuple</a>\n",
    "=======================\n",
    "# from context <a class=\"ProveItLink\" href=\"../../_context_.ipynb\">proveit.logic.boolean.disjunction</a>"
   ]
  },
  {
   "cell_type": "code",
   "execution_count": 1,
   "metadata": {},
   "outputs": [],
   "source": [
    "# import Expression classes needed to build the expression\n",
    "from proveit import ExprTuple\n",
    "from proveit._common_ import C, E\n",
    "from proveit.logic import Implies"
   ]
  },
  {
   "cell_type": "code",
   "execution_count": 2,
   "metadata": {},
   "outputs": [
    {
     "data": {
      "text/html": [
       "<strong id=\"expr\">expr:</strong> <a class=\"ProveItLink\" href=\"expr.ipynb\"><img src=\"data:image/png;base64,iVBORw0KGgoAAAANSUhEUgAAAE0AAAAVBAMAAADx+n4ZAAAAMFBMVEX////c3NwiIiJERESqqqqY\n",
       "mJh2dnZmZmYQEBDu7u4yMjJUVFTMzMyIiIi6uroAAAAs73DqAAAAAXRSTlMAQObYZgAAAWFJREFU\n",
       "KM9jYCAW8F0gqCQORJwGEXOtywPEMRXw7v+9e/f6BewHgOyVQMzWysDwvBWLSfwLGBhYDBiAJC/Q\n",
       "Ws5FE4BqP8JlJ8BZ70GOKmAIY2DgAApydYLc2QCXXQln5QNt5LzAMIOB4RWQV+8AJBgL4LKv4az1\n",
       "DAwJDAIMzA4MZUAVv0BCnAfgsmzwIPjMwBoAEihgWMrAwP4VroJdCQy+w8Ls1+71AkCaZQFDHwMD\n",
       "00d0b7Ksgxr8h4GLAeL2f0DPfwDbi6xwVh+Y4vrAwMbAw8DA8wGkjgOszgdJGc8ySNDwGzAwMswF\n",
       "q2thYOD+yQAOJYT7lCcgBV8m2F5ToOq/IKdMQHLeBqTgA4UX6wKGdCA33oGBrxDJWimk4GM4dAAc\n",
       "Lo9Aztm1vQTZF4YQinPz/927N30C+ecBA4cAZuwfQBcAxhtrAhFpNBcl0nECTmC6YpAmrI4b5DZG\n",
       "wun+DgMDAH9lVAH49MViAAAAAElFTkSuQmCC\n",
       "\" style=\"display:inline;vertical-align:middle;\" /></a><br>"
      ],
      "text/plain": [
       "expr: (C => E)"
      ]
     },
     "execution_count": 2,
     "metadata": {},
     "output_type": "execute_result"
    }
   ],
   "source": [
    "# build up the expression from sub-expressions\n",
    "expr = ExprTuple(Implies(C, E))"
   ]
  },
  {
   "cell_type": "code",
   "execution_count": 3,
   "metadata": {},
   "outputs": [
    {
     "name": "stdout",
     "output_type": "stream",
     "text": [
      "Passed sanity check: built 'expr' is the same as the stored Expression.\n"
     ]
    }
   ],
   "source": [
    "# check that the built expression is the same as the stored expression\n",
    "%check_expr"
   ]
  },
  {
   "cell_type": "code",
   "execution_count": 4,
   "metadata": {},
   "outputs": [
    {
     "data": {
      "text/html": [
       "<table><tr><th>&nbsp;</th><th>core type</th><th>sub-expressions</th><th>expression</th></tr>\n",
       "<tr><td>0</td><td>ExprTuple</td><td>1</td><td><a class=\"ProveItLink\" href=\"expr.ipynb\"><img src=\"data:image/png;base64,iVBORw0KGgoAAAANSUhEUgAAAE0AAAAVBAMAAADx+n4ZAAAAMFBMVEX////c3NwiIiJERESqqqqY\n",
       "mJh2dnZmZmYQEBDu7u4yMjJUVFTMzMyIiIi6uroAAAAs73DqAAAAAXRSTlMAQObYZgAAAWFJREFU\n",
       "KM9jYCAW8F0gqCQORJwGEXOtywPEMRXw7v+9e/f6BewHgOyVQMzWysDwvBWLSfwLGBhYDBiAJC/Q\n",
       "Ws5FE4BqP8JlJ8BZ70GOKmAIY2DgAApydYLc2QCXXQln5QNt5LzAMIOB4RWQV+8AJBgL4LKv4az1\n",
       "DAwJDAIMzA4MZUAVv0BCnAfgsmzwIPjMwBoAEihgWMrAwP4VroJdCQy+w8Ls1+71AkCaZQFDHwMD\n",
       "00d0b7Ksgxr8h4GLAeL2f0DPfwDbi6xwVh+Y4vrAwMbAw8DA8wGkjgOszgdJGc8ySNDwGzAwMswF\n",
       "q2thYOD+yQAOJYT7lCcgBV8m2F5ToOq/IKdMQHLeBqTgA4UX6wKGdCA33oGBrxDJWimk4GM4dAAc\n",
       "Lo9Aztm1vQTZF4YQinPz/927N30C+ecBA4cAZuwfQBcAxhtrAhFpNBcl0nECTmC6YpAmrI4b5DZG\n",
       "wun+DgMDAH9lVAH49MViAAAAAElFTkSuQmCC\n",
       "\" style=\"display:inline;vertical-align:middle;\" /></a></td></tr>\n",
       "<tr><td>1</td><td>Operation</td><td>operator:&nbsp;2<br>operands:&nbsp;3<br></td><td><a class=\"ProveItLink\" href=\"../5cdd690dca2fb09608566bce336a279b2d1cbca00/expr.ipynb\"><img src=\"data:image/png;base64,iVBORw0KGgoAAAANSUhEUgAAAEAAAAAPBAMAAACmSdRUAAAAMFBMVEX////MzMyqqqoiIiIyMjK6\n",
       "uroQEBB2dnbc3NyYmJhmZmZUVFRERESIiIju7u4AAAB204erAAAAAXRSTlMAQObYZgAAAO5JREFU\n",
       "GNNjYGDgu7NrJccCBgxw+//u3Vu+ABllExhYl03AVMAAktRhYHhiB6TrG2CifHB51r9AgouBwe0B\n",
       "kA6DC7M8gLHYPwKJtwxcn0CcLoS+DXClHxjYGTgY+h1AnIcIm2thDP4DDDOB1HqE8xYbg4A9zEPx\n",
       "3lt+ACn7BnTHqwRA6HoBBpDp/8GcB0gK+NwgKvwZGAoYBBjyQWwmASQFInUQ+g8DQwPfBYb9DyC+\n",
       "hbvB+BxSMLA/YJC/AKTrkAzQRg4GoPc5geEQheRQDgdEMDAwGgIZ0t6rFJAM4IEqfn3+9+7d9gaY\n",
       "McSIxgcA7SE7YkA+WH4AAAAASUVORK5CYII=\n",
       "\" style=\"display:inline;vertical-align:middle;\" /></a></td></tr>\n",
       "<tr><td>2</td><td>Literal</td><td></td><td><a class=\"ProveItLink\" href=\"../../../implication/__pv_it/e5c030cabcb650938f92dee8256fe11cd12bf9b30/expr.ipynb\"><img src=\"data:image/png;base64,iVBORw0KGgoAAAANSUhEUgAAABMAAAANBAMAAAC5okgUAAAALVBMVEX////c3NxERETMzMwQEBCq\n",
       "qqoiIiJmZmaIiIh2dnZUVFS6uroyMjLu7u4AAACPpZJTAAAAAXRSTlMAQObYZgAAAD1JREFUCNdj\n",
       "YAABXgY44LkAZ3IvQAjPABFlaSCQV4AQjtkAZ/IegbNt5sLUpunC5aPgLMYDcCaTAJzJDCIA2yMN\n",
       "HCCUuIIAAAAASUVORK5CYII=\n",
       "\" style=\"display:inline;vertical-align:middle;\" /></a></td></tr>\n",
       "<tr><td>3</td><td>ExprTuple</td><td>4, 5</td><td><a class=\"ProveItLink\" href=\"../07db547a671f690993b1113645b8adbdf0cc5ba10/expr.ipynb\"><img src=\"data:image/png;base64,iVBORw0KGgoAAAANSUhEUgAAADUAAAAVBAMAAAAUZLt1AAAAMFBMVEX////c3NwiIiJERESqqqqY\n",
       "mJh2dnZmZmYQEBDu7u4yMjJUVFTMzMyIiIi6uroAAAAs73DqAAAAAXRSTlMAQObYZgAAAT1JREFU\n",
       "KM99kr9OwzAQxr9Ak8ZpUrIxsPAIXZhY8gAMmRihG2JABAnBCAMdWFDHLhUREgNTJBiQ8EDEytIH\n",
       "6AAsSCykIAbK3zvXUCNFWMrZd7/47j7bwH+j3isNL7G5ZtOd346nR8Hg8k3KLK3mtD6hz2kB9y29\n",
       "YyoFKg2QDSilOGoTH2j2yEUSLAIuhb19rrur2TplEz10gAfydiIyVqJZBjQRYjLCFkWHHBK5Zs+w\n",
       "Y+4hwTFQffmjaSizkOZKigNgYmAy5x0eRvU/qelC5dTMK+DAB/yCmavYwo+8Bix0FdsDaq9Qigx5\n",
       "qyrnHP3xwWXaOivLYz12ihVylyPUN4DDWS0PV7nScEdL/+J8k6YO9SvOvqQ8feKebuCG4/ZvTS10\n",
       "ZnZz7MYmW9N3VMIE3RFmft3A3FbjWlb5m+gD35isTLu2GV3TAAAAAElFTkSuQmCC\n",
       "\" style=\"display:inline;vertical-align:middle;\" /></a></td></tr>\n",
       "<tr><td>4</td><td>Variable</td><td></td><td><a class=\"ProveItLink\" href=\"../../../../../__pv_it/985a1bdf1540838275dec15f4ad6de261cca93ce0/expr.ipynb\"><img src=\"data:image/png;base64,iVBORw0KGgoAAAANSUhEUgAAAA8AAAAOBAMAAAACpFvcAAAAMFBMVEX////MzMyqqqoiIiIyMjK6\n",
       "uroQEBB2dnbc3NyYmJhmZmZUVFRERESIiIju7u4AAAB204erAAAAAXRSTlMAQObYZgAAAGZJREFU\n",
       "CNdjYGDgu7NrJccCBgaGsgkMrMsmMDA8sQNy6hsYGNweABlhDAxcn4A0QxcDQ78DiPGQgWH9BAYI\n",
       "sG+AMv6DSaCGfBDNJMDAsB+kmwuI5S8AiTog5gSaEwXWIO29SgFIAQBC+RaDQlidVgAAAABJRU5E\n",
       "rkJggg==\n",
       "\" style=\"display:inline;vertical-align:middle;\" /></a></td></tr>\n",
       "<tr><td>5</td><td>Variable</td><td></td><td><a class=\"ProveItLink\" href=\"../../../../../__pv_it/9995c55100c62d7d8a012a35bafc852acbe03cf00/expr.ipynb\"><img src=\"data:image/png;base64,iVBORw0KGgoAAAANSUhEUgAAABAAAAAOBAMAAADUAYG5AAAALVBMVEX///8iIiKYmJjc3Nzu7u7M\n",
       "zMx2dnZmZma6urpERESqqqoyMjJUVFSIiIgAAACbLqVTAAAAAXRSTlMAQObYZgAAAGVJREFUCNdj\n",
       "YGC48+7MmdOvGYAARKwEYo63QIIdiNmeAglfIOZ+wMDGwAxk8E1gUAIpZejbc/oxmJEXwLABzNjH\n",
       "wJDAEABkvGRgMGC5ADWGzQFqjDnEGAZWUQYGn3lvzpyRE2AAAIznGVQJqiN4AAAAAElFTkSuQmCC\n",
       "\" style=\"display:inline;vertical-align:middle;\" /></a></td></tr>\n",
       "</table>\n"
      ],
      "text/plain": [
       "0. (C => E)\n",
       "   core type: ExprTuple\n",
       "   sub-expressions: 1\n",
       "1. C => E\n",
       "   core type: Operation\n",
       "   operator: 2\n",
       "   operands: 3\n",
       "2. =>\n",
       "   core type: Literal\n",
       "   sub-expressions: \n",
       "3. (C , E)\n",
       "   core type: ExprTuple\n",
       "   sub-expressions: 4, 5\n",
       "4. C\n",
       "   core type: Variable\n",
       "   sub-expressions: \n",
       "5. E\n",
       "   core type: Variable\n",
       "   sub-expressions: "
      ]
     },
     "execution_count": 4,
     "metadata": {},
     "output_type": "execute_result"
    }
   ],
   "source": [
    "# display the expression information\n",
    "expr.exprInfo()"
   ]
  },
  {
   "cell_type": "code",
   "execution_count": null,
   "metadata": {},
   "outputs": [],
   "source": []
  }
 ],
 "metadata": {
  "kernelspec": {
   "display_name": "Python 3",
   "language": "python",
   "name": "python3"
  }
 },
 "nbformat": 4,
 "nbformat_minor": 0
}
