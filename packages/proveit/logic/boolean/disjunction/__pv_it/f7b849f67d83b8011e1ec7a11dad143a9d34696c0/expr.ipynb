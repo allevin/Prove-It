{
 "cells": [
  {
   "cell_type": "markdown",
   "metadata": {},
   "source": [
    "Expression of type <a class=\"ProveItLink\" href=\"../../../../../../../doc/html/api/proveit.ExprTuple.html\">ExprTuple</a>\n",
    "=======================\n",
    "# from context <a class=\"ProveItLink\" href=\"../../_context_.ipynb\">proveit.logic.boolean.disjunction</a>"
   ]
  },
  {
   "cell_type": "code",
   "execution_count": 1,
   "metadata": {},
   "outputs": [],
   "source": [
    "# import Expression classes needed to build the expression\n",
    "from proveit import ExprTuple\n",
    "from proveit._common_ import B\n",
    "from proveit.logic import Booleans, Or, TRUE"
   ]
  },
  {
   "cell_type": "code",
   "execution_count": 2,
   "metadata": {},
   "outputs": [
    {
     "data": {
      "text/html": [
       "<strong id=\"expr\">expr:</strong> <a class=\"ProveItLink\" href=\"expr.ipynb\"><img src=\"data:image/png;base64,iVBORw0KGgoAAAANSUhEUgAAAFsAAAAVBAMAAADbSo+2AAAAMFBMVEX////c3NwiIiJERESqqqqY\n",
       "mJh2dnZmZmYQEBDu7u4yMjJUVFTMzMyIiIi6uroAAAAs73DqAAAAAXRSTlMAQObYZgAAAYhJREFU\n",
       "KM+Vk79Lw0AUx79tmrZpk5pZB6Eg1K2Dgjr1TygIbmo2J6EguIlFnAQ1OIg4ZXHQQQu6SIuKHR2a\n",
       "QXCxWB0cnPw9WLC+uyPhrkOpBzm+d+/zHt/cvQP+OTJ+v+Qcm26QyPKRV2L6Zbt6esxl/GTqZ20M\n",
       "SFzR4pDtmCUBtfiCyySlr/I1tIy/v+sAHmD5Ml5jU5PLBgUalQC3WsTOUBFXxutsGuXywQbmnQCP\n",
       "Fc+BPeAFMp4iJib0BH05N6z+SN60ApYVnKEshUYbGJxEgF9PU2a8hAMFZ0bqYqfdvBtBgGc7m6yY\n",
       "hy0Vp9+84MJ6A3YqYXXrlsxkyvhV8SgMTyBlSvkKceSfiXrtxhOFeJGLAaqsf0u4xvF1FY94USEa\n",
       "lJX+VHEyM67iqM0iPPZh8uVKZnQPC114XVwSO3Zzw4XxLnB9Jc8P8kngToCnROJSp1o9Ij/Gts1a\n",
       "7CN3xmItJG21S023q7+lODWB7vRucl3Si0ED94XzGxnqjUtvLc18Rfp+fPfAH9PuaK3VPo7eAAAA\n",
       "AElFTkSuQmCC\n",
       "\" style=\"display:inline;vertical-align:middle;\" /></a><br>"
      ],
      "text/plain": [
       "expr: (TRUE or B , BOOLEANS)"
      ]
     },
     "execution_count": 2,
     "metadata": {},
     "output_type": "execute_result"
    }
   ],
   "source": [
    "# build up the expression from sub-expressions\n",
    "expr = ExprTuple(Or(TRUE, B), Booleans)"
   ]
  },
  {
   "cell_type": "code",
   "execution_count": 3,
   "metadata": {},
   "outputs": [
    {
     "name": "stdout",
     "output_type": "stream",
     "text": [
      "Passed sanity check: built 'expr' is the same as the stored Expression.\n"
     ]
    }
   ],
   "source": [
    "# check that the built expression is the same as the stored expression\n",
    "%check_expr"
   ]
  },
  {
   "cell_type": "code",
   "execution_count": 4,
   "metadata": {},
   "outputs": [
    {
     "data": {
      "text/html": [
       "<table><tr><th>&nbsp;</th><th>core type</th><th>sub-expressions</th><th>expression</th></tr>\n",
       "<tr><td>0</td><td>ExprTuple</td><td>1, 2</td><td><a class=\"ProveItLink\" href=\"expr.ipynb\"><img src=\"data:image/png;base64,iVBORw0KGgoAAAANSUhEUgAAAFsAAAAVBAMAAADbSo+2AAAAMFBMVEX////c3NwiIiJERESqqqqY\n",
       "mJh2dnZmZmYQEBDu7u4yMjJUVFTMzMyIiIi6uroAAAAs73DqAAAAAXRSTlMAQObYZgAAAYhJREFU\n",
       "KM+Vk79Lw0AUx79tmrZpk5pZB6Eg1K2Dgjr1TygIbmo2J6EguIlFnAQ1OIg4ZXHQQQu6SIuKHR2a\n",
       "QXCxWB0cnPw9WLC+uyPhrkOpBzm+d+/zHt/cvQP+OTJ+v+Qcm26QyPKRV2L6Zbt6esxl/GTqZ20M\n",
       "SFzR4pDtmCUBtfiCyySlr/I1tIy/v+sAHmD5Ml5jU5PLBgUalQC3WsTOUBFXxutsGuXywQbmnQCP\n",
       "Fc+BPeAFMp4iJib0BH05N6z+SN60ApYVnKEshUYbGJxEgF9PU2a8hAMFZ0bqYqfdvBtBgGc7m6yY\n",
       "hy0Vp9+84MJ6A3YqYXXrlsxkyvhV8SgMTyBlSvkKceSfiXrtxhOFeJGLAaqsf0u4xvF1FY94USEa\n",
       "lJX+VHEyM67iqM0iPPZh8uVKZnQPC114XVwSO3Zzw4XxLnB9Jc8P8kngToCnROJSp1o9Ij/Gts1a\n",
       "7CN3xmItJG21S023q7+lODWB7vRucl3Si0ED94XzGxnqjUtvLc18Rfp+fPfAH9PuaK3VPo7eAAAA\n",
       "AElFTkSuQmCC\n",
       "\" style=\"display:inline;vertical-align:middle;\" /></a></td></tr>\n",
       "<tr><td>1</td><td>Operation</td><td>operator:&nbsp;3<br>operands:&nbsp;4<br></td><td><a class=\"ProveItLink\" href=\"../73feddb7a8cf4f145203442cf7a3406a8ce584430/expr.ipynb\"><img src=\"data:image/png;base64,iVBORw0KGgoAAAANSUhEUgAAADYAAAAPBAMAAABdHiGLAAAAMFBMVEX///8QEBCYmJiqqqrc3Nwy\n",
       "MjLu7u6IiIhUVFS6urp2dnbMzMxEREQiIiJmZmYAAADfOGkeAAAAAXRSTlMAQObYZgAAAMVJREFU\n",
       "GNNjeHsXBO4woACN/x0dRyeAWPsgAmA2N4Qtw8DA9xNJrhtElIOZ3N+B+AeS3B4QcQ3MZP/CwMD0\n",
       "C0mO1YGBgfkBmMkjwMDAK4YkBxIHyQMBfwMDS0wCkhzIvD0Q1v728rcKDMhyQHd0Qlj1DgxsN1Dk\n",
       "eBnYAiCsgyB5BWQ5PgMuiEEMIOfrL0CWYwnghTC4PwGJfgNkOYZudQa491i+otjHsAfic7D3NoaB\n",
       "mbtgcqwQn/Od/9HRGoQa+gzcCShcAGszNlxt2haOAAAAAElFTkSuQmCC\n",
       "\" style=\"display:inline;vertical-align:middle;\" /></a></td></tr>\n",
       "<tr><td>2</td><td>Literal</td><td></td><td><a class=\"ProveItLink\" href=\"../../../__pv_it/46271c8230be96415d662709611f4ed2279d702b0/expr.ipynb\"><img src=\"data:image/png;base64,iVBORw0KGgoAAAANSUhEUgAAAA0AAAAOBAMAAAAGUYvhAAAAMFBMVEX///9mZmbMzMzc3NxUVFSY\n",
       "mJju7u6IiIi6urqqqqoiIiIQEBBEREQyMjJ2dnYAAAAQvcRZAAAAAXRSTlMAQObYZgAAAElJREFU\n",
       "CNdjePvn/u01ExgYGA60s117B6YZKngh9FSWBAjfBsxnWnoMRHet/10AkS+fA6F5OB5AaIYDqDRU\n",
       "PLCGgQFoz6ktExgAgLIl8DFvGtkAAAAASUVORK5CYII=\n",
       "\" style=\"display:inline;vertical-align:middle;\" /></a></td></tr>\n",
       "<tr><td>3</td><td>Literal</td><td></td><td><a class=\"ProveItLink\" href=\"../087d0b4ded7c7e5bf3bba05ecb616d7a8051ff650/expr.ipynb\"><img src=\"data:image/png;base64,iVBORw0KGgoAAAANSUhEUgAAAAwAAAAOBAMAAADpk+DfAAAALVBMVEX///+YmJh2dnZmZmaqqqrc\n",
       "3NwyMjLu7u4iIiJERESIiIhUVFTMzMy6uroAAAD0I/TTAAAAAXRSTlMAQObYZgAAAEtJREFUCNdj\n",
       "uMAABDwMe0DUKoaTIKqdgS2AgYHFAITAzHYGsMQqBoa9QIqDgT0BSDE7MAkAKdYEDpAehj1SYOpk\n",
       "O5hiMwBTPAUMDAB33Atnw8aG2QAAAABJRU5ErkJggg==\n",
       "\" style=\"display:inline;vertical-align:middle;\" /></a></td></tr>\n",
       "<tr><td>4</td><td>ExprTuple</td><td>5, 6</td><td><a class=\"ProveItLink\" href=\"../37daccb7f4d8f0c74c4d62e98fa64e0314d893720/expr.ipynb\"><img src=\"data:image/png;base64,iVBORw0KGgoAAAANSUhEUgAAADYAAAAVBAMAAAD/UwB2AAAAMFBMVEX////c3NwiIiJERESqqqqY\n",
       "mJh2dnZmZmYQEBDu7u4yMjJUVFTMzMyIiIi6uroAAAAs73DqAAAAAXRSTlMAQObYZgAAAPZJREFU\n",
       "KM9jYMAH+C5gFWZ9ACROM7ArgYEBVHD/792b1zEw1ADZK0ECPAUIHRxARfUPGLgYGHgvoMudB4qc\n",
       "38DAmsDAMQFd7r4AA0N8AgNnA8MrBnQ5CyDWAOowYSjDkPvNwCBlCaTTGZaiy/H8vntdFcTwYuhD\n",
       "l+P9yMAwaQOQ8YLhH7occwNQ/ivIvZhy/EA9rN/Aci3ocucDGBi4v4DNNEWSmwDznvwCICMK6FK4\n",
       "HOcnqPd4uiaA/fAIIpcAkusHain+v3v3qgCQ2DoGDgGk6EJig8KMNQEpzpAjkO0CNI6wyM0CYmkE\n",
       "FyUFbARiRuxpgvcAAwBqNEBOwzjo9wAAAABJRU5ErkJggg==\n",
       "\" style=\"display:inline;vertical-align:middle;\" /></a></td></tr>\n",
       "<tr><td>5</td><td>Literal</td><td></td><td><a class=\"ProveItLink\" href=\"../../../__pv_it/68a87cc3370287d726c7086ace789e680e4461c30/expr.ipynb\"><img src=\"data:image/png;base64,iVBORw0KGgoAAAANSUhEUgAAAA4AAAAOBAMAAADtZjDiAAAAFVBMVEX///92dnbMzMxEREQiIiJm\n",
       "ZmYAAABAT6GXAAAAAXRSTlMAQObYZgAAABhJREFUCNdjCHEBAWcGIFBlgABa0YpADAAxegPJJk4d\n",
       "XAAAAABJRU5ErkJggg==\n",
       "\" style=\"display:inline;vertical-align:middle;\" /></a></td></tr>\n",
       "<tr><td>6</td><td>Variable</td><td></td><td><a class=\"ProveItLink\" href=\"../../../../../__pv_it/077b2ff79244fb4582cbe22c6e3356fa92a52f2f0/expr.ipynb\"><img src=\"data:image/png;base64,iVBORw0KGgoAAAANSUhEUgAAABAAAAAOBAMAAADUAYG5AAAAMFBMVEX///+qqqru7u4iIiJ2dnbc\n",
       "3NyIiIjMzMxmZmYQEBC6uroyMjJERERUVFSYmJgAAADLUcuvAAAAAXRSTlMAQObYZgAAAGpJREFU\n",
       "CNdjYGB4+//u3dMLGIBgDgMDxy8gzf4NiP8CGWxfGRj4vgAZPBMYGJgnARn8FxhY9ygAGfXX0pof\n",
       "gDTlBzAw2YIYJ0EckBBI53sHoBH/gIz7AhBjWH9DjancBLTl/N+7t/cxMAAA3u4f/5xagjYAAAAA\n",
       "SUVORK5CYII=\n",
       "\" style=\"display:inline;vertical-align:middle;\" /></a></td></tr>\n",
       "</table>\n"
      ],
      "text/plain": [
       "0. (TRUE or B , BOOLEANS)\n",
       "   core type: ExprTuple\n",
       "   sub-expressions: 1, 2\n",
       "1. TRUE or B\n",
       "   core type: Operation\n",
       "   operator: 3\n",
       "   operands: 4\n",
       "2. BOOLEANS\n",
       "   core type: Literal\n",
       "   sub-expressions: \n",
       "3. or\n",
       "   core type: Literal\n",
       "   sub-expressions: \n",
       "4. (TRUE , B)\n",
       "   core type: ExprTuple\n",
       "   sub-expressions: 5, 6\n",
       "5. TRUE\n",
       "   core type: Literal\n",
       "   sub-expressions: \n",
       "6. B\n",
       "   core type: Variable\n",
       "   sub-expressions: "
      ]
     },
     "execution_count": 4,
     "metadata": {},
     "output_type": "execute_result"
    }
   ],
   "source": [
    "# display the expression information\n",
    "expr.exprInfo()"
   ]
  },
  {
   "cell_type": "code",
   "execution_count": null,
   "metadata": {},
   "outputs": [],
   "source": []
  }
 ],
 "metadata": {
  "kernelspec": {
   "display_name": "Python 3",
   "language": "python",
   "name": "python3"
  }
 },
 "nbformat": 4,
 "nbformat_minor": 0
}
