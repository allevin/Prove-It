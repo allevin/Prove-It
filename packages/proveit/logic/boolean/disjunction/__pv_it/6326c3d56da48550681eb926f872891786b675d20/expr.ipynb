{
 "cells": [
  {
   "cell_type": "markdown",
   "metadata": {},
   "source": [
    "Expression of type <a class=\"ProveItLink\" href=\"../../../../../../../doc/html/api/proveit.logic.Implies.html\">Implies</a>\n",
    "=======================\n",
    "# from context <a class=\"ProveItLink\" href=\"../../_context_.ipynb\">proveit.logic.boolean.disjunction</a>"
   ]
  },
  {
   "cell_type": "code",
   "execution_count": 1,
   "metadata": {},
   "outputs": [],
   "source": [
    "# import Expression classes needed to build the expression\n",
    "from proveit import Indexed\n",
    "from proveit._common_ import AA, BB, i\n",
    "from proveit.logic import Implies"
   ]
  },
  {
   "cell_type": "code",
   "execution_count": 2,
   "metadata": {},
   "outputs": [
    {
     "data": {
      "text/html": [
       "<strong id=\"expr\">expr:</strong> <a class=\"ProveItLink\" href=\"expr.ipynb\"><img src=\"data:image/png;base64,iVBORw0KGgoAAAANSUhEUgAAAFEAAAASBAMAAADRbS/HAAAAMFBMVEX///+YmJhmZmZERES6urrc\n",
       "3Nzu7u4QEBCIiIgyMjJUVFR2dnYiIiKqqqrMzMwAAAD8et6HAAAAAXRSTlMAQObYZgAAAVFJREFU\n",
       "KM9jYAABvr8M2AHzfyD4vg4hwPMbh0qGzO9pacH/H8D5+3/hUsn/mYGB9b8CjMv3/w+qfAKc9f4H\n",
       "SOUCGJdz/39UldPgrP5/DAyM/wVg3B72/wkoKr3gLPsPQF/8hPFY/3H+d0BRyd0AY/2fwMA3H245\n",
       "swITyHxukLuZzoDBJ7gPKmeerwUyNoG54gwcIN+xBCAM5Z0CoRn/X2Bgs5/AwOAK4rH9ZWD5b4Ae\n",
       "jiVgigvkAX9YaHN9L6//fwBVId9siBfZQcHnDwvt68/SUv9/YGBpZkC48zA0LOJBDt7/g8EDZCcb\n",
       "yMHnvzJk8CPcyQvzrfxfUMAfYGv4CuREgZTb/2UIu4OwPBLGWP+VgU38TwBrLtB1/P+Bjl7///8/\n",
       "BguESlNYaIJAMTAEmRuQPMH2DZFiHqAnlPw8JA7vhA0MOMFNbiQOq0UAbpXBrQwAhxtz8AdzYmMA\n",
       "AAAASUVORK5CYII=\n",
       "\" style=\"display:inline;vertical-align:middle;\" /></a><br>"
      ],
      "text/plain": [
       "expr: A_i => B_i"
      ]
     },
     "execution_count": 2,
     "metadata": {},
     "output_type": "execute_result"
    }
   ],
   "source": [
    "# build up the expression from sub-expressions\n",
    "expr = Implies(Indexed(AA, i, base = 1), Indexed(BB, i, base = 1))"
   ]
  },
  {
   "cell_type": "code",
   "execution_count": 3,
   "metadata": {},
   "outputs": [
    {
     "name": "stdout",
     "output_type": "stream",
     "text": [
      "Passed sanity check: built 'expr' is the same as the stored Expression.\n"
     ]
    }
   ],
   "source": [
    "# check that the built expression is the same as the stored expression\n",
    "%check_expr"
   ]
  },
  {
   "cell_type": "code",
   "execution_count": 4,
   "metadata": {},
   "outputs": [
    {
     "data": {
      "text/html": [
       "<table><tr><th>&nbsp;</th><th>core type</th><th>sub-expressions</th><th>expression</th></tr>\n",
       "<tr><td>0</td><td>Operation</td><td>operator:&nbsp;1<br>operands:&nbsp;2<br></td><td><a class=\"ProveItLink\" href=\"expr.ipynb\"><img src=\"data:image/png;base64,iVBORw0KGgoAAAANSUhEUgAAAFEAAAASBAMAAADRbS/HAAAAMFBMVEX///+YmJhmZmZERES6urrc\n",
       "3Nzu7u4QEBCIiIgyMjJUVFR2dnYiIiKqqqrMzMwAAAD8et6HAAAAAXRSTlMAQObYZgAAAVFJREFU\n",
       "KM9jYAABvr8M2AHzfyD4vg4hwPMbh0qGzO9pacH/H8D5+3/hUsn/mYGB9b8CjMv3/w+qfAKc9f4H\n",
       "SOUCGJdz/39UldPgrP5/DAyM/wVg3B72/wkoKr3gLPsPQF/8hPFY/3H+d0BRyd0AY/2fwMA3H245\n",
       "swITyHxukLuZzoDBJ7gPKmeerwUyNoG54gwcIN+xBCAM5Z0CoRn/X2Bgs5/AwOAK4rH9ZWD5b4Ae\n",
       "jiVgigvkAX9YaHN9L6//fwBVId9siBfZQcHnDwvt68/SUv9/YGBpZkC48zA0LOJBDt7/g8EDZCcb\n",
       "yMHnvzJk8CPcyQvzrfxfUMAfYGv4CuREgZTb/2UIu4OwPBLGWP+VgU38TwBrLtB1/P+Bjl7///8/\n",
       "BguESlNYaIJAMTAEmRuQPMH2DZFiHqAnlPw8JA7vhA0MOMFNbiQOq0UAbpXBrQwAhxtz8AdzYmMA\n",
       "AAAASUVORK5CYII=\n",
       "\" style=\"display:inline;vertical-align:middle;\" /></a></td></tr>\n",
       "<tr><td>1</td><td>Literal</td><td></td><td><a class=\"ProveItLink\" href=\"../../../implication/__pv_it/e5c030cabcb650938f92dee8256fe11cd12bf9b30/expr.ipynb\"><img src=\"data:image/png;base64,iVBORw0KGgoAAAANSUhEUgAAABMAAAANBAMAAAC5okgUAAAALVBMVEX////c3NxERETMzMwQEBCq\n",
       "qqoiIiJmZmaIiIh2dnZUVFS6uroyMjLu7u4AAACPpZJTAAAAAXRSTlMAQObYZgAAAD1JREFUCNdj\n",
       "YAABXgY44LkAZ3IvQAjPABFlaSCQV4AQjtkAZ/IegbNt5sLUpunC5aPgLMYDcCaTAJzJDCIA2yMN\n",
       "HCCUuIIAAAAASUVORK5CYII=\n",
       "\" style=\"display:inline;vertical-align:middle;\" /></a></td></tr>\n",
       "<tr><td>2</td><td>ExprTuple</td><td>3, 4</td><td><a class=\"ProveItLink\" href=\"../7aae2b630c40fc61e71c90888ac8d721228a1ec40/expr.ipynb\"><img src=\"data:image/png;base64,iVBORw0KGgoAAAANSUhEUgAAAEcAAAAVBAMAAADm2O7QAAAAMFBMVEX////c3NwiIiJERESqqqqY\n",
       "mJh2dnZmZmYQEBDu7u4yMjJUVFTMzMyIiIi6uroAAAAs73DqAAAAAXRSTlMAQObYZgAAAXpJREFU\n",
       "KM+NkrtOAlEQhn+U+2XZ1lCAT4CNJYFYWVIZK6GzMlBZW1hoTARiTKQwbkwstNE3wFYtJNpaoKUV\n",
       "ENQFiePMOSgHCuMUu3O+/c/OFfiXWU31ivZMmCW2vWtx1+Rxp/HMuykKXe7Wa9mhuAGRnmtc+pz4\n",
       "Py0AyQ/lOkBsFI26piZKjJP63goQrCovXCJTFCMOUnhT/hHwqulDkKqGaFaupB3t57CpHM8wTC1D\n",
       "FB8At6Ms/WWcaXU5QHl11nbvXpy6OQ28DvYVXOUs+GzZI1GBu3Yw0MDawpdqSw+WFP1rjT5/pKKu\n",
       "tK1FEXenQilDVEmJ6OpHtC3v5Zt6jdqwHkcaj8T2U1MBDrco0USZ7uA4biMkIh9x0smuAvA5WGeW\n",
       "kHSyPcwtAScSNUI2DivzCkiFL9wU4kY2iIbIcH87ChC5EiMjw2ghaBuz7/MwnjEFeCy+4ph5HT7k\n",
       "MQU2xquiisrYkyIBIZlgYnJRY9ObG5F8PM2/1/sJ+Aazw3rFiy2nrAAAAABJRU5ErkJggg==\n",
       "\" style=\"display:inline;vertical-align:middle;\" /></a></td></tr>\n",
       "<tr><td>3</td><td>Indexed</td><td>var:&nbsp;5<br>index:&nbsp;7<br>base:&nbsp;\"1\"<br></td><td><a class=\"ProveItLink\" href=\"../b764974a6de5d113074ad3d13f728b12868af9c10/expr.ipynb\"><img src=\"data:image/png;base64,iVBORw0KGgoAAAANSUhEUgAAABgAAAASBAMAAACzwgOtAAAAMFBMVEX///+YmJhmZmZERES6urrc\n",
       "3Nzu7u4QEBCIiIgyMjJUVFR2dnYiIiKqqqrMzMwAAAD8et6HAAAAAXRSTlMAQObYZgAAAI1JREFU\n",
       "CNdjYAABvr8MCMDzG4mz/xeCzff/D4LDuf8/gtPD/j8Bxmb9x/nfAcZhVmD6L8DAwK0A4ogzcPwH\n",
       "MlgCgGy2vwws/w2gqri+l9f/PwDlXH+Wlvr/AwNLM0hVLZA4/5Uhgx+oJwqk3P4vQ9gdBgb+/0AL\n",
       "1////4/BAsmxbN8eIDi8EzYgOKwWAQDd5inAsx8uzwAAAABJRU5ErkJggg==\n",
       "\" style=\"display:inline;vertical-align:middle;\" /></a></td></tr>\n",
       "<tr><td>4</td><td>Indexed</td><td>var:&nbsp;6<br>index:&nbsp;7<br>base:&nbsp;\"1\"<br></td><td><a class=\"ProveItLink\" href=\"../8218b42b999c130105fa8e2a434fd93ed8addc5b0/expr.ipynb\"><img src=\"data:image/png;base64,iVBORw0KGgoAAAANSUhEUgAAABgAAAASBAMAAACzwgOtAAAAMFBMVEX///92dna6urqqqqoiIiKY\n",
       "mJiIiIhmZmbc3NwyMjLu7u7MzMxUVFQQEBBEREQAAAA0CE+eAAAAAXRSTlMAQObYZgAAAKZJREFU\n",
       "CNdjYGB4/x8I7mxgAAOu+bdWrXj/G8Jh+P+AgaH/O4TN/T8ByPkD4bD9B6qP/wrh8P0HEv4TIBz+\n",
       "nwwMO6GqGPb/nTnlrwEDA2MBkBP/mYFhHVCWqQHIOf8LyPgvAFF23wHEOQBmc/wHqmX8n8CUB+Sw\n",
       "/gdq7v/CsIwfqIfnfwPD0vseDF0mQFtAbv77FKjkGQMCcP3agOAwTxBAcDieNQAAh3I83yYxJiUA\n",
       "AAAASUVORK5CYII=\n",
       "\" style=\"display:inline;vertical-align:middle;\" /></a></td></tr>\n",
       "<tr><td>5</td><td>Variable</td><td></td><td><a class=\"ProveItLink\" href=\"../../../../../__pv_it/eb438fefc4bd0ac977777d6dfd3e8a72dfbedbd50/expr.ipynb\"><img src=\"data:image/png;base64,iVBORw0KGgoAAAANSUhEUgAAABIAAAAPBAMAAAAbqIIhAAAAMFBMVEX///+YmJhmZmZERES6urrc\n",
       "3Nzu7u4QEBCIiIgyMjJUVFR2dnYiIiKqqqrMzMwAAAD8et6HAAAAAXRSTlMAQObYZgAAAGpJREFU\n",
       "CNdjYAABvr8MUMDzG8ba/wvK4Pv/B8ri3P8fyuph/58AZrD+4/zvAGYxKzD9FwCzxBk4/iuAGGx/\n",
       "GVj+G4BYXN/L6/8fALGuP0tL/f8BJFkLJM5/BRJRICX2QCfw/weauv7//38AzEYi08a6/oIAAAAA\n",
       "SUVORK5CYII=\n",
       "\" style=\"display:inline;vertical-align:middle;\" /></a></td></tr>\n",
       "<tr><td>6</td><td>Variable</td><td></td><td><a class=\"ProveItLink\" href=\"../../../../../__pv_it/a275d402e75fbbde925e8ebdcbfd239a2138849c0/expr.ipynb\"><img src=\"data:image/png;base64,iVBORw0KGgoAAAANSUhEUgAAABIAAAAPBAMAAAAbqIIhAAAAMFBMVEX///92dna6urqqqqoiIiKY\n",
       "mJiIiIhmZmbc3NwyMjLu7u7MzMxUVFQQEBBEREQAAAA0CE+eAAAAAXRSTlMAQObYZgAAAIdJREFU\n",
       "CNdjYGB4/x8I7mxgYGDgmn9r1Yr3v4Eshv8PGBj6vwMZ3P8TgKw/QBbbf6Ca+K9AFt9/IOE/AUjw\n",
       "/2Rg2AmSZNj/d+aUvwYgVvxnBoZ1P0Gs878YGJj+CwBZ9x1ArAMMDBz/CxgYGEFmsv4Hqu7/ApTk\n",
       "+d/AsPS+B9A0kEv+PmVgAADmSjTeJ9tS4QAAAABJRU5ErkJggg==\n",
       "\" style=\"display:inline;vertical-align:middle;\" /></a></td></tr>\n",
       "<tr><td>7</td><td>Variable</td><td></td><td><a class=\"ProveItLink\" href=\"../../../../../__pv_it/4cc43b4ba7e5ae9f0f864f240ab9735c1604d8200/expr.ipynb\"><img src=\"data:image/png;base64,iVBORw0KGgoAAAANSUhEUgAAAAcAAAAOBAMAAAARcxsoAAAAMFBMVEX///+YmJjc3NxUVFQQEBAi\n",
       "IiKqqqrMzMy6urpmZmZ2dnbu7u6IiIgyMjJEREQAAADwIkbYAAAAAXRSTlMAQObYZgAAADtJREFU\n",
       "CNdjYGB4ywAEbxjQAffKBQwMXBwfGBjKOAMYGDawHAAK5m8AEpe5GRiYfnAxMLB9UARpPcAAAFud\n",
       "DDeiFOVzAAAAAElFTkSuQmCC\n",
       "\" style=\"display:inline;vertical-align:middle;\" /></a></td></tr>\n",
       "</table>\n"
      ],
      "text/plain": [
       "0. A_i => B_i\n",
       "   core type: Operation\n",
       "   operator: 1\n",
       "   operands: 2\n",
       "1. =>\n",
       "   core type: Literal\n",
       "   sub-expressions: \n",
       "2. (A_i , B_i)\n",
       "   core type: ExprTuple\n",
       "   sub-expressions: 3, 4\n",
       "3. A_i\n",
       "   core type: Indexed\n",
       "   var: 5\n",
       "   index: 7\n",
       "   base: \"1\"\n",
       "4. B_i\n",
       "   core type: Indexed\n",
       "   var: 6\n",
       "   index: 7\n",
       "   base: \"1\"\n",
       "5. A\n",
       "   core type: Variable\n",
       "   sub-expressions: \n",
       "6. B\n",
       "   core type: Variable\n",
       "   sub-expressions: \n",
       "7. i\n",
       "   core type: Variable\n",
       "   sub-expressions: "
      ]
     },
     "execution_count": 4,
     "metadata": {},
     "output_type": "execute_result"
    }
   ],
   "source": [
    "# display the expression information\n",
    "expr.exprInfo()"
   ]
  },
  {
   "cell_type": "code",
   "execution_count": null,
   "metadata": {},
   "outputs": [],
   "source": []
  }
 ],
 "metadata": {
  "kernelspec": {
   "display_name": "Python 3",
   "language": "python",
   "name": "python3"
  }
 },
 "nbformat": 4,
 "nbformat_minor": 0
}
