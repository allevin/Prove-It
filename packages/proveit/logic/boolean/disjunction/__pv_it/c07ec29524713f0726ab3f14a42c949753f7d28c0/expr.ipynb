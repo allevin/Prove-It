{
 "cells": [
  {
   "cell_type": "markdown",
   "metadata": {},
   "source": [
    "Expression of type <a class=\"ProveItLink\" href=\"../../../../../../../doc/html/api/proveit.logic.InSet.html\">InSet</a>\n",
    "=======================\n",
    "# from context <a class=\"ProveItLink\" href=\"../../_context_.ipynb\">proveit.logic.boolean.disjunction</a>"
   ]
  },
  {
   "cell_type": "code",
   "execution_count": 1,
   "metadata": {},
   "outputs": [],
   "source": [
    "# import Expression classes needed to build the expression\n",
    "from proveit._common_ import AA, m\n",
    "from proveit.logic import FALSE, InSet, Set\n",
    "from proveit.number import Exp"
   ]
  },
  {
   "cell_type": "code",
   "execution_count": 2,
   "metadata": {},
   "outputs": [
    {
     "data": {
      "text/html": [
       "<strong id=\"expr\">expr:</strong> <a class=\"ProveItLink\" href=\"expr.ipynb\"><img src=\"data:image/png;base64,iVBORw0KGgoAAAANSUhEUgAAAF4AAAAXBAMAAABwq+X5AAAAMFBMVEX///+YmJhmZmZERES6urrc\n",
       "3Nzu7u4QEBCIiIgyMjJUVFR2dnYiIiKqqqrMzMwAAAD8et6HAAAAAXRSTlMAQObYZgAAAVBJREFU\n",
       "OMtjYCASMGp47OJofkCscoZEfwGeBYwLcJunCGe+3gokwjoZ+B9wK0BE+P6iK2c7jcR5fgFIrGB4\n",
       "zsB5ASLA8xtdPccHMBUBJpkmAIk6hmaGeBaI7P5f6Oq5C8DUIziH9QPQBmFuiHP+/yGonsWA4RzD\n",
       "461gPuf+/1BXd545MwG7emTQw/4/Acx4KYbTfCTA+o/zvwOYYcZAjHpmBab/AmBGAFyMaQKSesYP\n",
       "KOrFGTj+gyMiGSnIHZDUM0xCiZq/DCz/DUAs9zNnoP59VceArJ55IpJ6ru/l9f8PgFUhBN0fIKtH\n",
       "jmyG68/SUv+DXZiDZAhO97PVAonzX8GKBBDhcwBX+ESBnG4PTnBsRwiHJ/9/YFyt////H4gTqYes\n",
       "XufMmeNnzhzGjF8EuDUHNT0wYE0PWACp6hmRlUAjGx9gO8GAEdn4LdiLmn+hAACOg21yda65UgAA\n",
       "AABJRU5ErkJggg==\n",
       "\" style=\"display:inline;vertical-align:middle;\" /></a><br>"
      ],
      "text/plain": [
       "expr: A in {FALSE}^{m}"
      ]
     },
     "execution_count": 2,
     "metadata": {},
     "output_type": "execute_result"
    }
   ],
   "source": [
    "# build up the expression from sub-expressions\n",
    "expr = InSet(AA, Exp(Set(FALSE), m))"
   ]
  },
  {
   "cell_type": "code",
   "execution_count": 3,
   "metadata": {},
   "outputs": [
    {
     "name": "stdout",
     "output_type": "stream",
     "text": [
      "Passed sanity check: built 'expr' is the same as the stored Expression.\n"
     ]
    }
   ],
   "source": [
    "# check that the built expression is the same as the stored expression\n",
    "%check_expr"
   ]
  },
  {
   "cell_type": "code",
   "execution_count": 4,
   "metadata": {},
   "outputs": [
    {
     "data": {
      "text/html": [
       "<table><tr><th>&nbsp;</th><th>core type</th><th>sub-expressions</th><th>expression</th></tr>\n",
       "<tr><td>0</td><td>Operation</td><td>operator:&nbsp;1<br>operands:&nbsp;2<br></td><td><a class=\"ProveItLink\" href=\"expr.ipynb\"><img src=\"data:image/png;base64,iVBORw0KGgoAAAANSUhEUgAAAF4AAAAXBAMAAABwq+X5AAAAMFBMVEX///+YmJhmZmZERES6urrc\n",
       "3Nzu7u4QEBCIiIgyMjJUVFR2dnYiIiKqqqrMzMwAAAD8et6HAAAAAXRSTlMAQObYZgAAAVBJREFU\n",
       "OMtjYCASMGp47OJofkCscoZEfwGeBYwLcJunCGe+3gokwjoZ+B9wK0BE+P6iK2c7jcR5fgFIrGB4\n",
       "zsB5ASLA8xtdPccHMBUBJpkmAIk6hmaGeBaI7P5f6Oq5C8DUIziH9QPQBmFuiHP+/yGonsWA4RzD\n",
       "461gPuf+/1BXd545MwG7emTQw/4/Acx4KYbTfCTA+o/zvwOYYcZAjHpmBab/AmBGAFyMaQKSesYP\n",
       "KOrFGTj+gyMiGSnIHZDUM0xCiZq/DCz/DUAs9zNnoP59VceArJ55IpJ6ru/l9f8PgFUhBN0fIKtH\n",
       "jmyG68/SUv+DXZiDZAhO97PVAonzX8GKBBDhcwBX+ESBnG4PTnBsRwiHJ/9/YFyt////H4gTqYes\n",
       "XufMmeNnzhzGjF8EuDUHNT0wYE0PWACp6hmRlUAjGx9gO8GAEdn4LdiLmn+hAACOg21yda65UgAA\n",
       "AABJRU5ErkJggg==\n",
       "\" style=\"display:inline;vertical-align:middle;\" /></a></td></tr>\n",
       "<tr><td>1</td><td>Literal</td><td></td><td><a class=\"ProveItLink\" href=\"../../../../set_theory/membership/__pv_it/088cbc857536a28d4119ad9639a84270ccb0545d0/expr.ipynb\"><img src=\"data:image/png;base64,iVBORw0KGgoAAAANSUhEUgAAAAwAAAAMBAMAAACkW0HUAAAALVBMVEX///+qqqpmZmZUVFQQEBC6\n",
       "urpERETc3NyYmJjMzMwiIiIyMjKIiIju7u4AAACYsrA9AAAAAXRSTlMAQObYZgAAADxJREFUCNdj\n",
       "YOA9vWrVBgaG2b0MQMCeCyIZ2ArA1DUwyRCyahVIyWQI7xaEYm4AU7xLIdxqTQgtvGvVBgCkcQ7e\n",
       "geM/tQAAAABJRU5ErkJggg==\n",
       "\" style=\"display:inline;vertical-align:middle;\" /></a></td></tr>\n",
       "<tr><td>2</td><td>ExprTuple</td><td>3, 4</td><td><a class=\"ProveItLink\" href=\"../1ffd23e31dcfdeb0a23656157ca7ceec46eda01d0/expr.ipynb\"><img src=\"data:image/png;base64,iVBORw0KGgoAAAANSUhEUgAAAFwAAAAXBAMAAAB0XjXEAAAAMFBMVEX////c3NwiIiJERESqqqqY\n",
       "mJh2dnZmZmYQEBDu7u4yMjJUVFTMzMyIiIi6uroAAAAs73DqAAAAAXRSTlMAQObYZgAAAZRJREFU\n",
       "OMtjYCAMWGvfZvNePsBAJJj6PoBpA+sGnKaVwpnHEoGE5C0G/gNsBRARvgtgiucLTAmnGpLWEw5A\n",
       "Yi/DCQYuBwbWB0D2aYg40zeYCt4PYEoWTLIvABI9DJcZ5PkYGGqA7JUQRfm/YcrZGsDUcTiH8QPQ\n",
       "/GA2BgYuoFlQt/z/hFM5nwGDDsNhoC9YExg4JoCFufL/41QOB5wNDK8grEsc/ycQVM5gwlAGphn/\n",
       "cP1/QFh5OsNSMM1cwP4/ACoGDgyYctYPyMq9GPrAdAQD7/8CWFA/QFLOsBxZ+QuGf2A/fGHg+28A\n",
       "ETrdw4CsnHkpkvLzEOXcPzr6/yvAjDiArBw5ioHKW0CUx8mZE//DXMmN2+0vGExBbgHp0f/IwAAO\n",
       "SzYFnCETBQwbBgZpkLPtvzBwfiIYkI8YGPj/A6No////fzj7BaAqipSUNJSUlNGVr2PgEEDi8gmg\n",
       "G4ieCIDJBiljMOBVznYBnoARylmRVUCjGAJmgfyJxAcnZk5d5Nz0AImzEZS6LmDk1RTUvArPZgcY\n",
       "AB4hdSJ6aKIBAAAAAElFTkSuQmCC\n",
       "\" style=\"display:inline;vertical-align:middle;\" /></a></td></tr>\n",
       "<tr><td>3</td><td>Variable</td><td></td><td><a class=\"ProveItLink\" href=\"../../../../../__pv_it/eb438fefc4bd0ac977777d6dfd3e8a72dfbedbd50/expr.ipynb\"><img src=\"data:image/png;base64,iVBORw0KGgoAAAANSUhEUgAAABIAAAAPBAMAAAAbqIIhAAAAMFBMVEX///+YmJhmZmZERES6urrc\n",
       "3Nzu7u4QEBCIiIgyMjJUVFR2dnYiIiKqqqrMzMwAAAD8et6HAAAAAXRSTlMAQObYZgAAAGpJREFU\n",
       "CNdjYAABvr8MUMDzG8ba/wvK4Pv/B8ri3P8fyuph/58AZrD+4/zvAGYxKzD9FwCzxBk4/iuAGGx/\n",
       "GVj+G4BYXN/L6/8fALGuP0tL/f8BJFkLJM5/BRJRICX2QCfw/weauv7//38AzEYi08a6/oIAAAAA\n",
       "SUVORK5CYII=\n",
       "\" style=\"display:inline;vertical-align:middle;\" /></a></td></tr>\n",
       "<tr><td>4</td><td>Operation</td><td>operator:&nbsp;5<br>operands:&nbsp;6<br></td><td><a class=\"ProveItLink\" href=\"../2f1df75813ade0b8c526241c7665f263d660ff7e0/expr.ipynb\"><img src=\"data:image/png;base64,iVBORw0KGgoAAAANSUhEUgAAADIAAAAXBAMAAAC7cAEHAAAAMFBMVEX///9ERETc3NyqqqpUVFS6\n",
       "urrMzMwyMjIQEBCIiIh2dnYiIiLu7u5mZmaYmJgAAABJJ2g3AAAAAXRSTlMAQObYZgAAAL1JREFU\n",
       "KM9jYMAAfDcjl3BOTMCUYDgX/4Dbgc8BpOYeXJBtlQIDg850Bv4ErgsMDDy7kNSzNQMJT4YMBnYD\n",
       "BgbOD2Axpglg6joQtzFMZNBnZWDgaoCovgCmVgDVfADqesiFRYZVgGEbQ+IiLDJwQI4MbwGyzHsk\n",
       "mYwAZBn2C3CJlDYGZBkG8QdwqYgEZBnuBQjTWHDaw7WBPP/w7t69u3v3bgGseqCAOBk+FJnrSGye\n",
       "nchx2oqSVhajpgMoAAC8TTl4rkU4FAAAAABJRU5ErkJggg==\n",
       "\" style=\"display:inline;vertical-align:middle;\" /></a></td></tr>\n",
       "<tr><td>5</td><td>Literal</td><td></td><td><a class=\"ProveItLink\" href=\"../../../../../number/exponentiation/__pv_it/deb2bf23cbccdd6e6791e1b35b5b9794ce12dbd50/expr.ipynb\"><img src=\"data:image/png;base64,iVBORw0KGgoAAAANSUhEUgAAACgAAAASBAMAAADbMYGVAAAAMFBMVEX///8QEBAiIiKYmJjc3Nzu\n",
       "7u7MzMx2dnZmZma6urpERESqqqoyMjJUVFSIiIgAAAAoDOMTAAAAAXRSTlMAQObYZgAAAOBJREFU\n",
       "GNNjYGB4+//u3Tt/GNAASGAXmhjnPyDBgSbI/g1IxKEJ8nxgYGdgQRPkX8BgDKRY6q7s62OYvmze\n",
       "2wAgb/7ZO1+AVDiDkYEQQ0HTBr4DQF59AgOIKmB4z7CNbcNZBu6vQN55kEACQwDDLQYGVobfDHwg\n",
       "fb8YGBxYHwAZciD3fWXg+gB1JjvQcJZvQIXsCgz8F6DO9GBgMOH7wPCUgaeBwd4B7EwGNjUG7s9c\n",
       "AiwPgO5jkWRgiF3/9+5dfQUG1nWl5Y+B7pv+1gE9bBhqGLCAE1jEWH9jEbT5A3IwAC4sP/1L6Qlu\n",
       "AAAAAElFTkSuQmCC\n",
       "\" style=\"display:inline;vertical-align:middle;\" /></a></td></tr>\n",
       "<tr><td>6</td><td>ExprTuple</td><td>7, 8</td><td><a class=\"ProveItLink\" href=\"../8159f4724ef1163e936f9dac0d4512394f9170c70/expr.ipynb\"><img src=\"data:image/png;base64,iVBORw0KGgoAAAANSUhEUgAAAE8AAAAVBAMAAAD1D64kAAAAMFBMVEX////c3NwiIiJERESqqqqY\n",
       "mJh2dnZmZmYQEBDu7u4yMjJUVFTMzMyIiIi6uroAAAAs73DqAAAAAXRSTlMAQObYZgAAAU5JREFU\n",
       "KM9jYACD8AAGKOBJE2DADvguMDBMSkDweVow1cSBiNNAfB/MZbwApqowFbIfABIrgTgDYlYBmMrA\n",
       "Yu0CBgbeC8QoDGNg4JhAjMIZDAyvGIhRyOzAUIZH4VtD2dsJby87MDCwFTAsRXgUqjAerjBh1wXO\n",
       "bw9YPjAwsCxg6AOp6ENWyFUAC+EHygycfxlACvkaGP4BFew4gKyQwQoaTZyc/xhYfjKwA8OG5wNI\n",
       "IQNfD7JCJng0gVQpMHAkgBWCI2wXdjcCzWIqYHgvMAFktSlIJAnT16DgBZo1/wHDLsYABtYFDOnY\n",
       "g4fzE5CQfwAyfi0bOHgeQeXYlZSUmpSUDGAK+4Gp7QUDQzIDg/cdYEg8YOAQQI8MCIdPAC0KWROw\n",
       "K2RFicJcaDKLQBaswlTICQxKBmkgnnQBKYVDoukCskJuAVi6DnPAm2eA3gEA8V9UF4QuTVoAAAAA\n",
       "SUVORK5CYII=\n",
       "\" style=\"display:inline;vertical-align:middle;\" /></a></td></tr>\n",
       "<tr><td>7</td><td>Operation</td><td>operator:&nbsp;9<br>operands:&nbsp;10<br></td><td><a class=\"ProveItLink\" href=\"../dcb5353198ec8c73ff823770e455979892b667150/expr.ipynb\"><img src=\"data:image/png;base64,iVBORw0KGgoAAAANSUhEUgAAACMAAAAVBAMAAAA+1EraAAAAMFBMVEX///9ERETc3NyqqqpUVFS6\n",
       "urrMzMwyMjIQEBCIiIh2dnYiIiLu7u5mZmaYmJgAAABJJ2g3AAAAAXRSTlMAQObYZgAAAHhJREFU\n",
       "GNNjYGDgu8cAA2yrFEAUzy4GBGBrBpGcH8Acpglg6jqI4GqAyF8AUyuoLcRbgCz0HkRkBCALsQOp\n",
       "lDYGZCEG8QcMDBEJyELcC4AEC6ZZXBuIdRfv7t27u3fvFkBVBQW4hPhQhMDhxbMTOVRbwRTfYtSw\n",
       "BwBKrivBs31taQAAAABJRU5ErkJggg==\n",
       "\" style=\"display:inline;vertical-align:middle;\" /></a></td></tr>\n",
       "<tr><td>8</td><td>Variable</td><td></td><td><a class=\"ProveItLink\" href=\"../../../../../__pv_it/78af03acba5349fd70398a32ce59bae1da52f0870/expr.ipynb\"><img src=\"data:image/png;base64,iVBORw0KGgoAAAANSUhEUgAAABIAAAAJBAMAAADN8WE8AAAAMFBMVEX////MzMyYmJgQEBBmZmYi\n",
       "IiLu7u4yMjKqqqp2dnZUVFTc3NxERESIiIi6uroAAABe5jFNAAAAAXRSTlMAQObYZgAAAFtJREFU\n",
       "CNdj4Luz++5KvrsnGBg4uWoZ8ucx9DMwvGM9wJB/AcRKyH/A0J/A4M7AAKJcGRgsgSwgL4SB7zcb\n",
       "iMf2j4GrYBMD9z8Gpg8M7BcmMPAZMHAeYOBYKwAAtXMYHwtZnY0AAAAASUVORK5CYII=\n",
       "\" style=\"display:inline;vertical-align:middle;\" /></a></td></tr>\n",
       "<tr><td>9</td><td>Literal</td><td></td><td><a class=\"ProveItLink\" href=\"../../../../set_theory/enumeration/__pv_it/07381ed5b23806e8d7914b78cb6667769e3708dd0/expr.ipynb\"><img src=\"data:image/png;base64,iVBORw0KGgoAAAANSUhEUgAAAB4AAAAOBAMAAADKyLEKAAAAMFBMVEX///8iIiIQEBCIiIjMzMzc\n",
       "3Nyqqqp2dnZEREQyMjK6urru7u5mZmZUVFSYmJgAAACI6eGPAAAAAXRSTlMAQObYZgAAALRJREFU\n",
       "CNdjYGDgu3Nm3wIGBJjHwN0PZW5yYGDgLWBgyITy8zcwMMQDxZyh/INAvD6BgcEFypcB4vjPDiBm\n",
       "TPFRrhs/LjMwMP//38rAwCbKEMPA9gEkE3fp0waG+AUMRxh4JkC01T9guPTOOICBEWgVH5C//wHD\n",
       "H5D4fqCz9oCMDGD4DLaegRXslLMMDMpAgxlOMmQxHDRgYG5gYLBk4D7KcIe7gOHC2rt9QCXsh40Z\n",
       "GCKMGQDRkC8N/Ph1XAAAAABJRU5ErkJggg==\n",
       "\" style=\"display:inline;vertical-align:middle;\" /></a></td></tr>\n",
       "<tr><td>10</td><td>ExprTuple</td><td>11</td><td><a class=\"ProveItLink\" href=\"../2064b02c65bf2cef6bed707d2e6782af008f3e450/expr.ipynb\"><img src=\"data:image/png;base64,iVBORw0KGgoAAAANSUhEUgAAABwAAAAVBAMAAACnLJNvAAAAMFBMVEX////c3NwiIiJERESqqqqY\n",
       "mJh2dnZmZmYQEBDu7u4yMjJUVFTMzMyIiIi6uroAAAAs73DqAAAAAXRSTlMAQObYZgAAAIZJREFU\n",
       "GNNjYEADfBdgLNYHQOI0iMUIFqsB4pUgBk8BiORiYOC9gOCyJjBwTEBwORsYXjEguAwmDGXI3HSG\n",
       "pchcL4Y+ZO4Lhn/I3PPo3BZUxabI3Cig2SgWPWJgYFdSUmpSUjJgYFjHwCGA8CvQkUBnwwHbBagH\n",
       "IWAWEEsjuBvhAQECvAcYAKwAIAGBP3hLAAAAAElFTkSuQmCC\n",
       "\" style=\"display:inline;vertical-align:middle;\" /></a></td></tr>\n",
       "<tr><td>11</td><td>Literal</td><td></td><td><a class=\"ProveItLink\" href=\"../../../__pv_it/8f1f7fac882de28c72b62ab80a1700b6d8fd066b0/expr.ipynb\"><img src=\"data:image/png;base64,iVBORw0KGgoAAAANSUhEUgAAAA4AAAAOBAMAAADtZjDiAAAAG1BMVEX///9EREQQEBAiIiJmZmbM\n",
       "zMyIiIjc3NwAAACryk5kAAAAAXRSTlMAQObYZgAAABlJREFUCNdjYGBgKGOAgBBa0s7GxkbGxoYA\n",
       "FMUF2aBfHgoAAAAASUVORK5CYII=\n",
       "\" style=\"display:inline;vertical-align:middle;\" /></a></td></tr>\n",
       "</table>\n"
      ],
      "text/plain": [
       "0. A in {FALSE}^{m}\n",
       "   core type: Operation\n",
       "   operator: 1\n",
       "   operands: 2\n",
       "1. in\n",
       "   core type: Literal\n",
       "   sub-expressions: \n",
       "2. (A , {FALSE}^{m})\n",
       "   core type: ExprTuple\n",
       "   sub-expressions: 3, 4\n",
       "3. A\n",
       "   core type: Variable\n",
       "   sub-expressions: \n",
       "4. {FALSE}^{m}\n",
       "   core type: Operation\n",
       "   operator: 5\n",
       "   operands: 6\n",
       "5. Exp\n",
       "   core type: Literal\n",
       "   sub-expressions: \n",
       "6. ({FALSE} , m)\n",
       "   core type: ExprTuple\n",
       "   sub-expressions: 7, 8\n",
       "7. {FALSE}\n",
       "   core type: Operation\n",
       "   operator: 9\n",
       "   operands: 10\n",
       "8. m\n",
       "   core type: Variable\n",
       "   sub-expressions: \n",
       "9. Set\n",
       "   core type: Literal\n",
       "   sub-expressions: \n",
       "10. (FALSE)\n",
       "    core type: ExprTuple\n",
       "    sub-expressions: 11\n",
       "11. FALSE\n",
       "    core type: Literal\n",
       "    sub-expressions: "
      ]
     },
     "execution_count": 4,
     "metadata": {},
     "output_type": "execute_result"
    }
   ],
   "source": [
    "# display the expression information\n",
    "expr.exprInfo()"
   ]
  },
  {
   "cell_type": "code",
   "execution_count": null,
   "metadata": {},
   "outputs": [],
   "source": []
  }
 ],
 "metadata": {
  "kernelspec": {
   "display_name": "Python 3",
   "language": "python",
   "name": "python3"
  }
 },
 "nbformat": 4,
 "nbformat_minor": 0
}
