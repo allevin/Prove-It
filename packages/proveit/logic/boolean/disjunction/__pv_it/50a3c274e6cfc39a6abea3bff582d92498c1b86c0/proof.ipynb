{
 "cells": [
  {
   "cell_type": "markdown",
   "metadata": {},
   "source": [
    "Show the Proof\n",
    "========"
   ]
  },
  {
   "cell_type": "code",
   "execution_count": 1,
   "metadata": {},
   "outputs": [
    {
     "data": {
      "text/html": [
       "<table><tr><th>&nbsp;</th><th>step type</th><th>requirements</th><th>statement</th></tr>\n",
       "<tr><td>0</td><td>specialization</td><td>1</td><td><span style=\"font-size:20px;\"> <a class=\"ProveItLink\" href=\"proof.ipynb\" style=\"text-decoration: none\">&#x22A2;&nbsp;</a><a class=\"ProveItLink\" href=\"../a69939547918b2121539cf40b2d72e666ba3cc480/expr.ipynb\"><img src=\"data:image/png;base64,iVBORw0KGgoAAAANSUhEUgAAAEAAAAAPBAMAAACmSdRUAAAAMFBMVEX////MzMyqqqoiIiIyMjK6\n",
       "uroQEBB2dnbc3NyYmJhmZmZUVFRERESIiIju7u4AAAB204erAAAAAXRSTlMAQObYZgAAAOtJREFU\n",
       "GNNjYGDgu7NrJccCBkzw9vSqCV1AumwCA+uyCZjy7JkMDFFA/MQOyKlvgAnzwRnOD4CKfjAwuAFp\n",
       "hjC4PpYHMEYekGBNYOD6BOJ1wRWwboAy1isACaDb+h1AvIcIq2shFMcXsD0CDOsRzltsDAL2EA9x\n",
       "/YSK2jegu14lAEQy/4By/4PJB0gK+NxAKvg/QP2UD6KZBJAUiNSBSDawAkUGhv0gzVxIbjA+B+Zw\n",
       "/wORQPfIXwDSdUgGaEMoxr+gwATq5gSGQxSSQzkcoIz5CgysK0AMae9VCkgG8MAUM27ZtQhLDDIw\n",
       "ovEBviA16ddddkYAAAAASUVORK5CYII=\n",
       "\" style=\"display:inline;vertical-align:middle;\" /></a></span></td></tr>\n",
       "<tr><td>&nbsp;</td><td colspan=4 style=\"text-align:left\"><span style=\"font-size:20px;\"><a class=\"ProveItLink\" href=\"../../../../../__pv_it/2cbe72a7ad6f655694dd697106680215e8489b600/expr.ipynb\"><img src=\"data:image/png;base64,iVBORw0KGgoAAAANSUhEUgAAAA8AAAAOBAMAAAACpFvcAAAALVBMVEX///8QEBBERERUVFS6urqI\n",
       "iIhmZmaqqqrc3Nzu7u6YmJgyMjIiIiLMzMwAAADtIaYWAAAAAXRSTlMAQObYZgAAAFtJREFUCNdj\n",
       "YACBOwxQsA9Kc52bAGG05zVAGAFxDmCaZULdAjBjCsO9ADDDgaEvAUTzGhvbKYCVMDAwbgAxChgY\n",
       "eASANAeQwf0AyJgNxEwvGRia5HYwcOm9TgAA6BoR3jrzwFcAAAAASUVORK5CYII=\n",
       "\" style=\"display:inline;vertical-align:middle;\" /></a> : <a class=\"ProveItLink\" href=\"../../../../../__pv_it/985a1bdf1540838275dec15f4ad6de261cca93ce0/expr.ipynb\"><img src=\"data:image/png;base64,iVBORw0KGgoAAAANSUhEUgAAAA8AAAAOBAMAAAACpFvcAAAAMFBMVEX////MzMyqqqoiIiIyMjK6\n",
       "uroQEBB2dnbc3NyYmJhmZmZUVFRERESIiIju7u4AAAB204erAAAAAXRSTlMAQObYZgAAAGZJREFU\n",
       "CNdjYGDgu7NrJccCBgaGsgkMrMsmMDA8sQNy6hsYGNweABlhDAxcn4A0QxcDQ78DiPGQgWH9BAYI\n",
       "sG+AMv6DSaCGfBDNJMDAsB+kmwuI5S8AiTog5gSaEwXWIO29SgFIAQBC+RaDQlidVgAAAABJRU5E\n",
       "rkJggg==\n",
       "\" style=\"display:inline;vertical-align:middle;\" /></a></span></td></tr><tr><td>1</td><td>theorem</td><td></td><td><span style=\"font-size:20px;\"> <a class=\"ProveItLink\" href=\"../../../implication/_proofs_/selfImplication.ipynb\" style=\"text-decoration: none\">&#x22A2;&nbsp;</a><a class=\"ProveItLink\" href=\"../b3f1e47996e9d7d5e45357ca5f277e4269e524d30/expr.ipynb\"><img src=\"data:image/png;base64,iVBORw0KGgoAAAANSUhEUgAAAHIAAAAVBAMAAABoAqesAAAAMFBMVEX///8QEBC6urrMzMxUVFRm\n",
       "ZmZERETc3NwyMjKqqqp2dnaIiIiYmJgiIiLu7u4AAAAU9Wx4AAAAAXRSTlMAQObYZgAAAatJREFU\n",
       "OMtjYCAbPMAixrSBkC4eBQaGCyDGaVRxEwhli0MbSDyYgWEliN2HKgXl9uPQCRLnYGAoA1LsCSgy\n",
       "3BDH8txH+IQP2aUgcZ4FDBxAinUCik5GiI7K+AK4EAdScIDF+QQYeJaXl9eiukYDQm3Yr4AIMweE\n",
       "NEQ8k4HhW1raLVSdURDFD+YfQIitRhgCEV/KwODMwJAOFmqHyfWAyUcM9mD/xt4FgfsBMFmo+AwG\n",
       "BhUGvgawxz/B5ITApAJDfQCSQ2bAnA4VV2Rg4GXgBrvq6R+YIrARzC4u/shBztcI0QoTtwfGwQFe\n",
       "cMCtu4qikwkYxg1IOi3WQb0JFQfq5GsAJxnmDWkwRZIgAhhRvAIIf97Ng0rCxIGuZUh3AomwMMTC\n",
       "dOaAEgdQBccHhJVToDRc/AQQTwUn3ZMM+2GqgAHO8AKI2f7BNbLDHA4XByliBAUy39XQfFg60QWm\n",
       "Sfl2Bp78H/DAZYMmJ4R4Eyg6QDpYCxjsDWCprwAjkTOjC/AJwFg6DAz8sCQDTM0EARcsCz/5xsDu\n",
       "fwctl+EDL7ALlxDW6Y5dmJ1gacJtwAAAib1spl/buwAAAAAASUVORK5CYII=\n",
       "\" style=\"display:inline;vertical-align:middle;\" /></a></span></td></tr>\n",
       "<tr><td>&nbsp;</td><td colspan=4 style-\"text-align:left\"><a class=\"ProveItLink\" href=\"../../../implication/_proofs_/selfImplication.ipynb\">proveit.logic.boolean.implication.selfImplication</a></td></tr></table>"
      ],
      "text/plain": [
       "<proveit._core_.proof._ShowProof at 0x7f94ebfb1048>"
      ]
     },
     "execution_count": 1,
     "metadata": {},
     "output_type": "execute_result"
    }
   ],
   "source": [
    "import proveit\n",
    "%show_proof"
   ]
  },
  {
   "cell_type": "code",
   "execution_count": null,
   "metadata": {},
   "outputs": [],
   "source": []
  }
 ],
 "metadata": {
  "kernelspec": {
   "display_name": "Python 3",
   "language": "python",
   "name": "python3"
  }
 },
 "nbformat": 4,
 "nbformat_minor": 0
}
