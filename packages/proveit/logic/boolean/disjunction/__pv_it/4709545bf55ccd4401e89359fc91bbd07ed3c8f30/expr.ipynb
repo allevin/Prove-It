{
 "cells": [
  {
   "cell_type": "markdown",
   "metadata": {},
   "source": [
    "Expression of type <a class=\"ProveItLink\" href=\"../../../../../../../doc/html/api/proveit.logic.Forall.html\">Forall</a>\n",
    "=======================\n",
    "# from context <a class=\"ProveItLink\" href=\"../../_context_.ipynb\">proveit.logic.boolean.disjunction</a>"
   ]
  },
  {
   "cell_type": "code",
   "execution_count": 1,
   "metadata": {},
   "outputs": [],
   "source": [
    "# import Expression classes needed to build the expression\n",
    "from proveit._common_ import A, B\n",
    "from proveit.logic import Booleans, Forall, Or"
   ]
  },
  {
   "cell_type": "code",
   "execution_count": 2,
   "metadata": {},
   "outputs": [
    {
     "data": {
      "text/html": [
       "<strong id=\"expr\">expr:</strong> <a class=\"ProveItLink\" href=\"expr.ipynb\"><img src=\"data:image/png;base64,iVBORw0KGgoAAAANSUhEUgAAAJ8AAAAXBAMAAADn1oBmAAAAMFBMVEX///8QEBC6urrMzMxUVFRm\n",
       "ZmZERETc3NwyMjKqqqp2dnaIiIiYmJgiIiLu7u4AAAAU9Wx4AAAAAXRSTlMAQObYZgAAAqVJREFU\n",
       "OMutlD9oE1Ecx7/5c3fpXXLJpFvNIDg4NIKTWBs0lIJDIyaIYPEfpg5qMrWKlGbRIEibpa5m0ogi\n",
       "8U9dMjSKQ6mDGXRRwas4OGmx/61Uf+/9LuE8Nabqwb3fe7937/P7+w7434+1sc+3t9x9Qm9dTJ61\n",
       "y/PFWXa79E+/JRKno1BiwC2xHmsXGLADGheDV05jctwEKJ+BPDBEK+1Yu8Aqi+BbAfYLllGRnq/R\n",
       "uwDMsE2l2C6wk8WFozlBEX6EpM/GMln5AsySuDk8PNIuz5tnWZmKClGgd0Iq1AihyZpKri1lMq/a\n",
       "BSol5lrXa7BhBakJx6FdJl/1JLAPGAQ6sunUSbc/LK4tpntjdk0kB+/QIzNH4fo4/T37qwNir4NC\n",
       "2ApTBPIYuMenpsvlIxyHXYEIjAhPPTJSRDGaBBfEz5qpHMwXwgcROgzBTgFdpJ1M1wzdvB91AJU4\n",
       "vMs8DUu9L5HoZ8fq+MAbxwWUML45MlOThXoNDACPtn20DB13aw5gqAKl7gRSKjxcncO4wxvUMXhe\n",
       "YqCZ30krcx7BAoIiEkP3TloO4KcYpnN2yLK/aAhxDs7zRYPvKw39RQ4Zg3uF1bVqr4WAzIxy4I0z\n",
       "h13Vh+fsMqnCc40OBubk2r9bFke2obYi8i08nxBW9DyCndgld3UcrDiAZaqYfeNEV8i0qevs2Vmr\n",
       "2YY7xhofeMRpNQlzFd2ZTKZCwFLJATxFUdtXyUu2h7ZQarIrssy4xGXLLiT6rsq+EkkOCivhIrzz\n",
       "eG97+ANwlaK2+xCbXa26x7Webc5GLYwk4c8x8JAjZG0d2svGZzN/uEq3GxN9PJ26QrU+IRv7xhlH\n",
       "UcqL6b6i+/f1m8fMuzU65bC5UH8+ocVbAv25ltu/AOJiyxMPsGHgPz3+vzn0HTELocyknOh7AAAA\n",
       "AElFTkSuQmCC\n",
       "\" style=\"display:inline;vertical-align:middle;\" /></a><br>"
      ],
      "text/plain": [
       "expr: forall_{B in BOOLEANS | B} (A or B)"
      ]
     },
     "execution_count": 2,
     "metadata": {},
     "output_type": "execute_result"
    }
   ],
   "source": [
    "# build up the expression from sub-expressions\n",
    "subExpr1 = [B]\n",
    "expr = Forall(subExpr1, Or(A, B), domain = Booleans, conditions = subExpr1)"
   ]
  },
  {
   "cell_type": "code",
   "execution_count": 3,
   "metadata": {},
   "outputs": [
    {
     "name": "stdout",
     "output_type": "stream",
     "text": [
      "Passed sanity check: built 'expr' is the same as the stored Expression.\n"
     ]
    }
   ],
   "source": [
    "# check that the built expression is the same as the stored expression\n",
    "%check_expr"
   ]
  },
  {
   "cell_type": "code",
   "execution_count": 4,
   "metadata": {},
   "outputs": [
    {
     "data": {
      "text/html": [
       "<table><tr><th>&nbsp;</th><th>core type</th><th>sub-expressions</th><th>expression</th></tr>\n",
       "<tr><td>0</td><td>Operation</td><td>operator:&nbsp;1<br>operand:&nbsp;2<br></td><td><a class=\"ProveItLink\" href=\"expr.ipynb\"><img src=\"data:image/png;base64,iVBORw0KGgoAAAANSUhEUgAAAJ8AAAAXBAMAAADn1oBmAAAAMFBMVEX///8QEBC6urrMzMxUVFRm\n",
       "ZmZERETc3NwyMjKqqqp2dnaIiIiYmJgiIiLu7u4AAAAU9Wx4AAAAAXRSTlMAQObYZgAAAqVJREFU\n",
       "OMutlD9oE1Ecx7/5c3fpXXLJpFvNIDg4NIKTWBs0lIJDIyaIYPEfpg5qMrWKlGbRIEibpa5m0ogi\n",
       "8U9dMjSKQ6mDGXRRwas4OGmx/61Uf+/9LuE8Nabqwb3fe7937/P7+w7434+1sc+3t9x9Qm9dTJ61\n",
       "y/PFWXa79E+/JRKno1BiwC2xHmsXGLADGheDV05jctwEKJ+BPDBEK+1Yu8Aqi+BbAfYLllGRnq/R\n",
       "uwDMsE2l2C6wk8WFozlBEX6EpM/GMln5AsySuDk8PNIuz5tnWZmKClGgd0Iq1AihyZpKri1lMq/a\n",
       "BSol5lrXa7BhBakJx6FdJl/1JLAPGAQ6sunUSbc/LK4tpntjdk0kB+/QIzNH4fo4/T37qwNir4NC\n",
       "2ApTBPIYuMenpsvlIxyHXYEIjAhPPTJSRDGaBBfEz5qpHMwXwgcROgzBTgFdpJ1M1wzdvB91AJU4\n",
       "vMs8DUu9L5HoZ8fq+MAbxwWUML45MlOThXoNDACPtn20DB13aw5gqAKl7gRSKjxcncO4wxvUMXhe\n",
       "YqCZ30krcx7BAoIiEkP3TloO4KcYpnN2yLK/aAhxDs7zRYPvKw39RQ4Zg3uF1bVqr4WAzIxy4I0z\n",
       "h13Vh+fsMqnCc40OBubk2r9bFke2obYi8i08nxBW9DyCndgld3UcrDiAZaqYfeNEV8i0qevs2Vmr\n",
       "2YY7xhofeMRpNQlzFd2ZTKZCwFLJATxFUdtXyUu2h7ZQarIrssy4xGXLLiT6rsq+EkkOCivhIrzz\n",
       "eG97+ANwlaK2+xCbXa26x7Webc5GLYwk4c8x8JAjZG0d2svGZzN/uEq3GxN9PJ26QrU+IRv7xhlH\n",
       "UcqL6b6i+/f1m8fMuzU65bC5UH8+ocVbAv25ltu/AOJiyxMPsGHgPz3+vzn0HTELocyknOh7AAAA\n",
       "AElFTkSuQmCC\n",
       "\" style=\"display:inline;vertical-align:middle;\" /></a></td></tr>\n",
       "<tr><td>1</td><td>Literal</td><td></td><td><a class=\"ProveItLink\" href=\"../../../quantification/universal/__pv_it/265f8c02ac1094d56e0e6410a1c1fd3500dc9f540/expr.ipynb\"><img src=\"data:image/png;base64,iVBORw0KGgoAAAANSUhEUgAAAAwAAAAQBAMAAADQT4M0AAAAMFBMVEX///8QEBC6urrMzMxUVFRm\n",
       "ZmZERETc3NwyMjKqqqp2dnaIiIiYmJgiIiLu7u4AAAAU9Wx4AAAAAXRSTlMAQObYZgAAAFhJREFU\n",
       "CNdjeMAABhdAxGmGlSCqj6EMSLInMHAAJVknMPAsLy+vBYp8S0u7BaScGRjSgZQKA18DkOJl4D4A\n",
       "pLgP8IJM4mswARuX7gSmpoKNZWDcAKZ4gCoAgTQTILaSE58AAAAASUVORK5CYII=\n",
       "\" style=\"display:inline;vertical-align:middle;\" /></a></td></tr>\n",
       "<tr><td>2</td><td>Lambda</td><td>parameter:&nbsp;11<br>body:&nbsp;3<br>conditions:&nbsp;4<br></td><td><a class=\"ProveItLink\" href=\"../fe53a6969e8f6f4cff12112db053ee5340fe19fa0/expr.ipynb\"><img src=\"data:image/png;base64,iVBORw0KGgoAAAANSUhEUgAAAOEAAAAVCAMAAACHbnlHAAAANlBMVEX///8UFBQNDQ2qqqru7u4i\n",
       "IiJ2dnbc3NyIiIjMzMxmZmYQEBC6uroyMjJERERUVFSYmJgAAAC3B9V0AAAAAXRSTlMAQObYZgAA\n",
       "AoJJREFUWMPNWFmW2yAQJAHEpgb6/peNdjWbwGP7ZfhBkqGoojcwY7+hccV+W5v1j6fGufw2zV/m\n",
       "GwNiWJqHwZVMSN7kS/jW9BSO8ZkAPSA46fmAIOe3zuKYRBDJG962JbrpkAQf+jYc4+NXXxIgpqn4\n",
       "KQcwqI8+jAjUiY9GiZfgYKpjUvw49RQO8tkUMj2Xe1YAaNxDPeI0otBREypu8UoUxp9Pko5J8YXr\n",
       "KazyERrk0iBXyCMLgnUA/LGmdGIkzSRbphe4myAcYrlNNjvFLwInV1jjYyCKhg2VL6ybA+y2VOAv\n",
       "jNTuPKFkqaFnwTjGe6RNlVbxJ9tRWPJhyou6lxoZy59ygMVbtdZW3kRZlh4TNwAyTsy30xPvND6N\n",
       "ihSfw7PCCh/mVTUOpUR0ugzDDODwWiFDS6EIZAFH+KyPCm2ehcJciYoLf3bPCit8hG9nGs19PQxv\n",
       "gNNr9e1uf//IpDkSa+TRrFUnIF1h3RsB1ag48Q0+K6zwmd3JpMg0azexZ4AzpZLUlRdxahSicH9y\n",
       "VJBdYnaKlai48XsKK3xMaNpw6ZhnnQUPQgF5Q6GlUeCuUfzMWLR6QD67wO94aY2PkC8oLADO4qEQ\n",
       "GnFoklj28SqFxaFmq/pRV4vThR+fM02NDwvxQeHmpaINcHitceQwlnJMs/GZ7K9o80gHGC9FLSpu\n",
       "/E61qPFZjDg3FEarVxMKlA0A6/dTKkAcvVjIvUA53KpeXACAck5eavjFgZoqbPFRkB3Z95O3ly5s\n",
       "riTcYbnXBVVObc/XOdM5GPVPbY1bZIA0l+Y7/7lbZpzemj7p79wPI/tcA/HGZDFwe/rvClV4Y3JQ\n",
       "31Go2Seb+jmcNpVvX/wX4x+j8yKwK4jLoAAAAABJRU5ErkJggg==\n",
       "\" style=\"display:inline;vertical-align:middle;\" /></a></td></tr>\n",
       "<tr><td>3</td><td>Operation</td><td>operator:&nbsp;5<br>operands:&nbsp;6<br></td><td><a class=\"ProveItLink\" href=\"../0f1bf4090acd92174180531bf3e50944b30066e50/expr.ipynb\"><img src=\"data:image/png;base64,iVBORw0KGgoAAAANSUhEUgAAADcAAAAPBAMAAACy3Eq1AAAAMFBMVEX///92dnYQEBBERERUVFS6\n",
       "urqIiIhmZmaqqqrc3Nzu7u6YmJgyMjIiIiLMzMwAAACFkkdwAAAAAXRSTlMAQObYZgAAAP1JREFU\n",
       "GNNjYACBtwyogNv/i4vzUSjnPIhgBTMfgEkmAwaG+gCIwvsLgCQLSJwtASzyHki9dwAzZ9RPAJJ8\n",
       "QNUMvAvAIvlAgf0CYGZCPtiEk0DcDrHHCIgvgdWxLujfwACVOAmR/MLAMMcKzFoKtgJsJNhooA1f\n",
       "0tJvQ5QFMMwvYIA4hgXiQrafDAxrwe7hc3Hxh2i4wLAGopxZAajgN9R/TAfAYhUM0hBJfqAu7o8g\n",
       "VgPQNgWw2BygXog3gQ5k+QFkcAIleT6AxVheQ4IA7M35INNA1jD/gjjSdgHcm3w6QPZk/ZMM3PZ/\n",
       "wM5lOA6RK/7v4nJmA1pkMLxC5QIA6tw+1pV4TWcAAAAASUVORK5CYII=\n",
       "\" style=\"display:inline;vertical-align:middle;\" /></a></td></tr>\n",
       "<tr><td>4</td><td>ExprTuple</td><td>7, 11</td><td><a class=\"ProveItLink\" href=\"../46a9ef28ab36aee38f52e69f4126feb9fb5bb1a30/expr.ipynb\"><img src=\"data:image/png;base64,iVBORw0KGgoAAAANSUhEUgAAAF4AAAAVBAMAAAA9Y0TyAAAAMFBMVEX////c3NwiIiJERESqqqqY\n",
       "mJh2dnZmZmYQEBDu7u4yMjJUVFTMzMyIiIi6uroAAAAs73DqAAAAAXRSTlMAQObYZgAAAbNJREFU\n",
       "KM9jYCAV8F0gWinrAyBxGoij/+/ebfUARS7r8/oVyg4whft/7968joGhBsheCRJoZmBg/4dqmMFb\n",
       "zpVpMA6HAQND/QMGLgYGXpBzeP4C8W909Qz3uGCc80BV5zcwsCYwcEwAcnk/Au38BpaZu0hJC6be\n",
       "lXsCVP19AQaG+AQGzgaGVyAucwMDA1MniMWzdAKS+cIw8y2AWAMoY8JQBuLyb2BgXAxWKDwB4R4e\n",
       "VUsYB+hWKRAnnWEp2Hl77xYFgCUMEe5/pP8DFtQ8v+9eVwUxvBj6oM7j1AYxOA2Q/XvXGcoG+W/S\n",
       "BiDjBcM/mPPugyzga1JSQviXmS8Boh7kP96vIIdA1IOCMh4kx7MB2XxmBqh1QP9Bwu88QwtIFUjr\n",
       "flBkcipgVX8eaDf3F7B7TKHOY/wFltmKoh7ongmw4JdfAGREAUMI4rwT4HTBMOkBkvrwywycn6D+\n",
       "4+maAA7PR8CUY/97966lEFWMyw/A05tRtwMDZz/Q6GJgclwFDu91DBwCqMmGZRc0fGDJHVkemB5Y\n",
       "EwikeWQO2wVoeiZS/SwglsavHiX3bQT5kPj8yHuAAQCgcn3u8r/DvwAAAABJRU5ErkJggg==\n",
       "\" style=\"display:inline;vertical-align:middle;\" /></a></td></tr>\n",
       "<tr><td>5</td><td>Literal</td><td></td><td><a class=\"ProveItLink\" href=\"../087d0b4ded7c7e5bf3bba05ecb616d7a8051ff650/expr.ipynb\"><img src=\"data:image/png;base64,iVBORw0KGgoAAAANSUhEUgAAAAwAAAAOBAMAAADpk+DfAAAALVBMVEX///+YmJh2dnZmZmaqqqrc\n",
       "3NwyMjLu7u4iIiJERESIiIhUVFTMzMy6uroAAAD0I/TTAAAAAXRSTlMAQObYZgAAAEtJREFUCNdj\n",
       "uMAABDwMe0DUKoaTIKqdgS2AgYHFAITAzHYGsMQqBoa9QIqDgT0BSDE7MAkAKdYEDpAehj1SYOpk\n",
       "O5hiMwBTPAUMDAB33Atnw8aG2QAAAABJRU5ErkJggg==\n",
       "\" style=\"display:inline;vertical-align:middle;\" /></a></td></tr>\n",
       "<tr><td>6</td><td>ExprTuple</td><td>8, 11</td><td><a class=\"ProveItLink\" href=\"../caee09fb4b5c95b986a9cee46a014afbad9bdc680/expr.ipynb\"><img src=\"data:image/png;base64,iVBORw0KGgoAAAANSUhEUgAAADUAAAAVBAMAAAAUZLt1AAAAMFBMVEX////c3NwiIiJERESqqqqY\n",
       "mJh2dnZmZmYQEBDu7u4yMjJUVFTMzMyIiIi6uroAAAAs73DqAAAAAXRSTlMAQObYZgAAATZJREFU\n",
       "KM9jYMAH+C5gFY4DEach7EMwQdb9v3dvXsfAfgDIXgkRWg/XwWHAwFD/gGEBAwMvxEhW/QkwufNA\n",
       "kfMbGMKAqiBiIvUCMLn7QFZ8AsMMBoZXEIEL9x/A5CyAWGMCA7MDQxnEsRP8A2ByvxkYpCwZGNgK\n",
       "GJaC+fPAtoABz++711WBNMsChj6wwAMG+QKoHO9HBoZJG4BGNTD8A6vdvXu/AVSOuQEo/xUo9gEi\n",
       "xwd07wKoHD9QD+s3sFwLiO/AwMDUAPMe0FHcX8BmmgK5jEA5rg8MDBNg3pMHGsK6gCEdyJ0FsuYn\n",
       "A+cnqPd4uiaA/fCIgUG4fyEDq/2vAs5+oJbi/7t3rwL5lesBA4cAUnQhsUFhxpqA4LIiR2AuIo7Q\n",
       "5ThBfpJG8JFTADfIfEbsaeIOAwMABOxNRsfkiy0AAAAASUVORK5CYII=\n",
       "\" style=\"display:inline;vertical-align:middle;\" /></a></td></tr>\n",
       "<tr><td>7</td><td>Operation</td><td>operator:&nbsp;9<br>operands:&nbsp;10<br></td><td><a class=\"ProveItLink\" href=\"../41a86ef0ff9417c73c472e1bdfa161b308e2753e0/expr.ipynb\"><img src=\"data:image/png;base64,iVBORw0KGgoAAAANSUhEUgAAADcAAAAPBAMAAACy3Eq1AAAAMFBMVEX///+qqqru7u4iIiJ2dnbc\n",
       "3NyIiIjMzMxmZmYQEBC6uroyMjJERERUVFSYmJgAAADLUcuvAAAAAXRSTlMAQObYZgAAAOZJREFU\n",
       "GNNjYGB4+//u3dMLGJCB95/9O20EwMw5DAwcv1AkGQ4sY9rkAmKwfwPiv+iSDFncIAbbVwYGvi9g\n",
       "MbXNxtYwSTleBSCDZwIDA/MksBn7FJB0xoAY/BcYWPeARWMUEMay2x0CMeqvpTU/AAsdRdi52P5n\n",
       "AoiRH8DAZAtiMB1AdlCaDIhxEqQApJVrsrExwkE8XA5ABsgX70EM9gvIOnkYgAax/wNy7oOCg8kA\n",
       "QxLkTdbfYKF7KJIgY0HerNwEFlJegCT5IgcYquf/3r29DyLEuqMAHvCH5wqghigD422oayEAAEv1\n",
       "Sz0foy5uAAAAAElFTkSuQmCC\n",
       "\" style=\"display:inline;vertical-align:middle;\" /></a></td></tr>\n",
       "<tr><td>8</td><td>Variable</td><td></td><td><a class=\"ProveItLink\" href=\"../../../../../__pv_it/2cbe72a7ad6f655694dd697106680215e8489b600/expr.ipynb\"><img src=\"data:image/png;base64,iVBORw0KGgoAAAANSUhEUgAAAA8AAAAOBAMAAAACpFvcAAAALVBMVEX///8QEBBERERUVFS6urqI\n",
       "iIhmZmaqqqrc3Nzu7u6YmJgyMjIiIiLMzMwAAADtIaYWAAAAAXRSTlMAQObYZgAAAFtJREFUCNdj\n",
       "YACBOwxQsA9Kc52bAGG05zVAGAFxDmCaZULdAjBjCsO9ADDDgaEvAUTzGhvbKYCVMDAwbgAxChgY\n",
       "eASANAeQwf0AyJgNxEwvGRia5HYwcOm9TgAA6BoR3jrzwFcAAAAASUVORK5CYII=\n",
       "\" style=\"display:inline;vertical-align:middle;\" /></a></td></tr>\n",
       "<tr><td>9</td><td>Literal</td><td></td><td><a class=\"ProveItLink\" href=\"../../../../set_theory/membership/__pv_it/088cbc857536a28d4119ad9639a84270ccb0545d0/expr.ipynb\"><img src=\"data:image/png;base64,iVBORw0KGgoAAAANSUhEUgAAAAwAAAAMBAMAAACkW0HUAAAALVBMVEX///+qqqpmZmZUVFQQEBC6\n",
       "urpERETc3NyYmJjMzMwiIiIyMjKIiIju7u4AAACYsrA9AAAAAXRSTlMAQObYZgAAADxJREFUCNdj\n",
       "YOA9vWrVBgaG2b0MQMCeCyIZ2ArA1DUwyRCyahVIyWQI7xaEYm4AU7xLIdxqTQgtvGvVBgCkcQ7e\n",
       "geM/tQAAAABJRU5ErkJggg==\n",
       "\" style=\"display:inline;vertical-align:middle;\" /></a></td></tr>\n",
       "<tr><td>10</td><td>ExprTuple</td><td>11, 12</td><td><a class=\"ProveItLink\" href=\"../46fef8cd01e90537d7ca36d1ba2c809996ed4b3a0/expr.ipynb\"><img src=\"data:image/png;base64,iVBORw0KGgoAAAANSUhEUgAAADQAAAAVBAMAAAD7ptBLAAAAMFBMVEX////c3NwiIiJERESqqqqY\n",
       "mJh2dnZmZmYQEBDu7u4yMjJUVFTMzMyIiIi6uroAAAAs73DqAAAAAXRSTlMAQObYZgAAASVJREFU\n",
       "KM9jYMAD+C5gE2V9ACROA3H0/927rR6AxbI+r1+h7MDAUANkrwQJNDMwsP+DqDd4y7kyjYGBi4GB\n",
       "F2Qez18g/g2TYrgHFGdNYOCYAOTyfgSyv8GlXLknMHA2MLwCcZkbGBiYOhG6hIG0CUMZiMu/gYFx\n",
       "8QSYFI+qJZBOZ1gK4p7fe7coAOpsg0f6P0D2ezH0gbj3BRg4tRngBt51BtIvGMBOtgBJB8ClmPkS\n",
       "gCZBpEDujk9ASDEYgKRaQN76CiT2O6BKvWAwhXqL8RcDAyeygVFAN0K8dQIYYPMVIFLhl8GOfwQM\n",
       "Pfvfu3eBPDHjIzh4jbpBZq9j4BBAioqHCCYwoFgTkKQCEEy2C9BIwZSaBcTSCC4vkqqNQMyINQHw\n",
       "HmAAAHCOVkQeB6BvAAAAAElFTkSuQmCC\n",
       "\" style=\"display:inline;vertical-align:middle;\" /></a></td></tr>\n",
       "<tr><td>11</td><td>Variable</td><td></td><td><a class=\"ProveItLink\" href=\"../../../../../__pv_it/077b2ff79244fb4582cbe22c6e3356fa92a52f2f0/expr.ipynb\"><img src=\"data:image/png;base64,iVBORw0KGgoAAAANSUhEUgAAABAAAAAOBAMAAADUAYG5AAAAMFBMVEX///+qqqru7u4iIiJ2dnbc\n",
       "3NyIiIjMzMxmZmYQEBC6uroyMjJERERUVFSYmJgAAADLUcuvAAAAAXRSTlMAQObYZgAAAGpJREFU\n",
       "CNdjYGB4+//u3dMLGIBgDgMDxy8gzf4NiP8CGWxfGRj4vgAZPBMYGJgnARn8FxhY9ygAGfXX0pof\n",
       "gDTlBzAw2YIYJ0EckBBI53sHoBH/gIz7AhBjWH9DjancBLTl/N+7t/cxMAAA3u4f/5xagjYAAAAA\n",
       "SUVORK5CYII=\n",
       "\" style=\"display:inline;vertical-align:middle;\" /></a></td></tr>\n",
       "<tr><td>12</td><td>Literal</td><td></td><td><a class=\"ProveItLink\" href=\"../../../__pv_it/46271c8230be96415d662709611f4ed2279d702b0/expr.ipynb\"><img src=\"data:image/png;base64,iVBORw0KGgoAAAANSUhEUgAAAA0AAAAOBAMAAAAGUYvhAAAAMFBMVEX///9mZmbMzMzc3NxUVFSY\n",
       "mJju7u6IiIi6urqqqqoiIiIQEBBEREQyMjJ2dnYAAAAQvcRZAAAAAXRSTlMAQObYZgAAAElJREFU\n",
       "CNdjePvn/u01ExgYGA60s117B6YZKngh9FSWBAjfBsxnWnoMRHet/10AkS+fA6F5OB5AaIYDqDRU\n",
       "PLCGgQFoz6ktExgAgLIl8DFvGtkAAAAASUVORK5CYII=\n",
       "\" style=\"display:inline;vertical-align:middle;\" /></a></td></tr>\n",
       "</table>\n"
      ],
      "text/plain": [
       "0. forall_{B in BOOLEANS | B} (A or B)\n",
       "   core type: Operation\n",
       "   operator: 1\n",
       "   operand: 2\n",
       "1. forall\n",
       "   core type: Literal\n",
       "   sub-expressions: \n",
       "2. B -> (A or B) | B in BOOLEANS , B\n",
       "   core type: Lambda\n",
       "   parameter: 11\n",
       "   body: 3\n",
       "   conditions: 4\\n3. A or B\n",
       "   core type: Operation\n",
       "   operator: 5\n",
       "   operands: 6\n",
       "4. (B in BOOLEANS , B)\n",
       "   core type: ExprTuple\n",
       "   sub-expressions: 7, 11\n",
       "5. or\n",
       "   core type: Literal\n",
       "   sub-expressions: \n",
       "6. (A , B)\n",
       "   core type: ExprTuple\n",
       "   sub-expressions: 8, 11\n",
       "7. B in BOOLEANS\n",
       "   core type: Operation\n",
       "   operator: 9\n",
       "   operands: 10\n",
       "8. A\n",
       "   core type: Variable\n",
       "   sub-expressions: \n",
       "9. in\n",
       "   core type: Literal\n",
       "   sub-expressions: \n",
       "10. (B , BOOLEANS)\n",
       "    core type: ExprTuple\n",
       "    sub-expressions: 11, 12\n",
       "11. B\n",
       "    core type: Variable\n",
       "    sub-expressions: \n",
       "12. BOOLEANS\n",
       "    core type: Literal\n",
       "    sub-expressions: "
      ]
     },
     "execution_count": 4,
     "metadata": {},
     "output_type": "execute_result"
    }
   ],
   "source": [
    "# display the expression information\n",
    "expr.exprInfo()"
   ]
  },
  {
   "cell_type": "code",
   "execution_count": null,
   "metadata": {},
   "outputs": [],
   "source": []
  }
 ],
 "metadata": {
  "kernelspec": {
   "display_name": "Python 3",
   "language": "python",
   "name": "python3"
  }
 },
 "nbformat": 4,
 "nbformat_minor": 0
}
