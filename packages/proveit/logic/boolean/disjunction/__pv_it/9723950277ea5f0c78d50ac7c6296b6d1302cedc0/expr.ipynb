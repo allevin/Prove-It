{
 "cells": [
  {
   "cell_type": "markdown",
   "metadata": {},
   "source": [
    "Expression of type <a class=\"ProveItLink\" href=\"../../../../../../../doc/html/api/proveit.Lambda.html\">Lambda</a>\n",
    "=======================\n",
    "# from context <a class=\"ProveItLink\" href=\"../../_context_.ipynb\">proveit.logic.boolean.disjunction</a>"
   ]
  },
  {
   "cell_type": "code",
   "execution_count": 1,
   "metadata": {},
   "outputs": [],
   "source": [
    "# import Expression classes needed to build the expression\n",
    "from proveit import Lambda\n",
    "from proveit._common_ import A, B\n",
    "from proveit.logic import And, Booleans, InSet"
   ]
  },
  {
   "cell_type": "code",
   "execution_count": 2,
   "metadata": {},
   "outputs": [
    {
     "data": {
      "text/html": [
       "<strong id=\"expr\">expr:</strong> <a class=\"ProveItLink\" href=\"expr.ipynb\"><img src=\"data:image/png;base64,iVBORw0KGgoAAAANSUhEUgAAAQIAAAAVCAMAAACaNRD1AAAANlBMVEX///8UFBQNDQ2qqqru7u4i\n",
       "IiJ2dnbc3NyIiIjMzMxmZmYQEBC6uroyMjJERERUVFSYmJgAAAC3B9V0AAAAAXRSTlMAQObYZgAA\n",
       "AtRJREFUWMPVWNm2oyAQdAaQtVn+/2fHKGjToOgkOedeXqIxZRVFL5Bp+hGDyenXDaf+Hxtd89Xs\n",
       "vs0wQoSUwjI83IXq8AQ5Q/KQwArP1nujxxYUhnwnnk2hZbgU9BrWb9rSTQ+AP0P616Jy4PO8wccW\n",
       "HAzrXaqfSt5Q1EJgMAEiaDE5qfwZbjmg9iC9iVwZJ+WytDiPLFBVGkSR6jmDaaKmFtIwXAtaLtNW\n",
       "jmKab1lgd0FdJFcglgGUkcUprEhuRxZYPGXJTKrqpfaChgERQhgaRUTQ8kUGCMtv1UL0qg5SQ+Qn\n",
       "pkuf79m1Ba4KZLVMsPpBcIoWSyqkYmgVUUHTFjwS/PHDOplYJdkcK95BSs/7cadFLI9mc22BwdHo\n",
       "+MRSxGu6iKP1kQrBDB1FVNCSP0opIzANoQj4JRCPDGyRXnZTT4iUbFk7BtcWAHohd0em518vTw0j\n",
       "pYAIwQwdRVRQziMuwqkFPKDXWDedI7k/rz6K5YfOXltg0f3rUiZDlkdCrxQcQhBDTxEVVPJIoXD7\n",
       "+0dUw6JsPC47SGcLpCmHr485L9q1BYhMv9p9SGgacV26oHulYBeCGHqKqKDS0HBZp7kWXE9gB6nD\n",
       "aRQsH5N/asF2ZZGfWzeoeRohiKGniAjSxbmQ2JkFBqeTZXsGtkgublgwTIT9dawU+qM055wAiUsB\n",
       "FYITQQwFlZYqE5zVAl31IB9JM66QIV4w5riLg3K4M0jWbA/L1JlpdwWHkHitiAjKeaQt3pTWfbdu\n",
       "KnvD6SK5cCeM0Sh/rymW57xMxO/bQ+07q9QKwQwdRZUg47cDBkC8fUzcyM+QEsgpZTuVeGFDiW96\n",
       "qmq2RmLr5zatax4XprInPorSvj3qCakYqKJW0ONhB8d7FqDuCGTc2CCfMrju5YhhpOj5eXx+Dz+r\n",
       "kQUfZ/j4AP4Omj8+LL/P8PEhwzvoIMcWfJrhCx68EWiq/UtHuW8znI9/JUEm4h2mdpMAAAAASUVO\n",
       "RK5CYII=\n",
       "\" style=\"display:inline;vertical-align:middle;\" /></a><br>"
      ],
      "text/plain": [
       "expr: B -> (B in BOOLEANS) | (A and B) in BOOLEANS"
      ]
     },
     "execution_count": 2,
     "metadata": {},
     "output_type": "execute_result"
    }
   ],
   "source": [
    "# build up the expression from sub-expressions\n",
    "expr = Lambda(B, InSet(B, Booleans), conditions = [InSet(And(A, B), Booleans)])"
   ]
  },
  {
   "cell_type": "code",
   "execution_count": 3,
   "metadata": {},
   "outputs": [
    {
     "name": "stdout",
     "output_type": "stream",
     "text": [
      "Passed sanity check: built 'expr' is the same as the stored Expression.\n"
     ]
    }
   ],
   "source": [
    "# check that the built expression is the same as the stored expression\n",
    "%check_expr"
   ]
  },
  {
   "cell_type": "code",
   "execution_count": 4,
   "metadata": {},
   "outputs": [
    {
     "data": {
      "text/html": [
       "<table><tr><th>&nbsp;</th><th>core type</th><th>sub-expressions</th><th>expression</th></tr>\n",
       "<tr><td>0</td><td>Lambda</td><td>parameter:&nbsp;12<br>body:&nbsp;1<br>conditions:&nbsp;2<br></td><td><a class=\"ProveItLink\" href=\"expr.ipynb\"><img src=\"data:image/png;base64,iVBORw0KGgoAAAANSUhEUgAAAQIAAAAVCAMAAACaNRD1AAAANlBMVEX///8UFBQNDQ2qqqru7u4i\n",
       "IiJ2dnbc3NyIiIjMzMxmZmYQEBC6uroyMjJERERUVFSYmJgAAAC3B9V0AAAAAXRSTlMAQObYZgAA\n",
       "AtRJREFUWMPVWNm2oyAQdAaQtVn+/2fHKGjToOgkOedeXqIxZRVFL5Bp+hGDyenXDaf+Hxtd89Xs\n",
       "vs0wQoSUwjI83IXq8AQ5Q/KQwArP1nujxxYUhnwnnk2hZbgU9BrWb9rSTQ+AP0P616Jy4PO8wccW\n",
       "HAzrXaqfSt5Q1EJgMAEiaDE5qfwZbjmg9iC9iVwZJ+WytDiPLFBVGkSR6jmDaaKmFtIwXAtaLtNW\n",
       "jmKab1lgd0FdJFcglgGUkcUprEhuRxZYPGXJTKrqpfaChgERQhgaRUTQ8kUGCMtv1UL0qg5SQ+Qn\n",
       "pkuf79m1Ba4KZLVMsPpBcIoWSyqkYmgVUUHTFjwS/PHDOplYJdkcK95BSs/7cadFLI9mc22BwdHo\n",
       "+MRSxGu6iKP1kQrBDB1FVNCSP0opIzANoQj4JRCPDGyRXnZTT4iUbFk7BtcWAHohd0em518vTw0j\n",
       "pYAIwQwdRVRQziMuwqkFPKDXWDedI7k/rz6K5YfOXltg0f3rUiZDlkdCrxQcQhBDTxEVVPJIoXD7\n",
       "+0dUw6JsPC47SGcLpCmHr485L9q1BYhMv9p9SGgacV26oHulYBeCGHqKqKDS0HBZp7kWXE9gB6nD\n",
       "aRQsH5N/asF2ZZGfWzeoeRohiKGniAjSxbmQ2JkFBqeTZXsGtkgublgwTIT9dawU+qM055wAiUsB\n",
       "FYITQQwFlZYqE5zVAl31IB9JM66QIV4w5riLg3K4M0jWbA/L1JlpdwWHkHitiAjKeaQt3pTWfbdu\n",
       "KnvD6SK5cCeM0Sh/rymW57xMxO/bQ+07q9QKwQwdRZUg47cDBkC8fUzcyM+QEsgpZTuVeGFDiW96\n",
       "qmq2RmLr5zatax4XprInPorSvj3qCakYqKJW0ONhB8d7FqDuCGTc2CCfMrju5YhhpOj5eXx+Dz+r\n",
       "kQUfZ/j4AP4Omj8+LL/P8PEhwzvoIMcWfJrhCx68EWiq/UtHuW8znI9/JUEm4h2mdpMAAAAASUVO\n",
       "RK5CYII=\n",
       "\" style=\"display:inline;vertical-align:middle;\" /></a></td></tr>\n",
       "<tr><td>1</td><td>Operation</td><td>operator:&nbsp;5<br>operands:&nbsp;3<br></td><td><a class=\"ProveItLink\" href=\"../41a86ef0ff9417c73c472e1bdfa161b308e2753e0/expr.ipynb\"><img src=\"data:image/png;base64,iVBORw0KGgoAAAANSUhEUgAAADcAAAAPBAMAAACy3Eq1AAAAMFBMVEX///+qqqru7u4iIiJ2dnbc\n",
       "3NyIiIjMzMxmZmYQEBC6uroyMjJERERUVFSYmJgAAADLUcuvAAAAAXRSTlMAQObYZgAAAOZJREFU\n",
       "GNNjYGB4+//u3dMLGJCB95/9O20EwMw5DAwcv1AkGQ4sY9rkAmKwfwPiv+iSDFncIAbbVwYGvi9g\n",
       "MbXNxtYwSTleBSCDZwIDA/MksBn7FJB0xoAY/BcYWPeARWMUEMay2x0CMeqvpTU/AAsdRdi52P5n\n",
       "AoiRH8DAZAtiMB1AdlCaDIhxEqQApJVrsrExwkE8XA5ABsgX70EM9gvIOnkYgAax/wNy7oOCg8kA\n",
       "QxLkTdbfYKF7KJIgY0HerNwEFlJegCT5IgcYquf/3r29DyLEuqMAHvCH5wqghigD422oayEAAEv1\n",
       "Sz0foy5uAAAAAElFTkSuQmCC\n",
       "\" style=\"display:inline;vertical-align:middle;\" /></a></td></tr>\n",
       "<tr><td>2</td><td>ExprTuple</td><td>4</td><td><a class=\"ProveItLink\" href=\"../7299b4d9515e0b5291e764dd3fa40be6a491b4a90/expr.ipynb\"><img src=\"data:image/png;base64,iVBORw0KGgoAAAANSUhEUgAAAHsAAAAVBAMAAACUF4xmAAAAMFBMVEX////c3NwiIiJERESqqqqY\n",
       "mJh2dnZmZmYQEBDu7u4yMjJUVFTMzMyIiIi6uroAAAAs73DqAAAAAXRSTlMAQObYZgAAAjFJREFU\n",
       "OMulVD1oE2EYfvJzaZLmYqBOOrQEhNbFCBXUxc4uBgQHQc3mJBSETkpLcRKsRweRgHIKQXRoI+qg\n",
       "J22oo0NuEFwsPR1EnCr+gA20Pt/7fZdLzsTFF96773m/77n39zvgP6Xoax0uVjDYflE93hqlbMR5\n",
       "6x3v2Qpwrd+cWT25szgNjLQIHhulrJr9hGMW2QowHyAf+2yq6Nfv1AAXsH2tytkRQ8vPmnNtbrSb\n",
       "sGp/0e2A3HN04Gil7J8v6e03U+bcFg2XasgtaHjvYfmwoaerL4G7wFdopfhbpkZrm4Z+nDrJb08L\n",
       "KjScyPtH5pWawRzhnG6Bc6Yqi5ybNPQOcOAE35cFjTlR8BtnCTKzaBA2xHhfUlWVrY7MaHedzfeH\n",
       "1OK0wKNR7uW9W3ynXSzxtSTGAOO6ZEkkXFnY34DlJhdfJKhKb+neERUXsEu4K648b10fuAC81sdY\n",
       "Mvun6oAkt1gud0uHymdStiN6kR3QTqfCOdpHz9avkF5o9nhHJSX0G4RKwXST0qA0U8hLC9ss5eiP\n",
       "bvATcTqDP0aoNEF6fluGpqQ/ods+riI6L6wXfXQGb7nSE6V1Zf4tQ6MeE6bthZtOt3HLQUS3rlek\n",
       "cZ8IqWO3H8A6taOcrqkTanCu7nneExmFFX0VHrXCK/N98rmKM0CWAWZLvRMdmEJGEg5t+pWufCgc\n",
       "WnUd4lciLpkhv4Mr/Rd2mNQHm3OqqgeN/kOeDjaPqpwTvtbhYrcG2z8AfwA0IJSpzFD1JAAAAABJ\n",
       "RU5ErkJggg==\n",
       "\" style=\"display:inline;vertical-align:middle;\" /></a></td></tr>\n",
       "<tr><td>3</td><td>ExprTuple</td><td>12, 8</td><td><a class=\"ProveItLink\" href=\"../46fef8cd01e90537d7ca36d1ba2c809996ed4b3a0/expr.ipynb\"><img src=\"data:image/png;base64,iVBORw0KGgoAAAANSUhEUgAAADQAAAAVBAMAAAD7ptBLAAAAMFBMVEX////c3NwiIiJERESqqqqY\n",
       "mJh2dnZmZmYQEBDu7u4yMjJUVFTMzMyIiIi6uroAAAAs73DqAAAAAXRSTlMAQObYZgAAASVJREFU\n",
       "KM9jYMAD+C5gE2V9ACROA3H0/927rR6AxbI+r1+h7MDAUANkrwQJNDMwsP+DqDd4y7kyjYGBi4GB\n",
       "F2Qez18g/g2TYrgHFGdNYOCYAOTyfgSyv8GlXLknMHA2MLwCcZkbGBiYOhG6hIG0CUMZiMu/gYFx\n",
       "8QSYFI+qJZBOZ1gK4p7fe7coAOpsg0f6P0D2ezH0gbj3BRg4tRngBt51BtIvGMBOtgBJB8ClmPkS\n",
       "gCZBpEDujk9ASDEYgKRaQN76CiT2O6BKvWAwhXqL8RcDAyeygVFAN0K8dQIYYPMVIFLhl8GOfwQM\n",
       "Pfvfu3eBPDHjIzh4jbpBZq9j4BBAioqHCCYwoFgTkKQCEEy2C9BIwZSaBcTSCC4vkqqNQMyINQHw\n",
       "HmAAAHCOVkQeB6BvAAAAAElFTkSuQmCC\n",
       "\" style=\"display:inline;vertical-align:middle;\" /></a></td></tr>\n",
       "<tr><td>4</td><td>Operation</td><td>operator:&nbsp;5<br>operands:&nbsp;6<br></td><td><a class=\"ProveItLink\" href=\"../71fe364099aaa038b999ef9881e020dffd125a640/expr.ipynb\"><img src=\"data:image/png;base64,iVBORw0KGgoAAAANSUhEUgAAAGwAAAAVBAMAAABRZRb3AAAAMFBMVEX////c3NwiIiJERESqqqqY\n",
       "mJh2dnZmZmYQEBDu7u4yMjJUVFTMzMyIiIi6uroAAAAs73DqAAAAAXRSTlMAQObYZgAAAd1JREFU\n",
       "OMtjYCAT8F3AJ8v6AIfEaQh1CF39/t+7N69jYKhBFWZbb/WryQTIWAnhr4eKM06AMjgMGBjqHzBw\n",
       "oRnHzHdh1rQEBl6IG1n1ocq5CqDy54ES5zcwsCZgaON9sICBA6JcpF4AInxYEyp/HygQn8DA2QDh\n",
       "zl2kpAXVxhKwk+EVRPTCfajf992FarMAYg2gmSZgHs/SCQjbHhowlEGCc4J/AJjBuYAJqu03A4OU\n",
       "JZBOB/OEJyAceSh4AsNSMGce2CugkApgd4AY//vudVUQwwvMNUT4Tel/LwNDH5jzgEEeEhRMDIwL\n",
       "wAzejwwMkzYAGS/AjjBADpIrBgz/wEbv3r0fIhHLwLAHIg0MCt6voBAFe6JJSQkeJAwGzyDa+IDR\n",
       "BLFEExb//ECbWL/BtPFsQLKNwYCZoQXEBnqHCRzQLECncoGj4jwwiLi/wB2pgKbNFJQygNq4PoAj\n",
       "WwCiFRJt8iAXRIFVb0XR9gwcvrNA3J/gyAYRCtBo4+maAI+ASQ8Q2lhrDRgeAeOkfyEDq/0vkCX7\n",
       "QDKgCC/+v3v3KnBUroMk1eUHYEn5s8YWYFAIIKe4B9AAQgBY4mLZBQlJWAZJwJ8d2XBkx5X4tc3C\n",
       "IS6NX9tGHOKMeAsF3gNYhQHh/nxxYwq8OgAAAABJRU5ErkJggg==\n",
       "\" style=\"display:inline;vertical-align:middle;\" /></a></td></tr>\n",
       "<tr><td>5</td><td>Literal</td><td></td><td><a class=\"ProveItLink\" href=\"../../../../set_theory/membership/__pv_it/088cbc857536a28d4119ad9639a84270ccb0545d0/expr.ipynb\"><img src=\"data:image/png;base64,iVBORw0KGgoAAAANSUhEUgAAAAwAAAAMBAMAAACkW0HUAAAALVBMVEX///+qqqpmZmZUVFQQEBC6\n",
       "urpERETc3NyYmJjMzMwiIiIyMjKIiIju7u4AAACYsrA9AAAAAXRSTlMAQObYZgAAADxJREFUCNdj\n",
       "YOA9vWrVBgaG2b0MQMCeCyIZ2ArA1DUwyRCyahVIyWQI7xaEYm4AU7xLIdxqTQgtvGvVBgCkcQ7e\n",
       "geM/tQAAAABJRU5ErkJggg==\n",
       "\" style=\"display:inline;vertical-align:middle;\" /></a></td></tr>\n",
       "<tr><td>6</td><td>ExprTuple</td><td>7, 8</td><td><a class=\"ProveItLink\" href=\"../bf0a92d64c41eb8d2e34397739e9c86ddc707cb30/expr.ipynb\"><img src=\"data:image/png;base64,iVBORw0KGgoAAAANSUhEUgAAAFsAAAAVBAMAAADbSo+2AAAAMFBMVEX////c3NwiIiJERESqqqqY\n",
       "mJh2dnZmZmYQEBDu7u4yMjJUVFTMzMyIiIi6uroAAAAs73DqAAAAAXRSTlMAQObYZgAAAb9JREFU\n",
       "KM+Vk7tLA0EQxr88Vs3jzgOttIgIQqxMoaA2+h8YEOzUdFZCQLCTBLES1MNCxELOwkILI2gjJypa\n",
       "WiSFYKPktLCwik8wAePs4+JpIfHg7mZ3fjv77cws8M9HL9RLTvDPpbTPf/nYacU+2BNmQ26wPN8L\n",
       "NJ7RYEe6cwrzmcpoSgAZR5gBvbCxlgIsQJNaWI/CwmmF58mR33dxzSF2jIJIrDVjSOqiW+FFmphM\n",
       "uXgweQSsA4/SWSjKfXFyq/B+euNmLfodaQsMY1amxxxJCiNk+RVeAdoG4OLno7SyIY1tMbEppPIs\n",
       "JBuHhRGt3F53wcU7q0v0D1pYFhMOYvKIfvgsYWhPwOp+Lbp2RWL0LD5FKNs+TQjPOHAskSwteavh\n",
       "SDwQVpK4ThmSQbvdujVTZPbuwQMCX+BjkuvPciNIksIipXk6euT1J05i+nglCQ+XRJEMuUSmPUY7\n",
       "mh4xzMIUDTf41IcoEv90qLRHF02EniXO5hIikfdAy8oW2FCZBz3hJC/UTNW2d0lPaMXgLfYSP+R7\n",
       "O2gyvH3oqIN7+tvjpyZgqb+bnHns6e8GrgMP8Vy3/4177lqE6/LVfflugC803HVhU47GKQAAAABJ\n",
       "RU5ErkJggg==\n",
       "\" style=\"display:inline;vertical-align:middle;\" /></a></td></tr>\n",
       "<tr><td>7</td><td>Operation</td><td>operator:&nbsp;9<br>operands:&nbsp;10<br></td><td><a class=\"ProveItLink\" href=\"../b857516d9472d306ebc35d0187621f69815d22bc0/expr.ipynb\"><img src=\"data:image/png;base64,iVBORw0KGgoAAAANSUhEUgAAADcAAAAPBAMAAACy3Eq1AAAAMFBMVEX///92dnYQEBBERERUVFS6\n",
       "urqIiIhmZmaqqqrc3Nzu7u6YmJgyMjIiIiLMzMwAAACFkkdwAAAAAXRSTlMAQObYZgAAAPtJREFU\n",
       "GNNjYACBtwyogNv/i4vzUSjnPJSeBZNlMmBgqA+AKLy/ACJ2HCb5PgGIHcDMGfUTwDSfLVQRQz5Q\n",
       "YL8AmJmQDzGBJSwBKmkExJfAKlkX9G8AC61huACV/MLAMMcKzFoKtgIIpBkqIHJ8X9LSb0OYAQzz\n",
       "C8CMCwxzICJsPxkY1oLdw+fi4m8AdnQCA8sDsCSzAlDBb7CVQG8dADF4FzDwQZzPD6S4P4JYDUBh\n",
       "BRCjHYhPQrwJdCDLDyCDEyjJ84EBKtEO9+b8A2D3A+34BbIbZDEvzJt8OkBvTtY/ycBt/wfoXBZQ\n",
       "SLCBPFX838XlzAaUqGCF+gsBAFd8PNYBN2/JAAAAAElFTkSuQmCC\n",
       "\" style=\"display:inline;vertical-align:middle;\" /></a></td></tr>\n",
       "<tr><td>8</td><td>Literal</td><td></td><td><a class=\"ProveItLink\" href=\"../../../__pv_it/46271c8230be96415d662709611f4ed2279d702b0/expr.ipynb\"><img src=\"data:image/png;base64,iVBORw0KGgoAAAANSUhEUgAAAA0AAAAOBAMAAAAGUYvhAAAAMFBMVEX///9mZmbMzMzc3NxUVFSY\n",
       "mJju7u6IiIi6urqqqqoiIiIQEBBEREQyMjJ2dnYAAAAQvcRZAAAAAXRSTlMAQObYZgAAAElJREFU\n",
       "CNdjePvn/u01ExgYGA60s117B6YZKngh9FSWBAjfBsxnWnoMRHet/10AkS+fA6F5OB5AaIYDqDRU\n",
       "PLCGgQFoz6ktExgAgLIl8DFvGtkAAAAASUVORK5CYII=\n",
       "\" style=\"display:inline;vertical-align:middle;\" /></a></td></tr>\n",
       "<tr><td>9</td><td>Literal</td><td></td><td><a class=\"ProveItLink\" href=\"../../../conjunction/__pv_it/76b5f4f4c45c0b6a9b59b297fc07dfa9555698f50/expr.ipynb\"><img src=\"data:image/png;base64,iVBORw0KGgoAAAANSUhEUgAAAAwAAAAOBAMAAADpk+DfAAAALVBMVEX///+qqqqYmJh2dnaIiIi6\n",
       "urpUVFQiIiJERETMzMxmZmYyMjLu7u7c3NwAAABvwqPxAAAAAXRSTlMAQObYZgAAAEtJREFUCNdj\n",
       "YGDgPcAAAtwLwNSMGjCV6gIieTawgyhmBS4BIMXOwLsBSKkwMGQCKaC6aQwMjEBd3BdACMScAVJd\n",
       "wJAKolwYAkAUKwAk0guX6efcigAAAABJRU5ErkJggg==\n",
       "\" style=\"display:inline;vertical-align:middle;\" /></a></td></tr>\n",
       "<tr><td>10</td><td>ExprTuple</td><td>11, 12</td><td><a class=\"ProveItLink\" href=\"../caee09fb4b5c95b986a9cee46a014afbad9bdc680/expr.ipynb\"><img src=\"data:image/png;base64,iVBORw0KGgoAAAANSUhEUgAAADUAAAAVBAMAAAAUZLt1AAAAMFBMVEX////c3NwiIiJERESqqqqY\n",
       "mJh2dnZmZmYQEBDu7u4yMjJUVFTMzMyIiIi6uroAAAAs73DqAAAAAXRSTlMAQObYZgAAATZJREFU\n",
       "KM9jYMAH+C5gFY4DEach7EMwQdb9v3dvXsfAfgDIXgkRWg/XwWHAwFD/gGEBAwMvxEhW/QkwufNA\n",
       "kfMbGMKAqiBiIvUCMLn7QFZ8AsMMBoZXEIEL9x/A5CyAWGMCA7MDQxnEsRP8A2ByvxkYpCwZGNgK\n",
       "GJaC+fPAtoABz++711WBNMsChj6wwAMG+QKoHO9HBoZJG4BGNTD8A6vdvXu/AVSOuQEo/xUo9gEi\n",
       "xwd07wKoHD9QD+s3sFwLiO/AwMDUAPMe0FHcX8BmmgK5jEA5rg8MDBNg3pMHGsK6gCEdyJ0FsuYn\n",
       "A+cnqPd4uiaA/fCIgUG4fyEDq/2vAs5+oJbi/7t3rwL5lesBA4cAUnQhsUFhxpqA4LIiR2AuIo7Q\n",
       "5ThBfpJG8JFTADfIfEbsaeIOAwMABOxNRsfkiy0AAAAASUVORK5CYII=\n",
       "\" style=\"display:inline;vertical-align:middle;\" /></a></td></tr>\n",
       "<tr><td>11</td><td>Variable</td><td></td><td><a class=\"ProveItLink\" href=\"../../../../../__pv_it/2cbe72a7ad6f655694dd697106680215e8489b600/expr.ipynb\"><img src=\"data:image/png;base64,iVBORw0KGgoAAAANSUhEUgAAAA8AAAAOBAMAAAACpFvcAAAALVBMVEX///8QEBBERERUVFS6urqI\n",
       "iIhmZmaqqqrc3Nzu7u6YmJgyMjIiIiLMzMwAAADtIaYWAAAAAXRSTlMAQObYZgAAAFtJREFUCNdj\n",
       "YACBOwxQsA9Kc52bAGG05zVAGAFxDmCaZULdAjBjCsO9ADDDgaEvAUTzGhvbKYCVMDAwbgAxChgY\n",
       "eASANAeQwf0AyJgNxEwvGRia5HYwcOm9TgAA6BoR3jrzwFcAAAAASUVORK5CYII=\n",
       "\" style=\"display:inline;vertical-align:middle;\" /></a></td></tr>\n",
       "<tr><td>12</td><td>Variable</td><td></td><td><a class=\"ProveItLink\" href=\"../../../../../__pv_it/077b2ff79244fb4582cbe22c6e3356fa92a52f2f0/expr.ipynb\"><img src=\"data:image/png;base64,iVBORw0KGgoAAAANSUhEUgAAABAAAAAOBAMAAADUAYG5AAAAMFBMVEX///+qqqru7u4iIiJ2dnbc\n",
       "3NyIiIjMzMxmZmYQEBC6uroyMjJERERUVFSYmJgAAADLUcuvAAAAAXRSTlMAQObYZgAAAGpJREFU\n",
       "CNdjYGB4+//u3dMLGIBgDgMDxy8gzf4NiP8CGWxfGRj4vgAZPBMYGJgnARn8FxhY9ygAGfXX0pof\n",
       "gDTlBzAw2YIYJ0EckBBI53sHoBH/gIz7AhBjWH9DjancBLTl/N+7t/cxMAAA3u4f/5xagjYAAAAA\n",
       "SUVORK5CYII=\n",
       "\" style=\"display:inline;vertical-align:middle;\" /></a></td></tr>\n",
       "</table>\n"
      ],
      "text/plain": [
       "0. B -> (B in BOOLEANS) | (A and B) in BOOLEANS\n",
       "   core type: Lambda\n",
       "   parameter: 12\n",
       "   body: 1\n",
       "   conditions: 2\\n1. B in BOOLEANS\n",
       "   core type: Operation\n",
       "   operator: 5\n",
       "   operands: 3\n",
       "2. ((A and B) in BOOLEANS)\n",
       "   core type: ExprTuple\n",
       "   sub-expressions: 4\n",
       "3. (B , BOOLEANS)\n",
       "   core type: ExprTuple\n",
       "   sub-expressions: 12, 8\n",
       "4. (A and B) in BOOLEANS\n",
       "   core type: Operation\n",
       "   operator: 5\n",
       "   operands: 6\n",
       "5. in\n",
       "   core type: Literal\n",
       "   sub-expressions: \n",
       "6. (A and B , BOOLEANS)\n",
       "   core type: ExprTuple\n",
       "   sub-expressions: 7, 8\n",
       "7. A and B\n",
       "   core type: Operation\n",
       "   operator: 9\n",
       "   operands: 10\n",
       "8. BOOLEANS\n",
       "   core type: Literal\n",
       "   sub-expressions: \n",
       "9. and\n",
       "   core type: Literal\n",
       "   sub-expressions: \n",
       "10. (A , B)\n",
       "    core type: ExprTuple\n",
       "    sub-expressions: 11, 12\n",
       "11. A\n",
       "    core type: Variable\n",
       "    sub-expressions: \n",
       "12. B\n",
       "    core type: Variable\n",
       "    sub-expressions: "
      ]
     },
     "execution_count": 4,
     "metadata": {},
     "output_type": "execute_result"
    }
   ],
   "source": [
    "# display the expression information\n",
    "expr.exprInfo()"
   ]
  },
  {
   "cell_type": "code",
   "execution_count": null,
   "metadata": {},
   "outputs": [],
   "source": []
  }
 ],
 "metadata": {
  "kernelspec": {
   "display_name": "Python 3",
   "language": "python",
   "name": "python3"
  }
 },
 "nbformat": 4,
 "nbformat_minor": 0
}
