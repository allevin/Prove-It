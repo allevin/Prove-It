{
 "cells": [
  {
   "cell_type": "markdown",
   "metadata": {},
   "source": [
    "Expression of type <a class=\"ProveItLink\" href=\"../../../../../../../doc/html/api/proveit.ExprTuple.html\">ExprTuple</a>\n",
    "=======================\n",
    "# from context <a class=\"ProveItLink\" href=\"../../_context_.ipynb\">proveit.logic.boolean.disjunction</a>"
   ]
  },
  {
   "cell_type": "code",
   "execution_count": 1,
   "metadata": {},
   "outputs": [],
   "source": [
    "# import Expression classes needed to build the expression\n",
    "from proveit import ExprTuple\n",
    "from proveit.logic import And, Not, TRUE\n",
    "from proveit.logic.boolean.disjunction._theorems_ import trueOrTrue"
   ]
  },
  {
   "cell_type": "code",
   "execution_count": 2,
   "metadata": {},
   "outputs": [
    {
     "data": {
      "text/html": [
       "<strong id=\"expr\">expr:</strong> <a class=\"ProveItLink\" href=\"expr.ipynb\"><img src=\"data:image/png;base64,iVBORw0KGgoAAAANSUhEUgAAAOUAAAAVBAMAAABLdTQ8AAAAMFBMVEX////c3NwiIiJERESqqqqY\n",
       "mJh2dnZmZmYQEBDu7u4yMjJUVFTMzMyIiIi6uroAAAAs73DqAAAAAXRSTlMAQObYZgAAAkFJREFU\n",
       "SMfFVr9LA1EMTmt/2PY8u6oIRUFwE9G9m+DUqYOguIiTUEQ6OSi4uEhHcfEcRFxEd5FCQYcO+gco\n",
       "nE4iCPoPiPeS1MvLU04nA99rk/ty3zX3kleA/zD/TjlWwFg21DmvOrDESDZkdWWkKwP5MbQp2FR5\n",
       "3nnv2zoyxiHfBoRKFCaZcCqvnKqA1zBrkb0h/iy2BOUG14BhJwJgiTzFHJCVNI4VoNTsMnknHH0A\n",
       "R7PO0JqXgv/F7JfPbBwrQKmFLXKm+dKuq7nP0Jods0wq5ovMfwEV4NQZXEuvVAI/cDX7qgStWSwD\n",
       "ZBqK2ZT5TYZOXcX1ACq0RZZdzVyDoDWNntG1mMcy/5ihU+dxXYENevaaq5kJCFrT1LWjmXu9rW0e\n",
       "fo8QBzj1GdcKDNNbD3nrT8R38rcIjma0f64szYj1IXvug/EV4NRb3L13UMIWHAxFN/OdvDeCo5mG\n",
       "QmBpRqzfa6ZbPAz+pJmv5mpac0dK7DC0JtZ2LsIR1rbqav5Y21SQBl3bWSkxy9CaC8B6c7jba65m\n",
       "NiBAQWnC5aKtGbFWe5E294QVEL3iTeHbAdET3je9clhRmp1Jp6ue5L5/YsQlolY8MxMh5OEIfkVS\n",
       "rql/QgLsv8tEc6XhMPvLcvaVwQ6Q4ezz45m97R5R8ex71IdQy2Fm5VAxjhUgy6kTte5qrjEAagkH\n",
       "6FrSWQY89GwrtpxKBNDrwwRNZI3IyIgOoF0oP3WuGaUyIXrjCT8TWSlZOOOk9H+TgbZOHNWBe0ay\n",
       "RaxPo+mvb2w94/YAAAAASUVORK5CYII=\n",
       "\" style=\"display:inline;vertical-align:middle;\" /></a><br>"
      ],
      "text/plain": [
       "expr: ([not]([not](TRUE) and [not](TRUE)) , TRUE or TRUE)"
      ]
     },
     "execution_count": 2,
     "metadata": {},
     "output_type": "execute_result"
    }
   ],
   "source": [
    "# build up the expression from sub-expressions\n",
    "subExpr1 = Not(TRUE)\n",
    "expr = ExprTuple(Not(And(subExpr1, subExpr1)), trueOrTrue.expr)"
   ]
  },
  {
   "cell_type": "code",
   "execution_count": 3,
   "metadata": {},
   "outputs": [
    {
     "name": "stdout",
     "output_type": "stream",
     "text": [
      "Passed sanity check: built 'expr' is the same as the stored Expression.\n"
     ]
    }
   ],
   "source": [
    "# check that the built expression is the same as the stored expression\n",
    "%check_expr"
   ]
  },
  {
   "cell_type": "code",
   "execution_count": 4,
   "metadata": {},
   "outputs": [
    {
     "data": {
      "text/html": [
       "<table><tr><th>&nbsp;</th><th>core type</th><th>sub-expressions</th><th>expression</th></tr>\n",
       "<tr><td>0</td><td>ExprTuple</td><td>1, 2</td><td><a class=\"ProveItLink\" href=\"expr.ipynb\"><img src=\"data:image/png;base64,iVBORw0KGgoAAAANSUhEUgAAAOUAAAAVBAMAAABLdTQ8AAAAMFBMVEX////c3NwiIiJERESqqqqY\n",
       "mJh2dnZmZmYQEBDu7u4yMjJUVFTMzMyIiIi6uroAAAAs73DqAAAAAXRSTlMAQObYZgAAAkFJREFU\n",
       "SMfFVr9LA1EMTmt/2PY8u6oIRUFwE9G9m+DUqYOguIiTUEQ6OSi4uEhHcfEcRFxEd5FCQYcO+gco\n",
       "nE4iCPoPiPeS1MvLU04nA99rk/ty3zX3kleA/zD/TjlWwFg21DmvOrDESDZkdWWkKwP5MbQp2FR5\n",
       "3nnv2zoyxiHfBoRKFCaZcCqvnKqA1zBrkb0h/iy2BOUG14BhJwJgiTzFHJCVNI4VoNTsMnknHH0A\n",
       "R7PO0JqXgv/F7JfPbBwrQKmFLXKm+dKuq7nP0Jods0wq5ovMfwEV4NQZXEuvVAI/cDX7qgStWSwD\n",
       "ZBqK2ZT5TYZOXcX1ACq0RZZdzVyDoDWNntG1mMcy/5ihU+dxXYENevaaq5kJCFrT1LWjmXu9rW0e\n",
       "fo8QBzj1GdcKDNNbD3nrT8R38rcIjma0f64szYj1IXvug/EV4NRb3L13UMIWHAxFN/OdvDeCo5mG\n",
       "QmBpRqzfa6ZbPAz+pJmv5mpac0dK7DC0JtZ2LsIR1rbqav5Y21SQBl3bWSkxy9CaC8B6c7jba65m\n",
       "NiBAQWnC5aKtGbFWe5E294QVEL3iTeHbAdET3je9clhRmp1Jp6ue5L5/YsQlolY8MxMh5OEIfkVS\n",
       "rql/QgLsv8tEc6XhMPvLcvaVwQ6Q4ezz45m97R5R8ex71IdQy2Fm5VAxjhUgy6kTte5qrjEAagkH\n",
       "6FrSWQY89GwrtpxKBNDrwwRNZI3IyIgOoF0oP3WuGaUyIXrjCT8TWSlZOOOk9H+TgbZOHNWBe0ay\n",
       "RaxPo+mvb2w94/YAAAAASUVORK5CYII=\n",
       "\" style=\"display:inline;vertical-align:middle;\" /></a></td></tr>\n",
       "<tr><td>1</td><td>Operation</td><td>operator:&nbsp;9<br>operand:&nbsp;3<br></td><td><a class=\"ProveItLink\" href=\"../9019ab20c3a342a4e2bc64c4d29e9de8415bf6c10/expr.ipynb\"><img src=\"data:image/png;base64,iVBORw0KGgoAAAANSUhEUgAAAJIAAAAVBAMAAABf4KrdAAAAMFBMVEX////c3NxERESqqqqYmJgQ\n",
       "EBDu7u4yMjKIiIi6urpUVFTMzMx2dnYiIiJmZmYAAABjE816AAAAAXRSTlMAQObYZgAAAZtJREFU\n",
       "OMu1lL9Lw0AUxy/9YRubxo7iJOgf0M21mwodFEFw6yKuGaTg1lFw6SK6CHUsLqWjiGZ0ktKhk4Xu\n",
       "VXB1s/e+7/LjXQpd/MInyb3cfS/37l2U+g/dMykdyoDbEYFCF8Sq9AD0PdUaK38gBj6bB596TLfV\n",
       "fNGYJ7uUWiDSK10DNBzzpp2cfEYDmUjXjHBq8jwz3Msdy6kQgkinjHA6R2M4wb3YspzWjkCUyQBI\n",
       "p1ydbn3+3DtlOakdxiQwBNLJw7xBFcGvDKcPxiS8AaRTnr7Ta/j4tssMpz2CdvtTJ6ALogA7uZSB\n",
       "qnKw8jOz/WHsdMtwjWx0QVw0cKr86OuBUk/U/E1Un3F6Y1ZympiSXMGpWAfSiVaXXwwp1XTzJMNJ\n",
       "rC7XANKpoPOjXfI0bDfDaZ/REd5tb6biQLIKhvpppJK7PVhaBe4IxHpBdejc9c1xUg+pKkD9XTFG\n",
       "x4wQnRbaCZdOS83qIU8LHdWm7fQu/kah1cPrgOV/FUwYiEDbcrpgIjk9kNa6XM2W5fTIxNpkUrqR\n",
       "AUf+fcsD4g+RnIViWpUtUgAAAABJRU5ErkJggg==\n",
       "\" style=\"display:inline;vertical-align:middle;\" /></a></td></tr>\n",
       "<tr><td>2</td><td>Operation</td><td>operator:&nbsp;4<br>operands:&nbsp;5<br></td><td><a class=\"ProveItLink\" href=\"../3a6119cb1d7b18a914c57817b1a786bb99cf975b0/expr.ipynb\"><img src=\"data:image/png;base64,iVBORw0KGgoAAAANSUhEUgAAADUAAAAPBAMAAAC2KZqIAAAALVBMVEX///+YmJiqqqrc3NwyMjLu\n",
       "7u6IiIhUVFS6urp2dnbMzMxEREQiIiJmZmYAAABsGi9eAAAAAXRSTlMAQObYZgAAAHZJREFUGNNj\n",
       "uHMGBE4zIAFesNCZDSD2WogQB5hcACa5LkDVQeXYQcJsCVjluECG8ARglWNwBmJdBuxyulB5bHJA\n",
       "88DmYpMDuoO9AYccwwGGEAZccpcYJuKUMwHqxCXHvjABpxzXngB0uZXwUPaFq5rAgA6WovAANrQq\n",
       "6fyz5SwAAAAASUVORK5CYII=\n",
       "\" style=\"display:inline;vertical-align:middle;\" /></a></td></tr>\n",
       "<tr><td>3</td><td>Operation</td><td>operator:&nbsp;6<br>operands:&nbsp;7<br></td><td><a class=\"ProveItLink\" href=\"../c1a56d7513ddc8a4c0b714e77079299743aaff220/expr.ipynb\"><img src=\"data:image/png;base64,iVBORw0KGgoAAAANSUhEUgAAAG8AAAAVBAMAAAC6Uq30AAAAMFBMVEX////c3NwiIiJERESqqqqY\n",
       "mJh2dnZmZmYQEBDu7u4yMjJUVFTMzMyIiIi6uroAAAAs73DqAAAAAXRSTlMAQObYZgAAAWtJREFU\n",
       "OMtjYCAb8F1AE2B9gK7kLbpAHIg4DeOxK4GBAUMNmjKeDTBWEViFMgP7ASBnJbKSAhDJBeUxToDQ\n",
       "XBOQlBwHkwsYGHgvYGhkTYBqKIDQdxkwNIYxMHBMwNDI2QDhHdaE0J2YGmcwMLxiwNDIYALh7YNY\n",
       "xbcAUyOzA0MZFo3pYJJzARMk0BIwNbIVMCzFotELIhnA7gD2agCmRpYFDH2weEhAaHwBJpkYGMGO\n",
       "5HgAjQc1hEa+BoZ/yJEF1XgeTMYyMOwB0fywBHEaoZHnAx6NmlClODS2YNEIdioLkM0lAHKqA6ZG\n",
       "oFNNsWiMAoeJAEQzA3MApkbWBdCgB4IDaNFxGEQoQIIeajZKdDxCiQ5IlK0DRz8stfEpICs5BkmN\n",
       "Dxg4BDAyGiTJgYOED0Q0YubFGYgUjQTY0HJoGKbGXLRsBQGz0Pgo2QqaGoGENIbGjWh8xg3oKrhB\n",
       "/mNELzp4D6Crk0UXuMPAAAC/pFbqtm581QAAAABJRU5ErkJggg==\n",
       "\" style=\"display:inline;vertical-align:middle;\" /></a></td></tr>\n",
       "<tr><td>4</td><td>Literal</td><td></td><td><a class=\"ProveItLink\" href=\"../087d0b4ded7c7e5bf3bba05ecb616d7a8051ff650/expr.ipynb\"><img src=\"data:image/png;base64,iVBORw0KGgoAAAANSUhEUgAAAAwAAAAOBAMAAADpk+DfAAAALVBMVEX///+YmJh2dnZmZmaqqqrc\n",
       "3NwyMjLu7u4iIiJERESIiIhUVFTMzMy6uroAAAD0I/TTAAAAAXRSTlMAQObYZgAAAEtJREFUCNdj\n",
       "uMAABDwMe0DUKoaTIKqdgS2AgYHFAITAzHYGsMQqBoa9QIqDgT0BSDE7MAkAKdYEDpAehj1SYOpk\n",
       "O5hiMwBTPAUMDAB33Atnw8aG2QAAAABJRU5ErkJggg==\n",
       "\" style=\"display:inline;vertical-align:middle;\" /></a></td></tr>\n",
       "<tr><td>5</td><td>ExprTuple</td><td>10, 10</td><td><a class=\"ProveItLink\" href=\"../53cd4c5ad99d49f1dd2daba2e4ef227137637f4c0/expr.ipynb\"><img src=\"data:image/png;base64,iVBORw0KGgoAAAANSUhEUgAAADUAAAAVBAMAAAAUZLt1AAAAMFBMVEX////c3NwiIiJERESqqqqY\n",
       "mJh2dnZmZmYQEBDu7u4yMjJUVFTMzMyIiIi6uroAAAAs73DqAAAAAXRSTlMAQObYZgAAAK1JREFU\n",
       "KM9jYMAH+C5gFY4DEacZ2JXAwAAsVgRmKzOwHwByVoJEeAqQtBwHkwsYGHgv4JALY2DgmIBDbgYD\n",
       "wysGHHLMDgxluOTYChiW4pJjWcDQh0uOr4HhHy45ng945VrwmGmKJDcBWY51AUM6Qo7zE5ofHkHk\n",
       "EkBy/QJgzjEwyfWAgUMAKbqQ2KAwY01AcFmRIzAXFkeYcpzAOGKQRvCRUwA3yHxG7GniDgMDAJEk\n",
       "LfwxNZicAAAAAElFTkSuQmCC\n",
       "\" style=\"display:inline;vertical-align:middle;\" /></a></td></tr>\n",
       "<tr><td>6</td><td>Literal</td><td></td><td><a class=\"ProveItLink\" href=\"../../../conjunction/__pv_it/76b5f4f4c45c0b6a9b59b297fc07dfa9555698f50/expr.ipynb\"><img src=\"data:image/png;base64,iVBORw0KGgoAAAANSUhEUgAAAAwAAAAOBAMAAADpk+DfAAAALVBMVEX///+qqqqYmJh2dnaIiIi6\n",
       "urpUVFQiIiJERETMzMxmZmYyMjLu7u7c3NwAAABvwqPxAAAAAXRSTlMAQObYZgAAAEtJREFUCNdj\n",
       "YGDgPcAAAtwLwNSMGjCV6gIieTawgyhmBS4BIMXOwLsBSKkwMGQCKaC6aQwMjEBd3BdACMScAVJd\n",
       "wJAKolwYAkAUKwAk0guX6efcigAAAABJRU5ErkJggg==\n",
       "\" style=\"display:inline;vertical-align:middle;\" /></a></td></tr>\n",
       "<tr><td>7</td><td>ExprTuple</td><td>8, 8</td><td><a class=\"ProveItLink\" href=\"../d71f6d5837e9b50d2e6148cc6807b87b07159c890/expr.ipynb\"><img src=\"data:image/png;base64,iVBORw0KGgoAAAANSUhEUgAAAFEAAAAVBAMAAADMaB9/AAAAMFBMVEX////c3NwiIiJERESqqqqY\n",
       "mJh2dnZmZmYQEBDu7u4yMjJUVFTMzMyIiIi6uroAAAAs73DqAAAAAXRSTlMAQObYZgAAAMtJREFU\n",
       "KM9jYCAe8F0gQlEciDgN47ErgYEBsooisJAyA/sBIGclkgRPAaZxx8HkAgYG3gtEqQxjYOCYQJTK\n",
       "GQwMrxiIUsnswFBGnEq2AoalxKlkWcDQBwueBBSV4OBRQ6jka2D4BzNuA6aZpxEqeT6QoLKFOJVA\n",
       "200xVU7AopJ1AUM6TPgATCXnJ3hQoITSI5RQAgUAZ78AstgxMMn1gIFDADMdYgqBYpM1AUOUFUsC\n",
       "zUVLdThVcgJTHYM0hjCWTMANchAjMbnjDgMDAK5bNxUfexYsAAAAAElFTkSuQmCC\n",
       "\" style=\"display:inline;vertical-align:middle;\" /></a></td></tr>\n",
       "<tr><td>8</td><td>Operation</td><td>operator:&nbsp;9<br>operand:&nbsp;10<br></td><td><a class=\"ProveItLink\" href=\"../64bca6f824ebeb308ac4ae8ae73cb3543228f2c30/expr.ipynb\"><img src=\"data:image/png;base64,iVBORw0KGgoAAAANSUhEUgAAABwAAAAOBAMAAADOPWE3AAAAGFBMVEX///9ERERUVFTMzMx2dnYi\n",
       "IiJmZmYAAADORshHAAAAAXRSTlMAQObYZgAAACZJREFUCNdjYICA1FAQCGRAADMGFEAxF2xDCKqs\n",
       "EQVcZiwWmQAxANt2B/RO11f4AAAAAElFTkSuQmCC\n",
       "\" style=\"display:inline;vertical-align:middle;\" /></a></td></tr>\n",
       "<tr><td>9</td><td>Literal</td><td></td><td><a class=\"ProveItLink\" href=\"../../../negation/__pv_it/7bea79645543c2413aa17e787cca04e21046fde60/expr.ipynb\"><img src=\"data:image/png;base64,iVBORw0KGgoAAAANSUhEUgAAAAwAAAAGBAMAAAAFwGKyAAAAFVBMVEX///9UVFTMzMx2dnYiIiJm\n",
       "ZmYAAACWz4ZEAAAAAXRSTlMAQObYZgAAABRJREFUCNdjCHEBAmcGMFDEQzEBAEl+Ai6uYJv/AAAA\n",
       "AElFTkSuQmCC\n",
       "\" style=\"display:inline;vertical-align:middle;\" /></a></td></tr>\n",
       "<tr><td>10</td><td>Literal</td><td></td><td><a class=\"ProveItLink\" href=\"../../../__pv_it/68a87cc3370287d726c7086ace789e680e4461c30/expr.ipynb\"><img src=\"data:image/png;base64,iVBORw0KGgoAAAANSUhEUgAAAA4AAAAOBAMAAADtZjDiAAAAFVBMVEX///92dnbMzMxEREQiIiJm\n",
       "ZmYAAABAT6GXAAAAAXRSTlMAQObYZgAAABhJREFUCNdjCHEBAWcGIFBlgABa0YpADAAxegPJJk4d\n",
       "XAAAAABJRU5ErkJggg==\n",
       "\" style=\"display:inline;vertical-align:middle;\" /></a></td></tr>\n",
       "</table>\n"
      ],
      "text/plain": [
       "0. ([not]([not](TRUE) and [not](TRUE)) , TRUE or TRUE)\n",
       "   core type: ExprTuple\n",
       "   sub-expressions: 1, 2\n",
       "1. [not]([not](TRUE) and [not](TRUE))\n",
       "   core type: Operation\n",
       "   operator: 9\n",
       "   operand: 3\n",
       "2. TRUE or TRUE\n",
       "   core type: Operation\n",
       "   operator: 4\n",
       "   operands: 5\n",
       "3. [not](TRUE) and [not](TRUE)\n",
       "   core type: Operation\n",
       "   operator: 6\n",
       "   operands: 7\n",
       "4. or\n",
       "   core type: Literal\n",
       "   sub-expressions: \n",
       "5. (TRUE , TRUE)\n",
       "   core type: ExprTuple\n",
       "   sub-expressions: 10, 10\n",
       "6. and\n",
       "   core type: Literal\n",
       "   sub-expressions: \n",
       "7. ([not](TRUE) , [not](TRUE))\n",
       "   core type: ExprTuple\n",
       "   sub-expressions: 8, 8\n",
       "8. [not](TRUE)\n",
       "   core type: Operation\n",
       "   operator: 9\n",
       "   operand: 10\n",
       "9. not\n",
       "   core type: Literal\n",
       "   sub-expressions: \n",
       "10. TRUE\n",
       "    core type: Literal\n",
       "    sub-expressions: "
      ]
     },
     "execution_count": 4,
     "metadata": {},
     "output_type": "execute_result"
    }
   ],
   "source": [
    "# display the expression information\n",
    "expr.exprInfo()"
   ]
  },
  {
   "cell_type": "code",
   "execution_count": null,
   "metadata": {},
   "outputs": [],
   "source": []
  }
 ],
 "metadata": {
  "kernelspec": {
   "display_name": "Python 3",
   "language": "python",
   "name": "python3"
  }
 },
 "nbformat": 4,
 "nbformat_minor": 0
}
