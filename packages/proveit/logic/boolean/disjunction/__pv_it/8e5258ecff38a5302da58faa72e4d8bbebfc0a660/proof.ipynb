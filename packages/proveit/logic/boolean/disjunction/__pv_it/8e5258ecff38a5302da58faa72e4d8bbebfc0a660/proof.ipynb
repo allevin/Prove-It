{
 "cells": [
  {
   "cell_type": "markdown",
   "metadata": {},
   "source": [
    "Show the Proof\n",
    "========"
   ]
  },
  {
   "cell_type": "code",
   "execution_count": 1,
   "metadata": {},
   "outputs": [
    {
     "data": {
      "text/html": [
       "<table><tr><th>&nbsp;</th><th>step type</th><th>requirements</th><th>statement</th></tr>\n",
       "<tr><td>0</td><td>specialization</td><td>1, 2</td><td><span style=\"font-size:20px;\"><a class=\"ProveItLink\" href=\"../13cce7667c8b30ca276bb96e5eda2788215458bb0/expr.ipynb\"><img src=\"data:image/png;base64,iVBORw0KGgoAAAANSUhEUgAAAKcAAAAVBAMAAADROuOhAAAAMFBMVEX////c3NxERESqqqpUVFS6\n",
       "urrMzMwyMjIQEBCIiIh2dnYiIiLu7u5mZmaYmJgAAABXZE4RAAAAAXRSTlMAQObYZgAAAktJREFU\n",
       "OMutlT2IE1EQxydfm+xmsxewECsFC68QTGclRNmzdcsTLMKRwi5pDitREb3G4iohhRiwUUFI6cch\n",
       "6RRsDgstBA2CiGdxfkREUc+ZN/Pevre7nI0Dv307s//M+5r3AgDRa/h/5t1tUxM+dKKnBcfeZQM5\n",
       "RZQw4F0m1//k9NRlrMgEoNXLjCdVRKfm8YlVgBfAwEt6BBdteX3KWBHqdMjvpWmq0tY4APAmgTqF\n",
       "yb+dTzoSUvv4Cx9bkmwzVWkbrCNdiMagKEp6TTBWOvYZn0/ZWdlIVdpu4s5sjyHENERB0tqQSc33\n",
       "v+Gz3FHO0siojC0i93E5DgKTT9oaM6mdqfwhkZp3OGwalbE5wN7D2N4TVNKW3W19xhgLE+8HNhUl\n",
       "CmatjlaZQpiPbjyml6PCNjlnsbpePUKjem0kjAnUoPSbGjWdJpRUclvh45I/owpbFmgz+1d1n31k\n",
       "IWFMoB/HX2g8qpg/AJwEcBVl7M6nFRoIcAjnsdzbLSm+r5mkGxxzFAs4yuinlbRJC14dWjkaHUYH\n",
       "KrS1evoVnFi9Da5igOOqfrWmr9Y0mFhJyzNGB/Zgc4EOI/VMCSmxo6Ay3U9f3wtuSXlSOsGmCYSk\n",
       "PjKV2AoFJ+AoqEy9tWm2pNzinzBymha/t+HtznkcJK3ikj6hqQKe78TxOTXwVaHgmF4SMqaOqdqe\n",
       "GhQrdjmm6ubYyv/kjusWKIJ1hpNG/7j6+Hy6fl4BTwS+T8MHzqXUZVyrtl0/r4DjgneF7+5b9sd9\n",
       "gmPXs4Gcwu8x6j/qLwN8qLW8oJ3QAAAAAElFTkSuQmCC\n",
       "\" style=\"display:inline;vertical-align:middle;\" /></a> <a class=\"ProveItLink\" href=\"proof.ipynb\" style=\"text-decoration: none\">&#x22A2;&nbsp;</a><a class=\"ProveItLink\" href=\"../0f1bf4090acd92174180531bf3e50944b30066e50/expr.ipynb\"><img src=\"data:image/png;base64,iVBORw0KGgoAAAANSUhEUgAAADcAAAAPBAMAAACy3Eq1AAAAMFBMVEX///92dnYQEBBERERUVFS6\n",
       "urqIiIhmZmaqqqrc3Nzu7u6YmJgyMjIiIiLMzMwAAACFkkdwAAAAAXRSTlMAQObYZgAAAP1JREFU\n",
       "GNNjYACBtwyogNv/i4vzUSjnPIhgBTMfgEkmAwaG+gCIwvsLgCQLSJwtASzyHki9dwAzZ9RPAJJ8\n",
       "QNUMvAvAIvlAgf0CYGZCPtiEk0DcDrHHCIgvgdWxLujfwACVOAmR/MLAMMcKzFoKtgJsJNhooA1f\n",
       "0tJvQ5QFMMwvYIA4hgXiQrafDAxrwe7hc3Hxh2i4wLAGopxZAajgN9R/TAfAYhUM0hBJfqAu7o8g\n",
       "VgPQNgWw2BygXog3gQ5k+QFkcAIleT6AxVheQ4IA7M35INNA1jD/gjjSdgHcm3w6QPZk/ZMM3PZ/\n",
       "wM5lOA6RK/7v4nJmA1pkMLxC5QIA6tw+1pV4TWcAAAAASUVORK5CYII=\n",
       "\" style=\"display:inline;vertical-align:middle;\" /></a></span></td></tr>\n",
       "<tr><td>&nbsp;</td><td colspan=4 style=\"text-align:left\"><span style=\"font-size:20px;\"><a class=\"ProveItLink\" href=\"../../../../../__pv_it/2cbe72a7ad6f655694dd697106680215e8489b600/expr.ipynb\"><img src=\"data:image/png;base64,iVBORw0KGgoAAAANSUhEUgAAAA8AAAAOBAMAAAACpFvcAAAALVBMVEX///8QEBBERERUVFS6urqI\n",
       "iIhmZmaqqqrc3Nzu7u6YmJgyMjIiIiLMzMwAAADtIaYWAAAAAXRSTlMAQObYZgAAAFtJREFUCNdj\n",
       "YACBOwxQsA9Kc52bAGG05zVAGAFxDmCaZULdAjBjCsO9ADDDgaEvAUTzGhvbKYCVMDAwbgAxChgY\n",
       "eASANAeQwf0AyJgNxEwvGRia5HYwcOm9TgAA6BoR3jrzwFcAAAAASUVORK5CYII=\n",
       "\" style=\"display:inline;vertical-align:middle;\" /></a> : <a class=\"ProveItLink\" href=\"../../../../../__pv_it/2cbe72a7ad6f655694dd697106680215e8489b600/expr.ipynb\"><img src=\"data:image/png;base64,iVBORw0KGgoAAAANSUhEUgAAAA8AAAAOBAMAAAACpFvcAAAALVBMVEX///8QEBBERERUVFS6urqI\n",
       "iIhmZmaqqqrc3Nzu7u6YmJgyMjIiIiLMzMwAAADtIaYWAAAAAXRSTlMAQObYZgAAAFtJREFUCNdj\n",
       "YACBOwxQsA9Kc52bAGG05zVAGAFxDmCaZULdAjBjCsO9ADDDgaEvAUTzGhvbKYCVMDAwbgAxChgY\n",
       "eASANAeQwf0AyJgNxEwvGRia5HYwcOm9TgAA6BoR3jrzwFcAAAAASUVORK5CYII=\n",
       "\" style=\"display:inline;vertical-align:middle;\" /></a>, <a class=\"ProveItLink\" href=\"../../../../../__pv_it/077b2ff79244fb4582cbe22c6e3356fa92a52f2f0/expr.ipynb\"><img src=\"data:image/png;base64,iVBORw0KGgoAAAANSUhEUgAAABAAAAAOBAMAAADUAYG5AAAAMFBMVEX///+qqqru7u4iIiJ2dnbc\n",
       "3NyIiIjMzMxmZmYQEBC6uroyMjJERERUVFSYmJgAAADLUcuvAAAAAXRSTlMAQObYZgAAAGpJREFU\n",
       "CNdjYGB4+//u3dMLGIBgDgMDxy8gzf4NiP8CGWxfGRj4vgAZPBMYGJgnARn8FxhY9ygAGfXX0pof\n",
       "gDTlBzAw2YIYJ0EckBBI53sHoBH/gIz7AhBjWH9DjancBLTl/N+7t/cxMAAA3u4f/5xagjYAAAAA\n",
       "SUVORK5CYII=\n",
       "\" style=\"display:inline;vertical-align:middle;\" /></a> : <a class=\"ProveItLink\" href=\"../../../../../__pv_it/077b2ff79244fb4582cbe22c6e3356fa92a52f2f0/expr.ipynb\"><img src=\"data:image/png;base64,iVBORw0KGgoAAAANSUhEUgAAABAAAAAOBAMAAADUAYG5AAAAMFBMVEX///+qqqru7u4iIiJ2dnbc\n",
       "3NyIiIjMzMxmZmYQEBC6uroyMjJERERUVFSYmJgAAADLUcuvAAAAAXRSTlMAQObYZgAAAGpJREFU\n",
       "CNdjYGB4+//u3dMLGIBgDgMDxy8gzf4NiP8CGWxfGRj4vgAZPBMYGJgnARn8FxhY9ygAGfXX0pof\n",
       "gDTlBzAw2YIYJ0EckBBI53sHoBH/gIz7AhBjWH9DjancBLTl/N+7t/cxMAAA3u4f/5xagjYAAAAA\n",
       "SUVORK5CYII=\n",
       "\" style=\"display:inline;vertical-align:middle;\" /></a></span></td></tr><tr><td>1</td><td>theorem</td><td></td><td><span style=\"font-size:20px;\"> <a class=\"ProveItLink\" href=\"../../_proofs_/demorgansLawAndToOrBin.ipynb\" style=\"text-decoration: none\">&#x22A2;&nbsp;</a><a class=\"ProveItLink\" href=\"../bec5a9a6fc23e0ef407d020b6a677efb815a7d400/expr.ipynb\"><img src=\"data:image/png;base64,iVBORw0KGgoAAAANSUhEUgAAAPsAAAAXBAMAAAA/2iRsAAAAMFBMVEX///8QEBC6urrMzMxUVFRm\n",
       "ZmZERETc3NwyMjKqqqp2dnaIiIiYmJgiIiLu7u4AAAAU9Wx4AAAAAXRSTlMAQObYZgAAA4NJREFU\n",
       "SMfFVk1oE0EU/pLNX5NNLJ70ZA6leFC6B8Ui1gYbiidbhAoK0ngw9aBtQLFVkAZB4kE0B+ulBYOg\n",
       "VpQSUA+lh0a9aBWsh16kaCoqXopF+qNSqm/e7E52Fxo9GBxmd2fez3zvzXvzZoH/28q1XNxbrMZ9\n",
       "Ss+0GLysEfwO+WlxkfWOxWT7RfgN4J6YX60RvLnuNd4JHhr89qSA7jiywFmaBVO1QY/Ivdffiwj7\n",
       "jAqllT6tCUwBIWL587WB98jEOtedobcmfIxKyiQRXhcwR6bd7e+/UKO93yo/xcm4+OToGZKUY/S8\n",
       "KSNAbi+n02//uNBpipBhm9epkYMM5Lmb7YhM//LNEkzonGQsAgO9QLgTaAN6AMW6sdTVblRSxcQo\n",
       "AOcr0xy0gjVWZKm4G6Kb7Qq/P3CoeeM1mWTa4sTjWeEE5V4DYllOkG8yT+oRqReDgA1ejCvpKSRv\n",
       "WRNFlorhuOhm28jvOAY7zUT0SVZkBZhPkIcEFEWE9+bTKrP8CXhX3PDDZGmlggjJL/QNw06WiuSK\n",
       "9EY0dkhLJjukjdOsJZYm2Agtoi3QtyTTcWyGWdEi/NNueIpOIKNmQlIco5aSnWwqtnG3wVMQPdKg\n",
       "w3gg6RvIc/2nhI9luTZpxTSzvhp4nnHDk7UeNWFJcYB7s3ayqTjBXbbNZjJGOZoYkCWWjjzZ7fsh\n",
       "Nx89+wTJh6PMapp41AsXvEY4zWrGkt4Epd8rO9lUbOAu20mRtQQfWpCKe8xIiWM/SGvqYleG2KYX\n",
       "mGTWKPCkXIG/k06ns4Ql1uSxKUkWBcohJoeJfEIpNttMug2ZJIE16cWpsjr22qayPHjwCJtiM119\n",
       "zDxO25h3ep+qI/jrVqJLSYLfCT1vkQNK0Q6/nWr6lhz0vu+c+rgkyYd+JZOXRbqHxEHQBaw/g1Y+\n",
       "7hSSJsMF76XMbbTgpSSRDohZo4I3FRuVKDmWcRavva5iNqdG2ygfS8EcgmsIzrhin4pReOYteJaE\n",
       "XtDIo3GLHFCKU9zNUlCoXkvvW4OPywh2zGqrGF3q2p93wRt4py4LQ0rCH/eVhYxJ1pTiQe7OC3ed\n",
       "VikQlrmuSme1cTppzlsxhKBIazcZ4g6vrHqmKrzPFRvsWgf+M5nq/CcYtjxw/SpQFbTVx2DVn62H\n",
       "bkJpHfg6Yow4JBPWYMTlEfd/0ByrPKPA2G/WsPpD1Z0X7hj3v26/Ad1J6iLc1cU5AAAAAElFTkSu\n",
       "QmCC\n",
       "\" style=\"display:inline;vertical-align:middle;\" /></a></span></td></tr>\n",
       "<tr><td>&nbsp;</td><td colspan=4 style-\"text-align:left\"><a class=\"ProveItLink\" href=\"../../_proofs_/demorgansLawAndToOrBin.ipynb\">proveit.logic.boolean.disjunction.demorgansLawAndToOrBin</a></td></tr><tr><td>2</td><td>assumption</td><td></td><td><span style=\"font-size:20px;\"><a class=\"ProveItLink\" href=\"../13cce7667c8b30ca276bb96e5eda2788215458bb0/expr.ipynb\"><img src=\"data:image/png;base64,iVBORw0KGgoAAAANSUhEUgAAAKcAAAAVBAMAAADROuOhAAAAMFBMVEX////c3NxERESqqqpUVFS6\n",
       "urrMzMwyMjIQEBCIiIh2dnYiIiLu7u5mZmaYmJgAAABXZE4RAAAAAXRSTlMAQObYZgAAAktJREFU\n",
       "OMutlT2IE1EQxydfm+xmsxewECsFC68QTGclRNmzdcsTLMKRwi5pDitREb3G4iohhRiwUUFI6cch\n",
       "6RRsDgstBA2CiGdxfkREUc+ZN/Pevre7nI0Dv307s//M+5r3AgDRa/h/5t1tUxM+dKKnBcfeZQM5\n",
       "RZQw4F0m1//k9NRlrMgEoNXLjCdVRKfm8YlVgBfAwEt6BBdteX3KWBHqdMjvpWmq0tY4APAmgTqF\n",
       "yb+dTzoSUvv4Cx9bkmwzVWkbrCNdiMagKEp6TTBWOvYZn0/ZWdlIVdpu4s5sjyHENERB0tqQSc33\n",
       "v+Gz3FHO0siojC0i93E5DgKTT9oaM6mdqfwhkZp3OGwalbE5wN7D2N4TVNKW3W19xhgLE+8HNhUl\n",
       "CmatjlaZQpiPbjyml6PCNjlnsbpePUKjem0kjAnUoPSbGjWdJpRUclvh45I/owpbFmgz+1d1n31k\n",
       "IWFMoB/HX2g8qpg/AJwEcBVl7M6nFRoIcAjnsdzbLSm+r5mkGxxzFAs4yuinlbRJC14dWjkaHUYH\n",
       "KrS1evoVnFi9Da5igOOqfrWmr9Y0mFhJyzNGB/Zgc4EOI/VMCSmxo6Ay3U9f3wtuSXlSOsGmCYSk\n",
       "PjKV2AoFJ+AoqEy9tWm2pNzinzBymha/t+HtznkcJK3ikj6hqQKe78TxOTXwVaHgmF4SMqaOqdqe\n",
       "GhQrdjmm6ubYyv/kjusWKIJ1hpNG/7j6+Hy6fl4BTwS+T8MHzqXUZVyrtl0/r4DjgneF7+5b9sd9\n",
       "gmPXs4Gcwu8x6j/qLwN8qLW8oJ3QAAAAAElFTkSuQmCC\n",
       "\" style=\"display:inline;vertical-align:middle;\" /></a> <a class=\"ProveItLink\" href=\"../1e3f771db8ab1e87436a8e2e61200527138f33580/proof.ipynb\" style=\"text-decoration: none\">&#x22A2;&nbsp;</a><a class=\"ProveItLink\" href=\"../d78ecc3093173dc93677e6dd0c149c0be6ebf49c0/expr.ipynb\"><img src=\"data:image/png;base64,iVBORw0KGgoAAAANSUhEUgAAAJIAAAAVBAMAAABf4KrdAAAAMFBMVEX////c3NxERESqqqqYmJgQ\n",
       "EBDu7u4yMjKIiIi6urpUVFTMzMx2dnYiIiJmZmYAAABjE816AAAAAXRSTlMAQObYZgAAAfhJREFU\n",
       "OMu1lDtsE0EQhn8/Yp9jx7FEAR1IKGlxlw5ZaQDJiNCQ1g2iQnKH0kBKS5HINUGUTrocBVHKNHZJ\n",
       "hVyAqyBFtAjxFA8LEWZ2ZndvfSZdfunbvR3/t7c7u2PgPPRcCXRrlitQMRa8qn0hFRkB9YPwvZSj\n",
       "+HKS7G0AHyA4lTtCKvKZmq485zreZTV3BfgUo8zh9Hs9xev2D2raOsOJd1kNNok+ikMYnO4pTrnr\n",
       "X6i9L4PDsXdZbTeAO0OU1mCwqnQFryj6TW2+aQb7PedyWiLe0m6vQlDVh4LXs8J3amtmW6XugnM5\n",
       "TYCLy9S/Vmx6W4JTKa7+oq5gVlFr1ZvW5Y5x0nv6hh9WDB/fkY75IGLBBSrI/eXOZGABOTNj2hFR\n",
       "Gh/ypdhRSEfEYiy4wFGSfOUv81XATeAFEDry9I2IEzBQ/jcTPa+7mcYSCxyLtJ7in+xMc03BBgp8\n",
       "MHZ3BUp7uYHQMaCczX/L7i7fEmzgAnVPuCY4PzwLzxY4+Dpd5l9vKLwDPe3aiT0WOnbqrnU0dsjB\n",
       "EQIHX6fqeid7CyojQe/30s8GVk8f03I4M/u2ULwD70+T5JFZ4oZidVeZkqkWk+cKZjumq8WUajvr\n",
       "exUOZzhqm8IZ/ypSJuE468ADxZd+Xwg13wjHWQd2Fa9LSqCt6UDGER0Y/gEsx5IGu5ShYgAAAABJ\n",
       "RU5ErkJggg==\n",
       "\" style=\"display:inline;vertical-align:middle;\" /></a></span></td></tr>\n",
       "</table>"
      ],
      "text/plain": [
       "<proveit._core_.proof._ShowProof at 0x7f94ebd42978>"
      ]
     },
     "execution_count": 1,
     "metadata": {},
     "output_type": "execute_result"
    }
   ],
   "source": [
    "import proveit\n",
    "%show_proof"
   ]
  },
  {
   "cell_type": "code",
   "execution_count": null,
   "metadata": {},
   "outputs": [],
   "source": []
  }
 ],
 "metadata": {
  "kernelspec": {
   "display_name": "Python 3",
   "language": "python",
   "name": "python3"
  }
 },
 "nbformat": 4,
 "nbformat_minor": 0
}
