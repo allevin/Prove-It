{
 "cells": [
  {
   "cell_type": "markdown",
   "metadata": {},
   "source": [
    "Expression of type <a class=\"ProveItLink\" href=\"../../../../../../../doc/html/api/proveit.ExprTuple.html\">ExprTuple</a>\n",
    "=======================\n",
    "# from context <a class=\"ProveItLink\" href=\"../../_context_.ipynb\">proveit.logic.boolean.disjunction</a>"
   ]
  },
  {
   "cell_type": "code",
   "execution_count": 1,
   "metadata": {},
   "outputs": [],
   "source": [
    "# import Expression classes needed to build the expression\n",
    "from proveit import ExprTuple\n",
    "from proveit.number import Add, five, one, six"
   ]
  },
  {
   "cell_type": "code",
   "execution_count": 2,
   "metadata": {},
   "outputs": [
    {
     "data": {
      "text/html": [
       "<strong id=\"expr\">expr:</strong> <a class=\"ProveItLink\" href=\"expr.ipynb\"><img src=\"data:image/png;base64,iVBORw0KGgoAAAANSUhEUgAAAE0AAAAVBAMAAADx+n4ZAAAAMFBMVEX////c3NwiIiJERESqqqqY\n",
       "mJh2dnZmZmYQEBDu7u4yMjJUVFTMzMyIiIi6uroAAAAs73DqAAAAAXRSTlMAQObYZgAAAUlJREFU\n",
       "KM9jYCAW8F0gqCQORJxmYFg6QcwBTYp5ApQxrSyHgf0AkLGSgaH//zc0ZZz2UHWMOgybGBgWMDDw\n",
       "Aq1dvu0AVH4iVNnu/VB1TAkMqxgYwhgYOIACG+Dm+MIY96Hq4sH0DAaGVwx41a2AuNaBoQxI7b27\n",
       "D5e6X2evA73IVsCwFMixZJj/ALs6zk8BDKoMDCwLGPrAfO4GHOr+MzDkT2Dga2D4B+az/cFlHtAr\n",
       "Dgw8H0DqmBUY2EDKq1at0li1ajWq+4DqLoDUtQCDRoGB/SMOfxiBzQPaa8rAwM7AwLUAizqQUn+w\n",
       "+1gXMKQD46aAwUMAUx3IbQzMCZyt4HB5BOQcr96IFn7l/csDOPtBmqurgUHG9YCBQwA5/n1RUhxc\n",
       "ChhvrAnIUm+ROaxwVi4kXeEAcHWcIF9K41QHT+jcIAcwEk73dxgYAHtnXszIp7piAAAAAElFTkSu\n",
       "QmCC\n",
       "\" style=\"display:inline;vertical-align:middle;\" /></a><br>"
      ],
      "text/plain": [
       "expr: (5 + 1 , 6)"
      ]
     },
     "execution_count": 2,
     "metadata": {},
     "output_type": "execute_result"
    }
   ],
   "source": [
    "# build up the expression from sub-expressions\n",
    "expr = ExprTuple(Add(five, one), six)"
   ]
  },
  {
   "cell_type": "code",
   "execution_count": 3,
   "metadata": {},
   "outputs": [
    {
     "name": "stdout",
     "output_type": "stream",
     "text": [
      "Passed sanity check: built 'expr' is the same as the stored Expression.\n"
     ]
    }
   ],
   "source": [
    "# check that the built expression is the same as the stored expression\n",
    "%check_expr"
   ]
  },
  {
   "cell_type": "code",
   "execution_count": 4,
   "metadata": {},
   "outputs": [
    {
     "data": {
      "text/html": [
       "<table><tr><th>&nbsp;</th><th>core type</th><th>sub-expressions</th><th>expression</th></tr>\n",
       "<tr><td>0</td><td>ExprTuple</td><td>1, 2</td><td><a class=\"ProveItLink\" href=\"expr.ipynb\"><img src=\"data:image/png;base64,iVBORw0KGgoAAAANSUhEUgAAAE0AAAAVBAMAAADx+n4ZAAAAMFBMVEX////c3NwiIiJERESqqqqY\n",
       "mJh2dnZmZmYQEBDu7u4yMjJUVFTMzMyIiIi6uroAAAAs73DqAAAAAXRSTlMAQObYZgAAAUlJREFU\n",
       "KM9jYCAW8F0gqCQORJxmYFg6QcwBTYp5ApQxrSyHgf0AkLGSgaH//zc0ZZz2UHWMOgybGBgWMDDw\n",
       "Aq1dvu0AVH4iVNnu/VB1TAkMqxgYwhgYOIACG+Dm+MIY96Hq4sH0DAaGVwx41a2AuNaBoQxI7b27\n",
       "D5e6X2evA73IVsCwFMixZJj/ALs6zk8BDKoMDCwLGPrAfO4GHOr+MzDkT2Dga2D4B+az/cFlHtAr\n",
       "Dgw8H0DqmBUY2EDKq1at0li1ajWq+4DqLoDUtQCDRoGB/SMOfxiBzQPaa8rAwM7AwLUAizqQUn+w\n",
       "+1gXMKQD46aAwUMAUx3IbQzMCZyt4HB5BOQcr96IFn7l/csDOPtBmqurgUHG9YCBQwA5/n1RUhxc\n",
       "ChhvrAnIUm+ROaxwVi4kXeEAcHWcIF9K41QHT+jcIAcwEk73dxgYAHtnXszIp7piAAAAAElFTkSu\n",
       "QmCC\n",
       "\" style=\"display:inline;vertical-align:middle;\" /></a></td></tr>\n",
       "<tr><td>1</td><td>Operation</td><td>operator:&nbsp;3<br>operands:&nbsp;4<br></td><td><a class=\"ProveItLink\" href=\"../ebe65d6696577562270749c9ddafb13e1c76a4ad0/expr.ipynb\"><img src=\"data:image/png;base64,iVBORw0KGgoAAAANSUhEUgAAACsAAAAQBAMAAAB9zpudAAAAMFBMVEX///8iIiJERES6urqIiIjM\n",
       "zMxUVFRmZmYQEBCqqqp2dnbc3Nzu7u6YmJgyMjIAAADYGhJvAAAAAXRSTlMAQObYZgAAAH9JREFU\n",
       "GNNj4LvDvZIBFTAdYGDg+P9/Aaoojz5QmK9sKYy7AUKl5QOF2eCqOB2gDH88wi5uBliEmQ7wfMYi\n",
       "DAQZ2IXXB2AKKwKFgYazv3v3sO/duwSYcCMDQ/0GTNUFDAzvsJi9nYGzG4swa3naBlTh8v7nF5CC\n",
       "CK4aFTAjCQMArecqriCJ90gAAAAASUVORK5CYII=\n",
       "\" style=\"display:inline;vertical-align:middle;\" /></a></td></tr>\n",
       "<tr><td>2</td><td>Literal</td><td></td><td><a class=\"ProveItLink\" href=\"../../../../../number/numeral/__pv_it/09b499e53e24cf89c2513ba78b501f0314edaa680/expr.ipynb\"><img src=\"data:image/png;base64,iVBORw0KGgoAAAANSUhEUgAAAAoAAAAOBAMAAADkjZCYAAAAMFBMVEX///+6urpERESqqqqIiIgQ\n",
       "EBCYmJgyMjJUVFQiIiLc3NzMzMxmZmZ2dnbu7u4AAABf+mkYAAAAAXRSTlMAQObYZgAAAFNJREFU\n",
       "CNdjYOC7c3cDA8PKDRwTGBjmMrAXMLD9YwAC9gAQyV/tcpiB4f00Bs4EhvcfGHj/MbyfwMD2mYEf\n",
       "qOwLAxOYzQwWZ9BleJrAwMDT08gAANMyF0ZGTeKAAAAAAElFTkSuQmCC\n",
       "\" style=\"display:inline;vertical-align:middle;\" /></a></td></tr>\n",
       "<tr><td>3</td><td>Literal</td><td></td><td><a class=\"ProveItLink\" href=\"../../../../../number/addition/__pv_it/3e6688136fa3c7aefbebe51301b7c3ebf0b69c440/expr.ipynb\"><img src=\"data:image/png;base64,iVBORw0KGgoAAAANSUhEUgAAAA4AAAAOBAMAAADtZjDiAAAAJFBMVEX///+6urpUVFQQEBAiIiIy\n",
       "MjJmZmaIiIiqqqrc3Nzu7u4AAACgHpL+AAAAAXRSTlMAQObYZgAAAB5JREFUCNdjYGBgWMkAAe2k\n",
       "0Kmhoc6hoUGk6BMHYgAHOwjcado9fwAAAABJRU5ErkJggg==\n",
       "\" style=\"display:inline;vertical-align:middle;\" /></a></td></tr>\n",
       "<tr><td>4</td><td>ExprTuple</td><td>5, 6</td><td><a class=\"ProveItLink\" href=\"../9933724d66c2ee6344e799d905f84a41fc5f144c0/expr.ipynb\"><img src=\"data:image/png;base64,iVBORw0KGgoAAAANSUhEUgAAACkAAAAVBAMAAAAp9toTAAAAMFBMVEX////c3NwiIiJERESqqqqY\n",
       "mJh2dnZmZmYQEBDu7u4yMjJUVFTMzMyIiIi6uroAAAAs73DqAAAAAXRSTlMAQObYZgAAAOdJREFU\n",
       "GNNjYMAO+C6gCcSBiNMMDEsniDlAhSwZGNgPAOmVDAz9/79BBSf/BBILGBh4gQYs33YAIjh7N0g0\n",
       "jIGBYwIDwwa4mbwg0RkMDK8YMESZHRjKgNTeu/uQRdkKGJaCLZ7/AEmUZQFDH5jH3YAkytfA8A/M\n",
       "Y/uDJMrzASTKrMDA9g9VtAXoOAUG9o+oJpgCvcjAwLWAYQJclHUBQzoDA2MBg4cA5ydklz0CUser\n",
       "NzJw9gsAdVX8KgVqfMDAIQALURgD5GPWBCibFe7tXEhIoopyAkOSQRrKgUcJN8goRvQYusPAAABW\n",
       "HT5/zQD4xAAAAABJRU5ErkJggg==\n",
       "\" style=\"display:inline;vertical-align:middle;\" /></a></td></tr>\n",
       "<tr><td>5</td><td>Literal</td><td></td><td><a class=\"ProveItLink\" href=\"../../../../../number/numeral/__pv_it/aaeeaca7d86eb2b7cdc49e25c3108b81b52ec5400/expr.ipynb\"><img src=\"data:image/png;base64,iVBORw0KGgoAAAANSUhEUgAAAAkAAAAOBAMAAAAPuiubAAAAMFBMVEX///8iIiJERES6urqIiIjM\n",
       "zMxUVFRmZmYQEBCqqqp2dnbc3Nzu7u6YmJgyMjIAAADYGhJvAAAAAXRSTlMAQObYZgAAAE1JREFU\n",
       "CNdj4LvDvZKBgeP//wUMDHxlSxkYGNgYGBCki5sBAwPTAZ7PYG4GmFwfwKAIJA0YGhkY6jcwFDAw\n",
       "vGNg2M7A2c3AwFqetoEBAKS8EE1WXEJLAAAAAElFTkSuQmCC\n",
       "\" style=\"display:inline;vertical-align:middle;\" /></a></td></tr>\n",
       "<tr><td>6</td><td>Literal</td><td></td><td><a class=\"ProveItLink\" href=\"../../../../../number/numeral/__pv_it/9be8badea4c35b9724062cecc501d17a3158d1d20/expr.ipynb\"><img src=\"data:image/png;base64,iVBORw0KGgoAAAANSUhEUgAAAAgAAAAPBAMAAAArJJMAAAAAHlBMVEX///+YmJgyMjIQEBBmZmaI\n",
       "iIhUVFTu7u5EREQAAAAw+MI4AAAAAXRSTlMAQObYZgAAACFJREFUCNdjYGBoZ2BgqJjOwFCWBiQY\n",
       "WEklWJwnOTKAAACjEQo8HvEr3AAAAABJRU5ErkJggg==\n",
       "\" style=\"display:inline;vertical-align:middle;\" /></a></td></tr>\n",
       "</table>\n"
      ],
      "text/plain": [
       "0. (5 + 1 , 6)\n",
       "   core type: ExprTuple\n",
       "   sub-expressions: 1, 2\n",
       "1. 5 + 1\n",
       "   core type: Operation\n",
       "   operator: 3\n",
       "   operands: 4\n",
       "2. 6\n",
       "   core type: Literal\n",
       "   sub-expressions: \n",
       "3. +\n",
       "   core type: Literal\n",
       "   sub-expressions: \n",
       "4. (5 , 1)\n",
       "   core type: ExprTuple\n",
       "   sub-expressions: 5, 6\n",
       "5. 5\n",
       "   core type: Literal\n",
       "   sub-expressions: \n",
       "6. 1\n",
       "   core type: Literal\n",
       "   sub-expressions: "
      ]
     },
     "execution_count": 4,
     "metadata": {},
     "output_type": "execute_result"
    }
   ],
   "source": [
    "# display the expression information\n",
    "expr.exprInfo()"
   ]
  },
  {
   "cell_type": "code",
   "execution_count": null,
   "metadata": {},
   "outputs": [],
   "source": []
  }
 ],
 "metadata": {
  "kernelspec": {
   "display_name": "Python 3",
   "language": "python",
   "name": "python3"
  }
 },
 "nbformat": 4,
 "nbformat_minor": 0
}
