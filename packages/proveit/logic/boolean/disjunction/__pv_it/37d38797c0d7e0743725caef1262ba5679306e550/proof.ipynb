{
 "cells": [
  {
   "cell_type": "markdown",
   "metadata": {},
   "source": [
    "Show the Proof\n",
    "========"
   ]
  },
  {
   "cell_type": "code",
   "execution_count": 1,
   "metadata": {},
   "outputs": [
    {
     "data": {
      "text/html": [
       "<table><tr><th>&nbsp;</th><th>step type</th><th>requirements</th><th>statement</th></tr>\n",
       "<tr><td>0</td><td>assumption</td><td></td><td><span style=\"font-size:20px;\"><a class=\"ProveItLink\" href=\"../3bfce1336842d0d57760e9526491e8f9bd3dcb970/expr.ipynb\"><img src=\"data:image/png;base64,iVBORw0KGgoAAAANSUhEUgAAASAAAAAVBAMAAAAUbS4ZAAAAMFBMVEX///9ERETc3NyqqqpUVFS6\n",
       "urrMzMwyMjIQEBCIiIh2dnYiIiLu7u5mZmaYmJgAAABJJ2g3AAAAAXRSTlMAQObYZgAAA8FJREFU\n",
       "SMfNVk1IVFEU/hydH59vni6CoiAnClqFs3IXGUxWiIy7gggVhKSiJgkKMi2icBFlEEGLUGpTUOmi\n",
       "TSL4CEJdFENBRFHOooIiyMqSTKpz7rnzc6aYktn04N15893zfffcc8497wHwXuI/ufZe5dEdWwIl\n",
       "OFhy+nWZHnXHaaietf/2Fc2++plILG/TWBcP08teZDZo/CLZHupAtKNIozo5l0j0p36z3fZN27kX\n",
       "Wl8G0oiypXPCgv0mBOZRdE8C0S8a62XCOWA33TDOhoQ8D1R+BlLFGrWEVNZpjGyxWvOvZxB8mhFf\n",
       "sg55Ez6NVcypNokJ0S5CcwrjwT1Gds4n+tfMVpcNObRAw4yPd9AaaOeftMKCCza5ef7kOA0jMe3Q\n",
       "2pkYK9NuUOObcNOi3oLCIjSEz7IokzrZalxSw5E8OIgpaA2MkCPuoMIciiQaFf+oLyWjHBocMiHs\n",
       "oXujASpoouaswnZwHLjwKN/kGu2gMi22XIgNTaiIaw2ug2HEFBZeRADvC/lRdhEbtENBf1MGltQj\n",
       "6W9C4JCvsGfkyrwpQs4Ai7Eo23IADjbBSWsNfIRnZAt1R/HQPOT4Dab07llfonIG7nPEJawmvKS/\n",
       "/fJzEcthfWT+I382xm3YIdwPw6hMaY3gfKI/pjXQnsYjzZ/JWEGPA90tJ7sNDWZ3VHhVggzF4N6B\n",
       "wk6T8Ke8Q1SQW+RpiCOWbJPaKtBwviIMrYGRwy0nNH8illU8Tp3ljByTRCIpGxjFpEyu4IUyCqPS\n",
       "rTVty5Vdw7Utpp6HAZKZ1RrhWTj2ZOewfh9NUPyfdF85spJrkXKws8P2joiIP8ZtMZ+TLBRi5FDE\n",
       "LNlo/kbjTiZbKhTvHzmHchpUWwFMa+w7XMvK8gdM4Dh+/NaoMn7Q6aiRQK6nvZiYcbEk4wo7ReaL\n",
       "kM7CZy1VI8rcshCps+0gby9t6KbCTBuC4id925dNDTlsF4ib8Jq2dkBaGrchOVJ5bLVd25Emg+a3\n",
       "tkC+0rCcQC+l7E0bCqQV5nzJF6Hl85EwS+WPPae3YlF2u8rPtaHuXijsFmcxjqA9JeiUtmja0B5e\n",
       "V459zt5se1+HwsKzeYcsn5PdNVbo0JrzPfDq59PZSuf81s8ltvYVVD9fu1h4a+vjLBwWxgOy3fzE\n",
       "AG2F9u5meo+2fFcaZPsIRXx0HX6ReYOiTp279v/hu8BikZiGQ36R3dTfNUrx/+xQicsb/ovBjfK+\n",
       "h4wv3hIcQm/paTdVnkPmreHeXQJjXenpqliZX4ymBL1r/84IlP6EvVT+N/UvEcoi92EVM38AAAAA\n",
       "SUVORK5CYII=\n",
       "\" style=\"display:inline;vertical-align:middle;\" /></a> <a class=\"ProveItLink\" href=\"proof.ipynb\" style=\"text-decoration: none\">&#x22A2;&nbsp;</a><a class=\"ProveItLink\" href=\"../6760333ab303671bcb05683b76877150e0ff315e0/expr.ipynb\"><img src=\"data:image/png;base64,iVBORw0KGgoAAAANSUhEUgAAAQ0AAAAVBAMAAACuzqZ5AAAAMFBMVEX///92dnYQEBBERERUVFS6\n",
       "urqIiIhmZmaqqqrc3Nzu7u6YmJgyMjIiIiLMzMwAAACFkkdwAAAAAXRSTlMAQObYZgAAA25JREFU\n",
       "SMfVVk9IFGEUf7Pruruzf5QOBXVQjCDskEU3DZec8qLu3roULhR2y62LSpR782YLBXUIHISMyMMG\n",
       "1aFDLSmEWqxBJy9KeqrEldZIXbX3vTc7s2+LNSiEFuabb37zfr/vfe+9780C/G8/T7zi6+f/Yo3l\n",
       "sudnO4bREpPYkhrGTvWl70n8MtpOLIB3oUyjOpo3jGzmF9sz36Wdfqn9hj/B8yxtmKYsdxjAuyax\n",
       "aby0YwDn8QLyMczkAoDvB0CmXKMGEV+TxNAWmiV/Xxo819M0DcybOFYp02qKfhh9DucFpgb9Pdpp\n",
       "6/jUpax6iBxexWHQhKcgNaBb3RIC86xaGXT443M41KWIcX9Q3cPoO4RMiimuFVgVmAuHYKPSqsdh\n",
       "UVnNcfxV3FbiMApSA+pwfT0uMA3jBsOC/8Z06iLeS3GawmuIADeuFWoU2AW16yQOlMsgOu7jpLpz\n",
       "OIxEwJ2UGirZtZASWHAD/PCylO9VngGXnMe8TfkZsjiY2gj4J0yBXUMPClRXKsxKI8jBrFHbXYmA\n",
       "lpAa8A0CnPYS3Vl4QhObP0Jl9ZjAhyqsHDuKIcqe67nJGjY2g75vOlU+Z8UWmPu6FnwZqeEpGNmU\n",
       "1IDuBAxI/mDa0YzBCO0Fa6mKD2tvCvSPILAjqLfucLDGzvKsV8UnGuO6KdHQtiEIUgPqJjvrJX8+\n",
       "ZUuGDSPK7s7COEMnlX5aYFiNNTnKC+8RdKs1tKqhAWVyUiOYA806mjaWNSECgr+D15V3J6wz72LN\n",
       "fjjEVnkOdSmGfrhopWF69Ca1dLEM8Gxt2n7YGlg3fhiT2BboFqvIb6AwUbSwzkMcrQfoOUVIFUI0\n",
       "KbCj2Ag2gDuCOjWZkBVN1R5dTdZ5duy5fRwUGLUPEPyoWWyj/iTFkLrQF+5Aqn3w4XCwZmtJjZsD\n",
       "dL2wkr+NQwuCgYywp/Zh9esipq05BWbxVZXzUip17g3e22nTbh+fpkFgB1SqkuCx6h0WuYtR+/iq\n",
       "luNza9vTJpcXBGZtt5SvMrr0ASd3jk9BoLXAIm85d615o2OmSGAMLiq9jvb+IhxkxiO0bbtFQKzU\n",
       "Xm/DT1rnltBA2wEo48PSZF/6Vfl39/NvvsUW5kpJOGyW2Y3urlGR/4e/QO0uBvv36H/QdOXXemaP\n",
       "/Lhb+XVVao/88Ff+X3j179R/AjUJFOFDbL+oAAAAAElFTkSuQmCC\n",
       "\" style=\"display:inline;vertical-align:middle;\" /></a></span></td></tr>\n",
       "</table>"
      ],
      "text/plain": [
       "<proveit._core_.proof._ShowProof at 0x7f950009dc50>"
      ]
     },
     "execution_count": 1,
     "metadata": {},
     "output_type": "execute_result"
    }
   ],
   "source": [
    "import proveit\n",
    "%show_proof"
   ]
  },
  {
   "cell_type": "code",
   "execution_count": null,
   "metadata": {},
   "outputs": [],
   "source": []
  }
 ],
 "metadata": {
  "kernelspec": {
   "display_name": "Python 3",
   "language": "python",
   "name": "python3"
  }
 },
 "nbformat": 4,
 "nbformat_minor": 0
}
