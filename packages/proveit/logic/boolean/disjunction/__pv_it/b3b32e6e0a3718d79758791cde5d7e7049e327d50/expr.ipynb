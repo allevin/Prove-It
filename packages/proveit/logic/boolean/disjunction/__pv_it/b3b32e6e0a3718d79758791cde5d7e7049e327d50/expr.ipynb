{
 "cells": [
  {
   "cell_type": "markdown",
   "metadata": {},
   "source": [
    "Expression of type <a class=\"ProveItLink\" href=\"../../../../../../../doc/html/api/proveit.ExprTuple.html\">ExprTuple</a>\n",
    "=======================\n",
    "# from context <a class=\"ProveItLink\" href=\"../../_context_.ipynb\">proveit.logic.boolean.disjunction</a>"
   ]
  },
  {
   "cell_type": "code",
   "execution_count": 1,
   "metadata": {},
   "outputs": [],
   "source": [
    "# import Expression classes needed to build the expression\n",
    "from proveit import ExprTuple\n",
    "from proveit.logic import And, Not, TRUE\n",
    "from proveit.logic.boolean.disjunction._theorems_ import trueOrFalse\n",
    "from proveit.logic.boolean.negation._theorems_ import notFalse"
   ]
  },
  {
   "cell_type": "code",
   "execution_count": 2,
   "metadata": {},
   "outputs": [
    {
     "data": {
      "text/html": [
       "<strong id=\"expr\">expr:</strong> <a class=\"ProveItLink\" href=\"expr.ipynb\"><img src=\"data:image/png;base64,iVBORw0KGgoAAAANSUhEUgAAAOUAAAAVBAMAAABLdTQ8AAAAMFBMVEX////c3NwiIiJERESqqqqY\n",
       "mJh2dnZmZmYQEBDu7u4yMjJUVFTMzMyIiIi6uroAAAAs73DqAAAAAXRSTlMAQObYZgAAAkVJREFU\n",
       "SMfFVrFKA0EQnUQTTXKeaVWEEEG0E9E+nWCVykJQbMRKCCJWFgo2NpJSbDwLERuJvUgghYWFfoBC\n",
       "tBJB0B8Qd2cmudlZ5bRy4G2Ylzd559zOrgD/EeG9ShzCRqata940scxIDlTdSuZWEn1ljCnYVnVB\n",
       "QySjKG0SVKEbXSWcS/pcEUHNrnnOhvgzXxeSG1wjhlsIgC0KlHJAdtImDkGlmRXKzph9BM9zgaE9\n",
       "r4S+q+yXz2wTh6DS3A4l0/zVvu95yNCeLbtMKuWrrH8FRXDpDK6FN2pBGPmePRWC9swXAXprSrkl\n",
       "67cYunQN1yMo0RZZ8T2zNYL2tH7W11GeyvpThi6dx3UVNunZq75nb0TQnravLa086Gxt+/AHhJjg\n",
       "0hdcSzBMb91sxg2rGI9/KdwheJ5m/1w7nkb1KWfuk9EluPQOd+89FHAEB9timvmXgneC55mGXOR4\n",
       "GtXvPdN1Pgz+5NlXyVa155602GNoT+ztnMEJ9rbie/7Y21SUBt3bWWkxy9Cei8B+c7jbq75nJiJA\n",
       "TnnC1ZLraVRrHabJM+EQYlaCKXw7IGYi+GZWjkvKszXpTdWz3PfPjLhFNIoX9kRo8+EIYan7vdm+\n",
       "E+XymJmfNgEOP2Shnayap+wvyrOvCC5BgWdfGJ/Zu/4VFZ99T/oSqnvKjDxUbOIQFFl1oy74nusM\n",
       "gGrCBbqedJcBH3pu5OteJyLozGGCJ6pGJDOiCYxLlacaWlEoEswbT/gzUZWSjbNJSv9vMtCE7258\n",
       "GQ+M5DCqL0Ljril1x24qAAAAAElFTkSuQmCC\n",
       "\" style=\"display:inline;vertical-align:middle;\" /></a><br>"
      ],
      "text/plain": [
       "expr: ([not]([not](TRUE) and [not](FALSE)) , TRUE or FALSE)"
      ]
     },
     "execution_count": 2,
     "metadata": {},
     "output_type": "execute_result"
    }
   ],
   "source": [
    "# build up the expression from sub-expressions\n",
    "expr = ExprTuple(Not(And(Not(TRUE), notFalse.expr)), trueOrFalse.expr)"
   ]
  },
  {
   "cell_type": "code",
   "execution_count": 3,
   "metadata": {},
   "outputs": [
    {
     "name": "stdout",
     "output_type": "stream",
     "text": [
      "Passed sanity check: built 'expr' is the same as the stored Expression.\n"
     ]
    }
   ],
   "source": [
    "# check that the built expression is the same as the stored expression\n",
    "%check_expr"
   ]
  },
  {
   "cell_type": "code",
   "execution_count": 4,
   "metadata": {},
   "outputs": [
    {
     "data": {
      "text/html": [
       "<table><tr><th>&nbsp;</th><th>core type</th><th>sub-expressions</th><th>expression</th></tr>\n",
       "<tr><td>0</td><td>ExprTuple</td><td>1, 2</td><td><a class=\"ProveItLink\" href=\"expr.ipynb\"><img src=\"data:image/png;base64,iVBORw0KGgoAAAANSUhEUgAAAOUAAAAVBAMAAABLdTQ8AAAAMFBMVEX////c3NwiIiJERESqqqqY\n",
       "mJh2dnZmZmYQEBDu7u4yMjJUVFTMzMyIiIi6uroAAAAs73DqAAAAAXRSTlMAQObYZgAAAkVJREFU\n",
       "SMfFVrFKA0EQnUQTTXKeaVWEEEG0E9E+nWCVykJQbMRKCCJWFgo2NpJSbDwLERuJvUgghYWFfoBC\n",
       "tBJB0B8Qd2cmudlZ5bRy4G2Ylzd559zOrgD/EeG9ShzCRqata940scxIDlTdSuZWEn1ljCnYVnVB\n",
       "QySjKG0SVKEbXSWcS/pcEUHNrnnOhvgzXxeSG1wjhlsIgC0KlHJAdtImDkGlmRXKzph9BM9zgaE9\n",
       "r4S+q+yXz2wTh6DS3A4l0/zVvu95yNCeLbtMKuWrrH8FRXDpDK6FN2pBGPmePRWC9swXAXprSrkl\n",
       "67cYunQN1yMo0RZZ8T2zNYL2tH7W11GeyvpThi6dx3UVNunZq75nb0TQnravLa086Gxt+/AHhJjg\n",
       "0hdcSzBMb91sxg2rGI9/KdwheJ5m/1w7nkb1KWfuk9EluPQOd+89FHAEB9timvmXgneC55mGXOR4\n",
       "GtXvPdN1Pgz+5NlXyVa155602GNoT+ztnMEJ9rbie/7Y21SUBt3bWWkxy9Cei8B+c7jbq75nJiJA\n",
       "TnnC1ZLraVRrHabJM+EQYlaCKXw7IGYi+GZWjkvKszXpTdWz3PfPjLhFNIoX9kRo8+EIYan7vdm+\n",
       "E+XymJmfNgEOP2Shnayap+wvyrOvCC5BgWdfGJ/Zu/4VFZ99T/oSqnvKjDxUbOIQFFl1oy74nusM\n",
       "gGrCBbqedJcBH3pu5OteJyLozGGCJ6pGJDOiCYxLlacaWlEoEswbT/gzUZWSjbNJSv9vMtCE7258\n",
       "GQ+M5DCqL0Ljril1x24qAAAAAElFTkSuQmCC\n",
       "\" style=\"display:inline;vertical-align:middle;\" /></a></td></tr>\n",
       "<tr><td>1</td><td>Operation</td><td>operator:&nbsp;11<br>operand:&nbsp;3<br></td><td><a class=\"ProveItLink\" href=\"../71fb13702c69d112825f3b55cad7e38e542389f00/expr.ipynb\"><img src=\"data:image/png;base64,iVBORw0KGgoAAAANSUhEUgAAAJIAAAAVBAMAAABf4KrdAAAAMFBMVEX////c3NxERESqqqqYmJgQ\n",
       "EBDu7u4yMjKIiIi6urpUVFTMzMx2dnYiIiJmZmYAAABjE816AAAAAXRSTlMAQObYZgAAAZxJREFU\n",
       "OMu1lL1LA0EQxSdfJmcuMaVYCfoHpLNNp0IKRRAshDRie4UE7FIKNmlEGyGWwSakFNErrSRYpDKQ\n",
       "XgVbO7Pz5m4vsxew8cHv9nbu9u3X7BL9h26EOe3qgNdRgXwXWJV7APqaGL1RdaAaPiTeM+z6IcQq\n",
       "tkCsJ34G0ij60k52PuWGQqwLQTk1pZ8pylLHccqHINahoJxOUBmOURZajtPSHohXMgDaKVvnoi/D\n",
       "vSbHiTYEUTUE2slHv0EFwc8Up1chWvAG0E45HqffqGJsZylOWwzv9rtZgC6IA+Lk8QpUKIOZH81G\n",
       "zgkSWqcrQXJkpQts0sCp/G2eO0T3XP1JZF/k9Cz8yWkcpeQfnAp1oJ14drlZk2LNVA9SnNTssg2g\n",
       "nfJmfYxLjpttpjhtCyYiu+1PyQaSWTA0byNK7vZgYRZ4I2D1iOwwa9ePjhPd2gScbeDxZLJOdE4g\n",
       "0r6gxKeFd8Lj01Jz/tCnhY9q03V6UbdR6Pzhd8DiWwUdBirQdpxOBXtt9cC8lvVs1hynO8FqVZjT\n",
       "pQ5k9O1bGjC/JN2EmHe5BNcAAAAASUVORK5CYII=\n",
       "\" style=\"display:inline;vertical-align:middle;\" /></a></td></tr>\n",
       "<tr><td>2</td><td>Operation</td><td>operator:&nbsp;4<br>operands:&nbsp;5<br></td><td><a class=\"ProveItLink\" href=\"../7ee56ac56fe7319585c441261a5a8301695cb6a90/expr.ipynb\"><img src=\"data:image/png;base64,iVBORw0KGgoAAAANSUhEUgAAADUAAAAPBAMAAAC2KZqIAAAAMFBMVEX///8QEBCYmJiqqqrc3Nwy\n",
       "MjLu7u6IiIhUVFS6urp2dnbMzMxEREQiIiJmZmYAAADfOGkeAAAAAXRSTlMAQObYZgAAAHhJREFU\n",
       "GNNjeHsXBO4woAKWAihjH4TiBJMbwCT3A1Q5DpAwewFWOe4DQII3AascQwgQ2zFgl7ODymOTA5oH\n",
       "NhebHNAdHBNwyDFcYEhlwCX3mGERTjlXoE5cchybCnDKcZ9NQJfbBQ/iODDJBwx82bt3D6AG/zYU\n",
       "HgBsMC5BQDKFNgAAAABJRU5ErkJggg==\n",
       "\" style=\"display:inline;vertical-align:middle;\" /></a></td></tr>\n",
       "<tr><td>3</td><td>Operation</td><td>operator:&nbsp;6<br>operands:&nbsp;7<br></td><td><a class=\"ProveItLink\" href=\"../b9454dd4f378d42fb8b6d34d9b67e50e2b83a08b0/expr.ipynb\"><img src=\"data:image/png;base64,iVBORw0KGgoAAAANSUhEUgAAAG8AAAAVBAMAAAC6Uq30AAAAMFBMVEX////c3NwiIiJERESqqqqY\n",
       "mJh2dnZmZmYQEBDu7u4yMjJUVFTMzMyIiIi6uroAAAAs73DqAAAAAXRSTlMAQObYZgAAAW5JREFU\n",
       "OMtjYCAb8F1AE2B9gK7kLbpAHIg4DeOxK4GBAUMNmjKeDUgcWbDSA0BiJbKSAhDJBeUxToDQXBOQ\n",
       "lBwHkwsYGHgvYGhkTYBqKIDQdxkwNIYxMHBMwNDI2QDhHdaE0J2YGmcwMLxiwNDIYALh7YNYxbcA\n",
       "UyOzA0MZFo3pYJJzARMk0BIwNbIVMCzFotELIhnA7gD2agCmRpYFDH2weEhAaHwBJpkYGMGO5ADG\n",
       "axFIhRpCI18Dwz/kyIJqPA8mYxkY9oBofliCOI3QyPMBj0ZNqFIcGluwaAQ7lQXI5hIAOdUBUyPQ\n",
       "qaZYNEaBw0QAopmBOQBTI+sCaNADwQG06DgMIhQgQQ81GyU6HqFEByTK1oGjH5ba+BTg8sDA1VBS\n",
       "UgY65wEDhwBGRoMkOXCQ8IGIRsy8OAORopEAG1oODcPUmIuWrSBgFhofJVtBUyOQkMbQuBGNz7gB\n",
       "XQU3yH+M6EUH7wF0dbLoAncYGAC9b1ZHVKbH4AAAAABJRU5ErkJggg==\n",
       "\" style=\"display:inline;vertical-align:middle;\" /></a></td></tr>\n",
       "<tr><td>4</td><td>Literal</td><td></td><td><a class=\"ProveItLink\" href=\"../087d0b4ded7c7e5bf3bba05ecb616d7a8051ff650/expr.ipynb\"><img src=\"data:image/png;base64,iVBORw0KGgoAAAANSUhEUgAAAAwAAAAOBAMAAADpk+DfAAAALVBMVEX///+YmJh2dnZmZmaqqqrc\n",
       "3NwyMjLu7u4iIiJERESIiIhUVFTMzMy6uroAAAD0I/TTAAAAAXRSTlMAQObYZgAAAEtJREFUCNdj\n",
       "uMAABDwMe0DUKoaTIKqdgS2AgYHFAITAzHYGsMQqBoa9QIqDgT0BSDE7MAkAKdYEDpAehj1SYOpk\n",
       "O5hiMwBTPAUMDAB33Atnw8aG2QAAAABJRU5ErkJggg==\n",
       "\" style=\"display:inline;vertical-align:middle;\" /></a></td></tr>\n",
       "<tr><td>5</td><td>ExprTuple</td><td>10, 12</td><td><a class=\"ProveItLink\" href=\"../0f60990fe1c69084ca218cead46950bf14732b6a0/expr.ipynb\"><img src=\"data:image/png;base64,iVBORw0KGgoAAAANSUhEUgAAADUAAAAVBAMAAAAUZLt1AAAAMFBMVEX////c3NwiIiJERESqqqqY\n",
       "mJh2dnZmZmYQEBDu7u4yMjJUVFTMzMyIiIi6uroAAAAs73DqAAAAAXRSTlMAQObYZgAAALFJREFU\n",
       "KM9jYMAH+C5gFY4DEacZ2JXAwAAmLAsi2A8AiZUgFk8BkpbjYHIBAwPvBRxyYQwMHBNwyM1gYHjF\n",
       "gEOO2YGhDJccWwHDUlxyLAsY+nDJ8TUw/MMlx/MBr1wLHjNNkeQmIMuxLmBIR8hxfkLzwyOIXAJI\n",
       "rl+AgaFISUlDSUmZgYHrAQOHAFJ0IbFBYcaagOCyIkdgLiyOMOU4gXHEII3gI6cAbpD5jNjTxB0G\n",
       "BgCWci1ZX87w6gAAAABJRU5ErkJggg==\n",
       "\" style=\"display:inline;vertical-align:middle;\" /></a></td></tr>\n",
       "<tr><td>6</td><td>Literal</td><td></td><td><a class=\"ProveItLink\" href=\"../../../conjunction/__pv_it/76b5f4f4c45c0b6a9b59b297fc07dfa9555698f50/expr.ipynb\"><img src=\"data:image/png;base64,iVBORw0KGgoAAAANSUhEUgAAAAwAAAAOBAMAAADpk+DfAAAALVBMVEX///+qqqqYmJh2dnaIiIi6\n",
       "urpUVFQiIiJERETMzMxmZmYyMjLu7u7c3NwAAABvwqPxAAAAAXRSTlMAQObYZgAAAEtJREFUCNdj\n",
       "YGDgPcAAAtwLwNSMGjCV6gIieTawgyhmBS4BIMXOwLsBSKkwMGQCKaC6aQwMjEBd3BdACMScAVJd\n",
       "wJAKolwYAkAUKwAk0guX6efcigAAAABJRU5ErkJggg==\n",
       "\" style=\"display:inline;vertical-align:middle;\" /></a></td></tr>\n",
       "<tr><td>7</td><td>ExprTuple</td><td>8, 9</td><td><a class=\"ProveItLink\" href=\"../be1b28e2cd007b9b859eefbac58404ebd3440c6d0/expr.ipynb\"><img src=\"data:image/png;base64,iVBORw0KGgoAAAANSUhEUgAAAFEAAAAVBAMAAADMaB9/AAAAMFBMVEX////c3NwiIiJERESqqqqY\n",
       "mJh2dnZmZmYQEBDu7u4yMjJUVFTMzMyIiIi6uroAAAAs73DqAAAAAXRSTlMAQObYZgAAAM1JREFU\n",
       "KM9jYCAe8F0gQlEciDgN47ErgYEBmiJZsNwBILESSZSnANO442ByAQMD7wWiVIYxMHBMIErlDAaG\n",
       "VwxEqWR2YCgjTiVbAcNS4lSyLGDogwVPAorKIpCQGkIlXwPDP5hxGzDNPI1QyfOBBJUtxKkE2m6K\n",
       "qXICFpWsCxjSYcIHYCo5P8GDAiWUHqGEEigAOPsFGJCCQENJSZmBgesBA4cAZjrEFALFJmsChigr\n",
       "lgSai5bqcKrkBKY6BmkMYSyZgBvkIEZicscdBgYAuNw2cse/q8YAAAAASUVORK5CYII=\n",
       "\" style=\"display:inline;vertical-align:middle;\" /></a></td></tr>\n",
       "<tr><td>8</td><td>Operation</td><td>operator:&nbsp;11<br>operand:&nbsp;10<br></td><td><a class=\"ProveItLink\" href=\"../64bca6f824ebeb308ac4ae8ae73cb3543228f2c30/expr.ipynb\"><img src=\"data:image/png;base64,iVBORw0KGgoAAAANSUhEUgAAABwAAAAOBAMAAADOPWE3AAAAGFBMVEX///9ERERUVFTMzMx2dnYi\n",
       "IiJmZmYAAADORshHAAAAAXRSTlMAQObYZgAAACZJREFUCNdjYICA1FAQCGRAADMGFEAxF2xDCKqs\n",
       "EQVcZiwWmQAxANt2B/RO11f4AAAAAElFTkSuQmCC\n",
       "\" style=\"display:inline;vertical-align:middle;\" /></a></td></tr>\n",
       "<tr><td>9</td><td>Operation</td><td>operator:&nbsp;11<br>operand:&nbsp;12<br></td><td><a class=\"ProveItLink\" href=\"../../../negation/__pv_it/01165fd25131c0df966b8e8c1626e275fd04f3050/expr.ipynb\"><img src=\"data:image/png;base64,iVBORw0KGgoAAAANSUhEUgAAABwAAAAOBAMAAADOPWE3AAAAIVBMVEX///9EREQQEBCIiIjc3NxU\n",
       "VFTMzMx2dnYiIiJmZmYAAADo3DW1AAAAAXRSTlMAQObYZgAAACVJREFUCNdjYIADZwYUkEll7owO\n",
       "IGhHlU2lgMuGbhHQgqaOjkYA4xoNxELsxwMAAAAASUVORK5CYII=\n",
       "\" style=\"display:inline;vertical-align:middle;\" /></a></td></tr>\n",
       "<tr><td>10</td><td>Literal</td><td></td><td><a class=\"ProveItLink\" href=\"../../../__pv_it/68a87cc3370287d726c7086ace789e680e4461c30/expr.ipynb\"><img src=\"data:image/png;base64,iVBORw0KGgoAAAANSUhEUgAAAA4AAAAOBAMAAADtZjDiAAAAFVBMVEX///92dnbMzMxEREQiIiJm\n",
       "ZmYAAABAT6GXAAAAAXRSTlMAQObYZgAAABhJREFUCNdjCHEBAWcGIFBlgABa0YpADAAxegPJJk4d\n",
       "XAAAAABJRU5ErkJggg==\n",
       "\" style=\"display:inline;vertical-align:middle;\" /></a></td></tr>\n",
       "<tr><td>11</td><td>Literal</td><td></td><td><a class=\"ProveItLink\" href=\"../../../negation/__pv_it/7bea79645543c2413aa17e787cca04e21046fde60/expr.ipynb\"><img src=\"data:image/png;base64,iVBORw0KGgoAAAANSUhEUgAAAAwAAAAGBAMAAAAFwGKyAAAAFVBMVEX///9UVFTMzMx2dnYiIiJm\n",
       "ZmYAAACWz4ZEAAAAAXRSTlMAQObYZgAAABRJREFUCNdjCHEBAmcGMFDEQzEBAEl+Ai6uYJv/AAAA\n",
       "AElFTkSuQmCC\n",
       "\" style=\"display:inline;vertical-align:middle;\" /></a></td></tr>\n",
       "<tr><td>12</td><td>Literal</td><td></td><td><a class=\"ProveItLink\" href=\"../../../__pv_it/8f1f7fac882de28c72b62ab80a1700b6d8fd066b0/expr.ipynb\"><img src=\"data:image/png;base64,iVBORw0KGgoAAAANSUhEUgAAAA4AAAAOBAMAAADtZjDiAAAAG1BMVEX///9EREQQEBAiIiJmZmbM\n",
       "zMyIiIjc3NwAAACryk5kAAAAAXRSTlMAQObYZgAAABlJREFUCNdjYGBgKGOAgBBa0s7GxkbGxoYA\n",
       "FMUF2aBfHgoAAAAASUVORK5CYII=\n",
       "\" style=\"display:inline;vertical-align:middle;\" /></a></td></tr>\n",
       "</table>\n"
      ],
      "text/plain": [
       "0. ([not]([not](TRUE) and [not](FALSE)) , TRUE or FALSE)\n",
       "   core type: ExprTuple\n",
       "   sub-expressions: 1, 2\n",
       "1. [not]([not](TRUE) and [not](FALSE))\n",
       "   core type: Operation\n",
       "   operator: 11\n",
       "   operand: 3\n",
       "2. TRUE or FALSE\n",
       "   core type: Operation\n",
       "   operator: 4\n",
       "   operands: 5\n",
       "3. [not](TRUE) and [not](FALSE)\n",
       "   core type: Operation\n",
       "   operator: 6\n",
       "   operands: 7\n",
       "4. or\n",
       "   core type: Literal\n",
       "   sub-expressions: \n",
       "5. (TRUE , FALSE)\n",
       "   core type: ExprTuple\n",
       "   sub-expressions: 10, 12\n",
       "6. and\n",
       "   core type: Literal\n",
       "   sub-expressions: \n",
       "7. ([not](TRUE) , [not](FALSE))\n",
       "   core type: ExprTuple\n",
       "   sub-expressions: 8, 9\n",
       "8. [not](TRUE)\n",
       "   core type: Operation\n",
       "   operator: 11\n",
       "   operand: 10\n",
       "9. [not](FALSE)\n",
       "   core type: Operation\n",
       "   operator: 11\n",
       "   operand: 12\n",
       "10. TRUE\n",
       "    core type: Literal\n",
       "    sub-expressions: \n",
       "11. not\n",
       "    core type: Literal\n",
       "    sub-expressions: \n",
       "12. FALSE\n",
       "    core type: Literal\n",
       "    sub-expressions: "
      ]
     },
     "execution_count": 4,
     "metadata": {},
     "output_type": "execute_result"
    }
   ],
   "source": [
    "# display the expression information\n",
    "expr.exprInfo()"
   ]
  },
  {
   "cell_type": "code",
   "execution_count": null,
   "metadata": {},
   "outputs": [],
   "source": []
  }
 ],
 "metadata": {
  "kernelspec": {
   "display_name": "Python 3",
   "language": "python",
   "name": "python3"
  }
 },
 "nbformat": 4,
 "nbformat_minor": 0
}
