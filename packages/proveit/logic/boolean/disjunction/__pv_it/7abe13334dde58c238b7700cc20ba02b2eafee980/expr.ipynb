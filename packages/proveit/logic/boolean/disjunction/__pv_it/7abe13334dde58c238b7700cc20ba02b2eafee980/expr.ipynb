{
 "cells": [
  {
   "cell_type": "markdown",
   "metadata": {},
   "source": [
    "Expression of type <a class=\"ProveItLink\" href=\"../../../../../../../doc/html/api/proveit.logic.InSet.html\">InSet</a>\n",
    "=======================\n",
    "# from context <a class=\"ProveItLink\" href=\"../../_context_.ipynb\">proveit.logic.boolean.disjunction</a>"
   ]
  },
  {
   "cell_type": "code",
   "execution_count": 1,
   "metadata": {},
   "outputs": [],
   "source": [
    "# import Expression classes needed to build the expression\n",
    "from proveit._common_ import B\n",
    "from proveit.logic import Booleans, Equals, InSet, TRUE"
   ]
  },
  {
   "cell_type": "code",
   "execution_count": 2,
   "metadata": {},
   "outputs": [
    {
     "data": {
      "text/html": [
       "<strong id=\"expr\">expr:</strong> <a class=\"ProveItLink\" href=\"../d2dbf4147e1bdf3a3eb19398fe2255c554eedd630/expr.ipynb\"><img src=\"data:image/png;base64,iVBORw0KGgoAAAANSUhEUgAAAHEAAAAVBAMAAACDNRyvAAAAMFBMVEX////c3NwiIiJERESqqqqY\n",
       "mJh2dnZmZmYQEBDu7u4yMjJUVFTMzMyIiIi6uroAAAAs73DqAAAAAXRSTlMAQObYZgAAAW9JREFU\n",
       "OMtjYCAf8F3AL8/6AJfMaSCO/r97txWaCnYlMDBgqEHTkPV5/QplByBjJYjXDFT5D8NQngIQyYUu\n",
       "bPCWc2UaAwMvyLE8f4H4Nw6drAkYOhnuAY3jmABk834EKviGQydnA4Q3d5GSFkynK/cEhlcgNjNQ\n",
       "kqkTh04GEwhn6QQkO4UZGMpAbP4NDIyLJ+DSmQ4mhScgXMujasnAsBTEPr/3blEAOEBXgcEGFJ1e\n",
       "YNIQ4c9H+j+AodMHYt8XYODUZsBl5wuwbw2QQ+iuMwMDOC4sQLoDcOk8D04wTcDIhYcQM18CRCco\n",
       "QuIT8Ork2YBsJzODAUMLSPQrkNjvgJxwMF2rgK7TFBqdjL9w+jMKTG5F0Ql0bTo0Ok+sZMAfK5Me\n",
       "IOkMv8zA8AjoRPvfu3ctxZIZeCBeXwcmGZcfgKd4o26g1zgECGVDWOpj2QUNW1j2SyCkkw1XBl5J\n",
       "SOcsXBLShHRuxCXBSKA04T2AXRwAMiNp0Xnu720AAAAASUVORK5CYII=\n",
       "\" style=\"display:inline;vertical-align:middle;\" /></a><br>"
      ],
      "text/plain": [
       "expr: (B = TRUE) in BOOLEANS"
      ]
     },
     "execution_count": 2,
     "metadata": {},
     "output_type": "execute_result"
    }
   ],
   "source": [
    "# build up the expression from sub-expressions\n",
    "expr = InSet(Equals(B, TRUE), Booleans)"
   ]
  },
  {
   "cell_type": "code",
   "execution_count": 3,
   "metadata": {},
   "outputs": [
    {
     "name": "stdout",
     "output_type": "stream",
     "text": [
      "Passed sanity check: built 'expr' is the same as the stored Expression.\n"
     ]
    }
   ],
   "source": [
    "# check that the built expression is the same as the stored expression\n",
    "%check_expr"
   ]
  },
  {
   "cell_type": "code",
   "execution_count": 4,
   "metadata": {},
   "outputs": [
    {
     "data": {
      "text/html": [
       "<table><tr><th>&nbsp;</th><th>core type</th><th>sub-expressions</th><th>expression</th></tr>\n",
       "<tr><td>0</td><td>Operation</td><td>operator:&nbsp;1<br>operands:&nbsp;2<br></td><td><a class=\"ProveItLink\" href=\"../d2dbf4147e1bdf3a3eb19398fe2255c554eedd630/expr.ipynb\"><img src=\"data:image/png;base64,iVBORw0KGgoAAAANSUhEUgAAAHEAAAAVBAMAAACDNRyvAAAAMFBMVEX////c3NwiIiJERESqqqqY\n",
       "mJh2dnZmZmYQEBDu7u4yMjJUVFTMzMyIiIi6uroAAAAs73DqAAAAAXRSTlMAQObYZgAAAW9JREFU\n",
       "OMtjYCAf8F3AL8/6AJfMaSCO/r97txWaCnYlMDBgqEHTkPV5/QplByBjJYjXDFT5D8NQngIQyYUu\n",
       "bPCWc2UaAwMvyLE8f4H4Nw6drAkYOhnuAY3jmABk834EKviGQydnA4Q3d5GSFkynK/cEhlcgNjNQ\n",
       "kqkTh04GEwhn6QQkO4UZGMpAbP4NDIyLJ+DSmQ4mhScgXMujasnAsBTEPr/3blEAOEBXgcEGFJ1e\n",
       "YNIQ4c9H+j+AodMHYt8XYODUZsBl5wuwbw2QQ+iuMwMDOC4sQLoDcOk8D04wTcDIhYcQM18CRCco\n",
       "QuIT8Ork2YBsJzODAUMLSPQrkNjvgJxwMF2rgK7TFBqdjL9w+jMKTG5F0Ql0bTo0Ok+sZMAfK5Me\n",
       "IOkMv8zA8AjoRPvfu3ctxZIZeCBeXwcmGZcfgKd4o26g1zgECGVDWOpj2QUNW1j2SyCkkw1XBl5J\n",
       "SOcsXBLShHRuxCXBSKA04T2AXRwAMiNp0Xnu720AAAAASUVORK5CYII=\n",
       "\" style=\"display:inline;vertical-align:middle;\" /></a></td></tr>\n",
       "<tr><td>1</td><td>Literal</td><td></td><td><a class=\"ProveItLink\" href=\"../../../../set_theory/membership/__pv_it/088cbc857536a28d4119ad9639a84270ccb0545d0/expr.ipynb\"><img src=\"data:image/png;base64,iVBORw0KGgoAAAANSUhEUgAAAAwAAAAMBAMAAACkW0HUAAAALVBMVEX///+qqqpmZmZUVFQQEBC6\n",
       "urpERETc3NyYmJjMzMwiIiIyMjKIiIju7u4AAACYsrA9AAAAAXRSTlMAQObYZgAAADxJREFUCNdj\n",
       "YOA9vWrVBgaG2b0MQMCeCyIZ2ArA1DUwyRCyahVIyWQI7xaEYm4AU7xLIdxqTQgtvGvVBgCkcQ7e\n",
       "geM/tQAAAABJRU5ErkJggg==\n",
       "\" style=\"display:inline;vertical-align:middle;\" /></a></td></tr>\n",
       "<tr><td>2</td><td>ExprTuple</td><td>3, 4</td><td><a class=\"ProveItLink\" href=\"../5240386e069d6b8b7ca2509ec8f5b0a4c82103aa0/expr.ipynb\"><img src=\"data:image/png;base64,iVBORw0KGgoAAAANSUhEUgAAAGAAAAAVBAMAAABLWfZ5AAAAMFBMVEX////c3NwiIiJERESqqqqY\n",
       "mJh2dnZmZmYQEBDu7u4yMjJUVFTMzMyIiIi6uroAAAAs73DqAAAAAXRSTlMAQObYZgAAAUJJREFU\n",
       "OMtjYCAZ8F0gXi3rAyBxGoij/+/ebfUAVZJdCQwMwJysz+tXKDswMNQA2StBAs1ABf8wDOQpgDMN\n",
       "3nKuTGNg4GJg4AW5iOcvEP/Gr4HhHlA1awIDxwQgl/cjkP2NgAZX7gkMnA0Mr0Bc5gYGBqZOQjYI\n",
       "A2kThjIQl38DA+PiCfg18KhaAul0hqUg7vm9d4sCwEGzCgw2YGp4pP8D5Fsvhj4Q974AA6c2AwEn\n",
       "3XUG0i8YwIFpAdIUQEADM18C0C0QDaAQjU8gpIHBAKShBSTxFUjsd0CPXmwaXjCYQqOB8RcuP0xA\n",
       "dlIUMJwg0XBiJQ4NnJ+gGsIvg4P1EdAd9r9371qKJXHygLzF2S8ATnxG3SA3r2PgECCY/pFUAJMG\n",
       "awLBTIDEZrsATd7EapgFxNKENCDnyI1AzEhCFuU9wAAAfmJiheCNhCMAAAAASUVORK5CYII=\n",
       "\" style=\"display:inline;vertical-align:middle;\" /></a></td></tr>\n",
       "<tr><td>3</td><td>Operation</td><td>operator:&nbsp;5<br>operands:&nbsp;6<br></td><td><a class=\"ProveItLink\" href=\"../../../../../__pv_it/759b628a3c0c071dac3bdf06fda3f72239da54a60/expr.ipynb\"><img src=\"data:image/png;base64,iVBORw0KGgoAAAANSUhEUgAAADwAAAAOBAMAAACBYGLnAAAAMFBMVEX///+qqqru7u4iIiJ2dnbc\n",
       "3NyIiIjMzMxmZmYQEBC6uroyMjJERERUVFSYmJgAAADLUcuvAAAAAXRSTlMAQObYZgAAAItJREFU\n",
       "GNNjYGB4+//u3dMLGFBBszEI2ICYcxgYOH4xYIAKCMX+DYj/4pRm+8rAwPcFpzTPBAYG5kk4pfkv\n",
       "MLDuUcApXX8trfkBmNW9GwT2okrnBzAw2TLg1H0SpOQBTmmQn9474JJm/wck7gugBRVcGuRt1t84\n",
       "7QZ5u3ITLmmO83/v3t6HRZahBIgBOGYufu9fDlQAAAAASUVORK5CYII=\n",
       "\" style=\"display:inline;vertical-align:middle;\" /></a></td></tr>\n",
       "<tr><td>4</td><td>Literal</td><td></td><td><a class=\"ProveItLink\" href=\"../../../__pv_it/46271c8230be96415d662709611f4ed2279d702b0/expr.ipynb\"><img src=\"data:image/png;base64,iVBORw0KGgoAAAANSUhEUgAAAA0AAAAOBAMAAAAGUYvhAAAAMFBMVEX///9mZmbMzMzc3NxUVFSY\n",
       "mJju7u6IiIi6urqqqqoiIiIQEBBEREQyMjJ2dnYAAAAQvcRZAAAAAXRSTlMAQObYZgAAAElJREFU\n",
       "CNdjePvn/u01ExgYGA60s117B6YZKngh9FSWBAjfBsxnWnoMRHet/10AkS+fA6F5OB5AaIYDqDRU\n",
       "PLCGgQFoz6ktExgAgLIl8DFvGtkAAAAASUVORK5CYII=\n",
       "\" style=\"display:inline;vertical-align:middle;\" /></a></td></tr>\n",
       "<tr><td>5</td><td>Literal</td><td></td><td><a class=\"ProveItLink\" href=\"../../../../equality/__pv_it/2fb26078095930560931daa0500ce419a39ea6cd0/expr.ipynb\"><img src=\"data:image/png;base64,iVBORw0KGgoAAAANSUhEUgAAAA4AAAAFBAMAAACHocAhAAAAFVBMVEX///9EREQiIiJUVFQyMjJm\n",
       "ZmYAAADubVkoAAAAAXRSTlMAQObYZgAAABRJREFUCNdjCHEBAWcGXCBICQQUAUpuAwlgGKrkAAAA\n",
       "AElFTkSuQmCC\n",
       "\" style=\"display:inline;vertical-align:middle;\" /></a></td></tr>\n",
       "<tr><td>6</td><td>ExprTuple</td><td>7, 8</td><td><a class=\"ProveItLink\" href=\"../../../../../__pv_it/79b1b9443e6c804653b427d809c6997546e630a90/expr.ipynb\"><img src=\"data:image/png;base64,iVBORw0KGgoAAAANSUhEUgAAADYAAAAVBAMAAAD/UwB2AAAAMFBMVEX////c3NwiIiJERESqqqqY\n",
       "mJh2dnZmZmYQEBDu7u4yMjJUVFTMzMyIiIi6uroAAAAs73DqAAAAAXRSTlMAQObYZgAAAPNJREFU\n",
       "KM9jYMAH+C5gFWZ9ACROA3H0/927rR6AxdiVwMCAoQbIWQkSaQYK/oNp4SkAkVwMDLwgI3n+AvFv\n",
       "VDnWBAaOCUCa9yOQ/Q1VjrOB4RWIZm5gYGDqRJVjMGEoA1H8GxgYF09Ak0tnWAqizu+9WxTAgCbn\n",
       "xdAHou4LMHBqo8u9YAC73AIkH4Amdx4iB3J+fAKGXAuI8xVI7HfAMNMU6j3GXwwME1DkooAuhXjv\n",
       "xEoGzk9ofngEDEn737t3Af3C2S8AkYPYvI6BQwApupDYoDBjTUCKM+QIZLsAjSMscrOAWBrBRUkB\n",
       "G4GYEXua4D3AAABTJD+ak77tNAAAAABJRU5ErkJggg==\n",
       "\" style=\"display:inline;vertical-align:middle;\" /></a></td></tr>\n",
       "<tr><td>7</td><td>Variable</td><td></td><td><a class=\"ProveItLink\" href=\"../../../../../__pv_it/077b2ff79244fb4582cbe22c6e3356fa92a52f2f0/expr.ipynb\"><img src=\"data:image/png;base64,iVBORw0KGgoAAAANSUhEUgAAABAAAAAOBAMAAADUAYG5AAAAMFBMVEX///+qqqru7u4iIiJ2dnbc\n",
       "3NyIiIjMzMxmZmYQEBC6uroyMjJERERUVFSYmJgAAADLUcuvAAAAAXRSTlMAQObYZgAAAGpJREFU\n",
       "CNdjYGB4+//u3dMLGIBgDgMDxy8gzf4NiP8CGWxfGRj4vgAZPBMYGJgnARn8FxhY9ygAGfXX0pof\n",
       "gDTlBzAw2YIYJ0EckBBI53sHoBH/gIz7AhBjWH9DjancBLTl/N+7t/cxMAAA3u4f/5xagjYAAAAA\n",
       "SUVORK5CYII=\n",
       "\" style=\"display:inline;vertical-align:middle;\" /></a></td></tr>\n",
       "<tr><td>8</td><td>Literal</td><td></td><td><a class=\"ProveItLink\" href=\"../../../__pv_it/68a87cc3370287d726c7086ace789e680e4461c30/expr.ipynb\"><img src=\"data:image/png;base64,iVBORw0KGgoAAAANSUhEUgAAAA4AAAAOBAMAAADtZjDiAAAAFVBMVEX///92dnbMzMxEREQiIiJm\n",
       "ZmYAAABAT6GXAAAAAXRSTlMAQObYZgAAABhJREFUCNdjCHEBAWcGIFBlgABa0YpADAAxegPJJk4d\n",
       "XAAAAABJRU5ErkJggg==\n",
       "\" style=\"display:inline;vertical-align:middle;\" /></a></td></tr>\n",
       "</table>\n"
      ],
      "text/plain": [
       "0. (B = TRUE) in BOOLEANS\n",
       "   core type: Operation\n",
       "   operator: 1\n",
       "   operands: 2\n",
       "1. in\n",
       "   core type: Literal\n",
       "   sub-expressions: \n",
       "2. (B = TRUE , BOOLEANS)\n",
       "   core type: ExprTuple\n",
       "   sub-expressions: 3, 4\n",
       "3. B = TRUE\n",
       "   core type: Operation\n",
       "   operator: 5\n",
       "   operands: 6\n",
       "4. BOOLEANS\n",
       "   core type: Literal\n",
       "   sub-expressions: \n",
       "5. =\n",
       "   core type: Literal\n",
       "   sub-expressions: \n",
       "6. (B , TRUE)\n",
       "   core type: ExprTuple\n",
       "   sub-expressions: 7, 8\n",
       "7. B\n",
       "   core type: Variable\n",
       "   sub-expressions: \n",
       "8. TRUE\n",
       "   core type: Literal\n",
       "   sub-expressions: "
      ]
     },
     "execution_count": 4,
     "metadata": {},
     "output_type": "execute_result"
    }
   ],
   "source": [
    "# display the expression information\n",
    "expr.exprInfo()"
   ]
  },
  {
   "cell_type": "code",
   "execution_count": null,
   "metadata": {},
   "outputs": [],
   "source": []
  }
 ],
 "metadata": {
  "kernelspec": {
   "display_name": "Python 3",
   "language": "python",
   "name": "python3"
  }
 },
 "nbformat": 4,
 "nbformat_minor": 0
}
