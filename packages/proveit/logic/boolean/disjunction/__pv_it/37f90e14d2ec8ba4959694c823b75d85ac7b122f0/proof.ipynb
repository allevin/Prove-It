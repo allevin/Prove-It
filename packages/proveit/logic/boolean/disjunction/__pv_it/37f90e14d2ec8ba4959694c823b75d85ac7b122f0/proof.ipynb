{
 "cells": [
  {
   "cell_type": "markdown",
   "metadata": {},
   "source": [
    "Show the Proof\n",
    "========"
   ]
  },
  {
   "cell_type": "code",
   "execution_count": 1,
   "metadata": {},
   "outputs": [
    {
     "data": {
      "text/html": [
       "<table><tr><th>&nbsp;</th><th>step type</th><th>requirements</th><th>statement</th></tr>\n",
       "<tr><td>0</td><td>modus ponens</td><td>1, 2</td><td><span style=\"font-size:20px;\"><a class=\"ProveItLink\" href=\"../f4ebd6fd3ccc9d184d955bb98f2ea08004f8e6d50/expr.ipynb\"><img src=\"data:image/png;base64,iVBORw0KGgoAAAANSUhEUgAAAG8AAAAVBAMAAAC6Uq30AAAAMFBMVEX////c3NxERESqqqpUVFS6\n",
       "urrMzMwyMjIQEBCIiIh2dnYiIiLu7u5mZmaYmJgAAABXZE4RAAAAAXRSTlMAQObYZgAAAY5JREFU\n",
       "OMtjYGDgu8dAGmBbJQCieHYxkArYmkEk5wcgwef/xcWpFIuaKf9dXIoSoBy4qusgHlcDiORQYGC4\n",
       "H4BF53cGBubPMA5M1QqExvwJQOwAV34A7qpfQOI+jAtThaRxPtC/7xfANdbAGJxfoeoZkFUhadQA\n",
       "4h1wexhCYAwmUAjIw5wCU4Wk8QsDg7gOwmdcMDv4FRiQ/ABTBdbIWwDyypeZc/eB5Xh3g8FfJF/B\n",
       "/QBX9R5EZIDCkvMjA8NpB6TAZIbGzXxQVPhDgxuuiv0CA0NKG9grQPdy/kOOhuOtYEofRHTAPAxX\n",
       "pf6AgSECZCY/0By+X8iJowoSUp9A8Q4zEa6KG+R2FpAf84EmsHxG8uMmiD62n9Boh3gYpgrsR64N\n",
       "0AiSL0DyItS/nN9A7joATRFwVYjoAEYQWzsiGhnEkaIxHRgSPL8ZkFXBNV4CJuXyB0heVIRQZ/WB\n",
       "qfoaKAv1CyCrQkoAaCABXYBVAJmHWyMG4GPA0MhHhkZwfuTZSYzGCSglACRx8C0mp8wBAFfNgh3V\n",
       "D5plAAAAAElFTkSuQmCC\n",
       "\" style=\"display:inline;vertical-align:middle;\" /></a> <a class=\"ProveItLink\" href=\"proof.ipynb\" style=\"text-decoration: none\">&#x22A2;&nbsp;</a><a class=\"ProveItLink\" href=\"../../../../../__pv_it/185e6d30f167ee2ee5ef3321098dc98e0d77bc590/expr.ipynb\"><img src=\"data:image/png;base64,iVBORw0KGgoAAAANSUhEUgAAABEAAAAOBAMAAAA7w+qHAAAALVBMVEX///8QEBCYmJjc3Ny6urru\n",
       "7u5mZmZ2dnaqqqrMzMxEREQyMjJUVFSIiIgAAABETr/8AAAAAXRSTlMAQObYZgAAAGpJREFUCNdj\n",
       "YGC48+7MmV0TGEDgNQMDxwsQg/M5kMgLABK8T4DEvAtAgusBkLA7ACT4FoDEDsAk9AqAxD2QCecc\n",
       "gMQ6kAGCIOIVEDM9Ahn3FkgwgnTxvgQSqwOgxs1OADLC1r05cyoTyAAAv4Qe+njAWvgAAAAASUVO\n",
       "RK5CYII=\n",
       "\" style=\"display:inline;vertical-align:middle;\" /></a></span></td></tr>\n",
       "<tr><td>1</td><td>assumption</td><td></td><td><span style=\"font-size:20px;\"><a class=\"ProveItLink\" href=\"../2046ba58b0b0966d887a7023ef210c7374ab1fda0/expr.ipynb\"><img src=\"data:image/png;base64,iVBORw0KGgoAAAANSUhEUgAAAFUAAAAVBAMAAADFg78FAAAAMFBMVEX////c3NxERESqqqpUVFS6\n",
       "urrMzMwyMjIQEBCIiIh2dnYiIiLu7u5mZmaYmJgAAABXZE4RAAAAAXRSTlMAQObYZgAAAVpJREFU\n",
       "KM9jYGDgu8dAELCtEgBRPLsYiABszSCS8wOQ4PP/4uJUikXNlP8uLkUJQMZ1EI+rAURyKDAw3A/A\n",
       "ovg7AwPzZyC9AqE2fwIQO8BVHIDb/QtI3D+AonY+0O3vF8DV1sAYnF+hBiGp1QDiHXDTGEJgDCaQ\n",
       "b+QdUNR+YWAQ10G4kmsClMGvwABxHFgtbwHIWV9mzt0HluTdDQZ/oWpB1oMd9x7EywD5nvMjA8Np\n",
       "ByTvM0MDcD4ovPyBStgvMDCktIGdBXQI5z/ksDreCqb0QUQHiFB/wMAQAdLJDzST7xdyPFVBPPoJ\n",
       "FFEgQ7hBgcQCcm8+UBPLZyT3boIoZfsJjSeIe7k2QINXvgDJuVC3c34D2X4AJd6AwcvWjgheBnGk\n",
       "4E2/wICs9hIwhZQ/QHKuIoQ6qw9MUtcYGFDTAxpIwBDBrZYBu1o+4tSC0y/PTqLyBSRq+BYTmd8A\n",
       "81pkCBl3vUcAAAAASUVORK5CYII=\n",
       "\" style=\"display:inline;vertical-align:middle;\" /></a> <a class=\"ProveItLink\" href=\"../fc870fab20c9ddc83566f1170c3c8df1e6b725840/proof.ipynb\" style=\"text-decoration: none\">&#x22A2;&nbsp;</a><a class=\"ProveItLink\" href=\"../cb2bfae6c9dcdf3d440ea7ef9c05a295e8b26aef0/expr.ipynb\"><img src=\"data:image/png;base64,iVBORw0KGgoAAAANSUhEUgAAAEIAAAAPBAMAAACivARpAAAAMFBMVEX///+qqqru7u4iIiJ2dnbc\n",
       "3NyIiIjMzMxmZmYQEBC6uroyMjJERERUVFSYmJgAAADLUcuvAAAAAXRSTlMAQObYZgAAAPtJREFU\n",
       "GNNjYGB4+//u3dMLGDAA2/2/d28fBzPnMDBw/MJUwcC/gYFBXgDIYP8GxH/h4kxwVr0DUOsnkGlf\n",
       "GRj4vsDFuRVgrPwFEO0MPBMYGJgnwVVwXYCxzgMxK8hw/gsMrHsUENa7wRh/GKDW119La34AFmo2\n",
       "BgH7BogCsAVg6/MDGJhskf0gDfE623cgwQvy5EmQqgdIKph2gpXwfAASnEBHMoBseu+ApKLaCRIc\n",
       "B0ASQK3s/4CM+wIIdxgfggZHAiQ0wcHB+hvJCFlYcBQAbdoEDY7KTQgFrBsQwcG+A0hznAfGzz4k\n",
       "I3gCIM7tAUboiQIs0cXAjsYHAJLoSEwUTuWpAAAAAElFTkSuQmCC\n",
       "\" style=\"display:inline;vertical-align:middle;\" /></a></span></td></tr>\n",
       "<tr><td>2</td><td>assumption</td><td></td><td><span style=\"font-size:20px;\"><a class=\"ProveItLink\" href=\"../547fd547e34cf8546442bd6aea990dbe0adf77b90/expr.ipynb\"><img src=\"data:image/png;base64,iVBORw0KGgoAAAANSUhEUgAAACMAAAAVBAMAAAA+1EraAAAAMFBMVEX////c3NxERESqqqpUVFS6\n",
       "urrMzMwyMjIQEBCIiIh2dnYiIiLu7u5mZmaYmJgAAABXZE4RAAAAAXRSTlMAQObYZgAAAMtJREFU\n",
       "GNNjYGDgu8cAA2yrBEAUzy4GBGBrBpGcH4AEn/8XF6dSIOM6SIirAURyKDAw3A9gYFiBEMqfAMQO\n",
       "KELzgea+X4AipAHEOw6gCH1hYBDXYYAK8RaALP8yc+4+EO89iMgIALnkIwPDaaDpDOwXGBhS2kDi\n",
       "TEDdnP9ALPUHDAwRCUAGP1AF3y8ggxtoKwMLyKx8oBzLZ5hZXBugzpIvYEB2BNBZbO0HkIUu/Xdx\n",
       "KX/AgKIKDnAJ8aEIgcOLZydyqLaCKb7FqGEPACcgN6r4rcm/AAAAAElFTkSuQmCC\n",
       "\" style=\"display:inline;vertical-align:middle;\" /></a> <a class=\"ProveItLink\" href=\"../e254d9aea2df09e6e975215df28fe123ae22c0ba0/proof.ipynb\" style=\"text-decoration: none\">&#x22A2;&nbsp;</a><a class=\"ProveItLink\" href=\"../../../../../__pv_it/077b2ff79244fb4582cbe22c6e3356fa92a52f2f0/expr.ipynb\"><img src=\"data:image/png;base64,iVBORw0KGgoAAAANSUhEUgAAABAAAAAOBAMAAADUAYG5AAAAMFBMVEX///+qqqru7u4iIiJ2dnbc\n",
       "3NyIiIjMzMxmZmYQEBC6uroyMjJERERUVFSYmJgAAADLUcuvAAAAAXRSTlMAQObYZgAAAGpJREFU\n",
       "CNdjYGB4+//u3dMLGIBgDgMDxy8gzf4NiP8CGWxfGRj4vgAZPBMYGJgnARn8FxhY9ygAGfXX0pof\n",
       "gDTlBzAw2YIYJ0EckBBI53sHoBH/gIz7AhBjWH9DjancBLTl/N+7t/cxMAAA3u4f/5xagjYAAAAA\n",
       "SUVORK5CYII=\n",
       "\" style=\"display:inline;vertical-align:middle;\" /></a></span></td></tr>\n",
       "</table>"
      ],
      "text/plain": [
       "<proveit._core_.proof._ShowProof at 0x7f94ebd24e80>"
      ]
     },
     "execution_count": 1,
     "metadata": {},
     "output_type": "execute_result"
    }
   ],
   "source": [
    "import proveit\n",
    "%show_proof"
   ]
  },
  {
   "cell_type": "code",
   "execution_count": null,
   "metadata": {},
   "outputs": [],
   "source": []
  }
 ],
 "metadata": {
  "kernelspec": {
   "display_name": "Python 3",
   "language": "python",
   "name": "python3"
  }
 },
 "nbformat": 4,
 "nbformat_minor": 0
}
