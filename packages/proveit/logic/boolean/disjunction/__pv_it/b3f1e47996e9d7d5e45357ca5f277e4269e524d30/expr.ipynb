{
 "cells": [
  {
   "cell_type": "markdown",
   "metadata": {},
   "source": [
    "Expression of type <a class=\"ProveItLink\" href=\"../../../../../../../doc/html/api/proveit.logic.Forall.html\">Forall</a>\n",
    "=======================\n",
    "# from context <a class=\"ProveItLink\" href=\"../../_context_.ipynb\">proveit.logic.boolean.disjunction</a>"
   ]
  },
  {
   "cell_type": "code",
   "execution_count": 1,
   "metadata": {},
   "outputs": [],
   "source": [
    "# import Expression classes needed to build the expression\n",
    "from proveit._common_ import A\n",
    "from proveit.logic import Forall, Implies"
   ]
  },
  {
   "cell_type": "code",
   "execution_count": 2,
   "metadata": {},
   "outputs": [
    {
     "data": {
      "text/html": [
       "<strong id=\"expr\">expr:</strong> <a class=\"ProveItLink\" href=\"expr.ipynb\"><img src=\"data:image/png;base64,iVBORw0KGgoAAAANSUhEUgAAAHIAAAAVBAMAAABoAqesAAAAMFBMVEX///8QEBC6urrMzMxUVFRm\n",
       "ZmZERETc3NwyMjKqqqp2dnaIiIiYmJgiIiLu7u4AAAAU9Wx4AAAAAXRSTlMAQObYZgAAAatJREFU\n",
       "OMtjYCAbPMAixrSBkC4eBQaGCyDGaVRxEwhli0MbSDyYgWEliN2HKgXl9uPQCRLnYGAoA1LsCSgy\n",
       "3BDH8txH+IQP2aUgcZ4FDBxAinUCik5GiI7K+AK4EAdScIDF+QQYeJaXl9eiukYDQm3Yr4AIMweE\n",
       "NEQ8k4HhW1raLVSdURDFD+YfQIitRhgCEV/KwODMwJAOFmqHyfWAyUcM9mD/xt4FgfsBMFmo+AwG\n",
       "BhUGvgawxz/B5ITApAJDfQCSQ2bAnA4VV2Rg4GXgBrvq6R+YIrARzC4u/shBztcI0QoTtwfGwQFe\n",
       "cMCtu4qikwkYxg1IOi3WQb0JFQfq5GsAJxnmDWkwRZIgAhhRvAIIf97Ng0rCxIGuZUh3AomwMMTC\n",
       "dOaAEgdQBccHhJVToDRc/AQQTwUn3ZMM+2GqgAHO8AKI2f7BNbLDHA4XByliBAUy39XQfFg60QWm\n",
       "Sfl2Bp78H/DAZYMmJ4R4Eyg6QDpYCxjsDWCprwAjkTOjC/AJwFg6DAz8sCQDTM0EARcsCz/5xsDu\n",
       "fwctl+EDL7ALlxDW6Y5dmJ1gacJtwAAAib1spl/buwAAAAAASUVORK5CYII=\n",
       "\" style=\"display:inline;vertical-align:middle;\" /></a><br>"
      ],
      "text/plain": [
       "expr: forall_{A} (A => A)"
      ]
     },
     "execution_count": 2,
     "metadata": {},
     "output_type": "execute_result"
    }
   ],
   "source": [
    "# build up the expression from sub-expressions\n",
    "expr = Forall([A], Implies(A, A), conditions = [])"
   ]
  },
  {
   "cell_type": "code",
   "execution_count": 3,
   "metadata": {},
   "outputs": [
    {
     "name": "stdout",
     "output_type": "stream",
     "text": [
      "Passed sanity check: built 'expr' is the same as the stored Expression.\n"
     ]
    }
   ],
   "source": [
    "# check that the built expression is the same as the stored expression\n",
    "%check_expr"
   ]
  },
  {
   "cell_type": "code",
   "execution_count": 4,
   "metadata": {},
   "outputs": [
    {
     "data": {
      "text/html": [
       "<table><tr><th>&nbsp;</th><th>core type</th><th>sub-expressions</th><th>expression</th></tr>\n",
       "<tr><td>0</td><td>Operation</td><td>operator:&nbsp;1<br>operand:&nbsp;2<br></td><td><a class=\"ProveItLink\" href=\"expr.ipynb\"><img src=\"data:image/png;base64,iVBORw0KGgoAAAANSUhEUgAAAHIAAAAVBAMAAABoAqesAAAAMFBMVEX///8QEBC6urrMzMxUVFRm\n",
       "ZmZERETc3NwyMjKqqqp2dnaIiIiYmJgiIiLu7u4AAAAU9Wx4AAAAAXRSTlMAQObYZgAAAatJREFU\n",
       "OMtjYCAbPMAixrSBkC4eBQaGCyDGaVRxEwhli0MbSDyYgWEliN2HKgXl9uPQCRLnYGAoA1LsCSgy\n",
       "3BDH8txH+IQP2aUgcZ4FDBxAinUCik5GiI7K+AK4EAdScIDF+QQYeJaXl9eiukYDQm3Yr4AIMweE\n",
       "NEQ8k4HhW1raLVSdURDFD+YfQIitRhgCEV/KwODMwJAOFmqHyfWAyUcM9mD/xt4FgfsBMFmo+AwG\n",
       "BhUGvgawxz/B5ITApAJDfQCSQ2bAnA4VV2Rg4GXgBrvq6R+YIrARzC4u/shBztcI0QoTtwfGwQFe\n",
       "cMCtu4qikwkYxg1IOi3WQb0JFQfq5GsAJxnmDWkwRZIgAhhRvAIIf97Ng0rCxIGuZUh3AomwMMTC\n",
       "dOaAEgdQBccHhJVToDRc/AQQTwUn3ZMM+2GqgAHO8AKI2f7BNbLDHA4XByliBAUy39XQfFg60QWm\n",
       "Sfl2Bp78H/DAZYMmJ4R4Eyg6QDpYCxjsDWCprwAjkTOjC/AJwFg6DAz8sCQDTM0EARcsCz/5xsDu\n",
       "fwctl+EDL7ALlxDW6Y5dmJ1gacJtwAAAib1spl/buwAAAAAASUVORK5CYII=\n",
       "\" style=\"display:inline;vertical-align:middle;\" /></a></td></tr>\n",
       "<tr><td>1</td><td>Literal</td><td></td><td><a class=\"ProveItLink\" href=\"../../../quantification/universal/__pv_it/265f8c02ac1094d56e0e6410a1c1fd3500dc9f540/expr.ipynb\"><img src=\"data:image/png;base64,iVBORw0KGgoAAAANSUhEUgAAAAwAAAAQBAMAAADQT4M0AAAAMFBMVEX///8QEBC6urrMzMxUVFRm\n",
       "ZmZERETc3NwyMjKqqqp2dnaIiIiYmJgiIiLu7u4AAAAU9Wx4AAAAAXRSTlMAQObYZgAAAFhJREFU\n",
       "CNdjeMAABhdAxGmGlSCqj6EMSLInMHAAJVknMPAsLy+vBYp8S0u7BaScGRjSgZQKA18DkOJl4D4A\n",
       "pLgP8IJM4mswARuX7gSmpoKNZWDcAKZ4gCoAgTQTILaSE58AAAAASUVORK5CYII=\n",
       "\" style=\"display:inline;vertical-align:middle;\" /></a></td></tr>\n",
       "<tr><td>2</td><td>Lambda</td><td>parameter:&nbsp;6<br>body:&nbsp;3<br></td><td><a class=\"ProveItLink\" href=\"../5c1a3b10c793a0f05f1e61518dab58959b92f15e0/expr.ipynb\"><img src=\"data:image/png;base64,iVBORw0KGgoAAAANSUhEUgAAAH4AAAAVCAMAAAC3zqojAAAANlBMVEX///92dnYUFBQNDQ0QEBBE\n",
       "RERUVFS6urqIiIhmZmaqqqrc3Nzu7u6YmJgyMjIiIiLMzMwAAACuIkBbAAAAAXRSTlMAQObYZgAA\n",
       "AWRJREFUSMfVVtt2hCAMhJY7GOD/f7a6XSUJustSX5on9cxkyFWE+Idm3d99LJa+lzzKLGaOR/G+\n",
       "kM9QRx1AmuMxPJBk5JrG+M6N8K6cNfwi29cYfI1j8gp7vuTBuT7CJ4VCEq7asb4jSbvkWXOeOoTX\n",
       "4QAnEerSjk4oIeA3L7EI5WGTZ+NB8NLvhVoPVGrDs2Y2OJGA1DjPZ2TV9w1B8GGPcktHRHAmnwwq\n",
       "r0K55jxqAXhZKN6qfZA3q/qAfX9lYgrVFz12PB4sKEsXBsGX2g61hgVX0QuDvCD5jscWDMjUBY/w\n",
       "T/lnZ2V1Je/xaKmjEXseqX3WbPY4/jf5MXTri8oX0sN6OUb45doLpht5hl/gUaDdb1tf7sUC28fl\n",
       "jIfFoGsEjl89Ra0qbLlddK3gR9bOIzVveZruwjM8WDFhamg5l7cIvHQ/+VPLe24NcvLWAOkO9QST\n",
       "xGjukDdxlhlvuGy5rTl+ALAoEDnZE7/4AAAAAElFTkSuQmCC\n",
       "\" style=\"display:inline;vertical-align:middle;\" /></a></td></tr>\n",
       "<tr><td>3</td><td>Operation</td><td>operator:&nbsp;4<br>operands:&nbsp;5<br></td><td><a class=\"ProveItLink\" href=\"../b839b67bd9efea5dab074a12bdcaae718ccdfd350/expr.ipynb\"><img src=\"data:image/png;base64,iVBORw0KGgoAAAANSUhEUgAAAD8AAAAPBAMAAAChCwpBAAAAMFBMVEX///92dnYQEBBERERUVFS6\n",
       "urqIiIhmZmaqqqrc3Nzu7u6YmJgyMjIiIiLMzMwAAACFkkdwAAAAAXRSTlMAQObYZgAAAK5JREFU\n",
       "GNNjYACBtwzYAVz8PA4FMHHu+wvgYlxI8nDxGfUT4II8CLUI8YT8ALggqwNCAUycdUH/BoSoGEIt\n",
       "THwpw/sEEF17FwTuF8AUwMQZAhjmFyA5rQdmH0ycz8XF3wBJAdchiAq4OCsDA9MBJAVvpKBOgIk3\n",
       "MDDwKiDccNcKqhAmzglk8HxAGNACpeHia4CY+RdcnhNmG0x8sv5JBm77P3BvMEMDD10cDvjQ+AC1\n",
       "yjp2qwwLaAAAAABJRU5ErkJggg==\n",
       "\" style=\"display:inline;vertical-align:middle;\" /></a></td></tr>\n",
       "<tr><td>4</td><td>Literal</td><td></td><td><a class=\"ProveItLink\" href=\"../../../implication/__pv_it/e5c030cabcb650938f92dee8256fe11cd12bf9b30/expr.ipynb\"><img src=\"data:image/png;base64,iVBORw0KGgoAAAANSUhEUgAAABMAAAANBAMAAAC5okgUAAAALVBMVEX////c3NxERETMzMwQEBCq\n",
       "qqoiIiJmZmaIiIh2dnZUVFS6uroyMjLu7u4AAACPpZJTAAAAAXRSTlMAQObYZgAAAD1JREFUCNdj\n",
       "YAABXgY44LkAZ3IvQAjPABFlaSCQV4AQjtkAZ/IegbNt5sLUpunC5aPgLMYDcCaTAJzJDCIA2yMN\n",
       "HCCUuIIAAAAASUVORK5CYII=\n",
       "\" style=\"display:inline;vertical-align:middle;\" /></a></td></tr>\n",
       "<tr><td>5</td><td>ExprTuple</td><td>6, 6</td><td><a class=\"ProveItLink\" href=\"../28adaa1d2294f84e02699b4685e77bbb787705a40/expr.ipynb\"><img src=\"data:image/png;base64,iVBORw0KGgoAAAANSUhEUgAAADUAAAAVBAMAAAAUZLt1AAAAMFBMVEX////c3NwiIiJERESqqqqY\n",
       "mJh2dnZmZmYQEBDu7u4yMjJUVFTMzMyIiIi6uroAAAAs73DqAAAAAXRSTlMAQObYZgAAAPdJREFU\n",
       "KM9jYMAH+C5gFY4DEachbB4FhDiIzX4AyFgJ4XN9QMiB2QsYGHihRgb9RMiB2WEMDBwTwFxG949w\n",
       "KQh7BgPDKwifl/cfXA7CZnZgKIPwX7J8hctB2GwFDEvBXM4HPH9hUlA2ywKGPognGRi/wz0MYfM1\n",
       "MECsOb1792eYHJTN8wEq94CBoQsmB2UD5VpAXBYg1oBKwdhAM01BfBEgXg90BRKbgXUBQzrIZcDw\n",
       "YbCfwDBfAcEG+eERMBwsfgkwBP9fzjDjI4LNwPWAgUMAKWIeIrGBYcaagMQPQGLnIuIIXQ5srzSC\n",
       "z4ukjBtkFyP2NHGHgQEAuPBD0qeALkIAAAAASUVORK5CYII=\n",
       "\" style=\"display:inline;vertical-align:middle;\" /></a></td></tr>\n",
       "<tr><td>6</td><td>Variable</td><td></td><td><a class=\"ProveItLink\" href=\"../../../../../__pv_it/2cbe72a7ad6f655694dd697106680215e8489b600/expr.ipynb\"><img src=\"data:image/png;base64,iVBORw0KGgoAAAANSUhEUgAAAA8AAAAOBAMAAAACpFvcAAAALVBMVEX///8QEBBERERUVFS6urqI\n",
       "iIhmZmaqqqrc3Nzu7u6YmJgyMjIiIiLMzMwAAADtIaYWAAAAAXRSTlMAQObYZgAAAFtJREFUCNdj\n",
       "YACBOwxQsA9Kc52bAGG05zVAGAFxDmCaZULdAjBjCsO9ADDDgaEvAUTzGhvbKYCVMDAwbgAxChgY\n",
       "eASANAeQwf0AyJgNxEwvGRia5HYwcOm9TgAA6BoR3jrzwFcAAAAASUVORK5CYII=\n",
       "\" style=\"display:inline;vertical-align:middle;\" /></a></td></tr>\n",
       "</table>\n"
      ],
      "text/plain": [
       "0. forall_{A} (A => A)\n",
       "   core type: Operation\n",
       "   operator: 1\n",
       "   operand: 2\n",
       "1. forall\n",
       "   core type: Literal\n",
       "   sub-expressions: \n",
       "2. A -> (A => A)\n",
       "   core type: Lambda\n",
       "   parameter: 6\n",
       "   body: 3\n",
       "3. A => A\n",
       "   core type: Operation\n",
       "   operator: 4\n",
       "   operands: 5\n",
       "4. =>\n",
       "   core type: Literal\n",
       "   sub-expressions: \n",
       "5. (A , A)\n",
       "   core type: ExprTuple\n",
       "   sub-expressions: 6, 6\n",
       "6. A\n",
       "   core type: Variable\n",
       "   sub-expressions: "
      ]
     },
     "execution_count": 4,
     "metadata": {},
     "output_type": "execute_result"
    }
   ],
   "source": [
    "# display the expression information\n",
    "expr.exprInfo()"
   ]
  },
  {
   "cell_type": "code",
   "execution_count": null,
   "metadata": {},
   "outputs": [],
   "source": []
  }
 ],
 "metadata": {
  "kernelspec": {
   "display_name": "Python 3",
   "language": "python",
   "name": "python3"
  }
 },
 "nbformat": 4,
 "nbformat_minor": 0
}
