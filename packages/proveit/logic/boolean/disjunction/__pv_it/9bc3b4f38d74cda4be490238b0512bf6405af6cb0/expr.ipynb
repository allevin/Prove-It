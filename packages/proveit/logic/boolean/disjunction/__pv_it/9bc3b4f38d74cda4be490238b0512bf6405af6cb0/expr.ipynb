{
 "cells": [
  {
   "cell_type": "markdown",
   "metadata": {},
   "source": [
    "Expression of type <a class=\"ProveItLink\" href=\"../../../../../../../doc/html/api/proveit.logic.Implies.html\">Implies</a>\n",
    "=======================\n",
    "# from context <a class=\"ProveItLink\" href=\"../../_context_.ipynb\">proveit.logic.boolean.disjunction</a>"
   ]
  },
  {
   "cell_type": "code",
   "execution_count": 1,
   "metadata": {},
   "outputs": [],
   "source": [
    "# import Expression classes needed to build the expression\n",
    "from proveit._common_ import A, C, D\n",
    "from proveit.logic import Implies, Or"
   ]
  },
  {
   "cell_type": "code",
   "execution_count": 2,
   "metadata": {},
   "outputs": [
    {
     "data": {
      "text/html": [
       "<strong id=\"expr\">expr:</strong> <a class=\"ProveItLink\" href=\"expr.ipynb\"><img src=\"data:image/png;base64,iVBORw0KGgoAAAANSUhEUgAAAHcAAAAVBAMAAACOK2zoAAAAMFBMVEX///92dnYQEBBERERUVFS6\n",
       "urqIiIhmZmaqqqrc3Nzu7u6YmJgyMjIiIiLMzMwAAACFkkdwAAAAAXRSTlMAQObYZgAAAfNJREFU\n",
       "OMu1VDtIA0EQncsZ432TSsFKEEG00EIQFNTixEaS62wUrCxNxEItJFdYigYUtDMIWlnEQlsPG1ER\n",
       "eyEoaKmo+IHEoM7s7t3FD2flwe7OzsybnXmzewD/80XHQ817nnD3m/WGpu2umcLaF3Vt6tka7gOI\n",
       "XQnF+W/gExxSO8AIDrBJYzJ93AVYdgBc7qZd5n2I6p+AWatnaJBKuEuSaoIZ7hN4bBlgl/utZ3M+\n",
       "WPfiRFDQ26j2JpyuSXXBDGnMwnwF2OR+42k7oGlACKM4spgdKBmKieHrMszQT7pnANlh/vnlQlBq\n",
       "vVin0KXCCiFmCKjz/J6oegRLLNYW3LOuzBfpu+Tx4RQrewtiXojUWcagPWI8xpgNG5kqlhd5DS0A\n",
       "RinQIlmDnMh3nGpeBBemZaU6q8DqIUOjOf4Q8G+AynsjkzKCQJOEKMpuFfi2EQQ4wsBLbBtzJE5M\n",
       "nA46KAgwkmY0BTUXe3iMVkyuTAIvSXENrmf8NIsWKgjWH4KDF8TaK7iRROOT+3xNI/ky3T4N092h\n",
       "Oso+VvEqaKDsHIjOif01vyLUZvOIBGzVSscxaP0Vn27Zu2xjxOXw0Kx/9ZiLOv1hWd3sTej2j+dg\n",
       "ekIk982Q/+a5GfJetcQf770+zHgSjlXdMOtqOLgmF2ZVwn9DkwCft0d3nQ185VsAAAAASUVORK5C\n",
       "YII=\n",
       "\" style=\"display:inline;vertical-align:middle;\" /></a><br>"
      ],
      "text/plain": [
       "expr: A => (C or D)"
      ]
     },
     "execution_count": 2,
     "metadata": {},
     "output_type": "execute_result"
    }
   ],
   "source": [
    "# build up the expression from sub-expressions\n",
    "expr = Implies(A, Or(C, D))"
   ]
  },
  {
   "cell_type": "code",
   "execution_count": 3,
   "metadata": {},
   "outputs": [
    {
     "name": "stdout",
     "output_type": "stream",
     "text": [
      "Passed sanity check: built 'expr' is the same as the stored Expression.\n"
     ]
    }
   ],
   "source": [
    "# check that the built expression is the same as the stored expression\n",
    "%check_expr"
   ]
  },
  {
   "cell_type": "code",
   "execution_count": 4,
   "metadata": {},
   "outputs": [
    {
     "data": {
      "text/html": [
       "<table><tr><th>&nbsp;</th><th>core type</th><th>sub-expressions</th><th>expression</th></tr>\n",
       "<tr><td>0</td><td>Operation</td><td>operator:&nbsp;1<br>operands:&nbsp;2<br></td><td><a class=\"ProveItLink\" href=\"expr.ipynb\"><img src=\"data:image/png;base64,iVBORw0KGgoAAAANSUhEUgAAAHcAAAAVBAMAAACOK2zoAAAAMFBMVEX///92dnYQEBBERERUVFS6\n",
       "urqIiIhmZmaqqqrc3Nzu7u6YmJgyMjIiIiLMzMwAAACFkkdwAAAAAXRSTlMAQObYZgAAAfNJREFU\n",
       "OMu1VDtIA0EQncsZ432TSsFKEEG00EIQFNTixEaS62wUrCxNxEItJFdYigYUtDMIWlnEQlsPG1ER\n",
       "eyEoaKmo+IHEoM7s7t3FD2flwe7OzsybnXmzewD/80XHQ817nnD3m/WGpu2umcLaF3Vt6tka7gOI\n",
       "XQnF+W/gExxSO8AIDrBJYzJ93AVYdgBc7qZd5n2I6p+AWatnaJBKuEuSaoIZ7hN4bBlgl/utZ3M+\n",
       "WPfiRFDQ26j2JpyuSXXBDGnMwnwF2OR+42k7oGlACKM4spgdKBmKieHrMszQT7pnANlh/vnlQlBq\n",
       "vVin0KXCCiFmCKjz/J6oegRLLNYW3LOuzBfpu+Tx4RQrewtiXojUWcagPWI8xpgNG5kqlhd5DS0A\n",
       "RinQIlmDnMh3nGpeBBemZaU6q8DqIUOjOf4Q8G+AynsjkzKCQJOEKMpuFfi2EQQ4wsBLbBtzJE5M\n",
       "nA46KAgwkmY0BTUXe3iMVkyuTAIvSXENrmf8NIsWKgjWH4KDF8TaK7iRROOT+3xNI/ky3T4N092h\n",
       "Oso+VvEqaKDsHIjOif01vyLUZvOIBGzVSscxaP0Vn27Zu2xjxOXw0Kx/9ZiLOv1hWd3sTej2j+dg\n",
       "ekIk982Q/+a5GfJetcQf770+zHgSjlXdMOtqOLgmF2ZVwn9DkwCft0d3nQ185VsAAAAASUVORK5C\n",
       "YII=\n",
       "\" style=\"display:inline;vertical-align:middle;\" /></a></td></tr>\n",
       "<tr><td>1</td><td>Literal</td><td></td><td><a class=\"ProveItLink\" href=\"../../../implication/__pv_it/e5c030cabcb650938f92dee8256fe11cd12bf9b30/expr.ipynb\"><img src=\"data:image/png;base64,iVBORw0KGgoAAAANSUhEUgAAABMAAAANBAMAAAC5okgUAAAALVBMVEX////c3NxERETMzMwQEBCq\n",
       "qqoiIiJmZmaIiIh2dnZUVFS6uroyMjLu7u4AAACPpZJTAAAAAXRSTlMAQObYZgAAAD1JREFUCNdj\n",
       "YAABXgY44LkAZ3IvQAjPABFlaSCQV4AQjtkAZ/IegbNt5sLUpunC5aPgLMYDcCaTAJzJDCIA2yMN\n",
       "HCCUuIIAAAAASUVORK5CYII=\n",
       "\" style=\"display:inline;vertical-align:middle;\" /></a></td></tr>\n",
       "<tr><td>2</td><td>ExprTuple</td><td>3, 4</td><td><a class=\"ProveItLink\" href=\"../9f372c5d203bb07b664f2302b9fd5b1d4999410b0/expr.ipynb\"><img src=\"data:image/png;base64,iVBORw0KGgoAAAANSUhEUgAAAF4AAAAVBAMAAAA9Y0TyAAAAMFBMVEX////c3NwiIiJERESqqqqY\n",
       "mJh2dnZmZmYQEBDu7u4yMjJUVFTMzMyIiIi6uroAAAAs73DqAAAAAXRSTlMAQObYZgAAAcBJREFU\n",
       "KM+VUztIw1AUPa2tTUJSAwoODp07tYMuLu3sYmZBdFMnXfwMQjs4ONlugohURFAEPzg4RGzRTQcL\n",
       "jiIWF8VJ/IH1e++7IbUurYGc3Hfu4b53T+4D/vtEy01LwxWCM4mPfVa/OJgMTNQJL79dd60EzFK8\n",
       "KdSOnxx1EJ1xAC4GU7gqEHoGDMCS44QTeU++FCcYt4FDXl0pznwlyOQRHoYmuo6M7ek3mLij94RX\n",
       "ccVZXwTnZehZ3IuqfF2RIPLM2EmvQRVC0kfLA0FsF+jGlJiU73dEHyswLkO0huzaluT6pB/BuiJW\n",
       "eDf1ZBy/8bh3JkhyaBjow4IiKoh5DiZsX0+9Hkl0TV6iWOG+vlT/rltMSupboTIhCL0gZIphnjcS\n",
       "fRTQvFSOIVRSradbvcM9seMvSj/H6zQVy0qqyKUjKgwUgsKZnwRaUvncwwnSGw9yCtXamOgOB+Vr\n",
       "fRD0cnaAHKJfyha/QX/kbcn/W6/nE/lbyv5T5ccIboD23CrCqeqEnmPd2dZ02jPIEM8WU+/u/qwK\n",
       "t6HZv0bbrp9fM/9noGkeaIRq893oArSW/XluSs+NdtWWDW/aHpvZ/H20SvgB/B9wqnbU2o8AAAAA\n",
       "SUVORK5CYII=\n",
       "\" style=\"display:inline;vertical-align:middle;\" /></a></td></tr>\n",
       "<tr><td>3</td><td>Variable</td><td></td><td><a class=\"ProveItLink\" href=\"../../../../../__pv_it/2cbe72a7ad6f655694dd697106680215e8489b600/expr.ipynb\"><img src=\"data:image/png;base64,iVBORw0KGgoAAAANSUhEUgAAAA8AAAAOBAMAAAACpFvcAAAALVBMVEX///8QEBBERERUVFS6urqI\n",
       "iIhmZmaqqqrc3Nzu7u6YmJgyMjIiIiLMzMwAAADtIaYWAAAAAXRSTlMAQObYZgAAAFtJREFUCNdj\n",
       "YACBOwxQsA9Kc52bAGG05zVAGAFxDmCaZULdAjBjCsO9ADDDgaEvAUTzGhvbKYCVMDAwbgAxChgY\n",
       "eASANAeQwf0AyJgNxEwvGRia5HYwcOm9TgAA6BoR3jrzwFcAAAAASUVORK5CYII=\n",
       "\" style=\"display:inline;vertical-align:middle;\" /></a></td></tr>\n",
       "<tr><td>4</td><td>Operation</td><td>operator:&nbsp;5<br>operands:&nbsp;6<br></td><td><a class=\"ProveItLink\" href=\"../d094b40ee7280f68ea040dbf7871cf82c8e06b1e0/expr.ipynb\"><img src=\"data:image/png;base64,iVBORw0KGgoAAAANSUhEUgAAADgAAAAPBAMAAABD1xE4AAAAMFBMVEX////MzMyqqqoiIiIyMjK6\n",
       "uroQEBB2dnbc3NyYmJhmZmZUVFRERESIiIju7u4AAAB204erAAAAAXRSTlMAQObYZgAAAQZJREFU\n",
       "GNNjYGDgu7NrJccCBmTAu//37i0HQayyCQysyyYwMLCCxQXAJL8DA4O+AgPDEzsgp76BgYEbJM57\n",
       "ASwpX8DAwPWPgcHtAZATBsSMB4AE8wOw5P0AIP8vA9cnEKcLRHgAsRbE0vNAzPGbod8BxHnIAJXw\n",
       "gEj+AZn0m2H9BLgbgUaCjQabyMDA+Z3BvgHhgQsM3AEQ1kcgwf2V4T+YB3GGAcMTiDKeD0CCLYEh\n",
       "H8RhgvhuEUMlRJIfZPr8CQz7QZq4IGItQL0Qb4J8mwOl6yBi3JKQIGC4DzSJxw/oJqA/o6COYjz8\n",
       "AO5NRi8QQ9p7lQLMvWABBr41/3fvPiXAgAbkULkASfM+HSLH3coAAAAASUVORK5CYII=\n",
       "\" style=\"display:inline;vertical-align:middle;\" /></a></td></tr>\n",
       "<tr><td>5</td><td>Literal</td><td></td><td><a class=\"ProveItLink\" href=\"../087d0b4ded7c7e5bf3bba05ecb616d7a8051ff650/expr.ipynb\"><img src=\"data:image/png;base64,iVBORw0KGgoAAAANSUhEUgAAAAwAAAAOBAMAAADpk+DfAAAALVBMVEX///+YmJh2dnZmZmaqqqrc\n",
       "3NwyMjLu7u4iIiJERESIiIhUVFTMzMy6uroAAAD0I/TTAAAAAXRSTlMAQObYZgAAAEtJREFUCNdj\n",
       "uMAABDwMe0DUKoaTIKqdgS2AgYHFAITAzHYGsMQqBoa9QIqDgT0BSDE7MAkAKdYEDpAehj1SYOpk\n",
       "O5hiMwBTPAUMDAB33Atnw8aG2QAAAABJRU5ErkJggg==\n",
       "\" style=\"display:inline;vertical-align:middle;\" /></a></td></tr>\n",
       "<tr><td>6</td><td>ExprTuple</td><td>7, 8</td><td><a class=\"ProveItLink\" href=\"../fd54ffea77e07ef6158e0f704a03bb0a9ca178230/expr.ipynb\"><img src=\"data:image/png;base64,iVBORw0KGgoAAAANSUhEUgAAADYAAAAVBAMAAAD/UwB2AAAAMFBMVEX////c3NwiIiJERESqqqqY\n",
       "mJh2dnZmZmYQEBDu7u4yMjJUVFTMzMyIiIi6uroAAAAs73DqAAAAAXRSTlMAQObYZgAAAUBJREFU\n",
       "KM9jYMAH+C5gFWZ9ACROg1hzrcsDxCGCt//v3r34AANDDZC9EojZWhkYnrdCdfxiYGD5wsDAxcDA\n",
       "CzSSc9EEoPxHiBTPNyBRP4GBNYGBAyjM1QmytwEix/sPSJy/wMDZwPAKpMoBSDAWQOSYPwAJ+Q0M\n",
       "DCYMZUDRXyAxzgMQOX4DkD6gXDrDUgYG9q/Ijj8P8lN8AgODF0MfAwPTR2S5+yD9+4G+e8EAtJn/\n",
       "A9hMqJw9iOgAGQCS4wDL+UDlPoMC5StYroWBgfsnSAzqTJ6/QIID5J4XDKZQLtsEiKm8f4CEFdDT\n",
       "DFFAlwJd5cDAV8jAMF8B6r1TYDPSGR6BzNm1vQRIzQC6d7r9792ba8Cmr2PgEEA4/yGyX4BhBgxS\n",
       "OAhAlmO7AIkjbHKzgFgazuNFifiNoPDHniZ4DzAAAExYUFmZUn67AAAAAElFTkSuQmCC\n",
       "\" style=\"display:inline;vertical-align:middle;\" /></a></td></tr>\n",
       "<tr><td>7</td><td>Variable</td><td></td><td><a class=\"ProveItLink\" href=\"../../../../../__pv_it/985a1bdf1540838275dec15f4ad6de261cca93ce0/expr.ipynb\"><img src=\"data:image/png;base64,iVBORw0KGgoAAAANSUhEUgAAAA8AAAAOBAMAAAACpFvcAAAAMFBMVEX////MzMyqqqoiIiIyMjK6\n",
       "uroQEBB2dnbc3NyYmJhmZmZUVFRERESIiIju7u4AAAB204erAAAAAXRSTlMAQObYZgAAAGZJREFU\n",
       "CNdjYGDgu7NrJccCBgaGsgkMrMsmMDA8sQNy6hsYGNweABlhDAxcn4A0QxcDQ78DiPGQgWH9BAYI\n",
       "sG+AMv6DSaCGfBDNJMDAsB+kmwuI5S8AiTog5gSaEwXWIO29SgFIAQBC+RaDQlidVgAAAABJRU5E\n",
       "rkJggg==\n",
       "\" style=\"display:inline;vertical-align:middle;\" /></a></td></tr>\n",
       "<tr><td>8</td><td>Variable</td><td></td><td><a class=\"ProveItLink\" href=\"../../../../../__pv_it/185e6d30f167ee2ee5ef3321098dc98e0d77bc590/expr.ipynb\"><img src=\"data:image/png;base64,iVBORw0KGgoAAAANSUhEUgAAABEAAAAOBAMAAAA7w+qHAAAALVBMVEX///8QEBCYmJjc3Ny6urru\n",
       "7u5mZmZ2dnaqqqrMzMxEREQyMjJUVFSIiIgAAABETr/8AAAAAXRSTlMAQObYZgAAAGpJREFUCNdj\n",
       "YGC48+7MmV0TGEDgNQMDxwsQg/M5kMgLABK8T4DEvAtAgusBkLA7ACT4FoDEDsAk9AqAxD2QCecc\n",
       "gMQ6kAGCIOIVEDM9Ahn3FkgwgnTxvgQSqwOgxs1OADLC1r05cyoTyAAAv4Qe+njAWvgAAAAASUVO\n",
       "RK5CYII=\n",
       "\" style=\"display:inline;vertical-align:middle;\" /></a></td></tr>\n",
       "</table>\n"
      ],
      "text/plain": [
       "0. A => (C or D)\n",
       "   core type: Operation\n",
       "   operator: 1\n",
       "   operands: 2\n",
       "1. =>\n",
       "   core type: Literal\n",
       "   sub-expressions: \n",
       "2. (A , C or D)\n",
       "   core type: ExprTuple\n",
       "   sub-expressions: 3, 4\n",
       "3. A\n",
       "   core type: Variable\n",
       "   sub-expressions: \n",
       "4. C or D\n",
       "   core type: Operation\n",
       "   operator: 5\n",
       "   operands: 6\n",
       "5. or\n",
       "   core type: Literal\n",
       "   sub-expressions: \n",
       "6. (C , D)\n",
       "   core type: ExprTuple\n",
       "   sub-expressions: 7, 8\n",
       "7. C\n",
       "   core type: Variable\n",
       "   sub-expressions: \n",
       "8. D\n",
       "   core type: Variable\n",
       "   sub-expressions: "
      ]
     },
     "execution_count": 4,
     "metadata": {},
     "output_type": "execute_result"
    }
   ],
   "source": [
    "# display the expression information\n",
    "expr.exprInfo()"
   ]
  },
  {
   "cell_type": "code",
   "execution_count": null,
   "metadata": {},
   "outputs": [],
   "source": []
  }
 ],
 "metadata": {
  "kernelspec": {
   "display_name": "Python 3",
   "language": "python",
   "name": "python3"
  }
 },
 "nbformat": 4,
 "nbformat_minor": 0
}
