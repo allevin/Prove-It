{
 "cells": [
  {
   "cell_type": "markdown",
   "metadata": {},
   "source": [
    "Show the Proof\n",
    "========"
   ]
  },
  {
   "cell_type": "code",
   "execution_count": 1,
   "metadata": {},
   "outputs": [
    {
     "data": {
      "text/html": [
       "<table><tr><th>&nbsp;</th><th>step type</th><th>requirements</th><th>statement</th></tr>\n",
       "<tr><td>0</td><td>assumption</td><td></td><td><span style=\"font-size:20px;\"><a class=\"ProveItLink\" href=\"../c9c686a1be4011115658dc60165b9c4a6bee494d0/expr.ipynb\"><img src=\"data:image/png;base64,iVBORw0KGgoAAAANSUhEUgAAAO0AAAAVBAMAAABYonTIAAAAMFBMVEX////c3NxERESqqqpUVFS6\n",
       "urrMzMwyMjIQEBCIiIh2dnYiIiLu7u5mZmaYmJgAAABXZE4RAAAAAXRSTlMAQObYZgAAAxZJREFU\n",
       "SMe9Vj1oFEEUfpvL3eV+9rKgjYVYpEgqc10qIYGLYiG5zhMVjpAi3R1iwCJqNEQbQbEQUuXAJorB\n",
       "Kyz8CZjKWKZSMRgPUYKx8C8hKGp8P7O7b2eP2DnwzezMfvO9mbfz3iwAFNbgv5bUXY+a/OPI6AmD\n",
       "SPlgDyRvWAOFsk2JiRCFaalp6ma+RBYzKFAjTQC3ammMhY/vd0ql3jK8sHelRPI3j605K0xh2kuq\n",
       "slOanl4SqBFaV12eHf/NpCJcxnVtQRqiFC0y34LkqxZTmDYftztrEJZPv7DaMGIr0maUm1M/EJtQ\n",
       "aEQpSmR5Eav7HlOY1sbuNYOgOIe+Yv1cOqOL0napzWTwfeEn5KeiFCVyjtgVYArT4naTdYGSzWxh\n",
       "3VHkzrDZxXFF6MD5ObTSA5qiRNzvVO8HofS0tes2BGE5lfhDJPZevp6TwdeK0D0Izhnc0QJoihI5\n",
       "wEt4BkJZ8O26envpliA8imX6fpBgUrblyr4vKEbt6OwqzRgATVEib4PHAYPP1BnHkHKfUMEldpUF\n",
       "q9SnwE6C85sadkoOHFnkjJoy50H+gXxARVEiTz3fbsWAzt7YFR1x3WVBEKRjpdI3esdB/hHgML/Z\n",
       "UlP6sJ3DLdVAU5TIDrd0tmoG0Iv8SnU3u/h8NbC76CcMbXeTHNfw7foUJXKdmkRV2c3Rx++sK5Gu\n",
       "osC3m8Dmoe/nBLonzU6bDqek6NiNFI2fA4oSGaGtutrP/H2zTWW3oyXw7e7B5iLlVlocCSb4YB8M\n",
       "p1D4Otv4vA6aokRqlGTugaGsx+OoKvGSXfFVMSqw6V8yY6M0yKtcCKdQ+I5P+mMBRYkUMH5Pe2DH\n",
       "UTRvNAUmV/Vte/Bu5zzugz7XcJD/ToYB379ZOsJhNQGaEorgls++Ea9PGLTJk5cMrMJ5ko9KkqPE\n",
       "izEkT4aUNiK75Em+ADbiU+5YV2kjxshaN3IbEaIwje0W/nEPSvazBiZjostWPy7ClOXg/s0/ilw/\n",
       "g4Jo6bT9ujcmOmT14yJMIaRmxGm39ct9BpFyyx5w7P+cjP1HEhchCoH/r/4CIaDl6eU4K2AAAAAA\n",
       "SUVORK5CYII=\n",
       "\" style=\"display:inline;vertical-align:middle;\" /></a> <a class=\"ProveItLink\" href=\"proof.ipynb\" style=\"text-decoration: none\">&#x22A2;&nbsp;</a><a class=\"ProveItLink\" href=\"../2eef85957b13e442efb9bd2d465f72a43267e5880/expr.ipynb\"><img src=\"data:image/png;base64,iVBORw0KGgoAAAANSUhEUgAAANcAAAAVBAMAAAAnc2Y5AAAAMFBMVEX////c3NxERESqqqqYmJgQ\n",
       "EBDu7u4yMjKIiIi6urpUVFTMzMx2dnYiIiJmZmYAAABjE816AAAAAXRSTlMAQObYZgAAAsxJREFU\n",
       "SMfFlT1oFEEUx9/Fvdzt7X0EBSMWJuBHIYjXWQh6nQgHOVEUK7cJaiFcQJQU6pUBwWwjpomcNsIV\n",
       "5mpB7gqLVOEK7QyeWvpxBiXRQ9A3b97sfOxi64M/uzPzm//MvvlYgP8TfkvKCi9ysRW34myaURKx\n",
       "sRcsHS9Rn5x+QVtPZG3ceboI5a6DmCbXjn6tHSDExm6xdNxD5fh9Lz9zoW7PzgKMImg6iGFSvADw\n",
       "GCWQpuGcb0kZKXyHxl5fFu5y5ZIB9BDvtaEOFmKYTN5Bh+IWEFI3emZDKR17RlPIN2T2jnHTRQNY\n",
       "xva5PsyDhRgmOUH76CCQeaPnI5aO1rLYHQfpvbAi5+ubyTiMehPCRNVCDJORaMkMgRDGKD6z9KYK\n",
       "T9fwsUGFqzCgZ7lvEGOA6SOYp6GFaJPMDuWyKxHGKG6y4rhOawInqPAKPsrE1IyNOV568Bqfu5oW\n",
       "ok3KP9SbQFBfNjHeYvmyVFmUN8X8I5gRc3lI9ACm5YJgZlWXPK78jbZcFAPRJqWtOEuNGKOT8Yul\n",
       "DlPQ6azNii1HG7MFBTonlUgfpgnsncfJB98sRJtUqGESJCKx9MF8/IymGqwU8mk2B6tgjfdbucSI\n",
       "NslSw8mUwc6z1GC4d0oNlcZTqAVKY1UP1sP1K3xX+YkRbVLYFs9hShoPsXiwDLrmxFzOALsIN5io\n",
       "6cHEMZvBj/eaFqJNgp/iEhHHzosxrOctvqEWtIsbGZ23uS4Qi1ei+0ft34COWXAp5DqNGCZzVfDf\n",
       "q27m1l9lydh9ZQG84zvYvijOa6SuIX8QIx/+dDq3xYfmIgtZNQ7Hs+d8YiLG1HU1JeUEXVc+vRJ8\n",
       "LvlvontIIykmietK3LheP4EVnZ9TPem07vwC++nI+r9/MfISsiMXJr696VQkTQRiY/tZdjxxypm2\n",
       "SxTctCVNBGJjmZaUFXn3Nwz73Ir7bkXChBDUXx5fz8rwbTu2AAAAAElFTkSuQmCC\n",
       "\" style=\"display:inline;vertical-align:middle;\" /></a></span></td></tr>\n",
       "</table>"
      ],
      "text/plain": [
       "<proveit._core_.proof._ShowProof at 0x7f94ebfac4e0>"
      ]
     },
     "execution_count": 1,
     "metadata": {},
     "output_type": "execute_result"
    }
   ],
   "source": [
    "import proveit\n",
    "%show_proof"
   ]
  },
  {
   "cell_type": "code",
   "execution_count": null,
   "metadata": {},
   "outputs": [],
   "source": []
  }
 ],
 "metadata": {
  "kernelspec": {
   "display_name": "Python 3",
   "language": "python",
   "name": "python3"
  }
 },
 "nbformat": 4,
 "nbformat_minor": 0
}
