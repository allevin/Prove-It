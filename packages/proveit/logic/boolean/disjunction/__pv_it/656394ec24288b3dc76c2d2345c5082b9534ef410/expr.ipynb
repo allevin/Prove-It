{
 "cells": [
  {
   "cell_type": "markdown",
   "metadata": {},
   "source": [
    "Expression of type <a class=\"ProveItLink\" href=\"../../../../../../../doc/html/api/proveit.ExprTuple.html\">ExprTuple</a>\n",
    "=======================\n",
    "# from context <a class=\"ProveItLink\" href=\"../../_context_.ipynb\">proveit.logic.boolean.disjunction</a>"
   ]
  },
  {
   "cell_type": "code",
   "execution_count": 1,
   "metadata": {},
   "outputs": [],
   "source": [
    "# import Expression classes needed to build the expression\n",
    "from proveit import ExprTuple\n",
    "from proveit._common_ import H, I, J, K"
   ]
  },
  {
   "cell_type": "code",
   "execution_count": 2,
   "metadata": {},
   "outputs": [
    {
     "data": {
      "text/html": [
       "<strong id=\"expr\">expr:</strong> <a class=\"ProveItLink\" href=\"expr.ipynb\"><img src=\"data:image/png;base64,iVBORw0KGgoAAAANSUhEUgAAAGMAAAAVBAMAAACgbk16AAAAMFBMVEX////c3NwiIiJERESqqqqY\n",
       "mJh2dnZmZmYQEBDu7u4yMjJUVFTMzMyIiIi6uroAAAAs73DqAAAAAXRSTlMAQObYZgAAAa1JREFU\n",
       "OMudUz1MwkAYfYgFihQ7mrgQF0ddDIND2Y2RycXEoAuTocbEVQZnbVx0g8VE4yAOujDA5OLC5IJG\n",
       "dHThp4qRv3rX9mtLZBAvud7r9b2v33fvO+AfI1oZh73JHw9sVo24tmHEZXM3UNJ3iZFemLdA1VjW\n",
       "UNLLwTJ7ueQ7HTZbxJvOu1EzZRtwxooGsG8SzyvaByJfRKunXMkFpd8GhAQD60BI47n0mPbDiVxz\n",
       "JV17DQwgbnFwBrzzNdwA/N9Eu/aczacNGOPeBP4E9s3sF9mMEU93JYGmU5+gWjsqzs3sr4pFRaXI\n",
       "fVcSzjr1ZayQk3kc0bm8JChyz5XkClTfY9CqNZrFgLJXNDdtZ6wlqb6kr2OCSMOS6PbBgwqjcaC5\n",
       "tihlW3JItrQdW6iDZlTMeWypF+zElsgW/jvNMZyjTCrCYolU34TpgpBH2mOL2KLCTLSKExY4F7MZ\n",
       "Uts+5DfgVOlWgqVuCuKxDN+ecQcTQXq+5XY3LQa2jRsuriEkey+C/Bvhdaj7WcMInh6EMAIhOSTZ\n",
       "oeb/s0TkF2PWs1EZgaShn0zxhH1jXeQn4AcTg4InS07e0gAAAABJRU5ErkJggg==\n",
       "\" style=\"display:inline;vertical-align:middle;\" /></a><br>"
      ],
      "text/plain": [
       "expr: (H , I , J , K)"
      ]
     },
     "execution_count": 2,
     "metadata": {},
     "output_type": "execute_result"
    }
   ],
   "source": [
    "# build up the expression from sub-expressions\n",
    "expr = ExprTuple(H, I, J, K)"
   ]
  },
  {
   "cell_type": "code",
   "execution_count": 3,
   "metadata": {},
   "outputs": [
    {
     "name": "stdout",
     "output_type": "stream",
     "text": [
      "Passed sanity check: built 'expr' is the same as the stored Expression.\n"
     ]
    }
   ],
   "source": [
    "# check that the built expression is the same as the stored expression\n",
    "%check_expr"
   ]
  },
  {
   "cell_type": "code",
   "execution_count": 4,
   "metadata": {},
   "outputs": [
    {
     "data": {
      "text/html": [
       "<table><tr><th>&nbsp;</th><th>core type</th><th>sub-expressions</th><th>expression</th></tr>\n",
       "<tr><td>0</td><td>ExprTuple</td><td>1, 2, 3, 4</td><td><a class=\"ProveItLink\" href=\"expr.ipynb\"><img src=\"data:image/png;base64,iVBORw0KGgoAAAANSUhEUgAAAGMAAAAVBAMAAACgbk16AAAAMFBMVEX////c3NwiIiJERESqqqqY\n",
       "mJh2dnZmZmYQEBDu7u4yMjJUVFTMzMyIiIi6uroAAAAs73DqAAAAAXRSTlMAQObYZgAAAa1JREFU\n",
       "OMudUz1MwkAYfYgFihQ7mrgQF0ddDIND2Y2RycXEoAuTocbEVQZnbVx0g8VE4yAOujDA5OLC5IJG\n",
       "dHThp4qRv3rX9mtLZBAvud7r9b2v33fvO+AfI1oZh73JHw9sVo24tmHEZXM3UNJ3iZFemLdA1VjW\n",
       "UNLLwTJ7ueQ7HTZbxJvOu1EzZRtwxooGsG8SzyvaByJfRKunXMkFpd8GhAQD60BI47n0mPbDiVxz\n",
       "JV17DQwgbnFwBrzzNdwA/N9Eu/aczacNGOPeBP4E9s3sF9mMEU93JYGmU5+gWjsqzs3sr4pFRaXI\n",
       "fVcSzjr1ZayQk3kc0bm8JChyz5XkClTfY9CqNZrFgLJXNDdtZ6wlqb6kr2OCSMOS6PbBgwqjcaC5\n",
       "tihlW3JItrQdW6iDZlTMeWypF+zElsgW/jvNMZyjTCrCYolU34TpgpBH2mOL2KLCTLSKExY4F7MZ\n",
       "Uts+5DfgVOlWgqVuCuKxDN+ecQcTQXq+5XY3LQa2jRsuriEkey+C/Bvhdaj7WcMInh6EMAIhOSTZ\n",
       "oeb/s0TkF2PWs1EZgaShn0zxhH1jXeQn4AcTg4InS07e0gAAAABJRU5ErkJggg==\n",
       "\" style=\"display:inline;vertical-align:middle;\" /></a></td></tr>\n",
       "<tr><td>1</td><td>Variable</td><td></td><td><a class=\"ProveItLink\" href=\"../../../../../__pv_it/fabf74ac81cd36aa91075816201d2b14195a56e60/expr.ipynb\"><img src=\"data:image/png;base64,iVBORw0KGgoAAAANSUhEUgAAABMAAAAOBAMAAAA/Njq6AAAALVBMVEX///+qqqp2dnbMzMy6uroi\n",
       "IiIyMjLc3NyYmJju7u5mZmZERERUVFSIiIgAAABaGT/LAAAAAXRSTlMAQObYZgAAAGhJREFUCNdj\n",
       "YGC4827XhJ53uwoYgOAZED8FMRhY3jIwML8CM5keMzDwPgQz2R4wMHC/BDP5NgBxAJjpl3PmzL4F\n",
       "YKaeAQPDPQEwMw+I900AM19DjYYa+whh7BM0Y2fte3OB69wbBQYGADOSITJjbaXUAAAAAElFTkSu\n",
       "QmCC\n",
       "\" style=\"display:inline;vertical-align:middle;\" /></a></td></tr>\n",
       "<tr><td>2</td><td>Variable</td><td></td><td><a class=\"ProveItLink\" href=\"../../../../../__pv_it/485fbf85ade6e4660c176b077846a05437e7af3e0/expr.ipynb\"><img src=\"data:image/png;base64,iVBORw0KGgoAAAANSUhEUgAAAAsAAAAOBAMAAAALT/umAAAAIVBMVEX////MzMyIiIi6uroyMjLc\n",
       "3NxmZmZERERUVFR2dnYAAABv5Bk0AAAAAXRSTlMAQObYZgAAAD9JREFUCNdjYGCYsaosgAEIloAI\n",
       "BuaVYIpzMZhiWQCmuArAlJUCmJolAKa8wCTDcoi2RRBtC5G0hVWtmMDAAAAhAQsT8Qr5GAAAAABJ\n",
       "RU5ErkJggg==\n",
       "\" style=\"display:inline;vertical-align:middle;\" /></a></td></tr>\n",
       "<tr><td>3</td><td>Variable</td><td></td><td><a class=\"ProveItLink\" href=\"../../../../../__pv_it/0730776658406f13a5e8bca83a69f67d4b6b708d0/expr.ipynb\"><img src=\"data:image/png;base64,iVBORw0KGgoAAAANSUhEUgAAAA0AAAAOBAMAAAAGUYvhAAAALVBMVEX///+IiIiqqqru7u7c3NyY\n",
       "mJi6urpUVFQQEBAyMjLMzMwiIiJmZmZ2dnYAAABVuDDQAAAAAXRSTlMAQObYZgAAAEdJREFUCNdj\n",
       "YGBguLNvDwMY3FsAoWdAKIbnEIrtKYTmfQKhORsgtF0BhNYLgNDnDICExwGG3WCzLnA9BNGKDNZg\n",
       "ZYyCpSAKAIbhD5JM+WhaAAAAAElFTkSuQmCC\n",
       "\" style=\"display:inline;vertical-align:middle;\" /></a></td></tr>\n",
       "<tr><td>4</td><td>Variable</td><td></td><td><a class=\"ProveItLink\" href=\"../../../../../__pv_it/3fb1092d10295c809ebd5134eaa882b76222b6190/expr.ipynb\"><img src=\"data:image/png;base64,iVBORw0KGgoAAAANSUhEUgAAABMAAAAOBAMAAAA/Njq6AAAALVBMVEX///8iIiJmZmbc3NyYmJh2\n",
       "dna6urqqqqoyMjLMzMzu7u5ERERUVFSIiIgAAAAU/m/NAAAAAXRSTlMAQObYZgAAAG5JREFUCNdj\n",
       "YGC4827PAoZzrycwAMELIK5ZAGKxPWVgYCkAsRhYnzFwBYNZDBwPGKZCWAx8DSwKUGZeQJwAlBl3\n",
       "lek5lNnnwPwCygTS+8Dmg43NOwAx9iUDA+MrmLEMvE9BrEX73lxgCHx3mIEBAPGUHmvA0AqBAAAA\n",
       "AElFTkSuQmCC\n",
       "\" style=\"display:inline;vertical-align:middle;\" /></a></td></tr>\n",
       "</table>\n"
      ],
      "text/plain": [
       "0. (H , I , J , K)\n",
       "   core type: ExprTuple\n",
       "   sub-expressions: 1, 2, 3, 4\n",
       "1. H\n",
       "   core type: Variable\n",
       "   sub-expressions: \n",
       "2. I\n",
       "   core type: Variable\n",
       "   sub-expressions: \n",
       "3. J\n",
       "   core type: Variable\n",
       "   sub-expressions: \n",
       "4. K\n",
       "   core type: Variable\n",
       "   sub-expressions: "
      ]
     },
     "execution_count": 4,
     "metadata": {},
     "output_type": "execute_result"
    }
   ],
   "source": [
    "# display the expression information\n",
    "expr.exprInfo()"
   ]
  },
  {
   "cell_type": "code",
   "execution_count": null,
   "metadata": {},
   "outputs": [],
   "source": []
  }
 ],
 "metadata": {
  "kernelspec": {
   "display_name": "Python 3",
   "language": "python",
   "name": "python3"
  }
 },
 "nbformat": 4,
 "nbformat_minor": 0
}
