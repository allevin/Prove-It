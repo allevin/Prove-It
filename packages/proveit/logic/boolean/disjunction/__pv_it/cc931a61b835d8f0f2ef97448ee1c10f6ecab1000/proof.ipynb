{
 "cells": [
  {
   "cell_type": "markdown",
   "metadata": {},
   "source": [
    "Show the Proof\n",
    "========"
   ]
  },
  {
   "cell_type": "code",
   "execution_count": 1,
   "metadata": {},
   "outputs": [
    {
     "data": {
      "text/html": [
       "<table><tr><th>&nbsp;</th><th>step type</th><th>requirements</th><th>statement</th></tr>\n",
       "<tr><td>0</td><td>assumption</td><td></td><td><span style=\"font-size:20px;\"><a class=\"ProveItLink\" href=\"../e27c947b8372c228c0deef8fb0d2758d89c1fd600/expr.ipynb\"><img src=\"data:image/png;base64,iVBORw0KGgoAAAANSUhEUgAAAREAAAAVBAMAAACTXMcfAAAAMFBMVEX////c3NxERESqqqpUVFS6\n",
       "urrMzMwyMjIQEBCIiIh2dnYiIiLu7u5mZmaYmJgAAABXZE4RAAAAAXRSTlMAQObYZgAAA4tJREFU\n",
       "SMfFlk1oU0EQxydf7+XlqwEF8SAKgi2INjdPxQqx4kGamxUVQumhB7FRFDykGi3Vi2DxIPTUgJcq\n",
       "VnvwoG3BnGyPRUHFYg2iiPXQqolFqdaZ2fcx2VdKbgayb7P72//O7MybLACkFuE/f4z7aXokpqg9\n",
       "oc9+0gciI9pAKqcjPpFmEWOIutYKdTsbbJwESOa1JX1e9+N6Ntuag1e6a0IkcfvYYmB+M8TqrmWP\n",
       "7AGFvKYmVsLGrEjeJOMK1GOfDB4sCuAaWloHExoRKTJehcibqkIiPJLXkRbc4WBGIeOuJaMNln9d\n",
       "w2aJel3gTFoiOMYv/NYgVW5EhMjsDDaP0goJ5931cp8BnEuuKcSz5KY0JNDxDds56vZSQ6oQFd5Y\n",
       "OJ/6DYlSIyJELhHdAwoxdmETr2gIjOXYJ0ZcSyIFaYll1bENZug0MalD8zR4XABBXBJH0d0gESGS\n",
       "/EHtDrCRc/jtAND2aSenawpxLUmWpSWnQn9pnNRpC5NfsbcCaOmEwHn0cQIkIkR28o7PwUY6bGsa\n",
       "9/kOHGNG2JIkrjKrgkjkKA8gVLCPnY8fLssIHx1doBUHQCJC5L3bZQQjwxFq2Ic3wRgzskwj/Riu\n",
       "KH4XpvEzxake+EOPkp1ih3nhMNpMxDS6NZaGxGOVCAIRIs/Szn49draHcxoC1k9K5rpCTDzYvut0\n",
       "3DlRNPqyWT64FXYHEiq2dVER2ijf0L0BkIgQWecn5ahCJmEWNASCpB8t2UgryvXkNUuwf8O1JJmJ\n",
       "VX2W1Og8y842DiJEbnEC5V1LXsJDnyUtFK9l2584v+3oUDTjESF8PHGjEyjE1cyQZ4lBCd2dcaLj\n",
       "IEKkm44j6UYHtuGpaAgMjKgSyQjnSQyhYNUjtuDjCiWTikrXFzWz37OEyklgFfufQSJChHd5AC4S\n",
       "PjuiIzCGRxYs2oj7FvMbq6o2x7y94o71zqiZCScH81xO+ovemI0IkRTWk9Npb5mxt6IjVE6MQQfx\n",
       "KtukW1/bVtPwYR0RU8XUtBef9MpWO/518Ut9ESTiiaDPF96pQNjIIGhI4gX+i+7LO4hX7a/6Lw1z\n",
       "tvV2lY+mfYSq9h6ygYiDnIHNEc+SJT9xT7tHlH1ETLuxbCDSLMKWpPy3Aja1oA0UfRqz2m+/SNMI\n",
       "308STyk9OnUgrEdjq0/jkPbbL9IsYgyrc7+LzXYduKMPBPTbo6Xf6vwiTSJ8j/0HSeIKp4nUFGoA\n",
       "AAAASUVORK5CYII=\n",
       "\" style=\"display:inline;vertical-align:middle;\" /></a> <a class=\"ProveItLink\" href=\"proof.ipynb\" style=\"text-decoration: none\">&#x22A2;&nbsp;</a><a class=\"ProveItLink\" href=\"../ab90c64c7caebb13933fa0ab141d2393f7f775530/expr.ipynb\"><img src=\"data:image/png;base64,iVBORw0KGgoAAAANSUhEUgAAAPsAAAAVBAMAAAByEoVnAAAAMFBMVEX////c3NwiIiJERESqqqqY\n",
       "mJh2dnZmZmYQEBDu7u4yMjJUVFTMzMyIiIi6uroAAAAs73DqAAAAAXRSTlMAQObYZgAAAzhJREFU\n",
       "SMfFlj1oFFEQx+fusvext5cEFISIJAiKqRRR8KPIdYIIXpVC0FwjqYRTgzaBi6CgFrrYGALKRhGJ\n",
       "RTyxELzgHQYLtbh0FhpypFEEIcEYyIfRmXm7+z5W4mHjwtuPeb/9z9t5M+8twH8+2mcMg9U0kW+m\n",
       "4cxfRVpG3mum19iGDcypyKHV1qrPJyFVNxBV5N7Ry4VtmyIff1WrD+sCmdCgp9hsHiw/sobtyv70\n",
       "PoByEzwDUUSS1wA+Y2OEA+mAgcAqQNsSIzktJtZedGUV8S5LsqJzVgEaaGlUoB80RBHJPECF5CII\n",
       "ZCp8X/XjLOOp7BKSdlX3W8udqDBCCH4mxLnzhgLMYf9AEUZBQxQRm+h2VGBkmk69oCOQ2xAfgshX\n",
       "LfYzcxSuA3Q7ju0Yx9hTgEPY9riQyGuIIlKmnlgJBGLjaNtKBgKJBTx1Vwi5pGWne7KAl0HwdUkf\n",
       "UkWFWAPoOozRLWmIFImt8gzUfYRc0xBA89NBYcMpROSR6v4+zy0cBxFVji7YBWXW1mY/7CJZT0Ok\n",
       "SOpHcCeQXn8CND/sBKcQkVv4yk46ipyo3TTmL36uZDlx03i+QMRuNGJO3amIyVUQKRJfDCM54qfd\n",
       "K9ARTCDK2VqTkA2luJ1qtcZxYUsPjIlQNWXlJlAzhx/oLGiIFOngjgwESBwynoEA9NHNdUZUMxZy\n",
       "2gvdD8HZiPsOpKzl0H2ASJE0d5wI3afyyULE/XcqcfERVxUz5mp8JAg+dOHHcfDz0n0DtbJLQWRD\n",
       "RIpkV+haCoMf8+JgIOD89NcvRA5Kcwz92DTmU2zJvhErRaIg3VPZd2OALE9DpAhLJ6nGfWTqNBgI\n",
       "5NbxesRlZDBIlTrPY2IlKDxw9ouVQhSZWDyx7J2bbmgLEEVkIA/t55XXpnvBRKjs35UEMh+Ww5bb\n",
       "42D1raJ9Uhge+yncEyIXca94QsGwmxoyr5TmyxdDYvkTiF0ykbt9uG0N+0i6M7IFZ8TEwlv/+Up0\n",
       "lx4FDfmDSIA47qaIVYxYk8bO3B998Zzxi1D8Z2QiYh0znm03Eh/PMERFWkW2R8zPjOdYxSSyZiSj\n",
       "Iq0iMfMnKGf+p8AO0/DJNEREWkR+A7kj/1WGxySrAAAAAElFTkSuQmCC\n",
       "\" style=\"display:inline;vertical-align:middle;\" /></a></span></td></tr>\n",
       "</table>"
      ],
      "text/plain": [
       "<proveit._core_.proof._ShowProof at 0x7f94ebf820f0>"
      ]
     },
     "execution_count": 1,
     "metadata": {},
     "output_type": "execute_result"
    }
   ],
   "source": [
    "import proveit\n",
    "%show_proof"
   ]
  },
  {
   "cell_type": "code",
   "execution_count": null,
   "metadata": {},
   "outputs": [],
   "source": []
  }
 ],
 "metadata": {
  "kernelspec": {
   "display_name": "Python 3",
   "language": "python",
   "name": "python3"
  }
 },
 "nbformat": 4,
 "nbformat_minor": 0
}
