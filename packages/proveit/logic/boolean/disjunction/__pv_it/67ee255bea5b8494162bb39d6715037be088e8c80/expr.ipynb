{
 "cells": [
  {
   "cell_type": "markdown",
   "metadata": {},
   "source": [
    "Expression of type <a class=\"ProveItLink\" href=\"../../../../../../../doc/html/api/proveit.Lambda.html\">Lambda</a>\n",
    "=======================\n",
    "# from context <a class=\"ProveItLink\" href=\"../../_context_.ipynb\">proveit.logic.boolean.disjunction</a>"
   ]
  },
  {
   "cell_type": "code",
   "execution_count": 1,
   "metadata": {},
   "outputs": [],
   "source": [
    "# import Expression classes needed to build the expression\n",
    "from proveit import Lambda\n",
    "from proveit._common_ import A, B\n",
    "from proveit.logic import Forall, Not, Or"
   ]
  },
  {
   "cell_type": "code",
   "execution_count": 2,
   "metadata": {},
   "outputs": [
    {
     "data": {
      "text/html": [
       "<strong id=\"expr\">expr:</strong> <a class=\"ProveItLink\" href=\"expr.ipynb\"><img src=\"data:image/png;base64,iVBORw0KGgoAAAANSUhEUgAAAP4AAAAZCAMAAAAmCWNZAAAANlBMVEX///92dnYUFBQNDQ0QEBBE\n",
       "RERUVFS6urqIiIhmZmaqqqrc3Nzu7u6YmJgyMjIiIiLMzMwAAACuIkBbAAAAAXRSTlMAQObYZgAA\n",
       "As1JREFUWMPtmNmS4yAMRWHG7Kv+/2fHBkwDhgQSp7q7anjJQ2RxD0hCgNALgzjnFPqZg+3a8Gen\n",
       "cOhHD0X/41dDqtvx9Scil7/+rWFjfMyef+/dEv6XteE30Xu6pMdQALoPYgOd8Ev4rXsLS/hY5g/v\n",
       "CoTaUaGnUO9Lk42EHwHBwC7hN7jGgV7BV+ScjdxEz/lID/VdGw88/QZggxfwG1wlBagV/LxXQt6E\n",
       "vw31+LzCrrThycJAANfbPH6Ly3dnbAnfYBXGXecAs2ioxyapUlT9R+J1aeGInMZvcJlGEkyRGfXB\n",
       "IXsHH5Bj3NZkiNJRo+fEtlWAxphXlqSQwGIWv3Gv2Vcm9Y52qjv4MSNJVCQJCCEoKUrTIJg6lhGt\n",
       "WP2rHl0nQUp5zrlw+TtpJ/Fb98ffCsQQX1N1xWfHNPqMExMikW9FbI4OrItlTH2GxnpiyaMVRkp9\n",
       "7U5ctk3iN+79cXxSKPT+/eOqsZWZ4opffq69CJOyoqCM8K+WMZQZGusJc+k6Jc/U52cYe5jDb93H\n",
       "fzc77murdT//PNBzKXZhf4R7vvtXyxb/qiecL9iga+rnwj+P37iXZwEd4gvV6/n33ciNmoYjl01Z\n",
       "mwb4HcsoJ9fXjp69wLWi/LnpFORS8Dfulbz2Qc1MvH/lISpHBYO9DFFSlsgBfscymhs01nMU2qa5\n",
       "Pk99Bbn8TJW+xn3OKFL0QfVMenDjk18RjG2sarqHj0kcdmBZHlt9PUfVd7qX+n7LvfLUwVe7V2SD\n",
       "EIeGAFixeOHd8jIREQNbPtp9MrBMDxWxhR7pqcUJEu87tjgv49XnIf4ruGN8kzck0jDwT/E7lmkt\n",
       "Hzfd/tmVZKXpvfm5Q4VAVU6gZ/g9y7SWb/aPmH8XPrahk7MSPcT3A8tbbs567cL78ceu5Yvwe490\n",
       "uTH9rfhIvfFuxP14FfnvwP/UU+e9w82989PvYD/e+ecn/geC1SCNw8s0GwAAAABJRU5ErkJggg==\n",
       "\" style=\"display:inline;vertical-align:middle;\" /></a><br>"
      ],
      "text/plain": [
       "expr: A -> [forall_{B | [not](B)} (A or B)] | A"
      ]
     },
     "execution_count": 2,
     "metadata": {},
     "output_type": "execute_result"
    }
   ],
   "source": [
    "# build up the expression from sub-expressions\n",
    "expr = Lambda(A, Forall([B], Or(A, B), conditions = [Not(B)]), conditions = [A])"
   ]
  },
  {
   "cell_type": "code",
   "execution_count": 3,
   "metadata": {},
   "outputs": [
    {
     "name": "stdout",
     "output_type": "stream",
     "text": [
      "Passed sanity check: built 'expr' is the same as the stored Expression.\n"
     ]
    }
   ],
   "source": [
    "# check that the built expression is the same as the stored expression\n",
    "%check_expr"
   ]
  },
  {
   "cell_type": "code",
   "execution_count": 4,
   "metadata": {},
   "outputs": [
    {
     "data": {
      "text/html": [
       "<table><tr><th>&nbsp;</th><th>core type</th><th>sub-expressions</th><th>expression</th></tr>\n",
       "<tr><td>0</td><td>Lambda</td><td>parameter:&nbsp;10<br>body:&nbsp;1<br>conditions:&nbsp;2<br></td><td><a class=\"ProveItLink\" href=\"expr.ipynb\"><img src=\"data:image/png;base64,iVBORw0KGgoAAAANSUhEUgAAAP4AAAAZCAMAAAAmCWNZAAAANlBMVEX///92dnYUFBQNDQ0QEBBE\n",
       "RERUVFS6urqIiIhmZmaqqqrc3Nzu7u6YmJgyMjIiIiLMzMwAAACuIkBbAAAAAXRSTlMAQObYZgAA\n",
       "As1JREFUWMPtmNmS4yAMRWHG7Kv+/2fHBkwDhgQSp7q7anjJQ2RxD0hCgNALgzjnFPqZg+3a8Gen\n",
       "cOhHD0X/41dDqtvx9Scil7/+rWFjfMyef+/dEv6XteE30Xu6pMdQALoPYgOd8Ev4rXsLS/hY5g/v\n",
       "CoTaUaGnUO9Lk42EHwHBwC7hN7jGgV7BV+ScjdxEz/lID/VdGw88/QZggxfwG1wlBagV/LxXQt6E\n",
       "vw31+LzCrrThycJAANfbPH6Ly3dnbAnfYBXGXecAs2ioxyapUlT9R+J1aeGInMZvcJlGEkyRGfXB\n",
       "IXsHH5Bj3NZkiNJRo+fEtlWAxphXlqSQwGIWv3Gv2Vcm9Y52qjv4MSNJVCQJCCEoKUrTIJg6lhGt\n",
       "WP2rHl0nQUp5zrlw+TtpJ/Fb98ffCsQQX1N1xWfHNPqMExMikW9FbI4OrItlTH2GxnpiyaMVRkp9\n",
       "7U5ctk3iN+79cXxSKPT+/eOqsZWZ4opffq69CJOyoqCM8K+WMZQZGusJc+k6Jc/U52cYe5jDb93H\n",
       "fzc77murdT//PNBzKXZhf4R7vvtXyxb/qiecL9iga+rnwj+P37iXZwEd4gvV6/n33ciNmoYjl01Z\n",
       "mwb4HcsoJ9fXjp69wLWi/LnpFORS8Dfulbz2Qc1MvH/lISpHBYO9DFFSlsgBfscymhs01nMU2qa5\n",
       "Pk99Bbn8TJW+xn3OKFL0QfVMenDjk18RjG2sarqHj0kcdmBZHlt9PUfVd7qX+n7LvfLUwVe7V2SD\n",
       "EIeGAFixeOHd8jIREQNbPtp9MrBMDxWxhR7pqcUJEu87tjgv49XnIf4ruGN8kzck0jDwT/E7lmkt\n",
       "Hzfd/tmVZKXpvfm5Q4VAVU6gZ/g9y7SWb/aPmH8XPrahk7MSPcT3A8tbbs567cL78ceu5Yvwe490\n",
       "uTH9rfhIvfFuxP14FfnvwP/UU+e9w82989PvYD/e+ecn/geC1SCNw8s0GwAAAABJRU5ErkJggg==\n",
       "\" style=\"display:inline;vertical-align:middle;\" /></a></td></tr>\n",
       "<tr><td>1</td><td>Operation</td><td>operator:&nbsp;3<br>operand:&nbsp;4<br></td><td><a class=\"ProveItLink\" href=\"../312cd3f28e2d5c52bab0cb8abb54f6b11c7c73fd0/expr.ipynb\"><img src=\"data:image/png;base64,iVBORw0KGgoAAAANSUhEUgAAAJUAAAAXBAMAAADw9BCvAAAAMFBMVEX///8QEBC6urrMzMxUVFRm\n",
       "ZmZERETc3NwyMjKqqqp2dnaIiIiYmJgiIiLu7u4AAAAU9Wx4AAAAAXRSTlMAQObYZgAAAmRJREFU\n",
       "OMutVD1s00AU/hLHcZo4bsSAxFIyMLCgGIkRaARWVYmhGZIBpAoQwu0AxAOiMFT1AhESolnKShdE\n",
       "EQxBsGVoQQwIBjLAAgMpExtVf2ihqPDenR0Sh0ZuxUl39+7d3ff+vjvgP7Zm6JPRWq/dl9QbLLwN\n",
       "g3VETscC6le/LWs8C9UEHvH6bhgs79C08FGIphj3Auoy4ALXaKWdCwGVkiHqnzkrMbOlUTaprwJv\n",
       "gARtqdUQWBGZ2RtnHQZg62mhSa2TgZ/AIk0PJyYmw4R4UE61+SxPFeozQhHPEOoAzeTQd9v+GAbr\n",
       "jCxm8/4CPJyK0PTnod0iD5MF4CQwBvSVS8ULYi/bdv/eWmnI9OQ7YvyCQZElik+RWR48VR9l+D5K\n",
       "/gEYNOIF8FTstddBzyCV8eQ9nqWpgleJmLQ678B4zx5zrEgxbBHIOUEsNY/ouicvi6JZ1og80MBX\n",
       "qT/PeISgLJGFBVGPT8Bol1/pGtRGOxbxKuKK5Wk8kXqiA97NSizDZUIbK9ArXVjfTLx2PHkfD1Sr\n",
       "tAz6unwxUH7RMFKVMWLsBBvcrA81u7By9edXfPkSk5ruJJbEMnZUcpfppW1wbtnfGTaQdKEP/MVK\n",
       "2rY9DsxRTfzH/4A6pyi+Jf253GzR6zA/L+YEImwgXoDxo9OvOHCRwvTfxCF6b/sr0MsbopC4KatT\n",
       "XrWGBV0SXFadDfRXEV3pwiL0nM+viNPJ3eMBLi+2pKkmJgtBLG0L2ocW12Z7v4vHvpCcLhVvoxNL\n",
       "wdxaabga/HO2aYb7D+W2/8/VnlgxZydYWs8/+hl2grWLlt/1zT/LdY9EqkWTBgAAAABJRU5ErkJg\n",
       "gg==\n",
       "\" style=\"display:inline;vertical-align:middle;\" /></a></td></tr>\n",
       "<tr><td>2</td><td>ExprTuple</td><td>10</td><td><a class=\"ProveItLink\" href=\"../b7d96af9ad4b1093cdfbc7f0db04afd2340d5b5e0/expr.ipynb\"><img src=\"data:image/png;base64,iVBORw0KGgoAAAANSUhEUgAAABwAAAAVBAMAAACnLJNvAAAAMFBMVEX////c3NwiIiJERESqqqqY\n",
       "mJh2dnZmZmYQEBDu7u4yMjJUVFTMzMyIiIi6uroAAAAs73DqAAAAAXRSTlMAQObYZgAAAMBJREFU\n",
       "GNNjYEADfBdgLNYHQOI0hH0IiGuAeCWEux6IuRgYeCFqWfUnAIkEBo4JYK5IvQADA2cDwyuI2gv3\n",
       "QeaYMJRBjJ/gHwCk0hmWgrnzGM6DzPBi6ANzHzDIFwCpFwz/QDye3bv3GwDp8xAuHwMDxwIwtwXE\n",
       "dWBgYGoAKzYFkoxALtcHICMKaDYDwywgZv4JtugRA4Nw/0IGVvtfQKPXMXAIIPwKdCTQ2XDAdgHu\n",
       "QQaoGdII7kaQLfDA4T3AAAAlziv4kp0h2wAAAABJRU5ErkJggg==\n",
       "\" style=\"display:inline;vertical-align:middle;\" /></a></td></tr>\n",
       "<tr><td>3</td><td>Literal</td><td></td><td><a class=\"ProveItLink\" href=\"../../../quantification/universal/__pv_it/265f8c02ac1094d56e0e6410a1c1fd3500dc9f540/expr.ipynb\"><img src=\"data:image/png;base64,iVBORw0KGgoAAAANSUhEUgAAAAwAAAAQBAMAAADQT4M0AAAAMFBMVEX///8QEBC6urrMzMxUVFRm\n",
       "ZmZERETc3NwyMjKqqqp2dnaIiIiYmJgiIiLu7u4AAAAU9Wx4AAAAAXRSTlMAQObYZgAAAFhJREFU\n",
       "CNdjeMAABhdAxGmGlSCqj6EMSLInMHAAJVknMPAsLy+vBYp8S0u7BaScGRjSgZQKA18DkOJl4D4A\n",
       "pLgP8IJM4mswARuX7gSmpoKNZWDcAKZ4gCoAgTQTILaSE58AAAAASUVORK5CYII=\n",
       "\" style=\"display:inline;vertical-align:middle;\" /></a></td></tr>\n",
       "<tr><td>4</td><td>Lambda</td><td>parameter:&nbsp;12<br>body:&nbsp;5<br>conditions:&nbsp;6<br></td><td><a class=\"ProveItLink\" href=\"../97352f5c0bb79c2084e6315a3b5d070fc755b1630/expr.ipynb\"><img src=\"data:image/png;base64,iVBORw0KGgoAAAANSUhEUgAAAK0AAAAVCAMAAAAD6J5pAAAANlBMVEX///8UFBQNDQ2qqqru7u4i\n",
       "IiJ2dnbc3NyIiIjMzMxmZmYQEBC6uroyMjJERERUVFSYmJgAAAC3B9V0AAAAAXRSTlMAQObYZgAA\n",
       "AeJJREFUSMfNl9lywyAMRd2yg1n0/z9bb4BYnEI8zZQX44x0fSxfBFmW/zCI+FP5Vb6dGtb2N77O\n",
       "CHgAvw1nB7OUL+7YlLxWU7QdOOOOi4YxXEuLO8g1R++AIkp5O1nbGk6BvK5+BFYWPggMErxXvZhK\n",
       "PvAp2gZOwmnzAHyE1uDSCqIhLRLl4oyhmEqeminaBs5d+azguF1ixaeUm1x+mL3AiUYhtbwjM7QN\n",
       "3FljYV2CLb1FCnmNP8BKFwIhR+qSuivP9Qxtnb05QkqpWX7oUi1zj2tuURxds7GQA7IjevLETtA2\n",
       "2ZczKPN3tNSjWhmkvU8F6HoF+rU1XpZfzT2tZmnwfnZ0hsyf9PuLFcMgb6Kp2juhB1zJ/T2p7Rkv\n",
       "ySsYqe3V1Jvs2BpQS6gbPi4Woj1nBsPpzeM8tMZD8lO0dbaK1B7IDa3Gi8akKBJXK+5otspu5V85\n",
       "oaZtsmNDE2BvfKuK7cCF1GqbzezYIYLs9cssH+w4bZN9OUMZtKGWp5ayC8cGlNzpAAcox2jHtkh+\n",
       "sIOpTrZ256nB2jB6ADsKL5yBo6uGTcDi5xc3Pfnm8HTbwebhOjvv6+Oo+mVDnNx5n47AH6Vz+VHa\n",
       "6sQ4OejsifHpEP5Bshcfpl3E+/90pOr8Nkj7Ax5BGGMupPJkAAAAAElFTkSuQmCC\n",
       "\" style=\"display:inline;vertical-align:middle;\" /></a></td></tr>\n",
       "<tr><td>5</td><td>Operation</td><td>operator:&nbsp;7<br>operands:&nbsp;8<br></td><td><a class=\"ProveItLink\" href=\"../0f1bf4090acd92174180531bf3e50944b30066e50/expr.ipynb\"><img src=\"data:image/png;base64,iVBORw0KGgoAAAANSUhEUgAAADcAAAAPBAMAAACy3Eq1AAAAMFBMVEX///92dnYQEBBERERUVFS6\n",
       "urqIiIhmZmaqqqrc3Nzu7u6YmJgyMjIiIiLMzMwAAACFkkdwAAAAAXRSTlMAQObYZgAAAP1JREFU\n",
       "GNNjYACBtwyogNv/i4vzUSjnPIhgBTMfgEkmAwaG+gCIwvsLgCQLSJwtASzyHki9dwAzZ9RPAJJ8\n",
       "QNUMvAvAIvlAgf0CYGZCPtiEk0DcDrHHCIgvgdWxLujfwACVOAmR/MLAMMcKzFoKtgJsJNhooA1f\n",
       "0tJvQ5QFMMwvYIA4hgXiQrafDAxrwe7hc3Hxh2i4wLAGopxZAajgN9R/TAfAYhUM0hBJfqAu7o8g\n",
       "VgPQNgWw2BygXog3gQ5k+QFkcAIleT6AxVheQ4IA7M35INNA1jD/gjjSdgHcm3w6QPZk/ZMM3PZ/\n",
       "wM5lOA6RK/7v4nJmA1pkMLxC5QIA6tw+1pV4TWcAAAAASUVORK5CYII=\n",
       "\" style=\"display:inline;vertical-align:middle;\" /></a></td></tr>\n",
       "<tr><td>6</td><td>ExprTuple</td><td>9</td><td><a class=\"ProveItLink\" href=\"../8843824c5e7a089bd60f2c14050c86b6b86a038f0/expr.ipynb\"><img src=\"data:image/png;base64,iVBORw0KGgoAAAANSUhEUgAAACsAAAAVBAMAAAAtAwouAAAAMFBMVEX////c3NwiIiJERESqqqqY\n",
       "mJh2dnZmZmYQEBDu7u4yMjJUVFTMzMyIiIi6uroAAAAs73DqAAAAAXRSTlMAQObYZgAAAO5JREFU\n",
       "GNNjYMAB+C6gi8SBiNMIfvT/3butHjCwHwCyVyKpa2ZgYP/HwLCAgYEXyQyev0D8m4EhjIGBYwJC\n",
       "mPcjAwPrNwaGGQwMr5DMYG5gYGDqBNIODGVIwvwbGBgXA3WzFTAsRRI+v/duUQCQZlnA0Ae0XAkE\n",
       "EhgY7gswcGqDvNLA8A/mig0MDBZA+j5QOc8HFGGg2xjiE8DCLQhhnq9Aer8D2BBThDDI2Yy/gGzW\n",
       "BQzpMGccADv7BCgsgA58BHceu/3v3bvA7uV6wMAhgBnWQM+zJmAK56IFLARwAgOWQRpDmBtkLiNG\n",
       "pN1hYAAA72Q6LUaD+kYAAAAASUVORK5CYII=\n",
       "\" style=\"display:inline;vertical-align:middle;\" /></a></td></tr>\n",
       "<tr><td>7</td><td>Literal</td><td></td><td><a class=\"ProveItLink\" href=\"../087d0b4ded7c7e5bf3bba05ecb616d7a8051ff650/expr.ipynb\"><img src=\"data:image/png;base64,iVBORw0KGgoAAAANSUhEUgAAAAwAAAAOBAMAAADpk+DfAAAALVBMVEX///+YmJh2dnZmZmaqqqrc\n",
       "3NwyMjLu7u4iIiJERESIiIhUVFTMzMy6uroAAAD0I/TTAAAAAXRSTlMAQObYZgAAAEtJREFUCNdj\n",
       "uMAABDwMe0DUKoaTIKqdgS2AgYHFAITAzHYGsMQqBoa9QIqDgT0BSDE7MAkAKdYEDpAehj1SYOpk\n",
       "O5hiMwBTPAUMDAB33Atnw8aG2QAAAABJRU5ErkJggg==\n",
       "\" style=\"display:inline;vertical-align:middle;\" /></a></td></tr>\n",
       "<tr><td>8</td><td>ExprTuple</td><td>10, 12</td><td><a class=\"ProveItLink\" href=\"../caee09fb4b5c95b986a9cee46a014afbad9bdc680/expr.ipynb\"><img src=\"data:image/png;base64,iVBORw0KGgoAAAANSUhEUgAAADUAAAAVBAMAAAAUZLt1AAAAMFBMVEX////c3NwiIiJERESqqqqY\n",
       "mJh2dnZmZmYQEBDu7u4yMjJUVFTMzMyIiIi6uroAAAAs73DqAAAAAXRSTlMAQObYZgAAATZJREFU\n",
       "KM9jYMAH+C5gFY4DEach7EMwQdb9v3dvXsfAfgDIXgkRWg/XwWHAwFD/gGEBAwMvxEhW/QkwufNA\n",
       "kfMbGMKAqiBiIvUCMLn7QFZ8AsMMBoZXEIEL9x/A5CyAWGMCA7MDQxnEsRP8A2ByvxkYpCwZGNgK\n",
       "GJaC+fPAtoABz++711WBNMsChj6wwAMG+QKoHO9HBoZJG4BGNTD8A6vdvXu/AVSOuQEo/xUo9gEi\n",
       "xwd07wKoHD9QD+s3sFwLiO/AwMDUAPMe0FHcX8BmmgK5jEA5rg8MDBNg3pMHGsK6gCEdyJ0FsuYn\n",
       "A+cnqPd4uiaA/fCIgUG4fyEDq/2vAs5+oJbi/7t3rwL5lesBA4cAUnQhsUFhxpqA4LIiR2AuIo7Q\n",
       "5ThBfpJG8JFTADfIfEbsaeIOAwMABOxNRsfkiy0AAAAASUVORK5CYII=\n",
       "\" style=\"display:inline;vertical-align:middle;\" /></a></td></tr>\n",
       "<tr><td>9</td><td>Operation</td><td>operator:&nbsp;11<br>operand:&nbsp;12<br></td><td><a class=\"ProveItLink\" href=\"../1da4e2fe7c44632f084fa27ea32e26dc689384c20/expr.ipynb\"><img src=\"data:image/png;base64,iVBORw0KGgoAAAANSUhEUgAAAB0AAAAOBAMAAAAh/woJAAAAMFBMVEX///+qqqru7u7c3NyIiIgQ\n",
       "EBC6uroyMjJERESYmJhUVFTMzMx2dnYiIiJmZmYAAADtoHoAAAAAAXRSTlMAQObYZgAAAHpJREFU\n",
       "CNdjYIACzvW/Vq0oY0AA1gYGhvcJCP5+ByBegOD7GzAwzD+A4LcC8VUFBP8XA4N5E4LL/cvF7yaQ\n",
       "fnsXCO4wMLB8ZmDQhRm3i4GBIwAo9hPB5wfKcf5B8PdPYGDg+ojgg6y3L4AZDraeOxxh/Yv/q1aV\n",
       "A7UAAFRxJOZ+1MVPAAAAAElFTkSuQmCC\n",
       "\" style=\"display:inline;vertical-align:middle;\" /></a></td></tr>\n",
       "<tr><td>10</td><td>Variable</td><td></td><td><a class=\"ProveItLink\" href=\"../../../../../__pv_it/2cbe72a7ad6f655694dd697106680215e8489b600/expr.ipynb\"><img src=\"data:image/png;base64,iVBORw0KGgoAAAANSUhEUgAAAA8AAAAOBAMAAAACpFvcAAAALVBMVEX///8QEBBERERUVFS6urqI\n",
       "iIhmZmaqqqrc3Nzu7u6YmJgyMjIiIiLMzMwAAADtIaYWAAAAAXRSTlMAQObYZgAAAFtJREFUCNdj\n",
       "YACBOwxQsA9Kc52bAGG05zVAGAFxDmCaZULdAjBjCsO9ADDDgaEvAUTzGhvbKYCVMDAwbgAxChgY\n",
       "eASANAeQwf0AyJgNxEwvGRia5HYwcOm9TgAA6BoR3jrzwFcAAAAASUVORK5CYII=\n",
       "\" style=\"display:inline;vertical-align:middle;\" /></a></td></tr>\n",
       "<tr><td>11</td><td>Literal</td><td></td><td><a class=\"ProveItLink\" href=\"../../../negation/__pv_it/7bea79645543c2413aa17e787cca04e21046fde60/expr.ipynb\"><img src=\"data:image/png;base64,iVBORw0KGgoAAAANSUhEUgAAAAwAAAAGBAMAAAAFwGKyAAAAFVBMVEX///9UVFTMzMx2dnYiIiJm\n",
       "ZmYAAACWz4ZEAAAAAXRSTlMAQObYZgAAABRJREFUCNdjCHEBAmcGMFDEQzEBAEl+Ai6uYJv/AAAA\n",
       "AElFTkSuQmCC\n",
       "\" style=\"display:inline;vertical-align:middle;\" /></a></td></tr>\n",
       "<tr><td>12</td><td>Variable</td><td></td><td><a class=\"ProveItLink\" href=\"../../../../../__pv_it/077b2ff79244fb4582cbe22c6e3356fa92a52f2f0/expr.ipynb\"><img src=\"data:image/png;base64,iVBORw0KGgoAAAANSUhEUgAAABAAAAAOBAMAAADUAYG5AAAAMFBMVEX///+qqqru7u4iIiJ2dnbc\n",
       "3NyIiIjMzMxmZmYQEBC6uroyMjJERERUVFSYmJgAAADLUcuvAAAAAXRSTlMAQObYZgAAAGpJREFU\n",
       "CNdjYGB4+//u3dMLGIBgDgMDxy8gzf4NiP8CGWxfGRj4vgAZPBMYGJgnARn8FxhY9ygAGfXX0pof\n",
       "gDTlBzAw2YIYJ0EckBBI53sHoBH/gIz7AhBjWH9DjancBLTl/N+7t/cxMAAA3u4f/5xagjYAAAAA\n",
       "SUVORK5CYII=\n",
       "\" style=\"display:inline;vertical-align:middle;\" /></a></td></tr>\n",
       "</table>\n"
      ],
      "text/plain": [
       "0. A -> [forall_{B | [not](B)} (A or B)] | A\n",
       "   core type: Lambda\n",
       "   parameter: 10\n",
       "   body: 1\n",
       "   conditions: 2\\n1. forall_{B | [not](B)} (A or B)\n",
       "   core type: Operation\n",
       "   operator: 3\n",
       "   operand: 4\n",
       "2. (A)\n",
       "   core type: ExprTuple\n",
       "   sub-expressions: 10\n",
       "3. forall\n",
       "   core type: Literal\n",
       "   sub-expressions: \n",
       "4. B -> (A or B) | [not](B)\n",
       "   core type: Lambda\n",
       "   parameter: 12\n",
       "   body: 5\n",
       "   conditions: 6\\n5. A or B\n",
       "   core type: Operation\n",
       "   operator: 7\n",
       "   operands: 8\n",
       "6. ([not](B))\n",
       "   core type: ExprTuple\n",
       "   sub-expressions: 9\n",
       "7. or\n",
       "   core type: Literal\n",
       "   sub-expressions: \n",
       "8. (A , B)\n",
       "   core type: ExprTuple\n",
       "   sub-expressions: 10, 12\n",
       "9. [not](B)\n",
       "   core type: Operation\n",
       "   operator: 11\n",
       "   operand: 12\n",
       "10. A\n",
       "    core type: Variable\n",
       "    sub-expressions: \n",
       "11. not\n",
       "    core type: Literal\n",
       "    sub-expressions: \n",
       "12. B\n",
       "    core type: Variable\n",
       "    sub-expressions: "
      ]
     },
     "execution_count": 4,
     "metadata": {},
     "output_type": "execute_result"
    }
   ],
   "source": [
    "# display the expression information\n",
    "expr.exprInfo()"
   ]
  },
  {
   "cell_type": "code",
   "execution_count": null,
   "metadata": {},
   "outputs": [],
   "source": []
  }
 ],
 "metadata": {
  "kernelspec": {
   "display_name": "Python 3",
   "language": "python",
   "name": "python3"
  }
 },
 "nbformat": 4,
 "nbformat_minor": 0
}
