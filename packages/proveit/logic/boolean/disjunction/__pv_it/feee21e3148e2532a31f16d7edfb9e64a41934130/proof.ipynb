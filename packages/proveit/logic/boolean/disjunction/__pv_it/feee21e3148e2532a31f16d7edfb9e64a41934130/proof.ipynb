{
 "cells": [
  {
   "cell_type": "markdown",
   "metadata": {},
   "source": [
    "Show the Proof\n",
    "========"
   ]
  },
  {
   "cell_type": "code",
   "execution_count": 1,
   "metadata": {},
   "outputs": [
    {
     "data": {
      "text/html": [
       "<table><tr><th>&nbsp;</th><th>step type</th><th>requirements</th><th>statement</th></tr>\n",
       "<tr><td>0</td><td>assumption</td><td></td><td><span style=\"font-size:20px;\"><a class=\"ProveItLink\" href=\"../bb94e35adc30328ec5ad6c85d4bd8ed0d9580a080/expr.ipynb\"><img src=\"data:image/png;base64,iVBORw0KGgoAAAANSUhEUgAAAFcAAAAVBAMAAADBdm84AAAAMFBMVEX////c3NxERESqqqpUVFS6\n",
       "urrMzMwyMjIQEBCIiIh2dnYiIiLu7u5mZmaYmJgAAABXZE4RAAAAAXRSTlMAQObYZgAAAWBJREFU\n",
       "KM9jYGDgu8dAGLCtEgBRPLsYiAFszSCS8wOI8P/i4q6GRQ2n/ycfBpb/QKnrIC5XA4jkL2BgsDfA\n",
       "ohokwewDZKxAKM5fwMDA+weuhAfOigdKPGZAVTw/AOisn3Al7AdgrPUBDKcE0BTrAzHjF7hiVgcY\n",
       "q56BbQEDmuJPIA8jFDOshDG+M7xlQCjmLWCAuoDvF4h/ezcI7L8AteIX128I6z2IyAgAhdA3IMHy\n",
       "FSkUzAPAFNfPBfchgcQO1J7SBmIxgQKbowFJMU8FWDX7Pwb5AoiI+gMGhogEUGgqgCx6gKQ4fQ0s\n",
       "mJm+gVncIH+ygDTmTwASTQwIN+/WgQcz6xeEm7k2gIIZaDxTDZLBJrBgBkrsP4AadMBgZqtFUstY\n",
       "AA9moEkLkBXzXPrv4qKbgKSYSQDiy0v/PRm49n8RQI0U9ASJKYRbMQMOxXxEKganZ56dxOWUVjDF\n",
       "t5jYPAgAG9NhkQVO5d4AAAAASUVORK5CYII=\n",
       "\" style=\"display:inline;vertical-align:middle;\" /></a> <a class=\"ProveItLink\" href=\"proof.ipynb\" style=\"text-decoration: none\">&#x22A2;&nbsp;</a><a class=\"ProveItLink\" href=\"../fd7e961e35654ca2625285e7a24c1cda77971ed10/expr.ipynb\"><img src=\"data:image/png;base64,iVBORw0KGgoAAAANSUhEUgAAAEUAAAAPBAMAAABAYB8QAAAAMFBMVEX///8iIiIQEBCYmJjc3Ny6\n",
       "urru7u5mZmZ2dnaqqqrMzMxEREQyMjJUVFSIiIgAAABUCcz6AAAAAXRSTlMAQObYZgAAAPlJREFU\n",
       "KM9jYGB4+//u3dMLGDDB2/97Exju/wZL/WFg4PyJRQ1IgmFuAojF9QNI1CfAZeAsVqAE8wQwk+8r\n",
       "kFj/AK7mGIzB8ZWBrQXC5P4AJPwvwNXEwhg8HxhWQJn8G0DmINRwwIzkP8BcAGWCrbFvABLsgmDw\n",
       "HSoR39AvAGW+B3nufgDCO5xHIXT/C3aYd/eDCCVkP+eogqnzBix/oCK/gZj5M5ISrhMJsODZDwlb\n",
       "rn9Aggnkbph7pBPgwRMP8QrfLyCxJwHJOVAvcgAlGL/Bg2dNAZJVPojgYeADxQFD+v6/d29XIbt4\n",
       "C4QCSjxgaPx/BVtEMmAkAQDi9k0K7FVvcgAAAABJRU5ErkJggg==\n",
       "\" style=\"display:inline;vertical-align:middle;\" /></a></span></td></tr>\n",
       "</table>"
      ],
      "text/plain": [
       "<proveit._core_.proof._ShowProof at 0x7f94eb0be7f0>"
      ]
     },
     "execution_count": 1,
     "metadata": {},
     "output_type": "execute_result"
    }
   ],
   "source": [
    "import proveit\n",
    "%show_proof"
   ]
  },
  {
   "cell_type": "code",
   "execution_count": null,
   "metadata": {},
   "outputs": [],
   "source": []
  }
 ],
 "metadata": {
  "kernelspec": {
   "display_name": "Python 3",
   "language": "python",
   "name": "python3"
  }
 },
 "nbformat": 4,
 "nbformat_minor": 0
}
