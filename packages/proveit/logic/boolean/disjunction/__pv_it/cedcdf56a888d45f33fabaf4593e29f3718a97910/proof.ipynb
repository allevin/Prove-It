{
 "cells": [
  {
   "cell_type": "markdown",
   "metadata": {},
   "source": [
    "Show the Proof\n",
    "========"
   ]
  },
  {
   "cell_type": "code",
   "execution_count": 1,
   "metadata": {},
   "outputs": [
    {
     "data": {
      "text/html": [
       "<table><tr><th>&nbsp;</th><th>step type</th><th>requirements</th><th>statement</th></tr>\n",
       "<tr><td>0</td><td>assumption</td><td></td><td><span style=\"font-size:20px;\"><a class=\"ProveItLink\" href=\"../a3c74f0656f95f09bdbfe13ef12b2fbac226c3380/expr.ipynb\"><img src=\"data:image/png;base64,iVBORw0KGgoAAAANSUhEUgAAAHEAAAAVBAMAAACDNRyvAAAAMFBMVEX///9ERETc3NyqqqpUVFS6\n",
       "urrMzMwyMjIQEBCIiIh2dnYiIiLu7u5mZmaYmJgAAABJJ2g3AAAAAXRSTlMAQObYZgAAAbhJREFU\n",
       "OMtjYGDgu8dAImBbpQCieHYxkAzYmkEk5wcobwOa9JP/Li7iAWiCJ0XuPtBlYLgOYnM1QMTYwSaA\n",
       "VbJBRBoZGHi/oopx9TEwxALxCmSdr/+ASDcQMRPiiJ9A/AVFjKf6AFDDJ1SdTLafQFQiiNgDFuEE\n",
       "CvD9QhFj7wESrA2oOjk5v4LlgKHGfAEswgiU4O5BEbtvALLjAqrOGOZ/IAqkgh0c5gz8DgxMhQeQ\n",
       "xZi+g52cANXJWwDmBoC8BXFVIsTj+Z4zbz9AEeP9Bwvi9yAiAxx0rAxMfxmgIeEKkZ2vwMCzBUWM\n",
       "+xNMJzvQGSltYGaKi8tHMIObgacAIisB0v0AWYwfHHE8IEIcKBGRAI3HdrB6XgMuiBMZQBHyfgGy\n",
       "GAdYpxnILJA4C8g4ZiDeAYmdAm5omgJ5yt8AWYwFHOUXYP7kAqU6ZSCuh+hwe8kAj05IYMLFwIHI\n",
       "BQpueKyAvSF/ACydCEkH4OjMqGFAEXtvwMB6iQFJJ5PEdwWGh/9r4cEG8pv8Fxf3OqSgBFvq7nuZ\n",
       "AVknag46gCVXoYth1UkUAOvkI0cnOH/y7CSjTGgFU3yLySqHAG2SeMEx8ODQAAAAAElFTkSuQmCC\n",
       "\" style=\"display:inline;vertical-align:middle;\" /></a> <a class=\"ProveItLink\" href=\"proof.ipynb\" style=\"text-decoration: none\">&#x22A2;&nbsp;</a><a class=\"ProveItLink\" href=\"../ebd450f61d15b527672f06ab720798644884e75c0/expr.ipynb\"><img src=\"data:image/png;base64,iVBORw0KGgoAAAANSUhEUgAAAF8AAAAPBAMAAABw7A4xAAAAMFBMVEX///92dnYQEBBERERUVFS6\n",
       "urqIiIhmZmaqqqrc3Nzu7u6YmJgyMjIiIiLMzMwAAACFkkdwAAAAAXRSTlMAQObYZgAAAWBJREFU\n",
       "KM9jYACBtwyogNv/i4vzUTRBrmT3as4CCPs8iGAFMx+ASSYDBob6AFQxoQ0MrEUbIAbeXwAkWUDi\n",
       "bAlgkfdA6r0DitiaW0BCfgJYekY9iOYDmsrAuwAskg8U2C+AInYIRAZBXJSQHwCiTgJxO0TECIgv\n",
       "LUAWY/8BIqeDZVkX9IOd1g5VAARfGBjmWKGIzT8AIteBZZeCnQy2GuwEoEu+pKXfZkARq9+ACK8A\n",
       "hvng0AJ6jgXsNga2nwwMax1QxO5PgKvnc3Hxhxh8gWENRIhZAaj0N4rYfzC5ABr+TGAHMlQwSEM0\n",
       "8ANN5/6IIqYPIjjAMdIAdKkCWHAO0DxINAAdzPIDRcwfZDg7iMUJ1MDzASzI8hoSbeBogAQLXAwc\n",
       "LlLgGAS5+RfEN7YL4NHAp7MARYwbaGE4yOOT9U8ycNv/gSSq4xD1xf9dXM7AghEqxvDkSHkDAzp4\n",
       "xcBASAwANRtk9OKCOBQAAAAASUVORK5CYII=\n",
       "\" style=\"display:inline;vertical-align:middle;\" /></a></span></td></tr>\n",
       "</table>"
      ],
      "text/plain": [
       "<proveit._core_.proof._ShowProof at 0x7f94ebb1d9b0>"
      ]
     },
     "execution_count": 1,
     "metadata": {},
     "output_type": "execute_result"
    }
   ],
   "source": [
    "import proveit\n",
    "%show_proof"
   ]
  },
  {
   "cell_type": "code",
   "execution_count": null,
   "metadata": {},
   "outputs": [],
   "source": []
  }
 ],
 "metadata": {
  "kernelspec": {
   "display_name": "Python 3",
   "language": "python",
   "name": "python3"
  }
 },
 "nbformat": 4,
 "nbformat_minor": 0
}
