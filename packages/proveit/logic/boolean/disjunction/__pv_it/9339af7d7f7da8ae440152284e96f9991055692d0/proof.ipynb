{
 "cells": [
  {
   "cell_type": "markdown",
   "metadata": {},
   "source": [
    "Show the Proof\n",
    "========"
   ]
  },
  {
   "cell_type": "code",
   "execution_count": 1,
   "metadata": {},
   "outputs": [
    {
     "data": {
      "text/html": [
       "<table><tr><th>&nbsp;</th><th>step type</th><th>requirements</th><th>statement</th></tr>\n",
       "<tr><td>0</td><td>assumption</td><td></td><td><span style=\"font-size:20px;\"><a class=\"ProveItLink\" href=\"../da0ef1e1ad45b3730d8119abec375263fb4313ef0/expr.ipynb\"><img src=\"data:image/png;base64,iVBORw0KGgoAAAANSUhEUgAAAEoAAAAVBAMAAAATJmVgAAAAMFBMVEX////c3NxERESqqqpUVFS6\n",
       "urrMzMwyMjIQEBCIiIh2dnYiIiLu7u5mZmaYmJgAAABXZE4RAAAAAXRSTlMAQObYZgAAATpJREFU\n",
       "KM9jYGDgu8eAD2QtBJE8uxjwgwwDIMH5Aax2ku89xgvIklz16t+7lYEM3gIQrwEktuIBA+uNByhm\n",
       "MLFOOH5qAVQBmDi+B0isF0BXxRlQgKyq4gCQiABL8kzfvbsAqor5gQ+SKt7PIGFZsKr0N0hmBSog\n",
       "qZIHaz4GIhh1kGzMfnQAqgrkhfsIdzMJIFTt/t8JpPlAgZARwMCwH+HuQyiunwy0kaGWgSGlDUj/\n",
       "BwuDfMAQsXs3wvUMClEgRh1QOIGBoR8kypwAIlOQzWJQYAIyQJHDAtToDzKGFyx3GkMV2F1cGxgY\n",
       "8icAGWvAciwPUFRFIYUEHzC8YiE+4NmKpIrvJnJ4MaSU3DWASopfg8f2px3ODMiqkIFJNcSP8MSB\n",
       "VRU6ACvgI6QKnL54dhJKqwEgkm8xwXQPAHL/WBLmuCTTAAAAAElFTkSuQmCC\n",
       "\" style=\"display:inline;vertical-align:middle;\" /></a> <a class=\"ProveItLink\" href=\"proof.ipynb\" style=\"text-decoration: none\">&#x22A2;&nbsp;</a><a class=\"ProveItLink\" href=\"../fd7f678709486d41d06d72d1a15c8d8fea4ac2f30/expr.ipynb\"><img src=\"data:image/png;base64,iVBORw0KGgoAAAANSUhEUgAAADYAAAAPBAMAAABdHiGLAAAAMFBMVEX////MzMyqqqoiIiIyMjK6\n",
       "uroQEBB2dnbc3NyYmJhmZmZUVFRERESIiIju7u4AAAB204erAAAAAXRSTlMAQObYZgAAANhJREFU\n",
       "GNNjYGDgu7NrJccCBiTA7n/kS/IhEKtsAgPrsgnIcgw8rBeePC9gYHhiB+TUN6DL8QY4MDC4PQBy\n",
       "wsBCfFeMjR2gckwT9jFwfQJxusByIvOQ9EUcYOgHK3wIIjjOIZkpPOcBw3qEK3gaEHLG/3MZGOwR\n",
       "rniD4pZLBxj+gzkg9zCEGRsj3MJwIJwhH8RmEgCR0sj6GA7wMOwHaeECizxGl5O/AGTXgUW4J6DI\n",
       "hTNwAv0XBXEPnymSHOfaA0BbvFcpQIVaFsLD+o/ZJgZUoO0McScEAABFOz+SfMQzfQAAAABJRU5E\n",
       "rkJggg==\n",
       "\" style=\"display:inline;vertical-align:middle;\" /></a></span></td></tr>\n",
       "</table>"
      ],
      "text/plain": [
       "<proveit._core_.proof._ShowProof at 0x7f94ebfb19b0>"
      ]
     },
     "execution_count": 1,
     "metadata": {},
     "output_type": "execute_result"
    }
   ],
   "source": [
    "import proveit\n",
    "%show_proof"
   ]
  },
  {
   "cell_type": "code",
   "execution_count": null,
   "metadata": {},
   "outputs": [],
   "source": []
  }
 ],
 "metadata": {
  "kernelspec": {
   "display_name": "Python 3",
   "language": "python",
   "name": "python3"
  }
 },
 "nbformat": 4,
 "nbformat_minor": 0
}
