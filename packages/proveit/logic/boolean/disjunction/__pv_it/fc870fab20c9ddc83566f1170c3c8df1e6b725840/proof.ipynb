{
 "cells": [
  {
   "cell_type": "markdown",
   "metadata": {},
   "source": [
    "Show the Proof\n",
    "========"
   ]
  },
  {
   "cell_type": "code",
   "execution_count": 1,
   "metadata": {},
   "outputs": [
    {
     "data": {
      "text/html": [
       "<table><tr><th>&nbsp;</th><th>step type</th><th>requirements</th><th>statement</th></tr>\n",
       "<tr><td>0</td><td>assumption</td><td></td><td><span style=\"font-size:20px;\"><a class=\"ProveItLink\" href=\"../2046ba58b0b0966d887a7023ef210c7374ab1fda0/expr.ipynb\"><img src=\"data:image/png;base64,iVBORw0KGgoAAAANSUhEUgAAAFUAAAAVBAMAAADFg78FAAAAMFBMVEX////c3NxERESqqqpUVFS6\n",
       "urrMzMwyMjIQEBCIiIh2dnYiIiLu7u5mZmaYmJgAAABXZE4RAAAAAXRSTlMAQObYZgAAAVpJREFU\n",
       "KM9jYGDgu8dAELCtEgBRPLsYiABszSCS8wOQ4PP/4uJUikXNlP8uLkUJQMZ1EI+rAURyKDAw3A/A\n",
       "ovg7AwPzZyC9AqE2fwIQO8BVHIDb/QtI3D+AonY+0O3vF8DV1sAYnF+hBiGp1QDiHXDTGEJgDCaQ\n",
       "b+QdUNR+YWAQ10G4kmsClMGvwABxHFgtbwHIWV9mzt0HluTdDQZ/oWpB1oMd9x7EywD5nvMjA8Np\n",
       "ByTvM0MDcD4ovPyBStgvMDCktIGdBXQI5z/ksDreCqb0QUQHiFB/wMAQAdLJDzST7xdyPFVBPPoJ\n",
       "FFEgQ7hBgcQCcm8+UBPLZyT3boIoZfsJjSeIe7k2QINXvgDJuVC3c34D2X4AJd6AwcvWjgheBnGk\n",
       "4E2/wICs9hIwhZQ/QHKuIoQ6qw9MUtcYGFDTAxpIwBDBrZYBu1o+4tSC0y/PTqLyBSRq+BYTmd8A\n",
       "81pkCBl3vUcAAAAASUVORK5CYII=\n",
       "\" style=\"display:inline;vertical-align:middle;\" /></a> <a class=\"ProveItLink\" href=\"proof.ipynb\" style=\"text-decoration: none\">&#x22A2;&nbsp;</a><a class=\"ProveItLink\" href=\"../cb2bfae6c9dcdf3d440ea7ef9c05a295e8b26aef0/expr.ipynb\"><img src=\"data:image/png;base64,iVBORw0KGgoAAAANSUhEUgAAAEIAAAAPBAMAAACivARpAAAAMFBMVEX///+qqqru7u4iIiJ2dnbc\n",
       "3NyIiIjMzMxmZmYQEBC6uroyMjJERERUVFSYmJgAAADLUcuvAAAAAXRSTlMAQObYZgAAAPtJREFU\n",
       "GNNjYGB4+//u3dMLGDAA2/2/d28fBzPnMDBw/MJUwcC/gYFBXgDIYP8GxH/h4kxwVr0DUOsnkGlf\n",
       "GRj4vsDFuRVgrPwFEO0MPBMYGJgnwVVwXYCxzgMxK8hw/gsMrHsUENa7wRh/GKDW119La34AFmo2\n",
       "BgH7BogCsAVg6/MDGJhskf0gDfE623cgwQvy5EmQqgdIKph2gpXwfAASnEBHMoBseu+ApKLaCRIc\n",
       "B0ASQK3s/4CM+wIIdxgfggZHAiQ0wcHB+hvJCFlYcBQAbdoEDY7KTQgFrBsQwcG+A0hznAfGzz4k\n",
       "I3gCIM7tAUboiQIs0cXAjsYHAJLoSEwUTuWpAAAAAElFTkSuQmCC\n",
       "\" style=\"display:inline;vertical-align:middle;\" /></a></span></td></tr>\n",
       "</table>"
      ],
      "text/plain": [
       "<proveit._core_.proof._ShowProof at 0x7f94ebef6898>"
      ]
     },
     "execution_count": 1,
     "metadata": {},
     "output_type": "execute_result"
    }
   ],
   "source": [
    "import proveit\n",
    "%show_proof"
   ]
  },
  {
   "cell_type": "code",
   "execution_count": null,
   "metadata": {},
   "outputs": [],
   "source": []
  }
 ],
 "metadata": {
  "kernelspec": {
   "display_name": "Python 3",
   "language": "python",
   "name": "python3"
  }
 },
 "nbformat": 4,
 "nbformat_minor": 0
}
