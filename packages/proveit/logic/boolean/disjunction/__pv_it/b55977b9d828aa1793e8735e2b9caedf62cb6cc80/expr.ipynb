{
 "cells": [
  {
   "cell_type": "markdown",
   "metadata": {},
   "source": [
    "Expression of type <a class=\"ProveItLink\" href=\"../../../../../../../doc/html/api/proveit.ExprTuple.html\">ExprTuple</a>\n",
    "=======================\n",
    "# from context <a class=\"ProveItLink\" href=\"../../_context_.ipynb\">proveit.logic.boolean.disjunction</a>"
   ]
  },
  {
   "cell_type": "code",
   "execution_count": 1,
   "metadata": {},
   "outputs": [],
   "source": [
    "# import Expression classes needed to build the expression\n",
    "from proveit import ExprTuple\n",
    "from proveit._common_ import A, B, C, D\n",
    "from proveit.logic import Or"
   ]
  },
  {
   "cell_type": "code",
   "execution_count": 2,
   "metadata": {},
   "outputs": [
    {
     "data": {
      "text/html": [
       "<strong id=\"expr\">expr:</strong> <a class=\"ProveItLink\" href=\"expr.ipynb\"><img src=\"data:image/png;base64,iVBORw0KGgoAAAANSUhEUgAAAHcAAAAVBAMAAACOK2zoAAAAMFBMVEX////c3NwiIiJERESqqqqY\n",
       "mJh2dnZmZmYQEBDu7u4yMjJUVFTMzMyIiIi6uroAAAAs73DqAAAAAXRSTlMAQObYZgAAAiRJREFU\n",
       "OMulVD9IG2EU/yXxmpx30YMKBTvYRWgnRZAqFMzmaKaOmqVoh6JgW7sloJODOTqVICUOxVZBBYdC\n",
       "b0gQHMQhAQeXloQulk7R2oLaat+fTxulCrUH9+537/fevd/33vcd8F9XU/l6eYNsNhWvXeCswlGw\n",
       "unT6Zm+9fxYaExgn4sMDIFqkl3dKL4sKgUWxsU4gXTXJI0k0vUgqbs4DAwmAHnFVbXX4ZB3OM54S\n",
       "PUorGp+7R2bU05dSisoeAA+pgC+eljRTLlVDWD0VcgylNP4tu74YFRWS4/4CXgFf1VOuiMI5uvvV\n",
       "00P3Xf1OdJ/tLZPcR3foCIgk8Fxb7g/IivrNB+giurVXYVue7axJ/sYSib0xhjfieC1LFMkinelP\n",
       "2+0mPJ2sGwMrhvUDaMhjRjxVtMkgqFmOdji+C7w0/erw6pLjP7mzx6Q2g2P5WhAUtOAd5DQmkqG4\n",
       "74pPxPqGqPEciXVrmkzzjcm68BSPzDRXVBxfWTYNRUNwlaGkJE+xg0YezgjVSrV1mkQ7+4oLXDRq\n",
       "ZEtzJiGyu7nxlNxYE8pZN1udx8xd9k/jHxvhFVIQ4W1p5THMG4iXcqC97PLPxuxO+7D3OIwU7HiK\n",
       "eczuPAMa1WfgZnYOVt+h7vt5zR0/CYIFUm5nudObixMJxTYT92X5jVXEvPOnaePiifX+jmV7Wqmr\n",
       "j611CQae/DmS/5xs82xvX51cvgTD4TWErvkb+gj8BpU9j6+fkLTPAAAAAElFTkSuQmCC\n",
       "\" style=\"display:inline;vertical-align:middle;\" /></a><br>"
      ],
      "text/plain": [
       "expr: (A or B , C , D)"
      ]
     },
     "execution_count": 2,
     "metadata": {},
     "output_type": "execute_result"
    }
   ],
   "source": [
    "# build up the expression from sub-expressions\n",
    "expr = ExprTuple(Or(A, B), C, D)"
   ]
  },
  {
   "cell_type": "code",
   "execution_count": 3,
   "metadata": {},
   "outputs": [
    {
     "name": "stdout",
     "output_type": "stream",
     "text": [
      "Passed sanity check: built 'expr' is the same as the stored Expression.\n"
     ]
    }
   ],
   "source": [
    "# check that the built expression is the same as the stored expression\n",
    "%check_expr"
   ]
  },
  {
   "cell_type": "code",
   "execution_count": 4,
   "metadata": {},
   "outputs": [
    {
     "data": {
      "text/html": [
       "<table><tr><th>&nbsp;</th><th>core type</th><th>sub-expressions</th><th>expression</th></tr>\n",
       "<tr><td>0</td><td>ExprTuple</td><td>1, 2, 3</td><td><a class=\"ProveItLink\" href=\"expr.ipynb\"><img src=\"data:image/png;base64,iVBORw0KGgoAAAANSUhEUgAAAHcAAAAVBAMAAACOK2zoAAAAMFBMVEX////c3NwiIiJERESqqqqY\n",
       "mJh2dnZmZmYQEBDu7u4yMjJUVFTMzMyIiIi6uroAAAAs73DqAAAAAXRSTlMAQObYZgAAAiRJREFU\n",
       "OMulVD9IG2EU/yXxmpx30YMKBTvYRWgnRZAqFMzmaKaOmqVoh6JgW7sloJODOTqVICUOxVZBBYdC\n",
       "b0gQHMQhAQeXloQulk7R2oLaat+fTxulCrUH9+537/fevd/33vcd8F9XU/l6eYNsNhWvXeCswlGw\n",
       "unT6Zm+9fxYaExgn4sMDIFqkl3dKL4sKgUWxsU4gXTXJI0k0vUgqbs4DAwmAHnFVbXX4ZB3OM54S\n",
       "PUorGp+7R2bU05dSisoeAA+pgC+eljRTLlVDWD0VcgylNP4tu74YFRWS4/4CXgFf1VOuiMI5uvvV\n",
       "00P3Xf1OdJ/tLZPcR3foCIgk8Fxb7g/IivrNB+giurVXYVue7axJ/sYSib0xhjfieC1LFMkinelP\n",
       "2+0mPJ2sGwMrhvUDaMhjRjxVtMkgqFmOdji+C7w0/erw6pLjP7mzx6Q2g2P5WhAUtOAd5DQmkqG4\n",
       "74pPxPqGqPEciXVrmkzzjcm68BSPzDRXVBxfWTYNRUNwlaGkJE+xg0YezgjVSrV1mkQ7+4oLXDRq\n",
       "ZEtzJiGyu7nxlNxYE8pZN1udx8xd9k/jHxvhFVIQ4W1p5THMG4iXcqC97PLPxuxO+7D3OIwU7HiK\n",
       "eczuPAMa1WfgZnYOVt+h7vt5zR0/CYIFUm5nudObixMJxTYT92X5jVXEvPOnaePiifX+jmV7Wqmr\n",
       "j611CQae/DmS/5xs82xvX51cvgTD4TWErvkb+gj8BpU9j6+fkLTPAAAAAElFTkSuQmCC\n",
       "\" style=\"display:inline;vertical-align:middle;\" /></a></td></tr>\n",
       "<tr><td>1</td><td>Operation</td><td>operator:&nbsp;4<br>operands:&nbsp;5<br></td><td><a class=\"ProveItLink\" href=\"../0f1bf4090acd92174180531bf3e50944b30066e50/expr.ipynb\"><img src=\"data:image/png;base64,iVBORw0KGgoAAAANSUhEUgAAADcAAAAPBAMAAACy3Eq1AAAAMFBMVEX///92dnYQEBBERERUVFS6\n",
       "urqIiIhmZmaqqqrc3Nzu7u6YmJgyMjIiIiLMzMwAAACFkkdwAAAAAXRSTlMAQObYZgAAAP1JREFU\n",
       "GNNjYACBtwyogNv/i4vzUSjnPIhgBTMfgEkmAwaG+gCIwvsLgCQLSJwtASzyHki9dwAzZ9RPAJJ8\n",
       "QNUMvAvAIvlAgf0CYGZCPtiEk0DcDrHHCIgvgdWxLujfwACVOAmR/MLAMMcKzFoKtgJsJNhooA1f\n",
       "0tJvQ5QFMMwvYIA4hgXiQrafDAxrwe7hc3Hxh2i4wLAGopxZAajgN9R/TAfAYhUM0hBJfqAu7o8g\n",
       "VgPQNgWw2BygXog3gQ5k+QFkcAIleT6AxVheQ4IA7M35INNA1jD/gjjSdgHcm3w6QPZk/ZMM3PZ/\n",
       "wM5lOA6RK/7v4nJmA1pkMLxC5QIA6tw+1pV4TWcAAAAASUVORK5CYII=\n",
       "\" style=\"display:inline;vertical-align:middle;\" /></a></td></tr>\n",
       "<tr><td>2</td><td>Variable</td><td></td><td><a class=\"ProveItLink\" href=\"../../../../../__pv_it/985a1bdf1540838275dec15f4ad6de261cca93ce0/expr.ipynb\"><img src=\"data:image/png;base64,iVBORw0KGgoAAAANSUhEUgAAAA8AAAAOBAMAAAACpFvcAAAAMFBMVEX////MzMyqqqoiIiIyMjK6\n",
       "uroQEBB2dnbc3NyYmJhmZmZUVFRERESIiIju7u4AAAB204erAAAAAXRSTlMAQObYZgAAAGZJREFU\n",
       "CNdjYGDgu7NrJccCBgaGsgkMrMsmMDA8sQNy6hsYGNweABlhDAxcn4A0QxcDQ78DiPGQgWH9BAYI\n",
       "sG+AMv6DSaCGfBDNJMDAsB+kmwuI5S8AiTog5gSaEwXWIO29SgFIAQBC+RaDQlidVgAAAABJRU5E\n",
       "rkJggg==\n",
       "\" style=\"display:inline;vertical-align:middle;\" /></a></td></tr>\n",
       "<tr><td>3</td><td>Variable</td><td></td><td><a class=\"ProveItLink\" href=\"../../../../../__pv_it/185e6d30f167ee2ee5ef3321098dc98e0d77bc590/expr.ipynb\"><img src=\"data:image/png;base64,iVBORw0KGgoAAAANSUhEUgAAABEAAAAOBAMAAAA7w+qHAAAALVBMVEX///8QEBCYmJjc3Ny6urru\n",
       "7u5mZmZ2dnaqqqrMzMxEREQyMjJUVFSIiIgAAABETr/8AAAAAXRSTlMAQObYZgAAAGpJREFUCNdj\n",
       "YGC48+7MmV0TGEDgNQMDxwsQg/M5kMgLABK8T4DEvAtAgusBkLA7ACT4FoDEDsAk9AqAxD2QCecc\n",
       "gMQ6kAGCIOIVEDM9Ahn3FkgwgnTxvgQSqwOgxs1OADLC1r05cyoTyAAAv4Qe+njAWvgAAAAASUVO\n",
       "RK5CYII=\n",
       "\" style=\"display:inline;vertical-align:middle;\" /></a></td></tr>\n",
       "<tr><td>4</td><td>Literal</td><td></td><td><a class=\"ProveItLink\" href=\"../087d0b4ded7c7e5bf3bba05ecb616d7a8051ff650/expr.ipynb\"><img src=\"data:image/png;base64,iVBORw0KGgoAAAANSUhEUgAAAAwAAAAOBAMAAADpk+DfAAAALVBMVEX///+YmJh2dnZmZmaqqqrc\n",
       "3NwyMjLu7u4iIiJERESIiIhUVFTMzMy6uroAAAD0I/TTAAAAAXRSTlMAQObYZgAAAEtJREFUCNdj\n",
       "uMAABDwMe0DUKoaTIKqdgS2AgYHFAITAzHYGsMQqBoa9QIqDgT0BSDE7MAkAKdYEDpAehj1SYOpk\n",
       "O5hiMwBTPAUMDAB33Atnw8aG2QAAAABJRU5ErkJggg==\n",
       "\" style=\"display:inline;vertical-align:middle;\" /></a></td></tr>\n",
       "<tr><td>5</td><td>ExprTuple</td><td>6, 7</td><td><a class=\"ProveItLink\" href=\"../caee09fb4b5c95b986a9cee46a014afbad9bdc680/expr.ipynb\"><img src=\"data:image/png;base64,iVBORw0KGgoAAAANSUhEUgAAADUAAAAVBAMAAAAUZLt1AAAAMFBMVEX////c3NwiIiJERESqqqqY\n",
       "mJh2dnZmZmYQEBDu7u4yMjJUVFTMzMyIiIi6uroAAAAs73DqAAAAAXRSTlMAQObYZgAAATZJREFU\n",
       "KM9jYMAH+C5gFY4DEach7EMwQdb9v3dvXsfAfgDIXgkRWg/XwWHAwFD/gGEBAwMvxEhW/QkwufNA\n",
       "kfMbGMKAqiBiIvUCMLn7QFZ8AsMMBoZXEIEL9x/A5CyAWGMCA7MDQxnEsRP8A2ByvxkYpCwZGNgK\n",
       "GJaC+fPAtoABz++711WBNMsChj6wwAMG+QKoHO9HBoZJG4BGNTD8A6vdvXu/AVSOuQEo/xUo9gEi\n",
       "xwd07wKoHD9QD+s3sFwLiO/AwMDUAPMe0FHcX8BmmgK5jEA5rg8MDBNg3pMHGsK6gCEdyJ0FsuYn\n",
       "A+cnqPd4uiaA/fCIgUG4fyEDq/2vAs5+oJbi/7t3rwL5lesBA4cAUnQhsUFhxpqA4LIiR2AuIo7Q\n",
       "5ThBfpJG8JFTADfIfEbsaeIOAwMABOxNRsfkiy0AAAAASUVORK5CYII=\n",
       "\" style=\"display:inline;vertical-align:middle;\" /></a></td></tr>\n",
       "<tr><td>6</td><td>Variable</td><td></td><td><a class=\"ProveItLink\" href=\"../../../../../__pv_it/2cbe72a7ad6f655694dd697106680215e8489b600/expr.ipynb\"><img src=\"data:image/png;base64,iVBORw0KGgoAAAANSUhEUgAAAA8AAAAOBAMAAAACpFvcAAAALVBMVEX///8QEBBERERUVFS6urqI\n",
       "iIhmZmaqqqrc3Nzu7u6YmJgyMjIiIiLMzMwAAADtIaYWAAAAAXRSTlMAQObYZgAAAFtJREFUCNdj\n",
       "YACBOwxQsA9Kc52bAGG05zVAGAFxDmCaZULdAjBjCsO9ADDDgaEvAUTzGhvbKYCVMDAwbgAxChgY\n",
       "eASANAeQwf0AyJgNxEwvGRia5HYwcOm9TgAA6BoR3jrzwFcAAAAASUVORK5CYII=\n",
       "\" style=\"display:inline;vertical-align:middle;\" /></a></td></tr>\n",
       "<tr><td>7</td><td>Variable</td><td></td><td><a class=\"ProveItLink\" href=\"../../../../../__pv_it/077b2ff79244fb4582cbe22c6e3356fa92a52f2f0/expr.ipynb\"><img src=\"data:image/png;base64,iVBORw0KGgoAAAANSUhEUgAAABAAAAAOBAMAAADUAYG5AAAAMFBMVEX///+qqqru7u4iIiJ2dnbc\n",
       "3NyIiIjMzMxmZmYQEBC6uroyMjJERERUVFSYmJgAAADLUcuvAAAAAXRSTlMAQObYZgAAAGpJREFU\n",
       "CNdjYGB4+//u3dMLGIBgDgMDxy8gzf4NiP8CGWxfGRj4vgAZPBMYGJgnARn8FxhY9ygAGfXX0pof\n",
       "gDTlBzAw2YIYJ0EckBBI53sHoBH/gIz7AhBjWH9DjancBLTl/N+7t/cxMAAA3u4f/5xagjYAAAAA\n",
       "SUVORK5CYII=\n",
       "\" style=\"display:inline;vertical-align:middle;\" /></a></td></tr>\n",
       "</table>\n"
      ],
      "text/plain": [
       "0. (A or B , C , D)\n",
       "   core type: ExprTuple\n",
       "   sub-expressions: 1, 2, 3\n",
       "1. A or B\n",
       "   core type: Operation\n",
       "   operator: 4\n",
       "   operands: 5\n",
       "2. C\n",
       "   core type: Variable\n",
       "   sub-expressions: \n",
       "3. D\n",
       "   core type: Variable\n",
       "   sub-expressions: \n",
       "4. or\n",
       "   core type: Literal\n",
       "   sub-expressions: \n",
       "5. (A , B)\n",
       "   core type: ExprTuple\n",
       "   sub-expressions: 6, 7\n",
       "6. A\n",
       "   core type: Variable\n",
       "   sub-expressions: \n",
       "7. B\n",
       "   core type: Variable\n",
       "   sub-expressions: "
      ]
     },
     "execution_count": 4,
     "metadata": {},
     "output_type": "execute_result"
    }
   ],
   "source": [
    "# display the expression information\n",
    "expr.exprInfo()"
   ]
  },
  {
   "cell_type": "code",
   "execution_count": null,
   "metadata": {},
   "outputs": [],
   "source": []
  }
 ],
 "metadata": {
  "kernelspec": {
   "display_name": "Python 3",
   "language": "python",
   "name": "python3"
  }
 },
 "nbformat": 4,
 "nbformat_minor": 0
}
