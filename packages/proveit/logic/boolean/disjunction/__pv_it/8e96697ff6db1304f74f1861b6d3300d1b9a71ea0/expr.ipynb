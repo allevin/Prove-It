{
 "cells": [
  {
   "cell_type": "markdown",
   "metadata": {},
   "source": [
    "Expression of type <a class=\"ProveItLink\" href=\"../../../../../../../doc/html/api/proveit.logic.Equals.html\">Equals</a>\n",
    "=======================\n",
    "# from context <a class=\"ProveItLink\" href=\"../../_context_.ipynb\">proveit.logic.boolean.disjunction</a>"
   ]
  },
  {
   "cell_type": "code",
   "execution_count": 1,
   "metadata": {},
   "outputs": [],
   "source": [
    "# import Expression classes needed to build the expression\n",
    "from proveit.logic import Equals, Or, TRUE\n",
    "from proveit.logic.boolean.disjunction._theorems_ import falseOrTrue"
   ]
  },
  {
   "cell_type": "code",
   "execution_count": 2,
   "metadata": {},
   "outputs": [
    {
     "data": {
      "text/html": [
       "<strong id=\"expr\">expr:</strong> <a class=\"ProveItLink\" href=\"expr.ipynb\"><img src=\"data:image/png;base64,iVBORw0KGgoAAAANSUhEUgAAAJwAAAAVBAMAAABBKZpuAAAAMFBMVEX///8QEBCYmJhmZmaqqqrc\n",
       "3Nzu7u5ERERUVFS6urp2dnbMzMwyMjIiIiKIiIgAAACFNc/vAAAAAXRSTlMAQObYZgAAAY9JREFU\n",
       "OMutlL9OAkEQh4fDIxEOYmFDYeIDGHO1Nj6AxZWUPACFITyAjYWhOXtJTK7azu7oJBYkRm2vMSS8\n",
       "APZ07r9xd2bhCuMUd7f89vuyy90OwP/W5t3co89c3Q7XGER5ONmlu0oRAgdtjc+hudJ1A5chMFeX\n",
       "mDt9QoDWdKxuqQepuiahzksBOSCEgKl6+ja63tqF0RO3+SkgB4QQUKqnyugaQxe2jrjOTwE5IISA\n",
       "JAM4SI3u0QthwnUkRY4SQv8kI6278MOC60iKHCWEXnBp3+yrH17r1/ah6xZ4ihwlhP47762u74cP\n",
       "fHV9qjMcJaSuC62F1W398IXrtlRnOEpIXfOqffoXneECXbzo4qk4Djb7+8nzFLlgszA9R93YD8/4\n",
       "6sZUZzhKKF1Zoa6o/VAKpisrptMfCiQp6mYmNMfrjetmZu8ndu+Go4TSdYaoa2QO3nHIMjrWHBCC\n",
       "Nij/2LeD5hY2BVqSYP1u6cLRnga1v0ZB+xy48C6cP6jXSWLzZXvZKqettvcczo9rm7skfgAK2ogP\n",
       "yk33MAAAAABJRU5ErkJggg==\n",
       "\" style=\"display:inline;vertical-align:middle;\" /></a><br>"
      ],
      "text/plain": [
       "expr: [or](TRUE) = (FALSE or TRUE)"
      ]
     },
     "execution_count": 2,
     "metadata": {},
     "output_type": "execute_result"
    }
   ],
   "source": [
    "# build up the expression from sub-expressions\n",
    "expr = Equals(Or(TRUE), falseOrTrue.expr)"
   ]
  },
  {
   "cell_type": "code",
   "execution_count": 3,
   "metadata": {},
   "outputs": [
    {
     "name": "stdout",
     "output_type": "stream",
     "text": [
      "Passed sanity check: built 'expr' is the same as the stored Expression.\n"
     ]
    }
   ],
   "source": [
    "# check that the built expression is the same as the stored expression\n",
    "%check_expr"
   ]
  },
  {
   "cell_type": "code",
   "execution_count": 4,
   "metadata": {},
   "outputs": [
    {
     "data": {
      "text/html": [
       "<table><tr><th>&nbsp;</th><th>core type</th><th>sub-expressions</th><th>expression</th></tr>\n",
       "<tr><td>0</td><td>Operation</td><td>operator:&nbsp;1<br>operands:&nbsp;2<br></td><td><a class=\"ProveItLink\" href=\"expr.ipynb\"><img src=\"data:image/png;base64,iVBORw0KGgoAAAANSUhEUgAAAJwAAAAVBAMAAABBKZpuAAAAMFBMVEX///8QEBCYmJhmZmaqqqrc\n",
       "3Nzu7u5ERERUVFS6urp2dnbMzMwyMjIiIiKIiIgAAACFNc/vAAAAAXRSTlMAQObYZgAAAY9JREFU\n",
       "OMutlL9OAkEQh4fDIxEOYmFDYeIDGHO1Nj6AxZWUPACFITyAjYWhOXtJTK7azu7oJBYkRm2vMSS8\n",
       "APZ07r9xd2bhCuMUd7f89vuyy90OwP/W5t3co89c3Q7XGER5ONmlu0oRAgdtjc+hudJ1A5chMFeX\n",
       "mDt9QoDWdKxuqQepuiahzksBOSCEgKl6+ja63tqF0RO3+SkgB4QQUKqnyugaQxe2jrjOTwE5IISA\n",
       "JAM4SI3u0QthwnUkRY4SQv8kI6278MOC60iKHCWEXnBp3+yrH17r1/ah6xZ4ihwlhP47762u74cP\n",
       "fHV9qjMcJaSuC62F1W398IXrtlRnOEpIXfOqffoXneECXbzo4qk4Djb7+8nzFLlgszA9R93YD8/4\n",
       "6sZUZzhKKF1Zoa6o/VAKpisrptMfCiQp6mYmNMfrjetmZu8ndu+Go4TSdYaoa2QO3nHIMjrWHBCC\n",
       "Nij/2LeD5hY2BVqSYP1u6cLRnga1v0ZB+xy48C6cP6jXSWLzZXvZKqettvcczo9rm7skfgAK2ogP\n",
       "yk33MAAAAABJRU5ErkJggg==\n",
       "\" style=\"display:inline;vertical-align:middle;\" /></a></td></tr>\n",
       "<tr><td>1</td><td>Literal</td><td></td><td><a class=\"ProveItLink\" href=\"../../../../equality/__pv_it/2fb26078095930560931daa0500ce419a39ea6cd0/expr.ipynb\"><img src=\"data:image/png;base64,iVBORw0KGgoAAAANSUhEUgAAAA4AAAAFBAMAAACHocAhAAAAFVBMVEX///9EREQiIiJUVFQyMjJm\n",
       "ZmYAAADubVkoAAAAAXRSTlMAQObYZgAAABRJREFUCNdjCHEBAWcGXCBICQQUAUpuAwlgGKrkAAAA\n",
       "AElFTkSuQmCC\n",
       "\" style=\"display:inline;vertical-align:middle;\" /></a></td></tr>\n",
       "<tr><td>2</td><td>ExprTuple</td><td>3, 4</td><td><a class=\"ProveItLink\" href=\"../f62a780a6be33836fef8d1ad22ea636c7b6fce990/expr.ipynb\"><img src=\"data:image/png;base64,iVBORw0KGgoAAAANSUhEUgAAAI0AAAAVBAMAAACJRXC4AAAAMFBMVEX////c3NwiIiJERESqqqqY\n",
       "mJh2dnZmZmYQEBDu7u4yMjJUVFTMzMyIiIi6uroAAAAs73DqAAAAAXRSTlMAQObYZgAAAcdJREFU\n",
       "OMutlL9Lw0AUgF9/t0kaOytCqVNBpAju3Vw7OQhKF3GqFBFnFRcXyVhcjIOI4NA/oEihqIhL6KxQ\n",
       "HQVB/wHxvXuX9C4JpIMZknfX733Nvdw7gP+6bA/GdzLeXBGPr+DH7ZkUgnoB2AtmRGT1Yb9G1xIU\n",
       "hgqe8kL5GnVL2baYH7LHcOj+JKZcJc3q8nMiBhwHVNkjj0lGDIXnTSE2YjyDKTSlig55rAaO0g57\n",
       "zhSiF+MZ0a0OOvXJVbnCxzrXx3YVItOMeowKQLYLOnXIHnSQizyFtkLku1EPOcilUdfswTXR2shj\n",
       "tBQi60Y9tKYRgE6dswdrbE7YU5wohH0U48Ea32sepH7lrqnChYzmVI/1HeNJQ8nVPEj5ngPYmdlT\n",
       "aOZbYc+pzJ7HN5LraiatK+WmIbyuNZltPngyyqh1ztECSiEPDLZ0D1K7MttadWQkP7Xy3S+rIc+o\n",
       "rnuQ+vC788bvU5uzHnnPUbF6P1gT7MiTWq3Bs4ExoIoV6XkO+v1Y6QXui/dQo1uOPkYq146cG2pv\n",
       "dsS9lXAAdfxzQ/MY03+T+yTBI6iFiCfVD8amaKNywusICk+58bKcGPO5uhgQrzOdq0j9AfLMfuO9\n",
       "/Og3AAAAAElFTkSuQmCC\n",
       "\" style=\"display:inline;vertical-align:middle;\" /></a></td></tr>\n",
       "<tr><td>3</td><td>Operation</td><td>operator:&nbsp;6<br>operands:&nbsp;5<br></td><td><a class=\"ProveItLink\" href=\"../54da8b562eb61b1391636cf9ce4aecb33c0076820/expr.ipynb\"><img src=\"data:image/png;base64,iVBORw0KGgoAAAANSUhEUgAAADkAAAAVBAMAAAAOWFv7AAAAMFBMVEX///8QEBCYmJhmZmaqqqrc\n",
       "3Nzu7u5ERERUVFS6urp2dnbMzMwyMjIiIiKIiIgAAACFNc/vAAAAAXRSTlMAQObYZgAAAPxJREFU\n",
       "KM9jYMAL3p6GMnRugql5cBlNIF4J54FZ3A0MtndB4DoD8waQGCdYbgNElicBRG4GCx0AyXIA1TDw\n",
       "PYDIvmNAyGqBZLkLgCzeBIisGJJsIti2o0CWM8RezgNIsuwOIDGgDEgFSJZ5AZIslwFIDGgqyHSQ\n",
       "LI8CkizLAZAY0EUcEyCyjBOQZDkFwGIXGHKg/uVHluX+ABYzYViERzYGqBtqsgOmyRybHkBl2ZFd\n",
       "xQR2FQN3bQJUFugJdB8xMByGxQLnBbD4LjDJMwEiuw0eR6JIkZuIEYNaSLLrMGQhMQgGbAcwZFkb\n",
       "4HyOAGDKuQ1LQpCUEweXfc3AAAAv5E7ekflR5wAAAABJRU5ErkJggg==\n",
       "\" style=\"display:inline;vertical-align:middle;\" /></a></td></tr>\n",
       "<tr><td>4</td><td>Operation</td><td>operator:&nbsp;6<br>operands:&nbsp;7<br></td><td><a class=\"ProveItLink\" href=\"../f442276f834cda47790ded243b38294647dfe1df0/expr.ipynb\"><img src=\"data:image/png;base64,iVBORw0KGgoAAAANSUhEUgAAADUAAAAPBAMAAAC2KZqIAAAAMFBMVEX///+YmJh2dnaqqqoyMjLu\n",
       "7u5UVFS6urpEREQQEBAiIiJmZmbMzMyIiIjc3NwAAAD1oEhMAAAAAXRSTlMAQObYZgAAAHtJREFU\n",
       "GNNjYGBgeMuACrhXgUEDiH0aIsQOJg+ASZ4NUHVQOTaQMO8FrHI8IEO4ArDKMfgBsTUDdjlrqDw2\n",
       "OaB5YHOxyQHdwVaAQ45hAUMIAy65zQyKOOWeAHXikmM7eAGnHE9XAIrcrlWrVq5atQIi5A1XpcCA\n",
       "Do6i8AAHVSocMnjJgQAAAABJRU5ErkJggg==\n",
       "\" style=\"display:inline;vertical-align:middle;\" /></a></td></tr>\n",
       "<tr><td>5</td><td>ExprTuple</td><td>9</td><td><a class=\"ProveItLink\" href=\"../c0007fe84c08caa977bfa6dfedd9e5ac081301b70/expr.ipynb\"><img src=\"data:image/png;base64,iVBORw0KGgoAAAANSUhEUgAAABwAAAAVBAMAAACnLJNvAAAAMFBMVEX////c3NwiIiJERESqqqqY\n",
       "mJh2dnZmZmYQEBDu7u4yMjJUVFTMzMyIiIi6uroAAAAs73DqAAAAAXRSTlMAQObYZgAAAIJJREFU\n",
       "GNNjYEADfBdgLNYHQOI0A7sSGBgw1AC5K0ESPAUgkouBgfcCgsuawMAxAcHlbGB4xYDgMpgwlCFz\n",
       "0xmWInO9GPqQuS8Y/iFzz6NzW1AVmyJzo4Bmo1j0CMJNAFPrGDgEEH4FOpI1AcFluwD1IATMAmJp\n",
       "BHcjEDPCA4f3AAMAkwcfPErPFToAAAAASUVORK5CYII=\n",
       "\" style=\"display:inline;vertical-align:middle;\" /></a></td></tr>\n",
       "<tr><td>6</td><td>Literal</td><td></td><td><a class=\"ProveItLink\" href=\"../087d0b4ded7c7e5bf3bba05ecb616d7a8051ff650/expr.ipynb\"><img src=\"data:image/png;base64,iVBORw0KGgoAAAANSUhEUgAAAAwAAAAOBAMAAADpk+DfAAAALVBMVEX///+YmJh2dnZmZmaqqqrc\n",
       "3NwyMjLu7u4iIiJERESIiIhUVFTMzMy6uroAAAD0I/TTAAAAAXRSTlMAQObYZgAAAEtJREFUCNdj\n",
       "uMAABDwMe0DUKoaTIKqdgS2AgYHFAITAzHYGsMQqBoa9QIqDgT0BSDE7MAkAKdYEDpAehj1SYOpk\n",
       "O5hiMwBTPAUMDAB33Atnw8aG2QAAAABJRU5ErkJggg==\n",
       "\" style=\"display:inline;vertical-align:middle;\" /></a></td></tr>\n",
       "<tr><td>7</td><td>ExprTuple</td><td>8, 9</td><td><a class=\"ProveItLink\" href=\"../f33a8d5708d13f20cb034555a092a5521deab66a0/expr.ipynb\"><img src=\"data:image/png;base64,iVBORw0KGgoAAAANSUhEUgAAADUAAAAVBAMAAAAUZLt1AAAAMFBMVEX////c3NwiIiJERESqqqqY\n",
       "mJh2dnZmZmYQEBDu7u4yMjJUVFTMzMyIiIi6uroAAAAs73DqAAAAAXRSTlMAQObYZgAAALBJREFU\n",
       "KM9jYMAH+C5gFY4DEadBBCNcQZESCCgzsB8AclaCRHgKkLQcB5MLGBh4L+CQC2Ng4JiAQ24GA8Mr\n",
       "BhxyzA4MZbjk2AoYluKSY1nA0IdLjq+B4R8uOZ4PeOVa8JhpiiQ3AVmOdQFDOkKO8xOaHx4xMLAD\n",
       "A7dJScmAs18ALHoMTHI9YOAQQIouJDYozFgTEFxW5AjMhcURphwnMI4YpBF85BTALYAS5SjgDgMD\n",
       "AMUhLsE7xITaAAAAAElFTkSuQmCC\n",
       "\" style=\"display:inline;vertical-align:middle;\" /></a></td></tr>\n",
       "<tr><td>8</td><td>Literal</td><td></td><td><a class=\"ProveItLink\" href=\"../../../__pv_it/8f1f7fac882de28c72b62ab80a1700b6d8fd066b0/expr.ipynb\"><img src=\"data:image/png;base64,iVBORw0KGgoAAAANSUhEUgAAAA4AAAAOBAMAAADtZjDiAAAAG1BMVEX///9EREQQEBAiIiJmZmbM\n",
       "zMyIiIjc3NwAAACryk5kAAAAAXRSTlMAQObYZgAAABlJREFUCNdjYGBgKGOAgBBa0s7GxkbGxoYA\n",
       "FMUF2aBfHgoAAAAASUVORK5CYII=\n",
       "\" style=\"display:inline;vertical-align:middle;\" /></a></td></tr>\n",
       "<tr><td>9</td><td>Literal</td><td></td><td><a class=\"ProveItLink\" href=\"../../../__pv_it/68a87cc3370287d726c7086ace789e680e4461c30/expr.ipynb\"><img src=\"data:image/png;base64,iVBORw0KGgoAAAANSUhEUgAAAA4AAAAOBAMAAADtZjDiAAAAFVBMVEX///92dnbMzMxEREQiIiJm\n",
       "ZmYAAABAT6GXAAAAAXRSTlMAQObYZgAAABhJREFUCNdjCHEBAWcGIFBlgABa0YpADAAxegPJJk4d\n",
       "XAAAAABJRU5ErkJggg==\n",
       "\" style=\"display:inline;vertical-align:middle;\" /></a></td></tr>\n",
       "</table>\n"
      ],
      "text/plain": [
       "0. [or](TRUE) = (FALSE or TRUE)\n",
       "   core type: Operation\n",
       "   operator: 1\n",
       "   operands: 2\n",
       "1. =\n",
       "   core type: Literal\n",
       "   sub-expressions: \n",
       "2. ([or](TRUE) , FALSE or TRUE)\n",
       "   core type: ExprTuple\n",
       "   sub-expressions: 3, 4\n",
       "3. [or](TRUE)\n",
       "   core type: Operation\n",
       "   operator: 6\n",
       "   operands: 5\n",
       "4. FALSE or TRUE\n",
       "   core type: Operation\n",
       "   operator: 6\n",
       "   operands: 7\n",
       "5. (TRUE)\n",
       "   core type: ExprTuple\n",
       "   sub-expressions: 9\n",
       "6. or\n",
       "   core type: Literal\n",
       "   sub-expressions: \n",
       "7. (FALSE , TRUE)\n",
       "   core type: ExprTuple\n",
       "   sub-expressions: 8, 9\n",
       "8. FALSE\n",
       "   core type: Literal\n",
       "   sub-expressions: \n",
       "9. TRUE\n",
       "   core type: Literal\n",
       "   sub-expressions: "
      ]
     },
     "execution_count": 4,
     "metadata": {},
     "output_type": "execute_result"
    }
   ],
   "source": [
    "# display the expression information\n",
    "expr.exprInfo()"
   ]
  },
  {
   "cell_type": "code",
   "execution_count": null,
   "metadata": {},
   "outputs": [],
   "source": []
  }
 ],
 "metadata": {
  "kernelspec": {
   "display_name": "Python 3",
   "language": "python",
   "name": "python3"
  }
 },
 "nbformat": 4,
 "nbformat_minor": 0
}
