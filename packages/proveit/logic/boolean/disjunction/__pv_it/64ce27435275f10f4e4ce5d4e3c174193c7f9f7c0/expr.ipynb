{
 "cells": [
  {
   "cell_type": "markdown",
   "metadata": {},
   "source": [
    "Expression of type <a class=\"ProveItLink\" href=\"../../../../../../../doc/html/api/proveit.logic.Or.html\">Or</a>\n",
    "=======================\n",
    "# from context <a class=\"ProveItLink\" href=\"../../_context_.ipynb\">proveit.logic.boolean.disjunction</a>"
   ]
  },
  {
   "cell_type": "code",
   "execution_count": 1,
   "metadata": {},
   "outputs": [],
   "source": [
    "# import Expression classes needed to build the expression\n",
    "from proveit._common_ import A, B, C, D\n",
    "from proveit.logic import Or, TRUE"
   ]
  },
  {
   "cell_type": "code",
   "execution_count": 2,
   "metadata": {},
   "outputs": [
    {
     "data": {
      "text/html": [
       "<strong id=\"expr\">expr:</strong> <a class=\"ProveItLink\" href=\"expr.ipynb\"><img src=\"data:image/png;base64,iVBORw0KGgoAAAANSUhEUgAAAK4AAAAPBAMAAACPYumWAAAAMFBMVEX///92dnYQEBBERERUVFS6\n",
       "urqIiIhmZmaqqqrc3Nzu7u6YmJgyMjIiIiLMzMwAAACFkkdwAAAAAXRSTlMAQObYZgAAAiFJREFU\n",
       "OMuNlD1II0EUx18+TMzXxt4mcN0peIggCGrAFRvRdNdaaalgcV4hSWengoUWgttopZDKNmkkRBTF\n",
       "6xQ5D4uDE1HRE79Q38fMzk5sHNjZmd/M++97894sALVLsFtq9M4d2LHQ7Cm1Xw0bN7p+lJctEkPT\n",
       "4T41OaCuiYdn3Ie/ARQLNoO/8gqwUBvAd3ygQDOHF7JVgIWSuPfbwz5KW2NjTK7wdZW3mdY1LLmP\n",
       "dqFHHI3QwriYtgDEn3i4Ulykz6GPkPGYTCKotNhM6xqW/kru57A7p4VjMUXfnXsejk1yHHV85sS2\n",
       "E58jz2Za17AihZuYoi+gH81TvNpP7I4PzFsog9pbF1Pkqz0NzNfVLPFCsyQdC2mSNrZbCol11/k4\n",
       "OTaOkfj4xAnYzOhqFn82ZXCszkKOIHUDnMw1DgFzES1IsWAutvI2M7qaZR6NLuZsUBZfKbX/6Quu\n",
       "OyouHcKm7IpgLmLPNjO6mmWv+RwkBkhWxZRgOCf1GBY2A61imM3rWAwL6CoWZt15RvFSqCym5GKF\n",
       "xpjUTI7ZKnoiNYg8+mCzgK5iUa5SqYJENQN+5cMXIqibvpaKv1A3gMp3rWqzgK5inKKQKu6RbWWK\n",
       "5RHZxQEdVUTuh9Pr+eXrtHs2C+hqVilB00/FzuVWUPk6NXwvddQh1f8i0dRkbfrNdffKyqDm5/yP\n",
       "P1LMGR6a0SjNCkky7T5r+DvBP/jYPskcz5q+AwHwqT5t9I7FAAAAAElFTkSuQmCC\n",
       "\" style=\"display:inline;vertical-align:middle;\" /></a><br>"
      ],
      "text/plain": [
       "expr: A or B or TRUE or C or D"
      ]
     },
     "execution_count": 2,
     "metadata": {},
     "output_type": "execute_result"
    }
   ],
   "source": [
    "# build up the expression from sub-expressions\n",
    "expr = Or(A, B, TRUE, C, D)"
   ]
  },
  {
   "cell_type": "code",
   "execution_count": 3,
   "metadata": {},
   "outputs": [
    {
     "name": "stdout",
     "output_type": "stream",
     "text": [
      "Passed sanity check: built 'expr' is the same as the stored Expression.\n"
     ]
    }
   ],
   "source": [
    "# check that the built expression is the same as the stored expression\n",
    "%check_expr"
   ]
  },
  {
   "cell_type": "code",
   "execution_count": 4,
   "metadata": {},
   "outputs": [
    {
     "data": {
      "text/html": [
       "<table><tr><th>&nbsp;</th><th>core type</th><th>sub-expressions</th><th>expression</th></tr>\n",
       "<tr><td>0</td><td>Operation</td><td>operator:&nbsp;1<br>operands:&nbsp;2<br></td><td><a class=\"ProveItLink\" href=\"expr.ipynb\"><img src=\"data:image/png;base64,iVBORw0KGgoAAAANSUhEUgAAAK4AAAAPBAMAAACPYumWAAAAMFBMVEX///92dnYQEBBERERUVFS6\n",
       "urqIiIhmZmaqqqrc3Nzu7u6YmJgyMjIiIiLMzMwAAACFkkdwAAAAAXRSTlMAQObYZgAAAiFJREFU\n",
       "OMuNlD1II0EUx18+TMzXxt4mcN0peIggCGrAFRvRdNdaaalgcV4hSWengoUWgttopZDKNmkkRBTF\n",
       "6xQ5D4uDE1HRE79Q38fMzk5sHNjZmd/M++97894sALVLsFtq9M4d2LHQ7Cm1Xw0bN7p+lJctEkPT\n",
       "4T41OaCuiYdn3Ie/ARQLNoO/8gqwUBvAd3ygQDOHF7JVgIWSuPfbwz5KW2NjTK7wdZW3mdY1LLmP\n",
       "dqFHHI3QwriYtgDEn3i4Ulykz6GPkPGYTCKotNhM6xqW/kru57A7p4VjMUXfnXsejk1yHHV85sS2\n",
       "E58jz2Za17AihZuYoi+gH81TvNpP7I4PzFsog9pbF1Pkqz0NzNfVLPFCsyQdC2mSNrZbCol11/k4\n",
       "OTaOkfj4xAnYzOhqFn82ZXCszkKOIHUDnMw1DgFzES1IsWAutvI2M7qaZR6NLuZsUBZfKbX/6Quu\n",
       "OyouHcKm7IpgLmLPNjO6mmWv+RwkBkhWxZRgOCf1GBY2A61imM3rWAwL6CoWZt15RvFSqCym5GKF\n",
       "xpjUTI7ZKnoiNYg8+mCzgK5iUa5SqYJENQN+5cMXIqibvpaKv1A3gMp3rWqzgK5inKKQKu6RbWWK\n",
       "5RHZxQEdVUTuh9Pr+eXrtHs2C+hqVilB00/FzuVWUPk6NXwvddQh1f8i0dRkbfrNdffKyqDm5/yP\n",
       "P1LMGR6a0SjNCkky7T5r+DvBP/jYPskcz5q+AwHwqT5t9I7FAAAAAElFTkSuQmCC\n",
       "\" style=\"display:inline;vertical-align:middle;\" /></a></td></tr>\n",
       "<tr><td>1</td><td>Literal</td><td></td><td><a class=\"ProveItLink\" href=\"../087d0b4ded7c7e5bf3bba05ecb616d7a8051ff650/expr.ipynb\"><img src=\"data:image/png;base64,iVBORw0KGgoAAAANSUhEUgAAAAwAAAAOBAMAAADpk+DfAAAALVBMVEX///+YmJh2dnZmZmaqqqrc\n",
       "3NwyMjLu7u4iIiJERESIiIhUVFTMzMy6uroAAAD0I/TTAAAAAXRSTlMAQObYZgAAAEtJREFUCNdj\n",
       "uMAABDwMe0DUKoaTIKqdgS2AgYHFAITAzHYGsMQqBoa9QIqDgT0BSDE7MAkAKdYEDpAehj1SYOpk\n",
       "O5hiMwBTPAUMDAB33Atnw8aG2QAAAABJRU5ErkJggg==\n",
       "\" style=\"display:inline;vertical-align:middle;\" /></a></td></tr>\n",
       "<tr><td>2</td><td>ExprTuple</td><td>3, 4, 5, 6, 7</td><td><a class=\"ProveItLink\" href=\"../4074ec1c80b1eb5a2bbf3d32b285fd4cf296a4080/expr.ipynb\"><img src=\"data:image/png;base64,iVBORw0KGgoAAAANSUhEUgAAAIMAAAAVBAMAAACXjEALAAAAMFBMVEX////c3NwiIiJERESqqqqY\n",
       "mJh2dnZmZmYQEBDu7u4yMjJUVFTMzMyIiIi6uroAAAAs73DqAAAAAXRSTlMAQObYZgAAAhZJREFU\n",
       "OMutVD1IW1EU/kLymjzzXswgCO1QaRHsVBepBcFsjgaFjjWb7SAVRdtNoZ0cmodTKIJZilVBAx0E\n",
       "36BTO2RQcHBRTF1anfwXTTWec3/aC3mCqA/eyb3n+973zj3nywPu4Uqs3uXp1xyKcu00qKS1VPa/\n",
       "z8n1wBO+nmq+vbYwFOoXS5dYi21AdJk20xKu2dPEWDMwUtK7n8Yr36SR+JCW69o80JkC6MdV5+g6\n",
       "08QVyqwUAiS+PKPwLqlYGSqBnnlF7/REJtSxr5lbROrJBEh8Y+ofzaI6nQsgB+zKjOteamYr3U1e\n",
       "tUT0iGO92rXze8tAOIVhmdmJHGsq5R++RLXE4zzHCbU75BEQ9UE/vspel7goOZry5nojAiRG0kZn\n",
       "Bd06ASJ5fJbmQOhUgS41ZbwQIPE8aUi4fynE6fCJUcgWFH3/UIHhUSIcB0hURFRNCrMHYkR19pQE\n",
       "tXdMMWsLssIqiSyHyLJikXnQkxYSnwTAQ9C2oHz8KEBiiQuIGubBR4iDtHCiju55aqq2BTffMyTs\n",
       "f0+9VcAWVRNmY1t59DKDx9XuYbJB2sIZ82AfGBICsKi030kFkC2cKV7QULfJIa3nSXRXppCjYQxW\n",
       "fH+GzmJn5QB+cMgJ6xZn36ckYDPrhWhLTQkxc1S/zI/AjQA2uJUx9qZ5LNwEQN//P/stJUQbHxmW\n",
       "M0HzY3YtgDifKnSnD98GcAVoIJVTjGmCxgAAAABJRU5ErkJggg==\n",
       "\" style=\"display:inline;vertical-align:middle;\" /></a></td></tr>\n",
       "<tr><td>3</td><td>Variable</td><td></td><td><a class=\"ProveItLink\" href=\"../../../../../__pv_it/2cbe72a7ad6f655694dd697106680215e8489b600/expr.ipynb\"><img src=\"data:image/png;base64,iVBORw0KGgoAAAANSUhEUgAAAA8AAAAOBAMAAAACpFvcAAAALVBMVEX///8QEBBERERUVFS6urqI\n",
       "iIhmZmaqqqrc3Nzu7u6YmJgyMjIiIiLMzMwAAADtIaYWAAAAAXRSTlMAQObYZgAAAFtJREFUCNdj\n",
       "YACBOwxQsA9Kc52bAGG05zVAGAFxDmCaZULdAjBjCsO9ADDDgaEvAUTzGhvbKYCVMDAwbgAxChgY\n",
       "eASANAeQwf0AyJgNxEwvGRia5HYwcOm9TgAA6BoR3jrzwFcAAAAASUVORK5CYII=\n",
       "\" style=\"display:inline;vertical-align:middle;\" /></a></td></tr>\n",
       "<tr><td>4</td><td>Variable</td><td></td><td><a class=\"ProveItLink\" href=\"../../../../../__pv_it/077b2ff79244fb4582cbe22c6e3356fa92a52f2f0/expr.ipynb\"><img src=\"data:image/png;base64,iVBORw0KGgoAAAANSUhEUgAAABAAAAAOBAMAAADUAYG5AAAAMFBMVEX///+qqqru7u4iIiJ2dnbc\n",
       "3NyIiIjMzMxmZmYQEBC6uroyMjJERERUVFSYmJgAAADLUcuvAAAAAXRSTlMAQObYZgAAAGpJREFU\n",
       "CNdjYGB4+//u3dMLGIBgDgMDxy8gzf4NiP8CGWxfGRj4vgAZPBMYGJgnARn8FxhY9ygAGfXX0pof\n",
       "gDTlBzAw2YIYJ0EckBBI53sHoBH/gIz7AhBjWH9DjancBLTl/N+7t/cxMAAA3u4f/5xagjYAAAAA\n",
       "SUVORK5CYII=\n",
       "\" style=\"display:inline;vertical-align:middle;\" /></a></td></tr>\n",
       "<tr><td>5</td><td>Literal</td><td></td><td><a class=\"ProveItLink\" href=\"../../../__pv_it/68a87cc3370287d726c7086ace789e680e4461c30/expr.ipynb\"><img src=\"data:image/png;base64,iVBORw0KGgoAAAANSUhEUgAAAA4AAAAOBAMAAADtZjDiAAAAFVBMVEX///92dnbMzMxEREQiIiJm\n",
       "ZmYAAABAT6GXAAAAAXRSTlMAQObYZgAAABhJREFUCNdjCHEBAWcGIFBlgABa0YpADAAxegPJJk4d\n",
       "XAAAAABJRU5ErkJggg==\n",
       "\" style=\"display:inline;vertical-align:middle;\" /></a></td></tr>\n",
       "<tr><td>6</td><td>Variable</td><td></td><td><a class=\"ProveItLink\" href=\"../../../../../__pv_it/985a1bdf1540838275dec15f4ad6de261cca93ce0/expr.ipynb\"><img src=\"data:image/png;base64,iVBORw0KGgoAAAANSUhEUgAAAA8AAAAOBAMAAAACpFvcAAAAMFBMVEX////MzMyqqqoiIiIyMjK6\n",
       "uroQEBB2dnbc3NyYmJhmZmZUVFRERESIiIju7u4AAAB204erAAAAAXRSTlMAQObYZgAAAGZJREFU\n",
       "CNdjYGDgu7NrJccCBgaGsgkMrMsmMDA8sQNy6hsYGNweABlhDAxcn4A0QxcDQ78DiPGQgWH9BAYI\n",
       "sG+AMv6DSaCGfBDNJMDAsB+kmwuI5S8AiTog5gSaEwXWIO29SgFIAQBC+RaDQlidVgAAAABJRU5E\n",
       "rkJggg==\n",
       "\" style=\"display:inline;vertical-align:middle;\" /></a></td></tr>\n",
       "<tr><td>7</td><td>Variable</td><td></td><td><a class=\"ProveItLink\" href=\"../../../../../__pv_it/185e6d30f167ee2ee5ef3321098dc98e0d77bc590/expr.ipynb\"><img src=\"data:image/png;base64,iVBORw0KGgoAAAANSUhEUgAAABEAAAAOBAMAAAA7w+qHAAAALVBMVEX///8QEBCYmJjc3Ny6urru\n",
       "7u5mZmZ2dnaqqqrMzMxEREQyMjJUVFSIiIgAAABETr/8AAAAAXRSTlMAQObYZgAAAGpJREFUCNdj\n",
       "YGC48+7MmV0TGEDgNQMDxwsQg/M5kMgLABK8T4DEvAtAgusBkLA7ACT4FoDEDsAk9AqAxD2QCecc\n",
       "gMQ6kAGCIOIVEDM9Ahn3FkgwgnTxvgQSqwOgxs1OADLC1r05cyoTyAAAv4Qe+njAWvgAAAAASUVO\n",
       "RK5CYII=\n",
       "\" style=\"display:inline;vertical-align:middle;\" /></a></td></tr>\n",
       "</table>\n"
      ],
      "text/plain": [
       "0. A or B or TRUE or C or D\n",
       "   core type: Operation\n",
       "   operator: 1\n",
       "   operands: 2\n",
       "1. or\n",
       "   core type: Literal\n",
       "   sub-expressions: \n",
       "2. (A , B , TRUE , C , D)\n",
       "   core type: ExprTuple\n",
       "   sub-expressions: 3, 4, 5, 6, 7\n",
       "3. A\n",
       "   core type: Variable\n",
       "   sub-expressions: \n",
       "4. B\n",
       "   core type: Variable\n",
       "   sub-expressions: \n",
       "5. TRUE\n",
       "   core type: Literal\n",
       "   sub-expressions: \n",
       "6. C\n",
       "   core type: Variable\n",
       "   sub-expressions: \n",
       "7. D\n",
       "   core type: Variable\n",
       "   sub-expressions: "
      ]
     },
     "execution_count": 4,
     "metadata": {},
     "output_type": "execute_result"
    }
   ],
   "source": [
    "# display the expression information\n",
    "expr.exprInfo()"
   ]
  },
  {
   "cell_type": "code",
   "execution_count": null,
   "metadata": {},
   "outputs": [],
   "source": []
  }
 ],
 "metadata": {
  "kernelspec": {
   "display_name": "Python 3",
   "language": "python",
   "name": "python3"
  }
 },
 "nbformat": 4,
 "nbformat_minor": 0
}
