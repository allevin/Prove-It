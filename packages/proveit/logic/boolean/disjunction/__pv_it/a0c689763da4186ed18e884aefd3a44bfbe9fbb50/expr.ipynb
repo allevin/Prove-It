{
 "cells": [
  {
   "cell_type": "markdown",
   "metadata": {},
   "source": [
    "Expression of type <a class=\"ProveItLink\" href=\"../../../../../../../doc/html/api/proveit.logic.Or.html\">Or</a>\n",
    "=======================\n",
    "# from context <a class=\"ProveItLink\" href=\"../../_context_.ipynb\">proveit.logic.boolean.disjunction</a>"
   ]
  },
  {
   "cell_type": "code",
   "execution_count": 1,
   "metadata": {},
   "outputs": [],
   "source": [
    "# import Expression classes needed to build the expression\n",
    "from proveit._common_ import A, B, C, D, E, F, G, H, I\n",
    "from proveit.logic import Or"
   ]
  },
  {
   "cell_type": "code",
   "execution_count": 2,
   "metadata": {},
   "outputs": [
    {
     "data": {
      "text/html": [
       "<strong id=\"expr\">expr:</strong> <a class=\"ProveItLink\" href=\"expr.ipynb\"><img src=\"data:image/png;base64,iVBORw0KGgoAAAANSUhEUgAAAUoAAAAPBAMAAABw5ZtdAAAAMFBMVEX///92dnYQEBBERERUVFS6\n",
       "urqIiIhmZmaqqqrc3Nzu7u6YmJgyMjIiIiLMzMwAAACFkkdwAAAAAXRSTlMAQObYZgAAA1ZJREFU\n",
       "SMeNlk1ME0EUx/8LLaWfNB71AMEbHkTjTUyrrHAB2ptHSDR4bCMmoEbbmzds4gEPJuxFjJHDHtSD\n",
       "ByFCQvAjrYknLhDhpJJCAOWjWOfNbLf7tntgkg6bH+83Mzvz5rUAtU3w9qaq6z1pF5y5NG5OcXRL\n",
       "xC2scdaS2tX14nxD3LU/PC50s/9BMOtSd+6HUzv3GNRsUKTOLx/VnGeBwB5n2jnghvhArj6mxArQ\n",
       "uu9y28QKW7s5E3G4zN1TJvx3zEa1reQxHrXwqiF6H8GWETmOeO/YLmOhryJGOxBPQxQxKsXYtuhy\n",
       "BnMxTH+yjPkp7i1zZ1dE115oVMtZuGBcrfJZrkBTivdH1JBbL1YT3mYs0kWzdYhunSJW1BHRfpdH\n",
       "mIt2MUOIM432e5K5Hw0r09xqJu+GVuqNZOTDsvg8lqBZrCbaxViOZJlHEfFKrSqhmrdEN51kLqVP\n",
       "HAXGIocI4r3TDdC6MYUGFQnDA9IOGU9MWHRZpUISwQXDyYIVmfF0EDQLzUZx9MrlJHOxg7Aczjle\n",
       "Ca/lg+1Oy2R7BbcKHMMDivZCHprcYbnTYuK+0YdqphoLHNVv3Yp1cuqwMRdnrr+iFwvg4w1ncY+7\n",
       "OdMejql67183tGpDGtPyAEW2+lQOZAoIfYeTRQ/qqxTZf109ZWhvU2nmav8QAfh47YuDHdxdLdTr\n",
       "j1NFy74HpEzV9ZRadgmzSrxIKzCdrG1Lnrh6T4Ss4pCgrpO7kS1oVrGxWdFAEsytis/tLxcaVDQf\n",
       "ohGq2tSkZp3AGfWf3dpB2qxJxk5KFMhrZj1lwkfcFbkaxAxnxwhZRs3tdNxep2pXRwZFE5c3qs7j\n",
       "OUpqd2niVN7JfPIV1c0OzkfVAFRW0dTNXFUuTzMmyyWYmzLqt5ep5bgHFF7e3lXfL1VHqVyqS20z\n",
       "uSBNFTAMvbMyilKmx2CurHnWN1+NaXv1pLZcuneuKaxymfaAkMdvJUPsimGXyx+fwNhcHv7aF+y6\n",
       "qumyXP7O8ji5QZtrjFmb4HQpTza+eagJwwPi6fllhBMVNdeSyp3Erj7wuTbskmUN9E/UUERFvxRx\n",
       "vY94XKhX/LAYPGZMxNV/QFguNhbHzQ9cHav24W71KoPBMRvY7ScamweLGSeLO6nrpTL4H6OQRoG9\n",
       "Iep8AAAAAElFTkSuQmCC\n",
       "\" style=\"display:inline;vertical-align:middle;\" /></a><br>"
      ],
      "text/plain": [
       "expr: A or B or C or D or E or F or G or H or I"
      ]
     },
     "execution_count": 2,
     "metadata": {},
     "output_type": "execute_result"
    }
   ],
   "source": [
    "# build up the expression from sub-expressions\n",
    "expr = Or(A, B, C, D, E, F, G, H, I)"
   ]
  },
  {
   "cell_type": "code",
   "execution_count": 3,
   "metadata": {},
   "outputs": [
    {
     "name": "stdout",
     "output_type": "stream",
     "text": [
      "Passed sanity check: built 'expr' is the same as the stored Expression.\n"
     ]
    }
   ],
   "source": [
    "# check that the built expression is the same as the stored expression\n",
    "%check_expr"
   ]
  },
  {
   "cell_type": "code",
   "execution_count": 4,
   "metadata": {},
   "outputs": [
    {
     "data": {
      "text/html": [
       "<table><tr><th>&nbsp;</th><th>core type</th><th>sub-expressions</th><th>expression</th></tr>\n",
       "<tr><td>0</td><td>Operation</td><td>operator:&nbsp;1<br>operands:&nbsp;2<br></td><td><a class=\"ProveItLink\" href=\"expr.ipynb\"><img src=\"data:image/png;base64,iVBORw0KGgoAAAANSUhEUgAAAUoAAAAPBAMAAABw5ZtdAAAAMFBMVEX///92dnYQEBBERERUVFS6\n",
       "urqIiIhmZmaqqqrc3Nzu7u6YmJgyMjIiIiLMzMwAAACFkkdwAAAAAXRSTlMAQObYZgAAA1ZJREFU\n",
       "SMeNlk1ME0EUx/8LLaWfNB71AMEbHkTjTUyrrHAB2ptHSDR4bCMmoEbbmzds4gEPJuxFjJHDHtSD\n",
       "ByFCQvAjrYknLhDhpJJCAOWjWOfNbLf7tntgkg6bH+83Mzvz5rUAtU3w9qaq6z1pF5y5NG5OcXRL\n",
       "xC2scdaS2tX14nxD3LU/PC50s/9BMOtSd+6HUzv3GNRsUKTOLx/VnGeBwB5n2jnghvhArj6mxArQ\n",
       "uu9y28QKW7s5E3G4zN1TJvx3zEa1reQxHrXwqiF6H8GWETmOeO/YLmOhryJGOxBPQxQxKsXYtuhy\n",
       "BnMxTH+yjPkp7i1zZ1dE115oVMtZuGBcrfJZrkBTivdH1JBbL1YT3mYs0kWzdYhunSJW1BHRfpdH\n",
       "mIt2MUOIM432e5K5Hw0r09xqJu+GVuqNZOTDsvg8lqBZrCbaxViOZJlHEfFKrSqhmrdEN51kLqVP\n",
       "HAXGIocI4r3TDdC6MYUGFQnDA9IOGU9MWHRZpUISwQXDyYIVmfF0EDQLzUZx9MrlJHOxg7Aczjle\n",
       "Ca/lg+1Oy2R7BbcKHMMDivZCHprcYbnTYuK+0YdqphoLHNVv3Yp1cuqwMRdnrr+iFwvg4w1ncY+7\n",
       "OdMejql67183tGpDGtPyAEW2+lQOZAoIfYeTRQ/qqxTZf109ZWhvU2nmav8QAfh47YuDHdxdLdTr\n",
       "j1NFy74HpEzV9ZRadgmzSrxIKzCdrG1Lnrh6T4Ss4pCgrpO7kS1oVrGxWdFAEsytis/tLxcaVDQf\n",
       "ohGq2tSkZp3AGfWf3dpB2qxJxk5KFMhrZj1lwkfcFbkaxAxnxwhZRs3tdNxep2pXRwZFE5c3qs7j\n",
       "OUpqd2niVN7JfPIV1c0OzkfVAFRW0dTNXFUuTzMmyyWYmzLqt5ep5bgHFF7e3lXfL1VHqVyqS20z\n",
       "uSBNFTAMvbMyilKmx2CurHnWN1+NaXv1pLZcuneuKaxymfaAkMdvJUPsimGXyx+fwNhcHv7aF+y6\n",
       "qumyXP7O8ji5QZtrjFmb4HQpTza+eagJwwPi6fllhBMVNdeSyp3Erj7wuTbskmUN9E/UUERFvxRx\n",
       "vY94XKhX/LAYPGZMxNV/QFguNhbHzQ9cHav24W71KoPBMRvY7ScamweLGSeLO6nrpTL4H6OQRoG9\n",
       "Iep8AAAAAElFTkSuQmCC\n",
       "\" style=\"display:inline;vertical-align:middle;\" /></a></td></tr>\n",
       "<tr><td>1</td><td>Literal</td><td></td><td><a class=\"ProveItLink\" href=\"../087d0b4ded7c7e5bf3bba05ecb616d7a8051ff650/expr.ipynb\"><img src=\"data:image/png;base64,iVBORw0KGgoAAAANSUhEUgAAAAwAAAAOBAMAAADpk+DfAAAALVBMVEX///+YmJh2dnZmZmaqqqrc\n",
       "3NwyMjLu7u4iIiJERESIiIhUVFTMzMy6uroAAAD0I/TTAAAAAXRSTlMAQObYZgAAAEtJREFUCNdj\n",
       "uMAABDwMe0DUKoaTIKqdgS2AgYHFAITAzHYGsMQqBoa9QIqDgT0BSDE7MAkAKdYEDpAehj1SYOpk\n",
       "O5hiMwBTPAUMDAB33Atnw8aG2QAAAABJRU5ErkJggg==\n",
       "\" style=\"display:inline;vertical-align:middle;\" /></a></td></tr>\n",
       "<tr><td>2</td><td>ExprTuple</td><td>3, 4, 5, 6, 7, 8, 9, 10, 11</td><td><a class=\"ProveItLink\" href=\"../6b87d0c59a91e38b2dea638e032c93f894129daf0/expr.ipynb\"><img src=\"data:image/png;base64,iVBORw0KGgoAAAANSUhEUgAAAOMAAAAVBAMAAABGa0R7AAAAMFBMVEX////c3NwiIiJERESqqqqY\n",
       "mJh2dnZmZmYQEBDu7u4yMjJUVFTMzMyIiIi6uroAAAAs73DqAAAAAXRSTlMAQObYZgAAA0pJREFU\n",
       "SMfFVk1oE1EQntjspptmkxyEgh7ai6AnexGrHtKbFw9BQfBic9Mi0kip9Q/SgwXtwQZBLGIxWMSf\n",
       "gpEWrLhIgkd7aMGDB5VGL1Uv/YmtNLHGeW9msi9grnWhy8zON++9+b6ZlwL8hye6sJ27nVavObIj\n",
       "nfzRKlS9mecCcd7PDgbSZH+sed5kkQMuwrx8zo+82uLIxJGhZLuAypetQvkCeedqB+Mhlf+U/PCK\n",
       "7NLaBZApsXM2CdFLSXYqAMGfAovhdsEuPwIHyLRHAJZGDFBMitEo/OAyr8c3JTCPX+ZfkH1vH776\n",
       "40zEBr4yWYYtq0SuP7ohnIHzEAH2qgGaT4OBOok10RKBo4KCRdyhN0X2ExX9Jlz+4QPppx8pctix\n",
       "Ve3HiK2bpkoKtNjDjq3yxwF+8HJ6Pf10499eOkhI08jCQIvivoPrhzxACrj+8CYE4JQ2M2oDUV+B\n",
       "ICG8aO1aeuAiud+D67JlFWDXITI7dHvcF2GUckI5lMFK1nXthDtkBSqa3XgdBLAGZr6dhkekQCki\n",
       "DRepfv6wh+1M0mxwzalQHq14eVkYltPAXRlabxjAiufN/AJT/WAOblEMAhJxUdTbXMr+uLnAomrw\n",
       "Avey/RvC9Uj/1PQwWTtWzQwEgVvvcSUsRIeBJJzzvLIohskun7Wm36JFQr1u+MLYEBHJssCHjKFe\n",
       "7pXJlK9eS30U8prEFd4Sjz4qjGOytUH2mHoFi4Yw1rovTAAm2FkDhyVoHZbWFPViOTDy1ZbX9aqq\n",
       "SUUxTG5jMgqqwJCIvMX3hC9MnzFw9LRtmteKHsuUCKu7BYnVd8ZOKtuRsVSdmpWG6WNqXRQGDmcJ\n",
       "pYXBWXDAryor55J0GssSL6yERZpycEb1a47G50EnjWVkFBdWvW1htUtxsvVYvsOB0ygtzNsiOVQV\n",
       "oXqTEJlOsSNjaaBwSL7iYbsrcThRewzj2G4DeEM/Q26dMdWtc1NDPWzfTeB1f03dH4hyZhA2vUYO\n",
       "RtSIUEbk9eygVdSOM1B7A1drLwnVnqgqisMlaDXn4Is5U/F/240o02lANUvBC89KGRFz8q0mdiPK\n",
       "dBpQzVLO+z9e27SlbpvdfsA1UQtN7EaU2wzVJKVN8R3Y1n9EPgH8BWB1GKxSyvMSAAAAAElFTkSu\n",
       "QmCC\n",
       "\" style=\"display:inline;vertical-align:middle;\" /></a></td></tr>\n",
       "<tr><td>3</td><td>Variable</td><td></td><td><a class=\"ProveItLink\" href=\"../../../../../__pv_it/2cbe72a7ad6f655694dd697106680215e8489b600/expr.ipynb\"><img src=\"data:image/png;base64,iVBORw0KGgoAAAANSUhEUgAAAA8AAAAOBAMAAAACpFvcAAAALVBMVEX///8QEBBERERUVFS6urqI\n",
       "iIhmZmaqqqrc3Nzu7u6YmJgyMjIiIiLMzMwAAADtIaYWAAAAAXRSTlMAQObYZgAAAFtJREFUCNdj\n",
       "YACBOwxQsA9Kc52bAGG05zVAGAFxDmCaZULdAjBjCsO9ADDDgaEvAUTzGhvbKYCVMDAwbgAxChgY\n",
       "eASANAeQwf0AyJgNxEwvGRia5HYwcOm9TgAA6BoR3jrzwFcAAAAASUVORK5CYII=\n",
       "\" style=\"display:inline;vertical-align:middle;\" /></a></td></tr>\n",
       "<tr><td>4</td><td>Variable</td><td></td><td><a class=\"ProveItLink\" href=\"../../../../../__pv_it/077b2ff79244fb4582cbe22c6e3356fa92a52f2f0/expr.ipynb\"><img src=\"data:image/png;base64,iVBORw0KGgoAAAANSUhEUgAAABAAAAAOBAMAAADUAYG5AAAAMFBMVEX///+qqqru7u4iIiJ2dnbc\n",
       "3NyIiIjMzMxmZmYQEBC6uroyMjJERERUVFSYmJgAAADLUcuvAAAAAXRSTlMAQObYZgAAAGpJREFU\n",
       "CNdjYGB4+//u3dMLGIBgDgMDxy8gzf4NiP8CGWxfGRj4vgAZPBMYGJgnARn8FxhY9ygAGfXX0pof\n",
       "gDTlBzAw2YIYJ0EckBBI53sHoBH/gIz7AhBjWH9DjancBLTl/N+7t/cxMAAA3u4f/5xagjYAAAAA\n",
       "SUVORK5CYII=\n",
       "\" style=\"display:inline;vertical-align:middle;\" /></a></td></tr>\n",
       "<tr><td>5</td><td>Variable</td><td></td><td><a class=\"ProveItLink\" href=\"../../../../../__pv_it/985a1bdf1540838275dec15f4ad6de261cca93ce0/expr.ipynb\"><img src=\"data:image/png;base64,iVBORw0KGgoAAAANSUhEUgAAAA8AAAAOBAMAAAACpFvcAAAAMFBMVEX////MzMyqqqoiIiIyMjK6\n",
       "uroQEBB2dnbc3NyYmJhmZmZUVFRERESIiIju7u4AAAB204erAAAAAXRSTlMAQObYZgAAAGZJREFU\n",
       "CNdjYGDgu7NrJccCBgaGsgkMrMsmMDA8sQNy6hsYGNweABlhDAxcn4A0QxcDQ78DiPGQgWH9BAYI\n",
       "sG+AMv6DSaCGfBDNJMDAsB+kmwuI5S8AiTog5gSaEwXWIO29SgFIAQBC+RaDQlidVgAAAABJRU5E\n",
       "rkJggg==\n",
       "\" style=\"display:inline;vertical-align:middle;\" /></a></td></tr>\n",
       "<tr><td>6</td><td>Variable</td><td></td><td><a class=\"ProveItLink\" href=\"../../../../../__pv_it/185e6d30f167ee2ee5ef3321098dc98e0d77bc590/expr.ipynb\"><img src=\"data:image/png;base64,iVBORw0KGgoAAAANSUhEUgAAABEAAAAOBAMAAAA7w+qHAAAALVBMVEX///8QEBCYmJjc3Ny6urru\n",
       "7u5mZmZ2dnaqqqrMzMxEREQyMjJUVFSIiIgAAABETr/8AAAAAXRSTlMAQObYZgAAAGpJREFUCNdj\n",
       "YGC48+7MmV0TGEDgNQMDxwsQg/M5kMgLABK8T4DEvAtAgusBkLA7ACT4FoDEDsAk9AqAxD2QCecc\n",
       "gMQ6kAGCIOIVEDM9Ahn3FkgwgnTxvgQSqwOgxs1OADLC1r05cyoTyAAAv4Qe+njAWvgAAAAASUVO\n",
       "RK5CYII=\n",
       "\" style=\"display:inline;vertical-align:middle;\" /></a></td></tr>\n",
       "<tr><td>7</td><td>Variable</td><td></td><td><a class=\"ProveItLink\" href=\"../../../../../__pv_it/9995c55100c62d7d8a012a35bafc852acbe03cf00/expr.ipynb\"><img src=\"data:image/png;base64,iVBORw0KGgoAAAANSUhEUgAAABAAAAAOBAMAAADUAYG5AAAALVBMVEX///8iIiKYmJjc3Nzu7u7M\n",
       "zMx2dnZmZma6urpERESqqqoyMjJUVFSIiIgAAACbLqVTAAAAAXRSTlMAQObYZgAAAGVJREFUCNdj\n",
       "YGC48+7MmdOvGYAARKwEYo63QIIdiNmeAglfIOZ+wMDGwAxk8E1gUAIpZejbc/oxmJEXwLABzNjH\n",
       "wJDAEABkvGRgMGC5ADWGzQFqjDnEGAZWUQYGn3lvzpyRE2AAAIznGVQJqiN4AAAAAElFTkSuQmCC\n",
       "\" style=\"display:inline;vertical-align:middle;\" /></a></td></tr>\n",
       "<tr><td>8</td><td>Variable</td><td></td><td><a class=\"ProveItLink\" href=\"../../../../../__pv_it/6d1586c49fb5fd7602fde2bbc54560e7304e8ccf0/expr.ipynb\"><img src=\"data:image/png;base64,iVBORw0KGgoAAAANSUhEUgAAABAAAAAOBAMAAADUAYG5AAAAMFBMVEX///9mZmYiIiLc3Nzu7u7M\n",
       "zMyqqqp2dna6urqYmJhEREQyMjIQEBBUVFSIiIgAAABBzvKsAAAAAXRSTlMAQObYZgAAAFxJREFU\n",
       "CNdjYGB4+//u3Tv/GIDgNxCvBGKO70BiBhCzfwMSqUDM/YWBmWEKkMGvwOAJUsrQL8AgDGbU7710\n",
       "AMzY78BwAcz4xMAygQFmDAiw/4AyuD9AaMf1f8GaAdy+F/r2qjhkAAAAAElFTkSuQmCC\n",
       "\" style=\"display:inline;vertical-align:middle;\" /></a></td></tr>\n",
       "<tr><td>9</td><td>Variable</td><td></td><td><a class=\"ProveItLink\" href=\"../../../../../__pv_it/994260d00d104a1ab9cf940a007fb6a4ff36f79e0/expr.ipynb\"><img src=\"data:image/png;base64,iVBORw0KGgoAAAANSUhEUgAAAA8AAAAOBAMAAAACpFvcAAAAMFBMVEX///+qqqrMzMwiIiIyMjK6\n",
       "uroQEBB2dnbc3NyYmJhmZmZUVFRERESIiIju7u4AAACtjd3MAAAAAXRSTlMAQObYZgAAAG5JREFU\n",
       "CNdjYGDgu7NrJccCBgaGsgkMrMsmMDA8sQNy6hsYGNweABnKDAxcH4E0QxcDQ78DiPGCgWH9BAYI\n",
       "sG+AMv4D8S2X4wwMaSBefQADw36Qbn8g1r/AwMDxBcjg/MnAoG0Oktf2XjVhEgMDAJHQGYM57+uu\n",
       "AAAAAElFTkSuQmCC\n",
       "\" style=\"display:inline;vertical-align:middle;\" /></a></td></tr>\n",
       "<tr><td>10</td><td>Variable</td><td></td><td><a class=\"ProveItLink\" href=\"../../../../../__pv_it/fabf74ac81cd36aa91075816201d2b14195a56e60/expr.ipynb\"><img src=\"data:image/png;base64,iVBORw0KGgoAAAANSUhEUgAAABMAAAAOBAMAAAA/Njq6AAAALVBMVEX///+qqqp2dnbMzMy6uroi\n",
       "IiIyMjLc3NyYmJju7u5mZmZERERUVFSIiIgAAABaGT/LAAAAAXRSTlMAQObYZgAAAGhJREFUCNdj\n",
       "YGC4827XhJ53uwoYgOAZED8FMRhY3jIwML8CM5keMzDwPgQz2R4wMHC/BDP5NgBxAJjpl3PmzL4F\n",
       "YKaeAQPDPQEwMw+I900AM19DjYYa+whh7BM0Y2fte3OB69wbBQYGADOSITJjbaXUAAAAAElFTkSu\n",
       "QmCC\n",
       "\" style=\"display:inline;vertical-align:middle;\" /></a></td></tr>\n",
       "<tr><td>11</td><td>Variable</td><td></td><td><a class=\"ProveItLink\" href=\"../../../../../__pv_it/485fbf85ade6e4660c176b077846a05437e7af3e0/expr.ipynb\"><img src=\"data:image/png;base64,iVBORw0KGgoAAAANSUhEUgAAAAsAAAAOBAMAAAALT/umAAAAIVBMVEX////MzMyIiIi6uroyMjLc\n",
       "3NxmZmZERERUVFR2dnYAAABv5Bk0AAAAAXRSTlMAQObYZgAAAD9JREFUCNdjYGCYsaosgAEIloAI\n",
       "BuaVYIpzMZhiWQCmuArAlJUCmJolAKa8wCTDcoi2RRBtC5G0hVWtmMDAAAAhAQsT8Qr5GAAAAABJ\n",
       "RU5ErkJggg==\n",
       "\" style=\"display:inline;vertical-align:middle;\" /></a></td></tr>\n",
       "</table>\n"
      ],
      "text/plain": [
       "0. A or B or C or D or E or F or G or H or I\n",
       "   core type: Operation\n",
       "   operator: 1\n",
       "   operands: 2\n",
       "1. or\n",
       "   core type: Literal\n",
       "   sub-expressions: \n",
       "2. (A , B , C , D , E , F , G , H , I)\n",
       "   core type: ExprTuple\n",
       "   sub-expressions: 3, 4, 5, 6, 7, 8, 9, 10, 11\n",
       "3. A\n",
       "   core type: Variable\n",
       "   sub-expressions: \n",
       "4. B\n",
       "   core type: Variable\n",
       "   sub-expressions: \n",
       "5. C\n",
       "   core type: Variable\n",
       "   sub-expressions: \n",
       "6. D\n",
       "   core type: Variable\n",
       "   sub-expressions: \n",
       "7. E\n",
       "   core type: Variable\n",
       "   sub-expressions: \n",
       "8. F\n",
       "   core type: Variable\n",
       "   sub-expressions: \n",
       "9. G\n",
       "   core type: Variable\n",
       "   sub-expressions: \n",
       "10. H\n",
       "    core type: Variable\n",
       "    sub-expressions: \n",
       "11. I\n",
       "    core type: Variable\n",
       "    sub-expressions: "
      ]
     },
     "execution_count": 4,
     "metadata": {},
     "output_type": "execute_result"
    }
   ],
   "source": [
    "# display the expression information\n",
    "expr.exprInfo()"
   ]
  },
  {
   "cell_type": "code",
   "execution_count": null,
   "metadata": {},
   "outputs": [],
   "source": []
  }
 ],
 "metadata": {
  "kernelspec": {
   "display_name": "Python 3",
   "language": "python",
   "name": "python3"
  }
 },
 "nbformat": 4,
 "nbformat_minor": 0
}
