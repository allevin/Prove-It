{
 "cells": [
  {
   "cell_type": "markdown",
   "metadata": {},
   "source": [
    "Expression of type <a class=\"ProveItLink\" href=\"../../../../../../../doc/html/api/proveit.logic.Set.html\">Set</a>\n",
    "=======================\n",
    "# from context <a class=\"ProveItLink\" href=\"../../_context_.ipynb\">proveit.logic.boolean.disjunction</a>"
   ]
  },
  {
   "cell_type": "code",
   "execution_count": 1,
   "metadata": {},
   "outputs": [],
   "source": [
    "# import Expression classes needed to build the expression\n",
    "from proveit._common_ import D, E\n",
    "from proveit.logic import Implies, Set"
   ]
  },
  {
   "cell_type": "code",
   "execution_count": 2,
   "metadata": {},
   "outputs": [
    {
     "data": {
      "text/html": [
       "<strong id=\"expr\">expr:</strong> <a class=\"ProveItLink\" href=\"../45fc1ad36b0719b6352bcbd856bc00335eb3f3b70/expr.ipynb\"><img src=\"data:image/png;base64,iVBORw0KGgoAAAANSUhEUgAAAFUAAAAVBAMAAADFg78FAAAAMFBMVEX////c3NxERESqqqpUVFS6\n",
       "urrMzMwyMjIQEBCIiIh2dnYiIiLu7u5mZmaYmJgAAABXZE4RAAAAAXRSTlMAQObYZgAAAVxJREFU\n",
       "KM9jYGDgu8dAELCtEgBRPLsYiABszSCS8wOI8P/i4q6GRQ1IwqW+gIHhOojH1QAi+YFcewMsikES\n",
       "zAoMDCsQavMXMDDw/oGr4IGz4icAiQsoaucHAN30E66C/QCMtT4BqHMCilp9IGb8AlfL6gBj1TMw\n",
       "LGAQQFH7CeRXhFqGlTDGJwa+ByAarJa3gAFqPd8vEP/2bhDYfwFqwXeXenDQvgcRGQGgoPkGJFi+\n",
       "IvnfPABMcX1jYIf4AKg5pQ3EYgIFMkcDklqeCrBi9g8MXAxsIJY60CkRCaBQVABZ8wBJbfoaSPAq\n",
       "MDAynAQyuBeAbAa5Nx8Uik0MCPfu1kEK3jUw93JtAAUv0HCmGiRjTZCCl/ECA3KYAYOXrRZJKWMB\n",
       "IngZshOQ1PJc+u/iopuApJZJAOJBJ6CE928GFHMxkiCGCG61DNjV8hGnFpx+eXYSlS9awRTfYiLz\n",
       "GwB16FvcgO7HFAAAAABJRU5ErkJggg==\n",
       "\" style=\"display:inline;vertical-align:middle;\" /></a><br>"
      ],
      "text/plain": [
       "expr: {D => E}"
      ]
     },
     "execution_count": 2,
     "metadata": {},
     "output_type": "execute_result"
    }
   ],
   "source": [
    "# build up the expression from sub-expressions\n",
    "expr = Set(Implies(D, E))"
   ]
  },
  {
   "cell_type": "code",
   "execution_count": 3,
   "metadata": {},
   "outputs": [
    {
     "name": "stdout",
     "output_type": "stream",
     "text": [
      "Passed sanity check: built 'expr' is the same as the stored Expression.\n"
     ]
    }
   ],
   "source": [
    "# check that the built expression is the same as the stored expression\n",
    "%check_expr"
   ]
  },
  {
   "cell_type": "code",
   "execution_count": 4,
   "metadata": {},
   "outputs": [
    {
     "data": {
      "text/html": [
       "<table><tr><th>&nbsp;</th><th>core type</th><th>sub-expressions</th><th>expression</th></tr>\n",
       "<tr><td>0</td><td>Operation</td><td>operator:&nbsp;1<br>operands:&nbsp;2<br></td><td><a class=\"ProveItLink\" href=\"../45fc1ad36b0719b6352bcbd856bc00335eb3f3b70/expr.ipynb\"><img src=\"data:image/png;base64,iVBORw0KGgoAAAANSUhEUgAAAFUAAAAVBAMAAADFg78FAAAAMFBMVEX////c3NxERESqqqpUVFS6\n",
       "urrMzMwyMjIQEBCIiIh2dnYiIiLu7u5mZmaYmJgAAABXZE4RAAAAAXRSTlMAQObYZgAAAVxJREFU\n",
       "KM9jYGDgu8dAELCtEgBRPLsYiABszSCS8wOI8P/i4q6GRQ1IwqW+gIHhOojH1QAi+YFcewMsikES\n",
       "zAoMDCsQavMXMDDw/oGr4IGz4icAiQsoaucHAN30E66C/QCMtT4BqHMCilp9IGb8AlfL6gBj1TMw\n",
       "LGAQQFH7CeRXhFqGlTDGJwa+ByAarJa3gAFqPd8vEP/2bhDYfwFqwXeXenDQvgcRGQGgoPkGJFi+\n",
       "IvnfPABMcX1jYIf4AKg5pQ3EYgIFMkcDklqeCrBi9g8MXAxsIJY60CkRCaBQVABZ8wBJbfoaSPAq\n",
       "MDAynAQyuBeAbAa5Nx8Uik0MCPfu1kEK3jUw93JtAAUv0HCmGiRjTZCCl/ECA3KYAYOXrRZJKWMB\n",
       "IngZshOQ1PJc+u/iopuApJZJAOJBJ6CE928GFHMxkiCGCG61DNjV8hGnFpx+eXYSlS9awRTfYiLz\n",
       "GwB16FvcgO7HFAAAAABJRU5ErkJggg==\n",
       "\" style=\"display:inline;vertical-align:middle;\" /></a></td></tr>\n",
       "<tr><td>1</td><td>Literal</td><td></td><td><a class=\"ProveItLink\" href=\"../../../../set_theory/enumeration/__pv_it/07381ed5b23806e8d7914b78cb6667769e3708dd0/expr.ipynb\"><img src=\"data:image/png;base64,iVBORw0KGgoAAAANSUhEUgAAAB4AAAAOBAMAAADKyLEKAAAAMFBMVEX///8iIiIQEBCIiIjMzMzc\n",
       "3Nyqqqp2dnZEREQyMjK6urru7u5mZmZUVFSYmJgAAACI6eGPAAAAAXRSTlMAQObYZgAAALRJREFU\n",
       "CNdjYGDgu3Nm3wIGBJjHwN0PZW5yYGDgLWBgyITy8zcwMMQDxZyh/INAvD6BgcEFypcB4vjPDiBm\n",
       "TPFRrhs/LjMwMP//38rAwCbKEMPA9gEkE3fp0waG+AUMRxh4JkC01T9guPTOOICBEWgVH5C//wHD\n",
       "H5D4fqCz9oCMDGD4DLaegRXslLMMDMpAgxlOMmQxHDRgYG5gYLBk4D7KcIe7gOHC2rt9QCXsh40Z\n",
       "GCKMGQDRkC8N/Ph1XAAAAABJRU5ErkJggg==\n",
       "\" style=\"display:inline;vertical-align:middle;\" /></a></td></tr>\n",
       "<tr><td>2</td><td>ExprTuple</td><td>3</td><td><a class=\"ProveItLink\" href=\"../00568a5b14244594693e118ae764e531646128930/expr.ipynb\"><img src=\"data:image/png;base64,iVBORw0KGgoAAAANSUhEUgAAAE8AAAAVBAMAAAD1D64kAAAAMFBMVEX////c3NwiIiJERESqqqqY\n",
       "mJh2dnZmZmYQEBDu7u4yMjJUVFTMzMyIiIi6uroAAAAs73DqAAAAAXRSTlMAQObYZgAAAWBJREFU\n",
       "KM9jYCAa8F0grCYORJwG4tv/d+9efACLCpDErl8M7CC5lSCBXwwMLF+wmQWUYHBmYFjAwMALspnn\n",
       "G5ConwCXhrP4/gIJdgaGMAYGDpAg7z8gcR7h2JUwBtsfIDGXgWEGA8MrEJ/5A5CQ3wBX+BrG4PrA\n",
       "wMbACFTgwFAG4vMbgExEKGSDGQ6UCAULFDAsZYDZGp8Aco8SGHyHKny/etdHEM2ygKEPRN8HeX//\n",
       "A4RnWdZB6PwDIA8DPdXAAPIGgz2I6EAOlllgAxjWMzAkMABN4fkAUfgZiFm/IqnjWQYJIaCEAOcF\n",
       "sMIWkDAotDhAHoK5UXkCIhjZJoCtNgUFIyi0rCYgOXEDUjCKg6xbwJAODcZTBUg2SyGCkYFHBxI8\n",
       "jxgYptv/3r25BtkrhhBqNlBit74CSMcDBg4BLEkBIyEBo5A1gZhEm4ucAPAATlCoSxOhkBvkPkYi\n",
       "ssIdBgYAclxeVjuFRBsAAAAASUVORK5CYII=\n",
       "\" style=\"display:inline;vertical-align:middle;\" /></a></td></tr>\n",
       "<tr><td>3</td><td>Operation</td><td>operator:&nbsp;4<br>operands:&nbsp;5<br></td><td><a class=\"ProveItLink\" href=\"../../../../../__pv_it/176670f014e9e8646d3bc9fe67f02c4a4363f3ab0/expr.ipynb\"><img src=\"data:image/png;base64,iVBORw0KGgoAAAANSUhEUgAAAEIAAAAPBAMAAACivARpAAAAMFBMVEX///8iIiIQEBCYmJjc3Ny6\n",
       "urru7u5mZmZ2dnaqqqrMzMxEREQyMjJUVFSIiIgAAABUCcz6AAAAAXRSTlMAQObYZgAAAO9JREFU\n",
       "GNNjYGB4+//u3dMLGDABSOLOHxALSHD+xKICJMEwG4i5fgCJ+gS4OJzF+g9IsAMx31cgsf4BXMUx\n",
       "GIPjF5DIA2LuD0DC/wJcRSyMwfOBgYOBBcjg3wAyA6GCA2YcUMIYzABbYN8AslMQDL5DVcSfvfMF\n",
       "zHgP8un9AIQXOI9C6P4FDAfAjP0gQgnZlzmqYOo8A0MDA0j7byBm/oykgOsExMNACQc2oBO4QL5m\n",
       "ArkW5g7pBERwcADZfCBf70lAcsYFpOBwhwbHmgIkS3wQwcHAJcXAkL7/793bVcju3AKhcoESd+UF\n",
       "sMUXWjQDANExSC49x9IOAAAAAElFTkSuQmCC\n",
       "\" style=\"display:inline;vertical-align:middle;\" /></a></td></tr>\n",
       "<tr><td>4</td><td>Literal</td><td></td><td><a class=\"ProveItLink\" href=\"../../../implication/__pv_it/e5c030cabcb650938f92dee8256fe11cd12bf9b30/expr.ipynb\"><img src=\"data:image/png;base64,iVBORw0KGgoAAAANSUhEUgAAABMAAAANBAMAAAC5okgUAAAALVBMVEX////c3NxERETMzMwQEBCq\n",
       "qqoiIiJmZmaIiIh2dnZUVFS6uroyMjLu7u4AAACPpZJTAAAAAXRSTlMAQObYZgAAAD1JREFUCNdj\n",
       "YAABXgY44LkAZ3IvQAjPABFlaSCQV4AQjtkAZ/IegbNt5sLUpunC5aPgLMYDcCaTAJzJDCIA2yMN\n",
       "HCCUuIIAAAAASUVORK5CYII=\n",
       "\" style=\"display:inline;vertical-align:middle;\" /></a></td></tr>\n",
       "<tr><td>5</td><td>ExprTuple</td><td>6, 7</td><td><a class=\"ProveItLink\" href=\"../../../../../__pv_it/c7ff15ce8065ed3d579714a808fd58a3b368ca6c0/expr.ipynb\"><img src=\"data:image/png;base64,iVBORw0KGgoAAAANSUhEUgAAADcAAAAVBAMAAAAQkWtIAAAAMFBMVEX////c3NwiIiJERESqqqqY\n",
       "mJh2dnZmZmYQEBDu7u4yMjJUVFTMzMyIiIi6uroAAAAs73DqAAAAAXRSTlMAQObYZgAAATlJREFU\n",
       "KM99Uq9Pw0AYfc3W0pYV6hH8CzUYzPgTUEiYIwhCFYoEBAIFc2BImhAEqoTJE1uQIJiHZAsSQ8MA\n",
       "sY0f7+vukhODJvcu77277+71O+Dfb647XV8XuOd4/FHqoqPVqD1SKs9mhF+JMASq72bPfEaWgBhJ\n",
       "1donYb+pzVeRUqwBvkjRN+HBHL7DgkEXZ8CL0EpBWLzWZg40EKOygt3ylER2GnMAd5WTl+ISpuJG\n",
       "Q2cbqjzmXM1wLLwn1273J6Y3RlguOoBcBXWBI101LOChxgjFxBxwuB8mZgIH56V5KDG/CH5ix9wq\n",
       "yy5JzDFhmYGbJqaTslSGTR3zjjR40zFx2ymjPAOn9ZFq7VEKTmIELTbhRlaFffix3T6b8Pe5DYu7\n",
       "dkO3TcummAFbhgVLsB/FrBzh/PFMnoBfhNxX4uxpHFQAAAAASUVORK5CYII=\n",
       "\" style=\"display:inline;vertical-align:middle;\" /></a></td></tr>\n",
       "<tr><td>6</td><td>Variable</td><td></td><td><a class=\"ProveItLink\" href=\"../../../../../__pv_it/185e6d30f167ee2ee5ef3321098dc98e0d77bc590/expr.ipynb\"><img src=\"data:image/png;base64,iVBORw0KGgoAAAANSUhEUgAAABEAAAAOBAMAAAA7w+qHAAAALVBMVEX///8QEBCYmJjc3Ny6urru\n",
       "7u5mZmZ2dnaqqqrMzMxEREQyMjJUVFSIiIgAAABETr/8AAAAAXRSTlMAQObYZgAAAGpJREFUCNdj\n",
       "YGC48+7MmV0TGEDgNQMDxwsQg/M5kMgLABK8T4DEvAtAgusBkLA7ACT4FoDEDsAk9AqAxD2QCecc\n",
       "gMQ6kAGCIOIVEDM9Ahn3FkgwgnTxvgQSqwOgxs1OADLC1r05cyoTyAAAv4Qe+njAWvgAAAAASUVO\n",
       "RK5CYII=\n",
       "\" style=\"display:inline;vertical-align:middle;\" /></a></td></tr>\n",
       "<tr><td>7</td><td>Variable</td><td></td><td><a class=\"ProveItLink\" href=\"../../../../../__pv_it/9995c55100c62d7d8a012a35bafc852acbe03cf00/expr.ipynb\"><img src=\"data:image/png;base64,iVBORw0KGgoAAAANSUhEUgAAABAAAAAOBAMAAADUAYG5AAAALVBMVEX///8iIiKYmJjc3Nzu7u7M\n",
       "zMx2dnZmZma6urpERESqqqoyMjJUVFSIiIgAAACbLqVTAAAAAXRSTlMAQObYZgAAAGVJREFUCNdj\n",
       "YGC48+7MmdOvGYAARKwEYo63QIIdiNmeAglfIOZ+wMDGwAxk8E1gUAIpZejbc/oxmJEXwLABzNjH\n",
       "wJDAEABkvGRgMGC5ADWGzQFqjDnEGAZWUQYGn3lvzpyRE2AAAIznGVQJqiN4AAAAAElFTkSuQmCC\n",
       "\" style=\"display:inline;vertical-align:middle;\" /></a></td></tr>\n",
       "</table>\n"
      ],
      "text/plain": [
       "0. {D => E}\n",
       "   core type: Operation\n",
       "   operator: 1\n",
       "   operands: 2\n",
       "1. Set\n",
       "   core type: Literal\n",
       "   sub-expressions: \n",
       "2. (D => E)\n",
       "   core type: ExprTuple\n",
       "   sub-expressions: 3\n",
       "3. D => E\n",
       "   core type: Operation\n",
       "   operator: 4\n",
       "   operands: 5\n",
       "4. =>\n",
       "   core type: Literal\n",
       "   sub-expressions: \n",
       "5. (D , E)\n",
       "   core type: ExprTuple\n",
       "   sub-expressions: 6, 7\n",
       "6. D\n",
       "   core type: Variable\n",
       "   sub-expressions: \n",
       "7. E\n",
       "   core type: Variable\n",
       "   sub-expressions: "
      ]
     },
     "execution_count": 4,
     "metadata": {},
     "output_type": "execute_result"
    }
   ],
   "source": [
    "# display the expression information\n",
    "expr.exprInfo()"
   ]
  },
  {
   "cell_type": "code",
   "execution_count": null,
   "metadata": {},
   "outputs": [],
   "source": []
  }
 ],
 "metadata": {
  "kernelspec": {
   "display_name": "Python 3",
   "language": "python",
   "name": "python3"
  }
 },
 "nbformat": 4,
 "nbformat_minor": 0
}
