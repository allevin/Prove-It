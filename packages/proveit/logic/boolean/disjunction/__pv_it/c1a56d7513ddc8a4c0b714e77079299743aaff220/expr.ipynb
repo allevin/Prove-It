{
 "cells": [
  {
   "cell_type": "markdown",
   "metadata": {},
   "source": [
    "Expression of type <a class=\"ProveItLink\" href=\"../../../../../../../doc/html/api/proveit.logic.And.html\">And</a>\n",
    "=======================\n",
    "# from context <a class=\"ProveItLink\" href=\"../../_context_.ipynb\">proveit.logic.boolean.disjunction</a>"
   ]
  },
  {
   "cell_type": "code",
   "execution_count": 1,
   "metadata": {},
   "outputs": [],
   "source": [
    "# import Expression classes needed to build the expression\n",
    "from proveit.logic import And, Not, TRUE"
   ]
  },
  {
   "cell_type": "code",
   "execution_count": 2,
   "metadata": {},
   "outputs": [
    {
     "data": {
      "text/html": [
       "<strong id=\"expr\">expr:</strong> <a class=\"ProveItLink\" href=\"expr.ipynb\"><img src=\"data:image/png;base64,iVBORw0KGgoAAAANSUhEUgAAAG8AAAAVBAMAAAC6Uq30AAAAMFBMVEX////c3NwiIiJERESqqqqY\n",
       "mJh2dnZmZmYQEBDu7u4yMjJUVFTMzMyIiIi6uroAAAAs73DqAAAAAXRSTlMAQObYZgAAAWtJREFU\n",
       "OMtjYCAb8F1AE2B9gK7kLbpAHIg4DeOxK4GBAUMNmjKeDTBWEViFMgP7ASBnJbKSAhDJBeUxToDQ\n",
       "XBOQlBwHkwsYGHgvYGhkTYBqKIDQdxkwNIYxMHBMwNDI2QDhHdaE0J2YGmcwMLxiwNDIYALh7YNY\n",
       "xbcAUyOzA0MZFo3pYJJzARMk0BIwNbIVMCzFotELIhnA7gD2agCmRpYFDH2weEhAaHwBJpkYGMGO\n",
       "5HgAjQc1hEa+BoZ/yJEF1XgeTMYyMOwB0fywBHEaoZHnAx6NmlClODS2YNEIdioLkM0lAHKqA6ZG\n",
       "oFNNsWiMAoeJAEQzA3MApkbWBdCgB4IDaNFxGEQoQIIeajZKdDxCiQ5IlK0DRz8stfEpICs5BkmN\n",
       "Dxg4BDAyGiTJgYOED0Q0YubFGYgUjQTY0HJoGKbGXLRsBQGz0Pgo2QqaGoGENIbGjWh8xg3oKrhB\n",
       "/mNELzp4D6Crk0UXuMPAAAC/pFbqtm581QAAAABJRU5ErkJggg==\n",
       "\" style=\"display:inline;vertical-align:middle;\" /></a><br>"
      ],
      "text/plain": [
       "expr: [not](TRUE) and [not](TRUE)"
      ]
     },
     "execution_count": 2,
     "metadata": {},
     "output_type": "execute_result"
    }
   ],
   "source": [
    "# build up the expression from sub-expressions\n",
    "subExpr1 = Not(TRUE)\n",
    "expr = And(subExpr1, subExpr1)"
   ]
  },
  {
   "cell_type": "code",
   "execution_count": 3,
   "metadata": {},
   "outputs": [
    {
     "name": "stdout",
     "output_type": "stream",
     "text": [
      "Passed sanity check: built 'expr' is the same as the stored Expression.\n"
     ]
    }
   ],
   "source": [
    "# check that the built expression is the same as the stored expression\n",
    "%check_expr"
   ]
  },
  {
   "cell_type": "code",
   "execution_count": 4,
   "metadata": {},
   "outputs": [
    {
     "data": {
      "text/html": [
       "<table><tr><th>&nbsp;</th><th>core type</th><th>sub-expressions</th><th>expression</th></tr>\n",
       "<tr><td>0</td><td>Operation</td><td>operator:&nbsp;1<br>operands:&nbsp;2<br></td><td><a class=\"ProveItLink\" href=\"expr.ipynb\"><img src=\"data:image/png;base64,iVBORw0KGgoAAAANSUhEUgAAAG8AAAAVBAMAAAC6Uq30AAAAMFBMVEX////c3NwiIiJERESqqqqY\n",
       "mJh2dnZmZmYQEBDu7u4yMjJUVFTMzMyIiIi6uroAAAAs73DqAAAAAXRSTlMAQObYZgAAAWtJREFU\n",
       "OMtjYCAb8F1AE2B9gK7kLbpAHIg4DeOxK4GBAUMNmjKeDTBWEViFMgP7ASBnJbKSAhDJBeUxToDQ\n",
       "XBOQlBwHkwsYGHgvYGhkTYBqKIDQdxkwNIYxMHBMwNDI2QDhHdaE0J2YGmcwMLxiwNDIYALh7YNY\n",
       "xbcAUyOzA0MZFo3pYJJzARMk0BIwNbIVMCzFotELIhnA7gD2agCmRpYFDH2weEhAaHwBJpkYGMGO\n",
       "5HgAjQc1hEa+BoZ/yJEF1XgeTMYyMOwB0fywBHEaoZHnAx6NmlClODS2YNEIdioLkM0lAHKqA6ZG\n",
       "oFNNsWiMAoeJAEQzA3MApkbWBdCgB4IDaNFxGEQoQIIeajZKdDxCiQ5IlK0DRz8stfEpICs5BkmN\n",
       "Dxg4BDAyGiTJgYOED0Q0YubFGYgUjQTY0HJoGKbGXLRsBQGz0Pgo2QqaGoGENIbGjWh8xg3oKrhB\n",
       "/mNELzp4D6Crk0UXuMPAAAC/pFbqtm581QAAAABJRU5ErkJggg==\n",
       "\" style=\"display:inline;vertical-align:middle;\" /></a></td></tr>\n",
       "<tr><td>1</td><td>Literal</td><td></td><td><a class=\"ProveItLink\" href=\"../../../conjunction/__pv_it/76b5f4f4c45c0b6a9b59b297fc07dfa9555698f50/expr.ipynb\"><img src=\"data:image/png;base64,iVBORw0KGgoAAAANSUhEUgAAAAwAAAAOBAMAAADpk+DfAAAALVBMVEX///+qqqqYmJh2dnaIiIi6\n",
       "urpUVFQiIiJERETMzMxmZmYyMjLu7u7c3NwAAABvwqPxAAAAAXRSTlMAQObYZgAAAEtJREFUCNdj\n",
       "YGDgPcAAAtwLwNSMGjCV6gIieTawgyhmBS4BIMXOwLsBSKkwMGQCKaC6aQwMjEBd3BdACMScAVJd\n",
       "wJAKolwYAkAUKwAk0guX6efcigAAAABJRU5ErkJggg==\n",
       "\" style=\"display:inline;vertical-align:middle;\" /></a></td></tr>\n",
       "<tr><td>2</td><td>ExprTuple</td><td>3, 3</td><td><a class=\"ProveItLink\" href=\"../d71f6d5837e9b50d2e6148cc6807b87b07159c890/expr.ipynb\"><img src=\"data:image/png;base64,iVBORw0KGgoAAAANSUhEUgAAAFEAAAAVBAMAAADMaB9/AAAAMFBMVEX////c3NwiIiJERESqqqqY\n",
       "mJh2dnZmZmYQEBDu7u4yMjJUVFTMzMyIiIi6uroAAAAs73DqAAAAAXRSTlMAQObYZgAAAMtJREFU\n",
       "KM9jYCAe8F0gQlEciDgN47ErgYEBsooisJAyA/sBIGclkgRPAaZxx8HkAgYG3gtEqQxjYOCYQJTK\n",
       "GQwMrxiIUsnswFBGnEq2AoalxKlkWcDQBwueBBSV4OBRQ6jka2D4BzNuA6aZpxEqeT6QoLKFOJVA\n",
       "200xVU7AopJ1AUM6TPgATCXnJ3hQoITSI5RQAgUAZ78AstgxMMn1gIFDADMdYgqBYpM1AUOUFUsC\n",
       "zUVLdThVcgJTHYM0hjCWTMANchAjMbnjDgMDAK5bNxUfexYsAAAAAElFTkSuQmCC\n",
       "\" style=\"display:inline;vertical-align:middle;\" /></a></td></tr>\n",
       "<tr><td>3</td><td>Operation</td><td>operator:&nbsp;4<br>operand:&nbsp;5<br></td><td><a class=\"ProveItLink\" href=\"../64bca6f824ebeb308ac4ae8ae73cb3543228f2c30/expr.ipynb\"><img src=\"data:image/png;base64,iVBORw0KGgoAAAANSUhEUgAAABwAAAAOBAMAAADOPWE3AAAAGFBMVEX///9ERERUVFTMzMx2dnYi\n",
       "IiJmZmYAAADORshHAAAAAXRSTlMAQObYZgAAACZJREFUCNdjYICA1FAQCGRAADMGFEAxF2xDCKqs\n",
       "EQVcZiwWmQAxANt2B/RO11f4AAAAAElFTkSuQmCC\n",
       "\" style=\"display:inline;vertical-align:middle;\" /></a></td></tr>\n",
       "<tr><td>4</td><td>Literal</td><td></td><td><a class=\"ProveItLink\" href=\"../../../negation/__pv_it/7bea79645543c2413aa17e787cca04e21046fde60/expr.ipynb\"><img src=\"data:image/png;base64,iVBORw0KGgoAAAANSUhEUgAAAAwAAAAGBAMAAAAFwGKyAAAAFVBMVEX///9UVFTMzMx2dnYiIiJm\n",
       "ZmYAAACWz4ZEAAAAAXRSTlMAQObYZgAAABRJREFUCNdjCHEBAmcGMFDEQzEBAEl+Ai6uYJv/AAAA\n",
       "AElFTkSuQmCC\n",
       "\" style=\"display:inline;vertical-align:middle;\" /></a></td></tr>\n",
       "<tr><td>5</td><td>Literal</td><td></td><td><a class=\"ProveItLink\" href=\"../../../__pv_it/68a87cc3370287d726c7086ace789e680e4461c30/expr.ipynb\"><img src=\"data:image/png;base64,iVBORw0KGgoAAAANSUhEUgAAAA4AAAAOBAMAAADtZjDiAAAAFVBMVEX///92dnbMzMxEREQiIiJm\n",
       "ZmYAAABAT6GXAAAAAXRSTlMAQObYZgAAABhJREFUCNdjCHEBAWcGIFBlgABa0YpADAAxegPJJk4d\n",
       "XAAAAABJRU5ErkJggg==\n",
       "\" style=\"display:inline;vertical-align:middle;\" /></a></td></tr>\n",
       "</table>\n"
      ],
      "text/plain": [
       "0. [not](TRUE) and [not](TRUE)\n",
       "   core type: Operation\n",
       "   operator: 1\n",
       "   operands: 2\n",
       "1. and\n",
       "   core type: Literal\n",
       "   sub-expressions: \n",
       "2. ([not](TRUE) , [not](TRUE))\n",
       "   core type: ExprTuple\n",
       "   sub-expressions: 3, 3\n",
       "3. [not](TRUE)\n",
       "   core type: Operation\n",
       "   operator: 4\n",
       "   operand: 5\n",
       "4. not\n",
       "   core type: Literal\n",
       "   sub-expressions: \n",
       "5. TRUE\n",
       "   core type: Literal\n",
       "   sub-expressions: "
      ]
     },
     "execution_count": 4,
     "metadata": {},
     "output_type": "execute_result"
    }
   ],
   "source": [
    "# display the expression information\n",
    "expr.exprInfo()"
   ]
  },
  {
   "cell_type": "code",
   "execution_count": null,
   "metadata": {},
   "outputs": [],
   "source": []
  }
 ],
 "metadata": {
  "kernelspec": {
   "display_name": "Python 3",
   "language": "python",
   "name": "python3"
  }
 },
 "nbformat": 4,
 "nbformat_minor": 0
}
