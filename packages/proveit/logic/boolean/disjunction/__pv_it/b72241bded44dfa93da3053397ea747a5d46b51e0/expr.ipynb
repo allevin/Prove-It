{
 "cells": [
  {
   "cell_type": "markdown",
   "metadata": {},
   "source": [
    "Expression of type <a class=\"ProveItLink\" href=\"../../../../../../../doc/html/api/proveit.logic.InSet.html\">InSet</a>\n",
    "=======================\n",
    "# from context <a class=\"ProveItLink\" href=\"../../_context_.ipynb\">proveit.logic.boolean.disjunction</a>"
   ]
  },
  {
   "cell_type": "code",
   "execution_count": 1,
   "metadata": {},
   "outputs": [],
   "source": [
    "# import Expression classes needed to build the expression\n",
    "from proveit._common_ import J\n",
    "from proveit.logic import Booleans, InSet"
   ]
  },
  {
   "cell_type": "code",
   "execution_count": 2,
   "metadata": {},
   "outputs": [
    {
     "data": {
      "text/html": [
       "<strong id=\"expr\">expr:</strong> <a class=\"ProveItLink\" href=\"expr.ipynb\"><img src=\"data:image/png;base64,iVBORw0KGgoAAAANSUhEUgAAADMAAAAPBAMAAAC7N+rPAAAAMFBMVEX///9ERESIiIiqqqru7u7c\n",
       "3NyYmJi6urpUVFQQEBAyMjLMzMwiIiJmZmZ2dnYAAACebuTwAAAAAXRSTlMAQObYZgAAAL5JREFU\n",
       "GNNjYGBgeHv+LAMyePVx/cqDBhD2+w0oUgwCRSxL3kGYKxnQpRjUuSDMHxCKRevMmQVQKTMOBxCL\n",
       "/RtEalcKkq5AMIvvK5hiFUEYyH0MwuGaAKYYA+BSNed/KoBZ/g1gyhHZGUqGYJZ9ApiqPHMG4QxG\n",
       "9gcg1n2wYxh2IOtiZBBgiLzAcAYi4IMu9f4B9yeIAEcCshTQQCMGnwaoj48jSeUqMjAwKbXBRKJu\n",
       "w4NXZoYBathZrIG4EAIAYQo1n6w9PhIAAAAASUVORK5CYII=\n",
       "\" style=\"display:inline;vertical-align:middle;\" /></a><br>"
      ],
      "text/plain": [
       "expr: J in BOOLEANS"
      ]
     },
     "execution_count": 2,
     "metadata": {},
     "output_type": "execute_result"
    }
   ],
   "source": [
    "# build up the expression from sub-expressions\n",
    "expr = InSet(J, Booleans)"
   ]
  },
  {
   "cell_type": "code",
   "execution_count": 3,
   "metadata": {},
   "outputs": [
    {
     "name": "stdout",
     "output_type": "stream",
     "text": [
      "Passed sanity check: built 'expr' is the same as the stored Expression.\n"
     ]
    }
   ],
   "source": [
    "# check that the built expression is the same as the stored expression\n",
    "%check_expr"
   ]
  },
  {
   "cell_type": "code",
   "execution_count": 4,
   "metadata": {},
   "outputs": [
    {
     "data": {
      "text/html": [
       "<table><tr><th>&nbsp;</th><th>core type</th><th>sub-expressions</th><th>expression</th></tr>\n",
       "<tr><td>0</td><td>Operation</td><td>operator:&nbsp;1<br>operands:&nbsp;2<br></td><td><a class=\"ProveItLink\" href=\"expr.ipynb\"><img src=\"data:image/png;base64,iVBORw0KGgoAAAANSUhEUgAAADMAAAAPBAMAAAC7N+rPAAAAMFBMVEX///9ERESIiIiqqqru7u7c\n",
       "3NyYmJi6urpUVFQQEBAyMjLMzMwiIiJmZmZ2dnYAAACebuTwAAAAAXRSTlMAQObYZgAAAL5JREFU\n",
       "GNNjYGBgeHv+LAMyePVx/cqDBhD2+w0oUgwCRSxL3kGYKxnQpRjUuSDMHxCKRevMmQVQKTMOBxCL\n",
       "/RtEalcKkq5AMIvvK5hiFUEYyH0MwuGaAKYYA+BSNed/KoBZ/g1gyhHZGUqGYJZ9ApiqPHMG4QxG\n",
       "9gcg1n2wYxh2IOtiZBBgiLzAcAYi4IMu9f4B9yeIAEcCshTQQCMGnwaoj48jSeUqMjAwKbXBRKJu\n",
       "w4NXZoYBathZrIG4EAIAYQo1n6w9PhIAAAAASUVORK5CYII=\n",
       "\" style=\"display:inline;vertical-align:middle;\" /></a></td></tr>\n",
       "<tr><td>1</td><td>Literal</td><td></td><td><a class=\"ProveItLink\" href=\"../../../../set_theory/membership/__pv_it/088cbc857536a28d4119ad9639a84270ccb0545d0/expr.ipynb\"><img src=\"data:image/png;base64,iVBORw0KGgoAAAANSUhEUgAAAAwAAAAMBAMAAACkW0HUAAAALVBMVEX///+qqqpmZmZUVFQQEBC6\n",
       "urpERETc3NyYmJjMzMwiIiIyMjKIiIju7u4AAACYsrA9AAAAAXRSTlMAQObYZgAAADxJREFUCNdj\n",
       "YOA9vWrVBgaG2b0MQMCeCyIZ2ArA1DUwyRCyahVIyWQI7xaEYm4AU7xLIdxqTQgtvGvVBgCkcQ7e\n",
       "geM/tQAAAABJRU5ErkJggg==\n",
       "\" style=\"display:inline;vertical-align:middle;\" /></a></td></tr>\n",
       "<tr><td>2</td><td>ExprTuple</td><td>3, 4</td><td><a class=\"ProveItLink\" href=\"../c5326c4b38f6ebae1440083666b54151ffdd574e0/expr.ipynb\"><img src=\"data:image/png;base64,iVBORw0KGgoAAAANSUhEUgAAAC4AAAAVBAMAAADLKsFqAAAAMFBMVEX////c3NwiIiJERESqqqqY\n",
       "mJh2dnZmZmYQEBDu7u4yMjJUVFTMzMyIiIi6uroAAAAs73DqAAAAAXRSTlMAQObYZgAAAQlJREFU\n",
       "GNNjYMAF+C5gCLE+ABKnQSy2ok8FQCrr8/oVyg4MDDVA9kqwErY/YMrgLefKNAYGLgYGXogxXA1Q\n",
       "cYZ7QEHWBAaOCWAB/g0wcVfuCQycDQyvIFa9D4CrFwbSJgxlEPF8Aag4j6olkE5nWAoRXwGhDB7p\n",
       "/wBZ6MXQB+Zz/maAmXPXGUi/YPgH5rN8hYsz8yUwMJyHirP/RIgzGIDEWxgYGNsZmBRQxV8wmAL9\n",
       "+o3h/AUGTmRzooAuYmC5wKnNwDBfASIefhnszkdA8u5toK9mfASHm1E3MNwY1jFwCMBC9yEioIHh\n",
       "AAwiKAhAiLNdgIUzqvgsIJaGsnmRImwjEDNixiPvAQYAwm5I7m6zaY4AAAAASUVORK5CYII=\n",
       "\" style=\"display:inline;vertical-align:middle;\" /></a></td></tr>\n",
       "<tr><td>3</td><td>Variable</td><td></td><td><a class=\"ProveItLink\" href=\"../../../../../__pv_it/0730776658406f13a5e8bca83a69f67d4b6b708d0/expr.ipynb\"><img src=\"data:image/png;base64,iVBORw0KGgoAAAANSUhEUgAAAA0AAAAOBAMAAAAGUYvhAAAALVBMVEX///+IiIiqqqru7u7c3NyY\n",
       "mJi6urpUVFQQEBAyMjLMzMwiIiJmZmZ2dnYAAABVuDDQAAAAAXRSTlMAQObYZgAAAEdJREFUCNdj\n",
       "YGBguLNvDwMY3FsAoWdAKIbnEIrtKYTmfQKhORsgtF0BhNYLgNDnDICExwGG3WCzLnA9BNGKDNZg\n",
       "ZYyCpSAKAIbhD5JM+WhaAAAAAElFTkSuQmCC\n",
       "\" style=\"display:inline;vertical-align:middle;\" /></a></td></tr>\n",
       "<tr><td>4</td><td>Literal</td><td></td><td><a class=\"ProveItLink\" href=\"../../../__pv_it/46271c8230be96415d662709611f4ed2279d702b0/expr.ipynb\"><img src=\"data:image/png;base64,iVBORw0KGgoAAAANSUhEUgAAAA0AAAAOBAMAAAAGUYvhAAAAMFBMVEX///9mZmbMzMzc3NxUVFSY\n",
       "mJju7u6IiIi6urqqqqoiIiIQEBBEREQyMjJ2dnYAAAAQvcRZAAAAAXRSTlMAQObYZgAAAElJREFU\n",
       "CNdjePvn/u01ExgYGA60s117B6YZKngh9FSWBAjfBsxnWnoMRHet/10AkS+fA6F5OB5AaIYDqDRU\n",
       "PLCGgQFoz6ktExgAgLIl8DFvGtkAAAAASUVORK5CYII=\n",
       "\" style=\"display:inline;vertical-align:middle;\" /></a></td></tr>\n",
       "</table>\n"
      ],
      "text/plain": [
       "0. J in BOOLEANS\n",
       "   core type: Operation\n",
       "   operator: 1\n",
       "   operands: 2\n",
       "1. in\n",
       "   core type: Literal\n",
       "   sub-expressions: \n",
       "2. (J , BOOLEANS)\n",
       "   core type: ExprTuple\n",
       "   sub-expressions: 3, 4\n",
       "3. J\n",
       "   core type: Variable\n",
       "   sub-expressions: \n",
       "4. BOOLEANS\n",
       "   core type: Literal\n",
       "   sub-expressions: "
      ]
     },
     "execution_count": 4,
     "metadata": {},
     "output_type": "execute_result"
    }
   ],
   "source": [
    "# display the expression information\n",
    "expr.exprInfo()"
   ]
  },
  {
   "cell_type": "code",
   "execution_count": null,
   "metadata": {},
   "outputs": [],
   "source": []
  }
 ],
 "metadata": {
  "kernelspec": {
   "display_name": "Python 3",
   "language": "python",
   "name": "python3"
  }
 },
 "nbformat": 4,
 "nbformat_minor": 0
}
