{
 "cells": [
  {
   "cell_type": "markdown",
   "metadata": {},
   "source": [
    "Expression of type <a class=\"ProveItLink\" href=\"../../../../../../../doc/html/api/proveit.ExprTuple.html\">ExprTuple</a>\n",
    "=======================\n",
    "# from context <a class=\"ProveItLink\" href=\"../../_context_.ipynb\">proveit.logic.boolean.disjunction</a>"
   ]
  },
  {
   "cell_type": "code",
   "execution_count": 1,
   "metadata": {},
   "outputs": [],
   "source": [
    "# import Expression classes needed to build the expression\n",
    "from proveit import ExprTuple\n",
    "from proveit._common_ import A, B, C, D\n",
    "from proveit.logic import Equals, FALSE"
   ]
  },
  {
   "cell_type": "code",
   "execution_count": 2,
   "metadata": {},
   "outputs": [
    {
     "data": {
      "text/html": [
       "<strong id=\"expr\">expr:</strong> <a class=\"ProveItLink\" href=\"expr.ipynb\"><img src=\"data:image/png;base64,iVBORw0KGgoAAAANSUhEUgAAARkAAAAVBAMAAACAi4frAAAAMFBMVEX////c3NwiIiJERESqqqqY\n",
       "mJh2dnZmZmYQEBDu7u4yMjJUVFTMzMyIiIi6uroAAAAs73DqAAAAAXRSTlMAQObYZgAAAnNJREFU\n",
       "SMdjYBhcgO/CIHFIHIg4DWEfwiIvi2Cy7v+9e/M6vEoY5lqXB4hjqGBE8u3t/7t3Lz6AwxR2kMRK\n",
       "iMB6LK45jsTmMGBgqH+ATwlbKwPD81YMFTwFSJxfDAwsX3BZtICBgRfidFb9Cfhdcx6o7vwGPEo4\n",
       "FwFNYPuI1zU834BE/QQcpoQB/QyRE6kXwO+a+0D5+AQ8Srg6QYmwAa9reP9B/YXVlBkMDK8g/Av3\n",
       "H+B3jQUQa0zAo6TeAZRICvC6hvkDkJDHFcLMDgxlkIw1wT8Av2t+MzBIWeJRwvgLHF0H8LqG34AB\n",
       "T3yzFTAsBTPmQcOvahUIrMZ0Dc/vu9dVGfAoYf+KUIyiBNk1YEvA8Y3NFJYFDH1gxgMG+QK8YcML\n",
       "TJ6TNuBRwvQRRzGC7Jr7oKDbjytnAhPdP7CO3bv3G+B1DTMwefJ+xaOE/wM4pvC7xh5EdOAyhecD\n",
       "xDV8wLy1AK9r+IHhwvoNjxIOsGt88LvmM6gs+YrHNS0gGpgdmMB5s0gJBJQxXXMemMi5v+BRwv0T\n",
       "REJsRlGC5Bqev9BiFLspwJgyBeUHoGu4PuBwMie8uJFfgEcJ2Ca2CbjCBizB+wdIWOEsZlkXMKQD\n",
       "qVmghPETh6L5CtDihqdrAj4l8Q4MfIW4UjHnJ1hxc6oAZxUEzOGPGBiE+xcysNr/QlMGDEsNUFjO\n",
       "AGWWYmB1twqjREJRwrNrewmGNezA6GhSUjLg7AeG7XR7YM1bw4DLFAauBwwcAoRq+oeEGwOElfAJ\n",
       "EDYFWDOwJhBSFEDYHMJKWIlo4OQiWhQD7xpOUCaRJqCIl7A5RCghooHJLYDWNhtQcIeBAQCUT8h/\n",
       "kaxg/QAAAABJRU5ErkJggg==\n",
       "\" style=\"display:inline;vertical-align:middle;\" /></a><br>"
      ],
      "text/plain": [
       "expr: (A = FALSE , B = FALSE , C = FALSE , D = FALSE)"
      ]
     },
     "execution_count": 2,
     "metadata": {},
     "output_type": "execute_result"
    }
   ],
   "source": [
    "# build up the expression from sub-expressions\n",
    "expr = ExprTuple(Equals(A, FALSE), Equals(B, FALSE), Equals(C, FALSE), Equals(D, FALSE))"
   ]
  },
  {
   "cell_type": "code",
   "execution_count": 3,
   "metadata": {},
   "outputs": [
    {
     "name": "stdout",
     "output_type": "stream",
     "text": [
      "Passed sanity check: built 'expr' is the same as the stored Expression.\n"
     ]
    }
   ],
   "source": [
    "# check that the built expression is the same as the stored expression\n",
    "%check_expr"
   ]
  },
  {
   "cell_type": "code",
   "execution_count": 4,
   "metadata": {},
   "outputs": [
    {
     "data": {
      "text/html": [
       "<table><tr><th>&nbsp;</th><th>core type</th><th>sub-expressions</th><th>expression</th></tr>\n",
       "<tr><td>0</td><td>ExprTuple</td><td>1, 2, 3, 4</td><td><a class=\"ProveItLink\" href=\"expr.ipynb\"><img src=\"data:image/png;base64,iVBORw0KGgoAAAANSUhEUgAAARkAAAAVBAMAAACAi4frAAAAMFBMVEX////c3NwiIiJERESqqqqY\n",
       "mJh2dnZmZmYQEBDu7u4yMjJUVFTMzMyIiIi6uroAAAAs73DqAAAAAXRSTlMAQObYZgAAAnNJREFU\n",
       "SMdjYBhcgO/CIHFIHIg4DWEfwiIvi2Cy7v+9e/M6vEoY5lqXB4hjqGBE8u3t/7t3Lz6AwxR2kMRK\n",
       "iMB6LK45jsTmMGBgqH+ATwlbKwPD81YMFTwFSJxfDAwsX3BZtICBgRfidFb9Cfhdcx6o7vwGPEo4\n",
       "FwFNYPuI1zU834BE/QQcpoQB/QyRE6kXwO+a+0D5+AQ8Srg6QYmwAa9reP9B/YXVlBkMDK8g/Av3\n",
       "H+B3jQUQa0zAo6TeAZRICvC6hvkDkJDHFcLMDgxlkIw1wT8Av2t+MzBIWeJRwvgLHF0H8LqG34AB\n",
       "T3yzFTAsBTPmQcOvahUIrMZ0Dc/vu9dVGfAoYf+KUIyiBNk1YEvA8Y3NFJYFDH1gxgMG+QK8YcML\n",
       "TJ6TNuBRwvQRRzGC7Jr7oKDbjytnAhPdP7CO3bv3G+B1DTMwefJ+xaOE/wM4pvC7xh5EdOAyhecD\n",
       "xDV8wLy1AK9r+IHhwvoNjxIOsGt88LvmM6gs+YrHNS0gGpgdmMB5s0gJBJQxXXMemMi5v+BRwv0T\n",
       "REJsRlGC5Bqev9BiFLspwJgyBeUHoGu4PuBwMie8uJFfgEcJ2Ca2CbjCBizB+wdIWOEsZlkXMKQD\n",
       "qVmghPETh6L5CtDihqdrAj4l8Q4MfIW4UjHnJ1hxc6oAZxUEzOGPGBiE+xcysNr/QlMGDEsNUFjO\n",
       "AGWWYmB1twqjREJRwrNrewmGNezA6GhSUjLg7AeG7XR7YM1bw4DLFAauBwwcAoRq+oeEGwOElfAJ\n",
       "EDYFWDOwJhBSFEDYHMJKWIlo4OQiWhQD7xpOUCaRJqCIl7A5RCghooHJLYDWNhtQcIeBAQCUT8h/\n",
       "kaxg/QAAAABJRU5ErkJggg==\n",
       "\" style=\"display:inline;vertical-align:middle;\" /></a></td></tr>\n",
       "<tr><td>1</td><td>Operation</td><td>operator:&nbsp;8<br>operands:&nbsp;5<br></td><td><a class=\"ProveItLink\" href=\"../426f24f13399e2dc2a5e99c45fae64cafe24cc1a0/expr.ipynb\"><img src=\"data:image/png;base64,iVBORw0KGgoAAAANSUhEUgAAADoAAAAOBAMAAACMfhKgAAAALVBMVEX///8QEBBERERUVFS6urqI\n",
       "iIhmZmaqqqrc3Nzu7u6YmJgyMjIiIiLMzMwAAADtIaYWAAAAAXRSTlMAQObYZgAAAHpJREFUGNNj\n",
       "YACBOwyYoBXO2odF9hqMwXVuAh7Z9rwGPLIBcQ64ZVkm1C3ALTuF4V4AiM7eDQKb0WQdGPoScOrl\n",
       "NTa2U8Apy8LAwLgBp2wBAwOPAIiRcwYEDqHIcgBluR/g0jsbiJle4pBtktvBwKX3Gs3RQEsOAi0B\n",
       "AOmUK3k+2YIcAAAAAElFTkSuQmCC\n",
       "\" style=\"display:inline;vertical-align:middle;\" /></a></td></tr>\n",
       "<tr><td>2</td><td>Operation</td><td>operator:&nbsp;8<br>operands:&nbsp;6<br></td><td><a class=\"ProveItLink\" href=\"../a7f268d0300524d11cd147935bf2f1176ea177a30/expr.ipynb\"><img src=\"data:image/png;base64,iVBORw0KGgoAAAANSUhEUgAAADwAAAAOBAMAAACBYGLnAAAAMFBMVEX///+qqqru7u4iIiJ2dnbc\n",
       "3NyIiIjMzMxmZmYQEBC6uroyMjJERERUVFSYmJgAAADLUcuvAAAAAXRSTlMAQObYZgAAAI1JREFU\n",
       "GNNjYGB4+//u3dMLGDBAGJSew8DA8QtTugJCsX8D4r84pdm+MjDwfcEpzTOBgYF5Ek5p/gsMrHsU\n",
       "cErXX0trfgBmde8Ggb2o0vkBDEy2DDh1nwQpeYBTGuSn9w64pNn/AYn7AiBmszEI2KBIg7zN+hun\n",
       "3SBvV27CJc1x/u/d2/sw5ID2WALtAQABMC5m6XxmHQAAAABJRU5ErkJggg==\n",
       "\" style=\"display:inline;vertical-align:middle;\" /></a></td></tr>\n",
       "<tr><td>3</td><td>Operation</td><td>operator:&nbsp;8<br>operands:&nbsp;7<br></td><td><a class=\"ProveItLink\" href=\"../51062a4565d521fc423bce91fc66a4d37c14cbec0/expr.ipynb\"><img src=\"data:image/png;base64,iVBORw0KGgoAAAANSUhEUgAAADoAAAAOBAMAAACMfhKgAAAAMFBMVEX////MzMyqqqoiIiIyMjK6\n",
       "uroQEBB2dnbc3NyYmJhmZmZUVFRERESIiIju7u4AAAB204erAAAAAXRSTlMAQObYZgAAAINJREFU\n",
       "GNNjYGDgu7NrJccCBnTQC6HKJjCwLpuAISsFJp/YAYn6Bhyybg+ARBgDdlmuTyCyC4dsvwOIfIhD\n",
       "dj3CPUtcQMAbWdYe0z1Isv/BzAc4ZPNBBJMADtn9IG1cYP5iYxCwQZaVvwAk6nDZywn0b1QDLlkG\n",
       "ae9VChhSQEvMgJYAAEKDHkrtkMG7AAAAAElFTkSuQmCC\n",
       "\" style=\"display:inline;vertical-align:middle;\" /></a></td></tr>\n",
       "<tr><td>4</td><td>Operation</td><td>operator:&nbsp;8<br>operands:&nbsp;9<br></td><td><a class=\"ProveItLink\" href=\"../e3914251eb827e12a702a4ab0f815dc1631f8fec0/expr.ipynb\"><img src=\"data:image/png;base64,iVBORw0KGgoAAAANSUhEUgAAADwAAAAOBAMAAACBYGLnAAAAMFBMVEX///8iIiIQEBCYmJjc3Ny6\n",
       "urru7u5mZmZ2dnaqqqrMzMxEREQyMjJUVFSIiIgAAABUCcz6AAAAAXRSTlMAQObYZgAAAIxJREFU\n",
       "GNNjYGB4+//u3dMLGDCAH5T+w8DA+RNTejmE4voBJOoTcEnzfQUS6x/gkub+ACT8L+CS5t8A0o1T\n",
       "GmyufQOQqDkDAmdRpd+DPHU/AJfu/SBCCafHfgMx82dc0lz/gAQTyHkMhYIgII0izfcLSOxJwKUb\n",
       "5O01BQw4pNP3/717uwpDDmiPENAeAB4YMS22KH4ZAAAAAElFTkSuQmCC\n",
       "\" style=\"display:inline;vertical-align:middle;\" /></a></td></tr>\n",
       "<tr><td>5</td><td>ExprTuple</td><td>10, 14</td><td><a class=\"ProveItLink\" href=\"../eaa181cebe65378eb5572faa8e12ec49a908af5c0/expr.ipynb\"><img src=\"data:image/png;base64,iVBORw0KGgoAAAANSUhEUgAAADUAAAAVBAMAAAAUZLt1AAAAMFBMVEX////c3NwiIiJERESqqqqY\n",
       "mJh2dnZmZmYQEBDu7u4yMjJUVFTMzMyIiIi6uroAAAAs73DqAAAAAXRSTlMAQObYZgAAAO1JREFU\n",
       "KM9jYMAH+C5gFY4DEach7EMIYVkQwX4ASKyECKxHyB0HkwsYGHghRrLqT0CTC2Ng4ICIidQLoMnN\n",
       "YGB4BeFfuP8ATY7ZgaEM4tgJ/gFocmwFDEvBjHkM5y+gybEsYOgDMx4wyBegyfE1MPwD0Ty7d+83\n",
       "QJPj+QCR4wO6dwGmXAuIdmBgYGrANNMUSDEC5bg+MDBMQJZjXcCQDqRmgbzzk4HzE5ofHjEwCPcv\n",
       "ZGC1/1XA2Q8MmyIlJQ0lJWWgQQ8YOASQoguJDQoz1gQElxU5AnMRcYQuxwnykzSCj5wCuEHmM2JP\n",
       "E3cYGAAdNjoVaLAEowAAAABJRU5ErkJggg==\n",
       "\" style=\"display:inline;vertical-align:middle;\" /></a></td></tr>\n",
       "<tr><td>6</td><td>ExprTuple</td><td>11, 14</td><td><a class=\"ProveItLink\" href=\"../25967a172fcd6c24495155e4ca7b42be9ebe38700/expr.ipynb\"><img src=\"data:image/png;base64,iVBORw0KGgoAAAANSUhEUgAAADYAAAAVBAMAAAD/UwB2AAAAMFBMVEX////c3NwiIiJERESqqqqY\n",
       "mJh2dnZmZmYQEBDu7u4yMjJUVFTMzMyIiIi6uroAAAAs73DqAAAAAXRSTlMAQObYZgAAAPZJREFU\n",
       "KM9jYMAH+C5gFWZ9ACROA3H0/927rR7AhBnBqmuAeCWI0czAwP4PJsdTACK5GBh4QYp4/gLxb1Q5\n",
       "1gQGjglAmvcjkP0NVY6zgeEViGZuYGBg6kSVYzBhKANR/BsYGBdPQJNLZ1gKos7vvVsUwIAm58XQ\n",
       "B6LuCzBwaqPLvWAAu9wCJB+AJnceIgdyfnwChlwLiPMVSOx3wDDTFOo9xl8MDBNQ5KKALoV478RK\n",
       "Bs5PaH54BAxJ+9+7dwH9wtkvAOQoKSk1KSkZMDCsY+AQQIouJDYozFgTkOIMOQLZLkDjCIvcLCCW\n",
       "RnBRUsBGeCxjAN4DDAB9IEBfqvNStwAAAABJRU5ErkJggg==\n",
       "\" style=\"display:inline;vertical-align:middle;\" /></a></td></tr>\n",
       "<tr><td>7</td><td>ExprTuple</td><td>12, 14</td><td><a class=\"ProveItLink\" href=\"../6b5b6be56a2ca945cba27b8ba5e46c578237afa20/expr.ipynb\"><img src=\"data:image/png;base64,iVBORw0KGgoAAAANSUhEUgAAADUAAAAVBAMAAAAUZLt1AAAAMFBMVEX////c3NwiIiJERESqqqqY\n",
       "mJh2dnZmZmYQEBDu7u4yMjJUVFTMzMyIiIi6uroAAAAs73DqAAAAAXRSTlMAQObYZgAAAPlJREFU\n",
       "KM9jYMAH+C5gFY4DEadBxFzr8gBxmLAsiGA/ACRWAjFbKwPD81aY3HEwuYCBgRdoJOeiCUD5j6hy\n",
       "YQwMHEBhrk6QvQ2ocjMYGF4BqXoHIMFYgCrH7MBQBhT9BWJzHkCVYytgWAp00ldU50PkWBYw9DEw\n",
       "MH3EJge0/x8DA/8HsJlocjwfQHIcYDkfTLkWBgbunyB2AaaZpkAVf0HOAvpzArIc6wKGdCAV78DA\n",
       "Vwi08ROaHx6BjN61vQTkmn4BBoYiJSUNJSVlYGA9YOAQQIouJDYozFgTEFxWZF/mQuMIixwnMI4Y\n",
       "pBF85BTADTKfEXuauMPAAABL7Tpr30enlQAAAABJRU5ErkJggg==\n",
       "\" style=\"display:inline;vertical-align:middle;\" /></a></td></tr>\n",
       "<tr><td>8</td><td>Literal</td><td></td><td><a class=\"ProveItLink\" href=\"../../../../equality/__pv_it/2fb26078095930560931daa0500ce419a39ea6cd0/expr.ipynb\"><img src=\"data:image/png;base64,iVBORw0KGgoAAAANSUhEUgAAAA4AAAAFBAMAAACHocAhAAAAFVBMVEX///9EREQiIiJUVFQyMjJm\n",
       "ZmYAAADubVkoAAAAAXRSTlMAQObYZgAAABRJREFUCNdjCHEBAWcGXCBICQQUAUpuAwlgGKrkAAAA\n",
       "AElFTkSuQmCC\n",
       "\" style=\"display:inline;vertical-align:middle;\" /></a></td></tr>\n",
       "<tr><td>9</td><td>ExprTuple</td><td>13, 14</td><td><a class=\"ProveItLink\" href=\"../ba5dfdc207614c30ac06ba2023dfb68fa8ea27f10/expr.ipynb\"><img src=\"data:image/png;base64,iVBORw0KGgoAAAANSUhEUgAAADcAAAAVBAMAAAAQkWtIAAAAMFBMVEX////c3NwiIiJERESqqqqY\n",
       "mJh2dnZmZmYQEBDu7u4yMjJUVFTMzMyIiIi6uroAAAAs73DqAAAAAXRSTlMAQObYZgAAAQFJREFU\n",
       "KM9jYMAL+C5gF48DEaeB+Pb/3bsXH4CLy4IIdhB/JYj1i4GB5Qtc8jiYXMDAwAsylecbkKifgCoZ\n",
       "xsDAARLi/Qckzl9AlZzBwPAKRDN/ABLyG1AlmR0YykA0vwFIJ5okWwHDUgaYifEJqJIsCxj6QPR9\n",
       "kLP3P0CV5GtgADmFwR5EdKB5hecDRPIzELN+xZRsAVF/gQSHAQOGsaYgb/4BElZAD09AlmRdwJAO\n",
       "9eapAgYGzk9oXnnEwDDd/vfuzTVALme/AANDkZKShpKSMgMD1wMGDgHk6EPmAIOPNQGJz4ocobmw\n",
       "KMMiyQmMMgZpJAHkRMENsoIRRzK5w8AAAMx5RkbmaUhSAAAAAElFTkSuQmCC\n",
       "\" style=\"display:inline;vertical-align:middle;\" /></a></td></tr>\n",
       "<tr><td>10</td><td>Variable</td><td></td><td><a class=\"ProveItLink\" href=\"../../../../../__pv_it/2cbe72a7ad6f655694dd697106680215e8489b600/expr.ipynb\"><img src=\"data:image/png;base64,iVBORw0KGgoAAAANSUhEUgAAAA8AAAAOBAMAAAACpFvcAAAALVBMVEX///8QEBBERERUVFS6urqI\n",
       "iIhmZmaqqqrc3Nzu7u6YmJgyMjIiIiLMzMwAAADtIaYWAAAAAXRSTlMAQObYZgAAAFtJREFUCNdj\n",
       "YACBOwxQsA9Kc52bAGG05zVAGAFxDmCaZULdAjBjCsO9ADDDgaEvAUTzGhvbKYCVMDAwbgAxChgY\n",
       "eASANAeQwf0AyJgNxEwvGRia5HYwcOm9TgAA6BoR3jrzwFcAAAAASUVORK5CYII=\n",
       "\" style=\"display:inline;vertical-align:middle;\" /></a></td></tr>\n",
       "<tr><td>11</td><td>Variable</td><td></td><td><a class=\"ProveItLink\" href=\"../../../../../__pv_it/077b2ff79244fb4582cbe22c6e3356fa92a52f2f0/expr.ipynb\"><img src=\"data:image/png;base64,iVBORw0KGgoAAAANSUhEUgAAABAAAAAOBAMAAADUAYG5AAAAMFBMVEX///+qqqru7u4iIiJ2dnbc\n",
       "3NyIiIjMzMxmZmYQEBC6uroyMjJERERUVFSYmJgAAADLUcuvAAAAAXRSTlMAQObYZgAAAGpJREFU\n",
       "CNdjYGB4+//u3dMLGIBgDgMDxy8gzf4NiP8CGWxfGRj4vgAZPBMYGJgnARn8FxhY9ygAGfXX0pof\n",
       "gDTlBzAw2YIYJ0EckBBI53sHoBH/gIz7AhBjWH9DjancBLTl/N+7t/cxMAAA3u4f/5xagjYAAAAA\n",
       "SUVORK5CYII=\n",
       "\" style=\"display:inline;vertical-align:middle;\" /></a></td></tr>\n",
       "<tr><td>12</td><td>Variable</td><td></td><td><a class=\"ProveItLink\" href=\"../../../../../__pv_it/985a1bdf1540838275dec15f4ad6de261cca93ce0/expr.ipynb\"><img src=\"data:image/png;base64,iVBORw0KGgoAAAANSUhEUgAAAA8AAAAOBAMAAAACpFvcAAAAMFBMVEX////MzMyqqqoiIiIyMjK6\n",
       "uroQEBB2dnbc3NyYmJhmZmZUVFRERESIiIju7u4AAAB204erAAAAAXRSTlMAQObYZgAAAGZJREFU\n",
       "CNdjYGDgu7NrJccCBgaGsgkMrMsmMDA8sQNy6hsYGNweABlhDAxcn4A0QxcDQ78DiPGQgWH9BAYI\n",
       "sG+AMv6DSaCGfBDNJMDAsB+kmwuI5S8AiTog5gSaEwXWIO29SgFIAQBC+RaDQlidVgAAAABJRU5E\n",
       "rkJggg==\n",
       "\" style=\"display:inline;vertical-align:middle;\" /></a></td></tr>\n",
       "<tr><td>13</td><td>Variable</td><td></td><td><a class=\"ProveItLink\" href=\"../../../../../__pv_it/185e6d30f167ee2ee5ef3321098dc98e0d77bc590/expr.ipynb\"><img src=\"data:image/png;base64,iVBORw0KGgoAAAANSUhEUgAAABEAAAAOBAMAAAA7w+qHAAAALVBMVEX///8QEBCYmJjc3Ny6urru\n",
       "7u5mZmZ2dnaqqqrMzMxEREQyMjJUVFSIiIgAAABETr/8AAAAAXRSTlMAQObYZgAAAGpJREFUCNdj\n",
       "YGC48+7MmV0TGEDgNQMDxwsQg/M5kMgLABK8T4DEvAtAgusBkLA7ACT4FoDEDsAk9AqAxD2QCecc\n",
       "gMQ6kAGCIOIVEDM9Ahn3FkgwgnTxvgQSqwOgxs1OADLC1r05cyoTyAAAv4Qe+njAWvgAAAAASUVO\n",
       "RK5CYII=\n",
       "\" style=\"display:inline;vertical-align:middle;\" /></a></td></tr>\n",
       "<tr><td>14</td><td>Literal</td><td></td><td><a class=\"ProveItLink\" href=\"../../../__pv_it/8f1f7fac882de28c72b62ab80a1700b6d8fd066b0/expr.ipynb\"><img src=\"data:image/png;base64,iVBORw0KGgoAAAANSUhEUgAAAA4AAAAOBAMAAADtZjDiAAAAG1BMVEX///9EREQQEBAiIiJmZmbM\n",
       "zMyIiIjc3NwAAACryk5kAAAAAXRSTlMAQObYZgAAABlJREFUCNdjYGBgKGOAgBBa0s7GxkbGxoYA\n",
       "FMUF2aBfHgoAAAAASUVORK5CYII=\n",
       "\" style=\"display:inline;vertical-align:middle;\" /></a></td></tr>\n",
       "</table>\n"
      ],
      "text/plain": [
       "0. (A = FALSE , B = FALSE , C = FALSE , D = FALSE)\n",
       "   core type: ExprTuple\n",
       "   sub-expressions: 1, 2, 3, 4\n",
       "1. A = FALSE\n",
       "   core type: Operation\n",
       "   operator: 8\n",
       "   operands: 5\n",
       "2. B = FALSE\n",
       "   core type: Operation\n",
       "   operator: 8\n",
       "   operands: 6\n",
       "3. C = FALSE\n",
       "   core type: Operation\n",
       "   operator: 8\n",
       "   operands: 7\n",
       "4. D = FALSE\n",
       "   core type: Operation\n",
       "   operator: 8\n",
       "   operands: 9\n",
       "5. (A , FALSE)\n",
       "   core type: ExprTuple\n",
       "   sub-expressions: 10, 14\n",
       "6. (B , FALSE)\n",
       "   core type: ExprTuple\n",
       "   sub-expressions: 11, 14\n",
       "7. (C , FALSE)\n",
       "   core type: ExprTuple\n",
       "   sub-expressions: 12, 14\n",
       "8. =\n",
       "   core type: Literal\n",
       "   sub-expressions: \n",
       "9. (D , FALSE)\n",
       "   core type: ExprTuple\n",
       "   sub-expressions: 13, 14\n",
       "10. A\n",
       "    core type: Variable\n",
       "    sub-expressions: \n",
       "11. B\n",
       "    core type: Variable\n",
       "    sub-expressions: \n",
       "12. C\n",
       "    core type: Variable\n",
       "    sub-expressions: \n",
       "13. D\n",
       "    core type: Variable\n",
       "    sub-expressions: \n",
       "14. FALSE\n",
       "    core type: Literal\n",
       "    sub-expressions: "
      ]
     },
     "execution_count": 4,
     "metadata": {},
     "output_type": "execute_result"
    }
   ],
   "source": [
    "# display the expression information\n",
    "expr.exprInfo()"
   ]
  },
  {
   "cell_type": "code",
   "execution_count": null,
   "metadata": {},
   "outputs": [],
   "source": []
  }
 ],
 "metadata": {
  "kernelspec": {
   "display_name": "Python 3",
   "language": "python",
   "name": "python3"
  }
 },
 "nbformat": 4,
 "nbformat_minor": 0
}
