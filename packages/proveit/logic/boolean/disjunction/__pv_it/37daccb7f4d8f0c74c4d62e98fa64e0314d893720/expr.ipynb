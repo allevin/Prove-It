{
 "cells": [
  {
   "cell_type": "markdown",
   "metadata": {},
   "source": [
    "Expression of type <a class=\"ProveItLink\" href=\"../../../../../../../doc/html/api/proveit.ExprTuple.html\">ExprTuple</a>\n",
    "=======================\n",
    "# from context <a class=\"ProveItLink\" href=\"../../_context_.ipynb\">proveit.logic.boolean.disjunction</a>"
   ]
  },
  {
   "cell_type": "code",
   "execution_count": 1,
   "metadata": {},
   "outputs": [],
   "source": [
    "# import Expression classes needed to build the expression\n",
    "from proveit import ExprTuple\n",
    "from proveit._common_ import B\n",
    "from proveit.logic import TRUE"
   ]
  },
  {
   "cell_type": "code",
   "execution_count": 2,
   "metadata": {},
   "outputs": [
    {
     "data": {
      "text/html": [
       "<strong id=\"expr\">expr:</strong> <a class=\"ProveItLink\" href=\"expr.ipynb\"><img src=\"data:image/png;base64,iVBORw0KGgoAAAANSUhEUgAAADYAAAAVBAMAAAD/UwB2AAAAMFBMVEX////c3NwiIiJERESqqqqY\n",
       "mJh2dnZmZmYQEBDu7u4yMjJUVFTMzMyIiIi6uroAAAAs73DqAAAAAXRSTlMAQObYZgAAAPZJREFU\n",
       "KM9jYMAH+C5gFWZ9ACROM7ArgYEBVHD/792b1zEw1ADZK0ECPAUIHRxARfUPGLgYGHgvoMudB4qc\n",
       "38DAmsDAMQFd7r4AA0N8AgNnA8MrBnQ5CyDWAOowYSjDkPvNwCBlCaTTGZaiy/H8vntdFcTwYuhD\n",
       "l+P9yMAwaQOQ8YLhH7occwNQ/ivIvZhy/EA9rN/Aci3ocucDGBi4v4DNNEWSmwDznvwCICMK6FK4\n",
       "HOcnqPd4uiaA/fAIIpcAkusHain+v3v3qgCQ2DoGDgGk6EJig8KMNQEpzpAjkO0CNI6wyM0CYmkE\n",
       "FyUFbARiRuxpgvcAAwBqNEBOwzjo9wAAAABJRU5ErkJggg==\n",
       "\" style=\"display:inline;vertical-align:middle;\" /></a><br>"
      ],
      "text/plain": [
       "expr: (TRUE , B)"
      ]
     },
     "execution_count": 2,
     "metadata": {},
     "output_type": "execute_result"
    }
   ],
   "source": [
    "# build up the expression from sub-expressions\n",
    "expr = ExprTuple(TRUE, B)"
   ]
  },
  {
   "cell_type": "code",
   "execution_count": 3,
   "metadata": {},
   "outputs": [
    {
     "name": "stdout",
     "output_type": "stream",
     "text": [
      "Passed sanity check: built 'expr' is the same as the stored Expression.\n"
     ]
    }
   ],
   "source": [
    "# check that the built expression is the same as the stored expression\n",
    "%check_expr"
   ]
  },
  {
   "cell_type": "code",
   "execution_count": 4,
   "metadata": {},
   "outputs": [
    {
     "data": {
      "text/html": [
       "<table><tr><th>&nbsp;</th><th>core type</th><th>sub-expressions</th><th>expression</th></tr>\n",
       "<tr><td>0</td><td>ExprTuple</td><td>1, 2</td><td><a class=\"ProveItLink\" href=\"expr.ipynb\"><img src=\"data:image/png;base64,iVBORw0KGgoAAAANSUhEUgAAADYAAAAVBAMAAAD/UwB2AAAAMFBMVEX////c3NwiIiJERESqqqqY\n",
       "mJh2dnZmZmYQEBDu7u4yMjJUVFTMzMyIiIi6uroAAAAs73DqAAAAAXRSTlMAQObYZgAAAPZJREFU\n",
       "KM9jYMAH+C5gFWZ9ACROM7ArgYEBVHD/792b1zEw1ADZK0ECPAUIHRxARfUPGLgYGHgvoMudB4qc\n",
       "38DAmsDAMQFd7r4AA0N8AgNnA8MrBnQ5CyDWAOowYSjDkPvNwCBlCaTTGZaiy/H8vntdFcTwYuhD\n",
       "l+P9yMAwaQOQ8YLhH7occwNQ/ivIvZhy/EA9rN/Aci3ocucDGBi4v4DNNEWSmwDznvwCICMK6FK4\n",
       "HOcnqPd4uiaA/fAIIpcAkusHain+v3v3qgCQ2DoGDgGk6EJig8KMNQEpzpAjkO0CNI6wyM0CYmkE\n",
       "FyUFbARiRuxpgvcAAwBqNEBOwzjo9wAAAABJRU5ErkJggg==\n",
       "\" style=\"display:inline;vertical-align:middle;\" /></a></td></tr>\n",
       "<tr><td>1</td><td>Literal</td><td></td><td><a class=\"ProveItLink\" href=\"../../../__pv_it/68a87cc3370287d726c7086ace789e680e4461c30/expr.ipynb\"><img src=\"data:image/png;base64,iVBORw0KGgoAAAANSUhEUgAAAA4AAAAOBAMAAADtZjDiAAAAFVBMVEX///92dnbMzMxEREQiIiJm\n",
       "ZmYAAABAT6GXAAAAAXRSTlMAQObYZgAAABhJREFUCNdjCHEBAWcGIFBlgABa0YpADAAxegPJJk4d\n",
       "XAAAAABJRU5ErkJggg==\n",
       "\" style=\"display:inline;vertical-align:middle;\" /></a></td></tr>\n",
       "<tr><td>2</td><td>Variable</td><td></td><td><a class=\"ProveItLink\" href=\"../../../../../__pv_it/077b2ff79244fb4582cbe22c6e3356fa92a52f2f0/expr.ipynb\"><img src=\"data:image/png;base64,iVBORw0KGgoAAAANSUhEUgAAABAAAAAOBAMAAADUAYG5AAAAMFBMVEX///+qqqru7u4iIiJ2dnbc\n",
       "3NyIiIjMzMxmZmYQEBC6uroyMjJERERUVFSYmJgAAADLUcuvAAAAAXRSTlMAQObYZgAAAGpJREFU\n",
       "CNdjYGB4+//u3dMLGIBgDgMDxy8gzf4NiP8CGWxfGRj4vgAZPBMYGJgnARn8FxhY9ygAGfXX0pof\n",
       "gDTlBzAw2YIYJ0EckBBI53sHoBH/gIz7AhBjWH9DjancBLTl/N+7t/cxMAAA3u4f/5xagjYAAAAA\n",
       "SUVORK5CYII=\n",
       "\" style=\"display:inline;vertical-align:middle;\" /></a></td></tr>\n",
       "</table>\n"
      ],
      "text/plain": [
       "0. (TRUE , B)\n",
       "   core type: ExprTuple\n",
       "   sub-expressions: 1, 2\n",
       "1. TRUE\n",
       "   core type: Literal\n",
       "   sub-expressions: \n",
       "2. B\n",
       "   core type: Variable\n",
       "   sub-expressions: "
      ]
     },
     "execution_count": 4,
     "metadata": {},
     "output_type": "execute_result"
    }
   ],
   "source": [
    "# display the expression information\n",
    "expr.exprInfo()"
   ]
  },
  {
   "cell_type": "code",
   "execution_count": null,
   "metadata": {},
   "outputs": [],
   "source": []
  }
 ],
 "metadata": {
  "kernelspec": {
   "display_name": "Python 3",
   "language": "python",
   "name": "python3"
  }
 },
 "nbformat": 4,
 "nbformat_minor": 0
}
