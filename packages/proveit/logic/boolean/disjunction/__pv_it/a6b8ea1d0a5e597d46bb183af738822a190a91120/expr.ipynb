{
 "cells": [
  {
   "cell_type": "markdown",
   "metadata": {},
   "source": [
    "Expression of type <a class=\"ProveItLink\" href=\"../../../../../../../doc/html/api/proveit.logic.Set.html\">Set</a>\n",
    "=======================\n",
    "# from context <a class=\"ProveItLink\" href=\"../../_context_.ipynb\">proveit.logic.boolean.disjunction</a>"
   ]
  },
  {
   "cell_type": "code",
   "execution_count": 1,
   "metadata": {},
   "outputs": [],
   "source": [
    "# import Expression classes needed to build the expression\n",
    "from proveit._common_ import A, B, C, D\n",
    "from proveit.logic import Or, Set"
   ]
  },
  {
   "cell_type": "code",
   "execution_count": 2,
   "metadata": {},
   "outputs": [
    {
     "data": {
      "text/html": [
       "<strong id=\"expr\">expr:</strong> <a class=\"ProveItLink\" href=\"../bc439467fc826c806ce29ced47e24afe9a6143f30/expr.ipynb\"><img src=\"data:image/png;base64,iVBORw0KGgoAAAANSUhEUgAAAJoAAAAVBAMAAABMN+opAAAAMFBMVEX///9ERETc3NyqqqpUVFS6\n",
       "urrMzMwyMjIQEBCIiIh2dnYiIiLu7u5mZmaYmJgAAABJJ2g3AAAAAXRSTlMAQObYZgAAAkxJREFU\n",
       "OMutVb9v00AUfnEcUye2y0QrIZRIDEwI/wMVHUwRA0pGhiIlUoYIIRIqBoamwEKXSk3HTq1gYUBt\n",
       "B4YWRaonuoJYkBDFSCyIoRRSKlAhvB/XcFc6IZ90z/F377679973HAAItiGNceMRWe85pDMaIRr3\n",
       "i7w4a0dWP/ajaKRiYt7C1W3rpQG55V50+RT+8Fto8vcFPcGsvNsR5AF67JnYkwRybxKAHL9V2Q4j\n",
       "y8VQER2yfT4gO0FmUS77A2fPwLa6aFZLADYRuR32ay7jqQcmmzX2lR41Ml0JAYHgp4HdjdFco5NO\n",
       "oinE7LdUkZN1Ntfd43jx4KwkJoMLhTkd878Rfp7MFM4xCapId+mZbJPZ3/SgXbSb8jEO1u1Yxy5Q\n",
       "nuEFKKYpYdsFyQgTcSnAq9BlJaKaeDWvLL5NDOx9MqgkRsnRSpCckYDK2OCS5cD6BSrbl2TDUgm8\n",
       "Zwa2Wfqriw7Yoh73Oxqb0tQGqD9krB5Fu3IoeC3ZMEqMiY71GZfcr8GWuGXoSkMUZWYGS1RVOpvl\n",
       "RT/Mq3hIHDvLOjbPmRWVvYYVcRumgHdonZrKpmOzONdFKa2C6g2qSjnUsTJdy5flc6B6p9kRoUve\n",
       "8oSexXlPVic+wUBu1r6B8canAtm3Oiq9eNfMNGgK4bQUJSG1Lgzk1pgGHQtQb9dVJZzT8UBuThs0\n",
       "Nmt0vwQf+m3pV9GuX8RmnlEVVBjU77wLD6sq3t4r/DacqepsxnDifz82x2E3jwLHsv33YKIgLTZu\n",
       "Km8jrW8v90bwOLX/hT87OJxkYUleVQAAAABJRU5ErkJggg==\n",
       "\" style=\"display:inline;vertical-align:middle;\" /></a><br>"
      ],
      "text/plain": [
       "expr: {A or B or C or D}"
      ]
     },
     "execution_count": 2,
     "metadata": {},
     "output_type": "execute_result"
    }
   ],
   "source": [
    "# build up the expression from sub-expressions\n",
    "expr = Set(Or(A, B, C, D))"
   ]
  },
  {
   "cell_type": "code",
   "execution_count": 3,
   "metadata": {},
   "outputs": [
    {
     "name": "stdout",
     "output_type": "stream",
     "text": [
      "Passed sanity check: built 'expr' is the same as the stored Expression.\n"
     ]
    }
   ],
   "source": [
    "# check that the built expression is the same as the stored expression\n",
    "%check_expr"
   ]
  },
  {
   "cell_type": "code",
   "execution_count": 4,
   "metadata": {},
   "outputs": [
    {
     "data": {
      "text/html": [
       "<table><tr><th>&nbsp;</th><th>core type</th><th>sub-expressions</th><th>expression</th></tr>\n",
       "<tr><td>0</td><td>Operation</td><td>operator:&nbsp;1<br>operands:&nbsp;2<br></td><td><a class=\"ProveItLink\" href=\"../bc439467fc826c806ce29ced47e24afe9a6143f30/expr.ipynb\"><img src=\"data:image/png;base64,iVBORw0KGgoAAAANSUhEUgAAAJoAAAAVBAMAAABMN+opAAAAMFBMVEX///9ERETc3NyqqqpUVFS6\n",
       "urrMzMwyMjIQEBCIiIh2dnYiIiLu7u5mZmaYmJgAAABJJ2g3AAAAAXRSTlMAQObYZgAAAkxJREFU\n",
       "OMutVb9v00AUfnEcUye2y0QrIZRIDEwI/wMVHUwRA0pGhiIlUoYIIRIqBoamwEKXSk3HTq1gYUBt\n",
       "B4YWRaonuoJYkBDFSCyIoRRSKlAhvB/XcFc6IZ90z/F377679973HAAItiGNceMRWe85pDMaIRr3\n",
       "i7w4a0dWP/ajaKRiYt7C1W3rpQG55V50+RT+8Fto8vcFPcGsvNsR5AF67JnYkwRybxKAHL9V2Q4j\n",
       "y8VQER2yfT4gO0FmUS77A2fPwLa6aFZLADYRuR32ay7jqQcmmzX2lR41Ml0JAYHgp4HdjdFco5NO\n",
       "oinE7LdUkZN1Ntfd43jx4KwkJoMLhTkd878Rfp7MFM4xCapId+mZbJPZ3/SgXbSb8jEO1u1Yxy5Q\n",
       "nuEFKKYpYdsFyQgTcSnAq9BlJaKaeDWvLL5NDOx9MqgkRsnRSpCckYDK2OCS5cD6BSrbl2TDUgm8\n",
       "Zwa2Wfqriw7Yoh73Oxqb0tQGqD9krB5Fu3IoeC3ZMEqMiY71GZfcr8GWuGXoSkMUZWYGS1RVOpvl\n",
       "RT/Mq3hIHDvLOjbPmRWVvYYVcRumgHdonZrKpmOzONdFKa2C6g2qSjnUsTJdy5flc6B6p9kRoUve\n",
       "8oSexXlPVic+wUBu1r6B8canAtm3Oiq9eNfMNGgK4bQUJSG1Lgzk1pgGHQtQb9dVJZzT8UBuThs0\n",
       "Nmt0vwQf+m3pV9GuX8RmnlEVVBjU77wLD6sq3t4r/DacqepsxnDifz82x2E3jwLHsv33YKIgLTZu\n",
       "Km8jrW8v90bwOLX/hT87OJxkYUleVQAAAABJRU5ErkJggg==\n",
       "\" style=\"display:inline;vertical-align:middle;\" /></a></td></tr>\n",
       "<tr><td>1</td><td>Literal</td><td></td><td><a class=\"ProveItLink\" href=\"../../../../set_theory/enumeration/__pv_it/07381ed5b23806e8d7914b78cb6667769e3708dd0/expr.ipynb\"><img src=\"data:image/png;base64,iVBORw0KGgoAAAANSUhEUgAAAB4AAAAOBAMAAADKyLEKAAAAMFBMVEX///8iIiIQEBCIiIjMzMzc\n",
       "3Nyqqqp2dnZEREQyMjK6urru7u5mZmZUVFSYmJgAAACI6eGPAAAAAXRSTlMAQObYZgAAALRJREFU\n",
       "CNdjYGDgu3Nm3wIGBJjHwN0PZW5yYGDgLWBgyITy8zcwMMQDxZyh/INAvD6BgcEFypcB4vjPDiBm\n",
       "TPFRrhs/LjMwMP//38rAwCbKEMPA9gEkE3fp0waG+AUMRxh4JkC01T9guPTOOICBEWgVH5C//wHD\n",
       "H5D4fqCz9oCMDGD4DLaegRXslLMMDMpAgxlOMmQxHDRgYG5gYLBk4D7KcIe7gOHC2rt9QCXsh40Z\n",
       "GCKMGQDRkC8N/Ph1XAAAAABJRU5ErkJggg==\n",
       "\" style=\"display:inline;vertical-align:middle;\" /></a></td></tr>\n",
       "<tr><td>2</td><td>ExprTuple</td><td>3</td><td><a class=\"ProveItLink\" href=\"../0e3c1f00b57c0bdf76d33de133b2bf4644f880eb0/expr.ipynb\"><img src=\"data:image/png;base64,iVBORw0KGgoAAAANSUhEUgAAAJQAAAAVBAMAAABS/tqaAAAAMFBMVEX////c3NwiIiJERESqqqqY\n",
       "mJh2dnZmZmYQEBDu7u4yMjJUVFTMzMyIiIi6uroAAAAs73DqAAAAAXRSTlMAQObYZgAAAlRJREFU\n",
       "OMutVE1oE0EU/pJ0t5vsblNQEOohXgRzUkTBn0NyE0QwZ0Hai/RaseilkBwU1IMuXgRBSRQRPdSK\n",
       "B8EtJlg8qIfm5kFKghfFU4tNoYlW3882nYTe3IF5O/vNmzff++bNADG2sWYcUaw2mc86fj88V++F\n",
       "r+eHwIenr5X2DUJf/4bhkwYwR+PnCr0UhjJsiHWOAOX2AGbfAL5TB1OApwu7wMg6kAF8zc86HJB1\n",
       "eUWELNNnecHE0o/Jx16j0SI7rIibt0GmHMCaghMIsrc8zjgxQVKRFgGTUyaWucXEK2SW2CEvbv6W\n",
       "bpuu4KfSbLaEdI36GUVOUD8UmFi5SCYxw0Fpm5EZcUutkskR+2O4qscYnC8hWlLTUD1g4qSJJbr8\n",
       "l+Z8OQyHo5Zl0izENJ4K8EikkUQkIcqrt/LlIExstLNzbvkoSZVUhDiLOwK0kRO+JK/bVg1I3nsL\n",
       "JpZc2wlFkr/TUYtZ1mn+B7aEQhjWlcwBPFCXFMnrd0wsuyoJKlOkq+pXYHOT6Wkoqh1Hp2ZxSV2y\n",
       "xMjaMDFHQp0TaLRol9TvF1dSR0Jd5386mmRFZiaIg2pAru66ibmbbPXcEtWkunl/omqmBI/zBIXK\n",
       "yJ5wP0RXkssqVzUxWWVr0WHxon7932ROMXiBzhAiRWpTdzka9MvKux0MYJNFjF2OdF/Ko19Wn4Tp\n",
       "NL4Be+7WYBW6Sv2ZulyhW/oikmMb896+md0+wox63y/QpZ+T4Tyc8cGb/nGXF2QXzAuGALo4dA1j\n",
       "aXaz/8j8b2O998cT6hVXQiwPst/AP10MpSALveQtAAAAAElFTkSuQmCC\n",
       "\" style=\"display:inline;vertical-align:middle;\" /></a></td></tr>\n",
       "<tr><td>3</td><td>Operation</td><td>operator:&nbsp;4<br>operands:&nbsp;5<br></td><td><a class=\"ProveItLink\" href=\"../../../../../__pv_it/f4f5eefdfdd5e570a0aca7c7ebd6e3dc5c32d9a40/expr.ipynb\"><img src=\"data:image/png;base64,iVBORw0KGgoAAAANSUhEUgAAAIcAAAAPBAMAAAA8KsGMAAAAMFBMVEX///92dnYQEBBERERUVFS6\n",
       "urqIiIhmZmaqqqrc3Nzu7u6YmJgyMjIiIiLMzMwAAACFkkdwAAAAAXRSTlMAQObYZgAAAehJREFU\n",
       "OMuNUz0sQ1EUPm2fVv9e7RYxIiFiEtImnlhEu1k7SI1tYsCi3WxIDAySvgULSSerJiLShBBjDSQ2\n",
       "P2kbJVUNzs9V95nc5J5373e/d853zj0XgMYzOEcwXrcmTv+AeyOLhS0nNPdlWSd3anNJpoOXArmH\n",
       "ALIJB+bqB5jFCQnamfJjC6CzoQLf2mgN4nqTjFTwU4npWOACOa53XM0QIcU0s4Yma/N6O7tBCEaH\n",
       "sCBpBI67dCzUR2J70NwTocw076sKiCOZZoklnKuibRjnta1j2Rwaf4bcYYDODNM8VTT5GBfDXi+A\n",
       "IpfESR1gZ1TH/C3aBSg7ckCOcERIaIWd7CpFKJvlYxb11PwN6Jjv4/dOyiollQmlTeXOszosoJGQ\n",
       "XLGAhzEdC7//OsGiTsoqTcridG5aVlwEXMGBHHqwgN4PHYtUOR1RB4Gi8KJkelV/uAVcgm45jKCK\n",
       "YE3H3OxkjSFfzlUQ3gv1BwfDsod7GNvBuJIrkoyGjhlNsnIn/mJYaOab6kvwo5MQxwHjMQntNskX\n",
       "dYz5LmkimDmSr/cTzRiBlLKnKZ7H7XabmAO2AzvOQceyqux9Gdpt8kTqNgdLEIy2ROiZHC7guzpX\n",
       "af9g5vTU0s/1hIS9H8VnugJ/xwPAfzDTdu6/AcG6i5kiy891AAAAAElFTkSuQmCC\n",
       "\" style=\"display:inline;vertical-align:middle;\" /></a></td></tr>\n",
       "<tr><td>4</td><td>Literal</td><td></td><td><a class=\"ProveItLink\" href=\"../087d0b4ded7c7e5bf3bba05ecb616d7a8051ff650/expr.ipynb\"><img src=\"data:image/png;base64,iVBORw0KGgoAAAANSUhEUgAAAAwAAAAOBAMAAADpk+DfAAAALVBMVEX///+YmJh2dnZmZmaqqqrc\n",
       "3NwyMjLu7u4iIiJERESIiIhUVFTMzMy6uroAAAD0I/TTAAAAAXRSTlMAQObYZgAAAEtJREFUCNdj\n",
       "uMAABDwMe0DUKoaTIKqdgS2AgYHFAITAzHYGsMQqBoa9QIqDgT0BSDE7MAkAKdYEDpAehj1SYOpk\n",
       "O5hiMwBTPAUMDAB33Atnw8aG2QAAAABJRU5ErkJggg==\n",
       "\" style=\"display:inline;vertical-align:middle;\" /></a></td></tr>\n",
       "<tr><td>5</td><td>ExprTuple</td><td>6, 7, 8, 9</td><td><a class=\"ProveItLink\" href=\"../../../../../__pv_it/fdb56ba75291ae395b6e144feba4985c2f60b9b70/expr.ipynb\"><img src=\"data:image/png;base64,iVBORw0KGgoAAAANSUhEUgAAAGkAAAAVBAMAAAC3TN2zAAAAMFBMVEX////c3NwiIiJERESqqqqY\n",
       "mJh2dnZmZmYQEBDu7u4yMjJUVFTMzMyIiIi6uroAAAAs73DqAAAAAXRSTlMAQObYZgAAAfBJREFU\n",
       "OMudVDFLW1EU/tJ4G595eQYUBB2cCu2kS6mCYP6Bb3LUbOogBkpbtwTaqUMTOomU8hxEW0EFB8E3\n",
       "JLhmMODgohhcWjpFawuaVnvOPfc2r0OgeuGe953z3XPv98657wH3G17tjglTbKqC921QlZvhzqb1\n",
       "nMPdF7Gchiki9saARIWcT0Jv/d2rcxjI140z68Nb9AV3B8BEBqBHSgSqoZLNOqDIwbbg5SdkFtKG\n",
       "yNJBV8Ak7Syre/Npm3VKaDoreJ3Zr5YgAe5vYAn4JpHaqdWEEZqPZa/EJds+Q4zTjDWBeAYvpZCl\n",
       "Cd9mUbx/VOBgwPaDIb7TdIl9mMOqDnzUb6OH2zw5emRw3o9UnMVB/QQ6ArzTkToGc4ZMnQPvTTGG\n",
       "0pGs1C8yyRsSVsCN3iYMy8OGjBdowQ/Bt9qa6sYb3BZi3YZkeeQGJqt7W3TwKLLpqBiC9532ddYb\n",
       "DlDrHhRsuyievBRc5mMSkT7iNbTCp1xOyupqGCncLq5dyS6cswSdGeebpALM8A1g1VdwLky73Lcl\n",
       "cRSd+SVtCGqXu8aAKn8G9BRXoMavc06Rjnl+G4afSaR2UN14lRHsMPFMv2JXHZ2R4nrRQnvtCL5R\n",
       "KttyVZRTbTAw3/pS/j/L4R4NtPx/vupaG4wky43d9Q9wDPwB+mqFhV2344EAAAAASUVORK5CYII=\n",
       "\" style=\"display:inline;vertical-align:middle;\" /></a></td></tr>\n",
       "<tr><td>6</td><td>Variable</td><td></td><td><a class=\"ProveItLink\" href=\"../../../../../__pv_it/2cbe72a7ad6f655694dd697106680215e8489b600/expr.ipynb\"><img src=\"data:image/png;base64,iVBORw0KGgoAAAANSUhEUgAAAA8AAAAOBAMAAAACpFvcAAAALVBMVEX///8QEBBERERUVFS6urqI\n",
       "iIhmZmaqqqrc3Nzu7u6YmJgyMjIiIiLMzMwAAADtIaYWAAAAAXRSTlMAQObYZgAAAFtJREFUCNdj\n",
       "YACBOwxQsA9Kc52bAGG05zVAGAFxDmCaZULdAjBjCsO9ADDDgaEvAUTzGhvbKYCVMDAwbgAxChgY\n",
       "eASANAeQwf0AyJgNxEwvGRia5HYwcOm9TgAA6BoR3jrzwFcAAAAASUVORK5CYII=\n",
       "\" style=\"display:inline;vertical-align:middle;\" /></a></td></tr>\n",
       "<tr><td>7</td><td>Variable</td><td></td><td><a class=\"ProveItLink\" href=\"../../../../../__pv_it/077b2ff79244fb4582cbe22c6e3356fa92a52f2f0/expr.ipynb\"><img src=\"data:image/png;base64,iVBORw0KGgoAAAANSUhEUgAAABAAAAAOBAMAAADUAYG5AAAAMFBMVEX///+qqqru7u4iIiJ2dnbc\n",
       "3NyIiIjMzMxmZmYQEBC6uroyMjJERERUVFSYmJgAAADLUcuvAAAAAXRSTlMAQObYZgAAAGpJREFU\n",
       "CNdjYGB4+//u3dMLGIBgDgMDxy8gzf4NiP8CGWxfGRj4vgAZPBMYGJgnARn8FxhY9ygAGfXX0pof\n",
       "gDTlBzAw2YIYJ0EckBBI53sHoBH/gIz7AhBjWH9DjancBLTl/N+7t/cxMAAA3u4f/5xagjYAAAAA\n",
       "SUVORK5CYII=\n",
       "\" style=\"display:inline;vertical-align:middle;\" /></a></td></tr>\n",
       "<tr><td>8</td><td>Variable</td><td></td><td><a class=\"ProveItLink\" href=\"../../../../../__pv_it/985a1bdf1540838275dec15f4ad6de261cca93ce0/expr.ipynb\"><img src=\"data:image/png;base64,iVBORw0KGgoAAAANSUhEUgAAAA8AAAAOBAMAAAACpFvcAAAAMFBMVEX////MzMyqqqoiIiIyMjK6\n",
       "uroQEBB2dnbc3NyYmJhmZmZUVFRERESIiIju7u4AAAB204erAAAAAXRSTlMAQObYZgAAAGZJREFU\n",
       "CNdjYGDgu7NrJccCBgaGsgkMrMsmMDA8sQNy6hsYGNweABlhDAxcn4A0QxcDQ78DiPGQgWH9BAYI\n",
       "sG+AMv6DSaCGfBDNJMDAsB+kmwuI5S8AiTog5gSaEwXWIO29SgFIAQBC+RaDQlidVgAAAABJRU5E\n",
       "rkJggg==\n",
       "\" style=\"display:inline;vertical-align:middle;\" /></a></td></tr>\n",
       "<tr><td>9</td><td>Variable</td><td></td><td><a class=\"ProveItLink\" href=\"../../../../../__pv_it/185e6d30f167ee2ee5ef3321098dc98e0d77bc590/expr.ipynb\"><img src=\"data:image/png;base64,iVBORw0KGgoAAAANSUhEUgAAABEAAAAOBAMAAAA7w+qHAAAALVBMVEX///8QEBCYmJjc3Ny6urru\n",
       "7u5mZmZ2dnaqqqrMzMxEREQyMjJUVFSIiIgAAABETr/8AAAAAXRSTlMAQObYZgAAAGpJREFUCNdj\n",
       "YGC48+7MmV0TGEDgNQMDxwsQg/M5kMgLABK8T4DEvAtAgusBkLA7ACT4FoDEDsAk9AqAxD2QCecc\n",
       "gMQ6kAGCIOIVEDM9Ahn3FkgwgnTxvgQSqwOgxs1OADLC1r05cyoTyAAAv4Qe+njAWvgAAAAASUVO\n",
       "RK5CYII=\n",
       "\" style=\"display:inline;vertical-align:middle;\" /></a></td></tr>\n",
       "</table>\n"
      ],
      "text/plain": [
       "0. {A or B or C or D}\n",
       "   core type: Operation\n",
       "   operator: 1\n",
       "   operands: 2\n",
       "1. Set\n",
       "   core type: Literal\n",
       "   sub-expressions: \n",
       "2. (A or B or C or D)\n",
       "   core type: ExprTuple\n",
       "   sub-expressions: 3\n",
       "3. A or B or C or D\n",
       "   core type: Operation\n",
       "   operator: 4\n",
       "   operands: 5\n",
       "4. or\n",
       "   core type: Literal\n",
       "   sub-expressions: \n",
       "5. (A , B , C , D)\n",
       "   core type: ExprTuple\n",
       "   sub-expressions: 6, 7, 8, 9\n",
       "6. A\n",
       "   core type: Variable\n",
       "   sub-expressions: \n",
       "7. B\n",
       "   core type: Variable\n",
       "   sub-expressions: \n",
       "8. C\n",
       "   core type: Variable\n",
       "   sub-expressions: \n",
       "9. D\n",
       "   core type: Variable\n",
       "   sub-expressions: "
      ]
     },
     "execution_count": 4,
     "metadata": {},
     "output_type": "execute_result"
    }
   ],
   "source": [
    "# display the expression information\n",
    "expr.exprInfo()"
   ]
  },
  {
   "cell_type": "code",
   "execution_count": null,
   "metadata": {},
   "outputs": [],
   "source": []
  }
 ],
 "metadata": {
  "kernelspec": {
   "display_name": "Python 3",
   "language": "python",
   "name": "python3"
  }
 },
 "nbformat": 4,
 "nbformat_minor": 0
}
