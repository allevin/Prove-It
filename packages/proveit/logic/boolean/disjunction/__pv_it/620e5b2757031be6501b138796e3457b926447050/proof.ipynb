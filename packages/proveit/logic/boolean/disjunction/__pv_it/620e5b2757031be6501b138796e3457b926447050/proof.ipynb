{
 "cells": [
  {
   "cell_type": "markdown",
   "metadata": {},
   "source": [
    "Show the Proof\n",
    "========"
   ]
  },
  {
   "cell_type": "code",
   "execution_count": 1,
   "metadata": {},
   "outputs": [
    {
     "data": {
      "text/html": [
       "<table><tr><th>&nbsp;</th><th>step type</th><th>requirements</th><th>statement</th></tr>\n",
       "<tr><td>0</td><td>specialization</td><td>1, 2</td><td><span style=\"font-size:20px;\"> <a class=\"ProveItLink\" href=\"proof.ipynb\" style=\"text-decoration: none\">&#x22A2;&nbsp;</a><a class=\"ProveItLink\" href=\"../ed50c5f07cdcec15c6af9dc5fe3511d6fc73403a0/expr.ipynb\"><img src=\"data:image/png;base64,iVBORw0KGgoAAAANSUhEUgAAAI0AAAAVBAMAAACJRXC4AAAAMFBMVEX////c3NwiIiJERESqqqqY\n",
       "mJh2dnZmZmYQEBDu7u4yMjJUVFTMzMyIiIi6uroAAAAs73DqAAAAAXRSTlMAQObYZgAAAcJJREFU\n",
       "OMutlD9IAlEcx79m2tmdFrgVgpwE0ZJJDW1ChNDUVNDkUkKTRDQ1VLREEEejEFQg5lI2tDS5RERD\n",
       "QrMhThE4tTRFv/M9vd/T86Z+8H3ce/f4vN/v+/4A/xWRGuu0vGYGGkLu8cq+jYrdxvon+dqL7Uvx\n",
       "2P6+u0mk6aPMBkctu32Wibbbqlgg3/4tpUSyFSpvAWFeVh2Mo9sI+VtwAlmhHg4+CK5ZbOyEc4wk\n",
       "NUMW44QOhOy4uDZnOpxl3cIXt/ySc3BFyoBxMC9FA0WL5RMF9hhnJKtwMpLlcHJSQNRy6jKmFoEi\n",
       "t3lV4VBN7doczooUMOf405z9IRPPKA3TDspFaygc8lhvKJxPKYSS3Of6EvDLjs6YykEcBSicNylE\n",
       "jmjlrs/+SNaTs4vNARxxYLscJHHMOFpa5UxQRgPqivdyFhjHr/oM/ammcjakgAeFQ3XlOn06vcG8\n",
       "yjFSFgbs+3mDcdbfgSY/h5TtjmlOm2ZCDJTEsSJPyVfaolsI0cUtVbv3NHVKfmjjDHTYc3de1C6/\n",
       "F8OPcr86jwq/d2veT1WwJuQa/e/GwChIucYkf64qnpx7Kdfw8URjXphwVcgt/gAXfXtnSA0ANAAA\n",
       "AABJRU5ErkJggg==\n",
       "\" style=\"display:inline;vertical-align:middle;\" /></a></span></td></tr>\n",
       "<tr><td>&nbsp;</td><td colspan=4 style=\"text-align:left\"><span style=\"font-size:20px;\"><a class=\"ProveItLink\" href=\"../../../../../__pv_it/2cbe72a7ad6f655694dd697106680215e8489b600/expr.ipynb\"><img src=\"data:image/png;base64,iVBORw0KGgoAAAANSUhEUgAAAA8AAAAOBAMAAAACpFvcAAAALVBMVEX///8QEBBERERUVFS6urqI\n",
       "iIhmZmaqqqrc3Nzu7u6YmJgyMjIiIiLMzMwAAADtIaYWAAAAAXRSTlMAQObYZgAAAFtJREFUCNdj\n",
       "YACBOwxQsA9Kc52bAGG05zVAGAFxDmCaZULdAjBjCsO9ADDDgaEvAUTzGhvbKYCVMDAwbgAxChgY\n",
       "eASANAeQwf0AyJgNxEwvGRia5HYwcOm9TgAA6BoR3jrzwFcAAAAASUVORK5CYII=\n",
       "\" style=\"display:inline;vertical-align:middle;\" /></a> : <a class=\"ProveItLink\" href=\"../a3b8415d8bad5300dc7e872d42225d73d213784d0/expr.ipynb\"><img src=\"data:image/png;base64,iVBORw0KGgoAAAANSUhEUgAAAFYAAAAVBAMAAAAutAQGAAAAMFBMVEX////c3NxERESqqqqYmJgQ\n",
       "EBDu7u4yMjKIiIi6urpUVFTMzMx2dnYiIiJmZmYAAABjE816AAAAAXRSTlMAQObYZgAAAQJJREFU\n",
       "KM9jYCAPzMAnyTIBmce9AERKYCpjbACRr5GF2BNA5D4IB2wKN9SQB2BpZLUdDEhqVyNEoGpZDiCp\n",
       "DUNWuwlEXENWyxaAUMpZgKyWXYCBgfkBsloGZYRavgPIakHqQOqR1J5D8poDslqQ/ZsYUNSaM7y9\n",
       "CwR3gEzWCShqgf5aiap2KoS3C4j5UdXyMrAVoKrdj1MtnwGPA061rAYoahkLeBlwuoEJ1W8Mqz3Q\n",
       "1LpDeUDM8wBV7aZraGqRwozzAgMoUK7evXsJEoYQFXzAYIq9e1eBgaESKY4DUVMXdwIqHzmOGXzw\n",
       "p26eBow0iROkoyTpBXjVLkThSeBTyrGBAQCMM0l31yFwowAAAABJRU5ErkJggg==\n",
       "\" style=\"display:inline;vertical-align:middle;\" /></a></span></td></tr><tr><td>1</td><td>theorem</td><td></td><td><span style=\"font-size:20px;\"> <a class=\"ProveItLink\" href=\"../../../_proofs_/inBoolIfTrue.ipynb\" style=\"text-decoration: none\">&#x22A2;&nbsp;</a><a class=\"ProveItLink\" href=\"../../../__pv_it/cc0e652b3e50bfde974674c66b274bb1625600900/expr.ipynb\"><img src=\"data:image/png;base64,iVBORw0KGgoAAAANSUhEUgAAAIgAAAAXBAMAAAAipBr3AAAAMFBMVEX///8QEBC6urrMzMxUVFRm\n",
       "ZmZERETc3NwyMjKqqqp2dnaIiIiYmJgiIiLu7u4AAAAU9Wx4AAAAAXRSTlMAQObYZgAAAhdJREFU\n",
       "OMtjYKAGeECEGm18kjwKDAwXQIzTeM1gdoBQF1CFV3zrb7w2gYEhmIFhJYjfh9cQDohrOT6giSdo\n",
       "8/WtAoozMJQBeewJeA3ZDaHO/sMwhGET0ASeBWBrWCfgNUQOTLJP/Q7hvu69ewNmyByWBwx8Agw8\n",
       "y8vLa/GawdQApri5P0GCpucBkktAHslkYPiWlnYLryGsC8CUHucfMF32AOEd5jt5QHopA4MzA0M6\n",
       "WKwdYi88OAtgjAMgkk+B+TeYm44IE937HzcA6RkMDCoMfGD38kBcywZTcl4BymBUgBjO/hVsWAJy\n",
       "wO6eBqQVGRh4GbjBVj39g2IIX/wBKIsfbIiJi8s3sGGyd+8iApaNCehXe2CAHeAF+3LdVRRDuN4G\n",
       "oBgCJCSQUh7MEIYEsCF8DSZgyQ1pKIZYs8HczQhKAJxAfBHswgsYhiiCQsoJJMLCEItiiAMrTDUb\n",
       "yF+VQNwP5vqgGALyzgkgeypY9UmG/ciG8EzghqVyrgAGSNjng739VgHJkKPbIFHMwAiKJr6roRA1\n",
       "UEPehobBUjnTBQb2xB8FDMf+t4JTbqsBPAPmioC82gSyFKSZtYDB3gDJkHAG5s8wG8VREx+nBzR2\n",
       "YPEoAGPpAGPhAMIQJiD7D0zuFP7ShmsDlPHkGwO7/x24IXz+CQwlfw+gFgW4wAtMITZMIXYHvIa4\n",
       "E2UIQzU+M7gNiDOEZMBChh4Aa/SCMsrS/6MAAAAASUVORK5CYII=\n",
       "\" style=\"display:inline;vertical-align:middle;\" /></a></span></td></tr>\n",
       "<tr><td>&nbsp;</td><td colspan=4 style-\"text-align:left\"><a class=\"ProveItLink\" href=\"../../../_proofs_/inBoolIfTrue.ipynb\">proveit.logic.boolean.inBoolIfTrue</a></td></tr><tr><td>2</td><td>theorem</td><td></td><td><span style=\"font-size:20px;\"> <a class=\"ProveItLink\" href=\"../../_proofs_/falseOrFalseNegated.ipynb\" style=\"text-decoration: none\">&#x22A2;&nbsp;</a><a class=\"ProveItLink\" href=\"../a3b8415d8bad5300dc7e872d42225d73d213784d0/expr.ipynb\"><img src=\"data:image/png;base64,iVBORw0KGgoAAAANSUhEUgAAAFYAAAAVBAMAAAAutAQGAAAAMFBMVEX////c3NxERESqqqqYmJgQ\n",
       "EBDu7u4yMjKIiIi6urpUVFTMzMx2dnYiIiJmZmYAAABjE816AAAAAXRSTlMAQObYZgAAAQJJREFU\n",
       "KM9jYCAPzMAnyTIBmce9AERKYCpjbACRr5GF2BNA5D4IB2wKN9SQB2BpZLUdDEhqVyNEoGpZDiCp\n",
       "DUNWuwlEXENWyxaAUMpZgKyWXYCBgfkBsloGZYRavgPIakHqQOqR1J5D8poDslqQ/ZsYUNSaM7y9\n",
       "CwR3gEzWCShqgf5aiap2KoS3C4j5UdXyMrAVoKrdj1MtnwGPA061rAYoahkLeBlwuoEJ1W8Mqz3Q\n",
       "1LpDeUDM8wBV7aZraGqRwozzAgMoUK7evXsJEoYQFXzAYIq9e1eBgaESKY4DUVMXdwIqHzmOGXzw\n",
       "p26eBow0iROkoyTpBXjVLkThSeBTyrGBAQCMM0l31yFwowAAAABJRU5ErkJggg==\n",
       "\" style=\"display:inline;vertical-align:middle;\" /></a></span></td></tr>\n",
       "<tr><td>&nbsp;</td><td colspan=4 style-\"text-align:left\"><a class=\"ProveItLink\" href=\"../../_proofs_/falseOrFalseNegated.ipynb\">proveit.logic.boolean.disjunction.falseOrFalseNegated</a></td></tr></table>"
      ],
      "text/plain": [
       "<proveit._core_.proof._ShowProof at 0x7f94eb0be6a0>"
      ]
     },
     "execution_count": 1,
     "metadata": {},
     "output_type": "execute_result"
    }
   ],
   "source": [
    "import proveit\n",
    "%show_proof"
   ]
  },
  {
   "cell_type": "code",
   "execution_count": null,
   "metadata": {},
   "outputs": [],
   "source": []
  }
 ],
 "metadata": {
  "kernelspec": {
   "display_name": "Python 3",
   "language": "python",
   "name": "python3"
  }
 },
 "nbformat": 4,
 "nbformat_minor": 0
}
