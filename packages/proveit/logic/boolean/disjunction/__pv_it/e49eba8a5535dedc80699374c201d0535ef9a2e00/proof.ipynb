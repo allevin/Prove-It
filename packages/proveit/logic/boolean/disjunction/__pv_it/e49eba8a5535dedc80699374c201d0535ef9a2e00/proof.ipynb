{
 "cells": [
  {
   "cell_type": "markdown",
   "metadata": {},
   "source": [
    "Show the Proof\n",
    "========"
   ]
  },
  {
   "cell_type": "code",
   "execution_count": 1,
   "metadata": {},
   "outputs": [
    {
     "data": {
      "text/html": [
       "<table><tr><th>&nbsp;</th><th>step type</th><th>requirements</th><th>statement</th></tr>\n",
       "<tr><td>0</td><td>specialization</td><td>1, 2</td><td><span style=\"font-size:20px;\"> <a class=\"ProveItLink\" href=\"proof.ipynb\" style=\"text-decoration: none\">&#x22A2;&nbsp;</a><a class=\"ProveItLink\" href=\"../db575b8ee65faec0206106ba721862f1ba57b2230/expr.ipynb\"><img src=\"data:image/png;base64,iVBORw0KGgoAAAANSUhEUgAAAGcAAAAZBAMAAADeRy17AAAAMFBMVEX////c3NwiIiJERESqqqqY\n",
       "mJh2dnZmZmYQEBDu7u4yMjJUVFTMzMyIiIi6uroAAAAs73DqAAAAAXRSTlMAQObYZgAAAWVJREFU\n",
       "OMtjYCARsBXvZCAZVDJUka5JkUH+AMmaWhjmPyDdKgb/CQwMfBewSsXh1LQMiE+DGIzIOmVBBDua\n",
       "y9nWW/1qMgExNgCJlSAhngIk+eNgcgGaBcx8F2ZNS2BgCAOyeS/g0BSGqYn3wQIGvgSeAwwcE3Bo\n",
       "mgHhcN5SUloA1cQSsJPhsIv3BIZXDDg0MTuAqVORSDY9NGDo//+fgaEMlyY2sBCjJZLzDgVPgLCX\n",
       "4tLEAnGUAEKT0v9eKLsPlya+BhA5GSUgrhhA2P9waeL5ACJfKCkhAoLB4BlRmk4j28RgwAxLgHid\n",
       "NwmrJlMkTROQNbGCHcUdgKIJ6rx0hCbOT5hBzqmHpIm1FhoQj4BpE+jXJiUlA85+YPgWKSlpKCkp\n",
       "MzBwQbKNVA08wX7W2AI1gEMA4Rk+JDYsGTF4L1JCT7sMrAlIbGSJXHwZcSV2TZwL8GmSRjCRcyK3\n",
       "AD5NjNiz+x08WgCscmGXH/IHNQAAAABJRU5ErkJggg==\n",
       "\" style=\"display:inline;vertical-align:middle;\" /></a></span></td></tr>\n",
       "<tr><td>&nbsp;</td><td colspan=4 style=\"text-align:left\"><span style=\"font-size:20px;\"><a class=\"ProveItLink\" href=\"../../../../../__pv_it/abeee18594afe51bfb1be95d9591fbba24ac53f30/expr.ipynb\"><img src=\"data:image/png;base64,iVBORw0KGgoAAAANSUhEUgAAAA0AAAAOBAMAAAAGUYvhAAAAMFBMVEX///8iIiIQEBCIiIjMzMzc\n",
       "3Nyqqqp2dnZEREQyMjK6urru7u5mZmZUVFSYmJgAAACI6eGPAAAAAXRSTlMAQObYZgAAAF1JREFU\n",
       "CNdjYGDgu3Nm3wIGBoZ5DNz9QIq3gIEhE0jHOzAwOAPp9QkMDC4g/megABAw///fCmbEXfq0Acxg\n",
       "qH8ANAVI7wfSe0BKAyBGnAXigwYMzA1A+sLau31ACgAz0hhbkhGHbwAAAABJRU5ErkJggg==\n",
       "\" style=\"display:inline;vertical-align:middle;\" /></a> : <a class=\"ProveItLink\" href=\"../../../__pv_it/46271c8230be96415d662709611f4ed2279d702b0/expr.ipynb\"><img src=\"data:image/png;base64,iVBORw0KGgoAAAANSUhEUgAAAA0AAAAOBAMAAAAGUYvhAAAAMFBMVEX///9mZmbMzMzc3NxUVFSY\n",
       "mJju7u6IiIi6urqqqqoiIiIQEBBEREQyMjJ2dnYAAAAQvcRZAAAAAXRSTlMAQObYZgAAAElJREFU\n",
       "CNdjePvn/u01ExgYGA60s117B6YZKngh9FSWBAjfBsxnWnoMRHet/10AkS+fA6F5OB5AaIYDqDRU\n",
       "PLCGgQFoz6ktExgAgLIl8DFvGtkAAAAASUVORK5CYII=\n",
       "\" style=\"display:inline;vertical-align:middle;\" /></a>, <a class=\"ProveItLink\" href=\"../../../../../__pv_it/07527342713064c87612d00d8557c53d53d5324a0/expr.ipynb\"><img src=\"data:image/png;base64,iVBORw0KGgoAAAANSUhEUgAAAAsAAAAJBAMAAAAWSsseAAAAMFBMVEX///8yMjKqqqrMzMzu7u4i\n",
       "IiJmZmaYmJhEREQQEBC6urp2dnaIiIhUVFTc3NwAAAD87Fq/AAAAAXRSTlMAQObYZgAAAEhJREFU\n",
       "CNdjYOC7s2seAwPDygccHxgY+L4zsDUwMPB+YGA9wMDA38Dgb8DA8P4Agz6DA4O/AsNFJgMGxgKm\n",
       "MG6gyjunLE4xAAAZTBA5TB6DCwAAAABJRU5ErkJggg==\n",
       "\" style=\"display:inline;vertical-align:middle;\" /></a> : <a class=\"ProveItLink\" href=\"../../../__pv_it/8f1f7fac882de28c72b62ab80a1700b6d8fd066b0/expr.ipynb\"><img src=\"data:image/png;base64,iVBORw0KGgoAAAANSUhEUgAAAA4AAAAOBAMAAADtZjDiAAAAG1BMVEX///9EREQQEBAiIiJmZmbM\n",
       "zMyIiIjc3NwAAACryk5kAAAAAXRSTlMAQObYZgAAABlJREFUCNdjYGBgKGOAgBBa0s7GxkbGxoYA\n",
       "FMUF2aBfHgoAAAAASUVORK5CYII=\n",
       "\" style=\"display:inline;vertical-align:middle;\" /></a>, <a class=\"ProveItLink\" href=\"../../../../../__pv_it/6840a4fa6c106149dc16a131294d0c5e44f1b0480/expr.ipynb\"><img src=\"data:image/png;base64,iVBORw0KGgoAAAANSUhEUgAAAAkAAAAOBAMAAAAPuiubAAAALVBMVEX///9mZmbMzMxERESYmJiI\n",
       "iIh2dna6urqqqqoyMjIiIiIQEBBUVFTu7u4AAAD9S1JeAAAAAXRSTlMAQObYZgAAAE1JREFUCNdj\n",
       "4D29gAEIOA+ASL4GEFl3AURmgQiGOaFHGBh4HzPwKTBwvGXgTmBgnMDAJ8DAJcBQ5wBSLncBJLWN\n",
       "gYGngRFoBO9REQYGAGrcDtUkVqASAAAAAElFTkSuQmCC\n",
       "\" style=\"display:inline;vertical-align:middle;\" /></a> : <a class=\"ProveItLink\" href=\"../../../__pv_it/8f1f7fac882de28c72b62ab80a1700b6d8fd066b0/expr.ipynb\"><img src=\"data:image/png;base64,iVBORw0KGgoAAAANSUhEUgAAAA4AAAAOBAMAAADtZjDiAAAAG1BMVEX///9EREQQEBAiIiJmZmbM\n",
       "zMyIiIjc3NwAAACryk5kAAAAAXRSTlMAQObYZgAAABlJREFUCNdjYGBgKGOAgBBa0s7GxkbGxoYA\n",
       "FMUF2aBfHgoAAAAASUVORK5CYII=\n",
       "\" style=\"display:inline;vertical-align:middle;\" /></a></span></td></tr><tr><td>1</td><td>theorem</td><td></td><td><span style=\"font-size:20px;\"> <a class=\"ProveItLink\" href=\"../../../../set_theory/membership/_proofs_/exp_set_2.ipynb\" style=\"text-decoration: none\">&#x22A2;&nbsp;</a><a class=\"ProveItLink\" href=\"../5cf16b13cffc17e2eec05624cd8addb28309c1580/expr.ipynb\"><img src=\"data:image/png;base64,iVBORw0KGgoAAAANSUhEUgAAAOMAAAAcBAMAAABhZBWzAAAAMFBMVEX///8QEBC6urrMzMxUVFRm\n",
       "ZmZERETc3NwyMjKqqqp2dnaIiIiYmJgiIiLu7u4AAAAU9Wx4AAAAAXRSTlMAQObYZgAAA+VJREFU\n",
       "SMe9Vl1IFFEUPs64juvujkIPkqFuP0IQ4T6kPUX2Z7/Uhq39i0SsiEk+iBtEuUQShMVCBfUQLUFF\n",
       "9WL086BGQ1mUkRjRD9XGEmaCmItLimRu59z52dlZHXZ7cGDvnrn33Pvd+53vnLkAc/LkVG+HOX5q\n",
       "YI/peGOoKZVlFqUB+RFaXRBEY3koONN4f0qr8BVpQM6HUSesIEuo+H/IoXBa1F4Lg61DhgzPBCmm\n",
       "sMY2apYZOu3O2dzPMnoZJDvSawOkg03vMEMU8ozkDhRiU5Xs2eOpeQo55PlAhrxNvecNkDkB/Ms2\n",
       "Zc7iTnI5TT1JjtkSDEagl8zRMINsIeRaAyTraDHlNYMo7EromiRqkgS5BcDq54K8C8AhMUjaqCVg\n",
       "lA8de68p5GpqivQ93DQ2Yp78Mnwu9EkOQBT57yi/cpFwahmk/ZbPdyJJsb0+n89cuPcIxJ9QYdiE\n",
       "ejmD2lXKOTw77yqOxYiCiJwk417v5yTIXK+3MWgKuYniSS7NnQvlypG99QESd4PZLVqQhdj9BB4I\n",
       "ch1AHb6W3el2xSEzXZCllaCl2mH4fXefKeZhWRnA5cNRuWe0FpDEy8yui+/tSWxcXYmPypBLQMQl\n",
       "OTeU6k7JVcBQnDG3apUAF1HMNkVCrRJUa8leALCQTFGnR6GnWA25MCZDOsAmUQtZ+urTD91xmZO6\n",
       "hj0H2Ii62Hv85SLkDoAvcg8W7t+KrLjCUEiRD215SjHESRnSJjnCLGXseshu+KZB5iIxtkMnf4GI\n",
       "sZAMkOMgRtUebkqB1JUI9BenDKcU/VRuHQXOhBo7RLOE/TcpvqVd2+E5G3l7PSHvMwIg/AFrRFTS\n",
       "0jKtEqupXcSgCBMqpBJLqFtLQztjAT1kVjNuYaSplZT3GHpAVtCP4knVqZKcJOIq03+BVeooZKCC\n",
       "X8YLMD1WnGhRz8xNKJCX5C015+khrQex2QCr6L0B3vBKxghrVKfHiq7a4ao7KP7Ft82wC9QkGVE5\n",
       "s2CgH2lFX8lLyMDyLTpBjCR8vBbgb4wVYpgH1fwHr7cBvmPMVSfSN4eezV2LG5xiMYZ74CHF+ZS8\n",
       "tTYl4zK59ZWSpiO/AmlHVqwB4GsTIPuA1HLkJ5oR+Coybq4AlGuaojXztSRXU08teNZNccXGpd+h\n",
       "+0Rj9Yunvhb7Ij7aJ5yBfgzIRnqv1uV4JlHdq1GmHcTsizfapIcs8+xOvhWUdD+U+Cko6QQYpOBU\n",
       "eTzavvh+/cdLgxwyK5IvUryIKKvdxFgmPPX6+drZNppBvksRcuUs849Rc9zQaXOZINrdKUJKsyxg\n",
       "DaZ7mW2Z/YYXSu0e+yr9+zPdYytg7p9/ajsM3M+WFooAAAAASUVORK5CYII=\n",
       "\" style=\"display:inline;vertical-align:middle;\" /></a></span></td></tr>\n",
       "<tr><td>&nbsp;</td><td colspan=4 style-\"text-align:left\"><a class=\"ProveItLink\" href=\"../../../../set_theory/membership/_proofs_/exp_set_2.ipynb\">proveit.logic.set_theory.membership.exp_set_2</a></td></tr><tr><td>2</td><td>theorem</td><td></td><td><span style=\"font-size:20px;\"> <a class=\"ProveItLink\" href=\"../../../_proofs_/falseInBool.ipynb\" style=\"text-decoration: none\">&#x22A2;&nbsp;</a><a class=\"ProveItLink\" href=\"../../../__pv_it/5ddcdc170ae135aa2397d35b7606cd81f952c91a0/expr.ipynb\"><img src=\"data:image/png;base64,iVBORw0KGgoAAAANSUhEUgAAADYAAAAPBAMAAABdHiGLAAAAMFBMVEX///92dnaqqqpUVFS6urqY\n",
       "mJgyMjLu7u5EREQQEBAiIiJmZmbMzMyIiIjc3NwAAABz/qQtAAAAAXRSTlMAQObYZgAAAJVJREFU\n",
       "GNNjYGBgeMuABhjz277NagIzT6PLMXCwXCgrFMApx+uQgCLHfm3VqgSoHFOAOYrcsXAkfX4NyHJ8\n",
       "7UhmnoooQJbjeICQW/V/Loo7K1DccgnFTM9VqxBuYWhwRJY7jKyPoYEDWa4KjxxzAIocipnsS5Dk\n",
       "WPc2MOxatWrlqlUrwELP9sDD+sdKI7RwVM6CuBMCADjtOPFI200aAAAAAElFTkSuQmCC\n",
       "\" style=\"display:inline;vertical-align:middle;\" /></a></span></td></tr>\n",
       "<tr><td>&nbsp;</td><td colspan=4 style-\"text-align:left\"><a class=\"ProveItLink\" href=\"../../../_proofs_/falseInBool.ipynb\">proveit.logic.boolean.falseInBool</a></td></tr></table>"
      ],
      "text/plain": [
       "<proveit._core_.proof._ShowProof at 0x7f94eb2edc18>"
      ]
     },
     "execution_count": 1,
     "metadata": {},
     "output_type": "execute_result"
    }
   ],
   "source": [
    "import proveit\n",
    "%show_proof"
   ]
  },
  {
   "cell_type": "code",
   "execution_count": null,
   "metadata": {},
   "outputs": [],
   "source": []
  }
 ],
 "metadata": {
  "kernelspec": {
   "display_name": "Python 3",
   "language": "python",
   "name": "python3"
  }
 },
 "nbformat": 4,
 "nbformat_minor": 0
}
