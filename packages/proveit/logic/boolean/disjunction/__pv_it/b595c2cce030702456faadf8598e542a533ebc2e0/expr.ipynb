{
 "cells": [
  {
   "cell_type": "markdown",
   "metadata": {},
   "source": [
    "Expression of type <a class=\"ProveItLink\" href=\"../../../../../../../doc/html/api/proveit.Lambda.html\">Lambda</a>\n",
    "=======================\n",
    "# from context <a class=\"ProveItLink\" href=\"../../_context_.ipynb\">proveit.logic.boolean.disjunction</a>"
   ]
  },
  {
   "cell_type": "code",
   "execution_count": 1,
   "metadata": {},
   "outputs": [],
   "source": [
    "# import Expression classes needed to build the expression\n",
    "from proveit import Lambda\n",
    "from proveit._common_ import A, B\n",
    "from proveit.logic import FALSE, Not, Or"
   ]
  },
  {
   "cell_type": "code",
   "execution_count": 2,
   "metadata": {},
   "outputs": [
    {
     "data": {
      "text/html": [
       "<strong id=\"expr\">expr:</strong> <a class=\"ProveItLink\" href=\"expr.ipynb\"><img src=\"data:image/png;base64,iVBORw0KGgoAAAANSUhEUgAAANoAAAAVCAMAAAAXfQCIAAAANlBMVEX///8UFBQNDQ2qqqru7u4i\n",
       "IiJ2dnbc3NyIiIjMzMxmZmYQEBC6uroyMjJERERUVFSYmJgAAAC3B9V0AAAAAXRSTlMAQObYZgAA\n",
       "AeVJREFUWMPtWNuSgyAMdReQm1zy/z+7tooGCFV2mE5nZ/PQahtPckpyAp2mYcbk9FdtXj4wqRgA\n",
       "wmre3c9OqlvUtBga+wqOQLP++WbgNjdtblFzcFyirzV26YmN4BpWomlQ+3sYSy0K4Ok6HIQUXvGe\n",
       "2BiukVaJpmCTgAjzUGqSGTjERft0JXB+HbEzONoqNG/3mJYPpabWUOenbk+LZY92xM7hSKvQttWT\n",
       "zp/oLhd29htqC58YxBPE5BSbsRtWwJFWoq2FqZQyAj9WSFHg/dT4ctY+KsSzMFuxaavgyFYr0PYC\n",
       "5SI0qfEgu6k97iUgv00+wkI0Rxb7oXDisLkFR3hVaKlAFVru7y+RmS2q/JqafgyYAL4oBe7I5lCt\n",
       "UtOhCVd7VWhJKLFIlbMxLL2rtt1azMSsLTtHojleCGSiRsDVXiWaThQDsBY1I3t7jSWpwurtSmAy\n",
       "NpU0BVd5VWhpFkhwrV7TqlchJaP2D0FHRc6hFJs3ki7gOO1VMdkLVFvH8QzJVKR3rh0d5bP9g/aC\n",
       "U62WYnOoN4m6hiPcNIFm/LajdO5af7Es2eerJ6lJb+E5veIK7vCP4HKFK2NzS203KjjarZvJ2EON\n",
       "vhrMy71T3/LWw+GY81oc6vZP7S3U1FC3UaY+7A+EH0dcGxOZoK2YAAAAAElFTkSuQmCC\n",
       "\" style=\"display:inline;vertical-align:middle;\" /></a><br>"
      ],
      "text/plain": [
       "expr: B -> FALSE | A or B , [not](A) , [not](B)"
      ]
     },
     "execution_count": 2,
     "metadata": {},
     "output_type": "execute_result"
    }
   ],
   "source": [
    "# build up the expression from sub-expressions\n",
    "expr = Lambda(B, FALSE, conditions = [Or(A, B), Not(A), Not(B)])"
   ]
  },
  {
   "cell_type": "code",
   "execution_count": 3,
   "metadata": {},
   "outputs": [
    {
     "name": "stdout",
     "output_type": "stream",
     "text": [
      "Passed sanity check: built 'expr' is the same as the stored Expression.\n"
     ]
    }
   ],
   "source": [
    "# check that the built expression is the same as the stored expression\n",
    "%check_expr"
   ]
  },
  {
   "cell_type": "code",
   "execution_count": 4,
   "metadata": {},
   "outputs": [
    {
     "data": {
      "text/html": [
       "<table><tr><th>&nbsp;</th><th>core type</th><th>sub-expressions</th><th>expression</th></tr>\n",
       "<tr><td>0</td><td>Lambda</td><td>parameter:&nbsp;10<br>body:&nbsp;1<br>conditions:&nbsp;2<br></td><td><a class=\"ProveItLink\" href=\"expr.ipynb\"><img src=\"data:image/png;base64,iVBORw0KGgoAAAANSUhEUgAAANoAAAAVCAMAAAAXfQCIAAAANlBMVEX///8UFBQNDQ2qqqru7u4i\n",
       "IiJ2dnbc3NyIiIjMzMxmZmYQEBC6uroyMjJERERUVFSYmJgAAAC3B9V0AAAAAXRSTlMAQObYZgAA\n",
       "AeVJREFUWMPtWNuSgyAMdReQm1zy/z+7tooGCFV2mE5nZ/PQahtPckpyAp2mYcbk9FdtXj4wqRgA\n",
       "wmre3c9OqlvUtBga+wqOQLP++WbgNjdtblFzcFyirzV26YmN4BpWomlQ+3sYSy0K4Ok6HIQUXvGe\n",
       "2BiukVaJpmCTgAjzUGqSGTjERft0JXB+HbEzONoqNG/3mJYPpabWUOenbk+LZY92xM7hSKvQttWT\n",
       "zp/oLhd29htqC58YxBPE5BSbsRtWwJFWoq2FqZQyAj9WSFHg/dT4ctY+KsSzMFuxaavgyFYr0PYC\n",
       "5SI0qfEgu6k97iUgv00+wkI0Rxb7oXDisLkFR3hVaKlAFVru7y+RmS2q/JqafgyYAL4oBe7I5lCt\n",
       "UtOhCVd7VWhJKLFIlbMxLL2rtt1azMSsLTtHojleCGSiRsDVXiWaThQDsBY1I3t7jSWpwurtSmAy\n",
       "NpU0BVd5VWhpFkhwrV7TqlchJaP2D0FHRc6hFJs3ki7gOO1VMdkLVFvH8QzJVKR3rh0d5bP9g/aC\n",
       "U62WYnOoN4m6hiPcNIFm/LajdO5af7Es2eerJ6lJb+E5veIK7vCP4HKFK2NzS203KjjarZvJ2EON\n",
       "vhrMy71T3/LWw+GY81oc6vZP7S3U1FC3UaY+7A+EH0dcGxOZoK2YAAAAAElFTkSuQmCC\n",
       "\" style=\"display:inline;vertical-align:middle;\" /></a></td></tr>\n",
       "<tr><td>1</td><td>Literal</td><td></td><td><a class=\"ProveItLink\" href=\"../../../__pv_it/8f1f7fac882de28c72b62ab80a1700b6d8fd066b0/expr.ipynb\"><img src=\"data:image/png;base64,iVBORw0KGgoAAAANSUhEUgAAAA4AAAAOBAMAAADtZjDiAAAAG1BMVEX///9EREQQEBAiIiJmZmbM\n",
       "zMyIiIjc3NwAAACryk5kAAAAAXRSTlMAQObYZgAAABlJREFUCNdjYGBgKGOAgBBa0s7GxkbGxoYA\n",
       "FMUF2aBfHgoAAAAASUVORK5CYII=\n",
       "\" style=\"display:inline;vertical-align:middle;\" /></a></td></tr>\n",
       "<tr><td>2</td><td>ExprTuple</td><td>3, 4, 5</td><td><a class=\"ProveItLink\" href=\"../2addabae9145c86b43a3a6b2e055a404aa2b1d860/expr.ipynb\"><img src=\"data:image/png;base64,iVBORw0KGgoAAAANSUhEUgAAAJIAAAAVBAMAAABf4KrdAAAAMFBMVEX////c3NwiIiJERESqqqqY\n",
       "mJh2dnZmZmYQEBDu7u4yMjJUVFTMzMyIiIi6uroAAAAs73DqAAAAAXRSTlMAQObYZgAAAh9JREFU\n",
       "OMutVDFIG1EY/lK5mjN3NqCTHRIKlYJDRSzULroJXercDs1SuhYrTgUDutRBDyfpoA1SRIckpVuP\n",
       "klAotDgkWyfJtVPpVMUWNLT2f//v3T1fDhfzw728fO97373v//97QPeiv9kFESugYU/mH421R6e+\n",
       "fy/o2GLSrFrbf1cGXtB8R6AKn4+ndR4Xgd5/HUoVE0iPAgsB+gBXzFm3PRozSkQQ5y897Q4XTNOj\n",
       "QexGFVYBaVkaXMiq7fQCXGHEPaB9f0wloenRIuBxAXYRPwVotjgnJXqmGegpkuZLU+mMpsVdem7R\n",
       "u8cxLwX0HszgTKXEyLUqUlumlZCmBSVgaIJ+n+IN/99gv+yMHZL3D/uz5q6IFofT3v96U03uY4WB\n",
       "ALlnkGxngtC/PSLs3hsqChoNmFXQsKRzrUrAD3ChHd+vyVHyeBX7b2mHcqo6TWJP0un+Vh5Eifoo\n",
       "/ZoX5/Ak8q9qck4ppkVKlE4pcQNLCpqiDBV5cYhOxRvVe2pT55ViWqTUoGNnjtjdHRpTROn7xYuZ\n",
       "T5JS5T91AtiaUkjzNCXVTjl1zodUPXBqeo5lw5gXtdNn+pA28+G2ekizDyN1Tqez7HEXfAcGVkuw\n",
       "Jk+kKttSrsm2/141yPpB5CWk2atxnz+n73yX61JG2mj/L0YLfUu4h7KdGH0tVuHim2cm4TJKoF1t\n",
       "RrfKJZVUDq9fKOQmYEmX7FvVAt24fd06/gN0lpiFOSIG8gAAAABJRU5ErkJggg==\n",
       "\" style=\"display:inline;vertical-align:middle;\" /></a></td></tr>\n",
       "<tr><td>3</td><td>Operation</td><td>operator:&nbsp;6<br>operands:&nbsp;7<br></td><td><a class=\"ProveItLink\" href=\"../0f1bf4090acd92174180531bf3e50944b30066e50/expr.ipynb\"><img src=\"data:image/png;base64,iVBORw0KGgoAAAANSUhEUgAAADcAAAAPBAMAAACy3Eq1AAAAMFBMVEX///92dnYQEBBERERUVFS6\n",
       "urqIiIhmZmaqqqrc3Nzu7u6YmJgyMjIiIiLMzMwAAACFkkdwAAAAAXRSTlMAQObYZgAAAP1JREFU\n",
       "GNNjYACBtwyogNv/i4vzUSjnPIhgBTMfgEkmAwaG+gCIwvsLgCQLSJwtASzyHki9dwAzZ9RPAJJ8\n",
       "QNUMvAvAIvlAgf0CYGZCPtiEk0DcDrHHCIgvgdWxLujfwACVOAmR/MLAMMcKzFoKtgJsJNhooA1f\n",
       "0tJvQ5QFMMwvYIA4hgXiQrafDAxrwe7hc3Hxh2i4wLAGopxZAajgN9R/TAfAYhUM0hBJfqAu7o8g\n",
       "VgPQNgWw2BygXog3gQ5k+QFkcAIleT6AxVheQ4IA7M35INNA1jD/gjjSdgHcm3w6QPZk/ZMM3PZ/\n",
       "wM5lOA6RK/7v4nJmA1pkMLxC5QIA6tw+1pV4TWcAAAAASUVORK5CYII=\n",
       "\" style=\"display:inline;vertical-align:middle;\" /></a></td></tr>\n",
       "<tr><td>4</td><td>Operation</td><td>operator:&nbsp;8<br>operand:&nbsp;9<br></td><td><a class=\"ProveItLink\" href=\"../feaa1d0e6d92ad9ead8e5ffd1f92697e3912387a0/expr.ipynb\"><img src=\"data:image/png;base64,iVBORw0KGgoAAAANSUhEUgAAABwAAAAOBAMAAADOPWE3AAAAMFBMVEX///8QEBBERES6urqIiIiq\n",
       "qqrc3Nzu7u6YmJgyMjJUVFTMzMx2dnYiIiJmZmYAAADMbjvTAAAAAXRSTlMAQObYZgAAAGNJREFU\n",
       "CNdjYEAA7gsMyIDzAwq39zsyjy3uGzKXheUzMtec9QcSj92A+wsDw9u7QHAHyGVmYPsHldkFwqtW\n",
       "fULiGjAwSCK4rEDqIoKbCqTmw1zLwD4BSOkXwFyk+DOBoen/PABSrhtHsYt+gAAAAABJRU5ErkJg\n",
       "gg==\n",
       "\" style=\"display:inline;vertical-align:middle;\" /></a></td></tr>\n",
       "<tr><td>5</td><td>Operation</td><td>operator:&nbsp;8<br>operand:&nbsp;10<br></td><td><a class=\"ProveItLink\" href=\"../1da4e2fe7c44632f084fa27ea32e26dc689384c20/expr.ipynb\"><img src=\"data:image/png;base64,iVBORw0KGgoAAAANSUhEUgAAAB0AAAAOBAMAAAAh/woJAAAAMFBMVEX///+qqqru7u7c3NyIiIgQ\n",
       "EBC6uroyMjJERESYmJhUVFTMzMx2dnYiIiJmZmYAAADtoHoAAAAAAXRSTlMAQObYZgAAAHpJREFU\n",
       "CNdjYIACzvW/Vq0oY0AA1gYGhvcJCP5+ByBegOD7GzAwzD+A4LcC8VUFBP8XA4N5E4LL/cvF7yaQ\n",
       "fnsXCO4wMLB8ZmDQhRm3i4GBIwAo9hPB5wfKcf5B8PdPYGDg+ojgg6y3L4AZDraeOxxh/Yv/q1aV\n",
       "A7UAAFRxJOZ+1MVPAAAAAElFTkSuQmCC\n",
       "\" style=\"display:inline;vertical-align:middle;\" /></a></td></tr>\n",
       "<tr><td>6</td><td>Literal</td><td></td><td><a class=\"ProveItLink\" href=\"../087d0b4ded7c7e5bf3bba05ecb616d7a8051ff650/expr.ipynb\"><img src=\"data:image/png;base64,iVBORw0KGgoAAAANSUhEUgAAAAwAAAAOBAMAAADpk+DfAAAALVBMVEX///+YmJh2dnZmZmaqqqrc\n",
       "3NwyMjLu7u4iIiJERESIiIhUVFTMzMy6uroAAAD0I/TTAAAAAXRSTlMAQObYZgAAAEtJREFUCNdj\n",
       "uMAABDwMe0DUKoaTIKqdgS2AgYHFAITAzHYGsMQqBoa9QIqDgT0BSDE7MAkAKdYEDpAehj1SYOpk\n",
       "O5hiMwBTPAUMDAB33Atnw8aG2QAAAABJRU5ErkJggg==\n",
       "\" style=\"display:inline;vertical-align:middle;\" /></a></td></tr>\n",
       "<tr><td>7</td><td>ExprTuple</td><td>9, 10</td><td><a class=\"ProveItLink\" href=\"../caee09fb4b5c95b986a9cee46a014afbad9bdc680/expr.ipynb\"><img src=\"data:image/png;base64,iVBORw0KGgoAAAANSUhEUgAAADUAAAAVBAMAAAAUZLt1AAAAMFBMVEX////c3NwiIiJERESqqqqY\n",
       "mJh2dnZmZmYQEBDu7u4yMjJUVFTMzMyIiIi6uroAAAAs73DqAAAAAXRSTlMAQObYZgAAATZJREFU\n",
       "KM9jYMAH+C5gFY4DEach7EMwQdb9v3dvXsfAfgDIXgkRWg/XwWHAwFD/gGEBAwMvxEhW/QkwufNA\n",
       "kfMbGMKAqiBiIvUCMLn7QFZ8AsMMBoZXEIEL9x/A5CyAWGMCA7MDQxnEsRP8A2ByvxkYpCwZGNgK\n",
       "GJaC+fPAtoABz++711WBNMsChj6wwAMG+QKoHO9HBoZJG4BGNTD8A6vdvXu/AVSOuQEo/xUo9gEi\n",
       "xwd07wKoHD9QD+s3sFwLiO/AwMDUAPMe0FHcX8BmmgK5jEA5rg8MDBNg3pMHGsK6gCEdyJ0FsuYn\n",
       "A+cnqPd4uiaA/fCIgUG4fyEDq/2vAs5+oJbi/7t3rwL5lesBA4cAUnQhsUFhxpqA4LIiR2AuIo7Q\n",
       "5ThBfpJG8JFTADfIfEbsaeIOAwMABOxNRsfkiy0AAAAASUVORK5CYII=\n",
       "\" style=\"display:inline;vertical-align:middle;\" /></a></td></tr>\n",
       "<tr><td>8</td><td>Literal</td><td></td><td><a class=\"ProveItLink\" href=\"../../../negation/__pv_it/7bea79645543c2413aa17e787cca04e21046fde60/expr.ipynb\"><img src=\"data:image/png;base64,iVBORw0KGgoAAAANSUhEUgAAAAwAAAAGBAMAAAAFwGKyAAAAFVBMVEX///9UVFTMzMx2dnYiIiJm\n",
       "ZmYAAACWz4ZEAAAAAXRSTlMAQObYZgAAABRJREFUCNdjCHEBAmcGMFDEQzEBAEl+Ai6uYJv/AAAA\n",
       "AElFTkSuQmCC\n",
       "\" style=\"display:inline;vertical-align:middle;\" /></a></td></tr>\n",
       "<tr><td>9</td><td>Variable</td><td></td><td><a class=\"ProveItLink\" href=\"../../../../../__pv_it/2cbe72a7ad6f655694dd697106680215e8489b600/expr.ipynb\"><img src=\"data:image/png;base64,iVBORw0KGgoAAAANSUhEUgAAAA8AAAAOBAMAAAACpFvcAAAALVBMVEX///8QEBBERERUVFS6urqI\n",
       "iIhmZmaqqqrc3Nzu7u6YmJgyMjIiIiLMzMwAAADtIaYWAAAAAXRSTlMAQObYZgAAAFtJREFUCNdj\n",
       "YACBOwxQsA9Kc52bAGG05zVAGAFxDmCaZULdAjBjCsO9ADDDgaEvAUTzGhvbKYCVMDAwbgAxChgY\n",
       "eASANAeQwf0AyJgNxEwvGRia5HYwcOm9TgAA6BoR3jrzwFcAAAAASUVORK5CYII=\n",
       "\" style=\"display:inline;vertical-align:middle;\" /></a></td></tr>\n",
       "<tr><td>10</td><td>Variable</td><td></td><td><a class=\"ProveItLink\" href=\"../../../../../__pv_it/077b2ff79244fb4582cbe22c6e3356fa92a52f2f0/expr.ipynb\"><img src=\"data:image/png;base64,iVBORw0KGgoAAAANSUhEUgAAABAAAAAOBAMAAADUAYG5AAAAMFBMVEX///+qqqru7u4iIiJ2dnbc\n",
       "3NyIiIjMzMxmZmYQEBC6uroyMjJERERUVFSYmJgAAADLUcuvAAAAAXRSTlMAQObYZgAAAGpJREFU\n",
       "CNdjYGB4+//u3dMLGIBgDgMDxy8gzf4NiP8CGWxfGRj4vgAZPBMYGJgnARn8FxhY9ygAGfXX0pof\n",
       "gDTlBzAw2YIYJ0EckBBI53sHoBH/gIz7AhBjWH9DjancBLTl/N+7t/cxMAAA3u4f/5xagjYAAAAA\n",
       "SUVORK5CYII=\n",
       "\" style=\"display:inline;vertical-align:middle;\" /></a></td></tr>\n",
       "</table>\n"
      ],
      "text/plain": [
       "0. B -> FALSE | A or B , [not](A) , [not](B)\n",
       "   core type: Lambda\n",
       "   parameter: 10\n",
       "   body: 1\n",
       "   conditions: 2\\n1. FALSE\n",
       "   core type: Literal\n",
       "   sub-expressions: \n",
       "2. (A or B , [not](A) , [not](B))\n",
       "   core type: ExprTuple\n",
       "   sub-expressions: 3, 4, 5\n",
       "3. A or B\n",
       "   core type: Operation\n",
       "   operator: 6\n",
       "   operands: 7\n",
       "4. [not](A)\n",
       "   core type: Operation\n",
       "   operator: 8\n",
       "   operand: 9\n",
       "5. [not](B)\n",
       "   core type: Operation\n",
       "   operator: 8\n",
       "   operand: 10\n",
       "6. or\n",
       "   core type: Literal\n",
       "   sub-expressions: \n",
       "7. (A , B)\n",
       "   core type: ExprTuple\n",
       "   sub-expressions: 9, 10\n",
       "8. not\n",
       "   core type: Literal\n",
       "   sub-expressions: \n",
       "9. A\n",
       "   core type: Variable\n",
       "   sub-expressions: \n",
       "10. B\n",
       "    core type: Variable\n",
       "    sub-expressions: "
      ]
     },
     "execution_count": 4,
     "metadata": {},
     "output_type": "execute_result"
    }
   ],
   "source": [
    "# display the expression information\n",
    "expr.exprInfo()"
   ]
  },
  {
   "cell_type": "code",
   "execution_count": null,
   "metadata": {},
   "outputs": [],
   "source": []
  }
 ],
 "metadata": {
  "kernelspec": {
   "display_name": "Python 3",
   "language": "python",
   "name": "python3"
  }
 },
 "nbformat": 4,
 "nbformat_minor": 0
}
