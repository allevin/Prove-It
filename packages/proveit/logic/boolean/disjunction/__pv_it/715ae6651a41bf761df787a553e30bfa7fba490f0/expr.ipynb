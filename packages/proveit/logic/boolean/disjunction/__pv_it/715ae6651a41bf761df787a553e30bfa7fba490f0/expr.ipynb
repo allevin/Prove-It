{
 "cells": [
  {
   "cell_type": "markdown",
   "metadata": {},
   "source": [
    "Expression of type <a class=\"ProveItLink\" href=\"../../../../../../../doc/html/api/proveit.logic.Set.html\">Set</a>\n",
    "=======================\n",
    "# from context <a class=\"ProveItLink\" href=\"../../_context_.ipynb\">proveit.logic.boolean.disjunction</a>"
   ]
  },
  {
   "cell_type": "code",
   "execution_count": 1,
   "metadata": {},
   "outputs": [],
   "source": [
    "# import Expression classes needed to build the expression\n",
    "from proveit._common_ import C, E\n",
    "from proveit.logic import Implies, Set"
   ]
  },
  {
   "cell_type": "code",
   "execution_count": 2,
   "metadata": {},
   "outputs": [
    {
     "data": {
      "text/html": [
       "<strong id=\"expr\">expr:</strong> <a class=\"ProveItLink\" href=\"expr.ipynb\"><img src=\"data:image/png;base64,iVBORw0KGgoAAAANSUhEUgAAAFMAAAAVBAMAAADInc9CAAAAMFBMVEX////c3NxERESqqqpUVFS6\n",
       "urrMzMwyMjIQEBCIiIh2dnYiIiLu7u5mZmaYmJgAAABXZE4RAAAAAXRSTlMAQObYZgAAAVNJREFU\n",
       "KM9jYGDgu8dACLCtEgBRPLsYCAO2ZhDJ+QGsYZLvPcYLmGqm/Hdxcf/OwHAdxOFqAJErHjCw3niA\n",
       "xTygMgYjoDxc6fE9QGK9AEyeB66S9SeQ4EVWWnEASETAFbAfgLG4vgGJk0hKeT+DWLIIsxzgmj4w\n",
       "cDEwIimVLwCxjiFcuBLG4FdgeAf2C4jgBSq7j/DQ7d0gsB8WGPEl7h9B9HsQkRHAwLBfAN3j5gEQ\n",
       "en0CA9hGdqDelDYg4z9Y+ACSUp4KiNp6BoYFDAlAhjrQ4gggox8kypyApDR9DYT+xMAgwDOBgYF7\n",
       "AZDDArTA/wAk9OBu3a2DFKxcB6Bu5drAwJAP1MewBslQE+RglWVACiw+YLjGInmNsQARrAxs25CV\n",
       "MqSU3DVAMpQJqu2I/hcXl/0bUJSipzkMEZxKGbAr5SNKKTi98uwkJhe0gim+xcTlLQAEaV08RNjF\n",
       "PgAAAABJRU5ErkJggg==\n",
       "\" style=\"display:inline;vertical-align:middle;\" /></a><br>"
      ],
      "text/plain": [
       "expr: {C => E}"
      ]
     },
     "execution_count": 2,
     "metadata": {},
     "output_type": "execute_result"
    }
   ],
   "source": [
    "# build up the expression from sub-expressions\n",
    "expr = Set(Implies(C, E))"
   ]
  },
  {
   "cell_type": "code",
   "execution_count": 3,
   "metadata": {},
   "outputs": [
    {
     "name": "stdout",
     "output_type": "stream",
     "text": [
      "Passed sanity check: built 'expr' is the same as the stored Expression.\n"
     ]
    }
   ],
   "source": [
    "# check that the built expression is the same as the stored expression\n",
    "%check_expr"
   ]
  },
  {
   "cell_type": "code",
   "execution_count": 4,
   "metadata": {},
   "outputs": [
    {
     "data": {
      "text/html": [
       "<table><tr><th>&nbsp;</th><th>core type</th><th>sub-expressions</th><th>expression</th></tr>\n",
       "<tr><td>0</td><td>Operation</td><td>operator:&nbsp;1<br>operands:&nbsp;2<br></td><td><a class=\"ProveItLink\" href=\"expr.ipynb\"><img src=\"data:image/png;base64,iVBORw0KGgoAAAANSUhEUgAAAFMAAAAVBAMAAADInc9CAAAAMFBMVEX////c3NxERESqqqpUVFS6\n",
       "urrMzMwyMjIQEBCIiIh2dnYiIiLu7u5mZmaYmJgAAABXZE4RAAAAAXRSTlMAQObYZgAAAVNJREFU\n",
       "KM9jYGDgu8dACLCtEgBRPLsYCAO2ZhDJ+QGsYZLvPcYLmGqm/Hdxcf/OwHAdxOFqAJErHjCw3niA\n",
       "xTygMgYjoDxc6fE9QGK9AEyeB66S9SeQ4EVWWnEASETAFbAfgLG4vgGJk0hKeT+DWLIIsxzgmj4w\n",
       "cDEwIimVLwCxjiFcuBLG4FdgeAf2C4jgBSq7j/DQ7d0gsB8WGPEl7h9B9HsQkRHAwLBfAN3j5gEQ\n",
       "en0CA9hGdqDelDYg4z9Y+ACSUp4KiNp6BoYFDAlAhjrQ4gggox8kypyApDR9DYT+xMAgwDOBgYF7\n",
       "AZDDArTA/wAk9OBu3a2DFKxcB6Bu5drAwJAP1MewBslQE+RglWVACiw+YLjGInmNsQARrAxs25CV\n",
       "MqSU3DVAMpQJqu2I/hcXl/0bUJSipzkMEZxKGbAr5SNKKTi98uwkJhe0gim+xcTlLQAEaV08RNjF\n",
       "PgAAAABJRU5ErkJggg==\n",
       "\" style=\"display:inline;vertical-align:middle;\" /></a></td></tr>\n",
       "<tr><td>1</td><td>Literal</td><td></td><td><a class=\"ProveItLink\" href=\"../../../../set_theory/enumeration/__pv_it/07381ed5b23806e8d7914b78cb6667769e3708dd0/expr.ipynb\"><img src=\"data:image/png;base64,iVBORw0KGgoAAAANSUhEUgAAAB4AAAAOBAMAAADKyLEKAAAAMFBMVEX///8iIiIQEBCIiIjMzMzc\n",
       "3Nyqqqp2dnZEREQyMjK6urru7u5mZmZUVFSYmJgAAACI6eGPAAAAAXRSTlMAQObYZgAAALRJREFU\n",
       "CNdjYGDgu3Nm3wIGBJjHwN0PZW5yYGDgLWBgyITy8zcwMMQDxZyh/INAvD6BgcEFypcB4vjPDiBm\n",
       "TPFRrhs/LjMwMP//38rAwCbKEMPA9gEkE3fp0waG+AUMRxh4JkC01T9guPTOOICBEWgVH5C//wHD\n",
       "H5D4fqCz9oCMDGD4DLaegRXslLMMDMpAgxlOMmQxHDRgYG5gYLBk4D7KcIe7gOHC2rt9QCXsh40Z\n",
       "GCKMGQDRkC8N/Ph1XAAAAABJRU5ErkJggg==\n",
       "\" style=\"display:inline;vertical-align:middle;\" /></a></td></tr>\n",
       "<tr><td>2</td><td>ExprTuple</td><td>3</td><td><a class=\"ProveItLink\" href=\"../0fda3a528b81e0c123c68d374741b99475bb552b0/expr.ipynb\"><img src=\"data:image/png;base64,iVBORw0KGgoAAAANSUhEUgAAAE0AAAAVBAMAAADx+n4ZAAAAMFBMVEX////c3NwiIiJERESqqqqY\n",
       "mJh2dnZmZmYQEBDu7u4yMjJUVFTMzMyIiIi6uroAAAAs73DqAAAAAXRSTlMAQObYZgAAAWFJREFU\n",
       "KM9jYCAW8F0gqCQORJwGEXOtywPEMRXw7v+9e/f6BewHgOyVQMzWysDwvBWLSfwLGBhYDBiAJC/Q\n",
       "Ws5FE4BqP8JlJ8BZ70GOKmAIY2DgAApydYLc2QCXXQln5QNt5LzAMIOB4RWQV+8AJBgL4LKv4az1\n",
       "DAwJDAIMzA4MZUAVv0BCnAfgsmzwIPjMwBoAEihgWMrAwP4VroJdCQy+w8Ls1+71AkCaZQFDHwMD\n",
       "00d0b7Ksgxr8h4GLAeL2f0DPfwDbi6xwVh+Y4vrAwMbAw8DA8wGkjgOszgdJGc8ySNDwGzAwMswF\n",
       "q2thYOD+yQAOJYT7lCcgBV8m2F5ToOq/IKdMQHLeBqTgA4UX6wKGdCA33oGBrxDJWimk4GM4dAAc\n",
       "Lo9Aztm1vQTZF4YQinPz/927N30C+ecBA4cAZuwfQBcAxhtrAhFpNBcl0nECTmC6YpAmrI4b5DZG\n",
       "wun+DgMDAH9lVAH49MViAAAAAElFTkSuQmCC\n",
       "\" style=\"display:inline;vertical-align:middle;\" /></a></td></tr>\n",
       "<tr><td>3</td><td>Operation</td><td>operator:&nbsp;4<br>operands:&nbsp;5<br></td><td><a class=\"ProveItLink\" href=\"../5cdd690dca2fb09608566bce336a279b2d1cbca00/expr.ipynb\"><img src=\"data:image/png;base64,iVBORw0KGgoAAAANSUhEUgAAAEAAAAAPBAMAAACmSdRUAAAAMFBMVEX////MzMyqqqoiIiIyMjK6\n",
       "uroQEBB2dnbc3NyYmJhmZmZUVFRERESIiIju7u4AAAB204erAAAAAXRSTlMAQObYZgAAAO5JREFU\n",
       "GNNjYGDgu7NrJccCBgxw+//u3Vu+ABllExhYl03AVMAAktRhYHhiB6TrG2CifHB51r9AgouBwe0B\n",
       "kA6DC7M8gLHYPwKJtwxcn0CcLoS+DXClHxjYGTgY+h1AnIcIm2thDP4DDDOB1HqE8xYbg4A9zEPx\n",
       "3lt+ACn7BnTHqwRA6HoBBpDp/8GcB0gK+NwgKvwZGAoYBBjyQWwmASQFInUQ+g8DQwPfBYb9DyC+\n",
       "hbvB+BxSMLA/YJC/AKTrkAzQRg4GoPc5geEQheRQDgdEMDAwGgIZ0t6rFJAM4IEqfn3+9+7d9gaY\n",
       "McSIxgcA7SE7YkA+WH4AAAAASUVORK5CYII=\n",
       "\" style=\"display:inline;vertical-align:middle;\" /></a></td></tr>\n",
       "<tr><td>4</td><td>Literal</td><td></td><td><a class=\"ProveItLink\" href=\"../../../implication/__pv_it/e5c030cabcb650938f92dee8256fe11cd12bf9b30/expr.ipynb\"><img src=\"data:image/png;base64,iVBORw0KGgoAAAANSUhEUgAAABMAAAANBAMAAAC5okgUAAAALVBMVEX////c3NxERETMzMwQEBCq\n",
       "qqoiIiJmZmaIiIh2dnZUVFS6uroyMjLu7u4AAACPpZJTAAAAAXRSTlMAQObYZgAAAD1JREFUCNdj\n",
       "YAABXgY44LkAZ3IvQAjPABFlaSCQV4AQjtkAZ/IegbNt5sLUpunC5aPgLMYDcCaTAJzJDCIA2yMN\n",
       "HCCUuIIAAAAASUVORK5CYII=\n",
       "\" style=\"display:inline;vertical-align:middle;\" /></a></td></tr>\n",
       "<tr><td>5</td><td>ExprTuple</td><td>6, 7</td><td><a class=\"ProveItLink\" href=\"../07db547a671f690993b1113645b8adbdf0cc5ba10/expr.ipynb\"><img src=\"data:image/png;base64,iVBORw0KGgoAAAANSUhEUgAAADUAAAAVBAMAAAAUZLt1AAAAMFBMVEX////c3NwiIiJERESqqqqY\n",
       "mJh2dnZmZmYQEBDu7u4yMjJUVFTMzMyIiIi6uroAAAAs73DqAAAAAXRSTlMAQObYZgAAAT1JREFU\n",
       "KM99kr9OwzAQxr9Ak8ZpUrIxsPAIXZhY8gAMmRihG2JABAnBCAMdWFDHLhUREgNTJBiQ8EDEytIH\n",
       "6AAsSCykIAbK3zvXUCNFWMrZd7/47j7bwH+j3isNL7G5ZtOd346nR8Hg8k3KLK3mtD6hz2kB9y29\n",
       "YyoFKg2QDSilOGoTH2j2yEUSLAIuhb19rrur2TplEz10gAfydiIyVqJZBjQRYjLCFkWHHBK5Zs+w\n",
       "Y+4hwTFQffmjaSizkOZKigNgYmAy5x0eRvU/qelC5dTMK+DAB/yCmavYwo+8Bix0FdsDaq9Qigx5\n",
       "qyrnHP3xwWXaOivLYz12ihVylyPUN4DDWS0PV7nScEdL/+J8k6YO9SvOvqQ8feKebuCG4/ZvTS10\n",
       "ZnZz7MYmW9N3VMIE3RFmft3A3FbjWlb5m+gD35isTLu2GV3TAAAAAElFTkSuQmCC\n",
       "\" style=\"display:inline;vertical-align:middle;\" /></a></td></tr>\n",
       "<tr><td>6</td><td>Variable</td><td></td><td><a class=\"ProveItLink\" href=\"../../../../../__pv_it/985a1bdf1540838275dec15f4ad6de261cca93ce0/expr.ipynb\"><img src=\"data:image/png;base64,iVBORw0KGgoAAAANSUhEUgAAAA8AAAAOBAMAAAACpFvcAAAAMFBMVEX////MzMyqqqoiIiIyMjK6\n",
       "uroQEBB2dnbc3NyYmJhmZmZUVFRERESIiIju7u4AAAB204erAAAAAXRSTlMAQObYZgAAAGZJREFU\n",
       "CNdjYGDgu7NrJccCBgaGsgkMrMsmMDA8sQNy6hsYGNweABlhDAxcn4A0QxcDQ78DiPGQgWH9BAYI\n",
       "sG+AMv6DSaCGfBDNJMDAsB+kmwuI5S8AiTog5gSaEwXWIO29SgFIAQBC+RaDQlidVgAAAABJRU5E\n",
       "rkJggg==\n",
       "\" style=\"display:inline;vertical-align:middle;\" /></a></td></tr>\n",
       "<tr><td>7</td><td>Variable</td><td></td><td><a class=\"ProveItLink\" href=\"../../../../../__pv_it/9995c55100c62d7d8a012a35bafc852acbe03cf00/expr.ipynb\"><img src=\"data:image/png;base64,iVBORw0KGgoAAAANSUhEUgAAABAAAAAOBAMAAADUAYG5AAAALVBMVEX///8iIiKYmJjc3Nzu7u7M\n",
       "zMx2dnZmZma6urpERESqqqoyMjJUVFSIiIgAAACbLqVTAAAAAXRSTlMAQObYZgAAAGVJREFUCNdj\n",
       "YGC48+7MmdOvGYAARKwEYo63QIIdiNmeAglfIOZ+wMDGwAxk8E1gUAIpZejbc/oxmJEXwLABzNjH\n",
       "wJDAEABkvGRgMGC5ADWGzQFqjDnEGAZWUQYGn3lvzpyRE2AAAIznGVQJqiN4AAAAAElFTkSuQmCC\n",
       "\" style=\"display:inline;vertical-align:middle;\" /></a></td></tr>\n",
       "</table>\n"
      ],
      "text/plain": [
       "0. {C => E}\n",
       "   core type: Operation\n",
       "   operator: 1\n",
       "   operands: 2\n",
       "1. Set\n",
       "   core type: Literal\n",
       "   sub-expressions: \n",
       "2. (C => E)\n",
       "   core type: ExprTuple\n",
       "   sub-expressions: 3\n",
       "3. C => E\n",
       "   core type: Operation\n",
       "   operator: 4\n",
       "   operands: 5\n",
       "4. =>\n",
       "   core type: Literal\n",
       "   sub-expressions: \n",
       "5. (C , E)\n",
       "   core type: ExprTuple\n",
       "   sub-expressions: 6, 7\n",
       "6. C\n",
       "   core type: Variable\n",
       "   sub-expressions: \n",
       "7. E\n",
       "   core type: Variable\n",
       "   sub-expressions: "
      ]
     },
     "execution_count": 4,
     "metadata": {},
     "output_type": "execute_result"
    }
   ],
   "source": [
    "# display the expression information\n",
    "expr.exprInfo()"
   ]
  },
  {
   "cell_type": "code",
   "execution_count": null,
   "metadata": {},
   "outputs": [],
   "source": []
  }
 ],
 "metadata": {
  "kernelspec": {
   "display_name": "Python 3",
   "language": "python",
   "name": "python3"
  }
 },
 "nbformat": 4,
 "nbformat_minor": 0
}
