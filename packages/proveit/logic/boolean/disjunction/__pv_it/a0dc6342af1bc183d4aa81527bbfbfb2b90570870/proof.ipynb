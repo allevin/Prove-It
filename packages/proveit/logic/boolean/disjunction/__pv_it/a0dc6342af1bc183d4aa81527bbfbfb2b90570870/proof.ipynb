{
 "cells": [
  {
   "cell_type": "markdown",
   "metadata": {},
   "source": [
    "Show the Proof\n",
    "========"
   ]
  },
  {
   "cell_type": "code",
   "execution_count": 1,
   "metadata": {},
   "outputs": [
    {
     "data": {
      "text/html": [
       "<table><tr><th>&nbsp;</th><th>step type</th><th>requirements</th><th>statement</th></tr>\n",
       "<tr><td>0</td><td>assumption</td><td></td><td><span style=\"font-size:20px;\"><a class=\"ProveItLink\" href=\"../bdda2c0d166ea8ece68f57303e0262cbf7f0b8650/expr.ipynb\"><img src=\"data:image/png;base64,iVBORw0KGgoAAAANSUhEUgAAAEsAAAAVBAMAAAD85A5eAAAAMFBMVEX////c3NxERESqqqpUVFS6\n",
       "urrMzMwyMjIQEBCIiIh2dnYiIiLu7u5mZmaYmJgAAABXZE4RAAAAAXRSTlMAQObYZgAAAWhJREFU\n",
       "KM9jYGDgu8eAD7CtEgBRPLsY8AO2ZhDJ+QGseJLvPcYLKNKc/l9c3NWAjOsgHlcDiFzxgIH1xgMG\n",
       "BlawigQwyV/AwGBvAJSDKzu+B0isBzqCBaSCcwJYWf4CBgbeP8jKKg4AiQiQQxSABPcBsLL5AUD+\n",
       "TyRlvJ9BLFkQUQjEthDH6QMx4xckZfIFINYxBqiSQoiyTyDTYcp4gUruP4D7D2gh2GKIfQx8vxgY\n",
       "3oN4GUAX7BdABMMEBpYACOsbkGD5ysDADgyolDYg5z9YHOLwDQzHIRqYQAHKAfKgOtCyCGAQ9IOE\n",
       "mSGhdZlhHUQZP8ju90AV3AtAxgLd5g8yiBciKw40DxJsoNBrYoC6jWsDVGQNRJYlDxK4DPOBpjPV\n",
       "MCAFCB8w3GKh3mDTPgAPNrZaBmRlDCkldw1gfgVLMfBc+u/iopuAqgwZ5KCnJOzKGLAq4yOoDJze\n",
       "eHYSSr2tYIpvMeG8AAC+EFiGvE0dmAAAAABJRU5ErkJggg==\n",
       "\" style=\"display:inline;vertical-align:middle;\" /></a> <a class=\"ProveItLink\" href=\"proof.ipynb\" style=\"text-decoration: none\">&#x22A2;&nbsp;</a><a class=\"ProveItLink\" href=\"../d094b40ee7280f68ea040dbf7871cf82c8e06b1e0/expr.ipynb\"><img src=\"data:image/png;base64,iVBORw0KGgoAAAANSUhEUgAAADgAAAAPBAMAAABD1xE4AAAAMFBMVEX////MzMyqqqoiIiIyMjK6\n",
       "uroQEBB2dnbc3NyYmJhmZmZUVFRERESIiIju7u4AAAB204erAAAAAXRSTlMAQObYZgAAAQZJREFU\n",
       "GNNjYGDgu7NrJccCBmTAu//37i0HQayyCQysyyYwMLCCxQXAJL8DA4O+AgPDEzsgp76BgYEbJM57\n",
       "ASwpX8DAwPWPgcHtAZATBsSMB4AE8wOw5P0AIP8vA9cnEKcLRHgAsRbE0vNAzPGbod8BxHnIAJXw\n",
       "gEj+AZn0m2H9BLgbgUaCjQabyMDA+Z3BvgHhgQsM3AEQ1kcgwf2V4T+YB3GGAcMTiDKeD0CCLYEh\n",
       "H8RhgvhuEUMlRJIfZPr8CQz7QZq4IGItQL0Qb4J8mwOl6yBi3JKQIGC4DzSJxw/oJqA/o6COYjz8\n",
       "AO5NRi8QQ9p7lQLMvWABBr41/3fvPiXAgAbkULkASfM+HSLH3coAAAAASUVORK5CYII=\n",
       "\" style=\"display:inline;vertical-align:middle;\" /></a></span></td></tr>\n",
       "</table>"
      ],
      "text/plain": [
       "<proveit._core_.proof._ShowProof at 0x7f94eaf3f710>"
      ]
     },
     "execution_count": 1,
     "metadata": {},
     "output_type": "execute_result"
    }
   ],
   "source": [
    "import proveit\n",
    "%show_proof"
   ]
  },
  {
   "cell_type": "code",
   "execution_count": null,
   "metadata": {},
   "outputs": [],
   "source": []
  }
 ],
 "metadata": {
  "kernelspec": {
   "display_name": "Python 3",
   "language": "python",
   "name": "python3"
  }
 },
 "nbformat": 4,
 "nbformat_minor": 0
}
