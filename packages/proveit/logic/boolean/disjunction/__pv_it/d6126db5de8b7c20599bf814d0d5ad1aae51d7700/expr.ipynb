{
 "cells": [
  {
   "cell_type": "markdown",
   "metadata": {},
   "source": [
    "Expression of type <a class=\"ProveItLink\" href=\"../../../../../../../doc/html/api/proveit.logic.Or.html\">Or</a>\n",
    "=======================\n",
    "# from context <a class=\"ProveItLink\" href=\"../../_context_.ipynb\">proveit.logic.boolean.disjunction</a>"
   ]
  },
  {
   "cell_type": "code",
   "execution_count": 1,
   "metadata": {},
   "outputs": [],
   "source": [
    "# import Expression classes needed to build the expression\n",
    "from proveit._common_ import A, B, C, D, E\n",
    "from proveit.logic import Or"
   ]
  },
  {
   "cell_type": "code",
   "execution_count": 2,
   "metadata": {},
   "outputs": [
    {
     "data": {
      "text/html": [
       "<strong id=\"expr\">expr:</strong> <a class=\"ProveItLink\" href=\"expr.ipynb\"><img src=\"data:image/png;base64,iVBORw0KGgoAAAANSUhEUgAAAK8AAAAPBAMAAABgoIKoAAAAMFBMVEX///92dnYQEBBERERUVFS6\n",
       "urqIiIhmZmaqqqrc3Nzu7u6YmJgyMjIiIiLMzMwAAACFkkdwAAAAAXRSTlMAQObYZgAAAhVJREFU\n",
       "OMudlM9LG1EQx7+aZE2ydiMe7UHpuWDwWCoJuNCTJPTisYJij5F6aKHQ5OaxCx70IGQvbS+27H+g\n",
       "aEsRhIhHPejBU6tEaSq2ptqZeRuzs9588Oa9fHbmzY83eQCPU8RGdubZ28y8QrM3rrt1pNXsUsud\n",
       "+KaZRcxtbJgfDRYp2RrTwQCpV4FmbSB9GdPrzQPVsmY5OjSdN44PfZJJ5tY0g7V9EsOeYs45iaqv\n",
       "GJq0NIuaveDFZLtS9diSvTxgF9hk+Vwz63d4UIShQobrA5oNk5Os8TFdKfOyTXORN32cMZYVQ+KM\n",
       "RL2oGMZo7vmaUV0H4Elx/fcBwg+sgLqU/otiyHFQnHaEoQWsPtF6+AU7MLsPkqGkIimhGtze8S0z\n",
       "Opx2hDmtuZcHMb1U2214xriMutSaip+Umhx63ebpMFT4fkplxaw/wOei1uu5Rr+xdVy3ZJztYk3W\n",
       "G5G+YiiweKRZYoSOvNKs/ww9cML+7TX9/AYPZR1lkT5SjEpHfXmlWY6itc9jLI8MPvKuRhUaEbZK\n",
       "fnmUONg+KOZchP+HCEOTLiN5qZm08RDNTE3C55H82W17+RZh1jWJp75i0samhbqM21heAy5N4q+J\n",
       "atwY2hTEVHiBHcZtfDKvGbex89jXjJ+HUzp8aXQbdqFtTL6HvXD89XWt0xeGfSrQc/NOMyzQu7QT\n",
       "KJadIDb5L/6o/cDdcU/2H3jetikLlYMDAAAAAElFTkSuQmCC\n",
       "\" style=\"display:inline;vertical-align:middle;\" /></a><br>"
      ],
      "text/plain": [
       "expr: A or C or D or B or E"
      ]
     },
     "execution_count": 2,
     "metadata": {},
     "output_type": "execute_result"
    }
   ],
   "source": [
    "# build up the expression from sub-expressions\n",
    "expr = Or(A, C, D, B, E)"
   ]
  },
  {
   "cell_type": "code",
   "execution_count": 3,
   "metadata": {},
   "outputs": [
    {
     "name": "stdout",
     "output_type": "stream",
     "text": [
      "Passed sanity check: built 'expr' is the same as the stored Expression.\n"
     ]
    }
   ],
   "source": [
    "# check that the built expression is the same as the stored expression\n",
    "%check_expr"
   ]
  },
  {
   "cell_type": "code",
   "execution_count": 4,
   "metadata": {},
   "outputs": [
    {
     "data": {
      "text/html": [
       "<table><tr><th>&nbsp;</th><th>core type</th><th>sub-expressions</th><th>expression</th></tr>\n",
       "<tr><td>0</td><td>Operation</td><td>operator:&nbsp;1<br>operands:&nbsp;2<br></td><td><a class=\"ProveItLink\" href=\"expr.ipynb\"><img src=\"data:image/png;base64,iVBORw0KGgoAAAANSUhEUgAAAK8AAAAPBAMAAABgoIKoAAAAMFBMVEX///92dnYQEBBERERUVFS6\n",
       "urqIiIhmZmaqqqrc3Nzu7u6YmJgyMjIiIiLMzMwAAACFkkdwAAAAAXRSTlMAQObYZgAAAhVJREFU\n",
       "OMudlM9LG1EQx7+aZE2ydiMe7UHpuWDwWCoJuNCTJPTisYJij5F6aKHQ5OaxCx70IGQvbS+27H+g\n",
       "aEsRhIhHPejBU6tEaSq2ptqZeRuzs9588Oa9fHbmzY83eQCPU8RGdubZ28y8QrM3rrt1pNXsUsud\n",
       "+KaZRcxtbJgfDRYp2RrTwQCpV4FmbSB9GdPrzQPVsmY5OjSdN44PfZJJ5tY0g7V9EsOeYs45iaqv\n",
       "GJq0NIuaveDFZLtS9diSvTxgF9hk+Vwz63d4UIShQobrA5oNk5Os8TFdKfOyTXORN32cMZYVQ+KM\n",
       "RL2oGMZo7vmaUV0H4Elx/fcBwg+sgLqU/otiyHFQnHaEoQWsPtF6+AU7MLsPkqGkIimhGtze8S0z\n",
       "Opx2hDmtuZcHMb1U2214xriMutSaip+Umhx63ebpMFT4fkplxaw/wOei1uu5Rr+xdVy3ZJztYk3W\n",
       "G5G+YiiweKRZYoSOvNKs/ww9cML+7TX9/AYPZR1lkT5SjEpHfXmlWY6itc9jLI8MPvKuRhUaEbZK\n",
       "fnmUONg+KOZchP+HCEOTLiN5qZm08RDNTE3C55H82W17+RZh1jWJp75i0samhbqM21heAy5N4q+J\n",
       "atwY2hTEVHiBHcZtfDKvGbex89jXjJ+HUzp8aXQbdqFtTL6HvXD89XWt0xeGfSrQc/NOMyzQu7QT\n",
       "KJadIDb5L/6o/cDdcU/2H3jetikLlYMDAAAAAElFTkSuQmCC\n",
       "\" style=\"display:inline;vertical-align:middle;\" /></a></td></tr>\n",
       "<tr><td>1</td><td>Literal</td><td></td><td><a class=\"ProveItLink\" href=\"../087d0b4ded7c7e5bf3bba05ecb616d7a8051ff650/expr.ipynb\"><img src=\"data:image/png;base64,iVBORw0KGgoAAAANSUhEUgAAAAwAAAAOBAMAAADpk+DfAAAALVBMVEX///+YmJh2dnZmZmaqqqrc\n",
       "3NwyMjLu7u4iIiJERESIiIhUVFTMzMy6uroAAAD0I/TTAAAAAXRSTlMAQObYZgAAAEtJREFUCNdj\n",
       "uMAABDwMe0DUKoaTIKqdgS2AgYHFAITAzHYGsMQqBoa9QIqDgT0BSDE7MAkAKdYEDpAehj1SYOpk\n",
       "O5hiMwBTPAUMDAB33Atnw8aG2QAAAABJRU5ErkJggg==\n",
       "\" style=\"display:inline;vertical-align:middle;\" /></a></td></tr>\n",
       "<tr><td>2</td><td>ExprTuple</td><td>3, 4, 5, 6, 7</td><td><a class=\"ProveItLink\" href=\"../10919bc0ee2b21ebe8ee9f6cb3528fc151bb27a40/expr.ipynb\"><img src=\"data:image/png;base64,iVBORw0KGgoAAAANSUhEUgAAAIMAAAAVBAMAAACXjEALAAAAMFBMVEX////c3NwiIiJERESqqqqY\n",
       "mJh2dnZmZmYQEBDu7u4yMjJUVFTMzMyIiIi6uroAAAAs73DqAAAAAXRSTlMAQObYZgAAAkFJREFU\n",
       "OMutVL9rU1EU/mLzkr70vTSgIOgQF0GnZhHUJfkPfJOjZms7lAbEH4OQDA7iYEKXFtH2iQj+ACN2\n",
       "cHhDQkc7JODgYEuii+Ji1Fowqa3n3HvuyyuYxfrgHc53zj3nfueecy/wH750+yDRl1isa30ttNpv\n",
       "X1+NlbT+fi8IHjXFYTUGweoLAS6BoO4n2flUm+phihkP6RuegD4Q3zKe8RxQ7gqY9MmVA0lX12FN\n",
       "1cR17zSJ+YwGzjaJsnG1aG3rpYCvHFjCRcqs/UfKEoQnbPhs6O5KpPo6tOZyUcA8lWC3sQR80YZ2\n",
       "RwgmFe2jsm6sRyJrNj5L/ylDiSovIoOxAq7pttQuSPVZn+V9U3AOEe4D4Ng5czA/YHFIooTHCi+H\n",
       "bMtetGfKarg7g813J8NZ6Ad1rj3u464ydJGVNk5loik63LOG1Oh+AxYMo8QOUipVBbsqfxA0ctq1\n",
       "p6QpOM/itjmYCqX5KSDVQwIOhfZ0ijR1xteuKot4MyyY+m2iJomBtT08pRgeqBS3GBeAQxXtajCB\n",
       "pKxzfstA6YOhY5rYio7FrCrkDGmxgiKm6LfEpUpxd0icr8EOx4IaZodjwdfA8jHNA8mF/oL9nWnT\n",
       "Np8yWldj8YbWrZyQsXDu1ATwhVhrqqZ+BA5XH8LK90t2lbux/vw6kVL6Yp7u1U2yLVEvcIWu3DNP\n",
       "A3uVwCveJtXFeKSJ6RE68GEkoAG3ikNo4e864I0Ec8PL/o8pbJ6F40Mcfb/2vWXuSDDB9cYO9PBt\n",
       "AH8AnHmp7krGta8AAAAASUVORK5CYII=\n",
       "\" style=\"display:inline;vertical-align:middle;\" /></a></td></tr>\n",
       "<tr><td>3</td><td>Variable</td><td></td><td><a class=\"ProveItLink\" href=\"../../../../../__pv_it/2cbe72a7ad6f655694dd697106680215e8489b600/expr.ipynb\"><img src=\"data:image/png;base64,iVBORw0KGgoAAAANSUhEUgAAAA8AAAAOBAMAAAACpFvcAAAALVBMVEX///8QEBBERERUVFS6urqI\n",
       "iIhmZmaqqqrc3Nzu7u6YmJgyMjIiIiLMzMwAAADtIaYWAAAAAXRSTlMAQObYZgAAAFtJREFUCNdj\n",
       "YACBOwxQsA9Kc52bAGG05zVAGAFxDmCaZULdAjBjCsO9ADDDgaEvAUTzGhvbKYCVMDAwbgAxChgY\n",
       "eASANAeQwf0AyJgNxEwvGRia5HYwcOm9TgAA6BoR3jrzwFcAAAAASUVORK5CYII=\n",
       "\" style=\"display:inline;vertical-align:middle;\" /></a></td></tr>\n",
       "<tr><td>4</td><td>Variable</td><td></td><td><a class=\"ProveItLink\" href=\"../../../../../__pv_it/985a1bdf1540838275dec15f4ad6de261cca93ce0/expr.ipynb\"><img src=\"data:image/png;base64,iVBORw0KGgoAAAANSUhEUgAAAA8AAAAOBAMAAAACpFvcAAAAMFBMVEX////MzMyqqqoiIiIyMjK6\n",
       "uroQEBB2dnbc3NyYmJhmZmZUVFRERESIiIju7u4AAAB204erAAAAAXRSTlMAQObYZgAAAGZJREFU\n",
       "CNdjYGDgu7NrJccCBgaGsgkMrMsmMDA8sQNy6hsYGNweABlhDAxcn4A0QxcDQ78DiPGQgWH9BAYI\n",
       "sG+AMv6DSaCGfBDNJMDAsB+kmwuI5S8AiTog5gSaEwXWIO29SgFIAQBC+RaDQlidVgAAAABJRU5E\n",
       "rkJggg==\n",
       "\" style=\"display:inline;vertical-align:middle;\" /></a></td></tr>\n",
       "<tr><td>5</td><td>Variable</td><td></td><td><a class=\"ProveItLink\" href=\"../../../../../__pv_it/185e6d30f167ee2ee5ef3321098dc98e0d77bc590/expr.ipynb\"><img src=\"data:image/png;base64,iVBORw0KGgoAAAANSUhEUgAAABEAAAAOBAMAAAA7w+qHAAAALVBMVEX///8QEBCYmJjc3Ny6urru\n",
       "7u5mZmZ2dnaqqqrMzMxEREQyMjJUVFSIiIgAAABETr/8AAAAAXRSTlMAQObYZgAAAGpJREFUCNdj\n",
       "YGC48+7MmV0TGEDgNQMDxwsQg/M5kMgLABK8T4DEvAtAgusBkLA7ACT4FoDEDsAk9AqAxD2QCecc\n",
       "gMQ6kAGCIOIVEDM9Ahn3FkgwgnTxvgQSqwOgxs1OADLC1r05cyoTyAAAv4Qe+njAWvgAAAAASUVO\n",
       "RK5CYII=\n",
       "\" style=\"display:inline;vertical-align:middle;\" /></a></td></tr>\n",
       "<tr><td>6</td><td>Variable</td><td></td><td><a class=\"ProveItLink\" href=\"../../../../../__pv_it/077b2ff79244fb4582cbe22c6e3356fa92a52f2f0/expr.ipynb\"><img src=\"data:image/png;base64,iVBORw0KGgoAAAANSUhEUgAAABAAAAAOBAMAAADUAYG5AAAAMFBMVEX///+qqqru7u4iIiJ2dnbc\n",
       "3NyIiIjMzMxmZmYQEBC6uroyMjJERERUVFSYmJgAAADLUcuvAAAAAXRSTlMAQObYZgAAAGpJREFU\n",
       "CNdjYGB4+//u3dMLGIBgDgMDxy8gzf4NiP8CGWxfGRj4vgAZPBMYGJgnARn8FxhY9ygAGfXX0pof\n",
       "gDTlBzAw2YIYJ0EckBBI53sHoBH/gIz7AhBjWH9DjancBLTl/N+7t/cxMAAA3u4f/5xagjYAAAAA\n",
       "SUVORK5CYII=\n",
       "\" style=\"display:inline;vertical-align:middle;\" /></a></td></tr>\n",
       "<tr><td>7</td><td>Variable</td><td></td><td><a class=\"ProveItLink\" href=\"../../../../../__pv_it/9995c55100c62d7d8a012a35bafc852acbe03cf00/expr.ipynb\"><img src=\"data:image/png;base64,iVBORw0KGgoAAAANSUhEUgAAABAAAAAOBAMAAADUAYG5AAAALVBMVEX///8iIiKYmJjc3Nzu7u7M\n",
       "zMx2dnZmZma6urpERESqqqoyMjJUVFSIiIgAAACbLqVTAAAAAXRSTlMAQObYZgAAAGVJREFUCNdj\n",
       "YGC48+7MmdOvGYAARKwEYo63QIIdiNmeAglfIOZ+wMDGwAxk8E1gUAIpZejbc/oxmJEXwLABzNjH\n",
       "wJDAEABkvGRgMGC5ADWGzQFqjDnEGAZWUQYGn3lvzpyRE2AAAIznGVQJqiN4AAAAAElFTkSuQmCC\n",
       "\" style=\"display:inline;vertical-align:middle;\" /></a></td></tr>\n",
       "</table>\n"
      ],
      "text/plain": [
       "0. A or C or D or B or E\n",
       "   core type: Operation\n",
       "   operator: 1\n",
       "   operands: 2\n",
       "1. or\n",
       "   core type: Literal\n",
       "   sub-expressions: \n",
       "2. (A , C , D , B , E)\n",
       "   core type: ExprTuple\n",
       "   sub-expressions: 3, 4, 5, 6, 7\n",
       "3. A\n",
       "   core type: Variable\n",
       "   sub-expressions: \n",
       "4. C\n",
       "   core type: Variable\n",
       "   sub-expressions: \n",
       "5. D\n",
       "   core type: Variable\n",
       "   sub-expressions: \n",
       "6. B\n",
       "   core type: Variable\n",
       "   sub-expressions: \n",
       "7. E\n",
       "   core type: Variable\n",
       "   sub-expressions: "
      ]
     },
     "execution_count": 4,
     "metadata": {},
     "output_type": "execute_result"
    }
   ],
   "source": [
    "# display the expression information\n",
    "expr.exprInfo()"
   ]
  },
  {
   "cell_type": "code",
   "execution_count": null,
   "metadata": {},
   "outputs": [],
   "source": []
  }
 ],
 "metadata": {
  "kernelspec": {
   "display_name": "Python 3",
   "language": "python",
   "name": "python3"
  }
 },
 "nbformat": 4,
 "nbformat_minor": 0
}
