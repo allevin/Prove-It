{
 "cells": [
  {
   "cell_type": "markdown",
   "metadata": {},
   "source": [
    "Expression of type <a class=\"ProveItLink\" href=\"../../../../../../../doc/html/api/proveit.logic.Or.html\">Or</a>\n",
    "=======================\n",
    "# from context <a class=\"ProveItLink\" href=\"../../_context_.ipynb\">proveit.logic.boolean.disjunction</a>"
   ]
  },
  {
   "cell_type": "code",
   "execution_count": 1,
   "metadata": {},
   "outputs": [],
   "source": [
    "# import Expression classes needed to build the expression\n",
    "from proveit._common_ import A, B, C, D, E\n",
    "from proveit.logic import Or"
   ]
  },
  {
   "cell_type": "code",
   "execution_count": 2,
   "metadata": {},
   "outputs": [
    {
     "data": {
      "text/html": [
       "<strong id=\"expr\">expr:</strong> <a class=\"ProveItLink\" href=\"expr.ipynb\"><img src=\"data:image/png;base64,iVBORw0KGgoAAAANSUhEUgAAAK8AAAAPBAMAAABgoIKoAAAAMFBMVEX///8QEBAiIiKYmJjc3Nzu\n",
       "7u7MzMx2dnZmZma6urpERESqqqoyMjJUVFSIiIgAAAAoDOMTAAAAAXRSTlMAQObYZgAAAkNJREFU\n",
       "OMuNVM9rE0EYfdlsdtM0PyqlFy96qTdpwLM2R6lC96igEhUvRWjBP8AiIkIPybE3o+eW5CTixaIR\n",
       "SkHsqahkTf4Bm0BTi7VRvx+z2Ux6MTBfZl++92bezNsA+PE3DFsnGP/cG3u+TG0b1THwzubz4lUb\n",
       "YrmdskxZ9C0NYXlRw2cuEzLVtrNA+peN+dPA+vQYleQmfwv5D5U0jT1+2je6ybmAao75+Y7QqM0b\n",
       "WFjqPfX4fZvqHVGpMNn/yZ5oLDE+a4SvVUrcVaPicBfyJJA8srDsDO9ryqbm2dUyr5vtwYfLE5Ka\n",
       "XDXCna7Ya9J4I0CGBJwZC6s0qLirNjXTo7K4S6VQwyWB+BfukPMJ3hVhBJqCFHbh7gSjmCs3nirb\n",
       "1AIbWmbhF59afVWbNZ7oc1PdsGWxTr3f95/IWkMsfRBnIaYKb36FyuMythSj0/9qGqtYFGd0STnN\n",
       "WLeE1EWMYk4/Fo6pXXbQrmquVjQ9DlJmCS8M27rR87il0EsmFUexQk+OAja1zuUMl2OglBLf6YZf\n",
       "NEcMJLRxDY8UGkQOh1hChF/Dph5zVg+iGPtyK+6WY5zRdTtTMrtO+xMP3NtujGK5Q66ahSGV445E\n",
       "LYqxeS33rui325AUCvt+B1GMXfPiG8yLtxRT8yy3EWiM4V1QdMm8HnyEmUPdwatgGOO7H2Fh8w1M\n",
       "PIVN5Rg/ZBe364MwnFO7yKqvhXNNJOsn+rCtZ0htrQ9RBrbNAq0vaxFkqDeo79uzU/9oXnAKwgP8\n",
       "FzZO/Qdm07SdytIR0QAAAABJRU5ErkJggg==\n",
       "\" style=\"display:inline;vertical-align:middle;\" /></a><br>"
      ],
      "text/plain": [
       "expr: E or A or B or C or D"
      ]
     },
     "execution_count": 2,
     "metadata": {},
     "output_type": "execute_result"
    }
   ],
   "source": [
    "# build up the expression from sub-expressions\n",
    "expr = Or(E, A, B, C, D)"
   ]
  },
  {
   "cell_type": "code",
   "execution_count": 3,
   "metadata": {},
   "outputs": [
    {
     "name": "stdout",
     "output_type": "stream",
     "text": [
      "Passed sanity check: built 'expr' is the same as the stored Expression.\n"
     ]
    }
   ],
   "source": [
    "# check that the built expression is the same as the stored expression\n",
    "%check_expr"
   ]
  },
  {
   "cell_type": "code",
   "execution_count": 4,
   "metadata": {},
   "outputs": [
    {
     "data": {
      "text/html": [
       "<table><tr><th>&nbsp;</th><th>core type</th><th>sub-expressions</th><th>expression</th></tr>\n",
       "<tr><td>0</td><td>Operation</td><td>operator:&nbsp;1<br>operands:&nbsp;2<br></td><td><a class=\"ProveItLink\" href=\"expr.ipynb\"><img src=\"data:image/png;base64,iVBORw0KGgoAAAANSUhEUgAAAK8AAAAPBAMAAABgoIKoAAAAMFBMVEX///8QEBAiIiKYmJjc3Nzu\n",
       "7u7MzMx2dnZmZma6urpERESqqqoyMjJUVFSIiIgAAAAoDOMTAAAAAXRSTlMAQObYZgAAAkNJREFU\n",
       "OMuNVM9rE0EYfdlsdtM0PyqlFy96qTdpwLM2R6lC96igEhUvRWjBP8AiIkIPybE3o+eW5CTixaIR\n",
       "SkHsqahkTf4Bm0BTi7VRvx+z2Ux6MTBfZl++92bezNsA+PE3DFsnGP/cG3u+TG0b1THwzubz4lUb\n",
       "YrmdskxZ9C0NYXlRw2cuEzLVtrNA+peN+dPA+vQYleQmfwv5D5U0jT1+2je6ybmAao75+Y7QqM0b\n",
       "WFjqPfX4fZvqHVGpMNn/yZ5oLDE+a4SvVUrcVaPicBfyJJA8srDsDO9ryqbm2dUyr5vtwYfLE5Ka\n",
       "XDXCna7Ya9J4I0CGBJwZC6s0qLirNjXTo7K4S6VQwyWB+BfukPMJ3hVhBJqCFHbh7gSjmCs3nirb\n",
       "1AIbWmbhF59afVWbNZ7oc1PdsGWxTr3f95/IWkMsfRBnIaYKb36FyuMythSj0/9qGqtYFGd0STnN\n",
       "WLeE1EWMYk4/Fo6pXXbQrmquVjQ9DlJmCS8M27rR87il0EsmFUexQk+OAja1zuUMl2OglBLf6YZf\n",
       "NEcMJLRxDY8UGkQOh1hChF/Dph5zVg+iGPtyK+6WY5zRdTtTMrtO+xMP3NtujGK5Q66ahSGV445E\n",
       "LYqxeS33rui325AUCvt+B1GMXfPiG8yLtxRT8yy3EWiM4V1QdMm8HnyEmUPdwatgGOO7H2Fh8w1M\n",
       "PIVN5Rg/ZBe364MwnFO7yKqvhXNNJOsn+rCtZ0htrQ9RBrbNAq0vaxFkqDeo79uzU/9oXnAKwgP8\n",
       "FzZO/Qdm07SdytIR0QAAAABJRU5ErkJggg==\n",
       "\" style=\"display:inline;vertical-align:middle;\" /></a></td></tr>\n",
       "<tr><td>1</td><td>Literal</td><td></td><td><a class=\"ProveItLink\" href=\"../087d0b4ded7c7e5bf3bba05ecb616d7a8051ff650/expr.ipynb\"><img src=\"data:image/png;base64,iVBORw0KGgoAAAANSUhEUgAAAAwAAAAOBAMAAADpk+DfAAAALVBMVEX///+YmJh2dnZmZmaqqqrc\n",
       "3NwyMjLu7u4iIiJERESIiIhUVFTMzMy6uroAAAD0I/TTAAAAAXRSTlMAQObYZgAAAEtJREFUCNdj\n",
       "uMAABDwMe0DUKoaTIKqdgS2AgYHFAITAzHYGsMQqBoa9QIqDgT0BSDE7MAkAKdYEDpAehj1SYOpk\n",
       "O5hiMwBTPAUMDAB33Atnw8aG2QAAAABJRU5ErkJggg==\n",
       "\" style=\"display:inline;vertical-align:middle;\" /></a></td></tr>\n",
       "<tr><td>2</td><td>ExprTuple</td><td>3, 4, 5, 6, 7</td><td><a class=\"ProveItLink\" href=\"../88c876a60e4b752c68236ad25f9694ef585475c80/expr.ipynb\"><img src=\"data:image/png;base64,iVBORw0KGgoAAAANSUhEUgAAAIMAAAAVBAMAAACXjEALAAAAMFBMVEX////c3NwiIiJERESqqqqY\n",
       "mJh2dnZmZmYQEBDu7u4yMjJUVFTMzMyIiIi6uroAAAAs73DqAAAAAXRSTlMAQObYZgAAAklJREFU\n",
       "OMutVL9rU1EU/p7pS/qal+SBBaEd6iIoCMkiKggJ+Af0LTrabK2DNCD+2BLQycE8nIqt+hxEbaEt\n",
       "OAh5Q0LXDg106FCl0UVxMWoV2mjrOfdHcjNksV64533nffeee84933vAfxjp5lF2X2OzTnP7MIpq\n",
       "+z1iTQO73oneLGvP2Xx7yyoJmCKidglINMh5zW94++VeiJUuGs4B5ZZyZnyk7/oSZ0JgsgDQI8V1\n",
       "pP+QSXT32dlAww2iN1YlfnyGzKyniCLt2AOu0jG8Ov6bzJNuiNGyp+EOoamixK946WdNUGounTwH\n",
       "fGF/pI04rG6I5o5OHRdonpY5JXbZnlBEnqbVAWIF3BaF5XDF6FEw6WtMi8YuSjgRsl1QxA+aLrHx\n",
       "El6w/3Wp9q0X4qm4ATHczvutUwqXfaOZXAPsX8BQiIf8YraBsEe3MFFSMEWRH6nbzHpGiBTfXvKA\n",
       "Uq7gQDWxiIY+IIrqOYVjFVr9U+JDYVWvYm3uOLFuW4agwjxHJ58mTueUWZXp8qiyGVIHZfiQKV+E\n",
       "uK9lEddaIL0cq2hZ0KLkrsT1wBCPuK17EIWc07KgbjlMWgXRZJkxy4I7Eehd1zVB2cRY2HaIaSkL\n",
       "uGeBZydZg1zpHpzvShbug0A6NmXzyVMEycJ9yYCa+hGYz3eiKEvb5+j+j1efw87vl5wqJXCTPr9F\n",
       "qkU4WF+6U5DYYeK8uJaRFobNVn0wfwLeAKePYIHbRcM3xWNjgNNH4Ib+2P85hMPtHzckZ5LNQU4f\n",
       "keSqrCP9+N4BfwF+UqQw4lNiIgAAAABJRU5ErkJggg==\n",
       "\" style=\"display:inline;vertical-align:middle;\" /></a></td></tr>\n",
       "<tr><td>3</td><td>Variable</td><td></td><td><a class=\"ProveItLink\" href=\"../../../../../__pv_it/9995c55100c62d7d8a012a35bafc852acbe03cf00/expr.ipynb\"><img src=\"data:image/png;base64,iVBORw0KGgoAAAANSUhEUgAAABAAAAAOBAMAAADUAYG5AAAALVBMVEX///8iIiKYmJjc3Nzu7u7M\n",
       "zMx2dnZmZma6urpERESqqqoyMjJUVFSIiIgAAACbLqVTAAAAAXRSTlMAQObYZgAAAGVJREFUCNdj\n",
       "YGC48+7MmdOvGYAARKwEYo63QIIdiNmeAglfIOZ+wMDGwAxk8E1gUAIpZejbc/oxmJEXwLABzNjH\n",
       "wJDAEABkvGRgMGC5ADWGzQFqjDnEGAZWUQYGn3lvzpyRE2AAAIznGVQJqiN4AAAAAElFTkSuQmCC\n",
       "\" style=\"display:inline;vertical-align:middle;\" /></a></td></tr>\n",
       "<tr><td>4</td><td>Variable</td><td></td><td><a class=\"ProveItLink\" href=\"../../../../../__pv_it/2cbe72a7ad6f655694dd697106680215e8489b600/expr.ipynb\"><img src=\"data:image/png;base64,iVBORw0KGgoAAAANSUhEUgAAAA8AAAAOBAMAAAACpFvcAAAALVBMVEX///8QEBBERERUVFS6urqI\n",
       "iIhmZmaqqqrc3Nzu7u6YmJgyMjIiIiLMzMwAAADtIaYWAAAAAXRSTlMAQObYZgAAAFtJREFUCNdj\n",
       "YACBOwxQsA9Kc52bAGG05zVAGAFxDmCaZULdAjBjCsO9ADDDgaEvAUTzGhvbKYCVMDAwbgAxChgY\n",
       "eASANAeQwf0AyJgNxEwvGRia5HYwcOm9TgAA6BoR3jrzwFcAAAAASUVORK5CYII=\n",
       "\" style=\"display:inline;vertical-align:middle;\" /></a></td></tr>\n",
       "<tr><td>5</td><td>Variable</td><td></td><td><a class=\"ProveItLink\" href=\"../../../../../__pv_it/077b2ff79244fb4582cbe22c6e3356fa92a52f2f0/expr.ipynb\"><img src=\"data:image/png;base64,iVBORw0KGgoAAAANSUhEUgAAABAAAAAOBAMAAADUAYG5AAAAMFBMVEX///+qqqru7u4iIiJ2dnbc\n",
       "3NyIiIjMzMxmZmYQEBC6uroyMjJERERUVFSYmJgAAADLUcuvAAAAAXRSTlMAQObYZgAAAGpJREFU\n",
       "CNdjYGB4+//u3dMLGIBgDgMDxy8gzf4NiP8CGWxfGRj4vgAZPBMYGJgnARn8FxhY9ygAGfXX0pof\n",
       "gDTlBzAw2YIYJ0EckBBI53sHoBH/gIz7AhBjWH9DjancBLTl/N+7t/cxMAAA3u4f/5xagjYAAAAA\n",
       "SUVORK5CYII=\n",
       "\" style=\"display:inline;vertical-align:middle;\" /></a></td></tr>\n",
       "<tr><td>6</td><td>Variable</td><td></td><td><a class=\"ProveItLink\" href=\"../../../../../__pv_it/985a1bdf1540838275dec15f4ad6de261cca93ce0/expr.ipynb\"><img src=\"data:image/png;base64,iVBORw0KGgoAAAANSUhEUgAAAA8AAAAOBAMAAAACpFvcAAAAMFBMVEX////MzMyqqqoiIiIyMjK6\n",
       "uroQEBB2dnbc3NyYmJhmZmZUVFRERESIiIju7u4AAAB204erAAAAAXRSTlMAQObYZgAAAGZJREFU\n",
       "CNdjYGDgu7NrJccCBgaGsgkMrMsmMDA8sQNy6hsYGNweABlhDAxcn4A0QxcDQ78DiPGQgWH9BAYI\n",
       "sG+AMv6DSaCGfBDNJMDAsB+kmwuI5S8AiTog5gSaEwXWIO29SgFIAQBC+RaDQlidVgAAAABJRU5E\n",
       "rkJggg==\n",
       "\" style=\"display:inline;vertical-align:middle;\" /></a></td></tr>\n",
       "<tr><td>7</td><td>Variable</td><td></td><td><a class=\"ProveItLink\" href=\"../../../../../__pv_it/185e6d30f167ee2ee5ef3321098dc98e0d77bc590/expr.ipynb\"><img src=\"data:image/png;base64,iVBORw0KGgoAAAANSUhEUgAAABEAAAAOBAMAAAA7w+qHAAAALVBMVEX///8QEBCYmJjc3Ny6urru\n",
       "7u5mZmZ2dnaqqqrMzMxEREQyMjJUVFSIiIgAAABETr/8AAAAAXRSTlMAQObYZgAAAGpJREFUCNdj\n",
       "YGC48+7MmV0TGEDgNQMDxwsQg/M5kMgLABK8T4DEvAtAgusBkLA7ACT4FoDEDsAk9AqAxD2QCecc\n",
       "gMQ6kAGCIOIVEDM9Ahn3FkgwgnTxvgQSqwOgxs1OADLC1r05cyoTyAAAv4Qe+njAWvgAAAAASUVO\n",
       "RK5CYII=\n",
       "\" style=\"display:inline;vertical-align:middle;\" /></a></td></tr>\n",
       "</table>\n"
      ],
      "text/plain": [
       "0. E or A or B or C or D\n",
       "   core type: Operation\n",
       "   operator: 1\n",
       "   operands: 2\n",
       "1. or\n",
       "   core type: Literal\n",
       "   sub-expressions: \n",
       "2. (E , A , B , C , D)\n",
       "   core type: ExprTuple\n",
       "   sub-expressions: 3, 4, 5, 6, 7\n",
       "3. E\n",
       "   core type: Variable\n",
       "   sub-expressions: \n",
       "4. A\n",
       "   core type: Variable\n",
       "   sub-expressions: \n",
       "5. B\n",
       "   core type: Variable\n",
       "   sub-expressions: \n",
       "6. C\n",
       "   core type: Variable\n",
       "   sub-expressions: \n",
       "7. D\n",
       "   core type: Variable\n",
       "   sub-expressions: "
      ]
     },
     "execution_count": 4,
     "metadata": {},
     "output_type": "execute_result"
    }
   ],
   "source": [
    "# display the expression information\n",
    "expr.exprInfo()"
   ]
  },
  {
   "cell_type": "code",
   "execution_count": null,
   "metadata": {},
   "outputs": [],
   "source": []
  }
 ],
 "metadata": {
  "kernelspec": {
   "display_name": "Python 3",
   "language": "python",
   "name": "python3"
  }
 },
 "nbformat": 4,
 "nbformat_minor": 0
}
