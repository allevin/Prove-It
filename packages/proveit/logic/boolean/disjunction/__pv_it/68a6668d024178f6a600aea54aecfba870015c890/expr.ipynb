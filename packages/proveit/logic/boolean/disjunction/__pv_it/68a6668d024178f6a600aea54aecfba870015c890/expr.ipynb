{
 "cells": [
  {
   "cell_type": "markdown",
   "metadata": {},
   "source": [
    "Expression of type <a class=\"ProveItLink\" href=\"../../../../../../../doc/html/api/proveit.ExprTuple.html\">ExprTuple</a>\n",
    "=======================\n",
    "# from context <a class=\"ProveItLink\" href=\"../../_context_.ipynb\">proveit.logic.boolean.disjunction</a>"
   ]
  },
  {
   "cell_type": "code",
   "execution_count": 1,
   "metadata": {},
   "outputs": [],
   "source": [
    "# import Expression classes needed to build the expression\n",
    "from proveit import ExprTuple\n",
    "from proveit._common_ import H, I, J, K\n",
    "from proveit.logic import Not"
   ]
  },
  {
   "cell_type": "code",
   "execution_count": 2,
   "metadata": {},
   "outputs": [
    {
     "data": {
      "text/html": [
       "<strong id=\"expr\">expr:</strong> <a class=\"ProveItLink\" href=\"expr.ipynb\"><img src=\"data:image/png;base64,iVBORw0KGgoAAAANSUhEUgAAAJoAAAAVBAMAAABMN+opAAAAMFBMVEX////c3NwiIiJERESqqqqY\n",
       "mJh2dnZmZmYQEBDu7u4yMjJUVFTMzMyIiIi6uroAAAAs73DqAAAAAXRSTlMAQObYZgAAAdBJREFU\n",
       "OMutVD1Iw0AYfdqaNprU7g6Kg4uDDoqLUGenDoKgSzbHqgUnQQfBTZxUXHQRFMGfRShFmt2h2Yu0\n",
       "OolL1diKxhrvciG53LkU+8GF3Mv73nf33csBnY2U1SGhnhp53IXziju1u+hOpXmOUrJXolnK6tsy\n",
       "P9dLdgF97jTWyeSM+/BFxptQsv9YXITyLTPiBaCXKHMbTbUA7UPIrRuiWu+mzJijWzWQ3I0W1d+F\n",
       "3FxNVOu/khh7tDvqJp75oi9A7FPIvZTaXc+KDI2tfwJrfNFxMoaEXFtSy6Wj8y/Ms5clnPBFz4vF\n",
       "zLJgoJakdiowmop/crPYARLDNMhicyZQnWFfVik2Eh5gQILqCIyWscGSnvDjV9CuWIsy3KlQL9Je\n",
       "BkFJiDcERgODzEXliJrtW47n0l5G1RKfAuMYsW9fbSskenZrCmp1K6LWtY3uIYFhIOX4O50M1Ty7\n",
       "kbWqPJf2Ug3VlCbKlswY8/qzQE7VDzOw21FQXGO9DAEzbqmjfzCqBnPIY1BmP+NYiZJj4OA1wLry\n",
       "7g14APeVbARQ8+4tlDGHevACybR8tzy0D4D9WT2GDGfbB7zf3IreSP9TOyRjQEL19gEvrmmjO3WT\n",
       "6yZ+AYC2kx4KzOiMAAAAAElFTkSuQmCC\n",
       "\" style=\"display:inline;vertical-align:middle;\" /></a><br>"
      ],
      "text/plain": [
       "expr: ([not](H) , [not](I) , [not](J) , [not](K))"
      ]
     },
     "execution_count": 2,
     "metadata": {},
     "output_type": "execute_result"
    }
   ],
   "source": [
    "# build up the expression from sub-expressions\n",
    "expr = ExprTuple(Not(H), Not(I), Not(J), Not(K))"
   ]
  },
  {
   "cell_type": "code",
   "execution_count": 3,
   "metadata": {},
   "outputs": [
    {
     "name": "stdout",
     "output_type": "stream",
     "text": [
      "Passed sanity check: built 'expr' is the same as the stored Expression.\n"
     ]
    }
   ],
   "source": [
    "# check that the built expression is the same as the stored expression\n",
    "%check_expr"
   ]
  },
  {
   "cell_type": "code",
   "execution_count": 4,
   "metadata": {},
   "outputs": [
    {
     "data": {
      "text/html": [
       "<table><tr><th>&nbsp;</th><th>core type</th><th>sub-expressions</th><th>expression</th></tr>\n",
       "<tr><td>0</td><td>ExprTuple</td><td>1, 2, 3, 4</td><td><a class=\"ProveItLink\" href=\"expr.ipynb\"><img src=\"data:image/png;base64,iVBORw0KGgoAAAANSUhEUgAAAJoAAAAVBAMAAABMN+opAAAAMFBMVEX////c3NwiIiJERESqqqqY\n",
       "mJh2dnZmZmYQEBDu7u4yMjJUVFTMzMyIiIi6uroAAAAs73DqAAAAAXRSTlMAQObYZgAAAdBJREFU\n",
       "OMutVD1Iw0AYfdqaNprU7g6Kg4uDDoqLUGenDoKgSzbHqgUnQQfBTZxUXHQRFMGfRShFmt2h2Yu0\n",
       "OolL1diKxhrvciG53LkU+8GF3Mv73nf33csBnY2U1SGhnhp53IXziju1u+hOpXmOUrJXolnK6tsy\n",
       "P9dLdgF97jTWyeSM+/BFxptQsv9YXITyLTPiBaCXKHMbTbUA7UPIrRuiWu+mzJijWzWQ3I0W1d+F\n",
       "3FxNVOu/khh7tDvqJp75oi9A7FPIvZTaXc+KDI2tfwJrfNFxMoaEXFtSy6Wj8y/Ms5clnPBFz4vF\n",
       "zLJgoJakdiowmop/crPYARLDNMhicyZQnWFfVik2Eh5gQILqCIyWscGSnvDjV9CuWIsy3KlQL9Je\n",
       "BkFJiDcERgODzEXliJrtW47n0l5G1RKfAuMYsW9fbSskenZrCmp1K6LWtY3uIYFhIOX4O50M1Ty7\n",
       "kbWqPJf2Ug3VlCbKlswY8/qzQE7VDzOw21FQXGO9DAEzbqmjfzCqBnPIY1BmP+NYiZJj4OA1wLry\n",
       "7g14APeVbARQ8+4tlDGHevACybR8tzy0D4D9WT2GDGfbB7zf3IreSP9TOyRjQEL19gEvrmmjO3WT\n",
       "6yZ+AYC2kx4KzOiMAAAAAElFTkSuQmCC\n",
       "\" style=\"display:inline;vertical-align:middle;\" /></a></td></tr>\n",
       "<tr><td>1</td><td>Operation</td><td>operator:&nbsp;8<br>operand:&nbsp;5<br></td><td><a class=\"ProveItLink\" href=\"../1e064b4e3d1480208962f6be4769051587290bd30/expr.ipynb\"><img src=\"data:image/png;base64,iVBORw0KGgoAAAANSUhEUgAAACAAAAAOBAMAAAC88gOBAAAALVBMVEX///+qqqq6uroyMjLc3NyY\n",
       "mJju7u5ERESIiIhUVFTMzMx2dnYiIiJmZmYAAABIfD+GAAAAAXRSTlMAQObYZgAAAHtJREFUCNdj\n",
       "YIACjnnPr7HOe36FAQ74DID4AILPoNfAwLDuApLAvgUMDH0CSAJ2QFyXgCTwHIjfIPGZHs+cOf0t\n",
       "kHHnDBCcZmDgfgW0+iFMeiUDA/MDBgb2Z0gCfAUQp8AFwM7YgCQAdoYCTIALwxls19/NYLj5bjYD\n",
       "AwD1SyZo2cYQVQAAAABJRU5ErkJggg==\n",
       "\" style=\"display:inline;vertical-align:middle;\" /></a></td></tr>\n",
       "<tr><td>2</td><td>Operation</td><td>operator:&nbsp;8<br>operand:&nbsp;6<br></td><td><a class=\"ProveItLink\" href=\"../3b86b88ca8c0cb0658d19d9ea233d2a934995e2d0/expr.ipynb\"><img src=\"data:image/png;base64,iVBORw0KGgoAAAANSUhEUgAAABgAAAAOBAMAAADH1sFNAAAAJFBMVEX///+IiIi6uroyMjLc3NxE\n",
       "RERUVFTMzMx2dnYiIiJmZmYAAADz9GH5AAAAAXRSTlMAQObYZgAAAE9JREFUCNdjYIACjuytSxjg\n",
       "gNsAwWbQbkDidCsgcayR2AxbkdhMG4HEyplAMANo9HaYcBkDA/MGJA53ABJHWwCJ010A47CjWMOy\n",
       "dHcGAwMADZIPj2zDhNAAAAAASUVORK5CYII=\n",
       "\" style=\"display:inline;vertical-align:middle;\" /></a></td></tr>\n",
       "<tr><td>3</td><td>Operation</td><td>operator:&nbsp;8<br>operand:&nbsp;7<br></td><td><a class=\"ProveItLink\" href=\"../4ce287a65579e95c78b91526448ef602a82ae3210/expr.ipynb\"><img src=\"data:image/png;base64,iVBORw0KGgoAAAANSUhEUgAAABsAAAAOBAMAAAAs4XpOAAAALVBMVEX///+IiIiqqqru7u7c3NyY\n",
       "mJi6uroQEBAyMjJUVFTMzMx2dnYiIiJmZmYAAADFhLo+AAAAAXRSTlMAQObYZgAAAFdJREFUCNdj\n",
       "YICDvefOMiCDfQtQuO0oPIaXKDy2pyhc7icoXI4CIHHnDBCcBnHtJsAkVoIIvQAU7j0DBNf9AsMZ\n",
       "BgR33wauh3AuF4Mig80EJFsYBaeCKADekBco0RUTnwAAAABJRU5ErkJggg==\n",
       "\" style=\"display:inline;vertical-align:middle;\" /></a></td></tr>\n",
       "<tr><td>4</td><td>Operation</td><td>operator:&nbsp;8<br>operand:&nbsp;9<br></td><td><a class=\"ProveItLink\" href=\"../208d102e571ff6540117cfebbde0b28b84915b8c0/expr.ipynb\"><img src=\"data:image/png;base64,iVBORw0KGgoAAAANSUhEUgAAACAAAAAOBAMAAAC88gOBAAAALVBMVEX////c3NyYmJi6urqqqqoy\n",
       "MjLu7u5ERESIiIhUVFTMzMx2dnYiIiJmZmYAAACLNuGuAAAAAXRSTlMAQObYZgAAAIFJREFUCNdj\n",
       "YIACjnnPpzFwvqtigAO+AAYGlmkIPoPdBgYGFSQ+wz4DhmwBZIE4Bq4NyHyGpwy6KHzm19xvwIw7\n",
       "Z4DgNAMD94sN9xzg0isZGFgfMcgFIAsAncH+ClkA6Azml8gC+xYwMJxLgAlwgZzBwNCHcAjb9Xcz\n",
       "GLjPvRRgAADgQyI4JuorHQAAAABJRU5ErkJggg==\n",
       "\" style=\"display:inline;vertical-align:middle;\" /></a></td></tr>\n",
       "<tr><td>5</td><td>Variable</td><td></td><td><a class=\"ProveItLink\" href=\"../../../../../__pv_it/fabf74ac81cd36aa91075816201d2b14195a56e60/expr.ipynb\"><img src=\"data:image/png;base64,iVBORw0KGgoAAAANSUhEUgAAABMAAAAOBAMAAAA/Njq6AAAALVBMVEX///+qqqp2dnbMzMy6uroi\n",
       "IiIyMjLc3NyYmJju7u5mZmZERERUVFSIiIgAAABaGT/LAAAAAXRSTlMAQObYZgAAAGhJREFUCNdj\n",
       "YGC4827XhJ53uwoYgOAZED8FMRhY3jIwML8CM5keMzDwPgQz2R4wMHC/BDP5NgBxAJjpl3PmzL4F\n",
       "YKaeAQPDPQEwMw+I900AM19DjYYa+whh7BM0Y2fte3OB69wbBQYGADOSITJjbaXUAAAAAElFTkSu\n",
       "QmCC\n",
       "\" style=\"display:inline;vertical-align:middle;\" /></a></td></tr>\n",
       "<tr><td>6</td><td>Variable</td><td></td><td><a class=\"ProveItLink\" href=\"../../../../../__pv_it/485fbf85ade6e4660c176b077846a05437e7af3e0/expr.ipynb\"><img src=\"data:image/png;base64,iVBORw0KGgoAAAANSUhEUgAAAAsAAAAOBAMAAAALT/umAAAAIVBMVEX////MzMyIiIi6uroyMjLc\n",
       "3NxmZmZERERUVFR2dnYAAABv5Bk0AAAAAXRSTlMAQObYZgAAAD9JREFUCNdjYGCYsaosgAEIloAI\n",
       "BuaVYIpzMZhiWQCmuArAlJUCmJolAKa8wCTDcoi2RRBtC5G0hVWtmMDAAAAhAQsT8Qr5GAAAAABJ\n",
       "RU5ErkJggg==\n",
       "\" style=\"display:inline;vertical-align:middle;\" /></a></td></tr>\n",
       "<tr><td>7</td><td>Variable</td><td></td><td><a class=\"ProveItLink\" href=\"../../../../../__pv_it/0730776658406f13a5e8bca83a69f67d4b6b708d0/expr.ipynb\"><img src=\"data:image/png;base64,iVBORw0KGgoAAAANSUhEUgAAAA0AAAAOBAMAAAAGUYvhAAAALVBMVEX///+IiIiqqqru7u7c3NyY\n",
       "mJi6urpUVFQQEBAyMjLMzMwiIiJmZmZ2dnYAAABVuDDQAAAAAXRSTlMAQObYZgAAAEdJREFUCNdj\n",
       "YGBguLNvDwMY3FsAoWdAKIbnEIrtKYTmfQKhORsgtF0BhNYLgNDnDICExwGG3WCzLnA9BNGKDNZg\n",
       "ZYyCpSAKAIbhD5JM+WhaAAAAAElFTkSuQmCC\n",
       "\" style=\"display:inline;vertical-align:middle;\" /></a></td></tr>\n",
       "<tr><td>8</td><td>Literal</td><td></td><td><a class=\"ProveItLink\" href=\"../../../negation/__pv_it/7bea79645543c2413aa17e787cca04e21046fde60/expr.ipynb\"><img src=\"data:image/png;base64,iVBORw0KGgoAAAANSUhEUgAAAAwAAAAGBAMAAAAFwGKyAAAAFVBMVEX///9UVFTMzMx2dnYiIiJm\n",
       "ZmYAAACWz4ZEAAAAAXRSTlMAQObYZgAAABRJREFUCNdjCHEBAmcGMFDEQzEBAEl+Ai6uYJv/AAAA\n",
       "AElFTkSuQmCC\n",
       "\" style=\"display:inline;vertical-align:middle;\" /></a></td></tr>\n",
       "<tr><td>9</td><td>Variable</td><td></td><td><a class=\"ProveItLink\" href=\"../../../../../__pv_it/3fb1092d10295c809ebd5134eaa882b76222b6190/expr.ipynb\"><img src=\"data:image/png;base64,iVBORw0KGgoAAAANSUhEUgAAABMAAAAOBAMAAAA/Njq6AAAALVBMVEX///8iIiJmZmbc3NyYmJh2\n",
       "dna6urqqqqoyMjLMzMzu7u5ERERUVFSIiIgAAAAU/m/NAAAAAXRSTlMAQObYZgAAAG5JREFUCNdj\n",
       "YGC4827PAoZzrycwAMELIK5ZAGKxPWVgYCkAsRhYnzFwBYNZDBwPGKZCWAx8DSwKUGZeQJwAlBl3\n",
       "lek5lNnnwPwCygTS+8Dmg43NOwAx9iUDA+MrmLEMvE9BrEX73lxgCHx3mIEBAPGUHmvA0AqBAAAA\n",
       "AElFTkSuQmCC\n",
       "\" style=\"display:inline;vertical-align:middle;\" /></a></td></tr>\n",
       "</table>\n"
      ],
      "text/plain": [
       "0. ([not](H) , [not](I) , [not](J) , [not](K))\n",
       "   core type: ExprTuple\n",
       "   sub-expressions: 1, 2, 3, 4\n",
       "1. [not](H)\n",
       "   core type: Operation\n",
       "   operator: 8\n",
       "   operand: 5\n",
       "2. [not](I)\n",
       "   core type: Operation\n",
       "   operator: 8\n",
       "   operand: 6\n",
       "3. [not](J)\n",
       "   core type: Operation\n",
       "   operator: 8\n",
       "   operand: 7\n",
       "4. [not](K)\n",
       "   core type: Operation\n",
       "   operator: 8\n",
       "   operand: 9\n",
       "5. H\n",
       "   core type: Variable\n",
       "   sub-expressions: \n",
       "6. I\n",
       "   core type: Variable\n",
       "   sub-expressions: \n",
       "7. J\n",
       "   core type: Variable\n",
       "   sub-expressions: \n",
       "8. not\n",
       "   core type: Literal\n",
       "   sub-expressions: \n",
       "9. K\n",
       "   core type: Variable\n",
       "   sub-expressions: "
      ]
     },
     "execution_count": 4,
     "metadata": {},
     "output_type": "execute_result"
    }
   ],
   "source": [
    "# display the expression information\n",
    "expr.exprInfo()"
   ]
  },
  {
   "cell_type": "code",
   "execution_count": null,
   "metadata": {},
   "outputs": [],
   "source": []
  }
 ],
 "metadata": {
  "kernelspec": {
   "display_name": "Python 3",
   "language": "python",
   "name": "python3"
  }
 },
 "nbformat": 4,
 "nbformat_minor": 0
}
