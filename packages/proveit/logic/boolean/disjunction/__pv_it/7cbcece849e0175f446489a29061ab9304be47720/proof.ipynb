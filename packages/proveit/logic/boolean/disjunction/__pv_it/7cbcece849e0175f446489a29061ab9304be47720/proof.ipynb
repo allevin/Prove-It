{
 "cells": [
  {
   "cell_type": "markdown",
   "metadata": {},
   "source": [
    "Show the Proof\n",
    "========"
   ]
  },
  {
   "cell_type": "code",
   "execution_count": 1,
   "metadata": {},
   "outputs": [
    {
     "data": {
      "text/html": [
       "<table><tr><th>&nbsp;</th><th>step type</th><th>requirements</th><th>statement</th></tr>\n",
       "<tr><td>0</td><td>assumption</td><td></td><td><span style=\"font-size:20px;\"><a class=\"ProveItLink\" href=\"../90664d47b6ff86c3b4d7c3f11301208f0a375f5a0/expr.ipynb\"><img src=\"data:image/png;base64,iVBORw0KGgoAAAANSUhEUgAAAEcAAAAVBAMAAADm2O7QAAAAMFBMVEX///9ERETc3NyqqqpUVFS6\n",
       "urrMzMwyMjIQEBCIiIh2dnYiIiLu7u5mZmaYmJgAAABJJ2g3AAAAAXRSTlMAQObYZgAAASBJREFU\n",
       "KM9jYGDgu8eAG7CtUgBRPLsY8AG2ZhDJ+QHMWbt/L4rk8o/1FRsNgIzrIB5XA0R0fQKqEQKRPDWr\n",
       "gPQKZEUVDOiKGKayoyv6AqF4pu/eXQBVZMdyAFUR6z+IovQ3SCYpopnE9QlMMckgrGPbJwNTxAs2\n",
       "nIEdopZRAa4oev+PCUD6PYiTEQAWO+8Apg4iO3ymIUj3BQaGlDaImP0DMBWxezfC4YysC4AMcaBM\n",
       "BCR87h8AUynIJjEyCDAwcIMUsgD1aVxg2A2ROo2hCOwmrg3A0F7A9hMixfIAWRHIOngQWDKcdoCG\n",
       "5VYkRW8nIocT50w/mJz6NXgES7cYoEcLDJhUQ3wHA1gVoQOwIj4CisDpiWcn/pTZCqb4FhNK4wDV\n",
       "xlHmfOa8KQAAAABJRU5ErkJggg==\n",
       "\" style=\"display:inline;vertical-align:middle;\" /></a> <a class=\"ProveItLink\" href=\"proof.ipynb\" style=\"text-decoration: none\">&#x22A2;&nbsp;</a><a class=\"ProveItLink\" href=\"../b72241bded44dfa93da3053397ea747a5d46b51e0/expr.ipynb\"><img src=\"data:image/png;base64,iVBORw0KGgoAAAANSUhEUgAAADMAAAAPBAMAAAC7N+rPAAAAMFBMVEX///9ERESIiIiqqqru7u7c\n",
       "3NyYmJi6urpUVFQQEBAyMjLMzMwiIiJmZmZ2dnYAAACebuTwAAAAAXRSTlMAQObYZgAAAL5JREFU\n",
       "GNNjYGBgeHv+LAMyePVx/cqDBhD2+w0oUgwCRSxL3kGYKxnQpRjUuSDMHxCKRevMmQVQKTMOBxCL\n",
       "/RtEalcKkq5AMIvvK5hiFUEYyH0MwuGaAKYYA+BSNed/KoBZ/g1gyhHZGUqGYJZ9ApiqPHMG4QxG\n",
       "9gcg1n2wYxh2IOtiZBBgiLzAcAYi4IMu9f4B9yeIAEcCshTQQCMGnwaoj48jSeUqMjAwKbXBRKJu\n",
       "w4NXZoYBathZrIG4EAIAYQo1n6w9PhIAAAAASUVORK5CYII=\n",
       "\" style=\"display:inline;vertical-align:middle;\" /></a></span></td></tr>\n",
       "</table>"
      ],
      "text/plain": [
       "<proveit._core_.proof._ShowProof at 0x7f94eba815c0>"
      ]
     },
     "execution_count": 1,
     "metadata": {},
     "output_type": "execute_result"
    }
   ],
   "source": [
    "import proveit\n",
    "%show_proof"
   ]
  },
  {
   "cell_type": "code",
   "execution_count": null,
   "metadata": {},
   "outputs": [],
   "source": []
  }
 ],
 "metadata": {
  "kernelspec": {
   "display_name": "Python 3",
   "language": "python",
   "name": "python3"
  }
 },
 "nbformat": 4,
 "nbformat_minor": 0
}
