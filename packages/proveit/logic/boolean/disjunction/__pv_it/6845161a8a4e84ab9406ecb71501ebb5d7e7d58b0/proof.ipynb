{
 "cells": [
  {
   "cell_type": "markdown",
   "metadata": {},
   "source": [
    "Show the Proof\n",
    "========"
   ]
  },
  {
   "cell_type": "code",
   "execution_count": 1,
   "metadata": {},
   "outputs": [
    {
     "data": {
      "text/html": [
       "<table><tr><th>&nbsp;</th><th>step type</th><th>requirements</th><th>statement</th></tr>\n",
       "<tr><td>0</td><td>assumption</td><td></td><td><span style=\"font-size:20px;\"><a class=\"ProveItLink\" href=\"../715ae6651a41bf761df787a553e30bfa7fba490f0/expr.ipynb\"><img src=\"data:image/png;base64,iVBORw0KGgoAAAANSUhEUgAAAFMAAAAVBAMAAADInc9CAAAAMFBMVEX////c3NxERESqqqpUVFS6\n",
       "urrMzMwyMjIQEBCIiIh2dnYiIiLu7u5mZmaYmJgAAABXZE4RAAAAAXRSTlMAQObYZgAAAVNJREFU\n",
       "KM9jYGDgu8dACLCtEgBRPLsYCAO2ZhDJ+QGsYZLvPcYLmGqm/Hdxcf/OwHAdxOFqAJErHjCw3niA\n",
       "xTygMgYjoDxc6fE9QGK9AEyeB66S9SeQ4EVWWnEASETAFbAfgLG4vgGJk0hKeT+DWLIIsxzgmj4w\n",
       "cDEwIimVLwCxjiFcuBLG4FdgeAf2C4jgBSq7j/DQ7d0gsB8WGPEl7h9B9HsQkRHAwLBfAN3j5gEQ\n",
       "en0CA9hGdqDelDYg4z9Y+ACSUp4KiNp6BoYFDAlAhjrQ4gggox8kypyApDR9DYT+xMAgwDOBgYF7\n",
       "AZDDArTA/wAk9OBu3a2DFKxcB6Bu5drAwJAP1MewBslQE+RglWVACiw+YLjGInmNsQARrAxs25CV\n",
       "MqSU3DVAMpQJqu2I/hcXl/0bUJSipzkMEZxKGbAr5SNKKTi98uwkJhe0gim+xcTlLQAEaV08RNjF\n",
       "PgAAAABJRU5ErkJggg==\n",
       "\" style=\"display:inline;vertical-align:middle;\" /></a> <a class=\"ProveItLink\" href=\"proof.ipynb\" style=\"text-decoration: none\">&#x22A2;&nbsp;</a><a class=\"ProveItLink\" href=\"../5cdd690dca2fb09608566bce336a279b2d1cbca00/expr.ipynb\"><img src=\"data:image/png;base64,iVBORw0KGgoAAAANSUhEUgAAAEAAAAAPBAMAAACmSdRUAAAAMFBMVEX////MzMyqqqoiIiIyMjK6\n",
       "uroQEBB2dnbc3NyYmJhmZmZUVFRERESIiIju7u4AAAB204erAAAAAXRSTlMAQObYZgAAAO5JREFU\n",
       "GNNjYGDgu7NrJccCBgxw+//u3Vu+ABllExhYl03AVMAAktRhYHhiB6TrG2CifHB51r9AgouBwe0B\n",
       "kA6DC7M8gLHYPwKJtwxcn0CcLoS+DXClHxjYGTgY+h1AnIcIm2thDP4DDDOB1HqE8xYbg4A9zEPx\n",
       "3lt+ACn7BnTHqwRA6HoBBpDp/8GcB0gK+NwgKvwZGAoYBBjyQWwmASQFInUQ+g8DQwPfBYb9DyC+\n",
       "hbvB+BxSMLA/YJC/AKTrkAzQRg4GoPc5geEQheRQDgdEMDAwGgIZ0t6rFJAM4IEqfn3+9+7d9gaY\n",
       "McSIxgcA7SE7YkA+WH4AAAAASUVORK5CYII=\n",
       "\" style=\"display:inline;vertical-align:middle;\" /></a></span></td></tr>\n",
       "</table>"
      ],
      "text/plain": [
       "<proveit._core_.proof._ShowProof at 0x7f94eada47b8>"
      ]
     },
     "execution_count": 1,
     "metadata": {},
     "output_type": "execute_result"
    }
   ],
   "source": [
    "import proveit\n",
    "%show_proof"
   ]
  },
  {
   "cell_type": "code",
   "execution_count": null,
   "metadata": {},
   "outputs": [],
   "source": []
  }
 ],
 "metadata": {
  "kernelspec": {
   "display_name": "Python 3",
   "language": "python",
   "name": "python3"
  }
 },
 "nbformat": 4,
 "nbformat_minor": 0
}
