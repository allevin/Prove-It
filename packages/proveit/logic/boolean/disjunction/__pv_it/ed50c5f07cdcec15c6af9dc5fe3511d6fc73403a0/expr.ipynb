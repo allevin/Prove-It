{
 "cells": [
  {
   "cell_type": "markdown",
   "metadata": {},
   "source": [
    "Expression of type <a class=\"ProveItLink\" href=\"../../../../../../../doc/html/api/proveit.logic.InSet.html\">InSet</a>\n",
    "=======================\n",
    "# from context <a class=\"ProveItLink\" href=\"../../_context_.ipynb\">proveit.logic.boolean.disjunction</a>"
   ]
  },
  {
   "cell_type": "code",
   "execution_count": 1,
   "metadata": {},
   "outputs": [],
   "source": [
    "# import Expression classes needed to build the expression\n",
    "from proveit.logic import Booleans, InSet\n",
    "from proveit.logic.boolean.disjunction._theorems_ import falseOrFalseNegated"
   ]
  },
  {
   "cell_type": "code",
   "execution_count": 2,
   "metadata": {},
   "outputs": [
    {
     "data": {
      "text/html": [
       "<strong id=\"expr\">expr:</strong> <a class=\"ProveItLink\" href=\"expr.ipynb\"><img src=\"data:image/png;base64,iVBORw0KGgoAAAANSUhEUgAAAI0AAAAVBAMAAACJRXC4AAAAMFBMVEX////c3NwiIiJERESqqqqY\n",
       "mJh2dnZmZmYQEBDu7u4yMjJUVFTMzMyIiIi6uroAAAAs73DqAAAAAXRSTlMAQObYZgAAAcJJREFU\n",
       "OMutlD9IAlEcx79m2tmdFrgVgpwE0ZJJDW1ChNDUVNDkUkKTRDQ1VLREEEejEFQg5lI2tDS5RERD\n",
       "QrMhThE4tTRFv/M9vd/T86Z+8H3ce/f4vN/v+/4A/xWRGuu0vGYGGkLu8cq+jYrdxvon+dqL7Uvx\n",
       "2P6+u0mk6aPMBkctu32Wibbbqlgg3/4tpUSyFSpvAWFeVh2Mo9sI+VtwAlmhHg4+CK5ZbOyEc4wk\n",
       "NUMW44QOhOy4uDZnOpxl3cIXt/ySc3BFyoBxMC9FA0WL5RMF9hhnJKtwMpLlcHJSQNRy6jKmFoEi\n",
       "t3lV4VBN7doczooUMOf405z9IRPPKA3TDspFaygc8lhvKJxPKYSS3Of6EvDLjs6YykEcBSicNylE\n",
       "jmjlrs/+SNaTs4vNARxxYLscJHHMOFpa5UxQRgPqivdyFhjHr/oM/ammcjakgAeFQ3XlOn06vcG8\n",
       "yjFSFgbs+3mDcdbfgSY/h5TtjmlOm2ZCDJTEsSJPyVfaolsI0cUtVbv3NHVKfmjjDHTYc3de1C6/\n",
       "F8OPcr86jwq/d2veT1WwJuQa/e/GwChIucYkf64qnpx7Kdfw8URjXphwVcgt/gAXfXtnSA0ANAAA\n",
       "AABJRU5ErkJggg==\n",
       "\" style=\"display:inline;vertical-align:middle;\" /></a><br>"
      ],
      "text/plain": [
       "expr: [not](FALSE or FALSE) in BOOLEANS"
      ]
     },
     "execution_count": 2,
     "metadata": {},
     "output_type": "execute_result"
    }
   ],
   "source": [
    "# build up the expression from sub-expressions\n",
    "expr = InSet(falseOrFalseNegated.expr, Booleans)"
   ]
  },
  {
   "cell_type": "code",
   "execution_count": 3,
   "metadata": {},
   "outputs": [
    {
     "name": "stdout",
     "output_type": "stream",
     "text": [
      "Passed sanity check: built 'expr' is the same as the stored Expression.\n"
     ]
    }
   ],
   "source": [
    "# check that the built expression is the same as the stored expression\n",
    "%check_expr"
   ]
  },
  {
   "cell_type": "code",
   "execution_count": 4,
   "metadata": {},
   "outputs": [
    {
     "data": {
      "text/html": [
       "<table><tr><th>&nbsp;</th><th>core type</th><th>sub-expressions</th><th>expression</th></tr>\n",
       "<tr><td>0</td><td>Operation</td><td>operator:&nbsp;1<br>operands:&nbsp;2<br></td><td><a class=\"ProveItLink\" href=\"expr.ipynb\"><img src=\"data:image/png;base64,iVBORw0KGgoAAAANSUhEUgAAAI0AAAAVBAMAAACJRXC4AAAAMFBMVEX////c3NwiIiJERESqqqqY\n",
       "mJh2dnZmZmYQEBDu7u4yMjJUVFTMzMyIiIi6uroAAAAs73DqAAAAAXRSTlMAQObYZgAAAcJJREFU\n",
       "OMutlD9IAlEcx79m2tmdFrgVgpwE0ZJJDW1ChNDUVNDkUkKTRDQ1VLREEEejEFQg5lI2tDS5RERD\n",
       "QrMhThE4tTRFv/M9vd/T86Z+8H3ce/f4vN/v+/4A/xWRGuu0vGYGGkLu8cq+jYrdxvon+dqL7Uvx\n",
       "2P6+u0mk6aPMBkctu32Wibbbqlgg3/4tpUSyFSpvAWFeVh2Mo9sI+VtwAlmhHg4+CK5ZbOyEc4wk\n",
       "NUMW44QOhOy4uDZnOpxl3cIXt/ySc3BFyoBxMC9FA0WL5RMF9hhnJKtwMpLlcHJSQNRy6jKmFoEi\n",
       "t3lV4VBN7doczooUMOf405z9IRPPKA3TDspFaygc8lhvKJxPKYSS3Of6EvDLjs6YykEcBSicNylE\n",
       "jmjlrs/+SNaTs4vNARxxYLscJHHMOFpa5UxQRgPqivdyFhjHr/oM/ammcjakgAeFQ3XlOn06vcG8\n",
       "yjFSFgbs+3mDcdbfgSY/h5TtjmlOm2ZCDJTEsSJPyVfaolsI0cUtVbv3NHVKfmjjDHTYc3de1C6/\n",
       "F8OPcr86jwq/d2veT1WwJuQa/e/GwChIucYkf64qnpx7Kdfw8URjXphwVcgt/gAXfXtnSA0ANAAA\n",
       "AABJRU5ErkJggg==\n",
       "\" style=\"display:inline;vertical-align:middle;\" /></a></td></tr>\n",
       "<tr><td>1</td><td>Literal</td><td></td><td><a class=\"ProveItLink\" href=\"../../../../set_theory/membership/__pv_it/088cbc857536a28d4119ad9639a84270ccb0545d0/expr.ipynb\"><img src=\"data:image/png;base64,iVBORw0KGgoAAAANSUhEUgAAAAwAAAAMBAMAAACkW0HUAAAALVBMVEX///+qqqpmZmZUVFQQEBC6\n",
       "urpERETc3NyYmJjMzMwiIiIyMjKIiIju7u4AAACYsrA9AAAAAXRSTlMAQObYZgAAADxJREFUCNdj\n",
       "YOA9vWrVBgaG2b0MQMCeCyIZ2ArA1DUwyRCyahVIyWQI7xaEYm4AU7xLIdxqTQgtvGvVBgCkcQ7e\n",
       "geM/tQAAAABJRU5ErkJggg==\n",
       "\" style=\"display:inline;vertical-align:middle;\" /></a></td></tr>\n",
       "<tr><td>2</td><td>ExprTuple</td><td>3, 4</td><td><a class=\"ProveItLink\" href=\"../a5411e0e027dec243b60a0a5bef298914f8905680/expr.ipynb\"><img src=\"data:image/png;base64,iVBORw0KGgoAAAANSUhEUgAAAIAAAAAVBAMAAAB8u/sIAAAAMFBMVEX////c3NwiIiJERESqqqqY\n",
       "mJh2dnZmZmYQEBDu7u4yMjJUVFTMzMyIiIi6uroAAAAs73DqAAAAAXRSTlMAQObYZgAAAbpJREFU\n",
       "OMtjYKAY8F1A4rzFqzQOXYD1AZA4jSTAswFEymLRCxZjPwDjZn1ev0LZgYGhBsheiaSMawKIPA51\n",
       "GpiE6oGILYCrNHjLuTINqIGBgRfZB3eRFDNwg/TCpCFiYUgGMNwD6mZNYOCYgGRAJ7IBPAZAgmkC\n",
       "sgEzkA1w5Z7AwNnA8Ao5PBcgG8CwEIjdGZANYHZAdoEwkDZhKEMygD0BxQB3qCEIMbYChAE8qpZA\n",
       "Op1hKXIYBqAYAHQ+2BsIMRZ4KBo80v8BCh4vhj6gxUogALSd4wGKAcAA5H6AYgBfA5IX7joD6RcM\n",
       "/5CSAD+qAQwKDLMYUAzg+YBkADMf0M7zeA0oYUjFZwCDAciAFiQDOBxQDZACugG3F8AGvGAwRTKA\n",
       "GTUQGbiPXkA1gBUUiBOQvRAFjAcoOACPJbgBPEYTGDCikfMT1IDwy+BofISckIAuLlJS0lBSUoYI\n",
       "LIdQcDEuYCBx9guAM5NRN8jD6xg4BJBMaETLgyfR+OCkzIekA5iUWROQFIQRKDtywQGBJMB2AVt2\n",
       "xgk4F6AbAEon0kh8xg14DeAGOx45/28EabqAXvDgBHfQBXgPMAAAce53CZ6PAQIAAAAASUVORK5C\n",
       "YII=\n",
       "\" style=\"display:inline;vertical-align:middle;\" /></a></td></tr>\n",
       "<tr><td>3</td><td>Operation</td><td>operator:&nbsp;5<br>operand:&nbsp;6<br></td><td><a class=\"ProveItLink\" href=\"../a3b8415d8bad5300dc7e872d42225d73d213784d0/expr.ipynb\"><img src=\"data:image/png;base64,iVBORw0KGgoAAAANSUhEUgAAAFYAAAAVBAMAAAAutAQGAAAAMFBMVEX////c3NxERESqqqqYmJgQ\n",
       "EBDu7u4yMjKIiIi6urpUVFTMzMx2dnYiIiJmZmYAAABjE816AAAAAXRSTlMAQObYZgAAAQJJREFU\n",
       "KM9jYCAPzMAnyTIBmce9AERKYCpjbACRr5GF2BNA5D4IB2wKN9SQB2BpZLUdDEhqVyNEoGpZDiCp\n",
       "DUNWuwlEXENWyxaAUMpZgKyWXYCBgfkBsloGZYRavgPIakHqQOqR1J5D8poDslqQ/ZsYUNSaM7y9\n",
       "CwR3gEzWCShqgf5aiap2KoS3C4j5UdXyMrAVoKrdj1MtnwGPA061rAYoahkLeBlwuoEJ1W8Mqz3Q\n",
       "1LpDeUDM8wBV7aZraGqRwozzAgMoUK7evXsJEoYQFXzAYIq9e1eBgaESKY4DUVMXdwIqHzmOGXzw\n",
       "p26eBow0iROkoyTpBXjVLkThSeBTyrGBAQCMM0l31yFwowAAAABJRU5ErkJggg==\n",
       "\" style=\"display:inline;vertical-align:middle;\" /></a></td></tr>\n",
       "<tr><td>4</td><td>Literal</td><td></td><td><a class=\"ProveItLink\" href=\"../../../__pv_it/46271c8230be96415d662709611f4ed2279d702b0/expr.ipynb\"><img src=\"data:image/png;base64,iVBORw0KGgoAAAANSUhEUgAAAA0AAAAOBAMAAAAGUYvhAAAAMFBMVEX///9mZmbMzMzc3NxUVFSY\n",
       "mJju7u6IiIi6urqqqqoiIiIQEBBEREQyMjJ2dnYAAAAQvcRZAAAAAXRSTlMAQObYZgAAAElJREFU\n",
       "CNdjePvn/u01ExgYGA60s117B6YZKngh9FSWBAjfBsxnWnoMRHet/10AkS+fA6F5OB5AaIYDqDRU\n",
       "PLCGgQFoz6ktExgAgLIl8DFvGtkAAAAASUVORK5CYII=\n",
       "\" style=\"display:inline;vertical-align:middle;\" /></a></td></tr>\n",
       "<tr><td>5</td><td>Literal</td><td></td><td><a class=\"ProveItLink\" href=\"../../../negation/__pv_it/7bea79645543c2413aa17e787cca04e21046fde60/expr.ipynb\"><img src=\"data:image/png;base64,iVBORw0KGgoAAAANSUhEUgAAAAwAAAAGBAMAAAAFwGKyAAAAFVBMVEX///9UVFTMzMx2dnYiIiJm\n",
       "ZmYAAACWz4ZEAAAAAXRSTlMAQObYZgAAABRJREFUCNdjCHEBAmcGMFDEQzEBAEl+Ai6uYJv/AAAA\n",
       "AElFTkSuQmCC\n",
       "\" style=\"display:inline;vertical-align:middle;\" /></a></td></tr>\n",
       "<tr><td>6</td><td>Operation</td><td>operator:&nbsp;7<br>operands:&nbsp;8<br></td><td><a class=\"ProveItLink\" href=\"../491621fb4fe1a75cf61bb0f680150a59814c86380/expr.ipynb\"><img src=\"data:image/png;base64,iVBORw0KGgoAAAANSUhEUgAAADUAAAAPBAMAAAC2KZqIAAAAMFBMVEX///+YmJh2dnaqqqoyMjLu\n",
       "7u5UVFS6urpEREQQEBAiIiJmZmbMzMyIiIjc3NwAAAD1oEhMAAAAAXRSTlMAQObYZgAAAH9JREFU\n",
       "GNNjYGBgeMuAAfguQBmnIRQ7mDwAJnk2oMqxgYR5L2CV42kAElwBWOUY/IDYmgG7nDVUHpsc0Dyw\n",
       "udjkgO5gK8Ahx7CAIYQBl9xmBkWcck+AOnHJsR28gFOOpysARW7XqlUrV61aARHyBpPcq1atmrVq\n",
       "VQNq8B9F4QEA5vEqvogKH/gAAAAASUVORK5CYII=\n",
       "\" style=\"display:inline;vertical-align:middle;\" /></a></td></tr>\n",
       "<tr><td>7</td><td>Literal</td><td></td><td><a class=\"ProveItLink\" href=\"../087d0b4ded7c7e5bf3bba05ecb616d7a8051ff650/expr.ipynb\"><img src=\"data:image/png;base64,iVBORw0KGgoAAAANSUhEUgAAAAwAAAAOBAMAAADpk+DfAAAALVBMVEX///+YmJh2dnZmZmaqqqrc\n",
       "3NwyMjLu7u4iIiJERESIiIhUVFTMzMy6uroAAAD0I/TTAAAAAXRSTlMAQObYZgAAAEtJREFUCNdj\n",
       "uMAABDwMe0DUKoaTIKqdgS2AgYHFAITAzHYGsMQqBoa9QIqDgT0BSDE7MAkAKdYEDpAehj1SYOpk\n",
       "O5hiMwBTPAUMDAB33Atnw8aG2QAAAABJRU5ErkJggg==\n",
       "\" style=\"display:inline;vertical-align:middle;\" /></a></td></tr>\n",
       "<tr><td>8</td><td>ExprTuple</td><td>9, 9</td><td><a class=\"ProveItLink\" href=\"../0f765c86883f159901bd422ce2aa1574ee4b44270/expr.ipynb\"><img src=\"data:image/png;base64,iVBORw0KGgoAAAANSUhEUgAAADUAAAAVBAMAAAAUZLt1AAAAMFBMVEX////c3NwiIiJERESqqqqY\n",
       "mJh2dnZmZmYQEBDu7u4yMjJUVFTMzMyIiIi6uroAAAAs73DqAAAAAXRSTlMAQObYZgAAALNJREFU\n",
       "KM9jYMAH+C5gFY4DEadBBCOyAlkQwX4ASKwEsXgKkOSOg8kFDAy8F3DIhTEwcEzAITeDgeEVAw45\n",
       "ZgeGMlxybAUMS3HJsSxg6MMlx9fA8A+XHM8HvHIteMw0RZKbgCzHuoAhHSHH+QnND4+AwaqkpNSk\n",
       "pGTA2S/AwFCkpKShpKTMwMD1gIFDACm6kNigMGNNQHBZkSMwFxZHmHKcwDhikEbwkSOYWwA9yhHg\n",
       "DgMDAMpvLh492isZAAAAAElFTkSuQmCC\n",
       "\" style=\"display:inline;vertical-align:middle;\" /></a></td></tr>\n",
       "<tr><td>9</td><td>Literal</td><td></td><td><a class=\"ProveItLink\" href=\"../../../__pv_it/8f1f7fac882de28c72b62ab80a1700b6d8fd066b0/expr.ipynb\"><img src=\"data:image/png;base64,iVBORw0KGgoAAAANSUhEUgAAAA4AAAAOBAMAAADtZjDiAAAAG1BMVEX///9EREQQEBAiIiJmZmbM\n",
       "zMyIiIjc3NwAAACryk5kAAAAAXRSTlMAQObYZgAAABlJREFUCNdjYGBgKGOAgBBa0s7GxkbGxoYA\n",
       "FMUF2aBfHgoAAAAASUVORK5CYII=\n",
       "\" style=\"display:inline;vertical-align:middle;\" /></a></td></tr>\n",
       "</table>\n"
      ],
      "text/plain": [
       "0. [not](FALSE or FALSE) in BOOLEANS\n",
       "   core type: Operation\n",
       "   operator: 1\n",
       "   operands: 2\n",
       "1. in\n",
       "   core type: Literal\n",
       "   sub-expressions: \n",
       "2. ([not](FALSE or FALSE) , BOOLEANS)\n",
       "   core type: ExprTuple\n",
       "   sub-expressions: 3, 4\n",
       "3. [not](FALSE or FALSE)\n",
       "   core type: Operation\n",
       "   operator: 5\n",
       "   operand: 6\n",
       "4. BOOLEANS\n",
       "   core type: Literal\n",
       "   sub-expressions: \n",
       "5. not\n",
       "   core type: Literal\n",
       "   sub-expressions: \n",
       "6. FALSE or FALSE\n",
       "   core type: Operation\n",
       "   operator: 7\n",
       "   operands: 8\n",
       "7. or\n",
       "   core type: Literal\n",
       "   sub-expressions: \n",
       "8. (FALSE , FALSE)\n",
       "   core type: ExprTuple\n",
       "   sub-expressions: 9, 9\n",
       "9. FALSE\n",
       "   core type: Literal\n",
       "   sub-expressions: "
      ]
     },
     "execution_count": 4,
     "metadata": {},
     "output_type": "execute_result"
    }
   ],
   "source": [
    "# display the expression information\n",
    "expr.exprInfo()"
   ]
  },
  {
   "cell_type": "code",
   "execution_count": null,
   "metadata": {},
   "outputs": [],
   "source": []
  }
 ],
 "metadata": {
  "kernelspec": {
   "display_name": "Python 3",
   "language": "python",
   "name": "python3"
  }
 },
 "nbformat": 4,
 "nbformat_minor": 0
}
