{
 "cells": [
  {
   "cell_type": "markdown",
   "metadata": {},
   "source": [
    "Show the Proof\n",
    "========"
   ]
  },
  {
   "cell_type": "code",
   "execution_count": 1,
   "metadata": {},
   "outputs": [
    {
     "data": {
      "text/html": [
       "<table><tr><th>&nbsp;</th><th>step type</th><th>requirements</th><th>statement</th></tr>\n",
       "<tr><td>0</td><td>assumption</td><td></td><td><span style=\"font-size:20px;\"><a class=\"ProveItLink\" href=\"../2a640e897d56fea7535bae85e531a7150d03870d0/expr.ipynb\"><img src=\"data:image/png;base64,iVBORw0KGgoAAAANSUhEUgAAAV0AAAAVBAMAAAAX2iAxAAAAMFBMVEX///9ERETc3NyqqqpUVFS6\n",
       "urrMzMwyMjIQEBCIiIh2dnYiIiLu7u5mZmaYmJgAAABJJ2g3AAAAAXRSTlMAQObYZgAAA8RJREFU\n",
       "SMfVl09IFHEUx5/r/tHZ2dVDYBS0Gx06iXvyFilMmonsHruECkKCkX8QCsrWiMKDlEEXD6HQRSJy\n",
       "D10SwSEI8VCsGhWU7h4qCAL/rUlq2u/93m9n583OwWM7ML+Z/cz7/n7v93vv92YWAMKrUBKH/3kU\n",
       "L/oMlMjhv4dt5br62eN4/O3QMGoSDrhwbCVby9ETYdffwVllPGcYyb4iu4t/uJ3+uG3Vk3ZIN76G\n",
       "4xtLDGoSfJK3w4olsfHJWxr9LkBomzPtIcAVcYKch5+EOwDlWw5tlfC1vJozYQenuHYqC77P2WJp\n",
       "VcqlP5iy+xueM0XrxceVY7JHsRb+HGP6LWGjbYq7JrQYpzDtiiZjMi204yXNmA/tvjPt/KxopqPF\n",
       "0t40OOCk098zGUxnv1gTCJoyMMKv8C5jgVEcFwWdaDFLAcQY9I4xLUyLsXTONIxBPdPeNFUeOqUT\n",
       "MSdMOP0dm5BxGhDnOQnKxIPgKGMZ7EbmW0BMrpwSrww3QF0D02JyTUKUscA+eOCXXRvCGUAtFEkh\n",
       "YrpA5q/PPJ8F9XyAUqYBPP2mnXl25B7BMOF4gSjZ4TL0NjAtbEBYdmfvLwXv5Y2lrZMb8g04pQB7\n",
       "4ALJ3xDt4rcypHL9ZRyECy3jX2jMPAsdFHbsrIorpQKsTTKtb8dIRoH3156GJa7NZK3umNRo/OuE\n",
       "sq6sYdNNJSsBdTK8Ir+9RCaioL8COwtuFvwV++UC3U3gescTTKv9hgAA7296sHWYa+eihSpml0Ll\n",
       "lgsUQREedj2gTW4YcZpKCuapi+PoS9bOqmSp1mnuoKvyGsFmhGsD66CpkmWxpAkNwLSH4nx640SR\n",
       "FMr2oRiKo0a4c7lD1d0KGn8ZXpJNLh9mi1VIVb1EoZiWLaRW+IBrRU57YIGzPdCVIq8dsXY+l1K1\n",
       "dUIxT/TGK5+JjR+kaJ2FFK04uhCP2ZlXTpuqgqcvqN6SmFoV1UxL5fcFY7L8AtPGzfzOd0h7J12g\n",
       "yl8NkSdmrbn3OlVoLL9UECwmXdOoIELTT5V5mFo1JtPKGqres3mmbReSX2lxpzqGUOU34QLt9QzT\n",
       "RCWN/6Rpld/u28DYWgx8+Rd7J70tZPm9muZ2ctF6OhgLrBf8VVrMoq4ZF2nEdIE2f08/GoBwZIdG\n",
       "HaIci+SM5jv5AYaUvrltOY8CZP1O2DV+5HZ6o/i0ad1jTNgVPmGUFroGV7I/uHTxsAU+HF5i0LNI\n",
       "gL3frOOay6ecC/ObR7M7qtZN6oDu/v6/h/Q3XDr+yu9f/XXJ/L+4T7v0WQn9f/sH5+lRdGYHVhUA\n",
       "AAAASUVORK5CYII=\n",
       "\" style=\"display:inline;vertical-align:middle;\" /></a> <a class=\"ProveItLink\" href=\"proof.ipynb\" style=\"text-decoration: none\">&#x22A2;&nbsp;</a><a class=\"ProveItLink\" href=\"../a0c689763da4186ed18e884aefd3a44bfbe9fbb50/expr.ipynb\"><img src=\"data:image/png;base64,iVBORw0KGgoAAAANSUhEUgAAAUoAAAAPBAMAAABw5ZtdAAAAMFBMVEX///92dnYQEBBERERUVFS6\n",
       "urqIiIhmZmaqqqrc3Nzu7u6YmJgyMjIiIiLMzMwAAACFkkdwAAAAAXRSTlMAQObYZgAAA1ZJREFU\n",
       "SMeNlk1ME0EUx/8LLaWfNB71AMEbHkTjTUyrrHAB2ptHSDR4bCMmoEbbmzds4gEPJuxFjJHDHtSD\n",
       "ByFCQvAjrYknLhDhpJJCAOWjWOfNbLf7tntgkg6bH+83Mzvz5rUAtU3w9qaq6z1pF5y5NG5OcXRL\n",
       "xC2scdaS2tX14nxD3LU/PC50s/9BMOtSd+6HUzv3GNRsUKTOLx/VnGeBwB5n2jnghvhArj6mxArQ\n",
       "uu9y28QKW7s5E3G4zN1TJvx3zEa1reQxHrXwqiF6H8GWETmOeO/YLmOhryJGOxBPQxQxKsXYtuhy\n",
       "BnMxTH+yjPkp7i1zZ1dE115oVMtZuGBcrfJZrkBTivdH1JBbL1YT3mYs0kWzdYhunSJW1BHRfpdH\n",
       "mIt2MUOIM432e5K5Hw0r09xqJu+GVuqNZOTDsvg8lqBZrCbaxViOZJlHEfFKrSqhmrdEN51kLqVP\n",
       "HAXGIocI4r3TDdC6MYUGFQnDA9IOGU9MWHRZpUISwQXDyYIVmfF0EDQLzUZx9MrlJHOxg7Aczjle\n",
       "Ca/lg+1Oy2R7BbcKHMMDivZCHprcYbnTYuK+0YdqphoLHNVv3Yp1cuqwMRdnrr+iFwvg4w1ncY+7\n",
       "OdMejql67183tGpDGtPyAEW2+lQOZAoIfYeTRQ/qqxTZf109ZWhvU2nmav8QAfh47YuDHdxdLdTr\n",
       "j1NFy74HpEzV9ZRadgmzSrxIKzCdrG1Lnrh6T4Ss4pCgrpO7kS1oVrGxWdFAEsytis/tLxcaVDQf\n",
       "ohGq2tSkZp3AGfWf3dpB2qxJxk5KFMhrZj1lwkfcFbkaxAxnxwhZRs3tdNxep2pXRwZFE5c3qs7j\n",
       "OUpqd2niVN7JfPIV1c0OzkfVAFRW0dTNXFUuTzMmyyWYmzLqt5ep5bgHFF7e3lXfL1VHqVyqS20z\n",
       "uSBNFTAMvbMyilKmx2CurHnWN1+NaXv1pLZcuneuKaxymfaAkMdvJUPsimGXyx+fwNhcHv7aF+y6\n",
       "qumyXP7O8ji5QZtrjFmb4HQpTza+eagJwwPi6fllhBMVNdeSyp3Erj7wuTbskmUN9E/UUERFvxRx\n",
       "vY94XKhX/LAYPGZMxNV/QFguNhbHzQ9cHav24W71KoPBMRvY7ScamweLGSeLO6nrpTL4H6OQRoG9\n",
       "Iep8AAAAAElFTkSuQmCC\n",
       "\" style=\"display:inline;vertical-align:middle;\" /></a></span></td></tr>\n",
       "</table>"
      ],
      "text/plain": [
       "<proveit._core_.proof._ShowProof at 0x7f95000b0c18>"
      ]
     },
     "execution_count": 1,
     "metadata": {},
     "output_type": "execute_result"
    }
   ],
   "source": [
    "import proveit\n",
    "%show_proof"
   ]
  },
  {
   "cell_type": "code",
   "execution_count": null,
   "metadata": {},
   "outputs": [],
   "source": []
  }
 ],
 "metadata": {
  "kernelspec": {
   "display_name": "Python 3",
   "language": "python",
   "name": "python3"
  }
 },
 "nbformat": 4,
 "nbformat_minor": 0
}
