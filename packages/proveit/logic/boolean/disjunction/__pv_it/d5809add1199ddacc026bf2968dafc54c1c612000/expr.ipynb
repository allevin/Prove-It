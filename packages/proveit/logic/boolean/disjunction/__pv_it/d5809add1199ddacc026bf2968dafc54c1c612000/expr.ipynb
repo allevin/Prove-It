{
 "cells": [
  {
   "cell_type": "markdown",
   "metadata": {},
   "source": [
    "Expression of type <a class=\"ProveItLink\" href=\"../../../../../../../doc/html/api/proveit.logic.Set.html\">Set</a>\n",
    "=======================\n",
    "# from context <a class=\"ProveItLink\" href=\"../../_context_.ipynb\">proveit.logic.boolean.disjunction</a>"
   ]
  },
  {
   "cell_type": "code",
   "execution_count": 1,
   "metadata": {},
   "outputs": [],
   "source": [
    "# import Expression classes needed to build the expression\n",
    "from proveit._common_ import B, C\n",
    "from proveit.logic import Booleans, InSet, Set"
   ]
  },
  {
   "cell_type": "code",
   "execution_count": 2,
   "metadata": {},
   "outputs": [
    {
     "data": {
      "text/html": [
       "<strong id=\"expr\">expr:</strong> <a class=\"ProveItLink\" href=\"expr.ipynb\"><img src=\"data:image/png;base64,iVBORw0KGgoAAAANSUhEUgAAAIsAAAAVBAMAAACEWwD/AAAAMFBMVEX////c3NxERESqqqpUVFS6\n",
       "urrMzMwyMjIQEBCIiIh2dnYiIiLu7u5mZmaYmJgAAABXZE4RAAAAAXRSTlMAQObYZgAAAidJREFU\n",
       "OMtjYGDgu8dACWBbJQCieHYxUAbYmkEk5wcgwef/xcWpFEWWq179e7cynMszyfce4wVkBcs/1Vds\n",
       "MgAyroOVN4BIDgUGhvsBKOYwsU44fmoBjLfiAQPrjQcoChQieWpWgaQQxuRPAGIHdGM4AwqgnON7\n",
       "gMR6ATRjGKayoxozH6jiPcTqk9W7t0ONYX7gA9VScQBIREC8N3337gKoMXYsB1CM0QDiHQfAIVZ3\n",
       "AOGaQAUIm/cziJQFs9PfILlGCNU1XxgYxHXAkkIHEJ7KfgTlyIOtPwYiGHUQnmLbpwMzhhekgu3L\n",
       "zLn7IJKKiLDZ/b8Tyr6PCFwmeAApRO//AQxShvcgTgYofjg/MjCcBocwjwJyEE+G8vYjAvcQchDP\n",
       "NALS7MB0kNIG1gL0Gec/EIu1e/dueBAzKERBdPwHk2AfRgDl4UHMxAqKFnWgWyMSgAx+oEv4foFD\n",
       "2AHJNQwKTBB2P4hgBqlkSEF2DRMD0LncIKNYQCbnA81jAccGzwZsxviDHMILZp7GMAYcNlwboMkG\n",
       "EhsMfijGRDHwwFInwxqwMMsDZGNAnkJEODDZsLVDIvd0AMIYvpsKDOdB1vABXRoLCWaerUjGvJ2E\n",
       "nG4u/XdxKYfawlibAMuan3Y4MzCc+AgOkZK7BlDd4tfgWVO7xQA1+SEBZndITMFAIHrJYFK9uwCZ\n",
       "j90YdPCAUIEDNoaPYmPA5Q3PTvyKOAmWfq1gim8x5WUxAAhEnkukU2/XAAAAAElFTkSuQmCC\n",
       "\" style=\"display:inline;vertical-align:middle;\" /></a><br>"
      ],
      "text/plain": [
       "expr: {B in BOOLEANS , C in BOOLEANS}"
      ]
     },
     "execution_count": 2,
     "metadata": {},
     "output_type": "execute_result"
    }
   ],
   "source": [
    "# build up the expression from sub-expressions\n",
    "expr = Set(InSet(B, Booleans), InSet(C, Booleans))"
   ]
  },
  {
   "cell_type": "code",
   "execution_count": 3,
   "metadata": {},
   "outputs": [
    {
     "name": "stdout",
     "output_type": "stream",
     "text": [
      "Passed sanity check: built 'expr' is the same as the stored Expression.\n"
     ]
    }
   ],
   "source": [
    "# check that the built expression is the same as the stored expression\n",
    "%check_expr"
   ]
  },
  {
   "cell_type": "code",
   "execution_count": 4,
   "metadata": {},
   "outputs": [
    {
     "data": {
      "text/html": [
       "<table><tr><th>&nbsp;</th><th>core type</th><th>sub-expressions</th><th>expression</th></tr>\n",
       "<tr><td>0</td><td>Operation</td><td>operator:&nbsp;1<br>operands:&nbsp;2<br></td><td><a class=\"ProveItLink\" href=\"expr.ipynb\"><img src=\"data:image/png;base64,iVBORw0KGgoAAAANSUhEUgAAAIsAAAAVBAMAAACEWwD/AAAAMFBMVEX////c3NxERESqqqpUVFS6\n",
       "urrMzMwyMjIQEBCIiIh2dnYiIiLu7u5mZmaYmJgAAABXZE4RAAAAAXRSTlMAQObYZgAAAidJREFU\n",
       "OMtjYGDgu8dACWBbJQCieHYxUAbYmkEk5wcgwef/xcWpFEWWq179e7cynMszyfce4wVkBcs/1Vds\n",
       "MgAyroOVN4BIDgUGhvsBKOYwsU44fmoBjLfiAQPrjQcoChQieWpWgaQQxuRPAGIHdGM4AwqgnON7\n",
       "gMR6ATRjGKayoxozH6jiPcTqk9W7t0ONYX7gA9VScQBIREC8N3337gKoMXYsB1CM0QDiHQfAIVZ3\n",
       "AOGaQAUIm/cziJQFs9PfILlGCNU1XxgYxHXAkkIHEJ7KfgTlyIOtPwYiGHUQnmLbpwMzhhekgu3L\n",
       "zLn7IJKKiLDZ/b8Tyr6PCFwmeAApRO//AQxShvcgTgYofjg/MjCcBocwjwJyEE+G8vYjAvcQchDP\n",
       "NALS7MB0kNIG1gL0Gec/EIu1e/dueBAzKERBdPwHk2AfRgDl4UHMxAqKFnWgWyMSgAx+oEv4foFD\n",
       "2AHJNQwKTBB2P4hgBqlkSEF2DRMD0LncIKNYQCbnA81jAccGzwZsxviDHMILZp7GMAYcNlwboMkG\n",
       "EhsMfijGRDHwwFInwxqwMMsDZGNAnkJEODDZsLVDIvd0AMIYvpsKDOdB1vABXRoLCWaerUjGvJ2E\n",
       "nG4u/XdxKYfawlibAMuan3Y4MzCc+AgOkZK7BlDd4tfgWVO7xQA1+SEBZndITMFAIHrJYFK9uwCZ\n",
       "j90YdPCAUIEDNoaPYmPA5Q3PTvyKOAmWfq1gim8x5WUxAAhEnkukU2/XAAAAAElFTkSuQmCC\n",
       "\" style=\"display:inline;vertical-align:middle;\" /></a></td></tr>\n",
       "<tr><td>1</td><td>Literal</td><td></td><td><a class=\"ProveItLink\" href=\"../../../../set_theory/enumeration/__pv_it/07381ed5b23806e8d7914b78cb6667769e3708dd0/expr.ipynb\"><img src=\"data:image/png;base64,iVBORw0KGgoAAAANSUhEUgAAAB4AAAAOBAMAAADKyLEKAAAAMFBMVEX///8iIiIQEBCIiIjMzMzc\n",
       "3Nyqqqp2dnZEREQyMjK6urru7u5mZmZUVFSYmJgAAACI6eGPAAAAAXRSTlMAQObYZgAAALRJREFU\n",
       "CNdjYGDgu3Nm3wIGBJjHwN0PZW5yYGDgLWBgyITy8zcwMMQDxZyh/INAvD6BgcEFypcB4vjPDiBm\n",
       "TPFRrhs/LjMwMP//38rAwCbKEMPA9gEkE3fp0waG+AUMRxh4JkC01T9guPTOOICBEWgVH5C//wHD\n",
       "H5D4fqCz9oCMDGD4DLaegRXslLMMDMpAgxlOMmQxHDRgYG5gYLBk4D7KcIe7gOHC2rt9QCXsh40Z\n",
       "GCKMGQDRkC8N/Ph1XAAAAABJRU5ErkJggg==\n",
       "\" style=\"display:inline;vertical-align:middle;\" /></a></td></tr>\n",
       "<tr><td>2</td><td>ExprTuple</td><td>3, 4</td><td><a class=\"ProveItLink\" href=\"../7ab378a2eed53e783eb391d287cb37538898dede0/expr.ipynb\"><img src=\"data:image/png;base64,iVBORw0KGgoAAAANSUhEUgAAAIUAAAAVBAMAAACakjBMAAAAMFBMVEX////c3NwiIiJERESqqqqY\n",
       "mJh2dnZmZmYQEBDu7u4yMjJUVFTMzMyIiIi6uroAAAAs73DqAAAAAXRSTlMAQObYZgAAAi9JREFU\n",
       "OMtjYKAG4LtAkfY4EHEaiKP/795t9QBFLuvz+hXKDnDuXOvyAHFkebb1Vr+aTBgY2A8AOStBIs1A\n",
       "zj9UCwzecq5Mg+toZWB43ooiz8x3Yda0BAaGBQwMvCCv8PwF4t/oZjDc44KyORdNAJrzEd0M3gdA\n",
       "A8IYGDiAsgy8QGnWbxDlt5SUFkDNcOWeAFHP1QkKuAaIrxYpaUHNYAnYycAwg4HhFZgPlGbqBCs5\n",
       "FYnkDmEoux4UMIwFICbP0gkIdzw0ANIODGUgPv8GBsbFYDlGS4RfeFShHMZfYBeCQo9BeALCL4eC\n",
       "QV4sYFgK4p/fe7coACIjADfjkf4PaLSzf0UEgyEiPJT+9wJplgUMfSD+fQEGTm2wzGTkML3rDGEy\n",
       "IUKT0wA5TK8YgIMJHKMWIHPADnmhpIQIU2a+BLBy/g9g7eAU2QSUh4Upg8EzYAB9gJgBitb4BFiK\n",
       "g7uDmQFiKwfYDB9wkG5AcgeDATPYjBaQBMi/+8GJchI2M7h/gkhwtHAqoJsB9IspNHlAwp6BOwDZ\n",
       "DKBfJkCTIAMbJEK2opgB9AvrAoZ0aPI4sRISZnpIZoRfZuD8BGLHOzDwFUKEJz1AmMFaawCO20fA\n",
       "qLP/vXvXUqiUVA08zxl1OzBw9oMim2fX9hKoPOPyA7A891ljCygNP2DgEEDLzN6LIPECKxrQ5Vl2\n",
       "QeIFBoBpnTUBf/nASqgAyYXlffLN4AQ5Whq/GkKlHDfIr4yUlYV3GBgA5x6aq+uVg8AAAAAASUVO\n",
       "RK5CYII=\n",
       "\" style=\"display:inline;vertical-align:middle;\" /></a></td></tr>\n",
       "<tr><td>3</td><td>Operation</td><td>operator:&nbsp;6<br>operands:&nbsp;5<br></td><td><a class=\"ProveItLink\" href=\"../41a86ef0ff9417c73c472e1bdfa161b308e2753e0/expr.ipynb\"><img src=\"data:image/png;base64,iVBORw0KGgoAAAANSUhEUgAAADcAAAAPBAMAAACy3Eq1AAAAMFBMVEX///+qqqru7u4iIiJ2dnbc\n",
       "3NyIiIjMzMxmZmYQEBC6uroyMjJERERUVFSYmJgAAADLUcuvAAAAAXRSTlMAQObYZgAAAOZJREFU\n",
       "GNNjYGB4+//u3dMLGJCB95/9O20EwMw5DAwcv1AkGQ4sY9rkAmKwfwPiv+iSDFncIAbbVwYGvi9g\n",
       "MbXNxtYwSTleBSCDZwIDA/MksBn7FJB0xoAY/BcYWPeARWMUEMay2x0CMeqvpTU/AAsdRdi52P5n\n",
       "AoiRH8DAZAtiMB1AdlCaDIhxEqQApJVrsrExwkE8XA5ABsgX70EM9gvIOnkYgAax/wNy7oOCg8kA\n",
       "QxLkTdbfYKF7KJIgY0HerNwEFlJegCT5IgcYquf/3r29DyLEuqMAHvCH5wqghigD422oayEAAEv1\n",
       "Sz0foy5uAAAAAElFTkSuQmCC\n",
       "\" style=\"display:inline;vertical-align:middle;\" /></a></td></tr>\n",
       "<tr><td>4</td><td>Operation</td><td>operator:&nbsp;6<br>operands:&nbsp;7<br></td><td><a class=\"ProveItLink\" href=\"../fd7f678709486d41d06d72d1a15c8d8fea4ac2f30/expr.ipynb\"><img src=\"data:image/png;base64,iVBORw0KGgoAAAANSUhEUgAAADYAAAAPBAMAAABdHiGLAAAAMFBMVEX////MzMyqqqoiIiIyMjK6\n",
       "uroQEBB2dnbc3NyYmJhmZmZUVFRERESIiIju7u4AAAB204erAAAAAXRSTlMAQObYZgAAANhJREFU\n",
       "GNNjYGDgu7NrJccCBiTA7n/kS/IhEKtsAgPrsgnIcgw8rBeePC9gYHhiB+TUN6DL8QY4MDC4PQBy\n",
       "wsBCfFeMjR2gckwT9jFwfQJxusByIvOQ9EUcYOgHK3wIIjjOIZkpPOcBw3qEK3gaEHLG/3MZGOwR\n",
       "rniD4pZLBxj+gzkg9zCEGRsj3MJwIJwhH8RmEgCR0sj6GA7wMOwHaeECizxGl5O/AGTXgUW4J6DI\n",
       "hTNwAv0XBXEPnymSHOfaA0BbvFcpQIVaFsLD+o/ZJgZUoO0McScEAABFOz+SfMQzfQAAAABJRU5E\n",
       "rkJggg==\n",
       "\" style=\"display:inline;vertical-align:middle;\" /></a></td></tr>\n",
       "<tr><td>5</td><td>ExprTuple</td><td>8, 10</td><td><a class=\"ProveItLink\" href=\"../46fef8cd01e90537d7ca36d1ba2c809996ed4b3a0/expr.ipynb\"><img src=\"data:image/png;base64,iVBORw0KGgoAAAANSUhEUgAAADQAAAAVBAMAAAD7ptBLAAAAMFBMVEX////c3NwiIiJERESqqqqY\n",
       "mJh2dnZmZmYQEBDu7u4yMjJUVFTMzMyIiIi6uroAAAAs73DqAAAAAXRSTlMAQObYZgAAASVJREFU\n",
       "KM9jYMAD+C5gE2V9ACROA3H0/927rR6AxbI+r1+h7MDAUANkrwQJNDMwsP+DqDd4y7kyjYGBi4GB\n",
       "F2Qez18g/g2TYrgHFGdNYOCYAOTyfgSyv8GlXLknMHA2MLwCcZkbGBiYOhG6hIG0CUMZiMu/gYFx\n",
       "8QSYFI+qJZBOZ1gK4p7fe7coAOpsg0f6P0D2ezH0gbj3BRg4tRngBt51BtIvGMBOtgBJB8ClmPkS\n",
       "gCZBpEDujk9ASDEYgKRaQN76CiT2O6BKvWAwhXqL8RcDAyeygVFAN0K8dQIYYPMVIFLhl8GOfwQM\n",
       "Pfvfu3eBPDHjIzh4jbpBZq9j4BBAioqHCCYwoFgTkKQCEEy2C9BIwZSaBcTSCC4vkqqNQMyINQHw\n",
       "HmAAAHCOVkQeB6BvAAAAAElFTkSuQmCC\n",
       "\" style=\"display:inline;vertical-align:middle;\" /></a></td></tr>\n",
       "<tr><td>6</td><td>Literal</td><td></td><td><a class=\"ProveItLink\" href=\"../../../../set_theory/membership/__pv_it/088cbc857536a28d4119ad9639a84270ccb0545d0/expr.ipynb\"><img src=\"data:image/png;base64,iVBORw0KGgoAAAANSUhEUgAAAAwAAAAMBAMAAACkW0HUAAAALVBMVEX///+qqqpmZmZUVFQQEBC6\n",
       "urpERETc3NyYmJjMzMwiIiIyMjKIiIju7u4AAACYsrA9AAAAAXRSTlMAQObYZgAAADxJREFUCNdj\n",
       "YOA9vWrVBgaG2b0MQMCeCyIZ2ArA1DUwyRCyahVIyWQI7xaEYm4AU7xLIdxqTQgtvGvVBgCkcQ7e\n",
       "geM/tQAAAABJRU5ErkJggg==\n",
       "\" style=\"display:inline;vertical-align:middle;\" /></a></td></tr>\n",
       "<tr><td>7</td><td>ExprTuple</td><td>9, 10</td><td><a class=\"ProveItLink\" href=\"../27442cd11f18ed9aa91867e6dfbe7fcf8d7a975d0/expr.ipynb\"><img src=\"data:image/png;base64,iVBORw0KGgoAAAANSUhEUgAAADIAAAAVBAMAAAD2uKAMAAAAMFBMVEX////c3NwiIiJERESqqqqY\n",
       "mJh2dnZmZmYQEBDu7u4yMjJUVFTMzMyIiIi6uroAAAAs73DqAAAAAXRSTlMAQObYZgAAASVJREFU\n",
       "KM9jYMAN+C5gEWR9ACROg1hzrcsDxEGMrM/rVyg7MDDUANkrgZitlYHheStYtcFbzpVpDAxcDAy8\n",
       "QMM4F00Ayn6EyjDcAwqzJjBwAAW5OkH2NcBkXLknMHA2MLwC8uqBBjMwFsD1CANpE4YyoNgvkBDn\n",
       "AagMj6olkE5nWMrAwP4Vyb0Gj/R/gPzhxdDHwMD0EVnmLcNdZyD9guEfAwP/B7BpcBlmvgQGhvMg\n",
       "GQ6wjA9ChsEAJNPCwMD9EyRUgCrzgsGUgYHnLygYJkDMg5kWBXQdA0O8AwNfIQPDfAWITPhlsKsf\n",
       "AUmeXdtLgNSMj+AQNeoGeXwdA4cAwsUPEUxg6ACDDg4CEEy2C5BYwJSZBcTScB4vUlBsBIUxttjm\n",
       "PcAAAB/VTWJRVON/AAAAAElFTkSuQmCC\n",
       "\" style=\"display:inline;vertical-align:middle;\" /></a></td></tr>\n",
       "<tr><td>8</td><td>Variable</td><td></td><td><a class=\"ProveItLink\" href=\"../../../../../__pv_it/077b2ff79244fb4582cbe22c6e3356fa92a52f2f0/expr.ipynb\"><img src=\"data:image/png;base64,iVBORw0KGgoAAAANSUhEUgAAABAAAAAOBAMAAADUAYG5AAAAMFBMVEX///+qqqru7u4iIiJ2dnbc\n",
       "3NyIiIjMzMxmZmYQEBC6uroyMjJERERUVFSYmJgAAADLUcuvAAAAAXRSTlMAQObYZgAAAGpJREFU\n",
       "CNdjYGB4+//u3dMLGIBgDgMDxy8gzf4NiP8CGWxfGRj4vgAZPBMYGJgnARn8FxhY9ygAGfXX0pof\n",
       "gDTlBzAw2YIYJ0EckBBI53sHoBH/gIz7AhBjWH9DjancBLTl/N+7t/cxMAAA3u4f/5xagjYAAAAA\n",
       "SUVORK5CYII=\n",
       "\" style=\"display:inline;vertical-align:middle;\" /></a></td></tr>\n",
       "<tr><td>9</td><td>Variable</td><td></td><td><a class=\"ProveItLink\" href=\"../../../../../__pv_it/985a1bdf1540838275dec15f4ad6de261cca93ce0/expr.ipynb\"><img src=\"data:image/png;base64,iVBORw0KGgoAAAANSUhEUgAAAA8AAAAOBAMAAAACpFvcAAAAMFBMVEX////MzMyqqqoiIiIyMjK6\n",
       "uroQEBB2dnbc3NyYmJhmZmZUVFRERESIiIju7u4AAAB204erAAAAAXRSTlMAQObYZgAAAGZJREFU\n",
       "CNdjYGDgu7NrJccCBgaGsgkMrMsmMDA8sQNy6hsYGNweABlhDAxcn4A0QxcDQ78DiPGQgWH9BAYI\n",
       "sG+AMv6DSaCGfBDNJMDAsB+kmwuI5S8AiTog5gSaEwXWIO29SgFIAQBC+RaDQlidVgAAAABJRU5E\n",
       "rkJggg==\n",
       "\" style=\"display:inline;vertical-align:middle;\" /></a></td></tr>\n",
       "<tr><td>10</td><td>Literal</td><td></td><td><a class=\"ProveItLink\" href=\"../../../__pv_it/46271c8230be96415d662709611f4ed2279d702b0/expr.ipynb\"><img src=\"data:image/png;base64,iVBORw0KGgoAAAANSUhEUgAAAA0AAAAOBAMAAAAGUYvhAAAAMFBMVEX///9mZmbMzMzc3NxUVFSY\n",
       "mJju7u6IiIi6urqqqqoiIiIQEBBEREQyMjJ2dnYAAAAQvcRZAAAAAXRSTlMAQObYZgAAAElJREFU\n",
       "CNdjePvn/u01ExgYGA60s117B6YZKngh9FSWBAjfBsxnWnoMRHet/10AkS+fA6F5OB5AaIYDqDRU\n",
       "PLCGgQFoz6ktExgAgLIl8DFvGtkAAAAASUVORK5CYII=\n",
       "\" style=\"display:inline;vertical-align:middle;\" /></a></td></tr>\n",
       "</table>\n"
      ],
      "text/plain": [
       "0. {B in BOOLEANS , C in BOOLEANS}\n",
       "   core type: Operation\n",
       "   operator: 1\n",
       "   operands: 2\n",
       "1. Set\n",
       "   core type: Literal\n",
       "   sub-expressions: \n",
       "2. (B in BOOLEANS , C in BOOLEANS)\n",
       "   core type: ExprTuple\n",
       "   sub-expressions: 3, 4\n",
       "3. B in BOOLEANS\n",
       "   core type: Operation\n",
       "   operator: 6\n",
       "   operands: 5\n",
       "4. C in BOOLEANS\n",
       "   core type: Operation\n",
       "   operator: 6\n",
       "   operands: 7\n",
       "5. (B , BOOLEANS)\n",
       "   core type: ExprTuple\n",
       "   sub-expressions: 8, 10\n",
       "6. in\n",
       "   core type: Literal\n",
       "   sub-expressions: \n",
       "7. (C , BOOLEANS)\n",
       "   core type: ExprTuple\n",
       "   sub-expressions: 9, 10\n",
       "8. B\n",
       "   core type: Variable\n",
       "   sub-expressions: \n",
       "9. C\n",
       "   core type: Variable\n",
       "   sub-expressions: \n",
       "10. BOOLEANS\n",
       "    core type: Literal\n",
       "    sub-expressions: "
      ]
     },
     "execution_count": 4,
     "metadata": {},
     "output_type": "execute_result"
    }
   ],
   "source": [
    "# display the expression information\n",
    "expr.exprInfo()"
   ]
  },
  {
   "cell_type": "code",
   "execution_count": null,
   "metadata": {},
   "outputs": [],
   "source": []
  }
 ],
 "metadata": {
  "kernelspec": {
   "display_name": "Python 3",
   "language": "python",
   "name": "python3"
  }
 },
 "nbformat": 4,
 "nbformat_minor": 0
}
