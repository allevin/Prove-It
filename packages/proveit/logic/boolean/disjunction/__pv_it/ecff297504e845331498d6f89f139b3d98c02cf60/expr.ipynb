{
 "cells": [
  {
   "cell_type": "markdown",
   "metadata": {},
   "source": [
    "Expression of type <a class=\"ProveItLink\" href=\"../../../../../../../doc/html/api/proveit.ExprTuple.html\">ExprTuple</a>\n",
    "=======================\n",
    "# from context <a class=\"ProveItLink\" href=\"../../_context_.ipynb\">proveit.logic.boolean.disjunction</a>"
   ]
  },
  {
   "cell_type": "code",
   "execution_count": 1,
   "metadata": {},
   "outputs": [],
   "source": [
    "# import Expression classes needed to build the expression\n",
    "from proveit import ExprTuple\n",
    "from proveit._common_ import B, D\n",
    "from proveit.logic import Booleans, Implies, InSet"
   ]
  },
  {
   "cell_type": "code",
   "execution_count": 2,
   "metadata": {},
   "outputs": [
    {
     "data": {
      "text/html": [
       "<strong id=\"expr\">expr:</strong> <a class=\"ProveItLink\" href=\"expr.ipynb\"><img src=\"data:image/png;base64,iVBORw0KGgoAAAANSUhEUgAAAJEAAAAVBAMAAAC01xHeAAAAMFBMVEX////c3NwiIiJERESqqqqY\n",
       "mJh2dnZmZmYQEBDu7u4yMjJUVFTMzMyIiIi6uroAAAAs73DqAAAAAXRSTlMAQObYZgAAAkNJREFU\n",
       "OMtjYKAe4LtABUPiQMRpIL79f/fuxQdQ5NjWW/1qMoHxooEKrB5gmsC7//fuXTYMDOwgzStBIr8Y\n",
       "GFi+oCpi5rswa1oCjNcMVP0Pi2P4FzAw+DswMAApXpDneL4BifoJ6CbxPlgA5fD8BeLfcDlOOOs8\n",
       "0C72nwwMYQwMHCD9vCDrzkMCbO4iJS2oSSwBO2G++MjAwPoNrp8Lbun9BxBrZjAwvALr+gAk5DeA\n",
       "bV86AeGmhwYwBzYwMDB1ImJpA4xlD8SMQMcyOzCUgX0L0nEeLC08AeG7Q8EwDv8GBsbFSL7PhTE+\n",
       "M0C8zVbAsJQB5rF4cPAaIsJJ6X8vPDj23i0KALOKlEBAvwARfmBvsyxg6AP7FhSJ+0GxzGmAHOJX\n",
       "YLz7Agyc2sjx4QVJErx/gAQ3MJT5Ghj+wXzL0AEOgSagjbAQZzB4BtVoATItAMkkzhUP4AHMAQxE\n",
       "ng8Qk0C+Zf0Kdu4GJDcxGDBDOb/hvoeCU5kM8ACODwCb1ALzLQfYJ5wK2EziAdmy3wERTkqW0PC7\n",
       "AEm1IN+ZwnxrBYmarSgmPYMkQlByYvyF5CRvWPgBA5gZlEtYFzCkQ317Chobkx4gTGKtNWCYrwBN\n",
       "TidWIgxiXIBITjzLwdm0gOERA8N0+9+7N9fAFC0/AMvBnzW2ABMv0DnsQAW7liLnJAFIsBcDM7Y5\n",
       "WD3XAwYOAbQ8ybILEncw8BBLvuXBEAHmFtYEAkVPAFEFVC6sVKHUJE5QwEnjV8NLlJO4QWHESI3S\n",
       "9w4DAwCEnqaYSVPdggAAAABJRU5ErkJggg==\n",
       "\" style=\"display:inline;vertical-align:middle;\" /></a><br>"
      ],
      "text/plain": [
       "expr: (D in BOOLEANS , B => D)"
      ]
     },
     "execution_count": 2,
     "metadata": {},
     "output_type": "execute_result"
    }
   ],
   "source": [
    "# build up the expression from sub-expressions\n",
    "expr = ExprTuple(InSet(D, Booleans), Implies(B, D))"
   ]
  },
  {
   "cell_type": "code",
   "execution_count": 3,
   "metadata": {},
   "outputs": [
    {
     "name": "stdout",
     "output_type": "stream",
     "text": [
      "Passed sanity check: built 'expr' is the same as the stored Expression.\n"
     ]
    }
   ],
   "source": [
    "# check that the built expression is the same as the stored expression\n",
    "%check_expr"
   ]
  },
  {
   "cell_type": "code",
   "execution_count": 4,
   "metadata": {},
   "outputs": [
    {
     "data": {
      "text/html": [
       "<table><tr><th>&nbsp;</th><th>core type</th><th>sub-expressions</th><th>expression</th></tr>\n",
       "<tr><td>0</td><td>ExprTuple</td><td>1, 2</td><td><a class=\"ProveItLink\" href=\"expr.ipynb\"><img src=\"data:image/png;base64,iVBORw0KGgoAAAANSUhEUgAAAJEAAAAVBAMAAAC01xHeAAAAMFBMVEX////c3NwiIiJERESqqqqY\n",
       "mJh2dnZmZmYQEBDu7u4yMjJUVFTMzMyIiIi6uroAAAAs73DqAAAAAXRSTlMAQObYZgAAAkNJREFU\n",
       "OMtjYKAe4LtABUPiQMRpIL79f/fuxQdQ5NjWW/1qMoHxooEKrB5gmsC7//fuXTYMDOwgzStBIr8Y\n",
       "GFi+oCpi5rswa1oCjNcMVP0Pi2P4FzAw+DswMAApXpDneL4BifoJ6CbxPlgA5fD8BeLfcDlOOOs8\n",
       "0C72nwwMYQwMHCD9vCDrzkMCbO4iJS2oSSwBO2G++MjAwPoNrp8Lbun9BxBrZjAwvALr+gAk5DeA\n",
       "bV86AeGmhwYwBzYwMDB1ImJpA4xlD8SMQMcyOzCUgX0L0nEeLC08AeG7Q8EwDv8GBsbFSL7PhTE+\n",
       "M0C8zVbAsJQB5rF4cPAaIsJJ6X8vPDj23i0KALOKlEBAvwARfmBvsyxg6AP7FhSJ+0GxzGmAHOJX\n",
       "YLz7Agyc2sjx4QVJErx/gAQ3MJT5Ghj+wXzL0AEOgSagjbAQZzB4BtVoATItAMkkzhUP4AHMAQxE\n",
       "ng8Qk0C+Zf0Kdu4GJDcxGDBDOb/hvoeCU5kM8ACODwCb1ALzLQfYJ5wK2EziAdmy3wERTkqW0PC7\n",
       "AEm1IN+ZwnxrBYmarSgmPYMkQlByYvyF5CRvWPgBA5gZlEtYFzCkQ317Chobkx4gTGKtNWCYrwBN\n",
       "TidWIgxiXIBITjzLwdm0gOERA8N0+9+7N9fAFC0/AMvBnzW2ABMv0DnsQAW7liLnJAFIsBcDM7Y5\n",
       "WD3XAwYOAbQ8ybILEncw8BBLvuXBEAHmFtYEAkVPAFEFVC6sVKHUJE5QwEnjV8NLlJO4QWHESI3S\n",
       "9w4DAwCEnqaYSVPdggAAAABJRU5ErkJggg==\n",
       "\" style=\"display:inline;vertical-align:middle;\" /></a></td></tr>\n",
       "<tr><td>1</td><td>Operation</td><td>operator:&nbsp;3<br>operands:&nbsp;4<br></td><td><a class=\"ProveItLink\" href=\"../0763f6d8486998fbf10d5185b725b9bae35309ac0/expr.ipynb\"><img src=\"data:image/png;base64,iVBORw0KGgoAAAANSUhEUgAAADgAAAAPBAMAAABD1xE4AAAAMFBMVEX///8iIiIQEBCYmJjc3Ny6\n",
       "urru7u5mZmZ2dnaqqqrMzMxEREQyMjJUVFSIiIgAAABUCcz6AAAAAXRSTlMAQObYZgAAAONJREFU\n",
       "GNNjYGB4+//u3dMLGJABx/k9fxR3gpl/GBg4f6JIMnCzPsjJaAAyuH4AifoEdEm+gANABt9XILH+\n",
       "AVgw76CgDFSS0+AaiPEBSPhfAIlxHU5A6AzZAGTwg4j1YEnvBISxC60TYCbag2xn2IKwU/C/Hojx\n",
       "HuSN+wFAgm0DsoNegnj7QTwlEMGqKCgIdxDDhggg4zcQM38Gu+cCkk6GDdxAkX9ADhPYQDYBdEm+\n",
       "X0DOHogzL6NIRkC8uaYAIpYYgJBkrtvAkL7/793bVVAxluMLYAH/W+gmAxrgvANxLQQAAJQZSrQa\n",
       "1FaRAAAAAElFTkSuQmCC\n",
       "\" style=\"display:inline;vertical-align:middle;\" /></a></td></tr>\n",
       "<tr><td>2</td><td>Operation</td><td>operator:&nbsp;5<br>operands:&nbsp;6<br></td><td><a class=\"ProveItLink\" href=\"../cb2bfae6c9dcdf3d440ea7ef9c05a295e8b26aef0/expr.ipynb\"><img src=\"data:image/png;base64,iVBORw0KGgoAAAANSUhEUgAAAEIAAAAPBAMAAACivARpAAAAMFBMVEX///+qqqru7u4iIiJ2dnbc\n",
       "3NyIiIjMzMxmZmYQEBC6uroyMjJERERUVFSYmJgAAADLUcuvAAAAAXRSTlMAQObYZgAAAPtJREFU\n",
       "GNNjYGB4+//u3dMLGDAA2/2/d28fBzPnMDBw/MJUwcC/gYFBXgDIYP8GxH/h4kxwVr0DUOsnkGlf\n",
       "GRj4vsDFuRVgrPwFEO0MPBMYGJgnwVVwXYCxzgMxK8hw/gsMrHsUENa7wRh/GKDW119La34AFmo2\n",
       "BgH7BogCsAVg6/MDGJhskf0gDfE623cgwQvy5EmQqgdIKph2gpXwfAASnEBHMoBseu+ApKLaCRIc\n",
       "B0ASQK3s/4CM+wIIdxgfggZHAiQ0wcHB+hvJCFlYcBQAbdoEDY7KTQgFrBsQwcG+A0hznAfGzz4k\n",
       "I3gCIM7tAUboiQIs0cXAjsYHAJLoSEwUTuWpAAAAAElFTkSuQmCC\n",
       "\" style=\"display:inline;vertical-align:middle;\" /></a></td></tr>\n",
       "<tr><td>3</td><td>Literal</td><td></td><td><a class=\"ProveItLink\" href=\"../../../../set_theory/membership/__pv_it/088cbc857536a28d4119ad9639a84270ccb0545d0/expr.ipynb\"><img src=\"data:image/png;base64,iVBORw0KGgoAAAANSUhEUgAAAAwAAAAMBAMAAACkW0HUAAAALVBMVEX///+qqqpmZmZUVFQQEBC6\n",
       "urpERETc3NyYmJjMzMwiIiIyMjKIiIju7u4AAACYsrA9AAAAAXRSTlMAQObYZgAAADxJREFUCNdj\n",
       "YOA9vWrVBgaG2b0MQMCeCyIZ2ArA1DUwyRCyahVIyWQI7xaEYm4AU7xLIdxqTQgtvGvVBgCkcQ7e\n",
       "geM/tQAAAABJRU5ErkJggg==\n",
       "\" style=\"display:inline;vertical-align:middle;\" /></a></td></tr>\n",
       "<tr><td>4</td><td>ExprTuple</td><td>9, 7</td><td><a class=\"ProveItLink\" href=\"../fb02af353adc6b70afd5cdd94ff64eec2da7b9f60/expr.ipynb\"><img src=\"data:image/png;base64,iVBORw0KGgoAAAANSUhEUgAAADUAAAAVBAMAAAAUZLt1AAAAMFBMVEX////c3NwiIiJERESqqqqY\n",
       "mJh2dnZmZmYQEBDu7u4yMjJUVFTMzMyIiIi6uroAAAAs73DqAAAAAXRSTlMAQObYZgAAAS1JREFU\n",
       "KM9jYMAH+C5gFY4DEaeB+Pb/3bsXHwCLsa23+tVkwsDADuKuBIn8YmBg+QLRwMx3Yda0BAaGBQwM\n",
       "vCAjeb4BifoJMDneB0CJMAYGDpAI7z8gcf4CTI4lYCcDwwwGhldg/gcgIb8Bru+hAZB2YCgD8fkN\n",
       "QPrgcoeCgYaxFTAsZYAZF58AlVP63wukWRYw9IH490EO3v8AbuYVoDl8DQwgVzDYg4gOuB8YDJ4B\n",
       "3f4BIvcZiFm/Iskxg+VaQN77CyQ4DFDlgGaagrz3B0hYAd02AclM1gUM6VDvnSpgYOD8BJFjrTUA\n",
       "++ERA8N0+9+7N9cAhTn7BUBh/VljC5DD9YCBQwA5vpA4wDBjTUCSY0Vi58LiCFOOExgVDNJIckhJ\n",
       "gBtkPCP2NHGHgQEADD5XmfG0utYAAAAASUVORK5CYII=\n",
       "\" style=\"display:inline;vertical-align:middle;\" /></a></td></tr>\n",
       "<tr><td>5</td><td>Literal</td><td></td><td><a class=\"ProveItLink\" href=\"../../../implication/__pv_it/e5c030cabcb650938f92dee8256fe11cd12bf9b30/expr.ipynb\"><img src=\"data:image/png;base64,iVBORw0KGgoAAAANSUhEUgAAABMAAAANBAMAAAC5okgUAAAALVBMVEX////c3NxERETMzMwQEBCq\n",
       "qqoiIiJmZmaIiIh2dnZUVFS6uroyMjLu7u4AAACPpZJTAAAAAXRSTlMAQObYZgAAAD1JREFUCNdj\n",
       "YAABXgY44LkAZ3IvQAjPABFlaSCQV4AQjtkAZ/IegbNt5sLUpunC5aPgLMYDcCaTAJzJDCIA2yMN\n",
       "HCCUuIIAAAAASUVORK5CYII=\n",
       "\" style=\"display:inline;vertical-align:middle;\" /></a></td></tr>\n",
       "<tr><td>6</td><td>ExprTuple</td><td>8, 9</td><td><a class=\"ProveItLink\" href=\"../21c787a25bf4fb0e8ff5da7bdca985f655eb53d30/expr.ipynb\"><img src=\"data:image/png;base64,iVBORw0KGgoAAAANSUhEUgAAADgAAAAVBAMAAADhmjDFAAAAMFBMVEX////c3NwiIiJERESqqqqY\n",
       "mJh2dnZmZmYQEBDu7u4yMjJUVFTMzMyIiIi6uroAAAAs73DqAAAAAXRSTlMAQObYZgAAAUNJREFU\n",
       "KM99UitMA0EQfUc5uCNdWo8Aj0FAQmqKRlWD4Fxtg0A1oQkIMOQcBINoEBhSguNCWklA3HnStKAa\n",
       "FASo4Pi92e6FIylsMpN583Zn580u8O+ajIbn7S7dDW31KwgKXZO9Jai3gCrjE0lsAeOfyZk3YPQF\n",
       "mACUVM1+0GLDZft0mz5sD47PUD3xjr4hlZQII7g1PAjO1ICRXUNmHummG8A8NgTnGrDqviFzc3KS\n",
       "ZBnHgsPL9nop6SeULtY8YBl7gjt5uLMJ2aEMNCmsBy1gUXLJ0aK4HSkxIGNTSK9nGc+rJrdFmYTN\n",
       "JSOTmuFIUz0sGJkW5+Jqme90BWl9hf0OZF5xjEczRuZ1RbaVcc+pFuPgQiQdsMI+wXlVX3AKJ596\n",
       "prv0m3F8tpfCpTQ5FpknG0Ye0qZ+oPr1Fc5o1h/fRLXwDZrGWTuDNkKVAAAAAElFTkSuQmCC\n",
       "\" style=\"display:inline;vertical-align:middle;\" /></a></td></tr>\n",
       "<tr><td>7</td><td>Literal</td><td></td><td><a class=\"ProveItLink\" href=\"../../../__pv_it/46271c8230be96415d662709611f4ed2279d702b0/expr.ipynb\"><img src=\"data:image/png;base64,iVBORw0KGgoAAAANSUhEUgAAAA0AAAAOBAMAAAAGUYvhAAAAMFBMVEX///9mZmbMzMzc3NxUVFSY\n",
       "mJju7u6IiIi6urqqqqoiIiIQEBBEREQyMjJ2dnYAAAAQvcRZAAAAAXRSTlMAQObYZgAAAElJREFU\n",
       "CNdjePvn/u01ExgYGA60s117B6YZKngh9FSWBAjfBsxnWnoMRHet/10AkS+fA6F5OB5AaIYDqDRU\n",
       "PLCGgQFoz6ktExgAgLIl8DFvGtkAAAAASUVORK5CYII=\n",
       "\" style=\"display:inline;vertical-align:middle;\" /></a></td></tr>\n",
       "<tr><td>8</td><td>Variable</td><td></td><td><a class=\"ProveItLink\" href=\"../../../../../__pv_it/077b2ff79244fb4582cbe22c6e3356fa92a52f2f0/expr.ipynb\"><img src=\"data:image/png;base64,iVBORw0KGgoAAAANSUhEUgAAABAAAAAOBAMAAADUAYG5AAAAMFBMVEX///+qqqru7u4iIiJ2dnbc\n",
       "3NyIiIjMzMxmZmYQEBC6uroyMjJERERUVFSYmJgAAADLUcuvAAAAAXRSTlMAQObYZgAAAGpJREFU\n",
       "CNdjYGB4+//u3dMLGIBgDgMDxy8gzf4NiP8CGWxfGRj4vgAZPBMYGJgnARn8FxhY9ygAGfXX0pof\n",
       "gDTlBzAw2YIYJ0EckBBI53sHoBH/gIz7AhBjWH9DjancBLTl/N+7t/cxMAAA3u4f/5xagjYAAAAA\n",
       "SUVORK5CYII=\n",
       "\" style=\"display:inline;vertical-align:middle;\" /></a></td></tr>\n",
       "<tr><td>9</td><td>Variable</td><td></td><td><a class=\"ProveItLink\" href=\"../../../../../__pv_it/185e6d30f167ee2ee5ef3321098dc98e0d77bc590/expr.ipynb\"><img src=\"data:image/png;base64,iVBORw0KGgoAAAANSUhEUgAAABEAAAAOBAMAAAA7w+qHAAAALVBMVEX///8QEBCYmJjc3Ny6urru\n",
       "7u5mZmZ2dnaqqqrMzMxEREQyMjJUVFSIiIgAAABETr/8AAAAAXRSTlMAQObYZgAAAGpJREFUCNdj\n",
       "YGC48+7MmV0TGEDgNQMDxwsQg/M5kMgLABK8T4DEvAtAgusBkLA7ACT4FoDEDsAk9AqAxD2QCecc\n",
       "gMQ6kAGCIOIVEDM9Ahn3FkgwgnTxvgQSqwOgxs1OADLC1r05cyoTyAAAv4Qe+njAWvgAAAAASUVO\n",
       "RK5CYII=\n",
       "\" style=\"display:inline;vertical-align:middle;\" /></a></td></tr>\n",
       "</table>\n"
      ],
      "text/plain": [
       "0. (D in BOOLEANS , B => D)\n",
       "   core type: ExprTuple\n",
       "   sub-expressions: 1, 2\n",
       "1. D in BOOLEANS\n",
       "   core type: Operation\n",
       "   operator: 3\n",
       "   operands: 4\n",
       "2. B => D\n",
       "   core type: Operation\n",
       "   operator: 5\n",
       "   operands: 6\n",
       "3. in\n",
       "   core type: Literal\n",
       "   sub-expressions: \n",
       "4. (D , BOOLEANS)\n",
       "   core type: ExprTuple\n",
       "   sub-expressions: 9, 7\n",
       "5. =>\n",
       "   core type: Literal\n",
       "   sub-expressions: \n",
       "6. (B , D)\n",
       "   core type: ExprTuple\n",
       "   sub-expressions: 8, 9\n",
       "7. BOOLEANS\n",
       "   core type: Literal\n",
       "   sub-expressions: \n",
       "8. B\n",
       "   core type: Variable\n",
       "   sub-expressions: \n",
       "9. D\n",
       "   core type: Variable\n",
       "   sub-expressions: "
      ]
     },
     "execution_count": 4,
     "metadata": {},
     "output_type": "execute_result"
    }
   ],
   "source": [
    "# display the expression information\n",
    "expr.exprInfo()"
   ]
  },
  {
   "cell_type": "code",
   "execution_count": null,
   "metadata": {},
   "outputs": [],
   "source": []
  }
 ],
 "metadata": {
  "kernelspec": {
   "display_name": "Python 3",
   "language": "python",
   "name": "python3"
  }
 },
 "nbformat": 4,
 "nbformat_minor": 0
}
