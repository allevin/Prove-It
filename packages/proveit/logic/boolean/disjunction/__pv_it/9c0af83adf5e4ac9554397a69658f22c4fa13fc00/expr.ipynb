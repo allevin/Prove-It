{
 "cells": [
  {
   "cell_type": "markdown",
   "metadata": {},
   "source": [
    "Expression of type <a class=\"ProveItLink\" href=\"../../../../../../../doc/html/api/proveit.logic.Set.html\">Set</a>\n",
    "=======================\n",
    "# from context <a class=\"ProveItLink\" href=\"../../_context_.ipynb\">proveit.logic.boolean.disjunction</a>"
   ]
  },
  {
   "cell_type": "code",
   "execution_count": 1,
   "metadata": {},
   "outputs": [],
   "source": [
    "# import Expression classes needed to build the expression\n",
    "from proveit._common_ import F\n",
    "from proveit.logic import Booleans, InSet, Set"
   ]
  },
  {
   "cell_type": "code",
   "execution_count": 2,
   "metadata": {},
   "outputs": [
    {
     "data": {
      "text/html": [
       "<strong id=\"expr\">expr:</strong> <a class=\"ProveItLink\" href=\"expr.ipynb\"><img src=\"data:image/png;base64,iVBORw0KGgoAAAANSUhEUgAAAEoAAAAVBAMAAAATJmVgAAAAMFBMVEX////c3NxERESqqqpUVFS6\n",
       "urrMzMwyMjIQEBCIiIh2dnYiIiLu7u5mZmaYmJgAAABXZE4RAAAAAXRSTlMAQObYZgAAATFJREFU\n",
       "KM9jYGDgu8eAD2QtBJE8uxjwgwwDIMH5AUT4f3Fx6Z+ALMlVr/69WxnI4C0A8RpAYvxAJtMDFDOY\n",
       "WCccP7UAqgCiKh7I5QtAV8UZUICiaj3QcuYEsDun795dAFXF/MAHRVX9AQYBvgMgVvobJLMCFVBU\n",
       "/WbggbiKUQfJxuxHB6AKwF5g/cvAKwCRE0Co2v2/E0jzgQIhA+Rmru8uOyByh1BcPxloI0MtA0NK\n",
       "G0iE/Q8DC0QuYvduhOsZFKJAjDqgMMhn/BsYzkFUpSCbxaDABGSAIoelABpcEHAaQxXYXVwbQMEF\n",
       "D1CWByiqopBDoh5uAs9WJFV8N5HCi+fSf194AIhfg8f2px3ODCihigRMqiF+hCcOrKrQAVgBHyFV\n",
       "4Mjh2UkorYL9z7eYYLoHANpPVfTqIEUeAAAAAElFTkSuQmCC\n",
       "\" style=\"display:inline;vertical-align:middle;\" /></a><br>"
      ],
      "text/plain": [
       "expr: {F in BOOLEANS}"
      ]
     },
     "execution_count": 2,
     "metadata": {},
     "output_type": "execute_result"
    }
   ],
   "source": [
    "# build up the expression from sub-expressions\n",
    "expr = Set(InSet(F, Booleans))"
   ]
  },
  {
   "cell_type": "code",
   "execution_count": 3,
   "metadata": {},
   "outputs": [
    {
     "name": "stdout",
     "output_type": "stream",
     "text": [
      "Passed sanity check: built 'expr' is the same as the stored Expression.\n"
     ]
    }
   ],
   "source": [
    "# check that the built expression is the same as the stored expression\n",
    "%check_expr"
   ]
  },
  {
   "cell_type": "code",
   "execution_count": 4,
   "metadata": {},
   "outputs": [
    {
     "data": {
      "text/html": [
       "<table><tr><th>&nbsp;</th><th>core type</th><th>sub-expressions</th><th>expression</th></tr>\n",
       "<tr><td>0</td><td>Operation</td><td>operator:&nbsp;1<br>operands:&nbsp;2<br></td><td><a class=\"ProveItLink\" href=\"expr.ipynb\"><img src=\"data:image/png;base64,iVBORw0KGgoAAAANSUhEUgAAAEoAAAAVBAMAAAATJmVgAAAAMFBMVEX////c3NxERESqqqpUVFS6\n",
       "urrMzMwyMjIQEBCIiIh2dnYiIiLu7u5mZmaYmJgAAABXZE4RAAAAAXRSTlMAQObYZgAAATFJREFU\n",
       "KM9jYGDgu8eAD2QtBJE8uxjwgwwDIMH5AUT4f3Fx6Z+ALMlVr/69WxnI4C0A8RpAYvxAJtMDFDOY\n",
       "WCccP7UAqgCiKh7I5QtAV8UZUICiaj3QcuYEsDun795dAFXF/MAHRVX9AQYBvgMgVvobJLMCFVBU\n",
       "/WbggbiKUQfJxuxHB6AKwF5g/cvAKwCRE0Co2v2/E0jzgQIhA+Rmru8uOyByh1BcPxloI0MtA0NK\n",
       "G0iE/Q8DC0QuYvduhOsZFKJAjDqgMMhn/BsYzkFUpSCbxaDABGSAIoelABpcEHAaQxXYXVwbQMEF\n",
       "D1CWByiqopBDoh5uAs9WJFV8N5HCi+fSf194AIhfg8f2px3ODCihigRMqiF+hCcOrKrQAVgBHyFV\n",
       "4Mjh2UkorYL9z7eYYLoHANpPVfTqIEUeAAAAAElFTkSuQmCC\n",
       "\" style=\"display:inline;vertical-align:middle;\" /></a></td></tr>\n",
       "<tr><td>1</td><td>Literal</td><td></td><td><a class=\"ProveItLink\" href=\"../../../../set_theory/enumeration/__pv_it/07381ed5b23806e8d7914b78cb6667769e3708dd0/expr.ipynb\"><img src=\"data:image/png;base64,iVBORw0KGgoAAAANSUhEUgAAAB4AAAAOBAMAAADKyLEKAAAAMFBMVEX///8iIiIQEBCIiIjMzMzc\n",
       "3Nyqqqp2dnZEREQyMjK6urru7u5mZmZUVFSYmJgAAACI6eGPAAAAAXRSTlMAQObYZgAAALRJREFU\n",
       "CNdjYGDgu3Nm3wIGBJjHwN0PZW5yYGDgLWBgyITy8zcwMMQDxZyh/INAvD6BgcEFypcB4vjPDiBm\n",
       "TPFRrhs/LjMwMP//38rAwCbKEMPA9gEkE3fp0waG+AUMRxh4JkC01T9guPTOOICBEWgVH5C//wHD\n",
       "H5D4fqCz9oCMDGD4DLaegRXslLMMDMpAgxlOMmQxHDRgYG5gYLBk4D7KcIe7gOHC2rt9QCXsh40Z\n",
       "GCKMGQDRkC8N/Ph1XAAAAABJRU5ErkJggg==\n",
       "\" style=\"display:inline;vertical-align:middle;\" /></a></td></tr>\n",
       "<tr><td>2</td><td>ExprTuple</td><td>3</td><td><a class=\"ProveItLink\" href=\"../b9e2873f5e9974d1763ade478a24e45b66579f020/expr.ipynb\"><img src=\"data:image/png;base64,iVBORw0KGgoAAAANSUhEUgAAAEQAAAAVBAMAAAAN71XTAAAAMFBMVEX////c3NwiIiJERESqqqqY\n",
       "mJh2dnZmZmYQEBDu7u4yMjJUVFTMzMyIiIi6uroAAAAs73DqAAAAAXRSTlMAQObYZgAAAT9JREFU\n",
       "KM9jYCAC8F3AJ8v6AEicBuLb/3fv3vEXRS7r8/oVyg4MDDVA9kqQwC8gNkXVb/CWc2UaAwMXAwMv\n",
       "yB6+b0AiDl0Jwz2gPGsCA8cEIJftC5DwAcvMXaSkBVPiyj2BgbOB4RWIy/WTgZEhEsTiWToByRRh\n",
       "IG3CUAbi8iswTIVICE9AWMSjagmk0xmWgrjvCxgKIRKGCLc80v8BcqcXQx+Im796UwNYnNMA2bl3\n",
       "nYH0C4Z/IO76CQwbIOHYpKSEcC4zXwIDw3mIkk8MnAFgcZ4NyKYwMxiAlLTAggVikQKGkhfgMGX7\n",
       "B5fYiqIEZFEU0E/AYPkAl5j0AElJ+GWwpx8xMEy3/10Ik2BcfgAejUbdwGhkWMfAIYAaNSy7oD6C\n",
       "ua4BFE14AdsFaGLADWYBsTR+JRtBDsSbMHkPMAAAafVXQFeIyaUAAAAASUVORK5CYII=\n",
       "\" style=\"display:inline;vertical-align:middle;\" /></a></td></tr>\n",
       "<tr><td>3</td><td>Operation</td><td>operator:&nbsp;4<br>operands:&nbsp;5<br></td><td><a class=\"ProveItLink\" href=\"../3c1634f045b24c31ed4ca4ed56ea22afbbdbf5570/expr.ipynb\"><img src=\"data:image/png;base64,iVBORw0KGgoAAAANSUhEUgAAADcAAAAPBAMAAACy3Eq1AAAAMFBMVEX///9mZmYiIiLc3Nzu7u7M\n",
       "zMyqqqp2dna6urqYmJhEREQyMjIQEBBUVFSIiIgAAABBzvKsAAAAAXRSTlMAQObYZgAAANhJREFU\n",
       "GNNjYGB4+//u3Tv/GJBB9a/9e7QSwMzfQLwSRZJhQR/LlnIQg+M7kJiBLsnwghvEYP8GJFLBYn6b\n",
       "lLRhkpm8DkAG9xcGZoYpICHWnQ5IOq1ADH4FBk+IkJUDwlhWzSUgRr8AgzBEaDHCzib9Pw9AjPq9\n",
       "lw6ARVgWIDvoXRaIsd+B4QJYhOOQkhLCQVwcBUDGJwaWCWAR1gvIOrkYFkC9CTFWAUOS/Qdc6CaK\n",
       "JMhY7g9wIacGJMmJrxgYHNf/FYYJMW8MgAf8orMJqCHKwHYb6loIAAC5k0PCZkJyCQAAAABJRU5E\n",
       "rkJggg==\n",
       "\" style=\"display:inline;vertical-align:middle;\" /></a></td></tr>\n",
       "<tr><td>4</td><td>Literal</td><td></td><td><a class=\"ProveItLink\" href=\"../../../../set_theory/membership/__pv_it/088cbc857536a28d4119ad9639a84270ccb0545d0/expr.ipynb\"><img src=\"data:image/png;base64,iVBORw0KGgoAAAANSUhEUgAAAAwAAAAMBAMAAACkW0HUAAAALVBMVEX///+qqqpmZmZUVFQQEBC6\n",
       "urpERETc3NyYmJjMzMwiIiIyMjKIiIju7u4AAACYsrA9AAAAAXRSTlMAQObYZgAAADxJREFUCNdj\n",
       "YOA9vWrVBgaG2b0MQMCeCyIZ2ArA1DUwyRCyahVIyWQI7xaEYm4AU7xLIdxqTQgtvGvVBgCkcQ7e\n",
       "geM/tQAAAABJRU5ErkJggg==\n",
       "\" style=\"display:inline;vertical-align:middle;\" /></a></td></tr>\n",
       "<tr><td>5</td><td>ExprTuple</td><td>6, 7</td><td><a class=\"ProveItLink\" href=\"../3a94bbcb96c22a6d801de958e6cdb596b7eb72ca0/expr.ipynb\"><img src=\"data:image/png;base64,iVBORw0KGgoAAAANSUhEUgAAADEAAAAVBAMAAAAdjxsPAAAAMFBMVEX////c3NwiIiJERESqqqqY\n",
       "mJh2dnZmZmYQEBDu7u4yMjJUVFTMzMyIiIi6uroAAAAs73DqAAAAAXRSTlMAQObYZgAAASFJREFU\n",
       "KM9jYMAN+C5gEYwDEaeB+Pb/3bt3/AUy2NZb/WoyYWBgPwDkrARJ/wJiUxCDme/CrGkJDAwLGBh4\n",
       "QYbxfYOZAJThfQAUDmNg4JgAMuQLkPCByrAE7GRgmMHA8ArE5/rJwMgQCdPz0ABIOzCUgfj8CgxT\n",
       "IY4CyhwKBhrDVsCwFMR/X8BQCJNR+t8LpFkWMPSB+PmrNzXA9fBeAZrG18DwD8RfP4FhA1yGweAZ\n",
       "AwPPB4jMJwbOACQZZrBMC8w7qDJA00A+ZwNrZJiAZBrrAoZ0kHc+gCQ4P0FkWGsNwK5+xMAw3f43\n",
       "yM2c/QKgEP2ssQWk+AEDhwAiPhBMUOiwJsB5rEgRlAuLBXQZTmBwM0jDuUiRyw0ymBFbbN9hYAAA\n",
       "bktPBC24i6YAAAAASUVORK5CYII=\n",
       "\" style=\"display:inline;vertical-align:middle;\" /></a></td></tr>\n",
       "<tr><td>6</td><td>Variable</td><td></td><td><a class=\"ProveItLink\" href=\"../../../../../__pv_it/6d1586c49fb5fd7602fde2bbc54560e7304e8ccf0/expr.ipynb\"><img src=\"data:image/png;base64,iVBORw0KGgoAAAANSUhEUgAAABAAAAAOBAMAAADUAYG5AAAAMFBMVEX///9mZmYiIiLc3Nzu7u7M\n",
       "zMyqqqp2dna6urqYmJhEREQyMjIQEBBUVFSIiIgAAABBzvKsAAAAAXRSTlMAQObYZgAAAFxJREFU\n",
       "CNdjYGB4+//u3Tv/GIDgNxCvBGKO70BiBhCzfwMSqUDM/YWBmWEKkMGvwOAJUsrQL8AgDGbU7710\n",
       "AMzY78BwAcz4xMAygQFmDAiw/4AyuD9AaMf1f8GaAdy+F/r2qjhkAAAAAElFTkSuQmCC\n",
       "\" style=\"display:inline;vertical-align:middle;\" /></a></td></tr>\n",
       "<tr><td>7</td><td>Literal</td><td></td><td><a class=\"ProveItLink\" href=\"../../../__pv_it/46271c8230be96415d662709611f4ed2279d702b0/expr.ipynb\"><img src=\"data:image/png;base64,iVBORw0KGgoAAAANSUhEUgAAAA0AAAAOBAMAAAAGUYvhAAAAMFBMVEX///9mZmbMzMzc3NxUVFSY\n",
       "mJju7u6IiIi6urqqqqoiIiIQEBBEREQyMjJ2dnYAAAAQvcRZAAAAAXRSTlMAQObYZgAAAElJREFU\n",
       "CNdjePvn/u01ExgYGA60s117B6YZKngh9FSWBAjfBsxnWnoMRHet/10AkS+fA6F5OB5AaIYDqDRU\n",
       "PLCGgQFoz6ktExgAgLIl8DFvGtkAAAAASUVORK5CYII=\n",
       "\" style=\"display:inline;vertical-align:middle;\" /></a></td></tr>\n",
       "</table>\n"
      ],
      "text/plain": [
       "0. {F in BOOLEANS}\n",
       "   core type: Operation\n",
       "   operator: 1\n",
       "   operands: 2\n",
       "1. Set\n",
       "   core type: Literal\n",
       "   sub-expressions: \n",
       "2. (F in BOOLEANS)\n",
       "   core type: ExprTuple\n",
       "   sub-expressions: 3\n",
       "3. F in BOOLEANS\n",
       "   core type: Operation\n",
       "   operator: 4\n",
       "   operands: 5\n",
       "4. in\n",
       "   core type: Literal\n",
       "   sub-expressions: \n",
       "5. (F , BOOLEANS)\n",
       "   core type: ExprTuple\n",
       "   sub-expressions: 6, 7\n",
       "6. F\n",
       "   core type: Variable\n",
       "   sub-expressions: \n",
       "7. BOOLEANS\n",
       "   core type: Literal\n",
       "   sub-expressions: "
      ]
     },
     "execution_count": 4,
     "metadata": {},
     "output_type": "execute_result"
    }
   ],
   "source": [
    "# display the expression information\n",
    "expr.exprInfo()"
   ]
  },
  {
   "cell_type": "code",
   "execution_count": null,
   "metadata": {},
   "outputs": [],
   "source": []
  }
 ],
 "metadata": {
  "kernelspec": {
   "display_name": "Python 3",
   "language": "python",
   "name": "python3"
  }
 },
 "nbformat": 4,
 "nbformat_minor": 0
}
