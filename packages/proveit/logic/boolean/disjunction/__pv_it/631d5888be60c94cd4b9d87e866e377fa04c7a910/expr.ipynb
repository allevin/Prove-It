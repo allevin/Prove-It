{
 "cells": [
  {
   "cell_type": "markdown",
   "metadata": {},
   "source": [
    "Expression of type <a class=\"ProveItLink\" href=\"../../../../../../../doc/html/api/proveit.logic.Implies.html\">Implies</a>\n",
    "=======================\n",
    "# from context <a class=\"ProveItLink\" href=\"../../_context_.ipynb\">proveit.logic.boolean.disjunction</a>"
   ]
  },
  {
   "cell_type": "code",
   "execution_count": 1,
   "metadata": {},
   "outputs": [],
   "source": [
    "# import Expression classes needed to build the expression\n",
    "from proveit._common_ import B, C\n",
    "from proveit.logic import Equals, Implies, TRUE"
   ]
  },
  {
   "cell_type": "code",
   "execution_count": 2,
   "metadata": {},
   "outputs": [
    {
     "data": {
      "text/html": [
       "<strong id=\"expr\">expr:</strong> <a class=\"ProveItLink\" href=\"expr.ipynb\"><img src=\"data:image/png;base64,iVBORw0KGgoAAAANSUhEUgAAAHsAAAAVBAMAAACUF4xmAAAAMFBMVEX///+qqqru7u4iIiJ2dnbc\n",
       "3NyIiIjMzMxmZmYQEBC6uroyMjJERERUVFSYmJgAAADLUcuvAAAAAXRSTlMAQObYZgAAAYhJREFU\n",
       "OMtjYKAZWEZA/hWYfPv/7t3TCzBl2S8ACaacG32sDagSzcYgYMPAUQDmzmFg4PiFqZ1bAUh4PmDg\n",
       "6nyAIVcBJjeAbfkGxH/hMkwwRhoQaxsBCf8AHNqfgAi2rwwMfF9QLQWBSUC8E8RZyYBDuyaI4JnA\n",
       "wMA8CS7DdQFKA53G8RHEisClnUcASPBfYGDdo4CQcoNQHA4MDPFg36nj0s4CCtP6a2nND5CC1B4S\n",
       "0NxAsX5EoHXvBoG9KNoZQabnBzAw2SIbLQ2ORU4gaR+AI8oh2rmA3mY4CTICOW6YdoL08wOJ/2C+\n",
       "Ai7t7B+ABCjO3jsgyVU7MUC1zwc7sQCfdvZ/QMZ9AYTfjQ+B5TiBQvdBFnOgJDV0x4OinfU3ksmy\n",
       "EIoH6J/6BCDDCaff+TZAor1yE0KGdQMDPFb4gPG+IoABT8RxnP979/Y+JBkeqHIuAyBRu7dDAFvI\n",
       "l0DiFltGgzGmEszRmvgknxDU7oZPkluBgG6mDfhkWS8Q0M4bgFc6jID2dAYGANjWYy23MLUoAAAA\n",
       "AElFTkSuQmCC\n",
       "\" style=\"display:inline;vertical-align:middle;\" /></a><br>"
      ],
      "text/plain": [
       "expr: B => (C = TRUE)"
      ]
     },
     "execution_count": 2,
     "metadata": {},
     "output_type": "execute_result"
    }
   ],
   "source": [
    "# build up the expression from sub-expressions\n",
    "expr = Implies(B, Equals(C, TRUE))"
   ]
  },
  {
   "cell_type": "code",
   "execution_count": 3,
   "metadata": {},
   "outputs": [
    {
     "name": "stdout",
     "output_type": "stream",
     "text": [
      "Passed sanity check: built 'expr' is the same as the stored Expression.\n"
     ]
    }
   ],
   "source": [
    "# check that the built expression is the same as the stored expression\n",
    "%check_expr"
   ]
  },
  {
   "cell_type": "code",
   "execution_count": 4,
   "metadata": {},
   "outputs": [
    {
     "data": {
      "text/html": [
       "<table><tr><th>&nbsp;</th><th>core type</th><th>sub-expressions</th><th>expression</th></tr>\n",
       "<tr><td>0</td><td>Operation</td><td>operator:&nbsp;1<br>operands:&nbsp;2<br></td><td><a class=\"ProveItLink\" href=\"expr.ipynb\"><img src=\"data:image/png;base64,iVBORw0KGgoAAAANSUhEUgAAAHsAAAAVBAMAAACUF4xmAAAAMFBMVEX///+qqqru7u4iIiJ2dnbc\n",
       "3NyIiIjMzMxmZmYQEBC6uroyMjJERERUVFSYmJgAAADLUcuvAAAAAXRSTlMAQObYZgAAAYhJREFU\n",
       "OMtjYKAZWEZA/hWYfPv/7t3TCzBl2S8ACaacG32sDagSzcYgYMPAUQDmzmFg4PiFqZ1bAUh4PmDg\n",
       "6nyAIVcBJjeAbfkGxH/hMkwwRhoQaxsBCf8AHNqfgAi2rwwMfF9QLQWBSUC8E8RZyYBDuyaI4JnA\n",
       "wMA8CS7DdQFKA53G8RHEisClnUcASPBfYGDdo4CQcoNQHA4MDPFg36nj0s4CCtP6a2nND5CC1B4S\n",
       "0NxAsX5EoHXvBoG9KNoZQabnBzAw2SIbLQ2ORU4gaR+AI8oh2rmA3mY4CTICOW6YdoL08wOJ/2C+\n",
       "Ai7t7B+ABCjO3jsgyVU7MUC1zwc7sQCfdvZ/QMZ9AYTfjQ+B5TiBQvdBFnOgJDV0x4OinfU3ksmy\n",
       "EIoH6J/6BCDDCaff+TZAor1yE0KGdQMDPFb4gPG+IoABT8RxnP979/Y+JBkeqHIuAyBRu7dDAFvI\n",
       "l0DiFltGgzGmEszRmvgknxDU7oZPkluBgG6mDfhkWS8Q0M4bgFc6jID2dAYGANjWYy23MLUoAAAA\n",
       "AElFTkSuQmCC\n",
       "\" style=\"display:inline;vertical-align:middle;\" /></a></td></tr>\n",
       "<tr><td>1</td><td>Literal</td><td></td><td><a class=\"ProveItLink\" href=\"../../../implication/__pv_it/e5c030cabcb650938f92dee8256fe11cd12bf9b30/expr.ipynb\"><img src=\"data:image/png;base64,iVBORw0KGgoAAAANSUhEUgAAABMAAAANBAMAAAC5okgUAAAALVBMVEX////c3NxERETMzMwQEBCq\n",
       "qqoiIiJmZmaIiIh2dnZUVFS6uroyMjLu7u4AAACPpZJTAAAAAXRSTlMAQObYZgAAAD1JREFUCNdj\n",
       "YAABXgY44LkAZ3IvQAjPABFlaSCQV4AQjtkAZ/IegbNt5sLUpunC5aPgLMYDcCaTAJzJDCIA2yMN\n",
       "HCCUuIIAAAAASUVORK5CYII=\n",
       "\" style=\"display:inline;vertical-align:middle;\" /></a></td></tr>\n",
       "<tr><td>2</td><td>ExprTuple</td><td>3, 4</td><td><a class=\"ProveItLink\" href=\"../e2fa28ffa5c95eee50f276edce11502afbe41fce0/expr.ipynb\"><img src=\"data:image/png;base64,iVBORw0KGgoAAAANSUhEUgAAAGIAAAAVBAMAAABPrCZEAAAAMFBMVEX////c3NwiIiJERESqqqqY\n",
       "mJh2dnZmZmYQEBDu7u4yMjJUVFTMzMyIiIi6uroAAAAs73DqAAAAAXRSTlMAQObYZgAAAVxJREFU\n",
       "OMtjYCAd8F0gQTHrAyBxGoij/+/ebfUAJjzXujxAHFUluxIYGDDUADkrQSLNQMF/UFm2VgaG560Y\n",
       "xvMUgEguBgZekKN4/gLxb4gM56IJQF0fcehgTWDgAMoz8AIVsH6DyHB1gjzXgEMHZwPDKxDNDFTA\n",
       "1AmRqXcAEowFOHQwmDCUgSj+DQyMiyeARRh/gY06gEtHOsNSEHV+792iAGiofEUE0Cow2ICiw4uh\n",
       "D0TdF2Dg1IZIMH3EERVQHS8YwGFqAdIFsYT/A9hVOHWch+gABWx8AliEA6zDB4+OFhAH5Pb9DmAR\n",
       "7p8gsgAlolFdZQqNDlAYTYBGJgPbBJx2RAFDCxIdJ1YycH4CCcU7MPAV4vZ5OsMjoO32v3fvAoYy\n",
       "Z78ASGbX9hKsYQXx5zoGDgGkhC9AMLkDUwlrAlLqJ5xB2C5AUzvROmYBsTSCS0Ru3AhKeqTkWt4D\n",
       "DADk61mhwNvXAgAAAABJRU5ErkJggg==\n",
       "\" style=\"display:inline;vertical-align:middle;\" /></a></td></tr>\n",
       "<tr><td>3</td><td>Variable</td><td></td><td><a class=\"ProveItLink\" href=\"../../../../../__pv_it/077b2ff79244fb4582cbe22c6e3356fa92a52f2f0/expr.ipynb\"><img src=\"data:image/png;base64,iVBORw0KGgoAAAANSUhEUgAAABAAAAAOBAMAAADUAYG5AAAAMFBMVEX///+qqqru7u4iIiJ2dnbc\n",
       "3NyIiIjMzMxmZmYQEBC6uroyMjJERERUVFSYmJgAAADLUcuvAAAAAXRSTlMAQObYZgAAAGpJREFU\n",
       "CNdjYGB4+//u3dMLGIBgDgMDxy8gzf4NiP8CGWxfGRj4vgAZPBMYGJgnARn8FxhY9ygAGfXX0pof\n",
       "gDTlBzAw2YIYJ0EckBBI53sHoBH/gIz7AhBjWH9DjancBLTl/N+7t/cxMAAA3u4f/5xagjYAAAAA\n",
       "SUVORK5CYII=\n",
       "\" style=\"display:inline;vertical-align:middle;\" /></a></td></tr>\n",
       "<tr><td>4</td><td>Operation</td><td>operator:&nbsp;5<br>operands:&nbsp;6<br></td><td><a class=\"ProveItLink\" href=\"../b23077c3a41795c997648d11f4f820f1c3c40dcc0/expr.ipynb\"><img src=\"data:image/png;base64,iVBORw0KGgoAAAANSUhEUgAAADoAAAAOBAMAAACMfhKgAAAAMFBMVEX////MzMyqqqoiIiIyMjK6\n",
       "uroQEBB2dnbc3NyYmJhmZmZUVFRERESIiIju7u4AAAB204erAAAAAXRSTlMAQObYZgAAAIFJREFU\n",
       "GNNjYGDgu7NrJccCBhSw2BgEbICssgkMrMsmMKADKTD5xA5I1DfgkHV7ACTCGLDLcn0CkV04ZPsd\n",
       "QORDHLLrEe5Z4gIC3siy9pjuQZL9D2Y+wCGbDyKYBHDI7gdp40ILILis/AUgUYfLXk6gf6MacMky\n",
       "SHuvUsDmZnEgBgBCIx3R/MqcuAAAAABJRU5ErkJggg==\n",
       "\" style=\"display:inline;vertical-align:middle;\" /></a></td></tr>\n",
       "<tr><td>5</td><td>Literal</td><td></td><td><a class=\"ProveItLink\" href=\"../../../../equality/__pv_it/2fb26078095930560931daa0500ce419a39ea6cd0/expr.ipynb\"><img src=\"data:image/png;base64,iVBORw0KGgoAAAANSUhEUgAAAA4AAAAFBAMAAACHocAhAAAAFVBMVEX///9EREQiIiJUVFQyMjJm\n",
       "ZmYAAADubVkoAAAAAXRSTlMAQObYZgAAABRJREFUCNdjCHEBAWcGXCBICQQUAUpuAwlgGKrkAAAA\n",
       "AElFTkSuQmCC\n",
       "\" style=\"display:inline;vertical-align:middle;\" /></a></td></tr>\n",
       "<tr><td>6</td><td>ExprTuple</td><td>7, 8</td><td><a class=\"ProveItLink\" href=\"../8c0227396cfb27cab1a1f8d313096b229bfa7b210/expr.ipynb\"><img src=\"data:image/png;base64,iVBORw0KGgoAAAANSUhEUgAAADUAAAAVBAMAAAAUZLt1AAAAMFBMVEX////c3NwiIiJERESqqqqY\n",
       "mJh2dnZmZmYQEBDu7u4yMjJUVFTMzMyIiIi6uroAAAAs73DqAAAAAXRSTlMAQObYZgAAAPdJREFU\n",
       "KM9jYMAH+C5gFY4DEadBxFzr8gBxsFiREggoM7AfAHJWAjFbKwPD81aYluNgcgEDAy/QSM5FE4Dy\n",
       "H1HlwhgYOIDCXJ0gextQ5WYwMLwCUvUOQIKxAFWO2YGhDCj6C8TmPIAqx1bAsJSBgf0rqvMhciwL\n",
       "GPoYGJg+YpMD2v+PgYH/A9hMNDmeDyA5DrCcD6ZcCwMD908QuwDTTFOgir8gZwH9OQFZjnUBQzqQ\n",
       "indg4CsE2vgJzQ+PQEbv2l4Cck2/AFj0GJjkesDAIYAUXUhsUJixJiC4rMi+zIXGERY5TmAcMUgj\n",
       "+MgpgBtkPiP2NHGHgQEARp87Dtqtr0YAAAAASUVORK5CYII=\n",
       "\" style=\"display:inline;vertical-align:middle;\" /></a></td></tr>\n",
       "<tr><td>7</td><td>Variable</td><td></td><td><a class=\"ProveItLink\" href=\"../../../../../__pv_it/985a1bdf1540838275dec15f4ad6de261cca93ce0/expr.ipynb\"><img src=\"data:image/png;base64,iVBORw0KGgoAAAANSUhEUgAAAA8AAAAOBAMAAAACpFvcAAAAMFBMVEX////MzMyqqqoiIiIyMjK6\n",
       "uroQEBB2dnbc3NyYmJhmZmZUVFRERESIiIju7u4AAAB204erAAAAAXRSTlMAQObYZgAAAGZJREFU\n",
       "CNdjYGDgu7NrJccCBgaGsgkMrMsmMDA8sQNy6hsYGNweABlhDAxcn4A0QxcDQ78DiPGQgWH9BAYI\n",
       "sG+AMv6DSaCGfBDNJMDAsB+kmwuI5S8AiTog5gSaEwXWIO29SgFIAQBC+RaDQlidVgAAAABJRU5E\n",
       "rkJggg==\n",
       "\" style=\"display:inline;vertical-align:middle;\" /></a></td></tr>\n",
       "<tr><td>8</td><td>Literal</td><td></td><td><a class=\"ProveItLink\" href=\"../../../__pv_it/68a87cc3370287d726c7086ace789e680e4461c30/expr.ipynb\"><img src=\"data:image/png;base64,iVBORw0KGgoAAAANSUhEUgAAAA4AAAAOBAMAAADtZjDiAAAAFVBMVEX///92dnbMzMxEREQiIiJm\n",
       "ZmYAAABAT6GXAAAAAXRSTlMAQObYZgAAABhJREFUCNdjCHEBAWcGIFBlgABa0YpADAAxegPJJk4d\n",
       "XAAAAABJRU5ErkJggg==\n",
       "\" style=\"display:inline;vertical-align:middle;\" /></a></td></tr>\n",
       "</table>\n"
      ],
      "text/plain": [
       "0. B => (C = TRUE)\n",
       "   core type: Operation\n",
       "   operator: 1\n",
       "   operands: 2\n",
       "1. =>\n",
       "   core type: Literal\n",
       "   sub-expressions: \n",
       "2. (B , C = TRUE)\n",
       "   core type: ExprTuple\n",
       "   sub-expressions: 3, 4\n",
       "3. B\n",
       "   core type: Variable\n",
       "   sub-expressions: \n",
       "4. C = TRUE\n",
       "   core type: Operation\n",
       "   operator: 5\n",
       "   operands: 6\n",
       "5. =\n",
       "   core type: Literal\n",
       "   sub-expressions: \n",
       "6. (C , TRUE)\n",
       "   core type: ExprTuple\n",
       "   sub-expressions: 7, 8\n",
       "7. C\n",
       "   core type: Variable\n",
       "   sub-expressions: \n",
       "8. TRUE\n",
       "   core type: Literal\n",
       "   sub-expressions: "
      ]
     },
     "execution_count": 4,
     "metadata": {},
     "output_type": "execute_result"
    }
   ],
   "source": [
    "# display the expression information\n",
    "expr.exprInfo()"
   ]
  },
  {
   "cell_type": "code",
   "execution_count": null,
   "metadata": {},
   "outputs": [],
   "source": []
  }
 ],
 "metadata": {
  "kernelspec": {
   "display_name": "Python 3",
   "language": "python",
   "name": "python3"
  }
 },
 "nbformat": 4,
 "nbformat_minor": 0
}
