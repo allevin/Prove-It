{
 "cells": [
  {
   "cell_type": "markdown",
   "metadata": {},
   "source": [
    "Show the Proof\n",
    "========"
   ]
  },
  {
   "cell_type": "code",
   "execution_count": 1,
   "metadata": {},
   "outputs": [
    {
     "data": {
      "text/html": [
       "<table><tr><th>&nbsp;</th><th>step type</th><th>requirements</th><th>statement</th></tr>\n",
       "<tr><td>0</td><td>assumption</td><td></td><td><span style=\"font-size:20px;\"><a class=\"ProveItLink\" href=\"../e7cba758bb91a12177c36e095227b2f15d7c31e10/expr.ipynb\"><img src=\"data:image/png;base64,iVBORw0KGgoAAAANSUhEUgAAAFMAAAAVBAMAAADInc9CAAAAMFBMVEX////c3NxERESqqqpUVFS6\n",
       "urrMzMwyMjIQEBCIiIh2dnYiIiLu7u5mZmaYmJgAAABXZE4RAAAAAXRSTlMAQObYZgAAAVxJREFU\n",
       "KM9jYGDgu8dACLCtEgBRPLsYCAO2ZhDJ+QFI8Pl/cXEqxaJmyn8XF/fvDAzXQRyuBhDJocDAcD8A\n",
       "i1qgMgYjBoYVCKX5E4DYASbPA1fJ+hNI8KIonQ909/sFMAXsB2Asrm9A4iSKUg0g3gFXwAo3n/0D\n",
       "AxcDI4rSLwwM4joIF66EMfgVGN6BaLBS3gJQYHyZOXcfWO72bhDYfwGqNL7E/SOIfg8iMkD+5gTy\n",
       "TzsgedwcGhrrExgKwA4B6k1pA7GYgK7g/IeklKcCoraegWEBQwKQof6AgSECxOAHmsj3C0lp+hoI\n",
       "/YmBQYAHGJDcoNBhAVmQD9TD8hnh1t06SMHKdQDqVq4N0GCVL0AYaoIcrLIMyIEFDFa2dniwMjAW\n",
       "IIKVgW0bstJLwERR/gBhKJMAhD6i/8XFZf8GFFPR0xyGCE6lDNiV8hGlFJxeeXYSkwtawRTfYuLy\n",
       "FgB8JGCixzYF5QAAAABJRU5ErkJggg==\n",
       "\" style=\"display:inline;vertical-align:middle;\" /></a> <a class=\"ProveItLink\" href=\"proof.ipynb\" style=\"text-decoration: none\">&#x22A2;&nbsp;</a><a class=\"ProveItLink\" href=\"../ca8a3ba74e3f7a27aa4a6466b65d74f38f8d1a1f0/expr.ipynb\"><img src=\"data:image/png;base64,iVBORw0KGgoAAAANSUhEUgAAAEEAAAAPBAMAAABJi79qAAAAMFBMVEX///+qqqru7u4iIiJ2dnbc\n",
       "3NyIiIjMzMxmZmYQEBC6uroyMjJERERUVFSYmJgAAADLUcuvAAAAAXRSTlMAQObYZgAAAPtJREFU\n",
       "GNNjYGB4+//u3dMLGDAA2/2/d+/u3wBizmFg4PiFqYKBHyjLeADIYP8GxH/h4gpw1voEINEAMu0r\n",
       "AwPfF7j4JjjLv4CBgQmkimcCAwPzJLj4WjhrPwODA0MAyLoLDKx7EGazJMBYfxj4HoAZ9dfSmsEs\n",
       "DmMw+AFVwPX77v4AMCs/gIHJFskLjLughn1n4IawToJUPUBSoj0LTHF/YGBhYAexQB5974BQwL4F\n",
       "4ij+AwysDGoggX9A4r4Awh02CkjB4QQNDtbfSM64gBQcrA3Q4KhEBBNDNFJwMBQDVXGc/3v39j4k\n",
       "dx6FUEx3gBF6+TOW6GIoQOMDAB9fRmXFBdcAAAAAAElFTkSuQmCC\n",
       "\" style=\"display:inline;vertical-align:middle;\" /></a></span></td></tr>\n",
       "</table>"
      ],
      "text/plain": [
       "<proveit._core_.proof._ShowProof at 0x7f94eb24d978>"
      ]
     },
     "execution_count": 1,
     "metadata": {},
     "output_type": "execute_result"
    }
   ],
   "source": [
    "import proveit\n",
    "%show_proof"
   ]
  },
  {
   "cell_type": "code",
   "execution_count": null,
   "metadata": {},
   "outputs": [],
   "source": []
  }
 ],
 "metadata": {
  "kernelspec": {
   "display_name": "Python 3",
   "language": "python",
   "name": "python3"
  }
 },
 "nbformat": 4,
 "nbformat_minor": 0
}
