{
 "cells": [
  {
   "cell_type": "markdown",
   "metadata": {},
   "source": [
    "Expression of type <a class=\"ProveItLink\" href=\"../../../../../../../doc/html/api/proveit.logic.Implies.html\">Implies</a>\n",
    "=======================\n",
    "# from context <a class=\"ProveItLink\" href=\"../../_context_.ipynb\">proveit.logic.boolean.disjunction</a>"
   ]
  },
  {
   "cell_type": "code",
   "execution_count": 1,
   "metadata": {},
   "outputs": [],
   "source": [
    "# import Expression classes needed to build the expression\n",
    "from proveit._common_ import A, B\n",
    "from proveit.logic import Equals, Implies, Or, TRUE"
   ]
  },
  {
   "cell_type": "code",
   "execution_count": 2,
   "metadata": {},
   "outputs": [
    {
     "data": {
      "text/html": [
       "<strong id=\"expr\">expr:</strong> <a class=\"ProveItLink\" href=\"expr.ipynb\"><img src=\"data:image/png;base64,iVBORw0KGgoAAAANSUhEUgAAALEAAAAVBAMAAAD7ihIOAAAAMFBMVEX////c3NwiIiJERESqqqqY\n",
       "mJh2dnZmZmYQEBDu7u4yMjJUVFTMzMyIiIi6uroAAAAs73DqAAAAAXRSTlMAQObYZgAAAjJJREFU\n",
       "OMu1lb9LHEEUx9+6nrd3t54HpjIERcsUiiAYG68TYhErm4C5RoKFICIWNlG0sdErxSJ4iCSnRa52\n",
       "CRcETdRC/wBFSSkISaGgkuj7MfvDu13nGhd2Zue9+X5m5s2bWYDne9LHmg4jodZLveYQ3/f3jtN3\n",
       "XuGdbKenA+I/QqR2SeqdCrsisaZIhnmA+P9q/U8u10LIybzU33jZ/CkTUCTUNFIw7H/43kWRh31D\n",
       "wv04lSrWSSOkCMogj4Qai1yNf7HTdRR5pXqqsCjVi08ZwnVhUccul4SaC2qbs+hZjCKbWX+7VXjT\n",
       "KkLHZ7w7BXwHIEhCzTS1m0pgrOejyA0TvmVcqnhOBsi/GwJFLUCQhJoNah99P53kLjCzSc/WI3L9\n",
       "mp8qnTJKUnp/hiOOLkaCI+KTULNE7bMMJF5D1JzTswHTW16+JSl6Dq08Eu5eSiwuCTWca71kG4oi\n",
       "238CpsRXQjQxx3acsky1DVbF7ZJQw2RKuA+5msgHY+CRMY8t2copGBW3S0LNAkmvsChngwevOhri\n",
       "aX/DJos7Y1EnkWrBWUOQhJoelYTGbWScY4FDOCiVSaEzkJCU9aR25fbxSKj5qJLwVxFqyDpDDcIm\n",
       "Cq15I3PtznvpzCTs8BuTs//O2d4Iu7L2JMX8u8rMqJOCi29eLkCs/1aG/SJp7pFQY2W092zgdNvu\n",
       "x1xFn/1qTSynJY+H2IZr0BR14MRTt+hTmpc6ciosXkZJrzF0f6uTUOsrneYBS2emIQzZpL4AAAAA\n",
       "SUVORK5CYII=\n",
       "\" style=\"display:inline;vertical-align:middle;\" /></a><br>"
      ],
      "text/plain": [
       "expr: (B = TRUE) => (A or B)"
      ]
     },
     "execution_count": 2,
     "metadata": {},
     "output_type": "execute_result"
    }
   ],
   "source": [
    "# build up the expression from sub-expressions\n",
    "expr = Implies(Equals(B, TRUE), Or(A, B))"
   ]
  },
  {
   "cell_type": "code",
   "execution_count": 3,
   "metadata": {},
   "outputs": [
    {
     "name": "stdout",
     "output_type": "stream",
     "text": [
      "Passed sanity check: built 'expr' is the same as the stored Expression.\n"
     ]
    }
   ],
   "source": [
    "# check that the built expression is the same as the stored expression\n",
    "%check_expr"
   ]
  },
  {
   "cell_type": "code",
   "execution_count": 4,
   "metadata": {},
   "outputs": [
    {
     "data": {
      "text/html": [
       "<table><tr><th>&nbsp;</th><th>core type</th><th>sub-expressions</th><th>expression</th></tr>\n",
       "<tr><td>0</td><td>Operation</td><td>operator:&nbsp;1<br>operands:&nbsp;2<br></td><td><a class=\"ProveItLink\" href=\"expr.ipynb\"><img src=\"data:image/png;base64,iVBORw0KGgoAAAANSUhEUgAAALEAAAAVBAMAAAD7ihIOAAAAMFBMVEX////c3NwiIiJERESqqqqY\n",
       "mJh2dnZmZmYQEBDu7u4yMjJUVFTMzMyIiIi6uroAAAAs73DqAAAAAXRSTlMAQObYZgAAAjJJREFU\n",
       "OMu1lb9LHEEUx9+6nrd3t54HpjIERcsUiiAYG68TYhErm4C5RoKFICIWNlG0sdErxSJ4iCSnRa52\n",
       "CRcETdRC/wBFSSkISaGgkuj7MfvDu13nGhd2Zue9+X5m5s2bWYDne9LHmg4jodZLveYQ3/f3jtN3\n",
       "XuGdbKenA+I/QqR2SeqdCrsisaZIhnmA+P9q/U8u10LIybzU33jZ/CkTUCTUNFIw7H/43kWRh31D\n",
       "wv04lSrWSSOkCMogj4Qai1yNf7HTdRR5pXqqsCjVi08ZwnVhUccul4SaC2qbs+hZjCKbWX+7VXjT\n",
       "KkLHZ7w7BXwHIEhCzTS1m0pgrOejyA0TvmVcqnhOBsi/GwJFLUCQhJoNah99P53kLjCzSc/WI3L9\n",
       "mp8qnTJKUnp/hiOOLkaCI+KTULNE7bMMJF5D1JzTswHTW16+JSl6Dq08Eu5eSiwuCTWca71kG4oi\n",
       "238CpsRXQjQxx3acsky1DVbF7ZJQw2RKuA+5msgHY+CRMY8t2copGBW3S0LNAkmvsChngwevOhri\n",
       "aX/DJos7Y1EnkWrBWUOQhJoelYTGbWScY4FDOCiVSaEzkJCU9aR25fbxSKj5qJLwVxFqyDpDDcIm\n",
       "Cq15I3PtznvpzCTs8BuTs//O2d4Iu7L2JMX8u8rMqJOCi29eLkCs/1aG/SJp7pFQY2W092zgdNvu\n",
       "x1xFn/1qTSynJY+H2IZr0BR14MRTt+hTmpc6ciosXkZJrzF0f6uTUOsrneYBS2emIQzZpL4AAAAA\n",
       "SUVORK5CYII=\n",
       "\" style=\"display:inline;vertical-align:middle;\" /></a></td></tr>\n",
       "<tr><td>1</td><td>Literal</td><td></td><td><a class=\"ProveItLink\" href=\"../../../implication/__pv_it/e5c030cabcb650938f92dee8256fe11cd12bf9b30/expr.ipynb\"><img src=\"data:image/png;base64,iVBORw0KGgoAAAANSUhEUgAAABMAAAANBAMAAAC5okgUAAAALVBMVEX////c3NxERETMzMwQEBCq\n",
       "qqoiIiJmZmaIiIh2dnZUVFS6uroyMjLu7u4AAACPpZJTAAAAAXRSTlMAQObYZgAAAD1JREFUCNdj\n",
       "YAABXgY44LkAZ3IvQAjPABFlaSCQV4AQjtkAZ/IegbNt5sLUpunC5aPgLMYDcCaTAJzJDCIA2yMN\n",
       "HCCUuIIAAAAASUVORK5CYII=\n",
       "\" style=\"display:inline;vertical-align:middle;\" /></a></td></tr>\n",
       "<tr><td>2</td><td>ExprTuple</td><td>3, 4</td><td><a class=\"ProveItLink\" href=\"../70ca884a709b6db0fa1f967e8ae30d219cffc3890/expr.ipynb\"><img src=\"data:image/png;base64,iVBORw0KGgoAAAANSUhEUgAAAIkAAAAVBAMAAACArtDCAAAAMFBMVEX////c3NwiIiJERESqqqqY\n",
       "mJh2dnZmZmYQEBDu7u4yMjJUVFTMzMyIiIi6uroAAAAs73DqAAAAAXRSTlMAQObYZgAAAexJREFU\n",
       "OMutVE0oRFEU/sZ4zHjzUKzGgkgpC1IKG7OzNCsbhY2slJCFjSk2LHhZTRbMJAnFlJ2XRspfFuxs\n",
       "aIalFYVi8nPOuc/fYN5i3Lr33XPO7TvnfOecB/zPKjzNEqCLj2Pana+W1ZJMsw5W8qr6VOymPdDi\n",
       "KWtzHfk7dF9hxTiQ//LTzcE3aUNCl+uOnJ56YCyJCGBwQr5n2ikHFK3OpFNnAEOxcEKfkxg6CI9N\n",
       "xi09enBAKR0rZofkHzmmaBKk6O5BGLhm0R0iy6QDymlCmIvSblOaJto1JtwBjLBYFINr0cyMUmi2\n",
       "B2EjRJWKOPA3A3kDWJIEty8G5QlGV3mt/YIyLzRINpIVM3lxVk3f3Aim7QS9tcgcSxLlA1DM6qop\n",
       "mM3ZGEUZwst7golgRhSfZcVVCBWYUypm07gn041C4SIT2ZlQqE88EbkNo1epiE2pLKFMsB8CRDzw\n",
       "s2G/oJA1JyQ3P0Wj2oWi1+8ko0Y7QdfTX7x4+XARSsGNKPU9e/K4XcopPi2CPjvBw5W/UBbYNVPh\n",
       "flQMNZgf7eKbMqXSVzRBrSlra+m3cd3nI0yRlsxEobU+SZGwrIxDNMKrXJKCJDzFjqN/mSYfpck0\n",
       "AVqPI0rQwd7//mfIBsXLDVDmBGI42HXmxJXtH/MceANMRImRFFDBBwAAAABJRU5ErkJggg==\n",
       "\" style=\"display:inline;vertical-align:middle;\" /></a></td></tr>\n",
       "<tr><td>3</td><td>Operation</td><td>operator:&nbsp;5<br>operands:&nbsp;6<br></td><td><a class=\"ProveItLink\" href=\"../832229df1740961f676ef0929f5b88a1d2e69c8f0/expr.ipynb\"><img src=\"data:image/png;base64,iVBORw0KGgoAAAANSUhEUgAAADwAAAAOBAMAAACBYGLnAAAAMFBMVEX///+qqqru7u4iIiJ2dnbc\n",
       "3NyIiIjMzMxmZmYQEBC6uroyMjJERERUVFSYmJgAAADLUcuvAAAAAXRSTlMAQObYZgAAAItJREFU\n",
       "GNNjYGB4+//u3dMLGFBBszEI2ICYcxgYOH4xYIAKCMX+DYj/4pRm+8rAwPcFpzTPBAYG5kk4pfkv\n",
       "MLDuUcApXX8trfkBmNW9GwT2okrnBzAw2TLg1H0SpOQBTmmQn9474JJm/wck7gugBRVcGuRt1t84\n",
       "7QZ5u3ITLmmO83/v3t6HRZahBIgBOGYufu9fDlQAAAAASUVORK5CYII=\n",
       "\" style=\"display:inline;vertical-align:middle;\" /></a></td></tr>\n",
       "<tr><td>4</td><td>Operation</td><td>operator:&nbsp;7<br>operands:&nbsp;8<br></td><td><a class=\"ProveItLink\" href=\"../0f1bf4090acd92174180531bf3e50944b30066e50/expr.ipynb\"><img src=\"data:image/png;base64,iVBORw0KGgoAAAANSUhEUgAAADcAAAAPBAMAAACy3Eq1AAAAMFBMVEX///92dnYQEBBERERUVFS6\n",
       "urqIiIhmZmaqqqrc3Nzu7u6YmJgyMjIiIiLMzMwAAACFkkdwAAAAAXRSTlMAQObYZgAAAP1JREFU\n",
       "GNNjYACBtwyogNv/i4vzUSjnPIhgBTMfgEkmAwaG+gCIwvsLgCQLSJwtASzyHki9dwAzZ9RPAJJ8\n",
       "QNUMvAvAIvlAgf0CYGZCPtiEk0DcDrHHCIgvgdWxLujfwACVOAmR/MLAMMcKzFoKtgJsJNhooA1f\n",
       "0tJvQ5QFMMwvYIA4hgXiQrafDAxrwe7hc3Hxh2i4wLAGopxZAajgN9R/TAfAYhUM0hBJfqAu7o8g\n",
       "VgPQNgWw2BygXog3gQ5k+QFkcAIleT6AxVheQ4IA7M35INNA1jD/gjjSdgHcm3w6QPZk/ZMM3PZ/\n",
       "wM5lOA6RK/7v4nJmA1pkMLxC5QIA6tw+1pV4TWcAAAAASUVORK5CYII=\n",
       "\" style=\"display:inline;vertical-align:middle;\" /></a></td></tr>\n",
       "<tr><td>5</td><td>Literal</td><td></td><td><a class=\"ProveItLink\" href=\"../../../../equality/__pv_it/2fb26078095930560931daa0500ce419a39ea6cd0/expr.ipynb\"><img src=\"data:image/png;base64,iVBORw0KGgoAAAANSUhEUgAAAA4AAAAFBAMAAACHocAhAAAAFVBMVEX///9EREQiIiJUVFQyMjJm\n",
       "ZmYAAADubVkoAAAAAXRSTlMAQObYZgAAABRJREFUCNdjCHEBAWcGXCBICQQUAUpuAwlgGKrkAAAA\n",
       "AElFTkSuQmCC\n",
       "\" style=\"display:inline;vertical-align:middle;\" /></a></td></tr>\n",
       "<tr><td>6</td><td>ExprTuple</td><td>11, 9</td><td><a class=\"ProveItLink\" href=\"../3e79c2202cc7577754a4528ea231cce3d4dfc5000/expr.ipynb\"><img src=\"data:image/png;base64,iVBORw0KGgoAAAANSUhEUgAAADYAAAAVBAMAAAD/UwB2AAAAMFBMVEX////c3NwiIiJERESqqqqY\n",
       "mJh2dnZmZmYQEBDu7u4yMjJUVFTMzMyIiIi6uroAAAAs73DqAAAAAXRSTlMAQObYZgAAAPNJREFU\n",
       "KM9jYMAH+C5gFWZ9ACROA3H0/927rR6AxdiVwMCAoQbIWQkSaQYK/oNp4SkAkVwMDLwgI3n+AvFv\n",
       "VDnWBAaOCUCa9yOQ/Q1VjrOB4RWIZm5gYGDqRJVjMGEoA1H8GxgYF09Ak0tnWAqizu+9WxTAgCbn\n",
       "xdAHou4LMHBqo8u9YAC73AIkH4Amdx4iB3J+fAKGXAuI8xVI7HfAMNMU6j3GXwwME1DkooAuhXjv\n",
       "xEoGzk9ofngEDEn737t3Af3C2S8AkYPYvI6BQwApupDYoDBjTUCKM+QIZLsAjSMscrOAWBrBRUkB\n",
       "G4GYEXua4D3AAABTJD+ak77tNAAAAABJRU5ErkJggg==\n",
       "\" style=\"display:inline;vertical-align:middle;\" /></a></td></tr>\n",
       "<tr><td>7</td><td>Literal</td><td></td><td><a class=\"ProveItLink\" href=\"../087d0b4ded7c7e5bf3bba05ecb616d7a8051ff650/expr.ipynb\"><img src=\"data:image/png;base64,iVBORw0KGgoAAAANSUhEUgAAAAwAAAAOBAMAAADpk+DfAAAALVBMVEX///+YmJh2dnZmZmaqqqrc\n",
       "3NwyMjLu7u4iIiJERESIiIhUVFTMzMy6uroAAAD0I/TTAAAAAXRSTlMAQObYZgAAAEtJREFUCNdj\n",
       "uMAABDwMe0DUKoaTIKqdgS2AgYHFAITAzHYGsMQqBoa9QIqDgT0BSDE7MAkAKdYEDpAehj1SYOpk\n",
       "O5hiMwBTPAUMDAB33Atnw8aG2QAAAABJRU5ErkJggg==\n",
       "\" style=\"display:inline;vertical-align:middle;\" /></a></td></tr>\n",
       "<tr><td>8</td><td>ExprTuple</td><td>10, 11</td><td><a class=\"ProveItLink\" href=\"../caee09fb4b5c95b986a9cee46a014afbad9bdc680/expr.ipynb\"><img src=\"data:image/png;base64,iVBORw0KGgoAAAANSUhEUgAAADUAAAAVBAMAAAAUZLt1AAAAMFBMVEX////c3NwiIiJERESqqqqY\n",
       "mJh2dnZmZmYQEBDu7u4yMjJUVFTMzMyIiIi6uroAAAAs73DqAAAAAXRSTlMAQObYZgAAATZJREFU\n",
       "KM9jYMAH+C5gFY4DEach7EMwQdb9v3dvXsfAfgDIXgkRWg/XwWHAwFD/gGEBAwMvxEhW/QkwufNA\n",
       "kfMbGMKAqiBiIvUCMLn7QFZ8AsMMBoZXEIEL9x/A5CyAWGMCA7MDQxnEsRP8A2ByvxkYpCwZGNgK\n",
       "GJaC+fPAtoABz++711WBNMsChj6wwAMG+QKoHO9HBoZJG4BGNTD8A6vdvXu/AVSOuQEo/xUo9gEi\n",
       "xwd07wKoHD9QD+s3sFwLiO/AwMDUAPMe0FHcX8BmmgK5jEA5rg8MDBNg3pMHGsK6gCEdyJ0FsuYn\n",
       "A+cnqPd4uiaA/fCIgUG4fyEDq/2vAs5+oJbi/7t3rwL5lesBA4cAUnQhsUFhxpqA4LIiR2AuIo7Q\n",
       "5ThBfpJG8JFTADfIfEbsaeIOAwMABOxNRsfkiy0AAAAASUVORK5CYII=\n",
       "\" style=\"display:inline;vertical-align:middle;\" /></a></td></tr>\n",
       "<tr><td>9</td><td>Literal</td><td></td><td><a class=\"ProveItLink\" href=\"../../../__pv_it/68a87cc3370287d726c7086ace789e680e4461c30/expr.ipynb\"><img src=\"data:image/png;base64,iVBORw0KGgoAAAANSUhEUgAAAA4AAAAOBAMAAADtZjDiAAAAFVBMVEX///92dnbMzMxEREQiIiJm\n",
       "ZmYAAABAT6GXAAAAAXRSTlMAQObYZgAAABhJREFUCNdjCHEBAWcGIFBlgABa0YpADAAxegPJJk4d\n",
       "XAAAAABJRU5ErkJggg==\n",
       "\" style=\"display:inline;vertical-align:middle;\" /></a></td></tr>\n",
       "<tr><td>10</td><td>Variable</td><td></td><td><a class=\"ProveItLink\" href=\"../../../../../__pv_it/2cbe72a7ad6f655694dd697106680215e8489b600/expr.ipynb\"><img src=\"data:image/png;base64,iVBORw0KGgoAAAANSUhEUgAAAA8AAAAOBAMAAAACpFvcAAAALVBMVEX///8QEBBERERUVFS6urqI\n",
       "iIhmZmaqqqrc3Nzu7u6YmJgyMjIiIiLMzMwAAADtIaYWAAAAAXRSTlMAQObYZgAAAFtJREFUCNdj\n",
       "YACBOwxQsA9Kc52bAGG05zVAGAFxDmCaZULdAjBjCsO9ADDDgaEvAUTzGhvbKYCVMDAwbgAxChgY\n",
       "eASANAeQwf0AyJgNxEwvGRia5HYwcOm9TgAA6BoR3jrzwFcAAAAASUVORK5CYII=\n",
       "\" style=\"display:inline;vertical-align:middle;\" /></a></td></tr>\n",
       "<tr><td>11</td><td>Variable</td><td></td><td><a class=\"ProveItLink\" href=\"../../../../../__pv_it/077b2ff79244fb4582cbe22c6e3356fa92a52f2f0/expr.ipynb\"><img src=\"data:image/png;base64,iVBORw0KGgoAAAANSUhEUgAAABAAAAAOBAMAAADUAYG5AAAAMFBMVEX///+qqqru7u4iIiJ2dnbc\n",
       "3NyIiIjMzMxmZmYQEBC6uroyMjJERERUVFSYmJgAAADLUcuvAAAAAXRSTlMAQObYZgAAAGpJREFU\n",
       "CNdjYGB4+//u3dMLGIBgDgMDxy8gzf4NiP8CGWxfGRj4vgAZPBMYGJgnARn8FxhY9ygAGfXX0pof\n",
       "gDTlBzAw2YIYJ0EckBBI53sHoBH/gIz7AhBjWH9DjancBLTl/N+7t/cxMAAA3u4f/5xagjYAAAAA\n",
       "SUVORK5CYII=\n",
       "\" style=\"display:inline;vertical-align:middle;\" /></a></td></tr>\n",
       "</table>\n"
      ],
      "text/plain": [
       "0. (B = TRUE) => (A or B)\n",
       "   core type: Operation\n",
       "   operator: 1\n",
       "   operands: 2\n",
       "1. =>\n",
       "   core type: Literal\n",
       "   sub-expressions: \n",
       "2. (B = TRUE , A or B)\n",
       "   core type: ExprTuple\n",
       "   sub-expressions: 3, 4\n",
       "3. B = TRUE\n",
       "   core type: Operation\n",
       "   operator: 5\n",
       "   operands: 6\n",
       "4. A or B\n",
       "   core type: Operation\n",
       "   operator: 7\n",
       "   operands: 8\n",
       "5. =\n",
       "   core type: Literal\n",
       "   sub-expressions: \n",
       "6. (B , TRUE)\n",
       "   core type: ExprTuple\n",
       "   sub-expressions: 11, 9\n",
       "7. or\n",
       "   core type: Literal\n",
       "   sub-expressions: \n",
       "8. (A , B)\n",
       "   core type: ExprTuple\n",
       "   sub-expressions: 10, 11\n",
       "9. TRUE\n",
       "   core type: Literal\n",
       "   sub-expressions: \n",
       "10. A\n",
       "    core type: Variable\n",
       "    sub-expressions: \n",
       "11. B\n",
       "    core type: Variable\n",
       "    sub-expressions: "
      ]
     },
     "execution_count": 4,
     "metadata": {},
     "output_type": "execute_result"
    }
   ],
   "source": [
    "# display the expression information\n",
    "expr.exprInfo()"
   ]
  },
  {
   "cell_type": "code",
   "execution_count": null,
   "metadata": {},
   "outputs": [],
   "source": []
  }
 ],
 "metadata": {
  "kernelspec": {
   "display_name": "Python 3",
   "language": "python",
   "name": "python3"
  }
 },
 "nbformat": 4,
 "nbformat_minor": 0
}
