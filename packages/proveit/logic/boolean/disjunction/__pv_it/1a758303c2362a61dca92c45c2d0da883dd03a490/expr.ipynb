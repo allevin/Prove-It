{
 "cells": [
  {
   "cell_type": "markdown",
   "metadata": {},
   "source": [
    "Expression of type <a class=\"ProveItLink\" href=\"../../../../../../../doc/html/api/proveit.ExprTuple.html\">ExprTuple</a>\n",
    "=======================\n",
    "# from context <a class=\"ProveItLink\" href=\"../../_context_.ipynb\">proveit.logic.boolean.disjunction</a>"
   ]
  },
  {
   "cell_type": "code",
   "execution_count": 1,
   "metadata": {},
   "outputs": [],
   "source": [
    "# import Expression classes needed to build the expression\n",
    "from proveit import ExprTuple\n",
    "from proveit._common_ import D, K"
   ]
  },
  {
   "cell_type": "code",
   "execution_count": 2,
   "metadata": {},
   "outputs": [
    {
     "data": {
      "text/html": [
       "<strong id=\"expr\">expr:</strong> <a class=\"ProveItLink\" href=\"expr.ipynb\"><img src=\"data:image/png;base64,iVBORw0KGgoAAAANSUhEUgAAADoAAAAVBAMAAADlb+D4AAAAMFBMVEX////c3NwiIiJERESqqqqY\n",
       "mJh2dnZmZmYQEBDu7u4yMjJUVFTMzMyIiIi6uroAAAAs73DqAAAAAXRSTlMAQObYZgAAAUFJREFU\n",
       "KM9jYMAP+C7gkGB9ACROA/Ht/7t3Lz4AFeXd/3knA/d/G4YaIGclSOQXAwPLF5gm/gVA3k4GBi6g\n",
       "SpDBPN+ARP0EqOz7BAaGEJDRCQwcIDHef0DiPMwB+Q8YpgkAac4GhlcgPvMHICG/ASq7noEnAcww\n",
       "YSgD22QA0guT/cUQDmGkMyxlgBkanwD14je2TxCWF0MfiLoP8s3+BxAxtr8J9Q5g1gsGkHsY7EFE\n",
       "B9Rgrq8M8gvArPMQ2c8g939FeJf5D1S2BeTdv0CCwwDhXb7fUJNNQd4FKbWawMAJ8S7QEfrgkIkC\n",
       "uhri3VMFDAzzFSDeBTozAeKjRwwM0+1/794MCvIZH4EBVPx/LwOb/m9QYK1j4BBAirSHKFEIDEnW\n",
       "BCR+AIos2wVoDGKVnQXE0gguL2ri2AjEjLhSDu8BBgDTEVhsGwLwTgAAAABJRU5ErkJggg==\n",
       "\" style=\"display:inline;vertical-align:middle;\" /></a><br>"
      ],
      "text/plain": [
       "expr: (D , K)"
      ]
     },
     "execution_count": 2,
     "metadata": {},
     "output_type": "execute_result"
    }
   ],
   "source": [
    "# build up the expression from sub-expressions\n",
    "expr = ExprTuple(D, K)"
   ]
  },
  {
   "cell_type": "code",
   "execution_count": 3,
   "metadata": {},
   "outputs": [
    {
     "name": "stdout",
     "output_type": "stream",
     "text": [
      "Passed sanity check: built 'expr' is the same as the stored Expression.\n"
     ]
    }
   ],
   "source": [
    "# check that the built expression is the same as the stored expression\n",
    "%check_expr"
   ]
  },
  {
   "cell_type": "code",
   "execution_count": 4,
   "metadata": {},
   "outputs": [
    {
     "data": {
      "text/html": [
       "<table><tr><th>&nbsp;</th><th>core type</th><th>sub-expressions</th><th>expression</th></tr>\n",
       "<tr><td>0</td><td>ExprTuple</td><td>1, 2</td><td><a class=\"ProveItLink\" href=\"expr.ipynb\"><img src=\"data:image/png;base64,iVBORw0KGgoAAAANSUhEUgAAADoAAAAVBAMAAADlb+D4AAAAMFBMVEX////c3NwiIiJERESqqqqY\n",
       "mJh2dnZmZmYQEBDu7u4yMjJUVFTMzMyIiIi6uroAAAAs73DqAAAAAXRSTlMAQObYZgAAAUFJREFU\n",
       "KM9jYMAP+C7gkGB9ACROA/Ht/7t3Lz4AFeXd/3knA/d/G4YaIGclSOQXAwPLF5gm/gVA3k4GBi6g\n",
       "SpDBPN+ARP0EqOz7BAaGEJDRCQwcIDHef0DiPMwB+Q8YpgkAac4GhlcgPvMHICG/ASq7noEnAcww\n",
       "YSgD22QA0guT/cUQDmGkMyxlgBkanwD14je2TxCWF0MfiLoP8s3+BxAxtr8J9Q5g1gsGkHsY7EFE\n",
       "B9Rgrq8M8gvArPMQ2c8g939FeJf5D1S2BeTdv0CCwwDhXb7fUJNNQd4FKbWawMAJ8S7QEfrgkIkC\n",
       "uhri3VMFDAzzFSDeBTozAeKjRwwM0+1/794MCvIZH4EBVPx/LwOb/m9QYK1j4BBAirSHKFEIDEnW\n",
       "BCR+AIos2wVoDGKVnQXE0gguL2ri2AjEjLhSDu8BBgDTEVhsGwLwTgAAAABJRU5ErkJggg==\n",
       "\" style=\"display:inline;vertical-align:middle;\" /></a></td></tr>\n",
       "<tr><td>1</td><td>Variable</td><td></td><td><a class=\"ProveItLink\" href=\"../../../../../__pv_it/185e6d30f167ee2ee5ef3321098dc98e0d77bc590/expr.ipynb\"><img src=\"data:image/png;base64,iVBORw0KGgoAAAANSUhEUgAAABEAAAAOBAMAAAA7w+qHAAAALVBMVEX///8QEBCYmJjc3Ny6urru\n",
       "7u5mZmZ2dnaqqqrMzMxEREQyMjJUVFSIiIgAAABETr/8AAAAAXRSTlMAQObYZgAAAGpJREFUCNdj\n",
       "YGC48+7MmV0TGEDgNQMDxwsQg/M5kMgLABK8T4DEvAtAgusBkLA7ACT4FoDEDsAk9AqAxD2QCecc\n",
       "gMQ6kAGCIOIVEDM9Ahn3FkgwgnTxvgQSqwOgxs1OADLC1r05cyoTyAAAv4Qe+njAWvgAAAAASUVO\n",
       "RK5CYII=\n",
       "\" style=\"display:inline;vertical-align:middle;\" /></a></td></tr>\n",
       "<tr><td>2</td><td>Variable</td><td></td><td><a class=\"ProveItLink\" href=\"../../../../../__pv_it/3fb1092d10295c809ebd5134eaa882b76222b6190/expr.ipynb\"><img src=\"data:image/png;base64,iVBORw0KGgoAAAANSUhEUgAAABMAAAAOBAMAAAA/Njq6AAAALVBMVEX///8iIiJmZmbc3NyYmJh2\n",
       "dna6urqqqqoyMjLMzMzu7u5ERERUVFSIiIgAAAAU/m/NAAAAAXRSTlMAQObYZgAAAG5JREFUCNdj\n",
       "YGC4827PAoZzrycwAMELIK5ZAGKxPWVgYCkAsRhYnzFwBYNZDBwPGKZCWAx8DSwKUGZeQJwAlBl3\n",
       "lek5lNnnwPwCygTS+8Dmg43NOwAx9iUDA+MrmLEMvE9BrEX73lxgCHx3mIEBAPGUHmvA0AqBAAAA\n",
       "AElFTkSuQmCC\n",
       "\" style=\"display:inline;vertical-align:middle;\" /></a></td></tr>\n",
       "</table>\n"
      ],
      "text/plain": [
       "0. (D , K)\n",
       "   core type: ExprTuple\n",
       "   sub-expressions: 1, 2\n",
       "1. D\n",
       "   core type: Variable\n",
       "   sub-expressions: \n",
       "2. K\n",
       "   core type: Variable\n",
       "   sub-expressions: "
      ]
     },
     "execution_count": 4,
     "metadata": {},
     "output_type": "execute_result"
    }
   ],
   "source": [
    "# display the expression information\n",
    "expr.exprInfo()"
   ]
  },
  {
   "cell_type": "code",
   "execution_count": null,
   "metadata": {},
   "outputs": [],
   "source": []
  }
 ],
 "metadata": {
  "kernelspec": {
   "display_name": "Python 3",
   "language": "python",
   "name": "python3"
  }
 },
 "nbformat": 4,
 "nbformat_minor": 0
}
