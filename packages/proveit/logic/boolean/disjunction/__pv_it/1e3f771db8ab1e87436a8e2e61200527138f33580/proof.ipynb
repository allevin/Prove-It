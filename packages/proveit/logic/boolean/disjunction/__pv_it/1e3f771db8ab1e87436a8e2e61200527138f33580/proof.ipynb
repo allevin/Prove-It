{
 "cells": [
  {
   "cell_type": "markdown",
   "metadata": {},
   "source": [
    "Show the Proof\n",
    "========"
   ]
  },
  {
   "cell_type": "code",
   "execution_count": 1,
   "metadata": {},
   "outputs": [
    {
     "data": {
      "text/html": [
       "<table><tr><th>&nbsp;</th><th>step type</th><th>requirements</th><th>statement</th></tr>\n",
       "<tr><td>0</td><td>assumption</td><td></td><td><span style=\"font-size:20px;\"><a class=\"ProveItLink\" href=\"../13cce7667c8b30ca276bb96e5eda2788215458bb0/expr.ipynb\"><img src=\"data:image/png;base64,iVBORw0KGgoAAAANSUhEUgAAAKcAAAAVBAMAAADROuOhAAAAMFBMVEX////c3NxERESqqqpUVFS6\n",
       "urrMzMwyMjIQEBCIiIh2dnYiIiLu7u5mZmaYmJgAAABXZE4RAAAAAXRSTlMAQObYZgAAAktJREFU\n",
       "OMutlT2IE1EQxydfm+xmsxewECsFC68QTGclRNmzdcsTLMKRwi5pDitREb3G4iohhRiwUUFI6cch\n",
       "6RRsDgstBA2CiGdxfkREUc+ZN/Pevre7nI0Dv307s//M+5r3AgDRa/h/5t1tUxM+dKKnBcfeZQM5\n",
       "RZQw4F0m1//k9NRlrMgEoNXLjCdVRKfm8YlVgBfAwEt6BBdteX3KWBHqdMjvpWmq0tY4APAmgTqF\n",
       "yb+dTzoSUvv4Cx9bkmwzVWkbrCNdiMagKEp6TTBWOvYZn0/ZWdlIVdpu4s5sjyHENERB0tqQSc33\n",
       "v+Gz3FHO0siojC0i93E5DgKTT9oaM6mdqfwhkZp3OGwalbE5wN7D2N4TVNKW3W19xhgLE+8HNhUl\n",
       "CmatjlaZQpiPbjyml6PCNjlnsbpePUKjem0kjAnUoPSbGjWdJpRUclvh45I/owpbFmgz+1d1n31k\n",
       "IWFMoB/HX2g8qpg/AJwEcBVl7M6nFRoIcAjnsdzbLSm+r5mkGxxzFAs4yuinlbRJC14dWjkaHUYH\n",
       "KrS1evoVnFi9Da5igOOqfrWmr9Y0mFhJyzNGB/Zgc4EOI/VMCSmxo6Ay3U9f3wtuSXlSOsGmCYSk\n",
       "PjKV2AoFJ+AoqEy9tWm2pNzinzBymha/t+HtznkcJK3ikj6hqQKe78TxOTXwVaHgmF4SMqaOqdqe\n",
       "GhQrdjmm6ubYyv/kjusWKIJ1hpNG/7j6+Hy6fl4BTwS+T8MHzqXUZVyrtl0/r4DjgneF7+5b9sd9\n",
       "gmPXs4Gcwu8x6j/qLwN8qLW8oJ3QAAAAAElFTkSuQmCC\n",
       "\" style=\"display:inline;vertical-align:middle;\" /></a> <a class=\"ProveItLink\" href=\"proof.ipynb\" style=\"text-decoration: none\">&#x22A2;&nbsp;</a><a class=\"ProveItLink\" href=\"../d78ecc3093173dc93677e6dd0c149c0be6ebf49c0/expr.ipynb\"><img src=\"data:image/png;base64,iVBORw0KGgoAAAANSUhEUgAAAJIAAAAVBAMAAABf4KrdAAAAMFBMVEX////c3NxERESqqqqYmJgQ\n",
       "EBDu7u4yMjKIiIi6urpUVFTMzMx2dnYiIiJmZmYAAABjE816AAAAAXRSTlMAQObYZgAAAfhJREFU\n",
       "OMu1lDtsE0EQhn8/Yp9jx7FEAR1IKGlxlw5ZaQDJiNCQ1g2iQnKH0kBKS5HINUGUTrocBVHKNHZJ\n",
       "hVyAqyBFtAjxFA8LEWZ2ZndvfSZdfunbvR3/t7c7u2PgPPRcCXRrlitQMRa8qn0hFRkB9YPwvZSj\n",
       "+HKS7G0AHyA4lTtCKvKZmq485zreZTV3BfgUo8zh9Hs9xev2D2raOsOJd1kNNok+ikMYnO4pTrnr\n",
       "X6i9L4PDsXdZbTeAO0OU1mCwqnQFryj6TW2+aQb7PedyWiLe0m6vQlDVh4LXs8J3amtmW6XugnM5\n",
       "TYCLy9S/Vmx6W4JTKa7+oq5gVlFr1ZvW5Y5x0nv6hh9WDB/fkY75IGLBBSrI/eXOZGABOTNj2hFR\n",
       "Gh/ypdhRSEfEYiy4wFGSfOUv81XATeAFEDry9I2IEzBQ/jcTPa+7mcYSCxyLtJ7in+xMc03BBgp8\n",
       "MHZ3BUp7uYHQMaCczX/L7i7fEmzgAnVPuCY4PzwLzxY4+Dpd5l9vKLwDPe3aiT0WOnbqrnU0dsjB\n",
       "EQIHX6fqeid7CyojQe/30s8GVk8f03I4M/u2ULwD70+T5JFZ4oZidVeZkqkWk+cKZjumq8WUajvr\n",
       "exUOZzhqm8IZ/ypSJuE468ADxZd+Xwg13wjHWQd2Fa9LSqCt6UDGER0Y/gEsx5IGu5ShYgAAAABJ\n",
       "RU5ErkJggg==\n",
       "\" style=\"display:inline;vertical-align:middle;\" /></a></span></td></tr>\n",
       "</table>"
      ],
      "text/plain": [
       "<proveit._core_.proof._ShowProof at 0x7f94ebd88208>"
      ]
     },
     "execution_count": 1,
     "metadata": {},
     "output_type": "execute_result"
    }
   ],
   "source": [
    "import proveit\n",
    "%show_proof"
   ]
  },
  {
   "cell_type": "code",
   "execution_count": null,
   "metadata": {},
   "outputs": [],
   "source": []
  }
 ],
 "metadata": {
  "kernelspec": {
   "display_name": "Python 3",
   "language": "python",
   "name": "python3"
  }
 },
 "nbformat": 4,
 "nbformat_minor": 0
}
