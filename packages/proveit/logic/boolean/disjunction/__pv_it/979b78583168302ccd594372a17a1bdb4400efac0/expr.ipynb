{
 "cells": [
  {
   "cell_type": "markdown",
   "metadata": {},
   "source": [
    "Expression of type <a class=\"ProveItLink\" href=\"../../../../../../../doc/html/api/proveit.Lambda.html\">Lambda</a>\n",
    "=======================\n",
    "# from context <a class=\"ProveItLink\" href=\"../../_context_.ipynb\">proveit.logic.boolean.disjunction</a>"
   ]
  },
  {
   "cell_type": "code",
   "execution_count": 1,
   "metadata": {},
   "outputs": [],
   "source": [
    "# import Expression classes needed to build the expression\n",
    "from proveit import Lambda\n",
    "from proveit._common_ import A, PofA, QofA\n",
    "from proveit.logic import Booleans, InSet"
   ]
  },
  {
   "cell_type": "code",
   "execution_count": 2,
   "metadata": {},
   "outputs": [
    {
     "data": {
      "text/html": [
       "<strong id=\"expr\">expr:</strong> <a class=\"ProveItLink\" href=\"expr.ipynb\"><img src=\"data:image/png;base64,iVBORw0KGgoAAAANSUhEUgAAAOwAAAAVCAMAAABykPL3AAAANlBMVEX///92dnYUFBQNDQ0QEBBE\n",
       "RERUVFS6urqIiIhmZmaqqqrc3Nzu7u6YmJgyMjIiIiLMzMwAAACuIkBbAAAAAXRSTlMAQObYZgAA\n",
       "AqZJREFUWMPdWNmS3CAMhIT7EOj/fzb22MYg8MDO1qZS4cVb2KvuFroYxv7ucp79B0ubfi/qbovr\n",
       "f4NKTqvWjEJU20qqnFNWI1M2L4mdIHNACQgiSde/9Nxyrmp5S1QA152H8HpIcamFMDQFS2KnyHI/\n",
       "rQCB894RLxEq3fgrVGLCsKo144HqziczZmwq8gWxc+SXWGY0dV4Aef4lynGuUPHO4nLxMHhwjmhP\n",
       "rJptZSqIudgOORhI2wIq1kWmWq9AiX9b/LVCxRQFC0uesaHwyCLdeLw2RdNsIJYiZ4jh4WS9bLYt\n",
       "lkTkl4kVKjpsMRlvl7X9wo1TNuAJbutobUxxOxNLkJmXYRzGOcX2lcdbOz/dvkIl6D0R72gn5ZFE\n",
       "z5myOV3/DhXZ1pSDiViKzKQf5mxKiMKQg41VrOVlKvrlKPskNijfpqzifCv5ZVNUElpTWkzEUuQg\n",
       "nwuUcc3Luq6hWKaS966pqqj4/Ss1SzRZJWn1rN4SUxnfi+2QtbgwuwK1P+ogxduRpS0sUDk+EPB0\n",
       "skw1HJG+rhCIqZnYDrkdCahYJsc0oNTgKZUzt5N4Emt9m7Kk6jBRKhg1NQnjHjmkZbH3LOLusjyj\n",
       "4l03yLSI2Qy7bEUmlr5GTMW3BWqAzFR8I/YVxqFI1Mwbk1muEnVCJUCfiq26QLssbQ5XVe9NvW09\n",
       "I+TtaPWD2GiNfDW86yh4Cpt47uoC/paKlwJh/zhKRLDTeSLY7TtF7hU6HR2yNwX6UewTsgcytB8X\n",
       "AZmEcscoVAYurYCbtO/mr1P5eImHSXNlXBxcehW01Zi2qwZNbkJj/jqVj1c38F/azE/cZ9uslraZ\n",
       "EZepfL5geG8Ja1e874ndLtdNxVyl8vnyo/bIlP8JseSIshDxEyrfUTuIEpP7rb/ws8wjlT8FkiG7\n",
       "Ix6uZAAAAABJRU5ErkJggg==\n",
       "\" style=\"display:inline;vertical-align:middle;\" /></a><br>"
      ],
      "text/plain": [
       "expr: A -> P(A) | A in BOOLEANS , Q(A)"
      ]
     },
     "execution_count": 2,
     "metadata": {},
     "output_type": "execute_result"
    }
   ],
   "source": [
    "# build up the expression from sub-expressions\n",
    "expr = Lambda(A, PofA, conditions = [InSet(A, Booleans), QofA])"
   ]
  },
  {
   "cell_type": "code",
   "execution_count": 3,
   "metadata": {},
   "outputs": [
    {
     "name": "stdout",
     "output_type": "stream",
     "text": [
      "Passed sanity check: built 'expr' is the same as the stored Expression.\n"
     ]
    }
   ],
   "source": [
    "# check that the built expression is the same as the stored expression\n",
    "%check_expr"
   ]
  },
  {
   "cell_type": "code",
   "execution_count": 4,
   "metadata": {},
   "outputs": [
    {
     "data": {
      "text/html": [
       "<table><tr><th>&nbsp;</th><th>core type</th><th>sub-expressions</th><th>expression</th></tr>\n",
       "<tr><td>0</td><td>Lambda</td><td>parameter:&nbsp;9<br>body:&nbsp;1<br>conditions:&nbsp;2<br></td><td><a class=\"ProveItLink\" href=\"expr.ipynb\"><img src=\"data:image/png;base64,iVBORw0KGgoAAAANSUhEUgAAAOwAAAAVCAMAAABykPL3AAAANlBMVEX///92dnYUFBQNDQ0QEBBE\n",
       "RERUVFS6urqIiIhmZmaqqqrc3Nzu7u6YmJgyMjIiIiLMzMwAAACuIkBbAAAAAXRSTlMAQObYZgAA\n",
       "AqZJREFUWMPdWNmS3CAMhIT7EOj/fzb22MYg8MDO1qZS4cVb2KvuFroYxv7ucp79B0ubfi/qbovr\n",
       "f4NKTqvWjEJU20qqnFNWI1M2L4mdIHNACQgiSde/9Nxyrmp5S1QA152H8HpIcamFMDQFS2KnyHI/\n",
       "rQCB894RLxEq3fgrVGLCsKo144HqziczZmwq8gWxc+SXWGY0dV4Aef4lynGuUPHO4nLxMHhwjmhP\n",
       "rJptZSqIudgOORhI2wIq1kWmWq9AiX9b/LVCxRQFC0uesaHwyCLdeLw2RdNsIJYiZ4jh4WS9bLYt\n",
       "lkTkl4kVKjpsMRlvl7X9wo1TNuAJbutobUxxOxNLkJmXYRzGOcX2lcdbOz/dvkIl6D0R72gn5ZFE\n",
       "z5myOV3/DhXZ1pSDiViKzKQf5mxKiMKQg41VrOVlKvrlKPskNijfpqzifCv5ZVNUElpTWkzEUuQg\n",
       "nwuUcc3Luq6hWKaS966pqqj4/Ss1SzRZJWn1rN4SUxnfi+2QtbgwuwK1P+ogxduRpS0sUDk+EPB0\n",
       "skw1HJG+rhCIqZnYDrkdCahYJsc0oNTgKZUzt5N4Emt9m7Kk6jBRKhg1NQnjHjmkZbH3LOLusjyj\n",
       "4l03yLSI2Qy7bEUmlr5GTMW3BWqAzFR8I/YVxqFI1Mwbk1muEnVCJUCfiq26QLssbQ5XVe9NvW09\n",
       "I+TtaPWD2GiNfDW86yh4Cpt47uoC/paKlwJh/zhKRLDTeSLY7TtF7hU6HR2yNwX6UewTsgcytB8X\n",
       "AZmEcscoVAYurYCbtO/mr1P5eImHSXNlXBxcehW01Zi2qwZNbkJj/jqVj1c38F/azE/cZ9uslraZ\n",
       "EZepfL5geG8Ja1e874ndLtdNxVyl8vnyo/bIlP8JseSIshDxEyrfUTuIEpP7rb/ws8wjlT8FkiG7\n",
       "Ix6uZAAAAABJRU5ErkJggg==\n",
       "\" style=\"display:inline;vertical-align:middle;\" /></a></td></tr>\n",
       "<tr><td>1</td><td>Operation</td><td>operator:&nbsp;3<br>operand:&nbsp;9<br></td><td><a class=\"ProveItLink\" href=\"../../../../../__pv_it/d2c2aa3c0d5707e464a75d67a5b95d12c40fc6e30/expr.ipynb\"><img src=\"data:image/png;base64,iVBORw0KGgoAAAANSUhEUgAAADIAAAAVBAMAAAD2uKAMAAAAMFBMVEX////u7u5mZmaYmJi6urqq\n",
       "qqp2dnbMzMwQEBBEREQyMjLc3NwiIiJUVFSIiIgAAAAeC3ydAAAAAXRSTlMAQObYZgAAARtJREFU\n",
       "KM9jYCAKsDyAsZgdQOTb/3fvnt0AYtVChGuAWB3M+sXAwNkNYiyEyKwHYi4Qg/0bAwMrEDPwQQxj\n",
       "Pi8AJBJAAl+AjE9ABocAWGarPtBoxgYgi/MDAwPvVyDDC2LYg/cg66cCMf8CBgb5CUCGGsSBAvEG\n",
       "QCoJiOsTGNgPgcQWg2VEGOpB9kUB8ftraWpgR7eAZRwY9isAKQ8gni8A9d4XsEvv3r0PMroeiP8w\n",
       "IMuwAN24ACLD/gkm0woiAhgYeBogpvF9gclMBmJuoAwX0BsMVkDvfITJgBwqxQAVSWIQmv8XFsI+\n",
       "DAw7+1czMM//BXTcEuRI4NiAYINDBw7AoQgFbA9QYm4hgimFGqd7EczbqDLccCP4ChgAEixBiNSE\n",
       "EDoAAAAASUVORK5CYII=\n",
       "\" style=\"display:inline;vertical-align:middle;\" /></a></td></tr>\n",
       "<tr><td>2</td><td>ExprTuple</td><td>4, 5</td><td><a class=\"ProveItLink\" href=\"../c7fe01fb0b2d22aec7353dbbefdb7014b3147c960/expr.ipynb\"><img src=\"data:image/png;base64,iVBORw0KGgoAAAANSUhEUgAAAH8AAAAVBAMAAACd/CwcAAAAMFBMVEX////c3NwiIiJERESqqqqY\n",
       "mJh2dnZmZmYQEBDu7u4yMjJUVFTMzMyIiIi6uroAAAAs73DqAAAAAXRSTlMAQObYZgAAAhdJREFU\n",
       "OMullD9IXEEQxr/L3bvznd55oFiYIvJIkUovoASD4NVaeBAIJEgQCaQQwcpKUSSW6qEgwSJ5JggG\n",
       "gv+wSSwUKzGFV1iJ4jOFiJVBLSKizuy8u9vVoJgc3M7u8Jtvd2Z2H/Dfv3j232jLA97w5KesV00w\n",
       "PPv8bKA2v6zo7pBIje4BIitkv4pr9tpWwXh2YrwtJ/cNWMjApKP0d4GYKFs1mRsCMc+Vuf2FhqI5\n",
       "mLRF8i/JL4HlfQlhtxzH9QVC6e8iEK2iIfIHJm33Ax+AQ2Gyu56y66+0E+wlZd7HqYYvcI2mEgVT\n",
       "6JbiZlrSbAP1WgqrL2S/wLGqwwkNBv2OnF2YUq6P2FDZBRMFAedySKaRU+U4p8Ggm4CQi2Hl8vCo\n",
       "i+2YUcRNSeEBZ49SStmkD+gs/eDMULK0tKzgA8cpFBHJfeRD0cI9NegNmh6JK071dbV7khMIigA3\n",
       "AdOZnECOFoH37ErROdU2o38TiB7REOISmLSkUMdlTvkUitOGwD5sjr0I7KysqTYb9Gu6TC73AhMc\n",
       "oCplV2sCVm8Sn/j47eN4+1R5DVra+AsoG5mE1Xim2lDZk39Mx08W6ar95qR/dD5GCbsNeoZO4qEo\n",
       "Yb6B5s+Oq6/3xDSglY1O+1fZarv9A+AX5Vlcyep0mC5TZ+GB3iGwfClvRaOpFjarPrw1PubbtUGx\n",
       "Gj1PTeOMAvf6pBXoGD3RbeAKCkmhYfStsPYAAAAASUVORK5CYII=\n",
       "\" style=\"display:inline;vertical-align:middle;\" /></a></td></tr>\n",
       "<tr><td>3</td><td>Variable</td><td></td><td><a class=\"ProveItLink\" href=\"../../../../../__pv_it/6369c6c8083c513ca7161ace249642d040f9327d0/expr.ipynb\"><img src=\"data:image/png;base64,iVBORw0KGgoAAAANSUhEUgAAABAAAAAOBAMAAADUAYG5AAAAMFBMVEX////u7u5mZmaYmJi6urqq\n",
       "qqp2dnbMzMwQEBBEREQyMjLc3NwiIiJUVFSIiIgAAAAeC3ydAAAAAXRSTlMAQObYZgAAAGBJREFU\n",
       "CNdjYGB4+//u3bMbGIDgFwMDZzeQZv/GwMAKxAx8XxgYmD8BGZwfGBh4vwIZ/AsYGOQnABn1CQzs\n",
       "h0Ca3l9LUwPrni/AAAF/oDT7JygDZAwYcH6E0ELz/z4A0QBnpRnRyxnfJQAAAABJRU5ErkJggg==\n",
       "\" style=\"display:inline;vertical-align:middle;\" /></a></td></tr>\n",
       "<tr><td>4</td><td>Operation</td><td>operator:&nbsp;6<br>operands:&nbsp;7<br></td><td><a class=\"ProveItLink\" href=\"../18d84e6b10643c76412edd0e67904c254c981c030/expr.ipynb\"><img src=\"data:image/png;base64,iVBORw0KGgoAAAANSUhEUgAAADYAAAAPBAMAAABdHiGLAAAAMFBMVEX///92dnYQEBBERERUVFS6\n",
       "urqIiIhmZmaqqqrc3Nzu7u6YmJgyMjIiIiLMzMwAAACFkkdwAAAAAXRSTlMAQObYZgAAANJJREFU\n",
       "GNNjYACBtwwogPG8zR9dCyjnPKocAzNrwpqFAmAm9/0FGHJsAQfAzBn1EyBiy87evQOV49jgBRZK\n",
       "yA8A03ynFyD0RRqAWKwL+jeAhSYvQJj5djOYs5ThfQJYyBJh393/amBWAMP8AhDNZYDslgwQj8/F\n",
       "xR9itu7du3C3MBgEgoQYGJjA7uVzQNLHYMAMZDQwMPAqgM28gC7HCZTj+QAW8kaRA5q5BsT+BRZa\n",
       "G4CQ4y4zYJisf5KB2/4P2KGcxx/AwvrzJQ+0MObwgbgTAgCMvTlc/0QYTQAAAABJRU5ErkJggg==\n",
       "\" style=\"display:inline;vertical-align:middle;\" /></a></td></tr>\n",
       "<tr><td>5</td><td>Operation</td><td>operator:&nbsp;8<br>operand:&nbsp;9<br></td><td><a class=\"ProveItLink\" href=\"../../../../../__pv_it/cdde746c2742536efa2c676f92c97c50cbb392360/expr.ipynb\"><img src=\"data:image/png;base64,iVBORw0KGgoAAAANSUhEUgAAADEAAAAVBAMAAAAdjxsPAAAAMFBMVEX///+YmJiqqqq6uroQEBBE\n",
       "RETu7u4iIiLMzMwyMjKIiIhUVFRmZmZ2dnbc3NwAAADS0us6AAAAAXRSTlMAQObYZgAAATZJREFU\n",
       "KM9jYCAKWMFZwmCS787dXWAGxwYIVcDAwNMAYt1sYOAuAzE4E8AynB+AxAQgzgwAEt4goVUQk8S/\n",
       "AQlZIJ4O4p0HKXeDGK7zD0imAE38AeLeN2BgYJ4AluHi+gwkWRUY3geAZRSAai6AZcyYPgJJ3gMM\n",
       "5wVA3HigWzjBLDYDjl9AimkCQz3YQV+AmMUAxGJm4PsDohzAYgxMf4EEP1ime/furyBPfWD4DvaC\n",
       "G1wGSHhCZOaDuPogL7MogHQDcQnENH2DVys4nEHSrCAXPAJikGLGCQy8ZRd4VR8wQBzKwAbyU3wC\n",
       "hGM9d7kCA8g05gIGvpCfDxhE/88B2gy2lLWBERy0fkgRkgImWQ9YgmlZJJlbYJL7/2cGpFgAhwQk\n",
       "DDlcBCChvAEuw/0ANbZfwVkrGBgAkEREnzYbeDMAAAAASUVORK5CYII=\n",
       "\" style=\"display:inline;vertical-align:middle;\" /></a></td></tr>\n",
       "<tr><td>6</td><td>Literal</td><td></td><td><a class=\"ProveItLink\" href=\"../../../../set_theory/membership/__pv_it/088cbc857536a28d4119ad9639a84270ccb0545d0/expr.ipynb\"><img src=\"data:image/png;base64,iVBORw0KGgoAAAANSUhEUgAAAAwAAAAMBAMAAACkW0HUAAAALVBMVEX///+qqqpmZmZUVFQQEBC6\n",
       "urpERETc3NyYmJjMzMwiIiIyMjKIiIju7u4AAACYsrA9AAAAAXRSTlMAQObYZgAAADxJREFUCNdj\n",
       "YOA9vWrVBgaG2b0MQMCeCyIZ2ArA1DUwyRCyahVIyWQI7xaEYm4AU7xLIdxqTQgtvGvVBgCkcQ7e\n",
       "geM/tQAAAABJRU5ErkJggg==\n",
       "\" style=\"display:inline;vertical-align:middle;\" /></a></td></tr>\n",
       "<tr><td>7</td><td>ExprTuple</td><td>9, 10</td><td><a class=\"ProveItLink\" href=\"../0f38ce3f6d5bca20d60f2036d8f4eedb1ccd39680/expr.ipynb\"><img src=\"data:image/png;base64,iVBORw0KGgoAAAANSUhEUgAAADMAAAAVBAMAAAAZessyAAAAMFBMVEX////c3NwiIiJERESqqqqY\n",
       "mJh2dnZmZmYQEBDu7u4yMjJUVFTMzMyIiIi6uroAAAAs73DqAAAAAXRSTlMAQObYZgAAAR1JREFU\n",
       "KM9jYMAD+C5gE40DEach7EMQim291a8mEwYG9gNAzkqI2Hqocma+C7OmJTAwLGBg4IWYx6o/AS7F\n",
       "+wAoHsbAwAEREqkXgEuxBOxkYJjBwPAKInLh/gOErocGQNqBoQzizAn+AXCpQ8FAk9gKGJaCBeYx\n",
       "nL8Ak1L63wukWRYw9IEFHjDIFyAMvAI0kK+B4R+Iz7N7934DuBSDwTOg0AeIFB/QpQuQpJjBUi0g\n",
       "vgMDA1MDqhTQQFMglxEoxfWBgWECkoGsCxjSgdxZIKGfDJyfIFKstQZgxz9iYBDuX8jAav+rgLNf\n",
       "ABS8nzW2AJVwPWDgEECKHyQ2MKBYExBcVqQIy0VECpoUJ8gv0gg+Unxzg8xmxJoA7jAwAAA4lUto\n",
       "1aFFcAAAAABJRU5ErkJggg==\n",
       "\" style=\"display:inline;vertical-align:middle;\" /></a></td></tr>\n",
       "<tr><td>8</td><td>Variable</td><td></td><td><a class=\"ProveItLink\" href=\"../../../../../__pv_it/98124f92e6e1fc3772af50ac63eaa1f5624776f20/expr.ipynb\"><img src=\"data:image/png;base64,iVBORw0KGgoAAAANSUhEUgAAAA8AAAASBAMAAAB2sJk8AAAAMFBMVEX///+YmJiqqqq6uroQEBBE\n",
       "RETu7u4iIiLMzMwyMjKIiIhUVFRmZmZ2dnbc3NwAAADS0us6AAAAAXRSTlMAQObYZgAAAHxJREFU\n",
       "CNdjYGDgu3N3FwMI3Gxg4C4D0pkBQMIbiKeDRM8nMPD8ADHuGzC8DwAzFBjOC4AY8Q0M9Qkgxhcw\n",
       "YmBg+svA8B3E4HRjYJgPYug3ALHBqxUczkAOb9kFXtUHIGHrucsVGBrAtrI2MEIZByzBNAP3/88Q\n",
       "BocL0BoActoerD1tNT4AAAAASUVORK5CYII=\n",
       "\" style=\"display:inline;vertical-align:middle;\" /></a></td></tr>\n",
       "<tr><td>9</td><td>Variable</td><td></td><td><a class=\"ProveItLink\" href=\"../../../../../__pv_it/2cbe72a7ad6f655694dd697106680215e8489b600/expr.ipynb\"><img src=\"data:image/png;base64,iVBORw0KGgoAAAANSUhEUgAAAA8AAAAOBAMAAAACpFvcAAAALVBMVEX///8QEBBERERUVFS6urqI\n",
       "iIhmZmaqqqrc3Nzu7u6YmJgyMjIiIiLMzMwAAADtIaYWAAAAAXRSTlMAQObYZgAAAFtJREFUCNdj\n",
       "YACBOwxQsA9Kc52bAGG05zVAGAFxDmCaZULdAjBjCsO9ADDDgaEvAUTzGhvbKYCVMDAwbgAxChgY\n",
       "eASANAeQwf0AyJgNxEwvGRia5HYwcOm9TgAA6BoR3jrzwFcAAAAASUVORK5CYII=\n",
       "\" style=\"display:inline;vertical-align:middle;\" /></a></td></tr>\n",
       "<tr><td>10</td><td>Literal</td><td></td><td><a class=\"ProveItLink\" href=\"../../../__pv_it/46271c8230be96415d662709611f4ed2279d702b0/expr.ipynb\"><img src=\"data:image/png;base64,iVBORw0KGgoAAAANSUhEUgAAAA0AAAAOBAMAAAAGUYvhAAAAMFBMVEX///9mZmbMzMzc3NxUVFSY\n",
       "mJju7u6IiIi6urqqqqoiIiIQEBBEREQyMjJ2dnYAAAAQvcRZAAAAAXRSTlMAQObYZgAAAElJREFU\n",
       "CNdjePvn/u01ExgYGA60s117B6YZKngh9FSWBAjfBsxnWnoMRHet/10AkS+fA6F5OB5AaIYDqDRU\n",
       "PLCGgQFoz6ktExgAgLIl8DFvGtkAAAAASUVORK5CYII=\n",
       "\" style=\"display:inline;vertical-align:middle;\" /></a></td></tr>\n",
       "</table>\n"
      ],
      "text/plain": [
       "0. A -> P(A) | A in BOOLEANS , Q(A)\n",
       "   core type: Lambda\n",
       "   parameter: 9\n",
       "   body: 1\n",
       "   conditions: 2\\n1. P(A)\n",
       "   core type: Operation\n",
       "   operator: 3\n",
       "   operand: 9\n",
       "2. (A in BOOLEANS , Q(A))\n",
       "   core type: ExprTuple\n",
       "   sub-expressions: 4, 5\n",
       "3. P\n",
       "   core type: Variable\n",
       "   sub-expressions: \n",
       "4. A in BOOLEANS\n",
       "   core type: Operation\n",
       "   operator: 6\n",
       "   operands: 7\n",
       "5. Q(A)\n",
       "   core type: Operation\n",
       "   operator: 8\n",
       "   operand: 9\n",
       "6. in\n",
       "   core type: Literal\n",
       "   sub-expressions: \n",
       "7. (A , BOOLEANS)\n",
       "   core type: ExprTuple\n",
       "   sub-expressions: 9, 10\n",
       "8. Q\n",
       "   core type: Variable\n",
       "   sub-expressions: \n",
       "9. A\n",
       "   core type: Variable\n",
       "   sub-expressions: \n",
       "10. BOOLEANS\n",
       "    core type: Literal\n",
       "    sub-expressions: "
      ]
     },
     "execution_count": 4,
     "metadata": {},
     "output_type": "execute_result"
    }
   ],
   "source": [
    "# display the expression information\n",
    "expr.exprInfo()"
   ]
  },
  {
   "cell_type": "code",
   "execution_count": null,
   "metadata": {},
   "outputs": [],
   "source": []
  }
 ],
 "metadata": {
  "kernelspec": {
   "display_name": "Python 3",
   "language": "python",
   "name": "python3"
  }
 },
 "nbformat": 4,
 "nbformat_minor": 0
}
