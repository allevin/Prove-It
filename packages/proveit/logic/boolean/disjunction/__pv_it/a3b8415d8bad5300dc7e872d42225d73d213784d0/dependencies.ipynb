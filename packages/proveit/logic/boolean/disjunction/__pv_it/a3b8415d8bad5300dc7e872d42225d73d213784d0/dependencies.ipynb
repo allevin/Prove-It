{
 "cells": [
  {
   "cell_type": "markdown",
   "metadata": {},
   "source": [
    "Theorem Dependencies\n",
    "=======================\n",
    "\n",
    "## <a class=\"ProveItLink\" href=\"../../_context_.ipynb\">proveit.logic.boolean.disjunction</a>.<a class=\"ProveItLink\" href=\"../../_theorems_.ipynb#falseOrFalseNegated\">falseOrFalseNegated</a> \n",
    "***see <a class=\"ProveItLink\" href=\"../../_proofs_/falseOrFalseNegated.ipynb\">proof</a>***"
   ]
  },
  {
   "cell_type": "code",
   "execution_count": 1,
   "metadata": {},
   "outputs": [],
   "source": [
    "from proveit.logic.boolean.disjunction._theorems_ import falseOrFalseNegated"
   ]
  },
  {
   "cell_type": "code",
   "execution_count": 2,
   "metadata": {},
   "outputs": [
    {
     "data": {
      "text/html": [
       "<h3>Axioms required (directly or indirectly) to prove falseOrFalseNegated</h3>"
      ],
      "text/plain": [
       "<IPython.core.display.HTML object>"
      ]
     },
     "metadata": {},
     "output_type": "display_data"
    },
    {
     "data": {
      "text/html": [
       "<dl>"
      ],
      "text/plain": [
       "<IPython.core.display.HTML object>"
      ]
     },
     "metadata": {},
     "output_type": "display_data"
    },
    {
     "data": {
      "text/html": [
       "<dt><a class=\"ProveItLink\" href=\"../../_axioms_.ipynb#orFF\">proveit.logic.boolean.disjunction.orFF</a></dt><dd><a class=\"ProveItLink\" href=\"../0ed976e03d3d7070b42aaf5485813e9ab228404b0/expr.ipynb\"><img src=\"data:image/png;base64,iVBORw0KGgoAAAANSUhEUgAAAHAAAAAVBAMAAABs93eRAAAAMFBMVEX////c3NwiIiJERESqqqqY\n",
       "mJh2dnZmZmYQEBDu7u4yMjJUVFTMzMyIiIi6uroAAAAs73DqAAAAAXRSTlMAQObYZgAAAQ5JREFU\n",
       "OMtjYCAb8F3AJxuHW+o0iGDEolsWRLAfYMAhw7ASRPAUQIQegDkQ9nEwuQCLRrAM7wVkjXtAxF1k\n",
       "jWG4NHJMQNZ4GERoImucgUvjKwZkjVwCDAwsBcgamR1waCxD0QjSBNKM0MhWgEPjUhSNIGceRpZm\n",
       "YAGHTtUqEFiNLNOHqhEYMPtQNPI14LDxH6pGJgbOBSgaeT4Qp5HdgS2AOI0tqBoZFzAxYHFqkRII\n",
       "KCPLmKJqZNgTi6qRdQEOG9PRNB7WRNWIMzoeAf0FdEWTkpIBJAlAFALdpgF2G9cDNF0wGQ4BVHGe\n",
       "Caj8GbhyFWsC/uyai1NmJV59nAtwSknj1cgtgFOKEW/RcQeXBADdEUd5x52DOAAAAABJRU5ErkJg\n",
       "gg==\n",
       "\" style=\"display:inline;vertical-align:middle;\" /></a></dd>"
      ],
      "text/plain": [
       "<IPython.core.display.HTML object>"
      ]
     },
     "metadata": {},
     "output_type": "display_data"
    },
    {
     "data": {
      "text/html": [
       "<dt><a class=\"ProveItLink\" href=\"../../../negation/_axioms_.ipynb#negationIntro\">proveit.logic.boolean.negation.negationIntro</a></dt><dd><a class=\"ProveItLink\" href=\"../../../negation/__pv_it/799eb3b565b99e60491a24b404f1db01d8e6476d0/expr.ipynb\"><img src=\"data:image/png;base64,iVBORw0KGgoAAAANSUhEUgAAAIUAAAAXBAMAAADXWpFHAAAAMFBMVEX///8QEBC6urrMzMxUVFRm\n",
       "ZmZERETc3NwyMjKqqqp2dnaIiIiYmJgiIiLu7u4AAAAU9Wx4AAAAAXRSTlMAQObYZgAAActJREFU\n",
       "OMtjYKACeECacm10gUNAfAHEOE2sEcwOKDygZlYDBoaVIE4fsWZwoDib4wOQaGBgKANS7AnEmrEb\n",
       "hXf2H5A4BTGZdQKxZsghc9infgeSDxkYeJaXl9cSawRTAzKPm/sTkGQDOuBbWtotYs1gXYDM0+P8\n",
       "AyS5AhgYnBkY0sFC7RCr4AFWgCVIDyBx+BSYfwMpTqDbVBj4wC7k+QSWYYMpOa+AUA4Lc0agWOxd\n",
       "ILgFto39K4gSYGDgZeAGm/70D4oZfPEHMM3gh5lrAsIuLt9AiQQYwdwHeMGRvu4qihlcbwMImAFk\n",
       "S0DN4GswAae5DWkoZlizJWDxywSEGZxA6iLULwzpTiBRFoZYFDMcWC8weHQAwQYkM9gOIMyoBFL9\n",
       "oHAEheZUcJY5ybAf2QyeCdwfMN3BBfMfMyQi8h9AxRhBNvFdDc1/gGTG29Cwf5hmMF2Ap9HEHwUM\n",
       "x/63AuMbFEY8IL2sBQz2BkhmhDMwf2bIQPcLgzhmmnkIZ+kAA/0AwgwmIPsPpjtAGQwdrIYxnnxj\n",
       "YPe/AzeDzz+BoeQvNABZ09LE0rKw5X2w0gZMY9nwZhh2B3QRlgJSzWCoRhfYzECyGUQBFtK1AAB+\n",
       "a2tdy7eWbQAAAABJRU5ErkJggg==\n",
       "\" style=\"display:inline;vertical-align:middle;\" /></a></dd>"
      ],
      "text/plain": [
       "<IPython.core.display.HTML object>"
      ]
     },
     "metadata": {},
     "output_type": "display_data"
    },
    {
     "data": {
      "text/html": [
       "</dl>"
      ],
      "text/plain": [
       "<IPython.core.display.HTML object>"
      ]
     },
     "metadata": {},
     "output_type": "display_data"
    },
    {
     "data": {
      "text/html": [
       "<h3>Theorems that depend directly on falseOrFalseNegated</h3>"
      ],
      "text/plain": [
       "<IPython.core.display.HTML object>"
      ]
     },
     "metadata": {},
     "output_type": "display_data"
    },
    {
     "data": {
      "text/html": [
       "<dl>"
      ],
      "text/plain": [
       "<IPython.core.display.HTML object>"
      ]
     },
     "metadata": {},
     "output_type": "display_data"
    },
    {
     "data": {
      "text/html": [
       "<dt><a class=\"ProveItLink\" href=\"../../_proofs_/binaryClosure.ipynb\">proveit.logic.boolean.disjunction.binaryClosure</a></dt><dd><a class=\"ProveItLink\" href=\"../007ee0ab524f98485a43568946fc875a941ae9e80/expr.ipynb\"><img src=\"data:image/png;base64,iVBORw0KGgoAAAANSUhEUgAAAMcAAAAWBAMAAACGSZV/AAAAMFBMVEX///8QEBC6urrMzMxUVFRm\n",
       "ZmZERETc3NwyMjKqqqp2dnaIiIiYmJgiIiLu7u4AAAAU9Wx4AAAAAXRSTlMAQObYZgAAA15JREFU\n",
       "SMe9Vl9Ik1EUP9vn9rl936b0khHGiqDIyj2IPURs5FCDSCHWQ39n0EwK20NoIdUQpBBLX4we91IZ\n",
       "QQyqh/DBFSRmRPPBiHAxoUIyK0SXlWjnnPt933TOrZe6cO9377n33N85v3PO3QD+R0v+3TFzFIey\n",
       "XCdUV3b5M+xxmrzMC1KBXfLyVIpn3F4346tuBzi4XGzvPj1X2gRgcQPcI8GNvCB0olB4XfidRrZb\n",
       "YoEpAHDCBYUZKlZzdOJzBCAM0IJLOZAPQyG2+sX81QKNVWBIPLjp8YIaWQGiuBBhWJhn6ckHYiIn\n",
       "NvBU7v1Bn0oa3rNkIATwOgLOYnF28nrirQZiix0AGEdG77a2XsrL1laKfVg4pUwzaXizrZ4lDdhH\n",
       "0IomEbKuZNqTLciRFV1IBYPv8oIcxm4RdOy0zdOHAAgI2wzAhWb83uZVSzJN155BXNjrmdxGFl7l\n",
       "8easv9q9AqSLbI/RzOmSfoNGVaUwfab/8RhNbvGyMR2TxOJ6MgcZ2AxO5kGdFglZDIogV+3s7Ihp\n",
       "CmsoLpxQZpBnQQv6XsEfxmiKsnsjGxFYGvgnuDLjdQ5Q+KqPzAJYvGBGrUn/UYhGJjdpCmRAEYNU\n",
       "+HwpFjk048CKlyik7GEjShMJI/AQ2IaeYsorMQez+GBU6EbBEgfl5OWvCGL/sgIEhxJhTY9d+FmE\n",
       "Xqi/dBCtYnUQqwBxhit4MxrkrW9uGArBc5pGI2XHNYV1RBcluo0ySaRy2CH2PIhV8NOgK54JQnRB\n",
       "I1NbAMd4q7z/UTNXKYL4S/WYnCUlWlzE3i1kVdpjRGVyhRSGeLl/GQjSpdJeL2O/gAHe6gN4mpQi\n",
       "whPLbk2BspNSkcNwTiRppShFKhOpJGmk8JQrDaIeCQg9MNGT4Rz1C91TyFiP9CYYPEMxsWsKOyik\n",
       "cZAb5kIwuNgh3jBRiocWfb5r7HG7oLHDrT+QqZF9dI5QVbrcEgIPbyK55W6nV3higJio7NYurx0p\n",
       "41dCf1ZstSK79DZuzLZjlsTkqyAvgIxpVqPR1aY/58TfcO5XwR7NLr+vTz6kQK4bk+ahb9Zfi1n0\n",
       "ycXFGIxleepXaxPZxVo1Lfn9MWZ3MCZL23li25sTpCa7uCCUIdi16g0ycdGW8yfHnV3+MFMQ+zf/\n",
       "I/4AM+Xh1y8Fe60AAAAASUVORK5CYII=\n",
       "\" style=\"display:inline;vertical-align:middle;\" /></a></dd>"
      ],
      "text/plain": [
       "<IPython.core.display.HTML object>"
      ]
     },
     "metadata": {},
     "output_type": "display_data"
    },
    {
     "data": {
      "text/html": [
       "<dt><a class=\"ProveItLink\" href=\"../../_proofs_/neitherIntro.ipynb\">proveit.logic.boolean.disjunction.neitherIntro</a></dt><dd><a class=\"ProveItLink\" href=\"../6ea10832119e22c54d518e03ef206e975463385e0/expr.ipynb\"><img src=\"data:image/png;base64,iVBORw0KGgoAAAANSUhEUgAAAOEAAAAXBAMAAAAPVjVNAAAAMFBMVEX///8QEBC6urrMzMxUVFRm\n",
       "ZmZERETc3NwyMjKqqqp2dnaIiIiYmJgiIiLu7u4AAAAU9Wx4AAAAAXRSTlMAQObYZgAAAvpJREFU\n",
       "SMe9Vj1oU1EU/pq/1zYvaXAQXGoGBwelTxC6qC0aSsGhGZpBoVgRUwc1b5BWh9K3aBCkzVJXs6gV\n",
       "RSK6dWgUB38GO9jFH4yi4Gbpv1aq955z38tLXpIhUg+cvvvd8979zj1/KfDfpfRvn/sK9YBHnimd\n",
       "l+B104wHa4DDVe88/5NInIsjaID0ntybbJpxsgaYovvS0qC/OwXVEmCBdFQ8tOFmCcMFL9A/yUwF\n",
       "DGfHvyl0BXgF0lZhDuaaZWwpecGVU6akkbeI0E54XbjxC/gMUv3u2Nh400HdWwMU5uLykRU6TRuh\n",
       "mODuFM8c61o6/a5pxpNe4CvdKkKxZWmnoxfaNXHb9iTrMWAEcMw3V1N9Rjn1jmTLy7ZMavAML2+4\n",
       "X2HwBT2UPRFRP9dHz/HZIelEm8W6B1GLEr7EeY8hHKNYVBAqK8tT4BGvdogi+Cglz0BIHBNJVUcB\n",
       "Ci/mTETfyjvEWCMIUxS+/SZzsBe+dS+jsrIMAl0mrWw//L028CcSA3y1eXxn42nJKjj8i6zhIlfU\n",
       "wwUyRwoIznsZlZXlPTCEOowiGS0UM5zAAzaKxsCbfJkxatGo8BfSZP5h4IXpYbStJNFl6Cqtu9yM\n",
       "BEQtRigruMzzDH4ZnoFcOaoYOSr3A8rtrtknF+FhtK1cjZuzfaoPz7sZJdDEya2L/M0hngiyHbUN\n",
       "WQsWK6bJlZeYI/uMKIxSmfFOOp22HCujdgt6JzPdtr0wFJCpC22xFxdKTjsekAPQ7g60SFeiC6kM\n",
       "vXBWBDZXecfhspVQKInoTwb73YEQYHR3Fnpmg4oVV7kUMyuJfmqc1jgrdHlW0EQPtaE4qsuoZnSs\n",
       "hDpy8C2rwWa6p5xZ2cJHqsaFmnJK9onRUNSy0LagLaCa0bYymihhPKnaNO/u2XzjAXVfKcnXNWgD\n",
       "H0RVzaym+nNVjIZjJdQ+lRq83ujXqo7IQcPDxu2lax3yfKLXOOZSXeCRgMlaId0NGbtrHKMV6gGP\n",
       "PFZaIcWGjMVt/pcrsE3n/gUjB88wCi/D2gAAAABJRU5ErkJggg==\n",
       "\" style=\"display:inline;vertical-align:middle;\" /></a></dd>"
      ],
      "text/plain": [
       "<IPython.core.display.HTML object>"
      ]
     },
     "metadata": {},
     "output_type": "display_data"
    },
    {
     "data": {
      "text/html": [
       "</dl>"
      ],
      "text/plain": [
       "<IPython.core.display.HTML object>"
      ]
     },
     "metadata": {},
     "output_type": "display_data"
    }
   ],
   "source": [
    "%dependencies falseOrFalseNegated"
   ]
  }
 ],
 "metadata": {
  "kernelspec": {
   "display_name": "Python 3",
   "language": "python",
   "name": "python3"
  }
 },
 "nbformat": 4,
 "nbformat_minor": 0
}
