{
 "cells": [
  {
   "cell_type": "markdown",
   "metadata": {},
   "source": [
    "Show the Proof\n",
    "========"
   ]
  },
  {
   "cell_type": "code",
   "execution_count": 1,
   "metadata": {},
   "outputs": [
    {
     "data": {
      "text/html": [
       "<table><tr><th>&nbsp;</th><th>step type</th><th>requirements</th><th>statement</th></tr>\n",
       "<tr><td>0</td><td>assumption</td><td></td><td><span style=\"font-size:20px;\"><a class=\"ProveItLink\" href=\"../8763e9a1e87604c137e722e5e637289ac0cb75c50/expr.ipynb\"><img src=\"data:image/png;base64,iVBORw0KGgoAAAANSUhEUgAAAEsAAAAVBAMAAAD85A5eAAAAMFBMVEX////c3NxERESqqqpUVFS6\n",
       "urrMzMwyMjIQEBCIiIh2dnYiIiLu7u5mZmaYmJgAAABXZE4RAAAAAXRSTlMAQObYZgAAAUJJREFU\n",
       "KM9jYGDgu8eAD7CtEgBRPLsY8AO2ZhDJ+QFETvnv4uL+HUV6+af6ik0GQMZ1EI+rASwIUmKEaoxC\n",
       "JE/NKiC9AqGM9SeQ4EVXxjCVHVUZ1zcgcRIse7J693aYMjuWAyjK2D8wcDEwgl1cdwDJNCFU0/gV\n",
       "GN5BJIUOICxl26cDU8ZbACLjS9w/QiQVEW6L3v9jApB+D+JkBIDI9QkMYOUMPArIXpgJ8jz7BQaG\n",
       "lDawUD0DwwKGBJCXu3fvRniBiXUBkKH+gIEhAiTJ8ImBQYAHZAObA7JpTAxAw7lBSlkKYMHGBXI8\n",
       "zwYMZWC3cW2ABZssWNIPRRnIUkSAAIONgW0bWPJ0AJKyt5OQw+2I/hcXl/0Q6xhrE+BRr91igBq8\n",
       "SIDZHepTGMCuDAOAlfERVAZObzw7CaXeVjDFt5hwXgAAeXZZkSNaXAUAAAAASUVORK5CYII=\n",
       "\" style=\"display:inline;vertical-align:middle;\" /></a> <a class=\"ProveItLink\" href=\"proof.ipynb\" style=\"text-decoration: none\">&#x22A2;&nbsp;</a><a class=\"ProveItLink\" href=\"../4117efb2ae1b71854be913c493e95fd43d9813320/expr.ipynb\"><img src=\"data:image/png;base64,iVBORw0KGgoAAAANSUhEUgAAADcAAAAPBAMAAACy3Eq1AAAAMFBMVEX///8QEBAiIiKYmJjc3Nzu\n",
       "7u7MzMx2dnZmZma6urpERESqqqoyMjJUVFSIiIgAAAAoDOMTAAAAAXRSTlMAQObYZgAAAOJJREFU\n",
       "GNNjYGB4+//u3Tt/GJBBza/zB7U2gJkgiV0okgwL5rEeLQcxOP8BCQ50SYaXPCAG+zcgEQcWizuk\n",
       "pAOT3MwbAGTwfGBgZ2ABCbEdDkDS6QVi8C9gMIYIeQUgjGVTXgpizD975wtEaAnCzkn6Hx+AGPUJ\n",
       "DAfAIqwLkB30DuyB8wwMBQwJIGcLKSkhHMTFWQBk/GJgcGAFmcF2AVknF8MCqDfZQU5hVcCQBHvT\n",
       "Ayx0GUUSZCzQmwxsamChoAlIkhavGBhi1/+9e1cfYiDLiQR4wC+S3YAaogzcd6CuhQAAUexJAXCK\n",
       "RB0AAAAASUVORK5CYII=\n",
       "\" style=\"display:inline;vertical-align:middle;\" /></a></span></td></tr>\n",
       "</table>"
      ],
      "text/plain": [
       "<proveit._core_.proof._ShowProof at 0x7f94ebdaf908>"
      ]
     },
     "execution_count": 1,
     "metadata": {},
     "output_type": "execute_result"
    }
   ],
   "source": [
    "import proveit\n",
    "%show_proof"
   ]
  },
  {
   "cell_type": "code",
   "execution_count": null,
   "metadata": {},
   "outputs": [],
   "source": []
  }
 ],
 "metadata": {
  "kernelspec": {
   "display_name": "Python 3",
   "language": "python",
   "name": "python3"
  }
 },
 "nbformat": 4,
 "nbformat_minor": 0
}
