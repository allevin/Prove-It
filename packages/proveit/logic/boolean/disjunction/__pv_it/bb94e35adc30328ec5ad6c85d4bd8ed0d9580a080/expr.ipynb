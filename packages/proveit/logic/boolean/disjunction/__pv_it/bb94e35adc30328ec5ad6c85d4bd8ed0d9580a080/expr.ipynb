{
 "cells": [
  {
   "cell_type": "markdown",
   "metadata": {},
   "source": [
    "Expression of type <a class=\"ProveItLink\" href=\"../../../../../../../doc/html/api/proveit.logic.Set.html\">Set</a>\n",
    "=======================\n",
    "# from context <a class=\"ProveItLink\" href=\"../../_context_.ipynb\">proveit.logic.boolean.disjunction</a>"
   ]
  },
  {
   "cell_type": "code",
   "execution_count": 1,
   "metadata": {},
   "outputs": [],
   "source": [
    "# import Expression classes needed to build the expression\n",
    "from proveit._common_ import D, K\n",
    "from proveit.logic import Implies, Set"
   ]
  },
  {
   "cell_type": "code",
   "execution_count": 2,
   "metadata": {},
   "outputs": [
    {
     "data": {
      "text/html": [
       "<strong id=\"expr\">expr:</strong> <a class=\"ProveItLink\" href=\"expr.ipynb\"><img src=\"data:image/png;base64,iVBORw0KGgoAAAANSUhEUgAAAFcAAAAVBAMAAADBdm84AAAAMFBMVEX////c3NxERESqqqpUVFS6\n",
       "urrMzMwyMjIQEBCIiIh2dnYiIiLu7u5mZmaYmJgAAABXZE4RAAAAAXRSTlMAQObYZgAAAWBJREFU\n",
       "KM9jYGDgu8dAGLCtEgBRPLsYiAFszSCS8wOI8P/i4q6GRQ2n/ycfBpb/QKnrIC5XA4jkL2BgsDfA\n",
       "ohokwewDZKxAKM5fwMDA+weuhAfOigdKPGZAVTw/AOisn3Al7AdgrPUBDKcE0BTrAzHjF7hiVgcY\n",
       "q56BbQEDmuJPIA8jFDOshDG+M7xlQCjmLWCAuoDvF4h/ezcI7L8AteIX128I6z2IyAgAhdA3IMHy\n",
       "FSkUzAPAFNfPBfchgcQO1J7SBmIxgQKbowFJMU8FWDX7Pwb5AoiI+gMGhogEUGgqgCx6gKQ4fQ0s\n",
       "mJm+gVncIH+ygDTmTwASTQwIN+/WgQcz6xeEm7k2gIIZaDxTDZLBJrBgBkrsP4AadMBgZqtFUstY\n",
       "AA9moEkLkBXzXPrv4qKbgKSYSQDiy0v/PRm49n8RQI0U9ASJKYRbMQMOxXxEKganZ56dxOWUVjDF\n",
       "t5jYPAgAG9NhkQVO5d4AAAAASUVORK5CYII=\n",
       "\" style=\"display:inline;vertical-align:middle;\" /></a><br>"
      ],
      "text/plain": [
       "expr: {D => K}"
      ]
     },
     "execution_count": 2,
     "metadata": {},
     "output_type": "execute_result"
    }
   ],
   "source": [
    "# build up the expression from sub-expressions\n",
    "expr = Set(Implies(D, K))"
   ]
  },
  {
   "cell_type": "code",
   "execution_count": 3,
   "metadata": {},
   "outputs": [
    {
     "name": "stdout",
     "output_type": "stream",
     "text": [
      "Passed sanity check: built 'expr' is the same as the stored Expression.\n"
     ]
    }
   ],
   "source": [
    "# check that the built expression is the same as the stored expression\n",
    "%check_expr"
   ]
  },
  {
   "cell_type": "code",
   "execution_count": 4,
   "metadata": {},
   "outputs": [
    {
     "data": {
      "text/html": [
       "<table><tr><th>&nbsp;</th><th>core type</th><th>sub-expressions</th><th>expression</th></tr>\n",
       "<tr><td>0</td><td>Operation</td><td>operator:&nbsp;1<br>operands:&nbsp;2<br></td><td><a class=\"ProveItLink\" href=\"expr.ipynb\"><img src=\"data:image/png;base64,iVBORw0KGgoAAAANSUhEUgAAAFcAAAAVBAMAAADBdm84AAAAMFBMVEX////c3NxERESqqqpUVFS6\n",
       "urrMzMwyMjIQEBCIiIh2dnYiIiLu7u5mZmaYmJgAAABXZE4RAAAAAXRSTlMAQObYZgAAAWBJREFU\n",
       "KM9jYGDgu8dAGLCtEgBRPLsYiAFszSCS8wOI8P/i4q6GRQ2n/ycfBpb/QKnrIC5XA4jkL2BgsDfA\n",
       "ohokwewDZKxAKM5fwMDA+weuhAfOigdKPGZAVTw/AOisn3Al7AdgrPUBDKcE0BTrAzHjF7hiVgcY\n",
       "q56BbQEDmuJPIA8jFDOshDG+M7xlQCjmLWCAuoDvF4h/ezcI7L8AteIX128I6z2IyAgAhdA3IMHy\n",
       "FSkUzAPAFNfPBfchgcQO1J7SBmIxgQKbowFJMU8FWDX7Pwb5AoiI+gMGhogEUGgqgCx6gKQ4fQ0s\n",
       "mJm+gVncIH+ygDTmTwASTQwIN+/WgQcz6xeEm7k2gIIZaDxTDZLBJrBgBkrsP4AadMBgZqtFUstY\n",
       "AA9moEkLkBXzXPrv4qKbgKSYSQDiy0v/PRm49n8RQI0U9ASJKYRbMQMOxXxEKganZ56dxOWUVjDF\n",
       "t5jYPAgAG9NhkQVO5d4AAAAASUVORK5CYII=\n",
       "\" style=\"display:inline;vertical-align:middle;\" /></a></td></tr>\n",
       "<tr><td>1</td><td>Literal</td><td></td><td><a class=\"ProveItLink\" href=\"../../../../set_theory/enumeration/__pv_it/07381ed5b23806e8d7914b78cb6667769e3708dd0/expr.ipynb\"><img src=\"data:image/png;base64,iVBORw0KGgoAAAANSUhEUgAAAB4AAAAOBAMAAADKyLEKAAAAMFBMVEX///8iIiIQEBCIiIjMzMzc\n",
       "3Nyqqqp2dnZEREQyMjK6urru7u5mZmZUVFSYmJgAAACI6eGPAAAAAXRSTlMAQObYZgAAALRJREFU\n",
       "CNdjYGDgu3Nm3wIGBJjHwN0PZW5yYGDgLWBgyITy8zcwMMQDxZyh/INAvD6BgcEFypcB4vjPDiBm\n",
       "TPFRrhs/LjMwMP//38rAwCbKEMPA9gEkE3fp0waG+AUMRxh4JkC01T9guPTOOICBEWgVH5C//wHD\n",
       "H5D4fqCz9oCMDGD4DLaegRXslLMMDMpAgxlOMmQxHDRgYG5gYLBk4D7KcIe7gOHC2rt9QCXsh40Z\n",
       "GCKMGQDRkC8N/Ph1XAAAAABJRU5ErkJggg==\n",
       "\" style=\"display:inline;vertical-align:middle;\" /></a></td></tr>\n",
       "<tr><td>2</td><td>ExprTuple</td><td>3</td><td><a class=\"ProveItLink\" href=\"../90d2ac22e77b49ae82c795f93ffe937f2afe30080/expr.ipynb\"><img src=\"data:image/png;base64,iVBORw0KGgoAAAANSUhEUgAAAFEAAAAVBAMAAADMaB9/AAAAMFBMVEX////c3NwiIiJERESqqqqY\n",
       "mJh2dnZmZmYQEBDu7u4yMjJUVFTMzMyIiIi6uroAAAAs73DqAAAAAXRSTlMAQObYZgAAAWhJREFU\n",
       "KM9jYCAe8F0gQlEciDgNxLf/7969+AAWFbf/W09g2P/5ADtIciVI5BcDA8sXbIYBJRi8JzAwLGBg\n",
       "4AVZzvMNSNRPgMvDWXxACVYHICOMgYEDJMr7D0icRzh4JYzB9o+BMxHEmMHA8ApEM38AEvIb4Cpf\n",
       "wxhcHxiOgRnMDgxlIJrfAGQmQiUbzHj+BawFEJEChqUMMIvjE4AEuxIYfIeqfJ+QrwBmsCxg6APR\n",
       "90GBsP8Bwsss6yB0/jV2SJDwNTCA/MJgDyI6kENnFtgEhvUBjL/ADJ4PEJWfgZj1K5JCnmUTYMFp\n",
       "fwCqsgVE/QUSHCBfwdypPAEenO83QG03BQXnHyBhNQHJmdBgYANKMP0EsVgXMKRDg/NUAZLlUojg\n",
       "ZOD9Bg2lRwwM0+1/795cg+wfQwgFlLjAkPR/I0jPAwYOASzpAjNZAWOTNYGoVJyLnBrwAU5gqmOQ\n",
       "JkYlN8iNjMTkjjsMDABnKmNy4WtYMAAAAABJRU5ErkJggg==\n",
       "\" style=\"display:inline;vertical-align:middle;\" /></a></td></tr>\n",
       "<tr><td>3</td><td>Operation</td><td>operator:&nbsp;4<br>operands:&nbsp;5<br></td><td><a class=\"ProveItLink\" href=\"../fd7e961e35654ca2625285e7a24c1cda77971ed10/expr.ipynb\"><img src=\"data:image/png;base64,iVBORw0KGgoAAAANSUhEUgAAAEUAAAAPBAMAAABAYB8QAAAAMFBMVEX///8iIiIQEBCYmJjc3Ny6\n",
       "urru7u5mZmZ2dnaqqqrMzMxEREQyMjJUVFSIiIgAAABUCcz6AAAAAXRSTlMAQObYZgAAAPlJREFU\n",
       "KM9jYGB4+//u3dMLGDDB2/97Exju/wZL/WFg4PyJRQ1IgmFuAojF9QNI1CfAZeAsVqAE8wQwk+8r\n",
       "kFj/AK7mGIzB8ZWBrQXC5P4AJPwvwNXEwhg8HxhWQJn8G0DmINRwwIzkP8BcAGWCrbFvABLsgmDw\n",
       "HSoR39AvAGW+B3nufgDCO5xHIXT/C3aYd/eDCCVkP+eogqnzBix/oCK/gZj5M5ISrhMJsODZDwlb\n",
       "rn9Aggnkbph7pBPgwRMP8QrfLyCxJwHJOVAvcgAlGL/Bg2dNAZJVPojgYeADxQFD+v6/d29XIbt4\n",
       "C4QCSjxgaPx/BVtEMmAkAQDi9k0K7FVvcgAAAABJRU5ErkJggg==\n",
       "\" style=\"display:inline;vertical-align:middle;\" /></a></td></tr>\n",
       "<tr><td>4</td><td>Literal</td><td></td><td><a class=\"ProveItLink\" href=\"../../../implication/__pv_it/e5c030cabcb650938f92dee8256fe11cd12bf9b30/expr.ipynb\"><img src=\"data:image/png;base64,iVBORw0KGgoAAAANSUhEUgAAABMAAAANBAMAAAC5okgUAAAALVBMVEX////c3NxERETMzMwQEBCq\n",
       "qqoiIiJmZmaIiIh2dnZUVFS6uroyMjLu7u4AAACPpZJTAAAAAXRSTlMAQObYZgAAAD1JREFUCNdj\n",
       "YAABXgY44LkAZ3IvQAjPABFlaSCQV4AQjtkAZ/IegbNt5sLUpunC5aPgLMYDcCaTAJzJDCIA2yMN\n",
       "HCCUuIIAAAAASUVORK5CYII=\n",
       "\" style=\"display:inline;vertical-align:middle;\" /></a></td></tr>\n",
       "<tr><td>5</td><td>ExprTuple</td><td>6, 7</td><td><a class=\"ProveItLink\" href=\"../1a758303c2362a61dca92c45c2d0da883dd03a490/expr.ipynb\"><img src=\"data:image/png;base64,iVBORw0KGgoAAAANSUhEUgAAADoAAAAVBAMAAADlb+D4AAAAMFBMVEX////c3NwiIiJERESqqqqY\n",
       "mJh2dnZmZmYQEBDu7u4yMjJUVFTMzMyIiIi6uroAAAAs73DqAAAAAXRSTlMAQObYZgAAAUFJREFU\n",
       "KM9jYMAP+C7gkGB9ACROA/Ht/7t3Lz4AFeXd/3knA/d/G4YaIGclSOQXAwPLF5gm/gVA3k4GBi6g\n",
       "SpDBPN+ARP0EqOz7BAaGEJDRCQwcIDHef0DiPMwB+Q8YpgkAac4GhlcgPvMHICG/ASq7noEnAcww\n",
       "YSgD22QA0guT/cUQDmGkMyxlgBkanwD14je2TxCWF0MfiLoP8s3+BxAxtr8J9Q5g1gsGkHsY7EFE\n",
       "B9Rgrq8M8gvArPMQ2c8g939FeJf5D1S2BeTdv0CCwwDhXb7fUJNNQd4FKbWawMAJ8S7QEfrgkIkC\n",
       "uhri3VMFDAzzFSDeBTozAeKjRwwM0+1/794MCvIZH4EBVPx/LwOb/m9QYK1j4BBAirSHKFEIDEnW\n",
       "BCR+AIos2wVoDGKVnQXE0gguL2ri2AjEjLhSDu8BBgDTEVhsGwLwTgAAAABJRU5ErkJggg==\n",
       "\" style=\"display:inline;vertical-align:middle;\" /></a></td></tr>\n",
       "<tr><td>6</td><td>Variable</td><td></td><td><a class=\"ProveItLink\" href=\"../../../../../__pv_it/185e6d30f167ee2ee5ef3321098dc98e0d77bc590/expr.ipynb\"><img src=\"data:image/png;base64,iVBORw0KGgoAAAANSUhEUgAAABEAAAAOBAMAAAA7w+qHAAAALVBMVEX///8QEBCYmJjc3Ny6urru\n",
       "7u5mZmZ2dnaqqqrMzMxEREQyMjJUVFSIiIgAAABETr/8AAAAAXRSTlMAQObYZgAAAGpJREFUCNdj\n",
       "YGC48+7MmV0TGEDgNQMDxwsQg/M5kMgLABK8T4DEvAtAgusBkLA7ACT4FoDEDsAk9AqAxD2QCecc\n",
       "gMQ6kAGCIOIVEDM9Ahn3FkgwgnTxvgQSqwOgxs1OADLC1r05cyoTyAAAv4Qe+njAWvgAAAAASUVO\n",
       "RK5CYII=\n",
       "\" style=\"display:inline;vertical-align:middle;\" /></a></td></tr>\n",
       "<tr><td>7</td><td>Variable</td><td></td><td><a class=\"ProveItLink\" href=\"../../../../../__pv_it/3fb1092d10295c809ebd5134eaa882b76222b6190/expr.ipynb\"><img src=\"data:image/png;base64,iVBORw0KGgoAAAANSUhEUgAAABMAAAAOBAMAAAA/Njq6AAAALVBMVEX///8iIiJmZmbc3NyYmJh2\n",
       "dna6urqqqqoyMjLMzMzu7u5ERERUVFSIiIgAAAAU/m/NAAAAAXRSTlMAQObYZgAAAG5JREFUCNdj\n",
       "YGC4827PAoZzrycwAMELIK5ZAGKxPWVgYCkAsRhYnzFwBYNZDBwPGKZCWAx8DSwKUGZeQJwAlBl3\n",
       "lek5lNnnwPwCygTS+8Dmg43NOwAx9iUDA+MrmLEMvE9BrEX73lxgCHx3mIEBAPGUHmvA0AqBAAAA\n",
       "AElFTkSuQmCC\n",
       "\" style=\"display:inline;vertical-align:middle;\" /></a></td></tr>\n",
       "</table>\n"
      ],
      "text/plain": [
       "0. {D => K}\n",
       "   core type: Operation\n",
       "   operator: 1\n",
       "   operands: 2\n",
       "1. Set\n",
       "   core type: Literal\n",
       "   sub-expressions: \n",
       "2. (D => K)\n",
       "   core type: ExprTuple\n",
       "   sub-expressions: 3\n",
       "3. D => K\n",
       "   core type: Operation\n",
       "   operator: 4\n",
       "   operands: 5\n",
       "4. =>\n",
       "   core type: Literal\n",
       "   sub-expressions: \n",
       "5. (D , K)\n",
       "   core type: ExprTuple\n",
       "   sub-expressions: 6, 7\n",
       "6. D\n",
       "   core type: Variable\n",
       "   sub-expressions: \n",
       "7. K\n",
       "   core type: Variable\n",
       "   sub-expressions: "
      ]
     },
     "execution_count": 4,
     "metadata": {},
     "output_type": "execute_result"
    }
   ],
   "source": [
    "# display the expression information\n",
    "expr.exprInfo()"
   ]
  },
  {
   "cell_type": "code",
   "execution_count": null,
   "metadata": {},
   "outputs": [],
   "source": []
  }
 ],
 "metadata": {
  "kernelspec": {
   "display_name": "Python 3",
   "language": "python",
   "name": "python3"
  }
 },
 "nbformat": 4,
 "nbformat_minor": 0
}
