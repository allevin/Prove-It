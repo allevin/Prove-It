{
 "cells": [
  {
   "cell_type": "markdown",
   "metadata": {},
   "source": [
    "Expression of type <a class=\"ProveItLink\" href=\"../../../../../../../doc/html/api/proveit.logic.Set.html\">Set</a>\n",
    "=======================\n",
    "# from context <a class=\"ProveItLink\" href=\"../../_context_.ipynb\">proveit.logic.boolean.disjunction</a>"
   ]
  },
  {
   "cell_type": "code",
   "execution_count": 1,
   "metadata": {},
   "outputs": [],
   "source": [
    "# import Expression classes needed to build the expression\n",
    "from proveit._common_ import A, E\n",
    "from proveit.logic import Implies, Set"
   ]
  },
  {
   "cell_type": "code",
   "execution_count": 2,
   "metadata": {},
   "outputs": [
    {
     "data": {
      "text/html": [
       "<strong id=\"expr\">expr:</strong> <a class=\"ProveItLink\" href=\"../f7771a751d960265792973c5ee315165f8dc6caf0/expr.ipynb\"><img src=\"data:image/png;base64,iVBORw0KGgoAAAANSUhEUgAAAFMAAAAVBAMAAADInc9CAAAAMFBMVEX///9ERETc3NyqqqpUVFS6\n",
       "urrMzMwyMjIQEBCIiIh2dnYiIiLu7u5mZmaYmJgAAABJJ2g3AAAAAXRSTlMAQObYZgAAAUpJREFU\n",
       "KM9jYGDgu8dACLCtUgBRPLsYCAO2ZhDJ+QHKzcaihNP/i4tLfQEDw3UQj6sBKlyPzTh+oDJmAQaG\n",
       "FchK+fYfgCvggbPiJwCJC2hKle8rwBWww3WtTwBqnICmdML8ALhSVgcGhKsWMCigKmU9YP8A4cSV\n",
       "MMZHBj6wMFgpbwFY7ChDPshZDLd3g8D+C1Djv7vUg931HkRkQOwNYNC/gORzc4go1zcGdojrgZIp\n",
       "bZAwdnHxF0BSylMBVsv+gYGLgQ3EEge6IyIBbBMDA0cBktL0NZBgFWBgYjgJZHAvABIsYBUGQF4D\n",
       "wq27ZZCCdQ3MrVwbgASTAdgyODBBClamCwzIgXUciBn/wFUyFSBFdnYCslLF/iIGPvnv8CBghEQc\n",
       "j+N/Fxfv3wwMaLGFkuYwRHAqZcCulI8opeD0yrOTmFzQCkmoi4nLWwDWMFYJ3tuk5AAAAABJRU5E\n",
       "rkJggg==\n",
       "\" style=\"display:inline;vertical-align:middle;\" /></a><br>"
      ],
      "text/plain": [
       "expr: {A => E}"
      ]
     },
     "execution_count": 2,
     "metadata": {},
     "output_type": "execute_result"
    }
   ],
   "source": [
    "# build up the expression from sub-expressions\n",
    "expr = Set(Implies(A, E))"
   ]
  },
  {
   "cell_type": "code",
   "execution_count": 3,
   "metadata": {},
   "outputs": [
    {
     "name": "stdout",
     "output_type": "stream",
     "text": [
      "Passed sanity check: built 'expr' is the same as the stored Expression.\n"
     ]
    }
   ],
   "source": [
    "# check that the built expression is the same as the stored expression\n",
    "%check_expr"
   ]
  },
  {
   "cell_type": "code",
   "execution_count": 4,
   "metadata": {},
   "outputs": [
    {
     "data": {
      "text/html": [
       "<table><tr><th>&nbsp;</th><th>core type</th><th>sub-expressions</th><th>expression</th></tr>\n",
       "<tr><td>0</td><td>Operation</td><td>operator:&nbsp;1<br>operands:&nbsp;2<br></td><td><a class=\"ProveItLink\" href=\"../f7771a751d960265792973c5ee315165f8dc6caf0/expr.ipynb\"><img src=\"data:image/png;base64,iVBORw0KGgoAAAANSUhEUgAAAFMAAAAVBAMAAADInc9CAAAAMFBMVEX///9ERETc3NyqqqpUVFS6\n",
       "urrMzMwyMjIQEBCIiIh2dnYiIiLu7u5mZmaYmJgAAABJJ2g3AAAAAXRSTlMAQObYZgAAAUpJREFU\n",
       "KM9jYGDgu8dACLCtUgBRPLsYCAO2ZhDJ+QHKzcaihNP/i4tLfQEDw3UQj6sBKlyPzTh+oDJmAQaG\n",
       "FchK+fYfgCvggbPiJwCJC2hKle8rwBWww3WtTwBqnICmdML8ALhSVgcGhKsWMCigKmU9YP8A4cSV\n",
       "MMZHBj6wMFgpbwFY7ChDPshZDLd3g8D+C1Djv7vUg931HkRkQOwNYNC/gORzc4go1zcGdojrgZIp\n",
       "bZAwdnHxF0BSylMBVsv+gYGLgQ3EEge6IyIBbBMDA0cBktL0NZBgFWBgYjgJZHAvABIsYBUGQF4D\n",
       "wq27ZZCCdQ3MrVwbgASTAdgyODBBClamCwzIgXUciBn/wFUyFSBFdnYCslLF/iIGPvnv8CBghEQc\n",
       "j+N/Fxfv3wwMaLGFkuYwRHAqZcCulI8opeD0yrOTmFzQCkmoi4nLWwDWMFYJ3tuk5AAAAABJRU5E\n",
       "rkJggg==\n",
       "\" style=\"display:inline;vertical-align:middle;\" /></a></td></tr>\n",
       "<tr><td>1</td><td>Literal</td><td></td><td><a class=\"ProveItLink\" href=\"../../../../set_theory/enumeration/__pv_it/07381ed5b23806e8d7914b78cb6667769e3708dd0/expr.ipynb\"><img src=\"data:image/png;base64,iVBORw0KGgoAAAANSUhEUgAAAB4AAAAOBAMAAADKyLEKAAAAMFBMVEX///8iIiIQEBCIiIjMzMzc\n",
       "3Nyqqqp2dnZEREQyMjK6urru7u5mZmZUVFSYmJgAAACI6eGPAAAAAXRSTlMAQObYZgAAALRJREFU\n",
       "CNdjYGDgu3Nm3wIGBJjHwN0PZW5yYGDgLWBgyITy8zcwMMQDxZyh/INAvD6BgcEFypcB4vjPDiBm\n",
       "TPFRrhs/LjMwMP//38rAwCbKEMPA9gEkE3fp0waG+AUMRxh4JkC01T9guPTOOICBEWgVH5C//wHD\n",
       "H5D4fqCz9oCMDGD4DLaegRXslLMMDMpAgxlOMmQxHDRgYG5gYLBk4D7KcIe7gOHC2rt9QCXsh40Z\n",
       "GCKMGQDRkC8N/Ph1XAAAAABJRU5ErkJggg==\n",
       "\" style=\"display:inline;vertical-align:middle;\" /></a></td></tr>\n",
       "<tr><td>2</td><td>ExprTuple</td><td>3</td><td><a class=\"ProveItLink\" href=\"../9e6fce3f57f8f3a79b1b2f8da125959a156ae89f0/expr.ipynb\"><img src=\"data:image/png;base64,iVBORw0KGgoAAAANSUhEUgAAAE0AAAAVBAMAAADx+n4ZAAAAMFBMVEX////c3NwiIiJERESqqqqY\n",
       "mJh2dnZmZmYQEBDu7u4yMjJUVFTMzMyIiIi6uroAAAAs73DqAAAAAXRSTlMAQObYZgAAAVJJREFU\n",
       "KM9jYCAW8F0gqCQORJyGsHkUsCi4/X/37l2/GNgPANkrIUJcH7CZ9AuInRkYFjAw8EKtDfqJkJ0A\n",
       "d9NfIMHOwBDGwMABEWR0/4hQtxLGYPsDJOYyMMxgYHgFEeHl/YdQ9xrGADqGjYGRgYHZgaEMIvKS\n",
       "5StCHRssCPgNGELBAgUMS8ECnA94QE5hYFcCg+9Qde9X7wI7h2UBQx/EwQyM35G8ybIOQucfAHkV\n",
       "KN3AAHHW6d27PyOHxyyI9vUMDAkMwMDj+QBV94CBoQtJGc8ySCgA9QpwXgCrawHbA8QaSO5TnoAI\n",
       "PrYJYHtNQQIiEDvgztuAFHziQMy6gCEd5FuQY+3hscAghQg+Bh4dSLg8AsaFxS8BhuD/y+HqDCHU\n",
       "bPvfu3frg9IH1wMGDgHM2D+ALgCMN9YEItJoLnKk4wZg90sTVscNchsj4XR/h4EBALZaUgejCNIs\n",
       "AAAAAElFTkSuQmCC\n",
       "\" style=\"display:inline;vertical-align:middle;\" /></a></td></tr>\n",
       "<tr><td>3</td><td>Operation</td><td>operator:&nbsp;4<br>operands:&nbsp;5<br></td><td><a class=\"ProveItLink\" href=\"../../../../../__pv_it/5bce943b3dc3e27a7f44e9f676746c1c53bca3a00/expr.ipynb\"><img src=\"data:image/png;base64,iVBORw0KGgoAAAANSUhEUgAAAD8AAAAPBAMAAAChCwpBAAAAMFBMVEX///92dnYQEBBERERUVFS6\n",
       "urqIiIhmZmaqqqrc3Nzu7u6YmJgyMjIiIiLMzMwAAACFkkdwAAAAAXRSTlMAQObYZgAAAOhJREFU\n",
       "GNNjYACBtwyYgM3/i4vL+QMQznksChj4gZIcBmAm9/0FcGEuOCs+AUgUgJkz6ifAhXngauUfAJUn\n",
       "gJkJ+QFwBawOMBbQXgEGsE7WBf0bEFaLwRifGbihwksZ3oNNqr0LAvcLoEb9cTkPtTmAYX4Bkut7\n",
       "IPYx/mPggQjwubj4GyAp4DoEVsHzgYGRgQ9sFgMD0wEkBW+kIMFgwMDJsAzEamBg4FVAuOGuFVIw\n",
       "gNRyNoCNg4MWpGDgBLltDRAz/4LLcx5ABAPDW6CiyfonGbjt/8C9wQzxGpfzfxcX379YoogPjQ8A\n",
       "rjA+CvBzP5kAAAAASUVORK5CYII=\n",
       "\" style=\"display:inline;vertical-align:middle;\" /></a></td></tr>\n",
       "<tr><td>4</td><td>Literal</td><td></td><td><a class=\"ProveItLink\" href=\"../../../implication/__pv_it/e5c030cabcb650938f92dee8256fe11cd12bf9b30/expr.ipynb\"><img src=\"data:image/png;base64,iVBORw0KGgoAAAANSUhEUgAAABMAAAANBAMAAAC5okgUAAAALVBMVEX////c3NxERETMzMwQEBCq\n",
       "qqoiIiJmZmaIiIh2dnZUVFS6uroyMjLu7u4AAACPpZJTAAAAAXRSTlMAQObYZgAAAD1JREFUCNdj\n",
       "YAABXgY44LkAZ3IvQAjPABFlaSCQV4AQjtkAZ/IegbNt5sLUpunC5aPgLMYDcCaTAJzJDCIA2yMN\n",
       "HCCUuIIAAAAASUVORK5CYII=\n",
       "\" style=\"display:inline;vertical-align:middle;\" /></a></td></tr>\n",
       "<tr><td>5</td><td>ExprTuple</td><td>6, 7</td><td><a class=\"ProveItLink\" href=\"../../../../../__pv_it/8ae0b07b18c01144c218183cca0bff92da4cbb880/expr.ipynb\"><img src=\"data:image/png;base64,iVBORw0KGgoAAAANSUhEUgAAADUAAAAVBAMAAAAUZLt1AAAAMFBMVEX////c3NwiIiJERESqqqqY\n",
       "mJh2dnZmZmYQEBDu7u4yMjJUVFTMzMyIiIi6uroAAAAs73DqAAAAAXRSTlMAQObYZgAAASxJREFU\n",
       "KM99UrFOwzAUvNA6NKENkWBj4BPIwkz+ACZG1A0xIDKx0oGZZkRIIDMwMEWC0UOrrgzkA5CIGFmo\n",
       "YKIg4D27JhaqiBT73p1z8fkZ+O+Jypn0Dg93Bo8s2Rl8KFXI+SHha0MVv18sSqCZgMaOsRRrudVe\n",
       "mMmwDbQMt3wUW+2A3IISp8CzIcrHymrk3kWMRopDs9l8c8tqbxCM/QxXur7AvY0STVTB/k2JE01U\n",
       "WM2mmv+JUK/p4YvntlKDZKqFY/hoEzc2WkT7lTZeAg/nWjvmOgXmem68Pe25TshLtRVyG8+jnwuJ\n",
       "XSrP6G28I3i1hzca6gxPwFL/EmJjkgX9GMHtt1I3vCis0IqddjmYz0x061K4Ddyve/RXCzjTSl27\n",
       "N2CB/b3Zd+IB+AEIvkuxTscEtAAAAABJRU5ErkJggg==\n",
       "\" style=\"display:inline;vertical-align:middle;\" /></a></td></tr>\n",
       "<tr><td>6</td><td>Variable</td><td></td><td><a class=\"ProveItLink\" href=\"../../../../../__pv_it/2cbe72a7ad6f655694dd697106680215e8489b600/expr.ipynb\"><img src=\"data:image/png;base64,iVBORw0KGgoAAAANSUhEUgAAAA8AAAAOBAMAAAACpFvcAAAALVBMVEX///8QEBBERERUVFS6urqI\n",
       "iIhmZmaqqqrc3Nzu7u6YmJgyMjIiIiLMzMwAAADtIaYWAAAAAXRSTlMAQObYZgAAAFtJREFUCNdj\n",
       "YACBOwxQsA9Kc52bAGG05zVAGAFxDmCaZULdAjBjCsO9ADDDgaEvAUTzGhvbKYCVMDAwbgAxChgY\n",
       "eASANAeQwf0AyJgNxEwvGRia5HYwcOm9TgAA6BoR3jrzwFcAAAAASUVORK5CYII=\n",
       "\" style=\"display:inline;vertical-align:middle;\" /></a></td></tr>\n",
       "<tr><td>7</td><td>Variable</td><td></td><td><a class=\"ProveItLink\" href=\"../../../../../__pv_it/9995c55100c62d7d8a012a35bafc852acbe03cf00/expr.ipynb\"><img src=\"data:image/png;base64,iVBORw0KGgoAAAANSUhEUgAAABAAAAAOBAMAAADUAYG5AAAALVBMVEX///8iIiKYmJjc3Nzu7u7M\n",
       "zMx2dnZmZma6urpERESqqqoyMjJUVFSIiIgAAACbLqVTAAAAAXRSTlMAQObYZgAAAGVJREFUCNdj\n",
       "YGC48+7MmdOvGYAARKwEYo63QIIdiNmeAglfIOZ+wMDGwAxk8E1gUAIpZejbc/oxmJEXwLABzNjH\n",
       "wJDAEABkvGRgMGC5ADWGzQFqjDnEGAZWUQYGn3lvzpyRE2AAAIznGVQJqiN4AAAAAElFTkSuQmCC\n",
       "\" style=\"display:inline;vertical-align:middle;\" /></a></td></tr>\n",
       "</table>\n"
      ],
      "text/plain": [
       "0. {A => E}\n",
       "   core type: Operation\n",
       "   operator: 1\n",
       "   operands: 2\n",
       "1. Set\n",
       "   core type: Literal\n",
       "   sub-expressions: \n",
       "2. (A => E)\n",
       "   core type: ExprTuple\n",
       "   sub-expressions: 3\n",
       "3. A => E\n",
       "   core type: Operation\n",
       "   operator: 4\n",
       "   operands: 5\n",
       "4. =>\n",
       "   core type: Literal\n",
       "   sub-expressions: \n",
       "5. (A , E)\n",
       "   core type: ExprTuple\n",
       "   sub-expressions: 6, 7\n",
       "6. A\n",
       "   core type: Variable\n",
       "   sub-expressions: \n",
       "7. E\n",
       "   core type: Variable\n",
       "   sub-expressions: "
      ]
     },
     "execution_count": 4,
     "metadata": {},
     "output_type": "execute_result"
    }
   ],
   "source": [
    "# display the expression information\n",
    "expr.exprInfo()"
   ]
  },
  {
   "cell_type": "code",
   "execution_count": null,
   "metadata": {},
   "outputs": [],
   "source": []
  }
 ],
 "metadata": {
  "kernelspec": {
   "display_name": "Python 3",
   "language": "python",
   "name": "python3"
  }
 },
 "nbformat": 4,
 "nbformat_minor": 0
}
