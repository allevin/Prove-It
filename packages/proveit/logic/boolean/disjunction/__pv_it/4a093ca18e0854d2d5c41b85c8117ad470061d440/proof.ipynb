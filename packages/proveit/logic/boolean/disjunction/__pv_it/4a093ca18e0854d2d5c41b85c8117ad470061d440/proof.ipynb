{
 "cells": [
  {
   "cell_type": "markdown",
   "metadata": {},
   "source": [
    "Show the Proof\n",
    "========"
   ]
  },
  {
   "cell_type": "code",
   "execution_count": 1,
   "metadata": {},
   "outputs": [
    {
     "data": {
      "text/html": [
       "<table><tr><th>&nbsp;</th><th>step type</th><th>requirements</th><th>statement</th></tr>\n",
       "<tr><td>0</td><td>assumption</td><td></td><td><span style=\"font-size:20px;\"><a class=\"ProveItLink\" href=\"../a76136b8f02e6c10762c1d94949164cca22841040/expr.ipynb\"><img src=\"data:image/png;base64,iVBORw0KGgoAAAANSUhEUgAAARAAAAAVBAMAAAB8nqwhAAAAMFBMVEX///9ERETc3NyqqqpUVFS6\n",
       "urrMzMwyMjIQEBCIiIh2dnYiIiLu7u5mZmaYmJgAAABJJ2g3AAAAAXRSTlMAQObYZgAAA0RJREFU\n",
       "SMfNVk9IVGEQH5/7x3379ukhMApyo0Mncbt4izbY3CJkPXYJFYSkIv8gFFRml+ggtUEXD6HUpVN6\n",
       "iCARfEQhHYpFIYLQfYcKgkjbViUTbWa+7+2+WffgTR+84fP35jffb+abb1wAsJdgj5/LT8la07Dn\n",
       "T28CTWRF/3Wl4uvX7VSqsaMCfH9g0W2W0GP0G+jaiaXXd2Jn/0rMetS+ZOQg1o9rc0SDd8gEeanC\n",
       "3gWIrUrMfABwEV9ggSFFxA1r/1RwScSJKtgRyX3uQvCzqzR4QuxZB22AOJEsu6L6UFFg1k30MQu4\n",
       "aiOPMSaGNtDkHcENUuYxGS9Ift8Ed24GzWRcCjmWj1PUBjRRkgQR3NDeEFh4lAISoZs8ZpgYoar1\n",
       "ZQXXXKNjlPFMqlqr4N5wVEsIIdlxLtkgvicZqMEP0VGB5amp8ExREqquzSk/arKWpOCGV8AEQ8YL\n",
       "byLy08+NkTRolkKCzikXNGmQkfokGAOOHzO4/SyqNgWigORHSfclJbcBfqn8fNgUfORFidtCPQpv\n",
       "tAbuWIB3XF0uI5cTY58b+8LaSlhsq9zvM7rE6lRgeUJwO4fSBQAZrzMH85Kbd3Uwm4raq25oB7Rw\n",
       "pbGxAgoZj4P1EvxYtFAWgs12Rq3GqUKZDsGd7AKVnx8bOj8iubNxL9ptgJ57qvVTqYwSPgVz6uNB\n",
       "2sT1Y/U8ciyVKVh6qyYy9yUXR8GEvrRlzIEkCO42vk+uH6I+Gwa40KXnR50KvAAvlHvRq3gJq2Mh\n",
       "rQzFEqYu7G+q7ZbkIha3shL7B5ZmeFxWP0n1ouke4P3xOkRV4Y5jDlwjip1J+LHAJll1V4z+qIpK\n",
       "4wbqGgSXx4jpSGyjdKweN+PoOco9YpKfkeArx7tdU5nQGDH0lNZYyBcf2n7oJqCR0egILo+RZpDY\n",
       "arnBNJfanLcoX186xppNleFhpzRGem+BwJYTENSdD91qnPEYuZSTfpRT6NVODCSXDrRn2i/k6MNB\n",
       "sJvWc14H0zk2FVPpYV9Xc9B0+4IHhZX3B/Q7/Un6vUUsNTslMPSbhwou9Awtut+hYrKWnqtV/k9X\n",
       "wULO7vx2w60uZA8e1mDvAyE83a3X++AXGs9e+9l++M36H2MIDhL4FWefAAAAAElFTkSuQmCC\n",
       "\" style=\"display:inline;vertical-align:middle;\" /></a> <a class=\"ProveItLink\" href=\"proof.ipynb\" style=\"text-decoration: none\">&#x22A2;&nbsp;</a><a class=\"ProveItLink\" href=\"../3c2227693366d0b06c60393218a510ea5390af750/expr.ipynb\"><img src=\"data:image/png;base64,iVBORw0KGgoAAAANSUhEUgAAAP0AAAAPBAMAAADdQdTdAAAAMFBMVEX///92dnYQEBBERERUVFS6\n",
       "urqIiIhmZmaqqqrc3Nzu7u6YmJgyMjIiIiLMzMwAAACFkkdwAAAAAXRSTlMAQObYZgAAAuNJREFU\n",
       "OMuNVTtMU2EUPhco5V7aC3F1KNENB9G4iWmjVZZK2RxposGxjQsQo23iwIZNHHAw4Q4+YmTooA6a\n",
       "CBESgo9YEycGIcLkI0AsRh6C5/Hf9p6WgZvcw8+X851z/u+ccwtAzy/Qz/P9ZLJ3oA58fGa4NKGh\n",
       "a+g3u9yIpXYbsfN/NOZc7btp5+T8iUyIjxLtOEB4U2PWCYAr+ALX5QoR87T9reNS7jsHYGc190gJ\n",
       "QjdKfGxf8tC2kGtrhj2wVreiMOcj+lhbeOonjyEmuhto8p7ihuieYR0vRH4vFHdqEU2syGHu5+mv\n",
       "24MmSpVAK+Zp31BYpJvidKFZIY9FJraSRmsZxbX2qFc6nkUajSvuW6/W90yWdVnAd4yBZswT7VZY\n",
       "voCG+xXBYtukcc3raCYTihtZBwtsHS+yjcirIDdMFYGMU8i7y30YMxyAjgTYs14Qs3miHJKU+BER\n",
       "roOuuJbQ3B54LdcKYGV4xocqd3KG/n3K4COWkLVizTDkpaFbMho+Ft6pTe6i0VGkh+lOxR2cS20B\n",
       "6HiDORjV3HypFm8AJllOnJUWWbpsEZwvEMSiWzV/nJ+LcsqSHukBxY0twwyAjhebu9yluUvFajg3\n",
       "mUxLmWWYEug0xS4FsY511l/uBY7JECdzTHNxlzvN1tUwDxKguPv4Xv9wyux9k8QbgaPiVfFlrWJN\n",
       "nH+coXDBMur9puXd0VzEik5GY//AMQyfy0XHWB0c7Kio8wArZkUoZLoQxFq2ycrU2zNRoxytelOP\n",
       "4vL6W57GNqpi+9y053/27ALvDCf5IXXT+tvmE2owNxAW+l+aBtOq93qKy+s/ARrbrA2P4dLkSgpq\n",
       "UfO23OecV13/b+9AYdMFCJkZhhX5+vD6/8xpP7qK+7URA82lrq1+xsO9kwvQHt+VKPPSo3glmXrv\n",
       "E+ZNrFTfiA9FxPsJ+l24rf0eIpZcKisM/Uahjgurc8OlN3W/cPAdGp8DMNc7nN8huP8B1zoBjG39\n",
       "TmMAAAAASUVORK5CYII=\n",
       "\" style=\"display:inline;vertical-align:middle;\" /></a></span></td></tr>\n",
       "</table>"
      ],
      "text/plain": [
       "<proveit._core_.proof._ShowProof at 0x7f94ebefbe80>"
      ]
     },
     "execution_count": 1,
     "metadata": {},
     "output_type": "execute_result"
    }
   ],
   "source": [
    "import proveit\n",
    "%show_proof"
   ]
  },
  {
   "cell_type": "code",
   "execution_count": null,
   "metadata": {},
   "outputs": [],
   "source": []
  }
 ],
 "metadata": {
  "kernelspec": {
   "display_name": "Python 3",
   "language": "python",
   "name": "python3"
  }
 },
 "nbformat": 4,
 "nbformat_minor": 0
}
