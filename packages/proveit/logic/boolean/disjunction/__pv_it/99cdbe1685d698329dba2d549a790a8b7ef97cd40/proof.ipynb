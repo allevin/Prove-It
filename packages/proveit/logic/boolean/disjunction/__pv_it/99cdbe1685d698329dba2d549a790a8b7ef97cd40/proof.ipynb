{
 "cells": [
  {
   "cell_type": "markdown",
   "metadata": {},
   "source": [
    "Show the Proof\n",
    "========"
   ]
  },
  {
   "cell_type": "code",
   "execution_count": 1,
   "metadata": {},
   "outputs": [
    {
     "data": {
      "text/html": [
       "<table><tr><th>&nbsp;</th><th>step type</th><th>requirements</th><th>statement</th></tr>\n",
       "<tr><td>0</td><td>assumption</td><td></td><td><span style=\"font-size:20px;\"><a class=\"ProveItLink\" href=\"../e993110fe53ad297d701c114b0b8168c2b8a15cf0/expr.ipynb\"><img src=\"data:image/png;base64,iVBORw0KGgoAAAANSUhEUgAAAE0AAAAVBAMAAADx+n4ZAAAAMFBMVEX///9ERETc3NyqqqpUVFS6\n",
       "urrMzMwyMjIQEBCIiIh2dnYiIiLu7u5mZmaYmJgAAABJJ2g3AAAAAXRSTlMAQObYZgAAAMxJREFU\n",
       "KM9jYGDgu8eAF7CtUgBRPLsYCAC2ZhDJ+QHK24AmzbsbDAQYGK6DuFwNEGH2D1hMugCmViCre/2H\n",
       "KHVMtp+IUsfJ+ZUodTHM//Cr4y0Ah04A208wrxwMHFDUvQcRGQEgkpWB6S9O89iBVEobmJni4vIR\n",
       "pzoG8QcMDBEJIBbQ0Hac6rgXAAkWkPuYgXgHaiSgu48LFF/KQFxPOFx4QGbKHyCkjkniuwLDw/+1\n",
       "mOoWYMYvHkCSOj7C6sDpj2cnwfTcCqb4FhORPwAcaEYdaWbhOgAAAABJRU5ErkJggg==\n",
       "\" style=\"display:inline;vertical-align:middle;\" /></a> <a class=\"ProveItLink\" href=\"proof.ipynb\" style=\"text-decoration: none\">&#x22A2;&nbsp;</a><a class=\"ProveItLink\" href=\"../ec719ecb7e05ad71b54bd77b8aee02497d0e685c0/expr.ipynb\"><img src=\"data:image/png;base64,iVBORw0KGgoAAAANSUhEUgAAADoAAAAOBAMAAACMfhKgAAAAMFBMVEX///92dnYQEBBERERUVFS6\n",
       "urqIiIhmZmaqqqrc3Nzu7u6YmJgyMjIiIiLMzMwAAACFkkdwAAAAAXRSTlMAQObYZgAAAHhJREFU\n",
       "GNNjYACBtwxooPYuCFyGcM4zYILnMAb3/QV4ZGfUT8Ajm5AfgFuWdUH/BtyySxneJ4DomjMgcARN\n",
       "NoBhfgFOvXwuLv4GOGVZGRiYDuCUbWBg4FXACCCoLCdQlucDLr1rgJj5Fw7ZyfonGbjt/2A6+iEQ\n",
       "AwC2mTBvG4O8rwAAAABJRU5ErkJggg==\n",
       "\" style=\"display:inline;vertical-align:middle;\" /></a></span></td></tr>\n",
       "</table>"
      ],
      "text/plain": [
       "<proveit._core_.proof._ShowProof at 0x7f94eba5cf98>"
      ]
     },
     "execution_count": 1,
     "metadata": {},
     "output_type": "execute_result"
    }
   ],
   "source": [
    "import proveit\n",
    "%show_proof"
   ]
  },
  {
   "cell_type": "code",
   "execution_count": null,
   "metadata": {},
   "outputs": [],
   "source": []
  }
 ],
 "metadata": {
  "kernelspec": {
   "display_name": "Python 3",
   "language": "python",
   "name": "python3"
  }
 },
 "nbformat": 4,
 "nbformat_minor": 0
}
