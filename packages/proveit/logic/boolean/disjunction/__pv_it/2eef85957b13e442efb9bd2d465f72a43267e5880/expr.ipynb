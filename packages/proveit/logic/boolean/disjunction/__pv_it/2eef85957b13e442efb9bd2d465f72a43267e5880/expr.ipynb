{
 "cells": [
  {
   "cell_type": "markdown",
   "metadata": {},
   "source": [
    "Expression of type <a class=\"ProveItLink\" href=\"../../../../../../../doc/html/api/proveit.logic.Not.html\">Not</a>\n",
    "=======================\n",
    "# from context <a class=\"ProveItLink\" href=\"../../_context_.ipynb\">proveit.logic.boolean.disjunction</a>"
   ]
  },
  {
   "cell_type": "code",
   "execution_count": 1,
   "metadata": {},
   "outputs": [],
   "source": [
    "# import Expression classes needed to build the expression\n",
    "from proveit._common_ import A, B, C\n",
    "from proveit.logic import And, Not"
   ]
  },
  {
   "cell_type": "code",
   "execution_count": 2,
   "metadata": {},
   "outputs": [
    {
     "data": {
      "text/html": [
       "<strong id=\"expr\">expr:</strong> <a class=\"ProveItLink\" href=\"expr.ipynb\"><img src=\"data:image/png;base64,iVBORw0KGgoAAAANSUhEUgAAANcAAAAVBAMAAAAnc2Y5AAAAMFBMVEX////c3NxERESqqqqYmJgQ\n",
       "EBDu7u4yMjKIiIi6urpUVFTMzMx2dnYiIiJmZmYAAABjE816AAAAAXRSTlMAQObYZgAAAsxJREFU\n",
       "SMfFlT1oFEEUx9/Fvdzt7X0EBSMWJuBHIYjXWQh6nQgHOVEUK7cJaiFcQJQU6pUBwWwjpomcNsIV\n",
       "5mpB7gqLVOEK7QyeWvpxBiXRQ9A3b97sfOxi64M/uzPzm//MvvlYgP8TfkvKCi9ysRW34myaURKx\n",
       "sRcsHS9Rn5x+QVtPZG3ceboI5a6DmCbXjn6tHSDExm6xdNxD5fh9Lz9zoW7PzgKMImg6iGFSvADw\n",
       "GCWQpuGcb0kZKXyHxl5fFu5y5ZIB9BDvtaEOFmKYTN5Bh+IWEFI3emZDKR17RlPIN2T2jnHTRQNY\n",
       "xva5PsyDhRgmOUH76CCQeaPnI5aO1rLYHQfpvbAi5+ubyTiMehPCRNVCDJORaMkMgRDGKD6z9KYK\n",
       "T9fwsUGFqzCgZ7lvEGOA6SOYp6GFaJPMDuWyKxHGKG6y4rhOawInqPAKPsrE1IyNOV568Bqfu5oW\n",
       "ok3KP9SbQFBfNjHeYvmyVFmUN8X8I5gRc3lI9ACm5YJgZlWXPK78jbZcFAPRJqWtOEuNGKOT8Yul\n",
       "DlPQ6azNii1HG7MFBTonlUgfpgnsncfJB98sRJtUqGESJCKx9MF8/IymGqwU8mk2B6tgjfdbucSI\n",
       "NslSw8mUwc6z1GC4d0oNlcZTqAVKY1UP1sP1K3xX+YkRbVLYFs9hShoPsXiwDLrmxFzOALsIN5io\n",
       "6cHEMZvBj/eaFqJNgp/iEhHHzosxrOctvqEWtIsbGZ23uS4Qi1ei+0ft34COWXAp5DqNGCZzVfDf\n",
       "q27m1l9lydh9ZQG84zvYvijOa6SuIX8QIx/+dDq3xYfmIgtZNQ7Hs+d8YiLG1HU1JeUEXVc+vRJ8\n",
       "LvlvontIIykmietK3LheP4EVnZ9TPem07vwC++nI+r9/MfISsiMXJr696VQkTQRiY/tZdjxxypm2\n",
       "SxTctCVNBGJjmZaUFXn3Nwz73Ir7bkXChBDUXx5fz8rwbTu2AAAAAElFTkSuQmCC\n",
       "\" style=\"display:inline;vertical-align:middle;\" /></a><br>"
      ],
      "text/plain": [
       "expr: [not]([not](A) and [not](B) and [not](C))"
      ]
     },
     "execution_count": 2,
     "metadata": {},
     "output_type": "execute_result"
    }
   ],
   "source": [
    "# build up the expression from sub-expressions\n",
    "expr = Not(And(Not(A), Not(B), Not(C)))"
   ]
  },
  {
   "cell_type": "code",
   "execution_count": 3,
   "metadata": {},
   "outputs": [
    {
     "name": "stdout",
     "output_type": "stream",
     "text": [
      "Passed sanity check: built 'expr' is the same as the stored Expression.\n"
     ]
    }
   ],
   "source": [
    "# check that the built expression is the same as the stored expression\n",
    "%check_expr"
   ]
  },
  {
   "cell_type": "code",
   "execution_count": 4,
   "metadata": {},
   "outputs": [
    {
     "data": {
      "text/html": [
       "<table><tr><th>&nbsp;</th><th>core type</th><th>sub-expressions</th><th>expression</th></tr>\n",
       "<tr><td>0</td><td>Operation</td><td>operator:&nbsp;9<br>operand:&nbsp;1<br></td><td><a class=\"ProveItLink\" href=\"expr.ipynb\"><img src=\"data:image/png;base64,iVBORw0KGgoAAAANSUhEUgAAANcAAAAVBAMAAAAnc2Y5AAAAMFBMVEX////c3NxERESqqqqYmJgQ\n",
       "EBDu7u4yMjKIiIi6urpUVFTMzMx2dnYiIiJmZmYAAABjE816AAAAAXRSTlMAQObYZgAAAsxJREFU\n",
       "SMfFlT1oFEEUx9/Fvdzt7X0EBSMWJuBHIYjXWQh6nQgHOVEUK7cJaiFcQJQU6pUBwWwjpomcNsIV\n",
       "5mpB7gqLVOEK7QyeWvpxBiXRQ9A3b97sfOxi64M/uzPzm//MvvlYgP8TfkvKCi9ysRW34myaURKx\n",
       "sRcsHS9Rn5x+QVtPZG3ceboI5a6DmCbXjn6tHSDExm6xdNxD5fh9Lz9zoW7PzgKMImg6iGFSvADw\n",
       "GCWQpuGcb0kZKXyHxl5fFu5y5ZIB9BDvtaEOFmKYTN5Bh+IWEFI3emZDKR17RlPIN2T2jnHTRQNY\n",
       "xva5PsyDhRgmOUH76CCQeaPnI5aO1rLYHQfpvbAi5+ubyTiMehPCRNVCDJORaMkMgRDGKD6z9KYK\n",
       "T9fwsUGFqzCgZ7lvEGOA6SOYp6GFaJPMDuWyKxHGKG6y4rhOawInqPAKPsrE1IyNOV568Bqfu5oW\n",
       "ok3KP9SbQFBfNjHeYvmyVFmUN8X8I5gRc3lI9ACm5YJgZlWXPK78jbZcFAPRJqWtOEuNGKOT8Yul\n",
       "DlPQ6azNii1HG7MFBTonlUgfpgnsncfJB98sRJtUqGESJCKx9MF8/IymGqwU8mk2B6tgjfdbucSI\n",
       "NslSw8mUwc6z1GC4d0oNlcZTqAVKY1UP1sP1K3xX+YkRbVLYFs9hShoPsXiwDLrmxFzOALsIN5io\n",
       "6cHEMZvBj/eaFqJNgp/iEhHHzosxrOctvqEWtIsbGZ23uS4Qi1ei+0ft34COWXAp5DqNGCZzVfDf\n",
       "q27m1l9lydh9ZQG84zvYvijOa6SuIX8QIx/+dDq3xYfmIgtZNQ7Hs+d8YiLG1HU1JeUEXVc+vRJ8\n",
       "LvlvontIIykmietK3LheP4EVnZ9TPem07vwC++nI+r9/MfISsiMXJr696VQkTQRiY/tZdjxxypm2\n",
       "SxTctCVNBGJjmZaUFXn3Nwz73Ir7bkXChBDUXx5fz8rwbTu2AAAAAElFTkSuQmCC\n",
       "\" style=\"display:inline;vertical-align:middle;\" /></a></td></tr>\n",
       "<tr><td>1</td><td>Operation</td><td>operator:&nbsp;2<br>operands:&nbsp;3<br></td><td><a class=\"ProveItLink\" href=\"../53e54ca39ad3d9a17ecff27d6087f1eed3609f390/expr.ipynb\"><img src=\"data:image/png;base64,iVBORw0KGgoAAAANSUhEUgAAALUAAAAVBAMAAADyYbJ0AAAAMFBMVEX////c3NwiIiJERESqqqqY\n",
       "mJh2dnZmZmYQEBDu7u4yMjJUVFTMzMyIiIi6uroAAAAs73DqAAAAAXRSTlMAQObYZgAAAlpJREFU\n",
       "OMu1lT1oFEEUx/+Xc++Svb3NgoIYkRyColWCJGAqrxNs3CqFhV4jaiEefheBO8FGC7NYBQmyKcQv\n",
       "iCcWFlvcYZviDixsDDlsFCEQIQp6YHxvZjc7u0cGcuDA7MzO/ObNvvf+Mwv8z2J3UgNGN42sY/fI\n",
       "eX6sJIY+UJ1LYVYjNtrsBe+WtQhGPr6/lanmW9R9mYDeUDXD/oGwNb14fngSqHW1yGUX9l0XPlBM\n",
       "hMSYIMioyJfn4eCqArQJbzd0yJPj9LjmYJY+xFNt76s55FRd+nkinHqgAGs0f6GiQ17w0DdgAfie\n",
       "CElnjbM0JfqFdemS7SvASarHPA2S3+TnfiBbxu2EZryzLjWXpHMoSbqiED1gbEaHjIttFoFcFc9U\n",
       "209FPHFGvFzETZknV9FDb/XTEeiQWtTd4+MR7XqYC2/dxXhVRotKCWNSGhSm60wcpcz/AB43dMiE\n",
       "E8Wgjr+KQq0gaE6yGIRkOiiwRjEaHRQ6CVnKYfGnDtkSLWXE2kjYtukL/GjhkBeeCNX2KI0Yv3TI\n",
       "vIhHS9i+r9guE16PHD5NdUk4XI5ttymahU0d0mQJ5mVMpmPbGSLMDeqfQ7iIFyPrxrZZ3kIJOyJC\n",
       "DFc4YH4oJiotUhRRv0OBWRz4IZ7IVaPthbyth54OMcirr44c+7Ktnr3zSzBO/SFsmY8Fh1BcCHZp\n",
       "G7mxFQSvxDfuiGDl9R0RIbOLYafv1hUH2hZdkaN7GARZiC8mpeRSN/osBkGu9t2x8iQni+kNgIxw\n",
       "xg/2LXybes80BkAKHOtM+p9WbKW5Q9g98hn4B8sgtFOHqa8EAAAAAElFTkSuQmCC\n",
       "\" style=\"display:inline;vertical-align:middle;\" /></a></td></tr>\n",
       "<tr><td>2</td><td>Literal</td><td></td><td><a class=\"ProveItLink\" href=\"../../../conjunction/__pv_it/76b5f4f4c45c0b6a9b59b297fc07dfa9555698f50/expr.ipynb\"><img src=\"data:image/png;base64,iVBORw0KGgoAAAANSUhEUgAAAAwAAAAOBAMAAADpk+DfAAAALVBMVEX///+qqqqYmJh2dnaIiIi6\n",
       "urpUVFQiIiJERETMzMxmZmYyMjLu7u7c3NwAAABvwqPxAAAAAXRSTlMAQObYZgAAAEtJREFUCNdj\n",
       "YGDgPcAAAtwLwNSMGjCV6gIieTawgyhmBS4BIMXOwLsBSKkwMGQCKaC6aQwMjEBd3BdACMScAVJd\n",
       "wJAKolwYAkAUKwAk0guX6efcigAAAABJRU5ErkJggg==\n",
       "\" style=\"display:inline;vertical-align:middle;\" /></a></td></tr>\n",
       "<tr><td>3</td><td>ExprTuple</td><td>4, 5, 6</td><td><a class=\"ProveItLink\" href=\"../be92e60b776e6d7a1a8102c83385979c34de3b790/expr.ipynb\"><img src=\"data:image/png;base64,iVBORw0KGgoAAAANSUhEUgAAAHkAAAAVBAMAAACQ4lxbAAAAMFBMVEX////c3NwiIiJERESqqqqY\n",
       "mJh2dnZmZmYQEBDu7u4yMjJUVFTMzMyIiIi6uroAAAAs73DqAAAAAXRSTlMAQObYZgAAAbtJREFU\n",
       "OMullL9LAmEYx79ml55eJhQENQhBUZMuQU35H+TUWG7VEEnRj02HpoaUpoiIawj6ASU0NNygtDoo\n",
       "NLQUSkvRZGFBCdnznpzec+dQ9sI9d3ye93vP8z7P+77A/4av0KZwVpgcQzeWKVKmql1dWKB8e73m\n",
       "iLmy9HnKHJfWCO4QEC9xthCBbzMCFehmiUvBlEWdJ38+zdD+GJllP2bo32x6X9xvURcJzEUZOhGS\n",
       "Z2APeGGOQtGSJCboGWURXBVh+wFnGOus/qnpiEVdBQYmGQmowh4AXTEcmx2H+jLNQ6k+3A1zFDcC\n",
       "dKrYoVSGxBBrKyEQq3tWBBqhor4Cu2nGgkZpfAl8G0FoiqJpmZApCm0FZ4L+8M5YTX9TKZQyU/uo\n",
       "BSpX9xCWPhhL6llndfWWSR0GOhJcnadFeiuMZUQHXPXMx5tqB6k9ZT2phlq0WxTZxPTCLoqtpWLe\n",
       "wFnsk3V+Qn5rFFxvt7KdYkyiVJ5E5ahjj42cepNHkKa+YnKyud9Wa5p2RsmbGXLnG2Hx9pTg9tvP\n",
       "rB+/YrRTpaiNSi0Ocyu2ZDuhf1DLormDNtzqsmnBvGIxjnZvpnvgB/BzcyMaixFWAAAAAElFTkSu\n",
       "QmCC\n",
       "\" style=\"display:inline;vertical-align:middle;\" /></a></td></tr>\n",
       "<tr><td>4</td><td>Operation</td><td>operator:&nbsp;9<br>operand:&nbsp;7<br></td><td><a class=\"ProveItLink\" href=\"../feaa1d0e6d92ad9ead8e5ffd1f92697e3912387a0/expr.ipynb\"><img src=\"data:image/png;base64,iVBORw0KGgoAAAANSUhEUgAAABwAAAAOBAMAAADOPWE3AAAAMFBMVEX///8QEBBERES6urqIiIiq\n",
       "qqrc3Nzu7u6YmJgyMjJUVFTMzMx2dnYiIiJmZmYAAADMbjvTAAAAAXRSTlMAQObYZgAAAGNJREFU\n",
       "CNdjYEAA7gsMyIDzAwq39zsyjy3uGzKXheUzMtec9QcSj92A+wsDw9u7QHAHyGVmYPsHldkFwqtW\n",
       "fULiGjAwSCK4rEDqIoKbCqTmw1zLwD4BSOkXwFyk+DOBoen/PABSrhtHsYt+gAAAAABJRU5ErkJg\n",
       "gg==\n",
       "\" style=\"display:inline;vertical-align:middle;\" /></a></td></tr>\n",
       "<tr><td>5</td><td>Operation</td><td>operator:&nbsp;9<br>operand:&nbsp;8<br></td><td><a class=\"ProveItLink\" href=\"../1da4e2fe7c44632f084fa27ea32e26dc689384c20/expr.ipynb\"><img src=\"data:image/png;base64,iVBORw0KGgoAAAANSUhEUgAAAB0AAAAOBAMAAAAh/woJAAAAMFBMVEX///+qqqru7u7c3NyIiIgQ\n",
       "EBC6uroyMjJERESYmJhUVFTMzMx2dnYiIiJmZmYAAADtoHoAAAAAAXRSTlMAQObYZgAAAHpJREFU\n",
       "CNdjYIACzvW/Vq0oY0AA1gYGhvcJCP5+ByBegOD7GzAwzD+A4LcC8VUFBP8XA4N5E4LL/cvF7yaQ\n",
       "fnsXCO4wMLB8ZmDQhRm3i4GBIwAo9hPB5wfKcf5B8PdPYGDg+ojgg6y3L4AZDraeOxxh/Yv/q1aV\n",
       "A7UAAFRxJOZ+1MVPAAAAAElFTkSuQmCC\n",
       "\" style=\"display:inline;vertical-align:middle;\" /></a></td></tr>\n",
       "<tr><td>6</td><td>Operation</td><td>operator:&nbsp;9<br>operand:&nbsp;10<br></td><td><a class=\"ProveItLink\" href=\"../4fbdcb4671f0f96544ca64362db2c9fec03a54b30/expr.ipynb\"><img src=\"data:image/png;base64,iVBORw0KGgoAAAANSUhEUgAAAB0AAAAOBAMAAAAh/woJAAAAMFBMVEX///+qqqoyMjK6uroQEBDc\n",
       "3NyYmJhERESIiIju7u5UVFTMzMx2dnYiIiJmZmYAAABcp3IwAAAAAXRSTlMAQObYZgAAAG9JREFU\n",
       "CNdjYIABzvZ1z1gfwLkMRxIYmJ8kwLmTbgKJ8wFwvsoEIGEC5/J9BJFxcH68AoicDee/h5n09i4Q\n",
       "3GG4jzAJCHYx/AfTE+B8fxDFuAHOXw+S4kOo398ApE7C+NwMbED77ZDN3KX1TgBIAQC0Ih9XIAXH\n",
       "nQAAAABJRU5ErkJggg==\n",
       "\" style=\"display:inline;vertical-align:middle;\" /></a></td></tr>\n",
       "<tr><td>7</td><td>Variable</td><td></td><td><a class=\"ProveItLink\" href=\"../../../../../__pv_it/2cbe72a7ad6f655694dd697106680215e8489b600/expr.ipynb\"><img src=\"data:image/png;base64,iVBORw0KGgoAAAANSUhEUgAAAA8AAAAOBAMAAAACpFvcAAAALVBMVEX///8QEBBERERUVFS6urqI\n",
       "iIhmZmaqqqrc3Nzu7u6YmJgyMjIiIiLMzMwAAADtIaYWAAAAAXRSTlMAQObYZgAAAFtJREFUCNdj\n",
       "YACBOwxQsA9Kc52bAGG05zVAGAFxDmCaZULdAjBjCsO9ADDDgaEvAUTzGhvbKYCVMDAwbgAxChgY\n",
       "eASANAeQwf0AyJgNxEwvGRia5HYwcOm9TgAA6BoR3jrzwFcAAAAASUVORK5CYII=\n",
       "\" style=\"display:inline;vertical-align:middle;\" /></a></td></tr>\n",
       "<tr><td>8</td><td>Variable</td><td></td><td><a class=\"ProveItLink\" href=\"../../../../../__pv_it/077b2ff79244fb4582cbe22c6e3356fa92a52f2f0/expr.ipynb\"><img src=\"data:image/png;base64,iVBORw0KGgoAAAANSUhEUgAAABAAAAAOBAMAAADUAYG5AAAAMFBMVEX///+qqqru7u4iIiJ2dnbc\n",
       "3NyIiIjMzMxmZmYQEBC6uroyMjJERERUVFSYmJgAAADLUcuvAAAAAXRSTlMAQObYZgAAAGpJREFU\n",
       "CNdjYGB4+//u3dMLGIBgDgMDxy8gzf4NiP8CGWxfGRj4vgAZPBMYGJgnARn8FxhY9ygAGfXX0pof\n",
       "gDTlBzAw2YIYJ0EckBBI53sHoBH/gIz7AhBjWH9DjancBLTl/N+7t/cxMAAA3u4f/5xagjYAAAAA\n",
       "SUVORK5CYII=\n",
       "\" style=\"display:inline;vertical-align:middle;\" /></a></td></tr>\n",
       "<tr><td>9</td><td>Literal</td><td></td><td><a class=\"ProveItLink\" href=\"../../../negation/__pv_it/7bea79645543c2413aa17e787cca04e21046fde60/expr.ipynb\"><img src=\"data:image/png;base64,iVBORw0KGgoAAAANSUhEUgAAAAwAAAAGBAMAAAAFwGKyAAAAFVBMVEX///9UVFTMzMx2dnYiIiJm\n",
       "ZmYAAACWz4ZEAAAAAXRSTlMAQObYZgAAABRJREFUCNdjCHEBAmcGMFDEQzEBAEl+Ai6uYJv/AAAA\n",
       "AElFTkSuQmCC\n",
       "\" style=\"display:inline;vertical-align:middle;\" /></a></td></tr>\n",
       "<tr><td>10</td><td>Variable</td><td></td><td><a class=\"ProveItLink\" href=\"../../../../../__pv_it/985a1bdf1540838275dec15f4ad6de261cca93ce0/expr.ipynb\"><img src=\"data:image/png;base64,iVBORw0KGgoAAAANSUhEUgAAAA8AAAAOBAMAAAACpFvcAAAAMFBMVEX////MzMyqqqoiIiIyMjK6\n",
       "uroQEBB2dnbc3NyYmJhmZmZUVFRERESIiIju7u4AAAB204erAAAAAXRSTlMAQObYZgAAAGZJREFU\n",
       "CNdjYGDgu7NrJccCBgaGsgkMrMsmMDA8sQNy6hsYGNweABlhDAxcn4A0QxcDQ78DiPGQgWH9BAYI\n",
       "sG+AMv6DSaCGfBDNJMDAsB+kmwuI5S8AiTog5gSaEwXWIO29SgFIAQBC+RaDQlidVgAAAABJRU5E\n",
       "rkJggg==\n",
       "\" style=\"display:inline;vertical-align:middle;\" /></a></td></tr>\n",
       "</table>\n"
      ],
      "text/plain": [
       "0. [not]([not](A) and [not](B) and [not](C))\n",
       "   core type: Operation\n",
       "   operator: 9\n",
       "   operand: 1\n",
       "1. [not](A) and [not](B) and [not](C)\n",
       "   core type: Operation\n",
       "   operator: 2\n",
       "   operands: 3\n",
       "2. and\n",
       "   core type: Literal\n",
       "   sub-expressions: \n",
       "3. ([not](A) , [not](B) , [not](C))\n",
       "   core type: ExprTuple\n",
       "   sub-expressions: 4, 5, 6\n",
       "4. [not](A)\n",
       "   core type: Operation\n",
       "   operator: 9\n",
       "   operand: 7\n",
       "5. [not](B)\n",
       "   core type: Operation\n",
       "   operator: 9\n",
       "   operand: 8\n",
       "6. [not](C)\n",
       "   core type: Operation\n",
       "   operator: 9\n",
       "   operand: 10\n",
       "7. A\n",
       "   core type: Variable\n",
       "   sub-expressions: \n",
       "8. B\n",
       "   core type: Variable\n",
       "   sub-expressions: \n",
       "9. not\n",
       "   core type: Literal\n",
       "   sub-expressions: \n",
       "10. C\n",
       "    core type: Variable\n",
       "    sub-expressions: "
      ]
     },
     "execution_count": 4,
     "metadata": {},
     "output_type": "execute_result"
    }
   ],
   "source": [
    "# display the expression information\n",
    "expr.exprInfo()"
   ]
  },
  {
   "cell_type": "code",
   "execution_count": null,
   "metadata": {},
   "outputs": [],
   "source": []
  }
 ],
 "metadata": {
  "kernelspec": {
   "display_name": "Python 3",
   "language": "python",
   "name": "python3"
  }
 },
 "nbformat": 4,
 "nbformat_minor": 0
}
