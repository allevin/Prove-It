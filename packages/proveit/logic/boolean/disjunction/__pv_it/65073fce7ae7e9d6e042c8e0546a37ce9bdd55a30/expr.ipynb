{
 "cells": [
  {
   "cell_type": "markdown",
   "metadata": {},
   "source": [
    "Expression of type <a class=\"ProveItLink\" href=\"../../../../../../../doc/html/api/proveit.ExprTuple.html\">ExprTuple</a>\n",
    "=======================\n",
    "# from context <a class=\"ProveItLink\" href=\"../../_context_.ipynb\">proveit.logic.boolean.disjunction</a>"
   ]
  },
  {
   "cell_type": "code",
   "execution_count": 1,
   "metadata": {},
   "outputs": [],
   "source": [
    "# import Expression classes needed to build the expression\n",
    "from proveit import ExprTuple\n",
    "from proveit._common_ import B, C\n",
    "from proveit.logic import Booleans\n",
    "from proveit.number import Exp, two"
   ]
  },
  {
   "cell_type": "code",
   "execution_count": 2,
   "metadata": {},
   "outputs": [
    {
     "data": {
      "text/html": [
       "<strong id=\"expr\">expr:</strong> <a class=\"ProveItLink\" href=\"expr.ipynb\"><img src=\"data:image/png;base64,iVBORw0KGgoAAAANSUhEUgAAAGwAAAAcBAMAAAB2akc/AAAAMFBMVEX///+qqqp2dnYiIiJERESI\n",
       "iIhmZmYQEBDc3NyYmJgyMjLu7u5UVFTMzMy6uroAAACGxKilAAAAAXRSTlMAQObYZgAAAlJJREFU\n",
       "OMudVM9rE0EU/lqTzY/NbiJ48RYEFVSwB1GLSLd48GAPARu9+CMHUcRDe5QqdA+th15ci3jUPVnQ\n",
       "ogseCgWJhyKogfYPqESUqidNVDDSpPG92dlk3O5lHZjZt2/eN++b780MEK/tG/MQv2me5krzWwzY\n",
       "DjvdQZEt41UMWKqgb2GdreV4ZAc2kSzR9w3/bETHPNzuyhLF40B6UhLNrLZrK8+CWX389fV0RVsL\n",
       "/g/8er5wpEDGIeoXSJsKL8FEUxYw8UGG7XdgXnPg9rJYG/rTPbQ461H1kOLAMk/UiXJd6rN8gobD\n",
       "NuYVGC5lgY94T3o6qLPvFg+XbeBR0Q9a4PRfgCUVtjvnGaM73xFDC+fJZQoup6kf82XVmjzeARIF\n",
       "NdsMUt1ug5g28JajRI42MHfGj7kr1nkJDFb6MGNYzsLcxBgr4rCa7fK5YemfcIIq9TSxPo38Lknb\n",
       "6OAxa8iyJFvAC6nIiB2sO6mQLO+SdnoLR+mTZ1iCIpJ/fH9XjLRPo6HAEqYUTG/2YXku+Q/fPy0I\n",
       "roVhsHrZFsUB5bLRfnJN37/Kgmphkn1YByvMz5FlIwX1oPI4SD3j+mT/JWm2cBZSZiqbMeWhOsTR\n",
       "lPWzLWf0nxL2YFxmprp9ZzSFXunWak8o61KLJ9YXr4pCZ2nX+rQtjvKp20HtB13k+ZDfVG7GV/Wa\n",
       "iMNl2uHLU0KO+c4rPkcN2Cs4he9c1YYxFFycCJjuRsLuUx9lRfvvSVKdzwl6pTDsJPU5NmajH4WL\n",
       "kd4MCz9QjPtYzojxXlzYDfxv+wtN45zUs4QS6AAAAABJRU5ErkJggg==\n",
       "\" style=\"display:inline;vertical-align:middle;\" /></a><br>"
      ],
      "text/plain": [
       "expr: ((B , C) , BOOLEANS^{2})"
      ]
     },
     "execution_count": 2,
     "metadata": {},
     "output_type": "execute_result"
    }
   ],
   "source": [
    "# build up the expression from sub-expressions\n",
    "expr = ExprTuple([B, C], Exp(Booleans, two))"
   ]
  },
  {
   "cell_type": "code",
   "execution_count": 3,
   "metadata": {},
   "outputs": [
    {
     "name": "stdout",
     "output_type": "stream",
     "text": [
      "Passed sanity check: built 'expr' is the same as the stored Expression.\n"
     ]
    }
   ],
   "source": [
    "# check that the built expression is the same as the stored expression\n",
    "%check_expr"
   ]
  },
  {
   "cell_type": "code",
   "execution_count": 4,
   "metadata": {},
   "outputs": [
    {
     "data": {
      "text/html": [
       "<table><tr><th>&nbsp;</th><th>core type</th><th>sub-expressions</th><th>expression</th></tr>\n",
       "<tr><td>0</td><td>ExprTuple</td><td>1, 2</td><td><a class=\"ProveItLink\" href=\"expr.ipynb\"><img src=\"data:image/png;base64,iVBORw0KGgoAAAANSUhEUgAAAGwAAAAcBAMAAAB2akc/AAAAMFBMVEX///+qqqp2dnYiIiJERESI\n",
       "iIhmZmYQEBDc3NyYmJgyMjLu7u5UVFTMzMy6uroAAACGxKilAAAAAXRSTlMAQObYZgAAAlJJREFU\n",
       "OMudVM9rE0EU/lqTzY/NbiJ48RYEFVSwB1GLSLd48GAPARu9+CMHUcRDe5QqdA+th15ci3jUPVnQ\n",
       "ogseCgWJhyKogfYPqESUqidNVDDSpPG92dlk3O5lHZjZt2/eN++b780MEK/tG/MQv2me5krzWwzY\n",
       "DjvdQZEt41UMWKqgb2GdreV4ZAc2kSzR9w3/bETHPNzuyhLF40B6UhLNrLZrK8+CWX389fV0RVsL\n",
       "/g/8er5wpEDGIeoXSJsKL8FEUxYw8UGG7XdgXnPg9rJYG/rTPbQ461H1kOLAMk/UiXJd6rN8gobD\n",
       "NuYVGC5lgY94T3o6qLPvFg+XbeBR0Q9a4PRfgCUVtjvnGaM73xFDC+fJZQoup6kf82XVmjzeARIF\n",
       "NdsMUt1ug5g28JajRI42MHfGj7kr1nkJDFb6MGNYzsLcxBgr4rCa7fK5YemfcIIq9TSxPo38Lknb\n",
       "6OAxa8iyJFvAC6nIiB2sO6mQLO+SdnoLR+mTZ1iCIpJ/fH9XjLRPo6HAEqYUTG/2YXku+Q/fPy0I\n",
       "roVhsHrZFsUB5bLRfnJN37/Kgmphkn1YByvMz5FlIwX1oPI4SD3j+mT/JWm2cBZSZiqbMeWhOsTR\n",
       "lPWzLWf0nxL2YFxmprp9ZzSFXunWak8o61KLJ9YXr4pCZ2nX+rQtjvKp20HtB13k+ZDfVG7GV/Wa\n",
       "iMNl2uHLU0KO+c4rPkcN2Cs4he9c1YYxFFycCJjuRsLuUx9lRfvvSVKdzwl6pTDsJPU5NmajH4WL\n",
       "kd4MCz9QjPtYzojxXlzYDfxv+wtN45zUs4QS6AAAAABJRU5ErkJggg==\n",
       "\" style=\"display:inline;vertical-align:middle;\" /></a></td></tr>\n",
       "<tr><td>1</td><td>ExprTuple</td><td>3, 4</td><td><a class=\"ProveItLink\" href=\"../dad23c4ce051fb8a92f116e8b4d54eeb5e4476f70/expr.ipynb\"><img src=\"data:image/png;base64,iVBORw0KGgoAAAANSUhEUgAAADcAAAAVBAMAAAAQkWtIAAAAMFBMVEX////c3NwiIiJERESqqqqY\n",
       "mJh2dnZmZmYQEBDu7u4yMjJUVFTMzMyIiIi6uroAAAAs73DqAAAAAXRSTlMAQObYZgAAAUFJREFU\n",
       "KM9jYMAL+C5gF48DEaeBmHX/792b18GEOS9vL2UsYD8AZK4E8TkMGBjqH0AlMwIY+CoCGBYwMPCC\n",
       "TT0PJM9vgMjN0gQS+QIMYUA9E0AC9wUYGOITIJIrQCIvGBhmMDC8AgtYALEGWBkD+xcQKc7AwOzA\n",
       "UAYW+c3AIGUJ0Si/AETOYWBgK2BYCmLy/L57XRXqnPoAKINlAUMfiOb9yMAwCeoefQFYADQw/APR\n",
       "zA1ABV8hYv/BJNB+ng8QSX6gLtZvEMl+sJEHwJItYG8C7eH+ApHcD3I0O8RYU5g3ga7khIUHQyYo\n",
       "TBcwpEO9ydM1gWG+AkgMaMJzkKOAXnkEpIr/7969CmjyjI/gmFhd7gCiuR4wcAggRdND5DgDBh9r\n",
       "AhI/AFkyFxZlWCQ5QcEojeDzImvkBtnHiCOZ3GFgAADrEU9ADAe1sgAAAABJRU5ErkJggg==\n",
       "\" style=\"display:inline;vertical-align:middle;\" /></a></td></tr>\n",
       "<tr><td>2</td><td>Operation</td><td>operator:&nbsp;5<br>operands:&nbsp;6<br></td><td><a class=\"ProveItLink\" href=\"../80916f78fe8f88648e548cee85f5261a65c126a40/expr.ipynb\"><img src=\"data:image/png;base64,iVBORw0KGgoAAAANSUhEUgAAABYAAAAUBAMAAAB7UtADAAAAMFBMVEX///9mZmbMzMzc3NxUVFSY\n",
       "mJju7u6IiIi6urqqqqoiIiIQEBBEREQyMjJ2dnYAAAAQvcRZAAAAAXRSTlMAQObYZgAAAIRJREFU\n",
       "CNdjYICCh0cSYEzGBMYLMDaXAfMnGJt7AtsPBjjg/IZg8z5gePvn/u01E4DsJ0B8oJ3t2jsGBtYH\n",
       "YDZDBS8DQx+DEpg9lSWB6eRMN4i4DQP3//8fQGympcegZh3oWv+7AMZuZyifg2DzcDxAsBkOYGcj\n",
       "qQmsgTCBbju1ZQKYCQDWoDT3EPNjYwAAAABJRU5ErkJggg==\n",
       "\" style=\"display:inline;vertical-align:middle;\" /></a></td></tr>\n",
       "<tr><td>3</td><td>Variable</td><td></td><td><a class=\"ProveItLink\" href=\"../../../../../__pv_it/077b2ff79244fb4582cbe22c6e3356fa92a52f2f0/expr.ipynb\"><img src=\"data:image/png;base64,iVBORw0KGgoAAAANSUhEUgAAABAAAAAOBAMAAADUAYG5AAAAMFBMVEX///+qqqru7u4iIiJ2dnbc\n",
       "3NyIiIjMzMxmZmYQEBC6uroyMjJERERUVFSYmJgAAADLUcuvAAAAAXRSTlMAQObYZgAAAGpJREFU\n",
       "CNdjYGB4+//u3dMLGIBgDgMDxy8gzf4NiP8CGWxfGRj4vgAZPBMYGJgnARn8FxhY9ygAGfXX0pof\n",
       "gDTlBzAw2YIYJ0EckBBI53sHoBH/gIz7AhBjWH9DjancBLTl/N+7t/cxMAAA3u4f/5xagjYAAAAA\n",
       "SUVORK5CYII=\n",
       "\" style=\"display:inline;vertical-align:middle;\" /></a></td></tr>\n",
       "<tr><td>4</td><td>Variable</td><td></td><td><a class=\"ProveItLink\" href=\"../../../../../__pv_it/985a1bdf1540838275dec15f4ad6de261cca93ce0/expr.ipynb\"><img src=\"data:image/png;base64,iVBORw0KGgoAAAANSUhEUgAAAA8AAAAOBAMAAAACpFvcAAAAMFBMVEX////MzMyqqqoiIiIyMjK6\n",
       "uroQEBB2dnbc3NyYmJhmZmZUVFRERESIiIju7u4AAAB204erAAAAAXRSTlMAQObYZgAAAGZJREFU\n",
       "CNdjYGDgu7NrJccCBgaGsgkMrMsmMDA8sQNy6hsYGNweABlhDAxcn4A0QxcDQ78DiPGQgWH9BAYI\n",
       "sG+AMv6DSaCGfBDNJMDAsB+kmwuI5S8AiTog5gSaEwXWIO29SgFIAQBC+RaDQlidVgAAAABJRU5E\n",
       "rkJggg==\n",
       "\" style=\"display:inline;vertical-align:middle;\" /></a></td></tr>\n",
       "<tr><td>5</td><td>Literal</td><td></td><td><a class=\"ProveItLink\" href=\"../../../../../number/exponentiation/__pv_it/deb2bf23cbccdd6e6791e1b35b5b9794ce12dbd50/expr.ipynb\"><img src=\"data:image/png;base64,iVBORw0KGgoAAAANSUhEUgAAACgAAAASBAMAAADbMYGVAAAAMFBMVEX///8QEBAiIiKYmJjc3Nzu\n",
       "7u7MzMx2dnZmZma6urpERESqqqoyMjJUVFSIiIgAAAAoDOMTAAAAAXRSTlMAQObYZgAAAOBJREFU\n",
       "GNNjYGB4+//u3Tt/GNAASGAXmhjnPyDBgSbI/g1IxKEJ8nxgYGdgQRPkX8BgDKRY6q7s62OYvmze\n",
       "2wAgb/7ZO1+AVDiDkYEQQ0HTBr4DQF59AgOIKmB4z7CNbcNZBu6vQN55kEACQwDDLQYGVobfDHwg\n",
       "fb8YGBxYHwAZciD3fWXg+gB1JjvQcJZvQIXsCgz8F6DO9GBgMOH7wPCUgaeBwd4B7EwGNjUG7s9c\n",
       "AiwPgO5jkWRgiF3/9+5dfQUG1nWl5Y+B7pv+1gE9bBhqGLCAE1jEWH9jEbT5A3IwAC4sP/1L6Qlu\n",
       "AAAAAElFTkSuQmCC\n",
       "\" style=\"display:inline;vertical-align:middle;\" /></a></td></tr>\n",
       "<tr><td>6</td><td>ExprTuple</td><td>7, 8</td><td><a class=\"ProveItLink\" href=\"../414e8800f1d1efa4c79fba266b1f17989e0e26480/expr.ipynb\"><img src=\"data:image/png;base64,iVBORw0KGgoAAAANSUhEUgAAAC0AAAAVBAMAAAAgHXppAAAAMFBMVEX////c3NwiIiJERESqqqqY\n",
       "mJh2dnZmZmYQEBDu7u4yMjJUVFTMzMyIiIi6uroAAAAs73DqAAAAAXRSTlMAQObYZgAAARFJREFU\n",
       "GNN10bFLw0AUx/FvqNEmTUqwo6M4JwgObgER/wPdpFOEglAUdNTBQRD0RseACHaqq5PuLgVXldBR\n",
       "EERFnKx3efYKLd4QHp/cPd79Dv5b9d4EbZrPPa2P7tV8KuTsXxTM3OmqA8mr18nE5wg/IYewZ5xn\n",
       "X/wGYliHqip9taZKP1bcFpzDC7K/Ifu7ioOCSspe6cHCsp0mVky3uTTej7/ttMEXTOWcSp+nlaH7\n",
       "ib7TIT/ilXrzz3fNmTfrJMLhtfjRmK/hRKbP0qiPuUHQxo1wc7bENx7w3nU5m2U7mDn7mNwWT1K8\n",
       "s0gPPxjo335BNRolbkudg9u07tpqW3Iedy8vEx8uG0XNNHQm3/ERfgGi4EpwIB8kjgAAAABJRU5E\n",
       "rkJggg==\n",
       "\" style=\"display:inline;vertical-align:middle;\" /></a></td></tr>\n",
       "<tr><td>7</td><td>Literal</td><td></td><td><a class=\"ProveItLink\" href=\"../../../__pv_it/46271c8230be96415d662709611f4ed2279d702b0/expr.ipynb\"><img src=\"data:image/png;base64,iVBORw0KGgoAAAANSUhEUgAAAA0AAAAOBAMAAAAGUYvhAAAAMFBMVEX///9mZmbMzMzc3NxUVFSY\n",
       "mJju7u6IiIi6urqqqqoiIiIQEBBEREQyMjJ2dnYAAAAQvcRZAAAAAXRSTlMAQObYZgAAAElJREFU\n",
       "CNdjePvn/u01ExgYGA60s117B6YZKngh9FSWBAjfBsxnWnoMRHet/10AkS+fA6F5OB5AaIYDqDRU\n",
       "PLCGgQFoz6ktExgAgLIl8DFvGtkAAAAASUVORK5CYII=\n",
       "\" style=\"display:inline;vertical-align:middle;\" /></a></td></tr>\n",
       "<tr><td>8</td><td>Literal</td><td></td><td><a class=\"ProveItLink\" href=\"../../../../../number/numeral/__pv_it/77d407a64829263cdc16415becd4c2293f77a4bf0/expr.ipynb\"><img src=\"data:image/png;base64,iVBORw0KGgoAAAANSUhEUgAAAAkAAAAOBAMAAAAPuiubAAAAMFBMVEX///+YmJh2dnbMzMwQEBAi\n",
       "IiLu7u6qqqqIiIhUVFS6urpEREQyMjJmZmbc3NwAAACOMKdoAAAAAXRSTlMAQObYZgAAAFBJREFU\n",
       "CNdj4Lt7egEDw0sGju8MDNMYGOIZGFwSGOYvYDifwHAfKAEUSQASzJ9ATJ4NIPI2iOCYACJrGfge\n",
       "MDBfYGB8wPBUSekqUPH//18ZAIliFhc3zESNAAAAAElFTkSuQmCC\n",
       "\" style=\"display:inline;vertical-align:middle;\" /></a></td></tr>\n",
       "</table>\n"
      ],
      "text/plain": [
       "0. ((B , C) , BOOLEANS^{2})\n",
       "   core type: ExprTuple\n",
       "   sub-expressions: 1, 2\n",
       "1. (B , C)\n",
       "   core type: ExprTuple\n",
       "   sub-expressions: 3, 4\n",
       "2. BOOLEANS^{2}\n",
       "   core type: Operation\n",
       "   operator: 5\n",
       "   operands: 6\n",
       "3. B\n",
       "   core type: Variable\n",
       "   sub-expressions: \n",
       "4. C\n",
       "   core type: Variable\n",
       "   sub-expressions: \n",
       "5. Exp\n",
       "   core type: Literal\n",
       "   sub-expressions: \n",
       "6. (BOOLEANS , 2)\n",
       "   core type: ExprTuple\n",
       "   sub-expressions: 7, 8\n",
       "7. BOOLEANS\n",
       "   core type: Literal\n",
       "   sub-expressions: \n",
       "8. 2\n",
       "   core type: Literal\n",
       "   sub-expressions: "
      ]
     },
     "execution_count": 4,
     "metadata": {},
     "output_type": "execute_result"
    }
   ],
   "source": [
    "# display the expression information\n",
    "expr.exprInfo()"
   ]
  },
  {
   "cell_type": "code",
   "execution_count": null,
   "metadata": {},
   "outputs": [],
   "source": []
  }
 ],
 "metadata": {
  "kernelspec": {
   "display_name": "Python 3",
   "language": "python",
   "name": "python3"
  }
 },
 "nbformat": 4,
 "nbformat_minor": 0
}
