{
 "cells": [
  {
   "cell_type": "markdown",
   "metadata": {},
   "source": [
    "Theorem Dependencies\n",
    "=======================\n",
    "\n",
    "## <a class=\"ProveItLink\" href=\"../../_context_.ipynb\">proveit.logic.boolean.disjunction</a>.<a class=\"ProveItLink\" href=\"../../_theorems_.ipynb#trueOrFalse\">trueOrFalse</a> \n",
    "***see <a class=\"ProveItLink\" href=\"../../_proofs_/trueOrFalse.ipynb\">proof</a>***"
   ]
  },
  {
   "cell_type": "code",
   "execution_count": 1,
   "metadata": {},
   "outputs": [],
   "source": [
    "from proveit.logic.boolean.disjunction._theorems_ import trueOrFalse"
   ]
  },
  {
   "cell_type": "code",
   "execution_count": 2,
   "metadata": {},
   "outputs": [
    {
     "data": {
      "text/html": [
       "<h3>Axioms required (directly or indirectly) to prove trueOrFalse</h3>"
      ],
      "text/plain": [
       "<IPython.core.display.HTML object>"
      ]
     },
     "metadata": {},
     "output_type": "display_data"
    },
    {
     "data": {
      "text/html": [
       "<dl>"
      ],
      "text/plain": [
       "<IPython.core.display.HTML object>"
      ]
     },
     "metadata": {},
     "output_type": "display_data"
    },
    {
     "data": {
      "text/html": [
       "<dt><a class=\"ProveItLink\" href=\"../../_axioms_.ipynb#orTF\">proveit.logic.boolean.disjunction.orTF</a></dt><dd><a class=\"ProveItLink\" href=\"../7a5641a953257265a1a49dd035aaef79e0c1ecb40/expr.ipynb\"><img src=\"data:image/png;base64,iVBORw0KGgoAAAANSUhEUgAAAHAAAAAVBAMAAABs93eRAAAAMFBMVEX////c3NwiIiJERESqqqqY\n",
       "mJh2dnZmZmYQEBDu7u4yMjJUVFTMzMyIiIi6uroAAAAs73DqAAAAAXRSTlMAQObYZgAAAQ5JREFU\n",
       "OMtjYCAb8F3AJxuHW+o0A7sSGBigSciCCPYD6OqLwIqVGRhWgng8BRDRB2AOhH0cTC7AYhdYhvcC\n",
       "ssY9IOIussYwXBo5JiBrPAwiNJE1zsCl8RUDskYuAQYGlgJkjcwOODSWoWgEaQJpRmhkK8ChcSmK\n",
       "RpAzDyNLM7CAQ6dqFQisRpbpQ9UIDJh9KBr5GnDY+A9VIxMD5wIUjTwfiNPI7sAWQJzGFlSNjAuY\n",
       "GLA4FZ5cEDKmqBoZ9sSiamRdgMPGdDSNhzVRNeKMjkcQjQkwQa4CWFLWALuN6wGmxmPgJCeAKsgz\n",
       "AZU/A1euYk3An11zccqsxKuPcwFOKWm8GrkFcEox4i067uCSAABseUdXOQ8BeQAAAABJRU5ErkJg\n",
       "gg==\n",
       "\" style=\"display:inline;vertical-align:middle;\" /></a></dd>"
      ],
      "text/plain": [
       "<IPython.core.display.HTML object>"
      ]
     },
     "metadata": {},
     "output_type": "display_data"
    },
    {
     "data": {
      "text/html": [
       "<dt><a class=\"ProveItLink\" href=\"../../../_axioms_.ipynb#eqTrueElim\">proveit.logic.boolean.eqTrueElim</a></dt><dd><a class=\"ProveItLink\" href=\"../../../__pv_it/3e7bd867633eab3d515d0929d36506bc9b5772e10/expr.ipynb\"><img src=\"data:image/png;base64,iVBORw0KGgoAAAANSUhEUgAAAGgAAAAWBAMAAADeGsQjAAAAMFBMVEX///8QEBC6urrMzMxUVFRm\n",
       "ZmZERETc3NwyMjKqqqp2dnaIiIiYmJgiIiLu7u4AAAAU9Wx4AAAAAXRSTlMAQObYZgAAAUpJREFU\n",
       "OMtjeMBABrgAIk6ToIEZqGMliNFHgiaODwwMZUCaPYEETWf/ATUCPcU6gXg97FO/MzDwLC8vryXB\n",
       "Im7uT0DyW1raLRI06XH+AZLODAzpYG47mGSCe7gAmx4+BebfQEqFga8BxOX5BBZlg0mfV4AyWNPS\n",
       "xNKyoBwmBvavQIqXgfsAiPv0D4omvvgDCPMRoWvi4vIN5LMDvOBUse4qiiautwHYNAGtlwAZ2WAC\n",
       "jugNaSiarNkSsGjiBOKLIEa6E4hkYYhF0eTAeoHBowMINiBrqgTifhBjKjj5nWTYj6yJZwL3B0yb\n",
       "wEGWD/INI8gsvquhYA5M09vQsH8YmtgTfxQwHPvfCjIUpJi1gMHeAElTOAPzZ4YMDOehAh0GBv4D\n",
       "CE1MQPYfbKGHDJ58Y2D3vwPXxOefwFDy9wABTQjARk5Opp8mFiLUAADNR1FAr8G4iQAAAABJRU5E\n",
       "rkJggg==\n",
       "\" style=\"display:inline;vertical-align:middle;\" /></a></dd>"
      ],
      "text/plain": [
       "<IPython.core.display.HTML object>"
      ]
     },
     "metadata": {},
     "output_type": "display_data"
    },
    {
     "data": {
      "text/html": [
       "</dl>"
      ],
      "text/plain": [
       "<IPython.core.display.HTML object>"
      ]
     },
     "metadata": {},
     "output_type": "display_data"
    },
    {
     "data": {
      "text/html": [
       "<h3>Theorems that depend directly on trueOrFalse</h3>"
      ],
      "text/plain": [
       "<IPython.core.display.HTML object>"
      ]
     },
     "metadata": {},
     "output_type": "display_data"
    },
    {
     "data": {
      "text/html": [
       "<dl>"
      ],
      "text/plain": [
       "<IPython.core.display.HTML object>"
      ]
     },
     "metadata": {},
     "output_type": "display_data"
    },
    {
     "data": {
      "text/html": [
       "<dt><a class=\"ProveItLink\" href=\"../../_proofs_/binaryClosure.ipynb\">proveit.logic.boolean.disjunction.binaryClosure</a></dt><dd><a class=\"ProveItLink\" href=\"../007ee0ab524f98485a43568946fc875a941ae9e80/expr.ipynb\"><img src=\"data:image/png;base64,iVBORw0KGgoAAAANSUhEUgAAAMcAAAAWBAMAAACGSZV/AAAAMFBMVEX///8QEBC6urrMzMxUVFRm\n",
       "ZmZERETc3NwyMjKqqqp2dnaIiIiYmJgiIiLu7u4AAAAU9Wx4AAAAAXRSTlMAQObYZgAAA15JREFU\n",
       "SMe9Vl9Ik1EUP9vn9rl936b0khHGiqDIyj2IPURs5FCDSCHWQ39n0EwK20NoIdUQpBBLX4we91IZ\n",
       "QQyqh/DBFSRmRPPBiHAxoUIyK0SXlWjnnPt933TOrZe6cO9377n33N85v3PO3QD+R0v+3TFzFIey\n",
       "XCdUV3b5M+xxmrzMC1KBXfLyVIpn3F4346tuBzi4XGzvPj1X2gRgcQPcI8GNvCB0olB4XfidRrZb\n",
       "YoEpAHDCBYUZKlZzdOJzBCAM0IJLOZAPQyG2+sX81QKNVWBIPLjp8YIaWQGiuBBhWJhn6ckHYiIn\n",
       "NvBU7v1Bn0oa3rNkIATwOgLOYnF28nrirQZiix0AGEdG77a2XsrL1laKfVg4pUwzaXizrZ4lDdhH\n",
       "0IomEbKuZNqTLciRFV1IBYPv8oIcxm4RdOy0zdOHAAgI2wzAhWb83uZVSzJN155BXNjrmdxGFl7l\n",
       "8easv9q9AqSLbI/RzOmSfoNGVaUwfab/8RhNbvGyMR2TxOJ6MgcZ2AxO5kGdFglZDIogV+3s7Ihp\n",
       "CmsoLpxQZpBnQQv6XsEfxmiKsnsjGxFYGvgnuDLjdQ5Q+KqPzAJYvGBGrUn/UYhGJjdpCmRAEYNU\n",
       "+HwpFjk048CKlyik7GEjShMJI/AQ2IaeYsorMQez+GBU6EbBEgfl5OWvCGL/sgIEhxJhTY9d+FmE\n",
       "Xqi/dBCtYnUQqwBxhit4MxrkrW9uGArBc5pGI2XHNYV1RBcluo0ySaRy2CH2PIhV8NOgK54JQnRB\n",
       "I1NbAMd4q7z/UTNXKYL4S/WYnCUlWlzE3i1kVdpjRGVyhRSGeLl/GQjSpdJeL2O/gAHe6gN4mpQi\n",
       "whPLbk2BspNSkcNwTiRppShFKhOpJGmk8JQrDaIeCQg9MNGT4Rz1C91TyFiP9CYYPEMxsWsKOyik\n",
       "cZAb5kIwuNgh3jBRiocWfb5r7HG7oLHDrT+QqZF9dI5QVbrcEgIPbyK55W6nV3higJio7NYurx0p\n",
       "41dCf1ZstSK79DZuzLZjlsTkqyAvgIxpVqPR1aY/58TfcO5XwR7NLr+vTz6kQK4bk+ahb9Zfi1n0\n",
       "ycXFGIxleepXaxPZxVo1Lfn9MWZ3MCZL23li25sTpCa7uCCUIdi16g0ycdGW8yfHnV3+MFMQ+zf/\n",
       "I/4AM+Xh1y8Fe60AAAAASUVORK5CYII=\n",
       "\" style=\"display:inline;vertical-align:middle;\" /></a></dd>"
      ],
      "text/plain": [
       "<IPython.core.display.HTML object>"
      ]
     },
     "metadata": {},
     "output_type": "display_data"
    },
    {
     "data": {
      "text/html": [
       "<dt><a class=\"ProveItLink\" href=\"../../_proofs_/demorgansLawAndToOrBinExplicit.ipynb\">proveit.logic.boolean.disjunction.demorgansLawAndToOrBinExplicit</a></dt><dd><a class=\"ProveItLink\" href=\"../3f128eb8aa42c4906b681dddf02c5b3afd650eed0/expr.ipynb\"><img src=\"data:image/png;base64,iVBORw0KGgoAAAANSUhEUgAAARAAAAAXBAMAAAAxVg0qAAAAMFBMVEX///8QEBC6urrMzMxUVFRm\n",
       "ZmZERETc3NwyMjKqqqp2dnaIiIiYmJgiIiLu7u4AAAAU9Wx4AAAAAXRSTlMAQObYZgAAA+tJREFU\n",
       "SMfNVl1oFFcU/nZnf5LdyRj6ZB/UVaQIKpmHFkWrWXSJPpmAWUGpmlYcFa1ZUNQqmiDIqojmQUVQ\n",
       "cBH8gyIr6EPJQ1ZEUHxo+qAPGnQoKgGrLRq1/qCec+7M7MyoEcEVL7sz595vztzv3PPdMxf4Wpr9\n",
       "ZaaJlodD9QzQz8bVmhP5Xt1mhBm0DuVatgPzgdPc31tzIs4M+2R1xDTlGukAlmZQB2ygXrKj1jzS\n",
       "KjP6bVZCzKyONNOtOQu9hDqC4j21JhJRUvxtaYGuGsfdoEb6aODPEoxG6Cc3btxa88xMULdyX4Zv\n",
       "RfofUCM/0/8v4rQKeGpZNz7hlesok6avXx+AgkAVW6S2jn20AodEUQFDwKa1dD8OzAZWAB508Em+\n",
       "xQxNnqmayRKwudotQiv5IUWhM9++jIEqtkeuf4skJC2akqU21Ht+gI1DwHgY3SKkR0pPjUg3Kmv3\n",
       "7h0SAHxaTgS67HPMD6l2ATgrgId94wTU1eZIN6aCSz8DHmTJGEv0kJbp7r4SKJ5FlND7+Z9QLt0f\n",
       "FyZymAKu1ib2GWSjpCCntQNNBQYG3REJUsvlWtWr+l0kQTGneeJmuleUgM9cE6ihjHg/0r9se0hE\n",
       "Uv+EiVAWEwWvxz68GbUBuAnmdhNYLEDM9BOh+hGRxcdC/K7GR9Bq6C8UEaNbqp5WtgT618TlAi6J\n",
       "xksTl4SJUAQRryM+XBASgwpSzXgMvShA2l28b/lCRaJBPbRJFXSan5IRe65SgxWzeCjGQVBr6j1H\n",
       "Khbi5fyosEY0AqZ6PfGJUlDT9IpAznflZW+LLQBj0tawmIlI3X/K8UeHIZeRLna8zJtJ2F1Bn0Cn\n",
       "SGu2knu5FJ9eJXLCsqxufvN4x3Z8mMBaYk5QioZXAqlu6KMF8MjR7hRZJF6reH61vTKijbSdByLM\n",
       "zriW7xRwOWWnR7tuWatZI6nginTUE5H9ju348HxtxKk+6+6dRBuM50Eik+lbMqYIvfN/2TbYoYYX\n",
       "vMnldsqqb+c9yATiBTSLsugNTaaRVSvyDpEomd+5RJQPDcVsmj/a4RIZ0YPoY/BA1PWMFIKVaWao\n",
       "UhmewCaRfyVZRPI1krQV5jip2RIiYlAaH7hExIe/Vz+QMnuMfpdIl42tFDgBulvRPOMDLeWq+s5T\n",
       "JFsHtFc49SQ/l0R1LyMFzQqJ1cQt73NlKh/EM5gnz9xS6UdqX759Fy9yhn/BY8CH2mD4nOJZJ0gj\n",
       "XvNt3z84+IAPHSV43QsMhYE6r7N+eCJzQv0p73/MR+Qe5TN4ejnsg8JAtdgmhz0qpsNft8pHidTT\n",
       "I0cCYNYPhYDsZz5N+N93kRLo55+y/VAQSH3CyfwtuSsLv7mURRcAAAAASUVORK5CYII=\n",
       "\" style=\"display:inline;vertical-align:middle;\" /></a></dd>"
      ],
      "text/plain": [
       "<IPython.core.display.HTML object>"
      ]
     },
     "metadata": {},
     "output_type": "display_data"
    },
    {
     "data": {
      "text/html": [
       "<dt><a class=\"ProveItLink\" href=\"../../_proofs_/orIfOnlyLeft.ipynb\">proveit.logic.boolean.disjunction.orIfOnlyLeft</a></dt><dd><a class=\"ProveItLink\" href=\"../eb45adf15a3b0d0f10e9e7493be4dac879d76bd00/expr.ipynb\"><img src=\"data:image/png;base64,iVBORw0KGgoAAAANSUhEUgAAALgAAAAXBAMAAABKV5jPAAAAMFBMVEX///8QEBC6urrMzMxUVFRm\n",
       "ZmZERETc3NwyMjKqqqp2dnaIiIiYmJgiIiLu7u4AAAAU9Wx4AAAAAXRSTlMAQObYZgAAArVJREFU\n",
       "SMe1VT9oE1EY/yV3uYTc5QxOOhnBwUHpDYKDfxI0VLcUJBUFSR1MFbS9odg4SEtB4iCaRXEzi1hB\n",
       "JINOHXJuFYfGIYsUDKLQJSiatio1+r33LnfP0AY59YN7f77fe7/3/XvvgP8preBbw7VBqJECGmzw\n",
       "KhD5AdEd6WfNdbLDc8Ap4DGb3w5E7u66w73gQ4u3oTGgkEIMuEqz6FgQbl1ExXjLIqtaviZNXToD\n",
       "o4oYQZFKEPKQSNe1gk2twuxLCE2dFEtVmEkYj6anrweKyl7R1eop1pXpuys05+l7TedcAtaKxTeB\n",
       "yM+Kkmk9cOASlwXQAUoT1D8EjgPjgAfdW80PW36KSGK2T+ihJLd4+46HmIdEEalTOgvPl9ngPrAH\n",
       "5ixPzGeRnyT0JBtoPcKllFRmPZRkO29TmBlx06uKhfo60M7QYDcdCZ379WGDQ5EMwusyuVlwfHIP\n",
       "JeHGKNlsThjcwIrQa3S6zsjS1DsiyU+bHErUEGnI5PH2iE/uoT1yCl6IO44zeCL028hq47sgN2f5\n",
       "TVNqRQ59tLBoy+SHNOkWeCjJTtZQESdEnEpwT02Tp+o3ERaMH2MqFec4NLTwbAIyecYzVUZJLrPr\n",
       "R+SxT3yqHnafGlbmM8ybRVZEfPNL1Dk0D7xoSeRGRWeb48Vi8aKEikrjYda6okiutLwyV3a03AUh\n",
       "dqLZzE9y8AL5XpHI2/nRrsumSSjJfno7dpVhTH4VSbkh1KM/s9mbvAbmmG2MNGIjzQuYgjVkSeSn\n",
       "oXzxyT2UGWX/fqmO9l0ys1ez2EdZdqJlRLuINqWYh8mGDZTcFPsoM6o6+AbHe8/9+zVEc8vKBuZX\n",
       "8ycrPrlJRTz1w0lzNxUJ/YOHeqX/nZfGmgw4m+2eGkx+om9+cAtyxd5sd3Tgb063+hTOFuTGv/5z\n",
       "q39P8QvA3bDV2z1EqwAAAABJRU5ErkJggg==\n",
       "\" style=\"display:inline;vertical-align:middle;\" /></a></dd>"
      ],
      "text/plain": [
       "<IPython.core.display.HTML object>"
      ]
     },
     "metadata": {},
     "output_type": "display_data"
    },
    {
     "data": {
      "text/html": [
       "<dt><a class=\"ProveItLink\" href=\"../../../_proofs_/trueInBool.ipynb\">proveit.logic.boolean.trueInBool</a></dt><dd><a class=\"ProveItLink\" href=\"../../../__pv_it/9f5690849bd61b8821dafe2919824d2ac18aea6c0/expr.ipynb\"><img src=\"data:image/png;base64,iVBORw0KGgoAAAANSUhEUgAAADYAAAAPBAMAAABdHiGLAAAAMFBMVEX///+qqqpUVFQQEBC6urrc\n",
       "3NyYmJgyMjKIiIju7u52dnbMzMxEREQiIiJmZmYAAADNQpwIAAAAAXRSTlMAQObYZgAAAJBJREFU\n",
       "GNNjeHsXBO4wIAOu+uPfbQ+CmfsY0AEPS8P0WQtwynE4FKDIcbbfvVsAlWNM0ESR256JpM/1ALIc\n",
       "60kkM/fmTECW4wlAyN39b4HizjkobmlEMdMZ5FOYWxgOeCHLbULWx3CAB1luLh45pgQUORQzOa8g\n",
       "ybG9ALtlF0wo/DU8rP9cVkQLR6FaiDshAAC+xzqFv6q7bgAAAABJRU5ErkJggg==\n",
       "\" style=\"display:inline;vertical-align:middle;\" /></a></dd>"
      ],
      "text/plain": [
       "<IPython.core.display.HTML object>"
      ]
     },
     "metadata": {},
     "output_type": "display_data"
    },
    {
     "data": {
      "text/html": [
       "</dl>"
      ],
      "text/plain": [
       "<IPython.core.display.HTML object>"
      ]
     },
     "metadata": {},
     "output_type": "display_data"
    }
   ],
   "source": [
    "%dependencies trueOrFalse"
   ]
  }
 ],
 "metadata": {
  "kernelspec": {
   "display_name": "Python 3",
   "language": "python",
   "name": "python3"
  }
 },
 "nbformat": 4,
 "nbformat_minor": 0
}
