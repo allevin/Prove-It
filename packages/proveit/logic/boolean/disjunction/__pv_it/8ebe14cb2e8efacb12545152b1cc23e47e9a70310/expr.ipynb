{
 "cells": [
  {
   "cell_type": "markdown",
   "metadata": {},
   "source": [
    "Expression of type <a class=\"ProveItLink\" href=\"../../../../../../../doc/html/api/proveit.ExprTuple.html\">ExprTuple</a>\n",
    "=======================\n",
    "# from context <a class=\"ProveItLink\" href=\"../../_context_.ipynb\">proveit.logic.boolean.disjunction</a>"
   ]
  },
  {
   "cell_type": "code",
   "execution_count": 1,
   "metadata": {},
   "outputs": [],
   "source": [
    "# import Expression classes needed to build the expression\n",
    "from proveit import ExprTuple, Variable\n",
    "from proveit._common_ import A\n",
    "from proveit.logic import Or"
   ]
  },
  {
   "cell_type": "code",
   "execution_count": 2,
   "metadata": {},
   "outputs": [
    {
     "data": {
      "text/html": [
       "<strong id=\"expr\">expr:</strong> <a class=\"ProveItLink\" href=\"expr.ipynb\"><img src=\"data:image/png;base64,iVBORw0KGgoAAAANSUhEUgAAAKQAAAAVBAMAAAA6DViiAAAAMFBMVEX////c3NwiIiJERESqqqqY\n",
       "mJh2dnZmZmYQEBDu7u4yMjJUVFTMzMyIiIi6uroAAAAs73DqAAAAAXRSTlMAQObYZgAAAmpJREFU\n",
       "OMu1lT1oFEEUgN/m7pLbvd31wFRK8EoLUYkKNpKAxYEo5gcsUsg1KhYRC7FSPMVGQbOViIVcChFB\n",
       "NCHlFTkCKUKKLAELQclipYJwKkESkuj7281ODCdb+GBn5s3O+3beezNvAf6D+CEsv9bx2GHuviUv\n",
       "L2alFSJsFgGuJTM8cqd47FYAelpZeHP43MLnFYF8nmoJ0glYc9rYNP7hotqJvCUrAC8kZIlmccjI\n",
       "j7JgZA2bC52RsZ04fQT3UqhBMSCkexSnugJBPuAFVvU7tk87I2M7lt47ZQC7Dl8lgpPYVSWWvjjr\n",
       "eVvY5gY7M9WOJVyh3ByHm4KsymtC9tR4wZf8Krbd102ENT597nZKVzuOa3B+CLsr8EKQuHlygpAO\n",
       "vQA7cjexy+/IzxMYGbqX0tWO5DksUVDPwGNBYohLkSCLkeTS+kVd3UTWYAXOpnS1I4ngALn0Gbb0\n",
       "NFbgmY728JLFZvMnxb9tIgOYMSfEjlY2m7O036UEeQMuGUhsHu6CBHhkqmInR7TYYOR9Be3D76nj\n",
       "lOQ8Pgd3cRysDbDTutihoFVXnR0/oaDSfKijHKWnVy9DocHeJjLsteG9cdjn5aBbg3rfxjDnAnL7\n",
       "Ax3RubGJNBCo8iMB5FdzdSs0Dnu/fJAimlvjQ/QpLhYv47LhV8A6uV6G0d845WBM7Qm8FaePoQT2\n",
       "qauX38WKMNkO9k5MQmFgHTfwBoplRS4klehuahN8If1yh/uzYKp4IfGa7yxu6VIxzvUgQ4HrDrW4\n",
       "GUhnOx0c00xIiun+v5DW1HY+2eUwA3KaAPijOKT6svwo+pIFH7L+KLwW/AEo65nwxDgBiQAAAABJ\n",
       "RU5ErkJggg==\n",
       "\" style=\"display:inline;vertical-align:middle;\" /></a><br>"
      ],
      "text/plain": [
       "expr: ([or](A) , _x_ or A)"
      ]
     },
     "execution_count": 2,
     "metadata": {},
     "output_type": "execute_result"
    }
   ],
   "source": [
    "# build up the expression from sub-expressions\n",
    "expr = ExprTuple(Or(A), Or(Variable(\"_x_\", latexFormat = r\"{_{-}x_{-}}\"), A))"
   ]
  },
  {
   "cell_type": "code",
   "execution_count": 3,
   "metadata": {},
   "outputs": [
    {
     "name": "stdout",
     "output_type": "stream",
     "text": [
      "Passed sanity check: built 'expr' is the same as the stored Expression.\n"
     ]
    }
   ],
   "source": [
    "# check that the built expression is the same as the stored expression\n",
    "%check_expr"
   ]
  },
  {
   "cell_type": "code",
   "execution_count": 4,
   "metadata": {},
   "outputs": [
    {
     "data": {
      "text/html": [
       "<table><tr><th>&nbsp;</th><th>core type</th><th>sub-expressions</th><th>expression</th></tr>\n",
       "<tr><td>0</td><td>ExprTuple</td><td>1, 2</td><td><a class=\"ProveItLink\" href=\"expr.ipynb\"><img src=\"data:image/png;base64,iVBORw0KGgoAAAANSUhEUgAAAKQAAAAVBAMAAAA6DViiAAAAMFBMVEX////c3NwiIiJERESqqqqY\n",
       "mJh2dnZmZmYQEBDu7u4yMjJUVFTMzMyIiIi6uroAAAAs73DqAAAAAXRSTlMAQObYZgAAAmpJREFU\n",
       "OMu1lT1oFEEUgN/m7pLbvd31wFRK8EoLUYkKNpKAxYEo5gcsUsg1KhYRC7FSPMVGQbOViIVcChFB\n",
       "NCHlFTkCKUKKLAELQclipYJwKkESkuj7281ODCdb+GBn5s3O+3beezNvAf6D+CEsv9bx2GHuviUv\n",
       "L2alFSJsFgGuJTM8cqd47FYAelpZeHP43MLnFYF8nmoJ0glYc9rYNP7hotqJvCUrAC8kZIlmccjI\n",
       "j7JgZA2bC52RsZ04fQT3UqhBMSCkexSnugJBPuAFVvU7tk87I2M7lt47ZQC7Dl8lgpPYVSWWvjjr\n",
       "eVvY5gY7M9WOJVyh3ByHm4KsymtC9tR4wZf8Krbd102ENT597nZKVzuOa3B+CLsr8EKQuHlygpAO\n",
       "vQA7cjexy+/IzxMYGbqX0tWO5DksUVDPwGNBYohLkSCLkeTS+kVd3UTWYAXOpnS1I4ngALn0Gbb0\n",
       "NFbgmY728JLFZvMnxb9tIgOYMSfEjlY2m7O036UEeQMuGUhsHu6CBHhkqmInR7TYYOR9Be3D76nj\n",
       "lOQ8Pgd3cRysDbDTutihoFVXnR0/oaDSfKijHKWnVy9DocHeJjLsteG9cdjn5aBbg3rfxjDnAnL7\n",
       "Ax3RubGJNBCo8iMB5FdzdSs0Dnu/fJAimlvjQ/QpLhYv47LhV8A6uV6G0d845WBM7Qm8FaePoQT2\n",
       "qauX38WKMNkO9k5MQmFgHTfwBoplRS4klehuahN8If1yh/uzYKp4IfGa7yxu6VIxzvUgQ4HrDrW4\n",
       "GUhnOx0c00xIiun+v5DW1HY+2eUwA3KaAPijOKT6svwo+pIFH7L+KLwW/AEo65nwxDgBiQAAAABJ\n",
       "RU5ErkJggg==\n",
       "\" style=\"display:inline;vertical-align:middle;\" /></a></td></tr>\n",
       "<tr><td>1</td><td>Operation</td><td>operator:&nbsp;4<br>operands:&nbsp;3<br></td><td><a class=\"ProveItLink\" href=\"../e12620ca8f0cea881d1734b7283761972f4403cf0/expr.ipynb\"><img src=\"data:image/png;base64,iVBORw0KGgoAAAANSUhEUgAAADkAAAAVBAMAAAAOWFv7AAAAMFBMVEX///8QEBCYmJhmZmaqqqrc\n",
       "3Nzu7u5ERERUVFS6urp2dnbMzMwyMjIiIiKIiIgAAACFNc/vAAAAAXRSTlMAQObYZgAAATZJREFU\n",
       "KM9jYMAL3p6GMnRugql5cBlNIF4J54FZ3A1gNvcFBgbmDSAxTjB/A0SWJwHM4/kAJA6AZDmAahj4\n",
       "HkBk30HM0f0GJLRAstwFQBZvAkRWDCzJ6vwVSCaCbTsKZDlD7OU8AJbl4/sJJNkdQGJAGZAKkCzz\n",
       "ArDsNJZPQJLLACQGNBVkOkiWRwEkyTaB+x+QYjkAEgO6iGMCRJZxAkiWk4H1M4gSAItdYMiB+pcf\n",
       "LLujo+M7yNMfwGImDItQZIGEDEI2BqgbarIDyD4gvogwmWPTA6gsO8hVIUB8HoiZwK5i4K5NgMoC\n",
       "PcHABvJzfQLMRwwMh2GxwHmBgbXwTwCD+n+gEM8EiOw2eByJIkVuIkYMaiHJrsOQhcYgOMQOYMiy\n",
       "NsD5HAHAlHMbloQgKScOLvuagQEA5phUhgAg/JYAAAAASUVORK5CYII=\n",
       "\" style=\"display:inline;vertical-align:middle;\" /></a></td></tr>\n",
       "<tr><td>2</td><td>Operation</td><td>operator:&nbsp;4<br>operands:&nbsp;5<br></td><td><a class=\"ProveItLink\" href=\"../f63eaace4d8f5b046fd2207a68577a8c159e6b2c0/expr.ipynb\"><img src=\"data:image/png;base64,iVBORw0KGgoAAAANSUhEUgAAAE0AAAAPBAMAAABTt1/kAAAAMFBMVEX///8yMjK6urrMzMwQEBAi\n",
       "IiKYmJhmZmZUVFSIiIh2dnbc3Nzu7u5ERESqqqoAAACmCtjVAAAAAXRSTlMAQObYZgAAAORJREFU\n",
       "KM9jYCACmOKUYQKTBlCePE51HCAlnBMgHLb4A7jUMV8AEqxQ6X31G3AaKA3Ez6HsCfMV4OLcK7tf\n",
       "ViKpew5VC3LrgfcJcPFTDKkJrkjqgHaC7QaCQwz2E+DiCxjmMzxGUgf0AwfUNgWG/QVw8QMMvagO\n",
       "DGA4CPVSR0f/BSQJT1R1dQzL4EHJIoAQ5/7MwIOsbiPQRDB4AHSsA1w4m/MDwxyUkDaDOJ4bqI7x\n",
       "A0yU7xuvA/cElJC+CgllkCt5/zAwvL0LBAd4bq5ZNQ3GgSgUB5N7/aUZ2O5/LMCdSGxQeAB8TTuE\n",
       "5UPXJQAAAABJRU5ErkJggg==\n",
       "\" style=\"display:inline;vertical-align:middle;\" /></a></td></tr>\n",
       "<tr><td>3</td><td>ExprTuple</td><td>7</td><td><a class=\"ProveItLink\" href=\"../b7d96af9ad4b1093cdfbc7f0db04afd2340d5b5e0/expr.ipynb\"><img src=\"data:image/png;base64,iVBORw0KGgoAAAANSUhEUgAAABwAAAAVBAMAAACnLJNvAAAAMFBMVEX////c3NwiIiJERESqqqqY\n",
       "mJh2dnZmZmYQEBDu7u4yMjJUVFTMzMyIiIi6uroAAAAs73DqAAAAAXRSTlMAQObYZgAAAMBJREFU\n",
       "GNNjYEADfBdgLNYHQOI0hH0IiGuAeCWEux6IuRgYeCFqWfUnAIkEBo4JYK5IvQADA2cDwyuI2gv3\n",
       "QeaYMJRBjJ/gHwCk0hmWgrnzGM6DzPBi6ANzHzDIFwCpFwz/QDye3bv3GwDp8xAuHwMDxwIwtwXE\n",
       "dWBgYGoAKzYFkoxALtcHICMKaDYDwywgZv4JtugRA4Nw/0IGVvtfQKPXMXAIIPwKdCTQ2XDAdgHu\n",
       "QQaoGdII7kaQLfDA4T3AAAAlziv4kp0h2wAAAABJRU5ErkJggg==\n",
       "\" style=\"display:inline;vertical-align:middle;\" /></a></td></tr>\n",
       "<tr><td>4</td><td>Literal</td><td></td><td><a class=\"ProveItLink\" href=\"../087d0b4ded7c7e5bf3bba05ecb616d7a8051ff650/expr.ipynb\"><img src=\"data:image/png;base64,iVBORw0KGgoAAAANSUhEUgAAAAwAAAAOBAMAAADpk+DfAAAALVBMVEX///+YmJh2dnZmZmaqqqrc\n",
       "3NwyMjLu7u4iIiJERESIiIhUVFTMzMy6uroAAAD0I/TTAAAAAXRSTlMAQObYZgAAAEtJREFUCNdj\n",
       "uMAABDwMe0DUKoaTIKqdgS2AgYHFAITAzHYGsMQqBoa9QIqDgT0BSDE7MAkAKdYEDpAehj1SYOpk\n",
       "O5hiMwBTPAUMDAB33Atnw8aG2QAAAABJRU5ErkJggg==\n",
       "\" style=\"display:inline;vertical-align:middle;\" /></a></td></tr>\n",
       "<tr><td>5</td><td>ExprTuple</td><td>6, 7</td><td><a class=\"ProveItLink\" href=\"../e3e058d75a8d02117b8366ee45b4f81a2986618f0/expr.ipynb\"><img src=\"data:image/png;base64,iVBORw0KGgoAAAANSUhEUgAAAE0AAAAVBAMAAADx+n4ZAAAAMFBMVEX////c3NwiIiJERESqqqqY\n",
       "mJh2dnZmZmYQEBDu7u4yMjJUVFTMzMyIiIi6uroAAAAs73DqAAAAAXRSTlMAQObYZgAAAR5JREFU\n",
       "KM9jYCAW8F0gqCQORJzGr4ZHgYGB/QCQsRK/Oq4PQGIBAwMvAWuDfgKJMAYGjgl4lTG6fwSSMxgY\n",
       "XuE3jpf3H5BkdmAoQ4iJ3Ra5ju6KlyxfgSRbAcNSuBBnAqsqhwKqMs4HPH+BFMsChj64GBsD7weW\n",
       "A2iBy8D4HUQ1MPxD6GXgNkB33unduz+DAvEDkjqg3zHC6AEDQxdEXQuSqPwBBtRQYgFiDYi9pnBB\n",
       "VoH7DLxwdWCGCBCvB0ktYEiHq/MPsGCQhTv2E4gAxheD/QRwuDwCmm4MBJYMk69Nyw2AcTj7BRgY\n",
       "LX4JMAT/Xw6M5AcMHAI4khuyODDeWBOwq2NF5uTiTlfI6sDulMauDjkouUFuYCSc7u8wMAAAf1M+\n",
       "TbetYTsAAAAASUVORK5CYII=\n",
       "\" style=\"display:inline;vertical-align:middle;\" /></a></td></tr>\n",
       "<tr><td>6</td><td>Variable</td><td></td><td><a class=\"ProveItLink\" href=\"../5144cf74ae6a683b49b974f1b9302b432abf7e930/expr.ipynb\"><img src=\"data:image/png;base64,iVBORw0KGgoAAAANSUhEUgAAACUAAAAJBAMAAABH3vh9AAAAKlBMVEX////MzMwQEBAiIiKYmJhm\n",
       "ZmZUVFSIiIh2dnbc3Nzu7u5ERESqqqoAAABwkVEpAAAAAXRSTlMAQObYZgAAAEtJREFUCNdjYIAA\n",
       "zvbM4+EMqGAFg7ODMppYA0Mtw0E0sQUM2QyYQB1TiPMiAxeakCf7BYYqVCGeK9wKnAUw3undQLCA\n",
       "a3tXRwmMAwC3+RVNp6j0GAAAAABJRU5ErkJggg==\n",
       "\" style=\"display:inline;vertical-align:middle;\" /></a></td></tr>\n",
       "<tr><td>7</td><td>Variable</td><td></td><td><a class=\"ProveItLink\" href=\"../../../../../__pv_it/2cbe72a7ad6f655694dd697106680215e8489b600/expr.ipynb\"><img src=\"data:image/png;base64,iVBORw0KGgoAAAANSUhEUgAAAA8AAAAOBAMAAAACpFvcAAAALVBMVEX///8QEBBERERUVFS6urqI\n",
       "iIhmZmaqqqrc3Nzu7u6YmJgyMjIiIiLMzMwAAADtIaYWAAAAAXRSTlMAQObYZgAAAFtJREFUCNdj\n",
       "YACBOwxQsA9Kc52bAGG05zVAGAFxDmCaZULdAjBjCsO9ADDDgaEvAUTzGhvbKYCVMDAwbgAxChgY\n",
       "eASANAeQwf0AyJgNxEwvGRia5HYwcOm9TgAA6BoR3jrzwFcAAAAASUVORK5CYII=\n",
       "\" style=\"display:inline;vertical-align:middle;\" /></a></td></tr>\n",
       "</table>\n"
      ],
      "text/plain": [
       "0. ([or](A) , _x_ or A)\n",
       "   core type: ExprTuple\n",
       "   sub-expressions: 1, 2\n",
       "1. [or](A)\n",
       "   core type: Operation\n",
       "   operator: 4\n",
       "   operands: 3\n",
       "2. _x_ or A\n",
       "   core type: Operation\n",
       "   operator: 4\n",
       "   operands: 5\n",
       "3. (A)\n",
       "   core type: ExprTuple\n",
       "   sub-expressions: 7\n",
       "4. or\n",
       "   core type: Literal\n",
       "   sub-expressions: \n",
       "5. (_x_ , A)\n",
       "   core type: ExprTuple\n",
       "   sub-expressions: 6, 7\n",
       "6. _x_\n",
       "   core type: Variable\n",
       "   sub-expressions: \n",
       "7. A\n",
       "   core type: Variable\n",
       "   sub-expressions: "
      ]
     },
     "execution_count": 4,
     "metadata": {},
     "output_type": "execute_result"
    }
   ],
   "source": [
    "# display the expression information\n",
    "expr.exprInfo()"
   ]
  },
  {
   "cell_type": "code",
   "execution_count": null,
   "metadata": {},
   "outputs": [],
   "source": []
  }
 ],
 "metadata": {
  "kernelspec": {
   "display_name": "Python 3",
   "language": "python",
   "name": "python3"
  }
 },
 "nbformat": 4,
 "nbformat_minor": 0
}
