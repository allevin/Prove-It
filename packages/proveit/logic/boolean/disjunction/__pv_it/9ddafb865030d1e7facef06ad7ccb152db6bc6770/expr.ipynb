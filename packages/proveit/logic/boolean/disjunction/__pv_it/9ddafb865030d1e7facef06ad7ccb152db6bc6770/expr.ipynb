{
 "cells": [
  {
   "cell_type": "markdown",
   "metadata": {},
   "source": [
    "Expression of type <a class=\"ProveItLink\" href=\"../../../../../../../doc/html/api/proveit.logic.Set.html\">Set</a>\n",
    "=======================\n",
    "# from context <a class=\"ProveItLink\" href=\"../../_context_.ipynb\">proveit.logic.boolean.disjunction</a>"
   ]
  },
  {
   "cell_type": "code",
   "execution_count": 1,
   "metadata": {},
   "outputs": [],
   "source": [
    "# import Expression classes needed to build the expression\n",
    "from proveit._common_ import G\n",
    "from proveit.logic import Booleans, InSet, Set"
   ]
  },
  {
   "cell_type": "code",
   "execution_count": 2,
   "metadata": {},
   "outputs": [
    {
     "data": {
      "text/html": [
       "<strong id=\"expr\">expr:</strong> <a class=\"ProveItLink\" href=\"expr.ipynb\"><img src=\"data:image/png;base64,iVBORw0KGgoAAAANSUhEUgAAAEoAAAAVBAMAAAATJmVgAAAAMFBMVEX////c3NxERESqqqpUVFS6\n",
       "urrMzMwyMjIQEBCIiIh2dnYiIiLu7u5mZmaYmJgAAABXZE4RAAAAAXRSTlMAQObYZgAAAT1JREFU\n",
       "KM9jYGDgu8eAD2QtBJE8uxjwgwwDIMH5Aax2ku89xgvIklz16t+7lYEM3gIQrwEktuIBA+uNByhm\n",
       "MLFOOH5qAVQBmDi+B0isF0BXxRlQgKyq4gCQyAZL8kzfvbsAqor5gQ+SKt7PIGFZsKr0N0hmBSog\n",
       "qZIHaz4IIhh1kGzMfnQAqgrkhfsIdzMJIFTt/t8JpPlAgZARwMCwH+HuQyiunwy0kaGWgSGlDUj/\n",
       "B+K55VoguYjduxGuZ1CIAjHqgMIJDAwdINH1ASAyBdksBgUmIAMUOSxAjf6ggKgHy53GUAV2F9cG\n",
       "Bob8CUDPfQfLsTxAURWFFBJ8/4BWQWKdZyuSKr6byOHFkFJy98EziKT4NXhsf9rhzICsChmYVEP8\n",
       "CE8cWFWhA7ACPkKqwOmLZyehtAoOR77FBNM9ADRFXEOmuHhjAAAAAElFTkSuQmCC\n",
       "\" style=\"display:inline;vertical-align:middle;\" /></a><br>"
      ],
      "text/plain": [
       "expr: {G in BOOLEANS}"
      ]
     },
     "execution_count": 2,
     "metadata": {},
     "output_type": "execute_result"
    }
   ],
   "source": [
    "# build up the expression from sub-expressions\n",
    "expr = Set(InSet(G, Booleans))"
   ]
  },
  {
   "cell_type": "code",
   "execution_count": 3,
   "metadata": {},
   "outputs": [
    {
     "name": "stdout",
     "output_type": "stream",
     "text": [
      "Passed sanity check: built 'expr' is the same as the stored Expression.\n"
     ]
    }
   ],
   "source": [
    "# check that the built expression is the same as the stored expression\n",
    "%check_expr"
   ]
  },
  {
   "cell_type": "code",
   "execution_count": 4,
   "metadata": {},
   "outputs": [
    {
     "data": {
      "text/html": [
       "<table><tr><th>&nbsp;</th><th>core type</th><th>sub-expressions</th><th>expression</th></tr>\n",
       "<tr><td>0</td><td>Operation</td><td>operator:&nbsp;1<br>operands:&nbsp;2<br></td><td><a class=\"ProveItLink\" href=\"expr.ipynb\"><img src=\"data:image/png;base64,iVBORw0KGgoAAAANSUhEUgAAAEoAAAAVBAMAAAATJmVgAAAAMFBMVEX////c3NxERESqqqpUVFS6\n",
       "urrMzMwyMjIQEBCIiIh2dnYiIiLu7u5mZmaYmJgAAABXZE4RAAAAAXRSTlMAQObYZgAAAT1JREFU\n",
       "KM9jYGDgu8eAD2QtBJE8uxjwgwwDIMH5Aax2ku89xgvIklz16t+7lYEM3gIQrwEktuIBA+uNByhm\n",
       "MLFOOH5qAVQBmDi+B0isF0BXxRlQgKyq4gCQyAZL8kzfvbsAqor5gQ+SKt7PIGFZsKr0N0hmBSog\n",
       "qZIHaz4IIhh1kGzMfnQAqgrkhfsIdzMJIFTt/t8JpPlAgZARwMCwH+HuQyiunwy0kaGWgSGlDUj/\n",
       "B+K55VoguYjduxGuZ1CIAjHqgMIJDAwdINH1ASAyBdksBgUmIAMUOSxAjf6ggKgHy53GUAV2F9cG\n",
       "Bob8CUDPfQfLsTxAURWFFBJ8/4BWQWKdZyuSKr6byOHFkFJy98EziKT4NXhsf9rhzICsChmYVEP8\n",
       "CE8cWFWhA7ACPkKqwOmLZyehtAoOR77FBNM9ADRFXEOmuHhjAAAAAElFTkSuQmCC\n",
       "\" style=\"display:inline;vertical-align:middle;\" /></a></td></tr>\n",
       "<tr><td>1</td><td>Literal</td><td></td><td><a class=\"ProveItLink\" href=\"../../../../set_theory/enumeration/__pv_it/07381ed5b23806e8d7914b78cb6667769e3708dd0/expr.ipynb\"><img src=\"data:image/png;base64,iVBORw0KGgoAAAANSUhEUgAAAB4AAAAOBAMAAADKyLEKAAAAMFBMVEX///8iIiIQEBCIiIjMzMzc\n",
       "3Nyqqqp2dnZEREQyMjK6urru7u5mZmZUVFSYmJgAAACI6eGPAAAAAXRSTlMAQObYZgAAALRJREFU\n",
       "CNdjYGDgu3Nm3wIGBJjHwN0PZW5yYGDgLWBgyITy8zcwMMQDxZyh/INAvD6BgcEFypcB4vjPDiBm\n",
       "TPFRrhs/LjMwMP//38rAwCbKEMPA9gEkE3fp0waG+AUMRxh4JkC01T9guPTOOICBEWgVH5C//wHD\n",
       "H5D4fqCz9oCMDGD4DLaegRXslLMMDMpAgxlOMmQxHDRgYG5gYLBk4D7KcIe7gOHC2rt9QCXsh40Z\n",
       "GCKMGQDRkC8N/Ph1XAAAAABJRU5ErkJggg==\n",
       "\" style=\"display:inline;vertical-align:middle;\" /></a></td></tr>\n",
       "<tr><td>2</td><td>ExprTuple</td><td>3</td><td><a class=\"ProveItLink\" href=\"../ec644c600bb905cba0520ebbb516305398fdf2210/expr.ipynb\"><img src=\"data:image/png;base64,iVBORw0KGgoAAAANSUhEUgAAAEQAAAAVBAMAAAAN71XTAAAAMFBMVEX////c3NwiIiJERESqqqqY\n",
       "mJh2dnZmZmYQEBDu7u4yMjJUVFTMzMyIiIi6uroAAAAs73DqAAAAAXRSTlMAQObYZgAAAVFJREFU\n",
       "KM9jYCAC8F3AJ8v6AEicBrHmWpcHiKPIZX1ev0LZgYGhBsheCcRsrQwMz1tR9Ru85VyZxsDAxcDA\n",
       "C7SHc9EEoLKP6EoY7gHlWRMYOICyXJ1AIR4FsMzcRUpaMCWu3BMYOBsYXgF59UA7GRgLQBI8Sycg\n",
       "mSIMpE0YyoCSv0BCnAIgUngCwiIeVUsgnc6wlIGB/SvCBYYItzzS/wEKDy+GPgYGJoRDOQ2QnXvX\n",
       "GUi/YPjHwMD/AeixqsUJoHBsUlJCOJeZDyh2HqSEowEUNP/Art2AbAozgwFISQsDA/dPoAjXB7BF\n",
       "ChhKXjCYArX+BYrILwBLbEVRArIoCugnBob4AAaeTQlgiUkPkJSEXwZ7+hHIBbu2l7IeAEswLj8A\n",
       "j0ajblCQrmPgEECNGpZdUB/BgqEBFE14AdsFSGLAA2YBsTR+JRtBDsSbMHkPMAAAeZ1W2bZE260A\n",
       "AAAASUVORK5CYII=\n",
       "\" style=\"display:inline;vertical-align:middle;\" /></a></td></tr>\n",
       "<tr><td>3</td><td>Operation</td><td>operator:&nbsp;4<br>operands:&nbsp;5<br></td><td><a class=\"ProveItLink\" href=\"../410ec7b3af71c40cfaa32a322bb2b993944d8fe00/expr.ipynb\"><img src=\"data:image/png;base64,iVBORw0KGgoAAAANSUhEUgAAADYAAAAPBAMAAABdHiGLAAAAMFBMVEX///+qqqrMzMwiIiIyMjK6\n",
       "uroQEBB2dnbc3NyYmJhmZmZUVFRERESIiIju7u4AAACtjd3MAAAAAXRSTlMAQObYZgAAANtJREFU\n",
       "GNNjYGDgu7NrJccCBiTA7n/kS/JBEKtsAgPrsgnIcgw8rBeePC9gYHhiB+TUN6DL8QY4MDC4PQBy\n",
       "lMFCfFeMjR2gcowT9jFwfQRxusByKvOQ9EUcYOgHK3wBIjjOIZmpPOcBw3qEK3gaEHLG/3MZGOwR\n",
       "rniD4paLBxj+A5m3XI6DRMKMjRFuYTgQzpAGYtcHgEhtZH0MB3gY9oO84A8WeYwup38B6MAvYBHu\n",
       "CShy4QycP4GGmUO8bookx7n2AFDCe9WESRChlkXwsP5jtpEBFUg7Q9wJAQDY4kKvNKEA/gAAAABJ\n",
       "RU5ErkJggg==\n",
       "\" style=\"display:inline;vertical-align:middle;\" /></a></td></tr>\n",
       "<tr><td>4</td><td>Literal</td><td></td><td><a class=\"ProveItLink\" href=\"../../../../set_theory/membership/__pv_it/088cbc857536a28d4119ad9639a84270ccb0545d0/expr.ipynb\"><img src=\"data:image/png;base64,iVBORw0KGgoAAAANSUhEUgAAAAwAAAAMBAMAAACkW0HUAAAALVBMVEX///+qqqpmZmZUVFQQEBC6\n",
       "urpERETc3NyYmJjMzMwiIiIyMjKIiIju7u4AAACYsrA9AAAAAXRSTlMAQObYZgAAADxJREFUCNdj\n",
       "YOA9vWrVBgaG2b0MQMCeCyIZ2ArA1DUwyRCyahVIyWQI7xaEYm4AU7xLIdxqTQgtvGvVBgCkcQ7e\n",
       "geM/tQAAAABJRU5ErkJggg==\n",
       "\" style=\"display:inline;vertical-align:middle;\" /></a></td></tr>\n",
       "<tr><td>5</td><td>ExprTuple</td><td>6, 7</td><td><a class=\"ProveItLink\" href=\"../656a0ba49936a5ffa57cfd2f32f146e082cf1cc70/expr.ipynb\"><img src=\"data:image/png;base64,iVBORw0KGgoAAAANSUhEUgAAADQAAAAVBAMAAAD7ptBLAAAAMFBMVEX////c3NwiIiJERESqqqqY\n",
       "mJh2dnZmZmYQEBDu7u4yMjJUVFTMzMyIiIi6uroAAAAs73DqAAAAAXRSTlMAQObYZgAAAS1JREFU\n",
       "KM9jYMAD+C5gE2V9ACROg1hzrcsDxMFiWZ/Xr1B2YGCoAbJXAjFbKwPD81aIeoO3nCvTGBi4GBh4\n",
       "geZxLpoAlP4Ik2K4BxRnTWDgAIpydQKFeBTgUq7cExg4GxheAXn1QLMZGAsQuoSBtAlDGVDwF0iI\n",
       "UwAmxaNqCaTTGZYyMLB/RXa2wSP9HyD/eDH0MTAwfUSRestw1xlIv2D4x8DA/wHo0KrFCXApZj4g\n",
       "+zxIiqMB5LV/CF3MDAYgqRYGBu6fQBGuD2hSLxhMgT76CxSRX8DAMAHZwCigGxkY4gMYeDYlMHB+\n",
       "gkqFXwY7/hEoIHZtL2U9wMDZLwAOXqNuUBCsY+AQQIofJDYwoFgTkCIJyXtsFyCRgkVqFhBLI7jI\n",
       "8b0RFOJYEwDvAQYADkFPjQlcUkMAAAAASUVORK5CYII=\n",
       "\" style=\"display:inline;vertical-align:middle;\" /></a></td></tr>\n",
       "<tr><td>6</td><td>Variable</td><td></td><td><a class=\"ProveItLink\" href=\"../../../../../__pv_it/994260d00d104a1ab9cf940a007fb6a4ff36f79e0/expr.ipynb\"><img src=\"data:image/png;base64,iVBORw0KGgoAAAANSUhEUgAAAA8AAAAOBAMAAAACpFvcAAAAMFBMVEX///+qqqrMzMwiIiIyMjK6\n",
       "uroQEBB2dnbc3NyYmJhmZmZUVFRERESIiIju7u4AAACtjd3MAAAAAXRSTlMAQObYZgAAAG5JREFU\n",
       "CNdjYGDgu7NrJccCBgaGsgkMrMsmMDA8sQNy6hsYGNweABnKDAxcH4E0QxcDQ78DiPGCgWH9BAYI\n",
       "sG+AMv4D8S2X4wwMaSBefQADw36Qbn8g1r/AwMDxBcjg/MnAoG0Oktf2XjVhEgMDAJHQGYM57+uu\n",
       "AAAAAElFTkSuQmCC\n",
       "\" style=\"display:inline;vertical-align:middle;\" /></a></td></tr>\n",
       "<tr><td>7</td><td>Literal</td><td></td><td><a class=\"ProveItLink\" href=\"../../../__pv_it/46271c8230be96415d662709611f4ed2279d702b0/expr.ipynb\"><img src=\"data:image/png;base64,iVBORw0KGgoAAAANSUhEUgAAAA0AAAAOBAMAAAAGUYvhAAAAMFBMVEX///9mZmbMzMzc3NxUVFSY\n",
       "mJju7u6IiIi6urqqqqoiIiIQEBBEREQyMjJ2dnYAAAAQvcRZAAAAAXRSTlMAQObYZgAAAElJREFU\n",
       "CNdjePvn/u01ExgYGA60s117B6YZKngh9FSWBAjfBsxnWnoMRHet/10AkS+fA6F5OB5AaIYDqDRU\n",
       "PLCGgQFoz6ktExgAgLIl8DFvGtkAAAAASUVORK5CYII=\n",
       "\" style=\"display:inline;vertical-align:middle;\" /></a></td></tr>\n",
       "</table>\n"
      ],
      "text/plain": [
       "0. {G in BOOLEANS}\n",
       "   core type: Operation\n",
       "   operator: 1\n",
       "   operands: 2\n",
       "1. Set\n",
       "   core type: Literal\n",
       "   sub-expressions: \n",
       "2. (G in BOOLEANS)\n",
       "   core type: ExprTuple\n",
       "   sub-expressions: 3\n",
       "3. G in BOOLEANS\n",
       "   core type: Operation\n",
       "   operator: 4\n",
       "   operands: 5\n",
       "4. in\n",
       "   core type: Literal\n",
       "   sub-expressions: \n",
       "5. (G , BOOLEANS)\n",
       "   core type: ExprTuple\n",
       "   sub-expressions: 6, 7\n",
       "6. G\n",
       "   core type: Variable\n",
       "   sub-expressions: \n",
       "7. BOOLEANS\n",
       "   core type: Literal\n",
       "   sub-expressions: "
      ]
     },
     "execution_count": 4,
     "metadata": {},
     "output_type": "execute_result"
    }
   ],
   "source": [
    "# display the expression information\n",
    "expr.exprInfo()"
   ]
  },
  {
   "cell_type": "code",
   "execution_count": null,
   "metadata": {},
   "outputs": [],
   "source": []
  }
 ],
 "metadata": {
  "kernelspec": {
   "display_name": "Python 3",
   "language": "python",
   "name": "python3"
  }
 },
 "nbformat": 4,
 "nbformat_minor": 0
}
