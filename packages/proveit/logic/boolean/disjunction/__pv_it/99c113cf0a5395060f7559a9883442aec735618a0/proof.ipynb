{
 "cells": [
  {
   "cell_type": "markdown",
   "metadata": {},
   "source": [
    "Show the Proof\n",
    "========"
   ]
  },
  {
   "cell_type": "code",
   "execution_count": 1,
   "metadata": {},
   "outputs": [
    {
     "data": {
      "text/html": [
       "<table><tr><th>&nbsp;</th><th>step type</th><th>requirements</th><th>statement</th></tr>\n",
       "<tr><td>0</td><td>assumption</td><td></td><td><span style=\"font-size:20px;\"><a class=\"ProveItLink\" href=\"../45fc1ad36b0719b6352bcbd856bc00335eb3f3b70/expr.ipynb\"><img src=\"data:image/png;base64,iVBORw0KGgoAAAANSUhEUgAAAFUAAAAVBAMAAADFg78FAAAAMFBMVEX////c3NxERESqqqpUVFS6\n",
       "urrMzMwyMjIQEBCIiIh2dnYiIiLu7u5mZmaYmJgAAABXZE4RAAAAAXRSTlMAQObYZgAAAVxJREFU\n",
       "KM9jYGDgu8dAELCtEgBRPLsYiABszSCS8wOI8P/i4q6GRQ1IwqW+gIHhOojH1QAi+YFcewMsikES\n",
       "zAoMDCsQavMXMDDw/oGr4IGz4icAiQsoaucHAN30E66C/QCMtT4BqHMCilp9IGb8AlfL6gBj1TMw\n",
       "LGAQQFH7CeRXhFqGlTDGJwa+ByAarJa3gAFqPd8vEP/2bhDYfwFqwXeXenDQvgcRGQGgoPkGJFi+\n",
       "IvnfPABMcX1jYIf4AKg5pQ3EYgIFMkcDklqeCrBi9g8MXAxsIJY60CkRCaBQVABZ8wBJbfoaSPAq\n",
       "MDAynAQyuBeAbAa5Nx8Uik0MCPfu1kEK3jUw93JtAAUv0HCmGiRjTZCCl/ECA3KYAYOXrRZJKWMB\n",
       "IngZshOQ1PJc+u/iopuApJZJAOJBJ6CE928GFHMxkiCGCG61DNjV8hGnFpx+eXYSlS9awRTfYiLz\n",
       "GwB16FvcgO7HFAAAAABJRU5ErkJggg==\n",
       "\" style=\"display:inline;vertical-align:middle;\" /></a> <a class=\"ProveItLink\" href=\"proof.ipynb\" style=\"text-decoration: none\">&#x22A2;&nbsp;</a><a class=\"ProveItLink\" href=\"../cee40b4a9b489c3d4247540fa3c44bc6ac0efa7d0/expr.ipynb\"><img src=\"data:image/png;base64,iVBORw0KGgoAAAANSUhEUgAAAEIAAAAPBAMAAACivARpAAAAMFBMVEX///8iIiIQEBCYmJjc3Ny6\n",
       "urru7u5mZmZ2dnaqqqrMzMxEREQyMjJUVFSIiIgAAABUCcz6AAAAAXRSTlMAQObYZgAAAO9JREFU\n",
       "GNNjYGB4+//u3dMLGDABSOLOHxALSHD+xKICJMEwG4i5fgCJ+gS4OJzF+g9IsAMx31cgsf4BXMUx\n",
       "GIPjF5DIA2LuD0DC/wJcRSyMwfOBgYOBBcjg3wAyA6GCA2YcUMIYzABbYN8AslMQDL5DVcSfvfMF\n",
       "zHgP8un9AIQXOI9C6P4FDAfAjP0gQgnZlzmqYOo8A0MDA0j7byBm/oykgOsExMNACQc2oBO4QL5m\n",
       "ArkW5g7pBERwcADZfCBf70lAcsYFpOBwhwbHmgIkS3wQwcHAJcXAkL7/793bVcju3AKhcoESd+UF\n",
       "sMUXWjQDANExSC49x9IOAAAAAElFTkSuQmCC\n",
       "\" style=\"display:inline;vertical-align:middle;\" /></a></span></td></tr>\n",
       "</table>"
      ],
      "text/plain": [
       "<proveit._core_.proof._ShowProof at 0x7f94ebe347b8>"
      ]
     },
     "execution_count": 1,
     "metadata": {},
     "output_type": "execute_result"
    }
   ],
   "source": [
    "import proveit\n",
    "%show_proof"
   ]
  },
  {
   "cell_type": "code",
   "execution_count": null,
   "metadata": {},
   "outputs": [],
   "source": []
  }
 ],
 "metadata": {
  "kernelspec": {
   "display_name": "Python 3",
   "language": "python",
   "name": "python3"
  }
 },
 "nbformat": 4,
 "nbformat_minor": 0
}
