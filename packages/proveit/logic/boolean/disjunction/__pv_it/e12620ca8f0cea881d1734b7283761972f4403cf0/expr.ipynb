{
 "cells": [
  {
   "cell_type": "markdown",
   "metadata": {},
   "source": [
    "Expression of type <a class=\"ProveItLink\" href=\"../../../../../../../doc/html/api/proveit.logic.Or.html\">Or</a>\n",
    "=======================\n",
    "# from context <a class=\"ProveItLink\" href=\"../../_context_.ipynb\">proveit.logic.boolean.disjunction</a>"
   ]
  },
  {
   "cell_type": "code",
   "execution_count": 1,
   "metadata": {},
   "outputs": [],
   "source": [
    "# import Expression classes needed to build the expression\n",
    "from proveit._common_ import A\n",
    "from proveit.logic import Or"
   ]
  },
  {
   "cell_type": "code",
   "execution_count": 2,
   "metadata": {},
   "outputs": [
    {
     "data": {
      "text/html": [
       "<strong id=\"expr\">expr:</strong> <a class=\"ProveItLink\" href=\"expr.ipynb\"><img src=\"data:image/png;base64,iVBORw0KGgoAAAANSUhEUgAAADkAAAAVBAMAAAAOWFv7AAAAMFBMVEX///8QEBCYmJhmZmaqqqrc\n",
       "3Nzu7u5ERERUVFS6urp2dnbMzMwyMjIiIiKIiIgAAACFNc/vAAAAAXRSTlMAQObYZgAAATZJREFU\n",
       "KM9jYMAL3p6GMnRugql5cBlNIF4J54FZ3A1gNvcFBgbmDSAxTjB/A0SWJwHM4/kAJA6AZDmAahj4\n",
       "HkBk30HM0f0GJLRAstwFQBZvAkRWDCzJ6vwVSCaCbTsKZDlD7OU8AJbl4/sJJNkdQGJAGZAKkCzz\n",
       "ArDsNJZPQJLLACQGNBVkOkiWRwEkyTaB+x+QYjkAEgO6iGMCRJZxAkiWk4H1M4gSAItdYMiB+pcf\n",
       "LLujo+M7yNMfwGImDItQZIGEDEI2BqgbarIDyD4gvogwmWPTA6gsO8hVIUB8HoiZwK5i4K5NgMoC\n",
       "PcHABvJzfQLMRwwMh2GxwHmBgbXwTwCD+n+gEM8EiOw2eByJIkVuIkYMaiHJrsOQhcYgOMQOYMiy\n",
       "NsD5HAHAlHMbloQgKScOLvuagQEA5phUhgAg/JYAAAAASUVORK5CYII=\n",
       "\" style=\"display:inline;vertical-align:middle;\" /></a><br>"
      ],
      "text/plain": [
       "expr: [or](A)"
      ]
     },
     "execution_count": 2,
     "metadata": {},
     "output_type": "execute_result"
    }
   ],
   "source": [
    "# build up the expression from sub-expressions\n",
    "expr = Or(A)"
   ]
  },
  {
   "cell_type": "code",
   "execution_count": 3,
   "metadata": {},
   "outputs": [
    {
     "name": "stdout",
     "output_type": "stream",
     "text": [
      "Passed sanity check: built 'expr' is the same as the stored Expression.\n"
     ]
    }
   ],
   "source": [
    "# check that the built expression is the same as the stored expression\n",
    "%check_expr"
   ]
  },
  {
   "cell_type": "code",
   "execution_count": 4,
   "metadata": {},
   "outputs": [
    {
     "data": {
      "text/html": [
       "<table><tr><th>&nbsp;</th><th>core type</th><th>sub-expressions</th><th>expression</th></tr>\n",
       "<tr><td>0</td><td>Operation</td><td>operator:&nbsp;1<br>operands:&nbsp;2<br></td><td><a class=\"ProveItLink\" href=\"expr.ipynb\"><img src=\"data:image/png;base64,iVBORw0KGgoAAAANSUhEUgAAADkAAAAVBAMAAAAOWFv7AAAAMFBMVEX///8QEBCYmJhmZmaqqqrc\n",
       "3Nzu7u5ERERUVFS6urp2dnbMzMwyMjIiIiKIiIgAAACFNc/vAAAAAXRSTlMAQObYZgAAATZJREFU\n",
       "KM9jYMAL3p6GMnRugql5cBlNIF4J54FZ3A1gNvcFBgbmDSAxTjB/A0SWJwHM4/kAJA6AZDmAahj4\n",
       "HkBk30HM0f0GJLRAstwFQBZvAkRWDCzJ6vwVSCaCbTsKZDlD7OU8AJbl4/sJJNkdQGJAGZAKkCzz\n",
       "ArDsNJZPQJLLACQGNBVkOkiWRwEkyTaB+x+QYjkAEgO6iGMCRJZxAkiWk4H1M4gSAItdYMiB+pcf\n",
       "LLujo+M7yNMfwGImDItQZIGEDEI2BqgbarIDyD4gvogwmWPTA6gsO8hVIUB8HoiZwK5i4K5NgMoC\n",
       "PcHABvJzfQLMRwwMh2GxwHmBgbXwTwCD+n+gEM8EiOw2eByJIkVuIkYMaiHJrsOQhcYgOMQOYMiy\n",
       "NsD5HAHAlHMbloQgKScOLvuagQEA5phUhgAg/JYAAAAASUVORK5CYII=\n",
       "\" style=\"display:inline;vertical-align:middle;\" /></a></td></tr>\n",
       "<tr><td>1</td><td>Literal</td><td></td><td><a class=\"ProveItLink\" href=\"../087d0b4ded7c7e5bf3bba05ecb616d7a8051ff650/expr.ipynb\"><img src=\"data:image/png;base64,iVBORw0KGgoAAAANSUhEUgAAAAwAAAAOBAMAAADpk+DfAAAALVBMVEX///+YmJh2dnZmZmaqqqrc\n",
       "3NwyMjLu7u4iIiJERESIiIhUVFTMzMy6uroAAAD0I/TTAAAAAXRSTlMAQObYZgAAAEtJREFUCNdj\n",
       "uMAABDwMe0DUKoaTIKqdgS2AgYHFAITAzHYGsMQqBoa9QIqDgT0BSDE7MAkAKdYEDpAehj1SYOpk\n",
       "O5hiMwBTPAUMDAB33Atnw8aG2QAAAABJRU5ErkJggg==\n",
       "\" style=\"display:inline;vertical-align:middle;\" /></a></td></tr>\n",
       "<tr><td>2</td><td>ExprTuple</td><td>3</td><td><a class=\"ProveItLink\" href=\"../b7d96af9ad4b1093cdfbc7f0db04afd2340d5b5e0/expr.ipynb\"><img src=\"data:image/png;base64,iVBORw0KGgoAAAANSUhEUgAAABwAAAAVBAMAAACnLJNvAAAAMFBMVEX////c3NwiIiJERESqqqqY\n",
       "mJh2dnZmZmYQEBDu7u4yMjJUVFTMzMyIiIi6uroAAAAs73DqAAAAAXRSTlMAQObYZgAAAMBJREFU\n",
       "GNNjYEADfBdgLNYHQOI0hH0IiGuAeCWEux6IuRgYeCFqWfUnAIkEBo4JYK5IvQADA2cDwyuI2gv3\n",
       "QeaYMJRBjJ/gHwCk0hmWgrnzGM6DzPBi6ANzHzDIFwCpFwz/QDye3bv3GwDp8xAuHwMDxwIwtwXE\n",
       "dWBgYGoAKzYFkoxALtcHICMKaDYDwywgZv4JtugRA4Nw/0IGVvtfQKPXMXAIIPwKdCTQ2XDAdgHu\n",
       "QQaoGdII7kaQLfDA4T3AAAAlziv4kp0h2wAAAABJRU5ErkJggg==\n",
       "\" style=\"display:inline;vertical-align:middle;\" /></a></td></tr>\n",
       "<tr><td>3</td><td>Variable</td><td></td><td><a class=\"ProveItLink\" href=\"../../../../../__pv_it/2cbe72a7ad6f655694dd697106680215e8489b600/expr.ipynb\"><img src=\"data:image/png;base64,iVBORw0KGgoAAAANSUhEUgAAAA8AAAAOBAMAAAACpFvcAAAALVBMVEX///8QEBBERERUVFS6urqI\n",
       "iIhmZmaqqqrc3Nzu7u6YmJgyMjIiIiLMzMwAAADtIaYWAAAAAXRSTlMAQObYZgAAAFtJREFUCNdj\n",
       "YACBOwxQsA9Kc52bAGG05zVAGAFxDmCaZULdAjBjCsO9ADDDgaEvAUTzGhvbKYCVMDAwbgAxChgY\n",
       "eASANAeQwf0AyJgNxEwvGRia5HYwcOm9TgAA6BoR3jrzwFcAAAAASUVORK5CYII=\n",
       "\" style=\"display:inline;vertical-align:middle;\" /></a></td></tr>\n",
       "</table>\n"
      ],
      "text/plain": [
       "0. [or](A)\n",
       "   core type: Operation\n",
       "   operator: 1\n",
       "   operands: 2\n",
       "1. or\n",
       "   core type: Literal\n",
       "   sub-expressions: \n",
       "2. (A)\n",
       "   core type: ExprTuple\n",
       "   sub-expressions: 3\n",
       "3. A\n",
       "   core type: Variable\n",
       "   sub-expressions: "
      ]
     },
     "execution_count": 4,
     "metadata": {},
     "output_type": "execute_result"
    }
   ],
   "source": [
    "# display the expression information\n",
    "expr.exprInfo()"
   ]
  },
  {
   "cell_type": "code",
   "execution_count": null,
   "metadata": {},
   "outputs": [],
   "source": []
  }
 ],
 "metadata": {
  "kernelspec": {
   "display_name": "Python 3",
   "language": "python",
   "name": "python3"
  }
 },
 "nbformat": 4,
 "nbformat_minor": 0
}
