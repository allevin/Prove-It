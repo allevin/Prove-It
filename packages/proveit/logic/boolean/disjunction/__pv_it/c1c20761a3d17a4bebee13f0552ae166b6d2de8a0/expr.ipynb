{
 "cells": [
  {
   "cell_type": "markdown",
   "metadata": {},
   "source": [
    "Expression of type <a class=\"ProveItLink\" href=\"../../../../../../../doc/html/api/proveit.ExprTuple.html\">ExprTuple</a>\n",
    "=======================\n",
    "# from context <a class=\"ProveItLink\" href=\"../../_context_.ipynb\">proveit.logic.boolean.disjunction</a>"
   ]
  },
  {
   "cell_type": "code",
   "execution_count": 1,
   "metadata": {},
   "outputs": [],
   "source": [
    "# import Expression classes needed to build the expression\n",
    "from proveit import ExprTuple\n",
    "from proveit._common_ import C\n",
    "from proveit.logic import Booleans, InSet\n",
    "from proveit.number import Exp, four"
   ]
  },
  {
   "cell_type": "code",
   "execution_count": 2,
   "metadata": {},
   "outputs": [
    {
     "data": {
      "text/html": [
       "<strong id=\"expr\">expr:</strong> <a class=\"ProveItLink\" href=\"expr.ipynb\"><img src=\"data:image/png;base64,iVBORw0KGgoAAAANSUhEUgAAAE4AAAAcBAMAAAA9wpTSAAAAMFBMVEX///+qqqp2dnYiIiJERESI\n",
       "iIhmZmYQEBDc3NyYmJgyMjLu7u5UVFTMzMy6uroAAACGxKilAAAAAXRSTlMAQObYZgAAAZtJREFU\n",
       "OMtjYCAEuBiIA/IboIx3eJVx629gUAAxeA/gVce6fwPDHRBj1wa86i4C1bEGABkn8TtPAaiOwYKB\n",
       "gaMAxNvqkzahDUVe68v65SYCDJwNIHUxDAxsCUBBpkoGhmeVqAY5POVercSwlQGkDojZHwD9tBjI\n",
       "ZvqBro4hjotBLC0/k4GBeQLDfVBQVgMJPrADGLYuNraCqZPkAervB2I2B4ZwoFC+AJDgSACH0soN\n",
       "SOa1MDBwnj8IJD4wnAKq+AUO0AsgsmUDwl5eS28om+83gw/Q1J8IV3kg3PfY/nsAlM37l2EZ0JUI\n",
       "H3A7IPsjVATK5vjHYMbAwP8BrARsQbGxMcIfLHwKUO0fQerYwepk0SIbpI7BAW7eGgYGnt8gNti7\n",
       "3AbY1f1lOAI05CsoSiAePYmiDmYv3w+GYCA1X4CBLwMisvkBkrppIVA2MPzeg1x16lgizGfLLsDT\n",
       "gXONAFSUaQED/wXUaGU8BfUvSh4JYOBRICKP7G9g4DUgQt0UIHYkQp0tEHcRVsYJCltGwg5sAZMT\n",
       "CarLZiAaAACIU2sHiWJ9sAAAAABJRU5ErkJggg==\n",
       "\" style=\"display:inline;vertical-align:middle;\" /></a><br>"
      ],
      "text/plain": [
       "expr: (C in BOOLEANS^{4})"
      ]
     },
     "execution_count": 2,
     "metadata": {},
     "output_type": "execute_result"
    }
   ],
   "source": [
    "# build up the expression from sub-expressions\n",
    "expr = ExprTuple(InSet(C, Exp(Booleans, four)))"
   ]
  },
  {
   "cell_type": "code",
   "execution_count": 3,
   "metadata": {},
   "outputs": [
    {
     "name": "stdout",
     "output_type": "stream",
     "text": [
      "Passed sanity check: built 'expr' is the same as the stored Expression.\n"
     ]
    }
   ],
   "source": [
    "# check that the built expression is the same as the stored expression\n",
    "%check_expr"
   ]
  },
  {
   "cell_type": "code",
   "execution_count": 4,
   "metadata": {},
   "outputs": [
    {
     "data": {
      "text/html": [
       "<table><tr><th>&nbsp;</th><th>core type</th><th>sub-expressions</th><th>expression</th></tr>\n",
       "<tr><td>0</td><td>ExprTuple</td><td>1</td><td><a class=\"ProveItLink\" href=\"expr.ipynb\"><img src=\"data:image/png;base64,iVBORw0KGgoAAAANSUhEUgAAAE4AAAAcBAMAAAA9wpTSAAAAMFBMVEX///+qqqp2dnYiIiJERESI\n",
       "iIhmZmYQEBDc3NyYmJgyMjLu7u5UVFTMzMy6uroAAACGxKilAAAAAXRSTlMAQObYZgAAAZtJREFU\n",
       "OMtjYCAEuBiIA/IboIx3eJVx629gUAAxeA/gVce6fwPDHRBj1wa86i4C1bEGABkn8TtPAaiOwYKB\n",
       "gaMAxNvqkzahDUVe68v65SYCDJwNIHUxDAxsCUBBpkoGhmeVqAY5POVercSwlQGkDojZHwD9tBjI\n",
       "ZvqBro4hjotBLC0/k4GBeQLDfVBQVgMJPrADGLYuNraCqZPkAervB2I2B4ZwoFC+AJDgSACH0soN\n",
       "SOa1MDBwnj8IJD4wnAKq+AUO0AsgsmUDwl5eS28om+83gw/Q1J8IV3kg3PfY/nsAlM37l2EZ0JUI\n",
       "H3A7IPsjVATK5vjHYMbAwP8BrARsQbGxMcIfLHwKUO0fQerYwepk0SIbpI7BAW7eGgYGnt8gNti7\n",
       "3AbY1f1lOAI05CsoSiAePYmiDmYv3w+GYCA1X4CBLwMisvkBkrppIVA2MPzeg1x16lgizGfLLsDT\n",
       "gXONAFSUaQED/wXUaGU8BfUvSh4JYOBRICKP7G9g4DUgQt0UIHYkQp0tEHcRVsYJCltGwg5sAZMT\n",
       "CarLZiAaAACIU2sHiWJ9sAAAAABJRU5ErkJggg==\n",
       "\" style=\"display:inline;vertical-align:middle;\" /></a></td></tr>\n",
       "<tr><td>1</td><td>Operation</td><td>operator:&nbsp;2<br>operands:&nbsp;3<br></td><td><a class=\"ProveItLink\" href=\"../f577737ee407cb71af2c9709e375e67ef58ef0590/expr.ipynb\"><img src=\"data:image/png;base64,iVBORw0KGgoAAAANSUhEUgAAAD8AAAAVBAMAAAADRiu8AAAAMFBMVEX////MzMyqqqoiIiIyMjK6\n",
       "uroQEBB2dnbc3NyYmJhmZmZUVFRERESIiIju7u4AAAB204erAAAAAXRSTlMAQObYZgAAAQRJREFU\n",
       "KM9jYMALHPBLMzD9I6DgOSEF9wgoYNQjoICdD6yA786ulRwLUCT8j3xJPsTAMAOioGwCA+uyCSha\n",
       "eVgvPHlewHcBrOCJHZCob0BXwBvgwLRq1S+gRrcHQJEwsDjfFWNjB6gCpgn7GBg4gCZwfQKJdIEV\n",
       "iMxDMiHiAAPD7N8KDP1gLQ9BBMc5JCuE5zyAsNcjnMfTgFBg/D8XyrZHOO8NiiMvHYCw/4NJsHFh\n",
       "xsYIRzIcCIcoyAfHmgCIlEY2geEAD4S9H6SZC8x8jFWB/AUgUQdmck9AUQC1ghMYDlEQh/KZIing\n",
       "XAt1JIO09yoFKLNlITyy/phtwha/2s7G6KkQAIYYT/2cDNLIAAAAAElFTkSuQmCC\n",
       "\" style=\"display:inline;vertical-align:middle;\" /></a></td></tr>\n",
       "<tr><td>2</td><td>Literal</td><td></td><td><a class=\"ProveItLink\" href=\"../../../../set_theory/membership/__pv_it/088cbc857536a28d4119ad9639a84270ccb0545d0/expr.ipynb\"><img src=\"data:image/png;base64,iVBORw0KGgoAAAANSUhEUgAAAAwAAAAMBAMAAACkW0HUAAAALVBMVEX///+qqqpmZmZUVFQQEBC6\n",
       "urpERETc3NyYmJjMzMwiIiIyMjKIiIju7u4AAACYsrA9AAAAAXRSTlMAQObYZgAAADxJREFUCNdj\n",
       "YOA9vWrVBgaG2b0MQMCeCyIZ2ArA1DUwyRCyahVIyWQI7xaEYm4AU7xLIdxqTQgtvGvVBgCkcQ7e\n",
       "geM/tQAAAABJRU5ErkJggg==\n",
       "\" style=\"display:inline;vertical-align:middle;\" /></a></td></tr>\n",
       "<tr><td>3</td><td>ExprTuple</td><td>4, 5</td><td><a class=\"ProveItLink\" href=\"../0c315e4c67fe3490969531fd9224186e9d5366700/expr.ipynb\"><img src=\"data:image/png;base64,iVBORw0KGgoAAAANSUhEUgAAAD0AAAAcBAMAAAAgvKpJAAAAMFBMVEX///+qqqp2dnYiIiJERESI\n",
       "iIhmZmYQEBDc3NyYmJgyMjLu7u5UVFTMzMy6uroAAACGxKilAAAAAXRSTlMAQObYZgAAAX1JREFU\n",
       "KM9jYMAFFjDgBYy/Yax3WOU3/WZgAjN4D2CVj/4Nldm1AZs0rzTQ/FAQ6yRW7UzcQHnmBgYGjgIQ\n",
       "lzvkWCZHAkh8vdevYkcGhhkgeVagBWwgUQb1CQx86RNALBa+gF2bFLgDQPIgzP4A5AZrIKHfAJVn\n",
       "fbCAMS3tG1C5JQPDfZDgcpAbnzNA5RknnAbaC/J/CgNDOJBi+wiSaYPJs75wYGCY80eAgWE+A8Mp\n",
       "oFg/OCz3wuQvT4F5+f0GBh8glT8B4TEWPuP/pTDO/QsMy4CUfQOyfABroAOU0/+AwQxI/QdzNsDk\n",
       "GRweQeX3C4Dl68ERdgEhz4LQvwZInQdpZWPAIn+B4QjIGQFAQhtiA4r57xsYgoEUJ9D/zxoYuD9D\n",
       "5DlTYe4D+v89iL6zJg0YGtz1DaD4+WJ+EOYZLQYG/gsIv/E1oMXyUgYGHgUElxNNmvsHMKEY4Jbn\n",
       "BLnDEcEPQJNnBtndhTuNTwOHmwIuaQ6INyfikmfbwEAQAAAjEWLHAsJKHwAAAABJRU5ErkJggg==\n",
       "\" style=\"display:inline;vertical-align:middle;\" /></a></td></tr>\n",
       "<tr><td>4</td><td>Variable</td><td></td><td><a class=\"ProveItLink\" href=\"../../../../../__pv_it/985a1bdf1540838275dec15f4ad6de261cca93ce0/expr.ipynb\"><img src=\"data:image/png;base64,iVBORw0KGgoAAAANSUhEUgAAAA8AAAAOBAMAAAACpFvcAAAAMFBMVEX////MzMyqqqoiIiIyMjK6\n",
       "uroQEBB2dnbc3NyYmJhmZmZUVFRERESIiIju7u4AAAB204erAAAAAXRSTlMAQObYZgAAAGZJREFU\n",
       "CNdjYGDgu7NrJccCBgaGsgkMrMsmMDA8sQNy6hsYGNweABlhDAxcn4A0QxcDQ78DiPGQgWH9BAYI\n",
       "sG+AMv6DSaCGfBDNJMDAsB+kmwuI5S8AiTog5gSaEwXWIO29SgFIAQBC+RaDQlidVgAAAABJRU5E\n",
       "rkJggg==\n",
       "\" style=\"display:inline;vertical-align:middle;\" /></a></td></tr>\n",
       "<tr><td>5</td><td>Operation</td><td>operator:&nbsp;6<br>operands:&nbsp;7<br></td><td><a class=\"ProveItLink\" href=\"../2a67cfb1d5e4f1919e496e6aad098b5cd7560a810/expr.ipynb\"><img src=\"data:image/png;base64,iVBORw0KGgoAAAANSUhEUgAAABYAAAAUBAMAAAB7UtADAAAAMFBMVEX///9mZmbMzMzc3NxUVFSY\n",
       "mJju7u6IiIi6urqqqqoiIiIQEBBEREQyMjJ2dnYAAAAQvcRZAAAAAXRSTlMAQObYZgAAAHdJREFU\n",
       "CNdjYIABXgYEmJ8AZ7K9R7DZ8xFsTST2AyD77Z/7t9dMYGA1AIkfaGe79o4hnQHCZqjgZZgoKC8K\n",
       "Zk9lAYrZQ8VtGBhY/T1BbKalx6CGHeha/7sAxm5nKJ+DYPNwPECwGQ5gZyOpCayBMIFuO7VlApgJ\n",
       "AMGLMBpL2829AAAAAElFTkSuQmCC\n",
       "\" style=\"display:inline;vertical-align:middle;\" /></a></td></tr>\n",
       "<tr><td>6</td><td>Literal</td><td></td><td><a class=\"ProveItLink\" href=\"../../../../../number/exponentiation/__pv_it/deb2bf23cbccdd6e6791e1b35b5b9794ce12dbd50/expr.ipynb\"><img src=\"data:image/png;base64,iVBORw0KGgoAAAANSUhEUgAAACgAAAASBAMAAADbMYGVAAAAMFBMVEX///8QEBAiIiKYmJjc3Nzu\n",
       "7u7MzMx2dnZmZma6urpERESqqqoyMjJUVFSIiIgAAAAoDOMTAAAAAXRSTlMAQObYZgAAAOBJREFU\n",
       "GNNjYGB4+//u3Tt/GNAASGAXmhjnPyDBgSbI/g1IxKEJ8nxgYGdgQRPkX8BgDKRY6q7s62OYvmze\n",
       "2wAgb/7ZO1+AVDiDkYEQQ0HTBr4DQF59AgOIKmB4z7CNbcNZBu6vQN55kEACQwDDLQYGVobfDHwg\n",
       "fb8YGBxYHwAZciD3fWXg+gB1JjvQcJZvQIXsCgz8F6DO9GBgMOH7wPCUgaeBwd4B7EwGNjUG7s9c\n",
       "AiwPgO5jkWRgiF3/9+5dfQUG1nWl5Y+B7pv+1gE9bBhqGLCAE1jEWH9jEbT5A3IwAC4sP/1L6Qlu\n",
       "AAAAAElFTkSuQmCC\n",
       "\" style=\"display:inline;vertical-align:middle;\" /></a></td></tr>\n",
       "<tr><td>7</td><td>ExprTuple</td><td>8, 9</td><td><a class=\"ProveItLink\" href=\"../99d9e2a7ce1678a36d25eb1d98e07cd4f4d6b5730/expr.ipynb\"><img src=\"data:image/png;base64,iVBORw0KGgoAAAANSUhEUgAAAC0AAAAVBAMAAAAgHXppAAAAMFBMVEX////c3NwiIiJERESqqqqY\n",
       "mJh2dnZmZmYQEBDu7u4yMjJUVFTMzMyIiIi6uroAAAAs73DqAAAAAXRSTlMAQObYZgAAAQJJREFU\n",
       "GNNjYMAF+C5gCMWBiNMMWZ/Xr1B2gAnybGBgPwCkVzIwGLzlXJkGE2cyYGBYwMDAewEkznCPCyZ+\n",
       "AygexsDAMQEs7so9ASLMGAUUn8HA8IoBol4YqpyNCyjO7MBQBhbnUbWEigeCxNkKGJaCxB/p/4C6\n",
       "lvMCSJxlAUMfxJy7zlBjGEDifA0M/yDizHwJYHEfsDjPB7g4gwHYmASYeAuKOMvu3fu7L4DMMUWY\n",
       "A/EBB1AB6wKGdIh4+GUGzk9wcaA7HzGAws2o24GBs18A5KD93wMYuB4wcAggQhzOBIYDawJcnBXO\n",
       "yoWEM7o4JzCcGaTh4vCI4wYZyIgZj3cYGADgx0Rx/3IEeAAAAABJRU5ErkJggg==\n",
       "\" style=\"display:inline;vertical-align:middle;\" /></a></td></tr>\n",
       "<tr><td>8</td><td>Literal</td><td></td><td><a class=\"ProveItLink\" href=\"../../../__pv_it/46271c8230be96415d662709611f4ed2279d702b0/expr.ipynb\"><img src=\"data:image/png;base64,iVBORw0KGgoAAAANSUhEUgAAAA0AAAAOBAMAAAAGUYvhAAAAMFBMVEX///9mZmbMzMzc3NxUVFSY\n",
       "mJju7u6IiIi6urqqqqoiIiIQEBBEREQyMjJ2dnYAAAAQvcRZAAAAAXRSTlMAQObYZgAAAElJREFU\n",
       "CNdjePvn/u01ExgYGA60s117B6YZKngh9FSWBAjfBsxnWnoMRHet/10AkS+fA6F5OB5AaIYDqDRU\n",
       "PLCGgQFoz6ktExgAgLIl8DFvGtkAAAAASUVORK5CYII=\n",
       "\" style=\"display:inline;vertical-align:middle;\" /></a></td></tr>\n",
       "<tr><td>9</td><td>Literal</td><td></td><td><a class=\"ProveItLink\" href=\"../../../../../number/numeral/__pv_it/23412ce59ea7e77353d2f9225e02248e73651ca00/expr.ipynb\"><img src=\"data:image/png;base64,iVBORw0KGgoAAAANSUhEUgAAAAoAAAAPBAMAAAAv0UM9AAAALVBMVEX///9mZmaqqqru7u52dnYy\n",
       "MjKYmJjc3NwQEBCIiIhEREQiIiJUVFTMzMwAAACUDTcXAAAAAXRSTlMAQObYZgAAAD5JREFUCNdj\n",
       "YGBguMMAArtABGcXiCyLApEOIJKtAERaMoBIBxDJdAFEmjCASJ0zZ16cBCkF64KQPu/EwBwGACv6\n",
       "DSRgin9qAAAAAElFTkSuQmCC\n",
       "\" style=\"display:inline;vertical-align:middle;\" /></a></td></tr>\n",
       "</table>\n"
      ],
      "text/plain": [
       "0. (C in BOOLEANS^{4})\n",
       "   core type: ExprTuple\n",
       "   sub-expressions: 1\n",
       "1. C in BOOLEANS^{4}\n",
       "   core type: Operation\n",
       "   operator: 2\n",
       "   operands: 3\n",
       "2. in\n",
       "   core type: Literal\n",
       "   sub-expressions: \n",
       "3. (C , BOOLEANS^{4})\n",
       "   core type: ExprTuple\n",
       "   sub-expressions: 4, 5\n",
       "4. C\n",
       "   core type: Variable\n",
       "   sub-expressions: \n",
       "5. BOOLEANS^{4}\n",
       "   core type: Operation\n",
       "   operator: 6\n",
       "   operands: 7\n",
       "6. Exp\n",
       "   core type: Literal\n",
       "   sub-expressions: \n",
       "7. (BOOLEANS , 4)\n",
       "   core type: ExprTuple\n",
       "   sub-expressions: 8, 9\n",
       "8. BOOLEANS\n",
       "   core type: Literal\n",
       "   sub-expressions: \n",
       "9. 4\n",
       "   core type: Literal\n",
       "   sub-expressions: "
      ]
     },
     "execution_count": 4,
     "metadata": {},
     "output_type": "execute_result"
    }
   ],
   "source": [
    "# display the expression information\n",
    "expr.exprInfo()"
   ]
  },
  {
   "cell_type": "code",
   "execution_count": null,
   "metadata": {},
   "outputs": [],
   "source": []
  }
 ],
 "metadata": {
  "kernelspec": {
   "display_name": "Python 3",
   "language": "python",
   "name": "python3"
  }
 },
 "nbformat": 4,
 "nbformat_minor": 0
}
