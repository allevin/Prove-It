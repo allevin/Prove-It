{
 "cells": [
  {
   "cell_type": "markdown",
   "metadata": {},
   "source": [
    "Expression of type <a class=\"ProveItLink\" href=\"../../../../../../../doc/html/api/proveit.logic.Set.html\">Set</a>\n",
    "=======================\n",
    "# from context <a class=\"ProveItLink\" href=\"../../_context_.ipynb\">proveit.logic.boolean.disjunction</a>"
   ]
  },
  {
   "cell_type": "code",
   "execution_count": 1,
   "metadata": {},
   "outputs": [],
   "source": [
    "# import Expression classes needed to build the expression\n",
    "from proveit._common_ import C, D\n",
    "from proveit.logic import Not, Or, Set"
   ]
  },
  {
   "cell_type": "code",
   "execution_count": 2,
   "metadata": {},
   "outputs": [
    {
     "data": {
      "text/html": [
       "<strong id=\"expr\">expr:</strong> <a class=\"ProveItLink\" href=\"expr.ipynb\"><img src=\"data:image/png;base64,iVBORw0KGgoAAAANSUhEUgAAAIcAAAAVBAMAAACeZ+BxAAAAMFBMVEX////c3NxERESqqqpUVFS6\n",
       "urrMzMwyMjIQEBCIiIh2dnYiIiLu7u5mZmaYmJgAAABXZE4RAAAAAXRSTlMAQObYZgAAAjxJREFU\n",
       "OMudlD1oFEEUx/+57O3eXnY310kKMRDQQsTrrMQIB1YhKWMhXHFFCsldwICFgVPRSjBYBFLlwEYl\n",
       "MWnzAVqZlEFBBUmyjQTSJGgiKEJ8783c7OxuKhd25u3Mb/4z72MHQLSL/3/cNxXugjVub2dnv+f4\n",
       "HBKNscpjNv0jNoeTueDFyG7PdljP7pkg/uhx7dZF4DN/fOGm3KbGe5/Qr2IUv8ZosV2UEdGzkX6a\n",
       "vFGFJ7gRmU+AzQ1qlis44A+H1/uzSCNodoDwL6JOSuRZAtznHceBLfFhkJo+OYOFYIGi4f5G0LZF\n",
       "ii0zH/7k9jxQqLIxRe91caxliVylt+cYGLJFwo6ZvyDwBxrfhhaYEvGOJfKDD0kiS12RkFZ5sZnf\n",
       "65q9okauiEs2wp5Qgv8A16g/5JEJ8q9E77d1etbwrqLJYhsqqA6Xg43A/8UxP5HQwaMTN55yysb0\n",
       "ygZOpadQukdirWBTZTVBUOCpEm3S5IFLdMbxeop4Lq7UjcgnvM2J9LODh7ES6eNgOeR7qWqIUc5n\n",
       "aNzBOTqLuJMgaHLhPFKVoGJSJqgQG0KARQ6cyqkzKaVmI1iggxYekL1vp1ilk+OOiOrkDgdXj7mX\n",
       "VblbCJeJO8P2UqrYVpL8Ne7tyMk9HYQZnSyDBB9Pa7Ur8j9Np8r+Yf6m2NL9Xd2fgaTLXv1t6ed1\n",
       "5vsMpDzbFYmyV4HepZUZyCOqguQ+CVb5bxrOAk4lM5BHcJPj/ETdci+pGcgCc7klOcSv6zv2H23K\n",
       "kEsgz231AAAAAElFTkSuQmCC\n",
       "\" style=\"display:inline;vertical-align:middle;\" /></a><br>"
      ],
      "text/plain": [
       "expr: {[not](C) or [not](D)}"
      ]
     },
     "execution_count": 2,
     "metadata": {},
     "output_type": "execute_result"
    }
   ],
   "source": [
    "# build up the expression from sub-expressions\n",
    "expr = Set(Or(Not(C), Not(D)))"
   ]
  },
  {
   "cell_type": "code",
   "execution_count": 3,
   "metadata": {},
   "outputs": [
    {
     "name": "stdout",
     "output_type": "stream",
     "text": [
      "Passed sanity check: built 'expr' is the same as the stored Expression.\n"
     ]
    }
   ],
   "source": [
    "# check that the built expression is the same as the stored expression\n",
    "%check_expr"
   ]
  },
  {
   "cell_type": "code",
   "execution_count": 4,
   "metadata": {},
   "outputs": [
    {
     "data": {
      "text/html": [
       "<table><tr><th>&nbsp;</th><th>core type</th><th>sub-expressions</th><th>expression</th></tr>\n",
       "<tr><td>0</td><td>Operation</td><td>operator:&nbsp;1<br>operands:&nbsp;2<br></td><td><a class=\"ProveItLink\" href=\"expr.ipynb\"><img src=\"data:image/png;base64,iVBORw0KGgoAAAANSUhEUgAAAIcAAAAVBAMAAACeZ+BxAAAAMFBMVEX////c3NxERESqqqpUVFS6\n",
       "urrMzMwyMjIQEBCIiIh2dnYiIiLu7u5mZmaYmJgAAABXZE4RAAAAAXRSTlMAQObYZgAAAjxJREFU\n",
       "OMudlD1oFEEUx/+57O3eXnY310kKMRDQQsTrrMQIB1YhKWMhXHFFCsldwICFgVPRSjBYBFLlwEYl\n",
       "MWnzAVqZlEFBBUmyjQTSJGgiKEJ8783c7OxuKhd25u3Mb/4z72MHQLSL/3/cNxXugjVub2dnv+f4\n",
       "HBKNscpjNv0jNoeTueDFyG7PdljP7pkg/uhx7dZF4DN/fOGm3KbGe5/Qr2IUv8ZosV2UEdGzkX6a\n",
       "vFGFJ7gRmU+AzQ1qlis44A+H1/uzSCNodoDwL6JOSuRZAtznHceBLfFhkJo+OYOFYIGi4f5G0LZF\n",
       "ii0zH/7k9jxQqLIxRe91caxliVylt+cYGLJFwo6ZvyDwBxrfhhaYEvGOJfKDD0kiS12RkFZ5sZnf\n",
       "65q9okauiEs2wp5Qgv8A16g/5JEJ8q9E77d1etbwrqLJYhsqqA6Xg43A/8UxP5HQwaMTN55yysb0\n",
       "ygZOpadQukdirWBTZTVBUOCpEm3S5IFLdMbxeop4Lq7UjcgnvM2J9LODh7ES6eNgOeR7qWqIUc5n\n",
       "aNzBOTqLuJMgaHLhPFKVoGJSJqgQG0KARQ6cyqkzKaVmI1iggxYekL1vp1ilk+OOiOrkDgdXj7mX\n",
       "VblbCJeJO8P2UqrYVpL8Ne7tyMk9HYQZnSyDBB9Pa7Ur8j9Np8r+Yf6m2NL9Xd2fgaTLXv1t6ed1\n",
       "5vsMpDzbFYmyV4HepZUZyCOqguQ+CVb5bxrOAk4lM5BHcJPj/ETdci+pGcgCc7klOcSv6zv2H23K\n",
       "kEsgz231AAAAAElFTkSuQmCC\n",
       "\" style=\"display:inline;vertical-align:middle;\" /></a></td></tr>\n",
       "<tr><td>1</td><td>Literal</td><td></td><td><a class=\"ProveItLink\" href=\"../../../../set_theory/enumeration/__pv_it/07381ed5b23806e8d7914b78cb6667769e3708dd0/expr.ipynb\"><img src=\"data:image/png;base64,iVBORw0KGgoAAAANSUhEUgAAAB4AAAAOBAMAAADKyLEKAAAAMFBMVEX///8iIiIQEBCIiIjMzMzc\n",
       "3Nyqqqp2dnZEREQyMjK6urru7u5mZmZUVFSYmJgAAACI6eGPAAAAAXRSTlMAQObYZgAAALRJREFU\n",
       "CNdjYGDgu3Nm3wIGBJjHwN0PZW5yYGDgLWBgyITy8zcwMMQDxZyh/INAvD6BgcEFypcB4vjPDiBm\n",
       "TPFRrhs/LjMwMP//38rAwCbKEMPA9gEkE3fp0waG+AUMRxh4JkC01T9guPTOOICBEWgVH5C//wHD\n",
       "H5D4fqCz9oCMDGD4DLaegRXslLMMDMpAgxlOMmQxHDRgYG5gYLBk4D7KcIe7gOHC2rt9QCXsh40Z\n",
       "GCKMGQDRkC8N/Ph1XAAAAABJRU5ErkJggg==\n",
       "\" style=\"display:inline;vertical-align:middle;\" /></a></td></tr>\n",
       "<tr><td>2</td><td>ExprTuple</td><td>3</td><td><a class=\"ProveItLink\" href=\"../8be881f0612a5eadefe20519075b73cbcf4033dd0/expr.ipynb\"><img src=\"data:image/png;base64,iVBORw0KGgoAAAANSUhEUgAAAIEAAAAVBAMAAACTeZA2AAAAMFBMVEX////c3NwiIiJERESqqqqY\n",
       "mJh2dnZmZmYQEBDu7u4yMjJUVFTMzMyIiIi6uroAAAAs73DqAAAAAXRSTlMAQObYZgAAAgFJREFU\n",
       "OMulVDssg1EU/lr696Glm8Egsdk6sDDoLAaTQYJuJkklwiJph0pYpBuRSBpisEjFIFGhiY1Bd0Rj\n",
       "IaaKR+LtnHPv/+7mJN953PP19J57z/2B/0t7TcEloXozmlsmNXChYcrm4MJoJxa9fAfl6rdS2a4i\n",
       "XIUAuxpajCXgfgkxCWQncXEdFHwArS9ACYJETUFLdKtIVZ4QynB0zOqGlYOC+BupXBFjZAiRooKW\n",
       "2Ar3nEc0z9EZq15WDgoSP6Qua1gnQ3iEgpZcmlQgC/RJvSTtNws3BS0NUt1ltBCXME/RvJUMfEgr\n",
       "dD7T7PCvuYqTAnSkeA9lGJQl7FC0YyXDr6Y3DN2BdOKgSAPAVAatdIyEVYoI4R6WTPDJpD1An+KJ\n",
       "ODYFuOUrPK3zcTH4VH7MQy53NKQL/iNZCSJaEsemAEPsLJPfELgrRKTCiFUhnDZGfRWeeWhfrQoF\n",
       "CgtWuu2dbdbqIlAKqpRNQfybbzcFs4t+CvuttGQNvvtxtXQ8oaxNQeKL7ABxQiUB39q0eXxVTKXR\n",
       "Pgt77axXWQeFx+Gct6lv847cO8fEHh3OibOnZzSrrE1ZG/qsHMjDi9UFERqYSNL35tVUU0U9zU0o\n",
       "5lTzE1LPyCWG53PQhIIZDc/r1rLhXfBTeFJkWro03LLvXfBT2pIKCNQUXJKoevk+Cq4V/gBuJ5KG\n",
       "WKPJsgAAAABJRU5ErkJggg==\n",
       "\" style=\"display:inline;vertical-align:middle;\" /></a></td></tr>\n",
       "<tr><td>3</td><td>Operation</td><td>operator:&nbsp;4<br>operands:&nbsp;5<br></td><td><a class=\"ProveItLink\" href=\"../5ad28abb0fcfc5abf4fccda0de15258c5ab27d570/expr.ipynb\"><img src=\"data:image/png;base64,iVBORw0KGgoAAAANSUhEUgAAAHEAAAAVBAMAAACDNRyvAAAAMFBMVEX////c3NwiIiJERESqqqqY\n",
       "mJh2dnZmZmYQEBDu7u4yMjJUVFTMzMyIiIi6uroAAAAs73DqAAAAAXRSTlMAQObYZgAAAdZJREFU\n",
       "OMudlDtIA0EQhv+8Lg8TtbOwEOzSpdBGC1OLRSoLQZPOSjhBtBGSQkEbSacIwqFY2EjEQjCiB3Za\n",
       "mF7FYKNYJWgEo0Z3Zi93650guMXs7H/f7M3ezB7w/9FZcQmh6p8IpshcKsLW8EKmB4tuTkGuv8rl\n",
       "HRNhU/h7jqwtAw/LiPGC3xxnV0HQBIIvgAEknEyi20URXUcoR6sTMrdkFATxV2HyRYwDkaKtxlbp\n",
       "TAVEC7Q6J5MkoyBItIS5qmADeHLUfFoYnw4M8D7dIi+dPAVBoCZMXwmBNOZt0dfklMXZp8mhKIqG\n",
       "ggBdKXpnCZqOXVsMN9reKKxMOWMF4USBbA5BA2sipJ9Gzl9vP36E9XVO2XEQ4I7KcValz9Fqf7RS\n",
       "V42zpY1Z8SNqsOMgwAg5K8KvKXKEI8fsyHBay3gin6nJGhy5ZMsdbzTrdrY+wy8fOQjin1SlFBdv\n",
       "0JZZ1ah2E1I6mZSzgyDxIeYhwYQMWQEaJrJpdM6Sa2nnSTkrCJXzgtISVblXOuv4aI6dfaundDk7\n",
       "yPrIe/mQL0Ssiki3597J7hM7WV33C0LdJ9v7x9Bc1/EXBDOuKyTHplvwIlzpXo984Ba8SAcdwOf+\n",
       "VSRMN+dBcAN8A0Hpek6baFczAAAAAElFTkSuQmCC\n",
       "\" style=\"display:inline;vertical-align:middle;\" /></a></td></tr>\n",
       "<tr><td>4</td><td>Literal</td><td></td><td><a class=\"ProveItLink\" href=\"../087d0b4ded7c7e5bf3bba05ecb616d7a8051ff650/expr.ipynb\"><img src=\"data:image/png;base64,iVBORw0KGgoAAAANSUhEUgAAAAwAAAAOBAMAAADpk+DfAAAALVBMVEX///+YmJh2dnZmZmaqqqrc\n",
       "3NwyMjLu7u4iIiJERESIiIhUVFTMzMy6uroAAAD0I/TTAAAAAXRSTlMAQObYZgAAAEtJREFUCNdj\n",
       "uMAABDwMe0DUKoaTIKqdgS2AgYHFAITAzHYGsMQqBoa9QIqDgT0BSDE7MAkAKdYEDpAehj1SYOpk\n",
       "O5hiMwBTPAUMDAB33Atnw8aG2QAAAABJRU5ErkJggg==\n",
       "\" style=\"display:inline;vertical-align:middle;\" /></a></td></tr>\n",
       "<tr><td>5</td><td>ExprTuple</td><td>6, 7</td><td><a class=\"ProveItLink\" href=\"../7684623dca70989260b7fdca5b75b8533524f6880/expr.ipynb\"><img src=\"data:image/png;base64,iVBORw0KGgoAAAANSUhEUgAAAFIAAAAVBAMAAAAnX6R8AAAAMFBMVEX////c3NwiIiJERESqqqqY\n",
       "mJh2dnZmZmYQEBDu7u4yMjJUVFTMzMyIiIi6uroAAAAs73DqAAAAAXRSTlMAQObYZgAAAVxJREFU\n",
       "KM9jYCAe8F0gQhHrAyBxGklgrnV5gDiKktv/d+9efICBoQbIXokQZmtlYHjeimraLwYGli8MDFwM\n",
       "DLwIyzkXTQCq/oiikOcbkKifwMCawMAxAS7K1QlydgOKSt5/QOL8BQbOBoZXCNF6ByDBWICikvkD\n",
       "kJDfwMBgwlAGF2T8BXbCARSV/AYgM4Eq0xmWwgXZv2IJnvMgb8QnMDB4MfQBlSiBQAITkl+gQgwM\n",
       "90FW7AeG5guGfzBPbuD/ALYdyd9AS+1BjA6Q4UgqOcAqfVBVfgZF0Fewyha4MPdPEF2AopLnL5Dm\n",
       "APnqBYMpXBgsyjYBYT9QJe8fIG0FCvIooO+h4ABDvAMDXyEDw3wFhBAoOE+BrUlneIRk267tJUBq\n",
       "BiIMptv/3r25Bsxcx8AhgBGGD7GEKzA2gVGPDgKwqGS7gJLq8KicBcTS6IK82BL9RlDCICZ38B5g\n",
       "AACVMFnb5Tkh9gAAAABJRU5ErkJggg==\n",
       "\" style=\"display:inline;vertical-align:middle;\" /></a></td></tr>\n",
       "<tr><td>6</td><td>Operation</td><td>operator:&nbsp;9<br>operand:&nbsp;8<br></td><td><a class=\"ProveItLink\" href=\"../4fbdcb4671f0f96544ca64362db2c9fec03a54b30/expr.ipynb\"><img src=\"data:image/png;base64,iVBORw0KGgoAAAANSUhEUgAAAB0AAAAOBAMAAAAh/woJAAAAMFBMVEX///+qqqoyMjK6uroQEBDc\n",
       "3NyYmJhERESIiIju7u5UVFTMzMx2dnYiIiJmZmYAAABcp3IwAAAAAXRSTlMAQObYZgAAAG9JREFU\n",
       "CNdjYIABzvZ1z1gfwLkMRxIYmJ8kwLmTbgKJ8wFwvsoEIGEC5/J9BJFxcH68AoicDee/h5n09i4Q\n",
       "3GG4jzAJCHYx/AfTE+B8fxDFuAHOXw+S4kOo398ApE7C+NwMbED77ZDN3KX1TgBIAQC0Ih9XIAXH\n",
       "nQAAAABJRU5ErkJggg==\n",
       "\" style=\"display:inline;vertical-align:middle;\" /></a></td></tr>\n",
       "<tr><td>7</td><td>Operation</td><td>operator:&nbsp;9<br>operand:&nbsp;10<br></td><td><a class=\"ProveItLink\" href=\"../c73b4c1401958a1aff8e67e1df37ba89db69842c0/expr.ipynb\"><img src=\"data:image/png;base64,iVBORw0KGgoAAAANSUhEUgAAAB4AAAAOBAMAAADKyLEKAAAAMFBMVEX///8QEBCYmJjc3Ny6urru\n",
       "7u6qqqpEREQyMjKIiIhUVFTMzMx2dnYiIiJmZmYAAABStBNaAAAAAXRSTlMAQObYZgAAAHtJREFU\n",
       "CNdjYIACzvW/Vq2oZkAA/gYGhvwEBH//AQYGvq8I/nwHBgbunwh+PRAz/0LwvwMxN4IPVsr0h+Ht\n",
       "XSC4A7TvN5DP9QUiuYuBgf0DkGYUgPP5C4C0vgKcv38CkBZngPPnbwDqaYUZDraeuw9uG+vz/6tW\n",
       "1QGVAADBniOLezkOFwAAAABJRU5ErkJggg==\n",
       "\" style=\"display:inline;vertical-align:middle;\" /></a></td></tr>\n",
       "<tr><td>8</td><td>Variable</td><td></td><td><a class=\"ProveItLink\" href=\"../../../../../__pv_it/985a1bdf1540838275dec15f4ad6de261cca93ce0/expr.ipynb\"><img src=\"data:image/png;base64,iVBORw0KGgoAAAANSUhEUgAAAA8AAAAOBAMAAAACpFvcAAAAMFBMVEX////MzMyqqqoiIiIyMjK6\n",
       "uroQEBB2dnbc3NyYmJhmZmZUVFRERESIiIju7u4AAAB204erAAAAAXRSTlMAQObYZgAAAGZJREFU\n",
       "CNdjYGDgu7NrJccCBgaGsgkMrMsmMDA8sQNy6hsYGNweABlhDAxcn4A0QxcDQ78DiPGQgWH9BAYI\n",
       "sG+AMv6DSaCGfBDNJMDAsB+kmwuI5S8AiTog5gSaEwXWIO29SgFIAQBC+RaDQlidVgAAAABJRU5E\n",
       "rkJggg==\n",
       "\" style=\"display:inline;vertical-align:middle;\" /></a></td></tr>\n",
       "<tr><td>9</td><td>Literal</td><td></td><td><a class=\"ProveItLink\" href=\"../../../negation/__pv_it/7bea79645543c2413aa17e787cca04e21046fde60/expr.ipynb\"><img src=\"data:image/png;base64,iVBORw0KGgoAAAANSUhEUgAAAAwAAAAGBAMAAAAFwGKyAAAAFVBMVEX///9UVFTMzMx2dnYiIiJm\n",
       "ZmYAAACWz4ZEAAAAAXRSTlMAQObYZgAAABRJREFUCNdjCHEBAmcGMFDEQzEBAEl+Ai6uYJv/AAAA\n",
       "AElFTkSuQmCC\n",
       "\" style=\"display:inline;vertical-align:middle;\" /></a></td></tr>\n",
       "<tr><td>10</td><td>Variable</td><td></td><td><a class=\"ProveItLink\" href=\"../../../../../__pv_it/185e6d30f167ee2ee5ef3321098dc98e0d77bc590/expr.ipynb\"><img src=\"data:image/png;base64,iVBORw0KGgoAAAANSUhEUgAAABEAAAAOBAMAAAA7w+qHAAAALVBMVEX///8QEBCYmJjc3Ny6urru\n",
       "7u5mZmZ2dnaqqqrMzMxEREQyMjJUVFSIiIgAAABETr/8AAAAAXRSTlMAQObYZgAAAGpJREFUCNdj\n",
       "YGC48+7MmV0TGEDgNQMDxwsQg/M5kMgLABK8T4DEvAtAgusBkLA7ACT4FoDEDsAk9AqAxD2QCecc\n",
       "gMQ6kAGCIOIVEDM9Ahn3FkgwgnTxvgQSqwOgxs1OADLC1r05cyoTyAAAv4Qe+njAWvgAAAAASUVO\n",
       "RK5CYII=\n",
       "\" style=\"display:inline;vertical-align:middle;\" /></a></td></tr>\n",
       "</table>\n"
      ],
      "text/plain": [
       "0. {[not](C) or [not](D)}\n",
       "   core type: Operation\n",
       "   operator: 1\n",
       "   operands: 2\n",
       "1. Set\n",
       "   core type: Literal\n",
       "   sub-expressions: \n",
       "2. ([not](C) or [not](D))\n",
       "   core type: ExprTuple\n",
       "   sub-expressions: 3\n",
       "3. [not](C) or [not](D)\n",
       "   core type: Operation\n",
       "   operator: 4\n",
       "   operands: 5\n",
       "4. or\n",
       "   core type: Literal\n",
       "   sub-expressions: \n",
       "5. ([not](C) , [not](D))\n",
       "   core type: ExprTuple\n",
       "   sub-expressions: 6, 7\n",
       "6. [not](C)\n",
       "   core type: Operation\n",
       "   operator: 9\n",
       "   operand: 8\n",
       "7. [not](D)\n",
       "   core type: Operation\n",
       "   operator: 9\n",
       "   operand: 10\n",
       "8. C\n",
       "   core type: Variable\n",
       "   sub-expressions: \n",
       "9. not\n",
       "   core type: Literal\n",
       "   sub-expressions: \n",
       "10. D\n",
       "    core type: Variable\n",
       "    sub-expressions: "
      ]
     },
     "execution_count": 4,
     "metadata": {},
     "output_type": "execute_result"
    }
   ],
   "source": [
    "# display the expression information\n",
    "expr.exprInfo()"
   ]
  },
  {
   "cell_type": "code",
   "execution_count": null,
   "metadata": {},
   "outputs": [],
   "source": []
  }
 ],
 "metadata": {
  "kernelspec": {
   "display_name": "Python 3",
   "language": "python",
   "name": "python3"
  }
 },
 "nbformat": 4,
 "nbformat_minor": 0
}
