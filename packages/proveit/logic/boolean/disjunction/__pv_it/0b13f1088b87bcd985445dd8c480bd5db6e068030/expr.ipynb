{
 "cells": [
  {
   "cell_type": "markdown",
   "metadata": {},
   "source": [
    "Expression of type <a class=\"ProveItLink\" href=\"../../../../../../../doc/html/api/proveit.ExprTuple.html\">ExprTuple</a>\n",
    "=======================\n",
    "# from context <a class=\"ProveItLink\" href=\"../../_context_.ipynb\">proveit.logic.boolean.disjunction</a>"
   ]
  },
  {
   "cell_type": "code",
   "execution_count": 1,
   "metadata": {},
   "outputs": [],
   "source": [
    "# import Expression classes needed to build the expression\n",
    "from proveit import ExprTuple\n",
    "from proveit._common_ import A\n",
    "from proveit.logic import Or"
   ]
  },
  {
   "cell_type": "code",
   "execution_count": 2,
   "metadata": {},
   "outputs": [
    {
     "data": {
      "text/html": [
       "<strong id=\"expr\">expr:</strong> <a class=\"ProveItLink\" href=\"expr.ipynb\"><img src=\"data:image/png;base64,iVBORw0KGgoAAAANSUhEUgAAAKoAAAAVBAMAAAAkxGgRAAAAMFBMVEX////c3NwiIiJERESqqqqY\n",
       "mJh2dnZmZmYQEBDu7u4yMjJUVFTMzMyIiIi6uroAAAAs73DqAAAAAXRSTlMAQObYZgAAAqxJREFU\n",
       "OMu1lU9oE0EUxt8m2WSz2cSAPSli8GRAtIiF3ppbwYtFoYeC4kV6UvYgngQj9KIHu0fpQdKCSEG0\n",
       "nhNqMHgQD108Ky6eVBCqItKC1fdvNtNke3Qgs7PfvO+3mZk3MwD/p9RiePdU2wun+fEt7bwyjDNB\n",
       "7loiNjfJBrL+FuBGqnAr2OB20AAo9fd3USkyDW23M5CvQPR1MtRY6ovVj/jN38aqY1GZFigVbT7r\n",
       "qmp5DqxXYzJU6D9hk6kfJODiDlbzFrUnnUwlm3uVhJ5lAfdMxLoXkSGYRCkXCfUeBziz37F+aFEH\n",
       "9GgKlWzlNgmqSpm4U2f9q0zZKj5mZfJqMupqdQ/rfGtI9dFRCIVKNjjHEyWqlPhjwvotoSKRyEQt\n",
       "8cDgS+EXLU04pJIXGUwlGyxSparkU3RhjvXHQsXR0ywQ1acOKCfBH/J0rBxo8niZSjY4Dzr6gcY8\n",
       "gq2Y9QdiwNmvJEL1JB/B+U2PtkXFNdlUKtngM+hKbWpMAsdD1vc0FRuwoq1Dko/d7k9KmW2LmoNy\n",
       "R6lkgy3uEJXzq9t9Ocm6od6Ea/uoWN0fpZZaxblxqqgyPvA6rC8p6wj+W50BWvYC/k6OzoDTyZm9\n",
       "tTScAVGpoDHXZn1KWZXXsbby9OUJ3ScufTsyO7Z32VCn+NgQGKuEb+mGXODsIENwNtIWJRPP1Eyk\n",
       "Lz8MddA01MU0s1TFQguT32H9kzk4nhhrrQHO9G4dLv1FyUdEebmuXX5oqGSDZ0LzJacPL6+CO7Mb\n",
       "ku7VlfomPZjuWmcQ79iaoQaRoXp1s2NVtQrqdESMnITzVsR1PjPGT0KyFePsA5b09TGqP/y2ZGIG\n",
       "lWwrB9wDpB8dozob6XuFN3icQUXbiwOopDt4w5wyt4jcMMfSgPfWDaNB1RNMdeJqPxuK+j/3z8gl\n",
       "gbWtkwAAAABJRU5ErkJggg==\n",
       "\" style=\"display:inline;vertical-align:middle;\" /></a><br>"
      ],
      "text/plain": [
       "expr: ([or](A) , [or]() or A)"
      ]
     },
     "execution_count": 2,
     "metadata": {},
     "output_type": "execute_result"
    }
   ],
   "source": [
    "# build up the expression from sub-expressions\n",
    "expr = ExprTuple(Or(A), Or(Or(), A))"
   ]
  },
  {
   "cell_type": "code",
   "execution_count": 3,
   "metadata": {},
   "outputs": [
    {
     "name": "stdout",
     "output_type": "stream",
     "text": [
      "Passed sanity check: built 'expr' is the same as the stored Expression.\n"
     ]
    }
   ],
   "source": [
    "# check that the built expression is the same as the stored expression\n",
    "%check_expr"
   ]
  },
  {
   "cell_type": "code",
   "execution_count": 4,
   "metadata": {},
   "outputs": [
    {
     "data": {
      "text/html": [
       "<table><tr><th>&nbsp;</th><th>core type</th><th>sub-expressions</th><th>expression</th></tr>\n",
       "<tr><td>0</td><td>ExprTuple</td><td>1, 2</td><td><a class=\"ProveItLink\" href=\"expr.ipynb\"><img src=\"data:image/png;base64,iVBORw0KGgoAAAANSUhEUgAAAKoAAAAVBAMAAAAkxGgRAAAAMFBMVEX////c3NwiIiJERESqqqqY\n",
       "mJh2dnZmZmYQEBDu7u4yMjJUVFTMzMyIiIi6uroAAAAs73DqAAAAAXRSTlMAQObYZgAAAqxJREFU\n",
       "OMu1lU9oE0EUxt8m2WSz2cSAPSli8GRAtIiF3ppbwYtFoYeC4kV6UvYgngQj9KIHu0fpQdKCSEG0\n",
       "nhNqMHgQD108Ky6eVBCqItKC1fdvNtNke3Qgs7PfvO+3mZk3MwD/p9RiePdU2wun+fEt7bwyjDNB\n",
       "7loiNjfJBrL+FuBGqnAr2OB20AAo9fd3USkyDW23M5CvQPR1MtRY6ovVj/jN38aqY1GZFigVbT7r\n",
       "qmp5DqxXYzJU6D9hk6kfJODiDlbzFrUnnUwlm3uVhJ5lAfdMxLoXkSGYRCkXCfUeBziz37F+aFEH\n",
       "9GgKlWzlNgmqSpm4U2f9q0zZKj5mZfJqMupqdQ/rfGtI9dFRCIVKNjjHEyWqlPhjwvotoSKRyEQt\n",
       "8cDgS+EXLU04pJIXGUwlGyxSparkU3RhjvXHQsXR0ywQ1acOKCfBH/J0rBxo8niZSjY4Dzr6gcY8\n",
       "gq2Y9QdiwNmvJEL1JB/B+U2PtkXFNdlUKtngM+hKbWpMAsdD1vc0FRuwoq1Dko/d7k9KmW2LmoNy\n",
       "R6lkgy3uEJXzq9t9Ocm6od6Ea/uoWN0fpZZaxblxqqgyPvA6rC8p6wj+W50BWvYC/k6OzoDTyZm9\n",
       "tTScAVGpoDHXZn1KWZXXsbby9OUJ3ScufTsyO7Z32VCn+NgQGKuEb+mGXODsIENwNtIWJRPP1Eyk\n",
       "Lz8MddA01MU0s1TFQguT32H9kzk4nhhrrQHO9G4dLv1FyUdEebmuXX5oqGSDZ0LzJacPL6+CO7Mb\n",
       "ku7VlfomPZjuWmcQ79iaoQaRoXp1s2NVtQrqdESMnITzVsR1PjPGT0KyFePsA5b09TGqP/y2ZGIG\n",
       "lWwrB9wDpB8dozob6XuFN3icQUXbiwOopDt4w5wyt4jcMMfSgPfWDaNB1RNMdeJqPxuK+j/3z8gl\n",
       "gbWtkwAAAABJRU5ErkJggg==\n",
       "\" style=\"display:inline;vertical-align:middle;\" /></a></td></tr>\n",
       "<tr><td>1</td><td>Operation</td><td>operator:&nbsp;7<br>operands:&nbsp;3<br></td><td><a class=\"ProveItLink\" href=\"../e12620ca8f0cea881d1734b7283761972f4403cf0/expr.ipynb\"><img src=\"data:image/png;base64,iVBORw0KGgoAAAANSUhEUgAAADkAAAAVBAMAAAAOWFv7AAAAMFBMVEX///8QEBCYmJhmZmaqqqrc\n",
       "3Nzu7u5ERERUVFS6urp2dnbMzMwyMjIiIiKIiIgAAACFNc/vAAAAAXRSTlMAQObYZgAAATZJREFU\n",
       "KM9jYMAL3p6GMnRugql5cBlNIF4J54FZ3A1gNvcFBgbmDSAxTjB/A0SWJwHM4/kAJA6AZDmAahj4\n",
       "HkBk30HM0f0GJLRAstwFQBZvAkRWDCzJ6vwVSCaCbTsKZDlD7OU8AJbl4/sJJNkdQGJAGZAKkCzz\n",
       "ArDsNJZPQJLLACQGNBVkOkiWRwEkyTaB+x+QYjkAEgO6iGMCRJZxAkiWk4H1M4gSAItdYMiB+pcf\n",
       "LLujo+M7yNMfwGImDItQZIGEDEI2BqgbarIDyD4gvogwmWPTA6gsO8hVIUB8HoiZwK5i4K5NgMoC\n",
       "PcHABvJzfQLMRwwMh2GxwHmBgbXwTwCD+n+gEM8EiOw2eByJIkVuIkYMaiHJrsOQhcYgOMQOYMiy\n",
       "NsD5HAHAlHMbloQgKScOLvuagQEA5phUhgAg/JYAAAAASUVORK5CYII=\n",
       "\" style=\"display:inline;vertical-align:middle;\" /></a></td></tr>\n",
       "<tr><td>2</td><td>Operation</td><td>operator:&nbsp;7<br>operands:&nbsp;4<br></td><td><a class=\"ProveItLink\" href=\"../8957e2ecfa15ba2ef1d79b4b18b84054a2f85a1f0/expr.ipynb\"><img src=\"data:image/png;base64,iVBORw0KGgoAAAANSUhEUgAAAFEAAAAVBAMAAADMaB9/AAAAMFBMVEX///8QEBCYmJhmZmaqqqrc\n",
       "3Nzu7u5ERERUVFS6urp2dnbMzMwyMjIiIiKIiIgAAACFNc/vAAAAAXRSTlMAQObYZgAAAW5JREFU\n",
       "KM+Nkz9Lw2AQxs/GmP/aRVe7KiIZ3A34AewguIjGUXDwC4gdKx3sJxBxc5HiYCYxIJ066CSIg9lF\n",
       "7eTk4D3vXQpSq30hySXPL/fce7kQjb3eehosPZnLKS2MIC9+RkGDrM4wdWN0z8QdIcOUKEfQNu+V\n",
       "5L0hXeSYLoR852MRQau8w6q8pCCDA46jVMg5PnYRZDg9KrmxWjfVdTlekzo9ODsJymBtMlay+Ggb\n",
       "nSnQIK0zPvkAQIHG8tL1mtHZGRWADGuAcnXONOUe3RZG5924kp0msGWvqrs5VrJNO7HoD7Sv/ZwB\n",
       "GfQhRzSVCxg0myfquULnw6SV+DUtk71y0bc4q7onA3c7j9Scn0VV0d2rQkkHaSri2loW0GYy7Ise\n",
       "HKZKmgb50sZM+449OJ86F3flhHgoIzTfnEJ5YXO+S5Wjr1jI68EszZZfk53SP6cO03E51nzy1JVt\n",
       "/Ie0G+TWR/wdz2Ugf8c2vf4OfgMAt2AAqvGQswAAAABJRU5ErkJggg==\n",
       "\" style=\"display:inline;vertical-align:middle;\" /></a></td></tr>\n",
       "<tr><td>3</td><td>ExprTuple</td><td>6</td><td><a class=\"ProveItLink\" href=\"../b7d96af9ad4b1093cdfbc7f0db04afd2340d5b5e0/expr.ipynb\"><img src=\"data:image/png;base64,iVBORw0KGgoAAAANSUhEUgAAABwAAAAVBAMAAACnLJNvAAAAMFBMVEX////c3NwiIiJERESqqqqY\n",
       "mJh2dnZmZmYQEBDu7u4yMjJUVFTMzMyIiIi6uroAAAAs73DqAAAAAXRSTlMAQObYZgAAAMBJREFU\n",
       "GNNjYEADfBdgLNYHQOI0hH0IiGuAeCWEux6IuRgYeCFqWfUnAIkEBo4JYK5IvQADA2cDwyuI2gv3\n",
       "QeaYMJRBjJ/gHwCk0hmWgrnzGM6DzPBi6ANzHzDIFwCpFwz/QDye3bv3GwDp8xAuHwMDxwIwtwXE\n",
       "dWBgYGoAKzYFkoxALtcHICMKaDYDwywgZv4JtugRA4Nw/0IGVvtfQKPXMXAIIPwKdCTQ2XDAdgHu\n",
       "QQaoGdII7kaQLfDA4T3AAAAlziv4kp0h2wAAAABJRU5ErkJggg==\n",
       "\" style=\"display:inline;vertical-align:middle;\" /></a></td></tr>\n",
       "<tr><td>4</td><td>ExprTuple</td><td>5, 6</td><td><a class=\"ProveItLink\" href=\"../7bd9b8e1dafdb101a50eef696684f7b3fea42c3e0/expr.ipynb\"><img src=\"data:image/png;base64,iVBORw0KGgoAAAANSUhEUgAAAFYAAAAVBAMAAAAutAQGAAAAMFBMVEX////c3NwiIiJERESqqqqY\n",
       "mJh2dnZmZmYQEBDu7u4yMjJUVFTMzMyIiIi6uroAAAAs73DqAAAAAXRSTlMAQObYZgAAAaJJREFU\n",
       "KM+Vk79LAzEUx79tvfZ6dz0LOimif4CoiM52E1zs5NBBuoiT4iBOghVcXPTG4qDtUEQQrXMHi+Ag\n",
       "Dj06K1YnEQQddRDfS9Iz5+HgQZKX5HN5P/IN8J/P9dE+VXZhTAyvWIxgRoe6W2A1WBGWU0eqGQKv\n",
       "qG1SO2HCFUtNyVoeUAmx57wKZHxmbT6HTMHeU1sI+R+nv40iTI9ZZ4KW4p5kd6mVdbZ/KwukS3iR\n",
       "UVZpmJXxuuw/kdNY/4ETm8KGZIljntlUkbrkmlYpbz5PwzJqkiX/HAezFm/0aMkdokVJYQ57kqW8\n",
       "7I5kTXboln7YDobZyzO+VFVHcKCsXmadtwB1Go1LTr0VsOtY+oOl2psVwe4oYoBOVjHkwjHQNF4S\n",
       "MUwrwr72lZXg3Aw+Kc1ojFiLvRSoEpJwJj1liXKJ7ohdcRqJD1Gzp65ijrvacZmwOOjyO9C3X4Ux\n",
       "80m/nsHMKvYm0Nl2cMeP2uXRHZMkfmuSdbMipnmNTfpKkyGWNJmuRFiOezDCxuqws2xkdLFd8A69\n",
       "oVE1b8s3NIS7yBvKNPEN/A9n0vswGa8AAAAASUVORK5CYII=\n",
       "\" style=\"display:inline;vertical-align:middle;\" /></a></td></tr>\n",
       "<tr><td>5</td><td>Operation</td><td>operator:&nbsp;7<br>operands:&nbsp;8<br></td><td><a class=\"ProveItLink\" href=\"../0e3149a80afb6ef5ac02d7991e0c4c95e5f3c3750/expr.ipynb\"><img src=\"data:image/png;base64,iVBORw0KGgoAAAANSUhEUgAAACkAAAAVBAMAAAAp9toTAAAAMFBMVEX///8QEBCYmJhmZmaqqqrc\n",
       "3Nzu7u5ERERUVFS6urp2dnbMzMwyMjIiIiKIiIgAAACFNc/vAAAAAXRSTlMAQObYZgAAAOVJREFU\n",
       "GNNjYMAK3p6GMnRugql5DJpAciVcHszibmBg3gBic4LFNkBEeRIYGA6ARDmAcgx8DyCi74BYCyTK\n",
       "XQBk8SZARMWAOBFs2lEgyxliLidQNwO7A4gNFAHJgESZFwAJLgMQG6gbZApIlEcBSLAcALGBNnFM\n",
       "gIgyTgAZIwBmX2DIgbqXHyTK/QHMNmFYhEU0BqgaaoIDwgSOTQ+gouwg25jAtjFw1yZARYGOgrmM\n",
       "geEwLHQ4QUbxTICIboOHmSjcx8ghCQwZhnUYosCQZDuAIcrawMARAIyh27CogsRQHMNrBgYAgNtA\n",
       "Wxtv7ekAAAAASUVORK5CYII=\n",
       "\" style=\"display:inline;vertical-align:middle;\" /></a></td></tr>\n",
       "<tr><td>6</td><td>Variable</td><td></td><td><a class=\"ProveItLink\" href=\"../../../../../__pv_it/2cbe72a7ad6f655694dd697106680215e8489b600/expr.ipynb\"><img src=\"data:image/png;base64,iVBORw0KGgoAAAANSUhEUgAAAA8AAAAOBAMAAAACpFvcAAAALVBMVEX///8QEBBERERUVFS6urqI\n",
       "iIhmZmaqqqrc3Nzu7u6YmJgyMjIiIiLMzMwAAADtIaYWAAAAAXRSTlMAQObYZgAAAFtJREFUCNdj\n",
       "YACBOwxQsA9Kc52bAGG05zVAGAFxDmCaZULdAjBjCsO9ADDDgaEvAUTzGhvbKYCVMDAwbgAxChgY\n",
       "eASANAeQwf0AyJgNxEwvGRia5HYwcOm9TgAA6BoR3jrzwFcAAAAASUVORK5CYII=\n",
       "\" style=\"display:inline;vertical-align:middle;\" /></a></td></tr>\n",
       "<tr><td>7</td><td>Literal</td><td></td><td><a class=\"ProveItLink\" href=\"../087d0b4ded7c7e5bf3bba05ecb616d7a8051ff650/expr.ipynb\"><img src=\"data:image/png;base64,iVBORw0KGgoAAAANSUhEUgAAAAwAAAAOBAMAAADpk+DfAAAALVBMVEX///+YmJh2dnZmZmaqqqrc\n",
       "3NwyMjLu7u4iIiJERESIiIhUVFTMzMy6uroAAAD0I/TTAAAAAXRSTlMAQObYZgAAAEtJREFUCNdj\n",
       "uMAABDwMe0DUKoaTIKqdgS2AgYHFAITAzHYGsMQqBoa9QIqDgT0BSDE7MAkAKdYEDpAehj1SYOpk\n",
       "O5hiMwBTPAUMDAB33Atnw8aG2QAAAABJRU5ErkJggg==\n",
       "\" style=\"display:inline;vertical-align:middle;\" /></a></td></tr>\n",
       "<tr><td>8</td><td>ExprTuple</td><td></td><td><a class=\"ProveItLink\" href=\"../feb17bb8e989ce470672228f3fb01ca3e9677f560/expr.ipynb\"><img src=\"data:image/png;base64,iVBORw0KGgoAAAANSUhEUgAAAAwAAAAVBAMAAACAghKHAAAAMFBMVEX////c3NwiIiJERESqqqqY\n",
       "mJh2dnZmZmYQEBDu7u4yMjJUVFTMzMyIiIi6uroAAAAs73DqAAAAAXRSTlMAQObYZgAAAG1JREFU\n",
       "CNdjYIACvgusD4DUaQaGGiC1koGBi4GB9wIDA2sCA8cEBgbOBoZXIGUmDGUgKp1hKYjyYugDUS8Y\n",
       "/oGo8zCqBSJoCqKigGrBGh6BqHUMHAJgw4DGMrBdAFs0CyguzcCwEUgxXuA9wAAApdcX/S64IkwA\n",
       "AAAASUVORK5CYII=\n",
       "\" style=\"display:inline;vertical-align:middle;\" /></a></td></tr>\n",
       "</table>\n"
      ],
      "text/plain": [
       "0. ([or](A) , [or]() or A)\n",
       "   core type: ExprTuple\n",
       "   sub-expressions: 1, 2\n",
       "1. [or](A)\n",
       "   core type: Operation\n",
       "   operator: 7\n",
       "   operands: 3\n",
       "2. [or]() or A\n",
       "   core type: Operation\n",
       "   operator: 7\n",
       "   operands: 4\n",
       "3. (A)\n",
       "   core type: ExprTuple\n",
       "   sub-expressions: 6\n",
       "4. ([or]() , A)\n",
       "   core type: ExprTuple\n",
       "   sub-expressions: 5, 6\n",
       "5. [or]()\n",
       "   core type: Operation\n",
       "   operator: 7\n",
       "   operands: 8\n",
       "6. A\n",
       "   core type: Variable\n",
       "   sub-expressions: \n",
       "7. or\n",
       "   core type: Literal\n",
       "   sub-expressions: \n",
       "8. ()\n",
       "   core type: ExprTuple\n",
       "   sub-expressions: "
      ]
     },
     "execution_count": 4,
     "metadata": {},
     "output_type": "execute_result"
    }
   ],
   "source": [
    "# display the expression information\n",
    "expr.exprInfo()"
   ]
  },
  {
   "cell_type": "code",
   "execution_count": null,
   "metadata": {},
   "outputs": [],
   "source": []
  }
 ],
 "metadata": {
  "kernelspec": {
   "display_name": "Python 3",
   "language": "python",
   "name": "python3"
  }
 },
 "nbformat": 4,
 "nbformat_minor": 0
}
