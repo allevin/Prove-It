{
 "cells": [
  {
   "cell_type": "markdown",
   "metadata": {},
   "source": [
    "Show the Proof\n",
    "========"
   ]
  },
  {
   "cell_type": "code",
   "execution_count": 1,
   "metadata": {},
   "outputs": [
    {
     "data": {
      "text/html": [
       "<table><tr><th>&nbsp;</th><th>step type</th><th>requirements</th><th>statement</th></tr>\n",
       "<tr><td>0</td><td>assumption</td><td></td><td><span style=\"font-size:20px;\"><a class=\"ProveItLink\" href=\"../f7771a751d960265792973c5ee315165f8dc6caf0/expr.ipynb\"><img src=\"data:image/png;base64,iVBORw0KGgoAAAANSUhEUgAAAFMAAAAVBAMAAADInc9CAAAAMFBMVEX///9ERETc3NyqqqpUVFS6\n",
       "urrMzMwyMjIQEBCIiIh2dnYiIiLu7u5mZmaYmJgAAABJJ2g3AAAAAXRSTlMAQObYZgAAAUpJREFU\n",
       "KM9jYGDgu8dACLCtUgBRPLsYCAO2ZhDJ+QHKzcaihNP/i4tLfQEDw3UQj6sBKlyPzTh+oDJmAQaG\n",
       "FchK+fYfgCvggbPiJwCJC2hKle8rwBWww3WtTwBqnICmdML8ALhSVgcGhKsWMCigKmU9YP8A4cSV\n",
       "MMZHBj6wMFgpbwFY7ChDPshZDLd3g8D+C1Djv7vUg931HkRkQOwNYNC/gORzc4go1zcGdojrgZIp\n",
       "bZAwdnHxF0BSylMBVsv+gYGLgQ3EEge6IyIBbBMDA0cBktL0NZBgFWBgYjgJZHAvABIsYBUGQF4D\n",
       "wq27ZZCCdQ3MrVwbgASTAdgyODBBClamCwzIgXUciBn/wFUyFSBFdnYCslLF/iIGPvnv8CBghEQc\n",
       "j+N/Fxfv3wwMaLGFkuYwRHAqZcCulI8opeD0yrOTmFzQCkmoi4nLWwDWMFYJ3tuk5AAAAABJRU5E\n",
       "rkJggg==\n",
       "\" style=\"display:inline;vertical-align:middle;\" /></a> <a class=\"ProveItLink\" href=\"proof.ipynb\" style=\"text-decoration: none\">&#x22A2;&nbsp;</a><a class=\"ProveItLink\" href=\"../818cf20985dc24aed419f18264bcffa79f21f6c40/expr.ipynb\"><img src=\"data:image/png;base64,iVBORw0KGgoAAAANSUhEUgAAAD8AAAAPBAMAAAChCwpBAAAAMFBMVEX///92dnYQEBBERERUVFS6\n",
       "urqIiIhmZmaqqqrc3Nzu7u6YmJgyMjIiIiLMzMwAAACFkkdwAAAAAXRSTlMAQObYZgAAAOhJREFU\n",
       "GNNjYACBtwyYgM3/i4vL+QMQznksChj4gZIcBmAm9/0FcGEuOCs+AUgUgJkz6ifAhXngauUfAJUn\n",
       "gJkJ+QFwBawOMBbQXgEGsE7WBf0bEFaLwRifGbihwksZ3oNNqr0LAvcLoEb9cTkPtTmAYX4Bkut7\n",
       "IPYx/mPggQjwubj4GyAp4DoEVsHzgYGRgQ9sFgMD0wEkBW+kIMFgwMDJsAzEamBg4FVAuOGuFVIw\n",
       "gNRyNoCNg4MWpGDgBLltDRAz/4LLcx5ABAPDW6CiyfonGbjt/8C9wQzxGpfzfxcX379YoogPjQ8A\n",
       "rjA+CvBzP5kAAAAASUVORK5CYII=\n",
       "\" style=\"display:inline;vertical-align:middle;\" /></a></span></td></tr>\n",
       "</table>"
      ],
      "text/plain": [
       "<proveit._core_.proof._ShowProof at 0x7f9500140898>"
      ]
     },
     "execution_count": 1,
     "metadata": {},
     "output_type": "execute_result"
    }
   ],
   "source": [
    "import proveit\n",
    "%show_proof"
   ]
  },
  {
   "cell_type": "code",
   "execution_count": null,
   "metadata": {},
   "outputs": [],
   "source": []
  }
 ],
 "metadata": {
  "kernelspec": {
   "display_name": "Python 3",
   "language": "python",
   "name": "python3"
  }
 },
 "nbformat": 4,
 "nbformat_minor": 0
}
