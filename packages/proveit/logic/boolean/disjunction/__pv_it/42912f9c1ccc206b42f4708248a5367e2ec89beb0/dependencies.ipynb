{
 "cells": [
  {
   "cell_type": "markdown",
   "metadata": {},
   "source": [
    "Axiom Dependencies\n",
    "=======================\n",
    "\n",
    "## <a class=\"ProveItLink\" href=\"../../_context_.ipynb\">proveit.logic.boolean.disjunction</a>.<a class=\"ProveItLink\" href=\"../../_axioms_.ipynb#leftInBool\">leftInBool</a> \n"
   ]
  },
  {
   "cell_type": "code",
   "execution_count": 1,
   "metadata": {},
   "outputs": [],
   "source": [
    "from proveit.logic.boolean.disjunction._axioms_ import leftInBool"
   ]
  },
  {
   "cell_type": "code",
   "execution_count": 2,
   "metadata": {},
   "outputs": [
    {
     "data": {
      "text/html": [
       "<h3>Theorems that depend directly on leftInBool</h3>"
      ],
      "text/plain": [
       "<IPython.core.display.HTML object>"
      ]
     },
     "metadata": {},
     "output_type": "display_data"
    },
    {
     "data": {
      "text/html": [
       "<dl>"
      ],
      "text/plain": [
       "<IPython.core.display.HTML object>"
      ]
     },
     "metadata": {},
     "output_type": "display_data"
    },
    {
     "data": {
      "text/html": [
       "<dt><a class=\"ProveItLink\" href=\"../../_proofs_/notLeftIfNeither.ipynb\">proveit.logic.boolean.disjunction.notLeftIfNeither</a></dt><dd><a class=\"ProveItLink\" href=\"../435c58b29f8d6c6d52e48d5cedc7599498d685cb0/expr.ipynb\"><img src=\"data:image/png;base64,iVBORw0KGgoAAAANSUhEUgAAAK4AAAAXBAMAAABg52lgAAAAMFBMVEX///8QEBC6urrMzMxUVFRm\n",
       "ZmZERETc3NwyMjKqqqp2dnaIiIiYmJgiIiLu7u4AAAAU9Wx4AAAAAXRSTlMAQObYZgAAArtJREFU\n",
       "OMu1VU1oE1EQ/rJJuvnZrMGbF40g4kFJDoKiSIKW1luDJgqCNCCmCGIWLC0eSoOXIIjNRRE8GIRq\n",
       "vZQIXkoOXdFD1YO95OJvEC29FEtLa8VanHm7abIvqYLBgbdv3ryZL/O+mfcC/CepdQ6hlCWDFgFm\n",
       "WXndEe5Bx+oYjdPAY9ZvdYTrjB6j4QOGaFIzncAGHTRon4hZrQQfTd5iJ7guR4mu9RuAHob2aHh4\n",
       "pCMa9jlW5WkqGi4Bq9ns27/GXm1jqx/ynKM3avdNmsaBE8CAMBXE985KuicmPJq81RJ/fYa99OfS\n",
       "qQs4Yq9uNuN+RpzpvgvsgZ4XhC9ZvIcRDLPS1eRt6W8i9fUz4AkC9nI7FegDC/94BKNJmnYDIQQ5\n",
       "c3xdF17eBJTvMu49/uj9JjgXGikgaljpAEu2kztBo7u7j5srTm1ihkRBJ6tiN1SGd1bGFUQFFpKY\n",
       "Ik4o/B1wXjAo4xJ5rryFq+fFfXGXs2L3WwwzhowriDnalWGjx4C+DI2qUbE2dzThUi1DYYsHDBxn\n",
       "q4czIIlWnl6BhOsWJ07QOYIRDFJWPys9Na6MkMsNXJVwfYukz9C4LY79EtNid4KqUmvgPsxms3kl\n",
       "wQUtBhehZ9BLjOSh7QQOW3jj9Z+PYZ7jNmybi4uhV9M5AXeRqCg68834GXchfYYiHjC9XUnoPzZx\n",
       "D2w6Du0qQMutUUNc50QYz2sgLtqW/KMxCVfhEp+FexmYI0dsK0Ihfa99j42WK6OH69p+8jbVAtQN\n",
       "qFWJ34xOTCnUjNSJgRdkGK1hhJJ6Zb80pRbcQP0p+rIKte+9ex0TK+mTRQk3ho/QqS0Hf5ncCgiM\n",
       "pVM3yH6q7TvJMi8/9C13zJKphtp0aPtecIdI0iutD22BO9fuLfLXD6vK/0PBmGQwt8D1m21wPf/2\n",
       "rDrCnrdxmPxT9G9006DoFESgVQAAAABJRU5ErkJggg==\n",
       "\" style=\"display:inline;vertical-align:middle;\" /></a></dd>"
      ],
      "text/plain": [
       "<IPython.core.display.HTML object>"
      ]
     },
     "metadata": {},
     "output_type": "display_data"
    },
    {
     "data": {
      "text/html": [
       "<dt><a class=\"ProveItLink\" href=\"../../_proofs_/notRightIfNeither.ipynb\">proveit.logic.boolean.disjunction.notRightIfNeither</a></dt><dd><a class=\"ProveItLink\" href=\"../0ed3eb63399020e6b36873d4f190b50ff67d74bc0/expr.ipynb\"><img src=\"data:image/png;base64,iVBORw0KGgoAAAANSUhEUgAAAK8AAAAXBAMAAACPJQJeAAAAMFBMVEX///8QEBC6urrMzMxUVFRm\n",
       "ZmZERETc3NwyMjKqqqp2dnaIiIiYmJgiIiLu7u4AAAAU9Wx4AAAAAXRSTlMAQObYZgAAAtBJREFU\n",
       "OMu1VU1oE0EU/rqbzeZnsw0eBC8lBw8elKwgePDQoKUWPCSHRkEoRsStBzEBiz0Vc7IIornopZcg\n",
       "qBVBKnopPWTVHvw52IO5+EcLWrwUS/qnVqvvzWaT7SZVcPHBzrx58+abed97Mwv8L5n1DyFNeC1P\n",
       "6Jth5aUv4H1NdfpXT8+ZBBQDuMvjq76A3au3A0oNKAIXaKTm/OBGXUzI6/QtAy+AEJGslPwAd7jS\n",
       "FF0DtO/AHHV3hodHfDGxy6UH40Csi3o66qppvvnr4vNtbOF6f9xl60xBvUQRRDLAIWBQGEdFe2Ml\n",
       "22uIInL5q2VuQwUHMp/tPwW5bI+uuBy7j0wNWOxB2dsJvcg2rSamtDiicRGVO0LRvko448fAA+Cm\n",
       "PdhGSXrPQhtVCtBf86mYEkR5D3z6IdyUFKQ1L/AYN/oJC1wA9PUDyQI+25M1pyJSwEnqKwQnL1Ii\n",
       "rZhI6/2qmI5NQJnxAguuIgsZTBIttP4tMAAEjBbgZQ6sbAPrRXFz5AlTTH8x8KzgBRbcHAjm2Big\n",
       "aJegjTYKeEcTWOao0yWbCgweZHOAz0CSnHp0Dh5gWSQhRZFEExiiZetTvRSllBKzZ5vAXMbqV84U\n",
       "r7guIn+Oipgep9TMNoFvm6ZZFAhaKboIPYfDREoRWpezH245+xuijPfyDedyQwdHpFezeYF3mtgo\n",
       "bT5xLszAC9mjG1QJTHEwA/1bA3hPw1HJL/f0ieoLcQFpDKgU0C1yQQuShgdY4rfkGOQlYJ4c0VmC\n",
       "RLpkPzEdhdbLM9fQdpO7pY5C3YBa9XCc04ksiYqIUhOZJsPFWYxQrJp9Q+rdJrnnKB9XoabfUVLH\n",
       "V7J9JQ+wgQ/Q0zkM/bS4IBC5lu2/zFEmWp9NW+wr5xKt5bbZMtlUXXGH6v1QC3DAy87+LYDn275M\n",
       "Y85L0vJreug1WFsAh612wKl/e2YD7sHTNg6RP/6HfwPXZquxti+cKgAAAABJRU5ErkJggg==\n",
       "\" style=\"display:inline;vertical-align:middle;\" /></a></dd>"
      ],
      "text/plain": [
       "<IPython.core.display.HTML object>"
      ]
     },
     "metadata": {},
     "output_type": "display_data"
    },
    {
     "data": {
      "text/html": [
       "<dt><a class=\"ProveItLink\" href=\"../../_proofs_/orIfLeft.ipynb\">proveit.logic.boolean.disjunction.orIfLeft</a></dt><dd><a class=\"ProveItLink\" href=\"../3c4b3483045068595eecea6c2a0d5f0b783374600/expr.ipynb\"><img src=\"data:image/png;base64,iVBORw0KGgoAAAANSUhEUgAAAK8AAAAXBAMAAACPJQJeAAAAMFBMVEX///8QEBC6urrMzMxUVFRm\n",
       "ZmZERETc3NwyMjKqqqp2dnaIiIiYmJgiIiLu7u4AAAAU9Wx4AAAAAXRSTlMAQObYZgAAAr9JREFU\n",
       "OMu1VUtoE2EQ/trNdmPzsHgQPKhBPAgqRhA8+GjQoAUP6SUHxfoCtwUfzUGsImouNVBEe6lXc1Er\n",
       "igT01kOjKPg42IP1IIKpqAgVLaWt9UF1HrvLJsRgig78+/+Zmf+b2flmNsD/ktL8rjUWalkf0Brh\n",
       "w7O6gTfotqVC/fBXMtkVgxkHbvLvS3UDOzcuS/ZyjMtzMWBOAlngJP2yDtSLG9JKhN9wJQNxT2P8\n",
       "oDUFPAWCZDL76wVuUGpO788wGucVEU3oK0X7DozRdqOn52zdlVilW2E4xluO1oAomlooxDLaKdUZ\n",
       "235VN/AebY3S1SIc0JxoFiZgXaDcm9uB7UAn4JmuTKd3xCtgYu4h5x4uyvMtWqWyVAZDaWrdNdTB\n",
       "sRYQeysRzQoRk8pHC0Iteurr65WE4HLruJAscgKeb3eoDGjw4QyiL/hduCQIyfX3P8VkJtBIDIyn\n",
       "96KQH19RBuy4kEgEI5lMqWkEH1V/kMEJzpigcEUl9M6omCIFmCMIHTr3mYCbP5UBOy4uMPVvg7ws\n",
       "duO26qnT8DyvwNGsTJFRsMX0JY7HGTwSzvOr9/mBXReSJfwg5iNatVM6wDD4lVL9Wgp0bmNdAB1i\n",
       "Wzd077hMDgGnl5bV2HUhOcpjRQDBCbVs1oHhNrZmmQ0GGJBoTzAstkHgfsnIa8bmJj+w60JyjRaX\n",
       "tWlOMz1W8tp4PU87txsaOFp0NN0txsNUjX7jpW0f4Ro3+4A9F5K19C1YnkO4e1baAr1KfPdUsk06\n",
       "MchNEmZvM4NWad9vVI14NKEZlwF7LpxMprzTt1Z0/ph3WkNTU7RysOZgEfc7nVKc8QGLi9vR+dqT\n",
       "ecs9vJuBlXpNpA5Op9uIlA8xGRDbR566VHw2/yA6cj4Je6frVGNPqnxVT9QEDlRUChur+1UBtmr+\n",
       "Nd2tVBT/GvjfSGIed34DWM+7VmXBjLYAAAAASUVORK5CYII=\n",
       "\" style=\"display:inline;vertical-align:middle;\" /></a></dd>"
      ],
      "text/plain": [
       "<IPython.core.display.HTML object>"
      ]
     },
     "metadata": {},
     "output_type": "display_data"
    },
    {
     "data": {
      "text/html": [
       "<dt><a class=\"ProveItLink\" href=\"../../_proofs_/orIfRight.ipynb\">proveit.logic.boolean.disjunction.orIfRight</a></dt><dd><a class=\"ProveItLink\" href=\"../cadc2f6f4fa72f8b72c2f845040af1644417dd880/expr.ipynb\"><img src=\"data:image/png;base64,iVBORw0KGgoAAAANSUhEUgAAALAAAAAXBAMAAABZgNg7AAAAMFBMVEX///8QEBC6urrMzMxUVFRm\n",
       "ZmZERETc3NwyMjKqqqp2dnaIiIiYmJgiIiLu7u4AAAAU9Wx4AAAAAXRSTlMAQObYZgAAAtxJREFU\n",
       "OMu1VU1oE1EQ/pJNmprdbIMnPahRPAgqyUHw4E+ChtZbAnYFRW1VTBF/moPYitSWQokWsb0o3sxF\n",
       "rSASQU89NB6EigfroR60YBCVQv3D/mi1VOfNe4nbJQZT9MG+N29m53uzM9+bBf7XKCzOzZ2rZDVC\n",
       "wIgQnlQNvEku25yIial4fTewG7gt9perBlYefRw9ixGeXc1AUwi1wBna+ZqrxdVlJoxXIpOeyG9N\n",
       "lJZoDEYWtWTy9lcL7JKlOduUplkTcQWkZogUT7MwgzButbV1VJ2JdXLJDYXEkqHnitQcoucZnXEM\n",
       "mEmlXlQNvE9So3A9DwWakYYpoP0UrTeAnUALUDJdnbbqIw4YDgtLWq3GI0pziefXnFJOgybLpE0N\n",
       "PhgTwjVgLcwuLsQXWY8g9KCUent7OCCo2j4E7ingperAzqQqpUcern8FPsRIWE3HQWf3t3Ns8sbg\n",
       "JuuEtR+57MQaO3AjEE5LkYPQ4vGENI1gXOprKCZdAEVpzcuC3h1lUyAH7wj0w+c/ErD/vR34JXAA\n",
       "NmDir4s/FntxR+rrKFrjuwQ2u/gWabkUmz5FMJzGI655dv1BG7A5CUOVCMvFRCQNyKy1ywtMePTx\n",
       "nlmZCrTsECqPiiY8eJ+qyoHkrBX2HLt/DNYXO8sJca0IuPYzbz1bVesQNO4UzsOCLHzaYwyxaYCK\n",
       "VNCyMmLvFhuwvwvGSgVMbOK01sxLMpwslGisLSuoF1ziNHPUamXjUcpGv/Y8lToucuy3AdckYc4q\n",
       "4I3UC1ZlYLR+Y1qgR6r3/IzHL/BXdgtaCUBvGlGmL7mGI2ZMRrwAuK4f7snilU4vZPp2B/PNYFHa\n",
       "QI55Xwa+efiIHg0qFedswJ0FdCSL7TFb+Wb6i+36zQx8iTFtDgPT1i4qyrsQX5CUrXj+PqvxorNt\n",
       "/mmMO/t0SbpJOS6NMl31dGXgBsd+c/nXygD7Kv6adGe3yf818L8ZsUX4/AJl9rwaTZrhVwAAAABJ\n",
       "RU5ErkJggg==\n",
       "\" style=\"display:inline;vertical-align:middle;\" /></a></dd>"
      ],
      "text/plain": [
       "<IPython.core.display.HTML object>"
      ]
     },
     "metadata": {},
     "output_type": "display_data"
    },
    {
     "data": {
      "text/html": [
       "<dt><a class=\"ProveItLink\" href=\"../../../_proofs_/foldForallOverBool.ipynb\">proveit.logic.boolean.foldForallOverBool</a></dt><dd><a class=\"ProveItLink\" href=\"../../../__pv_it/d40d2f60ef66daf5542d59156613ac49d719b2620/expr.ipynb\"><img src=\"data:image/png;base64,iVBORw0KGgoAAAANSUhEUgAAAPsAAAAXBAMAAAA/2iRsAAAAMFBMVEX///8QEBC6urrMzMxUVFRm\n",
       "ZmZERETc3NwyMjKqqqp2dnaIiIiYmJgiIiLu7u4AAAAU9Wx4AAAAAXRSTlMAQObYZgAAA5NJREFU\n",
       "SMfFlk1oE1EQgKfZ/DTZzbZ4UMSDEYp6EXMQFKU22KDixWpNi0VpFNyiVBqwNHgQg5de1OaiCB4M\n",
       "QrUWLEGsIBa64kUqag6KIrUGUemltrRG29JW583b3bz80UIUF7I7O2/e++bNm5kNwP+90n9jEfn9\n",
       "7pUZ2pKmpPhAueKDFJNflIn3+Ly0ZLL48MPfweCbCJO2cUUt/hrZNLjHXq+WjffE8VFZKpSzAM41\n",
       "AqiHGRO+CyVXuGw8LdFVYliaB3DPs0Pi4VE+oZ9KguGZx4542Xja19FSqTGNtAwKFTw851vxJNRq\n",
       "Nk25G41egPLxI9FoNFVi2DkFYJ9DYTN/Tw778H6aTYOfmvah5LrnjKe7qDYu4Ks07WyixCpVMYBJ\n",
       "djotPP3Tt3R89BK+HqAN1+8IHWmjQR/dr2dCeyPgMheUEsW0OwW83Q9OSu7KSAG+LgHSWyZcptfP\n",
       "UMdy4Abha0BF5+ApwH0a5Gmo4MmkwAnQpJ3QtATcztVyM48vi7cFYJzk14byeV/fMWN4+EB/Czm1\n",
       "ytjgxQZ8bKD5XpBZKII4MZ3F2wOgLMFNOjl2G8/XMjPy28BjAxliotqKq6mDIV32qA8MTzrMgpym\n",
       "SAaDB9nsOpom6142OgqwX9i9Vwd7DNosPMY2V0tm9QJ+CMZInMCdPdr0PS17YEDnw4sg4m1YATEL\n",
       "r8ZYK1JnQHkn4Cf98DIC1RaeV6ygJbMnAn5cCjBxlzMMCout7LEN8l1LGRO/1khYb7UVfGjbw1ya\n",
       "7zdOiuO39vfqIMUsvC2QpyWzGgHv7KRQBxwp1tAQ7zg0mi17frWzHof4yimWHBx/jZWrxzxGA9+X\n",
       "ZRKeMwUtme0Q8O7jlJxxeYpXBAa/kTc555K5dq+RRaThhQcVzMjZkIs/RdWejxe0BXhYx6SJUNMS\n",
       "1GqalkR8gir0a8cP81O0BRvz+m5QOmYRd4lPU9gJVcVz8XO0z3A2+OE8Ld02ivhXTGoGaQa+GLtP\n",
       "5PehCqEn8KZrdoZIDl76RRYpC68kXN05WjIbEfHkGub6AtgjHN+c/wFWBH88SaFv9DTm4PsyVGhj\n",
       "Ft7hkxayWoemrdbOABzOw6tY0J2LunqS2s6d9oL+J3zZxwWvhUv8+D62JExmpVAby9+9+Y5nX7T7\n",
       "d2bFfcvjv1kSdrrtBVq3yZA/+lf2aXRZXsl+nLUM3q2bEma7XqC1/4P/ngHx5ZkZzXQx7UDZsD9Q\n",
       "v/BHzxS7+AAAAABJRU5ErkJggg==\n",
       "\" style=\"display:inline;vertical-align:middle;\" /></a></dd>"
      ],
      "text/plain": [
       "<IPython.core.display.HTML object>"
      ]
     },
     "metadata": {},
     "output_type": "display_data"
    },
    {
     "data": {
      "text/html": [
       "<dt><a class=\"ProveItLink\" href=\"../../../_proofs_/unfoldInBool.ipynb\">proveit.logic.boolean.unfoldInBool</a></dt><dd><a class=\"ProveItLink\" href=\"../../../__pv_it/f3e4ac83929f0bec3f4ece5ccac055d5592377730/expr.ipynb\"><img src=\"data:image/png;base64,iVBORw0KGgoAAAANSUhEUgAAAJsAAAAVBAMAAACj9YEXAAAAMFBMVEX///8QEBC6urrMzMxUVFRm\n",
       "ZmZERETc3NwyMjKqqqp2dnaIiIiYmJgiIiLu7u4AAAAU9Wx4AAAAAXRSTlMAQObYZgAAAjRJREFU\n",
       "OMutVD1oFEEUfrnNZu9n77RLGuUQu4ikCNdYeJiApddcZ0QtNoVFrjJISNgmCCn0mvRXKSLIgmUK\n",
       "l4ABE4SziEXQcILaRCQEPIUEdd7fTS7Z1RR58M3sft/stzNv3gzA6Ubn3/LoCelVQRtfNtLcnCp3\n",
       "7URa34zqjjGeIfEozS7Lk8/uYlumbw/ROgjVkHHfdN7tNLsV7t7+xnaix6z0DSJ1nYE/cptpduep\n",
       "9ZZ/YlfBZtvSEqx+YvhPZ2fn09wyIXWFwh4tqgGQq1lagtWhJqMbBFtpdm6Lusu5A+zQCi2VlmA1\n",
       "X2OYjEwT/TBhJ2JsS2VnH2ShFUtLiJoLGRehRHP391j2l5YWdfgAbWYGvB+6MdeUnvpoYsuqmbOM\n",
       "IhTo6y845Z36TYhaOxfE7gzZjU9Odum1KH9mGhWrOruMQlykKnqxaZ7vLnw3dvlvfXamGeFUNvPx\n",
       "MTtR1a4UjlN5RgHAa3yKWqO3dLFYQTmDd1wSYdHSYqeqLhamKR+DMMWlDVH9nOZuCB8eGDzm94kN\n",
       "S4udqn7IgGU6kG/gFTgtnp17RYbjzlO6ZvhUVbZ7NJ9Wq2qhwECE271Zn+k474PgHuYur2XcBu/O\n",
       "rwas/VnkwqkprSeip2bLDPDxz24Dro6Vqjy7nh0MH7lJOok02EMmccnsVwzXZbFzSq8nn5YE+rmA\n",
       "4nMXvBsf4GuZyjiIj1xQKffW4bMRSpb74onJXd9tUU20O04PNhj/ibkT0i8ZfwHwzaFeUWDKCQAA\n",
       "AABJRU5ErkJggg==\n",
       "\" style=\"display:inline;vertical-align:middle;\" /></a></dd>"
      ],
      "text/plain": [
       "<IPython.core.display.HTML object>"
      ]
     },
     "metadata": {},
     "output_type": "display_data"
    },
    {
     "data": {
      "text/html": [
       "</dl>"
      ],
      "text/plain": [
       "<IPython.core.display.HTML object>"
      ]
     },
     "metadata": {},
     "output_type": "display_data"
    }
   ],
   "source": [
    "%dependencies leftInBool"
   ]
  }
 ],
 "metadata": {
  "kernelspec": {
   "display_name": "Python 3",
   "language": "python",
   "name": "python3"
  }
 },
 "nbformat": 4,
 "nbformat_minor": 0
}
