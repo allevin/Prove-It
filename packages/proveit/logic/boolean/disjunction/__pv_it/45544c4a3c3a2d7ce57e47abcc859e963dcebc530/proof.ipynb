{
 "cells": [
  {
   "cell_type": "markdown",
   "metadata": {},
   "source": [
    "Show the Proof\n",
    "========"
   ]
  },
  {
   "cell_type": "code",
   "execution_count": 1,
   "metadata": {},
   "outputs": [
    {
     "data": {
      "text/html": [
       "<table><tr><th>&nbsp;</th><th>step type</th><th>requirements</th><th>statement</th></tr>\n",
       "<tr><td>0</td><td>hypothetical reasoning</td><td>1</td><td><span style=\"font-size:20px;\"> <a class=\"ProveItLink\" href=\"proof.ipynb\" style=\"text-decoration: none\">&#x22A2;&nbsp;</a><a class=\"ProveItLink\" href=\"../2c918a7e9d2ac1518b49f66cad00bec699b2112c0/expr.ipynb\"><img src=\"data:image/png;base64,iVBORw0KGgoAAAANSUhEUgAAAQkAAAAVBAMAAACnJQYDAAAAMFBMVEX////c3NwiIiJERESqqqqY\n",
       "mJh2dnZmZmYQEBDu7u4yMjJUVFTMzMyIiIi6uroAAAAs73DqAAAAAXRSTlMAQObYZgAAAphJREFU\n",
       "SMfNVs9rE0EUfts0TZps1z0bhFJB6Mki5uCtt0K95NSDoPQiwUMhiPTkoUIuXkKO0tN6KJqLxLtI\n",
       "oKhoDvYPUFh6koLgXxCcmfd235s3adSbH3y7mZf53nw7P94uwP+B5Ew1vIBFNdeanzrwQPAPQ8A8\n",
       "LUxlZCoDtQ2HLXiqdPG4+PXY9bgOtQmUDDHlVAJSCyP5z0gF4p69NqgVDfHeGIoun9w1Ewww4lSQ\n",
       "uOtEadfkbNmGF0BpdZ9Gx0TwHQIXe4KEVZm1dNGcAI9RauvyuWzDC6B09Qhbp5t4fx66eCEIasYw\n",
       "I7mI7aosDZX2Qma8ABUg6W1svcdJSLLQRWWbWezJschapoKXhjtaeygzHhK1iy5OcbaEu3Y/dLHS\n",
       "YxY4EFnZxQ458bQnMuMJUbvYxd6dmnvSRid0sZwxi+1/s8dZ2YVZjXhLawfFibQPOEBygKQ/UA+R\n",
       "G6Oe0zg3OFNyxCyxi4Vm4LkwO7OZey6MZiZrwIxYBkj61V3vA7yz9yu5qC6UKf7F5FPy2vWceS5g\n",
       "HY79eTSaf3CxSeP+tYsvj2COiyfwMHDRl4P2idqFW5Fl87uR2hXZDl34K4L7YuMOduv7Lq6a2dAr\n",
       "0paDtonaxT23KVN0ApVO6KKaMQvcpXvbd9H8cOa7MJpuEZnQifQC8qSe4qKK0xgvPKlRYajru4hv\n",
       "DYNTfi5P3TmRTyqWhjeuZhXFO1mXXT5iocyZhEoqspapDF6F2noqK3gKfoD2ulvsvHwZPQtfWHMq\n",
       "eCyzSnwOtVVZCG3DCyBW1PfBXujiQFBjTsZAu/DNjjhWbe/NTsWdecmb/VI4TUtGWjrg8Fa1o7Hu\n",
       "0UyZIVoLXThNJKfbNiL9fbYWfEBd04FvgiGihV98RvMbu+POOcYtpXoAAAAASUVORK5CYII=\n",
       "\" style=\"display:inline;vertical-align:middle;\" /></a></span></td></tr>\n",
       "<tr><td>1</td><td>theorem</td><td></td><td><span style=\"font-size:20px;\"> <a class=\"ProveItLink\" href=\"../../_proofs_/trueOrTrue.ipynb\" style=\"text-decoration: none\">&#x22A2;&nbsp;</a><a class=\"ProveItLink\" href=\"../3a6119cb1d7b18a914c57817b1a786bb99cf975b0/expr.ipynb\"><img src=\"data:image/png;base64,iVBORw0KGgoAAAANSUhEUgAAADUAAAAPBAMAAAC2KZqIAAAALVBMVEX///+YmJiqqqrc3NwyMjLu\n",
       "7u6IiIhUVFS6urp2dnbMzMxEREQiIiJmZmYAAABsGi9eAAAAAXRSTlMAQObYZgAAAHZJREFUGNNj\n",
       "uHMGBE4zIAFesNCZDSD2WogQB5hcACa5LkDVQeXYQcJsCVjluECG8ARglWNwBmJdBuxyulB5bHJA\n",
       "88DmYpMDuoO9AYccwwGGEAZccpcYJuKUMwHqxCXHvjABpxzXngB0uZXwUPaFq5rAgA6WovAANrQq\n",
       "6fyz5SwAAAAASUVORK5CYII=\n",
       "\" style=\"display:inline;vertical-align:middle;\" /></a></span></td></tr>\n",
       "<tr><td>&nbsp;</td><td colspan=4 style-\"text-align:left\"><a class=\"ProveItLink\" href=\"../../_proofs_/trueOrTrue.ipynb\">proveit.logic.boolean.disjunction.trueOrTrue</a></td></tr></table>"
      ],
      "text/plain": [
       "<proveit._core_.proof._ShowProof at 0x7f94eb122f60>"
      ]
     },
     "execution_count": 1,
     "metadata": {},
     "output_type": "execute_result"
    }
   ],
   "source": [
    "import proveit\n",
    "%show_proof"
   ]
  },
  {
   "cell_type": "code",
   "execution_count": null,
   "metadata": {},
   "outputs": [],
   "source": []
  }
 ],
 "metadata": {
  "kernelspec": {
   "display_name": "Python 3",
   "language": "python",
   "name": "python3"
  }
 },
 "nbformat": 4,
 "nbformat_minor": 0
}
