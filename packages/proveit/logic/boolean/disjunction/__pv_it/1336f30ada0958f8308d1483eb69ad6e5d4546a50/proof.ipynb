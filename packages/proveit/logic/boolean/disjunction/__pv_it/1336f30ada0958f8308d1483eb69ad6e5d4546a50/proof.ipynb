{
 "cells": [
  {
   "cell_type": "markdown",
   "metadata": {},
   "source": [
    "Show the Proof\n",
    "========"
   ]
  },
  {
   "cell_type": "code",
   "execution_count": 1,
   "metadata": {},
   "outputs": [
    {
     "data": {
      "text/html": [
       "<table><tr><th>&nbsp;</th><th>step type</th><th>requirements</th><th>statement</th></tr>\n",
       "<tr><td>0</td><td>assumption</td><td></td><td><span style=\"font-size:20px;\"><a class=\"ProveItLink\" href=\"../93075060f3ccef3d6c8c6fb7a1dc29e06012c28e0/expr.ipynb\"><img src=\"data:image/png;base64,iVBORw0KGgoAAAANSUhEUgAAAFEAAAAVBAMAAADMaB9/AAAAMFBMVEX////c3NxERESqqqpUVFS6\n",
       "urrMzMwyMjIQEBCIiIh2dnYiIiLu7u5mZmaYmJgAAABXZE4RAAAAAXRSTlMAQObYZgAAATBJREFU\n",
       "KM9jYGDgu8dAALCtEgBRPLsYCAK2ZhDJ+QHMOaly94EsFkVct39fYGC4DmY2gMk+BobYPmzmcX0D\n",
       "EivgKnmqDwBZH+HSBxAq2RtQVLL3AAnWBrh0DUIlvwOKyvsGQILxAlw6BKEy/gGySsbv4FBIQDhu\n",
       "Apy5XgCmkrcAiP/BJXh3g8FfuEAFiHgPIjICGBi4P6L7mLkUyuD5AvYW0GEpbSBXg8OUB1np8Vao\n",
       "Foh16kDXRgBdxwFWaYYcK1XQgOL9AyK5FwAJFqA7WcDcC0ju3ARWyNjLwL0B7k4uIJPtJ4iBFNzM\n",
       "DpAg+MWQDw4FRHi+N2BgvYhkuThUwwSeLQyoKtncfS8j+0cRSs+c8gBNJTpIQOPjVsmATSUfMSrB\n",
       "6ZNnJxFpHhINfIuJykcAjBJU87EiPXYAAAAASUVORK5CYII=\n",
       "\" style=\"display:inline;vertical-align:middle;\" /></a> <a class=\"ProveItLink\" href=\"proof.ipynb\" style=\"text-decoration: none\">&#x22A2;&nbsp;</a><a class=\"ProveItLink\" href=\"../0c772d985a25c627e4669ebbba81f21e301bc6800/expr.ipynb\"><img src=\"data:image/png;base64,iVBORw0KGgoAAAANSUhEUgAAAD0AAAAPBAMAAACl/tp8AAAAMFBMVEX////MzMyqqqoiIiIyMjK6\n",
       "uroQEBB2dnbc3NyYmJhmZmZUVFRERESIiIju7u4AAAB204erAAAAAXRSTlMAQObYZgAAAM9JREFU\n",
       "GNNjYGDgu7NrJccCBkxQZW8FosomMLAum4BFnqFeAEg8sQOxGmBifEjybmDiAZAIg4uxPEDI/wZi\n",
       "rk8gVhdcjHUDgvkTSPQ7gJgPEZpq4Sz2H0BiPcJli41BwB7uFZYEIGHfgO5qlQAo4z3Iqv9gJpKj\n",
       "GPjcoAr0QUbng1hMAkjyInVQxnqQrv0gggvJfuNzYE7bAgZjEC1/AUjUIWnXhoZdAeNfEM0J9H8U\n",
       "khs5HCC0LsNjSEhIe69SQNLOA1XLe3cntihhYETlAgDaUTAvaLKgFQAAAABJRU5ErkJggg==\n",
       "\" style=\"display:inline;vertical-align:middle;\" /></a></span></td></tr>\n",
       "</table>"
      ],
      "text/plain": [
       "<proveit._core_.proof._ShowProof at 0x7f94ebcd0860>"
      ]
     },
     "execution_count": 1,
     "metadata": {},
     "output_type": "execute_result"
    }
   ],
   "source": [
    "import proveit\n",
    "%show_proof"
   ]
  },
  {
   "cell_type": "code",
   "execution_count": null,
   "metadata": {},
   "outputs": [],
   "source": []
  }
 ],
 "metadata": {
  "kernelspec": {
   "display_name": "Python 3",
   "language": "python",
   "name": "python3"
  }
 },
 "nbformat": 4,
 "nbformat_minor": 0
}
