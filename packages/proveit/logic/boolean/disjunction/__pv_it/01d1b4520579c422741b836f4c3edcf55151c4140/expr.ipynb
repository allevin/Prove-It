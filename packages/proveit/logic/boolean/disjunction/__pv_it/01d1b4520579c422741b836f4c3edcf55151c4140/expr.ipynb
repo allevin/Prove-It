{
 "cells": [
  {
   "cell_type": "markdown",
   "metadata": {},
   "source": [
    "Expression of type <a class=\"ProveItLink\" href=\"../../../../../../../doc/html/api/proveit.ExprTuple.html\">ExprTuple</a>\n",
    "=======================\n",
    "# from context <a class=\"ProveItLink\" href=\"../../_context_.ipynb\">proveit.logic.boolean.disjunction</a>"
   ]
  },
  {
   "cell_type": "code",
   "execution_count": 1,
   "metadata": {},
   "outputs": [],
   "source": [
    "# import Expression classes needed to build the expression\n",
    "from proveit import ExprTuple\n",
    "from proveit._common_ import A, H\n",
    "from proveit.logic import Implies"
   ]
  },
  {
   "cell_type": "code",
   "execution_count": 2,
   "metadata": {},
   "outputs": [
    {
     "data": {
      "text/html": [
       "<strong id=\"expr\">expr:</strong> <a class=\"ProveItLink\" href=\"expr.ipynb\"><img src=\"data:image/png;base64,iVBORw0KGgoAAAANSUhEUgAAAE8AAAAVBAMAAAD1D64kAAAAMFBMVEX////c3NwiIiJERESqqqqY\n",
       "mJh2dnZmZmYQEBDu7u4yMjJUVFTMzMyIiIi6uroAAAAs73DqAAAAAXRSTlMAQObYZgAAAVRJREFU\n",
       "KM9jYCAa8F0grCYORJyGsA9hU3D7v/mE6P/mAuwHgJyVELH1WI36BcSfgHgBAwMvxGZW/QkIaTiT\n",
       "7y8DA893ICOMgYEDIipSL4BQuBLGYPsDNOkLkDGDgeEVROjC/QcIha9hDK4PDAzMP4EMZgeGMogd\n",
       "E/wDEArZYAHBbwDECiCRAoalYJF5DOfBkuxKYPAdqvD96t277QuADJYFDH1gkQcM8gVInmVZB6Hz\n",
       "gcFy3wFkYwPDP5AAz+7d+w2Qg2VWHzzM7EG+5fkAUcgH9P0CJHU8yyBh8RkalCCFLSAaaDpTA5Ib\n",
       "lScggvEbA8RqUyDF6AAJCbgTNyAFI9hK1gUM6SAXMUCDCwqk0IMRFDyPGBiE+xcysNr/QnjbEEJN\n",
       "t/99gX3/7wSQlgcMHAKYSeEAhggwClkTiEm0ucgpAA/gBIWdNBEKuUHuYyQiK9xhYAAAhiJYRuGm\n",
       "RJkAAAAASUVORK5CYII=\n",
       "\" style=\"display:inline;vertical-align:middle;\" /></a><br>"
      ],
      "text/plain": [
       "expr: (A => H)"
      ]
     },
     "execution_count": 2,
     "metadata": {},
     "output_type": "execute_result"
    }
   ],
   "source": [
    "# build up the expression from sub-expressions\n",
    "expr = ExprTuple(Implies(A, H))"
   ]
  },
  {
   "cell_type": "code",
   "execution_count": 3,
   "metadata": {},
   "outputs": [
    {
     "name": "stdout",
     "output_type": "stream",
     "text": [
      "Passed sanity check: built 'expr' is the same as the stored Expression.\n"
     ]
    }
   ],
   "source": [
    "# check that the built expression is the same as the stored expression\n",
    "%check_expr"
   ]
  },
  {
   "cell_type": "code",
   "execution_count": 4,
   "metadata": {},
   "outputs": [
    {
     "data": {
      "text/html": [
       "<table><tr><th>&nbsp;</th><th>core type</th><th>sub-expressions</th><th>expression</th></tr>\n",
       "<tr><td>0</td><td>ExprTuple</td><td>1</td><td><a class=\"ProveItLink\" href=\"expr.ipynb\"><img src=\"data:image/png;base64,iVBORw0KGgoAAAANSUhEUgAAAE8AAAAVBAMAAAD1D64kAAAAMFBMVEX////c3NwiIiJERESqqqqY\n",
       "mJh2dnZmZmYQEBDu7u4yMjJUVFTMzMyIiIi6uroAAAAs73DqAAAAAXRSTlMAQObYZgAAAVRJREFU\n",
       "KM9jYCAa8F0grCYORJyGsA9hU3D7v/mE6P/mAuwHgJyVELH1WI36BcSfgHgBAwMvxGZW/QkIaTiT\n",
       "7y8DA893ICOMgYEDIipSL4BQuBLGYPsDNOkLkDGDgeEVROjC/QcIha9hDK4PDAzMP4EMZgeGMogd\n",
       "E/wDEArZYAHBbwDECiCRAoalYJF5DOfBkuxKYPAdqvD96t277QuADJYFDH1gkQcM8gVInmVZB6Hz\n",
       "gcFy3wFkYwPDP5AAz+7d+w2Qg2VWHzzM7EG+5fkAUcgH9P0CJHU8yyBh8RkalCCFLSAaaDpTA5Ib\n",
       "lScggvEbA8RqUyDF6AAJCbgTNyAFI9hK1gUM6SAXMUCDCwqk0IMRFDyPGBiE+xcysNr/QnjbEEJN\n",
       "t/99gX3/7wSQlgcMHAKYSeEAhggwClkTiEm0ucgpAA/gBIWdNBEKuUHuYyQiK9xhYAAAhiJYRuGm\n",
       "RJkAAAAASUVORK5CYII=\n",
       "\" style=\"display:inline;vertical-align:middle;\" /></a></td></tr>\n",
       "<tr><td>1</td><td>Operation</td><td>operator:&nbsp;2<br>operands:&nbsp;3<br></td><td><a class=\"ProveItLink\" href=\"../ac54d531cdd4e8e152ede9522e5a75c7b88e37e40/expr.ipynb\"><img src=\"data:image/png;base64,iVBORw0KGgoAAAANSUhEUgAAAEMAAAAPBAMAAABNfm9XAAAAMFBMVEX///92dnYQEBBERERUVFS6\n",
       "urqIiIhmZmaqqqrc3Nzu7u6YmJgyMjIiIiLMzMwAAACFkkdwAAAAAXRSTlMAQObYZgAAAORJREFU\n",
       "KM9jYACBtwxYQMp/8wVb/ptPgPDOY1PC8AeI/0LZ3PcXICTgTNZvDAx836GcGfUTEEpOwRiM/xgY\n",
       "2H5AOQn5AQglITAGzwcGBuZfUBMX9G9AKGFMgDL4DYD4AoS9lOE9WJj9LhjArI8/4uJiXwBhBzDM\n",
       "L0DyCMdRCC3/gIEhvwHM5HNx8TdA9uwaVXhI2EP8x8rAwHQASQXfQYj4Z2jQAAHQLF4FJLdcXoAI\n",
       "lo9gJmcDxH9wpzggBctXiM0MCO+DwByMYJmsf5KB2/4PwkuWEGq5/ZcEdv8vAtgi7wG6AABg7Udg\n",
       "2AFDvgAAAABJRU5ErkJggg==\n",
       "\" style=\"display:inline;vertical-align:middle;\" /></a></td></tr>\n",
       "<tr><td>2</td><td>Literal</td><td></td><td><a class=\"ProveItLink\" href=\"../../../implication/__pv_it/e5c030cabcb650938f92dee8256fe11cd12bf9b30/expr.ipynb\"><img src=\"data:image/png;base64,iVBORw0KGgoAAAANSUhEUgAAABMAAAANBAMAAAC5okgUAAAALVBMVEX////c3NxERETMzMwQEBCq\n",
       "qqoiIiJmZmaIiIh2dnZUVFS6uroyMjLu7u4AAACPpZJTAAAAAXRSTlMAQObYZgAAAD1JREFUCNdj\n",
       "YAABXgY44LkAZ3IvQAjPABFlaSCQV4AQjtkAZ/IegbNt5sLUpunC5aPgLMYDcCaTAJzJDCIA2yMN\n",
       "HCCUuIIAAAAASUVORK5CYII=\n",
       "\" style=\"display:inline;vertical-align:middle;\" /></a></td></tr>\n",
       "<tr><td>3</td><td>ExprTuple</td><td>4, 5</td><td><a class=\"ProveItLink\" href=\"../5fa4b5baa7aa5f40a16d7ab75843631ed189bd470/expr.ipynb\"><img src=\"data:image/png;base64,iVBORw0KGgoAAAANSUhEUgAAADgAAAAVBAMAAADhmjDFAAAAMFBMVEX////c3NwiIiJERESqqqqY\n",
       "mJh2dnZmZmYQEBDu7u4yMjJUVFTMzMyIiIi6uroAAAAs73DqAAAAAXRSTlMAQObYZgAAAStJREFU\n",
       "KM9jYMAL+C5gF2d9ACROQ9iHYIK8+z9Xsu7/XMhQA+SshIith2vhXwDECgwMXECFEFNZ9SfAJN8D\n",
       "Rc4XAIUSGDgggiL1AjDJ/AMMDPcdGBg4GxheQUQu3H8AkwRZYA/SYsJQBnHyBP8AmORnIP4EYqQz\n",
       "LAULzGM4D/MR36/duzd/B7G8GPrAIg8Y5Augkmx/gK78AmK9YPgHonh2795vAJXk+sDAwPwTxDoP\n",
       "keRjYOBYAPOmAcSrIMkWEAV0OFMDsjcTIMaaAklGB4hpE+DeBPsrCuheBoZZDGBrOD+heBMo9YiB\n",
       "Qbh/IQOr/a8Czn4BBs7i/3sZqv9vA0muY+AQQIo9AeQ4AwYfawJSFKJEKNsFeJRhSoJcIo3goqaJ\n",
       "jSB/4EgmvAcYAPmDUeEtG6fWAAAAAElFTkSuQmCC\n",
       "\" style=\"display:inline;vertical-align:middle;\" /></a></td></tr>\n",
       "<tr><td>4</td><td>Variable</td><td></td><td><a class=\"ProveItLink\" href=\"../../../../../__pv_it/2cbe72a7ad6f655694dd697106680215e8489b600/expr.ipynb\"><img src=\"data:image/png;base64,iVBORw0KGgoAAAANSUhEUgAAAA8AAAAOBAMAAAACpFvcAAAALVBMVEX///8QEBBERERUVFS6urqI\n",
       "iIhmZmaqqqrc3Nzu7u6YmJgyMjIiIiLMzMwAAADtIaYWAAAAAXRSTlMAQObYZgAAAFtJREFUCNdj\n",
       "YACBOwxQsA9Kc52bAGG05zVAGAFxDmCaZULdAjBjCsO9ADDDgaEvAUTzGhvbKYCVMDAwbgAxChgY\n",
       "eASANAeQwf0AyJgNxEwvGRia5HYwcOm9TgAA6BoR3jrzwFcAAAAASUVORK5CYII=\n",
       "\" style=\"display:inline;vertical-align:middle;\" /></a></td></tr>\n",
       "<tr><td>5</td><td>Variable</td><td></td><td><a class=\"ProveItLink\" href=\"../../../../../__pv_it/fabf74ac81cd36aa91075816201d2b14195a56e60/expr.ipynb\"><img src=\"data:image/png;base64,iVBORw0KGgoAAAANSUhEUgAAABMAAAAOBAMAAAA/Njq6AAAALVBMVEX///+qqqp2dnbMzMy6uroi\n",
       "IiIyMjLc3NyYmJju7u5mZmZERERUVFSIiIgAAABaGT/LAAAAAXRSTlMAQObYZgAAAGhJREFUCNdj\n",
       "YGC4827XhJ53uwoYgOAZED8FMRhY3jIwML8CM5keMzDwPgQz2R4wMHC/BDP5NgBxAJjpl3PmzL4F\n",
       "YKaeAQPDPQEwMw+I900AM19DjYYa+whh7BM0Y2fte3OB69wbBQYGADOSITJjbaXUAAAAAElFTkSu\n",
       "QmCC\n",
       "\" style=\"display:inline;vertical-align:middle;\" /></a></td></tr>\n",
       "</table>\n"
      ],
      "text/plain": [
       "0. (A => H)\n",
       "   core type: ExprTuple\n",
       "   sub-expressions: 1\n",
       "1. A => H\n",
       "   core type: Operation\n",
       "   operator: 2\n",
       "   operands: 3\n",
       "2. =>\n",
       "   core type: Literal\n",
       "   sub-expressions: \n",
       "3. (A , H)\n",
       "   core type: ExprTuple\n",
       "   sub-expressions: 4, 5\n",
       "4. A\n",
       "   core type: Variable\n",
       "   sub-expressions: \n",
       "5. H\n",
       "   core type: Variable\n",
       "   sub-expressions: "
      ]
     },
     "execution_count": 4,
     "metadata": {},
     "output_type": "execute_result"
    }
   ],
   "source": [
    "# display the expression information\n",
    "expr.exprInfo()"
   ]
  },
  {
   "cell_type": "code",
   "execution_count": null,
   "metadata": {},
   "outputs": [],
   "source": []
  }
 ],
 "metadata": {
  "kernelspec": {
   "display_name": "Python 3",
   "language": "python",
   "name": "python3"
  }
 },
 "nbformat": 4,
 "nbformat_minor": 0
}
