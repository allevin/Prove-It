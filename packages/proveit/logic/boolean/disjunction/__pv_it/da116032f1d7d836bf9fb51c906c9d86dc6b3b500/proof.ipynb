{
 "cells": [
  {
   "cell_type": "markdown",
   "metadata": {},
   "source": [
    "Show the Proof\n",
    "========"
   ]
  },
  {
   "cell_type": "code",
   "execution_count": 1,
   "metadata": {},
   "outputs": [
    {
     "data": {
      "text/html": [
       "<table><tr><th>&nbsp;</th><th>step type</th><th>requirements</th><th>statement</th></tr>\n",
       "<tr><td>0</td><td>assumption</td><td></td><td><span style=\"font-size:20px;\"><a class=\"ProveItLink\" href=\"../bc439467fc826c806ce29ced47e24afe9a6143f30/expr.ipynb\"><img src=\"data:image/png;base64,iVBORw0KGgoAAAANSUhEUgAAAJoAAAAVBAMAAABMN+opAAAAMFBMVEX///9ERETc3NyqqqpUVFS6\n",
       "urrMzMwyMjIQEBCIiIh2dnYiIiLu7u5mZmaYmJgAAABJJ2g3AAAAAXRSTlMAQObYZgAAAkxJREFU\n",
       "OMutVb9v00AUfnEcUye2y0QrIZRIDEwI/wMVHUwRA0pGhiIlUoYIIRIqBoamwEKXSk3HTq1gYUBt\n",
       "B4YWRaonuoJYkBDFSCyIoRRSKlAhvB/XcFc6IZ90z/F377679973HAAItiGNceMRWe85pDMaIRr3\n",
       "i7w4a0dWP/ajaKRiYt7C1W3rpQG55V50+RT+8Fto8vcFPcGsvNsR5AF67JnYkwRybxKAHL9V2Q4j\n",
       "y8VQER2yfT4gO0FmUS77A2fPwLa6aFZLADYRuR32ay7jqQcmmzX2lR41Ml0JAYHgp4HdjdFco5NO\n",
       "oinE7LdUkZN1Ntfd43jx4KwkJoMLhTkd878Rfp7MFM4xCapId+mZbJPZ3/SgXbSb8jEO1u1Yxy5Q\n",
       "nuEFKKYpYdsFyQgTcSnAq9BlJaKaeDWvLL5NDOx9MqgkRsnRSpCckYDK2OCS5cD6BSrbl2TDUgm8\n",
       "Zwa2Wfqriw7Yoh73Oxqb0tQGqD9krB5Fu3IoeC3ZMEqMiY71GZfcr8GWuGXoSkMUZWYGS1RVOpvl\n",
       "RT/Mq3hIHDvLOjbPmRWVvYYVcRumgHdonZrKpmOzONdFKa2C6g2qSjnUsTJdy5flc6B6p9kRoUve\n",
       "8oSexXlPVic+wUBu1r6B8canAtm3Oiq9eNfMNGgK4bQUJSG1Lgzk1pgGHQtQb9dVJZzT8UBuThs0\n",
       "Nmt0vwQf+m3pV9GuX8RmnlEVVBjU77wLD6sq3t4r/DacqepsxnDifz82x2E3jwLHsv33YKIgLTZu\n",
       "Km8jrW8v90bwOLX/hT87OJxkYUleVQAAAABJRU5ErkJggg==\n",
       "\" style=\"display:inline;vertical-align:middle;\" /></a> <a class=\"ProveItLink\" href=\"proof.ipynb\" style=\"text-decoration: none\">&#x22A2;&nbsp;</a><a class=\"ProveItLink\" href=\"../342f44533fb807d4878ee35ed73a6dd435e8ed210/expr.ipynb\"><img src=\"data:image/png;base64,iVBORw0KGgoAAAANSUhEUgAAAIcAAAAPBAMAAAA8KsGMAAAAMFBMVEX///92dnYQEBBERERUVFS6\n",
       "urqIiIhmZmaqqqrc3Nzu7u6YmJgyMjIiIiLMzMwAAACFkkdwAAAAAXRSTlMAQObYZgAAAehJREFU\n",
       "OMuNUz0sQ1EUPm2fVv9e7RYxIiFiEtImnlhEu1k7SI1tYsCi3WxIDAySvgULSSerJiLShBBjDSQ2\n",
       "P2kbJVUNzs9V95nc5J5373e/d853zj0XgMYzOEcwXrcmTv+AeyOLhS0nNPdlWSd3anNJpoOXArmH\n",
       "ALIJB+bqB5jFCQnamfJjC6CzoQLf2mgN4nqTjFTwU4npWOACOa53XM0QIcU0s4Yma/N6O7tBCEaH\n",
       "sCBpBI67dCzUR2J70NwTocw076sKiCOZZoklnKuibRjnta1j2Rwaf4bcYYDODNM8VTT5GBfDXi+A\n",
       "IpfESR1gZ1TH/C3aBSg7ckCOcERIaIWd7CpFKJvlYxb11PwN6Jjv4/dOyiollQmlTeXOszosoJGQ\n",
       "XLGAhzEdC7//OsGiTsoqTcridG5aVlwEXMGBHHqwgN4PHYtUOR1RB4Gi8KJkelV/uAVcgm45jKCK\n",
       "YE3H3OxkjSFfzlUQ3gv1BwfDsod7GNvBuJIrkoyGjhlNsnIn/mJYaOab6kvwo5MQxwHjMQntNskX\n",
       "dYz5LmkimDmSr/cTzRiBlLKnKZ7H7XabmAO2AzvOQceyqux9Gdpt8kTqNgdLEIy2ROiZHC7guzpX\n",
       "af9g5vTU0s/1hIS9H8VnugJ/xwPAfzDTdu6/AcG6i5kiy891AAAAAElFTkSuQmCC\n",
       "\" style=\"display:inline;vertical-align:middle;\" /></a></span></td></tr>\n",
       "</table>"
      ],
      "text/plain": [
       "<proveit._core_.proof._ShowProof at 0x7f94e56c8d68>"
      ]
     },
     "execution_count": 1,
     "metadata": {},
     "output_type": "execute_result"
    }
   ],
   "source": [
    "import proveit\n",
    "%show_proof"
   ]
  },
  {
   "cell_type": "code",
   "execution_count": null,
   "metadata": {},
   "outputs": [],
   "source": []
  }
 ],
 "metadata": {
  "kernelspec": {
   "display_name": "Python 3",
   "language": "python",
   "name": "python3"
  }
 },
 "nbformat": 4,
 "nbformat_minor": 0
}
