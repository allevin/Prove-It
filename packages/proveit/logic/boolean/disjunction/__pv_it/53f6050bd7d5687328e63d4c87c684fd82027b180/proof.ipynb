{
 "cells": [
  {
   "cell_type": "markdown",
   "metadata": {},
   "source": [
    "Show the Proof\n",
    "========"
   ]
  },
  {
   "cell_type": "code",
   "execution_count": 1,
   "metadata": {},
   "outputs": [
    {
     "data": {
      "text/html": [
       "<table><tr><th>&nbsp;</th><th>step type</th><th>requirements</th><th>statement</th></tr>\n",
       "<tr><td>0</td><td>assumption</td><td></td><td><span style=\"font-size:20px;\"><a class=\"ProveItLink\" href=\"../9c0af83adf5e4ac9554397a69658f22c4fa13fc00/expr.ipynb\"><img src=\"data:image/png;base64,iVBORw0KGgoAAAANSUhEUgAAAEoAAAAVBAMAAAATJmVgAAAAMFBMVEX////c3NxERESqqqpUVFS6\n",
       "urrMzMwyMjIQEBCIiIh2dnYiIiLu7u5mZmaYmJgAAABXZE4RAAAAAXRSTlMAQObYZgAAATFJREFU\n",
       "KM9jYGDgu8eAD2QtBJE8uxjwgwwDIMH5AUT4f3Fx6Z+ALMlVr/69WxnI4C0A8RpAYvxAJtMDFDOY\n",
       "WCccP7UAqgCiKh7I5QtAV8UZUICiaj3QcuYEsDun795dAFXF/MAHRVX9AQYBvgMgVvobJLMCFVBU\n",
       "/WbggbiKUQfJxuxHB6AKwF5g/cvAKwCRE0Co2v2/E0jzgQIhA+Rmru8uOyByh1BcPxloI0MtA0NK\n",
       "G0iE/Q8DC0QuYvduhOsZFKJAjDqgMMhn/BsYzkFUpSCbxaDABGSAIoelABpcEHAaQxXYXVwbQMEF\n",
       "D1CWByiqopBDoh5uAs9WJFV8N5HCi+fSf194AIhfg8f2px3ODCihigRMqiF+hCcOrKrQAVgBHyFV\n",
       "4Mjh2UkorYL9z7eYYLoHANpPVfTqIEUeAAAAAElFTkSuQmCC\n",
       "\" style=\"display:inline;vertical-align:middle;\" /></a> <a class=\"ProveItLink\" href=\"proof.ipynb\" style=\"text-decoration: none\">&#x22A2;&nbsp;</a><a class=\"ProveItLink\" href=\"../3c1634f045b24c31ed4ca4ed56ea22afbbdbf5570/expr.ipynb\"><img src=\"data:image/png;base64,iVBORw0KGgoAAAANSUhEUgAAADcAAAAPBAMAAACy3Eq1AAAAMFBMVEX///9mZmYiIiLc3Nzu7u7M\n",
       "zMyqqqp2dna6urqYmJhEREQyMjIQEBBUVFSIiIgAAABBzvKsAAAAAXRSTlMAQObYZgAAANhJREFU\n",
       "GNNjYGB4+//u3Tv/GJBB9a/9e7QSwMzfQLwSRZJhQR/LlnIQg+M7kJiBLsnwghvEYP8GJFLBYn6b\n",
       "lLRhkpm8DkAG9xcGZoYpICHWnQ5IOq1ADH4FBk+IkJUDwlhWzSUgRr8AgzBEaDHCzib9Pw9AjPq9\n",
       "lw6ARVgWIDvoXRaIsd+B4QJYhOOQkhLCQVwcBUDGJwaWCWAR1gvIOrkYFkC9CTFWAUOS/Qdc6CaK\n",
       "JMhY7g9wIacGJMmJrxgYHNf/FYYJMW8MgAf8orMJqCHKwHYb6loIAAC5k0PCZkJyCQAAAABJRU5E\n",
       "rkJggg==\n",
       "\" style=\"display:inline;vertical-align:middle;\" /></a></span></td></tr>\n",
       "</table>"
      ],
      "text/plain": [
       "<proveit._core_.proof._ShowProof at 0x7f94eb69d7b8>"
      ]
     },
     "execution_count": 1,
     "metadata": {},
     "output_type": "execute_result"
    }
   ],
   "source": [
    "import proveit\n",
    "%show_proof"
   ]
  },
  {
   "cell_type": "code",
   "execution_count": null,
   "metadata": {},
   "outputs": [],
   "source": []
  }
 ],
 "metadata": {
  "kernelspec": {
   "display_name": "Python 3",
   "language": "python",
   "name": "python3"
  }
 },
 "nbformat": 4,
 "nbformat_minor": 0
}
