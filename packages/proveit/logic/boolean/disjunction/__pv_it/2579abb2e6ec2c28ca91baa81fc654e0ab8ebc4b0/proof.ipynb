{
 "cells": [
  {
   "cell_type": "markdown",
   "metadata": {},
   "source": [
    "Show the Proof\n",
    "========"
   ]
  },
  {
   "cell_type": "code",
   "execution_count": 1,
   "metadata": {},
   "outputs": [
    {
     "data": {
      "text/html": [
       "<table><tr><th>&nbsp;</th><th>step type</th><th>requirements</th><th>statement</th></tr>\n",
       "<tr><td>0</td><td>assumption</td><td></td><td><span style=\"font-size:20px;\"><a class=\"ProveItLink\" href=\"../9ddafb865030d1e7facef06ad7ccb152db6bc6770/expr.ipynb\"><img src=\"data:image/png;base64,iVBORw0KGgoAAAANSUhEUgAAAEoAAAAVBAMAAAATJmVgAAAAMFBMVEX////c3NxERESqqqpUVFS6\n",
       "urrMzMwyMjIQEBCIiIh2dnYiIiLu7u5mZmaYmJgAAABXZE4RAAAAAXRSTlMAQObYZgAAAT1JREFU\n",
       "KM9jYGDgu8eAD2QtBJE8uxjwgwwDIMH5Aax2ku89xgvIklz16t+7lYEM3gIQrwEktuIBA+uNByhm\n",
       "MLFOOH5qAVQBmDi+B0isF0BXxRlQgKyq4gCQyAZL8kzfvbsAqor5gQ+SKt7PIGFZsKr0N0hmBSog\n",
       "qZIHaz4IIhh1kGzMfnQAqgrkhfsIdzMJIFTt/t8JpPlAgZARwMCwH+HuQyiunwy0kaGWgSGlDUj/\n",
       "B+K55VoguYjduxGuZ1CIAjHqgMIJDAwdINH1ASAyBdksBgUmIAMUOSxAjf6ggKgHy53GUAV2F9cG\n",
       "Bob8CUDPfQfLsTxAURWFFBJ8/4BWQWKdZyuSKr6byOHFkFJy98EziKT4NXhsf9rhzICsChmYVEP8\n",
       "CE8cWFWhA7ACPkKqwOmLZyehtAoOR77FBNM9ADRFXEOmuHhjAAAAAElFTkSuQmCC\n",
       "\" style=\"display:inline;vertical-align:middle;\" /></a> <a class=\"ProveItLink\" href=\"proof.ipynb\" style=\"text-decoration: none\">&#x22A2;&nbsp;</a><a class=\"ProveItLink\" href=\"../410ec7b3af71c40cfaa32a322bb2b993944d8fe00/expr.ipynb\"><img src=\"data:image/png;base64,iVBORw0KGgoAAAANSUhEUgAAADYAAAAPBAMAAABdHiGLAAAAMFBMVEX///+qqqrMzMwiIiIyMjK6\n",
       "uroQEBB2dnbc3NyYmJhmZmZUVFRERESIiIju7u4AAACtjd3MAAAAAXRSTlMAQObYZgAAANtJREFU\n",
       "GNNjYGDgu7NrJccCBiTA7n/kS/JBEKtsAgPrsgnIcgw8rBeePC9gYHhiB+TUN6DL8QY4MDC4PQBy\n",
       "lMFCfFeMjR2gcowT9jFwfQRxusByKvOQ9EUcYOgHK3wBIjjOIZmpPOcBw3qEK3gaEHLG/3MZGOwR\n",
       "rniD4paLBxj+A5m3XI6DRMKMjRFuYTgQzpAGYtcHgEhtZH0MB3gY9oO84A8WeYwup38B6MAvYBHu\n",
       "CShy4QycP4GGmUO8bookx7n2AFDCe9WESRChlkXwsP5jtpEBFUg7Q9wJAQDY4kKvNKEA/gAAAABJ\n",
       "RU5ErkJggg==\n",
       "\" style=\"display:inline;vertical-align:middle;\" /></a></span></td></tr>\n",
       "</table>"
      ],
      "text/plain": [
       "<proveit._core_.proof._ShowProof at 0x7f950005a048>"
      ]
     },
     "execution_count": 1,
     "metadata": {},
     "output_type": "execute_result"
    }
   ],
   "source": [
    "import proveit\n",
    "%show_proof"
   ]
  },
  {
   "cell_type": "code",
   "execution_count": null,
   "metadata": {},
   "outputs": [],
   "source": []
  }
 ],
 "metadata": {
  "kernelspec": {
   "display_name": "Python 3",
   "language": "python",
   "name": "python3"
  }
 },
 "nbformat": 4,
 "nbformat_minor": 0
}
