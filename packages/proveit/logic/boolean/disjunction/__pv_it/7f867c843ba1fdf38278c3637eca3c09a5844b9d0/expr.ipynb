{
 "cells": [
  {
   "cell_type": "markdown",
   "metadata": {},
   "source": [
    "Expression of type <a class=\"ProveItLink\" href=\"../../../../../../../doc/html/api/proveit.ExprTuple.html\">ExprTuple</a>\n",
    "=======================\n",
    "# from context <a class=\"ProveItLink\" href=\"../../_context_.ipynb\">proveit.logic.boolean.disjunction</a>"
   ]
  },
  {
   "cell_type": "code",
   "execution_count": 1,
   "metadata": {},
   "outputs": [],
   "source": [
    "# import Expression classes needed to build the expression\n",
    "from proveit import ExprTuple\n",
    "from proveit._common_ import A, B, C, D\n",
    "from proveit.logic import Or"
   ]
  },
  {
   "cell_type": "code",
   "execution_count": 2,
   "metadata": {},
   "outputs": [
    {
     "data": {
      "text/html": [
       "<strong id=\"expr\">expr:</strong> <a class=\"ProveItLink\" href=\"expr.ipynb\"><img src=\"data:image/png;base64,iVBORw0KGgoAAAANSUhEUgAAAMcAAAAVBAMAAAAA3efRAAAAMFBMVEX////c3NwiIiJERESqqqqY\n",
       "mJh2dnZmZmYQEBDu7u4yMjJUVFTMzMyIiIi6uroAAAAs73DqAAAAAXRSTlMAQObYZgAAAs1JREFU\n",
       "SMe9VU1oE0EU/tJmm79NumBBqIf0IphTRRArCMmtxwYFb9pcRD2IAX9vKeipBxM8SRHZHqT+gBY8\n",
       "CG4xxeJBcmjAgxdLixd/TtW2Shs1vjdvprubInhoHNi3730zb97MN+/NAP+lZZrdnf80i4borwxo\n",
       "1VvesyfGSrx9fiVS7nS0h8J22EdamrAXx4DYPBkPBXu63Rs/CFRWtHGuiMz1Iu1XWfMaTa6yVGPs\n",
       "sE8A63eBsQJAv7SwZQ3XTJBFQhZnRZ/KkbjoACmeP22YPb7Jco7FUtgniJVoGzTwJK1BJh+oOCbI\n",
       "MmnjJdEfcO8nXhwtFT16IZHRr/xbYJEL+wQx2pX9C7gDfBG/5rIhCCP0HZDpYuss97KYpm/U0J3+\n",
       "rUijmaPlsE8Ay/NyWkBvAVclxWpjRROE8MGjomZdlnehA0zrEZ+jG/zjyZJO2CeArTEB1NFXxn0F\n",
       "3FOsSua0lt7t13plOzJTpSjjjFthFoSWhU4fH+Mx1neK6+IWJFGyJk/TxPdtfe7Djp+RTaQ0oxlE\n",
       "fkAf8MtOHx/7SSJFvGYmoNi1Pa+ul4neCRqwIXpbSTmfIUzpEQ3PW5PdIeF2+vgYp3mcOuxVCUJV\n",
       "EHf1FP2zsktuVUWzVMdlnNEjaEOTkheFvmKnj4/xqseLKshNBqhkeiZMmRCeWhe9zpuIiT4IXeZR\n",
       "ziRJZbdnh4+P8SHfgKLrMHcUpIhrJuU5q2pm4HlxSr3WqTHg3w9zp/zSyrodGBHQy9eJ5eIs1zVT\n",
       "uInEN53y9mRNDItW91Efvn1IzkZRnhd9IbddWuwTwqhM7BlWKIU/AHuq07DyW+VElea71Pa8R7R7\n",
       "ZaDx+FrB5NeM0DGy5eBEW4ykpKTxCWAJxo6o00yuIO4Ebn0HfzG4vdl5jdu1f8DoWrFKgRs7dH3v\n",
       "1oNywb/quxZEneE+3w69kbv1YKaY9kiXn9/3wB/D4tmnMr311QAAAABJRU5ErkJggg==\n",
       "\" style=\"display:inline;vertical-align:middle;\" /></a><br>"
      ],
      "text/plain": [
       "expr: (A , B , C or A or B or D)"
      ]
     },
     "execution_count": 2,
     "metadata": {},
     "output_type": "execute_result"
    }
   ],
   "source": [
    "# build up the expression from sub-expressions\n",
    "expr = ExprTuple(A, B, Or(C, A, B, D))"
   ]
  },
  {
   "cell_type": "code",
   "execution_count": 3,
   "metadata": {},
   "outputs": [
    {
     "name": "stdout",
     "output_type": "stream",
     "text": [
      "Passed sanity check: built 'expr' is the same as the stored Expression.\n"
     ]
    }
   ],
   "source": [
    "# check that the built expression is the same as the stored expression\n",
    "%check_expr"
   ]
  },
  {
   "cell_type": "code",
   "execution_count": 4,
   "metadata": {},
   "outputs": [
    {
     "data": {
      "text/html": [
       "<table><tr><th>&nbsp;</th><th>core type</th><th>sub-expressions</th><th>expression</th></tr>\n",
       "<tr><td>0</td><td>ExprTuple</td><td>5, 6, 1</td><td><a class=\"ProveItLink\" href=\"expr.ipynb\"><img src=\"data:image/png;base64,iVBORw0KGgoAAAANSUhEUgAAAMcAAAAVBAMAAAAA3efRAAAAMFBMVEX////c3NwiIiJERESqqqqY\n",
       "mJh2dnZmZmYQEBDu7u4yMjJUVFTMzMyIiIi6uroAAAAs73DqAAAAAXRSTlMAQObYZgAAAs1JREFU\n",
       "SMe9VU1oE0EU/tJmm79NumBBqIf0IphTRRArCMmtxwYFb9pcRD2IAX9vKeipBxM8SRHZHqT+gBY8\n",
       "CG4xxeJBcmjAgxdLixd/TtW2Shs1vjdvprubInhoHNi3730zb97MN+/NAP+lZZrdnf80i4borwxo\n",
       "1VvesyfGSrx9fiVS7nS0h8J22EdamrAXx4DYPBkPBXu63Rs/CFRWtHGuiMz1Iu1XWfMaTa6yVGPs\n",
       "sE8A63eBsQJAv7SwZQ3XTJBFQhZnRZ/KkbjoACmeP22YPb7Jco7FUtgniJVoGzTwJK1BJh+oOCbI\n",
       "MmnjJdEfcO8nXhwtFT16IZHRr/xbYJEL+wQx2pX9C7gDfBG/5rIhCCP0HZDpYuss97KYpm/U0J3+\n",
       "rUijmaPlsE8Ay/NyWkBvAVclxWpjRROE8MGjomZdlnehA0zrEZ+jG/zjyZJO2CeArTEB1NFXxn0F\n",
       "3FOsSua0lt7t13plOzJTpSjjjFthFoSWhU4fH+Mx1neK6+IWJFGyJk/TxPdtfe7Djp+RTaQ0oxlE\n",
       "fkAf8MtOHx/7SSJFvGYmoNi1Pa+ul4neCRqwIXpbSTmfIUzpEQ3PW5PdIeF2+vgYp3mcOuxVCUJV\n",
       "EHf1FP2zsktuVUWzVMdlnNEjaEOTkheFvmKnj4/xqseLKshNBqhkeiZMmRCeWhe9zpuIiT4IXeZR\n",
       "ziRJZbdnh4+P8SHfgKLrMHcUpIhrJuU5q2pm4HlxSr3WqTHg3w9zp/zSyrodGBHQy9eJ5eIs1zVT\n",
       "uInEN53y9mRNDItW91Efvn1IzkZRnhd9IbddWuwTwqhM7BlWKIU/AHuq07DyW+VElea71Pa8R7R7\n",
       "ZaDx+FrB5NeM0DGy5eBEW4ykpKTxCWAJxo6o00yuIO4Ebn0HfzG4vdl5jdu1f8DoWrFKgRs7dH3v\n",
       "1oNywb/quxZEneE+3w69kbv1YKaY9kiXn9/3wB/D4tmnMr311QAAAABJRU5ErkJggg==\n",
       "\" style=\"display:inline;vertical-align:middle;\" /></a></td></tr>\n",
       "<tr><td>1</td><td>Operation</td><td>operator:&nbsp;2<br>operands:&nbsp;3<br></td><td><a class=\"ProveItLink\" href=\"../7b3c4615a91a3b020f9d2e2862615c72733eddf10/expr.ipynb\"><img src=\"data:image/png;base64,iVBORw0KGgoAAAANSUhEUgAAAIYAAAAPBAMAAADT6KqyAAAAMFBMVEX////MzMyqqqoiIiIyMjK6\n",
       "uroQEBB2dnbc3NyYmJhmZmZUVFRERESIiIju7u4AAAB204erAAAAAXRSTlMAQObYZgAAAa5JREFU\n",
       "KM+Nk79LQlEUx78vM9SnJjRFkM4tNgUt6VAhBeXU0OTQGOgUtJSEUwS+/0BpCIpAh6ZeoBE0NKRz\n",
       "FL3IdpOi4pV2zruv8t6pC/fH+Zz77j33e84DEL49PfSVobQRxfbXbPNsTmYhYifnvNow4D0wAK/D\n",
       "I65/mYd+NFQHKmmZDSeBeAxozZCxnQd05qGme23CgoyiNEWrCssBgS4wz5tXqGt0ETyWOGOnklfQ\n",
       "PYFSTmEUl/aFQIeNXR5S1CfcpzTZLaFL6lOWzBrUfTaKSTYe4DpSwum14oaCbKBwrbBPjtVGxfiV\n",
       "mQJ0AqX25Dy/H2n23c20so2eQcq9IZH/S1UTelos0yiWZRR6Bx6rCntm3V/Rcywh0SRa4gjNNGt1\n",
       "GQUz9M2Hwtqc8wyybAyIdO9j05WDXEkZDVedsGXG95QM1DiEgGAFusJpVDaejIyipJveURhrtu7O\n",
       "W4Lpo6J0fHTGYFtCTnmIHPYxCj+4RPHR2auurtqF0IWfG+xKiMtDW7NkRuWhLfBibPEo9pMZB2Av\n",
       "m4K/8VLuQzjumeasIW0LM7uKqD/rOPAPpLJvllSLm7S3jtoAAAAASUVORK5CYII=\n",
       "\" style=\"display:inline;vertical-align:middle;\" /></a></td></tr>\n",
       "<tr><td>2</td><td>Literal</td><td></td><td><a class=\"ProveItLink\" href=\"../087d0b4ded7c7e5bf3bba05ecb616d7a8051ff650/expr.ipynb\"><img src=\"data:image/png;base64,iVBORw0KGgoAAAANSUhEUgAAAAwAAAAOBAMAAADpk+DfAAAALVBMVEX///+YmJh2dnZmZmaqqqrc\n",
       "3NwyMjLu7u4iIiJERESIiIhUVFTMzMy6uroAAAD0I/TTAAAAAXRSTlMAQObYZgAAAEtJREFUCNdj\n",
       "uMAABDwMe0DUKoaTIKqdgS2AgYHFAITAzHYGsMQqBoa9QIqDgT0BSDE7MAkAKdYEDpAehj1SYOpk\n",
       "O5hiMwBTPAUMDAB33Atnw8aG2QAAAABJRU5ErkJggg==\n",
       "\" style=\"display:inline;vertical-align:middle;\" /></a></td></tr>\n",
       "<tr><td>3</td><td>ExprTuple</td><td>4, 5, 6, 7</td><td><a class=\"ProveItLink\" href=\"../8efaaa70b98fd0285360aec221293fd47e9ddb940/expr.ipynb\"><img src=\"data:image/png;base64,iVBORw0KGgoAAAANSUhEUgAAAGkAAAAVBAMAAAC3TN2zAAAAMFBMVEX////c3NwiIiJERESqqqqY\n",
       "mJh2dnZmZmYQEBDu7u4yMjJUVFTMzMyIiIi6uroAAAAs73DqAAAAAXRSTlMAQObYZgAAAe9JREFU\n",
       "OMudVDFIHEEUfZe7PW/vds8tAoFYmCaQMo3EECHX2QRyREip11kJhkhSGjAWsUiOVDbiERDRwggW\n",
       "gltob2G6NIqnjWilMSp6ieb92fnrbnk5mNn/5v838/e92QP+71f+0SZhUKZNmWaeva/ei9e9BzZw\n",
       "1lvhypIFPsFaH9CxQbDAkZ8EDiZjVvFYo8JjYLxpQWcDeFkB+PDZoPutTuZJzHp1qdEWs1vLCmo8\n",
       "iKnX3I2E4id5vw9amumPN9gNgKGaAh7q/QWmgSPC8YrUjmqp719r2MvxqG7Bc6lqAdkK3jG6kjV3\n",
       "Q0sPc2casub+UwWnIhRX8qOYY69nKWXdprQRidna+fkwVlZWnXMg18Bn4M5J2kBkLrRXZr6qGP4f\n",
       "TqVrowDnTiO0q6zNMDy1YZYK+dpJVsoKXPGOhVUwrBfKolJT6tBy1FME6B2Gqob1kacae1TCnMim\n",
       "DrGm9DvhHSYij3rsa+brtse7HN9tw2JXN6+C0X6XImflJjkNDMuxFZTfALNy/dyGOFOPAO3yprjd\n",
       "L2uXNy8Bld8XTddWx/iYpmKZ3qsAAzfzBry9CcNFNul+CeAKeGI8LTZRCG4130sakATlIJnhjXJq\n",
       "t7CazCWBkzJ0xH4pbbHMm3fF0E/mUiD1uZek3Uy7/wDbwD/d04XfVxeVkQAAAABJRU5ErkJggg==\n",
       "\" style=\"display:inline;vertical-align:middle;\" /></a></td></tr>\n",
       "<tr><td>4</td><td>Variable</td><td></td><td><a class=\"ProveItLink\" href=\"../../../../../__pv_it/985a1bdf1540838275dec15f4ad6de261cca93ce0/expr.ipynb\"><img src=\"data:image/png;base64,iVBORw0KGgoAAAANSUhEUgAAAA8AAAAOBAMAAAACpFvcAAAAMFBMVEX////MzMyqqqoiIiIyMjK6\n",
       "uroQEBB2dnbc3NyYmJhmZmZUVFRERESIiIju7u4AAAB204erAAAAAXRSTlMAQObYZgAAAGZJREFU\n",
       "CNdjYGDgu7NrJccCBgaGsgkMrMsmMDA8sQNy6hsYGNweABlhDAxcn4A0QxcDQ78DiPGQgWH9BAYI\n",
       "sG+AMv6DSaCGfBDNJMDAsB+kmwuI5S8AiTog5gSaEwXWIO29SgFIAQBC+RaDQlidVgAAAABJRU5E\n",
       "rkJggg==\n",
       "\" style=\"display:inline;vertical-align:middle;\" /></a></td></tr>\n",
       "<tr><td>5</td><td>Variable</td><td></td><td><a class=\"ProveItLink\" href=\"../../../../../__pv_it/2cbe72a7ad6f655694dd697106680215e8489b600/expr.ipynb\"><img src=\"data:image/png;base64,iVBORw0KGgoAAAANSUhEUgAAAA8AAAAOBAMAAAACpFvcAAAALVBMVEX///8QEBBERERUVFS6urqI\n",
       "iIhmZmaqqqrc3Nzu7u6YmJgyMjIiIiLMzMwAAADtIaYWAAAAAXRSTlMAQObYZgAAAFtJREFUCNdj\n",
       "YACBOwxQsA9Kc52bAGG05zVAGAFxDmCaZULdAjBjCsO9ADDDgaEvAUTzGhvbKYCVMDAwbgAxChgY\n",
       "eASANAeQwf0AyJgNxEwvGRia5HYwcOm9TgAA6BoR3jrzwFcAAAAASUVORK5CYII=\n",
       "\" style=\"display:inline;vertical-align:middle;\" /></a></td></tr>\n",
       "<tr><td>6</td><td>Variable</td><td></td><td><a class=\"ProveItLink\" href=\"../../../../../__pv_it/077b2ff79244fb4582cbe22c6e3356fa92a52f2f0/expr.ipynb\"><img src=\"data:image/png;base64,iVBORw0KGgoAAAANSUhEUgAAABAAAAAOBAMAAADUAYG5AAAAMFBMVEX///+qqqru7u4iIiJ2dnbc\n",
       "3NyIiIjMzMxmZmYQEBC6uroyMjJERERUVFSYmJgAAADLUcuvAAAAAXRSTlMAQObYZgAAAGpJREFU\n",
       "CNdjYGB4+//u3dMLGIBgDgMDxy8gzf4NiP8CGWxfGRj4vgAZPBMYGJgnARn8FxhY9ygAGfXX0pof\n",
       "gDTlBzAw2YIYJ0EckBBI53sHoBH/gIz7AhBjWH9DjancBLTl/N+7t/cxMAAA3u4f/5xagjYAAAAA\n",
       "SUVORK5CYII=\n",
       "\" style=\"display:inline;vertical-align:middle;\" /></a></td></tr>\n",
       "<tr><td>7</td><td>Variable</td><td></td><td><a class=\"ProveItLink\" href=\"../../../../../__pv_it/185e6d30f167ee2ee5ef3321098dc98e0d77bc590/expr.ipynb\"><img src=\"data:image/png;base64,iVBORw0KGgoAAAANSUhEUgAAABEAAAAOBAMAAAA7w+qHAAAALVBMVEX///8QEBCYmJjc3Ny6urru\n",
       "7u5mZmZ2dnaqqqrMzMxEREQyMjJUVFSIiIgAAABETr/8AAAAAXRSTlMAQObYZgAAAGpJREFUCNdj\n",
       "YGC48+7MmV0TGEDgNQMDxwsQg/M5kMgLABK8T4DEvAtAgusBkLA7ACT4FoDEDsAk9AqAxD2QCecc\n",
       "gMQ6kAGCIOIVEDM9Ahn3FkgwgnTxvgQSqwOgxs1OADLC1r05cyoTyAAAv4Qe+njAWvgAAAAASUVO\n",
       "RK5CYII=\n",
       "\" style=\"display:inline;vertical-align:middle;\" /></a></td></tr>\n",
       "</table>\n"
      ],
      "text/plain": [
       "0. (A , B , C or A or B or D)\n",
       "   core type: ExprTuple\n",
       "   sub-expressions: 5, 6, 1\n",
       "1. C or A or B or D\n",
       "   core type: Operation\n",
       "   operator: 2\n",
       "   operands: 3\n",
       "2. or\n",
       "   core type: Literal\n",
       "   sub-expressions: \n",
       "3. (C , A , B , D)\n",
       "   core type: ExprTuple\n",
       "   sub-expressions: 4, 5, 6, 7\n",
       "4. C\n",
       "   core type: Variable\n",
       "   sub-expressions: \n",
       "5. A\n",
       "   core type: Variable\n",
       "   sub-expressions: \n",
       "6. B\n",
       "   core type: Variable\n",
       "   sub-expressions: \n",
       "7. D\n",
       "   core type: Variable\n",
       "   sub-expressions: "
      ]
     },
     "execution_count": 4,
     "metadata": {},
     "output_type": "execute_result"
    }
   ],
   "source": [
    "# display the expression information\n",
    "expr.exprInfo()"
   ]
  },
  {
   "cell_type": "code",
   "execution_count": null,
   "metadata": {},
   "outputs": [],
   "source": []
  }
 ],
 "metadata": {
  "kernelspec": {
   "display_name": "Python 3",
   "language": "python",
   "name": "python3"
  }
 },
 "nbformat": 4,
 "nbformat_minor": 0
}
