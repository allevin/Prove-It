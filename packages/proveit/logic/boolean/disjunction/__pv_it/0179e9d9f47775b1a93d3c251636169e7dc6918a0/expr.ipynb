{
 "cells": [
  {
   "cell_type": "markdown",
   "metadata": {},
   "source": [
    "Expression of type <a class=\"ProveItLink\" href=\"../../../../../../../doc/html/api/proveit.ExprTuple.html\">ExprTuple</a>\n",
    "=======================\n",
    "# from context <a class=\"ProveItLink\" href=\"../../_context_.ipynb\">proveit.logic.boolean.disjunction</a>"
   ]
  },
  {
   "cell_type": "code",
   "execution_count": 1,
   "metadata": {},
   "outputs": [],
   "source": [
    "# import Expression classes needed to build the expression\n",
    "from proveit import ExprTuple\n",
    "from proveit.logic import And, Not, TRUE\n",
    "from proveit.logic.boolean.disjunction._theorems_ import falseOrTrue\n",
    "from proveit.logic.boolean.negation._theorems_ import notFalse"
   ]
  },
  {
   "cell_type": "code",
   "execution_count": 2,
   "metadata": {},
   "outputs": [
    {
     "data": {
      "text/html": [
       "<strong id=\"expr\">expr:</strong> <a class=\"ProveItLink\" href=\"expr.ipynb\"><img src=\"data:image/png;base64,iVBORw0KGgoAAAANSUhEUgAAAOUAAAAVBAMAAABLdTQ8AAAAMFBMVEX////c3NwiIiJERESqqqqY\n",
       "mJh2dnZmZmYQEBDu7u4yMjJUVFTMzMyIiIi6uroAAAAs73DqAAAAAXRSTlMAQObYZgAAAkVJREFU\n",
       "SMfFVbFKA0EQnUSTmOQ806oIIYJgJ6J9OsEqlYWg2IiVEESsLFRsbCSl2HgWIjaivUggoIWFfoDC\n",
       "aSWCoD8g7s5MzOysclo58DbZd2/yNns7swD/EeGdmjiEjUysc141Mc9IDlTdSOZGESn0X1d5wVn7\n",
       "20rFxjDkmoBQiSKkEk7kkxNFBHU7FnjWz5+FhpBc4xgx3EQA3KJAKXvlguzEISg1s0CzY2YfwPOc\n",
       "YWjPC6H/UvbINduJQ1BqfoMm4/xox/fcY2jPlh1GlfJF5r+AIjh1AsfiK21BGPmeXVWC9iyUALrr\n",
       "Srkm89cYOnUJx30o42duwffM1gna0/pZX0d5JPOPGDp1GsdFWKW113zP7oigPe2+trRy16wbj7Fd\n",
       "/C6hQ3DqM45lGKC3HvPRH+n8UrhB8DzN+bl0PI3qQ9bcB+OL4NRbPL13UMQS7ItFNfMvBW8EzzMN\n",
       "+cjxNKrfe6Yb3Az+5JmrZmvac1tabDO0J+7tlMEh7m3V9/xxb1NRGvTeTkqLSYb2nAX2m8LTXvM9\n",
       "MxEB8soTLuZcT6NaajNNrgmHELUSjOHbAVETwTe1clBWnq1Rr6qe5Ll/YvCrMEdzq1IxXqe2I8Tc\n",
       "HCEsy5wrqp+YAHvvMtE+qXvKnpLsfSVwCQrsfWGnZ2/6V1Sn9z3qS6jhKTOyqdiJQ1Bk1cU043su\n",
       "MwBqCRfoctJdBtz03Cg0vJ2IoF2HCZ6oGpTMoCYwztU8daYVxRLBvPGEv4kq50a3E++K723qxCFN\n",
       "3DOSw6g+ASj0sPlKqngfAAAAAElFTkSuQmCC\n",
       "\" style=\"display:inline;vertical-align:middle;\" /></a><br>"
      ],
      "text/plain": [
       "expr: ([not]([not](FALSE) and [not](TRUE)) , FALSE or TRUE)"
      ]
     },
     "execution_count": 2,
     "metadata": {},
     "output_type": "execute_result"
    }
   ],
   "source": [
    "# build up the expression from sub-expressions\n",
    "expr = ExprTuple(Not(And(notFalse.expr, Not(TRUE))), falseOrTrue.expr)"
   ]
  },
  {
   "cell_type": "code",
   "execution_count": 3,
   "metadata": {},
   "outputs": [
    {
     "name": "stdout",
     "output_type": "stream",
     "text": [
      "Passed sanity check: built 'expr' is the same as the stored Expression.\n"
     ]
    }
   ],
   "source": [
    "# check that the built expression is the same as the stored expression\n",
    "%check_expr"
   ]
  },
  {
   "cell_type": "code",
   "execution_count": 4,
   "metadata": {},
   "outputs": [
    {
     "data": {
      "text/html": [
       "<table><tr><th>&nbsp;</th><th>core type</th><th>sub-expressions</th><th>expression</th></tr>\n",
       "<tr><td>0</td><td>ExprTuple</td><td>1, 2</td><td><a class=\"ProveItLink\" href=\"expr.ipynb\"><img src=\"data:image/png;base64,iVBORw0KGgoAAAANSUhEUgAAAOUAAAAVBAMAAABLdTQ8AAAAMFBMVEX////c3NwiIiJERESqqqqY\n",
       "mJh2dnZmZmYQEBDu7u4yMjJUVFTMzMyIiIi6uroAAAAs73DqAAAAAXRSTlMAQObYZgAAAkVJREFU\n",
       "SMfFVbFKA0EQnUSTmOQ806oIIYJgJ6J9OsEqlYWg2IiVEESsLFRsbCSl2HgWIjaivUggoIWFfoDC\n",
       "aSWCoD8g7s5MzOysclo58DbZd2/yNns7swD/EeGdmjiEjUysc141Mc9IDlTdSOZGESn0X1d5wVn7\n",
       "20rFxjDkmoBQiSKkEk7kkxNFBHU7FnjWz5+FhpBc4xgx3EQA3KJAKXvlguzEISg1s0CzY2YfwPOc\n",
       "YWjPC6H/UvbINduJQ1BqfoMm4/xox/fcY2jPlh1GlfJF5r+AIjh1AsfiK21BGPmeXVWC9iyUALrr\n",
       "Srkm89cYOnUJx30o42duwffM1gna0/pZX0d5JPOPGDp1GsdFWKW113zP7oigPe2+trRy16wbj7Fd\n",
       "/C6hQ3DqM45lGKC3HvPRH+n8UrhB8DzN+bl0PI3qQ9bcB+OL4NRbPL13UMQS7ItFNfMvBW8EzzMN\n",
       "+cjxNKrfe6Yb3Az+5JmrZmvac1tabDO0J+7tlMEh7m3V9/xxb1NRGvTeTkqLSYb2nAX2m8LTXvM9\n",
       "MxEB8soTLuZcT6NaajNNrgmHELUSjOHbAVETwTe1clBWnq1Rr6qe5Ll/YvCrMEdzq1IxXqe2I8Tc\n",
       "HCEsy5wrqp+YAHvvMtE+qXvKnpLsfSVwCQrsfWGnZ2/6V1Sn9z3qS6jhKTOyqdiJQ1Bk1cU043su\n",
       "MwBqCRfoctJdBtz03Cg0vJ2IoF2HCZ6oGpTMoCYwztU8daYVxRLBvPGEv4kq50a3E++K723qxCFN\n",
       "3DOSw6g+ASj0sPlKqngfAAAAAElFTkSuQmCC\n",
       "\" style=\"display:inline;vertical-align:middle;\" /></a></td></tr>\n",
       "<tr><td>1</td><td>Operation</td><td>operator:&nbsp;11<br>operand:&nbsp;3<br></td><td><a class=\"ProveItLink\" href=\"../146656ecf1e1a82b985a51fd39d3cd83f037566e0/expr.ipynb\"><img src=\"data:image/png;base64,iVBORw0KGgoAAAANSUhEUgAAAJIAAAAVBAMAAABf4KrdAAAAMFBMVEX////c3NxERESqqqqYmJgQ\n",
       "EBDu7u4yMjKIiIi6urpUVFTMzMx2dnYiIiJmZmYAAABjE816AAAAAXRSTlMAQObYZgAAAaBJREFU\n",
       "OMu1lL9LAzEUx3P9YXv2WjsWJ0H/gG6u3VTooAiCWxdxvUEKbh0Fly6ii1DH4lI6OuiNTlIEO1no\n",
       "XgVXNy/v+3I/Xq7QxQef5PIu+SZ5eYlS/2F3TMoOpMPtCUehD2KrDEBkDV3URmLgk/mozci21CJs\n",
       "LJJdSh0Q2TOVPhqO+dNNTj6ngUxkV4xQavM8c9TlnqVUCEBkJ4xQOkNjPEVd7FhKa4cgiqQPpFKu\n",
       "SdWQl3urLCW1zZgABkAqeZjXr8L5laH0xpiAt4BUytM6vVYNa7vIUNolvvVJfuoA9EHkYCWXIlBV\n",
       "DnZ+ao4/iJVuGM6RjT6IkwZKlR9d7iv1SM3fRPYZpRdmJaWpSckVlIpNIJVod/lwSKmum8cZSmJ3\n",
       "uRaQSgUdH62Sp2E7GUp7jPbwaXtzFTuSWTDWXxOVPO3R0ixwJ4AtPMKP2ew9XI6O3dBcJ3WfygLk\n",
       "3yVj7IgRRreFTsKl21K3esjbQle1bSu9itcosHp4PbD8VcGEvnB0LaVzJjJnANK2LnezaSk9MOk3\n",
       "siG7XUuHI1/f8oj4AwrThLbaWzQEAAAAAElFTkSuQmCC\n",
       "\" style=\"display:inline;vertical-align:middle;\" /></a></td></tr>\n",
       "<tr><td>2</td><td>Operation</td><td>operator:&nbsp;4<br>operands:&nbsp;5<br></td><td><a class=\"ProveItLink\" href=\"../f442276f834cda47790ded243b38294647dfe1df0/expr.ipynb\"><img src=\"data:image/png;base64,iVBORw0KGgoAAAANSUhEUgAAADUAAAAPBAMAAAC2KZqIAAAAMFBMVEX///+YmJh2dnaqqqoyMjLu\n",
       "7u5UVFS6urpEREQQEBAiIiJmZmbMzMyIiIjc3NwAAAD1oEhMAAAAAXRSTlMAQObYZgAAAHtJREFU\n",
       "GNNjYGBgeMuACrhXgUEDiH0aIsQOJg+ASZ4NUHVQOTaQMO8FrHI8IEO4ArDKMfgBsTUDdjlrqDw2\n",
       "OaB5YHOxyQHdwVaAQ45hAUMIAy65zQyKOOWeAHXikmM7eAGnHE9XAIrcrlWrVq5atQIi5A1XpcCA\n",
       "Do6i8AAHVSocMnjJgQAAAABJRU5ErkJggg==\n",
       "\" style=\"display:inline;vertical-align:middle;\" /></a></td></tr>\n",
       "<tr><td>3</td><td>Operation</td><td>operator:&nbsp;6<br>operands:&nbsp;7<br></td><td><a class=\"ProveItLink\" href=\"../1aa1d54b115027a1a8aa681d2366cc5613e864af0/expr.ipynb\"><img src=\"data:image/png;base64,iVBORw0KGgoAAAANSUhEUgAAAG8AAAAVBAMAAAC6Uq30AAAAMFBMVEX////c3NwiIiJERESqqqqY\n",
       "mJh2dnZmZmYQEBDu7u4yMjJUVFTMzMyIiIi6uroAAAAs73DqAAAAAXRSTlMAQObYZgAAAXBJREFU\n",
       "OMtjYCAb8F1AE2B9gK7kLbpAHIg4jSTACDakBk0ZzwYYq0gJBJQZ2A8AOSuRlRSASC6YMRMgNNcE\n",
       "JCXHweQCBgbeCxgaWROgGgog9F0GDI1hDAwcEzA0cjZAeIc1IXQnpsYZDAyvGDA0MphAePsgVvEt\n",
       "wNTI7MBQhkVjOpjkXMAEptkTMDWyFTAsxaLRCyIZwO4A9moApkaWBQx9QCPBgZyA0PgCTDIxMIId\n",
       "yfEAGg9qCI18DQz/kCMLqvE8mIxlYNgDovlhCeI0QiPPBzwaNaFKcWhswaIR7FQWIJtLAORUB0yN\n",
       "QKeaYtEYBQ4TAYhmBuYATI2sC6BBDwQH0KLjMIhQgAQ91GyU6HgED2hQ4DYpKRkwMKwDRz8stfEp\n",
       "IEfHMUhqfMDAIYCR0SBJDhwkfCCiETMvzkCkaCTAhpZDwzA15qJlKwiYhcZHyVbQ1AgkpDE0bkTj\n",
       "M25AV8EtAM/1SID3ALo6WXSBOwwMACqRV68NTrMaAAAAAElFTkSuQmCC\n",
       "\" style=\"display:inline;vertical-align:middle;\" /></a></td></tr>\n",
       "<tr><td>4</td><td>Literal</td><td></td><td><a class=\"ProveItLink\" href=\"../087d0b4ded7c7e5bf3bba05ecb616d7a8051ff650/expr.ipynb\"><img src=\"data:image/png;base64,iVBORw0KGgoAAAANSUhEUgAAAAwAAAAOBAMAAADpk+DfAAAALVBMVEX///+YmJh2dnZmZmaqqqrc\n",
       "3NwyMjLu7u4iIiJERESIiIhUVFTMzMy6uroAAAD0I/TTAAAAAXRSTlMAQObYZgAAAEtJREFUCNdj\n",
       "uMAABDwMe0DUKoaTIKqdgS2AgYHFAITAzHYGsMQqBoa9QIqDgT0BSDE7MAkAKdYEDpAehj1SYOpk\n",
       "O5hiMwBTPAUMDAB33Atnw8aG2QAAAABJRU5ErkJggg==\n",
       "\" style=\"display:inline;vertical-align:middle;\" /></a></td></tr>\n",
       "<tr><td>5</td><td>ExprTuple</td><td>10, 12</td><td><a class=\"ProveItLink\" href=\"../f33a8d5708d13f20cb034555a092a5521deab66a0/expr.ipynb\"><img src=\"data:image/png;base64,iVBORw0KGgoAAAANSUhEUgAAADUAAAAVBAMAAAAUZLt1AAAAMFBMVEX////c3NwiIiJERESqqqqY\n",
       "mJh2dnZmZmYQEBDu7u4yMjJUVFTMzMyIiIi6uroAAAAs73DqAAAAAXRSTlMAQObYZgAAALBJREFU\n",
       "KM9jYMAH+C5gFY4DEadBBCNcQZESCCgzsB8AclaCRHgKkLQcB5MLGBh4L+CQC2Ng4JiAQ24GA8Mr\n",
       "BhxyzA4MZbjk2AoYluKSY1nA0IdLjq+B4R8uOZ4PeOVa8JhpiiQ3AVmOdQFDOkKO8xOaHx4xMLAD\n",
       "A7dJScmAs18ALHoMTHI9YOAQQIouJDYozFgTEFxW5AjMhcURphwnMI4YpBF85BTALYAS5SjgDgMD\n",
       "AMUhLsE7xITaAAAAAElFTkSuQmCC\n",
       "\" style=\"display:inline;vertical-align:middle;\" /></a></td></tr>\n",
       "<tr><td>6</td><td>Literal</td><td></td><td><a class=\"ProveItLink\" href=\"../../../conjunction/__pv_it/76b5f4f4c45c0b6a9b59b297fc07dfa9555698f50/expr.ipynb\"><img src=\"data:image/png;base64,iVBORw0KGgoAAAANSUhEUgAAAAwAAAAOBAMAAADpk+DfAAAALVBMVEX///+qqqqYmJh2dnaIiIi6\n",
       "urpUVFQiIiJERETMzMxmZmYyMjLu7u7c3NwAAABvwqPxAAAAAXRSTlMAQObYZgAAAEtJREFUCNdj\n",
       "YGDgPcAAAtwLwNSMGjCV6gIieTawgyhmBS4BIMXOwLsBSKkwMGQCKaC6aQwMjEBd3BdACMScAVJd\n",
       "wJAKolwYAkAUKwAk0guX6efcigAAAABJRU5ErkJggg==\n",
       "\" style=\"display:inline;vertical-align:middle;\" /></a></td></tr>\n",
       "<tr><td>7</td><td>ExprTuple</td><td>8, 9</td><td><a class=\"ProveItLink\" href=\"../a4ae5f127c3580803aa9e6b60ed698d7a61fef460/expr.ipynb\"><img src=\"data:image/png;base64,iVBORw0KGgoAAAANSUhEUgAAAFEAAAAVBAMAAADMaB9/AAAAMFBMVEX////c3NwiIiJERESqqqqY\n",
       "mJh2dnZmZmYQEBDu7u4yMjJUVFTMzMyIiIi6uroAAAAs73DqAAAAAXRSTlMAQObYZgAAAM9JREFU\n",
       "KM9jYCAe8F0gQlEciDiNJMCIrqtICQSUGdgPADkrkSR4CjCNOw4mFzAw8F4gSmUYAwPHBKJUzmBg\n",
       "eMVAlEpmB4Yy4lSyFTAsJU4lywKGPgYGdnBQJKCoBAePGkIlXwPDP5hxGzDNPI1QyfOBBJUtxKkE\n",
       "2m6KqXICFpWsCxjSYcIHYCo5P8GDAiWUHsHtAgVBk5KSAWe/ALITjoFJrgcMHAKY6RBTCBSbrAkY\n",
       "oqxYEmguWqrDqZITmOoYpDGEsWQCbgFs6RwbuMPAAAD6DTfaNXxqRgAAAABJRU5ErkJggg==\n",
       "\" style=\"display:inline;vertical-align:middle;\" /></a></td></tr>\n",
       "<tr><td>8</td><td>Operation</td><td>operator:&nbsp;11<br>operand:&nbsp;10<br></td><td><a class=\"ProveItLink\" href=\"../../../negation/__pv_it/01165fd25131c0df966b8e8c1626e275fd04f3050/expr.ipynb\"><img src=\"data:image/png;base64,iVBORw0KGgoAAAANSUhEUgAAABwAAAAOBAMAAADOPWE3AAAAIVBMVEX///9EREQQEBCIiIjc3NxU\n",
       "VFTMzMx2dnYiIiJmZmYAAADo3DW1AAAAAXRSTlMAQObYZgAAACVJREFUCNdjYIADZwYUkEll7owO\n",
       "IGhHlU2lgMuGbhHQgqaOjkYA4xoNxELsxwMAAAAASUVORK5CYII=\n",
       "\" style=\"display:inline;vertical-align:middle;\" /></a></td></tr>\n",
       "<tr><td>9</td><td>Operation</td><td>operator:&nbsp;11<br>operand:&nbsp;12<br></td><td><a class=\"ProveItLink\" href=\"../64bca6f824ebeb308ac4ae8ae73cb3543228f2c30/expr.ipynb\"><img src=\"data:image/png;base64,iVBORw0KGgoAAAANSUhEUgAAABwAAAAOBAMAAADOPWE3AAAAGFBMVEX///9ERERUVFTMzMx2dnYi\n",
       "IiJmZmYAAADORshHAAAAAXRSTlMAQObYZgAAACZJREFUCNdjYICA1FAQCGRAADMGFEAxF2xDCKqs\n",
       "EQVcZiwWmQAxANt2B/RO11f4AAAAAElFTkSuQmCC\n",
       "\" style=\"display:inline;vertical-align:middle;\" /></a></td></tr>\n",
       "<tr><td>10</td><td>Literal</td><td></td><td><a class=\"ProveItLink\" href=\"../../../__pv_it/8f1f7fac882de28c72b62ab80a1700b6d8fd066b0/expr.ipynb\"><img src=\"data:image/png;base64,iVBORw0KGgoAAAANSUhEUgAAAA4AAAAOBAMAAADtZjDiAAAAG1BMVEX///9EREQQEBAiIiJmZmbM\n",
       "zMyIiIjc3NwAAACryk5kAAAAAXRSTlMAQObYZgAAABlJREFUCNdjYGBgKGOAgBBa0s7GxkbGxoYA\n",
       "FMUF2aBfHgoAAAAASUVORK5CYII=\n",
       "\" style=\"display:inline;vertical-align:middle;\" /></a></td></tr>\n",
       "<tr><td>11</td><td>Literal</td><td></td><td><a class=\"ProveItLink\" href=\"../../../negation/__pv_it/7bea79645543c2413aa17e787cca04e21046fde60/expr.ipynb\"><img src=\"data:image/png;base64,iVBORw0KGgoAAAANSUhEUgAAAAwAAAAGBAMAAAAFwGKyAAAAFVBMVEX///9UVFTMzMx2dnYiIiJm\n",
       "ZmYAAACWz4ZEAAAAAXRSTlMAQObYZgAAABRJREFUCNdjCHEBAmcGMFDEQzEBAEl+Ai6uYJv/AAAA\n",
       "AElFTkSuQmCC\n",
       "\" style=\"display:inline;vertical-align:middle;\" /></a></td></tr>\n",
       "<tr><td>12</td><td>Literal</td><td></td><td><a class=\"ProveItLink\" href=\"../../../__pv_it/68a87cc3370287d726c7086ace789e680e4461c30/expr.ipynb\"><img src=\"data:image/png;base64,iVBORw0KGgoAAAANSUhEUgAAAA4AAAAOBAMAAADtZjDiAAAAFVBMVEX///92dnbMzMxEREQiIiJm\n",
       "ZmYAAABAT6GXAAAAAXRSTlMAQObYZgAAABhJREFUCNdjCHEBAWcGIFBlgABa0YpADAAxegPJJk4d\n",
       "XAAAAABJRU5ErkJggg==\n",
       "\" style=\"display:inline;vertical-align:middle;\" /></a></td></tr>\n",
       "</table>\n"
      ],
      "text/plain": [
       "0. ([not]([not](FALSE) and [not](TRUE)) , FALSE or TRUE)\n",
       "   core type: ExprTuple\n",
       "   sub-expressions: 1, 2\n",
       "1. [not]([not](FALSE) and [not](TRUE))\n",
       "   core type: Operation\n",
       "   operator: 11\n",
       "   operand: 3\n",
       "2. FALSE or TRUE\n",
       "   core type: Operation\n",
       "   operator: 4\n",
       "   operands: 5\n",
       "3. [not](FALSE) and [not](TRUE)\n",
       "   core type: Operation\n",
       "   operator: 6\n",
       "   operands: 7\n",
       "4. or\n",
       "   core type: Literal\n",
       "   sub-expressions: \n",
       "5. (FALSE , TRUE)\n",
       "   core type: ExprTuple\n",
       "   sub-expressions: 10, 12\n",
       "6. and\n",
       "   core type: Literal\n",
       "   sub-expressions: \n",
       "7. ([not](FALSE) , [not](TRUE))\n",
       "   core type: ExprTuple\n",
       "   sub-expressions: 8, 9\n",
       "8. [not](FALSE)\n",
       "   core type: Operation\n",
       "   operator: 11\n",
       "   operand: 10\n",
       "9. [not](TRUE)\n",
       "   core type: Operation\n",
       "   operator: 11\n",
       "   operand: 12\n",
       "10. FALSE\n",
       "    core type: Literal\n",
       "    sub-expressions: \n",
       "11. not\n",
       "    core type: Literal\n",
       "    sub-expressions: \n",
       "12. TRUE\n",
       "    core type: Literal\n",
       "    sub-expressions: "
      ]
     },
     "execution_count": 4,
     "metadata": {},
     "output_type": "execute_result"
    }
   ],
   "source": [
    "# display the expression information\n",
    "expr.exprInfo()"
   ]
  },
  {
   "cell_type": "code",
   "execution_count": null,
   "metadata": {},
   "outputs": [],
   "source": []
  }
 ],
 "metadata": {
  "kernelspec": {
   "display_name": "Python 3",
   "language": "python",
   "name": "python3"
  }
 },
 "nbformat": 4,
 "nbformat_minor": 0
}
