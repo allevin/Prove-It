{
 "cells": [
  {
   "cell_type": "markdown",
   "metadata": {},
   "source": [
    "Expression of type <a class=\"ProveItLink\" href=\"../../../../../../../doc/html/api/proveit.logic.Set.html\">Set</a>\n",
    "=======================\n",
    "# from context <a class=\"ProveItLink\" href=\"../../_context_.ipynb\">proveit.logic.boolean.disjunction</a>"
   ]
  },
  {
   "cell_type": "code",
   "execution_count": 1,
   "metadata": {},
   "outputs": [],
   "source": [
    "# import Expression classes needed to build the expression\n",
    "from proveit._common_ import A, B, C, D, E, F, G\n",
    "from proveit.logic import Or, Set"
   ]
  },
  {
   "cell_type": "code",
   "execution_count": 2,
   "metadata": {},
   "outputs": [
    {
     "data": {
      "text/html": [
       "<strong id=\"expr\">expr:</strong> <a class=\"ProveItLink\" href=\"expr.ipynb\"><img src=\"data:image/png;base64,iVBORw0KGgoAAAANSUhEUgAAARAAAAAVBAMAAAB8nqwhAAAAMFBMVEX///9ERETc3NyqqqpUVFS6\n",
       "urrMzMwyMjIQEBCIiIh2dnYiIiLu7u5mZmaYmJgAAABJJ2g3AAAAAXRSTlMAQObYZgAAA0RJREFU\n",
       "SMfNVk9IVGEQH5/7x3379ukhMApyo0Mncbt4izbY3CJkPXYJFYSkIv8gFFRml+ggtUEXD6HUpVN6\n",
       "iCARfEQhHYpFIYLQfYcKgkjbViUTbWa+7+2+WffgTR+84fP35jffb+abb1wAsJdgj5/LT8la07Dn\n",
       "T28CTWRF/3Wl4uvX7VSqsaMCfH9g0W2W0GP0G+jaiaXXd2Jn/0rMetS+ZOQg1o9rc0SDd8gEeanC\n",
       "3gWIrUrMfABwEV9ggSFFxA1r/1RwScSJKtgRyX3uQvCzqzR4QuxZB22AOJEsu6L6UFFg1k30MQu4\n",
       "aiOPMSaGNtDkHcENUuYxGS9Ift8Ed24GzWRcCjmWj1PUBjRRkgQR3NDeEFh4lAISoZs8ZpgYoar1\n",
       "ZQXXXKNjlPFMqlqr4N5wVEsIIdlxLtkgvicZqMEP0VGB5amp8ExREqquzSk/arKWpOCGV8AEQ8YL\n",
       "byLy08+NkTRolkKCzikXNGmQkfokGAOOHzO4/SyqNgWigORHSfclJbcBfqn8fNgUfORFidtCPQpv\n",
       "tAbuWIB3XF0uI5cTY58b+8LaSlhsq9zvM7rE6lRgeUJwO4fSBQAZrzMH85Kbd3Uwm4raq25oB7Rw\n",
       "pbGxAgoZj4P1EvxYtFAWgs12Rq3GqUKZDsGd7AKVnx8bOj8iubNxL9ptgJ57qvVTqYwSPgVz6uNB\n",
       "2sT1Y/U8ciyVKVh6qyYy9yUXR8GEvrRlzIEkCO42vk+uH6I+Gwa40KXnR50KvAAvlHvRq3gJq2Mh\n",
       "rQzFEqYu7G+q7ZbkIha3shL7B5ZmeFxWP0n1ouke4P3xOkRV4Y5jDlwjip1J+LHAJll1V4z+qIpK\n",
       "4wbqGgSXx4jpSGyjdKweN+PoOco9YpKfkeArx7tdU5nQGDH0lNZYyBcf2n7oJqCR0egILo+RZpDY\n",
       "arnBNJfanLcoX186xppNleFhpzRGem+BwJYTENSdD91qnPEYuZSTfpRT6NVODCSXDrRn2i/k6MNB\n",
       "sJvWc14H0zk2FVPpYV9Xc9B0+4IHhZX3B/Q7/Un6vUUsNTslMPSbhwou9Awtut+hYrKWnqtV/k9X\n",
       "wULO7vx2w60uZA8e1mDvAyE83a3X++AXGs9e+9l++M36H2MIDhL4FWefAAAAAElFTkSuQmCC\n",
       "\" style=\"display:inline;vertical-align:middle;\" /></a><br>"
      ],
      "text/plain": [
       "expr: {A or B or C or D or E or F or G}"
      ]
     },
     "execution_count": 2,
     "metadata": {},
     "output_type": "execute_result"
    }
   ],
   "source": [
    "# build up the expression from sub-expressions\n",
    "expr = Set(Or(A, B, C, D, E, F, G))"
   ]
  },
  {
   "cell_type": "code",
   "execution_count": 3,
   "metadata": {},
   "outputs": [
    {
     "name": "stdout",
     "output_type": "stream",
     "text": [
      "Passed sanity check: built 'expr' is the same as the stored Expression.\n"
     ]
    }
   ],
   "source": [
    "# check that the built expression is the same as the stored expression\n",
    "%check_expr"
   ]
  },
  {
   "cell_type": "code",
   "execution_count": 4,
   "metadata": {},
   "outputs": [
    {
     "data": {
      "text/html": [
       "<table><tr><th>&nbsp;</th><th>core type</th><th>sub-expressions</th><th>expression</th></tr>\n",
       "<tr><td>0</td><td>Operation</td><td>operator:&nbsp;1<br>operands:&nbsp;2<br></td><td><a class=\"ProveItLink\" href=\"expr.ipynb\"><img src=\"data:image/png;base64,iVBORw0KGgoAAAANSUhEUgAAARAAAAAVBAMAAAB8nqwhAAAAMFBMVEX///9ERETc3NyqqqpUVFS6\n",
       "urrMzMwyMjIQEBCIiIh2dnYiIiLu7u5mZmaYmJgAAABJJ2g3AAAAAXRSTlMAQObYZgAAA0RJREFU\n",
       "SMfNVk9IVGEQH5/7x3379ukhMApyo0Mncbt4izbY3CJkPXYJFYSkIv8gFFRml+ggtUEXD6HUpVN6\n",
       "iCARfEQhHYpFIYLQfYcKgkjbViUTbWa+7+2+WffgTR+84fP35jffb+abb1wAsJdgj5/LT8la07Dn\n",
       "T28CTWRF/3Wl4uvX7VSqsaMCfH9g0W2W0GP0G+jaiaXXd2Jn/0rMetS+ZOQg1o9rc0SDd8gEeanC\n",
       "3gWIrUrMfABwEV9ggSFFxA1r/1RwScSJKtgRyX3uQvCzqzR4QuxZB22AOJEsu6L6UFFg1k30MQu4\n",
       "aiOPMSaGNtDkHcENUuYxGS9Ift8Ed24GzWRcCjmWj1PUBjRRkgQR3NDeEFh4lAISoZs8ZpgYoar1\n",
       "ZQXXXKNjlPFMqlqr4N5wVEsIIdlxLtkgvicZqMEP0VGB5amp8ExREqquzSk/arKWpOCGV8AEQ8YL\n",
       "byLy08+NkTRolkKCzikXNGmQkfokGAOOHzO4/SyqNgWigORHSfclJbcBfqn8fNgUfORFidtCPQpv\n",
       "tAbuWIB3XF0uI5cTY58b+8LaSlhsq9zvM7rE6lRgeUJwO4fSBQAZrzMH85Kbd3Uwm4raq25oB7Rw\n",
       "pbGxAgoZj4P1EvxYtFAWgs12Rq3GqUKZDsGd7AKVnx8bOj8iubNxL9ptgJ57qvVTqYwSPgVz6uNB\n",
       "2sT1Y/U8ciyVKVh6qyYy9yUXR8GEvrRlzIEkCO42vk+uH6I+Gwa40KXnR50KvAAvlHvRq3gJq2Mh\n",
       "rQzFEqYu7G+q7ZbkIha3shL7B5ZmeFxWP0n1ouke4P3xOkRV4Y5jDlwjip1J+LHAJll1V4z+qIpK\n",
       "4wbqGgSXx4jpSGyjdKweN+PoOco9YpKfkeArx7tdU5nQGDH0lNZYyBcf2n7oJqCR0egILo+RZpDY\n",
       "arnBNJfanLcoX186xppNleFhpzRGem+BwJYTENSdD91qnPEYuZSTfpRT6NVODCSXDrRn2i/k6MNB\n",
       "sJvWc14H0zk2FVPpYV9Xc9B0+4IHhZX3B/Q7/Un6vUUsNTslMPSbhwou9Awtut+hYrKWnqtV/k9X\n",
       "wULO7vx2w60uZA8e1mDvAyE83a3X++AXGs9e+9l++M36H2MIDhL4FWefAAAAAElFTkSuQmCC\n",
       "\" style=\"display:inline;vertical-align:middle;\" /></a></td></tr>\n",
       "<tr><td>1</td><td>Literal</td><td></td><td><a class=\"ProveItLink\" href=\"../../../../set_theory/enumeration/__pv_it/07381ed5b23806e8d7914b78cb6667769e3708dd0/expr.ipynb\"><img src=\"data:image/png;base64,iVBORw0KGgoAAAANSUhEUgAAAB4AAAAOBAMAAADKyLEKAAAAMFBMVEX///8iIiIQEBCIiIjMzMzc\n",
       "3Nyqqqp2dnZEREQyMjK6urru7u5mZmZUVFSYmJgAAACI6eGPAAAAAXRSTlMAQObYZgAAALRJREFU\n",
       "CNdjYGDgu3Nm3wIGBJjHwN0PZW5yYGDgLWBgyITy8zcwMMQDxZyh/INAvD6BgcEFypcB4vjPDiBm\n",
       "TPFRrhs/LjMwMP//38rAwCbKEMPA9gEkE3fp0waG+AUMRxh4JkC01T9guPTOOICBEWgVH5C//wHD\n",
       "H5D4fqCz9oCMDGD4DLaegRXslLMMDMpAgxlOMmQxHDRgYG5gYLBk4D7KcIe7gOHC2rt9QCXsh40Z\n",
       "GCKMGQDRkC8N/Ph1XAAAAABJRU5ErkJggg==\n",
       "\" style=\"display:inline;vertical-align:middle;\" /></a></td></tr>\n",
       "<tr><td>2</td><td>ExprTuple</td><td>3</td><td><a class=\"ProveItLink\" href=\"../e01626735e08afef453460aaf8f52dc7493132950/expr.ipynb\"><img src=\"data:image/png;base64,iVBORw0KGgoAAAANSUhEUgAAAQkAAAAVBAMAAACnJQYDAAAAMFBMVEX////c3NwiIiJERESqqqqY\n",
       "mJh2dnZmZmYQEBDu7u4yMjJUVFTMzMyIiIi6uroAAAAs73DqAAAAAXRSTlMAQObYZgAAA09JREFU\n",
       "SMfNVj1ok2EQvi9t/tM0oFDQoZ2EotAiKFKHBhxcCmZREH/aRXSRpFJtByEFFeyin4MoFSW1lKod\n",
       "DDpUkmqKRVA7NODgoKXBRXBpqjbQVlvv583PpR26xcB3vHlyz/Pee+/dfQH4Pz7BbI0DOEtmVtZv\n",
       "q347tZFOd+SqwIeH+yNNGvqCfqPTm7HU6mbs1V+NeT9NXrZibmI/FeQ554WXonkNwL2uMdcNgO/4\n",
       "AEcXECLuVv+7iksRHNkCO6C5FyIQHIhAAqBBLsTZZqP1E0GQAMYdWFOY9zH6uJZwNUUe80wMFNDE\n",
       "bcUN0pndWi9YMMkvc4db0URDcALAY7PYzniIJNvROBhpwN2cBYX5hkhtEM0MebQysYHyNZdVXNcf\n",
       "uj2t56J8dSnuE1sq4T7AD8lrdoEzNYLPUQbqcDfHkMLiYTRWjOLBkOtj4pdH05xUXF8eXGBpPd8K\n",
       "IicruW6KC7DM6sJwRRrFPhYBwxhhpDEJ1qhdiVlcb15KMqmQGvnRceeSmtsOx+VwFVgL3OVFiduc\n",
       "oK93ME0xGOOfHnFSOXucRRR+PX+JAyth7uVydbeazMplQHeP4i5OpJYAtN5iDHo1Nx4xYvUJuMWL\n",
       "HDRzgrGS/NKeCyHw7oVKzLFUjgKr642sFig3mZziRqchAaD1ohMvBjW3LVScWIOwzoWeTmck5BYY\n",
       "lp8O0Q6RSqwxzzciZwSv2aeTzE3Nxa7vMf1ZxmxIguJu4PP52UHcPS9RYF97RLUPzonvWjHRJczD\n",
       "UXQx5A67TD5/UZsvay5iIW9WYz/BaxhFLocezXEU12mNxe+QfO3C6Dk7JJwJV2L+FbLSGVbCIZI0\n",
       "VsDTrrg8Lly2xgql2yxyM7YZlngjNM6sMHcXb/VOzkDjwjJD2GCBCnGYOmMunkZDh624PC6aQGPr\n",
       "5aIyXKpr3sKZgPM0xKjvV+Rs++3SuHhvhnsR6w5D0NQ5zMjM4nHxMab96ECBfZsx0Fy6x9k9wJ36\n",
       "DWDH7RFwdq6K1rjcXedaOjVWpI0bxdRkXxHyifc99Ht5Vfs9QCzd1qIw9OuFKi7MTvRHTtP3HHhC\n",
       "+j33YYt37xZYwN6e33a4OMGdPTX/h3Ox/Gav3Yenx+5aR+GnmrBq/Y/vK8A/r+wWOrdxOw4AAAAA\n",
       "SUVORK5CYII=\n",
       "\" style=\"display:inline;vertical-align:middle;\" /></a></td></tr>\n",
       "<tr><td>3</td><td>Operation</td><td>operator:&nbsp;4<br>operands:&nbsp;5<br></td><td><a class=\"ProveItLink\" href=\"../3c2227693366d0b06c60393218a510ea5390af750/expr.ipynb\"><img src=\"data:image/png;base64,iVBORw0KGgoAAAANSUhEUgAAAP0AAAAPBAMAAADdQdTdAAAAMFBMVEX///92dnYQEBBERERUVFS6\n",
       "urqIiIhmZmaqqqrc3Nzu7u6YmJgyMjIiIiLMzMwAAACFkkdwAAAAAXRSTlMAQObYZgAAAuNJREFU\n",
       "OMuNVTtMU2EUPhco5V7aC3F1KNENB9G4iWmjVZZK2RxposGxjQsQo23iwIZNHHAw4Q4+YmTooA6a\n",
       "CBESgo9YEycGIcLkI0AsRh6C5/Hf9p6WgZvcw8+X851z/u+ccwtAzy/Qz/P9ZLJ3oA58fGa4NKGh\n",
       "a+g3u9yIpXYbsfN/NOZc7btp5+T8iUyIjxLtOEB4U2PWCYAr+ALX5QoR87T9reNS7jsHYGc190gJ\n",
       "QjdKfGxf8tC2kGtrhj2wVreiMOcj+lhbeOonjyEmuhto8p7ihuieYR0vRH4vFHdqEU2syGHu5+mv\n",
       "24MmSpVAK+Zp31BYpJvidKFZIY9FJraSRmsZxbX2qFc6nkUajSvuW6/W90yWdVnAd4yBZswT7VZY\n",
       "voCG+xXBYtukcc3raCYTihtZBwtsHS+yjcirIDdMFYGMU8i7y30YMxyAjgTYs14Qs3miHJKU+BER\n",
       "roOuuJbQ3B54LdcKYGV4xocqd3KG/n3K4COWkLVizTDkpaFbMho+Ft6pTe6i0VGkh+lOxR2cS20B\n",
       "6HiDORjV3HypFm8AJllOnJUWWbpsEZwvEMSiWzV/nJ+LcsqSHukBxY0twwyAjhebu9yluUvFajg3\n",
       "mUxLmWWYEug0xS4FsY511l/uBY7JECdzTHNxlzvN1tUwDxKguPv4Xv9wyux9k8QbgaPiVfFlrWJN\n",
       "nH+coXDBMur9puXd0VzEik5GY//AMQyfy0XHWB0c7Kio8wArZkUoZLoQxFq2ycrU2zNRoxytelOP\n",
       "4vL6W57GNqpi+9y053/27ALvDCf5IXXT+tvmE2owNxAW+l+aBtOq93qKy+s/ARrbrA2P4dLkSgpq\n",
       "UfO23OecV13/b+9AYdMFCJkZhhX5+vD6/8xpP7qK+7URA82lrq1+xsO9kwvQHt+VKPPSo3glmXrv\n",
       "E+ZNrFTfiA9FxPsJ+l24rf0eIpZcKisM/Uahjgurc8OlN3W/cPAdGp8DMNc7nN8huP8B1zoBjG39\n",
       "TmMAAAAASUVORK5CYII=\n",
       "\" style=\"display:inline;vertical-align:middle;\" /></a></td></tr>\n",
       "<tr><td>4</td><td>Literal</td><td></td><td><a class=\"ProveItLink\" href=\"../087d0b4ded7c7e5bf3bba05ecb616d7a8051ff650/expr.ipynb\"><img src=\"data:image/png;base64,iVBORw0KGgoAAAANSUhEUgAAAAwAAAAOBAMAAADpk+DfAAAALVBMVEX///+YmJh2dnZmZmaqqqrc\n",
       "3NwyMjLu7u4iIiJERESIiIhUVFTMzMy6uroAAAD0I/TTAAAAAXRSTlMAQObYZgAAAEtJREFUCNdj\n",
       "uMAABDwMe0DUKoaTIKqdgS2AgYHFAITAzHYGsMQqBoa9QIqDgT0BSDE7MAkAKdYEDpAehj1SYOpk\n",
       "O5hiMwBTPAUMDAB33Atnw8aG2QAAAABJRU5ErkJggg==\n",
       "\" style=\"display:inline;vertical-align:middle;\" /></a></td></tr>\n",
       "<tr><td>5</td><td>ExprTuple</td><td>6, 7, 8, 9, 10, 11, 12</td><td><a class=\"ProveItLink\" href=\"../47773b05aa47627e3f95ed192aba6f34d24fdf6f0/expr.ipynb\"><img src=\"data:image/png;base64,iVBORw0KGgoAAAANSUhEUgAAALMAAAAVBAMAAAD/f8IzAAAAMFBMVEX////c3NwiIiJERESqqqqY\n",
       "mJh2dnZmZmYQEBDu7u4yMjJUVFTMzMyIiIi6uroAAAAs73DqAAAAAXRSTlMAQObYZgAAArVJREFU\n",
       "OMu1VTuIE1EUvWOcZMfMTAIKC1psGkVBSBp/ICRgK+w0CoJoOrWQRMRPlwUtZIvNKIiL31iIugE3\n",
       "aKFkigTbFAlYbKGy0Uax2biuC9norve+z8zLwnQmMC/3vHvPnffOOy8BGOHH7oyi6xkaWjx+Lyf1\n",
       "xsB780oi48PbK1qRhRYm6kdl4uOG59XXFPDur8qINTF8yWfm/ReOZQBKXQHOO2Bfd3icqABM5mQZ\n",
       "tT2mggNDDKy1uB562pVlbZxp13h8fx8OhaRI5AFifakjLTImwarUwGecxDXyljtKSdl6EaOzeR6/\n",
       "oOx3mcCtmGLbEP2DwyMJVnA4HjBQ3VmAHzzZWZQSwGF89vIXxogC4yKRxUcbCLCtB1HQJOhjeGqI\n",
       "EcnBVb4jd9KRrZG88wgPJyo0PhSJX/iYsnUiAyf840mk4K7KuI0bKcIzNvOYKcw+5uDzwm4RlxzF\n",
       "T0wLfVWgpWr9p59aKsKlTYytFZhhQRcmimLOQsYdcYrppNLaInXj6wIVmlDxU4Xq66lNDHsKWKnp\n",
       "eY2MmItgkfWbxxtsFN6J9MiZogWZNQ9NCVyoBYyFuYPYssdb28iRa0jUgm2X2daavrpoHScQPmlI\n",
       "EZfBEPO32Ca6rPVNivEebJHLaWNRfIXHDVcxLzuNG6qto65ia4UxzwWhO6TlmJn4zsnWdM6u7HZB\n",
       "JnD1Eby7hm/rcQnWfeGIodHd1Ctwjm4QKdkHY1nY2px2OdBx9d+SIoG2Np/j95MUtzWY+xUAgoGn\n",
       "1NoDzHxfAbaXn4KeXSsaZVzwZfylmUNNGIBW9VqOxwYlDpHss2ihB9mB56VTHNzLDsh6PsM5Ta/r\n",
       "wpjiL1v1mh2WgC8hYKgKL7qeD6CucvSQGMAJAUNVF4Mf1f/c2iAv7wrw0P9NJyQGKwyoVXESRxvJ\n",
       "H9gngH+n1Nst3akSxAAAAABJRU5ErkJggg==\n",
       "\" style=\"display:inline;vertical-align:middle;\" /></a></td></tr>\n",
       "<tr><td>6</td><td>Variable</td><td></td><td><a class=\"ProveItLink\" href=\"../../../../../__pv_it/2cbe72a7ad6f655694dd697106680215e8489b600/expr.ipynb\"><img src=\"data:image/png;base64,iVBORw0KGgoAAAANSUhEUgAAAA8AAAAOBAMAAAACpFvcAAAALVBMVEX///8QEBBERERUVFS6urqI\n",
       "iIhmZmaqqqrc3Nzu7u6YmJgyMjIiIiLMzMwAAADtIaYWAAAAAXRSTlMAQObYZgAAAFtJREFUCNdj\n",
       "YACBOwxQsA9Kc52bAGG05zVAGAFxDmCaZULdAjBjCsO9ADDDgaEvAUTzGhvbKYCVMDAwbgAxChgY\n",
       "eASANAeQwf0AyJgNxEwvGRia5HYwcOm9TgAA6BoR3jrzwFcAAAAASUVORK5CYII=\n",
       "\" style=\"display:inline;vertical-align:middle;\" /></a></td></tr>\n",
       "<tr><td>7</td><td>Variable</td><td></td><td><a class=\"ProveItLink\" href=\"../../../../../__pv_it/077b2ff79244fb4582cbe22c6e3356fa92a52f2f0/expr.ipynb\"><img src=\"data:image/png;base64,iVBORw0KGgoAAAANSUhEUgAAABAAAAAOBAMAAADUAYG5AAAAMFBMVEX///+qqqru7u4iIiJ2dnbc\n",
       "3NyIiIjMzMxmZmYQEBC6uroyMjJERERUVFSYmJgAAADLUcuvAAAAAXRSTlMAQObYZgAAAGpJREFU\n",
       "CNdjYGB4+//u3dMLGIBgDgMDxy8gzf4NiP8CGWxfGRj4vgAZPBMYGJgnARn8FxhY9ygAGfXX0pof\n",
       "gDTlBzAw2YIYJ0EckBBI53sHoBH/gIz7AhBjWH9DjancBLTl/N+7t/cxMAAA3u4f/5xagjYAAAAA\n",
       "SUVORK5CYII=\n",
       "\" style=\"display:inline;vertical-align:middle;\" /></a></td></tr>\n",
       "<tr><td>8</td><td>Variable</td><td></td><td><a class=\"ProveItLink\" href=\"../../../../../__pv_it/985a1bdf1540838275dec15f4ad6de261cca93ce0/expr.ipynb\"><img src=\"data:image/png;base64,iVBORw0KGgoAAAANSUhEUgAAAA8AAAAOBAMAAAACpFvcAAAAMFBMVEX////MzMyqqqoiIiIyMjK6\n",
       "uroQEBB2dnbc3NyYmJhmZmZUVFRERESIiIju7u4AAAB204erAAAAAXRSTlMAQObYZgAAAGZJREFU\n",
       "CNdjYGDgu7NrJccCBgaGsgkMrMsmMDA8sQNy6hsYGNweABlhDAxcn4A0QxcDQ78DiPGQgWH9BAYI\n",
       "sG+AMv6DSaCGfBDNJMDAsB+kmwuI5S8AiTog5gSaEwXWIO29SgFIAQBC+RaDQlidVgAAAABJRU5E\n",
       "rkJggg==\n",
       "\" style=\"display:inline;vertical-align:middle;\" /></a></td></tr>\n",
       "<tr><td>9</td><td>Variable</td><td></td><td><a class=\"ProveItLink\" href=\"../../../../../__pv_it/185e6d30f167ee2ee5ef3321098dc98e0d77bc590/expr.ipynb\"><img src=\"data:image/png;base64,iVBORw0KGgoAAAANSUhEUgAAABEAAAAOBAMAAAA7w+qHAAAALVBMVEX///8QEBCYmJjc3Ny6urru\n",
       "7u5mZmZ2dnaqqqrMzMxEREQyMjJUVFSIiIgAAABETr/8AAAAAXRSTlMAQObYZgAAAGpJREFUCNdj\n",
       "YGC48+7MmV0TGEDgNQMDxwsQg/M5kMgLABK8T4DEvAtAgusBkLA7ACT4FoDEDsAk9AqAxD2QCecc\n",
       "gMQ6kAGCIOIVEDM9Ahn3FkgwgnTxvgQSqwOgxs1OADLC1r05cyoTyAAAv4Qe+njAWvgAAAAASUVO\n",
       "RK5CYII=\n",
       "\" style=\"display:inline;vertical-align:middle;\" /></a></td></tr>\n",
       "<tr><td>10</td><td>Variable</td><td></td><td><a class=\"ProveItLink\" href=\"../../../../../__pv_it/9995c55100c62d7d8a012a35bafc852acbe03cf00/expr.ipynb\"><img src=\"data:image/png;base64,iVBORw0KGgoAAAANSUhEUgAAABAAAAAOBAMAAADUAYG5AAAALVBMVEX///8iIiKYmJjc3Nzu7u7M\n",
       "zMx2dnZmZma6urpERESqqqoyMjJUVFSIiIgAAACbLqVTAAAAAXRSTlMAQObYZgAAAGVJREFUCNdj\n",
       "YGC48+7MmdOvGYAARKwEYo63QIIdiNmeAglfIOZ+wMDGwAxk8E1gUAIpZejbc/oxmJEXwLABzNjH\n",
       "wJDAEABkvGRgMGC5ADWGzQFqjDnEGAZWUQYGn3lvzpyRE2AAAIznGVQJqiN4AAAAAElFTkSuQmCC\n",
       "\" style=\"display:inline;vertical-align:middle;\" /></a></td></tr>\n",
       "<tr><td>11</td><td>Variable</td><td></td><td><a class=\"ProveItLink\" href=\"../../../../../__pv_it/6d1586c49fb5fd7602fde2bbc54560e7304e8ccf0/expr.ipynb\"><img src=\"data:image/png;base64,iVBORw0KGgoAAAANSUhEUgAAABAAAAAOBAMAAADUAYG5AAAAMFBMVEX///9mZmYiIiLc3Nzu7u7M\n",
       "zMyqqqp2dna6urqYmJhEREQyMjIQEBBUVFSIiIgAAABBzvKsAAAAAXRSTlMAQObYZgAAAFxJREFU\n",
       "CNdjYGB4+//u3Tv/GIDgNxCvBGKO70BiBhCzfwMSqUDM/YWBmWEKkMGvwOAJUsrQL8AgDGbU7710\n",
       "AMzY78BwAcz4xMAygQFmDAiw/4AyuD9AaMf1f8GaAdy+F/r2qjhkAAAAAElFTkSuQmCC\n",
       "\" style=\"display:inline;vertical-align:middle;\" /></a></td></tr>\n",
       "<tr><td>12</td><td>Variable</td><td></td><td><a class=\"ProveItLink\" href=\"../../../../../__pv_it/994260d00d104a1ab9cf940a007fb6a4ff36f79e0/expr.ipynb\"><img src=\"data:image/png;base64,iVBORw0KGgoAAAANSUhEUgAAAA8AAAAOBAMAAAACpFvcAAAAMFBMVEX///+qqqrMzMwiIiIyMjK6\n",
       "uroQEBB2dnbc3NyYmJhmZmZUVFRERESIiIju7u4AAACtjd3MAAAAAXRSTlMAQObYZgAAAG5JREFU\n",
       "CNdjYGDgu7NrJccCBgaGsgkMrMsmMDA8sQNy6hsYGNweABnKDAxcH4E0QxcDQ78DiPGCgWH9BAYI\n",
       "sG+AMv4D8S2X4wwMaSBefQADw36Qbn8g1r/AwMDxBcjg/MnAoG0Oktf2XjVhEgMDAJHQGYM57+uu\n",
       "AAAAAElFTkSuQmCC\n",
       "\" style=\"display:inline;vertical-align:middle;\" /></a></td></tr>\n",
       "</table>\n"
      ],
      "text/plain": [
       "0. {A or B or C or D or E or F or G}\n",
       "   core type: Operation\n",
       "   operator: 1\n",
       "   operands: 2\n",
       "1. Set\n",
       "   core type: Literal\n",
       "   sub-expressions: \n",
       "2. (A or B or C or D or E or F or G)\n",
       "   core type: ExprTuple\n",
       "   sub-expressions: 3\n",
       "3. A or B or C or D or E or F or G\n",
       "   core type: Operation\n",
       "   operator: 4\n",
       "   operands: 5\n",
       "4. or\n",
       "   core type: Literal\n",
       "   sub-expressions: \n",
       "5. (A , B , C , D , E , F , G)\n",
       "   core type: ExprTuple\n",
       "   sub-expressions: 6, 7, 8, 9, 10, 11, 12\n",
       "6. A\n",
       "   core type: Variable\n",
       "   sub-expressions: \n",
       "7. B\n",
       "   core type: Variable\n",
       "   sub-expressions: \n",
       "8. C\n",
       "   core type: Variable\n",
       "   sub-expressions: \n",
       "9. D\n",
       "   core type: Variable\n",
       "   sub-expressions: \n",
       "10. E\n",
       "    core type: Variable\n",
       "    sub-expressions: \n",
       "11. F\n",
       "    core type: Variable\n",
       "    sub-expressions: \n",
       "12. G\n",
       "    core type: Variable\n",
       "    sub-expressions: "
      ]
     },
     "execution_count": 4,
     "metadata": {},
     "output_type": "execute_result"
    }
   ],
   "source": [
    "# display the expression information\n",
    "expr.exprInfo()"
   ]
  },
  {
   "cell_type": "code",
   "execution_count": null,
   "metadata": {},
   "outputs": [],
   "source": []
  }
 ],
 "metadata": {
  "kernelspec": {
   "display_name": "Python 3",
   "language": "python",
   "name": "python3"
  }
 },
 "nbformat": 4,
 "nbformat_minor": 0
}
