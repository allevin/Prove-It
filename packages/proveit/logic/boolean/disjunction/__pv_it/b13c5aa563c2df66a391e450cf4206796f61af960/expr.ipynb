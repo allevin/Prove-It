{
 "cells": [
  {
   "cell_type": "markdown",
   "metadata": {},
   "source": [
    "Expression of type <a class=\"ProveItLink\" href=\"../../../../../../../doc/html/api/proveit.ExprTuple.html\">ExprTuple</a>\n",
    "=======================\n",
    "# from context <a class=\"ProveItLink\" href=\"../../_context_.ipynb\">proveit.logic.boolean.disjunction</a>"
   ]
  },
  {
   "cell_type": "code",
   "execution_count": 1,
   "metadata": {},
   "outputs": [],
   "source": [
    "# import Expression classes needed to build the expression\n",
    "from proveit import ExprTuple\n",
    "from proveit._common_ import F, G, H, I"
   ]
  },
  {
   "cell_type": "code",
   "execution_count": 2,
   "metadata": {},
   "outputs": [
    {
     "data": {
      "text/html": [
       "<strong id=\"expr\">expr:</strong> <a class=\"ProveItLink\" href=\"expr.ipynb\"><img src=\"data:image/png;base64,iVBORw0KGgoAAAANSUhEUgAAAGMAAAAVBAMAAACgbk16AAAAMFBMVEX////c3NwiIiJERESqqqqY\n",
       "mJh2dnZmZmYQEBDu7u4yMjJUVFTMzMyIiIi6uroAAAAs73DqAAAAAXRSTlMAQObYZgAAAcdJREFU\n",
       "OMudU78vQ1EU/opXffX6YzMY9E+wNAZD+wcYOkksdDOIqAiCQQcdLHQRFtEQgxgICaIRdgM7ibJI\n",
       "LEqLtKV1zv3x3uuGl5yb+513zrnf+c69wD++4M1food4uSK7beTzp9/Ku9E3k+iU28BFada4KE1I\n",
       "NNroDbdf0maXUZUsKn94M8BTRqWHcmQRfQRHkSPAvIIf+kyYW1lKe1VBL/T3OqVb4KgBwJflymVa\n",
       "+oXfv0SLpQuPE4/7uALeOi3rwLOIq8CDQeFf4ACPLrxPFssq4C/S0hrHtKAcwap0e6qCXVhFlcje\n",
       "dCuhHj4qhR1BOQWlSvt70wCq+fzRJ1yNoS2HZUF57zAt3S2v7hTvF+lThqsxBNOoC8pZHKjDiW9g\n",
       "bjvpsG+twNUYrKJMeYOZkG5fWkuj2fNonMY4ZVELLr+OipbGHktSNyauBxGLOlVZTIv93TkJ5FgK\n",
       "pKBuDDByGLGrmkLN4QSsw6QCeiybETuKRH4E1mI1lthc4WlYZydTxqUA5mTjHPONYxo56dgZqzFF\n",
       "fwG+sDOFsHskboAHe0cXxkjayHAHNQEk7N2Yvvy/TjFZ8i7b3/Q8m0DAGQLz9fzpId8BPx5qgyfp\n",
       "ZDuRAAAAAElFTkSuQmCC\n",
       "\" style=\"display:inline;vertical-align:middle;\" /></a><br>"
      ],
      "text/plain": [
       "expr: (F , G , H , I)"
      ]
     },
     "execution_count": 2,
     "metadata": {},
     "output_type": "execute_result"
    }
   ],
   "source": [
    "# build up the expression from sub-expressions\n",
    "expr = ExprTuple(F, G, H, I)"
   ]
  },
  {
   "cell_type": "code",
   "execution_count": 3,
   "metadata": {},
   "outputs": [
    {
     "name": "stdout",
     "output_type": "stream",
     "text": [
      "Passed sanity check: built 'expr' is the same as the stored Expression.\n"
     ]
    }
   ],
   "source": [
    "# check that the built expression is the same as the stored expression\n",
    "%check_expr"
   ]
  },
  {
   "cell_type": "code",
   "execution_count": 4,
   "metadata": {},
   "outputs": [
    {
     "data": {
      "text/html": [
       "<table><tr><th>&nbsp;</th><th>core type</th><th>sub-expressions</th><th>expression</th></tr>\n",
       "<tr><td>0</td><td>ExprTuple</td><td>1, 2, 3, 4</td><td><a class=\"ProveItLink\" href=\"expr.ipynb\"><img src=\"data:image/png;base64,iVBORw0KGgoAAAANSUhEUgAAAGMAAAAVBAMAAACgbk16AAAAMFBMVEX////c3NwiIiJERESqqqqY\n",
       "mJh2dnZmZmYQEBDu7u4yMjJUVFTMzMyIiIi6uroAAAAs73DqAAAAAXRSTlMAQObYZgAAAcdJREFU\n",
       "OMudU78vQ1EU/opXffX6YzMY9E+wNAZD+wcYOkksdDOIqAiCQQcdLHQRFtEQgxgICaIRdgM7ibJI\n",
       "LEqLtKV1zv3x3uuGl5yb+513zrnf+c69wD++4M1food4uSK7beTzp9/Ku9E3k+iU28BFada4KE1I\n",
       "NNroDbdf0maXUZUsKn94M8BTRqWHcmQRfQRHkSPAvIIf+kyYW1lKe1VBL/T3OqVb4KgBwJflymVa\n",
       "+oXfv0SLpQuPE4/7uALeOi3rwLOIq8CDQeFf4ACPLrxPFssq4C/S0hrHtKAcwap0e6qCXVhFlcje\n",
       "dCuhHj4qhR1BOQWlSvt70wCq+fzRJ1yNoS2HZUF57zAt3S2v7hTvF+lThqsxBNOoC8pZHKjDiW9g\n",
       "bjvpsG+twNUYrKJMeYOZkG5fWkuj2fNonMY4ZVELLr+OipbGHktSNyauBxGLOlVZTIv93TkJ5FgK\n",
       "pKBuDDByGLGrmkLN4QSsw6QCeiybETuKRH4E1mI1lthc4WlYZydTxqUA5mTjHPONYxo56dgZqzFF\n",
       "fwG+sDOFsHskboAHe0cXxkjayHAHNQEk7N2Yvvy/TjFZ8i7b3/Q8m0DAGQLz9fzpId8BPx5qgyfp\n",
       "ZDuRAAAAAElFTkSuQmCC\n",
       "\" style=\"display:inline;vertical-align:middle;\" /></a></td></tr>\n",
       "<tr><td>1</td><td>Variable</td><td></td><td><a class=\"ProveItLink\" href=\"../../../../../__pv_it/6d1586c49fb5fd7602fde2bbc54560e7304e8ccf0/expr.ipynb\"><img src=\"data:image/png;base64,iVBORw0KGgoAAAANSUhEUgAAABAAAAAOBAMAAADUAYG5AAAAMFBMVEX///9mZmYiIiLc3Nzu7u7M\n",
       "zMyqqqp2dna6urqYmJhEREQyMjIQEBBUVFSIiIgAAABBzvKsAAAAAXRSTlMAQObYZgAAAFxJREFU\n",
       "CNdjYGB4+//u3Tv/GIDgNxCvBGKO70BiBhCzfwMSqUDM/YWBmWEKkMGvwOAJUsrQL8AgDGbU7710\n",
       "AMzY78BwAcz4xMAygQFmDAiw/4AyuD9AaMf1f8GaAdy+F/r2qjhkAAAAAElFTkSuQmCC\n",
       "\" style=\"display:inline;vertical-align:middle;\" /></a></td></tr>\n",
       "<tr><td>2</td><td>Variable</td><td></td><td><a class=\"ProveItLink\" href=\"../../../../../__pv_it/994260d00d104a1ab9cf940a007fb6a4ff36f79e0/expr.ipynb\"><img src=\"data:image/png;base64,iVBORw0KGgoAAAANSUhEUgAAAA8AAAAOBAMAAAACpFvcAAAAMFBMVEX///+qqqrMzMwiIiIyMjK6\n",
       "uroQEBB2dnbc3NyYmJhmZmZUVFRERESIiIju7u4AAACtjd3MAAAAAXRSTlMAQObYZgAAAG5JREFU\n",
       "CNdjYGDgu7NrJccCBgaGsgkMrMsmMDA8sQNy6hsYGNweABnKDAxcH4E0QxcDQ78DiPGCgWH9BAYI\n",
       "sG+AMv4D8S2X4wwMaSBefQADw36Qbn8g1r/AwMDxBcjg/MnAoG0Oktf2XjVhEgMDAJHQGYM57+uu\n",
       "AAAAAElFTkSuQmCC\n",
       "\" style=\"display:inline;vertical-align:middle;\" /></a></td></tr>\n",
       "<tr><td>3</td><td>Variable</td><td></td><td><a class=\"ProveItLink\" href=\"../../../../../__pv_it/fabf74ac81cd36aa91075816201d2b14195a56e60/expr.ipynb\"><img src=\"data:image/png;base64,iVBORw0KGgoAAAANSUhEUgAAABMAAAAOBAMAAAA/Njq6AAAALVBMVEX///+qqqp2dnbMzMy6uroi\n",
       "IiIyMjLc3NyYmJju7u5mZmZERERUVFSIiIgAAABaGT/LAAAAAXRSTlMAQObYZgAAAGhJREFUCNdj\n",
       "YGC4827XhJ53uwoYgOAZED8FMRhY3jIwML8CM5keMzDwPgQz2R4wMHC/BDP5NgBxAJjpl3PmzL4F\n",
       "YKaeAQPDPQEwMw+I900AM19DjYYa+whh7BM0Y2fte3OB69wbBQYGADOSITJjbaXUAAAAAElFTkSu\n",
       "QmCC\n",
       "\" style=\"display:inline;vertical-align:middle;\" /></a></td></tr>\n",
       "<tr><td>4</td><td>Variable</td><td></td><td><a class=\"ProveItLink\" href=\"../../../../../__pv_it/485fbf85ade6e4660c176b077846a05437e7af3e0/expr.ipynb\"><img src=\"data:image/png;base64,iVBORw0KGgoAAAANSUhEUgAAAAsAAAAOBAMAAAALT/umAAAAIVBMVEX////MzMyIiIi6uroyMjLc\n",
       "3NxmZmZERERUVFR2dnYAAABv5Bk0AAAAAXRSTlMAQObYZgAAAD9JREFUCNdjYGCYsaosgAEIloAI\n",
       "BuaVYIpzMZhiWQCmuArAlJUCmJolAKa8wCTDcoi2RRBtC5G0hVWtmMDAAAAhAQsT8Qr5GAAAAABJ\n",
       "RU5ErkJggg==\n",
       "\" style=\"display:inline;vertical-align:middle;\" /></a></td></tr>\n",
       "</table>\n"
      ],
      "text/plain": [
       "0. (F , G , H , I)\n",
       "   core type: ExprTuple\n",
       "   sub-expressions: 1, 2, 3, 4\n",
       "1. F\n",
       "   core type: Variable\n",
       "   sub-expressions: \n",
       "2. G\n",
       "   core type: Variable\n",
       "   sub-expressions: \n",
       "3. H\n",
       "   core type: Variable\n",
       "   sub-expressions: \n",
       "4. I\n",
       "   core type: Variable\n",
       "   sub-expressions: "
      ]
     },
     "execution_count": 4,
     "metadata": {},
     "output_type": "execute_result"
    }
   ],
   "source": [
    "# display the expression information\n",
    "expr.exprInfo()"
   ]
  },
  {
   "cell_type": "code",
   "execution_count": null,
   "metadata": {},
   "outputs": [],
   "source": []
  }
 ],
 "metadata": {
  "kernelspec": {
   "display_name": "Python 3",
   "language": "python",
   "name": "python3"
  }
 },
 "nbformat": 4,
 "nbformat_minor": 0
}
