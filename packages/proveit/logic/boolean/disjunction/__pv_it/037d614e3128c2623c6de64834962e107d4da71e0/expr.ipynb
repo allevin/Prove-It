{
 "cells": [
  {
   "cell_type": "markdown",
   "metadata": {},
   "source": [
    "Expression of type <a class=\"ProveItLink\" href=\"../../../../../../../doc/html/api/proveit.ExprTuple.html\">ExprTuple</a>\n",
    "=======================\n",
    "# from context <a class=\"ProveItLink\" href=\"../../_context_.ipynb\">proveit.logic.boolean.disjunction</a>"
   ]
  },
  {
   "cell_type": "code",
   "execution_count": 1,
   "metadata": {},
   "outputs": [],
   "source": [
    "# import Expression classes needed to build the expression\n",
    "from proveit import ExprTuple\n",
    "from proveit.logic import FALSE, Or"
   ]
  },
  {
   "cell_type": "code",
   "execution_count": 2,
   "metadata": {},
   "outputs": [
    {
     "data": {
      "text/html": [
       "<strong id=\"expr\">expr:</strong> <a class=\"ProveItLink\" href=\"expr.ipynb\"><img src=\"data:image/png;base64,iVBORw0KGgoAAAANSUhEUgAAAGYAAAAVBAMAAABGR4Y+AAAAMFBMVEX////c3NwiIiJERESqqqqY\n",
       "mJh2dnZmZmYQEBDu7u4yMjJUVFTMzMyIiIi6uroAAAAs73DqAAAAAXRSTlMAQObYZgAAAY1JREFU\n",
       "OMudkztLA0EQgCfGPC53Oa9WArI2FiIi2qcTrKwsUkgasVKCiJVFFBsb3VKszkJEEIn/4BoRsfBI\n",
       "rRCsRBDEHyDO7G72JtlC8eBmZ3fnu5snwH+eMIXutdEbs2r5sJdrjnmhh+IRYMueKC3okKyRKCXM\n",
       "PJeS3MP3iixDdZhopiJJ3qujmDFBS90CVFNifPoeqop5gYxZdZhCE8qSmGAOdyNSM0eMOXUYrw3v\n",
       "OopzXJZ0PGHMmHx9mIEF2NUM2hNHTKnJmGLLYTbgQjPoF/lHTGWFMaOxwyzDsWYwfr+nmXKPMWHb\n",
       "Yd7g21RlEs6MNsaZ4NNhniyzA+t/Zg6N5Tj+yfhW/823RWPp36VGy/McFCgHcoBpYOa0ZTAvjWbS\n",
       "m+Xa+xrK9Wu/My/7PRqik9tCTAsxhYnH4LyTCKsmhDgQAutxA+XIMA+2r/dZv6jeCSN2gr2DLTc8\n",
       "C7wvN1VQfICKqZmFAaYis4/GDkNlnHCYXMfufeVVyplbPX3dGbPv6tmuWYNnZ7arCfwAbihl3cFC\n",
       "jUoAAAAASUVORK5CYII=\n",
       "\" style=\"display:inline;vertical-align:middle;\" /></a><br>"
      ],
      "text/plain": [
       "expr: ([or](FALSE) , FALSE)"
      ]
     },
     "execution_count": 2,
     "metadata": {},
     "output_type": "execute_result"
    }
   ],
   "source": [
    "# build up the expression from sub-expressions\n",
    "expr = ExprTuple(Or(FALSE), FALSE)"
   ]
  },
  {
   "cell_type": "code",
   "execution_count": 3,
   "metadata": {},
   "outputs": [
    {
     "name": "stdout",
     "output_type": "stream",
     "text": [
      "Passed sanity check: built 'expr' is the same as the stored Expression.\n"
     ]
    }
   ],
   "source": [
    "# check that the built expression is the same as the stored expression\n",
    "%check_expr"
   ]
  },
  {
   "cell_type": "code",
   "execution_count": 4,
   "metadata": {},
   "outputs": [
    {
     "data": {
      "text/html": [
       "<table><tr><th>&nbsp;</th><th>core type</th><th>sub-expressions</th><th>expression</th></tr>\n",
       "<tr><td>0</td><td>ExprTuple</td><td>1, 4</td><td><a class=\"ProveItLink\" href=\"expr.ipynb\"><img src=\"data:image/png;base64,iVBORw0KGgoAAAANSUhEUgAAAGYAAAAVBAMAAABGR4Y+AAAAMFBMVEX////c3NwiIiJERESqqqqY\n",
       "mJh2dnZmZmYQEBDu7u4yMjJUVFTMzMyIiIi6uroAAAAs73DqAAAAAXRSTlMAQObYZgAAAY1JREFU\n",
       "OMudkztLA0EQgCfGPC53Oa9WArI2FiIi2qcTrKwsUkgasVKCiJVFFBsb3VKszkJEEIn/4BoRsfBI\n",
       "rRCsRBDEHyDO7G72JtlC8eBmZ3fnu5snwH+eMIXutdEbs2r5sJdrjnmhh+IRYMueKC3okKyRKCXM\n",
       "PJeS3MP3iixDdZhopiJJ3qujmDFBS90CVFNifPoeqop5gYxZdZhCE8qSmGAOdyNSM0eMOXUYrw3v\n",
       "OopzXJZ0PGHMmHx9mIEF2NUM2hNHTKnJmGLLYTbgQjPoF/lHTGWFMaOxwyzDsWYwfr+nmXKPMWHb\n",
       "Yd7g21RlEs6MNsaZ4NNhniyzA+t/Zg6N5Tj+yfhW/823RWPp36VGy/McFCgHcoBpYOa0ZTAvjWbS\n",
       "m+Xa+xrK9Wu/My/7PRqik9tCTAsxhYnH4LyTCKsmhDgQAutxA+XIMA+2r/dZv6jeCSN2gr2DLTc8\n",
       "C7wvN1VQfICKqZmFAaYis4/GDkNlnHCYXMfufeVVyplbPX3dGbPv6tmuWYNnZ7arCfwAbihl3cFC\n",
       "jUoAAAAASUVORK5CYII=\n",
       "\" style=\"display:inline;vertical-align:middle;\" /></a></td></tr>\n",
       "<tr><td>1</td><td>Operation</td><td>operator:&nbsp;2<br>operands:&nbsp;3<br></td><td><a class=\"ProveItLink\" href=\"../2c40a46cc26842e05a116a65547464952a8098890/expr.ipynb\"><img src=\"data:image/png;base64,iVBORw0KGgoAAAANSUhEUgAAADkAAAAVBAMAAAAOWFv7AAAAMFBMVEX///8QEBCYmJhmZmaqqqrc\n",
       "3Nzu7u5ERERUVFS6urp2dnbMzMwyMjIiIiKIiIgAAACFNc/vAAAAAXRSTlMAQObYZgAAAP9JREFU\n",
       "KM9jYMAL3p6GMnRugql5cBlNIF4J54FZ3A0gMg5EMG8AiXGC5TZAZHkSQORmsNABkCwHUA0D3wOI\n",
       "7DsGhKwWSJa7AMjiTYDIiiHJJoJtOwpkOUPs5TyAJMvuABIDyoBUgGSZFyDJchmAxICmgkwHyfIo\n",
       "IMmyHACJAV3EMQEiyzgBSZZTACx2gSEH6l9+ZFnuD2AxE4ZFeGRjgLqhJjtgmsyx6QFUlh3ZVUxg\n",
       "VzFw1yZAZYGeQPcRA8NhWCxwAq2wvXv34t2714HemwCR3QaPI1GkyE3EiEEtJNl1GLKQGAQDtgMY\n",
       "sqwNcD5HADDl3IYlIUjKiYPLvmZgAABGkk52bJ3edwAAAABJRU5ErkJggg==\n",
       "\" style=\"display:inline;vertical-align:middle;\" /></a></td></tr>\n",
       "<tr><td>2</td><td>Literal</td><td></td><td><a class=\"ProveItLink\" href=\"../087d0b4ded7c7e5bf3bba05ecb616d7a8051ff650/expr.ipynb\"><img src=\"data:image/png;base64,iVBORw0KGgoAAAANSUhEUgAAAAwAAAAOBAMAAADpk+DfAAAALVBMVEX///+YmJh2dnZmZmaqqqrc\n",
       "3NwyMjLu7u4iIiJERESIiIhUVFTMzMy6uroAAAD0I/TTAAAAAXRSTlMAQObYZgAAAEtJREFUCNdj\n",
       "uMAABDwMe0DUKoaTIKqdgS2AgYHFAITAzHYGsMQqBoa9QIqDgT0BSDE7MAkAKdYEDpAehj1SYOpk\n",
       "O5hiMwBTPAUMDAB33Atnw8aG2QAAAABJRU5ErkJggg==\n",
       "\" style=\"display:inline;vertical-align:middle;\" /></a></td></tr>\n",
       "<tr><td>3</td><td>ExprTuple</td><td>4</td><td><a class=\"ProveItLink\" href=\"../2064b02c65bf2cef6bed707d2e6782af008f3e450/expr.ipynb\"><img src=\"data:image/png;base64,iVBORw0KGgoAAAANSUhEUgAAABwAAAAVBAMAAACnLJNvAAAAMFBMVEX////c3NwiIiJERESqqqqY\n",
       "mJh2dnZmZmYQEBDu7u4yMjJUVFTMzMyIiIi6uroAAAAs73DqAAAAAXRSTlMAQObYZgAAAIZJREFU\n",
       "GNNjYEADfBdgLNYHQOI0iMUIFqsB4pUgBk8BiORiYOC9gOCyJjBwTEBwORsYXjEguAwmDGXI3HSG\n",
       "pchcL4Y+ZO4Lhn/I3PPo3BZUxabI3Cig2SgWPWJgYFdSUmpSUjJgYFjHwCGA8CvQkUBnwwHbBagH\n",
       "IWAWEEsjuBvhAQECvAcYAKwAIAGBP3hLAAAAAElFTkSuQmCC\n",
       "\" style=\"display:inline;vertical-align:middle;\" /></a></td></tr>\n",
       "<tr><td>4</td><td>Literal</td><td></td><td><a class=\"ProveItLink\" href=\"../../../__pv_it/8f1f7fac882de28c72b62ab80a1700b6d8fd066b0/expr.ipynb\"><img src=\"data:image/png;base64,iVBORw0KGgoAAAANSUhEUgAAAA4AAAAOBAMAAADtZjDiAAAAG1BMVEX///9EREQQEBAiIiJmZmbM\n",
       "zMyIiIjc3NwAAACryk5kAAAAAXRSTlMAQObYZgAAABlJREFUCNdjYGBgKGOAgBBa0s7GxkbGxoYA\n",
       "FMUF2aBfHgoAAAAASUVORK5CYII=\n",
       "\" style=\"display:inline;vertical-align:middle;\" /></a></td></tr>\n",
       "</table>\n"
      ],
      "text/plain": [
       "0. ([or](FALSE) , FALSE)\n",
       "   core type: ExprTuple\n",
       "   sub-expressions: 1, 4\n",
       "1. [or](FALSE)\n",
       "   core type: Operation\n",
       "   operator: 2\n",
       "   operands: 3\n",
       "2. or\n",
       "   core type: Literal\n",
       "   sub-expressions: \n",
       "3. (FALSE)\n",
       "   core type: ExprTuple\n",
       "   sub-expressions: 4\n",
       "4. FALSE\n",
       "   core type: Literal\n",
       "   sub-expressions: "
      ]
     },
     "execution_count": 4,
     "metadata": {},
     "output_type": "execute_result"
    }
   ],
   "source": [
    "# display the expression information\n",
    "expr.exprInfo()"
   ]
  },
  {
   "cell_type": "code",
   "execution_count": null,
   "metadata": {},
   "outputs": [],
   "source": []
  }
 ],
 "metadata": {
  "kernelspec": {
   "display_name": "Python 3",
   "language": "python",
   "name": "python3"
  }
 },
 "nbformat": 4,
 "nbformat_minor": 0
}
