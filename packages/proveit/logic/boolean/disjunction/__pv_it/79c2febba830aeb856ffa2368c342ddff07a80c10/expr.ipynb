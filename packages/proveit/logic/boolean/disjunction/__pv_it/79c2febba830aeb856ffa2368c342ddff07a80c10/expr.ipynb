{
 "cells": [
  {
   "cell_type": "markdown",
   "metadata": {},
   "source": [
    "Expression of type <a class=\"ProveItLink\" href=\"../../../../../../../doc/html/api/proveit.ExprTuple.html\">ExprTuple</a>\n",
    "=======================\n",
    "# from context <a class=\"ProveItLink\" href=\"../../_context_.ipynb\">proveit.logic.boolean.disjunction</a>"
   ]
  },
  {
   "cell_type": "code",
   "execution_count": 1,
   "metadata": {},
   "outputs": [],
   "source": [
    "# import Expression classes needed to build the expression\n",
    "from proveit import ExprTuple\n",
    "from proveit._common_ import D"
   ]
  },
  {
   "cell_type": "code",
   "execution_count": 2,
   "metadata": {},
   "outputs": [
    {
     "data": {
      "text/html": [
       "<strong id=\"expr\">expr:</strong> <a class=\"ProveItLink\" href=\"expr.ipynb\"><img src=\"data:image/png;base64,iVBORw0KGgoAAAANSUhEUgAAADkAAAAVBAMAAAAOWFv7AAAAMFBMVEX////c3NwiIiJERESqqqqY\n",
       "mJh2dnZmZmYQEBDu7u4yMjJUVFTMzMyIiIi6uroAAAAs73DqAAAAAXRSTlMAQObYZgAAATxJREFU\n",
       "KM99Uj1LA0EQfSFZvTO5mN7Cv5BGBBGSf6CVpbnOSggIVoIBLaw0nZYHImIn2HlFrLXQ3oCHZaoQ\n",
       "P0BPo282O3AB48HO3bx3O+/NzgL/P+WHCcS6hDuux584Pr1xaNBJ4+tlYFqAC0E+gcKrbpqNgJU6\n",
       "wFcghUvvDLttx96H3PgBrAGeYMFQQDXwlPD/b+AE6Eme7zPMXzq2xpVLidaxbZWqslfZF9EiO9XE\n",
       "GbRoIxyRUhSGTgoRDq2SmO8krqMvhiKdlFsYqhIOXGFrwmuxSH/EipJ503bFRGPVsvuq5FW1XTGx\n",
       "B1t5QZWW2HhbTeTlBE2EDad02wT8gTNROpcPdvQMHNfS+GqHqX9Ugb/FiSzaicwk8CrZaWYTOUkT\n",
       "ZnIzNuBNneBfrM8JYi4DjF2TosjkJt2cLvAL0JBYOK3ZwCgAAAAASUVORK5CYII=\n",
       "\" style=\"display:inline;vertical-align:middle;\" /></a><br>"
      ],
      "text/plain": [
       "expr: (D , D)"
      ]
     },
     "execution_count": 2,
     "metadata": {},
     "output_type": "execute_result"
    }
   ],
   "source": [
    "# build up the expression from sub-expressions\n",
    "expr = ExprTuple(D, D)"
   ]
  },
  {
   "cell_type": "code",
   "execution_count": 3,
   "metadata": {},
   "outputs": [
    {
     "name": "stdout",
     "output_type": "stream",
     "text": [
      "Passed sanity check: built 'expr' is the same as the stored Expression.\n"
     ]
    }
   ],
   "source": [
    "# check that the built expression is the same as the stored expression\n",
    "%check_expr"
   ]
  },
  {
   "cell_type": "code",
   "execution_count": 4,
   "metadata": {},
   "outputs": [
    {
     "data": {
      "text/html": [
       "<table><tr><th>&nbsp;</th><th>core type</th><th>sub-expressions</th><th>expression</th></tr>\n",
       "<tr><td>0</td><td>ExprTuple</td><td>1, 1</td><td><a class=\"ProveItLink\" href=\"expr.ipynb\"><img src=\"data:image/png;base64,iVBORw0KGgoAAAANSUhEUgAAADkAAAAVBAMAAAAOWFv7AAAAMFBMVEX////c3NwiIiJERESqqqqY\n",
       "mJh2dnZmZmYQEBDu7u4yMjJUVFTMzMyIiIi6uroAAAAs73DqAAAAAXRSTlMAQObYZgAAATxJREFU\n",
       "KM99Uj1LA0EQfSFZvTO5mN7Cv5BGBBGSf6CVpbnOSggIVoIBLaw0nZYHImIn2HlFrLXQ3oCHZaoQ\n",
       "P0BPo282O3AB48HO3bx3O+/NzgL/P+WHCcS6hDuux584Pr1xaNBJ4+tlYFqAC0E+gcKrbpqNgJU6\n",
       "wFcghUvvDLttx96H3PgBrAGeYMFQQDXwlPD/b+AE6Eme7zPMXzq2xpVLidaxbZWqslfZF9EiO9XE\n",
       "GbRoIxyRUhSGTgoRDq2SmO8krqMvhiKdlFsYqhIOXGFrwmuxSH/EipJ503bFRGPVsvuq5FW1XTGx\n",
       "B1t5QZWW2HhbTeTlBE2EDad02wT8gTNROpcPdvQMHNfS+GqHqX9Ugb/FiSzaicwk8CrZaWYTOUkT\n",
       "ZnIzNuBNneBfrM8JYi4DjF2TosjkJt2cLvAL0JBYOK3ZwCgAAAAASUVORK5CYII=\n",
       "\" style=\"display:inline;vertical-align:middle;\" /></a></td></tr>\n",
       "<tr><td>1</td><td>Variable</td><td></td><td><a class=\"ProveItLink\" href=\"../../../../../__pv_it/185e6d30f167ee2ee5ef3321098dc98e0d77bc590/expr.ipynb\"><img src=\"data:image/png;base64,iVBORw0KGgoAAAANSUhEUgAAABEAAAAOBAMAAAA7w+qHAAAALVBMVEX///8QEBCYmJjc3Ny6urru\n",
       "7u5mZmZ2dnaqqqrMzMxEREQyMjJUVFSIiIgAAABETr/8AAAAAXRSTlMAQObYZgAAAGpJREFUCNdj\n",
       "YGC48+7MmV0TGEDgNQMDxwsQg/M5kMgLABK8T4DEvAtAgusBkLA7ACT4FoDEDsAk9AqAxD2QCecc\n",
       "gMQ6kAGCIOIVEDM9Ahn3FkgwgnTxvgQSqwOgxs1OADLC1r05cyoTyAAAv4Qe+njAWvgAAAAASUVO\n",
       "RK5CYII=\n",
       "\" style=\"display:inline;vertical-align:middle;\" /></a></td></tr>\n",
       "</table>\n"
      ],
      "text/plain": [
       "0. (D , D)\n",
       "   core type: ExprTuple\n",
       "   sub-expressions: 1, 1\n",
       "1. D\n",
       "   core type: Variable\n",
       "   sub-expressions: "
      ]
     },
     "execution_count": 4,
     "metadata": {},
     "output_type": "execute_result"
    }
   ],
   "source": [
    "# display the expression information\n",
    "expr.exprInfo()"
   ]
  },
  {
   "cell_type": "code",
   "execution_count": null,
   "metadata": {},
   "outputs": [],
   "source": []
  }
 ],
 "metadata": {
  "kernelspec": {
   "display_name": "Python 3",
   "language": "python",
   "name": "python3"
  }
 },
 "nbformat": 4,
 "nbformat_minor": 0
}
