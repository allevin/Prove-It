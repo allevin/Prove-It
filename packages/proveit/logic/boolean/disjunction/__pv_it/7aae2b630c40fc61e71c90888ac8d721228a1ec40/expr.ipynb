{
 "cells": [
  {
   "cell_type": "markdown",
   "metadata": {},
   "source": [
    "Expression of type <a class=\"ProveItLink\" href=\"../../../../../../../doc/html/api/proveit.ExprTuple.html\">ExprTuple</a>\n",
    "=======================\n",
    "# from context <a class=\"ProveItLink\" href=\"../../_context_.ipynb\">proveit.logic.boolean.disjunction</a>"
   ]
  },
  {
   "cell_type": "code",
   "execution_count": 1,
   "metadata": {},
   "outputs": [],
   "source": [
    "# import Expression classes needed to build the expression\n",
    "from proveit import ExprTuple, Indexed\n",
    "from proveit._common_ import AA, BB, i"
   ]
  },
  {
   "cell_type": "code",
   "execution_count": 2,
   "metadata": {},
   "outputs": [
    {
     "data": {
      "text/html": [
       "<strong id=\"expr\">expr:</strong> <a class=\"ProveItLink\" href=\"expr.ipynb\"><img src=\"data:image/png;base64,iVBORw0KGgoAAAANSUhEUgAAAEcAAAAVBAMAAADm2O7QAAAAMFBMVEX////c3NwiIiJERESqqqqY\n",
       "mJh2dnZmZmYQEBDu7u4yMjJUVFTMzMyIiIi6uroAAAAs73DqAAAAAXRSTlMAQObYZgAAAXpJREFU\n",
       "KM+NkrtOAlEQhn+U+2XZ1lCAT4CNJYFYWVIZK6GzMlBZW1hoTARiTKQwbkwstNE3wFYtJNpaoKUV\n",
       "ENQFiePMOSgHCuMUu3O+/c/OFfiXWU31ivZMmCW2vWtx1+Rxp/HMuykKXe7Wa9mhuAGRnmtc+pz4\n",
       "Py0AyQ/lOkBsFI26piZKjJP63goQrCovXCJTFCMOUnhT/hHwqulDkKqGaFaupB3t57CpHM8wTC1D\n",
       "FB8At6Ms/WWcaXU5QHl11nbvXpy6OQ28DvYVXOUs+GzZI1GBu3Yw0MDawpdqSw+WFP1rjT5/pKKu\n",
       "tK1FEXenQilDVEmJ6OpHtC3v5Zt6jdqwHkcaj8T2U1MBDrco0USZ7uA4biMkIh9x0smuAvA5WGeW\n",
       "kHSyPcwtAScSNUI2DivzCkiFL9wU4kY2iIbIcH87ChC5EiMjw2ghaBuz7/MwnjEFeCy+4ph5HT7k\n",
       "MQU2xquiisrYkyIBIZlgYnJRY9ObG5F8PM2/1/sJ+Aazw3rFiy2nrAAAAABJRU5ErkJggg==\n",
       "\" style=\"display:inline;vertical-align:middle;\" /></a><br>"
      ],
      "text/plain": [
       "expr: (A_i , B_i)"
      ]
     },
     "execution_count": 2,
     "metadata": {},
     "output_type": "execute_result"
    }
   ],
   "source": [
    "# build up the expression from sub-expressions\n",
    "expr = ExprTuple(Indexed(AA, i, base = 1), Indexed(BB, i, base = 1))"
   ]
  },
  {
   "cell_type": "code",
   "execution_count": 3,
   "metadata": {},
   "outputs": [
    {
     "name": "stdout",
     "output_type": "stream",
     "text": [
      "Passed sanity check: built 'expr' is the same as the stored Expression.\n"
     ]
    }
   ],
   "source": [
    "# check that the built expression is the same as the stored expression\n",
    "%check_expr"
   ]
  },
  {
   "cell_type": "code",
   "execution_count": 4,
   "metadata": {},
   "outputs": [
    {
     "data": {
      "text/html": [
       "<table><tr><th>&nbsp;</th><th>core type</th><th>sub-expressions</th><th>expression</th></tr>\n",
       "<tr><td>0</td><td>ExprTuple</td><td>1, 2</td><td><a class=\"ProveItLink\" href=\"expr.ipynb\"><img src=\"data:image/png;base64,iVBORw0KGgoAAAANSUhEUgAAAEcAAAAVBAMAAADm2O7QAAAAMFBMVEX////c3NwiIiJERESqqqqY\n",
       "mJh2dnZmZmYQEBDu7u4yMjJUVFTMzMyIiIi6uroAAAAs73DqAAAAAXRSTlMAQObYZgAAAXpJREFU\n",
       "KM+NkrtOAlEQhn+U+2XZ1lCAT4CNJYFYWVIZK6GzMlBZW1hoTARiTKQwbkwstNE3wFYtJNpaoKUV\n",
       "ENQFiePMOSgHCuMUu3O+/c/OFfiXWU31ivZMmCW2vWtx1+Rxp/HMuykKXe7Wa9mhuAGRnmtc+pz4\n",
       "Py0AyQ/lOkBsFI26piZKjJP63goQrCovXCJTFCMOUnhT/hHwqulDkKqGaFaupB3t57CpHM8wTC1D\n",
       "FB8At6Ms/WWcaXU5QHl11nbvXpy6OQ28DvYVXOUs+GzZI1GBu3Yw0MDawpdqSw+WFP1rjT5/pKKu\n",
       "tK1FEXenQilDVEmJ6OpHtC3v5Zt6jdqwHkcaj8T2U1MBDrco0USZ7uA4biMkIh9x0smuAvA5WGeW\n",
       "kHSyPcwtAScSNUI2DivzCkiFL9wU4kY2iIbIcH87ChC5EiMjw2ghaBuz7/MwnjEFeCy+4ph5HT7k\n",
       "MQU2xquiisrYkyIBIZlgYnJRY9ObG5F8PM2/1/sJ+Aazw3rFiy2nrAAAAABJRU5ErkJggg==\n",
       "\" style=\"display:inline;vertical-align:middle;\" /></a></td></tr>\n",
       "<tr><td>1</td><td>Indexed</td><td>var:&nbsp;3<br>index:&nbsp;5<br>base:&nbsp;\"1\"<br></td><td><a class=\"ProveItLink\" href=\"../b764974a6de5d113074ad3d13f728b12868af9c10/expr.ipynb\"><img src=\"data:image/png;base64,iVBORw0KGgoAAAANSUhEUgAAABgAAAASBAMAAACzwgOtAAAAMFBMVEX///+YmJhmZmZERES6urrc\n",
       "3Nzu7u4QEBCIiIgyMjJUVFR2dnYiIiKqqqrMzMwAAAD8et6HAAAAAXRSTlMAQObYZgAAAI1JREFU\n",
       "CNdjYAABvr8MCMDzG4mz/xeCzff/D4LDuf8/gtPD/j8Bxmb9x/nfAcZhVmD6L8DAwK0A4ogzcPwH\n",
       "MlgCgGy2vwws/w2gqri+l9f/PwDlXH+Wlvr/AwNLM0hVLZA4/5Uhgx+oJwqk3P4vQ9gdBgb+/0AL\n",
       "1////4/BAsmxbN8eIDi8EzYgOKwWAQDd5inAsx8uzwAAAABJRU5ErkJggg==\n",
       "\" style=\"display:inline;vertical-align:middle;\" /></a></td></tr>\n",
       "<tr><td>2</td><td>Indexed</td><td>var:&nbsp;4<br>index:&nbsp;5<br>base:&nbsp;\"1\"<br></td><td><a class=\"ProveItLink\" href=\"../8218b42b999c130105fa8e2a434fd93ed8addc5b0/expr.ipynb\"><img src=\"data:image/png;base64,iVBORw0KGgoAAAANSUhEUgAAABgAAAASBAMAAACzwgOtAAAAMFBMVEX///92dna6urqqqqoiIiKY\n",
       "mJiIiIhmZmbc3NwyMjLu7u7MzMxUVFQQEBBEREQAAAA0CE+eAAAAAXRSTlMAQObYZgAAAKZJREFU\n",
       "CNdjYGB4/x8I7mxgAAOu+bdWrXj/G8Jh+P+AgaH/O4TN/T8ByPkD4bD9B6qP/wrh8P0HEv4TIBz+\n",
       "nwwMO6GqGPb/nTnlrwEDA2MBkBP/mYFhHVCWqQHIOf8LyPgvAFF23wHEOQBmc/wHqmX8n8CUB+Sw\n",
       "/gdq7v/CsIwfqIfnfwPD0vseDF0mQFtAbv77FKjkGQMCcP3agOAwTxBAcDieNQAAh3I83yYxJiUA\n",
       "AAAASUVORK5CYII=\n",
       "\" style=\"display:inline;vertical-align:middle;\" /></a></td></tr>\n",
       "<tr><td>3</td><td>Variable</td><td></td><td><a class=\"ProveItLink\" href=\"../../../../../__pv_it/eb438fefc4bd0ac977777d6dfd3e8a72dfbedbd50/expr.ipynb\"><img src=\"data:image/png;base64,iVBORw0KGgoAAAANSUhEUgAAABIAAAAPBAMAAAAbqIIhAAAAMFBMVEX///+YmJhmZmZERES6urrc\n",
       "3Nzu7u4QEBCIiIgyMjJUVFR2dnYiIiKqqqrMzMwAAAD8et6HAAAAAXRSTlMAQObYZgAAAGpJREFU\n",
       "CNdjYAABvr8MUMDzG8ba/wvK4Pv/B8ri3P8fyuph/58AZrD+4/zvAGYxKzD9FwCzxBk4/iuAGGx/\n",
       "GVj+G4BYXN/L6/8fALGuP0tL/f8BJFkLJM5/BRJRICX2QCfw/weauv7//38AzEYi08a6/oIAAAAA\n",
       "SUVORK5CYII=\n",
       "\" style=\"display:inline;vertical-align:middle;\" /></a></td></tr>\n",
       "<tr><td>4</td><td>Variable</td><td></td><td><a class=\"ProveItLink\" href=\"../../../../../__pv_it/a275d402e75fbbde925e8ebdcbfd239a2138849c0/expr.ipynb\"><img src=\"data:image/png;base64,iVBORw0KGgoAAAANSUhEUgAAABIAAAAPBAMAAAAbqIIhAAAAMFBMVEX///92dna6urqqqqoiIiKY\n",
       "mJiIiIhmZmbc3NwyMjLu7u7MzMxUVFQQEBBEREQAAAA0CE+eAAAAAXRSTlMAQObYZgAAAIdJREFU\n",
       "CNdjYGB4/x8I7mxgYGDgmn9r1Yr3v4Eshv8PGBj6vwMZ3P8TgKw/QBbbf6Ca+K9AFt9/IOE/AUjw\n",
       "/2Rg2AmSZNj/d+aUvwYgVvxnBoZ1P0Gs878YGJj+CwBZ9x1ArAMMDBz/CxgYGEFmsv4Hqu7/ApTk\n",
       "+d/AsPS+B9A0kEv+PmVgAADmSjTeJ9tS4QAAAABJRU5ErkJggg==\n",
       "\" style=\"display:inline;vertical-align:middle;\" /></a></td></tr>\n",
       "<tr><td>5</td><td>Variable</td><td></td><td><a class=\"ProveItLink\" href=\"../../../../../__pv_it/4cc43b4ba7e5ae9f0f864f240ab9735c1604d8200/expr.ipynb\"><img src=\"data:image/png;base64,iVBORw0KGgoAAAANSUhEUgAAAAcAAAAOBAMAAAARcxsoAAAAMFBMVEX///+YmJjc3NxUVFQQEBAi\n",
       "IiKqqqrMzMy6urpmZmZ2dnbu7u6IiIgyMjJEREQAAADwIkbYAAAAAXRSTlMAQObYZgAAADtJREFU\n",
       "CNdjYGB4ywAEbxjQAffKBQwMXBwfGBjKOAMYGDawHAAK5m8AEpe5GRiYfnAxMLB9UARpPcAAAFud\n",
       "DDeiFOVzAAAAAElFTkSuQmCC\n",
       "\" style=\"display:inline;vertical-align:middle;\" /></a></td></tr>\n",
       "</table>\n"
      ],
      "text/plain": [
       "0. (A_i , B_i)\n",
       "   core type: ExprTuple\n",
       "   sub-expressions: 1, 2\n",
       "1. A_i\n",
       "   core type: Indexed\n",
       "   var: 3\n",
       "   index: 5\n",
       "   base: \"1\"\n",
       "2. B_i\n",
       "   core type: Indexed\n",
       "   var: 4\n",
       "   index: 5\n",
       "   base: \"1\"\n",
       "3. A\n",
       "   core type: Variable\n",
       "   sub-expressions: \n",
       "4. B\n",
       "   core type: Variable\n",
       "   sub-expressions: \n",
       "5. i\n",
       "   core type: Variable\n",
       "   sub-expressions: "
      ]
     },
     "execution_count": 4,
     "metadata": {},
     "output_type": "execute_result"
    }
   ],
   "source": [
    "# display the expression information\n",
    "expr.exprInfo()"
   ]
  },
  {
   "cell_type": "code",
   "execution_count": null,
   "metadata": {},
   "outputs": [],
   "source": []
  }
 ],
 "metadata": {
  "kernelspec": {
   "display_name": "Python 3",
   "language": "python",
   "name": "python3"
  }
 },
 "nbformat": 4,
 "nbformat_minor": 0
}
