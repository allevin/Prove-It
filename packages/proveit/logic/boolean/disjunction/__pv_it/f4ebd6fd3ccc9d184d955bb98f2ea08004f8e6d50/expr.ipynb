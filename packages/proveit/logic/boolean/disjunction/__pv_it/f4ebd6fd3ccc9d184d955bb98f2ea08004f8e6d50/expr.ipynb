{
 "cells": [
  {
   "cell_type": "markdown",
   "metadata": {},
   "source": [
    "Expression of type <a class=\"ProveItLink\" href=\"../../../../../../../doc/html/api/proveit.logic.Set.html\">Set</a>\n",
    "=======================\n",
    "# from context <a class=\"ProveItLink\" href=\"../../_context_.ipynb\">proveit.logic.boolean.disjunction</a>"
   ]
  },
  {
   "cell_type": "code",
   "execution_count": 1,
   "metadata": {},
   "outputs": [],
   "source": [
    "# import Expression classes needed to build the expression\n",
    "from proveit._common_ import B, D\n",
    "from proveit.logic import Implies, Set"
   ]
  },
  {
   "cell_type": "code",
   "execution_count": 2,
   "metadata": {},
   "outputs": [
    {
     "data": {
      "text/html": [
       "<strong id=\"expr\">expr:</strong> <a class=\"ProveItLink\" href=\"expr.ipynb\"><img src=\"data:image/png;base64,iVBORw0KGgoAAAANSUhEUgAAAG8AAAAVBAMAAAC6Uq30AAAAMFBMVEX////c3NxERESqqqpUVFS6\n",
       "urrMzMwyMjIQEBCIiIh2dnYiIiLu7u5mZmaYmJgAAABXZE4RAAAAAXRSTlMAQObYZgAAAY5JREFU\n",
       "OMtjYGDgu8dAGmBbJQCieHYxkArYmkEk5wcgwef/xcWpFIuaKf9dXIoSoBy4qusgHlcDiORQYGC4\n",
       "H4BF53cGBubPMA5M1QqExvwJQOwAV34A7qpfQOI+jAtThaRxPtC/7xfANdbAGJxfoeoZkFUhadQA\n",
       "4h1wexhCYAwmUAjIw5wCU4Wk8QsDg7gOwmdcMDv4FRiQ/ABTBdbIWwDyypeZc/eB5Xh3g8FfJF/B\n",
       "/QBX9R5EZIDCkvMjA8NpB6TAZIbGzXxQVPhDgxuuiv0CA0NKG9grQPdy/kOOhuOtYEofRHTAPAxX\n",
       "pf6AgSECZCY/0By+X8iJowoSUp9A8Q4zEa6KG+R2FpAf84EmsHxG8uMmiD62n9Boh3gYpgrsR64N\n",
       "0AiSL0DyItS/nN9A7joATRFwVYjoAEYQWzsiGhnEkaIxHRgSPL8ZkFXBNV4CJuXyB0heVIRQZ/WB\n",
       "qfoaKAv1CyCrQkoAaCABXYBVAJmHWyMG4GPA0MhHhkZwfuTZSYzGCSglACRx8C0mp8wBAFfNgh3V\n",
       "D5plAAAAAElFTkSuQmCC\n",
       "\" style=\"display:inline;vertical-align:middle;\" /></a><br>"
      ],
      "text/plain": [
       "expr: {B => D , B}"
      ]
     },
     "execution_count": 2,
     "metadata": {},
     "output_type": "execute_result"
    }
   ],
   "source": [
    "# build up the expression from sub-expressions\n",
    "expr = Set(Implies(B, D), B)"
   ]
  },
  {
   "cell_type": "code",
   "execution_count": 3,
   "metadata": {},
   "outputs": [
    {
     "name": "stdout",
     "output_type": "stream",
     "text": [
      "Passed sanity check: built 'expr' is the same as the stored Expression.\n"
     ]
    }
   ],
   "source": [
    "# check that the built expression is the same as the stored expression\n",
    "%check_expr"
   ]
  },
  {
   "cell_type": "code",
   "execution_count": 4,
   "metadata": {},
   "outputs": [
    {
     "data": {
      "text/html": [
       "<table><tr><th>&nbsp;</th><th>core type</th><th>sub-expressions</th><th>expression</th></tr>\n",
       "<tr><td>0</td><td>Operation</td><td>operator:&nbsp;1<br>operands:&nbsp;2<br></td><td><a class=\"ProveItLink\" href=\"expr.ipynb\"><img src=\"data:image/png;base64,iVBORw0KGgoAAAANSUhEUgAAAG8AAAAVBAMAAAC6Uq30AAAAMFBMVEX////c3NxERESqqqpUVFS6\n",
       "urrMzMwyMjIQEBCIiIh2dnYiIiLu7u5mZmaYmJgAAABXZE4RAAAAAXRSTlMAQObYZgAAAY5JREFU\n",
       "OMtjYGDgu8dAGmBbJQCieHYxkArYmkEk5wcgwef/xcWpFIuaKf9dXIoSoBy4qusgHlcDiORQYGC4\n",
       "H4BF53cGBubPMA5M1QqExvwJQOwAV34A7qpfQOI+jAtThaRxPtC/7xfANdbAGJxfoeoZkFUhadQA\n",
       "4h1wexhCYAwmUAjIw5wCU4Wk8QsDg7gOwmdcMDv4FRiQ/ABTBdbIWwDyypeZc/eB5Xh3g8FfJF/B\n",
       "/QBX9R5EZIDCkvMjA8NpB6TAZIbGzXxQVPhDgxuuiv0CA0NKG9grQPdy/kOOhuOtYEofRHTAPAxX\n",
       "pf6AgSECZCY/0By+X8iJowoSUp9A8Q4zEa6KG+R2FpAf84EmsHxG8uMmiD62n9Boh3gYpgrsR64N\n",
       "0AiSL0DyItS/nN9A7joATRFwVYjoAEYQWzsiGhnEkaIxHRgSPL8ZkFXBNV4CJuXyB0heVIRQZ/WB\n",
       "qfoaKAv1CyCrQkoAaCABXYBVAJmHWyMG4GPA0MhHhkZwfuTZSYzGCSglACRx8C0mp8wBAFfNgh3V\n",
       "D5plAAAAAElFTkSuQmCC\n",
       "\" style=\"display:inline;vertical-align:middle;\" /></a></td></tr>\n",
       "<tr><td>1</td><td>Literal</td><td></td><td><a class=\"ProveItLink\" href=\"../../../../set_theory/enumeration/__pv_it/07381ed5b23806e8d7914b78cb6667769e3708dd0/expr.ipynb\"><img src=\"data:image/png;base64,iVBORw0KGgoAAAANSUhEUgAAAB4AAAAOBAMAAADKyLEKAAAAMFBMVEX///8iIiIQEBCIiIjMzMzc\n",
       "3Nyqqqp2dnZEREQyMjK6urru7u5mZmZUVFSYmJgAAACI6eGPAAAAAXRSTlMAQObYZgAAALRJREFU\n",
       "CNdjYGDgu3Nm3wIGBJjHwN0PZW5yYGDgLWBgyITy8zcwMMQDxZyh/INAvD6BgcEFypcB4vjPDiBm\n",
       "TPFRrhs/LjMwMP//38rAwCbKEMPA9gEkE3fp0waG+AUMRxh4JkC01T9guPTOOICBEWgVH5C//wHD\n",
       "H5D4fqCz9oCMDGD4DLaegRXslLMMDMpAgxlOMmQxHDRgYG5gYLBk4D7KcIe7gOHC2rt9QCXsh40Z\n",
       "GCKMGQDRkC8N/Ph1XAAAAABJRU5ErkJggg==\n",
       "\" style=\"display:inline;vertical-align:middle;\" /></a></td></tr>\n",
       "<tr><td>2</td><td>ExprTuple</td><td>3, 6</td><td><a class=\"ProveItLink\" href=\"../fb49ff493d93aaf6dc2487716ef1e76351f868320/expr.ipynb\"><img src=\"data:image/png;base64,iVBORw0KGgoAAAANSUhEUgAAAGkAAAAVBAMAAAC3TN2zAAAAMFBMVEX////c3NwiIiJERESqqqqY\n",
       "mJh2dnZmZmYQEBDu7u4yMjJUVFTMzMyIiIi6uroAAAAs73DqAAAAAXRSTlMAQObYZgAAAZhJREFU\n",
       "OMtjYCAP8F0gUUMciDgNxNH/d++2eoCpgHf/7927bGA8qCr2A0D2SpBAMwMD+z8s5vIvYGDwd4Dx\n",
       "oKqAYrwgB/L8BeLfcLWccNb5BKDCn1AOTFUYAwPHBJBLPjIwsH6Dq+WaAGPdfwBRDHEvVNUMBoZX\n",
       "ID5zAwMDUycigDbAWPZAzAhzBEwVswNDGdj5GxgYF09AeCcXxvjMgOR0mCq2AoalYOfvvVsUAJYp\n",
       "UgIB/QKETxBOh6liWcDQB3a+AAOnNnLYeUGigfcPkOCGBS5MFV8DA1jIAiQWgKSLcwVYG/MHIMHR\n",
       "ABWEqeL5ANEFcnl8ApKuU5kQnxiAJGDGwVQBdbWAnP8VSOx3QPhLyRLqkwuQuIV4EqYK6EJTaEQw\n",
       "/kKyyhvmE2DiYV4JjXa4KtYFDOnQiDixEqGJcQEiuniWA+n5CsiqgCH/CJhk7IFpdCmSVcwCkCAp\n",
       "BiZXc1BanfERWRXXAwYOAcw0y4Mh8hCZA0xRrAnE5CnkWAGnnJWk6uIE+VqaCE28yBxukJ8YSS0B\n",
       "7jAwAABg+30fOwCP0wAAAABJRU5ErkJggg==\n",
       "\" style=\"display:inline;vertical-align:middle;\" /></a></td></tr>\n",
       "<tr><td>3</td><td>Operation</td><td>operator:&nbsp;4<br>operands:&nbsp;5<br></td><td><a class=\"ProveItLink\" href=\"../cb2bfae6c9dcdf3d440ea7ef9c05a295e8b26aef0/expr.ipynb\"><img src=\"data:image/png;base64,iVBORw0KGgoAAAANSUhEUgAAAEIAAAAPBAMAAACivARpAAAAMFBMVEX///+qqqru7u4iIiJ2dnbc\n",
       "3NyIiIjMzMxmZmYQEBC6uroyMjJERERUVFSYmJgAAADLUcuvAAAAAXRSTlMAQObYZgAAAPtJREFU\n",
       "GNNjYGB4+//u3dMLGDAA2/2/d28fBzPnMDBw/MJUwcC/gYFBXgDIYP8GxH/h4kxwVr0DUOsnkGlf\n",
       "GRj4vsDFuRVgrPwFEO0MPBMYGJgnwVVwXYCxzgMxK8hw/gsMrHsUENa7wRh/GKDW119La34AFmo2\n",
       "BgH7BogCsAVg6/MDGJhskf0gDfE623cgwQvy5EmQqgdIKph2gpXwfAASnEBHMoBseu+ApKLaCRIc\n",
       "B0ASQK3s/4CM+wIIdxgfggZHAiQ0wcHB+hvJCFlYcBQAbdoEDY7KTQgFrBsQwcG+A0hznAfGzz4k\n",
       "I3gCIM7tAUboiQIs0cXAjsYHAJLoSEwUTuWpAAAAAElFTkSuQmCC\n",
       "\" style=\"display:inline;vertical-align:middle;\" /></a></td></tr>\n",
       "<tr><td>4</td><td>Literal</td><td></td><td><a class=\"ProveItLink\" href=\"../../../implication/__pv_it/e5c030cabcb650938f92dee8256fe11cd12bf9b30/expr.ipynb\"><img src=\"data:image/png;base64,iVBORw0KGgoAAAANSUhEUgAAABMAAAANBAMAAAC5okgUAAAALVBMVEX////c3NxERETMzMwQEBCq\n",
       "qqoiIiJmZmaIiIh2dnZUVFS6uroyMjLu7u4AAACPpZJTAAAAAXRSTlMAQObYZgAAAD1JREFUCNdj\n",
       "YAABXgY44LkAZ3IvQAjPABFlaSCQV4AQjtkAZ/IegbNt5sLUpunC5aPgLMYDcCaTAJzJDCIA2yMN\n",
       "HCCUuIIAAAAASUVORK5CYII=\n",
       "\" style=\"display:inline;vertical-align:middle;\" /></a></td></tr>\n",
       "<tr><td>5</td><td>ExprTuple</td><td>6, 7</td><td><a class=\"ProveItLink\" href=\"../21c787a25bf4fb0e8ff5da7bdca985f655eb53d30/expr.ipynb\"><img src=\"data:image/png;base64,iVBORw0KGgoAAAANSUhEUgAAADgAAAAVBAMAAADhmjDFAAAAMFBMVEX////c3NwiIiJERESqqqqY\n",
       "mJh2dnZmZmYQEBDu7u4yMjJUVFTMzMyIiIi6uroAAAAs73DqAAAAAXRSTlMAQObYZgAAAUNJREFU\n",
       "KM99UitMA0EQfUc5uCNdWo8Aj0FAQmqKRlWD4Fxtg0A1oQkIMOQcBINoEBhSguNCWklA3HnStKAa\n",
       "FASo4Pi92e6FIylsMpN583Zn580u8O+ajIbn7S7dDW31KwgKXZO9Jai3gCrjE0lsAeOfyZk3YPQF\n",
       "mACUVM1+0GLDZft0mz5sD47PUD3xjr4hlZQII7g1PAjO1ICRXUNmHummG8A8NgTnGrDqviFzc3KS\n",
       "ZBnHgsPL9nop6SeULtY8YBl7gjt5uLMJ2aEMNCmsBy1gUXLJ0aK4HSkxIGNTSK9nGc+rJrdFmYTN\n",
       "JSOTmuFIUz0sGJkW5+Jqme90BWl9hf0OZF5xjEczRuZ1RbaVcc+pFuPgQiQdsMI+wXlVX3AKJ596\n",
       "prv0m3F8tpfCpTQ5FpknG0Ye0qZ+oPr1Fc5o1h/fRLXwDZrGWTuDNkKVAAAAAElFTkSuQmCC\n",
       "\" style=\"display:inline;vertical-align:middle;\" /></a></td></tr>\n",
       "<tr><td>6</td><td>Variable</td><td></td><td><a class=\"ProveItLink\" href=\"../../../../../__pv_it/077b2ff79244fb4582cbe22c6e3356fa92a52f2f0/expr.ipynb\"><img src=\"data:image/png;base64,iVBORw0KGgoAAAANSUhEUgAAABAAAAAOBAMAAADUAYG5AAAAMFBMVEX///+qqqru7u4iIiJ2dnbc\n",
       "3NyIiIjMzMxmZmYQEBC6uroyMjJERERUVFSYmJgAAADLUcuvAAAAAXRSTlMAQObYZgAAAGpJREFU\n",
       "CNdjYGB4+//u3dMLGIBgDgMDxy8gzf4NiP8CGWxfGRj4vgAZPBMYGJgnARn8FxhY9ygAGfXX0pof\n",
       "gDTlBzAw2YIYJ0EckBBI53sHoBH/gIz7AhBjWH9DjancBLTl/N+7t/cxMAAA3u4f/5xagjYAAAAA\n",
       "SUVORK5CYII=\n",
       "\" style=\"display:inline;vertical-align:middle;\" /></a></td></tr>\n",
       "<tr><td>7</td><td>Variable</td><td></td><td><a class=\"ProveItLink\" href=\"../../../../../__pv_it/185e6d30f167ee2ee5ef3321098dc98e0d77bc590/expr.ipynb\"><img src=\"data:image/png;base64,iVBORw0KGgoAAAANSUhEUgAAABEAAAAOBAMAAAA7w+qHAAAALVBMVEX///8QEBCYmJjc3Ny6urru\n",
       "7u5mZmZ2dnaqqqrMzMxEREQyMjJUVFSIiIgAAABETr/8AAAAAXRSTlMAQObYZgAAAGpJREFUCNdj\n",
       "YGC48+7MmV0TGEDgNQMDxwsQg/M5kMgLABK8T4DEvAtAgusBkLA7ACT4FoDEDsAk9AqAxD2QCecc\n",
       "gMQ6kAGCIOIVEDM9Ahn3FkgwgnTxvgQSqwOgxs1OADLC1r05cyoTyAAAv4Qe+njAWvgAAAAASUVO\n",
       "RK5CYII=\n",
       "\" style=\"display:inline;vertical-align:middle;\" /></a></td></tr>\n",
       "</table>\n"
      ],
      "text/plain": [
       "0. {B => D , B}\n",
       "   core type: Operation\n",
       "   operator: 1\n",
       "   operands: 2\n",
       "1. Set\n",
       "   core type: Literal\n",
       "   sub-expressions: \n",
       "2. (B => D , B)\n",
       "   core type: ExprTuple\n",
       "   sub-expressions: 3, 6\n",
       "3. B => D\n",
       "   core type: Operation\n",
       "   operator: 4\n",
       "   operands: 5\n",
       "4. =>\n",
       "   core type: Literal\n",
       "   sub-expressions: \n",
       "5. (B , D)\n",
       "   core type: ExprTuple\n",
       "   sub-expressions: 6, 7\n",
       "6. B\n",
       "   core type: Variable\n",
       "   sub-expressions: \n",
       "7. D\n",
       "   core type: Variable\n",
       "   sub-expressions: "
      ]
     },
     "execution_count": 4,
     "metadata": {},
     "output_type": "execute_result"
    }
   ],
   "source": [
    "# display the expression information\n",
    "expr.exprInfo()"
   ]
  },
  {
   "cell_type": "code",
   "execution_count": null,
   "metadata": {},
   "outputs": [],
   "source": []
  }
 ],
 "metadata": {
  "kernelspec": {
   "display_name": "Python 3",
   "language": "python",
   "name": "python3"
  }
 },
 "nbformat": 4,
 "nbformat_minor": 0
}
