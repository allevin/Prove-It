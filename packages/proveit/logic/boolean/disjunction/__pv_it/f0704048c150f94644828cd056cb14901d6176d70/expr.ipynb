{
 "cells": [
  {
   "cell_type": "markdown",
   "metadata": {},
   "source": [
    "Expression of type <a class=\"ProveItLink\" href=\"../../../../../../../doc/html/api/proveit.ExprTuple.html\">ExprTuple</a>\n",
    "=======================\n",
    "# from context <a class=\"ProveItLink\" href=\"../../_context_.ipynb\">proveit.logic.boolean.disjunction</a>"
   ]
  },
  {
   "cell_type": "code",
   "execution_count": 1,
   "metadata": {},
   "outputs": [],
   "source": [
    "# import Expression classes needed to build the expression\n",
    "from proveit import ExprTuple\n",
    "from proveit._common_ import S, e\n",
    "from proveit.logic import InSet"
   ]
  },
  {
   "cell_type": "code",
   "execution_count": 2,
   "metadata": {},
   "outputs": [
    {
     "data": {
      "text/html": [
       "<strong id=\"expr\">expr:</strong> <a class=\"ProveItLink\" href=\"expr.ipynb\"><img src=\"data:image/png;base64,iVBORw0KGgoAAAANSUhEUgAAAD0AAAAVBAMAAAAHs/uBAAAAMFBMVEX////c3NwiIiJERESqqqqY\n",
       "mJh2dnZmZmYQEBDu7u4yMjJUVFTMzMyIiIi6uroAAAAs73DqAAAAAXRSTlMAQObYZgAAATFJREFU\n",
       "KM9jYCAE+C7glIoDEaexSrFuL5/6gP0AkLUSq/xSBk57BoYFDAy8WI3nTmBg8GJgCGNg4JiAJDx3\n",
       "kZIWmCEPNPksA8MMBoZXSNI8S2GK3zswMJxhYGB2YCgD8hjLrguARIXhZsn/BTmNga0A6BAGBicB\n",
       "xgIQ1xBuEu///yAOywKGPqD2fwxgn3AaIKwS3fEDaBhfA8M/oGNbYy+CQ6pJSQnqPiDIDwA66ANI\n",
       "nr8A6rwN8NAB4vkQ+RagPDQIOBVg8tNBThQAm28KDAKgPFjJVpg8MGgYqkHmLGBIBzp2AcN0sP8m\n",
       "PYDKF11g4DWA+O8RkEq/C7GBcfkBiPyG17tNQTTXAwYOAaQAZNmFcD8IAMOXNQFP2sjFGb8QDwHj\n",
       "l0Eatzw3yG5G3OnrDgMDAE/cRGkRTKgTAAAAAElFTkSuQmCC\n",
       "\" style=\"display:inline;vertical-align:middle;\" /></a><br>"
      ],
      "text/plain": [
       "expr: (e in S)"
      ]
     },
     "execution_count": 2,
     "metadata": {},
     "output_type": "execute_result"
    }
   ],
   "source": [
    "# build up the expression from sub-expressions\n",
    "expr = ExprTuple(InSet(e, S))"
   ]
  },
  {
   "cell_type": "code",
   "execution_count": 3,
   "metadata": {},
   "outputs": [
    {
     "name": "stdout",
     "output_type": "stream",
     "text": [
      "Passed sanity check: built 'expr' is the same as the stored Expression.\n"
     ]
    }
   ],
   "source": [
    "# check that the built expression is the same as the stored expression\n",
    "%check_expr"
   ]
  },
  {
   "cell_type": "code",
   "execution_count": 4,
   "metadata": {},
   "outputs": [
    {
     "data": {
      "text/html": [
       "<table><tr><th>&nbsp;</th><th>core type</th><th>sub-expressions</th><th>expression</th></tr>\n",
       "<tr><td>0</td><td>ExprTuple</td><td>1</td><td><a class=\"ProveItLink\" href=\"expr.ipynb\"><img src=\"data:image/png;base64,iVBORw0KGgoAAAANSUhEUgAAAD0AAAAVBAMAAAAHs/uBAAAAMFBMVEX////c3NwiIiJERESqqqqY\n",
       "mJh2dnZmZmYQEBDu7u4yMjJUVFTMzMyIiIi6uroAAAAs73DqAAAAAXRSTlMAQObYZgAAATFJREFU\n",
       "KM9jYCAE+C7glIoDEaexSrFuL5/6gP0AkLUSq/xSBk57BoYFDAy8WI3nTmBg8GJgCGNg4JiAJDx3\n",
       "kZIWmCEPNPksA8MMBoZXSNI8S2GK3zswMJxhYGB2YCgD8hjLrguARIXhZsn/BTmNga0A6BAGBicB\n",
       "xgIQ1xBuEu///yAOywKGPqD2fwxgn3AaIKwS3fEDaBhfA8M/oGNbYy+CQ6pJSQnqPiDIDwA66ANI\n",
       "nr8A6rwN8NAB4vkQ+RagPDQIOBVg8tNBThQAm28KDAKgPFjJVpg8MGgYqkHmLGBIBzp2AcN0sP8m\n",
       "PYDKF11g4DWA+O8RkEq/C7GBcfkBiPyG17tNQTTXAwYOAaQAZNmFcD8IAMOXNQFP2sjFGb8QDwHj\n",
       "l0Eatzw3yG5G3OnrDgMDAE/cRGkRTKgTAAAAAElFTkSuQmCC\n",
       "\" style=\"display:inline;vertical-align:middle;\" /></a></td></tr>\n",
       "<tr><td>1</td><td>Operation</td><td>operator:&nbsp;2<br>operands:&nbsp;3<br></td><td><a class=\"ProveItLink\" href=\"../10229d97c3673d6bf7674a71c92851e2fdb6f8660/expr.ipynb\"><img src=\"data:image/png;base64,iVBORw0KGgoAAAANSUhEUgAAADEAAAAPBAMAAAC/wjryAAAAMFBMVEX///9ERETu7u4yMjKYmJgQ\n",
       "EBBUVFTMzMy6uroiIiKqqqqIiIh2dnZmZmbc3NwAAAD5WabrAAAAAXRSTlMAQObYZgAAAMNJREFU\n",
       "GNNjYMACWHLvqjRgk2AwYWCSxyrBdoCBYTGygLblzMlgxvsCBoZqJAl2EwUoq38BA0M5kOa7s/cB\n",
       "iP8QJsHw/ncBmF75gO8CiJaD6+b+/x/E4fvBwAtSwiSAMPhJ6legAWwh3vtAPI7ImTOhLgCC8w4M\n",
       "DPwXoA5IgPsTiPVBMhsgfKYJMBldkCOAjmIFyoAlU2AyIE9eAznEgEEX7GpNWEjd3MDADXbO2d0Q\n",
       "8/hsIb5gSGhLE0ENLq5khNuAAACDjy6XKtkzEAAAAABJRU5ErkJggg==\n",
       "\" style=\"display:inline;vertical-align:middle;\" /></a></td></tr>\n",
       "<tr><td>2</td><td>Literal</td><td></td><td><a class=\"ProveItLink\" href=\"../../../../set_theory/membership/__pv_it/088cbc857536a28d4119ad9639a84270ccb0545d0/expr.ipynb\"><img src=\"data:image/png;base64,iVBORw0KGgoAAAANSUhEUgAAAAwAAAAMBAMAAACkW0HUAAAALVBMVEX///+qqqpmZmZUVFQQEBC6\n",
       "urpERETc3NyYmJjMzMwiIiIyMjKIiIju7u4AAACYsrA9AAAAAXRSTlMAQObYZgAAADxJREFUCNdj\n",
       "YOA9vWrVBgaG2b0MQMCeCyIZ2ArA1DUwyRCyahVIyWQI7xaEYm4AU7xLIdxqTQgtvGvVBgCkcQ7e\n",
       "geM/tQAAAABJRU5ErkJggg==\n",
       "\" style=\"display:inline;vertical-align:middle;\" /></a></td></tr>\n",
       "<tr><td>3</td><td>ExprTuple</td><td>4, 5</td><td><a class=\"ProveItLink\" href=\"../071e8117c9f5ac90ced7dbc8a82937a02822036c0/expr.ipynb\"><img src=\"data:image/png;base64,iVBORw0KGgoAAAANSUhEUgAAAC0AAAAVBAMAAAAgHXppAAAAMFBMVEX////c3NwiIiJERESqqqqY\n",
       "mJh2dnZmZmYQEBDu7u4yMjJUVFTMzMyIiIi6uroAAAAs73DqAAAAAXRSTlMAQObYZgAAAQ5JREFU\n",
       "GNNjYMAF+C5gCMWBiNMoQqzby6c+YD8AZK1EEV/KwGnPwLCAgYEXxRjuBAYGLwaGMAYGjgnI4vJA\n",
       "E84yMMxgYHiFYsx7BwaGMwwMzA4MZUAeY9l1Aaj6vyArGdgKgBYxMDgJMBZAxHn//zcEUiwLGPqA\n",
       "yv8xgF0GAqI7fgAt5Gtg+Ad0RGvsRYQV+QEMDDwfQOL8BXBfAfF8iHgLUBzuhekgqwXA5pgCvQAU\n",
       "v8AA8gfQSwzVIH0LGNKBjljAMF2A8xOQX3SBgdcA4s5HQCr97gUGzn6g/g2vd5uCzON6wMAhAAtv\n",
       "AYSbgOHAmoDkFhjIRQpnJHFOYDgzSEM5SOHNDTKSETMe7zAwAABi0z0dJsPpWAAAAABJRU5ErkJg\n",
       "gg==\n",
       "\" style=\"display:inline;vertical-align:middle;\" /></a></td></tr>\n",
       "<tr><td>4</td><td>Variable</td><td></td><td><a class=\"ProveItLink\" href=\"../../../../../__pv_it/0bc0f4a545336331111a0b22c4f05a0627b57b8f0/expr.ipynb\"><img src=\"data:image/png;base64,iVBORw0KGgoAAAANSUhEUgAAAAkAAAAJBAMAAAASvxsjAAAALVBMVEX////u7u4yMjKYmJgQEBBU\n",
       "VFTMzMy6uroiIiKqqqqIiIh2dnZmZmbc3NwAAAAyj3LLAAAAAXRSTlMAQObYZgAAADlJREFUCNdj\n",
       "YOA9veYCA8OMC7wHGHifM/AkMLA6W61lYOA7wAAEfAtAJAuQXMDApcAgA1S5Z9UCBgB6Cgz1W65k\n",
       "FgAAAABJRU5ErkJggg==\n",
       "\" style=\"display:inline;vertical-align:middle;\" /></a></td></tr>\n",
       "<tr><td>5</td><td>Variable</td><td></td><td><a class=\"ProveItLink\" href=\"../../../../../__pv_it/abeee18594afe51bfb1be95d9591fbba24ac53f30/expr.ipynb\"><img src=\"data:image/png;base64,iVBORw0KGgoAAAANSUhEUgAAAA0AAAAOBAMAAAAGUYvhAAAAMFBMVEX///8iIiIQEBCIiIjMzMzc\n",
       "3Nyqqqp2dnZEREQyMjK6urru7u5mZmZUVFSYmJgAAACI6eGPAAAAAXRSTlMAQObYZgAAAF1JREFU\n",
       "CNdjYGDgu3Nm3wIGBoZ5DNz9QIq3gIEhE0jHOzAwOAPp9QkMDC4g/megABAw///fCmbEXfq0Acxg\n",
       "qH8ANAVI7wfSe0BKAyBGnAXigwYMzA1A+sLau31ACgAz0hhbkhGHbwAAAABJRU5ErkJggg==\n",
       "\" style=\"display:inline;vertical-align:middle;\" /></a></td></tr>\n",
       "</table>\n"
      ],
      "text/plain": [
       "0. (e in S)\n",
       "   core type: ExprTuple\n",
       "   sub-expressions: 1\n",
       "1. e in S\n",
       "   core type: Operation\n",
       "   operator: 2\n",
       "   operands: 3\n",
       "2. in\n",
       "   core type: Literal\n",
       "   sub-expressions: \n",
       "3. (e , S)\n",
       "   core type: ExprTuple\n",
       "   sub-expressions: 4, 5\n",
       "4. e\n",
       "   core type: Variable\n",
       "   sub-expressions: \n",
       "5. S\n",
       "   core type: Variable\n",
       "   sub-expressions: "
      ]
     },
     "execution_count": 4,
     "metadata": {},
     "output_type": "execute_result"
    }
   ],
   "source": [
    "# display the expression information\n",
    "expr.exprInfo()"
   ]
  },
  {
   "cell_type": "code",
   "execution_count": null,
   "metadata": {},
   "outputs": [],
   "source": []
  }
 ],
 "metadata": {
  "kernelspec": {
   "display_name": "Python 3",
   "language": "python",
   "name": "python3"
  }
 },
 "nbformat": 4,
 "nbformat_minor": 0
}
