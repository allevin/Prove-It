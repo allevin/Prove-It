{
 "cells": [
  {
   "cell_type": "markdown",
   "metadata": {},
   "source": [
    "Show the Proof\n",
    "========"
   ]
  },
  {
   "cell_type": "code",
   "execution_count": 1,
   "metadata": {},
   "outputs": [
    {
     "data": {
      "text/html": [
       "<table><tr><th>&nbsp;</th><th>step type</th><th>requirements</th><th>statement</th></tr>\n",
       "<tr><td>0</td><td>assumption</td><td></td><td><span style=\"font-size:20px;\"><a class=\"ProveItLink\" href=\"../555deab1dc27e6eb498185ed301d99f8ca688b7b0/expr.ipynb\"><img src=\"data:image/png;base64,iVBORw0KGgoAAAANSUhEUgAAAKkAAAAVBAMAAADP89MSAAAAMFBMVEX////c3NxERESqqqpUVFS6\n",
       "urrMzMwyMjIQEBCIiIh2dnYiIiLu7u5mZmaYmJgAAABXZE4RAAAAAXRSTlMAQObYZgAAAqFJREFU\n",
       "OMutVU1oE0EUfombTbK72YYqeBIjChUqNnjQk1phIXjQ5malCHvooaDYRhCENmnw72KpRfDQUwse\n",
       "lIJSRBAN2L1IES+RgoKizUHwJDHSUpWiznuT2Z3ZGCXgwL7d/ebNt2++994sANgf4D8OfSGNN+sp\n",
       "2thMh6vtfDvaK2iTX9AOc+hsyOXjL8fpCa9/sed9bQe8DqF3v05eephlD2/wzSijneBTkxQ3Pbpk\n",
       "LwOk1lXMmAY4Mw3xcJCZ09bEArvf81mTXAB7yWNWc31E/86uNQWzxpmP0QB7voUVbscV1oRHE1tX\n",
       "UWo9w4xJSLLBPvVDweJTGHoZrHJTj/HKY8F6RPNk1lPcY2aONCyw6zABUTZpTinYKmoXqQLs5skp\n",
       "eVKs3UqsbwmPeUdr0FxdIKSrHyIXPBmLbFDhMEHuk0e3FyigP9snWFNjzJQIfw6jpCbbKe0YYPT4\n",
       "7Dv6kI+lfgqWQ2R3BboOLX3D5XV8GcFNXyM8DzurwLOi8XKaS4P1CGTMbAiWQQo6I2dr9gAKzziG\n",
       "ryOyThI5zgB3WoRl7rkXmWsy1kXlbeE+SLQblUqQrWgMC6OHLRh0BSurycQYOazAA86KRVWfl7EE\n",
       "sR4UrHq/HGsUWFQm+mtIRF3GkmvyctnOIqM1KOJAVsa0TbRVX4HFFlbS1UB8P2aXrY5TJKCd512B\n",
       "5cqT7mPYF2Bg4j8RfFJhRQWCysIqQdmimzzGXs8v15FmMwusnoXYKwBRWS/zEuvnW0q9DrHCu1kA\n",
       "u2+DigCKZFN9a06uJFYVm+y5Eyv0cJFspOj6p0vv1azasWm1p8/94YgLYaJjt+SaNSBGwNpyVPx7\n",
       "GO1OZGK15ZOwg7HcboLOV+sJ2m0dsx5r9y/gfWrfQdE7/cMk3b/8t34DWRuwfJCddk0AAAAASUVO\n",
       "RK5CYII=\n",
       "\" style=\"display:inline;vertical-align:middle;\" /></a> <a class=\"ProveItLink\" href=\"proof.ipynb\" style=\"text-decoration: none\">&#x22A2;&nbsp;</a><a class=\"ProveItLink\" href=\"../37e5900eb583d6e5ff52f2f67f9765e32878aa7e0/expr.ipynb\"><img src=\"data:image/png;base64,iVBORw0KGgoAAAANSUhEUgAAAJMAAAAVBAMAAACwIsHjAAAAMFBMVEX////c3NwiIiJERESqqqqY\n",
       "mJh2dnZmZmYQEBDu7u4yMjJUVFTMzMyIiIi6uroAAAAs73DqAAAAAXRSTlMAQObYZgAAAkpJREFU\n",
       "OMutVE1oE1EQ/jYxP5tN0kAFQQ+WiBc9NBYFrYcGRAQRzE3QQ3NRwVOUopdCi9pDEXTpsaA0LSHm\n",
       "YutBhCzSIAiKhxY814ZeFEEwiGJbrM7M293srs1hwYWdfe+bmW/n7z3gPz7Z1ZAOsXYvzXv1eR2A\n",
       "r/yxrOGg0+PTd0r7MB5Ab3xffHqoSIuG2i9KhLJsibwHJHb8WHwK+DSFVDCawle9cQ3IqPxigyZJ\n",
       "gz0Ukv5N77YP0+fJJt5BrPwPFT4Sf9KU3d6JHPsXSEQEyXSI/6cPS01zkJPQJ+105/NHHKqzhokv\n",
       "Cl5dl7pU6T0nQJTsI9M+bILroVWA42KRrpmeqPqB26qN5sUSbJeqIH1L0BZML6Zt8U6nfK+LRb/Z\n",
       "TTB9+BRQk80TrEiFKBFJCFh5tXZL2F0s8cNxPS/yWLdWG4O/yP2hbNo4WIEqr6EmYD0H/Si8WKTj\n",
       "uH6W8Aresq+dAXYkbctaVpoBzCr1SaYrebG+b8LAEUtN7ubz3bJHs2VFRbOTnBN0DFcVFc/BaNmL\n",
       "JYXqgkOVXvJGFUUB93lNrYmoDu+nGMSQC7Nc9GLGJsuKm+BAkOoE94ZcUvJPGG/UyPJYqZa5GA8t\n",
       "4ty2ywK/8FFRgtxYLkV0U0UzZLpj9dY+Uw42WkT2Ji/UMMy0PVSXPgAbNCCPqoiNbEkLUReZGNm2\n",
       "mjXHtG5TNl+OyeKZSK3eco/z0ANKLJnzn6d3u1weAcw5OHuadged26cc+oaL97rhGqGpZnspDoSm\n",
       "et5LoYW9kDOt3fG/Wmqf0ubmvsQAAAAASUVORK5CYII=\n",
       "\" style=\"display:inline;vertical-align:middle;\" /></a></span></td></tr>\n",
       "</table>"
      ],
      "text/plain": [
       "<proveit._core_.proof._ShowProof at 0x7f94eaa0c390>"
      ]
     },
     "execution_count": 1,
     "metadata": {},
     "output_type": "execute_result"
    }
   ],
   "source": [
    "import proveit\n",
    "%show_proof"
   ]
  },
  {
   "cell_type": "code",
   "execution_count": null,
   "metadata": {},
   "outputs": [],
   "source": []
  }
 ],
 "metadata": {
  "kernelspec": {
   "display_name": "Python 3",
   "language": "python",
   "name": "python3"
  }
 },
 "nbformat": 4,
 "nbformat_minor": 0
}
