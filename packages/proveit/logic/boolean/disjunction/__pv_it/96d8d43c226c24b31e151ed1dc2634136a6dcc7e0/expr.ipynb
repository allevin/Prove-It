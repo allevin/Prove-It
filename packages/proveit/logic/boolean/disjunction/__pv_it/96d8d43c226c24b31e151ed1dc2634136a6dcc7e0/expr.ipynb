{
 "cells": [
  {
   "cell_type": "markdown",
   "metadata": {},
   "source": [
    "Expression of type <a class=\"ProveItLink\" href=\"../../../../../../../doc/html/api/proveit.logic.Not.html\">Not</a>\n",
    "=======================\n",
    "# from context <a class=\"ProveItLink\" href=\"../../_context_.ipynb\">proveit.logic.boolean.disjunction</a>"
   ]
  },
  {
   "cell_type": "code",
   "execution_count": 1,
   "metadata": {},
   "outputs": [],
   "source": [
    "# import Expression classes needed to build the expression\n",
    "from proveit._common_ import B\n",
    "from proveit.logic import And, Not\n",
    "from proveit.logic.boolean.negation._theorems_ import notFalse"
   ]
  },
  {
   "cell_type": "code",
   "execution_count": 2,
   "metadata": {},
   "outputs": [
    {
     "data": {
      "text/html": [
       "<strong id=\"expr\">expr:</strong> <a class=\"ProveItLink\" href=\"expr.ipynb\"><img src=\"data:image/png;base64,iVBORw0KGgoAAAANSUhEUgAAAJIAAAAVBAMAAABf4KrdAAAAMFBMVEX////c3NxERESqqqqYmJgQ\n",
       "EBDu7u4yMjKIiIi6urpUVFTMzMx2dnYiIiJmZmYAAABjE816AAAAAXRSTlMAQObYZgAAAbBJREFU\n",
       "OMu1lL1LA0EQxec05hLy4dVWQhRL7dKmi9goCoKFkM42iATSpUyXNMFKiJUaC0PAxib5C4JVCvEg\n",
       "vaYQBE0QdHd2Nns7d4KND97c7vLblws3uwD/oGRN2VKsGYWFEBt7IGs5uOWFJwWQne9OZ6OJiIVV\n",
       "yFqpsayuzi0FMK19gOwUETewmqgps6TYQM3cscHmxKfwDBGNSS2VlFlSfE/NeiODzX/8TUR8IaIx\n",
       "qXMyS4Kcmt3UDaa1ILZnDhWSM8uvZJ40xBovZwymtdwG57SkkKFZPiPzpDzWdCG7Nce0+tf1SYGQ\n",
       "PEx8oWcxPFLOyrk/MEktrBlwyjgIIg0P4k+EtEyPTMn4Om2T1Me6DXCLgyCyLp6NgkL6f00a6ZYM\n",
       "IjPx3B2Ekg7IPAlfe1GMXQ9sJPUunndboX+3RuZJRexLT6VZiGwn54OQIi0D+5Rd1gU9WR7BRmQ7\n",
       "3Vcg1AUXZCX5fY59fxWgin0pSx1sZHPWucKmqJL1afGUmdQxwEsjqbEIJHha+Dkkpdl19AtiYfxW\n",
       "UTrhC9GIha2QbV3yhWjEwuQd6fCrNdHl+yIR4R/dU5GYGJ06pAAAAABJRU5ErkJggg==\n",
       "\" style=\"display:inline;vertical-align:middle;\" /></a><br>"
      ],
      "text/plain": [
       "expr: [not]([not](FALSE) and [not](B))"
      ]
     },
     "execution_count": 2,
     "metadata": {},
     "output_type": "execute_result"
    }
   ],
   "source": [
    "# build up the expression from sub-expressions\n",
    "expr = Not(And(notFalse.expr, Not(B)))"
   ]
  },
  {
   "cell_type": "code",
   "execution_count": 3,
   "metadata": {},
   "outputs": [
    {
     "name": "stdout",
     "output_type": "stream",
     "text": [
      "Passed sanity check: built 'expr' is the same as the stored Expression.\n"
     ]
    }
   ],
   "source": [
    "# check that the built expression is the same as the stored expression\n",
    "%check_expr"
   ]
  },
  {
   "cell_type": "code",
   "execution_count": 4,
   "metadata": {},
   "outputs": [
    {
     "data": {
      "text/html": [
       "<table><tr><th>&nbsp;</th><th>core type</th><th>sub-expressions</th><th>expression</th></tr>\n",
       "<tr><td>0</td><td>Operation</td><td>operator:&nbsp;7<br>operand:&nbsp;1<br></td><td><a class=\"ProveItLink\" href=\"expr.ipynb\"><img src=\"data:image/png;base64,iVBORw0KGgoAAAANSUhEUgAAAJIAAAAVBAMAAABf4KrdAAAAMFBMVEX////c3NxERESqqqqYmJgQ\n",
       "EBDu7u4yMjKIiIi6urpUVFTMzMx2dnYiIiJmZmYAAABjE816AAAAAXRSTlMAQObYZgAAAbBJREFU\n",
       "OMu1lL1LA0EQxec05hLy4dVWQhRL7dKmi9goCoKFkM42iATSpUyXNMFKiJUaC0PAxib5C4JVCvEg\n",
       "vaYQBE0QdHd2Nns7d4KND97c7vLblws3uwD/oGRN2VKsGYWFEBt7IGs5uOWFJwWQne9OZ6OJiIVV\n",
       "yFqpsayuzi0FMK19gOwUETewmqgps6TYQM3cscHmxKfwDBGNSS2VlFlSfE/NeiODzX/8TUR8IaIx\n",
       "qXMyS4Kcmt3UDaa1ILZnDhWSM8uvZJ40xBovZwymtdwG57SkkKFZPiPzpDzWdCG7Nce0+tf1SYGQ\n",
       "PEx8oWcxPFLOyrk/MEktrBlwyjgIIg0P4k+EtEyPTMn4Om2T1Me6DXCLgyCyLp6NgkL6f00a6ZYM\n",
       "IjPx3B2Ekg7IPAlfe1GMXQ9sJPUunndboX+3RuZJRexLT6VZiGwn54OQIi0D+5Rd1gU9WR7BRmQ7\n",
       "3Vcg1AUXZCX5fY59fxWgin0pSx1sZHPWucKmqJL1afGUmdQxwEsjqbEIJHha+Dkkpdl19AtiYfxW\n",
       "UTrhC9GIha2QbV3yhWjEwuQd6fCrNdHl+yIR4R/dU5GYGJ06pAAAAABJRU5ErkJggg==\n",
       "\" style=\"display:inline;vertical-align:middle;\" /></a></td></tr>\n",
       "<tr><td>1</td><td>Operation</td><td>operator:&nbsp;2<br>operands:&nbsp;3<br></td><td><a class=\"ProveItLink\" href=\"../598106154825f215699ee381e4ab6d759b478fa30/expr.ipynb\"><img src=\"data:image/png;base64,iVBORw0KGgoAAAANSUhEUgAAAHAAAAAVBAMAAABs93eRAAAAMFBMVEX////c3NwiIiJERESqqqqY\n",
       "mJh2dnZmZmYQEBDu7u4yMjJUVFTMzMyIiIi6uroAAAAs73DqAAAAAXRSTlMAQObYZgAAAZ9JREFU\n",
       "OMudlD1Iw0AUx18tqbUfaVcrYigojkUUdHMTnDo5uJhFuhYVJ8EPXHSQ4NipDiLtUCKOHezukG5O\n",
       "xeIkQgdBXQLqvXfX5rw7FwN5yXv9/Y+X/7srwL8vu6sUrL6KDMCEPEiFGC1yoGAZP1Lch+27Fkca\n",
       "MlLFmBLZpHimvIhIlgAO+4hku5rQcnl2I6o9iQgYHviIJD1NOHHEkwXx05lEPOUBtlxEXkETwiLF\n",
       "9IA3Y9clYpnd8x4i+wZhhWINHHqOuxIRAhRWCLk2CNcpbsMe96YsAWHvcZYjF2zJIl5uJHyh6ECB\n",
       "G8mGtoPEHLPyDeDSJ+RLHpYQBuRtF9IdfMkNNwSbeJz5lv0g5E/hmCcmLwtzrGJ9EnJqEFKra+y+\n",
       "olZXI2HAvjf9TsiSQbgJQoRiiJcjIY5xpk5IZWhY5/c4MiVsF7NEdbg2jTFz7hHyPLIazT0pFpmg\n",
       "hePHL6P9aDsjZPe73W5SAy1I5rWDRlvOplfy5RhMiOVq1YRyQjfAiDS0ak3J5WMlIVNa9VbJY74R\n",
       "ial/HdmOik2DjvwAeJRqxFf8mFkAAAAASUVORK5CYII=\n",
       "\" style=\"display:inline;vertical-align:middle;\" /></a></td></tr>\n",
       "<tr><td>2</td><td>Literal</td><td></td><td><a class=\"ProveItLink\" href=\"../../../conjunction/__pv_it/76b5f4f4c45c0b6a9b59b297fc07dfa9555698f50/expr.ipynb\"><img src=\"data:image/png;base64,iVBORw0KGgoAAAANSUhEUgAAAAwAAAAOBAMAAADpk+DfAAAALVBMVEX///+qqqqYmJh2dnaIiIi6\n",
       "urpUVFQiIiJERETMzMxmZmYyMjLu7u7c3NwAAABvwqPxAAAAAXRSTlMAQObYZgAAAEtJREFUCNdj\n",
       "YGDgPcAAAtwLwNSMGjCV6gIieTawgyhmBS4BIMXOwLsBSKkwMGQCKaC6aQwMjEBd3BdACMScAVJd\n",
       "wJAKolwYAkAUKwAk0guX6efcigAAAABJRU5ErkJggg==\n",
       "\" style=\"display:inline;vertical-align:middle;\" /></a></td></tr>\n",
       "<tr><td>3</td><td>ExprTuple</td><td>4, 5</td><td><a class=\"ProveItLink\" href=\"../fb43e214b3314dc2c367d89e9f3163bddb8e62310/expr.ipynb\"><img src=\"data:image/png;base64,iVBORw0KGgoAAAANSUhEUgAAAFIAAAAVBAMAAAAnX6R8AAAAMFBMVEX////c3NwiIiJERESqqqqY\n",
       "mJh2dnZmZmYQEBDu7u4yMjJUVFTMzMyIiIi6uroAAAAs73DqAAAAAXRSTlMAQObYZgAAARhJREFU\n",
       "KM9jYCAe8F0gQhHrAyBxGkmAEUMX6/7fuzevY2CoAbJXIonzFGCYxmHAwFD/gIGLgYH3An6V54Hy\n",
       "5zcwsCYwcEzAr/K+AANDfAIDZwPDKwb8Ki2AWANomglDGQGVvxkYpCyBdDrDUvwqeX7fva4KYngx\n",
       "9DEwsCuBQAKKyiKQkBrQwx8ZGCZtAAq8YPgH07wB00xgUDM3AFV/BYUBIZX8QGHWb2CVLfhVng9g\n",
       "YOD+ArbdFFPlBCSVoOCUXwBkRwF9DwUHYCo5P8E9Dg5Onq4J4FB6BLcLFARNSkoGnP0CcLHi/7t3\n",
       "rwoAsdYxcAhgpkNMIVBssiZgJkYsCZTtAmqqw61yFhBLY4hiywQbsaZzLID3AAMAA/dKLLFTs+0A\n",
       "AAAASUVORK5CYII=\n",
       "\" style=\"display:inline;vertical-align:middle;\" /></a></td></tr>\n",
       "<tr><td>4</td><td>Operation</td><td>operator:&nbsp;7<br>operand:&nbsp;6<br></td><td><a class=\"ProveItLink\" href=\"../../../negation/__pv_it/01165fd25131c0df966b8e8c1626e275fd04f3050/expr.ipynb\"><img src=\"data:image/png;base64,iVBORw0KGgoAAAANSUhEUgAAABwAAAAOBAMAAADOPWE3AAAAIVBMVEX///9EREQQEBCIiIjc3NxU\n",
       "VFTMzMx2dnYiIiJmZmYAAADo3DW1AAAAAXRSTlMAQObYZgAAACVJREFUCNdjYIADZwYUkEll7owO\n",
       "IGhHlU2lgMuGbhHQgqaOjkYA4xoNxELsxwMAAAAASUVORK5CYII=\n",
       "\" style=\"display:inline;vertical-align:middle;\" /></a></td></tr>\n",
       "<tr><td>5</td><td>Operation</td><td>operator:&nbsp;7<br>operand:&nbsp;8<br></td><td><a class=\"ProveItLink\" href=\"../1da4e2fe7c44632f084fa27ea32e26dc689384c20/expr.ipynb\"><img src=\"data:image/png;base64,iVBORw0KGgoAAAANSUhEUgAAAB0AAAAOBAMAAAAh/woJAAAAMFBMVEX///+qqqru7u7c3NyIiIgQ\n",
       "EBC6uroyMjJERESYmJhUVFTMzMx2dnYiIiJmZmYAAADtoHoAAAAAAXRSTlMAQObYZgAAAHpJREFU\n",
       "CNdjYIACzvW/Vq0oY0AA1gYGhvcJCP5+ByBegOD7GzAwzD+A4LcC8VUFBP8XA4N5E4LL/cvF7yaQ\n",
       "fnsXCO4wMLB8ZmDQhRm3i4GBIwAo9hPB5wfKcf5B8PdPYGDg+ojgg6y3L4AZDraeOxxh/Yv/q1aV\n",
       "A7UAAFRxJOZ+1MVPAAAAAElFTkSuQmCC\n",
       "\" style=\"display:inline;vertical-align:middle;\" /></a></td></tr>\n",
       "<tr><td>6</td><td>Literal</td><td></td><td><a class=\"ProveItLink\" href=\"../../../__pv_it/8f1f7fac882de28c72b62ab80a1700b6d8fd066b0/expr.ipynb\"><img src=\"data:image/png;base64,iVBORw0KGgoAAAANSUhEUgAAAA4AAAAOBAMAAADtZjDiAAAAG1BMVEX///9EREQQEBAiIiJmZmbM\n",
       "zMyIiIjc3NwAAACryk5kAAAAAXRSTlMAQObYZgAAABlJREFUCNdjYGBgKGOAgBBa0s7GxkbGxoYA\n",
       "FMUF2aBfHgoAAAAASUVORK5CYII=\n",
       "\" style=\"display:inline;vertical-align:middle;\" /></a></td></tr>\n",
       "<tr><td>7</td><td>Literal</td><td></td><td><a class=\"ProveItLink\" href=\"../../../negation/__pv_it/7bea79645543c2413aa17e787cca04e21046fde60/expr.ipynb\"><img src=\"data:image/png;base64,iVBORw0KGgoAAAANSUhEUgAAAAwAAAAGBAMAAAAFwGKyAAAAFVBMVEX///9UVFTMzMx2dnYiIiJm\n",
       "ZmYAAACWz4ZEAAAAAXRSTlMAQObYZgAAABRJREFUCNdjCHEBAmcGMFDEQzEBAEl+Ai6uYJv/AAAA\n",
       "AElFTkSuQmCC\n",
       "\" style=\"display:inline;vertical-align:middle;\" /></a></td></tr>\n",
       "<tr><td>8</td><td>Variable</td><td></td><td><a class=\"ProveItLink\" href=\"../../../../../__pv_it/077b2ff79244fb4582cbe22c6e3356fa92a52f2f0/expr.ipynb\"><img src=\"data:image/png;base64,iVBORw0KGgoAAAANSUhEUgAAABAAAAAOBAMAAADUAYG5AAAAMFBMVEX///+qqqru7u4iIiJ2dnbc\n",
       "3NyIiIjMzMxmZmYQEBC6uroyMjJERERUVFSYmJgAAADLUcuvAAAAAXRSTlMAQObYZgAAAGpJREFU\n",
       "CNdjYGB4+//u3dMLGIBgDgMDxy8gzf4NiP8CGWxfGRj4vgAZPBMYGJgnARn8FxhY9ygAGfXX0pof\n",
       "gDTlBzAw2YIYJ0EckBBI53sHoBH/gIz7AhBjWH9DjancBLTl/N+7t/cxMAAA3u4f/5xagjYAAAAA\n",
       "SUVORK5CYII=\n",
       "\" style=\"display:inline;vertical-align:middle;\" /></a></td></tr>\n",
       "</table>\n"
      ],
      "text/plain": [
       "0. [not]([not](FALSE) and [not](B))\n",
       "   core type: Operation\n",
       "   operator: 7\n",
       "   operand: 1\n",
       "1. [not](FALSE) and [not](B)\n",
       "   core type: Operation\n",
       "   operator: 2\n",
       "   operands: 3\n",
       "2. and\n",
       "   core type: Literal\n",
       "   sub-expressions: \n",
       "3. ([not](FALSE) , [not](B))\n",
       "   core type: ExprTuple\n",
       "   sub-expressions: 4, 5\n",
       "4. [not](FALSE)\n",
       "   core type: Operation\n",
       "   operator: 7\n",
       "   operand: 6\n",
       "5. [not](B)\n",
       "   core type: Operation\n",
       "   operator: 7\n",
       "   operand: 8\n",
       "6. FALSE\n",
       "   core type: Literal\n",
       "   sub-expressions: \n",
       "7. not\n",
       "   core type: Literal\n",
       "   sub-expressions: \n",
       "8. B\n",
       "   core type: Variable\n",
       "   sub-expressions: "
      ]
     },
     "execution_count": 4,
     "metadata": {},
     "output_type": "execute_result"
    }
   ],
   "source": [
    "# display the expression information\n",
    "expr.exprInfo()"
   ]
  },
  {
   "cell_type": "code",
   "execution_count": null,
   "metadata": {},
   "outputs": [],
   "source": []
  }
 ],
 "metadata": {
  "kernelspec": {
   "display_name": "Python 3",
   "language": "python",
   "name": "python3"
  }
 },
 "nbformat": 4,
 "nbformat_minor": 0
}
