{
 "cells": [
  {
   "cell_type": "markdown",
   "metadata": {},
   "source": [
    "Show the Proof\n",
    "========"
   ]
  },
  {
   "cell_type": "code",
   "execution_count": 1,
   "metadata": {},
   "outputs": [
    {
     "data": {
      "text/html": [
       "<table><tr><th>&nbsp;</th><th>step type</th><th>requirements</th><th>statement</th></tr>\n",
       "<tr><td>0</td><td>assumption</td><td></td><td><span style=\"font-size:20px;\"><a class=\"ProveItLink\" href=\"../ff772d4a4ccd5360dccfe03eeb42b0d5539e581a0/expr.ipynb\"><img src=\"data:image/png;base64,iVBORw0KGgoAAAANSUhEUgAAAGsAAAAVBAMAAACzuQ2OAAAAMFBMVEX////c3NxERESqqqpUVFS6\n",
       "urrMzMwyMjIQEBCIiIh2dnYiIiLu7u5mZmaYmJgAAABXZE4RAAAAAXRSTlMAQObYZgAAAclJREFU\n",
       "OMtjYGDgu8dACmBbJQCieHahiEbi08IXANLXDGJyfkAxywFCbUBT7//FxamUgeEaiHMdRHA1IMuz\n",
       "H4BQYLMCwCaABTgUGBjuBzCwg9grMLXNhFCv/4BIN4RI/gQgdmDgW4BdWw+YZLT9CKKSQMQesMh8\n",
       "YDi8X8DA04BVG2sBmOLk/Ap2KlAt8wWwiAYQ7wB6QBmrNt4FYCqG+R+IAmlhBwc3wxcGBnEdIL0W\n",
       "po23ADlEHoDjJIDtJwPUgUmQkP0yc+4+EMMciN+DGBnA8Lq9GwhA8ccBDjxWBsa/sAByhbga6NfT\n",
       "oLiJAJkNdERKG8ymFCDmB2tLcXH5BBbiZuCBuIUJ6BNOkMPzQTx1oJsiEjC0AYl2iFcNuMCuZuAH\n",
       "2sT3C6qNGxQALAVI2jgMQCEBCjVIRBRwQ+TygbpZPkMdCfYb1wYkbUwgw4WBuB4i5vaSAR5t8iDz\n",
       "n2NEACgVcQF9C/aOPiSRJUEiGxRtbO0HkCMANbo3MDBqfBdgePS/FhIhkMi+9N/FpRzsy1LsiasR\n",
       "LXMdQOXjSFwMr/DnUa4JMG182DIOLnAcnt94diKLMzrg1eYIcngrJOcuRpaQxKeLMwFalgAA8aNx\n",
       "Ab1ztcAAAAAASUVORK5CYII=\n",
       "\" style=\"display:inline;vertical-align:middle;\" /></a> <a class=\"ProveItLink\" href=\"proof.ipynb\" style=\"text-decoration: none\">&#x22A2;&nbsp;</a><a class=\"ProveItLink\" href=\"../7287205f651df5658adbe6934eb34d509d29e06a0/expr.ipynb\"><img src=\"data:image/png;base64,iVBORw0KGgoAAAANSUhEUgAAAFYAAAAVBAMAAAAutAQGAAAAMFBMVEX////c3NxERESqqqqYmJgQ\n",
       "EBDu7u4yMjKIiIi6urpUVFTMzMx2dnYiIiJmZmYAAABjE816AAAAAXRSTlMAQObYZgAAAXRJREFU\n",
       "KM9jYCAPzMAnyTIBmce9AEJdQFO0/teqRZUMDK+RBdkTINQHEAk2hRsswKrAwPB+AgM7stoOCOX7\n",
       "DUSuRojsbwDiBQwsB5DUhoFJRruPIGoTiLgGFukXYGDwP8DAFoBQylkApjg4foJdAlTA/AAsogrE\n",
       "V4HuU0ao5YPYMY35C4gCqQOpB4JfDAziakD6HJLXHEAk2wTuHwxQ+zdBwuVXR98VEMOc4e1dILgD\n",
       "8i7Y65wMjP9gPl0JcRTQ/bmg4JwKMXMXEPOD1e5ateoTWIiXgQ3iASagnzhA7tqPrhZIhEOcb8AD\n",
       "dhQDP9BMlj+oalkNQF4C+RkSdgW8ELn9QC1cn1HdwAQyRhiI6yFiqz0Y4MErD3KOOzQpADEPMJTA\n",
       "TtSHxPUmSEyAgpc7PAE1zDgvMDCqfhdgcPpfBwlDSEw8+r9qVTnY5ZVIcRyImr64E1D5yHHM4IM/\n",
       "dfM0YKZJXCAdmcO4AK/ahSg8CXxKOTYwAADeHliu8zOSuAAAAABJRU5ErkJggg==\n",
       "\" style=\"display:inline;vertical-align:middle;\" /></a></span></td></tr>\n",
       "</table>"
      ],
      "text/plain": [
       "<proveit._core_.proof._ShowProof at 0x7f9500047c50>"
      ]
     },
     "execution_count": 1,
     "metadata": {},
     "output_type": "execute_result"
    }
   ],
   "source": [
    "import proveit\n",
    "%show_proof"
   ]
  },
  {
   "cell_type": "code",
   "execution_count": null,
   "metadata": {},
   "outputs": [],
   "source": []
  }
 ],
 "metadata": {
  "kernelspec": {
   "display_name": "Python 3",
   "language": "python",
   "name": "python3"
  }
 },
 "nbformat": 4,
 "nbformat_minor": 0
}
