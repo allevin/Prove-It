{
 "cells": [
  {
   "cell_type": "markdown",
   "metadata": {},
   "source": [
    "Show the Proof\n",
    "========"
   ]
  },
  {
   "cell_type": "code",
   "execution_count": 1,
   "metadata": {},
   "outputs": [
    {
     "data": {
      "text/html": [
       "<table><tr><th>&nbsp;</th><th>step type</th><th>requirements</th><th>statement</th></tr>\n",
       "<tr><td>0</td><td>assumption</td><td></td><td><span style=\"font-size:20px;\"><a class=\"ProveItLink\" href=\"../8125ef8ed781f29cfbb2aa19db2628637f72e5e80/expr.ipynb\"><img src=\"data:image/png;base64,iVBORw0KGgoAAAANSUhEUgAAAE0AAAAVBAMAAADx+n4ZAAAAMFBMVEX////c3NxERESqqqpUVFS6\n",
       "urrMzMwyMjIQEBCIiIh2dnYiIiLu7u5mZmaYmJgAAABXZE4RAAAAAXRSTlMAQObYZgAAAUVJREFU\n",
       "KM9jYGDgu8eAF7CtEgBRPLsYCAC2ZhDJ+QFETvmvcoDB/1MCsvzyT/UVmwyAjOsgHlcDWPA7EJsc\n",
       "QDVIIZKnZhWQXoFQx/oL6FADBnR1DFPZUdVxfWXgWQiVPlm9eztMnR3LARR17B8YsmDOrjuAZJ4Q\n",
       "qnn8BXwXoLJCBxD2su3TganjLQCR8QvWb4DKKiLcF73/xwQg/R7EyQgAketn8X6GSPIoIPtjphHI\n",
       "UUCrUtrAQvUPGL9DJFm7d+9G+IOJdQGQof6AgSEiARp8+pBAZnNANo+JAWg8N0gtSwE0+OIhCng2\n",
       "YKgDu48LJM71DajrD0TWD0UdyF5EuACDj4HzF0T2dACSureTkMPvrP6XCQyr/zuCZRlrE+DpQLvF\n",
       "ADWckQGzO9S/MIBDHQYAq+MjrA6c/nh2EkzPrWCKbzER+QMAWMpfNygBwq8AAAAASUVORK5CYII=\n",
       "\" style=\"display:inline;vertical-align:middle;\" /></a> <a class=\"ProveItLink\" href=\"proof.ipynb\" style=\"text-decoration: none\">&#x22A2;&nbsp;</a><a class=\"ProveItLink\" href=\"../dd72d89ce9199b2aa1574691508e7c8746269f280/expr.ipynb\"><img src=\"data:image/png;base64,iVBORw0KGgoAAAANSUhEUgAAADkAAAAPBAMAAACsFXoGAAAAMFBMVEX///8QEBAiIiJmZmbc3NyY\n",
       "mJh2dna6urqqqqoyMjLMzMzu7u5ERERUVFSIiIgAAACn3CmNAAAAAXRSTlMAQObYZgAAAOVJREFU\n",
       "GNNjYGB4+//sBob7fxYwIIHMP/Mn6jSAmT+BuHcDAwo4UMc9Ow3EYP/GwMDawIAuy/CcE8Rg+87A\n",
       "nQIV3DdJSRMm28oLMo/zA8MyqCTX1A1Ien1ADP4JrAZQMZ8NCJO5VE+DGPUJ+QpQsSMIe4v0Pz4A\n",
       "MfKfMf+ACHEfQHbVux4QY34Ay0+IELuQkhLCVTzsCRDvnocEBdcFZL08DAcg3q2HCHMrYMiy/WJg\n",
       "YPoNEbuKIgsyGehdBr5vELFNBUiywW8YGDaf//uAIen/FbAYy+QF8Fg4JIseugwcN6FuhgAAWvdP\n",
       "Bp3jo+EAAAAASUVORK5CYII=\n",
       "\" style=\"display:inline;vertical-align:middle;\" /></a></span></td></tr>\n",
       "</table>"
      ],
      "text/plain": [
       "<proveit._core_.proof._ShowProof at 0x7f95000c1da0>"
      ]
     },
     "execution_count": 1,
     "metadata": {},
     "output_type": "execute_result"
    }
   ],
   "source": [
    "import proveit\n",
    "%show_proof"
   ]
  },
  {
   "cell_type": "code",
   "execution_count": null,
   "metadata": {},
   "outputs": [],
   "source": []
  }
 ],
 "metadata": {
  "kernelspec": {
   "display_name": "Python 3",
   "language": "python",
   "name": "python3"
  }
 },
 "nbformat": 4,
 "nbformat_minor": 0
}
