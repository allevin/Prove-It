{
 "cells": [
  {
   "cell_type": "markdown",
   "metadata": {},
   "source": [
    "Expression of type <a class=\"ProveItLink\" href=\"../../../../../../../doc/html/api/proveit.logic.Set.html\">Set</a>\n",
    "=======================\n",
    "# from context <a class=\"ProveItLink\" href=\"../../_context_.ipynb\">proveit.logic.boolean.disjunction</a>"
   ]
  },
  {
   "cell_type": "code",
   "execution_count": 1,
   "metadata": {},
   "outputs": [],
   "source": [
    "# import Expression classes needed to build the expression\n",
    "from proveit._common_ import C, J\n",
    "from proveit.logic import Implies, Set"
   ]
  },
  {
   "cell_type": "code",
   "execution_count": 2,
   "metadata": {},
   "outputs": [
    {
     "data": {
      "text/html": [
       "<strong id=\"expr\">expr:</strong> <a class=\"ProveItLink\" href=\"expr.ipynb\"><img src=\"data:image/png;base64,iVBORw0KGgoAAAANSUhEUgAAAFEAAAAVBAMAAADMaB9/AAAAMFBMVEX////c3NxERESqqqpUVFS6\n",
       "urrMzMwyMjIQEBCIiIh2dnYiIiLu7u5mZmaYmJgAAABXZE4RAAAAAXRSTlMAQObYZgAAATBJREFU\n",
       "KM9jYGDgu8dAALCtEgBRPLsYCAK2ZhDJ+QHMOaly94EsFkVct39fYGC4DmY2gMk+BobYPmzmcX0D\n",
       "EivgKnmqDwBZH+HSBxAq2RtQVLL3AAnWBrh0DUIlvwOKyvsGQILxAlw6BKEy/gGySsbv4FBIQDhu\n",
       "Apy5XgCmkrcAiP/BJXh3g8FfuEAFiHgPIjICGBi4P6L7mLkUyuD5AvYW0GEpbSBXg8OUB1np8Vao\n",
       "Foh16kDXRgBdxwFWaYYcK1XQgOL9AyK5FwAJFqA7WcDcC0ju3ARWyNjLwL0B7k4uIJPtJ4iBFNzM\n",
       "DpAg+MWQDw4FRHi+N2BgvYhkuThUwwSeLQyoKtncfS8j+0cRSs+c8gBNJTpIQOPjVsmATSUfMSrB\n",
       "6ZNnJxFpHhINfIuJykcAjBJU87EiPXYAAAAASUVORK5CYII=\n",
       "\" style=\"display:inline;vertical-align:middle;\" /></a><br>"
      ],
      "text/plain": [
       "expr: {C => J}"
      ]
     },
     "execution_count": 2,
     "metadata": {},
     "output_type": "execute_result"
    }
   ],
   "source": [
    "# build up the expression from sub-expressions\n",
    "expr = Set(Implies(C, J))"
   ]
  },
  {
   "cell_type": "code",
   "execution_count": 3,
   "metadata": {},
   "outputs": [
    {
     "name": "stdout",
     "output_type": "stream",
     "text": [
      "Passed sanity check: built 'expr' is the same as the stored Expression.\n"
     ]
    }
   ],
   "source": [
    "# check that the built expression is the same as the stored expression\n",
    "%check_expr"
   ]
  },
  {
   "cell_type": "code",
   "execution_count": 4,
   "metadata": {},
   "outputs": [
    {
     "data": {
      "text/html": [
       "<table><tr><th>&nbsp;</th><th>core type</th><th>sub-expressions</th><th>expression</th></tr>\n",
       "<tr><td>0</td><td>Operation</td><td>operator:&nbsp;1<br>operands:&nbsp;2<br></td><td><a class=\"ProveItLink\" href=\"expr.ipynb\"><img src=\"data:image/png;base64,iVBORw0KGgoAAAANSUhEUgAAAFEAAAAVBAMAAADMaB9/AAAAMFBMVEX////c3NxERESqqqpUVFS6\n",
       "urrMzMwyMjIQEBCIiIh2dnYiIiLu7u5mZmaYmJgAAABXZE4RAAAAAXRSTlMAQObYZgAAATBJREFU\n",
       "KM9jYGDgu8dAALCtEgBRPLsYCAK2ZhDJ+QHMOaly94EsFkVct39fYGC4DmY2gMk+BobYPmzmcX0D\n",
       "EivgKnmqDwBZH+HSBxAq2RtQVLL3AAnWBrh0DUIlvwOKyvsGQILxAlw6BKEy/gGySsbv4FBIQDhu\n",
       "Apy5XgCmkrcAiP/BJXh3g8FfuEAFiHgPIjICGBi4P6L7mLkUyuD5AvYW0GEpbSBXg8OUB1np8Vao\n",
       "Foh16kDXRgBdxwFWaYYcK1XQgOL9AyK5FwAJFqA7WcDcC0ju3ARWyNjLwL0B7k4uIJPtJ4iBFNzM\n",
       "DpAg+MWQDw4FRHi+N2BgvYhkuThUwwSeLQyoKtncfS8j+0cRSs+c8gBNJTpIQOPjVsmATSUfMSrB\n",
       "6ZNnJxFpHhINfIuJykcAjBJU87EiPXYAAAAASUVORK5CYII=\n",
       "\" style=\"display:inline;vertical-align:middle;\" /></a></td></tr>\n",
       "<tr><td>1</td><td>Literal</td><td></td><td><a class=\"ProveItLink\" href=\"../../../../set_theory/enumeration/__pv_it/07381ed5b23806e8d7914b78cb6667769e3708dd0/expr.ipynb\"><img src=\"data:image/png;base64,iVBORw0KGgoAAAANSUhEUgAAAB4AAAAOBAMAAADKyLEKAAAAMFBMVEX///8iIiIQEBCIiIjMzMzc\n",
       "3Nyqqqp2dnZEREQyMjK6urru7u5mZmZUVFSYmJgAAACI6eGPAAAAAXRSTlMAQObYZgAAALRJREFU\n",
       "CNdjYGDgu3Nm3wIGBJjHwN0PZW5yYGDgLWBgyITy8zcwMMQDxZyh/INAvD6BgcEFypcB4vjPDiBm\n",
       "TPFRrhs/LjMwMP//38rAwCbKEMPA9gEkE3fp0waG+AUMRxh4JkC01T9guPTOOICBEWgVH5C//wHD\n",
       "H5D4fqCz9oCMDGD4DLaegRXslLMMDMpAgxlOMmQxHDRgYG5gYLBk4D7KcIe7gOHC2rt9QCXsh40Z\n",
       "GCKMGQDRkC8N/Ph1XAAAAABJRU5ErkJggg==\n",
       "\" style=\"display:inline;vertical-align:middle;\" /></a></td></tr>\n",
       "<tr><td>2</td><td>ExprTuple</td><td>3</td><td><a class=\"ProveItLink\" href=\"../c08cc6dd967b6ef9d31246867be942524b5c0c7c0/expr.ipynb\"><img src=\"data:image/png;base64,iVBORw0KGgoAAAANSUhEUgAAAEoAAAAVBAMAAAATJmVgAAAAMFBMVEX////c3NwiIiJERESqqqqY\n",
       "mJh2dnZmZmYQEBDu7u4yMjJUVFTMzMyIiIi6uroAAAAs73DqAAAAAXRSTlMAQObYZgAAATtJREFU\n",
       "KM9jYCAO8F0goID1AZA4DWLNtS4PEMeigq3oUwFDDZCxEsRpZWB43orNILY/DAxcDAy8QAs5F00A\n",
       "8j/CpSYgVHE1AK1MYOAACnF1gtzXAJdaiVDFvwFoSAPDKyCz3gFIMBbApV4jVL0PABImDGVA+V8g\n",
       "PucBhGMQ3s4XABLpDEsZGNi/wgXZlcDgO1xgBYjwYuhjYGD6iO4zlnVQBudvEPmC4R/QhR/AAsjK\n",
       "ZvVBlYOtOQ9SxQFW5YOkiGcZNDDYf0JUtTAwcIOZBUjuUgYrYmxnYFKA2GgK1PkX5C+koGTZAPHq\n",
       "N4bzYN9GAX3JwBDvwMBXiGShFFTxBU5tMCOd4RHIGbu2lyC73RBK370dAKbXMXAIYEbxAVQuMIaA\n",
       "UUkIgKJiJUFVs4BYmqCqjaBQIZSieQ8wAAAEe0dQ6gFSOwAAAABJRU5ErkJggg==\n",
       "\" style=\"display:inline;vertical-align:middle;\" /></a></td></tr>\n",
       "<tr><td>3</td><td>Operation</td><td>operator:&nbsp;4<br>operands:&nbsp;5<br></td><td><a class=\"ProveItLink\" href=\"../0c772d985a25c627e4669ebbba81f21e301bc6800/expr.ipynb\"><img src=\"data:image/png;base64,iVBORw0KGgoAAAANSUhEUgAAAD0AAAAPBAMAAACl/tp8AAAAMFBMVEX////MzMyqqqoiIiIyMjK6\n",
       "uroQEBB2dnbc3NyYmJhmZmZUVFRERESIiIju7u4AAAB204erAAAAAXRSTlMAQObYZgAAAM9JREFU\n",
       "GNNjYGDgu7NrJccCBkxQZW8FosomMLAum4BFnqFeAEg8sQOxGmBifEjybmDiAZAIg4uxPEDI/wZi\n",
       "rk8gVhdcjHUDgvkTSPQ7gJgPEZpq4Sz2H0BiPcJli41BwB7uFZYEIGHfgO5qlQAo4z3Iqv9gJpKj\n",
       "GPjcoAr0QUbng1hMAkjyInVQxnqQrv0gggvJfuNzYE7bAgZjEC1/AUjUIWnXhoZdAeNfEM0J9H8U\n",
       "khs5HCC0LsNjSEhIe69SQNLOA1XLe3cntihhYETlAgDaUTAvaLKgFQAAAABJRU5ErkJggg==\n",
       "\" style=\"display:inline;vertical-align:middle;\" /></a></td></tr>\n",
       "<tr><td>4</td><td>Literal</td><td></td><td><a class=\"ProveItLink\" href=\"../../../implication/__pv_it/e5c030cabcb650938f92dee8256fe11cd12bf9b30/expr.ipynb\"><img src=\"data:image/png;base64,iVBORw0KGgoAAAANSUhEUgAAABMAAAANBAMAAAC5okgUAAAALVBMVEX////c3NxERETMzMwQEBCq\n",
       "qqoiIiJmZmaIiIh2dnZUVFS6uroyMjLu7u4AAACPpZJTAAAAAXRSTlMAQObYZgAAAD1JREFUCNdj\n",
       "YAABXgY44LkAZ3IvQAjPABFlaSCQV4AQjtkAZ/IegbNt5sLUpunC5aPgLMYDcCaTAJzJDCIA2yMN\n",
       "HCCUuIIAAAAASUVORK5CYII=\n",
       "\" style=\"display:inline;vertical-align:middle;\" /></a></td></tr>\n",
       "<tr><td>5</td><td>ExprTuple</td><td>6, 7</td><td><a class=\"ProveItLink\" href=\"../472a301332ee1b7b60e3df2cbce1358e48fd011d0/expr.ipynb\"><img src=\"data:image/png;base64,iVBORw0KGgoAAAANSUhEUgAAADIAAAAVBAMAAAD2uKAMAAAAMFBMVEX////c3NwiIiJERESqqqqY\n",
       "mJh2dnZmZmYQEBDu7u4yMjJUVFTMzMyIiIi6uroAAAAs73DqAAAAAXRSTlMAQObYZgAAARtJREFU\n",
       "KM9jYMAN+C5gEWR9ACROg1hzrcsDxKGibEWfChhqgIyVIE4rA8PzVpgGtj8MDFwMDLxAwzgXTQDy\n",
       "P8JkuBqAxiUwcAAFuTpB9jXAZPg3ABU3MLwCMusdgARjAUzmfQCQMGEoA4r9AvE5D8Bk8gWARDrD\n",
       "UgYG9q+oTl4BIrwY+hgYmD6iSHD+BpEvGP4BbfwAFoDJsICNOA+S4QDL+MBk2H9CZFoYGLjBTIjT\n",
       "GNsZmBQgppkyMPD8BXl8Atg8tm8M58EBGQV0HQNDvAMDXyEDw3ygYpYLnNpgzekMj4Akz67tJUBq\n",
       "BsiNd28HgGXWMXAIINz7EMnpDaCgg4MABJPtAiQWMGVmAbE0nMeLFBAbQT7AFtu8BxgAXnBAClXD\n",
       "uk8AAAAASUVORK5CYII=\n",
       "\" style=\"display:inline;vertical-align:middle;\" /></a></td></tr>\n",
       "<tr><td>6</td><td>Variable</td><td></td><td><a class=\"ProveItLink\" href=\"../../../../../__pv_it/985a1bdf1540838275dec15f4ad6de261cca93ce0/expr.ipynb\"><img src=\"data:image/png;base64,iVBORw0KGgoAAAANSUhEUgAAAA8AAAAOBAMAAAACpFvcAAAAMFBMVEX////MzMyqqqoiIiIyMjK6\n",
       "uroQEBB2dnbc3NyYmJhmZmZUVFRERESIiIju7u4AAAB204erAAAAAXRSTlMAQObYZgAAAGZJREFU\n",
       "CNdjYGDgu7NrJccCBgaGsgkMrMsmMDA8sQNy6hsYGNweABlhDAxcn4A0QxcDQ78DiPGQgWH9BAYI\n",
       "sG+AMv6DSaCGfBDNJMDAsB+kmwuI5S8AiTog5gSaEwXWIO29SgFIAQBC+RaDQlidVgAAAABJRU5E\n",
       "rkJggg==\n",
       "\" style=\"display:inline;vertical-align:middle;\" /></a></td></tr>\n",
       "<tr><td>7</td><td>Variable</td><td></td><td><a class=\"ProveItLink\" href=\"../../../../../__pv_it/0730776658406f13a5e8bca83a69f67d4b6b708d0/expr.ipynb\"><img src=\"data:image/png;base64,iVBORw0KGgoAAAANSUhEUgAAAA0AAAAOBAMAAAAGUYvhAAAALVBMVEX///+IiIiqqqru7u7c3NyY\n",
       "mJi6urpUVFQQEBAyMjLMzMwiIiJmZmZ2dnYAAABVuDDQAAAAAXRSTlMAQObYZgAAAEdJREFUCNdj\n",
       "YGBguLNvDwMY3FsAoWdAKIbnEIrtKYTmfQKhORsgtF0BhNYLgNDnDICExwGG3WCzLnA9BNGKDNZg\n",
       "ZYyCpSAKAIbhD5JM+WhaAAAAAElFTkSuQmCC\n",
       "\" style=\"display:inline;vertical-align:middle;\" /></a></td></tr>\n",
       "</table>\n"
      ],
      "text/plain": [
       "0. {C => J}\n",
       "   core type: Operation\n",
       "   operator: 1\n",
       "   operands: 2\n",
       "1. Set\n",
       "   core type: Literal\n",
       "   sub-expressions: \n",
       "2. (C => J)\n",
       "   core type: ExprTuple\n",
       "   sub-expressions: 3\n",
       "3. C => J\n",
       "   core type: Operation\n",
       "   operator: 4\n",
       "   operands: 5\n",
       "4. =>\n",
       "   core type: Literal\n",
       "   sub-expressions: \n",
       "5. (C , J)\n",
       "   core type: ExprTuple\n",
       "   sub-expressions: 6, 7\n",
       "6. C\n",
       "   core type: Variable\n",
       "   sub-expressions: \n",
       "7. J\n",
       "   core type: Variable\n",
       "   sub-expressions: "
      ]
     },
     "execution_count": 4,
     "metadata": {},
     "output_type": "execute_result"
    }
   ],
   "source": [
    "# display the expression information\n",
    "expr.exprInfo()"
   ]
  },
  {
   "cell_type": "code",
   "execution_count": null,
   "metadata": {},
   "outputs": [],
   "source": []
  }
 ],
 "metadata": {
  "kernelspec": {
   "display_name": "Python 3",
   "language": "python",
   "name": "python3"
  }
 },
 "nbformat": 4,
 "nbformat_minor": 0
}
