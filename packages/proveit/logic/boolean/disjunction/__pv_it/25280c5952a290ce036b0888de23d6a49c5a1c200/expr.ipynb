{
 "cells": [
  {
   "cell_type": "markdown",
   "metadata": {},
   "source": [
    "Expression of type <a class=\"ProveItLink\" href=\"../../../../../../../doc/html/api/proveit.ExprTuple.html\">ExprTuple</a>\n",
    "=======================\n",
    "# from context <a class=\"ProveItLink\" href=\"../../_context_.ipynb\">proveit.logic.boolean.disjunction</a>"
   ]
  },
  {
   "cell_type": "code",
   "execution_count": 1,
   "metadata": {},
   "outputs": [],
   "source": [
    "# import Expression classes needed to build the expression\n",
    "from proveit import ExprTuple\n",
    "from proveit.logic import FALSE, Or"
   ]
  },
  {
   "cell_type": "code",
   "execution_count": 2,
   "metadata": {},
   "outputs": [
    {
     "data": {
      "text/html": [
       "<strong id=\"expr\">expr:</strong> <a class=\"ProveItLink\" href=\"expr.ipynb\"><img src=\"data:image/png;base64,iVBORw0KGgoAAAANSUhEUgAAAI0AAAAVBAMAAACJRXC4AAAAMFBMVEX////c3NwiIiJERESqqqqY\n",
       "mJh2dnZmZmYQEBDu7u4yMjJUVFTMzMyIiIi6uroAAAAs73DqAAAAAXRSTlMAQObYZgAAActJREFU\n",
       "OMutlL9Lw0AUgF9/t0kaOytCORcLUorg3s21k4OgdBGnShFxVnFxkYzFxTiICA7+AUUKRURcQmeF\n",
       "6igI+g+I791dkrskkA5muHt3/e5r3uXeAfzXY3swuZPxZpN3X8GP2zMpOPUCsBfM8Mi6p3aRmtJI\n",
       "wTNeXBFSt7Ta5pMj4TEcap/4lKussfqin/KBiAOq6pHHJCOG3POmEBsJnmEIhVTZIY/VwlHWEZ4z\n",
       "hRgkeMbUNECnPsWuXGG3LvbHdhUi1457jBpAvg86dSg86CAXeUpdhSj24x5ykEujroUHc6LcyGN0\n",
       "FCLvxj2U0xhAp86FB/fYnApPeaoQ9lGCB/f4QfMg9StPTR0uZDSneqzvBE8WKq7mQcr3HMDOzJ5S\n",
       "u9iJek7l6nl8I5lXOy2vjJuFaF5rcrX56Mkop+5zgRKoRDww3NI9SO3K1daqIyP5qZXvflmPeMYN\n",
       "3YPUh1+dN36d2rhqn7FlxpbwENBmDX5wTxhjJ4y1xEkURpUq16TnOaj3Y6UWRF28R6rccvQxUoVu\n",
       "7N5Qa7PH207KBdTz7w3NY4T/Js9JiodTCzFP5j4Ym7yMqimvwym85SYrcmLSDC85/rzOdK8i9Qe8\n",
       "xH2dNOTRgAAAAABJRU5ErkJggg==\n",
       "\" style=\"display:inline;vertical-align:middle;\" /></a><br>"
      ],
      "text/plain": [
       "expr: ([or](FALSE) , FALSE or FALSE)"
      ]
     },
     "execution_count": 2,
     "metadata": {},
     "output_type": "execute_result"
    }
   ],
   "source": [
    "# build up the expression from sub-expressions\n",
    "expr = ExprTuple(Or(FALSE), Or(FALSE, FALSE))"
   ]
  },
  {
   "cell_type": "code",
   "execution_count": 3,
   "metadata": {},
   "outputs": [
    {
     "name": "stdout",
     "output_type": "stream",
     "text": [
      "Passed sanity check: built 'expr' is the same as the stored Expression.\n"
     ]
    }
   ],
   "source": [
    "# check that the built expression is the same as the stored expression\n",
    "%check_expr"
   ]
  },
  {
   "cell_type": "code",
   "execution_count": 4,
   "metadata": {},
   "outputs": [
    {
     "data": {
      "text/html": [
       "<table><tr><th>&nbsp;</th><th>core type</th><th>sub-expressions</th><th>expression</th></tr>\n",
       "<tr><td>0</td><td>ExprTuple</td><td>1, 2</td><td><a class=\"ProveItLink\" href=\"expr.ipynb\"><img src=\"data:image/png;base64,iVBORw0KGgoAAAANSUhEUgAAAI0AAAAVBAMAAACJRXC4AAAAMFBMVEX////c3NwiIiJERESqqqqY\n",
       "mJh2dnZmZmYQEBDu7u4yMjJUVFTMzMyIiIi6uroAAAAs73DqAAAAAXRSTlMAQObYZgAAActJREFU\n",
       "OMutlL9Lw0AUgF9/t0kaOytCORcLUorg3s21k4OgdBGnShFxVnFxkYzFxTiICA7+AUUKRURcQmeF\n",
       "6igI+g+I791dkrskkA5muHt3/e5r3uXeAfzXY3swuZPxZpN3X8GP2zMpOPUCsBfM8Mi6p3aRmtJI\n",
       "wTNeXBFSt7Ta5pMj4TEcap/4lKussfqin/KBiAOq6pHHJCOG3POmEBsJnmEIhVTZIY/VwlHWEZ4z\n",
       "hRgkeMbUNECnPsWuXGG3LvbHdhUi1457jBpAvg86dSg86CAXeUpdhSj24x5ykEujroUHc6LcyGN0\n",
       "FCLvxj2U0xhAp86FB/fYnApPeaoQ9lGCB/f4QfMg9StPTR0uZDSneqzvBE8WKq7mQcr3HMDOzJ5S\n",
       "u9iJek7l6nl8I5lXOy2vjJuFaF5rcrX56Mkop+5zgRKoRDww3NI9SO3K1daqIyP5qZXvflmPeMYN\n",
       "3YPUh1+dN36d2rhqn7FlxpbwENBmDX5wTxhjJ4y1xEkURpUq16TnOaj3Y6UWRF28R6rccvQxUoVu\n",
       "7N5Qa7PH207KBdTz7w3NY4T/Js9JiodTCzFP5j4Ym7yMqimvwym85SYrcmLSDC85/rzOdK8i9Qe8\n",
       "xH2dNOTRgAAAAABJRU5ErkJggg==\n",
       "\" style=\"display:inline;vertical-align:middle;\" /></a></td></tr>\n",
       "<tr><td>1</td><td>Operation</td><td>operator:&nbsp;4<br>operands:&nbsp;3<br></td><td><a class=\"ProveItLink\" href=\"../2c40a46cc26842e05a116a65547464952a8098890/expr.ipynb\"><img src=\"data:image/png;base64,iVBORw0KGgoAAAANSUhEUgAAADkAAAAVBAMAAAAOWFv7AAAAMFBMVEX///8QEBCYmJhmZmaqqqrc\n",
       "3Nzu7u5ERERUVFS6urp2dnbMzMwyMjIiIiKIiIgAAACFNc/vAAAAAXRSTlMAQObYZgAAAP9JREFU\n",
       "KM9jYMAL3p6GMnRugql5cBlNIF4J54FZ3A0gMg5EMG8AiXGC5TZAZHkSQORmsNABkCwHUA0D3wOI\n",
       "7DsGhKwWSJa7AMjiTYDIiiHJJoJtOwpkOUPs5TyAJMvuABIDyoBUgGSZFyDJchmAxICmgkwHyfIo\n",
       "IMmyHACJAV3EMQEiyzgBSZZTACx2gSEH6l9+ZFnuD2AxE4ZFeGRjgLqhJjtgmsyx6QFUlh3ZVUxg\n",
       "VzFw1yZAZYGeQPcRA8NhWCxwAq2wvXv34t2714HemwCR3QaPI1GkyE3EiEEtJNl1GLKQGAQDtgMY\n",
       "sqwNcD5HADDl3IYlIUjKiYPLvmZgAABGkk52bJ3edwAAAABJRU5ErkJggg==\n",
       "\" style=\"display:inline;vertical-align:middle;\" /></a></td></tr>\n",
       "<tr><td>2</td><td>Operation</td><td>operator:&nbsp;4<br>operands:&nbsp;5<br></td><td><a class=\"ProveItLink\" href=\"../491621fb4fe1a75cf61bb0f680150a59814c86380/expr.ipynb\"><img src=\"data:image/png;base64,iVBORw0KGgoAAAANSUhEUgAAADUAAAAPBAMAAAC2KZqIAAAAMFBMVEX///+YmJh2dnaqqqoyMjLu\n",
       "7u5UVFS6urpEREQQEBAiIiJmZmbMzMyIiIjc3NwAAAD1oEhMAAAAAXRSTlMAQObYZgAAAH9JREFU\n",
       "GNNjYGBgeMuAAfguQBmnIRQ7mDwAJnk2oMqxgYR5L2CV42kAElwBWOUY/IDYmgG7nDVUHpsc0Dyw\n",
       "udjkgO5gK8Ahx7CAIYQBl9xmBkWcck+AOnHJsR28gFOOpysARW7XqlUrV61aARHyBpPcq1atmrVq\n",
       "VQNq8B9F4QEA5vEqvogKH/gAAAAASUVORK5CYII=\n",
       "\" style=\"display:inline;vertical-align:middle;\" /></a></td></tr>\n",
       "<tr><td>3</td><td>ExprTuple</td><td>6</td><td><a class=\"ProveItLink\" href=\"../2064b02c65bf2cef6bed707d2e6782af008f3e450/expr.ipynb\"><img src=\"data:image/png;base64,iVBORw0KGgoAAAANSUhEUgAAABwAAAAVBAMAAACnLJNvAAAAMFBMVEX////c3NwiIiJERESqqqqY\n",
       "mJh2dnZmZmYQEBDu7u4yMjJUVFTMzMyIiIi6uroAAAAs73DqAAAAAXRSTlMAQObYZgAAAIZJREFU\n",
       "GNNjYEADfBdgLNYHQOI0iMUIFqsB4pUgBk8BiORiYOC9gOCyJjBwTEBwORsYXjEguAwmDGXI3HSG\n",
       "pchcL4Y+ZO4Lhn/I3PPo3BZUxabI3Cig2SgWPWJgYFdSUmpSUjJgYFjHwCGA8CvQkUBnwwHbBagH\n",
       "IWAWEEsjuBvhAQECvAcYAKwAIAGBP3hLAAAAAElFTkSuQmCC\n",
       "\" style=\"display:inline;vertical-align:middle;\" /></a></td></tr>\n",
       "<tr><td>4</td><td>Literal</td><td></td><td><a class=\"ProveItLink\" href=\"../087d0b4ded7c7e5bf3bba05ecb616d7a8051ff650/expr.ipynb\"><img src=\"data:image/png;base64,iVBORw0KGgoAAAANSUhEUgAAAAwAAAAOBAMAAADpk+DfAAAALVBMVEX///+YmJh2dnZmZmaqqqrc\n",
       "3NwyMjLu7u4iIiJERESIiIhUVFTMzMy6uroAAAD0I/TTAAAAAXRSTlMAQObYZgAAAEtJREFUCNdj\n",
       "uMAABDwMe0DUKoaTIKqdgS2AgYHFAITAzHYGsMQqBoa9QIqDgT0BSDE7MAkAKdYEDpAehj1SYOpk\n",
       "O5hiMwBTPAUMDAB33Atnw8aG2QAAAABJRU5ErkJggg==\n",
       "\" style=\"display:inline;vertical-align:middle;\" /></a></td></tr>\n",
       "<tr><td>5</td><td>ExprTuple</td><td>6, 6</td><td><a class=\"ProveItLink\" href=\"../0f765c86883f159901bd422ce2aa1574ee4b44270/expr.ipynb\"><img src=\"data:image/png;base64,iVBORw0KGgoAAAANSUhEUgAAADUAAAAVBAMAAAAUZLt1AAAAMFBMVEX////c3NwiIiJERESqqqqY\n",
       "mJh2dnZmZmYQEBDu7u4yMjJUVFTMzMyIiIi6uroAAAAs73DqAAAAAXRSTlMAQObYZgAAALNJREFU\n",
       "KM9jYMAH+C5gFY4DEadBBCOyAlkQwX4ASKwEsXgKkOSOg8kFDAy8F3DIhTEwcEzAITeDgeEVAw45\n",
       "ZgeGMlxybAUMS3HJsSxg6MMlx9fA8A+XHM8HvHIteMw0RZKbgCzHuoAhHSHH+QnND4+AwaqkpNSk\n",
       "pGTA2S/AwFCkpKShpKTMwMD1gIFDACm6kNigMGNNQHBZkSMwFxZHmHKcwDhikEbwkSOYWwA9yhHg\n",
       "DgMDAMpvLh492isZAAAAAElFTkSuQmCC\n",
       "\" style=\"display:inline;vertical-align:middle;\" /></a></td></tr>\n",
       "<tr><td>6</td><td>Literal</td><td></td><td><a class=\"ProveItLink\" href=\"../../../__pv_it/8f1f7fac882de28c72b62ab80a1700b6d8fd066b0/expr.ipynb\"><img src=\"data:image/png;base64,iVBORw0KGgoAAAANSUhEUgAAAA4AAAAOBAMAAADtZjDiAAAAG1BMVEX///9EREQQEBAiIiJmZmbM\n",
       "zMyIiIjc3NwAAACryk5kAAAAAXRSTlMAQObYZgAAABlJREFUCNdjYGBgKGOAgBBa0s7GxkbGxoYA\n",
       "FMUF2aBfHgoAAAAASUVORK5CYII=\n",
       "\" style=\"display:inline;vertical-align:middle;\" /></a></td></tr>\n",
       "</table>\n"
      ],
      "text/plain": [
       "0. ([or](FALSE) , FALSE or FALSE)\n",
       "   core type: ExprTuple\n",
       "   sub-expressions: 1, 2\n",
       "1. [or](FALSE)\n",
       "   core type: Operation\n",
       "   operator: 4\n",
       "   operands: 3\n",
       "2. FALSE or FALSE\n",
       "   core type: Operation\n",
       "   operator: 4\n",
       "   operands: 5\n",
       "3. (FALSE)\n",
       "   core type: ExprTuple\n",
       "   sub-expressions: 6\n",
       "4. or\n",
       "   core type: Literal\n",
       "   sub-expressions: \n",
       "5. (FALSE , FALSE)\n",
       "   core type: ExprTuple\n",
       "   sub-expressions: 6, 6\n",
       "6. FALSE\n",
       "   core type: Literal\n",
       "   sub-expressions: "
      ]
     },
     "execution_count": 4,
     "metadata": {},
     "output_type": "execute_result"
    }
   ],
   "source": [
    "# display the expression information\n",
    "expr.exprInfo()"
   ]
  },
  {
   "cell_type": "code",
   "execution_count": null,
   "metadata": {},
   "outputs": [],
   "source": []
  }
 ],
 "metadata": {
  "kernelspec": {
   "display_name": "Python 3",
   "language": "python",
   "name": "python3"
  }
 },
 "nbformat": 4,
 "nbformat_minor": 0
}
