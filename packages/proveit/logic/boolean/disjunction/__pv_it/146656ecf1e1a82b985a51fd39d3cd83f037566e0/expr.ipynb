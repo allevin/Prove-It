{
 "cells": [
  {
   "cell_type": "markdown",
   "metadata": {},
   "source": [
    "Expression of type <a class=\"ProveItLink\" href=\"../../../../../../../doc/html/api/proveit.logic.Not.html\">Not</a>\n",
    "=======================\n",
    "# from context <a class=\"ProveItLink\" href=\"../../_context_.ipynb\">proveit.logic.boolean.disjunction</a>"
   ]
  },
  {
   "cell_type": "code",
   "execution_count": 1,
   "metadata": {},
   "outputs": [],
   "source": [
    "# import Expression classes needed to build the expression\n",
    "from proveit.logic import And, Not, TRUE\n",
    "from proveit.logic.boolean.negation._theorems_ import notFalse"
   ]
  },
  {
   "cell_type": "code",
   "execution_count": 2,
   "metadata": {},
   "outputs": [
    {
     "data": {
      "text/html": [
       "<strong id=\"expr\">expr:</strong> <a class=\"ProveItLink\" href=\"expr.ipynb\"><img src=\"data:image/png;base64,iVBORw0KGgoAAAANSUhEUgAAAJIAAAAVBAMAAABf4KrdAAAAMFBMVEX////c3NxERESqqqqYmJgQ\n",
       "EBDu7u4yMjKIiIi6urpUVFTMzMx2dnYiIiJmZmYAAABjE816AAAAAXRSTlMAQObYZgAAAaBJREFU\n",
       "OMu1lL9LAzEUx3P9YXv2WjsWJ0H/gG6u3VTooAiCWxdxvUEKbh0Fly6ii1DH4lI6OuiNTlIEO1no\n",
       "XgVXNy/v+3I/Xq7QxQef5PIu+SZ5eYlS/2F3TMoOpMPtCUehD2KrDEBkDV3URmLgk/mozci21CJs\n",
       "LJJdSh0Q2TOVPhqO+dNNTj6ngUxkV4xQavM8c9TlnqVUCEBkJ4xQOkNjPEVd7FhKa4cgiqQPpFKu\n",
       "SdWQl3urLCW1zZgABkAqeZjXr8L5laH0xpiAt4BUytM6vVYNa7vIUNolvvVJfuoA9EHkYCWXIlBV\n",
       "DnZ+ao4/iJVuGM6RjT6IkwZKlR9d7iv1SM3fRPYZpRdmJaWpSckVlIpNIJVod/lwSKmum8cZSmJ3\n",
       "uRaQSgUdH62Sp2E7GUp7jPbwaXtzFTuSWTDWXxOVPO3R0ixwJ4AtPMKP2ew9XI6O3dBcJ3WfygLk\n",
       "3yVj7IgRRreFTsKl21K3esjbQle1bSu9itcosHp4PbD8VcGEvnB0LaVzJjJnANK2LnezaSk9MOk3\n",
       "siG7XUuHI1/f8oj4AwrThLbaWzQEAAAAAElFTkSuQmCC\n",
       "\" style=\"display:inline;vertical-align:middle;\" /></a><br>"
      ],
      "text/plain": [
       "expr: [not]([not](FALSE) and [not](TRUE))"
      ]
     },
     "execution_count": 2,
     "metadata": {},
     "output_type": "execute_result"
    }
   ],
   "source": [
    "# build up the expression from sub-expressions\n",
    "expr = Not(And(notFalse.expr, Not(TRUE)))"
   ]
  },
  {
   "cell_type": "code",
   "execution_count": 3,
   "metadata": {},
   "outputs": [
    {
     "name": "stdout",
     "output_type": "stream",
     "text": [
      "Passed sanity check: built 'expr' is the same as the stored Expression.\n"
     ]
    }
   ],
   "source": [
    "# check that the built expression is the same as the stored expression\n",
    "%check_expr"
   ]
  },
  {
   "cell_type": "code",
   "execution_count": 4,
   "metadata": {},
   "outputs": [
    {
     "data": {
      "text/html": [
       "<table><tr><th>&nbsp;</th><th>core type</th><th>sub-expressions</th><th>expression</th></tr>\n",
       "<tr><td>0</td><td>Operation</td><td>operator:&nbsp;7<br>operand:&nbsp;1<br></td><td><a class=\"ProveItLink\" href=\"expr.ipynb\"><img src=\"data:image/png;base64,iVBORw0KGgoAAAANSUhEUgAAAJIAAAAVBAMAAABf4KrdAAAAMFBMVEX////c3NxERESqqqqYmJgQ\n",
       "EBDu7u4yMjKIiIi6urpUVFTMzMx2dnYiIiJmZmYAAABjE816AAAAAXRSTlMAQObYZgAAAaBJREFU\n",
       "OMu1lL9LAzEUx3P9YXv2WjsWJ0H/gG6u3VTooAiCWxdxvUEKbh0Fly6ii1DH4lI6OuiNTlIEO1no\n",
       "XgVXNy/v+3I/Xq7QxQef5PIu+SZ5eYlS/2F3TMoOpMPtCUehD2KrDEBkDV3URmLgk/mozci21CJs\n",
       "LJJdSh0Q2TOVPhqO+dNNTj6ngUxkV4xQavM8c9TlnqVUCEBkJ4xQOkNjPEVd7FhKa4cgiqQPpFKu\n",
       "SdWQl3urLCW1zZgABkAqeZjXr8L5laH0xpiAt4BUytM6vVYNa7vIUNolvvVJfuoA9EHkYCWXIlBV\n",
       "DnZ+ao4/iJVuGM6RjT6IkwZKlR9d7iv1SM3fRPYZpRdmJaWpSckVlIpNIJVod/lwSKmum8cZSmJ3\n",
       "uRaQSgUdH62Sp2E7GUp7jPbwaXtzFTuSWTDWXxOVPO3R0ixwJ4AtPMKP2ew9XI6O3dBcJ3WfygLk\n",
       "3yVj7IgRRreFTsKl21K3esjbQle1bSu9itcosHp4PbD8VcGEvnB0LaVzJjJnANK2LnezaSk9MOk3\n",
       "siG7XUuHI1/f8oj4AwrThLbaWzQEAAAAAElFTkSuQmCC\n",
       "\" style=\"display:inline;vertical-align:middle;\" /></a></td></tr>\n",
       "<tr><td>1</td><td>Operation</td><td>operator:&nbsp;2<br>operands:&nbsp;3<br></td><td><a class=\"ProveItLink\" href=\"../1aa1d54b115027a1a8aa681d2366cc5613e864af0/expr.ipynb\"><img src=\"data:image/png;base64,iVBORw0KGgoAAAANSUhEUgAAAG8AAAAVBAMAAAC6Uq30AAAAMFBMVEX////c3NwiIiJERESqqqqY\n",
       "mJh2dnZmZmYQEBDu7u4yMjJUVFTMzMyIiIi6uroAAAAs73DqAAAAAXRSTlMAQObYZgAAAXBJREFU\n",
       "OMtjYCAb8F1AE2B9gK7kLbpAHIg4jSTACDakBk0ZzwYYq0gJBJQZ2A8AOSuRlRSASC6YMRMgNNcE\n",
       "JCXHweQCBgbeCxgaWROgGgog9F0GDI1hDAwcEzA0cjZAeIc1IXQnpsYZDAyvGDA0MphAePsgVvEt\n",
       "wNTI7MBQhkVjOpjkXMAEptkTMDWyFTAsxaLRCyIZwO4A9moApkaWBQx9QCPBgZyA0PgCTDIxMIId\n",
       "yfEAGg9qCI18DQz/kCMLqvE8mIxlYNgDovlhCeI0QiPPBzwaNaFKcWhswaIR7FQWIJtLAORUB0yN\n",
       "QKeaYtEYBQ4TAYhmBuYATI2sC6BBDwQH0KLjMIhQgAQ91GyU6HgED2hQ4DYpKRkwMKwDRz8stfEp\n",
       "IEfHMUhqfMDAIYCR0SBJDhwkfCCiETMvzkCkaCTAhpZDwzA15qJlKwiYhcZHyVbQ1AgkpDE0bkTj\n",
       "M25AV8EtAM/1SID3ALo6WXSBOwwMACqRV68NTrMaAAAAAElFTkSuQmCC\n",
       "\" style=\"display:inline;vertical-align:middle;\" /></a></td></tr>\n",
       "<tr><td>2</td><td>Literal</td><td></td><td><a class=\"ProveItLink\" href=\"../../../conjunction/__pv_it/76b5f4f4c45c0b6a9b59b297fc07dfa9555698f50/expr.ipynb\"><img src=\"data:image/png;base64,iVBORw0KGgoAAAANSUhEUgAAAAwAAAAOBAMAAADpk+DfAAAALVBMVEX///+qqqqYmJh2dnaIiIi6\n",
       "urpUVFQiIiJERETMzMxmZmYyMjLu7u7c3NwAAABvwqPxAAAAAXRSTlMAQObYZgAAAEtJREFUCNdj\n",
       "YGDgPcAAAtwLwNSMGjCV6gIieTawgyhmBS4BIMXOwLsBSKkwMGQCKaC6aQwMjEBd3BdACMScAVJd\n",
       "wJAKolwYAkAUKwAk0guX6efcigAAAABJRU5ErkJggg==\n",
       "\" style=\"display:inline;vertical-align:middle;\" /></a></td></tr>\n",
       "<tr><td>3</td><td>ExprTuple</td><td>4, 5</td><td><a class=\"ProveItLink\" href=\"../a4ae5f127c3580803aa9e6b60ed698d7a61fef460/expr.ipynb\"><img src=\"data:image/png;base64,iVBORw0KGgoAAAANSUhEUgAAAFEAAAAVBAMAAADMaB9/AAAAMFBMVEX////c3NwiIiJERESqqqqY\n",
       "mJh2dnZmZmYQEBDu7u4yMjJUVFTMzMyIiIi6uroAAAAs73DqAAAAAXRSTlMAQObYZgAAAM9JREFU\n",
       "KM9jYCAe8F0gQlEciDiNJMCIrqtICQSUGdgPADkrkSR4CjCNOw4mFzAw8F4gSmUYAwPHBKJUzmBg\n",
       "eMVAlEpmB4Yy4lSyFTAsJU4lywKGPgYGdnBQJKCoBAePGkIlXwPDP5hxGzDNPI1QyfOBBJUtxKkE\n",
       "2m6KqXICFpWsCxjSYcIHYCo5P8GDAiWUHsHtAgVBk5KSAWe/ALITjoFJrgcMHAKY6RBTCBSbrAkY\n",
       "oqxYEmguWqrDqZITmOoYpDGEsWQCbgFs6RwbuMPAAAD6DTfaNXxqRgAAAABJRU5ErkJggg==\n",
       "\" style=\"display:inline;vertical-align:middle;\" /></a></td></tr>\n",
       "<tr><td>4</td><td>Operation</td><td>operator:&nbsp;7<br>operand:&nbsp;6<br></td><td><a class=\"ProveItLink\" href=\"../../../negation/__pv_it/01165fd25131c0df966b8e8c1626e275fd04f3050/expr.ipynb\"><img src=\"data:image/png;base64,iVBORw0KGgoAAAANSUhEUgAAABwAAAAOBAMAAADOPWE3AAAAIVBMVEX///9EREQQEBCIiIjc3NxU\n",
       "VFTMzMx2dnYiIiJmZmYAAADo3DW1AAAAAXRSTlMAQObYZgAAACVJREFUCNdjYIADZwYUkEll7owO\n",
       "IGhHlU2lgMuGbhHQgqaOjkYA4xoNxELsxwMAAAAASUVORK5CYII=\n",
       "\" style=\"display:inline;vertical-align:middle;\" /></a></td></tr>\n",
       "<tr><td>5</td><td>Operation</td><td>operator:&nbsp;7<br>operand:&nbsp;8<br></td><td><a class=\"ProveItLink\" href=\"../64bca6f824ebeb308ac4ae8ae73cb3543228f2c30/expr.ipynb\"><img src=\"data:image/png;base64,iVBORw0KGgoAAAANSUhEUgAAABwAAAAOBAMAAADOPWE3AAAAGFBMVEX///9ERERUVFTMzMx2dnYi\n",
       "IiJmZmYAAADORshHAAAAAXRSTlMAQObYZgAAACZJREFUCNdjYICA1FAQCGRAADMGFEAxF2xDCKqs\n",
       "EQVcZiwWmQAxANt2B/RO11f4AAAAAElFTkSuQmCC\n",
       "\" style=\"display:inline;vertical-align:middle;\" /></a></td></tr>\n",
       "<tr><td>6</td><td>Literal</td><td></td><td><a class=\"ProveItLink\" href=\"../../../__pv_it/8f1f7fac882de28c72b62ab80a1700b6d8fd066b0/expr.ipynb\"><img src=\"data:image/png;base64,iVBORw0KGgoAAAANSUhEUgAAAA4AAAAOBAMAAADtZjDiAAAAG1BMVEX///9EREQQEBAiIiJmZmbM\n",
       "zMyIiIjc3NwAAACryk5kAAAAAXRSTlMAQObYZgAAABlJREFUCNdjYGBgKGOAgBBa0s7GxkbGxoYA\n",
       "FMUF2aBfHgoAAAAASUVORK5CYII=\n",
       "\" style=\"display:inline;vertical-align:middle;\" /></a></td></tr>\n",
       "<tr><td>7</td><td>Literal</td><td></td><td><a class=\"ProveItLink\" href=\"../../../negation/__pv_it/7bea79645543c2413aa17e787cca04e21046fde60/expr.ipynb\"><img src=\"data:image/png;base64,iVBORw0KGgoAAAANSUhEUgAAAAwAAAAGBAMAAAAFwGKyAAAAFVBMVEX///9UVFTMzMx2dnYiIiJm\n",
       "ZmYAAACWz4ZEAAAAAXRSTlMAQObYZgAAABRJREFUCNdjCHEBAmcGMFDEQzEBAEl+Ai6uYJv/AAAA\n",
       "AElFTkSuQmCC\n",
       "\" style=\"display:inline;vertical-align:middle;\" /></a></td></tr>\n",
       "<tr><td>8</td><td>Literal</td><td></td><td><a class=\"ProveItLink\" href=\"../../../__pv_it/68a87cc3370287d726c7086ace789e680e4461c30/expr.ipynb\"><img src=\"data:image/png;base64,iVBORw0KGgoAAAANSUhEUgAAAA4AAAAOBAMAAADtZjDiAAAAFVBMVEX///92dnbMzMxEREQiIiJm\n",
       "ZmYAAABAT6GXAAAAAXRSTlMAQObYZgAAABhJREFUCNdjCHEBAWcGIFBlgABa0YpADAAxegPJJk4d\n",
       "XAAAAABJRU5ErkJggg==\n",
       "\" style=\"display:inline;vertical-align:middle;\" /></a></td></tr>\n",
       "</table>\n"
      ],
      "text/plain": [
       "0. [not]([not](FALSE) and [not](TRUE))\n",
       "   core type: Operation\n",
       "   operator: 7\n",
       "   operand: 1\n",
       "1. [not](FALSE) and [not](TRUE)\n",
       "   core type: Operation\n",
       "   operator: 2\n",
       "   operands: 3\n",
       "2. and\n",
       "   core type: Literal\n",
       "   sub-expressions: \n",
       "3. ([not](FALSE) , [not](TRUE))\n",
       "   core type: ExprTuple\n",
       "   sub-expressions: 4, 5\n",
       "4. [not](FALSE)\n",
       "   core type: Operation\n",
       "   operator: 7\n",
       "   operand: 6\n",
       "5. [not](TRUE)\n",
       "   core type: Operation\n",
       "   operator: 7\n",
       "   operand: 8\n",
       "6. FALSE\n",
       "   core type: Literal\n",
       "   sub-expressions: \n",
       "7. not\n",
       "   core type: Literal\n",
       "   sub-expressions: \n",
       "8. TRUE\n",
       "   core type: Literal\n",
       "   sub-expressions: "
      ]
     },
     "execution_count": 4,
     "metadata": {},
     "output_type": "execute_result"
    }
   ],
   "source": [
    "# display the expression information\n",
    "expr.exprInfo()"
   ]
  },
  {
   "cell_type": "code",
   "execution_count": null,
   "metadata": {},
   "outputs": [],
   "source": []
  }
 ],
 "metadata": {
  "kernelspec": {
   "display_name": "Python 3",
   "language": "python",
   "name": "python3"
  }
 },
 "nbformat": 4,
 "nbformat_minor": 0
}
