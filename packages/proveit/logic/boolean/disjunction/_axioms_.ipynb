{
 "cells": [
  {
   "cell_type": "markdown",
   "metadata": {},
   "source": [
    "Axioms for context <a href=\"_context_.ipynb\" class=\"ProveItLink\">proveit.logic.boolean.disjunction</a>\n",
    "========"
   ]
  },
  {
   "cell_type": "code",
   "execution_count": 1,
   "metadata": {},
   "outputs": [],
   "source": [
    "from proveit.logic import Equals, Or, TRUE, FALSE, Forall, inBool\n",
    "from proveit._common_ import A, B, BB, n\n",
    "from proveit.logic._common_ import iterB1n\n",
    "from proveit.number import Naturals"
   ]
  },
  {
   "cell_type": "code",
   "execution_count": 2,
   "metadata": {},
   "outputs": [
    {
     "name": "stdout",
     "output_type": "stream",
     "text": [
      "Defining axioms for context 'proveit.logic.boolean.disjunction'\n",
      "Subsequent end-of-cell assignments will define axioms\n",
      "%end_axioms will finalize the definitions\n"
     ]
    }
   ],
   "source": [
    "%begin axioms"
   ]
  },
  {
   "cell_type": "markdown",
   "metadata": {},
   "source": [
    "### Truth table definitions:"
   ]
  },
  {
   "cell_type": "code",
   "execution_count": 3,
   "metadata": {},
   "outputs": [
    {
     "data": {
      "text/html": [
       "<strong id=\"orTT\">orTT:</strong> <a class=\"ProveItLink\" href=\"__pv_it/48b0c13f1c96e6f89df672194b057d8d16aad20c0/expr.ipynb\"><img src=\"data:image/png;base64,iVBORw0KGgoAAAANSUhEUgAAAHAAAAAVBAMAAABs93eRAAAAMFBMVEX////c3NwiIiJERESqqqqY\n",
       "mJh2dnZmZmYQEBDu7u4yMjJUVFTMzMyIiIi6uroAAAAs73DqAAAAAXRSTlMAQObYZgAAAQlJREFU\n",
       "OMtjYCAb8F3AJxuHW+o0A7sSGBggixaBhZQZ2A+gq4fJMKwE8XgKIKIPwBwI+ziYXIDFLrAM7wVk\n",
       "jXtAxF1kjWG4NHJMQNZ4GERoImucgUvjKwZkjVwCDAwsBcgamR1waCxD0QjSBNKM0MhWgEPjUhSN\n",
       "IGceRpZmYAGHTtUqEFiNLNOHqhEYMPtQNPI14LDxH6pGJgbOBSgaeT4Qp5HdgS2AOI0tqBoZFzAx\n",
       "YHEqPLkgZExRNTLsiUXVyLoAh43paBoPa6JqxBkdjyAaE2CCXHCFxyD8B5gawTIcAqiCPBNQ+TNw\n",
       "5SrWBPzZNRenzEq8+jgX4JSSxquRWwCnFCPeouMOLgkAfLBH+h87w1cAAAAASUVORK5CYII=\n",
       "\" style=\"display:inline;vertical-align:middle;\" /></a><br>"
      ],
      "text/plain": [
       "orTT: (TRUE or TRUE) = TRUE"
      ]
     },
     "execution_count": 3,
     "metadata": {},
     "output_type": "execute_result"
    }
   ],
   "source": [
    "orTT = Equals(Or(TRUE, TRUE), TRUE)"
   ]
  },
  {
   "cell_type": "code",
   "execution_count": 4,
   "metadata": {},
   "outputs": [
    {
     "data": {
      "text/html": [
       "<strong id=\"orTF\">orTF:</strong> <a class=\"ProveItLink\" href=\"__pv_it/7a5641a953257265a1a49dd035aaef79e0c1ecb40/expr.ipynb\"><img src=\"data:image/png;base64,iVBORw0KGgoAAAANSUhEUgAAAHAAAAAVBAMAAABs93eRAAAAMFBMVEX////c3NwiIiJERESqqqqY\n",
       "mJh2dnZmZmYQEBDu7u4yMjJUVFTMzMyIiIi6uroAAAAs73DqAAAAAXRSTlMAQObYZgAAAQ5JREFU\n",
       "OMtjYCAb8F3AJxuHW+o0A7sSGBigSciCCPYD6OqLwIqVGRhWgng8BRDRB2AOhH0cTC7AYhdYhvcC\n",
       "ssY9IOIussYwXBo5JiBrPAwiNJE1zsCl8RUDskYuAQYGlgJkjcwOODSWoWgEaQJpRmhkK8ChcSmK\n",
       "RpAzDyNLM7CAQ6dqFQisRpbpQ9UIDJh9KBr5GnDY+A9VIxMD5wIUjTwfiNPI7sAWQJzGFlSNjAuY\n",
       "GLA4FZ5cEDKmqBoZ9sSiamRdgMPGdDSNhzVRNeKMjkcQjQkwQa4CWFLWALuN6wGmxmPgJCeAKsgz\n",
       "AZU/A1euYk3An11zccqsxKuPcwFOKWm8GrkFcEox4i067uCSAABseUdXOQ8BeQAAAABJRU5ErkJg\n",
       "gg==\n",
       "\" style=\"display:inline;vertical-align:middle;\" /></a><br>"
      ],
      "text/plain": [
       "orTF: (TRUE or FALSE) = TRUE"
      ]
     },
     "execution_count": 4,
     "metadata": {},
     "output_type": "execute_result"
    }
   ],
   "source": [
    "orTF = Equals(Or(TRUE, FALSE), TRUE)"
   ]
  },
  {
   "cell_type": "code",
   "execution_count": 5,
   "metadata": {},
   "outputs": [
    {
     "data": {
      "text/html": [
       "<strong id=\"orFT\">orFT:</strong> <a class=\"ProveItLink\" href=\"__pv_it/5ea183ee3a62eec21a5ad7170d73035cb12c98600/expr.ipynb\"><img src=\"data:image/png;base64,iVBORw0KGgoAAAANSUhEUgAAAHAAAAAVBAMAAABs93eRAAAAMFBMVEX////c3NwiIiJERESqqqqY\n",
       "mJh2dnZmZmYQEBDu7u4yMjJUVFTMzMyIiIi6uroAAAAs73DqAAAAAXRSTlMAQObYZgAAAQtJREFU\n",
       "OMtjYCAb8F3AJxuHW+o0iGBE112kBALKDOwHGHDIMKwE8XgKIKIPwBwI+ziYXIDFLrAM7wVkjXtA\n",
       "xF1kjWG4NHJMQNZ4GERoImucgUvjKwZkjVwCDAwsBcgamR1waCxD0QjSBNKM0MhWgEPjUhSNIGce\n",
       "RpZmYAGHTtUqEFiNLNOHqhEYMPtQNPI14LDxH6pGJgbOBSgaeT4Qp5HdgS2AOI0tqBoZFzAxYHEq\n",
       "PLkgZExRNTLsiUXVyLoAh43paBoPa6JqxBkdj4D+ArqiSUnJAJIE4AqPQfgPMDWCZTgEUAV5JqDy\n",
       "Z+DKVawJ+LNrLk6ZlXj1cS7AKSWNVyO3AE4pRrxFxx1cEgDs8Ui/5ZhoRQAAAABJRU5ErkJggg==\n",
       "\" style=\"display:inline;vertical-align:middle;\" /></a><br>"
      ],
      "text/plain": [
       "orFT: (FALSE or TRUE) = TRUE"
      ]
     },
     "execution_count": 5,
     "metadata": {},
     "output_type": "execute_result"
    }
   ],
   "source": [
    "orFT = Equals(Or(FALSE, TRUE), TRUE)"
   ]
  },
  {
   "cell_type": "code",
   "execution_count": 6,
   "metadata": {},
   "outputs": [
    {
     "data": {
      "text/html": [
       "<strong id=\"orFF\">orFF:</strong> <a class=\"ProveItLink\" href=\"__pv_it/0ed976e03d3d7070b42aaf5485813e9ab228404b0/expr.ipynb\"><img src=\"data:image/png;base64,iVBORw0KGgoAAAANSUhEUgAAAHAAAAAVBAMAAABs93eRAAAAMFBMVEX////c3NwiIiJERESqqqqY\n",
       "mJh2dnZmZmYQEBDu7u4yMjJUVFTMzMyIiIi6uroAAAAs73DqAAAAAXRSTlMAQObYZgAAAQ5JREFU\n",
       "OMtjYCAb8F3AJxuHW+o0iGDEolsWRLAfYMAhw7ASRPAUQIQegDkQ9nEwuQCLRrAM7wVkjXtAxF1k\n",
       "jWG4NHJMQNZ4GERoImucgUvjKwZkjVwCDAwsBcgamR1waCxD0QjSBNKM0MhWgEPjUhSNIGceRpZm\n",
       "YAGHTtUqEFiNLNOHqhEYMPtQNPI14LDxH6pGJgbOBSgaeT4Qp5HdgS2AOI0tqBoZFzAxYHFqkRII\n",
       "KCPLmKJqZNgTi6qRdQEOG9PRNB7WRNWIMzoeAf0FdEWTkpIBJAlAFALdpgF2G9cDNF0wGQ4BVHGe\n",
       "Caj8GbhyFWsC/uyai1NmJV59nAtwSknj1cgtgFOKEW/RcQeXBADdEUd5x52DOAAAAABJRU5ErkJg\n",
       "gg==\n",
       "\" style=\"display:inline;vertical-align:middle;\" /></a><br>"
      ],
      "text/plain": [
       "orFF: (FALSE or FALSE) = FALSE"
      ]
     },
     "execution_count": 6,
     "metadata": {},
     "output_type": "execute_result"
    }
   ],
   "source": [
    "orFF = Equals(Or(FALSE, FALSE), FALSE)"
   ]
  },
  {
   "cell_type": "markdown",
   "metadata": {},
   "source": [
    "### Disjunction only well-defined when each input is a Boolean:"
   ]
  },
  {
   "cell_type": "code",
   "execution_count": 7,
   "metadata": {},
   "outputs": [
    {
     "data": {
      "text/html": [
       "<strong id=\"leftInBool\">leftInBool:</strong> <a class=\"ProveItLink\" href=\"__pv_it/42912f9c1ccc206b42f4708248a5367e2ec89beb0/expr.ipynb\"><img src=\"data:image/png;base64,iVBORw0KGgoAAAANSUhEUgAAANQAAAAXBAMAAACBjHwxAAAAMFBMVEX///8QEBC6urrMzMxUVFRm\n",
       "ZmZERETc3NwyMjKqqqp2dnaIiIiYmJgiIiLu7u4AAAAU9Wx4AAAAAXRSTlMAQObYZgAAA2RJREFU\n",
       "SMe9ll9IU1Ecx7+7+3P13u26h6BeiglSD1buQSiKcJSoD4ELXb4UraJJULoHUSqkFYgEpXtICfJh\n",
       "CNXqQZakEHtoQYUV0XowopT2YCGEZYmz0KzfOfeue93WHmJ04Z7f+Xd/n3N+v9/5nQv8vydVNE2V\n",
       "hQbtLiDJKs+LQDJ7VJFc2x1N9194HQaagNus3VcEVIlqn5L5rH5/pdJ3h/qBTmqJ/iKg4qp4sZqD\n",
       "wihx7BG+GGu4CKhNvBQHltTmpyvTbzKoIUsKihP2W11d3UUgCSEuZPmb6rLLKcOumOlOAulA4G0B\n",
       "FaI7t680zzxrhIvtpStcdqZ0A5qn2kjeAPYBrbyvl5eDi746rl1QZ57lvg5mIO2+5uMwR/JERYKV\n",
       "isu8zJutuq+2vf8aI3kNqIDC925Xd253Qnayik2byYqXrsyHD4G7wLDWmohGD2lVk0tdn7jIkX5j\n",
       "WMQHSZYDDsh8QR/UnVs9EJZ0VClbkHIkASbpbQaqgphlnWO+hCwpo9oqyrisrq1Nc+TG6Wk9LGwC\n",
       "maGGHJlwcLuOTPIRRwzWpI6yMdNJc17cJ7fRIX0HHAYsZOLxLZ9TsoSRhBFFxQbDec6gmG0IpYSq\n",
       "+WAswEe+uDER1FEmVuy2+VnTEoSyADv5VI7B7mXxJgljmv9NYS1eXnEDJnNQ5cyDe1mPha2Wnqr4\n",
       "vTboqJ2s8NA+ZRc6yDDL8TrSLXjY6SeU9cCUptHGdneG3n7e3L8GxQw4QfUBvoKneKDmLHJ9SkdV\n",
       "sEgJy/PM0fVkyhDsdFbNIeziKAlNMVWj5IUaX+386zmXAfV4XA12mLjnJ33qnBNkw7COuso+8x2k\n",
       "bDPMXGXzQvnBUXsCgUCMUBEt8IUkxKPfg3jyq4cfxx73n3R7eh1TeJEtmiGsQdTwQVJU5dZRm+lt\n",
       "gXkB+EhTUBaGQHXBjxltVxkU1mcd8wYtArVHcWZqW0lNQuyFuApx0uCrOdJLXqCDID2i5vkUur08\n",
       "d1qCKqpFMyCeFU5cUmbeTBpi45R5BdFFX0PYgHKklEY/On4mWPBB6vc1X2I2cEE5xo/wzVNZl8jf\n",
       "ntnsu9JQV1GynvSDhizElkm+WpMsPQVR9VntHTkoJe9Vdj1f57lCJDk7aydyUBjK96GnuP83Fs2m\n",
       "eS4R6Z/+fX4DaXba1HhLEuQAAAAASUVORK5CYII=\n",
       "\" style=\"display:inline;vertical-align:middle;\" /></a><br>"
      ],
      "text/plain": [
       "leftInBool: forall_{A, B | (A or B) in BOOLEANS} (A in BOOLEANS)"
      ]
     },
     "execution_count": 7,
     "metadata": {},
     "output_type": "execute_result"
    }
   ],
   "source": [
    "leftInBool = Forall((A, B), inBool(A), conditions=[inBool(Or(A, B))]) "
   ]
  },
  {
   "cell_type": "code",
   "execution_count": 8,
   "metadata": {},
   "outputs": [
    {
     "data": {
      "text/html": [
       "<strong id=\"rightInBool\">rightInBool:</strong> <a class=\"ProveItLink\" href=\"__pv_it/ac47f413fc43974c8c1ca8b88e9de529306917c20/expr.ipynb\"><img src=\"data:image/png;base64,iVBORw0KGgoAAAANSUhEUgAAANUAAAAXBAMAAABuThcPAAAAMFBMVEX///8QEBC6urrMzMxUVFRm\n",
       "ZmZERETc3NwyMjKqqqp2dnaIiIiYmJgiIiLu7u4AAAAU9Wx4AAAAAXRSTlMAQObYZgAAAzFJREFU\n",
       "SMe9Vk1oE0EU/rL52XZ3u+1NQSo5FAsqmIOgCKVBS60gtiKxBxVXwVRBNIfSiiIGQerBnx7Uix6C\n",
       "B40oZalWkB66epCqB9tDQaSBFKoUpSrSH5VifTM7+5M05iDBgZ3svG/yvnnfvDezwH9s+Yp52lAW\n",
       "fUHPGHt5UwGqYBzQ2udaWi8WmJXrx3/UnwDCMeABM1yrAFcVUyhgAIejBfaIZM58ygBpoIeGslEB\n",
       "rmHWNZv0xIu51CgRvbaXE+6vANda1o2kgLcZPv58NfdOcFVbe4Apkvh+b+/5ClBJadYfoWecp1vw\n",
       "St6Lq5GEi1BAC8nk+zI+5NhKW3WJeWEezRxw5hQf9+Q9DZte0kDpAHYAXdzYx/tb84lW7l6yp571\n",
       "YQ4czJRIDYsFMzc8NGmPu7z9yi2vYQukwBug8/C17xzS6qDW8Tn2VMOHufBdMRrNZg+K1wDLPnUR\n",
       "mOWpoRv+3HhGI4m81kBlS8KHJVuLOKRFj6vaFJjKXDnwDPM2lLBURR8UGV7LfiPkT+V+pPpczs0N\n",
       "GOsp5m+EWTVc2oEJ/p8aE+ExjyuSEphKW9vtwCFS+Wnjl7yqYMDycdWyev7lVLYbF4yIzaWnN3PQ\n",
       "THLoawyjKY8r4GIkw04HVk1oHSxQRRoSORBgddNMxKGfXMOxYi6mIbq2M1MIhzi0afiJnUg211YX\n",
       "G4Qcd2ApjioGqOG9k45LS5TXBb772F3ARRpqzH6TL+EVRjiUBZ7nPa4GF/uIUMqBg2ls41wK9pni\n",
       "3Ouwyyu42g50NupxaQcMMSHAZusTidN80jHSqd/juuFiSrTbhYmrKZlMmsSVEfkv0Yr3L7e0XBb7\n",
       "J1+KOWfvwvguVhSMXGMc4RSaOUhqb4p5XOtcTDc6XVgyMC3icriwqrjg2+w8dNqU+7aRksiS+yD/\n",
       "hjzh269ZBwMe0XYJWMtwQRlXp9CQna1l20PnZXoBcvtkcAnZ+URbv4+L6sHGeAo6cDgK/Siv5Xsn\n",
       "C+6Uvzf7wPA1zX8X8F71rgDZdyCxjaD9Kjg442W5uA7+tmUFl17yartdyniuLNfjYoO1ggt3Sv0x\n",
       "XuGPnpCQtcSdovzbB9EfeYTmUbMVfMAAAAAASUVORK5CYII=\n",
       "\" style=\"display:inline;vertical-align:middle;\" /></a><br>"
      ],
      "text/plain": [
       "rightInBool: forall_{A, B | (A or B) in BOOLEANS} (B in BOOLEANS)"
      ]
     },
     "execution_count": 8,
     "metadata": {},
     "output_type": "execute_result"
    }
   ],
   "source": [
    "rightInBool = Forall((A, B), inBool(B), conditions=[inBool(Or(A, B))]) "
   ]
  },
  {
   "cell_type": "markdown",
   "metadata": {},
   "source": [
    "### Definition of multi-operand disjunction"
   ]
  },
  {
   "cell_type": "code",
   "execution_count": 9,
   "metadata": {},
   "outputs": [
    {
     "data": {
      "text/html": [
       "<strong id=\"emptyDisjunction\">emptyDisjunction:</strong> <a class=\"ProveItLink\" href=\"__pv_it/c74fdd55c2b3a6b890ab5084a5d9b094f36b11ca0/expr.ipynb\"><img src=\"data:image/png;base64,iVBORw0KGgoAAAANSUhEUgAAAFYAAAAVBAMAAAAutAQGAAAAMFBMVEX///8QEBCYmJhmZmaqqqrc\n",
       "3Nzu7u5ERERUVFS6urp2dnbMzMwyMjIiIiKIiIgAAACFNc/vAAAAAXRSTlMAQObYZgAAAQRJREFU\n",
       "KM9jYCABvD0NZejcBFPzGDRxql2JyuJuYGDegEVZHEQFJ5izAaKWJ4GB4QAWtZshajlA5vA9gKh9\n",
       "B8RauNVyFwAp3gSIWjEgTsStluEokHKGuJcTZD+7A261QHUg9SC1zAuABJcBbrVA+0HuAKnlUQAS\n",
       "LGDP2ZwBgRNoaoH+4pgAUcs4AeQQAdzmMlxgyIGy+EFquT/gUWvCsIhotTFAk6FucIC7wfYuCFxH\n",
       "V8ux6QGUxQ7yG9MBPOZy1yZAWeDgwhdmDAyHYSxOkGN4JqApBDrnIsg5YLXb4LpEccQxtjQJSjfr\n",
       "iFQLTJNsB4hUy9rAwBGAMw/dhjFuQjPAa1xKAVQWWNudGTuhAAAAAElFTkSuQmCC\n",
       "\" style=\"display:inline;vertical-align:middle;\" /></a><br>"
      ],
      "text/plain": [
       "emptyDisjunction: [or]() = FALSE"
      ]
     },
     "execution_count": 9,
     "metadata": {},
     "output_type": "execute_result"
    }
   ],
   "source": [
    "emptyDisjunction = Equals(Or(), FALSE) # base case"
   ]
  },
  {
   "cell_type": "code",
   "execution_count": 10,
   "metadata": {},
   "outputs": [
    {
     "data": {
      "text/html": [
       "<strong id=\"multiDisjunctionDef\">multiDisjunctionDef:</strong> <a class=\"ProveItLink\" href=\"__pv_it/9a806b676683e82c348f434336edfdc1c84664e50/expr.ipynb\"><img src=\"data:image/png;base64,iVBORw0KGgoAAAANSUhEUgAAAh8AAAAWBAMAAACS4+MDAAAAMFBMVEX///8QEBC6urrMzMxUVFRm\n",
       "ZmZERETc3NwyMjKqqqp2dnaIiIiYmJgiIiLu7u4AAAAU9Wx4AAAAAXRSTlMAQObYZgAABbdJREFU\n",
       "WMPtWF9oW1UY/5KbNGlyc9M5mQ5hjSgiDGkREXFqgw72sIcGtcqmrtWHDNHRPJR2Ml0uwmwf3BqQ\n",
       "gW/2YfMPGxjdi7hB48qGVLEBQUXomvkwC2tro/vTbU2v3/l3c869uel61zc9cG5O7nd/9/ed3znn\n",
       "O9+5AP8XtVSa2OK/PdMUGyyy2m9hubvz9klXA+gp972t4I+shTxffY7/O+tNiCb9cArK5P8PjR+L\n",
       "pRL06aIH12O8GqNbFv7s/+f2BWkKeBrrC667Wtov2Wx1YWHQ4gqGOz0JiSmWgi/IrSNegsQK+BP1\n",
       "mkVHBNTqA8hfFfOGXt3EdNQ11lYADsQooXShqRO+yJLXACJWhhtMpyt1QpMKMoitSJ+XINQy6LWi\n",
       "iqyCZuE1f4XfDnVym6PQWXuaDbcCUBH6DHZdH3OiT4Nfsq5bRJA0N0w6rBLhJBWEKB8ueAlCx2SX\n",
       "hyCBCqsQJxNyallMbiJiwj2rHieXC0xKBaAi3unN4bpoc6K3gF+ycVxeulXihosOq0R4kfZY/2xo\n",
       "6D3wFGRyaGio7GF+mFeMW3iZMcX9YaxH3Y9Hkbc1Aw0ACqI4Tib0m874bfom619EyZbsGFtQrRIh\n",
       "mrDHcC2b/d1bkGQ2u2/Mw7ybV0gi3RP2AqD+DbsfJx4QT9wAGRGsfEIG87gDHB7zTWaZoI2m7T5l\n",
       "VKtEiCYiCK6nvd6C4BptyQnJ8U57dUNNrNgPeYWu6sjhaoHPXzqDtUZR6QKfq3WAKBLiD+gi7/+Y\n",
       "qjBCC+lMtOSXTLPuHZnZXFfKVF2RCNFEBHkQDFPe3g49D1/tsQUJpmGWtqdYajCVgahYv3fxClM3\n",
       "AC4tgfZiWQTbUINEgkSxZ1mLA+TwLBApyJMxvN8Zr1J+yXSrAEa/3cVgm+qKRIgmIkgC4iLgwOWe\n",
       "V+F8rBKr2IJgnnKGZg697CH8iYkt729eoXsF32aNQSuPNmUuoqMkbOkFwC42Qtu+vZsMeJcDm0z5\n",
       "JQtZ2JuOm/aAL6quSIRoIj2Ol+wgHX/j4AL8WMzIgpxh0Tg2z2LQTA6iN5yCtJeJj2nbx11wspGP\n",
       "4UKMSy8AdrERmFcEzKaCrJUsUMNLxxVVkLorEiEXxDAx/9Nf2XoM4Bx5YuKjA7IgszRFhG0tbKFi\n",
       "iO8VI7uZV5r1xDA9ED7uh4YbU8RM8AYHMFYFgcEh0SaWTHiaFsIcKPglozncl7fg3Nffpu0lY1tl\n",
       "Qr5kYC+uprmOUqKTZXETsbknJUFaBugKTYcpbbCafd0OUG/zSlYp5HEghI+hp1jcNcRhyeDZEj8i\n",
       "CABjlRERNETJGH7vPJGUViOryIQSGYk5EatsnF2GnwneVKwyoc6CKhzFNx/8BpI5jQ79BIwdkwRp\n",
       "fY12oRCnUy1+U5ohx3kNWTmYa/+17qO2j73gL/xv1HiD5EM8FxIAyqogSDhoWWmw7dLdshmZzUMb\n",
       "Eln3dTC+q+Uil024Ll5Ut8qEfNuFAFF4J84Z7Zds9i0U5N15SRC4j7Tme15aoQOFy7hjkTv5CKtJ\n",
       "epwkoyd8hEM8K8TJbmziDbJ3MmfqgJ32bsIQg+3DoPcv4WPvOxOz8ipkNg9t1MnI89YmnF+hIl0t\n",
       "0ZRsVQjRRHusk+5vhJ6gkWYzJLhNFuQn0noZNHq+DKAY42ILC+RYre/xwkePrwaaM8UmrA0R7tT9\n",
       "HrhDskBnOJPiqbvbWk/d+VJahI0PwA4mCEzKgtDxQYWXYX8O8ia0VsXZkhyIlFNYa3lt32IYa8OU\n",
       "0HVcm4Q7JMtD4FH0/AR4Ep6Qe9wHu0twCf8GP8D0FFRBDNypB2qlrlK0vTa9YY/7+M/79/nV4pp8\n",
       "ZKwNv2E0Of77JHsIwidBTUJVQsOUBOHlU4whauquFKfzA7yuf9nhnk3pdSEL5TwJiSmWaoqOTytf\n",
       "XjTnyyJFVte9xBt81zoA60F2ypvwFOlwai0v0/8L35j/BUMaTTTl19uLAAAAAElFTkSuQmCC\n",
       "\" style=\"display:inline;vertical-align:middle;\" /></a><br>"
      ],
      "text/plain": [
       "multiDisjunctionDef: forall_{n in Naturals} [forall_{A, B} ((B_1 or  ...  or B_n or A) = ((B_1 or  ...  or B_n) or A))]"
      ]
     },
     "execution_count": 10,
     "metadata": {},
     "output_type": "execute_result"
    }
   ],
   "source": [
    "multiDisjunctionDef = Forall(n, Forall((A, BB), Equals(Or(iterB1n, A), Or(Or(iterB1n), A))),\n",
    "                             domain=Naturals)"
   ]
  },
  {
   "cell_type": "code",
   "execution_count": 11,
   "metadata": {},
   "outputs": [
    {
     "name": "stdout",
     "output_type": "stream",
     "text": [
      "Axioms may be imported from autogenerated _axioms_.py\n"
     ]
    }
   ],
   "source": [
    "%end axioms"
   ]
  },
  {
   "cell_type": "code",
   "execution_count": null,
   "metadata": {},
   "outputs": [],
   "source": []
  }
 ],
 "metadata": {
  "kernelspec": {
   "display_name": "Python 3",
   "language": "python",
   "name": "python3"
  }
 },
 "nbformat": 4,
 "nbformat_minor": 0
}
