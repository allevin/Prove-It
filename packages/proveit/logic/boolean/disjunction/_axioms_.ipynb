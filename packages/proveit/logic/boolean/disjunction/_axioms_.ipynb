{
 "cells": [
  {
   "cell_type": "markdown",
   "metadata": {
    "collapsed": true
   },
   "source": [
    "Axioms for context <a href=\"_context_.ipynb\" class=\"ProveItLink\">proveit.logic.boolean.disjunction</a>\n",
    "========"
   ]
  },
  {
   "cell_type": "code",
   "execution_count": 1,
   "metadata": {},
   "outputs": [],
   "source": [
    "from proveit.logic import Equals, Or, TRUE, FALSE, Forall, inBool\n",
    "from proveit._common_ import A, B, AA, BB, n, m\n",
    "from proveit.logic._common_ import iterB1n, iterA1m\n",
    "from proveit.number import Naturals"
   ]
  },
  {
   "cell_type": "code",
   "execution_count": 2,
   "metadata": {},
   "outputs": [
    {
     "name": "stdout",
     "output_type": "stream",
     "text": [
      "Defining axioms for context 'proveit.logic.boolean.disjunction'\n",
      "Subsequent end-of-cell assignments will define axioms\n",
      "%end_axioms will finalize the definitions\n"
     ]
    }
   ],
   "source": [
    "%begin axioms"
   ]
  },
  {
   "cell_type": "markdown",
   "metadata": {},
   "source": [
    "### Truth table definitions:"
   ]
  },
  {
   "cell_type": "code",
   "execution_count": 3,
   "metadata": {},
   "outputs": [
    {
     "data": {
      "text/html": [
       "<strong id=\"orTT\">orTT:</strong> <a class=\"ProveItLink\" href=\"__pv_it/46b4be8c4870bb7ea30d42f7deef7401936813fb0/expr.ipynb\"><img src=\"__pv_it/46b4be8c4870bb7ea30d42f7deef7401936813fb0/expr.png\" style=\"display:inline;vertical-align:middle;\" /></a><br>"
      ],
      "text/plain": [
       "orTT: (TRUE or TRUE) = TRUE"
      ]
     },
     "execution_count": 3,
     "metadata": {},
     "output_type": "execute_result"
    }
   ],
   "source": [
    "orTT = Equals(Or(TRUE, TRUE), TRUE)"
   ]
  },
  {
   "cell_type": "code",
   "execution_count": 4,
   "metadata": {},
   "outputs": [
    {
     "data": {
      "text/html": [
       "<strong id=\"orTF\">orTF:</strong> <a class=\"ProveItLink\" href=\"__pv_it/c6a5e272e6b810bb3e810161783e4a60ed64985c0/expr.ipynb\"><img src=\"__pv_it/c6a5e272e6b810bb3e810161783e4a60ed64985c0/expr.png\" style=\"display:inline;vertical-align:middle;\" /></a><br>"
      ],
      "text/plain": [
       "orTF: (TRUE or FALSE) = TRUE"
      ]
     },
     "execution_count": 4,
     "metadata": {},
     "output_type": "execute_result"
    }
   ],
   "source": [
    "orTF = Equals(Or(TRUE, FALSE), TRUE)"
   ]
  },
  {
   "cell_type": "code",
   "execution_count": 5,
   "metadata": {},
   "outputs": [
    {
     "data": {
      "text/html": [
       "<strong id=\"orFT\">orFT:</strong> <a class=\"ProveItLink\" href=\"__pv_it/c943d61c9bb2a5110cd67bf9ab27bf15a75aa0e50/expr.ipynb\"><img src=\"__pv_it/c943d61c9bb2a5110cd67bf9ab27bf15a75aa0e50/expr.png\" style=\"display:inline;vertical-align:middle;\" /></a><br>"
      ],
      "text/plain": [
       "orFT: (FALSE or TRUE) = TRUE"
      ]
     },
     "execution_count": 5,
     "metadata": {},
     "output_type": "execute_result"
    }
   ],
   "source": [
    "orFT = Equals(Or(FALSE, TRUE), TRUE)"
   ]
  },
  {
   "cell_type": "code",
   "execution_count": 6,
   "metadata": {},
   "outputs": [
    {
     "data": {
      "text/html": [
       "<strong id=\"orFF\">orFF:</strong> <a class=\"ProveItLink\" href=\"__pv_it/bd62208cdf94c89676249e4a516e50ad1c7d43c40/expr.ipynb\"><img src=\"__pv_it/bd62208cdf94c89676249e4a516e50ad1c7d43c40/expr.png\" style=\"display:inline;vertical-align:middle;\" /></a><br>"
      ],
      "text/plain": [
       "orFF: (FALSE or FALSE) = FALSE"
      ]
     },
     "execution_count": 6,
     "metadata": {},
     "output_type": "execute_result"
    }
   ],
   "source": [
    "orFF = Equals(Or(FALSE, FALSE), FALSE)"
   ]
  },
  {
   "cell_type": "markdown",
   "metadata": {},
   "source": [
    "### Disjunction only well-defined when each input is a Boolean:"
   ]
  },
  {
   "cell_type": "code",
   "execution_count": 7,
   "metadata": {},
   "outputs": [
    {
     "data": {
      "text/html": [
       "<strong id=\"leftInBool\">leftInBool:</strong> <a class=\"ProveItLink\" href=\"__pv_it/94162ab70561f2f886bf06ddaddd570d94ddf79f0/expr.ipynb\"><img src=\"__pv_it/94162ab70561f2f886bf06ddaddd570d94ddf79f0/expr.png\" style=\"display:inline;vertical-align:middle;\" /></a><br>"
      ],
      "text/plain": [
       "leftInBool: forall_{A, B | (A or B) in BOOLEANS} (A in BOOLEANS)"
      ]
     },
     "execution_count": 7,
     "metadata": {},
     "output_type": "execute_result"
    }
   ],
   "source": [
    "leftInBool = Forall((A, B), inBool(A), conditions=[inBool(Or(A, B))]) "
   ]
  },
  {
   "cell_type": "code",
   "execution_count": 8,
   "metadata": {},
   "outputs": [
    {
     "data": {
      "text/html": [
       "<strong id=\"rightInBool\">rightInBool:</strong> <a class=\"ProveItLink\" href=\"__pv_it/a6ed2b91de49855cebfb7b61df4028e40551d2c20/expr.ipynb\"><img src=\"__pv_it/a6ed2b91de49855cebfb7b61df4028e40551d2c20/expr.png\" style=\"display:inline;vertical-align:middle;\" /></a><br>"
      ],
      "text/plain": [
       "rightInBool: forall_{A, B | (A or B) in BOOLEANS} (B in BOOLEANS)"
      ]
     },
     "execution_count": 8,
     "metadata": {},
     "output_type": "execute_result"
    }
   ],
   "source": [
    "rightInBool = Forall((A, B), inBool(B), conditions=[inBool(Or(A, B))]) "
   ]
  },
  {
   "cell_type": "markdown",
   "metadata": {},
   "source": [
    "### Definition of multi-operand disjunction"
   ]
  },
  {
   "cell_type": "code",
   "execution_count": 9,
   "metadata": {},
   "outputs": [
    {
     "data": {
      "text/html": [
       "<strong id=\"emptyDisjunction\">emptyDisjunction:</strong> <a class=\"ProveItLink\" href=\"__pv_it/8d834758e2b646b2fba761fbe361d0a652de93c70/expr.ipynb\"><img src=\"__pv_it/8d834758e2b646b2fba761fbe361d0a652de93c70/expr.png\" style=\"display:inline;vertical-align:middle;\" /></a><br>"
      ],
      "text/plain": [
       "emptyDisjunction: [or]() = FALSE"
      ]
     },
     "execution_count": 9,
     "metadata": {},
     "output_type": "execute_result"
    }
   ],
   "source": [
    "emptyDisjunction = Equals(Or(), FALSE) # base case"
   ]
  },
  {
   "cell_type": "code",
   "execution_count": 10,
   "metadata": {},
   "outputs": [
    {
     "data": {
      "text/html": [
       "<strong id=\"multiDisjunctionDef\">multiDisjunctionDef:</strong> <a class=\"ProveItLink\" href=\"__pv_it/3dc8194137d4ae8cf6636e21fc5465d72eb01b890/expr.ipynb\"><img src=\"__pv_it/3dc8194137d4ae8cf6636e21fc5465d72eb01b890/expr.png\" style=\"display:inline;vertical-align:middle;\" /></a><br>"
      ],
      "text/plain": [
       "multiDisjunctionDef: forall_{m in Naturals} [forall_{B, A} ((A_(1) or  ...  or A_(m) or B) = ((A_(1) or  ...  or A_(m)) or B))]"
      ]
     },
     "execution_count": 10,
     "metadata": {},
     "output_type": "execute_result"
    }
   ],
   "source": [
    "multiDisjunctionDef = Forall(m, Forall((B, AA), Equals(Or(iterA1m, B), Or(Or(iterA1m), B))),\n",
    "                             domain=Naturals)"
   ]
  },
  {
   "cell_type": "code",
   "execution_count": 11,
   "metadata": {},
   "outputs": [
    {
     "name": "stdout",
     "output_type": "stream",
     "text": [
      "Axioms may be imported from autogenerated _axioms_.py\n"
     ]
    }
   ],
   "source": [
    "%end axioms"
   ]
  },
  {
   "cell_type": "code",
   "execution_count": null,
   "metadata": {},
   "outputs": [],
   "source": []
  }
 ],
 "metadata": {
  "kernelspec": {
   "display_name": "Python 3",
   "language": "python",
   "name": "python3"
  },
  "language_info": {
   "codemirror_mode": {
    "name": "ipython",
    "version": 3
   },
   "file_extension": ".py",
   "mimetype": "text/x-python",
   "name": "python",
   "nbconvert_exporter": "python",
   "pygments_lexer": "ipython3",
   "version": "3.7.3"
  }
 },
 "nbformat": 4,
 "nbformat_minor": 1
}
