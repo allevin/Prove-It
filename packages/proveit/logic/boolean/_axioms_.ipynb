{
 "cells": [
  {
   "cell_type": "markdown",
   "metadata": {
    "collapsed": true
   },
   "source": [
    "Axioms for context <a href=\"_context_.ipynb\" class=\"ProveItLink\">proveit.logic.boolean</a>\n",
    "========"
   ]
  },
  {
   "cell_type": "code",
   "execution_count": 1,
   "metadata": {},
   "outputs": [],
   "source": [
    "import proveit\n",
    "from proveit.logic import Booleans, TRUE, FALSE, Forall, Equals, NotEquals, Union, Set\n",
    "from proveit._common_ import A"
   ]
  },
  {
   "cell_type": "code",
   "execution_count": 2,
   "metadata": {},
   "outputs": [
    {
     "name": "stdout",
     "output_type": "stream",
     "text": [
      "Defining axioms for context 'proveit.logic.boolean'\n",
      "Subsequent end-of-cell assignments will define axioms\n",
      "%end_axioms will finalize the definitions\n"
     ]
    }
   ],
   "source": [
    "%begin axioms"
   ]
  },
  {
   "cell_type": "markdown",
   "metadata": {},
   "source": [
    "**The `TRUE` literal ($\\top$) is itself a true statement as an axiom:**"
   ]
  },
  {
   "cell_type": "code",
   "execution_count": 3,
   "metadata": {},
   "outputs": [
    {
     "data": {
      "text/html": [
       "<strong id=\"trueAxiom\">trueAxiom:</strong> <a class=\"ProveItLink\" href=\"__pv_it/68a87cc3370287d726c7086ace789e680e4461c30/expr.ipynb\"><img src=\"__pv_it/68a87cc3370287d726c7086ace789e680e4461c30/expr.png\" style=\"display:inline;vertical-align:middle;\" /></a><br>"
      ],
      "text/plain": [
       "trueAxiom: TRUE"
      ]
     },
     "execution_count": 3,
     "metadata": {},
     "output_type": "execute_result"
    }
   ],
   "source": [
    "trueAxiom = TRUE"
   ]
  },
  {
   "cell_type": "markdown",
   "metadata": {},
   "source": [
    "**The set of booleans, $\\mathbb{B}$, is the set containing only `TRUE` ($\\top$) and `FALSE` ($\\bot$):**"
   ]
  },
  {
   "cell_type": "code",
   "execution_count": 4,
   "metadata": {},
   "outputs": [
    {
     "data": {
      "text/html": [
       "<strong id=\"boolsDef\">boolsDef:</strong> <a class=\"ProveItLink\" href=\"__pv_it/aa5390c906b6d4813c3789ada2f606bc3134f1390/expr.ipynb\"><img src=\"__pv_it/aa5390c906b6d4813c3789ada2f606bc3134f1390/expr.png\" style=\"display:inline;vertical-align:middle;\" /></a><br>"
      ],
      "text/plain": [
       "boolsDef: BOOLEANS = {TRUE , FALSE}"
      ]
     },
     "execution_count": 4,
     "metadata": {},
     "output_type": "execute_result"
    }
   ],
   "source": [
    "boolsDef = Equals(Booleans, Set(TRUE, FALSE))"
   ]
  },
  {
   "cell_type": "markdown",
   "metadata": {},
   "source": [
    "**`TRUE` ($\\top$) and `FALSE` ($\\bot$) are defined to be different from each other:**"
   ]
  },
  {
   "cell_type": "code",
   "execution_count": 5,
   "metadata": {},
   "outputs": [
    {
     "data": {
      "text/html": [
       "<strong id=\"falseNotTrue\">falseNotTrue:</strong> <a class=\"ProveItLink\" href=\"__pv_it/3e28545b304b5eec31fcc9e7531755af827b4bfc0/expr.ipynb\"><img src=\"__pv_it/3e28545b304b5eec31fcc9e7531755af827b4bfc0/expr.png\" style=\"display:inline;vertical-align:middle;\" /></a><br>"
      ],
      "text/plain": [
       "falseNotTrue: FALSE != TRUE"
      ]
     },
     "execution_count": 5,
     "metadata": {},
     "output_type": "execute_result"
    }
   ],
   "source": [
    "falseNotTrue = NotEquals(FALSE, TRUE)"
   ]
  },
  {
   "cell_type": "markdown",
   "metadata": {},
   "source": [
    "**When an expression is a KnownTruth, it is equal to `TRUE` and vice-versa:**"
   ]
  },
  {
   "cell_type": "code",
   "execution_count": 6,
   "metadata": {},
   "outputs": [
    {
     "data": {
      "text/html": [
       "<strong id=\"eqTrueIntro\">eqTrueIntro:</strong> <a class=\"ProveItLink\" href=\"__pv_it/04576f2f89fdf94b2e1520e8f4ab361286daf7f30/expr.ipynb\"><img src=\"__pv_it/04576f2f89fdf94b2e1520e8f4ab361286daf7f30/expr.png\" style=\"display:inline;vertical-align:middle;\" /></a><br>"
      ],
      "text/plain": [
       "eqTrueIntro: forall_{A | A} (A = TRUE)"
      ]
     },
     "execution_count": 6,
     "metadata": {},
     "output_type": "execute_result"
    }
   ],
   "source": [
    "eqTrueIntro = Forall(A, Equals(A, TRUE), conditions=[A])"
   ]
  },
  {
   "cell_type": "code",
   "execution_count": 7,
   "metadata": {},
   "outputs": [
    {
     "data": {
      "text/html": [
       "<strong id=\"eqTrueElim\">eqTrueElim:</strong> <a class=\"ProveItLink\" href=\"__pv_it/464b3c7344f9d4c18e61245dc2e5438b3dda88b90/expr.ipynb\"><img src=\"__pv_it/464b3c7344f9d4c18e61245dc2e5438b3dda88b90/expr.png\" style=\"display:inline;vertical-align:middle;\" /></a><br>"
      ],
      "text/plain": [
       "eqTrueElim: forall_{A | A = TRUE} A"
      ]
     },
     "execution_count": 7,
     "metadata": {},
     "output_type": "execute_result"
    }
   ],
   "source": [
    "eqTrueElim = Forall(A, A, conditions=[Equals(A, TRUE)])"
   ]
  },
  {
   "cell_type": "code",
   "execution_count": 8,
   "metadata": {},
   "outputs": [
    {
     "name": "stdout",
     "output_type": "stream",
     "text": [
      "Axioms may be imported from autogenerated _axioms_.py\n"
     ]
    }
   ],
   "source": [
    "%end axioms"
   ]
  },
  {
   "cell_type": "code",
   "execution_count": 9,
   "metadata": {
    "collapsed": true
   },
   "outputs": [],
   "source": []
  }
 ],
 "metadata": {
  "kernelspec": {
   "display_name": "Python 3",
   "language": "python",
   "name": "python3"
  },
  "language_info": {
   "codemirror_mode": {
    "name": "ipython",
    "version": 3
   },
   "file_extension": ".py",
   "mimetype": "text/x-python",
   "name": "python",
   "nbconvert_exporter": "python",
   "pygments_lexer": "ipython3",
   "version": "3.7.3"
  }
 },
 "nbformat": 4,
 "nbformat_minor": 1
}
