{
 "cells": [
  {
   "cell_type": "code",
   "execution_count": 1,
   "metadata": {
    "collapsed": false,
    "deletable": true,
    "editable": true
   },
   "outputs": [],
   "source": [
    "import proveit.specialStatementMagic # for %begin_axioms and %end_axioms\n",
    "from proveit.basiclogic import BOOLEANS, TRUE, FALSE, inBool, Forall, Exists, NotExists, And, Or, Not, Implies, Iff, \\\n",
    "Union, Singleton, Equals, NotEquals\n",
    "from proveit.common import A, B, C, P, Q, S, x, Px, Qx, Aetc, Cetc, PxEtc, Qetc, xEtc, etc_QxEtc"
   ]
  },
  {
   "cell_type": "code",
   "execution_count": 2,
   "metadata": {
    "collapsed": true,
    "deletable": true,
    "editable": true
   },
   "outputs": [],
   "source": [
    "%begin_axioms"
   ]
  },
  {
   "cell_type": "code",
   "execution_count": 3,
   "metadata": {
    "collapsed": false,
    "deletable": true,
    "editable": true
   },
   "outputs": [
    {
     "data": {
      "text/latex": [
       "$\\mathtt{TRUE}$"
      ],
      "text/plain": [
       "$\\mathtt{TRUE}$"
      ]
     },
     "execution_count": 3,
     "metadata": {},
     "output_type": "execute_result"
    }
   ],
   "source": [
    "trueAxiom = TRUE\n",
    "trueAxiom"
   ]
  },
  {
   "cell_type": "code",
   "execution_count": 4,
   "metadata": {
    "collapsed": false,
    "deletable": true,
    "editable": true
   },
   "outputs": [
    {
     "data": {
      "text/latex": [
       "$\\mathtt{TRUE}$"
      ],
      "text/plain": [
       "$\\mathtt{TRUE}$"
      ]
     },
     "execution_count": 4,
     "metadata": {},
     "output_type": "execute_result"
    }
   ],
   "source": [
    "trueAxiom"
   ]
  },
  {
   "cell_type": "code",
   "execution_count": 5,
   "metadata": {
    "collapsed": false,
    "deletable": true,
    "editable": true
   },
   "outputs": [
    {
     "data": {
      "text/latex": [
       "$\\cal{B} = \\left( \\{\\mathtt{TRUE}\\} \\bigcup \\{\\mathtt{FALSE}\\} \\right)$"
      ],
      "text/plain": [
       "$\\cal{B} = \\left( \\{\\mathtt{TRUE}\\} \\bigcup \\{\\mathtt{FALSE}\\} \\right)$"
      ]
     },
     "execution_count": 5,
     "metadata": {},
     "output_type": "execute_result"
    }
   ],
   "source": [
    "boolsDef = Equals(BOOLEANS, Union(Singleton(TRUE), Singleton(FALSE)))\n",
    "boolsDef"
   ]
  },
  {
   "cell_type": "code",
   "execution_count": 6,
   "metadata": {
    "collapsed": false,
    "deletable": true,
    "editable": true
   },
   "outputs": [
    {
     "data": {
      "text/latex": [
       "$\\cal{B} = \\left( \\{\\mathtt{TRUE}\\} \\bigcup \\{\\mathtt{FALSE}\\} \\right)$"
      ],
      "text/plain": [
       "$\\cal{B} = \\left( \\{\\mathtt{TRUE}\\} \\bigcup \\{\\mathtt{FALSE}\\} \\right)$"
      ]
     },
     "execution_count": 6,
     "metadata": {},
     "output_type": "execute_result"
    }
   ],
   "source": [
    "boolsDef = Equals(BOOLEANS, Union(Singleton(TRUE), Singleton(FALSE)))\n",
    "boolsDef"
   ]
  },
  {
   "cell_type": "code",
   "execution_count": 7,
   "metadata": {
    "collapsed": false,
    "deletable": true,
    "editable": true
   },
   "outputs": [
    {
     "data": {
      "text/latex": [
       "$\\cal{B} = \\left( \\{\\mathtt{TRUE}\\} \\bigcup \\{\\mathtt{FALSE}\\} \\right)$"
      ],
      "text/plain": [
       "$\\cal{B} = \\left( \\{\\mathtt{TRUE}\\} \\bigcup \\{\\mathtt{FALSE}\\} \\right)$"
      ]
     },
     "execution_count": 7,
     "metadata": {},
     "output_type": "execute_result"
    }
   ],
   "source": [
    "boolsDef = Equals(BOOLEANS, Union(Singleton(TRUE), Singleton(FALSE)))\n",
    "boolsDef"
   ]
  },
  {
   "cell_type": "code",
   "execution_count": 8,
   "metadata": {
    "collapsed": false,
    "deletable": true,
    "editable": true
   },
   "outputs": [
    {
     "data": {
      "text/latex": [
       "$\\mathtt{FALSE} \\neq \\mathtt{TRUE}$"
      ],
      "text/plain": [
       "$\\mathtt{FALSE} \\neq \\mathtt{TRUE}$"
      ]
     },
     "execution_count": 8,
     "metadata": {},
     "output_type": "execute_result"
    }
   ],
   "source": [
    "falseNotTrue = NotEquals(FALSE, TRUE)\n",
    "falseNotTrue"
   ]
  },
  {
   "cell_type": "code",
   "execution_count": 9,
   "metadata": {
    "collapsed": false,
    "deletable": true,
    "editable": true
   },
   "outputs": [
    {
     "data": {
      "text/latex": [
       "$\\forall_{ P ,~.., Q_{\\Box} ,..~, S } \\left(\\left[\\forall_{~.., x_{\\Box} ,..~ \\in S~|~~.., Q_{\\Box}\\left(~.., x_{\\Box} ,..~\\right) ,..~} P\\left(~.., x_{\\Box} ,..~\\right)\\right] \\in \\cal{B}\\right)$"
      ],
      "text/plain": [
       "$\\forall_{ P ,~.., Q_{\\Box} ,..~, S } \\left(\\left[\\forall_{~.., x_{\\Box} ,..~ \\in S~|~~.., Q_{\\Box}\\left(~.., x_{\\Box} ,..~\\right) ,..~} P\\left(~.., x_{\\Box} ,..~\\right)\\right] \\in \\cal{B}\\right)$"
      ]
     },
     "execution_count": 9,
     "metadata": {},
     "output_type": "execute_result"
    }
   ],
   "source": [
    "forallInBool = Forall((P, Qetc, S), inBool(Forall(xEtc, PxEtc, S, etc_QxEtc)))\n",
    "forallInBool"
   ]
  },
  {
   "cell_type": "code",
   "execution_count": 10,
   "metadata": {
    "collapsed": false,
    "deletable": true,
    "editable": true
   },
   "outputs": [
    {
     "data": {
      "text/latex": [
       "$\\forall_{ P ,~.., Q_{\\Box} ,..~, S } \\left(\\left[\\exists_{~.., x_{\\Box} ,..~ \\in S~|~~.., Q_{\\Box}\\left(~.., x_{\\Box} ,..~\\right) ,..~} P\\left(~.., x_{\\Box} ,..~\\right)\\right] = (\\lnot \\left[\\forall_{~.., x_{\\Box} ,..~ \\in S~|~~.., Q_{\\Box}\\left(~.., x_{\\Box} ,..~\\right) ,..~} \\left(P\\left(~.., x_{\\Box} ,..~\\right) \\neq \\mathtt{TRUE}\\right)\\right])\\right)$"
      ],
      "text/plain": [
       "$\\forall_{ P ,~.., Q_{\\Box} ,..~, S } \\left(\\left[\\exists_{~.., x_{\\Box} ,..~ \\in S~|~~.., Q_{\\Box}\\left(~.., x_{\\Box} ,..~\\right) ,..~} P\\left(~.., x_{\\Box} ,..~\\right)\\right] = (\\lnot \\left[\\forall_{~.., x_{\\Box} ,..~ \\in S~|~~.., Q_{\\Box}\\left(~.., x_{\\Box} ,..~\\right) ,..~} \\left(P\\left(~.., x_{\\Box} ,..~\\right) \\neq \\mathtt{TRUE}\\right)\\right])\\right)$"
      ]
     },
     "execution_count": 10,
     "metadata": {},
     "output_type": "execute_result"
    }
   ],
   "source": [
    "existsDef = Forall((P, Qetc, S), Equals(Exists(xEtc, PxEtc, S, etc_QxEtc), Not(Forall(xEtc, NotEquals(PxEtc, TRUE), S, etc_QxEtc))))\n",
    "existsDef"
   ]
  },
  {
   "cell_type": "code",
   "execution_count": 11,
   "metadata": {
    "collapsed": false,
    "deletable": true,
    "editable": true
   },
   "outputs": [
    {
     "data": {
      "text/latex": [
       "$\\forall_{ P ,~.., Q_{\\Box} ,..~, S } \\left(\\left[\\nexists_{~.., x_{\\Box} ,..~ \\in S~|~~.., Q_{\\Box}\\left(~.., x_{\\Box} ,..~\\right) ,..~} P\\left(~.., x_{\\Box} ,..~\\right)\\right] = (\\lnot \\left[\\exists_{~.., x_{\\Box} ,..~ \\in S~|~~.., Q_{\\Box}\\left(~.., x_{\\Box} ,..~\\right) ,..~} P\\left(~.., x_{\\Box} ,..~\\right)\\right])\\right)$"
      ],
      "text/plain": [
       "$\\forall_{ P ,~.., Q_{\\Box} ,..~, S } \\left(\\left[\\nexists_{~.., x_{\\Box} ,..~ \\in S~|~~.., Q_{\\Box}\\left(~.., x_{\\Box} ,..~\\right) ,..~} P\\left(~.., x_{\\Box} ,..~\\right)\\right] = (\\lnot \\left[\\exists_{~.., x_{\\Box} ,..~ \\in S~|~~.., Q_{\\Box}\\left(~.., x_{\\Box} ,..~\\right) ,..~} P\\left(~.., x_{\\Box} ,..~\\right)\\right])\\right)$"
      ]
     },
     "execution_count": 11,
     "metadata": {},
     "output_type": "execute_result"
    }
   ],
   "source": [
    "notExistsDef = Forall((P, Qetc, S), Equals(NotExists(xEtc, PxEtc, S, etc_QxEtc), Not(Exists(xEtc, PxEtc, S, etc_QxEtc))))\n",
    "notExistsDef"
   ]
  },
  {
   "cell_type": "code",
   "execution_count": 12,
   "metadata": {
    "collapsed": false,
    "deletable": true,
    "editable": true
   },
   "outputs": [
    {
     "data": {
      "text/latex": [
       "$(\\lnot \\mathtt{FALSE}) = \\mathtt{TRUE}$"
      ],
      "text/plain": [
       "$(\\lnot \\mathtt{FALSE}) = \\mathtt{TRUE}$"
      ]
     },
     "execution_count": 12,
     "metadata": {},
     "output_type": "execute_result"
    }
   ],
   "source": [
    "notF = Equals(Not(FALSE), TRUE)\n",
    "notF"
   ]
  },
  {
   "cell_type": "code",
   "execution_count": 13,
   "metadata": {
    "collapsed": false,
    "deletable": true,
    "editable": true
   },
   "outputs": [
    {
     "data": {
      "text/latex": [
       "$(\\lnot \\mathtt{TRUE}) = \\mathtt{FALSE}$"
      ],
      "text/plain": [
       "$(\\lnot \\mathtt{TRUE}) = \\mathtt{FALSE}$"
      ]
     },
     "execution_count": 13,
     "metadata": {},
     "output_type": "execute_result"
    }
   ],
   "source": [
    "notT = Equals(Not(TRUE), FALSE)\n",
    "notT"
   ]
  },
  {
   "cell_type": "code",
   "execution_count": 14,
   "metadata": {
    "collapsed": false,
    "deletable": true,
    "editable": true
   },
   "outputs": [
    {
     "data": {
      "text/latex": [
       "$\\forall_{ A } \\left(\\left((\\lnot A) = \\mathtt{TRUE}\\right) \\Rightarrow \\left(A = \\mathtt{FALSE}\\right)\\right)$"
      ],
      "text/plain": [
       "$\\forall_{ A } \\left(\\left((\\lnot A) = \\mathtt{TRUE}\\right) \\Rightarrow \\left(A = \\mathtt{FALSE}\\right)\\right)$"
      ]
     },
     "execution_count": 14,
     "metadata": {},
     "output_type": "execute_result"
    }
   ],
   "source": [
    "implicitNotF = Forall(A, Implies(Equals(Not(A), TRUE), Equals(A, FALSE)))\n",
    "implicitNotF"
   ]
  },
  {
   "cell_type": "code",
   "execution_count": 15,
   "metadata": {
    "collapsed": false,
    "deletable": true,
    "editable": true
   },
   "outputs": [
    {
     "data": {
      "text/latex": [
       "$\\forall_{ A } \\left(\\left((\\lnot A) = \\mathtt{FALSE}\\right) \\Rightarrow \\left(A = \\mathtt{TRUE}\\right)\\right)$"
      ],
      "text/plain": [
       "$\\forall_{ A } \\left(\\left((\\lnot A) = \\mathtt{FALSE}\\right) \\Rightarrow \\left(A = \\mathtt{TRUE}\\right)\\right)$"
      ]
     },
     "execution_count": 15,
     "metadata": {},
     "output_type": "execute_result"
    }
   ],
   "source": [
    "implicitNotT = Forall(A, Implies(Equals(Not(A), FALSE), Equals(A, TRUE)))\n",
    "implicitNotT"
   ]
  },
  {
   "cell_type": "code",
   "execution_count": 16,
   "metadata": {
    "collapsed": false,
    "deletable": true,
    "editable": true
   },
   "outputs": [
    {
     "data": {
      "text/latex": [
       "$\\left( \\mathtt{TRUE} \\land \\mathtt{TRUE} \\right) = \\mathtt{TRUE}$"
      ],
      "text/plain": [
       "$\\left( \\mathtt{TRUE} \\land \\mathtt{TRUE} \\right) = \\mathtt{TRUE}$"
      ]
     },
     "execution_count": 16,
     "metadata": {},
     "output_type": "execute_result"
    }
   ],
   "source": [
    "andTT = Equals(And(TRUE, TRUE), TRUE)\n",
    "andTT"
   ]
  },
  {
   "cell_type": "code",
   "execution_count": 17,
   "metadata": {
    "collapsed": false,
    "deletable": true,
    "editable": true
   },
   "outputs": [
    {
     "data": {
      "text/latex": [
       "$\\left( \\mathtt{TRUE} \\land \\mathtt{FALSE} \\right) = \\mathtt{FALSE}$"
      ],
      "text/plain": [
       "$\\left( \\mathtt{TRUE} \\land \\mathtt{FALSE} \\right) = \\mathtt{FALSE}$"
      ]
     },
     "execution_count": 17,
     "metadata": {},
     "output_type": "execute_result"
    }
   ],
   "source": [
    "andTF = Equals(And(TRUE, FALSE), FALSE)\n",
    "andTF"
   ]
  },
  {
   "cell_type": "code",
   "execution_count": 18,
   "metadata": {
    "collapsed": false,
    "deletable": true,
    "editable": true
   },
   "outputs": [
    {
     "data": {
      "text/latex": [
       "$\\left( \\mathtt{FALSE} \\land \\mathtt{TRUE} \\right) = \\mathtt{FALSE}$"
      ],
      "text/plain": [
       "$\\left( \\mathtt{FALSE} \\land \\mathtt{TRUE} \\right) = \\mathtt{FALSE}$"
      ]
     },
     "execution_count": 18,
     "metadata": {},
     "output_type": "execute_result"
    }
   ],
   "source": [
    "andFT = Equals(And(FALSE, TRUE), FALSE)\n",
    "andFT"
   ]
  },
  {
   "cell_type": "code",
   "execution_count": 19,
   "metadata": {
    "collapsed": false,
    "deletable": true,
    "editable": true
   },
   "outputs": [
    {
     "data": {
      "text/latex": [
       "$\\left( \\mathtt{FALSE} \\land \\mathtt{FALSE} \\right) = \\mathtt{FALSE}$"
      ],
      "text/plain": [
       "$\\left( \\mathtt{FALSE} \\land \\mathtt{FALSE} \\right) = \\mathtt{FALSE}$"
      ]
     },
     "execution_count": 19,
     "metadata": {},
     "output_type": "execute_result"
    }
   ],
   "source": [
    "andFF = Equals(And(FALSE, FALSE), FALSE)\n",
    "andFF"
   ]
  },
  {
   "cell_type": "code",
   "execution_count": 20,
   "metadata": {
    "collapsed": false,
    "deletable": true,
    "editable": true
   },
   "outputs": [
    {
     "data": {
      "text/latex": [
       "$\\forall_{ A , B ,~.., C_{\\Box} ,..~} \\left(\\left( A \\land B \\land~..\\land C_{\\Box} \\land..~\\right) = \\left( A \\land \\left( B \\land~..\\land C_{\\Box} \\land..~\\right) \\right)\\right)$"
      ],
      "text/plain": [
       "$\\forall_{ A , B ,~.., C_{\\Box} ,..~} \\left(\\left( A \\land B \\land~..\\land C_{\\Box} \\land..~\\right) = \\left( A \\land \\left( B \\land~..\\land C_{\\Box} \\land..~\\right) \\right)\\right)$"
      ]
     },
     "execution_count": 20,
     "metadata": {},
     "output_type": "execute_result"
    }
   ],
   "source": [
    "andComposition = Forall((A, B, Cetc), Equals(And(A, B, Cetc), And(A, And(B, Cetc))))\n",
    "andComposition"
   ]
  },
  {
   "cell_type": "code",
   "execution_count": 21,
   "metadata": {
    "collapsed": false,
    "deletable": true,
    "editable": true
   },
   "outputs": [
    {
     "data": {
      "text/latex": [
       "$\\forall_{~.., A_{\\Box} ,..~, B ,~.., C_{\\Box} ,..~} \\left(\\left(~..\\land A_{\\Box} \\land..~\\land B \\land~..\\land C_{\\Box} \\land..~\\right) \\Rightarrow B\\right)$"
      ],
      "text/plain": [
       "$\\forall_{~.., A_{\\Box} ,..~, B ,~.., C_{\\Box} ,..~} \\left(\\left(~..\\land A_{\\Box} \\land..~\\land B \\land~..\\land C_{\\Box} \\land..~\\right) \\Rightarrow B\\right)$"
      ]
     },
     "execution_count": 21,
     "metadata": {},
     "output_type": "execute_result"
    }
   ],
   "source": [
    "andImpliesEach = Forall((Aetc, B, Cetc), Implies(And(Aetc, B, Cetc), B))\n",
    "andImpliesEach"
   ]
  },
  {
   "cell_type": "code",
   "execution_count": 22,
   "metadata": {
    "collapsed": false,
    "deletable": true,
    "editable": true
   },
   "outputs": [
    {
     "data": {
      "text/latex": [
       "$\\left( \\mathtt{TRUE} \\lor \\mathtt{TRUE} \\right) = \\mathtt{TRUE}$"
      ],
      "text/plain": [
       "$\\left( \\mathtt{TRUE} \\lor \\mathtt{TRUE} \\right) = \\mathtt{TRUE}$"
      ]
     },
     "execution_count": 22,
     "metadata": {},
     "output_type": "execute_result"
    }
   ],
   "source": [
    "orTT = Equals(Or(TRUE, TRUE), TRUE)\n",
    "orTT"
   ]
  },
  {
   "cell_type": "code",
   "execution_count": 23,
   "metadata": {
    "collapsed": false,
    "deletable": true,
    "editable": true
   },
   "outputs": [
    {
     "data": {
      "text/latex": [
       "$\\left( \\mathtt{TRUE} \\lor \\mathtt{FALSE} \\right) = \\mathtt{TRUE}$"
      ],
      "text/plain": [
       "$\\left( \\mathtt{TRUE} \\lor \\mathtt{FALSE} \\right) = \\mathtt{TRUE}$"
      ]
     },
     "execution_count": 23,
     "metadata": {},
     "output_type": "execute_result"
    }
   ],
   "source": [
    "orTF = Equals(Or(TRUE, FALSE), TRUE)\n",
    "orTF"
   ]
  },
  {
   "cell_type": "code",
   "execution_count": 24,
   "metadata": {
    "collapsed": false,
    "deletable": true,
    "editable": true
   },
   "outputs": [
    {
     "data": {
      "text/latex": [
       "$\\left( \\mathtt{FALSE} \\lor \\mathtt{TRUE} \\right) = \\mathtt{TRUE}$"
      ],
      "text/plain": [
       "$\\left( \\mathtt{FALSE} \\lor \\mathtt{TRUE} \\right) = \\mathtt{TRUE}$"
      ]
     },
     "execution_count": 24,
     "metadata": {},
     "output_type": "execute_result"
    }
   ],
   "source": [
    "orFT = Equals(Or(FALSE, TRUE), TRUE)\n",
    "orFT"
   ]
  },
  {
   "cell_type": "code",
   "execution_count": 25,
   "metadata": {
    "collapsed": false,
    "deletable": true,
    "editable": true
   },
   "outputs": [
    {
     "data": {
      "text/latex": [
       "$\\left( \\mathtt{FALSE} \\lor \\mathtt{FALSE} \\right) = \\mathtt{FALSE}$"
      ],
      "text/plain": [
       "$\\left( \\mathtt{FALSE} \\lor \\mathtt{FALSE} \\right) = \\mathtt{FALSE}$"
      ]
     },
     "execution_count": 25,
     "metadata": {},
     "output_type": "execute_result"
    }
   ],
   "source": [
    "orFF = Equals(Or(FALSE, FALSE), FALSE)\n",
    "orFF"
   ]
  },
  {
   "cell_type": "code",
   "execution_count": 26,
   "metadata": {
    "collapsed": false,
    "deletable": true,
    "editable": true
   },
   "outputs": [
    {
     "data": {
      "text/latex": [
       "$\\forall_{ A , B ,~.., C_{\\Box} ,..~} \\left(\\left( A \\lor B \\lor~..\\lor C_{\\Box} \\lor..~\\right) = \\left( A \\lor \\left( B \\lor~..\\lor C_{\\Box} \\lor..~\\right) \\right)\\right)$"
      ],
      "text/plain": [
       "$\\forall_{ A , B ,~.., C_{\\Box} ,..~} \\left(\\left( A \\lor B \\lor~..\\lor C_{\\Box} \\lor..~\\right) = \\left( A \\lor \\left( B \\lor~..\\lor C_{\\Box} \\lor..~\\right) \\right)\\right)$"
      ]
     },
     "execution_count": 26,
     "metadata": {},
     "output_type": "execute_result"
    }
   ],
   "source": [
    "orComposition = Forall((A, B, Cetc), Equals(Or(A, B, Cetc), Or(A, Or(B, Cetc))))\n",
    "orComposition"
   ]
  },
  {
   "cell_type": "code",
   "execution_count": 27,
   "metadata": {
    "collapsed": false,
    "deletable": true,
    "editable": true
   },
   "outputs": [
    {
     "data": {
      "text/latex": [
       "$\\forall_{ A , B } \\left(\\left(A \\Leftrightarrow B\\right) = \\left( \\left(A \\Rightarrow B\\right) \\land \\left(B \\Rightarrow A\\right) \\right)\\right)$"
      ],
      "text/plain": [
       "$\\forall_{ A , B } \\left(\\left(A \\Leftrightarrow B\\right) = \\left( \\left(A \\Rightarrow B\\right) \\land \\left(B \\Rightarrow A\\right) \\right)\\right)$"
      ]
     },
     "execution_count": 27,
     "metadata": {},
     "output_type": "execute_result"
    }
   ],
   "source": [
    "iffDef = Forall((A, B), Equals(Iff(A, B), And(Implies(A, B), Implies(B, A))))\n",
    "iffDef"
   ]
  },
  {
   "cell_type": "code",
   "execution_count": 28,
   "metadata": {
    "collapsed": false,
    "deletable": true,
    "editable": true
   },
   "outputs": [
    {
     "data": {
      "text/latex": [
       "$\\forall_{ A } \\left(A \\Rightarrow \\left(A = \\mathtt{TRUE}\\right)\\right)$"
      ],
      "text/plain": [
       "$\\forall_{ A } \\left(A \\Rightarrow \\left(A = \\mathtt{TRUE}\\right)\\right)$"
      ]
     },
     "execution_count": 28,
     "metadata": {},
     "output_type": "execute_result"
    }
   ],
   "source": [
    "eqTrueIntro = Forall(A, Implies(A, Equals(A, TRUE)))\n",
    "eqTrueIntro"
   ]
  },
  {
   "cell_type": "code",
   "execution_count": 29,
   "metadata": {
    "collapsed": false,
    "deletable": true,
    "editable": true
   },
   "outputs": [
    {
     "data": {
      "text/latex": [
       "$\\forall_{ A } \\left(\\left(A = \\mathtt{TRUE}\\right) \\Rightarrow A\\right)$"
      ],
      "text/plain": [
       "$\\forall_{ A } \\left(\\left(A = \\mathtt{TRUE}\\right) \\Rightarrow A\\right)$"
      ]
     },
     "execution_count": 29,
     "metadata": {},
     "output_type": "execute_result"
    }
   ],
   "source": [
    "eqTrueElim = Forall(A, Implies(Equals(A, TRUE), A))\n",
    "eqTrueElim"
   ]
  },
  {
   "cell_type": "code",
   "execution_count": 30,
   "metadata": {
    "collapsed": false,
    "deletable": true,
    "editable": true
   },
   "outputs": [
    {
     "data": {
      "text/latex": [
       "$\\left(\\mathtt{TRUE} \\Rightarrow \\mathtt{FALSE}\\right) = \\mathtt{FALSE}$"
      ],
      "text/plain": [
       "$\\left(\\mathtt{TRUE} \\Rightarrow \\mathtt{FALSE}\\right) = \\mathtt{FALSE}$"
      ]
     },
     "execution_count": 30,
     "metadata": {},
     "output_type": "execute_result"
    }
   ],
   "source": [
    "impliesTF = Equals(Implies(TRUE, FALSE), FALSE)\n",
    "impliesTF"
   ]
  },
  {
   "cell_type": "code",
   "execution_count": 31,
   "metadata": {
    "collapsed": false,
    "deletable": true,
    "editable": true
   },
   "outputs": [
    {
     "data": {
      "text/latex": [
       "$\\forall_{ A  \\in \\cal{B}} \\left(\\left((\\lnot A) \\Rightarrow \\mathtt{FALSE}\\right) \\Rightarrow A\\right)$"
      ],
      "text/plain": [
       "$\\forall_{ A  \\in \\cal{B}} \\left(\\left((\\lnot A) \\Rightarrow \\mathtt{FALSE}\\right) \\Rightarrow A\\right)$"
      ]
     },
     "execution_count": 31,
     "metadata": {},
     "output_type": "execute_result"
    }
   ],
   "source": [
    "contradictoryValidation = Forall(A, Implies(Implies(Not(A), FALSE), A), domain=BOOLEANS)\n",
    "contradictoryValidation"
   ]
  },
  {
   "cell_type": "code",
   "execution_count": 32,
   "metadata": {
    "collapsed": false,
    "deletable": true,
    "editable": true
   },
   "outputs": [
    {
     "name": "stdout",
     "output_type": "stream",
     "text": [
      "Creating axioms *.dill and *.pv_it files in the __pv_it__ directory\n",
      "These axioms may be imported from proveit.basiclogic.boolean.axioms\n"
     ]
    }
   ],
   "source": [
    "%end_axioms"
   ]
  },
  {
   "cell_type": "code",
   "execution_count": null,
   "metadata": {
    "collapsed": true,
    "deletable": true,
    "editable": true
   },
   "outputs": [],
   "source": []
  }
 ],
 "metadata": {
  "kernelspec": {
   "display_name": "Python 3",
   "language": "python",
   "name": "python3"
  },
  "language_info": {
   "codemirror_mode": {
    "name": "ipython",
    "version": 3
   },
   "file_extension": ".py",
   "mimetype": "text/x-python",
   "name": "python",
   "nbconvert_exporter": "python",
   "pygments_lexer": "ipython3"
  }
 },
 "nbformat": 4,
 "nbformat_minor": 0
}
