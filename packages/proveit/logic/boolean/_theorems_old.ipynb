{
 "cells": [
  {
   "cell_type": "code",
   "execution_count": 1,
   "metadata": {
    "collapsed": true
   },
   "outputs": [],
   "source": [
    "import proveit.specialStatementMagic # for %begin_theorems and %end_theorems\n",
    "from proveit.basiclogic import Forall, Exists, NotExists, BOOLEANS, TRUE, FALSE, inBool, \\\n",
    "Not, And, Or, Implies, Iff, Equals, NotEquals\n",
    "from proveit.common import A, B, C, P, Q, R, S, x, y, PofA, Px, Py, Pxy, Qx, Ry, Qetc, \\\n",
    "Retc, xEtc, yEtc, zEtc, PxEtc, PyEtc, PxyEtc, etc_QxEtc, etc_QyEtc, etc_RyEtc\n",
    "from proveit.basiclogic.common import PofTrue, PofFalse"
   ]
  },
  {
   "cell_type": "code",
   "execution_count": 2,
   "metadata": {
    "collapsed": false
   },
   "outputs": [],
   "source": [
    "%begin_theorems"
   ]
  },
  {
   "cell_type": "code",
   "execution_count": 3,
   "metadata": {
    "collapsed": false
   },
   "outputs": [
    {
     "data": {
      "text/latex": [
       "$\\lnot \\mathtt{FALSE}$"
      ],
      "text/plain": [
       "$\\lnot \\mathtt{FALSE}$"
      ]
     },
     "execution_count": 3,
     "metadata": {},
     "output_type": "execute_result"
    }
   ],
   "source": [
    "notFalse = Not(FALSE)\n",
    "notFalse"
   ]
  },
  {
   "cell_type": "code",
   "execution_count": 4,
   "metadata": {
    "collapsed": false
   },
   "outputs": [
    {
     "data": {
      "text/latex": [
       "$ \\mathtt{TRUE} \\land \\mathtt{TRUE} $"
      ],
      "text/plain": [
       "$ \\mathtt{TRUE} \\land \\mathtt{TRUE} $"
      ]
     },
     "execution_count": 4,
     "metadata": {},
     "output_type": "execute_result"
    }
   ],
   "source": [
    "trueAndTrue = And(TRUE, TRUE)\n",
    "trueAndTrue"
   ]
  },
  {
   "cell_type": "code",
   "execution_count": 5,
   "metadata": {
    "collapsed": false
   },
   "outputs": [
    {
     "data": {
      "text/latex": [
       "$ \\mathtt{TRUE} \\lor \\mathtt{TRUE} $"
      ],
      "text/plain": [
       "$ \\mathtt{TRUE} \\lor \\mathtt{TRUE} $"
      ]
     },
     "execution_count": 5,
     "metadata": {},
     "output_type": "execute_result"
    }
   ],
   "source": [
    "trueOrTrue = Or(TRUE, TRUE)\n",
    "trueOrTrue"
   ]
  },
  {
   "cell_type": "code",
   "execution_count": 6,
   "metadata": {
    "collapsed": false
   },
   "outputs": [
    {
     "data": {
      "text/latex": [
       "$ \\mathtt{TRUE} \\lor \\mathtt{FALSE} $"
      ],
      "text/plain": [
       "$ \\mathtt{TRUE} \\lor \\mathtt{FALSE} $"
      ]
     },
     "execution_count": 6,
     "metadata": {},
     "output_type": "execute_result"
    }
   ],
   "source": [
    "trueOrFalse = Or(TRUE, FALSE)\n",
    "trueOrFalse"
   ]
  },
  {
   "cell_type": "code",
   "execution_count": 7,
   "metadata": {
    "collapsed": false
   },
   "outputs": [
    {
     "data": {
      "text/latex": [
       "$ \\mathtt{FALSE} \\lor \\mathtt{TRUE} $"
      ],
      "text/plain": [
       "$ \\mathtt{FALSE} \\lor \\mathtt{TRUE} $"
      ]
     },
     "execution_count": 7,
     "metadata": {},
     "output_type": "execute_result"
    }
   ],
   "source": [
    "falseOrTrue = Or(FALSE, TRUE)\n",
    "falseOrTrue"
   ]
  },
  {
   "cell_type": "code",
   "execution_count": 8,
   "metadata": {
    "collapsed": false
   },
   "outputs": [
    {
     "data": {
      "text/latex": [
       "$\\mathtt{TRUE} = \\mathtt{TRUE}$"
      ],
      "text/plain": [
       "$\\mathtt{TRUE} = \\mathtt{TRUE}$"
      ]
     },
     "execution_count": 8,
     "metadata": {},
     "output_type": "execute_result"
    }
   ],
   "source": [
    "trueEqTrue = Equals(TRUE, TRUE)\n",
    "trueEqTrue"
   ]
  },
  {
   "cell_type": "code",
   "execution_count": 9,
   "metadata": {
    "collapsed": false
   },
   "outputs": [
    {
     "data": {
      "text/latex": [
       "$\\mathtt{FALSE} = \\mathtt{FALSE}$"
      ],
      "text/plain": [
       "$\\mathtt{FALSE} = \\mathtt{FALSE}$"
      ]
     },
     "execution_count": 9,
     "metadata": {},
     "output_type": "execute_result"
    }
   ],
   "source": [
    "falseEqFalse = Equals(FALSE, FALSE)\n",
    "falseEqFalse"
   ]
  },
  {
   "cell_type": "code",
   "execution_count": 10,
   "metadata": {
    "collapsed": false
   },
   "outputs": [
    {
     "data": {
      "text/latex": [
       "$\\forall_{ A } \\left(A \\Rightarrow \\left(\\mathtt{TRUE} = A\\right)\\right)$"
      ],
      "text/plain": [
       "$\\forall_{ A } \\left(A \\Rightarrow \\left(\\mathtt{TRUE} = A\\right)\\right)$"
      ]
     },
     "execution_count": 10,
     "metadata": {},
     "output_type": "execute_result"
    }
   ],
   "source": [
    "eqTrueRevIntro = Forall(A, Implies(A, Equals(TRUE, A)))\n",
    "eqTrueRevIntro"
   ]
  },
  {
   "cell_type": "code",
   "execution_count": 11,
   "metadata": {
    "collapsed": false
   },
   "outputs": [
    {
     "data": {
      "text/latex": [
       "$\\forall_{ A } \\left(\\left(\\mathtt{TRUE} = A\\right) \\Rightarrow A\\right)$"
      ],
      "text/plain": [
       "$\\forall_{ A } \\left(\\left(\\mathtt{TRUE} = A\\right) \\Rightarrow A\\right)$"
      ]
     },
     "execution_count": 11,
     "metadata": {},
     "output_type": "execute_result"
    }
   ],
   "source": [
    "eqTrueRevElim = Forall(A, Implies(Equals(TRUE, A), A))\n",
    "eqTrueRevElim"
   ]
  },
  {
   "cell_type": "code",
   "execution_count": 12,
   "metadata": {
    "collapsed": false
   },
   "outputs": [
    {
     "data": {
      "text/latex": [
       "$\\forall_{ A } \\left((\\lnot A) \\Rightarrow \\left(A = \\mathtt{FALSE}\\right)\\right)$"
      ],
      "text/plain": [
       "$\\forall_{ A } \\left((\\lnot A) \\Rightarrow \\left(A = \\mathtt{FALSE}\\right)\\right)$"
      ]
     },
     "execution_count": 12,
     "metadata": {},
     "output_type": "execute_result"
    }
   ],
   "source": [
    "notImpliesEqFalse = Forall(A, Implies(Not(A), Equals(A, FALSE)))\n",
    "notImpliesEqFalse"
   ]
  },
  {
   "cell_type": "code",
   "execution_count": 13,
   "metadata": {
    "collapsed": false
   },
   "outputs": [
    {
     "data": {
      "text/latex": [
       "$\\forall_{ A } \\left((\\lnot A) \\Rightarrow \\left(\\mathtt{FALSE} = A\\right)\\right)$"
      ],
      "text/plain": [
       "$\\forall_{ A } \\left((\\lnot A) \\Rightarrow \\left(\\mathtt{FALSE} = A\\right)\\right)$"
      ]
     },
     "execution_count": 13,
     "metadata": {},
     "output_type": "execute_result"
    }
   ],
   "source": [
    "notImpliesEqFalseRev = Forall(A, Implies(Not(A), Equals(FALSE, A)))\n",
    "notImpliesEqFalseRev"
   ]
  },
  {
   "cell_type": "code",
   "execution_count": 14,
   "metadata": {
    "collapsed": false
   },
   "outputs": [
    {
     "data": {
      "text/latex": [
       "$\\forall_{ A } \\left((\\lnot (\\lnot A)) \\Rightarrow A\\right)$"
      ],
      "text/plain": [
       "$\\forall_{ A } \\left((\\lnot (\\lnot A)) \\Rightarrow A\\right)$"
      ]
     },
     "execution_count": 14,
     "metadata": {},
     "output_type": "execute_result"
    }
   ],
   "source": [
    "fromDoubleNegation = Forall(A, Implies(Not(Not(A)), A))\n",
    "fromDoubleNegation"
   ]
  },
  {
   "cell_type": "code",
   "execution_count": 15,
   "metadata": {
    "collapsed": false
   },
   "outputs": [
    {
     "data": {
      "text/latex": [
       "$\\forall_{ A } \\left(A \\Rightarrow \\mathtt{TRUE}\\right)$"
      ],
      "text/plain": [
       "$\\forall_{ A } \\left(A \\Rightarrow \\mathtt{TRUE}\\right)$"
      ]
     },
     "execution_count": 15,
     "metadata": {},
     "output_type": "execute_result"
    }
   ],
   "source": [
    "trueConclusion = Forall(A, Implies(A, TRUE))\n",
    "trueConclusion"
   ]
  },
  {
   "cell_type": "code",
   "execution_count": 16,
   "metadata": {
    "collapsed": false
   },
   "outputs": [
    {
     "data": {
      "text/latex": [
       "$\\forall_{ A } \\left(A \\Rightarrow A\\right)$"
      ],
      "text/plain": [
       "$\\forall_{ A } \\left(A \\Rightarrow A\\right)$"
      ]
     },
     "execution_count": 16,
     "metadata": {},
     "output_type": "execute_result"
    }
   ],
   "source": [
    "selfImplication = Forall(A, Implies(A, A))\n",
    "selfImplication"
   ]
  },
  {
   "cell_type": "code",
   "execution_count": 17,
   "metadata": {
    "collapsed": false
   },
   "outputs": [
    {
     "data": {
      "text/latex": [
       "$\\left(\\mathtt{TRUE} \\Rightarrow \\mathtt{TRUE}\\right) = \\mathtt{TRUE}$"
      ],
      "text/plain": [
       "$\\left(\\mathtt{TRUE} \\Rightarrow \\mathtt{TRUE}\\right) = \\mathtt{TRUE}$"
      ]
     },
     "execution_count": 17,
     "metadata": {},
     "output_type": "execute_result"
    }
   ],
   "source": [
    "impliesTT = Equals(Implies(TRUE, TRUE), TRUE)\n",
    "impliesTT"
   ]
  },
  {
   "cell_type": "code",
   "execution_count": 18,
   "metadata": {
    "collapsed": false
   },
   "outputs": [
    {
     "data": {
      "text/latex": [
       "$\\left(\\mathtt{FALSE} \\Rightarrow \\mathtt{TRUE}\\right) = \\mathtt{TRUE}$"
      ],
      "text/plain": [
       "$\\left(\\mathtt{FALSE} \\Rightarrow \\mathtt{TRUE}\\right) = \\mathtt{TRUE}$"
      ]
     },
     "execution_count": 18,
     "metadata": {},
     "output_type": "execute_result"
    }
   ],
   "source": [
    "impliesFT = Equals(Implies(FALSE, TRUE), TRUE)\n",
    "impliesFT"
   ]
  },
  {
   "cell_type": "code",
   "execution_count": 19,
   "metadata": {
    "collapsed": false
   },
   "outputs": [
    {
     "data": {
      "text/latex": [
       "$\\left(\\mathtt{FALSE} \\Rightarrow \\mathtt{FALSE}\\right) = \\mathtt{TRUE}$"
      ],
      "text/plain": [
       "$\\left(\\mathtt{FALSE} \\Rightarrow \\mathtt{FALSE}\\right) = \\mathtt{TRUE}$"
      ]
     },
     "execution_count": 19,
     "metadata": {},
     "output_type": "execute_result"
    }
   ],
   "source": [
    "impliesFF = Equals(Implies(FALSE, FALSE), TRUE)\n",
    "impliesFF"
   ]
  },
  {
   "cell_type": "code",
   "execution_count": 20,
   "metadata": {
    "collapsed": false
   },
   "outputs": [
    {
     "data": {
      "text/latex": [
       "$\\left(\\mathtt{TRUE} \\Leftrightarrow \\mathtt{TRUE}\\right) = \\mathtt{TRUE}$"
      ],
      "text/plain": [
       "$\\left(\\mathtt{TRUE} \\Leftrightarrow \\mathtt{TRUE}\\right) = \\mathtt{TRUE}$"
      ]
     },
     "execution_count": 20,
     "metadata": {},
     "output_type": "execute_result"
    }
   ],
   "source": [
    "iffTT = Equals(Iff(TRUE, TRUE), TRUE)\n",
    "iffTT"
   ]
  },
  {
   "cell_type": "code",
   "execution_count": 21,
   "metadata": {
    "collapsed": false
   },
   "outputs": [
    {
     "data": {
      "text/latex": [
       "$\\left(\\mathtt{FALSE} \\Leftrightarrow \\mathtt{FALSE}\\right) = \\mathtt{TRUE}$"
      ],
      "text/plain": [
       "$\\left(\\mathtt{FALSE} \\Leftrightarrow \\mathtt{FALSE}\\right) = \\mathtt{TRUE}$"
      ]
     },
     "execution_count": 21,
     "metadata": {},
     "output_type": "execute_result"
    }
   ],
   "source": [
    "iffFF = Equals(Iff(FALSE, FALSE), TRUE)\n",
    "iffFF"
   ]
  },
  {
   "cell_type": "code",
   "execution_count": 22,
   "metadata": {
    "collapsed": false
   },
   "outputs": [
    {
     "data": {
      "text/latex": [
       "$\\left(\\mathtt{TRUE} \\Leftrightarrow \\mathtt{FALSE}\\right) = \\mathtt{FALSE}$"
      ],
      "text/plain": [
       "$\\left(\\mathtt{TRUE} \\Leftrightarrow \\mathtt{FALSE}\\right) = \\mathtt{FALSE}$"
      ]
     },
     "execution_count": 22,
     "metadata": {},
     "output_type": "execute_result"
    }
   ],
   "source": [
    "iffTF = Equals(Iff(TRUE, FALSE), FALSE)\n",
    "iffTF"
   ]
  },
  {
   "cell_type": "code",
   "execution_count": 23,
   "metadata": {
    "collapsed": false
   },
   "outputs": [
    {
     "data": {
      "text/latex": [
       "$\\left(\\mathtt{FALSE} \\Leftrightarrow \\mathtt{TRUE}\\right) = \\mathtt{FALSE}$"
      ],
      "text/plain": [
       "$\\left(\\mathtt{FALSE} \\Leftrightarrow \\mathtt{TRUE}\\right) = \\mathtt{FALSE}$"
      ]
     },
     "execution_count": 23,
     "metadata": {},
     "output_type": "execute_result"
    }
   ],
   "source": [
    "iffFT = Equals(Iff(FALSE, TRUE), FALSE)\n",
    "iffFT"
   ]
  },
  {
   "cell_type": "code",
   "execution_count": 24,
   "metadata": {
    "collapsed": false
   },
   "outputs": [
    {
     "data": {
      "text/latex": [
       "$\\forall_{ A , B } \\left(\\left(A \\Leftrightarrow B\\right) \\Rightarrow \\left(A \\Rightarrow B\\right)\\right)$"
      ],
      "text/plain": [
       "$\\forall_{ A , B } \\left(\\left(A \\Leftrightarrow B\\right) \\Rightarrow \\left(A \\Rightarrow B\\right)\\right)$"
      ]
     },
     "execution_count": 24,
     "metadata": {},
     "output_type": "execute_result"
    }
   ],
   "source": [
    "iffImpliesRight = Forall((A, B), Implies(Iff(A, B), Implies(A, B)))\n",
    "iffImpliesRight"
   ]
  },
  {
   "cell_type": "code",
   "execution_count": 25,
   "metadata": {
    "collapsed": false
   },
   "outputs": [
    {
     "data": {
      "text/latex": [
       "$\\forall_{ A , B } \\left(\\left(A \\Leftrightarrow B\\right) \\Rightarrow \\left(B \\Rightarrow A\\right)\\right)$"
      ],
      "text/plain": [
       "$\\forall_{ A , B } \\left(\\left(A \\Leftrightarrow B\\right) \\Rightarrow \\left(B \\Rightarrow A\\right)\\right)$"
      ]
     },
     "execution_count": 25,
     "metadata": {},
     "output_type": "execute_result"
    }
   ],
   "source": [
    "iffImpliesLeft = Forall((A, B), Implies(Iff(A, B), Implies(B, A)))\n",
    "iffImpliesLeft"
   ]
  },
  {
   "cell_type": "code",
   "execution_count": 26,
   "metadata": {
    "collapsed": false
   },
   "outputs": [
    {
     "data": {
      "text/latex": [
       "$\\forall_{ A , B } \\left(\\left(A \\Leftrightarrow B\\right) \\Rightarrow \\left(B \\Leftrightarrow A\\right)\\right)$"
      ],
      "text/plain": [
       "$\\forall_{ A , B } \\left(\\left(A \\Leftrightarrow B\\right) \\Rightarrow \\left(B \\Leftrightarrow A\\right)\\right)$"
      ]
     },
     "execution_count": 26,
     "metadata": {},
     "output_type": "execute_result"
    }
   ],
   "source": [
    "iffSymmetry = Forall((A, B), Implies(Iff(A, B), Iff(B, A)))\n",
    "iffSymmetry"
   ]
  },
  {
   "cell_type": "code",
   "execution_count": 27,
   "metadata": {
    "collapsed": false
   },
   "outputs": [
    {
     "data": {
      "text/latex": [
       "$\\forall_{ A , B , C } \\left(\\left( \\left(A \\Leftrightarrow B\\right) \\land \\left(B \\Leftrightarrow C\\right) \\right) \\Rightarrow \\left(A \\Leftrightarrow C\\right)\\right)$"
      ],
      "text/plain": [
       "$\\forall_{ A , B , C } \\left(\\left( \\left(A \\Leftrightarrow B\\right) \\land \\left(B \\Leftrightarrow C\\right) \\right) \\Rightarrow \\left(A \\Leftrightarrow C\\right)\\right)$"
      ]
     },
     "execution_count": 27,
     "metadata": {},
     "output_type": "execute_result"
    }
   ],
   "source": [
    "iffTransitivity = Forall((A, B, C), Implies(And(Iff(A, B), Iff(B, C)), Iff(A, C)))\n",
    "iffTransitivity"
   ]
  },
  {
   "cell_type": "code",
   "execution_count": 28,
   "metadata": {
    "collapsed": false
   },
   "outputs": [
    {
     "data": {
      "text/latex": [
       "$(\\lnot \\mathtt{TRUE}) \\Rightarrow \\mathtt{FALSE}$"
      ],
      "text/plain": [
       "$(\\lnot \\mathtt{TRUE}) \\Rightarrow \\mathtt{FALSE}$"
      ]
     },
     "execution_count": 28,
     "metadata": {},
     "output_type": "execute_result"
    }
   ],
   "source": [
    "notTimpliesF = Implies(Not(TRUE), FALSE)\n",
    "notTimpliesF"
   ]
  },
  {
   "cell_type": "code",
   "execution_count": 29,
   "metadata": {
    "collapsed": false
   },
   "outputs": [
    {
     "data": {
      "text/latex": [
       "$\\forall_{ A , B ~|~ A , B } \\left( A \\land B \\right)$"
      ],
      "text/plain": [
       "$\\forall_{ A , B ~|~ A , B } \\left( A \\land B \\right)$"
      ]
     },
     "execution_count": 29,
     "metadata": {},
     "output_type": "execute_result"
    }
   ],
   "source": [
    "conjunctionIntro = Forall((A, B), And(A, B), conditions=(A, B))\n",
    "conjunctionIntro"
   ]
  },
  {
   "cell_type": "code",
   "execution_count": 30,
   "metadata": {
    "collapsed": false
   },
   "outputs": [
    {
     "data": {
      "text/latex": [
       "$\\forall_{ A } \\left(\\left(A \\in \\cal{B}\\right) \\Rightarrow \\left( \\left(A = \\mathtt{TRUE}\\right) \\lor \\left(A = \\mathtt{FALSE}\\right) \\right)\\right)$"
      ],
      "text/plain": [
       "$\\forall_{ A } \\left(\\left(A \\in \\cal{B}\\right) \\Rightarrow \\left( \\left(A = \\mathtt{TRUE}\\right) \\lor \\left(A = \\mathtt{FALSE}\\right) \\right)\\right)$"
      ]
     },
     "execution_count": 30,
     "metadata": {},
     "output_type": "execute_result"
    }
   ],
   "source": [
    "unfoldInBool = Forall(A, Implies(inBool(A), Or(Equals(A, TRUE), Equals(A, FALSE))))\n",
    "unfoldInBool"
   ]
  },
  {
   "cell_type": "code",
   "execution_count": 31,
   "metadata": {
    "collapsed": false
   },
   "outputs": [
    {
     "data": {
      "text/latex": [
       "$\\forall_{ A } \\left(\\left( \\left(A = \\mathtt{TRUE}\\right) \\lor \\left(A = \\mathtt{FALSE}\\right) \\right) \\Rightarrow \\left(A \\in \\cal{B}\\right)\\right)$"
      ],
      "text/plain": [
       "$\\forall_{ A } \\left(\\left( \\left(A = \\mathtt{TRUE}\\right) \\lor \\left(A = \\mathtt{FALSE}\\right) \\right) \\Rightarrow \\left(A \\in \\cal{B}\\right)\\right)$"
      ]
     },
     "execution_count": 31,
     "metadata": {},
     "output_type": "execute_result"
    }
   ],
   "source": [
    "foldInBool = Forall(A, Implies(Or(Equals(A, TRUE), Equals(A, FALSE)), inBool(A)))\n",
    "foldInBool"
   ]
  },
  {
   "cell_type": "code",
   "execution_count": 32,
   "metadata": {
    "collapsed": false
   },
   "outputs": [
    {
     "data": {
      "text/latex": [
       "$\\forall_{ A } \\left((\\lnot A) \\Rightarrow \\left(A \\Rightarrow \\mathtt{FALSE}\\right)\\right)$"
      ],
      "text/plain": [
       "$\\forall_{ A } \\left((\\lnot A) \\Rightarrow \\left(A \\Rightarrow \\mathtt{FALSE}\\right)\\right)$"
      ]
     },
     "execution_count": 32,
     "metadata": {},
     "output_type": "execute_result"
    }
   ],
   "source": [
    "contradictionFromNegation = Forall(A, Implies(Not(A), Implies(A, FALSE)))\n",
    "contradictionFromNegation"
   ]
  },
  {
   "cell_type": "code",
   "execution_count": 33,
   "metadata": {
    "collapsed": false
   },
   "outputs": [
    {
     "data": {
      "text/latex": [
       "$\\forall_{ A } \\left(\\left(A = \\mathtt{FALSE}\\right) \\Rightarrow (\\lnot A)\\right)$"
      ],
      "text/plain": [
       "$\\forall_{ A } \\left(\\left(A = \\mathtt{FALSE}\\right) \\Rightarrow (\\lnot A)\\right)$"
      ]
     },
     "execution_count": 33,
     "metadata": {},
     "output_type": "execute_result"
    }
   ],
   "source": [
    "notFromEqFalse = Forall(A, Implies(Equals(A, FALSE), Not(A)))\n",
    "notFromEqFalse"
   ]
  },
  {
   "cell_type": "code",
   "execution_count": 34,
   "metadata": {
    "collapsed": false
   },
   "outputs": [
    {
     "data": {
      "text/latex": [
       "$\\forall_{ A } \\left(\\left(\\mathtt{FALSE} = A\\right) \\Rightarrow (\\lnot A)\\right)$"
      ],
      "text/plain": [
       "$\\forall_{ A } \\left(\\left(\\mathtt{FALSE} = A\\right) \\Rightarrow (\\lnot A)\\right)$"
      ]
     },
     "execution_count": 34,
     "metadata": {},
     "output_type": "execute_result"
    }
   ],
   "source": [
    "notFromEqFalseRev = Forall(A, Implies(Equals(FALSE, A), Not(A)))\n",
    "notFromEqFalseRev"
   ]
  },
  {
   "cell_type": "code",
   "execution_count": 35,
   "metadata": {
    "collapsed": false
   },
   "outputs": [
    {
     "data": {
      "text/latex": [
       "$\\forall_{ A , B } \\left((\\lnot A) \\Rightarrow \\left((\\lnot B) \\Rightarrow (\\lnot \\left( A \\lor B \\right))\\right)\\right)$"
      ],
      "text/plain": [
       "$\\forall_{ A , B } \\left((\\lnot A) \\Rightarrow \\left((\\lnot B) \\Rightarrow (\\lnot \\left( A \\lor B \\right))\\right)\\right)$"
      ]
     },
     "execution_count": 35,
     "metadata": {},
     "output_type": "execute_result"
    }
   ],
   "source": [
    "notOrFromNeither = Forall((A, B), Implies(Not(A), Implies(Not(B), Not(Or(A, B)))))\n",
    "notOrFromNeither"
   ]
  },
  {
   "cell_type": "code",
   "execution_count": 36,
   "metadata": {
    "collapsed": false
   },
   "outputs": [
    {
     "data": {
      "text/latex": [
       "$\\forall_{ A , B ~|~ (\\lnot A) , (\\lnot B) } \\left(\\left( A \\lor B \\right) \\Rightarrow \\mathtt{FALSE}\\right)$"
      ],
      "text/plain": [
       "$\\forall_{ A , B ~|~ (\\lnot A) , (\\lnot B) } \\left(\\left( A \\lor B \\right) \\Rightarrow \\mathtt{FALSE}\\right)$"
      ]
     },
     "execution_count": 36,
     "metadata": {},
     "output_type": "execute_result"
    }
   ],
   "source": [
    "orContradiction = Forall((A, B), Implies(Or(A, B), FALSE), conditions=(Not(A), Not(B)))\n",
    "orContradiction"
   ]
  },
  {
   "cell_type": "code",
   "execution_count": 37,
   "metadata": {
    "collapsed": false
   },
   "outputs": [
    {
     "data": {
      "text/latex": [
       "$\\forall_{ A , B ~|~ \\left(A \\in \\cal{B}\\right) , (\\lnot B) } \\left(\\left( A \\lor B \\right) \\Rightarrow A\\right)$"
      ],
      "text/plain": [
       "$\\forall_{ A , B ~|~ \\left(A \\in \\cal{B}\\right) , (\\lnot B) } \\left(\\left( A \\lor B \\right) \\Rightarrow A\\right)$"
      ]
     },
     "execution_count": 37,
     "metadata": {},
     "output_type": "execute_result"
    }
   ],
   "source": [
    "orImpliesLeftIfNotRight = Forall((A, B), Implies(Or(A, B), A), conditions=(inBool(A), Not(B)))\n",
    "orImpliesLeftIfNotRight"
   ]
  },
  {
   "cell_type": "code",
   "execution_count": 38,
   "metadata": {
    "collapsed": false
   },
   "outputs": [
    {
     "data": {
      "text/latex": [
       "$\\forall_{ A , B ~|~ (\\lnot A) , \\left(B \\in \\cal{B}\\right) } \\left(\\left( A \\lor B \\right) \\Rightarrow B\\right)$"
      ],
      "text/plain": [
       "$\\forall_{ A , B ~|~ (\\lnot A) , \\left(B \\in \\cal{B}\\right) } \\left(\\left( A \\lor B \\right) \\Rightarrow B\\right)$"
      ]
     },
     "execution_count": 38,
     "metadata": {},
     "output_type": "execute_result"
    }
   ],
   "source": [
    "orImpliesRightIfNotLeft = Forall((A, B), Implies(Or(A, B), B), conditions=(Not(A), inBool(B)))\n",
    "orImpliesRightIfNotLeft"
   ]
  },
  {
   "cell_type": "code",
   "execution_count": 39,
   "metadata": {
    "collapsed": false
   },
   "outputs": [
    {
     "data": {
      "text/latex": [
       "$\\forall_{ A } \\left(A \\Rightarrow (\\lnot (\\lnot A))\\right)$"
      ],
      "text/plain": [
       "$\\forall_{ A } \\left(A \\Rightarrow (\\lnot (\\lnot A))\\right)$"
      ]
     },
     "execution_count": 39,
     "metadata": {},
     "output_type": "execute_result"
    }
   ],
   "source": [
    "doubleNegation = Forall(A, Implies(A, Not(Not(A))))\n",
    "doubleNegation"
   ]
  },
  {
   "cell_type": "code",
   "execution_count": 40,
   "metadata": {
    "collapsed": false
   },
   "outputs": [
    {
     "data": {
      "text/latex": [
       "$\\forall_{ A } \\left(A \\Rightarrow \\left((\\lnot A) = \\mathtt{FALSE}\\right)\\right)$"
      ],
      "text/plain": [
       "$\\forall_{ A } \\left(A \\Rightarrow \\left((\\lnot A) = \\mathtt{FALSE}\\right)\\right)$"
      ]
     },
     "execution_count": 40,
     "metadata": {},
     "output_type": "execute_result"
    }
   ],
   "source": [
    "eqFalseFromNegation = Forall(A, Implies(A, Equals(Not(A), FALSE)))\n",
    "eqFalseFromNegation"
   ]
  },
  {
   "cell_type": "code",
   "execution_count": 41,
   "metadata": {
    "collapsed": false
   },
   "outputs": [
    {
     "data": {
      "text/latex": [
       "$\\forall_{ A } \\left(A \\Rightarrow \\left(\\mathtt{FALSE} = (\\lnot A)\\right)\\right)$"
      ],
      "text/plain": [
       "$\\forall_{ A } \\left(A \\Rightarrow \\left(\\mathtt{FALSE} = (\\lnot A)\\right)\\right)$"
      ]
     },
     "execution_count": 41,
     "metadata": {},
     "output_type": "execute_result"
    }
   ],
   "source": [
    "eqFalseRevFromNegation = Forall(A, Implies(A, Equals(FALSE, Not(A))))\n",
    "eqFalseRevFromNegation"
   ]
  },
  {
   "cell_type": "code",
   "execution_count": 42,
   "metadata": {
    "collapsed": false
   },
   "outputs": [
    {
     "data": {
      "text/latex": [
       "$\\forall_{ A  \\in \\cal{B}} \\left(\\left(A \\neq \\mathtt{FALSE}\\right) \\Rightarrow A\\right)$"
      ],
      "text/plain": [
       "$\\forall_{ A  \\in \\cal{B}} \\left(\\left(A \\neq \\mathtt{FALSE}\\right) \\Rightarrow A\\right)$"
      ]
     },
     "execution_count": 42,
     "metadata": {},
     "output_type": "execute_result"
    }
   ],
   "source": [
    "fromNotFalse = Forall(A, Implies(NotEquals(A, FALSE), A), domain=BOOLEANS)\n",
    "fromNotFalse"
   ]
  },
  {
   "cell_type": "code",
   "execution_count": 43,
   "metadata": {
    "collapsed": false
   },
   "outputs": [
    {
     "data": {
      "text/latex": [
       "$\\forall_{ A , B ~|~ \\left(B \\in \\cal{B}\\right) } \\left(\\left((\\lnot B) \\Rightarrow (\\lnot A)\\right) \\Rightarrow \\left(A \\Rightarrow B\\right)\\right)$"
      ],
      "text/plain": [
       "$\\forall_{ A , B ~|~ \\left(B \\in \\cal{B}\\right) } \\left(\\left((\\lnot B) \\Rightarrow (\\lnot A)\\right) \\Rightarrow \\left(A \\Rightarrow B\\right)\\right)$"
      ]
     },
     "execution_count": 43,
     "metadata": {},
     "output_type": "execute_result"
    }
   ],
   "source": [
    "transpositionFromNegated = Forall((A, B), Implies(Implies(Not(B), Not(A)), Implies(A, B)), conditions=inBool(B))\n",
    "transpositionFromNegated"
   ]
  },
  {
   "cell_type": "code",
   "execution_count": 44,
   "metadata": {
    "collapsed": false
   },
   "outputs": [
    {
     "data": {
      "text/latex": [
       "$\\forall_{ A , B ~|~ \\left(B \\in \\cal{B}\\right) } \\left(\\left(A \\Rightarrow B\\right) \\Rightarrow \\left(A \\Rightarrow (\\lnot (\\lnot B))\\right)\\right)$"
      ],
      "text/plain": [
       "$\\forall_{ A , B ~|~ \\left(B \\in \\cal{B}\\right) } \\left(\\left(A \\Rightarrow B\\right) \\Rightarrow \\left(A \\Rightarrow (\\lnot (\\lnot B))\\right)\\right)$"
      ]
     },
     "execution_count": 44,
     "metadata": {},
     "output_type": "execute_result"
    }
   ],
   "source": [
    "doubleNegateConclusion = Forall((A, B), Implies(Implies(A, B), Implies(A, Not(Not(B)))), conditions=inBool(B))\n",
    "doubleNegateConclusion"
   ]
  },
  {
   "cell_type": "code",
   "execution_count": 45,
   "metadata": {
    "collapsed": false
   },
   "outputs": [
    {
     "data": {
      "text/latex": [
       "$\\forall_{ A , B  \\in \\cal{B}} \\left(\\left((\\lnot B) \\Rightarrow A\\right) \\Rightarrow \\left((\\lnot A) \\Rightarrow B\\right)\\right)$"
      ],
      "text/plain": [
       "$\\forall_{ A , B  \\in \\cal{B}} \\left(\\left((\\lnot B) \\Rightarrow A\\right) \\Rightarrow \\left((\\lnot A) \\Rightarrow B\\right)\\right)$"
      ]
     },
     "execution_count": 45,
     "metadata": {},
     "output_type": "execute_result"
    }
   ],
   "source": [
    "transpositionFromNegatedHypothesis = Forall((A, B), Implies(Implies(Not(B), A), Implies(Not(A), B)), domain=BOOLEANS)\n",
    "transpositionFromNegatedHypothesis"
   ]
  },
  {
   "cell_type": "code",
   "execution_count": 46,
   "metadata": {
    "collapsed": false
   },
   "outputs": [
    {
     "data": {
      "text/latex": [
       "$\\forall_{ A , B ~|~ \\left(B \\in \\cal{B}\\right) } \\left(\\left(B \\Rightarrow (\\lnot A)\\right) \\Rightarrow \\left(A \\Rightarrow (\\lnot B)\\right)\\right)$"
      ],
      "text/plain": [
       "$\\forall_{ A , B ~|~ \\left(B \\in \\cal{B}\\right) } \\left(\\left(B \\Rightarrow (\\lnot A)\\right) \\Rightarrow \\left(A \\Rightarrow (\\lnot B)\\right)\\right)$"
      ]
     },
     "execution_count": 46,
     "metadata": {},
     "output_type": "execute_result"
    }
   ],
   "source": [
    "transpositionFromNegatedConclusion = Forall((A, B), Implies(Implies(B, Not(A)), Implies(A, Not(B))), conditions=inBool(B))\n",
    "transpositionFromNegatedConclusion"
   ]
  },
  {
   "cell_type": "code",
   "execution_count": 47,
   "metadata": {
    "collapsed": false
   },
   "outputs": [
    {
     "data": {
      "text/latex": [
       "$\\forall_{ A , B  \\in \\cal{B}} \\left(\\left(B \\Rightarrow A\\right) \\Rightarrow \\left((\\lnot A) \\Rightarrow (\\lnot B)\\right)\\right)$"
      ],
      "text/plain": [
       "$\\forall_{ A , B  \\in \\cal{B}} \\left(\\left(B \\Rightarrow A\\right) \\Rightarrow \\left((\\lnot A) \\Rightarrow (\\lnot B)\\right)\\right)$"
      ]
     },
     "execution_count": 47,
     "metadata": {},
     "output_type": "execute_result"
    }
   ],
   "source": [
    "transpositionToNegated = Forall((A, B), Implies(Implies(B, A), Implies(Not(A), Not(B))), domain=BOOLEANS)\n",
    "transpositionToNegated"
   ]
  },
  {
   "cell_type": "code",
   "execution_count": 48,
   "metadata": {
    "collapsed": false
   },
   "outputs": [
    {
     "data": {
      "text/latex": [
       "$\\mathtt{TRUE} \\neq \\mathtt{FALSE}$"
      ],
      "text/plain": [
       "$\\mathtt{TRUE} \\neq \\mathtt{FALSE}$"
      ]
     },
     "execution_count": 48,
     "metadata": {},
     "output_type": "execute_result"
    }
   ],
   "source": [
    "trueNotFalse = NotEquals(TRUE, FALSE)\n",
    "trueNotFalse"
   ]
  },
  {
   "cell_type": "code",
   "execution_count": 49,
   "metadata": {
    "collapsed": false
   },
   "outputs": [
    {
     "data": {
      "text/latex": [
       "$\\forall_{ A } \\left(A \\Rightarrow \\left(A \\neq \\mathtt{FALSE}\\right)\\right)$"
      ],
      "text/plain": [
       "$\\forall_{ A } \\left(A \\Rightarrow \\left(A \\neq \\mathtt{FALSE}\\right)\\right)$"
      ]
     },
     "execution_count": 49,
     "metadata": {},
     "output_type": "execute_result"
    }
   ],
   "source": [
    "notEqualsFalse = Forall(A, Implies(A, NotEquals(A, FALSE)))\n",
    "notEqualsFalse"
   ]
  },
  {
   "cell_type": "code",
   "execution_count": 50,
   "metadata": {
    "collapsed": false
   },
   "outputs": [
    {
     "data": {
      "text/latex": [
       "$\\mathtt{TRUE} \\in \\cal{B}$"
      ],
      "text/plain": [
       "$\\mathtt{TRUE} \\in \\cal{B}$"
      ]
     },
     "execution_count": 50,
     "metadata": {},
     "output_type": "execute_result"
    }
   ],
   "source": [
    "trueInBool = inBool(TRUE)\n",
    "trueInBool"
   ]
  },
  {
   "cell_type": "code",
   "execution_count": 51,
   "metadata": {
    "collapsed": false
   },
   "outputs": [
    {
     "data": {
      "text/latex": [
       "$\\mathtt{FALSE} \\in \\cal{B}$"
      ],
      "text/plain": [
       "$\\mathtt{FALSE} \\in \\cal{B}$"
      ]
     },
     "execution_count": 51,
     "metadata": {},
     "output_type": "execute_result"
    }
   ],
   "source": [
    "falseInBool = inBool(FALSE)\n",
    "falseInBool"
   ]
  },
  {
   "cell_type": "code",
   "execution_count": 52,
   "metadata": {
    "collapsed": false
   },
   "outputs": [
    {
     "data": {
      "text/latex": [
       "$\\forall_{ P } \\left(\\left[\\forall_{ A  \\in \\cal{B}} P\\left( A \\right)\\right] \\Rightarrow \\left( P\\left( \\mathtt{TRUE} \\right) \\land P\\left( \\mathtt{FALSE} \\right) \\right)\\right)$"
      ],
      "text/plain": [
       "$\\forall_{ P } \\left(\\left[\\forall_{ A  \\in \\cal{B}} P\\left( A \\right)\\right] \\Rightarrow \\left( P\\left( \\mathtt{TRUE} \\right) \\land P\\left( \\mathtt{FALSE} \\right) \\right)\\right)$"
      ]
     },
     "execution_count": 52,
     "metadata": {},
     "output_type": "execute_result"
    }
   ],
   "source": [
    "unfoldForallOverBool = Forall(P, Implies(Forall(A, PofA, domain=BOOLEANS), And(PofTrue, PofFalse)))\n",
    "unfoldForallOverBool"
   ]
  },
  {
   "cell_type": "code",
   "execution_count": 53,
   "metadata": {
    "collapsed": false
   },
   "outputs": [
    {
     "data": {
      "text/latex": [
       "$\\forall_{ A } \\left(\\left(A = \\mathtt{TRUE}\\right) \\Rightarrow \\left(A \\in \\cal{B}\\right)\\right)$"
      ],
      "text/plain": [
       "$\\forall_{ A } \\left(\\left(A = \\mathtt{TRUE}\\right) \\Rightarrow \\left(A \\in \\cal{B}\\right)\\right)$"
      ]
     },
     "execution_count": 53,
     "metadata": {},
     "output_type": "execute_result"
    }
   ],
   "source": [
    "inBoolIfEqTrue = Forall(A, Implies(Equals(A, TRUE), inBool(A)))\n",
    "inBoolIfEqTrue"
   ]
  },
  {
   "cell_type": "code",
   "execution_count": 54,
   "metadata": {
    "collapsed": false
   },
   "outputs": [
    {
     "data": {
      "text/latex": [
       "$\\forall_{ A } \\left(\\left(\\mathtt{TRUE} = A\\right) \\Rightarrow \\left(A \\in \\cal{B}\\right)\\right)$"
      ],
      "text/plain": [
       "$\\forall_{ A } \\left(\\left(\\mathtt{TRUE} = A\\right) \\Rightarrow \\left(A \\in \\cal{B}\\right)\\right)$"
      ]
     },
     "execution_count": 54,
     "metadata": {},
     "output_type": "execute_result"
    }
   ],
   "source": [
    "inBoolIfEqTrueRev = Forall(A, Implies(Equals(TRUE, A), inBool(A)))\n",
    "inBoolIfEqTrueRev"
   ]
  },
  {
   "cell_type": "code",
   "execution_count": 55,
   "metadata": {
    "collapsed": false
   },
   "outputs": [
    {
     "data": {
      "text/latex": [
       "$\\forall_{ A } \\left(\\left(A = \\mathtt{FALSE}\\right) \\Rightarrow \\left(A \\in \\cal{B}\\right)\\right)$"
      ],
      "text/plain": [
       "$\\forall_{ A } \\left(\\left(A = \\mathtt{FALSE}\\right) \\Rightarrow \\left(A \\in \\cal{B}\\right)\\right)$"
      ]
     },
     "execution_count": 55,
     "metadata": {},
     "output_type": "execute_result"
    }
   ],
   "source": [
    "inBoolIfEqFalse = Forall(A, Implies(Equals(A, FALSE), inBool(A)))\n",
    "inBoolIfEqFalse"
   ]
  },
  {
   "cell_type": "code",
   "execution_count": 56,
   "metadata": {
    "collapsed": false
   },
   "outputs": [
    {
     "data": {
      "text/latex": [
       "$\\forall_{ A } \\left(\\left(\\mathtt{FALSE} = A\\right) \\Rightarrow \\left(A \\in \\cal{B}\\right)\\right)$"
      ],
      "text/plain": [
       "$\\forall_{ A } \\left(\\left(\\mathtt{FALSE} = A\\right) \\Rightarrow \\left(A \\in \\cal{B}\\right)\\right)$"
      ]
     },
     "execution_count": 56,
     "metadata": {},
     "output_type": "execute_result"
    }
   ],
   "source": [
    "inBoolIfEqFalseRev = Forall(A, Implies(Equals(FALSE, A), inBool(A)))\n",
    "inBoolIfEqFalseRev"
   ]
  },
  {
   "cell_type": "code",
   "execution_count": 57,
   "metadata": {
    "collapsed": false
   },
   "outputs": [
    {
     "data": {
      "text/latex": [
       "$\\forall_{ A , B , C  \\in \\cal{B}} \\left(\\left( \\left(A \\Rightarrow C\\right) \\land \\left(B \\Rightarrow C\\right) \\right) \\Rightarrow \\left(\\left( A \\lor B \\right) \\Rightarrow C\\right)\\right)$"
      ],
      "text/plain": [
       "$\\forall_{ A , B , C  \\in \\cal{B}} \\left(\\left( \\left(A \\Rightarrow C\\right) \\land \\left(B \\Rightarrow C\\right) \\right) \\Rightarrow \\left(\\left( A \\lor B \\right) \\Rightarrow C\\right)\\right)$"
      ]
     },
     "execution_count": 57,
     "metadata": {},
     "output_type": "execute_result"
    }
   ],
   "source": [
    "hypotheticalDisjunction = Forall((A, B, C), Implies(And(Implies(A, C), Implies(B, C)), Implies(Or(A, B), C)), domain=BOOLEANS)\n",
    "hypotheticalDisjunction"
   ]
  },
  {
   "cell_type": "code",
   "execution_count": 58,
   "metadata": {
    "collapsed": false
   },
   "outputs": [
    {
     "data": {
      "text/latex": [
       "$\\forall_{ P } \\left(\\left( P\\left( \\mathtt{TRUE} \\right) \\land P\\left( \\mathtt{FALSE} \\right) \\right) \\Rightarrow \\left[\\forall_{ A  \\in \\cal{B}} P\\left( A \\right)\\right]\\right)$"
      ],
      "text/plain": [
       "$\\forall_{ P } \\left(\\left( P\\left( \\mathtt{TRUE} \\right) \\land P\\left( \\mathtt{FALSE} \\right) \\right) \\Rightarrow \\left[\\forall_{ A  \\in \\cal{B}} P\\left( A \\right)\\right]\\right)$"
      ]
     },
     "execution_count": 58,
     "metadata": {},
     "output_type": "execute_result"
    }
   ],
   "source": [
    "foldForallOverBool = Forall(P, Implies(And(PofTrue, PofFalse), Forall(A, PofA, domain = BOOLEANS)))\n",
    "foldForallOverBool"
   ]
  },
  {
   "cell_type": "code",
   "execution_count": 59,
   "metadata": {
    "collapsed": false
   },
   "outputs": [
    {
     "data": {
      "text/latex": [
       "$\\forall_{ P } \\left(\\left( P\\left( \\mathtt{TRUE} \\right) \\land P\\left( \\mathtt{FALSE} \\right) \\right) \\Rightarrow \\left(\\left[\\forall_{ A  \\in \\cal{B}} P\\left( A \\right)\\right] = \\mathtt{TRUE}\\right)\\right)$"
      ],
      "text/plain": [
       "$\\forall_{ P } \\left(\\left( P\\left( \\mathtt{TRUE} \\right) \\land P\\left( \\mathtt{FALSE} \\right) \\right) \\Rightarrow \\left(\\left[\\forall_{ A  \\in \\cal{B}} P\\left( A \\right)\\right] = \\mathtt{TRUE}\\right)\\right)$"
      ]
     },
     "execution_count": 59,
     "metadata": {},
     "output_type": "execute_result"
    }
   ],
   "source": [
    "forallBoolEvalTrue = Forall(P, Implies(And(PofTrue, PofFalse), Equals(Forall(A, PofA, domain=BOOLEANS), TRUE)))\n",
    "forallBoolEvalTrue"
   ]
  },
  {
   "cell_type": "code",
   "execution_count": 60,
   "metadata": {
    "collapsed": false
   },
   "outputs": [
    {
     "data": {
      "text/latex": [
       "$\\forall_{ P ,~.., Q_{\\Box} ,..., R_{\\Box} ,..~, S } \\left(\\left[\\forall_{~.., x_{\\Box} ,..~ \\in S~|~~.., Q_{\\Box}\\left(~.., x_{\\Box} ,..~\\right) ,..~} \\left[\\forall_{~.., y_{\\Box} ,..~ \\in S~|~~.., R_{\\Box}\\left(~.., y_{\\Box} ,..~\\right) ,..~} P\\left(~.., x_{\\Box} ,..., y_{\\Box} ,..~\\right)\\right]\\right] \\Rightarrow \\left[\\forall_{~.., x_{\\Box} ,..., y_{\\Box} ,..~ \\in S~|~~.., Q_{\\Box}\\left(~.., x_{\\Box} ,..~\\right) ,..., R_{\\Box}\\left(~.., y_{\\Box} ,..~\\right) ,..~} P\\left(~.., x_{\\Box} ,..., y_{\\Box} ,..~\\right)\\right]\\right)$"
      ],
      "text/plain": [
       "$\\forall_{ P ,~.., Q_{\\Box} ,..., R_{\\Box} ,..~, S } \\left(\\left[\\forall_{~.., x_{\\Box} ,..~ \\in S~|~~.., Q_{\\Box}\\left(~.., x_{\\Box} ,..~\\right) ,..~} \\left[\\forall_{~.., y_{\\Box} ,..~ \\in S~|~~.., R_{\\Box}\\left(~.., y_{\\Box} ,..~\\right) ,..~} P\\left(~.., x_{\\Box} ,..., y_{\\Box} ,..~\\right)\\right]\\right] \\Rightarrow \\left[\\forall_{~.., x_{\\Box} ,..., y_{\\Box} ,..~ \\in S~|~~.., Q_{\\Box}\\left(~.., x_{\\Box} ,..~\\right) ,..., R_{\\Box}\\left(~.., y_{\\Box} ,..~\\right) ,..~} P\\left(~.., x_{\\Box} ,..., y_{\\Box} ,..~\\right)\\right]\\right)$"
      ]
     },
     "execution_count": 60,
     "metadata": {},
     "output_type": "execute_result"
    }
   ],
   "source": [
    "forallBundling = Forall((P, Qetc, Retc, S), Implies(Forall(xEtc, Forall(yEtc, PxyEtc, S, etc_RyEtc), S, etc_QxEtc), Forall((xEtc, yEtc), PxyEtc, S, (etc_QxEtc, etc_RyEtc))))\n",
    "forallBundling"
   ]
  },
  {
   "cell_type": "code",
   "execution_count": 61,
   "metadata": {
    "collapsed": false
   },
   "outputs": [
    {
     "data": {
      "text/latex": [
       "$\\forall_{ P ,~.., Q_{\\Box} ,..., R_{\\Box} ,..~, S } \\left(\\left[\\forall_{~.., x_{\\Box} ,..., y_{\\Box} ,..~ \\in S~|~~.., Q_{\\Box}\\left(~.., x_{\\Box} ,..~\\right) ,..., R_{\\Box}\\left(~.., y_{\\Box} ,..~\\right) ,..~} P\\left(~.., x_{\\Box} ,..., y_{\\Box} ,..~\\right)\\right] \\Rightarrow \\left[\\forall_{~.., x_{\\Box} ,..~ \\in S~|~~.., Q_{\\Box}\\left(~.., x_{\\Box} ,..~\\right) ,..~} \\left[\\forall_{~.., y_{\\Box} ,..~ \\in S~|~~.., R_{\\Box}\\left(~.., y_{\\Box} ,..~\\right) ,..~} P\\left(~.., x_{\\Box} ,..., y_{\\Box} ,..~\\right)\\right]\\right]\\right)$"
      ],
      "text/plain": [
       "$\\forall_{ P ,~.., Q_{\\Box} ,..., R_{\\Box} ,..~, S } \\left(\\left[\\forall_{~.., x_{\\Box} ,..., y_{\\Box} ,..~ \\in S~|~~.., Q_{\\Box}\\left(~.., x_{\\Box} ,..~\\right) ,..., R_{\\Box}\\left(~.., y_{\\Box} ,..~\\right) ,..~} P\\left(~.., x_{\\Box} ,..., y_{\\Box} ,..~\\right)\\right] \\Rightarrow \\left[\\forall_{~.., x_{\\Box} ,..~ \\in S~|~~.., Q_{\\Box}\\left(~.., x_{\\Box} ,..~\\right) ,..~} \\left[\\forall_{~.., y_{\\Box} ,..~ \\in S~|~~.., R_{\\Box}\\left(~.., y_{\\Box} ,..~\\right) ,..~} P\\left(~.., x_{\\Box} ,..., y_{\\Box} ,..~\\right)\\right]\\right]\\right)$"
      ]
     },
     "execution_count": 61,
     "metadata": {},
     "output_type": "execute_result"
    }
   ],
   "source": [
    "forallUnraveling = Forall((P, Qetc, Retc, S), Implies(Forall((xEtc, yEtc), PxyEtc, S, (etc_QxEtc, etc_RyEtc)), Forall(xEtc, Forall(yEtc, PxyEtc, S, etc_RyEtc), S, etc_QxEtc)))\n",
    "forallUnraveling"
   ]
  },
  {
   "cell_type": "code",
   "execution_count": 62,
   "metadata": {
    "collapsed": false
   },
   "outputs": [
    {
     "data": {
      "text/latex": [
       "$\\forall_{ A , B  \\in \\cal{B}} \\left(\\left(A \\Leftrightarrow B\\right) \\Rightarrow \\left(A = B\\right)\\right)$"
      ],
      "text/plain": [
       "$\\forall_{ A , B  \\in \\cal{B}} \\left(\\left(A \\Leftrightarrow B\\right) \\Rightarrow \\left(A = B\\right)\\right)$"
      ]
     },
     "execution_count": 62,
     "metadata": {},
     "output_type": "execute_result"
    }
   ],
   "source": [
    "iffOverBoolImplEq = Forall((A, B), Implies(Iff(A, B), Equals(A, B)), domain=BOOLEANS)\n",
    "iffOverBoolImplEq"
   ]
  },
  {
   "cell_type": "code",
   "execution_count": 63,
   "metadata": {
    "collapsed": false
   },
   "outputs": [
    {
     "data": {
      "text/latex": [
       "$\\forall_{ A  \\in \\cal{B}} \\left(A = (\\lnot (\\lnot A))\\right)$"
      ],
      "text/plain": [
       "$\\forall_{ A  \\in \\cal{B}} \\left(A = (\\lnot (\\lnot A))\\right)$"
      ]
     },
     "execution_count": 63,
     "metadata": {},
     "output_type": "execute_result"
    }
   ],
   "source": [
    "doubleNegationEquiv = Forall(A, Equals(A, Not(Not(A))), domain=BOOLEANS)\n",
    "doubleNegationEquiv"
   ]
  },
  {
   "cell_type": "code",
   "execution_count": 64,
   "metadata": {
    "collapsed": false
   },
   "outputs": [
    {
     "data": {
      "text/latex": [
       "$\\forall_{ P ,~.., Q_{\\Box} ,..., R_{\\Box} ,..~, S } \\left(\\left[\\forall_{~.., x_{\\Box} ,..., y_{\\Box} ,..~ \\in S~|~~.., Q_{\\Box}\\left(~.., x_{\\Box} ,..~\\right) ,..., R_{\\Box}\\left(~.., y_{\\Box} ,..~\\right) ,..~} P\\left(~.., x_{\\Box} ,..., y_{\\Box} ,..~\\right)\\right] = \\left[\\forall_{~.., x_{\\Box} ,..~ \\in S~|~~.., Q_{\\Box}\\left(~.., x_{\\Box} ,..~\\right) ,..~} \\left[\\forall_{~.., y_{\\Box} ,..~ \\in S~|~~.., R_{\\Box}\\left(~.., y_{\\Box} ,..~\\right) ,..~} P\\left(~.., x_{\\Box} ,..., y_{\\Box} ,..~\\right)\\right]\\right]\\right)$"
      ],
      "text/plain": [
       "$\\forall_{ P ,~.., Q_{\\Box} ,..., R_{\\Box} ,..~, S } \\left(\\left[\\forall_{~.., x_{\\Box} ,..., y_{\\Box} ,..~ \\in S~|~~.., Q_{\\Box}\\left(~.., x_{\\Box} ,..~\\right) ,..., R_{\\Box}\\left(~.., y_{\\Box} ,..~\\right) ,..~} P\\left(~.., x_{\\Box} ,..., y_{\\Box} ,..~\\right)\\right] = \\left[\\forall_{~.., x_{\\Box} ,..~ \\in S~|~~.., Q_{\\Box}\\left(~.., x_{\\Box} ,..~\\right) ,..~} \\left[\\forall_{~.., y_{\\Box} ,..~ \\in S~|~~.., R_{\\Box}\\left(~.., y_{\\Box} ,..~\\right) ,..~} P\\left(~.., x_{\\Box} ,..., y_{\\Box} ,..~\\right)\\right]\\right]\\right)$"
      ]
     },
     "execution_count": 64,
     "metadata": {},
     "output_type": "execute_result"
    }
   ],
   "source": [
    "forallBundledEquiv = Forall((P, Qetc, Retc, S), Equals(Forall((xEtc, yEtc), PxyEtc, S, (etc_QxEtc, etc_RyEtc)), Forall(xEtc, Forall(yEtc, PxyEtc, S, etc_RyEtc), S, etc_QxEtc)))\n",
    "forallBundledEquiv"
   ]
  },
  {
   "cell_type": "code",
   "execution_count": 65,
   "metadata": {
    "collapsed": false
   },
   "outputs": [
    {
     "data": {
      "text/latex": [
       "$\\forall_{ P ,~.., Q_{\\Box} ,..~, S } \\left(\\left[\\forall_{~.., x_{\\Box} ,..~ \\in S~|~~.., Q_{\\Box}\\left(~.., x_{\\Box} ,..~\\right) ,..~} P\\left(~.., x_{\\Box} ,..~\\right)\\right] = \\left[\\forall_{~.., x_{\\Box} ,..~ \\in S~|~~.., Q_{\\Box}\\left(~.., x_{\\Box} ,..~\\right) ,..~} \\left(P\\left(~.., x_{\\Box} ,..~\\right) = \\mathtt{TRUE}\\right)\\right]\\right)$"
      ],
      "text/plain": [
       "$\\forall_{ P ,~.., Q_{\\Box} ,..~, S } \\left(\\left[\\forall_{~.., x_{\\Box} ,..~ \\in S~|~~.., Q_{\\Box}\\left(~.., x_{\\Box} ,..~\\right) ,..~} P\\left(~.., x_{\\Box} ,..~\\right)\\right] = \\left[\\forall_{~.., x_{\\Box} ,..~ \\in S~|~~.., Q_{\\Box}\\left(~.., x_{\\Box} ,..~\\right) ,..~} \\left(P\\left(~.., x_{\\Box} ,..~\\right) = \\mathtt{TRUE}\\right)\\right]\\right)$"
      ]
     },
     "execution_count": 65,
     "metadata": {},
     "output_type": "execute_result"
    }
   ],
   "source": [
    "forallEqTrueEquiv = Forall((P, Qetc, S), Equals(Forall(xEtc, PxEtc, S, etc_QxEtc), Forall(xEtc, Equals(PxEtc, TRUE), S, etc_QxEtc)))\n",
    "forallEqTrueEquiv"
   ]
  },
  {
   "cell_type": "code",
   "execution_count": 66,
   "metadata": {
    "collapsed": false
   },
   "outputs": [
    {
     "data": {
      "text/latex": [
       "$\\forall_{ A , B  \\in \\cal{B}} \\left(\\left(A \\Rightarrow B\\right) \\in \\cal{B}\\right)$"
      ],
      "text/plain": [
       "$\\forall_{ A , B  \\in \\cal{B}} \\left(\\left(A \\Rightarrow B\\right) \\in \\cal{B}\\right)$"
      ]
     },
     "execution_count": 66,
     "metadata": {},
     "output_type": "execute_result"
    }
   ],
   "source": [
    "implicationClosure = Forall((A, B), inBool(Implies(A, B)), domain=BOOLEANS)\n",
    "implicationClosure"
   ]
  },
  {
   "cell_type": "code",
   "execution_count": 67,
   "metadata": {
    "collapsed": false
   },
   "outputs": [
    {
     "data": {
      "text/latex": [
       "$\\forall_{ A , B  \\in \\cal{B}} \\left(\\left(A \\Leftrightarrow B\\right) \\in \\cal{B}\\right)$"
      ],
      "text/plain": [
       "$\\forall_{ A , B  \\in \\cal{B}} \\left(\\left(A \\Leftrightarrow B\\right) \\in \\cal{B}\\right)$"
      ]
     },
     "execution_count": 67,
     "metadata": {},
     "output_type": "execute_result"
    }
   ],
   "source": [
    "iffClosure = Forall((A, B), inBool(Iff(A, B)), domain=BOOLEANS)\n",
    "iffClosure"
   ]
  },
  {
   "cell_type": "code",
   "execution_count": 68,
   "metadata": {
    "collapsed": false
   },
   "outputs": [
    {
     "data": {
      "text/latex": [
       "$\\forall_{ A , B  \\in \\cal{B}} \\left(\\left( A \\land B \\right) \\in \\cal{B}\\right)$"
      ],
      "text/plain": [
       "$\\forall_{ A , B  \\in \\cal{B}} \\left(\\left( A \\land B \\right) \\in \\cal{B}\\right)$"
      ]
     },
     "execution_count": 68,
     "metadata": {},
     "output_type": "execute_result"
    }
   ],
   "source": [
    "conjunctionClosure = Forall((A, B), inBool(And(A, B)), domain=BOOLEANS)\n",
    "conjunctionClosure"
   ]
  },
  {
   "cell_type": "code",
   "execution_count": 69,
   "metadata": {
    "collapsed": false
   },
   "outputs": [
    {
     "data": {
      "text/latex": [
       "$\\forall_{ A , B  \\in \\cal{B}} \\left(\\left( A \\lor B \\right) \\in \\cal{B}\\right)$"
      ],
      "text/plain": [
       "$\\forall_{ A , B  \\in \\cal{B}} \\left(\\left( A \\lor B \\right) \\in \\cal{B}\\right)$"
      ]
     },
     "execution_count": 69,
     "metadata": {},
     "output_type": "execute_result"
    }
   ],
   "source": [
    "disjunctionClosure = Forall((A, B), inBool(Or(A, B)), domain=BOOLEANS)\n",
    "disjunctionClosure"
   ]
  },
  {
   "cell_type": "code",
   "execution_count": 70,
   "metadata": {
    "collapsed": false
   },
   "outputs": [
    {
     "data": {
      "text/latex": [
       "$\\forall_{ A  \\in \\cal{B}} \\left((\\lnot A) \\in \\cal{B}\\right)$"
      ],
      "text/plain": [
       "$\\forall_{ A  \\in \\cal{B}} \\left((\\lnot A) \\in \\cal{B}\\right)$"
      ]
     },
     "execution_count": 70,
     "metadata": {},
     "output_type": "execute_result"
    }
   ],
   "source": [
    "negationClosure = Forall(A, inBool(Not(A)), domain=BOOLEANS)\n",
    "negationClosure"
   ]
  },
  {
   "cell_type": "code",
   "execution_count": 71,
   "metadata": {
    "collapsed": false
   },
   "outputs": [
    {
     "data": {
      "text/latex": [
       "$\\forall_{ A  \\in \\cal{B}} \\left(\\left(A \\Rightarrow \\mathtt{FALSE}\\right) \\Rightarrow (\\lnot A)\\right)$"
      ],
      "text/plain": [
       "$\\forall_{ A  \\in \\cal{B}} \\left(\\left(A \\Rightarrow \\mathtt{FALSE}\\right) \\Rightarrow (\\lnot A)\\right)$"
      ]
     },
     "execution_count": 71,
     "metadata": {},
     "output_type": "execute_result"
    }
   ],
   "source": [
    "hypotheticalContradiction = Forall(A, Implies(Implies(A, FALSE), Not(A)), domain=BOOLEANS)\n",
    "hypotheticalContradiction"
   ]
  },
  {
   "cell_type": "code",
   "execution_count": 72,
   "metadata": {
    "collapsed": false
   },
   "outputs": [
    {
     "data": {
      "text/latex": [
       "$\\forall_{ P ,~.., Q_{\\Box} ,..~, S } \\left(\\left[\\nexists_{~.., x_{\\Box} ,..~ \\in S~|~~.., Q_{\\Box}\\left(~.., x_{\\Box} ,..~\\right) ,..~} P\\left(~.., x_{\\Box} ,..~\\right)\\right] = \\left[\\forall_{~.., x_{\\Box} ,..~ \\in S~|~~.., Q_{\\Box}\\left(~.., x_{\\Box} ,..~\\right) ,..~} \\left(P\\left(~.., x_{\\Box} ,..~\\right) \\neq \\mathtt{TRUE}\\right)\\right]\\right)$"
      ],
      "text/plain": [
       "$\\forall_{ P ,~.., Q_{\\Box} ,..~, S } \\left(\\left[\\nexists_{~.., x_{\\Box} ,..~ \\in S~|~~.., Q_{\\Box}\\left(~.., x_{\\Box} ,..~\\right) ,..~} P\\left(~.., x_{\\Box} ,..~\\right)\\right] = \\left[\\forall_{~.., x_{\\Box} ,..~ \\in S~|~~.., Q_{\\Box}\\left(~.., x_{\\Box} ,..~\\right) ,..~} \\left(P\\left(~.., x_{\\Box} ,..~\\right) \\neq \\mathtt{TRUE}\\right)\\right]\\right)$"
      ]
     },
     "execution_count": 72,
     "metadata": {},
     "output_type": "execute_result"
    }
   ],
   "source": [
    "existsDefNegation = Forall((P, Qetc, S), Equals(NotExists(xEtc, PxEtc, S, etc_QxEtc), Forall(xEtc, NotEquals(PxEtc, TRUE), S, etc_QxEtc)))\n",
    "existsDefNegation"
   ]
  },
  {
   "cell_type": "code",
   "execution_count": 73,
   "metadata": {
    "collapsed": false
   },
   "outputs": [
    {
     "data": {
      "text/latex": [
       "$\\forall_{ P ,~.., Q_{\\Box} ,..~, S } \\left(\\left[\\nexists_{~.., x_{\\Box} ,..~ \\in S~|~~.., Q_{\\Box}\\left(~.., x_{\\Box} ,..~\\right) ,..~} P\\left(~.., x_{\\Box} ,..~\\right)\\right] \\Rightarrow (\\lnot \\left[\\exists_{~.., x_{\\Box} ,..~ \\in S~|~~.., Q_{\\Box}\\left(~.., x_{\\Box} ,..~\\right) ,..~} P\\left(~.., x_{\\Box} ,..~\\right)\\right])\\right)$"
      ],
      "text/plain": [
       "$\\forall_{ P ,~.., Q_{\\Box} ,..~, S } \\left(\\left[\\nexists_{~.., x_{\\Box} ,..~ \\in S~|~~.., Q_{\\Box}\\left(~.., x_{\\Box} ,..~\\right) ,..~} P\\left(~.., x_{\\Box} ,..~\\right)\\right] \\Rightarrow (\\lnot \\left[\\exists_{~.., x_{\\Box} ,..~ \\in S~|~~.., Q_{\\Box}\\left(~.., x_{\\Box} ,..~\\right) ,..~} P\\left(~.., x_{\\Box} ,..~\\right)\\right])\\right)$"
      ]
     },
     "execution_count": 73,
     "metadata": {},
     "output_type": "execute_result"
    }
   ],
   "source": [
    "notExistsUnfolding = Forall((P, Qetc, S), Implies(NotExists(xEtc, PxEtc, S, etc_QxEtc), Not(Exists(xEtc, PxEtc, S, etc_QxEtc))))\n",
    "notExistsUnfolding"
   ]
  },
  {
   "cell_type": "code",
   "execution_count": 74,
   "metadata": {
    "collapsed": false
   },
   "outputs": [
    {
     "data": {
      "text/latex": [
       "$\\forall_{ P ,~.., Q_{\\Box} ,..~, S } \\left((\\lnot \\left[\\exists_{~.., x_{\\Box} ,..~ \\in S~|~~.., Q_{\\Box}\\left(~.., x_{\\Box} ,..~\\right) ,..~} P\\left(~.., x_{\\Box} ,..~\\right)\\right]) \\Rightarrow \\left[\\nexists_{~.., x_{\\Box} ,..~ \\in S~|~~.., Q_{\\Box}\\left(~.., x_{\\Box} ,..~\\right) ,..~} P\\left(~.., x_{\\Box} ,..~\\right)\\right]\\right)$"
      ],
      "text/plain": [
       "$\\forall_{ P ,~.., Q_{\\Box} ,..~, S } \\left((\\lnot \\left[\\exists_{~.., x_{\\Box} ,..~ \\in S~|~~.., Q_{\\Box}\\left(~.., x_{\\Box} ,..~\\right) ,..~} P\\left(~.., x_{\\Box} ,..~\\right)\\right]) \\Rightarrow \\left[\\nexists_{~.., x_{\\Box} ,..~ \\in S~|~~.., Q_{\\Box}\\left(~.., x_{\\Box} ,..~\\right) ,..~} P\\left(~.., x_{\\Box} ,..~\\right)\\right]\\right)$"
      ]
     },
     "execution_count": 74,
     "metadata": {},
     "output_type": "execute_result"
    }
   ],
   "source": [
    "notExistsFolding = Forall((P, Qetc, S), Implies(Not(Exists(xEtc, PxEtc, S, etc_QxEtc)), NotExists(xEtc, PxEtc, S, etc_QxEtc)))\n",
    "notExistsFolding"
   ]
  },
  {
   "cell_type": "code",
   "execution_count": 75,
   "metadata": {
    "collapsed": false
   },
   "outputs": [
    {
     "data": {
      "text/latex": [
       "$\\forall_{ P ,~.., Q_{\\Box} ,..~, S } \\left(\\left[\\exists_{~.., x_{\\Box} ,..~ \\in S~|~~.., Q_{\\Box}\\left(~.., x_{\\Box} ,..~\\right) ,..~} P\\left(~.., x_{\\Box} ,..~\\right)\\right] \\in \\cal{B}\\right)$"
      ],
      "text/plain": [
       "$\\forall_{ P ,~.., Q_{\\Box} ,..~, S } \\left(\\left[\\exists_{~.., x_{\\Box} ,..~ \\in S~|~~.., Q_{\\Box}\\left(~.., x_{\\Box} ,..~\\right) ,..~} P\\left(~.., x_{\\Box} ,..~\\right)\\right] \\in \\cal{B}\\right)$"
      ]
     },
     "execution_count": 75,
     "metadata": {},
     "output_type": "execute_result"
    }
   ],
   "source": [
    "existsInBool = Forall((P, Qetc, S), inBool(Exists(xEtc, PxEtc, S, etc_QxEtc)))\n",
    "existsInBool"
   ]
  },
  {
   "cell_type": "code",
   "execution_count": 76,
   "metadata": {
    "collapsed": false
   },
   "outputs": [
    {
     "data": {
      "text/latex": [
       "$\\forall_{ P ,~.., Q_{\\Box} ,..~, S } \\left[\\forall_{~.., x_{\\Box} ,..~ \\in S~|~~.., Q_{\\Box}\\left(~.., x_{\\Box} ,..~\\right) ,..~} \\left(P\\left(~.., x_{\\Box} ,..~\\right) \\Rightarrow \\left[\\exists_{~.., y_{\\Box} ,..~ \\in S~|~~.., Q_{\\Box}\\left(~.., y_{\\Box} ,..~\\right) ,..~} P\\left(~.., y_{\\Box} ,..~\\right)\\right]\\right)\\right]$"
      ],
      "text/plain": [
       "$\\forall_{ P ,~.., Q_{\\Box} ,..~, S } \\left[\\forall_{~.., x_{\\Box} ,..~ \\in S~|~~.., Q_{\\Box}\\left(~.., x_{\\Box} ,..~\\right) ,..~} \\left(P\\left(~.., x_{\\Box} ,..~\\right) \\Rightarrow \\left[\\exists_{~.., y_{\\Box} ,..~ \\in S~|~~.., Q_{\\Box}\\left(~.., y_{\\Box} ,..~\\right) ,..~} P\\left(~.., y_{\\Box} ,..~\\right)\\right]\\right)\\right]$"
      ]
     },
     "execution_count": 76,
     "metadata": {},
     "output_type": "execute_result"
    }
   ],
   "source": [
    "existenceByExample = Forall((P, Qetc, S), Forall(xEtc, Implies(PxEtc, Exists(yEtc, PyEtc, S, etc_QyEtc)), S, etc_QxEtc))\n",
    "existenceByExample"
   ]
  },
  {
   "cell_type": "code",
   "execution_count": 77,
   "metadata": {
    "collapsed": false
   },
   "outputs": [
    {
     "data": {
      "text/latex": [
       "$\\forall_{ P ,~.., Q_{\\Box} ,..~, S } \\left(\\left[\\exists_{~.., x_{\\Box} ,..~ \\in S~|~~.., Q_{\\Box}\\left(~.., x_{\\Box} ,..~\\right) ,..~} (\\lnot P\\left(~.., x_{\\Box} ,..~\\right))\\right] \\Rightarrow (\\lnot \\left[\\forall_{~.., x_{\\Box} ,..~ \\in S~|~~.., Q_{\\Box}\\left(~.., x_{\\Box} ,..~\\right) ,..~} P\\left(~.., x_{\\Box} ,..~\\right)\\right])\\right)$"
      ],
      "text/plain": [
       "$\\forall_{ P ,~.., Q_{\\Box} ,..~, S } \\left(\\left[\\exists_{~.., x_{\\Box} ,..~ \\in S~|~~.., Q_{\\Box}\\left(~.., x_{\\Box} ,..~\\right) ,..~} (\\lnot P\\left(~.., x_{\\Box} ,..~\\right))\\right] \\Rightarrow (\\lnot \\left[\\forall_{~.., x_{\\Box} ,..~ \\in S~|~~.., Q_{\\Box}\\left(~.., x_{\\Box} ,..~\\right) ,..~} P\\left(~.., x_{\\Box} ,..~\\right)\\right])\\right)$"
      ]
     },
     "execution_count": 77,
     "metadata": {},
     "output_type": "execute_result"
    }
   ],
   "source": [
    "existsNotImpliesNotForall = Forall((P, Qetc, S), Implies(Exists(xEtc, Not(PxEtc), S, etc_QxEtc), Not(Forall(xEtc, PxEtc, S, etc_QxEtc))))\n",
    "existsNotImpliesNotForall"
   ]
  },
  {
   "cell_type": "code",
   "execution_count": 78,
   "metadata": {
    "collapsed": false
   },
   "outputs": [
    {
     "data": {
      "text/latex": [
       "$\\forall_{ P ,~.., Q_{\\Box} ,..~, S } \\left(\\left[\\forall_{~.., x_{\\Box} ,..~ \\in S~|~~.., Q_{\\Box}\\left(~.., x_{\\Box} ,..~\\right) ,..~} P\\left(~.., x_{\\Box} ,..~\\right)\\right] \\Rightarrow \\left[\\nexists_{~.., x_{\\Box} ,..~ \\in S~|~~.., Q_{\\Box}\\left(~.., x_{\\Box} ,..~\\right) ,..~} (\\lnot P\\left(~.., x_{\\Box} ,..~\\right))\\right]\\right)$"
      ],
      "text/plain": [
       "$\\forall_{ P ,~.., Q_{\\Box} ,..~, S } \\left(\\left[\\forall_{~.., x_{\\Box} ,..~ \\in S~|~~.., Q_{\\Box}\\left(~.., x_{\\Box} ,..~\\right) ,..~} P\\left(~.., x_{\\Box} ,..~\\right)\\right] \\Rightarrow \\left[\\nexists_{~.., x_{\\Box} ,..~ \\in S~|~~.., Q_{\\Box}\\left(~.., x_{\\Box} ,..~\\right) ,..~} (\\lnot P\\left(~.., x_{\\Box} ,..~\\right))\\right]\\right)$"
      ]
     },
     "execution_count": 78,
     "metadata": {},
     "output_type": "execute_result"
    }
   ],
   "source": [
    "forallImpliesNotExistsNot = Forall((P, Qetc, S), Implies(Forall(xEtc, PxEtc, S, etc_QxEtc), NotExists(xEtc, Not(PxEtc), S, etc_QxEtc)))\n",
    "forallImpliesNotExistsNot"
   ]
  },
  {
   "cell_type": "code",
   "execution_count": 79,
   "metadata": {
    "collapsed": false
   },
   "outputs": [],
   "source": [
    "def _forallBoolEvalFalse(PofTrueVal, PofFalseVal):\n",
    "    return Forall(P, Implies(And(Equals(PofTrue, PofTrueVal), Equals(PofFalse, PofFalseVal)), \n",
    "                             Equals(Forall(A, PofA, domain=BOOLEANS), FALSE)))"
   ]
  },
  {
   "cell_type": "code",
   "execution_count": 80,
   "metadata": {
    "collapsed": false
   },
   "outputs": [
    {
     "data": {
      "text/latex": [
       "$\\forall_{ P } \\left(\\left( \\left(P\\left( \\mathtt{TRUE} \\right) = \\mathtt{FALSE}\\right) \\land \\left(P\\left( \\mathtt{FALSE} \\right) = \\mathtt{FALSE}\\right) \\right) \\Rightarrow \\left(\\left[\\forall_{ A  \\in \\cal{B}} P\\left( A \\right)\\right] = \\mathtt{FALSE}\\right)\\right)$"
      ],
      "text/plain": [
       "$\\forall_{ P } \\left(\\left( \\left(P\\left( \\mathtt{TRUE} \\right) = \\mathtt{FALSE}\\right) \\land \\left(P\\left( \\mathtt{FALSE} \\right) = \\mathtt{FALSE}\\right) \\right) \\Rightarrow \\left(\\left[\\forall_{ A  \\in \\cal{B}} P\\left( A \\right)\\right] = \\mathtt{FALSE}\\right)\\right)$"
      ]
     },
     "execution_count": 80,
     "metadata": {},
     "output_type": "execute_result"
    }
   ],
   "source": [
    "forallBoolEvalFalseViaFF = _forallBoolEvalFalse(FALSE, FALSE)\n",
    "forallBoolEvalFalseViaFF"
   ]
  },
  {
   "cell_type": "code",
   "execution_count": 81,
   "metadata": {
    "collapsed": false
   },
   "outputs": [
    {
     "data": {
      "text/latex": [
       "$\\forall_{ P } \\left(\\left( \\left(P\\left( \\mathtt{TRUE} \\right) = \\mathtt{FALSE}\\right) \\land \\left(P\\left( \\mathtt{FALSE} \\right) = \\mathtt{TRUE}\\right) \\right) \\Rightarrow \\left(\\left[\\forall_{ A  \\in \\cal{B}} P\\left( A \\right)\\right] = \\mathtt{FALSE}\\right)\\right)$"
      ],
      "text/plain": [
       "$\\forall_{ P } \\left(\\left( \\left(P\\left( \\mathtt{TRUE} \\right) = \\mathtt{FALSE}\\right) \\land \\left(P\\left( \\mathtt{FALSE} \\right) = \\mathtt{TRUE}\\right) \\right) \\Rightarrow \\left(\\left[\\forall_{ A  \\in \\cal{B}} P\\left( A \\right)\\right] = \\mathtt{FALSE}\\right)\\right)$"
      ]
     },
     "execution_count": 81,
     "metadata": {},
     "output_type": "execute_result"
    }
   ],
   "source": [
    "forallBoolEvalFalseViaFT = _forallBoolEvalFalse(FALSE, TRUE)\n",
    "forallBoolEvalFalseViaFT"
   ]
  },
  {
   "cell_type": "code",
   "execution_count": 82,
   "metadata": {
    "collapsed": false
   },
   "outputs": [
    {
     "data": {
      "text/latex": [
       "$\\forall_{ P } \\left(\\left( \\left(P\\left( \\mathtt{TRUE} \\right) = \\mathtt{TRUE}\\right) \\land \\left(P\\left( \\mathtt{FALSE} \\right) = \\mathtt{FALSE}\\right) \\right) \\Rightarrow \\left(\\left[\\forall_{ A  \\in \\cal{B}} P\\left( A \\right)\\right] = \\mathtt{FALSE}\\right)\\right)$"
      ],
      "text/plain": [
       "$\\forall_{ P } \\left(\\left( \\left(P\\left( \\mathtt{TRUE} \\right) = \\mathtt{TRUE}\\right) \\land \\left(P\\left( \\mathtt{FALSE} \\right) = \\mathtt{FALSE}\\right) \\right) \\Rightarrow \\left(\\left[\\forall_{ A  \\in \\cal{B}} P\\left( A \\right)\\right] = \\mathtt{FALSE}\\right)\\right)$"
      ]
     },
     "execution_count": 82,
     "metadata": {},
     "output_type": "execute_result"
    }
   ],
   "source": [
    "forallBoolEvalFalseViaTF = _forallBoolEvalFalse(TRUE, FALSE)\n",
    "forallBoolEvalFalseViaTF"
   ]
  },
  {
   "cell_type": "code",
   "execution_count": 83,
   "metadata": {
    "collapsed": false
   },
   "outputs": [
    {
     "data": {
      "text/latex": [
       "$\\forall_{~.., x_{\\Box} ,..~, y ,~.., z_{\\Box} ,..~ \\in \\cal{B}} \\left(y \\Rightarrow \\left(~..\\lor x_{\\Box} \\lor..~\\lor y \\lor~..\\lor z_{\\Box} \\lor..~\\right)\\right)$"
      ],
      "text/plain": [
       "$\\forall_{~.., x_{\\Box} ,..~, y ,~.., z_{\\Box} ,..~ \\in \\cal{B}} \\left(y \\Rightarrow \\left(~..\\lor x_{\\Box} \\lor..~\\lor y \\lor~..\\lor z_{\\Box} \\lor..~\\right)\\right)$"
      ]
     },
     "execution_count": 83,
     "metadata": {},
     "output_type": "execute_result"
    }
   ],
   "source": [
    "orIfAny = Forall((xEtc, y, zEtc), Implies(y, Or(xEtc, y, zEtc)), domain=BOOLEANS)\n",
    "orIfAny"
   ]
  },
  {
   "cell_type": "code",
   "execution_count": 84,
   "metadata": {
    "collapsed": false
   },
   "outputs": [
    {
     "name": "stdout",
     "output_type": "stream",
     "text": [
      "Creating theorems *.dill and *.pv_it files in the __pv_it__ directory\n",
      "These theorems may be imported from proveit.basiclogic.boolean.theorems\n"
     ]
    }
   ],
   "source": [
    "%end_theorems"
   ]
  },
  {
   "cell_type": "code",
   "execution_count": null,
   "metadata": {
    "collapsed": true
   },
   "outputs": [],
   "source": []
  }
 ],
 "metadata": {
  "kernelspec": {
   "display_name": "Python 3",
   "language": "python",
   "name": "python3"
  },
  "language_info": {
   "codemirror_mode": {
    "name": "ipython",
    "version": 3
   },
   "file_extension": ".py",
   "mimetype": "text/x-python",
   "name": "python",
   "nbconvert_exporter": "python",
   "pygments_lexer": "ipython3"
  }
 },
 "nbformat": 4,
 "nbformat_minor": 0
}
