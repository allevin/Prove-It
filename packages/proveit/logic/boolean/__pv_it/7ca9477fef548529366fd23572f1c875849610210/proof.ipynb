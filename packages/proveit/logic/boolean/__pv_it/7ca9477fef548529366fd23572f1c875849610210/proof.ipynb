{
 "cells": [
  {
   "cell_type": "markdown",
   "metadata": {},
   "source": [
    "Show the Proof\n",
    "========"
   ]
  },
  {
   "cell_type": "code",
   "execution_count": 1,
   "metadata": {},
   "outputs": [
    {
     "data": {
      "text/html": [
       "<table><tr><th>&nbsp;</th><th>step type</th><th>requirements</th><th>statement</th></tr>\n",
       "<tr><td>0</td><td>assumption</td><td></td><td><span style=\"font-size:20px;\"><a class=\"ProveItLink\" href=\"../c29ee832a7fd07d31e22eb92b3db8743f18040190/expr.ipynb\"><img src=\"data:image/png;base64,iVBORw0KGgoAAAANSUhEUgAAAHEAAAAVBAMAAACDNRyvAAAAMFBMVEX////c3NxERESqqqpUVFS6\n",
       "urrMzMwyMjIQEBCIiIh2dnYiIiLu7u5mZmaYmJgAAABXZE4RAAAAAXRSTlMAQObYZgAAAbhJREFU\n",
       "OMtjYGDgu8dAImBbJQCieHaBSNYJaLJ8Afi0NoNIzg8gMgVFJhuIr2HTwjPJ9x7jBQaG6yAOVwOI\n",
       "rEFRUA/E7Nh0rnjAwHrjAZCG6+REcSzf/gNAYgHCJhjj+B4gsV4AWSfHAWSdwveBkjwNcD47TLYC\n",
       "xIhgQNYZjuKmCfNBwaMM57M6QGjezyBSFkXnLWSNrAfsgV5hWIsQWQmh5AtA5DGYTl4Qtw5Z51GG\n",
       "fJC3zUHs27tBYP8FsMT9BzAl70FEBshlrUATwGpAwRLAIH8B6h8YMAfH7n4BuM+BClLaQKyvsCgG\n",
       "+ojNxcVfAcjOR47HCpDW/2A2OLjUgdZHJKDpZAUGdQGazvQ1ILIfRDCD1HOD3MYCUtWMpNMAKNEA\n",
       "cy3En7t1wLL+IOt44f7k2gAk9BA6GYE62UEp8jnCShMIBQ44sO2IWIHHQALDcSDJ9AclVhgLoGkL\n",
       "GJ+xAqg6o+GqhPoLGfj0vwPDrhQuxgQL05SSuwYMqDo5BDCzBSL1sWGmfLhOpOQNA1wT8GRQsE4+\n",
       "LLkMnC/wlQrg/MmzE0SKYEg64isTWiEhthgUfOhu40wgUA4BAIqucMvg6uzRAAAAAElFTkSuQmCC\n",
       "\" style=\"display:inline;vertical-align:middle;\" /></a> <a class=\"ProveItLink\" href=\"proof.ipynb\" style=\"text-decoration: none\">&#x22A2;&nbsp;</a><a class=\"ProveItLink\" href=\"../2749f54d069ba9188c5a2428ff910860dbf870e90/expr.ipynb\"><img src=\"data:image/png;base64,iVBORw0KGgoAAAANSUhEUgAAAFsAAAAVBAMAAADbSo+2AAAAMFBMVEX////c3NwiIiJERESqqqqY\n",
       "mJh2dnZmZmYQEBDu7u4yMjJUVFTMzMyIiIi6uroAAAAs73DqAAAAAXRSTlMAQObYZgAAAWFJREFU\n",
       "KM9jYCAR8F1AE2B9gE/5aRTeISCuwaaM8/L2UsYCBoaVKKLrgZgLm/KMAAa+igAGXhS3sOpPABIJ\n",
       "CDNhjFmaQCJfgIFjArJykXoBoJoGOJ8LJrsCxHjBwPAKxcoL90H+NEGEwwYIzf4FRIozMJShhNIE\n",
       "/wAglY4QyYVQ8gtA5BwGhqXIyucxnAd5xQvELlICAf0CsER9AFRFH9AmsATIfw8Y5AsgboQDL3As\n",
       "6AtAuf+gNA/QlTy7d+83ALLPI4f3CpD6/2D2BFTlfAwMHAvQlJ/KBJH9IILlAANDC5JyBwYGpgaY\n",
       "YyBuV7IEy+4HhSM7EJsilDMClXN9ALKjEIZ7QyhwCGQiB9oBhllAkvknSkAyLoDGNjDcn4O8+wgu\n",
       "Jdy/kIHV/hcwaNbBxZhhIXJ6dbkDiOYQwEx8iETAgy6HlJ5ggO0CnvS+EkNkFr7sIY0hshGfckZ0\n",
       "q3kP4FYMAAyoT/PLcj0EAAAAAElFTkSuQmCC\n",
       "\" style=\"display:inline;vertical-align:middle;\" /></a></span></td></tr>\n",
       "</table>"
      ],
      "text/plain": [
       "<proveit._core_.proof._ShowProof at 0x7f94ebb8ee10>"
      ]
     },
     "execution_count": 1,
     "metadata": {},
     "output_type": "execute_result"
    }
   ],
   "source": [
    "import proveit\n",
    "%show_proof"
   ]
  },
  {
   "cell_type": "code",
   "execution_count": null,
   "metadata": {},
   "outputs": [],
   "source": []
  }
 ],
 "metadata": {
  "kernelspec": {
   "display_name": "Python 3",
   "language": "python",
   "name": "python3"
  }
 },
 "nbformat": 4,
 "nbformat_minor": 0
}
