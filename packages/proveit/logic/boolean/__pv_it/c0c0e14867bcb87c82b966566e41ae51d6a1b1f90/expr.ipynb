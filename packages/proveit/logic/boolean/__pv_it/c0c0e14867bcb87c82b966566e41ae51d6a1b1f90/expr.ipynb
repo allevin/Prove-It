{
 "cells": [
  {
   "cell_type": "markdown",
   "metadata": {},
   "source": [
    "Expression of type <a class=\"ProveItLink\" href=\"../../../../../../doc/html/api/proveit.logic.InSet.html\">InSet</a>\n",
    "=======================\n",
    "# from context <a class=\"ProveItLink\" href=\"../../_context_.ipynb\">proveit.logic.boolean</a>"
   ]
  },
  {
   "cell_type": "code",
   "execution_count": 1,
   "metadata": {},
   "outputs": [],
   "source": [
    "# import Expression classes needed to build the expression\n",
    "from proveit._common_ import A\n",
    "from proveit.logic import Booleans, Equals, FALSE, InSet, Or, TRUE"
   ]
  },
  {
   "cell_type": "code",
   "execution_count": 2,
   "metadata": {},
   "outputs": [
    {
     "data": {
      "text/html": [
       "<strong id=\"expr\">expr:</strong> <a class=\"ProveItLink\" href=\"expr.ipynb\"><img src=\"data:image/png;base64,iVBORw0KGgoAAAANSUhEUgAAAOMAAAAVBAMAAABGa0R7AAAAMFBMVEX////c3NwiIiJERESqqqqY\n",
       "mJh2dnZmZmYQEBDu7u4yMjJUVFTMzMyIiIi6uroAAAAs73DqAAAAAXRSTlMAQObYZgAAAqhJREFU\n",
       "SMfFVk1oE0EYfdskbZLdxEB6UsSQIoiXrkVBTy2IBLwoChU8SC8qCEIR8SBCa/Gigi6eSkFphRJb\n",
       "wcaDF3MwCCrSQwNerS49aaGgFNEW/Jn5vkmy2d3ZPfrg7Ux29ts38+abbwP8B+SbzCicC9zZiA5I\n",
       "ucxwLCsKvPaPXSlLDKCv4RuwatyUgu8zaPo3FL24tLn0ZGBEdBYUBZZCZvSOrrPkB3VJPetQP/st\n",
       "GGCN04hiF+yNzMIFINdkSjcGHZ3kqLyYUo2fXeXBU1s6ydQY0yeJT2IeaYcp0D9R0ElO08tscemh\n",
       "Z2+zh5XvOsnMJFPi4ePy/pbkMdPBuuiu81Dzs6uTTMgtwJxghSwmo5HL/dFJ4qCiuDHveFZZBK6B\n",
       "Kd7jnDipk+yl91SULPrYsq/JH1rJi4pA0ekYa+09AsyDCTzCCu3T9UWJp12SSVqWMJXMRZbmlnGt\n",
       "3zQBClisdUkeVwQOdPZybfCXkLgHJuBiz7hulXnaFpE6JnmfdjmDjZ/aVX5RRMb2ps/qUUDuBu2I\n",
       "Va+/snWSFp+GEmao3UGSy/X6plZyRRH5KXG02+mTyI91JMWpS8/GSF7FeY+kuNyJl1RVoyUJG7dE\n",
       "VxIiJ3smvSUnaCx2gstNWiZwUnAf7SUFlG2NsSW/5CHRlTRGwosJS6Z4/eYbLhoJmT794fVKSZ5V\n",
       "BF50SQpjW8ksNymxFX1IYA057Z8ZOYthJ/6QPHA9kmc+AGsgFu/PITW8HUzZt1xMVVhVfX1KMA5v\n",
       "F3D6b7X7aenxFHn8DEzhX7XRLutDd4WZ6QIzGtOqfa/am3EB3oKXfKkytvVlC6u/AVz2/R6NC+ht\n",
       "MkPh+Xjp5+w/PVknJmJGMRS7FKNg+p03ajERzxVDIb/iRswfkY+BO7ujA3INZhj+ARN+wsXE9uAf\n",
       "AAAAAElFTkSuQmCC\n",
       "\" style=\"display:inline;vertical-align:middle;\" /></a><br>"
      ],
      "text/plain": [
       "expr: ((A = TRUE) or (A = FALSE)) in BOOLEANS"
      ]
     },
     "execution_count": 2,
     "metadata": {},
     "output_type": "execute_result"
    }
   ],
   "source": [
    "# build up the expression from sub-expressions\n",
    "expr = InSet(Or(Equals(A, TRUE), Equals(A, FALSE)), Booleans)"
   ]
  },
  {
   "cell_type": "code",
   "execution_count": 3,
   "metadata": {},
   "outputs": [
    {
     "name": "stdout",
     "output_type": "stream",
     "text": [
      "Passed sanity check: built 'expr' is the same as the stored Expression.\n"
     ]
    }
   ],
   "source": [
    "# check that the built expression is the same as the stored expression\n",
    "%check_expr"
   ]
  },
  {
   "cell_type": "code",
   "execution_count": 4,
   "metadata": {},
   "outputs": [
    {
     "data": {
      "text/html": [
       "<table><tr><th>&nbsp;</th><th>core type</th><th>sub-expressions</th><th>expression</th></tr>\n",
       "<tr><td>0</td><td>Operation</td><td>operator:&nbsp;1<br>operands:&nbsp;2<br></td><td><a class=\"ProveItLink\" href=\"expr.ipynb\"><img src=\"data:image/png;base64,iVBORw0KGgoAAAANSUhEUgAAAOMAAAAVBAMAAABGa0R7AAAAMFBMVEX////c3NwiIiJERESqqqqY\n",
       "mJh2dnZmZmYQEBDu7u4yMjJUVFTMzMyIiIi6uroAAAAs73DqAAAAAXRSTlMAQObYZgAAAqhJREFU\n",
       "SMfFVk1oE0EYfdskbZLdxEB6UsSQIoiXrkVBTy2IBLwoChU8SC8qCEIR8SBCa/Gigi6eSkFphRJb\n",
       "wcaDF3MwCCrSQwNerS49aaGgFNEW/Jn5vkmy2d3ZPfrg7Ux29ts38+abbwP8B+SbzCicC9zZiA5I\n",
       "ucxwLCsKvPaPXSlLDKCv4RuwatyUgu8zaPo3FL24tLn0ZGBEdBYUBZZCZvSOrrPkB3VJPetQP/st\n",
       "GGCN04hiF+yNzMIFINdkSjcGHZ3kqLyYUo2fXeXBU1s6ydQY0yeJT2IeaYcp0D9R0ElO08tscemh\n",
       "Z2+zh5XvOsnMJFPi4ePy/pbkMdPBuuiu81Dzs6uTTMgtwJxghSwmo5HL/dFJ4qCiuDHveFZZBK6B\n",
       "Kd7jnDipk+yl91SULPrYsq/JH1rJi4pA0ekYa+09AsyDCTzCCu3T9UWJp12SSVqWMJXMRZbmlnGt\n",
       "3zQBClisdUkeVwQOdPZybfCXkLgHJuBiz7hulXnaFpE6JnmfdjmDjZ/aVX5RRMb2ps/qUUDuBu2I\n",
       "Va+/snWSFp+GEmao3UGSy/X6plZyRRH5KXG02+mTyI91JMWpS8/GSF7FeY+kuNyJl1RVoyUJG7dE\n",
       "VxIiJ3smvSUnaCx2gstNWiZwUnAf7SUFlG2NsSW/5CHRlTRGwosJS6Z4/eYbLhoJmT794fVKSZ5V\n",
       "BF50SQpjW8ksNymxFX1IYA057Z8ZOYthJ/6QPHA9kmc+AGsgFu/PITW8HUzZt1xMVVhVfX1KMA5v\n",
       "F3D6b7X7aenxFHn8DEzhX7XRLutDd4WZ6QIzGtOqfa/am3EB3oKXfKkytvVlC6u/AVz2/R6NC+ht\n",
       "MkPh+Xjp5+w/PVknJmJGMRS7FKNg+p03ajERzxVDIb/iRswfkY+BO7ujA3INZhj+ARN+wsXE9uAf\n",
       "AAAAAElFTkSuQmCC\n",
       "\" style=\"display:inline;vertical-align:middle;\" /></a></td></tr>\n",
       "<tr><td>1</td><td>Literal</td><td></td><td><a class=\"ProveItLink\" href=\"../../../set_theory/membership/__pv_it/088cbc857536a28d4119ad9639a84270ccb0545d0/expr.ipynb\"><img src=\"data:image/png;base64,iVBORw0KGgoAAAANSUhEUgAAAAwAAAAMBAMAAACkW0HUAAAALVBMVEX///+qqqpmZmZUVFQQEBC6\n",
       "urpERETc3NyYmJjMzMwiIiIyMjKIiIju7u4AAACYsrA9AAAAAXRSTlMAQObYZgAAADxJREFUCNdj\n",
       "YOA9vWrVBgaG2b0MQMCeCyIZ2ArA1DUwyRCyahVIyWQI7xaEYm4AU7xLIdxqTQgtvGvVBgCkcQ7e\n",
       "geM/tQAAAABJRU5ErkJggg==\n",
       "\" style=\"display:inline;vertical-align:middle;\" /></a></td></tr>\n",
       "<tr><td>2</td><td>ExprTuple</td><td>3, 4</td><td><a class=\"ProveItLink\" href=\"../de4d40b7d6311dc9cec8dbc68184b4712cbc71400/expr.ipynb\"><img src=\"data:image/png;base64,iVBORw0KGgoAAAANSUhEUgAAANUAAAAVBAMAAAAjhrYEAAAAMFBMVEX////c3NwiIiJERESqqqqY\n",
       "mJh2dnZmZmYQEBDu7u4yMjJUVFTMzMyIiIi6uroAAAAs73DqAAAAAXRSTlMAQObYZgAAAnJJREFU\n",
       "SMe9VjFoFFEQnU1u73bX3XXBdBIMqZLKLSKITbYTbDwMpBAM6ayEq1IpnsFGwWQrCVfIWgTRwpxg\n",
       "Ixc0JGWKXJEy4mohKgjRIJIDjTPzf3J7e9m/m8aBmX8zd+/e7Pv/5h/A/zS3LVxlepyufD8pYIbC\n",
       "pnS09fQHKqNsPtxOvWE3xTLST6Nx30eA8sqlzvwEftUaJs+lo60c06Fdo2jxa27W5jzkgrWrBpAN\n",
       "uu3G41mACMBpC6cHPx9mQfVZiqsU3h8FgGv7aoDkcmIkmgYwQuFoQ3e9LKhZp7hBYZzCAyHX5R9q\n",
       "gOQqVd8ALAF8A+Fo7Q9xFhQmWBjspUS5G3HRcf6qAYfP9dHHNYA5TOfEgQyvVjOhNykQD/FBRSj0\n",
       "tfRLDZBc61MoXLkGy5guc/EJbPG+VV6wNXugV0Dqxzpa3JQZ239yAMw1evCIGo1gAZcFecrO1TLb\n",
       "/ALySLyl1WCxXdB+5wCkhtuooVsHUpxVt1utd34mdIvjAJi8U6eZa7PV2ssBCC7wP2N9t8vlYrtR\n",
       "DrQSlKtdLgwPC3INMtd9TMkhwLbrPcOiXxItGuDVCGgD0MdyAAku1PACpuRaoBoDcF1kqzcEnp5u\n",
       "6PhJkwSECQ31iM8meYPK+3lHeGNcDDks8s5NhiqA+VNw6Xd8xnzCFP3M4lPQJzv9B9EWP6WXIrPE\n",
       "B9wR0C52PJg6eNY/rOdZTgKYix7N3r2x1wSNwcDfpuHlXTyHI8eWz3GvGMBNfPGSGJLdQZll5dQF\n",
       "N10MoCcqt3rvlGxrpHIrLARIcPH2npWutFfpC7FZCJBQ45Qn71Et5z+As5auDJ8UsAPwD/b7tPjs\n",
       "P6mhAAAAAElFTkSuQmCC\n",
       "\" style=\"display:inline;vertical-align:middle;\" /></a></td></tr>\n",
       "<tr><td>3</td><td>Operation</td><td>operator:&nbsp;5<br>operands:&nbsp;6<br></td><td><a class=\"ProveItLink\" href=\"../90fc205bf09704b1ac7487d0b0912b502ed1410b0/expr.ipynb\"><img src=\"data:image/png;base64,iVBORw0KGgoAAAANSUhEUgAAAKoAAAAVBAMAAAAkxGgRAAAAMFBMVEX////c3NwiIiJERESqqqqY\n",
       "mJh2dnZmZmYQEBDu7u4yMjJUVFTMzMyIiIi6uroAAAAs73DqAAAAAXRSTlMAQObYZgAAAbZJREFU\n",
       "OMu1VL9LQ0EMjq2vrX1tKeikg1L/AIvorFvBRScHB3ERJ6GIOIhgEWftWBykHUSs4I+5g0VQEYf2\n",
       "DxAsTuLUVQcxlxxPe23ucDBwyb13+b67S3IB+B9JNe3ry38FeC1UTzy/NRc3MkrGIVo3FiQASh9t\n",
       "uIPjjH9c9nB6IF2mA9KUNrAAEnml4wBJvo83UZRYF5XyFSH52gDM6q1AjBeHdtMSa4n8s6hCytcG\n",
       "YNaBArzzd/OlJbGGZ5Wu4MipiQ3ArDAFW5zX4vyCxBoh15xmtgI06xqckD2GBoVru6rkvIO1n9KF\n",
       "t6coGIAoAapXHaxzcEC2BaN56aypAnCSfLqzDaBZ3+CLvmq1m6zEmmiTGYMjsjaAZm2wE1ZjrOxg\n",
       "3YTVH1YBELDuK4NZDhV+P6juCMAwnlZJJyBKgEzWiMC0emjoFG9LZ/X4UP4dl78NoFmXsAqAAhb+\n",
       "sFcWJCaLumxkQFBZrwCDhxXwZj67c3pPOq7L/ZSNCFDB2KNgXEAs7WqVJW0f2bgB+GKxFThk3Wif\n",
       "TkCkGTQ2eWezglwAivqIw8c3b+wCwHXQv2V57t3wZUnW4Rt79IRJOuqnygAAAABJRU5ErkJggg==\n",
       "\" style=\"display:inline;vertical-align:middle;\" /></a></td></tr>\n",
       "<tr><td>4</td><td>Literal</td><td></td><td><a class=\"ProveItLink\" href=\"../46271c8230be96415d662709611f4ed2279d702b0/expr.ipynb\"><img src=\"data:image/png;base64,iVBORw0KGgoAAAANSUhEUgAAAA0AAAAOBAMAAAAGUYvhAAAAMFBMVEX///9mZmbMzMzc3NxUVFSY\n",
       "mJju7u6IiIi6urqqqqoiIiIQEBBEREQyMjJ2dnYAAAAQvcRZAAAAAXRSTlMAQObYZgAAAElJREFU\n",
       "CNdjePvn/u01ExgYGA60s117B6YZKngh9FSWBAjfBsxnWnoMRHet/10AkS+fA6F5OB5AaIYDqDRU\n",
       "PLCGgQFoz6ktExgAgLIl8DFvGtkAAAAASUVORK5CYII=\n",
       "\" style=\"display:inline;vertical-align:middle;\" /></a></td></tr>\n",
       "<tr><td>5</td><td>Literal</td><td></td><td><a class=\"ProveItLink\" href=\"../../disjunction/__pv_it/087d0b4ded7c7e5bf3bba05ecb616d7a8051ff650/expr.ipynb\"><img src=\"data:image/png;base64,iVBORw0KGgoAAAANSUhEUgAAAAwAAAAOBAMAAADpk+DfAAAALVBMVEX///+YmJh2dnZmZmaqqqrc\n",
       "3NwyMjLu7u4iIiJERESIiIhUVFTMzMy6uroAAAD0I/TTAAAAAXRSTlMAQObYZgAAAEtJREFUCNdj\n",
       "uMAABDwMe0DUKoaTIKqdgS2AgYHFAITAzHYGsMQqBoa9QIqDgT0BSDE7MAkAKdYEDpAehj1SYOpk\n",
       "O5hiMwBTPAUMDAB33Atnw8aG2QAAAABJRU5ErkJggg==\n",
       "\" style=\"display:inline;vertical-align:middle;\" /></a></td></tr>\n",
       "<tr><td>6</td><td>ExprTuple</td><td>7, 8</td><td><a class=\"ProveItLink\" href=\"../4f7b01d575eada462ddbf6c32182f9d018699c8f0/expr.ipynb\"><img src=\"data:image/png;base64,iVBORw0KGgoAAAANSUhEUgAAAIwAAAAVBAMAAABmhxuGAAAAMFBMVEX////c3NwiIiJERESqqqqY\n",
       "mJh2dnZmZmYQEBDu7u4yMjJUVFTMzMyIiIi6uroAAAAs73DqAAAAAXRSTlMAQObYZgAAAUVJREFU\n",
       "OMtjYKAS4LtAqQmsD4DEaQj7ELpkkRIIKCMEDmExgRHshhogXgkRWI9F0XEUHjYVPAUgkouBgRfi\n",
       "J1b9CQSMwaoCYgxrAgMHRFKkXoCAMVhVQIzhbGB4BeFfuP+AgDFYVUCMYTBhKINE1wT/APzGYFcB\n",
       "NSadYSmYnsdwHhxGVatAYDUWY2Aq2MEqVm1AMcaLoQ9MP2CQL8DvGuwqoMa8YPgH5u3evd8ArzE4\n",
       "VECNOQ8xho+BgWMBXmNwqIAb0wKiHBgYmBowky6SMXAV7GAVSgZonjIFJWmgIq4POFzDyYBHBdSY\n",
       "KGBcMTDMAmLmnziMma+ARwU8wh8xMAj3L2Rgtf+FGRHHQMSMj7hUgPzXBPbfOgYOAULlwEOCJQUw\n",
       "MwCzFQEQQNAYtgvwgoISY0AhJ01ADS/h4m8jvACjBPAeYAAAHTpim5dkT2YAAAAASUVORK5CYII=\n",
       "\" style=\"display:inline;vertical-align:middle;\" /></a></td></tr>\n",
       "<tr><td>7</td><td>Operation</td><td>operator:&nbsp;10<br>operands:&nbsp;9<br></td><td><a class=\"ProveItLink\" href=\"../3e00edc0c96e2f417f411afb173264e503e6ed860/expr.ipynb\"><img src=\"data:image/png;base64,iVBORw0KGgoAAAANSUhEUgAAADoAAAAOBAMAAACMfhKgAAAAMFBMVEX///92dnYQEBBERERUVFS6\n",
       "urqIiIhmZmaqqqrc3Nzu7u6YmJgyMjIiIiLMzMwAAACFkkdwAAAAAXRSTlMAQObYZgAAAHhJREFU\n",
       "GNNjYACBtwxooPYuCFyGcM4zYILnMAb3/QV4ZGfUT8Ajm5AfgFuWdUH/BtyySxneJ4DomjMgcARN\n",
       "NoBhfgFOvXwuLv4GOGVZGRiYDuCUbWBg4FXACCCoLCdQlucDLr1rgJj5Fw7ZyfonGbjt/2A6+iEQ\n",
       "AwC2mTBvG4O8rwAAAABJRU5ErkJggg==\n",
       "\" style=\"display:inline;vertical-align:middle;\" /></a></td></tr>\n",
       "<tr><td>8</td><td>Operation</td><td>operator:&nbsp;10<br>operands:&nbsp;11<br></td><td><a class=\"ProveItLink\" href=\"../60099a8cb9a18cf56e8abbc6bca17790f9488b810/expr.ipynb\"><img src=\"data:image/png;base64,iVBORw0KGgoAAAANSUhEUgAAADoAAAAOBAMAAACMfhKgAAAALVBMVEX///8QEBBERERUVFS6urqI\n",
       "iIhmZmaqqqrc3Nzu7u6YmJgyMjIiIiLMzMwAAADtIaYWAAAAAXRSTlMAQObYZgAAAHpJREFUGNNj\n",
       "YACBOwyYoBXO2odF9hqMwXVuAh7Z9rwGPLIBcQ64ZVkm1C3ALTuF4V4AiM7eDQKb0WQdGPoScOrl\n",
       "NTa2U8Apy8LAwLgBp2wBAwOPAIiRcwYEDqHIcgBluR/g0jsbiJle4pBtktvBwKX3Gs3RQEsOAi0B\n",
       "AOmUK3k+2YIcAAAAAElFTkSuQmCC\n",
       "\" style=\"display:inline;vertical-align:middle;\" /></a></td></tr>\n",
       "<tr><td>9</td><td>ExprTuple</td><td>13, 12</td><td><a class=\"ProveItLink\" href=\"../6fa03ec90c111207cbc23d0663de8c4eab88bb8d0/expr.ipynb\"><img src=\"data:image/png;base64,iVBORw0KGgoAAAANSUhEUgAAADUAAAAVBAMAAAAUZLt1AAAAMFBMVEX////c3NwiIiJERESqqqqY\n",
       "mJh2dnZmZmYQEBDu7u4yMjJUVFTMzMyIiIi6uroAAAAs73DqAAAAAXRSTlMAQObYZgAAAOtJREFU\n",
       "KM9jYMAH+C5gFY4DEach7ENQsSIlEFBmYD8A5KyEiK1HaDkOJhcwMPBCjGTVn4AmF8bAwAERE6kX\n",
       "QJObwcDwCsK/cP8BmhyzA0MZxLET/APQ5NgKGJaCGfMYzl9Ak2NZwNAHZjxgkC9Ak+NrYPgHonl2\n",
       "795vgCbH8wEixwd07wJMuRYQ7cDAwNSAaaYpkGIEynF9YGCYgCzHuoAhHUjNAnnnJwPnJzQ/PGJg\n",
       "EO5fyMBq/6uAsx8SNsfAJNcDBg4BpOhCYoPCjDUBwWVFjsBcRByhy3GC/CSN4COnAG6Q+YzY08Qd\n",
       "BgYAF+g6uPnH9U4AAAAASUVORK5CYII=\n",
       "\" style=\"display:inline;vertical-align:middle;\" /></a></td></tr>\n",
       "<tr><td>10</td><td>Literal</td><td></td><td><a class=\"ProveItLink\" href=\"../../../equality/__pv_it/2fb26078095930560931daa0500ce419a39ea6cd0/expr.ipynb\"><img src=\"data:image/png;base64,iVBORw0KGgoAAAANSUhEUgAAAA4AAAAFBAMAAACHocAhAAAAFVBMVEX///9EREQiIiJUVFQyMjJm\n",
       "ZmYAAADubVkoAAAAAXRSTlMAQObYZgAAABRJREFUCNdjCHEBAWcGXCBICQQUAUpuAwlgGKrkAAAA\n",
       "AElFTkSuQmCC\n",
       "\" style=\"display:inline;vertical-align:middle;\" /></a></td></tr>\n",
       "<tr><td>11</td><td>ExprTuple</td><td>13, 14</td><td><a class=\"ProveItLink\" href=\"../cabd8bc3982b14b9707e18c2e8918f8e5aaad0040/expr.ipynb\"><img src=\"data:image/png;base64,iVBORw0KGgoAAAANSUhEUgAAADUAAAAVBAMAAAAUZLt1AAAAMFBMVEX////c3NwiIiJERESqqqqY\n",
       "mJh2dnZmZmYQEBDu7u4yMjJUVFTMzMyIiIi6uroAAAAs73DqAAAAAXRSTlMAQObYZgAAAO1JREFU\n",
       "KM9jYMAH+C5gFY4DEach7EMIYVkQwX4ASKyECKxHyB0HkwsYGHghRrLqT0CTC2Ng4ICIidQLoMnN\n",
       "YGB4BeFfuP8ATY7ZgaEM4tgJ/gFocmwFDEvBjHkM5y+gybEsYOgDMx4wyBegyfE1MPwD0Ty7d+83\n",
       "QJPj+QCR4wO6dwGmXAuIdmBgYGrANNMUSDEC5bg+MDBMQJZjXcCQDqRmgbzzk4HzE5ofHjEwCPcv\n",
       "ZGC1/1XA2Q8MmyIlJQ0lJWWgQQ8YOASQoguJDQoz1gQElxU5AnMRcYQuxwnykzSCj5wCuEHmM2JP\n",
       "E3cYGAAdNjoVaLAEowAAAABJRU5ErkJggg==\n",
       "\" style=\"display:inline;vertical-align:middle;\" /></a></td></tr>\n",
       "<tr><td>12</td><td>Literal</td><td></td><td><a class=\"ProveItLink\" href=\"../68a87cc3370287d726c7086ace789e680e4461c30/expr.ipynb\"><img src=\"data:image/png;base64,iVBORw0KGgoAAAANSUhEUgAAAA4AAAAOBAMAAADtZjDiAAAAFVBMVEX///92dnbMzMxEREQiIiJm\n",
       "ZmYAAABAT6GXAAAAAXRSTlMAQObYZgAAABhJREFUCNdjCHEBAWcGIFBlgABa0YpADAAxegPJJk4d\n",
       "XAAAAABJRU5ErkJggg==\n",
       "\" style=\"display:inline;vertical-align:middle;\" /></a></td></tr>\n",
       "<tr><td>13</td><td>Variable</td><td></td><td><a class=\"ProveItLink\" href=\"../../../../__pv_it/2cbe72a7ad6f655694dd697106680215e8489b600/expr.ipynb\"><img src=\"data:image/png;base64,iVBORw0KGgoAAAANSUhEUgAAAA8AAAAOBAMAAAACpFvcAAAALVBMVEX///8QEBBERERUVFS6urqI\n",
       "iIhmZmaqqqrc3Nzu7u6YmJgyMjIiIiLMzMwAAADtIaYWAAAAAXRSTlMAQObYZgAAAFtJREFUCNdj\n",
       "YACBOwxQsA9Kc52bAGG05zVAGAFxDmCaZULdAjBjCsO9ADDDgaEvAUTzGhvbKYCVMDAwbgAxChgY\n",
       "eASANAeQwf0AyJgNxEwvGRia5HYwcOm9TgAA6BoR3jrzwFcAAAAASUVORK5CYII=\n",
       "\" style=\"display:inline;vertical-align:middle;\" /></a></td></tr>\n",
       "<tr><td>14</td><td>Literal</td><td></td><td><a class=\"ProveItLink\" href=\"../8f1f7fac882de28c72b62ab80a1700b6d8fd066b0/expr.ipynb\"><img src=\"data:image/png;base64,iVBORw0KGgoAAAANSUhEUgAAAA4AAAAOBAMAAADtZjDiAAAAG1BMVEX///9EREQQEBAiIiJmZmbM\n",
       "zMyIiIjc3NwAAACryk5kAAAAAXRSTlMAQObYZgAAABlJREFUCNdjYGBgKGOAgBBa0s7GxkbGxoYA\n",
       "FMUF2aBfHgoAAAAASUVORK5CYII=\n",
       "\" style=\"display:inline;vertical-align:middle;\" /></a></td></tr>\n",
       "</table>\n"
      ],
      "text/plain": [
       "0. ((A = TRUE) or (A = FALSE)) in BOOLEANS\n",
       "   core type: Operation\n",
       "   operator: 1\n",
       "   operands: 2\n",
       "1. in\n",
       "   core type: Literal\n",
       "   sub-expressions: \n",
       "2. ((A = TRUE) or (A = FALSE) , BOOLEANS)\n",
       "   core type: ExprTuple\n",
       "   sub-expressions: 3, 4\n",
       "3. (A = TRUE) or (A = FALSE)\n",
       "   core type: Operation\n",
       "   operator: 5\n",
       "   operands: 6\n",
       "4. BOOLEANS\n",
       "   core type: Literal\n",
       "   sub-expressions: \n",
       "5. or\n",
       "   core type: Literal\n",
       "   sub-expressions: \n",
       "6. (A = TRUE , A = FALSE)\n",
       "   core type: ExprTuple\n",
       "   sub-expressions: 7, 8\n",
       "7. A = TRUE\n",
       "   core type: Operation\n",
       "   operator: 10\n",
       "   operands: 9\n",
       "8. A = FALSE\n",
       "   core type: Operation\n",
       "   operator: 10\n",
       "   operands: 11\n",
       "9. (A , TRUE)\n",
       "   core type: ExprTuple\n",
       "   sub-expressions: 13, 12\n",
       "10. =\n",
       "    core type: Literal\n",
       "    sub-expressions: \n",
       "11. (A , FALSE)\n",
       "    core type: ExprTuple\n",
       "    sub-expressions: 13, 14\n",
       "12. TRUE\n",
       "    core type: Literal\n",
       "    sub-expressions: \n",
       "13. A\n",
       "    core type: Variable\n",
       "    sub-expressions: \n",
       "14. FALSE\n",
       "    core type: Literal\n",
       "    sub-expressions: "
      ]
     },
     "execution_count": 4,
     "metadata": {},
     "output_type": "execute_result"
    }
   ],
   "source": [
    "# display the expression information\n",
    "expr.exprInfo()"
   ]
  },
  {
   "cell_type": "code",
   "execution_count": null,
   "metadata": {},
   "outputs": [],
   "source": []
  }
 ],
 "metadata": {
  "kernelspec": {
   "display_name": "Python 3",
   "language": "python",
   "name": "python3"
  }
 },
 "nbformat": 4,
 "nbformat_minor": 0
}
