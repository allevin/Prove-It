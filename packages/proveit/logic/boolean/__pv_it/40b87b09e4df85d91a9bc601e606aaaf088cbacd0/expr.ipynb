{
 "cells": [
  {
   "cell_type": "markdown",
   "metadata": {},
   "source": [
    "Expression of type <a class=\"ProveItLink\" href=\"../../../../../../doc/html/api/proveit.logic.And.html\">And</a>\n",
    "=======================\n",
    "# from context <a class=\"ProveItLink\" href=\"../../_context_.ipynb\">proveit.logic.boolean</a>"
   ]
  },
  {
   "cell_type": "code",
   "execution_count": 1,
   "metadata": {},
   "outputs": [],
   "source": [
    "# import Expression classes needed to build the expression\n",
    "from proveit.logic import And, Equals, FALSE\n",
    "from proveit.logic._common_ import PofFalse, PofTrue"
   ]
  },
  {
   "cell_type": "code",
   "execution_count": 2,
   "metadata": {},
   "outputs": [
    {
     "data": {
      "text/html": [
       "<strong id=\"expr\">expr:</strong> <a class=\"ProveItLink\" href=\"expr.ipynb\"><img src=\"data:image/png;base64,iVBORw0KGgoAAAANSUhEUgAAAPMAAAAVBAMAAABhxcWTAAAAMFBMVEX////c3NwiIiJERESqqqqY\n",
       "mJh2dnZmZmYQEBDu7u4yMjJUVFTMzMyIiIi6uroAAAAs73DqAAAAAXRSTlMAQObYZgAAApBJREFU\n",
       "SMfFlj9oFEEUxt9m799udveul8ChhQabFAbscrWNV6UQ1LPJVYFD4QqxSCSNTUjnYeM2KVSQi4XN\n",
       "aRJMYWFx16soqUQQgopBDxLnvZm3zu3ug2jjwM7st9/N/HbezNs5gP9YolG+Kn6UemSdL4K6JlLJ\n",
       "eaOut8eDwfmaVuXTVObgTk4Ph94s7QR9gHBnPHi2xQpgBqvybs4Yf5xHePcLwF0FVkEHaz+n26Tj\n",
       "bOjWx7YaA1yssYLX5MQ5YyROiPMIfgAU1KWVARRbEpodv6Pb91gN1cPLLVYGsCiilVPBdwyP1HiH\n",
       "YJQBeCsSmp29Wd3ew+qD2gHXO6wMoCeilfMZW/cAYPo7GGUAcEFCs7OtJxhRWBfUtdNgZQBuQ0Ir\n",
       "pwtmnR7OqZuuDWiLaO148RS15ZbZLt63RBlAqSOhlbNp1ik4izebNuASjfuYSh8yDpSaZZqU3zTb\n",
       "5VWHFQMKFILbNMSTCbRy1mmdni91KbfWbcAncdbamQKHRq5gnofjpfaNRDEgWpFmrZwjWieTJVox\n",
       "YCiitXMV4AUtF8Lcn+YnVRsdHEho5RDsK/wLelZ/jzSsWv9r9Bo2h/x4LRPW5OOWcQrq3sdlquCK\n",
       "D3lDVRqZgN+kIc6kAz5v0lqXeRtwRZw1OYhFPLhNk9Y6a+xtVoylWSunba+TyZqTJdceVnXOoGS7\n",
       "mHw6QXLtA9xfGPN5ta8BOjWfpvpg7O9S7MnZ5m9oVAfv1vFLPvvqFOFzFGE/fcjZTqVmO7bK+5Da\n",
       "Do0aYbU64dqqJ56avfQhYavSSOqWdhZFtSyil/mYTIqlHojd0o6/ISgvFgOHzqmJR5baEtFpx+kL\n",
       "aromDUGOM8r+DcES7krdss6MoN6Jb6+c32BPyluFWVeyAAAAAElFTkSuQmCC\n",
       "\" style=\"display:inline;vertical-align:middle;\" /></a><br>"
      ],
      "text/plain": [
       "expr: (P(TRUE) = FALSE) and (P(FALSE) = FALSE)"
      ]
     },
     "execution_count": 2,
     "metadata": {},
     "output_type": "execute_result"
    }
   ],
   "source": [
    "# build up the expression from sub-expressions\n",
    "expr = And(Equals(PofTrue, FALSE), Equals(PofFalse, FALSE))"
   ]
  },
  {
   "cell_type": "code",
   "execution_count": 3,
   "metadata": {},
   "outputs": [
    {
     "name": "stdout",
     "output_type": "stream",
     "text": [
      "Passed sanity check: built 'expr' is the same as the stored Expression.\n"
     ]
    }
   ],
   "source": [
    "# check that the built expression is the same as the stored expression\n",
    "%check_expr"
   ]
  },
  {
   "cell_type": "code",
   "execution_count": 4,
   "metadata": {},
   "outputs": [
    {
     "data": {
      "text/html": [
       "<table><tr><th>&nbsp;</th><th>core type</th><th>sub-expressions</th><th>expression</th></tr>\n",
       "<tr><td>0</td><td>Operation</td><td>operator:&nbsp;1<br>operands:&nbsp;2<br></td><td><a class=\"ProveItLink\" href=\"expr.ipynb\"><img src=\"data:image/png;base64,iVBORw0KGgoAAAANSUhEUgAAAPMAAAAVBAMAAABhxcWTAAAAMFBMVEX////c3NwiIiJERESqqqqY\n",
       "mJh2dnZmZmYQEBDu7u4yMjJUVFTMzMyIiIi6uroAAAAs73DqAAAAAXRSTlMAQObYZgAAApBJREFU\n",
       "SMfFlj9oFEEUxt9m799udveul8ChhQabFAbscrWNV6UQ1LPJVYFD4QqxSCSNTUjnYeM2KVSQi4XN\n",
       "aRJMYWFx16soqUQQgopBDxLnvZm3zu3ug2jjwM7st9/N/HbezNs5gP9YolG+Kn6UemSdL4K6JlLJ\n",
       "eaOut8eDwfmaVuXTVObgTk4Ph94s7QR9gHBnPHi2xQpgBqvybs4Yf5xHePcLwF0FVkEHaz+n26Tj\n",
       "bOjWx7YaA1yssYLX5MQ5YyROiPMIfgAU1KWVARRbEpodv6Pb91gN1cPLLVYGsCiilVPBdwyP1HiH\n",
       "YJQBeCsSmp29Wd3ew+qD2gHXO6wMoCeilfMZW/cAYPo7GGUAcEFCs7OtJxhRWBfUtdNgZQBuQ0Ir\n",
       "pwtmnR7OqZuuDWiLaO148RS15ZbZLt63RBlAqSOhlbNp1ik4izebNuASjfuYSh8yDpSaZZqU3zTb\n",
       "5VWHFQMKFILbNMSTCbRy1mmdni91KbfWbcAncdbamQKHRq5gnofjpfaNRDEgWpFmrZwjWieTJVox\n",
       "YCiitXMV4AUtF8Lcn+YnVRsdHEho5RDsK/wLelZ/jzSsWv9r9Bo2h/x4LRPW5OOWcQrq3sdlquCK\n",
       "D3lDVRqZgN+kIc6kAz5v0lqXeRtwRZw1OYhFPLhNk9Y6a+xtVoylWSunba+TyZqTJdceVnXOoGS7\n",
       "mHw6QXLtA9xfGPN5ta8BOjWfpvpg7O9S7MnZ5m9oVAfv1vFLPvvqFOFzFGE/fcjZTqVmO7bK+5Da\n",
       "Do0aYbU64dqqJ56avfQhYavSSOqWdhZFtSyil/mYTIqlHojd0o6/ISgvFgOHzqmJR5baEtFpx+kL\n",
       "aromDUGOM8r+DcES7krdss6MoN6Jb6+c32BPyluFWVeyAAAAAElFTkSuQmCC\n",
       "\" style=\"display:inline;vertical-align:middle;\" /></a></td></tr>\n",
       "<tr><td>1</td><td>Literal</td><td></td><td><a class=\"ProveItLink\" href=\"../../conjunction/__pv_it/76b5f4f4c45c0b6a9b59b297fc07dfa9555698f50/expr.ipynb\"><img src=\"data:image/png;base64,iVBORw0KGgoAAAANSUhEUgAAAAwAAAAOBAMAAADpk+DfAAAALVBMVEX///+qqqqYmJh2dnaIiIi6\n",
       "urpUVFQiIiJERETMzMxmZmYyMjLu7u7c3NwAAABvwqPxAAAAAXRSTlMAQObYZgAAAEtJREFUCNdj\n",
       "YGDgPcAAAtwLwNSMGjCV6gIieTawgyhmBS4BIMXOwLsBSKkwMGQCKaC6aQwMjEBd3BdACMScAVJd\n",
       "wJAKolwYAkAUKwAk0guX6efcigAAAABJRU5ErkJggg==\n",
       "\" style=\"display:inline;vertical-align:middle;\" /></a></td></tr>\n",
       "<tr><td>2</td><td>ExprTuple</td><td>3, 4</td><td><a class=\"ProveItLink\" href=\"../48c65938b12ce6f84186daa5b67408d5cd69374a0/expr.ipynb\"><img src=\"data:image/png;base64,iVBORw0KGgoAAAANSUhEUgAAANUAAAAVBAMAAAAjhrYEAAAAMFBMVEX////c3NwiIiJERESqqqqY\n",
       "mJh2dnZmZmYQEBDu7u4yMjJUVFTMzMyIiIi6uroAAAAs73DqAAAAAXRSTlMAQObYZgAAAkBJREFU\n",
       "SMe9VjFII0EU/SFGs+uupj8E0ULBxkLhOlPbaHXFFZ42phJEIYVYxMPmGk13wcZtLLwDiRbXBEm4\n",
       "xsIi6VUUKxEE0UM5A4n/z85s/m521tg4sLv/z9v/3syfvzML8JGtrxbuJa46prjzrDntOwI5xeus\n",
       "WSqNpVyvZ0i0cVgPiYi1BmaX66WjQ7KsIt0H6NZTCQlqIftkvQDEN0B51jLdzZAwF3FbvwPwmQZo\n",
       "5sk9EZ1OSJCH2DRS6wmg6wmkJxkT89FaVcRn6J0LxvhFq4VIkgZlN5D6GaQnGY1ctNYlLug38n8w\n",
       "xoJWC5FbesbvAXr/gfQU40S01hRe5TSWk8MY42mdFiJZlfrdcTSynDETrYVrbDzSqs8zxu5lnRYi\n",
       "ezL11ggZe5xxWtTPL9GKbVq0xn/JNWcZY5eY5JqI+e3TQmRLpP7PYlaU/BZnvImcl11fzCyQkbxi\n",
       "jH053bwQaYjU52V3gzNWI7Xi/1Xtcy3rXqeFiGB/gPdr9Q++W2uTHs+qe7Mth942EtSqKjOZbsvh\n",
       "iogZDuZwUn5ebpvkjF9188qrz8tNJq+NhKObFyIZnnpZ5m/UvPHgW2NZ5h3U/DXAz6m62lKvXUb3\n",
       "izkIxFA6v2M6je0UGKvNY3U0DIqkjYqkmcHTgSPJFEe4F7ZHSXZfDGwwu6A9VArBHZZ73TVdWMLv\n",
       "8v12Sau1pE4RrzFvBzrUMvOtXDi6GIF88nUx71CrFZhwrOiZvSldjEBitfCD1650/A8w4Fnn2ncQ\n",
       "eQV4LqqGQolSAQAAAABJRU5ErkJggg==\n",
       "\" style=\"display:inline;vertical-align:middle;\" /></a></td></tr>\n",
       "<tr><td>3</td><td>Operation</td><td>operator:&nbsp;6<br>operands:&nbsp;5<br></td><td><a class=\"ProveItLink\" href=\"../60d1b0527bbeced8cdad0ccdedba86b6092c5b7d0/expr.ipynb\"><img src=\"data:image/png;base64,iVBORw0KGgoAAAANSUhEUgAAAF4AAAAVBAMAAAA9Y0TyAAAAMFBMVEX////u7u5mZmaYmJi6urqq\n",
       "qqp2dnbMzMwQEBBEREQyMjLc3NwiIiJUVFSIiIgAAAAeC3ydAAAAAXRSTlMAQObYZgAAAQtJREFU\n",
       "KM9jYKAA+MFZzA64Vb39f/fu2Q1ABvsFBqYzYDCBQR2Lwn1Q+hcDA2c3kOYSAPHYFUAkFxb1RRCK\n",
       "/RsDAysQM7xjQKhnTsCpnu8LUPoTkNGIpJ6xAad6zg8MDLxfGRhYFiCpZ5iKUz0/UJ38BAYGpgRk\n",
       "9Uk41dcnMLAfAnnRAFl9FIhgWgUGF1DUv7+WpgYKTg4HZPUeOM2fLwB1F4r6epzq/zCQpJ79E5TL\n",
       "EYDhHnh0I6kHBT8kXFH8a4XLfM6PUC6bAjHhKTT/7wMIl+UARD0kGpagKdY5c+bEmTMnkYW6kdjY\n",
       "0gM6MENisz0grJ5LAMGWIiJ7cV9AsG8Tkx/3wVl8BTiUAAB7yUeltoX7IwAAAABJRU5ErkJggg==\n",
       "\" style=\"display:inline;vertical-align:middle;\" /></a></td></tr>\n",
       "<tr><td>4</td><td>Operation</td><td>operator:&nbsp;6<br>operands:&nbsp;7<br></td><td><a class=\"ProveItLink\" href=\"../e5e8fe8536ca1ef54efddc4c8053ee8e868825a50/expr.ipynb\"><img src=\"data:image/png;base64,iVBORw0KGgoAAAANSUhEUgAAAF4AAAAVBAMAAAA9Y0TyAAAAMFBMVEX////u7u5mZmaYmJi6urqq\n",
       "qqp2dnbMzMwQEBBEREQyMjLc3NwiIiJUVFSIiIgAAAAeC3ydAAAAAXRSTlMAQObYZgAAAQ1JREFU\n",
       "KM9jYKAA+MFZzA64Vb39f/fu2Q1ABvsFEJf7AYhUx6JwH5T+xcDA2Q2kuQRAPHYFEMmFRX0RhGL/\n",
       "xsDACsQM7xgQ6pkTcKrn+wKU/gRkNCKpZ2zAqZ7zAwMD71cGBpYFSOoZpuJUzw9UJz+BgYEpAVl9\n",
       "Ek719QkM7IdAXjRAVh8FIphWgcEFFPXvr6WpgYKTwwFZvQdO8+cLQN2For4ep/o/DCSpZ/8E5XIE\n",
       "YLiH6QwYTEBWDwp+SLii+NcKl/mcH6FcNgViwlNo/t8HEC7LAYgDesAOWIKmWOfMmRNnzpxEFupG\n",
       "YmNLD+jADInN9oCwei4BBFuKiOzFfQHBvk1MftwHZ/EV4FACAPQMR+k7bt4wAAAAAElFTkSuQmCC\n",
       "\" style=\"display:inline;vertical-align:middle;\" /></a></td></tr>\n",
       "<tr><td>5</td><td>ExprTuple</td><td>8, 12</td><td><a class=\"ProveItLink\" href=\"../8aea3170d55b5c7234240558f58912ed9664e6940/expr.ipynb\"><img src=\"data:image/png;base64,iVBORw0KGgoAAAANSUhEUgAAAF0AAAAVBAMAAADWVP/xAAAAMFBMVEX////c3NwiIiJERESqqqqY\n",
       "mJh2dnZmZmYQEBDu7u4yMjJUVFTMzMyIiIi6uroAAAAs73DqAAAAAXRSTlMAQObYZgAAAV1JREFU\n",
       "KM+VkzFLA0EQhZ9cLsmZS0wvNmehYJPC1LH2B1hYSCpTCcHiKosIqeN1BhuvSWEj2NikSWdhEXsD\n",
       "hlRiFYIYVDjd2d3TuVtBHdiZfbsf7DC8Bf4bpbuflT020D1Kt2Ldf/T7G2Wlcp6MCo44ukIpNxDp\n",
       "gnZvgHWMWLlNyoucv5E5BIrUgPsCZMRSSvN23eB3gHxAWCSu59BK807L4LvAE1VrChSeoZXmsWnw\n",
       "1hZ8qkuisfOK2Picbxh8toke1WEd7hptepzfNvhMiA7Vh+t9X46zw/lHgy+1EFGtBfo44vzQ4N2p\n",
       "Imb4M9+mMo+P27/2U9XjV1Hl/C6lgPN2KIdmvcZ8Iz1PZ5aa5wQ4rb3HrpwoXjnhkvgTMbdDz1v3\n",
       "vFVhqTHyZW4rrpQfSvy+m3JVQmXloza/Pogd/BVMnSHNO8I2WE7wTF3JzH9fgXpbSPzHb1UcGP9x\n",
       "BHwCInRdIDZNpHUAAAAASUVORK5CYII=\n",
       "\" style=\"display:inline;vertical-align:middle;\" /></a></td></tr>\n",
       "<tr><td>6</td><td>Literal</td><td></td><td><a class=\"ProveItLink\" href=\"../../../equality/__pv_it/2fb26078095930560931daa0500ce419a39ea6cd0/expr.ipynb\"><img src=\"data:image/png;base64,iVBORw0KGgoAAAANSUhEUgAAAA4AAAAFBAMAAACHocAhAAAAFVBMVEX///9EREQiIiJUVFQyMjJm\n",
       "ZmYAAADubVkoAAAAAXRSTlMAQObYZgAAABRJREFUCNdjCHEBAWcGXCBICQQUAUpuAwlgGKrkAAAA\n",
       "AElFTkSuQmCC\n",
       "\" style=\"display:inline;vertical-align:middle;\" /></a></td></tr>\n",
       "<tr><td>7</td><td>ExprTuple</td><td>9, 12</td><td><a class=\"ProveItLink\" href=\"../e8a4cc2c55f918673c22a8dd2314fa8eaf83e1620/expr.ipynb\"><img src=\"data:image/png;base64,iVBORw0KGgoAAAANSUhEUgAAAF0AAAAVBAMAAADWVP/xAAAAMFBMVEX////c3NwiIiJERESqqqqY\n",
       "mJh2dnZmZmYQEBDu7u4yMjJUVFTMzMyIiIi6uroAAAAs73DqAAAAAXRSTlMAQObYZgAAAWBJREFU\n",
       "KM+Vk6FPw0AUxj/SdVtZV+oJ5hCQYBBMD80fgECQKaZIFkQVYpDpMceCoWYCQ4LBzMwhEMOPhAVF\n",
       "UMtCWICkcK+9G289EuAl97377n5tL6/vgP+Gd/ezs4cGuktyK8fgs9td87XDXPzQIUeXSHI9KRc0\n",
       "ewesI2jn1kjnOX8TawgU6V3uK5CRI3GKtysGvw3kW4RFcnsC5RTv1A2+DTxTtkZA4QXKKR4bBm9t\n",
       "IqC8IA92vi4nAeerBp+toUO5X4G7QpMO57cMPhOiSfnhei+Iy9nk/JPBe3VElMsttRxxvm/w7igh\n",
       "xvgz36A00cuNX89TUuVPosT5HZIW5+0wLpr1pvlqup7OOFXPR+C0/KG7UrqcEOJYCPk3Lok/kXU7\n",
       "EGJViGXZUkPkfd5W3CX94PH9dqqrZlw2/qjNt/d1B0+DuTOkeUe2DRZneOauYuW3r+BPL5OOb1fs\n",
       "GffxHvgCdTtd5Zks6M0AAAAASUVORK5CYII=\n",
       "\" style=\"display:inline;vertical-align:middle;\" /></a></td></tr>\n",
       "<tr><td>8</td><td>Operation</td><td>operator:&nbsp;11<br>operand:&nbsp;10<br></td><td><a class=\"ProveItLink\" href=\"../../../__pv_it/e620067e5fc1a01f6e7ce2f053b97db25219d34a0/expr.ipynb\"><img src=\"data:image/png;base64,iVBORw0KGgoAAAANSUhEUgAAADEAAAAVBAMAAAAdjxsPAAAAMFBMVEX////u7u5mZmaYmJi6urqq\n",
       "qqp2dnbMzMwQEBBEREQyMjLc3NwiIiJUVFSIiIgAAAAeC3ydAAAAAXRSTlMAQObYZgAAAOtJREFU\n",
       "KM9jYCAK+MFZJmDy7f+7d89uADLYLzDonAGBkwxMBWCpXwwMnN1AmksAxCsCiy0AEezfGBhYgZjh\n",
       "HQNCxgxE8H1hYGD+BGQ0IslIgAjODwwMvF8ZGFgWIMlwBgAJfqCI/AQGBqYEJBk2BSBRn8DAfgjk\n",
       "AAMkGVaQAe+vpamBHM3hgCTD0gAk5gtAfMePLMMOtJzhDwMOGfZPUBmOADTTQN6BOBTZBcxAF3B+\n",
       "hMqAHYrkaqH5fx9AZFgOgKkyMMnlgBwJ3UhsCZToMUNi56HIcAnAmYwLUGS4L8CZvBtQY3sfnPWc\n",
       "gQEAcQM23zO0HfcAAAAASUVORK5CYII=\n",
       "\" style=\"display:inline;vertical-align:middle;\" /></a></td></tr>\n",
       "<tr><td>9</td><td>Operation</td><td>operator:&nbsp;11<br>operand:&nbsp;12<br></td><td><a class=\"ProveItLink\" href=\"../../../__pv_it/4d7c4165a9fdb279e98a557bae75d7e45eb1c31a0/expr.ipynb\"><img src=\"data:image/png;base64,iVBORw0KGgoAAAANSUhEUgAAADEAAAAVBAMAAAAdjxsPAAAAMFBMVEX////u7u5mZmaYmJi6urqq\n",
       "qqp2dnbMzMwQEBBEREQyMjLc3NwiIiJUVFSIiIgAAAAeC3ydAAAAAXRSTlMAQObYZgAAAO9JREFU\n",
       "KM9jYCAK+MFZJmDy7f+7d89uADLYL4C4+0AEUwFY6hcDA2c3kOYSAPGKwGILQAT7NwYGViBmeMeA\n",
       "kDEDEXxfGBiYPwEZjUgyEiCC8wMDA+9XBgaWBUgynAFAgh8oIj8BaGsCkgybApCoT2BgPwRygAGS\n",
       "DCvIgPfX0tRAjuZwQJJhaQAS8wUgvuNHlmEHWs7whwGHDPsnqAxHAJppIO9AHIrsAmagCzg/QmXA\n",
       "DkVytdD8vw8gMiwHGBh0zpw5cebMSaAXHJAjoRuJLYESPWZI7DwUGS4BOJNxAYoM9wU4k3cDamzv\n",
       "g7OeMzAAAAoKNyNLs78oAAAAAElFTkSuQmCC\n",
       "\" style=\"display:inline;vertical-align:middle;\" /></a></td></tr>\n",
       "<tr><td>10</td><td>Literal</td><td></td><td><a class=\"ProveItLink\" href=\"../68a87cc3370287d726c7086ace789e680e4461c30/expr.ipynb\"><img src=\"data:image/png;base64,iVBORw0KGgoAAAANSUhEUgAAAA4AAAAOBAMAAADtZjDiAAAAFVBMVEX///92dnbMzMxEREQiIiJm\n",
       "ZmYAAABAT6GXAAAAAXRSTlMAQObYZgAAABhJREFUCNdjCHEBAWcGIFBlgABa0YpADAAxegPJJk4d\n",
       "XAAAAABJRU5ErkJggg==\n",
       "\" style=\"display:inline;vertical-align:middle;\" /></a></td></tr>\n",
       "<tr><td>11</td><td>Variable</td><td></td><td><a class=\"ProveItLink\" href=\"../../../../__pv_it/6369c6c8083c513ca7161ace249642d040f9327d0/expr.ipynb\"><img src=\"data:image/png;base64,iVBORw0KGgoAAAANSUhEUgAAABAAAAAOBAMAAADUAYG5AAAAMFBMVEX////u7u5mZmaYmJi6urqq\n",
       "qqp2dnbMzMwQEBBEREQyMjLc3NwiIiJUVFSIiIgAAAAeC3ydAAAAAXRSTlMAQObYZgAAAGBJREFU\n",
       "CNdjYGB4+//u3bMbGIDgFwMDZzeQZv/GwMAKxAx8XxgYmD8BGZwfGBh4vwIZ/AsYGOQnABn1CQzs\n",
       "h0Ca3l9LUwPrni/AAAF/oDT7JygDZAwYcH6E0ELz/z4A0QBnpRnRyxnfJQAAAABJRU5ErkJggg==\n",
       "\" style=\"display:inline;vertical-align:middle;\" /></a></td></tr>\n",
       "<tr><td>12</td><td>Literal</td><td></td><td><a class=\"ProveItLink\" href=\"../8f1f7fac882de28c72b62ab80a1700b6d8fd066b0/expr.ipynb\"><img src=\"data:image/png;base64,iVBORw0KGgoAAAANSUhEUgAAAA4AAAAOBAMAAADtZjDiAAAAG1BMVEX///9EREQQEBAiIiJmZmbM\n",
       "zMyIiIjc3NwAAACryk5kAAAAAXRSTlMAQObYZgAAABlJREFUCNdjYGBgKGOAgBBa0s7GxkbGxoYA\n",
       "FMUF2aBfHgoAAAAASUVORK5CYII=\n",
       "\" style=\"display:inline;vertical-align:middle;\" /></a></td></tr>\n",
       "</table>\n"
      ],
      "text/plain": [
       "0. (P(TRUE) = FALSE) and (P(FALSE) = FALSE)\n",
       "   core type: Operation\n",
       "   operator: 1\n",
       "   operands: 2\n",
       "1. and\n",
       "   core type: Literal\n",
       "   sub-expressions: \n",
       "2. (P(TRUE) = FALSE , P(FALSE) = FALSE)\n",
       "   core type: ExprTuple\n",
       "   sub-expressions: 3, 4\n",
       "3. P(TRUE) = FALSE\n",
       "   core type: Operation\n",
       "   operator: 6\n",
       "   operands: 5\n",
       "4. P(FALSE) = FALSE\n",
       "   core type: Operation\n",
       "   operator: 6\n",
       "   operands: 7\n",
       "5. (P(TRUE) , FALSE)\n",
       "   core type: ExprTuple\n",
       "   sub-expressions: 8, 12\n",
       "6. =\n",
       "   core type: Literal\n",
       "   sub-expressions: \n",
       "7. (P(FALSE) , FALSE)\n",
       "   core type: ExprTuple\n",
       "   sub-expressions: 9, 12\n",
       "8. P(TRUE)\n",
       "   core type: Operation\n",
       "   operator: 11\n",
       "   operand: 10\n",
       "9. P(FALSE)\n",
       "   core type: Operation\n",
       "   operator: 11\n",
       "   operand: 12\n",
       "10. TRUE\n",
       "    core type: Literal\n",
       "    sub-expressions: \n",
       "11. P\n",
       "    core type: Variable\n",
       "    sub-expressions: \n",
       "12. FALSE\n",
       "    core type: Literal\n",
       "    sub-expressions: "
      ]
     },
     "execution_count": 4,
     "metadata": {},
     "output_type": "execute_result"
    }
   ],
   "source": [
    "# display the expression information\n",
    "expr.exprInfo()"
   ]
  },
  {
   "cell_type": "code",
   "execution_count": null,
   "metadata": {},
   "outputs": [],
   "source": []
  }
 ],
 "metadata": {
  "kernelspec": {
   "display_name": "Python 3",
   "language": "python",
   "name": "python3"
  }
 },
 "nbformat": 4,
 "nbformat_minor": 0
}
