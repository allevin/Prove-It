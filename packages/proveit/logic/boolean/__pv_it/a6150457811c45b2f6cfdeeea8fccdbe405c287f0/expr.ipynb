{
 "cells": [
  {
   "cell_type": "markdown",
   "metadata": {},
   "source": [
    "Expression of type <a class=\"ProveItLink\" href=\"../../../../../../doc/html/api/proveit.logic.Equals.html\">Equals</a>\n",
    "=======================\n",
    "# from context <a class=\"ProveItLink\" href=\"../../_context_.ipynb\">proveit.logic.boolean</a>"
   ]
  },
  {
   "cell_type": "code",
   "execution_count": 1,
   "metadata": {},
   "outputs": [],
   "source": [
    "# import Expression classes needed to build the expression\n",
    "from proveit._common_ import A, PofA\n",
    "from proveit.logic import Booleans, Equals, Forall, TRUE"
   ]
  },
  {
   "cell_type": "code",
   "execution_count": 2,
   "metadata": {},
   "outputs": [
    {
     "data": {
      "text/html": [
       "<strong id=\"expr\">expr:</strong> <a class=\"ProveItLink\" href=\"expr.ipynb\"><img src=\"data:image/png;base64,iVBORw0KGgoAAAANSUhEUgAAAJwAAAAVBAMAAABBKZpuAAAAMFBMVEX///8QEBBUVFRmZmZERETc\n",
       "3NyqqqqYmJju7u66urp2dnbMzMwyMjIiIiKIiIgAAABzfB1TAAAAAXRSTlMAQObYZgAAAjlJREFU\n",
       "OMtjYKAueHu6gSh1nA9gLPYJDAw1N3EoW8lwAUTVYZfl0/+kpKsKYm2CCOwFYmuwNlRgexcErgDF\n",
       "l4G4J3DYxn+AgcExAKHgPBDzYDEOCDZDXBcCJFkdcBi3fwEDQz4Q80H8yn4fGDTsC/AZxwNUwZyA\n",
       "w7j3wICqN2BgYISEcJg90KUcAviMY18aGhqLKwb8gVgfaNccCPcByHgGN3zGMXxxcbmFy7g/QMd8\n",
       "AdJWkOhtyC8AUovxGqfNwOAKFjiKoYT7FzAygX5lOA7mdjLsB4VhDtQ4mzMgcAjNuEkMHAfA4fwT\n",
       "mrBOnTpcAE0on1YtXgpiSIK5ExjiQWZPxOs6XgY+sO7m70Ciz9ic4cGCvpkQJSw/oGrBNnErKemD\n",
       "ksB+vMbxFfCC423FZSDbM6IDaBxXOzTZXUA2jhMYwwcIGsdxAJzkuR+4MDAUg+NvwTwLaLIzgKoV\n",
       "AxHAGOYVQPIsLCugGsfgqgliMTHYMjCAA/GBsWwBItmBgTsorQON4/kAZNTgdR1DMthLZQzvGbgX\n",
       "QFzHvA+a7GDlAzBtMPTAAhN/QmFgBMU+x2Vj/wbuKy4ufqCw4wLJcZj814OqncvAECJ/lIHd/w/Q\n",
       "+yexGrcLZhw7yA3MAQz7N3AoQFwHMQ4JMAYg2DgyGQMDctEwHRiPBQyqUM/GoSljX4Bgcz0gbFzT\n",
       "FwZW/esMLRPAydilAF0dUgnWw0CE66BgCTDssIEgBFMVj3FvbxNXCbDCC3e+DUBdOAp3AETSsn1v\n",
       "q1tOAAAAAElFTkSuQmCC\n",
       "\" style=\"display:inline;vertical-align:middle;\" /></a><br>"
      ],
      "text/plain": [
       "expr: [forall_{A in BOOLEANS} P(A)] = TRUE"
      ]
     },
     "execution_count": 2,
     "metadata": {},
     "output_type": "execute_result"
    }
   ],
   "source": [
    "# build up the expression from sub-expressions\n",
    "expr = Equals(Forall([A], PofA, domain = Booleans, conditions = []), TRUE)"
   ]
  },
  {
   "cell_type": "code",
   "execution_count": 3,
   "metadata": {},
   "outputs": [
    {
     "name": "stdout",
     "output_type": "stream",
     "text": [
      "Passed sanity check: built 'expr' is the same as the stored Expression.\n"
     ]
    }
   ],
   "source": [
    "# check that the built expression is the same as the stored expression\n",
    "%check_expr"
   ]
  },
  {
   "cell_type": "code",
   "execution_count": 4,
   "metadata": {},
   "outputs": [
    {
     "data": {
      "text/html": [
       "<table><tr><th>&nbsp;</th><th>core type</th><th>sub-expressions</th><th>expression</th></tr>\n",
       "<tr><td>0</td><td>Operation</td><td>operator:&nbsp;1<br>operands:&nbsp;2<br></td><td><a class=\"ProveItLink\" href=\"expr.ipynb\"><img src=\"data:image/png;base64,iVBORw0KGgoAAAANSUhEUgAAAJwAAAAVBAMAAABBKZpuAAAAMFBMVEX///8QEBBUVFRmZmZERETc\n",
       "3NyqqqqYmJju7u66urp2dnbMzMwyMjIiIiKIiIgAAABzfB1TAAAAAXRSTlMAQObYZgAAAjlJREFU\n",
       "OMtjYKAueHu6gSh1nA9gLPYJDAw1N3EoW8lwAUTVYZfl0/+kpKsKYm2CCOwFYmuwNlRgexcErgDF\n",
       "l4G4J3DYxn+AgcExAKHgPBDzYDEOCDZDXBcCJFkdcBi3fwEDQz4Q80H8yn4fGDTsC/AZxwNUwZyA\n",
       "w7j3wICqN2BgYISEcJg90KUcAviMY18aGhqLKwb8gVgfaNccCPcByHgGN3zGMXxxcbmFy7g/QMd8\n",
       "AdJWkOhtyC8AUovxGqfNwOAKFjiKoYT7FzAygX5lOA7mdjLsB4VhDtQ4mzMgcAjNuEkMHAfA4fwT\n",
       "mrBOnTpcAE0on1YtXgpiSIK5ExjiQWZPxOs6XgY+sO7m70Ciz9ic4cGCvpkQJSw/oGrBNnErKemD\n",
       "ksB+vMbxFfCC423FZSDbM6IDaBxXOzTZXUA2jhMYwwcIGsdxAJzkuR+4MDAUg+NvwTwLaLIzgKoV\n",
       "AxHAGOYVQPIsLCugGsfgqgliMTHYMjCAA/GBsWwBItmBgTsorQON4/kAZNTgdR1DMthLZQzvGbgX\n",
       "QFzHvA+a7GDlAzBtMPTAAhN/QmFgBMU+x2Vj/wbuKy4ufqCw4wLJcZj814OqncvAECJ/lIHd/w/Q\n",
       "+yexGrcLZhw7yA3MAQz7N3AoQFwHMQ4JMAYg2DgyGQMDctEwHRiPBQyqUM/GoSljX4Bgcz0gbFzT\n",
       "FwZW/esMLRPAydilAF0dUgnWw0CE66BgCTDssIEgBFMVj3FvbxNXCbDCC3e+DUBdOAp3AETSsn1v\n",
       "q1tOAAAAAElFTkSuQmCC\n",
       "\" style=\"display:inline;vertical-align:middle;\" /></a></td></tr>\n",
       "<tr><td>1</td><td>Literal</td><td></td><td><a class=\"ProveItLink\" href=\"../../../equality/__pv_it/2fb26078095930560931daa0500ce419a39ea6cd0/expr.ipynb\"><img src=\"data:image/png;base64,iVBORw0KGgoAAAANSUhEUgAAAA4AAAAFBAMAAACHocAhAAAAFVBMVEX///9EREQiIiJUVFQyMjJm\n",
       "ZmYAAADubVkoAAAAAXRSTlMAQObYZgAAABRJREFUCNdjCHEBAWcGXCBICQQUAUpuAwlgGKrkAAAA\n",
       "AElFTkSuQmCC\n",
       "\" style=\"display:inline;vertical-align:middle;\" /></a></td></tr>\n",
       "<tr><td>2</td><td>ExprTuple</td><td>3, 4</td><td><a class=\"ProveItLink\" href=\"../a696dcbb82ba3e80c4ac85fdbd331c6c3ebb6aa90/expr.ipynb\"><img src=\"data:image/png;base64,iVBORw0KGgoAAAANSUhEUgAAAJEAAAAVBAMAAAC01xHeAAAAMFBMVEX////c3NwiIiJERESqqqqY\n",
       "mJh2dnZmZmYQEBDu7u4yMjJUVFTMzMyIiIi6uroAAAAs73DqAAAAAXRSTlMAQObYZgAAAmNJREFU\n",
       "OMutVL9rFEEUfpvc3t5eds+N2ogIhyHG0rAIaTTpUrqoaKVuUAwWQoiYI10UGy30QERFAmdhgpUX\n",
       "21MvWGhxSOYPULIIFioJ0UMlCSa+92Y3t5m9hRQOzPvxvZlv5s28GYD/1wqivLOBS1vW+USMkQYU\n",
       "SZ1rP92ur9dezpFlVRmwcLQxH4XHD1LrkchzuASs2rddFYABB4283Hp+BUUlNuA9S0RsAXvQ0o6k\n",
       "MC34ACewwyfpn1xFcSbBhEiuzKsZQylMiwHAhTE0brOrDf9A+SjBhMg3AH2ku3t32jkPYq/jMgWZ\n",
       "kW1voOwcUpkQmUDVdN1DaUxrAGYTteGz+zXzC2V2TGVC5BmqVwD97D9NEFm/Ad7SvLxHrhlYf1Fl\n",
       "KioTIndRfQeTQ/qGDOozM7NeWAXrl0dHyMgFXHyg/SE1pTIhQpM7wOaJD2nn06XrIPzpZTmuczWq\n",
       "BmZq1GqUqrWiMiFCTLbXwcVypQ/t4/seI1P2QUhQ3MaE4k4a0y3KvtJgT7gAZ8kS/tJkWE7R2ebo\n",
       "ujLYD6dld5R0/xuSXTAelq8o3fRa5STTJGAv9hd0kDSqHGdCZJT0MOdwGhbB8uWejA9hOUXPmy6e\n",
       "74UQdn4qVfCZty4ox77SYNnqcd1jdE5ZvvRrm6+jL6MI2sCaA6c2Z7EkcKfmPYcD7+RzDCBHvk4r\n",
       "Gw4szJtVuSfJFG83Yja/loKzHdH9yPmCF+TBXJjdAZUp/mqv8tGAgkTfyZMmaPVeuB9wZbqeypRv\n",
       "fYhhHceCjOxXZlzEc2rXtOqW2cV5iViQEU3s8Jtu5fsxEUPkHxeKoBZVHqBJAAAAAElFTkSuQmCC\n",
       "\" style=\"display:inline;vertical-align:middle;\" /></a></td></tr>\n",
       "<tr><td>3</td><td>Operation</td><td>operator:&nbsp;5<br>operand:&nbsp;6<br></td><td><a class=\"ProveItLink\" href=\"../39945d061f2a9ba21ffa86feb2bf389464a3c2530/expr.ipynb\"><img src=\"data:image/png;base64,iVBORw0KGgoAAAANSUhEUgAAAGYAAAAVBAMAAABGR4Y+AAAAMFBMVEX///8QEBC6urrMzMxUVFRm\n",
       "ZmZERETc3NwyMjKqqqp2dnaIiIiYmJgiIiLu7u4AAAAU9Wx4AAAAAXRSTlMAQObYZgAAAe1JREFU\n",
       "OMudVE8oBFEc/tZYu3Zmx+YiB1lyUCgHN2nF1pbLKu1F/uUwErV7EEnYlJSEi3IzF8RBc3DfuShy\n",
       "ccBByiakCAkh/37vPWO3tVvy6s373nu/b97v931vBvhHi/8pKsuwkOIF9hjYTR+5+en370cYqhEL\n",
       "ddRbgDWGZzO8/hnIKUgKmKPuBAZpcHSlp0ivQC51yCI15YQqUXQ4abDPp+fI9xTySMAmqh7upERV\n",
       "D5TVoaHRDKnl3AHZLwTKxdyIkQDoBZ407SgDJy8K3LK8W4V48SWThmWgEejhS1O/OD4d0gEDM3x6\n",
       "Ch+raxEogxrlBd5/GzA9PWkKGGtab+VS5/OpF+PNNJQAbsg85PyNHlehNhj6VanghC3D+eskvz/I\n",
       "EvWROKabb21QFnL32A1xXNci9B3JnCzSLyo4apSbLBkasMXV0Ss6hD2PFqeQPcgQt0fkhp4GtpKN\n",
       "doAXZoSKzB97ROtnxhPHSeJjm/oCv3I7iEHSxTn2WmHPh8UheXFprbCJjQmoHoTCcelQ0/pYPS4u\n",
       "SvjBus1VdMeKp6CEn0m4CSYuk8Aega9arRfnCE5Ss0USWPVYqJJcNxH4zm0khaPoCeyyDj97giN4\n",
       "jAsv91QzU29E0sdymbq3QvWkawMJGPjrH8Dx823L1fgCgYd+XY6KqFgAAAAASUVORK5CYII=\n",
       "\" style=\"display:inline;vertical-align:middle;\" /></a></td></tr>\n",
       "<tr><td>4</td><td>Literal</td><td></td><td><a class=\"ProveItLink\" href=\"../68a87cc3370287d726c7086ace789e680e4461c30/expr.ipynb\"><img src=\"data:image/png;base64,iVBORw0KGgoAAAANSUhEUgAAAA4AAAAOBAMAAADtZjDiAAAAFVBMVEX///92dnbMzMxEREQiIiJm\n",
       "ZmYAAABAT6GXAAAAAXRSTlMAQObYZgAAABhJREFUCNdjCHEBAWcGIFBlgABa0YpADAAxegPJJk4d\n",
       "XAAAAABJRU5ErkJggg==\n",
       "\" style=\"display:inline;vertical-align:middle;\" /></a></td></tr>\n",
       "<tr><td>5</td><td>Literal</td><td></td><td><a class=\"ProveItLink\" href=\"../../quantification/universal/__pv_it/265f8c02ac1094d56e0e6410a1c1fd3500dc9f540/expr.ipynb\"><img src=\"data:image/png;base64,iVBORw0KGgoAAAANSUhEUgAAAAwAAAAQBAMAAADQT4M0AAAAMFBMVEX///8QEBC6urrMzMxUVFRm\n",
       "ZmZERETc3NwyMjKqqqp2dnaIiIiYmJgiIiLu7u4AAAAU9Wx4AAAAAXRSTlMAQObYZgAAAFhJREFU\n",
       "CNdjeMAABhdAxGmGlSCqj6EMSLInMHAAJVknMPAsLy+vBYp8S0u7BaScGRjSgZQKA18DkOJl4D4A\n",
       "pLgP8IJM4mswARuX7gSmpoKNZWDcAKZ4gCoAgTQTILaSE58AAAAASUVORK5CYII=\n",
       "\" style=\"display:inline;vertical-align:middle;\" /></a></td></tr>\n",
       "<tr><td>6</td><td>Lambda</td><td>parameter:&nbsp;13<br>body:&nbsp;7<br>conditions:&nbsp;8<br></td><td><a class=\"ProveItLink\" href=\"../1d85b3041e516806c3d825c8f9f984ee677e1b920/expr.ipynb\"><img src=\"data:image/png;base64,iVBORw0KGgoAAAANSUhEUgAAALAAAAAVCAMAAADRuJQxAAAANlBMVEX///92dnYUFBQNDQ0QEBBE\n",
       "RERUVFS6urqIiIhmZmaqqqrc3Nzu7u6YmJgyMjIiIiLMzMwAAACuIkBbAAAAAXRSTlMAQObYZgAA\n",
       "AgNJREFUSMfNV9uSrCAMhD3cCcH8/8+ujqNyiULV7p7dvFiFTndDOiEjxH+OEMUfCev6tWS7JWm/\n",
       "jXHJs186Q2TWyOY6rsVwWH6ZETxglkgaCVXWoVpHmt8c4euh1akYgcXCGcFDZr3lDxCkLNOXCaaT\n",
       "QfsvAx0IrjLEhZXkWPCY+SVYOFvuPwZP0/XgaKdN5N8rqqQssEANBffM4DCvgY3gkIS5aNypYiL0\n",
       "O4eG3q6yVepLrMZ3jOCOecEE/AlHfdU4rPlNha3qXhRYCwMdAL7MfIUl/UBwyyyiBtYSS07XG7Cb\n",
       "MQsfNnVrgLHwkk8xWDDWWAGfBXfMQkfOwzkTqeuzDSWSvxUMJlYWNlJKL681Vciosax6Ftwxg74t\n",
       "Ohf02US3oOLTfx+5ClXaTHdVXbxtsBZ6FNwzW3VwtkW3PeS1zfWY8PaEhSl5qGv0heAGayC4Z65v\n",
       "oEaw2Hf2LqmsbgX7WFnYt4jqrMoW69kSDDPkoeAY+gun/tXiuC5cIqazqTZY6anoOGZh0r3glyUA\n",
       "GWvWkww0XbjrO0fz6rGe2hrLvB6x5QUn7/TW9RThlvCkidAP7wzw63emncxs3jtoj4X2TvAtc8R6\n",
       "ZtqHH52VCd83XKqba33iauaGZoNVl/iB6IacQ5/7uXn4a4HswAVT4+WvRDTcqol/VrCIzF8kt/RL\n",
       "XxT8CVtGFw7gNIvvAAAAAElFTkSuQmCC\n",
       "\" style=\"display:inline;vertical-align:middle;\" /></a></td></tr>\n",
       "<tr><td>7</td><td>Operation</td><td>operator:&nbsp;9<br>operand:&nbsp;13<br></td><td><a class=\"ProveItLink\" href=\"../../../../__pv_it/d2c2aa3c0d5707e464a75d67a5b95d12c40fc6e30/expr.ipynb\"><img src=\"data:image/png;base64,iVBORw0KGgoAAAANSUhEUgAAADIAAAAVBAMAAAD2uKAMAAAAMFBMVEX////u7u5mZmaYmJi6urqq\n",
       "qqp2dnbMzMwQEBBEREQyMjLc3NwiIiJUVFSIiIgAAAAeC3ydAAAAAXRSTlMAQObYZgAAARtJREFU\n",
       "KM9jYCAKsDyAsZgdQOTb/3fvnt0AYtVChGuAWB3M+sXAwNkNYiyEyKwHYi4Qg/0bAwMrEDPwQQxj\n",
       "Pi8AJBJAAl+AjE9ABocAWGarPtBoxgYgi/MDAwPvVyDDC2LYg/cg66cCMf8CBgb5CUCGGsSBAvEG\n",
       "QCoJiOsTGNgPgcQWg2VEGOpB9kUB8ftraWpgR7eAZRwY9isAKQ8gni8A9d4XsEvv3r0PMroeiP8w\n",
       "IMuwAN24ACLD/gkm0woiAhgYeBogpvF9gclMBmJuoAwX0BsMVkDvfITJgBwqxQAVSWIQmv8XFsI+\n",
       "DAw7+1czMM//BXTcEuRI4NiAYINDBw7AoQgFbA9QYm4hgimFGqd7EczbqDLccCP4ChgAEixBiNSE\n",
       "EDoAAAAASUVORK5CYII=\n",
       "\" style=\"display:inline;vertical-align:middle;\" /></a></td></tr>\n",
       "<tr><td>8</td><td>ExprTuple</td><td>10</td><td><a class=\"ProveItLink\" href=\"../260b1dbac44813db7db6b8178562ca52c979a3070/expr.ipynb\"><img src=\"data:image/png;base64,iVBORw0KGgoAAAANSUhEUgAAAEMAAAAVBAMAAADvM06qAAAAMFBMVEX////c3NwiIiJERESqqqqY\n",
       "mJh2dnZmZmYQEBDu7u4yMjJUVFTMzMyIiIi6uroAAAAs73DqAAAAAXRSTlMAQObYZgAAAUNJREFU\n",
       "KM9jYCAC8F3AJxsHIk5D2IdQpdjWW/1qMmFgYD8A5KyEiK1H087Md2HWtAQGhgUMDLwQe1j1J2Ao\n",
       "4X0AlA9jYOCASInUC0Ck5i5S0oIqYQnYycAwg4HhFUTmwv0HYJpn6QSEKQ8NgLQDQxnEWxP8A8AM\n",
       "4QkIiw4FAzlsBQxLwQLzGM5D3GSIcIvS/14gzbKAoQ8s8IBBvgBEcxogO/cKkMfXwPAP7ILdu/eD\n",
       "JfmalJTgzmUweAaU+gBRwgf02QKw2g1IpjAYMIOVtID4DgwMTA1gixTQlQAtMgVyGYFKuD6AZbai\n",
       "KAFaxLqAIR3InQUS+gmWmfQAoYS11gDs6UfAsOhfyMBq/wvsJcblB2DR+FljC5DB9YCBQwA1blh2\n",
       "QXwEA8AIYE3An5xyEYkBB+AEhYU0XiXcIHcw4k2YdxgYADaiUrQ+foXtAAAAAElFTkSuQmCC\n",
       "\" style=\"display:inline;vertical-align:middle;\" /></a></td></tr>\n",
       "<tr><td>9</td><td>Variable</td><td></td><td><a class=\"ProveItLink\" href=\"../../../../__pv_it/6369c6c8083c513ca7161ace249642d040f9327d0/expr.ipynb\"><img src=\"data:image/png;base64,iVBORw0KGgoAAAANSUhEUgAAABAAAAAOBAMAAADUAYG5AAAAMFBMVEX////u7u5mZmaYmJi6urqq\n",
       "qqp2dnbMzMwQEBBEREQyMjLc3NwiIiJUVFSIiIgAAAAeC3ydAAAAAXRSTlMAQObYZgAAAGBJREFU\n",
       "CNdjYGB4+//u3bMbGIDgFwMDZzeQZv/GwMAKxAx8XxgYmD8BGZwfGBh4vwIZ/AsYGOQnABn1CQzs\n",
       "h0Ca3l9LUwPrni/AAAF/oDT7JygDZAwYcH6E0ELz/z4A0QBnpRnRyxnfJQAAAABJRU5ErkJggg==\n",
       "\" style=\"display:inline;vertical-align:middle;\" /></a></td></tr>\n",
       "<tr><td>10</td><td>Operation</td><td>operator:&nbsp;11<br>operands:&nbsp;12<br></td><td><a class=\"ProveItLink\" href=\"../923805f01821a06014dd29c5f79c5e4c92605ad50/expr.ipynb\"><img src=\"data:image/png;base64,iVBORw0KGgoAAAANSUhEUgAAADYAAAAPBAMAAABdHiGLAAAAMFBMVEX///92dnYQEBBERERUVFS6\n",
       "urqIiIhmZmaqqqrc3Nzu7u6YmJgyMjIiIiLMzMwAAACFkkdwAAAAAXRSTlMAQObYZgAAANJJREFU\n",
       "GNNjYACBtwwogPG8zR9dCyjnPKocAzNrwpqFAmAm9/0FGHJsAQfAzBn1EyBiy87evQOV49jgBRZK\n",
       "yA8A03ynFyD0RRqAWKwL+jeAhSYvQJj5djOYs5ThfQJYyBJh393/amBWAMP8AhDNZYDslgwQj8/F\n",
       "xR9itu7du3C3MBgEgoQYGJjA7uVzQNLHYMAMZDQwMPAqgM28gC7HCZTj+QAW8kaRA5q5BsT+BRZa\n",
       "G4CQ4y4zYJisf5KB2/4P2KGcxx/AwvrzJQ+0MObwgbgTAgCMvTlc/0QYTQAAAABJRU5ErkJggg==\n",
       "\" style=\"display:inline;vertical-align:middle;\" /></a></td></tr>\n",
       "<tr><td>11</td><td>Literal</td><td></td><td><a class=\"ProveItLink\" href=\"../../../set_theory/membership/__pv_it/088cbc857536a28d4119ad9639a84270ccb0545d0/expr.ipynb\"><img src=\"data:image/png;base64,iVBORw0KGgoAAAANSUhEUgAAAAwAAAAMBAMAAACkW0HUAAAALVBMVEX///+qqqpmZmZUVFQQEBC6\n",
       "urpERETc3NyYmJjMzMwiIiIyMjKIiIju7u4AAACYsrA9AAAAAXRSTlMAQObYZgAAADxJREFUCNdj\n",
       "YOA9vWrVBgaG2b0MQMCeCyIZ2ArA1DUwyRCyahVIyWQI7xaEYm4AU7xLIdxqTQgtvGvVBgCkcQ7e\n",
       "geM/tQAAAABJRU5ErkJggg==\n",
       "\" style=\"display:inline;vertical-align:middle;\" /></a></td></tr>\n",
       "<tr><td>12</td><td>ExprTuple</td><td>13, 14</td><td><a class=\"ProveItLink\" href=\"../66187e1b4f8077ccc87706fb1f470f3ae4cd9ec60/expr.ipynb\"><img src=\"data:image/png;base64,iVBORw0KGgoAAAANSUhEUgAAADMAAAAVBAMAAAAZessyAAAAMFBMVEX////c3NwiIiJERESqqqqY\n",
       "mJh2dnZmZmYQEBDu7u4yMjJUVFTMzMyIiIi6uroAAAAs73DqAAAAAXRSTlMAQObYZgAAAR1JREFU\n",
       "KM9jYMAD+C5gE40DEach7EMQim291a8mEwYG9gNAzkqI2Hqocma+C7OmJTAwLGBg4IWYx6o/AS7F\n",
       "+wAoHsbAwAEREqkXgEuxBOxkYJjBwPAKInLh/gOErocGQNqBoQzizAn+AXCpQ8FAk9gKGJaCBeYx\n",
       "nL8Ak1L63wukWRYw9IEFHjDIFyAMvAI0kK+B4R+Iz7N7934DuBSDwTOg0AeIFB/QpQuQpJjBUi0g\n",
       "vgMDA1MDqhTQQFMglxEoxfWBgWECkoGsCxjSgdxZIKGfDJyfIFKstQZgxz9iYBDuX8jAav+rgLNf\n",
       "ABS8nzW2AJVwPWDgEECKHyQ2MKBYExBcVqQIy0VECpoUJ8gv0gg+Unxzg8xmxJoA7jAwAAA4lUto\n",
       "1aFFcAAAAABJRU5ErkJggg==\n",
       "\" style=\"display:inline;vertical-align:middle;\" /></a></td></tr>\n",
       "<tr><td>13</td><td>Variable</td><td></td><td><a class=\"ProveItLink\" href=\"../../../../__pv_it/2cbe72a7ad6f655694dd697106680215e8489b600/expr.ipynb\"><img src=\"data:image/png;base64,iVBORw0KGgoAAAANSUhEUgAAAA8AAAAOBAMAAAACpFvcAAAALVBMVEX///8QEBBERERUVFS6urqI\n",
       "iIhmZmaqqqrc3Nzu7u6YmJgyMjIiIiLMzMwAAADtIaYWAAAAAXRSTlMAQObYZgAAAFtJREFUCNdj\n",
       "YACBOwxQsA9Kc52bAGG05zVAGAFxDmCaZULdAjBjCsO9ADDDgaEvAUTzGhvbKYCVMDAwbgAxChgY\n",
       "eASANAeQwf0AyJgNxEwvGRia5HYwcOm9TgAA6BoR3jrzwFcAAAAASUVORK5CYII=\n",
       "\" style=\"display:inline;vertical-align:middle;\" /></a></td></tr>\n",
       "<tr><td>14</td><td>Literal</td><td></td><td><a class=\"ProveItLink\" href=\"../46271c8230be96415d662709611f4ed2279d702b0/expr.ipynb\"><img src=\"data:image/png;base64,iVBORw0KGgoAAAANSUhEUgAAAA0AAAAOBAMAAAAGUYvhAAAAMFBMVEX///9mZmbMzMzc3NxUVFSY\n",
       "mJju7u6IiIi6urqqqqoiIiIQEBBEREQyMjJ2dnYAAAAQvcRZAAAAAXRSTlMAQObYZgAAAElJREFU\n",
       "CNdjePvn/u01ExgYGA60s117B6YZKngh9FSWBAjfBsxnWnoMRHet/10AkS+fA6F5OB5AaIYDqDRU\n",
       "PLCGgQFoz6ktExgAgLIl8DFvGtkAAAAASUVORK5CYII=\n",
       "\" style=\"display:inline;vertical-align:middle;\" /></a></td></tr>\n",
       "</table>\n"
      ],
      "text/plain": [
       "0. [forall_{A in BOOLEANS} P(A)] = TRUE\n",
       "   core type: Operation\n",
       "   operator: 1\n",
       "   operands: 2\n",
       "1. =\n",
       "   core type: Literal\n",
       "   sub-expressions: \n",
       "2. (forall_{A in BOOLEANS} P(A) , TRUE)\n",
       "   core type: ExprTuple\n",
       "   sub-expressions: 3, 4\n",
       "3. forall_{A in BOOLEANS} P(A)\n",
       "   core type: Operation\n",
       "   operator: 5\n",
       "   operand: 6\n",
       "4. TRUE\n",
       "   core type: Literal\n",
       "   sub-expressions: \n",
       "5. forall\n",
       "   core type: Literal\n",
       "   sub-expressions: \n",
       "6. A -> P(A) | A in BOOLEANS\n",
       "   core type: Lambda\n",
       "   parameter: 13\n",
       "   body: 7\n",
       "   conditions: 8\\n7. P(A)\n",
       "   core type: Operation\n",
       "   operator: 9\n",
       "   operand: 13\n",
       "8. (A in BOOLEANS)\n",
       "   core type: ExprTuple\n",
       "   sub-expressions: 10\n",
       "9. P\n",
       "   core type: Variable\n",
       "   sub-expressions: \n",
       "10. A in BOOLEANS\n",
       "    core type: Operation\n",
       "    operator: 11\n",
       "    operands: 12\n",
       "11. in\n",
       "    core type: Literal\n",
       "    sub-expressions: \n",
       "12. (A , BOOLEANS)\n",
       "    core type: ExprTuple\n",
       "    sub-expressions: 13, 14\n",
       "13. A\n",
       "    core type: Variable\n",
       "    sub-expressions: \n",
       "14. BOOLEANS\n",
       "    core type: Literal\n",
       "    sub-expressions: "
      ]
     },
     "execution_count": 4,
     "metadata": {},
     "output_type": "execute_result"
    }
   ],
   "source": [
    "# display the expression information\n",
    "expr.exprInfo()"
   ]
  },
  {
   "cell_type": "code",
   "execution_count": null,
   "metadata": {},
   "outputs": [],
   "source": []
  }
 ],
 "metadata": {
  "kernelspec": {
   "display_name": "Python 3",
   "language": "python",
   "name": "python3"
  }
 },
 "nbformat": 4,
 "nbformat_minor": 0
}
