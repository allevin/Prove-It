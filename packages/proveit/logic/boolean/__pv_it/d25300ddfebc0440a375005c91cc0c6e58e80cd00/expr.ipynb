{
 "cells": [
  {
   "cell_type": "markdown",
   "metadata": {},
   "source": [
    "Expression of type <a class=\"ProveItLink\" href=\"../../../../../../doc/html/api/proveit.logic.Set.html\">Set</a>\n",
    "=======================\n",
    "# from context <a class=\"ProveItLink\" href=\"../../_context_.ipynb\">proveit.logic.boolean</a>"
   ]
  },
  {
   "cell_type": "code",
   "execution_count": 1,
   "metadata": {},
   "outputs": [],
   "source": [
    "# import Expression classes needed to build the expression\n",
    "from proveit.logic import Set\n",
    "from proveit.logic._common_ import PofFalse, PofTrue"
   ]
  },
  {
   "cell_type": "code",
   "execution_count": 2,
   "metadata": {},
   "outputs": [
    {
     "data": {
      "text/html": [
       "<strong id=\"expr\">expr:</strong> <a class=\"ProveItLink\" href=\"expr.ipynb\"><img src=\"data:image/png;base64,iVBORw0KGgoAAAANSUhEUgAAAIcAAAAVBAMAAACeZ+BxAAAAMFBMVEX///9ERETc3NyqqqpUVFS6\n",
       "urrMzMwyMjIQEBCIiIh2dnYiIiLu7u5mZmaYmJgAAABJJ2g3AAAAAXRSTlMAQObYZgAAAh1JREFU\n",
       "OMudlD1II0EUx19i3M3GzSpYaGUsbOzSWZ5IGrVQrlGxsbA4PCTb2MkRFK+5K1IcglWCNhoQcnDN\n",
       "GYR02ojaKHggNiJc41dE8APvvdmdmTcxcuDAvv0ns/ObeR/zAMA7hfcPq9RNL3fL/HtCqfOGy5rz\n",
       "UnmjRFkk6VyRGallhgcEuh/+VGj8hOSUXvrjJZP5JTadJhMVpCMyx2QSObKtPkAnfWRX6eesWOmz\n",
       "A9wDRBZIzIutDsjaZNY1JFsE+IAPrICG/GW+PwA0PdCZ8xriFU1IAf27pJnvDLKrIc4drnlGEa9q\n",
       "iJszISl8RtIYNp9BImkFiWDkYrcoxkBDoN2EoMvuNb6TRQZJHCgIxWy/DcUJh2xKSNIPXf5ME/YZ\n",
       "gzTpyGLMrG0SXzikD59LEp8o206ttLlKv+KjDNKcU5DCUOlEZHiJQ8ZpW5TTX4XLT/LYHGJdKUiq\n",
       "Goo7DsmS6cDDj1NJtZb/A3mEtyAtFMUYOZ6VIYynG7pjPUu1WO+OiEmiHJZJkEoeWI/4riyTYHRx\n",
       "yIWRYuVymFWW4v0yj5nI6usUI8Q9fBmUdzQIzoywNp1v9wZgL1WTd3cSiwKv57dKBatmziw2NRaY\n",
       "Dsr+ozEf79a6vuzVYJcONoQ9M+a9otaJvIR4JsSu6o38BpCgFQRjR/UT97fxTbRfyZg4uVPX2Xq0\n",
       "pC5mBSXsrRkf9Sq13LA9RlV7dKbCHvsP8YSUxfoWs+EAAAAASUVORK5CYII=\n",
       "\" style=\"display:inline;vertical-align:middle;\" /></a><br>"
      ],
      "text/plain": [
       "expr: {P(TRUE) , P(FALSE)}"
      ]
     },
     "execution_count": 2,
     "metadata": {},
     "output_type": "execute_result"
    }
   ],
   "source": [
    "# build up the expression from sub-expressions\n",
    "expr = Set(PofTrue, PofFalse)"
   ]
  },
  {
   "cell_type": "code",
   "execution_count": 3,
   "metadata": {},
   "outputs": [
    {
     "name": "stdout",
     "output_type": "stream",
     "text": [
      "Passed sanity check: built 'expr' is the same as the stored Expression.\n"
     ]
    }
   ],
   "source": [
    "# check that the built expression is the same as the stored expression\n",
    "%check_expr"
   ]
  },
  {
   "cell_type": "code",
   "execution_count": 4,
   "metadata": {},
   "outputs": [
    {
     "data": {
      "text/html": [
       "<table><tr><th>&nbsp;</th><th>core type</th><th>sub-expressions</th><th>expression</th></tr>\n",
       "<tr><td>0</td><td>Operation</td><td>operator:&nbsp;1<br>operands:&nbsp;2<br></td><td><a class=\"ProveItLink\" href=\"expr.ipynb\"><img src=\"data:image/png;base64,iVBORw0KGgoAAAANSUhEUgAAAIcAAAAVBAMAAACeZ+BxAAAAMFBMVEX///9ERETc3NyqqqpUVFS6\n",
       "urrMzMwyMjIQEBCIiIh2dnYiIiLu7u5mZmaYmJgAAABJJ2g3AAAAAXRSTlMAQObYZgAAAh1JREFU\n",
       "OMudlD1II0EUx19i3M3GzSpYaGUsbOzSWZ5IGrVQrlGxsbA4PCTb2MkRFK+5K1IcglWCNhoQcnDN\n",
       "GYR02ojaKHggNiJc41dE8APvvdmdmTcxcuDAvv0ns/ObeR/zAMA7hfcPq9RNL3fL/HtCqfOGy5rz\n",
       "UnmjRFkk6VyRGallhgcEuh/+VGj8hOSUXvrjJZP5JTadJhMVpCMyx2QSObKtPkAnfWRX6eesWOmz\n",
       "A9wDRBZIzIutDsjaZNY1JFsE+IAPrICG/GW+PwA0PdCZ8xriFU1IAf27pJnvDLKrIc4drnlGEa9q\n",
       "iJszISl8RtIYNp9BImkFiWDkYrcoxkBDoN2EoMvuNb6TRQZJHCgIxWy/DcUJh2xKSNIPXf5ME/YZ\n",
       "gzTpyGLMrG0SXzikD59LEp8o206ttLlKv+KjDNKcU5DCUOlEZHiJQ8ZpW5TTX4XLT/LYHGJdKUiq\n",
       "Goo7DsmS6cDDj1NJtZb/A3mEtyAtFMUYOZ6VIYynG7pjPUu1WO+OiEmiHJZJkEoeWI/4riyTYHRx\n",
       "yIWRYuVymFWW4v0yj5nI6usUI8Q9fBmUdzQIzoywNp1v9wZgL1WTd3cSiwKv57dKBatmziw2NRaY\n",
       "Dsr+ozEf79a6vuzVYJcONoQ9M+a9otaJvIR4JsSu6o38BpCgFQRjR/UT97fxTbRfyZg4uVPX2Xq0\n",
       "pC5mBSXsrRkf9Sq13LA9RlV7dKbCHvsP8YSUxfoWs+EAAAAASUVORK5CYII=\n",
       "\" style=\"display:inline;vertical-align:middle;\" /></a></td></tr>\n",
       "<tr><td>1</td><td>Literal</td><td></td><td><a class=\"ProveItLink\" href=\"../../../set_theory/enumeration/__pv_it/07381ed5b23806e8d7914b78cb6667769e3708dd0/expr.ipynb\"><img src=\"data:image/png;base64,iVBORw0KGgoAAAANSUhEUgAAAB4AAAAOBAMAAADKyLEKAAAAMFBMVEX///8iIiIQEBCIiIjMzMzc\n",
       "3Nyqqqp2dnZEREQyMjK6urru7u5mZmZUVFSYmJgAAACI6eGPAAAAAXRSTlMAQObYZgAAALRJREFU\n",
       "CNdjYGDgu3Nm3wIGBJjHwN0PZW5yYGDgLWBgyITy8zcwMMQDxZyh/INAvD6BgcEFypcB4vjPDiBm\n",
       "TPFRrhs/LjMwMP//38rAwCbKEMPA9gEkE3fp0waG+AUMRxh4JkC01T9guPTOOICBEWgVH5C//wHD\n",
       "H5D4fqCz9oCMDGD4DLaegRXslLMMDMpAgxlOMmQxHDRgYG5gYLBk4D7KcIe7gOHC2rt9QCXsh40Z\n",
       "GCKMGQDRkC8N/Ph1XAAAAABJRU5ErkJggg==\n",
       "\" style=\"display:inline;vertical-align:middle;\" /></a></td></tr>\n",
       "<tr><td>2</td><td>ExprTuple</td><td>3, 4</td><td><a class=\"ProveItLink\" href=\"../af6028d2deabe887f399658a79b73bafe1e56f020/expr.ipynb\"><img src=\"data:image/png;base64,iVBORw0KGgoAAAANSUhEUgAAAIEAAAAVBAMAAACTeZA2AAAAMFBMVEX////c3NwiIiJERESqqqqY\n",
       "mJh2dnZmZmYQEBDu7u4yMjJUVFTMzMyIiIi6uroAAAAs73DqAAAAAXRSTlMAQObYZgAAAeZJREFU\n",
       "OMullD9Iw0AUxp/0X1rT2l0KEgcFlw4W3NrZRScHB62LnYSg0MmhhS4utZviYpYOLlIdXIpYXBwc\n",
       "2l3F0kkEQaq0aKH13t0l90JDFwPf8b7k8kvee3cH8P8r1vJ2gbbn9A8n2pKCR6anUb2+FBcuZPAr\n",
       "CYfqtejdoH59hZFewzGBQ6ghBBfofgF8RbCdbuIYIV+esQBW8BORCtoHftMSiuJv6z0Afw+kk4RA\n",
       "VhGaLF5D/wKKsCGkITQ6ZC/0QTpJCBcU4ZUVZRvvHhHCqdA7xr5PgOlvkE4SYFkR0kx3GVZoixB8\n",
       "Ga68neZ5kgV5SsgpAqtT+AurlyWEoMlVlWnqCxhUKWHVAWCd7vFmZJ0Q/BZXmad5s5vnzSxTwpvq\n",
       "5mA3t4OB1iaEWIFryNOsyKlDSmg6BN+P3VVK0D+5+DtdmEyYmZtAKGHYt6eWvLNomjLQMuNZpORy\n",
       "EFeKEjZxqNjLQaRDKxmwuHI0TdlA0s1w11WnoDnezQ7ASXpg78iOIIiuXyLhOA7hg9GtvXVZQfYN\n",
       "Y9Ew5llr21xanO5d6sSqjrmeQ5HEclXT/eN2Qf5jAffxsEHiPakL1wzizsCDEKmof7SEYNY1gzh+\n",
       "okDLTZiqOeF0XAimXHOUizY8T7mEEz0L/QGHLYxgEcHQEgAAAABJRU5ErkJggg==\n",
       "\" style=\"display:inline;vertical-align:middle;\" /></a></td></tr>\n",
       "<tr><td>3</td><td>Operation</td><td>operator:&nbsp;6<br>operand:&nbsp;5<br></td><td><a class=\"ProveItLink\" href=\"../../../__pv_it/e620067e5fc1a01f6e7ce2f053b97db25219d34a0/expr.ipynb\"><img src=\"data:image/png;base64,iVBORw0KGgoAAAANSUhEUgAAADEAAAAVBAMAAAAdjxsPAAAAMFBMVEX////u7u5mZmaYmJi6urqq\n",
       "qqp2dnbMzMwQEBBEREQyMjLc3NwiIiJUVFSIiIgAAAAeC3ydAAAAAXRSTlMAQObYZgAAAOtJREFU\n",
       "KM9jYCAK+MFZJmDy7f+7d89uADLYLzDonAGBkwxMBWCpXwwMnN1AmksAxCsCiy0AEezfGBhYgZjh\n",
       "HQNCxgxE8H1hYGD+BGQ0IslIgAjODwwMvF8ZGFgWIMlwBgAJfqCI/AQGBqYEJBk2BSBRn8DAfgjk\n",
       "AAMkGVaQAe+vpamBHM3hgCTD0gAk5gtAfMePLMMOtJzhDwMOGfZPUBmOADTTQN6BOBTZBcxAF3B+\n",
       "hMqAHYrkaqH5fx9AZFgOgKkyMMnlgBwJ3UhsCZToMUNi56HIcAnAmYwLUGS4L8CZvBtQY3sfnPWc\n",
       "gQEAcQM23zO0HfcAAAAASUVORK5CYII=\n",
       "\" style=\"display:inline;vertical-align:middle;\" /></a></td></tr>\n",
       "<tr><td>4</td><td>Operation</td><td>operator:&nbsp;6<br>operand:&nbsp;7<br></td><td><a class=\"ProveItLink\" href=\"../../../__pv_it/4d7c4165a9fdb279e98a557bae75d7e45eb1c31a0/expr.ipynb\"><img src=\"data:image/png;base64,iVBORw0KGgoAAAANSUhEUgAAADEAAAAVBAMAAAAdjxsPAAAAMFBMVEX////u7u5mZmaYmJi6urqq\n",
       "qqp2dnbMzMwQEBBEREQyMjLc3NwiIiJUVFSIiIgAAAAeC3ydAAAAAXRSTlMAQObYZgAAAO9JREFU\n",
       "KM9jYCAK+MFZJmDy7f+7d89uADLYL4C4+0AEUwFY6hcDA2c3kOYSAPGKwGILQAT7NwYGViBmeMeA\n",
       "kDEDEXxfGBiYPwEZjUgyEiCC8wMDA+9XBgaWBUgynAFAgh8oIj8BaGsCkgybApCoT2BgPwRygAGS\n",
       "DCvIgPfX0tRAjuZwQJJhaQAS8wUgvuNHlmEHWs7whwGHDPsnqAxHAJppIO9AHIrsAmagCzg/QmXA\n",
       "DkVytdD8vw8gMiwHGBh0zpw5cebMSaAXHJAjoRuJLYESPWZI7DwUGS4BOJNxAYoM9wU4k3cDamzv\n",
       "g7OeMzAAAAoKNyNLs78oAAAAAElFTkSuQmCC\n",
       "\" style=\"display:inline;vertical-align:middle;\" /></a></td></tr>\n",
       "<tr><td>5</td><td>Literal</td><td></td><td><a class=\"ProveItLink\" href=\"../68a87cc3370287d726c7086ace789e680e4461c30/expr.ipynb\"><img src=\"data:image/png;base64,iVBORw0KGgoAAAANSUhEUgAAAA4AAAAOBAMAAADtZjDiAAAAFVBMVEX///92dnbMzMxEREQiIiJm\n",
       "ZmYAAABAT6GXAAAAAXRSTlMAQObYZgAAABhJREFUCNdjCHEBAWcGIFBlgABa0YpADAAxegPJJk4d\n",
       "XAAAAABJRU5ErkJggg==\n",
       "\" style=\"display:inline;vertical-align:middle;\" /></a></td></tr>\n",
       "<tr><td>6</td><td>Variable</td><td></td><td><a class=\"ProveItLink\" href=\"../../../../__pv_it/6369c6c8083c513ca7161ace249642d040f9327d0/expr.ipynb\"><img src=\"data:image/png;base64,iVBORw0KGgoAAAANSUhEUgAAABAAAAAOBAMAAADUAYG5AAAAMFBMVEX////u7u5mZmaYmJi6urqq\n",
       "qqp2dnbMzMwQEBBEREQyMjLc3NwiIiJUVFSIiIgAAAAeC3ydAAAAAXRSTlMAQObYZgAAAGBJREFU\n",
       "CNdjYGB4+//u3bMbGIDgFwMDZzeQZv/GwMAKxAx8XxgYmD8BGZwfGBh4vwIZ/AsYGOQnABn1CQzs\n",
       "h0Ca3l9LUwPrni/AAAF/oDT7JygDZAwYcH6E0ELz/z4A0QBnpRnRyxnfJQAAAABJRU5ErkJggg==\n",
       "\" style=\"display:inline;vertical-align:middle;\" /></a></td></tr>\n",
       "<tr><td>7</td><td>Literal</td><td></td><td><a class=\"ProveItLink\" href=\"../8f1f7fac882de28c72b62ab80a1700b6d8fd066b0/expr.ipynb\"><img src=\"data:image/png;base64,iVBORw0KGgoAAAANSUhEUgAAAA4AAAAOBAMAAADtZjDiAAAAG1BMVEX///9EREQQEBAiIiJmZmbM\n",
       "zMyIiIjc3NwAAACryk5kAAAAAXRSTlMAQObYZgAAABlJREFUCNdjYGBgKGOAgBBa0s7GxkbGxoYA\n",
       "FMUF2aBfHgoAAAAASUVORK5CYII=\n",
       "\" style=\"display:inline;vertical-align:middle;\" /></a></td></tr>\n",
       "</table>\n"
      ],
      "text/plain": [
       "0. {P(TRUE) , P(FALSE)}\n",
       "   core type: Operation\n",
       "   operator: 1\n",
       "   operands: 2\n",
       "1. Set\n",
       "   core type: Literal\n",
       "   sub-expressions: \n",
       "2. (P(TRUE) , P(FALSE))\n",
       "   core type: ExprTuple\n",
       "   sub-expressions: 3, 4\n",
       "3. P(TRUE)\n",
       "   core type: Operation\n",
       "   operator: 6\n",
       "   operand: 5\n",
       "4. P(FALSE)\n",
       "   core type: Operation\n",
       "   operator: 6\n",
       "   operand: 7\n",
       "5. TRUE\n",
       "   core type: Literal\n",
       "   sub-expressions: \n",
       "6. P\n",
       "   core type: Variable\n",
       "   sub-expressions: \n",
       "7. FALSE\n",
       "   core type: Literal\n",
       "   sub-expressions: "
      ]
     },
     "execution_count": 4,
     "metadata": {},
     "output_type": "execute_result"
    }
   ],
   "source": [
    "# display the expression information\n",
    "expr.exprInfo()"
   ]
  },
  {
   "cell_type": "code",
   "execution_count": null,
   "metadata": {},
   "outputs": [],
   "source": []
  }
 ],
 "metadata": {
  "kernelspec": {
   "display_name": "Python 3",
   "language": "python",
   "name": "python3"
  }
 },
 "nbformat": 4,
 "nbformat_minor": 0
}
