{
 "cells": [
  {
   "cell_type": "markdown",
   "metadata": {},
   "source": [
    "Expression of type <a class=\"ProveItLink\" href=\"../../../../../../doc/html/api/proveit.ExprTuple.html\">ExprTuple</a>\n",
    "=======================\n",
    "# from context <a class=\"ProveItLink\" href=\"../../_context_.ipynb\">proveit.logic.boolean</a>"
   ]
  },
  {
   "cell_type": "code",
   "execution_count": 1,
   "metadata": {},
   "outputs": [],
   "source": [
    "# import Expression classes needed to build the expression\n",
    "from proveit import ExprTuple\n",
    "from proveit.logic._common_ import QimplPofTrue"
   ]
  },
  {
   "cell_type": "code",
   "execution_count": 2,
   "metadata": {},
   "outputs": [
    {
     "data": {
      "text/html": [
       "<strong id=\"expr\">expr:</strong> <a class=\"ProveItLink\" href=\"expr.ipynb\"><img src=\"data:image/png;base64,iVBORw0KGgoAAAANSUhEUgAAAJUAAAAVBAMAAAC9PLGkAAAAMFBMVEX////c3NwiIiJERESqqqqY\n",
       "mJh2dnZmZmYQEBDu7u4yMjJUVFTMzMyIiIi6uroAAAAs73DqAAAAAXRSTlMAQObYZgAAAi5JREFU\n",
       "OMutlD1IHEEUx99xd3tfe3q1IgmxssoJCnYepEtzVhYpkkvjQSBkScAqEAULRZAr5aoloGBzOW2D\n",
       "uKRIihQnqQ1ZrIIhEBLQJAbNvPdmZ563x9q48J99b2b2N/tm3huAm3yGDgd72fCaD78b66EWfMQm\n",
       "1VzYB/Zyd+ipwstBgPLB+du9XbTcLjynmeOQC4AEOzjwJIDSBESe62FbHPg3wz7ATAWHW+h+oE6f\n",
       "Vcag2lXVrIP2NCvbsISWsXqqt44jn8Gy5ll5nPYaO161tKdZhSXL2jHWF7WNj3B8TbA2WSfqlfuH\n",
       "Hc9C9iIWTFnWN2PNKh3U1CH5gpWukRaVeatKLNWxKFlNy3LM8f5VP/wL128IluORtjC6OVpRncSW\n",
       "ZN3HRh/rmUa5pwDvcLg4J1gZn7ShzLu0S7+VNiTrqzi+TEfnxPlC8zEa+VCwhpZIF5oCGbUieYbV\n",
       "k7nQ5mXSf6LckCz3Bwm//knptJbEcrc5LYZvJ7BWlPkG/Tom7kosRr1f4zrDep5m5WvxGKcRE44d\n",
       "uRTDtGQ9ENvVFenFwcq9z/okPHhnouHcq9g0iOfEiEmvqAIcL54Tx5SK259qgDEeM4tzp2NZk/wq\n",
       "vLjcjy4U3rj31BZDUr7CvxxkkaU96K+hIF7ky8LWNaQrOO2d9Nezc5h4fc0L+6kWl23p8qKviKGd\n",
       "fBUW7d1R8Fkwylu0yucyaifvJrNSXWOWKixIXQnFeuXgmjt6zFhHrP8cEpwJ6/8SJgAAAABJRU5E\n",
       "rkJggg==\n",
       "\" style=\"display:inline;vertical-align:middle;\" /></a><br>"
      ],
      "text/plain": [
       "expr: (Q(TRUE) => P(TRUE))"
      ]
     },
     "execution_count": 2,
     "metadata": {},
     "output_type": "execute_result"
    }
   ],
   "source": [
    "# build up the expression from sub-expressions\n",
    "expr = ExprTuple(QimplPofTrue)"
   ]
  },
  {
   "cell_type": "code",
   "execution_count": 3,
   "metadata": {},
   "outputs": [
    {
     "name": "stdout",
     "output_type": "stream",
     "text": [
      "Passed sanity check: built 'expr' is the same as the stored Expression.\n"
     ]
    }
   ],
   "source": [
    "# check that the built expression is the same as the stored expression\n",
    "%check_expr"
   ]
  },
  {
   "cell_type": "code",
   "execution_count": 4,
   "metadata": {},
   "outputs": [
    {
     "data": {
      "text/html": [
       "<table><tr><th>&nbsp;</th><th>core type</th><th>sub-expressions</th><th>expression</th></tr>\n",
       "<tr><td>0</td><td>ExprTuple</td><td>1</td><td><a class=\"ProveItLink\" href=\"expr.ipynb\"><img src=\"data:image/png;base64,iVBORw0KGgoAAAANSUhEUgAAAJUAAAAVBAMAAAC9PLGkAAAAMFBMVEX////c3NwiIiJERESqqqqY\n",
       "mJh2dnZmZmYQEBDu7u4yMjJUVFTMzMyIiIi6uroAAAAs73DqAAAAAXRSTlMAQObYZgAAAi5JREFU\n",
       "OMutlD1IHEEUx99xd3tfe3q1IgmxssoJCnYepEtzVhYpkkvjQSBkScAqEAULRZAr5aoloGBzOW2D\n",
       "uKRIihQnqQ1ZrIIhEBLQJAbNvPdmZ563x9q48J99b2b2N/tm3huAm3yGDgd72fCaD78b66EWfMQm\n",
       "1VzYB/Zyd+ipwstBgPLB+du9XbTcLjynmeOQC4AEOzjwJIDSBESe62FbHPg3wz7ATAWHW+h+oE6f\n",
       "Vcag2lXVrIP2NCvbsISWsXqqt44jn8Gy5ll5nPYaO161tKdZhSXL2jHWF7WNj3B8TbA2WSfqlfuH\n",
       "Hc9C9iIWTFnWN2PNKh3U1CH5gpWukRaVeatKLNWxKFlNy3LM8f5VP/wL128IluORtjC6OVpRncSW\n",
       "ZN3HRh/rmUa5pwDvcLg4J1gZn7ShzLu0S7+VNiTrqzi+TEfnxPlC8zEa+VCwhpZIF5oCGbUieYbV\n",
       "k7nQ5mXSf6LckCz3Bwm//knptJbEcrc5LYZvJ7BWlPkG/Tom7kosRr1f4zrDep5m5WvxGKcRE44d\n",
       "uRTDtGQ9ENvVFenFwcq9z/okPHhnouHcq9g0iOfEiEmvqAIcL54Tx5SK259qgDEeM4tzp2NZk/wq\n",
       "vLjcjy4U3rj31BZDUr7CvxxkkaU96K+hIF7ky8LWNaQrOO2d9Nezc5h4fc0L+6kWl23p8qKviKGd\n",
       "fBUW7d1R8Fkwylu0yucyaifvJrNSXWOWKixIXQnFeuXgmjt6zFhHrP8cEpwJ6/8SJgAAAABJRU5E\n",
       "rkJggg==\n",
       "\" style=\"display:inline;vertical-align:middle;\" /></a></td></tr>\n",
       "<tr><td>1</td><td>Operation</td><td>operator:&nbsp;2<br>operands:&nbsp;3<br></td><td><a class=\"ProveItLink\" href=\"../../../__pv_it/4f6f7112e40d08b23dab002cd24a742449b13f540/expr.ipynb\"><img src=\"data:image/png;base64,iVBORw0KGgoAAAANSUhEUgAAAIUAAAAVBAMAAACakjBMAAAAMFBMVEX///+YmJiqqqq6uroQEBBE\n",
       "RETu7u4iIiLMzMwyMjKIiIhUVFRmZmZ2dnbc3NwAAADS0us6AAAAAXRSTlMAQObYZgAAAftJREFU\n",
       "OMutlD1MQjEQxw8E8hCemjg5GFkcnGAwMchC1LiYGDTOyuDC5gKOvs1BDRgSnIxsGhfZTDSBtxhd\n",
       "jKwaVFZ10MTvoMFe+2iPD3GxSdv/67W/tnfXB/C/pSNbU7bAH1NHperlbVfp+oiLNfAu8xKBs1YL\n",
       "OwuV48M8Ki0Hp3xmHLwGDlwa4EmgyHCzia275e7dKYC5Mpqj+LnOB9kYxCKsmcJtsophK6qVUamS\n",
       "bNSPln1QjH5Wt1BcsImOqGK4woqRkeqAuWkA7ZOEsQjg/UBxy6xBUAyYVYyQVAusFnzM+SnCcPrg\n",
       "McIZzHJOGSXF0GW4PtkBX1nvLRKGbsJFD9+BeXeTMoawscL0ZSG0b4BVNLt7CMOeghXuhRdWxylj\n",
       "mITDnrZiW7ku3aBwBAijI8xXg53tAM+UkaQxjQm8860WY8rQnuCdp8NkO4a2LcLbvfQLYwd7Pybb\n",
       "WNNdLH/ErQxJmhbD4au/iz9wv6fxs85QRh9xR46kh7gU9aktBXqiqA+WVTibY3sn06OWsbpZH1sI\n",
       "be/6AO8yIhgi9mnFmBed66R6VHvgwjEbvHXz0zkNGzIcZbWO5rrR/PimiV4U1zODje9M5WbL0k/0\n",
       "FW891eeGxwWx9r8gt3rLLvF2tAnh5wc1Kd+e0ZWT0lOut8gLdBp//AvvpdoD+AH0zocYbRSMxAAA\n",
       "AABJRU5ErkJggg==\n",
       "\" style=\"display:inline;vertical-align:middle;\" /></a></td></tr>\n",
       "<tr><td>2</td><td>Literal</td><td></td><td><a class=\"ProveItLink\" href=\"../../implication/__pv_it/e5c030cabcb650938f92dee8256fe11cd12bf9b30/expr.ipynb\"><img src=\"data:image/png;base64,iVBORw0KGgoAAAANSUhEUgAAABMAAAANBAMAAAC5okgUAAAALVBMVEX////c3NxERETMzMwQEBCq\n",
       "qqoiIiJmZmaIiIh2dnZUVFS6uroyMjLu7u4AAACPpZJTAAAAAXRSTlMAQObYZgAAAD1JREFUCNdj\n",
       "YAABXgY44LkAZ3IvQAjPABFlaSCQV4AQjtkAZ/IegbNt5sLUpunC5aPgLMYDcCaTAJzJDCIA2yMN\n",
       "HCCUuIIAAAAASUVORK5CYII=\n",
       "\" style=\"display:inline;vertical-align:middle;\" /></a></td></tr>\n",
       "<tr><td>3</td><td>ExprTuple</td><td>4, 5</td><td><a class=\"ProveItLink\" href=\"../../../__pv_it/3b45a071d2c8047e59ca4757a55afe73ad5c2fd50/expr.ipynb\"><img src=\"data:image/png;base64,iVBORw0KGgoAAAANSUhEUgAAAIEAAAAVBAMAAACTeZA2AAAAMFBMVEX////c3NwiIiJERESqqqqY\n",
       "mJh2dnZmZmYQEBDu7u4yMjJUVFTMzMyIiIi6uroAAAAs73DqAAAAAXRSTlMAQObYZgAAAhZJREFU\n",
       "OMullMFLFHEUx7+b7uzsNLvOqYsEof4BBUkdgvbsxU4eIspE9BDCUrCnIIM6dLE5RXQaEEFBYvNY\n",
       "xC4eTPCw/gGJiycRBEkNNmPt996bmd9bHE8NfH/73m/f7zPz3vv9fsD/P+XtbC/fzgw/TK3HsbBF\n",
       "w7XaM1m6hcIQPzfx0i4rNc6+rX0hy6/jOf8/jEITLKwYOavAWojYg1+l0VNvHoiAuwFNctQPnoxE\n",
       "JfPu4qKx3TrESwj5SUtoGXuc/B1YwoTINVDvhrELHYiXEIrzlrBrivKEZt8pwkfRgfl5Rdk4XYiX\n",
       "EHDbEu4bNSqm0JEi9FVYNSB3TL5zYoaaJsxawh/zSRRVmFQEp8paMtOnTPxrhiVNGEsB/m9gnSa9\n",
       "B4rQH7EWgCsdLjelvaAJ+7abZzOzT8lw24pQnmd147VS6q4mtFJCXyfpqib4RywiUCuwHF5OkIhL\n",
       "CG9MckeUFJWBvKwsWtXYcCsXsxg1i7u5neYm00c14SENYbIdJB1dyXzEopZNfcD0LdVA1c3iL94O\n",
       "YUxwqhe7uUef83VuBD5N7glBuv6ZCO8DFF+cf0+OrhRkg0evzXID9u7hEecZ2F0ku7oc9Bzu18qO\n",
       "d3V8fu7IftWnyeFTlu+9HiaUPReLzzMa51KsFRvwCRkEL7TfGIkwyO7mW5ketMF8o2C7l5Crp+bV\n",
       "QIRcT4z1Ss3MW+56av0U/QPVbJR4cQdvaAAAAABJRU5ErkJggg==\n",
       "\" style=\"display:inline;vertical-align:middle;\" /></a></td></tr>\n",
       "<tr><td>4</td><td>Operation</td><td>operator:&nbsp;6<br>operand:&nbsp;8<br></td><td><a class=\"ProveItLink\" href=\"../../../__pv_it/43f653b4157d6cbae5e822ef996ac5cd5cbaa0a70/expr.ipynb\"><img src=\"data:image/png;base64,iVBORw0KGgoAAAANSUhEUgAAADEAAAAVBAMAAAAdjxsPAAAAMFBMVEX///+YmJiqqqq6uroQEBBE\n",
       "RETu7u4iIiLMzMwyMjKIiIhUVFRmZmZ2dnbc3NwAAADS0us6AAAAAXRSTlMAQObYZgAAAQBJREFU\n",
       "KM9jYCAGMC+AM4XBJN+du7vAjG4GhuPlIFDKwNMAErjZwMBdBmJMA8v3gMkJQJwZACS8gZhrAZKM\n",
       "LBBPBzHOJzAwsCQgyaQwMPD8ADHuGzAwWDIgybAqMLwPAMsoMDCcRZbhPcBwXgDEiAe6ZSKyDNME\n",
       "hnqw6V+A2BlZhtkBLMbA9BdIfEaW4fjA8B1Ec7phkZkPovVBXnZCM03f4NUKDrAVgcgyjBMYeMsu\n",
       "8Ko+AHHuoLmawXrucgUGkGnmEJleMMlpAPZvAyNIhuUBUoykQELiADhgGC8gydwCk9z/IQ6ehpBg\n",
       "mwBxuws4hBheI2S4H6DENh8itlcwMAAArSZAHMKu9kwAAAAASUVORK5CYII=\n",
       "\" style=\"display:inline;vertical-align:middle;\" /></a></td></tr>\n",
       "<tr><td>5</td><td>Operation</td><td>operator:&nbsp;7<br>operand:&nbsp;8<br></td><td><a class=\"ProveItLink\" href=\"../../../__pv_it/e620067e5fc1a01f6e7ce2f053b97db25219d34a0/expr.ipynb\"><img src=\"data:image/png;base64,iVBORw0KGgoAAAANSUhEUgAAADEAAAAVBAMAAAAdjxsPAAAAMFBMVEX////u7u5mZmaYmJi6urqq\n",
       "qqp2dnbMzMwQEBBEREQyMjLc3NwiIiJUVFSIiIgAAAAeC3ydAAAAAXRSTlMAQObYZgAAAOtJREFU\n",
       "KM9jYCAK+MFZJmDy7f+7d89uADLYLzDonAGBkwxMBWCpXwwMnN1AmksAxCsCiy0AEezfGBhYgZjh\n",
       "HQNCxgxE8H1hYGD+BGQ0IslIgAjODwwMvF8ZGFgWIMlwBgAJfqCI/AQGBqYEJBk2BSBRn8DAfgjk\n",
       "AAMkGVaQAe+vpamBHM3hgCTD0gAk5gtAfMePLMMOtJzhDwMOGfZPUBmOADTTQN6BOBTZBcxAF3B+\n",
       "hMqAHYrkaqH5fx9AZFgOgKkyMMnlgBwJ3UhsCZToMUNi56HIcAnAmYwLUGS4L8CZvBtQY3sfnPWc\n",
       "gQEAcQM23zO0HfcAAAAASUVORK5CYII=\n",
       "\" style=\"display:inline;vertical-align:middle;\" /></a></td></tr>\n",
       "<tr><td>6</td><td>Variable</td><td></td><td><a class=\"ProveItLink\" href=\"../../../../__pv_it/98124f92e6e1fc3772af50ac63eaa1f5624776f20/expr.ipynb\"><img src=\"data:image/png;base64,iVBORw0KGgoAAAANSUhEUgAAAA8AAAASBAMAAAB2sJk8AAAAMFBMVEX///+YmJiqqqq6uroQEBBE\n",
       "RETu7u4iIiLMzMwyMjKIiIhUVFRmZmZ2dnbc3NwAAADS0us6AAAAAXRSTlMAQObYZgAAAHxJREFU\n",
       "CNdjYGDgu3N3FwMI3Gxg4C4D0pkBQMIbiKeDRM8nMPD8ADHuGzC8DwAzFBjOC4AY8Q0M9Qkgxhcw\n",
       "YmBg+svA8B3E4HRjYJgPYug3ALHBqxUczkAOb9kFXtUHIGHrucsVGBrAtrI2MEIZByzBNAP3/88Q\n",
       "BocL0BoActoerD1tNT4AAAAASUVORK5CYII=\n",
       "\" style=\"display:inline;vertical-align:middle;\" /></a></td></tr>\n",
       "<tr><td>7</td><td>Variable</td><td></td><td><a class=\"ProveItLink\" href=\"../../../../__pv_it/6369c6c8083c513ca7161ace249642d040f9327d0/expr.ipynb\"><img src=\"data:image/png;base64,iVBORw0KGgoAAAANSUhEUgAAABAAAAAOBAMAAADUAYG5AAAAMFBMVEX////u7u5mZmaYmJi6urqq\n",
       "qqp2dnbMzMwQEBBEREQyMjLc3NwiIiJUVFSIiIgAAAAeC3ydAAAAAXRSTlMAQObYZgAAAGBJREFU\n",
       "CNdjYGB4+//u3bMbGIDgFwMDZzeQZv/GwMAKxAx8XxgYmD8BGZwfGBh4vwIZ/AsYGOQnABn1CQzs\n",
       "h0Ca3l9LUwPrni/AAAF/oDT7JygDZAwYcH6E0ELz/z4A0QBnpRnRyxnfJQAAAABJRU5ErkJggg==\n",
       "\" style=\"display:inline;vertical-align:middle;\" /></a></td></tr>\n",
       "<tr><td>8</td><td>Literal</td><td></td><td><a class=\"ProveItLink\" href=\"../68a87cc3370287d726c7086ace789e680e4461c30/expr.ipynb\"><img src=\"data:image/png;base64,iVBORw0KGgoAAAANSUhEUgAAAA4AAAAOBAMAAADtZjDiAAAAFVBMVEX///92dnbMzMxEREQiIiJm\n",
       "ZmYAAABAT6GXAAAAAXRSTlMAQObYZgAAABhJREFUCNdjCHEBAWcGIFBlgABa0YpADAAxegPJJk4d\n",
       "XAAAAABJRU5ErkJggg==\n",
       "\" style=\"display:inline;vertical-align:middle;\" /></a></td></tr>\n",
       "</table>\n"
      ],
      "text/plain": [
       "0. (Q(TRUE) => P(TRUE))\n",
       "   core type: ExprTuple\n",
       "   sub-expressions: 1\n",
       "1. Q(TRUE) => P(TRUE)\n",
       "   core type: Operation\n",
       "   operator: 2\n",
       "   operands: 3\n",
       "2. =>\n",
       "   core type: Literal\n",
       "   sub-expressions: \n",
       "3. (Q(TRUE) , P(TRUE))\n",
       "   core type: ExprTuple\n",
       "   sub-expressions: 4, 5\n",
       "4. Q(TRUE)\n",
       "   core type: Operation\n",
       "   operator: 6\n",
       "   operand: 8\n",
       "5. P(TRUE)\n",
       "   core type: Operation\n",
       "   operator: 7\n",
       "   operand: 8\n",
       "6. Q\n",
       "   core type: Variable\n",
       "   sub-expressions: \n",
       "7. P\n",
       "   core type: Variable\n",
       "   sub-expressions: \n",
       "8. TRUE\n",
       "   core type: Literal\n",
       "   sub-expressions: "
      ]
     },
     "execution_count": 4,
     "metadata": {},
     "output_type": "execute_result"
    }
   ],
   "source": [
    "# display the expression information\n",
    "expr.exprInfo()"
   ]
  },
  {
   "cell_type": "code",
   "execution_count": null,
   "metadata": {},
   "outputs": [],
   "source": []
  }
 ],
 "metadata": {
  "kernelspec": {
   "display_name": "Python 3",
   "language": "python",
   "name": "python3"
  }
 },
 "nbformat": 4,
 "nbformat_minor": 0
}
