{
 "cells": [
  {
   "cell_type": "markdown",
   "metadata": {},
   "source": [
    "Expression of type <a class=\"ProveItLink\" href=\"../../../../../../doc/html/api/proveit.ExprTuple.html\">ExprTuple</a>\n",
    "=======================\n",
    "# from context <a class=\"ProveItLink\" href=\"../../_context_.ipynb\">proveit.logic.boolean</a>"
   ]
  },
  {
   "cell_type": "code",
   "execution_count": 1,
   "metadata": {},
   "outputs": [],
   "source": [
    "# import Expression classes needed to build the expression\n",
    "from proveit import ExprTuple\n",
    "from proveit.logic._common_ import QimplPofFalse"
   ]
  },
  {
   "cell_type": "code",
   "execution_count": 2,
   "metadata": {},
   "outputs": [
    {
     "data": {
      "text/html": [
       "<strong id=\"expr\">expr:</strong> <a class=\"ProveItLink\" href=\"expr.ipynb\"><img src=\"data:image/png;base64,iVBORw0KGgoAAAANSUhEUgAAAJUAAAAVBAMAAAC9PLGkAAAAMFBMVEX////c3NwiIiJERESqqqqY\n",
       "mJh2dnZmZmYQEBDu7u4yMjJUVFTMzMyIiIi6uroAAAAs73DqAAAAAXRSTlMAQObYZgAAAjBJREFU\n",
       "OMutlD1oFFEQxyfc3Xofe8nVhkNZG1MZwYCdB3Y2SZXCQs8mB4K4KKQSjJLCIIQrw1WLkECaeLGV\n",
       "kMXGwuKCdcQllUQEUfArkjgfb98bbo9N48H/3cx7u7+3M2/mAfzP3/jeaK+UnPLiF2vdMoJ3NIx1\n",
       "FnbAeQx8NApQ3z16/WqbLL9PY5OGM7EINsm7G0NtClLPD2msjvyaiQjgaoOWu+S+5clIVKdv6E3j\n",
       "8ByMZ1iltiN0rTXA2Vla+QCONS8q02MvaOJx13iGVVlyrE1rfcQ03qb1FcVaEx1SvH9p4n4iXsqC\n",
       "K4712VrXULstPKRIsQot1iKa56aZhROLmtVxLM8e7x/84O+0f1uxvJC1TtHN8Y54EuuadYPPKODf\n",
       "T4PyfwC8oeXqnGIVI9Yqmpc4S79Qq5r1SR1fccvUxNFC5w4Z5USxxpdYx4YCRdyRPcsa6FroyTaF\n",
       "32ltaJb/lUVvf+NyWslj+RtSFhPnc1jLaL4kf5YKdzkTo8nXBVNhg9Cwyq1sjDOESZr7Pscwo1k3\n",
       "Vbr6qrwkWJ37UsSig/em2t71hiuDbE2cteWVdoAXZmvigEtx430LKMYDCeppEGDJbTnWZfmrPDzZ\n",
       "SS8UTNyDILiI4WOuE1a5IZ8cl4hlPBjuoTjb5E+UbXrIdHAhPBzuZ28v9/qaV/Y9I2nb2snxUBND\n",
       "L/8qrLq7oxKJYFLS/UzOZdI9vJ3PGutbs9YQmUvUPmG9enzKHd201r7oH0/unCshxb2+AAAAAElF\n",
       "TkSuQmCC\n",
       "\" style=\"display:inline;vertical-align:middle;\" /></a><br>"
      ],
      "text/plain": [
       "expr: (Q(FALSE) => P(FALSE))"
      ]
     },
     "execution_count": 2,
     "metadata": {},
     "output_type": "execute_result"
    }
   ],
   "source": [
    "# build up the expression from sub-expressions\n",
    "expr = ExprTuple(QimplPofFalse)"
   ]
  },
  {
   "cell_type": "code",
   "execution_count": 3,
   "metadata": {},
   "outputs": [
    {
     "name": "stdout",
     "output_type": "stream",
     "text": [
      "Passed sanity check: built 'expr' is the same as the stored Expression.\n"
     ]
    }
   ],
   "source": [
    "# check that the built expression is the same as the stored expression\n",
    "%check_expr"
   ]
  },
  {
   "cell_type": "code",
   "execution_count": 4,
   "metadata": {},
   "outputs": [
    {
     "data": {
      "text/html": [
       "<table><tr><th>&nbsp;</th><th>core type</th><th>sub-expressions</th><th>expression</th></tr>\n",
       "<tr><td>0</td><td>ExprTuple</td><td>1</td><td><a class=\"ProveItLink\" href=\"expr.ipynb\"><img src=\"data:image/png;base64,iVBORw0KGgoAAAANSUhEUgAAAJUAAAAVBAMAAAC9PLGkAAAAMFBMVEX////c3NwiIiJERESqqqqY\n",
       "mJh2dnZmZmYQEBDu7u4yMjJUVFTMzMyIiIi6uroAAAAs73DqAAAAAXRSTlMAQObYZgAAAjBJREFU\n",
       "OMutlD1oFFEQxyfc3Xofe8nVhkNZG1MZwYCdB3Y2SZXCQs8mB4K4KKQSjJLCIIQrw1WLkECaeLGV\n",
       "kMXGwuKCdcQllUQEUfArkjgfb98bbo9N48H/3cx7u7+3M2/mAfzP3/jeaK+UnPLiF2vdMoJ3NIx1\n",
       "FnbAeQx8NApQ3z16/WqbLL9PY5OGM7EINsm7G0NtClLPD2msjvyaiQjgaoOWu+S+5clIVKdv6E3j\n",
       "8ByMZ1iltiN0rTXA2Vla+QCONS8q02MvaOJx13iGVVlyrE1rfcQ03qb1FcVaEx1SvH9p4n4iXsqC\n",
       "K4712VrXULstPKRIsQot1iKa56aZhROLmtVxLM8e7x/84O+0f1uxvJC1TtHN8Y54EuuadYPPKODf\n",
       "T4PyfwC8oeXqnGIVI9Yqmpc4S79Qq5r1SR1fccvUxNFC5w4Z5USxxpdYx4YCRdyRPcsa6FroyTaF\n",
       "32ltaJb/lUVvf+NyWslj+RtSFhPnc1jLaL4kf5YKdzkTo8nXBVNhg9Cwyq1sjDOESZr7Pscwo1k3\n",
       "Vbr6qrwkWJ37UsSig/em2t71hiuDbE2cteWVdoAXZmvigEtx430LKMYDCeppEGDJbTnWZfmrPDzZ\n",
       "SS8UTNyDILiI4WOuE1a5IZ8cl4hlPBjuoTjb5E+UbXrIdHAhPBzuZ28v9/qaV/Y9I2nb2snxUBND\n",
       "L/8qrLq7oxKJYFLS/UzOZdI9vJ3PGutbs9YQmUvUPmG9enzKHd201r7oH0/unCshxb2+AAAAAElF\n",
       "TkSuQmCC\n",
       "\" style=\"display:inline;vertical-align:middle;\" /></a></td></tr>\n",
       "<tr><td>1</td><td>Operation</td><td>operator:&nbsp;2<br>operands:&nbsp;3<br></td><td><a class=\"ProveItLink\" href=\"../../../__pv_it/fcaf6c287c1283084def173a29c5b3f58e0ec0c90/expr.ipynb\"><img src=\"data:image/png;base64,iVBORw0KGgoAAAANSUhEUgAAAIUAAAAVBAMAAACakjBMAAAAMFBMVEX///+YmJiqqqq6uroQEBBE\n",
       "RETu7u4iIiLMzMwyMjKIiIhUVFRmZmZ2dnbc3NwAAADS0us6AAAAAXRSTlMAQObYZgAAAf5JREFU\n",
       "OMutlD8sA1Ecx3/9m2vrkJgMjS4GUztIBIsgNUgEMdPB0s2AG91mIGlFwiRsxKKbpBJuERbRlbR0\n",
       "VQOJ/0H4/d5d3/tVqxaXvN997373Pu/9/rwD+N/Ls1VWrtgfn/ZI1SJsY76QFWJJPAnQaa2JwaP3\n",
       "g/1DUlqGbIlMg0n2woTQPIk14bbIBmqu3pQGmCiSO0GPy+IlvoPkKJphWmZLMVw5NTMhVQrfRsmz\n",
       "C4oRxrFO4hw/9CYUw9+nGGtS7WGa2sgfZ4xpjOeVxDV6u0ExYFwxeqWawnEUweSnGcMXgbtRwUDP\n",
       "GWfkFUOX5XrDDT5RHnOMoVtw3ixWwOyucEaHyLkhrg8HoX0CLJI70MwY7jQsiCw84hjgjE5WDveq\n",
       "U9v3Qv6KhDfGGJ4+MRvcuAI8cEaK1zRp433P5RpzhnYPL6Id4vUY2oZd3qaZXxibdI9Ss/VXxeLk\n",
       "Y87pkJTlMLyRyliisdKOJvY6xhmtLB0Z1h52UDynrjTo8zm9vajKWV3bG9ke5Y7VrcraQu/GdgQo\n",
       "li5780OGgS2zqhiT9s1//JUtH3BMzIlhzGKYmEuxO5/pIoa3qObxXjerD98I09N2eFb3z3OmerPm\n",
       "FWb6UtjQ18OPwwXJ+r+ggDrLfvvsaIN2nm/VR4f1GY0ZKUPFSo8MIGj+8S8sSbUD8A087YcYmx4J\n",
       "cAAAAABJRU5ErkJggg==\n",
       "\" style=\"display:inline;vertical-align:middle;\" /></a></td></tr>\n",
       "<tr><td>2</td><td>Literal</td><td></td><td><a class=\"ProveItLink\" href=\"../../implication/__pv_it/e5c030cabcb650938f92dee8256fe11cd12bf9b30/expr.ipynb\"><img src=\"data:image/png;base64,iVBORw0KGgoAAAANSUhEUgAAABMAAAANBAMAAAC5okgUAAAALVBMVEX////c3NxERETMzMwQEBCq\n",
       "qqoiIiJmZmaIiIh2dnZUVFS6uroyMjLu7u4AAACPpZJTAAAAAXRSTlMAQObYZgAAAD1JREFUCNdj\n",
       "YAABXgY44LkAZ3IvQAjPABFlaSCQV4AQjtkAZ/IegbNt5sLUpunC5aPgLMYDcCaTAJzJDCIA2yMN\n",
       "HCCUuIIAAAAASUVORK5CYII=\n",
       "\" style=\"display:inline;vertical-align:middle;\" /></a></td></tr>\n",
       "<tr><td>3</td><td>ExprTuple</td><td>4, 5</td><td><a class=\"ProveItLink\" href=\"../../../__pv_it/92662dda6a3150a5ede2f7a89fa861b93cc26ec70/expr.ipynb\"><img src=\"data:image/png;base64,iVBORw0KGgoAAAANSUhEUgAAAIEAAAAVBAMAAACTeZA2AAAAMFBMVEX////c3NwiIiJERESqqqqY\n",
       "mJh2dnZmZmYQEBDu7u4yMjJUVFTMzMyIiIi6uroAAAAs73DqAAAAAXRSTlMAQObYZgAAAhxJREFU\n",
       "OMullL9rU1EUx09s8/KSvqRvcikFue3gqGDRQTBzlzp1ENFaih2kEBQyCVbRwaV9k0inB6XQgkjt\n",
       "qEiCiwWH5A+wNHSSQqFYFdJK6vlx37sn9HUy8D055+beT+45594L8P+fSjs7yncypx+k3j0r+Ebm\n",
       "Yv2RLOUox/5Tt6zcOPm09YG8YJPsKJlCUwQbKO8dwFYENoKgRrak/nk4BrgR0iDP+sqDsaiM/1dc\n",
       "Rd8nerntCPkZR2ihP0XxDjjCtMhHaOkSbaoLEiWE4qIj7GJR7tPoa0V4K9rHr2eUjdcDiRICXHOE\n",
       "W6hGFQsdK8JAlVXHwh1R7P1CU9eEeUc4xi3RrMKMIng11hoO/2biXzRrmjCZAoI/AF9osHRbEQZj\n",
       "1hLAhS6Xm9Je0oQfrpsnD+cfkON3FKGyyOrZtVLqnia0UsJAN+mqJgSHLCJQK2A9Op8gM84hvMTk\n",
       "DikpKgNFWVm0atbxq2ezmMDFvdxOc5vpE5pwh0yUHAdJR1cyH7OoZbNvYO6qaqDqZvEnH4fIErza\n",
       "2W7u0XY+LoxDQIMYFYwxL4y5AvCeCMshFJ+cfk6uLhbksTGXjRnD7DssP+SfbsJdzjN0p0hOdSXs\n",
       "u9zPlW9Ptb0/1+W86tvk8S3L9z8P08pfsOL7DI1TKdaGm7ACGYRS5PYYi2CEw+1XMjziJvOLAu1+\n",
       "Qm4zdYdCkX2Q0hlpVG5mvnKjqfdd9A+nqZSaAP7PaQAAAABJRU5ErkJggg==\n",
       "\" style=\"display:inline;vertical-align:middle;\" /></a></td></tr>\n",
       "<tr><td>4</td><td>Operation</td><td>operator:&nbsp;6<br>operand:&nbsp;8<br></td><td><a class=\"ProveItLink\" href=\"../../../__pv_it/e0dcc065cb245e1c3a56ba739192f3f809565a880/expr.ipynb\"><img src=\"data:image/png;base64,iVBORw0KGgoAAAANSUhEUgAAADEAAAAVBAMAAAAdjxsPAAAAMFBMVEX///+YmJiqqqq6uroQEBBE\n",
       "RETu7u4iIiLMzMwyMjKIiIhUVFRmZmZ2dnbc3NwAAADS0us6AAAAAXRSTlMAQObYZgAAAQBJREFU\n",
       "KM9jYCAGMC+AM4XBJN+du7vAjG4w+QpE8DSAyJsNDNxlIMY0sEwPmJwAxJkBQMIbiLkWIMnIAvF0\n",
       "EON8AgMDSwKSTArQxB8gxn0DBgZLBiQZVgWG9wFgGQUGhrPIMrwHGM4LgBjxQLdMRJZhmsBQDzb9\n",
       "CxA7I8swO4DFGJj+AonPyDIcHxi+g2hONywy80G0PsjLTmim6Ru8WsEBtiIQWYZxAgNv2QVe1Qcg\n",
       "zh00VzNYz12uwAAyzRyIj5eXl5SXlwJtNgD7t4ERJMPyAClGUiAhcQAcMIwXkGRugUnu/xAHT0NI\n",
       "sE2AuN0FHEIMrxEy3A9QYpsPEdsrGBgAX6NAdm9LZZkAAAAASUVORK5CYII=\n",
       "\" style=\"display:inline;vertical-align:middle;\" /></a></td></tr>\n",
       "<tr><td>5</td><td>Operation</td><td>operator:&nbsp;7<br>operand:&nbsp;8<br></td><td><a class=\"ProveItLink\" href=\"../../../__pv_it/4d7c4165a9fdb279e98a557bae75d7e45eb1c31a0/expr.ipynb\"><img src=\"data:image/png;base64,iVBORw0KGgoAAAANSUhEUgAAADEAAAAVBAMAAAAdjxsPAAAAMFBMVEX////u7u5mZmaYmJi6urqq\n",
       "qqp2dnbMzMwQEBBEREQyMjLc3NwiIiJUVFSIiIgAAAAeC3ydAAAAAXRSTlMAQObYZgAAAO9JREFU\n",
       "KM9jYCAK+MFZJmDy7f+7d89uADLYL4C4+0AEUwFY6hcDA2c3kOYSAPGKwGILQAT7NwYGViBmeMeA\n",
       "kDEDEXxfGBiYPwEZjUgyEiCC8wMDA+9XBgaWBUgynAFAgh8oIj8BaGsCkgybApCoT2BgPwRygAGS\n",
       "DCvIgPfX0tRAjuZwQJJhaQAS8wUgvuNHlmEHWs7whwGHDPsnqAxHAJppIO9AHIrsAmagCzg/QmXA\n",
       "DkVytdD8vw8gMiwHGBh0zpw5cebMSaAXHJAjoRuJLYESPWZI7DwUGS4BOJNxAYoM9wU4k3cDamzv\n",
       "g7OeMzAAAAoKNyNLs78oAAAAAElFTkSuQmCC\n",
       "\" style=\"display:inline;vertical-align:middle;\" /></a></td></tr>\n",
       "<tr><td>6</td><td>Variable</td><td></td><td><a class=\"ProveItLink\" href=\"../../../../__pv_it/98124f92e6e1fc3772af50ac63eaa1f5624776f20/expr.ipynb\"><img src=\"data:image/png;base64,iVBORw0KGgoAAAANSUhEUgAAAA8AAAASBAMAAAB2sJk8AAAAMFBMVEX///+YmJiqqqq6uroQEBBE\n",
       "RETu7u4iIiLMzMwyMjKIiIhUVFRmZmZ2dnbc3NwAAADS0us6AAAAAXRSTlMAQObYZgAAAHxJREFU\n",
       "CNdjYGDgu3N3FwMI3Gxg4C4D0pkBQMIbiKeDRM8nMPD8ADHuGzC8DwAzFBjOC4AY8Q0M9Qkgxhcw\n",
       "YmBg+svA8B3E4HRjYJgPYug3ALHBqxUczkAOb9kFXtUHIGHrucsVGBrAtrI2MEIZByzBNAP3/88Q\n",
       "BocL0BoActoerD1tNT4AAAAASUVORK5CYII=\n",
       "\" style=\"display:inline;vertical-align:middle;\" /></a></td></tr>\n",
       "<tr><td>7</td><td>Variable</td><td></td><td><a class=\"ProveItLink\" href=\"../../../../__pv_it/6369c6c8083c513ca7161ace249642d040f9327d0/expr.ipynb\"><img src=\"data:image/png;base64,iVBORw0KGgoAAAANSUhEUgAAABAAAAAOBAMAAADUAYG5AAAAMFBMVEX////u7u5mZmaYmJi6urqq\n",
       "qqp2dnbMzMwQEBBEREQyMjLc3NwiIiJUVFSIiIgAAAAeC3ydAAAAAXRSTlMAQObYZgAAAGBJREFU\n",
       "CNdjYGB4+//u3bMbGIDgFwMDZzeQZv/GwMAKxAx8XxgYmD8BGZwfGBh4vwIZ/AsYGOQnABn1CQzs\n",
       "h0Ca3l9LUwPrni/AAAF/oDT7JygDZAwYcH6E0ELz/z4A0QBnpRnRyxnfJQAAAABJRU5ErkJggg==\n",
       "\" style=\"display:inline;vertical-align:middle;\" /></a></td></tr>\n",
       "<tr><td>8</td><td>Literal</td><td></td><td><a class=\"ProveItLink\" href=\"../8f1f7fac882de28c72b62ab80a1700b6d8fd066b0/expr.ipynb\"><img src=\"data:image/png;base64,iVBORw0KGgoAAAANSUhEUgAAAA4AAAAOBAMAAADtZjDiAAAAG1BMVEX///9EREQQEBAiIiJmZmbM\n",
       "zMyIiIjc3NwAAACryk5kAAAAAXRSTlMAQObYZgAAABlJREFUCNdjYGBgKGOAgBBa0s7GxkbGxoYA\n",
       "FMUF2aBfHgoAAAAASUVORK5CYII=\n",
       "\" style=\"display:inline;vertical-align:middle;\" /></a></td></tr>\n",
       "</table>\n"
      ],
      "text/plain": [
       "0. (Q(FALSE) => P(FALSE))\n",
       "   core type: ExprTuple\n",
       "   sub-expressions: 1\n",
       "1. Q(FALSE) => P(FALSE)\n",
       "   core type: Operation\n",
       "   operator: 2\n",
       "   operands: 3\n",
       "2. =>\n",
       "   core type: Literal\n",
       "   sub-expressions: \n",
       "3. (Q(FALSE) , P(FALSE))\n",
       "   core type: ExprTuple\n",
       "   sub-expressions: 4, 5\n",
       "4. Q(FALSE)\n",
       "   core type: Operation\n",
       "   operator: 6\n",
       "   operand: 8\n",
       "5. P(FALSE)\n",
       "   core type: Operation\n",
       "   operator: 7\n",
       "   operand: 8\n",
       "6. Q\n",
       "   core type: Variable\n",
       "   sub-expressions: \n",
       "7. P\n",
       "   core type: Variable\n",
       "   sub-expressions: \n",
       "8. FALSE\n",
       "   core type: Literal\n",
       "   sub-expressions: "
      ]
     },
     "execution_count": 4,
     "metadata": {},
     "output_type": "execute_result"
    }
   ],
   "source": [
    "# display the expression information\n",
    "expr.exprInfo()"
   ]
  },
  {
   "cell_type": "code",
   "execution_count": null,
   "metadata": {},
   "outputs": [],
   "source": []
  }
 ],
 "metadata": {
  "kernelspec": {
   "display_name": "Python 3",
   "language": "python",
   "name": "python3"
  }
 },
 "nbformat": 4,
 "nbformat_minor": 0
}
