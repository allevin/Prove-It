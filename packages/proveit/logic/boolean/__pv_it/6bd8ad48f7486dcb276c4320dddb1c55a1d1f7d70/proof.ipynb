{
 "cells": [
  {
   "cell_type": "markdown",
   "metadata": {},
   "source": [
    "Show the Proof\n",
    "========"
   ]
  },
  {
   "cell_type": "code",
   "execution_count": 1,
   "metadata": {},
   "outputs": [
    {
     "data": {
      "text/html": [
       "<table><tr><th>&nbsp;</th><th>step type</th><th>requirements</th><th>statement</th></tr>\n",
       "<tr><td>0</td><td>assumption</td><td></td><td><span style=\"font-size:20px;\"><a class=\"ProveItLink\" href=\"../e6519b6cbc84583e103e1aa920ed292a63e1c78b0/expr.ipynb\"><img src=\"data:image/png;base64,iVBORw0KGgoAAAANSUhEUgAAAEUAAAAVBAMAAADiLT7tAAAAMFBMVEX///9ERETc3NyqqqpUVFS6\n",
       "urrMzMwyMjIQEBCIiIh2dnYiIiLu7u5mZmaYmJgAAABJJ2g3AAAAAXRSTlMAQObYZgAAAY1JREFU\n",
       "KM91krtPAkEQxofj4OC8O+m0g8SKSvwDDBQ0dleYqIkFBYXl1Rqj8V1QkxgbEgsfiZFSDYl0WtLZ\n",
       "CRY2WPhI8K043+5x2Su8ZGe+vf3tzs7sEJFzS/9+8eMMnHUR/j0XqHtA61DJJ1jt5HhK7ixIVyey\n",
       "SyxuMDNXYQ9KpDcgjKZgDOz0eBwGzFWKzQamuzLOwzebbohZgmrjiIpAtMkXttcqY79CnbpEMU8w\n",
       "yWSPbSSnMOMpwfAvuyaY+egvllo+Y/POdgcqzXkYQllu/INdlJceMV/gCJcimXceCRcqRtoPHIcw\n",
       "+Kzylr9K0U82w4IpF4vPKBIKMMInz3KEL1GSSsCw2faZIVxQ56ArWMijrIkcTuRx5scS9zG56nk3\n",
       "W41vYhbBncdIbnM8JXezUTMnxAsjXQs1SjeV3EWdpxf3coRYsTppo28Zuusv8w1dleEgJQcMrSlt\n",
       "EnoLMK0Z4bsKczRgHMno/R4pvSGq7Q36xzqXTbXTkS9eCBids5DZkrMf6tVsoKp+P/8B1SxkzKQx\n",
       "9TIAAAAASUVORK5CYII=\n",
       "\" style=\"display:inline;vertical-align:middle;\" /></a> <a class=\"ProveItLink\" href=\"proof.ipynb\" style=\"text-decoration: none\">&#x22A2;&nbsp;</a><a class=\"ProveItLink\" href=\"../../../../__pv_it/cdde746c2742536efa2c676f92c97c50cbb392360/expr.ipynb\"><img src=\"data:image/png;base64,iVBORw0KGgoAAAANSUhEUgAAADEAAAAVBAMAAAAdjxsPAAAAMFBMVEX///+YmJiqqqq6uroQEBBE\n",
       "RETu7u4iIiLMzMwyMjKIiIhUVFRmZmZ2dnbc3NwAAADS0us6AAAAAXRSTlMAQObYZgAAATZJREFU\n",
       "KM9jYCAKWMFZwmCS787dXWAGxwYIVcDAwNMAYt1sYOAuAzE4E8AynB+AxAQgzgwAEt4goVUQk8S/\n",
       "AQlZIJ4O4p0HKXeDGK7zD0imAE38AeLeN2BgYJ4AluHi+gwkWRUY3geAZRSAai6AZcyYPgJJ3gMM\n",
       "5wVA3HigWzjBLDYDjl9AimkCQz3YQV+AmMUAxGJm4PsDohzAYgxMf4EEP1ime/furyBPfWD4DvaC\n",
       "G1wGSHhCZOaDuPogL7MogHQDcQnENH2DVys4nEHSrCAXPAJikGLGCQy8ZRd4VR8wQBzKwAbyU3wC\n",
       "hGM9d7kCA8g05gIGvpCfDxhE/88B2gy2lLWBERy0fkgRkgImWQ9YgmlZJJlbYJL7/2cGpFgAhwQk\n",
       "DDlcBCChvAEuw/0ANbZfwVkrGBgAkEREnzYbeDMAAAAASUVORK5CYII=\n",
       "\" style=\"display:inline;vertical-align:middle;\" /></a></span></td></tr>\n",
       "</table>"
      ],
      "text/plain": [
       "<proveit._core_.proof._ShowProof at 0x7f94ebefc6d8>"
      ]
     },
     "execution_count": 1,
     "metadata": {},
     "output_type": "execute_result"
    }
   ],
   "source": [
    "import proveit\n",
    "%show_proof"
   ]
  },
  {
   "cell_type": "code",
   "execution_count": null,
   "metadata": {},
   "outputs": [],
   "source": []
  }
 ],
 "metadata": {
  "kernelspec": {
   "display_name": "Python 3",
   "language": "python",
   "name": "python3"
  }
 },
 "nbformat": 4,
 "nbformat_minor": 0
}
