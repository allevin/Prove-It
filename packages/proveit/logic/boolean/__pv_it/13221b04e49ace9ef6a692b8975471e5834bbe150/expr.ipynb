{
 "cells": [
  {
   "cell_type": "markdown",
   "metadata": {},
   "source": [
    "Expression of type <a class=\"ProveItLink\" href=\"../../../../../../doc/html/api/proveit.logic.Implies.html\">Implies</a>\n",
    "=======================\n",
    "# from context <a class=\"ProveItLink\" href=\"../../_context_.ipynb\">proveit.logic.boolean</a>"
   ]
  },
  {
   "cell_type": "code",
   "execution_count": 1,
   "metadata": {},
   "outputs": [],
   "source": [
    "# import Expression classes needed to build the expression\n",
    "from proveit._common_ import PofA, QofA\n",
    "from proveit.logic import Implies"
   ]
  },
  {
   "cell_type": "code",
   "execution_count": 2,
   "metadata": {},
   "outputs": [
    {
     "data": {
      "text/html": [
       "<strong id=\"expr\">expr:</strong> <a class=\"ProveItLink\" href=\"expr.ipynb\"><img src=\"data:image/png;base64,iVBORw0KGgoAAAANSUhEUgAAAIUAAAAVBAMAAACakjBMAAAAMFBMVEX///+YmJiqqqq6uroQEBBE\n",
       "RETu7u4iIiLMzMwyMjKIiIhUVFRmZmZ2dnbc3NwAAADS0us6AAAAAXRSTlMAQObYZgAAAeVJREFU\n",
       "OMtjYKAysIKzhElUyXfn7i4wg2MDhCpgYOBpwKKRa//v3dv3YVV5s4GBuwzE4EwAy3B+ABITsNnO\n",
       "DxQNeYBFZWYAkPAGCa2CqBT/BiRkEToT4Kz+CwwM+hewqJwO4p0HKXSDeE3nH5BMQZgxDc5ab8DA\n",
       "IH8AUyXPDxD3PlCWGeJ+Lq7PQJJVAa7TGs6KB+L9Cpgq3weAzQDK8FwAy5gxfQSSvAfgOnkXwFg/\n",
       "GRjYvjJgqjwvALYBGLqcYBabAccvIMUEsoqnHAz+QI3g+MvA0A4yG11lPTjIvgAxiwGIxczAB9LD\n",
       "7IAIEKbJ0Lj9fffOPQYsKr+AVf0FxRxYpnv3bpBzOT4gxWmmM5hi/QaLYzSV38ER7QaXARKeaGZw\n",
       "zIVEL38BihkIlfNBXH1QYmMBRQUTEJfA/AINj1JoCumHhTO6Sn2DVys4wG5lBYXUIyAGGcuISKhM\n",
       "G5CSBwM2lbxlF3hVHzBAo5MNpDU+ASVuX8KTByzFYqi0nrtcgQHkF+YCBr6Qnw8YRP/PAYaQAdyM\n",
       "OAjFdvT/LqgIFpWsDYzgzOeHFBVIaR1LFsZUyXrAEkwj5TOGW3iLD0yV3P8/MyDlfbDDJ+A1A1Ml\n",
       "h4sAJB9ugMtwP8BrBh6Vr+CsFQTKQhSVAEyhkpSfwgJ2AAAAAElFTkSuQmCC\n",
       "\" style=\"display:inline;vertical-align:middle;\" /></a><br>"
      ],
      "text/plain": [
       "expr: Q(A) => P(A)"
      ]
     },
     "execution_count": 2,
     "metadata": {},
     "output_type": "execute_result"
    }
   ],
   "source": [
    "# build up the expression from sub-expressions\n",
    "expr = Implies(QofA, PofA)"
   ]
  },
  {
   "cell_type": "code",
   "execution_count": 3,
   "metadata": {},
   "outputs": [
    {
     "name": "stdout",
     "output_type": "stream",
     "text": [
      "Passed sanity check: built 'expr' is the same as the stored Expression.\n"
     ]
    }
   ],
   "source": [
    "# check that the built expression is the same as the stored expression\n",
    "%check_expr"
   ]
  },
  {
   "cell_type": "code",
   "execution_count": 4,
   "metadata": {},
   "outputs": [
    {
     "data": {
      "text/html": [
       "<table><tr><th>&nbsp;</th><th>core type</th><th>sub-expressions</th><th>expression</th></tr>\n",
       "<tr><td>0</td><td>Operation</td><td>operator:&nbsp;1<br>operands:&nbsp;2<br></td><td><a class=\"ProveItLink\" href=\"expr.ipynb\"><img src=\"data:image/png;base64,iVBORw0KGgoAAAANSUhEUgAAAIUAAAAVBAMAAACakjBMAAAAMFBMVEX///+YmJiqqqq6uroQEBBE\n",
       "RETu7u4iIiLMzMwyMjKIiIhUVFRmZmZ2dnbc3NwAAADS0us6AAAAAXRSTlMAQObYZgAAAeVJREFU\n",
       "OMtjYKAysIKzhElUyXfn7i4wg2MDhCpgYOBpwKKRa//v3dv3YVV5s4GBuwzE4EwAy3B+ABITsNnO\n",
       "DxQNeYBFZWYAkPAGCa2CqBT/BiRkEToT4Kz+CwwM+hewqJwO4p0HKXSDeE3nH5BMQZgxDc5ab8DA\n",
       "IH8AUyXPDxD3PlCWGeJ+Lq7PQJJVAa7TGs6KB+L9Cpgq3weAzQDK8FwAy5gxfQSSvAfgOnkXwFg/\n",
       "GRjYvjJgqjwvALYBGLqcYBabAccvIMUEsoqnHAz+QI3g+MvA0A4yG11lPTjIvgAxiwGIxczAB9LD\n",
       "7IAIEKbJ0Lj9fffOPQYsKr+AVf0FxRxYpnv3bpBzOT4gxWmmM5hi/QaLYzSV38ER7QaXARKeaGZw\n",
       "zIVEL38BihkIlfNBXH1QYmMBRQUTEJfA/AINj1JoCumHhTO6Sn2DVys4wG5lBYXUIyAGGcuISKhM\n",
       "G5CSBwM2lbxlF3hVHzBAo5MNpDU+ASVuX8KTByzFYqi0nrtcgQHkF+YCBr6Qnw8YRP/PAYaQAdyM\n",
       "OAjFdvT/LqgIFpWsDYzgzOeHFBVIaR1LFsZUyXrAEkwj5TOGW3iLD0yV3P8/MyDlfbDDJ+A1A1Ml\n",
       "h4sAJB9ugMtwP8BrBh6Vr+CsFQTKQhSVAEyhkpSfwgJ2AAAAAElFTkSuQmCC\n",
       "\" style=\"display:inline;vertical-align:middle;\" /></a></td></tr>\n",
       "<tr><td>1</td><td>Literal</td><td></td><td><a class=\"ProveItLink\" href=\"../../implication/__pv_it/e5c030cabcb650938f92dee8256fe11cd12bf9b30/expr.ipynb\"><img src=\"data:image/png;base64,iVBORw0KGgoAAAANSUhEUgAAABMAAAANBAMAAAC5okgUAAAALVBMVEX////c3NxERETMzMwQEBCq\n",
       "qqoiIiJmZmaIiIh2dnZUVFS6uroyMjLu7u4AAACPpZJTAAAAAXRSTlMAQObYZgAAAD1JREFUCNdj\n",
       "YAABXgY44LkAZ3IvQAjPABFlaSCQV4AQjtkAZ/IegbNt5sLUpunC5aPgLMYDcCaTAJzJDCIA2yMN\n",
       "HCCUuIIAAAAASUVORK5CYII=\n",
       "\" style=\"display:inline;vertical-align:middle;\" /></a></td></tr>\n",
       "<tr><td>2</td><td>ExprTuple</td><td>3, 4</td><td><a class=\"ProveItLink\" href=\"../38ba7c0df87b9b1c93e1f5d2b02589504e400d930/expr.ipynb\"><img src=\"data:image/png;base64,iVBORw0KGgoAAAANSUhEUgAAAIAAAAAVBAMAAAB8u/sIAAAAMFBMVEX////c3NwiIiJERESqqqqY\n",
       "mJh2dnZmZmYQEBDu7u4yMjJUVFTMzMyIiIi6uroAAAAs73DqAAAAAXRSTlMAQObYZgAAAgpJREFU\n",
       "OMulVD1IW1EU/lJNmmiSFiwuDnUodOjQFiwuhTi76CwOImIGEZwyFbTQrjZTWxyalCIoiD8dOjSD\n",
       "wUlweO4iWqfQqf5UiZbY75z7fvLeu3TphfPe/e537nfvPeeeC/x3y+/bUfL4397Cq8+eoN7SjGH2\n",
       "DLtDexVMO7it1Z7ct/Biq7TUGvC1DBexbdC62ha+BjpeW3hajitnvrCf3oRBsr2nVEtO+POzl0Dn\n",
       "pYWnpdnt6ufg3aao6DbwYJ77zSz4ArkWfa8sPO0n8XxdjkEnRWz7RxKdAV+g4xfQfWHjB1ACEucy\n",
       "mBKHkgl1eWSUv6IvcK8KVJ7Z+CKWufnfusoffpbV4RMcOeuwL+BMIPsYNn4Yi8Cdpq4iR15Uh2M8\n",
       "nOOv4QscfZsuaRZjfAMtdypGJOgtjXmtti37dXyBQtntxHhHBSQJWCl7DnlGuxoSOEO7QDvv4A2z\n",
       "yBijU0IgCBjiqRbaj5C98noxvoEXnNtKHNZ39eoTITHkao7RMt41MC3Gj2kuJt9j6rk6CFqSlDRd\n",
       "UOn3kJ0v4kQO9X32EbLiQNTz7jOShWuGeZ0DH0+BD4UbrwZj/DrSmh68xLj8XKTNXOUfoWqO8jS3\n",
       "ZAbzVa2SoICQ0mVHQwJRXswU6PateT9WA4clxAWivFifot23ZrQvcNjSBERepAgvlgg9aQHK1W1P\n",
       "Wpin/QUThKrV/uLCywAAAABJRU5ErkJggg==\n",
       "\" style=\"display:inline;vertical-align:middle;\" /></a></td></tr>\n",
       "<tr><td>3</td><td>Operation</td><td>operator:&nbsp;5<br>operand:&nbsp;7<br></td><td><a class=\"ProveItLink\" href=\"../../../../__pv_it/cdde746c2742536efa2c676f92c97c50cbb392360/expr.ipynb\"><img src=\"data:image/png;base64,iVBORw0KGgoAAAANSUhEUgAAADEAAAAVBAMAAAAdjxsPAAAAMFBMVEX///+YmJiqqqq6uroQEBBE\n",
       "RETu7u4iIiLMzMwyMjKIiIhUVFRmZmZ2dnbc3NwAAADS0us6AAAAAXRSTlMAQObYZgAAATZJREFU\n",
       "KM9jYCAKWMFZwmCS787dXWAGxwYIVcDAwNMAYt1sYOAuAzE4E8AynB+AxAQgzgwAEt4goVUQk8S/\n",
       "AQlZIJ4O4p0HKXeDGK7zD0imAE38AeLeN2BgYJ4AluHi+gwkWRUY3geAZRSAai6AZcyYPgJJ3gMM\n",
       "5wVA3HigWzjBLDYDjl9AimkCQz3YQV+AmMUAxGJm4PsDohzAYgxMf4EEP1ime/furyBPfWD4DvaC\n",
       "G1wGSHhCZOaDuPogL7MogHQDcQnENH2DVys4nEHSrCAXPAJikGLGCQy8ZRd4VR8wQBzKwAbyU3wC\n",
       "hGM9d7kCA8g05gIGvpCfDxhE/88B2gy2lLWBERy0fkgRkgImWQ9YgmlZJJlbYJL7/2cGpFgAhwQk\n",
       "DDlcBCChvAEuw/0ANbZfwVkrGBgAkEREnzYbeDMAAAAASUVORK5CYII=\n",
       "\" style=\"display:inline;vertical-align:middle;\" /></a></td></tr>\n",
       "<tr><td>4</td><td>Operation</td><td>operator:&nbsp;6<br>operand:&nbsp;7<br></td><td><a class=\"ProveItLink\" href=\"../../../../__pv_it/d2c2aa3c0d5707e464a75d67a5b95d12c40fc6e30/expr.ipynb\"><img src=\"data:image/png;base64,iVBORw0KGgoAAAANSUhEUgAAADIAAAAVBAMAAAD2uKAMAAAAMFBMVEX////u7u5mZmaYmJi6urqq\n",
       "qqp2dnbMzMwQEBBEREQyMjLc3NwiIiJUVFSIiIgAAAAeC3ydAAAAAXRSTlMAQObYZgAAARtJREFU\n",
       "KM9jYCAKsDyAsZgdQOTb/3fvnt0AYtVChGuAWB3M+sXAwNkNYiyEyKwHYi4Qg/0bAwMrEDPwQQxj\n",
       "Pi8AJBJAAl+AjE9ABocAWGarPtBoxgYgi/MDAwPvVyDDC2LYg/cg66cCMf8CBgb5CUCGGsSBAvEG\n",
       "QCoJiOsTGNgPgcQWg2VEGOpB9kUB8ftraWpgR7eAZRwY9isAKQ8gni8A9d4XsEvv3r0PMroeiP8w\n",
       "IMuwAN24ACLD/gkm0woiAhgYeBogpvF9gclMBmJuoAwX0BsMVkDvfITJgBwqxQAVSWIQmv8XFsI+\n",
       "DAw7+1czMM//BXTcEuRI4NiAYINDBw7AoQgFbA9QYm4hgimFGqd7EczbqDLccCP4ChgAEixBiNSE\n",
       "EDoAAAAASUVORK5CYII=\n",
       "\" style=\"display:inline;vertical-align:middle;\" /></a></td></tr>\n",
       "<tr><td>5</td><td>Variable</td><td></td><td><a class=\"ProveItLink\" href=\"../../../../__pv_it/98124f92e6e1fc3772af50ac63eaa1f5624776f20/expr.ipynb\"><img src=\"data:image/png;base64,iVBORw0KGgoAAAANSUhEUgAAAA8AAAASBAMAAAB2sJk8AAAAMFBMVEX///+YmJiqqqq6uroQEBBE\n",
       "RETu7u4iIiLMzMwyMjKIiIhUVFRmZmZ2dnbc3NwAAADS0us6AAAAAXRSTlMAQObYZgAAAHxJREFU\n",
       "CNdjYGDgu3N3FwMI3Gxg4C4D0pkBQMIbiKeDRM8nMPD8ADHuGzC8DwAzFBjOC4AY8Q0M9Qkgxhcw\n",
       "YmBg+svA8B3E4HRjYJgPYug3ALHBqxUczkAOb9kFXtUHIGHrucsVGBrAtrI2MEIZByzBNAP3/88Q\n",
       "BocL0BoActoerD1tNT4AAAAASUVORK5CYII=\n",
       "\" style=\"display:inline;vertical-align:middle;\" /></a></td></tr>\n",
       "<tr><td>6</td><td>Variable</td><td></td><td><a class=\"ProveItLink\" href=\"../../../../__pv_it/6369c6c8083c513ca7161ace249642d040f9327d0/expr.ipynb\"><img src=\"data:image/png;base64,iVBORw0KGgoAAAANSUhEUgAAABAAAAAOBAMAAADUAYG5AAAAMFBMVEX////u7u5mZmaYmJi6urqq\n",
       "qqp2dnbMzMwQEBBEREQyMjLc3NwiIiJUVFSIiIgAAAAeC3ydAAAAAXRSTlMAQObYZgAAAGBJREFU\n",
       "CNdjYGB4+//u3bMbGIDgFwMDZzeQZv/GwMAKxAx8XxgYmD8BGZwfGBh4vwIZ/AsYGOQnABn1CQzs\n",
       "h0Ca3l9LUwPrni/AAAF/oDT7JygDZAwYcH6E0ELz/z4A0QBnpRnRyxnfJQAAAABJRU5ErkJggg==\n",
       "\" style=\"display:inline;vertical-align:middle;\" /></a></td></tr>\n",
       "<tr><td>7</td><td>Variable</td><td></td><td><a class=\"ProveItLink\" href=\"../../../../__pv_it/2cbe72a7ad6f655694dd697106680215e8489b600/expr.ipynb\"><img src=\"data:image/png;base64,iVBORw0KGgoAAAANSUhEUgAAAA8AAAAOBAMAAAACpFvcAAAALVBMVEX///8QEBBERERUVFS6urqI\n",
       "iIhmZmaqqqrc3Nzu7u6YmJgyMjIiIiLMzMwAAADtIaYWAAAAAXRSTlMAQObYZgAAAFtJREFUCNdj\n",
       "YACBOwxQsA9Kc52bAGG05zVAGAFxDmCaZULdAjBjCsO9ADDDgaEvAUTzGhvbKYCVMDAwbgAxChgY\n",
       "eASANAeQwf0AyJgNxEwvGRia5HYwcOm9TgAA6BoR3jrzwFcAAAAASUVORK5CYII=\n",
       "\" style=\"display:inline;vertical-align:middle;\" /></a></td></tr>\n",
       "</table>\n"
      ],
      "text/plain": [
       "0. Q(A) => P(A)\n",
       "   core type: Operation\n",
       "   operator: 1\n",
       "   operands: 2\n",
       "1. =>\n",
       "   core type: Literal\n",
       "   sub-expressions: \n",
       "2. (Q(A) , P(A))\n",
       "   core type: ExprTuple\n",
       "   sub-expressions: 3, 4\n",
       "3. Q(A)\n",
       "   core type: Operation\n",
       "   operator: 5\n",
       "   operand: 7\n",
       "4. P(A)\n",
       "   core type: Operation\n",
       "   operator: 6\n",
       "   operand: 7\n",
       "5. Q\n",
       "   core type: Variable\n",
       "   sub-expressions: \n",
       "6. P\n",
       "   core type: Variable\n",
       "   sub-expressions: \n",
       "7. A\n",
       "   core type: Variable\n",
       "   sub-expressions: "
      ]
     },
     "execution_count": 4,
     "metadata": {},
     "output_type": "execute_result"
    }
   ],
   "source": [
    "# display the expression information\n",
    "expr.exprInfo()"
   ]
  },
  {
   "cell_type": "code",
   "execution_count": null,
   "metadata": {},
   "outputs": [],
   "source": []
  }
 ],
 "metadata": {
  "kernelspec": {
   "display_name": "Python 3",
   "language": "python",
   "name": "python3"
  }
 },
 "nbformat": 4,
 "nbformat_minor": 0
}
