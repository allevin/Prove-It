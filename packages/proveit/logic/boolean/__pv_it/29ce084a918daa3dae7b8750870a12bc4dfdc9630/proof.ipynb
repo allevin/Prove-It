{
 "cells": [
  {
   "cell_type": "markdown",
   "metadata": {},
   "source": [
    "Show the Proof\n",
    "========"
   ]
  },
  {
   "cell_type": "code",
   "execution_count": 1,
   "metadata": {},
   "outputs": [
    {
     "data": {
      "text/html": [
       "<table><tr><th>&nbsp;</th><th>step type</th><th>requirements</th><th>statement</th></tr>\n",
       "<tr><td>0</td><td>specialization</td><td>1, 2</td><td><span style=\"font-size:20px;\"><a class=\"ProveItLink\" href=\"../1476e6741668a570a935371d1f30474b118f19fc0/expr.ipynb\"><img src=\"data:image/png;base64,iVBORw0KGgoAAAANSUhEUgAAAEkAAAAVBAMAAAD4Ed5jAAAAMFBMVEX///9ERETc3NyqqqpUVFS6\n",
       "urrMzMwyMjIQEBCIiIh2dnYiIiLu7u5mZmaYmJgAAABJJ2g3AAAAAXRSTlMAQObYZgAAAS5JREFU\n",
       "KM9jYGDgu8eAB7CtUgBRPLsY8AK2ZhDJ+QHK24Aqu/xjfcVGAyDjOojH1QARZf+AZohAJE/NKiC9\n",
       "AlnV6z8YqhimsqOpYrL9BJHkmb57dwFUlR3LAVRVnJxfIarS3yCZpYhmVgzzP4iZMggb2fbJwFTx\n",
       "go3nCWD7CZZjVICrit7/YwKQfg/iZASASFYGpr9guYPIrp9pCPL8BQaGlDawUIqLy0cwI2L3boTr\n",
       "GVkXABniD4DCCSAhoIHtEOXIZjEyCDAwcINUsoA0MgPxDrDcaQxVYHdxgWJGGYjrwXIsD5BVgWyE\n",
       "hwQPyDz5A2DPbkVS9XYiUngxSXxXYHj4vxYsqX4NHtvSLQbo8QgHJtUQP8IAdlXoAKyKj5AqcPri\n",
       "2UkgrbaCKb7FBNM9AKQsUzxrU6Y9AAAAAElFTkSuQmCC\n",
       "\" style=\"display:inline;vertical-align:middle;\" /></a> <a class=\"ProveItLink\" href=\"proof.ipynb\" style=\"text-decoration: none\">&#x22A2;&nbsp;</a><a class=\"ProveItLink\" href=\"../90fc205bf09704b1ac7487d0b0912b502ed1410b0/expr.ipynb\"><img src=\"data:image/png;base64,iVBORw0KGgoAAAANSUhEUgAAAKoAAAAVBAMAAAAkxGgRAAAAMFBMVEX////c3NwiIiJERESqqqqY\n",
       "mJh2dnZmZmYQEBDu7u4yMjJUVFTMzMyIiIi6uroAAAAs73DqAAAAAXRSTlMAQObYZgAAAbZJREFU\n",
       "OMu1VL9LQ0EMjq2vrX1tKeikg1L/AIvorFvBRScHB3ERJ6GIOIhgEWftWBykHUSs4I+5g0VQEYf2\n",
       "DxAsTuLUVQcxlxxPe23ucDBwyb13+b67S3IB+B9JNe3ry38FeC1UTzy/NRc3MkrGIVo3FiQASh9t\n",
       "uIPjjH9c9nB6IF2mA9KUNrAAEnml4wBJvo83UZRYF5XyFSH52gDM6q1AjBeHdtMSa4n8s6hCytcG\n",
       "YNaBArzzd/OlJbGGZ5Wu4MipiQ3ArDAFW5zX4vyCxBoh15xmtgI06xqckD2GBoVru6rkvIO1n9KF\n",
       "t6coGIAoAapXHaxzcEC2BaN56aypAnCSfLqzDaBZ3+CLvmq1m6zEmmiTGYMjsjaAZm2wE1ZjrOxg\n",
       "3YTVH1YBELDuK4NZDhV+P6juCMAwnlZJJyBKgEzWiMC0emjoFG9LZ/X4UP4dl78NoFmXsAqAAhb+\n",
       "sFcWJCaLumxkQFBZrwCDhxXwZj67c3pPOq7L/ZSNCFDB2KNgXEAs7WqVJW0f2bgB+GKxFThk3Wif\n",
       "TkCkGTQ2eWezglwAivqIw8c3b+wCwHXQv2V57t3wZUnW4Rt79IRJOuqnygAAAABJRU5ErkJggg==\n",
       "\" style=\"display:inline;vertical-align:middle;\" /></a></span></td></tr>\n",
       "<tr><td>&nbsp;</td><td colspan=4 style=\"text-align:left\"><span style=\"font-size:20px;\"><a class=\"ProveItLink\" href=\"../../../../__pv_it/2cbe72a7ad6f655694dd697106680215e8489b600/expr.ipynb\"><img src=\"data:image/png;base64,iVBORw0KGgoAAAANSUhEUgAAAA8AAAAOBAMAAAACpFvcAAAALVBMVEX///8QEBBERERUVFS6urqI\n",
       "iIhmZmaqqqrc3Nzu7u6YmJgyMjIiIiLMzMwAAADtIaYWAAAAAXRSTlMAQObYZgAAAFtJREFUCNdj\n",
       "YACBOwxQsA9Kc52bAGG05zVAGAFxDmCaZULdAjBjCsO9ADDDgaEvAUTzGhvbKYCVMDAwbgAxChgY\n",
       "eASANAeQwf0AyJgNxEwvGRia5HYwcOm9TgAA6BoR3jrzwFcAAAAASUVORK5CYII=\n",
       "\" style=\"display:inline;vertical-align:middle;\" /></a> : <a class=\"ProveItLink\" href=\"../../../../__pv_it/2cbe72a7ad6f655694dd697106680215e8489b600/expr.ipynb\"><img src=\"data:image/png;base64,iVBORw0KGgoAAAANSUhEUgAAAA8AAAAOBAMAAAACpFvcAAAALVBMVEX///8QEBBERERUVFS6urqI\n",
       "iIhmZmaqqqrc3Nzu7u6YmJgyMjIiIiLMzMwAAADtIaYWAAAAAXRSTlMAQObYZgAAAFtJREFUCNdj\n",
       "YACBOwxQsA9Kc52bAGG05zVAGAFxDmCaZULdAjBjCsO9ADDDgaEvAUTzGhvbKYCVMDAwbgAxChgY\n",
       "eASANAeQwf0AyJgNxEwvGRia5HYwcOm9TgAA6BoR3jrzwFcAAAAASUVORK5CYII=\n",
       "\" style=\"display:inline;vertical-align:middle;\" /></a></span></td></tr><tr><td>1</td><td>theorem</td><td></td><td><span style=\"font-size:20px;\"> <a class=\"ProveItLink\" href=\"../../_proofs_/unfoldInBoolExplicit.ipynb\" style=\"text-decoration: none\">&#x22A2;&nbsp;</a><a class=\"ProveItLink\" href=\"../6e6206562fb05c01d70d4ee84ce9b743652a06ea0/expr.ipynb\"><img src=\"data:image/png;base64,iVBORw0KGgoAAAANSUhEUgAAAPUAAAAVBAMAAABs27XUAAAAMFBMVEX///8QEBC6urrMzMxUVFRm\n",
       "ZmZERETc3NwyMjKqqqp2dnaIiIiYmJgiIiLu7u4AAAAU9Wx4AAAAAXRSTlMAQObYZgAAAp9JREFU\n",
       "SMfFVkFoE0EU/e12u83uJvamF2UVbxXJofbiocEWejQgAQ9Wqoct4qE5WSQoi1gsPWguBY+5qIgg\n",
       "Cx49uAiKWoT00B5ESwQVoSJFMAqKOvP/n8QkO5NjH7zJTHYeb+bP/L8LsItomB+PMQ3wgzSRCU+Z\n",
       "dTlY082yCkTZrXc9s98h5uBUiihNIFFBZZ54Xw5u6rxHGkTZ3UlZWhGfYB93bymRRgDHsI2Il8SP\n",
       "M6fzfswUeP1H5+3XZDul5psE7P2KKBdpV3XeB5hifas/dN65UdlOyGYLzAL2fk/07y0uXtFZD0ZE\n",
       "Ac/7pvOGCxjiMkCmCGYBew9Xic0wfKPztmtEgaOZ31rvO7KRvtLfKGBvt0gU5zSPf9xIuWoJUcQ1\n",
       "sH7hapYRhQ7v28DxnlCitgBOo+B6h3cmIh6GHAbJ5xD5KytLCc8cCIgikOB81+77oLqXJ5RIJ2Dv\n",
       "wVFiFjy0+ihDtF06A3Ft+xDP3BMQAcanp5ta70lss7wJk4C9rR2il2QxHx9uiP75q1+Ft/ulx1s0\n",
       "+/p421U3aXunC7q8c9E4DuMQ4JnsxbWxsyrmVSJkBNc7illvzJ0o2xK1BTCLgs3UmMM8ntIQzFK9\n",
       "gbi0X533cEKEy4K3tPt+QaOptZZIJ2BvPyLCKtbdl/AErBrt2z7OM1Uu4EEuNIw5Jm75VkukE3Tl\n",
       "GAzEMiU2SgsNazMML8rzdlVtqSOdcz/L8PzvUq83pfI1zsiiEmkEIvzrGP6RgAi+XJ5dhsl8rkD7\n",
       "bnnDXqYRVFPFShptkRlcUxlHxP1MYIZjXlF/c9E3w407x30F8ICJ+NAE5+Rb+BRgbQmTlHeoHp9T\n",
       "XrzmQEV8IzpwV5z3/3AKRCNmusZ9BUNlYh9U1LeGHl4+9ePEgEfEfzxt0gwHCx74AAAAAElFTkSu\n",
       "QmCC\n",
       "\" style=\"display:inline;vertical-align:middle;\" /></a></span></td></tr>\n",
       "<tr><td>&nbsp;</td><td colspan=4 style-\"text-align:left\"><a class=\"ProveItLink\" href=\"../../_proofs_/unfoldInBoolExplicit.ipynb\">proveit.logic.boolean.unfoldInBoolExplicit</a></td></tr><tr><td>2</td><td>assumption</td><td></td><td><span style=\"font-size:20px;\"><a class=\"ProveItLink\" href=\"../1476e6741668a570a935371d1f30474b118f19fc0/expr.ipynb\"><img src=\"data:image/png;base64,iVBORw0KGgoAAAANSUhEUgAAAEkAAAAVBAMAAAD4Ed5jAAAAMFBMVEX///9ERETc3NyqqqpUVFS6\n",
       "urrMzMwyMjIQEBCIiIh2dnYiIiLu7u5mZmaYmJgAAABJJ2g3AAAAAXRSTlMAQObYZgAAAS5JREFU\n",
       "KM9jYGDgu8eAB7CtUgBRPLsY8AK2ZhDJ+QHK24Aqu/xjfcVGAyDjOojH1QARZf+AZohAJE/NKiC9\n",
       "AlnV6z8YqhimsqOpYrL9BJHkmb57dwFUlR3LAVRVnJxfIarS3yCZpYhmVgzzP4iZMggb2fbJwFTx\n",
       "go3nCWD7CZZjVICrit7/YwKQfg/iZASASFYGpr9guYPIrp9pCPL8BQaGlDawUIqLy0cwI2L3boTr\n",
       "GVkXABniD4DCCSAhoIHtEOXIZjEyCDAwcINUsoA0MgPxDrDcaQxVYHdxgWJGGYjrwXIsD5BVgWyE\n",
       "hwQPyDz5A2DPbkVS9XYiUngxSXxXYHj4vxYsqX4NHtvSLQbo8QgHJtUQP8IAdlXoAKyKj5AqcPri\n",
       "2UkgrbaCKb7FBNM9AKQsUzxrU6Y9AAAAAElFTkSuQmCC\n",
       "\" style=\"display:inline;vertical-align:middle;\" /></a> <a class=\"ProveItLink\" href=\"../02d3acaf2e8167eaa5bf12a0ab70bd0b652c35ca0/proof.ipynb\" style=\"text-decoration: none\">&#x22A2;&nbsp;</a><a class=\"ProveItLink\" href=\"../923805f01821a06014dd29c5f79c5e4c92605ad50/expr.ipynb\"><img src=\"data:image/png;base64,iVBORw0KGgoAAAANSUhEUgAAADYAAAAPBAMAAABdHiGLAAAAMFBMVEX///92dnYQEBBERERUVFS6\n",
       "urqIiIhmZmaqqqrc3Nzu7u6YmJgyMjIiIiLMzMwAAACFkkdwAAAAAXRSTlMAQObYZgAAANJJREFU\n",
       "GNNjYACBtwwogPG8zR9dCyjnPKocAzNrwpqFAmAm9/0FGHJsAQfAzBn1EyBiy87evQOV49jgBRZK\n",
       "yA8A03ynFyD0RRqAWKwL+jeAhSYvQJj5djOYs5ThfQJYyBJh393/amBWAMP8AhDNZYDslgwQj8/F\n",
       "xR9itu7du3C3MBgEgoQYGJjA7uVzQNLHYMAMZDQwMPAqgM28gC7HCZTj+QAW8kaRA5q5BsT+BRZa\n",
       "G4CQ4y4zYJisf5KB2/4P2KGcxx/AwvrzJQ+0MObwgbgTAgCMvTlc/0QYTQAAAABJRU5ErkJggg==\n",
       "\" style=\"display:inline;vertical-align:middle;\" /></a></span></td></tr>\n",
       "</table>"
      ],
      "text/plain": [
       "<proveit._core_.proof._ShowProof at 0x7f94ea690358>"
      ]
     },
     "execution_count": 1,
     "metadata": {},
     "output_type": "execute_result"
    }
   ],
   "source": [
    "import proveit\n",
    "%show_proof"
   ]
  },
  {
   "cell_type": "code",
   "execution_count": null,
   "metadata": {},
   "outputs": [],
   "source": []
  }
 ],
 "metadata": {
  "kernelspec": {
   "display_name": "Python 3",
   "language": "python",
   "name": "python3"
  }
 },
 "nbformat": 4,
 "nbformat_minor": 0
}
