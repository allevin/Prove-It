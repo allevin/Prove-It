{
 "cells": [
  {
   "cell_type": "markdown",
   "metadata": {},
   "source": [
    "Theorem Dependencies\n",
    "=======================\n",
    "\n",
    "## <a class=\"ProveItLink\" href=\"../../_context_.ipynb\">proveit.logic.boolean</a>.<a class=\"ProveItLink\" href=\"../../_theorems_.ipynb#foldForallOverBool\">foldForallOverBool</a> \n",
    "***see <a class=\"ProveItLink\" href=\"../../_proofs_/foldForallOverBool.ipynb\">proof</a>***"
   ]
  },
  {
   "cell_type": "code",
   "execution_count": 1,
   "metadata": {},
   "outputs": [],
   "source": [
    "from proveit.logic.boolean._theorems_ import foldForallOverBool"
   ]
  },
  {
   "cell_type": "code",
   "execution_count": 2,
   "metadata": {},
   "outputs": [
    {
     "data": {
      "text/html": [
       "<h3>Unproven theorems required (directly or indirectly) to prove foldForallOverBool</h3>"
      ],
      "text/plain": [
       "<IPython.core.display.HTML object>"
      ]
     },
     "metadata": {},
     "output_type": "display_data"
    },
    {
     "data": {
      "text/html": [
       "<dl>"
      ],
      "text/plain": [
       "<IPython.core.display.HTML object>"
      ]
     },
     "metadata": {},
     "output_type": "display_data"
    },
    {
     "data": {
      "text/html": [
       "<dt><a class=\"ProveItLink\" href=\"../../../set_theory/enumeration/_proofs_/fold.ipynb\">proveit.logic.set_theory.enumeration.fold</a></dt><dd><a class=\"ProveItLink\" href=\"../../../set_theory/enumeration/__pv_it/3aa8bf4e48526acf363e6a1116de77e021c48e6b0/expr.ipynb\"><img src=\"data:image/png;base64,iVBORw0KGgoAAAANSUhEUgAAAeAAAAAZBAMAAAAbEODDAAAAMFBMVEX///8QEBC6urrMzMxUVFRm\n",
       "ZmZERETc3NwyMjKqqqp2dnaIiIiYmJgiIiLu7u4AAAAU9Wx4AAAAAXRSTlMAQObYZgAABXxJREFU\n",
       "WMPdmH9oG2UYx5/kklySu9yiojKdNLCBgogRhc0Naazg+oeu+8PhjzEWFdKCDg8cbadII/jrj67L\n",
       "P8M/9ofpYNhajBE7pWPYaPWfDtYNREcx5QpahlpbNm3UVuvzPu8l915yF3c4Ce6FXO597nt37+d9\n",
       "n/d5n3sB3MuBsg7XVvGXZ5tdPgfXXjn4fwX+suRBLL2nW8BGM2Ct9U5YdDQv5j09RdqIh885MA3j\n",
       "GRfgGPtTiy0Evs/ZPOnxMU/gL5gk4FFWH3IBjubwL2y0ENi5ZTDs8TGkzxJwLx7ltAswXehtIa9S\n",
       "vIrA0wTMxi+YcwtarIOfbCGwz+ZdPx4uX/gXwPMErL7b1/eKa5Se7uvra2WwvsMWegYNEWBkE0C5\n",
       "6d2WgoBDOVqWVjKZWVfgDZnMgbzXVr7oZIx4EFvap/D30vihk+TZvYY4YtHdbXpkvVk7BMUwrxPw\n",
       "QwDdoHUZjsCBJISuPN1K0FF27CHJud8cxZZ2EEDLq9/6yMu6bVF3Xl7XgysgpV2bwxWENkP9mCXg\n",
       "LaDhyV1cs21PQrnRsID9Kbh45UPL3x1yvnjc0Rpqrr0exwWU5QhbUTQLTUL7juhvEFuVHnOfcVxB\n",
       "aOHdbE2PE3AMFMxaTuADT+4pqekCFMRM6xyc9gp8zPkidhxzzFrY5ZVjblpeLmGzIMCf67+tXOZB\n",
       "S3qQdYBvFZYuQ6RJiOGKE+y0BxmlZQJWSjGDfOfj23821DNBO/BpmPMK3O18EWfHBLpwqlrnlW43\n",
       "bQ0Y2807SUpZ+dcNeGivwN3LTYG5AtEgxiaJCaxlWTZTAZWNunr/1qIN+CJ7TXT8TpzpsGUW5htS\n",
       "WNHIgdFxxjrGzSb7H81rm6pLKvpvQBecGSvO4tryy1JCGEhSAqwJaJ34m4nDB9mmwFxRAXMOmy4N\n",
       "3R0IH4cwpZHJwpQNOHQQI1EhkN7IXngEZkqwy/ZM0ygAS1mIGg/7cp1vYSkuhpfVNQgYFA6UhPC1\n",
       "QhUnMZCWl+exSfokKBRWHrFe+z6DyMKRPAem/oD6E65ANDNKqzxowVG8RUnDdg4cje4SgSP7WPQN\n",
       "MyT57RXo0rffbI+yZNxWsoCxsX5yIyqHBtKBijSsU0dg2NlpdRWrOIkHScsLzr93Sk/Dy/yLIWFL\n",
       "JAbiynqCgLU/sbrUcMIVSrpuWaIpEirCA5lMpqgm5bNzts/DW9lhAzmi8jtcB/BNXfLHjKGkBRxJ\n",
       "0Qyppfk5XxxiHBiOW1OYV5zEzwrAGGEXTv0wxvtTfj0pAkfOf71ucOA2fP48vl27CcwTZuGKULEK\n",
       "HE5wYBWH33cvfMdHGDZ/agM+yw73AHtV6C/tlwZgMvoEl/an2QyRoIe8FF4wllIEzOwLQWFRZxUn\n",
       "cZxreZy1JQGRTjG13Ay4DHOX9jfkCmQhBaLZUktelhQeThBYLdRvAEjLI5CX34TAcnCVAeNpvyEP\n",
       "sYNp7BWAMba0R7PR6kO6YH+RgFUMlNEvcJyG+N1UcRCzDxa1mnmoedfcGHOogYoJrDYImIUrEM0E\n",
       "HhOAA6OgPcNyVzyk6oG1546eMqQ1kA+/epkB42m7LlXYwTROi1F6DhYm9tZ6rf9CW5KAg+hQGt7P\n",
       "b6zwioOYMQYT//B5+BnOpT/k8wmQR34tugFzRWDU/B7WsnVbPFGcw022eFT4XscZxlxarTd2iMAT\n",
       "tij+OJv3DJhWAZvr6Y7iQMLUNtuDWsSW7isXxCTGXshSU7DMjLuwhz2trTBZ2p+AHbfk8LTOOCdE\n",
       "aViwxbS14CWQPhx1S8AaxbGfRK3s8kE8nfO8p/WRx028EvT37Kye1hn36gJwRExO5DdeM0c15fiO\n",
       "RnHwEzftf75rWfa6L222c8rxW81lo2jKg/Yq7Et/9TcQlOmHuk717gAAAABJRU5ErkJggg==\n",
       "\" style=\"display:inline;vertical-align:middle;\" /></a></dd>"
      ],
      "text/plain": [
       "<IPython.core.display.HTML object>"
      ]
     },
     "metadata": {},
     "output_type": "display_data"
    },
    {
     "data": {
      "text/html": [
       "<dt><a class=\"ProveItLink\" href=\"../../../set_theory/enumeration/_proofs_/unfold.ipynb\">proveit.logic.set_theory.enumeration.unfold</a></dt><dd><a class=\"ProveItLink\" href=\"../../../set_theory/enumeration/__pv_it/602c0ffe74b2f7b1a62bdd6e6c39afe7a40ac0910/expr.ipynb\"><img src=\"data:image/png;base64,iVBORw0KGgoAAAANSUhEUgAAAgAAAAAZBAMAAAC1EIuzAAAAMFBMVEX///8QEBC6urrMzMxUVFRm\n",
       "ZmZERETc3NwyMjKqqqp2dnaIiIiYmJgiIiLu7u4AAAAU9Wx4AAAAAXRSTlMAQObYZgAABbtJREFU\n",
       "WMPtWX1oG2UYf5JLcu3d9RaFOdTNRjZwOMSI2s5NTWlhBWHrQIofdTTsj0wpYycUV5XZTKbdH9oG\n",
       "pDiQsfjHdLMjZjgFP1gPRRSHtgOpUki9go6huGarNHOti+/XXS+X9y7JCCrDB34vl/e599d7f/e8\n",
       "z/u8VwB3253T4Po2f27ayz0J17/1/y+A4SWA8Q8+ygYGL1MitbB52OcMSADyms+4CODhrLcJbRTe\n",
       "9mgNbF4WjFIgAY7j38MuAng4620NBkWFu0hL4kAoT2mkjZpsnpZk6IfnUCvGXQTwcNbbPmWosAbS\n",
       "uO0A7s0BPHc5C9UwfcPQT7QKplwE8HDW225j8DY1jNsW3MyUxz1+VU0GVMM0y9APyrt79+5zS4Ie\n",
       "znrvyEkKnkn7dWhiW9IzJMBRfdK4vfzGIYRRk41nx1YD5MhVKEWBtsGFRGLadRt0d9bZgmkKcazz\n",
       "rR6H76ivAEfy7Bo3ePINnCJtlIngxiRtb9Yai+ySop8sqF2gdhlcAYizanNuUuKJCgPu1K3splP8\n",
       "Ct/qa3DH4wexHSBhP1iA3jgN/EPAwr+FQ4fCnyyDEqYgITqIt4VZsagFF8hcG5MUSIB1oKKLuyjF\n",
       "xu6IvNJYFoA6qzVnuny2YindbV74IhRpGIc3HEs7+34SfsrevxX/uN3MmO0cNpQAAxGTjcO0WboM\n",
       "TYtkrv4wBRKgCWSdhJb6YbeuxDOQsUUAdV6DAL91P2W+Li+z7lgRoTBgS/ldzVm1GIXD+DJGX7XL\n",
       "e5mE8xYbj8m3CHPzZBkJeQokgKzjxPkawEd3XDCUM8ESAaizdgHknS9duCYBAG4tz+5FzY9Wrk2A\n",
       "YErivpcn4ITFxmOKFeDuPJ6rXQA1eR/qKICC06ryQGvWLgB1jrWfQlusf2taXV3GuW4aZnW7ANKp\n",
       "DR3wpTU9u798kCWAL0UB4jyouGNHDtsU2fwvAopdKgBdAmKyiavnADu/2JmChChHnm0iDGg5FUqX\n",
       "AOxCy0kI0yJLiWa+sAtAnJKxBTP+3pBXliBQGhHq5AhMlAiQCcRvhqQpAPNvcxlkCRDSKb6S83Da\n",
       "Wf1choYrTICvaVcHrc9Vq6FPFXgwa7HxmCaSMJIWcC2hJCmwAKM41OOwiQogSdvsAmCnnwQNPD8Y\n",
       "DxSEt0sTm/jmAnRpG/VlASIoBQukYINHTP+mVS6DZjVrhyJoXAqFxaxzM7kI45eYAEdpVwstg+Ym\n",
       "WaP+RRfLbsNk4zINhuViRI6XboPgQ7eFsvBQIpHIKlHxuxm7AD7CUSC/x1O+MDQ5Mrv8J9wAoagt\n",
       "B6zQQJhKJPpgfZvphx9cBvlXmoXQJIHal3nvs7LIPrxmz1UmwMts16Rl0GycNepNtP8Vi43L1Hh2\n",
       "qmiE8JQaIhRYAAWp5rsXfqYRAGtP2wXATrRAyMljjzHXViZA6Kr6B/jsSfAeiKr0MPak6XcKYA2y\n",
       "IgBWMfCqxCguA4gAtBRGT+SSmh+2sXFsLQQX8FztpTC1ORkCGhVAyTg/iMSkpAQDGnRBbxYLIA7B\n",
       "gCEO42YIAvngIjk0MQGE/DG0BXdaSZD4sQADGh0ybB+0vux0wrEjeVTAUAGkbHX7EZ8JVYGopkJz\n",
       "RXmdwRQgcBzUnfiBUNPmFODcxz0ZiOkw8GNzFAsgLEFMEwq4WQLx9f3z5t/DAqh9o58YcC5iCkD8\n",
       "WICYTocU7IMOVXMcHk/vuxHghRFU2J6v4XDNKZSuiGcjeK6kjFCTjk9iEsoBHp/EdPUxvJrxElCW\n",
       "EzT8oqHE0F5WCL2DcgCZHvGTJaBzBi0LILZR8M4JuWlzPp1VCuDCtCPHwhuHOwn56r8JCpq8FLwE\n",
       "wkmkX6vV2wrjem8EZnRuKYynR/ybb0khAs4gW6n0IoOXydFqa7IKTB8w1CCAAuKrB9gclgsbtC6e\n",
       "Rm+lR3M9CxA/JeAM6v5PfxXO1fp/AWfciWOVPl3q/+70/bnv/wYKKvTuUvtnHwAAAABJRU5ErkJg\n",
       "gg==\n",
       "\" style=\"display:inline;vertical-align:middle;\" /></a></dd>"
      ],
      "text/plain": [
       "<IPython.core.display.HTML object>"
      ]
     },
     "metadata": {},
     "output_type": "display_data"
    },
    {
     "data": {
      "text/html": [
       "<dt><a class=\"ProveItLink\" href=\"../../../../number/numeral/deci/_proofs_/add_1_1.ipynb\">proveit.number.numeral.deci.add_1_1</a></dt><dd><a class=\"ProveItLink\" href=\"../../../../number/numeral/deci/__pv_it/10ea9a44c639fcc49e957d670ca706739b30851d0/expr.ipynb\"><img src=\"data:image/png;base64,iVBORw0KGgoAAAANSUhEUgAAAGEAAAAVBAMAAACkm51HAAAAMFBMVEX////c3NwiIiJERESqqqqY\n",
       "mJh2dnZmZmYQEBDu7u4yMjJUVFTMzMyIiIi6uroAAAAs73DqAAAAAXRSTlMAQObYZgAAASJJREFU\n",
       "OMtjYCAd8F3AIRGHS8dpIGaegC5qycDAfgBdkLF88QMgtZKBgdMeXcfkn0BiAboOaQbeLwwMvBcY\n",
       "OHfvh+mYCKFm7wbpCEPXsZOBQZ+BgQOk+D5Mhy+U5gXpmIGuo2MCw/4HDK8YcOpgdkDTsX4CQ/0D\n",
       "hjLcOtgKMMNJfwLDUtw6WMBeZ18FBhvA4jzfGBj6cOvga8CwgsuAgeEfbh08HzB0FDOg6KhatUpj\n",
       "1arVeHTwgtzWQshV7EpgYABiuzMwCjCY4tbBih7pPAUMrAIM6SSErlBaWhEDwyMgq7x/eQCKDvaK\n",
       "X6XAgHmAHhn//38CphIBZDFfZM4M7ImdNQGZ9xaZk4sjf6zElXE4F+CQkMalg1sAhwQjrlx7B7sw\n",
       "AEBiXJeAxxXvAAAAAElFTkSuQmCC\n",
       "\" style=\"display:inline;vertical-align:middle;\" /></a></dd>"
      ],
      "text/plain": [
       "<IPython.core.display.HTML object>"
      ]
     },
     "metadata": {},
     "output_type": "display_data"
    },
    {
     "data": {
      "text/html": [
       "<dt><a class=\"ProveItLink\" href=\"../../../../number/numeral/deci/_proofs_/nat2.ipynb\">proveit.number.numeral.deci.nat2</a></dt><dd><a class=\"ProveItLink\" href=\"../../../../number/numeral/deci/__pv_it/7c3551d04e9dac6e67c114d0247d27a803d94be00/expr.ipynb\"><img src=\"data:image/png;base64,iVBORw0KGgoAAAANSUhEUgAAADIAAAAPBAMAAABU9YHxAAAAMFBMVEX///+YmJh2dnbMzMwQEBAi\n",
       "IiLu7u6qqqqIiIhUVFS6urpEREQyMjJmZmbc3NwAAACOMKdoAAAAAXRSTlMAQObYZgAAAN1JREFU\n",
       "GNNj4Lt7egEDMmA7v/sYA298OMNLBo7vKDIM3ALWDAz8DAzTGBjiUWU4gzkaGFgYGFwSGOaDjWPr\n",
       "CQ09AJZZkzAZJHM+geE+WMZGDKbHeEJOAguYGZ8AJPi2wU0zqGDeAJZh/gS29wFChneBBFiGZwOI\n",
       "zEa4wIBhGqcJiHUbzF8SGgpzgQFDJtsRIINjAljGElkPswJITy0DH8iKVGQZBnFuoP0XGBhBMpwC\n",
       "yDJMrxkYniopXQV7NAoeOiDv3QF65v//r2CBN5chElznvYFkDnJ4VR6FuA0KAHkWNBgmUR4YAAAA\n",
       "AElFTkSuQmCC\n",
       "\" style=\"display:inline;vertical-align:middle;\" /></a></dd>"
      ],
      "text/plain": [
       "<IPython.core.display.HTML object>"
      ]
     },
     "metadata": {},
     "output_type": "display_data"
    },
    {
     "data": {
      "text/html": [
       "</dl>"
      ],
      "text/plain": [
       "<IPython.core.display.HTML object>"
      ]
     },
     "metadata": {},
     "output_type": "display_data"
    },
    {
     "data": {
      "text/html": [
       "<h3>Axioms required (directly or indirectly) to prove foldForallOverBool</h3>"
      ],
      "text/plain": [
       "<IPython.core.display.HTML object>"
      ]
     },
     "metadata": {},
     "output_type": "display_data"
    },
    {
     "data": {
      "text/html": [
       "<dl>"
      ],
      "text/plain": [
       "<IPython.core.display.HTML object>"
      ]
     },
     "metadata": {},
     "output_type": "display_data"
    },
    {
     "data": {
      "text/html": [
       "<dt><a class=\"ProveItLink\" href=\"../../_axioms_.ipynb#boolsDef\">proveit.logic.boolean.boolsDef</a></dt><dd><a class=\"ProveItLink\" href=\"../c0a9a9ba48c75637a24f44e2198ce7c84ad8105e0/expr.ipynb\"><img src=\"data:image/png;base64,iVBORw0KGgoAAAANSUhEUgAAAGYAAAAVBAMAAABGR4Y+AAAAMFBMVEX///9mZmbMzMzc3NxUVFSY\n",
       "mJju7u6IiIi6urqqqqoiIiIQEBBEREQyMjJ2dnYAAAAQvcRZAAAAAXRSTlMAQObYZgAAAPFJREFU\n",
       "OMtjYMAOWEWxi+s9ZsAF2NbhktGewMDw9s/922smoMuwf2BgYFwFBgdgYuZgkvECkDjQznbtHboe\n",
       "vg1gikkASUwRIXOgnaGCl3Q9U1kSSLfHhmR7mJYeI1VP1/rfBSCe7F0QuIIIHax6WD9A3FY+ByMW\n",
       "GnDpYbgI0cPD8QBVi8omBpx6eK5C9DAcQLOnWwGnnnUMSHqkwNG+BizBQtA/GG5j4FuApCcBW/wE\n",
       "1uALa7Zf6HqAafTUlgm49IDsZ9tvAHb4arDDoTJYAIoMhwEuGdx6WBmI0sOKUw80hWDLp8uROAVY\n",
       "UghWi17iLg8AeW5exuSYeDQAAAAASUVORK5CYII=\n",
       "\" style=\"display:inline;vertical-align:middle;\" /></a></dd>"
      ],
      "text/plain": [
       "<IPython.core.display.HTML object>"
      ]
     },
     "metadata": {},
     "output_type": "display_data"
    },
    {
     "data": {
      "text/html": [
       "<dt><a class=\"ProveItLink\" href=\"../../disjunction/_axioms_.ipynb#leftInBool\">proveit.logic.boolean.disjunction.leftInBool</a></dt><dd><a class=\"ProveItLink\" href=\"../../disjunction/__pv_it/42912f9c1ccc206b42f4708248a5367e2ec89beb0/expr.ipynb\"><img src=\"data:image/png;base64,iVBORw0KGgoAAAANSUhEUgAAANQAAAAXBAMAAACBjHwxAAAAMFBMVEX///8QEBC6urrMzMxUVFRm\n",
       "ZmZERETc3NwyMjKqqqp2dnaIiIiYmJgiIiLu7u4AAAAU9Wx4AAAAAXRSTlMAQObYZgAAA2RJREFU\n",
       "SMe9ll9IU1Ecx7+7+3P13u26h6BeiglSD1buQSiKcJSoD4ELXb4UraJJULoHUSqkFYgEpXtICfJh\n",
       "CNXqQZakEHtoQYUV0XowopT2YCGEZYmz0KzfOfeue93WHmJ04Z7f+Xd/n3N+v9/5nQv8vydVNE2V\n",
       "hQbtLiDJKs+LQDJ7VJFc2x1N9194HQaagNus3VcEVIlqn5L5rH5/pdJ3h/qBTmqJ/iKg4qp4sZqD\n",
       "wihx7BG+GGu4CKhNvBQHltTmpyvTbzKoIUsKihP2W11d3UUgCSEuZPmb6rLLKcOumOlOAulA4G0B\n",
       "FaI7t680zzxrhIvtpStcdqZ0A5qn2kjeAPYBrbyvl5eDi746rl1QZ57lvg5mIO2+5uMwR/JERYKV\n",
       "isu8zJutuq+2vf8aI3kNqIDC925Xd253Qnayik2byYqXrsyHD4G7wLDWmohGD2lVk0tdn7jIkX5j\n",
       "WMQHSZYDDsh8QR/UnVs9EJZ0VClbkHIkASbpbQaqgphlnWO+hCwpo9oqyrisrq1Nc+TG6Wk9LGwC\n",
       "maGGHJlwcLuOTPIRRwzWpI6yMdNJc17cJ7fRIX0HHAYsZOLxLZ9TsoSRhBFFxQbDec6gmG0IpYSq\n",
       "+WAswEe+uDER1FEmVuy2+VnTEoSyADv5VI7B7mXxJgljmv9NYS1eXnEDJnNQ5cyDe1mPha2Wnqr4\n",
       "vTboqJ2s8NA+ZRc6yDDL8TrSLXjY6SeU9cCUptHGdneG3n7e3L8GxQw4QfUBvoKneKDmLHJ9SkdV\n",
       "sEgJy/PM0fVkyhDsdFbNIeziKAlNMVWj5IUaX+386zmXAfV4XA12mLjnJ33qnBNkw7COuso+8x2k\n",
       "bDPMXGXzQvnBUXsCgUCMUBEt8IUkxKPfg3jyq4cfxx73n3R7eh1TeJEtmiGsQdTwQVJU5dZRm+lt\n",
       "gXkB+EhTUBaGQHXBjxltVxkU1mcd8wYtArVHcWZqW0lNQuyFuApx0uCrOdJLXqCDID2i5vkUur08\n",
       "d1qCKqpFMyCeFU5cUmbeTBpi45R5BdFFX0PYgHKklEY/On4mWPBB6vc1X2I2cEE5xo/wzVNZl8jf\n",
       "ntnsu9JQV1GynvSDhizElkm+WpMsPQVR9VntHTkoJe9Vdj1f57lCJDk7aydyUBjK96GnuP83Fs2m\n",
       "eS4R6Z/+fX4DaXba1HhLEuQAAAAASUVORK5CYII=\n",
       "\" style=\"display:inline;vertical-align:middle;\" /></a></dd>"
      ],
      "text/plain": [
       "<IPython.core.display.HTML object>"
      ]
     },
     "metadata": {},
     "output_type": "display_data"
    },
    {
     "data": {
      "text/html": [
       "<dt><a class=\"ProveItLink\" href=\"../../disjunction/_axioms_.ipynb#orFF\">proveit.logic.boolean.disjunction.orFF</a></dt><dd><a class=\"ProveItLink\" href=\"../../disjunction/__pv_it/0ed976e03d3d7070b42aaf5485813e9ab228404b0/expr.ipynb\"><img src=\"data:image/png;base64,iVBORw0KGgoAAAANSUhEUgAAAHAAAAAVBAMAAABs93eRAAAAMFBMVEX////c3NwiIiJERESqqqqY\n",
       "mJh2dnZmZmYQEBDu7u4yMjJUVFTMzMyIiIi6uroAAAAs73DqAAAAAXRSTlMAQObYZgAAAQ5JREFU\n",
       "OMtjYCAb8F3AJxuHW+o0iGDEolsWRLAfYMAhw7ASRPAUQIQegDkQ9nEwuQCLRrAM7wVkjXtAxF1k\n",
       "jWG4NHJMQNZ4GERoImucgUvjKwZkjVwCDAwsBcgamR1waCxD0QjSBNKM0MhWgEPjUhSNIGceRpZm\n",
       "YAGHTtUqEFiNLNOHqhEYMPtQNPI14LDxH6pGJgbOBSgaeT4Qp5HdgS2AOI0tqBoZFzAxYHFqkRII\n",
       "KCPLmKJqZNgTi6qRdQEOG9PRNB7WRNWIMzoeAf0FdEWTkpIBJAlAFALdpgF2G9cDNF0wGQ4BVHGe\n",
       "Caj8GbhyFWsC/uyai1NmJV59nAtwSknj1cgtgFOKEW/RcQeXBADdEUd5x52DOAAAAABJRU5ErkJg\n",
       "gg==\n",
       "\" style=\"display:inline;vertical-align:middle;\" /></a></dd>"
      ],
      "text/plain": [
       "<IPython.core.display.HTML object>"
      ]
     },
     "metadata": {},
     "output_type": "display_data"
    },
    {
     "data": {
      "text/html": [
       "<dt><a class=\"ProveItLink\" href=\"../../disjunction/_axioms_.ipynb#orTF\">proveit.logic.boolean.disjunction.orTF</a></dt><dd><a class=\"ProveItLink\" href=\"../../disjunction/__pv_it/7a5641a953257265a1a49dd035aaef79e0c1ecb40/expr.ipynb\"><img src=\"data:image/png;base64,iVBORw0KGgoAAAANSUhEUgAAAHAAAAAVBAMAAABs93eRAAAAMFBMVEX////c3NwiIiJERESqqqqY\n",
       "mJh2dnZmZmYQEBDu7u4yMjJUVFTMzMyIiIi6uroAAAAs73DqAAAAAXRSTlMAQObYZgAAAQ5JREFU\n",
       "OMtjYCAb8F3AJxuHW+o0A7sSGBigSciCCPYD6OqLwIqVGRhWgng8BRDRB2AOhH0cTC7AYhdYhvcC\n",
       "ssY9IOIussYwXBo5JiBrPAwiNJE1zsCl8RUDskYuAQYGlgJkjcwOODSWoWgEaQJpRmhkK8ChcSmK\n",
       "RpAzDyNLM7CAQ6dqFQisRpbpQ9UIDJh9KBr5GnDY+A9VIxMD5wIUjTwfiNPI7sAWQJzGFlSNjAuY\n",
       "GLA4FZ5cEDKmqBoZ9sSiamRdgMPGdDSNhzVRNeKMjkcQjQkwQa4CWFLWALuN6wGmxmPgJCeAKsgz\n",
       "AZU/A1euYk3An11zccqsxKuPcwFOKWm8GrkFcEox4i067uCSAABseUdXOQ8BeQAAAABJRU5ErkJg\n",
       "gg==\n",
       "\" style=\"display:inline;vertical-align:middle;\" /></a></dd>"
      ],
      "text/plain": [
       "<IPython.core.display.HTML object>"
      ]
     },
     "metadata": {},
     "output_type": "display_data"
    },
    {
     "data": {
      "text/html": [
       "<dt><a class=\"ProveItLink\" href=\"../../disjunction/_axioms_.ipynb#rightInBool\">proveit.logic.boolean.disjunction.rightInBool</a></dt><dd><a class=\"ProveItLink\" href=\"../../disjunction/__pv_it/ac47f413fc43974c8c1ca8b88e9de529306917c20/expr.ipynb\"><img src=\"data:image/png;base64,iVBORw0KGgoAAAANSUhEUgAAANUAAAAXBAMAAABuThcPAAAAMFBMVEX///8QEBC6urrMzMxUVFRm\n",
       "ZmZERETc3NwyMjKqqqp2dnaIiIiYmJgiIiLu7u4AAAAU9Wx4AAAAAXRSTlMAQObYZgAAAzFJREFU\n",
       "SMe9Vk1oE0EU/rL52XZ3u+1NQSo5FAsqmIOgCKVBS60gtiKxBxVXwVRBNIfSiiIGQerBnx7Uix6C\n",
       "B40oZalWkB66epCqB9tDQaSBFKoUpSrSH5VifTM7+5M05iDBgZ3svG/yvnnfvDezwH9s+Yp52lAW\n",
       "fUHPGHt5UwGqYBzQ2udaWi8WmJXrx3/UnwDCMeABM1yrAFcVUyhgAIejBfaIZM58ygBpoIeGslEB\n",
       "rmHWNZv0xIu51CgRvbaXE+6vANda1o2kgLcZPv58NfdOcFVbe4Apkvh+b+/5ClBJadYfoWecp1vw\n",
       "St6Lq5GEi1BAC8nk+zI+5NhKW3WJeWEezRxw5hQf9+Q9DZte0kDpAHYAXdzYx/tb84lW7l6yp571\n",
       "YQ4czJRIDYsFMzc8NGmPu7z9yi2vYQukwBug8/C17xzS6qDW8Tn2VMOHufBdMRrNZg+K1wDLPnUR\n",
       "mOWpoRv+3HhGI4m81kBlS8KHJVuLOKRFj6vaFJjKXDnwDPM2lLBURR8UGV7LfiPkT+V+pPpczs0N\n",
       "GOsp5m+EWTVc2oEJ/p8aE+ExjyuSEphKW9vtwCFS+Wnjl7yqYMDycdWyev7lVLYbF4yIzaWnN3PQ\n",
       "THLoawyjKY8r4GIkw04HVk1oHSxQRRoSORBgddNMxKGfXMOxYi6mIbq2M1MIhzi0afiJnUg211YX\n",
       "G4Qcd2ApjioGqOG9k45LS5TXBb772F3ARRpqzH6TL+EVRjiUBZ7nPa4GF/uIUMqBg2ls41wK9pni\n",
       "3Ouwyyu42g50NupxaQcMMSHAZusTidN80jHSqd/juuFiSrTbhYmrKZlMmsSVEfkv0Yr3L7e0XBb7\n",
       "J1+KOWfvwvguVhSMXGMc4RSaOUhqb4p5XOtcTDc6XVgyMC3icriwqrjg2+w8dNqU+7aRksiS+yD/\n",
       "hjzh269ZBwMe0XYJWMtwQRlXp9CQna1l20PnZXoBcvtkcAnZ+URbv4+L6sHGeAo6cDgK/Siv5Xsn\n",
       "C+6Uvzf7wPA1zX8X8F71rgDZdyCxjaD9Kjg442W5uA7+tmUFl17yartdyniuLNfjYoO1ggt3Sv0x\n",
       "XuGPnpCQtcSdovzbB9EfeYTmUbMVfMAAAAAASUVORK5CYII=\n",
       "\" style=\"display:inline;vertical-align:middle;\" /></a></dd>"
      ],
      "text/plain": [
       "<IPython.core.display.HTML object>"
      ]
     },
     "metadata": {},
     "output_type": "display_data"
    },
    {
     "data": {
      "text/html": [
       "<dt><a class=\"ProveItLink\" href=\"../../_axioms_.ipynb#eqTrueElim\">proveit.logic.boolean.eqTrueElim</a></dt><dd><a class=\"ProveItLink\" href=\"../3e7bd867633eab3d515d0929d36506bc9b5772e10/expr.ipynb\"><img src=\"data:image/png;base64,iVBORw0KGgoAAAANSUhEUgAAAGgAAAAWBAMAAADeGsQjAAAAMFBMVEX///8QEBC6urrMzMxUVFRm\n",
       "ZmZERETc3NwyMjKqqqp2dnaIiIiYmJgiIiLu7u4AAAAU9Wx4AAAAAXRSTlMAQObYZgAAAUpJREFU\n",
       "OMtjeMBABrgAIk6ToIEZqGMliNFHgiaODwwMZUCaPYEETWf/ATUCPcU6gXg97FO/MzDwLC8vryXB\n",
       "Im7uT0DyW1raLRI06XH+AZLODAzpYG47mGSCe7gAmx4+BebfQEqFga8BxOX5BBZlg0mfV4AyWNPS\n",
       "xNKyoBwmBvavQIqXgfsAiPv0D4omvvgDCPMRoWvi4vIN5LMDvOBUse4qiiautwHYNAGtlwAZ2WAC\n",
       "jugNaSiarNkSsGjiBOKLIEa6E4hkYYhF0eTAeoHBowMINiBrqgTifhBjKjj5nWTYj6yJZwL3B0yb\n",
       "wEGWD/INI8gsvquhYA5M09vQsH8YmtgTfxQwHPvfCjIUpJi1gMHeAElTOAPzZ4YMDOehAh0GBv4D\n",
       "CE1MQPYfbKGHDJ58Y2D3vwPXxOefwFDy9wABTQjARk5Opp8mFiLUAADNR1FAr8G4iQAAAABJRU5E\n",
       "rkJggg==\n",
       "\" style=\"display:inline;vertical-align:middle;\" /></a></dd>"
      ],
      "text/plain": [
       "<IPython.core.display.HTML object>"
      ]
     },
     "metadata": {},
     "output_type": "display_data"
    },
    {
     "data": {
      "text/html": [
       "<dt><a class=\"ProveItLink\" href=\"../../_axioms_.ipynb#eqTrueIntro\">proveit.logic.boolean.eqTrueIntro</a></dt><dd><a class=\"ProveItLink\" href=\"../d0cb838f1f1e44deadf0499da151f8dae5a0de4f0/expr.ipynb\"><img src=\"data:image/png;base64,iVBORw0KGgoAAAANSUhEUgAAAIwAAAAXBAMAAAArT7qNAAAAMFBMVEX///8QEBC6urrMzMxUVFRm\n",
       "ZmZERETc3NwyMjKqqqp2dnaIiIiYmJgiIiLu7u4AAAAU9Wx4AAAAAXRSTlMAQObYZgAAAaxJREFU\n",
       "OMtjYKAOeEBYCdMG/PI8CgwMF0CM03iVmUAoW3Rx1rtgkMAQzMCwEiTQh9cYqGw/FinmABDJwcBQ\n",
       "BqTYE/CZwg3xE8/9B7iM4VnAwAGUZJ2AzxhGiPbK+AJcxvAJMPAsLy+vxesnDQi1Yb8CLmMYMhkY\n",
       "vqWl3cJrTBQkuh7MP4DTmKUMDM4MDOlgdjtEOUxFO4zRAyYfMdiDw4i1AwwcUIyZwcCgwsDXAA6n\n",
       "T2ARNlhi+AQzRghMKjDUB+B0jSIDAy8DN9i1T/+gGAPlAgHYPGYXF/8EnMbYA+PzAC84KtZdRTEG\n",
       "yoUZA/QrYwM+Y/gawKmUeUMasjEwLhBIgghgkuAVQEm6aJ5iSHcCsVgYYpGNgXGBIAeUQIHGcHzA\n",
       "6ZoTQDwVnK1OMuxHNgbGhcQmwwuQzD98Ec7ACIpIvquh+Q8QxsC5QKALzDHy7Qw8+T8wo4p5AZhq\n",
       "AkUtSD1rAYO9AcIYOBdkTQGhkoRPAMbSYWDgP4AwBs6FZDwCgAtWID35xsDufwduDIJLuBiBhhwa\n",
       "YMMUKiFkjDtRxrATKES5DYgyhhzAQpYuAAUAaqwIkhhoAAAAAElFTkSuQmCC\n",
       "\" style=\"display:inline;vertical-align:middle;\" /></a></dd>"
      ],
      "text/plain": [
       "<IPython.core.display.HTML object>"
      ]
     },
     "metadata": {},
     "output_type": "display_data"
    },
    {
     "data": {
      "text/html": [
       "<dt><a class=\"ProveItLink\" href=\"../../_axioms_.ipynb#falseNotTrue\">proveit.logic.boolean.falseNotTrue</a></dt><dd><a class=\"ProveItLink\" href=\"../f59624db7a785c6991878af6495d446012e672150/expr.ipynb\"><img src=\"data:image/png;base64,iVBORw0KGgoAAAANSUhEUgAAADoAAAAUCAMAAADrw95cAAAAOVBMVEX///8LCwsYGBgNDQ0oKCju\n",
       "7u6qqqq6urpUVFQyMjJ2dnZEREQQEBAiIiJmZmbMzMyIiIjc3NwAAAAE5KaWAAAAAXRSTlMAQObY\n",
       "ZgAAAIBJREFUOMvFk90OwBAMRrtff1Pz/i+7TCQzdOjNvguR6skhKYBWtP8+9yd5op492iQmFh1S\n",
       "qBR5Jesl0VQ6iJbSXtQZ4KLGDaOoQtblXiXHWpP2oUICF1WegYa5maf33AxY69IetP7SpDeO9FFe\n",
       "jZCC063PtiNwYzcu+YsURLPjAkzNBut5ZocxAAAAAElFTkSuQmCC\n",
       "\" style=\"display:inline;vertical-align:middle;\" /></a></dd>"
      ],
      "text/plain": [
       "<IPython.core.display.HTML object>"
      ]
     },
     "metadata": {},
     "output_type": "display_data"
    },
    {
     "data": {
      "text/html": [
       "<dt><a class=\"ProveItLink\" href=\"../../implication/_axioms_.ipynb#impliesFalseDef\">proveit.logic.boolean.implication.impliesFalseDef</a></dt><dd><a class=\"ProveItLink\" href=\"../../implication/__pv_it/0360c7ad947a096705c0fcf3db690f3dc937688f0/expr.ipynb\"><img src=\"data:image/png;base64,iVBORw0KGgoAAAANSUhEUgAAAOAAAAAVBAMAAACtXP94AAAAMFBMVEX///8QEBC6urrMzMxUVFRm\n",
       "ZmZERETc3NwyMjKqqqp2dnaIiIiYmJgiIiLu7u4AAAAU9Wx4AAAAAXRSTlMAQObYZgAAAnBJREFU\n",
       "SMe9Vc9rE0EUfukaE5PNtvTWQzGVHgQVcvAmkqCFHCtILuIvPGwRheYgrSJqCJRKkOql0Fv3EsWL\n",
       "7H/QvQgVL17agyguohKoiBQsHkR8MzubeTO7sxUPPvh2h/3mm2923psZgP8dYSY74ksoYVfNIjPH\n",
       "mDes8drU4ySBjNOI86n9C3xi6ZxQPWftFZPhCoGMx4hian/rHBg5oVpg87pq8Cv7EmRhPmAebC8t\n",
       "LZEh5RKqIr7yTwyGuVBCxp0rbQBnTF0Haki5hMp+trh4z7SiRwlk+BusKq7LD9OaIeWSqj3XfWsy\n",
       "vEAgKzdcD/DVl19KvmbYT6n3oeoswBz/tJzs9YhgGB+hzgzWWDv/nscPzTDiHvJo6KppcDo8qbsi\n",
       "ub3eUiD04xLR0KwaqvCADTtF5nCoqxpOJecuVRUo8/E//8LHTusi+N7OEdFrl4CPh9O1ZmZmWVXX\n",
       "6XCDccWwntwvUlUOKrwGX2xh+9r9b2hY+pphOIJF29EGtXrhPoZE5XT4MWL5LsBLXk7escui2wRB\n",
       "bIhbqDIWL5vI4XaYsqSCi/Y4Vc2dYV8OwCUAnky/NRnn8CaBMCygtPgd25skhQ2taDYTRx5VrfLj\n",
       "9BVsgOVFf5g/Jfr1CXjUYIDPg7/V0r8N+20LRZVj5epsteZDa9t1b7AclkS/EwRRLBxeBnv+J47b\n",
       "lcNF24qv4SRfw67mp6psloB8G+o1pxH94dAw15bQgh5ftQzOxBwHGA2gKZb0bnzgehJalHzzhWjm\n",
       "hsynPSjMvoMvVb7x3SD7eoqzYorB3zNPMYc0bhGo0cwwbP4DQ27wGOpNWTOLzBwyfwCulsldcIJz\n",
       "nAAAAABJRU5ErkJggg==\n",
       "\" style=\"display:inline;vertical-align:middle;\" /></a></dd>"
      ],
      "text/plain": [
       "<IPython.core.display.HTML object>"
      ]
     },
     "metadata": {},
     "output_type": "display_data"
    },
    {
     "data": {
      "text/html": [
       "<dt><a class=\"ProveItLink\" href=\"../../negation/_axioms_.ipynb#negationElim\">proveit.logic.boolean.negation.negationElim</a></dt><dd><a class=\"ProveItLink\" href=\"../../negation/__pv_it/3b08940eb52ec7364a09d58733ea5eec05fbe9620/expr.ipynb\"><img src=\"data:image/png;base64,iVBORw0KGgoAAAANSUhEUgAAAJcAAAAXBAMAAAD0AcCSAAAAMFBMVEX///8QEBC6urrMzMxUVFRm\n",
       "ZmZERETc3NwyMjKqqqp2dnaIiIiYmJgiIiLu7u4AAAAU9Wx4AAAAAXRSTlMAQObYZgAAAbxJREFU\n",
       "OMtjYKAmeECsQqYN+OUPAfEFEOM0EYaZQChbLFLVIILVgIFhJYjRR4RhUDX9WKRMwWQDA0MZkGJP\n",
       "IGwWN8SXPPcf4DLsFAMDB1CSdQJhwxghhlTGF+Ay7CHQquXl5bVE+FIDQm3Yr4DLMDagk76lpd0i\n",
       "wrAoSJQ+mH8Al2FcAQwMzgwM6WBOO0Q5qrp2GKMHTD5isAeHXUQHCLSgGMYJjAEVBr4GcNB+gjgW\n",
       "xSyoIBAIgUkFhvoAXC5jEmBg4GXgBrv86R8shkEFgQBsKrOLi38CLsOYPwDj/AAvOKLWXcViGFQQ\n",
       "ZhgwDBgb8BnG1wBO28wb0jANgwkCgSSIAMYXrwCIEXsXBK5heJMh3QnEZGGIxTQMJggEOaDEDTSM\n",
       "4wMul/GA3DwVnD1PMuxHMmxZWlpaA0IQCJYC8QuQ/D98SYOBERTZfFdD8x+guiwBIQgEusCcJ9/O\n",
       "wJP/Ay06gT6+CPYxByg584DUsxYw2BugGwYXBFlZQChZP4SzdBgY+A+gGwYXBFm5gJBhq2GMJ98Y\n",
       "2P3voBpmgBAkppjiw5Jm2HApLiFgGEsBCYaxEyi2NzOQYBg5gIUCvQCemG+1sUJnVwAAAABJRU5E\n",
       "rkJggg==\n",
       "\" style=\"display:inline;vertical-align:middle;\" /></a></dd>"
      ],
      "text/plain": [
       "<IPython.core.display.HTML object>"
      ]
     },
     "metadata": {},
     "output_type": "display_data"
    },
    {
     "data": {
      "text/html": [
       "<dt><a class=\"ProveItLink\" href=\"../../negation/_axioms_.ipynb#negationIntro\">proveit.logic.boolean.negation.negationIntro</a></dt><dd><a class=\"ProveItLink\" href=\"../../negation/__pv_it/799eb3b565b99e60491a24b404f1db01d8e6476d0/expr.ipynb\"><img src=\"data:image/png;base64,iVBORw0KGgoAAAANSUhEUgAAAIUAAAAXBAMAAADXWpFHAAAAMFBMVEX///8QEBC6urrMzMxUVFRm\n",
       "ZmZERETc3NwyMjKqqqp2dnaIiIiYmJgiIiLu7u4AAAAU9Wx4AAAAAXRSTlMAQObYZgAAActJREFU\n",
       "OMtjYKACeECacm10gUNAfAHEOE2sEcwOKDygZlYDBoaVIE4fsWZwoDib4wOQaGBgKANS7AnEmrEb\n",
       "hXf2H5A4BTGZdQKxZsghc9infgeSDxkYeJaXl9cSawRTAzKPm/sTkGQDOuBbWtotYs1gXYDM0+P8\n",
       "AyS5AhgYnBkY0sFC7RCr4AFWgCVIDyBx+BSYfwMpTqDbVBj4wC7k+QSWYYMpOa+AUA4Lc0agWOxd\n",
       "ILgFto39K4gSYGDgZeAGm/70D4oZfPEHMM3gh5lrAsIuLt9AiQQYwdwHeMGRvu4qihlcbwMImAFk\n",
       "S0DN4GswAae5DWkoZlizJWDxywSEGZxA6iLULwzpTiBRFoZYFDMcWC8weHQAwQYkM9gOIMyoBFL9\n",
       "oHAEheZUcJY5ybAf2QyeCdwfMN3BBfMfMyQi8h9AxRhBNvFdDc1/gGTG29Cwf5hmMF2Ap9HEHwUM\n",
       "x/63AuMbFEY8IL2sBQz2BkhmhDMwf2bIQPcLgzhmmnkIZ+kAA/0AwgwmIPsPpjtAGQwdrIYxnnxj\n",
       "YPe/AzeDzz+BoeQvNABZ09LE0rKw5X2w0gZMY9nwZhh2B3QRlgJSzWCoRhfYzECyGUQBFtK1AAB+\n",
       "a2tdy7eWbQAAAABJRU5ErkJggg==\n",
       "\" style=\"display:inline;vertical-align:middle;\" /></a></dd>"
      ],
      "text/plain": [
       "<IPython.core.display.HTML object>"
      ]
     },
     "metadata": {},
     "output_type": "display_data"
    },
    {
     "data": {
      "text/html": [
       "<dt><a class=\"ProveItLink\" href=\"../../../equality/_axioms_.ipynb#equalityInBool\">proveit.logic.equality.equalityInBool</a></dt><dd><a class=\"ProveItLink\" href=\"../../../equality/__pv_it/73f6352d4b9c57bd488459471847814cbb959ffb0/expr.ipynb\"><img src=\"data:image/png;base64,iVBORw0KGgoAAAANSUhEUgAAAKYAAAAWBAMAAAC4bPoxAAAAMFBMVEX///8QEBC6urrMzMxUVFRm\n",
       "ZmZERETc3NwyMjKqqqp2dnaIiIiYmJgiIiLu7u4AAAAU9Wx4AAAAAXRSTlMAQObYZgAAAmFJREFU\n",
       "OMu1VT2IE0EU/pJNNsnuZg2ejYVwgoUgwQg2VjlOUFErtRAtXJscgsoWkvMUvSgcWJzxChUL4bYJ\n",
       "/hxKkDOgKW4bQbBJJSIXnCqIh3AqnIWN85dssruDFvrg2535dt6befN+FvgPQlQfkk0BhVjjar7D\n",
       "Bu9iPu6VUMnx0Pzxxp0b7xc4/4TN6zE6dQXfl2yYcHbZ9aecr9JZxomqmE0BtfNexCZeZDmfpRea\n",
       "XoiqJIiAUuyCeK/d7n7o23yYIoy3Hk1PX4tR2SmhlnP8qc2ToXNWBb9RqXyM0TglcWV55mXoCuyG\n",
       "h1mCBp9USeC7tnqRvim/H5iKsTkvYHvWaoLlRvoWlwk6NJLrWAEe8HWBrlP89I3tTvkdsGsxNjcL\n",
       "GDDXc6XRT/vSHVSA7fzMznCM2vfB+TxMP8bmdwEbqUhSkEQTv4Ayr4xt3W4QIz3pcd7080RtkwY/\n",
       "mlCLRPshbWoTw+fU4XDerrFqWZpcph4mW4P82SqB2RKv33SXCz/0SZiFvu+diE3GT03SayMHEjRJ\n",
       "1za5e+SK8wKWuwIz7MccdHq8t3x8dMQm853x9+hWSR5nXC+iJVc0BBb9s7ga9v0EdvuQufR1fMjm\n",
       "m5bUFBf2k/OHcUSuKAr0Xn9ZioSw1z7jAjf5ODNXGvSQC1tYQTLeYq5pBU1k0Fi/Nl2BeHkW1Gbu\n",
       "kIx7qGZRNmoGLrsYo+kctIhImxCS6tg0eoaiwQz43qvTz1H2cbdV+3Ovy3s63eyzwoUQ72fc1GD3\n",
       "SxJRybWP0edBhc1RXnN1L2hFmaaAQszSX/EWPYH3D35xvwHMAqgmkf/s6AAAAABJRU5ErkJggg==\n",
       "\" style=\"display:inline;vertical-align:middle;\" /></a></dd>"
      ],
      "text/plain": [
       "<IPython.core.display.HTML object>"
      ]
     },
     "metadata": {},
     "output_type": "display_data"
    },
    {
     "data": {
      "text/html": [
       "<dt><a class=\"ProveItLink\" href=\"../../../equality/_axioms_.ipynb#equalsReflexivity\">proveit.logic.equality.equalsReflexivity</a></dt><dd><a class=\"ProveItLink\" href=\"../../../equality/__pv_it/97b1dd4e9ed3b749f492ebdad1f4680f58c765fe0/expr.ipynb\"><img src=\"data:image/png;base64,iVBORw0KGgoAAAANSUhEUgAAAGIAAAAVBAMAAABPrCZEAAAAMFBMVEX///8QEBC6urrMzMxUVFRm\n",
       "ZmZERETc3NwyMjKqqqp2dnaIiIiYmJgiIiLu7u4AAAAU9Wx4AAAAAXRSTlMAQObYZgAAAVBJREFU\n",
       "OMtjYCAZPMAQYdqAWzWPAgPDBRDjNLKoCT4LghkYVoLoPmTBPnw6OBgYyoAUewKSGPcGfDp4FjBw\n",
       "AD3COgFJjPEBPh18Agw8y8vLa5HFNPCHVCYDw7e0tFvIQlFAXLWlciu646BiSxkYnBkY0pFleoBW\n",
       "L+C5wwgKRNYOMHBgQIjNYGBQYeBrQNYhxMDAxcD9gdMA1QqYmCIDAy8D9wFkqU9A8xhYEjC8DBWz\n",
       "B4bmAd4HaDqAAYYliCFiQB18DaBIXu20BeoMSRBRbwBOPqx3wQBiIUQM6CqGdCegKx+4MUIjJQcY\n",
       "TQX7GbjRogUmdgLIngoMASZQEEEAMPjmH0hkqEZzE0xsKdx932FSugwMz3a9Wn0ATQdMrAlkH8h+\n",
       "ZgFmmAcLCKQSCLDnauBCpDU8gAsWiM92Rq8jKrW/wCZYgk+HOzZBdjwZhNuAAQCEL1prSIrv2QAA\n",
       "AABJRU5ErkJggg==\n",
       "\" style=\"display:inline;vertical-align:middle;\" /></a></dd>"
      ],
      "text/plain": [
       "<IPython.core.display.HTML object>"
      ]
     },
     "metadata": {},
     "output_type": "display_data"
    },
    {
     "data": {
      "text/html": [
       "<dt><a class=\"ProveItLink\" href=\"../../../equality/_axioms_.ipynb#equalsSymmetry\">proveit.logic.equality.equalsSymmetry</a></dt><dd><a class=\"ProveItLink\" href=\"../../../equality/__pv_it/00337eac3723871d5661da0e358240a663e29ee80/expr.ipynb\"><img src=\"data:image/png;base64,iVBORw0KGgoAAAANSUhEUgAAAN0AAAAWBAMAAAC2xYReAAAAMFBMVEX///8QEBC6urrMzMxUVFRm\n",
       "ZmZERETc3NwyMjKqqqp2dnaIiIiYmJgiIiLu7u4AAAAU9Wx4AAAAAXRSTlMAQObYZgAAAoFJREFU\n",
       "SMe9VjFoFEEU/bd7u5u7vdscppAgyhUWggQVbFJFIkTQRsQiGESrS6HFFmIEUbdQSBFCQK0s3CaI\n",
       "HgkHyoGc6GIjRISrLITA2qTQ5jCghRbOnz+7uZ2dubtGHzzu9r83f/Zm/p85gP+MWCcYLaIO7xWx\n",
       "o4PtyC4+fFQYTgrqYB3PhcxTg+3I5/iwqjCsauIpglxkLB5iZ7zJPpyredltEfXYykU6w+xb9E7W\n",
       "Wl4uxEQ9vuYih4bZGSvPlpbuKOQjgnrY8lsawTA78mej8UUhXyJ66yHck36m0zzzZAGgfF4uiTDV\n",
       "+iFSoB15GmBRMd8KsWz04B0+zy8j7uPXb/ApOghQCqT4WJRqYPHwMhasSIF25GHwVOuwjzhtdaEh\n",
       "SSEb/pAtX03e8nqq9UOkQDuyCm6kmO8HMS604HfuiJjj3daT4uP1VMvYKQXakW5UjfXzwdPY3M2J\n",
       "B7TzCS0DSpHM5wV4ijRnX7HmN9ppD0wKzoPL1+3yNuIzFcwueMl69sULa6kGFg9v88amFMl6wuIs\n",
       "29N4Dt3fx/0T4qWuCz4AWz6lPrg9eMs6Sd52O0q1DCgF2vmQx+wINXg9wt0paAvTuuBFOCZtb+mP\n",
       "XXNain5ggUTLgFIk/QAFrv/i0lk4J0xTgjudK77UT9c2X7zB8q/L/d5NtQwoBdr5kArumFkzqQsm\n",
       "kuL2iQAbI59n+3Vny8beeUaYKQdluOXDhJEUXSXkLHa9SU2S5ggnOEKkaPYP2Xm9sAkzETxqB9n7\n",
       "qBraoXo6b9T7iFKgXR4SOX4x3ewbnKXOBc3PK/q5kKO8bykF2qUhpm+He1cClpkz4AJ8qYjdHmyX\n",
       "hlTYq4T/+O/SX8R3y4z+LqoKAAAAAElFTkSuQmCC\n",
       "\" style=\"display:inline;vertical-align:middle;\" /></a></dd>"
      ],
      "text/plain": [
       "<IPython.core.display.HTML object>"
      ]
     },
     "metadata": {},
     "output_type": "display_data"
    },
    {
     "data": {
      "text/html": [
       "<dt><a class=\"ProveItLink\" href=\"../../../equality/_axioms_.ipynb#equalsTransitivity\">proveit.logic.equality.equalsTransitivity</a></dt><dd><a class=\"ProveItLink\" href=\"../../../equality/__pv_it/15953cfebb497c481d8be77ed0e16c42a27f82610/expr.ipynb\"><img src=\"data:image/png;base64,iVBORw0KGgoAAAANSUhEUgAAANEAAAAXBAMAAABnpbd1AAAAMFBMVEX///8QEBC6urrMzMxUVFRm\n",
       "ZmZERETc3NwyMjKqqqp2dnaIiIiYmJgiIiLu7u4AAAAU9Wx4AAAAAXRSTlMAQObYZgAAAoBJREFU\n",
       "SMe9VUtoE1EUPZOZZvLrJLQLFVFScKFUMcVC3UglhQotSFYiFiGrVqyLQcQoogQRKihF0Lqwm8GN\n",
       "n0AIWAO2ooNQBD+QlYggRBeKuokIdtOF976Zya+daOHhgXDe3Jt55913PwP8N1TlbdXv73pBvwov\n",
       "XssQUg/6+7pSwANezMpQCnW6njxwlkjPylBa6uR85Zyk64YMpe2dnJ+A2L1c7qIMoUC+kzdIwfye\n",
       "nPwgQ6nLojQUDs1PtDv6evQSIhlgBJjyO+aGCsIGvuOtvY0fjl5lXOGlfurxESBMEe+A4Rd3cCNK\n",
       "ShKw8Bw32+wGjMN06ATQjagtQyme5DEwuo7nDDdbDaTTXZWlBGxdJwcZV8nID9KqkF6gNg6UobDs\n",
       "gdnzDaXIQv+IN2+yopZdEoPh/Ve3RRRm/RfdFuH4R8Y74bgj5Oj2MJWm3aqj/M8fcXOA7ellq6FU\n",
       "1LJbNE7wNaO0otIbghwLtN3HvAugHLyM1vCsLaSwBY2aiWthrsJVdp2tl/agLNzfmm4vGfLyqH+u\n",
       "RLN1chPudT3VcXg1mKCKbsX+5TeXhZfCFr4VYR7DuNgy2ZynuOm9pVlaqUECp+vpqMCYLj582p6m\n",
       "TOwnHSbEO8Y4M2pCZXMPepn2YahJaQCpoHNXSlJJiYJWPIuaUr1zbPrLNHIwHMlHcM5Eb6BGpI7t\n",
       "ytaV1Np9WF7PpPZCnxHkYvDu7aYh6o+Ct/jyZKKIYRu3ynmiaGCzWVcypucWvTYIj5+AuirIRalv\n",
       "5l++Gu3DwdZNToDt2085TmPMoTXQO3wJNbP1o2kGrZ1MvkoneWAPObQWF/yVHrU+xhBesph8leYX\n",
       "OXKHpEKTudkfgDCcYn7TElEAAAAASUVORK5CYII=\n",
       "\" style=\"display:inline;vertical-align:middle;\" /></a></dd>"
      ],
      "text/plain": [
       "<IPython.core.display.HTML object>"
      ]
     },
     "metadata": {},
     "output_type": "display_data"
    },
    {
     "data": {
      "text/html": [
       "<dt><a class=\"ProveItLink\" href=\"../../../equality/_axioms_.ipynb#notEqualsDef\">proveit.logic.equality.notEqualsDef</a></dt><dd><a class=\"ProveItLink\" href=\"../../../equality/__pv_it/c5793376bd5f3ed65f46b9bf759589707c82e7920/expr.ipynb\"><img src=\"data:image/png;base64,iVBORw0KGgoAAAANSUhEUgAAAP8AAAAWCAMAAAA4nbqyAAAAPFBMVEX///8LCwsYGBgNDQ0oKCgQ\n",
       "EBC6urrMzMxUVFRmZmZERETc3NwyMjKqqqp2dnaIiIiYmJgiIiLu7u4AAACwKje0AAAAAXRSTlMA\n",
       "QObYZgAAArlJREFUWMPlWNuy2yAMpD3lYjD3///XAjE5FhZYznT60OohO7GI1qCVgDD2n1v64DfC\n",
       "Q5yZM9jTIJ6x0B1r67wQ47efGlYqiDMzO/58k09Y6I4767wAne3unSqFPvDuB2qW6P0JC91xHxJB\n",
       "o3u2NDGK9xCfpr8ozdFZ6A5CBTgE+3JulhiFJ4iP088Sp7PQHYRexxEMzjSL1Oa3Q5zW70JP2lJZ\n",
       "6A6KdV6AWVeLjtpFHETjvDLWb6MsNehyybXxJrfsuY3KMnXMaMeUo7wAVXtRbahNJABMJXyIgfGu\n",
       "n21v9uurfr5btWMi1+LN7Zv9TuIx/GXqwjKjv9BOAuG8AEUdnMiy4gKgO6JbuUq/tGyrb6pfRSE4\n",
       "kWWLb3Mk2rEIcV6IdYAP1PlnAbDqSl1LXajxlMWrUvNLrjJTWS67/poWOd1hvBDr3GP6cP4tJ9ci\n",
       "3MdysrUCZZZ/aP4T2quhvBCL9nv00lSEV7KfMzWy33ALsTYXeTpIN8n+/PESrT7VeV3pQX9Q4efh\n",
       "3E7mP6OdBUJ5B9Tm2KtdqqI6KJJn2TA5lqoOAIN5NReflulne221+phEuO02Okzmv6TF+iXGO6Dd\n",
       "ji4qzo3XJFEe+7HI4B5ic2C6LJHxi+pveSiPRA4wxuLqdBkh72nR/RLjHfFUSfmUOVW6rBoZRDxj\n",
       "0t4l54b2eU1/Hei3Hny/vQKKuHTgtGgHxHhHDG8VVbnL8ybELxsMNxCRnjNJr4sPzr/mqWMhprg4\n",
       "/54llpnb295qWgbL3EW+vUVcDdlMVKx0tndZ+l3lo8vTDe+IJ63YrQirrkRVllVe78/vv1j66/FF\n",
       "H2+e/uL9F+MdEV/mIgKDlH9tjAoiIf3MlirsRa9ICp5FnzvQXCC8I6IHR9PWDb9t9a476b43zc1L\n",
       "2qtPe7v57B+AzjviLP117Rz7x+03cmkoGF9quhUAAAAASUVORK5CYII=\n",
       "\" style=\"display:inline;vertical-align:middle;\" /></a></dd>"
      ],
      "text/plain": [
       "<IPython.core.display.HTML object>"
      ]
     },
     "metadata": {},
     "output_type": "display_data"
    },
    {
     "data": {
      "text/html": [
       "<dt><a class=\"ProveItLink\" href=\"../../../equality/_axioms_.ipynb#substitution\">proveit.logic.equality.substitution</a></dt><dd><a class=\"ProveItLink\" href=\"../../../equality/__pv_it/8d36a51e21a3e1f2d1a576f0cfdfe721d403af1e0/expr.ipynb\"><img src=\"data:image/png;base64,iVBORw0KGgoAAAANSUhEUgAAAO8AAAAXBAMAAAARnwX+AAAAMFBMVEX///8QEBC6urrMzMxUVFRm\n",
       "ZmZERETc3NwyMjKqqqp2dnaIiIiYmJgiIiLu7u4AAAAU9Wx4AAAAAXRSTlMAQObYZgAAAvdJREFU\n",
       "SMfFVj1oFEEUfvef293bHKayECJYpIk5wcYqRyRGTBPUQgyiNonCgVuI8QfNIggWEq5QsLttDglB\n",
       "OTAemhRZJIVoc7UorE0QLXIYMIUiznszO7O3uznJQfDBm/123jfzZt+99+YA/pd4vS5MNqLYGPw3\n",
       "/63QFr586MHxURzMyQmJUc7EEEOcTInrIr4s9OCY1mQXf3es74shhjk21xvskbu0e786RW7zcFVi\n",
       "irUTZYY577n2sR85U9294wQlRy2AKazFKDPM+cLVeDY3d7eHSA/ReCGASa5GmWFOtsr158zMxx4c\n",
       "n8dh/cC4j28v33rFolmPEBXHrDsw74E2BaTHAWYxSOON6O5dquMRjb98bDrGpwSrkKeUuA9JytDJ\n",
       "0ZJtWAPI21wPgYl5llmZiu7eJen24ZDb8rEGejvPiuRghKg4xzItmGEFXeRaAN1lhkLc13Vx/AOH\n",
       "fNvHJqSJPBohKo6XaODnp9pcdbeACdfv9eBYaymcaMQ7DnBqXmpLOTZt7CnGtWk0L40ts3glmyL7\n",
       "uWM+SW2vKctiPyVoWeH5ErZfCnXmMwlfHeCcA72oQg2zY2h4R6fzTiRYon/vt46oL6bJk5gtDWkA\n",
       "qKivRGxYa6B7YpvOgpcceECnMGyu8IRiQXWQ5Ml6bxiayrGY7DAI/uagj2vuZbgDceWkOHAWRlyQ\n",
       "5SSOVOG0bRpPwWTwN96Wu/gGgGEcRjwfb6x8W8IcvR9xrDiwsXrRYr1ykCsYniwPSBVT/GUg4Bgn\n",
       "r1CopYEdl20BrwN4p5bZwXmuWqa/4g/ATWtUszX2gIFkWzmmSSG+ga4Do1wJXw1auAsFOemWiSm2\n",
       "JBTEVzEP7sab6RfsAY+btnJMk0J8A11ziYVW8IpE+RpJrQCn4GQdoHZl2upk+Gu7HLs5K92IrWNp\n",
       "YHIdjLolsZCJsOMgJ796mj3TFldxga+zSk3x15SVdYbiG4g04CECUfWxXtq54/icl0LF/xEMuiEO\n",
       "yY7mxDuWhr2W8t5t/RfNBeNeS11EOAAAAABJRU5ErkJggg==\n",
       "\" style=\"display:inline;vertical-align:middle;\" /></a></dd>"
      ],
      "text/plain": [
       "<IPython.core.display.HTML object>"
      ]
     },
     "metadata": {},
     "output_type": "display_data"
    },
    {
     "data": {
      "text/html": [
       "</dl>"
      ],
      "text/plain": [
       "<IPython.core.display.HTML object>"
      ]
     },
     "metadata": {},
     "output_type": "display_data"
    },
    {
     "data": {
      "text/html": [
       "<h3>Theorems that depend directly on foldForallOverBool</h3>"
      ],
      "text/plain": [
       "<IPython.core.display.HTML object>"
      ]
     },
     "metadata": {},
     "output_type": "display_data"
    },
    {
     "data": {
      "text/html": [
       "<dl>"
      ],
      "text/plain": [
       "<IPython.core.display.HTML object>"
      ]
     },
     "metadata": {},
     "output_type": "display_data"
    },
    {
     "data": {
      "text/html": [
       "<dt><a class=\"ProveItLink\" href=\"../../conjunction/_proofs_/binaryClosure.ipynb\">proveit.logic.boolean.conjunction.binaryClosure</a></dt><dd><a class=\"ProveItLink\" href=\"../../conjunction/__pv_it/5c84df2f748f99e9970088a408218dab6d6882750/expr.ipynb\"><img src=\"data:image/png;base64,iVBORw0KGgoAAAANSUhEUgAAAMcAAAAWBAMAAACGSZV/AAAAMFBMVEX///8QEBC6urrMzMxUVFRm\n",
       "ZmZERETc3NwyMjKqqqp2dnaIiIiYmJgiIiLu7u4AAAAU9Wx4AAAAAXRSTlMAQObYZgAAA11JREFU\n",
       "SMe9Vl9Ik1EUP9vn57ft+1zSS0YYK4IiK/cg9hCxoUMNIoNYD/2dQTMp7HsILaQaghhi6YvR414q\n",
       "I4hB9RA++BUkZkTzwYhwMqFCMitCl5Vo59x7v23OufVSF+537z3nnvu753fOuRvA/2jxv9tmjeCn\n",
       "LNcOzZVd/gx7lCYv84JUYJe8bCpFM06vn/XVtAMcWi529JyZL20CkN0A90hwIy8I7bBxr23fuEgx\n",
       "SbAEAE66wJZhUmiNTH0KA4QAWmh7IB+GSmwN8PmrRT7aDgqlB5UeL2jhFSCqCxFG+PXk3nwgFrr1\n",
       "Ru5A3w8uq5wQykEd4HUYnMV8OX099laA2I0DAJPI6N3W1st52dpGsQ9xp9TvXFYlPIMG7KN4iyYe\n",
       "su54ypOtyFEhupAIBt/lBTmCXeZ07LIvsNEZKhLKWYCLzTjeZquWeIquvUO4cCCt1QCNTNjJvjfn\n",
       "/DXuFSDdFAODne2SfvPsMQTL0uzA43Ga3GLLxlRMYksbcLQjA1vwTiwTOQtaMaicXK2rq8MQBmsp\n",
       "LqwQrKDMMVERKII/jNEMZfcmdolAeuCf4MpaTJtVdtQHzoLsBStaTfuPQSQ8vVkY0AXWMJAKny8B\n",
       "oraq+WF4iErGHnaJ0lgsGXgIbEdPMeVVo4ix+GCMXzACchTUU1e+IIjj8woQ/JQw0QSvUJSjF9ov\n",
       "E0RUrAlSyEGcIbZXigSZ6qsbhnV4TtNIuOyEMFhPdFEI7JRJJLFjOG06KxMkouBnkq5oJgjRBY1V\n",
       "JCqA40xVPvComVUpgvhLzZicIyNaXMLew0pR50C8TK6SwTDbun8ZCNKlka6PYb+AQabqB3gal8Lc\n",
       "E3mPMKDspFRkOXKe6K0E8+HDMpFK4skUnnGlQLSjAW4HFnoynGN+ZgunkbFe6U0weJZi4hAGOymk\n",
       "UVAa5nUYWuqgUgTx0Bxe8vmuMY/b+YvQ4TYfyMToPvKZUDU6XNbBw5RIbrnb6eWeJEEsxP669MoR\n",
       "+ZzWzGfFXsezy2yTydkOzBJD6QRlERRMs1pBV5v5nBN/I7lfBUcku/y+OXmfAKV+XFqA/jl/HWbR\n",
       "RxcrxqCR5alfrU1lF/NST//9Sc7uYEzS2wVi25sTpDa7uEDPEOxe9QSFuGjL+ZPjzi5/mCkw/s3/\n",
       "iD9xNeHJcqW+GAAAAABJRU5ErkJggg==\n",
       "\" style=\"display:inline;vertical-align:middle;\" /></a></dd>"
      ],
      "text/plain": [
       "<IPython.core.display.HTML object>"
      ]
     },
     "metadata": {},
     "output_type": "display_data"
    },
    {
     "data": {
      "text/html": [
       "<dt><a class=\"ProveItLink\" href=\"../../conjunction/_proofs_/leftFromAndExplicit.ipynb\">proveit.logic.boolean.conjunction.leftFromAndExplicit</a></dt><dd><a class=\"ProveItLink\" href=\"../../conjunction/__pv_it/d17b3b3361cac813f71ef27699985edc2c8db0330/expr.ipynb\"><img src=\"data:image/png;base64,iVBORw0KGgoAAAANSUhEUgAAAI0AAAAWBAMAAAAP0QIWAAAAMFBMVEX///8QEBC6urrMzMxUVFRm\n",
       "ZmZERETc3NwyMjKqqqp2dnaIiIiYmJgiIiLu7u4AAAAU9Wx4AAAAAXRSTlMAQObYZgAAAjtJREFU\n",
       "OMutVEFr1FAQ/po0yZpk0/4BdRFvCrsHRbBIFy3Vk93DRi9qRTE9CN09SItI273IYg82F726J60X\n",
       "ieCth8aDoHiwl3rQgkFUhFoVl1bF7eK8SbabylqR9MG8N5k3+WbeN/MeAmzPWBDT82QYR0juC+Vm\n",
       "MpwZkjES7XwiGPMNkZMiUdxEOFeHywR2b3x8ItmxvPkMzWuO8yoRjBTc8Wk5Bozwd5Xn26v2YO4P\n",
       "z0y0psqRsqNkFy+2dt+i36NlL6wKs/UtJK0XRm+oTU9f91lrleFFCxCPgYftKFMFWtIw2Pt9g61K\n",
       "HtJ3YNk+A6+2vCeOYw0Lx5pQi0A2Sk4eGBgSDoaf5p5+sMjmtAdlAcaFyc+Eo3+K4+grFFdeEupr\n",
       "4GyLHqBLHMiqHGBYz2HzlxyelvGE61Dbdy6O06eSon4U/9RhViMc6pk0EzFyVMzdUYDs3KNRgBnz\n",
       "7J2b+MlTojhskk36NTcYXUyNcFJfhXaLr9gzzLN9lkgM5FqYj9IXwzFdg/xHRQy9AnNXiCPSU5tC\n",
       "6xJVsxbtEke4REdz5ZeOc1nwo8dwVuxTTcgFigi1AOsnG8d2V2GWfoiCmeJ/pYx+bhvazuasfJjP\n",
       "JpzTkOvoDqACPS6kesem3E+bvlaF1oRGhTsenetaG0ciXho4SAV2MRVgotAJ5t0atKEluYHZVfsE\n",
       "Mfchw33otHm2qEmurPsnxac+YxdvbPkCbGh3iZ+NEXtWypFsPQ51Nv/38+RvE85fRv7fLr8BYO6Y\n",
       "y4lNU68AAAAASUVORK5CYII=\n",
       "\" style=\"display:inline;vertical-align:middle;\" /></a></dd>"
      ],
      "text/plain": [
       "<IPython.core.display.HTML object>"
      ]
     },
     "metadata": {},
     "output_type": "display_data"
    },
    {
     "data": {
      "text/html": [
       "<dt><a class=\"ProveItLink\" href=\"../../conjunction/_proofs_/nandIfNotRight.ipynb\">proveit.logic.boolean.conjunction.nandIfNotRight</a></dt><dd><a class=\"ProveItLink\" href=\"../../conjunction/__pv_it/76cf54230d436297ebcc3d6dd79e4e16b1651e810/expr.ipynb\"><img src=\"data:image/png;base64,iVBORw0KGgoAAAANSUhEUgAAANkAAAAXBAMAAAB0cveBAAAAMFBMVEX///8QEBC6urrMzMxUVFRm\n",
       "ZmZERETc3NwyMjKqqqp2dnaIiIiYmJgiIiLu7u4AAAAU9Wx4AAAAAXRSTlMAQObYZgAAAvZJREFU\n",
       "SMe9VUtoE0EY/prNdmteBg+CBzWIB6GKEQQPIg0atOChveSgWF/gtuCjOUiriDWXWihSc6lX96JW\n",
       "FFnQWw+NouDjYA/WgyhGUSlUtJS21gfVmf+fbbbZrOCi/vBn55t/Zr6Z/xXgv0o5+NaQ7Qc8ck/p\n",
       "qARPArFtrgG2Va25/zOb7UhBT4P0upwbCMQ2UANcVLDHmV8uaKaAAki7xMc4GIQsantB7LWKTK+a\n",
       "174LnQYeg7RBmPViELa6shecPpBnkuPKGP0irvANeAPS2LXu7rOBHLmuBrBHUvQNN6qH1yeB+Crx\n",
       "LbLOmuaLQGx7vSBUvlyiwThnH7A0A+O8eGeklXUH0E6GPvq9NJPbma46N+UaV+wX3EsYvEUTv+km\n",
       "9vB80+7hNnmBJQXWtUgUKMBTHOckokke9ff38k3dSVSxLxMBfyXFYkDXOtdKg1Gc4uUjeSSeyVcn\n",
       "WeOI0pnvf5BZzyAkIjuR2wfbmljjYVN2IVNO2mUcoGWzLbQ2ZiPMDjgkGcX52iRrtBSn/Lk1Rua4\n",
       "DX0U0cM9nwRb5KOHje212UIiN8lP4kSaBUTy46lVYUsUqA1otknmz2k8zOMBJZjVuN/DxnYpK9xs\n",
       "BETOxcnLg04aaNJhLcWKJ9G+nXIWbbR34/CdE1z6sHMrvXFju5RjbjYJDHFqw6STcINOuRlz0rcF\n",
       "VgySYx5hhPYOAXfLmsVv07dW2CKmaXYoO81ecS6QVmBc1te85Jcb4k65bZJNzakA1MmkTYzlOumQ\n",
       "I8JZRe25aR6VcYssflu9shPY4K4AAbpW9yHWOSeODKdUL9M7p7PNVBwNKVbEJIueRxNl0VfhrHQi\n",
       "w2+rwUZ2blZ5d+dyg5CnSp3OpWS9KPuS0QdjHoZIzl3Kk2eq2ZSd0txyl6H1+8ZzQynJu1kYLS9F\n",
       "Bg3N5JqFoz6kqLrNqizRHLvvP46PyAbCTcR9w4XRVRG3BfH5QzrpCzwSzrMuki211/qwGbYf8Mht\n",
       "pYuk9Eds/0gyf+ugX4AT3CkTUBU0AAAAAElFTkSuQmCC\n",
       "\" style=\"display:inline;vertical-align:middle;\" /></a></dd>"
      ],
      "text/plain": [
       "<IPython.core.display.HTML object>"
      ]
     },
     "metadata": {},
     "output_type": "display_data"
    },
    {
     "data": {
      "text/html": [
       "<dt><a class=\"ProveItLink\" href=\"../../conjunction/_proofs_/rightFromAndExplicit.ipynb\">proveit.logic.boolean.conjunction.rightFromAndExplicit</a></dt><dd><a class=\"ProveItLink\" href=\"../../conjunction/__pv_it/fbe78acfb15e476b8fe50bf8d915d4c31916acb50/expr.ipynb\"><img src=\"data:image/png;base64,iVBORw0KGgoAAAANSUhEUgAAAI8AAAAWBAMAAAALJNIrAAAAMFBMVEX///8QEBC6urrMzMxUVFRm\n",
       "ZmZERETc3NwyMjKqqqp2dnaIiIiYmJgiIiLu7u4AAAAU9Wx4AAAAAXRSTlMAQObYZgAAAghJREFU\n",
       "OMutlDFI3GAUx/82l4tccldHF+EobhW8oeJQxGAPdapd4mRbFRoHwd5UC6IeglxxKLfonEntUjK0\n",
       "Q3EwHQqWFqqDHYrDDW0XtYKcFovYvu99l5DI2Vrig3z5fy8//rzvfY+ggiuKTbF8iGFgDFTzvXPA\n",
       "C7F5HqeUhmHgYRZPSGrDcYy6XXpMNFKT1HIco/UC8MmBsTI5OR2ryyP0bFE5x7b9JZZRFXg6Qe87\n",
       "wBgnSrwuHVm9uXNo1hclX4Qopbr2ekeIVmSKfI2H8jaboDdJtbAw77Hy76KGRCjoP4F9k0QaOuPf\n",
       "TjmvmrhGn3atIbjO7o2IESOpECUiSYa6+KB7aZ7ul9ucT7tQN6GPzvwgo9RexIiRLi+gOK5TNcYv\n",
       "EpniLT6qa3P+IIeNAt4J6To3H4SNJDJRDCg5RmScOBFqrEesCdznfPvaK7oC7pprtUR6xIjifAyo\n",
       "YIxmmV/kGt9jnfOrwNuK4siK1NthI0aSlUafCsZIaWbd4IoDbluPefeI6i4rn217XPQoFTKSSAeM\n",
       "co3i7ODvfP6ZLNwQBmoB3TwYdNr2XMaUFUWMJHKXt0zVHc82ar+nlaCdQaO76asdbSpkxIhyD3jj\n",
       "U3Xi6zG0gR3lFKtHVj/V/D3LA2mHmi2RBJWf9Km//KQCtUw9CiL0l9Fqzz+is376/39X3lUZXRDm\n",
       "JZg/T9ii0bCZRQMAAAAASUVORK5CYII=\n",
       "\" style=\"display:inline;vertical-align:middle;\" /></a></dd>"
      ],
      "text/plain": [
       "<IPython.core.display.HTML object>"
      ]
     },
     "metadata": {},
     "output_type": "display_data"
    },
    {
     "data": {
      "text/html": [
       "<dt><a class=\"ProveItLink\" href=\"../../disjunction/_proofs_/binaryClosure.ipynb\">proveit.logic.boolean.disjunction.binaryClosure</a></dt><dd><a class=\"ProveItLink\" href=\"../../disjunction/__pv_it/007ee0ab524f98485a43568946fc875a941ae9e80/expr.ipynb\"><img src=\"data:image/png;base64,iVBORw0KGgoAAAANSUhEUgAAAMcAAAAWBAMAAACGSZV/AAAAMFBMVEX///8QEBC6urrMzMxUVFRm\n",
       "ZmZERETc3NwyMjKqqqp2dnaIiIiYmJgiIiLu7u4AAAAU9Wx4AAAAAXRSTlMAQObYZgAAA15JREFU\n",
       "SMe9Vl9Ik1EUP9vn9rl936b0khHGiqDIyj2IPURs5FCDSCHWQ39n0EwK20NoIdUQpBBLX4we91IZ\n",
       "QQyqh/DBFSRmRPPBiHAxoUIyK0SXlWjnnPt933TOrZe6cO9377n33N85v3PO3QD+R0v+3TFzFIey\n",
       "XCdUV3b5M+xxmrzMC1KBXfLyVIpn3F4346tuBzi4XGzvPj1X2gRgcQPcI8GNvCB0olB4XfidRrZb\n",
       "YoEpAHDCBYUZKlZzdOJzBCAM0IJLOZAPQyG2+sX81QKNVWBIPLjp8YIaWQGiuBBhWJhn6ckHYiIn\n",
       "NvBU7v1Bn0oa3rNkIATwOgLOYnF28nrirQZiix0AGEdG77a2XsrL1laKfVg4pUwzaXizrZ4lDdhH\n",
       "0IomEbKuZNqTLciRFV1IBYPv8oIcxm4RdOy0zdOHAAgI2wzAhWb83uZVSzJN155BXNjrmdxGFl7l\n",
       "8easv9q9AqSLbI/RzOmSfoNGVaUwfab/8RhNbvGyMR2TxOJ6MgcZ2AxO5kGdFglZDIogV+3s7Ihp\n",
       "CmsoLpxQZpBnQQv6XsEfxmiKsnsjGxFYGvgnuDLjdQ5Q+KqPzAJYvGBGrUn/UYhGJjdpCmRAEYNU\n",
       "+HwpFjk048CKlyik7GEjShMJI/AQ2IaeYsorMQez+GBU6EbBEgfl5OWvCGL/sgIEhxJhTY9d+FmE\n",
       "Xqi/dBCtYnUQqwBxhit4MxrkrW9uGArBc5pGI2XHNYV1RBcluo0ySaRy2CH2PIhV8NOgK54JQnRB\n",
       "I1NbAMd4q7z/UTNXKYL4S/WYnCUlWlzE3i1kVdpjRGVyhRSGeLl/GQjSpdJeL2O/gAHe6gN4mpQi\n",
       "whPLbk2BspNSkcNwTiRppShFKhOpJGmk8JQrDaIeCQg9MNGT4Rz1C91TyFiP9CYYPEMxsWsKOyik\n",
       "cZAb5kIwuNgh3jBRiocWfb5r7HG7oLHDrT+QqZF9dI5QVbrcEgIPbyK55W6nV3higJio7NYurx0p\n",
       "41dCf1ZstSK79DZuzLZjlsTkqyAvgIxpVqPR1aY/58TfcO5XwR7NLr+vTz6kQK4bk+ahb9Zfi1n0\n",
       "ycXFGIxleepXaxPZxVo1Lfn9MWZ3MCZL23li25sTpCa7uCCUIdi16g0ycdGW8yfHnV3+MFMQ+zf/\n",
       "I/4AM+Xh1y8Fe60AAAAASUVORK5CYII=\n",
       "\" style=\"display:inline;vertical-align:middle;\" /></a></dd>"
      ],
      "text/plain": [
       "<IPython.core.display.HTML object>"
      ]
     },
     "metadata": {},
     "output_type": "display_data"
    },
    {
     "data": {
      "text/html": [
       "<dt><a class=\"ProveItLink\" href=\"../../disjunction/_proofs_/demorgansLawAndToOrBinExplicit.ipynb\">proveit.logic.boolean.disjunction.demorgansLawAndToOrBinExplicit</a></dt><dd><a class=\"ProveItLink\" href=\"../../disjunction/__pv_it/3f128eb8aa42c4906b681dddf02c5b3afd650eed0/expr.ipynb\"><img src=\"data:image/png;base64,iVBORw0KGgoAAAANSUhEUgAAARAAAAAXBAMAAAAxVg0qAAAAMFBMVEX///8QEBC6urrMzMxUVFRm\n",
       "ZmZERETc3NwyMjKqqqp2dnaIiIiYmJgiIiLu7u4AAAAU9Wx4AAAAAXRSTlMAQObYZgAAA+tJREFU\n",
       "SMfNVl1oFFcU/nZnf5LdyRj6ZB/UVaQIKpmHFkWrWXSJPpmAWUGpmlYcFa1ZUNQqmiDIqojmQUVQ\n",
       "cBH8gyIr6EPJQ1ZEUHxo+qAPGnQoKgGrLRq1/qCec+7M7MyoEcEVL7sz595vztzv3PPdMxf4Wpr9\n",
       "ZaaJlodD9QzQz8bVmhP5Xt1mhBm0DuVatgPzgdPc31tzIs4M+2R1xDTlGukAlmZQB2ygXrKj1jzS\n",
       "KjP6bVZCzKyONNOtOQu9hDqC4j21JhJRUvxtaYGuGsfdoEb6aODPEoxG6Cc3btxa88xMULdyX4Zv\n",
       "RfofUCM/0/8v4rQKeGpZNz7hlesok6avXx+AgkAVW6S2jn20AodEUQFDwKa1dD8OzAZWAB508Em+\n",
       "xQxNnqmayRKwudotQiv5IUWhM9++jIEqtkeuf4skJC2akqU21Ht+gI1DwHgY3SKkR0pPjUg3Kmv3\n",
       "7h0SAHxaTgS67HPMD6l2ATgrgId94wTU1eZIN6aCSz8DHmTJGEv0kJbp7r4SKJ5FlND7+Z9QLt0f\n",
       "FyZymAKu1ib2GWSjpCCntQNNBQYG3REJUsvlWtWr+l0kQTGneeJmuleUgM9cE6ihjHg/0r9se0hE\n",
       "Uv+EiVAWEwWvxz68GbUBuAnmdhNYLEDM9BOh+hGRxcdC/K7GR9Bq6C8UEaNbqp5WtgT618TlAi6J\n",
       "xksTl4SJUAQRryM+XBASgwpSzXgMvShA2l28b/lCRaJBPbRJFXSan5IRe65SgxWzeCjGQVBr6j1H\n",
       "Khbi5fyosEY0AqZ6PfGJUlDT9IpAznflZW+LLQBj0tawmIlI3X/K8UeHIZeRLna8zJtJ2F1Bn0Cn\n",
       "SGu2knu5FJ9eJXLCsqxufvN4x3Z8mMBaYk5QioZXAqlu6KMF8MjR7hRZJF6reH61vTKijbSdByLM\n",
       "zriW7xRwOWWnR7tuWatZI6nginTUE5H9ju348HxtxKk+6+6dRBuM50Eik+lbMqYIvfN/2TbYoYYX\n",
       "vMnldsqqb+c9yATiBTSLsugNTaaRVSvyDpEomd+5RJQPDcVsmj/a4RIZ0YPoY/BA1PWMFIKVaWao\n",
       "UhmewCaRfyVZRPI1krQV5jip2RIiYlAaH7hExIe/Vz+QMnuMfpdIl42tFDgBulvRPOMDLeWq+s5T\n",
       "JFsHtFc49SQ/l0R1LyMFzQqJ1cQt73NlKh/EM5gnz9xS6UdqX759Fy9yhn/BY8CH2mD4nOJZJ0gj\n",
       "XvNt3z84+IAPHSV43QsMhYE6r7N+eCJzQv0p73/MR+Qe5TN4ejnsg8JAtdgmhz0qpsNft8pHidTT\n",
       "I0cCYNYPhYDsZz5N+N93kRLo55+y/VAQSH3CyfwtuSsLv7mURRcAAAAASUVORK5CYII=\n",
       "\" style=\"display:inline;vertical-align:middle;\" /></a></dd>"
      ],
      "text/plain": [
       "<IPython.core.display.HTML object>"
      ]
     },
     "metadata": {},
     "output_type": "display_data"
    },
    {
     "data": {
      "text/html": [
       "<dt><a class=\"ProveItLink\" href=\"../../disjunction/_proofs_/unaryDisjunctionDef.ipynb\">proveit.logic.boolean.disjunction.unaryDisjunctionDef</a></dt><dd><a class=\"ProveItLink\" href=\"../../disjunction/__pv_it/649b217f630723f6793532d6058966734572d6dc0/expr.ipynb\"><img src=\"data:image/png;base64,iVBORw0KGgoAAAANSUhEUgAAAK4AAAAVBAMAAAAtL8hrAAAAMFBMVEX///8QEBC6urrMzMxUVFRm\n",
       "ZmZERETc3NwyMjKqqqp2dnaIiIiYmJgiIiLu7u4AAAAU9Wx4AAAAAXRSTlMAQObYZgAAAspJREFU\n",
       "OMu1lU1oE0EUx//JZrtpPtbiRT2oq3gQqpJDb34kaKDHCpKD4vdhi6g0B2ktRQ1KqRSpvRS8uQhV\n",
       "RJEFj1IaBKUqQlTqQRS3olKoSClYC0r1vZnJmo9dPTmwM2/nzfzmzXtvZoD/VLy/aqMuJi4peeql\n",
       "aNp95cOwWSkLqLDwLGxEB3DD/xGSlhOyRvP0TNCUnfTtA26zPBLGHWFaVIgZyY3LDcbnqSoFTbnK\n",
       "WqCXGuNoCDbpMjeWkaLgPpCa58tUPQ3ywXtaOOWI9fXREG7EY67Gy6Y9yV0nFMbYd6pnAqb0HykC\n",
       "ZhtSt/r6zoW5YbP06hA1Y9K/Ubn3ZHKB6pYAe9xJChpOAIu2/SaMe0Byicls5uqOUGxr/Ul1Ym9z\n",
       "AnnXy9SMA3uAbtE11My9IrnkA/YFc+M8C6al/aCmlY3XL4si0wQfkKWY4BqwCabYW2pBOX54eLCs\n",
       "uCsll2IWsyQ3YgmrYHzjpq3JEgsXeBMbyBgkBeYT72yucBCuM7dRjVpQWVvBrJJWCG5HPr/ISTzf\n",
       "iNXy+S6OcpaMKadFSt6bJvn4+a/ETXxp4O7H3TouVasDuZTqkZLkmqUOsZJrA49ERJ32w2rYGkU7\n",
       "K46l8AOnQCt9L6p+0N+JIo8AadNt0g/o3s09MRxSB8gtrK3695SixXa4SmphVb86VqnGA2eMqpM4\n",
       "xZkprognmITmSHv17WrcuKJppz0lcWqJOPd4AXnGUWhZVhMjbIs5XejxtNe2fZL9m1DjtlZvm8Hq\n",
       "vROtwDi2VMTjX9QVt+qxveuHkOpZotUu8m7YFr2IbMbMSXt9bqSouLv8+2xVDWcm7DyZfgJuoVCX\n",
       "0an8MFC9RJyme7L2rrkTxk24Svi4CKPrLT5b4lzY5bp7so4b//MQmKUw7mxjx03yb20508Q1cv5/\n",
       "rBjG7fzXK2XQO/RKyRPyHRrwlffDZiUz+A1Rb8Ei/Oj95gAAAABJRU5ErkJggg==\n",
       "\" style=\"display:inline;vertical-align:middle;\" /></a></dd>"
      ],
      "text/plain": [
       "<IPython.core.display.HTML object>"
      ]
     },
     "metadata": {},
     "output_type": "display_data"
    },
    {
     "data": {
      "text/html": [
       "<dt><a class=\"ProveItLink\" href=\"../../_proofs_/foldConditionedForallOverBool.ipynb\">proveit.logic.boolean.foldConditionedForallOverBool</a></dt><dd><a class=\"ProveItLink\" href=\"../13c7b2479105103cc5a4dbda4383cbe7f84587a80/expr.ipynb\"><img src=\"data:image/png;base64,iVBORw0KGgoAAAANSUhEUgAAAbgAAAAZBAMAAACx0yZ/AAAAMFBMVEX///8QEBC6urrMzMxUVFRm\n",
       "ZmZERETc3NwyMjKqqqp2dnaIiIiYmJgiIiLu7u4AAAAU9Wx4AAAAAXRSTlMAQObYZgAABXlJREFU\n",
       "WMPdWG9oHEUUf9m9v7ubTVCw/qPch1g/KHpC0dBSctigBdFEm0tQFC9CNyCWXGlo1CBcFSn4wZ5g\n",
       "RangIcbGFMOptFBa6KkgGqk9oUWQpFygSkBSg23SWmPqezO7O7M7MY2xkuDCzs7Om9977/dm5s3s\n",
       "AqyKa/t4/lqr1MZ/XB3coPpfKO37f5OrrRJy9jXQcodf+4KTYzH7duXJ1dPDKv9zqNl2ofXhB6mm\n",
       "Z1iDjpSiaUbuI3p/feXJGUV8JJYzjxoKAN15gU5MY1Fg5HZhGc+tPDnmw67lYFtKAO/hDUf5+4l5\n",
       "LEYZOaIbLa6ChEKz5/HlYI+nAE62Y2Ute43vu4jlBCNnHejvf2k1ZMvR/v7+ZSXNXrzbcHi0Al+D\n",
       "5m9YxopsK5h1nKvvdjvdZ3IRWXEJrTy2aUWGrBocZ3tpCVx2hj25BGDP4jPK0Xcl57A02hm5zQA9\n",
       "2Lc329FDsl+e6OCHhRQr7UODmIninlVdNv/WTPaBvJBtgIUQG0BBvAiKDMlF0hBjlhPhw4qmKt4j\n",
       "PNEvA2yiWZmosF4p/Q/iXmDkmsCm8fwc4GPq+grE1zAQTzLNadiRhxhAp9PtOCV4XzJqNYJRRVnU\n",
       "cW5wngUjFURwFW6rjMipMiSnZWCS1U+6rV8PDT3JKjEIK7Zw5nmemBeGBw9QpS7FIxGfoUcjI1cP\n",
       "JlFuRa2YW+7BsHUKcjoSjeZgv29jUnI1kgFrnsuoM4tRACFaZUSyrMqq7D7GQv90hUYpWzEN+9OU\n",
       "ICcr/mlOeBKb97YE1nl9ayvNUX2akTMr9bQ/jAFsQaW3UugEuQk0ZE1Dj28jwtZLkq2W+gpEClzG\n",
       "Om8OI0SrjOCTT5K55I7BGaoaUzjHDt9+rmYaMFIR5GTFI6c9T5BTNUAOixsFObuwnuJ1HqwfkGlj\n",
       "kNwnwDQ2+jZMfoZgJn5Nw4k8l7HOR8MI0Soj6iAs4+Qm+QljYywHFq0h09AO1QQ5SbFednxPoKXd\n",
       "1VFXdPPM92JaQs/99HJ5mCZ4Pel/Slg/RVmoqhd8G1oGV5jj7Kaw3T08WAEuY52bwgi3NYRohiDC\n",
       "IxfrY6HPRKuQYHGMPjomrTlJcYRc1DJim+PdaJhfwHsvhYEnFNhHmg0+/RsoHDcL65R46kpcD7Oh\n",
       "u8ski74OcbZ+5+YwQrTKiCZQZIxckgXVKprTPI3itNxaFuQkxd/AceFJr3dko+zPVjG1uFsB1JGG\n",
       "GB/cBmSfXCus05bxRi2pkru3C2AbW0whGjIiQMBHvPk35OAWKqaynfOwCYe6jORKJUFOKLZPZ9F/\n",
       "7ondeeUhb8fAM1z3pTx8deVV3BdSnJxF1Bv4hhprHyhOpIT1bfEj9nWg5cS0zJlZvDooFr/zBr/z\n",
       "ujDCbQ0h1kEQ4ZP7joou0M/DWXfkZHJCcTQPLWnXhHytkeoT8sdqC6Ww5/Px68vvvAzC+o6NybdT\n",
       "YFd9G1bJPofXQRrEiyx0Vb/zKMT3BBBuawgxBZIs/LGqVWiMInlOrkualkLxnWyGWcpxZlSqH5TI\n",
       "GXu3EsMK9L3WWksL6/EtHzyiA8/RzEY05X85Dc2wjmf8zo+BPicQ7taOrSEE7jxBmUTObstB358V\n",
       "+xm2iX/4nJRQfMVnZyHeNuZ6Il/SB5NdUH8zUL65LV6WTiigtQ8AHBEKuCHpu0vIUKGlIgphhFkM\n",
       "yRb4zWDgmvNfYrCQKwn1zJoRp4W8Qk6nppbumkxOn8X88rPfZb+i0pfRyeM+BZFUPq7tnCpb9HPA\n",
       "IxdUrHoCA37tM/UHkcUichPI5GA3BjpZ8bpkFI2+LOIOfRARUX14FxTZksgFFWf+zd+vAPhLb7os\n",
       "8B/Ak40soZXHMK3Ixhf7bxlZSLFxtT8S2vipvwDGSrmrEa9I2AAAAABJRU5ErkJggg==\n",
       "\" style=\"display:inline;vertical-align:middle;\" /></a></dd>"
      ],
      "text/plain": [
       "<IPython.core.display.HTML object>"
      ]
     },
     "metadata": {},
     "output_type": "display_data"
    },
    {
     "data": {
      "text/html": [
       "<dt><a class=\"ProveItLink\" href=\"../../implication/_proofs_/eqFromIff.ipynb\">proveit.logic.boolean.implication.eqFromIff</a></dt><dd><a class=\"ProveItLink\" href=\"../../implication/__pv_it/bc3078bb4119ca4e5b08127967cce4c7bbc9215e0/expr.ipynb\"><img src=\"data:image/png;base64,iVBORw0KGgoAAAANSUhEUgAAANEAAAAXBAMAAABnpbd1AAAAMFBMVEX///8QEBC6urrMzMxUVFRm\n",
       "ZmZERETc3NwyMjKqqqp2dnaIiIiYmJgiIiLu7u4AAAAU9Wx4AAAAAXRSTlMAQObYZgAAAtxJREFU\n",
       "SMe9VU1oE1EQ/prNdpPsNu3J9qIE8VaxOVQEPTRoqN4qSMSD1VZwqxRsTq1S1FAsKT1oL/Wck1YE\n",
       "WVBPBRsFRStiPLQHqZBCq2A1irT1r7TOm7dJNtlKwBQH3nvz3nyZb2feTB7w3yS7JV6aK9if0MgI\n",
       "5WWVREpELhmXxehYjrYPQQ0Dd8T+epVMPpkZ31e3qaYLOB1CAuinndZVJdOkXF6tu01tFo0IpuXn\n",
       "qGNVMu3gWRv/7jZNxYHXKcxTIm8PDFyuksiT4EXXv7lt3TTeZFFLwaya5tsqmdQUL3v8a27bMnDx\n",
       "AhA4ChwCevgsyfPNlVh7uAwdyitJx6ED6EuLORhSfvP2xIiQa7IclycfztHqp7B3IcjBGzJ0owF6\n",
       "g9RGR4fZBfIFYzizUwSihj/FA23FFZJOV/eZesBD0Dro7G9Rhq5G4CHrUuwkrNTSzhKmRWd2bKCQ\n",
       "emZqjUZXXUy1xKDTzxRqAD1dx91wb4ZNdRbUDPQzV3LEFPhUwsSQBWB/EehgoqnJxVRP8Ri/JFMw\n",
       "0coJtUw2fQnjeRxPhWqlmk85mSTkGOCNF4Aye6JL/KLIeNv5TsisbCfKl/enzB56DoojLzrZ1DL5\n",
       "gEqFb86KbS+5J4YEtpnmucYCUKZIwC7RuLFpO10lb4bwOM45eIEpNk0Aj7NKSsakHnAyCYhyXmgL\n",
       "j2ygNIgS5rLqy27STkpTVkJQY4kSnYlJ2FnKy5gya5q94p4CDiaGqByHf8gG2p2bgdb9I45nG8Nl\n",
       "RMc3otEREbFPXKUhGNQ42rg7KKct4WBExlTCJCH9MZLePNB22FixuecL2m4qk7SWhLYOjSrssJ29\n",
       "QQcTQxBM5nIf6SttoJTpikx388rCKrSOOWUNEyuxI5ST9yHuXNNRERIC7OVCzwNLXo2/i/xzcPZ9\n",
       "Qbtl9haPSx4VBfhQ7kiLVGDyxssO9m2Oq/x8DVaw3y8/SP8r01ZJZCuc/AGUONqjiDWMHAAAAABJ\n",
       "RU5ErkJggg==\n",
       "\" style=\"display:inline;vertical-align:middle;\" /></a></dd>"
      ],
      "text/plain": [
       "<IPython.core.display.HTML object>"
      ]
     },
     "metadata": {},
     "output_type": "display_data"
    },
    {
     "data": {
      "text/html": [
       "<dt><a class=\"ProveItLink\" href=\"../../implication/_proofs_/eqFromMutualImpl.ipynb\">proveit.logic.boolean.implication.eqFromMutualImpl</a></dt><dd><a class=\"ProveItLink\" href=\"../../implication/__pv_it/f01524706e71547466e740299036893012695f4e0/expr.ipynb\"><img src=\"data:image/png;base64,iVBORw0KGgoAAAANSUhEUgAAAQEAAAAXBAMAAAD5Ouf8AAAAMFBMVEX///8QEBC6urrMzMxUVFRm\n",
       "ZmZERETc3NwyMjKqqqp2dnaIiIiYmJgiIiLu7u4AAAAU9Wx4AAAAAXRSTlMAQObYZgAAAxxJREFU\n",
       "SMfFVk9IFFEY/7nrOK67rkJQXYoluhm1geShg0ttJXRQqK1LRgauQpB7SkISO5ghYXsx6LanMoRY\n",
       "qE4e3KKijGiD7BAFK2SHFAtRsz9o3/vezOybmc2lw9QHM/Pt+37fe7/9ve97M8B/t4KnszeUiT+i\n",
       "Ky+cFx4R8MfkI++KPF6Px7sj0KLAHfF7xCMG1VLh6q/u0GZAWwQGgAv0Sz/jEYMJ+Xi55lbnJ11L\n",
       "wJSkqaU9YrCd7/roN1ckSEOhH8AMPW739l7yiIBvQK4WXHSFquqBWiJYRX9+JZl85xEDLcOP3YFf\n",
       "rlBdDPoVkr+mDTgIdPHgEN9vLCcORx3wiOkMKYMW0J1hwqpz4h6OiE0nPlfZZHs0H51oF9EAybQT\n",
       "YRYrJKUK1SNYL73h4UGeAmahhlQ1LWAxwwmrYOo+6MsuDSZTCL8RQbEbCPI6s1IqLQYfVclc4hSy\n",
       "mbkdNgazqpoGUHHghNUxg8Z4fMXFoEOwoHX91KjBXC137d1pDtVmoeURPNu/QAxq5m0MDEggXQSq\n",
       "Dm7aYCYDum11MaBGxKuMZBAeaOQGzSY59CWKZyk8EW4203BaZWBCZN1IoOqgKmWDoUJQDdD1mrX6\n",
       "wMaT+YVMrWm5C+g6IMYq0c5Zeybun+ejihgkttnqQEC0JNnlqAW0nBM03r1JnYkYifSLdF0vdRzo\n",
       "q6JmxEqjLOFzTHJsDHhY8GekBtp+lYEJARJRA2hlGLVxzAYTrcZl3lMocRzsHTEgqMiKlplOSFgn\n",
       "yZr2v00mz4k6qFEYWBBg30kDaGUY+9SZUmG+PPSO1RSerg86DoqepXjLNW5YUSohgddSaOam/k6y\n",
       "RsMxqYGNAUOCCbLjbSbQysADETikzkS2peyhNWN5u6hyc/oQ9DXoVMpHjF3oUxgwJLxANi4OewYW\n",
       "M8T456wJM2adKstg3HQ+rkBvfU8VOracaCFJP0X4REoqlSgh1ltfAosZ3Pk2WPHt/GeTh6F6mlne\n",
       "LaoDyxwvb71QKoOs37mAHivDoDLlGGgqjdvg86Fp4xX6yjC45xzI/TWD3L/5mo15Oflv/6gIdNz5\n",
       "6NQAAAAASUVORK5CYII=\n",
       "\" style=\"display:inline;vertical-align:middle;\" /></a></dd>"
      ],
      "text/plain": [
       "<IPython.core.display.HTML object>"
      ]
     },
     "metadata": {},
     "output_type": "display_data"
    },
    {
     "data": {
      "text/html": [
       "<dt><a class=\"ProveItLink\" href=\"../../implication/_proofs_/iffClosure.ipynb\">proveit.logic.boolean.implication.iffClosure</a></dt><dd><a class=\"ProveItLink\" href=\"../../implication/__pv_it/b74a8841c50c2c0e557e80b0a3c7cdfc466a9fc40/expr.ipynb\"><img src=\"data:image/png;base64,iVBORw0KGgoAAAANSUhEUgAAANEAAAAWBAMAAACs+WTQAAAAMFBMVEX///8QEBC6urrMzMxUVFRm\n",
       "ZmZERETc3NwyMjKqqqp2dnaIiIiYmJgiIiLu7u4AAAAU9Wx4AAAAAXRSTlMAQObYZgAAA1BJREFU\n",
       "SMe9VlFIFFEUve7sOO7OOBkECVGsEBgVuR9CEoiLbVY/acjWR0Vr0JoQNl9pRLQIYT+lHxp97k+1\n",
       "EchQGYYfTn2IFZUGEoRLK1hIYEXoZiXafe++cdd1cvqpC2fnzX1v7nn3zL1vFuC/Wfov1+0QWNu0\n",
       "gLP/KWKUDV64hpBCBDYcdaKonw3XdQA0rnT7u87Mb24BkIMAd5njuitTUZrAhl+dFhREAU4GoCjP\n",
       "Xegxpz8lAOIA5/FWiboyDQqgvVx0WlBjIkKgJVYxqQGkeU4blbtdmbYI4LZ6vwsfBpAa7AVDBsDr\n",
       "BOgl/E4fSKXigslnHQKYRIHvtLVdciXyxAloqvqNfCpmAc32iibEGO66hd9VvcrJqRwlK8RkMrHY\n",
       "O1cmOUFA2+VbIF8V+2m3V8ziuBWvt3jerTnqVQ/jBvyY/F57Y53898ZcpC64uiAsAuoSkH5RCa5P\n",
       "ob0XxSTNDvZPsMFNHt/IMqWWNuHVh4JsBZ3LopEoWgmopDWMJJPH7coKEFBDUOa4a4AqcRt1kIov\n",
       "b4Z1QRm7+7iiIh6jeh6MWQwq3+wHEkUOgQef0vsjlurX74tOXBcgAFSGwxl2nRT1qmygiBhJZRFq\n",
       "2F0ZS9euCIhux5yxNVSrmO+ub5w/UmyCjK35qPxzWvVDn5XPhD+lXMV9NNNu0gLMR/tpM1Xm5gTR\n",
       "QmLS49wvmTE+9SUIIwZorHpVv6dfHFYF3QTwsRLjLl+K21vRTrgl7w9bvZlVTEw9aK5lLi+c4FMV\n",
       "gw+xcHirq/LhCfsBiwAXEF3k6+ExjWw7XWZ6jfBg1gomVE9jc738HHsGQ3wqCfAkDXs4kx8aTXF+\n",
       "NRB48ZyjRHm/12bbSSpN21Wuv8lh0o5F6WEoYNH08QgFOI0CdkN1LBYzkSkhDhfPKIfSNG/A8NIV\n",
       "Ogfi2XPsyFI4fJUn0kFvr3H5hM2MHWRtwl6yxhhkA2p4G6HWFUGYEjnZTLBRINdwvZ7/0RGnEfRc\n",
       "o9qzbXJ5tBPLx1I6QVkEBYvQaxDTUaEeOyE53MxvOvvv2YOpDCj1E9ICJOciB1B//RTv3NtnHb4a\n",
       "a9q0s1uP53/PsnvD95Q7o4QIbrbf2e018hy7/xziosDapgad/Q/yHdY//MPyG0XU6STu3zC/AAAA\n",
       "AElFTkSuQmCC\n",
       "\" style=\"display:inline;vertical-align:middle;\" /></a></dd>"
      ],
      "text/plain": [
       "<IPython.core.display.HTML object>"
      ]
     },
     "metadata": {},
     "output_type": "display_data"
    },
    {
     "data": {
      "text/html": [
       "<dt><a class=\"ProveItLink\" href=\"../../implication/_proofs_/implicationClosure.ipynb\">proveit.logic.boolean.implication.implicationClosure</a></dt><dd><a class=\"ProveItLink\" href=\"../../implication/__pv_it/4e17fe59341997321c94d3de8826e06ad5569cf50/expr.ipynb\"><img src=\"data:image/png;base64,iVBORw0KGgoAAAANSUhEUgAAANEAAAAWBAMAAACs+WTQAAAAMFBMVEX///8QEBC6urrMzMxUVFRm\n",
       "ZmZERETc3NwyMjKqqqp2dnaIiIiYmJgiIiLu7u4AAAAU9Wx4AAAAAXRSTlMAQObYZgAAAzpJREFU\n",
       "SMe9Vk1oE0EU/pqfbpPdbosXC6KkIBRUbA4FRSgJGqpebKVEDyqmgqkFqTnZioihIBVB24MVj7mo\n",
       "EaEEtaL00NVDqRW1FfQgDaRQpQhVkSZWLa1vZnaTTbJ2veiDLzv7Zvd98755bzbAf7PMXz63Vcfa\n",
       "pvis/c8IU2zwwjaEMyjAhlNWFK2LoZY+oL3Y7R04tbSxC3D7gbvMcc2WqSojwIZfrR6oiADHfagq\n",
       "cVc6UvOfEkAcOEu3UsSWaVQH2csVK+0DKUIQSqKMSfYRzaRYqHvQlmmTDlrW0PeCuyDGWAx4nYBa\n",
       "y+/Ux+l0XGfyaAeAWRL4Tk/PBVsiR1yATJa/Ffyb86MOwjStuovf7XxlyqmBJKukZHLR6HtbJndC\n",
       "gGy7Z9m04yljtAj0dtP1Fs+726Re8zgtwNsG7AE6ubOf/97Ihlv85QWhCZAuPucvzp3mljVqc3F0\n",
       "ZIYNbvL4sQJTenUDXT1xJoDKZVGEKEotZKE1JpLJo0Zl+QRIQ0hZ0xI8feIq0+YtsC6oZ3cfiyri\n",
       "CannoJjVkPliPwhR3EE46C11JKzJXvW+3ok1PgGgKRTKmbOdXyciUiSZRQiwu3qWrlERiGyhnKk1\n",
       "ZK2a1+rwW/5KdQpuas1HDZ8zshfDWikT/dSZO/qKKPQaykf5aTA1mXNCpFIwqXHud6aifOqLHxMx\n",
       "KG1MEa9jRG+YikEBeFiJmfbpnf5AgJbk+mGot1DGxNRD527mcuEYn2ocfUiFw1tddh+cMV7QBHCO\n",
       "MGDapqCpnS4yvSZ4MK2IidRT2NwQP8eeY4xPJYGnGeziTF6061XMipSBF8+ZwsnQa2onZ13GqHL1\n",
       "jYlJORIRL6OCRVPfhkWAkyTgIJqj0WiKmBL64eKY4pA6lmIYX72UZ+rUr4dWQ6HLPBFRi73t+RM2\n",
       "N72ftQnbZIUxuGMI8DYirRv9mNNzMpiwXkeJlXWefhrh+lVRe4bN5kfbqHw0qR/SCiQqQldMMB02\n",
       "zoBJHXZWODSK7Z4xmMtBap1xLiOZDe+jGlNP8M69fdriq7GmzVu71Xjp96ywNton84wUFLCzvdZu\n",
       "V6zEsePPIc7rWNtkv7X/QalD+4d/WH4DPsTlkZ/P9zIAAAAASUVORK5CYII=\n",
       "\" style=\"display:inline;vertical-align:middle;\" /></a></dd>"
      ],
      "text/plain": [
       "<IPython.core.display.HTML object>"
      ]
     },
     "metadata": {},
     "output_type": "display_data"
    },
    {
     "data": {
      "text/html": [
       "<dt><a class=\"ProveItLink\" href=\"../../negation/_proofs_/closure.ipynb\">proveit.logic.boolean.negation.closure</a></dt><dd><a class=\"ProveItLink\" href=\"../../negation/__pv_it/72b98988c14db13303ee78323c7b5433c84d23350/expr.ipynb\"><img src=\"data:image/png;base64,iVBORw0KGgoAAAANSUhEUgAAAJsAAAAVBAMAAACj9YEXAAAAMFBMVEX///8QEBC6urrMzMxUVFRm\n",
       "ZmZERETc3NwyMjKqqqp2dnaIiIiYmJgiIiLu7u4AAAAU9Wx4AAAAAXRSTlMAQObYZgAAAnlJREFU\n",
       "OMutVEtoE0EY/pI0SZNs1uJNJBhFUHxADt6kpGihCmIFycXn4mFjUWgOkiKiBqEUSm29CN7cSxUR\n",
       "ZMGTpy6C4uNSDxURg1tRCVZFegg9iPr/M7O7ea1e/OBj55/559v/MTPA/4X719WoLdkGLd/b+TFx\n",
       "kQcvw+T2KAYYJB5td0rPnV3LjQHxAnCPJ2bD5Ga7FueI/R1eiajd+GIBNaBKZtIIUcvYki2Jvqfq\n",
       "aFaXXCZPWi/oT7QcvxEiF3ElA1w8XQH0AWmsXK+/UXIp5zCwTH+6OzFxOSzX7YoB7AXuw5gYx2bc\n",
       "ILptlGGCwmqa5tswuWOKQafd2w595oVRdYNkB5+SkT4C7AfKYnKqW25G0ccHFLmUt4RRDmpX/72R\n",
       "vimq31boNVHkVVXs6elJR/mtl4zXGVz/PK5SBNjMi7rR2opHZEWppllkxO5PP7m4pROwrZUtym9V\n",
       "UVRqiDg8PMoiRZF4jv7htQLGDlr+QQfByYoaPFii8Zkr30ku/TVELkqNrnlyPOFHByMh5fSaOPYx\n",
       "2wSeiOZZO08pvw2K3m7qXHbAT3axU46TRXkfT/XhpDjWJFfKebU7r6jkkiTXTxHgmZg51CZHyWq8\n",
       "/6b4y3MsIGbJ6OJ7ld+8fygIBTR46y9/7ls+kNOOG/KgIMKt15dK427stWme49qlld9uRYnqpilo\n",
       "42u055qwk5MF7wlovjrId5n1Ne5EvIJiQR+S0flykYpkB7xLljogO+th2R/tAtY5GFHJXvIuvNV9\n",
       "3zkcu/cluu8NPjaRHH2Hz3lxjE0n/IFiNHqryevQijtUu1ZcUGzHSG+5vsq/nv6kLdn+ChZ6Oz8E\n",
       "/gA3Vqps4Em40QAAAABJRU5ErkJggg==\n",
       "\" style=\"display:inline;vertical-align:middle;\" /></a></dd>"
      ],
      "text/plain": [
       "<IPython.core.display.HTML object>"
      ]
     },
     "metadata": {},
     "output_type": "display_data"
    },
    {
     "data": {
      "text/html": [
       "<dt><a class=\"ProveItLink\" href=\"../../negation/_proofs_/doubleNegationEquiv.ipynb\">proveit.logic.boolean.negation.doubleNegationEquiv</a></dt><dd><a class=\"ProveItLink\" href=\"../../negation/__pv_it/f322ba180cc051cc3b2cfae30452d2390720119a0/expr.ipynb\"><img src=\"data:image/png;base64,iVBORw0KGgoAAAANSUhEUgAAAL4AAAAVBAMAAAAKgUmDAAAAMFBMVEX///8QEBC6urrMzMxUVFRm\n",
       "ZmZERETc3NwyMjKqqqp2dnaIiIiYmJgiIiLu7u4AAAAU9Wx4AAAAAXRSTlMAQObYZgAAAjVJREFU\n",
       "OMu1lbFrFFEQxueyrnfc7a3BziJ4BgtBhSvsJNxhAldGkGtEjVhsEIVcIQki6hEICUFiGsHObaLY\n",
       "yP4H2UZQ0qSJhRg8RCUQEUkRLESc92Zud97uPWPjB7/dmfsew9682bcA/1m9v7pDESFSQ16NGCzl\n",
       "bKpgw7biHCPSVGPIJSYvdl+qeMVWf8U0zXWPkRKTF7uzeCtet5SvRIRIxb//iL31QiLfG3ZLeHNX\n",
       "LfULPUKkqe5OdQD8YSKnvuu9mJu7b2vPKUakqaJ1tbE3mawSdz8I3tvqX2ZEms5S71mMtzUmO3iJ\n",
       "Ow4wrX9azK96xIg00SdoqO14yoC7pNXMuifB7+oN2eONWV5eiLnGUcLdVgplCFCDhxfxdoLJKHWr\n",
       "UNHlvvzCy277CkTh7iiv2mOUnKYMwZmYmFRj12BMCbcSV/VYvNrC+MaD71i//O3g+kM4Tl1rfeH6\n",
       "Xf1WOlEA8FrvfHj6Gi87xnBREQKOdHVY9oc6t02vknSnL6hfDsFVAL0RUXuk3//bDBcVYRErlH5g\n",
       "/IYxZLhP9BH0FtbBCen53fO8zhi+ugx38Hr4t20+DbegBsnfas/0nHdBcEv1v8zrzjIiJc0eXwRv\n",
       "5ieOyDwQUqbrqe11O9Co+016/qR+oUOINCPr+ZC4pDMAR2JocX/u9Q8p8/QacJCVI2KwEufzPhQn\n",
       "P8DXmn6/gvifzud+p3esn6ec8xz7L3WHEampFjNYrYO+nsWIEKn5gagTls9HHf4AmKWyes7SRBgA\n",
       "AAAASUVORK5CYII=\n",
       "\" style=\"display:inline;vertical-align:middle;\" /></a></dd>"
      ],
      "text/plain": [
       "<IPython.core.display.HTML object>"
      ]
     },
     "metadata": {},
     "output_type": "display_data"
    },
    {
     "data": {
      "text/html": [
       "</dl>"
      ],
      "text/plain": [
       "<IPython.core.display.HTML object>"
      ]
     },
     "metadata": {},
     "output_type": "display_data"
    }
   ],
   "source": [
    "%dependencies foldForallOverBool"
   ]
  }
 ],
 "metadata": {
  "kernelspec": {
   "display_name": "Python 3",
   "language": "python",
   "name": "python3"
  }
 },
 "nbformat": 4,
 "nbformat_minor": 0
}
