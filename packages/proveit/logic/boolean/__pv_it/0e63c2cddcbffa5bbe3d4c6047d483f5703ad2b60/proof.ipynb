{
 "cells": [
  {
   "cell_type": "markdown",
   "metadata": {},
   "source": [
    "Show the Proof\n",
    "========"
   ]
  },
  {
   "cell_type": "code",
   "execution_count": 1,
   "metadata": {},
   "outputs": [
    {
     "data": {
      "text/html": [
       "<table><tr><th>&nbsp;</th><th>step type</th><th>requirements</th><th>statement</th></tr>\n",
       "<tr><td>0</td><td>assumption</td><td></td><td><span style=\"font-size:20px;\"><a class=\"ProveItLink\" href=\"../f196426e43f670b102d5a3a298566accd29fd1e70/expr.ipynb\"><img src=\"data:image/png;base64,iVBORw0KGgoAAAANSUhEUgAAAMEAAAAVBAMAAAANw5eWAAAAMFBMVEX////c3NxERESqqqpUVFS6\n",
       "urrMzMwyMjIQEBCIiIh2dnYiIiLu7u5mZmaYmJgAAABXZE4RAAAAAXRSTlMAQObYZgAAAgtJREFU\n",
       "SMe1VT1IAzEUftbr37U9igqOFhwcBHVzKip0t5sFlxs6iH9tQeniT0F0cbCTq4KLCoq4aQe7iB0L\n",
       "ggUFdRHBxS7i4mDey13t5ZrL5IN+SZN8fJeX7yUAYDzDP0XgNI5N9BrRX/Ze/CYOqAhGGiW2sBtu\n",
       "Imb5+IK48KmCcQkxU5iQEVh0kfgDQgNBLyGu8cnNDoQlwjx9OHVNBSFQRwwiHLcUwnzPxk1VpvCB\n",
       "oJn2Wi8CVzAOHQohvrD3JS5TqBE3wSBSVRC4QrTkUJjhc+WDtEzBN4ZYYL8kKAhcAQYdCo/cH9WJ\n",
       "V5mCTrSkpeJJsBTObIUYnuEGjd1CjtLbKGKsOBS66ahZhihTAiFGhOKkQ2Gc/T6xM4f73KaxNAzU\n",
       "ZXvwk+XYAWuUFy+CpZBBQ7Fudgf/fdFMKjWdkCkEqGzgAu5ARbAUcghDLIsZ0yYwt4fyCoV7OP9T\n",
       "kBDaFCJoWQ3XUHUzt0RK7YXszhL0s12AixAjQiXhyhKdg46UESx2Rgg2ZXsw+Mdqy7zUvAiWwrvD\n",
       "regsTLDvx9utEBiutqwoI4huJYVZgJ69Ahij325vzBMGrdJa542UgAnbpYStOm+NuOqur1ntIm/U\n",
       "BOHWoGvKM06E619J0Mu2gtF+e8u/SHSlisDrht6H6BVin2K9JmZFRYApPHNe+sZR612Sx37nh0we\n",
       "YdN6p38BcwCiSUNpYxcAAAAASUVORK5CYII=\n",
       "\" style=\"display:inline;vertical-align:middle;\" /></a> <a class=\"ProveItLink\" href=\"proof.ipynb\" style=\"text-decoration: none\">&#x22A2;&nbsp;</a><a class=\"ProveItLink\" href=\"../90fc205bf09704b1ac7487d0b0912b502ed1410b0/expr.ipynb\"><img src=\"data:image/png;base64,iVBORw0KGgoAAAANSUhEUgAAAKoAAAAVBAMAAAAkxGgRAAAAMFBMVEX////c3NwiIiJERESqqqqY\n",
       "mJh2dnZmZmYQEBDu7u4yMjJUVFTMzMyIiIi6uroAAAAs73DqAAAAAXRSTlMAQObYZgAAAbZJREFU\n",
       "OMu1VL9LQ0EMjq2vrX1tKeikg1L/AIvorFvBRScHB3ERJ6GIOIhgEWftWBykHUSs4I+5g0VQEYf2\n",
       "DxAsTuLUVQcxlxxPe23ucDBwyb13+b67S3IB+B9JNe3ry38FeC1UTzy/NRc3MkrGIVo3FiQASh9t\n",
       "uIPjjH9c9nB6IF2mA9KUNrAAEnml4wBJvo83UZRYF5XyFSH52gDM6q1AjBeHdtMSa4n8s6hCytcG\n",
       "YNaBArzzd/OlJbGGZ5Wu4MipiQ3ArDAFW5zX4vyCxBoh15xmtgI06xqckD2GBoVru6rkvIO1n9KF\n",
       "t6coGIAoAapXHaxzcEC2BaN56aypAnCSfLqzDaBZ3+CLvmq1m6zEmmiTGYMjsjaAZm2wE1ZjrOxg\n",
       "3YTVH1YBELDuK4NZDhV+P6juCMAwnlZJJyBKgEzWiMC0emjoFG9LZ/X4UP4dl78NoFmXsAqAAhb+\n",
       "sFcWJCaLumxkQFBZrwCDhxXwZj67c3pPOq7L/ZSNCFDB2KNgXEAs7WqVJW0f2bgB+GKxFThk3Wif\n",
       "TkCkGTQ2eWezglwAivqIw8c3b+wCwHXQv2V57t3wZUnW4Rt79IRJOuqnygAAAABJRU5ErkJggg==\n",
       "\" style=\"display:inline;vertical-align:middle;\" /></a></span></td></tr>\n",
       "</table>"
      ],
      "text/plain": [
       "<proveit._core_.proof._ShowProof at 0x7f950c5b3be0>"
      ]
     },
     "execution_count": 1,
     "metadata": {},
     "output_type": "execute_result"
    }
   ],
   "source": [
    "import proveit\n",
    "%show_proof"
   ]
  },
  {
   "cell_type": "code",
   "execution_count": null,
   "metadata": {},
   "outputs": [],
   "source": []
  }
 ],
 "metadata": {
  "kernelspec": {
   "display_name": "Python 3",
   "language": "python",
   "name": "python3"
  }
 },
 "nbformat": 4,
 "nbformat_minor": 0
}
