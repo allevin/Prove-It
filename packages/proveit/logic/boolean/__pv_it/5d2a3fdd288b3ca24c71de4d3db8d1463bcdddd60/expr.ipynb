{
 "cells": [
  {
   "cell_type": "markdown",
   "metadata": {},
   "source": [
    "Expression of type <a class=\"ProveItLink\" href=\"../../../../../../doc/html/api/proveit.ExprTuple.html\">ExprTuple</a>\n",
    "=======================\n",
    "# from context <a class=\"ProveItLink\" href=\"../../_context_.ipynb\">proveit.logic.boolean</a>"
   ]
  },
  {
   "cell_type": "code",
   "execution_count": 1,
   "metadata": {},
   "outputs": [],
   "source": [
    "# import Expression classes needed to build the expression\n",
    "from proveit import ExprTuple\n",
    "from proveit._common_ import A, C\n",
    "from proveit.logic import Booleans, Implies, InSet"
   ]
  },
  {
   "cell_type": "code",
   "execution_count": 2,
   "metadata": {},
   "outputs": [
    {
     "data": {
      "text/html": [
       "<strong id=\"expr\">expr:</strong> <a class=\"ProveItLink\" href=\"expr.ipynb\"><img src=\"data:image/png;base64,iVBORw0KGgoAAAANSUhEUgAAAI0AAAAVBAMAAACJRXC4AAAAMFBMVEX////c3NwiIiJERESqqqqY\n",
       "mJh2dnZmZmYQEBDu7u4yMjJUVFTMzMyIiIi6uroAAAAs73DqAAAAAXRSTlMAQObYZgAAAi9JREFU\n",
       "OMtjYKAW4LtAsRFxIOI0iJhrXR4gjiKX9Xn9CmUHBJ9HAZsJnJe3lzIWsB8AMlcCMVsrA8PzVlQl\n",
       "Bm85V6YhuFwfsJmTEcDAVxHAsICBgRfoLc5FE4BmfUQ3h+EeF4Ib9BPBngBjzNIEEvkCDGEMDBxA\n",
       "Qa5OUDg1gKXmLlLSgpnjyg3XweiOZM1KGGMFSP4FA8MMBoZXQFY9KBwYC8DBsHQCknuE4Vp5ef8h\n",
       "zHkNpdm/gEhguDI7MJQBTfgFDjJQYDEIT0D4i0fVEq71JctXhDls0CiWXwAi5wAFChiWAo1FUmKI\n",
       "CJ9H+j/gSYLzAc9fsAuUwOA7RLQ+ACrNsoChj4GBCeF1TgPkcL7rDE9kDIzfkeKAZR2Y0heASTcw\n",
       "AL3ND45STrBAE9A2eDgz8yVAFZ7evfszcmTO6gOR/2Gxx/MBZA4H2BwfcDBvQHYPMwPMeQ8YGLqQ\n",
       "jOFZBg7GfrDbDoDNaWFg4AYnDXB0cSpgNYcFiDWQwkcZEhv7QRQ7xF+mQNNAQcgGkdqKYg7QX2Bh\n",
       "ESBejxQ8UFefB8VDJhCzLmBIB1LxDgx8hRCpSQ+QzAm/zMD5CeRKUPzaw1MEgxSUZgWmn+egsAbG\n",
       "+yOQd3dtL4Gl2+UH4PnUqNuBgbNfgIHR4pcAQ/D/5ZiJ4/TqcnBW5nrAwCGAmq1YdkHjCxalApi5\n",
       "8wC6ADBfsCbgL1tYiSmAcpEzHfnmgMNPGr8aYkpLbpDfGSkvV+8wMAAAR82LpAetku8AAAAASUVO\n",
       "RK5CYII=\n",
       "\" style=\"display:inline;vertical-align:middle;\" /></a><br>"
      ],
      "text/plain": [
       "expr: (C in BOOLEANS , A => C)"
      ]
     },
     "execution_count": 2,
     "metadata": {},
     "output_type": "execute_result"
    }
   ],
   "source": [
    "# build up the expression from sub-expressions\n",
    "expr = ExprTuple(InSet(C, Booleans), Implies(A, C))"
   ]
  },
  {
   "cell_type": "code",
   "execution_count": 3,
   "metadata": {},
   "outputs": [
    {
     "name": "stdout",
     "output_type": "stream",
     "text": [
      "Passed sanity check: built 'expr' is the same as the stored Expression.\n"
     ]
    }
   ],
   "source": [
    "# check that the built expression is the same as the stored expression\n",
    "%check_expr"
   ]
  },
  {
   "cell_type": "code",
   "execution_count": 4,
   "metadata": {},
   "outputs": [
    {
     "data": {
      "text/html": [
       "<table><tr><th>&nbsp;</th><th>core type</th><th>sub-expressions</th><th>expression</th></tr>\n",
       "<tr><td>0</td><td>ExprTuple</td><td>1, 2</td><td><a class=\"ProveItLink\" href=\"expr.ipynb\"><img src=\"data:image/png;base64,iVBORw0KGgoAAAANSUhEUgAAAI0AAAAVBAMAAACJRXC4AAAAMFBMVEX////c3NwiIiJERESqqqqY\n",
       "mJh2dnZmZmYQEBDu7u4yMjJUVFTMzMyIiIi6uroAAAAs73DqAAAAAXRSTlMAQObYZgAAAi9JREFU\n",
       "OMtjYKAW4LtAsRFxIOI0iJhrXR4gjiKX9Xn9CmUHBJ9HAZsJnJe3lzIWsB8AMlcCMVsrA8PzVlQl\n",
       "Bm85V6YhuFwfsJmTEcDAVxHAsICBgRfoLc5FE4BmfUQ3h+EeF4Ib9BPBngBjzNIEEvkCDGEMDBxA\n",
       "Qa5OUDg1gKXmLlLSgpnjyg3XweiOZM1KGGMFSP4FA8MMBoZXQFY9KBwYC8DBsHQCknuE4Vp5ef8h\n",
       "zHkNpdm/gEhguDI7MJQBTfgFDjJQYDEIT0D4i0fVEq71JctXhDls0CiWXwAi5wAFChiWAo1FUmKI\n",
       "CJ9H+j/gSYLzAc9fsAuUwOA7RLQ+ACrNsoChj4GBCeF1TgPkcL7rDE9kDIzfkeKAZR2Y0heASTcw\n",
       "AL3ND45STrBAE9A2eDgz8yVAFZ7evfszcmTO6gOR/2Gxx/MBZA4H2BwfcDBvQHYPMwPMeQ8YGLqQ\n",
       "jOFZBg7GfrDbDoDNaWFg4AYnDXB0cSpgNYcFiDWQwkcZEhv7QRQ7xF+mQNNAQcgGkdqKYg7QX2Bh\n",
       "ESBejxQ8UFefB8VDJhCzLmBIB1LxDgx8hRCpSQ+QzAm/zMD5CeRKUPzaw1MEgxSUZgWmn+egsAbG\n",
       "+yOQd3dtL4Gl2+UH4PnUqNuBgbNfgIHR4pcAQ/D/5ZiJ4/TqcnBW5nrAwCGAmq1YdkHjCxalApi5\n",
       "8wC6ADBfsCbgL1tYiSmAcpEzHfnmgMNPGr8aYkpLbpDfGSkvV+8wMAAAR82LpAetku8AAAAASUVO\n",
       "RK5CYII=\n",
       "\" style=\"display:inline;vertical-align:middle;\" /></a></td></tr>\n",
       "<tr><td>1</td><td>Operation</td><td>operator:&nbsp;3<br>operands:&nbsp;4<br></td><td><a class=\"ProveItLink\" href=\"../0ee413cf47de5d4fbadc6f0977df3a1ee73919bd0/expr.ipynb\"><img src=\"data:image/png;base64,iVBORw0KGgoAAAANSUhEUgAAADYAAAAPBAMAAABdHiGLAAAAMFBMVEX////MzMyqqqoiIiIyMjK6\n",
       "uroQEBB2dnbc3NyYmJhmZmZUVFRERESIiIju7u4AAAB204erAAAAAXRSTlMAQObYZgAAANhJREFU\n",
       "GNNjYGDgu7NrJccCBiTA7n/kS/IhEKtsAgPrsgnIcgw8rBeePC9gYHhiB+TUN6DL8QY4MDC4PQBy\n",
       "wsBCfFeMjR2gckwT9jFwfQJxusByIvOQ9EUcYOgHK3wIIjjOIZkpPOcBw3qEK3gaEHLG/3MZGOwR\n",
       "rniD4pZLBxj+gzkg9zCEGRsj3MJwIJwhH8RmEgCR0sj6GA7wMOwHaeECizxGl5O/AGTXgUW4J6DI\n",
       "hTNwAv0XBXEPnymSHOfaA0BbvFcpQIVaFsLD+o/ZJgZUoO0McScEAABFOz+SfMQzfQAAAABJRU5E\n",
       "rkJggg==\n",
       "\" style=\"display:inline;vertical-align:middle;\" /></a></td></tr>\n",
       "<tr><td>2</td><td>Operation</td><td>operator:&nbsp;5<br>operands:&nbsp;6<br></td><td><a class=\"ProveItLink\" href=\"../666bca2c98a55cab9264db49b27aa7da3ed1ce280/expr.ipynb\"><img src=\"data:image/png;base64,iVBORw0KGgoAAAANSUhEUgAAAD8AAAAPBAMAAAChCwpBAAAAMFBMVEX///92dnYQEBBERERUVFS6\n",
       "urqIiIhmZmaqqqrc3Nzu7u6YmJgyMjIiIiLMzMwAAACFkkdwAAAAAXRSTlMAQObYZgAAAOFJREFU\n",
       "GNNjYACBtwxYAFeyezVnAYR9HpsCoQ0MrEUbwEzu+wsQ+mCMNbeAhPwEMHtG/QS4Ah6Y2kMgRhCE\n",
       "nZAfAFfA6gCh2X+AyOkQsQX9GxBWi0Go+QdA5DoweynD+wQQXXsXBO5DHF6PpCeAYX4Bkut7wPbd\n",
       "RziLz8XF3wDZ/4dAKv6D2WAXszIwMB1AUvBGCkTqgwiOByCygYGBVwHhhrtWYGX+IM3sIBYnUAHP\n",
       "B4QBLRAK7G6wWWuAmPkXXJ4Tahs3MBzCQQ6drH+Sgdv+D9wbzDDXPzlS3oAtivjQ+AD0rD2U4WZv\n",
       "AQAAAABJRU5ErkJggg==\n",
       "\" style=\"display:inline;vertical-align:middle;\" /></a></td></tr>\n",
       "<tr><td>3</td><td>Literal</td><td></td><td><a class=\"ProveItLink\" href=\"../../../set_theory/membership/__pv_it/088cbc857536a28d4119ad9639a84270ccb0545d0/expr.ipynb\"><img src=\"data:image/png;base64,iVBORw0KGgoAAAANSUhEUgAAAAwAAAAMBAMAAACkW0HUAAAALVBMVEX///+qqqpmZmZUVFQQEBC6\n",
       "urpERETc3NyYmJjMzMwiIiIyMjKIiIju7u4AAACYsrA9AAAAAXRSTlMAQObYZgAAADxJREFUCNdj\n",
       "YOA9vWrVBgaG2b0MQMCeCyIZ2ArA1DUwyRCyahVIyWQI7xaEYm4AU7xLIdxqTQgtvGvVBgCkcQ7e\n",
       "geM/tQAAAABJRU5ErkJggg==\n",
       "\" style=\"display:inline;vertical-align:middle;\" /></a></td></tr>\n",
       "<tr><td>4</td><td>ExprTuple</td><td>9, 7</td><td><a class=\"ProveItLink\" href=\"../84d7848e7a21e7958cbe263e3fe4465c645a02e80/expr.ipynb\"><img src=\"data:image/png;base64,iVBORw0KGgoAAAANSUhEUgAAADIAAAAVBAMAAAD2uKAMAAAAMFBMVEX////c3NwiIiJERESqqqqY\n",
       "mJh2dnZmZmYQEBDu7u4yMjJUVFTMzMyIiIi6uroAAAAs73DqAAAAAXRSTlMAQObYZgAAASVJREFU\n",
       "KM9jYMAN+C5gEWR9ACROg1hzrcsDxEGMrM/rVyg7MDDUANkrgZitlYHheStYtcFbzpVpDAxcDAy8\n",
       "QMM4F00Ayn6EyjDcAwqzJjBwAAW5OkH2NcBkXLknMHA2MLwC8uqBBjMwFsD1CANpE4YyoNgvkBDn\n",
       "AagMj6olkE5nWMrAwP4Vyb0Gj/R/gPzhxdDHwMD0EVnmLcNdZyD9guEfAwP/B7BpcBlmvgQGhvMg\n",
       "GQ6wjA9ChsEAJNPCwMD9EyRUgCrzgsGUgYHnLygYJkDMg5kWBXQdA0O8AwNfIQPDfAWITPhlsKsf\n",
       "AUmeXdtLgNSMj+AQNeoGeXwdA4cAwsUPEUxg6ACDDg4CEEy2C5BYwJSZBcTScB4vUlBsBIUxttjm\n",
       "PcAAAB/VTWJRVON/AAAAAElFTkSuQmCC\n",
       "\" style=\"display:inline;vertical-align:middle;\" /></a></td></tr>\n",
       "<tr><td>5</td><td>Literal</td><td></td><td><a class=\"ProveItLink\" href=\"../../implication/__pv_it/e5c030cabcb650938f92dee8256fe11cd12bf9b30/expr.ipynb\"><img src=\"data:image/png;base64,iVBORw0KGgoAAAANSUhEUgAAABMAAAANBAMAAAC5okgUAAAALVBMVEX////c3NxERETMzMwQEBCq\n",
       "qqoiIiJmZmaIiIh2dnZUVFS6uroyMjLu7u4AAACPpZJTAAAAAXRSTlMAQObYZgAAAD1JREFUCNdj\n",
       "YAABXgY44LkAZ3IvQAjPABFlaSCQV4AQjtkAZ/IegbNt5sLUpunC5aPgLMYDcCaTAJzJDCIA2yMN\n",
       "HCCUuIIAAAAASUVORK5CYII=\n",
       "\" style=\"display:inline;vertical-align:middle;\" /></a></td></tr>\n",
       "<tr><td>6</td><td>ExprTuple</td><td>8, 9</td><td><a class=\"ProveItLink\" href=\"../64d36ff9aa3116e2d1fb41c420506ad5fe919f950/expr.ipynb\"><img src=\"data:image/png;base64,iVBORw0KGgoAAAANSUhEUgAAADUAAAAVBAMAAAAUZLt1AAAAMFBMVEX////c3NwiIiJERESqqqqY\n",
       "mJh2dnZmZmYQEBDu7u4yMjJUVFTMzMyIiIi6uroAAAAs73DqAAAAAXRSTlMAQObYZgAAAS1JREFU\n",
       "KM9jYMAH+C5gFY4DEach7ENwUc7L20sZC9gPAJkrISLr4XIZAQx8FQEMCxgYeCFGsupPgErN0gQS\n",
       "+QIMYQwMHBAxkXoBqNwKkMALBoYZDAyvICIX7j+AMNi/gEhxBgZmB4YyiGMn+AdA5OQXgMg5DAxs\n",
       "BQxLwSLzGM5DvVIPVcPAsoChD8x4wCBfABHSh9nL18DwD0Tz7N693wAi9B9MAt3D8wEixwd07wKI\n",
       "XD/YvANguRYQ24GBgakBIrcf5AV2iJmmQIoRKMf1AWwSxE2ZoNBYwJAOCgogZv7JwPkJJAT033OQ\n",
       "e4B+eMTAINy/kIHV/lcBZz9I7PTqcgeQ4VwPGDgEkKILiQ0KM9YEBJcVOQJzEXGELscJ8pM0go+c\n",
       "ArhB5jNiTxN3GBgAYvhEoGDobKYAAAAASUVORK5CYII=\n",
       "\" style=\"display:inline;vertical-align:middle;\" /></a></td></tr>\n",
       "<tr><td>7</td><td>Literal</td><td></td><td><a class=\"ProveItLink\" href=\"../46271c8230be96415d662709611f4ed2279d702b0/expr.ipynb\"><img src=\"data:image/png;base64,iVBORw0KGgoAAAANSUhEUgAAAA0AAAAOBAMAAAAGUYvhAAAAMFBMVEX///9mZmbMzMzc3NxUVFSY\n",
       "mJju7u6IiIi6urqqqqoiIiIQEBBEREQyMjJ2dnYAAAAQvcRZAAAAAXRSTlMAQObYZgAAAElJREFU\n",
       "CNdjePvn/u01ExgYGA60s117B6YZKngh9FSWBAjfBsxnWnoMRHet/10AkS+fA6F5OB5AaIYDqDRU\n",
       "PLCGgQFoz6ktExgAgLIl8DFvGtkAAAAASUVORK5CYII=\n",
       "\" style=\"display:inline;vertical-align:middle;\" /></a></td></tr>\n",
       "<tr><td>8</td><td>Variable</td><td></td><td><a class=\"ProveItLink\" href=\"../../../../__pv_it/2cbe72a7ad6f655694dd697106680215e8489b600/expr.ipynb\"><img src=\"data:image/png;base64,iVBORw0KGgoAAAANSUhEUgAAAA8AAAAOBAMAAAACpFvcAAAALVBMVEX///8QEBBERERUVFS6urqI\n",
       "iIhmZmaqqqrc3Nzu7u6YmJgyMjIiIiLMzMwAAADtIaYWAAAAAXRSTlMAQObYZgAAAFtJREFUCNdj\n",
       "YACBOwxQsA9Kc52bAGG05zVAGAFxDmCaZULdAjBjCsO9ADDDgaEvAUTzGhvbKYCVMDAwbgAxChgY\n",
       "eASANAeQwf0AyJgNxEwvGRia5HYwcOm9TgAA6BoR3jrzwFcAAAAASUVORK5CYII=\n",
       "\" style=\"display:inline;vertical-align:middle;\" /></a></td></tr>\n",
       "<tr><td>9</td><td>Variable</td><td></td><td><a class=\"ProveItLink\" href=\"../../../../__pv_it/985a1bdf1540838275dec15f4ad6de261cca93ce0/expr.ipynb\"><img src=\"data:image/png;base64,iVBORw0KGgoAAAANSUhEUgAAAA8AAAAOBAMAAAACpFvcAAAAMFBMVEX////MzMyqqqoiIiIyMjK6\n",
       "uroQEBB2dnbc3NyYmJhmZmZUVFRERESIiIju7u4AAAB204erAAAAAXRSTlMAQObYZgAAAGZJREFU\n",
       "CNdjYGDgu7NrJccCBgaGsgkMrMsmMDA8sQNy6hsYGNweABlhDAxcn4A0QxcDQ78DiPGQgWH9BAYI\n",
       "sG+AMv6DSaCGfBDNJMDAsB+kmwuI5S8AiTog5gSaEwXWIO29SgFIAQBC+RaDQlidVgAAAABJRU5E\n",
       "rkJggg==\n",
       "\" style=\"display:inline;vertical-align:middle;\" /></a></td></tr>\n",
       "</table>\n"
      ],
      "text/plain": [
       "0. (C in BOOLEANS , A => C)\n",
       "   core type: ExprTuple\n",
       "   sub-expressions: 1, 2\n",
       "1. C in BOOLEANS\n",
       "   core type: Operation\n",
       "   operator: 3\n",
       "   operands: 4\n",
       "2. A => C\n",
       "   core type: Operation\n",
       "   operator: 5\n",
       "   operands: 6\n",
       "3. in\n",
       "   core type: Literal\n",
       "   sub-expressions: \n",
       "4. (C , BOOLEANS)\n",
       "   core type: ExprTuple\n",
       "   sub-expressions: 9, 7\n",
       "5. =>\n",
       "   core type: Literal\n",
       "   sub-expressions: \n",
       "6. (A , C)\n",
       "   core type: ExprTuple\n",
       "   sub-expressions: 8, 9\n",
       "7. BOOLEANS\n",
       "   core type: Literal\n",
       "   sub-expressions: \n",
       "8. A\n",
       "   core type: Variable\n",
       "   sub-expressions: \n",
       "9. C\n",
       "   core type: Variable\n",
       "   sub-expressions: "
      ]
     },
     "execution_count": 4,
     "metadata": {},
     "output_type": "execute_result"
    }
   ],
   "source": [
    "# display the expression information\n",
    "expr.exprInfo()"
   ]
  },
  {
   "cell_type": "code",
   "execution_count": null,
   "metadata": {},
   "outputs": [],
   "source": []
  }
 ],
 "metadata": {
  "kernelspec": {
   "display_name": "Python 3",
   "language": "python",
   "name": "python3"
  }
 },
 "nbformat": 4,
 "nbformat_minor": 0
}
