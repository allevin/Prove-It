{
 "cells": [
  {
   "cell_type": "markdown",
   "metadata": {},
   "source": [
    "Axiom Dependencies\n",
    "=======================\n",
    "\n",
    "## <a class=\"ProveItLink\" href=\"../../_context_.ipynb\">proveit.logic.boolean</a>.<a class=\"ProveItLink\" href=\"../../_axioms_.ipynb#eqTrueIntro\">eqTrueIntro</a> \n"
   ]
  },
  {
   "cell_type": "code",
   "execution_count": 1,
   "metadata": {},
   "outputs": [],
   "source": [
    "from proveit.logic.boolean._axioms_ import eqTrueIntro"
   ]
  },
  {
   "cell_type": "code",
   "execution_count": 2,
   "metadata": {},
   "outputs": [
    {
     "data": {
      "text/html": [
       "<h3>Theorems that depend directly on eqTrueIntro</h3>"
      ],
      "text/plain": [
       "<IPython.core.display.HTML object>"
      ]
     },
     "metadata": {},
     "output_type": "display_data"
    },
    {
     "data": {
      "text/html": [
       "<dl>"
      ],
      "text/plain": [
       "<IPython.core.display.HTML object>"
      ]
     },
     "metadata": {},
     "output_type": "display_data"
    },
    {
     "data": {
      "text/html": [
       "<dt><a class=\"ProveItLink\" href=\"../../conjunction/_proofs_/andIfBoth.ipynb\">proveit.logic.boolean.conjunction.andIfBoth</a></dt><dd><a class=\"ProveItLink\" href=\"../../conjunction/__pv_it/cd54a2b9b31685812aa22a6f9ac65a0ec54dd2df0/expr.ipynb\"><img src=\"data:image/png;base64,iVBORw0KGgoAAAANSUhEUgAAAK0AAAAXBAMAAACL0NJjAAAAMFBMVEX///8QEBC6urrMzMxUVFRm\n",
       "ZmZERETc3NwyMjKqqqp2dnaIiIiYmJgiIiLu7u4AAAAU9Wx4AAAAAXRSTlMAQObYZgAAAsVJREFU\n",
       "OMu1lT9oE1Ecx79Ncrk2uZyZdNMMbhUaQXAQyaGhFByaoVEcShUxddHcIG1FarNoEKTNUle7WVEk\n",
       "oluGnOKgdbCDWVQwFQWXYmn6z7ZWf+/37uklkkr8c3B5v/d77/d5v3/vAvynp/pHVp3brj6hd1YI\n",
       "L1rE+i05Hm7QP/2WTJ6LQYsDd8R8vEVuuxvlhDu/ohZ2AtoikAOGaKafapFbkoPxzuVfVXFs0LsE\n",
       "zMijtUKL3N1yuDRgS9x5lx9epcPWgTkabg8Pj7aI9eXkWCzHeAx0FqUiGAUidGiQHF3JZF63yNWm\n",
       "JL56y2Hhk6w+sMOCfo18D6WAo8AgK/P8e3M53R1nKaaKxMF2ZNN9Z5RG4t4jIf28h5NyIXGs1C/W\n",
       "OiigvTA5LGNR1iKKcJQlVcyX8oDHwANX0xZzDx5LsTCLEblQtmG+EpGIfCDMx3/clDFa8K16ueaA\n",
       "9K4P6LLdcJnrTyZ7eY9RRECGeFqwabt/gWroRLia9yu8FClCm/VyQ/PSqTdAP7xcHznOkZK9e1GW\n",
       "RHhTkmvmDvDpxQwvfY7jme3lHgqyYNZg5FUeuC/pJ8IZm1TF8YuQewsyDxg8wr3ietNVenQBXq4l\n",
       "3fdtlLrVtyQoMqOTffuCKvikal99TWRGxDHJds9RZptpqlDVwzUKYTYO5WC414HbiJqLDtgSXoqN\n",
       "EdW++8fVhjbRLGYlnWXcWUpFwcOdTx/fYpsUzC/qXpAnQ3vyMLJrBAiIbIcJomWXkj03uBGFyhA8\n",
       "zUaCa0q2XXEP9wT8Na5VAb6auhi76m5fXbfzM/dD2keWjp6HvgW94smvj1K5iREbY1WMptTumd9c\n",
       "yLtK+LACvfct1XN6Od1T+Mk1qUMvfnUSTmgi3Xf9l+9kk8fMNSgM78T78XTq9+nWttyA3aA42ITr\n",
       "b9x4eVvuw0aF04Rr/Mt/VOtvjL8DRD+w3zAevUsAAAAASUVORK5CYII=\n",
       "\" style=\"display:inline;vertical-align:middle;\" /></a></dd>"
      ],
      "text/plain": [
       "<IPython.core.display.HTML object>"
      ]
     },
     "metadata": {},
     "output_type": "display_data"
    },
    {
     "data": {
      "text/html": [
       "<dt><a class=\"ProveItLink\" href=\"../../conjunction/_proofs_/nandIfLeftButNotRight.ipynb\">proveit.logic.boolean.conjunction.nandIfLeftButNotRight</a></dt><dd><a class=\"ProveItLink\" href=\"../../conjunction/__pv_it/40045ea1b0d5838ab2d85b085249b014729edc2c0/expr.ipynb\"><img src=\"data:image/png;base64,iVBORw0KGgoAAAANSUhEUgAAANYAAAAXBAMAAACFeawMAAAAMFBMVEX///8QEBC6urrMzMxUVFRm\n",
       "ZmZERETc3NwyMjKqqqp2dnaIiIiYmJgiIiLu7u4AAAAU9Wx4AAAAAXRSTlMAQObYZgAAAxxJREFU\n",
       "SMe9Vk1oE1EQ/pLNn80mLV7Ui67gQajSHAQPIgkaqrcWJBWF0nowVdA2h2Iroi0FqQfRXCrezEWs\n",
       "KBJQTz109VT10HjoRSpGUeilWLQ/KrU6b/ZviG0Oi/ogebPz7c733rxvZhf4j6Pq+8lmYQfL9e58\n",
       "Tj/dACrq4pUPKi0jLvZZ08Gae/S2xWzrCMIpso8B95Xvhg+umMyIHeCmfXnF8Qe6gS4Dw+p+4AJN\n",
       "0W4fXBPCjlsp1N/Z/FcdIE1AOoOXCizx8sJFH1zbhR2wOC52Faz0nnf2PEmO6RLek5lsgn5vYOCy\n",
       "D6rgsLjYbU3lSYPnULMjlVP0e11FRG3mLLCcz7/xwRUuiYuTFn31jsnGnKU4GovAYC/Q0E72XeAw\n",
       "0MP+Uf6/tZRrTfGTrggKXlAXRcwUXNf5/wMfD42HOGFrdXHi6SzNm1QSbgO7kOR06F+s821CvEkZ\n",
       "ESfQtCFE7KAIkLfzLQ2VlM3sMjDUzkYFg7ZmVoB5qo2gemYnkECcl/hp1cpNBsEVyZXsEjtwUTQa\n",
       "orR4mVo228aC1ssIWZuPEEec4moLSpNkmwlWzaMZhhNlhCuSq2G+3eNy0XW4KOkBzhDFswu9kSb9\n",
       "h8eVHOai18p5hj+nMFWQXAciovpcFIGi4NqmDHIkOL9j7uGnKSWh714O0XOIdYpOhlsmnvRCcmXC\n",
       "FY/LRRExBdc51RCIK7bgiGzMLa8h2quu9jul3BzrBSYZHgeeVQWXXoyrAA35fP6MQC0Zc0IsOZPQ\n",
       "6Zk15VB5SDjlpW2teppHQAk1OZPr4yCnKVFFwTWf61izo0YEiqDYLfZSr9sxCr3vGwUNGU7X6viV\n",
       "zV5T+48p14haueIIF5Bm7VB2W1KC6zi0rx6XiwJbZI8qyI5iF4AYdo+yxx4SjRkdRXQN0RlxXkFa\n",
       "1ioGbbV4KLifumVXqt9kHqikO33r4zKibbPaKsaXckeLHleSKqb/p5k2rZPx0PXfKRsMbhZzte82\n",
       "YUckYP4ZICrflf11uUIqLUdqnPs34NIK60S4JInrfgM8VmJJ1TjNDbj0f/zRE/rrEX8DLp7KEuso\n",
       "EPoAAAAASUVORK5CYII=\n",
       "\" style=\"display:inline;vertical-align:middle;\" /></a></dd>"
      ],
      "text/plain": [
       "<IPython.core.display.HTML object>"
      ]
     },
     "metadata": {},
     "output_type": "display_data"
    },
    {
     "data": {
      "text/html": [
       "<dt><a class=\"ProveItLink\" href=\"../../conjunction/_proofs_/nandIfRightButNotLeft.ipynb\">proveit.logic.boolean.conjunction.nandIfRightButNotLeft</a></dt><dd><a class=\"ProveItLink\" href=\"../../conjunction/__pv_it/d0569cc6bbb5356494003b40b073257ea35f9a6b0/expr.ipynb\"><img src=\"data:image/png;base64,iVBORw0KGgoAAAANSUhEUgAAANYAAAAXBAMAAACFeawMAAAAMFBMVEX///8QEBC6urrMzMxUVFRm\n",
       "ZmZERETc3NwyMjKqqqp2dnaIiIiYmJgiIiLu7u4AAAAU9Wx4AAAAAXRSTlMAQObYZgAAAupJREFU\n",
       "SMe9Vk1oE0EYfZu/jWaTBi/qRSN4EKo0B6EnSdBQvaUgERRK48EUQdscxFZEGwoSD6K5VLyZi1pR\n",
       "JKCecsjqqerBeMhFKkZR6EUs0h+VUv3m291kshtzWNSBZL753s68nbdvvl3gP7am65n9Uuyp9Lry\n",
       "Of20GFAXg1cuqLxJabDf6A7YrtHSy6mhGfjjFB8F7ovcdRdcQVkRc4Eb5vCylVeywGgMBXE9cJ46\n",
       "NeuCqyrFIUNC7b3Jf8UCEgQkkngpwDLfnr/kgmuHFCsGx4XRvCHvWWvPNUq8LuMDhZEotHuTk5dc\n",
       "UHkK0mCP0VVqMe59/ZZVTtLvTRMBsZnTwGou99YFl78sDU4Y9M3bOgeLhuOoLQNT48DmYYrvAIeA\n",
       "Mc4X+f/mSmYozjM717ahCOoSeI3/P/LjofYQx02vLlefLlC/SYhwC9iNCMuhfTOebxShqAgCne61\n",
       "oVBIrpF31IQoWzgVw/QwB3VMmZ5ZA77Q2fCIObuAMEJ8i5/XDW2S8Kw5uewo+mLS0eIb8aZSaTa0\n",
       "VoHP2HyAOEI007skPEmxHmbXPGowHK7AX3dy2dEuXCS6wgrReuZB76NO+9nmihT40HsrOYa/xjGf\n",
       "d3A5UCgliWu7CCgRZn1nW483QYr5frQ1xNhB9ilGGB6oPhmHg8uBIqBLXGdEQSCu4JJlo9nW8Zqm\n",
       "vWpiv/MizaK8QI3hOeBZs811N5fLFbqgho15y4adyeg0Z0MkxEMLW8fLu63Z9jwUYdRIIzPBi5wi\n",
       "oUqd+8p2QeGpS9veR7VuZxHaxHda1BezqtaxX6nUVbH/oEjNCNuIVfx5JNg7pO5A3M7lRIGtco3K\n",
       "yxXFPABSM2uU2faSaXS1CHUDagN2LicKrqet01fuXWQeCNGtuvVpFWp6wbuOuZXMkZKNK94F7f5O\n",
       "+UPjYrFof7dJccAxResYqfK78lxPLp+Q+LAtOdiTa7BzeFEm7vkN8FiYJW5L6j259H/20eP76yv+\n",
       "BsgCyxFaw+qZAAAAAElFTkSuQmCC\n",
       "\" style=\"display:inline;vertical-align:middle;\" /></a></dd>"
      ],
      "text/plain": [
       "<IPython.core.display.HTML object>"
      ]
     },
     "metadata": {},
     "output_type": "display_data"
    },
    {
     "data": {
      "text/html": [
       "<dt><a class=\"ProveItLink\" href=\"../../disjunction/_proofs_/orIfBoth.ipynb\">proveit.logic.boolean.disjunction.orIfBoth</a></dt><dd><a class=\"ProveItLink\" href=\"../../disjunction/__pv_it/f979cfc1b658c41823f668f85654e0f5f421d65e0/expr.ipynb\"><img src=\"data:image/png;base64,iVBORw0KGgoAAAANSUhEUgAAAK0AAAAXBAMAAACL0NJjAAAAMFBMVEX///8QEBC6urrMzMxUVFRm\n",
       "ZmZERETc3NwyMjKqqqp2dnaIiIiYmJgiIiLu7u4AAAAU9Wx4AAAAAXRSTlMAQObYZgAAAshJREFU\n",
       "OMu1VU1oE1EQ/ppNsm2y3fakN83Bm0IiCB78SdBQCh6SQ6N4KFXE1otmD9JWpDQXDYK0udSrvVlR\n",
       "JKK3HLqKB60Hc7AXFUxFwUuxNP3T1uq8mWxdVxKJPwu7772ZN9/8fPPeAv/pqfyR1e6G2sf0ltXk\n",
       "eZOwWkLGQx75k2/J5LkIAjHgtlqPNYnbWstyXH18PI3xdxsQWARywCCt9FNN4pZkMN4qfL+CDBc5\n",
       "j3V6l4AZcR0oNIm7Q4ZLfZYCU1G1cwbhVXL2BZij4dbQ0EiTsL6cjMXpiBry9E6wINhJHshpkAJd\n",
       "6e9/1SRuYFLgKzdt1DDzLOlIQL9KkYfSwFFgANhS3VjOdAkHEYcklSzaspmeM46E4fAOca4q1UAT\n",
       "huLHSr1K10YJ7YLJaRmLwkUnwp08c8h8IQ4eAfdrkpZIzfFoGsKZXyTTFsyXKhNVD4TZ/YcNyTEB\n",
       "36ob1+yT6HqAqCWiDkbRksmU7CnjoyhOK2zari2QN1u4vDfLqvYiAmU3bmieg8JroBduXOrbFiHw\n",
       "JO6KYkmlNym4Zm4fey/2s+pTDE8tN+6BIE/MKoy8UwfuS/q0S8WG5dRCUymnClIHDBxRMn8tmmjp\n",
       "4QW4cRMSvm+91OXcJUFVGZ3sWxd47T/I/HH76muKJJXHBNs9wzTrpoihigvXKITZOJSDUTsO3EZc\n",
       "0uCmxHm+stW+e8ecDS3KmTmbybLyLJWi4MKdzxxn42Aa5mfnXFAkgzvzMLJrUvsrQnl2Kdl9nRtR\n",
       "EWAovICFOLct2UZjLtwT0KrMVQG+qnMwtnsOymHPem5rtocsbT0PfRP6rKu+PirlBoYtjFYwknZ2\n",
       "z/zmQN5xJu9XoKfeEJ9Ty5nuwg9ckzr04lc7bofGMz3Xfrkn6zxmziMw3Av35Wn/vE9PNMT1Wx7B\n",
       "/jq4mnfj5Ya4D7wCuw6u8S//qIm/Mf4OHOSxvzSERbcAAAAASUVORK5CYII=\n",
       "\" style=\"display:inline;vertical-align:middle;\" /></a></dd>"
      ],
      "text/plain": [
       "<IPython.core.display.HTML object>"
      ]
     },
     "metadata": {},
     "output_type": "display_data"
    },
    {
     "data": {
      "text/html": [
       "<dt><a class=\"ProveItLink\" href=\"../../disjunction/_proofs_/orIfOnlyLeft.ipynb\">proveit.logic.boolean.disjunction.orIfOnlyLeft</a></dt><dd><a class=\"ProveItLink\" href=\"../../disjunction/__pv_it/eb45adf15a3b0d0f10e9e7493be4dac879d76bd00/expr.ipynb\"><img src=\"data:image/png;base64,iVBORw0KGgoAAAANSUhEUgAAALgAAAAXBAMAAABKV5jPAAAAMFBMVEX///8QEBC6urrMzMxUVFRm\n",
       "ZmZERETc3NwyMjKqqqp2dnaIiIiYmJgiIiLu7u4AAAAU9Wx4AAAAAXRSTlMAQObYZgAAArVJREFU\n",
       "SMe1VT9oE1EY/yV3uYTc5QxOOhnBwUHpDYKDfxI0VLcUJBUFSR1MFbS9odg4SEtB4iCaRXEzi1hB\n",
       "JINOHXJuFYfGIYsUDKLQJSiatio1+r33LnfP0AY59YN7f77fe7/3/XvvgP8preBbw7VBqJECGmzw\n",
       "KhD5AdEd6WfNdbLDc8Ap4DGb3w5E7u66w73gQ4u3oTGgkEIMuEqz6FgQbl1ExXjLIqtaviZNXToD\n",
       "o4oYQZFKEPKQSNe1gk2twuxLCE2dFEtVmEkYj6anrweKyl7R1eop1pXpuys05+l7TedcAtaKxTeB\n",
       "yM+Kkmk9cOASlwXQAUoT1D8EjgPjgAfdW80PW36KSGK2T+ihJLd4+46HmIdEEalTOgvPl9ngPrAH\n",
       "5ixPzGeRnyT0JBtoPcKllFRmPZRkO29TmBlx06uKhfo60M7QYDcdCZ379WGDQ5EMwusyuVlwfHIP\n",
       "JeHGKNlsThjcwIrQa3S6zsjS1DsiyU+bHErUEGnI5PH2iE/uoT1yCl6IO44zeCL028hq47sgN2f5\n",
       "TVNqRQ59tLBoy+SHNOkWeCjJTtZQESdEnEpwT02Tp+o3ERaMH2MqFec4NLTwbAIyecYzVUZJLrPr\n",
       "R+SxT3yqHnafGlbmM8ybRVZEfPNL1Dk0D7xoSeRGRWeb48Vi8aKEikrjYda6okiutLwyV3a03AUh\n",
       "dqLZzE9y8AL5XpHI2/nRrsumSSjJfno7dpVhTH4VSbkh1KM/s9mbvAbmmG2MNGIjzQuYgjVkSeSn\n",
       "oXzxyT2UGWX/fqmO9l0ys1ez2EdZdqJlRLuINqWYh8mGDZTcFPsoM6o6+AbHe8/9+zVEc8vKBuZX\n",
       "8ycrPrlJRTz1w0lzNxUJ/YOHeqX/nZfGmgw4m+2eGkx+om9+cAtyxd5sd3Tgb063+hTOFuTGv/5z\n",
       "q39P8QvA3bDV2z1EqwAAAABJRU5ErkJggg==\n",
       "\" style=\"display:inline;vertical-align:middle;\" /></a></dd>"
      ],
      "text/plain": [
       "<IPython.core.display.HTML object>"
      ]
     },
     "metadata": {},
     "output_type": "display_data"
    },
    {
     "data": {
      "text/html": [
       "<dt><a class=\"ProveItLink\" href=\"../../disjunction/_proofs_/orIfOnlyRight.ipynb\">proveit.logic.boolean.disjunction.orIfOnlyRight</a></dt><dd><a class=\"ProveItLink\" href=\"../../disjunction/__pv_it/5ea0fe5f41473c0acbe3ab1323775fffb10a7bab0/expr.ipynb\"><img src=\"data:image/png;base64,iVBORw0KGgoAAAANSUhEUgAAALgAAAAXBAMAAABKV5jPAAAAMFBMVEX///8QEBC6urrMzMxUVFRm\n",
       "ZmZERETc3NwyMjKqqqp2dnaIiIiYmJgiIiLu7u4AAAAU9Wx4AAAAAXRSTlMAQObYZgAAAoBJREFU\n",
       "SMe1VT1oU1EU/tKXP8xLDE46GcHBQekbhC7WBA3VLYJEUJDGwVcEbTOIrYM0FCQOolkUN7OoFUQy\n",
       "6NQhcas4GIcsUjCIQhdRJG1VSvXcc14Sc194yFMPvHvPPd9937n3nHPvBf6ntP3/OlLzQs0U0FTK\n",
       "K1/kB6Ub11lznezEAnASeKzGt3yRO3/d5l2wanEbKACTKUSBKzSKFPxwxyQq5jsV2aDVt6SpS2dg\n",
       "VhElKFTxQx6QdF2dLFJrqPXFxVInw+sqEkmYj2Znr/mKyj7pavWU6sr03RHLOfrekJ8LwLptv/VF\n",
       "fkZKpn2/AYe4LEAHmJum/gFwFJgCetDdtfyE1U9RTzSU5Ca37znEHBJDUmd0lp6vKOUesBeJEifm\n",
       "q+QniVhSKeHB+tJQkh3cpjB/wklvMCWJ3gA+ZUjZQy4R43193GQolMHIhptcR0nYnZHN5mTBTayK\n",
       "PUzeY2p6mvqGJPlpi6F4DaGmm1xHu+QUvABvHKfxROzbadXmDyFPlPikGTWboc8WlosuchdKsks1\n",
       "VMRxidMcHK9pCkTwu4QFU0eUKYizDI0uPZuGi9yFklxUx4/Io19kyiHnqlFlPq92s6yKiD2+RJ2h\n",
       "ReBFu0/+0Lbt0hBUKo3DHN6SzV1q98rc2Nl2JgSUx0QrP8Pgedp7ZXDlhSEoyQG6O3aXYc5843LB\n",
       "dTGf+pnN3uASWVDlpX4LFZHmAqZgjVo6uRtViyoOnoTD2iFLdGsW+ynLjUgZkS1EWtDJ3ahaVNX7\n",
       "BG/rXvcf1hHJrRibWFzLH69o5NYQ9A8u6lX9nv9ND7vfFm182Zv8mDYe8yQf08YRz2cuZmmGhid5\n",
       "49+93MG/p/gFg82x1Dor51YAAAAASUVORK5CYII=\n",
       "\" style=\"display:inline;vertical-align:middle;\" /></a></dd>"
      ],
      "text/plain": [
       "<IPython.core.display.HTML object>"
      ]
     },
     "metadata": {},
     "output_type": "display_data"
    },
    {
     "data": {
      "text/html": [
       "<dt><a class=\"ProveItLink\" href=\"../../disjunction/_proofs_/singularConstructiveDilemma.ipynb\">proveit.logic.boolean.disjunction.singularConstructiveDilemma</a></dt><dd><a class=\"ProveItLink\" href=\"../../disjunction/__pv_it/d57de25fb482cc9f3cea56d72db03aa47a9d88e20/expr.ipynb\"><img src=\"data:image/png;base64,iVBORw0KGgoAAAANSUhEUgAAASwAAAAZBAMAAAB5kw7sAAAAMFBMVEX///8QEBC6urrMzMxUVFRm\n",
       "ZmZERETc3NwyMjKqqqp2dnaIiIiYmJgiIiLu7u4AAAAU9Wx4AAAAAXRSTlMAQObYZgAAA7lJREFU\n",
       "SMfNV11IFFEUPu66Ts7OjkJPFZVFPRW4D1IPEi7FWm9utKMkVlvhGIQ5D+YG4R8Ukg+1Lwm9GUHZ\n",
       "D9sWVg8KTQ9BPxA+pA+mtVKJZFgkGpZU556Z2fnxB2M26MDevXPOd+Z+99xzz70D4F7qRxXIpnhG\n",
       "h7PxmgHItjT+r7TS2aAlZp0WTfWlS1oB9iek3PMRH4ZruAjSusmeLrqkxSfwb1UWAn9VBc9+FWk1\n",
       "4QMXc0mLXtDkntXEW2zuKkiLzdGXcJvyLNwH3dNqZwHfxHJLuBGPN7veiS/i8bj7DembY+1pKhCz\n",
       "sjzsmlaBLNd3u6bV2sba90RrD0AdKTuo7ZqRyoMOeJHR6TA6NhTSyg1CHiv1vVLy0eIeYFrzG6To\n",
       "cYvaH66epHPiiGqW0y0gEknhG2mEQvAXar3OzvMaztgROsSG0mh5QjCBvV0q5BUu7mG1PgG4Z6q9\n",
       "IwBHqfdOMWkFwE+Df5zX1jcEnu8Ak1INpLonN9toIcTPZpdBmVV+APqR3DSGIubwMI+6jDUKUGwe\n",
       "o8UY9i7q/aY2TbT8aoAKTnKQlIEU+AbAf6xlCmnxn220EOJPaHMhlIVWP+DeHsP08qYcHkzy2VY3\n",
       "rW8ADpH+Cquga7EppceNhA3SCGJbCYUyJZPpSxCeKfCUdVPd2w5baREE+3sNlIXWhDeEFYeNknZ6\n",
       "MGHZm7GK0yBoOcfykf+KnSl6rGBWn35U1+1mqlx9AsV9vacAKNtS0npbbhHkPnAhA2WhldeIWT6U\n",
       "UVk8fDJKe9Bi9fzsK09DJapPrMbAm7W8jMUyqdO6TKvxHB6TqQczMu3t1qLlK7UOQpBxyFV0lJVW\n",
       "PpvUDyct46UAUtC08m0gbNAr1QEoMAuLgHVrq6LTymEcxUGpgcapxRVKeIdk+STLLd4yiAbhixoN\n",
       "lO1isw5/LEsmF3iQ7KgyrXkREOf0Va5VcpCWqJ/yJeekhHHfEmhFFSijQjTHtoYY0qJlo6VBxFiV\n",
       "gbLReoW/Sn0NbB5+CSUasVgLEmxXPmD6MIIQy6eXuAZuR7TKdQD3C7hBympaxLOWQQgCcAcp6yjn\n",
       "NXAsAXzQ6SFOodzOWM8o0JqG5ggw9SeMkrgG4NoSt9MPs8BVjHjnoWdG2odxHC+icipbUl6D0CY0\n",
       "UE5aYrQ6CQs9cK1CGWuZyl+Sohf0RaPaFr6VXv7SLGR61zG3nAmsCbeSS7PjpsRZxlUt+paV3eV3\n",
       "Lo6K/fVdfmkP70q+khy01H9PS8jel09oefPowu/EkLvvxNd/AKI4QYFUFwNPAAAAAElFTkSuQmCC\n",
       "\" style=\"display:inline;vertical-align:middle;\" /></a></dd>"
      ],
      "text/plain": [
       "<IPython.core.display.HTML object>"
      ]
     },
     "metadata": {},
     "output_type": "display_data"
    },
    {
     "data": {
      "text/html": [
       "<dt><a class=\"ProveItLink\" href=\"../../implication/_proofs_/eqFromMutualImpl.ipynb\">proveit.logic.boolean.implication.eqFromMutualImpl</a></dt><dd><a class=\"ProveItLink\" href=\"../../implication/__pv_it/f01524706e71547466e740299036893012695f4e0/expr.ipynb\"><img src=\"data:image/png;base64,iVBORw0KGgoAAAANSUhEUgAAAQEAAAAXBAMAAAD5Ouf8AAAAMFBMVEX///8QEBC6urrMzMxUVFRm\n",
       "ZmZERETc3NwyMjKqqqp2dnaIiIiYmJgiIiLu7u4AAAAU9Wx4AAAAAXRSTlMAQObYZgAAAxxJREFU\n",
       "SMfFVk9IFFEY/7nrOK67rkJQXYoluhm1geShg0ttJXRQqK1LRgauQpB7SkISO5ghYXsx6LanMoRY\n",
       "qE4e3KKijGiD7BAFK2SHFAtRsz9o3/vezOybmc2lw9QHM/Pt+37fe7/9ve97M8B/t4KnszeUiT+i\n",
       "Ky+cFx4R8MfkI++KPF6Px7sj0KLAHfF7xCMG1VLh6q/u0GZAWwQGgAv0Sz/jEYMJ+Xi55lbnJ11L\n",
       "wJSkqaU9YrCd7/roN1ckSEOhH8AMPW739l7yiIBvQK4WXHSFquqBWiJYRX9+JZl85xEDLcOP3YFf\n",
       "rlBdDPoVkr+mDTgIdPHgEN9vLCcORx3wiOkMKYMW0J1hwqpz4h6OiE0nPlfZZHs0H51oF9EAybQT\n",
       "YRYrJKUK1SNYL73h4UGeAmahhlQ1LWAxwwmrYOo+6MsuDSZTCL8RQbEbCPI6s1IqLQYfVclc4hSy\n",
       "mbkdNgazqpoGUHHghNUxg8Z4fMXFoEOwoHX91KjBXC137d1pDtVmoeURPNu/QAxq5m0MDEggXQSq\n",
       "Dm7aYCYDum11MaBGxKuMZBAeaOQGzSY59CWKZyk8EW4203BaZWBCZN1IoOqgKmWDoUJQDdD1mrX6\n",
       "wMaT+YVMrWm5C+g6IMYq0c5Zeybun+ejihgkttnqQEC0JNnlqAW0nBM03r1JnYkYifSLdF0vdRzo\n",
       "q6JmxEqjLOFzTHJsDHhY8GekBtp+lYEJARJRA2hlGLVxzAYTrcZl3lMocRzsHTEgqMiKlplOSFgn\n",
       "yZr2v00mz4k6qFEYWBBg30kDaGUY+9SZUmG+PPSO1RSerg86DoqepXjLNW5YUSohgddSaOam/k6y\n",
       "RsMxqYGNAUOCCbLjbSbQysADETikzkS2peyhNWN5u6hyc/oQ9DXoVMpHjF3oUxgwJLxANi4OewYW\n",
       "M8T456wJM2adKstg3HQ+rkBvfU8VOracaCFJP0X4REoqlSgh1ltfAosZ3Pk2WPHt/GeTh6F6mlne\n",
       "LaoDyxwvb71QKoOs37mAHivDoDLlGGgqjdvg86Fp4xX6yjC45xzI/TWD3L/5mo15Oflv/6gIdNz5\n",
       "6NQAAAAASUVORK5CYII=\n",
       "\" style=\"display:inline;vertical-align:middle;\" /></a></dd>"
      ],
      "text/plain": [
       "<IPython.core.display.HTML object>"
      ]
     },
     "metadata": {},
     "output_type": "display_data"
    },
    {
     "data": {
      "text/html": [
       "<dt><a class=\"ProveItLink\" href=\"../../implication/_proofs_/iffFF.ipynb\">proveit.logic.boolean.implication.iffFF</a></dt><dd><a class=\"ProveItLink\" href=\"../../implication/__pv_it/5f734160fa600ccc4368d888eedcac31ca6a55280/expr.ipynb\"><img src=\"data:image/png;base64,iVBORw0KGgoAAAANSUhEUgAAAHoAAAAVBAMAAAB71edYAAAAMFBMVEX////c3NwiIiJERESqqqqY\n",
       "mJh2dnZmZmYQEBDu7u4yMjJUVFTMzMyIiIi6uroAAAAs73DqAAAAAXRSTlMAQObYZgAAAQxJREFU\n",
       "OMtjYKAM8F0gqCQOt9RpMCmLQxYszn4AXbhICQSUGRhWgrnHceiGiC/AJcN7gQjdYbhkOCag6Qba\n",
       "w1OApnsGLt2vGFB1g91iiKab2QGH7jI03adAhBSabrYCHLqXourm6QAFpv5KVN0s4GCrWgUCq5Fl\n",
       "+lB134IEw6sHKLr5GnDY/Q9F9wwDCM3YjaKb5wNRujm3Q2ipC8TpbkF1OQs4ESkpMmBxOTyBIWRM\n",
       "0cLcG0RMEkDVzboAh93paLrZQVG7j9gYewRxkgbMSZxAaxgN4HkBIs71AFP3MXBKFUATBeYnzglo\n",
       "YjNwZVDWBCLKgFycMisJa+ZcgFNKmrBubgGcUoyES6Y7uCQAmchO/vU+Xk0AAAAASUVORK5CYII=\n",
       "\" style=\"display:inline;vertical-align:middle;\" /></a></dd>"
      ],
      "text/plain": [
       "<IPython.core.display.HTML object>"
      ]
     },
     "metadata": {},
     "output_type": "display_data"
    },
    {
     "data": {
      "text/html": [
       "<dt><a class=\"ProveItLink\" href=\"../../implication/_proofs_/iffTT.ipynb\">proveit.logic.boolean.implication.iffTT</a></dt><dd><a class=\"ProveItLink\" href=\"../../implication/__pv_it/1ea7b5da3b573cd5fbba17320bc9d9ce566310930/expr.ipynb\"><img src=\"data:image/png;base64,iVBORw0KGgoAAAANSUhEUgAAAHoAAAAVBAMAAAB71edYAAAAMFBMVEX////c3NwiIiJERESqqqqY\n",
       "mJh2dnZmZmYQEBDu7u4yMjJUVFTMzMyIiIi6uroAAAAs73DqAAAAAXRSTlMAQObYZgAAAQlJREFU\n",
       "OMtjYKAM8F0gqCQOt9RpBoYiJRBQxpCCibMfwCXDsBLMPY7DbIj4AlwyvBeI0B2GS4ZjAppuoD08\n",
       "BWi6Z+DS/YoBVTfYLYZoupkdcOguQ9N9CkRIoelmK8Cheymqbp4OUGDqr0TVzQIOtqpVILAaWaYP\n",
       "VfctSDC8eoCim68Bh93/UHTPMIDQjN0ounk+EKWbczuElrpAnO4WVJezgBORkiIDFpejJkmwjCla\n",
       "mHuDiEkCqLpZF+CwOx1NNzsoavcRG2OPIOxjMEFOoDWMBnA1EHGuB5i6wTIcAmiiwPzEOQFNbAau\n",
       "DMqaQEQZkItTZiVhzZwLcEpJE9bNLYBTipFwyXQHlwQAfKdQRGUYkG8AAAAASUVORK5CYII=\n",
       "\" style=\"display:inline;vertical-align:middle;\" /></a></dd>"
      ],
      "text/plain": [
       "<IPython.core.display.HTML object>"
      ]
     },
     "metadata": {},
     "output_type": "display_data"
    },
    {
     "data": {
      "text/html": [
       "<dt><a class=\"ProveItLink\" href=\"../../implication/_proofs_/impliesFF.ipynb\">proveit.logic.boolean.implication.impliesFF</a></dt><dd><a class=\"ProveItLink\" href=\"../../implication/__pv_it/e15695361e86685be05286748f540c0eb075c2a20/expr.ipynb\"><img src=\"data:image/png;base64,iVBORw0KGgoAAAANSUhEUgAAAHoAAAAVBAMAAAB71edYAAAAMFBMVEX////c3NwiIiJERESqqqqY\n",
       "mJh2dnZmZmYQEBDu7u4yMjJUVFTMzMyIiIi6uroAAAAs73DqAAAAAXRSTlMAQObYZgAAAPFJREFU\n",
       "OMtjYKAM8F0gqCQOt9RpMCmLQxYszn4AXbhICQSUGRhWgrnHceiGiC/AJcN7AVP3BHTdYbh0c0zA\n",
       "1L0SXfcMXLpfMWDqfo2um9kBh+4yLLrZLqDpZivAoXspim52cFgqfUfTzQIOtqpVILAaWaYPi90M\n",
       "LOtQdfM14LD7HzbdDLP6UHTzfCBFN8+yCcTpbsHmb+UJ2FwOT2AIGVMsdrNsQAs11gU47E7HoluK\n",
       "gdgYewRxkgbCSQwMhoi8ABHneoCp+xg4pQpgSmBkqRm4MihrAhFlQC5OmZWENXMuwCklTVg3twBO\n",
       "KUbCJdMdXBIAKUhJ2SA8t88AAAAASUVORK5CYII=\n",
       "\" style=\"display:inline;vertical-align:middle;\" /></a></dd>"
      ],
      "text/plain": [
       "<IPython.core.display.HTML object>"
      ]
     },
     "metadata": {},
     "output_type": "display_data"
    },
    {
     "data": {
      "text/html": [
       "<dt><a class=\"ProveItLink\" href=\"../../implication/_proofs_/impliesFT.ipynb\">proveit.logic.boolean.implication.impliesFT</a></dt><dd><a class=\"ProveItLink\" href=\"../../implication/__pv_it/1d10038ee5ca5c7ed8be49e96b5b51c85f55b4b70/expr.ipynb\"><img src=\"data:image/png;base64,iVBORw0KGgoAAAANSUhEUgAAAHoAAAAVBAMAAAB71edYAAAAMFBMVEX////c3NwiIiJERESqqqqY\n",
       "mJh2dnZmZmYQEBDu7u4yMjJUVFTMzMyIiIi6uroAAAAs73DqAAAAAXRSTlMAQObYZgAAAO9JREFU\n",
       "OMtjYKAM8F0gqCQOt9RpMCmLTapICQSUGdgP4JJhWAnmHsdhNkR8AS4Z3guYuieg6w7DpZtjAqbu\n",
       "lei6Z+DS/YoBU/drdN3MDjh0l2HRzXYBTTdbAQ7dS1F0s4PDUuk7mm4WcLBVrQKB1cgyfVjsZmBZ\n",
       "h6qbrwGH3f+w6WaY1Yeim+cDKbp5lk0gTncLNn8rT8DmcngCQ8iYYrGbZQNaqLEuwGF3OhbdUgzE\n",
       "xtgjiJM0EE5iYDBEqDkGJrkeYOoGy3AIYEpgZKkZuDIoawIRZUAuTpmVhDVzLsApJU1YN7cATilG\n",
       "wiXTHVwSAJMMSnyRAZQFAAAAAElFTkSuQmCC\n",
       "\" style=\"display:inline;vertical-align:middle;\" /></a></dd>"
      ],
      "text/plain": [
       "<IPython.core.display.HTML object>"
      ]
     },
     "metadata": {},
     "output_type": "display_data"
    },
    {
     "data": {
      "text/html": [
       "<dt><a class=\"ProveItLink\" href=\"../../implication/_proofs_/impliesTT.ipynb\">proveit.logic.boolean.implication.impliesTT</a></dt><dd><a class=\"ProveItLink\" href=\"../../implication/__pv_it/f6d083d5fe5bc7cc9cfbb1eecd58ac0bea53789c0/expr.ipynb\"><img src=\"data:image/png;base64,iVBORw0KGgoAAAANSUhEUgAAAHoAAAAVBAMAAAB71edYAAAAMFBMVEX////c3NwiIiJERESqqqqY\n",
       "mJh2dnZmZmYQEBDu7u4yMjJUVFTMzMyIiIi6uroAAAAs73DqAAAAAXRSTlMAQObYZgAAAOxJREFU\n",
       "OMtjYKAM8F0gqCQOt9RpBoYiJRBQxpCCibMfwCXDsBLMPY7DbIj4AlwyvBcwdU9A1x2GSzfHBEzd\n",
       "K9F1z8Cl+xUDpu7X6LqZHXDoLsOim+0Cmm62Ahy6l6LoZgeHpdJ3NN0s4GCrWgUCq5Fl+rDYzcCy\n",
       "DlU3XwMOu/9h080wqw9FN88HUnTzLJtAnO4WbP5WnoDN5ahJEixjisVulg1ooca6AIfd6Vh0SzEQ\n",
       "G2OPIOxjyBKGCCZEnOsBpm6wDIcApgRGlpqBK4OyJhBRBuTilFlJWDPnApxS0oR1cwvglGIkXDLd\n",
       "wSUBAAwnSx8aI9PtAAAAAElFTkSuQmCC\n",
       "\" style=\"display:inline;vertical-align:middle;\" /></a></dd>"
      ],
      "text/plain": [
       "<IPython.core.display.HTML object>"
      ]
     },
     "metadata": {},
     "output_type": "display_data"
    },
    {
     "data": {
      "text/html": [
       "<dt><a class=\"ProveItLink\" href=\"../../negation/_proofs_/doubleNegationEquiv.ipynb\">proveit.logic.boolean.negation.doubleNegationEquiv</a></dt><dd><a class=\"ProveItLink\" href=\"../../negation/__pv_it/f322ba180cc051cc3b2cfae30452d2390720119a0/expr.ipynb\"><img src=\"data:image/png;base64,iVBORw0KGgoAAAANSUhEUgAAAL4AAAAVBAMAAAAKgUmDAAAAMFBMVEX///8QEBC6urrMzMxUVFRm\n",
       "ZmZERETc3NwyMjKqqqp2dnaIiIiYmJgiIiLu7u4AAAAU9Wx4AAAAAXRSTlMAQObYZgAAAjVJREFU\n",
       "OMu1lbFrFFEQxueyrnfc7a3BziJ4BgtBhSvsJNxhAldGkGtEjVhsEIVcIQki6hEICUFiGsHObaLY\n",
       "yP4H2UZQ0qSJhRg8RCUQEUkRLESc92Zud97uPWPjB7/dmfsew9682bcA/1m9v7pDESFSQ16NGCzl\n",
       "bKpgw7biHCPSVGPIJSYvdl+qeMVWf8U0zXWPkRKTF7uzeCtet5SvRIRIxb//iL31QiLfG3ZLeHNX\n",
       "LfULPUKkqe5OdQD8YSKnvuu9mJu7b2vPKUakqaJ1tbE3mawSdz8I3tvqX2ZEms5S71mMtzUmO3iJ\n",
       "Ow4wrX9azK96xIg00SdoqO14yoC7pNXMuifB7+oN2eONWV5eiLnGUcLdVgplCFCDhxfxdoLJKHWr\n",
       "UNHlvvzCy277CkTh7iiv2mOUnKYMwZmYmFRj12BMCbcSV/VYvNrC+MaD71i//O3g+kM4Tl1rfeH6\n",
       "Xf1WOlEA8FrvfHj6Gi87xnBREQKOdHVY9oc6t02vknSnL6hfDsFVAL0RUXuk3//bDBcVYRErlH5g\n",
       "/IYxZLhP9BH0FtbBCen53fO8zhi+ugx38Hr4t20+DbegBsnfas/0nHdBcEv1v8zrzjIiJc0eXwRv\n",
       "5ieOyDwQUqbrqe11O9Co+016/qR+oUOINCPr+ZC4pDMAR2JocX/u9Q8p8/QacJCVI2KwEufzPhQn\n",
       "P8DXmn6/gvifzud+p3esn6ec8xz7L3WHEampFjNYrYO+nsWIEKn5gagTls9HHf4AmKWyes7SRBgA\n",
       "AAAASUVORK5CYII=\n",
       "\" style=\"display:inline;vertical-align:middle;\" /></a></dd>"
      ],
      "text/plain": [
       "<IPython.core.display.HTML object>"
      ]
     },
     "metadata": {},
     "output_type": "display_data"
    },
    {
     "data": {
      "text/html": [
       "<dt><a class=\"ProveItLink\" href=\"../../negation/_proofs_/notF.ipynb\">proveit.logic.boolean.negation.notF</a></dt><dd><a class=\"ProveItLink\" href=\"../../negation/__pv_it/7c4bdfb3c61f1f462f280ae227f041631f1199ea0/expr.ipynb\"><img src=\"data:image/png;base64,iVBORw0KGgoAAAANSUhEUgAAAFcAAAAVBAMAAADBdm84AAAAMFBMVEX////c3NwiIiJERESqqqqY\n",
       "mJh2dnZmZmYQEBDu7u4yMjJUVFTMzMyIiIi6uroAAAAs73DqAAAAAXRSTlMAQObYZgAAALZJREFU\n",
       "KM9jYCAJ8F1AE2B9gFvxaSQ2I1hjDboSdiUwMGBgWIkkylMAIrmwGAmR4b2AIcSagEsxxwQMIc4G\n",
       "XIpfYQoxmOBSXIZFcTouxUuxKPYCB8EqMNiALNMHC5kEhOIXuEz+B+NtQCg+TxXFLVgUv0CNNoRi\n",
       "UyyKo3CZDA+mA0QE3SOU5NIEtncdFsXgJMAhgCGBLbqhqRcz1bBdwJmeV2KIzMKd+KUxRDbiVsyI\n",
       "binvAVxKAWKAMbd4UITXAAAAAElFTkSuQmCC\n",
       "\" style=\"display:inline;vertical-align:middle;\" /></a></dd>"
      ],
      "text/plain": [
       "<IPython.core.display.HTML object>"
      ]
     },
     "metadata": {},
     "output_type": "display_data"
    },
    {
     "data": {
      "text/html": [
       "<dt><a class=\"ProveItLink\" href=\"../../../equality/_proofs_/subLeftSideInto.ipynb\">proveit.logic.equality.subLeftSideInto</a></dt><dd><a class=\"ProveItLink\" href=\"../../../equality/__pv_it/3ec60be0054bb218e4347eeddae1ab877388efa90/expr.ipynb\"><img src=\"data:image/png;base64,iVBORw0KGgoAAAANSUhEUgAAAMIAAAAXBAMAAACrPI2eAAAAMFBMVEX///8QEBC6urrMzMxUVFRm\n",
       "ZmZERETc3NwyMjKqqqp2dnaIiIiYmJgiIiLu7u4AAAAU9Wx4AAAAAXRSTlMAQObYZgAAAsZJREFU\n",
       "SMe1Vk1oE1EQ/pLd5m832+BFvEgED0KRRhA8NmhRsRdBeyke1oOtf5CAYlARFy8VFPVSEXJwEYq1\n",
       "ouRQD/bSFS+CiDkoghQpgkW8NKixttTqvL/ta8OCSjqwmdlvv51v38y8R4B1t5l1yRqvCW/ngToL\n",
       "XrYn78Tv3t43ZRbtVNAh4AHzN9r06T+BxMZVCVPAOXJJtz0CxiKQpgtWTUG2jxQ1ouNWexSsr5Sy\n",
       "SUEs7K6Tg32/UrnUpiIlGoC5QMG2FewE8GNw8P3fJTjDf9PRhE4PmGMVH6DrwsT5J1SsUWAPMETv\n",
       "lfoPD7UOnXC3m/17y0j6oth+pEKPD+MtC65TeXx7OkaDegfYCoek8Qx41Lps2a4cMnV1g3uRClMH\n",
       "xgf4sG4AMrAa6QKwBcjCCgjsBV7PRCiYRdjLqErwc6RCSSWgjjsw+YT20AAEWfZgGtgftYZsANOD\n",
       "KqJZiFL4hRUFGqiaVHA8tgGdb7Df0domuqgv6HKxWVOYK+BVGTmJ82GXRGhkGE2lsIn9XC6wI4mq\n",
       "hKHdrKeL40fIPTZdeurU5o2cptA9PhrA8CQeL0qieZXsWkjm20HYaepdeQoWKbyg2xF2NGU8/iif\n",
       "Yj1JfqxbrqYwxueqKHHDC4nQyUgsKwUa0bvBUVwUoahX4qAcaT4Lpm/WNIVjfB8UJc4VJFEnfyp9\n",
       "V4fFdmB28stD9hFX2CyyRnfKg2MHWB9j+VhBU1jga3AlHnclMcGrFJI1i5W1U0NtFsKSw0ZjDH5y\n",
       "GLFCtzZLxjznUjE5bvuSqNJJsmZ2uCszalmZm3SQG0vOqZHJGWMJ6b7jmsJYk3/jBwi8Iy+J8l1F\n",
       "1i08vddsHlu5Cvr0/SDsKQSeConCFFm3syrYtxrfpdzJuNeqMAuBV0OiMEXWLSmLY63pUKBcdRKt\n",
       "CmmJF0OiMEX+LzNX3T0XLfvH/w5/AOrJuu1B3OWnAAAAAElFTkSuQmCC\n",
       "\" style=\"display:inline;vertical-align:middle;\" /></a></dd>"
      ],
      "text/plain": [
       "<IPython.core.display.HTML object>"
      ]
     },
     "metadata": {},
     "output_type": "display_data"
    },
    {
     "data": {
      "text/html": [
       "<dt><a class=\"ProveItLink\" href=\"../../../equality/_proofs_/substituteInTrue.ipynb\">proveit.logic.equality.substituteInTrue</a></dt><dd><a class=\"ProveItLink\" href=\"../../../equality/__pv_it/3a696a27b1f070de66f16ee5991ade69f2b12ac30/expr.ipynb\"><img src=\"data:image/png;base64,iVBORw0KGgoAAAANSUhEUgAAAKMAAAAXBAMAAACVGeLQAAAAMFBMVEX///8QEBC6urrMzMxUVFRm\n",
       "ZmZERETc3NwyMjKqqqp2dnaIiIiYmJgiIiLu7u4AAAAU9Wx4AAAAAXRSTlMAQObYZgAAAlZJREFU\n",
       "OMutVb9rFFEQ/m737rK3t7dJJzZyRbBJs4KCCHJLElQQyYE/GhXOJldY3FZGFGH/ANEUplJwESSa\n",
       "YBBMoxaelrEwlYIobBqxEQRDlBTqzHu7d7ObiHpk4O2b9+1335t5M28P2HmLd0JkrOe9orHKzutB\n",
       "dKpT65MnjrJn+jj/ke0tSh7wkLEbA8U2HAIXAnIsleoBBRJ2iaah1kCSjQi4SwPP0Zdc0TuUZgeS\n",
       "fFEH3jTJ2SMk1wBnfmbm2mBF6dCYomiMUEiWCdiYnn7/l98Oefys5OEfgLtBcykSkjaFPQG0id85\n",
       "faot6HX1TNAramFGWUVzEzjMeVtdIVmhkEfhcuAvgUeCnxRMo8niXq6J1hfuz7NTqAtJYwSoocq7\n",
       "TNJRx1skFVp5rBefs5Lln2kzSUnzK23WrbHUB+DY1igVWg70ouhl23L1T5JuuJ889xucdzQvji97\n",
       "fUmNFujQl8cmUFXRpgw0molkYTaXONrj7G0unON6xUc0QUtq9CCwVGzthuFLhmpLfQKyPA4XZo4T\n",
       "sHVvGbguE9foKDUAV9UMJQOd9OjtZq6JUOB8ymkW36WkRm/xeQWJZMpwz/w6nvzE0Id6SD0tjt3h\n",
       "3YaTO2mOmEJSo3tp7IMHoyUZwnYJf63/CeCqXg4admgLSYXiC5XxASI4kWQIWxH+YurYN0+yQvfT\n",
       "07NLfUmNoha7F+eexSjVJUOY1W9oN8y96+b7Ul+T5FCsDEN+A/yeWwxytzbYVtJNFrczDGlXe96T\n",
       "3BsH20rijp78DOO/zc9spa6L/Y//fL8BkpCUKV3ASD0AAAAASUVORK5CYII=\n",
       "\" style=\"display:inline;vertical-align:middle;\" /></a></dd>"
      ],
      "text/plain": [
       "<IPython.core.display.HTML object>"
      ]
     },
     "metadata": {},
     "output_type": "display_data"
    },
    {
     "data": {
      "text/html": [
       "<dt><a class=\"ProveItLink\" href=\"../../../equality/_proofs_/substituteTruth.ipynb\">proveit.logic.equality.substituteTruth</a></dt><dd><a class=\"ProveItLink\" href=\"../../../equality/__pv_it/9bdc5b840ab58180416de24b39e9a69a9440cc6d0/expr.ipynb\"><img src=\"data:image/png;base64,iVBORw0KGgoAAAANSUhEUgAAAKIAAAAXBAMAAAB624nuAAAAMFBMVEX///8QEBC6urrMzMxUVFRm\n",
       "ZmZERETc3NwyMjKqqqp2dnaIiIiYmJgiIiLu7u4AAAAU9Wx4AAAAAXRSTlMAQObYZgAAAnVJREFU\n",
       "OMutlE9o03AUx781Wf8kaVY8KLtVGCKIWEFQvGy4ouJJ1F2Gh3qwxT/QgMOhIhYvXkS9TAQP5jKs\n",
       "FUcP9eA8LOJFFLEHRZAhvTjEy4padUOn75fkl77GgRr2IHkvLy+f3+/9+QVYdWmtCmVN3dNGFmgK\n",
       "43k0TuNXPv/KEtZ26ToE3BX6asStfQfi63sASeAMqUQhGlBZAlJ0Qa9Ll2EjSYXsux6NqH8iRIeM\n",
       "WNANMwPjzsTEhYhJx9uAukjGpq7vOPC1WHz7ly9P+zqcSn8FWBAVG6PrXOPsA0p+ChgBSlSO8ujh\n",
       "EpsGT93ojO6xkLB9764QcciG8loYVyhd25iL0eDcBAZh0lJ4DNxn+fh1zkBr0kNfsbiueAJatpc4\n",
       "u7825g7PWkCD3k7lgA1AGrpDzjzwshUmqsMwlnFLmCI5d2kmZfkBdciE6k7MEDXMSYsXc8C+P/aY\n",
       "dqBWUJJEUSEuP9ElUsPrPtGsiIE3P8N4Q3tvbB5hxIUcXljIBMRH4iZjoHQkcUDcLubEkaasUdot\n",
       "WrFUO0JqWi0MMOLW2pQDpRIQB8Fi3HH05BSV3JqFTsSn9DgpjrbmlSibdHjWVbfvwwFxJ49BfFkS\n",
       "aWRuO0dx3jO9/OMH/BGzOPGYuKVCRBnzvvxFHr4twPzMx3tipUtiRERj+v3p3YYcIy66eywExI08\n",
       "hknMYqdQDiv5EpeVdhV2l6h8c4OaAfEZj2FiBA5Nblu7Rj825Yd5cnKm1SVWO+5m3gXEgzyGS/A3\n",
       "+xBaKjyPnjwMrAqP4TIujb29/h0rE+elkarzGC4JP1k9VGFnZWJK+tWemP8Ttefpia+n/+XT39vX\n",
       "l85p8q+GAAAAAElFTkSuQmCC\n",
       "\" style=\"display:inline;vertical-align:middle;\" /></a></dd>"
      ],
      "text/plain": [
       "<IPython.core.display.HTML object>"
      ]
     },
     "metadata": {},
     "output_type": "display_data"
    },
    {
     "data": {
      "text/html": [
       "<dt><a class=\"ProveItLink\" href=\"../../../set_theory/enumeration/_proofs_/inSingletonEvalTrue.ipynb\">proveit.logic.set_theory.enumeration.inSingletonEvalTrue</a></dt><dd><a class=\"ProveItLink\" href=\"../../../set_theory/enumeration/__pv_it/5c943204ca821c7e80d6f1d2902a4670a4b656e80/expr.ipynb\"><img src=\"data:image/png;base64,iVBORw0KGgoAAAANSUhEUgAAAO8AAAAXBAMAAAARnwX+AAAAMFBMVEX///8QEBC6urrMzMxUVFRm\n",
       "ZmZERETc3NwyMjKqqqp2dnaIiIiYmJgiIiLu7u4AAAAU9Wx4AAAAAXRSTlMAQObYZgAAAtNJREFU\n",
       "SMe1Vj9oE1EY/3KXpE3uegYzdRA6OHQppqCDXRorSFAHEYeiiLqkDg43SKsW7Q0WHGrJoHPPoRQJ\n",
       "lQNrQDv0FFzqkkmkWDiXDBYhKNjBxe+9792fpPfSntgPfncv3+/l/d69788dwH+1jy7dx1b2neol\n",
       "XlxxCDH2w/ZHozWAD9IlGNNkg09JhE8KxNhGMMpYiFI3f32b2WfOvGSOxSTCi/I/vAhG+QJerJgp\n",
       "p/gVmWm89d1MoKs5hAMIb0qFkenHIGdqCYRTHiG0nafbX2KFv0mFkdFXZmYeJjnpYYHA1AVP8sTZ\n",
       "mkyYMb+r1a0kwlcFHqzdf8NPfNqLHrWxbMOcR8L5SzJhxpwFmNpDD8mFFwiGrX9N8ZKI/HsSl1Ta\n",
       "LLn1Nv7M8eyafMLscYcwY46DsTf7emTbUUIetHaO1YsRzlXRfzrThCqO51nFF2RPzJgB0Nwkwj8J\n",
       "BqRpknIMS5Mnl3oGN+KlHPjDooinorZlwozR3AHvH4Qxtamm1HLY04p4WfLUX3jbgv2EDYu1ofrE\n",
       "Gm5XaYhKIWFy8iUbQQkNCsBcifdboxmuWuFx1goixnTUfrvqPmqYmsCIeedSmOE7R8zR8Im5s8Iy\n",
       "wwkIgDsE3dwAje/lYii8yoObLYty0i3ZE3PmOW5Z4ckKj0agEQoLZwcBsExYcm/BLL0Zhjo61xU4\n",
       "4cJByknEapc7zsOFaIx3g/k+ATBCaL37Xqek7JsvRYVb6zdMIdwfU5Vj/MoZnR2YWlCpVooRYea8\n",
       "zY86IHCfJiG0XKWzZa72apngt0yy8byVh3smFJV2KMydwnwC92kTJC+JdNMY9IXrUuGAab299grG\n",
       "XXjWsEJh7hTmE71fi++xLdhZW7yPDUum2824fWbaia3jgEC7KxD3BeJAbv0y/wLBIKZNmXAXo5pZ\n",
       "ezi+gQQE24RDiLPNWuSb67X0pLsYHbdrxwsHxGFb+dAV/gLda9LehX/xHAAAAABJRU5ErkJggg==\n",
       "\" style=\"display:inline;vertical-align:middle;\" /></a></dd>"
      ],
      "text/plain": [
       "<IPython.core.display.HTML object>"
      ]
     },
     "metadata": {},
     "output_type": "display_data"
    },
    {
     "data": {
      "text/html": [
       "</dl>"
      ],
      "text/plain": [
       "<IPython.core.display.HTML object>"
      ]
     },
     "metadata": {},
     "output_type": "display_data"
    }
   ],
   "source": [
    "%dependencies eqTrueIntro"
   ]
  }
 ],
 "metadata": {
  "kernelspec": {
   "display_name": "Python 3",
   "language": "python",
   "name": "python3"
  }
 },
 "nbformat": 4,
 "nbformat_minor": 0
}
