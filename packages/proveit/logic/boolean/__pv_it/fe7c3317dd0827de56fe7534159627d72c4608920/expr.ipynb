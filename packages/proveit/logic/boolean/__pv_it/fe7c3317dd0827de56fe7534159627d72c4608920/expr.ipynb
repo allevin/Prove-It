{
 "cells": [
  {
   "cell_type": "markdown",
   "metadata": {},
   "source": [
    "Expression of type <a class=\"ProveItLink\" href=\"../../../../../../doc/html/api/proveit.ExprTuple.html\">ExprTuple</a>\n",
    "=======================\n",
    "# from context <a class=\"ProveItLink\" href=\"../../_context_.ipynb\">proveit.logic.boolean</a>"
   ]
  },
  {
   "cell_type": "code",
   "execution_count": 1,
   "metadata": {},
   "outputs": [],
   "source": [
    "# import Expression classes needed to build the expression\n",
    "from proveit import ExprTuple, Indexed\n",
    "from proveit._common_ import i, x, yy"
   ]
  },
  {
   "cell_type": "code",
   "execution_count": 2,
   "metadata": {},
   "outputs": [
    {
     "data": {
      "text/html": [
       "<strong id=\"expr\">expr:</strong> <a class=\"ProveItLink\" href=\"expr.ipynb\"><img src=\"data:image/png;base64,iVBORw0KGgoAAAANSUhEUgAAADQAAAAVBAMAAAD7ptBLAAAAMFBMVEX////c3NwiIiJERESqqqqY\n",
       "mJh2dnZmZmYQEBDu7u4yMjJUVFTMzMyIiIi6uroAAAAs73DqAAAAAXRSTlMAQObYZgAAATVJREFU\n",
       "KM99Ub9LxDAU/qqmJue1FBUXkSuCrnZQcBMcb2lnp25O4uYkKOLsHSgOIugi6CL4H3S/wbjo4FB1\n",
       "EkFoHeS84epLehWFYCAv33tf3m/gn+NKk5U9keiYPbbpXpmpGuBIM8Vi8LaZErt4+2OwLyMM+Rou\n",
       "Yovk1OPkQxl3necIsxLignxjNsf9Mkojx05AZqCJA4oCJxtJFFWXm+dYkHgm/Io+/cVYUCVrSVHo\n",
       "X7hVFMCrDuqF5xYYUPvqaSQoe2Bd2D28BzrgEuleCqetSdZD7VPInOCaKiaMljED8UG61UXat458\n",
       "XfwLcHh/vBFBtDwyrO6tfGFYpb4G9362Q8hNVFtnp3pQNMZqoHTDzCo8NG1qVv5aiqLSeJxmMHEH\n",
       "nJA2XVEqwejs/GATN6oo48KcBN8VCE3gUyU11wAAAABJRU5ErkJggg==\n",
       "\" style=\"display:inline;vertical-align:middle;\" /></a><br>"
      ],
      "text/plain": [
       "expr: (x , y_i)"
      ]
     },
     "execution_count": 2,
     "metadata": {},
     "output_type": "execute_result"
    }
   ],
   "source": [
    "# build up the expression from sub-expressions\n",
    "expr = ExprTuple(x, Indexed(yy, i, base = 1))"
   ]
  },
  {
   "cell_type": "code",
   "execution_count": 3,
   "metadata": {},
   "outputs": [
    {
     "name": "stdout",
     "output_type": "stream",
     "text": [
      "Passed sanity check: built 'expr' is the same as the stored Expression.\n"
     ]
    }
   ],
   "source": [
    "# check that the built expression is the same as the stored expression\n",
    "%check_expr"
   ]
  },
  {
   "cell_type": "code",
   "execution_count": 4,
   "metadata": {},
   "outputs": [
    {
     "data": {
      "text/html": [
       "<table><tr><th>&nbsp;</th><th>core type</th><th>sub-expressions</th><th>expression</th></tr>\n",
       "<tr><td>0</td><td>ExprTuple</td><td>1, 2</td><td><a class=\"ProveItLink\" href=\"expr.ipynb\"><img src=\"data:image/png;base64,iVBORw0KGgoAAAANSUhEUgAAADQAAAAVBAMAAAD7ptBLAAAAMFBMVEX////c3NwiIiJERESqqqqY\n",
       "mJh2dnZmZmYQEBDu7u4yMjJUVFTMzMyIiIi6uroAAAAs73DqAAAAAXRSTlMAQObYZgAAATVJREFU\n",
       "KM99Ub9LxDAU/qqmJue1FBUXkSuCrnZQcBMcb2lnp25O4uYkKOLsHSgOIugi6CL4H3S/wbjo4FB1\n",
       "EkFoHeS84epLehWFYCAv33tf3m/gn+NKk5U9keiYPbbpXpmpGuBIM8Vi8LaZErt4+2OwLyMM+Rou\n",
       "Yovk1OPkQxl3necIsxLignxjNsf9Mkojx05AZqCJA4oCJxtJFFWXm+dYkHgm/Io+/cVYUCVrSVHo\n",
       "X7hVFMCrDuqF5xYYUPvqaSQoe2Bd2D28BzrgEuleCqetSdZD7VPInOCaKiaMljED8UG61UXat458\n",
       "XfwLcHh/vBFBtDwyrO6tfGFYpb4G9362Q8hNVFtnp3pQNMZqoHTDzCo8NG1qVv5aiqLSeJxmMHEH\n",
       "nJA2XVEqwejs/GATN6oo48KcBN8VCE3gUyU11wAAAABJRU5ErkJggg==\n",
       "\" style=\"display:inline;vertical-align:middle;\" /></a></td></tr>\n",
       "<tr><td>1</td><td>Variable</td><td></td><td><a class=\"ProveItLink\" href=\"../../../../__pv_it/530be409e3083890784cf1d7b28c9e67e90af9360/expr.ipynb\"><img src=\"data:image/png;base64,iVBORw0KGgoAAAANSUhEUgAAAAsAAAAJBAMAAAAWSsseAAAAKlBMVEX///9ERETMzMwQEBAiIiKY\n",
       "mJju7u5mZmaqqqpUVFSIiIh2dnbc3NwAAAA/vyDhAAAAAXRSTlMAQObYZgAAAENJREFUCNdjYDi9\n",
       "8sTyBQxsG1hdmR0YuBm4LnAoMLAxcAowgADzAjB1VoEhgYH1wFoGrgSG3gBhhlMMDImrs3cFMAAA\n",
       "t0YN+iTRa+sAAAAASUVORK5CYII=\n",
       "\" style=\"display:inline;vertical-align:middle;\" /></a></td></tr>\n",
       "<tr><td>2</td><td>Indexed</td><td>var:&nbsp;3<br>index:&nbsp;4<br>base:&nbsp;\"1\"<br></td><td><a class=\"ProveItLink\" href=\"../ca689aa65d2cb93b4f7e024fd16a73b5f9f8a51d0/expr.ipynb\"><img src=\"data:image/png;base64,iVBORw0KGgoAAAANSUhEUgAAABIAAAAOBAMAAADQ9FGEAAAALVBMVEX///+6urqIiIjMzMxERETu\n",
       "7u6qqqrc3NxmZmYiIiKYmJgQEBAyMjJ2dnYAAAAI/qgrAAAAAXRSTlMAQObYZgAAAIJJREFUCNdj\n",
       "YLizi4FhJgMQ8DbsK2B7B2JFs78r4HgCFGAw4n3DwPmIgbGAgYH7EUPcY5Asg91zBrkHYNa6DQz3\n",
       "DjCqgFgHGM5dCOIDqqvbwPROoDQTKMY2e8q7AAYnIEuYAWgc61MDBqD5dc8Z2A5cYGB6yz5bgIHd\n",
       "Caijc+ZVsGkAZHYmB7HavVMAAAAASUVORK5CYII=\n",
       "\" style=\"display:inline;vertical-align:middle;\" /></a></td></tr>\n",
       "<tr><td>3</td><td>Variable</td><td></td><td><a class=\"ProveItLink\" href=\"../../../../__pv_it/23a8703a0497efbbce779bb784cd8c2fbbfa1f580/expr.ipynb\"><img src=\"data:image/png;base64,iVBORw0KGgoAAAANSUhEUgAAAA0AAAAOBAMAAAAGUYvhAAAALVBMVEX///+6urqIiIjMzMxERETu\n",
       "7u6qqqrc3NxmZmYiIiKYmJgQEBAyMjJ2dnYAAAAI/qgrAAAAAXRSTlMAQObYZgAAAGpJREFUCNdj\n",
       "YLizi4FhJgMDb8O+ArZ3DAzR7O8KOJ4wMBjxvmHgfMTAwMD9iCHuMZC2e84g9wBIr9vAcO8AiD7A\n",
       "cO4CkK7bwPROAEizzZ7yLgBICzOAtDMAzap7DqSZ3rLPBkkzdM68CiQBR18fizMQCrQAAAAASUVO\n",
       "RK5CYII=\n",
       "\" style=\"display:inline;vertical-align:middle;\" /></a></td></tr>\n",
       "<tr><td>4</td><td>Variable</td><td></td><td><a class=\"ProveItLink\" href=\"../../../../__pv_it/4cc43b4ba7e5ae9f0f864f240ab9735c1604d8200/expr.ipynb\"><img src=\"data:image/png;base64,iVBORw0KGgoAAAANSUhEUgAAAAcAAAAOBAMAAAARcxsoAAAAMFBMVEX///+YmJjc3NxUVFQQEBAi\n",
       "IiKqqqrMzMy6urpmZmZ2dnbu7u6IiIgyMjJEREQAAADwIkbYAAAAAXRSTlMAQObYZgAAADtJREFU\n",
       "CNdjYGB4ywAEbxjQAffKBQwMXBwfGBjKOAMYGDawHAAK5m8AEpe5GRiYfnAxMLB9UARpPcAAAFud\n",
       "DDeiFOVzAAAAAElFTkSuQmCC\n",
       "\" style=\"display:inline;vertical-align:middle;\" /></a></td></tr>\n",
       "</table>\n"
      ],
      "text/plain": [
       "0. (x , y_i)\n",
       "   core type: ExprTuple\n",
       "   sub-expressions: 1, 2\n",
       "1. x\n",
       "   core type: Variable\n",
       "   sub-expressions: \n",
       "2. y_i\n",
       "   core type: Indexed\n",
       "   var: 3\n",
       "   index: 4\n",
       "   base: \"1\"\n",
       "3. y\n",
       "   core type: Variable\n",
       "   sub-expressions: \n",
       "4. i\n",
       "   core type: Variable\n",
       "   sub-expressions: "
      ]
     },
     "execution_count": 4,
     "metadata": {},
     "output_type": "execute_result"
    }
   ],
   "source": [
    "# display the expression information\n",
    "expr.exprInfo()"
   ]
  },
  {
   "cell_type": "code",
   "execution_count": null,
   "metadata": {},
   "outputs": [],
   "source": []
  }
 ],
 "metadata": {
  "kernelspec": {
   "display_name": "Python 3",
   "language": "python",
   "name": "python3"
  }
 },
 "nbformat": 4,
 "nbformat_minor": 0
}
