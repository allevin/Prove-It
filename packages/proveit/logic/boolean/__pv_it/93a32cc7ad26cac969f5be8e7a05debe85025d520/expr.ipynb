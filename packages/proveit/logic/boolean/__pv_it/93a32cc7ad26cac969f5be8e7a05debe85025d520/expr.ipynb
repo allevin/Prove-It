{
 "cells": [
  {
   "cell_type": "markdown",
   "metadata": {},
   "source": [
    "Expression of type <a class=\"ProveItLink\" href=\"../../../../../../doc/html/api/proveit.NamedExprs.html\">NamedExprs</a>\n",
    "=======================\n",
    "# from context <a class=\"ProveItLink\" href=\"../../_context_.ipynb\">proveit.logic.boolean</a>"
   ]
  },
  {
   "cell_type": "code",
   "execution_count": 1,
   "metadata": {},
   "outputs": [],
   "source": [
    "# import Expression classes needed to build the expression\n",
    "from proveit import Lambda, NamedExprs, Variable\n",
    "from proveit.logic import Equals, FALSE, Or, TRUE"
   ]
  },
  {
   "cell_type": "code",
   "execution_count": 2,
   "metadata": {},
   "outputs": [
    {
     "data": {
      "text/html": [
       "<strong id=\"expr\">expr:</strong> <a class=\"ProveItLink\" href=\"expr.ipynb\"><img src=\"data:image/png;base64,iVBORw0KGgoAAAANSUhEUgAAAXMAAAAyCAMAAACZF8vdAAAANlBMVEX///8UFBQNDQ0QEBAyMjK6\n",
       "urp2dnYiIiLMzMyIiIiYmJjc3NxERESqqqpUVFRmZmbu7u4AAABG+8EjAAAAAXRSTlMAQObYZgAA\n",
       "BFNJREFUeNrtnNuaoyAMgN0FgXDm/V92BTyAVUorujv7kRumVmL4E0NAO8MwizV66HKfMKz2h5ST\n",
       "ooO5UziSNj/g4HPPjTsvWTbaN32AYtZ0JCPk7ddExjZgoxqO6as+S2mKhznzQlRjUkZu9p2UdOqN\n",
       "TWRsfMfqvJ1EVNE3NBHpD7SJhUXN0UCFk8kn6Q4ClL5L8HTvKPs4c2zzNsTCBy5LzsXJzZOc8bFF\n",
       "hYESl6jLHLA64h1z/NeZA+TtFeZ8u60121/gg+xCzgfKHElY6Z/JHNm8vcLcou3wGoLUfmrSrOZw\n",
       "oDbJxj+V+Yjz9hLzQW7G47k6UOZzo6KaE+a6ijkHMCT4HhkGIGFQALHWxGb6UvO5vCcAY2S+dFk9\n",
       "L4vMBQEtFBgoJshlnk69ulwlvdr3zMn2YWGNz+rngs1RzRXmik6XNWHcWHJ/KmG+mg8HkFhOE8hf\n",
       "AwLzpMusnZaY2wkYp3xA9GSmzj/q5G7HPG8PmRuciC4wV4l3Y05h8iyBFGyOaq4w536qHV2AGzJV\n",
       "OJWFCTiOQHjQWK5/pl1m9cXcQoKzJltZFXOrN8VozNtrcT6i/eSszzJhyeao5lJuGUYCscaRgWtY\n",
       "PKXMvRdEXFKJOZ+vXWryufeIludcfv+imSC36lj+ck2YM7fztMWnE2XB5qjmCnOBp5uZFZkjPEU1\n",
       "35gnXWrnUFQoyfa3bxJ8NzI300gIL9ZMcBdzjCNia6vjPOlSyVwEdbaKuUmmNaTy9jif71ecNbll\n",
       "CpxXb9fZfDm32ABTOTayM+bMRxndUnvapYY5FyE1DlDFnKXRJXneXotznqUSzfj5zVeymV+eQ5GO\n",
       "a1YlDpiHUkqa9YAJcZ50qahb1JSW/Ox8uk0CL5n0pbojpnGtGGqW8/VQ0eYLtSLTzk0lgpAGwBIM\n",
       "4TNT0iEzAHZ+A0xaX5/H+1roUJ/7LZi1y1l9ruQi06isBGIJAT7sv6lYE9GsnbMIOsoiJ8zTwh6P\n",
       "hRVfvc1RzZdxfoe0XvuLvL0iFu38Ya+o+X+ZL/tSnDQwDdqMEOqYC2d+JvOjvdxvwxw3MciW9nKH\n",
       "hDl/uzf1rzIXOm+/F93m0eSi5nigeMtflD6EfABK2z6bW0oHcTEzQBuzZjXTMMfjgmcJ7pN1epf2\n",
       "oufZnrixw3hKpIducX/J4knhCAZBte0knhNF/cxjUM8tj4lBrM+hDyNfH+VcrRVL26VdEpmfM8Q1\n",
       "UYvswkyH+m7Z7JK1P+nMn5Dk3S3bZL+lM38n7fcVO/NWzLl0Tg3MObkrbtJHEZ154zgn/qXd18Vq\n",
       "+sitM2+dWyQ+3HazPbfcx3zKIrzn84fnUFVVv3fmLZkbgmxn/ihzYn1K78wfZO5f47DI9LrlfuYu\n",
       "ClCHfUZ3EpZDZ/U56VSfXod26cz/ReZJ+nV90/sJSX+rePyb3C6tBdJ1DnO95nggtSCcewA6k7uR\n",
       "U7T/xxb9lYt7RaGXF1mF7vPorfMnXfcJ/wAyCzr77lucDAAAAABJRU5ErkJggg==\n",
       "\" style=\"display:inline;vertical-align:middle;\" /></a><br>"
      ],
      "text/plain": [
       "expr: {lambda:[_x_ -> ((FALSE = TRUE) or _x_)], _x_:TRUE}"
      ]
     },
     "execution_count": 2,
     "metadata": {},
     "output_type": "execute_result"
    }
   ],
   "source": [
    "# build up the expression from sub-expressions\n",
    "subExpr1 = Variable(\"_x_\", latexFormat = r\"{_{-}x_{-}}\")\n",
    "expr = NamedExprs([(\"lambda\",Lambda(subExpr1, Or(Equals(FALSE, TRUE), subExpr1))), (\"_x_\",TRUE)])"
   ]
  },
  {
   "cell_type": "code",
   "execution_count": 3,
   "metadata": {},
   "outputs": [
    {
     "name": "stdout",
     "output_type": "stream",
     "text": [
      "Passed sanity check: built 'expr' is the same as the stored Expression.\n"
     ]
    }
   ],
   "source": [
    "# check that the built expression is the same as the stored expression\n",
    "%check_expr"
   ]
  },
  {
   "cell_type": "code",
   "execution_count": 4,
   "metadata": {},
   "outputs": [
    {
     "data": {
      "text/html": [
       "<table><tr><th>&nbsp;</th><th>core type</th><th>sub-expressions</th><th>expression</th></tr>\n",
       "<tr><td>0</td><td>NamedExprs</td><td>lambda: 1<br>_x_: 10<br></td><td><a class=\"ProveItLink\" href=\"expr.ipynb\"><img src=\"data:image/png;base64,iVBORw0KGgoAAAANSUhEUgAAAXMAAAAyCAMAAACZF8vdAAAANlBMVEX///8UFBQNDQ0QEBAyMjK6\n",
       "urp2dnYiIiLMzMyIiIiYmJjc3NxERESqqqpUVFRmZmbu7u4AAABG+8EjAAAAAXRSTlMAQObYZgAA\n",
       "BFNJREFUeNrtnNuaoyAMgN0FgXDm/V92BTyAVUorujv7kRumVmL4E0NAO8MwizV66HKfMKz2h5ST\n",
       "ooO5UziSNj/g4HPPjTsvWTbaN32AYtZ0JCPk7ddExjZgoxqO6as+S2mKhznzQlRjUkZu9p2UdOqN\n",
       "TWRsfMfqvJ1EVNE3NBHpD7SJhUXN0UCFk8kn6Q4ClL5L8HTvKPs4c2zzNsTCBy5LzsXJzZOc8bFF\n",
       "hYESl6jLHLA64h1z/NeZA+TtFeZ8u60121/gg+xCzgfKHElY6Z/JHNm8vcLcou3wGoLUfmrSrOZw\n",
       "oDbJxj+V+Yjz9hLzQW7G47k6UOZzo6KaE+a6ijkHMCT4HhkGIGFQALHWxGb6UvO5vCcAY2S+dFk9\n",
       "L4vMBQEtFBgoJshlnk69ulwlvdr3zMn2YWGNz+rngs1RzRXmik6XNWHcWHJ/KmG+mg8HkFhOE8hf\n",
       "AwLzpMusnZaY2wkYp3xA9GSmzj/q5G7HPG8PmRuciC4wV4l3Y05h8iyBFGyOaq4w536qHV2AGzJV\n",
       "OJWFCTiOQHjQWK5/pl1m9cXcQoKzJltZFXOrN8VozNtrcT6i/eSszzJhyeao5lJuGUYCscaRgWtY\n",
       "PKXMvRdEXFKJOZ+vXWryufeIludcfv+imSC36lj+ck2YM7fztMWnE2XB5qjmCnOBp5uZFZkjPEU1\n",
       "35gnXWrnUFQoyfa3bxJ8NzI300gIL9ZMcBdzjCNia6vjPOlSyVwEdbaKuUmmNaTy9jif71ecNbll\n",
       "CpxXb9fZfDm32ABTOTayM+bMRxndUnvapYY5FyE1DlDFnKXRJXneXotznqUSzfj5zVeymV+eQ5GO\n",
       "a1YlDpiHUkqa9YAJcZ50qahb1JSW/Ox8uk0CL5n0pbojpnGtGGqW8/VQ0eYLtSLTzk0lgpAGwBIM\n",
       "4TNT0iEzAHZ+A0xaX5/H+1roUJ/7LZi1y1l9ruQi06isBGIJAT7sv6lYE9GsnbMIOsoiJ8zTwh6P\n",
       "hRVfvc1RzZdxfoe0XvuLvL0iFu38Ya+o+X+ZL/tSnDQwDdqMEOqYC2d+JvOjvdxvwxw3MciW9nKH\n",
       "hDl/uzf1rzIXOm+/F93m0eSi5nigeMtflD6EfABK2z6bW0oHcTEzQBuzZjXTMMfjgmcJ7pN1epf2\n",
       "oufZnrixw3hKpIducX/J4knhCAZBte0knhNF/cxjUM8tj4lBrM+hDyNfH+VcrRVL26VdEpmfM8Q1\n",
       "UYvswkyH+m7Z7JK1P+nMn5Dk3S3bZL+lM38n7fcVO/NWzLl0Tg3MObkrbtJHEZ154zgn/qXd18Vq\n",
       "+sitM2+dWyQ+3HazPbfcx3zKIrzn84fnUFVVv3fmLZkbgmxn/ihzYn1K78wfZO5f47DI9LrlfuYu\n",
       "ClCHfUZ3EpZDZ/U56VSfXod26cz/ReZJ+nV90/sJSX+rePyb3C6tBdJ1DnO95nggtSCcewA6k7uR\n",
       "U7T/xxb9lYt7RaGXF1mF7vPorfMnXfcJ/wAyCzr77lucDAAAAABJRU5ErkJggg==\n",
       "\" style=\"display:inline;vertical-align:middle;\" /></a></td></tr>\n",
       "<tr><td>1</td><td>Lambda</td><td>parameter:&nbsp;6<br>body:&nbsp;2<br></td><td><a class=\"ProveItLink\" href=\"../48b02a4a41bed97c716b0c0dbfb2ed10c6d21b450/expr.ipynb\"><img src=\"data:image/png;base64,iVBORw0KGgoAAAANSUhEUgAAAOAAAAAVCAMAAABorBJ5AAAANlBMVEX///+6uroUFBQNDQ0yMjLM\n",
       "zMwQEBAiIiKYmJhmZmZUVFSIiIh2dnbc3Nzu7u5ERESqqqoAAADqmkP9AAAAAXRSTlMAQObYZgAA\n",
       "AcVJREFUWMPtV8tihCAMxBYQCC///2er7qoEhcKS3prLuOrGmTAEYOw/2mMCjJ+GmkjoEKW5QhiM\n",
       "a7gmqXpOImw3BAkhojRncI9x06o76pO8yxNbJG90MyLVB4BxRKCy56UR+Qc6TGopBUqPcUSgl9ft\n",
       "cFzNvpdSkoagw3CMQwJZiJfP3Auj7ieVpDm6ggXjImhoMXVM/64txjGB9vpxCDuE9lC2+ff9yk7N\n",
       "isn5OVl22ySm4Qrjo0DNkzAVgTEp5cual1U7KMe8zWzVh2V9IJoEenNVVU4Yx0Zwknn3MoVVrUp5\n",
       "yifhVisTyiS+v2YUcjk/e1wtJALFkpXVl1p+lTJKcw5FpRvnNkjK+ocC9TrXrao1cOgQ6Bbxrsvv\n",
       "AnUy72XE+DwH8z1Li0WZ4/fStlG+WVS53c8MmgSKtHBBYRwbQYUcaYQq2qpKWWXGjotiQVa2kHCz\n",
       "/60jo85MsUzsHbS4yNcpr2liOGJN4QNYby3sg4CeNCz0M8K3GeWTGQsC0wWU457J0RLSTplTHiik\n",
       "wzgS+R5LeJI0g8cvS7fDtUBCiShN5bj06QDSnHM87XGJOYPx8zCOhBBRGnY7v7tBZwDNSXxP8wOQ\n",
       "ORKkZbSnEgAAAABJRU5ErkJggg==\n",
       "\" style=\"display:inline;vertical-align:middle;\" /></a></td></tr>\n",
       "<tr><td>2</td><td>Operation</td><td>operator:&nbsp;3<br>operands:&nbsp;4<br></td><td><a class=\"ProveItLink\" href=\"../eeecd1ec87d0c8bb8ef023e8dd1c02f4a4f097ca0/expr.ipynb\"><img src=\"data:image/png;base64,iVBORw0KGgoAAAANSUhEUgAAAIcAAAAVBAMAAACeZ+BxAAAAMFBMVEX////c3NwiIiJERESqqqqY\n",
       "mJh2dnZmZmYQEBDu7u4yMjJUVFTMzMyIiIi6uroAAAAs73DqAAAAAXRSTlMAQObYZgAAATlJREFU\n",
       "OMtjYKAK4LuAX571ARGGnAYRjJgmsSuBgQFDDRGGrAQRPAXYpCCiXGA22D08OMzgvUDIENYEELkH\n",
       "RNzFYQjHBEKGcDaAyMMgQhOHIa8YCBnCYAL2lAADA0sBDkPKCBuSDiJABoAMggHG3I2+tTDOUhRD\n",
       "2FeBwQYUQ7wYoF45jGTBNIaggCYYp4+wS14wQAN1H5JcAsN9Bh8Y5x9hQ86DSSYGzgVIchMYNiM4\n",
       "RBvC7sAWgCLbi2C2oIYJLJlieodxAROKGYx/GDhhbFPCLomC8PbEIssF8n5guAnjpBMZxcC4QU5q\n",
       "LF+ZGxAZ7hHED01wPyAbAk7wDOsgPC6Ikc7GQDCB0zYz7SqMw8AhQCiHQpI90MgJuIuLBEKGsF0g\n",
       "sijAB2YRUZ5IE1KwkQhDGAm4lvcAQSMAk9hKsIwYsYUAAAAASUVORK5CYII=\n",
       "\" style=\"display:inline;vertical-align:middle;\" /></a></td></tr>\n",
       "<tr><td>3</td><td>Literal</td><td></td><td><a class=\"ProveItLink\" href=\"../../disjunction/__pv_it/087d0b4ded7c7e5bf3bba05ecb616d7a8051ff650/expr.ipynb\"><img src=\"data:image/png;base64,iVBORw0KGgoAAAANSUhEUgAAAAwAAAAOBAMAAADpk+DfAAAALVBMVEX///+YmJh2dnZmZmaqqqrc\n",
       "3NwyMjLu7u4iIiJERESIiIhUVFTMzMy6uroAAAD0I/TTAAAAAXRSTlMAQObYZgAAAEtJREFUCNdj\n",
       "uMAABDwMe0DUKoaTIKqdgS2AgYHFAITAzHYGsMQqBoa9QIqDgT0BSDE7MAkAKdYEDpAehj1SYOpk\n",
       "O5hiMwBTPAUMDAB33Atnw8aG2QAAAABJRU5ErkJggg==\n",
       "\" style=\"display:inline;vertical-align:middle;\" /></a></td></tr>\n",
       "<tr><td>4</td><td>ExprTuple</td><td>5, 6</td><td><a class=\"ProveItLink\" href=\"../54e27050477ea7436e20e84a13a380088315608f0/expr.ipynb\"><img src=\"data:image/png;base64,iVBORw0KGgoAAAANSUhEUgAAAHkAAAAVBAMAAACQ4lxbAAAAMFBMVEX////c3NwiIiJERESqqqqY\n",
       "mJh2dnZmZmYQEBDu7u4yMjJUVFTMzMyIiIi6uroAAAAs73DqAAAAAXRSTlMAQObYZgAAAQFJREFU\n",
       "OMtjYKAM8F0gU2MciDgNIhgxjWBXAgMDnLrZDwCJlSAWTwE2eeyicLCAgYH3Atm6wxgYOCaQrXsG\n",
       "A8MrBrJ1MzswlJGimzF3o28tnMdWwLAURR37KjDYgEP3NIaggCY4j2UBQx8pdicw3GfwQaSUBoZ/\n",
       "pOiewLAZWfoDaboZGHpRdbeg+hslgWHqZvzDwInsclOCdk9ACATyfmC4CeexLmBIJ6Sb8xMikL8y\n",
       "NyDlCGCMPYI4twlbfuBJAOnuF2BgcDYGggmctplpV2EcBgauBwwcAgSzsADulMqaQEg3Ky6JXFgO\n",
       "JUc3JzCHMkgT0o2r7OEWwF6sEAfuMDAAAIrgQf1YN4r7AAAAAElFTkSuQmCC\n",
       "\" style=\"display:inline;vertical-align:middle;\" /></a></td></tr>\n",
       "<tr><td>5</td><td>Operation</td><td>operator:&nbsp;7<br>operands:&nbsp;8<br></td><td><a class=\"ProveItLink\" href=\"../78dab4105ea6264e71849fd670cc3ef2fcc5c7a20/expr.ipynb\"><img src=\"data:image/png;base64,iVBORw0KGgoAAAANSUhEUgAAADoAAAAOBAMAAACMfhKgAAAAJFBMVEX///92dnZUVFQyMjJEREQQ\n",
       "EBAiIiJmZmbMzMyIiIjc3NwAAAAgGs2GAAAAAXRSTlMAQObYZgAAADRJREFUGNNjYGBgWMmAAcrS\n",
       "QCAFxGxnwAba0eiBki02BgEjutuLFEDUMBloXCrCOCTQCMQAwI0X/rEJW0EAAAAASUVORK5CYII=\n",
       "\" style=\"display:inline;vertical-align:middle;\" /></a></td></tr>\n",
       "<tr><td>6</td><td>Variable</td><td></td><td><a class=\"ProveItLink\" href=\"../5144cf74ae6a683b49b974f1b9302b432abf7e930/expr.ipynb\"><img src=\"data:image/png;base64,iVBORw0KGgoAAAANSUhEUgAAACUAAAAJBAMAAABH3vh9AAAAKlBMVEX////MzMwQEBAiIiKYmJhm\n",
       "ZmZUVFSIiIh2dnbc3Nzu7u5ERESqqqoAAABwkVEpAAAAAXRSTlMAQObYZgAAAEtJREFUCNdjYIAA\n",
       "zvbM4+EMqGAFg7ODMppYA0Mtw0E0sQUM2QyYQB1TiPMiAxeakCf7BYYqVCGeK9wKnAUw3undQLCA\n",
       "a3tXRwmMAwC3+RVNp6j0GAAAAABJRU5ErkJggg==\n",
       "\" style=\"display:inline;vertical-align:middle;\" /></a></td></tr>\n",
       "<tr><td>7</td><td>Literal</td><td></td><td><a class=\"ProveItLink\" href=\"../../../equality/__pv_it/2fb26078095930560931daa0500ce419a39ea6cd0/expr.ipynb\"><img src=\"data:image/png;base64,iVBORw0KGgoAAAANSUhEUgAAAA4AAAAFBAMAAACHocAhAAAAFVBMVEX///9EREQiIiJUVFQyMjJm\n",
       "ZmYAAADubVkoAAAAAXRSTlMAQObYZgAAABRJREFUCNdjCHEBAWcGXCBICQQUAUpuAwlgGKrkAAAA\n",
       "AElFTkSuQmCC\n",
       "\" style=\"display:inline;vertical-align:middle;\" /></a></td></tr>\n",
       "<tr><td>8</td><td>ExprTuple</td><td>9, 10</td><td><a class=\"ProveItLink\" href=\"../0a49857bca888bdee7d45d0e3fe876231e5b8d860/expr.ipynb\"><img src=\"data:image/png;base64,iVBORw0KGgoAAAANSUhEUgAAADUAAAAVBAMAAAAUZLt1AAAAMFBMVEX////c3NwiIiJERESqqqqY\n",
       "mJh2dnZmZmYQEBDu7u4yMjJUVFTMzMyIiIi6uroAAAAs73DqAAAAAXRSTlMAQObYZgAAALBJREFU\n",
       "KM9jYMAH+C5gFY4DEadBBCNcQZESCCgzsB8AclaCRHgKkLQcB5MLGBh4L+CQC2Ng4JiAQ24GA8Mr\n",
       "BhxyzA4MZbjk2AoYluKSY1nA0IdLjq+B4R8uOZ4PeOVa8JhpiiQ3AVmOdQFDOkKO8xOaHx4xMLAD\n",
       "A7dJScmAs18ALHoMTHI9YOAQQIouJDYozFgTEFxW5AjMhcURphwnMI4YpBF85BTALYAS5SjgDgMD\n",
       "AMUhLsE7xITaAAAAAElFTkSuQmCC\n",
       "\" style=\"display:inline;vertical-align:middle;\" /></a></td></tr>\n",
       "<tr><td>9</td><td>Literal</td><td></td><td><a class=\"ProveItLink\" href=\"../8f1f7fac882de28c72b62ab80a1700b6d8fd066b0/expr.ipynb\"><img src=\"data:image/png;base64,iVBORw0KGgoAAAANSUhEUgAAAA4AAAAOBAMAAADtZjDiAAAAG1BMVEX///9EREQQEBAiIiJmZmbM\n",
       "zMyIiIjc3NwAAACryk5kAAAAAXRSTlMAQObYZgAAABlJREFUCNdjYGBgKGOAgBBa0s7GxkbGxoYA\n",
       "FMUF2aBfHgoAAAAASUVORK5CYII=\n",
       "\" style=\"display:inline;vertical-align:middle;\" /></a></td></tr>\n",
       "<tr><td>10</td><td>Literal</td><td></td><td><a class=\"ProveItLink\" href=\"../68a87cc3370287d726c7086ace789e680e4461c30/expr.ipynb\"><img src=\"data:image/png;base64,iVBORw0KGgoAAAANSUhEUgAAAA4AAAAOBAMAAADtZjDiAAAAFVBMVEX///92dnbMzMxEREQiIiJm\n",
       "ZmYAAABAT6GXAAAAAXRSTlMAQObYZgAAABhJREFUCNdjCHEBAWcGIFBlgABa0YpADAAxegPJJk4d\n",
       "XAAAAABJRU5ErkJggg==\n",
       "\" style=\"display:inline;vertical-align:middle;\" /></a></td></tr>\n",
       "</table>\n"
      ],
      "text/plain": [
       "0. {lambda:[_x_ -> ((FALSE = TRUE) or _x_)], _x_:TRUE}\n",
       "   core type: NamedExprs\n",
       "   lambda: 1\n",
       "   _x_: 10\n",
       "1. _x_ -> ((FALSE = TRUE) or _x_)\n",
       "   core type: Lambda\n",
       "   parameter: 6\n",
       "   body: 2\n",
       "2. (FALSE = TRUE) or _x_\n",
       "   core type: Operation\n",
       "   operator: 3\n",
       "   operands: 4\n",
       "3. or\n",
       "   core type: Literal\n",
       "   sub-expressions: \n",
       "4. (FALSE = TRUE , _x_)\n",
       "   core type: ExprTuple\n",
       "   sub-expressions: 5, 6\n",
       "5. FALSE = TRUE\n",
       "   core type: Operation\n",
       "   operator: 7\n",
       "   operands: 8\n",
       "6. _x_\n",
       "   core type: Variable\n",
       "   sub-expressions: \n",
       "7. =\n",
       "   core type: Literal\n",
       "   sub-expressions: \n",
       "8. (FALSE , TRUE)\n",
       "   core type: ExprTuple\n",
       "   sub-expressions: 9, 10\n",
       "9. FALSE\n",
       "   core type: Literal\n",
       "   sub-expressions: \n",
       "10. TRUE\n",
       "    core type: Literal\n",
       "    sub-expressions: "
      ]
     },
     "execution_count": 4,
     "metadata": {},
     "output_type": "execute_result"
    }
   ],
   "source": [
    "# display the expression information\n",
    "expr.exprInfo()"
   ]
  },
  {
   "cell_type": "code",
   "execution_count": null,
   "metadata": {},
   "outputs": [],
   "source": []
  }
 ],
 "metadata": {
  "kernelspec": {
   "display_name": "Python 3",
   "language": "python",
   "name": "python3"
  }
 },
 "nbformat": 4,
 "nbformat_minor": 0
}
