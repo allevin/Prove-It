{
 "cells": [
  {
   "cell_type": "markdown",
   "metadata": {},
   "source": [
    "Expression of type <a class=\"ProveItLink\" href=\"../../../../../../doc/html/api/proveit.logic.Or.html\">Or</a>\n",
    "=======================\n",
    "# from context <a class=\"ProveItLink\" href=\"../../_context_.ipynb\">proveit.logic.boolean</a>"
   ]
  },
  {
   "cell_type": "code",
   "execution_count": 1,
   "metadata": {},
   "outputs": [],
   "source": [
    "# import Expression classes needed to build the expression\n",
    "from proveit.logic import Equals, FALSE, Or, TRUE\n",
    "from proveit.logic.boolean._theorems_ import trueEqTrue"
   ]
  },
  {
   "cell_type": "code",
   "execution_count": 2,
   "metadata": {},
   "outputs": [
    {
     "data": {
      "text/html": [
       "<strong id=\"expr\">expr:</strong> <a class=\"ProveItLink\" href=\"expr.ipynb\"><img src=\"data:image/png;base64,iVBORw0KGgoAAAANSUhEUgAAAKsAAAAVBAMAAADLBgMvAAAAMFBMVEX////c3NwiIiJERESqqqqY\n",
       "mJh2dnZmZmYQEBDu7u4yMjJUVFTMzMyIiIi6uroAAAAs73DqAAAAAXRSTlMAQObYZgAAAYlJREFU\n",
       "OMtjYKAR4LuAX571AbrIWwImxoGI0wzsSmBggCoJF61B08WzgaEILKWMaaIsWOcBILESrLQAm7UQ\n",
       "US4wG+xmHjB/Aog8jtWhENEFDAy8FwgZy5oAIveAiLtwAq+xYQwMHBMIGcvZACIPgwhNENFJ0NgZ\n",
       "DAyvGAgZy2AC9roAAwMLiM+3gKCxzA4MZYSNTQcRICNBRjOwJxA0lq2AYSmKseyrwGADirFeDNAA\n",
       "AAcEVwCKsVVgDatRjGVZwNBH2LUvGKAxtQ9Eczwg6Fq+BoZ/hI09DyaZGDjBocpP2FieD8Qby+7A\n",
       "FkC8sS2oYYuS4VACgXEBE5jmcEAxFjXDwQPBlLBroyC8PbGQ1BNA0LWsCyCph4gEBkwHmrDUQ0QC\n",
       "ewQxIAGrsRDRdRAeF8Q8PgUwdQxTOTA8NMDhwfWAgUOAUMkJybxASyZA6EaCZe0MWEGCD7ChFchh\n",
       "BI3NhRWM+MAsND7XBELeA6VvaULGbkTjM24goIEbFK6MBCod3gNYqwA84A4DAwA56Gs600DsrAAA\n",
       "AABJRU5ErkJggg==\n",
       "\" style=\"display:inline;vertical-align:middle;\" /></a><br>"
      ],
      "text/plain": [
       "expr: (TRUE = TRUE) or (TRUE = FALSE)"
      ]
     },
     "execution_count": 2,
     "metadata": {},
     "output_type": "execute_result"
    }
   ],
   "source": [
    "# build up the expression from sub-expressions\n",
    "expr = Or(trueEqTrue.expr, Equals(TRUE, FALSE))"
   ]
  },
  {
   "cell_type": "code",
   "execution_count": 3,
   "metadata": {},
   "outputs": [
    {
     "name": "stdout",
     "output_type": "stream",
     "text": [
      "Passed sanity check: built 'expr' is the same as the stored Expression.\n"
     ]
    }
   ],
   "source": [
    "# check that the built expression is the same as the stored expression\n",
    "%check_expr"
   ]
  },
  {
   "cell_type": "code",
   "execution_count": 4,
   "metadata": {},
   "outputs": [
    {
     "data": {
      "text/html": [
       "<table><tr><th>&nbsp;</th><th>core type</th><th>sub-expressions</th><th>expression</th></tr>\n",
       "<tr><td>0</td><td>Operation</td><td>operator:&nbsp;1<br>operands:&nbsp;2<br></td><td><a class=\"ProveItLink\" href=\"expr.ipynb\"><img src=\"data:image/png;base64,iVBORw0KGgoAAAANSUhEUgAAAKsAAAAVBAMAAADLBgMvAAAAMFBMVEX////c3NwiIiJERESqqqqY\n",
       "mJh2dnZmZmYQEBDu7u4yMjJUVFTMzMyIiIi6uroAAAAs73DqAAAAAXRSTlMAQObYZgAAAYlJREFU\n",
       "OMtjYKAR4LuAX571AbrIWwImxoGI0wzsSmBggCoJF61B08WzgaEILKWMaaIsWOcBILESrLQAm7UQ\n",
       "US4wG+xmHjB/Aog8jtWhENEFDAy8FwgZy5oAIveAiLtwAq+xYQwMHBMIGcvZACIPgwhNENFJ0NgZ\n",
       "DAyvGAgZy2AC9roAAwMLiM+3gKCxzA4MZYSNTQcRICNBRjOwJxA0lq2AYSmKseyrwGADirFeDNAA\n",
       "AAcEVwCKsVVgDatRjGVZwNBH2LUvGKAxtQ9Eczwg6Fq+BoZ/hI09DyaZGDjBocpP2FieD8Qby+7A\n",
       "FkC8sS2oYYuS4VACgXEBE5jmcEAxFjXDwQPBlLBroyC8PbGQ1BNA0LWsCyCph4gEBkwHmrDUQ0QC\n",
       "ewQxIAGrsRDRdRAeF8Q8PgUwdQxTOTA8NMDhwfWAgUOAUMkJybxASyZA6EaCZe0MWEGCD7ChFchh\n",
       "BI3NhRWM+MAsND7XBELeA6VvaULGbkTjM24goIEbFK6MBCod3gNYqwA84A4DAwA56Gs600DsrAAA\n",
       "AABJRU5ErkJggg==\n",
       "\" style=\"display:inline;vertical-align:middle;\" /></a></td></tr>\n",
       "<tr><td>1</td><td>Literal</td><td></td><td><a class=\"ProveItLink\" href=\"../../disjunction/__pv_it/087d0b4ded7c7e5bf3bba05ecb616d7a8051ff650/expr.ipynb\"><img src=\"data:image/png;base64,iVBORw0KGgoAAAANSUhEUgAAAAwAAAAOBAMAAADpk+DfAAAALVBMVEX///+YmJh2dnZmZmaqqqrc\n",
       "3NwyMjLu7u4iIiJERESIiIhUVFTMzMy6uroAAAD0I/TTAAAAAXRSTlMAQObYZgAAAEtJREFUCNdj\n",
       "uMAABDwMe0DUKoaTIKqdgS2AgYHFAITAzHYGsMQqBoa9QIqDgT0BSDE7MAkAKdYEDpAehj1SYOpk\n",
       "O5hiMwBTPAUMDAB33Atnw8aG2QAAAABJRU5ErkJggg==\n",
       "\" style=\"display:inline;vertical-align:middle;\" /></a></td></tr>\n",
       "<tr><td>2</td><td>ExprTuple</td><td>3, 4</td><td><a class=\"ProveItLink\" href=\"../4c312005e735d53733ddec6fbd0b2d8ac76772310/expr.ipynb\"><img src=\"data:image/png;base64,iVBORw0KGgoAAAANSUhEUgAAAI0AAAAVBAMAAACJRXC4AAAAMFBMVEX////c3NwiIiJERESqqqqY\n",
       "mJh2dnZmZmYQEBDu7u4yMjJUVFTMzMyIiIi6uroAAAAs73DqAAAAAXRSTlMAQObYZgAAAOJJREFU\n",
       "OMtjYKAW4LtAsRFxIOI0A7sSGBigSqKIFoHZyphGyIKVHgASK0EsngJs9qCIHsfqFIjoAgYG3gtU\n",
       "MCeMgYFjAhXMmcHA8IqBCuYwOzCUUcMctgKGpSg62FeBwQY85lSBVaxGEWVZwNBHDffwNTD8o4Y5\n",
       "PB+oZk4LavigJG2s5qAmbbi/TAm6ZwJh97AuYEgnZA7nJ6Li/RFERwJWc0CinP0CYM4xTHmgFzXA\n",
       "XuR6wMAhQLBgIagClC9YEwgpYiVcAOXCyg3KzOEElhsM0oRUES4vuUE+Z6S8XL3DwAAAR1xLXcFx\n",
       "6c0AAAAASUVORK5CYII=\n",
       "\" style=\"display:inline;vertical-align:middle;\" /></a></td></tr>\n",
       "<tr><td>3</td><td>Operation</td><td>operator:&nbsp;6<br>operands:&nbsp;5<br></td><td><a class=\"ProveItLink\" href=\"../b61faf68579dfd168a6d68fc65de147af91ada740/expr.ipynb\"><img src=\"data:image/png;base64,iVBORw0KGgoAAAANSUhEUgAAADoAAAAOBAMAAACMfhKgAAAAG1BMVEX///9UVFQyMjJ2dnbMzMxE\n",
       "REQiIiJmZmYAAABH86hhAAAAAXRSTlMAQObYZgAAACxJREFUGNNjKEsDgVQGVIAk6s6ADbij0QMl\n",
       "W6QEAop0txc12KhhsjNWWZAoAMYCEPeA4IdqAAAAAElFTkSuQmCC\n",
       "\" style=\"display:inline;vertical-align:middle;\" /></a></td></tr>\n",
       "<tr><td>4</td><td>Operation</td><td>operator:&nbsp;6<br>operands:&nbsp;7<br></td><td><a class=\"ProveItLink\" href=\"../1a0bc146f0378d9884089136710b6fb67bb49da80/expr.ipynb\"><img src=\"data:image/png;base64,iVBORw0KGgoAAAANSUhEUgAAADoAAAAOBAMAAACMfhKgAAAAJFBMVEX///8QEBCIiIjc3NxUVFQy\n",
       "MjJ2dnbMzMxEREQiIiJmZmYAAABUTmY3AAAAAXRSTlMAQObYZgAAAC9JREFUGNNjWDkTBGYwYAAj\n",
       "KF3FgA1UDRLZpaEgEEJ3e1GDjRoml2FKAS2ZCLQEAMKUG23qUbOcAAAAAElFTkSuQmCC\n",
       "\" style=\"display:inline;vertical-align:middle;\" /></a></td></tr>\n",
       "<tr><td>5</td><td>ExprTuple</td><td>8, 8</td><td><a class=\"ProveItLink\" href=\"../c99457015deb52be3e1c899303259d104a7d8e4a0/expr.ipynb\"><img src=\"data:image/png;base64,iVBORw0KGgoAAAANSUhEUgAAADUAAAAVBAMAAAAUZLt1AAAAMFBMVEX////c3NwiIiJERESqqqqY\n",
       "mJh2dnZmZmYQEBDu7u4yMjJUVFTMzMyIiIi6uroAAAAs73DqAAAAAXRSTlMAQObYZgAAAK1JREFU\n",
       "KM9jYMAH+C5gFY4DEacZ2JXAwAAsVgRmKzOwHwByVoJEeAqQtBwHkwsYGHgv4JALY2DgmIBDbgYD\n",
       "wysGHHLMDgxluOTYChiW4pJjWcDQh0uOr4HhHy45ng945VrwmGmKJDcBWY51AUM6Qo7zE5ofHkHk\n",
       "EkBy/QJgzjEwyfWAgUMAKbqQ2KAwY01AcFmRIzAXFkeYcpzAOGKQRvCRUwA3yHxG7GniDgMDAJEk\n",
       "LfwxNZicAAAAAElFTkSuQmCC\n",
       "\" style=\"display:inline;vertical-align:middle;\" /></a></td></tr>\n",
       "<tr><td>6</td><td>Literal</td><td></td><td><a class=\"ProveItLink\" href=\"../../../equality/__pv_it/2fb26078095930560931daa0500ce419a39ea6cd0/expr.ipynb\"><img src=\"data:image/png;base64,iVBORw0KGgoAAAANSUhEUgAAAA4AAAAFBAMAAACHocAhAAAAFVBMVEX///9EREQiIiJUVFQyMjJm\n",
       "ZmYAAADubVkoAAAAAXRSTlMAQObYZgAAABRJREFUCNdjCHEBAWcGXCBICQQUAUpuAwlgGKrkAAAA\n",
       "AElFTkSuQmCC\n",
       "\" style=\"display:inline;vertical-align:middle;\" /></a></td></tr>\n",
       "<tr><td>7</td><td>ExprTuple</td><td>8, 9</td><td><a class=\"ProveItLink\" href=\"../a4aad68354ee9532c0b0029abe20a315dcca00400/expr.ipynb\"><img src=\"data:image/png;base64,iVBORw0KGgoAAAANSUhEUgAAADUAAAAVBAMAAAAUZLt1AAAAMFBMVEX////c3NwiIiJERESqqqqY\n",
       "mJh2dnZmZmYQEBDu7u4yMjJUVFTMzMyIiIi6uroAAAAs73DqAAAAAXRSTlMAQObYZgAAALFJREFU\n",
       "KM9jYMAH+C5gFY4DEacZ2JXAwAAmLAsi2A8AiZUgFk8BkpbjYHIBAwPvBRxyYQwMHBNwyM1gYHjF\n",
       "gEOO2YGhDJccWwHDUlxyLAsY+nDJ8TUw/MMlx/MBr1wLHjNNkeQmIMuxLmBIR8hxfkLzwyOIXAJI\n",
       "rl+AgaFISUlDSUmZgYHrAQOHAFJ0IbFBYcaagOCyIkdgLiyOMOU4gXHEII3gI6cAbpD5jNjTxB0G\n",
       "BgCWci1ZX87w6gAAAABJRU5ErkJggg==\n",
       "\" style=\"display:inline;vertical-align:middle;\" /></a></td></tr>\n",
       "<tr><td>8</td><td>Literal</td><td></td><td><a class=\"ProveItLink\" href=\"../68a87cc3370287d726c7086ace789e680e4461c30/expr.ipynb\"><img src=\"data:image/png;base64,iVBORw0KGgoAAAANSUhEUgAAAA4AAAAOBAMAAADtZjDiAAAAFVBMVEX///92dnbMzMxEREQiIiJm\n",
       "ZmYAAABAT6GXAAAAAXRSTlMAQObYZgAAABhJREFUCNdjCHEBAWcGIFBlgABa0YpADAAxegPJJk4d\n",
       "XAAAAABJRU5ErkJggg==\n",
       "\" style=\"display:inline;vertical-align:middle;\" /></a></td></tr>\n",
       "<tr><td>9</td><td>Literal</td><td></td><td><a class=\"ProveItLink\" href=\"../8f1f7fac882de28c72b62ab80a1700b6d8fd066b0/expr.ipynb\"><img src=\"data:image/png;base64,iVBORw0KGgoAAAANSUhEUgAAAA4AAAAOBAMAAADtZjDiAAAAG1BMVEX///9EREQQEBAiIiJmZmbM\n",
       "zMyIiIjc3NwAAACryk5kAAAAAXRSTlMAQObYZgAAABlJREFUCNdjYGBgKGOAgBBa0s7GxkbGxoYA\n",
       "FMUF2aBfHgoAAAAASUVORK5CYII=\n",
       "\" style=\"display:inline;vertical-align:middle;\" /></a></td></tr>\n",
       "</table>\n"
      ],
      "text/plain": [
       "0. (TRUE = TRUE) or (TRUE = FALSE)\n",
       "   core type: Operation\n",
       "   operator: 1\n",
       "   operands: 2\n",
       "1. or\n",
       "   core type: Literal\n",
       "   sub-expressions: \n",
       "2. (TRUE = TRUE , TRUE = FALSE)\n",
       "   core type: ExprTuple\n",
       "   sub-expressions: 3, 4\n",
       "3. TRUE = TRUE\n",
       "   core type: Operation\n",
       "   operator: 6\n",
       "   operands: 5\n",
       "4. TRUE = FALSE\n",
       "   core type: Operation\n",
       "   operator: 6\n",
       "   operands: 7\n",
       "5. (TRUE , TRUE)\n",
       "   core type: ExprTuple\n",
       "   sub-expressions: 8, 8\n",
       "6. =\n",
       "   core type: Literal\n",
       "   sub-expressions: \n",
       "7. (TRUE , FALSE)\n",
       "   core type: ExprTuple\n",
       "   sub-expressions: 8, 9\n",
       "8. TRUE\n",
       "   core type: Literal\n",
       "   sub-expressions: \n",
       "9. FALSE\n",
       "   core type: Literal\n",
       "   sub-expressions: "
      ]
     },
     "execution_count": 4,
     "metadata": {},
     "output_type": "execute_result"
    }
   ],
   "source": [
    "# display the expression information\n",
    "expr.exprInfo()"
   ]
  },
  {
   "cell_type": "code",
   "execution_count": null,
   "metadata": {},
   "outputs": [],
   "source": []
  }
 ],
 "metadata": {
  "kernelspec": {
   "display_name": "Python 3",
   "language": "python",
   "name": "python3"
  }
 },
 "nbformat": 4,
 "nbformat_minor": 0
}
