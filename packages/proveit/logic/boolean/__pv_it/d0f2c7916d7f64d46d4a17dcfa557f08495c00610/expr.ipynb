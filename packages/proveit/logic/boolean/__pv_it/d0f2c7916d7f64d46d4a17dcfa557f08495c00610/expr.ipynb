{
 "cells": [
  {
   "cell_type": "markdown",
   "metadata": {},
   "source": [
    "Expression of type <a class=\"ProveItLink\" href=\"../../../../../../doc/html/api/proveit.Lambda.html\">Lambda</a>\n",
    "=======================\n",
    "# from context <a class=\"ProveItLink\" href=\"../../_context_.ipynb\">proveit.logic.boolean</a>"
   ]
  },
  {
   "cell_type": "code",
   "execution_count": 1,
   "metadata": {},
   "outputs": [],
   "source": [
    "# import Expression classes needed to build the expression\n",
    "from proveit import Lambda\n",
    "from proveit._common_ import A\n",
    "from proveit.logic import Booleans, InSet"
   ]
  },
  {
   "cell_type": "code",
   "execution_count": 2,
   "metadata": {},
   "outputs": [
    {
     "data": {
      "text/html": [
       "<strong id=\"expr\">expr:</strong> <a class=\"ProveItLink\" href=\"expr.ipynb\"><img src=\"data:image/png;base64,iVBORw0KGgoAAAANSUhEUgAAAKwAAAAVCAMAAADsKvVXAAAANlBMVEX///92dnYUFBQNDQ0QEBBE\n",
       "RERUVFS6urqIiIhmZmaqqqrc3Nzu7u6YmJgyMjIiIiLMzMwAAACuIkBbAAAAAXRSTlMAQObYZgAA\n",
       "AadJREFUSMfdVstywyAMhJY3QqD//9nGsZkgG1pMJpfuZY29a2lAgIT497CO8wKSfUte8qyzGM5T\n",
       "fomkkVBlHZ5jX96RI80mi8B50q+3lQAEKXf9G/KUCeZydY7zrP8ZXTh7xE1yWR6DpziXrALOfT84\n",
       "zA/gOXpIwjyNoJblTjiaq3mLnPv+ggkGUxX1MQ6LcgsiUHrVH7OF0I685Nzzi6ihv64lp/pJ+jU5\n",
       "PCal0KsGTxvbtL/CxLnnFzp2izBnIlVlAdfk2wJG8qNkwTQ/U5Zzzw96vGNcOD5atSQvZgO9LN9f\n",
       "mUE19Vgfm1cXv1XVedkxG+0FVGhJvodVOJpZYZpZ7CR78fPr4hxd6FOyd+TH/slqlKxvS0oFzj0/\n",
       "5InoTRnMy2O4XEHcXNjprxPnnl+Y9Ev0Y10T3pdD9ejXFcQbFH6s1COkcs//mCs7iJ6805eja1Ie\n",
       "tSLcVjlpIvQzl0JueeSPeGo99s5EZ2Vq+WCT4E35PFTkPEAwyLf3Cfy6vSuf7i2lmOpE/oB0n5T/\n",
       "0SLeBOAn5U2BGc5LMPGT8jZbx3kBrtyX/wAHZxjpRJTG2gAAAABJRU5ErkJggg==\n",
       "\" style=\"display:inline;vertical-align:middle;\" /></a><br>"
      ],
      "text/plain": [
       "expr: A -> ((A in BOOLEANS) in BOOLEANS)"
      ]
     },
     "execution_count": 2,
     "metadata": {},
     "output_type": "execute_result"
    }
   ],
   "source": [
    "# build up the expression from sub-expressions\n",
    "expr = Lambda(A, InSet(InSet(A, Booleans), Booleans))"
   ]
  },
  {
   "cell_type": "code",
   "execution_count": 3,
   "metadata": {},
   "outputs": [
    {
     "name": "stdout",
     "output_type": "stream",
     "text": [
      "Passed sanity check: built 'expr' is the same as the stored Expression.\n"
     ]
    }
   ],
   "source": [
    "# check that the built expression is the same as the stored expression\n",
    "%check_expr"
   ]
  },
  {
   "cell_type": "code",
   "execution_count": 4,
   "metadata": {},
   "outputs": [
    {
     "data": {
      "text/html": [
       "<table><tr><th>&nbsp;</th><th>core type</th><th>sub-expressions</th><th>expression</th></tr>\n",
       "<tr><td>0</td><td>Lambda</td><td>parameter:&nbsp;6<br>body:&nbsp;1<br></td><td><a class=\"ProveItLink\" href=\"expr.ipynb\"><img src=\"data:image/png;base64,iVBORw0KGgoAAAANSUhEUgAAAKwAAAAVCAMAAADsKvVXAAAANlBMVEX///92dnYUFBQNDQ0QEBBE\n",
       "RERUVFS6urqIiIhmZmaqqqrc3Nzu7u6YmJgyMjIiIiLMzMwAAACuIkBbAAAAAXRSTlMAQObYZgAA\n",
       "AadJREFUSMfdVstywyAMhJY3QqD//9nGsZkgG1pMJpfuZY29a2lAgIT497CO8wKSfUte8qyzGM5T\n",
       "fomkkVBlHZ5jX96RI80mi8B50q+3lQAEKXf9G/KUCeZydY7zrP8ZXTh7xE1yWR6DpziXrALOfT84\n",
       "zA/gOXpIwjyNoJblTjiaq3mLnPv+ggkGUxX1MQ6LcgsiUHrVH7OF0I685Nzzi6ihv64lp/pJ+jU5\n",
       "PCal0KsGTxvbtL/CxLnnFzp2izBnIlVlAdfk2wJG8qNkwTQ/U5Zzzw96vGNcOD5atSQvZgO9LN9f\n",
       "mUE19Vgfm1cXv1XVedkxG+0FVGhJvodVOJpZYZpZ7CR78fPr4hxd6FOyd+TH/slqlKxvS0oFzj0/\n",
       "5InoTRnMy2O4XEHcXNjprxPnnl+Y9Ev0Y10T3pdD9ejXFcQbFH6s1COkcs//mCs7iJ6805eja1Ie\n",
       "tSLcVjlpIvQzl0JueeSPeGo99s5EZ2Vq+WCT4E35PFTkPEAwyLf3Cfy6vSuf7i2lmOpE/oB0n5T/\n",
       "0SLeBOAn5U2BGc5LMPGT8jZbx3kBrtyX/wAHZxjpRJTG2gAAAABJRU5ErkJggg==\n",
       "\" style=\"display:inline;vertical-align:middle;\" /></a></td></tr>\n",
       "<tr><td>1</td><td>Operation</td><td>operator:&nbsp;4<br>operands:&nbsp;2<br></td><td><a class=\"ProveItLink\" href=\"../afe7c87735af946bb36e4a147f406a72750694180/expr.ipynb\"><img src=\"data:image/png;base64,iVBORw0KGgoAAAANSUhEUgAAAGsAAAAVBAMAAACzuQ2OAAAAMFBMVEX////c3NwiIiJERESqqqqY\n",
       "mJh2dnZmZmYQEBDu7u4yMjJUVFTMzMyIiIi6uroAAAAs73DqAAAAAXRSTlMAQObYZgAAAbpJREFU\n",
       "OMtjYCAT8F3AJxuHS+I0hDqEKsq23upXkwkDA/sBVPGsz+tXKDsAGSsh/PVopjHzXZg1LYGBYQGa\n",
       "uMFbzpVpDAy8EDey6k/A0Mb7AKgnDEMbwz0uBgYOiHKRegEwzXlLSWkBVBtLwE4GhhkQ1XMXKWnB\n",
       "tLlyT2B4BRG+cP8BmD4ViWTbQwMgDfIIA8/SCUi2CTMwlEGCc4J/AIhmtERy5KFgoFq2AhBPeALC\n",
       "kTyqQEVLwZx5DOfBfmQWQGhT+t8LpFnATjZE+O2R/g+g0j4w5wGDPNjUyShBcgXoSL4GkI8NkIPk\n",
       "rjMDwz+w03fv3g+WeaGkhAgSBoNnQKkPID80AYXhQcLMlwDRxgcM0QVIcQ/TxgzVxrMB2TZmBgOG\n",
       "FhAbGFpMIMcwTMLQBnGkAro2U1D4AbVxgUxl4A5A0QZ0JCvYFVtRtAEdmQ5kzgIp+wmObT0kbay1\n",
       "BrAImPQASVv4ZQaGR8BI6V/IwGr/CywvVQNPyp81tgAZXGANjMsPwJOyUTfQcRwCqGnOe5ESSuqF\n",
       "Ji6WXdCQhALWBPzZMReH+Eq8ujgX4JCQxquNWwCHBCPeQuEOdmEAmOt590GnBA8AAAAASUVORK5C\n",
       "YII=\n",
       "\" style=\"display:inline;vertical-align:middle;\" /></a></td></tr>\n",
       "<tr><td>2</td><td>ExprTuple</td><td>3, 7</td><td><a class=\"ProveItLink\" href=\"../1eeb3fb863238920b726c17bdbc7bbae37ab64440/expr.ipynb\"><img src=\"data:image/png;base64,iVBORw0KGgoAAAANSUhEUgAAAFoAAAAVBAMAAAA0iOSIAAAAMFBMVEX////c3NwiIiJERESqqqqY\n",
       "mJh2dnZmZmYQEBDu7u4yMjJUVFTMzMyIiIi6uroAAAAs73DqAAAAAXRSTlMAQObYZgAAAY5JREFU\n",
       "KM9jYCAN8F0gUiHrAyBxGsI+hCrFtt7qV5MJhJ31ef0KZQcGhhogeyVEaD2aScx8F2ZNS4CwDd5y\n",
       "rkxjYOBiYOCFOIRVfwKGat4HC2CqGe4BlbImMHBAVInUC4BpzltKSgugqlkCdsJVu3JPYOBsYHgF\n",
       "Ebhw/wGYPhWJZPZDA4TZwkDahKEMEjAT/ANANKMlkksOBU+AqeZRBUmkMywF8+cxnAe7n1kAoVrp\n",
       "fy+UbfBI/wdI2ouhD8x/wCBfAKIno/jyCsIld52B9AuGfyAuz+7d+8EyL5SUEL5kMHgGV83MBwzN\n",
       "8xDVfAwMHGA1p5HNZjBgRqhmMACpbgFxgRHF1ABiTMKr+gWDKSgkgKq5PoDEuQNQVD9j4ER2SRQw\n",
       "VBgYZoFkf4IjRw9JNWutAcN8BYjq8MvgEHzEwCDcv5CB1f4XOFCkauCp6rPGFgaGGR/BqcqoG2g9\n",
       "wzoGDgHU9OG9SGkBMv8hggmMedYE/Kk6ACkVX4CnWCJUg7wnjVcxLxJ7Iyj4iM1pvAcYAFs1cyPw\n",
       "fzGKAAAAAElFTkSuQmCC\n",
       "\" style=\"display:inline;vertical-align:middle;\" /></a></td></tr>\n",
       "<tr><td>3</td><td>Operation</td><td>operator:&nbsp;4<br>operands:&nbsp;5<br></td><td><a class=\"ProveItLink\" href=\"../923805f01821a06014dd29c5f79c5e4c92605ad50/expr.ipynb\"><img src=\"data:image/png;base64,iVBORw0KGgoAAAANSUhEUgAAADYAAAAPBAMAAABdHiGLAAAAMFBMVEX///92dnYQEBBERERUVFS6\n",
       "urqIiIhmZmaqqqrc3Nzu7u6YmJgyMjIiIiLMzMwAAACFkkdwAAAAAXRSTlMAQObYZgAAANJJREFU\n",
       "GNNjYACBtwwogPG8zR9dCyjnPKocAzNrwpqFAmAm9/0FGHJsAQfAzBn1EyBiy87evQOV49jgBRZK\n",
       "yA8A03ynFyD0RRqAWKwL+jeAhSYvQJj5djOYs5ThfQJYyBJh393/amBWAMP8AhDNZYDslgwQj8/F\n",
       "xR9itu7du3C3MBgEgoQYGJjA7uVzQNLHYMAMZDQwMPAqgM28gC7HCZTj+QAW8kaRA5q5BsT+BRZa\n",
       "G4CQ4y4zYJisf5KB2/4P2KGcxx/AwvrzJQ+0MObwgbgTAgCMvTlc/0QYTQAAAABJRU5ErkJggg==\n",
       "\" style=\"display:inline;vertical-align:middle;\" /></a></td></tr>\n",
       "<tr><td>4</td><td>Literal</td><td></td><td><a class=\"ProveItLink\" href=\"../../../set_theory/membership/__pv_it/088cbc857536a28d4119ad9639a84270ccb0545d0/expr.ipynb\"><img src=\"data:image/png;base64,iVBORw0KGgoAAAANSUhEUgAAAAwAAAAMBAMAAACkW0HUAAAALVBMVEX///+qqqpmZmZUVFQQEBC6\n",
       "urpERETc3NyYmJjMzMwiIiIyMjKIiIju7u4AAACYsrA9AAAAAXRSTlMAQObYZgAAADxJREFUCNdj\n",
       "YOA9vWrVBgaG2b0MQMCeCyIZ2ArA1DUwyRCyahVIyWQI7xaEYm4AU7xLIdxqTQgtvGvVBgCkcQ7e\n",
       "geM/tQAAAABJRU5ErkJggg==\n",
       "\" style=\"display:inline;vertical-align:middle;\" /></a></td></tr>\n",
       "<tr><td>5</td><td>ExprTuple</td><td>6, 7</td><td><a class=\"ProveItLink\" href=\"../66187e1b4f8077ccc87706fb1f470f3ae4cd9ec60/expr.ipynb\"><img src=\"data:image/png;base64,iVBORw0KGgoAAAANSUhEUgAAADMAAAAVBAMAAAAZessyAAAAMFBMVEX////c3NwiIiJERESqqqqY\n",
       "mJh2dnZmZmYQEBDu7u4yMjJUVFTMzMyIiIi6uroAAAAs73DqAAAAAXRSTlMAQObYZgAAAR1JREFU\n",
       "KM9jYMAD+C5gE40DEach7EMQim291a8mEwYG9gNAzkqI2Hqocma+C7OmJTAwLGBg4IWYx6o/AS7F\n",
       "+wAoHsbAwAEREqkXgEuxBOxkYJjBwPAKInLh/gOErocGQNqBoQzizAn+AXCpQ8FAk9gKGJaCBeYx\n",
       "nL8Ak1L63wukWRYw9IEFHjDIFyAMvAI0kK+B4R+Iz7N7934DuBSDwTOg0AeIFB/QpQuQpJjBUi0g\n",
       "vgMDA1MDqhTQQFMglxEoxfWBgWECkoGsCxjSgdxZIKGfDJyfIFKstQZgxz9iYBDuX8jAav+rgLNf\n",
       "ABS8nzW2AJVwPWDgEECKHyQ2MKBYExBcVqQIy0VECpoUJ8gv0gg+Unxzg8xmxJoA7jAwAAA4lUto\n",
       "1aFFcAAAAABJRU5ErkJggg==\n",
       "\" style=\"display:inline;vertical-align:middle;\" /></a></td></tr>\n",
       "<tr><td>6</td><td>Variable</td><td></td><td><a class=\"ProveItLink\" href=\"../../../../__pv_it/2cbe72a7ad6f655694dd697106680215e8489b600/expr.ipynb\"><img src=\"data:image/png;base64,iVBORw0KGgoAAAANSUhEUgAAAA8AAAAOBAMAAAACpFvcAAAALVBMVEX///8QEBBERERUVFS6urqI\n",
       "iIhmZmaqqqrc3Nzu7u6YmJgyMjIiIiLMzMwAAADtIaYWAAAAAXRSTlMAQObYZgAAAFtJREFUCNdj\n",
       "YACBOwxQsA9Kc52bAGG05zVAGAFxDmCaZULdAjBjCsO9ADDDgaEvAUTzGhvbKYCVMDAwbgAxChgY\n",
       "eASANAeQwf0AyJgNxEwvGRia5HYwcOm9TgAA6BoR3jrzwFcAAAAASUVORK5CYII=\n",
       "\" style=\"display:inline;vertical-align:middle;\" /></a></td></tr>\n",
       "<tr><td>7</td><td>Literal</td><td></td><td><a class=\"ProveItLink\" href=\"../46271c8230be96415d662709611f4ed2279d702b0/expr.ipynb\"><img src=\"data:image/png;base64,iVBORw0KGgoAAAANSUhEUgAAAA0AAAAOBAMAAAAGUYvhAAAAMFBMVEX///9mZmbMzMzc3NxUVFSY\n",
       "mJju7u6IiIi6urqqqqoiIiIQEBBEREQyMjJ2dnYAAAAQvcRZAAAAAXRSTlMAQObYZgAAAElJREFU\n",
       "CNdjePvn/u01ExgYGA60s117B6YZKngh9FSWBAjfBsxnWnoMRHet/10AkS+fA6F5OB5AaIYDqDRU\n",
       "PLCGgQFoz6ktExgAgLIl8DFvGtkAAAAASUVORK5CYII=\n",
       "\" style=\"display:inline;vertical-align:middle;\" /></a></td></tr>\n",
       "</table>\n"
      ],
      "text/plain": [
       "0. A -> ((A in BOOLEANS) in BOOLEANS)\n",
       "   core type: Lambda\n",
       "   parameter: 6\n",
       "   body: 1\n",
       "1. (A in BOOLEANS) in BOOLEANS\n",
       "   core type: Operation\n",
       "   operator: 4\n",
       "   operands: 2\n",
       "2. (A in BOOLEANS , BOOLEANS)\n",
       "   core type: ExprTuple\n",
       "   sub-expressions: 3, 7\n",
       "3. A in BOOLEANS\n",
       "   core type: Operation\n",
       "   operator: 4\n",
       "   operands: 5\n",
       "4. in\n",
       "   core type: Literal\n",
       "   sub-expressions: \n",
       "5. (A , BOOLEANS)\n",
       "   core type: ExprTuple\n",
       "   sub-expressions: 6, 7\n",
       "6. A\n",
       "   core type: Variable\n",
       "   sub-expressions: \n",
       "7. BOOLEANS\n",
       "   core type: Literal\n",
       "   sub-expressions: "
      ]
     },
     "execution_count": 4,
     "metadata": {},
     "output_type": "execute_result"
    }
   ],
   "source": [
    "# display the expression information\n",
    "expr.exprInfo()"
   ]
  },
  {
   "cell_type": "code",
   "execution_count": null,
   "metadata": {},
   "outputs": [],
   "source": []
  }
 ],
 "metadata": {
  "kernelspec": {
   "display_name": "Python 3",
   "language": "python",
   "name": "python3"
  }
 },
 "nbformat": 4,
 "nbformat_minor": 0
}
