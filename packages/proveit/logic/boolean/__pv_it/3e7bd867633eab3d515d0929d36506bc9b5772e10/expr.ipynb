{
 "cells": [
  {
   "cell_type": "markdown",
   "metadata": {},
   "source": [
    "Axiom <a class=\"ProveItLink\" href=\"../../_axioms_.ipynb#eqTrueElim\">eqTrueElim</a> of type <a class=\"ProveItLink\" href=\"../../../../../../doc/html/api/proveit.logic.Forall.html\">Forall</a>\n",
    "=======================\n",
    "# from context <a class=\"ProveItLink\" href=\"../../_context_.ipynb\">proveit.logic.boolean</a>\n",
    "*** see <a class=\"ProveItLink\" href=\"dependencies.ipynb\">dependencies</a> ***"
   ]
  },
  {
   "cell_type": "code",
   "execution_count": 1,
   "metadata": {},
   "outputs": [],
   "source": [
    "# import the special expression\n",
    "from proveit.logic.boolean._axioms_ import eqTrueElim"
   ]
  },
  {
   "cell_type": "code",
   "execution_count": 2,
   "metadata": {},
   "outputs": [
    {
     "name": "stdout",
     "output_type": "stream",
     "text": [
      "Passed sanity check: built 'eqTrueElim' is the same as the stored Expression.\n"
     ]
    }
   ],
   "source": [
    "# check that the built expression is the same as the stored expression\n",
    "%check_expr eqTrueElim"
   ]
  },
  {
   "cell_type": "code",
   "execution_count": 3,
   "metadata": {},
   "outputs": [
    {
     "data": {
      "text/html": [
       "<table><tr><th>&nbsp;</th><th>core type</th><th>sub-expressions</th><th>expression</th></tr>\n",
       "<tr><td>0</td><td>Operation</td><td>operator:&nbsp;1<br>operand:&nbsp;2<br></td><td><a class=\"ProveItLink\" href=\"expr.ipynb\"><img src=\"data:image/png;base64,iVBORw0KGgoAAAANSUhEUgAAAGgAAAAWBAMAAADeGsQjAAAAMFBMVEX///8QEBC6urrMzMxUVFRm\n",
       "ZmZERETc3NwyMjKqqqp2dnaIiIiYmJgiIiLu7u4AAAAU9Wx4AAAAAXRSTlMAQObYZgAAAUpJREFU\n",
       "OMtjeMBABrgAIk6ToIEZqGMliNFHgiaODwwMZUCaPYEETWf/ATUCPcU6gXg97FO/MzDwLC8vryXB\n",
       "Im7uT0DyW1raLRI06XH+AZLODAzpYG47mGSCe7gAmx4+BebfQEqFga8BxOX5BBZlg0mfV4AyWNPS\n",
       "xNKyoBwmBvavQIqXgfsAiPv0D4omvvgDCPMRoWvi4vIN5LMDvOBUse4qiiautwHYNAGtlwAZ2WAC\n",
       "jugNaSiarNkSsGjiBOKLIEa6E4hkYYhF0eTAeoHBowMINiBrqgTifhBjKjj5nWTYj6yJZwL3B0yb\n",
       "wEGWD/INI8gsvquhYA5M09vQsH8YmtgTfxQwHPvfCjIUpJi1gMHeAElTOAPzZ4YMDOehAh0GBv4D\n",
       "CE1MQPYfbKGHDJ58Y2D3vwPXxOefwFDy9wABTQjARk5Opp8mFiLUAADNR1FAr8G4iQAAAABJRU5E\n",
       "rkJggg==\n",
       "\" style=\"display:inline;vertical-align:middle;\" /></a></td></tr>\n",
       "<tr><td>1</td><td>Literal</td><td></td><td><a class=\"ProveItLink\" href=\"../../quantification/universal/__pv_it/265f8c02ac1094d56e0e6410a1c1fd3500dc9f540/expr.ipynb\"><img src=\"data:image/png;base64,iVBORw0KGgoAAAANSUhEUgAAAAwAAAAQBAMAAADQT4M0AAAAMFBMVEX///8QEBC6urrMzMxUVFRm\n",
       "ZmZERETc3NwyMjKqqqp2dnaIiIiYmJgiIiLu7u4AAAAU9Wx4AAAAAXRSTlMAQObYZgAAAFhJREFU\n",
       "CNdjeMAABhdAxGmGlSCqj6EMSLInMHAAJVknMPAsLy+vBYp8S0u7BaScGRjSgZQKA18DkOJl4D4A\n",
       "pLgP8IJM4mswARuX7gSmpoKNZWDcAKZ4gCoAgTQTILaSE58AAAAASUVORK5CYII=\n",
       "\" style=\"display:inline;vertical-align:middle;\" /></a></td></tr>\n",
       "<tr><td>2</td><td>Lambda</td><td>parameter:&nbsp;7<br>body:&nbsp;7<br>conditions:&nbsp;3<br></td><td><a class=\"ProveItLink\" href=\"../809008404e720f3339df7aa51f80e1dacc39ecf00/expr.ipynb\"><img src=\"data:image/png;base64,iVBORw0KGgoAAAANSUhEUgAAAI0AAAAVCAMAAABMtZ25AAAANlBMVEX///92dnYUFBQNDQ0QEBBE\n",
       "RERUVFS6urqIiIhmZmaqqqrc3Nzu7u6YmJgyMjIiIiLMzMwAAACuIkBbAAAAAXRSTlMAQObYZgAA\n",
       "ARVJREFUSMftltuOgyAQhumuIieBef+X3ZLdrs4BHVIvmrRzh37++QLDRGMuqhDNC9VtuTavlmdw\n",
       "0eY80pddzbsXGYZsCC7aaCOrp0/WAmlAhuKSjTqS2cTgYaARGS7Y6COZjTMOBhqR4YKNPpLaLMkE\n",
       "WLcDx7c30M8JLtpwRmuT7lkV3P+a3AVLjp/ikg1lfN6VPbRpURF8zybZeIhLNgKj3JtqW8F237+/\n",
       "CqoJNQDDBRuJUdr8Jk25tzfGLoe4YCMxOpu/Ji1Tz8ajg+I4t+FMd+oSmxjY5MQ21eExIg1abCMz\n",
       "mr1Jj92ct8npcBOjhYBTmw5zbhPnCXI7iHUGyKdXoIvvbAYjm83txf8oPjbvYeOusPkBp9gO3voj\n",
       "NxIAAAAASUVORK5CYII=\n",
       "\" style=\"display:inline;vertical-align:middle;\" /></a></td></tr>\n",
       "<tr><td>3</td><td>ExprTuple</td><td>4</td><td><a class=\"ProveItLink\" href=\"../9136dc986a9f4e2b8ebe9ffc932ffea398eb3ea10/expr.ipynb\"><img src=\"data:image/png;base64,iVBORw0KGgoAAAANSUhEUgAAAEcAAAAVBAMAAADm2O7QAAAAMFBMVEX////c3NwiIiJERESqqqqY\n",
       "mJh2dnZmZmYQEBDu7u4yMjJUVFTMzMyIiIi6uroAAAAs73DqAAAAAXRSTlMAQObYZgAAAOdJREFU\n",
       "KM9jYCAK8F3ALx8HIk5D2IfQJYuUQECZgf0AkLMSIrYeiyHHweQCBgZeiG2s+hNwKQpjYOCASIrU\n",
       "C+BSNIOB4RWEf+H+A1yKmB0YyiBenOAfgEsRWwHDUjBjHsN5sNuqVoHAahRFLAsY+sCMBwzyBbhM\n",
       "4mtg+AeieXbv3m+ASxHPB4giPqAvF+BR1AKiHRgYmBqQgxnNOlMgxQhUxPUBl0msCxjSgdQsUGj8\n",
       "xBMEjxgYhPsXMrDa/8L03jEwyfWAgUOAUFoCRgtrAiFFuYikghNwgsJGmoAibpB7GAkk3zsMDACt\n",
       "jz1DCAhkwQAAAABJRU5ErkJggg==\n",
       "\" style=\"display:inline;vertical-align:middle;\" /></a></td></tr>\n",
       "<tr><td>4</td><td>Operation</td><td>operator:&nbsp;5<br>operands:&nbsp;6<br></td><td><a class=\"ProveItLink\" href=\"../3e00edc0c96e2f417f411afb173264e503e6ed860/expr.ipynb\"><img src=\"data:image/png;base64,iVBORw0KGgoAAAANSUhEUgAAADoAAAAOBAMAAACMfhKgAAAAMFBMVEX///92dnYQEBBERERUVFS6\n",
       "urqIiIhmZmaqqqrc3Nzu7u6YmJgyMjIiIiLMzMwAAACFkkdwAAAAAXRSTlMAQObYZgAAAHhJREFU\n",
       "GNNjYACBtwxooPYuCFyGcM4zYILnMAb3/QV4ZGfUT8Ajm5AfgFuWdUH/BtyySxneJ4DomjMgcARN\n",
       "NoBhfgFOvXwuLv4GOGVZGRiYDuCUbWBg4FXACCCoLCdQlucDLr1rgJj5Fw7ZyfonGbjt/2A6+iEQ\n",
       "AwC2mTBvG4O8rwAAAABJRU5ErkJggg==\n",
       "\" style=\"display:inline;vertical-align:middle;\" /></a></td></tr>\n",
       "<tr><td>5</td><td>Literal</td><td></td><td><a class=\"ProveItLink\" href=\"../../../equality/__pv_it/2fb26078095930560931daa0500ce419a39ea6cd0/expr.ipynb\"><img src=\"data:image/png;base64,iVBORw0KGgoAAAANSUhEUgAAAA4AAAAFBAMAAACHocAhAAAAFVBMVEX///9EREQiIiJUVFQyMjJm\n",
       "ZmYAAADubVkoAAAAAXRSTlMAQObYZgAAABRJREFUCNdjCHEBAWcGXCBICQQUAUpuAwlgGKrkAAAA\n",
       "AElFTkSuQmCC\n",
       "\" style=\"display:inline;vertical-align:middle;\" /></a></td></tr>\n",
       "<tr><td>6</td><td>ExprTuple</td><td>7, 8</td><td><a class=\"ProveItLink\" href=\"../6fa03ec90c111207cbc23d0663de8c4eab88bb8d0/expr.ipynb\"><img src=\"data:image/png;base64,iVBORw0KGgoAAAANSUhEUgAAADUAAAAVBAMAAAAUZLt1AAAAMFBMVEX////c3NwiIiJERESqqqqY\n",
       "mJh2dnZmZmYQEBDu7u4yMjJUVFTMzMyIiIi6uroAAAAs73DqAAAAAXRSTlMAQObYZgAAAOtJREFU\n",
       "KM9jYMAH+C5gFY4DEach7ENQsSIlEFBmYD8A5KyEiK1HaDkOJhcwMPBCjGTVn4AmF8bAwAERE6kX\n",
       "QJObwcDwCsK/cP8BmhyzA0MZxLET/APQ5NgKGJaCGfMYzl9Ak2NZwNAHZjxgkC9Ak+NrYPgHonl2\n",
       "795vgCbH8wEixwd07wJMuRYQ7cDAwNSAaaYpkGIEynF9YGCYgCzHuoAhHUjNAnnnJwPnJzQ/PGJg\n",
       "EO5fyMBq/6uAsx8SNsfAJNcDBg4BpOhCYoPCjDUBwWVFjsBcRByhy3GC/CSN4COnAG6Q+YzY08Qd\n",
       "BgYAF+g6uPnH9U4AAAAASUVORK5CYII=\n",
       "\" style=\"display:inline;vertical-align:middle;\" /></a></td></tr>\n",
       "<tr><td>7</td><td>Variable</td><td></td><td><a class=\"ProveItLink\" href=\"../../../../__pv_it/2cbe72a7ad6f655694dd697106680215e8489b600/expr.ipynb\"><img src=\"data:image/png;base64,iVBORw0KGgoAAAANSUhEUgAAAA8AAAAOBAMAAAACpFvcAAAALVBMVEX///8QEBBERERUVFS6urqI\n",
       "iIhmZmaqqqrc3Nzu7u6YmJgyMjIiIiLMzMwAAADtIaYWAAAAAXRSTlMAQObYZgAAAFtJREFUCNdj\n",
       "YACBOwxQsA9Kc52bAGG05zVAGAFxDmCaZULdAjBjCsO9ADDDgaEvAUTzGhvbKYCVMDAwbgAxChgY\n",
       "eASANAeQwf0AyJgNxEwvGRia5HYwcOm9TgAA6BoR3jrzwFcAAAAASUVORK5CYII=\n",
       "\" style=\"display:inline;vertical-align:middle;\" /></a></td></tr>\n",
       "<tr><td>8</td><td>Literal</td><td></td><td><a class=\"ProveItLink\" href=\"../68a87cc3370287d726c7086ace789e680e4461c30/expr.ipynb\"><img src=\"data:image/png;base64,iVBORw0KGgoAAAANSUhEUgAAAA4AAAAOBAMAAADtZjDiAAAAFVBMVEX///92dnbMzMxEREQiIiJm\n",
       "ZmYAAABAT6GXAAAAAXRSTlMAQObYZgAAABhJREFUCNdjCHEBAWcGIFBlgABa0YpADAAxegPJJk4d\n",
       "XAAAAABJRU5ErkJggg==\n",
       "\" style=\"display:inline;vertical-align:middle;\" /></a></td></tr>\n",
       "</table>\n"
      ],
      "text/plain": [
       "0. forall_{A | A = TRUE} A\n",
       "   core type: Operation\n",
       "   operator: 1\n",
       "   operand: 2\n",
       "1. forall\n",
       "   core type: Literal\n",
       "   sub-expressions: \n",
       "2. A -> A | A = TRUE\n",
       "   core type: Lambda\n",
       "   parameter: 7\n",
       "   body: 7\n",
       "   conditions: 3\\n3. (A = TRUE)\n",
       "   core type: ExprTuple\n",
       "   sub-expressions: 4\n",
       "4. A = TRUE\n",
       "   core type: Operation\n",
       "   operator: 5\n",
       "   operands: 6\n",
       "5. =\n",
       "   core type: Literal\n",
       "   sub-expressions: \n",
       "6. (A , TRUE)\n",
       "   core type: ExprTuple\n",
       "   sub-expressions: 7, 8\n",
       "7. A\n",
       "   core type: Variable\n",
       "   sub-expressions: \n",
       "8. TRUE\n",
       "   core type: Literal\n",
       "   sub-expressions: "
      ]
     },
     "execution_count": 3,
     "metadata": {},
     "output_type": "execute_result"
    }
   ],
   "source": [
    "# display the expression information\n",
    "eqTrueElim.exprInfo()"
   ]
  },
  {
   "cell_type": "code",
   "execution_count": null,
   "metadata": {},
   "outputs": [],
   "source": []
  }
 ],
 "metadata": {
  "kernelspec": {
   "display_name": "Python 3",
   "language": "python",
   "name": "python3"
  }
 },
 "nbformat": 4,
 "nbformat_minor": 0
}
