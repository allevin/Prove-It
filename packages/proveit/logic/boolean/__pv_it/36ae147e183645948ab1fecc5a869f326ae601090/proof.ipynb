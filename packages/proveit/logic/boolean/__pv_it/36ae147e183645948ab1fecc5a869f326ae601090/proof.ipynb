{
 "cells": [
  {
   "cell_type": "markdown",
   "metadata": {},
   "source": [
    "Show the Proof\n",
    "========"
   ]
  },
  {
   "cell_type": "code",
   "execution_count": 1,
   "metadata": {},
   "outputs": [
    {
     "data": {
      "text/html": [
       "<table><tr><th>&nbsp;</th><th>step type</th><th>requirements</th><th>statement</th></tr>\n",
       "<tr><td>0</td><td>specialization</td><td>1, 2</td><td><span style=\"font-size:20px;\"> <a class=\"ProveItLink\" href=\"proof.ipynb\" style=\"text-decoration: none\">&#x22A2;&nbsp;</a><a class=\"ProveItLink\" href=\"../cffa0daa5dfb85b96b7b82a53eeebe10380a99740/expr.ipynb\"><img src=\"data:image/png;base64,iVBORw0KGgoAAAANSUhEUgAAAHUAAAAVBAMAAACK3rzVAAAAMFBMVEX////c3NwiIiJERESqqqqY\n",
       "mJh2dnZmZmYQEBDu7u4yMjJUVFTMzMyIiIi6uroAAAAs73DqAAAAAXRSTlMAQObYZgAAALhJREFU\n",
       "OMtjYKAE8F3AL8/6ALfcaRDBiGkAuxIYGDDUYNEEVb8SRPAUYDMWIsqFU4b3AiG9rAm4ZDgmENLL\n",
       "2YBL5hUDIb0MJrhkygjrTcclsxRFL/sqMNiAotcLl0wfYXtf4JL5R1jveVrobUH1LywxYbgZm4wp\n",
       "YXujcMmkUxBHjyDOaYI7B1kFJDWuw5JLwOo5BAhlUmxpEpo9EwjpZcOdwVcS0jsLt5Q0Ib0bcUsx\n",
       "EihzeA/gkgEAKZ06sKO/yYkAAAAASUVORK5CYII=\n",
       "\" style=\"display:inline;vertical-align:middle;\" /></a></span></td></tr>\n",
       "<tr><td>&nbsp;</td><td colspan=4 style=\"text-align:left\"><span style=\"font-size:20px;\"><a class=\"ProveItLink\" href=\"../../../../__pv_it/2cbe72a7ad6f655694dd697106680215e8489b600/expr.ipynb\"><img src=\"data:image/png;base64,iVBORw0KGgoAAAANSUhEUgAAAA8AAAAOBAMAAAACpFvcAAAALVBMVEX///8QEBBERERUVFS6urqI\n",
       "iIhmZmaqqqrc3Nzu7u6YmJgyMjIiIiLMzMwAAADtIaYWAAAAAXRSTlMAQObYZgAAAFtJREFUCNdj\n",
       "YACBOwxQsA9Kc52bAGG05zVAGAFxDmCaZULdAjBjCsO9ADDDgaEvAUTzGhvbKYCVMDAwbgAxChgY\n",
       "eASANAeQwf0AyJgNxEwvGRia5HYwcOm9TgAA6BoR3jrzwFcAAAAASUVORK5CYII=\n",
       "\" style=\"display:inline;vertical-align:middle;\" /></a> : <a class=\"ProveItLink\" href=\"../78dab4105ea6264e71849fd670cc3ef2fcc5c7a20/expr.ipynb\"><img src=\"data:image/png;base64,iVBORw0KGgoAAAANSUhEUgAAADoAAAAOBAMAAACMfhKgAAAAJFBMVEX///92dnZUVFQyMjJEREQQ\n",
       "EBAiIiJmZmbMzMyIiIjc3NwAAAAgGs2GAAAAAXRSTlMAQObYZgAAADRJREFUGNNjYGBgWMmAAcrS\n",
       "QCAFxGxnwAba0eiBki02BgEjutuLFEDUMBloXCrCOCTQCMQAwI0X/rEJW0EAAAAASUVORK5CYII=\n",
       "\" style=\"display:inline;vertical-align:middle;\" /></a></span></td></tr><tr><td>1</td><td>axiom</td><td></td><td><span style=\"font-size:20px;\"> <a class=\"ProveItLink\" href=\"../../negation/_axioms_.ipynb#negationElim\" style=\"text-decoration: none\">&#x22A2;&nbsp;</a><a class=\"ProveItLink\" href=\"../../negation/__pv_it/3b08940eb52ec7364a09d58733ea5eec05fbe9620/expr.ipynb\"><img src=\"data:image/png;base64,iVBORw0KGgoAAAANSUhEUgAAAJcAAAAXBAMAAAD0AcCSAAAAMFBMVEX///8QEBC6urrMzMxUVFRm\n",
       "ZmZERETc3NwyMjKqqqp2dnaIiIiYmJgiIiLu7u4AAAAU9Wx4AAAAAXRSTlMAQObYZgAAAbxJREFU\n",
       "OMtjYKAmeECsQqYN+OUPAfEFEOM0EYaZQChbLFLVIILVgIFhJYjRR4RhUDX9WKRMwWQDA0MZkGJP\n",
       "IGwWN8SXPPcf4DLsFAMDB1CSdQJhwxghhlTGF+Ay7CHQquXl5bVE+FIDQm3Yr4DLMDagk76lpd0i\n",
       "wrAoSJQ+mH8Al2FcAQwMzgwM6WBOO0Q5qrp2GKMHTD5isAeHXUQHCLSgGMYJjAEVBr4GcNB+gjgW\n",
       "xSyoIBAIgUkFhvoAXC5jEmBg4GXgBrv86R8shkEFgQBsKrOLi38CLsOYPwDj/AAvOKLWXcViGFQQ\n",
       "ZhgwDBgb8BnG1wBO28wb0jANgwkCgSSIAMYXrwCIEXsXBK5heJMh3QnEZGGIxTQMJggEOaDEDTSM\n",
       "4wMul/GA3DwVnD1PMuxHMmxZWlpaA0IQCJYC8QuQ/D98SYOBERTZfFdD8x+guiwBIQgEusCcJ9/O\n",
       "wJP/Ay06gT6+CPYxByg584DUsxYw2BugGwYXBFlZQChZP4SzdBgY+A+gGwYXBFm5gJBhq2GMJ98Y\n",
       "2P3voBpmgBAkppjiw5Jm2HApLiFgGEsBCYaxEyi2NzOQYBg5gIUCvQCemG+1sUJnVwAAAABJRU5E\n",
       "rkJggg==\n",
       "\" style=\"display:inline;vertical-align:middle;\" /></a></span></td></tr>\n",
       "<tr><td>&nbsp;</td><td colspan=4 style-\"text-align:left\"><a class=\"ProveItLink\" href=\"../../negation/_axioms_.ipynb#negationElim\">proveit.logic.boolean.negation.negationElim</a></td></tr><tr><td>2</td><td>specialization</td><td>3, 4</td><td><span style=\"font-size:20px;\"> <a class=\"ProveItLink\" href=\"../358697b7481d1cd3b6f8ff51f1adcbebf33622d80/proof.ipynb\" style=\"text-decoration: none\">&#x22A2;&nbsp;</a><a class=\"ProveItLink\" href=\"../810bf6d9285789e7a18e77c415f5066c9e3114310/expr.ipynb\"><img src=\"data:image/png;base64,iVBORw0KGgoAAAANSUhEUgAAAFoAAAAVBAMAAAA0iOSIAAAAMFBMVEX////c3NxERESqqqqYmJgQ\n",
       "EBDu7u4yMjKIiIi6urpUVFTMzMx2dnYiIiJmZmYAAABjE816AAAAAXRSTlMAQObYZgAAALBJREFU\n",
       "KM9jYCATcDbgl2eZgMzbBSIYMbXw3QUDBYbXyKJlIIL7ATZjIaLsSCIcDYRUsxxAiLAmEFLNFoAQ\n",
       "mc5ASDWDMkLkDWHV5xAiJSiq+crBYAGKanOGt6DQuQNkRhI2eyoiqH8SVr2fXNXBqO6GRSAOl6gQ\n",
       "NtsdyoMHD7EhOBdifSzcemTVkDivRIp5AUJJGjnmkdMMdsDTgJ5i8YF0ZI4UIdULkTmMBHIaxwYG\n",
       "AMntR+XSiDTmAAAAAElFTkSuQmCC\n",
       "\" style=\"display:inline;vertical-align:middle;\" /></a></span></td></tr>\n",
       "<tr><td>&nbsp;</td><td colspan=4 style=\"text-align:left\"><span style=\"font-size:20px;\"><a class=\"ProveItLink\" href=\"../../../../__pv_it/530be409e3083890784cf1d7b28c9e67e90af9360/expr.ipynb\"><img src=\"data:image/png;base64,iVBORw0KGgoAAAANSUhEUgAAAAsAAAAJBAMAAAAWSsseAAAAKlBMVEX///9ERETMzMwQEBAiIiKY\n",
       "mJju7u5mZmaqqqpUVFSIiIh2dnbc3NwAAAA/vyDhAAAAAXRSTlMAQObYZgAAAENJREFUCNdjYDi9\n",
       "8sTyBQxsG1hdmR0YuBm4LnAoMLAxcAowgADzAjB1VoEhgYH1wFoGrgSG3gBhhlMMDImrs3cFMAAA\n",
       "t0YN+iTRa+sAAAAASUVORK5CYII=\n",
       "\" style=\"display:inline;vertical-align:middle;\" /></a> : <a class=\"ProveItLink\" href=\"../8f1f7fac882de28c72b62ab80a1700b6d8fd066b0/expr.ipynb\"><img src=\"data:image/png;base64,iVBORw0KGgoAAAANSUhEUgAAAA4AAAAOBAMAAADtZjDiAAAAG1BMVEX///9EREQQEBAiIiJmZmbM\n",
       "zMyIiIjc3NwAAACryk5kAAAAAXRSTlMAQObYZgAAABlJREFUCNdjYGBgKGOAgBBa0s7GxkbGxoYA\n",
       "FMUF2aBfHgoAAAAASUVORK5CYII=\n",
       "\" style=\"display:inline;vertical-align:middle;\" /></a>, <a class=\"ProveItLink\" href=\"../../../../__pv_it/f8b9edf8e16034727f0aad55bb83e392c3db40d40/expr.ipynb\"><img src=\"data:image/png;base64,iVBORw0KGgoAAAANSUhEUgAAAAsAAAANBAMAAACN24kIAAAAMFBMVEX///+YmJhUVFQyMjIQEBBE\n",
       "REQiIiKqqqrMzMyIiIi6urrc3NxmZmZ2dnbu7u4AAADXeCicAAAAAXRSTlMAQObYZgAAAFhJREFU\n",
       "CNdj4LtzgWH/AwZerg8M8xkY2nkSGEIZGB6wTGD4ycDAUP+A4weQOszA6QCkbBhYFYDUIYb1AkDq\n",
       "6czzGxhA4BoQMyXwuQMptgusF4AU+8xTQBIAUqMVoSp/SLMAAAAASUVORK5CYII=\n",
       "\" style=\"display:inline;vertical-align:middle;\" /></a> : <a class=\"ProveItLink\" href=\"../68a87cc3370287d726c7086ace789e680e4461c30/expr.ipynb\"><img src=\"data:image/png;base64,iVBORw0KGgoAAAANSUhEUgAAAA4AAAAOBAMAAADtZjDiAAAAFVBMVEX///92dnbMzMxEREQiIiJm\n",
       "ZmYAAABAT6GXAAAAAXRSTlMAQObYZgAAABhJREFUCNdjCHEBAWcGIFBlgABa0YpADAAxegPJJk4d\n",
       "XAAAAABJRU5ErkJggg==\n",
       "\" style=\"display:inline;vertical-align:middle;\" /></a></span></td></tr><tr><td>3</td><td>theorem</td><td></td><td><span style=\"font-size:20px;\"> <a class=\"ProveItLink\" href=\"../../../equality/_proofs_/unfoldNotEquals.ipynb\" style=\"text-decoration: none\">&#x22A2;&nbsp;</a><a class=\"ProveItLink\" href=\"../../../equality/__pv_it/38779c63c7ca10709484d9771bf5465a3e774ee90/expr.ipynb\"><img src=\"data:image/png;base64,iVBORw0KGgoAAAANSUhEUgAAAL8AAAAXCAMAAABte263AAAAOVBMVEX///8oKCgUFBQJCQkQEBC6\n",
       "urrMzMxUVFRmZmZERETc3NwyMjKqqqp2dnaIiIiYmJgiIiLu7u4AAACP9cC6AAAAAXRSTlMAQObY\n",
       "ZgAAAmJJREFUWMPVV4lu5CAMZXfDffP/H7uYAIEZSEg7kVpLlRuM4YGfbQahXy7+8R2wuWs4F4tb\n",
       "7Y5x8wh8Qu8aroSRRmtVhuUzoZgu+/X9ZKMFzx/1n8+KMXcNCwzSjS7XwNQj+Dd/17CQs1ujrRZJ\n",
       "3DPJK+8aVoSrRgcO4vQj+Jm+MAhtqFCGXbDJ6+QgQoqaZvto0jSlMxcLl3m2wdhf2lkO2owrMsBZ\n",
       "tNXwM9lILVEa4QBJE9KXysFLGsMkvxJOvlDUXlm+n5m5Kroz6AxKkfMirOISgGCHgHMC7BoMxn4P\n",
       "v5gU84AnVT8bgA70uvLFaRswLOw0IwE1GrA7/z38M/pd4U+hWKmkCphPAhngj9wpq8ZkwoaS0t95\n",
       "X+da/N1MhPXYA21qgv8wiASq+jRUc+7YkQHBTcebqrmgmY0egpmX9gYFgcg2vP86k6Y8+xf/zMAD\n",
       "cTvBnw1W7DlpruIvodTw7GxlpxVztcAcBUN4HIcNH+LvZpbsefeola45QGtQwSIezysuKcQidBxs\n",
       "v2rRDQNDQ2QaWUHNjP/HTM9nHgjP2uJu8Nxor/VC9YgzDStbStxrW6MHwSdt8dvIBH+eySNz/v6R\n",
       "iT/vHvFr1le2hYbzItoN3g8tpIC0TDVZSFg9IsFhWH+OmX3tfPU43lrTR9iaUAdwVakdvW5ipFgM\n",
       "KOCDiCpquBziP2bC8JF7rx4fez9D2+P5xKXXnvbciF+IFzKP6786LvLN46SzzQ3DTSL7S8egotfD\n",
       "hi3SeftXIj/9NYEGHgnnrLaIr/0CMKTXs+uHM+vr/mtVd0vPPGM/I/TnQfoP0pMahBS79IEAAAAA\n",
       "SUVORK5CYII=\n",
       "\" style=\"display:inline;vertical-align:middle;\" /></a></span></td></tr>\n",
       "<tr><td>&nbsp;</td><td colspan=4 style-\"text-align:left\"><a class=\"ProveItLink\" href=\"../../../equality/_proofs_/unfoldNotEquals.ipynb\">proveit.logic.equality.unfoldNotEquals</a></td></tr><tr><td>4</td><td>axiom</td><td></td><td><span style=\"font-size:20px;\"> <a class=\"ProveItLink\" href=\"../../_axioms_.ipynb#falseNotTrue\" style=\"text-decoration: none\">&#x22A2;&nbsp;</a><a class=\"ProveItLink\" href=\"../f59624db7a785c6991878af6495d446012e672150/expr.ipynb\"><img src=\"data:image/png;base64,iVBORw0KGgoAAAANSUhEUgAAADoAAAAUCAMAAADrw95cAAAAOVBMVEX///8LCwsYGBgNDQ0oKCju\n",
       "7u6qqqq6urpUVFQyMjJ2dnZEREQQEBAiIiJmZmbMzMyIiIjc3NwAAAAE5KaWAAAAAXRSTlMAQObY\n",
       "ZgAAAIBJREFUOMvFk90OwBAMRrtff1Pz/i+7TCQzdOjNvguR6skhKYBWtP8+9yd5op492iQmFh1S\n",
       "qBR5Jesl0VQ6iJbSXtQZ4KLGDaOoQtblXiXHWpP2oUICF1WegYa5maf33AxY69IetP7SpDeO9FFe\n",
       "jZCC063PtiNwYzcu+YsURLPjAkzNBut5ZocxAAAAAElFTkSuQmCC\n",
       "\" style=\"display:inline;vertical-align:middle;\" /></a></span></td></tr>\n",
       "<tr><td>&nbsp;</td><td colspan=4 style-\"text-align:left\"><a class=\"ProveItLink\" href=\"../../_axioms_.ipynb#falseNotTrue\">proveit.logic.boolean.falseNotTrue</a></td></tr></table>"
      ],
      "text/plain": [
       "<proveit._core_.proof._ShowProof at 0x7f94ebe2ca20>"
      ]
     },
     "execution_count": 1,
     "metadata": {},
     "output_type": "execute_result"
    }
   ],
   "source": [
    "import proveit\n",
    "%show_proof"
   ]
  },
  {
   "cell_type": "code",
   "execution_count": null,
   "metadata": {},
   "outputs": [],
   "source": []
  }
 ],
 "metadata": {
  "kernelspec": {
   "display_name": "Python 3",
   "language": "python",
   "name": "python3"
  }
 },
 "nbformat": 4,
 "nbformat_minor": 0
}
