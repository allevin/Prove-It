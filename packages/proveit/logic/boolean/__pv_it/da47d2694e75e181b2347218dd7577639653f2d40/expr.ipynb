{
 "cells": [
  {
   "cell_type": "markdown",
   "metadata": {},
   "source": [
    "Expression of type <a class=\"ProveItLink\" href=\"../../../../../../doc/html/api/proveit.logic.Set.html\">Set</a>\n",
    "=======================\n",
    "# from context <a class=\"ProveItLink\" href=\"../../_context_.ipynb\">proveit.logic.boolean</a>"
   ]
  },
  {
   "cell_type": "code",
   "execution_count": 1,
   "metadata": {},
   "outputs": [],
   "source": [
    "# import Expression classes needed to build the expression\n",
    "from proveit.logic import Set\n",
    "from proveit.logic._common_ import PofFalse"
   ]
  },
  {
   "cell_type": "code",
   "execution_count": 2,
   "metadata": {},
   "outputs": [
    {
     "data": {
      "text/html": [
       "<strong id=\"expr\">expr:</strong> <a class=\"ProveItLink\" href=\"expr.ipynb\"><img src=\"data:image/png;base64,iVBORw0KGgoAAAANSUhEUgAAAEcAAAAVBAMAAADm2O7QAAAAMFBMVEX///9ERETc3NyqqqpUVFS6\n",
       "urrMzMwyMjIQEBCIiIh2dnYiIiLu7u5mZmaYmJgAAABJJ2g3AAAAAXRSTlMAQObYZgAAAUBJREFU\n",
       "KM9jYGDgu8eAG7CtUgBRPLtQhSPhrKdgVc0gkvMDiJzy38VlC0gTmwOIqwkieBNA5HUQwdUA1vad\n",
       "gYGxCUizHwDxcsFiBSBiBUIR2y8GBmYgZpjJgFD0Ck0R51egD/4CGT1Iik6gKWIEuozlMwMDawGS\n",
       "IkYDVEX8QMnzAkDHLkBSxHUBpogXrDd/AQPbXpC7HyApYgZJvQexMgJA5HyvVbdAIcARgKSIFWQJ\n",
       "O9C4lDYwX/4AJAD5kRWxgYNQHGh4BDjIfjPgUsQNciULyGK2v1BFHAbo1oHdxLUBGkwQXyM7nK8A\n",
       "JQgY/0AVgX2NGQQgRWflv0yAKGIFmnt79+4du3dvBHosADUw4aAJiY0eLXDwCom9Eq6ID1UR+wE4\n",
       "k6cAnp54dqIoYnKAM1nAibAV4tHFKKo04axpsDQOABxiVddHxO4XAAAAAElFTkSuQmCC\n",
       "\" style=\"display:inline;vertical-align:middle;\" /></a><br>"
      ],
      "text/plain": [
       "expr: {P(FALSE)}"
      ]
     },
     "execution_count": 2,
     "metadata": {},
     "output_type": "execute_result"
    }
   ],
   "source": [
    "# build up the expression from sub-expressions\n",
    "expr = Set(PofFalse)"
   ]
  },
  {
   "cell_type": "code",
   "execution_count": 3,
   "metadata": {},
   "outputs": [
    {
     "name": "stdout",
     "output_type": "stream",
     "text": [
      "Passed sanity check: built 'expr' is the same as the stored Expression.\n"
     ]
    }
   ],
   "source": [
    "# check that the built expression is the same as the stored expression\n",
    "%check_expr"
   ]
  },
  {
   "cell_type": "code",
   "execution_count": 4,
   "metadata": {},
   "outputs": [
    {
     "data": {
      "text/html": [
       "<table><tr><th>&nbsp;</th><th>core type</th><th>sub-expressions</th><th>expression</th></tr>\n",
       "<tr><td>0</td><td>Operation</td><td>operator:&nbsp;1<br>operands:&nbsp;2<br></td><td><a class=\"ProveItLink\" href=\"expr.ipynb\"><img src=\"data:image/png;base64,iVBORw0KGgoAAAANSUhEUgAAAEcAAAAVBAMAAADm2O7QAAAAMFBMVEX///9ERETc3NyqqqpUVFS6\n",
       "urrMzMwyMjIQEBCIiIh2dnYiIiLu7u5mZmaYmJgAAABJJ2g3AAAAAXRSTlMAQObYZgAAAUBJREFU\n",
       "KM9jYGDgu8eAG7CtUgBRPLtQhSPhrKdgVc0gkvMDiJzy38VlC0gTmwOIqwkieBNA5HUQwdUA1vad\n",
       "gYGxCUizHwDxcsFiBSBiBUIR2y8GBmYgZpjJgFD0Ck0R51egD/4CGT1Iik6gKWIEuozlMwMDawGS\n",
       "IkYDVEX8QMnzAkDHLkBSxHUBpogXrDd/AQPbXpC7HyApYgZJvQexMgJA5HyvVbdAIcARgKSIFWQJ\n",
       "O9C4lDYwX/4AJAD5kRWxgYNQHGh4BDjIfjPgUsQNciULyGK2v1BFHAbo1oHdxLUBGkwQXyM7nK8A\n",
       "JQgY/0AVgX2NGQQgRWflv0yAKGIFmnt79+4du3dvBHosADUw4aAJiY0eLXDwCom9Eq6ID1UR+wE4\n",
       "k6cAnp54dqIoYnKAM1nAibAV4tHFKKo04axpsDQOABxiVddHxO4XAAAAAElFTkSuQmCC\n",
       "\" style=\"display:inline;vertical-align:middle;\" /></a></td></tr>\n",
       "<tr><td>1</td><td>Literal</td><td></td><td><a class=\"ProveItLink\" href=\"../../../set_theory/enumeration/__pv_it/07381ed5b23806e8d7914b78cb6667769e3708dd0/expr.ipynb\"><img src=\"data:image/png;base64,iVBORw0KGgoAAAANSUhEUgAAAB4AAAAOBAMAAADKyLEKAAAAMFBMVEX///8iIiIQEBCIiIjMzMzc\n",
       "3Nyqqqp2dnZEREQyMjK6urru7u5mZmZUVFSYmJgAAACI6eGPAAAAAXRSTlMAQObYZgAAALRJREFU\n",
       "CNdjYGDgu3Nm3wIGBJjHwN0PZW5yYGDgLWBgyITy8zcwMMQDxZyh/INAvD6BgcEFypcB4vjPDiBm\n",
       "TPFRrhs/LjMwMP//38rAwCbKEMPA9gEkE3fp0waG+AUMRxh4JkC01T9guPTOOICBEWgVH5C//wHD\n",
       "H5D4fqCz9oCMDGD4DLaegRXslLMMDMpAgxlOMmQxHDRgYG5gYLBk4D7KcIe7gOHC2rt9QCXsh40Z\n",
       "GCKMGQDRkC8N/Ph1XAAAAABJRU5ErkJggg==\n",
       "\" style=\"display:inline;vertical-align:middle;\" /></a></td></tr>\n",
       "<tr><td>2</td><td>ExprTuple</td><td>3</td><td><a class=\"ProveItLink\" href=\"../13472b85081908ef33023a930d503d4714c552e00/expr.ipynb\"><img src=\"data:image/png;base64,iVBORw0KGgoAAAANSUhEUgAAAEAAAAAVBAMAAAAEBPWpAAAAMFBMVEX////c3NwiIiJERESqqqqY\n",
       "mJh2dnZmZmYQEBDu7u4yMjJUVFTMzMyIiIi6uroAAAAs73DqAAAAAXRSTlMAQObYZgAAAUZJREFU\n",
       "KM9jYCAI+C4g897CWXFAzPoASJwG4tv/d+/WFgAyeDaA5GRBBPsBIFEDxCtBvF8MDMyNQJprAoh3\n",
       "HGzEAhCfgYEXZAPPNwYGFiBmuMuAUBAGsiOBgQOkh/cfkP0dyOhEUjADiDkbGF6B2MwfGBi4vwAd\n",
       "vABJAbMDkDBhKAOx+YES8w2ADktAUsBWACTSGZaC2OcTGHjUQW4KQFLAAjLOi6EPxL6/La0M5EuO\n",
       "B0gK+BqAxAuGfyC2/QRI4PAjK+D5ADIbouATA24FLSDmd6gCDgdMK0yhwQDxGbIjWUGOjAL6Ayj+\n",
       "E6oA7DM0bz5iYJhu/xsao3wKDAxFSkoaSkrKQD+DHLSOgUMAObYbkdjQoGZNQFYQhsTOBVlzARrd\n",
       "MMA1Ac7kBLlxFhBLIytg3ABncoPs3ggSQ0lysnDWHZD/DzAAAPOuUahxEs28AAAAAElFTkSuQmCC\n",
       "\" style=\"display:inline;vertical-align:middle;\" /></a></td></tr>\n",
       "<tr><td>3</td><td>Operation</td><td>operator:&nbsp;4<br>operand:&nbsp;5<br></td><td><a class=\"ProveItLink\" href=\"../../../__pv_it/4d7c4165a9fdb279e98a557bae75d7e45eb1c31a0/expr.ipynb\"><img src=\"data:image/png;base64,iVBORw0KGgoAAAANSUhEUgAAADEAAAAVBAMAAAAdjxsPAAAAMFBMVEX////u7u5mZmaYmJi6urqq\n",
       "qqp2dnbMzMwQEBBEREQyMjLc3NwiIiJUVFSIiIgAAAAeC3ydAAAAAXRSTlMAQObYZgAAAO9JREFU\n",
       "KM9jYCAK+MFZJmDy7f+7d89uADLYL4C4+0AEUwFY6hcDA2c3kOYSAPGKwGILQAT7NwYGViBmeMeA\n",
       "kDEDEXxfGBiYPwEZjUgyEiCC8wMDA+9XBgaWBUgynAFAgh8oIj8BaGsCkgybApCoT2BgPwRygAGS\n",
       "DCvIgPfX0tRAjuZwQJJhaQAS8wUgvuNHlmEHWs7whwGHDPsnqAxHAJppIO9AHIrsAmagCzg/QmXA\n",
       "DkVytdD8vw8gMiwHGBh0zpw5cebMSaAXHJAjoRuJLYESPWZI7DwUGS4BOJNxAYoM9wU4k3cDamzv\n",
       "g7OeMzAAAAoKNyNLs78oAAAAAElFTkSuQmCC\n",
       "\" style=\"display:inline;vertical-align:middle;\" /></a></td></tr>\n",
       "<tr><td>4</td><td>Variable</td><td></td><td><a class=\"ProveItLink\" href=\"../../../../__pv_it/6369c6c8083c513ca7161ace249642d040f9327d0/expr.ipynb\"><img src=\"data:image/png;base64,iVBORw0KGgoAAAANSUhEUgAAABAAAAAOBAMAAADUAYG5AAAAMFBMVEX////u7u5mZmaYmJi6urqq\n",
       "qqp2dnbMzMwQEBBEREQyMjLc3NwiIiJUVFSIiIgAAAAeC3ydAAAAAXRSTlMAQObYZgAAAGBJREFU\n",
       "CNdjYGB4+//u3bMbGIDgFwMDZzeQZv/GwMAKxAx8XxgYmD8BGZwfGBh4vwIZ/AsYGOQnABn1CQzs\n",
       "h0Ca3l9LUwPrni/AAAF/oDT7JygDZAwYcH6E0ELz/z4A0QBnpRnRyxnfJQAAAABJRU5ErkJggg==\n",
       "\" style=\"display:inline;vertical-align:middle;\" /></a></td></tr>\n",
       "<tr><td>5</td><td>Literal</td><td></td><td><a class=\"ProveItLink\" href=\"../8f1f7fac882de28c72b62ab80a1700b6d8fd066b0/expr.ipynb\"><img src=\"data:image/png;base64,iVBORw0KGgoAAAANSUhEUgAAAA4AAAAOBAMAAADtZjDiAAAAG1BMVEX///9EREQQEBAiIiJmZmbM\n",
       "zMyIiIjc3NwAAACryk5kAAAAAXRSTlMAQObYZgAAABlJREFUCNdjYGBgKGOAgBBa0s7GxkbGxoYA\n",
       "FMUF2aBfHgoAAAAASUVORK5CYII=\n",
       "\" style=\"display:inline;vertical-align:middle;\" /></a></td></tr>\n",
       "</table>\n"
      ],
      "text/plain": [
       "0. {P(FALSE)}\n",
       "   core type: Operation\n",
       "   operator: 1\n",
       "   operands: 2\n",
       "1. Set\n",
       "   core type: Literal\n",
       "   sub-expressions: \n",
       "2. (P(FALSE))\n",
       "   core type: ExprTuple\n",
       "   sub-expressions: 3\n",
       "3. P(FALSE)\n",
       "   core type: Operation\n",
       "   operator: 4\n",
       "   operand: 5\n",
       "4. P\n",
       "   core type: Variable\n",
       "   sub-expressions: \n",
       "5. FALSE\n",
       "   core type: Literal\n",
       "   sub-expressions: "
      ]
     },
     "execution_count": 4,
     "metadata": {},
     "output_type": "execute_result"
    }
   ],
   "source": [
    "# display the expression information\n",
    "expr.exprInfo()"
   ]
  },
  {
   "cell_type": "code",
   "execution_count": null,
   "metadata": {},
   "outputs": [],
   "source": []
  }
 ],
 "metadata": {
  "kernelspec": {
   "display_name": "Python 3",
   "language": "python",
   "name": "python3"
  }
 },
 "nbformat": 4,
 "nbformat_minor": 0
}
