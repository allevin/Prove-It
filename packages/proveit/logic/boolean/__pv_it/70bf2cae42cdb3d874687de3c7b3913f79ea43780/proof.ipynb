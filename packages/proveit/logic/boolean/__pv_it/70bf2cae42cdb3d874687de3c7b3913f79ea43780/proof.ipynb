{
 "cells": [
  {
   "cell_type": "markdown",
   "metadata": {},
   "source": [
    "Show the Proof\n",
    "========"
   ]
  },
  {
   "cell_type": "code",
   "execution_count": 1,
   "metadata": {},
   "outputs": [
    {
     "data": {
      "text/html": [
       "<table><tr><th>&nbsp;</th><th>step type</th><th>requirements</th><th>statement</th></tr>\n",
       "<tr><td>0</td><td>specialization</td><td>1, 2</td><td><span style=\"font-size:20px;\"><a class=\"ProveItLink\" href=\"../f196426e43f670b102d5a3a298566accd29fd1e70/expr.ipynb\"><img src=\"data:image/png;base64,iVBORw0KGgoAAAANSUhEUgAAAMEAAAAVBAMAAAANw5eWAAAAMFBMVEX////c3NxERESqqqpUVFS6\n",
       "urrMzMwyMjIQEBCIiIh2dnYiIiLu7u5mZmaYmJgAAABXZE4RAAAAAXRSTlMAQObYZgAAAgtJREFU\n",
       "SMe1VT1IAzEUftbr37U9igqOFhwcBHVzKip0t5sFlxs6iH9tQeniT0F0cbCTq4KLCoq4aQe7iB0L\n",
       "ggUFdRHBxS7i4mDey13t5ZrL5IN+SZN8fJeX7yUAYDzDP0XgNI5N9BrRX/Ze/CYOqAhGGiW2sBtu\n",
       "Imb5+IK48KmCcQkxU5iQEVh0kfgDQgNBLyGu8cnNDoQlwjx9OHVNBSFQRwwiHLcUwnzPxk1VpvCB\n",
       "oJn2Wi8CVzAOHQohvrD3JS5TqBE3wSBSVRC4QrTkUJjhc+WDtEzBN4ZYYL8kKAhcAQYdCo/cH9WJ\n",
       "V5mCTrSkpeJJsBTObIUYnuEGjd1CjtLbKGKsOBS66ahZhihTAiFGhOKkQ2Gc/T6xM4f73KaxNAzU\n",
       "ZXvwk+XYAWuUFy+CpZBBQ7Fudgf/fdFMKjWdkCkEqGzgAu5ARbAUcghDLIsZ0yYwt4fyCoV7OP9T\n",
       "kBDaFCJoWQ3XUHUzt0RK7YXszhL0s12AixAjQiXhyhKdg46UESx2Rgg2ZXsw+Mdqy7zUvAiWwrvD\n",
       "regsTLDvx9utEBiutqwoI4huJYVZgJ69Ahij325vzBMGrdJa542UgAnbpYStOm+NuOqur1ntIm/U\n",
       "BOHWoGvKM06E619J0Mu2gtF+e8u/SHSlisDrht6H6BVin2K9JmZFRYApPHNe+sZR612Sx37nh0we\n",
       "YdN6p38BcwCiSUNpYxcAAAAASUVORK5CYII=\n",
       "\" style=\"display:inline;vertical-align:middle;\" /></a> <a class=\"ProveItLink\" href=\"proof.ipynb\" style=\"text-decoration: none\">&#x22A2;&nbsp;</a><a class=\"ProveItLink\" href=\"../923805f01821a06014dd29c5f79c5e4c92605ad50/expr.ipynb\"><img src=\"data:image/png;base64,iVBORw0KGgoAAAANSUhEUgAAADYAAAAPBAMAAABdHiGLAAAAMFBMVEX///92dnYQEBBERERUVFS6\n",
       "urqIiIhmZmaqqqrc3Nzu7u6YmJgyMjIiIiLMzMwAAACFkkdwAAAAAXRSTlMAQObYZgAAANJJREFU\n",
       "GNNjYACBtwwogPG8zR9dCyjnPKocAzNrwpqFAmAm9/0FGHJsAQfAzBn1EyBiy87evQOV49jgBRZK\n",
       "yA8A03ynFyD0RRqAWKwL+jeAhSYvQJj5djOYs5ThfQJYyBJh393/amBWAMP8AhDNZYDslgwQj8/F\n",
       "xR9itu7du3C3MBgEgoQYGJjA7uVzQNLHYMAMZDQwMPAqgM28gC7HCZTj+QAW8kaRA5q5BsT+BRZa\n",
       "G4CQ4y4zYJisf5KB2/4P2KGcxx/AwvrzJQ+0MObwgbgTAgCMvTlc/0QYTQAAAABJRU5ErkJggg==\n",
       "\" style=\"display:inline;vertical-align:middle;\" /></a></span></td></tr>\n",
       "<tr><td>&nbsp;</td><td colspan=4 style=\"text-align:left\"><span style=\"font-size:20px;\"><a class=\"ProveItLink\" href=\"../../../../__pv_it/2cbe72a7ad6f655694dd697106680215e8489b600/expr.ipynb\"><img src=\"data:image/png;base64,iVBORw0KGgoAAAANSUhEUgAAAA8AAAAOBAMAAAACpFvcAAAALVBMVEX///8QEBBERERUVFS6urqI\n",
       "iIhmZmaqqqrc3Nzu7u6YmJgyMjIiIiLMzMwAAADtIaYWAAAAAXRSTlMAQObYZgAAAFtJREFUCNdj\n",
       "YACBOwxQsA9Kc52bAGG05zVAGAFxDmCaZULdAjBjCsO9ADDDgaEvAUTzGhvbKYCVMDAwbgAxChgY\n",
       "eASANAeQwf0AyJgNxEwvGRia5HYwcOm9TgAA6BoR3jrzwFcAAAAASUVORK5CYII=\n",
       "\" style=\"display:inline;vertical-align:middle;\" /></a> : <a class=\"ProveItLink\" href=\"../../../../__pv_it/2cbe72a7ad6f655694dd697106680215e8489b600/expr.ipynb\"><img src=\"data:image/png;base64,iVBORw0KGgoAAAANSUhEUgAAAA8AAAAOBAMAAAACpFvcAAAALVBMVEX///8QEBBERERUVFS6urqI\n",
       "iIhmZmaqqqrc3Nzu7u6YmJgyMjIiIiLMzMwAAADtIaYWAAAAAXRSTlMAQObYZgAAAFtJREFUCNdj\n",
       "YACBOwxQsA9Kc52bAGG05zVAGAFxDmCaZULdAjBjCsO9ADDDgaEvAUTzGhvbKYCVMDAwbgAxChgY\n",
       "eASANAeQwf0AyJgNxEwvGRia5HYwcOm9TgAA6BoR3jrzwFcAAAAASUVORK5CYII=\n",
       "\" style=\"display:inline;vertical-align:middle;\" /></a></span></td></tr><tr><td>1</td><td>theorem</td><td></td><td><span style=\"font-size:20px;\"> <a class=\"ProveItLink\" href=\"../../_proofs_/foldInBool.ipynb\" style=\"text-decoration: none\">&#x22A2;&nbsp;</a><a class=\"ProveItLink\" href=\"../768c25286834e2d519e3c28d5b79fe169910e93c0/expr.ipynb\"><img src=\"data:image/png;base64,iVBORw0KGgoAAAANSUhEUgAAAO0AAAAXBAMAAAAVatXDAAAAMFBMVEX///8QEBC6urrMzMxUVFRm\n",
       "ZmZERETc3NwyMjKqqqp2dnaIiIiYmJgiIiLu7u4AAAAU9Wx4AAAAAXRSTlMAQObYZgAAAr9JREFU\n",
       "SMfFVj1oFEEUfne7t/eze5tgJxLcIqiIwhYWNiGHBlQQk0YFRVybPQUhWxwJCsFrJILRWGil4CGI\n",
       "iCKLVlY5LAS1iUVAxMONqAQlGCyOFKK+mdndmfvZOZETH9zOzPfNzPfmzZuZA/hPFvyTWdO+jH2G\n",
       "v0VSedVv3V2sGGlFC/On14fOAGRsgPsEuNpv3XDC+TZYS/srX2oAVYApbGadPsvqLMzG+6BDV7dQ\n",
       "9CVADqnMtT7rppjeuZMea3+90ngT6ubrhwCW0ad709Mz/Q7zNlb4CxYtlbmAr3crBlfDhTZd923n\n",
       "yKzdZbr8n9LHWFIHt+u0MhXwOI88x0ZhAmAvQJmCs6wz63FegGJTalGtBz1Hvx9glO1zme9v49cm\n",
       "4iHu8TCYVZoE3xnFejgChHbEPeW6NbgTtdvocFhMb6BfCy5MkNJ0xLx6iq30IEARdBqNTz8E3bwv\n",
       "QBxfAZ1kazIdGnVIGRsbp4rpoUYjzitwtiO1hrPUizT8j5YEXc0TII6rto4ZUUmmRV3csRSNpFIS\n",
       "1guOxnTNKr1cFN8VdFMixHE8l7iCfRKa2UbyQQ+LgzTOi+26JM5Q3kN9hROC7u4IUi+hXY7wdAke\n",
       "Q7YkoZmdJSmPurk12jzYootxNkgcblB3XsCCoDssQhxXqvAZVE9CM7sbbrb2kzZXLa5rHHfYOYIU\n",
       "iY65dHgy4LrXRahl4oJVkdHMduKZ3TwLxuQ6TejsRTt6F5qvD2AlRxwxyOiMB6M2190SQVprIB08\n",
       "FEdldHhPem03yn6Wz5Etx7UdAAN1rrsqQnxBBt4MD0tSGloqCfYgqnxsQnb8HdfFo8UhPnEG4/PN\n",
       "7qTDayVjtb2DCWZWOzGmq3d/oXJks+Q0s4pUV/WSdM3uL/LNyGE5jc5J/+c8gSRduNV1QHzx9KD/\n",
       "wtQwM7o9dIX43PSge9tvpYXIP1vpZ/sAAAAASUVORK5CYII=\n",
       "\" style=\"display:inline;vertical-align:middle;\" /></a></span></td></tr>\n",
       "<tr><td>&nbsp;</td><td colspan=4 style-\"text-align:left\"><a class=\"ProveItLink\" href=\"../../_proofs_/foldInBool.ipynb\">proveit.logic.boolean.foldInBool</a></td></tr><tr><td>2</td><td>assumption</td><td></td><td><span style=\"font-size:20px;\"><a class=\"ProveItLink\" href=\"../f196426e43f670b102d5a3a298566accd29fd1e70/expr.ipynb\"><img src=\"data:image/png;base64,iVBORw0KGgoAAAANSUhEUgAAAMEAAAAVBAMAAAANw5eWAAAAMFBMVEX////c3NxERESqqqpUVFS6\n",
       "urrMzMwyMjIQEBCIiIh2dnYiIiLu7u5mZmaYmJgAAABXZE4RAAAAAXRSTlMAQObYZgAAAgtJREFU\n",
       "SMe1VT1IAzEUftbr37U9igqOFhwcBHVzKip0t5sFlxs6iH9tQeniT0F0cbCTq4KLCoq4aQe7iB0L\n",
       "ggUFdRHBxS7i4mDey13t5ZrL5IN+SZN8fJeX7yUAYDzDP0XgNI5N9BrRX/Ze/CYOqAhGGiW2sBtu\n",
       "Imb5+IK48KmCcQkxU5iQEVh0kfgDQgNBLyGu8cnNDoQlwjx9OHVNBSFQRwwiHLcUwnzPxk1VpvCB\n",
       "oJn2Wi8CVzAOHQohvrD3JS5TqBE3wSBSVRC4QrTkUJjhc+WDtEzBN4ZYYL8kKAhcAQYdCo/cH9WJ\n",
       "V5mCTrSkpeJJsBTObIUYnuEGjd1CjtLbKGKsOBS66ahZhihTAiFGhOKkQ2Gc/T6xM4f73KaxNAzU\n",
       "ZXvwk+XYAWuUFy+CpZBBQ7Fudgf/fdFMKjWdkCkEqGzgAu5ARbAUcghDLIsZ0yYwt4fyCoV7OP9T\n",
       "kBDaFCJoWQ3XUHUzt0RK7YXszhL0s12AixAjQiXhyhKdg46UESx2Rgg2ZXsw+Mdqy7zUvAiWwrvD\n",
       "regsTLDvx9utEBiutqwoI4huJYVZgJ69Ahij325vzBMGrdJa542UgAnbpYStOm+NuOqur1ntIm/U\n",
       "BOHWoGvKM06E619J0Mu2gtF+e8u/SHSlisDrht6H6BVin2K9JmZFRYApPHNe+sZR612Sx37nh0we\n",
       "YdN6p38BcwCiSUNpYxcAAAAASUVORK5CYII=\n",
       "\" style=\"display:inline;vertical-align:middle;\" /></a> <a class=\"ProveItLink\" href=\"../0e63c2cddcbffa5bbe3d4c6047d483f5703ad2b60/proof.ipynb\" style=\"text-decoration: none\">&#x22A2;&nbsp;</a><a class=\"ProveItLink\" href=\"../90fc205bf09704b1ac7487d0b0912b502ed1410b0/expr.ipynb\"><img src=\"data:image/png;base64,iVBORw0KGgoAAAANSUhEUgAAAKoAAAAVBAMAAAAkxGgRAAAAMFBMVEX////c3NwiIiJERESqqqqY\n",
       "mJh2dnZmZmYQEBDu7u4yMjJUVFTMzMyIiIi6uroAAAAs73DqAAAAAXRSTlMAQObYZgAAAbZJREFU\n",
       "OMu1VL9LQ0EMjq2vrX1tKeikg1L/AIvorFvBRScHB3ERJ6GIOIhgEWftWBykHUSs4I+5g0VQEYf2\n",
       "DxAsTuLUVQcxlxxPe23ucDBwyb13+b67S3IB+B9JNe3ry38FeC1UTzy/NRc3MkrGIVo3FiQASh9t\n",
       "uIPjjH9c9nB6IF2mA9KUNrAAEnml4wBJvo83UZRYF5XyFSH52gDM6q1AjBeHdtMSa4n8s6hCytcG\n",
       "YNaBArzzd/OlJbGGZ5Wu4MipiQ3ArDAFW5zX4vyCxBoh15xmtgI06xqckD2GBoVru6rkvIO1n9KF\n",
       "t6coGIAoAapXHaxzcEC2BaN56aypAnCSfLqzDaBZ3+CLvmq1m6zEmmiTGYMjsjaAZm2wE1ZjrOxg\n",
       "3YTVH1YBELDuK4NZDhV+P6juCMAwnlZJJyBKgEzWiMC0emjoFG9LZ/X4UP4dl78NoFmXsAqAAhb+\n",
       "sFcWJCaLumxkQFBZrwCDhxXwZj67c3pPOq7L/ZSNCFDB2KNgXEAs7WqVJW0f2bgB+GKxFThk3Wif\n",
       "TkCkGTQ2eWezglwAivqIw8c3b+wCwHXQv2V57t3wZUnW4Rt79IRJOuqnygAAAABJRU5ErkJggg==\n",
       "\" style=\"display:inline;vertical-align:middle;\" /></a></span></td></tr>\n",
       "</table>"
      ],
      "text/plain": [
       "<proveit._core_.proof._ShowProof at 0x7f94ebc12f98>"
      ]
     },
     "execution_count": 1,
     "metadata": {},
     "output_type": "execute_result"
    }
   ],
   "source": [
    "import proveit\n",
    "%show_proof"
   ]
  },
  {
   "cell_type": "code",
   "execution_count": null,
   "metadata": {},
   "outputs": [],
   "source": []
  }
 ],
 "metadata": {
  "kernelspec": {
   "display_name": "Python 3",
   "language": "python",
   "name": "python3"
  }
 },
 "nbformat": 4,
 "nbformat_minor": 0
}
