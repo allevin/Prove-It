{
 "cells": [
  {
   "cell_type": "markdown",
   "metadata": {},
   "source": [
    "Show the Proof\n",
    "========"
   ]
  },
  {
   "cell_type": "code",
   "execution_count": 1,
   "metadata": {},
   "outputs": [
    {
     "data": {
      "text/html": [
       "<table><tr><th>&nbsp;</th><th>step type</th><th>requirements</th><th>statement</th></tr>\n",
       "<tr><td>0</td><td>specialization</td><td>1, 2, 3</td><td><span style=\"font-size:20px;\"> <a class=\"ProveItLink\" href=\"proof.ipynb\" style=\"text-decoration: none\">&#x22A2;&nbsp;</a><a class=\"ProveItLink\" href=\"../782f5f4410ff344eebb0d6e4c59da1b4a496aed00/expr.ipynb\"><img src=\"data:image/png;base64,iVBORw0KGgoAAAANSUhEUgAAAHAAAAAVBAMAAABs93eRAAAAMFBMVEX////c3NwiIiJERESqqqqY\n",
       "mJh2dnZmZmYQEBDu7u4yMjJUVFTMzMyIiIi6uroAAAAs73DqAAAAAXRSTlMAQObYZgAAAQJJREFU\n",
       "OMtjYCAb8F3AL8/6AIfEaQZ2JTAwQBWHi9ZgaJEFkytBBE8BNjMholxgNtheHoj4cRDBe4GQRtYE\n",
       "ELkHRNxF0sgxgZBGzgYQeRhEaCJpfMVASCODCdjBAgwMLAVIGssIa0wHESBNIM1wjUtRNLKvAoMN\n",
       "KBq9GKDOPMyApLGPsI0vGKABsw9Z4z/CGs+DSSYGzgVkaWR3YAtA1tiC6keURITiVMYFTAzIGk0J\n",
       "2xgF4e2JRdGYTmR0AMNUE0XjI4iSBKwaIaLrIDwuiDFFSkoaSkrKDBwChPIdJMkBjZmAmt0SCGlk\n",
       "w5FhVxLSOAuHuDQhjRtxiDMSKDp4D2AVBgDJakMB1AuzPAAAAABJRU5ErkJggg==\n",
       "\" style=\"display:inline;vertical-align:middle;\" /></a></span></td></tr>\n",
       "<tr><td>&nbsp;</td><td colspan=4 style=\"text-align:left\"><span style=\"font-size:20px;\"><a class=\"ProveItLink\" href=\"../fd4b0a418766985890fb332a124e981d1643d8330/expr.ipynb\"><img src=\"data:image/png;base64,iVBORw0KGgoAAAANSUhEUgAAAEkAAAAVBAMAAAD4Ed5jAAAAMFBMVEX////u7u5mZmaYmJi6urqq\n",
       "qqp2dnbMzMwQEBBEREQyMjLc3NwiIiJUVFSIiIgAAAAeC3ydAAAAAXRSTlMAQObYZgAAAR1JREFU\n",
       "KM9jYCAZsDzAJmoCJt/+v3v37AYQqxarXqYCMPWLgYGzG8RYiN2KBSCC/RsDAysQM/A9wK7KDETw\n",
       "fWFgYP4EZHAIYFclASI4PzAw8H4FMrxweIozAEjwA+2VnwBkqCEktr3d+ghuP5sCkKhPYGA/BOIt\n",
       "hitiTGA+zHEAxmMFOf/9tTQ1cEC0wFWxMfB9YC2AB2MDkJgPc/QXhFkMvBMQ1rMDHc7whwFDFdC/\n",
       "D1BVsX+C8VqRVO0vYBBAtpEPbsRkuBrmDe8Z+OCqmIGu5/wI4yXBVcUbzGDYx4AUEkLz/8Kc4AP0\n",
       "9EwgmMgg+UwszwDGYeByQA5jjg14YgjhmgTsqvJQudhTDuMCVP5erKp40RzCjTWBPWdgAADdXkSh\n",
       "Sa6TGQAAAABJRU5ErkJggg==\n",
       "\" style=\"display:inline;vertical-align:middle;\" /></a> : <a class=\"ProveItLink\" href=\"../d113ec9cccd6426ec83c48ebbe647aa1eb8da2500/expr.ipynb\"><img src=\"data:image/png;base64,iVBORw0KGgoAAAANSUhEUgAAAE0AAAAPBAMAAABTt1/kAAAAMFBMVEX///8yMjK6urrMzMwQEBAi\n",
       "IiKYmJhmZmZUVFSIiIh2dnbc3Nzu7u5ERESqqqoAAACmCtjVAAAAAXRSTlMAQObYZgAAAK9JREFU\n",
       "KM9jYCAIuCfglmMCkwZgkrkAtzoOkBLOCQTVMV8AEqwHCKpjkAbi5wyY6rhXdr+sROI/h6pFV3eK\n",
       "ITXBFYkPtBNsN7q6BQzzGR4j8YF+4FDAou4AQy+qAwMYDjIwYPOHJ6q6OoZlWNVxf2bgQeZvBJqI\n",
       "RV025weGOSghbTYBizq+b7wOqPHIfPUAirq3d4HgAM/NNaumwTgQaXEwyR4aGuoaGnoBd4zYoPAA\n",
       "3tcv4gERPfEAAAAASUVORK5CYII=\n",
       "\" style=\"display:inline;vertical-align:middle;\" /></a>, <a class=\"ProveItLink\" href=\"../../../../__pv_it/530be409e3083890784cf1d7b28c9e67e90af9360/expr.ipynb\"><img src=\"data:image/png;base64,iVBORw0KGgoAAAANSUhEUgAAAAsAAAAJBAMAAAAWSsseAAAAKlBMVEX///9ERETMzMwQEBAiIiKY\n",
       "mJju7u5mZmaqqqpUVFSIiIh2dnbc3NwAAAA/vyDhAAAAAXRSTlMAQObYZgAAAENJREFUCNdjYDi9\n",
       "8sTyBQxsG1hdmR0YuBm4LnAoMLAxcAowgADzAjB1VoEhgYH1wFoGrgSG3gBhhlMMDImrs3cFMAAA\n",
       "t0YN+iTRa+sAAAAASUVORK5CYII=\n",
       "\" style=\"display:inline;vertical-align:middle;\" /></a> : <a class=\"ProveItLink\" href=\"../b61faf68579dfd168a6d68fc65de147af91ada740/expr.ipynb\"><img src=\"data:image/png;base64,iVBORw0KGgoAAAANSUhEUgAAADoAAAAOBAMAAACMfhKgAAAAG1BMVEX///9UVFQyMjJ2dnbMzMxE\n",
       "REQiIiJmZmYAAABH86hhAAAAAXRSTlMAQObYZgAAACxJREFUGNNjKEsDgVQGVIAk6s6ADbij0QMl\n",
       "W6QEAop0txc12KhhsjNWWZAoAMYCEPeA4IdqAAAAAElFTkSuQmCC\n",
       "\" style=\"display:inline;vertical-align:middle;\" /></a></span></td></tr><tr><td>1</td><td>theorem</td><td></td><td><span style=\"font-size:20px;\"> <a class=\"ProveItLink\" href=\"../../../equality/_proofs_/substituteTruth.ipynb\" style=\"text-decoration: none\">&#x22A2;&nbsp;</a><a class=\"ProveItLink\" href=\"../9bdc5b840ab58180416de24b39e9a69a9440cc6d0/expr.ipynb\"><img src=\"data:image/png;base64,iVBORw0KGgoAAAANSUhEUgAAAKIAAAAXBAMAAAB624nuAAAAMFBMVEX///8QEBC6urrMzMxUVFRm\n",
       "ZmZERETc3NwyMjKqqqp2dnaIiIiYmJgiIiLu7u4AAAAU9Wx4AAAAAXRSTlMAQObYZgAAAnVJREFU\n",
       "OMutlE9o03AUx781Wf8kaVY8KLtVGCKIWEFQvGy4ouJJ1F2Gh3qwxT/QgMOhIhYvXkS9TAQP5jKs\n",
       "FUcP9eA8LOJFFLEHRZAhvTjEy4padUOn75fkl77GgRr2IHkvLy+f3+/9+QVYdWmtCmVN3dNGFmgK\n",
       "43k0TuNXPv/KEtZ26ToE3BX6asStfQfi63sASeAMqUQhGlBZAlJ0Qa9Ll2EjSYXsux6NqH8iRIeM\n",
       "WNANMwPjzsTEhYhJx9uAukjGpq7vOPC1WHz7ly9P+zqcSn8FWBAVG6PrXOPsA0p+ChgBSlSO8ujh\n",
       "EpsGT93ojO6xkLB9764QcciG8loYVyhd25iL0eDcBAZh0lJ4DNxn+fh1zkBr0kNfsbiueAJatpc4\n",
       "u7825g7PWkCD3k7lgA1AGrpDzjzwshUmqsMwlnFLmCI5d2kmZfkBdciE6k7MEDXMSYsXc8C+P/aY\n",
       "dqBWUJJEUSEuP9ElUsPrPtGsiIE3P8N4Q3tvbB5hxIUcXljIBMRH4iZjoHQkcUDcLubEkaasUdot\n",
       "WrFUO0JqWi0MMOLW2pQDpRIQB8Fi3HH05BSV3JqFTsSn9DgpjrbmlSibdHjWVbfvwwFxJ49BfFkS\n",
       "aWRuO0dx3jO9/OMH/BGzOPGYuKVCRBnzvvxFHr4twPzMx3tipUtiRERj+v3p3YYcIy66eywExI08\n",
       "hknMYqdQDiv5EpeVdhV2l6h8c4OaAfEZj2FiBA5Nblu7Rj825Yd5cnKm1SVWO+5m3gXEgzyGS/A3\n",
       "+xBaKjyPnjwMrAqP4TIujb29/h0rE+elkarzGC4JP1k9VGFnZWJK+tWemP8Ttefpia+n/+XT39vX\n",
       "l85p8q+GAAAAAElFTkSuQmCC\n",
       "\" style=\"display:inline;vertical-align:middle;\" /></a></span></td></tr>\n",
       "<tr><td>&nbsp;</td><td colspan=4 style-\"text-align:left\"><a class=\"ProveItLink\" href=\"../../../equality/_proofs_/substituteTruth.ipynb\">proveit.logic.equality.substituteTruth</a></td></tr><tr><td>2</td><td>theorem</td><td></td><td><span style=\"font-size:20px;\"> <a class=\"ProveItLink\" href=\"../../disjunction/_proofs_/trueOrFalse.ipynb\" style=\"text-decoration: none\">&#x22A2;&nbsp;</a><a class=\"ProveItLink\" href=\"../2831af28a53615812ea6de051009a9b9853e471f0/expr.ipynb\"><img src=\"data:image/png;base64,iVBORw0KGgoAAAANSUhEUgAAADUAAAAPBAMAAAC2KZqIAAAAMFBMVEX///8QEBCYmJiqqqrc3Nwy\n",
       "MjLu7u6IiIhUVFS6urp2dnbMzMxEREQiIiJmZmYAAADfOGkeAAAAAXRSTlMAQObYZgAAAHhJREFU\n",
       "GNNjeHsXBO4woAKWAihjH4TiBJMbwCT3A1Q5DpAwewFWOe4DQII3AascQwgQ2zFgl7ODymOTA5oH\n",
       "NhebHNAdHBNwyDFcYEhlwCX3mGERTjlXoE5cchybCnDKcZ9NQJfbBQ/iODDJBwx82bt3D6AG/zYU\n",
       "HgBsMC5BQDKFNgAAAABJRU5ErkJggg==\n",
       "\" style=\"display:inline;vertical-align:middle;\" /></a></span></td></tr>\n",
       "<tr><td>&nbsp;</td><td colspan=4 style-\"text-align:left\"><a class=\"ProveItLink\" href=\"../../disjunction/_proofs_/trueOrFalse.ipynb\">proveit.logic.boolean.disjunction.trueOrFalse</a></td></tr><tr><td>3</td><td>theorem</td><td></td><td><span style=\"font-size:20px;\"> <a class=\"ProveItLink\" href=\"../../_proofs_/trueEqTrue.ipynb\" style=\"text-decoration: none\">&#x22A2;&nbsp;</a><a class=\"ProveItLink\" href=\"../b61faf68579dfd168a6d68fc65de147af91ada740/expr.ipynb\"><img src=\"data:image/png;base64,iVBORw0KGgoAAAANSUhEUgAAADoAAAAOBAMAAACMfhKgAAAAG1BMVEX///9UVFQyMjJ2dnbMzMxE\n",
       "REQiIiJmZmYAAABH86hhAAAAAXRSTlMAQObYZgAAACxJREFUGNNjKEsDgVQGVIAk6s6ADbij0QMl\n",
       "W6QEAop0txc12KhhsjNWWZAoAMYCEPeA4IdqAAAAAElFTkSuQmCC\n",
       "\" style=\"display:inline;vertical-align:middle;\" /></a></span></td></tr>\n",
       "<tr><td>&nbsp;</td><td colspan=4 style-\"text-align:left\"><a class=\"ProveItLink\" href=\"../../_proofs_/trueEqTrue.ipynb\">proveit.logic.boolean.trueEqTrue</a></td></tr></table>"
      ],
      "text/plain": [
       "<proveit._core_.proof._ShowProof at 0x7f94eb4cb898>"
      ]
     },
     "execution_count": 1,
     "metadata": {},
     "output_type": "execute_result"
    }
   ],
   "source": [
    "import proveit\n",
    "%show_proof"
   ]
  },
  {
   "cell_type": "code",
   "execution_count": null,
   "metadata": {},
   "outputs": [],
   "source": []
  }
 ],
 "metadata": {
  "kernelspec": {
   "display_name": "Python 3",
   "language": "python",
   "name": "python3"
  }
 },
 "nbformat": 4,
 "nbformat_minor": 0
}
