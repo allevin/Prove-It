{
 "cells": [
  {
   "cell_type": "markdown",
   "metadata": {},
   "source": [
    "Theorem Dependencies\n",
    "=======================\n",
    "\n",
    "## <a class=\"ProveItLink\" href=\"../../_context_.ipynb\">proveit.logic.boolean</a>.<a class=\"ProveItLink\" href=\"../../_theorems_.ipynb#inBoolDef\">inBoolDef</a> \n",
    "***see <a class=\"ProveItLink\" href=\"../../_proofs_/inBoolDef.ipynb\">proof</a>***"
   ]
  },
  {
   "cell_type": "code",
   "execution_count": 1,
   "metadata": {},
   "outputs": [],
   "source": [
    "from proveit.logic.boolean._theorems_ import inBoolDef"
   ]
  },
  {
   "cell_type": "code",
   "execution_count": 2,
   "metadata": {},
   "outputs": [
    {
     "data": {
      "text/html": [
       "<h3>Unproven theorems required (directly or indirectly) to prove inBoolDef</h3>"
      ],
      "text/plain": [
       "<IPython.core.display.HTML object>"
      ]
     },
     "metadata": {},
     "output_type": "display_data"
    },
    {
     "data": {
      "text/html": [
       "<dl>"
      ],
      "text/plain": [
       "<IPython.core.display.HTML object>"
      ]
     },
     "metadata": {},
     "output_type": "display_data"
    },
    {
     "data": {
      "text/html": [
       "<dt><a class=\"ProveItLink\" href=\"../../../../number/numeral/deci/_proofs_/add_1_1.ipynb\">proveit.number.numeral.deci.add_1_1</a></dt><dd><a class=\"ProveItLink\" href=\"../../../../number/numeral/deci/__pv_it/10ea9a44c639fcc49e957d670ca706739b30851d0/expr.ipynb\"><img src=\"data:image/png;base64,iVBORw0KGgoAAAANSUhEUgAAAGEAAAAVBAMAAACkm51HAAAAMFBMVEX////c3NwiIiJERESqqqqY\n",
       "mJh2dnZmZmYQEBDu7u4yMjJUVFTMzMyIiIi6uroAAAAs73DqAAAAAXRSTlMAQObYZgAAASJJREFU\n",
       "OMtjYCAd8F3AIRGHS8dpIGaegC5qycDAfgBdkLF88QMgtZKBgdMeXcfkn0BiAboOaQbeLwwMvBcY\n",
       "OHfvh+mYCKFm7wbpCEPXsZOBQZ+BgQOk+D5Mhy+U5gXpmIGuo2MCw/4HDK8YcOpgdkDTsX4CQ/0D\n",
       "hjLcOtgKMMNJfwLDUtw6WMBeZ18FBhvA4jzfGBj6cOvga8CwgsuAgeEfbh08HzB0FDOg6KhatUpj\n",
       "1arVeHTwgtzWQshV7EpgYABiuzMwCjCY4tbBih7pPAUMrAIM6SSErlBaWhEDwyMgq7x/eQCKDvaK\n",
       "X6XAgHmAHhn//38CphIBZDFfZM4M7ImdNQGZ9xaZk4sjf6zElXE4F+CQkMalg1sAhwQjrlx7B7sw\n",
       "AEBiXJeAxxXvAAAAAElFTkSuQmCC\n",
       "\" style=\"display:inline;vertical-align:middle;\" /></a></dd>"
      ],
      "text/plain": [
       "<IPython.core.display.HTML object>"
      ]
     },
     "metadata": {},
     "output_type": "display_data"
    },
    {
     "data": {
      "text/html": [
       "<dt><a class=\"ProveItLink\" href=\"../../../../number/numeral/deci/_proofs_/nat2.ipynb\">proveit.number.numeral.deci.nat2</a></dt><dd><a class=\"ProveItLink\" href=\"../../../../number/numeral/deci/__pv_it/7c3551d04e9dac6e67c114d0247d27a803d94be00/expr.ipynb\"><img src=\"data:image/png;base64,iVBORw0KGgoAAAANSUhEUgAAADIAAAAPBAMAAABU9YHxAAAAMFBMVEX///+YmJh2dnbMzMwQEBAi\n",
       "IiLu7u6qqqqIiIhUVFS6urpEREQyMjJmZmbc3NwAAACOMKdoAAAAAXRSTlMAQObYZgAAAN1JREFU\n",
       "GNNj4Lt7egEDMmA7v/sYA298OMNLBo7vKDIM3ALWDAz8DAzTGBjiUWU4gzkaGFgYGFwSGOaDjWPr\n",
       "CQ09AJZZkzAZJHM+geE+WMZGDKbHeEJOAguYGZ8AJPi2wU0zqGDeAJZh/gS29wFChneBBFiGZwOI\n",
       "zEa4wIBhGqcJiHUbzF8SGgpzgQFDJtsRIINjAljGElkPswJITy0DH8iKVGQZBnFuoP0XGBhBMpwC\n",
       "yDJMrxkYniopXQV7NAoeOiDv3QF65v//r2CBN5chElznvYFkDnJ4VR6FuA0KAHkWNBgmUR4YAAAA\n",
       "AElFTkSuQmCC\n",
       "\" style=\"display:inline;vertical-align:middle;\" /></a></dd>"
      ],
      "text/plain": [
       "<IPython.core.display.HTML object>"
      ]
     },
     "metadata": {},
     "output_type": "display_data"
    },
    {
     "data": {
      "text/html": [
       "</dl>"
      ],
      "text/plain": [
       "<IPython.core.display.HTML object>"
      ]
     },
     "metadata": {},
     "output_type": "display_data"
    },
    {
     "data": {
      "text/html": [
       "<h3>Axioms required (directly or indirectly) to prove inBoolDef</h3>"
      ],
      "text/plain": [
       "<IPython.core.display.HTML object>"
      ]
     },
     "metadata": {},
     "output_type": "display_data"
    },
    {
     "data": {
      "text/html": [
       "<dl>"
      ],
      "text/plain": [
       "<IPython.core.display.HTML object>"
      ]
     },
     "metadata": {},
     "output_type": "display_data"
    },
    {
     "data": {
      "text/html": [
       "<dt><a class=\"ProveItLink\" href=\"../../_axioms_.ipynb#boolsDef\">proveit.logic.boolean.boolsDef</a></dt><dd><a class=\"ProveItLink\" href=\"../c0a9a9ba48c75637a24f44e2198ce7c84ad8105e0/expr.ipynb\"><img src=\"data:image/png;base64,iVBORw0KGgoAAAANSUhEUgAAAGYAAAAVBAMAAABGR4Y+AAAAMFBMVEX///9mZmbMzMzc3NxUVFSY\n",
       "mJju7u6IiIi6urqqqqoiIiIQEBBEREQyMjJ2dnYAAAAQvcRZAAAAAXRSTlMAQObYZgAAAPFJREFU\n",
       "OMtjYMAOWEWxi+s9ZsAF2NbhktGewMDw9s/922smoMuwf2BgYFwFBgdgYuZgkvECkDjQznbtHboe\n",
       "vg1gikkASUwRIXOgnaGCl3Q9U1kSSLfHhmR7mJYeI1VP1/rfBSCe7F0QuIIIHax6WD9A3FY+ByMW\n",
       "GnDpYbgI0cPD8QBVi8omBpx6eK5C9DAcQLOnWwGnnnUMSHqkwNG+BizBQtA/GG5j4FuApCcBW/wE\n",
       "1uALa7Zf6HqAafTUlgm49IDsZ9tvAHb4arDDoTJYAIoMhwEuGdx6WBmI0sOKUw80hWDLp8uROAVY\n",
       "UghWi17iLg8AeW5exuSYeDQAAAAASUVORK5CYII=\n",
       "\" style=\"display:inline;vertical-align:middle;\" /></a></dd>"
      ],
      "text/plain": [
       "<IPython.core.display.HTML object>"
      ]
     },
     "metadata": {},
     "output_type": "display_data"
    },
    {
     "data": {
      "text/html": [
       "<dt><a class=\"ProveItLink\" href=\"../../_axioms_.ipynb#eqTrueElim\">proveit.logic.boolean.eqTrueElim</a></dt><dd><a class=\"ProveItLink\" href=\"../3e7bd867633eab3d515d0929d36506bc9b5772e10/expr.ipynb\"><img src=\"data:image/png;base64,iVBORw0KGgoAAAANSUhEUgAAAGgAAAAWBAMAAADeGsQjAAAAMFBMVEX///8QEBC6urrMzMxUVFRm\n",
       "ZmZERETc3NwyMjKqqqp2dnaIiIiYmJgiIiLu7u4AAAAU9Wx4AAAAAXRSTlMAQObYZgAAAUpJREFU\n",
       "OMtjeMBABrgAIk6ToIEZqGMliNFHgiaODwwMZUCaPYEETWf/ATUCPcU6gXg97FO/MzDwLC8vryXB\n",
       "Im7uT0DyW1raLRI06XH+AZLODAzpYG47mGSCe7gAmx4+BebfQEqFga8BxOX5BBZlg0mfV4AyWNPS\n",
       "xNKyoBwmBvavQIqXgfsAiPv0D4omvvgDCPMRoWvi4vIN5LMDvOBUse4qiiautwHYNAGtlwAZ2WAC\n",
       "jugNaSiarNkSsGjiBOKLIEa6E4hkYYhF0eTAeoHBowMINiBrqgTifhBjKjj5nWTYj6yJZwL3B0yb\n",
       "wEGWD/INI8gsvquhYA5M09vQsH8YmtgTfxQwHPvfCjIUpJi1gMHeAElTOAPzZ4YMDOehAh0GBv4D\n",
       "CE1MQPYfbKGHDJ58Y2D3vwPXxOefwFDy9wABTQjARk5Opp8mFiLUAADNR1FAr8G4iQAAAABJRU5E\n",
       "rkJggg==\n",
       "\" style=\"display:inline;vertical-align:middle;\" /></a></dd>"
      ],
      "text/plain": [
       "<IPython.core.display.HTML object>"
      ]
     },
     "metadata": {},
     "output_type": "display_data"
    },
    {
     "data": {
      "text/html": [
       "<dt><a class=\"ProveItLink\" href=\"../../_axioms_.ipynb#eqTrueIntro\">proveit.logic.boolean.eqTrueIntro</a></dt><dd><a class=\"ProveItLink\" href=\"../d0cb838f1f1e44deadf0499da151f8dae5a0de4f0/expr.ipynb\"><img src=\"data:image/png;base64,iVBORw0KGgoAAAANSUhEUgAAAIwAAAAXBAMAAAArT7qNAAAAMFBMVEX///8QEBC6urrMzMxUVFRm\n",
       "ZmZERETc3NwyMjKqqqp2dnaIiIiYmJgiIiLu7u4AAAAU9Wx4AAAAAXRSTlMAQObYZgAAAaxJREFU\n",
       "OMtjYKAOeEBYCdMG/PI8CgwMF0CM03iVmUAoW3Rx1rtgkMAQzMCwEiTQh9cYqGw/FinmABDJwcBQ\n",
       "BqTYE/CZwg3xE8/9B7iM4VnAwAGUZJ2AzxhGiPbK+AJcxvAJMPAsLy+vxesnDQi1Yb8CLmMYMhkY\n",
       "vqWl3cJrTBQkuh7MP4DTmKUMDM4MDOlgdjtEOUxFO4zRAyYfMdiDw4i1AwwcUIyZwcCgwsDXAA6n\n",
       "T2ARNlhi+AQzRghMKjDUB+B0jSIDAy8DN9i1T/+gGAPlAgHYPGYXF/8EnMbYA+PzAC84KtZdRTEG\n",
       "yoUZA/QrYwM+Y/gawKmUeUMasjEwLhBIgghgkuAVQEm6aJ5iSHcCsVgYYpGNgXGBIAeUQIHGcHzA\n",
       "6ZoTQDwVnK1OMuxHNgbGhcQmwwuQzD98Ec7ACIpIvquh+Q8QxsC5QKALzDHy7Qw8+T8wo4p5AZhq\n",
       "AkUtSD1rAYO9AcIYOBdkTQGhkoRPAMbSYWDgP4AwBs6FZDwCgAtWID35xsDufwduDIJLuBiBhhwa\n",
       "YMMUKiFkjDtRxrATKES5DYgyhhzAQpYuAAUAaqwIkhhoAAAAAElFTkSuQmCC\n",
       "\" style=\"display:inline;vertical-align:middle;\" /></a></dd>"
      ],
      "text/plain": [
       "<IPython.core.display.HTML object>"
      ]
     },
     "metadata": {},
     "output_type": "display_data"
    },
    {
     "data": {
      "text/html": [
       "<dt><a class=\"ProveItLink\" href=\"../../../equality/_axioms_.ipynb#equalsTransitivity\">proveit.logic.equality.equalsTransitivity</a></dt><dd><a class=\"ProveItLink\" href=\"../../../equality/__pv_it/15953cfebb497c481d8be77ed0e16c42a27f82610/expr.ipynb\"><img src=\"data:image/png;base64,iVBORw0KGgoAAAANSUhEUgAAANEAAAAXBAMAAABnpbd1AAAAMFBMVEX///8QEBC6urrMzMxUVFRm\n",
       "ZmZERETc3NwyMjKqqqp2dnaIiIiYmJgiIiLu7u4AAAAU9Wx4AAAAAXRSTlMAQObYZgAAAoBJREFU\n",
       "SMe9VUtoE1EUPZOZZvLrJLQLFVFScKFUMcVC3UglhQotSFYiFiGrVqyLQcQoogQRKihF0Lqwm8GN\n",
       "n0AIWAO2ooNQBD+QlYggRBeKuokIdtOF976Zya+daOHhgXDe3Jt55913PwP8N1TlbdXv73pBvwov\n",
       "XssQUg/6+7pSwANezMpQCnW6njxwlkjPylBa6uR85Zyk64YMpe2dnJ+A2L1c7qIMoUC+kzdIwfye\n",
       "nPwgQ6nLojQUDs1PtDv6evQSIhlgBJjyO+aGCsIGvuOtvY0fjl5lXOGlfurxESBMEe+A4Rd3cCNK\n",
       "ShKw8Bw32+wGjMN06ATQjagtQyme5DEwuo7nDDdbDaTTXZWlBGxdJwcZV8nID9KqkF6gNg6UobDs\n",
       "gdnzDaXIQv+IN2+yopZdEoPh/Ve3RRRm/RfdFuH4R8Y74bgj5Oj2MJWm3aqj/M8fcXOA7ellq6FU\n",
       "1LJbNE7wNaO0otIbghwLtN3HvAugHLyM1vCsLaSwBY2aiWthrsJVdp2tl/agLNzfmm4vGfLyqH+u\n",
       "RLN1chPudT3VcXg1mKCKbsX+5TeXhZfCFr4VYR7DuNgy2ZynuOm9pVlaqUECp+vpqMCYLj582p6m\n",
       "TOwnHSbEO8Y4M2pCZXMPepn2YahJaQCpoHNXSlJJiYJWPIuaUr1zbPrLNHIwHMlHcM5Eb6BGpI7t\n",
       "ytaV1Np9WF7PpPZCnxHkYvDu7aYh6o+Ct/jyZKKIYRu3ynmiaGCzWVcypucWvTYIj5+AuirIRalv\n",
       "5l++Gu3DwdZNToDt2085TmPMoTXQO3wJNbP1o2kGrZ1MvkoneWAPObQWF/yVHrU+xhBesph8leYX\n",
       "OXKHpEKTudkfgDCcYn7TElEAAAAASUVORK5CYII=\n",
       "\" style=\"display:inline;vertical-align:middle;\" /></a></dd>"
      ],
      "text/plain": [
       "<IPython.core.display.HTML object>"
      ]
     },
     "metadata": {},
     "output_type": "display_data"
    },
    {
     "data": {
      "text/html": [
       "<dt><a class=\"ProveItLink\" href=\"../../../equality/_axioms_.ipynb#substitution\">proveit.logic.equality.substitution</a></dt><dd><a class=\"ProveItLink\" href=\"../../../equality/__pv_it/8d36a51e21a3e1f2d1a576f0cfdfe721d403af1e0/expr.ipynb\"><img src=\"data:image/png;base64,iVBORw0KGgoAAAANSUhEUgAAAO8AAAAXBAMAAAARnwX+AAAAMFBMVEX///8QEBC6urrMzMxUVFRm\n",
       "ZmZERETc3NwyMjKqqqp2dnaIiIiYmJgiIiLu7u4AAAAU9Wx4AAAAAXRSTlMAQObYZgAAAvdJREFU\n",
       "SMfFVj1oFEEUfvef293bHKayECJYpIk5wcYqRyRGTBPUQgyiNonCgVuI8QfNIggWEq5QsLttDglB\n",
       "OTAemhRZJIVoc7UorE0QLXIYMIUiznszO7O3uznJQfDBm/123jfzZt+99+YA/pd4vS5MNqLYGPw3\n",
       "/63QFr586MHxURzMyQmJUc7EEEOcTInrIr4s9OCY1mQXf3es74shhjk21xvskbu0e786RW7zcFVi\n",
       "irUTZYY577n2sR85U9294wQlRy2AKazFKDPM+cLVeDY3d7eHSA/ReCGASa5GmWFOtsr158zMxx4c\n",
       "n8dh/cC4j28v33rFolmPEBXHrDsw74E2BaTHAWYxSOON6O5dquMRjb98bDrGpwSrkKeUuA9JytDJ\n",
       "0ZJtWAPI21wPgYl5llmZiu7eJen24ZDb8rEGejvPiuRghKg4xzItmGEFXeRaAN1lhkLc13Vx/AOH\n",
       "fNvHJqSJPBohKo6XaODnp9pcdbeACdfv9eBYaymcaMQ7DnBqXmpLOTZt7CnGtWk0L40ts3glmyL7\n",
       "uWM+SW2vKctiPyVoWeH5ErZfCnXmMwlfHeCcA72oQg2zY2h4R6fzTiRYon/vt46oL6bJk5gtDWkA\n",
       "qKivRGxYa6B7YpvOgpcceECnMGyu8IRiQXWQ5Ml6bxiayrGY7DAI/uagj2vuZbgDceWkOHAWRlyQ\n",
       "5SSOVOG0bRpPwWTwN96Wu/gGgGEcRjwfb6x8W8IcvR9xrDiwsXrRYr1ykCsYniwPSBVT/GUg4Bgn\n",
       "r1CopYEdl20BrwN4p5bZwXmuWqa/4g/ATWtUszX2gIFkWzmmSSG+ga4Do1wJXw1auAsFOemWiSm2\n",
       "JBTEVzEP7sab6RfsAY+btnJMk0J8A11ziYVW8IpE+RpJrQCn4GQdoHZl2upk+Gu7HLs5K92IrWNp\n",
       "YHIdjLolsZCJsOMgJ796mj3TFldxga+zSk3x15SVdYbiG4g04CECUfWxXtq54/icl0LF/xEMuiEO\n",
       "yY7mxDuWhr2W8t5t/RfNBeNeS11EOAAAAABJRU5ErkJggg==\n",
       "\" style=\"display:inline;vertical-align:middle;\" /></a></dd>"
      ],
      "text/plain": [
       "<IPython.core.display.HTML object>"
      ]
     },
     "metadata": {},
     "output_type": "display_data"
    },
    {
     "data": {
      "text/html": [
       "<dt><a class=\"ProveItLink\" href=\"../../../set_theory/enumeration/_axioms_.ipynb#enumSetDef\">proveit.logic.set_theory.enumeration.enumSetDef</a></dt><dd><a class=\"ProveItLink\" href=\"../../../set_theory/enumeration/__pv_it/33a23ae5ab118de7721cb39bbfe7b57980cc2de40/expr.ipynb\"><img src=\"data:image/png;base64,iVBORw0KGgoAAAANSUhEUgAAAlYAAAAXBAMAAAA7EBzMAAAAMFBMVEX///8QEBC6urrMzMxUVFRm\n",
       "ZmZERETc3NwyMjKqqqp2dnaIiIiYmJgiIiLu7u4AAAAU9Wx4AAAAAXRSTlMAQObYZgAABitJREFU\n",
       "WMPtWH2IVFUUPzszu2+defOckoooc5cCgxBGsi+pdjFQCExBpA8Lt4IVsfL9Ebkq4mSa/WG2UIIQ\n",
       "4jYgsm1sL1L71B3qj8QlWQwirN1GEBHJXA2aiM3tnnPu+773zUxEBHXgd5m599xzf+/37se5D+Cf\n",
       "MvPJZrwXHoR/n1W1LUdfqTYd7Q6JuFmnm4s0v1/I2xGvTzmMRPuiGb514iAJxPFTMIZ1oyrHckKb\n",
       "xtLdDIXlJpvTqrUkihXx+gUSyZ2LjfOtG2eFRBkGsW63Wit9m8baqwyFZQvNaUX+7fH63Q1RKtEU\n",
       "pJ9x2Wi2pl2+deO0S5ThJVEaPWqt9G0a+0zi79LKHIhNT4dRx05gkSmC0vkhl6qOazgOkkCUSdrW\n",
       "frVW+jaN3SLh71Ifj4+X/rpWVqxTS5VRx87Q1MHXnI87343FBES56uIgCUQZzIMbNmwBtVb6NrWl\n",
       "Sgzf7j0ZfPbsyxXIjyUq5HmwtmujDrdLJPYFaKM3vFNgj2KnsAFmLIcoV1UkirOWUQb4tbf3tEYr\n",
       "fZtmKxxgwKZDGw/j3DdeCM2TAy012J+4x/serNWBqMMTEu4Iyr6iN0pBOu2MD4I6oV7E1Rha8vYq\n",
       "PYvlksQB0kOs3jU6rbRtmq29wrAGzB9a8L202cFzzSpsrcHqpP0v4GES173U9TUyOrN2MbwRHqOm\n",
       "7eG+Qg6aMWL9pVXDTch1iFwvwNeV2aCLRHH2MoQet4ElHmNZVaUVtTVuLR2MrMgQZuDGei6QL3VA\n",
       "2nm/BD86zFN9hrPH2avi9w6s6Ix6XMvwRoj15eipgjwIMh3qI2iRy3cARuBNLQuK08kQeuQhJ+Sd\n",
       "J/eXlR2566qeVtzWsM3sYFiQ4dfZOT4u9/YFs7Cc41jTxbuWJoQgjxTNSZxCXdH2KwxvhFhfjp7m\n",
       "tTgG51WD5OUUQK5VWJzAguJ0MYQeuQoeFWI9WodXVsyeYRj25xW3Na2VeGOOlzhK6xSzID1tp6YB\n",
       "9iUkh+RBuwRtlDqtvBFifTm61OpxeE+5r/ZnKy5fgJsSWES0skoLeA84MvfnqjnaGtSK2xpfg/0M\n",
       "gK1Fujxd9Nsy4k2alyH7W6JW7IH7CO9XtAZbx8loIt0o4Y7wFDV96/fl6LwGoQ+Up65Rynt8wfhF\n",
       "zFJVJGQRWYOwBtduDUx8meZ99zgBrbhtaNEhMSlSSwesm2NZQqiyrcIw7RHI4ZNk/BWcFaxNQeB3\n",
       "fhrLvYt6P6hgj5m2ew4ejw74HMMbIaizHx1M3mYz9zsQH0icWaMe36/E5esYqCIhC4pznIF67MF1\n",
       "WeD7hFkc/jKoFbZlq4vxBVxsnzSnIBMmSJXpXeCf1Ij9ladhM51rp0I5g3EZRq7w01wSga0/gj+o\n",
       "YI/5+pxBnt/eCMHZ4keXOQOknye64YEwG51w+c6YaisYjjLS/HjOQCs/1wMLWats9pGAVtiWooMa\n",
       "Nm7tydTS79ihqFQJz7qzbIxx7tMLQzyj+laE8vB9s9df5ac5UxPMr8cfPfKHNcd2PY54Wm2LajWP\n",
       "4Y8QMD86tMvjbwenIqGBsHm5y9daN/zu56CMdMSNs42BephC+zYHHujt7XXMonFyIqCVSe+lRv9H\n",
       "+lsKkA9rxZXeTeQGCd/eej1wx0kVKW2hp5kbz/pt12Ndwh3HZqhuDYHoZ2Tdg5ojpOrz1UZaF7vj\n",
       "SAp3wlmeV3DrsYBWHLlAl/L11UvdMa2w0r9en3Cvrer73f5JY9qWTxPPRUxwPWYVpVbZ2GHnXmQV\n",
       "Fow+1NhhpOHqsxiSJBCuHpdykLFZK3M4olVXtpSFPhuWwWoHteqzjd3QV8WCK33uCd9kTPHsIwNb\n",
       "MJdM0Io8rElHfr8638w3mUD0RjNoDVePheWSOB/QIzMI1jN4LRVFd0Src5+sGoauCvR9N6eIWnVV\n",
       "0jXosrHgSj83NroZquvL93j4nxbkNr0h7l+5uIcDrsfD/ZTnAyyJe70oocia/OgZuzGtNFw9FhRn\n",
       "iUQ5uErEfhX6hvxN8F/FehSuAVqDlUhl/ievYrOEamINNv29Paf4vImHllHvA9aHjQ6zuX4cJIE4\n",
       "eqrhr8N2bqr1CqQ/GBQ/I5WtH8H/FtpMjFe3296+Eqv8L9ifN0hHukKBZYgAAAAASUVORK5CYII=\n",
       "\" style=\"display:inline;vertical-align:middle;\" /></a></dd>"
      ],
      "text/plain": [
       "<IPython.core.display.HTML object>"
      ]
     },
     "metadata": {},
     "output_type": "display_data"
    },
    {
     "data": {
      "text/html": [
       "</dl>"
      ],
      "text/plain": [
       "<IPython.core.display.HTML object>"
      ]
     },
     "metadata": {},
     "output_type": "display_data"
    },
    {
     "data": {
      "text/html": [
       "<h3>Theorems that depend directly on inBoolDef</h3>"
      ],
      "text/plain": [
       "<IPython.core.display.HTML object>"
      ]
     },
     "metadata": {},
     "output_type": "display_data"
    },
    {
     "data": {
      "text/html": [
       "<dl>"
      ],
      "text/plain": [
       "<IPython.core.display.HTML object>"
      ]
     },
     "metadata": {},
     "output_type": "display_data"
    },
    {
     "data": {
      "text/html": [
       "<dt><a class=\"ProveItLink\" href=\"../../_proofs_/inBoolInBool.ipynb\">proveit.logic.boolean.inBoolInBool</a></dt><dd><a class=\"ProveItLink\" href=\"../8f5f21c4cf95a3b040f3163441743dfcff68076d0/expr.ipynb\"><img src=\"data:image/png;base64,iVBORw0KGgoAAAANSUhEUgAAAKAAAAAVBAMAAAAz5vjYAAAAMFBMVEX///8QEBC6urrMzMxUVFRm\n",
       "ZmZERETc3NwyMjKqqqp2dnaIiIiYmJgiIiLu7u4AAAAU9Wx4AAAAAXRSTlMAQObYZgAAAiJJREFU\n",
       "OMtjYKA2eIBFTBuKcQIeBdziF0CM0yjCzA4QDGJeQNWx4lt/47UJDAzBDDjFV4L4fSiyHA8gGMT8\n",
       "gKYzQZuvbxVQnAGneBmQx56AIrkbioHg7D8MjQybgLp4FuAUBzmFdQKKpBwUA22a+h0ixLfj7t0G\n",
       "qMY5LA8Y+AQg4q97795gQBXnWV5eXotiHlMDBAMBN/cniJjFOSSXgDyVCQningeY4t/S0m6hGMi6\n",
       "AIKBQI/zD8SleQivMd8BcZaCeWUPsIg7MzCkg8XaYXFyAIKBHlVg/g0WYiuAa9S9/3EDkJ4B5qUz\n",
       "YBFXYeAD+48H6jsGRgUIBnqcgf0rWOgZcuDvngakFcEWJmAT52XgBjvn6R+oHL8CBDMwmLi4fAML\n",
       "Kd69i4gUNiZgeNiDLZQFCsMjBSbOfYAXHBLrrmIYCCQkwEImyC5hY0iAGghN/WjifA1g5cwb0mBe\n",
       "ngDBDJxAfBEs9BZDI8TLF7CKpzuBRFgYYqFybAcgmKESiPvBQiwHkDWCvHYCzPNhwCY+FWzPSYb9\n",
       "UDmuAAgGx1U+ODj4LiFpPLoNnmzeKmATZwRFN9/V0HxoomK6AMbsiT8KGI79bwWLVQTDC4FcEVBw\n",
       "NEHSZ6sBFnEekEGsBQz2UEkGcShGBlN6IbEMBbCsx+kBjWU0cQYGHWDMwgLqFBTjAVwbCIg/+cbA\n",
       "7n8Hs/jCBV6QJM7uAMF4gDtp4tVQjBNwG+AUBwCgb67pvS5ycwAAAABJRU5ErkJggg==\n",
       "\" style=\"display:inline;vertical-align:middle;\" /></a></dd>"
      ],
      "text/plain": [
       "<IPython.core.display.HTML object>"
      ]
     },
     "metadata": {},
     "output_type": "display_data"
    },
    {
     "data": {
      "text/html": [
       "</dl>"
      ],
      "text/plain": [
       "<IPython.core.display.HTML object>"
      ]
     },
     "metadata": {},
     "output_type": "display_data"
    }
   ],
   "source": [
    "%dependencies inBoolDef"
   ]
  }
 ],
 "metadata": {
  "kernelspec": {
   "display_name": "Python 3",
   "language": "python",
   "name": "python3"
  }
 },
 "nbformat": 4,
 "nbformat_minor": 0
}
