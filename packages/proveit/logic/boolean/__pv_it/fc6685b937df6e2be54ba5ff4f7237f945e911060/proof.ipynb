{
 "cells": [
  {
   "cell_type": "markdown",
   "metadata": {},
   "source": [
    "Show the Proof\n",
    "========"
   ]
  },
  {
   "cell_type": "code",
   "execution_count": 1,
   "metadata": {},
   "outputs": [
    {
     "data": {
      "text/html": [
       "<table><tr><th>&nbsp;</th><th>step type</th><th>requirements</th><th>statement</th></tr>\n",
       "<tr><td>0</td><td>specialization</td><td>1, 2, 3</td><td><span style=\"font-size:20px;\"> <a class=\"ProveItLink\" href=\"proof.ipynb\" style=\"text-decoration: none\">&#x22A2;&nbsp;</a><a class=\"ProveItLink\" href=\"../14c66a4ec1773abc4f18647dcb3c65e801578e4b0/expr.ipynb\"><img src=\"data:image/png;base64,iVBORw0KGgoAAAANSUhEUgAAAU0AAAAVBAMAAAAwdKHZAAAAMFBMVEX////c3NwiIiJERESqqqqY\n",
       "mJh2dnZmZmYQEBDu7u4yMjJUVFTMzMyIiIi6uroAAAAs73DqAAAAAXRSTlMAQObYZgAAAz1JREFU\n",
       "SMfFV01oE0EUfttkk2y7qQF7shRDhNIe1B4U9NTcBD0YFAoKlgqCp0IR9CAFK3hRRINeSg+6ClKq\n",
       "oPWcokWhFXtoz1IxelJBaBERC1bnvTfZzc7PJp588E125+/78t7MvFkAq7kXzfVLZ+F/WPeaud7r\n",
       "t414UwYYNdR/k0gwt94ufcNGJWCF31+pHfIbABdKaHvCuj4qs4HAojajP8/Ax6LSlqWJSkMwqY6y\n",
       "0TfYkIjI5rjymdorM0U/y811y1FLoE3bWWXg44bO6k9QCz2TV316tNGHbAEjz35391f/TeeINu17\n",
       "CWEnftl0umNYLjT62+lDthFGjjv0XCnwqnxXKgXt6JzWpr0uAeAc2bTp9GjW11gMYqHQG3ROM75y\n",
       "3doHXuFvT7Xpz1RZ3RABA52U37bphAMUfaEqTe8KvUEnEglcYpLq8Qp54nC7cc9MqFtljCHsS/qH\n",
       "Ved5LFBjJ3kwTm/SiUQCj+jlHqzSQklF7s8GNp0u7pI0NV9+jPaEfFRhiNjW/d+gtIY6j4KMOcVe\n",
       "oY8NkGxIJHBLbsDdNM3dplOybtMJs+iCKeXf5+oM0QTOT6s/Pzf23At6iNOb/IlEArSS/Frt5RDN\n",
       "gqcceWrlJlh1poQXfPXo2VFniKG12nerzlUqO8DjcMXpTTqRSGCbPQC5oOnUJcmLVp39kKhTFDda\n",
       "6MyWM5VIZ0ifoPMaPost1UFxvBP16kpenxz3poSVKzMgLTAASqsSdyfo4No4fTz/xeJ+EEeVGymk\n",
       "K9p2mWLU2dP3u6s6IFVhQI85vUidp/lt4Qz/xulN/kQiATwnZpCGUoi3z3gu3S+2Ppfk+cELb7ia\n",
       "eC6J3T4I4WtEn3AufQLYefsBuMNbNM+uSUXnEuWETQ7KAAWFWjrVg7m7SHAObRXg5J9ZXSefrU/l\n",
       "ZUD+TYU+spANiQRySsI69jCeN9k+aplfz5tXJRLNk7P60uG5QqsRMm/yxcBgMZ0VrWVcGzBivJ2o\n",
       "syrXTSt9aOMSc7YrrVUnZiov8V5ntxm1Yq5VABpkvbYOe5vuzPH7vFgxXXq8nHlGoj1XK3pbDEAi\n",
       "InNsF3/3XML30brl/t2XzJrXPgOcFt8d64y/VagKHi1i51UAAAAASUVORK5CYII=\n",
       "\" style=\"display:inline;vertical-align:middle;\" /></a></span></td></tr>\n",
       "<tr><td>&nbsp;</td><td colspan=4 style=\"text-align:left\"><span style=\"font-size:20px;\"><a class=\"ProveItLink\" href=\"../../../../__pv_it/3e5d49a51123592869b160296a6e123a424e07a70/expr.ipynb\"><img src=\"data:image/png;base64,iVBORw0KGgoAAAANSUhEUgAAAAYAAAAOBAMAAAD+sXAWAAAALVBMVEX////u7u5ERERUVFTMzMzc\n",
       "3NyIiIgQEBAyMjJmZmaYmJi6uroiIiJ2dnYAAACuOh6BAAAAAXRSTlMAQObYZgAAAD9JREFUCNdj\n",
       "YLjzmoGB6wEDA2cDAwN7AgNDnAMDwzoGBgYjIC5jYGB5wsDAVsDAwGQgwMC34AIDn2MCA9tcAQAo\n",
       "GAoWIEgceAAAAABJRU5ErkJggg==\n",
       "\" style=\"display:inline;vertical-align:middle;\" /></a> : <a class=\"ProveItLink\" href=\"../../../../number/numeral/__pv_it/77d407a64829263cdc16415becd4c2293f77a4bf0/expr.ipynb\"><img src=\"data:image/png;base64,iVBORw0KGgoAAAANSUhEUgAAAAkAAAAOBAMAAAAPuiubAAAAMFBMVEX///+YmJh2dnbMzMwQEBAi\n",
       "IiLu7u6qqqqIiIhUVFS6urpEREQyMjJmZmbc3NwAAACOMKdoAAAAAXRSTlMAQObYZgAAAFBJREFU\n",
       "CNdj4Lt7egEDw0sGju8MDNMYGOIZGFwSGOYvYDifwHAfKAEUSQASzJ9ATJ4NIPI2iOCYACJrGfge\n",
       "MDBfYGB8wPBUSekqUPH//18ZAIliFhc3zESNAAAAAElFTkSuQmCC\n",
       "\" style=\"display:inline;vertical-align:middle;\" /></a>, <a class=\"ProveItLink\" href=\"../../../../__pv_it/530be409e3083890784cf1d7b28c9e67e90af9360/expr.ipynb\"><img src=\"data:image/png;base64,iVBORw0KGgoAAAANSUhEUgAAAAsAAAAJBAMAAAAWSsseAAAAKlBMVEX///9ERETMzMwQEBAiIiKY\n",
       "mJju7u5mZmaqqqpUVFSIiIh2dnbc3NwAAAA/vyDhAAAAAXRSTlMAQObYZgAAAENJREFUCNdjYDi9\n",
       "8sTyBQxsG1hdmR0YuBm4LnAoMLAxcAowgADzAjB1VoEhgYH1wFoGrgSG3gBhhlMMDImrs3cFMAAA\n",
       "t0YN+iTRa+sAAAAASUVORK5CYII=\n",
       "\" style=\"display:inline;vertical-align:middle;\" /></a> : <a class=\"ProveItLink\" href=\"../../../../__pv_it/2cbe72a7ad6f655694dd697106680215e8489b600/expr.ipynb\"><img src=\"data:image/png;base64,iVBORw0KGgoAAAANSUhEUgAAAA8AAAAOBAMAAAACpFvcAAAALVBMVEX///8QEBBERERUVFS6urqI\n",
       "iIhmZmaqqqrc3Nzu7u6YmJgyMjIiIiLMzMwAAADtIaYWAAAAAXRSTlMAQObYZgAAAFtJREFUCNdj\n",
       "YACBOwxQsA9Kc52bAGG05zVAGAFxDmCaZULdAjBjCsO9ADDDgaEvAUTzGhvbKYCVMDAwbgAxChgY\n",
       "eASANAeQwf0AyJgNxEwvGRia5HYwcOm9TgAA6BoR3jrzwFcAAAAASUVORK5CYII=\n",
       "\" style=\"display:inline;vertical-align:middle;\" /></a>, <a class=\"ProveItLink\" href=\"../../../../__pv_it/23a8703a0497efbbce779bb784cd8c2fbbfa1f580/expr.ipynb\"><img src=\"data:image/png;base64,iVBORw0KGgoAAAANSUhEUgAAAA0AAAAOBAMAAAAGUYvhAAAALVBMVEX///+6urqIiIjMzMxERETu\n",
       "7u6qqqrc3NxmZmYiIiKYmJgQEBAyMjJ2dnYAAAAI/qgrAAAAAXRSTlMAQObYZgAAAGpJREFUCNdj\n",
       "YLizi4FhJgMDb8O+ArZ3DAzR7O8KOJ4wMBjxvmHgfMTAwMD9iCHuMZC2e84g9wBIr9vAcO8AiD7A\n",
       "cO4CkK7bwPROAEizzZ7yLgBICzOAtDMAzap7DqSZ3rLPBkkzdM68CiQBR18fizMQCrQAAAAASUVO\n",
       "RK5CYII=\n",
       "\" style=\"display:inline;vertical-align:middle;\" /></a> : <a class=\"ProveItLink\" href=\"../a4aad68354ee9532c0b0029abe20a315dcca00400/expr.ipynb\"><img src=\"data:image/png;base64,iVBORw0KGgoAAAANSUhEUgAAADUAAAAVBAMAAAAUZLt1AAAAMFBMVEX////c3NwiIiJERESqqqqY\n",
       "mJh2dnZmZmYQEBDu7u4yMjJUVFTMzMyIiIi6uroAAAAs73DqAAAAAXRSTlMAQObYZgAAALFJREFU\n",
       "KM9jYMAH+C5gFY4DEacZ2JXAwAAmLAsi2A8AiZUgFk8BkpbjYHIBAwPvBRxyYQwMHBNwyM1gYHjF\n",
       "gEOO2YGhDJccWwHDUlxyLAsY+nDJ8TUw/MMlx/MBr1wLHjNNkeQmIMuxLmBIR8hxfkLzwyOIXAJI\n",
       "rl+AgaFISUlDSUmZgYHrAQOHAFJ0IbFBYcaagOCyIkdgLiyOMOU4gXHEII3gI6cAbpD5jNjTxB0G\n",
       "BgCWci1ZX87w6gAAAABJRU5ErkJggg==\n",
       "\" style=\"display:inline;vertical-align:middle;\" /></a></span></td></tr><tr><td>1</td><td>axiom</td><td></td><td><span style=\"font-size:20px;\"> <a class=\"ProveItLink\" href=\"../../../set_theory/enumeration/_axioms_.ipynb#enumSetDef\" style=\"text-decoration: none\">&#x22A2;&nbsp;</a><a class=\"ProveItLink\" href=\"../e19fff4b4b2c627ace9711ffd9de3967bc6342fb0/expr.ipynb\"><img src=\"data:image/png;base64,iVBORw0KGgoAAAANSUhEUgAAAlYAAAAXBAMAAAA7EBzMAAAAMFBMVEX///8QEBC6urrMzMxUVFRm\n",
       "ZmZERETc3NwyMjKqqqp2dnaIiIiYmJgiIiLu7u4AAAAU9Wx4AAAAAXRSTlMAQObYZgAABitJREFU\n",
       "WMPtWH2IVFUUPzszu2+defOckoooc5cCgxBGsi+pdjFQCExBpA8Lt4IVsfL9Ebkq4mSa/WG2UIIQ\n",
       "4jYgsm1sL1L71B3qj8QlWQwirN1GEBHJXA2aiM3tnnPu+773zUxEBHXgd5m599xzf+/37se5D+Cf\n",
       "MvPJZrwXHoR/n1W1LUdfqTYd7Q6JuFmnm4s0v1/I2xGvTzmMRPuiGb514iAJxPFTMIZ1oyrHckKb\n",
       "xtLdDIXlJpvTqrUkihXx+gUSyZ2LjfOtG2eFRBkGsW63Wit9m8baqwyFZQvNaUX+7fH63Q1RKtEU\n",
       "pJ9x2Wi2pl2+deO0S5ThJVEaPWqt9G0a+0zi79LKHIhNT4dRx05gkSmC0vkhl6qOazgOkkCUSdrW\n",
       "frVW+jaN3SLh71Ifj4+X/rpWVqxTS5VRx87Q1MHXnI87343FBES56uIgCUQZzIMbNmwBtVb6NrWl\n",
       "Sgzf7j0ZfPbsyxXIjyUq5HmwtmujDrdLJPYFaKM3vFNgj2KnsAFmLIcoV1UkirOWUQb4tbf3tEYr\n",
       "fZtmKxxgwKZDGw/j3DdeCM2TAy012J+4x/serNWBqMMTEu4Iyr6iN0pBOu2MD4I6oV7E1Rha8vYq\n",
       "PYvlksQB0kOs3jU6rbRtmq29wrAGzB9a8L202cFzzSpsrcHqpP0v4GES173U9TUyOrN2MbwRHqOm\n",
       "7eG+Qg6aMWL9pVXDTch1iFwvwNeV2aCLRHH2MoQet4ElHmNZVaUVtTVuLR2MrMgQZuDGei6QL3VA\n",
       "2nm/BD86zFN9hrPH2avi9w6s6Ix6XMvwRoj15eipgjwIMh3qI2iRy3cARuBNLQuK08kQeuQhJ+Sd\n",
       "J/eXlR2566qeVtzWsM3sYFiQ4dfZOT4u9/YFs7Cc41jTxbuWJoQgjxTNSZxCXdH2KwxvhFhfjp7m\n",
       "tTgG51WD5OUUQK5VWJzAguJ0MYQeuQoeFWI9WodXVsyeYRj25xW3Na2VeGOOlzhK6xSzID1tp6YB\n",
       "9iUkh+RBuwRtlDqtvBFifTm61OpxeE+5r/ZnKy5fgJsSWES0skoLeA84MvfnqjnaGtSK2xpfg/0M\n",
       "gK1Fujxd9Nsy4k2alyH7W6JW7IH7CO9XtAZbx8loIt0o4Y7wFDV96/fl6LwGoQ+Up65Rynt8wfhF\n",
       "zFJVJGQRWYOwBtduDUx8meZ99zgBrbhtaNEhMSlSSwesm2NZQqiyrcIw7RHI4ZNk/BWcFaxNQeB3\n",
       "fhrLvYt6P6hgj5m2ew4ejw74HMMbIaizHx1M3mYz9zsQH0icWaMe36/E5esYqCIhC4pznIF67MF1\n",
       "WeD7hFkc/jKoFbZlq4vxBVxsnzSnIBMmSJXpXeCf1Ij9ladhM51rp0I5g3EZRq7w01wSga0/gj+o\n",
       "YI/5+pxBnt/eCMHZ4keXOQOknye64YEwG51w+c6YaisYjjLS/HjOQCs/1wMLWats9pGAVtiWooMa\n",
       "Nm7tydTS79ihqFQJz7qzbIxx7tMLQzyj+laE8vB9s9df5ac5UxPMr8cfPfKHNcd2PY54Wm2LajWP\n",
       "4Y8QMD86tMvjbwenIqGBsHm5y9daN/zu56CMdMSNs42BephC+zYHHujt7XXMonFyIqCVSe+lRv9H\n",
       "+lsKkA9rxZXeTeQGCd/eej1wx0kVKW2hp5kbz/pt12Ndwh3HZqhuDYHoZ2Tdg5ojpOrz1UZaF7vj\n",
       "SAp3wlmeV3DrsYBWHLlAl/L11UvdMa2w0r9en3Cvrer73f5JY9qWTxPPRUxwPWYVpVbZ2GHnXmQV\n",
       "Fow+1NhhpOHqsxiSJBCuHpdykLFZK3M4olVXtpSFPhuWwWoHteqzjd3QV8WCK33uCd9kTPHsIwNb\n",
       "MJdM0Io8rElHfr8638w3mUD0RjNoDVePheWSOB/QIzMI1jN4LRVFd0Src5+sGoauCvR9N6eIWnVV\n",
       "0jXosrHgSj83NroZquvL93j4nxbkNr0h7l+5uIcDrsfD/ZTnAyyJe70oocia/OgZuzGtNFw9FhRn\n",
       "iUQ5uErEfhX6hvxN8F/FehSuAVqDlUhl/ievYrOEamINNv29Paf4vImHllHvA9aHjQ6zuX4cJIE4\n",
       "eqrhr8N2bqr1CqQ/GBQ/I5WtH8H/FtpMjFe3296+Eqv8L9ifN0hHukKBZYgAAAAASUVORK5CYII=\n",
       "\" style=\"display:inline;vertical-align:middle;\" /></a></span></td></tr>\n",
       "<tr><td>&nbsp;</td><td colspan=4 style-\"text-align:left\"><a class=\"ProveItLink\" href=\"../../../set_theory/enumeration/_axioms_.ipynb#enumSetDef\">proveit.logic.set_theory.enumeration.enumSetDef</a></td></tr><tr><td>2</td><td>theorem</td><td></td><td><span style=\"font-size:20px;\"> <a class=\"ProveItLink\" href=\"../../../../number/numeral/deci/_proofs_/nat2.ipynb\" style=\"text-decoration: none\">&#x22A2;&nbsp;</a><a class=\"ProveItLink\" href=\"../7c3551d04e9dac6e67c114d0247d27a803d94be00/expr.ipynb\"><img src=\"data:image/png;base64,iVBORw0KGgoAAAANSUhEUgAAADIAAAAPBAMAAABU9YHxAAAAMFBMVEX///+YmJh2dnbMzMwQEBAi\n",
       "IiLu7u6qqqqIiIhUVFS6urpEREQyMjJmZmbc3NwAAACOMKdoAAAAAXRSTlMAQObYZgAAAN1JREFU\n",
       "GNNj4Lt7egEDMmA7v/sYA298OMNLBo7vKDIM3ALWDAz8DAzTGBjiUWU4gzkaGFgYGFwSGOaDjWPr\n",
       "CQ09AJZZkzAZJHM+geE+WMZGDKbHeEJOAguYGZ8AJPi2wU0zqGDeAJZh/gS29wFChneBBFiGZwOI\n",
       "zEa4wIBhGqcJiHUbzF8SGgpzgQFDJtsRIINjAljGElkPswJITy0DH8iKVGQZBnFuoP0XGBhBMpwC\n",
       "yDJMrxkYniopXQV7NAoeOiDv3QF65v//r2CBN5chElznvYFkDnJ4VR6FuA0KAHkWNBgmUR4YAAAA\n",
       "AElFTkSuQmCC\n",
       "\" style=\"display:inline;vertical-align:middle;\" /></a></span></td></tr>\n",
       "<tr><td>&nbsp;</td><td colspan=4 style-\"text-align:left\"><a class=\"ProveItLink\" href=\"../../../../number/numeral/deci/_proofs_/nat2.ipynb\">proveit.number.numeral.deci.nat2</a></td></tr><tr><td>3</td><td>theorem</td><td></td><td><span style=\"font-size:20px;\"> <a class=\"ProveItLink\" href=\"../../../../number/numeral/deci/_proofs_/add_1_1.ipynb\" style=\"text-decoration: none\">&#x22A2;&nbsp;</a><a class=\"ProveItLink\" href=\"../10ea9a44c639fcc49e957d670ca706739b30851d0/expr.ipynb\"><img src=\"data:image/png;base64,iVBORw0KGgoAAAANSUhEUgAAAGEAAAAVBAMAAACkm51HAAAAMFBMVEX////c3NwiIiJERESqqqqY\n",
       "mJh2dnZmZmYQEBDu7u4yMjJUVFTMzMyIiIi6uroAAAAs73DqAAAAAXRSTlMAQObYZgAAASJJREFU\n",
       "OMtjYCAd8F3AIRGHS8dpIGaegC5qycDAfgBdkLF88QMgtZKBgdMeXcfkn0BiAboOaQbeLwwMvBcY\n",
       "OHfvh+mYCKFm7wbpCEPXsZOBQZ+BgQOk+D5Mhy+U5gXpmIGuo2MCw/4HDK8YcOpgdkDTsX4CQ/0D\n",
       "hjLcOtgKMMNJfwLDUtw6WMBeZ18FBhvA4jzfGBj6cOvga8CwgsuAgeEfbh08HzB0FDOg6KhatUpj\n",
       "1arVeHTwgtzWQshV7EpgYABiuzMwCjCY4tbBih7pPAUMrAIM6SSErlBaWhEDwyMgq7x/eQCKDvaK\n",
       "X6XAgHmAHhn//38CphIBZDFfZM4M7ImdNQGZ9xaZk4sjf6zElXE4F+CQkMalg1sAhwQjrlx7B7sw\n",
       "AEBiXJeAxxXvAAAAAElFTkSuQmCC\n",
       "\" style=\"display:inline;vertical-align:middle;\" /></a></span></td></tr>\n",
       "<tr><td>&nbsp;</td><td colspan=4 style-\"text-align:left\"><a class=\"ProveItLink\" href=\"../../../../number/numeral/deci/_proofs_/add_1_1.ipynb\">proveit.number.numeral.deci.add_1_1</a></td></tr></table>"
      ],
      "text/plain": [
       "<proveit._core_.proof._ShowProof at 0x7f94eb570cf8>"
      ]
     },
     "execution_count": 1,
     "metadata": {},
     "output_type": "execute_result"
    }
   ],
   "source": [
    "import proveit\n",
    "%show_proof"
   ]
  },
  {
   "cell_type": "code",
   "execution_count": null,
   "metadata": {},
   "outputs": [],
   "source": []
  }
 ],
 "metadata": {
  "kernelspec": {
   "display_name": "Python 3",
   "language": "python",
   "name": "python3"
  }
 },
 "nbformat": 4,
 "nbformat_minor": 0
}
