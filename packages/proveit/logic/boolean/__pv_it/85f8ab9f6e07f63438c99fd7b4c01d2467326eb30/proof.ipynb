{
 "cells": [
  {
   "cell_type": "markdown",
   "metadata": {},
   "source": [
    "Show the Proof\n",
    "========"
   ]
  },
  {
   "cell_type": "code",
   "execution_count": 1,
   "metadata": {},
   "outputs": [
    {
     "data": {
      "text/html": [
       "<table><tr><th>&nbsp;</th><th>step type</th><th>requirements</th><th>statement</th></tr>\n",
       "<tr><td>0</td><td>assumption</td><td></td><td><span style=\"font-size:20px;\"><a class=\"ProveItLink\" href=\"../24d3c865cc77728a0668d6ffbe44307d930985810/expr.ipynb\"><img src=\"data:image/png;base64,iVBORw0KGgoAAAANSUhEUgAAAJsAAAAVBAMAAACj9YEXAAAAMFBMVEX///9ERETc3NyqqqpUVFS6\n",
       "urrMzMwyMjIQEBCIiIh2dnYiIiLu7u5mZmaYmJgAAABJJ2g3AAAAAXRSTlMAQObYZgAAAmNJREFU\n",
       "OMutlT9IW0Ecx38vf17i870XaaFdWs3gopOD4NhQhEI7NJspXTIIlYIYB8VBJCg6lZKhFDI1YIdq\n",
       "K7S0Sw2l2VoEqVOFFFoXFVy01Ciksfb3u8u9+70kjUsP/N3Xu3ufu/v9uQCA+x3+RzNX49TZ6/7h\n",
       "e57avQAQzinlJom3QLLjSIz0l5+LWTMB34rU3oCTbgV5cj48/E4cZBQcsbLYBV/p/20yVlbYaYA7\n",
       "JRQRMjAuvsy0PNQpgDFPYlZsv0U2QuaFh7Mn0UQTaPKgcQeaYWsfVQGCVbpWTuPcgg8XeY3GqaF5\n",
       "xHCfNU4eWjingl+f0e4ljbOzPtwPcpOFC8MZhjMGtNsTShno69AvFCOgcXCZ4wI/hcJFToHhrC19\n",
       "vBUlYrjhly4UZY5bUzgHp50/Yt8TvNQOwwXFUWWgPyr0RAHMDyTmOG4I/w5JjGHOdNbEvnjOaJLh\n",
       "wlkW0CE5A89ur5ZFnixyXIr8i3J0qQ4CuIEXjXGcecRw9oyc6lFBqXDcBJmreLUURiFGgYWZUjvc\n",
       "g1ey/w3/wnWS30PooAh9Fzyh6A80XVb6rnitnnZnCrfQeFnhOwtPFqwE8mlyIhg8FC4ri0GWdrJ1\n",
       "c9y+L+9ebsDyJZYbTYkSUGSjpobWWiaKwIVvrbwFk4TwIjyUpZD0cEZc9ps9x+oduS9xMlGnfDhs\n",
       "V2CPunnmfVZkZvNTEI2zsGcbcddlfbGy15XQsrkFra2cwrl13N3zpL/Wwc60fz5ntfzkvXf2ezky\n",
       "9lj63Kt1CMXb43q1vEn+kGXiLvsW9Xnq6QWPe8B73DvS9d+Kv+D+p/bUzJbiAAAAAElFTkSuQmCC\n",
       "\" style=\"display:inline;vertical-align:middle;\" /></a> <a class=\"ProveItLink\" href=\"proof.ipynb\" style=\"text-decoration: none\">&#x22A2;&nbsp;</a><a class=\"ProveItLink\" href=\"../../../__pv_it/4f6f7112e40d08b23dab002cd24a742449b13f540/expr.ipynb\"><img src=\"data:image/png;base64,iVBORw0KGgoAAAANSUhEUgAAAIUAAAAVBAMAAACakjBMAAAAMFBMVEX///+YmJiqqqq6uroQEBBE\n",
       "RETu7u4iIiLMzMwyMjKIiIhUVFRmZmZ2dnbc3NwAAADS0us6AAAAAXRSTlMAQObYZgAAAftJREFU\n",
       "OMutlD1MQjEQxw8E8hCemjg5GFkcnGAwMchC1LiYGDTOyuDC5gKOvs1BDRgSnIxsGhfZTDSBtxhd\n",
       "jKwaVFZ10MTvoMFe+2iPD3GxSdv/67W/tnfXB/C/pSNbU7bAH1NHperlbVfp+oiLNfAu8xKBs1YL\n",
       "OwuV48M8Ki0Hp3xmHLwGDlwa4EmgyHCzia275e7dKYC5Mpqj+LnOB9kYxCKsmcJtsophK6qVUamS\n",
       "bNSPln1QjH5Wt1BcsImOqGK4woqRkeqAuWkA7ZOEsQjg/UBxy6xBUAyYVYyQVAusFnzM+SnCcPrg\n",
       "McIZzHJOGSXF0GW4PtkBX1nvLRKGbsJFD9+BeXeTMoawscL0ZSG0b4BVNLt7CMOeghXuhRdWxylj\n",
       "mITDnrZiW7ku3aBwBAijI8xXg53tAM+UkaQxjQm8860WY8rQnuCdp8NkO4a2LcLbvfQLYwd7Pybb\n",
       "WNNdLH/ErQxJmhbD4au/iz9wv6fxs85QRh9xR46kh7gU9aktBXqiqA+WVTibY3sn06OWsbpZH1sI\n",
       "be/6AO8yIhgi9mnFmBed66R6VHvgwjEbvHXz0zkNGzIcZbWO5rrR/PimiV4U1zODje9M5WbL0k/0\n",
       "FW891eeGxwWx9r8gt3rLLvF2tAnh5wc1Kd+e0ZWT0lOut8gLdBp//AvvpdoD+AH0zocYbRSMxAAA\n",
       "AABJRU5ErkJggg==\n",
       "\" style=\"display:inline;vertical-align:middle;\" /></a></span></td></tr>\n",
       "</table>"
      ],
      "text/plain": [
       "<proveit._core_.proof._ShowProof at 0x7f9500056390>"
      ]
     },
     "execution_count": 1,
     "metadata": {},
     "output_type": "execute_result"
    }
   ],
   "source": [
    "import proveit\n",
    "%show_proof"
   ]
  },
  {
   "cell_type": "code",
   "execution_count": null,
   "metadata": {},
   "outputs": [],
   "source": []
  }
 ],
 "metadata": {
  "kernelspec": {
   "display_name": "Python 3",
   "language": "python",
   "name": "python3"
  }
 },
 "nbformat": 4,
 "nbformat_minor": 0
}
