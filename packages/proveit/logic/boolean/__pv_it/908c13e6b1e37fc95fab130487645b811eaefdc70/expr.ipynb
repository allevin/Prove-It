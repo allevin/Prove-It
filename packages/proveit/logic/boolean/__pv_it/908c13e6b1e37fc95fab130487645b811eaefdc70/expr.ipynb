{
 "cells": [
  {
   "cell_type": "markdown",
   "metadata": {},
   "source": [
    "Expression of type <a class=\"ProveItLink\" href=\"../../../../../../doc/html/api/proveit.Lambda.html\">Lambda</a>\n",
    "=======================\n",
    "# from context <a class=\"ProveItLink\" href=\"../../_context_.ipynb\">proveit.logic.boolean</a>"
   ]
  },
  {
   "cell_type": "code",
   "execution_count": 1,
   "metadata": {},
   "outputs": [],
   "source": [
    "# import Expression classes needed to build the expression\n",
    "from proveit import Lambda\n",
    "from proveit._common_ import A\n",
    "from proveit.logic import Booleans, InSet, Not, Or"
   ]
  },
  {
   "cell_type": "code",
   "execution_count": 2,
   "metadata": {},
   "outputs": [
    {
     "data": {
      "text/html": [
       "<strong id=\"expr\">expr:</strong> <a class=\"ProveItLink\" href=\"expr.ipynb\"><img src=\"data:image/png;base64,iVBORw0KGgoAAAANSUhEUgAAAOEAAAAVCAMAAACHbnlHAAAANlBMVEX///92dnYUFBQNDQ0QEBBE\n",
       "RERUVFS6urqIiIhmZmaqqqrc3Nzu7u6YmJgyMjIiIiLMzMwAAACuIkBbAAAAAXRSTlMAQObYZgAA\n",
       "AlZJREFUWMPNV9mWpCAMhRk2WQL8/8+OtagJBKW67TOdl9Qpc0muZFOIXy4+/Be31t1rnSzVSKS9\n",
       "L+ySpy3NJzhqzftcCtUXDC9cSqgaKqisPfkf6ixDiAMciqYMrAXvExp9zvAyVP1InAhRSpwpucY5\n",
       "go5kHcaZ0tu4kxw9sElSfcrwOtQnQ+EsfmPBL3WyqBU+nuCK3n7lyFpTQdioqD5j2IUaHeRVoGXo\n",
       "kzCHdydcnStqSzKJ4uDt2S+8dZMMCLuVTFM6HMM21AIpDu4w6CPsKHxNR6S0YxOvC06kBrcxg8Ba\n",
       "N68KY+VC9Zhh41IEHfksLTkdj+J6TqlHxTS9yuAzAJ3e4t7ZeWQrsaZCsR6oHjLsXOrA1mHOtSpH\n",
       "mmCoy4hhNOgUhXy2uHdfMba1XvIuksVaRfWQYesy6nGncV7vI+sh9bD9+ycTUSjx0c8O93o3Ed1D\n",
       "V9zbeGywpVI9Yti5tGoLsus0DyXxHFMwukN8KTjmDrde1lqzMk0wbLCzDDuX7EKxMxSvV/FuJFmN\n",
       "GC441dXed3rcmkBA0crzDFvsZJb2LmO+Zhh8tylQVCFDW6d9LnEbhinJcdaUYYdNQDXPkHNp0gnD\n",
       "Z5buVaOPTYHuIbQbb/2cwz37aI6MNd3neuzUtGBdxmwHDNPi9GOaqPqcXknXCsvMxM+vKTTC0UMs\n",
       "k0QcFt5hgh0yHLkM0Czsr81bZ2X81z5C1Pl2V+In1uLzrY35iDRAe+k3Jcn7raWj+ke+D+cF4t3W\n",
       "W4HFua+nH5dg7rbediYTfgdDEdy91q5QjR99l+E/Fnkc7fmP1ZkAAAAASUVORK5CYII=\n",
       "\" style=\"display:inline;vertical-align:middle;\" /></a><br>"
      ],
      "text/plain": [
       "expr: A -> (A or [not](A)) | A in BOOLEANS"
      ]
     },
     "execution_count": 2,
     "metadata": {},
     "output_type": "execute_result"
    }
   ],
   "source": [
    "# build up the expression from sub-expressions\n",
    "expr = Lambda(A, Or(A, Not(A)), conditions = [InSet(A, Booleans)])"
   ]
  },
  {
   "cell_type": "code",
   "execution_count": 3,
   "metadata": {},
   "outputs": [
    {
     "name": "stdout",
     "output_type": "stream",
     "text": [
      "Passed sanity check: built 'expr' is the same as the stored Expression.\n"
     ]
    }
   ],
   "source": [
    "# check that the built expression is the same as the stored expression\n",
    "%check_expr"
   ]
  },
  {
   "cell_type": "code",
   "execution_count": 4,
   "metadata": {},
   "outputs": [
    {
     "data": {
      "text/html": [
       "<table><tr><th>&nbsp;</th><th>core type</th><th>sub-expressions</th><th>expression</th></tr>\n",
       "<tr><td>0</td><td>Lambda</td><td>parameter:&nbsp;10<br>body:&nbsp;1<br>conditions:&nbsp;2<br></td><td><a class=\"ProveItLink\" href=\"expr.ipynb\"><img src=\"data:image/png;base64,iVBORw0KGgoAAAANSUhEUgAAAOEAAAAVCAMAAACHbnlHAAAANlBMVEX///92dnYUFBQNDQ0QEBBE\n",
       "RERUVFS6urqIiIhmZmaqqqrc3Nzu7u6YmJgyMjIiIiLMzMwAAACuIkBbAAAAAXRSTlMAQObYZgAA\n",
       "AlZJREFUWMPNV9mWpCAMhRk2WQL8/8+OtagJBKW67TOdl9Qpc0muZFOIXy4+/Be31t1rnSzVSKS9\n",
       "L+ySpy3NJzhqzftcCtUXDC9cSqgaKqisPfkf6ixDiAMciqYMrAXvExp9zvAyVP1InAhRSpwpucY5\n",
       "go5kHcaZ0tu4kxw9sElSfcrwOtQnQ+EsfmPBL3WyqBU+nuCK3n7lyFpTQdioqD5j2IUaHeRVoGXo\n",
       "kzCHdydcnStqSzKJ4uDt2S+8dZMMCLuVTFM6HMM21AIpDu4w6CPsKHxNR6S0YxOvC06kBrcxg8Ba\n",
       "N68KY+VC9Zhh41IEHfksLTkdj+J6TqlHxTS9yuAzAJ3e4t7ZeWQrsaZCsR6oHjLsXOrA1mHOtSpH\n",
       "mmCoy4hhNOgUhXy2uHdfMba1XvIuksVaRfWQYesy6nGncV7vI+sh9bD9+ycTUSjx0c8O93o3Ed1D\n",
       "V9zbeGywpVI9Yti5tGoLsus0DyXxHFMwukN8KTjmDrde1lqzMk0wbLCzDDuX7EKxMxSvV/FuJFmN\n",
       "GC441dXed3rcmkBA0crzDFvsZJb2LmO+Zhh8tylQVCFDW6d9LnEbhinJcdaUYYdNQDXPkHNp0gnD\n",
       "Z5buVaOPTYHuIbQbb/2cwz37aI6MNd3neuzUtGBdxmwHDNPi9GOaqPqcXknXCsvMxM+vKTTC0UMs\n",
       "k0QcFt5hgh0yHLkM0Czsr81bZ2X81z5C1Pl2V+In1uLzrY35iDRAe+k3Jcn7raWj+ke+D+cF4t3W\n",
       "W4HFua+nH5dg7rbediYTfgdDEdy91q5QjR99l+E/Fnkc7fmP1ZkAAAAASUVORK5CYII=\n",
       "\" style=\"display:inline;vertical-align:middle;\" /></a></td></tr>\n",
       "<tr><td>1</td><td>Operation</td><td>operator:&nbsp;3<br>operands:&nbsp;4<br></td><td><a class=\"ProveItLink\" href=\"../a991ce20ddbccfbe76e68970a1f1170834349e5a0/expr.ipynb\"><img src=\"data:image/png;base64,iVBORw0KGgoAAAANSUhEUgAAAFIAAAAVBAMAAAAnX6R8AAAAMFBMVEX///92dnYQEBBERERUVFS6\n",
       "urqIiIhmZmaqqqrc3Nzu7u6YmJgyMjIiIiLMzMwAAACFkkdwAAAAAXRSTlMAQObYZgAAATpJREFU\n",
       "KM9jYKAMsCagCXAHQBlv0SSeoPBAsnVQ9nmwQWDmAxBxCkUlSJYHavb9BUCSBaSILQFGIGwGyXIL\n",
       "gNkz6icAST4DIMEL0sO0AFklWJZLAcxOyAc7+CQQt4MYMSiWQ2QtwA5c0L+BAaoKpJqhECUcILLi\n",
       "IPZShvdghwFtBruA4TSySqhsD4gdwDC/gAHiERawM1QZGNjvgoAAQjYI5BMXF3+wUQwXGNaA6a9Q\n",
       "4/gcELLvIeHIdAAsU8EgjaESJgtS2QB0ISQM5gBNBQENJJUwWaDtnEA2zwewDMtrSJBbI1TCZfcw\n",
       "gJ3G/AsiYwsJcnGYvx8gZMUZJuufZOC2/wP2PMNxiIJYeBAhZI+ipqFXEIppAkY6hMYmOoAmB2TA\n",
       "mIA9JZ/CEFmDI81PwRDxxKGSE90utgcMAGvYUE5HD+bTAAAAAElFTkSuQmCC\n",
       "\" style=\"display:inline;vertical-align:middle;\" /></a></td></tr>\n",
       "<tr><td>2</td><td>ExprTuple</td><td>5</td><td><a class=\"ProveItLink\" href=\"../260b1dbac44813db7db6b8178562ca52c979a3070/expr.ipynb\"><img src=\"data:image/png;base64,iVBORw0KGgoAAAANSUhEUgAAAEMAAAAVBAMAAADvM06qAAAAMFBMVEX////c3NwiIiJERESqqqqY\n",
       "mJh2dnZmZmYQEBDu7u4yMjJUVFTMzMyIiIi6uroAAAAs73DqAAAAAXRSTlMAQObYZgAAAUNJREFU\n",
       "KM9jYCAC8F3AJxsHIk5D2IdQpdjWW/1qMmFgYD8A5KyEiK1H087Md2HWtAQGhgUMDLwQe1j1J2Ao\n",
       "4X0AlA9jYOCASInUC0Ck5i5S0oIqYQnYycAwg4HhFUTmwv0HYJpn6QSEKQ8NgLQDQxnEWxP8A8AM\n",
       "4QkIiw4FAzlsBQxLwQLzGM5D3GSIcIvS/14gzbKAoQ8s8IBBvgBEcxogO/cKkMfXwPAP7ILdu/eD\n",
       "JfmalJTgzmUweAaU+gBRwgf02QKw2g1IpjAYMIOVtID4DgwMTA1gixTQlQAtMgVyGYFKuD6AZbai\n",
       "KAFaxLqAIR3InQUS+gmWmfQAoYS11gDs6UfAsOhfyMBq/wvsJcblB2DR+FljC5DB9YCBQwA1blh2\n",
       "QXwEA8AIYE3An5xyEYkBB+AEhYU0XiXcIHcw4k2YdxgYADaiUrQ+foXtAAAAAElFTkSuQmCC\n",
       "\" style=\"display:inline;vertical-align:middle;\" /></a></td></tr>\n",
       "<tr><td>3</td><td>Literal</td><td></td><td><a class=\"ProveItLink\" href=\"../../disjunction/__pv_it/087d0b4ded7c7e5bf3bba05ecb616d7a8051ff650/expr.ipynb\"><img src=\"data:image/png;base64,iVBORw0KGgoAAAANSUhEUgAAAAwAAAAOBAMAAADpk+DfAAAALVBMVEX///+YmJh2dnZmZmaqqqrc\n",
       "3NwyMjLu7u4iIiJERESIiIhUVFTMzMy6uroAAAD0I/TTAAAAAXRSTlMAQObYZgAAAEtJREFUCNdj\n",
       "uMAABDwMe0DUKoaTIKqdgS2AgYHFAITAzHYGsMQqBoa9QIqDgT0BSDE7MAkAKdYEDpAehj1SYOpk\n",
       "O5hiMwBTPAUMDAB33Atnw8aG2QAAAABJRU5ErkJggg==\n",
       "\" style=\"display:inline;vertical-align:middle;\" /></a></td></tr>\n",
       "<tr><td>4</td><td>ExprTuple</td><td>10, 6</td><td><a class=\"ProveItLink\" href=\"../0da0df3f05ebf673172b5dc9cf252c294ab82ff60/expr.ipynb\"><img src=\"data:image/png;base64,iVBORw0KGgoAAAANSUhEUgAAAEIAAAAVBAMAAAAA8SWUAAAAMFBMVEX////c3NwiIiJERESqqqqY\n",
       "mJh2dnZmZmYQEBDu7u4yMjJUVFTMzMyIiIi6uroAAAAs73DqAAAAAXRSTlMAQObYZgAAAQZJREFU\n",
       "KM9jYCAM+C7gkWR9ACROQ9iHMKVBQjVAvBLCXY+pAiTExcDAC7GEVX8Chg0gIdYEBg6IjEi9ALoK\n",
       "sBBnA8MrCPfC/QfoKiBCJgxlEA9N8A9A9yNEKJ1hKZg7j+E8uqehQl4MfWDuAwb5AjCDXQkEEhBC\n",
       "Lxj+gcR5du/eb4DQzrMBIXQeooKPgYFjAaoKmNB5hhaQkAMDA1MDqgqY0AsGUyDJCORyfWBgmIBQ\n",
       "ARNiiAL6hoFhFhAz/2Tg/AQz5ABMCOTbRwwMwv0LGVjtfxVw9sPDFSbEwLCOgQMptPkwQh4U6qwJ\n",
       "SHGFGb9sF+Cxj0MFyD3SSHGFqWIjyKv4UiHvAQYA3ktH33vssWYAAAAASUVORK5CYII=\n",
       "\" style=\"display:inline;vertical-align:middle;\" /></a></td></tr>\n",
       "<tr><td>5</td><td>Operation</td><td>operator:&nbsp;7<br>operands:&nbsp;8<br></td><td><a class=\"ProveItLink\" href=\"../923805f01821a06014dd29c5f79c5e4c92605ad50/expr.ipynb\"><img src=\"data:image/png;base64,iVBORw0KGgoAAAANSUhEUgAAADYAAAAPBAMAAABdHiGLAAAAMFBMVEX///92dnYQEBBERERUVFS6\n",
       "urqIiIhmZmaqqqrc3Nzu7u6YmJgyMjIiIiLMzMwAAACFkkdwAAAAAXRSTlMAQObYZgAAANJJREFU\n",
       "GNNjYACBtwwogPG8zR9dCyjnPKocAzNrwpqFAmAm9/0FGHJsAQfAzBn1EyBiy87evQOV49jgBRZK\n",
       "yA8A03ynFyD0RRqAWKwL+jeAhSYvQJj5djOYs5ThfQJYyBJh393/amBWAMP8AhDNZYDslgwQj8/F\n",
       "xR9itu7du3C3MBgEgoQYGJjA7uVzQNLHYMAMZDQwMPAqgM28gC7HCZTj+QAW8kaRA5q5BsT+BRZa\n",
       "G4CQ4y4zYJisf5KB2/4P2KGcxx/AwvrzJQ+0MObwgbgTAgCMvTlc/0QYTQAAAABJRU5ErkJggg==\n",
       "\" style=\"display:inline;vertical-align:middle;\" /></a></td></tr>\n",
       "<tr><td>6</td><td>Operation</td><td>operator:&nbsp;9<br>operand:&nbsp;10<br></td><td><a class=\"ProveItLink\" href=\"../feaa1d0e6d92ad9ead8e5ffd1f92697e3912387a0/expr.ipynb\"><img src=\"data:image/png;base64,iVBORw0KGgoAAAANSUhEUgAAABwAAAAOBAMAAADOPWE3AAAAMFBMVEX///8QEBBERES6urqIiIiq\n",
       "qqrc3Nzu7u6YmJgyMjJUVFTMzMx2dnYiIiJmZmYAAADMbjvTAAAAAXRSTlMAQObYZgAAAGNJREFU\n",
       "CNdjYEAA7gsMyIDzAwq39zsyjy3uGzKXheUzMtec9QcSj92A+wsDw9u7QHAHyGVmYPsHldkFwqtW\n",
       "fULiGjAwSCK4rEDqIoKbCqTmw1zLwD4BSOkXwFyk+DOBoen/PABSrhtHsYt+gAAAAABJRU5ErkJg\n",
       "gg==\n",
       "\" style=\"display:inline;vertical-align:middle;\" /></a></td></tr>\n",
       "<tr><td>7</td><td>Literal</td><td></td><td><a class=\"ProveItLink\" href=\"../../../set_theory/membership/__pv_it/088cbc857536a28d4119ad9639a84270ccb0545d0/expr.ipynb\"><img src=\"data:image/png;base64,iVBORw0KGgoAAAANSUhEUgAAAAwAAAAMBAMAAACkW0HUAAAALVBMVEX///+qqqpmZmZUVFQQEBC6\n",
       "urpERETc3NyYmJjMzMwiIiIyMjKIiIju7u4AAACYsrA9AAAAAXRSTlMAQObYZgAAADxJREFUCNdj\n",
       "YOA9vWrVBgaG2b0MQMCeCyIZ2ArA1DUwyRCyahVIyWQI7xaEYm4AU7xLIdxqTQgtvGvVBgCkcQ7e\n",
       "geM/tQAAAABJRU5ErkJggg==\n",
       "\" style=\"display:inline;vertical-align:middle;\" /></a></td></tr>\n",
       "<tr><td>8</td><td>ExprTuple</td><td>10, 11</td><td><a class=\"ProveItLink\" href=\"../66187e1b4f8077ccc87706fb1f470f3ae4cd9ec60/expr.ipynb\"><img src=\"data:image/png;base64,iVBORw0KGgoAAAANSUhEUgAAADMAAAAVBAMAAAAZessyAAAAMFBMVEX////c3NwiIiJERESqqqqY\n",
       "mJh2dnZmZmYQEBDu7u4yMjJUVFTMzMyIiIi6uroAAAAs73DqAAAAAXRSTlMAQObYZgAAAR1JREFU\n",
       "KM9jYMAD+C5gE40DEach7EMQim291a8mEwYG9gNAzkqI2Hqocma+C7OmJTAwLGBg4IWYx6o/AS7F\n",
       "+wAoHsbAwAEREqkXgEuxBOxkYJjBwPAKInLh/gOErocGQNqBoQzizAn+AXCpQ8FAk9gKGJaCBeYx\n",
       "nL8Ak1L63wukWRYw9IEFHjDIFyAMvAI0kK+B4R+Iz7N7934DuBSDwTOg0AeIFB/QpQuQpJjBUi0g\n",
       "vgMDA1MDqhTQQFMglxEoxfWBgWECkoGsCxjSgdxZIKGfDJyfIFKstQZgxz9iYBDuX8jAav+rgLNf\n",
       "ABS8nzW2AJVwPWDgEECKHyQ2MKBYExBcVqQIy0VECpoUJ8gv0gg+Unxzg8xmxJoA7jAwAAA4lUto\n",
       "1aFFcAAAAABJRU5ErkJggg==\n",
       "\" style=\"display:inline;vertical-align:middle;\" /></a></td></tr>\n",
       "<tr><td>9</td><td>Literal</td><td></td><td><a class=\"ProveItLink\" href=\"../../negation/__pv_it/7bea79645543c2413aa17e787cca04e21046fde60/expr.ipynb\"><img src=\"data:image/png;base64,iVBORw0KGgoAAAANSUhEUgAAAAwAAAAGBAMAAAAFwGKyAAAAFVBMVEX///9UVFTMzMx2dnYiIiJm\n",
       "ZmYAAACWz4ZEAAAAAXRSTlMAQObYZgAAABRJREFUCNdjCHEBAmcGMFDEQzEBAEl+Ai6uYJv/AAAA\n",
       "AElFTkSuQmCC\n",
       "\" style=\"display:inline;vertical-align:middle;\" /></a></td></tr>\n",
       "<tr><td>10</td><td>Variable</td><td></td><td><a class=\"ProveItLink\" href=\"../../../../__pv_it/2cbe72a7ad6f655694dd697106680215e8489b600/expr.ipynb\"><img src=\"data:image/png;base64,iVBORw0KGgoAAAANSUhEUgAAAA8AAAAOBAMAAAACpFvcAAAALVBMVEX///8QEBBERERUVFS6urqI\n",
       "iIhmZmaqqqrc3Nzu7u6YmJgyMjIiIiLMzMwAAADtIaYWAAAAAXRSTlMAQObYZgAAAFtJREFUCNdj\n",
       "YACBOwxQsA9Kc52bAGG05zVAGAFxDmCaZULdAjBjCsO9ADDDgaEvAUTzGhvbKYCVMDAwbgAxChgY\n",
       "eASANAeQwf0AyJgNxEwvGRia5HYwcOm9TgAA6BoR3jrzwFcAAAAASUVORK5CYII=\n",
       "\" style=\"display:inline;vertical-align:middle;\" /></a></td></tr>\n",
       "<tr><td>11</td><td>Literal</td><td></td><td><a class=\"ProveItLink\" href=\"../46271c8230be96415d662709611f4ed2279d702b0/expr.ipynb\"><img src=\"data:image/png;base64,iVBORw0KGgoAAAANSUhEUgAAAA0AAAAOBAMAAAAGUYvhAAAAMFBMVEX///9mZmbMzMzc3NxUVFSY\n",
       "mJju7u6IiIi6urqqqqoiIiIQEBBEREQyMjJ2dnYAAAAQvcRZAAAAAXRSTlMAQObYZgAAAElJREFU\n",
       "CNdjePvn/u01ExgYGA60s117B6YZKngh9FSWBAjfBsxnWnoMRHet/10AkS+fA6F5OB5AaIYDqDRU\n",
       "PLCGgQFoz6ktExgAgLIl8DFvGtkAAAAASUVORK5CYII=\n",
       "\" style=\"display:inline;vertical-align:middle;\" /></a></td></tr>\n",
       "</table>\n"
      ],
      "text/plain": [
       "0. A -> (A or [not](A)) | A in BOOLEANS\n",
       "   core type: Lambda\n",
       "   parameter: 10\n",
       "   body: 1\n",
       "   conditions: 2\\n1. A or [not](A)\n",
       "   core type: Operation\n",
       "   operator: 3\n",
       "   operands: 4\n",
       "2. (A in BOOLEANS)\n",
       "   core type: ExprTuple\n",
       "   sub-expressions: 5\n",
       "3. or\n",
       "   core type: Literal\n",
       "   sub-expressions: \n",
       "4. (A , [not](A))\n",
       "   core type: ExprTuple\n",
       "   sub-expressions: 10, 6\n",
       "5. A in BOOLEANS\n",
       "   core type: Operation\n",
       "   operator: 7\n",
       "   operands: 8\n",
       "6. [not](A)\n",
       "   core type: Operation\n",
       "   operator: 9\n",
       "   operand: 10\n",
       "7. in\n",
       "   core type: Literal\n",
       "   sub-expressions: \n",
       "8. (A , BOOLEANS)\n",
       "   core type: ExprTuple\n",
       "   sub-expressions: 10, 11\n",
       "9. not\n",
       "   core type: Literal\n",
       "   sub-expressions: \n",
       "10. A\n",
       "    core type: Variable\n",
       "    sub-expressions: \n",
       "11. BOOLEANS\n",
       "    core type: Literal\n",
       "    sub-expressions: "
      ]
     },
     "execution_count": 4,
     "metadata": {},
     "output_type": "execute_result"
    }
   ],
   "source": [
    "# display the expression information\n",
    "expr.exprInfo()"
   ]
  },
  {
   "cell_type": "code",
   "execution_count": null,
   "metadata": {},
   "outputs": [],
   "source": []
  }
 ],
 "metadata": {
  "kernelspec": {
   "display_name": "Python 3",
   "language": "python",
   "name": "python3"
  }
 },
 "nbformat": 4,
 "nbformat_minor": 0
}
