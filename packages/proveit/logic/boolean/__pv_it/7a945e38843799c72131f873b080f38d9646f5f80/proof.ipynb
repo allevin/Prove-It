{
 "cells": [
  {
   "cell_type": "markdown",
   "metadata": {},
   "source": [
    "Show the Proof\n",
    "========"
   ]
  },
  {
   "cell_type": "code",
   "execution_count": 1,
   "metadata": {},
   "outputs": [
    {
     "data": {
      "text/html": [
       "<table><tr><th>&nbsp;</th><th>step type</th><th>requirements</th><th>statement</th></tr>\n",
       "<tr><td>0</td><td>specialization</td><td>1</td><td><span style=\"font-size:20px;\"> <a class=\"ProveItLink\" href=\"proof.ipynb\" style=\"text-decoration: none\">&#x22A2;&nbsp;</a><a class=\"ProveItLink\" href=\"../a4b0c4f143ec6deb5d608ef34125a274cab8bd460/expr.ipynb\"><img src=\"data:image/png;base64,iVBORw0KGgoAAAANSUhEUgAAAR0AAAAVBAMAAACJYCeRAAAAMFBMVEX////c3NwiIiJERESqqqqY\n",
       "mJh2dnZmZmYQEBDu7u4yMjJUVFTMzMyIiIi6uroAAAAs73DqAAAAAXRSTlMAQObYZgAAAwpJREFU\n",
       "SMfNVj1oFEEUns39x73zwHQheJzNxcYTIohNrhNsPAykEJTrrALBwkIUY7BRiC4WEg6UUwghEcwJ\n",
       "WugFPWJhYZErLCOeFqKCoAQRD0x8P7O3tzM7u9j54Judn535vpk382aE+N8s1wlrPRtQ900ixBLd\n",
       "f6NhIiJ7w+UNf3Ny7VhvfkKIVFvraTcZmC0obakiWVlcUnsF05CNUc+2JFvhyjXlp1iuU79TE6Kh\n",
       "dR92GJj9ro9uz1IL5WmVbMoaaNBeU9pgZHkdE4ccTU+2C+3TWvd3EmCnfpv0JGqYrrv/G2k8PdOM\n",
       "NP8wciXPjXcfFA9KPfHqMyEWte7XJYSwjv8w6cnMYfoKk3FMVBpdzyLjK9d13vMOtJccb30+lOFb\n",
       "UTdmg4GTzu6Y9IgJ8hqwx6ms0AToQSLABSZxTlYps8/x/LUxBYXkrLplawywL/GfRj3nMEEtw7Qi\n",
       "Ck2AHiQCLFHhnthkBx/29k9xdwGHpKW4uIr2kOZcZYBPuvYfUkiNq02fnhNC+op8ptAMDNfXg0SA\n",
       "m/Ig7Ge3lwf381so5eaU2aS7DGgS1i/j+nx29/4LyvhpgtYHiQC0A+xW6yUpyc1D9HD3syh/gib1\n",
       "SO/tMiCktFrbRj2blA6JDG81P02QHiQC7PBMRbrhxrr++ohyLFQPJDci9KQqyaqnp08Touca5mFr\n",
       "D5FfMgVVD/vrPIXdA+SvCkPEASVfUNb9ZTWGuNZPMzCc6q8j2KvSD7VPfXrAXwl1QrEqQ4wEh1up\n",
       "5zSX1s/wV6EJWB8kAuC5rCMNh9rbXU9P4nI54LzLc8kbY9IJPe9wusZFvzhAYz7vHyHm3LovEpM9\n",
       "Gsdabrv36XbpCR5vNYDlCgTraC8vpnaXdT0cmx7Jy05OR6HxDFxXItchESCtBPD4cz5frun3xVWJ\n",
       "UMvIMGHLBUzno3rI+4IvPrPNaDXy4gu3pPLciaJhohnvIWCaZ+h7w2x1tWIlakEbkmw09Lc9+jpb\n",
       "TUaoPVYrRiM6IBGRWaEPyS3De24sfPSs9qy0It6rW4y/B2fwDfSGpkQAAAAASUVORK5CYII=\n",
       "\" style=\"display:inline;vertical-align:middle;\" /></a></span></td></tr>\n",
       "<tr><td>&nbsp;</td><td colspan=4 style=\"text-align:left\"><span style=\"font-size:20px;\"><a class=\"ProveItLink\" href=\"../../../../__pv_it/2cbe72a7ad6f655694dd697106680215e8489b600/expr.ipynb\"><img src=\"data:image/png;base64,iVBORw0KGgoAAAANSUhEUgAAAA8AAAAOBAMAAAACpFvcAAAALVBMVEX///8QEBBERERUVFS6urqI\n",
       "iIhmZmaqqqrc3Nzu7u6YmJgyMjIiIiLMzMwAAADtIaYWAAAAAXRSTlMAQObYZgAAAFtJREFUCNdj\n",
       "YACBOwxQsA9Kc52bAGG05zVAGAFxDmCaZULdAjBjCsO9ADDDgaEvAUTzGhvbKYCVMDAwbgAxChgY\n",
       "eASANAeQwf0AyJgNxEwvGRia5HYwcOm9TgAA6BoR3jrzwFcAAAAASUVORK5CYII=\n",
       "\" style=\"display:inline;vertical-align:middle;\" /></a> : <a class=\"ProveItLink\" href=\"../../../../__pv_it/2cbe72a7ad6f655694dd697106680215e8489b600/expr.ipynb\"><img src=\"data:image/png;base64,iVBORw0KGgoAAAANSUhEUgAAAA8AAAAOBAMAAAACpFvcAAAALVBMVEX///8QEBBERERUVFS6urqI\n",
       "iIhmZmaqqqrc3Nzu7u6YmJgyMjIiIiLMzMwAAADtIaYWAAAAAXRSTlMAQObYZgAAAFtJREFUCNdj\n",
       "YACBOwxQsA9Kc52bAGG05zVAGAFxDmCaZULdAjBjCsO9ADDDgaEvAUTzGhvbKYCVMDAwbgAxChgY\n",
       "eASANAeQwf0AyJgNxEwvGRia5HYwcOm9TgAA6BoR3jrzwFcAAAAASUVORK5CYII=\n",
       "\" style=\"display:inline;vertical-align:middle;\" /></a></span></td></tr><tr><td>1</td><td>theorem</td><td></td><td><span style=\"font-size:20px;\"> <a class=\"ProveItLink\" href=\"../../_proofs_/inBoolDef.ipynb\" style=\"text-decoration: none\">&#x22A2;&nbsp;</a><a class=\"ProveItLink\" href=\"../e4b2da0c82a93edf3fb4a80ce58edbf8f34075a60/expr.ipynb\"><img src=\"data:image/png;base64,iVBORw0KGgoAAAANSUhEUgAAAVMAAAAVBAMAAAAJExCCAAAAMFBMVEX///8QEBC6urrMzMxUVFRm\n",
       "ZmZERETc3NwyMjKqqqp2dnaIiIiYmJgiIiLu7u4AAAAU9Wx4AAAAAXRSTlMAQObYZgAAA5FJREFU\n",
       "SMfVVk1oU0EQniRNnkleYvGiImoKguIfPWjxUlpsQLzYQBFEKcZLa0FsDtJaihhEaQ/a5mDBm70U\n",
       "kYIEvCgeGjwUbVFaoR7E1FS0FEGQgrGgWHdmd/P+dl/ODnybl939dr7dnZ1dgP/HKoq6YJFDby8V\n",
       "dYcEfMxMqUj1HEksYMW8s/2YALNWZ0ts/PLG7j6AcLNn0FA7B34uuNrCZbIsdClIKgLaMDGbLTzG\n",
       "ijFnpzGratzFjwSLa98mAfKekbdUOPDzh9dxKEMt9E1rG5IkDQGOU5m3MMB+jKyjT7zIgTv2qeKR\n",
       "Gk8x2pxn5BcCzN781Uk1J7HskP39CELqnAWcV7jg6BOocDAbupij3+SzcjkvpEZLZwBWPCPvEWAz\n",
       "n/ilk5psxLIFi2XwJwipKxbMR4ODN5x9DggwK87wg3DirW1V97NNiBTcRzHPgbsSX9dJhT7abzb/\n",
       "aAb8CUIqOpKo9vR8cPY5L8CGqjws0bSv2gKgdZateCzjPjmTHMyORv9opU5hgTJRri9BSEVHEixw\n",
       "eqlyRPa5KwDwGdooZiM5S2p5cxd6o/U4N4p2m1aqxME2ORX6TeKpcbTdIfUBiM1vkSSLYB+uJhUd\n",
       "SeyDJLk1a5uwTQCP6k3ysOo4Vs9ZAAQbXWsQSHGwJjB+ale1SR7Bk5KkIwip6EgiAXGa29faJqwL\n",
       "QCid7qTk0IRZUR4ryB5kTe70sjXFwTJyOl3VSm2jMiGWx48gpKIjiXgpQaf9yZJHapDNOw/WfSCl\n",
       "RnylsmJHHanhQqxkSVUTFFKTeRISKvbIPjsFgB26BG30d49UHgDddAm9p70scECUYdFxRXkDwMgn\n",
       "QJIsgn04ZQBAL4VNA3RLOVcEjIK8RxpKDqksAEz3dRUpccCQ4o6zpL7i/zrmayQdQUhFRxIwQRfw\n",
       "a5iRfaYE1nAwukeS72xSzQtZRbKSCYWCsL/im6zY+V+ukXQERbKCAOaj5NLZWvcjHAN7R8Ds3yAX\n",
       "17tqz5Xq4mlMM+43UnCBYFzayMHs5h2vVJ5Cb4kHQ0aSNAQWC4sUC+hIAkyUGM5Bm3wtBXIcdrt/\n",
       "r+zYcu/Ful3A15Iix4UqFsnfbBersMPsOMqAxDcFf1fobdpTI98VvhYrekn1HU3bHX6pgtH5UfEI\n",
       "1K2O7yNQb2sKUl1HEiq7JqC3hpynymjn8LVTClJdRxIqM4ocenuqebUP+zuONyuf+nUcCfwDov0k\n",
       "9Q88fGgAAAAASUVORK5CYII=\n",
       "\" style=\"display:inline;vertical-align:middle;\" /></a></span></td></tr>\n",
       "<tr><td>&nbsp;</td><td colspan=4 style-\"text-align:left\"><a class=\"ProveItLink\" href=\"../../_proofs_/inBoolDef.ipynb\">proveit.logic.boolean.inBoolDef</a></td></tr></table>"
      ],
      "text/plain": [
       "<proveit._core_.proof._ShowProof at 0x7f94ebfd37b8>"
      ]
     },
     "execution_count": 1,
     "metadata": {},
     "output_type": "execute_result"
    }
   ],
   "source": [
    "import proveit\n",
    "%show_proof"
   ]
  },
  {
   "cell_type": "code",
   "execution_count": null,
   "metadata": {},
   "outputs": [],
   "source": []
  }
 ],
 "metadata": {
  "kernelspec": {
   "display_name": "Python 3",
   "language": "python",
   "name": "python3"
  }
 },
 "nbformat": 4,
 "nbformat_minor": 0
}
