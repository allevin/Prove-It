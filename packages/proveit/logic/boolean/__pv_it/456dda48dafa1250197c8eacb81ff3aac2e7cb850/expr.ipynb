{
 "cells": [
  {
   "cell_type": "markdown",
   "metadata": {},
   "source": [
    "Expression of type <a class=\"ProveItLink\" href=\"../../../../../../doc/html/api/proveit.ExprTuple.html\">ExprTuple</a>\n",
    "=======================\n",
    "# from context <a class=\"ProveItLink\" href=\"../../_context_.ipynb\">proveit.logic.boolean</a>"
   ]
  },
  {
   "cell_type": "code",
   "execution_count": 1,
   "metadata": {},
   "outputs": [],
   "source": [
    "# import Expression classes needed to build the expression\n",
    "from proveit import ExprTuple\n",
    "from proveit._common_ import QofA"
   ]
  },
  {
   "cell_type": "code",
   "execution_count": 2,
   "metadata": {},
   "outputs": [
    {
     "data": {
      "text/html": [
       "<strong id=\"expr\">expr:</strong> <a class=\"ProveItLink\" href=\"expr.ipynb\"><img src=\"data:image/png;base64,iVBORw0KGgoAAAANSUhEUgAAAD8AAAAVBAMAAAADRiu8AAAAMFBMVEX////c3NwiIiJERESqqqqY\n",
       "mJh2dnZmZmYQEBDu7u4yMjJUVFTMzMyIiIi6uroAAAAs73DqAAAAAXRSTlMAQObYZgAAAYFJREFU\n",
       "KM+FUj1LA0EQfWeSy4dJDCg2KbSwV0GxEUxtEysLEQkiWEgg1VVCrtBWU4lYyIkEFMSv0hQJVoEU\n",
       "yQ9QPKzEKqAWEYm+2b1cEAQHdmfffOzM21ngX0m2/kYhF1iTQ0O2UWtLexrae8+1DYRr1Odc5gVw\n",
       "W4KHKFdcMS4HSDAzespz5BoayfWTjA7lgGXaeYyN0xjuQCPKSDHFNBs4BF6Ji1LK7EIjSuuJHWIG\n",
       "CGRgAcabGM13bpamUsouUW3SWECZl3+INfDFrawCjtGUXhaBoIM9YECqY4glBVFcjBWoXniXja7n\n",
       "QpZNCwLilUp1irrJY1sFCAmclXoBSbJx/IAdsmwTBaUFQUCGVW2/xCx9XeOxVhdigmBkvJwVPpYj\n",
       "XLB+gI1p1Z6gI6HU8Wk+S9G7/ATiEkA0vH+C0MInaVzyJheRlEqdx6ooDynxnlpGQplLOmpKuX6A\n",
       "ycfK+wOufqsme+OG7iUqWWmF6rvamu4H3ACDUtH49eX6KMERPwA/dutjcKJNzjUAAAAASUVORK5C\n",
       "YII=\n",
       "\" style=\"display:inline;vertical-align:middle;\" /></a><br>"
      ],
      "text/plain": [
       "expr: (Q(A))"
      ]
     },
     "execution_count": 2,
     "metadata": {},
     "output_type": "execute_result"
    }
   ],
   "source": [
    "# build up the expression from sub-expressions\n",
    "expr = ExprTuple(QofA)"
   ]
  },
  {
   "cell_type": "code",
   "execution_count": 3,
   "metadata": {},
   "outputs": [
    {
     "name": "stdout",
     "output_type": "stream",
     "text": [
      "Passed sanity check: built 'expr' is the same as the stored Expression.\n"
     ]
    }
   ],
   "source": [
    "# check that the built expression is the same as the stored expression\n",
    "%check_expr"
   ]
  },
  {
   "cell_type": "code",
   "execution_count": 4,
   "metadata": {},
   "outputs": [
    {
     "data": {
      "text/html": [
       "<table><tr><th>&nbsp;</th><th>core type</th><th>sub-expressions</th><th>expression</th></tr>\n",
       "<tr><td>0</td><td>ExprTuple</td><td>1</td><td><a class=\"ProveItLink\" href=\"expr.ipynb\"><img src=\"data:image/png;base64,iVBORw0KGgoAAAANSUhEUgAAAD8AAAAVBAMAAAADRiu8AAAAMFBMVEX////c3NwiIiJERESqqqqY\n",
       "mJh2dnZmZmYQEBDu7u4yMjJUVFTMzMyIiIi6uroAAAAs73DqAAAAAXRSTlMAQObYZgAAAYFJREFU\n",
       "KM+FUj1LA0EQfWeSy4dJDCg2KbSwV0GxEUxtEysLEQkiWEgg1VVCrtBWU4lYyIkEFMSv0hQJVoEU\n",
       "yQ9QPKzEKqAWEYm+2b1cEAQHdmfffOzM21ngX0m2/kYhF1iTQ0O2UWtLexrae8+1DYRr1Odc5gVw\n",
       "W4KHKFdcMS4HSDAzespz5BoayfWTjA7lgGXaeYyN0xjuQCPKSDHFNBs4BF6Ji1LK7EIjSuuJHWIG\n",
       "CGRgAcabGM13bpamUsouUW3SWECZl3+INfDFrawCjtGUXhaBoIM9YECqY4glBVFcjBWoXniXja7n\n",
       "QpZNCwLilUp1irrJY1sFCAmclXoBSbJx/IAdsmwTBaUFQUCGVW2/xCx9XeOxVhdigmBkvJwVPpYj\n",
       "XLB+gI1p1Z6gI6HU8Wk+S9G7/ATiEkA0vH+C0MInaVzyJheRlEqdx6ooDynxnlpGQplLOmpKuX6A\n",
       "ycfK+wOufqsme+OG7iUqWWmF6rvamu4H3ACDUtH49eX6KMERPwA/dutjcKJNzjUAAAAASUVORK5C\n",
       "YII=\n",
       "\" style=\"display:inline;vertical-align:middle;\" /></a></td></tr>\n",
       "<tr><td>1</td><td>Operation</td><td>operator:&nbsp;2<br>operand:&nbsp;3<br></td><td><a class=\"ProveItLink\" href=\"../../../../__pv_it/cdde746c2742536efa2c676f92c97c50cbb392360/expr.ipynb\"><img src=\"data:image/png;base64,iVBORw0KGgoAAAANSUhEUgAAADEAAAAVBAMAAAAdjxsPAAAAMFBMVEX///+YmJiqqqq6uroQEBBE\n",
       "RETu7u4iIiLMzMwyMjKIiIhUVFRmZmZ2dnbc3NwAAADS0us6AAAAAXRSTlMAQObYZgAAATZJREFU\n",
       "KM9jYCAKWMFZwmCS787dXWAGxwYIVcDAwNMAYt1sYOAuAzE4E8AynB+AxAQgzgwAEt4goVUQk8S/\n",
       "AQlZIJ4O4p0HKXeDGK7zD0imAE38AeLeN2BgYJ4AluHi+gwkWRUY3geAZRSAai6AZcyYPgJJ3gMM\n",
       "5wVA3HigWzjBLDYDjl9AimkCQz3YQV+AmMUAxGJm4PsDohzAYgxMf4EEP1ime/furyBPfWD4DvaC\n",
       "G1wGSHhCZOaDuPogL7MogHQDcQnENH2DVys4nEHSrCAXPAJikGLGCQy8ZRd4VR8wQBzKwAbyU3wC\n",
       "hGM9d7kCA8g05gIGvpCfDxhE/88B2gy2lLWBERy0fkgRkgImWQ9YgmlZJJlbYJL7/2cGpFgAhwQk\n",
       "DDlcBCChvAEuw/0ANbZfwVkrGBgAkEREnzYbeDMAAAAASUVORK5CYII=\n",
       "\" style=\"display:inline;vertical-align:middle;\" /></a></td></tr>\n",
       "<tr><td>2</td><td>Variable</td><td></td><td><a class=\"ProveItLink\" href=\"../../../../__pv_it/98124f92e6e1fc3772af50ac63eaa1f5624776f20/expr.ipynb\"><img src=\"data:image/png;base64,iVBORw0KGgoAAAANSUhEUgAAAA8AAAASBAMAAAB2sJk8AAAAMFBMVEX///+YmJiqqqq6uroQEBBE\n",
       "RETu7u4iIiLMzMwyMjKIiIhUVFRmZmZ2dnbc3NwAAADS0us6AAAAAXRSTlMAQObYZgAAAHxJREFU\n",
       "CNdjYGDgu3N3FwMI3Gxg4C4D0pkBQMIbiKeDRM8nMPD8ADHuGzC8DwAzFBjOC4AY8Q0M9Qkgxhcw\n",
       "YmBg+svA8B3E4HRjYJgPYug3ALHBqxUczkAOb9kFXtUHIGHrucsVGBrAtrI2MEIZByzBNAP3/88Q\n",
       "BocL0BoActoerD1tNT4AAAAASUVORK5CYII=\n",
       "\" style=\"display:inline;vertical-align:middle;\" /></a></td></tr>\n",
       "<tr><td>3</td><td>Variable</td><td></td><td><a class=\"ProveItLink\" href=\"../../../../__pv_it/2cbe72a7ad6f655694dd697106680215e8489b600/expr.ipynb\"><img src=\"data:image/png;base64,iVBORw0KGgoAAAANSUhEUgAAAA8AAAAOBAMAAAACpFvcAAAALVBMVEX///8QEBBERERUVFS6urqI\n",
       "iIhmZmaqqqrc3Nzu7u6YmJgyMjIiIiLMzMwAAADtIaYWAAAAAXRSTlMAQObYZgAAAFtJREFUCNdj\n",
       "YACBOwxQsA9Kc52bAGG05zVAGAFxDmCaZULdAjBjCsO9ADDDgaEvAUTzGhvbKYCVMDAwbgAxChgY\n",
       "eASANAeQwf0AyJgNxEwvGRia5HYwcOm9TgAA6BoR3jrzwFcAAAAASUVORK5CYII=\n",
       "\" style=\"display:inline;vertical-align:middle;\" /></a></td></tr>\n",
       "</table>\n"
      ],
      "text/plain": [
       "0. (Q(A))\n",
       "   core type: ExprTuple\n",
       "   sub-expressions: 1\n",
       "1. Q(A)\n",
       "   core type: Operation\n",
       "   operator: 2\n",
       "   operand: 3\n",
       "2. Q\n",
       "   core type: Variable\n",
       "   sub-expressions: \n",
       "3. A\n",
       "   core type: Variable\n",
       "   sub-expressions: "
      ]
     },
     "execution_count": 4,
     "metadata": {},
     "output_type": "execute_result"
    }
   ],
   "source": [
    "# display the expression information\n",
    "expr.exprInfo()"
   ]
  },
  {
   "cell_type": "code",
   "execution_count": null,
   "metadata": {},
   "outputs": [],
   "source": []
  }
 ],
 "metadata": {
  "kernelspec": {
   "display_name": "Python 3",
   "language": "python",
   "name": "python3"
  }
 },
 "nbformat": 4,
 "nbformat_minor": 0
}
