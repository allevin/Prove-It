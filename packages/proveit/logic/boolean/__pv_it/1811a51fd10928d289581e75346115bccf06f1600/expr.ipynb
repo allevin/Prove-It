{
 "cells": [
  {
   "cell_type": "markdown",
   "metadata": {},
   "source": [
    "Expression of type <a class=\"ProveItLink\" href=\"../../../../../../doc/html/api/proveit.Lambda.html\">Lambda</a>\n",
    "=======================\n",
    "# from context <a class=\"ProveItLink\" href=\"../../_context_.ipynb\">proveit.logic.boolean</a>"
   ]
  },
  {
   "cell_type": "code",
   "execution_count": 1,
   "metadata": {},
   "outputs": [],
   "source": [
    "# import Expression classes needed to build the expression\n",
    "from proveit import Lambda\n",
    "from proveit._common_ import A, B, C\n",
    "from proveit.logic import Implies"
   ]
  },
  {
   "cell_type": "code",
   "execution_count": 2,
   "metadata": {},
   "outputs": [
    {
     "data": {
      "text/html": [
       "<strong id=\"expr\">expr:</strong> <a class=\"ProveItLink\" href=\"expr.ipynb\"><img src=\"data:image/png;base64,iVBORw0KGgoAAAANSUhEUgAAANwAAAAVCAMAAAAaY3DPAAAANlBMVEX///8UFBQNDQ3MzMyqqqoi\n",
       "IiIyMjK6uroQEBB2dnbc3NyYmJhmZmZUVFRERESIiIju7u4AAAAKhZlwAAAAAXRSTlMAQObYZgAA\n",
       "Af9JREFUWMPtmEly4zAMRZlwFGfc/7KtWRQEyIzbC1Uq2Kjs+n7BJwiQihAfCuXF743BPjWzWnKK\n",
       "MQgf39aT5qT+3xxCAkhjZGPfBA0uTA8bl+frKhF60pyB/spzObg8PyLYd0DV6Lp+Dz2NQ+spc0FD\n",
       "JQmdzLn4UNZn6iFhkHGbxLqepaH1hDmvIr1apvYxpygrIsDQQ0KgCGrPpqflGD1hroyZkXvJpj7m\n",
       "FHk1q13tICGQB3PUVO4LcB7zqikHqafM2SoU0E08lHOJGeYUy270JtcOEgZF8u+jKZdqszah7yio\n",
       "9miY+Ye6CYjn9WYH2dhqpZSoWwFPwiBNtgUyV5O/1xPm7LyS3EZX7WjX/CBbW67qJDpIGARAzZ7v\n",
       "L30KtzcPrb+ak9PplCDzM9dZ8YLZtFzhi9uQMMgdn5XkKifSngitv5pbPjrDbTczHDY45t5y3LDE\n",
       "JAxKx1EU2W0Zj2rT+os5tc04ulP0aT5wzKnlwiZRHSQMOnq+WUpkTpbroXrWY3Ne3V5RVCIP6o1Z\n",
       "L6dcOwZvSJfkwrImNvrTEcXeA0g9Mle3VDJ5RfE40zOzgkYtJ52hTwJMuiQnkxkvmqr7FkjrG3M+\n",
       "OzATPWQAQ8zL7G+Z1a31inm5NRvDTZML6admPv/KI18JrP8U6YHvc0E8K/7MdUZ52st8eeC/Gf4B\n",
       "yG8aY4ozULIAAAAASUVORK5CYII=\n",
       "\" style=\"display:inline;vertical-align:middle;\" /></a><br>"
      ],
      "text/plain": [
       "expr: C -> C | A => C , B => C"
      ]
     },
     "execution_count": 2,
     "metadata": {},
     "output_type": "execute_result"
    }
   ],
   "source": [
    "# build up the expression from sub-expressions\n",
    "expr = Lambda(C, C, conditions = [Implies(A, C), Implies(B, C)])"
   ]
  },
  {
   "cell_type": "code",
   "execution_count": 3,
   "metadata": {},
   "outputs": [
    {
     "name": "stdout",
     "output_type": "stream",
     "text": [
      "Passed sanity check: built 'expr' is the same as the stored Expression.\n"
     ]
    }
   ],
   "source": [
    "# check that the built expression is the same as the stored expression\n",
    "%check_expr"
   ]
  },
  {
   "cell_type": "code",
   "execution_count": 4,
   "metadata": {},
   "outputs": [
    {
     "data": {
      "text/html": [
       "<table><tr><th>&nbsp;</th><th>core type</th><th>sub-expressions</th><th>expression</th></tr>\n",
       "<tr><td>0</td><td>Lambda</td><td>parameter:&nbsp;9<br>body:&nbsp;9<br>conditions:&nbsp;1<br></td><td><a class=\"ProveItLink\" href=\"expr.ipynb\"><img src=\"data:image/png;base64,iVBORw0KGgoAAAANSUhEUgAAANwAAAAVCAMAAAAaY3DPAAAANlBMVEX///8UFBQNDQ3MzMyqqqoi\n",
       "IiIyMjK6uroQEBB2dnbc3NyYmJhmZmZUVFRERESIiIju7u4AAAAKhZlwAAAAAXRSTlMAQObYZgAA\n",
       "Af9JREFUWMPtmEly4zAMRZlwFGfc/7KtWRQEyIzbC1Uq2Kjs+n7BJwiQihAfCuXF743BPjWzWnKK\n",
       "MQgf39aT5qT+3xxCAkhjZGPfBA0uTA8bl+frKhF60pyB/spzObg8PyLYd0DV6Lp+Dz2NQ+spc0FD\n",
       "JQmdzLn4UNZn6iFhkHGbxLqepaH1hDmvIr1apvYxpygrIsDQQ0KgCGrPpqflGD1hroyZkXvJpj7m\n",
       "FHk1q13tICGQB3PUVO4LcB7zqikHqafM2SoU0E08lHOJGeYUy270JtcOEgZF8u+jKZdqszah7yio\n",
       "9miY+Ye6CYjn9WYH2dhqpZSoWwFPwiBNtgUyV5O/1xPm7LyS3EZX7WjX/CBbW67qJDpIGARAzZ7v\n",
       "L30KtzcPrb+ak9PplCDzM9dZ8YLZtFzhi9uQMMgdn5XkKifSngitv5pbPjrDbTczHDY45t5y3LDE\n",
       "JAxKx1EU2W0Zj2rT+os5tc04ulP0aT5wzKnlwiZRHSQMOnq+WUpkTpbroXrWY3Ne3V5RVCIP6o1Z\n",
       "L6dcOwZvSJfkwrImNvrTEcXeA0g9Mle3VDJ5RfE40zOzgkYtJ52hTwJMuiQnkxkvmqr7FkjrG3M+\n",
       "OzATPWQAQ8zL7G+Z1a31inm5NRvDTZML6admPv/KI18JrP8U6YHvc0E8K/7MdUZ52st8eeC/Gf4B\n",
       "yG8aY4ozULIAAAAASUVORK5CYII=\n",
       "\" style=\"display:inline;vertical-align:middle;\" /></a></td></tr>\n",
       "<tr><td>1</td><td>ExprTuple</td><td>2, 3</td><td><a class=\"ProveItLink\" href=\"../2e6baa781ccbfa5397ac04791ab347a38f19a46d0/expr.ipynb\"><img src=\"data:image/png;base64,iVBORw0KGgoAAAANSUhEUgAAAJYAAAAVBAMAAABWCwqnAAAAMFBMVEX////c3NwiIiJERESqqqqY\n",
       "mJh2dnZmZmYQEBDu7u4yMjJUVFTMzMyIiIi6uroAAAAs73DqAAAAAXRSTlMAQObYZgAAAiVJREFU\n",
       "OMtjYKAm4LtAFWNYHwCJ0xD2Iawq5lqXB4hDmNH/d++2eoBFDefl7aWMBQw1QOZKiMh6bEaxtTIw\n",
       "PG+FcpoZGNj/YVGUEcDAVxHAwMXAwAvxIqv+BIRFcMYioCDbRwiH5y8Q/8ZUNEsTSOQLMLAmMHBA\n",
       "zBCpF4Ar44IZy9UJCs8GCIcXaCbrN0xFK0CMF0DDGxheQUQu3EcEBd8GKKPeAUgAgwIMmIFmMnVi\n",
       "KGL/AiJBYWrCUAaRmeAfgAiBXAjF+AvsmQMQHv8GBsbFEzAUyS8AkXOAOJ1hKVhkHsN5cLgVKYGA\n",
       "PsQp7F+Rg/j83rtFEPtQFNXD3eDF0AemHzDIFyDp8wJ7mOkjsln3BRg4tRkwFOnDw/kFAziWeXbv\n",
       "3m+AnGRWgNTxf0COMAuQeQEYiv6D2SC/n4eYxcfAwLEASdmpTBDJATbLByoGSg7xCRiK+kEEywGw\n",
       "WS0gNjC+mBoQQaFkCVbM/RNEQv3OAwq8/Q4YivaDnMQO8aMpKMKASrg+IGz0RqROBrYJEF+Ckhck\n",
       "YlEVgeMM7MIoYEwCky4o+fyEq2KEeTfegYGvkIFhvgI0eZ1YyYChiBWYvp6Dwz+d4REDg3D/QgZW\n",
       "+1/wiGSGRQ3Pru0lQGoG0Ens9r9371qK5Cy4otOry8E+Z1jHwCGAkVl50AUeYsnRGIqAeYg1gXDZ\n",
       "FEBMAcZ2AV7mUGwWKNClCariJapg3QiKEOqU0bwHGADNWIqOf9dGkAAAAABJRU5ErkJggg==\n",
       "\" style=\"display:inline;vertical-align:middle;\" /></a></td></tr>\n",
       "<tr><td>2</td><td>Operation</td><td>operator:&nbsp;5<br>operands:&nbsp;4<br></td><td><a class=\"ProveItLink\" href=\"../666bca2c98a55cab9264db49b27aa7da3ed1ce280/expr.ipynb\"><img src=\"data:image/png;base64,iVBORw0KGgoAAAANSUhEUgAAAD8AAAAPBAMAAAChCwpBAAAAMFBMVEX///92dnYQEBBERERUVFS6\n",
       "urqIiIhmZmaqqqrc3Nzu7u6YmJgyMjIiIiLMzMwAAACFkkdwAAAAAXRSTlMAQObYZgAAAOFJREFU\n",
       "GNNjYACBtwxYAFeyezVnAYR9HpsCoQ0MrEUbwEzu+wsQ+mCMNbeAhPwEMHtG/QS4Ah6Y2kMgRhCE\n",
       "nZAfAFfA6gCh2X+AyOkQsQX9GxBWi0Go+QdA5DoweynD+wQQXXsXBO5DHF6PpCeAYX4Bkut7wPbd\n",
       "RziLz8XF3wDZ/4dAKv6D2WAXszIwMB1AUvBGCkTqgwiOByCygYGBVwHhhrtWYGX+IM3sIBYnUAHP\n",
       "B4QBLRAK7G6wWWuAmPkXXJ4Tahs3MBzCQQ6drH+Sgdv+D9wbzDDXPzlS3oAtivjQ+AD0rD2U4WZv\n",
       "AQAAAABJRU5ErkJggg==\n",
       "\" style=\"display:inline;vertical-align:middle;\" /></a></td></tr>\n",
       "<tr><td>3</td><td>Operation</td><td>operator:&nbsp;5<br>operands:&nbsp;6<br></td><td><a class=\"ProveItLink\" href=\"../42830de3d5d651692ced1272b0fa0a601667b4020/expr.ipynb\"><img src=\"data:image/png;base64,iVBORw0KGgoAAAANSUhEUgAAAEEAAAAPBAMAAABJi79qAAAAMFBMVEX///+qqqru7u4iIiJ2dnbc\n",
       "3NyIiIjMzMxmZmYQEBC6uroyMjJERERUVFSYmJgAAADLUcuvAAAAAXRSTlMAQObYZgAAAPhJREFU\n",
       "GNNjYGB4+//u3dMLGDABU86NPtYGEGsOAwPHLywqPB8wcHU+ADLYvwHxX4ROGEPbCEj4BwAJtq8M\n",
       "DHxf4Cq4FaCMnSDGShCLZwIDA/MkuAquCxCa4yOIjAAR/BcYWPcoIKx3g1DxG0CkOoiov5bW/AAs\n",
       "2GwMAvZg5zP0P4DryQ9gYLJF9oM02Ov2AXCBkyBVD5DDYSdIyX8wG2w7yKPvHZBUVDuByPkggrEA\n",
       "FBz/gMR9AYQ7jA+B1d0HaedggAYH628kI2QhVH0CkHCCBUflJoQC1g0Qmg8YHitAruU4//fu7X1I\n",
       "RvDA/FC7t0OAARtgR+MDAAhbPiSyASIoAAAAAElFTkSuQmCC\n",
       "\" style=\"display:inline;vertical-align:middle;\" /></a></td></tr>\n",
       "<tr><td>4</td><td>ExprTuple</td><td>7, 9</td><td><a class=\"ProveItLink\" href=\"../64d36ff9aa3116e2d1fb41c420506ad5fe919f950/expr.ipynb\"><img src=\"data:image/png;base64,iVBORw0KGgoAAAANSUhEUgAAADUAAAAVBAMAAAAUZLt1AAAAMFBMVEX////c3NwiIiJERESqqqqY\n",
       "mJh2dnZmZmYQEBDu7u4yMjJUVFTMzMyIiIi6uroAAAAs73DqAAAAAXRSTlMAQObYZgAAAS1JREFU\n",
       "KM9jYMAH+C5gFY4DEach7ENwUc7L20sZC9gPAJkrISLr4XIZAQx8FQEMCxgYeCFGsupPgErN0gQS\n",
       "+QIMYQwMHBAxkXoBqNwKkMALBoYZDAyvICIX7j+AMNi/gEhxBgZmB4YyiGMn+AdA5OQXgMg5DAxs\n",
       "BQxLwSLzGM5DvVIPVcPAsoChD8x4wCBfABHSh9nL18DwD0Tz7N693wAi9B9MAt3D8wEixwd07wKI\n",
       "XD/YvANguRYQ24GBgakBIrcf5AV2iJmmQIoRKMf1AWwSxE2ZoNBYwJAOCgogZv7JwPkJJAT033OQ\n",
       "e4B+eMTAINy/kIHV/lcBZz9I7PTqcgeQ4VwPGDgEkKILiQ0KM9YEBJcVOQJzEXGELscJ8pM0go+c\n",
       "ArhB5jNiTxN3GBgAYvhEoGDobKYAAAAASUVORK5CYII=\n",
       "\" style=\"display:inline;vertical-align:middle;\" /></a></td></tr>\n",
       "<tr><td>5</td><td>Literal</td><td></td><td><a class=\"ProveItLink\" href=\"../../implication/__pv_it/e5c030cabcb650938f92dee8256fe11cd12bf9b30/expr.ipynb\"><img src=\"data:image/png;base64,iVBORw0KGgoAAAANSUhEUgAAABMAAAANBAMAAAC5okgUAAAALVBMVEX////c3NxERETMzMwQEBCq\n",
       "qqoiIiJmZmaIiIh2dnZUVFS6uroyMjLu7u4AAACPpZJTAAAAAXRSTlMAQObYZgAAAD1JREFUCNdj\n",
       "YAABXgY44LkAZ3IvQAjPABFlaSCQV4AQjtkAZ/IegbNt5sLUpunC5aPgLMYDcCaTAJzJDCIA2yMN\n",
       "HCCUuIIAAAAASUVORK5CYII=\n",
       "\" style=\"display:inline;vertical-align:middle;\" /></a></td></tr>\n",
       "<tr><td>6</td><td>ExprTuple</td><td>8, 9</td><td><a class=\"ProveItLink\" href=\"../dad23c4ce051fb8a92f116e8b4d54eeb5e4476f70/expr.ipynb\"><img src=\"data:image/png;base64,iVBORw0KGgoAAAANSUhEUgAAADcAAAAVBAMAAAAQkWtIAAAAMFBMVEX////c3NwiIiJERESqqqqY\n",
       "mJh2dnZmZmYQEBDu7u4yMjJUVFTMzMyIiIi6uroAAAAs73DqAAAAAXRSTlMAQObYZgAAAUFJREFU\n",
       "KM9jYMAL+C5gF48DEaeBmHX/792b18GEOS9vL2UsYD8AZK4E8TkMGBjqH0AlMwIY+CoCGBYwMPCC\n",
       "TT0PJM9vgMjN0gQS+QIMYUA9E0AC9wUYGOITIJIrQCIvGBhmMDC8AgtYALEGWBkD+xcQKc7AwOzA\n",
       "UAYW+c3AIGUJ0Si/AETOYWBgK2BYCmLy/L57XRXqnPoAKINlAUMfiOb9yMAwCeoefQFYADQw/APR\n",
       "zA1ABV8hYv/BJNB+ng8QSX6gLtZvEMl+sJEHwJItYG8C7eH+ApHcD3I0O8RYU5g3ga7khIUHQyYo\n",
       "TBcwpEO9ydM1gWG+AkgMaMJzkKOAXnkEpIr/7969CmjyjI/gmFhd7gCiuR4wcAggRdND5DgDBh9r\n",
       "AhI/AFkyFxZlWCQ5QcEojeDzImvkBtnHiCOZ3GFgAADrEU9ADAe1sgAAAABJRU5ErkJggg==\n",
       "\" style=\"display:inline;vertical-align:middle;\" /></a></td></tr>\n",
       "<tr><td>7</td><td>Variable</td><td></td><td><a class=\"ProveItLink\" href=\"../../../../__pv_it/2cbe72a7ad6f655694dd697106680215e8489b600/expr.ipynb\"><img src=\"data:image/png;base64,iVBORw0KGgoAAAANSUhEUgAAAA8AAAAOBAMAAAACpFvcAAAALVBMVEX///8QEBBERERUVFS6urqI\n",
       "iIhmZmaqqqrc3Nzu7u6YmJgyMjIiIiLMzMwAAADtIaYWAAAAAXRSTlMAQObYZgAAAFtJREFUCNdj\n",
       "YACBOwxQsA9Kc52bAGG05zVAGAFxDmCaZULdAjBjCsO9ADDDgaEvAUTzGhvbKYCVMDAwbgAxChgY\n",
       "eASANAeQwf0AyJgNxEwvGRia5HYwcOm9TgAA6BoR3jrzwFcAAAAASUVORK5CYII=\n",
       "\" style=\"display:inline;vertical-align:middle;\" /></a></td></tr>\n",
       "<tr><td>8</td><td>Variable</td><td></td><td><a class=\"ProveItLink\" href=\"../../../../__pv_it/077b2ff79244fb4582cbe22c6e3356fa92a52f2f0/expr.ipynb\"><img src=\"data:image/png;base64,iVBORw0KGgoAAAANSUhEUgAAABAAAAAOBAMAAADUAYG5AAAAMFBMVEX///+qqqru7u4iIiJ2dnbc\n",
       "3NyIiIjMzMxmZmYQEBC6uroyMjJERERUVFSYmJgAAADLUcuvAAAAAXRSTlMAQObYZgAAAGpJREFU\n",
       "CNdjYGB4+//u3dMLGIBgDgMDxy8gzf4NiP8CGWxfGRj4vgAZPBMYGJgnARn8FxhY9ygAGfXX0pof\n",
       "gDTlBzAw2YIYJ0EckBBI53sHoBH/gIz7AhBjWH9DjancBLTl/N+7t/cxMAAA3u4f/5xagjYAAAAA\n",
       "SUVORK5CYII=\n",
       "\" style=\"display:inline;vertical-align:middle;\" /></a></td></tr>\n",
       "<tr><td>9</td><td>Variable</td><td></td><td><a class=\"ProveItLink\" href=\"../../../../__pv_it/985a1bdf1540838275dec15f4ad6de261cca93ce0/expr.ipynb\"><img src=\"data:image/png;base64,iVBORw0KGgoAAAANSUhEUgAAAA8AAAAOBAMAAAACpFvcAAAAMFBMVEX////MzMyqqqoiIiIyMjK6\n",
       "uroQEBB2dnbc3NyYmJhmZmZUVFRERESIiIju7u4AAAB204erAAAAAXRSTlMAQObYZgAAAGZJREFU\n",
       "CNdjYGDgu7NrJccCBgaGsgkMrMsmMDA8sQNy6hsYGNweABlhDAxcn4A0QxcDQ78DiPGQgWH9BAYI\n",
       "sG+AMv6DSaCGfBDNJMDAsB+kmwuI5S8AiTog5gSaEwXWIO29SgFIAQBC+RaDQlidVgAAAABJRU5E\n",
       "rkJggg==\n",
       "\" style=\"display:inline;vertical-align:middle;\" /></a></td></tr>\n",
       "</table>\n"
      ],
      "text/plain": [
       "0. C -> C | A => C , B => C\n",
       "   core type: Lambda\n",
       "   parameter: 9\n",
       "   body: 9\n",
       "   conditions: 1\\n1. (A => C , B => C)\n",
       "   core type: ExprTuple\n",
       "   sub-expressions: 2, 3\n",
       "2. A => C\n",
       "   core type: Operation\n",
       "   operator: 5\n",
       "   operands: 4\n",
       "3. B => C\n",
       "   core type: Operation\n",
       "   operator: 5\n",
       "   operands: 6\n",
       "4. (A , C)\n",
       "   core type: ExprTuple\n",
       "   sub-expressions: 7, 9\n",
       "5. =>\n",
       "   core type: Literal\n",
       "   sub-expressions: \n",
       "6. (B , C)\n",
       "   core type: ExprTuple\n",
       "   sub-expressions: 8, 9\n",
       "7. A\n",
       "   core type: Variable\n",
       "   sub-expressions: \n",
       "8. B\n",
       "   core type: Variable\n",
       "   sub-expressions: \n",
       "9. C\n",
       "   core type: Variable\n",
       "   sub-expressions: "
      ]
     },
     "execution_count": 4,
     "metadata": {},
     "output_type": "execute_result"
    }
   ],
   "source": [
    "# display the expression information\n",
    "expr.exprInfo()"
   ]
  },
  {
   "cell_type": "code",
   "execution_count": null,
   "metadata": {},
   "outputs": [],
   "source": []
  }
 ],
 "metadata": {
  "kernelspec": {
   "display_name": "Python 3",
   "language": "python",
   "name": "python3"
  }
 },
 "nbformat": 4,
 "nbformat_minor": 0
}
