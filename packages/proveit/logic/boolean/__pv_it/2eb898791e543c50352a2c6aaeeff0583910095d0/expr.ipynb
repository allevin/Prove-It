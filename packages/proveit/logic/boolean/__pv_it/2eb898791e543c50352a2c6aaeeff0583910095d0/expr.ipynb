{
 "cells": [
  {
   "cell_type": "markdown",
   "metadata": {},
   "source": [
    "Expression of type <a class=\"ProveItLink\" href=\"../../../../../../doc/html/api/proveit.ExprTuple.html\">ExprTuple</a>\n",
    "=======================\n",
    "# from context <a class=\"ProveItLink\" href=\"../../_context_.ipynb\">proveit.logic.boolean</a>"
   ]
  },
  {
   "cell_type": "code",
   "execution_count": 1,
   "metadata": {},
   "outputs": [],
   "source": [
    "# import Expression classes needed to build the expression\n",
    "from proveit import ExprTuple\n",
    "from proveit.logic import Equals, FALSE, TRUE\n",
    "from proveit.logic._common_ import PofFalse, PofTrue"
   ]
  },
  {
   "cell_type": "code",
   "execution_count": 2,
   "metadata": {},
   "outputs": [
    {
     "data": {
      "text/html": [
       "<strong id=\"expr\">expr:</strong> <a class=\"ProveItLink\" href=\"expr.ipynb\"><img src=\"data:image/png;base64,iVBORw0KGgoAAAANSUhEUgAAANUAAAAVBAMAAAAjhrYEAAAAMFBMVEX////c3NwiIiJERESqqqqY\n",
       "mJh2dnZmZmYQEBDu7u4yMjJUVFTMzMyIiIi6uroAAAAs73DqAAAAAXRSTlMAQObYZgAAAjRJREFU\n",
       "SMe9Vj0sBEEUfnKO27XL9SIRChKNgkTnag2VQuGncZVESK4QBYlGw3UuGtsokMhRaC5CNArF6RGi\n",
       "EolEEMIlx7y3M3tv93bWaUyyu+/NN+/7dt68nVmA/2zNl+Fe/K5miifPGteOIeRCXFffhUJP0vUa\n",
       "O6j1wmJwuIdQs09KhcMDtKw83ttoyGmITAXZQesLILYMyrNm8W6GhLmI21ocgAF8QTOL7jl1OiFB\n",
       "HmJj0qx3gPp3kJ5kjE9GaxUFPoxjbhjjqFZLIAl8KbssqD9AepLRWIrWuhULOoH+KmPMabUE8ojP\n",
       "2DNA0xtITzH2RWsNiuskJcrJYYyxlE5LIBmV+i1c8wxnTEdriTU2XnHVJxljw6xOSyDbMvVWFxrb\n",
       "nHGI6meXWr5KC9f4DF1zhDHW0yQXKGbPpyWQNUr90XSGSn6NMz5EzssuTaen0EjcMcbmJd28BFKm\n",
       "1Gdld5kzFiO1Yp+q9rmW9azTEgixv8DftVra/6y1go8P1b1SlUP/ZsG0ispMpKpyOEcxncEc9svP\n",
       "y239nHFMN6+s+rzcZPLaiDu6eQkkzVMvy/yXmjdefGssy7yGmr8H2Bgsqd393mV0v5j9EC1EjPUk\n",
       "GPPfx+poaKekdVPSzODpwJFEkiPcC9ujJLsvBpaZndMeKrngDsu9hktdWNzv8v12Rqs1o04RrzFv\n",
       "E2rUMrOVXDi6GEJafV3MO9BqBSZcl/fMpqQuhpA6X2TFs09r/gdo86xr7RiB/AC8qqnB0FMlVgAA\n",
       "AABJRU5ErkJggg==\n",
       "\" style=\"display:inline;vertical-align:middle;\" /></a><br>"
      ],
      "text/plain": [
       "expr: (P(TRUE) = TRUE , P(FALSE) = FALSE)"
      ]
     },
     "execution_count": 2,
     "metadata": {},
     "output_type": "execute_result"
    }
   ],
   "source": [
    "# build up the expression from sub-expressions\n",
    "expr = ExprTuple(Equals(PofTrue, TRUE), Equals(PofFalse, FALSE))"
   ]
  },
  {
   "cell_type": "code",
   "execution_count": 3,
   "metadata": {},
   "outputs": [
    {
     "name": "stdout",
     "output_type": "stream",
     "text": [
      "Passed sanity check: built 'expr' is the same as the stored Expression.\n"
     ]
    }
   ],
   "source": [
    "# check that the built expression is the same as the stored expression\n",
    "%check_expr"
   ]
  },
  {
   "cell_type": "code",
   "execution_count": 4,
   "metadata": {},
   "outputs": [
    {
     "data": {
      "text/html": [
       "<table><tr><th>&nbsp;</th><th>core type</th><th>sub-expressions</th><th>expression</th></tr>\n",
       "<tr><td>0</td><td>ExprTuple</td><td>1, 2</td><td><a class=\"ProveItLink\" href=\"expr.ipynb\"><img src=\"data:image/png;base64,iVBORw0KGgoAAAANSUhEUgAAANUAAAAVBAMAAAAjhrYEAAAAMFBMVEX////c3NwiIiJERESqqqqY\n",
       "mJh2dnZmZmYQEBDu7u4yMjJUVFTMzMyIiIi6uroAAAAs73DqAAAAAXRSTlMAQObYZgAAAjRJREFU\n",
       "SMe9Vj0sBEEUfnKO27XL9SIRChKNgkTnag2VQuGncZVESK4QBYlGw3UuGtsokMhRaC5CNArF6RGi\n",
       "EolEEMIlx7y3M3tv93bWaUyyu+/NN+/7dt68nVmA/2zNl+Fe/K5miifPGteOIeRCXFffhUJP0vUa\n",
       "O6j1wmJwuIdQs09KhcMDtKw83ttoyGmITAXZQesLILYMyrNm8W6GhLmI21ocgAF8QTOL7jl1OiFB\n",
       "HmJj0qx3gPp3kJ5kjE9GaxUFPoxjbhjjqFZLIAl8KbssqD9AepLRWIrWuhULOoH+KmPMabUE8ojP\n",
       "2DNA0xtITzH2RWsNiuskJcrJYYyxlE5LIBmV+i1c8wxnTEdriTU2XnHVJxljw6xOSyDbMvVWFxrb\n",
       "nHGI6meXWr5KC9f4DF1zhDHW0yQXKGbPpyWQNUr90XSGSn6NMz5EzssuTaen0EjcMcbmJd28BFKm\n",
       "1Gdld5kzFiO1Yp+q9rmW9azTEgixv8DftVra/6y1go8P1b1SlUP/ZsG0ispMpKpyOEcxncEc9svP\n",
       "y239nHFMN6+s+rzcZPLaiDu6eQkkzVMvy/yXmjdefGssy7yGmr8H2Bgsqd393mV0v5j9EC1EjPUk\n",
       "GPPfx+poaKekdVPSzODpwJFEkiPcC9ujJLsvBpaZndMeKrngDsu9hktdWNzv8v12Rqs1o04RrzFv\n",
       "E2rUMrOVXDi6GEJafV3MO9BqBSZcl/fMpqQuhpA6X2TFs09r/gdo86xr7RiB/AC8qqnB0FMlVgAA\n",
       "AABJRU5ErkJggg==\n",
       "\" style=\"display:inline;vertical-align:middle;\" /></a></td></tr>\n",
       "<tr><td>1</td><td>Operation</td><td>operator:&nbsp;4<br>operands:&nbsp;3<br></td><td><a class=\"ProveItLink\" href=\"../ce65d805115ce8fdbd1982ee807d82503da75c1a0/expr.ipynb\"><img src=\"data:image/png;base64,iVBORw0KGgoAAAANSUhEUgAAAF4AAAAVBAMAAAA9Y0TyAAAAMFBMVEX////u7u5mZmaYmJi6urqq\n",
       "qqp2dnbMzMwQEBBEREQyMjLc3NwiIiJUVFSIiIgAAAAeC3ydAAAAAXRSTlMAQObYZgAAAQdJREFU\n",
       "KM9jYKAA+MFZzA64Vb39f/fu2Q1ABvsFBqYzYDCBQR1dlQ5Y4iSI+YuBgbMbSHMJgHjsCiCSC4vB\n",
       "RRCK/RsDAysQM7xjQKhnTsCpnu8LUPoTkNGIpJ6xAad6zg8MDLxfGRhYFiCpZ5iKUz0/UJ38BAYG\n",
       "pgRk9Uk41dcnMLAfAnnRAFl9FIhgWgUGF1DUv7+WpgYKTg4HZPUeOM2fLwB1F4r6epzq/zCQpJ79\n",
       "E5TLEYDhHnh0I6kHBT8kXFH8a4XLfM6PUC6bAjHhKTT/7wMIl+UARD0kGpZgqi9D43cjsbGlB3Rg\n",
       "hsRme0BYPZcAgi1FRPbivoBg3yYmP+6Ds/gKcCgBAHffR2GfdaaGAAAAAElFTkSuQmCC\n",
       "\" style=\"display:inline;vertical-align:middle;\" /></a></td></tr>\n",
       "<tr><td>2</td><td>Operation</td><td>operator:&nbsp;4<br>operands:&nbsp;5<br></td><td><a class=\"ProveItLink\" href=\"../e5e8fe8536ca1ef54efddc4c8053ee8e868825a50/expr.ipynb\"><img src=\"data:image/png;base64,iVBORw0KGgoAAAANSUhEUgAAAF4AAAAVBAMAAAA9Y0TyAAAAMFBMVEX////u7u5mZmaYmJi6urqq\n",
       "qqp2dnbMzMwQEBBEREQyMjLc3NwiIiJUVFSIiIgAAAAeC3ydAAAAAXRSTlMAQObYZgAAAQ1JREFU\n",
       "KM9jYKAA+MFZzA64Vb39f/fu2Q1ABvsFEJf7AYhUx6JwH5T+xcDA2Q2kuQRAPHYFEMmFRX0RhGL/\n",
       "xsDACsQM7xgQ6pkTcKrn+wKU/gRkNCKpZ2zAqZ7zAwMD71cGBpYFSOoZpuJUzw9UJz+BgYEpAVl9\n",
       "Ek719QkM7IdAXjRAVh8FIphWgcEFFPXvr6WpgYKTwwFZvQdO8+cLQN2For4ep/o/DCSpZ/8E5XIE\n",
       "YLiH6QwYTEBWDwp+SLii+NcKl/mcH6FcNgViwlNo/t8HEC7LAYgDesAOWIKmWOfMmRNnzpxEFupG\n",
       "YmNLD+jADInN9oCwei4BBFuKiOzFfQHBvk1MftwHZ/EV4FACAPQMR+k7bt4wAAAAAElFTkSuQmCC\n",
       "\" style=\"display:inline;vertical-align:middle;\" /></a></td></tr>\n",
       "<tr><td>3</td><td>ExprTuple</td><td>6, 8</td><td><a class=\"ProveItLink\" href=\"../5363929694b43ae1b3df096416c18d8afd42e6df0/expr.ipynb\"><img src=\"data:image/png;base64,iVBORw0KGgoAAAANSUhEUgAAAF0AAAAVBAMAAADWVP/xAAAAMFBMVEX////c3NwiIiJERESqqqqY\n",
       "mJh2dnZmZmYQEBDu7u4yMjJUVFTMzMyIiIi6uroAAAAs73DqAAAAAXRSTlMAQObYZgAAAVpJREFU\n",
       "KM+Vk6FPw1AQxj/SdVu3rszjQCAwE0wPzR+AQJAppkgWRBViJNOjjgVDzQSGBIOZmQKBGB6SLVME\n",
       "tSyEBUgK7957Hdc+EuCSd/e+u1/ay+Ue8F/z7n9W9thA98jdifPw2e9vlJXKrUqr4GjBHcrMGnID\n",
       "IS4o8w5Yx4iV2yRf4J++lT4EStSA+wpkxFFK83bd4HeAfEBYJMpzaKV5p2XwXeCZojUFii/QSvPY\n",
       "NHhrCz7FZdHYeUVcfM43DD7bRI/isA53nS49zm8bfCZEh+Loet+X4+xw/sngvRYiirVApyPODw3e\n",
       "nSpihj/zbQrzON3+tZ+qHr+yKud3yQWct0M5NOst5hvpeTqz1DwnwGntI97KieLVJlwSfyLnhhvp\n",
       "C2Pky3ytuFL74PF6N7VVCZWVP7V5+SDe4IUxdYY074i1wUqCZ+pKev76itTbUuI9fqvSwHiPj8AX\n",
       "g2ldw4qdGwYAAAAASUVORK5CYII=\n",
       "\" style=\"display:inline;vertical-align:middle;\" /></a></td></tr>\n",
       "<tr><td>4</td><td>Literal</td><td></td><td><a class=\"ProveItLink\" href=\"../../../equality/__pv_it/2fb26078095930560931daa0500ce419a39ea6cd0/expr.ipynb\"><img src=\"data:image/png;base64,iVBORw0KGgoAAAANSUhEUgAAAA4AAAAFBAMAAACHocAhAAAAFVBMVEX///9EREQiIiJUVFQyMjJm\n",
       "ZmYAAADubVkoAAAAAXRSTlMAQObYZgAAABRJREFUCNdjCHEBAWcGXCBICQQUAUpuAwlgGKrkAAAA\n",
       "AElFTkSuQmCC\n",
       "\" style=\"display:inline;vertical-align:middle;\" /></a></td></tr>\n",
       "<tr><td>5</td><td>ExprTuple</td><td>7, 10</td><td><a class=\"ProveItLink\" href=\"../e8a4cc2c55f918673c22a8dd2314fa8eaf83e1620/expr.ipynb\"><img src=\"data:image/png;base64,iVBORw0KGgoAAAANSUhEUgAAAF0AAAAVBAMAAADWVP/xAAAAMFBMVEX////c3NwiIiJERESqqqqY\n",
       "mJh2dnZmZmYQEBDu7u4yMjJUVFTMzMyIiIi6uroAAAAs73DqAAAAAXRSTlMAQObYZgAAAWBJREFU\n",
       "KM+Vk6FPw0AUxj/SdVtZV+oJ5hCQYBBMD80fgECQKaZIFkQVYpDpMceCoWYCQ4LBzMwhEMOPhAVF\n",
       "UMtCWICkcK+9G289EuAl97377n5tL6/vgP+Gd/ezs4cGuktyK8fgs9td87XDXPzQIUeXSHI9KRc0\n",
       "ewesI2jn1kjnOX8TawgU6V3uK5CRI3GKtysGvw3kW4RFcnsC5RTv1A2+DTxTtkZA4QXKKR4bBm9t\n",
       "IqC8IA92vi4nAeerBp+toUO5X4G7QpMO57cMPhOiSfnhei+Iy9nk/JPBe3VElMsttRxxvm/w7igh\n",
       "xvgz36A00cuNX89TUuVPosT5HZIW5+0wLpr1pvlqup7OOFXPR+C0/KG7UrqcEOJYCPk3Lok/kXU7\n",
       "EGJViGXZUkPkfd5W3CX94PH9dqqrZlw2/qjNt/d1B0+DuTOkeUe2DRZneOauYuW3r+BPL5OOb1fs\n",
       "GffxHvgCdTtd5Zks6M0AAAAASUVORK5CYII=\n",
       "\" style=\"display:inline;vertical-align:middle;\" /></a></td></tr>\n",
       "<tr><td>6</td><td>Operation</td><td>operator:&nbsp;9<br>operand:&nbsp;8<br></td><td><a class=\"ProveItLink\" href=\"../../../__pv_it/e620067e5fc1a01f6e7ce2f053b97db25219d34a0/expr.ipynb\"><img src=\"data:image/png;base64,iVBORw0KGgoAAAANSUhEUgAAADEAAAAVBAMAAAAdjxsPAAAAMFBMVEX////u7u5mZmaYmJi6urqq\n",
       "qqp2dnbMzMwQEBBEREQyMjLc3NwiIiJUVFSIiIgAAAAeC3ydAAAAAXRSTlMAQObYZgAAAOtJREFU\n",
       "KM9jYCAK+MFZJmDy7f+7d89uADLYLzDonAGBkwxMBWCpXwwMnN1AmksAxCsCiy0AEezfGBhYgZjh\n",
       "HQNCxgxE8H1hYGD+BGQ0IslIgAjODwwMvF8ZGFgWIMlwBgAJfqCI/AQGBqYEJBk2BSBRn8DAfgjk\n",
       "AAMkGVaQAe+vpamBHM3hgCTD0gAk5gtAfMePLMMOtJzhDwMOGfZPUBmOADTTQN6BOBTZBcxAF3B+\n",
       "hMqAHYrkaqH5fx9AZFgOgKkyMMnlgBwJ3UhsCZToMUNi56HIcAnAmYwLUGS4L8CZvBtQY3sfnPWc\n",
       "gQEAcQM23zO0HfcAAAAASUVORK5CYII=\n",
       "\" style=\"display:inline;vertical-align:middle;\" /></a></td></tr>\n",
       "<tr><td>7</td><td>Operation</td><td>operator:&nbsp;9<br>operand:&nbsp;10<br></td><td><a class=\"ProveItLink\" href=\"../../../__pv_it/4d7c4165a9fdb279e98a557bae75d7e45eb1c31a0/expr.ipynb\"><img src=\"data:image/png;base64,iVBORw0KGgoAAAANSUhEUgAAADEAAAAVBAMAAAAdjxsPAAAAMFBMVEX////u7u5mZmaYmJi6urqq\n",
       "qqp2dnbMzMwQEBBEREQyMjLc3NwiIiJUVFSIiIgAAAAeC3ydAAAAAXRSTlMAQObYZgAAAO9JREFU\n",
       "KM9jYCAK+MFZJmDy7f+7d89uADLYL4C4+0AEUwFY6hcDA2c3kOYSAPGKwGILQAT7NwYGViBmeMeA\n",
       "kDEDEXxfGBiYPwEZjUgyEiCC8wMDA+9XBgaWBUgynAFAgh8oIj8BaGsCkgybApCoT2BgPwRygAGS\n",
       "DCvIgPfX0tRAjuZwQJJhaQAS8wUgvuNHlmEHWs7whwGHDPsnqAxHAJppIO9AHIrsAmagCzg/QmXA\n",
       "DkVytdD8vw8gMiwHGBh0zpw5cebMSaAXHJAjoRuJLYESPWZI7DwUGS4BOJNxAYoM9wU4k3cDamzv\n",
       "g7OeMzAAAAoKNyNLs78oAAAAAElFTkSuQmCC\n",
       "\" style=\"display:inline;vertical-align:middle;\" /></a></td></tr>\n",
       "<tr><td>8</td><td>Literal</td><td></td><td><a class=\"ProveItLink\" href=\"../68a87cc3370287d726c7086ace789e680e4461c30/expr.ipynb\"><img src=\"data:image/png;base64,iVBORw0KGgoAAAANSUhEUgAAAA4AAAAOBAMAAADtZjDiAAAAFVBMVEX///92dnbMzMxEREQiIiJm\n",
       "ZmYAAABAT6GXAAAAAXRSTlMAQObYZgAAABhJREFUCNdjCHEBAWcGIFBlgABa0YpADAAxegPJJk4d\n",
       "XAAAAABJRU5ErkJggg==\n",
       "\" style=\"display:inline;vertical-align:middle;\" /></a></td></tr>\n",
       "<tr><td>9</td><td>Variable</td><td></td><td><a class=\"ProveItLink\" href=\"../../../../__pv_it/6369c6c8083c513ca7161ace249642d040f9327d0/expr.ipynb\"><img src=\"data:image/png;base64,iVBORw0KGgoAAAANSUhEUgAAABAAAAAOBAMAAADUAYG5AAAAMFBMVEX////u7u5mZmaYmJi6urqq\n",
       "qqp2dnbMzMwQEBBEREQyMjLc3NwiIiJUVFSIiIgAAAAeC3ydAAAAAXRSTlMAQObYZgAAAGBJREFU\n",
       "CNdjYGB4+//u3bMbGIDgFwMDZzeQZv/GwMAKxAx8XxgYmD8BGZwfGBh4vwIZ/AsYGOQnABn1CQzs\n",
       "h0Ca3l9LUwPrni/AAAF/oDT7JygDZAwYcH6E0ELz/z4A0QBnpRnRyxnfJQAAAABJRU5ErkJggg==\n",
       "\" style=\"display:inline;vertical-align:middle;\" /></a></td></tr>\n",
       "<tr><td>10</td><td>Literal</td><td></td><td><a class=\"ProveItLink\" href=\"../8f1f7fac882de28c72b62ab80a1700b6d8fd066b0/expr.ipynb\"><img src=\"data:image/png;base64,iVBORw0KGgoAAAANSUhEUgAAAA4AAAAOBAMAAADtZjDiAAAAG1BMVEX///9EREQQEBAiIiJmZmbM\n",
       "zMyIiIjc3NwAAACryk5kAAAAAXRSTlMAQObYZgAAABlJREFUCNdjYGBgKGOAgBBa0s7GxkbGxoYA\n",
       "FMUF2aBfHgoAAAAASUVORK5CYII=\n",
       "\" style=\"display:inline;vertical-align:middle;\" /></a></td></tr>\n",
       "</table>\n"
      ],
      "text/plain": [
       "0. (P(TRUE) = TRUE , P(FALSE) = FALSE)\n",
       "   core type: ExprTuple\n",
       "   sub-expressions: 1, 2\n",
       "1. P(TRUE) = TRUE\n",
       "   core type: Operation\n",
       "   operator: 4\n",
       "   operands: 3\n",
       "2. P(FALSE) = FALSE\n",
       "   core type: Operation\n",
       "   operator: 4\n",
       "   operands: 5\n",
       "3. (P(TRUE) , TRUE)\n",
       "   core type: ExprTuple\n",
       "   sub-expressions: 6, 8\n",
       "4. =\n",
       "   core type: Literal\n",
       "   sub-expressions: \n",
       "5. (P(FALSE) , FALSE)\n",
       "   core type: ExprTuple\n",
       "   sub-expressions: 7, 10\n",
       "6. P(TRUE)\n",
       "   core type: Operation\n",
       "   operator: 9\n",
       "   operand: 8\n",
       "7. P(FALSE)\n",
       "   core type: Operation\n",
       "   operator: 9\n",
       "   operand: 10\n",
       "8. TRUE\n",
       "   core type: Literal\n",
       "   sub-expressions: \n",
       "9. P\n",
       "   core type: Variable\n",
       "   sub-expressions: \n",
       "10. FALSE\n",
       "    core type: Literal\n",
       "    sub-expressions: "
      ]
     },
     "execution_count": 4,
     "metadata": {},
     "output_type": "execute_result"
    }
   ],
   "source": [
    "# display the expression information\n",
    "expr.exprInfo()"
   ]
  },
  {
   "cell_type": "code",
   "execution_count": null,
   "metadata": {},
   "outputs": [],
   "source": []
  }
 ],
 "metadata": {
  "kernelspec": {
   "display_name": "Python 3",
   "language": "python",
   "name": "python3"
  }
 },
 "nbformat": 4,
 "nbformat_minor": 0
}
