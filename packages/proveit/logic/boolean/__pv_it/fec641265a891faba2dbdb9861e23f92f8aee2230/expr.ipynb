{
 "cells": [
  {
   "cell_type": "markdown",
   "metadata": {},
   "source": [
    "Expression of type <a class=\"ProveItLink\" href=\"../../../../../../doc/html/api/proveit.Lambda.html\">Lambda</a>\n",
    "=======================\n",
    "# from context <a class=\"ProveItLink\" href=\"../../_context_.ipynb\">proveit.logic.boolean</a>"
   ]
  },
  {
   "cell_type": "code",
   "execution_count": 1,
   "metadata": {},
   "outputs": [],
   "source": [
    "# import Expression classes needed to build the expression\n",
    "from proveit import Lambda\n",
    "from proveit._common_ import A\n",
    "from proveit.logic import Booleans, FALSE, InSet, NotEquals"
   ]
  },
  {
   "cell_type": "code",
   "execution_count": 2,
   "metadata": {},
   "outputs": [
    {
     "data": {
      "text/html": [
       "<strong id=\"expr\">expr:</strong> <a class=\"ProveItLink\" href=\"../20ee0cf18374b686f8df44b0bd6b1e144bfdd8ed0/expr.ipynb\"><img src=\"data:image/png;base64,iVBORw0KGgoAAAANSUhEUgAAAM0AAAAVCAMAAADSD5oZAAAAP1BMVEX///8LCwsYGBgoKCh2dnYU\n",
       "FBQNDQ0QEBBERERUVFS6urqIiIhmZmaqqqrc3Nzu7u6YmJgyMjIiIiLMzMwAAAAZdqEIAAAAAXRS\n",
       "TlMAQObYZgAAAepJREFUWMPdl+tuwyAMhdmWFQgXc3v/Z11JUqXYpiRSW031j1ZKT2y+HmwSIZ4U\n",
       "zosPiml+Y60D/1xOp1IiOUvzOOUUi4olyqTcqSX5SK4YIorlFA2SszSjlErMRkCEaTpUYwtNSmWL\n",
       "r4RU4AQMlnM0w5QLjTCziIdq9KyhNN7ZcqKRiZyhIRowMV0jIhoXhIYjNXrWUBojTDnRyETO0GBN\n",
       "jgF4b7w6VGPNwmgxzQzClbBv2Hb6ki5FcpYGa7wCdqflFBRnDa2x3pOHNHBdSy77ZECzBG8ELOdo\n",
       "iEZ5rm9SKkUaBgbfb+MSP5f6qR/S1KX4Yns0oP1DOUeDNaC6U8A45jemRs8aRJN1jbLnvPymJmTb\n",
       "AFjO0BDNLG/J8BSoX2REczVqFi2GNOtKZOx5g+YIkTM0RJN1z5vrl1CcNbhGbWg/pNmaPMkejW1y\n",
       "UDmloRpIZ2jo/bba+v212qv6NN6Rk7etnE17DHAHdUvDaXTo0yw7DUY1etbc08DNTbWfvO2QaSYa\n",
       "J8c0rAbSzNMEa+p/DSUNanS65o7GK1kW4qBKiXb4DNCT39H0ND7aTJ86VZJ6cQLkdvL3l0StsduU\n",
       "4vbfq98InI7NTMOdP3i0cla8KZ7xfhMGvyf4IJr3WfMMGvNvrKkvKa+OcYU/fGogY9t7sBkAAAAA\n",
       "SUVORK5CYII=\n",
       "\" style=\"display:inline;vertical-align:middle;\" /></a><br>"
      ],
      "text/plain": [
       "expr: A -> A | A in BOOLEANS , A != FALSE"
      ]
     },
     "execution_count": 2,
     "metadata": {},
     "output_type": "execute_result"
    }
   ],
   "source": [
    "# build up the expression from sub-expressions\n",
    "expr = Lambda(A, A, conditions = [InSet(A, Booleans), NotEquals(A, FALSE)])"
   ]
  },
  {
   "cell_type": "code",
   "execution_count": 3,
   "metadata": {},
   "outputs": [
    {
     "name": "stdout",
     "output_type": "stream",
     "text": [
      "Passed sanity check: built 'expr' is the same as the stored Expression.\n"
     ]
    }
   ],
   "source": [
    "# check that the built expression is the same as the stored expression\n",
    "%check_expr"
   ]
  },
  {
   "cell_type": "code",
   "execution_count": 4,
   "metadata": {},
   "outputs": [
    {
     "data": {
      "text/html": [
       "<table><tr><th>&nbsp;</th><th>core type</th><th>sub-expressions</th><th>expression</th></tr>\n",
       "<tr><td>0</td><td>Lambda</td><td>parameter:&nbsp;9<br>body:&nbsp;9<br>conditions:&nbsp;1<br></td><td><a class=\"ProveItLink\" href=\"../20ee0cf18374b686f8df44b0bd6b1e144bfdd8ed0/expr.ipynb\"><img src=\"data:image/png;base64,iVBORw0KGgoAAAANSUhEUgAAAM0AAAAVCAMAAADSD5oZAAAAP1BMVEX///8LCwsYGBgoKCh2dnYU\n",
       "FBQNDQ0QEBBERERUVFS6urqIiIhmZmaqqqrc3Nzu7u6YmJgyMjIiIiLMzMwAAAAZdqEIAAAAAXRS\n",
       "TlMAQObYZgAAAepJREFUWMPdl+tuwyAMhdmWFQgXc3v/Z11JUqXYpiRSW031j1ZKT2y+HmwSIZ4U\n",
       "zosPiml+Y60D/1xOp1IiOUvzOOUUi4olyqTcqSX5SK4YIorlFA2SszSjlErMRkCEaTpUYwtNSmWL\n",
       "r4RU4AQMlnM0w5QLjTCziIdq9KyhNN7ZcqKRiZyhIRowMV0jIhoXhIYjNXrWUBojTDnRyETO0GBN\n",
       "jgF4b7w6VGPNwmgxzQzClbBv2Hb6ki5FcpYGa7wCdqflFBRnDa2x3pOHNHBdSy77ZECzBG8ELOdo\n",
       "iEZ5rm9SKkUaBgbfb+MSP5f6qR/S1KX4Yns0oP1DOUeDNaC6U8A45jemRs8aRJN1jbLnvPymJmTb\n",
       "AFjO0BDNLG/J8BSoX2REczVqFi2GNOtKZOx5g+YIkTM0RJN1z5vrl1CcNbhGbWg/pNmaPMkejW1y\n",
       "UDmloRpIZ2jo/bba+v212qv6NN6Rk7etnE17DHAHdUvDaXTo0yw7DUY1etbc08DNTbWfvO2QaSYa\n",
       "J8c0rAbSzNMEa+p/DSUNanS65o7GK1kW4qBKiXb4DNCT39H0ND7aTJ86VZJ6cQLkdvL3l0StsduU\n",
       "4vbfq98InI7NTMOdP3i0cla8KZ7xfhMGvyf4IJr3WfMMGvNvrKkvKa+OcYU/fGogY9t7sBkAAAAA\n",
       "SUVORK5CYII=\n",
       "\" style=\"display:inline;vertical-align:middle;\" /></a></td></tr>\n",
       "<tr><td>1</td><td>ExprTuple</td><td>2, 3</td><td><a class=\"ProveItLink\" href=\"../592912b483fa2b282881a92caabe353cf52c385c0/expr.ipynb\"><img src=\"data:image/png;base64,iVBORw0KGgoAAAANSUhEUgAAAIcAAAAVCAMAAABblw1wAAAAPFBMVEX///8LCwsYGBgNDQ0oKCjc\n",
       "3NwiIiJERESqqqqYmJh2dnZmZmYQEBDu7u4yMjJUVFTMzMyIiIi6uroAAACIMCsmAAAAAXRSTlMA\n",
       "QObYZgAAAcJJREFUSMfNVtlywyAMpAeXAXHo//+1JjiJMMJ223SmPBjG8uLV6gAh/s8o+e//scip\n",
       "yZY2p0jfJnW8H6AGBK+04T/g8RKGN0/nXbpNEKgd8MQzXfULEJaFNfP4WAa+jmDqI3dRsQrDBR4i\n",
       "FwGsyCx+lKPjYatLnuKkcdhFMmRQ64A9D2NF5H64x8/k6HgEvyZpRzWLjBSTwIaJHlIzcuzx2y7M\n",
       "p5SHWJPN0TCXIAxa4p4OfFySsoxpwN8h6YTH4gQQWFhdSUjyRUs2P5RC9Eyx7/EObuPzoz7jAQ8D\n",
       "whMZ61Li84Og53mazWjc4w/k6HkUL0g4U6wDNTGrbQx5Wqd94Q74bZcozngkpDzaygPZeKrHOgnN\n",
       "yNHht+4gr/Dwj764LZR/xkV9h8eId1XK97cmqT6Oi7aP0h8bYrQHPG5xCaR18A2Vl6PnYaGWTPP9\n",
       "LqcmDTGoMuFhXa4OBrxLxuKn2THWbVGtUXi8EbcaERxpyC4x55xWPprWCVv7nOE5OVyLkyfRgtVd\n",
       "Lw+PExOhr5d9cp7A3YVLQe3r7ZD5+bDHZhWuXE7yeO6/lsc1OZraMv6CRn6BHFEOV6OXXzmvuFIr\n",
       "4QvyChah0CPh4gAAAABJRU5ErkJggg==\n",
       "\" style=\"display:inline;vertical-align:middle;\" /></a></td></tr>\n",
       "<tr><td>2</td><td>Operation</td><td>operator:&nbsp;4<br>operands:&nbsp;5<br></td><td><a class=\"ProveItLink\" href=\"../../../../__pv_it/ac467199a39fd6edccd82b9d62abb3b6598ff3180/expr.ipynb\"><img src=\"data:image/png;base64,iVBORw0KGgoAAAANSUhEUgAAADYAAAAPBAMAAABdHiGLAAAAMFBMVEX///92dnYQEBBERERUVFS6\n",
       "urqIiIhmZmaqqqrc3Nzu7u6YmJgyMjIiIiLMzMwAAACFkkdwAAAAAXRSTlMAQObYZgAAANJJREFU\n",
       "GNNjYACBtwwogPG8zR9dCyjnPKocAzNrwpqFAmAm9/0FGHJsAQfAzBn1EyBiy87evQOV49jgBRZK\n",
       "yA8A03ynFyD0RRqAWKwL+jeAhSYvQJj5djOYs5ThfQJYyBJh393/amBWAMP8AhDNZYDslgwQj8/F\n",
       "xR9itu7du3C3MBgEgoQYGJjA7uVzQNLHYMAMZDQwMPAqgM28gC7HCZTj+QAW8kaRA5q5BsT+BRZa\n",
       "G4CQ4y4zYJisf5KB2/4P2KGcxx/AwvrzJQ+0MObwgbgTAgCMvTlc/0QYTQAAAABJRU5ErkJggg==\n",
       "\" style=\"display:inline;vertical-align:middle;\" /></a></td></tr>\n",
       "<tr><td>3</td><td>Operation</td><td>operator:&nbsp;6<br>operands:&nbsp;7<br></td><td><a class=\"ProveItLink\" href=\"../2a481d07248ff31086de694195cd57af88c3699b0/expr.ipynb\"><img src=\"data:image/png;base64,iVBORw0KGgoAAAANSUhEUgAAADoAAAAUCAMAAADrw95cAAAAPFBMVEX///8LCwsYGBgNDQ0oKCh2\n",
       "dnYQEBBERERUVFS6urqIiIhmZmaqqqrc3Nzu7u6YmJgyMjIiIiLMzMwAAAAhTRy8AAAAAXRSTlMA\n",
       "QObYZgAAALVJREFUOMvFktsOhCAMRLs3LpYi0P//1xXNRhe6lviy8yBJM4dhEABNL1ItULI0pdRN\n",
       "ps6UWEKd7yKwncyZ40hoj1JAppHQHp1gYsFmQUV9hMBzZ7NFReMSWHi/Okyrno/6dadoPSoxjoQ2\n",
       "aHFV3BbzDlR0ux/T/ohEKhq2JZu9a150v+VV9jdKQX5OcugRjZ9z2u/nJDc9oGQNr9vPljnhaShu\n",
       "BYxU46iAcFU5XiX/EgpedbwBXxcI2ne/FJkAAAAASUVORK5CYII=\n",
       "\" style=\"display:inline;vertical-align:middle;\" /></a></td></tr>\n",
       "<tr><td>4</td><td>Literal</td><td></td><td><a class=\"ProveItLink\" href=\"../../../set_theory/membership/__pv_it/088cbc857536a28d4119ad9639a84270ccb0545d0/expr.ipynb\"><img src=\"data:image/png;base64,iVBORw0KGgoAAAANSUhEUgAAAAwAAAAMBAMAAACkW0HUAAAALVBMVEX///+qqqpmZmZUVFQQEBC6\n",
       "urpERETc3NyYmJjMzMwiIiIyMjKIiIju7u4AAACYsrA9AAAAAXRSTlMAQObYZgAAADxJREFUCNdj\n",
       "YOA9vWrVBgaG2b0MQMCeCyIZ2ArA1DUwyRCyahVIyWQI7xaEYm4AU7xLIdxqTQgtvGvVBgCkcQ7e\n",
       "geM/tQAAAABJRU5ErkJggg==\n",
       "\" style=\"display:inline;vertical-align:middle;\" /></a></td></tr>\n",
       "<tr><td>5</td><td>ExprTuple</td><td>9, 8</td><td><a class=\"ProveItLink\" href=\"../../../../__pv_it/3ae66a4c9284ffe7952dc6d66b3faebf144bbc0f0/expr.ipynb\"><img src=\"data:image/png;base64,iVBORw0KGgoAAAANSUhEUgAAADMAAAAVBAMAAAAZessyAAAAMFBMVEX////c3NwiIiJERESqqqqY\n",
       "mJh2dnZmZmYQEBDu7u4yMjJUVFTMzMyIiIi6uroAAAAs73DqAAAAAXRSTlMAQObYZgAAAR1JREFU\n",
       "KM9jYMAD+C5gE40DEach7EMQim291a8mEwYG9gNAzkqI2Hqocma+C7OmJTAwLGBg4IWYx6o/AS7F\n",
       "+wAoHsbAwAEREqkXgEuxBOxkYJjBwPAKInLh/gOErocGQNqBoQzizAn+AXCpQ8FAk9gKGJaCBeYx\n",
       "nL8Ak1L63wukWRYw9IEFHjDIFyAMvAI0kK+B4R+Iz7N7934DuBSDwTOg0AeIFB/QpQuQpJjBUi0g\n",
       "vgMDA1MDqhTQQFMglxEoxfWBgWECkoGsCxjSgdxZIKGfDJyfIFKstQZgxz9iYBDuX8jAav+rgLNf\n",
       "ABS8nzW2AJVwPWDgEECKHyQ2MKBYExBcVqQIy0VECpoUJ8gv0gg+Unxzg8xmxJoA7jAwAAA4lUto\n",
       "1aFFcAAAAABJRU5ErkJggg==\n",
       "\" style=\"display:inline;vertical-align:middle;\" /></a></td></tr>\n",
       "<tr><td>6</td><td>Literal</td><td></td><td><a class=\"ProveItLink\" href=\"../../../equality/__pv_it/43637204f35b46c076ae787093288c6a879642310/expr.ipynb\"><img src=\"data:image/png;base64,iVBORw0KGgoAAAANSUhEUgAAAA4AAAAUCAMAAACK2/weAAAAM1BMVEX///8LCwsYGBgNDQ0oKCju\n",
       "7u4iIiJmZmaqqqpERETMzMy6urpUVFQyMjLc3Nx2dnYAAAB8DqOrAAAAAXRSTlMAQObYZgAAAE5J\n",
       "REFUGNNjYEAAfj4kDgMfLzKPgYebaEkuThRJTi4wxc4LBizMIJIHTRIKuHlQdPLCHMTOBgRMjGxg\n",
       "wIkmiVcnGHCwo0iysRItyYDsMQCO9QJkhxsUAQAAAABJRU5ErkJggg==\n",
       "\" style=\"display:inline;vertical-align:middle;\" /></a></td></tr>\n",
       "<tr><td>7</td><td>ExprTuple</td><td>9, 10</td><td><a class=\"ProveItLink\" href=\"../../../../__pv_it/1bd9762028850ce8cf7f45259161a85b5487497f0/expr.ipynb\"><img src=\"data:image/png;base64,iVBORw0KGgoAAAANSUhEUgAAADUAAAAVBAMAAAAUZLt1AAAAMFBMVEX////c3NwiIiJERESqqqqY\n",
       "mJh2dnZmZmYQEBDu7u4yMjJUVFTMzMyIiIi6uroAAAAs73DqAAAAAXRSTlMAQObYZgAAAO1JREFU\n",
       "KM9jYMAH+C5gFY4DEach7EMIYVkQwX4ASKyECKxHyB0HkwsYGHghRrLqT0CTC2Ng4ICIidQLoMnN\n",
       "YGB4BeFfuP8ATY7ZgaEM4tgJ/gFocmwFDEvBjHkM5y+gybEsYOgDMx4wyBegyfE1MPwD0Ty7d+83\n",
       "QJPj+QCR4wO6dwGmXAuIdmBgYGrANNMUSDEC5bg+MDBMQJZjXcCQDqRmgbzzk4HzE5ofHjEwCPcv\n",
       "ZGC1/1XA2Q8MmyIlJQ0lJWWgQQ8YOASQoguJDQoz1gQElxU5AnMRcYQuxwnykzSCj5wCuEHmM2JP\n",
       "E3cYGAAdNjoVaLAEowAAAABJRU5ErkJggg==\n",
       "\" style=\"display:inline;vertical-align:middle;\" /></a></td></tr>\n",
       "<tr><td>8</td><td>Literal</td><td></td><td><a class=\"ProveItLink\" href=\"../46271c8230be96415d662709611f4ed2279d702b0/expr.ipynb\"><img src=\"data:image/png;base64,iVBORw0KGgoAAAANSUhEUgAAAA0AAAAOBAMAAAAGUYvhAAAAMFBMVEX///9mZmbMzMzc3NxUVFSY\n",
       "mJju7u6IiIi6urqqqqoiIiIQEBBEREQyMjJ2dnYAAAAQvcRZAAAAAXRSTlMAQObYZgAAAElJREFU\n",
       "CNdjePvn/u01ExgYGA60s117B6YZKngh9FSWBAjfBsxnWnoMRHet/10AkS+fA6F5OB5AaIYDqDRU\n",
       "PLCGgQFoz6ktExgAgLIl8DFvGtkAAAAASUVORK5CYII=\n",
       "\" style=\"display:inline;vertical-align:middle;\" /></a></td></tr>\n",
       "<tr><td>9</td><td>Variable</td><td></td><td><a class=\"ProveItLink\" href=\"../../../../__pv_it/2cbe72a7ad6f655694dd697106680215e8489b600/expr.ipynb\"><img src=\"data:image/png;base64,iVBORw0KGgoAAAANSUhEUgAAAA8AAAAOBAMAAAACpFvcAAAALVBMVEX///8QEBBERERUVFS6urqI\n",
       "iIhmZmaqqqrc3Nzu7u6YmJgyMjIiIiLMzMwAAADtIaYWAAAAAXRSTlMAQObYZgAAAFtJREFUCNdj\n",
       "YACBOwxQsA9Kc52bAGG05zVAGAFxDmCaZULdAjBjCsO9ADDDgaEvAUTzGhvbKYCVMDAwbgAxChgY\n",
       "eASANAeQwf0AyJgNxEwvGRia5HYwcOm9TgAA6BoR3jrzwFcAAAAASUVORK5CYII=\n",
       "\" style=\"display:inline;vertical-align:middle;\" /></a></td></tr>\n",
       "<tr><td>10</td><td>Literal</td><td></td><td><a class=\"ProveItLink\" href=\"../8f1f7fac882de28c72b62ab80a1700b6d8fd066b0/expr.ipynb\"><img src=\"data:image/png;base64,iVBORw0KGgoAAAANSUhEUgAAAA4AAAAOBAMAAADtZjDiAAAAG1BMVEX///9EREQQEBAiIiJmZmbM\n",
       "zMyIiIjc3NwAAACryk5kAAAAAXRSTlMAQObYZgAAABlJREFUCNdjYGBgKGOAgBBa0s7GxkbGxoYA\n",
       "FMUF2aBfHgoAAAAASUVORK5CYII=\n",
       "\" style=\"display:inline;vertical-align:middle;\" /></a></td></tr>\n",
       "</table>\n"
      ],
      "text/plain": [
       "0. A -> A | A in BOOLEANS , A != FALSE\n",
       "   core type: Lambda\n",
       "   parameter: 9\n",
       "   body: 9\n",
       "   conditions: 1\\n1. (A in BOOLEANS , A != FALSE)\n",
       "   core type: ExprTuple\n",
       "   sub-expressions: 2, 3\n",
       "2. A in BOOLEANS\n",
       "   core type: Operation\n",
       "   operator: 4\n",
       "   operands: 5\n",
       "3. A != FALSE\n",
       "   core type: Operation\n",
       "   operator: 6\n",
       "   operands: 7\n",
       "4. in\n",
       "   core type: Literal\n",
       "   sub-expressions: \n",
       "5. (A , BOOLEANS)\n",
       "   core type: ExprTuple\n",
       "   sub-expressions: 9, 8\n",
       "6. !=\n",
       "   core type: Literal\n",
       "   sub-expressions: \n",
       "7. (A , FALSE)\n",
       "   core type: ExprTuple\n",
       "   sub-expressions: 9, 10\n",
       "8. BOOLEANS\n",
       "   core type: Literal\n",
       "   sub-expressions: \n",
       "9. A\n",
       "   core type: Variable\n",
       "   sub-expressions: \n",
       "10. FALSE\n",
       "    core type: Literal\n",
       "    sub-expressions: "
      ]
     },
     "execution_count": 4,
     "metadata": {},
     "output_type": "execute_result"
    }
   ],
   "source": [
    "# display the expression information\n",
    "expr.exprInfo()"
   ]
  },
  {
   "cell_type": "code",
   "execution_count": null,
   "metadata": {},
   "outputs": [],
   "source": []
  }
 ],
 "metadata": {
  "kernelspec": {
   "display_name": "Python 3",
   "language": "python",
   "name": "python3"
  }
 },
 "nbformat": 4,
 "nbformat_minor": 0
}
