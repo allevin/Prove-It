{
 "cells": [
  {
   "cell_type": "markdown",
   "metadata": {},
   "source": [
    "Show the Proof\n",
    "========"
   ]
  },
  {
   "cell_type": "code",
   "execution_count": 1,
   "metadata": {},
   "outputs": [
    {
     "data": {
      "text/html": [
       "<table><tr><th>&nbsp;</th><th>step type</th><th>requirements</th><th>statement</th></tr>\n",
       "<tr><td>0</td><td>assumption</td><td></td><td><span style=\"font-size:20px;\"><a class=\"ProveItLink\" href=\"../380ce35ab51c10fc9e004943fb8c126009e3483d0/expr.ipynb\"><img src=\"data:image/png;base64,iVBORw0KGgoAAAANSUhEUgAAAJsAAAAVBAMAAACj9YEXAAAAMFBMVEX///9ERETc3NyqqqpUVFS6\n",
       "urrMzMwyMjIQEBCIiIh2dnYiIiLu7u5mZmaYmJgAAABJJ2g3AAAAAXRSTlMAQObYZgAAAmlJREFU\n",
       "OMutlT9IW0Ecx3/vJXmJz5eXolAXWzO46ORQcFSKUNDBbLW4ZBB0KaZDxUFKUNrFUjJIwakBO9R/\n",
       "oNTB+ihmsxSKTi2k0HZpC11q0VjQqP397nLvfs/EuPQgv/ty9+5zv9/vfncBAPcL/I9mLSWpc7aC\n",
       "w/d89f0KQCSnlJsi3gzJhn0x0ll8KWatXrIdZOLpWpC5876+DeHICBlTrPpI5hMZOyvsBMBAAUWU\n",
       "DNwXKzM1nfoLYEyTmBLb75GNknnl45wHaGLk2Dxo3C/NcHSOjgFCxxRWTuPcfAAXXaPgymieMtw7\n",
       "jZNOi+SUcPUp7V7QOCcbwH2lNNn4YSTDcEaXTnuvUgbmOnyA4i5oHDRznPlHKPwonmc4e0+7t6hE\n",
       "AjfcvYaiyHGrChfH6fiZ2PcIg/rGcCHh6meP2rZCj+fBekviEcd14+83iTGsmcay2Bf9jKUYLpJl\n",
       "B9otZ+BF/1JR1Mljjhui/KIceVIBAfRgoAmOs/YZzpmUU23qUEocN06mBUMbwlNI0MHCZKEebnRF\n",
       "9idwGa6R8h7GBEVpXeiITr+rKliZO6+1UnanCjdzMViROxs9C5XM+TQlEQx+FC67FrdY2cl2k+N+\n",
       "Bupu+T0sNLHaqCoUU5GNshparVkoAhe5s/gaLBJrIrpNz1vHHKR8nJGU/Ye2Q/WODGOBYRJmPQ+r\n",
       "8GEAh+06/KBummWfXTKr+imIJdmxZy/ibsj7xa69vgk1m5vX2s4pnFvBDZ6ngncdnEz953NKyx3/\n",
       "vXPeyJGxZzLn/l2HcLI+rl3L25QPeU3chcBHHb56fsXjbvqPe0O68l/xDwPNp250mrn9AAAAAElF\n",
       "TkSuQmCC\n",
       "\" style=\"display:inline;vertical-align:middle;\" /></a> <a class=\"ProveItLink\" href=\"proof.ipynb\" style=\"text-decoration: none\">&#x22A2;&nbsp;</a><a class=\"ProveItLink\" href=\"../../../__pv_it/fcaf6c287c1283084def173a29c5b3f58e0ec0c90/expr.ipynb\"><img src=\"data:image/png;base64,iVBORw0KGgoAAAANSUhEUgAAAIUAAAAVBAMAAACakjBMAAAAMFBMVEX///+YmJiqqqq6uroQEBBE\n",
       "RETu7u4iIiLMzMwyMjKIiIhUVFRmZmZ2dnbc3NwAAADS0us6AAAAAXRSTlMAQObYZgAAAf5JREFU\n",
       "OMutlD8sA1Ecx3/9m2vrkJgMjS4GUztIBIsgNUgEMdPB0s2AG91mIGlFwiRsxKKbpBJuERbRlbR0\n",
       "VQOJ/0H4/d5d3/tVqxaXvN997373Pu/9/rwD+N/Ls1VWrtgfn/ZI1SJsY76QFWJJPAnQaa2JwaP3\n",
       "g/1DUlqGbIlMg0n2woTQPIk14bbIBmqu3pQGmCiSO0GPy+IlvoPkKJphWmZLMVw5NTMhVQrfRsmz\n",
       "C4oRxrFO4hw/9CYUw9+nGGtS7WGa2sgfZ4xpjOeVxDV6u0ExYFwxeqWawnEUweSnGcMXgbtRwUDP\n",
       "GWfkFUOX5XrDDT5RHnOMoVtw3ixWwOyucEaHyLkhrg8HoX0CLJI70MwY7jQsiCw84hjgjE5WDveq\n",
       "U9v3Qv6KhDfGGJ4+MRvcuAI8cEaK1zRp433P5RpzhnYPL6Id4vUY2oZd3qaZXxibdI9Ss/VXxeLk\n",
       "Y87pkJTlMLyRyliisdKOJvY6xhmtLB0Z1h52UDynrjTo8zm9vajKWV3bG9ke5Y7VrcraQu/GdgQo\n",
       "li5780OGgS2zqhiT9s1//JUtH3BMzIlhzGKYmEuxO5/pIoa3qObxXjerD98I09N2eFb3z3OmerPm\n",
       "FWb6UtjQ18OPwwXJ+r+ggDrLfvvsaIN2nm/VR4f1GY0ZKUPFSo8MIGj+8S8sSbUD8A087YcYmx4J\n",
       "cAAAAABJRU5ErkJggg==\n",
       "\" style=\"display:inline;vertical-align:middle;\" /></a></span></td></tr>\n",
       "</table>"
      ],
      "text/plain": [
       "<proveit._core_.proof._ShowProof at 0x7f94ebb33828>"
      ]
     },
     "execution_count": 1,
     "metadata": {},
     "output_type": "execute_result"
    }
   ],
   "source": [
    "import proveit\n",
    "%show_proof"
   ]
  },
  {
   "cell_type": "code",
   "execution_count": null,
   "metadata": {},
   "outputs": [],
   "source": []
  }
 ],
 "metadata": {
  "kernelspec": {
   "display_name": "Python 3",
   "language": "python",
   "name": "python3"
  }
 },
 "nbformat": 4,
 "nbformat_minor": 0
}
