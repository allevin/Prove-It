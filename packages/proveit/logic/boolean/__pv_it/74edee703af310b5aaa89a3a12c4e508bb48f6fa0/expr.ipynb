{
 "cells": [
  {
   "cell_type": "markdown",
   "metadata": {},
   "source": [
    "Expression of type <a class=\"ProveItLink\" href=\"../../../../../../doc/html/api/proveit.ExprTuple.html\">ExprTuple</a>\n",
    "=======================\n",
    "# from context <a class=\"ProveItLink\" href=\"../../_context_.ipynb\">proveit.logic.boolean</a>"
   ]
  },
  {
   "cell_type": "code",
   "execution_count": 1,
   "metadata": {},
   "outputs": [],
   "source": [
    "# import Expression classes needed to build the expression\n",
    "from proveit import ExprTuple\n",
    "from proveit.logic import Equals, FALSE, TRUE\n",
    "from proveit.logic._common_ import PofFalse, PofTrue"
   ]
  },
  {
   "cell_type": "code",
   "execution_count": 2,
   "metadata": {},
   "outputs": [
    {
     "data": {
      "text/html": [
       "<strong id=\"expr\">expr:</strong> <a class=\"ProveItLink\" href=\"expr.ipynb\"><img src=\"data:image/png;base64,iVBORw0KGgoAAAANSUhEUgAAANUAAAAVBAMAAAAjhrYEAAAAMFBMVEX////c3NwiIiJERESqqqqY\n",
       "mJh2dnZmZmYQEBDu7u4yMjJUVFTMzMyIiIi6uroAAAAs73DqAAAAAXRSTlMAQObYZgAAAkZJREFU\n",
       "SMdjYKAn4LuAncf6gGgj3sJZcTjVgGVOA/Ht/7t3awtAeOxKYGDAUINFByPCYbz7f+/etBHE4tkA\n",
       "ImVBBPsBdB1FYNOUITIrQSK/GBiYGxlgPJ4CEMmFxS6IDATwL2BgsAA5kGsCiHscLLgAiya4DC/I\n",
       "pTzfGBhYvjFAeVATWRPw23UeKO8PUnMXycQwnHYBZThAjuL9BzT6OwOUBzWRswG/XfeBERoP4nci\n",
       "mTgDp11AmVcgmvkDAwP3FwYoD2aiCX677IF4vwMwOS1AMpHZAZddQJkyWNDPNwAyypBNTMdvFzCO\n",
       "OT+D0kMCkolsBbjsAsoshQY9jzqIsRTZRC9wyloFBhsw7ALF8SEQlysAyUQWsCerwHpWo9gFlOkD\n",
       "B/22tDJwku9DNvEFXn/x/k5LTwQxOB4gmcjXgMtfQJl/4KCfABX+h2ziebx2Mf+EpX1ku3g+4LIL\n",
       "KAM2/RMD6XbxK5BsVwuI+g4TbsEIQ3gxgm7XeRiTwwEjDGGFBVoYmkKzFwSYIpsYhctfE2DZCxKY\n",
       "yGmDdQEufwFl0pGDHprMCaR5zk8ocQxN5kSk+UcMDNPtf8OK1EcQEyE5Zh2aHlBwNgGDk7NfgIGz\n",
       "+P9eWNWgAA40DXCgcWGpHY6BSaAMhwCyMDIPWxkFNR1FD0MjEnsGzkplBnoJi8xju4BLGysqF7m8\n",
       "zcVpVy6sFoEDJN4sBiLt4pqACIsFuPSAZaRRhJB4G3HaheZhxg1wJrcALj1gGcYL2Cte3gNEtwFk\n",
       "4aw7ONUAZQAMCqspFoivHQAAAABJRU5ErkJggg==\n",
       "\" style=\"display:inline;vertical-align:middle;\" /></a><br>"
      ],
      "text/plain": [
       "expr: (P(TRUE) = FALSE , P(FALSE) = TRUE)"
      ]
     },
     "execution_count": 2,
     "metadata": {},
     "output_type": "execute_result"
    }
   ],
   "source": [
    "# build up the expression from sub-expressions\n",
    "expr = ExprTuple(Equals(PofTrue, FALSE), Equals(PofFalse, TRUE))"
   ]
  },
  {
   "cell_type": "code",
   "execution_count": 3,
   "metadata": {},
   "outputs": [
    {
     "name": "stdout",
     "output_type": "stream",
     "text": [
      "Passed sanity check: built 'expr' is the same as the stored Expression.\n"
     ]
    }
   ],
   "source": [
    "# check that the built expression is the same as the stored expression\n",
    "%check_expr"
   ]
  },
  {
   "cell_type": "code",
   "execution_count": 4,
   "metadata": {},
   "outputs": [
    {
     "data": {
      "text/html": [
       "<table><tr><th>&nbsp;</th><th>core type</th><th>sub-expressions</th><th>expression</th></tr>\n",
       "<tr><td>0</td><td>ExprTuple</td><td>1, 2</td><td><a class=\"ProveItLink\" href=\"expr.ipynb\"><img src=\"data:image/png;base64,iVBORw0KGgoAAAANSUhEUgAAANUAAAAVBAMAAAAjhrYEAAAAMFBMVEX////c3NwiIiJERESqqqqY\n",
       "mJh2dnZmZmYQEBDu7u4yMjJUVFTMzMyIiIi6uroAAAAs73DqAAAAAXRSTlMAQObYZgAAAkZJREFU\n",
       "SMdjYKAn4LuAncf6gGgj3sJZcTjVgGVOA/Ht/7t3awtAeOxKYGDAUINFByPCYbz7f+/etBHE4tkA\n",
       "ImVBBPsBdB1FYNOUITIrQSK/GBiYGxlgPJ4CEMmFxS6IDATwL2BgsAA5kGsCiHscLLgAiya4DC/I\n",
       "pTzfGBhYvjFAeVATWRPw23UeKO8PUnMXycQwnHYBZThAjuL9BzT6OwOUBzWRswG/XfeBERoP4nci\n",
       "mTgDp11AmVcgmvkDAwP3FwYoD2aiCX677IF4vwMwOS1AMpHZAZddQJkyWNDPNwAyypBNTMdvFzCO\n",
       "OT+D0kMCkolsBbjsAsoshQY9jzqIsRTZRC9wyloFBhsw7ALF8SEQlysAyUQWsCerwHpWo9gFlOkD\n",
       "B/22tDJwku9DNvEFXn/x/k5LTwQxOB4gmcjXgMtfQJl/4KCfABX+h2ziebx2Mf+EpX1ku3g+4LIL\n",
       "KAM2/RMD6XbxK5BsVwuI+g4TbsEIQ3gxgm7XeRiTwwEjDGGFBVoYmkKzFwSYIpsYhctfE2DZCxKY\n",
       "yGmDdQEufwFl0pGDHprMCaR5zk8ocQxN5kSk+UcMDNPtf8OK1EcQEyE5Zh2aHlBwNgGDk7NfgIGz\n",
       "+P9eWNWgAA40DXCgcWGpHY6BSaAMhwCyMDIPWxkFNR1FD0MjEnsGzkplBnoJi8xju4BLGysqF7m8\n",
       "zcVpVy6sFoEDJN4sBiLt4pqACIsFuPSAZaRRhJB4G3HaheZhxg1wJrcALj1gGcYL2Cte3gNEtwFk\n",
       "4aw7ONUAZQAMCqspFoivHQAAAABJRU5ErkJggg==\n",
       "\" style=\"display:inline;vertical-align:middle;\" /></a></td></tr>\n",
       "<tr><td>1</td><td>Operation</td><td>operator:&nbsp;4<br>operands:&nbsp;3<br></td><td><a class=\"ProveItLink\" href=\"../60d1b0527bbeced8cdad0ccdedba86b6092c5b7d0/expr.ipynb\"><img src=\"data:image/png;base64,iVBORw0KGgoAAAANSUhEUgAAAF4AAAAVBAMAAAA9Y0TyAAAAMFBMVEX////u7u5mZmaYmJi6urqq\n",
       "qqp2dnbMzMwQEBBEREQyMjLc3NwiIiJUVFSIiIgAAAAeC3ydAAAAAXRSTlMAQObYZgAAAQtJREFU\n",
       "KM9jYKAA+MFZzA64Vb39f/fu2Q1ABvsFBqYzYDCBQR2Lwn1Q+hcDA2c3kOYSAPHYFUAkFxb1RRCK\n",
       "/RsDAysQM7xjQKhnTsCpnu8LUPoTkNGIpJ6xAad6zg8MDLxfGRhYFiCpZ5iKUz0/UJ38BAYGpgRk\n",
       "9Uk41dcnMLAfAnnRAFl9FIhgWgUGF1DUv7+WpgYKTg4HZPUeOM2fLwB1F4r6epzq/zCQpJ79E5TL\n",
       "EYDhHnh0I6kHBT8kXFH8a4XLfM6PUC6bAjHhKTT/7wMIl+UARD0kGpagKdY5c+bEmTMnkYW6kdjY\n",
       "0gM6MENisz0grJ5LAMGWIiJ7cV9AsG8Tkx/3wVl8BTiUAAB7yUeltoX7IwAAAABJRU5ErkJggg==\n",
       "\" style=\"display:inline;vertical-align:middle;\" /></a></td></tr>\n",
       "<tr><td>2</td><td>Operation</td><td>operator:&nbsp;4<br>operands:&nbsp;5<br></td><td><a class=\"ProveItLink\" href=\"../fafcd303e0abb32575638eb4509ab5f07415e3270/expr.ipynb\"><img src=\"data:image/png;base64,iVBORw0KGgoAAAANSUhEUgAAAF4AAAAVBAMAAAA9Y0TyAAAAMFBMVEX////u7u5mZmaYmJi6urqq\n",
       "qqp2dnbMzMwQEBBEREQyMjLc3NwiIiJUVFSIiIgAAAAeC3ydAAAAAXRSTlMAQObYZgAAAQtJREFU\n",
       "KM9jYKAA+MFZzA64Vb39f/fu2Q1ABvsFEJf7AYhUR1elcwYEToKYvxgYOLuBNJcAiMeuACK5sBhc\n",
       "BKHYvzEwsAIxwzsGhHrmBJzq+b4ApT8BGY1I6hkbcKrn/MDAwPuVgYFlAZJ6hqk41fMD1clPYGBg\n",
       "SkBWn4RTfX0CA/shkBcNkNVHgQimVWBwAUX9+2tpaqDg5HBAVu+B0/z5AlB3oaivx6n+DwNJ6tk/\n",
       "QbkcARjuYQJH6pkJyOpBwQ8JVxT/WuEyn/MjlMumQEx4Cs3/+wDCZTkAcUAP2AFLMNWXofG7kdjY\n",
       "0gM6MENisz0grJ5LAMGWIiJ7cV9AsG8Tkx/3wVl8BTiUAADwIkelvv0NywAAAABJRU5ErkJggg==\n",
       "\" style=\"display:inline;vertical-align:middle;\" /></a></td></tr>\n",
       "<tr><td>3</td><td>ExprTuple</td><td>6, 10</td><td><a class=\"ProveItLink\" href=\"../8aea3170d55b5c7234240558f58912ed9664e6940/expr.ipynb\"><img src=\"data:image/png;base64,iVBORw0KGgoAAAANSUhEUgAAAF0AAAAVBAMAAADWVP/xAAAAMFBMVEX////c3NwiIiJERESqqqqY\n",
       "mJh2dnZmZmYQEBDu7u4yMjJUVFTMzMyIiIi6uroAAAAs73DqAAAAAXRSTlMAQObYZgAAAV1JREFU\n",
       "KM+VkzFLA0EQhZ9cLsmZS0wvNmehYJPC1LH2B1hYSCpTCcHiKosIqeN1BhuvSWEj2NikSWdhEXsD\n",
       "hlRiFYIYVDjd2d3TuVtBHdiZfbsf7DC8Bf4bpbuflT020D1Kt2Ldf/T7G2Wlcp6MCo44ukIpNxDp\n",
       "gnZvgHWMWLlNyoucv5E5BIrUgPsCZMRSSvN23eB3gHxAWCSu59BK807L4LvAE1VrChSeoZXmsWnw\n",
       "1hZ8qkuisfOK2Picbxh8toke1WEd7hptepzfNvhMiA7Vh+t9X46zw/lHgy+1EFGtBfo44vzQ4N2p\n",
       "Imb4M9+mMo+P27/2U9XjV1Hl/C6lgPN2KIdmvcZ8Iz1PZ5aa5wQ4rb3HrpwoXjnhkvgTMbdDz1v3\n",
       "vFVhqTHyZW4rrpQfSvy+m3JVQmXloza/Pogd/BVMnSHNO8I2WE7wTF3JzH9fgXpbSPzHb1UcGP9x\n",
       "BHwCInRdIDZNpHUAAAAASUVORK5CYII=\n",
       "\" style=\"display:inline;vertical-align:middle;\" /></a></td></tr>\n",
       "<tr><td>4</td><td>Literal</td><td></td><td><a class=\"ProveItLink\" href=\"../../../equality/__pv_it/2fb26078095930560931daa0500ce419a39ea6cd0/expr.ipynb\"><img src=\"data:image/png;base64,iVBORw0KGgoAAAANSUhEUgAAAA4AAAAFBAMAAACHocAhAAAAFVBMVEX///9EREQiIiJUVFQyMjJm\n",
       "ZmYAAADubVkoAAAAAXRSTlMAQObYZgAAABRJREFUCNdjCHEBAWcGXCBICQQUAUpuAwlgGKrkAAAA\n",
       "AElFTkSuQmCC\n",
       "\" style=\"display:inline;vertical-align:middle;\" /></a></td></tr>\n",
       "<tr><td>5</td><td>ExprTuple</td><td>7, 8</td><td><a class=\"ProveItLink\" href=\"../ea966b5c37f9f40c0a73a4ffc18dc4dff6e37abd0/expr.ipynb\"><img src=\"data:image/png;base64,iVBORw0KGgoAAAANSUhEUgAAAF0AAAAVBAMAAADWVP/xAAAAMFBMVEX////c3NwiIiJERESqqqqY\n",
       "mJh2dnZmZmYQEBDu7u4yMjJUVFTMzMyIiIi6uroAAAAs73DqAAAAAXRSTlMAQObYZgAAAV5JREFU\n",
       "KM+Vk6FPw0AUxj/SdVu3btTjikBgEEwPzR+AQJAppkgWRBVikOkxx4KhZgJDgsHMTIFADM8SFhRB\n",
       "LQthAZLCvetdeeuRAC+59+67+/XavH4H/DfKdz8re2ygO5Ruxbj/7PdXPa2wIB86SLh9n2IZuYEQ\n",
       "57TyDliH0MptUC7wo29kDoESneW+AhkxYqV4u2bwW0C+Q1gktmdQSvFO0+C7wDNVawIUX6CU4rFu\n",
       "8NYGAqqL4sPO1sQk4Hzd4LMN9KgOa3BXaNLj/KbBZ0K0qT5c7QaynW3OPxl8uYmIarWjliPODw3e\n",
       "ncTEFH/mW1Rmern16/dUVPvjqHB+m1KH83Yom2a9ab6e7qczTfXzETipfmhXCpUT1jryffE3Log/\n",
       "ln3DtcyFMfIetxVXsR/KfL+bctWcysqX2nx7Tzs4CaZOkeYdYRsszfFMXcrMb1/RSy6Tjm9VGhj3\n",
       "cQR8AdYwXoi9SU9yAAAAAElFTkSuQmCC\n",
       "\" style=\"display:inline;vertical-align:middle;\" /></a></td></tr>\n",
       "<tr><td>6</td><td>Operation</td><td>operator:&nbsp;9<br>operand:&nbsp;8<br></td><td><a class=\"ProveItLink\" href=\"../../../__pv_it/e620067e5fc1a01f6e7ce2f053b97db25219d34a0/expr.ipynb\"><img src=\"data:image/png;base64,iVBORw0KGgoAAAANSUhEUgAAADEAAAAVBAMAAAAdjxsPAAAAMFBMVEX////u7u5mZmaYmJi6urqq\n",
       "qqp2dnbMzMwQEBBEREQyMjLc3NwiIiJUVFSIiIgAAAAeC3ydAAAAAXRSTlMAQObYZgAAAOtJREFU\n",
       "KM9jYCAK+MFZJmDy7f+7d89uADLYLzDonAGBkwxMBWCpXwwMnN1AmksAxCsCiy0AEezfGBhYgZjh\n",
       "HQNCxgxE8H1hYGD+BGQ0IslIgAjODwwMvF8ZGFgWIMlwBgAJfqCI/AQGBqYEJBk2BSBRn8DAfgjk\n",
       "AAMkGVaQAe+vpamBHM3hgCTD0gAk5gtAfMePLMMOtJzhDwMOGfZPUBmOADTTQN6BOBTZBcxAF3B+\n",
       "hMqAHYrkaqH5fx9AZFgOgKkyMMnlgBwJ3UhsCZToMUNi56HIcAnAmYwLUGS4L8CZvBtQY3sfnPWc\n",
       "gQEAcQM23zO0HfcAAAAASUVORK5CYII=\n",
       "\" style=\"display:inline;vertical-align:middle;\" /></a></td></tr>\n",
       "<tr><td>7</td><td>Operation</td><td>operator:&nbsp;9<br>operand:&nbsp;10<br></td><td><a class=\"ProveItLink\" href=\"../../../__pv_it/4d7c4165a9fdb279e98a557bae75d7e45eb1c31a0/expr.ipynb\"><img src=\"data:image/png;base64,iVBORw0KGgoAAAANSUhEUgAAADEAAAAVBAMAAAAdjxsPAAAAMFBMVEX////u7u5mZmaYmJi6urqq\n",
       "qqp2dnbMzMwQEBBEREQyMjLc3NwiIiJUVFSIiIgAAAAeC3ydAAAAAXRSTlMAQObYZgAAAO9JREFU\n",
       "KM9jYCAK+MFZJmDy7f+7d89uADLYL4C4+0AEUwFY6hcDA2c3kOYSAPGKwGILQAT7NwYGViBmeMeA\n",
       "kDEDEXxfGBiYPwEZjUgyEiCC8wMDA+9XBgaWBUgynAFAgh8oIj8BaGsCkgybApCoT2BgPwRygAGS\n",
       "DCvIgPfX0tRAjuZwQJJhaQAS8wUgvuNHlmEHWs7whwGHDPsnqAxHAJppIO9AHIrsAmagCzg/QmXA\n",
       "DkVytdD8vw8gMiwHGBh0zpw5cebMSaAXHJAjoRuJLYESPWZI7DwUGS4BOJNxAYoM9wU4k3cDamzv\n",
       "g7OeMzAAAAoKNyNLs78oAAAAAElFTkSuQmCC\n",
       "\" style=\"display:inline;vertical-align:middle;\" /></a></td></tr>\n",
       "<tr><td>8</td><td>Literal</td><td></td><td><a class=\"ProveItLink\" href=\"../68a87cc3370287d726c7086ace789e680e4461c30/expr.ipynb\"><img src=\"data:image/png;base64,iVBORw0KGgoAAAANSUhEUgAAAA4AAAAOBAMAAADtZjDiAAAAFVBMVEX///92dnbMzMxEREQiIiJm\n",
       "ZmYAAABAT6GXAAAAAXRSTlMAQObYZgAAABhJREFUCNdjCHEBAWcGIFBlgABa0YpADAAxegPJJk4d\n",
       "XAAAAABJRU5ErkJggg==\n",
       "\" style=\"display:inline;vertical-align:middle;\" /></a></td></tr>\n",
       "<tr><td>9</td><td>Variable</td><td></td><td><a class=\"ProveItLink\" href=\"../../../../__pv_it/6369c6c8083c513ca7161ace249642d040f9327d0/expr.ipynb\"><img src=\"data:image/png;base64,iVBORw0KGgoAAAANSUhEUgAAABAAAAAOBAMAAADUAYG5AAAAMFBMVEX////u7u5mZmaYmJi6urqq\n",
       "qqp2dnbMzMwQEBBEREQyMjLc3NwiIiJUVFSIiIgAAAAeC3ydAAAAAXRSTlMAQObYZgAAAGBJREFU\n",
       "CNdjYGB4+//u3bMbGIDgFwMDZzeQZv/GwMAKxAx8XxgYmD8BGZwfGBh4vwIZ/AsYGOQnABn1CQzs\n",
       "h0Ca3l9LUwPrni/AAAF/oDT7JygDZAwYcH6E0ELz/z4A0QBnpRnRyxnfJQAAAABJRU5ErkJggg==\n",
       "\" style=\"display:inline;vertical-align:middle;\" /></a></td></tr>\n",
       "<tr><td>10</td><td>Literal</td><td></td><td><a class=\"ProveItLink\" href=\"../8f1f7fac882de28c72b62ab80a1700b6d8fd066b0/expr.ipynb\"><img src=\"data:image/png;base64,iVBORw0KGgoAAAANSUhEUgAAAA4AAAAOBAMAAADtZjDiAAAAG1BMVEX///9EREQQEBAiIiJmZmbM\n",
       "zMyIiIjc3NwAAACryk5kAAAAAXRSTlMAQObYZgAAABlJREFUCNdjYGBgKGOAgBBa0s7GxkbGxoYA\n",
       "FMUF2aBfHgoAAAAASUVORK5CYII=\n",
       "\" style=\"display:inline;vertical-align:middle;\" /></a></td></tr>\n",
       "</table>\n"
      ],
      "text/plain": [
       "0. (P(TRUE) = FALSE , P(FALSE) = TRUE)\n",
       "   core type: ExprTuple\n",
       "   sub-expressions: 1, 2\n",
       "1. P(TRUE) = FALSE\n",
       "   core type: Operation\n",
       "   operator: 4\n",
       "   operands: 3\n",
       "2. P(FALSE) = TRUE\n",
       "   core type: Operation\n",
       "   operator: 4\n",
       "   operands: 5\n",
       "3. (P(TRUE) , FALSE)\n",
       "   core type: ExprTuple\n",
       "   sub-expressions: 6, 10\n",
       "4. =\n",
       "   core type: Literal\n",
       "   sub-expressions: \n",
       "5. (P(FALSE) , TRUE)\n",
       "   core type: ExprTuple\n",
       "   sub-expressions: 7, 8\n",
       "6. P(TRUE)\n",
       "   core type: Operation\n",
       "   operator: 9\n",
       "   operand: 8\n",
       "7. P(FALSE)\n",
       "   core type: Operation\n",
       "   operator: 9\n",
       "   operand: 10\n",
       "8. TRUE\n",
       "   core type: Literal\n",
       "   sub-expressions: \n",
       "9. P\n",
       "   core type: Variable\n",
       "   sub-expressions: \n",
       "10. FALSE\n",
       "    core type: Literal\n",
       "    sub-expressions: "
      ]
     },
     "execution_count": 4,
     "metadata": {},
     "output_type": "execute_result"
    }
   ],
   "source": [
    "# display the expression information\n",
    "expr.exprInfo()"
   ]
  },
  {
   "cell_type": "code",
   "execution_count": null,
   "metadata": {},
   "outputs": [],
   "source": []
  }
 ],
 "metadata": {
  "kernelspec": {
   "display_name": "Python 3",
   "language": "python",
   "name": "python3"
  }
 },
 "nbformat": 4,
 "nbformat_minor": 0
}
