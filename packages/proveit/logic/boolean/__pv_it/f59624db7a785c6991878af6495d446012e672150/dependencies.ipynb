{
 "cells": [
  {
   "cell_type": "markdown",
   "metadata": {},
   "source": [
    "Axiom Dependencies\n",
    "=======================\n",
    "\n",
    "## <a class=\"ProveItLink\" href=\"../../_context_.ipynb\">proveit.logic.boolean</a>.<a class=\"ProveItLink\" href=\"../../_axioms_.ipynb#falseNotTrue\">falseNotTrue</a> \n"
   ]
  },
  {
   "cell_type": "code",
   "execution_count": 1,
   "metadata": {},
   "outputs": [],
   "source": [
    "from proveit.logic.boolean._axioms_ import falseNotTrue"
   ]
  },
  {
   "cell_type": "code",
   "execution_count": 2,
   "metadata": {},
   "outputs": [
    {
     "data": {
      "text/html": [
       "<h3>Theorems that depend directly on falseNotTrue</h3>"
      ],
      "text/plain": [
       "<IPython.core.display.HTML object>"
      ]
     },
     "metadata": {},
     "output_type": "display_data"
    },
    {
     "data": {
      "text/html": [
       "<dl>"
      ],
      "text/plain": [
       "<IPython.core.display.HTML object>"
      ]
     },
     "metadata": {},
     "output_type": "display_data"
    },
    {
     "data": {
      "text/html": [
       "<dt><a class=\"ProveItLink\" href=\"../../_proofs_/falseInBool.ipynb\">proveit.logic.boolean.falseInBool</a></dt><dd><a class=\"ProveItLink\" href=\"../5ddcdc170ae135aa2397d35b7606cd81f952c91a0/expr.ipynb\"><img src=\"data:image/png;base64,iVBORw0KGgoAAAANSUhEUgAAADYAAAAPBAMAAABdHiGLAAAAMFBMVEX///92dnaqqqpUVFS6urqY\n",
       "mJgyMjLu7u5EREQQEBAiIiJmZmbMzMyIiIjc3NwAAABz/qQtAAAAAXRSTlMAQObYZgAAAJVJREFU\n",
       "GNNjYGBgeMuABhjz277NagIzT6PLMXCwXCgrFMApx+uQgCLHfm3VqgSoHFOAOYrcsXAkfX4NyHJ8\n",
       "7UhmnoooQJbjeICQW/V/Loo7K1DccgnFTM9VqxBuYWhwRJY7jKyPoYEDWa4KjxxzAIocipnsS5Dk\n",
       "WPc2MOxatWrlqlUrwELP9sDD+sdKI7RwVM6CuBMCADjtOPFI200aAAAAAElFTkSuQmCC\n",
       "\" style=\"display:inline;vertical-align:middle;\" /></a></dd>"
      ],
      "text/plain": [
       "<IPython.core.display.HTML object>"
      ]
     },
     "metadata": {},
     "output_type": "display_data"
    },
    {
     "data": {
      "text/html": [
       "<dt><a class=\"ProveItLink\" href=\"../../negation/_proofs_/untrueFromNegation.ipynb\">proveit.logic.boolean.negation.untrueFromNegation</a></dt><dd><a class=\"ProveItLink\" href=\"../../negation/__pv_it/490c148b705a435cc350dcd45aef3fb19d06d7950/expr.ipynb\"><img src=\"data:image/png;base64,iVBORw0KGgoAAAANSUhEUgAAAJcAAAAXCAMAAAAx8S2TAAAAPFBMVEX///8LCwsYGBgNDQ0oKCgQ\n",
       "EBC6urrMzMxUVFRmZmZERETc3NwyMjKqqqp2dnaIiIiYmJgiIiLu7u4AAACwKje0AAAAAXRSTlMA\n",
       "QObYZgAAAdJJREFUSMfNlul2hCAMhenCDrK9/7tWYEaCRqSnTtv88OjMNX5cQoCQfxrx/pTMXWsW\n",
       "ffqXZ/ka2rO7B4uL7ilgGm3avQwgVP6BZ3D7/N/cZF2fxyRMI9hhNBK8k8nVcwjqHizX2e5DimO7\n",
       "EC6/gOFJew8XhRzayqRn7Oq4Ii1wukS4qeg7KxxxCWFApgZyEZU9SipHWO7hkjAPi8Qmf9AofsG1\n",
       "5AdRVArYbaD1bFjjh0kyACOu7/LU6k2aEp8f+SoGXDabzrIiAvt9Z/1oOfjjJFHWD0knOWNXz8Xo\n",
       "s4W5NswoO+sHXDtlCUDKRY60T8AEueLipblkptBW0RKDnOPaKfdc9Y6ay7k/4VrnEPRo7ohSU1x7\n",
       "ZcXY2s3jJtC+s7+/tc4+nse15kFDEfn9Ka69ssr91rrwho/b1XP56rEF6f2aziWca1E1DK5sSxwu\n",
       "JNU3fLy6sD6Rzd/W8loxUnapEL8UrqzfDXVTo6kY41VKRl7bRTjse+YxfX7LLnUpO37NdVQ+xqhH\n",
       "Dc/KmbMXPewitTrg8j/hQpRg0z2NMHNoWXYnrlibjRYp+BEXx5UT56U5u8zMhvft448WP7RL6Jdw\n",
       "EX1+8GUzBzhOXsP1OyH+5KtfxagUrnrqUXwAAAAASUVORK5CYII=\n",
       "\" style=\"display:inline;vertical-align:middle;\" /></a></dd>"
      ],
      "text/plain": [
       "<IPython.core.display.HTML object>"
      ]
     },
     "metadata": {},
     "output_type": "display_data"
    },
    {
     "data": {
      "text/html": [
       "<dt><a class=\"ProveItLink\" href=\"../../_proofs_/trueNotFalse.ipynb\">proveit.logic.boolean.trueNotFalse</a></dt><dd><a class=\"ProveItLink\" href=\"../1e6afdac209ee0bf3ba666f4e9f1a57764e8a0b60/expr.ipynb\"><img src=\"data:image/png;base64,iVBORw0KGgoAAAANSUhEUgAAADoAAAAUCAMAAADrw95cAAAAOVBMVEX///8QEBCIiIgLCwsYGBgN\n",
       "DQ0oKCju7u6qqqq6urpUVFQyMjLc3Nx2dnbMzMxEREQiIiJmZmYAAABFgl9CAAAAAXRSTlMAQObY\n",
       "ZgAAAH5JREFUOMvFk90KgCAMRtd//uv7v2wkBeU2XLvpuxCcHg8DB9BL8NxJyY8kfO4dqoyvbSzc\n",
       "09a0leYui2KpGMVSKRqJ7oVoip/R4mrW5VytxkpJZaixoEWdV6D1j80T+cckVloqQelOMRok0mtU\n",
       "Bm5U7uwFtMmblvxFCqZ74wArxAe2MytVagAAAABJRU5ErkJggg==\n",
       "\" style=\"display:inline;vertical-align:middle;\" /></a></dd>"
      ],
      "text/plain": [
       "<IPython.core.display.HTML object>"
      ]
     },
     "metadata": {},
     "output_type": "display_data"
    },
    {
     "data": {
      "text/html": [
       "</dl>"
      ],
      "text/plain": [
       "<IPython.core.display.HTML object>"
      ]
     },
     "metadata": {},
     "output_type": "display_data"
    }
   ],
   "source": [
    "%dependencies falseNotTrue"
   ]
  }
 ],
 "metadata": {
  "kernelspec": {
   "display_name": "Python 3",
   "language": "python",
   "name": "python3"
  }
 },
 "nbformat": 4,
 "nbformat_minor": 0
}
