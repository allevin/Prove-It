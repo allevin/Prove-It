{
 "cells": [
  {
   "cell_type": "markdown",
   "metadata": {
    "collapsed": true
   },
   "source": [
    "Demonstrations for context <a class=\"ProveItLink\" href=\"_context_.ipynb\">proveit.logic.boolean.negation</a>\n",
    "========"
   ]
  },
  {
   "cell_type": "code",
   "execution_count": 1,
   "metadata": {},
   "outputs": [],
   "source": [
    "import proveit\n",
    "from proveit._common_ import A, B, C\n",
    "from proveit.logic import Not, Equals, NotEquals, TRUE, FALSE, Implies, inBool, Booleans\n",
    "\n",
    "%begin demonstrations"
   ]
  },
  {
   "cell_type": "markdown",
   "metadata": {},
   "source": [
    "## Booleans\n",
    "\"Boolean\" is a logical term used to deonte a type of variable that has two possible values: `True` or `False`.  Negation is the act of outputing the opposite of the original term.  \n",
    "True to the nature of Booleans, we can perform operations on `True` and `False` themselves.  \n",
    "\n",
    "\n"
   ]
  },
  {
   "cell_type": "code",
   "execution_count": 2,
   "metadata": {},
   "outputs": [
    {
     "data": {
      "text/html": [
       "<table><tr><th>&nbsp;</th><th>step type</th><th>requirements</th><th>statement</th></tr>\n",
       "<tr><td>0</td><td>theorem</td><td></td><td><span style=\"font-size:20px;\"> &#x22A2;&nbsp;<a class=\"ProveItLink\" href=\"__pv_it/01165fd25131c0df966b8e8c1626e275fd04f3050/expr.ipynb\"><img src=\"__pv_it/01165fd25131c0df966b8e8c1626e275fd04f3050/expr.png\" style=\"display:inline;vertical-align:middle;\" /></a></span></td></tr>\n",
       "<tr><td>&nbsp;</td><td colspan=4 style-\"text-align:left\"><a class=\"ProveItLink\" href=\"_proofs_/notFalse.ipynb\">proveit.logic.boolean.negation.notFalse</a></td></tr></table>"
      ],
      "text/plain": [
       "proveit.logic.boolean.negation.notFalse"
      ]
     },
     "execution_count": 2,
     "metadata": {},
     "output_type": "execute_result"
    }
   ],
   "source": [
    "Not(FALSE).prove([]).proof()"
   ]
  },
  {
   "cell_type": "markdown",
   "metadata": {},
   "source": [
    "Because we know that there are only two possible values in the Boolean set, the opposite or $\\lnot$ of one value must produce the other."
   ]
  },
  {
   "cell_type": "code",
   "execution_count": 3,
   "metadata": {},
   "outputs": [
    {
     "data": {
      "text/html": [
       "<table><tr><th>&nbsp;</th><th>step type</th><th>requirements</th><th>statement</th></tr>\n",
       "<tr><td>0</td><td>specialization</td><td>1, 2, 3</td><td><span style=\"font-size:20px;\"><a class=\"ProveItLink\" href=\"__pv_it/54bea2c2e010a0f301f929c7fb81ee9f3919aec00/expr.ipynb\"><img src=\"__pv_it/54bea2c2e010a0f301f929c7fb81ee9f3919aec00/expr.png\" style=\"display:inline;vertical-align:middle;\" /></a> &#x22A2;&nbsp;<a class=\"ProveItLink\" href=\"../__pv_it/8f1f7fac882de28c72b62ab80a1700b6d8fd066b0/expr.ipynb\"><img src=\"../__pv_it/8f1f7fac882de28c72b62ab80a1700b6d8fd066b0/expr.png\" style=\"display:inline;vertical-align:middle;\" /></a></span></td></tr>\n",
       "<tr><td>&nbsp;</td><td colspan=4 style=\"text-align:left\"><span style=\"font-size:20px;\"><a class=\"ProveItLink\" href=\"__pv_it/230d5609b24eaa18085c2f67f9301ddf8d7de5610/expr.ipynb\"><img src=\"__pv_it/230d5609b24eaa18085c2f67f9301ddf8d7de5610/expr.png\" style=\"display:inline;vertical-align:middle;\" /></a></span></td></tr><tr><td>1</td><td>theorem</td><td></td><td><span style=\"font-size:20px;\"> &#x22A2;&nbsp;<a class=\"ProveItLink\" href=\"__pv_it/e727a5939d997c0a6c3bd2fbea4c4df70b5dc6d10/expr.ipynb\"><img src=\"__pv_it/e727a5939d997c0a6c3bd2fbea4c4df70b5dc6d10/expr.png\" style=\"display:inline;vertical-align:middle;\" /></a></span></td></tr>\n",
       "<tr><td>&nbsp;</td><td colspan=4 style-\"text-align:left\"><a class=\"ProveItLink\" href=\"_proofs_/negationContradiction.ipynb\">proveit.logic.boolean.negation.negationContradiction</a></td></tr><tr><td>2</td><td>axiom</td><td></td><td><span style=\"font-size:20px;\"> &#x22A2;&nbsp;<a class=\"ProveItLink\" href=\"../__pv_it/68a87cc3370287d726c7086ace789e680e4461c30/expr.ipynb\"><img src=\"../__pv_it/68a87cc3370287d726c7086ace789e680e4461c30/expr.png\" style=\"display:inline;vertical-align:middle;\" /></a></span></td></tr>\n",
       "<tr><td>&nbsp;</td><td colspan=4 style-\"text-align:left\"><a class=\"ProveItLink\" href=\"../_axioms_.ipynb#trueAxiom\">proveit.logic.boolean.trueAxiom</a></td></tr><tr><td>3</td><td>assumption</td><td></td><td><span style=\"font-size:20px;\"><a class=\"ProveItLink\" href=\"__pv_it/54bea2c2e010a0f301f929c7fb81ee9f3919aec00/expr.ipynb\"><img src=\"__pv_it/54bea2c2e010a0f301f929c7fb81ee9f3919aec00/expr.png\" style=\"display:inline;vertical-align:middle;\" /></a> &#x22A2;&nbsp;<a class=\"ProveItLink\" href=\"__pv_it/dfafa6688e23e6052338b04329ec0289b038a5460/expr.ipynb\"><img src=\"__pv_it/dfafa6688e23e6052338b04329ec0289b038a5460/expr.png\" style=\"display:inline;vertical-align:middle;\" /></a></span></td></tr>\n",
       "</table>"
      ],
      "text/plain": [
       "\tstep type\trequirements\tstatement\n",
       "0\tspecialization\t1, 2, 3\t{[not](TRUE)} |= FALSE\n",
       "\tA -> TRUE\n",
       "1\ttheorem\t\t|= forall_{A | A , [not](A)} FALSE\n",
       "\tproveit.logic.boolean.negation.negationContradiction\n",
       "2\taxiom\t\t|= TRUE\n",
       "\tproveit.logic.boolean.trueAxiom\n",
       "3\tassumption\t\t{[not](TRUE)} |= [not](TRUE)"
      ]
     },
     "execution_count": 3,
     "metadata": {},
     "output_type": "execute_result"
    }
   ],
   "source": [
    "FALSE.prove([Not(TRUE)]).proof()"
   ]
  },
  {
   "cell_type": "code",
   "execution_count": 4,
   "metadata": {},
   "outputs": [
    {
     "data": {
      "text/html": [
       "<table><tr><th>&nbsp;</th><th>step type</th><th>requirements</th><th>statement</th></tr>\n",
       "<tr><td>0</td><td>theorem</td><td></td><td><span style=\"font-size:20px;\"> &#x22A2;&nbsp;<a class=\"ProveItLink\" href=\"__pv_it/d15a94745248812aa8487be134f06c9c5d8bf36b0/expr.ipynb\"><img src=\"__pv_it/d15a94745248812aa8487be134f06c9c5d8bf36b0/expr.png\" style=\"display:inline;vertical-align:middle;\" /></a></span></td></tr>\n",
       "<tr><td>&nbsp;</td><td colspan=4 style-\"text-align:left\"><a class=\"ProveItLink\" href=\"_proofs_/notF.ipynb\">proveit.logic.boolean.negation.notF</a></td></tr></table>"
      ],
      "text/plain": [
       "proveit.logic.boolean.negation.notF"
      ]
     },
     "execution_count": 4,
     "metadata": {},
     "output_type": "execute_result"
    }
   ],
   "source": [
    "Equals(Not(FALSE), TRUE).prove([]).proof()"
   ]
  },
  {
   "cell_type": "code",
   "execution_count": 5,
   "metadata": {},
   "outputs": [
    {
     "data": {
      "text/html": [
       "<table><tr><th>&nbsp;</th><th>step type</th><th>requirements</th><th>statement</th></tr>\n",
       "<tr><td>0</td><td>theorem</td><td></td><td><span style=\"font-size:20px;\"> &#x22A2;&nbsp;<a class=\"ProveItLink\" href=\"__pv_it/616bbddf0a07cdf603496a9c8ad63f9accda890d0/expr.ipynb\"><img src=\"__pv_it/616bbddf0a07cdf603496a9c8ad63f9accda890d0/expr.png\" style=\"display:inline;vertical-align:middle;\" /></a></span></td></tr>\n",
       "<tr><td>&nbsp;</td><td colspan=4 style-\"text-align:left\"><a class=\"ProveItLink\" href=\"_proofs_/notT.ipynb\">proveit.logic.boolean.negation.notT</a></td></tr></table>"
      ],
      "text/plain": [
       "proveit.logic.boolean.negation.notT"
      ]
     },
     "execution_count": 5,
     "metadata": {},
     "output_type": "execute_result"
    }
   ],
   "source": [
    "Equals(Not(TRUE), FALSE).prove([]).proof()"
   ]
  },
  {
   "cell_type": "code",
   "execution_count": 6,
   "metadata": {},
   "outputs": [
    {
     "data": {
      "text/html": [
       "<table><tr><th>&nbsp;</th><th>step type</th><th>requirements</th><th>statement</th></tr>\n",
       "<tr><td>0</td><td>theorem</td><td></td><td><span style=\"font-size:20px;\"> &#x22A2;&nbsp;<a class=\"ProveItLink\" href=\"__pv_it/8d4d525c3caf2ce99323da5c959d6a86f865caa40/expr.ipynb\"><img src=\"__pv_it/8d4d525c3caf2ce99323da5c959d6a86f865caa40/expr.png\" style=\"display:inline;vertical-align:middle;\" /></a></span></td></tr>\n",
       "<tr><td>&nbsp;</td><td colspan=4 style-\"text-align:left\"><a class=\"ProveItLink\" href=\"_proofs_/notTimpliesF.ipynb\">proveit.logic.boolean.negation.notTimpliesF</a></td></tr></table>"
      ],
      "text/plain": [
       "proveit.logic.boolean.negation.notTimpliesF"
      ]
     },
     "execution_count": 6,
     "metadata": {},
     "output_type": "execute_result"
    }
   ],
   "source": [
    "Implies(Not(TRUE),FALSE).prove([]).proof()"
   ]
  },
  {
   "cell_type": "markdown",
   "metadata": {},
   "source": [
    "**Implicit in the following set of axioms is that $\\lnot A$ is in Booleans iff\n",
    "$A$ is in Booleans.  Otherwise, $\\lnot A$ is simply undefined.**  \n",
    "\n",
    "## Boolean Operations\n",
    "\n",
    "These next theorems prove what is implicit in the following axioms.  "
   ]
  },
  {
   "cell_type": "code",
   "execution_count": 7,
   "metadata": {},
   "outputs": [
    {
     "data": {
      "text/html": [
       "<table><tr><th>&nbsp;</th><th>step type</th><th>requirements</th><th>statement</th></tr>\n",
       "<tr><td>0</td><td>specialization</td><td>1, 2</td><td><span style=\"font-size:20px;\"><a class=\"ProveItLink\" href=\"__pv_it/017ca8cfa034181c90ba15dd10869f0f4e516d6a0/expr.ipynb\"><img src=\"__pv_it/017ca8cfa034181c90ba15dd10869f0f4e516d6a0/expr.png\" style=\"display:inline;vertical-align:middle;\" /></a> &#x22A2;&nbsp;<a class=\"ProveItLink\" href=\"__pv_it/950545f9a03f5164a11b771df9eb43356be92a000/expr.ipynb\"><img src=\"__pv_it/950545f9a03f5164a11b771df9eb43356be92a000/expr.png\" style=\"display:inline;vertical-align:middle;\" /></a></span></td></tr>\n",
       "<tr><td>&nbsp;</td><td colspan=4 style=\"text-align:left\"><span style=\"font-size:20px;\"><a class=\"ProveItLink\" href=\"__pv_it/e2ee195baea449ecf67452694c66cbd67b2c19580/expr.ipynb\"><img src=\"__pv_it/e2ee195baea449ecf67452694c66cbd67b2c19580/expr.png\" style=\"display:inline;vertical-align:middle;\" /></a></span></td></tr><tr><td>1</td><td>theorem</td><td></td><td><span style=\"font-size:20px;\"> &#x22A2;&nbsp;<a class=\"ProveItLink\" href=\"__pv_it/7b5911b87c2403d7522694ec07544fccac09289d0/expr.ipynb\"><img src=\"__pv_it/7b5911b87c2403d7522694ec07544fccac09289d0/expr.png\" style=\"display:inline;vertical-align:middle;\" /></a></span></td></tr>\n",
       "<tr><td>&nbsp;</td><td colspan=4 style-\"text-align:left\"><a class=\"ProveItLink\" href=\"_proofs_/closure.ipynb\">proveit.logic.boolean.negation.closure</a></td></tr><tr><td>2</td><td>assumption</td><td></td><td><span style=\"font-size:20px;\"><a class=\"ProveItLink\" href=\"__pv_it/017ca8cfa034181c90ba15dd10869f0f4e516d6a0/expr.ipynb\"><img src=\"__pv_it/017ca8cfa034181c90ba15dd10869f0f4e516d6a0/expr.png\" style=\"display:inline;vertical-align:middle;\" /></a> &#x22A2;&nbsp;<a class=\"ProveItLink\" href=\"__pv_it/03a5c2b5cc6fc2c3cd686b4bcf84379b893abe210/expr.ipynb\"><img src=\"__pv_it/03a5c2b5cc6fc2c3cd686b4bcf84379b893abe210/expr.png\" style=\"display:inline;vertical-align:middle;\" /></a></span></td></tr>\n",
       "</table>"
      ],
      "text/plain": [
       "\tstep type\trequirements\tstatement\n",
       "0\tspecialization\t1, 2\t{A in BOOLEANS} |= [not](A) in BOOLEANS\n",
       "\tA -> A\n",
       "1\ttheorem\t\t|= forall_{A in BOOLEANS} ([not](A) in BOOLEANS)\n",
       "\tproveit.logic.boolean.negation.closure\n",
       "2\tassumption\t\t{A in BOOLEANS} |= A in BOOLEANS"
      ]
     },
     "execution_count": 7,
     "metadata": {},
     "output_type": "execute_result"
    }
   ],
   "source": [
    "inBool(Not(A)).prove([inBool(A)]).proof()"
   ]
  },
  {
   "cell_type": "code",
   "execution_count": 8,
   "metadata": {},
   "outputs": [
    {
     "data": {
      "text/html": [
       "<table><tr><th>&nbsp;</th><th>step type</th><th>requirements</th><th>statement</th></tr>\n",
       "<tr><td>0</td><td>specialization</td><td>1, 2</td><td><span style=\"font-size:20px;\"><a class=\"ProveItLink\" href=\"__pv_it/017ca8cfa034181c90ba15dd10869f0f4e516d6a0/expr.ipynb\"><img src=\"__pv_it/017ca8cfa034181c90ba15dd10869f0f4e516d6a0/expr.png\" style=\"display:inline;vertical-align:middle;\" /></a> &#x22A2;&nbsp;<a class=\"ProveItLink\" href=\"__pv_it/adfc9e9b47fedc1cfd036037fb8bbac2551a4efd0/expr.ipynb\"><img src=\"__pv_it/adfc9e9b47fedc1cfd036037fb8bbac2551a4efd0/expr.png\" style=\"display:inline;vertical-align:middle;\" /></a></span></td></tr>\n",
       "<tr><td>&nbsp;</td><td colspan=4 style=\"text-align:left\"><span style=\"font-size:20px;\"><a class=\"ProveItLink\" href=\"__pv_it/e2ee195baea449ecf67452694c66cbd67b2c19580/expr.ipynb\"><img src=\"__pv_it/e2ee195baea449ecf67452694c66cbd67b2c19580/expr.png\" style=\"display:inline;vertical-align:middle;\" /></a></span></td></tr><tr><td>1</td><td>theorem</td><td></td><td><span style=\"font-size:20px;\"> &#x22A2;&nbsp;<a class=\"ProveItLink\" href=\"__pv_it/50cd6baa94956ad08bff894000c109d6f6d6aa7c0/expr.ipynb\"><img src=\"__pv_it/50cd6baa94956ad08bff894000c109d6f6d6aa7c0/expr.png\" style=\"display:inline;vertical-align:middle;\" /></a></span></td></tr>\n",
       "<tr><td>&nbsp;</td><td colspan=4 style-\"text-align:left\"><a class=\"ProveItLink\" href=\"_proofs_/doubleNegClosure.ipynb\">proveit.logic.boolean.negation.doubleNegClosure</a></td></tr><tr><td>2</td><td>assumption</td><td></td><td><span style=\"font-size:20px;\"><a class=\"ProveItLink\" href=\"__pv_it/017ca8cfa034181c90ba15dd10869f0f4e516d6a0/expr.ipynb\"><img src=\"__pv_it/017ca8cfa034181c90ba15dd10869f0f4e516d6a0/expr.png\" style=\"display:inline;vertical-align:middle;\" /></a> &#x22A2;&nbsp;<a class=\"ProveItLink\" href=\"__pv_it/03a5c2b5cc6fc2c3cd686b4bcf84379b893abe210/expr.ipynb\"><img src=\"__pv_it/03a5c2b5cc6fc2c3cd686b4bcf84379b893abe210/expr.png\" style=\"display:inline;vertical-align:middle;\" /></a></span></td></tr>\n",
       "</table>"
      ],
      "text/plain": [
       "\tstep type\trequirements\tstatement\n",
       "0\tspecialization\t1, 2\t{A in BOOLEANS} |= [not]([not](A)) in BOOLEANS\n",
       "\tA -> A\n",
       "1\ttheorem\t\t|= forall_{A in BOOLEANS} ([not]([not](A)) in BOOLEANS)\n",
       "\tproveit.logic.boolean.negation.doubleNegClosure\n",
       "2\tassumption\t\t{A in BOOLEANS} |= A in BOOLEANS"
      ]
     },
     "execution_count": 8,
     "metadata": {},
     "output_type": "execute_result"
    }
   ],
   "source": [
    "inBool(Not(Not(A))).prove([inBool(A)]).proof()"
   ]
  },
  {
   "cell_type": "code",
   "execution_count": 9,
   "metadata": {},
   "outputs": [
    {
     "data": {
      "text/html": [
       "<table><tr><th>&nbsp;</th><th>step type</th><th>requirements</th><th>statement</th></tr>\n",
       "<tr><td>0</td><td>specialization</td><td>1, 2</td><td><span style=\"font-size:20px;\"><a class=\"ProveItLink\" href=\"__pv_it/1abb8211440e823069bf8cd4e6bcfc72112bba6c0/expr.ipynb\"><img src=\"__pv_it/1abb8211440e823069bf8cd4e6bcfc72112bba6c0/expr.png\" style=\"display:inline;vertical-align:middle;\" /></a> &#x22A2;&nbsp;<a class=\"ProveItLink\" href=\"__pv_it/03a5c2b5cc6fc2c3cd686b4bcf84379b893abe210/expr.ipynb\"><img src=\"__pv_it/03a5c2b5cc6fc2c3cd686b4bcf84379b893abe210/expr.png\" style=\"display:inline;vertical-align:middle;\" /></a></span></td></tr>\n",
       "<tr><td>&nbsp;</td><td colspan=4 style=\"text-align:left\"><span style=\"font-size:20px;\"><a class=\"ProveItLink\" href=\"__pv_it/e2ee195baea449ecf67452694c66cbd67b2c19580/expr.ipynb\"><img src=\"__pv_it/e2ee195baea449ecf67452694c66cbd67b2c19580/expr.png\" style=\"display:inline;vertical-align:middle;\" /></a></span></td></tr><tr><td>1</td><td>theorem</td><td></td><td><span style=\"font-size:20px;\"> &#x22A2;&nbsp;<a class=\"ProveItLink\" href=\"__pv_it/d36c8e2aa76ae2dab2b2bccac3cb95030adef6f90/expr.ipynb\"><img src=\"__pv_it/d36c8e2aa76ae2dab2b2bccac3cb95030adef6f90/expr.png\" style=\"display:inline;vertical-align:middle;\" /></a></span></td></tr>\n",
       "<tr><td>&nbsp;</td><td colspan=4 style-\"text-align:left\"><a class=\"ProveItLink\" href=\"_proofs_/operandInBool.ipynb\">proveit.logic.boolean.negation.operandInBool</a></td></tr><tr><td>2</td><td>assumption</td><td></td><td><span style=\"font-size:20px;\"><a class=\"ProveItLink\" href=\"__pv_it/1abb8211440e823069bf8cd4e6bcfc72112bba6c0/expr.ipynb\"><img src=\"__pv_it/1abb8211440e823069bf8cd4e6bcfc72112bba6c0/expr.png\" style=\"display:inline;vertical-align:middle;\" /></a> &#x22A2;&nbsp;<a class=\"ProveItLink\" href=\"__pv_it/950545f9a03f5164a11b771df9eb43356be92a000/expr.ipynb\"><img src=\"__pv_it/950545f9a03f5164a11b771df9eb43356be92a000/expr.png\" style=\"display:inline;vertical-align:middle;\" /></a></span></td></tr>\n",
       "</table>"
      ],
      "text/plain": [
       "\tstep type\trequirements\tstatement\n",
       "0\tspecialization\t1, 2\t{[not](A) in BOOLEANS} |= A in BOOLEANS\n",
       "\tA -> A\n",
       "1\ttheorem\t\t|= forall_{A | [not](A) in BOOLEANS} (A in BOOLEANS)\n",
       "\tproveit.logic.boolean.negation.operandInBool\n",
       "2\tassumption\t\t{[not](A) in BOOLEANS} |= [not](A) in BOOLEANS"
      ]
     },
     "execution_count": 9,
     "metadata": {},
     "output_type": "execute_result"
    }
   ],
   "source": [
    "inBool(A).prove([inBool(Not(A))]).proof()"
   ]
  },
  {
   "cell_type": "code",
   "execution_count": 20,
   "metadata": {},
   "outputs": [
    {
     "data": {
      "text/html": [
       "<table><tr><th>&nbsp;</th><th>step type</th><th>requirements</th><th>statement</th></tr>\n",
       "<tr><td>0</td><td>specialization</td><td>1, 2</td><td><span style=\"font-size:20px;\"><a class=\"ProveItLink\" href=\"__pv_it/017ca8cfa034181c90ba15dd10869f0f4e516d6a0/expr.ipynb\"><img src=\"__pv_it/017ca8cfa034181c90ba15dd10869f0f4e516d6a0/expr.png\" style=\"display:inline;vertical-align:middle;\" /></a> &#x22A2;&nbsp;<a class=\"ProveItLink\" href=\"__pv_it/3eee566fcdacba9e8062669d88bceb9d4594eb200/expr.ipynb\"><img src=\"__pv_it/3eee566fcdacba9e8062669d88bceb9d4594eb200/expr.png\" style=\"display:inline;vertical-align:middle;\" /></a></span></td></tr>\n",
       "<tr><td>&nbsp;</td><td colspan=4 style=\"text-align:left\"><span style=\"font-size:20px;\"><a class=\"ProveItLink\" href=\"__pv_it/e2ee195baea449ecf67452694c66cbd67b2c19580/expr.ipynb\"><img src=\"__pv_it/e2ee195baea449ecf67452694c66cbd67b2c19580/expr.png\" style=\"display:inline;vertical-align:middle;\" /></a></span></td></tr><tr><td>1</td><td>theorem</td><td></td><td><span style=\"font-size:20px;\"> &#x22A2;&nbsp;<a class=\"ProveItLink\" href=\"__pv_it/93acd382bf83512ca8b60cf528d22d972457c7020/expr.ipynb\"><img src=\"__pv_it/93acd382bf83512ca8b60cf528d22d972457c7020/expr.png\" style=\"display:inline;vertical-align:middle;\" /></a></span></td></tr>\n",
       "<tr><td>&nbsp;</td><td colspan=4 style-\"text-align:left\"><a class=\"ProveItLink\" href=\"_proofs_/doubleNegationEquiv.ipynb\">proveit.logic.boolean.negation.doubleNegationEquiv</a></td></tr><tr><td>2</td><td>assumption</td><td></td><td><span style=\"font-size:20px;\"><a class=\"ProveItLink\" href=\"__pv_it/017ca8cfa034181c90ba15dd10869f0f4e516d6a0/expr.ipynb\"><img src=\"__pv_it/017ca8cfa034181c90ba15dd10869f0f4e516d6a0/expr.png\" style=\"display:inline;vertical-align:middle;\" /></a> &#x22A2;&nbsp;<a class=\"ProveItLink\" href=\"__pv_it/03a5c2b5cc6fc2c3cd686b4bcf84379b893abe210/expr.ipynb\"><img src=\"__pv_it/03a5c2b5cc6fc2c3cd686b4bcf84379b893abe210/expr.png\" style=\"display:inline;vertical-align:middle;\" /></a></span></td></tr>\n",
       "</table>"
      ],
      "text/plain": [
       "\tstep type\trequirements\tstatement\n",
       "0\tspecialization\t1, 2\t{A in BOOLEANS} |= [not]([not](A)) = A\n",
       "\tA -> A\n",
       "1\ttheorem\t\t|= forall_{A in BOOLEANS} ([not]([not](A)) = A)\n",
       "\tproveit.logic.boolean.negation.doubleNegationEquiv\n",
       "2\tassumption\t\t{A in BOOLEANS} |= A in BOOLEANS"
      ]
     },
     "execution_count": 20,
     "metadata": {},
     "output_type": "execute_result"
    }
   ],
   "source": [
    "Not(Not(A)).doubleNegationEquivalence([inBool(A)]).prove([]).proof()"
   ]
  },
  {
   "cell_type": "markdown",
   "metadata": {},
   "source": [
    "Unless specifically defined otherwise, $A$'s default definition is `True`.  Therefore, since $A$ is `True`, we can define $\\lnot A$ as `False`"
   ]
  },
  {
   "cell_type": "code",
   "execution_count": 10,
   "metadata": {},
   "outputs": [
    {
     "data": {
      "text/html": [
       "<strong id=\"nAeqF\">nAeqF:</strong> <a class=\"ProveItLink\" href=\"__pv_it/972cf1f452d0a63c0db32df13ddb26e281b021780/expr.ipynb\"><img src=\"__pv_it/972cf1f452d0a63c0db32df13ddb26e281b021780/expr.png\" style=\"display:inline;vertical-align:middle;\" /></a><br>"
      ],
      "text/plain": [
       "nAeqF: [not](A) = FALSE"
      ]
     },
     "execution_count": 10,
     "metadata": {},
     "output_type": "execute_result"
    }
   ],
   "source": [
    "nAeqF = Equals(Not(A), FALSE)"
   ]
  },
  {
   "cell_type": "code",
   "execution_count": 11,
   "metadata": {},
   "outputs": [
    {
     "data": {
      "text/html": [
       "<table><tr><th>&nbsp;</th><th>step type</th><th>requirements</th><th>statement</th></tr>\n",
       "<tr><td>0</td><td>specialization</td><td>1, 2</td><td><span style=\"font-size:20px;\"><a class=\"ProveItLink\" href=\"__pv_it/158bdc91074824c720728a23dba5d58593c8cc480/expr.ipynb\"><img src=\"__pv_it/158bdc91074824c720728a23dba5d58593c8cc480/expr.png\" style=\"display:inline;vertical-align:middle;\" /></a> &#x22A2;&nbsp;<a class=\"ProveItLink\" href=\"__pv_it/972cf1f452d0a63c0db32df13ddb26e281b021780/expr.ipynb\"><img src=\"__pv_it/972cf1f452d0a63c0db32df13ddb26e281b021780/expr.png\" style=\"display:inline;vertical-align:middle;\" /></a></span></td></tr>\n",
       "<tr><td>&nbsp;</td><td colspan=4 style=\"text-align:left\"><span style=\"font-size:20px;\"><a class=\"ProveItLink\" href=\"__pv_it/e2ee195baea449ecf67452694c66cbd67b2c19580/expr.ipynb\"><img src=\"__pv_it/e2ee195baea449ecf67452694c66cbd67b2c19580/expr.png\" style=\"display:inline;vertical-align:middle;\" /></a></span></td></tr><tr><td>1</td><td>theorem</td><td></td><td><span style=\"font-size:20px;\"> &#x22A2;&nbsp;<a class=\"ProveItLink\" href=\"__pv_it/ffbd7166e203b5199f10aabab423e0791a7da4170/expr.ipynb\"><img src=\"__pv_it/ffbd7166e203b5199f10aabab423e0791a7da4170/expr.png\" style=\"display:inline;vertical-align:middle;\" /></a></span></td></tr>\n",
       "<tr><td>&nbsp;</td><td colspan=4 style-\"text-align:left\"><a class=\"ProveItLink\" href=\"_proofs_/falsifiedNegationIntro.ipynb\">proveit.logic.boolean.negation.falsifiedNegationIntro</a></td></tr><tr><td>2</td><td>assumption</td><td></td><td><span style=\"font-size:20px;\"><a class=\"ProveItLink\" href=\"__pv_it/158bdc91074824c720728a23dba5d58593c8cc480/expr.ipynb\"><img src=\"__pv_it/158bdc91074824c720728a23dba5d58593c8cc480/expr.png\" style=\"display:inline;vertical-align:middle;\" /></a> &#x22A2;&nbsp;<a class=\"ProveItLink\" href=\"../../../__pv_it/2cbe72a7ad6f655694dd697106680215e8489b600/expr.ipynb\"><img src=\"../../../__pv_it/2cbe72a7ad6f655694dd697106680215e8489b600/expr.png\" style=\"display:inline;vertical-align:middle;\" /></a></span></td></tr>\n",
       "</table>"
      ],
      "text/plain": [
       "\tstep type\trequirements\tstatement\n",
       "0\tspecialization\t1, 2\t{A} |= [not](A) = FALSE\n",
       "\tA -> A\n",
       "1\ttheorem\t\t|= forall_{A | A} ([not](A) = FALSE)\n",
       "\tproveit.logic.boolean.negation.falsifiedNegationIntro\n",
       "2\tassumption\t\t{A} |= A"
      ]
     },
     "execution_count": 11,
     "metadata": {},
     "output_type": "execute_result"
    }
   ],
   "source": [
    "nAeqF.prove([A]).proof()"
   ]
  },
  {
   "cell_type": "markdown",
   "metadata": {},
   "source": [
    "Similarly, given $\\lnot A$ we can show that $A$ = `False`."
   ]
  },
  {
   "cell_type": "code",
   "execution_count": 12,
   "metadata": {},
   "outputs": [
    {
     "data": {
      "text/html": [
       "<strong id=\"AeqF\">AeqF:</strong> <a class=\"ProveItLink\" href=\"__pv_it/59b818aa3070d9f9cb643715737df9a2274cbc840/expr.ipynb\"><img src=\"__pv_it/59b818aa3070d9f9cb643715737df9a2274cbc840/expr.png\" style=\"display:inline;vertical-align:middle;\" /></a><br>"
      ],
      "text/plain": [
       "AeqF: A = FALSE"
      ]
     },
     "execution_count": 12,
     "metadata": {},
     "output_type": "execute_result"
    }
   ],
   "source": [
    "AeqF = Equals(A,FALSE)"
   ]
  },
  {
   "cell_type": "code",
   "execution_count": 13,
   "metadata": {},
   "outputs": [
    {
     "data": {
      "text/html": [
       "<table><tr><th>&nbsp;</th><th>step type</th><th>requirements</th><th>statement</th></tr>\n",
       "<tr><td>0</td><td>specialization</td><td>1, 2</td><td><span style=\"font-size:20px;\"><a class=\"ProveItLink\" href=\"__pv_it/7680528e1ee86122472bd9f62475b835210285660/expr.ipynb\"><img src=\"__pv_it/7680528e1ee86122472bd9f62475b835210285660/expr.png\" style=\"display:inline;vertical-align:middle;\" /></a> &#x22A2;&nbsp;<a class=\"ProveItLink\" href=\"__pv_it/59b818aa3070d9f9cb643715737df9a2274cbc840/expr.ipynb\"><img src=\"__pv_it/59b818aa3070d9f9cb643715737df9a2274cbc840/expr.png\" style=\"display:inline;vertical-align:middle;\" /></a></span></td></tr>\n",
       "<tr><td>&nbsp;</td><td colspan=4 style=\"text-align:left\"><span style=\"font-size:20px;\"><a class=\"ProveItLink\" href=\"__pv_it/e2ee195baea449ecf67452694c66cbd67b2c19580/expr.ipynb\"><img src=\"__pv_it/e2ee195baea449ecf67452694c66cbd67b2c19580/expr.png\" style=\"display:inline;vertical-align:middle;\" /></a></span></td></tr><tr><td>1</td><td>axiom</td><td></td><td><span style=\"font-size:20px;\"> &#x22A2;&nbsp;<a class=\"ProveItLink\" href=\"__pv_it/ff54988b43a873b48cad467afd8955bd0735c0210/expr.ipynb\"><img src=\"__pv_it/ff54988b43a873b48cad467afd8955bd0735c0210/expr.png\" style=\"display:inline;vertical-align:middle;\" /></a></span></td></tr>\n",
       "<tr><td>&nbsp;</td><td colspan=4 style-\"text-align:left\"><a class=\"ProveItLink\" href=\"_axioms_.ipynb#negationElim\">proveit.logic.boolean.negation.negationElim</a></td></tr><tr><td>2</td><td>assumption</td><td></td><td><span style=\"font-size:20px;\"><a class=\"ProveItLink\" href=\"__pv_it/7680528e1ee86122472bd9f62475b835210285660/expr.ipynb\"><img src=\"__pv_it/7680528e1ee86122472bd9f62475b835210285660/expr.png\" style=\"display:inline;vertical-align:middle;\" /></a> &#x22A2;&nbsp;<a class=\"ProveItLink\" href=\"__pv_it/2c81ead3bf46a86573cd5304798392177b4792b40/expr.ipynb\"><img src=\"__pv_it/2c81ead3bf46a86573cd5304798392177b4792b40/expr.png\" style=\"display:inline;vertical-align:middle;\" /></a></span></td></tr>\n",
       "</table>"
      ],
      "text/plain": [
       "\tstep type\trequirements\tstatement\n",
       "0\tspecialization\t1, 2\t{[not](A)} |= A = FALSE\n",
       "\tA -> A\n",
       "1\taxiom\t\t|= forall_{A | [not](A)} (A = FALSE)\n",
       "\tproveit.logic.boolean.negation.negationElim\n",
       "2\tassumption\t\t{[not](A)} |= [not](A)"
      ]
     },
     "execution_count": 13,
     "metadata": {},
     "output_type": "execute_result"
    }
   ],
   "source": [
    "AeqF.prove([Not(A)]).proof()"
   ]
  },
  {
   "cell_type": "markdown",
   "metadata": {},
   "source": [
    "We can also show the inverse is true."
   ]
  },
  {
   "cell_type": "code",
   "execution_count": 14,
   "metadata": {},
   "outputs": [
    {
     "data": {
      "text/html": [
       "<table><tr><th>&nbsp;</th><th>step type</th><th>requirements</th><th>statement</th></tr>\n",
       "<tr><td>0</td><td>specialization</td><td>1, 2</td><td><span style=\"font-size:20px;\"><a class=\"ProveItLink\" href=\"__pv_it/9764f8a01bfa57c7e6e60f910a20f3a38f4dfdc30/expr.ipynb\"><img src=\"__pv_it/9764f8a01bfa57c7e6e60f910a20f3a38f4dfdc30/expr.png\" style=\"display:inline;vertical-align:middle;\" /></a> &#x22A2;&nbsp;<a class=\"ProveItLink\" href=\"__pv_it/2c81ead3bf46a86573cd5304798392177b4792b40/expr.ipynb\"><img src=\"__pv_it/2c81ead3bf46a86573cd5304798392177b4792b40/expr.png\" style=\"display:inline;vertical-align:middle;\" /></a></span></td></tr>\n",
       "<tr><td>&nbsp;</td><td colspan=4 style=\"text-align:left\"><span style=\"font-size:20px;\"><a class=\"ProveItLink\" href=\"__pv_it/e2ee195baea449ecf67452694c66cbd67b2c19580/expr.ipynb\"><img src=\"__pv_it/e2ee195baea449ecf67452694c66cbd67b2c19580/expr.png\" style=\"display:inline;vertical-align:middle;\" /></a></span></td></tr><tr><td>1</td><td>axiom</td><td></td><td><span style=\"font-size:20px;\"> &#x22A2;&nbsp;<a class=\"ProveItLink\" href=\"__pv_it/bd349bf529bb24ca3489b99b360030e1baddcd2c0/expr.ipynb\"><img src=\"__pv_it/bd349bf529bb24ca3489b99b360030e1baddcd2c0/expr.png\" style=\"display:inline;vertical-align:middle;\" /></a></span></td></tr>\n",
       "<tr><td>&nbsp;</td><td colspan=4 style-\"text-align:left\"><a class=\"ProveItLink\" href=\"_axioms_.ipynb#negationIntro\">proveit.logic.boolean.negation.negationIntro</a></td></tr><tr><td>2</td><td>assumption</td><td></td><td><span style=\"font-size:20px;\"><a class=\"ProveItLink\" href=\"__pv_it/9764f8a01bfa57c7e6e60f910a20f3a38f4dfdc30/expr.ipynb\"><img src=\"__pv_it/9764f8a01bfa57c7e6e60f910a20f3a38f4dfdc30/expr.png\" style=\"display:inline;vertical-align:middle;\" /></a> &#x22A2;&nbsp;<a class=\"ProveItLink\" href=\"__pv_it/59b818aa3070d9f9cb643715737df9a2274cbc840/expr.ipynb\"><img src=\"__pv_it/59b818aa3070d9f9cb643715737df9a2274cbc840/expr.png\" style=\"display:inline;vertical-align:middle;\" /></a></span></td></tr>\n",
       "</table>"
      ],
      "text/plain": [
       "\tstep type\trequirements\tstatement\n",
       "0\tspecialization\t1, 2\t{A = FALSE} |= [not](A)\n",
       "\tA -> A\n",
       "1\taxiom\t\t|= forall_{A | A = FALSE} [not](A)\n",
       "\tproveit.logic.boolean.negation.negationIntro\n",
       "2\tassumption\t\t{A = FALSE} |= A = FALSE"
      ]
     },
     "execution_count": 14,
     "metadata": {},
     "output_type": "execute_result"
    }
   ],
   "source": [
    "Not(A).prove([AeqF]).proof()"
   ]
  },
  {
   "cell_type": "markdown",
   "metadata": {},
   "source": [
    "On the other hand, we can also show that $\\lnot A$ is $\\neq$ to `True` because $A$ is equal to `True`. "
   ]
  },
  {
   "cell_type": "code",
   "execution_count": 15,
   "metadata": {},
   "outputs": [
    {
     "data": {
      "text/html": [
       "<strong id=\"AneqT\">AneqT:</strong> <a class=\"ProveItLink\" href=\"__pv_it/e26de46c7e40f81759f2054c0268daeac375fd1c0/expr.ipynb\"><img src=\"__pv_it/e26de46c7e40f81759f2054c0268daeac375fd1c0/expr.png\" style=\"display:inline;vertical-align:middle;\" /></a><br>"
      ],
      "text/plain": [
       "AneqT: A != TRUE"
      ]
     },
     "execution_count": 15,
     "metadata": {},
     "output_type": "execute_result"
    }
   ],
   "source": [
    "AneqT = NotEquals(A, TRUE)"
   ]
  },
  {
   "cell_type": "code",
   "execution_count": 16,
   "metadata": {},
   "outputs": [
    {
     "data": {
      "text/html": [
       "<table><tr><th>&nbsp;</th><th>step type</th><th>requirements</th><th>statement</th></tr>\n",
       "<tr><td>0</td><td>specialization</td><td>1, 2</td><td><span style=\"font-size:20px;\"><a class=\"ProveItLink\" href=\"__pv_it/7680528e1ee86122472bd9f62475b835210285660/expr.ipynb\"><img src=\"__pv_it/7680528e1ee86122472bd9f62475b835210285660/expr.png\" style=\"display:inline;vertical-align:middle;\" /></a> &#x22A2;&nbsp;<a class=\"ProveItLink\" href=\"__pv_it/e26de46c7e40f81759f2054c0268daeac375fd1c0/expr.ipynb\"><img src=\"__pv_it/e26de46c7e40f81759f2054c0268daeac375fd1c0/expr.png\" style=\"display:inline;vertical-align:middle;\" /></a></span></td></tr>\n",
       "<tr><td>&nbsp;</td><td colspan=4 style=\"text-align:left\"><span style=\"font-size:20px;\"><a class=\"ProveItLink\" href=\"__pv_it/e2ee195baea449ecf67452694c66cbd67b2c19580/expr.ipynb\"><img src=\"__pv_it/e2ee195baea449ecf67452694c66cbd67b2c19580/expr.png\" style=\"display:inline;vertical-align:middle;\" /></a></span></td></tr><tr><td>1</td><td>theorem</td><td></td><td><span style=\"font-size:20px;\"> &#x22A2;&nbsp;<a class=\"ProveItLink\" href=\"__pv_it/ac55fa9fe52e66ac580e0e27c7bc5494867550ac0/expr.ipynb\"><img src=\"__pv_it/ac55fa9fe52e66ac580e0e27c7bc5494867550ac0/expr.png\" style=\"display:inline;vertical-align:middle;\" /></a></span></td></tr>\n",
       "<tr><td>&nbsp;</td><td colspan=4 style-\"text-align:left\"><a class=\"ProveItLink\" href=\"_proofs_/untrueFromNegation.ipynb\">proveit.logic.boolean.negation.untrueFromNegation</a></td></tr><tr><td>2</td><td>assumption</td><td></td><td><span style=\"font-size:20px;\"><a class=\"ProveItLink\" href=\"__pv_it/7680528e1ee86122472bd9f62475b835210285660/expr.ipynb\"><img src=\"__pv_it/7680528e1ee86122472bd9f62475b835210285660/expr.png\" style=\"display:inline;vertical-align:middle;\" /></a> &#x22A2;&nbsp;<a class=\"ProveItLink\" href=\"__pv_it/2c81ead3bf46a86573cd5304798392177b4792b40/expr.ipynb\"><img src=\"__pv_it/2c81ead3bf46a86573cd5304798392177b4792b40/expr.png\" style=\"display:inline;vertical-align:middle;\" /></a></span></td></tr>\n",
       "</table>"
      ],
      "text/plain": [
       "\tstep type\trequirements\tstatement\n",
       "0\tspecialization\t1, 2\t{[not](A)} |= A != TRUE\n",
       "\tA -> A\n",
       "1\ttheorem\t\t|= forall_{A | [not](A)} (A != TRUE)\n",
       "\tproveit.logic.boolean.negation.untrueFromNegation\n",
       "2\tassumption\t\t{[not](A)} |= [not](A)"
      ]
     },
     "execution_count": 16,
     "metadata": {},
     "output_type": "execute_result"
    }
   ],
   "source": [
    "AneqT.prove([Not(A)]).proof()"
   ]
  },
  {
   "cell_type": "markdown",
   "metadata": {},
   "source": [
    "Similarly, the double negation negates the original negation, providing the original statement.  "
   ]
  },
  {
   "cell_type": "code",
   "execution_count": 17,
   "metadata": {},
   "outputs": [
    {
     "data": {
      "text/html": [
       "<table><tr><th>&nbsp;</th><th>step type</th><th>requirements</th><th>statement</th></tr>\n",
       "<tr><td>0</td><td>specialization</td><td>1, 2</td><td><span style=\"font-size:20px;\"><a class=\"ProveItLink\" href=\"__pv_it/4b2dac16b5306d2030e982eb7376c5bdc8b6e15e0/expr.ipynb\"><img src=\"__pv_it/4b2dac16b5306d2030e982eb7376c5bdc8b6e15e0/expr.png\" style=\"display:inline;vertical-align:middle;\" /></a> &#x22A2;&nbsp;<a class=\"ProveItLink\" href=\"../../../__pv_it/2cbe72a7ad6f655694dd697106680215e8489b600/expr.ipynb\"><img src=\"../../../__pv_it/2cbe72a7ad6f655694dd697106680215e8489b600/expr.png\" style=\"display:inline;vertical-align:middle;\" /></a></span></td></tr>\n",
       "<tr><td>&nbsp;</td><td colspan=4 style=\"text-align:left\"><span style=\"font-size:20px;\"><a class=\"ProveItLink\" href=\"__pv_it/e2ee195baea449ecf67452694c66cbd67b2c19580/expr.ipynb\"><img src=\"__pv_it/e2ee195baea449ecf67452694c66cbd67b2c19580/expr.png\" style=\"display:inline;vertical-align:middle;\" /></a></span></td></tr><tr><td>1</td><td>axiom</td><td></td><td><span style=\"font-size:20px;\"> &#x22A2;&nbsp;<a class=\"ProveItLink\" href=\"__pv_it/fd884eeeb320e7451dd39f913952f77e4e82a2700/expr.ipynb\"><img src=\"__pv_it/fd884eeeb320e7451dd39f913952f77e4e82a2700/expr.png\" style=\"display:inline;vertical-align:middle;\" /></a></span></td></tr>\n",
       "<tr><td>&nbsp;</td><td colspan=4 style-\"text-align:left\"><a class=\"ProveItLink\" href=\"_axioms_.ipynb#doubleNegationElim\">proveit.logic.boolean.negation.doubleNegationElim</a></td></tr><tr><td>2</td><td>assumption</td><td></td><td><span style=\"font-size:20px;\"><a class=\"ProveItLink\" href=\"__pv_it/4b2dac16b5306d2030e982eb7376c5bdc8b6e15e0/expr.ipynb\"><img src=\"__pv_it/4b2dac16b5306d2030e982eb7376c5bdc8b6e15e0/expr.png\" style=\"display:inline;vertical-align:middle;\" /></a> &#x22A2;&nbsp;<a class=\"ProveItLink\" href=\"__pv_it/1402334a33158525da829a77129fd462405ae6cf0/expr.ipynb\"><img src=\"__pv_it/1402334a33158525da829a77129fd462405ae6cf0/expr.png\" style=\"display:inline;vertical-align:middle;\" /></a></span></td></tr>\n",
       "</table>"
      ],
      "text/plain": [
       "\tstep type\trequirements\tstatement\n",
       "0\tspecialization\t1, 2\t{[not]([not](A))} |= A\n",
       "\tA -> A\n",
       "1\taxiom\t\t|= forall_{A | [not]([not](A))} A\n",
       "\tproveit.logic.boolean.negation.doubleNegationElim\n",
       "2\tassumption\t\t{[not]([not](A))} |= [not]([not](A))"
      ]
     },
     "execution_count": 17,
     "metadata": {},
     "output_type": "execute_result"
    }
   ],
   "source": [
    "A.prove([Not(Not(A))]).proof()"
   ]
  },
  {
   "cell_type": "markdown",
   "metadata": {},
   "source": [
    "Again, the inverse is also true."
   ]
  },
  {
   "cell_type": "code",
   "execution_count": 18,
   "metadata": {},
   "outputs": [
    {
     "data": {
      "text/html": [
       "<table><tr><th>&nbsp;</th><th>step type</th><th>requirements</th><th>statement</th></tr>\n",
       "<tr><td>0</td><td>specialization</td><td>1, 2</td><td><span style=\"font-size:20px;\"><a class=\"ProveItLink\" href=\"__pv_it/158bdc91074824c720728a23dba5d58593c8cc480/expr.ipynb\"><img src=\"__pv_it/158bdc91074824c720728a23dba5d58593c8cc480/expr.png\" style=\"display:inline;vertical-align:middle;\" /></a> &#x22A2;&nbsp;<a class=\"ProveItLink\" href=\"__pv_it/1402334a33158525da829a77129fd462405ae6cf0/expr.ipynb\"><img src=\"__pv_it/1402334a33158525da829a77129fd462405ae6cf0/expr.png\" style=\"display:inline;vertical-align:middle;\" /></a></span></td></tr>\n",
       "<tr><td>&nbsp;</td><td colspan=4 style=\"text-align:left\"><span style=\"font-size:20px;\"><a class=\"ProveItLink\" href=\"__pv_it/5f382cd76e6bdc20167cee4a609b2017bc65ecc20/expr.ipynb\"><img src=\"__pv_it/5f382cd76e6bdc20167cee4a609b2017bc65ecc20/expr.png\" style=\"display:inline;vertical-align:middle;\" /></a></span></td></tr><tr><td>1</td><td>axiom</td><td></td><td><span style=\"font-size:20px;\"> &#x22A2;&nbsp;<a class=\"ProveItLink\" href=\"__pv_it/bd349bf529bb24ca3489b99b360030e1baddcd2c0/expr.ipynb\"><img src=\"__pv_it/bd349bf529bb24ca3489b99b360030e1baddcd2c0/expr.png\" style=\"display:inline;vertical-align:middle;\" /></a></span></td></tr>\n",
       "<tr><td>&nbsp;</td><td colspan=4 style-\"text-align:left\"><a class=\"ProveItLink\" href=\"_axioms_.ipynb#negationIntro\">proveit.logic.boolean.negation.negationIntro</a></td></tr><tr><td>2</td><td>specialization</td><td>3, 4</td><td><span style=\"font-size:20px;\"><a class=\"ProveItLink\" href=\"__pv_it/158bdc91074824c720728a23dba5d58593c8cc480/expr.ipynb\"><img src=\"__pv_it/158bdc91074824c720728a23dba5d58593c8cc480/expr.png\" style=\"display:inline;vertical-align:middle;\" /></a> &#x22A2;&nbsp;<a class=\"ProveItLink\" href=\"__pv_it/972cf1f452d0a63c0db32df13ddb26e281b021780/expr.ipynb\"><img src=\"__pv_it/972cf1f452d0a63c0db32df13ddb26e281b021780/expr.png\" style=\"display:inline;vertical-align:middle;\" /></a></span></td></tr>\n",
       "<tr><td>&nbsp;</td><td colspan=4 style=\"text-align:left\"><span style=\"font-size:20px;\"><a class=\"ProveItLink\" href=\"__pv_it/e2ee195baea449ecf67452694c66cbd67b2c19580/expr.ipynb\"><img src=\"__pv_it/e2ee195baea449ecf67452694c66cbd67b2c19580/expr.png\" style=\"display:inline;vertical-align:middle;\" /></a></span></td></tr><tr><td>3</td><td>theorem</td><td></td><td><span style=\"font-size:20px;\"> &#x22A2;&nbsp;<a class=\"ProveItLink\" href=\"__pv_it/ffbd7166e203b5199f10aabab423e0791a7da4170/expr.ipynb\"><img src=\"__pv_it/ffbd7166e203b5199f10aabab423e0791a7da4170/expr.png\" style=\"display:inline;vertical-align:middle;\" /></a></span></td></tr>\n",
       "<tr><td>&nbsp;</td><td colspan=4 style-\"text-align:left\"><a class=\"ProveItLink\" href=\"_proofs_/falsifiedNegationIntro.ipynb\">proveit.logic.boolean.negation.falsifiedNegationIntro</a></td></tr><tr><td>4</td><td>assumption</td><td></td><td><span style=\"font-size:20px;\"><a class=\"ProveItLink\" href=\"__pv_it/158bdc91074824c720728a23dba5d58593c8cc480/expr.ipynb\"><img src=\"__pv_it/158bdc91074824c720728a23dba5d58593c8cc480/expr.png\" style=\"display:inline;vertical-align:middle;\" /></a> &#x22A2;&nbsp;<a class=\"ProveItLink\" href=\"../../../__pv_it/2cbe72a7ad6f655694dd697106680215e8489b600/expr.ipynb\"><img src=\"../../../__pv_it/2cbe72a7ad6f655694dd697106680215e8489b600/expr.png\" style=\"display:inline;vertical-align:middle;\" /></a></span></td></tr>\n",
       "</table>"
      ],
      "text/plain": [
       "\tstep type\trequirements\tstatement\n",
       "0\tspecialization\t1, 2\t{A} |= [not]([not](A))\n",
       "\tA -> [not](A)\n",
       "1\taxiom\t\t|= forall_{A | A = FALSE} [not](A)\n",
       "\tproveit.logic.boolean.negation.negationIntro\n",
       "2\tspecialization\t3, 4\t{A} |= [not](A) = FALSE\n",
       "\tA -> A\n",
       "3\ttheorem\t\t|= forall_{A | A} ([not](A) = FALSE)\n",
       "\tproveit.logic.boolean.negation.falsifiedNegationIntro\n",
       "4\tassumption\t\t{A} |= A"
      ]
     },
     "execution_count": 18,
     "metadata": {},
     "output_type": "execute_result"
    }
   ],
   "source": [
    "Not(Not(A)).prove([A]).proof()"
   ]
  },
  {
   "cell_type": "markdown",
   "metadata": {},
   "source": [
    "By going one step further, we can prove that three $\\lnot$'s are the same as a single $\\lnot$."
   ]
  },
  {
   "cell_type": "code",
   "execution_count": 21,
   "metadata": {},
   "outputs": [
    {
     "data": {
      "text/html": [
       "<table><tr><th>&nbsp;</th><th>step type</th><th>requirements</th><th>statement</th></tr>\n",
       "<tr><td>0</td><td>specialization</td><td>1, 2</td><td><span style=\"font-size:20px;\"><a class=\"ProveItLink\" href=\"__pv_it/7680528e1ee86122472bd9f62475b835210285660/expr.ipynb\"><img src=\"__pv_it/7680528e1ee86122472bd9f62475b835210285660/expr.png\" style=\"display:inline;vertical-align:middle;\" /></a> &#x22A2;&nbsp;<a class=\"ProveItLink\" href=\"__pv_it/dcf864acc08bcabf0312a5412ce1344a813089240/expr.ipynb\"><img src=\"__pv_it/dcf864acc08bcabf0312a5412ce1344a813089240/expr.png\" style=\"display:inline;vertical-align:middle;\" /></a></span></td></tr>\n",
       "<tr><td>&nbsp;</td><td colspan=4 style=\"text-align:left\"><span style=\"font-size:20px;\"><a class=\"ProveItLink\" href=\"__pv_it/5f382cd76e6bdc20167cee4a609b2017bc65ecc20/expr.ipynb\"><img src=\"__pv_it/5f382cd76e6bdc20167cee4a609b2017bc65ecc20/expr.png\" style=\"display:inline;vertical-align:middle;\" /></a></span></td></tr><tr><td>1</td><td>axiom</td><td></td><td><span style=\"font-size:20px;\"> &#x22A2;&nbsp;<a class=\"ProveItLink\" href=\"__pv_it/a7df32246feb52423a4bc6630d209d357e3e02c10/expr.ipynb\"><img src=\"__pv_it/a7df32246feb52423a4bc6630d209d357e3e02c10/expr.png\" style=\"display:inline;vertical-align:middle;\" /></a></span></td></tr>\n",
       "<tr><td>&nbsp;</td><td colspan=4 style-\"text-align:left\"><a class=\"ProveItLink\" href=\"_axioms_.ipynb#doubleNegationIntro\">proveit.logic.boolean.negation.doubleNegationIntro</a></td></tr><tr><td>2</td><td>assumption</td><td></td><td><span style=\"font-size:20px;\"><a class=\"ProveItLink\" href=\"__pv_it/7680528e1ee86122472bd9f62475b835210285660/expr.ipynb\"><img src=\"__pv_it/7680528e1ee86122472bd9f62475b835210285660/expr.png\" style=\"display:inline;vertical-align:middle;\" /></a> &#x22A2;&nbsp;<a class=\"ProveItLink\" href=\"__pv_it/2c81ead3bf46a86573cd5304798392177b4792b40/expr.ipynb\"><img src=\"__pv_it/2c81ead3bf46a86573cd5304798392177b4792b40/expr.png\" style=\"display:inline;vertical-align:middle;\" /></a></span></td></tr>\n",
       "</table>"
      ],
      "text/plain": [
       "\tstep type\trequirements\tstatement\n",
       "0\tspecialization\t1, 2\t{[not](A)} |= [not]([not]([not](A)))\n",
       "\tA -> [not](A)\n",
       "1\taxiom\t\t|= forall_{A | A} [not]([not](A))\n",
       "\tproveit.logic.boolean.negation.doubleNegationIntro\n",
       "2\tassumption\t\t{[not](A)} |= [not](A)"
      ]
     },
     "execution_count": 21,
     "metadata": {},
     "output_type": "execute_result"
    }
   ],
   "source": [
    "Not(Not(Not(A))).prove([Not(A)]).proof()"
   ]
  },
  {
   "cell_type": "markdown",
   "metadata": {},
   "source": [
    "We can also prove the inverse. "
   ]
  },
  {
   "cell_type": "code",
   "execution_count": 22,
   "metadata": {},
   "outputs": [
    {
     "data": {
      "text/html": [
       "<table><tr><th>&nbsp;</th><th>step type</th><th>requirements</th><th>statement</th></tr>\n",
       "<tr><td>0</td><td>specialization</td><td>1, 2</td><td><span style=\"font-size:20px;\"><a class=\"ProveItLink\" href=\"__pv_it/4e4c754ad08d3716fb497732fbee6a527e2568c10/expr.ipynb\"><img src=\"__pv_it/4e4c754ad08d3716fb497732fbee6a527e2568c10/expr.png\" style=\"display:inline;vertical-align:middle;\" /></a> &#x22A2;&nbsp;<a class=\"ProveItLink\" href=\"__pv_it/2c81ead3bf46a86573cd5304798392177b4792b40/expr.ipynb\"><img src=\"__pv_it/2c81ead3bf46a86573cd5304798392177b4792b40/expr.png\" style=\"display:inline;vertical-align:middle;\" /></a></span></td></tr>\n",
       "<tr><td>&nbsp;</td><td colspan=4 style=\"text-align:left\"><span style=\"font-size:20px;\"><a class=\"ProveItLink\" href=\"__pv_it/5f382cd76e6bdc20167cee4a609b2017bc65ecc20/expr.ipynb\"><img src=\"__pv_it/5f382cd76e6bdc20167cee4a609b2017bc65ecc20/expr.png\" style=\"display:inline;vertical-align:middle;\" /></a></span></td></tr><tr><td>1</td><td>axiom</td><td></td><td><span style=\"font-size:20px;\"> &#x22A2;&nbsp;<a class=\"ProveItLink\" href=\"__pv_it/fd884eeeb320e7451dd39f913952f77e4e82a2700/expr.ipynb\"><img src=\"__pv_it/fd884eeeb320e7451dd39f913952f77e4e82a2700/expr.png\" style=\"display:inline;vertical-align:middle;\" /></a></span></td></tr>\n",
       "<tr><td>&nbsp;</td><td colspan=4 style-\"text-align:left\"><a class=\"ProveItLink\" href=\"_axioms_.ipynb#doubleNegationElim\">proveit.logic.boolean.negation.doubleNegationElim</a></td></tr><tr><td>2</td><td>assumption</td><td></td><td><span style=\"font-size:20px;\"><a class=\"ProveItLink\" href=\"__pv_it/4e4c754ad08d3716fb497732fbee6a527e2568c10/expr.ipynb\"><img src=\"__pv_it/4e4c754ad08d3716fb497732fbee6a527e2568c10/expr.png\" style=\"display:inline;vertical-align:middle;\" /></a> &#x22A2;&nbsp;<a class=\"ProveItLink\" href=\"__pv_it/dcf864acc08bcabf0312a5412ce1344a813089240/expr.ipynb\"><img src=\"__pv_it/dcf864acc08bcabf0312a5412ce1344a813089240/expr.png\" style=\"display:inline;vertical-align:middle;\" /></a></span></td></tr>\n",
       "</table>"
      ],
      "text/plain": [
       "\tstep type\trequirements\tstatement\n",
       "0\tspecialization\t1, 2\t{[not]([not]([not](A)))} |= [not](A)\n",
       "\tA -> [not](A)\n",
       "1\taxiom\t\t|= forall_{A | [not]([not](A))} A\n",
       "\tproveit.logic.boolean.negation.doubleNegationElim\n",
       "2\tassumption\t\t{[not]([not]([not](A)))} |= [not]([not]([not](A)))"
      ]
     },
     "execution_count": 22,
     "metadata": {},
     "output_type": "execute_result"
    }
   ],
   "source": [
    "Not(A).prove([Not(Not(Not(A)))]).proof()"
   ]
  },
  {
   "cell_type": "code",
   "execution_count": 23,
   "metadata": {},
   "outputs": [],
   "source": [
    "%end demonstrations"
   ]
  }
 ],
 "metadata": {
  "kernelspec": {
   "display_name": "Python 3",
   "language": "python",
   "name": "python3"
  },
  "language_info": {
   "codemirror_mode": {
    "name": "ipython",
    "version": 3
   },
   "file_extension": ".py",
   "mimetype": "text/x-python",
   "name": "python",
   "nbconvert_exporter": "python",
   "pygments_lexer": "ipython3",
   "version": "3.7.3"
  }
 },
 "nbformat": 4,
 "nbformat_minor": 1
}
