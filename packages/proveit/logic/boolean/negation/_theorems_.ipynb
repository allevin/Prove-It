{
 "cells": [
  {
   "cell_type": "markdown",
   "metadata": {
    "collapsed": true
   },
   "source": [
    "Theorems for context <a href=\"_context_.ipynb\" class=\"ProveItLink\">proveit.logic.boolean.negation</a>\n",
    "========"
   ]
  },
  {
   "cell_type": "code",
   "execution_count": 1,
   "metadata": {},
   "outputs": [
    {
     "name": "stdout",
     "output_type": "stream",
     "text": [
      "Defining theorems for context 'proveit.logic.boolean.negation'\n",
      "Subsequent end-of-cell assignments will define theorems\n",
      "'%end theorems' will finalize the definitions\n"
     ]
    }
   ],
   "source": [
    "from proveit.logic import Not, FALSE, Forall, Implies, Equals, TRUE, Or, NotEquals, Booleans, inBool\n",
    "from proveit._common_ import A, B\n",
    "%begin theorems"
   ]
  },
  {
   "cell_type": "code",
   "execution_count": 2,
   "metadata": {},
   "outputs": [
    {
     "data": {
      "text/html": [
       "<strong id=\"notFalse\"><a class=\"ProveItLink\" href=\"_proofs_/notFalse.ipynb\">notFalse</a>:</strong> <a class=\"ProveItLink\" href=\"__pv_it/01165fd25131c0df966b8e8c1626e275fd04f3050/expr.ipynb\"><img src=\"__pv_it/01165fd25131c0df966b8e8c1626e275fd04f3050/expr.png\" style=\"display:inline;vertical-align:middle;\" /></a><br>"
      ],
      "text/plain": [
       "notFalse: [not](FALSE)"
      ]
     },
     "execution_count": 2,
     "metadata": {},
     "output_type": "execute_result"
    }
   ],
   "source": [
    "notFalse = Not(FALSE)"
   ]
  },
  {
   "cell_type": "code",
   "execution_count": 3,
   "metadata": {},
   "outputs": [
    {
     "data": {
      "text/html": [
       "<strong id=\"falsifiedNegationIntro\"><a class=\"ProveItLink\" href=\"_proofs_/falsifiedNegationIntro.ipynb\">falsifiedNegationIntro</a>:</strong> <a class=\"ProveItLink\" href=\"__pv_it/ffbd7166e203b5199f10aabab423e0791a7da4170/expr.ipynb\"><img src=\"__pv_it/ffbd7166e203b5199f10aabab423e0791a7da4170/expr.png\" style=\"display:inline;vertical-align:middle;\" /></a><br>"
      ],
      "text/plain": [
       "falsifiedNegationIntro: forall_{A | A} ([not](A) = FALSE)"
      ]
     },
     "execution_count": 3,
     "metadata": {},
     "output_type": "execute_result"
    }
   ],
   "source": [
    "falsifiedNegationIntro = Forall(A, Equals(Not(A), FALSE), conditions=[A])"
   ]
  },
  {
   "cell_type": "markdown",
   "metadata": {},
   "source": [
    "**We derive these two truth table theorems from stronger axioms:**"
   ]
  },
  {
   "cell_type": "code",
   "execution_count": 4,
   "metadata": {},
   "outputs": [
    {
     "data": {
      "text/html": [
       "<strong id=\"notF\"><a class=\"ProveItLink\" href=\"_proofs_/notF.ipynb\">notF</a>:</strong> <a class=\"ProveItLink\" href=\"__pv_it/d15a94745248812aa8487be134f06c9c5d8bf36b0/expr.ipynb\"><img src=\"__pv_it/d15a94745248812aa8487be134f06c9c5d8bf36b0/expr.png\" style=\"display:inline;vertical-align:middle;\" /></a><br>\n",
       "<strong id=\"notT\"><a class=\"ProveItLink\" href=\"_proofs_/notT.ipynb\">notT</a>:</strong> <a class=\"ProveItLink\" href=\"__pv_it/616bbddf0a07cdf603496a9c8ad63f9accda890d0/expr.ipynb\"><img src=\"__pv_it/616bbddf0a07cdf603496a9c8ad63f9accda890d0/expr.png\" style=\"display:inline;vertical-align:middle;\" /></a><br>"
      ],
      "text/plain": [
       "notF: [not](FALSE) = TRUE\n",
       "notT: [not](TRUE) = FALSE"
      ]
     },
     "execution_count": 4,
     "metadata": {},
     "output_type": "execute_result"
    }
   ],
   "source": [
    "notF, notT = Equals(Not(FALSE), TRUE), Equals(Not(TRUE), FALSE)"
   ]
  },
  {
   "cell_type": "code",
   "execution_count": 5,
   "metadata": {},
   "outputs": [
    {
     "data": {
      "text/html": [
       "<strong id=\"notTimpliesF\"><a class=\"ProveItLink\" href=\"_proofs_/notTimpliesF.ipynb\">notTimpliesF</a>:</strong> <a class=\"ProveItLink\" href=\"__pv_it/8d4d525c3caf2ce99323da5c959d6a86f865caa40/expr.ipynb\"><img src=\"__pv_it/8d4d525c3caf2ce99323da5c959d6a86f865caa40/expr.png\" style=\"display:inline;vertical-align:middle;\" /></a><br>"
      ],
      "text/plain": [
       "notTimpliesF: [not](TRUE) => FALSE"
      ]
     },
     "execution_count": 5,
     "metadata": {},
     "output_type": "execute_result"
    }
   ],
   "source": [
    "notTimpliesF = Implies(Not(TRUE), FALSE)"
   ]
  },
  {
   "cell_type": "code",
   "execution_count": 6,
   "metadata": {},
   "outputs": [
    {
     "data": {
      "text/html": [
       "<strong id=\"untrueFromNegation\"><a class=\"ProveItLink\" href=\"_proofs_/untrueFromNegation.ipynb\">untrueFromNegation</a>:</strong> <a class=\"ProveItLink\" href=\"__pv_it/ac55fa9fe52e66ac580e0e27c7bc5494867550ac0/expr.ipynb\"><img src=\"__pv_it/ac55fa9fe52e66ac580e0e27c7bc5494867550ac0/expr.png\" style=\"display:inline;vertical-align:middle;\" /></a><br>"
      ],
      "text/plain": [
       "untrueFromNegation: forall_{A | [not](A)} (A != TRUE)"
      ]
     },
     "execution_count": 6,
     "metadata": {},
     "output_type": "execute_result"
    }
   ],
   "source": [
    "untrueFromNegation = Forall(A, NotEquals(A, TRUE), conditions=[Not(A)])"
   ]
  },
  {
   "cell_type": "code",
   "execution_count": 7,
   "metadata": {},
   "outputs": [
    {
     "data": {
      "text/html": [
       "<strong id=\"negationContradiction\"><a class=\"ProveItLink\" href=\"_proofs_/negationContradiction.ipynb\">negationContradiction</a>:</strong> <a class=\"ProveItLink\" href=\"__pv_it/e727a5939d997c0a6c3bd2fbea4c4df70b5dc6d10/expr.ipynb\"><img src=\"__pv_it/e727a5939d997c0a6c3bd2fbea4c4df70b5dc6d10/expr.png\" style=\"display:inline;vertical-align:middle;\" /></a><br>"
      ],
      "text/plain": [
       "negationContradiction: forall_{A | A , [not](A)} FALSE"
      ]
     },
     "execution_count": 7,
     "metadata": {},
     "output_type": "execute_result"
    }
   ],
   "source": [
    "negationContradiction = Forall(A, FALSE, conditions=[A, Not(A)])"
   ]
  },
  {
   "cell_type": "code",
   "execution_count": 8,
   "metadata": {},
   "outputs": [
    {
     "data": {
      "text/html": [
       "<strong id=\"closure\"><a class=\"ProveItLink\" href=\"_proofs_/closure.ipynb\">closure</a>:</strong> <a class=\"ProveItLink\" href=\"__pv_it/7b5911b87c2403d7522694ec07544fccac09289d0/expr.ipynb\"><img src=\"__pv_it/7b5911b87c2403d7522694ec07544fccac09289d0/expr.png\" style=\"display:inline;vertical-align:middle;\" /></a><br>"
      ],
      "text/plain": [
       "closure: forall_{A in BOOLEANS} ([not](A) in BOOLEANS)"
      ]
     },
     "execution_count": 8,
     "metadata": {},
     "output_type": "execute_result"
    }
   ],
   "source": [
    "closure = Forall(A, inBool(Not(A)), domain=Booleans)"
   ]
  },
  {
   "cell_type": "code",
   "execution_count": 9,
   "metadata": {},
   "outputs": [
    {
     "data": {
      "text/html": [
       "<strong id=\"doubleNegClosure\"><a class=\"ProveItLink\" href=\"_proofs_/doubleNegClosure.ipynb\">doubleNegClosure</a>:</strong> <a class=\"ProveItLink\" href=\"__pv_it/50cd6baa94956ad08bff894000c109d6f6d6aa7c0/expr.ipynb\"><img src=\"__pv_it/50cd6baa94956ad08bff894000c109d6f6d6aa7c0/expr.png\" style=\"display:inline;vertical-align:middle;\" /></a><br>"
      ],
      "text/plain": [
       "doubleNegClosure: forall_{A in BOOLEANS} ([not]([not](A)) in BOOLEANS)"
      ]
     },
     "execution_count": 9,
     "metadata": {},
     "output_type": "execute_result"
    }
   ],
   "source": [
    "doubleNegClosure = Forall(A, inBool(Not(Not(A))), domain=Booleans)"
   ]
  },
  {
   "cell_type": "code",
   "execution_count": 10,
   "metadata": {},
   "outputs": [
    {
     "data": {
      "text/html": [
       "<strong id=\"operandInBool\"><a class=\"ProveItLink\" href=\"_proofs_/operandInBool.ipynb\">operandInBool</a>:</strong> <a class=\"ProveItLink\" href=\"__pv_it/d36c8e2aa76ae2dab2b2bccac3cb95030adef6f90/expr.ipynb\"><img src=\"__pv_it/d36c8e2aa76ae2dab2b2bccac3cb95030adef6f90/expr.png\" style=\"display:inline;vertical-align:middle;\" /></a><br>"
      ],
      "text/plain": [
       "operandInBool: forall_{A | [not](A) in BOOLEANS} (A in BOOLEANS)"
      ]
     },
     "execution_count": 10,
     "metadata": {},
     "output_type": "execute_result"
    }
   ],
   "source": [
    "operandInBool = Forall(A, inBool(A), conditions=inBool(Not(A)))"
   ]
  },
  {
   "cell_type": "code",
   "execution_count": 11,
   "metadata": {},
   "outputs": [
    {
     "data": {
      "text/html": [
       "<strong id=\"doubleNegationEquiv\"><a class=\"ProveItLink\" href=\"_proofs_/doubleNegationEquiv.ipynb\">doubleNegationEquiv</a>:</strong> <a class=\"ProveItLink\" href=\"__pv_it/93acd382bf83512ca8b60cf528d22d972457c7020/expr.ipynb\"><img src=\"__pv_it/93acd382bf83512ca8b60cf528d22d972457c7020/expr.png\" style=\"display:inline;vertical-align:middle;\" /></a><br>"
      ],
      "text/plain": [
       "doubleNegationEquiv: forall_{A in BOOLEANS} ([not]([not](A)) = A)"
      ]
     },
     "execution_count": 11,
     "metadata": {},
     "output_type": "execute_result"
    }
   ],
   "source": [
    "doubleNegationEquiv = Forall(A, Equals(Not(Not(A)), A), domain=Booleans)"
   ]
  },
  {
   "cell_type": "code",
   "execution_count": 12,
   "metadata": {},
   "outputs": [
    {
     "name": "stdout",
     "output_type": "stream",
     "text": [
      "Theorems may be imported from autogenerated _theorems_.py\n"
     ]
    }
   ],
   "source": [
    "%end theorems"
   ]
  },
  {
   "cell_type": "code",
   "execution_count": 14,
   "metadata": {
    "collapsed": true
   },
   "outputs": [],
   "source": []
  }
 ],
 "metadata": {
  "kernelspec": {
   "display_name": "Python 3",
   "language": "python",
   "name": "python3"
  },
  "language_info": {
   "codemirror_mode": {
    "name": "ipython",
    "version": 3
   },
   "file_extension": ".py",
   "mimetype": "text/x-python",
   "name": "python",
   "nbconvert_exporter": "python",
   "pygments_lexer": "ipython3",
   "version": "3.7.3"
  }
 },
 "nbformat": 4,
 "nbformat_minor": 1
}
