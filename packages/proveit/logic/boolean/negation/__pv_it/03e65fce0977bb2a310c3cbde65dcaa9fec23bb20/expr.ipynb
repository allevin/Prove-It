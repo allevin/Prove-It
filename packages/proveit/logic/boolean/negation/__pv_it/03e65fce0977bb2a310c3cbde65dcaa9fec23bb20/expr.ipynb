{
 "cells": [
  {
   "cell_type": "markdown",
   "metadata": {},
   "source": [
    "Expression of type <a class=\"ProveItLink\" href=\"../../../../../../../doc/html/api/proveit.Lambda.html\">Lambda</a>\n",
    "=======================\n",
    "# from context <a class=\"ProveItLink\" href=\"../../_context_.ipynb\">proveit.logic.boolean.negation</a>"
   ]
  },
  {
   "cell_type": "code",
   "execution_count": 1,
   "metadata": {},
   "outputs": [],
   "source": [
    "# import Expression classes needed to build the expression\n",
    "from proveit import Lambda\n",
    "from proveit._common_ import P, Q\n",
    "from proveit.logic import Equals, Forall"
   ]
  },
  {
   "cell_type": "code",
   "execution_count": 2,
   "metadata": {},
   "outputs": [
    {
     "data": {
      "text/html": [
       "<strong id=\"expr\">expr:</strong> <a class=\"ProveItLink\" href=\"expr.ipynb\"><img src=\"data:image/png;base64,iVBORw0KGgoAAAANSUhEUgAAANMAAAAZCAMAAACcqus5AAAANlBMVEX///8UFBQNDQ3u7u5mZmaY\n",
       "mJi6urqqqqp2dnbMzMwQEBBEREQyMjLc3NwiIiJUVFSIiIgAAABiXWJGAAAAAXRSTlMAQObYZgAA\n",
       "AnFJREFUWMPlmNmSrCAMhp1h38n7v+wBFJWtZbra9uJwY1kSyQfJn+iyvDGUtdYsXxs0LMfvXsQu\n",
       "3x7G/RdMzHyeCT3MxOlLC+8AXBjWmXmm47CIvwWDY86dn2TqIIBek1+aaSbO8q2+48i4FvHiLJo8\n",
       "pxpBwKorDPg0k1F5Q9XniZDOL5VujqlB8LBOIIDnNSIfD2afZ9J7ZGNAU0wNgoL16oDNMxFu0rhB\n",
       "BTGI3fXk6zVTg7DFIoI9jHSpm6yn5aDiuKEcmsOPwMSmmGqELRaFxaMS5FCHyaXNVFtOIo85LoSz\n",
       "WJQpwBg71YpQa4iBnPZfzDA1CB4c50E6zbCsomLN7SF1KZu3lyadMmfhLLWDyORJE6kdQwvHFoKc\n",
       "0/IaQUGjxr8/thgSaAscr37dUrH5hNWIybk1hauleoYrx1nGLpkaBLCX7Y+jnYeRZ60fSG7RQmDE\n",
       "ZNMMp6sA6Bme/NFyrj7VCKKj4NUUbHoPQ9yJdTGfd3bIhFJekLqf7xpqOI5JTPURDYIHesEkfP+h\n",
       "Mtv52bwmtgMmCjHeSTqqPPzAkAWHjPciBCad640ahE46LSUEGgCz7Ank+ZIPmLjuynbXMCgJ4rH7\n",
       "2lXyiqlEQFiF7u9vXeixpXIzzOLLJBowqX6H0jWMkqq5t7EyTcTeOwgvmAjaPTaehYwvNq9wfi/b\n",
       "6hx7XcM8MfCQuXy645vQyJByjOlSX4sk7nf8XcPjaKleHmMKi2ruQrch+kxcAxaDr73WMNcPAKAP\n",
       "MqUkiHE0ir2XP1Eqw70c5+L1HJMAVWT6NFNtOPXt7r/CFIo+W95hqg0f+W8093/vU37E/3t/edc/\n",
       "aGsfJC6sLHQAAAAASUVORK5CYII=\n",
       "\" style=\"display:inline;vertical-align:middle;\" /></a><br>"
      ],
      "text/plain": [
       "expr: P -> [forall_{Q | P = Q} Q] | P"
      ]
     },
     "execution_count": 2,
     "metadata": {},
     "output_type": "execute_result"
    }
   ],
   "source": [
    "# build up the expression from sub-expressions\n",
    "expr = Lambda(P, Forall([Q], Q, conditions = [Equals(P, Q)]), conditions = [P])"
   ]
  },
  {
   "cell_type": "code",
   "execution_count": 3,
   "metadata": {},
   "outputs": [
    {
     "name": "stdout",
     "output_type": "stream",
     "text": [
      "Passed sanity check: built 'expr' is the same as the stored Expression.\n"
     ]
    }
   ],
   "source": [
    "# check that the built expression is the same as the stored expression\n",
    "%check_expr"
   ]
  },
  {
   "cell_type": "code",
   "execution_count": 4,
   "metadata": {},
   "outputs": [
    {
     "data": {
      "text/html": [
       "<table><tr><th>&nbsp;</th><th>core type</th><th>sub-expressions</th><th>expression</th></tr>\n",
       "<tr><td>0</td><td>Lambda</td><td>parameter:&nbsp;9<br>body:&nbsp;1<br>conditions:&nbsp;2<br></td><td><a class=\"ProveItLink\" href=\"expr.ipynb\"><img src=\"data:image/png;base64,iVBORw0KGgoAAAANSUhEUgAAANMAAAAZCAMAAACcqus5AAAANlBMVEX///8UFBQNDQ3u7u5mZmaY\n",
       "mJi6urqqqqp2dnbMzMwQEBBEREQyMjLc3NwiIiJUVFSIiIgAAABiXWJGAAAAAXRSTlMAQObYZgAA\n",
       "AnFJREFUWMPlmNmSrCAMhp1h38n7v+wBFJWtZbra9uJwY1kSyQfJn+iyvDGUtdYsXxs0LMfvXsQu\n",
       "3x7G/RdMzHyeCT3MxOlLC+8AXBjWmXmm47CIvwWDY86dn2TqIIBek1+aaSbO8q2+48i4FvHiLJo8\n",
       "pxpBwKorDPg0k1F5Q9XniZDOL5VujqlB8LBOIIDnNSIfD2afZ9J7ZGNAU0wNgoL16oDNMxFu0rhB\n",
       "BTGI3fXk6zVTg7DFIoI9jHSpm6yn5aDiuKEcmsOPwMSmmGqELRaFxaMS5FCHyaXNVFtOIo85LoSz\n",
       "WJQpwBg71YpQa4iBnPZfzDA1CB4c50E6zbCsomLN7SF1KZu3lyadMmfhLLWDyORJE6kdQwvHFoKc\n",
       "0/IaQUGjxr8/thgSaAscr37dUrH5hNWIybk1hauleoYrx1nGLpkaBLCX7Y+jnYeRZ60fSG7RQmDE\n",
       "ZNMMp6sA6Bme/NFyrj7VCKKj4NUUbHoPQ9yJdTGfd3bIhFJekLqf7xpqOI5JTPURDYIHesEkfP+h\n",
       "Mtv52bwmtgMmCjHeSTqqPPzAkAWHjPciBCad640ahE46LSUEGgCz7Ank+ZIPmLjuynbXMCgJ4rH7\n",
       "2lXyiqlEQFiF7u9vXeixpXIzzOLLJBowqX6H0jWMkqq5t7EyTcTeOwgvmAjaPTaehYwvNq9wfi/b\n",
       "6hx7XcM8MfCQuXy645vQyJByjOlSX4sk7nf8XcPjaKleHmMKi2ruQrch+kxcAxaDr73WMNcPAKAP\n",
       "MqUkiHE0ir2XP1Eqw70c5+L1HJMAVWT6NFNtOPXt7r/CFIo+W95hqg0f+W8093/vU37E/3t/edc/\n",
       "aGsfJC6sLHQAAAAASUVORK5CYII=\n",
       "\" style=\"display:inline;vertical-align:middle;\" /></a></td></tr>\n",
       "<tr><td>1</td><td>Operation</td><td>operator:&nbsp;3<br>operand:&nbsp;4<br></td><td><a class=\"ProveItLink\" href=\"../9ee1e2476ba3e9d7bc8ba9c39641a50905e8625e0/expr.ipynb\"><img src=\"data:image/png;base64,iVBORw0KGgoAAAANSUhEUgAAAGkAAAAWBAMAAAAx2K8dAAAAMFBMVEX///8QEBC6urrMzMxUVFRm\n",
       "ZmZERETc3NwyMjKqqqp2dnaIiIiYmJgiIiLu7u4AAAAU9Wx4AAAAAXRSTlMAQObYZgAAAcxJREFU\n",
       "OMtjeMBADrgAIk4TrZx96SpvILUSxO4jWtcKAwaWewwMZSADEojV9AKkUoSBgQPoMdYJxOrqBRHx\n",
       "Dxh4lpeX1xKrifUziFyvwMDwLS3tFrG66sFeWQ90mjMDQzqQ+ToqpAAkxASRn/Y11K0Apphv61J3\n",
       "MCP+AIjMN2BgUGHga2BgYG5mYBcHCbFBFPIIMHBdgOmyMGAoBBtxHxy7H4GYl4EbaIIhUDQMSReL\n",
       "AwPPP6gmZqBxrAkw9Qycv4AE9wHeBwx8MkDWeSRdvAcYWBqguh4CTeX5AGL9BREcciBHN5gAtQqg\n",
       "6XpvwHAW5q+NDDBd/SBivgGITHcCGu0AZMQi6dJftRRoWwcQdDNcAYU52JPzFao3MwuBFUwFCvBv\n",
       "ADKkkHStQArv30DMuADE4rq3gGsaxAmMQB38QKdzyiHpSkXS9QeIJ0LyhkrX3gkMYBfyAAXYAqon\n",
       "PFRA0vUTzIa4MJV9J58QzAg2Ax4DeAYQ3jCziQGhi/k7kl2F1pwzFOC6AjQQMiVdLg8MELpWfDVA\n",
       "ylMeS/yYYRyW/5+Q05gq+wYkF6ICpoBqGJNZ8ACyjH3iA5y6mL/J4UjPHJIMOHUxNBLIgSzE5BgA\n",
       "mPZro2eWlegAAAAASUVORK5CYII=\n",
       "\" style=\"display:inline;vertical-align:middle;\" /></a></td></tr>\n",
       "<tr><td>2</td><td>ExprTuple</td><td>9</td><td><a class=\"ProveItLink\" href=\"../476080665bbd3e40c7c7e27de3117cd15d457dc50/expr.ipynb\"><img src=\"data:image/png;base64,iVBORw0KGgoAAAANSUhEUgAAABwAAAAVBAMAAACnLJNvAAAAMFBMVEX////c3NwiIiJERESqqqqY\n",
       "mJh2dnZmZmYQEBDu7u4yMjJUVFTMzMyIiIi6uroAAAAs73DqAAAAAXRSTlMAQObYZgAAAMZJREFU\n",
       "GNNjYEADfBdgLNYHQOI0EN/+v3u3tgBDDZC5EiTxi4GBuZGBi4GBF6SW5xsDA8s3BtYEBo4JQC7v\n",
       "P6DO7wycDQyvQGqZPzAwcH9hYDBhKANx+RcwMMw3YGBIZ1gK4p5PYOBRB9JeDH0g7v1taWUCQPoF\n",
       "wz8Q134CxCHnIdxPDDBuC8ja71DuCwZTqLVgEAU0G2jtTyg3neERA8N0+99QX61j4BBA+BXoSKCz\n",
       "4YDtAtSDEDALiKUR3I1AzAgPHN4DDAAk5y/ITfy/ZAAAAABJRU5ErkJggg==\n",
       "\" style=\"display:inline;vertical-align:middle;\" /></a></td></tr>\n",
       "<tr><td>3</td><td>Literal</td><td></td><td><a class=\"ProveItLink\" href=\"../../../quantification/universal/__pv_it/265f8c02ac1094d56e0e6410a1c1fd3500dc9f540/expr.ipynb\"><img src=\"data:image/png;base64,iVBORw0KGgoAAAANSUhEUgAAAAwAAAAQBAMAAADQT4M0AAAAMFBMVEX///8QEBC6urrMzMxUVFRm\n",
       "ZmZERETc3NwyMjKqqqp2dnaIiIiYmJgiIiLu7u4AAAAU9Wx4AAAAAXRSTlMAQObYZgAAAFhJREFU\n",
       "CNdjeMAABhdAxGmGlSCqj6EMSLInMHAAJVknMPAsLy+vBYp8S0u7BaScGRjSgZQKA18DkOJl4D4A\n",
       "pLgP8IJM4mswARuX7gSmpoKNZWDcAKZ4gCoAgTQTILaSE58AAAAASUVORK5CYII=\n",
       "\" style=\"display:inline;vertical-align:middle;\" /></a></td></tr>\n",
       "<tr><td>4</td><td>Lambda</td><td>parameter:&nbsp;10<br>body:&nbsp;10<br>conditions:&nbsp;5<br></td><td><a class=\"ProveItLink\" href=\"../5659e4b9c9eb4b99069822ffddde88ca4709daf30/expr.ipynb\"><img src=\"data:image/png;base64,iVBORw0KGgoAAAANSUhEUgAAAJAAAAAVCAMAAACe5ZfhAAAANlBMVEX///8UFBQNDQ2YmJiqqqq6\n",
       "uroQEBBERETu7u4iIiLMzMwyMjKIiIhUVFRmZmZ2dnbc3NwAAACuhPXhAAAAAXRSTlMAQObYZgAA\n",
       "AXZJREFUSMfNlt2SgyAMhdlV+Q+Y93/ZxdWWGOIURi+aGzq25+sxnoBKPVXzqr6r8vIgbM0pZ4i3\n",
       "BMxQBEQo5WAd5+XgtwWc7e2GIGg6hOF/MXod5NlgjusauuzIAm7IY96zdaz9vOBe3yTsapEs4IYi\n",
       "7hcmTGO8hP7NxJ5gXgi4IYP7CjgP8VY0lfnWhvNEU6QsaA0dEbLk53KeGS/hRG7q5dWdRWDpDUmC\n",
       "xtARIe/qA0uBFFzxHIkBaiUbsmR2ZUE79gg5l2H+OGKcR5hkHn5/3Kl0DYssaAwZ7NxDOA9rM4K2\n",
       "Fx1SUP9NFjSG0HXuaZwXsPqrgWC0RBovC7ghLwx7oj03V7x5m7QYvfKaEM+GPD0jZAE3FLH3aGt4\n",
       "2dny5PJsaPzOx9o5DaKAG+qOkMBbIOTotg3F9xFkATFkkykna/dZLfJM+Tx51V+N4ObrB+eZpJYw\n",
       "BOCCu4YYr7y94BCxEdw0xHle62kI0AhuGho28LHiM6+wf1LDFT0mb22VAAAAAElFTkSuQmCC\n",
       "\" style=\"display:inline;vertical-align:middle;\" /></a></td></tr>\n",
       "<tr><td>5</td><td>ExprTuple</td><td>6</td><td><a class=\"ProveItLink\" href=\"../72357ba1dfdc141aa53ac882a767ab4c50d217390/expr.ipynb\"><img src=\"data:image/png;base64,iVBORw0KGgoAAAANSUhEUgAAAEgAAAAVBAMAAAAX07VdAAAAMFBMVEX////c3NwiIiJERESqqqqY\n",
       "mJh2dnZmZmYQEBDu7u4yMjJUVFTMzMyIiIi6uroAAAAs73DqAAAAAXRSTlMAQObYZgAAAUpJREFU\n",
       "KM9jYCAK8F3AL8/6AEicBmLe/b93b9qIIS9Wlg00oQbIWgni8i9gYLAQQFPDtoaBYdMEBi6gIWDb\n",
       "zicwMPgnoKrhXAwkODYwsCYwcEwACdwHWhxfgKqISwFIsP9k4GxgeAUWsAfi/Q6oiuoPgKz8x8Bg\n",
       "wlAGFvgFNP0zqhpGMJ/tCwNDOsNSEJPnGwPDIbBtVatAYDXIoq8gPvMfBgYvhj4Qk/d3Wnoimt+Y\n",
       "foK93cDA8ILhH1j9T8xABElDvHweoohfAYsisNiKCSBFLeBggvu+SAkElEEh8AFIsACdBLTOFBZM\n",
       "6IDlH+PdAydAElFA/4GCaQKWmE2axpBiCGKkMzwChlDx/73YkseuXBUGHiBjHQOHAJ5kYsMQwwCK\n",
       "FtYEPIrM+YCpg+0CNKngAPv/Ax0+C8iQxqPoRCuQACVGRgLJl/cAAwDw9FUJfQ7lagAAAABJRU5E\n",
       "rkJggg==\n",
       "\" style=\"display:inline;vertical-align:middle;\" /></a></td></tr>\n",
       "<tr><td>6</td><td>Operation</td><td>operator:&nbsp;7<br>operands:&nbsp;8<br></td><td><a class=\"ProveItLink\" href=\"../ad8cc5574d6913586ec316afc8f8eb4e46f2e1150/expr.ipynb\"><img src=\"data:image/png;base64,iVBORw0KGgoAAAANSUhEUgAAADsAAAASBAMAAAAXqLt+AAAAMFBMVEX////u7u5mZmaYmJi6urqq\n",
       "qqp2dnbMzMwQEBBEREQyMjLc3NwiIiJUVFSIiIgAAAAeC3ydAAAAAXRSTlMAQObYZgAAAN5JREFU\n",
       "KM9jYGB4+//u3bMbGNAAd1LaPQjrFwMDZze6dFYBA+9BEIP9GwMD6zc0WakJQKIXxOL7wsDA/AlN\n",
       "eg2I0BcAEpwfGBh4v6LKMn0HkfkOQIJ/AQOD/ARU6f1gfn4AkKhPYGA/BNayCgwugIw1AAnMLwAS\n",
       "76+lqaH76zzIVoYfYDUCDBgALAHxzh9MWYgYVyPI23A/MZ0BA5Cr1oP48QVQb2OAeId9z9lbQCzO\n",
       "j1ik2Q4msEWC3Cs0/+8DLPK+y94EMBQw4AacBcx4pRW88Mgy8P7/gk+avQMYsACkOkEpvD6FzwAA\n",
       "AABJRU5ErkJggg==\n",
       "\" style=\"display:inline;vertical-align:middle;\" /></a></td></tr>\n",
       "<tr><td>7</td><td>Literal</td><td></td><td><a class=\"ProveItLink\" href=\"../../../../equality/__pv_it/2fb26078095930560931daa0500ce419a39ea6cd0/expr.ipynb\"><img src=\"data:image/png;base64,iVBORw0KGgoAAAANSUhEUgAAAA4AAAAFBAMAAACHocAhAAAAFVBMVEX///9EREQiIiJUVFQyMjJm\n",
       "ZmYAAADubVkoAAAAAXRSTlMAQObYZgAAABRJREFUCNdjCHEBAWcGXCBICQQUAUpuAwlgGKrkAAAA\n",
       "AElFTkSuQmCC\n",
       "\" style=\"display:inline;vertical-align:middle;\" /></a></td></tr>\n",
       "<tr><td>8</td><td>ExprTuple</td><td>9, 10</td><td><a class=\"ProveItLink\" href=\"../d7a1e7ea4a4f91471e6430488ddf80a6c01c0dbd0/expr.ipynb\"><img src=\"data:image/png;base64,iVBORw0KGgoAAAANSUhEUgAAADMAAAAVBAMAAAAZessyAAAAMFBMVEX////c3NwiIiJERESqqqqY\n",
       "mJh2dnZmZmYQEBDu7u4yMjJUVFTMzMyIiIi6uroAAAAs73DqAAAAAXRSTlMAQObYZgAAAUZJREFU\n",
       "KM99Ur9Lw1AYvJImbZpUu4s4SnHQxbkB/4A6OUqmFgRpp65VcFAEzaa4GAQFJzeXImR3UFwtGBx1\n",
       "KSJt/UHrd++10aH4IJfLu3Dv++57wD9r6n7S7jrhVp7HYau1UNCbqWrlBshEQi/5/QkY21raiOAU\n",
       "gRDI08/tAumuUk6WBPaBNSAbCM0PALOnpDNCM8Ax8EJqdADnnSzzTazFMDw0SKfF+ZROmFNY82DV\n",
       "cU5658OdV37NVWIpQjrEAenTdaWha1/k0ehLu1sYqL+Ccat9Aot1O1p6S1JQLLenpB221UukK0I5\n",
       "UobLo7Zk0bUcz7Zdnm+GqLKtDyo2zayib62wIin+GTgqfTEt+5BbrxcPHsQwFyNb+B2PpkZkiiRB\n",
       "mX4imfpl1Bne5ngofyVnKFXZEh1mEmk0bndXwnJonpp4AdrAD2bmUgaDRD48AAAAAElFTkSuQmCC\n",
       "\" style=\"display:inline;vertical-align:middle;\" /></a></td></tr>\n",
       "<tr><td>9</td><td>Variable</td><td></td><td><a class=\"ProveItLink\" href=\"../../../../../__pv_it/6369c6c8083c513ca7161ace249642d040f9327d0/expr.ipynb\"><img src=\"data:image/png;base64,iVBORw0KGgoAAAANSUhEUgAAABAAAAAOBAMAAADUAYG5AAAAMFBMVEX////u7u5mZmaYmJi6urqq\n",
       "qqp2dnbMzMwQEBBEREQyMjLc3NwiIiJUVFSIiIgAAAAeC3ydAAAAAXRSTlMAQObYZgAAAGBJREFU\n",
       "CNdjYGB4+//u3bMbGIDgFwMDZzeQZv/GwMAKxAx8XxgYmD8BGZwfGBh4vwIZ/AsYGOQnABn1CQzs\n",
       "h0Ca3l9LUwPrni/AAAF/oDT7JygDZAwYcH6E0ELz/z4A0QBnpRnRyxnfJQAAAABJRU5ErkJggg==\n",
       "\" style=\"display:inline;vertical-align:middle;\" /></a></td></tr>\n",
       "<tr><td>10</td><td>Variable</td><td></td><td><a class=\"ProveItLink\" href=\"../../../../../__pv_it/98124f92e6e1fc3772af50ac63eaa1f5624776f20/expr.ipynb\"><img src=\"data:image/png;base64,iVBORw0KGgoAAAANSUhEUgAAAA8AAAASBAMAAAB2sJk8AAAAMFBMVEX///+YmJiqqqq6uroQEBBE\n",
       "RETu7u4iIiLMzMwyMjKIiIhUVFRmZmZ2dnbc3NwAAADS0us6AAAAAXRSTlMAQObYZgAAAHxJREFU\n",
       "CNdjYGDgu3N3FwMI3Gxg4C4D0pkBQMIbiKeDRM8nMPD8ADHuGzC8DwAzFBjOC4AY8Q0M9Qkgxhcw\n",
       "YmBg+svA8B3E4HRjYJgPYug3ALHBqxUczkAOb9kFXtUHIGHrucsVGBrAtrI2MEIZByzBNAP3/88Q\n",
       "BocL0BoActoerD1tNT4AAAAASUVORK5CYII=\n",
       "\" style=\"display:inline;vertical-align:middle;\" /></a></td></tr>\n",
       "</table>\n"
      ],
      "text/plain": [
       "0. P -> [forall_{Q | P = Q} Q] | P\n",
       "   core type: Lambda\n",
       "   parameter: 9\n",
       "   body: 1\n",
       "   conditions: 2\\n1. forall_{Q | P = Q} Q\n",
       "   core type: Operation\n",
       "   operator: 3\n",
       "   operand: 4\n",
       "2. (P)\n",
       "   core type: ExprTuple\n",
       "   sub-expressions: 9\n",
       "3. forall\n",
       "   core type: Literal\n",
       "   sub-expressions: \n",
       "4. Q -> Q | P = Q\n",
       "   core type: Lambda\n",
       "   parameter: 10\n",
       "   body: 10\n",
       "   conditions: 5\\n5. (P = Q)\n",
       "   core type: ExprTuple\n",
       "   sub-expressions: 6\n",
       "6. P = Q\n",
       "   core type: Operation\n",
       "   operator: 7\n",
       "   operands: 8\n",
       "7. =\n",
       "   core type: Literal\n",
       "   sub-expressions: \n",
       "8. (P , Q)\n",
       "   core type: ExprTuple\n",
       "   sub-expressions: 9, 10\n",
       "9. P\n",
       "   core type: Variable\n",
       "   sub-expressions: \n",
       "10. Q\n",
       "    core type: Variable\n",
       "    sub-expressions: "
      ]
     },
     "execution_count": 4,
     "metadata": {},
     "output_type": "execute_result"
    }
   ],
   "source": [
    "# display the expression information\n",
    "expr.exprInfo()"
   ]
  },
  {
   "cell_type": "code",
   "execution_count": null,
   "metadata": {},
   "outputs": [],
   "source": []
  }
 ],
 "metadata": {
  "kernelspec": {
   "display_name": "Python 3",
   "language": "python",
   "name": "python3"
  }
 },
 "nbformat": 4,
 "nbformat_minor": 0
}
