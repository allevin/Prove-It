{
 "cells": [
  {
   "cell_type": "markdown",
   "metadata": {},
   "source": [
    "Show the Proof\n",
    "========"
   ]
  },
  {
   "cell_type": "code",
   "execution_count": 1,
   "metadata": {},
   "outputs": [
    {
     "data": {
      "text/html": [
       "<table><tr><th>&nbsp;</th><th>step type</th><th>requirements</th><th>statement</th></tr>\n",
       "<tr><td>0</td><td>specialization</td><td>1, 2</td><td><span style=\"font-size:20px;\"> <a class=\"ProveItLink\" href=\"proof.ipynb\" style=\"text-decoration: none\">&#x22A2;&nbsp;</a><a class=\"ProveItLink\" href=\"../6a76d9949f04b9a849b98209d9cf3a8195a409fe0/expr.ipynb\"><img src=\"data:image/png;base64,iVBORw0KGgoAAAANSUhEUgAAADkAAAAVBAMAAAAOWFv7AAAAMFBMVEX////c3NxERESqqqqYmJgQ\n",
       "EBDu7u4yMjKIiIi6urpUVFTMzMx2dnYiIiJmZmYAAABjE816AAAAAXRSTlMAQObYZgAAAKdJREFU\n",
       "KM9jYCAOzEAX8ERicy+Asd7eBYFLDHwbELLsCUhK94HJAoRABwOGrA9CIAxTNhXO5yzAlGUygPH5\n",
       "DmDK8jyAO8oBU5a5AOL+OwysExhgTLgsZwBE7S4G/gkMMCZclvsDcbKsBpiyCJOZHDBlWaC+5Ea4\n",
       "nhubjzgvIPtoD8SXE+ACgZhxighJ5CCHgRM4YhAM2JCCnnEBuiyXABJHAl22m4EBAHEcNJeH9vOB\n",
       "AAAAAElFTkSuQmCC\n",
       "\" style=\"display:inline;vertical-align:middle;\" /></a></span></td></tr>\n",
       "<tr><td>&nbsp;</td><td colspan=4 style=\"text-align:left\"><span style=\"font-size:20px;\"><a class=\"ProveItLink\" href=\"../../../../../__pv_it/2cbe72a7ad6f655694dd697106680215e8489b600/expr.ipynb\"><img src=\"data:image/png;base64,iVBORw0KGgoAAAANSUhEUgAAAA8AAAAOBAMAAAACpFvcAAAALVBMVEX///8QEBBERERUVFS6urqI\n",
       "iIhmZmaqqqrc3Nzu7u6YmJgyMjIiIiLMzMwAAADtIaYWAAAAAXRSTlMAQObYZgAAAFtJREFUCNdj\n",
       "YACBOwxQsA9Kc52bAGG05zVAGAFxDmCaZULdAjBjCsO9ADDDgaEvAUTzGhvbKYCVMDAwbgAxChgY\n",
       "eASANAeQwf0AyJgNxEwvGRia5HYwcOm9TgAA6BoR3jrzwFcAAAAASUVORK5CYII=\n",
       "\" style=\"display:inline;vertical-align:middle;\" /></a> : <a class=\"ProveItLink\" href=\"../dfafa6688e23e6052338b04329ec0289b038a5460/expr.ipynb\"><img src=\"data:image/png;base64,iVBORw0KGgoAAAANSUhEUgAAABwAAAAOBAMAAADOPWE3AAAAGFBMVEX///9ERERUVFTMzMx2dnYi\n",
       "IiJmZmYAAADORshHAAAAAXRSTlMAQObYZgAAACZJREFUCNdjYICA1FAQCGRAADMGFEAxF2xDCKqs\n",
       "EQVcZiwWmQAxANt2B/RO11f4AAAAAElFTkSuQmCC\n",
       "\" style=\"display:inline;vertical-align:middle;\" /></a></span></td></tr><tr><td>1</td><td>axiom</td><td></td><td><span style=\"font-size:20px;\"> <a class=\"ProveItLink\" href=\"../../_axioms_.ipynb#negationIntro\" style=\"text-decoration: none\">&#x22A2;&nbsp;</a><a class=\"ProveItLink\" href=\"../799eb3b565b99e60491a24b404f1db01d8e6476d0/expr.ipynb\"><img src=\"data:image/png;base64,iVBORw0KGgoAAAANSUhEUgAAAIUAAAAXBAMAAADXWpFHAAAAMFBMVEX///8QEBC6urrMzMxUVFRm\n",
       "ZmZERETc3NwyMjKqqqp2dnaIiIiYmJgiIiLu7u4AAAAU9Wx4AAAAAXRSTlMAQObYZgAAActJREFU\n",
       "OMtjYKACeECacm10gUNAfAHEOE2sEcwOKDygZlYDBoaVIE4fsWZwoDib4wOQaGBgKANS7AnEmrEb\n",
       "hXf2H5A4BTGZdQKxZsghc9infgeSDxkYeJaXl9cSawRTAzKPm/sTkGQDOuBbWtotYs1gXYDM0+P8\n",
       "AyS5AhgYnBkY0sFC7RCr4AFWgCVIDyBx+BSYfwMpTqDbVBj4wC7k+QSWYYMpOa+AUA4Lc0agWOxd\n",
       "ILgFto39K4gSYGDgZeAGm/70D4oZfPEHMM3gh5lrAsIuLt9AiQQYwdwHeMGRvu4qihlcbwMImAFk\n",
       "S0DN4GswAae5DWkoZlizJWDxywSEGZxA6iLULwzpTiBRFoZYFDMcWC8weHQAwQYkM9gOIMyoBFL9\n",
       "oHAEheZUcJY5ybAf2QyeCdwfMN3BBfMfMyQi8h9AxRhBNvFdDc1/gGTG29Cwf5hmMF2Ap9HEHwUM\n",
       "x/63AuMbFEY8IL2sBQz2BkhmhDMwf2bIQPcLgzhmmnkIZ+kAA/0AwgwmIPsPpjtAGQwdrIYxnnxj\n",
       "YPe/AzeDzz+BoeQvNABZ09LE0rKw5X2w0gZMY9nwZhh2B3QRlgJSzWCoRhfYzECyGUQBFtK1AAB+\n",
       "a2tdy7eWbQAAAABJRU5ErkJggg==\n",
       "\" style=\"display:inline;vertical-align:middle;\" /></a></span></td></tr>\n",
       "<tr><td>&nbsp;</td><td colspan=4 style-\"text-align:left\"><a class=\"ProveItLink\" href=\"../../_axioms_.ipynb#negationIntro\">proveit.logic.boolean.negation.negationIntro</a></td></tr><tr><td>2</td><td>theorem</td><td></td><td><span style=\"font-size:20px;\"> <a class=\"ProveItLink\" href=\"../../_proofs_/notT.ipynb\" style=\"text-decoration: none\">&#x22A2;&nbsp;</a><a class=\"ProveItLink\" href=\"../3bbac4c150f4c9a4b1164f1b0d5ad6c3ffba86800/expr.ipynb\"><img src=\"data:image/png;base64,iVBORw0KGgoAAAANSUhEUgAAAFcAAAAVBAMAAADBdm84AAAAMFBMVEX////c3NwiIiJERESqqqqY\n",
       "mJh2dnZmZmYQEBDu7u4yMjJUVFTMzMyIiIi6uroAAAAs73DqAAAAAXRSTlMAQObYZgAAALdJREFU\n",
       "KM9jYCAJ8F1AE2B9gFvxaRiDXQkMDBhqsKhihBi5EkmIpwBEcmFRDJHhvYAhxJqASzHHBAwhzgZc\n",
       "il9hCjGY4FJchkVxOi7FS7Eo9gIHziow2IAs0wcLswSE4he4TP4H421AKD5PFcUtWBS/QIlQJMWm\n",
       "WBRH4TIZHkwHiAi6RyhCkIheh6YS5KImkIs4BDBMwRbd0NSLmWrYLuBMzysxRGbhTvzSGCIbcStm\n",
       "RLeU9wAupQBOfjG3y1aH3gAAAABJRU5ErkJggg==\n",
       "\" style=\"display:inline;vertical-align:middle;\" /></a></span></td></tr>\n",
       "<tr><td>&nbsp;</td><td colspan=4 style-\"text-align:left\"><a class=\"ProveItLink\" href=\"../../_proofs_/notT.ipynb\">proveit.logic.boolean.negation.notT</a></td></tr></table>"
      ],
      "text/plain": [
       "<proveit._core_.proof._ShowProof at 0x7f94ebbc2358>"
      ]
     },
     "execution_count": 1,
     "metadata": {},
     "output_type": "execute_result"
    }
   ],
   "source": [
    "import proveit\n",
    "%show_proof"
   ]
  },
  {
   "cell_type": "code",
   "execution_count": null,
   "metadata": {},
   "outputs": [],
   "source": []
  }
 ],
 "metadata": {
  "kernelspec": {
   "display_name": "Python 3",
   "language": "python",
   "name": "python3"
  }
 },
 "nbformat": 4,
 "nbformat_minor": 0
}
