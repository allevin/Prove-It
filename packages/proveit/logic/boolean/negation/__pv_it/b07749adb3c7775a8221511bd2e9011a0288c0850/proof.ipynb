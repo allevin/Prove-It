{
 "cells": [
  {
   "cell_type": "markdown",
   "metadata": {},
   "source": [
    "Show the Proof\n",
    "========"
   ]
  },
  {
   "cell_type": "code",
   "execution_count": 1,
   "metadata": {},
   "outputs": [
    {
     "data": {
      "text/html": [
       "<table><tr><th>&nbsp;</th><th>step type</th><th>requirements</th><th>statement</th></tr>\n",
       "<tr><td>0</td><td>specialization</td><td>1, 2</td><td><span style=\"font-size:20px;\"><a class=\"ProveItLink\" href=\"../41d101aae6cac3cfc9e4e78b59591399adab95ef0/expr.ipynb\"><img src=\"data:image/png;base64,iVBORw0KGgoAAAANSUhEUgAAAGcAAAAVBAMAAACphe0AAAAAMFBMVEX////c3NxERESqqqpUVFS6\n",
       "urrMzMwyMjIQEBCIiIh2dnYiIiLu7u5mZmaYmJgAAABXZE4RAAAAAXRSTlMAQObYZgAAAaxJREFU\n",
       "OMtjYGDgu8dAPGBbJQCieHaByEh02ae4dDWDSM4PIKYDisQGBgbeBFTFyz/VV2wyADKug3hcDUCC\n",
       "/QCyAnaQOQVoVihE8tSsAtIr4Jpmosi//gMkXmFoYpjKjqKpB1ma0fYjkDwB4fBM3727AKrJjuUA\n",
       "kiZWFLdwcn4FkkwGYE76GySbhJBt4l2ArCmG+R9I/ALYVh2E89j26cA08QJtYX+ApIcngO0nkGIG\n",
       "284kANcUvf/HBCD9HsTJCGBg4ADi27uBABRnrAyMf0EUyK8Mh5ADYqYRKGiBLkhpAzL4A6AyKSDs\n",
       "4vIJFFmgcGeIABkFCwgmVpA31IHOikhA0wRkt8M1pSDbxMSgwMDADdLIAjSHwwChiRlI7YA77zSG\n",
       "JrCfuIBphukBQpMwkKoHYj6wo1geIGsCOQ8e5JDgBbmJgQekVv8ATIxnK5Kmt5OQ44l1Azw1aHwX\n",
       "YHj0vxYYShB/il+DJ1jtFgOUZNSImQegyYjBpHo3SnpBaHqFqWkljgwF1sSHmTXAninAoQmcn3h2\n",
       "grzigC7HIoAj57aCKb7FQEISXXIanjICAHJTcTpe9KzPAAAAAElFTkSuQmCC\n",
       "\" style=\"display:inline;vertical-align:middle;\" /></a> <a class=\"ProveItLink\" href=\"proof.ipynb\" style=\"text-decoration: none\">&#x22A2;&nbsp;</a><a class=\"ProveItLink\" href=\"../18d84e6b10643c76412edd0e67904c254c981c030/expr.ipynb\"><img src=\"data:image/png;base64,iVBORw0KGgoAAAANSUhEUgAAADYAAAAPBAMAAABdHiGLAAAAMFBMVEX///92dnYQEBBERERUVFS6\n",
       "urqIiIhmZmaqqqrc3Nzu7u6YmJgyMjIiIiLMzMwAAACFkkdwAAAAAXRSTlMAQObYZgAAANJJREFU\n",
       "GNNjYACBtwwogPG8zR9dCyjnPKocAzNrwpqFAmAm9/0FGHJsAQfAzBn1EyBiy87evQOV49jgBRZK\n",
       "yA8A03ynFyD0RRqAWKwL+jeAhSYvQJj5djOYs5ThfQJYyBJh393/amBWAMP8AhDNZYDslgwQj8/F\n",
       "xR9itu7du3C3MBgEgoQYGJjA7uVzQNLHYMAMZDQwMPAqgM28gC7HCZTj+QAW8kaRA5q5BsT+BRZa\n",
       "G4CQ4y4zYJisf5KB2/4P2KGcxx/AwvrzJQ+0MObwgbgTAgCMvTlc/0QYTQAAAABJRU5ErkJggg==\n",
       "\" style=\"display:inline;vertical-align:middle;\" /></a></span></td></tr>\n",
       "<tr><td>&nbsp;</td><td colspan=4 style=\"text-align:left\"><span style=\"font-size:20px;\"><a class=\"ProveItLink\" href=\"../../../../../__pv_it/2cbe72a7ad6f655694dd697106680215e8489b600/expr.ipynb\"><img src=\"data:image/png;base64,iVBORw0KGgoAAAANSUhEUgAAAA8AAAAOBAMAAAACpFvcAAAALVBMVEX///8QEBBERERUVFS6urqI\n",
       "iIhmZmaqqqrc3Nzu7u6YmJgyMjIiIiLMzMwAAADtIaYWAAAAAXRSTlMAQObYZgAAAFtJREFUCNdj\n",
       "YACBOwxQsA9Kc52bAGG05zVAGAFxDmCaZULdAjBjCsO9ADDDgaEvAUTzGhvbKYCVMDAwbgAxChgY\n",
       "eASANAeQwf0AyJgNxEwvGRia5HYwcOm9TgAA6BoR3jrzwFcAAAAASUVORK5CYII=\n",
       "\" style=\"display:inline;vertical-align:middle;\" /></a> : <a class=\"ProveItLink\" href=\"../../../../../__pv_it/2cbe72a7ad6f655694dd697106680215e8489b600/expr.ipynb\"><img src=\"data:image/png;base64,iVBORw0KGgoAAAANSUhEUgAAAA8AAAAOBAMAAAACpFvcAAAALVBMVEX///8QEBBERERUVFS6urqI\n",
       "iIhmZmaqqqrc3Nzu7u6YmJgyMjIiIiLMzMwAAADtIaYWAAAAAXRSTlMAQObYZgAAAFtJREFUCNdj\n",
       "YACBOwxQsA9Kc52bAGG05zVAGAFxDmCaZULdAjBjCsO9ADDDgaEvAUTzGhvbKYCVMDAwbgAxChgY\n",
       "eASANAeQwf0AyJgNxEwvGRia5HYwcOm9TgAA6BoR3jrzwFcAAAAASUVORK5CYII=\n",
       "\" style=\"display:inline;vertical-align:middle;\" /></a></span></td></tr><tr><td>1</td><td>theorem</td><td></td><td><span style=\"font-size:20px;\"> <a class=\"ProveItLink\" href=\"../../_proofs_/operandInBool.ipynb\" style=\"text-decoration: none\">&#x22A2;&nbsp;</a><a class=\"ProveItLink\" href=\"../7f02ee3527d7548e6066de27f6d437707e6d52d70/expr.ipynb\"><img src=\"data:image/png;base64,iVBORw0KGgoAAAANSUhEUgAAALUAAAAXBAMAAAC/qRN/AAAAMFBMVEX///8QEBC6urrMzMxUVFRm\n",
       "ZmZERETc3NwyMjKqqqp2dnaIiIiYmJgiIiLu7u4AAAAU9Wx4AAAAAXRSTlMAQObYZgAAArlJREFU\n",
       "SMe1lUto1EAYx/+b7DPJxuJNpJhDsSIKe/AgwtJFe1AQW5Ei+MDgIatQaA6lRUHci+ylWg96UnAR\n",
       "rBWhLEoFTw0exMelHgoiXUylQlEqxcPSg6jzyOSx3d1D0EAyM/+Z+c3M933zBfiPjxt7plTv1vuK\n",
       "vIu08j4O+wAvilFVmb602XsZSBWAJ1S4FYftTZpukdNSfe1bDagAE6SZMWOgVW4S7bO7ha0aBPwO\n",
       "yJKu1O0Y7ARnXrlg8/b3m42PHjvnnABWyLqPJyevxTHJHl7UFwxWylNusO9+Yog02XDTsj5tnZkp\n",
       "hBq5duwzPFjcBw6rTLiBTYqvSUMZBo4AZSZW+WA+4moAqUKutWFPse8XDHC7lwN7N/7spBsiNu+D\n",
       "XmFO+cm7+IjAu1R/6NXfzM6eE/p29jVwfZiWuhn25UvSknqAPFR2qq+/QuxccC+ovkZnz484qqI/\n",
       "MzydbUUeHBxiVKm30fB9CXMv6dogseTkmanmlkLstO2zqZ4k1n/R/8NVFcw5YTaxYIKdWi6F9g0z\n",
       "zdl6hV0wuW6F2AkfzXQSyxo9uqpI88JnO+iHxEK+h9lksZVNbYLyYSolcT7EPuizmS6VkGX3JXVy\n",
       "WXSM0mgi7OwGax6PsIlNNHqeu2zJt1gIsfuAGcuyKp4uV3CIsRWcEp54BO6H9G/WXDcCtnbW5DGI\n",
       "BB2tL42MuQH7jogWrhN2kSxVJ+yaiMf9JKZ3VaGNbbJAydwoiFzV/HCMVLJ0MY0yUzYGCgF7t2Bz\n",
       "XTKx6u3bZyfsaLznjvI4Ec+KX9sHbHMC9rpgc12rIWlz9mlhE63WPSc8FZXVJjJDywGbhyUKnp4y\n",
       "oF9kd2dmtDXHdnj4hWxJkTyBRjMjDRKF2DsijndlJ+1ObD2a0e+1m53p+k97jk5s3I+IpX/zb056\n",
       "ngrnWCXeD/svPimv/DBtcGsAAAAASUVORK5CYII=\n",
       "\" style=\"display:inline;vertical-align:middle;\" /></a></span></td></tr>\n",
       "<tr><td>&nbsp;</td><td colspan=4 style-\"text-align:left\"><a class=\"ProveItLink\" href=\"../../_proofs_/operandInBool.ipynb\">proveit.logic.boolean.negation.operandInBool</a></td></tr><tr><td>2</td><td>assumption</td><td></td><td><span style=\"font-size:20px;\"><a class=\"ProveItLink\" href=\"../41d101aae6cac3cfc9e4e78b59591399adab95ef0/expr.ipynb\"><img src=\"data:image/png;base64,iVBORw0KGgoAAAANSUhEUgAAAGcAAAAVBAMAAACphe0AAAAAMFBMVEX////c3NxERESqqqpUVFS6\n",
       "urrMzMwyMjIQEBCIiIh2dnYiIiLu7u5mZmaYmJgAAABXZE4RAAAAAXRSTlMAQObYZgAAAaxJREFU\n",
       "OMtjYGDgu8dAPGBbJQCieHaByEh02ae4dDWDSM4PIKYDisQGBgbeBFTFyz/VV2wyADKug3hcDUCC\n",
       "/QCyAnaQOQVoVihE8tSsAtIr4Jpmosi//gMkXmFoYpjKjqKpB1ma0fYjkDwB4fBM3727AKrJjuUA\n",
       "kiZWFLdwcn4FkkwGYE76GySbhJBt4l2ArCmG+R9I/ALYVh2E89j26cA08QJtYX+ApIcngO0nkGIG\n",
       "284kANcUvf/HBCD9HsTJCGBg4ADi27uBABRnrAyMf0EUyK8Mh5ADYqYRKGiBLkhpAzL4A6AyKSDs\n",
       "4vIJFFmgcGeIABkFCwgmVpA31IHOikhA0wRkt8M1pSDbxMSgwMDADdLIAjSHwwChiRlI7YA77zSG\n",
       "JrCfuIBphukBQpMwkKoHYj6wo1geIGsCOQ8e5JDgBbmJgQekVv8ATIxnK5Kmt5OQ44l1Azw1aHwX\n",
       "YHj0vxYYShB/il+DJ1jtFgOUZNSImQegyYjBpHo3SnpBaHqFqWkljgwF1sSHmTXAninAoQmcn3h2\n",
       "grzigC7HIoAj57aCKb7FQEISXXIanjICAHJTcTpe9KzPAAAAAElFTkSuQmCC\n",
       "\" style=\"display:inline;vertical-align:middle;\" /></a> <a class=\"ProveItLink\" href=\"../d805ce4157ccb4838253850c2c22b1b5283f652d0/proof.ipynb\" style=\"text-decoration: none\">&#x22A2;&nbsp;</a><a class=\"ProveItLink\" href=\"../fcbfa982815d16aed40e906307f19e8999e436040/expr.ipynb\"><img src=\"data:image/png;base64,iVBORw0KGgoAAAANSUhEUgAAAFIAAAAVBAMAAAAnX6R8AAAAMFBMVEX////c3NwiIiJERESqqqqY\n",
       "mJh2dnZmZmYQEBDu7u4yMjJUVFTMzMyIiIi6uroAAAAs73DqAAAAAXRSTlMAQObYZgAAAVBJREFU\n",
       "KM9jYCAe8F1AE2B9gEPlaRTeISCuQVXAtt7qV5MJkLESRXg9EHOhmcXMd2HWtAQGXhTLWfUnAIkE\n",
       "DJW8DxYwcExAFhSpF2Bg4GyAcOYuUtKCqmQJ2MnwCkX7hfsg75iA2TxLJyDMfGjAUIYSDhP8A4BU\n",
       "OpgjPAFh+6HgCQxLkVXOYzgPcrYXmGOIcKfS/14Ghj4GBnYlEAB54wGDfAGQegGS5zRA9tEVA4Z/\n",
       "UC7PBiDevXs/SP482CVNQO0wHzEYPENRycfAwLEAphIkADeTwYCZoQVJpQMDA1MD3HYFNJWmCJWM\n",
       "QJVcH4DsKLDIVhSVz6AhAgQHGGaBRH/CQ2nSA4RK1loDhkfwIBLuX8jAav8L6Pl1YD7j8gOwFPJZ\n",
       "YwvQCwIYqQsWmyy7IH6HpYkEDJVsF7Cnz5UYIrNwpGRpDJGNOFQyotvFewCrOgDNBVc5K9T2IgAA\n",
       "AABJRU5ErkJggg==\n",
       "\" style=\"display:inline;vertical-align:middle;\" /></a></span></td></tr>\n",
       "</table>"
      ],
      "text/plain": [
       "<proveit._core_.proof._ShowProof at 0x7f94ea9e3b38>"
      ]
     },
     "execution_count": 1,
     "metadata": {},
     "output_type": "execute_result"
    }
   ],
   "source": [
    "import proveit\n",
    "%show_proof"
   ]
  },
  {
   "cell_type": "code",
   "execution_count": null,
   "metadata": {},
   "outputs": [],
   "source": []
  }
 ],
 "metadata": {
  "kernelspec": {
   "display_name": "Python 3",
   "language": "python",
   "name": "python3"
  }
 },
 "nbformat": 4,
 "nbformat_minor": 0
}
