{
 "cells": [
  {
   "cell_type": "markdown",
   "metadata": {},
   "source": [
    "Expression of type <a class=\"ProveItLink\" href=\"../../../../../../../doc/html/api/proveit.Lambda.html\">Lambda</a>\n",
    "=======================\n",
    "# from context <a class=\"ProveItLink\" href=\"../../_context_.ipynb\">proveit.logic.boolean.negation</a>"
   ]
  },
  {
   "cell_type": "code",
   "execution_count": 1,
   "metadata": {},
   "outputs": [],
   "source": [
    "# import Expression classes needed to build the expression\n",
    "from proveit import Lambda\n",
    "from proveit._common_ import A\n",
    "from proveit.logic import Booleans, InSet, Not"
   ]
  },
  {
   "cell_type": "code",
   "execution_count": 2,
   "metadata": {},
   "outputs": [
    {
     "data": {
      "text/html": [
       "<strong id=\"expr\">expr:</strong> <a class=\"ProveItLink\" href=\"expr.ipynb\"><img src=\"data:image/png;base64,iVBORw0KGgoAAAANSUhEUgAAAOIAAAAVCAMAAABsWcJEAAAANlBMVEX///92dnYUFBQNDQ0QEBBE\n",
       "RERUVFS6urqIiIhmZmaqqqrc3Nzu7u6YmJgyMjIiIiLMzMwAAACuIkBbAAAAAXRSTlMAQObYZgAA\n",
       "AkNJREFUWMPNWNty6yAMhB7uF2H+/2ePHduJABlw3c5UL5nE7C4LQsJh7A+E8+zPhTbfhkbd/sb1\n",
       "TXaKZCaWND1S3cBxyBIyiCTd67tdBhZLdnqOBElP8wzIsxYh3MLJbV8CBM738QOLJTuj5wj3NI/N\n",
       "TznMOTRFIo1xLzlm9DGvyLsWTSdNP1otSVfzFd7ZPHnqBbbU4oKBtAZUci4y9QIG0bUorhcMaVUk\n",
       "I8198ZjJc4dYF0nS4BaIgV5RL4/vrmNRd1IQaxUkY82NOTCXI0r6sqpjPotzpMYxLwOZNEuK5xNu\n",
       "OxbtdQYWWphkQnPd6FVkyegUVFUSbTcD5KjBMempc5FSzuIc5qBjEbOXUWphkgnNdYG2tcj20mJQ\n",
       "HxaB06rGBXl59I07nmnRsXiw2/QOTmohkhnNtRVtkdHQf1+pCPE5cOjotTgtTkR99LePfbZL7lhs\n",
       "CsLZJistRDKjyXZaAZe7yJSmJtHiqL79lmPygcVKC5HMaB7FJIlLixZlu3jXHgIX0liun6iOtlhr\n",
       "4UQda3rXXlNK1FIUlPhuU8T1RsVruSNpYq/cyEhabLQwyVAznINlxm2yqDbFhI4TT+LWJdW0XLRG\n",
       "TjSN5iFbSC08bqDppciwpWGUOYOdaf1p70UXOA/lHXm/Essk1JmCoHutn8g6SqsgGWveDDG46DkF\n",
       "RXWr+9vgAjd1jaxJBpq3X/n4Izg3XYtz7NywXw0ID8DhyctUh+Rnw6sHYOUHFmfY1a//FeK/nyaG\n",
       "eF83+ia7WW4o/gceJh2cQHxV7wAAAABJRU5ErkJggg==\n",
       "\" style=\"display:inline;vertical-align:middle;\" /></a><br>"
      ],
      "text/plain": [
       "expr: A -> (A in BOOLEANS) | [not](A) in BOOLEANS"
      ]
     },
     "execution_count": 2,
     "metadata": {},
     "output_type": "execute_result"
    }
   ],
   "source": [
    "# build up the expression from sub-expressions\n",
    "expr = Lambda(A, InSet(A, Booleans), conditions = [InSet(Not(A), Booleans)])"
   ]
  },
  {
   "cell_type": "code",
   "execution_count": 3,
   "metadata": {},
   "outputs": [
    {
     "name": "stdout",
     "output_type": "stream",
     "text": [
      "Passed sanity check: built 'expr' is the same as the stored Expression.\n"
     ]
    }
   ],
   "source": [
    "# check that the built expression is the same as the stored expression\n",
    "%check_expr"
   ]
  },
  {
   "cell_type": "code",
   "execution_count": 4,
   "metadata": {},
   "outputs": [
    {
     "data": {
      "text/html": [
       "<table><tr><th>&nbsp;</th><th>core type</th><th>sub-expressions</th><th>expression</th></tr>\n",
       "<tr><td>0</td><td>Lambda</td><td>parameter:&nbsp;10<br>body:&nbsp;1<br>conditions:&nbsp;2<br></td><td><a class=\"ProveItLink\" href=\"expr.ipynb\"><img src=\"data:image/png;base64,iVBORw0KGgoAAAANSUhEUgAAAOIAAAAVCAMAAABsWcJEAAAANlBMVEX///92dnYUFBQNDQ0QEBBE\n",
       "RERUVFS6urqIiIhmZmaqqqrc3Nzu7u6YmJgyMjIiIiLMzMwAAACuIkBbAAAAAXRSTlMAQObYZgAA\n",
       "AkNJREFUWMPNWNty6yAMhB7uF2H+/2ePHduJABlw3c5UL5nE7C4LQsJh7A+E8+zPhTbfhkbd/sb1\n",
       "TXaKZCaWND1S3cBxyBIyiCTd67tdBhZLdnqOBElP8wzIsxYh3MLJbV8CBM738QOLJTuj5wj3NI/N\n",
       "TznMOTRFIo1xLzlm9DGvyLsWTSdNP1otSVfzFd7ZPHnqBbbU4oKBtAZUci4y9QIG0bUorhcMaVUk\n",
       "I8198ZjJc4dYF0nS4BaIgV5RL4/vrmNRd1IQaxUkY82NOTCXI0r6sqpjPotzpMYxLwOZNEuK5xNu\n",
       "OxbtdQYWWphkQnPd6FVkyegUVFUSbTcD5KjBMempc5FSzuIc5qBjEbOXUWphkgnNdYG2tcj20mJQ\n",
       "HxaB06rGBXl59I07nmnRsXiw2/QOTmohkhnNtRVtkdHQf1+pCPE5cOjotTgtTkR99LePfbZL7lhs\n",
       "CsLZJistRDKjyXZaAZe7yJSmJtHiqL79lmPygcVKC5HMaB7FJIlLixZlu3jXHgIX0liun6iOtlhr\n",
       "4UQda3rXXlNK1FIUlPhuU8T1RsVruSNpYq/cyEhabLQwyVAznINlxm2yqDbFhI4TT+LWJdW0XLRG\n",
       "TjSN5iFbSC08bqDppciwpWGUOYOdaf1p70UXOA/lHXm/Essk1JmCoHutn8g6SqsgGWveDDG46DkF\n",
       "RXWr+9vgAjd1jaxJBpq3X/n4Izg3XYtz7NywXw0ID8DhyctUh+Rnw6sHYOUHFmfY1a//FeK/nyaG\n",
       "eF83+ia7WW4o/gceJh2cQHxV7wAAAABJRU5ErkJggg==\n",
       "\" style=\"display:inline;vertical-align:middle;\" /></a></td></tr>\n",
       "<tr><td>1</td><td>Operation</td><td>operator:&nbsp;5<br>operands:&nbsp;3<br></td><td><a class=\"ProveItLink\" href=\"../18d84e6b10643c76412edd0e67904c254c981c030/expr.ipynb\"><img src=\"data:image/png;base64,iVBORw0KGgoAAAANSUhEUgAAADYAAAAPBAMAAABdHiGLAAAAMFBMVEX///92dnYQEBBERERUVFS6\n",
       "urqIiIhmZmaqqqrc3Nzu7u6YmJgyMjIiIiLMzMwAAACFkkdwAAAAAXRSTlMAQObYZgAAANJJREFU\n",
       "GNNjYACBtwwogPG8zR9dCyjnPKocAzNrwpqFAmAm9/0FGHJsAQfAzBn1EyBiy87evQOV49jgBRZK\n",
       "yA8A03ynFyD0RRqAWKwL+jeAhSYvQJj5djOYs5ThfQJYyBJh393/amBWAMP8AhDNZYDslgwQj8/F\n",
       "xR9itu7du3C3MBgEgoQYGJjA7uVzQNLHYMAMZDQwMPAqgM28gC7HCZTj+QAW8kaRA5q5BsT+BRZa\n",
       "G4CQ4y4zYJisf5KB2/4P2KGcxx/AwvrzJQ+0MObwgbgTAgCMvTlc/0QYTQAAAABJRU5ErkJggg==\n",
       "\" style=\"display:inline;vertical-align:middle;\" /></a></td></tr>\n",
       "<tr><td>2</td><td>ExprTuple</td><td>4</td><td><a class=\"ProveItLink\" href=\"../bbe67e43018b60c5e4f4f7fc91bd950ddefa56fc0/expr.ipynb\"><img src=\"data:image/png;base64,iVBORw0KGgoAAAANSUhEUgAAAGEAAAAVBAMAAACkm51HAAAAMFBMVEX////c3NwiIiJERESqqqqY\n",
       "mJh2dnZmZmYQEBDu7u4yMjJUVFTMzMyIiIi6uroAAAAs73DqAAAAAXRSTlMAQObYZgAAAaVJREFU\n",
       "OMuVUz1Iw0AU/mob+2NbhLo5KJ3ExQjt4mJnFwuCg4N06yR06qRYSlc1OEgpKFUo4mIVdNAOlq4O\n",
       "zeAoGDuIOBWc7FB9d5f0kjSLH3x5+e7uu7z3eAH+j7gu6IBieB/eZo9nkxId4q7z5GRzZVBOAcE2\n",
       "iSuTEk1ixHW5P67XTnJAHYjpgraMljR65MYcMYOObwIhTVBiZn8aCJeEOL1ILpqOQPYBqAJfEJTQ\n",
       "31jZKf4ebWjyG+8qxQyKJIuO3mnrWQp5LhKazKqzQWKygAbJht1xhi4ra42LZVlH8veAYqCOQwrE\n",
       "YJKBlWtgrkDhk50Lq/bKX0jFSxiSHJrL0Rtiq/XEznV5hmW6xqoc6gdt98cccWpd3XKwhdE3oPq5\n",
       "o0KyYnNkgInSKKt5t4OySpNMS4ePHJE+vW/xlXuHg7JS6ryLeWu9jRrb/RmtHRvSoeypvLs9kr1R\n",
       "axNH51BWB9Ssa659l21rEr8X7ti8GQjRSDC6YE1J4FH0ykJVjJx77NiluvcPsuM57Qw1b0OYNX7W\n",
       "pBO33o4plr9PF3Qg1vZ2vAJ/SUNvcWhIv1YAAAAASUVORK5CYII=\n",
       "\" style=\"display:inline;vertical-align:middle;\" /></a></td></tr>\n",
       "<tr><td>3</td><td>ExprTuple</td><td>10, 8</td><td><a class=\"ProveItLink\" href=\"../0f38ce3f6d5bca20d60f2036d8f4eedb1ccd39680/expr.ipynb\"><img src=\"data:image/png;base64,iVBORw0KGgoAAAANSUhEUgAAADMAAAAVBAMAAAAZessyAAAAMFBMVEX////c3NwiIiJERESqqqqY\n",
       "mJh2dnZmZmYQEBDu7u4yMjJUVFTMzMyIiIi6uroAAAAs73DqAAAAAXRSTlMAQObYZgAAAR1JREFU\n",
       "KM9jYMAD+C5gE40DEach7EMQim291a8mEwYG9gNAzkqI2Hqocma+C7OmJTAwLGBg4IWYx6o/AS7F\n",
       "+wAoHsbAwAEREqkXgEuxBOxkYJjBwPAKInLh/gOErocGQNqBoQzizAn+AXCpQ8FAk9gKGJaCBeYx\n",
       "nL8Ak1L63wukWRYw9IEFHjDIFyAMvAI0kK+B4R+Iz7N7934DuBSDwTOg0AeIFB/QpQuQpJjBUi0g\n",
       "vgMDA1MDqhTQQFMglxEoxfWBgWECkoGsCxjSgdxZIKGfDJyfIFKstQZgxz9iYBDuX8jAav+rgLNf\n",
       "ABS8nzW2AJVwPWDgEECKHyQ2MKBYExBcVqQIy0VECpoUJ8gv0gg+Unxzg8xmxJoA7jAwAAA4lUto\n",
       "1aFFcAAAAABJRU5ErkJggg==\n",
       "\" style=\"display:inline;vertical-align:middle;\" /></a></td></tr>\n",
       "<tr><td>4</td><td>Operation</td><td>operator:&nbsp;5<br>operands:&nbsp;6<br></td><td><a class=\"ProveItLink\" href=\"../fcbfa982815d16aed40e906307f19e8999e436040/expr.ipynb\"><img src=\"data:image/png;base64,iVBORw0KGgoAAAANSUhEUgAAAFIAAAAVBAMAAAAnX6R8AAAAMFBMVEX////c3NwiIiJERESqqqqY\n",
       "mJh2dnZmZmYQEBDu7u4yMjJUVFTMzMyIiIi6uroAAAAs73DqAAAAAXRSTlMAQObYZgAAAVBJREFU\n",
       "KM9jYCAe8F1AE2B9gEPlaRTeISCuQVXAtt7qV5MJkLESRXg9EHOhmcXMd2HWtAQGXhTLWfUnAIkE\n",
       "DJW8DxYwcExAFhSpF2Bg4GyAcOYuUtKCqmQJ2MnwCkX7hfsg75iA2TxLJyDMfGjAUIYSDhP8A4BU\n",
       "OpgjPAFh+6HgCQxLkVXOYzgPcrYXmGOIcKfS/14Ghj4GBnYlEAB54wGDfAGQegGS5zRA9tEVA4Z/\n",
       "UC7PBiDevXs/SP482CVNQO0wHzEYPENRycfAwLEAphIkADeTwYCZoQVJpQMDA1MD3HYFNJWmCJWM\n",
       "QJVcH4DsKLDIVhSVz6AhAgQHGGaBRH/CQ2nSA4RK1loDhkfwIBLuX8jAav8L6Pl1YD7j8gOwFPJZ\n",
       "YwvQCwIYqQsWmyy7IH6HpYkEDJVsF7Cnz5UYIrNwpGRpDJGNOFQyotvFewCrOgDNBVc5K9T2IgAA\n",
       "AABJRU5ErkJggg==\n",
       "\" style=\"display:inline;vertical-align:middle;\" /></a></td></tr>\n",
       "<tr><td>5</td><td>Literal</td><td></td><td><a class=\"ProveItLink\" href=\"../../../../set_theory/membership/__pv_it/088cbc857536a28d4119ad9639a84270ccb0545d0/expr.ipynb\"><img src=\"data:image/png;base64,iVBORw0KGgoAAAANSUhEUgAAAAwAAAAMBAMAAACkW0HUAAAALVBMVEX///+qqqpmZmZUVFQQEBC6\n",
       "urpERETc3NyYmJjMzMwiIiIyMjKIiIju7u4AAACYsrA9AAAAAXRSTlMAQObYZgAAADxJREFUCNdj\n",
       "YOA9vWrVBgaG2b0MQMCeCyIZ2ArA1DUwyRCyahVIyWQI7xaEYm4AU7xLIdxqTQgtvGvVBgCkcQ7e\n",
       "geM/tQAAAABJRU5ErkJggg==\n",
       "\" style=\"display:inline;vertical-align:middle;\" /></a></td></tr>\n",
       "<tr><td>6</td><td>ExprTuple</td><td>7, 8</td><td><a class=\"ProveItLink\" href=\"../9394e5ecbb45fc1cd030dbf4e8591f6485f82d650/expr.ipynb\"><img src=\"data:image/png;base64,iVBORw0KGgoAAAANSUhEUgAAAEEAAAAVBAMAAADrxp6XAAAAMFBMVEX////c3NwiIiJERESqqqqY\n",
       "mJh2dnZmZmYQEBDu7u4yMjJUVFTMzMyIiIi6uroAAAAs73DqAAAAAXRSTlMAQObYZgAAAS5JREFU\n",
       "KM9jYCAM+C7gkYwDEadRhA5BKLb1Vr+aTBgY2A8AOStRVKyH0sx8F2ZNS2BgWMDAwItiCav+BLgK\n",
       "3gdA6TAGBo4JyCpE6gXgKlgCdjIwzGBgeIViyYX7DxBmPDQA0g4MZSj+muAfAFdxKBhoPFsBw1Jk\n",
       "FfMYzl+AqVD63wukWRYw9AG9pAQCQIczPGCQL0DYcgVoC18Dwz+odp4NQLx7934DuAoGg2dAoQ8o\n",
       "KviAXluApIIZrKIFSYUDAwNTA6oKoC2mCBWMQBVcHxgYJiDZwrqAIR3mjwMMs0AyPxk4P0FUsNYa\n",
       "gH37CO5V4f6FDKz2vwo4+wVAMfdZYwtQkOsBA4cAZnpAEgKGOmsChgpWJHYuRuyjqeAEeV4aQwVS\n",
       "euAGWciILxXeYWAAAGeMUClODeI8AAAAAElFTkSuQmCC\n",
       "\" style=\"display:inline;vertical-align:middle;\" /></a></td></tr>\n",
       "<tr><td>7</td><td>Operation</td><td>operator:&nbsp;9<br>operand:&nbsp;10<br></td><td><a class=\"ProveItLink\" href=\"../2c81ead3bf46a86573cd5304798392177b4792b40/expr.ipynb\"><img src=\"data:image/png;base64,iVBORw0KGgoAAAANSUhEUgAAABwAAAAOBAMAAADOPWE3AAAAMFBMVEX///8QEBBERES6urqIiIiq\n",
       "qqrc3Nzu7u6YmJgyMjJUVFTMzMx2dnYiIiJmZmYAAADMbjvTAAAAAXRSTlMAQObYZgAAAGNJREFU\n",
       "CNdjYEAA7gsMyIDzAwq39zsyjy3uGzKXheUzMtec9QcSj92A+wsDw9u7QHAHyGVmYPsHldkFwqtW\n",
       "fULiGjAwSCK4rEDqIoKbCqTmw1zLwD4BSOkXwFyk+DOBoen/PABSrhtHsYt+gAAAAABJRU5ErkJg\n",
       "gg==\n",
       "\" style=\"display:inline;vertical-align:middle;\" /></a></td></tr>\n",
       "<tr><td>8</td><td>Literal</td><td></td><td><a class=\"ProveItLink\" href=\"../../../__pv_it/46271c8230be96415d662709611f4ed2279d702b0/expr.ipynb\"><img src=\"data:image/png;base64,iVBORw0KGgoAAAANSUhEUgAAAA0AAAAOBAMAAAAGUYvhAAAAMFBMVEX///9mZmbMzMzc3NxUVFSY\n",
       "mJju7u6IiIi6urqqqqoiIiIQEBBEREQyMjJ2dnYAAAAQvcRZAAAAAXRSTlMAQObYZgAAAElJREFU\n",
       "CNdjePvn/u01ExgYGA60s117B6YZKngh9FSWBAjfBsxnWnoMRHet/10AkS+fA6F5OB5AaIYDqDRU\n",
       "PLCGgQFoz6ktExgAgLIl8DFvGtkAAAAASUVORK5CYII=\n",
       "\" style=\"display:inline;vertical-align:middle;\" /></a></td></tr>\n",
       "<tr><td>9</td><td>Literal</td><td></td><td><a class=\"ProveItLink\" href=\"../7bea79645543c2413aa17e787cca04e21046fde60/expr.ipynb\"><img src=\"data:image/png;base64,iVBORw0KGgoAAAANSUhEUgAAAAwAAAAGBAMAAAAFwGKyAAAAFVBMVEX///9UVFTMzMx2dnYiIiJm\n",
       "ZmYAAACWz4ZEAAAAAXRSTlMAQObYZgAAABRJREFUCNdjCHEBAmcGMFDEQzEBAEl+Ai6uYJv/AAAA\n",
       "AElFTkSuQmCC\n",
       "\" style=\"display:inline;vertical-align:middle;\" /></a></td></tr>\n",
       "<tr><td>10</td><td>Variable</td><td></td><td><a class=\"ProveItLink\" href=\"../../../../../__pv_it/2cbe72a7ad6f655694dd697106680215e8489b600/expr.ipynb\"><img src=\"data:image/png;base64,iVBORw0KGgoAAAANSUhEUgAAAA8AAAAOBAMAAAACpFvcAAAALVBMVEX///8QEBBERERUVFS6urqI\n",
       "iIhmZmaqqqrc3Nzu7u6YmJgyMjIiIiLMzMwAAADtIaYWAAAAAXRSTlMAQObYZgAAAFtJREFUCNdj\n",
       "YACBOwxQsA9Kc52bAGG05zVAGAFxDmCaZULdAjBjCsO9ADDDgaEvAUTzGhvbKYCVMDAwbgAxChgY\n",
       "eASANAeQwf0AyJgNxEwvGRia5HYwcOm9TgAA6BoR3jrzwFcAAAAASUVORK5CYII=\n",
       "\" style=\"display:inline;vertical-align:middle;\" /></a></td></tr>\n",
       "</table>\n"
      ],
      "text/plain": [
       "0. A -> (A in BOOLEANS) | [not](A) in BOOLEANS\n",
       "   core type: Lambda\n",
       "   parameter: 10\n",
       "   body: 1\n",
       "   conditions: 2\\n1. A in BOOLEANS\n",
       "   core type: Operation\n",
       "   operator: 5\n",
       "   operands: 3\n",
       "2. ([not](A) in BOOLEANS)\n",
       "   core type: ExprTuple\n",
       "   sub-expressions: 4\n",
       "3. (A , BOOLEANS)\n",
       "   core type: ExprTuple\n",
       "   sub-expressions: 10, 8\n",
       "4. [not](A) in BOOLEANS\n",
       "   core type: Operation\n",
       "   operator: 5\n",
       "   operands: 6\n",
       "5. in\n",
       "   core type: Literal\n",
       "   sub-expressions: \n",
       "6. ([not](A) , BOOLEANS)\n",
       "   core type: ExprTuple\n",
       "   sub-expressions: 7, 8\n",
       "7. [not](A)\n",
       "   core type: Operation\n",
       "   operator: 9\n",
       "   operand: 10\n",
       "8. BOOLEANS\n",
       "   core type: Literal\n",
       "   sub-expressions: \n",
       "9. not\n",
       "   core type: Literal\n",
       "   sub-expressions: \n",
       "10. A\n",
       "    core type: Variable\n",
       "    sub-expressions: "
      ]
     },
     "execution_count": 4,
     "metadata": {},
     "output_type": "execute_result"
    }
   ],
   "source": [
    "# display the expression information\n",
    "expr.exprInfo()"
   ]
  },
  {
   "cell_type": "code",
   "execution_count": null,
   "metadata": {},
   "outputs": [],
   "source": []
  }
 ],
 "metadata": {
  "kernelspec": {
   "display_name": "Python 3",
   "language": "python",
   "name": "python3"
  }
 },
 "nbformat": 4,
 "nbformat_minor": 0
}
