{
 "cells": [
  {
   "cell_type": "markdown",
   "metadata": {},
   "source": [
    "Show the Proof\n",
    "========"
   ]
  },
  {
   "cell_type": "code",
   "execution_count": 1,
   "metadata": {},
   "outputs": [
    {
     "data": {
      "text/html": [
       "<table><tr><th>&nbsp;</th><th>step type</th><th>requirements</th><th>statement</th></tr>\n",
       "<tr><td>0</td><td>assumption</td><td></td><td><span style=\"font-size:20px;\"><a class=\"ProveItLink\" href=\"../7642d58da070422bf6ea13fc0a5700b2373e2a8d0/expr.ipynb\"><img src=\"data:image/png;base64,iVBORw0KGgoAAAANSUhEUgAAAE4AAAAVBAMAAAAazcUaAAAAMFBMVEX////c3NxERESqqqpUVFS6\n",
       "urrMzMwyMjIQEBCIiIh2dnYiIiLu7u5mZmaYmJgAAABXZE4RAAAAAXRSTlMAQObYZgAAATJJREFU\n",
       "KM9jYGDgu8eAH2QtBJE8u5CEItHVPAURGQZAgvMDQpTNAVkN2wYGBt4EIIO3AEhwNSBk2A8gq2MH\n",
       "mQBXgqxuJoqdr/8AiVfY1PUgK2O0/QgkT2BRx1qArI6T8yuQZDLAVMe7AFldDPM/kPQFqBJehCHs\n",
       "D5CU8QSw/QRSzEBpPpCHMgIYGG7vBoJdDBwIJtARDIx/QRTIrFoGhpQ2mAEpDPwBcCYQu7h8AgUi\n",
       "yCymOgaGiATs6oDsdpg6kPksBXBJDgOEOmYgtQNqL9h9XBvgkkwPEOqEgVQ9EPMVoIcLGzgMoEwe\n",
       "kC36B5DCBTmcN8DjQuO7AMOj/0B/sgdgibdGzMSHLd7AkY4GVsKU8OFMV+BYKYBFGc9OpCTigK6O\n",
       "RQAaZUADFyOEJdHVTYPmDwBR51DC8IULxwAAAABJRU5ErkJggg==\n",
       "\" style=\"display:inline;vertical-align:middle;\" /></a> <a class=\"ProveItLink\" href=\"proof.ipynb\" style=\"text-decoration: none\">&#x22A2;&nbsp;</a><a class=\"ProveItLink\" href=\"../1402334a33158525da829a77129fd462405ae6cf0/expr.ipynb\"><img src=\"data:image/png;base64,iVBORw0KGgoAAAANSUhEUgAAADkAAAAVBAMAAAAOWFv7AAAAMFBMVEX////c3NxERESqqqqYmJgQ\n",
       "EBDu7u4yMjKIiIi6urpUVFTMzMx2dnYiIiJmZmYAAABjE816AAAAAXRSTlMAQObYZgAAAOFJREFU\n",
       "KM9jYCAOzEAX8ERicy9AluG+wMDAtwHBZ09AlmX/ACQKEPwOFFN9vwEJHwQ/DFmS0e4jkEyF8zkL\n",
       "kGU5OH4CSSYDGJ/vALLsNOYvQJLnAdwZDkiSbBO4fwAp5gKGt3eB4A4D6wQGGBNoDQPjPxAVAFG8\n",
       "i4F/AgOMCcSrVn0CefoDVlkgOxxFltUAIcsMpK6imMzkgJAVBlL1QMwC9SU3wvXcDGwgQf0EZB9x\n",
       "XoCHk+p3AQan/3VAX06A+zEQM04RIYkc5DBwAlcMgkMMKegZF6DLcgkgcSTQZbsZGAAzQjehLLGe\n",
       "5wAAAABJRU5ErkJggg==\n",
       "\" style=\"display:inline;vertical-align:middle;\" /></a></span></td></tr>\n",
       "</table>"
      ],
      "text/plain": [
       "<proveit._core_.proof._ShowProof at 0x7f94eb280978>"
      ]
     },
     "execution_count": 1,
     "metadata": {},
     "output_type": "execute_result"
    }
   ],
   "source": [
    "import proveit\n",
    "%show_proof"
   ]
  },
  {
   "cell_type": "code",
   "execution_count": null,
   "metadata": {},
   "outputs": [],
   "source": []
  }
 ],
 "metadata": {
  "kernelspec": {
   "display_name": "Python 3",
   "language": "python",
   "name": "python3"
  }
 },
 "nbformat": 4,
 "nbformat_minor": 0
}
