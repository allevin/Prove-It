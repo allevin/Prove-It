{
 "cells": [
  {
   "cell_type": "markdown",
   "metadata": {},
   "source": [
    "Expression of type <a class=\"ProveItLink\" href=\"../../../../../../../doc/html/api/proveit.Lambda.html\">Lambda</a>\n",
    "=======================\n",
    "# from context <a class=\"ProveItLink\" href=\"../../_context_.ipynb\">proveit.logic.boolean.negation</a>"
   ]
  },
  {
   "cell_type": "code",
   "execution_count": 1,
   "metadata": {},
   "outputs": [],
   "source": [
    "# import Expression classes needed to build the expression\n",
    "from proveit import Lambda\n",
    "from proveit._common_ import A\n",
    "from proveit.logic import Equals, FALSE, Not"
   ]
  },
  {
   "cell_type": "code",
   "execution_count": 2,
   "metadata": {},
   "outputs": [
    {
     "data": {
      "text/html": [
       "<strong id=\"expr\">expr:</strong> <a class=\"ProveItLink\" href=\"../da27f78486918935844047edcd11d7146434bbf00/expr.ipynb\"><img src=\"data:image/png;base64,iVBORw0KGgoAAAANSUhEUgAAAKsAAAAVCAMAAAAO9u4uAAAANlBMVEX///92dnYUFBQNDQ0QEBBE\n",
       "RERUVFS6urqIiIhmZmaqqqrc3Nzu7u6YmJgyMjIiIiLMzMwAAACuIkBbAAAAAXRSTlMAQObYZgAA\n",
       "AXtJREFUSMfNllmSwyAMRM0Mi1mN7n/ZGVfisAiEUpVKoj87uPsFtLBtbwnntw+F2VcrommfhXkt\n",
       "QT64C/VaxOY1K9fQ461JwGRNgfjtEklrVq5htujYDgisT3ciA4pIFCtWtiFi9c4CrwDk3KESCXLB\n",
       "yjdErPu2A6sATCK2vBJRjmZlGyJWEzYHsaRS23FqWyvmf6MWEZZk7QyfYA3/WhlKInYVqqtjT1OD\n",
       "VsQlirU3tKkKTbKeUh7sjDXoklnyZmuPR4ihiJEUa2/I39eszwD1ePH7czQhS2qhJLvabSeSgWBF\n",
       "hnzWm5JMs33ddPGasnYiJCsyZLPeS+eQM1ZbNRfpxqy9CJUD2NDWp6jmrN6hOdKy5rr7qzhkRSJx\n",
       "XlsDQ+a+hktUlTnSjqam+QtUEHkoMu9ZI0MWq1cS0nnEUQEkRmGawY1jJJLMmPUZw3tmyFFm8GYs\n",
       "azIuZ+xbIgrOKrF/Ayt5J0Q5+WFWr9drtP8O1tFFvb9E5e75Fax/+6wSxOfFgBMAAAAASUVORK5C\n",
       "YII=\n",
       "\" style=\"display:inline;vertical-align:middle;\" /></a><br>"
      ],
      "text/plain": [
       "expr: A -> [not](A) | A = FALSE"
      ]
     },
     "execution_count": 2,
     "metadata": {},
     "output_type": "execute_result"
    }
   ],
   "source": [
    "# build up the expression from sub-expressions\n",
    "expr = Lambda(A, Not(A), conditions = [Equals(A, FALSE)])"
   ]
  },
  {
   "cell_type": "code",
   "execution_count": 3,
   "metadata": {},
   "outputs": [
    {
     "name": "stdout",
     "output_type": "stream",
     "text": [
      "Passed sanity check: built 'expr' is the same as the stored Expression.\n"
     ]
    }
   ],
   "source": [
    "# check that the built expression is the same as the stored expression\n",
    "%check_expr"
   ]
  },
  {
   "cell_type": "code",
   "execution_count": 4,
   "metadata": {},
   "outputs": [
    {
     "data": {
      "text/html": [
       "<table><tr><th>&nbsp;</th><th>core type</th><th>sub-expressions</th><th>expression</th></tr>\n",
       "<tr><td>0</td><td>Lambda</td><td>parameter:&nbsp;7<br>body:&nbsp;1<br>conditions:&nbsp;2<br></td><td><a class=\"ProveItLink\" href=\"../da27f78486918935844047edcd11d7146434bbf00/expr.ipynb\"><img src=\"data:image/png;base64,iVBORw0KGgoAAAANSUhEUgAAAKsAAAAVCAMAAAAO9u4uAAAANlBMVEX///92dnYUFBQNDQ0QEBBE\n",
       "RERUVFS6urqIiIhmZmaqqqrc3Nzu7u6YmJgyMjIiIiLMzMwAAACuIkBbAAAAAXRSTlMAQObYZgAA\n",
       "AXtJREFUSMfNllmSwyAMRM0Mi1mN7n/ZGVfisAiEUpVKoj87uPsFtLBtbwnntw+F2VcrommfhXkt\n",
       "QT64C/VaxOY1K9fQ461JwGRNgfjtEklrVq5htujYDgisT3ciA4pIFCtWtiFi9c4CrwDk3KESCXLB\n",
       "yjdErPu2A6sATCK2vBJRjmZlGyJWEzYHsaRS23FqWyvmf6MWEZZk7QyfYA3/WhlKInYVqqtjT1OD\n",
       "VsQlirU3tKkKTbKeUh7sjDXoklnyZmuPR4ihiJEUa2/I39eszwD1ePH7czQhS2qhJLvabSeSgWBF\n",
       "hnzWm5JMs33ddPGasnYiJCsyZLPeS+eQM1ZbNRfpxqy9CJUD2NDWp6jmrN6hOdKy5rr7qzhkRSJx\n",
       "XlsDQ+a+hktUlTnSjqam+QtUEHkoMu9ZI0MWq1cS0nnEUQEkRmGawY1jJJLMmPUZw3tmyFFm8GYs\n",
       "azIuZ+xbIgrOKrF/Ayt5J0Q5+WFWr9drtP8O1tFFvb9E5e75Fax/+6wSxOfFgBMAAAAASUVORK5C\n",
       "YII=\n",
       "\" style=\"display:inline;vertical-align:middle;\" /></a></td></tr>\n",
       "<tr><td>1</td><td>Operation</td><td>operator:&nbsp;3<br>operand:&nbsp;7<br></td><td><a class=\"ProveItLink\" href=\"../2c81ead3bf46a86573cd5304798392177b4792b40/expr.ipynb\"><img src=\"data:image/png;base64,iVBORw0KGgoAAAANSUhEUgAAABwAAAAOBAMAAADOPWE3AAAAMFBMVEX///8QEBBERES6urqIiIiq\n",
       "qqrc3Nzu7u6YmJgyMjJUVFTMzMx2dnYiIiJmZmYAAADMbjvTAAAAAXRSTlMAQObYZgAAAGNJREFU\n",
       "CNdjYEAA7gsMyIDzAwq39zsyjy3uGzKXheUzMtec9QcSj92A+wsDw9u7QHAHyGVmYPsHldkFwqtW\n",
       "fULiGjAwSCK4rEDqIoKbCqTmw1zLwD4BSOkXwFyk+DOBoen/PABSrhtHsYt+gAAAAABJRU5ErkJg\n",
       "gg==\n",
       "\" style=\"display:inline;vertical-align:middle;\" /></a></td></tr>\n",
       "<tr><td>2</td><td>ExprTuple</td><td>4</td><td><a class=\"ProveItLink\" href=\"../2c28b7482250445cc36ebbdaa94d83cea15cf5be0/expr.ipynb\"><img src=\"data:image/png;base64,iVBORw0KGgoAAAANSUhEUgAAAEcAAAAVBAMAAADm2O7QAAAAMFBMVEX////c3NwiIiJERESqqqqY\n",
       "mJh2dnZmZmYQEBDu7u4yMjJUVFTMzMyIiIi6uroAAAAs73DqAAAAAXRSTlMAQObYZgAAAOtJREFU\n",
       "KM9jYCAK8F3ALx8HIk5D2IewyMuCCPYDQGIlRGA9FkXHweQCBgZeiG2s+hNwKQpjYOCASIrUC+BS\n",
       "NIOB4RWEf+H+A1yKmB0YyiBenOAfgEsRWwHDUjBjHsN5sNuqVoHAahRFLAsY+sCMBwzyBbhM4mtg\n",
       "+AeieXbv3m+ASxHPB4giPqAvF+BR1AKiHRgYmBpAjCIlEFBGt84USDECFXF9wGUS6wKGdCA1CxQa\n",
       "P/EEwSMGBuH+hQys9r/QvAe0WQNsM9cDBg4BQmkJGC2sCYQU5SKSCk7ACQobaQKKuEHuYSSQfO8w\n",
       "MAAAEaw8oEUD2ykAAAAASUVORK5CYII=\n",
       "\" style=\"display:inline;vertical-align:middle;\" /></a></td></tr>\n",
       "<tr><td>3</td><td>Literal</td><td></td><td><a class=\"ProveItLink\" href=\"../7bea79645543c2413aa17e787cca04e21046fde60/expr.ipynb\"><img src=\"data:image/png;base64,iVBORw0KGgoAAAANSUhEUgAAAAwAAAAGBAMAAAAFwGKyAAAAFVBMVEX///9UVFTMzMx2dnYiIiJm\n",
       "ZmYAAACWz4ZEAAAAAXRSTlMAQObYZgAAABRJREFUCNdjCHEBAmcGMFDEQzEBAEl+Ai6uYJv/AAAA\n",
       "AElFTkSuQmCC\n",
       "\" style=\"display:inline;vertical-align:middle;\" /></a></td></tr>\n",
       "<tr><td>4</td><td>Operation</td><td>operator:&nbsp;5<br>operands:&nbsp;6<br></td><td><a class=\"ProveItLink\" href=\"../../../../../__pv_it/6a396c00b97968e1544b5f81714d8cbfd42ab3980/expr.ipynb\"><img src=\"data:image/png;base64,iVBORw0KGgoAAAANSUhEUgAAADoAAAAOBAMAAACMfhKgAAAALVBMVEX///8QEBBERERUVFS6urqI\n",
       "iIhmZmaqqqrc3Nzu7u6YmJgyMjIiIiLMzMwAAADtIaYWAAAAAXRSTlMAQObYZgAAAHpJREFUGNNj\n",
       "YACBOwyYoBXO2odF9hqMwXVuAh7Z9rwGPLIBcQ64ZVkm1C3ALTuF4V4AiM7eDQKb0WQdGPoScOrl\n",
       "NTa2U8Apy8LAwLgBp2wBAwOPAIiRcwYEDqHIcgBluR/g0jsbiJle4pBtktvBwKX3Gs3RQEsOAi0B\n",
       "AOmUK3k+2YIcAAAAAElFTkSuQmCC\n",
       "\" style=\"display:inline;vertical-align:middle;\" /></a></td></tr>\n",
       "<tr><td>5</td><td>Literal</td><td></td><td><a class=\"ProveItLink\" href=\"../../../../equality/__pv_it/2fb26078095930560931daa0500ce419a39ea6cd0/expr.ipynb\"><img src=\"data:image/png;base64,iVBORw0KGgoAAAANSUhEUgAAAA4AAAAFBAMAAACHocAhAAAAFVBMVEX///9EREQiIiJUVFQyMjJm\n",
       "ZmYAAADubVkoAAAAAXRSTlMAQObYZgAAABRJREFUCNdjCHEBAWcGXCBICQQUAUpuAwlgGKrkAAAA\n",
       "AElFTkSuQmCC\n",
       "\" style=\"display:inline;vertical-align:middle;\" /></a></td></tr>\n",
       "<tr><td>6</td><td>ExprTuple</td><td>7, 8</td><td><a class=\"ProveItLink\" href=\"../../../../../__pv_it/1bd9762028850ce8cf7f45259161a85b5487497f0/expr.ipynb\"><img src=\"data:image/png;base64,iVBORw0KGgoAAAANSUhEUgAAADUAAAAVBAMAAAAUZLt1AAAAMFBMVEX////c3NwiIiJERESqqqqY\n",
       "mJh2dnZmZmYQEBDu7u4yMjJUVFTMzMyIiIi6uroAAAAs73DqAAAAAXRSTlMAQObYZgAAAO1JREFU\n",
       "KM9jYMAH+C5gFY4DEach7EMIYVkQwX4ASKyECKxHyB0HkwsYGHghRrLqT0CTC2Ng4ICIidQLoMnN\n",
       "YGB4BeFfuP8ATY7ZgaEM4tgJ/gFocmwFDEvBjHkM5y+gybEsYOgDMx4wyBegyfE1MPwD0Ty7d+83\n",
       "QJPj+QCR4wO6dwGmXAuIdmBgYGrANNMUSDEC5bg+MDBMQJZjXcCQDqRmgbzzk4HzE5ofHjEwCPcv\n",
       "ZGC1/1XA2Q8MmyIlJQ0lJWWgQQ8YOASQoguJDQoz1gQElxU5AnMRcYQuxwnykzSCj5wCuEHmM2JP\n",
       "E3cYGAAdNjoVaLAEowAAAABJRU5ErkJggg==\n",
       "\" style=\"display:inline;vertical-align:middle;\" /></a></td></tr>\n",
       "<tr><td>7</td><td>Variable</td><td></td><td><a class=\"ProveItLink\" href=\"../../../../../__pv_it/2cbe72a7ad6f655694dd697106680215e8489b600/expr.ipynb\"><img src=\"data:image/png;base64,iVBORw0KGgoAAAANSUhEUgAAAA8AAAAOBAMAAAACpFvcAAAALVBMVEX///8QEBBERERUVFS6urqI\n",
       "iIhmZmaqqqrc3Nzu7u6YmJgyMjIiIiLMzMwAAADtIaYWAAAAAXRSTlMAQObYZgAAAFtJREFUCNdj\n",
       "YACBOwxQsA9Kc52bAGG05zVAGAFxDmCaZULdAjBjCsO9ADDDgaEvAUTzGhvbKYCVMDAwbgAxChgY\n",
       "eASANAeQwf0AyJgNxEwvGRia5HYwcOm9TgAA6BoR3jrzwFcAAAAASUVORK5CYII=\n",
       "\" style=\"display:inline;vertical-align:middle;\" /></a></td></tr>\n",
       "<tr><td>8</td><td>Literal</td><td></td><td><a class=\"ProveItLink\" href=\"../../../__pv_it/8f1f7fac882de28c72b62ab80a1700b6d8fd066b0/expr.ipynb\"><img src=\"data:image/png;base64,iVBORw0KGgoAAAANSUhEUgAAAA4AAAAOBAMAAADtZjDiAAAAG1BMVEX///9EREQQEBAiIiJmZmbM\n",
       "zMyIiIjc3NwAAACryk5kAAAAAXRSTlMAQObYZgAAABlJREFUCNdjYGBgKGOAgBBa0s7GxkbGxoYA\n",
       "FMUF2aBfHgoAAAAASUVORK5CYII=\n",
       "\" style=\"display:inline;vertical-align:middle;\" /></a></td></tr>\n",
       "</table>\n"
      ],
      "text/plain": [
       "0. A -> [not](A) | A = FALSE\n",
       "   core type: Lambda\n",
       "   parameter: 7\n",
       "   body: 1\n",
       "   conditions: 2\\n1. [not](A)\n",
       "   core type: Operation\n",
       "   operator: 3\n",
       "   operand: 7\n",
       "2. (A = FALSE)\n",
       "   core type: ExprTuple\n",
       "   sub-expressions: 4\n",
       "3. not\n",
       "   core type: Literal\n",
       "   sub-expressions: \n",
       "4. A = FALSE\n",
       "   core type: Operation\n",
       "   operator: 5\n",
       "   operands: 6\n",
       "5. =\n",
       "   core type: Literal\n",
       "   sub-expressions: \n",
       "6. (A , FALSE)\n",
       "   core type: ExprTuple\n",
       "   sub-expressions: 7, 8\n",
       "7. A\n",
       "   core type: Variable\n",
       "   sub-expressions: \n",
       "8. FALSE\n",
       "   core type: Literal\n",
       "   sub-expressions: "
      ]
     },
     "execution_count": 4,
     "metadata": {},
     "output_type": "execute_result"
    }
   ],
   "source": [
    "# display the expression information\n",
    "expr.exprInfo()"
   ]
  },
  {
   "cell_type": "code",
   "execution_count": null,
   "metadata": {},
   "outputs": [],
   "source": []
  }
 ],
 "metadata": {
  "kernelspec": {
   "display_name": "Python 3",
   "language": "python",
   "name": "python3"
  }
 },
 "nbformat": 4,
 "nbformat_minor": 0
}
