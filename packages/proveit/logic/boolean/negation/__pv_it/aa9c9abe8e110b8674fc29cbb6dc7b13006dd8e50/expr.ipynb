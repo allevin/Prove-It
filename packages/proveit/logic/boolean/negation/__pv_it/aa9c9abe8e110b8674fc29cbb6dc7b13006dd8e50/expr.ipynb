{
 "cells": [
  {
   "cell_type": "markdown",
   "metadata": {},
   "source": [
    "Expression of type <a class=\"ProveItLink\" href=\"../../../../../../../doc/html/api/proveit.Lambda.html\">Lambda</a>\n",
    "=======================\n",
    "# from context <a class=\"ProveItLink\" href=\"../../_context_.ipynb\">proveit.logic.boolean.negation</a>"
   ]
  },
  {
   "cell_type": "code",
   "execution_count": 1,
   "metadata": {},
   "outputs": [],
   "source": [
    "# import Expression classes needed to build the expression\n",
    "from proveit import Lambda\n",
    "from proveit._common_ import A\n",
    "from proveit.logic import Not"
   ]
  },
  {
   "cell_type": "code",
   "execution_count": 2,
   "metadata": {},
   "outputs": [
    {
     "data": {
      "text/html": [
       "<strong id=\"expr\">expr:</strong> <a class=\"ProveItLink\" href=\"../edcf0532b7ac7ae88815c91deac9e1c82053a5b70/expr.ipynb\"><img src=\"data:image/png;base64,iVBORw0KGgoAAAANSUhEUgAAAI0AAAAVCAMAAABMtZ25AAAANlBMVEX///92dnYUFBQNDQ0QEBBE\n",
       "RERUVFS6urqIiIhmZmaqqqrc3Nzu7u6YmJgyMjIiIiLMzMwAAACuIkBbAAAAAXRSTlMAQObYZgAA\n",
       "AWZJREFUSMfNltlygzAMRaH1vuv/f7a4ZYlkLEyaZuqnjLm+nGjD0/Si5fz0j9asuafaXJ2P5HzJ\n",
       "t15P5CxNUdc+tqDtBLdoiJylSWHAJ6FQZQg3YKicozFmxCfOx653Fm4UYiPnaEQY8QnigX8yoMdp\n",
       "GjlDo9OYj3T7iTA5iEcycfe65gVYztPYuQ/66DPb9UdYvAoc6SXtpUioqZynSbH3BPu4LQbVyoPt\n",
       "0QSFS4rKCY3N+6phEfpst/XRYpsHdYHc/T4/MloCFUkj78bme9A09biNH+JT4GBc/kPqxWZSmoYG\n",
       "yZ+kIT4rzVqkWfRoLEpUK+dphDunoT4/mfKuma6Yphg8Is6GMUMj4ylN4xNrkMIWKXlMVzw8UUed\n",
       "yfs9VR47F+22PovOSwGpJiJKgGQvZ3BPzk2/POaTbkzfX9woxNAnJ4j33G/iPORg3kPD3iiaevxz\n",
       "Gq+uDdQrr7KGLUF/mQVT++wLvkoQXa04hN8AAAAASUVORK5CYII=\n",
       "\" style=\"display:inline;vertical-align:middle;\" /></a><br>"
      ],
      "text/plain": [
       "expr: A -> A | [not]([not](A))"
      ]
     },
     "execution_count": 2,
     "metadata": {},
     "output_type": "execute_result"
    }
   ],
   "source": [
    "# build up the expression from sub-expressions\n",
    "expr = Lambda(A, A, conditions = [Not(Not(A))])"
   ]
  },
  {
   "cell_type": "code",
   "execution_count": 3,
   "metadata": {},
   "outputs": [
    {
     "name": "stdout",
     "output_type": "stream",
     "text": [
      "Passed sanity check: built 'expr' is the same as the stored Expression.\n"
     ]
    }
   ],
   "source": [
    "# check that the built expression is the same as the stored expression\n",
    "%check_expr"
   ]
  },
  {
   "cell_type": "code",
   "execution_count": 4,
   "metadata": {},
   "outputs": [
    {
     "data": {
      "text/html": [
       "<table><tr><th>&nbsp;</th><th>core type</th><th>sub-expressions</th><th>expression</th></tr>\n",
       "<tr><td>0</td><td>Lambda</td><td>parameter:&nbsp;5<br>body:&nbsp;5<br>conditions:&nbsp;1<br></td><td><a class=\"ProveItLink\" href=\"../edcf0532b7ac7ae88815c91deac9e1c82053a5b70/expr.ipynb\"><img src=\"data:image/png;base64,iVBORw0KGgoAAAANSUhEUgAAAI0AAAAVCAMAAABMtZ25AAAANlBMVEX///92dnYUFBQNDQ0QEBBE\n",
       "RERUVFS6urqIiIhmZmaqqqrc3Nzu7u6YmJgyMjIiIiLMzMwAAACuIkBbAAAAAXRSTlMAQObYZgAA\n",
       "AWZJREFUSMfNltlygzAMRaH1vuv/f7a4ZYlkLEyaZuqnjLm+nGjD0/Si5fz0j9asuafaXJ2P5HzJ\n",
       "t15P5CxNUdc+tqDtBLdoiJylSWHAJ6FQZQg3YKicozFmxCfOx653Fm4UYiPnaEQY8QnigX8yoMdp\n",
       "GjlDo9OYj3T7iTA5iEcycfe65gVYztPYuQ/66DPb9UdYvAoc6SXtpUioqZynSbH3BPu4LQbVyoPt\n",
       "0QSFS4rKCY3N+6phEfpst/XRYpsHdYHc/T4/MloCFUkj78bme9A09biNH+JT4GBc/kPqxWZSmoYG\n",
       "yZ+kIT4rzVqkWfRoLEpUK+dphDunoT4/mfKuma6Yphg8Is6GMUMj4ylN4xNrkMIWKXlMVzw8UUed\n",
       "yfs9VR47F+22PovOSwGpJiJKgGQvZ3BPzk2/POaTbkzfX9woxNAnJ4j33G/iPORg3kPD3iiaevxz\n",
       "Gq+uDdQrr7KGLUF/mQVT++wLvkoQXa04hN8AAAAASUVORK5CYII=\n",
       "\" style=\"display:inline;vertical-align:middle;\" /></a></td></tr>\n",
       "<tr><td>1</td><td>ExprTuple</td><td>2</td><td><a class=\"ProveItLink\" href=\"../84c5f8aa7ebe04ad32aee0536d69b9e4e8000f720/expr.ipynb\"><img src=\"data:image/png;base64,iVBORw0KGgoAAAANSUhEUgAAAEgAAAAVBAMAAAAX07VdAAAAMFBMVEX////c3NwiIiJERESqqqqY\n",
       "mJh2dnZmZmYQEBDu7u4yMjJUVFTMzMyIiIi6uroAAAAs73DqAAAAAXRSTlMAQObYZgAAAQxJREFU\n",
       "KM9jYCAK8F3AxoQA1gcQzHAaIXYaRcUhIK6B4pUI4ZUoitYDMRcE8yKs4EWxjVV/ApBIAGOOCXBh\n",
       "JCYQiNQLMDBwNoDxK4TwKxTbLtwHudgEjMsQwmUonp7gHwCk0sF4KUJ8KbKieQznQU70AuM+BgZ2\n",
       "JRBIQGYyMDxgkC8AUi/A+B9UJ88GZCYDz+7d+w2A7PNgjEMRH9CzC+CKWhAySEwGBwYGpga4daYI\n",
       "GSQmI1AR1wcgOwqM02HeOYDMnAUkmX/Cg+ARwtcIpnD/QgZW+19A761jAGEOAUS0CGCkI2i0gKIQ\n",
       "FqUJGIrYLkAwzqQCArOgWBohJI2haCMUMyJSESN68uU9AMYAJt5NdjcUxOMAAAAASUVORK5CYII=\n",
       "\" style=\"display:inline;vertical-align:middle;\" /></a></td></tr>\n",
       "<tr><td>2</td><td>Operation</td><td>operator:&nbsp;4<br>operand:&nbsp;3<br></td><td><a class=\"ProveItLink\" href=\"../../../../../__pv_it/7894ca3cfdf9196b6cf9831a9a3e6cc4ef245bf30/expr.ipynb\"><img src=\"data:image/png;base64,iVBORw0KGgoAAAANSUhEUgAAADkAAAAVBAMAAAAOWFv7AAAAMFBMVEX////c3NxERESqqqqYmJgQ\n",
       "EBDu7u4yMjKIiIi6urpUVFTMzMx2dnYiIiJmZmYAAABjE816AAAAAXRSTlMAQObYZgAAAOFJREFU\n",
       "KM9jYCAOzEAX8ERicy9AluG+wMDAtwHBZ09AlmX/ACQKEPwOFFN9vwEJHwQ/DFmS0e4jkEyF8zkL\n",
       "kGU5OH4CSSYDGJ/vALLsNOYvQJLnAdwZDkiSbBO4fwAp5gKGt3eB4A4D6wQGGBNoDQPjPxAVAFG8\n",
       "i4F/AgOMCcSrVn0CefoDVlkgOxxFltUAIcsMpK6imMzkgJAVBlL1QMwC9SU3wvXcDGwgQf0EZB9x\n",
       "XoCHk+p3AQan/3VAX06A+zEQM04RIYkc5DBwAlcMgkMMKegZF6DLcgkgcSTQZbsZGAAzQjehLLGe\n",
       "5wAAAABJRU5ErkJggg==\n",
       "\" style=\"display:inline;vertical-align:middle;\" /></a></td></tr>\n",
       "<tr><td>3</td><td>Operation</td><td>operator:&nbsp;4<br>operand:&nbsp;5<br></td><td><a class=\"ProveItLink\" href=\"../../../../../__pv_it/9608d9b0b0e4a43e2cdecb0ebcda3b4ece1b76330/expr.ipynb\"><img src=\"data:image/png;base64,iVBORw0KGgoAAAANSUhEUgAAABwAAAAOBAMAAADOPWE3AAAAMFBMVEX///8QEBBERES6urqIiIiq\n",
       "qqrc3Nzu7u6YmJgyMjJUVFTMzMx2dnYiIiJmZmYAAADMbjvTAAAAAXRSTlMAQObYZgAAAGNJREFU\n",
       "CNdjYEAA7gsMyIDzAwq39zsyjy3uGzKXheUzMtec9QcSj92A+wsDw9u7QHAHyGVmYPsHldkFwqtW\n",
       "fULiGjAwSCK4rEDqIoKbCqTmw1zLwD4BSOkXwFyk+DOBoen/PABSrhtHsYt+gAAAAABJRU5ErkJg\n",
       "gg==\n",
       "\" style=\"display:inline;vertical-align:middle;\" /></a></td></tr>\n",
       "<tr><td>4</td><td>Literal</td><td></td><td><a class=\"ProveItLink\" href=\"../7bea79645543c2413aa17e787cca04e21046fde60/expr.ipynb\"><img src=\"data:image/png;base64,iVBORw0KGgoAAAANSUhEUgAAAAwAAAAGBAMAAAAFwGKyAAAAFVBMVEX///9UVFTMzMx2dnYiIiJm\n",
       "ZmYAAACWz4ZEAAAAAXRSTlMAQObYZgAAABRJREFUCNdjCHEBAmcGMFDEQzEBAEl+Ai6uYJv/AAAA\n",
       "AElFTkSuQmCC\n",
       "\" style=\"display:inline;vertical-align:middle;\" /></a></td></tr>\n",
       "<tr><td>5</td><td>Variable</td><td></td><td><a class=\"ProveItLink\" href=\"../../../../../__pv_it/2cbe72a7ad6f655694dd697106680215e8489b600/expr.ipynb\"><img src=\"data:image/png;base64,iVBORw0KGgoAAAANSUhEUgAAAA8AAAAOBAMAAAACpFvcAAAALVBMVEX///8QEBBERERUVFS6urqI\n",
       "iIhmZmaqqqrc3Nzu7u6YmJgyMjIiIiLMzMwAAADtIaYWAAAAAXRSTlMAQObYZgAAAFtJREFUCNdj\n",
       "YACBOwxQsA9Kc52bAGG05zVAGAFxDmCaZULdAjBjCsO9ADDDgaEvAUTzGhvbKYCVMDAwbgAxChgY\n",
       "eASANAeQwf0AyJgNxEwvGRia5HYwcOm9TgAA6BoR3jrzwFcAAAAASUVORK5CYII=\n",
       "\" style=\"display:inline;vertical-align:middle;\" /></a></td></tr>\n",
       "</table>\n"
      ],
      "text/plain": [
       "0. A -> A | [not]([not](A))\n",
       "   core type: Lambda\n",
       "   parameter: 5\n",
       "   body: 5\n",
       "   conditions: 1\\n1. ([not]([not](A)))\n",
       "   core type: ExprTuple\n",
       "   sub-expressions: 2\n",
       "2. [not]([not](A))\n",
       "   core type: Operation\n",
       "   operator: 4\n",
       "   operand: 3\n",
       "3. [not](A)\n",
       "   core type: Operation\n",
       "   operator: 4\n",
       "   operand: 5\n",
       "4. not\n",
       "   core type: Literal\n",
       "   sub-expressions: \n",
       "5. A\n",
       "   core type: Variable\n",
       "   sub-expressions: "
      ]
     },
     "execution_count": 4,
     "metadata": {},
     "output_type": "execute_result"
    }
   ],
   "source": [
    "# display the expression information\n",
    "expr.exprInfo()"
   ]
  },
  {
   "cell_type": "code",
   "execution_count": null,
   "metadata": {},
   "outputs": [],
   "source": []
  }
 ],
 "metadata": {
  "kernelspec": {
   "display_name": "Python 3",
   "language": "python",
   "name": "python3"
  }
 },
 "nbformat": 4,
 "nbformat_minor": 0
}
