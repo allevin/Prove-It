{
 "cells": [
  {
   "cell_type": "markdown",
   "metadata": {},
   "source": [
    "Show the Proof\n",
    "========"
   ]
  },
  {
   "cell_type": "code",
   "execution_count": 1,
   "metadata": {},
   "outputs": [
    {
     "data": {
      "text/html": [
       "<table><tr><th>&nbsp;</th><th>step type</th><th>requirements</th><th>statement</th></tr>\n",
       "<tr><td>0</td><td>assumption</td><td></td><td><span style=\"font-size:20px;\"><a class=\"ProveItLink\" href=\"../067ed0581c28c7bebe2e3ef3ba3f555681b023410/expr.ipynb\"><img src=\"data:image/png;base64,iVBORw0KGgoAAAANSUhEUgAAAGwAAAAVBAMAAABRZRb3AAAAMFBMVEX////c3NxERESqqqpUVFS6\n",
       "urrMzMwyMjIQEBCIiIh2dnYiIiLu7u5mZmaYmJgAAABXZE4RAAAAAXRSTlMAQObYZgAAAVxJREFU\n",
       "OMtjYGDgu8dAEshaCCJ5diEJRWJlQsBTKGbIMAASnB8QMmwO2Jgg3gYGBt4ECGbgLQASXA0IWfYD\n",
       "2JggHsjsAigG60DWNhMrEwhe/wESr6AYQ1sPViYDA6PtRyB5AorRtbEWYGOC/M/5FUgyGUAwujbe\n",
       "BdiYQBDD/A+k8gIUN8DCBerxB9iYwDgKYPsJpJgLIJgPFD4ZAQwMt3cDwS4GDqxMoIsZGP+CqAYI\n",
       "ZqhlYEhpg5mZwsAfgI0JxC4un0CR9wGCGZjqGBgiEghqA7LbkbWBXMBSAFfAYYCNycAMpHYgORLs\n",
       "N64NcAVMD7AxGYSBVD0Q8xVAMGoEsIFDF5PJA3KO/gG0CECO7g1YmIwa3wUYHv0Hhh57AARjJK5G\n",
       "rEwYwJW4wAkVkwkDK6EYrIOPmIwDTisFEAxJVzw7kVK6AzYmFLAIQDA4XQGtW4yQksTKhIBpUAwq\n",
       "SwAxtG3nHvxOigAAAABJRU5ErkJggg==\n",
       "\" style=\"display:inline;vertical-align:middle;\" /></a> <a class=\"ProveItLink\" href=\"proof.ipynb\" style=\"text-decoration: none\">&#x22A2;&nbsp;</a><a class=\"ProveItLink\" href=\"../dcf864acc08bcabf0312a5412ce1344a813089240/expr.ipynb\"><img src=\"data:image/png;base64,iVBORw0KGgoAAAANSUhEUgAAAFcAAAAVBAMAAADBdm84AAAAMFBMVEX////c3NxERESqqqqYmJgQ\n",
       "EBDu7u4yMjKIiIi6urpUVFTMzMx2dnYiIiJmZmYAAABjE816AAAAAXRSTlMAQObYZgAAAQtJREFU\n",
       "KM+dkr1OAkEURr9l5U8MkNDwAtbwBIbYmWAiDbY09vME0pLQbGUoqamsrSwtaew08QVM0Bh+GuSb\n",
       "vXdR2BtNOMmZOZudYnZmgYMYmSlcqAmlsZX+aQqU78WEfM9K/zTj4FRlYCa5nHNoq0rXTCA4++B4\n",
       "owpFZyUpFFYcM01RKD/CSHIXfnE8eRP1M1owEshFpSWn0MW+v5IXZCMYyT0hWPvpSvQ8oBLBSDqZ\n",
       "fPrDnol/L2ZfpxZnmzASIafn1DYyLRiJGqc+PXJifP8/57KTOf++0ds/uuIU6QxOF1Wcf9/yOCNR\n",
       "6cDKhN3r/v2btNOLn9T/ftH4Hp243d/YSuW4Km6pmykMxQ1oqVRTUoAo0AAAAABJRU5ErkJggg==\n",
       "\" style=\"display:inline;vertical-align:middle;\" /></a></span></td></tr>\n",
       "</table>"
      ],
      "text/plain": [
       "<proveit._core_.proof._ShowProof at 0x7f94ebc771d0>"
      ]
     },
     "execution_count": 1,
     "metadata": {},
     "output_type": "execute_result"
    }
   ],
   "source": [
    "import proveit\n",
    "%show_proof"
   ]
  },
  {
   "cell_type": "code",
   "execution_count": null,
   "metadata": {},
   "outputs": [],
   "source": []
  }
 ],
 "metadata": {
  "kernelspec": {
   "display_name": "Python 3",
   "language": "python",
   "name": "python3"
  }
 },
 "nbformat": 4,
 "nbformat_minor": 0
}
