{
 "cells": [
  {
   "cell_type": "markdown",
   "metadata": {},
   "source": [
    "Axiom Dependencies\n",
    "=======================\n",
    "\n",
    "## <a class=\"ProveItLink\" href=\"../../_context_.ipynb\">proveit.logic.boolean.negation</a>.<a class=\"ProveItLink\" href=\"../../_axioms_.ipynb#negationElim\">negationElim</a> \n"
   ]
  },
  {
   "cell_type": "code",
   "execution_count": 1,
   "metadata": {},
   "outputs": [],
   "source": [
    "from proveit.logic.boolean.negation._axioms_ import negationElim"
   ]
  },
  {
   "cell_type": "code",
   "execution_count": 2,
   "metadata": {},
   "outputs": [
    {
     "data": {
      "text/html": [
       "<h3>Theorems that depend directly on negationElim</h3>"
      ],
      "text/plain": [
       "<IPython.core.display.HTML object>"
      ]
     },
     "metadata": {},
     "output_type": "display_data"
    },
    {
     "data": {
      "text/html": [
       "<dl>"
      ],
      "text/plain": [
       "<IPython.core.display.HTML object>"
      ]
     },
     "metadata": {},
     "output_type": "display_data"
    },
    {
     "data": {
      "text/html": [
       "<dt><a class=\"ProveItLink\" href=\"../../../conjunction/_proofs_/falsifiedAndIfNeither.ipynb\">proveit.logic.boolean.conjunction.falsifiedAndIfNeither</a></dt><dd><a class=\"ProveItLink\" href=\"../../../conjunction/__pv_it/1955d68f28a3df2bfac352034815e4c7f00771b00/expr.ipynb\"><img src=\"data:image/png;base64,iVBORw0KGgoAAAANSUhEUgAAAP8AAAAXBAMAAAA2MYQWAAAAMFBMVEX///8QEBC6urrMzMxUVFRm\n",
       "ZmZERETc3NwyMjKqqqp2dnaIiIiYmJgiIiLu7u4AAAAU9Wx4AAAAAXRSTlMAQObYZgAAAxpJREFU\n",
       "SMfFVktoE0EY/ppHt202afAgeKk5eBBUGkHpSVo0lIKH9tCACsWKmHpQswdpFanNQY2CtLnUq72o\n",
       "FUUieuuhUTz4OFjBevCBqSj0ZkmfWqn+88/sbvPYtDRQf/h2Z+bLzHzzP2YD/G/LVrqAKy3hbM/L\n",
       "MhOi8aYCAfsUyA4UUC/+RiKnQ/CGS0y7JB6CuS8agxUIGLTnD6mhyya3lfbIAYkS0/bzk5heemnd\n",
       "G9/fl5Yg07+qeF5VnHuZMAe8dhRATA1N8qY2LqAqK0F28bgh9z2rhPgWSdVvYMpRADH6vb6+/goi\n",
       "sFOBLD0e4rdnl8rJ6iDgb6B3ykmAYBZisY8VCDimQKWQvZ3hxrTMbKC+Bdo18kZdh5MAwRwCeriT\n",
       "5Oet+WgrZ60rf0LSbtbGo50nzc5NBeAbmuXJH+Ko5JoPj3UJTbWchUeuC7uSJ0AwOxBgXs/JTArC\n",
       "F2Tv5O2vWGnPgMdme4sCEMKAPOkELkhu3EDgvThL0MkDgvHDx5778YeHvC1wLRYLUKy0TqDRUO2c\n",
       "AtyRSDtXk56GR1b+CSGCFnfPOAkQjC/j56R9NMlD/jS8E8UCFCvtE9CFQgEUsip2JS3nbmGOKhBv\n",
       "R9YSEEjwPeZOx3joZxgvjSIBJssWmIVupcQ2BVA++9nVw2bGuIXX2lNmCLq+CPtQFAL0HOTaUYdq\n",
       "HHt6DkUCPPaRadbyWKv1CTmjoNFGNTNmug6b14C2JIKScPIAM8Ps8VcY56FRyrGsLeBuLBZLWKzs\n",
       "1SWgN5gL3VGYFlNWxLlFIvjNa2DvINYqQ1SJ4glMRuO87ymKQirfA902y73qDgR+meQeid7tSejx\n",
       "JVrPE1IXtDc+F2njCq0JFexO0XjH0WBGF0t7DTRz6tLKjeFCARbLvfoUXLPWVWxI2AFSNbnKphyv\n",
       "MZvZTfdWRktCW4E2iUIBJit7A1n0W07VRyTK2YO1me8L0No/U9qOzkfbUgUCwhbLvbqhaOeNkp9j\n",
       "Bwsk1s3oq9rVRT/XSy5yXsHZPMa6maayAppKLqKlJZztyfqZTFkBmc39t+rZnG3+ATaf2ZWRe727\n",
       "AAAAAElFTkSuQmCC\n",
       "\" style=\"display:inline;vertical-align:middle;\" /></a></dd>"
      ],
      "text/plain": [
       "<IPython.core.display.HTML object>"
      ]
     },
     "metadata": {},
     "output_type": "display_data"
    },
    {
     "data": {
      "text/html": [
       "<dt><a class=\"ProveItLink\" href=\"../../../conjunction/_proofs_/falsifiedAndIfNotLeft.ipynb\">proveit.logic.boolean.conjunction.falsifiedAndIfNotLeft</a></dt><dd><a class=\"ProveItLink\" href=\"../../../conjunction/__pv_it/8965417de52b985bcd336e48f23328fadca565260/expr.ipynb\"><img src=\"data:image/png;base64,iVBORw0KGgoAAAANSUhEUgAAAPMAAAAXBAMAAAAsDWSYAAAAMFBMVEX///8QEBC6urrMzMxUVFRm\n",
       "ZmZERETc3NwyMjKqqqp2dnaIiIiYmJgiIiLu7u4AAAAU9Wx4AAAAAXRSTlMAQObYZgAAAvNJREFU\n",
       "SMfFVk1oE0EU/tJNsrHZxOJJT0bwIKg0B6UnSdBQvbUgFRVK68EUQdscpK2INhSlPUjtpeLNXqoV\n",
       "RRbUUw+NnqoebA/1IBWjKPQiltIflVJ983a2TWYzKSyoH7zd2fftzLfz5r2ZBf4fiv671tiO6WEl\n",
       "dMxLsmnReONL+pA0whFVs2kp09gPnKzQ7aq4hJLAQ9EY8iU9tNnztnRdd7lAO9CWQKRCt8N8zQPd\n",
       "dDPb/ShHbcfEJD/KdbvpkikiUmlYozrp10CEOoWG/UgHio4RrrTl+G5cclNnkhxvRxGv00l/og9+\n",
       "0NNzzVe890kj2JNOPgX3u1l3jmyGvuOCTjpM013JZt/7kj4rjdK8eK/AjXknawlLQG8n3cd00rXN\n",
       "wDGggx8G+HpnuaUxyeOVd1BYwi1pwGdeWsJjnHE4Y2ni+Zxo3BWX04MCN8qkt1Ge7UU8z6my6GRM\n",
       "HaK8QOHyalFYwg5pQAJ9zdyYRq9MwVXgW5oae3SzrqFhYohytL6usSuURs2qV1plCYvSYGQyTVwj\n",
       "lo2gE5MwDRwVXVI6aWOB3ijEOC2fzLIrZiM07ZVW2VJpWpoAB44GMtLMbaeb9Wsr6XiedyTDzrLr\n",
       "exJTOY+0hyXskgbK1RivwshGTqQokMGfbsBbPwi88wQcHUe5LtDKrvqJZ53wSHtYwkVpJklHFtxU\n",
       "HNko6z4RiSndrC3BjnAEX2GSXePAi+Km9P1sNpuvwMq6GeOKopfXRWjEgsfcsjZ2FrcqLgREYcRn\n",
       "W7p4zPMU1eHyWbdXYAkHHevePQCr6weNFEzI7RWnfmcyg5y8/YouxX6GYx8RL1ti0FAOKU5OWqD6\n",
       "pCrtZcUn5xzbPERlpZWg0kYKdyOVOEBZWTAHYK7DnIUq7WXFJ4+i4vFQilrtcf7IbXxZgdk0Z6xh\n",
       "fLnlxLAinazAKoemDvM6wtnGSvesknbY+8+hPF+WVgXHdUQwpzgaqko3KM+m7ViVIz2pY56qjkJV\n",
       "6cK/+l8M/m2BP0mr16Cw7Md2AAAAAElFTkSuQmCC\n",
       "\" style=\"display:inline;vertical-align:middle;\" /></a></dd>"
      ],
      "text/plain": [
       "<IPython.core.display.HTML object>"
      ]
     },
     "metadata": {},
     "output_type": "display_data"
    },
    {
     "data": {
      "text/html": [
       "<dt><a class=\"ProveItLink\" href=\"../../../conjunction/_proofs_/falsifiedAndIfNotRight.ipynb\">proveit.logic.boolean.conjunction.falsifiedAndIfNotRight</a></dt><dd><a class=\"ProveItLink\" href=\"../../../conjunction/__pv_it/596c1cdb03c4ec54b4456372fc7b6e2892a0f3c60/expr.ipynb\"><img src=\"data:image/png;base64,iVBORw0KGgoAAAANSUhEUgAAAPMAAAAXBAMAAAAsDWSYAAAAMFBMVEX///8QEBC6urrMzMxUVFRm\n",
       "ZmZERETc3NwyMjKqqqp2dnaIiIiYmJgiIiLu7u4AAAAU9Wx4AAAAAXRSTlMAQObYZgAAAydJREFU\n",
       "SMfFVk1oE0EU/pLNn8kmFk96MoIHQaU5KB5EEjRUby1I6g+U1oOpgrY5lLYi2lKU9iA1l4o3eylW\n",
       "FAmopx4aPVU9tD3Ug1SMouClWGp/VGr1zdvZ3TFmWgioH7zdyXz75pt5895MgP+HUvWu3oJlephx\n",
       "HfOMbEo0XlYlvU8a4VC5Zv1iuq4POF7B7bJ4+BPAPdEYrEp60PW8Kbuu2pynBWiOI1TBbT8/e4FO\n",
       "egVbqlGOFCwTi3wr9+26TSaJSKZgDuukXwAhcvLnq5H2lCwjXGrO8du4aKfOOHVMDiNWo5N+RxO+\n",
       "29V1pap475JGKIxb+eTbbWfdGbJpmsd5nXSAlruczb6uSvq0NErz0p0iNz5ZWUtYBLrb6D2ikw43\n",
       "AEeAVv7Rz89bS5m6BI9nfxrKuW4OS7ghDXjPW0t4gFMWZyyOPZkVjdvicXJA4Npv0psoz3Yi1sup\n",
       "smBlTA0ivEEBW25SKU6HJWyRBsTR08CNKXTLFFwB5lLU2KFbtZeGiSLC0fq4yl3+FLwrqnSsuei6\n",
       "OSxhQRqMdLqea8QswGfFJEADR8SASZ20MU9fFKOclg9nuCtagH9KlQ7PNbhuDqtK09Z4OHA0kJFi\n",
       "bjO9zO8bScd6+UQyClnu+pzARE6VPhhQqt5hCdukgXI1yrsw5GRMkiLl+2YHvOmNwKs/Ao7Ww1wX\n",
       "aOKu2rHHbVClU84yVZZwQVqQpEPzdqIOOWXdIyIxoVu1KdghHvo5xrlrFHhaUqTNfEQMG85ms+cU\n",
       "VtbNCFcUfbwmAifCE7XL2tha2qi44BGFEZvJtPOYZymqeUV6LtO4Jn0CCkvYa1nn9n6Y7V9pJF9c\n",
       "Hq9o/JlOD3B29pXpUuynOfYh8bEpJP05JDk5aYNqE4r0CRhfXGmHFVPOWeZeorLSFFQ6SGEfpBJ7\n",
       "KCuLwX4E1xCcUfbaS3NfRbdMPJcVUx5GxetBRVh7nd+3Gx+WEayfNVYxupQ5lnelY1SwHT+KSQ6e\n",
       "obBll6YOn3SEdYypN7zSDqhEsZJ7h7R1cFRH+HJlHQc00kauknuwYNk6V3pCxzwq7yhqpM1/+3/R\n",
       "97cFfgHZtdahK2JwEgAAAABJRU5ErkJggg==\n",
       "\" style=\"display:inline;vertical-align:middle;\" /></a></dd>"
      ],
      "text/plain": [
       "<IPython.core.display.HTML object>"
      ]
     },
     "metadata": {},
     "output_type": "display_data"
    },
    {
     "data": {
      "text/html": [
       "<dt><a class=\"ProveItLink\" href=\"../../../conjunction/_proofs_/nandIfLeftButNotRight.ipynb\">proveit.logic.boolean.conjunction.nandIfLeftButNotRight</a></dt><dd><a class=\"ProveItLink\" href=\"../../../conjunction/__pv_it/40045ea1b0d5838ab2d85b085249b014729edc2c0/expr.ipynb\"><img src=\"data:image/png;base64,iVBORw0KGgoAAAANSUhEUgAAANYAAAAXBAMAAACFeawMAAAAMFBMVEX///8QEBC6urrMzMxUVFRm\n",
       "ZmZERETc3NwyMjKqqqp2dnaIiIiYmJgiIiLu7u4AAAAU9Wx4AAAAAXRSTlMAQObYZgAAAxxJREFU\n",
       "SMe9Vk1oE1EQ/pLNn80mLV7Ui67gQajSHAQPIgkaqrcWJBWF0nowVdA2h2Iroi0FqQfRXCrezEWs\n",
       "KBJQTz109VT10HjoRSpGUeilWLQ/KrU6b/ZviG0Oi/ogebPz7c733rxvZhf4j6Pq+8lmYQfL9e58\n",
       "Tj/dACrq4pUPKi0jLvZZ08Gae/S2xWzrCMIpso8B95Xvhg+umMyIHeCmfXnF8Qe6gS4Dw+p+4AJN\n",
       "0W4fXBPCjlsp1N/Z/FcdIE1AOoOXCizx8sJFH1zbhR2wOC52Faz0nnf2PEmO6RLek5lsgn5vYOCy\n",
       "D6rgsLjYbU3lSYPnULMjlVP0e11FRG3mLLCcz7/xwRUuiYuTFn31jsnGnKU4GovAYC/Q0E72XeAw\n",
       "0MP+Uf6/tZRrTfGTrggKXlAXRcwUXNf5/wMfD42HOGFrdXHi6SzNm1QSbgO7kOR06F+s821CvEkZ\n",
       "ESfQtCFE7KAIkLfzLQ2VlM3sMjDUzkYFg7ZmVoB5qo2gemYnkECcl/hp1cpNBsEVyZXsEjtwUTQa\n",
       "orR4mVo228aC1ssIWZuPEEec4moLSpNkmwlWzaMZhhNlhCuSq2G+3eNy0XW4KOkBzhDFswu9kSb9\n",
       "h8eVHOai18p5hj+nMFWQXAciovpcFIGi4NqmDHIkOL9j7uGnKSWh714O0XOIdYpOhlsmnvRCcmXC\n",
       "FY/LRRExBdc51RCIK7bgiGzMLa8h2quu9jul3BzrBSYZHgeeVQWXXoyrAA35fP6MQC0Zc0IsOZPQ\n",
       "6Zk15VB5SDjlpW2teppHQAk1OZPr4yCnKVFFwTWf61izo0YEiqDYLfZSr9sxCr3vGwUNGU7X6viV\n",
       "zV5T+48p14haueIIF5Bm7VB2W1KC6zi0rx6XiwJbZI8qyI5iF4AYdo+yxx4SjRkdRXQN0RlxXkFa\n",
       "1ioGbbV4KLifumVXqt9kHqikO33r4zKibbPaKsaXckeLHleSKqb/p5k2rZPx0PXfKRsMbhZzte82\n",
       "YUckYP4ZICrflf11uUIqLUdqnPs34NIK60S4JInrfgM8VmJJ1TjNDbj0f/zRE/rrEX8DLp7KEuso\n",
       "EPoAAAAASUVORK5CYII=\n",
       "\" style=\"display:inline;vertical-align:middle;\" /></a></dd>"
      ],
      "text/plain": [
       "<IPython.core.display.HTML object>"
      ]
     },
     "metadata": {},
     "output_type": "display_data"
    },
    {
     "data": {
      "text/html": [
       "<dt><a class=\"ProveItLink\" href=\"../../../conjunction/_proofs_/nandIfNeither.ipynb\">proveit.logic.boolean.conjunction.nandIfNeither</a></dt><dd><a class=\"ProveItLink\" href=\"../../../conjunction/__pv_it/6c6cf740054e4cfdcd9e1ff7416524b0580365fa0/expr.ipynb\"><img src=\"data:image/png;base64,iVBORw0KGgoAAAANSUhEUgAAAOEAAAAXBAMAAAAPVjVNAAAAMFBMVEX///8QEBC6urrMzMxUVFRm\n",
       "ZmZERETc3NwyMjKqqqp2dnaIiIiYmJgiIiLu7u4AAAAU9Wx4AAAAAXRSTlMAQObYZgAAAvdJREFU\n",
       "SMe9Vj1oU1EU/pq/lzYvaXAQXGoGB0ElEYROkqKhFByaoRkUihUxdVCTQVodat+iQZA2S13NolYU\n",
       "eaJbh0Zx8Gcwg138wSgK3Sz9t5Xqvefc17zkJRki9cDpu989757vvvOXAv9dyv923GU2Ag55obQk\n",
       "wduWGY/UAUdr3nn5J5E4H4E3BtIHcm+iZcaJOmBSwWvW/m5BtQgYIB0RD22oVcKA6QT6F5Wp62rf\n",
       "vSl0GXgDUr8we/OtMraVneDq6SwTXVTGwJq4xgbwFaT6/dHRsZaDur8OMGcj9PQcUAHwhYFgl3jm\n",
       "WVfT6Q8tM55yAlf5TpEW81yVQGcPtBviezuSrMeBYTLk6O/tlVRvjE5W+85Vlu2Z1MBZXt6yv8Lg\n",
       "G+L8bY9wkvfjJ2YG5SXaDdZ9CBmU8EXOexiBMMWiilBZWZ4DT3i1SxTBZykFBkIiGE/SooQr/NJs\n",
       "FqH38hvCrEEEKAo/fpPZ2wPXmpNRWVkGgChXh3UPd48F3IlEP5W+bsJDwcIZySo43AusgWKQaurx\n",
       "HJmDJrwlJ6OysnwEBtGAUSSjjWImvNIuIBoD7woVxpBBo8Jtpsn8M4ZXWQejZSUJLUFXad1jZyQg\n",
       "ajFIWZmyku+W4enPV6KK4WNUy+ra0Zlnl+BgtKxcjZszvarVLtgZJdCEZ/+CVWpTVjtq6zLOBium\n",
       "KIivMUtnp0VhlCuM99LptLFtZdRhQO9iprvWLWIKzMuTW/IOMplBqx0PywFodQfaZDGH5lIZIjon\n",
       "Apuv/sahipWQL4nQLwaH7IEQYGRvDnpmXbj1RNTc82aWE33UOP4IK3Tpy5tFnCpLuIrGahm3rYQ6\n",
       "83AtqcGWtU85O3CpVrGJmnJKDorRUNRy0LagzaGW0bIyGi9jLKnatGDv2ULzAfVQKcn3VWj9n0RV\n",
       "Ta+k+vI1jLFtK6GOydTAzWa/Vg1EDhoeNvZb2tY+xxG9jpvLDYFDPFnWKuluythdx41mNgIOeaq0\n",
       "SopNGYs7/C+XZ4f8/gVy985Qn0xZwQAAAABJRU5ErkJggg==\n",
       "\" style=\"display:inline;vertical-align:middle;\" /></a></dd>"
      ],
      "text/plain": [
       "<IPython.core.display.HTML object>"
      ]
     },
     "metadata": {},
     "output_type": "display_data"
    },
    {
     "data": {
      "text/html": [
       "<dt><a class=\"ProveItLink\" href=\"../../../conjunction/_proofs_/nandIfRightButNotLeft.ipynb\">proveit.logic.boolean.conjunction.nandIfRightButNotLeft</a></dt><dd><a class=\"ProveItLink\" href=\"../../../conjunction/__pv_it/d0569cc6bbb5356494003b40b073257ea35f9a6b0/expr.ipynb\"><img src=\"data:image/png;base64,iVBORw0KGgoAAAANSUhEUgAAANYAAAAXBAMAAACFeawMAAAAMFBMVEX///8QEBC6urrMzMxUVFRm\n",
       "ZmZERETc3NwyMjKqqqp2dnaIiIiYmJgiIiLu7u4AAAAU9Wx4AAAAAXRSTlMAQObYZgAAAupJREFU\n",
       "SMe9Vk1oE0EYfZu/jWaTBi/qRSN4EKo0B6EnSdBQvaUgERRK48EUQdscxFZEGwoSD6K5VLyZi1pR\n",
       "JKCecsjqqerBeMhFKkZR6EUs0h+VUv3m291kshtzWNSBZL753s68nbdvvl3gP7am65n9Uuyp9Lry\n",
       "Of20GFAXg1cuqLxJabDf6A7YrtHSy6mhGfjjFB8F7ovcdRdcQVkRc4Eb5vCylVeywGgMBXE9cJ46\n",
       "NeuCqyrFIUNC7b3Jf8UCEgQkkngpwDLfnr/kgmuHFCsGx4XRvCHvWWvPNUq8LuMDhZEotHuTk5dc\n",
       "UHkK0mCP0VVqMe59/ZZVTtLvTRMBsZnTwGou99YFl78sDU4Y9M3bOgeLhuOoLQNT48DmYYrvAIeA\n",
       "Mc4X+f/mSmYozjM717ahCOoSeI3/P/LjofYQx02vLlefLlC/SYhwC9iNCMuhfTOebxShqAgCne61\n",
       "oVBIrpF31IQoWzgVw/QwB3VMmZ5ZA77Q2fCIObuAMEJ8i5/XDW2S8Kw5uewo+mLS0eIb8aZSaTa0\n",
       "VoHP2HyAOEI007skPEmxHmbXPGowHK7AX3dy2dEuXCS6wgrReuZB76NO+9nmihT40HsrOYa/xjGf\n",
       "d3A5UCgliWu7CCgRZn1nW483QYr5frQ1xNhB9ilGGB6oPhmHg8uBIqBLXGdEQSCu4JJlo9nW8Zqm\n",
       "vWpiv/MizaK8QI3hOeBZs811N5fLFbqgho15y4adyeg0Z0MkxEMLW8fLu63Z9jwUYdRIIzPBi5wi\n",
       "oUqd+8p2QeGpS9veR7VuZxHaxHda1BezqtaxX6nUVbH/oEjNCNuIVfx5JNg7pO5A3M7lRIGtco3K\n",
       "yxXFPABSM2uU2faSaXS1CHUDagN2LicKrqet01fuXWQeCNGtuvVpFWp6wbuOuZXMkZKNK94F7f5O\n",
       "+UPjYrFof7dJccAxResYqfK78lxPLp+Q+LAtOdiTa7BzeFEm7vkN8FiYJW5L6j259H/20eP76yv+\n",
       "BsgCyxFaw+qZAAAAAElFTkSuQmCC\n",
       "\" style=\"display:inline;vertical-align:middle;\" /></a></dd>"
      ],
      "text/plain": [
       "<IPython.core.display.HTML object>"
      ]
     },
     "metadata": {},
     "output_type": "display_data"
    },
    {
     "data": {
      "text/html": [
       "<dt><a class=\"ProveItLink\" href=\"../../../disjunction/_proofs_/neitherIntro.ipynb\">proveit.logic.boolean.disjunction.neitherIntro</a></dt><dd><a class=\"ProveItLink\" href=\"../../../disjunction/__pv_it/6ea10832119e22c54d518e03ef206e975463385e0/expr.ipynb\"><img src=\"data:image/png;base64,iVBORw0KGgoAAAANSUhEUgAAAOEAAAAXBAMAAAAPVjVNAAAAMFBMVEX///8QEBC6urrMzMxUVFRm\n",
       "ZmZERETc3NwyMjKqqqp2dnaIiIiYmJgiIiLu7u4AAAAU9Wx4AAAAAXRSTlMAQObYZgAAAvpJREFU\n",
       "SMe9Vj1oU1EU/pq/1zYvaXAQXGoGBwelTxC6qC0aSsGhGZpBoVgRUwc1b5BWh9K3aBCkzVJXs6gV\n",
       "RSK6dWgUB38GO9jFH4yi4Gbpv1aq955z38tLXpIhUg+cvvvd8979zj1/KfDfpfRvn/sK9YBHnimd\n",
       "l+B104wHa4DDVe88/5NInIsjaID0ntybbJpxsgaYovvS0qC/OwXVEmCBdFQ8tOFmCcMFL9A/yUwF\n",
       "DGfHvyl0BXgF0lZhDuaaZWwpecGVU6akkbeI0E54XbjxC/gMUv3u2Nh400HdWwMU5uLykRU6TRuh\n",
       "mODuFM8c61o6/a5pxpNe4CvdKkKxZWmnoxfaNXHb9iTrMWAEcMw3V1N9Rjn1jmTLy7ZMavAML2+4\n",
       "X2HwBT2UPRFRP9dHz/HZIelEm8W6B1GLEr7EeY8hHKNYVBAqK8tT4BGvdogi+Cglz0BIHBNJVUcB\n",
       "Ci/mTETfyjvEWCMIUxS+/SZzsBe+dS+jsrIMAl0mrWw//L028CcSA3y1eXxn42nJKjj8i6zhIlfU\n",
       "wwUyRwoIznsZlZXlPTCEOowiGS0UM5zAAzaKxsCbfJkxatGo8BfSZP5h4IXpYbStJNFl6Cqtu9yM\n",
       "BEQtRigruMzzDH4ZnoFcOaoYOSr3A8rtrtknF+FhtK1cjZuzfaoPz7sZJdDEya2L/M0hngiyHbUN\n",
       "WQsWK6bJlZeYI/uMKIxSmfFOOp22HCujdgt6JzPdtr0wFJCpC22xFxdKTjsekAPQ7g60SFeiC6kM\n",
       "vXBWBDZXecfhspVQKInoTwb73YEQYHR3Fnpmg4oVV7kUMyuJfmqc1jgrdHlW0EQPtaE4qsuoZnSs\n",
       "hDpy8C2rwWa6p5xZ2cJHqsaFmnJK9onRUNSy0LagLaCa0bYymihhPKnaNO/u2XzjAXVfKcnXNWgD\n",
       "H0RVzaym+nNVjIZjJdQ+lRq83ujXqo7IQcPDxu2lax3yfKLXOOZSXeCRgMlaId0NGbtrHKMV6gGP\n",
       "PFZaIcWGjMVt/pcrsE3n/gUjB88wCi/D2gAAAABJRU5ErkJggg==\n",
       "\" style=\"display:inline;vertical-align:middle;\" /></a></dd>"
      ],
      "text/plain": [
       "<IPython.core.display.HTML object>"
      ]
     },
     "metadata": {},
     "output_type": "display_data"
    },
    {
     "data": {
      "text/html": [
       "<dt><a class=\"ProveItLink\" href=\"../../../disjunction/_proofs_/orIfOnlyLeft.ipynb\">proveit.logic.boolean.disjunction.orIfOnlyLeft</a></dt><dd><a class=\"ProveItLink\" href=\"../../../disjunction/__pv_it/eb45adf15a3b0d0f10e9e7493be4dac879d76bd00/expr.ipynb\"><img src=\"data:image/png;base64,iVBORw0KGgoAAAANSUhEUgAAALgAAAAXBAMAAABKV5jPAAAAMFBMVEX///8QEBC6urrMzMxUVFRm\n",
       "ZmZERETc3NwyMjKqqqp2dnaIiIiYmJgiIiLu7u4AAAAU9Wx4AAAAAXRSTlMAQObYZgAAArVJREFU\n",
       "SMe1VT9oE1EY/yV3uYTc5QxOOhnBwUHpDYKDfxI0VLcUJBUFSR1MFbS9odg4SEtB4iCaRXEzi1hB\n",
       "JINOHXJuFYfGIYsUDKLQJSiatio1+r33LnfP0AY59YN7f77fe7/3/XvvgP8preBbw7VBqJECGmzw\n",
       "KhD5AdEd6WfNdbLDc8Ap4DGb3w5E7u66w73gQ4u3oTGgkEIMuEqz6FgQbl1ExXjLIqtaviZNXToD\n",
       "o4oYQZFKEPKQSNe1gk2twuxLCE2dFEtVmEkYj6anrweKyl7R1eop1pXpuys05+l7TedcAtaKxTeB\n",
       "yM+Kkmk9cOASlwXQAUoT1D8EjgPjgAfdW80PW36KSGK2T+ihJLd4+46HmIdEEalTOgvPl9ngPrAH\n",
       "5ixPzGeRnyT0JBtoPcKllFRmPZRkO29TmBlx06uKhfo60M7QYDcdCZ379WGDQ5EMwusyuVlwfHIP\n",
       "JeHGKNlsThjcwIrQa3S6zsjS1DsiyU+bHErUEGnI5PH2iE/uoT1yCl6IO44zeCL028hq47sgN2f5\n",
       "TVNqRQ59tLBoy+SHNOkWeCjJTtZQESdEnEpwT02Tp+o3ERaMH2MqFec4NLTwbAIyecYzVUZJLrPr\n",
       "R+SxT3yqHnafGlbmM8ybRVZEfPNL1Dk0D7xoSeRGRWeb48Vi8aKEikrjYda6okiutLwyV3a03AUh\n",
       "dqLZzE9y8AL5XpHI2/nRrsumSSjJfno7dpVhTH4VSbkh1KM/s9mbvAbmmG2MNGIjzQuYgjVkSeSn\n",
       "oXzxyT2UGWX/fqmO9l0ys1ez2EdZdqJlRLuINqWYh8mGDZTcFPsoM6o6+AbHe8/9+zVEc8vKBuZX\n",
       "8ycrPrlJRTz1w0lzNxUJ/YOHeqX/nZfGmgw4m+2eGkx+om9+cAtyxd5sd3Tgb063+hTOFuTGv/5z\n",
       "q39P8QvA3bDV2z1EqwAAAABJRU5ErkJggg==\n",
       "\" style=\"display:inline;vertical-align:middle;\" /></a></dd>"
      ],
      "text/plain": [
       "<IPython.core.display.HTML object>"
      ]
     },
     "metadata": {},
     "output_type": "display_data"
    },
    {
     "data": {
      "text/html": [
       "<dt><a class=\"ProveItLink\" href=\"../../../disjunction/_proofs_/orIfOnlyRight.ipynb\">proveit.logic.boolean.disjunction.orIfOnlyRight</a></dt><dd><a class=\"ProveItLink\" href=\"../../../disjunction/__pv_it/5ea0fe5f41473c0acbe3ab1323775fffb10a7bab0/expr.ipynb\"><img src=\"data:image/png;base64,iVBORw0KGgoAAAANSUhEUgAAALgAAAAXBAMAAABKV5jPAAAAMFBMVEX///8QEBC6urrMzMxUVFRm\n",
       "ZmZERETc3NwyMjKqqqp2dnaIiIiYmJgiIiLu7u4AAAAU9Wx4AAAAAXRSTlMAQObYZgAAAoBJREFU\n",
       "SMe1VT1oU1EU/tKXP8xLDE46GcHBQekbhC7WBA3VLYJEUJDGwVcEbTOIrYM0FCQOolkUN7OoFUQy\n",
       "6NQhcas4GIcsUjCIQhdRJG1VSvXcc14Sc194yFMPvHvPPd9937n3nHPvBf6ntP3/OlLzQs0U0FTK\n",
       "K1/kB6Ub11lznezEAnASeKzGt3yRO3/d5l2wanEbKACTKUSBKzSKFPxwxyQq5jsV2aDVt6SpS2dg\n",
       "VhElKFTxQx6QdF2dLFJrqPXFxVInw+sqEkmYj2Znr/mKyj7pavWU6sr03RHLOfrekJ8LwLptv/VF\n",
       "fkZKpn2/AYe4LEAHmJum/gFwFJgCetDdtfyE1U9RTzSU5Ca37znEHBJDUmd0lp6vKOUesBeJEifm\n",
       "q+QniVhSKeHB+tJQkh3cpjB/wklvMCWJ3gA+ZUjZQy4R43193GQolMHIhptcR0nYnZHN5mTBTayK\n",
       "PUzeY2p6mvqGJPlpi6F4DaGmm1xHu+QUvABvHKfxROzbadXmDyFPlPikGTWboc8WlosuchdKsks1\n",
       "VMRxidMcHK9pCkTwu4QFU0eUKYizDI0uPZuGi9yFklxUx4/Io19kyiHnqlFlPq92s6yKiD2+RJ2h\n",
       "ReBFu0/+0Lbt0hBUKo3DHN6SzV1q98rc2Nl2JgSUx0QrP8Pgedp7ZXDlhSEoyQG6O3aXYc5843LB\n",
       "dTGf+pnN3uASWVDlpX4LFZHmAqZgjVo6uRtViyoOnoTD2iFLdGsW+ynLjUgZkS1EWtDJ3ahaVNX7\n",
       "BG/rXvcf1hHJrRibWFzLH69o5NYQ9A8u6lX9nv9ND7vfFm182Zv8mDYe8yQf08YRz2cuZmmGhid5\n",
       "49+93MG/p/gFg82x1Dor51YAAAAASUVORK5CYII=\n",
       "\" style=\"display:inline;vertical-align:middle;\" /></a></dd>"
      ],
      "text/plain": [
       "<IPython.core.display.HTML object>"
      ]
     },
     "metadata": {},
     "output_type": "display_data"
    },
    {
     "data": {
      "text/html": [
       "<dt><a class=\"ProveItLink\" href=\"../../../_proofs_/fromNotFalse.ipynb\">proveit.logic.boolean.fromNotFalse</a></dt><dd><a class=\"ProveItLink\" href=\"../../../__pv_it/c3afa6afb70f3231cb9636f61c09621c1af021a20/expr.ipynb\"><img src=\"data:image/png;base64,iVBORw0KGgoAAAANSUhEUgAAAH0AAAAWCAMAAADabWOOAAAAOVBMVEX///8oKCgUFBQJCQkQEBC6\n",
       "urrMzMxUVFRmZmZERETc3NwyMjKqqqp2dnaIiIiYmJgiIiLu7u4AAACP9cC6AAAAAXRSTlMAQObY\n",
       "ZgAAAZxJREFUSMfFVotuwyAM9LYABsLD/v+PHRACpC2ZNk3UVRHEOc6cbVogeKfFNgt+Ja8sxG4/\n",
       "13apDJbzaHRdtskSC5FpPDLuC8nNjmxKFM4UiyuP7sGzKDPW2aJbSC4Idg5lqmQetRkqwvwIf66i\n",
       "EUP3G1CCSz5aTKj8wA4VwdfNg3Xpg2F49FShVwzK6Ytn7Iaxt7zvexNWUYA8Yib14NJciDl7x5Sa\n",
       "UnDHLlU2rq7MHHuzO4pHWF4LQ0QHe3oc5uwNAw9Z1NO0bVXtpLrs0UoPumAC9gp1IDzSlL1hjt0d\n",
       "3LHXzo5bi1V1VVMcWLrPDv2BuMWbvJ8YZbN9pa+fspt9vOxyNDjc9snps0M6GM+eKsnP2BumJXJ+\n",
       "9lbemk8tt7Zxyh9icchY7gHtz7zDTNCOKauL74Hd6I1LbwbNbGtqQ0spZpfk1DGkrmefs3eMTpp/\n",
       "fthb5e9ukUO10j7KXJU3E+VHzKXbfslORxMaxbnESIvhttH6dTqvmOTpMua8bXn42yXuat6fbXqk\n",
       "fcXPxZTdwhvZw5I/Cep/tvkGTTgSLUkEEJ4AAAAASUVORK5CYII=\n",
       "\" style=\"display:inline;vertical-align:middle;\" /></a></dd>"
      ],
      "text/plain": [
       "<IPython.core.display.HTML object>"
      ]
     },
     "metadata": {},
     "output_type": "display_data"
    },
    {
     "data": {
      "text/html": [
       "<dt><a class=\"ProveItLink\" href=\"../../../implication/_proofs_/eqFromIff.ipynb\">proveit.logic.boolean.implication.eqFromIff</a></dt><dd><a class=\"ProveItLink\" href=\"../../../implication/__pv_it/bc3078bb4119ca4e5b08127967cce4c7bbc9215e0/expr.ipynb\"><img src=\"data:image/png;base64,iVBORw0KGgoAAAANSUhEUgAAANEAAAAXBAMAAABnpbd1AAAAMFBMVEX///8QEBC6urrMzMxUVFRm\n",
       "ZmZERETc3NwyMjKqqqp2dnaIiIiYmJgiIiLu7u4AAAAU9Wx4AAAAAXRSTlMAQObYZgAAAtxJREFU\n",
       "SMe9VU1oE1EQ/prNdpPsNu3J9qIE8VaxOVQEPTRoqN4qSMSD1VZwqxRsTq1S1FAsKT1oL/Wck1YE\n",
       "WVBPBRsFRStiPLQHqZBCq2A1irT1r7TOm7dJNtlKwBQH3nvz3nyZb2feTB7w3yS7JV6aK9if0MgI\n",
       "5WWVREpELhmXxehYjrYPQQ0Dd8T+epVMPpkZ31e3qaYLOB1CAuinndZVJdOkXF6tu01tFo0IpuXn\n",
       "qGNVMu3gWRv/7jZNxYHXKcxTIm8PDFyuksiT4EXXv7lt3TTeZFFLwaya5tsqmdQUL3v8a27bMnDx\n",
       "AhA4ChwCevgsyfPNlVh7uAwdyitJx6ED6EuLORhSfvP2xIiQa7IclycfztHqp7B3IcjBGzJ0owF6\n",
       "g9RGR4fZBfIFYzizUwSihj/FA23FFZJOV/eZesBD0Dro7G9Rhq5G4CHrUuwkrNTSzhKmRWd2bKCQ\n",
       "emZqjUZXXUy1xKDTzxRqAD1dx91wb4ZNdRbUDPQzV3LEFPhUwsSQBWB/EehgoqnJxVRP8Ri/JFMw\n",
       "0coJtUw2fQnjeRxPhWqlmk85mSTkGOCNF4Aye6JL/KLIeNv5TsisbCfKl/enzB56DoojLzrZ1DL5\n",
       "gEqFb86KbS+5J4YEtpnmucYCUKZIwC7RuLFpO10lb4bwOM45eIEpNk0Aj7NKSsakHnAyCYhyXmgL\n",
       "j2ygNIgS5rLqy27STkpTVkJQY4kSnYlJ2FnKy5gya5q94p4CDiaGqByHf8gG2p2bgdb9I45nG8Nl\n",
       "RMc3otEREbFPXKUhGNQ42rg7KKct4WBExlTCJCH9MZLePNB22FixuecL2m4qk7SWhLYOjSrssJ29\n",
       "QQcTQxBM5nIf6SttoJTpikx388rCKrSOOWUNEyuxI5ST9yHuXNNRERIC7OVCzwNLXo2/i/xzcPZ9\n",
       "Qbtl9haPSx4VBfhQ7kiLVGDyxssO9m2Oq/x8DVaw3y8/SP8r01ZJZCuc/AGUONqjiDWMHAAAAABJ\n",
       "RU5ErkJggg==\n",
       "\" style=\"display:inline;vertical-align:middle;\" /></a></dd>"
      ],
      "text/plain": [
       "<IPython.core.display.HTML object>"
      ]
     },
     "metadata": {},
     "output_type": "display_data"
    },
    {
     "data": {
      "text/html": [
       "<dt><a class=\"ProveItLink\" href=\"../../../implication/_proofs_/eqFromMutualImpl.ipynb\">proveit.logic.boolean.implication.eqFromMutualImpl</a></dt><dd><a class=\"ProveItLink\" href=\"../../../implication/__pv_it/f01524706e71547466e740299036893012695f4e0/expr.ipynb\"><img src=\"data:image/png;base64,iVBORw0KGgoAAAANSUhEUgAAAQEAAAAXBAMAAAD5Ouf8AAAAMFBMVEX///8QEBC6urrMzMxUVFRm\n",
       "ZmZERETc3NwyMjKqqqp2dnaIiIiYmJgiIiLu7u4AAAAU9Wx4AAAAAXRSTlMAQObYZgAAAxxJREFU\n",
       "SMfFVk9IFFEY/7nrOK67rkJQXYoluhm1geShg0ttJXRQqK1LRgauQpB7SkISO5ghYXsx6LanMoRY\n",
       "qE4e3KKijGiD7BAFK2SHFAtRsz9o3/vezOybmc2lw9QHM/Pt+37fe7/9ve97M8B/t4KnszeUiT+i\n",
       "Ky+cFx4R8MfkI++KPF6Px7sj0KLAHfF7xCMG1VLh6q/u0GZAWwQGgAv0Sz/jEYMJ+Xi55lbnJ11L\n",
       "wJSkqaU9YrCd7/roN1ckSEOhH8AMPW739l7yiIBvQK4WXHSFquqBWiJYRX9+JZl85xEDLcOP3YFf\n",
       "rlBdDPoVkr+mDTgIdPHgEN9vLCcORx3wiOkMKYMW0J1hwqpz4h6OiE0nPlfZZHs0H51oF9EAybQT\n",
       "YRYrJKUK1SNYL73h4UGeAmahhlQ1LWAxwwmrYOo+6MsuDSZTCL8RQbEbCPI6s1IqLQYfVclc4hSy\n",
       "mbkdNgazqpoGUHHghNUxg8Z4fMXFoEOwoHX91KjBXC137d1pDtVmoeURPNu/QAxq5m0MDEggXQSq\n",
       "Dm7aYCYDum11MaBGxKuMZBAeaOQGzSY59CWKZyk8EW4203BaZWBCZN1IoOqgKmWDoUJQDdD1mrX6\n",
       "wMaT+YVMrWm5C+g6IMYq0c5Zeybun+ejihgkttnqQEC0JNnlqAW0nBM03r1JnYkYifSLdF0vdRzo\n",
       "q6JmxEqjLOFzTHJsDHhY8GekBtp+lYEJARJRA2hlGLVxzAYTrcZl3lMocRzsHTEgqMiKlplOSFgn\n",
       "yZr2v00mz4k6qFEYWBBg30kDaGUY+9SZUmG+PPSO1RSerg86DoqepXjLNW5YUSohgddSaOam/k6y\n",
       "RsMxqYGNAUOCCbLjbSbQysADETikzkS2peyhNWN5u6hyc/oQ9DXoVMpHjF3oUxgwJLxANi4OewYW\n",
       "M8T456wJM2adKstg3HQ+rkBvfU8VOracaCFJP0X4REoqlSgh1ltfAosZ3Pk2WPHt/GeTh6F6mlne\n",
       "LaoDyxwvb71QKoOs37mAHivDoDLlGGgqjdvg86Fp4xX6yjC45xzI/TWD3L/5mo15Oflv/6gIdNz5\n",
       "6NQAAAAASUVORK5CYII=\n",
       "\" style=\"display:inline;vertical-align:middle;\" /></a></dd>"
      ],
      "text/plain": [
       "<IPython.core.display.HTML object>"
      ]
     },
     "metadata": {},
     "output_type": "display_data"
    },
    {
     "data": {
      "text/html": [
       "<dt><a class=\"ProveItLink\" href=\"../../_proofs_/falsifiedNegationIntro.ipynb\">proveit.logic.boolean.negation.falsifiedNegationIntro</a></dt><dd><a class=\"ProveItLink\" href=\"../0a898dc3f07db2505917584ca4d38262de97a12d0/expr.ipynb\"><img src=\"data:image/png;base64,iVBORw0KGgoAAAANSUhEUgAAAKoAAAAXBAMAAABpDMkaAAAAMFBMVEX///8QEBC6urrMzMxUVFRm\n",
       "ZmZERETc3NwyMjKqqqp2dnaIiIiYmJgiIiLu7u4AAAAU9Wx4AAAAAXRSTlMAQObYZgAAAfRJREFU\n",
       "OMu1lL9Lw1AQx6+2scWmsbg5iAoODgoZXKWigmMFcRFEpxZBsINYHMTiUgdRF8FNFxEXyX/QjoqL\n",
       "i4soFlHoKB2Kg4h370d+NS/tUL/wJe9y9z5J7r08gH9RrX1Jj8XtkT6iKqfMIw0eQqlTwo6m0UsB\n",
       "lXH2bMzc0PU4lHrcUnGCTgRURheBZ3boEeth0KTF7frGN+ybfqmiYiaBBdppGDVS43a0u1YAMNIq\n",
       "Kmb062JxL7QB48KOrAot1YaKSplmLvccSl0RdvZE7aKKlyslFTNzAHk2LvMpsqIsB0fCtt4hQ20+\n",
       "p7F2yDTjoWJmDIwS63GD3emVK9KQkAFu7ZVESzQC+zR7VPmumElBkr4HPn88VBGiGsJsGr5UdH4+\n",
       "S5smo6RiJllNsQW+ffJQRRhAxR5FSu2oRon9N1Er56bKEDUoLKm4DVNp2QHel9d1fwcgP0ujGKy6\n",
       "qTJEbQoLahypiS8c3ynflTJn7Ci4h4qbKkOxg+xdZEKdin7b7SyI0DYxnpa3ag7VDlGTwlw7w2XQ\n",
       "t75x+oEPSc0YYs2gjE7TtQJkTIdqh/TUArdPQX+sPzMB0F91qHbID4ugo6TPUlHtzEcT4tkXm+qE\n",
       "wSchqa78xQMyva23toW9WlBSFzqi0gkf939v0lSex2ZH1C4o1g3IH53jglvBqe5jAAAAAElFTkSu\n",
       "QmCC\n",
       "\" style=\"display:inline;vertical-align:middle;\" /></a></dd>"
      ],
      "text/plain": [
       "<IPython.core.display.HTML object>"
      ]
     },
     "metadata": {},
     "output_type": "display_data"
    },
    {
     "data": {
      "text/html": [
       "<dt><a class=\"ProveItLink\" href=\"../../_proofs_/negationContradiction.ipynb\">proveit.logic.boolean.negation.negationContradiction</a></dt><dd><a class=\"ProveItLink\" href=\"../8d34e69910011169cb519166c0f9ff6f4dda77a60/expr.ipynb\"><img src=\"data:image/png;base64,iVBORw0KGgoAAAANSUhEUgAAAGsAAAAWBAMAAAA1LX8gAAAAMFBMVEX///8QEBC6urrMzMxUVFRm\n",
       "ZmZERETc3NwyMjKqqqp2dnaIiIiYmJgiIiLu7u4AAAAU9Wx4AAAAAXRSTlMAQObYZgAAATlJREFU\n",
       "OMtjeMBAFrgAIk6ToIF9A4hcCSL6SNDGHAAiy0AGJJCsjQPoOdYJJGvjWV5eXstAsjaGb2lpt8jQ\n",
       "5szAkA5mtINJJpg0RwGyYgQPqk2Fga8B7NpPYC4bTPq8ArI2BA+qjZeB+wCIfvoHRRtf/AEkXUg8\n",
       "qDbuA7zglLLuKoo2rrcBSNqQeFBtfA0mYN6GNBRt1mzIkYnEg2pjSHcCkSwMsSjaHFgvIGlD4sG0\n",
       "TQWLnGTYj6yNZwL3B5Dj0tLSMuA8FG2MoLTJdzU0/wGStrehYf+g6tiQeKx3796VvXsX5GIekHLW\n",
       "AgZ7AyRt4QzMnxHakHioQIeBgf8AQhsTkP2HoaIAIgLhYQFPvjGw+9+Ba+PzT2Ao+XvAHmwQM5SH\n",
       "N8mxIXMOEJ1SkbUxF5CljYf4fMFClCoA83FQjMq6UisAAAAASUVORK5CYII=\n",
       "\" style=\"display:inline;vertical-align:middle;\" /></a></dd>"
      ],
      "text/plain": [
       "<IPython.core.display.HTML object>"
      ]
     },
     "metadata": {},
     "output_type": "display_data"
    },
    {
     "data": {
      "text/html": [
       "<dt><a class=\"ProveItLink\" href=\"../../_proofs_/untrueFromNegation.ipynb\">proveit.logic.boolean.negation.untrueFromNegation</a></dt><dd><a class=\"ProveItLink\" href=\"../490c148b705a435cc350dcd45aef3fb19d06d7950/expr.ipynb\"><img src=\"data:image/png;base64,iVBORw0KGgoAAAANSUhEUgAAAJcAAAAXCAMAAAAx8S2TAAAAPFBMVEX///8LCwsYGBgNDQ0oKCgQ\n",
       "EBC6urrMzMxUVFRmZmZERETc3NwyMjKqqqp2dnaIiIiYmJgiIiLu7u4AAACwKje0AAAAAXRSTlMA\n",
       "QObYZgAAAdJJREFUSMfNlul2hCAMhenCDrK9/7tWYEaCRqSnTtv88OjMNX5cQoCQfxrx/pTMXWsW\n",
       "ffqXZ/ka2rO7B4uL7ilgGm3avQwgVP6BZ3D7/N/cZF2fxyRMI9hhNBK8k8nVcwjqHizX2e5DimO7\n",
       "EC6/gOFJew8XhRzayqRn7Oq4Ii1wukS4qeg7KxxxCWFApgZyEZU9SipHWO7hkjAPi8Qmf9AofsG1\n",
       "5AdRVArYbaD1bFjjh0kyACOu7/LU6k2aEp8f+SoGXDabzrIiAvt9Z/1oOfjjJFHWD0knOWNXz8Xo\n",
       "s4W5NswoO+sHXDtlCUDKRY60T8AEueLipblkptBW0RKDnOPaKfdc9Y6ay7k/4VrnEPRo7ohSU1x7\n",
       "ZcXY2s3jJtC+s7+/tc4+nse15kFDEfn9Ka69ssr91rrwho/b1XP56rEF6f2aziWca1E1DK5sSxwu\n",
       "JNU3fLy6sD6Rzd/W8loxUnapEL8UrqzfDXVTo6kY41VKRl7bRTjse+YxfX7LLnUpO37NdVQ+xqhH\n",
       "Dc/KmbMXPewitTrg8j/hQpRg0z2NMHNoWXYnrlibjRYp+BEXx5UT56U5u8zMhvft448WP7RL6Jdw\n",
       "EX1+8GUzBzhOXsP1OyH+5KtfxagUrnrqUXwAAAAASUVORK5CYII=\n",
       "\" style=\"display:inline;vertical-align:middle;\" /></a></dd>"
      ],
      "text/plain": [
       "<IPython.core.display.HTML object>"
      ]
     },
     "metadata": {},
     "output_type": "display_data"
    },
    {
     "data": {
      "text/html": [
       "<dt><a class=\"ProveItLink\" href=\"../../../../equality/_proofs_/substituteFalsehood.ipynb\">proveit.logic.equality.substituteFalsehood</a></dt><dd><a class=\"ProveItLink\" href=\"../../../../equality/__pv_it/1d1deba862c90ad7a095be6803bec640d55fe7610/expr.ipynb\"><img src=\"data:image/png;base64,iVBORw0KGgoAAAANSUhEUgAAAK4AAAAXBAMAAABg52lgAAAAMFBMVEX///8QEBC6urrMzMxUVFRm\n",
       "ZmZERETc3NwyMjKqqqp2dnaIiIiYmJgiIiLu7u4AAAAU9Wx4AAAAAXRSTlMAQObYZgAAAopJREFU\n",
       "OMu1lE1oE0EUx//ZTbLdzXaTW/EiEbz1soLgMaENVTwV/Dioh/SyQTwkIFi0iIuXXkS9FIQeXAS/\n",
       "Wiw5xEProREvogd7UAQpkotBvBjU+lHqx5vZ3dnNZovi6kAys/+Z+c2b99484D+1zj9kjXq9XgTW\n",
       "2OBpElrrZ6XyvEEDuexLh4C7rL+cyMyvQHaE+iFx9yHgDHVKNQlW3gRU+uGBkHSHH5K5moSb+0Cg\n",
       "DRrsFJJRgH57evp8Ijdke0D6GyDZgXYS+GxZr36z87TXq7GzeeK9J09mHPo41zp7vwncBMaBGm2p\n",
       "HzlcCy0uuiCuKo7vSSeOW3Igv2DBapMDHH09RSl2DdgNg13gIXAvtNiLJFez/Lbs70Ycd/XgwjGW\n",
       "ZimyRUOup5rALmAYOToIFeBZZ4DL1XnBfRvHrXvb8sQ1kOY7SxTO9jCbWAcODNrL1Zrgps0Y7ncE\n",
       "XLK66XENey/LjI/QX9I9WqPjIa6rFgQ31xS0xbGWe4i84Skpnq0XTFYayA+ojdGftLlwgrqldHVH\n",
       "iMtV2RZcSbxUrTPhcnj6uvlG7tQbq8gR9zF9z7ESobnJV2RBDbhcdWGcy4+4ZVmWLeGSj/vhHzUJ\n",
       "XG9PYQY8z1yPZCc9JzXCXK6qEa43/cUdval/8pwjkX3dlXeLzLKL7DGzsOW9p7wHZojLVaka+KEq\n",
       "uHJBjgZwJPyO/eQmO5VZuXcHTojLVBhrgqs7yqw7XdJsLcp9IkaaH1/tCpVMecs4NbfSCbhcBV4D\n",
       "R60py3KQKcpbfNrsLh9finKDOhnJc30gf3lbRqiu6tuXEUVky/7+iX3x3K4YzfetGWgzfuWMPJ92\n",
       "PFcVerlvzd+0cvjjkXgMf7z/F2K8m8Fs520bAAAAAElFTkSuQmCC\n",
       "\" style=\"display:inline;vertical-align:middle;\" /></a></dd>"
      ],
      "text/plain": [
       "<IPython.core.display.HTML object>"
      ]
     },
     "metadata": {},
     "output_type": "display_data"
    },
    {
     "data": {
      "text/html": [
       "<dt><a class=\"ProveItLink\" href=\"../../../../equality/_proofs_/substituteInFalse.ipynb\">proveit.logic.equality.substituteInFalse</a></dt><dd><a class=\"ProveItLink\" href=\"../../../../equality/__pv_it/565edb6b204b98510e834186f51efc639f68e4960/expr.ipynb\"><img src=\"data:image/png;base64,iVBORw0KGgoAAAANSUhEUgAAAK4AAAAXBAMAAABg52lgAAAAMFBMVEX///8QEBC6urrMzMxUVFRm\n",
       "ZmZERETc3NwyMjKqqqp2dnaIiIiYmJgiIiLu7u4AAAAU9Wx4AAAAAXRSTlMAQObYZgAAAn1JREFU\n",
       "OMu1lE9oE0EUxr9ktvmzu9kGL9KDEMGDIGIEwWNCG6p4Kmgv1UMuJohCFhR7EhYvvYj2UhF6WYRo\n",
       "jFh6yKVeXPEiiJiDIoiRXCzeWqpRW2p1Zndmd7pZKU11YHfevJn5zcyb7w3wn0r3n5Hii8LSc0Cb\n",
       "Ga8Gp7V+l0pvTWadYL+kCz8LPGL17T1s8yeQ2O9DyAT7p4DrbJHy4FiyAaTpB20x4Oo2UjTAQ7OD\n",
       "c7U1iulRI9YNuEYW+sPp6Rt7CENiFVDWqXEYAReXgO+Vyocd5l51/+nIvmELWGFxnJK5dWAMqNJJ\n",
       "tclzVUkzXnW3NzluIml7U+wobsEGeceMWzL3HnAIBl0Sz4En0um4ELNQ26KB+1HcZ2eaU67M9snc\n",
       "g0AGmkOtEvCmG+YqRehbmOfOL1Hcmpi0JnML9EKdDOv6CJzu22/GgWJBxEfJR3B/4S9cw2KJYnyF\n",
       "/h5QW0fGJO5KHq9NZLlf8xMVj0db3iKkJ1wjoTigOsouaqN5gVYLSnlE4h5r1h0Qi/vjRcFQu+Ox\n",
       "WV++Xrkic1/Sb449EarltnMpR45Dw9VGkfvZAnhQqVSsOL99OnBLcOshnSHGjpeY4HI0Ze5FV7dF\n",
       "7icWR1C5/vCsz7VvIjhHad52Op0DnQ7tvsnExK5tmKfyceQl7rq73zL3x8s+l2RJ+AJjZmDTPBby\n",
       "pt7kDFltwA64xN2V0Ybn1+3kjMctqJYa5upS2qjiEOod+mSSTePy3NNuwG303M1/gucfypFN159f\n",
       "Xjq/0Kc46bENKV0P69crS7xOySP6y7XAPLW952Q0d5nX8/KI/pL05a2FEsiJ5qa5vyiPGKwo21ov\n",
       "eDLsAvAHpmeX6MQ1eO4AAAAASUVORK5CYII=\n",
       "\" style=\"display:inline;vertical-align:middle;\" /></a></dd>"
      ],
      "text/plain": [
       "<IPython.core.display.HTML object>"
      ]
     },
     "metadata": {},
     "output_type": "display_data"
    },
    {
     "data": {
      "text/html": [
       "<dt><a class=\"ProveItLink\" href=\"../../../../set_theory/enumeration/_proofs_/inSingletonEvalFalse.ipynb\">proveit.logic.set_theory.enumeration.inSingletonEvalFalse</a></dt><dd><a class=\"ProveItLink\" href=\"../../../../set_theory/enumeration/__pv_it/cee10c06f4ef232a503a0ce0a2d30fe4a610033c0/expr.ipynb\"><img src=\"data:image/png;base64,iVBORw0KGgoAAAANSUhEUgAAAO8AAAAXCAMAAADUb+j/AAAAOVBMVEX///8oKCgUFBQJCQkQEBC6\n",
       "urrMzMxUVFRmZmZERETc3NwyMjKqqqp2dnaIiIiYmJgiIiLu7u4AAACP9cC6AAAAAXRSTlMAQObY\n",
       "ZgAAAupJREFUWMPVWImO2yAQdbvcN/z/xxYwGAZjr0maqosUjYzmwTyYi2zbfzwss+CbaC3eXdP/\n",
       "C8OxgfKZZU6f5ghS+0ngF04vY1z7Np+iSyiUz4YJk0kmiyQPVxGNVcZoVT/lx666rry2g0Z3k/Lp\n",
       "WbPOjsSf14Pgn6JrDJR/ha/V63wzph46U5/iizyUs1g10sUhn/P1aJ1vxlgt8nAfS1YSyplR0vrF\n",
       "+924Wua7YwJPw+lP8WUaSqENFcqw5t2C+2tqXmegCB7y1Wydb8bQnOr4g8p2VwT8JV5aIH203jq7\n",
       "oeZQ871LKtYbDi1b2yNpK9lpdoPe8M0YnDT8k3x3l9GuCwTCQOpivDoAfrou2fWJ2lg6GV6UZLUf\n",
       "o/X73TFpOWPf4yuuS2vAQCa3pGAljFwZsivZiFR1lDw/VPfnxU9IWOe7YxJX59/jexMOA9981WbW\n",
       "jgzBUwhvKkUuCeXryDOv842+XLeMqQQbSmr3x2EV6fkCzQ3rOSKTU1Cm3EP6TtbPSwOVXRyb4r0t\n",
       "fjt/Zq4b/Ft/jpdDS2z55GrFMG+2IGIYTe/30KQ5SXzFn5kgMsoCacWee0w7FToNJu26iOV0rEdW\n",
       "rt9vwSjmjgQsj72Fx3Ha8ClfoFmj/4zoC8cuVbAbR6CvjReMb0oti1RxsCPfl+sRjKfQBSKNXkrN\n",
       "Vfw2zZZgR0Q+GtdLz432WsP8KOQkvVdqEWFY3azxld89kYqXo87LK6Z1N8kZSV9JELngWzR59OTf\n",
       "v2T25zNiX0ZAORuKyrt+svr2ej8JeoQBE9OXlrlCCplsi5bjMM3PTRPWohEBWnu71sIVatQlQ9XI\n",
       "V7/weh0x0XMUi+6W+Nh86IbLKd+mmaZ9d00Q8c570KKjAHE9vn+9fOF67zCRrxBDMM7rr2rXdkLA\n",
       "ZkQsvfe9yyupGL14aLriLi/8sXOHISKfKnzTzPl2KifE8CeDWHNCq9XF/1eGrNO9xdj9ZPX3/ZXt\n",
       "bDohfvagP5/CH+EDIVfyVW8WAAAAAElFTkSuQmCC\n",
       "\" style=\"display:inline;vertical-align:middle;\" /></a></dd>"
      ],
      "text/plain": [
       "<IPython.core.display.HTML object>"
      ]
     },
     "metadata": {},
     "output_type": "display_data"
    },
    {
     "data": {
      "text/html": [
       "</dl>"
      ],
      "text/plain": [
       "<IPython.core.display.HTML object>"
      ]
     },
     "metadata": {},
     "output_type": "display_data"
    }
   ],
   "source": [
    "%dependencies negationElim"
   ]
  }
 ],
 "metadata": {
  "kernelspec": {
   "display_name": "Python 3",
   "language": "python",
   "name": "python3"
  }
 },
 "nbformat": 4,
 "nbformat_minor": 0
}
