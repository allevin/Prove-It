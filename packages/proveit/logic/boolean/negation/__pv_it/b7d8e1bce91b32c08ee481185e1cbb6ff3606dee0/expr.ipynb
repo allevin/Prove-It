{
 "cells": [
  {
   "cell_type": "markdown",
   "metadata": {},
   "source": [
    "Expression of type <a class=\"ProveItLink\" href=\"../../../../../../../doc/html/api/proveit.logic.Equals.html\">Equals</a>\n",
    "=======================\n",
    "# from context <a class=\"ProveItLink\" href=\"../../_context_.ipynb\">proveit.logic.boolean.negation</a>"
   ]
  },
  {
   "cell_type": "code",
   "execution_count": 1,
   "metadata": {},
   "outputs": [],
   "source": [
    "# import Expression classes needed to build the expression\n",
    "from proveit._common_ import B\n",
    "from proveit.logic import Equals, Not"
   ]
  },
  {
   "cell_type": "code",
   "execution_count": 2,
   "metadata": {},
   "outputs": [
    {
     "data": {
      "text/html": [
       "<strong id=\"expr\">expr:</strong> <a class=\"ProveItLink\" href=\"expr.ipynb\"><img src=\"data:image/png;base64,iVBORw0KGgoAAAANSUhEUgAAAHcAAAAVBAMAAACOK2zoAAAAMFBMVEX////c3NwiIiJERESqqqqY\n",
       "mJh2dnZmZmYQEBDu7u4yMjJUVFTMzMyIiIi6uroAAAAs73DqAAAAAXRSTlMAQObYZgAAAYlJREFU\n",
       "OMulkztLA0EUhU98JTEb3VoLQREEGxtBbcxPsLIRNJ2VIBEsbAxoo4UEK8sFSWEEWUjnIkkpWCSd\n",
       "jSGLpZWCWrgYvbN340w2M5UfHOZwyWzua4B/MdbU2YjNSCYetHbjx/NWfCTrCBVjuBZ41RsyVzKm\n",
       "WBzRrQ7ggBUjtQAc+sjKVBUL65sUAOtgxWjQTxsuUiX5OWmRfaPkPoELsGK0bWArjxcZUSwGi8DA\n",
       "CZ05Vowl0lwJ+zKiWIy7SFxSJiO7rBhU0MQyUJaRslrUXauwRueQwwIOKoJr7kjQepyl84y6Oi3I\n",
       "q1YUlZ4Xoy+yehEdOXeBTre9rmrDotr019YrqxfRkeyH8TIVJdppuEwdCWdxLG8o1qLPopZT0y6E\n",
       "Fc1wRyinzDuwKG8oVhSV+BKL6LD6xzxF0e1uoK5aUdS92Fb9qKgj1ikN8lmGpE2uBt5tOLlRn9XD\n",
       "Hr2aihhkypbraffvoWE9u68rr7N/7EQyYHiSTNphmZjU2oiMzTKRaOpsxFMkPb82tHrD26+iqQAA\n",
       "AABJRU5ErkJggg==\n",
       "\" style=\"display:inline;vertical-align:middle;\" /></a><br>"
      ],
      "text/plain": [
       "expr: [not]([not](B)) = B"
      ]
     },
     "execution_count": 2,
     "metadata": {},
     "output_type": "execute_result"
    }
   ],
   "source": [
    "# build up the expression from sub-expressions\n",
    "expr = Equals(Not(Not(B)), B)"
   ]
  },
  {
   "cell_type": "code",
   "execution_count": 3,
   "metadata": {},
   "outputs": [
    {
     "name": "stdout",
     "output_type": "stream",
     "text": [
      "Passed sanity check: built 'expr' is the same as the stored Expression.\n"
     ]
    }
   ],
   "source": [
    "# check that the built expression is the same as the stored expression\n",
    "%check_expr"
   ]
  },
  {
   "cell_type": "code",
   "execution_count": 4,
   "metadata": {},
   "outputs": [
    {
     "data": {
      "text/html": [
       "<table><tr><th>&nbsp;</th><th>core type</th><th>sub-expressions</th><th>expression</th></tr>\n",
       "<tr><td>0</td><td>Operation</td><td>operator:&nbsp;1<br>operands:&nbsp;2<br></td><td><a class=\"ProveItLink\" href=\"expr.ipynb\"><img src=\"data:image/png;base64,iVBORw0KGgoAAAANSUhEUgAAAHcAAAAVBAMAAACOK2zoAAAAMFBMVEX////c3NwiIiJERESqqqqY\n",
       "mJh2dnZmZmYQEBDu7u4yMjJUVFTMzMyIiIi6uroAAAAs73DqAAAAAXRSTlMAQObYZgAAAYlJREFU\n",
       "OMulkztLA0EUhU98JTEb3VoLQREEGxtBbcxPsLIRNJ2VIBEsbAxoo4UEK8sFSWEEWUjnIkkpWCSd\n",
       "jSGLpZWCWrgYvbN340w2M5UfHOZwyWzua4B/MdbU2YjNSCYetHbjx/NWfCTrCBVjuBZ41RsyVzKm\n",
       "WBzRrQ7ggBUjtQAc+sjKVBUL65sUAOtgxWjQTxsuUiX5OWmRfaPkPoELsGK0bWArjxcZUSwGi8DA\n",
       "CZ05Vowl0lwJ+zKiWIy7SFxSJiO7rBhU0MQyUJaRslrUXauwRueQwwIOKoJr7kjQepyl84y6Oi3I\n",
       "q1YUlZ4Xoy+yehEdOXeBTre9rmrDotr019YrqxfRkeyH8TIVJdppuEwdCWdxLG8o1qLPopZT0y6E\n",
       "Fc1wRyinzDuwKG8oVhSV+BKL6LD6xzxF0e1uoK5aUdS92Fb9qKgj1ikN8lmGpE2uBt5tOLlRn9XD\n",
       "Hr2aihhkypbraffvoWE9u68rr7N/7EQyYHiSTNphmZjU2oiMzTKRaOpsxFMkPb82tHrD26+iqQAA\n",
       "AABJRU5ErkJggg==\n",
       "\" style=\"display:inline;vertical-align:middle;\" /></a></td></tr>\n",
       "<tr><td>1</td><td>Literal</td><td></td><td><a class=\"ProveItLink\" href=\"../../../../equality/__pv_it/2fb26078095930560931daa0500ce419a39ea6cd0/expr.ipynb\"><img src=\"data:image/png;base64,iVBORw0KGgoAAAANSUhEUgAAAA4AAAAFBAMAAACHocAhAAAAFVBMVEX///9EREQiIiJUVFQyMjJm\n",
       "ZmYAAADubVkoAAAAAXRSTlMAQObYZgAAABRJREFUCNdjCHEBAWcGXCBICQQUAUpuAwlgGKrkAAAA\n",
       "AElFTkSuQmCC\n",
       "\" style=\"display:inline;vertical-align:middle;\" /></a></td></tr>\n",
       "<tr><td>2</td><td>ExprTuple</td><td>3, 6</td><td><a class=\"ProveItLink\" href=\"../f184669feb797ca6f3d03e0f46139bb3779a37b80/expr.ipynb\"><img src=\"data:image/png;base64,iVBORw0KGgoAAAANSUhEUgAAAGMAAAAVBAMAAACgbk16AAAAMFBMVEX////c3NwiIiJERESqqqqY\n",
       "mJh2dnZmZmYQEBDu7u4yMjJUVFTMzMyIiIi6uroAAAAs73DqAAAAAXRSTlMAQObYZgAAAUZJREFU\n",
       "OMudkzFLA0EQhd8Zz8vpnV6fRmytBbExPyGVjaDXpRLEwjpgGhuxTOeBWNil9hBTChb6AxQTS6uk\n",
       "0MJgdDbe3gy7m8aBZd9+vLlbZmaBf8Tyk0sWsecED3wWcvcnz7f6CHoucM0+IXECBBMgc4CYLyMk\n",
       "om9aY2DHAarnpU1IxCPA/wQ6DvDONiFRaQFzp7TXbXDMNiGx0oV3SX9dOLTBFduExOPty1GD9vnM\n",
       "BmdUiDUVqZR4TRCuq1a1ihQBJroiXSmxqVz01WhYQAFmpFA5sZ+KFAHa7BMy+qD9rs4Xk2CDfUKq\n",
       "LnhfpP0MoW6LBk1do56Uqgv3an6opherRVs0eOPCsgy2x/nNtOaLfXRGBqgmPDCJ/TTUwAwM4Kfl\n",
       "ScgyDmg1TDBj+P8izIyUKajxuWalLNFdYxPA41fiWQ/52QF+Ae46eDiYSHv+AAAAAElFTkSuQmCC\n",
       "\" style=\"display:inline;vertical-align:middle;\" /></a></td></tr>\n",
       "<tr><td>3</td><td>Operation</td><td>operator:&nbsp;5<br>operand:&nbsp;4<br></td><td><a class=\"ProveItLink\" href=\"../87128195aa68b7f086511be1499efc90bdd968fb0/expr.ipynb\"><img src=\"data:image/png;base64,iVBORw0KGgoAAAANSUhEUgAAADoAAAAVBAMAAADlb+D4AAAAMFBMVEX////c3NxERESqqqqYmJgQ\n",
       "EBDu7u4yMjKIiIi6urpUVFTMzMx2dnYiIiJmZmYAAABjE816AAAAAXRSTlMAQObYZgAAAPRJREFU\n",
       "KM9jYCAOzEAXYJmAYHMvQAiv/7VqUSUDw2uELHsCgs2qwMDwfgIDO0KkA8nM/Q1AvICB5QBcJAxJ\n",
       "tl+AgcH/AANbAEyAswBJVhWIrwJtUoYJ8B1Akv3FwCCuBqTPwR3lgOT8Xx19V0AMc4a3d4HgDgMr\n",
       "0HNQJgPHRwaGXJAHp0JU72Lgh3l9FwMDE9A1HF9Abscmyw/Ux/IHWZbVACG7H+gGrs/IJjM5IGRB\n",
       "3pUH+dAd6koGngcwB4O9yx2egOwjzgtwDz36v2pVOdioSrhYIGacIkKSwQdTlqcBawxCQTqCybgA\n",
       "Q3YhElsCXZJjAwMAx6pAxZFXv1cAAAAASUVORK5CYII=\n",
       "\" style=\"display:inline;vertical-align:middle;\" /></a></td></tr>\n",
       "<tr><td>4</td><td>Operation</td><td>operator:&nbsp;5<br>operand:&nbsp;6<br></td><td><a class=\"ProveItLink\" href=\"../ae675f78e10e3fd96feecdc291358bfacffa4e410/expr.ipynb\"><img src=\"data:image/png;base64,iVBORw0KGgoAAAANSUhEUgAAAB0AAAAOBAMAAAAh/woJAAAAMFBMVEX///+qqqru7u7c3NyIiIgQ\n",
       "EBC6uroyMjJERESYmJhUVFTMzMx2dnYiIiJmZmYAAADtoHoAAAAAAXRSTlMAQObYZgAAAHpJREFU\n",
       "CNdjYIACzvW/Vq0oY0AA1gYGhvcJCP5+ByBegOD7GzAwzD+A4LcC8VUFBP8XA4N5E4LL/cvF7yaQ\n",
       "fnsXCO4wMLB8ZmDQhRm3i4GBIwAo9hPB5wfKcf5B8PdPYGDg+ojgg6y3L4AZDraeOxxh/Yv/q1aV\n",
       "A7UAAFRxJOZ+1MVPAAAAAElFTkSuQmCC\n",
       "\" style=\"display:inline;vertical-align:middle;\" /></a></td></tr>\n",
       "<tr><td>5</td><td>Literal</td><td></td><td><a class=\"ProveItLink\" href=\"../7bea79645543c2413aa17e787cca04e21046fde60/expr.ipynb\"><img src=\"data:image/png;base64,iVBORw0KGgoAAAANSUhEUgAAAAwAAAAGBAMAAAAFwGKyAAAAFVBMVEX///9UVFTMzMx2dnYiIiJm\n",
       "ZmYAAACWz4ZEAAAAAXRSTlMAQObYZgAAABRJREFUCNdjCHEBAmcGMFDEQzEBAEl+Ai6uYJv/AAAA\n",
       "AElFTkSuQmCC\n",
       "\" style=\"display:inline;vertical-align:middle;\" /></a></td></tr>\n",
       "<tr><td>6</td><td>Variable</td><td></td><td><a class=\"ProveItLink\" href=\"../../../../../__pv_it/077b2ff79244fb4582cbe22c6e3356fa92a52f2f0/expr.ipynb\"><img src=\"data:image/png;base64,iVBORw0KGgoAAAANSUhEUgAAABAAAAAOBAMAAADUAYG5AAAAMFBMVEX///+qqqru7u4iIiJ2dnbc\n",
       "3NyIiIjMzMxmZmYQEBC6uroyMjJERERUVFSYmJgAAADLUcuvAAAAAXRSTlMAQObYZgAAAGpJREFU\n",
       "CNdjYGB4+//u3dMLGIBgDgMDxy8gzf4NiP8CGWxfGRj4vgAZPBMYGJgnARn8FxhY9ygAGfXX0pof\n",
       "gDTlBzAw2YIYJ0EckBBI53sHoBH/gIz7AhBjWH9DjancBLTl/N+7t/cxMAAA3u4f/5xagjYAAAAA\n",
       "SUVORK5CYII=\n",
       "\" style=\"display:inline;vertical-align:middle;\" /></a></td></tr>\n",
       "</table>\n"
      ],
      "text/plain": [
       "0. [not]([not](B)) = B\n",
       "   core type: Operation\n",
       "   operator: 1\n",
       "   operands: 2\n",
       "1. =\n",
       "   core type: Literal\n",
       "   sub-expressions: \n",
       "2. ([not]([not](B)) , B)\n",
       "   core type: ExprTuple\n",
       "   sub-expressions: 3, 6\n",
       "3. [not]([not](B))\n",
       "   core type: Operation\n",
       "   operator: 5\n",
       "   operand: 4\n",
       "4. [not](B)\n",
       "   core type: Operation\n",
       "   operator: 5\n",
       "   operand: 6\n",
       "5. not\n",
       "   core type: Literal\n",
       "   sub-expressions: \n",
       "6. B\n",
       "   core type: Variable\n",
       "   sub-expressions: "
      ]
     },
     "execution_count": 4,
     "metadata": {},
     "output_type": "execute_result"
    }
   ],
   "source": [
    "# display the expression information\n",
    "expr.exprInfo()"
   ]
  },
  {
   "cell_type": "code",
   "execution_count": null,
   "metadata": {},
   "outputs": [],
   "source": []
  }
 ],
 "metadata": {
  "kernelspec": {
   "display_name": "Python 3",
   "language": "python",
   "name": "python3"
  }
 },
 "nbformat": 4,
 "nbformat_minor": 0
}
