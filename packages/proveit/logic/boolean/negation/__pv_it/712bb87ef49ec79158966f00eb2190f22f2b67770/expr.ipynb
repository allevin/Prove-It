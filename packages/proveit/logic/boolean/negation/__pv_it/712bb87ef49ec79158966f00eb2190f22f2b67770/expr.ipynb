{
 "cells": [
  {
   "cell_type": "markdown",
   "metadata": {},
   "source": [
    "Expression of type <a class=\"ProveItLink\" href=\"../../../../../../../doc/html/api/proveit.ExprTuple.html\">ExprTuple</a>\n",
    "=======================\n",
    "# from context <a class=\"ProveItLink\" href=\"../../_context_.ipynb\">proveit.logic.boolean.negation</a>"
   ]
  },
  {
   "cell_type": "code",
   "execution_count": 1,
   "metadata": {},
   "outputs": [],
   "source": [
    "# import Expression classes needed to build the expression\n",
    "from proveit import ExprTuple\n",
    "from proveit.logic import Booleans\n",
    "from proveit.logic.boolean.negation._theorems_ import notFalse"
   ]
  },
  {
   "cell_type": "code",
   "execution_count": 2,
   "metadata": {},
   "outputs": [
    {
     "data": {
      "text/html": [
       "<strong id=\"expr\">expr:</strong> <a class=\"ProveItLink\" href=\"expr.ipynb\"><img src=\"data:image/png;base64,iVBORw0KGgoAAAANSUhEUgAAAEEAAAAVBAMAAADrxp6XAAAAMFBMVEX////c3NwiIiJERESqqqqY\n",
       "mJh2dnZmZmYQEBDu7u4yMjJUVFTMzMyIiIi6uroAAAAs73DqAAAAAXRSTlMAQObYZgAAAO9JREFU\n",
       "KM9jYCAM+C7gkYwDEaeRBBhhqtnWW/1qMmFgYD8A5KxEUsFTAGMx812YNS2BgWEBAwPvBVwqeB8A\n",
       "pcMYGDgm4FLBErCTgWEGA8MrBpxmPDQA0g4MZThVHAoGGs9WwLAUlwql/71AmmUBQx/QS0ogkIBh\n",
       "yxWgLXwNDP9g2jegq2AweAYU+YBXBTNYRQt+FUBbTDFVTECyhXUBQzpM1wGYCs5PEBWstQZg3z6C\n",
       "exXkpSYlJQPOfgFQzH3W2AIU5HrAwCGAmR6QhIChzpqAoYIViZ2LFvsYKjiB0csgjaECKT1wCyCn\n",
       "K2zgDgMDAD+IRDIEx+O3AAAAAElFTkSuQmCC\n",
       "\" style=\"display:inline;vertical-align:middle;\" /></a><br>"
      ],
      "text/plain": [
       "expr: ([not](FALSE) , BOOLEANS)"
      ]
     },
     "execution_count": 2,
     "metadata": {},
     "output_type": "execute_result"
    }
   ],
   "source": [
    "# build up the expression from sub-expressions\n",
    "expr = ExprTuple(notFalse.expr, Booleans)"
   ]
  },
  {
   "cell_type": "code",
   "execution_count": 3,
   "metadata": {},
   "outputs": [
    {
     "name": "stdout",
     "output_type": "stream",
     "text": [
      "Passed sanity check: built 'expr' is the same as the stored Expression.\n"
     ]
    }
   ],
   "source": [
    "# check that the built expression is the same as the stored expression\n",
    "%check_expr"
   ]
  },
  {
   "cell_type": "code",
   "execution_count": 4,
   "metadata": {},
   "outputs": [
    {
     "data": {
      "text/html": [
       "<table><tr><th>&nbsp;</th><th>core type</th><th>sub-expressions</th><th>expression</th></tr>\n",
       "<tr><td>0</td><td>ExprTuple</td><td>1, 2</td><td><a class=\"ProveItLink\" href=\"expr.ipynb\"><img src=\"data:image/png;base64,iVBORw0KGgoAAAANSUhEUgAAAEEAAAAVBAMAAADrxp6XAAAAMFBMVEX////c3NwiIiJERESqqqqY\n",
       "mJh2dnZmZmYQEBDu7u4yMjJUVFTMzMyIiIi6uroAAAAs73DqAAAAAXRSTlMAQObYZgAAAO9JREFU\n",
       "KM9jYCAM+C7gkYwDEaeRBBhhqtnWW/1qMmFgYD8A5KxEUsFTAGMx812YNS2BgWEBAwPvBVwqeB8A\n",
       "pcMYGDgm4FLBErCTgWEGA8MrBpxmPDQA0g4MZThVHAoGGs9WwLAUlwql/71AmmUBQx/QS0ogkIBh\n",
       "yxWgLXwNDP9g2jegq2AweAYU+YBXBTNYRQt+FUBbTDFVTECyhXUBQzpM1wGYCs5PEBWstQZg3z6C\n",
       "exXkpSYlJQPOfgFQzH3W2AIU5HrAwCGAmR6QhIChzpqAoYIViZ2LFvsYKjiB0csgjaECKT1wCyCn\n",
       "K2zgDgMDAD+IRDIEx+O3AAAAAElFTkSuQmCC\n",
       "\" style=\"display:inline;vertical-align:middle;\" /></a></td></tr>\n",
       "<tr><td>1</td><td>Operation</td><td>operator:&nbsp;3<br>operand:&nbsp;4<br></td><td><a class=\"ProveItLink\" href=\"../01165fd25131c0df966b8e8c1626e275fd04f3050/expr.ipynb\"><img src=\"data:image/png;base64,iVBORw0KGgoAAAANSUhEUgAAABwAAAAOBAMAAADOPWE3AAAAIVBMVEX///9EREQQEBCIiIjc3NxU\n",
       "VFTMzMx2dnYiIiJmZmYAAADo3DW1AAAAAXRSTlMAQObYZgAAACVJREFUCNdjYIADZwYUkEll7owO\n",
       "IGhHlU2lgMuGbhHQgqaOjkYA4xoNxELsxwMAAAAASUVORK5CYII=\n",
       "\" style=\"display:inline;vertical-align:middle;\" /></a></td></tr>\n",
       "<tr><td>2</td><td>Literal</td><td></td><td><a class=\"ProveItLink\" href=\"../../../__pv_it/46271c8230be96415d662709611f4ed2279d702b0/expr.ipynb\"><img src=\"data:image/png;base64,iVBORw0KGgoAAAANSUhEUgAAAA0AAAAOBAMAAAAGUYvhAAAAMFBMVEX///9mZmbMzMzc3NxUVFSY\n",
       "mJju7u6IiIi6urqqqqoiIiIQEBBEREQyMjJ2dnYAAAAQvcRZAAAAAXRSTlMAQObYZgAAAElJREFU\n",
       "CNdjePvn/u01ExgYGA60s117B6YZKngh9FSWBAjfBsxnWnoMRHet/10AkS+fA6F5OB5AaIYDqDRU\n",
       "PLCGgQFoz6ktExgAgLIl8DFvGtkAAAAASUVORK5CYII=\n",
       "\" style=\"display:inline;vertical-align:middle;\" /></a></td></tr>\n",
       "<tr><td>3</td><td>Literal</td><td></td><td><a class=\"ProveItLink\" href=\"../7bea79645543c2413aa17e787cca04e21046fde60/expr.ipynb\"><img src=\"data:image/png;base64,iVBORw0KGgoAAAANSUhEUgAAAAwAAAAGBAMAAAAFwGKyAAAAFVBMVEX///9UVFTMzMx2dnYiIiJm\n",
       "ZmYAAACWz4ZEAAAAAXRSTlMAQObYZgAAABRJREFUCNdjCHEBAmcGMFDEQzEBAEl+Ai6uYJv/AAAA\n",
       "AElFTkSuQmCC\n",
       "\" style=\"display:inline;vertical-align:middle;\" /></a></td></tr>\n",
       "<tr><td>4</td><td>Literal</td><td></td><td><a class=\"ProveItLink\" href=\"../../../__pv_it/8f1f7fac882de28c72b62ab80a1700b6d8fd066b0/expr.ipynb\"><img src=\"data:image/png;base64,iVBORw0KGgoAAAANSUhEUgAAAA4AAAAOBAMAAADtZjDiAAAAG1BMVEX///9EREQQEBAiIiJmZmbM\n",
       "zMyIiIjc3NwAAACryk5kAAAAAXRSTlMAQObYZgAAABlJREFUCNdjYGBgKGOAgBBa0s7GxkbGxoYA\n",
       "FMUF2aBfHgoAAAAASUVORK5CYII=\n",
       "\" style=\"display:inline;vertical-align:middle;\" /></a></td></tr>\n",
       "</table>\n"
      ],
      "text/plain": [
       "0. ([not](FALSE) , BOOLEANS)\n",
       "   core type: ExprTuple\n",
       "   sub-expressions: 1, 2\n",
       "1. [not](FALSE)\n",
       "   core type: Operation\n",
       "   operator: 3\n",
       "   operand: 4\n",
       "2. BOOLEANS\n",
       "   core type: Literal\n",
       "   sub-expressions: \n",
       "3. not\n",
       "   core type: Literal\n",
       "   sub-expressions: \n",
       "4. FALSE\n",
       "   core type: Literal\n",
       "   sub-expressions: "
      ]
     },
     "execution_count": 4,
     "metadata": {},
     "output_type": "execute_result"
    }
   ],
   "source": [
    "# display the expression information\n",
    "expr.exprInfo()"
   ]
  },
  {
   "cell_type": "code",
   "execution_count": null,
   "metadata": {},
   "outputs": [],
   "source": []
  }
 ],
 "metadata": {
  "kernelspec": {
   "display_name": "Python 3",
   "language": "python",
   "name": "python3"
  }
 },
 "nbformat": 4,
 "nbformat_minor": 0
}
