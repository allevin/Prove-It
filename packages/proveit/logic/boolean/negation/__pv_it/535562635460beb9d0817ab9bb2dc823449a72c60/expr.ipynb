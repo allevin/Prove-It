{
 "cells": [
  {
   "cell_type": "markdown",
   "metadata": {},
   "source": [
    "Expression of type <a class=\"ProveItLink\" href=\"../../../../../../../doc/html/api/proveit.Lambda.html\">Lambda</a>\n",
    "=======================\n",
    "# from context <a class=\"ProveItLink\" href=\"../../_context_.ipynb\">proveit.logic.boolean.negation</a>"
   ]
  },
  {
   "cell_type": "code",
   "execution_count": 1,
   "metadata": {},
   "outputs": [],
   "source": [
    "# import Expression classes needed to build the expression\n",
    "from proveit import Lambda\n",
    "from proveit._common_ import A\n",
    "from proveit.logic import Equals, FALSE, Not"
   ]
  },
  {
   "cell_type": "code",
   "execution_count": 2,
   "metadata": {},
   "outputs": [
    {
     "data": {
      "text/html": [
       "<strong id=\"expr\">expr:</strong> <a class=\"ProveItLink\" href=\"expr.ipynb\"><img src=\"data:image/png;base64,iVBORw0KGgoAAAANSUhEUgAAAL8AAAAVCAMAAAAgs8+8AAAANlBMVEX///92dnYUFBQNDQ0QEBBE\n",
       "RERUVFS6urqIiIhmZmaqqqrc3Nzu7u6YmJgyMjIiIiLMzMwAAACuIkBbAAAAAXRSTlMAQObYZgAA\n",
       "AbtJREFUSMfVl9tyhCAMhqXlfBLe/2XbnVYlBzXs2IvmJjuD+fNtDASX5T9YTM/qOQ/9uRU3Lc6E\n",
       "KIlKW6UZmoX+Si00mWY6SkFDWH7MW7uUv2bo2Wc2tSqsSRhiRfyIt6w9y1J5Dz3bBLtaUdP8JITj\n",
       "R7wphi7cJTpDz3XDoZb1ND8JYfgxr198l+01V6FnX9GgZuIsPwlh+BGvy0vs5aQDI5ALCnruL45q\n",
       "Kkzz4xDKj3jz9wOtH/2MtrYdO6UW6KlBtbgXI9TB7AV/rDf8mPe1nno44892aDXtgA/rbopVc3q6\n",
       "/jiE8CPeZl/Wzb7++bEC00OvbT/JdjnGAlBrfZofh2B+zPuzrOtZ/Rc7CNzyI7U/4EcZfrfnqs/4\n",
       "w3hS6Qg95sdqRzOE8ZWa9/sHZUiRDDTI38CgMgV6xE/USp2uf7ncvyhD3h42x0CDkxXOqe1wo+di\n",
       "Y9WePj9hhmR0r6/2KKb3KknlVuhBaRi1ejMWf7tKD12FQwb+eV56f0jQX5vw/nAZotzyoG3XK9nN\n",
       "TPnpBCTkWX7R/Zl060T5Zffn9y1Z6K/Mzn/60ZCH+fePpXTbG75NizMh/pT/Cx/5Fatdww6aAAAA\n",
       "AElFTkSuQmCC\n",
       "\" style=\"display:inline;vertical-align:middle;\" /></a><br>"
      ],
      "text/plain": [
       "expr: A -> ([not](A) = FALSE) | A"
      ]
     },
     "execution_count": 2,
     "metadata": {},
     "output_type": "execute_result"
    }
   ],
   "source": [
    "# build up the expression from sub-expressions\n",
    "expr = Lambda(A, Equals(Not(A), FALSE), conditions = [A])"
   ]
  },
  {
   "cell_type": "code",
   "execution_count": 3,
   "metadata": {},
   "outputs": [
    {
     "name": "stdout",
     "output_type": "stream",
     "text": [
      "Passed sanity check: built 'expr' is the same as the stored Expression.\n"
     ]
    }
   ],
   "source": [
    "# check that the built expression is the same as the stored expression\n",
    "%check_expr"
   ]
  },
  {
   "cell_type": "code",
   "execution_count": 4,
   "metadata": {},
   "outputs": [
    {
     "data": {
      "text/html": [
       "<table><tr><th>&nbsp;</th><th>core type</th><th>sub-expressions</th><th>expression</th></tr>\n",
       "<tr><td>0</td><td>Lambda</td><td>parameter:&nbsp;8<br>body:&nbsp;1<br>conditions:&nbsp;2<br></td><td><a class=\"ProveItLink\" href=\"expr.ipynb\"><img src=\"data:image/png;base64,iVBORw0KGgoAAAANSUhEUgAAAL8AAAAVCAMAAAAgs8+8AAAANlBMVEX///92dnYUFBQNDQ0QEBBE\n",
       "RERUVFS6urqIiIhmZmaqqqrc3Nzu7u6YmJgyMjIiIiLMzMwAAACuIkBbAAAAAXRSTlMAQObYZgAA\n",
       "AbtJREFUSMfVl9tyhCAMhqXlfBLe/2XbnVYlBzXs2IvmJjuD+fNtDASX5T9YTM/qOQ/9uRU3Lc6E\n",
       "KIlKW6UZmoX+Si00mWY6SkFDWH7MW7uUv2bo2Wc2tSqsSRhiRfyIt6w9y1J5Dz3bBLtaUdP8JITj\n",
       "R7wphi7cJTpDz3XDoZb1ND8JYfgxr198l+01V6FnX9GgZuIsPwlh+BGvy0vs5aQDI5ALCnruL45q\n",
       "Kkzz4xDKj3jz9wOtH/2MtrYdO6UW6KlBtbgXI9TB7AV/rDf8mPe1nno44892aDXtgA/rbopVc3q6\n",
       "/jiE8CPeZl/Wzb7++bEC00OvbT/JdjnGAlBrfZofh2B+zPuzrOtZ/Rc7CNzyI7U/4EcZfrfnqs/4\n",
       "w3hS6Qg95sdqRzOE8ZWa9/sHZUiRDDTI38CgMgV6xE/USp2uf7ncvyhD3h42x0CDkxXOqe1wo+di\n",
       "Y9WePj9hhmR0r6/2KKb3KknlVuhBaRi1ejMWf7tKD12FQwb+eV56f0jQX5vw/nAZotzyoG3XK9nN\n",
       "TPnpBCTkWX7R/Zl060T5Zffn9y1Z6K/Mzn/60ZCH+fePpXTbG75NizMh/pT/Cx/5Fatdww6aAAAA\n",
       "AElFTkSuQmCC\n",
       "\" style=\"display:inline;vertical-align:middle;\" /></a></td></tr>\n",
       "<tr><td>1</td><td>Operation</td><td>operator:&nbsp;3<br>operands:&nbsp;4<br></td><td><a class=\"ProveItLink\" href=\"../440ab3b6c4ed204fcd21437bce4804cb1d19d7680/expr.ipynb\"><img src=\"data:image/png;base64,iVBORw0KGgoAAAANSUhEUgAAAFYAAAAVBAMAAAAutAQGAAAAMFBMVEX////c3NwiIiJERESqqqqY\n",
       "mJh2dnZmZmYQEBDu7u4yMjJUVFTMzMyIiIi6uroAAAAs73DqAAAAAXRSTlMAQObYZgAAAPtJREFU\n",
       "KM9jYCAF8F1AE2B9gFPtaRTeISCuwaJKFkyuRBFbD8RcWNQeBxG8KE5g1Z8AJBJwqOWYgCwkUi/A\n",
       "wMDZgEPtKxShC/dBHjPBobYMJUwm+AcAqXQcapcii8xjOA9yvheIXbUKBFYjq+1jYGBXAgGQhx4w\n",
       "yBcAqRc4zP0H5fBsAOLdu/cbANnniVDLBwyWBXjUtiCpdWBgYGqAuaEI7DJlZLWmCLWMQLVcH4Ds\n",
       "KBzmwsPnAMMsIMn8E0+YPYJzhfsXMrDa/wIGxDo0hUDnaICcwyGAYQa2OIakFsyEwnYBV/pdiSEy\n",
       "C2dal8YQ2YhTLSO6jbwHcKgEAHTqQSVZei7lAAAAAElFTkSuQmCC\n",
       "\" style=\"display:inline;vertical-align:middle;\" /></a></td></tr>\n",
       "<tr><td>2</td><td>ExprTuple</td><td>8</td><td><a class=\"ProveItLink\" href=\"../b7d96af9ad4b1093cdfbc7f0db04afd2340d5b5e0/expr.ipynb\"><img src=\"data:image/png;base64,iVBORw0KGgoAAAANSUhEUgAAABwAAAAVBAMAAACnLJNvAAAAMFBMVEX////c3NwiIiJERESqqqqY\n",
       "mJh2dnZmZmYQEBDu7u4yMjJUVFTMzMyIiIi6uroAAAAs73DqAAAAAXRSTlMAQObYZgAAAMBJREFU\n",
       "GNNjYEADfBdgLNYHQOI0hH0IiGuAeCWEux6IuRgYeCFqWfUnAIkEBo4JYK5IvQADA2cDwyuI2gv3\n",
       "QeaYMJRBjJ/gHwCk0hmWgrnzGM6DzPBi6ANzHzDIFwCpFwz/QDye3bv3GwDp8xAuHwMDxwIwtwXE\n",
       "dWBgYGoAKzYFkoxALtcHICMKaDYDwywgZv4JtugRA4Nw/0IGVvtfQKPXMXAIIPwKdCTQ2XDAdgHu\n",
       "QQaoGdII7kaQLfDA4T3AAAAlziv4kp0h2wAAAABJRU5ErkJggg==\n",
       "\" style=\"display:inline;vertical-align:middle;\" /></a></td></tr>\n",
       "<tr><td>3</td><td>Literal</td><td></td><td><a class=\"ProveItLink\" href=\"../../../../equality/__pv_it/2fb26078095930560931daa0500ce419a39ea6cd0/expr.ipynb\"><img src=\"data:image/png;base64,iVBORw0KGgoAAAANSUhEUgAAAA4AAAAFBAMAAACHocAhAAAAFVBMVEX///9EREQiIiJUVFQyMjJm\n",
       "ZmYAAADubVkoAAAAAXRSTlMAQObYZgAAABRJREFUCNdjCHEBAWcGXCBICQQUAUpuAwlgGKrkAAAA\n",
       "AElFTkSuQmCC\n",
       "\" style=\"display:inline;vertical-align:middle;\" /></a></td></tr>\n",
       "<tr><td>4</td><td>ExprTuple</td><td>5, 6</td><td><a class=\"ProveItLink\" href=\"../9cadf16b99db99e3ad753877d4acc76c090470f30/expr.ipynb\"><img src=\"data:image/png;base64,iVBORw0KGgoAAAANSUhEUgAAAEMAAAAVBAMAAADvM06qAAAAMFBMVEX////c3NwiIiJERESqqqqY\n",
       "mJh2dnZmZmYQEBDu7u4yMjJUVFTMzMyIiIi6uroAAAAs73DqAAAAAXRSTlMAQObYZgAAAP9JREFU\n",
       "KM9jYCAC8F3AJxsHIk6jCB1CMGVBBPsBILESRcl6BPM4mFzAwMCLYg+r/gQ0JWEMDBwTkJWI1Aug\n",
       "KZnBwPAKxZ4L9x+gKWF2YChD8d0E/wA0JWwFDEuRlcxjOH8BTQnLAoY+oMeUQCAByH/AIF+ApoSv\n",
       "geEfVIBnAxDv3r3fAE0JzwcUJXxADy7AVNKCpMSBgYGpAdMiU4QSRqASrg8MDBOQlbAuYEiHaTrA\n",
       "MAsUDD8ZOD+hefoR3GDh/oUMrPa/Cjj7gSFcpKSkoaSkDDT2AQOHAGbyQBYCRgBrAoYSVmROLkZi\n",
       "QFfCCQoEaQwlyMmDG2QpI96EeYeBAQB99D7W42+NogAAAABJRU5ErkJggg==\n",
       "\" style=\"display:inline;vertical-align:middle;\" /></a></td></tr>\n",
       "<tr><td>5</td><td>Operation</td><td>operator:&nbsp;7<br>operand:&nbsp;8<br></td><td><a class=\"ProveItLink\" href=\"../2c81ead3bf46a86573cd5304798392177b4792b40/expr.ipynb\"><img src=\"data:image/png;base64,iVBORw0KGgoAAAANSUhEUgAAABwAAAAOBAMAAADOPWE3AAAAMFBMVEX///8QEBBERES6urqIiIiq\n",
       "qqrc3Nzu7u6YmJgyMjJUVFTMzMx2dnYiIiJmZmYAAADMbjvTAAAAAXRSTlMAQObYZgAAAGNJREFU\n",
       "CNdjYEAA7gsMyIDzAwq39zsyjy3uGzKXheUzMtec9QcSj92A+wsDw9u7QHAHyGVmYPsHldkFwqtW\n",
       "fULiGjAwSCK4rEDqIoKbCqTmw1zLwD4BSOkXwFyk+DOBoen/PABSrhtHsYt+gAAAAABJRU5ErkJg\n",
       "gg==\n",
       "\" style=\"display:inline;vertical-align:middle;\" /></a></td></tr>\n",
       "<tr><td>6</td><td>Literal</td><td></td><td><a class=\"ProveItLink\" href=\"../../../__pv_it/8f1f7fac882de28c72b62ab80a1700b6d8fd066b0/expr.ipynb\"><img src=\"data:image/png;base64,iVBORw0KGgoAAAANSUhEUgAAAA4AAAAOBAMAAADtZjDiAAAAG1BMVEX///9EREQQEBAiIiJmZmbM\n",
       "zMyIiIjc3NwAAACryk5kAAAAAXRSTlMAQObYZgAAABlJREFUCNdjYGBgKGOAgBBa0s7GxkbGxoYA\n",
       "FMUF2aBfHgoAAAAASUVORK5CYII=\n",
       "\" style=\"display:inline;vertical-align:middle;\" /></a></td></tr>\n",
       "<tr><td>7</td><td>Literal</td><td></td><td><a class=\"ProveItLink\" href=\"../7bea79645543c2413aa17e787cca04e21046fde60/expr.ipynb\"><img src=\"data:image/png;base64,iVBORw0KGgoAAAANSUhEUgAAAAwAAAAGBAMAAAAFwGKyAAAAFVBMVEX///9UVFTMzMx2dnYiIiJm\n",
       "ZmYAAACWz4ZEAAAAAXRSTlMAQObYZgAAABRJREFUCNdjCHEBAmcGMFDEQzEBAEl+Ai6uYJv/AAAA\n",
       "AElFTkSuQmCC\n",
       "\" style=\"display:inline;vertical-align:middle;\" /></a></td></tr>\n",
       "<tr><td>8</td><td>Variable</td><td></td><td><a class=\"ProveItLink\" href=\"../../../../../__pv_it/2cbe72a7ad6f655694dd697106680215e8489b600/expr.ipynb\"><img src=\"data:image/png;base64,iVBORw0KGgoAAAANSUhEUgAAAA8AAAAOBAMAAAACpFvcAAAALVBMVEX///8QEBBERERUVFS6urqI\n",
       "iIhmZmaqqqrc3Nzu7u6YmJgyMjIiIiLMzMwAAADtIaYWAAAAAXRSTlMAQObYZgAAAFtJREFUCNdj\n",
       "YACBOwxQsA9Kc52bAGG05zVAGAFxDmCaZULdAjBjCsO9ADDDgaEvAUTzGhvbKYCVMDAwbgAxChgY\n",
       "eASANAeQwf0AyJgNxEwvGRia5HYwcOm9TgAA6BoR3jrzwFcAAAAASUVORK5CYII=\n",
       "\" style=\"display:inline;vertical-align:middle;\" /></a></td></tr>\n",
       "</table>\n"
      ],
      "text/plain": [
       "0. A -> ([not](A) = FALSE) | A\n",
       "   core type: Lambda\n",
       "   parameter: 8\n",
       "   body: 1\n",
       "   conditions: 2\\n1. [not](A) = FALSE\n",
       "   core type: Operation\n",
       "   operator: 3\n",
       "   operands: 4\n",
       "2. (A)\n",
       "   core type: ExprTuple\n",
       "   sub-expressions: 8\n",
       "3. =\n",
       "   core type: Literal\n",
       "   sub-expressions: \n",
       "4. ([not](A) , FALSE)\n",
       "   core type: ExprTuple\n",
       "   sub-expressions: 5, 6\n",
       "5. [not](A)\n",
       "   core type: Operation\n",
       "   operator: 7\n",
       "   operand: 8\n",
       "6. FALSE\n",
       "   core type: Literal\n",
       "   sub-expressions: \n",
       "7. not\n",
       "   core type: Literal\n",
       "   sub-expressions: \n",
       "8. A\n",
       "   core type: Variable\n",
       "   sub-expressions: "
      ]
     },
     "execution_count": 4,
     "metadata": {},
     "output_type": "execute_result"
    }
   ],
   "source": [
    "# display the expression information\n",
    "expr.exprInfo()"
   ]
  },
  {
   "cell_type": "code",
   "execution_count": null,
   "metadata": {},
   "outputs": [],
   "source": []
  }
 ],
 "metadata": {
  "kernelspec": {
   "display_name": "Python 3",
   "language": "python",
   "name": "python3"
  }
 },
 "nbformat": 4,
 "nbformat_minor": 0
}
