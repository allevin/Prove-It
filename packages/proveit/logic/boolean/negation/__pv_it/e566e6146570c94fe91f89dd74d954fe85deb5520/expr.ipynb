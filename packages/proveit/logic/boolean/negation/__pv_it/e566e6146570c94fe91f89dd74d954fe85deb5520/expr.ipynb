{
 "cells": [
  {
   "cell_type": "markdown",
   "metadata": {},
   "source": [
    "Expression of type <a class=\"ProveItLink\" href=\"../../../../../../../doc/html/api/proveit.logic.Equals.html\">Equals</a>\n",
    "=======================\n",
    "# from context <a class=\"ProveItLink\" href=\"../../_context_.ipynb\">proveit.logic.boolean.negation</a>"
   ]
  },
  {
   "cell_type": "code",
   "execution_count": 1,
   "metadata": {},
   "outputs": [],
   "source": [
    "# import Expression classes needed to build the expression\n",
    "from proveit._common_ import A\n",
    "from proveit.logic import Equals, Not"
   ]
  },
  {
   "cell_type": "code",
   "execution_count": 2,
   "metadata": {},
   "outputs": [
    {
     "data": {
      "text/html": [
       "<strong id=\"expr\">expr:</strong> <a class=\"ProveItLink\" href=\"expr.ipynb\"><img src=\"data:image/png;base64,iVBORw0KGgoAAAANSUhEUgAAAHUAAAAVBAMAAACK3rzVAAAAMFBMVEX////c3NwiIiJERESqqqqY\n",
       "mJh2dnZmZmYQEBDu7u4yMjJUVFTMzMyIiIi6uroAAAAs73DqAAAAAXRSTlMAQObYZgAAAUJJREFU\n",
       "OMulky9PA0EQxaeQg9K0zSXgKkj6BagADRoDGnUOi6oioQINpysIiIoioOgKGiyi9w1oUKQKWwRh\n",
       "dmfuZvZuV/FL3u2bfbfJ/gX4D+3MZ4loQQrx7rXIG+qSVcWkMJZ67KTPqAariklbMs+WM+VoL8VP\n",
       "Qqpg03pa1MoiO1cxwNaAVMGmS6mXTpp9mE3aZ5WxaV/qvrP96ckpNues8uHYdCQdI53ewdws/5gF\n",
       "m4+WiU5vsLtrSLQFWMDuBTZfrBKU/nLVnGgLzen0tYd+znLhNDC2jdt+HxzL6bUMUBaOANYGes60\n",
       "mm7P/sHpgQxQtoZp4xv9GcshT4sDmGk7xO/6KnRGefopXWK3bx8gOvzBrXwCkqZI67HcybiyKcE7\n",
       "SZc68dmcjYwUIPgG85UNw2+/47XMCytALfNZftEzkp8/Ux1nJ3cYqMoAAAAASUVORK5CYII=\n",
       "\" style=\"display:inline;vertical-align:middle;\" /></a><br>"
      ],
      "text/plain": [
       "expr: [not]([not](A)) = A"
      ]
     },
     "execution_count": 2,
     "metadata": {},
     "output_type": "execute_result"
    }
   ],
   "source": [
    "# build up the expression from sub-expressions\n",
    "expr = Equals(Not(Not(A)), A)"
   ]
  },
  {
   "cell_type": "code",
   "execution_count": 3,
   "metadata": {},
   "outputs": [
    {
     "name": "stdout",
     "output_type": "stream",
     "text": [
      "Passed sanity check: built 'expr' is the same as the stored Expression.\n"
     ]
    }
   ],
   "source": [
    "# check that the built expression is the same as the stored expression\n",
    "%check_expr"
   ]
  },
  {
   "cell_type": "code",
   "execution_count": 4,
   "metadata": {},
   "outputs": [
    {
     "data": {
      "text/html": [
       "<table><tr><th>&nbsp;</th><th>core type</th><th>sub-expressions</th><th>expression</th></tr>\n",
       "<tr><td>0</td><td>Operation</td><td>operator:&nbsp;1<br>operands:&nbsp;2<br></td><td><a class=\"ProveItLink\" href=\"expr.ipynb\"><img src=\"data:image/png;base64,iVBORw0KGgoAAAANSUhEUgAAAHUAAAAVBAMAAACK3rzVAAAAMFBMVEX////c3NwiIiJERESqqqqY\n",
       "mJh2dnZmZmYQEBDu7u4yMjJUVFTMzMyIiIi6uroAAAAs73DqAAAAAXRSTlMAQObYZgAAAUJJREFU\n",
       "OMulky9PA0EQxaeQg9K0zSXgKkj6BagADRoDGnUOi6oioQINpysIiIoioOgKGiyi9w1oUKQKWwRh\n",
       "dmfuZvZuV/FL3u2bfbfJ/gX4D+3MZ4loQQrx7rXIG+qSVcWkMJZ67KTPqAariklbMs+WM+VoL8VP\n",
       "Qqpg03pa1MoiO1cxwNaAVMGmS6mXTpp9mE3aZ5WxaV/qvrP96ckpNues8uHYdCQdI53ewdws/5gF\n",
       "m4+WiU5vsLtrSLQFWMDuBTZfrBKU/nLVnGgLzen0tYd+znLhNDC2jdt+HxzL6bUMUBaOANYGes60\n",
       "mm7P/sHpgQxQtoZp4xv9GcshT4sDmGk7xO/6KnRGefopXWK3bx8gOvzBrXwCkqZI67HcybiyKcE7\n",
       "SZc68dmcjYwUIPgG85UNw2+/47XMCytALfNZftEzkp8/Ux1nJ3cYqMoAAAAASUVORK5CYII=\n",
       "\" style=\"display:inline;vertical-align:middle;\" /></a></td></tr>\n",
       "<tr><td>1</td><td>Literal</td><td></td><td><a class=\"ProveItLink\" href=\"../../../../equality/__pv_it/2fb26078095930560931daa0500ce419a39ea6cd0/expr.ipynb\"><img src=\"data:image/png;base64,iVBORw0KGgoAAAANSUhEUgAAAA4AAAAFBAMAAACHocAhAAAAFVBMVEX///9EREQiIiJUVFQyMjJm\n",
       "ZmYAAADubVkoAAAAAXRSTlMAQObYZgAAABRJREFUCNdjCHEBAWcGXCBICQQUAUpuAwlgGKrkAAAA\n",
       "AElFTkSuQmCC\n",
       "\" style=\"display:inline;vertical-align:middle;\" /></a></td></tr>\n",
       "<tr><td>2</td><td>ExprTuple</td><td>3, 6</td><td><a class=\"ProveItLink\" href=\"../d90243984ad24b3f9f85907c321e4d2777d2f4bb0/expr.ipynb\"><img src=\"data:image/png;base64,iVBORw0KGgoAAAANSUhEUgAAAGAAAAAVBAMAAABLWfZ5AAAAMFBMVEX////c3NwiIiJERESqqqqY\n",
       "mJh2dnZmZmYQEBDu7u4yMjJUVFTMzMyIiIi6uroAAAAs73DqAAAAAXRSTlMAQObYZgAAAS5JREFU\n",
       "OMtjYCAZ8F3AxoQA1gdY+KcR/NMosoeAuAYLfyVCaCWKhvVAzIXJ50U4gxfFRaz6E4BEAgafYwJc\n",
       "CIkJBCL1AgwMnA0Y/FcIJa9QXHThPsiHJhj8MoSSMpTAm+AfAKTSMfhLEWqWImuYx3Ae5CUvDH4f\n",
       "AwO7EggkIDMZGB4wyBcAqRcwDXD+P6gAzwZkJgPP7t37DYDs8zAxOB+HBj5goC1A0oDgtyBUITEZ\n",
       "HBgYmBqQnITgmyJUITEZgQq4PgDZUQwMoNhB4sPD7QAycxaQZP4JDkbOT0AKif8IEZIIpnD/QgZW\n",
       "+1/AYFnHwNkvgMLnEEAkDQGMtA9KGnwCKHzk5JWAoYENGFmsaHycyZsB6nZWNL40giuNoWEjKNWh\n",
       "8RkRAozoWZT3AAYfAJjbZJzn/+VHAAAAAElFTkSuQmCC\n",
       "\" style=\"display:inline;vertical-align:middle;\" /></a></td></tr>\n",
       "<tr><td>3</td><td>Operation</td><td>operator:&nbsp;5<br>operand:&nbsp;4<br></td><td><a class=\"ProveItLink\" href=\"../1402334a33158525da829a77129fd462405ae6cf0/expr.ipynb\"><img src=\"data:image/png;base64,iVBORw0KGgoAAAANSUhEUgAAADkAAAAVBAMAAAAOWFv7AAAAMFBMVEX////c3NxERESqqqqYmJgQ\n",
       "EBDu7u4yMjKIiIi6urpUVFTMzMx2dnYiIiJmZmYAAABjE816AAAAAXRSTlMAQObYZgAAAOFJREFU\n",
       "KM9jYCAOzEAX8ERicy9AluG+wMDAtwHBZ09AlmX/ACQKEPwOFFN9vwEJHwQ/DFmS0e4jkEyF8zkL\n",
       "kGU5OH4CSSYDGJ/vALLsNOYvQJLnAdwZDkiSbBO4fwAp5gKGt3eB4A4D6wQGGBNoDQPjPxAVAFG8\n",
       "i4F/AgOMCcSrVn0CefoDVlkgOxxFltUAIcsMpK6imMzkgJAVBlL1QMwC9SU3wvXcDGwgQf0EZB9x\n",
       "XoCHk+p3AQan/3VAX06A+zEQM04RIYkc5DBwAlcMgkMMKegZF6DLcgkgcSTQZbsZGAAzQjehLLGe\n",
       "5wAAAABJRU5ErkJggg==\n",
       "\" style=\"display:inline;vertical-align:middle;\" /></a></td></tr>\n",
       "<tr><td>4</td><td>Operation</td><td>operator:&nbsp;5<br>operand:&nbsp;6<br></td><td><a class=\"ProveItLink\" href=\"../2c81ead3bf46a86573cd5304798392177b4792b40/expr.ipynb\"><img src=\"data:image/png;base64,iVBORw0KGgoAAAANSUhEUgAAABwAAAAOBAMAAADOPWE3AAAAMFBMVEX///8QEBBERES6urqIiIiq\n",
       "qqrc3Nzu7u6YmJgyMjJUVFTMzMx2dnYiIiJmZmYAAADMbjvTAAAAAXRSTlMAQObYZgAAAGNJREFU\n",
       "CNdjYEAA7gsMyIDzAwq39zsyjy3uGzKXheUzMtec9QcSj92A+wsDw9u7QHAHyGVmYPsHldkFwqtW\n",
       "fULiGjAwSCK4rEDqIoKbCqTmw1zLwD4BSOkXwFyk+DOBoen/PABSrhtHsYt+gAAAAABJRU5ErkJg\n",
       "gg==\n",
       "\" style=\"display:inline;vertical-align:middle;\" /></a></td></tr>\n",
       "<tr><td>5</td><td>Literal</td><td></td><td><a class=\"ProveItLink\" href=\"../7bea79645543c2413aa17e787cca04e21046fde60/expr.ipynb\"><img src=\"data:image/png;base64,iVBORw0KGgoAAAANSUhEUgAAAAwAAAAGBAMAAAAFwGKyAAAAFVBMVEX///9UVFTMzMx2dnYiIiJm\n",
       "ZmYAAACWz4ZEAAAAAXRSTlMAQObYZgAAABRJREFUCNdjCHEBAmcGMFDEQzEBAEl+Ai6uYJv/AAAA\n",
       "AElFTkSuQmCC\n",
       "\" style=\"display:inline;vertical-align:middle;\" /></a></td></tr>\n",
       "<tr><td>6</td><td>Variable</td><td></td><td><a class=\"ProveItLink\" href=\"../../../../../__pv_it/2cbe72a7ad6f655694dd697106680215e8489b600/expr.ipynb\"><img src=\"data:image/png;base64,iVBORw0KGgoAAAANSUhEUgAAAA8AAAAOBAMAAAACpFvcAAAALVBMVEX///8QEBBERERUVFS6urqI\n",
       "iIhmZmaqqqrc3Nzu7u6YmJgyMjIiIiLMzMwAAADtIaYWAAAAAXRSTlMAQObYZgAAAFtJREFUCNdj\n",
       "YACBOwxQsA9Kc52bAGG05zVAGAFxDmCaZULdAjBjCsO9ADDDgaEvAUTzGhvbKYCVMDAwbgAxChgY\n",
       "eASANAeQwf0AyJgNxEwvGRia5HYwcOm9TgAA6BoR3jrzwFcAAAAASUVORK5CYII=\n",
       "\" style=\"display:inline;vertical-align:middle;\" /></a></td></tr>\n",
       "</table>\n"
      ],
      "text/plain": [
       "0. [not]([not](A)) = A\n",
       "   core type: Operation\n",
       "   operator: 1\n",
       "   operands: 2\n",
       "1. =\n",
       "   core type: Literal\n",
       "   sub-expressions: \n",
       "2. ([not]([not](A)) , A)\n",
       "   core type: ExprTuple\n",
       "   sub-expressions: 3, 6\n",
       "3. [not]([not](A))\n",
       "   core type: Operation\n",
       "   operator: 5\n",
       "   operand: 4\n",
       "4. [not](A)\n",
       "   core type: Operation\n",
       "   operator: 5\n",
       "   operand: 6\n",
       "5. not\n",
       "   core type: Literal\n",
       "   sub-expressions: \n",
       "6. A\n",
       "   core type: Variable\n",
       "   sub-expressions: "
      ]
     },
     "execution_count": 4,
     "metadata": {},
     "output_type": "execute_result"
    }
   ],
   "source": [
    "# display the expression information\n",
    "expr.exprInfo()"
   ]
  },
  {
   "cell_type": "code",
   "execution_count": null,
   "metadata": {},
   "outputs": [],
   "source": []
  }
 ],
 "metadata": {
  "kernelspec": {
   "display_name": "Python 3",
   "language": "python",
   "name": "python3"
  }
 },
 "nbformat": 4,
 "nbformat_minor": 0
}
