{
 "cells": [
  {
   "cell_type": "markdown",
   "metadata": {},
   "source": [
    "Theorem Dependencies\n",
    "=======================\n",
    "\n",
    "## <a class=\"ProveItLink\" href=\"../../_context_.ipynb\">proveit.logic.boolean.negation</a>.<a class=\"ProveItLink\" href=\"../../_theorems_.ipynb#untrueFromNegation\">untrueFromNegation</a> \n",
    "***see <a class=\"ProveItLink\" href=\"../../_proofs_/untrueFromNegation.ipynb\">proof</a>***"
   ]
  },
  {
   "cell_type": "code",
   "execution_count": 1,
   "metadata": {},
   "outputs": [],
   "source": [
    "from proveit.logic.boolean.negation._theorems_ import untrueFromNegation"
   ]
  },
  {
   "cell_type": "code",
   "execution_count": 2,
   "metadata": {},
   "outputs": [
    {
     "data": {
      "text/html": [
       "<h3>Axioms required (directly or indirectly) to prove untrueFromNegation</h3>"
      ],
      "text/plain": [
       "<IPython.core.display.HTML object>"
      ]
     },
     "metadata": {},
     "output_type": "display_data"
    },
    {
     "data": {
      "text/html": [
       "<dl>"
      ],
      "text/plain": [
       "<IPython.core.display.HTML object>"
      ]
     },
     "metadata": {},
     "output_type": "display_data"
    },
    {
     "data": {
      "text/html": [
       "<dt><a class=\"ProveItLink\" href=\"../../../_axioms_.ipynb#eqTrueElim\">proveit.logic.boolean.eqTrueElim</a></dt><dd><a class=\"ProveItLink\" href=\"../../../__pv_it/3e7bd867633eab3d515d0929d36506bc9b5772e10/expr.ipynb\"><img src=\"data:image/png;base64,iVBORw0KGgoAAAANSUhEUgAAAGgAAAAWBAMAAADeGsQjAAAAMFBMVEX///8QEBC6urrMzMxUVFRm\n",
       "ZmZERETc3NwyMjKqqqp2dnaIiIiYmJgiIiLu7u4AAAAU9Wx4AAAAAXRSTlMAQObYZgAAAUpJREFU\n",
       "OMtjeMBABrgAIk6ToIEZqGMliNFHgiaODwwMZUCaPYEETWf/ATUCPcU6gXg97FO/MzDwLC8vryXB\n",
       "Im7uT0DyW1raLRI06XH+AZLODAzpYG47mGSCe7gAmx4+BebfQEqFga8BxOX5BBZlg0mfV4AyWNPS\n",
       "xNKyoBwmBvavQIqXgfsAiPv0D4omvvgDCPMRoWvi4vIN5LMDvOBUse4qiiautwHYNAGtlwAZ2WAC\n",
       "jugNaSiarNkSsGjiBOKLIEa6E4hkYYhF0eTAeoHBowMINiBrqgTifhBjKjj5nWTYj6yJZwL3B0yb\n",
       "wEGWD/INI8gsvquhYA5M09vQsH8YmtgTfxQwHPvfCjIUpJi1gMHeAElTOAPzZ4YMDOehAh0GBv4D\n",
       "CE1MQPYfbKGHDJ58Y2D3vwPXxOefwFDy9wABTQjARk5Opp8mFiLUAADNR1FAr8G4iQAAAABJRU5E\n",
       "rkJggg==\n",
       "\" style=\"display:inline;vertical-align:middle;\" /></a></dd>"
      ],
      "text/plain": [
       "<IPython.core.display.HTML object>"
      ]
     },
     "metadata": {},
     "output_type": "display_data"
    },
    {
     "data": {
      "text/html": [
       "<dt><a class=\"ProveItLink\" href=\"../../../_axioms_.ipynb#eqTrueIntro\">proveit.logic.boolean.eqTrueIntro</a></dt><dd><a class=\"ProveItLink\" href=\"../../../__pv_it/d0cb838f1f1e44deadf0499da151f8dae5a0de4f0/expr.ipynb\"><img src=\"data:image/png;base64,iVBORw0KGgoAAAANSUhEUgAAAIwAAAAXBAMAAAArT7qNAAAAMFBMVEX///8QEBC6urrMzMxUVFRm\n",
       "ZmZERETc3NwyMjKqqqp2dnaIiIiYmJgiIiLu7u4AAAAU9Wx4AAAAAXRSTlMAQObYZgAAAaxJREFU\n",
       "OMtjYKAOeEBYCdMG/PI8CgwMF0CM03iVmUAoW3Rx1rtgkMAQzMCwEiTQh9cYqGw/FinmABDJwcBQ\n",
       "BqTYE/CZwg3xE8/9B7iM4VnAwAGUZJ2AzxhGiPbK+AJcxvAJMPAsLy+vxesnDQi1Yb8CLmMYMhkY\n",
       "vqWl3cJrTBQkuh7MP4DTmKUMDM4MDOlgdjtEOUxFO4zRAyYfMdiDw4i1AwwcUIyZwcCgwsDXAA6n\n",
       "T2ARNlhi+AQzRghMKjDUB+B0jSIDAy8DN9i1T/+gGAPlAgHYPGYXF/8EnMbYA+PzAC84KtZdRTEG\n",
       "yoUZA/QrYwM+Y/gawKmUeUMasjEwLhBIgghgkuAVQEm6aJ5iSHcCsVgYYpGNgXGBIAeUQIHGcHzA\n",
       "6ZoTQDwVnK1OMuxHNgbGhcQmwwuQzD98Ec7ACIpIvquh+Q8QxsC5QKALzDHy7Qw8+T8wo4p5AZhq\n",
       "AkUtSD1rAYO9AcIYOBdkTQGhkoRPAMbSYWDgP4AwBs6FZDwCgAtWID35xsDufwduDIJLuBiBhhwa\n",
       "YMMUKiFkjDtRxrATKES5DYgyhhzAQpYuAAUAaqwIkhhoAAAAAElFTkSuQmCC\n",
       "\" style=\"display:inline;vertical-align:middle;\" /></a></dd>"
      ],
      "text/plain": [
       "<IPython.core.display.HTML object>"
      ]
     },
     "metadata": {},
     "output_type": "display_data"
    },
    {
     "data": {
      "text/html": [
       "<dt><a class=\"ProveItLink\" href=\"../../../_axioms_.ipynb#falseNotTrue\">proveit.logic.boolean.falseNotTrue</a></dt><dd><a class=\"ProveItLink\" href=\"../../../__pv_it/f59624db7a785c6991878af6495d446012e672150/expr.ipynb\"><img src=\"data:image/png;base64,iVBORw0KGgoAAAANSUhEUgAAADoAAAAUCAMAAADrw95cAAAAOVBMVEX///8LCwsYGBgNDQ0oKCju\n",
       "7u6qqqq6urpUVFQyMjJ2dnZEREQQEBAiIiJmZmbMzMyIiIjc3NwAAAAE5KaWAAAAAXRSTlMAQObY\n",
       "ZgAAAIBJREFUOMvFk90OwBAMRrtff1Pz/i+7TCQzdOjNvguR6skhKYBWtP8+9yd5op492iQmFh1S\n",
       "qBR5Jesl0VQ6iJbSXtQZ4KLGDaOoQtblXiXHWpP2oUICF1WegYa5maf33AxY69IetP7SpDeO9FFe\n",
       "jZCC063PtiNwYzcu+YsURLPjAkzNBut5ZocxAAAAAElFTkSuQmCC\n",
       "\" style=\"display:inline;vertical-align:middle;\" /></a></dd>"
      ],
      "text/plain": [
       "<IPython.core.display.HTML object>"
      ]
     },
     "metadata": {},
     "output_type": "display_data"
    },
    {
     "data": {
      "text/html": [
       "<dt><a class=\"ProveItLink\" href=\"../../_axioms_.ipynb#negationElim\">proveit.logic.boolean.negation.negationElim</a></dt><dd><a class=\"ProveItLink\" href=\"../3b08940eb52ec7364a09d58733ea5eec05fbe9620/expr.ipynb\"><img src=\"data:image/png;base64,iVBORw0KGgoAAAANSUhEUgAAAJcAAAAXBAMAAAD0AcCSAAAAMFBMVEX///8QEBC6urrMzMxUVFRm\n",
       "ZmZERETc3NwyMjKqqqp2dnaIiIiYmJgiIiLu7u4AAAAU9Wx4AAAAAXRSTlMAQObYZgAAAbxJREFU\n",
       "OMtjYKAmeECsQqYN+OUPAfEFEOM0EYaZQChbLFLVIILVgIFhJYjRR4RhUDX9WKRMwWQDA0MZkGJP\n",
       "IGwWN8SXPPcf4DLsFAMDB1CSdQJhwxghhlTGF+Ay7CHQquXl5bVE+FIDQm3Yr4DLMDagk76lpd0i\n",
       "wrAoSJQ+mH8Al2FcAQwMzgwM6WBOO0Q5qrp2GKMHTD5isAeHXUQHCLSgGMYJjAEVBr4GcNB+gjgW\n",
       "xSyoIBAIgUkFhvoAXC5jEmBg4GXgBrv86R8shkEFgQBsKrOLi38CLsOYPwDj/AAvOKLWXcViGFQQ\n",
       "ZhgwDBgb8BnG1wBO28wb0jANgwkCgSSIAMYXrwCIEXsXBK5heJMh3QnEZGGIxTQMJggEOaDEDTSM\n",
       "4wMul/GA3DwVnD1PMuxHMmxZWlpaA0IQCJYC8QuQ/D98SYOBERTZfFdD8x+guiwBIQgEusCcJ9/O\n",
       "wJP/Ay06gT6+CPYxByg584DUsxYw2BugGwYXBFlZQChZP4SzdBgY+A+gGwYXBFm5gJBhq2GMJ98Y\n",
       "2P3voBpmgBAkppjiw5Jm2HApLiFgGEsBCYaxEyi2NzOQYBg5gIUCvQCemG+1sUJnVwAAAABJRU5E\n",
       "rkJggg==\n",
       "\" style=\"display:inline;vertical-align:middle;\" /></a></dd>"
      ],
      "text/plain": [
       "<IPython.core.display.HTML object>"
      ]
     },
     "metadata": {},
     "output_type": "display_data"
    },
    {
     "data": {
      "text/html": [
       "<dt><a class=\"ProveItLink\" href=\"../../../../equality/_axioms_.ipynb#equalsTransitivity\">proveit.logic.equality.equalsTransitivity</a></dt><dd><a class=\"ProveItLink\" href=\"../../../../equality/__pv_it/15953cfebb497c481d8be77ed0e16c42a27f82610/expr.ipynb\"><img src=\"data:image/png;base64,iVBORw0KGgoAAAANSUhEUgAAANEAAAAXBAMAAABnpbd1AAAAMFBMVEX///8QEBC6urrMzMxUVFRm\n",
       "ZmZERETc3NwyMjKqqqp2dnaIiIiYmJgiIiLu7u4AAAAU9Wx4AAAAAXRSTlMAQObYZgAAAoBJREFU\n",
       "SMe9VUtoE1EUPZOZZvLrJLQLFVFScKFUMcVC3UglhQotSFYiFiGrVqyLQcQoogQRKihF0Lqwm8GN\n",
       "n0AIWAO2ooNQBD+QlYggRBeKuokIdtOF976Zya+daOHhgXDe3Jt55913PwP8N1TlbdXv73pBvwov\n",
       "XssQUg/6+7pSwANezMpQCnW6njxwlkjPylBa6uR85Zyk64YMpe2dnJ+A2L1c7qIMoUC+kzdIwfye\n",
       "nPwgQ6nLojQUDs1PtDv6evQSIhlgBJjyO+aGCsIGvuOtvY0fjl5lXOGlfurxESBMEe+A4Rd3cCNK\n",
       "ShKw8Bw32+wGjMN06ATQjagtQyme5DEwuo7nDDdbDaTTXZWlBGxdJwcZV8nID9KqkF6gNg6UobDs\n",
       "gdnzDaXIQv+IN2+yopZdEoPh/Ve3RRRm/RfdFuH4R8Y74bgj5Oj2MJWm3aqj/M8fcXOA7ellq6FU\n",
       "1LJbNE7wNaO0otIbghwLtN3HvAugHLyM1vCsLaSwBY2aiWthrsJVdp2tl/agLNzfmm4vGfLyqH+u\n",
       "RLN1chPudT3VcXg1mKCKbsX+5TeXhZfCFr4VYR7DuNgy2ZynuOm9pVlaqUECp+vpqMCYLj582p6m\n",
       "TOwnHSbEO8Y4M2pCZXMPepn2YahJaQCpoHNXSlJJiYJWPIuaUr1zbPrLNHIwHMlHcM5Eb6BGpI7t\n",
       "ytaV1Np9WF7PpPZCnxHkYvDu7aYh6o+Ct/jyZKKIYRu3ynmiaGCzWVcypucWvTYIj5+AuirIRalv\n",
       "5l++Gu3DwdZNToDt2085TmPMoTXQO3wJNbP1o2kGrZ1MvkoneWAPObQWF/yVHrU+xhBesph8leYX\n",
       "OXKHpEKTudkfgDCcYn7TElEAAAAASUVORK5CYII=\n",
       "\" style=\"display:inline;vertical-align:middle;\" /></a></dd>"
      ],
      "text/plain": [
       "<IPython.core.display.HTML object>"
      ]
     },
     "metadata": {},
     "output_type": "display_data"
    },
    {
     "data": {
      "text/html": [
       "<dt><a class=\"ProveItLink\" href=\"../../../../equality/_axioms_.ipynb#substitution\">proveit.logic.equality.substitution</a></dt><dd><a class=\"ProveItLink\" href=\"../../../../equality/__pv_it/8d36a51e21a3e1f2d1a576f0cfdfe721d403af1e0/expr.ipynb\"><img src=\"data:image/png;base64,iVBORw0KGgoAAAANSUhEUgAAAO8AAAAXBAMAAAARnwX+AAAAMFBMVEX///8QEBC6urrMzMxUVFRm\n",
       "ZmZERETc3NwyMjKqqqp2dnaIiIiYmJgiIiLu7u4AAAAU9Wx4AAAAAXRSTlMAQObYZgAAAvdJREFU\n",
       "SMfFVj1oFEEUfvef293bHKayECJYpIk5wcYqRyRGTBPUQgyiNonCgVuI8QfNIggWEq5QsLttDglB\n",
       "OTAemhRZJIVoc7UorE0QLXIYMIUiznszO7O3uznJQfDBm/123jfzZt+99+YA/pd4vS5MNqLYGPw3\n",
       "/63QFr586MHxURzMyQmJUc7EEEOcTInrIr4s9OCY1mQXf3es74shhjk21xvskbu0e786RW7zcFVi\n",
       "irUTZYY577n2sR85U9294wQlRy2AKazFKDPM+cLVeDY3d7eHSA/ReCGASa5GmWFOtsr158zMxx4c\n",
       "n8dh/cC4j28v33rFolmPEBXHrDsw74E2BaTHAWYxSOON6O5dquMRjb98bDrGpwSrkKeUuA9JytDJ\n",
       "0ZJtWAPI21wPgYl5llmZiu7eJen24ZDb8rEGejvPiuRghKg4xzItmGEFXeRaAN1lhkLc13Vx/AOH\n",
       "fNvHJqSJPBohKo6XaODnp9pcdbeACdfv9eBYaymcaMQ7DnBqXmpLOTZt7CnGtWk0L40ts3glmyL7\n",
       "uWM+SW2vKctiPyVoWeH5ErZfCnXmMwlfHeCcA72oQg2zY2h4R6fzTiRYon/vt46oL6bJk5gtDWkA\n",
       "qKivRGxYa6B7YpvOgpcceECnMGyu8IRiQXWQ5Ml6bxiayrGY7DAI/uagj2vuZbgDceWkOHAWRlyQ\n",
       "5SSOVOG0bRpPwWTwN96Wu/gGgGEcRjwfb6x8W8IcvR9xrDiwsXrRYr1ykCsYniwPSBVT/GUg4Bgn\n",
       "r1CopYEdl20BrwN4p5bZwXmuWqa/4g/ATWtUszX2gIFkWzmmSSG+ga4Do1wJXw1auAsFOemWiSm2\n",
       "JBTEVzEP7sab6RfsAY+btnJMk0J8A11ziYVW8IpE+RpJrQCn4GQdoHZl2upk+Gu7HLs5K92IrWNp\n",
       "YHIdjLolsZCJsOMgJ796mj3TFldxga+zSk3x15SVdYbiG4g04CECUfWxXtq54/icl0LF/xEMuiEO\n",
       "yY7mxDuWhr2W8t5t/RfNBeNeS11EOAAAAABJRU5ErkJggg==\n",
       "\" style=\"display:inline;vertical-align:middle;\" /></a></dd>"
      ],
      "text/plain": [
       "<IPython.core.display.HTML object>"
      ]
     },
     "metadata": {},
     "output_type": "display_data"
    },
    {
     "data": {
      "text/html": [
       "</dl>"
      ],
      "text/plain": [
       "<IPython.core.display.HTML object>"
      ]
     },
     "metadata": {},
     "output_type": "display_data"
    },
    {
     "data": {
      "text/html": [
       "<h3>Theorems that depend directly on untrueFromNegation</h3>"
      ],
      "text/plain": [
       "<IPython.core.display.HTML object>"
      ]
     },
     "metadata": {},
     "output_type": "display_data"
    },
    {
     "data": {
      "text/html": [
       "<dl>"
      ],
      "text/plain": [
       "<IPython.core.display.HTML object>"
      ]
     },
     "metadata": {},
     "output_type": "display_data"
    },
    {
     "data": {
      "text/html": [
       "<dt><a class=\"ProveItLink\" href=\"../../../implication/_proofs_/falseAntecedentImplication.ipynb\">proveit.logic.boolean.implication.falseAntecedentImplication</a></dt><dd><a class=\"ProveItLink\" href=\"../../../implication/__pv_it/8be317972ff0b2b1f99933ef964216bcfdb5f6b20/expr.ipynb\"><img src=\"data:image/png;base64,iVBORw0KGgoAAAANSUhEUgAAAK8AAAAXBAMAAACPJQJeAAAAMFBMVEX///8QEBC6urrMzMxUVFRm\n",
       "ZmZERETc3NwyMjKqqqp2dnaIiIiYmJgiIiLu7u4AAAAU9Wx4AAAAAXRSTlMAQObYZgAAAnVJREFU\n",
       "OMu1VT9oE2EU/6WX66XNH4OD4KIZHBwUTxCcJEGDFBzSJYtQrINXBzEZxOogPRwMiGgWXe2iVgQJ\n",
       "6NYhURz8M9jBOIhiKgpultK09Q/V996X613uUpqj+OC+78v73ff7vvfe712A/2Wt0DsGapu+8pye\n",
       "OV68CUN8SE1HemEv/ubzZzPQTeAh/74Zhrjz8q2e4A5AXwRs4CL9MsZD8MZVJhKfWz3yqf2mZwl4\n",
       "DcTIqVdDEEcUy+VT5UAQdOoKHfkLmKfpweTklTCZ2KumWj3j+vY4i8E0kNxFM1112bI+hCE+qaTR\n",
       "uttwfcOOULblYFyjkIZHgWPAhDgrMt5pF4+bsrWbr+Isbsj4BVkh0z+JtTtg9sTsGB84ZHMYKVuq\n",
       "saiKkkY8LVF18XZQsu0yZjA16oGHrqq5XkbqHd+KU4K4BPXtj0B6DgMrQeIOSiYnaPl8oUtK39V5\n",
       "p5mc6LQFKmQjKXV+3BQoWYM+FyTuoA4x5Slie2DtutIKKQ1vpxVxypZW0mqWQD9MvCwHiB2UbCcP\n",
       "VPRk2pPj94pX47gKVZUKTBxlXxRjgh2YfXoeAWIHJTvHHUV7YwueFOdcGRurXBIO57ZE/gp1wWaA\n",
       "Zy2X+L5lWbaLkt3jjDK+5hJf8sj4IHcLyw0R1k2qWSwJ3xnKRrX7xuMuSrafPgO7K0iUVl1ZKL1C\n",
       "Ly3lR0SOMe6eBG/Ry8iKfH9SNkw/8TrK9ygHm8b0O+bXV/uoaxpGBcYajCb8xII6ip7uoz0fOYuv\n",
       "yzAKH6moM+3iSNVHbCo08MXZ2FK2z5HwrAc32nVhc+KoP12H+yE2Nv9reuJ3NPoh3qpFt7b9Hycq\n",
       "oineXiTpAAAAAElFTkSuQmCC\n",
       "\" style=\"display:inline;vertical-align:middle;\" /></a></dd>"
      ],
      "text/plain": [
       "<IPython.core.display.HTML object>"
      ]
     },
     "metadata": {},
     "output_type": "display_data"
    },
    {
     "data": {
      "text/html": [
       "</dl>"
      ],
      "text/plain": [
       "<IPython.core.display.HTML object>"
      ]
     },
     "metadata": {},
     "output_type": "display_data"
    }
   ],
   "source": [
    "%dependencies untrueFromNegation"
   ]
  }
 ],
 "metadata": {
  "kernelspec": {
   "display_name": "Python 3",
   "language": "python",
   "name": "python3"
  }
 },
 "nbformat": 4,
 "nbformat_minor": 0
}
