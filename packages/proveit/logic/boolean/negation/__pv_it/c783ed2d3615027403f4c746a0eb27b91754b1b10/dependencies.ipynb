{
 "cells": [
  {
   "cell_type": "markdown",
   "metadata": {},
   "source": [
    "Axiom Dependencies\n",
    "=======================\n",
    "\n",
    "## <a class=\"ProveItLink\" href=\"../../_context_.ipynb\">proveit.logic.boolean.negation</a>.<a class=\"ProveItLink\" href=\"../../_axioms_.ipynb#doubleNegationIntro\">doubleNegationIntro</a> \n"
   ]
  },
  {
   "cell_type": "code",
   "execution_count": 1,
   "metadata": {},
   "outputs": [],
   "source": [
    "from proveit.logic.boolean.negation._axioms_ import doubleNegationIntro"
   ]
  },
  {
   "cell_type": "code",
   "execution_count": 2,
   "metadata": {},
   "outputs": [
    {
     "data": {
      "text/html": [
       "<h3>Theorems that depend directly on doubleNegationIntro</h3>"
      ],
      "text/plain": [
       "<IPython.core.display.HTML object>"
      ]
     },
     "metadata": {},
     "output_type": "display_data"
    },
    {
     "data": {
      "text/html": [
       "<dl>"
      ],
      "text/plain": [
       "<IPython.core.display.HTML object>"
      ]
     },
     "metadata": {},
     "output_type": "display_data"
    },
    {
     "data": {
      "text/html": [
       "<dt><a class=\"ProveItLink\" href=\"../../../implication/_proofs_/contraposeNegConsequent.ipynb\">proveit.logic.boolean.implication.contraposeNegConsequent</a></dt><dd><a class=\"ProveItLink\" href=\"../../../implication/__pv_it/6078702a7da903abb1b8c4d5e1e467e6a43b28050/expr.ipynb\"><img src=\"data:image/png;base64,iVBORw0KGgoAAAANSUhEUgAAAR4AAAAXBAMAAAAvnz2ZAAAAMFBMVEX///8QEBC6urrMzMxUVFRm\n",
       "ZmZERETc3NwyMjKqqqp2dnaIiIiYmJgiIiLu7u4AAAAU9Wx4AAAAAXRSTlMAQObYZgAAA9ZJREFU\n",
       "SMfNVk1oE1EQnmSbbJvdboMe1INapYhQpTkIiiIJNv7cKkoqiLVV6FZR2oDSVsQ2ClIpoj2oVDyY\n",
       "S/1BKDnoQXroigj+HKyHepDWFlERa1Vqf1Ri9c372X3bxOjBgAPzdt+8mTffm5k3uwD/GY3mb+vy\n",
       "HGve1ByBXsp4ACdP8gFHiRAPVZPRLaeyLK5xzTYS3sn4Js7P5QNPIYbeUwdQW5q56PZ4HtUZN5OH\n",
       "WpcPPH04hElewhEhMsSL5kqXPkKg60nKeApfVz7wLMGhPw7wNOkKGZLHVbbHaomWEaSsX29pOZEP\n",
       "ON4EjvsIP7Ode0WkVrpUU/2Y0YOMp03zxd97OeKa5Yqrj0ZlEqC10RHe4s/dLuSjVy3y6GFcCdBA\n",
       "xR10vDQV2xKiWnaQ446pKkLP1NYLeUeWckYfymTfnSE6rRlGGtnOFs/Kmq9olUE34zIwaGT1CVZb\n",
       "QdCC+OIX6k+l62ELmVqAL3Fb0Ds7T1uiRHBNmwEYj0i+u5nFPBI/ChDPVwrtCHMZ42LQ6BZv0izM\n",
       "EfDOyK6NWsvZ7oqdDarGTsJtx2J7IJUcW841StCznxxNS0t4jJMU0ITUo5RotAoveJixZhXTeusd\n",
       "pBrFKfANyHgC4yzGl3FoEPtytUo2Q1ttf9tHgifwQcZTgj3xu4RnXS/MxUMKw5Nw8BgJ2iuVlEk1\n",
       "PoXgYVzGs8HPupMfpUGxL1frA9v2Ab0pyfK9Il9Y7GES24JvTv0M89peJOEhesVBJ1/QsAlXCqCG\n",
       "alT03W50lUqExKHaNM0D84l5QuDhamVg29KlVGyxyK7f4u2nPeGE5wJ/HnbwqARP4Wfy/pDzRZqe\n",
       "R9BPNW4A3BuV8Ohd2mdeMjuxfwQQmq22DoStkmTx8W0Qed7O2o+y0Ol9qoDWIyQheIe+Zp37Dh68\n",
       "bMZgrIna1ZNcdEl4xmPVs/ws9fGiiAgdV6N4qK3y3DQPYf0ERFchx6z+GY2eka6DX7SO1baoeWkH\n",
       "6E1fCXj87CLriMMXhzBtOyTZFSEJzy5QvsCdGKHNxEedwMPVVoCwNSIsPjYeWJDlky9ePPGMNf69\n",
       "4LSK3AVL7QB1FtRBqX685HRp+EjoPQmjMcCXhNpjaI0zW9jK83VcbPk4R/PWkxmiQIoxpdfToFYN\n",
       "KWm4MRXb1uXgMUhnOPrDsv9YXvJjCrUd5AYxW3hbSvuhaWV8PLNR5h/OO84u2JClFXNqw+HuHCGp\n",
       "T9v/NVI/MqmRHHiOZki2cpZpbQ48lN66p0UpUOK/9Xk8Bx517v+qFmLsIutPeIos17TAHdK8UkFW\n",
       "6X3XrPefe/0F5HYUzl+ODtEAAAAASUVORK5CYII=\n",
       "\" style=\"display:inline;vertical-align:middle;\" /></a></dd>"
      ],
      "text/plain": [
       "<IPython.core.display.HTML object>"
      ]
     },
     "metadata": {},
     "output_type": "display_data"
    },
    {
     "data": {
      "text/html": [
       "<dt><a class=\"ProveItLink\" href=\"../../../implication/_proofs_/doubleNegateConsequent.ipynb\">proveit.logic.boolean.implication.doubleNegateConsequent</a></dt><dd><a class=\"ProveItLink\" href=\"../../../implication/__pv_it/5767d1c0ef1182a54aeee5a2e750e25bc67669310/expr.ipynb\"><img src=\"data:image/png;base64,iVBORw0KGgoAAAANSUhEUgAAASUAAAAXBAMAAAC/jERWAAAAMFBMVEX///8QEBC6urrMzMxUVFRm\n",
       "ZmZERETc3NwyMjKqqqp2dnaIiIiYmJgiIiLu7u4AAAAU9Wx4AAAAAXRSTlMAQObYZgAAA5tJREFU\n",
       "SMfNV01oE0EU/pLtJm2yWYOC4EEt4kFQaQTBg0iDxh/w0ILdCuK/dCsoJofiD6INghaL2FwUPJmL\n",
       "WhEkop56aBQFfw56sD34g6uoiNoq9ldbqzOzm8zLpg09BOqDt/O679uZb9578zIF/kOxyjudNzMt\n",
       "XzHsPtHn/MXTsnFaaQ9rSvhc5oO/sdj+aqgR5PU6f3++bJycmTpK+NwLzmVEfgJJ5PUwG/y7y0Up\n",
       "aOdEe2sVV0cw44YJUcaYDgJPkNdK9omaKhcnj03g2K5EcUw8lhtm8xthe/gNvENetWtHjpwoW+qW\n",
       "2EOmu1q+W1zoc5nwhYHQAjampA6b5suycdpmnyrrcla+C2Soz21iVhT+MyxugXqp64Bm4WwTz4tD\n",
       "xoaIsHJbrSR5qIobDftcOCrnxPM9agUP9Y2QIepzm6jd3LWD76AqKXUx9KSoy592eYYRDAsrV/jP\n",
       "SB5wD7jlwmnt7adzYZnt7Ka1nnxTdSrns0mmqYnuBPQXPLhhqSEExYwfx8WXahTeEcpJ30XygAag\n",
       "JkFwX43tyKS/LnLcYl9KLFZXcJI/z877uDtKTexhYzdbQvkhNZgNiVNws0fAQhmozymnQJ+950vi\n",
       "+QrYQXDBvSf7GafAN8rJyw5WklBS2q0SnAZ5KtKFnPSkaKpKxhSw7xE8SlBOq3224eNv9QFobQT3\n",
       "UJyy9NKdziLz+IMdnFCY1FOvJX02EWIqPD11qcLcoXktd1c4+6/punMIlFOUhaPRNM39c3gIxro2\n",
       "WAQnwpEx5ufSe5B3YLZA5Q9STlHpc4gQk7cn/ygvy6RUXBCpeoxuAetkdWwRTloq6MyvbmGJTEJb\n",
       "IHFK2o6TutpZ5AqvHh7UCcnpKPEJiVCTt6cVvK3SXgAPP7d6jxEXVJpYWlKEU5/R6MyvNCXgq4f+\n",
       "C3mc0muaB3g9BZw1lrMfq4Vt0OKj8uA1Sx+KTDU+GNskWkNltVRonIuaQK1oN2zFmgjhtBXKAO4a\n",
       "TNbzBpeCdwB5nB6145Tn5EkU99FIsW8yGPltcWQZWy/rb4N/Av4eUk9eVinj6GfyhYez1cKJekjc\n",
       "Rid3x51ptPTUPZ74JoPdICrkwzD8da/ZGegcMjalJCedNZqWP9nclSfQYTScBSTuU7XomWZ2skvI\n",
       "NO8qThtMSi3cCv3DdYE5OSnuKqsnKi0lOLWUglUkpBbIqhKcpsQViL/E3Zf4imG3iRZIdpqcsjP1\n",
       "30N0phb+B8aXLJccXCjCAAAAAElFTkSuQmCC\n",
       "\" style=\"display:inline;vertical-align:middle;\" /></a></dd>"
      ],
      "text/plain": [
       "<IPython.core.display.HTML object>"
      ]
     },
     "metadata": {},
     "output_type": "display_data"
    },
    {
     "data": {
      "text/html": [
       "<dt><a class=\"ProveItLink\" href=\"../../../implication/_proofs_/fromContraposition.ipynb\">proveit.logic.boolean.implication.fromContraposition</a></dt><dd><a class=\"ProveItLink\" href=\"../../../implication/__pv_it/78c93fb60140b5e457f2a03028e627593208d1b10/expr.ipynb\"><img src=\"data:image/png;base64,iVBORw0KGgoAAAANSUhEUgAAARkAAAAXBAMAAADNQybgAAAAMFBMVEX///8QEBC6urrMzMxUVFRm\n",
       "ZmZERETc3NwyMjKqqqp2dnaIiIiYmJgiIiLu7u4AAAAU9Wx4AAAAAXRSTlMAQObYZgAAA8VJREFU\n",
       "SMfNVktoE1EUPcl0mubTsbgQXKhFRASVRhAVRBo0qOCiXXQQxE9VTAXFZiHWD9ooaLCIzULdKBgE\n",
       "tVKQiO66aBQFPwtdWBd+MIpKwS/a2vpBve/dmbyXpLUujPhg5r155965Z+7vDfBfjdy/MePNjCly\n",
       "ja57YnGn7Gzm8rRoJOz6z2h0cy3MMHBBPB8tOxvHQueI4ATA/AgkgB305GsuN5kgByr0NDdCjhjf\n",
       "6BoAbgNVtGmmys3Gw6Z3rYuXuIuoDhHPr8Azms63te0te6Bm8JTprVV709xFZQ1QPZlmcsrnWOzh\n",
       "b97jC+tP/lEh/2/ZrOLCyp3Oqr2AW2bjIvAdIucFGoElQIvcTMr7iUF7qbTiZdHdrrVWu2kjjLRm\n",
       "YrdaJl2ExUrGEXl/jnrJwHwix6AD1q/oWSNY+hPCYVZCZthHTrQaBGuk/1g0n+BXgUvAGc2Eyn2h\n",
       "e0YXk5sdHQddV4yX91q0N+ruPMBzbxzWffH9ImIISp2X3yVkRuAdUmz8+a7VBNTF0a+9TDU0oduv\n",
       "i+G1vRqZ9OupjoD8UiMabSio3n4muV4wIg7GB8robLVM+It9EqrOwLyn2FTmi+ARsAaokFH0pwog\n",
       "qcuIIxbcsO8dsQm80dlQ7D0JjYzRwZVGxY27aWZjJWSfNDIxCb0P42ZcsfG4qtYnhJL5xtGiQ6zL\n",
       "iCN2Q1ZQeuZaR2KiuNEnVNdoefOAyRgiKA0pjhRaFou9CvFJNOp6rmyDYrMgf9B861lK2t6IGaOx\n",
       "P6xBrOuNaGLSBRl7kps3W0UJksGqD1qkI6rd+IZFogmt4zIwt9ArsS5KxJxiQ03hHFlPIJBAiHqC\n",
       "4bjaDiuIdRlhMS6wTNpc6Fg+C06syh+KzU6t3cwRrVBUODzCxVaf3SpJbKJgpRSbY275VDbC+qLY\n",
       "zFupINZlhMWMB7HYFpE3AcfibDqCpiQRah1WRcV9BWbrQHS57ABVojWGBAszjnqZhmSxLqzYTHdN\n",
       "jkvB+4ki0Ry0aTQ1ahDremW5sJgVYd/k2XjipT0oXLzxLL+aRS/K+pLw/YCvT8ubt67J9hz2EoVQ\n",
       "2npHo1uHpC4h2Bl3xZY5kdrjNqT0Hxwf3e7ixWf4Gh5TdncN2stTGhuufoQDnXbTYeFDedAYEQ1i\n",
       "XYHUZ12xV7Wy+8WyJUfk6MNKFG2EtDWzCRYd71V8QuVKIYGoU+gc5Y0+to/NpqI4mvNL2FhFvz4n\n",
       "tW9pLkaM+OiH79h/opeLN7IlbHCqUCKirU8VI6Hy/ZJUOMErSP2A/lNfAAX+xu/+L8/qEhBQYpUZ\n",
       "AAAAAElFTkSuQmCC\n",
       "\" style=\"display:inline;vertical-align:middle;\" /></a></dd>"
      ],
      "text/plain": [
       "<IPython.core.display.HTML object>"
      ]
     },
     "metadata": {},
     "output_type": "display_data"
    },
    {
     "data": {
      "text/html": [
       "<dt><a class=\"ProveItLink\" href=\"../../_proofs_/falsifiedNegationIntro.ipynb\">proveit.logic.boolean.negation.falsifiedNegationIntro</a></dt><dd><a class=\"ProveItLink\" href=\"../0a898dc3f07db2505917584ca4d38262de97a12d0/expr.ipynb\"><img src=\"data:image/png;base64,iVBORw0KGgoAAAANSUhEUgAAAKoAAAAXBAMAAABpDMkaAAAAMFBMVEX///8QEBC6urrMzMxUVFRm\n",
       "ZmZERETc3NwyMjKqqqp2dnaIiIiYmJgiIiLu7u4AAAAU9Wx4AAAAAXRSTlMAQObYZgAAAfRJREFU\n",
       "OMu1lL9Lw1AQx6+2scWmsbg5iAoODgoZXKWigmMFcRFEpxZBsINYHMTiUgdRF8FNFxEXyX/QjoqL\n",
       "i4soFlHoKB2Kg4h370d+NS/tUL/wJe9y9z5J7r08gH9RrX1Jj8XtkT6iKqfMIw0eQqlTwo6m0UsB\n",
       "lXH2bMzc0PU4lHrcUnGCTgRURheBZ3boEeth0KTF7frGN+ybfqmiYiaBBdppGDVS43a0u1YAMNIq\n",
       "Kmb062JxL7QB48KOrAot1YaKSplmLvccSl0RdvZE7aKKlyslFTNzAHk2LvMpsqIsB0fCtt4hQ20+\n",
       "p7F2yDTjoWJmDIwS63GD3emVK9KQkAFu7ZVESzQC+zR7VPmumElBkr4HPn88VBGiGsJsGr5UdH4+\n",
       "S5smo6RiJllNsQW+ffJQRRhAxR5FSu2oRon9N1Er56bKEDUoLKm4DVNp2QHel9d1fwcgP0ujGKy6\n",
       "qTJEbQoLahypiS8c3ynflTJn7Ci4h4qbKkOxg+xdZEKdin7b7SyI0DYxnpa3ag7VDlGTwlw7w2XQ\n",
       "t75x+oEPSc0YYs2gjE7TtQJkTIdqh/TUArdPQX+sPzMB0F91qHbID4ugo6TPUlHtzEcT4tkXm+qE\n",
       "wSchqa78xQMyva23toW9WlBSFzqi0gkf939v0lSex2ZH1C4o1g3IH53jglvBqe5jAAAAAElFTkSu\n",
       "QmCC\n",
       "\" style=\"display:inline;vertical-align:middle;\" /></a></dd>"
      ],
      "text/plain": [
       "<IPython.core.display.HTML object>"
      ]
     },
     "metadata": {},
     "output_type": "display_data"
    },
    {
     "data": {
      "text/html": [
       "</dl>"
      ],
      "text/plain": [
       "<IPython.core.display.HTML object>"
      ]
     },
     "metadata": {},
     "output_type": "display_data"
    }
   ],
   "source": [
    "%dependencies doubleNegationIntro"
   ]
  }
 ],
 "metadata": {
  "kernelspec": {
   "display_name": "Python 3",
   "language": "python",
   "name": "python3"
  }
 },
 "nbformat": 4,
 "nbformat_minor": 0
}
