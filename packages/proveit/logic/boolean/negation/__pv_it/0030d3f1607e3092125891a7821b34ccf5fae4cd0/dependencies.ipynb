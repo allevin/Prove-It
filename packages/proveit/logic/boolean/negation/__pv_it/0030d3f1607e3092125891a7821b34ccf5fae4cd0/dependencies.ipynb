{
 "cells": [
  {
   "cell_type": "markdown",
   "metadata": {},
   "source": [
    "Axiom Dependencies\n",
    "=======================\n",
    "\n",
    "## <a class=\"ProveItLink\" href=\"../../_context_.ipynb\">proveit.logic.boolean.negation</a>.<a class=\"ProveItLink\" href=\"../../_axioms_.ipynb#doubleNegationElim\">doubleNegationElim</a> \n"
   ]
  },
  {
   "cell_type": "code",
   "execution_count": 1,
   "metadata": {},
   "outputs": [],
   "source": [
    "from proveit.logic.boolean.negation._axioms_ import doubleNegationElim"
   ]
  },
  {
   "cell_type": "code",
   "execution_count": 2,
   "metadata": {},
   "outputs": [
    {
     "data": {
      "text/html": [
       "<h3>Theorems that depend directly on doubleNegationElim</h3>"
      ],
      "text/plain": [
       "<IPython.core.display.HTML object>"
      ]
     },
     "metadata": {},
     "output_type": "display_data"
    },
    {
     "data": {
      "text/html": [
       "<dl>"
      ],
      "text/plain": [
       "<IPython.core.display.HTML object>"
      ]
     },
     "metadata": {},
     "output_type": "display_data"
    },
    {
     "data": {
      "text/html": [
       "<dt><a class=\"ProveItLink\" href=\"../../../implication/_proofs_/denyViaContradiction.ipynb\">proveit.logic.boolean.implication.denyViaContradiction</a></dt><dd><a class=\"ProveItLink\" href=\"../../../implication/__pv_it/f587695ff863e59687e1a43c82141192138bb4960/expr.ipynb\"><img src=\"data:image/png;base64,iVBORw0KGgoAAAANSUhEUgAAAJ4AAAAXBAMAAAAIFOtYAAAAMFBMVEX///8QEBC6urrMzMxUVFRm\n",
       "ZmZERETc3NwyMjKqqqp2dnaIiIiYmJgiIiLu7u4AAAAU9Wx4AAAAAXRSTlMAQObYZgAAAiRJREFU\n",
       "OMtjYKAyeEC+VqYNaAI8CgwMF0CM02SZZ4LCswXiYAaGlSB2H1nmoerqB2IOBoYyIMWeQI5x3Cje\n",
       "5bkPDDmeBQwcQIp1AjnmMaIEfWV8AQMDnwADz/Ly8lqyvKuBwtuwHxgZDJkMDN/S0m6RZV4USlw/\n",
       "mH8ASC1lYHBmYEgHC7Wja1CAMdqxmteDzHnEYA8KzhkMDCoMfA3gAP0EDdiurtYDYBYslmAyEMAG\n",
       "YwgBA/4uCCwA210fAKQUGRh4GbjB2p/+ARKvQ2MYNix4rYRiHlgG0zyYLcwOQOzi4g9Sbg+M9gO8\n",
       "4IhadxXITqp7BzSP6w2KeSAZIOCcgNs8JmB0N0DM42sAp3PmDWkMDEfBMbVAOw7ZPLAMCKSjmieJ\n",
       "ZB7QKl4BiH8Z0p1AoiwMsQwM4IDcECqLEn4gGdY0IGg0QDEvB2EeO9A8jg9A9gkgngrOwicZ9jMw\n",
       "L4C4j9Ua2TyQDASEGiCbtxTGMGB4ARL/BxVjBEU039XQ/AfM19LSskHhx4VkHlgGotEsHNk8XXgU\n",
       "lcm3M/Dk/wBGcBMoOYBUsxYw2BvwOUDch2IeWIY7FAhCAlD8y1iAkST5BGAsHQYG/gMM7lD/ViOZ\n",
       "B5bhewcEq1Hjg2cBhnlcsCLiyTcGdv87DM8UwOk5DSk+oDLQeGQIS0tMS1uArbwCgRfoAsuA4QcH\n",
       "aKUYO3pRXoJhnjveDE+oVGRHL++5DSgyj1TgQIYeABPOjxVzQ9CDAAAAAElFTkSuQmCC\n",
       "\" style=\"display:inline;vertical-align:middle;\" /></a></dd>"
      ],
      "text/plain": [
       "<IPython.core.display.HTML object>"
      ]
     },
     "metadata": {},
     "output_type": "display_data"
    },
    {
     "data": {
      "text/html": [
       "<dt><a class=\"ProveItLink\" href=\"../../_proofs_/operandInBool.ipynb\">proveit.logic.boolean.negation.operandInBool</a></dt><dd><a class=\"ProveItLink\" href=\"../7f02ee3527d7548e6066de27f6d437707e6d52d70/expr.ipynb\"><img src=\"data:image/png;base64,iVBORw0KGgoAAAANSUhEUgAAALUAAAAXBAMAAAC/qRN/AAAAMFBMVEX///8QEBC6urrMzMxUVFRm\n",
       "ZmZERETc3NwyMjKqqqp2dnaIiIiYmJgiIiLu7u4AAAAU9Wx4AAAAAXRSTlMAQObYZgAAArlJREFU\n",
       "SMe1lUto1EAYx/+b7DPJxuJNpJhDsSIKe/AgwtJFe1AQW5Ei+MDgIatQaA6lRUHci+ylWg96UnAR\n",
       "rBWhLEoFTw0exMelHgoiXUylQlEqxcPSg6jzyOSx3d1D0EAyM/+Z+c3M933zBfiPjxt7plTv1vuK\n",
       "vIu08j4O+wAvilFVmb602XsZSBWAJ1S4FYftTZpukdNSfe1bDagAE6SZMWOgVW4S7bO7ha0aBPwO\n",
       "yJKu1O0Y7ARnXrlg8/b3m42PHjvnnABWyLqPJyevxTHJHl7UFwxWylNusO9+Yog02XDTsj5tnZkp\n",
       "hBq5duwzPFjcBw6rTLiBTYqvSUMZBo4AZSZW+WA+4moAqUKutWFPse8XDHC7lwN7N/7spBsiNu+D\n",
       "XmFO+cm7+IjAu1R/6NXfzM6eE/p29jVwfZiWuhn25UvSknqAPFR2qq+/QuxccC+ovkZnz484qqI/\n",
       "MzydbUUeHBxiVKm30fB9CXMv6dogseTkmanmlkLstO2zqZ4k1n/R/8NVFcw5YTaxYIKdWi6F9g0z\n",
       "zdl6hV0wuW6F2AkfzXQSyxo9uqpI88JnO+iHxEK+h9lksZVNbYLyYSolcT7EPuizmS6VkGX3JXVy\n",
       "WXSM0mgi7OwGax6PsIlNNHqeu2zJt1gIsfuAGcuyKp4uV3CIsRWcEp54BO6H9G/WXDcCtnbW5DGI\n",
       "BB2tL42MuQH7jogWrhN2kSxVJ+yaiMf9JKZ3VaGNbbJAydwoiFzV/HCMVLJ0MY0yUzYGCgF7t2Bz\n",
       "XTKx6u3bZyfsaLznjvI4Ec+KX9sHbHMC9rpgc12rIWlz9mlhE63WPSc8FZXVJjJDywGbhyUKnp4y\n",
       "oF9kd2dmtDXHdnj4hWxJkTyBRjMjDRKF2DsijndlJ+1ObD2a0e+1m53p+k97jk5s3I+IpX/zb056\n",
       "ngrnWCXeD/svPimv/DBtcGsAAAAASUVORK5CYII=\n",
       "\" style=\"display:inline;vertical-align:middle;\" /></a></dd>"
      ],
      "text/plain": [
       "<IPython.core.display.HTML object>"
      ]
     },
     "metadata": {},
     "output_type": "display_data"
    },
    {
     "data": {
      "text/html": [
       "</dl>"
      ],
      "text/plain": [
       "<IPython.core.display.HTML object>"
      ]
     },
     "metadata": {},
     "output_type": "display_data"
    }
   ],
   "source": [
    "%dependencies doubleNegationElim"
   ]
  }
 ],
 "metadata": {
  "kernelspec": {
   "display_name": "Python 3",
   "language": "python",
   "name": "python3"
  }
 },
 "nbformat": 4,
 "nbformat_minor": 0
}
