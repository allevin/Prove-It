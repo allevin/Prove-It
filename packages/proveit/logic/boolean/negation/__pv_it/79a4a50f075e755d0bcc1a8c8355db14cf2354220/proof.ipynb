{
 "cells": [
  {
   "cell_type": "markdown",
   "metadata": {},
   "source": [
    "Show the Proof\n",
    "========"
   ]
  },
  {
   "cell_type": "code",
   "execution_count": 1,
   "metadata": {},
   "outputs": [
    {
     "data": {
      "text/html": [
       "<table><tr><th>&nbsp;</th><th>step type</th><th>requirements</th><th>statement</th></tr>\n",
       "<tr><td>0</td><td>specialization</td><td>1, 2</td><td><span style=\"font-size:20px;\"><a class=\"ProveItLink\" href=\"../1e8d5c171d239ada7565ac9b9c3f772bb857f55f0/expr.ipynb\"><img src=\"data:image/png;base64,iVBORw0KGgoAAAANSUhEUgAAAE4AAAAVBAMAAAAazcUaAAAAMFBMVEX////c3NxERESqqqpUVFS6\n",
       "urrMzMwyMjIQEBCIiIh2dnYiIiLu7u5mZmaYmJgAAABXZE4RAAAAAXRSTlMAQObYZgAAATJJREFU\n",
       "KM9jYGDgu8eAH2QtBJE8u5CEItHVPAURGQZAgvMDQpTNAVkN2wYGBt4EIIO3AEhwNSBk2A8gq2MH\n",
       "mQBXgqxuJoqdr/8AiVfY1PUgK2O0/QgkT2BRx1qArI6T8yuQZDLAVMe7AFldDPM/kPQFqBJehCHs\n",
       "D5CU8QSw/QRSzEBpPpCHMgIYGG7vBoJdDBwIJtARDIx/QRTIrFoGhpQ2mAEpDPwBcCYQu7h8AgUi\n",
       "yCymOgaGiATs6oDsdpg6kPksBXBJDgOEOmYgtQNqL9h9XBvgkkwPEOqEgVQ9EPMVoIcLGzgMoEwe\n",
       "kC36B5DCBTmcN8DjQuO7AMOj/0B/sgdgibdGzMSHLd7AkY4GVsKU8OFMV+BYKYBFGc9OpCTigK6O\n",
       "RQAaZUADFyOEJdHVTYPmDwBR51DC8IULxwAAAABJRU5ErkJggg==\n",
       "\" style=\"display:inline;vertical-align:middle;\" /></a> <a class=\"ProveItLink\" href=\"proof.ipynb\" style=\"text-decoration: none\">&#x22A2;&nbsp;</a><a class=\"ProveItLink\" href=\"../../../../../__pv_it/2cbe72a7ad6f655694dd697106680215e8489b600/expr.ipynb\"><img src=\"data:image/png;base64,iVBORw0KGgoAAAANSUhEUgAAAA8AAAAOBAMAAAACpFvcAAAALVBMVEX///8QEBBERERUVFS6urqI\n",
       "iIhmZmaqqqrc3Nzu7u6YmJgyMjIiIiLMzMwAAADtIaYWAAAAAXRSTlMAQObYZgAAAFtJREFUCNdj\n",
       "YACBOwxQsA9Kc52bAGG05zVAGAFxDmCaZULdAjBjCsO9ADDDgaEvAUTzGhvbKYCVMDAwbgAxChgY\n",
       "eASANAeQwf0AyJgNxEwvGRia5HYwcOm9TgAA6BoR3jrzwFcAAAAASUVORK5CYII=\n",
       "\" style=\"display:inline;vertical-align:middle;\" /></a></span></td></tr>\n",
       "<tr><td>&nbsp;</td><td colspan=4 style=\"text-align:left\"><span style=\"font-size:20px;\"><a class=\"ProveItLink\" href=\"../../../../../__pv_it/2cbe72a7ad6f655694dd697106680215e8489b600/expr.ipynb\"><img src=\"data:image/png;base64,iVBORw0KGgoAAAANSUhEUgAAAA8AAAAOBAMAAAACpFvcAAAALVBMVEX///8QEBBERERUVFS6urqI\n",
       "iIhmZmaqqqrc3Nzu7u6YmJgyMjIiIiLMzMwAAADtIaYWAAAAAXRSTlMAQObYZgAAAFtJREFUCNdj\n",
       "YACBOwxQsA9Kc52bAGG05zVAGAFxDmCaZULdAjBjCsO9ADDDgaEvAUTzGhvbKYCVMDAwbgAxChgY\n",
       "eASANAeQwf0AyJgNxEwvGRia5HYwcOm9TgAA6BoR3jrzwFcAAAAASUVORK5CYII=\n",
       "\" style=\"display:inline;vertical-align:middle;\" /></a> : <a class=\"ProveItLink\" href=\"../../../../../__pv_it/2cbe72a7ad6f655694dd697106680215e8489b600/expr.ipynb\"><img src=\"data:image/png;base64,iVBORw0KGgoAAAANSUhEUgAAAA8AAAAOBAMAAAACpFvcAAAALVBMVEX///8QEBBERERUVFS6urqI\n",
       "iIhmZmaqqqrc3Nzu7u6YmJgyMjIiIiLMzMwAAADtIaYWAAAAAXRSTlMAQObYZgAAAFtJREFUCNdj\n",
       "YACBOwxQsA9Kc52bAGG05zVAGAFxDmCaZULdAjBjCsO9ADDDgaEvAUTzGhvbKYCVMDAwbgAxChgY\n",
       "eASANAeQwf0AyJgNxEwvGRia5HYwcOm9TgAA6BoR3jrzwFcAAAAASUVORK5CYII=\n",
       "\" style=\"display:inline;vertical-align:middle;\" /></a></span></td></tr><tr><td>1</td><td>axiom</td><td></td><td><span style=\"font-size:20px;\"> <a class=\"ProveItLink\" href=\"../../_axioms_.ipynb#doubleNegationElim\" style=\"text-decoration: none\">&#x22A2;&nbsp;</a><a class=\"ProveItLink\" href=\"../0030d3f1607e3092125891a7821b34ccf5fae4cd0/expr.ipynb\"><img src=\"data:image/png;base64,iVBORw0KGgoAAAANSUhEUgAAAHEAAAAWBAMAAAAFoW4BAAAAMFBMVEX///8QEBC6urrMzMxUVFRm\n",
       "ZmZERETc3NwyMjKqqqp2dnaIiIiYmJgiIiLu7u4AAAAU9Wx4AAAAAXRSTlMAQObYZgAAAXhJREFU\n",
       "OMtjeMBALrgAIk6TqssWiFeCGH2k6uwH4jIgZk8gUSPPfaAnOYCYdQKJOivjC4Dal5eX15Lq2A37\n",
       "FYDkt7S0WzgUsBsg8xAOY3ow/wCQcmZgSAfz2yGiSGqrEEygpBWc84jBfgOQUmHgawD7+hNYlA1J\n",
       "JyLgQJJcCjCeAkN9AJDiZeAGWc3w9A+6Ts4NcCZIEmIBEDC7uPiDDOU+wAtOR+uuoutkK4AzwZLO\n",
       "MG8yMDCCTOFrMAEbtCENXScjnAWR3I0IKl4BECPdCUSyMMSi67SAsyCSKtAQB+rk+ABiTQUn3ZMM\n",
       "+xE6udLS0jJAKpcBGQ0wSahJL0Cq/oEdBQoIvquh+Q9Q7GRjmAILYagkRGeZfDsDT/4PUODygHSw\n",
       "FjDYG6DpVIPphEqqYU0uOgwM/AfQdL6F6YRKnsKm8ck3Bnb/Oyg6mRkgscVgAJMMwp+YkcKWGy0L\n",
       "NRCtkw812yIlKUI6GeagyLAQyHrI8jwouWwdqkIA4DVYFYu4wFQAAAAASUVORK5CYII=\n",
       "\" style=\"display:inline;vertical-align:middle;\" /></a></span></td></tr>\n",
       "<tr><td>&nbsp;</td><td colspan=4 style-\"text-align:left\"><a class=\"ProveItLink\" href=\"../../_axioms_.ipynb#doubleNegationElim\">proveit.logic.boolean.negation.doubleNegationElim</a></td></tr><tr><td>2</td><td>assumption</td><td></td><td><span style=\"font-size:20px;\"><a class=\"ProveItLink\" href=\"../1e8d5c171d239ada7565ac9b9c3f772bb857f55f0/expr.ipynb\"><img src=\"data:image/png;base64,iVBORw0KGgoAAAANSUhEUgAAAE4AAAAVBAMAAAAazcUaAAAAMFBMVEX////c3NxERESqqqpUVFS6\n",
       "urrMzMwyMjIQEBCIiIh2dnYiIiLu7u5mZmaYmJgAAABXZE4RAAAAAXRSTlMAQObYZgAAATJJREFU\n",
       "KM9jYGDgu8eAH2QtBJE8u5CEItHVPAURGQZAgvMDQpTNAVkN2wYGBt4EIIO3AEhwNSBk2A8gq2MH\n",
       "mQBXgqxuJoqdr/8AiVfY1PUgK2O0/QgkT2BRx1qArI6T8yuQZDLAVMe7AFldDPM/kPQFqBJehCHs\n",
       "D5CU8QSw/QRSzEBpPpCHMgIYGG7vBoJdDBwIJtARDIx/QRTIrFoGhpQ2mAEpDPwBcCYQu7h8AgUi\n",
       "yCymOgaGiATs6oDsdpg6kPksBXBJDgOEOmYgtQNqL9h9XBvgkkwPEOqEgVQ9EPMVoIcLGzgMoEwe\n",
       "kC36B5DCBTmcN8DjQuO7AMOj/0B/sgdgibdGzMSHLd7AkY4GVsKU8OFMV+BYKYBFGc9OpCTigK6O\n",
       "RQAaZUADFyOEJdHVTYPmDwBR51DC8IULxwAAAABJRU5ErkJggg==\n",
       "\" style=\"display:inline;vertical-align:middle;\" /></a> <a class=\"ProveItLink\" href=\"../ea0711e63876ae30867034ea6a8b60363196083f0/proof.ipynb\" style=\"text-decoration: none\">&#x22A2;&nbsp;</a><a class=\"ProveItLink\" href=\"../../../../../__pv_it/7894ca3cfdf9196b6cf9831a9a3e6cc4ef245bf30/expr.ipynb\"><img src=\"data:image/png;base64,iVBORw0KGgoAAAANSUhEUgAAADkAAAAVBAMAAAAOWFv7AAAAMFBMVEX////c3NxERESqqqqYmJgQ\n",
       "EBDu7u4yMjKIiIi6urpUVFTMzMx2dnYiIiJmZmYAAABjE816AAAAAXRSTlMAQObYZgAAAOFJREFU\n",
       "KM9jYCAOzEAX8ERicy9AluG+wMDAtwHBZ09AlmX/ACQKEPwOFFN9vwEJHwQ/DFmS0e4jkEyF8zkL\n",
       "kGU5OH4CSSYDGJ/vALLsNOYvQJLnAdwZDkiSbBO4fwAp5gKGt3eB4A4D6wQGGBNoDQPjPxAVAFG8\n",
       "i4F/AgOMCcSrVn0CefoDVlkgOxxFltUAIcsMpK6imMzkgJAVBlL1QMwC9SU3wvXcDGwgQf0EZB9x\n",
       "XoCHk+p3AQan/3VAX06A+zEQM04RIYkc5DBwAlcMgkMMKegZF6DLcgkgcSTQZbsZGAAzQjehLLGe\n",
       "5wAAAABJRU5ErkJggg==\n",
       "\" style=\"display:inline;vertical-align:middle;\" /></a></span></td></tr>\n",
       "</table>"
      ],
      "text/plain": [
       "<proveit._core_.proof._ShowProof at 0x7f94dbac89e8>"
      ]
     },
     "execution_count": 1,
     "metadata": {},
     "output_type": "execute_result"
    }
   ],
   "source": [
    "import proveit\n",
    "%show_proof"
   ]
  },
  {
   "cell_type": "code",
   "execution_count": null,
   "metadata": {},
   "outputs": [],
   "source": []
  }
 ],
 "metadata": {
  "kernelspec": {
   "display_name": "Python 3",
   "language": "python",
   "name": "python3"
  }
 },
 "nbformat": 4,
 "nbformat_minor": 0
}
