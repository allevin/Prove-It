{
 "cells": [
  {
   "cell_type": "markdown",
   "metadata": {
    "collapsed": true
   },
   "source": [
    "Proof of <a class=\"ProveItLink\" href=\"../../../../_context_.ipynb\">proveit</a>.<a class=\"ProveItLink\" href=\"../../../_context_.ipynb\">logic</a>.<a class=\"ProveItLink\" href=\"../../_context_.ipynb\">boolean</a>.<a class=\"ProveItLink\" href=\"../_context_.ipynb\">negation</a>.<a href=\"../_theorems_.ipynb#closure\" class=\"ProveItLink\">closure</a> theorem\n",
    "========"
   ]
  },
  {
   "cell_type": "code",
   "execution_count": 1,
   "metadata": {},
   "outputs": [],
   "source": [
    "import proveit\n",
    "from proveit.logic.boolean._theorems_ import trueInBool, falseInBool, inBoolIfTrue, foldForallOverBool\n",
    "from proveit.logic.boolean.conjunction._theorems_ import andIfBoth \n",
    "from proveit.logic.boolean.negation._theorems_ import notF, notT\n",
    "from proveit.logic.equality._theorems_ import substituteTruth\n",
    "from proveit import defaults\n",
    "inBoolIfTrue.proof().disable(); substituteTruth.proof().disable() # force a more short, symmetric proof\n",
    "context = proveit.Context('..') # the theorem's context is in the parent directory"
   ]
  },
  {
   "cell_type": "code",
   "execution_count": 2,
   "metadata": {
    "scrolled": true
   },
   "outputs": [
    {
     "name": "stdout",
     "output_type": "stream",
     "text": [
      "Beginning proof of closure\n",
      "Recorded 'presuming' information\n"
     ]
    },
    {
     "name": "stdout",
     "output_type": "stream",
     "text": [
      "Presuming proveit.logic.boolean.conjunction.andIfBoth, proveit.logic.boolean.falseInBool, proveit.logic.boolean.foldForallOverBool, proveit.logic.boolean.trueInBool theorems (applied transitively).\n",
      "Presuming previous theorems (applied transitively).\n"
     ]
    },
    {
     "data": {
      "text/html": [
       "<strong id=\"closure\">closure:</strong> <a class=\"ProveItLink\" href=\"../__pv_it/7b5911b87c2403d7522694ec07544fccac09289d0/expr.ipynb\"><img src=\"../__pv_it/7b5911b87c2403d7522694ec07544fccac09289d0/expr.png\" style=\"display:inline;vertical-align:middle;\" /></a><br>(see <a class=\"ProveItLink\" href=\"../__pv_it/7b5911b87c2403d7522694ec07544fccac09289d0/dependencies.ipynb\">dependencies</a>)<br>"
      ],
      "text/plain": [
       "closure: forall_{A in BOOLEANS} ([not](A) in BOOLEANS)"
      ]
     },
     "execution_count": 2,
     "metadata": {},
     "output_type": "execute_result"
    }
   ],
   "source": [
    "%proving closure presuming [andIfBoth, trueInBool, falseInBool, foldForallOverBool]"
   ]
  },
  {
   "cell_type": "code",
   "execution_count": 3,
   "metadata": {},
   "outputs": [
    {
     "data": {
      "text/html": [
       "<span style=\"font-size:20px;\"> &#x22A2;&nbsp;<a class=\"ProveItLink\" href=\"../../__pv_it/3e7350f116816f72fa422609af12e912bbd1845d0/expr.ipynb\"><img src=\"../../__pv_it/3e7350f116816f72fa422609af12e912bbd1845d0/expr.png\" style=\"display:inline;vertical-align:middle;\" /></a></span>"
      ],
      "text/plain": [
       "|= TRUE in BOOLEANS"
      ]
     },
     "execution_count": 3,
     "metadata": {},
     "output_type": "execute_result"
    }
   ],
   "source": [
    "trueInBool"
   ]
  },
  {
   "cell_type": "code",
   "execution_count": 4,
   "metadata": {},
   "outputs": [
    {
     "data": {
      "text/html": [
       "<span style=\"font-size:20px;\"> &#x22A2;&nbsp;<a class=\"ProveItLink\" href=\"../__pv_it/d15a94745248812aa8487be134f06c9c5d8bf36b0/expr.ipynb\"><img src=\"../__pv_it/d15a94745248812aa8487be134f06c9c5d8bf36b0/expr.png\" style=\"display:inline;vertical-align:middle;\" /></a></span>"
      ],
      "text/plain": [
       "|= [not](FALSE) = TRUE"
      ]
     },
     "execution_count": 4,
     "metadata": {},
     "output_type": "execute_result"
    }
   ],
   "source": [
    "notF"
   ]
  },
  {
   "cell_type": "code",
   "execution_count": 5,
   "metadata": {},
   "outputs": [
    {
     "data": {
      "text/html": [
       "<span style=\"font-size:20px;\"> &#x22A2;&nbsp;<a class=\"ProveItLink\" href=\"../__pv_it/e155f3dd0587304a8d684a07669736f27d3552cd0/expr.ipynb\"><img src=\"../__pv_it/e155f3dd0587304a8d684a07669736f27d3552cd0/expr.png\" style=\"display:inline;vertical-align:middle;\" /></a></span>"
      ],
      "text/plain": [
       "|= [not](FALSE) in BOOLEANS"
      ]
     },
     "execution_count": 5,
     "metadata": {},
     "output_type": "execute_result"
    }
   ],
   "source": [
    "notF.subLeftSideInto(trueInBool)"
   ]
  },
  {
   "cell_type": "code",
   "execution_count": 6,
   "metadata": {},
   "outputs": [
    {
     "data": {
      "text/html": [
       "<span style=\"font-size:20px;\"> &#x22A2;&nbsp;<a class=\"ProveItLink\" href=\"../../__pv_it/9f85861a2422bfaf1627227c7d0968a483b71e9d0/expr.ipynb\"><img src=\"../../__pv_it/9f85861a2422bfaf1627227c7d0968a483b71e9d0/expr.png\" style=\"display:inline;vertical-align:middle;\" /></a></span>"
      ],
      "text/plain": [
       "|= FALSE in BOOLEANS"
      ]
     },
     "execution_count": 6,
     "metadata": {},
     "output_type": "execute_result"
    }
   ],
   "source": [
    "falseInBool"
   ]
  },
  {
   "cell_type": "code",
   "execution_count": 7,
   "metadata": {},
   "outputs": [
    {
     "data": {
      "text/html": [
       "<span style=\"font-size:20px;\"> &#x22A2;&nbsp;<a class=\"ProveItLink\" href=\"../__pv_it/616bbddf0a07cdf603496a9c8ad63f9accda890d0/expr.ipynb\"><img src=\"../__pv_it/616bbddf0a07cdf603496a9c8ad63f9accda890d0/expr.png\" style=\"display:inline;vertical-align:middle;\" /></a></span>"
      ],
      "text/plain": [
       "|= [not](TRUE) = FALSE"
      ]
     },
     "execution_count": 7,
     "metadata": {},
     "output_type": "execute_result"
    }
   ],
   "source": [
    "notT"
   ]
  },
  {
   "cell_type": "code",
   "execution_count": 8,
   "metadata": {},
   "outputs": [
    {
     "data": {
      "text/html": [
       "<span style=\"font-size:20px;\"> &#x22A2;&nbsp;<a class=\"ProveItLink\" href=\"../__pv_it/3fec9a1912bf09585aa2323dac656417ffba08060/expr.ipynb\"><img src=\"../__pv_it/3fec9a1912bf09585aa2323dac656417ffba08060/expr.png\" style=\"display:inline;vertical-align:middle;\" /></a></span>"
      ],
      "text/plain": [
       "|= [not](TRUE) in BOOLEANS"
      ]
     },
     "execution_count": 8,
     "metadata": {},
     "output_type": "execute_result"
    }
   ],
   "source": [
    "notT.subLeftSideInto(falseInBool)"
   ]
  },
  {
   "cell_type": "code",
   "execution_count": 9,
   "metadata": {},
   "outputs": [
    {
     "data": {
      "text/html": [
       "<table><tr><th>&nbsp;</th><th>step type</th><th>requirements</th><th>statement</th></tr>\n",
       "<tr><td>0</td><td>specialization</td><td>1, 2, 3</td><td><span style=\"font-size:20px;\"> &#x22A2;&nbsp;<a class=\"ProveItLink\" href=\"../__pv_it/7b5911b87c2403d7522694ec07544fccac09289d0/expr.ipynb\"><img src=\"../__pv_it/7b5911b87c2403d7522694ec07544fccac09289d0/expr.png\" style=\"display:inline;vertical-align:middle;\" /></a></span></td></tr>\n",
       "<tr><td>&nbsp;</td><td colspan=4 style=\"text-align:left\"><span style=\"font-size:20px;\"><a class=\"ProveItLink\" href=\"../__pv_it/6833939fb0bae5628c5338cf3afeac7f61413e7d0/expr.ipynb\"><img src=\"../__pv_it/6833939fb0bae5628c5338cf3afeac7f61413e7d0/expr.png\" style=\"display:inline;vertical-align:middle;\" /></a></span></td></tr><tr><td>1</td><td>theorem</td><td></td><td><span style=\"font-size:20px;\"> &#x22A2;&nbsp;<a class=\"ProveItLink\" href=\"../../__pv_it/aee6960d17505c798b9d1f24ff6ef5d96fac5a9a0/expr.ipynb\"><img src=\"../../__pv_it/aee6960d17505c798b9d1f24ff6ef5d96fac5a9a0/expr.png\" style=\"display:inline;vertical-align:middle;\" /></a></span></td></tr>\n",
       "<tr><td>&nbsp;</td><td colspan=4 style-\"text-align:left\"><a class=\"ProveItLink\" href=\"../../_proofs_/foldForallOverBool.ipynb\">proveit.logic.boolean.foldForallOverBool</a></td></tr><tr><td>2</td><td>specialization</td><td>6, 4, 5</td><td><span style=\"font-size:20px;\"> &#x22A2;&nbsp;<a class=\"ProveItLink\" href=\"../__pv_it/3fec9a1912bf09585aa2323dac656417ffba08060/expr.ipynb\"><img src=\"../__pv_it/3fec9a1912bf09585aa2323dac656417ffba08060/expr.png\" style=\"display:inline;vertical-align:middle;\" /></a></span></td></tr>\n",
       "<tr><td>&nbsp;</td><td colspan=4 style=\"text-align:left\"><span style=\"font-size:20px;\"><a class=\"ProveItLink\" href=\"../__pv_it/14313c19dbd1380e764922eb25af8adc6cc32c3b0/expr.ipynb\"><img src=\"../__pv_it/14313c19dbd1380e764922eb25af8adc6cc32c3b0/expr.png\" style=\"display:inline;vertical-align:middle;\" /></a>, <a class=\"ProveItLink\" href=\"../__pv_it/97a18c8baa4d50d26d8edc2a037228235134ae9d0/expr.ipynb\"><img src=\"../__pv_it/97a18c8baa4d50d26d8edc2a037228235134ae9d0/expr.png\" style=\"display:inline;vertical-align:middle;\" /></a>, <a class=\"ProveItLink\" href=\"../__pv_it/628ccb419a6a535ac3555d6484e800cf72ea272e0/expr.ipynb\"><img src=\"../__pv_it/628ccb419a6a535ac3555d6484e800cf72ea272e0/expr.png\" style=\"display:inline;vertical-align:middle;\" /></a></span></td></tr><tr><td>3</td><td>specialization</td><td>6, 7, 8</td><td><span style=\"font-size:20px;\"> &#x22A2;&nbsp;<a class=\"ProveItLink\" href=\"../__pv_it/e155f3dd0587304a8d684a07669736f27d3552cd0/expr.ipynb\"><img src=\"../__pv_it/e155f3dd0587304a8d684a07669736f27d3552cd0/expr.png\" style=\"display:inline;vertical-align:middle;\" /></a></span></td></tr>\n",
       "<tr><td>&nbsp;</td><td colspan=4 style=\"text-align:left\"><span style=\"font-size:20px;\"><a class=\"ProveItLink\" href=\"../__pv_it/14313c19dbd1380e764922eb25af8adc6cc32c3b0/expr.ipynb\"><img src=\"../__pv_it/14313c19dbd1380e764922eb25af8adc6cc32c3b0/expr.png\" style=\"display:inline;vertical-align:middle;\" /></a>, <a class=\"ProveItLink\" href=\"../__pv_it/db82013e3c0d3498547256ba2b119a6773100a1a0/expr.ipynb\"><img src=\"../__pv_it/db82013e3c0d3498547256ba2b119a6773100a1a0/expr.png\" style=\"display:inline;vertical-align:middle;\" /></a>, <a class=\"ProveItLink\" href=\"../__pv_it/b66e1088aee075b38a34ff547c137806d2c4a1cf0/expr.ipynb\"><img src=\"../__pv_it/b66e1088aee075b38a34ff547c137806d2c4a1cf0/expr.png\" style=\"display:inline;vertical-align:middle;\" /></a></span></td></tr><tr><td>4</td><td>theorem</td><td></td><td><span style=\"font-size:20px;\"> &#x22A2;&nbsp;<a class=\"ProveItLink\" href=\"../../__pv_it/9f85861a2422bfaf1627227c7d0968a483b71e9d0/expr.ipynb\"><img src=\"../../__pv_it/9f85861a2422bfaf1627227c7d0968a483b71e9d0/expr.png\" style=\"display:inline;vertical-align:middle;\" /></a></span></td></tr>\n",
       "<tr><td>&nbsp;</td><td colspan=4 style-\"text-align:left\"><a class=\"ProveItLink\" href=\"../../_proofs_/falseInBool.ipynb\">proveit.logic.boolean.falseInBool</a></td></tr><tr><td>5</td><td>theorem</td><td></td><td><span style=\"font-size:20px;\"> &#x22A2;&nbsp;<a class=\"ProveItLink\" href=\"../__pv_it/616bbddf0a07cdf603496a9c8ad63f9accda890d0/expr.ipynb\"><img src=\"../__pv_it/616bbddf0a07cdf603496a9c8ad63f9accda890d0/expr.png\" style=\"display:inline;vertical-align:middle;\" /></a></span></td></tr>\n",
       "<tr><td>&nbsp;</td><td colspan=4 style-\"text-align:left\"><a class=\"ProveItLink\" href=\"notT.ipynb\">proveit.logic.boolean.negation.notT</a></td></tr><tr><td>6</td><td>theorem</td><td></td><td><span style=\"font-size:20px;\"> &#x22A2;&nbsp;<a class=\"ProveItLink\" href=\"../../../equality/__pv_it/0ff28639b67648f982114c9abc0eb1af3cbddacb0/expr.ipynb\"><img src=\"../../../equality/__pv_it/0ff28639b67648f982114c9abc0eb1af3cbddacb0/expr.png\" style=\"display:inline;vertical-align:middle;\" /></a></span></td></tr>\n",
       "<tr><td>&nbsp;</td><td colspan=4 style-\"text-align:left\"><a class=\"ProveItLink\" href=\"../../../equality/_proofs_/subLeftSideInto.ipynb\">proveit.logic.equality.subLeftSideInto</a></td></tr><tr><td>7</td><td>theorem</td><td></td><td><span style=\"font-size:20px;\"> &#x22A2;&nbsp;<a class=\"ProveItLink\" href=\"../../__pv_it/3e7350f116816f72fa422609af12e912bbd1845d0/expr.ipynb\"><img src=\"../../__pv_it/3e7350f116816f72fa422609af12e912bbd1845d0/expr.png\" style=\"display:inline;vertical-align:middle;\" /></a></span></td></tr>\n",
       "<tr><td>&nbsp;</td><td colspan=4 style-\"text-align:left\"><a class=\"ProveItLink\" href=\"../../_proofs_/trueInBool.ipynb\">proveit.logic.boolean.trueInBool</a></td></tr><tr><td>8</td><td>theorem</td><td></td><td><span style=\"font-size:20px;\"> &#x22A2;&nbsp;<a class=\"ProveItLink\" href=\"../__pv_it/d15a94745248812aa8487be134f06c9c5d8bf36b0/expr.ipynb\"><img src=\"../__pv_it/d15a94745248812aa8487be134f06c9c5d8bf36b0/expr.png\" style=\"display:inline;vertical-align:middle;\" /></a></span></td></tr>\n",
       "<tr><td>&nbsp;</td><td colspan=4 style-\"text-align:left\"><a class=\"ProveItLink\" href=\"notF.ipynb\">proveit.logic.boolean.negation.notF</a></td></tr></table>"
      ],
      "text/plain": [
       "\tstep type\trequirements\tstatement\n",
       "0\tspecialization\t1, 2, 3\t|= forall_{A in BOOLEANS} ([not](A) in BOOLEANS)\n",
       "\tP -> [A -> ([not](A) in BOOLEANS)]\n",
       "1\ttheorem\t\t|= forall_{P | P(TRUE) , P(FALSE)} [forall_{A in BOOLEANS} P(A)]\n",
       "\tproveit.logic.boolean.foldForallOverBool\n",
       "2\tspecialization\t6, 4, 5\t|= [not](TRUE) in BOOLEANS\n",
       "\t{P -> [_x_ -> (_x_ in BOOLEANS)]}, {x -> [not](TRUE)}, {y -> FALSE}\n",
       "3\tspecialization\t6, 7, 8\t|= [not](FALSE) in BOOLEANS\n",
       "\t{P -> [_x_ -> (_x_ in BOOLEANS)]}, {x -> [not](FALSE)}, {y -> TRUE}\n",
       "4\ttheorem\t\t|= FALSE in BOOLEANS\n",
       "\tproveit.logic.boolean.falseInBool\n",
       "5\ttheorem\t\t|= [not](TRUE) = FALSE\n",
       "\tproveit.logic.boolean.negation.notT\n",
       "6\ttheorem\t\t|= forall_{P, x, y | P(y) , x = y} P(x)\n",
       "\tproveit.logic.equality.subLeftSideInto\n",
       "7\ttheorem\t\t|= TRUE in BOOLEANS\n",
       "\tproveit.logic.boolean.trueInBool\n",
       "8\ttheorem\t\t|= [not](FALSE) = TRUE\n",
       "\tproveit.logic.boolean.negation.notF"
      ]
     },
     "execution_count": 9,
     "metadata": {},
     "output_type": "execute_result"
    }
   ],
   "source": [
    "%qed"
   ]
  },
  {
   "cell_type": "code",
   "execution_count": null,
   "metadata": {},
   "outputs": [],
   "source": []
  }
 ],
 "metadata": {
  "kernelspec": {
   "display_name": "Python 3",
   "language": "python",
   "name": "python3"
  },
  "language_info": {
   "codemirror_mode": {
    "name": "ipython",
    "version": 3
   },
   "file_extension": ".py",
   "mimetype": "text/x-python",
   "name": "python",
   "nbconvert_exporter": "python",
   "pygments_lexer": "ipython3",
   "version": "3.7.0"
  }
 },
 "nbformat": 4,
 "nbformat_minor": 1
}
