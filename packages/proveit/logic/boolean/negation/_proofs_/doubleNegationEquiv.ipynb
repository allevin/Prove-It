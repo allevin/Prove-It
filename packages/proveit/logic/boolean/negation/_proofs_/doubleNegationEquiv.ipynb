{
 "cells": [
  {
   "cell_type": "markdown",
   "metadata": {
    "collapsed": true,
    "deletable": true,
    "editable": true
   },
   "source": [
    "Proof of <a class=\"ProveItLink\" href=\"../../../../_context_.ipynb\">proveit</a>.<a class=\"ProveItLink\" href=\"../../../_context_.ipynb\">logic</a>.<a class=\"ProveItLink\" href=\"../../_context_.ipynb\">boolean</a>.<a class=\"ProveItLink\" href=\"../_context_.ipynb\">negation</a>.<a class=\"ProveItLink\" href=\"../_theorems_.ipynb#doubleNegationEquiv\">doubleNegationEquiv</a> theorem\n",
    "========"
   ]
  },
  {
   "cell_type": "code",
   "execution_count": 1,
   "metadata": {
    "collapsed": true,
    "deletable": true,
    "editable": true
   },
   "outputs": [],
   "source": [
    "import proveit\n",
    "context = proveit.Context('..') # the theorem's context is in the parent directory"
   ]
  },
  {
   "cell_type": "code",
   "execution_count": 2,
   "metadata": {
    "collapsed": false,
    "deletable": true,
    "editable": true
   },
   "outputs": [
    {
     "name": "stdout",
     "output_type": "stream",
     "text": [
      "Beginning proof of doubleNegationEquiv\n",
      "Recorded 'presuming' information\n"
     ]
    },
    {
     "name": "stdout",
     "output_type": "stream",
     "text": [
      "Presuming previous theorems (applied transitively).\n"
     ]
    },
    {
     "data": {
      "text/html": [
       "<strong id=\"doubleNegationEquiv\">doubleNegationEquiv:</strong> <a class=\"ProveItLink\" href=\"../__pv_it/93acd382bf83512ca8b60cf528d22d972457c7020/expr.ipynb\"><img src=\"../__pv_it/93acd382bf83512ca8b60cf528d22d972457c7020/expr.png\" style=\"display:inline;vertical-align:middle;\" /></a><br>(see <a class=\"ProveItLink\" href=\"../__pv_it/93acd382bf83512ca8b60cf528d22d972457c7020/dependencies.ipynb\">dependencies</a>)<br>"
      ],
      "text/plain": [
       "doubleNegationEquiv: forall_{A in BOOLEANS} ([not]([not](A)) = A)"
      ]
     },
     "execution_count": 2,
     "metadata": {},
     "output_type": "execute_result"
    }
   ],
   "source": [
    "%proving doubleNegationEquiv presuming []"
   ]
  },
  {
   "cell_type": "markdown",
   "metadata": {
    "deletable": true,
    "editable": true
   },
   "source": [
    "*** Automated proof, folding the forall over the set of Booleans.\n",
    "This is a shorter proof than via $\\lnot (\\lnot A) \\Leftrightarrow A$.***"
   ]
  },
  {
   "cell_type": "code",
   "execution_count": 3,
   "metadata": {
    "collapsed": false,
    "deletable": true,
    "editable": true
   },
   "outputs": [
    {
     "data": {
      "text/html": [
       "<table><tr><th>&nbsp;</th><th>step type</th><th>requirements</th><th>statement</th></tr>\n",
       "<tr><td>0</td><td>specialization</td><td>1, 2, 3</td><td><span style=\"font-size:20px;\"> &#x22A2;&nbsp;<a class=\"ProveItLink\" href=\"../__pv_it/93acd382bf83512ca8b60cf528d22d972457c7020/expr.ipynb\"><img src=\"../__pv_it/93acd382bf83512ca8b60cf528d22d972457c7020/expr.png\" style=\"display:inline;vertical-align:middle;\" /></a></span></td></tr>\n",
       "<tr><td>&nbsp;</td><td colspan=4 style=\"text-align:left\"><span style=\"font-size:20px;\"><a class=\"ProveItLink\" href=\"../__pv_it/d08dc7e608f3dce1f03080d79aebfdcbbd8e1bd70/expr.ipynb\"><img src=\"../__pv_it/d08dc7e608f3dce1f03080d79aebfdcbbd8e1bd70/expr.png\" style=\"display:inline;vertical-align:middle;\" /></a></span></td></tr><tr><td>1</td><td>theorem</td><td></td><td><span style=\"font-size:20px;\"> &#x22A2;&nbsp;<a class=\"ProveItLink\" href=\"../../__pv_it/aee6960d17505c798b9d1f24ff6ef5d96fac5a9a0/expr.ipynb\"><img src=\"../../__pv_it/aee6960d17505c798b9d1f24ff6ef5d96fac5a9a0/expr.png\" style=\"display:inline;vertical-align:middle;\" /></a></span></td></tr>\n",
       "<tr><td>&nbsp;</td><td colspan=4 style-\"text-align:left\"><a class=\"ProveItLink\" href=\"../../_proofs_/foldForallOverBool.ipynb\">proveit.logic.boolean.foldForallOverBool</a></td></tr><tr><td>2</td><td>specialization</td><td>4, 5</td><td><span style=\"font-size:20px;\"> &#x22A2;&nbsp;<a class=\"ProveItLink\" href=\"../__pv_it/74498f3e9a411c8fb18df7f7e3af73043cab3e330/expr.ipynb\"><img src=\"../__pv_it/74498f3e9a411c8fb18df7f7e3af73043cab3e330/expr.png\" style=\"display:inline;vertical-align:middle;\" /></a></span></td></tr>\n",
       "<tr><td>&nbsp;</td><td colspan=4 style=\"text-align:left\"><span style=\"font-size:20px;\"><a class=\"ProveItLink\" href=\"../__pv_it/ad4ae79e4a6ace0aec59bcbd161982039fddd1080/expr.ipynb\"><img src=\"../__pv_it/ad4ae79e4a6ace0aec59bcbd161982039fddd1080/expr.png\" style=\"display:inline;vertical-align:middle;\" /></a></span></td></tr><tr><td>3</td><td>specialization</td><td>6, 7</td><td><span style=\"font-size:20px;\"> &#x22A2;&nbsp;<a class=\"ProveItLink\" href=\"../__pv_it/1cd529e777b594dc36f97ec8cdbb031c08185eeb0/expr.ipynb\"><img src=\"../__pv_it/1cd529e777b594dc36f97ec8cdbb031c08185eeb0/expr.png\" style=\"display:inline;vertical-align:middle;\" /></a></span></td></tr>\n",
       "<tr><td>&nbsp;</td><td colspan=4 style=\"text-align:left\"><span style=\"font-size:20px;\"><a class=\"ProveItLink\" href=\"../__pv_it/f1d8a90b1b3a69a9acdc42a13df7b23c2a089ce80/expr.ipynb\"><img src=\"../__pv_it/f1d8a90b1b3a69a9acdc42a13df7b23c2a089ce80/expr.png\" style=\"display:inline;vertical-align:middle;\" /></a></span></td></tr><tr><td>4</td><td>axiom</td><td></td><td><span style=\"font-size:20px;\"> &#x22A2;&nbsp;<a class=\"ProveItLink\" href=\"../../__pv_it/04576f2f89fdf94b2e1520e8f4ab361286daf7f30/expr.ipynb\"><img src=\"../../__pv_it/04576f2f89fdf94b2e1520e8f4ab361286daf7f30/expr.png\" style=\"display:inline;vertical-align:middle;\" /></a></span></td></tr>\n",
       "<tr><td>&nbsp;</td><td colspan=4 style-\"text-align:left\"><a class=\"ProveItLink\" href=\"../../_axioms_.ipynb#eqTrueIntro\">proveit.logic.boolean.eqTrueIntro</a></td></tr><tr><td>5</td><td>specialization</td><td>8, 9</td><td><span style=\"font-size:20px;\"> &#x22A2;&nbsp;<a class=\"ProveItLink\" href=\"../__pv_it/6a76d9949f04b9a849b98209d9cf3a8195a409fe0/expr.ipynb\"><img src=\"../__pv_it/6a76d9949f04b9a849b98209d9cf3a8195a409fe0/expr.png\" style=\"display:inline;vertical-align:middle;\" /></a></span></td></tr>\n",
       "<tr><td>&nbsp;</td><td colspan=4 style=\"text-align:left\"><span style=\"font-size:20px;\"><a class=\"ProveItLink\" href=\"../__pv_it/5f339ca8a6b0512e49f14f5e6c77243ded6169540/expr.ipynb\"><img src=\"../__pv_it/5f339ca8a6b0512e49f14f5e6c77243ded6169540/expr.png\" style=\"display:inline;vertical-align:middle;\" /></a></span></td></tr><tr><td>6</td><td>theorem</td><td></td><td><span style=\"font-size:20px;\"> &#x22A2;&nbsp;<a class=\"ProveItLink\" href=\"../__pv_it/ffbd7166e203b5199f10aabab423e0791a7da4170/expr.ipynb\"><img src=\"../__pv_it/ffbd7166e203b5199f10aabab423e0791a7da4170/expr.png\" style=\"display:inline;vertical-align:middle;\" /></a></span></td></tr>\n",
       "<tr><td>&nbsp;</td><td colspan=4 style-\"text-align:left\"><a class=\"ProveItLink\" href=\"falsifiedNegationIntro.ipynb\">proveit.logic.boolean.negation.falsifiedNegationIntro</a></td></tr><tr><td>7</td><td>theorem</td><td></td><td><span style=\"font-size:20px;\"> &#x22A2;&nbsp;<a class=\"ProveItLink\" href=\"../__pv_it/01165fd25131c0df966b8e8c1626e275fd04f3050/expr.ipynb\"><img src=\"../__pv_it/01165fd25131c0df966b8e8c1626e275fd04f3050/expr.png\" style=\"display:inline;vertical-align:middle;\" /></a></span></td></tr>\n",
       "<tr><td>&nbsp;</td><td colspan=4 style-\"text-align:left\"><a class=\"ProveItLink\" href=\"notFalse.ipynb\">proveit.logic.boolean.negation.notFalse</a></td></tr><tr><td>8</td><td>axiom</td><td></td><td><span style=\"font-size:20px;\"> &#x22A2;&nbsp;<a class=\"ProveItLink\" href=\"../__pv_it/bd349bf529bb24ca3489b99b360030e1baddcd2c0/expr.ipynb\"><img src=\"../__pv_it/bd349bf529bb24ca3489b99b360030e1baddcd2c0/expr.png\" style=\"display:inline;vertical-align:middle;\" /></a></span></td></tr>\n",
       "<tr><td>&nbsp;</td><td colspan=4 style-\"text-align:left\"><a class=\"ProveItLink\" href=\"../_axioms_.ipynb#negationIntro\">proveit.logic.boolean.negation.negationIntro</a></td></tr><tr><td>9</td><td>theorem</td><td></td><td><span style=\"font-size:20px;\"> &#x22A2;&nbsp;<a class=\"ProveItLink\" href=\"../__pv_it/616bbddf0a07cdf603496a9c8ad63f9accda890d0/expr.ipynb\"><img src=\"../__pv_it/616bbddf0a07cdf603496a9c8ad63f9accda890d0/expr.png\" style=\"display:inline;vertical-align:middle;\" /></a></span></td></tr>\n",
       "<tr><td>&nbsp;</td><td colspan=4 style-\"text-align:left\"><a class=\"ProveItLink\" href=\"notT.ipynb\">proveit.logic.boolean.negation.notT</a></td></tr></table>"
      ],
      "text/plain": [
       "\tstep type\trequirements\tstatement\n",
       "0\tspecialization\t1, 2, 3\t|= forall_{A in BOOLEANS} ([not]([not](A)) = A)\n",
       "\tP -> [A -> ([not]([not](A)) = A)]\n",
       "1\ttheorem\t\t|= forall_{P | P(TRUE) , P(FALSE)} [forall_{A in BOOLEANS} P(A)]\n",
       "\tproveit.logic.boolean.foldForallOverBool\n",
       "2\tspecialization\t4, 5\t|= [not]([not](TRUE)) = TRUE\n",
       "\tA -> [not]([not](TRUE))\n",
       "3\tspecialization\t6, 7\t|= [not]([not](FALSE)) = FALSE\n",
       "\tA -> [not](FALSE)\n",
       "4\taxiom\t\t|= forall_{A | A} (A = TRUE)\n",
       "\tproveit.logic.boolean.eqTrueIntro\n",
       "5\tspecialization\t8, 9\t|= [not]([not](TRUE))\n",
       "\tA -> [not](TRUE)\n",
       "6\ttheorem\t\t|= forall_{A | A} ([not](A) = FALSE)\n",
       "\tproveit.logic.boolean.negation.falsifiedNegationIntro\n",
       "7\ttheorem\t\t|= [not](FALSE)\n",
       "\tproveit.logic.boolean.negation.notFalse\n",
       "8\taxiom\t\t|= forall_{A | A = FALSE} [not](A)\n",
       "\tproveit.logic.boolean.negation.negationIntro\n",
       "9\ttheorem\t\t|= [not](TRUE) = FALSE\n",
       "\tproveit.logic.boolean.negation.notT"
      ]
     },
     "execution_count": 3,
     "metadata": {},
     "output_type": "execute_result"
    }
   ],
   "source": [
    "%qed "
   ]
  },
  {
   "cell_type": "code",
   "execution_count": 4,
   "metadata": {
    "collapsed": true,
    "deletable": true,
    "editable": true
   },
   "outputs": [],
   "source": []
  }
 ],
 "metadata": {
  "kernelspec": {
   "display_name": "Python 3",
   "language": "python",
   "name": "python3"
  },
  "language_info": {
   "codemirror_mode": {
    "name": "ipython",
    "version": 3
   },
   "file_extension": ".py",
   "mimetype": "text/x-python",
   "name": "python",
   "nbconvert_exporter": "python",
   "pygments_lexer": "ipython3",
   "version": "3.7.0"
  }
 },
 "nbformat": 4,
 "nbformat_minor": 0
}
