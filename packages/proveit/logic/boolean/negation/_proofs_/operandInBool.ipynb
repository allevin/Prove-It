{
 "cells": [
  {
   "cell_type": "markdown",
   "metadata": {
    "collapsed": true,
    "deletable": true,
    "editable": true
   },
   "source": [
    "Proof of <a class=\"ProveItLink\" href=\"../../../../_context_.ipynb\">proveit</a>.<a class=\"ProveItLink\" href=\"../../../_context_.ipynb\">logic</a>.<a class=\"ProveItLink\" href=\"../../_context_.ipynb\">boolean</a>.<a class=\"ProveItLink\" href=\"../_context_.ipynb\">negation</a>.<a class=\"ProveItLink\" href=\"../_theorems_.ipynb#operandInBool\">operandInBool</a> theorem\n",
    "========"
   ]
  },
  {
   "cell_type": "code",
   "execution_count": 1,
   "metadata": {
    "collapsed": false,
    "deletable": true,
    "editable": true
   },
   "outputs": [],
   "source": [
    "import proveit\n",
    "from proveit import defaults\n",
    "from proveit._common_ import A\n",
    "from proveit.logic import inBool, Not\n",
    "from proveit.logic.boolean._theorems_ import inBoolIfFalse, inBoolIfTrue, fromExcludedMiddle\n",
    "context = proveit.Context('..') # the theorem's context is in the parent directory"
   ]
  },
  {
   "cell_type": "code",
   "execution_count": 2,
   "metadata": {
    "collapsed": false,
    "deletable": true,
    "editable": true
   },
   "outputs": [
    {
     "name": "stdout",
     "output_type": "stream",
     "text": [
      "Beginning proof of operandInBool\n",
      "Recorded 'presuming' information\n",
      "Presuming proveit.logic.boolean.fromExcludedMiddle, proveit.logic.boolean.inBoolIfFalse, proveit.logic.boolean.inBoolIfTrue theorems (applied transitively).\n",
      "Presuming previous theorems (applied transitively).\n"
     ]
    },
    {
     "data": {
      "text/html": [
       "<strong id=\"operandInBool\">operandInBool:</strong> <a class=\"ProveItLink\" href=\"../__pv_it/d36c8e2aa76ae2dab2b2bccac3cb95030adef6f90/expr.ipynb\"><img src=\"../__pv_it/d36c8e2aa76ae2dab2b2bccac3cb95030adef6f90/expr.png\" style=\"display:inline;vertical-align:middle;\" /></a><br>(see <a class=\"ProveItLink\" href=\"../__pv_it/d36c8e2aa76ae2dab2b2bccac3cb95030adef6f90/dependencies.ipynb\">dependencies</a>)<br>"
      ],
      "text/plain": [
       "operandInBool: forall_{A | [not](A) in BOOLEANS} (A in BOOLEANS)"
      ]
     },
     "execution_count": 2,
     "metadata": {},
     "output_type": "execute_result"
    }
   ],
   "source": [
    "%proving operandInBool presuming [inBoolIfFalse, inBoolIfTrue, fromExcludedMiddle]"
   ]
  },
  {
   "cell_type": "code",
   "execution_count": 3,
   "metadata": {
    "collapsed": false,
    "deletable": true,
    "editable": true
   },
   "outputs": [
    {
     "data": {
      "text/html": [
       "<strong id=\"notA_in_Bool\">notA_in_Bool:</strong> <a class=\"ProveItLink\" href=\"../__pv_it/950545f9a03f5164a11b771df9eb43356be92a000/expr.ipynb\"><img src=\"../__pv_it/950545f9a03f5164a11b771df9eb43356be92a000/expr.png\" style=\"display:inline;vertical-align:middle;\" /></a><br>"
      ],
      "text/plain": [
       "notA_in_Bool: [not](A) in BOOLEANS"
      ]
     },
     "execution_count": 3,
     "metadata": {},
     "output_type": "execute_result"
    }
   ],
   "source": [
    "notA_in_Bool = inBool(Not(A))"
   ]
  },
  {
   "cell_type": "code",
   "execution_count": 4,
   "metadata": {
    "collapsed": false,
    "deletable": true,
    "editable": true
   },
   "outputs": [
    {
     "data": {
      "text/html": [
       "<strong id=\"A_in_Bool\">A_in_Bool:</strong> <a class=\"ProveItLink\" href=\"../__pv_it/03a5c2b5cc6fc2c3cd686b4bcf84379b893abe210/expr.ipynb\"><img src=\"../__pv_it/03a5c2b5cc6fc2c3cd686b4bcf84379b893abe210/expr.png\" style=\"display:inline;vertical-align:middle;\" /></a><br>"
      ],
      "text/plain": [
       "A_in_Bool: A in BOOLEANS"
      ]
     },
     "execution_count": 4,
     "metadata": {},
     "output_type": "execute_result"
    }
   ],
   "source": [
    "A_in_Bool = inBool(A)"
   ]
  },
  {
   "cell_type": "markdown",
   "metadata": {
    "deletable": true,
    "editable": true
   },
   "source": [
    "***Prove via the 'law of the excluded middle'.  $\\lnot A$ must be true or false.  Either way, $A$ must be in the set of Booleans.***"
   ]
  },
  {
   "cell_type": "code",
   "execution_count": 5,
   "metadata": {
    "collapsed": false,
    "deletable": true,
    "editable": true
   },
   "outputs": [
    {
     "data": {
      "text/html": [
       "<span style=\"font-size:20px;\"><a class=\"ProveItLink\" href=\"../__pv_it/1abb8211440e823069bf8cd4e6bcfc72112bba6c0/expr.ipynb\"><img src=\"../__pv_it/1abb8211440e823069bf8cd4e6bcfc72112bba6c0/expr.png\" style=\"display:inline;vertical-align:middle;\" /></a> &#x22A2;&nbsp;<a class=\"ProveItLink\" href=\"../__pv_it/03a5c2b5cc6fc2c3cd686b4bcf84379b893abe210/expr.ipynb\"><img src=\"../__pv_it/03a5c2b5cc6fc2c3cd686b4bcf84379b893abe210/expr.png\" style=\"display:inline;vertical-align:middle;\" /></a></span>"
      ],
      "text/plain": [
       "{[not](A) in BOOLEANS} |= A in BOOLEANS"
      ]
     },
     "execution_count": 5,
     "metadata": {},
     "output_type": "execute_result"
    }
   ],
   "source": [
    "notA_in_Bool.deriveViaExcludedMiddle(A_in_Bool, assumptions=[notA_in_Bool])"
   ]
  },
  {
   "cell_type": "code",
   "execution_count": 6,
   "metadata": {
    "collapsed": false,
    "deletable": true,
    "editable": true
   },
   "outputs": [
    {
     "data": {
      "text/html": [
       "<table><tr><th>&nbsp;</th><th>step type</th><th>requirements</th><th>statement</th></tr>\n",
       "<tr><td>0</td><td>generalizaton</td><td>1</td><td><span style=\"font-size:20px;\"> &#x22A2;&nbsp;<a class=\"ProveItLink\" href=\"../__pv_it/d36c8e2aa76ae2dab2b2bccac3cb95030adef6f90/expr.ipynb\"><img src=\"../__pv_it/d36c8e2aa76ae2dab2b2bccac3cb95030adef6f90/expr.png\" style=\"display:inline;vertical-align:middle;\" /></a></span></td></tr>\n",
       "<tr><td>1</td><td>specialization</td><td>2, 3, 4, 5</td><td><span style=\"font-size:20px;\"><a class=\"ProveItLink\" href=\"../__pv_it/1abb8211440e823069bf8cd4e6bcfc72112bba6c0/expr.ipynb\"><img src=\"../__pv_it/1abb8211440e823069bf8cd4e6bcfc72112bba6c0/expr.png\" style=\"display:inline;vertical-align:middle;\" /></a> &#x22A2;&nbsp;<a class=\"ProveItLink\" href=\"../__pv_it/03a5c2b5cc6fc2c3cd686b4bcf84379b893abe210/expr.ipynb\"><img src=\"../__pv_it/03a5c2b5cc6fc2c3cd686b4bcf84379b893abe210/expr.png\" style=\"display:inline;vertical-align:middle;\" /></a></span></td></tr>\n",
       "<tr><td>&nbsp;</td><td colspan=4 style=\"text-align:left\"><span style=\"font-size:20px;\"><a class=\"ProveItLink\" href=\"../__pv_it/0c788d984be7367205affec0df993f117663e9b80/expr.ipynb\"><img src=\"../__pv_it/0c788d984be7367205affec0df993f117663e9b80/expr.png\" style=\"display:inline;vertical-align:middle;\" /></a>, <a class=\"ProveItLink\" href=\"../__pv_it/bb8a6fef14c149ba77fc873456afb9896afc60240/expr.ipynb\"><img src=\"../__pv_it/bb8a6fef14c149ba77fc873456afb9896afc60240/expr.png\" style=\"display:inline;vertical-align:middle;\" /></a></span></td></tr><tr><td>2</td><td>theorem</td><td></td><td><span style=\"font-size:20px;\"> &#x22A2;&nbsp;<a class=\"ProveItLink\" href=\"../../__pv_it/592b633a100f8c159b53e66bdc5434aa2e9878a40/expr.ipynb\"><img src=\"../../__pv_it/592b633a100f8c159b53e66bdc5434aa2e9878a40/expr.png\" style=\"display:inline;vertical-align:middle;\" /></a></span></td></tr>\n",
       "<tr><td>&nbsp;</td><td colspan=4 style-\"text-align:left\"><a class=\"ProveItLink\" href=\"../../_proofs_/fromExcludedMiddle.ipynb\">proveit.logic.boolean.fromExcludedMiddle</a></td></tr><tr><td>3</td><td>assumption</td><td></td><td><span style=\"font-size:20px;\"><a class=\"ProveItLink\" href=\"../__pv_it/1abb8211440e823069bf8cd4e6bcfc72112bba6c0/expr.ipynb\"><img src=\"../__pv_it/1abb8211440e823069bf8cd4e6bcfc72112bba6c0/expr.png\" style=\"display:inline;vertical-align:middle;\" /></a> &#x22A2;&nbsp;<a class=\"ProveItLink\" href=\"../__pv_it/950545f9a03f5164a11b771df9eb43356be92a000/expr.ipynb\"><img src=\"../__pv_it/950545f9a03f5164a11b771df9eb43356be92a000/expr.png\" style=\"display:inline;vertical-align:middle;\" /></a></span></td></tr>\n",
       "<tr><td>4</td><td>hypothetical reasoning</td><td>6</td><td><span style=\"font-size:20px;\"> &#x22A2;&nbsp;<a class=\"ProveItLink\" href=\"../__pv_it/d6c6d2f06859cdebf985911d45b30a227970112a0/expr.ipynb\"><img src=\"../__pv_it/d6c6d2f06859cdebf985911d45b30a227970112a0/expr.png\" style=\"display:inline;vertical-align:middle;\" /></a></span></td></tr>\n",
       "<tr><td>5</td><td>hypothetical reasoning</td><td>7</td><td><span style=\"font-size:20px;\"> &#x22A2;&nbsp;<a class=\"ProveItLink\" href=\"../__pv_it/fc225362738cd6f4f2256d5a47f7b1a5b96838fc0/expr.ipynb\"><img src=\"../__pv_it/fc225362738cd6f4f2256d5a47f7b1a5b96838fc0/expr.png\" style=\"display:inline;vertical-align:middle;\" /></a></span></td></tr>\n",
       "<tr><td>6</td><td>specialization</td><td>8, 9</td><td><span style=\"font-size:20px;\"><a class=\"ProveItLink\" href=\"../__pv_it/7680528e1ee86122472bd9f62475b835210285660/expr.ipynb\"><img src=\"../__pv_it/7680528e1ee86122472bd9f62475b835210285660/expr.png\" style=\"display:inline;vertical-align:middle;\" /></a> &#x22A2;&nbsp;<a class=\"ProveItLink\" href=\"../__pv_it/03a5c2b5cc6fc2c3cd686b4bcf84379b893abe210/expr.ipynb\"><img src=\"../__pv_it/03a5c2b5cc6fc2c3cd686b4bcf84379b893abe210/expr.png\" style=\"display:inline;vertical-align:middle;\" /></a></span></td></tr>\n",
       "<tr><td>&nbsp;</td><td colspan=4 style=\"text-align:left\"><span style=\"font-size:20px;\"><a class=\"ProveItLink\" href=\"../__pv_it/e2ee195baea449ecf67452694c66cbd67b2c19580/expr.ipynb\"><img src=\"../__pv_it/e2ee195baea449ecf67452694c66cbd67b2c19580/expr.png\" style=\"display:inline;vertical-align:middle;\" /></a></span></td></tr><tr><td>7</td><td>specialization</td><td>10, 11</td><td><span style=\"font-size:20px;\"><a class=\"ProveItLink\" href=\"../__pv_it/4b2dac16b5306d2030e982eb7376c5bdc8b6e15e0/expr.ipynb\"><img src=\"../__pv_it/4b2dac16b5306d2030e982eb7376c5bdc8b6e15e0/expr.png\" style=\"display:inline;vertical-align:middle;\" /></a> &#x22A2;&nbsp;<a class=\"ProveItLink\" href=\"../__pv_it/03a5c2b5cc6fc2c3cd686b4bcf84379b893abe210/expr.ipynb\"><img src=\"../__pv_it/03a5c2b5cc6fc2c3cd686b4bcf84379b893abe210/expr.png\" style=\"display:inline;vertical-align:middle;\" /></a></span></td></tr>\n",
       "<tr><td>&nbsp;</td><td colspan=4 style=\"text-align:left\"><span style=\"font-size:20px;\"><a class=\"ProveItLink\" href=\"../__pv_it/e2ee195baea449ecf67452694c66cbd67b2c19580/expr.ipynb\"><img src=\"../__pv_it/e2ee195baea449ecf67452694c66cbd67b2c19580/expr.png\" style=\"display:inline;vertical-align:middle;\" /></a></span></td></tr><tr><td>8</td><td>theorem</td><td></td><td><span style=\"font-size:20px;\"> &#x22A2;&nbsp;<a class=\"ProveItLink\" href=\"../../__pv_it/12ae38d734bba4799de856e620724384bea97dbe0/expr.ipynb\"><img src=\"../../__pv_it/12ae38d734bba4799de856e620724384bea97dbe0/expr.png\" style=\"display:inline;vertical-align:middle;\" /></a></span></td></tr>\n",
       "<tr><td>&nbsp;</td><td colspan=4 style-\"text-align:left\"><a class=\"ProveItLink\" href=\"../../_proofs_/inBoolIfFalse.ipynb\">proveit.logic.boolean.inBoolIfFalse</a></td></tr><tr><td>9</td><td>assumption</td><td></td><td><span style=\"font-size:20px;\"><a class=\"ProveItLink\" href=\"../__pv_it/7680528e1ee86122472bd9f62475b835210285660/expr.ipynb\"><img src=\"../__pv_it/7680528e1ee86122472bd9f62475b835210285660/expr.png\" style=\"display:inline;vertical-align:middle;\" /></a> &#x22A2;&nbsp;<a class=\"ProveItLink\" href=\"../__pv_it/2c81ead3bf46a86573cd5304798392177b4792b40/expr.ipynb\"><img src=\"../__pv_it/2c81ead3bf46a86573cd5304798392177b4792b40/expr.png\" style=\"display:inline;vertical-align:middle;\" /></a></span></td></tr>\n",
       "<tr><td>10</td><td>theorem</td><td></td><td><span style=\"font-size:20px;\"> &#x22A2;&nbsp;<a class=\"ProveItLink\" href=\"../../__pv_it/1d8cf37f5c705c7f67ba9cbc584342aedfb4c1440/expr.ipynb\"><img src=\"../../__pv_it/1d8cf37f5c705c7f67ba9cbc584342aedfb4c1440/expr.png\" style=\"display:inline;vertical-align:middle;\" /></a></span></td></tr>\n",
       "<tr><td>&nbsp;</td><td colspan=4 style-\"text-align:left\"><a class=\"ProveItLink\" href=\"../../_proofs_/inBoolIfTrue.ipynb\">proveit.logic.boolean.inBoolIfTrue</a></td></tr><tr><td>11</td><td>specialization</td><td>12, 13</td><td><span style=\"font-size:20px;\"><a class=\"ProveItLink\" href=\"../__pv_it/4b2dac16b5306d2030e982eb7376c5bdc8b6e15e0/expr.ipynb\"><img src=\"../__pv_it/4b2dac16b5306d2030e982eb7376c5bdc8b6e15e0/expr.png\" style=\"display:inline;vertical-align:middle;\" /></a> &#x22A2;&nbsp;<a class=\"ProveItLink\" href=\"../../../../__pv_it/2cbe72a7ad6f655694dd697106680215e8489b600/expr.ipynb\"><img src=\"../../../../__pv_it/2cbe72a7ad6f655694dd697106680215e8489b600/expr.png\" style=\"display:inline;vertical-align:middle;\" /></a></span></td></tr>\n",
       "<tr><td>&nbsp;</td><td colspan=4 style=\"text-align:left\"><span style=\"font-size:20px;\"><a class=\"ProveItLink\" href=\"../__pv_it/e2ee195baea449ecf67452694c66cbd67b2c19580/expr.ipynb\"><img src=\"../__pv_it/e2ee195baea449ecf67452694c66cbd67b2c19580/expr.png\" style=\"display:inline;vertical-align:middle;\" /></a></span></td></tr><tr><td>12</td><td>axiom</td><td></td><td><span style=\"font-size:20px;\"> &#x22A2;&nbsp;<a class=\"ProveItLink\" href=\"../__pv_it/fd884eeeb320e7451dd39f913952f77e4e82a2700/expr.ipynb\"><img src=\"../__pv_it/fd884eeeb320e7451dd39f913952f77e4e82a2700/expr.png\" style=\"display:inline;vertical-align:middle;\" /></a></span></td></tr>\n",
       "<tr><td>&nbsp;</td><td colspan=4 style-\"text-align:left\"><a class=\"ProveItLink\" href=\"../_axioms_.ipynb#doubleNegationElim\">proveit.logic.boolean.negation.doubleNegationElim</a></td></tr><tr><td>13</td><td>assumption</td><td></td><td><span style=\"font-size:20px;\"><a class=\"ProveItLink\" href=\"../__pv_it/4b2dac16b5306d2030e982eb7376c5bdc8b6e15e0/expr.ipynb\"><img src=\"../__pv_it/4b2dac16b5306d2030e982eb7376c5bdc8b6e15e0/expr.png\" style=\"display:inline;vertical-align:middle;\" /></a> &#x22A2;&nbsp;<a class=\"ProveItLink\" href=\"../__pv_it/1402334a33158525da829a77129fd462405ae6cf0/expr.ipynb\"><img src=\"../__pv_it/1402334a33158525da829a77129fd462405ae6cf0/expr.png\" style=\"display:inline;vertical-align:middle;\" /></a></span></td></tr>\n",
       "</table>"
      ],
      "text/plain": [
       "\tstep type\trequirements\tstatement\n",
       "0\tgeneralizaton\t1\t|= forall_{A | [not](A) in BOOLEANS} (A in BOOLEANS)\n",
       "1\tspecialization\t2, 3, 4, 5\t{[not](A) in BOOLEANS} |= A in BOOLEANS\n",
       "\t{C -> (A in BOOLEANS)}, {A -> [not](A)}\n",
       "2\ttheorem\t\t|= forall_{C} [forall_{A in BOOLEANS | A => C , [not](A) => C} C]\n",
       "\tproveit.logic.boolean.fromExcludedMiddle\n",
       "3\tassumption\t\t{[not](A) in BOOLEANS} |= [not](A) in BOOLEANS\n",
       "4\thypothetical reasoning\t6\t|= [not](A) => (A in BOOLEANS)\n",
       "5\thypothetical reasoning\t7\t|= [not]([not](A)) => (A in BOOLEANS)\n",
       "6\tspecialization\t8, 9\t{[not](A)} |= A in BOOLEANS\n",
       "\tA -> A\n",
       "7\tspecialization\t10, 11\t{[not]([not](A))} |= A in BOOLEANS\n",
       "\tA -> A\n",
       "8\ttheorem\t\t|= forall_{A | [not](A)} (A in BOOLEANS)\n",
       "\tproveit.logic.boolean.inBoolIfFalse\n",
       "9\tassumption\t\t{[not](A)} |= [not](A)\n",
       "10\ttheorem\t\t|= forall_{A | A} (A in BOOLEANS)\n",
       "\tproveit.logic.boolean.inBoolIfTrue\n",
       "11\tspecialization\t12, 13\t{[not]([not](A))} |= A\n",
       "\tA -> A\n",
       "12\taxiom\t\t|= forall_{A | [not]([not](A))} A\n",
       "\tproveit.logic.boolean.negation.doubleNegationElim\n",
       "13\tassumption\t\t{[not]([not](A))} |= [not]([not](A))"
      ]
     },
     "execution_count": 6,
     "metadata": {},
     "output_type": "execute_result"
    }
   ],
   "source": [
    "%qed"
   ]
  },
  {
   "cell_type": "code",
   "execution_count": 7,
   "metadata": {
    "collapsed": true,
    "deletable": true,
    "editable": true
   },
   "outputs": [],
   "source": []
  }
 ],
 "metadata": {
  "kernelspec": {
   "display_name": "Python 3",
   "language": "python",
   "name": "python3"
  },
  "language_info": {
   "codemirror_mode": {
    "name": "ipython",
    "version": 3
   },
   "file_extension": ".py",
   "mimetype": "text/x-python",
   "name": "python",
   "nbconvert_exporter": "python",
   "pygments_lexer": "ipython3",
   "version": "3.7.0"
  }
 },
 "nbformat": 4,
 "nbformat_minor": 0
}
