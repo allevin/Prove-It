{
 "cells": [
  {
   "cell_type": "markdown",
   "metadata": {
    "collapsed": true,
    "deletable": true,
    "editable": true
   },
   "source": [
    "Proof of <a class=\"ProveItLink\" href=\"../../../../_context_.ipynb\">proveit</a>.<a class=\"ProveItLink\" href=\"../../../_context_.ipynb\">logic</a>.<a class=\"ProveItLink\" href=\"../../_context_.ipynb\">boolean</a>.<a class=\"ProveItLink\" href=\"../_context_.ipynb\">negation</a>.<a href=\"../_theorems_.ipynb#fromNegatedFalsification\" class=\"ProveItLink\">fromNegatedFalsification</a> theorem\n",
    "========"
   ]
  },
  {
   "cell_type": "code",
   "execution_count": 1,
   "metadata": {
    "collapsed": true,
    "deletable": true,
    "editable": true
   },
   "outputs": [],
   "source": [
    "import proveit\n",
    "from proveit import defaults\n",
    "from proveit._common_ import A\n",
    "from proveit.logic.boolean.implication._theorems_ import affirmViaContradiction\n",
    "from proveit.logic.equality._theorems_ import foldNotEquals, notEqualsContradiction\n",
    "from proveit.logic import NotEquals, FALSE, inBool, Booleans\n",
    "context = proveit.Context('..') # the theorem's context is in the parent directory"
   ]
  },
  {
   "cell_type": "code",
   "execution_count": 2,
   "metadata": {
    "collapsed": false,
    "deletable": true,
    "editable": true
   },
   "outputs": [
    {
     "name": "stdout",
     "output_type": "stream",
     "text": [
      "Beginning proof of fromNegatedFalsification\n",
      "Recorded 'presuming' information\n",
      "Presuming proveit.logic.boolean.implication.affirmViaContradiction, proveit.logic.equality.foldNotEquals, proveit.logic.equality.notEqualsContradiction, proveit.logic.equality.rhsViaEquivalence theorem(s) (and any of their dependencies).\n",
      "Presuming previous theorem(s) in this context (and any of their dependencies).\n"
     ]
    },
    {
     "data": {
      "text/html": [
       "<strong id=\"fromNegatedFalsification\">fromNegatedFalsification:</strong> <a class=\"ProveItLink\" href=\"../__pv_it/a35757d72692c3083b5711e5d425e386915dd8680/expr.ipynb\"><img src=\"../__pv_it/a35757d72692c3083b5711e5d425e386915dd8680/expr.png\" style=\"display:inline;vertical-align:middle;\" /></a><br>(see <a class=\"ProveItLink\" href=\"../__pv_it/a35757d72692c3083b5711e5d425e386915dd8680/dependencies.ipynb\">dependencies</a>)<br>"
      ],
      "text/plain": [
       "fromNegatedFalsification: forall_{A in BOOLEANS | [not](A = FALSE)} A"
      ]
     },
     "execution_count": 2,
     "metadata": {},
     "output_type": "execute_result"
    }
   ],
   "source": [
    "%proving fromNegatedFalsification presuming [foldNotEquals, notEqualsContradiction, affirmViaContradiction]"
   ]
  },
  {
   "cell_type": "code",
   "execution_count": 3,
   "metadata": {
    "collapsed": false,
    "deletable": true,
    "editable": true
   },
   "outputs": [
    {
     "data": {
      "text/html": [
       "<strong id=\"defaults.assumptions\">defaults.assumptions:</strong> <a class=\"ProveItLink\" href=\"../__pv_it/cadeb194cdb40ad0041abf44db4516fd146923df0/expr.ipynb\"><img src=\"../__pv_it/cadeb194cdb40ad0041abf44db4516fd146923df0/expr.png\" style=\"display:inline;vertical-align:middle;\" /></a><br>"
      ],
      "text/plain": [
       "defaults.assumptions: (A in BOOLEANS , [not](A = FALSE))"
      ]
     },
     "execution_count": 3,
     "metadata": {},
     "output_type": "execute_result"
    }
   ],
   "source": [
    "defaults.assumptions = fromNegatedFalsification.conditions"
   ]
  },
  {
   "cell_type": "code",
   "execution_count": 4,
   "metadata": {
    "collapsed": false,
    "deletable": true,
    "editable": true
   },
   "outputs": [
    {
     "data": {
      "text/html": [
       "<strong id=\"AneqF\">AneqF:</strong> <span style=\"font-size:20px;\"><a class=\"ProveItLink\" href=\"../__pv_it/32d06aa7d935c2b15aef2ee892cc97b045626de40/expr.ipynb\"><img src=\"../__pv_it/32d06aa7d935c2b15aef2ee892cc97b045626de40/expr.png\" style=\"display:inline;vertical-align:middle;\" /></a> &#x22A2;&nbsp;<a class=\"ProveItLink\" href=\"../__pv_it/bd1dd8a6108bd19f94c3c8afeea0af23cf5425a70/expr.ipynb\"><img src=\"../__pv_it/bd1dd8a6108bd19f94c3c8afeea0af23cf5425a70/expr.png\" style=\"display:inline;vertical-align:middle;\" /></a></span><br>"
      ],
      "text/plain": [
       "AneqF: {[not](A = FALSE)} |= A != FALSE"
      ]
     },
     "execution_count": 4,
     "metadata": {},
     "output_type": "execute_result"
    }
   ],
   "source": [
    "AneqF = NotEquals(A, FALSE).prove()"
   ]
  },
  {
   "cell_type": "code",
   "execution_count": 5,
   "metadata": {
    "collapsed": false,
    "deletable": true,
    "editable": true
   },
   "outputs": [
    {
     "data": {
      "text/html": [
       "<span style=\"font-size:20px;\"><a class=\"ProveItLink\" href=\"../__pv_it/9d7118cae07072dd9f2b5747b2955d2a004e9fcc0/expr.ipynb\"><img src=\"../__pv_it/9d7118cae07072dd9f2b5747b2955d2a004e9fcc0/expr.png\" style=\"display:inline;vertical-align:middle;\" /></a> &#x22A2;&nbsp;<a class=\"ProveItLink\" href=\"../../../../__pv_it/2cbe72a7ad6f655694dd697106680215e8489b600/expr.ipynb\"><img src=\"../../../../__pv_it/2cbe72a7ad6f655694dd697106680215e8489b600/expr.png\" style=\"display:inline;vertical-align:middle;\" /></a></span>"
      ],
      "text/plain": [
       "{A in BOOLEANS , [not](A = FALSE)} |= A"
      ]
     },
     "execution_count": 5,
     "metadata": {},
     "output_type": "execute_result"
    }
   ],
   "source": [
    "AneqF.affirmViaContradiction(A)"
   ]
  },
  {
   "cell_type": "code",
   "execution_count": 6,
   "metadata": {
    "collapsed": false,
    "deletable": true,
    "editable": true
   },
   "outputs": [
    {
     "data": {
      "text/html": [
       "<table><tr><th>&nbsp;</th><th>step type</th><th>requirements</th><th>statement</th></tr>\n",
       "<tr><td>0</td><td>generalizaton</td><td>1</td><td><span style=\"font-size:20px;\"> &#x22A2;&nbsp;<a class=\"ProveItLink\" href=\"../__pv_it/a35757d72692c3083b5711e5d425e386915dd8680/expr.ipynb\"><img src=\"../__pv_it/a35757d72692c3083b5711e5d425e386915dd8680/expr.png\" style=\"display:inline;vertical-align:middle;\" /></a></span></td></tr>\n",
       "<tr><td>1</td><td>specialization</td><td>2, 3, 4</td><td><span style=\"font-size:20px;\"><a class=\"ProveItLink\" href=\"../__pv_it/9d7118cae07072dd9f2b5747b2955d2a004e9fcc0/expr.ipynb\"><img src=\"../__pv_it/9d7118cae07072dd9f2b5747b2955d2a004e9fcc0/expr.png\" style=\"display:inline;vertical-align:middle;\" /></a> &#x22A2;&nbsp;<a class=\"ProveItLink\" href=\"../../../../__pv_it/2cbe72a7ad6f655694dd697106680215e8489b600/expr.ipynb\"><img src=\"../../../../__pv_it/2cbe72a7ad6f655694dd697106680215e8489b600/expr.png\" style=\"display:inline;vertical-align:middle;\" /></a></span></td></tr>\n",
       "<tr><td>&nbsp;</td><td colspan=4 style=\"text-align:left\"><span style=\"font-size:20px;\"><a class=\"ProveItLink\" href=\"../__pv_it/e2ee195baea449ecf67452694c66cbd67b2c19580/expr.ipynb\"><img src=\"../__pv_it/e2ee195baea449ecf67452694c66cbd67b2c19580/expr.png\" style=\"display:inline;vertical-align:middle;\" /></a></span></td></tr><tr><td>2</td><td>theorem</td><td></td><td><span style=\"font-size:20px;\"> &#x22A2;&nbsp;<a class=\"ProveItLink\" href=\"../../implication/__pv_it/0cd927bb5a33e37fd1fca2ccfac555c7e4db711c0/expr.ipynb\"><img src=\"../../implication/__pv_it/0cd927bb5a33e37fd1fca2ccfac555c7e4db711c0/expr.png\" style=\"display:inline;vertical-align:middle;\" /></a></span></td></tr>\n",
       "<tr><td>&nbsp;</td><td colspan=4 style-\"text-align:left\"><a class=\"ProveItLink\" href=\"../../implication/_proofs_/affirmViaContradiction.ipynb\">proveit.logic.boolean.implication.affirmViaContradiction</a></td></tr><tr><td>3</td><td>assumption</td><td></td><td><span style=\"font-size:20px;\"><a class=\"ProveItLink\" href=\"../__pv_it/017ca8cfa034181c90ba15dd10869f0f4e516d6a0/expr.ipynb\"><img src=\"../__pv_it/017ca8cfa034181c90ba15dd10869f0f4e516d6a0/expr.png\" style=\"display:inline;vertical-align:middle;\" /></a> &#x22A2;&nbsp;<a class=\"ProveItLink\" href=\"../__pv_it/03a5c2b5cc6fc2c3cd686b4bcf84379b893abe210/expr.ipynb\"><img src=\"../__pv_it/03a5c2b5cc6fc2c3cd686b4bcf84379b893abe210/expr.png\" style=\"display:inline;vertical-align:middle;\" /></a></span></td></tr>\n",
       "<tr><td>4</td><td>hypothetical reasoning</td><td>5</td><td><span style=\"font-size:20px;\"><a class=\"ProveItLink\" href=\"../__pv_it/32d06aa7d935c2b15aef2ee892cc97b045626de40/expr.ipynb\"><img src=\"../__pv_it/32d06aa7d935c2b15aef2ee892cc97b045626de40/expr.png\" style=\"display:inline;vertical-align:middle;\" /></a> &#x22A2;&nbsp;<a class=\"ProveItLink\" href=\"../__pv_it/631413d4406592fd9ab60b38b17db55f854bb5f40/expr.ipynb\"><img src=\"../__pv_it/631413d4406592fd9ab60b38b17db55f854bb5f40/expr.png\" style=\"display:inline;vertical-align:middle;\" /></a></span></td></tr>\n",
       "<tr><td>5</td><td>specialization</td><td>6, 7, 8</td><td><span style=\"font-size:20px;\"><a class=\"ProveItLink\" href=\"../__pv_it/9cafae2622f6737c28bfc83b3481769dd6f86fe20/expr.ipynb\"><img src=\"../__pv_it/9cafae2622f6737c28bfc83b3481769dd6f86fe20/expr.png\" style=\"display:inline;vertical-align:middle;\" /></a> &#x22A2;&nbsp;<a class=\"ProveItLink\" href=\"../../__pv_it/8f1f7fac882de28c72b62ab80a1700b6d8fd066b0/expr.ipynb\"><img src=\"../../__pv_it/8f1f7fac882de28c72b62ab80a1700b6d8fd066b0/expr.png\" style=\"display:inline;vertical-align:middle;\" /></a></span></td></tr>\n",
       "<tr><td>&nbsp;</td><td colspan=4 style=\"text-align:left\"><span style=\"font-size:20px;\"><a class=\"ProveItLink\" href=\"../__pv_it/cd33168b129274a9bf719c22609ca986d1a849530/expr.ipynb\"><img src=\"../__pv_it/cd33168b129274a9bf719c22609ca986d1a849530/expr.png\" style=\"display:inline;vertical-align:middle;\" /></a>, <a class=\"ProveItLink\" href=\"../__pv_it/2465f787977bed818bfc63ceb3806768f54e02dd0/expr.ipynb\"><img src=\"../__pv_it/2465f787977bed818bfc63ceb3806768f54e02dd0/expr.png\" style=\"display:inline;vertical-align:middle;\" /></a></span></td></tr><tr><td>6</td><td>theorem</td><td></td><td><span style=\"font-size:20px;\"> &#x22A2;&nbsp;<a class=\"ProveItLink\" href=\"../../../equality/__pv_it/539d4c6dc907184612963bb5a51d5e54e7d026780/expr.ipynb\"><img src=\"../../../equality/__pv_it/539d4c6dc907184612963bb5a51d5e54e7d026780/expr.png\" style=\"display:inline;vertical-align:middle;\" /></a></span></td></tr>\n",
       "<tr><td>&nbsp;</td><td colspan=4 style-\"text-align:left\"><a class=\"ProveItLink\" href=\"../../../equality/_proofs_/notEqualsContradiction.ipynb\">proveit.logic.equality.notEqualsContradiction</a></td></tr><tr><td>7</td><td>specialization</td><td>9, 10</td><td><span style=\"font-size:20px;\"><a class=\"ProveItLink\" href=\"../__pv_it/7680528e1ee86122472bd9f62475b835210285660/expr.ipynb\"><img src=\"../__pv_it/7680528e1ee86122472bd9f62475b835210285660/expr.png\" style=\"display:inline;vertical-align:middle;\" /></a> &#x22A2;&nbsp;<a class=\"ProveItLink\" href=\"../__pv_it/59b818aa3070d9f9cb643715737df9a2274cbc840/expr.ipynb\"><img src=\"../__pv_it/59b818aa3070d9f9cb643715737df9a2274cbc840/expr.png\" style=\"display:inline;vertical-align:middle;\" /></a></span></td></tr>\n",
       "<tr><td>&nbsp;</td><td colspan=4 style=\"text-align:left\"><span style=\"font-size:20px;\"><a class=\"ProveItLink\" href=\"../__pv_it/e2ee195baea449ecf67452694c66cbd67b2c19580/expr.ipynb\"><img src=\"../__pv_it/e2ee195baea449ecf67452694c66cbd67b2c19580/expr.png\" style=\"display:inline;vertical-align:middle;\" /></a></span></td></tr><tr><td>8</td><td>specialization</td><td>11, 12</td><td><span style=\"font-size:20px;\"><a class=\"ProveItLink\" href=\"../__pv_it/32d06aa7d935c2b15aef2ee892cc97b045626de40/expr.ipynb\"><img src=\"../__pv_it/32d06aa7d935c2b15aef2ee892cc97b045626de40/expr.png\" style=\"display:inline;vertical-align:middle;\" /></a> &#x22A2;&nbsp;<a class=\"ProveItLink\" href=\"../__pv_it/bd1dd8a6108bd19f94c3c8afeea0af23cf5425a70/expr.ipynb\"><img src=\"../__pv_it/bd1dd8a6108bd19f94c3c8afeea0af23cf5425a70/expr.png\" style=\"display:inline;vertical-align:middle;\" /></a></span></td></tr>\n",
       "<tr><td>&nbsp;</td><td colspan=4 style=\"text-align:left\"><span style=\"font-size:20px;\"><a class=\"ProveItLink\" href=\"../__pv_it/cd33168b129274a9bf719c22609ca986d1a849530/expr.ipynb\"><img src=\"../__pv_it/cd33168b129274a9bf719c22609ca986d1a849530/expr.png\" style=\"display:inline;vertical-align:middle;\" /></a>, <a class=\"ProveItLink\" href=\"../__pv_it/2465f787977bed818bfc63ceb3806768f54e02dd0/expr.ipynb\"><img src=\"../__pv_it/2465f787977bed818bfc63ceb3806768f54e02dd0/expr.png\" style=\"display:inline;vertical-align:middle;\" /></a></span></td></tr><tr><td>9</td><td>axiom</td><td></td><td><span style=\"font-size:20px;\"> &#x22A2;&nbsp;<a class=\"ProveItLink\" href=\"../__pv_it/4b5dd3f037f440d68a8f1e360a14677af00fd6dd0/expr.ipynb\"><img src=\"../__pv_it/4b5dd3f037f440d68a8f1e360a14677af00fd6dd0/expr.png\" style=\"display:inline;vertical-align:middle;\" /></a></span></td></tr>\n",
       "<tr><td>&nbsp;</td><td colspan=4 style-\"text-align:left\"><a class=\"ProveItLink\" href=\"../_axioms_.ipynb#negationElim\">proveit.logic.boolean.negation.negationElim</a></td></tr><tr><td>10</td><td>assumption</td><td></td><td><span style=\"font-size:20px;\"><a class=\"ProveItLink\" href=\"../__pv_it/7680528e1ee86122472bd9f62475b835210285660/expr.ipynb\"><img src=\"../__pv_it/7680528e1ee86122472bd9f62475b835210285660/expr.png\" style=\"display:inline;vertical-align:middle;\" /></a> &#x22A2;&nbsp;<a class=\"ProveItLink\" href=\"../__pv_it/2c81ead3bf46a86573cd5304798392177b4792b40/expr.ipynb\"><img src=\"../__pv_it/2c81ead3bf46a86573cd5304798392177b4792b40/expr.png\" style=\"display:inline;vertical-align:middle;\" /></a></span></td></tr>\n",
       "<tr><td>11</td><td>theorem</td><td></td><td><span style=\"font-size:20px;\"> &#x22A2;&nbsp;<a class=\"ProveItLink\" href=\"../../../equality/__pv_it/a7d53f946ce05c1193bee9cdef74ca79869c77560/expr.ipynb\"><img src=\"../../../equality/__pv_it/a7d53f946ce05c1193bee9cdef74ca79869c77560/expr.png\" style=\"display:inline;vertical-align:middle;\" /></a></span></td></tr>\n",
       "<tr><td>&nbsp;</td><td colspan=4 style-\"text-align:left\"><a class=\"ProveItLink\" href=\"../../../equality/_proofs_/foldNotEquals.ipynb\">proveit.logic.equality.foldNotEquals</a></td></tr><tr><td>12</td><td>assumption</td><td></td><td><span style=\"font-size:20px;\"><a class=\"ProveItLink\" href=\"../__pv_it/32d06aa7d935c2b15aef2ee892cc97b045626de40/expr.ipynb\"><img src=\"../__pv_it/32d06aa7d935c2b15aef2ee892cc97b045626de40/expr.png\" style=\"display:inline;vertical-align:middle;\" /></a> &#x22A2;&nbsp;<a class=\"ProveItLink\" href=\"../__pv_it/5e7c526a98fa2ece8273380cdaf0be7f8dd9dda70/expr.ipynb\"><img src=\"../__pv_it/5e7c526a98fa2ece8273380cdaf0be7f8dd9dda70/expr.png\" style=\"display:inline;vertical-align:middle;\" /></a></span></td></tr>\n",
       "</table>"
      ],
      "text/plain": [
       "\tstep type\trequirements\tstatement\n",
       "0\tgeneralizaton\t1\t|= forall_{A in BOOLEANS | [not](A = FALSE)} A\n",
       "1\tspecialization\t2, 3, 4\t{A in BOOLEANS , [not](A = FALSE)} |= A\n",
       "\tA -> A\n",
       "2\ttheorem\t\t|= forall_{A in BOOLEANS | [not](A) => FALSE} A\n",
       "\tproveit.logic.boolean.implication.affirmViaContradiction\n",
       "3\tassumption\t\t{A in BOOLEANS} |= A in BOOLEANS\n",
       "4\thypothetical reasoning\t5\t{[not](A = FALSE)} |= [not](A) => FALSE\n",
       "5\tspecialization\t6, 7, 8\t{[not](A = FALSE) , [not](A)} |= FALSE\n",
       "\tx -> A, y -> FALSE\n",
       "6\ttheorem\t\t|= forall_{x, y | x = y , x != y} FALSE\n",
       "\tproveit.logic.equality.notEqualsContradiction\n",
       "7\tspecialization\t9, 10\t{[not](A)} |= A = FALSE\n",
       "\tA -> A\n",
       "8\tspecialization\t11, 12\t{[not](A = FALSE)} |= A != FALSE\n",
       "\tx -> A, y -> FALSE\n",
       "9\taxiom\t\t|= forall_{A | [not](A)} (A = FALSE)\n",
       "\tproveit.logic.boolean.negation.negationElim\n",
       "10\tassumption\t\t{[not](A)} |= [not](A)\n",
       "11\ttheorem\t\t|= forall_{x, y | [not](x = y)} (x != y)\n",
       "\tproveit.logic.equality.foldNotEquals\n",
       "12\tassumption\t\t{[not](A = FALSE)} |= [not](A = FALSE)"
      ]
     },
     "execution_count": 6,
     "metadata": {},
     "output_type": "execute_result"
    }
   ],
   "source": [
    "%qed"
   ]
  },
  {
   "cell_type": "code",
   "execution_count": 7,
   "metadata": {
    "collapsed": true,
    "deletable": true,
    "editable": true
   },
   "outputs": [],
   "source": []
  }
 ],
 "metadata": {
  "kernelspec": {
   "display_name": "Python 3",
   "language": "python",
   "name": "python3"
  },
  "language_info": {
   "codemirror_mode": {
    "name": "ipython",
    "version": 3
   },
   "file_extension": ".py",
   "mimetype": "text/x-python",
   "name": "python",
   "nbconvert_exporter": "python",
   "pygments_lexer": "ipython3",
   "version": "3.7.0"
  }
 },
 "nbformat": 4,
 "nbformat_minor": 0
}
