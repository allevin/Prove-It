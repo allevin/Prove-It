{
 "cells": [
  {
   "cell_type": "markdown",
   "metadata": {
    "collapsed": true
   },
   "source": [
    "Theorems for context <a href=\"_context_.ipynb\" class=\"ProveItLink\">proveit.logic.boolean</a>\n",
    "========"
   ]
  },
  {
   "cell_type": "code",
   "execution_count": 1,
   "metadata": {},
   "outputs": [],
   "source": [
    "import proveit\n",
    "from proveit.logic import Booleans, TRUE, FALSE, inBool, Implies, Not, And, Or, Forall\n",
    "from proveit.logic import Equals, NotEquals, InSet\n",
    "from proveit._common_ import A, C, P, Q, PofA, QofA\n",
    "from proveit.logic._common_ import PofTrue, PofFalse, QimplPofTrue, QimplPofFalse"
   ]
  },
  {
   "cell_type": "code",
   "execution_count": 2,
   "metadata": {},
   "outputs": [],
   "source": [
    "import proveit\n",
    "import proveit.logic\n",
    "#from proveit.logic import Booleans #, TRUE, FALSE, inBool, Implies, Not, And, Or, Forall"
   ]
  },
  {
   "cell_type": "code",
   "execution_count": 3,
   "metadata": {},
   "outputs": [
    {
     "name": "stdout",
     "output_type": "stream",
     "text": [
      "Defining theorems for context 'proveit.logic.boolean'\n",
      "Subsequent end-of-cell assignments will define theorems\n",
      "'%end theorems' will finalize the definitions\n"
     ]
    }
   ],
   "source": [
    "%begin theorems"
   ]
  },
  {
   "cell_type": "markdown",
   "metadata": {},
   "source": [
    "### Comparisons between Booleans"
   ]
  },
  {
   "cell_type": "code",
   "execution_count": 4,
   "metadata": {
    "scrolled": true
   },
   "outputs": [
    {
     "data": {
      "text/html": [
       "<strong id=\"trueEqTrue\"><a class=\"ProveItLink\" href=\"_proofs_/trueEqTrue.ipynb\">trueEqTrue</a>:</strong> <a class=\"ProveItLink\" href=\"__pv_it/39b7bb11d9285a053f62e0eb2edba7c6180380300/expr.ipynb\"><img src=\"__pv_it/39b7bb11d9285a053f62e0eb2edba7c6180380300/expr.png\" style=\"display:inline;vertical-align:middle;\" /></a><br>"
      ],
      "text/plain": [
       "trueEqTrue: TRUE = TRUE"
      ]
     },
     "execution_count": 4,
     "metadata": {},
     "output_type": "execute_result"
    }
   ],
   "source": [
    "trueEqTrue = Equals(TRUE, TRUE)"
   ]
  },
  {
   "cell_type": "code",
   "execution_count": 5,
   "metadata": {},
   "outputs": [
    {
     "data": {
      "text/html": [
       "<strong id=\"falseEqFalse\"><a class=\"ProveItLink\" href=\"_proofs_/falseEqFalse.ipynb\">falseEqFalse</a>:</strong> <a class=\"ProveItLink\" href=\"__pv_it/8ea916c02b75ccfcfc2b0e367a466f2a5eea21560/expr.ipynb\"><img src=\"__pv_it/8ea916c02b75ccfcfc2b0e367a466f2a5eea21560/expr.png\" style=\"display:inline;vertical-align:middle;\" /></a><br>"
      ],
      "text/plain": [
       "falseEqFalse: FALSE = FALSE"
      ]
     },
     "execution_count": 5,
     "metadata": {},
     "output_type": "execute_result"
    }
   ],
   "source": [
    "falseEqFalse = Equals(FALSE, FALSE)"
   ]
  },
  {
   "cell_type": "code",
   "execution_count": 6,
   "metadata": {},
   "outputs": [
    {
     "data": {
      "text/html": [
       "<strong id=\"trueNotFalse\"><a class=\"ProveItLink\" href=\"_proofs_/trueNotFalse.ipynb\">trueNotFalse</a>:</strong> <a class=\"ProveItLink\" href=\"__pv_it/b021c743ee41463bf5901121b5b091f2d2a9a6ee0/expr.ipynb\"><img src=\"__pv_it/b021c743ee41463bf5901121b5b091f2d2a9a6ee0/expr.png\" style=\"display:inline;vertical-align:middle;\" /></a><br>"
      ],
      "text/plain": [
       "trueNotFalse: TRUE != FALSE"
      ]
     },
     "execution_count": 6,
     "metadata": {},
     "output_type": "execute_result"
    }
   ],
   "source": [
    "trueNotFalse = NotEquals(TRUE, FALSE)"
   ]
  },
  {
   "cell_type": "markdown",
   "metadata": {},
   "source": [
    "### `TRUE` and `FALSE` are in the set of Booleans:"
   ]
  },
  {
   "cell_type": "code",
   "execution_count": 7,
   "metadata": {},
   "outputs": [
    {
     "data": {
      "text/html": [
       "<strong id=\"foldInBool\"><a class=\"ProveItLink\" href=\"_proofs_/foldInBool.ipynb\">foldInBool</a>:</strong> <a class=\"ProveItLink\" href=\"__pv_it/b979d3fddb89057d4f0a79714f75e2bc71c0bf560/expr.ipynb\"><img src=\"__pv_it/b979d3fddb89057d4f0a79714f75e2bc71c0bf560/expr.png\" style=\"display:inline;vertical-align:middle;\" /></a><br>"
      ],
      "text/plain": [
       "foldInBool: forall_{A | (A = TRUE) or (A = FALSE)} (A in BOOLEANS)"
      ]
     },
     "execution_count": 7,
     "metadata": {},
     "output_type": "execute_result"
    }
   ],
   "source": [
    "foldInBool = Forall(A, inBool(A), \n",
    "                    conditions=[Or(Equals(A, TRUE), Equals(A, FALSE))])"
   ]
  },
  {
   "cell_type": "code",
   "execution_count": 8,
   "metadata": {},
   "outputs": [
    {
     "data": {
      "text/html": [
       "<strong id=\"trueInBool\"><a class=\"ProveItLink\" href=\"_proofs_/trueInBool.ipynb\">trueInBool</a>:</strong> <a class=\"ProveItLink\" href=\"__pv_it/3e7350f116816f72fa422609af12e912bbd1845d0/expr.ipynb\"><img src=\"__pv_it/3e7350f116816f72fa422609af12e912bbd1845d0/expr.png\" style=\"display:inline;vertical-align:middle;\" /></a><br>"
      ],
      "text/plain": [
       "trueInBool: TRUE in BOOLEANS"
      ]
     },
     "execution_count": 8,
     "metadata": {},
     "output_type": "execute_result"
    }
   ],
   "source": [
    "trueInBool = InSet(TRUE, Booleans)"
   ]
  },
  {
   "cell_type": "code",
   "execution_count": 9,
   "metadata": {},
   "outputs": [
    {
     "data": {
      "text/html": [
       "<strong id=\"falseInBool\"><a class=\"ProveItLink\" href=\"_proofs_/falseInBool.ipynb\">falseInBool</a>:</strong> <a class=\"ProveItLink\" href=\"__pv_it/9f85861a2422bfaf1627227c7d0968a483b71e9d0/expr.ipynb\"><img src=\"__pv_it/9f85861a2422bfaf1627227c7d0968a483b71e9d0/expr.png\" style=\"display:inline;vertical-align:middle;\" /></a><br>"
      ],
      "text/plain": [
       "falseInBool: FALSE in BOOLEANS"
      ]
     },
     "execution_count": 9,
     "metadata": {},
     "output_type": "execute_result"
    }
   ],
   "source": [
    "falseInBool = InSet(FALSE, Booleans)"
   ]
  },
  {
   "cell_type": "code",
   "execution_count": 10,
   "metadata": {},
   "outputs": [
    {
     "data": {
      "text/html": [
       "<strong id=\"inBoolIfTrue\"><a class=\"ProveItLink\" href=\"_proofs_/inBoolIfTrue.ipynb\">inBoolIfTrue</a>:</strong> <a class=\"ProveItLink\" href=\"__pv_it/cea60384d98dcd1f1843cfa91aaf2df1f412afdf0/expr.ipynb\"><img src=\"__pv_it/cea60384d98dcd1f1843cfa91aaf2df1f412afdf0/expr.png\" style=\"display:inline;vertical-align:middle;\" /></a><br>"
      ],
      "text/plain": [
       "inBoolIfTrue: forall_{A | A} (A in BOOLEANS)"
      ]
     },
     "execution_count": 10,
     "metadata": {},
     "output_type": "execute_result"
    }
   ],
   "source": [
    "inBoolIfTrue = Forall(A, inBool(A), conditions=[A])"
   ]
  },
  {
   "cell_type": "code",
   "execution_count": 11,
   "metadata": {},
   "outputs": [
    {
     "data": {
      "text/html": [
       "<strong id=\"inBoolIfFalse\"><a class=\"ProveItLink\" href=\"_proofs_/inBoolIfFalse.ipynb\">inBoolIfFalse</a>:</strong> <a class=\"ProveItLink\" href=\"__pv_it/693a1f51914f5e4f499a2f524dea2fd116e14d520/expr.ipynb\"><img src=\"__pv_it/693a1f51914f5e4f499a2f524dea2fd116e14d520/expr.png\" style=\"display:inline;vertical-align:middle;\" /></a><br>"
      ],
      "text/plain": [
       "inBoolIfFalse: forall_{A | [not](A)} (A in BOOLEANS)"
      ]
     },
     "execution_count": 11,
     "metadata": {},
     "output_type": "execute_result"
    }
   ],
   "source": [
    "inBoolIfFalse = Forall(A, inBool(A), conditions=[Not(A)])"
   ]
  },
  {
   "cell_type": "code",
   "execution_count": 12,
   "metadata": {},
   "outputs": [
    {
     "data": {
      "text/html": [
       "<strong id=\"notEqualsFalse\"><a class=\"ProveItLink\" href=\"_proofs_/notEqualsFalse.ipynb\">notEqualsFalse</a>:</strong> <a class=\"ProveItLink\" href=\"__pv_it/49254736c435df258a8062fb40cc88d4289191dd0/expr.ipynb\"><img src=\"__pv_it/49254736c435df258a8062fb40cc88d4289191dd0/expr.png\" style=\"display:inline;vertical-align:middle;\" /></a><br>"
      ],
      "text/plain": [
       "notEqualsFalse: forall_{A | A} (A != FALSE)"
      ]
     },
     "execution_count": 12,
     "metadata": {},
     "output_type": "execute_result"
    }
   ],
   "source": [
    "notEqualsFalse = Forall(A, NotEquals(A, FALSE), conditions=[A])"
   ]
  },
  {
   "cell_type": "code",
   "execution_count": 13,
   "metadata": {},
   "outputs": [
    {
     "data": {
      "text/html": [
       "<strong id=\"fromNotFalse\"><a class=\"ProveItLink\" href=\"_proofs_/fromNotFalse.ipynb\">fromNotFalse</a>:</strong> <a class=\"ProveItLink\" href=\"__pv_it/dd98f1569af94ade44ddf5fa6c5dce547ce85cb80/expr.ipynb\"><img src=\"__pv_it/dd98f1569af94ade44ddf5fa6c5dce547ce85cb80/expr.png\" style=\"display:inline;vertical-align:middle;\" /></a><br>"
      ],
      "text/plain": [
       "fromNotFalse: forall_{A in BOOLEANS | A != FALSE} A"
      ]
     },
     "execution_count": 13,
     "metadata": {},
     "output_type": "execute_result"
    }
   ],
   "source": [
    "fromNotFalse = Forall(A, A, conditions=[NotEquals(A, FALSE)], domain=Booleans)"
   ]
  },
  {
   "cell_type": "markdown",
   "metadata": {},
   "source": [
    "### Must equal `TRUE` or `FALSE` if in the set of Booleans:"
   ]
  },
  {
   "cell_type": "markdown",
   "metadata": {},
   "source": [
    "***The first form of 'unfold' is a more direct consequence of the Booleans definition.  See also 'unfoldInBool'.***"
   ]
  },
  {
   "cell_type": "code",
   "execution_count": 14,
   "metadata": {},
   "outputs": [
    {
     "data": {
      "text/html": [
       "<strong id=\"unfoldInBoolExplicit\"><a class=\"ProveItLink\" href=\"_proofs_/unfoldInBoolExplicit.ipynb\">unfoldInBoolExplicit</a>:</strong> <a class=\"ProveItLink\" href=\"__pv_it/1979d13edd9c0543cc94aa76a589e0cb6645ed2a0/expr.ipynb\"><img src=\"__pv_it/1979d13edd9c0543cc94aa76a589e0cb6645ed2a0/expr.png\" style=\"display:inline;vertical-align:middle;\" /></a><br>"
      ],
      "text/plain": [
       "unfoldInBoolExplicit: forall_{A in BOOLEANS} ((A = TRUE) or (A = FALSE))"
      ]
     },
     "execution_count": 14,
     "metadata": {},
     "output_type": "execute_result"
    }
   ],
   "source": [
    "unfoldInBoolExplicit = Forall(A, Or(Equals(A, TRUE), Equals(A, FALSE)), domain=Booleans)"
   ]
  },
  {
   "cell_type": "markdown",
   "metadata": {},
   "source": [
    "### Folding $\\forall$ over the Boolean domain"
   ]
  },
  {
   "cell_type": "code",
   "execution_count": 15,
   "metadata": {},
   "outputs": [
    {
     "data": {
      "text/html": [
       "<strong id=\"foldForallOverBool\"><a class=\"ProveItLink\" href=\"_proofs_/foldForallOverBool.ipynb\">foldForallOverBool</a>:</strong> <a class=\"ProveItLink\" href=\"__pv_it/965473c685174e6d5954e33f39f8de1cc1c417c10/expr.ipynb\"><img src=\"__pv_it/965473c685174e6d5954e33f39f8de1cc1c417c10/expr.png\" style=\"display:inline;vertical-align:middle;\" /></a><br>"
      ],
      "text/plain": [
       "foldForallOverBool: forall_{P | P(TRUE) , P(FALSE)} [forall_{A in BOOLEANS} P(A)]"
      ]
     },
     "execution_count": 15,
     "metadata": {},
     "output_type": "execute_result"
    }
   ],
   "source": [
    "foldForallOverBool = Forall(P, Forall(A, PofA, domain=Booleans), conditions=[PofTrue, PofFalse])"
   ]
  },
  {
   "cell_type": "code",
   "execution_count": 16,
   "metadata": {},
   "outputs": [
    {
     "data": {
      "text/html": [
       "<strong id=\"foldConditionedForallOverBool\"><a class=\"ProveItLink\" href=\"_proofs_/foldConditionedForallOverBool.ipynb\">foldConditionedForallOverBool</a>:</strong> <a class=\"ProveItLink\" href=\"__pv_it/0315c175da9a761574c03d47bf1b71063122542c0/expr.ipynb\"><img src=\"__pv_it/0315c175da9a761574c03d47bf1b71063122542c0/expr.png\" style=\"display:inline;vertical-align:middle;\" /></a><br>"
      ],
      "text/plain": [
       "foldConditionedForallOverBool: forall_{P, Q | Q(TRUE) => P(TRUE) , Q(FALSE) => P(FALSE)} [forall_{A in BOOLEANS | Q(A)} P(A)]"
      ]
     },
     "execution_count": 16,
     "metadata": {},
     "output_type": "execute_result"
    }
   ],
   "source": [
    "foldConditionedForallOverBool = Forall((P, Q), Forall(A, PofA, domain=Booleans, \n",
    "                                                      conditions=[QofA]), \n",
    "                                       conditions=[QimplPofTrue, QimplPofFalse])"
   ]
  },
  {
   "cell_type": "markdown",
   "metadata": {},
   "source": [
    "### Evaluation of $\\forall$ over the Boolean domain"
   ]
  },
  {
   "cell_type": "code",
   "execution_count": 17,
   "metadata": {},
   "outputs": [
    {
     "data": {
      "text/html": [
       "<strong id=\"forallBoolEvalTrue\"><a class=\"ProveItLink\" href=\"_proofs_/forallBoolEvalTrue.ipynb\">forallBoolEvalTrue</a>:</strong> <a class=\"ProveItLink\" href=\"__pv_it/6875ae5d1359aba7af9a6028ff0534b131824dba0/expr.ipynb\"><img src=\"__pv_it/6875ae5d1359aba7af9a6028ff0534b131824dba0/expr.png\" style=\"display:inline;vertical-align:middle;\" /></a><br>"
      ],
      "text/plain": [
       "forallBoolEvalTrue: forall_{P | P(TRUE) = TRUE , P(FALSE) = TRUE} ([forall_{A in BOOLEANS} P(A)] = TRUE)"
      ]
     },
     "execution_count": 17,
     "metadata": {},
     "output_type": "execute_result"
    }
   ],
   "source": [
    "forallBoolEvalTrue = Forall(P, Equals(Forall(A, PofA, domain=Booleans), TRUE),\n",
    "                           conditions=[Equals(PofTrue, TRUE), Equals(PofFalse, TRUE)])"
   ]
  },
  {
   "cell_type": "code",
   "execution_count": 18,
   "metadata": {},
   "outputs": [
    {
     "data": {
      "text/html": [
       "<strong id=\"unfoldForallOverBool\"><a class=\"ProveItLink\" href=\"_proofs_/unfoldForallOverBool.ipynb\">unfoldForallOverBool</a>:</strong> <a class=\"ProveItLink\" href=\"__pv_it/b1f4062f32b0853d6d7fa5c6fd03ee0b926782140/expr.ipynb\"><img src=\"__pv_it/b1f4062f32b0853d6d7fa5c6fd03ee0b926782140/expr.png\" style=\"display:inline;vertical-align:middle;\" /></a><br>"
      ],
      "text/plain": [
       "unfoldForallOverBool: forall_{P} ([forall_{A in BOOLEANS} P(A)] => (P(TRUE) and P(FALSE)))"
      ]
     },
     "execution_count": 18,
     "metadata": {},
     "output_type": "execute_result"
    }
   ],
   "source": [
    "unfoldForallOverBool = Forall(P, Implies(Forall(A, PofA, domain=Booleans), \n",
    "                                         And(PofTrue, PofFalse)))"
   ]
  },
  {
   "cell_type": "markdown",
   "metadata": {},
   "source": [
    "**Various ways for a $\\forall$ expression over the set of Booleans to evaluate to `FALSE`:**"
   ]
  },
  {
   "cell_type": "code",
   "execution_count": 19,
   "metadata": {},
   "outputs": [],
   "source": [
    "def _forallBoolEvalFalse(PofTrueVal, PofFalseVal):\n",
    "    return Forall(P, Implies(And(Equals(PofTrue, PofTrueVal), Equals(PofFalse, PofFalseVal)), \n",
    "                             Equals(Forall(A, PofA, domain=Booleans), FALSE)))"
   ]
  },
  {
   "cell_type": "code",
   "execution_count": 20,
   "metadata": {},
   "outputs": [
    {
     "data": {
      "text/html": [
       "<strong id=\"forallBoolEvalFalseViaFF\"><a class=\"ProveItLink\" href=\"_proofs_/forallBoolEvalFalseViaFF.ipynb\">forallBoolEvalFalseViaFF</a>:</strong> <a class=\"ProveItLink\" href=\"__pv_it/462d5e4cc9734625a3df5cff8db6f70cad0cdab10/expr.ipynb\"><img src=\"__pv_it/462d5e4cc9734625a3df5cff8db6f70cad0cdab10/expr.png\" style=\"display:inline;vertical-align:middle;\" /></a><br>"
      ],
      "text/plain": [
       "forallBoolEvalFalseViaFF: forall_{P} (((P(TRUE) = FALSE) and (P(FALSE) = FALSE)) => ([forall_{A in BOOLEANS} P(A)] = FALSE))"
      ]
     },
     "execution_count": 20,
     "metadata": {},
     "output_type": "execute_result"
    }
   ],
   "source": [
    "forallBoolEvalFalseViaFF = _forallBoolEvalFalse(FALSE, FALSE)"
   ]
  },
  {
   "cell_type": "code",
   "execution_count": 21,
   "metadata": {},
   "outputs": [
    {
     "data": {
      "text/html": [
       "<strong id=\"forallBoolEvalFalseViaFT\"><a class=\"ProveItLink\" href=\"_proofs_/forallBoolEvalFalseViaFT.ipynb\">forallBoolEvalFalseViaFT</a>:</strong> <a class=\"ProveItLink\" href=\"__pv_it/39d0c75f85393e355f19cdf1d5cd2713c08e04310/expr.ipynb\"><img src=\"__pv_it/39d0c75f85393e355f19cdf1d5cd2713c08e04310/expr.png\" style=\"display:inline;vertical-align:middle;\" /></a><br>"
      ],
      "text/plain": [
       "forallBoolEvalFalseViaFT: forall_{P} (((P(TRUE) = FALSE) and (P(FALSE) = TRUE)) => ([forall_{A in BOOLEANS} P(A)] = FALSE))"
      ]
     },
     "execution_count": 21,
     "metadata": {},
     "output_type": "execute_result"
    }
   ],
   "source": [
    "forallBoolEvalFalseViaFT = _forallBoolEvalFalse(FALSE, TRUE)"
   ]
  },
  {
   "cell_type": "code",
   "execution_count": 22,
   "metadata": {},
   "outputs": [
    {
     "data": {
      "text/html": [
       "<strong id=\"forallBoolEvalFalseViaTF\"><a class=\"ProveItLink\" href=\"_proofs_/forallBoolEvalFalseViaTF.ipynb\">forallBoolEvalFalseViaTF</a>:</strong> <a class=\"ProveItLink\" href=\"__pv_it/d1e05019582b1765b9670304a7d2b1afe61457730/expr.ipynb\"><img src=\"__pv_it/d1e05019582b1765b9670304a7d2b1afe61457730/expr.png\" style=\"display:inline;vertical-align:middle;\" /></a><br>"
      ],
      "text/plain": [
       "forallBoolEvalFalseViaTF: forall_{P} (((P(TRUE) = TRUE) and (P(FALSE) = FALSE)) => ([forall_{A in BOOLEANS} P(A)] = FALSE))"
      ]
     },
     "execution_count": 22,
     "metadata": {},
     "output_type": "execute_result"
    }
   ],
   "source": [
    "forallBoolEvalFalseViaTF = _forallBoolEvalFalse(TRUE, FALSE)"
   ]
  },
  {
   "cell_type": "markdown",
   "metadata": {},
   "source": [
    "### Must be a true statement or a false statement if in the set of Booleans:"
   ]
  },
  {
   "cell_type": "markdown",
   "metadata": {},
   "source": [
    "*** The second form, known as the 'law of excluded middle' can be more useful for unfolding the meaning of being in the set of Booleans ***"
   ]
  },
  {
   "cell_type": "code",
   "execution_count": 23,
   "metadata": {},
   "outputs": [
    {
     "data": {
      "text/html": [
       "<strong id=\"unfoldInBool\"><a class=\"ProveItLink\" href=\"_proofs_/unfoldInBool.ipynb\">unfoldInBool</a>:</strong> <a class=\"ProveItLink\" href=\"__pv_it/4fb5bc72bb793d3fe0bbf07e51b7bad308e903a40/expr.ipynb\"><img src=\"__pv_it/4fb5bc72bb793d3fe0bbf07e51b7bad308e903a40/expr.png\" style=\"display:inline;vertical-align:middle;\" /></a><br>"
      ],
      "text/plain": [
       "unfoldInBool: forall_{A in BOOLEANS} (A or [not](A))"
      ]
     },
     "execution_count": 23,
     "metadata": {},
     "output_type": "execute_result"
    }
   ],
   "source": [
    "unfoldInBool = Forall(A, Or(A, Not(A)), domain=Booleans)"
   ]
  },
  {
   "cell_type": "code",
   "execution_count": 24,
   "metadata": {},
   "outputs": [
    {
     "data": {
      "text/html": [
       "<strong id=\"fromExcludedMiddle\"><a class=\"ProveItLink\" href=\"_proofs_/fromExcludedMiddle.ipynb\">fromExcludedMiddle</a>:</strong> <a class=\"ProveItLink\" href=\"__pv_it/13f17c292a4efcf346c1f230d9ad40b111c9c7a40/expr.ipynb\"><img src=\"__pv_it/13f17c292a4efcf346c1f230d9ad40b111c9c7a40/expr.png\" style=\"display:inline;vertical-align:middle;\" /></a><br>"
      ],
      "text/plain": [
       "fromExcludedMiddle: forall_{C} [forall_{A in BOOLEANS | A => C , [not](A) => C} C]"
      ]
     },
     "execution_count": 24,
     "metadata": {},
     "output_type": "execute_result"
    }
   ],
   "source": [
    "fromExcludedMiddle = Forall(C, Forall(A, C, domain=Booleans,\n",
    "                                            conditions=[Implies(A, C),\n",
    "                                                        Implies(Not(A), C)]))"
   ]
  },
  {
   "cell_type": "markdown",
   "metadata": {},
   "source": [
    "*** New facts may be derived via the 'law of excluded middle' through dual implications ***"
   ]
  },
  {
   "cell_type": "code",
   "execution_count": 25,
   "metadata": {},
   "outputs": [
    {
     "name": "stdout",
     "output_type": "stream",
     "text": [
      "Adding theorem fromNotFalse to proveit.logic.boolean context\n",
      "fromNotFalse expression notebook is being updated\n",
      "Theorems may be imported from autogenerated _theorems_.py\n"
     ]
    }
   ],
   "source": [
    "%end theorems"
   ]
  },
  {
   "cell_type": "code",
   "execution_count": null,
   "metadata": {},
   "outputs": [],
   "source": []
  }
 ],
 "metadata": {
  "kernelspec": {
   "display_name": "Python 3",
   "language": "python",
   "name": "python3"
  },
  "language_info": {
   "codemirror_mode": {
    "name": "ipython",
    "version": 3
   },
   "file_extension": ".py",
   "mimetype": "text/x-python",
   "name": "python",
   "nbconvert_exporter": "python",
   "pygments_lexer": "ipython3",
   "version": "3.7.0"
  }
 },
 "nbformat": 4,
 "nbformat_minor": 1
}
