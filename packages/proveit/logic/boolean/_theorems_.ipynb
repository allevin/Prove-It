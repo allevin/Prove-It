{
 "cells": [
  {
   "cell_type": "markdown",
   "metadata": {},
   "source": [
    "Theorems for context <a href=\"_context_.ipynb\" class=\"ProveItLink\">proveit.logic.boolean</a>\n",
    "========"
   ]
  },
  {
   "cell_type": "code",
   "execution_count": 1,
   "metadata": {},
   "outputs": [],
   "source": [
    "import proveit\n",
    "from proveit.logic import Booleans, TRUE, FALSE, inBool, Implies, Not, And, Or, Forall\n",
    "from proveit.logic import Equals, NotEquals, InSet\n",
    "from proveit._common_ import A, C, P, Q, PofA, QofA\n",
    "from proveit.logic._common_ import PofTrue, PofFalse, QimplPofTrue, QimplPofFalse"
   ]
  },
  {
   "cell_type": "code",
   "execution_count": 2,
   "metadata": {},
   "outputs": [],
   "source": [
    "import proveit\n",
    "import proveit.logic\n",
    "#from proveit.logic import Booleans #, TRUE, FALSE, inBool, Implies, Not, And, Or, Forall"
   ]
  },
  {
   "cell_type": "code",
   "execution_count": 3,
   "metadata": {},
   "outputs": [
    {
     "name": "stdout",
     "output_type": "stream",
     "text": [
      "Defining theorems for context 'proveit.logic.boolean'\n",
      "Subsequent end-of-cell assignments will define theorems\n",
      "'%end theorems' will finalize the definitions\n"
     ]
    }
   ],
   "source": [
    "%begin theorems"
   ]
  },
  {
   "cell_type": "markdown",
   "metadata": {},
   "source": [
    "### Comparisons between Booleans"
   ]
  },
  {
   "cell_type": "code",
   "execution_count": 4,
   "metadata": {},
   "outputs": [
    {
     "data": {
      "text/html": [
       "<strong id=\"trueEqTrue\"><a class=\"ProveItLink\" href=\"_proofs_/trueEqTrue.ipynb\">trueEqTrue</a>:</strong> <a class=\"ProveItLink\" href=\"__pv_it/b61faf68579dfd168a6d68fc65de147af91ada740/expr.ipynb\"><img src=\"data:image/png;base64,iVBORw0KGgoAAAANSUhEUgAAADoAAAAOBAMAAACMfhKgAAAAG1BMVEX///9UVFQyMjJ2dnbMzMxE\n",
       "REQiIiJmZmYAAABH86hhAAAAAXRSTlMAQObYZgAAACxJREFUGNNjKEsDgVQGVIAk6s6ADbij0QMl\n",
       "W6QEAop0txc12KhhsjNWWZAoAMYCEPeA4IdqAAAAAElFTkSuQmCC\n",
       "\" style=\"display:inline;vertical-align:middle;\" /></a><br>"
      ],
      "text/plain": [
       "trueEqTrue: TRUE = TRUE"
      ]
     },
     "execution_count": 4,
     "metadata": {},
     "output_type": "execute_result"
    }
   ],
   "source": [
    "trueEqTrue = Equals(TRUE, TRUE)"
   ]
  },
  {
   "cell_type": "code",
   "execution_count": 5,
   "metadata": {},
   "outputs": [
    {
     "data": {
      "text/html": [
       "<strong id=\"falseEqFalse\"><a class=\"ProveItLink\" href=\"_proofs_/falseEqFalse.ipynb\">falseEqFalse</a>:</strong> <a class=\"ProveItLink\" href=\"__pv_it/18c95b2992919fa7e4626908cfff0c5404d5ce7b0/expr.ipynb\"><img src=\"data:image/png;base64,iVBORw0KGgoAAAANSUhEUgAAADoAAAAOBAMAAACMfhKgAAAAIVBMVEX///9UVFQyMjJEREQQEBAi\n",
       "IiJmZmbMzMyIiIjc3NwAAAA3+jG2AAAAAXRSTlMAQObYZgAAADFJREFUGNNjYGBgmMGADcBEy7DK\n",
       "lg0S2SQlEFCku72poSAQTC2TgcaFIIxjQFgCEgUAQXIUj1VTIM4AAAAASUVORK5CYII=\n",
       "\" style=\"display:inline;vertical-align:middle;\" /></a><br>"
      ],
      "text/plain": [
       "falseEqFalse: FALSE = FALSE"
      ]
     },
     "execution_count": 5,
     "metadata": {},
     "output_type": "execute_result"
    }
   ],
   "source": [
    "falseEqFalse = Equals(FALSE, FALSE)"
   ]
  },
  {
   "cell_type": "code",
   "execution_count": 6,
   "metadata": {},
   "outputs": [
    {
     "data": {
      "text/html": [
       "<strong id=\"trueNotFalse\"><a class=\"ProveItLink\" href=\"_proofs_/trueNotFalse.ipynb\">trueNotFalse</a>:</strong> <a class=\"ProveItLink\" href=\"__pv_it/1e6afdac209ee0bf3ba666f4e9f1a57764e8a0b60/expr.ipynb\"><img src=\"data:image/png;base64,iVBORw0KGgoAAAANSUhEUgAAADoAAAAUCAMAAADrw95cAAAAOVBMVEX///8QEBCIiIgLCwsYGBgN\n",
       "DQ0oKCju7u6qqqq6urpUVFQyMjLc3Nx2dnbMzMxEREQiIiJmZmYAAABFgl9CAAAAAXRSTlMAQObY\n",
       "ZgAAAH5JREFUOMvFk90KgCAMRtd//uv7v2wkBeU2XLvpuxCcHg8DB9BL8NxJyY8kfO4dqoyvbSzc\n",
       "09a0leYui2KpGMVSKRqJ7oVoip/R4mrW5VytxkpJZaixoEWdV6D1j80T+cckVloqQelOMRok0mtU\n",
       "Bm5U7uwFtMmblvxFCqZ74wArxAe2MytVagAAAABJRU5ErkJggg==\n",
       "\" style=\"display:inline;vertical-align:middle;\" /></a><br>"
      ],
      "text/plain": [
       "trueNotFalse: TRUE != FALSE"
      ]
     },
     "execution_count": 6,
     "metadata": {},
     "output_type": "execute_result"
    }
   ],
   "source": [
    "trueNotFalse = NotEquals(TRUE, FALSE)"
   ]
  },
  {
   "cell_type": "markdown",
   "metadata": {},
   "source": [
    "### `TRUE` and `FALSE` are in the set of Booleans:"
   ]
  },
  {
   "cell_type": "code",
   "execution_count": 7,
   "metadata": {},
   "outputs": [
    {
     "data": {
      "text/html": [
       "<strong id=\"foldInBool\"><a class=\"ProveItLink\" href=\"_proofs_/foldInBool.ipynb\">foldInBool</a>:</strong> <a class=\"ProveItLink\" href=\"__pv_it/768c25286834e2d519e3c28d5b79fe169910e93c0/expr.ipynb\"><img src=\"data:image/png;base64,iVBORw0KGgoAAAANSUhEUgAAAO0AAAAXBAMAAAAVatXDAAAAMFBMVEX///8QEBC6urrMzMxUVFRm\n",
       "ZmZERETc3NwyMjKqqqp2dnaIiIiYmJgiIiLu7u4AAAAU9Wx4AAAAAXRSTlMAQObYZgAAAr9JREFU\n",
       "SMfFVj1oFEEUfne7t/eze5tgJxLcIqiIwhYWNiGHBlQQk0YFRVybPQUhWxwJCsFrJILRWGil4CGI\n",
       "iCKLVlY5LAS1iUVAxMONqAQlGCyOFKK+mdndmfvZOZETH9zOzPfNzPfmzZuZA/hPFvyTWdO+jH2G\n",
       "v0VSedVv3V2sGGlFC/On14fOAGRsgPsEuNpv3XDC+TZYS/srX2oAVYApbGadPsvqLMzG+6BDV7dQ\n",
       "9CVADqnMtT7rppjeuZMea3+90ngT6ubrhwCW0ad709Mz/Q7zNlb4CxYtlbmAr3crBlfDhTZd923n\n",
       "yKzdZbr8n9LHWFIHt+u0MhXwOI88x0ZhAmAvQJmCs6wz63FegGJTalGtBz1Hvx9glO1zme9v49cm\n",
       "4iHu8TCYVZoE3xnFejgChHbEPeW6NbgTtdvocFhMb6BfCy5MkNJ0xLx6iq30IEARdBqNTz8E3bwv\n",
       "QBxfAZ1kazIdGnVIGRsbp4rpoUYjzitwtiO1hrPUizT8j5YEXc0TII6rto4ZUUmmRV3csRSNpFIS\n",
       "1guOxnTNKr1cFN8VdFMixHE8l7iCfRKa2UbyQQ+LgzTOi+26JM5Q3kN9hROC7u4IUi+hXY7wdAke\n",
       "Q7YkoZmdJSmPurk12jzYootxNkgcblB3XsCCoDssQhxXqvAZVE9CM7sbbrb2kzZXLa5rHHfYOYIU\n",
       "iY65dHgy4LrXRahl4oJVkdHMduKZ3TwLxuQ6TejsRTt6F5qvD2AlRxwxyOiMB6M2190SQVprIB08\n",
       "FEdldHhPem03yn6Wz5Etx7UdAAN1rrsqQnxBBt4MD0tSGloqCfYgqnxsQnb8HdfFo8UhPnEG4/PN\n",
       "7qTDayVjtb2DCWZWOzGmq3d/oXJks+Q0s4pUV/WSdM3uL/LNyGE5jc5J/+c8gSRduNV1QHzx9KD/\n",
       "wtQwM7o9dIX43PSge9tvpYXIP1vpZ/sAAAAASUVORK5CYII=\n",
       "\" style=\"display:inline;vertical-align:middle;\" /></a><br>"
      ],
      "text/plain": [
       "foldInBool: forall_{A | (A = TRUE) or (A = FALSE)} (A in BOOLEANS)"
      ]
     },
     "execution_count": 7,
     "metadata": {},
     "output_type": "execute_result"
    }
   ],
   "source": [
    "foldInBool = Forall(A, inBool(A), \n",
    "                    conditions=[Or(Equals(A, TRUE), Equals(A, FALSE))])"
   ]
  },
  {
   "cell_type": "code",
   "execution_count": 8,
   "metadata": {},
   "outputs": [
    {
     "data": {
      "text/html": [
       "<strong id=\"trueInBool\"><a class=\"ProveItLink\" href=\"_proofs_/trueInBool.ipynb\">trueInBool</a>:</strong> <a class=\"ProveItLink\" href=\"__pv_it/9f5690849bd61b8821dafe2919824d2ac18aea6c0/expr.ipynb\"><img src=\"data:image/png;base64,iVBORw0KGgoAAAANSUhEUgAAADYAAAAPBAMAAABdHiGLAAAAMFBMVEX///+qqqpUVFQQEBC6urrc\n",
       "3NyYmJgyMjKIiIju7u52dnbMzMxEREQiIiJmZmYAAADNQpwIAAAAAXRSTlMAQObYZgAAAJBJREFU\n",
       "GNNjeHsXBO4wIAOu+uPfbQ+CmfsY0AEPS8P0WQtwynE4FKDIcbbfvVsAlWNM0ESR256JpM/1ALIc\n",
       "60kkM/fmTECW4wlAyN39b4HizjkobmlEMdMZ5FOYWxgOeCHLbULWx3CAB1luLh45pgQUORQzOa8g\n",
       "ybG9ALtlF0wo/DU8rP9cVkQLR6FaiDshAAC+xzqFv6q7bgAAAABJRU5ErkJggg==\n",
       "\" style=\"display:inline;vertical-align:middle;\" /></a><br>"
      ],
      "text/plain": [
       "trueInBool: TRUE in BOOLEANS"
      ]
     },
     "execution_count": 8,
     "metadata": {},
     "output_type": "execute_result"
    }
   ],
   "source": [
    "trueInBool = InSet(TRUE, Booleans)"
   ]
  },
  {
   "cell_type": "code",
   "execution_count": 9,
   "metadata": {},
   "outputs": [
    {
     "data": {
      "text/html": [
       "<strong id=\"falseInBool\"><a class=\"ProveItLink\" href=\"_proofs_/falseInBool.ipynb\">falseInBool</a>:</strong> <a class=\"ProveItLink\" href=\"__pv_it/5ddcdc170ae135aa2397d35b7606cd81f952c91a0/expr.ipynb\"><img src=\"data:image/png;base64,iVBORw0KGgoAAAANSUhEUgAAADYAAAAPBAMAAABdHiGLAAAAMFBMVEX///92dnaqqqpUVFS6urqY\n",
       "mJgyMjLu7u5EREQQEBAiIiJmZmbMzMyIiIjc3NwAAABz/qQtAAAAAXRSTlMAQObYZgAAAJVJREFU\n",
       "GNNjYGBgeMuABhjz277NagIzT6PLMXCwXCgrFMApx+uQgCLHfm3VqgSoHFOAOYrcsXAkfX4NyHJ8\n",
       "7UhmnoooQJbjeICQW/V/Loo7K1DccgnFTM9VqxBuYWhwRJY7jKyPoYEDWa4KjxxzAIocipnsS5Dk\n",
       "WPc2MOxatWrlqlUrwELP9sDD+sdKI7RwVM6CuBMCADjtOPFI200aAAAAAElFTkSuQmCC\n",
       "\" style=\"display:inline;vertical-align:middle;\" /></a><br>"
      ],
      "text/plain": [
       "falseInBool: FALSE in BOOLEANS"
      ]
     },
     "execution_count": 9,
     "metadata": {},
     "output_type": "execute_result"
    }
   ],
   "source": [
    "falseInBool = InSet(FALSE, Booleans)"
   ]
  },
  {
   "cell_type": "code",
   "execution_count": 10,
   "metadata": {},
   "outputs": [
    {
     "data": {
      "text/html": [
       "<strong id=\"inBoolIfTrue\"><a class=\"ProveItLink\" href=\"_proofs_/inBoolIfTrue.ipynb\">inBoolIfTrue</a>:</strong> <a class=\"ProveItLink\" href=\"__pv_it/cc0e652b3e50bfde974674c66b274bb1625600900/expr.ipynb\"><img src=\"data:image/png;base64,iVBORw0KGgoAAAANSUhEUgAAAIgAAAAXBAMAAAAipBr3AAAAMFBMVEX///8QEBC6urrMzMxUVFRm\n",
       "ZmZERETc3NwyMjKqqqp2dnaIiIiYmJgiIiLu7u4AAAAU9Wx4AAAAAXRSTlMAQObYZgAAAhdJREFU\n",
       "OMtjYKAGeECEGm18kjwKDAwXQIzTeM1gdoBQF1CFV3zrb7w2gYEhmIFhJYjfh9cQDohrOT6giSdo\n",
       "8/WtAoozMJQBeewJeA3ZDaHO/sMwhGET0ASeBWBrWCfgNUQOTLJP/Q7hvu69ewNmyByWBwx8Agw8\n",
       "y8vLa/GawdQApri5P0GCpucBkktAHslkYPiWlnYLryGsC8CUHucfMF32AOEd5jt5QHopA4MzA0M6\n",
       "WKwdYi88OAtgjAMgkk+B+TeYm44IE937HzcA6RkMDCoMfGD38kBcywZTcl4BymBUgBjO/hVsWAJy\n",
       "wO6eBqQVGRh4GbjBVj39g2IIX/wBKIsfbIiJi8s3sGGyd+8iApaNCehXe2CAHeAF+3LdVRRDuN4G\n",
       "oBgCJCSQUh7MEIYEsCF8DSZgyQ1pKIZYs8HczQhKAJxAfBHswgsYhiiCQsoJJMLCEItiiAMrTDUb\n",
       "yF+VQNwP5vqgGALyzgkgeypY9UmG/ciG8EzghqVyrgAGSNjng739VgHJkKPbIFHMwAiKJr6roRA1\n",
       "UEPehobBUjnTBQb2xB8FDMf+t4JTbqsBPAPmioC82gSyFKSZtYDB3gDJkHAG5s8wG8VREx+nBzR2\n",
       "YPEoAGPpAGPhAMIQJiD7D0zuFP7ShmsDlPHkGwO7/x24IXz+CQwlfw+gFgW4wAtMITZMIXYHvIa4\n",
       "E2UIQzU+M7gNiDOEZMBChh4Aa/SCMsrS/6MAAAAASUVORK5CYII=\n",
       "\" style=\"display:inline;vertical-align:middle;\" /></a><br>"
      ],
      "text/plain": [
       "inBoolIfTrue: forall_{A | A} (A in BOOLEANS)"
      ]
     },
     "execution_count": 10,
     "metadata": {},
     "output_type": "execute_result"
    }
   ],
   "source": [
    "inBoolIfTrue = Forall(A, inBool(A), conditions=[A])"
   ]
  },
  {
   "cell_type": "code",
   "execution_count": 11,
   "metadata": {},
   "outputs": [
    {
     "data": {
      "text/html": [
       "<strong id=\"inBoolIfFalse\"><a class=\"ProveItLink\" href=\"_proofs_/inBoolIfFalse.ipynb\">inBoolIfFalse</a>:</strong> <a class=\"ProveItLink\" href=\"__pv_it/a8889ad68c7b4cf0e24624f2b3dd4b353b6fbb540/expr.ipynb\"><img src=\"data:image/png;base64,iVBORw0KGgoAAAANSUhEUgAAAJMAAAAXBAMAAAD96mDoAAAAMFBMVEX///8QEBC6urrMzMxUVFRm\n",
       "ZmZERETc3NwyMjKqqqp2dnaIiIiYmJgiIiLu7u4AAAAU9Wx4AAAAAXRSTlMAQObYZgAAAhdJREFU\n",
       "OMtjYKAeeECsQqYN+GQPAfEFEOM0EUaZQChbVFGu/owfspkMDKwGDAwrQQJ9RBgFVdOPJszGtOHF\n",
       "qwUMDA0MDGVALnsCYZO4If7juf8AwyhuBaA5pxgYOIBSrBMIG8UIMaIyvgDCf9179wbUKM4DfgwM\n",
       "D4HWLC8vryXCfxoQasN+BTDN3PMA4Sp1oK/YgM75lpZ2iwijoiDR+GD+ATCj7AHCg7bHgByuAAYG\n",
       "ZwaGdLBgO0QxqgntMEYPmHzEYA8Js3REWN39Lw2kOYHhpcLA1wAO0E8QKRSToIJAIAQmFRjqA0A0\n",
       "XwJysO8E8pgEGBh4GbjBbn76B4tRUEEgAJvJ7OLiDzaESfbuXXiwMyRoAaU+AGP5AC/Y3+uuYjEK\n",
       "KggzCuh7RrAXmB2QXMWQwAYxiq8BnI6ZN6RhGgUTBAJJEAGMJV4BsAcvoBsF8iBDuhNIiIUhFtMo\n",
       "mCAQ5ICSMtAojg9grg+KUUAP8oBcOxVsw0mG/UhGLUtLS2tACALBUiB+AZL/B+a+VUAYxROdAEkM\n",
       "DIyg6OW7Gpr/ANVVCQhBINAFpiX5dgae/B/gKGRvNYBl528XPYEMDpDZPCDVrAUM9gboRsEFQRYW\n",
       "oCY4Tg9IDMLAQzhLh4GB/wC6UXBBkIUL8OeG1TDGk28M7P53UI0yQAgSLoggyRyt0MCluASvUSwF\n",
       "JBjFjrdA3sxAglGkAxaydQIAdVKHuuxtmLQAAAAASUVORK5CYII=\n",
       "\" style=\"display:inline;vertical-align:middle;\" /></a><br>"
      ],
      "text/plain": [
       "inBoolIfFalse: forall_{A | [not](A)} (A in BOOLEANS)"
      ]
     },
     "execution_count": 11,
     "metadata": {},
     "output_type": "execute_result"
    }
   ],
   "source": [
    "inBoolIfFalse = Forall(A, inBool(A), conditions=[Not(A)])"
   ]
  },
  {
   "cell_type": "code",
   "execution_count": 12,
   "metadata": {},
   "outputs": [
    {
     "data": {
      "text/html": [
       "<strong id=\"notEqualsFalse\"><a class=\"ProveItLink\" href=\"_proofs_/notEqualsFalse.ipynb\">notEqualsFalse</a>:</strong> <a class=\"ProveItLink\" href=\"__pv_it/e78e619b0e86540955e4d93a94eed1a32d7c54b00/expr.ipynb\"><img src=\"data:image/png;base64,iVBORw0KGgoAAAANSUhEUgAAAIwAAAAXCAMAAADuv1eMAAAAPFBMVEX///8LCwsYGBgNDQ0oKCgQ\n",
       "EBC6urrMzMxUVFRmZmZERETc3NwyMjKqqqp2dnaIiIiYmJgiIiLu7u4AAACwKje0AAAAAXRSTlMA\n",
       "QObYZgAAAc1JREFUSMfNlteSwyAMRdlCEWDT/v9f10Bii2YzTiazevCEiHK4EgJC/pP590zDzESn\n",
       "VQ1dlsWvO9rmPgsXRct1Oynd/HMsCTzSLs+mfkGkcqwO3U6CNXsANCjCySelvM9iClGtC35KmALG\n",
       "rmhTsNyHoXhxtUBQU8IUMJ4mIpXMvZC9xZ4NMYF10qqjPIYhMqoRZDS33ocBPJZ5sgTbdpL8AmaN\n",
       "DZF6SaSsxio3m9RNDDRa22/9eUA5BDrZ70/8ihOYJerLYg+PlLaFyrW6to0BZSW7CjAlTAnD6LPU\n",
       "mGNzHgqVK5jKmwzhcREtNPnBBLmC4akgRBB3nIfVOxjDVN4aJv+i+jq2A5gtRKiCckOkHMLU3rz2\n",
       "XhUePxxFOeM2+/5yyeRlmLbkRTVAxPFDmNqbu9i9xAxKcF+YEsZmORc0v93mM2EE03iPQ4lPgaxK\n",
       "cD9jekc76rwfxS0jAIq5MEzrzWu5fJ/QkBSwMgQN58JADhtFwdOP6Nh9elAplXgfpvU+NqNOi+IC\n",
       "M28Z2pzAHH18euWpF11yY3Mz74G1esH4XCCUCM62MF3vzPNjThg9c/FMvSyUeFUYod4Gg99s7aU+\n",
       "8yLi5H0wHzLxuaX+AJRiFCJQQG2QAAAAAElFTkSuQmCC\n",
       "\" style=\"display:inline;vertical-align:middle;\" /></a><br>"
      ],
      "text/plain": [
       "notEqualsFalse: forall_{A | A} (A != FALSE)"
      ]
     },
     "execution_count": 12,
     "metadata": {},
     "output_type": "execute_result"
    }
   ],
   "source": [
    "notEqualsFalse = Forall(A, NotEquals(A, FALSE), conditions=[A])"
   ]
  },
  {
   "cell_type": "code",
   "execution_count": 13,
   "metadata": {},
   "outputs": [
    {
     "data": {
      "text/html": [
       "<strong id=\"fromNotFalse\"><a class=\"ProveItLink\" href=\"_proofs_/fromNotFalse.ipynb\">fromNotFalse</a>:</strong> <a class=\"ProveItLink\" href=\"__pv_it/c3afa6afb70f3231cb9636f61c09621c1af021a20/expr.ipynb\"><img src=\"data:image/png;base64,iVBORw0KGgoAAAANSUhEUgAAAH0AAAAWCAMAAADabWOOAAAAOVBMVEX///8oKCgUFBQJCQkQEBC6\n",
       "urrMzMxUVFRmZmZERETc3NwyMjKqqqp2dnaIiIiYmJgiIiLu7u4AAACP9cC6AAAAAXRSTlMAQObY\n",
       "ZgAAAZxJREFUSMfFVotuwyAM9LYABsLD/v+PHRACpC2ZNk3UVRHEOc6cbVogeKfFNgt+Ja8sxG4/\n",
       "13apDJbzaHRdtskSC5FpPDLuC8nNjmxKFM4UiyuP7sGzKDPW2aJbSC4Idg5lqmQetRkqwvwIf66i\n",
       "EUP3G1CCSz5aTKj8wA4VwdfNg3Xpg2F49FShVwzK6Ytn7Iaxt7zvexNWUYA8Yib14NJciDl7x5Sa\n",
       "UnDHLlU2rq7MHHuzO4pHWF4LQ0QHe3oc5uwNAw9Z1NO0bVXtpLrs0UoPumAC9gp1IDzSlL1hjt0d\n",
       "3LHXzo5bi1V1VVMcWLrPDv2BuMWbvJ8YZbN9pa+fspt9vOxyNDjc9snps0M6GM+eKsnP2BumJXJ+\n",
       "9lbemk8tt7Zxyh9icchY7gHtz7zDTNCOKauL74Hd6I1LbwbNbGtqQ0spZpfk1DGkrmefs3eMTpp/\n",
       "fthb5e9ukUO10j7KXJU3E+VHzKXbfslORxMaxbnESIvhttH6dTqvmOTpMua8bXn42yXuat6fbXqk\n",
       "fcXPxZTdwhvZw5I/Cep/tvkGTTgSLUkEEJ4AAAAASUVORK5CYII=\n",
       "\" style=\"display:inline;vertical-align:middle;\" /></a><br>"
      ],
      "text/plain": [
       "fromNotFalse: forall_{A in BOOLEANS | A != FALSE} A"
      ]
     },
     "execution_count": 13,
     "metadata": {},
     "output_type": "execute_result"
    }
   ],
   "source": [
    "fromNotFalse = Forall(A, A, conditions=[NotEquals(A, FALSE)], domain=Booleans)"
   ]
  },
  {
   "cell_type": "markdown",
   "metadata": {},
   "source": [
    "### Must equal `TRUE` or `FALSE` if in the set of Booleans:"
   ]
  },
  {
   "cell_type": "markdown",
   "metadata": {},
   "source": [
    "***The first form of 'unfold' is a more direct consequence of the Booleans definition.  See also 'unfoldInBool'.***"
   ]
  },
  {
   "cell_type": "code",
   "execution_count": 14,
   "metadata": {},
   "outputs": [
    {
     "data": {
      "text/html": [
       "<strong id=\"unfoldInBoolExplicit\"><a class=\"ProveItLink\" href=\"_proofs_/unfoldInBoolExplicit.ipynb\">unfoldInBoolExplicit</a>:</strong> <a class=\"ProveItLink\" href=\"__pv_it/6e6206562fb05c01d70d4ee84ce9b743652a06ea0/expr.ipynb\"><img src=\"data:image/png;base64,iVBORw0KGgoAAAANSUhEUgAAAPUAAAAVBAMAAABs27XUAAAAMFBMVEX///8QEBC6urrMzMxUVFRm\n",
       "ZmZERETc3NwyMjKqqqp2dnaIiIiYmJgiIiLu7u4AAAAU9Wx4AAAAAXRSTlMAQObYZgAAAp9JREFU\n",
       "SMfFVkFoE0EU/e12u83uJvamF2UVbxXJofbiocEWejQgAQ9Wqoct4qE5WSQoi1gsPWguBY+5qIgg\n",
       "Cx49uAiKWoT00B5ESwQVoSJFMAqKOvP/n8QkO5NjH7zJTHYeb+bP/L8LsItomB+PMQ3wgzSRCU+Z\n",
       "dTlY082yCkTZrXc9s98h5uBUiihNIFFBZZ54Xw5u6rxHGkTZ3UlZWhGfYB93bymRRgDHsI2Il8SP\n",
       "M6fzfswUeP1H5+3XZDul5psE7P2KKBdpV3XeB5hifas/dN65UdlOyGYLzAL2fk/07y0uXtFZD0ZE\n",
       "Ac/7pvOGCxjiMkCmCGYBew9Xic0wfKPztmtEgaOZ31rvO7KRvtLfKGBvt0gU5zSPf9xIuWoJUcQ1\n",
       "sH7hapYRhQ7v28DxnlCitgBOo+B6h3cmIh6GHAbJ5xD5KytLCc8cCIgikOB81+77oLqXJ5RIJ2Dv\n",
       "wVFiFjy0+ihDtF06A3Ft+xDP3BMQAcanp5ta70lss7wJk4C9rR2il2QxHx9uiP75q1+Ft/ulx1s0\n",
       "+/p421U3aXunC7q8c9E4DuMQ4JnsxbWxsyrmVSJkBNc7illvzJ0o2xK1BTCLgs3UmMM8ntIQzFK9\n",
       "gbi0X533cEKEy4K3tPt+QaOptZZIJ2BvPyLCKtbdl/AErBrt2z7OM1Uu4EEuNIw5Jm75VkukE3Tl\n",
       "GAzEMiU2SgsNazMML8rzdlVtqSOdcz/L8PzvUq83pfI1zsiiEmkEIvzrGP6RgAi+XJ5dhsl8rkD7\n",
       "bnnDXqYRVFPFShptkRlcUxlHxP1MYIZjXlF/c9E3w407x30F8ICJ+NAE5+Rb+BRgbQmTlHeoHp9T\n",
       "XrzmQEV8IzpwV5z3/3AKRCNmusZ9BUNlYh9U1LeGHl4+9ePEgEfEfzxt0gwHCx74AAAAAElFTkSu\n",
       "QmCC\n",
       "\" style=\"display:inline;vertical-align:middle;\" /></a><br>"
      ],
      "text/plain": [
       "unfoldInBoolExplicit: forall_{A in BOOLEANS} ((A = TRUE) or (A = FALSE))"
      ]
     },
     "execution_count": 14,
     "metadata": {},
     "output_type": "execute_result"
    }
   ],
   "source": [
    "unfoldInBoolExplicit = Forall(A, Or(Equals(A, TRUE), Equals(A, FALSE)), domain=Booleans)"
   ]
  },
  {
   "cell_type": "markdown",
   "metadata": {},
   "source": [
    "### Folding $\\forall$ over the Boolean domain"
   ]
  },
  {
   "cell_type": "code",
   "execution_count": 15,
   "metadata": {},
   "outputs": [
    {
     "data": {
      "text/html": [
       "<strong id=\"foldForallOverBool\"><a class=\"ProveItLink\" href=\"_proofs_/foldForallOverBool.ipynb\">foldForallOverBool</a>:</strong> <a class=\"ProveItLink\" href=\"__pv_it/d40d2f60ef66daf5542d59156613ac49d719b2620/expr.ipynb\"><img src=\"data:image/png;base64,iVBORw0KGgoAAAANSUhEUgAAAPsAAAAXBAMAAAA/2iRsAAAAMFBMVEX///8QEBC6urrMzMxUVFRm\n",
       "ZmZERETc3NwyMjKqqqp2dnaIiIiYmJgiIiLu7u4AAAAU9Wx4AAAAAXRSTlMAQObYZgAAA5NJREFU\n",
       "SMfFlk1oE1EQgKfZ/DTZzbZ4UMSDEYp6EXMQFKU22KDixWpNi0VpFNyiVBqwNHgQg5de1OaiCB4M\n",
       "QrUWLEGsIBa64kUqag6KIrUGUemltrRG29JW583b3bz80UIUF7I7O2/e++bNm5kNwP+90n9jEfn9\n",
       "7pUZ2pKmpPhAueKDFJNflIn3+Ly0ZLL48MPfweCbCJO2cUUt/hrZNLjHXq+WjffE8VFZKpSzAM41\n",
       "AqiHGRO+CyVXuGw8LdFVYliaB3DPs0Pi4VE+oZ9KguGZx4542Xja19FSqTGNtAwKFTw851vxJNRq\n",
       "Nk25G41egPLxI9FoNFVi2DkFYJ9DYTN/Tw778H6aTYOfmvah5LrnjKe7qDYu4Ks07WyixCpVMYBJ\n",
       "djotPP3Tt3R89BK+HqAN1+8IHWmjQR/dr2dCeyPgMheUEsW0OwW83Q9OSu7KSAG+LgHSWyZcptfP\n",
       "UMdy4Abha0BF5+ApwH0a5Gmo4MmkwAnQpJ3QtATcztVyM48vi7cFYJzk14byeV/fMWN4+EB/Czm1\n",
       "ytjgxQZ8bKD5XpBZKII4MZ3F2wOgLMFNOjl2G8/XMjPy28BjAxliotqKq6mDIV32qA8MTzrMgpym\n",
       "SAaDB9nsOpom6142OgqwX9i9Vwd7DNosPMY2V0tm9QJ+CMZInMCdPdr0PS17YEDnw4sg4m1YATEL\n",
       "r8ZYK1JnQHkn4Cf98DIC1RaeV6ygJbMnAn5cCjBxlzMMCout7LEN8l1LGRO/1khYb7UVfGjbw1ya\n",
       "7zdOiuO39vfqIMUsvC2QpyWzGgHv7KRQBxwp1tAQ7zg0mi17frWzHof4yimWHBx/jZWrxzxGA9+X\n",
       "ZRKeMwUtme0Q8O7jlJxxeYpXBAa/kTc555K5dq+RRaThhQcVzMjZkIs/RdWejxe0BXhYx6SJUNMS\n",
       "1GqalkR8gir0a8cP81O0BRvz+m5QOmYRd4lPU9gJVcVz8XO0z3A2+OE8Ld02ivhXTGoGaQa+GLtP\n",
       "5PehCqEn8KZrdoZIDl76RRYpC68kXN05WjIbEfHkGub6AtgjHN+c/wFWBH88SaFv9DTm4PsyVGhj\n",
       "Ft7hkxayWoemrdbOABzOw6tY0J2LunqS2s6d9oL+J3zZxwWvhUv8+D62JExmpVAby9+9+Y5nX7T7\n",
       "d2bFfcvjv1kSdrrtBVq3yZA/+lf2aXRZXsl+nLUM3q2bEma7XqC1/4P/ngHx5ZkZzXQx7UDZsD9Q\n",
       "v/BHzxS7+AAAAABJRU5ErkJggg==\n",
       "\" style=\"display:inline;vertical-align:middle;\" /></a><br>"
      ],
      "text/plain": [
       "foldForallOverBool: forall_{P | P(TRUE) , P(FALSE)} [forall_{A in BOOLEANS} P(A)]"
      ]
     },
     "execution_count": 15,
     "metadata": {},
     "output_type": "execute_result"
    }
   ],
   "source": [
    "foldForallOverBool = Forall(P, Forall(A, PofA, domain=Booleans), conditions=[PofTrue, PofFalse])"
   ]
  },
  {
   "cell_type": "code",
   "execution_count": 16,
   "metadata": {},
   "outputs": [
    {
     "data": {
      "text/html": [
       "<strong id=\"foldConditionedForallOverBool\"><a class=\"ProveItLink\" href=\"_proofs_/foldConditionedForallOverBool.ipynb\">foldConditionedForallOverBool</a>:</strong> <a class=\"ProveItLink\" href=\"__pv_it/13c7b2479105103cc5a4dbda4383cbe7f84587a80/expr.ipynb\"><img src=\"data:image/png;base64,iVBORw0KGgoAAAANSUhEUgAAAbgAAAAZBAMAAACx0yZ/AAAAMFBMVEX///8QEBC6urrMzMxUVFRm\n",
       "ZmZERETc3NwyMjKqqqp2dnaIiIiYmJgiIiLu7u4AAAAU9Wx4AAAAAXRSTlMAQObYZgAABXlJREFU\n",
       "WMPdWG9oHEUUf9m9v7ubTVCw/qPch1g/KHpC0dBSctigBdFEm0tQFC9CNyCWXGlo1CBcFSn4wZ5g\n",
       "RangIcbGFMOptFBa6KkgGqk9oUWQpFygSkBSg23SWmPqezO7O7M7MY2xkuDCzs7Om9977/dm5s3s\n",
       "AqyKa/t4/lqr1MZ/XB3coPpfKO37f5OrrRJy9jXQcodf+4KTYzH7duXJ1dPDKv9zqNl2ofXhB6mm\n",
       "Z1iDjpSiaUbuI3p/feXJGUV8JJYzjxoKAN15gU5MY1Fg5HZhGc+tPDnmw67lYFtKAO/hDUf5+4l5\n",
       "LEYZOaIbLa6ChEKz5/HlYI+nAE62Y2Ute43vu4jlBCNnHejvf2k1ZMvR/v7+ZSXNXrzbcHi0Al+D\n",
       "5m9YxopsK5h1nKvvdjvdZ3IRWXEJrTy2aUWGrBocZ3tpCVx2hj25BGDP4jPK0Xcl57A02hm5zQA9\n",
       "2Lc329FDsl+e6OCHhRQr7UODmIninlVdNv/WTPaBvJBtgIUQG0BBvAiKDMlF0hBjlhPhw4qmKt4j\n",
       "PNEvA2yiWZmosF4p/Q/iXmDkmsCm8fwc4GPq+grE1zAQTzLNadiRhxhAp9PtOCV4XzJqNYJRRVnU\n",
       "cW5wngUjFURwFW6rjMipMiSnZWCS1U+6rV8PDT3JKjEIK7Zw5nmemBeGBw9QpS7FIxGfoUcjI1cP\n",
       "JlFuRa2YW+7BsHUKcjoSjeZgv29jUnI1kgFrnsuoM4tRACFaZUSyrMqq7D7GQv90hUYpWzEN+9OU\n",
       "ICcr/mlOeBKb97YE1nl9ayvNUX2akTMr9bQ/jAFsQaW3UugEuQk0ZE1Dj28jwtZLkq2W+gpEClzG\n",
       "Om8OI0SrjOCTT5K55I7BGaoaUzjHDt9+rmYaMFIR5GTFI6c9T5BTNUAOixsFObuwnuJ1HqwfkGlj\n",
       "kNwnwDQ2+jZMfoZgJn5Nw4k8l7HOR8MI0Soj6iAs4+Qm+QljYywHFq0h09AO1QQ5SbFednxPoKXd\n",
       "1VFXdPPM92JaQs/99HJ5mCZ4Pel/Slg/RVmoqhd8G1oGV5jj7Kaw3T08WAEuY52bwgi3NYRohiDC\n",
       "IxfrY6HPRKuQYHGMPjomrTlJcYRc1DJim+PdaJhfwHsvhYEnFNhHmg0+/RsoHDcL65R46kpcD7Oh\n",
       "u8ski74OcbZ+5+YwQrTKiCZQZIxckgXVKprTPI3itNxaFuQkxd/AceFJr3dko+zPVjG1uFsB1JGG\n",
       "GB/cBmSfXCus05bxRi2pkru3C2AbW0whGjIiQMBHvPk35OAWKqaynfOwCYe6jORKJUFOKLZPZ9F/\n",
       "7ondeeUhb8fAM1z3pTx8deVV3BdSnJxF1Bv4hhprHyhOpIT1bfEj9nWg5cS0zJlZvDooFr/zBr/z\n",
       "ujDCbQ0h1kEQ4ZP7joou0M/DWXfkZHJCcTQPLWnXhHytkeoT8sdqC6Ww5/Px68vvvAzC+o6NybdT\n",
       "YFd9G1bJPofXQRrEiyx0Vb/zKMT3BBBuawgxBZIs/LGqVWiMInlOrkualkLxnWyGWcpxZlSqH5TI\n",
       "GXu3EsMK9L3WWksL6/EtHzyiA8/RzEY05X85Dc2wjmf8zo+BPicQ7taOrSEE7jxBmUTObstB358V\n",
       "+xm2iX/4nJRQfMVnZyHeNuZ6Il/SB5NdUH8zUL65LV6WTiigtQ8AHBEKuCHpu0vIUKGlIgphhFkM\n",
       "yRb4zWDgmvNfYrCQKwn1zJoRp4W8Qk6nppbumkxOn8X88rPfZb+i0pfRyeM+BZFUPq7tnCpb9HPA\n",
       "IxdUrHoCA37tM/UHkcUichPI5GA3BjpZ8bpkFI2+LOIOfRARUX14FxTZksgFFWf+zd+vAPhLb7os\n",
       "8B/Ak40soZXHMK3Ixhf7bxlZSLFxtT8S2vipvwDGSrmrEa9I2AAAAABJRU5ErkJggg==\n",
       "\" style=\"display:inline;vertical-align:middle;\" /></a><br>"
      ],
      "text/plain": [
       "foldConditionedForallOverBool: forall_{P, Q | Q(TRUE) => P(TRUE) , Q(FALSE) => P(FALSE)} [forall_{A in BOOLEANS | Q(A)} P(A)]"
      ]
     },
     "execution_count": 16,
     "metadata": {},
     "output_type": "execute_result"
    }
   ],
   "source": [
    "foldConditionedForallOverBool = Forall((P, Q), Forall(A, PofA, domain=Booleans, \n",
    "                                                      conditions=[QofA]), \n",
    "                                       conditions=[QimplPofTrue, QimplPofFalse])"
   ]
  },
  {
   "cell_type": "markdown",
   "metadata": {},
   "source": [
    "### Evaluation of $\\forall$ over the Boolean domain"
   ]
  },
  {
   "cell_type": "code",
   "execution_count": 17,
   "metadata": {},
   "outputs": [
    {
     "data": {
      "text/html": [
       "<strong id=\"forallBoolEvalTrue\"><a class=\"ProveItLink\" href=\"_proofs_/forallBoolEvalTrue.ipynb\">forallBoolEvalTrue</a>:</strong> <a class=\"ProveItLink\" href=\"__pv_it/2d9c3db9a17f850590a280e4b4cc190bc211bca80/expr.ipynb\"><img src=\"data:image/png;base64,iVBORw0KGgoAAAANSUhEUgAAAWoAAAAXBAMAAADQPRh7AAAAMFBMVEX///8QEBC6urrMzMxUVFRm\n",
       "ZmZERETc3NwyMjKqqqp2dnaIiIiYmJgiIiLu7u4AAAAU9Wx4AAAAAXRSTlMAQObYZgAABCNJREFU\n",
       "WMPVl12IE1cUx/8xyWZ3MhsXH4Q+FKOICLWYB0FRygZdXEFkgxofxGosONtWYQOKUqVtUGRFRfdB\n",
       "RVBwEFbXBWVepYgpIvhB6dJiC8W2QaosqK34sX4g2nM/M5NM7u5LFA8kc3PP/875zb3nnrkBPkir\n",
       "NPn+kzxc2lOZqFSanQau/dJAxpwjrHGzedTzgNPGIMmep10ruqWU2Wf0WQU2LGjxP7kVmPMc6zjU\n",
       "POpDLLwxyOQSsLFYFRymT2sINVk0B+HcTpdEoWnQSY+FNwbpdIFTrpCyBPib8sl2DdTkbCVNfKBp\n",
       "1JEKC28Mcpny9OeckJJ9s4HmPdVhoCanfXbHjm+blyCz+VIbg/TRp2dASMk89hT4ykDNnGOO80fD\n",
       "oFvltfFiJDLi2hbuXisS1BTkBc3emJRSIamcKtNl0ERNziVALwXty6/u5aOE/9iz/NIiEq6ULwyJ\n",
       "JiQ71Q3dUKSDgloEIeuvJ3lFZSMnpcAddLL8Pi6p4/u4ZQPU5JyJFG1i/AicZz0tsih2wBqhH3HH\n",
       "mep8DSutgqxxNjqOW5UU1Bg9NXKIsCnCI4PAfixvv3//3rLcr0+HB88qKZDG9wxtummuydmOJBvf\n",
       "RVuiUqWOZWG/wQnWZFwipjCpEJI2T/WM+u5eLRePBbUMgruv6et+fh089/4Mebs3PimiXV09bHSn\n",
       "iZqcyXI7o70NLPMxtZcRK4lV5QhL6qm5pKWoemIZA7UMggu3qP3Fd/8StfVAlusRPzUlaKQ0AepU\n",
       "ib2TUk9g/+5j+i+Dn4ro0Ag/1FNzSUT3JL0w6o8EtQiCqOcAV3mlcD9ZL8t1zidl2769w5ch+oVY\n",
       "kyHoXcye8dXwOj/T3OHBMqIljTATMbYrDviouWSBHjMpi2VM4gWot8iM50EQw+cAv6mX/7hcLdda\n",
       "miDq1kfUuGaaa3LiKFsiqxScySEJohAW1M/1kHga1RMthc31oKTmQXAdl2Wx8dz4IlmuKz7pqEr0\n",
       "8SofInxD5YJMm3gNNlJzyZFxqD+V1DxI6la+rxL9zXE2s7y2+HtuzdvlVen2af2w+14Qy+5walFe\n",
       "d7MqxB528kCQ6SWf64JGmIWW2gx5Kfp1hhTwZX2GRIoiPA8SL6Izk8qKuRbU/pd/sdpu8EavOuWe\n",
       "KAaoo8+5e0RT3wjOdaJfSh7qMbYbNteBY9Acmp0yumWG7Ko9N/tuYHkGakvte+vwqgD10DNex/7S\n",
       "CCuD1NHXUkIFTb534ukwanFSFfbPGBI9t3Evzd8yTjnkUKtsFAbq0fquFv+Pi7pVqp0YdRLVJ5TW\n",
       "8BDb6sOfobxuIFXWbaLuHof6nmq0eTWy+SrH9LSeaHC6on9gv07sfJjQQZK0jJca/QNLZsahblOr\n",
       "GKuV6eU9qRrZ9/nvN8h3RV4vNNTb8smtyjuE/B/Hxjg29gBNiAAAAABJRU5ErkJggg==\n",
       "\" style=\"display:inline;vertical-align:middle;\" /></a><br>"
      ],
      "text/plain": [
       "forallBoolEvalTrue: forall_{P | P(TRUE) = TRUE , P(FALSE) = TRUE} ([forall_{A in BOOLEANS} P(A)] = TRUE)"
      ]
     },
     "execution_count": 17,
     "metadata": {},
     "output_type": "execute_result"
    }
   ],
   "source": [
    "forallBoolEvalTrue = Forall(P, Equals(Forall(A, PofA, domain=Booleans), TRUE),\n",
    "                           conditions=[Equals(PofTrue, TRUE), Equals(PofFalse, TRUE)])"
   ]
  },
  {
   "cell_type": "code",
   "execution_count": 18,
   "metadata": {},
   "outputs": [
    {
     "data": {
      "text/html": [
       "<strong id=\"unfoldForallOverBool\"><a class=\"ProveItLink\" href=\"_proofs_/unfoldForallOverBool.ipynb\">unfoldForallOverBool</a>:</strong> <a class=\"ProveItLink\" href=\"__pv_it/4b03b75f86c55fabb87852f3a50b3ba2b445243f0/expr.ipynb\"><img src=\"data:image/png;base64,iVBORw0KGgoAAAANSUhEUgAAAVUAAAAVBAMAAAAEDWDFAAAAMFBMVEX///8QEBC6urrMzMxUVFRm\n",
       "ZmZERETc3NwyMjKqqqp2dnaIiIiYmJgiIiLu7u4AAAAU9Wx4AAAAAXRSTlMAQObYZgAABERJREFU\n",
       "SMfVV01oXFUU/mZe5v8noZviojqVLoQqZKHdlDKhHUhRJAM1Lkqr0cUEUZhZlFYpbR8tpRAkzabQ\n",
       "XQchFiPKgO5CySgIsS6s1VaQpn2KlUJFS0xCDdX2nvt/30/otgfOm/fe+c53v/veeefeAZ4gC2Lu\n",
       "pXu4dCp4rHQGlVauAYtXN4REE5Jsuz772vIrdOM7F/ki8FFsQFlpbKXx6qiEku1ivg+UFjWCfPmw\n",
       "0fipI64yS9wmeEI8qzdCx6N0yAwb/4RuTLtJ0zRoXEDboA+81TGAs8zzCVo55D6Q3ayvvCZkAlku\n",
       "CLPm+Z2X+E3f+GECT7jz69GgMQFj9S5woSug9DpvMfJy19EaWGzw1oHCurqSWimBa26GWDEPo/Wy\n",
       "cZpCZsYRkgpo0JiAsQVWa983BZTZB2+yp1EdcrROW2woLTNpq+pKaqUEsh03Q6x42tL6q/HyxSNH\n",
       "jrlCnuMvMyZgrM18bEZAmfVoFLzjaN1msSF7Dxj4V11JrZRAtns+xJr2La3ZGeNrrdYvrpD9ovCi\n",
       "AWOs/KprEsq4gwt99jPraC32DBuvxL8ndILUOsuPVb8SYs10La3FpvE9wCQrpvb4a5My5UOhVQSY\n",
       "nYlIpfLb1ZRQ4DfUSdh5qVV+6KuGjSrRu6avlNbzQkxflppmzfctrQXf+DY2MXbrK+AzqWST0CoD\n",
       "KC/Lfjg1dbovv5eVudmLCgrUcIKG2Or2gcJJzYaFl+f2d0yC1LqVHyvI+S5rqmZpTQ8Zr6BEChqs\n",
       "rOWnuyy0ygBuP2CHu+MH0OvefVYgsv/DQOE1GmP0fuuhnnVnk4a0AztBaa1D9vA9LuugrdW7Z7zU\n",
       "rxDRDWAvHK0ygM/Zyyu9ffwvprX4pyS7Yg+dZk/Cj2r1pgIN+Q/JWm+qFUWzJmqt+oSs/oPyzxL6\n",
       "lNAqAvB6LeAb/rV3t78hG2HTgoJVW2XIqgFZr9cDDfFWYSc4NVBg5/mOw5qaSagBTO6mO+tzBxTf\n",
       "e3IB4gEM4KBYONAb39I3jVBDc4w5zyaNRee5FkYMpLRsc2uti3wl6Ai9FmvW/rbKvnGco0df9M0o\n",
       "s1IrD+BbLMDriuea2SkbYWBB76hSc3vW+xZEV6JsU3bP2gG1K9GsxWZCz0KK+k22aUZ5QWrlgeq1\n",
       "8XbgXW+13qV6LfKG+PrDVwz08DNnUG7fZ/knHa2TBnK7vdKzuCHnDt4o+Mubd1jTTPrBpaUfWB2x\n",
       "514zjjJNZ9BaTVMdMSgPZDqoD1dHxHMVWuFClYXW2OEYSDSBGp74PG3bbJ1ba6zaNlgczibkeTaP\n",
       "PkZlDRwNaVXbD7VQxeyzbEg0Id4uW+efWi7Szu4L7wmF/b6G3NgN/FHja0GrH7vhk+10oz1hUkK8\n",
       "5c1Gn9Yj5XF2KDrox6xeE6DKRhO0HtooId5yI/p0oGM8Fsr+w/z4eH+Bcvo9lliBXrq6ISSakGSm\n",
       "1r4w/ggvPWnyW7w74wAAAABJRU5ErkJggg==\n",
       "\" style=\"display:inline;vertical-align:middle;\" /></a><br>"
      ],
      "text/plain": [
       "unfoldForallOverBool: forall_{P} ([forall_{A in BOOLEANS} P(A)] => (P(TRUE) and P(FALSE)))"
      ]
     },
     "execution_count": 18,
     "metadata": {},
     "output_type": "execute_result"
    }
   ],
   "source": [
    "unfoldForallOverBool = Forall(P, Implies(Forall(A, PofA, domain=Booleans), \n",
    "                                         And(PofTrue, PofFalse)))"
   ]
  },
  {
   "cell_type": "markdown",
   "metadata": {},
   "source": [
    "**Various ways for a $\\forall$ expression over the set of Booleans to evaluate to `FALSE`:**"
   ]
  },
  {
   "cell_type": "code",
   "execution_count": 19,
   "metadata": {},
   "outputs": [],
   "source": [
    "def _forallBoolEvalFalse(PofTrueVal, PofFalseVal):\n",
    "    return Forall(P, Implies(And(Equals(PofTrue, PofTrueVal), Equals(PofFalse, PofFalseVal)), \n",
    "                             Equals(Forall(A, PofA, domain=Booleans), FALSE)))"
   ]
  },
  {
   "cell_type": "code",
   "execution_count": 20,
   "metadata": {},
   "outputs": [
    {
     "data": {
      "text/html": [
       "<strong id=\"forallBoolEvalFalseViaFF\"><a class=\"ProveItLink\" href=\"_proofs_/forallBoolEvalFalseViaFF.ipynb\">forallBoolEvalFalseViaFF</a>:</strong> <a class=\"ProveItLink\" href=\"__pv_it/c5d129f4f0ec6158ab0450b54c2714d15f46d80b0/expr.ipynb\"><img src=\"data:image/png;base64,iVBORw0KGgoAAAANSUhEUgAAAgkAAAAVBAMAAAA+x2ACAAAAMFBMVEX///8QEBC6urrMzMxUVFRm\n",
       "ZmZERETc3NwyMjKqqqp2dnaIiIiYmJgiIiLu7u4AAAAU9Wx4AAAAAXRSTlMAQObYZgAABVRJREFU\n",
       "WMPtWF1oXEUUPrub/cm9m5vgSxGxXkFQKEIetIgSs8SFiiJZiWm1WBp92CBUsw8hQYK4iqAP2u6D\n",
       "Qt+6L7E1wbJY60sLXfsUUrAr+Ic0bSIKeamGNC012NY5Z2bunbl7T7LqqwNnd898d+Z858w5M3MX\n",
       "4P8m2nJMX7IRit0rW97nZmtHdjHaeZbReRbdBe5PT3bmlkU2/5G/ja0WKhds7BFDvrxTLH5Xkb3p\n",
       "JWpjMBIzYZbsRpFUAcAd3ig+t0drADP4ke6PmSNAYlEx2vF7yLNGvFMmWWoDkpLjb2PrM1QO2w8c\n",
       "NgRuAmR2BA+lSviZi+NoIVmVYzn87q0CvFLRGjxKSDVmjhCJQ8Vox3dqwTwxzSYLcERSiouCZWsK\n",
       "KY9ZuNsIBVKbAN2bqlf7mq9zUdBIriS/z+DHoOg8Vteasr/IRmHRRj394wy6Q1ynmCBEyEL+yjJR\n",
       "4qOgbGFY0zULTyyHAu66mOe66tW+en1cFDSy+7L83okf5wSJiyWtKfsrbBRWbDRY+J20qLjKLzFR\n",
       "iJCFNw9WiBIfBWUrf3x6+i0bf8gQyKwBdP2pNeUrvMZFQSNDctmTlNkTQoZrWlP2MzWOGSIGmixA\n",
       "MJdwZ3F6errFRCFCFhoYf0GJj4K2daNc/tnG9xtCNf3HmNa0r7NsFCTiVWkXg3RdVat3I9CUfafE\n",
       "MUPEROchmEu401suv15nohAhm1w+1iRKfBS0racAxkU1TYy+MK7wDw3Bmk59r3sDX48SrQ+oFaAN\n",
       "AacpqyzXVNU6UNKatt9NifEiTfGexQwRiR6gM+mKnBlHC3e6+iFDx0Cu0uZZhOwvMNggSjIKW9l6\n",
       "QCycUL8G+FzhdxkC556Z21/RvYGv97O5IJEeyJIbCTTvbszNHg80bT/Zx60PIhZ61NejhTuiQFap\n",
       "96Ja4IUTJ15WD0bI+vB2iSjxuaBt9YCLS1QU06ptaN0QmNB707rp6yAbBYlcoBwTKYrmM7d1wppR\n",
       "SK1xzBCxUO8dX41Gd1pwljoPCtre6dGm63hfKC9tsqlicXiMKPFR0LbcZg+OvQTwNMRE4Rb8myhc\n",
       "VvcW8ru39R+j8NhJMKJwFuj8ca4Kg189+Puy68BJWWoRskmRP9UOo+BVka93DfI/KvxuQ1LXwei1\n",
       "8z64SrYh3SVVtgncHQb1TpeotVWErPwfmIqQ6NIbwWh0Z1XeQJ/IjEEeZ3ad5GmZAxGy4vmePqMi\n",
       "trQ1PoTa5pwuLjhkiLtu9ga+LrC5sKA3LowEZJrquiCPJXN3zFe59UHERD8OR6M7mUmar5BuyZuq\n",
       "m37+UnhdCMlmRRRya0SJz4XA1ieYsI5hddaQoKbVEdjZSbkb1BsKHXhBtarj7x+elNlqOBrd6T5A\n",
       "9GvuGjxOvjswIq+KNtlV3dPJSQkJnCJjcHo4lN8mNhpGr/BVHtXvRqbE4riXioOQIX15TrbA23vn\n",
       "WX3/aVFafktpmYsysxADzVTC0eTOPahdHd17GwbK5XJDRKFOrGyyU/e9D/mJmyWk5GxvK08vPMZN\n",
       "LlEJxe4NNu0+7o1WIr7anAB2WKiprbBvxZEbdMoYTe58g8o+SF2DX1Uu1KPXqAhZx+/M1qAxDN+I\n",
       "tNi9ujkNbtYosshq82wU5hl00Xg5TIpN4i/oqsgo7IvyiZDlo2DZco6McG/WVq9qq6wHq+1vw/Ga\n",
       "V2XTqcqg9GatnhEXgclbTe9VujV9eqjtWZssGwXWlmiThti9qu1hoxBFsgVG66pwUyASi2YLbe44\n",
       "Yl9gXQgpsVFgbam/jbRE/0yiSuznPGhHZhjtFBvIUyw6A+5Sf2f/uFlk3SV/a1t/AzOpwz5l/iQm\n",
       "AAAAAElFTkSuQmCC\n",
       "\" style=\"display:inline;vertical-align:middle;\" /></a><br>"
      ],
      "text/plain": [
       "forallBoolEvalFalseViaFF: forall_{P} (((P(TRUE) = FALSE) and (P(FALSE) = FALSE)) => ([forall_{A in BOOLEANS} P(A)] = FALSE))"
      ]
     },
     "execution_count": 20,
     "metadata": {},
     "output_type": "execute_result"
    }
   ],
   "source": [
    "forallBoolEvalFalseViaFF = _forallBoolEvalFalse(FALSE, FALSE)"
   ]
  },
  {
   "cell_type": "code",
   "execution_count": 21,
   "metadata": {},
   "outputs": [
    {
     "data": {
      "text/html": [
       "<strong id=\"forallBoolEvalFalseViaFT\"><a class=\"ProveItLink\" href=\"_proofs_/forallBoolEvalFalseViaFT.ipynb\">forallBoolEvalFalseViaFT</a>:</strong> <a class=\"ProveItLink\" href=\"__pv_it/cd01592e20af6820e6d9808a36763cf060c3f4930/expr.ipynb\"><img src=\"data:image/png;base64,iVBORw0KGgoAAAANSUhEUgAAAgkAAAAVBAMAAAA+x2ACAAAAMFBMVEX///8QEBC6urrMzMxUVFRm\n",
       "ZmZERETc3NwyMjKqqqp2dnaIiIiYmJgiIiLu7u4AAAAU9Wx4AAAAAXRSTlMAQObYZgAABVxJREFU\n",
       "WMPtWE1oXFUUPjOT+cl7k5fgpohYRxAUipBFLVKJGeJARZGMxLRaLI1dTBCqmUVIkCCOIuhC21ko\n",
       "dNfZxNYEy2CtmxY6dhVSsCP4hzRtIgrZVEOalhps6z3n3vveve+9E0fdeuHMzLnfu/d857u/bwD+\n",
       "L6Isx9Qlm4HZtbLkC1xvUWQH411gGV1g0R3g/vhkZ2lZZPMfFv4mVhudiza207Av7pZK31ZlbXqJ\n",
       "yhiMxHSYpbhhJFUEcIc3Ss/t0R7ADH6k+8MdHKDOvyckisrWTqGHMmvGJ2WSpTIgKTkxKvgs0D5F\n",
       "54j9wBHD4BZAZpv/UKqMn7k4jhaSVXMsh9+9NYBXqtqDxwipxfQRIHGoaO0UnLrfT0yxyQIclZTi\n",
       "VLBiTSHlMQt3m4FBahOge1PV6lzzDU4FjeTK8vssfgyKyuMN7an4i6wKizbq6R9nMR3iOsWIECIL\n",
       "+avLRIlXQcVCWdN1C08sBwbuuujnhqrVuXp9nAoa2XVFfm/Hj/OCxKWy9lT8FVaFFRv1B347DSqO\n",
       "8kuMCiGy8MbBKlHiVVCx8iemp9+08UcMg8waQNcf2lO5wqucChoZksOepJk9IWy4rj0VP1PnmCFi\n",
       "oMki+H2JdBanp6fbjAohstBE/QUlXgUd62al8pON7zeM1vTvY9rTuc6yKkjEq9EuBumGWq3eTd9T\n",
       "8Z0yxwwRE50Hvy+RTm+l8lqDUSFENrl8vEWUeBV0rKcAxsVqmhh9YVzhHxiGazr1na71cz1GtN6n\n",
       "UoQIAk5LrrJcS63WgbL2dPxumhgvUhfvWswQkag8Nq7KnrG1SKerHzJ0DOSqkcxCZH+GwSZRkips\n",
       "FeshMXDC/QrgM4XfYxicf2Zuf1XX+rk+yM4FifRAltJIYHh3Y272hO/p+Mk+bnwQsdBjBd1apCMW\n",
       "yCrVXlIDvHDy5MvqwRDZArxVJkr8XNCxesDFISqJbtU2tG4YTOi9ad3MdZBVQSIXaY6JKYrhM3f0\n",
       "hDVVSK1xzBCxUO/tgmqN6bThHFUeFLS9M6Mt1/E+V1naZFOl0vAYUeJV0LHcVg+2vQzwNMSocBv+\n",
       "jQpX1L2F8u5t/0cVHj8FhgrngM4f55oI+OXDvy27DpySSy1ENinmT61DFbwa8vWuQ/4Hhd9rWOoG\n",
       "GLX2vPevkhGku6yWbQJ3h0G90yXqkRWhL4zxK0KiS6/7rTGdVXkDfSIzBnns2XWSZ+QcCJEVz/f0\n",
       "GStiy1jjQ+htzunFBYcNc9fNWj/XBXYuLOiNC5WATEtdF+SxZO6O+Ro3PoiY6EdBa0wnM0n9FdNt\n",
       "eVN1089fDq4LAdmsUCG3RpT4ueDH+hgnrGNEnTXMX9PqCOzspNwF6g2FDjx/tarj7x+elNla0BrT\n",
       "6T5A9OvuGuym3B0YkVdFm+yqrunkpIQEdpExOD0a2K8TG02jVuQqj+p3Ql3i4rifFgchQ/rynGyD\n",
       "t/fus/r+06Zp+Q1Ny1wMs93ySCxYaKYatKZ07kPv2ujeOzBQqVSaQoUGsbLJTj3wHuQnbpWRUkQF\n",
       "iwXFytMLj3GTS1QDs2v9TbuPe6OVSEFtTgDbLNT0Vti34tANOmW0pnS+RmcfpK7DL2ouNMLXqBBZ\n",
       "p9BZrEGjGb4RabNrdXGaXK9hZJH15lkV5hl00Xg5TIpN4k/oqkoV9oX5hMjyKlixnKMj3Ju1VavK\n",
       "KpvBavRtON7zaux0qjEovVmrZ8RFYPJ2yztEt6ZPDkeetcmyKrCxRJk0zK5VZQ+rQhjJFhmvq8p1\n",
       "gUgsmi1G0nHEvsCmEFBiVWBjqb+NtIX/TKKV2M9lEEVmGO80K+RpFp0Bd6m/s3/cLLLuUmHrWH8B\n",
       "DTfDCVOCltwAAAAASUVORK5CYII=\n",
       "\" style=\"display:inline;vertical-align:middle;\" /></a><br>"
      ],
      "text/plain": [
       "forallBoolEvalFalseViaFT: forall_{P} (((P(TRUE) = FALSE) and (P(FALSE) = TRUE)) => ([forall_{A in BOOLEANS} P(A)] = FALSE))"
      ]
     },
     "execution_count": 21,
     "metadata": {},
     "output_type": "execute_result"
    }
   ],
   "source": [
    "forallBoolEvalFalseViaFT = _forallBoolEvalFalse(FALSE, TRUE)"
   ]
  },
  {
   "cell_type": "code",
   "execution_count": 22,
   "metadata": {},
   "outputs": [
    {
     "data": {
      "text/html": [
       "<strong id=\"forallBoolEvalFalseViaTF\"><a class=\"ProveItLink\" href=\"_proofs_/forallBoolEvalFalseViaTF.ipynb\">forallBoolEvalFalseViaTF</a>:</strong> <a class=\"ProveItLink\" href=\"__pv_it/71eb6e3b38099a0e7e79859fade8b175c18efbc40/expr.ipynb\"><img src=\"data:image/png;base64,iVBORw0KGgoAAAANSUhEUgAAAgkAAAAVBAMAAAA+x2ACAAAAMFBMVEX///8QEBC6urrMzMxUVFRm\n",
       "ZmZERETc3NwyMjKqqqp2dnaIiIiYmJgiIiLu7u4AAAAU9Wx4AAAAAXRSTlMAQObYZgAABUlJREFU\n",
       "WMPtWF9oW1UY/5K0SXrvzW3xZYgwryAoDKEPOkSpCTUwUaSR2k2HY9GHFGGaPJQGKWIUQR90y4PC\n",
       "3paXutniCM75ssHinkoGLoJOkXVrRSEv09J1Yxa3ec53zrn3nJv7tVFfPfA1+77fPef7fb97/t0B\n",
       "/N9YW4mIxZuBmVHRHI8arRfZRXjnSUbnSXQX2D891V9ZBlnnY2+bXB3uXDCxRzX76m4+/31FRAeX\n",
       "sRVhMjwaiSRyAPbERv75PcoDmMMeoxGkfCQSZb0tL4OVNaOL0sliG2PGKFneNrk+585h84HDmsEt\n",
       "gOQO/6FEgf9NR3E0kJScY2n+O1wDeLWiPHgMkVrEGAEShbLelmfV/XEimkkW4IigFKWCkWuWUy4a\n",
       "uN0MDBKbAEObMqpqdRqUCgpJF8TvGf4ny4LHGsqT+dukCm0TddU/zvBykOssIUKILDhXV5ASrYLM\n",
       "xWUdrBt4bCUwsNfZODdkVNXqjlAqKGT3FfG7k/85x0hcLChP5l8lVVg1Uf/F78SXyt/yy4QKIbLw\n",
       "1sEKUqJVkLmc49Xq2yb+sGaQXAMY+FN5slZ4nVJBIePitcdxZpeZTdSVJ/Mn6xQzjmhoPAf+WKyc\n",
       "drVa7RAqhMhCk+vPKNEqqFw3S6WfTXy/Zrim/ygqT9U6T6ogELeWEbtmQ65W96bvyfxWgWLGER1d\n",
       "BH8sVs5wqfRGg1AhRDa+cqyFlGgVVK6nAabZaipPvTgt8Y8042s68YOK+rUeRVofYstBDwJWS6yy\n",
       "dEuu1rGC8lT+IZwYL+EQ7xvMOCLQA3jyXBUj896snIFRSOIxkK70VBYi+wtkm0hJqLBVrgfZi2Pu\n",
       "NwBfSPwezeDcswv7Kyrq1/oAORcEkoEUlhHj6e2Nhfnjvqfyx0eo98MRAz3qqd6sHLZAuhi9KF/w\n",
       "0okTr8gHQ2Q9eKeAlOi5oHJlwOavKM+GldvQumZQVnvTul5rllRBIBdwjrEpytMn76gJq6uQWKOY\n",
       "ccRA3Xc92ZuX04GzGDzIaLunp1q25X4pqzTJJvL5iSJSolVQuexWhve9DPAMRKhwG/6NClfkvQXr\n",
       "Hu78RxUePwmaCmcBzx/rGkv49UO/r9gWnBRLLUQ2zuZPrU8V3Brn614H50eJ36tZ4gZoUXPe+xfG\n",
       "HmSoIJdtjO8OWbXTxeo9K0Ks/EvEihDo8pt+b15OV9xAn0wWweEj21b8tJgDIbLs+cyItiK2zDU9\n",
       "zr3NBbW44JBm9roe9WtdIufCktq4uBKQbMnrgjiW9N3RqVHvhyM6+knQm5eTnMHxcoMdcVO1B1+4\n",
       "HFwXArIppkJ6DSnRc8HP9SmfsJaWdV4zf03LI7C/k3I3yC8UPPD81SqPv394UqZqQW9eztABpF+3\n",
       "1+AJrN2CSXFVNMl2VaSfkxJifIikxumRwH4rbzS1KKtVHNXvRaigIePq8hzvgLv37nPq/tPBafkd\n",
       "Tst0mJmBaGiyEvTGcu7j3rWpvXdgrFQqNZkKDcxtkp29/wNwyrcKnJK1fS4HP3i0m1ysEpgZ9Tft\n",
       "EeqLViCe3JwAdhio7q2SX8WhG3RC643lfMudfZC4Dr/KudAIX6NCZC2vv1xZrRv/IlJmRlWzmtSo\n",
       "YaRNeoukCosE2tY+DuNsk/gLBipChX1hPiGytApGLuvIJPVlbURl65IVdHu/hqM9t0ZOpxqB4pe1\n",
       "fIZdBGZut9zX8Nb02aGeZ02ypApkLtZmNDOjsu0hVQgjqRzhDVSoITgSiaZyPeVYbF8gSwgokSqQ\n",
       "uXi6ZmBmVJ5Io1QFvcgc4Z0ihTxFonNgL4/29z9uBll72ds619/MdcPqcoyY4AAAAABJRU5ErkJg\n",
       "gg==\n",
       "\" style=\"display:inline;vertical-align:middle;\" /></a><br>"
      ],
      "text/plain": [
       "forallBoolEvalFalseViaTF: forall_{P} (((P(TRUE) = TRUE) and (P(FALSE) = FALSE)) => ([forall_{A in BOOLEANS} P(A)] = FALSE))"
      ]
     },
     "execution_count": 22,
     "metadata": {},
     "output_type": "execute_result"
    }
   ],
   "source": [
    "forallBoolEvalFalseViaTF = _forallBoolEvalFalse(TRUE, FALSE)"
   ]
  },
  {
   "cell_type": "markdown",
   "metadata": {},
   "source": [
    "### Must be a true statement or a false statement if in the set of Booleans:"
   ]
  },
  {
   "cell_type": "markdown",
   "metadata": {},
   "source": [
    "*** The second form, known as the 'law of excluded middle' can be more useful for unfolding the meaning of being in the set of Booleans ***"
   ]
  },
  {
   "cell_type": "code",
   "execution_count": 23,
   "metadata": {},
   "outputs": [
    {
     "data": {
      "text/html": [
       "<strong id=\"inBoolDef\"><a class=\"ProveItLink\" href=\"_proofs_/inBoolDef.ipynb\">inBoolDef</a>:</strong> <a class=\"ProveItLink\" href=\"__pv_it/e4b2da0c82a93edf3fb4a80ce58edbf8f34075a60/expr.ipynb\"><img src=\"data:image/png;base64,iVBORw0KGgoAAAANSUhEUgAAAVMAAAAVBAMAAAAJExCCAAAAMFBMVEX///8QEBC6urrMzMxUVFRm\n",
       "ZmZERETc3NwyMjKqqqp2dnaIiIiYmJgiIiLu7u4AAAAU9Wx4AAAAAXRSTlMAQObYZgAAA5FJREFU\n",
       "SMfVVk1oU0EQniRNnkleYvGiImoKguIfPWjxUlpsQLzYQBFEKcZLa0FsDtJaihhEaQ/a5mDBm70U\n",
       "kYIEvCgeGjwUbVFaoR7E1FS0FEGQgrGgWHdmd/P+dl/ODnybl939dr7dnZ1dgP/HKoq6YJFDby8V\n",
       "dYcEfMxMqUj1HEksYMW8s/2YALNWZ0ts/PLG7j6AcLNn0FA7B34uuNrCZbIsdClIKgLaMDGbLTzG\n",
       "ijFnpzGratzFjwSLa98mAfKekbdUOPDzh9dxKEMt9E1rG5IkDQGOU5m3MMB+jKyjT7zIgTv2qeKR\n",
       "Gk8x2pxn5BcCzN781Uk1J7HskP39CELqnAWcV7jg6BOocDAbupij3+SzcjkvpEZLZwBWPCPvEWAz\n",
       "n/ilk5psxLIFi2XwJwipKxbMR4ODN5x9DggwK87wg3DirW1V97NNiBTcRzHPgbsSX9dJhT7abzb/\n",
       "aAb8CUIqOpKo9vR8cPY5L8CGqjws0bSv2gKgdZateCzjPjmTHMyORv9opU5hgTJRri9BSEVHEixw\n",
       "eqlyRPa5KwDwGdooZiM5S2p5cxd6o/U4N4p2m1aqxME2ORX6TeKpcbTdIfUBiM1vkSSLYB+uJhUd\n",
       "SeyDJLk1a5uwTQCP6k3ysOo4Vs9ZAAQbXWsQSHGwJjB+ale1SR7Bk5KkIwip6EgiAXGa29faJqwL\n",
       "QCid7qTk0IRZUR4ryB5kTe70sjXFwTJyOl3VSm2jMiGWx48gpKIjiXgpQaf9yZJHapDNOw/WfSCl\n",
       "RnylsmJHHanhQqxkSVUTFFKTeRISKvbIPjsFgB26BG30d49UHgDddAm9p70scECUYdFxRXkDwMgn\n",
       "QJIsgn04ZQBAL4VNA3RLOVcEjIK8RxpKDqksAEz3dRUpccCQ4o6zpL7i/zrmayQdQUhFRxIwQRfw\n",
       "a5iRfaYE1nAwukeS72xSzQtZRbKSCYWCsL/im6zY+V+ukXQERbKCAOaj5NLZWvcjHAN7R8Ds3yAX\n",
       "17tqz5Xq4mlMM+43UnCBYFzayMHs5h2vVJ5Cb4kHQ0aSNAQWC4sUC+hIAkyUGM5Bm3wtBXIcdrt/\n",
       "r+zYcu/Ful3A15Iix4UqFsnfbBersMPsOMqAxDcFf1fobdpTI98VvhYrekn1HU3bHX6pgtH5UfEI\n",
       "1K2O7yNQb2sKUl1HEiq7JqC3hpynymjn8LVTClJdRxIqM4ocenuqebUP+zuONyuf+nUcCfwDov0k\n",
       "9Q88fGgAAAAASUVORK5CYII=\n",
       "\" style=\"display:inline;vertical-align:middle;\" /></a><br>"
      ],
      "text/plain": [
       "inBoolDef: forall_{A} ((A in BOOLEANS) = ((A = TRUE) or (A = FALSE)))"
      ]
     },
     "execution_count": 23,
     "metadata": {},
     "output_type": "execute_result"
    }
   ],
   "source": [
    "inBoolDef = Forall(A, Equals(inBool(A), Or(Equals(A, TRUE), Equals(A, FALSE))))"
   ]
  },
  {
   "cell_type": "code",
   "execution_count": 24,
   "metadata": {},
   "outputs": [
    {
     "data": {
      "text/html": [
       "<strong id=\"unfoldInBool\"><a class=\"ProveItLink\" href=\"_proofs_/unfoldInBool.ipynb\">unfoldInBool</a>:</strong> <a class=\"ProveItLink\" href=\"__pv_it/f3e4ac83929f0bec3f4ece5ccac055d5592377730/expr.ipynb\"><img src=\"data:image/png;base64,iVBORw0KGgoAAAANSUhEUgAAAJsAAAAVBAMAAACj9YEXAAAAMFBMVEX///8QEBC6urrMzMxUVFRm\n",
       "ZmZERETc3NwyMjKqqqp2dnaIiIiYmJgiIiLu7u4AAAAU9Wx4AAAAAXRSTlMAQObYZgAAAjRJREFU\n",
       "OMutVD1oFEEUfrnNZu9n77RLGuUQu4ikCNdYeJiApddcZ0QtNoVFrjJISNgmCCn0mvRXKSLIgmUK\n",
       "l4ABE4SziEXQcILaRCQEPIUEdd7fTS7Z1RR58M3sft/stzNv3gzA6Ubn3/LoCelVQRtfNtLcnCp3\n",
       "7URa34zqjjGeIfEozS7Lk8/uYlumbw/ROgjVkHHfdN7tNLsV7t7+xnaix6z0DSJ1nYE/cptpduep\n",
       "9ZZ/YlfBZtvSEqx+YvhPZ2fn09wyIXWFwh4tqgGQq1lagtWhJqMbBFtpdm6Lusu5A+zQCi2VlmA1\n",
       "X2OYjEwT/TBhJ2JsS2VnH2ShFUtLiJoLGRehRHP391j2l5YWdfgAbWYGvB+6MdeUnvpoYsuqmbOM\n",
       "IhTo6y845Z36TYhaOxfE7gzZjU9Odum1KH9mGhWrOruMQlykKnqxaZ7vLnw3dvlvfXamGeFUNvPx\n",
       "MTtR1a4UjlN5RgHAa3yKWqO3dLFYQTmDd1wSYdHSYqeqLhamKR+DMMWlDVH9nOZuCB8eGDzm94kN\n",
       "S4udqn7IgGU6kG/gFTgtnp17RYbjzlO6ZvhUVbZ7NJ9Wq2qhwECE271Zn+k474PgHuYur2XcBu/O\n",
       "rwas/VnkwqkprSeip2bLDPDxz24Dro6Vqjy7nh0MH7lJOok02EMmccnsVwzXZbFzSq8nn5YE+rmA\n",
       "4nMXvBsf4GuZyjiIj1xQKffW4bMRSpb74onJXd9tUU20O04PNhj/ibkT0i8ZfwHwzaFeUWDKCQAA\n",
       "AABJRU5ErkJggg==\n",
       "\" style=\"display:inline;vertical-align:middle;\" /></a><br>"
      ],
      "text/plain": [
       "unfoldInBool: forall_{A in BOOLEANS} (A or [not](A))"
      ]
     },
     "execution_count": 24,
     "metadata": {},
     "output_type": "execute_result"
    }
   ],
   "source": [
    "unfoldInBool = Forall(A, Or(A, Not(A)), domain=Booleans)"
   ]
  },
  {
   "cell_type": "code",
   "execution_count": 25,
   "metadata": {},
   "outputs": [
    {
     "data": {
      "text/html": [
       "<strong id=\"fromExcludedMiddle\"><a class=\"ProveItLink\" href=\"_proofs_/fromExcludedMiddle.ipynb\">fromExcludedMiddle</a>:</strong> <a class=\"ProveItLink\" href=\"__pv_it/a34aadc5d2a4092d51d83d0e250fd83dbcb4aeef0/expr.ipynb\"><img src=\"data:image/png;base64,iVBORw0KGgoAAAANSUhEUgAAAPoAAAAZBAMAAADqEi4iAAAAMFBMVEX///8QEBC6urrMzMxUVFRm\n",
       "ZmZERETc3NwyMjKqqqp2dnaIiIiYmJgiIiLu7u4AAAAU9Wx4AAAAAXRSTlMAQObYZgAAA0VJREFU\n",
       "SMfFlk1IVFEUx//Omw/nvZmn20rCRR+boFlERCIOidBOK8dBSZwixhZJA5nTJrBVq2IgatNmICgr\n",
       "mIbIIhJ60KYMahbZQjQm0BBEkQSNMumcO2981/eeBtbUXdx3P865v3fOPffeA7iUvskUKl88k+Ou\n",
       "4wX8m9L/n+lFV7r+j+jCzrd2epg/oXylsLNnYsZFpt/n3nU7Xc3Qp7pYIbhaB+yuY/oA9QIJO12M\n",
       "DFQIrl8js9RlprOBvowj6tgbnRWiV+/k81bL9NC9dPqyM+ZH0+l0pUK/h40NtIkTt5RMjjvpNclk\n",
       "X3YLK1+QOxlXkcA34f6IoDcDvdTTWrpmUxbdG4FfdKvt1159uXFVHn0Syz3jla0/JsXDcBGBb0W6\n",
       "bXZBHwSUCeCUZLsnihnRfm/SXg8NnRSNcoSGvkorNxrw00bCbw2RolrvIoLwskQPQzOA/eSIW/Jd\n",
       "V8CIcFAPTerDMUNT9cf1Mn16RbqyF4EgT9y2ApsU2SyHCGoWxHyJrhnhIvTt1GmQ6SP4JI7mHEXH\n",
       "073zRU1FzpDpuTHxCfLmfiaHK3w39VpnmhWbXURQJeg3SnR98ADJ8si8TJ9Rotxs8CcQauO4UD3D\n",
       "RYmu5JOlBgMfsTE8W7tGZ0W8cBGBd5XrNvOV6T1C7k/YXxl/v/Bz1FdANTc037EJed+96IYvSeUK\n",
       "7dlHU1GxXM2KFFMOERL6wa4pmvSbfMCydnqwW4RWRlsohS55/kReor/BS1M6FsH38uZGoRLtrKmI\n",
       "Q04RjscMPPHyC1tFi1YRXc+ve2F3cDUX61hFIy2YJ3o2a9H1sdh58xk4GAdHzSz/stgtjnyhuEaX\n",
       "RNj4oy2da+97iO/ahOkMi/6OqziURUyZtst0XwpNES1GpZ12sIOjkG1PlOlCEXvgEHHLLvRtwB1n\n",
       "duGhKF+BN1WixyXP76PdMvR5Kg85oDNQI7iU0gsmvaSIUdhENshtplseFB10vTWB/p+GflrcNnfP\n",
       "WVE3tYRAq4hCcTT09i6yq8konVIopiKOwyaylcyKIslKNGyvcUBKAgw8Xz856BD507wuseGMksKX\n",
       "dQPB/F/PKjemh4hnyAPeLeW0k5vl89FNF3wld3K/yec//AI0vQIRsK/SQwAAAABJRU5ErkJggg==\n",
       "\" style=\"display:inline;vertical-align:middle;\" /></a><br>"
      ],
      "text/plain": [
       "fromExcludedMiddle: forall_{C} [forall_{A in BOOLEANS | A => C , [not](A) => C} C]"
      ]
     },
     "execution_count": 25,
     "metadata": {},
     "output_type": "execute_result"
    }
   ],
   "source": [
    "fromExcludedMiddle = Forall(C, Forall(A, C, domain=Booleans,\n",
    "                                            conditions=[Implies(A, C),\n",
    "                                                        Implies(Not(A), C)]))"
   ]
  },
  {
   "cell_type": "markdown",
   "metadata": {},
   "source": [
    "*** New facts may be derived via the 'law of excluded middle' through dual implications ***"
   ]
  },
  {
   "cell_type": "markdown",
   "metadata": {},
   "source": [
    "### The claim that $x\\in \\mathbb{B}$ should itself be in $\\mathbb{B}$"
   ]
  },
  {
   "cell_type": "code",
   "execution_count": 26,
   "metadata": {},
   "outputs": [
    {
     "data": {
      "text/html": [
       "<strong id=\"inBoolInBool\"><a class=\"ProveItLink\" href=\"_proofs_/inBoolInBool.ipynb\">inBoolInBool</a>:</strong> <a class=\"ProveItLink\" href=\"__pv_it/8f5f21c4cf95a3b040f3163441743dfcff68076d0/expr.ipynb\"><img src=\"data:image/png;base64,iVBORw0KGgoAAAANSUhEUgAAAKAAAAAVBAMAAAAz5vjYAAAAMFBMVEX///8QEBC6urrMzMxUVFRm\n",
       "ZmZERETc3NwyMjKqqqp2dnaIiIiYmJgiIiLu7u4AAAAU9Wx4AAAAAXRSTlMAQObYZgAAAiJJREFU\n",
       "OMtjYKA2eIBFTBuKcQIeBdziF0CM0yjCzA4QDGJeQNWx4lt/47UJDAzBDDjFV4L4fSiyHA8gGMT8\n",
       "gKYzQZuvbxVQnAGneBmQx56AIrkbioHg7D8MjQybgLp4FuAUBzmFdQKKpBwUA22a+h0ixLfj7t0G\n",
       "qMY5LA8Y+AQg4q97795gQBXnWV5eXotiHlMDBAMBN/cniJjFOSSXgDyVCQningeY4t/S0m6hGMi6\n",
       "AIKBQI/zD8SleQivMd8BcZaCeWUPsIg7MzCkg8XaYXFyAIKBHlVg/g0WYiuAa9S9/3EDkJ4B5qUz\n",
       "YBFXYeAD+48H6jsGRgUIBnqcgf0rWOgZcuDvngakFcEWJmAT52XgBjvn6R+oHL8CBDMwmLi4fAML\n",
       "Kd69i4gUNiZgeNiDLZQFCsMjBSbOfYAXHBLrrmIYCCQkwEImyC5hY0iAGghN/WjifA1g5cwb0mBe\n",
       "ngDBDJxAfBEs9BZDI8TLF7CKpzuBRFgYYqFybAcgmKESiPvBQiwHkDWCvHYCzPNhwCY+FWzPSYb9\n",
       "UDmuAAgGx1U+ODj4LiFpPLoNnmzeKmATZwRFN9/V0HxoomK6AMbsiT8KGI79bwWLVQTDC4FcEVBw\n",
       "NEHSZ6sBFnEekEGsBQz2UEkGcShGBlN6IbEMBbCsx+kBjWU0cQYGHWDMwgLqFBTjAVwbCIg/+cbA\n",
       "7n8Hs/jCBV6QJM7uAMF4gDtp4tVQjBNwG+AUBwCgb67pvS5ycwAAAABJRU5ErkJggg==\n",
       "\" style=\"display:inline;vertical-align:middle;\" /></a><br>"
      ],
      "text/plain": [
       "inBoolInBool: forall_{A} ((A in BOOLEANS) in BOOLEANS)"
      ]
     },
     "execution_count": 26,
     "metadata": {},
     "output_type": "execute_result"
    }
   ],
   "source": [
    "inBoolInBool = Forall(A, inBool(inBool(A)))"
   ]
  },
  {
   "cell_type": "code",
   "execution_count": 27,
   "metadata": {},
   "outputs": [
    {
     "name": "stdout",
     "output_type": "stream",
     "text": [
      "Theorems may be imported from autogenerated _theorems_.py\n"
     ]
    }
   ],
   "source": [
    "%end theorems"
   ]
  },
  {
   "cell_type": "code",
   "execution_count": null,
   "metadata": {},
   "outputs": [],
   "source": []
  }
 ],
 "metadata": {
  "kernelspec": {
   "display_name": "Python 3",
   "language": "python",
   "name": "python3"
  }
 },
 "nbformat": 4,
 "nbformat_minor": 0
}
