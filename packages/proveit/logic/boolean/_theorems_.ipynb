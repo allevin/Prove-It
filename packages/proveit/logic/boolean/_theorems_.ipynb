{
 "cells": [
  {
   "cell_type": "markdown",
   "metadata": {
    "collapsed": true
   },
   "source": [
    "Theorems for context <a href=\"_context_.ipynb\" class=\"ProveItLink\">proveit.logic.boolean</a>\n",
    "========"
   ]
  },
  {
   "cell_type": "code",
   "execution_count": 1,
   "metadata": {},
   "outputs": [],
   "source": [
    "import proveit\n",
    "from proveit.logic import Booleans, TRUE, FALSE, inBool, Implies, Not, And, Or, Forall\n",
    "from proveit.logic import Equals, NotEquals, InSet\n",
    "from proveit._common_ import A, C, P, Q, PofA, QofA\n",
    "from proveit.logic._common_ import PofTrue, PofFalse, QimplPofTrue, QimplPofFalse"
   ]
  },
  {
   "cell_type": "code",
   "execution_count": 2,
   "metadata": {},
   "outputs": [],
   "source": [
    "import proveit\n",
    "import proveit.logic\n",
    "#from proveit.logic import Booleans #, TRUE, FALSE, inBool, Implies, Not, And, Or, Forall"
   ]
  },
  {
   "cell_type": "code",
   "execution_count": 3,
   "metadata": {},
   "outputs": [
    {
     "name": "stdout",
     "output_type": "stream",
     "text": [
      "Defining theorems for context 'proveit.logic.boolean'\n",
      "Subsequent end-of-cell assignments will define theorems\n",
      "'%end theorems' will finalize the definitions\n"
     ]
    }
   ],
   "source": [
    "%begin theorems"
   ]
  },
  {
   "cell_type": "markdown",
   "metadata": {},
   "source": [
    "### Comparisons between Booleans"
   ]
  },
  {
   "cell_type": "code",
   "execution_count": 4,
   "metadata": {
    "scrolled": true
   },
   "outputs": [
    {
     "data": {
      "text/html": [
       "<strong id=\"trueEqTrue\"><a class=\"ProveItLink\" href=\"_proofs_/trueEqTrue.ipynb\">trueEqTrue</a>:</strong> <a class=\"ProveItLink\" href=\"__pv_it/39b7bb11d9285a053f62e0eb2edba7c6180380300/expr.ipynb\"><img src=\"__pv_it/39b7bb11d9285a053f62e0eb2edba7c6180380300/expr.png\" style=\"display:inline;vertical-align:middle;\" /></a><br>"
      ],
      "text/plain": [
       "trueEqTrue: TRUE = TRUE"
      ]
     },
     "execution_count": 4,
     "metadata": {},
     "output_type": "execute_result"
    }
   ],
   "source": [
    "trueEqTrue = Equals(TRUE, TRUE)"
   ]
  },
  {
   "cell_type": "code",
   "execution_count": 5,
   "metadata": {},
   "outputs": [
    {
     "data": {
      "text/html": [
       "<strong id=\"falseEqFalse\"><a class=\"ProveItLink\" href=\"_proofs_/falseEqFalse.ipynb\">falseEqFalse</a>:</strong> <a class=\"ProveItLink\" href=\"__pv_it/8ea916c02b75ccfcfc2b0e367a466f2a5eea21560/expr.ipynb\"><img src=\"__pv_it/8ea916c02b75ccfcfc2b0e367a466f2a5eea21560/expr.png\" style=\"display:inline;vertical-align:middle;\" /></a><br>"
      ],
      "text/plain": [
       "falseEqFalse: FALSE = FALSE"
      ]
     },
     "execution_count": 5,
     "metadata": {},
     "output_type": "execute_result"
    }
   ],
   "source": [
    "falseEqFalse = Equals(FALSE, FALSE)"
   ]
  },
  {
   "cell_type": "code",
   "execution_count": 6,
   "metadata": {},
   "outputs": [
    {
     "data": {
      "text/html": [
       "<strong id=\"trueNotFalse\"><a class=\"ProveItLink\" href=\"_proofs_/trueNotFalse.ipynb\">trueNotFalse</a>:</strong> <a class=\"ProveItLink\" href=\"__pv_it/b021c743ee41463bf5901121b5b091f2d2a9a6ee0/expr.ipynb\"><img src=\"__pv_it/b021c743ee41463bf5901121b5b091f2d2a9a6ee0/expr.png\" style=\"display:inline;vertical-align:middle;\" /></a><br>"
      ],
      "text/plain": [
       "trueNotFalse: TRUE != FALSE"
      ]
     },
     "execution_count": 6,
     "metadata": {},
     "output_type": "execute_result"
    }
   ],
   "source": [
    "trueNotFalse = NotEquals(TRUE, FALSE)"
   ]
  },
  {
   "cell_type": "markdown",
   "metadata": {},
   "source": [
    "### `TRUE` and `FALSE` are in the set of Booleans:"
   ]
  },
  {
   "cell_type": "code",
   "execution_count": 7,
   "metadata": {},
   "outputs": [
    {
     "data": {
      "text/html": [
       "<strong id=\"foldInBool\"><a class=\"ProveItLink\" href=\"_proofs_/foldInBool.ipynb\">foldInBool</a>:</strong> <a class=\"ProveItLink\" href=\"__pv_it/5a0b735eb2c903e1707180f4353a8ea9547060900/expr.ipynb\"><img src=\"__pv_it/5a0b735eb2c903e1707180f4353a8ea9547060900/expr.png\" style=\"display:inline;vertical-align:middle;\" /></a><br>"
      ],
      "text/plain": [
       "foldInBool: forall_{A | (A = TRUE) or (A = FALSE)} (A in BOOLEANS)"
      ]
     },
     "execution_count": 7,
     "metadata": {},
     "output_type": "execute_result"
    }
   ],
   "source": [
    "foldInBool = Forall(A, inBool(A), \n",
    "                    conditions=[Or(Equals(A, TRUE), Equals(A, FALSE))])"
   ]
  },
  {
   "cell_type": "code",
   "execution_count": 8,
   "metadata": {},
   "outputs": [
    {
     "data": {
      "text/html": [
       "<strong id=\"trueInBool\"><a class=\"ProveItLink\" href=\"_proofs_/trueInBool.ipynb\">trueInBool</a>:</strong> <a class=\"ProveItLink\" href=\"__pv_it/3e7350f116816f72fa422609af12e912bbd1845d0/expr.ipynb\"><img src=\"__pv_it/3e7350f116816f72fa422609af12e912bbd1845d0/expr.png\" style=\"display:inline;vertical-align:middle;\" /></a><br>"
      ],
      "text/plain": [
       "trueInBool: TRUE in BOOLEANS"
      ]
     },
     "execution_count": 8,
     "metadata": {},
     "output_type": "execute_result"
    }
   ],
   "source": [
    "trueInBool = InSet(TRUE, Booleans)"
   ]
  },
  {
   "cell_type": "code",
   "execution_count": 9,
   "metadata": {},
   "outputs": [
    {
     "data": {
      "text/html": [
       "<strong id=\"falseInBool\"><a class=\"ProveItLink\" href=\"_proofs_/falseInBool.ipynb\">falseInBool</a>:</strong> <a class=\"ProveItLink\" href=\"__pv_it/9f85861a2422bfaf1627227c7d0968a483b71e9d0/expr.ipynb\"><img src=\"__pv_it/9f85861a2422bfaf1627227c7d0968a483b71e9d0/expr.png\" style=\"display:inline;vertical-align:middle;\" /></a><br>"
      ],
      "text/plain": [
       "falseInBool: FALSE in BOOLEANS"
      ]
     },
     "execution_count": 9,
     "metadata": {},
     "output_type": "execute_result"
    }
   ],
   "source": [
    "falseInBool = InSet(FALSE, Booleans)"
   ]
  },
  {
   "cell_type": "code",
   "execution_count": 10,
   "metadata": {},
   "outputs": [
    {
     "data": {
      "text/html": [
       "<strong id=\"inBoolIfTrue\"><a class=\"ProveItLink\" href=\"_proofs_/inBoolIfTrue.ipynb\">inBoolIfTrue</a>:</strong> <a class=\"ProveItLink\" href=\"__pv_it/1d8cf37f5c705c7f67ba9cbc584342aedfb4c1440/expr.ipynb\"><img src=\"__pv_it/1d8cf37f5c705c7f67ba9cbc584342aedfb4c1440/expr.png\" style=\"display:inline;vertical-align:middle;\" /></a><br>"
      ],
      "text/plain": [
       "inBoolIfTrue: forall_{A | A} (A in BOOLEANS)"
      ]
     },
     "execution_count": 10,
     "metadata": {},
     "output_type": "execute_result"
    }
   ],
   "source": [
    "inBoolIfTrue = Forall(A, inBool(A), conditions=[A])"
   ]
  },
  {
   "cell_type": "code",
   "execution_count": 11,
   "metadata": {},
   "outputs": [
    {
     "data": {
      "text/html": [
       "<strong id=\"inBoolIfFalse\"><a class=\"ProveItLink\" href=\"_proofs_/inBoolIfFalse.ipynb\">inBoolIfFalse</a>:</strong> <a class=\"ProveItLink\" href=\"__pv_it/12ae38d734bba4799de856e620724384bea97dbe0/expr.ipynb\"><img src=\"__pv_it/12ae38d734bba4799de856e620724384bea97dbe0/expr.png\" style=\"display:inline;vertical-align:middle;\" /></a><br>"
      ],
      "text/plain": [
       "inBoolIfFalse: forall_{A | [not](A)} (A in BOOLEANS)"
      ]
     },
     "execution_count": 11,
     "metadata": {},
     "output_type": "execute_result"
    }
   ],
   "source": [
    "inBoolIfFalse = Forall(A, inBool(A), conditions=[Not(A)])"
   ]
  },
  {
   "cell_type": "code",
   "execution_count": 12,
   "metadata": {},
   "outputs": [
    {
     "data": {
      "text/html": [
       "<strong id=\"notEqualsFalse\"><a class=\"ProveItLink\" href=\"_proofs_/notEqualsFalse.ipynb\">notEqualsFalse</a>:</strong> <a class=\"ProveItLink\" href=\"__pv_it/9076f22dc1832793eb1f0bb3854a97f29607aecc0/expr.ipynb\"><img src=\"__pv_it/9076f22dc1832793eb1f0bb3854a97f29607aecc0/expr.png\" style=\"display:inline;vertical-align:middle;\" /></a><br>"
      ],
      "text/plain": [
       "notEqualsFalse: forall_{A | A} (A != FALSE)"
      ]
     },
     "execution_count": 12,
     "metadata": {},
     "output_type": "execute_result"
    }
   ],
   "source": [
    "notEqualsFalse = Forall(A, NotEquals(A, FALSE), conditions=[A])"
   ]
  },
  {
   "cell_type": "code",
   "execution_count": 13,
   "metadata": {},
   "outputs": [
    {
     "data": {
      "text/html": [
       "<strong id=\"fromNotFalse\"><a class=\"ProveItLink\" href=\"_proofs_/fromNotFalse.ipynb\">fromNotFalse</a>:</strong> <a class=\"ProveItLink\" href=\"__pv_it/2bf34fc7054286ade2d5779426c9df2a6b62c2610/expr.ipynb\"><img src=\"__pv_it/2bf34fc7054286ade2d5779426c9df2a6b62c2610/expr.png\" style=\"display:inline;vertical-align:middle;\" /></a><br>"
      ],
      "text/plain": [
       "fromNotFalse: forall_{A in BOOLEANS | A != FALSE} A"
      ]
     },
     "execution_count": 13,
     "metadata": {},
     "output_type": "execute_result"
    }
   ],
   "source": [
    "fromNotFalse = Forall(A, A, conditions=[NotEquals(A, FALSE)], domain=Booleans)"
   ]
  },
  {
   "cell_type": "markdown",
   "metadata": {},
   "source": [
    "### Must equal `TRUE` or `FALSE` if in the set of Booleans:"
   ]
  },
  {
   "cell_type": "markdown",
   "metadata": {},
   "source": [
    "***The first form of 'unfold' is a more direct consequence of the Booleans definition.  See also 'unfoldInBool'.***"
   ]
  },
  {
   "cell_type": "code",
   "execution_count": 14,
   "metadata": {},
   "outputs": [
    {
     "data": {
      "text/html": [
       "<strong id=\"unfoldInBoolExplicit\"><a class=\"ProveItLink\" href=\"_proofs_/unfoldInBoolExplicit.ipynb\">unfoldInBoolExplicit</a>:</strong> <a class=\"ProveItLink\" href=\"__pv_it/bd42870e69b1a4d4d0aeb2f95773ef905efb68970/expr.ipynb\"><img src=\"__pv_it/bd42870e69b1a4d4d0aeb2f95773ef905efb68970/expr.png\" style=\"display:inline;vertical-align:middle;\" /></a><br>"
      ],
      "text/plain": [
       "unfoldInBoolExplicit: forall_{A in BOOLEANS} ((A = TRUE) or (A = FALSE))"
      ]
     },
     "execution_count": 14,
     "metadata": {},
     "output_type": "execute_result"
    }
   ],
   "source": [
    "unfoldInBoolExplicit = Forall(A, Or(Equals(A, TRUE), Equals(A, FALSE)), domain=Booleans)"
   ]
  },
  {
   "cell_type": "markdown",
   "metadata": {},
   "source": [
    "### Folding $\\forall$ over the Boolean domain"
   ]
  },
  {
   "cell_type": "code",
   "execution_count": 15,
   "metadata": {},
   "outputs": [
    {
     "data": {
      "text/html": [
       "<strong id=\"foldForallOverBool\"><a class=\"ProveItLink\" href=\"_proofs_/foldForallOverBool.ipynb\">foldForallOverBool</a>:</strong> <a class=\"ProveItLink\" href=\"__pv_it/aee6960d17505c798b9d1f24ff6ef5d96fac5a9a0/expr.ipynb\"><img src=\"__pv_it/aee6960d17505c798b9d1f24ff6ef5d96fac5a9a0/expr.png\" style=\"display:inline;vertical-align:middle;\" /></a><br>"
      ],
      "text/plain": [
       "foldForallOverBool: forall_{P | P(TRUE) , P(FALSE)} [forall_{A in BOOLEANS} P(A)]"
      ]
     },
     "execution_count": 15,
     "metadata": {},
     "output_type": "execute_result"
    }
   ],
   "source": [
    "foldForallOverBool = Forall(P, Forall(A, PofA, domain=Booleans), conditions=[PofTrue, PofFalse])"
   ]
  },
  {
   "cell_type": "code",
   "execution_count": 16,
   "metadata": {},
   "outputs": [
    {
     "data": {
      "text/html": [
       "<strong id=\"foldConditionedForallOverBool\"><a class=\"ProveItLink\" href=\"_proofs_/foldConditionedForallOverBool.ipynb\">foldConditionedForallOverBool</a>:</strong> <a class=\"ProveItLink\" href=\"__pv_it/6bccdff4779765f1d15f135c0a8dcc90a2fd6c830/expr.ipynb\"><img src=\"__pv_it/6bccdff4779765f1d15f135c0a8dcc90a2fd6c830/expr.png\" style=\"display:inline;vertical-align:middle;\" /></a><br>"
      ],
      "text/plain": [
       "foldConditionedForallOverBool: forall_{P, Q | Q(TRUE) => P(TRUE) , Q(FALSE) => P(FALSE)} [forall_{A in BOOLEANS | Q(A)} P(A)]"
      ]
     },
     "execution_count": 16,
     "metadata": {},
     "output_type": "execute_result"
    }
   ],
   "source": [
    "foldConditionedForallOverBool = Forall((P, Q), Forall(A, PofA, domain=Booleans, \n",
    "                                                      conditions=[QofA]), \n",
    "                                       conditions=[QimplPofTrue, QimplPofFalse])"
   ]
  },
  {
   "cell_type": "markdown",
   "metadata": {},
   "source": [
    "### Evaluation of $\\forall$ over the Boolean domain"
   ]
  },
  {
   "cell_type": "code",
   "execution_count": 17,
   "metadata": {},
   "outputs": [
    {
     "data": {
      "text/html": [
       "<strong id=\"forallBoolEvalTrue\"><a class=\"ProveItLink\" href=\"_proofs_/forallBoolEvalTrue.ipynb\">forallBoolEvalTrue</a>:</strong> <a class=\"ProveItLink\" href=\"__pv_it/d66894fae4918a2de7fd681d8feec752fd3a26fe0/expr.ipynb\"><img src=\"__pv_it/d66894fae4918a2de7fd681d8feec752fd3a26fe0/expr.png\" style=\"display:inline;vertical-align:middle;\" /></a><br>"
      ],
      "text/plain": [
       "forallBoolEvalTrue: forall_{P | P(TRUE) = TRUE , P(FALSE) = TRUE} ([forall_{A in BOOLEANS} P(A)] = TRUE)"
      ]
     },
     "execution_count": 17,
     "metadata": {},
     "output_type": "execute_result"
    }
   ],
   "source": [
    "forallBoolEvalTrue = Forall(P, Equals(Forall(A, PofA, domain=Booleans), TRUE),\n",
    "                           conditions=[Equals(PofTrue, TRUE), Equals(PofFalse, TRUE)])"
   ]
  },
  {
   "cell_type": "code",
   "execution_count": 18,
   "metadata": {},
   "outputs": [
    {
     "data": {
      "text/html": [
       "<strong id=\"unfoldForallOverBool\"><a class=\"ProveItLink\" href=\"_proofs_/unfoldForallOverBool.ipynb\">unfoldForallOverBool</a>:</strong> <a class=\"ProveItLink\" href=\"__pv_it/8df11578b71aaeec7fbcb380d1656c291b4aa6360/expr.ipynb\"><img src=\"__pv_it/8df11578b71aaeec7fbcb380d1656c291b4aa6360/expr.png\" style=\"display:inline;vertical-align:middle;\" /></a><br>"
      ],
      "text/plain": [
       "unfoldForallOverBool: forall_{P} ([forall_{A in BOOLEANS} P(A)] => (P(TRUE) and P(FALSE)))"
      ]
     },
     "execution_count": 18,
     "metadata": {},
     "output_type": "execute_result"
    }
   ],
   "source": [
    "unfoldForallOverBool = Forall(P, Implies(Forall(A, PofA, domain=Booleans), \n",
    "                                         And(PofTrue, PofFalse)))"
   ]
  },
  {
   "cell_type": "markdown",
   "metadata": {},
   "source": [
    "**Various ways for a $\\forall$ expression over the set of Booleans to evaluate to `FALSE`:**"
   ]
  },
  {
   "cell_type": "code",
   "execution_count": 19,
   "metadata": {},
   "outputs": [],
   "source": [
    "def _forallBoolEvalFalse(PofTrueVal, PofFalseVal):\n",
    "    return Forall(P, Implies(And(Equals(PofTrue, PofTrueVal), Equals(PofFalse, PofFalseVal)), \n",
    "                             Equals(Forall(A, PofA, domain=Booleans), FALSE)))"
   ]
  },
  {
   "cell_type": "code",
   "execution_count": 20,
   "metadata": {},
   "outputs": [
    {
     "data": {
      "text/html": [
       "<strong id=\"forallBoolEvalFalseViaFF\"><a class=\"ProveItLink\" href=\"_proofs_/forallBoolEvalFalseViaFF.ipynb\">forallBoolEvalFalseViaFF</a>:</strong> <a class=\"ProveItLink\" href=\"__pv_it/ab767257ed2b9147e610cdfd0befb31f1c967d660/expr.ipynb\"><img src=\"__pv_it/ab767257ed2b9147e610cdfd0befb31f1c967d660/expr.png\" style=\"display:inline;vertical-align:middle;\" /></a><br>"
      ],
      "text/plain": [
       "forallBoolEvalFalseViaFF: forall_{P} (((P(TRUE) = FALSE) and (P(FALSE) = FALSE)) => ([forall_{A in BOOLEANS} P(A)] = FALSE))"
      ]
     },
     "execution_count": 20,
     "metadata": {},
     "output_type": "execute_result"
    }
   ],
   "source": [
    "forallBoolEvalFalseViaFF = _forallBoolEvalFalse(FALSE, FALSE)"
   ]
  },
  {
   "cell_type": "code",
   "execution_count": 21,
   "metadata": {},
   "outputs": [
    {
     "data": {
      "text/html": [
       "<strong id=\"forallBoolEvalFalseViaFT\"><a class=\"ProveItLink\" href=\"_proofs_/forallBoolEvalFalseViaFT.ipynb\">forallBoolEvalFalseViaFT</a>:</strong> <a class=\"ProveItLink\" href=\"__pv_it/133366e1db9623516731680f918b6f12d13283430/expr.ipynb\"><img src=\"__pv_it/133366e1db9623516731680f918b6f12d13283430/expr.png\" style=\"display:inline;vertical-align:middle;\" /></a><br>"
      ],
      "text/plain": [
       "forallBoolEvalFalseViaFT: forall_{P} (((P(TRUE) = FALSE) and (P(FALSE) = TRUE)) => ([forall_{A in BOOLEANS} P(A)] = FALSE))"
      ]
     },
     "execution_count": 21,
     "metadata": {},
     "output_type": "execute_result"
    }
   ],
   "source": [
    "forallBoolEvalFalseViaFT = _forallBoolEvalFalse(FALSE, TRUE)"
   ]
  },
  {
   "cell_type": "code",
   "execution_count": 22,
   "metadata": {},
   "outputs": [
    {
     "data": {
      "text/html": [
       "<strong id=\"forallBoolEvalFalseViaTF\"><a class=\"ProveItLink\" href=\"_proofs_/forallBoolEvalFalseViaTF.ipynb\">forallBoolEvalFalseViaTF</a>:</strong> <a class=\"ProveItLink\" href=\"__pv_it/bb94aa092f0cf06421cafe1311c6ff8586ca26ae0/expr.ipynb\"><img src=\"__pv_it/bb94aa092f0cf06421cafe1311c6ff8586ca26ae0/expr.png\" style=\"display:inline;vertical-align:middle;\" /></a><br>"
      ],
      "text/plain": [
       "forallBoolEvalFalseViaTF: forall_{P} (((P(TRUE) = TRUE) and (P(FALSE) = FALSE)) => ([forall_{A in BOOLEANS} P(A)] = FALSE))"
      ]
     },
     "execution_count": 22,
     "metadata": {},
     "output_type": "execute_result"
    }
   ],
   "source": [
    "forallBoolEvalFalseViaTF = _forallBoolEvalFalse(TRUE, FALSE)"
   ]
  },
  {
   "cell_type": "markdown",
   "metadata": {},
   "source": [
    "### Must be a true statement or a false statement if in the set of Booleans:"
   ]
  },
  {
   "cell_type": "markdown",
   "metadata": {},
   "source": [
    "*** The second form, known as the 'law of excluded middle' can be more useful for unfolding the meaning of being in the set of Booleans ***"
   ]
  },
  {
   "cell_type": "code",
   "execution_count": 23,
   "metadata": {},
   "outputs": [
    {
     "data": {
      "text/html": [
       "<strong id=\"unfoldInBool\"><a class=\"ProveItLink\" href=\"_proofs_/unfoldInBool.ipynb\">unfoldInBool</a>:</strong> <a class=\"ProveItLink\" href=\"__pv_it/21d49c0e1ae23750aed6f0e613c7c8f4da11999e0/expr.ipynb\"><img src=\"__pv_it/21d49c0e1ae23750aed6f0e613c7c8f4da11999e0/expr.png\" style=\"display:inline;vertical-align:middle;\" /></a><br>"
      ],
      "text/plain": [
       "unfoldInBool: forall_{A in BOOLEANS} (A or [not](A))"
      ]
     },
     "execution_count": 23,
     "metadata": {},
     "output_type": "execute_result"
    }
   ],
   "source": [
    "unfoldInBool = Forall(A, Or(A, Not(A)), domain=Booleans)"
   ]
  },
  {
   "cell_type": "code",
   "execution_count": 24,
   "metadata": {},
   "outputs": [
    {
     "data": {
      "text/html": [
       "<strong id=\"fromExcludedMiddle\"><a class=\"ProveItLink\" href=\"_proofs_/fromExcludedMiddle.ipynb\">fromExcludedMiddle</a>:</strong> <a class=\"ProveItLink\" href=\"__pv_it/592b633a100f8c159b53e66bdc5434aa2e9878a40/expr.ipynb\"><img src=\"__pv_it/592b633a100f8c159b53e66bdc5434aa2e9878a40/expr.png\" style=\"display:inline;vertical-align:middle;\" /></a><br>"
      ],
      "text/plain": [
       "fromExcludedMiddle: forall_{C} [forall_{A in BOOLEANS | A => C , [not](A) => C} C]"
      ]
     },
     "execution_count": 24,
     "metadata": {},
     "output_type": "execute_result"
    }
   ],
   "source": [
    "fromExcludedMiddle = Forall(C, Forall(A, C, domain=Booleans,\n",
    "                                            conditions=[Implies(A, C),\n",
    "                                                        Implies(Not(A), C)]))"
   ]
  },
  {
   "cell_type": "markdown",
   "metadata": {},
   "source": [
    "*** New facts may be derived via the 'law of excluded middle' through dual implications ***"
   ]
  },
  {
   "cell_type": "code",
   "execution_count": 25,
   "metadata": {},
   "outputs": [
    {
     "name": "stdout",
     "output_type": "stream",
     "text": [
      "Theorems may be imported from autogenerated _theorems_.py\n"
     ]
    }
   ],
   "source": [
    "%end theorems"
   ]
  },
  {
   "cell_type": "code",
   "execution_count": null,
   "metadata": {},
   "outputs": [],
   "source": []
  }
 ],
 "metadata": {
  "kernelspec": {
   "display_name": "Python 3",
   "language": "python",
   "name": "python3"
  },
  "language_info": {
   "codemirror_mode": {
    "name": "ipython",
    "version": 3
   },
   "file_extension": ".py",
   "mimetype": "text/x-python",
   "name": "python",
   "nbconvert_exporter": "python",
   "pygments_lexer": "ipython3",
   "version": "3.7.3"
  }
 },
 "nbformat": 4,
 "nbformat_minor": 1
}
