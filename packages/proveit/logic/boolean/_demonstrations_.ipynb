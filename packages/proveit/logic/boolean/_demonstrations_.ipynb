{
 "cells": [
  {
   "cell_type": "markdown",
   "metadata": {
    "collapsed": true
   },
   "source": [
    "Demonstrations for context <a class=\"ProveItLink\" href=\"_context_.ipynb\">proveit.logic.boolean</a>\n",
    "========"
   ]
  },
  {
   "cell_type": "code",
   "execution_count": 1,
   "metadata": {},
   "outputs": [],
   "source": [
    "import proveit\n",
    "from proveit.logic import Booleans, TRUE, FALSE, inBool, Implies, Not, And, Or, Forall\n",
    "from proveit.logic import Equals, NotEquals, InSet\n",
    "from proveit._common_ import A, B, C, P, Q, PofA, QofA\n",
    "from proveit.logic._common_ import PofTrue, PofFalse, QimplPofTrue, QimplPofFalse\n",
    "%begin demonstrations"
   ]
  },
  {
   "cell_type": "code",
   "execution_count": 2,
   "metadata": {},
   "outputs": [
    {
     "data": {
      "text/html": [
       "<table><tr><th>&nbsp;</th><th>step type</th><th>requirements</th><th>statement</th></tr>\n",
       "<tr><td>0</td><td>theorem</td><td></td><td><span style=\"font-size:20px;\"> &#x22A2;&nbsp;<a class=\"ProveItLink\" href=\"__pv_it/39b7bb11d9285a053f62e0eb2edba7c6180380300/expr.ipynb\"><img src=\"__pv_it/39b7bb11d9285a053f62e0eb2edba7c6180380300/expr.png\" style=\"display:inline;vertical-align:middle;\" /></a></span></td></tr>\n",
       "<tr><td>&nbsp;</td><td colspan=4 style-\"text-align:left\"><a class=\"ProveItLink\" href=\"_proofs_/trueEqTrue.ipynb\">proveit.logic.boolean.trueEqTrue</a></td></tr></table>"
      ],
      "text/plain": [
       "proveit.logic.boolean.trueEqTrue"
      ]
     },
     "execution_count": 2,
     "metadata": {},
     "output_type": "execute_result"
    }
   ],
   "source": [
    "Equals(TRUE, TRUE).prove().proof()"
   ]
  },
  {
   "cell_type": "code",
   "execution_count": 3,
   "metadata": {
    "scrolled": true
   },
   "outputs": [
    {
     "data": {
      "text/html": [
       "<table><tr><th>&nbsp;</th><th>step type</th><th>requirements</th><th>statement</th></tr>\n",
       "<tr><td>0</td><td>theorem</td><td></td><td><span style=\"font-size:20px;\"> &#x22A2;&nbsp;<a class=\"ProveItLink\" href=\"__pv_it/8ea916c02b75ccfcfc2b0e367a466f2a5eea21560/expr.ipynb\"><img src=\"__pv_it/8ea916c02b75ccfcfc2b0e367a466f2a5eea21560/expr.png\" style=\"display:inline;vertical-align:middle;\" /></a></span></td></tr>\n",
       "<tr><td>&nbsp;</td><td colspan=4 style-\"text-align:left\"><a class=\"ProveItLink\" href=\"_proofs_/falseEqFalse.ipynb\">proveit.logic.boolean.falseEqFalse</a></td></tr></table>"
      ],
      "text/plain": [
       "proveit.logic.boolean.falseEqFalse"
      ]
     },
     "execution_count": 3,
     "metadata": {},
     "output_type": "execute_result"
    }
   ],
   "source": [
    "Equals(FALSE, FALSE).prove().proof()"
   ]
  },
  {
   "cell_type": "code",
   "execution_count": 4,
   "metadata": {},
   "outputs": [
    {
     "data": {
      "text/html": [
       "<table><tr><th>&nbsp;</th><th>step type</th><th>requirements</th><th>statement</th></tr>\n",
       "<tr><td>0</td><td>theorem</td><td></td><td><span style=\"font-size:20px;\"> &#x22A2;&nbsp;<a class=\"ProveItLink\" href=\"__pv_it/b021c743ee41463bf5901121b5b091f2d2a9a6ee0/expr.ipynb\"><img src=\"__pv_it/b021c743ee41463bf5901121b5b091f2d2a9a6ee0/expr.png\" style=\"display:inline;vertical-align:middle;\" /></a></span></td></tr>\n",
       "<tr><td>&nbsp;</td><td colspan=4 style-\"text-align:left\"><a class=\"ProveItLink\" href=\"_proofs_/trueNotFalse.ipynb\">proveit.logic.boolean.trueNotFalse</a></td></tr></table>"
      ],
      "text/plain": [
       "proveit.logic.boolean.trueNotFalse"
      ]
     },
     "execution_count": 4,
     "metadata": {},
     "output_type": "execute_result"
    }
   ],
   "source": [
    "NotEquals(TRUE, FALSE).prove().proof()"
   ]
  },
  {
   "cell_type": "code",
   "execution_count": 5,
   "metadata": {},
   "outputs": [
    {
     "data": {
      "text/html": [
       "<table><tr><th>&nbsp;</th><th>step type</th><th>requirements</th><th>statement</th></tr>\n",
       "<tr><td>0</td><td>specialization</td><td>1, 2</td><td><span style=\"font-size:20px;\"><a class=\"ProveItLink\" href=\"__pv_it/a8293cfc9686cd646ab5854f39f6181bef0b95db0/expr.ipynb\"><img src=\"__pv_it/a8293cfc9686cd646ab5854f39f6181bef0b95db0/expr.png\" style=\"display:inline;vertical-align:middle;\" /></a> &#x22A2;&nbsp;<a class=\"ProveItLink\" href=\"__pv_it/7837821d5a6b48e91a78e6fc66f6982c08b02a650/expr.ipynb\"><img src=\"__pv_it/7837821d5a6b48e91a78e6fc66f6982c08b02a650/expr.png\" style=\"display:inline;vertical-align:middle;\" /></a></span></td></tr>\n",
       "<tr><td>&nbsp;</td><td colspan=4 style=\"text-align:left\"><span style=\"font-size:20px;\"><a class=\"ProveItLink\" href=\"../../__pv_it/2cbe72a7ad6f655694dd697106680215e8489b600/expr.ipynb\"><img src=\"../../__pv_it/2cbe72a7ad6f655694dd697106680215e8489b600/expr.png\" style=\"display:inline;vertical-align:middle;\" /></a> : <a class=\"ProveItLink\" href=\"../../__pv_it/2cbe72a7ad6f655694dd697106680215e8489b600/expr.ipynb\"><img src=\"../../__pv_it/2cbe72a7ad6f655694dd697106680215e8489b600/expr.png\" style=\"display:inline;vertical-align:middle;\" /></a></span></td></tr><tr><td>1</td><td>theorem</td><td></td><td><span style=\"font-size:20px;\"> &#x22A2;&nbsp;<a class=\"ProveItLink\" href=\"__pv_it/5a0b735eb2c903e1707180f4353a8ea9547060900/expr.ipynb\"><img src=\"__pv_it/5a0b735eb2c903e1707180f4353a8ea9547060900/expr.png\" style=\"display:inline;vertical-align:middle;\" /></a></span></td></tr>\n",
       "<tr><td>&nbsp;</td><td colspan=4 style-\"text-align:left\"><a class=\"ProveItLink\" href=\"_proofs_/foldInBool.ipynb\">proveit.logic.boolean.foldInBool</a></td></tr><tr><td>2</td><td>assumption</td><td></td><td><span style=\"font-size:20px;\"><a class=\"ProveItLink\" href=\"__pv_it/a8293cfc9686cd646ab5854f39f6181bef0b95db0/expr.ipynb\"><img src=\"__pv_it/a8293cfc9686cd646ab5854f39f6181bef0b95db0/expr.png\" style=\"display:inline;vertical-align:middle;\" /></a> &#x22A2;&nbsp;<a class=\"ProveItLink\" href=\"__pv_it/1c6a94bc3b8eaae2e256f029ad0abda795dee51e0/expr.ipynb\"><img src=\"__pv_it/1c6a94bc3b8eaae2e256f029ad0abda795dee51e0/expr.png\" style=\"display:inline;vertical-align:middle;\" /></a></span></td></tr>\n",
       "</table>"
      ],
      "text/plain": [
       "\tstep type\trequirements\tstatement\n",
       "0\tspecialization\t1, 2\t{(A = TRUE) or (A = FALSE)} |- A in BOOLEANS\n",
       "\tA : A\n",
       "1\ttheorem\t\t|- forall_{A | (A = TRUE) or (A = FALSE)} (A in BOOLEANS)\n",
       "\tproveit.logic.boolean.foldInBool\n",
       "2\tassumption\t\t{(A = TRUE) or (A = FALSE)} |- (A = TRUE) or (A = FALSE)"
      ]
     },
     "execution_count": 5,
     "metadata": {},
     "output_type": "execute_result"
    }
   ],
   "source": [
    "inBool(A).fold([Or(Equals(A, TRUE), Equals(A, FALSE))]).proof()"
   ]
  },
  {
   "cell_type": "code",
   "execution_count": 6,
   "metadata": {},
   "outputs": [
    {
     "data": {
      "text/html": [
       "<table><tr><th>&nbsp;</th><th>step type</th><th>requirements</th><th>statement</th></tr>\n",
       "<tr><td>0</td><td>theorem</td><td></td><td><span style=\"font-size:20px;\"> &#x22A2;&nbsp;<a class=\"ProveItLink\" href=\"__pv_it/3e7350f116816f72fa422609af12e912bbd1845d0/expr.ipynb\"><img src=\"__pv_it/3e7350f116816f72fa422609af12e912bbd1845d0/expr.png\" style=\"display:inline;vertical-align:middle;\" /></a></span></td></tr>\n",
       "<tr><td>&nbsp;</td><td colspan=4 style-\"text-align:left\"><a class=\"ProveItLink\" href=\"_proofs_/trueInBool.ipynb\">proveit.logic.boolean.trueInBool</a></td></tr></table>"
      ],
      "text/plain": [
       "proveit.logic.boolean.trueInBool"
      ]
     },
     "execution_count": 6,
     "metadata": {},
     "output_type": "execute_result"
    }
   ],
   "source": [
    "InSet(TRUE, Booleans).prove().proof()"
   ]
  },
  {
   "cell_type": "code",
   "execution_count": 7,
   "metadata": {},
   "outputs": [
    {
     "data": {
      "text/html": [
       "<table><tr><th>&nbsp;</th><th>step type</th><th>requirements</th><th>statement</th></tr>\n",
       "<tr><td>0</td><td>theorem</td><td></td><td><span style=\"font-size:20px;\"> &#x22A2;&nbsp;<a class=\"ProveItLink\" href=\"__pv_it/9f85861a2422bfaf1627227c7d0968a483b71e9d0/expr.ipynb\"><img src=\"__pv_it/9f85861a2422bfaf1627227c7d0968a483b71e9d0/expr.png\" style=\"display:inline;vertical-align:middle;\" /></a></span></td></tr>\n",
       "<tr><td>&nbsp;</td><td colspan=4 style-\"text-align:left\"><a class=\"ProveItLink\" href=\"_proofs_/falseInBool.ipynb\">proveit.logic.boolean.falseInBool</a></td></tr></table>"
      ],
      "text/plain": [
       "proveit.logic.boolean.falseInBool"
      ]
     },
     "execution_count": 7,
     "metadata": {},
     "output_type": "execute_result"
    }
   ],
   "source": [
    "InSet(FALSE, Booleans).prove().proof()"
   ]
  },
  {
   "cell_type": "code",
   "execution_count": 8,
   "metadata": {},
   "outputs": [
    {
     "data": {
      "text/html": [
       "<table><tr><th>&nbsp;</th><th>step type</th><th>requirements</th><th>statement</th></tr>\n",
       "<tr><td>0</td><td>specialization</td><td>1, 2</td><td><span style=\"font-size:20px;\"><a class=\"ProveItLink\" href=\"__pv_it/158bdc91074824c720728a23dba5d58593c8cc480/expr.ipynb\"><img src=\"__pv_it/158bdc91074824c720728a23dba5d58593c8cc480/expr.png\" style=\"display:inline;vertical-align:middle;\" /></a> &#x22A2;&nbsp;<a class=\"ProveItLink\" href=\"__pv_it/7837821d5a6b48e91a78e6fc66f6982c08b02a650/expr.ipynb\"><img src=\"__pv_it/7837821d5a6b48e91a78e6fc66f6982c08b02a650/expr.png\" style=\"display:inline;vertical-align:middle;\" /></a></span></td></tr>\n",
       "<tr><td>&nbsp;</td><td colspan=4 style=\"text-align:left\"><span style=\"font-size:20px;\"><a class=\"ProveItLink\" href=\"../../__pv_it/2cbe72a7ad6f655694dd697106680215e8489b600/expr.ipynb\"><img src=\"../../__pv_it/2cbe72a7ad6f655694dd697106680215e8489b600/expr.png\" style=\"display:inline;vertical-align:middle;\" /></a> : <a class=\"ProveItLink\" href=\"../../__pv_it/2cbe72a7ad6f655694dd697106680215e8489b600/expr.ipynb\"><img src=\"../../__pv_it/2cbe72a7ad6f655694dd697106680215e8489b600/expr.png\" style=\"display:inline;vertical-align:middle;\" /></a></span></td></tr><tr><td>1</td><td>theorem</td><td></td><td><span style=\"font-size:20px;\"> &#x22A2;&nbsp;<a class=\"ProveItLink\" href=\"__pv_it/1d8cf37f5c705c7f67ba9cbc584342aedfb4c1440/expr.ipynb\"><img src=\"__pv_it/1d8cf37f5c705c7f67ba9cbc584342aedfb4c1440/expr.png\" style=\"display:inline;vertical-align:middle;\" /></a></span></td></tr>\n",
       "<tr><td>&nbsp;</td><td colspan=4 style-\"text-align:left\"><a class=\"ProveItLink\" href=\"_proofs_/inBoolIfTrue.ipynb\">proveit.logic.boolean.inBoolIfTrue</a></td></tr><tr><td>2</td><td>assumption</td><td></td><td><span style=\"font-size:20px;\"><a class=\"ProveItLink\" href=\"__pv_it/158bdc91074824c720728a23dba5d58593c8cc480/expr.ipynb\"><img src=\"__pv_it/158bdc91074824c720728a23dba5d58593c8cc480/expr.png\" style=\"display:inline;vertical-align:middle;\" /></a> &#x22A2;&nbsp;<a class=\"ProveItLink\" href=\"../../__pv_it/2cbe72a7ad6f655694dd697106680215e8489b600/expr.ipynb\"><img src=\"../../__pv_it/2cbe72a7ad6f655694dd697106680215e8489b600/expr.png\" style=\"display:inline;vertical-align:middle;\" /></a></span></td></tr>\n",
       "</table>"
      ],
      "text/plain": [
       "\tstep type\trequirements\tstatement\n",
       "0\tspecialization\t1, 2\t{A} |- A in BOOLEANS\n",
       "\tA : A\n",
       "1\ttheorem\t\t|- forall_{A | A} (A in BOOLEANS)\n",
       "\tproveit.logic.boolean.inBoolIfTrue\n",
       "2\tassumption\t\t{A} |- A"
      ]
     },
     "execution_count": 8,
     "metadata": {},
     "output_type": "execute_result"
    }
   ],
   "source": [
    "inBool(A).prove([A]).proof()"
   ]
  },
  {
   "cell_type": "markdown",
   "metadata": {},
   "source": [
    "inBoolIfFalse"
   ]
  },
  {
   "cell_type": "code",
   "execution_count": 9,
   "metadata": {},
   "outputs": [
    {
     "data": {
      "text/html": [
       "<table><tr><th>&nbsp;</th><th>step type</th><th>requirements</th><th>statement</th></tr>\n",
       "<tr><td>0</td><td>specialization</td><td>1, 2</td><td><span style=\"font-size:20px;\"><a class=\"ProveItLink\" href=\"__pv_it/d70bb8509ebbd8eaacf9f16c016cbcdff0854f010/expr.ipynb\"><img src=\"__pv_it/d70bb8509ebbd8eaacf9f16c016cbcdff0854f010/expr.png\" style=\"display:inline;vertical-align:middle;\" /></a> &#x22A2;&nbsp;<a class=\"ProveItLink\" href=\"__pv_it/7837821d5a6b48e91a78e6fc66f6982c08b02a650/expr.ipynb\"><img src=\"__pv_it/7837821d5a6b48e91a78e6fc66f6982c08b02a650/expr.png\" style=\"display:inline;vertical-align:middle;\" /></a></span></td></tr>\n",
       "<tr><td>&nbsp;</td><td colspan=4 style=\"text-align:left\"><span style=\"font-size:20px;\"><a class=\"ProveItLink\" href=\"../../__pv_it/2cbe72a7ad6f655694dd697106680215e8489b600/expr.ipynb\"><img src=\"../../__pv_it/2cbe72a7ad6f655694dd697106680215e8489b600/expr.png\" style=\"display:inline;vertical-align:middle;\" /></a> : <a class=\"ProveItLink\" href=\"../../__pv_it/2cbe72a7ad6f655694dd697106680215e8489b600/expr.ipynb\"><img src=\"../../__pv_it/2cbe72a7ad6f655694dd697106680215e8489b600/expr.png\" style=\"display:inline;vertical-align:middle;\" /></a></span></td></tr><tr><td>1</td><td>theorem</td><td></td><td><span style=\"font-size:20px;\"> &#x22A2;&nbsp;<a class=\"ProveItLink\" href=\"__pv_it/12ae38d734bba4799de856e620724384bea97dbe0/expr.ipynb\"><img src=\"__pv_it/12ae38d734bba4799de856e620724384bea97dbe0/expr.png\" style=\"display:inline;vertical-align:middle;\" /></a></span></td></tr>\n",
       "<tr><td>&nbsp;</td><td colspan=4 style-\"text-align:left\"><a class=\"ProveItLink\" href=\"_proofs_/inBoolIfFalse.ipynb\">proveit.logic.boolean.inBoolIfFalse</a></td></tr><tr><td>2</td><td>assumption</td><td></td><td><span style=\"font-size:20px;\"><a class=\"ProveItLink\" href=\"__pv_it/d70bb8509ebbd8eaacf9f16c016cbcdff0854f010/expr.ipynb\"><img src=\"__pv_it/d70bb8509ebbd8eaacf9f16c016cbcdff0854f010/expr.png\" style=\"display:inline;vertical-align:middle;\" /></a> &#x22A2;&nbsp;<a class=\"ProveItLink\" href=\"__pv_it/feaa1d0e6d92ad9ead8e5ffd1f92697e3912387a0/expr.ipynb\"><img src=\"__pv_it/feaa1d0e6d92ad9ead8e5ffd1f92697e3912387a0/expr.png\" style=\"display:inline;vertical-align:middle;\" /></a></span></td></tr>\n",
       "</table>"
      ],
      "text/plain": [
       "\tstep type\trequirements\tstatement\n",
       "0\tspecialization\t1, 2\t{[not](A)} |- A in BOOLEANS\n",
       "\tA : A\n",
       "1\ttheorem\t\t|- forall_{A | [not](A)} (A in BOOLEANS)\n",
       "\tproveit.logic.boolean.inBoolIfFalse\n",
       "2\tassumption\t\t{[not](A)} |- [not](A)"
      ]
     },
     "execution_count": 9,
     "metadata": {},
     "output_type": "execute_result"
    }
   ],
   "source": [
    "inBool(A).conclude([Not(A)]).proof()"
   ]
  },
  {
   "cell_type": "code",
   "execution_count": 10,
   "metadata": {},
   "outputs": [
    {
     "data": {
      "text/html": [
       "<table><tr><th>&nbsp;</th><th>step type</th><th>requirements</th><th>statement</th></tr>\n",
       "<tr><td>0</td><td>specialization</td><td>1, 2</td><td><span style=\"font-size:20px;\"><a class=\"ProveItLink\" href=\"__pv_it/158bdc91074824c720728a23dba5d58593c8cc480/expr.ipynb\"><img src=\"__pv_it/158bdc91074824c720728a23dba5d58593c8cc480/expr.png\" style=\"display:inline;vertical-align:middle;\" /></a> &#x22A2;&nbsp;<a class=\"ProveItLink\" href=\"__pv_it/12ef3ed575247cd2edcda004c63c41a91f2dbe870/expr.ipynb\"><img src=\"__pv_it/12ef3ed575247cd2edcda004c63c41a91f2dbe870/expr.png\" style=\"display:inline;vertical-align:middle;\" /></a></span></td></tr>\n",
       "<tr><td>&nbsp;</td><td colspan=4 style=\"text-align:left\"><span style=\"font-size:20px;\"><a class=\"ProveItLink\" href=\"../../__pv_it/2cbe72a7ad6f655694dd697106680215e8489b600/expr.ipynb\"><img src=\"../../__pv_it/2cbe72a7ad6f655694dd697106680215e8489b600/expr.png\" style=\"display:inline;vertical-align:middle;\" /></a> : <a class=\"ProveItLink\" href=\"../../__pv_it/2cbe72a7ad6f655694dd697106680215e8489b600/expr.ipynb\"><img src=\"../../__pv_it/2cbe72a7ad6f655694dd697106680215e8489b600/expr.png\" style=\"display:inline;vertical-align:middle;\" /></a></span></td></tr><tr><td>1</td><td>theorem</td><td></td><td><span style=\"font-size:20px;\"> &#x22A2;&nbsp;<a class=\"ProveItLink\" href=\"__pv_it/9076f22dc1832793eb1f0bb3854a97f29607aecc0/expr.ipynb\"><img src=\"__pv_it/9076f22dc1832793eb1f0bb3854a97f29607aecc0/expr.png\" style=\"display:inline;vertical-align:middle;\" /></a></span></td></tr>\n",
       "<tr><td>&nbsp;</td><td colspan=4 style-\"text-align:left\"><a class=\"ProveItLink\" href=\"_proofs_/notEqualsFalse.ipynb\">proveit.logic.boolean.notEqualsFalse</a></td></tr><tr><td>2</td><td>assumption</td><td></td><td><span style=\"font-size:20px;\"><a class=\"ProveItLink\" href=\"__pv_it/158bdc91074824c720728a23dba5d58593c8cc480/expr.ipynb\"><img src=\"__pv_it/158bdc91074824c720728a23dba5d58593c8cc480/expr.png\" style=\"display:inline;vertical-align:middle;\" /></a> &#x22A2;&nbsp;<a class=\"ProveItLink\" href=\"../../__pv_it/2cbe72a7ad6f655694dd697106680215e8489b600/expr.ipynb\"><img src=\"../../__pv_it/2cbe72a7ad6f655694dd697106680215e8489b600/expr.png\" style=\"display:inline;vertical-align:middle;\" /></a></span></td></tr>\n",
       "</table>"
      ],
      "text/plain": [
       "\tstep type\trequirements\tstatement\n",
       "0\tspecialization\t1, 2\t{A} |- A != FALSE\n",
       "\tA : A\n",
       "1\ttheorem\t\t|- forall_{A | A} (A != FALSE)\n",
       "\tproveit.logic.boolean.notEqualsFalse\n",
       "2\tassumption\t\t{A} |- A"
      ]
     },
     "execution_count": 10,
     "metadata": {},
     "output_type": "execute_result"
    }
   ],
   "source": [
    "NotEquals(A, FALSE).prove([A]).proof()"
   ]
  },
  {
   "cell_type": "markdown",
   "metadata": {},
   "source": [
    "fromNotFalse"
   ]
  },
  {
   "cell_type": "code",
   "execution_count": 11,
   "metadata": {},
   "outputs": [],
   "source": [
    "#A.prove([NotEquals(A, FALSE), inBool(A)]).proof()"
   ]
  },
  {
   "cell_type": "markdown",
   "metadata": {},
   "source": [
    "foldForallOverBool"
   ]
  },
  {
   "cell_type": "code",
   "execution_count": 12,
   "metadata": {},
   "outputs": [],
   "source": [
    "#Forall(A, PofA, domain=Booleans).prove([PofTrue, PofFalse]).proof()"
   ]
  },
  {
   "cell_type": "markdown",
   "metadata": {},
   "source": [
    "foldConditionedForallOverBool"
   ]
  },
  {
   "cell_type": "code",
   "execution_count": 13,
   "metadata": {},
   "outputs": [],
   "source": [
    "#Forall(A, PofA, domain=Booleans, conditions=[QofA]).prove([QimplPofTrue, QimplPofFalse]).proof()"
   ]
  },
  {
   "cell_type": "markdown",
   "metadata": {},
   "source": [
    "forallBoolEvalTrue"
   ]
  },
  {
   "cell_type": "code",
   "execution_count": 14,
   "metadata": {},
   "outputs": [],
   "source": [
    "#Equals(Forall(A, PofA, domain=Booleans), TRUE).prove([Equals(PofTrue, TRUE), Equals(PofFalse, TRUE)]).proof()"
   ]
  },
  {
   "cell_type": "markdown",
   "metadata": {},
   "source": [
    "unfoldForallOverBool"
   ]
  },
  {
   "cell_type": "code",
   "execution_count": 15,
   "metadata": {},
   "outputs": [
    {
     "data": {
      "text/html": [
       "<table><tr><th>&nbsp;</th><th>step type</th><th>requirements</th><th>statement</th></tr>\n",
       "<tr><td>0</td><td>hypothetical reasoning</td><td>1</td><td><span style=\"font-size:20px;\"><a class=\"ProveItLink\" href=\"__pv_it/dad8b8fbf130ea31870aca2b0b62f519c972ef0d0/expr.ipynb\"><img src=\"__pv_it/dad8b8fbf130ea31870aca2b0b62f519c972ef0d0/expr.png\" style=\"display:inline;vertical-align:middle;\" /></a> &#x22A2;&nbsp;<a class=\"ProveItLink\" href=\"__pv_it/905b6c173346d586b9e949304aa9285ea61635f90/expr.ipynb\"><img src=\"__pv_it/905b6c173346d586b9e949304aa9285ea61635f90/expr.png\" style=\"display:inline;vertical-align:middle;\" /></a></span></td></tr>\n",
       "<tr><td>1</td><td>specialization</td><td>2, 3, 4</td><td><span style=\"font-size:20px;\"><a class=\"ProveItLink\" href=\"__pv_it/dad8b8fbf130ea31870aca2b0b62f519c972ef0d0/expr.ipynb\"><img src=\"__pv_it/dad8b8fbf130ea31870aca2b0b62f519c972ef0d0/expr.png\" style=\"display:inline;vertical-align:middle;\" /></a> &#x22A2;&nbsp;<a class=\"ProveItLink\" href=\"__pv_it/247348e614eba644454241b46187580060251c810/expr.ipynb\"><img src=\"__pv_it/247348e614eba644454241b46187580060251c810/expr.png\" style=\"display:inline;vertical-align:middle;\" /></a></span></td></tr>\n",
       "<tr><td>&nbsp;</td><td colspan=4 style=\"text-align:left\"><span style=\"font-size:20px;\"><a class=\"ProveItLink\" href=\"../../__pv_it/2cbe72a7ad6f655694dd697106680215e8489b600/expr.ipynb\"><img src=\"../../__pv_it/2cbe72a7ad6f655694dd697106680215e8489b600/expr.png\" style=\"display:inline;vertical-align:middle;\" /></a> : <a class=\"ProveItLink\" href=\"../__pv_it/e620067e5fc1a01f6e7ce2f053b97db25219d34a0/expr.ipynb\"><img src=\"../__pv_it/e620067e5fc1a01f6e7ce2f053b97db25219d34a0/expr.png\" style=\"display:inline;vertical-align:middle;\" /></a>, <a class=\"ProveItLink\" href=\"../../__pv_it/077b2ff79244fb4582cbe22c6e3356fa92a52f2f0/expr.ipynb\"><img src=\"../../__pv_it/077b2ff79244fb4582cbe22c6e3356fa92a52f2f0/expr.png\" style=\"display:inline;vertical-align:middle;\" /></a> : <a class=\"ProveItLink\" href=\"../__pv_it/4d7c4165a9fdb279e98a557bae75d7e45eb1c31a0/expr.ipynb\"><img src=\"../__pv_it/4d7c4165a9fdb279e98a557bae75d7e45eb1c31a0/expr.png\" style=\"display:inline;vertical-align:middle;\" /></a></span></td></tr><tr><td>2</td><td>theorem</td><td></td><td><span style=\"font-size:20px;\"> &#x22A2;&nbsp;<a class=\"ProveItLink\" href=\"conjunction/__pv_it/6397fc86901c06478c078bb796d806f963b300270/expr.ipynb\"><img src=\"conjunction/__pv_it/6397fc86901c06478c078bb796d806f963b300270/expr.png\" style=\"display:inline;vertical-align:middle;\" /></a></span></td></tr>\n",
       "<tr><td>&nbsp;</td><td colspan=4 style-\"text-align:left\"><a class=\"ProveItLink\" href=\"conjunction/_proofs_/andIfBoth.ipynb\">proveit.logic.boolean.conjunction.andIfBoth</a></td></tr><tr><td>3</td><td>assumption</td><td></td><td><span style=\"font-size:20px;\"><a class=\"ProveItLink\" href=\"__pv_it/58cf87a94fdf0369fa40c430b48667627ba7b7e30/expr.ipynb\"><img src=\"__pv_it/58cf87a94fdf0369fa40c430b48667627ba7b7e30/expr.png\" style=\"display:inline;vertical-align:middle;\" /></a> &#x22A2;&nbsp;<a class=\"ProveItLink\" href=\"../__pv_it/e620067e5fc1a01f6e7ce2f053b97db25219d34a0/expr.ipynb\"><img src=\"../__pv_it/e620067e5fc1a01f6e7ce2f053b97db25219d34a0/expr.png\" style=\"display:inline;vertical-align:middle;\" /></a></span></td></tr>\n",
       "<tr><td>4</td><td>assumption</td><td></td><td><span style=\"font-size:20px;\"><a class=\"ProveItLink\" href=\"__pv_it/392149febb64c25029811c7bdeff26a02602d8160/expr.ipynb\"><img src=\"__pv_it/392149febb64c25029811c7bdeff26a02602d8160/expr.png\" style=\"display:inline;vertical-align:middle;\" /></a> &#x22A2;&nbsp;<a class=\"ProveItLink\" href=\"../__pv_it/4d7c4165a9fdb279e98a557bae75d7e45eb1c31a0/expr.ipynb\"><img src=\"../__pv_it/4d7c4165a9fdb279e98a557bae75d7e45eb1c31a0/expr.png\" style=\"display:inline;vertical-align:middle;\" /></a></span></td></tr>\n",
       "</table>"
      ],
      "text/plain": [
       "\tstep type\trequirements\tstatement\n",
       "0\thypothetical reasoning\t1\t{P(TRUE) , P(FALSE)} |- [forall_{A in BOOLEANS} P(A)] => (P(TRUE) and P(FALSE))\n",
       "1\tspecialization\t2, 3, 4\t{P(TRUE) , P(FALSE)} |- P(TRUE) and P(FALSE)\n",
       "\tA : P(TRUE), B : P(FALSE)\n",
       "2\ttheorem\t\t|- forall_{A, B | A , B} (A and B)\n",
       "\tproveit.logic.boolean.conjunction.andIfBoth\n",
       "3\tassumption\t\t{P(TRUE)} |- P(TRUE)\n",
       "4\tassumption\t\t{P(FALSE)} |- P(FALSE)"
      ]
     },
     "execution_count": 15,
     "metadata": {},
     "output_type": "execute_result"
    }
   ],
   "source": [
    "Implies(Forall(A, PofA, domain=Booleans),And(PofTrue, PofFalse)).prove([PofTrue, PofFalse]).proof()"
   ]
  },
  {
   "cell_type": "markdown",
   "metadata": {},
   "source": [
    "ForallBoolEvalFalseViaFF"
   ]
  },
  {
   "cell_type": "code",
   "execution_count": 16,
   "metadata": {},
   "outputs": [],
   "source": [
    "#Implies(And(Equals(PofTrue, FALSE), Equals(PofFalse, FALSE)), Equals(Forall(A, PofA, domain=Booleans), FALSE)).prove().proof()"
   ]
  },
  {
   "cell_type": "markdown",
   "metadata": {},
   "source": [
    "ForallBoolEvalFalseViaFT"
   ]
  },
  {
   "cell_type": "code",
   "execution_count": 17,
   "metadata": {},
   "outputs": [],
   "source": [
    "#Implies(And(Equals(PofTrue, FALSE), Equals(PofFalse, TRUE)), Equals(Forall(A, PofA, domain=Booleans), FALSE)).prove().proof()"
   ]
  },
  {
   "cell_type": "markdown",
   "metadata": {},
   "source": [
    "ForallBoolEvalFalseViaTF"
   ]
  },
  {
   "cell_type": "code",
   "execution_count": 18,
   "metadata": {},
   "outputs": [],
   "source": [
    "#Implies(And(Equals(PofTrue, TRUE), Equals(PofFalse, FALSE)), Equals(Forall(A, PofA, domain=Booleans), FALSE)).prove().proof()"
   ]
  },
  {
   "cell_type": "code",
   "execution_count": 19,
   "metadata": {},
   "outputs": [
    {
     "data": {
      "text/html": [
       "<table><tr><th>&nbsp;</th><th>step type</th><th>requirements</th><th>statement</th></tr>\n",
       "<tr><td>0</td><td>specialization</td><td>1, 2</td><td><span style=\"font-size:20px;\"><a class=\"ProveItLink\" href=\"__pv_it/a54570eacc2cdfc354a22076eb1ab1c1fc77fd870/expr.ipynb\"><img src=\"__pv_it/a54570eacc2cdfc354a22076eb1ab1c1fc77fd870/expr.png\" style=\"display:inline;vertical-align:middle;\" /></a> &#x22A2;&nbsp;<a class=\"ProveItLink\" href=\"__pv_it/5e0f1fecc33243e3f89e2f824cc9ebed175239310/expr.ipynb\"><img src=\"__pv_it/5e0f1fecc33243e3f89e2f824cc9ebed175239310/expr.png\" style=\"display:inline;vertical-align:middle;\" /></a></span></td></tr>\n",
       "<tr><td>&nbsp;</td><td colspan=4 style=\"text-align:left\"><span style=\"font-size:20px;\"><a class=\"ProveItLink\" href=\"../../__pv_it/2cbe72a7ad6f655694dd697106680215e8489b600/expr.ipynb\"><img src=\"../../__pv_it/2cbe72a7ad6f655694dd697106680215e8489b600/expr.png\" style=\"display:inline;vertical-align:middle;\" /></a> : <a class=\"ProveItLink\" href=\"../../__pv_it/2cbe72a7ad6f655694dd697106680215e8489b600/expr.ipynb\"><img src=\"../../__pv_it/2cbe72a7ad6f655694dd697106680215e8489b600/expr.png\" style=\"display:inline;vertical-align:middle;\" /></a></span></td></tr><tr><td>1</td><td>theorem</td><td></td><td><span style=\"font-size:20px;\"> &#x22A2;&nbsp;<a class=\"ProveItLink\" href=\"__pv_it/21d49c0e1ae23750aed6f0e613c7c8f4da11999e0/expr.ipynb\"><img src=\"__pv_it/21d49c0e1ae23750aed6f0e613c7c8f4da11999e0/expr.png\" style=\"display:inline;vertical-align:middle;\" /></a></span></td></tr>\n",
       "<tr><td>&nbsp;</td><td colspan=4 style-\"text-align:left\"><a class=\"ProveItLink\" href=\"_proofs_/unfoldInBool.ipynb\">proveit.logic.boolean.unfoldInBool</a></td></tr><tr><td>2</td><td>assumption</td><td></td><td><span style=\"font-size:20px;\"><a class=\"ProveItLink\" href=\"__pv_it/a54570eacc2cdfc354a22076eb1ab1c1fc77fd870/expr.ipynb\"><img src=\"__pv_it/a54570eacc2cdfc354a22076eb1ab1c1fc77fd870/expr.png\" style=\"display:inline;vertical-align:middle;\" /></a> &#x22A2;&nbsp;<a class=\"ProveItLink\" href=\"__pv_it/7837821d5a6b48e91a78e6fc66f6982c08b02a650/expr.ipynb\"><img src=\"__pv_it/7837821d5a6b48e91a78e6fc66f6982c08b02a650/expr.png\" style=\"display:inline;vertical-align:middle;\" /></a></span></td></tr>\n",
       "</table>"
      ],
      "text/plain": [
       "\tstep type\trequirements\tstatement\n",
       "0\tspecialization\t1, 2\t{A in BOOLEANS} |- A or [not](A)\n",
       "\tA : A\n",
       "1\ttheorem\t\t|- forall_{A in BOOLEANS} (A or [not](A))\n",
       "\tproveit.logic.boolean.unfoldInBool\n",
       "2\tassumption\t\t{A in BOOLEANS} |- A in BOOLEANS"
      ]
     },
     "execution_count": 19,
     "metadata": {},
     "output_type": "execute_result"
    }
   ],
   "source": [
    "Or(A, Not(A)).prove([inBool(A)]).proof()"
   ]
  },
  {
   "cell_type": "markdown",
   "metadata": {},
   "source": [
    "fromExcludedMiddle"
   ]
  },
  {
   "cell_type": "code",
   "execution_count": 20,
   "metadata": {},
   "outputs": [],
   "source": [
    "#Forall(A, C, domain=Booleans,conditions=[Implies(A, C),Implies(Not(A), C)]).prove().proof()"
   ]
  },
  {
   "cell_type": "code",
   "execution_count": 21,
   "metadata": {},
   "outputs": [],
   "source": [
    "%end demonstrations"
   ]
  }
 ],
 "metadata": {
  "kernelspec": {
   "display_name": "Python 3",
   "language": "python",
   "name": "python3"
  },
  "language_info": {
   "codemirror_mode": {
    "name": "ipython",
    "version": 3
   },
   "file_extension": ".py",
   "mimetype": "text/x-python",
   "name": "python",
   "nbconvert_exporter": "python",
   "pygments_lexer": "ipython3",
   "version": "3.7.3"
  }
 },
 "nbformat": 4,
 "nbformat_minor": 1
}
