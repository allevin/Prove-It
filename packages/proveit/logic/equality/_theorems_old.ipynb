{
 "cells": [
  {
   "cell_type": "code",
   "execution_count": 1,
   "metadata": {
    "collapsed": false
   },
   "outputs": [],
   "source": [
    "import proveit.specialStatementMagic # for %begin_theorems and %end_theorems\n",
    "from proveit.basiclogic import Equals, NotEquals, Implies, Not, And, Forall, TRUE, FALSE, inBool\n",
    "from proveit.common import A, a, b, c, x, y, z, f, P, fa, fb, fab, fx, fy, fxy, Px, Py"
   ]
  },
  {
   "cell_type": "code",
   "execution_count": 2,
   "metadata": {
    "collapsed": false
   },
   "outputs": [],
   "source": [
    "%begin_theorems"
   ]
  },
  {
   "cell_type": "code",
   "execution_count": 3,
   "metadata": {
    "collapsed": false
   },
   "outputs": [
    {
     "data": {
      "text/latex": [
       "$\\forall_{P, x, y} \\left(\\left(x = y\\right) \\Rightarrow \\left(P(y) \\Rightarrow P(x)\\right)\\right)$"
      ],
      "text/plain": [
       "forall_{P, x, y} ((x = y) => (P(y) => P(x)))"
      ]
     },
     "execution_count": 3,
     "metadata": {},
     "output_type": "execute_result"
    }
   ],
   "source": [
    "lhsSubstitution = Forall((P, x, y), Implies(Equals(x, y), Implies(Py, Px)))\n",
    "lhsSubstitution"
   ]
  },
  {
   "cell_type": "code",
   "execution_count": 4,
   "metadata": {
    "collapsed": false
   },
   "outputs": [
    {
     "data": {
      "text/latex": [
       "$\\forall_{P, x, y} \\left(\\left(x = y\\right) \\Rightarrow \\left(P(x) \\Rightarrow P(y)\\right)\\right)$"
      ],
      "text/plain": [
       "forall_{P, x, y} ((x = y) => (P(x) => P(y)))"
      ]
     },
     "execution_count": 4,
     "metadata": {},
     "output_type": "execute_result"
    }
   ],
   "source": [
    "rhsSubstitution = Forall((P, x, y), Implies(Equals(x, y), Implies(Px, Py)))\n",
    "rhsSubstitution"
   ]
  },
  {
   "cell_type": "code",
   "execution_count": 5,
   "metadata": {
    "collapsed": false
   },
   "outputs": [
    {
     "data": {
      "text/latex": [
       "$\\forall_{f, x, a, c} \\left(\\left(x = a\\right) \\Rightarrow \\left(\\left(f(a) = c\\right) \\Rightarrow \\left(f(x) = c\\right)\\right)\\right)$"
      ],
      "text/plain": [
       "forall_{f, x, a, c} ((x = a) => ((f(a) = c) => (f(x) = c)))"
      ]
     },
     "execution_count": 5,
     "metadata": {},
     "output_type": "execute_result"
    }
   ],
   "source": [
    "unaryEvaluation = Forall((f, x, a, c), Implies(Equals(x, a), Implies(Equals(fa, c), Equals(fx, c))))\n",
    "unaryEvaluation"
   ]
  },
  {
   "cell_type": "code",
   "execution_count": 6,
   "metadata": {
    "collapsed": false
   },
   "outputs": [
    {
     "data": {
      "text/latex": [
       "$\\forall_{f, x, y, a, b} \\left(\\left(\\left(x = a\\right) \\land \\left(y = b\\right)\\right) \\Rightarrow \\left(f(x, y) = f(a, b)\\right)\\right)$"
      ],
      "text/plain": [
       "forall_{f, x, y, a, b} (((x = a) and (y = b)) => (f(x, y) = f(a, b)))"
      ]
     },
     "execution_count": 6,
     "metadata": {},
     "output_type": "execute_result"
    }
   ],
   "source": [
    "binarySubstitution = Forall((f, x, y, a, b), Implies(And(Equals(x, a), Equals(y, b)), Equals(fxy, fab)))\n",
    "binarySubstitution"
   ]
  },
  {
   "cell_type": "code",
   "execution_count": 7,
   "metadata": {
    "collapsed": false
   },
   "outputs": [
    {
     "data": {
      "text/latex": [
       "$\\forall_{f, x, y, a, b, c} \\left(\\left(\\left(x = a\\right) \\land \\left(y = b\\right)\\right) \\Rightarrow \\left(\\left(f(a, b) = c\\right) \\Rightarrow \\left(f(x, y) = c\\right)\\right)\\right)$"
      ],
      "text/plain": [
       "forall_{f, x, y, a, b, c} (((x = a) and (y = b)) => ((f(a, b) = c) => (f(x, y) = c)))"
      ]
     },
     "execution_count": 7,
     "metadata": {},
     "output_type": "execute_result"
    }
   ],
   "source": [
    "binaryEvaluation = Forall((f, x, y, a, b, c), Implies(And(Equals(x, a), Equals(y, b)), Implies(Equals(fab, c), Equals(fxy, c))))\n",
    "binaryEvaluation"
   ]
  },
  {
   "cell_type": "code",
   "execution_count": 8,
   "metadata": {
    "collapsed": false
   },
   "outputs": [
    {
     "data": {
      "text/latex": [
       "$\\forall_{x, y} \\left(\\left(x \\neq y\\right) \\Rightarrow (\\lnot \\left(x = y\\right))\\right)$"
      ],
      "text/plain": [
       "forall_{x, y} ((x != y) => not(x = y))"
      ]
     },
     "execution_count": 8,
     "metadata": {},
     "output_type": "execute_result"
    }
   ],
   "source": [
    "unfoldNotEquals = Forall((x, y), Implies(NotEquals(x, y), Not(Equals(x, y))))\n",
    "unfoldNotEquals"
   ]
  },
  {
   "cell_type": "code",
   "execution_count": 9,
   "metadata": {
    "collapsed": false
   },
   "outputs": [
    {
     "data": {
      "text/latex": [
       "$\\forall_{x, y} \\left((\\lnot \\left(x = y\\right)) \\Rightarrow \\left(x \\neq y\\right)\\right)$"
      ],
      "text/plain": [
       "forall_{x, y} (not(x = y) => (x != y))"
      ]
     },
     "execution_count": 9,
     "metadata": {},
     "output_type": "execute_result"
    }
   ],
   "source": [
    "foldNotEquals = Forall((x, y), Implies(Not(Equals(x, y)), NotEquals(x, y)))\n",
    "foldNotEquals"
   ]
  },
  {
   "cell_type": "code",
   "execution_count": 10,
   "metadata": {
    "collapsed": false
   },
   "outputs": [
    {
     "data": {
      "text/latex": [
       "$\\forall_{x, y} \\left(\\left(x \\neq y\\right) \\Rightarrow \\left(y \\neq x\\right)\\right)$"
      ],
      "text/plain": [
       "forall_{x, y} ((x != y) => (y != x))"
      ]
     },
     "execution_count": 10,
     "metadata": {},
     "output_type": "execute_result"
    }
   ],
   "source": [
    "notEqualsSymmetry = Forall((x, y), Implies(NotEquals(x, y), NotEquals(y, x)))\n",
    "notEqualsSymmetry"
   ]
  },
  {
   "cell_type": "code",
   "execution_count": 11,
   "metadata": {
    "collapsed": false
   },
   "outputs": [
    {
     "data": {
      "text/latex": [
       "$\\forall_{x, y} \\left(\\left(x \\neq y\\right) \\in \\cal{B}\\right)$"
      ],
      "text/plain": [
       "forall_{x, y} ((x != y) in BOOLEANS)"
      ]
     },
     "execution_count": 11,
     "metadata": {},
     "output_type": "execute_result"
    }
   ],
   "source": [
    "notEqualsInBool = Forall((x, y), inBool(NotEquals(x, y)))\n",
    "notEqualsInBool"
   ]
  },
  {
   "cell_type": "code",
   "execution_count": 12,
   "metadata": {
    "collapsed": false
   },
   "outputs": [
    {
     "data": {
      "text/latex": [
       "$\\forall_{A} \\left(\\left(A = \\mathtt{FALSE}\\right) \\Rightarrow \\left(A \\Rightarrow \\mathtt{FALSE}\\right)\\right)$"
      ],
      "text/plain": [
       "forall_{A} ((A = FALSE) => (A => FALSE))"
      ]
     },
     "execution_count": 12,
     "metadata": {},
     "output_type": "execute_result"
    }
   ],
   "source": [
    "contradictionFromFalseEquivalence = Forall(A, Implies(Equals(A, FALSE), Implies(A, FALSE)))\n",
    "contradictionFromFalseEquivalence"
   ]
  },
  {
   "cell_type": "code",
   "execution_count": 13,
   "metadata": {
    "collapsed": false
   },
   "outputs": [
    {
     "data": {
      "text/latex": [
       "$\\forall_{A} \\left(\\left(\\mathtt{FALSE} = A\\right) \\Rightarrow \\left(A \\Rightarrow \\mathtt{FALSE}\\right)\\right)$"
      ],
      "text/plain": [
       "forall_{A} ((FALSE = A) => (A => FALSE))"
      ]
     },
     "execution_count": 13,
     "metadata": {},
     "output_type": "execute_result"
    }
   ],
   "source": [
    "contradictionFromFalseEquivalenceReversed = Forall(A, Implies(Equals(FALSE, A), Implies(A, FALSE)))\n",
    "contradictionFromFalseEquivalenceReversed"
   ]
  },
  {
   "cell_type": "code",
   "execution_count": 14,
   "metadata": {
    "collapsed": false
   },
   "outputs": [
    {
     "name": "stdout",
     "output_type": "stream",
     "text": [
      "Creating theorems *.dill and *.pv_it files in the __pv_it__ directory\n",
      "These theorems may be imported from proveit.basiclogic.equality.theorems\n"
     ]
    }
   ],
   "source": [
    "%end_theorems"
   ]
  }
 ],
 "metadata": {
  "kernelspec": {
   "display_name": "Python 3",
   "language": "python",
   "name": "python3"
  },
  "language_info": {
   "codemirror_mode": {
    "name": "ipython",
    "version": 3
   },
   "file_extension": ".py",
   "mimetype": "text/x-python",
   "name": "python",
   "nbconvert_exporter": "python",
   "pygments_lexer": "ipython3"
  }
 },
 "nbformat": 4,
 "nbformat_minor": 0
}
