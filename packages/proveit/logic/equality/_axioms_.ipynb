{
 "cells": [
  {
   "cell_type": "markdown",
   "metadata": {},
   "source": [
    "Axioms for context <a href=\"_context_.ipynb\" class=\"ProveItLink\">proveit.logic.equality</a>\n",
    "========"
   ]
  },
  {
   "cell_type": "code",
   "execution_count": null,
   "metadata": {},
   "outputs": [],
   "source": [
    "import proveit\n",
    "# Automation is not needed when building axiom expressions:\n",
    "proveit.defaults.automation = False # This will speed things up.\n",
    "from proveit import Lambda, OperationOverInstances\n",
    "from proveit.logic import Equals, NotEquals, Not, Forall, Implies, inBool\n",
    "from proveit._common_ import f, g, k, l, x, y, z, fx, fy, QQ, xx, yy, zz\n",
    "from proveit._common_ import Upsilon, S\n",
    "from proveit.logic._common_ import xIter1l, yIter1l, zIter1l, f_xIter1l, f_yIter1l, g_xIter1l, g_zIter1l\n",
    "from proveit.logic._common_ import iterQ1k, iterQ1k_xIter1l, iterQ1k_yIter1l, iterQ1k_zIter1l\n",
    "from proveit.number import Naturals, NaturalsPos\n",
    "%begin axioms"
   ]
  },
  {
   "cell_type": "markdown",
   "metadata": {},
   "source": [
    "**By definition, two expressions are either equal or not (though one may not always be able to know which it is):**"
   ]
  },
  {
   "cell_type": "code",
   "execution_count": null,
   "metadata": {},
   "outputs": [],
   "source": [
    "equalityInBool = Forall((x, y), inBool(Equals(x, y)))"
   ]
  },
  {
   "cell_type": "markdown",
   "metadata": {},
   "source": [
    "**Equality is transitive (two things equal to the same thing must be equal to each other):**"
   ]
  },
  {
   "cell_type": "code",
   "execution_count": null,
   "metadata": {},
   "outputs": [],
   "source": [
    "equalsTransitivity = Forall((x, y, z), Equals(x, z), conditions=[Equals(x, y), Equals(y, z)])"
   ]
  },
  {
   "cell_type": "markdown",
   "metadata": {},
   "source": [
    "**Equality is reflexive (everything is equal to itself):**"
   ]
  },
  {
   "cell_type": "code",
   "execution_count": null,
   "metadata": {},
   "outputs": [],
   "source": [
    "equalsReflexivity = Forall(x, Equals(x, x))"
   ]
  },
  {
   "cell_type": "markdown",
   "metadata": {},
   "source": [
    "**Equality is symmetric (it is a mutual relationship):**"
   ]
  },
  {
   "cell_type": "code",
   "execution_count": null,
   "metadata": {},
   "outputs": [],
   "source": [
    "equalsSymmetry = Forall((x, y), Equals(Equals(y, x), Equals(x, y)))"
   ]
  },
  {
   "cell_type": "markdown",
   "metadata": {},
   "source": [
    "**$\\neq$ is defined as the negation of $=$:**"
   ]
  },
  {
   "cell_type": "code",
   "execution_count": null,
   "metadata": {},
   "outputs": [],
   "source": [
    "notEqualsDef = Forall((x, y), Equals(NotEquals(x, y), Not(Equals(x, y))))"
   ]
  },
  {
   "cell_type": "markdown",
   "metadata": {},
   "source": [
    "**When two things are equal, one may be substituted the other within any expression:**"
   ]
  },
  {
   "cell_type": "code",
   "execution_count": null,
   "metadata": {},
   "outputs": [],
   "source": [
    "substitution = Forall((f, x, y), Equals(fx, fy), conditions=Equals(x, y))"
   ]
  },
  {
   "cell_type": "markdown",
   "metadata": {},
   "source": [
    "**We can substitute the mapping within a `Lambda` map if the mapping is the same for all instances of the parameters for which the condition(s) are satisfied:**"
   ]
  },
  {
   "cell_type": "code",
   "execution_count": null,
   "metadata": {},
   "outputs": [],
   "source": [
    "mappingSubstitution = Forall((k, l),\n",
    "                             Forall((f, g, iterQ1k), \n",
    "                                    Implies(Forall(xIter1l, Equals(f_xIter1l, g_xIter1l), \n",
    "                                                   conditions = [iterQ1k_xIter1l]),\n",
    "                                            Equals(Lambda(yIter1l, f_yIter1l, \n",
    "                                                          conditions = [iterQ1k_yIter1l]),\n",
    "                                                   Lambda(zIter1l, g_zIter1l, \n",
    "                                                          conditions = [iterQ1k_zIter1l])).withWrapAfterOperator()).withWrapAfterOperator()),\n",
    "                             domains=(Naturals, NaturalsPos))"
   ]
  },
  {
   "cell_type": "markdown",
   "metadata": {},
   "source": [
    "** This can be applied to any `OperationOverInstances` expression (e.g., $\\forall$, $\\exists$, $\\sum$, $\\prod$) since these are implemented as an operation on a `Lambda` operand. **"
   ]
  },
  {
   "cell_type": "code",
   "execution_count": null,
   "metadata": {},
   "outputs": [],
   "source": [
    "%end axioms"
   ]
  },
  {
   "cell_type": "code",
   "execution_count": null,
   "metadata": {},
   "outputs": [],
   "source": []
  }
 ],
 "metadata": {
  "kernelspec": {
   "display_name": "Python 3",
   "language": "python",
   "name": "python3"
  }
 },
 "nbformat": 4,
 "nbformat_minor": 0
}
