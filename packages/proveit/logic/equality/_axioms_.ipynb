{
 "cells": [
  {
   "cell_type": "markdown",
   "metadata": {
    "collapsed": true,
    "deletable": true,
    "editable": true
   },
   "source": [
    "Axioms for context <a href=\"_context_.ipynb\" class=\"ProveItLink\">proveit.logic.equality</a>\n",
    "========"
   ]
  },
  {
   "cell_type": "code",
   "execution_count": 1,
   "metadata": {
    "collapsed": false,
    "deletable": true,
    "editable": true
   },
   "outputs": [
    {
     "name": "stdout",
     "output_type": "stream",
     "text": [
      "Defining axioms for context 'proveit.logic.equality'\n",
      "Subsequent end-of-cell assignments will define axioms\n",
      "%end_axioms will finalize the definitions\n"
     ]
    }
   ],
   "source": [
    "from proveit import Lambda, OperationOverInstances\n",
    "from proveit.logic import Equals, NotEquals, Not, Forall, Implies, inBool\n",
    "from proveit._common_ import f, g, k, l, x, y, z, fx, fy, QQ, xx, yy, zz\n",
    "from proveit._common_ import Upsilon, S\n",
    "from proveit.logic._common_ import xIter1l, yIter1l, zIter1l, f_xIter1l, f_yIter1l, g_xIter1l, g_zIter1l\n",
    "from proveit.logic._common_ import iterQ1k, iterQ1k_xIter1l, iterQ1k_yIter1l, iterQ1k_zIter1l\n",
    "from proveit.number import Naturals, NaturalsPos\n",
    "%begin axioms"
   ]
  },
  {
   "cell_type": "markdown",
   "metadata": {
    "deletable": true,
    "editable": true
   },
   "source": [
    "**By definition, two expressions are either equal or not (though one may not always be able to know which it is):**"
   ]
  },
  {
   "cell_type": "code",
   "execution_count": 2,
   "metadata": {
    "collapsed": false,
    "deletable": true,
    "editable": true
   },
   "outputs": [
    {
     "data": {
      "text/html": [
       "<strong id=\"equalityInBool\">equalityInBool:</strong> <a class=\"ProveItLink\" href=\"__pv_it/d6871f7976394b5b722adb0bd3bfa4540855ff3b0/expr.ipynb\"><img src=\"__pv_it/d6871f7976394b5b722adb0bd3bfa4540855ff3b0/expr.png\" style=\"display:inline;vertical-align:middle;\" /></a><br>"
      ],
      "text/plain": [
       "equalityInBool: forall_{x, y} ((x = y) in BOOLEANS)"
      ]
     },
     "execution_count": 2,
     "metadata": {},
     "output_type": "execute_result"
    }
   ],
   "source": [
    "equalityInBool = Forall((x, y), inBool(Equals(x, y)))"
   ]
  },
  {
   "cell_type": "markdown",
   "metadata": {
    "deletable": true,
    "editable": true
   },
   "source": [
    "**Equality is transitive (two things equal to the same thing must be equal to each other):**"
   ]
  },
  {
   "cell_type": "code",
   "execution_count": 3,
   "metadata": {
    "collapsed": false,
    "deletable": true,
    "editable": true
   },
   "outputs": [
    {
     "data": {
      "text/html": [
       "<strong id=\"equalsTransitivity\">equalsTransitivity:</strong> <a class=\"ProveItLink\" href=\"__pv_it/8568f704f865c42c6973d1dbf089a1e8c8b69dcf0/expr.ipynb\"><img src=\"__pv_it/8568f704f865c42c6973d1dbf089a1e8c8b69dcf0/expr.png\" style=\"display:inline;vertical-align:middle;\" /></a><br>"
      ],
      "text/plain": [
       "equalsTransitivity: forall_{x, y, z | x = y , y = z} (x = z)"
      ]
     },
     "execution_count": 3,
     "metadata": {},
     "output_type": "execute_result"
    }
   ],
   "source": [
    "equalsTransitivity = Forall((x, y, z), Equals(x, z), conditions=[Equals(x, y), Equals(y, z)])"
   ]
  },
  {
   "cell_type": "markdown",
   "metadata": {
    "deletable": true,
    "editable": true
   },
   "source": [
    "**Equality is reflexive (everything is equal to itself):**"
   ]
  },
  {
   "cell_type": "code",
   "execution_count": 4,
   "metadata": {
    "collapsed": false,
    "deletable": true,
    "editable": true
   },
   "outputs": [
    {
     "data": {
      "text/html": [
       "<strong id=\"equalsReflexivity\">equalsReflexivity:</strong> <a class=\"ProveItLink\" href=\"__pv_it/2f7362f515695890a15d40f2d4676f710de88f820/expr.ipynb\"><img src=\"__pv_it/2f7362f515695890a15d40f2d4676f710de88f820/expr.png\" style=\"display:inline;vertical-align:middle;\" /></a><br>"
      ],
      "text/plain": [
       "equalsReflexivity: forall_{x} (x = x)"
      ]
     },
     "execution_count": 4,
     "metadata": {},
     "output_type": "execute_result"
    }
   ],
   "source": [
    "equalsReflexivity = Forall(x, Equals(x, x))"
   ]
  },
  {
   "cell_type": "markdown",
   "metadata": {
    "deletable": true,
    "editable": true
   },
   "source": [
    "**Equality is symmetric (it is a mutual relationship):**"
   ]
  },
  {
   "cell_type": "code",
   "execution_count": 5,
   "metadata": {
    "collapsed": false,
    "deletable": true,
    "editable": true
   },
   "outputs": [
    {
     "data": {
      "text/html": [
       "<strong id=\"equalsSymmetry\">equalsSymmetry:</strong> <a class=\"ProveItLink\" href=\"__pv_it/a06b7ed883705a47e7b691d3701ddd973e4e7abf0/expr.ipynb\"><img src=\"__pv_it/a06b7ed883705a47e7b691d3701ddd973e4e7abf0/expr.png\" style=\"display:inline;vertical-align:middle;\" /></a><br>"
      ],
      "text/plain": [
       "equalsSymmetry: forall_{x, y} ((y = x) = (x = y))"
      ]
     },
     "execution_count": 5,
     "metadata": {},
     "output_type": "execute_result"
    }
   ],
   "source": [
    "equalsSymmetry = Forall((x, y), Equals(Equals(y, x), Equals(x, y)))"
   ]
  },
  {
   "cell_type": "markdown",
   "metadata": {
    "deletable": true,
    "editable": true
   },
   "source": [
    "**$\\neq$ is defined as the negation of $=$:**"
   ]
  },
  {
   "cell_type": "code",
   "execution_count": 6,
   "metadata": {
    "collapsed": false,
    "deletable": true,
    "editable": true
   },
   "outputs": [
    {
     "data": {
      "text/html": [
       "<strong id=\"notEqualsDef\">notEqualsDef:</strong> <a class=\"ProveItLink\" href=\"__pv_it/f9ceb6e9315cda15203aad392dea313c8a83ac320/expr.ipynb\"><img src=\"__pv_it/f9ceb6e9315cda15203aad392dea313c8a83ac320/expr.png\" style=\"display:inline;vertical-align:middle;\" /></a><br>"
      ],
      "text/plain": [
       "notEqualsDef: forall_{x, y} ((x != y) = [not](x = y))"
      ]
     },
     "execution_count": 6,
     "metadata": {},
     "output_type": "execute_result"
    }
   ],
   "source": [
    "notEqualsDef = Forall((x, y), Equals(NotEquals(x, y), Not(Equals(x, y))))"
   ]
  },
  {
   "cell_type": "markdown",
   "metadata": {
    "deletable": true,
    "editable": true
   },
   "source": [
    "**When two things are equal, one may be substituted the other within any expression:**"
   ]
  },
  {
   "cell_type": "code",
   "execution_count": 7,
   "metadata": {
    "collapsed": false,
    "deletable": true,
    "editable": true
   },
   "outputs": [
    {
     "data": {
      "text/html": [
       "<strong id=\"substitution\">substitution:</strong> <a class=\"ProveItLink\" href=\"__pv_it/bbfdd4b897b23eab94ccd38e967c2b310ba4362c0/expr.ipynb\"><img src=\"__pv_it/bbfdd4b897b23eab94ccd38e967c2b310ba4362c0/expr.png\" style=\"display:inline;vertical-align:middle;\" /></a><br>"
      ],
      "text/plain": [
       "substitution: forall_{f, x, y | x = y} (f(x) = f(y))"
      ]
     },
     "execution_count": 7,
     "metadata": {},
     "output_type": "execute_result"
    }
   ],
   "source": [
    "substitution = Forall((f, x, y), Equals(fx, fy), conditions=Equals(x, y))"
   ]
  },
  {
   "cell_type": "markdown",
   "metadata": {
    "deletable": true,
    "editable": true
   },
   "source": [
    "**We can substitute the mapping within a `Lambda` map if the mapping is the same for all instances of the parameters for which the condition(s) are satisfied:**"
   ]
  },
  {
   "cell_type": "code",
   "execution_count": 8,
   "metadata": {
    "collapsed": false,
    "deletable": true,
    "editable": true
   },
   "outputs": [
    {
     "data": {
      "text/html": [
       "<strong id=\"mappingSubstitution\">mappingSubstitution:</strong> <a class=\"ProveItLink\" href=\"__pv_it/27d80bcee1786abdb7a22c2d38452e947394b04a0/expr.ipynb\"><img src=\"__pv_it/27d80bcee1786abdb7a22c2d38452e947394b04a0/expr.png\" style=\"display:inline;vertical-align:middle;\" /></a><br>"
      ],
      "text/plain": [
       "mappingSubstitution: forall_{(k, l) in Naturals * NaturalsPos} [forall_{f, g, Q_(1),...,Q_(k)} ([forall_{x_(1),...,x_(l) | Q_(1)(x_(1),...,x_(l)) ,  ...  , Q_(k)(x_(1),...,x_(l))} (f(x_(1),...,x_(l)) = g(x_(1),...,x_(l)))] =>  \\\\ ([(y_(1),...,y_(l)) -> f(y_(1),...,y_(l)) | Q_(1)(y_(1),...,y_(l)) ,  ...  , Q_(k)(y_(1),...,y_(l))] =  \\\\ [(z_(1),...,z_(l)) -> g(z_(1),...,z_(l)) | Q_(1)(z_(1),...,z_(l)) ,  ...  , Q_(k)(z_(1),...,z_(l))]))]"
      ]
     },
     "execution_count": 8,
     "metadata": {},
     "output_type": "execute_result"
    }
   ],
   "source": [
    "mappingSubstitution = Forall((k, l),\n",
    "                             Forall((f, g, iterQ1k), \n",
    "                                    Implies(Forall(xIter1l, Equals(f_xIter1l, g_xIter1l), \n",
    "                                                   conditions = [iterQ1k_xIter1l]),\n",
    "                                            Equals(Lambda(yIter1l, f_yIter1l, \n",
    "                                                          conditions = [iterQ1k_yIter1l]),\n",
    "                                                   Lambda(zIter1l, g_zIter1l, \n",
    "                                                          conditions = [iterQ1k_zIter1l])).withWrapAfterOperator()).withWrapAfterOperator()),\n",
    "                             domains=(Naturals, NaturalsPos))"
   ]
  },
  {
   "cell_type": "markdown",
   "metadata": {},
   "source": [
    "** This can be applied to any `OperationOverInstances` expression (e.g., $\\forall$, $\\exists$, $\\sum$, $\\prod$) since these are implemented as an operation on a `Lambda` operand. **"
   ]
  },
  {
   "cell_type": "code",
   "execution_count": 9,
   "metadata": {
    "collapsed": false,
    "deletable": true,
    "editable": true
   },
   "outputs": [
    {
     "name": "stdout",
     "output_type": "stream",
     "text": [
      "Axioms may be imported from autogenerated _axioms_.py\n"
     ]
    }
   ],
   "source": [
    "%end axioms"
   ]
  },
  {
   "cell_type": "code",
   "execution_count": 10,
   "metadata": {
    "collapsed": true,
    "deletable": true,
    "editable": true
   },
   "outputs": [],
   "source": []
  }
 ],
 "metadata": {
  "kernelspec": {
   "display_name": "Python 2",
   "language": "python",
   "name": "python2"
  },
  "language_info": {
   "codemirror_mode": {
    "name": "ipython",
    "version": 2
   },
   "file_extension": ".py",
   "mimetype": "text/x-python",
   "name": "python",
   "nbconvert_exporter": "python",
   "pygments_lexer": "ipython2",
   "version": "2.7.11"
  }
 },
 "nbformat": 4,
 "nbformat_minor": 0
}
