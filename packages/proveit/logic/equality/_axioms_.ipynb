{
 "cells": [
  {
   "cell_type": "markdown",
   "metadata": {},
   "source": [
    "Axioms for context <a href=\"_context_.ipynb\" class=\"ProveItLink\">proveit.logic.equality</a>\n",
    "========"
   ]
  },
  {
   "cell_type": "code",
   "execution_count": 1,
   "metadata": {},
   "outputs": [
    {
     "name": "stdout",
     "output_type": "stream",
     "text": [
      "Defining axioms for context 'proveit.logic.equality'\n",
      "Subsequent end-of-cell assignments will define axioms\n",
      "%end_axioms will finalize the definitions\n"
     ]
    }
   ],
   "source": [
    "from proveit import Lambda, OperationOverInstances\n",
    "from proveit.logic import Equals, NotEquals, Not, Forall, Implies, inBool\n",
    "from proveit._common_ import f, g, k, l, x, y, z, fx, fy, QQ, xx, yy, zz\n",
    "from proveit._common_ import Upsilon, S\n",
    "from proveit.logic._common_ import xIter1l, yIter1l, zIter1l, f_xIter1l, f_yIter1l, g_xIter1l, g_zIter1l\n",
    "from proveit.logic._common_ import iterQ1k, iterQ1k_xIter1l, iterQ1k_yIter1l, iterQ1k_zIter1l\n",
    "from proveit.number import Naturals, NaturalsPos\n",
    "%begin axioms"
   ]
  },
  {
   "cell_type": "markdown",
   "metadata": {},
   "source": [
    "**By definition, two expressions are either equal or not (though one may not always be able to know which it is):**"
   ]
  },
  {
   "cell_type": "code",
   "execution_count": 2,
   "metadata": {},
   "outputs": [
    {
     "data": {
      "text/html": [
       "<strong id=\"equalityInBool\">equalityInBool:</strong> <a class=\"ProveItLink\" href=\"__pv_it/73f6352d4b9c57bd488459471847814cbb959ffb0/expr.ipynb\"><img src=\"data:image/png;base64,iVBORw0KGgoAAAANSUhEUgAAAKYAAAAWBAMAAAC4bPoxAAAAMFBMVEX///8QEBC6urrMzMxUVFRm\n",
       "ZmZERETc3NwyMjKqqqp2dnaIiIiYmJgiIiLu7u4AAAAU9Wx4AAAAAXRSTlMAQObYZgAAAmFJREFU\n",
       "OMu1VT2IE0EU/pJNNsnuZg2ejYVwgoUgwQg2VjlOUFErtRAtXJscgsoWkvMUvSgcWJzxChUL4bYJ\n",
       "/hxKkDOgKW4bQbBJJSIXnCqIh3AqnIWN85dssruDFvrg2535dt6befN+FvgPQlQfkk0BhVjjar7D\n",
       "Bu9iPu6VUMnx0Pzxxp0b7xc4/4TN6zE6dQXfl2yYcHbZ9aecr9JZxomqmE0BtfNexCZeZDmfpRea\n",
       "XoiqJIiAUuyCeK/d7n7o23yYIoy3Hk1PX4tR2SmhlnP8qc2ToXNWBb9RqXyM0TglcWV55mXoCuyG\n",
       "h1mCBp9USeC7tnqRvim/H5iKsTkvYHvWaoLlRvoWlwk6NJLrWAEe8HWBrlP89I3tTvkdsGsxNjcL\n",
       "GDDXc6XRT/vSHVSA7fzMznCM2vfB+TxMP8bmdwEbqUhSkEQTv4Ayr4xt3W4QIz3pcd7080RtkwY/\n",
       "mlCLRPshbWoTw+fU4XDerrFqWZpcph4mW4P82SqB2RKv33SXCz/0SZiFvu+diE3GT03SayMHEjRJ\n",
       "1za5e+SK8wKWuwIz7MccdHq8t3x8dMQm853x9+hWSR5nXC+iJVc0BBb9s7ga9v0EdvuQufR1fMjm\n",
       "m5bUFBf2k/OHcUSuKAr0Xn9ZioSw1z7jAjf5ODNXGvSQC1tYQTLeYq5pBU1k0Fi/Nl2BeHkW1Gbu\n",
       "kIx7qGZRNmoGLrsYo+kctIhImxCS6tg0eoaiwQz43qvTz1H2cbdV+3Ovy3s63eyzwoUQ72fc1GD3\n",
       "SxJRybWP0edBhc1RXnN1L2hFmaaAQszSX/EWPYH3D35xvwHMAqgmkf/s6AAAAABJRU5ErkJggg==\n",
       "\" style=\"display:inline;vertical-align:middle;\" /></a><br>"
      ],
      "text/plain": [
       "equalityInBool: forall_{x, y} ((x = y) in BOOLEANS)"
      ]
     },
     "execution_count": 2,
     "metadata": {},
     "output_type": "execute_result"
    }
   ],
   "source": [
    "equalityInBool = Forall((x, y), inBool(Equals(x, y)))"
   ]
  },
  {
   "cell_type": "markdown",
   "metadata": {},
   "source": [
    "**Equality is transitive (two things equal to the same thing must be equal to each other):**"
   ]
  },
  {
   "cell_type": "code",
   "execution_count": 3,
   "metadata": {},
   "outputs": [
    {
     "data": {
      "text/html": [
       "<strong id=\"equalsTransitivity\">equalsTransitivity:</strong> <a class=\"ProveItLink\" href=\"__pv_it/15953cfebb497c481d8be77ed0e16c42a27f82610/expr.ipynb\"><img src=\"data:image/png;base64,iVBORw0KGgoAAAANSUhEUgAAANEAAAAXBAMAAABnpbd1AAAAMFBMVEX///8QEBC6urrMzMxUVFRm\n",
       "ZmZERETc3NwyMjKqqqp2dnaIiIiYmJgiIiLu7u4AAAAU9Wx4AAAAAXRSTlMAQObYZgAAAoBJREFU\n",
       "SMe9VUtoE1EUPZOZZvLrJLQLFVFScKFUMcVC3UglhQotSFYiFiGrVqyLQcQoogQRKihF0Lqwm8GN\n",
       "n0AIWAO2ooNQBD+QlYggRBeKuokIdtOF976Zya+daOHhgXDe3Jt55913PwP8N1TlbdXv73pBvwov\n",
       "XssQUg/6+7pSwANezMpQCnW6njxwlkjPylBa6uR85Zyk64YMpe2dnJ+A2L1c7qIMoUC+kzdIwfye\n",
       "nPwgQ6nLojQUDs1PtDv6evQSIhlgBJjyO+aGCsIGvuOtvY0fjl5lXOGlfurxESBMEe+A4Rd3cCNK\n",
       "ShKw8Bw32+wGjMN06ATQjagtQyme5DEwuo7nDDdbDaTTXZWlBGxdJwcZV8nID9KqkF6gNg6UobDs\n",
       "gdnzDaXIQv+IN2+yopZdEoPh/Ve3RRRm/RfdFuH4R8Y74bgj5Oj2MJWm3aqj/M8fcXOA7ellq6FU\n",
       "1LJbNE7wNaO0otIbghwLtN3HvAugHLyM1vCsLaSwBY2aiWthrsJVdp2tl/agLNzfmm4vGfLyqH+u\n",
       "RLN1chPudT3VcXg1mKCKbsX+5TeXhZfCFr4VYR7DuNgy2ZynuOm9pVlaqUECp+vpqMCYLj582p6m\n",
       "TOwnHSbEO8Y4M2pCZXMPepn2YahJaQCpoHNXSlJJiYJWPIuaUr1zbPrLNHIwHMlHcM5Eb6BGpI7t\n",
       "ytaV1Np9WF7PpPZCnxHkYvDu7aYh6o+Ct/jyZKKIYRu3ynmiaGCzWVcypucWvTYIj5+AuirIRalv\n",
       "5l++Gu3DwdZNToDt2085TmPMoTXQO3wJNbP1o2kGrZ1MvkoneWAPObQWF/yVHrU+xhBesph8leYX\n",
       "OXKHpEKTudkfgDCcYn7TElEAAAAASUVORK5CYII=\n",
       "\" style=\"display:inline;vertical-align:middle;\" /></a><br>"
      ],
      "text/plain": [
       "equalsTransitivity: forall_{x, y, z | x = y , y = z} (x = z)"
      ]
     },
     "execution_count": 3,
     "metadata": {},
     "output_type": "execute_result"
    }
   ],
   "source": [
    "equalsTransitivity = Forall((x, y, z), Equals(x, z), conditions=[Equals(x, y), Equals(y, z)])"
   ]
  },
  {
   "cell_type": "markdown",
   "metadata": {},
   "source": [
    "**Equality is reflexive (everything is equal to itself):**"
   ]
  },
  {
   "cell_type": "code",
   "execution_count": 4,
   "metadata": {},
   "outputs": [
    {
     "data": {
      "text/html": [
       "<strong id=\"equalsReflexivity\">equalsReflexivity:</strong> <a class=\"ProveItLink\" href=\"__pv_it/97b1dd4e9ed3b749f492ebdad1f4680f58c765fe0/expr.ipynb\"><img src=\"data:image/png;base64,iVBORw0KGgoAAAANSUhEUgAAAGIAAAAVBAMAAABPrCZEAAAAMFBMVEX///8QEBC6urrMzMxUVFRm\n",
       "ZmZERETc3NwyMjKqqqp2dnaIiIiYmJgiIiLu7u4AAAAU9Wx4AAAAAXRSTlMAQObYZgAAAVBJREFU\n",
       "OMtjYCAZPMAQYdqAWzWPAgPDBRDjNLKoCT4LghkYVoLoPmTBPnw6OBgYyoAUewKSGPcGfDp4FjBw\n",
       "AD3COgFJjPEBPh18Agw8y8vLa5HFNPCHVCYDw7e0tFvIQlFAXLWlciu646BiSxkYnBkY0pFleoBW\n",
       "L+C5wwgKRNYOMHBgQIjNYGBQYeBrQNYhxMDAxcD9gdMA1QqYmCIDAy8D9wFkqU9A8xhYEjC8DBWz\n",
       "B4bmAd4HaDqAAYYliCFiQB18DaBIXu20BeoMSRBRbwBOPqx3wQBiIUQM6CqGdCegKx+4MUIjJQcY\n",
       "TQX7GbjRogUmdgLIngoMASZQEEEAMPjmH0hkqEZzE0xsKdx932FSugwMz3a9Wn0ATQdMrAlkH8h+\n",
       "ZgFmmAcLCKQSCLDnauBCpDU8gAsWiM92Rq8jKrW/wCZYgk+HOzZBdjwZhNuAAQCEL1prSIrv2QAA\n",
       "AABJRU5ErkJggg==\n",
       "\" style=\"display:inline;vertical-align:middle;\" /></a><br>"
      ],
      "text/plain": [
       "equalsReflexivity: forall_{x} (x = x)"
      ]
     },
     "execution_count": 4,
     "metadata": {},
     "output_type": "execute_result"
    }
   ],
   "source": [
    "equalsReflexivity = Forall(x, Equals(x, x))"
   ]
  },
  {
   "cell_type": "markdown",
   "metadata": {},
   "source": [
    "**Equality is symmetric (it is a mutual relationship):**"
   ]
  },
  {
   "cell_type": "code",
   "execution_count": 5,
   "metadata": {},
   "outputs": [
    {
     "data": {
      "text/html": [
       "<strong id=\"equalsSymmetry\">equalsSymmetry:</strong> <a class=\"ProveItLink\" href=\"__pv_it/00337eac3723871d5661da0e358240a663e29ee80/expr.ipynb\"><img src=\"data:image/png;base64,iVBORw0KGgoAAAANSUhEUgAAAN0AAAAWBAMAAAC2xYReAAAAMFBMVEX///8QEBC6urrMzMxUVFRm\n",
       "ZmZERETc3NwyMjKqqqp2dnaIiIiYmJgiIiLu7u4AAAAU9Wx4AAAAAXRSTlMAQObYZgAAAoFJREFU\n",
       "SMe9VjFoFEEU/bd7u5u7vdscppAgyhUWggQVbFJFIkTQRsQiGESrS6HFFmIEUbdQSBFCQK0s3CaI\n",
       "HgkHyoGc6GIjRISrLITA2qTQ5jCghRbOnz+7uZ2dubtGHzzu9r83f/Zm/p85gP+MWCcYLaIO7xWx\n",
       "o4PtyC4+fFQYTgrqYB3PhcxTg+3I5/iwqjCsauIpglxkLB5iZ7zJPpyredltEfXYykU6w+xb9E7W\n",
       "Wl4uxEQ9vuYih4bZGSvPlpbuKOQjgnrY8lsawTA78mej8UUhXyJ66yHck36m0zzzZAGgfF4uiTDV\n",
       "+iFSoB15GmBRMd8KsWz04B0+zy8j7uPXb/ApOghQCqT4WJRqYPHwMhasSIF25GHwVOuwjzhtdaEh\n",
       "SSEb/pAtX03e8nqq9UOkQDuyCm6kmO8HMS604HfuiJjj3daT4uP1VMvYKQXakW5UjfXzwdPY3M2J\n",
       "B7TzCS0DSpHM5wV4ijRnX7HmN9ppD0wKzoPL1+3yNuIzFcwueMl69sULa6kGFg9v88amFMl6wuIs\n",
       "29N4Dt3fx/0T4qWuCz4AWz6lPrg9eMs6Sd52O0q1DCgF2vmQx+wINXg9wt0paAvTuuBFOCZtb+mP\n",
       "XXNain5ggUTLgFIk/QAFrv/i0lk4J0xTgjudK77UT9c2X7zB8q/L/d5NtQwoBdr5kArumFkzqQsm\n",
       "kuL2iQAbI59n+3Vny8beeUaYKQdluOXDhJEUXSXkLHa9SU2S5ggnOEKkaPYP2Xm9sAkzETxqB9n7\n",
       "qBraoXo6b9T7iFKgXR4SOX4x3ewbnKXOBc3PK/q5kKO8bykF2qUhpm+He1cClpkz4AJ8qYjdHmyX\n",
       "hlTYq4T/+O/SX8R3y4z+LqoKAAAAAElFTkSuQmCC\n",
       "\" style=\"display:inline;vertical-align:middle;\" /></a><br>"
      ],
      "text/plain": [
       "equalsSymmetry: forall_{x, y} ((y = x) = (x = y))"
      ]
     },
     "execution_count": 5,
     "metadata": {},
     "output_type": "execute_result"
    }
   ],
   "source": [
    "equalsSymmetry = Forall((x, y), Equals(Equals(y, x), Equals(x, y)))"
   ]
  },
  {
   "cell_type": "markdown",
   "metadata": {},
   "source": [
    "**$\\neq$ is defined as the negation of $=$:**"
   ]
  },
  {
   "cell_type": "code",
   "execution_count": 6,
   "metadata": {},
   "outputs": [
    {
     "data": {
      "text/html": [
       "<strong id=\"notEqualsDef\">notEqualsDef:</strong> <a class=\"ProveItLink\" href=\"__pv_it/c5793376bd5f3ed65f46b9bf759589707c82e7920/expr.ipynb\"><img src=\"data:image/png;base64,iVBORw0KGgoAAAANSUhEUgAAAP8AAAAWCAMAAAA4nbqyAAAAPFBMVEX///8LCwsYGBgNDQ0oKCgQ\n",
       "EBC6urrMzMxUVFRmZmZERETc3NwyMjKqqqp2dnaIiIiYmJgiIiLu7u4AAACwKje0AAAAAXRSTlMA\n",
       "QObYZgAAArlJREFUWMPlWNuy2yAMpD3lYjD3///XAjE5FhZYznT60OohO7GI1qCVgDD2n1v64DfC\n",
       "Q5yZM9jTIJ6x0B1r67wQ47efGlYqiDMzO/58k09Y6I4767wAne3unSqFPvDuB2qW6P0JC91xHxJB\n",
       "o3u2NDGK9xCfpr8ozdFZ6A5CBTgE+3JulhiFJ4iP088Sp7PQHYRexxEMzjSL1Oa3Q5zW70JP2lJZ\n",
       "6A6KdV6AWVeLjtpFHETjvDLWb6MsNehyybXxJrfsuY3KMnXMaMeUo7wAVXtRbahNJABMJXyIgfGu\n",
       "n21v9uurfr5btWMi1+LN7Zv9TuIx/GXqwjKjv9BOAuG8AEUdnMiy4gKgO6JbuUq/tGyrb6pfRSE4\n",
       "kWWLb3Mk2rEIcV6IdYAP1PlnAbDqSl1LXajxlMWrUvNLrjJTWS67/poWOd1hvBDr3GP6cP4tJ9ci\n",
       "3MdysrUCZZZ/aP4T2quhvBCL9nv00lSEV7KfMzWy33ALsTYXeTpIN8n+/PESrT7VeV3pQX9Q4efh\n",
       "3E7mP6OdBUJ5B9Tm2KtdqqI6KJJn2TA5lqoOAIN5NReflulne221+phEuO02Okzmv6TF+iXGO6Dd\n",
       "ji4qzo3XJFEe+7HI4B5ic2C6LJHxi+pveSiPRA4wxuLqdBkh72nR/RLjHfFUSfmUOVW6rBoZRDxj\n",
       "0t4l54b2eU1/Hei3Hny/vQKKuHTgtGgHxHhHDG8VVbnL8ybELxsMNxCRnjNJr4sPzr/mqWMhprg4\n",
       "/54llpnb295qWgbL3EW+vUVcDdlMVKx0tndZ+l3lo8vTDe+IJ63YrQirrkRVllVe78/vv1j66/FF\n",
       "H2+e/uL9F+MdEV/mIgKDlH9tjAoiIf3MlirsRa9ICp5FnzvQXCC8I6IHR9PWDb9t9a476b43zc1L\n",
       "2qtPe7v57B+AzjviLP117Rz7x+03cmkoGF9quhUAAAAASUVORK5CYII=\n",
       "\" style=\"display:inline;vertical-align:middle;\" /></a><br>"
      ],
      "text/plain": [
       "notEqualsDef: forall_{x, y} ((x != y) = [not](x = y))"
      ]
     },
     "execution_count": 6,
     "metadata": {},
     "output_type": "execute_result"
    }
   ],
   "source": [
    "notEqualsDef = Forall((x, y), Equals(NotEquals(x, y), Not(Equals(x, y))))"
   ]
  },
  {
   "cell_type": "markdown",
   "metadata": {},
   "source": [
    "**When two things are equal, one may be substituted the other within any expression:**"
   ]
  },
  {
   "cell_type": "code",
   "execution_count": 7,
   "metadata": {},
   "outputs": [
    {
     "data": {
      "text/html": [
       "<strong id=\"substitution\">substitution:</strong> <a class=\"ProveItLink\" href=\"__pv_it/8d36a51e21a3e1f2d1a576f0cfdfe721d403af1e0/expr.ipynb\"><img src=\"data:image/png;base64,iVBORw0KGgoAAAANSUhEUgAAAO8AAAAXBAMAAAARnwX+AAAAMFBMVEX///8QEBC6urrMzMxUVFRm\n",
       "ZmZERETc3NwyMjKqqqp2dnaIiIiYmJgiIiLu7u4AAAAU9Wx4AAAAAXRSTlMAQObYZgAAAvdJREFU\n",
       "SMfFVj1oFEEUfvef293bHKayECJYpIk5wcYqRyRGTBPUQgyiNonCgVuI8QfNIggWEq5QsLttDglB\n",
       "OTAemhRZJIVoc7UorE0QLXIYMIUiznszO7O3uznJQfDBm/123jfzZt+99+YA/pd4vS5MNqLYGPw3\n",
       "/63QFr586MHxURzMyQmJUc7EEEOcTInrIr4s9OCY1mQXf3es74shhjk21xvskbu0e786RW7zcFVi\n",
       "irUTZYY577n2sR85U9294wQlRy2AKazFKDPM+cLVeDY3d7eHSA/ReCGASa5GmWFOtsr158zMxx4c\n",
       "n8dh/cC4j28v33rFolmPEBXHrDsw74E2BaTHAWYxSOON6O5dquMRjb98bDrGpwSrkKeUuA9JytDJ\n",
       "0ZJtWAPI21wPgYl5llmZiu7eJen24ZDb8rEGejvPiuRghKg4xzItmGEFXeRaAN1lhkLc13Vx/AOH\n",
       "fNvHJqSJPBohKo6XaODnp9pcdbeACdfv9eBYaymcaMQ7DnBqXmpLOTZt7CnGtWk0L40ts3glmyL7\n",
       "uWM+SW2vKctiPyVoWeH5ErZfCnXmMwlfHeCcA72oQg2zY2h4R6fzTiRYon/vt46oL6bJk5gtDWkA\n",
       "qKivRGxYa6B7YpvOgpcceECnMGyu8IRiQXWQ5Ml6bxiayrGY7DAI/uagj2vuZbgDceWkOHAWRlyQ\n",
       "5SSOVOG0bRpPwWTwN96Wu/gGgGEcRjwfb6x8W8IcvR9xrDiwsXrRYr1ykCsYniwPSBVT/GUg4Bgn\n",
       "r1CopYEdl20BrwN4p5bZwXmuWqa/4g/ATWtUszX2gIFkWzmmSSG+ga4Do1wJXw1auAsFOemWiSm2\n",
       "JBTEVzEP7sab6RfsAY+btnJMk0J8A11ziYVW8IpE+RpJrQCn4GQdoHZl2upk+Gu7HLs5K92IrWNp\n",
       "YHIdjLolsZCJsOMgJ796mj3TFldxga+zSk3x15SVdYbiG4g04CECUfWxXtq54/icl0LF/xEMuiEO\n",
       "yY7mxDuWhr2W8t5t/RfNBeNeS11EOAAAAABJRU5ErkJggg==\n",
       "\" style=\"display:inline;vertical-align:middle;\" /></a><br>"
      ],
      "text/plain": [
       "substitution: forall_{f, x, y | x = y} (f(x) = f(y))"
      ]
     },
     "execution_count": 7,
     "metadata": {},
     "output_type": "execute_result"
    }
   ],
   "source": [
    "substitution = Forall((f, x, y), Equals(fx, fy), conditions=Equals(x, y))"
   ]
  },
  {
   "cell_type": "markdown",
   "metadata": {},
   "source": [
    "**We can substitute the mapping within a `Lambda` map if the mapping is the same for all instances of the parameters for which the condition(s) are satisfied:**"
   ]
  },
  {
   "cell_type": "code",
   "execution_count": 8,
   "metadata": {},
   "outputs": [
    {
     "data": {
      "text/html": [
       "<strong id=\"mappingSubstitution\">mappingSubstitution:</strong> <a class=\"ProveItLink\" href=\"__pv_it/85008f9f0b8f5771cc88b57c10a902188d514b880/expr.ipynb\"><img src=\"data:image/png;base64,iVBORw0KGgoAAAANSUhEUgAAA9sAAABMCAMAAABK3FSIAAAARVBMVEX///+Tk5OwsLAUFBQNDQ3O\n",
       "zs4WFha/v78QEBC6urrMzMxUVFRmZmZERETc3NwyMjKqqqp2dnaIiIiYmJgiIiLu7u4AAACABSHX\n",
       "AAAAAXRSTlMAQObYZgAAE11JREFUeNrtXYm2pKgS9G0zKLix+P+f+lRAQUhMN6p6Ss7prjqUF0Ig\n",
       "INkii+INu6GWUjZvMbzhmVCOzav/p7xMNcyBfgseVqZ/l2/7e8OjoaE3/qnU9PoUtxkfQ/clBcvb\n",
       "4uX2G/5QbheUbSLERC76MW5XX2VFNBhuq7cFXjY++bH4W4Io74R6K6QV2hVuKxIbJMXL7Ym5u9Uo\n",
       "/cFb8Jemp6p9bcCKctpE4h+ZcVWXoD4JaYF2hdtFR9TL7Wjo9y3u+Yl+6R3bdwg/FZxyq/tuELnK\n",
       "s70E9VFI7R3cLlr6cjs60xk6HLeb2v5F/dL01LLGau6ooVRdJP4hE7i/APVZSPYT4rZC8ql8uR0J\n",
       "NWKhTHp9Oetenp4JjuXYDfH4Z4IiF6A+C8l+QtxG2g+RRvxyuyhX03CP26Jv5vCump8racc0ZjKM\n",
       "V6yVbVW28op5Gk+k7s5BzQDJfELcLimyFXcvt8MeD9Onm5Y41FP45xwzyBvYUm6CErlu3Jh4Jcfm\n",
       "SQap+HDeIAYS6RnCSma8F3V2SOYTnG/3uJxb+XI7RNLjuU1n1HXGE2rNxXLqvijj1jGQ3GZu4un0\n",
       "MYw/DNqSqs6saviJKDpok7ZbTQbWOsEhFKPT0gvLDsl8etxm0gkDw+QigoH75TYbGjy3ZwNJtTdl\n",
       "7S9/KN5KSahfLs1VE6HaTSCa7yMZk/WFG7f+TXw/x4/VMe8wVoyemfr4iRSlrTiyz42JcpYgGSGZ\n",
       "z8Q6eddiNuiH+uX2tkhQTJXOJxc3Ze1VRkcmc0DV/oLn9QX5fqddxPN9JGMnC28pzYkXw0rC7uyy\n",
       "hpOINXyr3XZOaOEcYsoIyXym9sBUS/bZTbeD1M9zW+AmUrZOJ15L9QC3O9PtNoPbfLrrOzE7VkY8\n",
       "32cydgjjHSlw4qlzxeA0kZxE7DRgl9vdPGJzmR/SPrertkc0uW47ufx5btcok3zh9thg7zuw5HBb\n",
       "DWYWVixf7prZ01RJA/k+k7FzMrKmYXzXT0tOU6fCm9NE2iRia9exyb257FIFfH6yZvkhxWxyD6Os\n",
       "cYPJIF9u+20bV1tybfRUd+mK1pL1bYt4D+hRh9v90q8PbmdDbsgqeQoDyPeZjOt1MkN4ED92M+U4\n",
       "LR1LtyHeILm07PBLELVJpLKUFnszL02EZT0qIyTRpsftDjuW1BtO/Tq3O9wi5Mrtzm7MyqooB9po\n",
       "btBkz+o8WrlrxQ63iW1Vlb6ZpxOs2huySm6QbvKlrbUCn8h43YhS3uxexzfj7ICS8YfGLB0ZIi3d\n",
       "b/gljNokwusga7CTV+6UNSOknT2wBr1yu92n+3Vu06E7xm074jR8KsyumfYuq56kTFj30aKuotxe\n",
       "Rs15ILUJanZczKpKNQ4/37HnKornMi6XUiy9CYCJ51L2ipLWrgpbIhGDURFTYMsXN8o85CdS29a+\n",
       "v9JcUs7XAzUZIZlPiNv42VG1WRb+dW6TQR3ktnCuOyx/vKvJsjxKCoDb9nddMDrB1Ry7kNUOt718\n",
       "7WHahzJeuofNffl4t7FMbktM844+RKrK8Axn1bL8kPbOnB7gyUaM4ce53QzIg8bhrLztCzLGNmK/\n",
       "3TuPerdMnO/tUI0z1rJgxq7SCZb1DVmVqe2sTb5SlZw+l7G+FyGoO/Ne40EiofYcRdTQLnRx7p/t\n",
       "KufHu/yQ7GdzfYm29fcxf5zb3VCf5HY19OX0x/o08Nzum7aZ/lP+f433qNdkajc5ycpCUnu2XRNJ\n",
       "SSCrWF5QVvMn8Pw2XyIaJW7NeNP6ppGdtErG4jfdbt8OjF8jUkH1tdz900bzCSZK80NS99zxNC/B\n",
       "X247y8T9SW4XtK6FrNtupWI1EWQ+/eD+J7xHaRnn9li1RLbD2KA61wDWW+lhVrG8oKxmKTjoeT/f\n",
       "suWmhd2W8YYddOY8a2Lx4BoRaiEpuaqya0F39TjbFh+AtEC7gdvC1x/8cW7XyKW0Pb00Q0Wx23lL\n",
       "FV8ntyt7nFE3wYignDWNBTardv95my8X43Albs44WHMrDsTfEviptpYF0grtBm6X/obuj3ObYGEk\n",
       "uV1xMhtaVWR42MQx3iS4zQe9bm0TLFQNZBXLK56VOWGWfN7mOw4iPS/vzfgNyK7kOreVv5j229xW\n",
       "A3KZvJAYfXKBjAO53ZCtqF0n8HnFH6WI58N878v4DZgRd2xeN5SXf/7ot7ldfUrCGd/6xcVy6s8e\n",
       "fv9Yxm84HaQ3xfxtbnf7J0778m0yb/iGoOhub9l6C+W/zW2+e8GTvRIria7x9aKU1XDflU6j3rbP\n",
       "xG31OW5/2G7r97a3+63ZzKW5DfGcMr24YCk8qJcfgRXaNKImZJCsyQxOXDSuPgTb4hatRL3A7oUX\n",
       "5m2CTdz+hKS+4faH1fzpzk2R8Eqfbc5PKtMfUsrPJ+EfwtpyWxAi5plOVF3ya4osoMzHYC+4kTM/\n",
       "yvbGqnbD7U9I6htuf1jNv04fXWkI2JwfhXtEsymjhH+7w206mPxHlkS49jVFFnTwn4NtcWNXdUi3\n",
       "M8eUG25/QlLfcPvDav5tWnSl7SEz9Fll+gNK+Tkl/ANYfotkw6LpPUTsoa8pssCO/SBsixvL7S4t\n",
       "my686xHzWtoHJPXtWtpn1fxlkttdZPPbVMKzyvQHlPJzSvgHsLwW6Zq0JLL/8DVFti3AT8K2uNG7\n",
       "MS3beZkttz8gqW+5/Vk1f5J0O0AiY4GuBKtM37dEX5E6Dz+aBF4pPybhfwMqHCyvRUpnzBjC63Xf\n",
       "U2Tb7j0X7BRuNLfLpARYGXL7A5L6yx7YR9X8k9wWsTNruhLMzljPivn+fXf+CEw8CUclxJ9Idn4L\n",
       "jkr434BqH1bA7dIxaNUQDoAZi+xIyAc7iRt/iiI5cMe47Uvqx1XnT/aL/Q63N2r+ijLATI7LaMPG\n",
       "DubxIXVVJHoIUFeCFg0a7alZdnqcsk2rBWd06b0kFlV6Vyl/09q25xdCCf8bUCFgBdxmw3p52BLG\n",
       "zTtjkR2bbQewuWuvZSrTtSQhzwjJEcd5A7XltiepP6vOey84I6nODa1sh9sbNX/GgQ4YkNGGFx0w\n",
       "j6e4XUb/VFeCVouuuNl0mKbt53TpvSRWzSFHlXOTqPKvK0Yk/G9AhYAVcFs6zYrN5ernnbHIjpnk\n",
       "W9hjXJm9TA+cfkwtEVURbnuS+rpT8nbTZySb/KuWTRd0OWEqFb3H7Y2aP7SJD8how4sKqMdT3GbR\n",
       "xqILYaH9LE2r9N7JSe1qJ4mlW3PUtP/7H0/OVpKhhJbS7kS1ByvgNnHmqva7m3fGIjuWVABbufzI\n",
       "VKYHuJ3qWKLcdiT19dU87wU1kkUpgjM2XWMX9XwfYHsnYBMNcPvvv/5nvvlq/oDFAcloQ/YP8vEh\n",
       "0QkSts/tajayzCznXI27SSwaqE5D3SbqiTvEJfxvQLULKzJuy7VNmS4zxu0MRXZs3A5glx8o0wPc\n",
       "7hKraf/2mvu//tJkWCX19dTXe0GDRE9eeV02So1JCMEn5k4kLnVdzleHnGhGKZXjvy41brtq/qIe\n",
       "nOk273lvZjaQjDY0yUc+nhi3q/hPxibvbHMgxXIa6FyNu0ksWGGbfHMuMibhfweqXVgBt+nUZLu2\n",
       "rqaO1aBy885YZEdCBPY4kJXcyv1nKlNnvh31jOCNW/zYuL1K6huRSu8FDZJ5G18sw5mouqrheoCe\n",
       "t6f1T240xiZ3svZPzE7Ggl0Ejst3J4wf//ET3ObxAV9XgpXyE3M9tfp0W6BLn1KoV2sFLEksqvRu\n",
       "McjtpM1/0VDCH0B1SC5/H1bA7bGku6oulGzk0rG6HMAVGarsdrCpI18isFvRlcpyL1OZHrltKOuD\n",
       "3F4k9Y3wrPeCBsm87LVW7zhK90pUmsQjuQ3rvWgMtztnj9ZZSGsmmHbXMi7fneCsp7pN270+IAyA\n",
       "V25dCRbmLJPKzVLrVpc+pVC/PuQksajSu8Xgk1lt+/BQwj+O6phc/j6sgNuTSVvPfqbJsnjichtV\n",
       "ZKiy28GGKXXlWeIb2IN7OD1TmR7hNh1S6+RFyO1lBDDOILwXNEgm2jur5ZMF3he9GUKZHWL9aAS3\n",
       "3cHH0badJayDabMn353gtvd4x0Bug/vbpE5we5mxdJLI2uS21aWPCNOHuvRuEosqfdEiqzoq4R9F\n",
       "dVAuHwfLb5ENk6SV89jUh9xGFVkU0kFsiReNpRXArohwfL9kKtMj3ObwNBPgtpXU16rz/gsaJDO3\n",
       "5XzWZIqZSNwIZdbBuBQrt9doDLcdNX/HFSljjukSl+8Gw+Zx8ECrBLmtgFsk9sypzr+c9frNmvw5\n",
       "XXonCatKjz9AGZfwj6N6AFasRbaDKFkdcjtjkWES2z6zwh4HsrHZVXnL9Ai3O9jYBLi9/Bx5QYNk\n",
       "+klRb9we8fKZmaNBTrsweqT5PrddRs1/NWtgTyb+JBgdk9GGtbKjj1tF/UhD5GApiRS39RH/+YRR\n",
       "YycAp3TpnSQWVXqEUv6cAiDhD6B6AFac28OyiuFxO1+RCXxaEdjjsFXJdSqUp0yPcLuCF9O68K6I\n",
       "Ry/pveBEFYtkfs317IQW1BLzxHqea+vh0Y1OAYxx24zTWjmb8b4VRUxGO6GVHX3cKuqHk2rwjqcA\n",
       "Okfvjicf/7yR2tY4qUvvJmFU6RFK+brHBST8AVQPwIq1SDZyxJwtcPLOWmRnuL3CnsaGmpd5y/QI\n",
       "txUsOiCCO54bO1W5L6h15TWSWUte1QZG2epvs4sZnds0R3ejD3N7WYQX1mDwCjCQ704ri9rHV0X9\n",
       "cFmCgZOaKsltrTg7bVgEndgxXfpIEhQnVQRK+EdRPQEr1iIbCZVpriLjR9K6BPs+3IdU+WCxIB5o\n",
       "M2x+76AezvYxZr59KcS43Qp7/Ltq5gvdeiEjlNFOaWVHHl8V9cNBBuqCGLBgwaXUGJ9TpucXNEQe\n",
       "1MuPwOLll4DjT4rvPV+mY6M6UpIEtOt8jbCQ2xvV+ZUqt2rJx7jNlknTZGq3nOtjqwkZ7bQguH18\n",
       "VdRPl4U/or8SvG/4zgDfMw310rYTchGnyq26Ud+hcypAnVM6vG3oDV/KbXAbJdQ5DVp8lHb3asl/\n",
       "B7dL0EXvy+03fGtoQW633u7Ob+uTN+CR1Jfbb/jzuO1fEvxxX3/gVZKX24fC64XgK2zy1x+YW0yQ\n",
       "dgPDraVZVwSP6dNfUNXPielbvBBcdEKQBP04aqwLAnAtrXn9eHrDs4C4jRqJTJt+UJ/+tKp+Vkxf\n",
       "44XgihOCNOgcqHHb3OAeWOkvDf84tzl0YoHj8JnKeFKf/qyqflZM3+OF4LwTgh3QOVDjuA1u3G5a\n",
       "849zu4Q2wQROl01XxqP69CdV9fNi+h4vBKedEOyAzoIaxW34zOnGCv1xbitoobwcBJ7bj+rTn1TV\n",
       "z4vpe7wQnHVCsAc6C2oUt+G7ItKfSP44t7fF4ZC+R3O7XMb+ph7qZqyoC80gTOKUqv6C6RFIt3gh\n",
       "yAQN3RCSoPOgRnEbvOOpNrB/nds9ND6TGs3t1Uc3mW4KMnnFeguTwDoiKATjvTCwF0yPQLrDC0Eu\n",
       "aNjJWRp0HtQoboPaDOXmdsSvc7uEbovUBM3tRcVC1GIMUjeSUwL1bhJWnx7riGC689bYFmoxPQPp\n",
       "Bi8E2aBhZ9tpHwR5UKO4DR692I5Tv87tAjp1ylEb3HNlEK9GtLbUSYF6Nwmr54N0RKAdTlh7zcN0\n",
       "O6QbvBBkg4Y1ydM+CPKgRnEbtCjbTZP9eW5TAEg1dFhuu0vqzeLX96xA/ZqEsS6RjggILYw8ReFj\n",
       "egDSPV4I8kDDmslpHwR5UGO4DWoYq+3e2M9zu4QWzQg7we0yLvJ5CNCShDEDcY4I9AoLl0FTfALS\n",
       "LV4IMkHDjttpHwR5UGO4LaDpdiAV9PPcLghQP4xgub1eKu+0UEx3od6dJEwl4hwR6BWW2nZIC6ZH\n",
       "IN3ihSATNKz5lvZBkAc1htvgPKAdipfb24l1BQzoFZLbiyKh0KKYjDn1fswTgZuEFXnFOSIwzpZt\n",
       "C1w08yOQcEhUAtI9XggehnbIocGeD4LTqGM+CEDUGG5DdmYTHGl5ua2glXLJkNy2c6ZuIFMYpCNi\n",
       "fdATgZuE1afHOSKYZ4d0aYrmj2KQcEiWbzFId3gheBraQYcGOz4IzqKORCVQI7gN+ujtA1v95TZ4\n",
       "5QtTNPrsilzMtoaNFp1ymvNBTwRuElaTDumIoKScrx5aDKYYJJQ6//pQDNIdXgiehnbUoUHaB8FZ\n",
       "1JGsEqgR3G6hGyuEFi+3w4EbWk3jOG4XUQ9Gtjkfkqf3steq8EcOUdbrcBrDdE7qP4R0jxeCx6Gd\n",
       "SQr0QZAF9T63S3glrXm5HSEogZY8kNyO3k+w9X5EwtrvcrQJjnNEUMz60s5KaQzTKan/CKRbvBA8\n",
       "D+1MUqAPgiyo97ldg+6vWPFyO1YuwMDd9jhuR67/rQL1Z7ltVOGRjgjm++bUNcsCTCel/kNI93gh\n",
       "eB7amaRgHwQ5UO9yu4SOscem4S+359WNeIk1pMFxu4Gv7R+Tp4/UPk6tqKvH2bbXeLJiOuOF4Glo\n",
       "p5KCQedAvcttCV0TIaJ4uR0vW6Dads8mW1cEj+nTX1DVz4npW7wQ/JlOCNAuCBjU7/Rt8XIb6vbK\n",
       "g4X5hjfkty+hoaaKGpif4/Yc6JeUWgXNY2r+Nqk3fEcoQVWnwFSXml4fGin5HMqvKTfIjGDl26je\n",
       "8BXGZQ1Ruwlm4ULTq/g/LGz1Jwt1ff0AAAAASUVORK5CYII=\n",
       "\" style=\"display:inline;vertical-align:middle;\" /></a><br>"
      ],
      "text/plain": [
       "mappingSubstitution: forall_{(k, l) in Naturals * NaturalsPos} [forall_{f, g, Q_1,...,Q_k} ([forall_{x_1,...,x_l | Q_1(x_1,...,x_l) ,  ...  , Q_k(x_1,...,x_l)} (f(x_1,...,x_l) = g(x_1,...,x_l))] =>  \\\\ ([(y_1,...,y_l) -> f(y_1,...,y_l) | Q_1(y_1,...,y_l) ,  ...  , Q_k(y_1,...,y_l)] =  \\\\ [(z_1,...,z_l) -> g(z_1,...,z_l) | Q_1(z_1,...,z_l) ,  ...  , Q_k(z_1,...,z_l)]))]"
      ]
     },
     "execution_count": 8,
     "metadata": {},
     "output_type": "execute_result"
    }
   ],
   "source": [
    "mappingSubstitution = Forall((k, l),\n",
    "                             Forall((f, g, iterQ1k), \n",
    "                                    Implies(Forall(xIter1l, Equals(f_xIter1l, g_xIter1l), \n",
    "                                                   conditions = [iterQ1k_xIter1l]),\n",
    "                                            Equals(Lambda(yIter1l, f_yIter1l, \n",
    "                                                          conditions = [iterQ1k_yIter1l]),\n",
    "                                                   Lambda(zIter1l, g_zIter1l, \n",
    "                                                          conditions = [iterQ1k_zIter1l])).withWrapAfterOperator()).withWrapAfterOperator()),\n",
    "                             domains=(Naturals, NaturalsPos))"
   ]
  },
  {
   "cell_type": "markdown",
   "metadata": {},
   "source": [
    "** This can be applied to any `OperationOverInstances` expression (e.g., $\\forall$, $\\exists$, $\\sum$, $\\prod$) since these are implemented as an operation on a `Lambda` operand. **"
   ]
  },
  {
   "cell_type": "code",
   "execution_count": 9,
   "metadata": {},
   "outputs": [
    {
     "name": "stdout",
     "output_type": "stream",
     "text": [
      "Axioms may be imported from autogenerated _axioms_.py\n"
     ]
    }
   ],
   "source": [
    "%end axioms"
   ]
  },
  {
   "cell_type": "code",
   "execution_count": null,
   "metadata": {},
   "outputs": [],
   "source": []
  }
 ],
 "metadata": {
  "kernelspec": {
   "display_name": "Python 3",
   "language": "python",
   "name": "python3"
  }
 },
 "nbformat": 4,
 "nbformat_minor": 0
}
