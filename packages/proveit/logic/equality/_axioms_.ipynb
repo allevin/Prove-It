{
 "cells": [
  {
   "cell_type": "markdown",
   "metadata": {
    "collapsed": true
   },
   "source": [
    "Axioms for context <a href=\"_context_.ipynb\" class=\"ProveItLink\">proveit.logic.equality</a>\n",
    "========"
   ]
  },
  {
   "cell_type": "code",
   "execution_count": 1,
   "metadata": {},
   "outputs": [
    {
     "name": "stdout",
     "output_type": "stream",
     "text": [
      "Defining axioms for context 'proveit.logic.equality'\n",
      "Subsequent end-of-cell assignments will define axioms\n",
      "%end_axioms will finalize the definitions\n"
     ]
    }
   ],
   "source": [
    "from proveit import Lambda, OperationOverInstances\n",
    "from proveit.logic import Equals, NotEquals, Not, Forall, Implies, inBool\n",
    "from proveit._common_ import f, g, k, l, x, y, z, fx, fy, QQ, xx, yy, zz\n",
    "from proveit._common_ import Upsilon, S\n",
    "from proveit.logic._common_ import xIter1l, yIter1l, zIter1l, f_xIter1l, f_yIter1l, g_xIter1l, g_zIter1l\n",
    "from proveit.logic._common_ import iterQ1k, iterQ1k_xIter1l, iterQ1k_yIter1l, iterQ1k_zIter1l\n",
    "from proveit.number import Naturals, NaturalsPos\n",
    "%begin axioms"
   ]
  },
  {
   "cell_type": "markdown",
   "metadata": {},
   "source": [
    "**By definition, two expressions are either equal or not (though one may not always be able to know which it is):**"
   ]
  },
  {
   "cell_type": "code",
   "execution_count": 2,
   "metadata": {},
   "outputs": [
    {
     "data": {
      "text/html": [
       "<strong id=\"equalityInBool\">equalityInBool:</strong> <a class=\"ProveItLink\" href=\"__pv_it/40d65510253ebe9c23b6d82fc4fef69ccf2845ac0/expr.ipynb\"><img src=\"__pv_it/40d65510253ebe9c23b6d82fc4fef69ccf2845ac0/expr.png\" style=\"display:inline;vertical-align:middle;\" /></a><br>"
      ],
      "text/plain": [
       "equalityInBool: forall_{x, y} ((x = y) in BOOLEANS)"
      ]
     },
     "execution_count": 2,
     "metadata": {},
     "output_type": "execute_result"
    }
   ],
   "source": [
    "equalityInBool = Forall((x, y), inBool(Equals(x, y)))"
   ]
  },
  {
   "cell_type": "markdown",
   "metadata": {},
   "source": [
    "**Equality is transitive (two things equal to the same thing must be equal to each other):**"
   ]
  },
  {
   "cell_type": "code",
   "execution_count": 3,
   "metadata": {},
   "outputs": [
    {
     "data": {
      "text/html": [
       "<strong id=\"equalsTransitivity\">equalsTransitivity:</strong> <a class=\"ProveItLink\" href=\"__pv_it/3e27e37ba4c21dbc2950467f18d0691b4108abf10/expr.ipynb\"><img src=\"__pv_it/3e27e37ba4c21dbc2950467f18d0691b4108abf10/expr.png\" style=\"display:inline;vertical-align:middle;\" /></a><br>"
      ],
      "text/plain": [
       "equalsTransitivity: forall_{x, y, z | x = y , y = z} (x = z)"
      ]
     },
     "execution_count": 3,
     "metadata": {},
     "output_type": "execute_result"
    }
   ],
   "source": [
    "equalsTransitivity = Forall((x, y, z), Equals(x, z), conditions=[Equals(x, y), Equals(y, z)])"
   ]
  },
  {
   "cell_type": "markdown",
   "metadata": {},
   "source": [
    "**Equality is reflexive (everything is equal to itself):**"
   ]
  },
  {
   "cell_type": "code",
   "execution_count": 4,
   "metadata": {},
   "outputs": [
    {
     "data": {
      "text/html": [
       "<strong id=\"equalsReflexivity\">equalsReflexivity:</strong> <a class=\"ProveItLink\" href=\"__pv_it/a17ac86529407447f5f5556b4307bccf71d2487c0/expr.ipynb\"><img src=\"__pv_it/a17ac86529407447f5f5556b4307bccf71d2487c0/expr.png\" style=\"display:inline;vertical-align:middle;\" /></a><br>"
      ],
      "text/plain": [
       "equalsReflexivity: forall_{x} (x = x)"
      ]
     },
     "execution_count": 4,
     "metadata": {},
     "output_type": "execute_result"
    }
   ],
   "source": [
    "equalsReflexivity = Forall(x, Equals(x, x))"
   ]
  },
  {
   "cell_type": "markdown",
   "metadata": {},
   "source": [
    "**Equality is symmetric (it is a mutual relationship):**"
   ]
  },
  {
   "cell_type": "code",
   "execution_count": 5,
   "metadata": {},
   "outputs": [
    {
     "data": {
      "text/html": [
       "<strong id=\"equalsSymmetry\">equalsSymmetry:</strong> <a class=\"ProveItLink\" href=\"__pv_it/b138389b465071a5a8b71d44d54cc0ea9eedcc4d0/expr.ipynb\"><img src=\"__pv_it/b138389b465071a5a8b71d44d54cc0ea9eedcc4d0/expr.png\" style=\"display:inline;vertical-align:middle;\" /></a><br>"
      ],
      "text/plain": [
       "equalsSymmetry: forall_{x, y} ((y = x) = (x = y))"
      ]
     },
     "execution_count": 5,
     "metadata": {},
     "output_type": "execute_result"
    }
   ],
   "source": [
    "equalsSymmetry = Forall((x, y), Equals(Equals(y, x), Equals(x, y)))"
   ]
  },
  {
   "cell_type": "markdown",
   "metadata": {},
   "source": [
    "**$\\neq$ is defined as the negation of $=$:**"
   ]
  },
  {
   "cell_type": "code",
   "execution_count": 6,
   "metadata": {},
   "outputs": [
    {
     "data": {
      "text/html": [
       "<strong id=\"notEqualsDef\">notEqualsDef:</strong> <a class=\"ProveItLink\" href=\"__pv_it/747473aebdbfaacc6f281548551f52b9ec3328dc0/expr.ipynb\"><img src=\"__pv_it/747473aebdbfaacc6f281548551f52b9ec3328dc0/expr.png\" style=\"display:inline;vertical-align:middle;\" /></a><br>"
      ],
      "text/plain": [
       "notEqualsDef: forall_{x, y} ((x != y) = [not](x = y))"
      ]
     },
     "execution_count": 6,
     "metadata": {},
     "output_type": "execute_result"
    }
   ],
   "source": [
    "notEqualsDef = Forall((x, y), Equals(NotEquals(x, y), Not(Equals(x, y))))"
   ]
  },
  {
   "cell_type": "markdown",
   "metadata": {},
   "source": [
    "**When two things are equal, one may be substituted the other within any expression:**"
   ]
  },
  {
   "cell_type": "code",
   "execution_count": 7,
   "metadata": {},
   "outputs": [
    {
     "data": {
      "text/html": [
       "<strong id=\"substitution\">substitution:</strong> <a class=\"ProveItLink\" href=\"__pv_it/6ec2193ff7f2a0001aea3e112ec0ee2dddc5beb10/expr.ipynb\"><img src=\"__pv_it/6ec2193ff7f2a0001aea3e112ec0ee2dddc5beb10/expr.png\" style=\"display:inline;vertical-align:middle;\" /></a><br>"
      ],
      "text/plain": [
       "substitution: forall_{f, x, y | x = y} (f(x) = f(y))"
      ]
     },
     "execution_count": 7,
     "metadata": {},
     "output_type": "execute_result"
    }
   ],
   "source": [
    "substitution = Forall((f, x, y), Equals(fx, fy), conditions=Equals(x, y))"
   ]
  },
  {
   "cell_type": "markdown",
   "metadata": {},
   "source": [
    "**We can substitute the mapping within a `Lambda` map if the mapping is the same for all instances of the parameters for which the condition(s) are satisfied:**"
   ]
  },
  {
   "cell_type": "code",
   "execution_count": 8,
   "metadata": {},
   "outputs": [
    {
     "data": {
      "text/html": [
       "<strong id=\"mappingSubstitution\">mappingSubstitution:</strong> <a class=\"ProveItLink\" href=\"__pv_it/f62f90713e5872e7ca03ec375cc394b196eba9880/expr.ipynb\"><img src=\"__pv_it/f62f90713e5872e7ca03ec375cc394b196eba9880/expr.png\" style=\"display:inline;vertical-align:middle;\" /></a><br>"
      ],
      "text/plain": [
       "mappingSubstitution: forall_{(k, l) in Naturals * NaturalsPos} [forall_{f, g, Q_(1),...,Q_(k)} ([forall_{x_(1),...,x_(l) | Q_(1)(x_(1),...,x_(l)) ,  ...  , Q_(k)(x_(1),...,x_(l))} (f(x_(1),...,x_(l)) = g(x_(1),...,x_(l)))] =>  \\\\ ([(y_(1),...,y_(l)) -> f(y_(1),...,y_(l)) | Q_(1)(y_(1),...,y_(l)) ,  ...  , Q_(k)(y_(1),...,y_(l))] =  \\\\ [(z_(1),...,z_(l)) -> g(z_(1),...,z_(l)) | Q_(1)(z_(1),...,z_(l)) ,  ...  , Q_(k)(z_(1),...,z_(l))]))]"
      ]
     },
     "execution_count": 8,
     "metadata": {},
     "output_type": "execute_result"
    }
   ],
   "source": [
    "mappingSubstitution = Forall((k, l),\n",
    "                             Forall((f, g, iterQ1k), \n",
    "                                    Implies(Forall(xIter1l, Equals(f_xIter1l, g_xIter1l), \n",
    "                                                   conditions = [iterQ1k_xIter1l]),\n",
    "                                            Equals(Lambda(yIter1l, f_yIter1l, \n",
    "                                                          conditions = [iterQ1k_yIter1l]),\n",
    "                                                   Lambda(zIter1l, g_zIter1l, \n",
    "                                                          conditions = [iterQ1k_zIter1l])).withWrapAfterOperator()).withWrapAfterOperator()),\n",
    "                             domains=(Naturals, NaturalsPos))"
   ]
  },
  {
   "cell_type": "markdown",
   "metadata": {},
   "source": [
    "** This can be applied to any `OperationOverInstances` expression (e.g., $\\forall$, $\\exists$, $\\sum$, $\\prod$) since these are implemented as an operation on a `Lambda` operand. **"
   ]
  },
  {
   "cell_type": "code",
   "execution_count": 9,
   "metadata": {},
   "outputs": [
    {
     "name": "stdout",
     "output_type": "stream",
     "text": [
      "Axioms may be imported from autogenerated _axioms_.py\n"
     ]
    }
   ],
   "source": [
    "%end axioms"
   ]
  },
  {
   "cell_type": "code",
   "execution_count": 10,
   "metadata": {
    "collapsed": true
   },
   "outputs": [],
   "source": []
  }
 ],
 "metadata": {
  "kernelspec": {
   "display_name": "Python 3",
   "language": "python",
   "name": "python3"
  },
  "language_info": {
   "codemirror_mode": {
    "name": "ipython",
    "version": 3
   },
   "file_extension": ".py",
   "mimetype": "text/x-python",
   "name": "python",
   "nbconvert_exporter": "python",
   "pygments_lexer": "ipython3",
   "version": "3.7.3"
  }
 },
 "nbformat": 4,
 "nbformat_minor": 1
}
