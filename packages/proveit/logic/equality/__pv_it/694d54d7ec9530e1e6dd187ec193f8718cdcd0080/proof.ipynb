{
 "cells": [
  {
   "cell_type": "markdown",
   "metadata": {},
   "source": [
    "Show the Proof\n",
    "========"
   ]
  },
  {
   "cell_type": "code",
   "execution_count": 1,
   "metadata": {},
   "outputs": [
    {
     "data": {
      "text/html": [
       "<table><tr><th>&nbsp;</th><th>step type</th><th>requirements</th><th>statement</th></tr>\n",
       "<tr><td>0</td><td>assumption</td><td></td><td><span style=\"font-size:20px;\"><a class=\"ProveItLink\" href=\"../38fc97bedac2a6d6dc3ab396210c90cb150d76340/expr.ipynb\"><img src=\"data:image/png;base64,iVBORw0KGgoAAAANSUhEUgAAANkAAAAcBAMAAAAetQdCAAAAMFBMVEX///+6urp2dnaqqqoiIiIQ\n",
       "EBBERETu7u6IiIjc3NwyMjJUVFSYmJhmZmbMzMwAAAD0pS5FAAAAAXRSTlMAQObYZgAAAv1JREFU\n",
       "SMe9lk9oE0EUxl+ySTabZJN6UDyZCB6KoOTgyYMNKv5BC9GLRCgEvIgWDIKXXpoWhZwkBxGxSCr2\n",
       "oIlCLkoMkQYVFEEaQURKsTl5ElopNC304HuTzXZmutMVjB3Yze7sb9838817swH4321xAHawjYu3\n",
       "0QUVuKsfakfBSz/al+5tvajgotV+qB2y4tzP0jnYUXFjuX/XejT5BKDALkfoFJ5WkQ3H3r0KOuKU\n",
       "DfpZAyfjY+5d21bNSIP+MvWX9u4ZgR8O3eFWNI32sXfq26qZLYDQltghhb0rEHLojQ2Qkt5xV/Oj\n",
       "NbFkz5JeKhU4IpiwLz0diCQklNI/F/iAt+fd1ZbwiPdmouWti0s8sWJfelOgpyWURpxb+oUhvrmr\n",
       "3cHjAEhqHp72ZTYNRtuvbFXzfP9I1TxnqwWoDoza/oysRk8rhYYYwiS7bg7eFdGpyXiSKktU28SY\n",
       "RUzNTw93FwPLdDNfplZhyHVcglWItYUQoSam5QWYEcQ8GbiRo11DQDlsiYLMIWJQaGMDzKw8txf4\n",
       "Ygf8CSEEpc6tPIwKZKkJ8zRkUY3DSlSL5jOA9yQbXgZfXlYbRmAaYi0hRAzfm+16epI1GiR2HLfS\n",
       "ikNnudRkqX0vD9oZipGF8baDmq8FcbTOLJdnLpfLVUttVSZXQf9tqXEoh7G5RU6QLoYr5WEIaCW/\n",
       "svGeYkiFldtiTnQyCcaavOmsgbasy07yWImmMlS0chJnWtfkyb0CSpGLoj0BHNsGjpOvbn0Fy+gY\n",
       "wCcRtTHMySJfb6GmNuyV/bmNz5JmVQzhxWV8A3BYqO7ncKSV2FIBNsbXG6kZtYmfE7JaHEddW5Cr\n",
       "G7dpc7CQE6p7qrDvKq7MY6k0exjAQfe9JMZba5dsRvkpc9q5rPbUXS2c4Au4F+KtUs2bl9DNcay7\n",
       "q0VTTr0h5Qd9TDmOSNZdrbfLSumu/LPyWqnma9tq3rQKeujY+0BBB9tKtc/sfI6ZWlFBWqI//ygN\n",
       "ZqR5uutqQ4W964+aSUutjcJOtz+Iw8wKFUOZ7gAAAABJRU5ErkJggg==\n",
       "\" style=\"display:inline;vertical-align:middle;\" /></a> <a class=\"ProveItLink\" href=\"proof.ipynb\" style=\"text-decoration: none\">&#x22A2;&nbsp;</a><a class=\"ProveItLink\" href=\"../296366f54688943befece8f23e0007e1613a8ded0/expr.ipynb\"><img src=\"data:image/png;base64,iVBORw0KGgoAAAANSUhEUgAAAMMAAAAcBAMAAAAuORZjAAAAMFBMVEX///8yMjKqqqrMzMzu7u4i\n",
       "IiJmZmaYmJhEREQQEBC6urp2dnaIiIhUVFTc3NwAAAD87Fq/AAAAAXRSTlMAQObYZgAAAp5JREFU\n",
       "SMe9Vk1oE0EU/pJuNmn+NhGqIAYi4tnc9JbtUTw0F6sgSIpIPQitIl4UDL14UawgHhRCwIsVISui\n",
       "B+khIB5sc0gvViHYePFkSQiBBinimzU/M5N9RTB1YNnJe9/bb943780E2MexUMJ+j5k9vS/GQXEU\n",
       "Ed45URsHxdu9vjNt/zvB9/UDQJV1b3paXzLooNe2GhfjHSDQYGLiyzC+5P5SveePccnDHMtPLANR\n",
       "TikzD/hGnD5GvTZ8HlarJD5vdBiKScrcSvcz7ucq6xp1BtNwB0FHg4qKtUM36Oc5hiJLT7m/Zn+l\n",
       "N3kkI9qDaSQHY1mDimXa2ZP0iSsMxUd63kCjCCckRKA41I9UXRqlCF+9PU+vO2Jr6++KOsUGPanq\n",
       "phpnCjXOrL5Xodvr5bToAJViCBNirDRCLTGfS4qRcu33SdYurIwS51ukonqCKYUhXMQDW/SxApVg\n",
       "2QziOzALehYHCd3BpKPEiRo4XcFdBdlcxBy9VlQKCdYsIdZCoKJTzJIsCVh5Jc4iiq0/kp11h1gZ\n",
       "GS706kOCbkmFlYZVwEzGgyKQR5mUMZPJqYfJZK1H0dWRXRg/exQSVIJRFs0KTkDU52V3Zedde8pt\n",
       "iwVbFSqN+K5+DOzC3zJ0oWRYMyMS2fDraXyG2OunavYhSmqHDiS59Yw2YoljwDUVOoBRRTWoTvyz\n",
       "I6f6Bzpi0mZNjYvQ1nwCXiutdwjH885I0Q5gbl/E62un1nSKMq2vPq+3Hp2L5mrVVlpvu/rsHu3R\n",
       "Ya2F+jDgFdPdlqzcoJ+K7NnvdYD0xhEmJObI3dWPu8VSRCoadEj+i7tXc15WH3sVTrPkwQLnWfK8\n",
       "qNiL+CtLEchwnm+e1h8MOsp+BzdZj98Zzz+peIH3XR8PhWnjf4zfYlWsl7HoHysAAAAASUVORK5C\n",
       "YII=\n",
       "\" style=\"display:inline;vertical-align:middle;\" /></a></span></td></tr>\n",
       "</table>"
      ],
      "text/plain": [
       "<proveit._core_.proof._ShowProof at 0x7f94eb08c860>"
      ]
     },
     "execution_count": 1,
     "metadata": {},
     "output_type": "execute_result"
    }
   ],
   "source": [
    "import proveit\n",
    "%show_proof"
   ]
  },
  {
   "cell_type": "code",
   "execution_count": null,
   "metadata": {},
   "outputs": [],
   "source": []
  }
 ],
 "metadata": {
  "kernelspec": {
   "display_name": "Python 3",
   "language": "python",
   "name": "python3"
  }
 },
 "nbformat": 4,
 "nbformat_minor": 0
}
