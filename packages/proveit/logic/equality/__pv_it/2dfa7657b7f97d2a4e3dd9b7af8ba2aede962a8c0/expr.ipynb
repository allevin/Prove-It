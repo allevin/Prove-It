{
 "cells": [
  {
   "cell_type": "markdown",
   "metadata": {},
   "source": [
    "Expression of type <a class=\"ProveItLink\" href=\"../../../../../../doc/html/api/proveit.logic.Set.html\">Set</a>\n",
    "=======================\n",
    "# from context <a class=\"ProveItLink\" href=\"../../_context_.ipynb\">proveit.logic.equality</a>"
   ]
  },
  {
   "cell_type": "code",
   "execution_count": 1,
   "metadata": {},
   "outputs": [],
   "source": [
    "# import Expression classes needed to build the expression\n",
    "from proveit._common_ import x, y\n",
    "from proveit.logic import Equals, NotEquals, Set"
   ]
  },
  {
   "cell_type": "code",
   "execution_count": 2,
   "metadata": {},
   "outputs": [
    {
     "data": {
      "text/html": [
       "<strong id=\"expr\">expr:</strong> <a class=\"ProveItLink\" href=\"expr.ipynb\"><img src=\"data:image/png;base64,iVBORw0KGgoAAAANSUhEUgAAAIEAAAAVCAMAAABWiX03AAAAPFBMVEX///8LCwsYGBgNDQ0oKChE\n",
       "RETc3NyqqqpUVFS6urrMzMwyMjIQEBCIiIh2dnYiIiLu7u5mZmaYmJgAAADt+DP7AAAAAXRSTlMA\n",
       "QObYZgAAAW9JREFUSMe9ltl2hSAMRenApITx//+1Rs0VUPDaVnnRZdxyOElAxnDEENnTY7BW0L13\n",
       "9ta5tpkqDUaud5BuFSDGViRQxJpbFSjdNMc8oqBtwVMK2hY8pGDg7IICYUEJCQG63/Q2YO+I5HOv\n",
       "Wygf2uxrYipJPwWji8y4VyAb6qWc6VR30A4l9vurw8ZEbakpvMTk0LVVsoDz8NzeJlpaULNjwIfK\n",
       "0EvojOJniZ3eMuh1gvLhIapVn+UjbsbaZDoNnBeXxCwOqV7uETqKLkubsdo6VswxKrHgssHLrQzq\n",
       "BirRhf386LJUB8yu5RPFUiLg+x7M2eOKZRM20J0FObvvRpki49OtOEtEmD6gEybQJ9dDqyoo2QMF\n",
       "noP11sLpQT29CCHh8ryZLy10b0HG/nVPpMxp0anY0Gd/rUA5XPx6tPcMc77PbhPHawqwhTj908Rr\n",
       "FhTs9n/gHVxRIKdM0nkH1ywo2G0zxpVY+f+non7vP/EHJ0MVZcEVCncAAAAASUVORK5CYII=\n",
       "\" style=\"display:inline;vertical-align:middle;\" /></a><br>"
      ],
      "text/plain": [
       "expr: {x = y , x != y}"
      ]
     },
     "execution_count": 2,
     "metadata": {},
     "output_type": "execute_result"
    }
   ],
   "source": [
    "# build up the expression from sub-expressions\n",
    "expr = Set(Equals(x, y), NotEquals(x, y))"
   ]
  },
  {
   "cell_type": "code",
   "execution_count": 3,
   "metadata": {},
   "outputs": [
    {
     "name": "stdout",
     "output_type": "stream",
     "text": [
      "Passed sanity check: built 'expr' is the same as the stored Expression.\n"
     ]
    }
   ],
   "source": [
    "# check that the built expression is the same as the stored expression\n",
    "%check_expr"
   ]
  },
  {
   "cell_type": "code",
   "execution_count": 4,
   "metadata": {},
   "outputs": [
    {
     "data": {
      "text/html": [
       "<table><tr><th>&nbsp;</th><th>core type</th><th>sub-expressions</th><th>expression</th></tr>\n",
       "<tr><td>0</td><td>Operation</td><td>operator:&nbsp;1<br>operands:&nbsp;2<br></td><td><a class=\"ProveItLink\" href=\"expr.ipynb\"><img src=\"data:image/png;base64,iVBORw0KGgoAAAANSUhEUgAAAIEAAAAVCAMAAABWiX03AAAAPFBMVEX///8LCwsYGBgNDQ0oKChE\n",
       "RETc3NyqqqpUVFS6urrMzMwyMjIQEBCIiIh2dnYiIiLu7u5mZmaYmJgAAADt+DP7AAAAAXRSTlMA\n",
       "QObYZgAAAW9JREFUSMe9ltl2hSAMRenApITx//+1Rs0VUPDaVnnRZdxyOElAxnDEENnTY7BW0L13\n",
       "9ta5tpkqDUaud5BuFSDGViRQxJpbFSjdNMc8oqBtwVMK2hY8pGDg7IICYUEJCQG63/Q2YO+I5HOv\n",
       "Wygf2uxrYipJPwWji8y4VyAb6qWc6VR30A4l9vurw8ZEbakpvMTk0LVVsoDz8NzeJlpaULNjwIfK\n",
       "0EvojOJniZ3eMuh1gvLhIapVn+UjbsbaZDoNnBeXxCwOqV7uETqKLkubsdo6VswxKrHgssHLrQzq\n",
       "BirRhf386LJUB8yu5RPFUiLg+x7M2eOKZRM20J0FObvvRpki49OtOEtEmD6gEybQJ9dDqyoo2QMF\n",
       "noP11sLpQT29CCHh8ryZLy10b0HG/nVPpMxp0anY0Gd/rUA5XPx6tPcMc77PbhPHawqwhTj908Rr\n",
       "FhTs9n/gHVxRIKdM0nkH1ywo2G0zxpVY+f+non7vP/EHJ0MVZcEVCncAAAAASUVORK5CYII=\n",
       "\" style=\"display:inline;vertical-align:middle;\" /></a></td></tr>\n",
       "<tr><td>1</td><td>Literal</td><td></td><td><a class=\"ProveItLink\" href=\"../../../set_theory/enumeration/__pv_it/07381ed5b23806e8d7914b78cb6667769e3708dd0/expr.ipynb\"><img src=\"data:image/png;base64,iVBORw0KGgoAAAANSUhEUgAAAB4AAAAOBAMAAADKyLEKAAAAMFBMVEX///8iIiIQEBCIiIjMzMzc\n",
       "3Nyqqqp2dnZEREQyMjK6urru7u5mZmZUVFSYmJgAAACI6eGPAAAAAXRSTlMAQObYZgAAALRJREFU\n",
       "CNdjYGDgu3Nm3wIGBJjHwN0PZW5yYGDgLWBgyITy8zcwMMQDxZyh/INAvD6BgcEFypcB4vjPDiBm\n",
       "TPFRrhs/LjMwMP//38rAwCbKEMPA9gEkE3fp0waG+AUMRxh4JkC01T9guPTOOICBEWgVH5C//wHD\n",
       "H5D4fqCz9oCMDGD4DLaegRXslLMMDMpAgxlOMmQxHDRgYG5gYLBk4D7KcIe7gOHC2rt9QCXsh40Z\n",
       "GCKMGQDRkC8N/Ph1XAAAAABJRU5ErkJggg==\n",
       "\" style=\"display:inline;vertical-align:middle;\" /></a></td></tr>\n",
       "<tr><td>2</td><td>ExprTuple</td><td>3, 4</td><td><a class=\"ProveItLink\" href=\"../50a523a699ed0791477c3e882e9f57f47df6435b0/expr.ipynb\"><img src=\"data:image/png;base64,iVBORw0KGgoAAAANSUhEUgAAAHoAAAAVCAMAAAC+JQpZAAAAPFBMVEX///8LCwsYGBgNDQ0oKCjc\n",
       "3NwiIiJERESqqqqYmJh2dnZmZmYQEBDu7u4yMjJUVFTMzMyIiIi6uroAAACIMCsmAAAAAXRSTlMA\n",
       "QObYZgAAAXlJREFUSMfFltlywyAMRenCvgr+/18rgZ1ix+B4pm54CDPCB6GLJMLYW0eG+/Y2/Miq\n",
       "c5tTvM8zD8d2m+oU/H2uYx4s1CMB/H/QKLnBH/eOoJl3mGPhPs9JjtekYtYs2hiIXIGdy+9N/Z6X\n",
       "XqohKtOYNZYFvdhRf6GZE2sOhm48asCwXCg/ymbLHbqy318TVgXm8mJvRpWmCqJK5ED2Sg7RbdA7\n",
       "NjtWmmsSIcqzy8OvHMlaYGs8RHOcsamsrmm4F8pM0U2lsg/wCA18xqJrpx7ZUo1r/ljRjd+YLBUE\n",
       "uH39btDGfn5MWRRctjTTvN0/nFR5sHRdkXWeBuhT0D2LVKAkr1poJvE8/Exzi2QudFxfBJugOU7Y\n",
       "Vly5buAlGG8M6NNEkwC28NqP6jRCn4PuWFrHHHP88kO4FHCekMrOWWqkrZG/3JQFUUtmziQSfs4a\n",
       "uPpoCjynXM+qrwXds769HPzCXwWFt7U2ArgW9IaNy13xv3+x83wZqA38AO/IE5i5bmBDAAAAAElF\n",
       "TkSuQmCC\n",
       "\" style=\"display:inline;vertical-align:middle;\" /></a></td></tr>\n",
       "<tr><td>3</td><td>Operation</td><td>operator:&nbsp;5<br>operands:&nbsp;7<br></td><td><a class=\"ProveItLink\" href=\"../d7b0ec29f16be033b0ced711d4b5a779ecbfcdb70/expr.ipynb\"><img src=\"data:image/png;base64,iVBORw0KGgoAAAANSUhEUgAAADMAAAANBAMAAAD2/0vEAAAAMFBMVEX///+6uroyMjJERETMzMwQ\n",
       "EBAiIiKYmJju7u5mZmaqqqpUVFSIiIh2dnbc3NwAAAAWgogoAAAAAXRSTlMAQObYZgAAAKRJREFU\n",
       "GNNjYHh7+tXJAwwogOPmBYb3DQwcF9jTWROAfE4lMNgAZPIyfmA4D6QYeD5wOaDq8uJMYDAGambg\n",
       "NmBAAw2sBxj+gBisB9ClGNY3sHwB0e8dGBpAdqWBAdiISQw8AQwM7A/OM/A0oOnSZGAGOmd9gSnD\n",
       "G3QDZzPIFzAwNJ/tvVOALtV8Zv4DBlzgGg5x7gSOKBxSbBeYL+CQ4jozEUgCABYeKl4jfnQmAAAA\n",
       "AElFTkSuQmCC\n",
       "\" style=\"display:inline;vertical-align:middle;\" /></a></td></tr>\n",
       "<tr><td>4</td><td>Operation</td><td>operator:&nbsp;6<br>operands:&nbsp;7<br></td><td><a class=\"ProveItLink\" href=\"../300e2e5a84d087a5fb9402300e42d269677e6d4f0/expr.ipynb\"><img src=\"data:image/png;base64,iVBORw0KGgoAAAANSUhEUgAAADMAAAAUCAMAAAAX1vWWAAAAPFBMVEX///8LCwsYGBgNDQ0oKCi6\n",
       "uroyMjJERETMzMwQEBAiIiKYmJju7u5mZmaqqqpUVFSIiIh2dnbc3NwAAACyXdPkAAAAAXRSTlMA\n",
       "QObYZgAAANBJREFUOMvNU0sWwiAMjB/KNxDg/nc1obZqK/jYmQUdIGFmSgAYRi4wG2WZLoGk/pXG\n",
       "6L6CTKlEQjpuaPM+CxmzZNcgGMA7D9Ztu7i0uN9kTPtvB1X5Q7XhFUQzpDERUE7VIjiI2S/KVfqY\n",
       "cpoV9XWzYOlcsxxbIIoTU5/spYGw+3Ec14tr8VKAcltkBfqy+qIwpoEFxU5qjB40FxcauWk8vKQ4\n",
       "mxVpyiFn8j/ctEzC2m/0iJ234fpt48K5+Tg92DhF4/jydZ6igchuRn0+fgMPuMgIfJwzrpMAAAAA\n",
       "SUVORK5CYII=\n",
       "\" style=\"display:inline;vertical-align:middle;\" /></a></td></tr>\n",
       "<tr><td>5</td><td>Literal</td><td></td><td><a class=\"ProveItLink\" href=\"../2fb26078095930560931daa0500ce419a39ea6cd0/expr.ipynb\"><img src=\"data:image/png;base64,iVBORw0KGgoAAAANSUhEUgAAAA4AAAAFBAMAAACHocAhAAAAFVBMVEX///9EREQiIiJUVFQyMjJm\n",
       "ZmYAAADubVkoAAAAAXRSTlMAQObYZgAAABRJREFUCNdjCHEBAWcGXCBICQQUAUpuAwlgGKrkAAAA\n",
       "AElFTkSuQmCC\n",
       "\" style=\"display:inline;vertical-align:middle;\" /></a></td></tr>\n",
       "<tr><td>6</td><td>Literal</td><td></td><td><a class=\"ProveItLink\" href=\"../43637204f35b46c076ae787093288c6a879642310/expr.ipynb\"><img src=\"data:image/png;base64,iVBORw0KGgoAAAANSUhEUgAAAA4AAAAUCAMAAACK2/weAAAAM1BMVEX///8LCwsYGBgNDQ0oKCju\n",
       "7u4iIiJmZmaqqqpERETMzMy6urpUVFQyMjLc3Nx2dnYAAAB8DqOrAAAAAXRSTlMAQObYZgAAAE5J\n",
       "REFUGNNjYEAAfj4kDgMfLzKPgYebaEkuThRJTi4wxc4LBizMIJIHTRIKuHlQdPLCHMTOBgRMjGxg\n",
       "wIkmiVcnGHCwo0iysRItyYDsMQCO9QJkhxsUAQAAAABJRU5ErkJggg==\n",
       "\" style=\"display:inline;vertical-align:middle;\" /></a></td></tr>\n",
       "<tr><td>7</td><td>ExprTuple</td><td>8, 9</td><td><a class=\"ProveItLink\" href=\"../a6a2ac9310c73e21661c7634808321702fb219240/expr.ipynb\"><img src=\"data:image/png;base64,iVBORw0KGgoAAAANSUhEUgAAACwAAAAVBAMAAADP3xFXAAAAMFBMVEX////c3NwiIiJERESqqqqY\n",
       "mJh2dnZmZmYQEBDu7u4yMjJUVFTMzMyIiIi6uroAAAAs73DqAAAAAXRSTlMAQObYZgAAAQtJREFU\n",
       "GNNjYMAB+C6gi7A+ABKnMVXWAPFKTGEuBgbeC5jCrAkMHBMwhTkbGF5hc4YJQxmQFLstch1i1rQy\n",
       "BsafDAzpDEuBehJYVTkUwMIJ7xl4PzAweDH0MTCwAZksB0CiPA5FDMwGDAwvGP4BVTNwG0DtYuhl\n",
       "4Acadx4kzMDAAXMly0+G8wdAwi0gnvwBBog72Rcw3GAAGWIKdL3AfQbeCWAJrgIGayAVBXQLg3+A\n",
       "BYMsA+cnkOoNfF8ZQA58xMAw+dq03AAGzn4BoJ221z8ChdcxcAjAQxjMYlMAex4YLLAAAuJNDDMc\n",
       "gFIXkAIWJKzGYAYkZwGxNEwY5Hbf66CY2QjEjBgBznuAAQAt5DtyKXSr1gAAAABJRU5ErkJggg==\n",
       "\" style=\"display:inline;vertical-align:middle;\" /></a></td></tr>\n",
       "<tr><td>8</td><td>Variable</td><td></td><td><a class=\"ProveItLink\" href=\"../../../../__pv_it/530be409e3083890784cf1d7b28c9e67e90af9360/expr.ipynb\"><img src=\"data:image/png;base64,iVBORw0KGgoAAAANSUhEUgAAAAsAAAAJBAMAAAAWSsseAAAAKlBMVEX///9ERETMzMwQEBAiIiKY\n",
       "mJju7u5mZmaqqqpUVFSIiIh2dnbc3NwAAAA/vyDhAAAAAXRSTlMAQObYZgAAAENJREFUCNdjYDi9\n",
       "8sTyBQxsG1hdmR0YuBm4LnAoMLAxcAowgADzAjB1VoEhgYH1wFoGrgSG3gBhhlMMDImrs3cFMAAA\n",
       "t0YN+iTRa+sAAAAASUVORK5CYII=\n",
       "\" style=\"display:inline;vertical-align:middle;\" /></a></td></tr>\n",
       "<tr><td>9</td><td>Variable</td><td></td><td><a class=\"ProveItLink\" href=\"../../../../__pv_it/f8b9edf8e16034727f0aad55bb83e392c3db40d40/expr.ipynb\"><img src=\"data:image/png;base64,iVBORw0KGgoAAAANSUhEUgAAAAsAAAANBAMAAACN24kIAAAAMFBMVEX///+YmJhUVFQyMjIQEBBE\n",
       "REQiIiKqqqrMzMyIiIi6urrc3NxmZmZ2dnbu7u4AAADXeCicAAAAAXRSTlMAQObYZgAAAFhJREFU\n",
       "CNdj4LtzgWH/AwZerg8M8xkY2nkSGEIZGB6wTGD4ycDAUP+A4weQOszA6QCkbBhYFYDUIYb1AkDq\n",
       "6czzGxhA4BoQMyXwuQMptgusF4AU+8xTQBIAUqMVoSp/SLMAAAAASUVORK5CYII=\n",
       "\" style=\"display:inline;vertical-align:middle;\" /></a></td></tr>\n",
       "</table>\n"
      ],
      "text/plain": [
       "0. {x = y , x != y}\n",
       "   core type: Operation\n",
       "   operator: 1\n",
       "   operands: 2\n",
       "1. Set\n",
       "   core type: Literal\n",
       "   sub-expressions: \n",
       "2. (x = y , x != y)\n",
       "   core type: ExprTuple\n",
       "   sub-expressions: 3, 4\n",
       "3. x = y\n",
       "   core type: Operation\n",
       "   operator: 5\n",
       "   operands: 7\n",
       "4. x != y\n",
       "   core type: Operation\n",
       "   operator: 6\n",
       "   operands: 7\n",
       "5. =\n",
       "   core type: Literal\n",
       "   sub-expressions: \n",
       "6. !=\n",
       "   core type: Literal\n",
       "   sub-expressions: \n",
       "7. (x , y)\n",
       "   core type: ExprTuple\n",
       "   sub-expressions: 8, 9\n",
       "8. x\n",
       "   core type: Variable\n",
       "   sub-expressions: \n",
       "9. y\n",
       "   core type: Variable\n",
       "   sub-expressions: "
      ]
     },
     "execution_count": 4,
     "metadata": {},
     "output_type": "execute_result"
    }
   ],
   "source": [
    "# display the expression information\n",
    "expr.exprInfo()"
   ]
  },
  {
   "cell_type": "code",
   "execution_count": null,
   "metadata": {},
   "outputs": [],
   "source": []
  }
 ],
 "metadata": {
  "kernelspec": {
   "display_name": "Python 3",
   "language": "python",
   "name": "python3"
  }
 },
 "nbformat": 4,
 "nbformat_minor": 0
}
