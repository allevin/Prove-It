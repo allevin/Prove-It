{
 "cells": [
  {
   "cell_type": "markdown",
   "metadata": {},
   "source": [
    "Show the Proof\n",
    "========"
   ]
  },
  {
   "cell_type": "code",
   "execution_count": 1,
   "metadata": {},
   "outputs": [
    {
     "data": {
      "text/html": [
       "<table><tr><th>&nbsp;</th><th>step type</th><th>requirements</th><th>statement</th></tr>\n",
       "<tr><td>0</td><td>assumption</td><td></td><td><span style=\"font-size:20px;\"><a class=\"ProveItLink\" href=\"../0b3ebedb13b80683789be64da3f7935d89fe1b5b0/expr.ipynb\"><img src=\"data:image/png;base64,iVBORw0KGgoAAAANSUhEUgAAAEEAAAAVBAMAAADrxp6XAAAAMFBMVEX////c3NxERESqqqpUVFS6\n",
       "urrMzMwyMjIQEBCIiIh2dnYiIiLu7u5mZmaYmJgAAABXZE4RAAAAAXRSTlMAQObYZgAAAOpJREFU\n",
       "KM9jYGDgu8eAA7CtEgBRPLsYcAK2ZhDJ+QHMCerFpuQ6iOBqgHA+Y1OxAkkF6x9CKrg2EFLBfgG/\n",
       "CpFZ8QZokqdWToOq4C0AOqKRQf8AiF0OBg4gj7YyVDMwvAepyAhgYJB/APEXEjgxgUEPYndKG5Dr\n",
       "z8CAHm7+EEr9AQNDRAIDwycGnq9oKj6BSe4FQIKlgIHxJwPzBx6QO3aDgQIDSAgE3kMDguczUJ0Z\n",
       "qhn/gFGK5Ns6BusLC1BV+DIwLENSITIzTDMAVQXvypkHUMMUOyBSBR8+FeBw5NmJJ421gim+xXjT\n",
       "KQDh+0J7GsIzOQAAAABJRU5ErkJggg==\n",
       "\" style=\"display:inline;vertical-align:middle;\" /></a> <a class=\"ProveItLink\" href=\"proof.ipynb\" style=\"text-decoration: none\">&#x22A2;&nbsp;</a><a class=\"ProveItLink\" href=\"../5563f0e90876434c8f38bb4cbb53a97c172836010/expr.ipynb\"><img src=\"data:image/png;base64,iVBORw0KGgoAAAANSUhEUgAAAC8AAAAOBAMAAABN+VgMAAAAMFBMVEX////MzMyYmJiIiIhUVFTc\n",
       "3NwyMjIiIiJ2dnbu7u6qqqpmZmYQEBBERES6uroAAABkyy6XAAAAAXRSTlMAQObYZgAAAJRJREFU\n",
       "GNNjYGBg4LuzgQE74F+AQ+L9BBwS7TjEGbKxirI69/1CE+LsMBZgYHgTwPsTxNuWBgIpIKbMA7YC\n",
       "BtZPDNwJaBoOM/AqMLB8YGBvQJUACoH8cIFh/gM0b10AkfEGDOsZQP7YXg4CtRAhIJi/gMGNSwBV\n",
       "hwIDgwIDmwJXNQeaHRsYOASA3rCTtUPzxw5jSwYAHdohiAA7WLMAAAAASUVORK5CYII=\n",
       "\" style=\"display:inline;vertical-align:middle;\" /></a></span></td></tr>\n",
       "</table>"
      ],
      "text/plain": [
       "<proveit._core_.proof._ShowProof at 0x7f94eb6519b0>"
      ]
     },
     "execution_count": 1,
     "metadata": {},
     "output_type": "execute_result"
    }
   ],
   "source": [
    "import proveit\n",
    "%show_proof"
   ]
  },
  {
   "cell_type": "code",
   "execution_count": null,
   "metadata": {},
   "outputs": [],
   "source": []
  }
 ],
 "metadata": {
  "kernelspec": {
   "display_name": "Python 3",
   "language": "python",
   "name": "python3"
  }
 },
 "nbformat": 4,
 "nbformat_minor": 0
}
