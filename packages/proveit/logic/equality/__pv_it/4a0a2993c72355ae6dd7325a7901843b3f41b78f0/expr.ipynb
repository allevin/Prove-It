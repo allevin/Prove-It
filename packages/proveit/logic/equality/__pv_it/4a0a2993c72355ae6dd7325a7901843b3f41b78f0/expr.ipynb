{
 "cells": [
  {
   "cell_type": "markdown",
   "metadata": {},
   "source": [
    "Expression of type <a class=\"ProveItLink\" href=\"../../../../../../doc/html/api/proveit.ExprTuple.html\">ExprTuple</a>\n",
    "=======================\n",
    "# from context <a class=\"ProveItLink\" href=\"../../_context_.ipynb\">proveit.logic.equality</a>"
   ]
  },
  {
   "cell_type": "code",
   "execution_count": 1,
   "metadata": {},
   "outputs": [],
   "source": [
    "# import Expression classes needed to build the expression\n",
    "from proveit import ExprTuple\n",
    "from proveit._common_ import Py"
   ]
  },
  {
   "cell_type": "code",
   "execution_count": 2,
   "metadata": {},
   "outputs": [
    {
     "data": {
      "text/html": [
       "<strong id=\"expr\">expr:</strong> <a class=\"ProveItLink\" href=\"expr.ipynb\"><img src=\"data:image/png;base64,iVBORw0KGgoAAAANSUhEUgAAADsAAAAVBAMAAAAKrYvGAAAAMFBMVEX////c3NwiIiJERESqqqqY\n",
       "mJh2dnZmZmYQEBDu7u4yMjJUVFTMzMyIiIi6uroAAAAs73DqAAAAAXRSTlMAQObYZgAAATxJREFU\n",
       "KM+Fkr9Lw1AQx7/6+iMxac3ewW4OLoI41/9AJ0cJDnYSnDooaAVnCTjoZhaRbE4uXRzcHOyupeLo\n",
       "0lDE4q/q3b332gYEDz7kPu/Iy7vLA/6Jcvsv2zDgjnj4abUWAmscxRsNErYPQB3CGkesKfFu/huQ\n",
       "I7RJrGuciFeHQH4AYxJnmhfOVQp4rzAmoVaEBuez9JXzRUrI3HqIuQiFHTAXXL4P4c9zQlYop+jS\n",
       "UWLhmFe711sN6YvstljFEg2gKQx5tWZPRBY5bXxTM6kg5T7GZaxG/teofMRtD2yZbRel5mjzZdO2\n",
       "DrZLqCsaQyzUucd3W2bbQ28NtrFn4LT2aWdJhpPOAXUx8yQ4weT/1LY5Hmo+nCyTeVWXD7htSDKX\n",
       "I8F0qOgNN9agkilXkOvs09MLNJjKXCZrj5pfSgZaYAzLbR8AAAAASUVORK5CYII=\n",
       "\" style=\"display:inline;vertical-align:middle;\" /></a><br>"
      ],
      "text/plain": [
       "expr: (P(y))"
      ]
     },
     "execution_count": 2,
     "metadata": {},
     "output_type": "execute_result"
    }
   ],
   "source": [
    "# build up the expression from sub-expressions\n",
    "expr = ExprTuple(Py)"
   ]
  },
  {
   "cell_type": "code",
   "execution_count": 3,
   "metadata": {},
   "outputs": [
    {
     "name": "stdout",
     "output_type": "stream",
     "text": [
      "Passed sanity check: built 'expr' is the same as the stored Expression.\n"
     ]
    }
   ],
   "source": [
    "# check that the built expression is the same as the stored expression\n",
    "%check_expr"
   ]
  },
  {
   "cell_type": "code",
   "execution_count": 4,
   "metadata": {},
   "outputs": [
    {
     "data": {
      "text/html": [
       "<table><tr><th>&nbsp;</th><th>core type</th><th>sub-expressions</th><th>expression</th></tr>\n",
       "<tr><td>0</td><td>ExprTuple</td><td>1</td><td><a class=\"ProveItLink\" href=\"expr.ipynb\"><img src=\"data:image/png;base64,iVBORw0KGgoAAAANSUhEUgAAADsAAAAVBAMAAAAKrYvGAAAAMFBMVEX////c3NwiIiJERESqqqqY\n",
       "mJh2dnZmZmYQEBDu7u4yMjJUVFTMzMyIiIi6uroAAAAs73DqAAAAAXRSTlMAQObYZgAAATxJREFU\n",
       "KM+Fkr9Lw1AQx7/6+iMxac3ewW4OLoI41/9AJ0cJDnYSnDooaAVnCTjoZhaRbE4uXRzcHOyupeLo\n",
       "0lDE4q/q3b332gYEDz7kPu/Iy7vLA/6Jcvsv2zDgjnj4abUWAmscxRsNErYPQB3CGkesKfFu/huQ\n",
       "I7RJrGuciFeHQH4AYxJnmhfOVQp4rzAmoVaEBuez9JXzRUrI3HqIuQiFHTAXXL4P4c9zQlYop+jS\n",
       "UWLhmFe711sN6YvstljFEg2gKQx5tWZPRBY5bXxTM6kg5T7GZaxG/teofMRtD2yZbRel5mjzZdO2\n",
       "DrZLqCsaQyzUucd3W2bbQ28NtrFn4LT2aWdJhpPOAXUx8yQ4weT/1LY5Hmo+nCyTeVWXD7htSDKX\n",
       "I8F0qOgNN9agkilXkOvs09MLNJjKXCZrj5pfSgZaYAzLbR8AAAAASUVORK5CYII=\n",
       "\" style=\"display:inline;vertical-align:middle;\" /></a></td></tr>\n",
       "<tr><td>1</td><td>Operation</td><td>operator:&nbsp;2<br>operand:&nbsp;3<br></td><td><a class=\"ProveItLink\" href=\"../../../../__pv_it/c5f09cc3a2885e6789037be52d7dfbf4f0376cee0/expr.ipynb\"><img src=\"data:image/png;base64,iVBORw0KGgoAAAANSUhEUgAAAC0AAAAVBAMAAAAgHXppAAAAMFBMVEX////u7u5mZmaYmJi6urqq\n",
       "qqp2dnbMzMwQEBBEREQyMjLc3NwiIiJUVFSIiIgAAAAeC3ydAAAAAXRSTlMAQObYZgAAAR1JREFU\n",
       "GNNjYCACsDyA0CZg8u3/u3fPbgCxaqHyTAVg6hcDA2c3iLEQpnEBiGD/xsDACsQMfA9g4mYggu8L\n",
       "AwPzJyCDQwAmLgEiOD8wMPB+BTK84A7gDAAS/EDT5CcAGWoMDIxJCQz7BRjYFIDc+gQG9kMgVYsZ\n",
       "GNhYPjC8B1oHsvj9tTQ1sDNbGBhKmQ4wzAR6pAHInQ+zDmi/AMcDhn9AJwKtZPjDgBBniBdg/w4R\n",
       "Z/8EE28FYi0GvgaIOSDnQ8BkIF7EwHkB6B2gvZwfYeJJQKzL4G/AAHKn0Py/MO/7ALHkO32g27gc\n",
       "kIOZA+zaHFg4wAFzAgPvAUaQ7Xmo8bKQgSeBMwEYGgtQxfcysL5TAdK8G1DFuaEueM7AAADgEUAs\n",
       "2jlUwQAAAABJRU5ErkJggg==\n",
       "\" style=\"display:inline;vertical-align:middle;\" /></a></td></tr>\n",
       "<tr><td>2</td><td>Variable</td><td></td><td><a class=\"ProveItLink\" href=\"../../../../__pv_it/6369c6c8083c513ca7161ace249642d040f9327d0/expr.ipynb\"><img src=\"data:image/png;base64,iVBORw0KGgoAAAANSUhEUgAAABAAAAAOBAMAAADUAYG5AAAAMFBMVEX////u7u5mZmaYmJi6urqq\n",
       "qqp2dnbMzMwQEBBEREQyMjLc3NwiIiJUVFSIiIgAAAAeC3ydAAAAAXRSTlMAQObYZgAAAGBJREFU\n",
       "CNdjYGB4+//u3bMbGIDgFwMDZzeQZv/GwMAKxAx8XxgYmD8BGZwfGBh4vwIZ/AsYGOQnABn1CQzs\n",
       "h0Ca3l9LUwPrni/AAAF/oDT7JygDZAwYcH6E0ELz/z4A0QBnpRnRyxnfJQAAAABJRU5ErkJggg==\n",
       "\" style=\"display:inline;vertical-align:middle;\" /></a></td></tr>\n",
       "<tr><td>3</td><td>Variable</td><td></td><td><a class=\"ProveItLink\" href=\"../../../../__pv_it/f8b9edf8e16034727f0aad55bb83e392c3db40d40/expr.ipynb\"><img src=\"data:image/png;base64,iVBORw0KGgoAAAANSUhEUgAAAAsAAAANBAMAAACN24kIAAAAMFBMVEX///+YmJhUVFQyMjIQEBBE\n",
       "REQiIiKqqqrMzMyIiIi6urrc3NxmZmZ2dnbu7u4AAADXeCicAAAAAXRSTlMAQObYZgAAAFhJREFU\n",
       "CNdj4LtzgWH/AwZerg8M8xkY2nkSGEIZGB6wTGD4ycDAUP+A4weQOszA6QCkbBhYFYDUIYb1AkDq\n",
       "6czzGxhA4BoQMyXwuQMptgusF4AU+8xTQBIAUqMVoSp/SLMAAAAASUVORK5CYII=\n",
       "\" style=\"display:inline;vertical-align:middle;\" /></a></td></tr>\n",
       "</table>\n"
      ],
      "text/plain": [
       "0. (P(y))\n",
       "   core type: ExprTuple\n",
       "   sub-expressions: 1\n",
       "1. P(y)\n",
       "   core type: Operation\n",
       "   operator: 2\n",
       "   operand: 3\n",
       "2. P\n",
       "   core type: Variable\n",
       "   sub-expressions: \n",
       "3. y\n",
       "   core type: Variable\n",
       "   sub-expressions: "
      ]
     },
     "execution_count": 4,
     "metadata": {},
     "output_type": "execute_result"
    }
   ],
   "source": [
    "# display the expression information\n",
    "expr.exprInfo()"
   ]
  },
  {
   "cell_type": "code",
   "execution_count": null,
   "metadata": {},
   "outputs": [],
   "source": []
  }
 ],
 "metadata": {
  "kernelspec": {
   "display_name": "Python 3",
   "language": "python",
   "name": "python3"
  }
 },
 "nbformat": 4,
 "nbformat_minor": 0
}
