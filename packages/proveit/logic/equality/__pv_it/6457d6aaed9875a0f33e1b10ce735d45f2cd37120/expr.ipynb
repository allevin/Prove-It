{
 "cells": [
  {
   "cell_type": "markdown",
   "metadata": {},
   "source": [
    "Expression of type <a class=\"ProveItLink\" href=\"../../../../../../doc/html/api/proveit.ExprTuple.html\">ExprTuple</a>\n",
    "=======================\n",
    "# from context <a class=\"ProveItLink\" href=\"../../_context_.ipynb\">proveit.logic.equality</a>"
   ]
  },
  {
   "cell_type": "code",
   "execution_count": 1,
   "metadata": {},
   "outputs": [],
   "source": [
    "# import Expression classes needed to build the expression\n",
    "from proveit import ExprTuple\n",
    "from proveit._common_ import fab, fxy"
   ]
  },
  {
   "cell_type": "code",
   "execution_count": 2,
   "metadata": {},
   "outputs": [
    {
     "data": {
      "text/html": [
       "<strong id=\"expr\">expr:</strong> <a class=\"ProveItLink\" href=\"expr.ipynb\"><img src=\"data:image/png;base64,iVBORw0KGgoAAAANSUhEUgAAAJYAAAAVBAMAAABWCwqnAAAAMFBMVEX////c3NwiIiJERESqqqqY\n",
       "mJh2dnZmZmYQEBDu7u4yMjJUVFTMzMyIiIi6uroAAAAs73DqAAAAAXRSTlMAQObYZgAAAlNJREFU\n",
       "OMutlD9oE1Ecx79n7pK71EsziEuRZtGuGVoRRMhckN5clwxCJkU6dFAHLeKmBoRS2uFcHIJQ0lIQ\n",
       "hMCBo0MyGbFQrVPt0lQMEoji773fe/eneTj54Hf3vd993u/93u/9Af5nK/XMmpvz9d89YkiCH8SX\n",
       "19mB1tn2MKVN1NaagoS1hCd3ewits62Y0kbqjYLIfJlw+L0Grc/kX0+0kfqpIDK3KRxL0s0627xH\n",
       "iTZRpZGCyI6lZ0U+j01rM59IE5WvaGgeq0LeWnsrXkJf3L/Q50msr8KiQRtxtxRlde4+VvXs7AcM\n",
       "NfBaen7LJ2mv7lx25VCon8AfAItJDjGFo3JuoGpYxZihRTwXDmss/aTz1N+OxMf52gpyVeoWh0oo\n",
       "a4hCVdWwiacMHeGPcNg8CGkPUwry8AzTNNtuHCuhpgY4p1bzPvCLoS7H4gKydvWS2yN0o3SshJqu\n",
       "IozYOYfSUMd6IjdhW/qlno3Ai154hU9IzzGhZnu0P5pqexVGeo4LqVxIO+Uv8JuSK97DdXoty/lm\n",
       "qbCGd3YkvWO4dYaWeclDPsGkl4JruATvh8irLbKXQFjJUsXAnsuzdw8PoPfEN/H7hPMl/fLj+p0A\n",
       "3osyJXOjf0rObbKN0yxldQ7eH7B3qx8oaBsu9cJnLojUfDLKuth8hg5hog7TB42MjqTTXjh7jh2y\n",
       "XWzQUc7LItHYBiqIV7jH1oLbqihfKx3rCq7Sc1P3MlBxrE1lM3AaOusZ/VMkc7Mvai1vP1+En6D8\n",
       "eLfsKLNS15E1cYH50eTNMUEJiOwvqRO4dnmALxUAAAAASUVORK5CYII=\n",
       "\" style=\"display:inline;vertical-align:middle;\" /></a><br>"
      ],
      "text/plain": [
       "expr: (f(x , y) , f(a , b))"
      ]
     },
     "execution_count": 2,
     "metadata": {},
     "output_type": "execute_result"
    }
   ],
   "source": [
    "# build up the expression from sub-expressions\n",
    "expr = ExprTuple(fxy, fab)"
   ]
  },
  {
   "cell_type": "code",
   "execution_count": 3,
   "metadata": {},
   "outputs": [
    {
     "name": "stdout",
     "output_type": "stream",
     "text": [
      "Passed sanity check: built 'expr' is the same as the stored Expression.\n"
     ]
    }
   ],
   "source": [
    "# check that the built expression is the same as the stored expression\n",
    "%check_expr"
   ]
  },
  {
   "cell_type": "code",
   "execution_count": 4,
   "metadata": {},
   "outputs": [
    {
     "data": {
      "text/html": [
       "<table><tr><th>&nbsp;</th><th>core type</th><th>sub-expressions</th><th>expression</th></tr>\n",
       "<tr><td>0</td><td>ExprTuple</td><td>1, 2</td><td><a class=\"ProveItLink\" href=\"expr.ipynb\"><img src=\"data:image/png;base64,iVBORw0KGgoAAAANSUhEUgAAAJYAAAAVBAMAAABWCwqnAAAAMFBMVEX////c3NwiIiJERESqqqqY\n",
       "mJh2dnZmZmYQEBDu7u4yMjJUVFTMzMyIiIi6uroAAAAs73DqAAAAAXRSTlMAQObYZgAAAlNJREFU\n",
       "OMutlD9oE1Ecx79n7pK71EsziEuRZtGuGVoRRMhckN5clwxCJkU6dFAHLeKmBoRS2uFcHIJQ0lIQ\n",
       "hMCBo0MyGbFQrVPt0lQMEoji773fe/eneTj54Hf3vd993u/93u/9Af5nK/XMmpvz9d89YkiCH8SX\n",
       "19mB1tn2MKVN1NaagoS1hCd3ewits62Y0kbqjYLIfJlw+L0Grc/kX0+0kfqpIDK3KRxL0s0627xH\n",
       "iTZRpZGCyI6lZ0U+j01rM59IE5WvaGgeq0LeWnsrXkJf3L/Q50msr8KiQRtxtxRlde4+VvXs7AcM\n",
       "NfBaen7LJ2mv7lx25VCon8AfAItJDjGFo3JuoGpYxZihRTwXDmss/aTz1N+OxMf52gpyVeoWh0oo\n",
       "a4hCVdWwiacMHeGPcNg8CGkPUwry8AzTNNtuHCuhpgY4p1bzPvCLoS7H4gKydvWS2yN0o3SshJqu\n",
       "IozYOYfSUMd6IjdhW/qlno3Ai154hU9IzzGhZnu0P5pqexVGeo4LqVxIO+Uv8JuSK97DdXoty/lm\n",
       "qbCGd3YkvWO4dYaWeclDPsGkl4JruATvh8irLbKXQFjJUsXAnsuzdw8PoPfEN/H7hPMl/fLj+p0A\n",
       "3osyJXOjf0rObbKN0yxldQ7eH7B3qx8oaBsu9cJnLojUfDLKuth8hg5hog7TB42MjqTTXjh7jh2y\n",
       "XWzQUc7LItHYBiqIV7jH1oLbqihfKx3rCq7Sc1P3MlBxrE1lM3AaOusZ/VMkc7Mvai1vP1+En6D8\n",
       "eLfsKLNS15E1cYH50eTNMUEJiOwvqRO4dnmALxUAAAAASUVORK5CYII=\n",
       "\" style=\"display:inline;vertical-align:middle;\" /></a></td></tr>\n",
       "<tr><td>1</td><td>Operation</td><td>operator:&nbsp;4<br>operands:&nbsp;3<br></td><td><a class=\"ProveItLink\" href=\"../../../../__pv_it/26a41e4c7973655d76d6d10950b775ed4a17b0a30/expr.ipynb\"><img src=\"data:image/png;base64,iVBORw0KGgoAAAANSUhEUgAAAD0AAAAVBAMAAAAHs/uBAAAAMFBMVEX///8yMjLMzMwQEBAiIiJm\n",
       "Zma6urqYmJiqqqp2dnZERETc3NyIiIhUVFTu7u4AAAAe+HC4AAAAAXRSTlMAQObYZgAAAVpJREFU\n",
       "KM9jYCAa5GCIlEGot2c3AEmmCxjyrApgamV/AZBkfIBppACI4Pv2AkSdwWJlJYjg+ABm22GRfwy2\n",
       "xQFEsglgkedqYGBgv+wbAFI1gYGBe87tnhiwBN/UCQz7HzBwgmT4D4BEGIFufMlQUmACludk+8Bw\n",
       "Hmg1yND9YF8wJzAwTACKNYHlNYCWrgJaagBk94NF+IHyDxhuQS1+wHyA4Q8wTEBOnwKXZ2Cwgbms\n",
       "/wHTJ6j8WrAAM9CpDNyfGPgg8oEMPAZQ8yF6uIDuq+b5wHAOokKUgQsY3uwCoOCDuDiAgeM7lwH3\n",
       "AYb3oPCIZcgvAAsysP0Dy7M5MPCtmTfzODDQfgO5r87EAyONEegoHmjAWcNDLRtMToGEby3IYnhc\n",
       "gAFQgNeBzwLImsPAYPgEKoqIX6A8ywQuYHjzAY2ujIaKcsPSBw8oTs+EAUneDciRtQcj+g4xMAAA\n",
       "eNZNc+VJngUAAAAASUVORK5CYII=\n",
       "\" style=\"display:inline;vertical-align:middle;\" /></a></td></tr>\n",
       "<tr><td>2</td><td>Operation</td><td>operator:&nbsp;4<br>operands:&nbsp;5<br></td><td><a class=\"ProveItLink\" href=\"../../../../__pv_it/5168d6646831a60978a68ac8d3d1cc8c59bee5c30/expr.ipynb\"><img src=\"data:image/png;base64,iVBORw0KGgoAAAANSUhEUgAAADoAAAAVBAMAAADlb+D4AAAAMFBMVEX///8yMjLMzMwQEBAiIiJm\n",
       "Zma6urqYmJiqqqp2dnZERETc3NyIiIhUVFTu7u4AAAAe+HC4AAAAAXRSTlMAQObYZgAAAUhJREFU\n",
       "KM9jYCAS5KDx2RPA1NuzG4Ak0wUkmbcmQCIIzFzZXwAkGR8ga5QFiYAYfN9egKgzKMb+ABk9AUhw\n",
       "fADz7ZAl2f6BtBkACVYHMF8AWZYTLLYCqP+ybwBIDciYvSeTN4BlGe+cBbplKpDFfwDMB/LYrBnW\n",
       "Q/S+X8DwiYGhEcjarwDiMwN9t7+AIQoi2/+AwZKBIRnEAvP5gbL3GRh8ILKBDAxfGRj0gawpcNlf\n",
       "DHyfILKuDGzfIbJrwXzmBgbuP0Df8UG9y/oPYrINmM9VwMD3g4FXoIkBFGafGJiBfigEBRXEh0Bv\n",
       "iTO0BEzg+wLk3WCIZQD7CBwsQAro/71nktYk8NkDvfz2KCjoxRgYeKCBZA0PxQ1QBjAka7kKIOxK\n",
       "eLzCg/MAg+ETKBseg3DZh0At0VA2Nyz2D8BkbyPHyx60lMOjwAAAqGlMHimaZ/QAAAAASUVORK5C\n",
       "YII=\n",
       "\" style=\"display:inline;vertical-align:middle;\" /></a></td></tr>\n",
       "<tr><td>3</td><td>ExprTuple</td><td>6, 7</td><td><a class=\"ProveItLink\" href=\"../../../../__pv_it/8015af457c372be02f7b56fbcf0db088047bb4a30/expr.ipynb\"><img src=\"data:image/png;base64,iVBORw0KGgoAAAANSUhEUgAAACwAAAAVBAMAAADP3xFXAAAAMFBMVEX////c3NwiIiJERESqqqqY\n",
       "mJh2dnZmZmYQEBDu7u4yMjJUVFTMzMyIiIi6uroAAAAs73DqAAAAAXRSTlMAQObYZgAAAQtJREFU\n",
       "GNNjYMAB+C6gi7A+ABKnMVXWAPFKTGEuBgbeC5jCrAkMHBMwhTkbGF5hc4YJQxmQFLstch1i1rQy\n",
       "BsafDAzpDEuBehJYVTkUwMIJ7xl4PzAweDH0MTCwAZksB0CiPA5FDMwGDAwvGP4BVTNwG0DtYuhl\n",
       "4Acadx4kzMDAAXMly0+G8wdAwi0gnvwBBog72Rcw3GAAGWIKdL3AfQbeCWAJrgIGayAVBXQLg3+A\n",
       "BYMsA+cnkOoNfF8ZQA58xMAw+dq03AAGzn4BoJ221z8ChdcxcAjAQxjMYlMAex4YLLAAAuJNDDMc\n",
       "gFIXkAIWJKzGYAYkZwGxNEwY5Hbf66CY2QjEjBgBznuAAQAt5DtyKXSr1gAAAABJRU5ErkJggg==\n",
       "\" style=\"display:inline;vertical-align:middle;\" /></a></td></tr>\n",
       "<tr><td>4</td><td>Variable</td><td></td><td><a class=\"ProveItLink\" href=\"../../../../__pv_it/4d51ee1e62d011d06d4528b97697bf3da60c9de60/expr.ipynb\"><img src=\"data:image/png;base64,iVBORw0KGgoAAAANSUhEUgAAAAsAAAASBAMAAAB/WzlGAAAAMFBMVEX///8yMjLMzMwQEBAiIiJm\n",
       "Zma6urqYmJiqqqp2dnZERETc3NyIiIhUVFTu7u4AAAAe+HC4AAAAAXRSTlMAQObYZgAAAFVJREFU\n",
       "CNdjYGBgeHt2A5BkWNlfACT5vr0AcTg+gEgGVgcQyX7ZNwBE8x8AC+5XAFP9YJJhCoRaC6FswCTf\n",
       "NzDF9g9M8QiAyFoukPEMhk/AYpXRIBIAEwsRcZ82juYAAAAASUVORK5CYII=\n",
       "\" style=\"display:inline;vertical-align:middle;\" /></a></td></tr>\n",
       "<tr><td>5</td><td>ExprTuple</td><td>8, 9</td><td><a class=\"ProveItLink\" href=\"../../../../__pv_it/3ef8be78a6523378a12164ba78a5b01c5dea59700/expr.ipynb\"><img src=\"data:image/png;base64,iVBORw0KGgoAAAANSUhEUgAAACkAAAAVBAMAAAAp9toTAAAAMFBMVEX////c3NwiIiJERESqqqqY\n",
       "mJh2dnZmZmYQEBDu7u4yMjJUVFTMzMyIiIi6uroAAAAs73DqAAAAAXRSTlMAQObYZgAAAQxJREFU\n",
       "GNNtkSFPw1AQx3/burWlbJ1HgMPO4PsNqEKSBYOC1IAFEoIklXOtQRDMDAkhWdIEidkHgAVQBLOS\n",
       "ZQJDuGv3km7hiXv/+72Xe/+7B/+vzngF7Gt4rgD3YQvsTNRt9d7aUEIK7aUCfiBhD5y4SqeaDeBr\n",
       "6aUDDY2AU9lqo+OLkt693kMr4kb0Z7eRlx5m+BlWyrVcnWP3Cmr94PTpnPMLXk69dGKn+BHruVK/\n",
       "R5IVtB4xDZVewuaYXeKF3bNYK+xAEvBoZa7SjCtophxKm6G13SKREXiBPSycfajdydOEwbc4G53o\n",
       "MN5wuqavdyOk42bfJKERR9VJGurKJNlYJG1z6mnN2uoPvcAf68w9OrA141UAAAAASUVORK5CYII=\n",
       "\" style=\"display:inline;vertical-align:middle;\" /></a></td></tr>\n",
       "<tr><td>6</td><td>Variable</td><td></td><td><a class=\"ProveItLink\" href=\"../../../../__pv_it/530be409e3083890784cf1d7b28c9e67e90af9360/expr.ipynb\"><img src=\"data:image/png;base64,iVBORw0KGgoAAAANSUhEUgAAAAsAAAAJBAMAAAAWSsseAAAAKlBMVEX///9ERETMzMwQEBAiIiKY\n",
       "mJju7u5mZmaqqqpUVFSIiIh2dnbc3NwAAAA/vyDhAAAAAXRSTlMAQObYZgAAAENJREFUCNdjYDi9\n",
       "8sTyBQxsG1hdmR0YuBm4LnAoMLAxcAowgADzAjB1VoEhgYH1wFoGrgSG3gBhhlMMDImrs3cFMAAA\n",
       "t0YN+iTRa+sAAAAASUVORK5CYII=\n",
       "\" style=\"display:inline;vertical-align:middle;\" /></a></td></tr>\n",
       "<tr><td>7</td><td>Variable</td><td></td><td><a class=\"ProveItLink\" href=\"../../../../__pv_it/f8b9edf8e16034727f0aad55bb83e392c3db40d40/expr.ipynb\"><img src=\"data:image/png;base64,iVBORw0KGgoAAAANSUhEUgAAAAsAAAANBAMAAACN24kIAAAAMFBMVEX///+YmJhUVFQyMjIQEBBE\n",
       "REQiIiKqqqrMzMyIiIi6urrc3NxmZmZ2dnbu7u4AAADXeCicAAAAAXRSTlMAQObYZgAAAFhJREFU\n",
       "CNdj4LtzgWH/AwZerg8M8xkY2nkSGEIZGB6wTGD4ycDAUP+A4weQOszA6QCkbBhYFYDUIYb1AkDq\n",
       "6czzGxhA4BoQMyXwuQMptgusF4AU+8xTQBIAUqMVoSp/SLMAAAAASUVORK5CYII=\n",
       "\" style=\"display:inline;vertical-align:middle;\" /></a></td></tr>\n",
       "<tr><td>8</td><td>Variable</td><td></td><td><a class=\"ProveItLink\" href=\"../../../../__pv_it/07527342713064c87612d00d8557c53d53d5324a0/expr.ipynb\"><img src=\"data:image/png;base64,iVBORw0KGgoAAAANSUhEUgAAAAsAAAAJBAMAAAAWSsseAAAAMFBMVEX///8yMjKqqqrMzMzu7u4i\n",
       "IiJmZmaYmJhEREQQEBC6urp2dnaIiIhUVFTc3NwAAAD87Fq/AAAAAXRSTlMAQObYZgAAAEhJREFU\n",
       "CNdjYOC7s2seAwPDygccHxgY+L4zsDUwMPB+YGA9wMDA38Dgb8DA8P4Agz6DA4O/AsNFJgMGxgKm\n",
       "MG6gyjunLE4xAAAZTBA5TB6DCwAAAABJRU5ErkJggg==\n",
       "\" style=\"display:inline;vertical-align:middle;\" /></a></td></tr>\n",
       "<tr><td>9</td><td>Variable</td><td></td><td><a class=\"ProveItLink\" href=\"../../../../__pv_it/6840a4fa6c106149dc16a131294d0c5e44f1b0480/expr.ipynb\"><img src=\"data:image/png;base64,iVBORw0KGgoAAAANSUhEUgAAAAkAAAAOBAMAAAAPuiubAAAALVBMVEX///9mZmbMzMxERESYmJiI\n",
       "iIh2dna6urqqqqoyMjIiIiIQEBBUVFTu7u4AAAD9S1JeAAAAAXRSTlMAQObYZgAAAE1JREFUCNdj\n",
       "4D29gAEIOA+ASL4GEFl3AURmgQiGOaFHGBh4HzPwKTBwvGXgTmBgnMDAJ8DAJcBQ5wBSLncBJLWN\n",
       "gYGngRFoBO9REQYGAGrcDtUkVqASAAAAAElFTkSuQmCC\n",
       "\" style=\"display:inline;vertical-align:middle;\" /></a></td></tr>\n",
       "</table>\n"
      ],
      "text/plain": [
       "0. (f(x , y) , f(a , b))\n",
       "   core type: ExprTuple\n",
       "   sub-expressions: 1, 2\n",
       "1. f(x , y)\n",
       "   core type: Operation\n",
       "   operator: 4\n",
       "   operands: 3\n",
       "2. f(a , b)\n",
       "   core type: Operation\n",
       "   operator: 4\n",
       "   operands: 5\n",
       "3. (x , y)\n",
       "   core type: ExprTuple\n",
       "   sub-expressions: 6, 7\n",
       "4. f\n",
       "   core type: Variable\n",
       "   sub-expressions: \n",
       "5. (a , b)\n",
       "   core type: ExprTuple\n",
       "   sub-expressions: 8, 9\n",
       "6. x\n",
       "   core type: Variable\n",
       "   sub-expressions: \n",
       "7. y\n",
       "   core type: Variable\n",
       "   sub-expressions: \n",
       "8. a\n",
       "   core type: Variable\n",
       "   sub-expressions: \n",
       "9. b\n",
       "   core type: Variable\n",
       "   sub-expressions: "
      ]
     },
     "execution_count": 4,
     "metadata": {},
     "output_type": "execute_result"
    }
   ],
   "source": [
    "# display the expression information\n",
    "expr.exprInfo()"
   ]
  },
  {
   "cell_type": "code",
   "execution_count": null,
   "metadata": {},
   "outputs": [],
   "source": []
  }
 ],
 "metadata": {
  "kernelspec": {
   "display_name": "Python 3",
   "language": "python",
   "name": "python3"
  }
 },
 "nbformat": 4,
 "nbformat_minor": 0
}
