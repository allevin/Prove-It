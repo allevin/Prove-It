{
 "cells": [
  {
   "cell_type": "markdown",
   "metadata": {},
   "source": [
    "Show the Proof\n",
    "========"
   ]
  },
  {
   "cell_type": "code",
   "execution_count": 1,
   "metadata": {},
   "outputs": [
    {
     "data": {
      "text/html": [
       "<table><tr><th>&nbsp;</th><th>step type</th><th>requirements</th><th>statement</th></tr>\n",
       "<tr><td>0</td><td>assumption</td><td></td><td><span style=\"font-size:20px;\"><a class=\"ProveItLink\" href=\"../8bade139dff945254c524690682a037565b2646d0/expr.ipynb\"><img src=\"data:image/png;base64,iVBORw0KGgoAAAANSUhEUgAAAGMAAAAVBAMAAACgbk16AAAAMFBMVEX////c3NxERESqqqpUVFS6\n",
       "urrMzMwyMjIQEBCIiIh2dnYiIiLu7u5mZmaYmJgAAABXZE4RAAAAAXRSTlMAQObYZgAAAW9JREFU\n",
       "OMtjYGDgu8dALGBbJQCieHahiEbiUs4XANLTDGJyfkAxxwGb8iPdQOIaiHUdRHA1IEuyH8BqRQlI\n",
       "CsRYgallJnZXfQa5bAF2LT1YdbD+AXm6AasW1gKsWrg2gEhlrFp4QZaLzIoQQNXC7jnlAQPDWpgW\n",
       "XmSD2YEyrI0M+uDAKQcBkMcZziswfGNgMAey3oO4GcDwvr0bCEDxwwHkyD9guITmMPsDDF0MDBEg\n",
       "My8wMKS0wcRTgJgfqMWfgWEnmhZgbPxlYMgHMdWB7ohIQNPyiYHnG5qWvQys/yBauEGeZSlA0sJh\n",
       "wMD4k4H5Aw8D1LW7N0GihfcPxGHvEQEI1cL0gIHnM9AUM1RbvjFwAE1/jhHIbCAO0Hd1DNYXFqBq\n",
       "cWa4woAUyKhRCbRSZGaYZgBaspwL9DRDKfYE04g7s+BIMAyvcGvhmgDTwkdM4geB4/D8woMSb4wO\n",
       "OLU4goKoFZJDFyNLSOLSwZkAzfsAsFxiQq1eZvoAAAAASUVORK5CYII=\n",
       "\" style=\"display:inline;vertical-align:middle;\" /></a> <a class=\"ProveItLink\" href=\"proof.ipynb\" style=\"text-decoration: none\">&#x22A2;&nbsp;</a><a class=\"ProveItLink\" href=\"../18f2498ec00d4a83eb08f530895367f745a88c660/expr.ipynb\"><img src=\"data:image/png;base64,iVBORw0KGgoAAAANSUhEUgAAAE4AAAAVBAMAAAAazcUaAAAAMFBMVEX////c3NxERESqqqqYmJgQ\n",
       "EBDu7u4yMjKIiIi6urpUVFTMzMx2dnYiIiJmZmYAAABjE816AAAAAXRSTlMAQObYZgAAAR1JREFU\n",
       "KM9jYCAdzMAlwTIBmce9AJuarFgg8RpZhD0Bq2FVIClkgQ7sln4GWXwASSAMqzLOb0CCLQBJoACr\n",
       "Op4LIFIZIcAHMluqZ6oAqjr2FV0ODAznkASAXM5ABn0Q+3k5CIB8wJCvwPCbgcGc4e1dILgDFGAF\n",
       "BpK8A8MjNHvtExhiGBimQji7gJgfqG49A8MNNHXPGRj+MTDsR1X3iYHtN5q6ewycX1DUsRowMP5g\n",
       "YP7ABmSDHXP3EiT4+L6h2MvkwMD2mYGrwBrVvN8MrMCAcIdGLSigHjAwlDDYPjiAqm4xwysGlHDh\n",
       "BAaoVMdsjQlo6aAPGF4MlUgigbhTHHK8MfjgVsfTQDhdgUA6ModxAU51C1F4EriUcWxgAADkckc1\n",
       "/lI+/QAAAABJRU5ErkJggg==\n",
       "\" style=\"display:inline;vertical-align:middle;\" /></a></span></td></tr>\n",
       "</table>"
      ],
      "text/plain": [
       "<proveit._core_.proof._ShowProof at 0x7f94eb427828>"
      ]
     },
     "execution_count": 1,
     "metadata": {},
     "output_type": "execute_result"
    }
   ],
   "source": [
    "import proveit\n",
    "%show_proof"
   ]
  },
  {
   "cell_type": "code",
   "execution_count": null,
   "metadata": {},
   "outputs": [],
   "source": []
  }
 ],
 "metadata": {
  "kernelspec": {
   "display_name": "Python 3",
   "language": "python",
   "name": "python3"
  }
 },
 "nbformat": 4,
 "nbformat_minor": 0
}
