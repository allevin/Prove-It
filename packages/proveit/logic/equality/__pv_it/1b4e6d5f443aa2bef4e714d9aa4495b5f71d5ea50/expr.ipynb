{
 "cells": [
  {
   "cell_type": "markdown",
   "metadata": {},
   "source": [
    "Expression of type <a class=\"ProveItLink\" href=\"../../../../../../doc/html/api/proveit.number.Add.html\">Add</a>\n",
    "=======================\n",
    "# from context <a class=\"ProveItLink\" href=\"../../_context_.ipynb\">proveit.logic.equality</a>"
   ]
  },
  {
   "cell_type": "code",
   "execution_count": 1,
   "metadata": {},
   "outputs": [],
   "source": [
    "# import Expression classes needed to build the expression\n",
    "from proveit import Variable\n",
    "from proveit._common_ import b, c\n",
    "from proveit.number import Add, Div, Exp"
   ]
  },
  {
   "cell_type": "code",
   "execution_count": 2,
   "metadata": {},
   "outputs": [
    {
     "data": {
      "text/html": [
       "<strong id=\"expr\">expr:</strong> <a class=\"ProveItLink\" href=\"expr.ipynb\"><img src=\"data:image/png;base64,iVBORw0KGgoAAAANSUhEUgAAAL4AAAAVBAMAAAAKgUmDAAAAMFBMVEX////c3NxmZmbMzMxERESY\n",
       "mJiIiIh2dna6urqqqqoyMjIiIiIQEBBUVFTu7u4AAAAiO1wTAAAAAXRSTlMAQObYZgAAAcNJREFU\n",
       "OMtjYKAJYM9tu4xTkiOBKDNYG3DL1fE6nISw+O5sQJe0JdKRyrilGrgCYEyuC+iS64g0nwuPHL8A\n",
       "nDUByngIpdmQg4etAE8AFaDpRAI2DAZQVv8DKGMalOZ5gKTO/idu8/kOoOmEA+YPVQwwy6sZ0FR1\n",
       "IavkPognEDyxmP9ISUlpAp/bpPQHfECWJgPD2rSrqKrUQU4rTzPAZqJ4rmQSIviK0MzHpovvCwO/\n",
       "AYqqpaDga+DagC1ECli38iAkZqGZj00X5z8GngIUVSeA5hxjYAnAlm0Y2D5wIpzYg2o+Vl1MCxj4\n",
       "FVDM/8HAwPsBIrcbDBwQ7mfgdUCOfFTzobpQAbcCQz/QUq1Vq/asWrUWaj6/A64o5UlANx+hE6su\n",
       "YPLXf4DifmDGlsdZQsgbMDzAFT5YdQEj9zhqLLkCBYE+CsCSv1gF8hnYEOZHoZqP0IUEeCcwXUA1\n",
       "H5jqeBUY2A2w5K/5AT4MYgy40idCF3KSu6aKlsq6QXkgLQ8lf3G6AIEfw5P052UBMA4Dwwo0nXBd\n",
       "WAG8fBAgsnzDXT5gBW3oxRbBSiQBTSeRgNjy+RWZlZsskeoukmk+I3H1I5sBEYoAd8xvz/JB+bsA\n",
       "AAAASUVORK5CYII=\n",
       "\" style=\"display:inline;vertical-align:middle;\" /></a><br>"
      ],
      "text/plain": [
       "expr: b + (c / _x_) + c^{_x_}"
      ]
     },
     "execution_count": 2,
     "metadata": {},
     "output_type": "execute_result"
    }
   ],
   "source": [
    "# build up the expression from sub-expressions\n",
    "subExpr1 = Variable(\"_x_\", latexFormat = r\"{_{-}x_{-}}\")\n",
    "expr = Add(b, Div(c, subExpr1), Exp(c, subExpr1))"
   ]
  },
  {
   "cell_type": "code",
   "execution_count": 3,
   "metadata": {},
   "outputs": [
    {
     "name": "stdout",
     "output_type": "stream",
     "text": [
      "Passed sanity check: built 'expr' is the same as the stored Expression.\n"
     ]
    }
   ],
   "source": [
    "# check that the built expression is the same as the stored expression\n",
    "%check_expr"
   ]
  },
  {
   "cell_type": "code",
   "execution_count": 4,
   "metadata": {},
   "outputs": [
    {
     "data": {
      "text/html": [
       "<table><tr><th>&nbsp;</th><th>core type</th><th>sub-expressions</th><th>expression</th></tr>\n",
       "<tr><td>0</td><td>Operation</td><td>operator:&nbsp;1<br>operands:&nbsp;2<br></td><td><a class=\"ProveItLink\" href=\"expr.ipynb\"><img src=\"data:image/png;base64,iVBORw0KGgoAAAANSUhEUgAAAL4AAAAVBAMAAAAKgUmDAAAAMFBMVEX////c3NxmZmbMzMxERESY\n",
       "mJiIiIh2dna6urqqqqoyMjIiIiIQEBBUVFTu7u4AAAAiO1wTAAAAAXRSTlMAQObYZgAAAcNJREFU\n",
       "OMtjYKAJYM9tu4xTkiOBKDNYG3DL1fE6nISw+O5sQJe0JdKRyrilGrgCYEyuC+iS64g0nwuPHL8A\n",
       "nDUByngIpdmQg4etAE8AFaDpRAI2DAZQVv8DKGMalOZ5gKTO/idu8/kOoOmEA+YPVQwwy6sZ0FR1\n",
       "IavkPognEDyxmP9ISUlpAp/bpPQHfECWJgPD2rSrqKrUQU4rTzPAZqJ4rmQSIviK0MzHpovvCwO/\n",
       "AYqqpaDga+DagC1ECli38iAkZqGZj00X5z8GngIUVSeA5hxjYAnAlm0Y2D5wIpzYg2o+Vl1MCxj4\n",
       "FVDM/8HAwPsBIrcbDBwQ7mfgdUCOfFTzobpQAbcCQz/QUq1Vq/asWrUWaj6/A64o5UlANx+hE6su\n",
       "YPLXf4DifmDGlsdZQsgbMDzAFT5YdQEj9zhqLLkCBYE+CsCSv1gF8hnYEOZHoZqP0IUEeCcwXUA1\n",
       "H5jqeBUY2A2w5K/5AT4MYgy40idCF3KSu6aKlsq6QXkgLQ8lf3G6AIEfw5P052UBMA4Dwwo0nXBd\n",
       "WAG8fBAgsnzDXT5gBW3oxRbBSiQBTSeRgNjy+RWZlZsskeoukmk+I3H1I5sBEYoAd8xvz/JB+bsA\n",
       "AAAASUVORK5CYII=\n",
       "\" style=\"display:inline;vertical-align:middle;\" /></a></td></tr>\n",
       "<tr><td>1</td><td>Literal</td><td></td><td><a class=\"ProveItLink\" href=\"../../../../number/addition/__pv_it/3e6688136fa3c7aefbebe51301b7c3ebf0b69c440/expr.ipynb\"><img src=\"data:image/png;base64,iVBORw0KGgoAAAANSUhEUgAAAA4AAAAOBAMAAADtZjDiAAAAJFBMVEX///+6urpUVFQQEBAiIiIy\n",
       "MjJmZmaIiIiqqqrc3Nzu7u4AAACgHpL+AAAAAXRSTlMAQObYZgAAAB5JREFUCNdjYGBgWMkAAe2k\n",
       "0Kmhoc6hoUGk6BMHYgAHOwjcado9fwAAAABJRU5ErkJggg==\n",
       "\" style=\"display:inline;vertical-align:middle;\" /></a></td></tr>\n",
       "<tr><td>2</td><td>ExprTuple</td><td>3, 4, 5</td><td><a class=\"ProveItLink\" href=\"../d41795807df39969b34a8620c8c38773a357ccfc0/expr.ipynb\"><img src=\"data:image/png;base64,iVBORw0KGgoAAAANSUhEUgAAAJ0AAAAVBAMAAACu6/FQAAAAMFBMVEX////c3NwiIiJERESqqqqY\n",
       "mJh2dnZmZmYQEBDu7u4yMjJUVFTMzMyIiIi6uroAAAAs73DqAAAAAXRSTlMAQObYZgAAAb1JREFU\n",
       "OMtjYKAUsN1+uweZz3eBMvMyuQ1aoMw4EHGagXOHAgXmPeAKgDHZDwCJlQwMXBsocSC/AJy5gIGB\n",
       "F+hdfgd0NbwJxJt3guEAjBnGwMAxgYHh/QR0Nee/EGsaz4csBrjlMxgYXgGpJAxVTI1EGDW9vLzc\n",
       "gdPW/doETiCrBCjC7MBQBqRW390KUcGZdvcANp1it0WuoyYD7CrZChiWAuU+M/BDJE884MIW1ZwJ\n",
       "rKocqBLYVbIsYOgDkj8ZOMBBwNnLwByALcky8H5gQXEODpV8DQz/gMlmAQN/AYjL/QGSjJTAwACh\n",
       "m4HbAFUjVCVm5IDMYypgeA+2jN8AV9BzoGUiHCqB5rWAk189OMXI48x68gcYUNIUDpVA/5oygCKj\n",
       "DegnIAPoygAs6ZlV4D4DL9y8CSgqUQDrAoZ0YGA4sG9gmA+MLu4CBrYDWNKzf4AFgyw8MD8xIKtE\n",
       "Ty+PgCr2lgKT9kcgv+zuTZT0zGIMBJYMk69Nyw2AcTj7BZBVogCuBwwcsNz8kNgcxieAUwqY31hh\n",
       "IRVArHmsuKVyIeUVtczjBJZXDNLQEoro8gl3ec4NCglGCst7JHCHgQEADGlqOQrEAX8AAAAASUVO\n",
       "RK5CYII=\n",
       "\" style=\"display:inline;vertical-align:middle;\" /></a></td></tr>\n",
       "<tr><td>3</td><td>Variable</td><td></td><td><a class=\"ProveItLink\" href=\"../../../../__pv_it/6840a4fa6c106149dc16a131294d0c5e44f1b0480/expr.ipynb\"><img src=\"data:image/png;base64,iVBORw0KGgoAAAANSUhEUgAAAAkAAAAOBAMAAAAPuiubAAAALVBMVEX///9mZmbMzMxERESYmJiI\n",
       "iIh2dna6urqqqqoyMjIiIiIQEBBUVFTu7u4AAAD9S1JeAAAAAXRSTlMAQObYZgAAAE1JREFUCNdj\n",
       "4D29gAEIOA+ASL4GEFl3AURmgQiGOaFHGBh4HzPwKTBwvGXgTmBgnMDAJ8DAJcBQ5wBSLncBJLWN\n",
       "gYGngRFoBO9REQYGAGrcDtUkVqASAAAAAElFTkSuQmCC\n",
       "\" style=\"display:inline;vertical-align:middle;\" /></a></td></tr>\n",
       "<tr><td>4</td><td>Operation</td><td>operator:&nbsp;6<br>operands:&nbsp;8<br></td><td><a class=\"ProveItLink\" href=\"../30feb04d4e5ab7678596aee75f877763f8e622700/expr.ipynb\"><img src=\"data:image/png;base64,iVBORw0KGgoAAAANSUhEUgAAAEgAAAAMBAMAAAAzCuYOAAAAMFBMVEX///+qqqpmZmbc3NxUVFSY\n",
       "mJhEREQiIiIyMjK6uroQEBDMzMyIiIh2dnbu7u4AAAA4MM1YAAAAAXRSTlMAQObYZgAAAJJJREFU\n",
       "GNNjYICDswyEAfd/ASJUVRngluO7e2YDNnHbI4aHDsA4uyZwFGDTe4G1lAsmwbeGgS0AiyJeBp4P\n",
       "jDArWD6AKfVyEChDMomBJQHO4U/A5VguuIsY7A/gUmS/geEBzCSggwKwBCarwXkGHpgiFgUG3g1Y\n",
       "AlM+IIvBBs7TPXMOJTAZ04Agj+HZ2bd3AqAcAClSJy/zFmmxAAAAAElFTkSuQmCC\n",
       "\" style=\"display:inline;vertical-align:middle;\" /></a></td></tr>\n",
       "<tr><td>5</td><td>Operation</td><td>operator:&nbsp;7<br>operands:&nbsp;8<br></td><td><a class=\"ProveItLink\" href=\"../27e52d9f344aeada3c1ba711ccee55b17334f0a60/expr.ipynb\"><img src=\"data:image/png;base64,iVBORw0KGgoAAAANSUhEUgAAACgAAAAQBAMAAACW+SCeAAAAMFBMVEX///+qqqpmZmbc3NxUVFSY\n",
       "mJhEREQiIiIyMjK6uroQEBDMzMyIiIh2dnbu7u4AAAA4MM1YAAAAAXRSTlMAQObYZgAAAGxJREFU\n",
       "GNNjYEAA3iNzvBnQwT2WhIUYghM4AhgwAb8BFsFdDBvQhbg/3GC4gMR/pKSkJMCXI3T2AR+QpcjA\n",
       "wHf3zAZMgyZwFKCL8a1hYMNwCcsHbG5LwCJofwCbSqCBmGYqMPBiOkn3zDl0IQA9HBfo8g/qZwAA\n",
       "AABJRU5ErkJggg==\n",
       "\" style=\"display:inline;vertical-align:middle;\" /></a></td></tr>\n",
       "<tr><td>6</td><td>Literal</td><td></td><td><a class=\"ProveItLink\" href=\"../../../../number/division/__pv_it/089f5ca61fe425d4f6ef7efa2138c1a2fa47180c0/expr.ipynb\"><img src=\"data:image/png;base64,iVBORw0KGgoAAAANSUhEUgAAAA4AAAAMBAMAAACgrpHpAAAAIVBMVEX///9ERERmZmbc3NwQEBAi\n",
       "IiKqqqrMzMx2dnaIiIgAAACeyUhQAAAAAXRSTlMAQObYZgAAACJJREFUCNdjYGBgmMEABuyrEiCM\n",
       "EAMG3EA1FAQCsUlhMwcALk0GeoeEfOIAAAAASUVORK5CYII=\n",
       "\" style=\"display:inline;vertical-align:middle;\" /></a></td></tr>\n",
       "<tr><td>7</td><td>Literal</td><td></td><td><a class=\"ProveItLink\" href=\"../../../../number/exponentiation/__pv_it/deb2bf23cbccdd6e6791e1b35b5b9794ce12dbd50/expr.ipynb\"><img src=\"data:image/png;base64,iVBORw0KGgoAAAANSUhEUgAAACgAAAASBAMAAADbMYGVAAAAMFBMVEX///8QEBAiIiKYmJjc3Nzu\n",
       "7u7MzMx2dnZmZma6urpERESqqqoyMjJUVFSIiIgAAAAoDOMTAAAAAXRSTlMAQObYZgAAAOBJREFU\n",
       "GNNjYGB4+//u3Tt/GNAASGAXmhjnPyDBgSbI/g1IxKEJ8nxgYGdgQRPkX8BgDKRY6q7s62OYvmze\n",
       "2wAgb/7ZO1+AVDiDkYEQQ0HTBr4DQF59AgOIKmB4z7CNbcNZBu6vQN55kEACQwDDLQYGVobfDHwg\n",
       "fb8YGBxYHwAZciD3fWXg+gB1JjvQcJZvQIXsCgz8F6DO9GBgMOH7wPCUgaeBwd4B7EwGNjUG7s9c\n",
       "AiwPgO5jkWRgiF3/9+5dfQUG1nWl5Y+B7pv+1gE9bBhqGLCAE1jEWH9jEbT5A3IwAC4sP/1L6Qlu\n",
       "AAAAAElFTkSuQmCC\n",
       "\" style=\"display:inline;vertical-align:middle;\" /></a></td></tr>\n",
       "<tr><td>8</td><td>ExprTuple</td><td>9, 10</td><td><a class=\"ProveItLink\" href=\"../11ed2302eb9e212e10ffd1926afb085129a6aaa90/expr.ipynb\"><img src=\"data:image/png;base64,iVBORw0KGgoAAAANSUhEUgAAAEYAAAAVBAMAAAAJGoXuAAAAMFBMVEX////c3NwiIiJERESqqqqY\n",
       "mJh2dnZmZmYQEBDu7u4yMjJUVFTMzMyIiIi6uroAAAAs73DqAAAAAXRSTlMAQObYZgAAAPdJREFU\n",
       "KM9jYCAG8F3AK836AEicJmBGDRCvJKCGi4GB9wIBNawJDBwTCKjhbGB4RdBTJgxlIKVpdw8gi4rd\n",
       "FrmOcEI6w1IgeeIBlwKy6QmsqhwIAS+GPqBYLwNzAJIaNgbeDywIg18w/GNg4P6A5koGbgMk7nmQ\n",
       "Gn4DdGdyXEBR08LAII8RRPIHGCYg2WUKNAfomABOpFATuM/Ai1ATBfQZA3cBA9uB+QiP+AdYMMgy\n",
       "IPn9EZAsu3uTYcZHBgYWYyCwZJh8bVpuAIzDwLCOgUMAqvwh7rgARhkEBOBQw3YBkTZwqZkFxNIQ\n",
       "Ji+uKN0IxIz4ExDvAQYAENs19IilfwwAAAAASUVORK5CYII=\n",
       "\" style=\"display:inline;vertical-align:middle;\" /></a></td></tr>\n",
       "<tr><td>9</td><td>Variable</td><td></td><td><a class=\"ProveItLink\" href=\"../../../../__pv_it/cbdfda466482236edba0ce44ac7ef39cda0af7a40/expr.ipynb\"><img src=\"data:image/png;base64,iVBORw0KGgoAAAANSUhEUgAAAAkAAAAJBAMAAAASvxsjAAAALVBMVEX///9mZmbc3NxUVFSYmJhE\n",
       "REQiIiIyMjK6uroQEBDMzMyIiIh2dnbu7u4AAABgFDGoAAAAAXRSTlMAQObYZgAAADZJREFUCNdj\n",
       "YOA9s3sBA8PKBvYEBt7ZDKwODMwPGICALwBE6m0Asx0YGIDiAgw8QJUyu/cyAAAmuwmycZ8WfQAA\n",
       "AABJRU5ErkJggg==\n",
       "\" style=\"display:inline;vertical-align:middle;\" /></a></td></tr>\n",
       "<tr><td>10</td><td>Variable</td><td></td><td><a class=\"ProveItLink\" href=\"../5144cf74ae6a683b49b974f1b9302b432abf7e930/expr.ipynb\"><img src=\"data:image/png;base64,iVBORw0KGgoAAAANSUhEUgAAACUAAAAJBAMAAABH3vh9AAAAKlBMVEX////MzMwQEBAiIiKYmJhm\n",
       "ZmZUVFSIiIh2dnbc3Nzu7u5ERESqqqoAAABwkVEpAAAAAXRSTlMAQObYZgAAAEtJREFUCNdjYIAA\n",
       "zvbM4+EMqGAFg7ODMppYA0Mtw0E0sQUM2QyYQB1TiPMiAxeakCf7BYYqVCGeK9wKnAUw3undQLCA\n",
       "a3tXRwmMAwC3+RVNp6j0GAAAAABJRU5ErkJggg==\n",
       "\" style=\"display:inline;vertical-align:middle;\" /></a></td></tr>\n",
       "</table>\n"
      ],
      "text/plain": [
       "0. b + (c / _x_) + c^{_x_}\n",
       "   core type: Operation\n",
       "   operator: 1\n",
       "   operands: 2\n",
       "1. +\n",
       "   core type: Literal\n",
       "   sub-expressions: \n",
       "2. (b , c / _x_ , c^{_x_})\n",
       "   core type: ExprTuple\n",
       "   sub-expressions: 3, 4, 5\n",
       "3. b\n",
       "   core type: Variable\n",
       "   sub-expressions: \n",
       "4. c / _x_\n",
       "   core type: Operation\n",
       "   operator: 6\n",
       "   operands: 8\n",
       "5. c^{_x_}\n",
       "   core type: Operation\n",
       "   operator: 7\n",
       "   operands: 8\n",
       "6. /\n",
       "   core type: Literal\n",
       "   sub-expressions: \n",
       "7. Exp\n",
       "   core type: Literal\n",
       "   sub-expressions: \n",
       "8. (c , _x_)\n",
       "   core type: ExprTuple\n",
       "   sub-expressions: 9, 10\n",
       "9. c\n",
       "   core type: Variable\n",
       "   sub-expressions: \n",
       "10. _x_\n",
       "    core type: Variable\n",
       "    sub-expressions: "
      ]
     },
     "execution_count": 4,
     "metadata": {},
     "output_type": "execute_result"
    }
   ],
   "source": [
    "# display the expression information\n",
    "expr.exprInfo()"
   ]
  },
  {
   "cell_type": "code",
   "execution_count": null,
   "metadata": {},
   "outputs": [],
   "source": []
  }
 ],
 "metadata": {
  "kernelspec": {
   "display_name": "Python 3",
   "language": "python",
   "name": "python3"
  }
 },
 "nbformat": 4,
 "nbformat_minor": 0
}
