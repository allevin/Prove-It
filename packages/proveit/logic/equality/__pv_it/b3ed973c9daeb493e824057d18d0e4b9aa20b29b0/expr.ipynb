{
 "cells": [
  {
   "cell_type": "markdown",
   "metadata": {},
   "source": [
    "Expression of type <a class=\"ProveItLink\" href=\"../../../../../../doc/html/api/proveit.logic.Set.html\">Set</a>\n",
    "=======================\n",
    "# from context <a class=\"ProveItLink\" href=\"../../_context_.ipynb\">proveit.logic.equality</a>"
   ]
  },
  {
   "cell_type": "code",
   "execution_count": 1,
   "metadata": {},
   "outputs": [],
   "source": [
    "# import Expression classes needed to build the expression\n",
    "from proveit._common_ import a\n",
    "from proveit.logic import Equals, FALSE, Implies, Set"
   ]
  },
  {
   "cell_type": "code",
   "execution_count": 2,
   "metadata": {},
   "outputs": [
    {
     "data": {
      "text/html": [
       "<strong id=\"expr\">expr:</strong> <a class=\"ProveItLink\" href=\"../291306a416167346004dda9466772da923aa68990/expr.ipynb\"><img src=\"data:image/png;base64,iVBORw0KGgoAAAANSUhEUgAAAIUAAAAVBAMAAACakjBMAAAAMFBMVEX///9ERETc3NyqqqpUVFS6\n",
       "urrMzMwyMjIQEBCIiIh2dnYiIiLu7u5mZmaYmJgAAABJJ2g3AAAAAXRSTlMAQObYZgAAAZ1JREFU\n",
       "OMtjYGDgu8dANmBbpQCieHbhVhKJTz9fAMiQZhCT8wNuWxxwSDBNAJHXQMR1EMHVgNMM9gO4DL8A\n",
       "lgYRK7CbAdc5kwGvGXwLcJtRA2P04DeDpwG3GSFQmrUAvxkMwihmMHkubYKr4JoAoXlBblWZFaGA\n",
       "y4y1MDN4QbZFKDCCood3Nxj8hQbpA6BbmhjkwarKwcABxQxzIH4PYmQAo5npHwOvAMIa5lIwxQGU\n",
       "0X/AcBGnXyJAFgGZKW1ABssHBu4JSGqOt4JIfqAZ/gwMO3GakQ8ixIGujUgAqhZgOJ+ApKTqAMyM\n",
       "jww83/CawQ0KNBZgeOhPYLAHJQtoeGyEpBAOAwamnwzMH3gQISWA4RdweHBtYGA4b8Dgzgx3CDM0\n",
       "5BgfMPB8Btphhssdz5Hjlv0B814uuAp1WBwDVdYxWF9YQDBuQWYweU5NnApXIQRLY0AXqswMkwxA\n",
       "NQDkrW6wt0pxp1O4p5rwFx740jocvMJvBjg9g83gIyPvQ1MRvPzg2YlTEZMDXjOcQKHbCinTFuNU\n",
       "pYnPCM4EaHkKAFeNdPqYj1I/AAAAAElFTkSuQmCC\n",
       "\" style=\"display:inline;vertical-align:middle;\" /></a><br>"
      ],
      "text/plain": [
       "expr: {a => (a = FALSE)}"
      ]
     },
     "execution_count": 2,
     "metadata": {},
     "output_type": "execute_result"
    }
   ],
   "source": [
    "# build up the expression from sub-expressions\n",
    "expr = Set(Implies(a, Equals(a, FALSE)))"
   ]
  },
  {
   "cell_type": "code",
   "execution_count": 3,
   "metadata": {},
   "outputs": [
    {
     "name": "stdout",
     "output_type": "stream",
     "text": [
      "Passed sanity check: built 'expr' is the same as the stored Expression.\n"
     ]
    }
   ],
   "source": [
    "# check that the built expression is the same as the stored expression\n",
    "%check_expr"
   ]
  },
  {
   "cell_type": "code",
   "execution_count": 4,
   "metadata": {},
   "outputs": [
    {
     "data": {
      "text/html": [
       "<table><tr><th>&nbsp;</th><th>core type</th><th>sub-expressions</th><th>expression</th></tr>\n",
       "<tr><td>0</td><td>Operation</td><td>operator:&nbsp;1<br>operands:&nbsp;2<br></td><td><a class=\"ProveItLink\" href=\"../291306a416167346004dda9466772da923aa68990/expr.ipynb\"><img src=\"data:image/png;base64,iVBORw0KGgoAAAANSUhEUgAAAIUAAAAVBAMAAACakjBMAAAAMFBMVEX///9ERETc3NyqqqpUVFS6\n",
       "urrMzMwyMjIQEBCIiIh2dnYiIiLu7u5mZmaYmJgAAABJJ2g3AAAAAXRSTlMAQObYZgAAAZ1JREFU\n",
       "OMtjYGDgu8dANmBbpQCieHbhVhKJTz9fAMiQZhCT8wNuWxxwSDBNAJHXQMR1EMHVgNMM9gO4DL8A\n",
       "lgYRK7CbAdc5kwGvGXwLcJtRA2P04DeDpwG3GSFQmrUAvxkMwihmMHkubYKr4JoAoXlBblWZFaGA\n",
       "y4y1MDN4QbZFKDCCood3Nxj8hQbpA6BbmhjkwarKwcABxQxzIH4PYmQAo5npHwOvAMIa5lIwxQGU\n",
       "0X/AcBGnXyJAFgGZKW1ABssHBu4JSGqOt4JIfqAZ/gwMO3GakQ8ixIGujUgAqhZgOJ+ApKTqAMyM\n",
       "jww83/CawQ0KNBZgeOhPYLAHJQtoeGyEpBAOAwamnwzMH3gQISWA4RdweHBtYGA4b8Dgzgx3CDM0\n",
       "5BgfMPB8Btphhssdz5Hjlv0B814uuAp1WBwDVdYxWF9YQDBuQWYweU5NnApXIQRLY0AXqswMkwxA\n",
       "NQDkrW6wt0pxp1O4p5rwFx740jocvMJvBjg9g83gIyPvQ1MRvPzg2YlTEZMDXjOcQKHbCinTFuNU\n",
       "pYnPCM4EaHkKAFeNdPqYj1I/AAAAAElFTkSuQmCC\n",
       "\" style=\"display:inline;vertical-align:middle;\" /></a></td></tr>\n",
       "<tr><td>1</td><td>Literal</td><td></td><td><a class=\"ProveItLink\" href=\"../../../set_theory/enumeration/__pv_it/07381ed5b23806e8d7914b78cb6667769e3708dd0/expr.ipynb\"><img src=\"data:image/png;base64,iVBORw0KGgoAAAANSUhEUgAAAB4AAAAOBAMAAADKyLEKAAAAMFBMVEX///8iIiIQEBCIiIjMzMzc\n",
       "3Nyqqqp2dnZEREQyMjK6urru7u5mZmZUVFSYmJgAAACI6eGPAAAAAXRSTlMAQObYZgAAALRJREFU\n",
       "CNdjYGDgu3Nm3wIGBJjHwN0PZW5yYGDgLWBgyITy8zcwMMQDxZyh/INAvD6BgcEFypcB4vjPDiBm\n",
       "TPFRrhs/LjMwMP//38rAwCbKEMPA9gEkE3fp0waG+AUMRxh4JkC01T9guPTOOICBEWgVH5C//wHD\n",
       "H5D4fqCz9oCMDGD4DLaegRXslLMMDMpAgxlOMmQxHDRgYG5gYLBk4D7KcIe7gOHC2rt9QCXsh40Z\n",
       "GCKMGQDRkC8N/Ph1XAAAAABJRU5ErkJggg==\n",
       "\" style=\"display:inline;vertical-align:middle;\" /></a></td></tr>\n",
       "<tr><td>2</td><td>ExprTuple</td><td>3</td><td><a class=\"ProveItLink\" href=\"../806432e25034361ec3f18ca1beebc8f46d5d9c4c0/expr.ipynb\"><img src=\"data:image/png;base64,iVBORw0KGgoAAAANSUhEUgAAAH4AAAAVBAMAAAByPkciAAAAMFBMVEX////c3NwiIiJERESqqqqY\n",
       "mJh2dnZmZmYQEBDu7u4yMjJUVFTMzMyIiIi6uroAAAAs73DqAAAAAXRSTlMAQObYZgAAAXtJREFU\n",
       "OMtjYKAU8F3AJfMWnzbWBxDMcBqXCp4NOCQYwTbWQPFKXPq5JuAyuAAsDcG86M6H67rLgFc/awIY\n",
       "c6DbAndPJ379nA1g/Apd9jUsXBfg189gAsZloADZm9cIl2WDeogd6D4G6WsvBHDpTwfjpUDyhQDz\n",
       "B5AOJTD4Dg2+AKAbGhnswWatAoMNKPq9wLgPaP1XBnYDhPEs68AUBzBy5QMYinG6/wUY/2Ng4P7A\n",
       "wIQcC7P6QCQ/UP9+BgZdnPrPgzFQP78Bw/wDSNLLJsD0f2bg/ENAfwvQlRcY/EHRDvW/MiRGORwY\n",
       "GP8ysHzgRISMARb3mzIwzHdg2MUCdwALNJSYAxg4vzBwL/DBZX8UGKeDQppFnQ0uKwWLR6CqpQxO\n",
       "BQn44+8RKPrvHb4HlzWEpR8FYPTffWP7AFUzyCtNYK+AomkdAwd6+oB7pBF/voemX9YEXArC8OsH\n",
       "pVMQJj3/QlMJFEvjUsC4Aa/+jVDMiLP8ksWnnfcAGAMAvhZnEbSWuqMAAAAASUVORK5CYII=\n",
       "\" style=\"display:inline;vertical-align:middle;\" /></a></td></tr>\n",
       "<tr><td>3</td><td>Operation</td><td>operator:&nbsp;4<br>operands:&nbsp;5<br></td><td><a class=\"ProveItLink\" href=\"../../../boolean/__pv_it/d097935f1332407b5d8202166eb035caec0c0bd60/expr.ipynb\"><img src=\"data:image/png;base64,iVBORw0KGgoAAAANSUhEUgAAAHAAAAAVBAMAAABs93eRAAAAMFBMVEX///8yMjKqqqrMzMzu7u4i\n",
       "IiJmZmaYmJhEREQQEBC6urp2dnaIiIhUVFTc3NwAAAD87Fq/AAAAAXRSTlMAQObYZgAAAUJJREFU\n",
       "OMtjYKA2WINPkn0BTinmCzgk+A6AyGScGhkdcJmYAJZGF4YrP8OAVyP7BjRhERhjCn6NLBPQhNdC\n",
       "aS4B/BoZmoC+vbNrHlyY+wCEZgM55e3plQ9wadzGwLDyAccHkNJQMPgGDZsCoK3zGPrBhgiCwQUU\n",
       "jYoMfN8Z2BoQBjJJgSlOYES9L2DIwOnUlQy8HxhYDyBJOM4CkfxAjfcZGGJwarRn4G9g8DdAEpd2\n",
       "gGn8wcDyGY/G9wcY9EHRB/VjBCQmORUY+P4wMH1gQfi+Ac2p/goMF5ngVjJBg4CjgIHlEwOvgDIu\n",
       "GwuB4ccUxg0XfgiLFqC0OINqwgbc0cF355TFKbhwHywBBACj8cziHrRcAHL1VLCrpdDMg7t5Hv5M\n",
       "h5Hk4KAav0buAyRnK2hs45Thu4BX4z3cUm/w6eMxYAAAJ2dNNn4Lml0AAAAASUVORK5CYII=\n",
       "\" style=\"display:inline;vertical-align:middle;\" /></a></td></tr>\n",
       "<tr><td>4</td><td>Literal</td><td></td><td><a class=\"ProveItLink\" href=\"../../../boolean/implication/__pv_it/e5c030cabcb650938f92dee8256fe11cd12bf9b30/expr.ipynb\"><img src=\"data:image/png;base64,iVBORw0KGgoAAAANSUhEUgAAABMAAAANBAMAAAC5okgUAAAALVBMVEX////c3NxERETMzMwQEBCq\n",
       "qqoiIiJmZmaIiIh2dnZUVFS6uroyMjLu7u4AAACPpZJTAAAAAXRSTlMAQObYZgAAAD1JREFUCNdj\n",
       "YAABXgY44LkAZ3IvQAjPABFlaSCQV4AQjtkAZ/IegbNt5sLUpunC5aPgLMYDcCaTAJzJDCIA2yMN\n",
       "HCCUuIIAAAAASUVORK5CYII=\n",
       "\" style=\"display:inline;vertical-align:middle;\" /></a></td></tr>\n",
       "<tr><td>5</td><td>ExprTuple</td><td>9, 6</td><td><a class=\"ProveItLink\" href=\"../../../boolean/__pv_it/4494700ab11d3bcd7db851be9f1cced0c39f90bc0/expr.ipynb\"><img src=\"data:image/png;base64,iVBORw0KGgoAAAANSUhEUgAAAFcAAAAVBAMAAADBdm84AAAAMFBMVEX////c3NwiIiJERESqqqqY\n",
       "mJh2dnZmZmYQEBDu7u4yMjJUVFTMzMyIiIi6uroAAAAs73DqAAAAAXRSTlMAQObYZgAAAQVJREFU\n",
       "KM9jYCAJ8F0gTl0ciDhNWJ0siGA/ACRWElZ8HEwuYGDgvUCs4jAGBo4JxCqewcDwioFYxcwODGVA\n",
       "inFvXiNEGMHCVMxWwLAUSL0QYP4AEYaxqlaBwGoUxSwLGPqAxn1lYDeAGAxnYTGZr4HhHwMD9wcG\n",
       "JkiYIFhYFPN8ACnmN2CYfwDMR7CwK25hYJC/wODPAA5BOKtICQSU0Z1hysAw34FhF8sBTgYYC4fJ\n",
       "rAsY0hkYuAJY1NkY5ivAWLiD7hEocO8dvscw4yOMhQqALtIAu4jrAQOHAEz0IYF4BEY3awKME0BA\n",
       "cS5yEiWgmBOYRBmkoRxeAgZzg9zLSGS2usPAAAAjJEzKBcjZVgAAAABJRU5ErkJggg==\n",
       "\" style=\"display:inline;vertical-align:middle;\" /></a></td></tr>\n",
       "<tr><td>6</td><td>Operation</td><td>operator:&nbsp;7<br>operands:&nbsp;8<br></td><td><a class=\"ProveItLink\" href=\"../../../boolean/__pv_it/f7ad4ee335017e89431f696941e3f7d091e264ab0/expr.ipynb\"><img src=\"data:image/png;base64,iVBORw0KGgoAAAANSUhEUgAAADYAAAAOBAMAAACWQvIuAAAAMFBMVEX///8yMjKqqqrMzMzu7u4i\n",
       "IiJmZmaYmJhEREQQEBC6urp2dnaIiIhUVFTc3NwAAAD87Fq/AAAAAXRSTlMAQObYZgAAAGZJREFU\n",
       "GNNjYMAO3jDgBmY0k+O7s2seLrmVDzg+gOhEQRCQRZbj+87A1oBDH+8HBtYDOOT4Gxj8DXDIvT/A\n",
       "oM/gAGSkhoJABLKcvwLDRSYD7PoYC5jCuHGYyXfnlMUpNAmg8ZFA4wHScBlQMGMH1QAAAABJRU5E\n",
       "rkJggg==\n",
       "\" style=\"display:inline;vertical-align:middle;\" /></a></td></tr>\n",
       "<tr><td>7</td><td>Literal</td><td></td><td><a class=\"ProveItLink\" href=\"../2fb26078095930560931daa0500ce419a39ea6cd0/expr.ipynb\"><img src=\"data:image/png;base64,iVBORw0KGgoAAAANSUhEUgAAAA4AAAAFBAMAAACHocAhAAAAFVBMVEX///9EREQiIiJUVFQyMjJm\n",
       "ZmYAAADubVkoAAAAAXRSTlMAQObYZgAAABRJREFUCNdjCHEBAWcGXCBICQQUAUpuAwlgGKrkAAAA\n",
       "AElFTkSuQmCC\n",
       "\" style=\"display:inline;vertical-align:middle;\" /></a></td></tr>\n",
       "<tr><td>8</td><td>ExprTuple</td><td>9, 10</td><td><a class=\"ProveItLink\" href=\"../../../boolean/__pv_it/cab5df937a78a89cab33aef3ea54f83744f7aa390/expr.ipynb\"><img src=\"data:image/png;base64,iVBORw0KGgoAAAANSUhEUgAAADEAAAAVBAMAAAAdjxsPAAAAMFBMVEX////c3NwiIiJERESqqqqY\n",
       "mJh2dnZmZmYQEBDu7u4yMjJUVFTMzMyIiIi6uroAAAAs73DqAAAAAXRSTlMAQObYZgAAANtJREFU\n",
       "KM9jYMAN+C5gEYwDEafRBGVBBPsBILESTeY4mFzAwMB7AatMGAMDxwSsMjMYGF4xYJVhdmAoA9HS\n",
       "114IoMqwFTAsBTm8kcEeTQ/LAoY+ICUfwFCMJsPXwPAPSO1nYNBFk+H5AJb5zMD5B1OmhYGB8S8D\n",
       "ywdODNNMGRg4vzBwL/BhmIAsw7qAIR1ILWVwKkjg/ITm6kcg79x9Y/uAsx/opSIlJQ0lJWUGBq4H\n",
       "DBxwL/IJIIUEMHRYE2AcVuQwykWOBWQZzgUgS2A85OjgBpnMiC227zAwAABqrDU+mSpKtgAAAABJ\n",
       "RU5ErkJggg==\n",
       "\" style=\"display:inline;vertical-align:middle;\" /></a></td></tr>\n",
       "<tr><td>9</td><td>Variable</td><td></td><td><a class=\"ProveItLink\" href=\"../../../../__pv_it/07527342713064c87612d00d8557c53d53d5324a0/expr.ipynb\"><img src=\"data:image/png;base64,iVBORw0KGgoAAAANSUhEUgAAAAsAAAAJBAMAAAAWSsseAAAAMFBMVEX///8yMjKqqqrMzMzu7u4i\n",
       "IiJmZmaYmJhEREQQEBC6urp2dnaIiIhUVFTc3NwAAAD87Fq/AAAAAXRSTlMAQObYZgAAAEhJREFU\n",
       "CNdjYOC7s2seAwPDygccHxgY+L4zsDUwMPB+YGA9wMDA38Dgb8DA8P4Agz6DA4O/AsNFJgMGxgKm\n",
       "MG6gyjunLE4xAAAZTBA5TB6DCwAAAABJRU5ErkJggg==\n",
       "\" style=\"display:inline;vertical-align:middle;\" /></a></td></tr>\n",
       "<tr><td>10</td><td>Literal</td><td></td><td><a class=\"ProveItLink\" href=\"../../../boolean/__pv_it/8f1f7fac882de28c72b62ab80a1700b6d8fd066b0/expr.ipynb\"><img src=\"data:image/png;base64,iVBORw0KGgoAAAANSUhEUgAAAA4AAAAOBAMAAADtZjDiAAAAG1BMVEX///9EREQQEBAiIiJmZmbM\n",
       "zMyIiIjc3NwAAACryk5kAAAAAXRSTlMAQObYZgAAABlJREFUCNdjYGBgKGOAgBBa0s7GxkbGxoYA\n",
       "FMUF2aBfHgoAAAAASUVORK5CYII=\n",
       "\" style=\"display:inline;vertical-align:middle;\" /></a></td></tr>\n",
       "</table>\n"
      ],
      "text/plain": [
       "0. {a => (a = FALSE)}\n",
       "   core type: Operation\n",
       "   operator: 1\n",
       "   operands: 2\n",
       "1. Set\n",
       "   core type: Literal\n",
       "   sub-expressions: \n",
       "2. (a => (a = FALSE))\n",
       "   core type: ExprTuple\n",
       "   sub-expressions: 3\n",
       "3. a => (a = FALSE)\n",
       "   core type: Operation\n",
       "   operator: 4\n",
       "   operands: 5\n",
       "4. =>\n",
       "   core type: Literal\n",
       "   sub-expressions: \n",
       "5. (a , a = FALSE)\n",
       "   core type: ExprTuple\n",
       "   sub-expressions: 9, 6\n",
       "6. a = FALSE\n",
       "   core type: Operation\n",
       "   operator: 7\n",
       "   operands: 8\n",
       "7. =\n",
       "   core type: Literal\n",
       "   sub-expressions: \n",
       "8. (a , FALSE)\n",
       "   core type: ExprTuple\n",
       "   sub-expressions: 9, 10\n",
       "9. a\n",
       "   core type: Variable\n",
       "   sub-expressions: \n",
       "10. FALSE\n",
       "    core type: Literal\n",
       "    sub-expressions: "
      ]
     },
     "execution_count": 4,
     "metadata": {},
     "output_type": "execute_result"
    }
   ],
   "source": [
    "# display the expression information\n",
    "expr.exprInfo()"
   ]
  },
  {
   "cell_type": "code",
   "execution_count": null,
   "metadata": {},
   "outputs": [],
   "source": []
  }
 ],
 "metadata": {
  "kernelspec": {
   "display_name": "Python 3",
   "language": "python",
   "name": "python3"
  }
 },
 "nbformat": 4,
 "nbformat_minor": 0
}
