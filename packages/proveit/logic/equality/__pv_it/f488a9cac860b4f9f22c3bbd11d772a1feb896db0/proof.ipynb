{
 "cells": [
  {
   "cell_type": "markdown",
   "metadata": {},
   "source": [
    "Show the Proof\n",
    "========"
   ]
  },
  {
   "cell_type": "code",
   "execution_count": 1,
   "metadata": {},
   "outputs": [
    {
     "data": {
      "text/html": [
       "<table><tr><th>&nbsp;</th><th>step type</th><th>requirements</th><th>statement</th></tr>\n",
       "<tr><td>0</td><td>assumption</td><td></td><td><span style=\"font-size:20px;\"><a class=\"ProveItLink\" href=\"../f2d1e24483380053a97b05258b791504abffcbaf0/expr.ipynb\"><img src=\"data:image/png;base64,iVBORw0KGgoAAAANSUhEUgAAAEMAAAAVBAMAAADvM06qAAAAMFBMVEX////c3NxERESqqqpUVFS6\n",
       "urrMzMwyMjIQEBCIiIh2dnYiIiLu7u5mZmaYmJgAAABXZE4RAAAAAXRSTlMAQObYZgAAASVJREFU\n",
       "KM9jYGDgu8eAC7CtEgBRPLsYcAO2ZhDJ+QGozGMDqtTyT/UVmwyAjOsgHlcDkGB3QNOuEMlTswpI\n",
       "r4Ar4TfAUMIwlR1FSfwBiMzJ6t3bYUrsWA4gK1kNdV3dASRThFBMKZnpB2ILHUBYxLZPB6aEtwDo\n",
       "o08M/AlAtiLCLdH7f0wA0u9BnIwABgbmPwwcC4AqFZCdO9MI5NULDAwpbRCT+IFs1u7duxHOZWIF\n",
       "6mJQf8DAEAG0gfsCQzyQyeaAbAoTA9BQbpAylgJwsNwHupRnA4YSsFu4gOJAt3aB2H4oSkAWwT3N\n",
       "YsALtuN0AJKSt5OQw4XHE5IgGGsT4NGo3WKAEnQwwOwO9REMYCrBAGAlfHiVgNMLz058qa4VTPEt\n",
       "xp92AZ9LUMNIwjO9AAAAAElFTkSuQmCC\n",
       "\" style=\"display:inline;vertical-align:middle;\" /></a> <a class=\"ProveItLink\" href=\"proof.ipynb\" style=\"text-decoration: none\">&#x22A2;&nbsp;</a><a class=\"ProveItLink\" href=\"../0840bff5bda91759ff73cf4f6280e60fa5f0627e0/expr.ipynb\"><img src=\"data:image/png;base64,iVBORw0KGgoAAAANSUhEUgAAAC8AAAAPBAMAAACGpYupAAAAMFBMVEX////c3NxmZmbMzMxERESY\n",
       "mJiIiIh2dna6urqqqqoyMjIiIiIQEBBUVFTu7u4AAAAiO1wTAAAAAXRSTlMAQObYZgAAAMZJREFU\n",
       "GNNj4LuzgQEFVH1Zv2bLBCCD6wKqBINDG9+6ciDNPwFDgiGDC0j3P4Dwn63evQsmMZUXKFgNEWde\n",
       "+gBJhwiQXpt2FcQVeYAwinmrHwMD3xcGfgMg1xFhR/f+PwkMDJz/GHgKgPIOyJanTWFgYFrAwK/A\n",
       "wMBxevduhOUsHAUM3AoM/QFAuy8g62BhcAB5Qx9oL98GDAkDhuMg7lUUCaBRvBOYwKa8bkCSCEoB\n",
       "mnFNFcxlXGQAD0Tvs8jBxHkL6ioIAAAv0zyPYuajHgAAAABJRU5ErkJggg==\n",
       "\" style=\"display:inline;vertical-align:middle;\" /></a></span></td></tr>\n",
       "</table>"
      ],
      "text/plain": [
       "<proveit._core_.proof._ShowProof at 0x7f94ebc311d0>"
      ]
     },
     "execution_count": 1,
     "metadata": {},
     "output_type": "execute_result"
    }
   ],
   "source": [
    "import proveit\n",
    "%show_proof"
   ]
  },
  {
   "cell_type": "code",
   "execution_count": null,
   "metadata": {},
   "outputs": [],
   "source": []
  }
 ],
 "metadata": {
  "kernelspec": {
   "display_name": "Python 3",
   "language": "python",
   "name": "python3"
  }
 },
 "nbformat": 4,
 "nbformat_minor": 0
}
