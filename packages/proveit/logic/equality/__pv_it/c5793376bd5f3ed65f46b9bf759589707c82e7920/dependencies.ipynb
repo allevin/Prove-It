{
 "cells": [
  {
   "cell_type": "markdown",
   "metadata": {},
   "source": [
    "Axiom Dependencies\n",
    "=======================\n",
    "\n",
    "## <a class=\"ProveItLink\" href=\"../../_context_.ipynb\">proveit.logic.equality</a>.<a class=\"ProveItLink\" href=\"../../_axioms_.ipynb#notEqualsDef\">notEqualsDef</a> \n"
   ]
  },
  {
   "cell_type": "code",
   "execution_count": 1,
   "metadata": {},
   "outputs": [],
   "source": [
    "from proveit.logic.equality._axioms_ import notEqualsDef"
   ]
  },
  {
   "cell_type": "code",
   "execution_count": 2,
   "metadata": {},
   "outputs": [
    {
     "data": {
      "text/html": [
       "<h3>Theorems that depend directly on notEqualsDef</h3>"
      ],
      "text/plain": [
       "<IPython.core.display.HTML object>"
      ]
     },
     "metadata": {},
     "output_type": "display_data"
    },
    {
     "data": {
      "text/html": [
       "<dl>"
      ],
      "text/plain": [
       "<IPython.core.display.HTML object>"
      ]
     },
     "metadata": {},
     "output_type": "display_data"
    },
    {
     "data": {
      "text/html": [
       "<dt><a class=\"ProveItLink\" href=\"../../_proofs_/foldNotEquals.ipynb\">proveit.logic.equality.foldNotEquals</a></dt><dd><a class=\"ProveItLink\" href=\"../40f17a21e536dd79e090d454cc9966420e03bacb0/expr.ipynb\"><img src=\"data:image/png;base64,iVBORw0KGgoAAAANSUhEUgAAALkAAAAXCAMAAABgZR7wAAAAPFBMVEX///8LCwsYGBgNDQ0oKCgQ\n",
       "EBC6urrMzMxUVFRmZmZERETc3NwyMjKqqqp2dnaIiIiYmJgiIiLu7u4AAACwKje0AAAAAXRSTlMA\n",
       "QObYZgAAAnhJREFUWMPVV9my5CAIdRb3BZf//9cRE20Tjcntmepb40OqYgQOBwRCyH+74rdaZ7D+\n",
       "7vRs1zN8htc7fBw4F+vv2sz3JUevbH01n6f/zqRgV4Lolqr+qY8DB3iP8pwfrvNb2o8jp+9STiIt\n",
       "8HVZ4fPX09zcgkUWKOQ5KVzB/QUGzW+PTCIqd5PagdAW5Dl31EFrdOW8TiVQTmJMygGlH5B0BfyB\n",
       "13w8Y/wOKQc+eEJr1KUp6/cvfLbq4whLeDfSRgTGi+HHaB5Qq764fyzNg9+U7ZA2PJavKOeWSHRN\n",
       "bcYYrSUd/PvI7aNGMHKTWOuFYlTNxLljUrSTNmO8UI+oQ3wf+ZNEa1k5Ii/0j86bs1aLGc4T75Bn\n",
       "Nmozy3eFQTXBQB1L1wVyOpF9tfemY6jetN1aXfBUQzLk9fNHKOtlU2LQYDe2ZUsmba+cLmLcdo0R\n",
       "SNKE0zvOuTnKClMXHHSwc6tXW4Z6vV07iEvKicFyonYlfjNqZWjFw7SE15HlbVBT5E5tyzREB9mZ\n",
       "Dn5O9FLZchJ4orJrGhZZXjjPWyz5XvaQZqnzVeRrL2DJed6yYiY76hiQs8JXVOCic6cSMVKOB0FW\n",
       "E2a/I74FCgPL+7JF+R1ypo6yqsuWXgcbxOnl1bbyorSGrvv3GZuIM6XA6uJztsgSuUMew1H2hK7p\n",
       "8G46N03XpNSJgIBtrQZDPKzMsUMcGDwrQJk1cl7NvGRP7DUdkj2ecmeU43ii3FVv6PnIxOtjml9V\n",
       "RVhMmZ2OiTUtHlOe+x0038Wig3BdPDyOcxfI42qmazqmnVbDlwakShVfU45eukfzib0eHV46xHf+\n",
       "714a9/dTrvvX/4p/AKhQG9K7cHihAAAAAElFTkSuQmCC\n",
       "\" style=\"display:inline;vertical-align:middle;\" /></a></dd>"
      ],
      "text/plain": [
       "<IPython.core.display.HTML object>"
      ]
     },
     "metadata": {},
     "output_type": "display_data"
    },
    {
     "data": {
      "text/html": [
       "<dt><a class=\"ProveItLink\" href=\"../../_proofs_/notEqualsInBool.ipynb\">proveit.logic.equality.notEqualsInBool</a></dt><dd><a class=\"ProveItLink\" href=\"../0964cdb517a602567f119a9610542d8c3e2df75c0/expr.ipynb\"><img src=\"data:image/png;base64,iVBORw0KGgoAAAANSUhEUgAAAKYAAAAWCAMAAAB9nBcwAAAAPFBMVEX///8LCwsYGBgNDQ0oKCgQ\n",
       "EBC6urrMzMxUVFRmZmZERETc3NwyMjKqqqp2dnaIiIiYmJgiIiLu7u4AAACwKje0AAAAAXRSTlMA\n",
       "QObYZgAAAoRJREFUSMfVV8cW3CAMJIXe4f//NYiyNhhYnFOiw+rZHpvRSEIsQv+HhfevENv7pRk5\n",
       "uenIu9UK3l/X9uw9ynq/NKmmtzn9EpyKQkWFvdAX3uj2WB0K23Bf8Wyhm/q2goBEBRWM+eClaLGL\n",
       "M5bW9v6tmClt5oQmsqQGlPFNFK7PaOLQ+9diooD7S6t8MjXS1A6x8ME7I7P5w/5RvV+X8Do74q4I\n",
       "VS4s1GwJzvgowLw5o8lN76WxTGrLHyUguk4JJr8gI1Ay/FYaIsyTTr1rjzKe5e8JedhArvMhLe68\n",
       "Q/iTDK6y/f4Fv5/NwCASoaDhB+l7guW0Nr2PEbfQM57At4I63MYw6bypa2u6FZNqxCEQkdNIruIM\n",
       "Yt1CVteHBQ/vW3dIM5LOQ1rYZCnCxiGStYlZIBovHPbVHi0ErlRWwQNFH/6OZhZ2sjWpMZcaqpJG\n",
       "OtCczogPTSRuNFPCGzr1A7GMtmEonhsP1r2HtqD3octBmp8/ikSXzhzUshiNSfcHNCteyLrHmQAZ\n",
       "rAyCRVEiiodPuM47WdrChr2YSEG3iqKGuyWYuQ3NmvSK17zGRK5OTioFkm7bofDaZlK8jg6JFIi0\n",
       "u8rMaqZbJLruG0VOsqDpeFu74W/VFW86sBQMGwqP+LsPwpo0escGfIoJSMvrxxXpZupwFilHD+Ex\n",
       "a3XV8NccgBzT++aDx50Gy95PTPPF2cfPhiXSTPWdvh+u0FFG5b1QZj0SRRJXB4fNAWKybTAPy+na\n",
       "p+9OnCM+JUbzlEUg7HKYVqj3B7mZmDCLRQnseJI0Vjt8oinlszShmFjvT8REOlVmrTAm39Hc4anM\n",
       "0U/PQa2t5SJ5+38Rlr5jucW7ooBB/4b9AfILHlxEhVHRAAAAAElFTkSuQmCC\n",
       "\" style=\"display:inline;vertical-align:middle;\" /></a></dd>"
      ],
      "text/plain": [
       "<IPython.core.display.HTML object>"
      ]
     },
     "metadata": {},
     "output_type": "display_data"
    },
    {
     "data": {
      "text/html": [
       "<dt><a class=\"ProveItLink\" href=\"../../_proofs_/unfoldNotEquals.ipynb\">proveit.logic.equality.unfoldNotEquals</a></dt><dd><a class=\"ProveItLink\" href=\"../38779c63c7ca10709484d9771bf5465a3e774ee90/expr.ipynb\"><img src=\"data:image/png;base64,iVBORw0KGgoAAAANSUhEUgAAAL8AAAAXCAMAAABte263AAAAOVBMVEX///8oKCgUFBQJCQkQEBC6\n",
       "urrMzMxUVFRmZmZERETc3NwyMjKqqqp2dnaIiIiYmJgiIiLu7u4AAACP9cC6AAAAAXRSTlMAQObY\n",
       "ZgAAAmJJREFUWMPVV4lu5CAMZXfDffP/H7uYAIEZSEg7kVpLlRuM4YGfbQahXy7+8R2wuWs4F4tb\n",
       "7Y5x8wh8Qu8aroSRRmtVhuUzoZgu+/X9ZKMFzx/1n8+KMXcNCwzSjS7XwNQj+Dd/17CQs1ujrRZJ\n",
       "3DPJK+8aVoSrRgcO4vQj+Jm+MAhtqFCGXbDJ6+QgQoqaZvto0jSlMxcLl3m2wdhf2lkO2owrMsBZ\n",
       "tNXwM9lILVEa4QBJE9KXysFLGsMkvxJOvlDUXlm+n5m5Kroz6AxKkfMirOISgGCHgHMC7BoMxn4P\n",
       "v5gU84AnVT8bgA70uvLFaRswLOw0IwE1GrA7/z38M/pd4U+hWKmkCphPAhngj9wpq8ZkwoaS0t95\n",
       "X+da/N1MhPXYA21qgv8wiASq+jRUc+7YkQHBTcebqrmgmY0egpmX9gYFgcg2vP86k6Y8+xf/zMAD\n",
       "cTvBnw1W7DlpruIvodTw7GxlpxVztcAcBUN4HIcNH+LvZpbsefeola45QGtQwSIezysuKcQidBxs\n",
       "v2rRDQNDQ2QaWUHNjP/HTM9nHgjP2uJu8Nxor/VC9YgzDStbStxrW6MHwSdt8dvIBH+eySNz/v6R\n",
       "iT/vHvFr1le2hYbzItoN3g8tpIC0TDVZSFg9IsFhWH+OmX3tfPU43lrTR9iaUAdwVakdvW5ipFgM\n",
       "KOCDiCpquBziP2bC8JF7rx4fez9D2+P5xKXXnvbciF+IFzKP6786LvLN46SzzQ3DTSL7S8egotfD\n",
       "hi3SeftXIj/9NYEGHgnnrLaIr/0CMKTXs+uHM+vr/mtVd0vPPGM/I/TnQfoP0pMahBS79IEAAAAA\n",
       "SUVORK5CYII=\n",
       "\" style=\"display:inline;vertical-align:middle;\" /></a></dd>"
      ],
      "text/plain": [
       "<IPython.core.display.HTML object>"
      ]
     },
     "metadata": {},
     "output_type": "display_data"
    },
    {
     "data": {
      "text/html": [
       "</dl>"
      ],
      "text/plain": [
       "<IPython.core.display.HTML object>"
      ]
     },
     "metadata": {},
     "output_type": "display_data"
    }
   ],
   "source": [
    "%dependencies notEqualsDef"
   ]
  }
 ],
 "metadata": {
  "kernelspec": {
   "display_name": "Python 3",
   "language": "python",
   "name": "python3"
  }
 },
 "nbformat": 4,
 "nbformat_minor": 0
}
