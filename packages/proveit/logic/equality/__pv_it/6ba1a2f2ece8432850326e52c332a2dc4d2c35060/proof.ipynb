{
 "cells": [
  {
   "cell_type": "markdown",
   "metadata": {},
   "source": [
    "Show the Proof\n",
    "========"
   ]
  },
  {
   "cell_type": "code",
   "execution_count": 1,
   "metadata": {},
   "outputs": [
    {
     "data": {
      "text/html": [
       "<table><tr><th>&nbsp;</th><th>step type</th><th>requirements</th><th>statement</th></tr>\n",
       "<tr><td>0</td><td>assumption</td><td></td><td><span style=\"font-size:20px;\"><a class=\"ProveItLink\" href=\"../e224aba433807df10103cd9fc32565e36d4963320/expr.ipynb\"><img src=\"data:image/png;base64,iVBORw0KGgoAAAANSUhEUgAAAEQAAAAVBAMAAAAN71XTAAAAMFBMVEX///9ERETc3NyqqqpUVFS6\n",
       "urrMzMwyMjIQEBCIiIh2dnYiIiLu7u5mZmaYmJgAAABJJ2g3AAAAAXRSTlMAQObYZgAAAQVJREFU\n",
       "KM9jYGDgu8eAE2QtApE8uxjwgAwDIMH5AZc0q8QFBt4CIIOrAacR/AYQWTxK4g8QVLKagaCSWiQl\n",
       "p24xMP1Bk2fyXPoZqgTk5gXxEI/xloOBA0hJhAIjUBcfSDgjgIHN4DYDowCaIf8gHgZaltIGDD2G\n",
       "Tgb+CahKWD4wcC8A0ox1QAMTGBiY/zDkJ6CFiQDD+QAgDQp7lgKwe2aAxHl3gwHITv0JDPYMByBu\n",
       "4drAwMB+gUEEzUPnDRjcmRMQnuZ1YP2HpoT9AfNeLqRw4ZGc+wkjWKYmTkUJXZB12ABciTfDCQM8\n",
       "SvgaQD6TwhFN4ODj2cnAYDk3AFeqA0vwLcafdgHAuEZp8e00IAAAAABJRU5ErkJggg==\n",
       "\" style=\"display:inline;vertical-align:middle;\" /></a> <a class=\"ProveItLink\" href=\"proof.ipynb\" style=\"text-decoration: none\">&#x22A2;&nbsp;</a><a class=\"ProveItLink\" href=\"../9cd34a172bf613a471604ca079a89df5722a51ef0/expr.ipynb\"><img src=\"data:image/png;base64,iVBORw0KGgoAAAANSUhEUgAAADIAAAASBAMAAADrvZC0AAAAMFBMVEX///+YmJhUVFQyMjIQEBBE\n",
       "REQiIiKqqqrMzMyIiIi6urrc3NxmZmZ2dnbu7u4AAADXeCicAAAAAXRSTlMAQObYZgAAALlJREFU\n",
       "GNNjYMAOlvow4ALfcUlw/cMlw5uAS4b5AAPfnQsM+x+giW+au76AgZfrA8N8EO+wMQgYgS3xZoh/\n",
       "wNDOk8AQiqZlvwDDYQaGBywTGH6iyegzMOQCqfoHHD/QZL4y8P0Cmc/A6QDiHksDgVQgi/snA/sH\n",
       "PgYGGwZWBVQtfN8ZmAwqGBgOMawXQDPNkKHswAUGhqczz29A987MFZELQIxr2IOBKYHPHbsM2wXW\n",
       "C9hl2Geewi4BAGPGL+b7L2/VAAAAAElFTkSuQmCC\n",
       "\" style=\"display:inline;vertical-align:middle;\" /></a></span></td></tr>\n",
       "</table>"
      ],
      "text/plain": [
       "<proveit._core_.proof._ShowProof at 0x7f94ebf668d0>"
      ]
     },
     "execution_count": 1,
     "metadata": {},
     "output_type": "execute_result"
    }
   ],
   "source": [
    "import proveit\n",
    "%show_proof"
   ]
  },
  {
   "cell_type": "code",
   "execution_count": null,
   "metadata": {},
   "outputs": [],
   "source": []
  }
 ],
 "metadata": {
  "kernelspec": {
   "display_name": "Python 3",
   "language": "python",
   "name": "python3"
  }
 },
 "nbformat": 4,
 "nbformat_minor": 0
}
