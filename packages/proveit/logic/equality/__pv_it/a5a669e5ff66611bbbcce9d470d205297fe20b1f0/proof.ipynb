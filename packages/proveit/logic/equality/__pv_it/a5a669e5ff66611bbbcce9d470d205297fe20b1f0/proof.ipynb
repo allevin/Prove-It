{
 "cells": [
  {
   "cell_type": "markdown",
   "metadata": {},
   "source": [
    "Show the Proof\n",
    "========"
   ]
  },
  {
   "cell_type": "code",
   "execution_count": 1,
   "metadata": {},
   "outputs": [
    {
     "data": {
      "text/html": [
       "<table><tr><th>&nbsp;</th><th>step type</th><th>requirements</th><th>statement</th></tr>\n",
       "<tr><td>0</td><td>assumption</td><td></td><td><span style=\"font-size:20px;\"><a class=\"ProveItLink\" href=\"../e45ddeb66af7fd7386ae3c87fbee01468f99543d0/expr.ipynb\"><img src=\"data:image/png;base64,iVBORw0KGgoAAAANSUhEUgAAAGcAAAAVBAMAAACphe0AAAAAMFBMVEX////c3NxERESqqqpUVFS6\n",
       "urrMzMwyMjIQEBCIiIh2dnYiIiLu7u5mZmaYmJgAAABXZE4RAAAAAXRSTlMAQObYZgAAAXRJREFU\n",
       "OMtjYGDgu8dAPGBbJQCieHahiEbi1sAXANLVDGJyfkAxyQGPNddAxHUQwdWALM5+AI8mdhCxAlPT\n",
       "THwe4luAXVMPPk08DVg1sRbgDTtlrJp4gQ5gXOloeRNN9albDIx/GBjWwjTxIhvO/gCogOH1g25w\n",
       "OJWDQAmIuSAeHMrmQOZ7ED8DGPq8u0EAaAsHkLOAYT6DGVqUGtxmYFJgYIgAmXuBgSGlDTmK+IGa\n",
       "DjA4YYQAQycD/wQGhnwQRx3omogENE0MQBXogPkPQ34CRBM3KNxZCpA0cRgAGYzfgEYDwW2wozdB\n",
       "PT6DAeI8sJ+4NiBpYgJa/RDo5TnoaeECgwqQeo4Z5ED7uS4wMP9jamCcgKaJ14H1HwNSkKNG7gYG\n",
       "Hs01q+ZhhITm3I9AqhR7MmrElRhAvsCRjBheYdfizXACGERcE2Ca+IjJGrsYtIDkcXh+4tmJLMuI\n",
       "PRNazgVFoCMojFshuWQxsrQk7jTOmQAtIwAQYWG6oj8lswAAAABJRU5ErkJggg==\n",
       "\" style=\"display:inline;vertical-align:middle;\" /></a> <a class=\"ProveItLink\" href=\"proof.ipynb\" style=\"text-decoration: none\">&#x22A2;&nbsp;</a><a class=\"ProveItLink\" href=\"../d228eea8592f74f3d21e84da082b133ceb9bc72e0/expr.ipynb\"><img src=\"data:image/png;base64,iVBORw0KGgoAAAANSUhEUgAAAFEAAAAVBAMAAADMaB9/AAAAMFBMVEX////c3NxERESqqqqYmJgQ\n",
       "EBDu7u4yMjKIiIi6urpUVFTMzMx2dnYiIiJmZmYAAABjE816AAAAAXRSTlMAQObYZgAAASBJREFU\n",
       "KM9jYCADcDbglvNE4e3CYwrfBmReGT4LC5DYHA34VPogsVkT8KlMRWJPx+tdJgME+w0Qy3QJ96E5\n",
       "gu3cAQb5BAaeBwihEqDoAZYrrBdAXi0HgwVAJg/nB4Z+BgbmAoa3d4HgDlAoEijKwPGBeQOqmZv5\n",
       "LjAoAQM7ABGUP4FmMnApoDswgbWB4QcDA/cHFJXAAMAMKvsE7t+oKoNBDPkNDKDA4rsLBmALnjNw\n",
       "BKDarsLAwCLQz8CBHqx1DExAn7FAI4kbiM8BLXJQZZBAt/0Vw3wHBpRQmsvAkNSTc8IBXWVSx3sB\n",
       "Bgb2CUixKYArfs6ixSbLAazKuC6wgfx6gnCq4z3ABDSCDTnVMUhhVcnc8RJkMorTGPEk0G4GBgDJ\n",
       "bUZHqfFSGQAAAABJRU5ErkJggg==\n",
       "\" style=\"display:inline;vertical-align:middle;\" /></a></span></td></tr>\n",
       "</table>"
      ],
      "text/plain": [
       "<proveit._core_.proof._ShowProof at 0x7f94ebd24240>"
      ]
     },
     "execution_count": 1,
     "metadata": {},
     "output_type": "execute_result"
    }
   ],
   "source": [
    "import proveit\n",
    "%show_proof"
   ]
  },
  {
   "cell_type": "code",
   "execution_count": null,
   "metadata": {},
   "outputs": [],
   "source": []
  }
 ],
 "metadata": {
  "kernelspec": {
   "display_name": "Python 3",
   "language": "python",
   "name": "python3"
  }
 },
 "nbformat": 4,
 "nbformat_minor": 0
}
