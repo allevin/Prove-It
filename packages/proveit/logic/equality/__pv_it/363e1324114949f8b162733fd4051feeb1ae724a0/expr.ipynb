{
 "cells": [
  {
   "cell_type": "markdown",
   "metadata": {},
   "source": [
    "Expression of type <a class=\"ProveItLink\" href=\"../../../../../../doc/html/api/proveit.logic.Set.html\">Set</a>\n",
    "=======================\n",
    "# from context <a class=\"ProveItLink\" href=\"../../_context_.ipynb\">proveit.logic.equality</a>"
   ]
  },
  {
   "cell_type": "code",
   "execution_count": 1,
   "metadata": {},
   "outputs": [],
   "source": [
    "# import Expression classes needed to build the expression\n",
    "from proveit._common_ import a, b\n",
    "from proveit.logic import Implies, Not, NotEquals, Set"
   ]
  },
  {
   "cell_type": "code",
   "execution_count": 2,
   "metadata": {},
   "outputs": [
    {
     "data": {
      "text/html": [
       "<strong id=\"expr\">expr:</strong> <a class=\"ProveItLink\" href=\"../d38b61f5daf27423fb3809708efadb457c6c064f0/expr.ipynb\"><img src=\"data:image/png;base64,iVBORw0KGgoAAAANSUhEUgAAAJsAAAAVCAMAAABmBWwWAAAAPFBMVEX///8LCwsYGBgNDQ0oKCjc\n",
       "3NxERESqqqpUVFS6urrMzMwyMjIQEBCIiIh2dnYiIiLu7u5mZmaYmJgAAADzuxXdAAAAAXRSTlMA\n",
       "QObYZgAAAiFJREFUSMfNV0lyxCAMdBb23fz/r7ExAgMCu5JLOMxQjKQWLdEw23aOPezb/xnSWgJz\n",
       "7yxMhZl67OJ99EWYNCo2jiA1yzMTyxofHDzX7poF+XrjfP07Ufh6RQhgYTUsKY94KEBSb3NDw9wG\n",
       "n5WgIJSUysSgpYjA727RgEMixvyOthvCmJvG9isirHr9jiX9W9oqwpCbQPdjXZlShjZ+113iofaS\n",
       "zn8DhCG3gNZMcWP4JTE24KeurWEJQ7ixQg9HknZn6m4GCCU3OBQKEzkfz23GFI9VRoK7jdjkDGES\n",
       "Ho3VRaXx/XV+Vq4bM0DYI4hJrn/+vsEeDLDUbtpeYSalYOrWQjkMiWeOgT7Q1poVBBWSFmkwjgLR\n",
       "qYvUixkZp02sdHHOYXgyduahO1uzikAT/QKSQ3NzIZ3VfZmbVLaezRwm9YKPvWCrrv9as4IAVxXP\n",
       "RdYMyS2pW7h05FbTpt8cvavGFYbEkwoWq/4ll8+P7FFK2pgBAvRbUQm6Y7nJ0m7bjqsDa8t0hfFp\n",
       "U8e2mVzR1pkBwqAho0Qc9vzwDXxbaEgv89nq7Bd2dIRddVtvNmhI0V6HdTk35QGlUEGnHRU5zCFb\n",
       "RkhqxIq23gwQkDuLLAV9cmcNz5N5GBa2dwhjbpPLfKL/2+ONPQz3cNMWhJqSfvW48X9+Iz3Spob3\n",
       "my8CSVaPQk7e5jYL80RbQZBVyY8qZGkj87KZ18/eaZiHVz0gwP+FH4DtGvBfHwGMAAAAAElFTkSu\n",
       "QmCC\n",
       "\" style=\"display:inline;vertical-align:middle;\" /></a><br>"
      ],
      "text/plain": [
       "expr: {[not](b) => (a != a)}"
      ]
     },
     "execution_count": 2,
     "metadata": {},
     "output_type": "execute_result"
    }
   ],
   "source": [
    "# build up the expression from sub-expressions\n",
    "expr = Set(Implies(Not(b), NotEquals(a, a)))"
   ]
  },
  {
   "cell_type": "code",
   "execution_count": 3,
   "metadata": {},
   "outputs": [
    {
     "name": "stdout",
     "output_type": "stream",
     "text": [
      "Passed sanity check: built 'expr' is the same as the stored Expression.\n"
     ]
    }
   ],
   "source": [
    "# check that the built expression is the same as the stored expression\n",
    "%check_expr"
   ]
  },
  {
   "cell_type": "code",
   "execution_count": 4,
   "metadata": {},
   "outputs": [
    {
     "data": {
      "text/html": [
       "<table><tr><th>&nbsp;</th><th>core type</th><th>sub-expressions</th><th>expression</th></tr>\n",
       "<tr><td>0</td><td>Operation</td><td>operator:&nbsp;1<br>operands:&nbsp;2<br></td><td><a class=\"ProveItLink\" href=\"../d38b61f5daf27423fb3809708efadb457c6c064f0/expr.ipynb\"><img src=\"data:image/png;base64,iVBORw0KGgoAAAANSUhEUgAAAJsAAAAVCAMAAABmBWwWAAAAPFBMVEX///8LCwsYGBgNDQ0oKCjc\n",
       "3NxERESqqqpUVFS6urrMzMwyMjIQEBCIiIh2dnYiIiLu7u5mZmaYmJgAAADzuxXdAAAAAXRSTlMA\n",
       "QObYZgAAAiFJREFUSMfNV0lyxCAMdBb23fz/r7ExAgMCu5JLOMxQjKQWLdEw23aOPezb/xnSWgJz\n",
       "7yxMhZl67OJ99EWYNCo2jiA1yzMTyxofHDzX7poF+XrjfP07Ufh6RQhgYTUsKY94KEBSb3NDw9wG\n",
       "n5WgIJSUysSgpYjA727RgEMixvyOthvCmJvG9isirHr9jiX9W9oqwpCbQPdjXZlShjZ+113iofaS\n",
       "zn8DhCG3gNZMcWP4JTE24KeurWEJQ7ixQg9HknZn6m4GCCU3OBQKEzkfz23GFI9VRoK7jdjkDGES\n",
       "Ho3VRaXx/XV+Vq4bM0DYI4hJrn/+vsEeDLDUbtpeYSalYOrWQjkMiWeOgT7Q1poVBBWSFmkwjgLR\n",
       "qYvUixkZp02sdHHOYXgyduahO1uzikAT/QKSQ3NzIZ3VfZmbVLaezRwm9YKPvWCrrv9as4IAVxXP\n",
       "RdYMyS2pW7h05FbTpt8cvavGFYbEkwoWq/4ll8+P7FFK2pgBAvRbUQm6Y7nJ0m7bjqsDa8t0hfFp\n",
       "U8e2mVzR1pkBwqAho0Qc9vzwDXxbaEgv89nq7Bd2dIRddVtvNmhI0V6HdTk35QGlUEGnHRU5zCFb\n",
       "RkhqxIq23gwQkDuLLAV9cmcNz5N5GBa2dwhjbpPLfKL/2+ONPQz3cNMWhJqSfvW48X9+Iz3Spob3\n",
       "my8CSVaPQk7e5jYL80RbQZBVyY8qZGkj87KZ18/eaZiHVz0gwP+FH4DtGvBfHwGMAAAAAElFTkSu\n",
       "QmCC\n",
       "\" style=\"display:inline;vertical-align:middle;\" /></a></td></tr>\n",
       "<tr><td>1</td><td>Literal</td><td></td><td><a class=\"ProveItLink\" href=\"../../../set_theory/enumeration/__pv_it/07381ed5b23806e8d7914b78cb6667769e3708dd0/expr.ipynb\"><img src=\"data:image/png;base64,iVBORw0KGgoAAAANSUhEUgAAAB4AAAAOBAMAAADKyLEKAAAAMFBMVEX///8iIiIQEBCIiIjMzMzc\n",
       "3Nyqqqp2dnZEREQyMjK6urru7u5mZmZUVFSYmJgAAACI6eGPAAAAAXRSTlMAQObYZgAAALRJREFU\n",
       "CNdjYGDgu3Nm3wIGBJjHwN0PZW5yYGDgLWBgyITy8zcwMMQDxZyh/INAvD6BgcEFypcB4vjPDiBm\n",
       "TPFRrhs/LjMwMP//38rAwCbKEMPA9gEkE3fp0waG+AUMRxh4JkC01T9guPTOOICBEWgVH5C//wHD\n",
       "H5D4fqCz9oCMDGD4DLaegRXslLMMDMpAgxlOMmQxHDRgYG5gYLBk4D7KcIe7gOHC2rt9QCXsh40Z\n",
       "GCKMGQDRkC8N/Ph1XAAAAABJRU5ErkJggg==\n",
       "\" style=\"display:inline;vertical-align:middle;\" /></a></td></tr>\n",
       "<tr><td>2</td><td>ExprTuple</td><td>3</td><td><a class=\"ProveItLink\" href=\"../bdbaf21e30781fed17cc677809d4ed5bc5988c8f0/expr.ipynb\"><img src=\"data:image/png;base64,iVBORw0KGgoAAAANSUhEUgAAAJUAAAAVCAMAAAB4zFylAAAAPFBMVEX///8LCwsYGBgNDQ0oKCjc\n",
       "3NwiIiJERESqqqqYmJh2dnZmZmYQEBDu7u4yMjJUVFTMzMyIiIi6uroAAACIMCsmAAAAAXRSTlMA\n",
       "QObYZgAAAgNJREFUSMfNVtt2hCAMtBcEBbn+/78WMVHCBrTbl+Zhx+OGmZCEyDT9V4uBImNL/D1d\n",
       "z1YxUkD0jmJlmzPz8aT906AYGmLC8u9RAdBuE0FiFjXs06hYmspcL+22xgAJD2zik8IMryzVSwgh\n",
       "vJeqS6GgAWLD7TEmfLuZZ5kx76bqVNgxQuyR3cM6n49Ssa3ddFG8qbSX/f9QIaOGvGm2QtaF4JYj\n",
       "QM2fKFqxk0a4sEbzctxkc2pqN1TIaBfQX7ikpn1rqTCpKwt6riyRaJGmKMl0LbHFvr/23yu/xA0V\n",
       "MhqoM2AlmHetSluZ9SDoJF7ZqlWARqQ9Oi1vUkXdUCFjAsoUmbmjS/RHNnzqtqk152KgccV5Djdd\n",
       "SN1QIeMwqlmXc7gMo/J2vc4d0JTKb6kdvbbpM+pWRWWg8Y1ioirTSh/Toaog6atZ1rPgoBFp375K\n",
       "1zwrSz4/YMVZQOJWVVBCe8qFi8qfbTUt/JlXtCgHzVa24+yk/ChVjRsqZKyOYxtWXpBXaTcNJkM7\n",
       "qsFrP4oq138ddVXrVoUSYU7GmetjFzTm0LJDWTbbB5o8hkL0MsRRqlo3VNgRJ50Rw6Hc+eK8XCX6\n",
       "NEpPjxQKko/i4FYUnl0Z+jTzzRcSFQ4c3mSumfTXm8xtqixB4SaC/KdePI2qR3OXKlRAFIEiY+Hx\n",
       "VbRLc3PHRoWCPxgfGeHTkNOvAAAAAElFTkSuQmCC\n",
       "\" style=\"display:inline;vertical-align:middle;\" /></a></td></tr>\n",
       "<tr><td>3</td><td>Operation</td><td>operator:&nbsp;4<br>operands:&nbsp;5<br></td><td><a class=\"ProveItLink\" href=\"../../../boolean/__pv_it/def8fd2fd152dceb30b3cfe8578a5d9d886bfc290/expr.ipynb\"><img src=\"data:image/png;base64,iVBORw0KGgoAAAANSUhEUgAAAIUAAAAVCAMAAABfYt1NAAAAPFBMVEX///8LCwsYGBgNDQ0oKCjc\n",
       "3NwiIiJERESqqqqYmJh2dnZmZmYQEBDu7u4yMjJUVFTMzMyIiIi6uroAAACIMCsmAAAAAXRSTlMA\n",
       "QObYZgAAAclJREFUSMfNVtmS4yAM9O4shwGL6///dbHAB1iAKzMPw0MqFaRuqXWQZfktJ/ju1Rp+\n",
       "BAaPYiMGZx9XmzU8f9PubRAETHUY0L8XBtiIOzgw4W0UJMzt2J6syOBJIaM8FFOk64PS+8+kKAyG\n",
       "yiHE49fNvMvcfCoFMgQyRsXPr0KSrdh0QZhUzon+XWLQpOJgvbdrDkjTHV9X4IRh1qtgHuMgmi6/\n",
       "myUGWCmR4h56RE95Zan57cQqugMGkUW8XADPv6/989KvMksMJrQEKSuJbWFUdugIKeFW6gLD4h6N\n",
       "FhMparPEEAMx9xrzz9m62G0rMKdzgbFozP2ki2qzxEBGwTXOyTqMwoG65qLAYCW32K46aPqkNksM\n",
       "RhJR4LbQeVpvFan6gov7bGYYFvf0ZLz2Cbr8/VM8zoJUZolBrFQU7myLZaVnUNYiZ5gNw7ewSDeS\n",
       "ojFLDM9BTDc2WelCQ09quwqL1T4qMtVTjbqiNUu+gVN9Z70+NAJy6YkmvQKT1oAPTvgwkqI12xkM\n",
       "Gy69zgZ/PLV9GKmXOUPnuersyGX4JpGHT16YzDB8krdvv+xTKaAUafQUsrdR9GBmUhwMrC+6f/1X\n",
       "qwsz+c+IDP8BPQ8V3xWX34oAAAAASUVORK5CYII=\n",
       "\" style=\"display:inline;vertical-align:middle;\" /></a></td></tr>\n",
       "<tr><td>4</td><td>Literal</td><td></td><td><a class=\"ProveItLink\" href=\"../../../boolean/implication/__pv_it/e5c030cabcb650938f92dee8256fe11cd12bf9b30/expr.ipynb\"><img src=\"data:image/png;base64,iVBORw0KGgoAAAANSUhEUgAAABMAAAANBAMAAAC5okgUAAAALVBMVEX////c3NxERETMzMwQEBCq\n",
       "qqoiIiJmZmaIiIh2dnZUVFS6uroyMjLu7u4AAACPpZJTAAAAAXRSTlMAQObYZgAAAD1JREFUCNdj\n",
       "YAABXgY44LkAZ3IvQAjPABFlaSCQV4AQjtkAZ/IegbNt5sLUpunC5aPgLMYDcCaTAJzJDCIA2yMN\n",
       "HCCUuIIAAAAASUVORK5CYII=\n",
       "\" style=\"display:inline;vertical-align:middle;\" /></a></td></tr>\n",
       "<tr><td>5</td><td>ExprTuple</td><td>6, 7</td><td><a class=\"ProveItLink\" href=\"../../../boolean/__pv_it/607cf51b2b057ba02b6f7af77d9944f987ef4fc60/expr.ipynb\"><img src=\"data:image/png;base64,iVBORw0KGgoAAAANSUhEUgAAAF4AAAAVCAMAAAD4k6nzAAAAPFBMVEX///8LCwsYGBgNDQ0oKCjc\n",
       "3NwiIiJERESqqqqYmJh2dnZmZmYQEBDu7u4yMjJUVFTMzMyIiIi6uroAAACIMCsmAAAAAXRSTlMA\n",
       "QObYZgAAAVdJREFUOMu1VdtyhSAMpBfkToD8/78WorbKCegcpzzIDFnCstmgEP8+Sn6230pu1ZR1\n",
       "TvASCuCX29ll5NddoikGJhbhdnoogwAdm1lpUD8lX+Wx9eM58gXDY/Ii+JqIPdzelj6pcUxp4Swr\n",
       "G+QM5iwCZFv8i0lUEkOYdSIa7lrYOOFxJ21R+OeLSOP7q32Bh+ko/CqdW35HvY4m6f3hYhIbDacu\n",
       "yJ9hxQvsK9PawFFB0B0KSISW3mWl8+8ZlpBPvzhyz0E3Uitg6mvU1eIMq+m9ZtKT693BnBIbIV25\n",
       "7Wuk5ufHqqfiYVUcZbj0aZc+7LVuB0IUOs3IdzATm3n6/BVQUQ4IvzVAM5iumtmZ8j2s5i5cAwXI\n",
       "zqyNh3K3cy5J5TIj38Ninbycv9bjsHbzhm6PwvrwjIcZh5aLd8nm4YN8I/0l+bjpNcHk98nDJqt8\n",
       "72dY5uHcvPkD+zYQXbvi8YUAAAAASUVORK5CYII=\n",
       "\" style=\"display:inline;vertical-align:middle;\" /></a></td></tr>\n",
       "<tr><td>6</td><td>Operation</td><td>operator:&nbsp;8<br>operand:&nbsp;9<br></td><td><a class=\"ProveItLink\" href=\"../../../boolean/__pv_it/c0fc114fcacc8e9fdeb995863ab29be961e5f4380/expr.ipynb\"><img src=\"data:image/png;base64,iVBORw0KGgoAAAANSUhEUgAAABYAAAAOBAMAAADZH/H+AAAALVBMVEX///9ERESYmJiIiIi6urqq\n",
       "qqoyMjIQEBDu7u5UVFTMzMx2dnYiIiJmZmYAAAC5u2vBAAAAAXRSTlMAQObYZgAAAFlJREFUCNdj\n",
       "YICAzhoGBMhEYj9FMFleINjcBxBstsmWCjB2nwDDK4Y7Z4DgNENcA0M1RHQlwzUGhrcw9lkGlkcw\n",
       "9lMG3hcw9isG9g0QNhfDVIabcPM7bRUYALuiGKiQ/Uk/AAAAAElFTkSuQmCC\n",
       "\" style=\"display:inline;vertical-align:middle;\" /></a></td></tr>\n",
       "<tr><td>7</td><td>Operation</td><td>operator:&nbsp;10<br>operands:&nbsp;11<br></td><td><a class=\"ProveItLink\" href=\"../../../boolean/__pv_it/83d4c33225adfc2649011edfbf973a67989c11a30/expr.ipynb\"><img src=\"data:image/png;base64,iVBORw0KGgoAAAANSUhEUgAAADIAAAAUCAMAAAD4FJ6oAAAAPFBMVEX///8LCwsYGBgNDQ0oKCgy\n",
       "MjKqqqrMzMzu7u4iIiJmZmaYmJhEREQQEBC6urp2dnaIiIhUVFTc3NwAAABYMwFzAAAAAXRSTlMA\n",
       "QObYZgAAAKBJREFUKM/NktsOAiEMRKsrVyu3/v+/LpCIXcx2w4txHiCBM0zbACApFlhUUasOyOEv\n",
       "QwwKBeQUw+trOGhOsb4hjSuvuh5bW/M4ZlihZ+PwIoRjuRtdmhwhT7NgGDWjpalwUFNvDCvUjLq+\n",
       "Yd+9uKr7zXXhqOuDWdItVoE2UsgBU7Ut7TxEqZMjVsedgsEUpJATjEn75d/l7KrjJyEgf/odtl8I\n",
       "B4tstgcAAAAASUVORK5CYII=\n",
       "\" style=\"display:inline;vertical-align:middle;\" /></a></td></tr>\n",
       "<tr><td>8</td><td>Literal</td><td></td><td><a class=\"ProveItLink\" href=\"../../../boolean/negation/__pv_it/7bea79645543c2413aa17e787cca04e21046fde60/expr.ipynb\"><img src=\"data:image/png;base64,iVBORw0KGgoAAAANSUhEUgAAAAwAAAAGBAMAAAAFwGKyAAAAFVBMVEX///9UVFTMzMx2dnYiIiJm\n",
       "ZmYAAACWz4ZEAAAAAXRSTlMAQObYZgAAABRJREFUCNdjCHEBAmcGMFDEQzEBAEl+Ai6uYJv/AAAA\n",
       "AElFTkSuQmCC\n",
       "\" style=\"display:inline;vertical-align:middle;\" /></a></td></tr>\n",
       "<tr><td>9</td><td>Variable</td><td></td><td><a class=\"ProveItLink\" href=\"../../../../__pv_it/6840a4fa6c106149dc16a131294d0c5e44f1b0480/expr.ipynb\"><img src=\"data:image/png;base64,iVBORw0KGgoAAAANSUhEUgAAAAkAAAAOBAMAAAAPuiubAAAALVBMVEX///9mZmbMzMxERESYmJiI\n",
       "iIh2dna6urqqqqoyMjIiIiIQEBBUVFTu7u4AAAD9S1JeAAAAAXRSTlMAQObYZgAAAE1JREFUCNdj\n",
       "4D29gAEIOA+ASL4GEFl3AURmgQiGOaFHGBh4HzPwKTBwvGXgTmBgnMDAJ8DAJcBQ5wBSLncBJLWN\n",
       "gYGngRFoBO9REQYGAGrcDtUkVqASAAAAAElFTkSuQmCC\n",
       "\" style=\"display:inline;vertical-align:middle;\" /></a></td></tr>\n",
       "<tr><td>10</td><td>Literal</td><td></td><td><a class=\"ProveItLink\" href=\"../43637204f35b46c076ae787093288c6a879642310/expr.ipynb\"><img src=\"data:image/png;base64,iVBORw0KGgoAAAANSUhEUgAAAA4AAAAUCAMAAACK2/weAAAAM1BMVEX///8LCwsYGBgNDQ0oKCju\n",
       "7u4iIiJmZmaqqqpERETMzMy6urpUVFQyMjLc3Nx2dnYAAAB8DqOrAAAAAXRSTlMAQObYZgAAAE5J\n",
       "REFUGNNjYEAAfj4kDgMfLzKPgYebaEkuThRJTi4wxc4LBizMIJIHTRIKuHlQdPLCHMTOBgRMjGxg\n",
       "wIkmiVcnGHCwo0iysRItyYDsMQCO9QJkhxsUAQAAAABJRU5ErkJggg==\n",
       "\" style=\"display:inline;vertical-align:middle;\" /></a></td></tr>\n",
       "<tr><td>11</td><td>ExprTuple</td><td>12, 12</td><td><a class=\"ProveItLink\" href=\"../../../boolean/__pv_it/8d3c5434f530489588a15a4b183ce46d1affa7650/expr.ipynb\"><img src=\"data:image/png;base64,iVBORw0KGgoAAAANSUhEUgAAACsAAAAVBAMAAAAtAwouAAAAMFBMVEX////c3NwiIiJERESqqqqY\n",
       "mJh2dnZmZmYQEBDu7u4yMjJUVFTMzMyIiIi6uroAAAAs73DqAAAAAXRSTlMAQObYZgAAANtJREFU\n",
       "GNN1kL0OAUEURg/W/2+voNNq9N6ASik6FVGpSdSi1O02Cq8gkWyi1OwDiKAS1Sq0YsbsbMQwxcy5\n",
       "Jzc331z4cwret+nKa280Jl1xrc0BDuQ9U3cgtTD1Em4/UsSajMUT2Q6nSihKjFiJ4lqK+Uorshzm\n",
       "ouVBsq6aFRUmPCHrE1V5Asr5Uhfr2O5bByT0DCoeLd45AxJDGmA32VhuGk3EHfqQaVu1BHZVkwx4\n",
       "kWGPuyPLuyYyJ1Il/bfz5+fjPV20Qz34XGyo02KxlIMiHzZn5dyIsfADvABGHTxeG7dbswAAAABJ\n",
       "RU5ErkJggg==\n",
       "\" style=\"display:inline;vertical-align:middle;\" /></a></td></tr>\n",
       "<tr><td>12</td><td>Variable</td><td></td><td><a class=\"ProveItLink\" href=\"../../../../__pv_it/07527342713064c87612d00d8557c53d53d5324a0/expr.ipynb\"><img src=\"data:image/png;base64,iVBORw0KGgoAAAANSUhEUgAAAAsAAAAJBAMAAAAWSsseAAAAMFBMVEX///8yMjKqqqrMzMzu7u4i\n",
       "IiJmZmaYmJhEREQQEBC6urp2dnaIiIhUVFTc3NwAAAD87Fq/AAAAAXRSTlMAQObYZgAAAEhJREFU\n",
       "CNdjYOC7s2seAwPDygccHxgY+L4zsDUwMPB+YGA9wMDA38Dgb8DA8P4Agz6DA4O/AsNFJgMGxgKm\n",
       "MG6gyjunLE4xAAAZTBA5TB6DCwAAAABJRU5ErkJggg==\n",
       "\" style=\"display:inline;vertical-align:middle;\" /></a></td></tr>\n",
       "</table>\n"
      ],
      "text/plain": [
       "0. {[not](b) => (a != a)}\n",
       "   core type: Operation\n",
       "   operator: 1\n",
       "   operands: 2\n",
       "1. Set\n",
       "   core type: Literal\n",
       "   sub-expressions: \n",
       "2. ([not](b) => (a != a))\n",
       "   core type: ExprTuple\n",
       "   sub-expressions: 3\n",
       "3. [not](b) => (a != a)\n",
       "   core type: Operation\n",
       "   operator: 4\n",
       "   operands: 5\n",
       "4. =>\n",
       "   core type: Literal\n",
       "   sub-expressions: \n",
       "5. ([not](b) , a != a)\n",
       "   core type: ExprTuple\n",
       "   sub-expressions: 6, 7\n",
       "6. [not](b)\n",
       "   core type: Operation\n",
       "   operator: 8\n",
       "   operand: 9\n",
       "7. a != a\n",
       "   core type: Operation\n",
       "   operator: 10\n",
       "   operands: 11\n",
       "8. not\n",
       "   core type: Literal\n",
       "   sub-expressions: \n",
       "9. b\n",
       "   core type: Variable\n",
       "   sub-expressions: \n",
       "10. !=\n",
       "    core type: Literal\n",
       "    sub-expressions: \n",
       "11. (a , a)\n",
       "    core type: ExprTuple\n",
       "    sub-expressions: 12, 12\n",
       "12. a\n",
       "    core type: Variable\n",
       "    sub-expressions: "
      ]
     },
     "execution_count": 4,
     "metadata": {},
     "output_type": "execute_result"
    }
   ],
   "source": [
    "# display the expression information\n",
    "expr.exprInfo()"
   ]
  },
  {
   "cell_type": "code",
   "execution_count": null,
   "metadata": {},
   "outputs": [],
   "source": []
  }
 ],
 "metadata": {
  "kernelspec": {
   "display_name": "Python 3",
   "language": "python",
   "name": "python3"
  }
 },
 "nbformat": 4,
 "nbformat_minor": 0
}
