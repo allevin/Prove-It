{
 "cells": [
  {
   "cell_type": "markdown",
   "metadata": {},
   "source": [
    "Expression of type <a class=\"ProveItLink\" href=\"../../../../../../doc/html/api/proveit.logic.Equals.html\">Equals</a>\n",
    "=======================\n",
    "# from context <a class=\"ProveItLink\" href=\"../../_context_.ipynb\">proveit.logic.equality</a>"
   ]
  },
  {
   "cell_type": "code",
   "execution_count": 1,
   "metadata": {},
   "outputs": [],
   "source": [
    "# import Expression classes needed to build the expression\n",
    "from proveit._common_ import a, b, c, y\n",
    "from proveit.logic import Equals\n",
    "from proveit.number import Add, Div, Exp"
   ]
  },
  {
   "cell_type": "code",
   "execution_count": 2,
   "metadata": {},
   "outputs": [
    {
     "data": {
      "text/html": [
       "<strong id=\"expr\">expr:</strong> <a class=\"ProveItLink\" href=\"expr.ipynb\"><img src=\"data:image/png;base64,iVBORw0KGgoAAAANSUhEUgAAAMEAAAAVBAMAAAANw5eWAAAAMFBMVEX///8yMjKqqqrMzMzu7u4i\n",
       "IiJmZmaYmJhEREQQEBC6urp2dnaIiIhUVFTc3NwAAAD87Fq/AAAAAXRSTlMAQObYZgAAAk5JREFU\n",
       "SMe1VTFv01AQ/py4qZ3UThlgQ8oPiBSLCTaPFFSShYpuzcACqvBMFzOBxBIhWAChrEhIjYRggAyW\n",
       "ihiKEYWBKRL5AYhYpKIMFXDPSWrf83OUhU+K8t733fP57t2dgf+FFz4ezpMXJgVuKzg9+FPsKJUY\n",
       "xQOsP1KQOSg5Wc6+1FrxlUoMzQXOqsgcrCo4q2cFakUgpN/P2eZKijzBB2a/I5kKmF3TSRQZdEXl\n",
       "w9mmnpBJxv7W0vZrkmnswdlNKRLKFFulJXkos4A3h+mdUct6KAzuTBV78OaZfHM9yvrgo8eOCRKX\n",
       "+3u8Yl73MHJR2eIe9Leh8wMDWgnl+dCIBNs+JRDfr0bPbvoYs2OCLD7GaeahUo7wid53lXu40NVa\n",
       "9+OgSbGPUPKlGMwu0HDxhB0T5FqAu8zyXKmFe5TBDjPVn8Lw6nExkGJFWAokD1V6WBv4xY4J8ttk\n",
       "ef2qwDVauWaAY4otYqZWlJREhKqPpqPwsIHy0SR3m5PcCfJ3pigabnE89ZAy9dMeRgEacNmLwayJ\n",
       "digd8izVYB9nPLSx0slkaZQkhZRmDZ8LUhAGXeoYZo8dEyRFtcw77gwMGibL/KarZDotRFI0r7BR\n",
       "kV5MlNgXbPN+EORX4CXvuG3sepCr1dpCxTk5ZQ/2z+/LHUfdtv7ekzqOyFI/dHnHXQxv0Urr8mq9\n",
       "Gb6bDbOuuqlZC9ZVZIJXOVODzxMZO6rPgmqIWS39Af31c78g/TnTeyFyqWdQPeh5MzpfsQ8WJAvh\n",
       "DRHJMM9DvvJ9YVJgD3OUf/lelAzJN0uoAAAAAElFTkSuQmCC\n",
       "\" style=\"display:inline;vertical-align:middle;\" /></a><br>"
      ],
      "text/plain": [
       "expr: a = (b + (c / y) + c^{y})"
      ]
     },
     "execution_count": 2,
     "metadata": {},
     "output_type": "execute_result"
    }
   ],
   "source": [
    "# build up the expression from sub-expressions\n",
    "expr = Equals(a, Add(b, Div(c, y), Exp(c, y)))"
   ]
  },
  {
   "cell_type": "code",
   "execution_count": 3,
   "metadata": {},
   "outputs": [
    {
     "name": "stdout",
     "output_type": "stream",
     "text": [
      "Passed sanity check: built 'expr' is the same as the stored Expression.\n"
     ]
    }
   ],
   "source": [
    "# check that the built expression is the same as the stored expression\n",
    "%check_expr"
   ]
  },
  {
   "cell_type": "code",
   "execution_count": 4,
   "metadata": {},
   "outputs": [
    {
     "data": {
      "text/html": [
       "<table><tr><th>&nbsp;</th><th>core type</th><th>sub-expressions</th><th>expression</th></tr>\n",
       "<tr><td>0</td><td>Operation</td><td>operator:&nbsp;1<br>operands:&nbsp;2<br></td><td><a class=\"ProveItLink\" href=\"expr.ipynb\"><img src=\"data:image/png;base64,iVBORw0KGgoAAAANSUhEUgAAAMEAAAAVBAMAAAANw5eWAAAAMFBMVEX///8yMjKqqqrMzMzu7u4i\n",
       "IiJmZmaYmJhEREQQEBC6urp2dnaIiIhUVFTc3NwAAAD87Fq/AAAAAXRSTlMAQObYZgAAAk5JREFU\n",
       "SMe1VTFv01AQ/py4qZ3UThlgQ8oPiBSLCTaPFFSShYpuzcACqvBMFzOBxBIhWAChrEhIjYRggAyW\n",
       "ihiKEYWBKRL5AYhYpKIMFXDPSWrf83OUhU+K8t733fP57t2dgf+FFz4ezpMXJgVuKzg9+FPsKJUY\n",
       "xQOsP1KQOSg5Wc6+1FrxlUoMzQXOqsgcrCo4q2cFakUgpN/P2eZKijzBB2a/I5kKmF3TSRQZdEXl\n",
       "w9mmnpBJxv7W0vZrkmnswdlNKRLKFFulJXkos4A3h+mdUct6KAzuTBV78OaZfHM9yvrgo8eOCRKX\n",
       "+3u8Yl73MHJR2eIe9Leh8wMDWgnl+dCIBNs+JRDfr0bPbvoYs2OCLD7GaeahUo7wid53lXu40NVa\n",
       "9+OgSbGPUPKlGMwu0HDxhB0T5FqAu8zyXKmFe5TBDjPVn8Lw6nExkGJFWAokD1V6WBv4xY4J8ttk\n",
       "ef2qwDVauWaAY4otYqZWlJREhKqPpqPwsIHy0SR3m5PcCfJ3pigabnE89ZAy9dMeRgEacNmLwayJ\n",
       "digd8izVYB9nPLSx0slkaZQkhZRmDZ8LUhAGXeoYZo8dEyRFtcw77gwMGibL/KarZDotRFI0r7BR\n",
       "kV5MlNgXbPN+EORX4CXvuG3sepCr1dpCxTk5ZQ/2z+/LHUfdtv7ekzqOyFI/dHnHXQxv0Urr8mq9\n",
       "Gb6bDbOuuqlZC9ZVZIJXOVODzxMZO6rPgmqIWS39Af31c78g/TnTeyFyqWdQPeh5MzpfsQ8WJAvh\n",
       "DRHJMM9DvvJ9YVJgD3OUf/lelAzJN0uoAAAAAElFTkSuQmCC\n",
       "\" style=\"display:inline;vertical-align:middle;\" /></a></td></tr>\n",
       "<tr><td>1</td><td>Literal</td><td></td><td><a class=\"ProveItLink\" href=\"../2fb26078095930560931daa0500ce419a39ea6cd0/expr.ipynb\"><img src=\"data:image/png;base64,iVBORw0KGgoAAAANSUhEUgAAAA4AAAAFBAMAAACHocAhAAAAFVBMVEX///9EREQiIiJUVFQyMjJm\n",
       "ZmYAAADubVkoAAAAAXRSTlMAQObYZgAAABRJREFUCNdjCHEBAWcGXCBICQQUAUpuAwlgGKrkAAAA\n",
       "AElFTkSuQmCC\n",
       "\" style=\"display:inline;vertical-align:middle;\" /></a></td></tr>\n",
       "<tr><td>2</td><td>ExprTuple</td><td>3, 4</td><td><a class=\"ProveItLink\" href=\"../37832e8ba41ff8a6671caf2d57d4203acd18dd5d0/expr.ipynb\"><img src=\"data:image/png;base64,iVBORw0KGgoAAAANSUhEUgAAAKwAAAAVBAMAAAAp2hhWAAAAMFBMVEX////c3NwiIiJERESqqqqY\n",
       "mJh2dnZmZmYQEBDu7u4yMjJUVFTMzMyIiIi6uroAAAAs73DqAAAAAXRSTlMAQObYZgAAAnJJREFU\n",
       "OMutVU1oE0EU/pJNstmk6e5VemjwoseA9p6zIs3JgwdZerAXI7nooYqNIB6klhVBgiAJBZFuQerB\n",
       "H4Tggh4KPRjISejWmFMQpJHag2DFN9lJnLfd7cmB7My8771v3pt57wX4r2O6i6wTrDrHK8bBl6OE\n",
       "T01rC+kerbYVqfG2GFbcjjtP9yKEJ/roArdota6Kc5thxfXYOFpRwtdoEwtQYEGaZbl4KGcGF2xV\n",
       "9+I4REsRrmIFSNvjG5Zjb7y7IGcGf/qp6jbknFJPXpke0kF1fGMxLCBEy+DkHXWnlSNoz3fF3ZzF\n",
       "Dfom2tekwYb/itMK2Ljis+cxFm3MOsjUQrSPqzsJKy92i3hG34GlDQODfZgeoxXwVi/HEiRDgX4h\n",
       "uhannVrFmmaPwjtHd4zEAfRSoPELWZvREmw8gFZRaT/qRZyhjK5z2kYHcyl/ZD7AHyA/RDKA9BbM\n",
       "GqMN4BF2cjTofCfbwSF5N+S075W3FXZmCc0g9GQNe+TYkuuedt0NSWuWwsk570z9lrS6667dd12R\n",
       "7vsq7V1gtoN5ODJtlx3mbQCHxhIK9SOXkDj8pzDAHNAs413KMwSth3s8Ewg2yf8KK4fn0Mi9dOjJ\n",
       "DkgkrS5RLiBXSZ3KoEmvnS/rm5yW4HwNGY+Vw83RVYUT7A1wdWLVF2m7+2EXjR/06O3roXLoi9z1\n",
       "P/NyeOQvU8HmepxWr/rjknyB7KSiv6rXNyleK7LNLMQVb5D+ddEW5GC5+V3OafsoZ75o0EuiGtuR\n",
       "Mx2l81Ui/YpojElbo8OMVmzLfEK/mXHXi1aZOSpK+beFz1Ys7UuRb8f/6cTCO7EmBQ9/AUKaqa8A\n",
       "otraAAAAAElFTkSuQmCC\n",
       "\" style=\"display:inline;vertical-align:middle;\" /></a></td></tr>\n",
       "<tr><td>3</td><td>Variable</td><td></td><td><a class=\"ProveItLink\" href=\"../../../../__pv_it/07527342713064c87612d00d8557c53d53d5324a0/expr.ipynb\"><img src=\"data:image/png;base64,iVBORw0KGgoAAAANSUhEUgAAAAsAAAAJBAMAAAAWSsseAAAAMFBMVEX///8yMjKqqqrMzMzu7u4i\n",
       "IiJmZmaYmJhEREQQEBC6urp2dnaIiIhUVFTc3NwAAAD87Fq/AAAAAXRSTlMAQObYZgAAAEhJREFU\n",
       "CNdjYOC7s2seAwPDygccHxgY+L4zsDUwMPB+YGA9wMDA38Dgb8DA8P4Agz6DA4O/AsNFJgMGxgKm\n",
       "MG6gyjunLE4xAAAZTBA5TB6DCwAAAABJRU5ErkJggg==\n",
       "\" style=\"display:inline;vertical-align:middle;\" /></a></td></tr>\n",
       "<tr><td>4</td><td>Operation</td><td>operator:&nbsp;5<br>operands:&nbsp;6<br></td><td><a class=\"ProveItLink\" href=\"../3d1ec1a2eda6a003784f7c572ce92239482af2ed0/expr.ipynb\"><img src=\"data:image/png;base64,iVBORw0KGgoAAAANSUhEUgAAAIsAAAAVBAMAAACEWwD/AAAAMFBMVEX////c3NxmZmbMzMxERESY\n",
       "mJiIiIh2dna6urqqqqoyMjIiIiIQEBBUVFTu7u4AAAAiO1wTAAAAAXRSTlMAQObYZgAAAdtJREFU\n",
       "OMulVL9Lw1AQ/prG1tY2yT+gdhFFELsKig66d9OxYMmooUIdXJwcdLCTm1gEl4jSXQdF0OokgroI\n",
       "RhBdOhSsRRfxok/NvSSI+CDv8u6473687x7w39VeQMoJNORDPKaClA+6MQxoN1XZMBIWWMkGKLtW\n",
       "UCCRPJcNu6EFVIKU17iiXS+L452QMW9NMcvrMSmkZniUNRzRvvrVnzUhWcNGX70wdSET3khH7Q3a\n",
       "FyDBLHsdOw69J7UcALNecGvdMS85TK+b9bzJ2qkVLXQ7iGckmMfSdMRI00lrQs8ymC36hheT7ALj\n",
       "lPgsuVc4TLSGbdVy00+8IWUxmBphH0PNeWGGlCrGiVEHHKaex0TCdN2VCvQMg3kB0o1Pnux9rDHA\n",
       "SeXRougNDnP708MMVilwv23v2/aOgNHHZHJsONEnAaPY9vaZbbt0a37biTaDDsvmFOj2jUM/Yge+\n",
       "oiKtH5gsTvhNTZCS8ssx+m1CpfBtUoufSfX5ly4r5xymSMoM4llGv4GP0uULvwDmBCOueiT6rbjc\n",
       "MWc4/e7NQRqA5CKHUUqm7434HgYjcCwXwoZBWktCtll+W7qqUedR+u1F+uWh6LBUAtcqf3kWO/2q\n",
       "hNnn5mT8BSYSlvJ0qMs7udZ3hfCjprEAAAAASUVORK5CYII=\n",
       "\" style=\"display:inline;vertical-align:middle;\" /></a></td></tr>\n",
       "<tr><td>5</td><td>Literal</td><td></td><td><a class=\"ProveItLink\" href=\"../../../../number/addition/__pv_it/3e6688136fa3c7aefbebe51301b7c3ebf0b69c440/expr.ipynb\"><img src=\"data:image/png;base64,iVBORw0KGgoAAAANSUhEUgAAAA4AAAAOBAMAAADtZjDiAAAAJFBMVEX///+6urpUVFQQEBAiIiIy\n",
       "MjJmZmaIiIiqqqrc3Nzu7u4AAACgHpL+AAAAAXRSTlMAQObYZgAAAB5JREFUCNdjYGBgWMkAAe2k\n",
       "0Kmhoc6hoUGk6BMHYgAHOwjcado9fwAAAABJRU5ErkJggg==\n",
       "\" style=\"display:inline;vertical-align:middle;\" /></a></td></tr>\n",
       "<tr><td>6</td><td>ExprTuple</td><td>7, 8, 9</td><td><a class=\"ProveItLink\" href=\"../308891ef9c529b57bb932dfbdcefd9c3c48cc8220/expr.ipynb\"><img src=\"data:image/png;base64,iVBORw0KGgoAAAANSUhEUgAAAGcAAAAVBAMAAACphe0AAAAAMFBMVEX////c3NwiIiJERESqqqqY\n",
       "mJh2dnZmZmYQEBDu7u4yMjJUVFTMzMyIiIi6uroAAAAs73DqAAAAAXRSTlMAQObYZgAAAbVJREFU\n",
       "OMuVU79LAlEc/+idnuep5xoNSn9BEO7uDTk1xuGQS8ItNRSkQTSZCEG4RBJERItLPxbJoUFoSHAK\n",
       "PCrHFg1rCDL6vveuUu8Ce9Pn3ud97n0+3+/3Af9YkRYCJYGaE4sO9GgDSwzdQr2KTyaa6qAFpU7o\n",
       "FAhWJ7zqAjWgAoTJnZ4cZ8OGq6iIArAInqxbGmfvXl1FhUgPKAPPhNMO1rvlKppvkTcpiTXCZ9a5\n",
       "2FSXrfrwITVjIGbb2M+2PVGNwvhNHBPVhy7ONh6DI4X0k50HAUNFHEkG8yVXKBvkdwR4cHUXUmpY\n",
       "dKPEMSdguYmEbLFjkTw+AaUC3WSE1uO8MsPXLFAKNDEQouufP4V6TOQ10eUX6LPjyRdKoQ+B+sOi\n",
       "bd6mHE8bc0zUOsJ5DjyD3wnMIwFWhR2o7Ca6LzXS3BNIVU7hDfCJPV8FGYqSVKo4pLJpJvz1keZu\n",
       "MOOMwiWwYpfURIeKVlul6rzQ95p1P9rcPSsXFZSSteyGBR8RiNpWn9xnNO2gaIx836OZclFocXXb\n",
       "QWXF0/hT5DUkY5xSafwwbT8GN2+ytemgNJbH08S/Vhv4Ah/Wbg85ioNvAAAAAElFTkSuQmCC\n",
       "\" style=\"display:inline;vertical-align:middle;\" /></a></td></tr>\n",
       "<tr><td>7</td><td>Variable</td><td></td><td><a class=\"ProveItLink\" href=\"../../../../__pv_it/6840a4fa6c106149dc16a131294d0c5e44f1b0480/expr.ipynb\"><img src=\"data:image/png;base64,iVBORw0KGgoAAAANSUhEUgAAAAkAAAAOBAMAAAAPuiubAAAALVBMVEX///9mZmbMzMxERESYmJiI\n",
       "iIh2dna6urqqqqoyMjIiIiIQEBBUVFTu7u4AAAD9S1JeAAAAAXRSTlMAQObYZgAAAE1JREFUCNdj\n",
       "4D29gAEIOA+ASL4GEFl3AURmgQiGOaFHGBh4HzPwKTBwvGXgTmBgnMDAJ8DAJcBQ5wBSLncBJLWN\n",
       "gYGngRFoBO9REQYGAGrcDtUkVqASAAAAAElFTkSuQmCC\n",
       "\" style=\"display:inline;vertical-align:middle;\" /></a></td></tr>\n",
       "<tr><td>8</td><td>Operation</td><td>operator:&nbsp;10<br>operands:&nbsp;12<br></td><td><a class=\"ProveItLink\" href=\"../c50b3f2cfd3a4bca0ef65b9c737e08eddefb8d150/expr.ipynb\"><img src=\"data:image/png;base64,iVBORw0KGgoAAAANSUhEUgAAAC0AAAAQBAMAAABw0OvaAAAAMFBMVEX///+qqqpmZmbc3NxUVFSY\n",
       "mJhEREQiIiIyMjK6uroQEBDMzMyIiIh2dnbu7u4AAAA4MM1YAAAAAXRSTlMAQObYZgAAAJ5JREFU\n",
       "GNNjYIADngsMWMH+j9jF2RejcPnuntmAwr90gcH+AQPDrgkcBcjivJwfGM4DpdcwsAUgi29kKmBI\n",
       "Y2Bg+QDmMZWDQQIDwwOuAwx/GBj4E9Dtl3/A/ZuBwf4AurgGA88CoHqg4QEo/mpiYHMAmq/AwLsB\n",
       "xV8qDPNBCnXPnEP117Mz+gbYfX4dmyBLAd9CrMF0gQ1rwDKe0QSSAPHfKMCYmqiVAAAAAElFTkSu\n",
       "QmCC\n",
       "\" style=\"display:inline;vertical-align:middle;\" /></a></td></tr>\n",
       "<tr><td>9</td><td>Operation</td><td>operator:&nbsp;11<br>operands:&nbsp;12<br></td><td><a class=\"ProveItLink\" href=\"../f87ee42b42e7196aa00850e72d600db878953b640/expr.ipynb\"><img src=\"data:image/png;base64,iVBORw0KGgoAAAANSUhEUgAAABIAAAAQBAMAAADpKDJvAAAAMFBMVEX///+qqqpmZmbc3NxUVFSY\n",
       "mJhEREQiIiIyMjK6uroQEBDMzMyIiIh2dnbu7u4AAAA4MM1YAAAAAXRSTlMAQObYZgAAAGxJREFU\n",
       "CNdjYACBOQkM68AMvgOfuReAWcwvC3gSwCwGlgssByAsrglcG6CsDfMhDAZGnwyQxrtnNhgz+ABZ\n",
       "uyZwFORyNgCF1jCwBcicBRnwAaqWgT8BxrI/ABcLYGAIgFikwMALNV/3zDkwDQBMsBgpaR0j5AAA\n",
       "AABJRU5ErkJggg==\n",
       "\" style=\"display:inline;vertical-align:middle;\" /></a></td></tr>\n",
       "<tr><td>10</td><td>Literal</td><td></td><td><a class=\"ProveItLink\" href=\"../../../../number/division/__pv_it/089f5ca61fe425d4f6ef7efa2138c1a2fa47180c0/expr.ipynb\"><img src=\"data:image/png;base64,iVBORw0KGgoAAAANSUhEUgAAAA4AAAAMBAMAAACgrpHpAAAAIVBMVEX///9ERERmZmbc3NwQEBAi\n",
       "IiKqqqrMzMx2dnaIiIgAAACeyUhQAAAAAXRSTlMAQObYZgAAACJJREFUCNdjYGBgmMEABuyrEiCM\n",
       "EAMG3EA1FAQCsUlhMwcALk0GeoeEfOIAAAAASUVORK5CYII=\n",
       "\" style=\"display:inline;vertical-align:middle;\" /></a></td></tr>\n",
       "<tr><td>11</td><td>Literal</td><td></td><td><a class=\"ProveItLink\" href=\"../../../../number/exponentiation/__pv_it/deb2bf23cbccdd6e6791e1b35b5b9794ce12dbd50/expr.ipynb\"><img src=\"data:image/png;base64,iVBORw0KGgoAAAANSUhEUgAAACgAAAASBAMAAADbMYGVAAAAMFBMVEX///8QEBAiIiKYmJjc3Nzu\n",
       "7u7MzMx2dnZmZma6urpERESqqqoyMjJUVFSIiIgAAAAoDOMTAAAAAXRSTlMAQObYZgAAAOBJREFU\n",
       "GNNjYGB4+//u3Tt/GNAASGAXmhjnPyDBgSbI/g1IxKEJ8nxgYGdgQRPkX8BgDKRY6q7s62OYvmze\n",
       "2wAgb/7ZO1+AVDiDkYEQQ0HTBr4DQF59AgOIKmB4z7CNbcNZBu6vQN55kEACQwDDLQYGVobfDHwg\n",
       "fb8YGBxYHwAZciD3fWXg+gB1JjvQcJZvQIXsCgz8F6DO9GBgMOH7wPCUgaeBwd4B7EwGNjUG7s9c\n",
       "AiwPgO5jkWRgiF3/9+5dfQUG1nWl5Y+B7pv+1gE9bBhqGLCAE1jEWH9jEbT5A3IwAC4sP/1L6Qlu\n",
       "AAAAAElFTkSuQmCC\n",
       "\" style=\"display:inline;vertical-align:middle;\" /></a></td></tr>\n",
       "<tr><td>12</td><td>ExprTuple</td><td>13, 14</td><td><a class=\"ProveItLink\" href=\"../3205eb8b7f417bd5951a9598881b35877af4cc960/expr.ipynb\"><img src=\"data:image/png;base64,iVBORw0KGgoAAAANSUhEUgAAACkAAAAVBAMAAAAp9toTAAAAMFBMVEX////c3NwiIiJERESqqqqY\n",
       "mJh2dnZmZmYQEBDu7u4yMjJUVFTMzMyIiIi6uroAAAAs73DqAAAAAXRSTlMAQObYZgAAAQVJREFU\n",
       "GNNtkLFKw1AUhj9Nm+Y2Te3u0DyCIO6+gZ0cJTjYSejUQUE7uCoBl25mEXHzETo4CC5ZBYPV0cW4\n",
       "q/jfNIokXrjn3vvxn/+ce+D/1U0rYMeG+6qsNVO4rmUnEKQ1ug1eXKNTeK3XdzYZ6zB7ma2AGUb0\n",
       "Y9wRl3rdzduhpW435wkaCWeSnOIMLL1thazrBxO+wM9Lw9hL+YRObunK2k+drbjzUdAT6P+2fEAw\n",
       "KRw2pJXpwFh6hXMDzYShfEe4swvbxSFvUqizFz3G2QPTd13Os+MetOd4vdLzuYi7ix83o5Iq1Q+N\n",
       "irP/Z5Kiy5EjjdEkWV3AQLuRHSn61nOpOuBH+AZcujlILocJaAAAAABJRU5ErkJggg==\n",
       "\" style=\"display:inline;vertical-align:middle;\" /></a></td></tr>\n",
       "<tr><td>13</td><td>Variable</td><td></td><td><a class=\"ProveItLink\" href=\"../../../../__pv_it/cbdfda466482236edba0ce44ac7ef39cda0af7a40/expr.ipynb\"><img src=\"data:image/png;base64,iVBORw0KGgoAAAANSUhEUgAAAAkAAAAJBAMAAAASvxsjAAAALVBMVEX///9mZmbc3NxUVFSYmJhE\n",
       "REQiIiIyMjK6uroQEBDMzMyIiIh2dnbu7u4AAABgFDGoAAAAAXRSTlMAQObYZgAAADZJREFUCNdj\n",
       "YOA9s3sBA8PKBvYEBt7ZDKwODMwPGICALwBE6m0Asx0YGIDiAgw8QJUyu/cyAAAmuwmycZ8WfQAA\n",
       "AABJRU5ErkJggg==\n",
       "\" style=\"display:inline;vertical-align:middle;\" /></a></td></tr>\n",
       "<tr><td>14</td><td>Variable</td><td></td><td><a class=\"ProveItLink\" href=\"../../../../__pv_it/f8b9edf8e16034727f0aad55bb83e392c3db40d40/expr.ipynb\"><img src=\"data:image/png;base64,iVBORw0KGgoAAAANSUhEUgAAAAsAAAANBAMAAACN24kIAAAAMFBMVEX///+YmJhUVFQyMjIQEBBE\n",
       "REQiIiKqqqrMzMyIiIi6urrc3NxmZmZ2dnbu7u4AAADXeCicAAAAAXRSTlMAQObYZgAAAFhJREFU\n",
       "CNdj4LtzgWH/AwZerg8M8xkY2nkSGEIZGB6wTGD4ycDAUP+A4weQOszA6QCkbBhYFYDUIYb1AkDq\n",
       "6czzGxhA4BoQMyXwuQMptgusF4AU+8xTQBIAUqMVoSp/SLMAAAAASUVORK5CYII=\n",
       "\" style=\"display:inline;vertical-align:middle;\" /></a></td></tr>\n",
       "</table>\n"
      ],
      "text/plain": [
       "0. a = (b + (c / y) + c^{y})\n",
       "   core type: Operation\n",
       "   operator: 1\n",
       "   operands: 2\n",
       "1. =\n",
       "   core type: Literal\n",
       "   sub-expressions: \n",
       "2. (a , b + (c / y) + c^{y})\n",
       "   core type: ExprTuple\n",
       "   sub-expressions: 3, 4\n",
       "3. a\n",
       "   core type: Variable\n",
       "   sub-expressions: \n",
       "4. b + (c / y) + c^{y}\n",
       "   core type: Operation\n",
       "   operator: 5\n",
       "   operands: 6\n",
       "5. +\n",
       "   core type: Literal\n",
       "   sub-expressions: \n",
       "6. (b , c / y , c^{y})\n",
       "   core type: ExprTuple\n",
       "   sub-expressions: 7, 8, 9\n",
       "7. b\n",
       "   core type: Variable\n",
       "   sub-expressions: \n",
       "8. c / y\n",
       "   core type: Operation\n",
       "   operator: 10\n",
       "   operands: 12\n",
       "9. c^{y}\n",
       "   core type: Operation\n",
       "   operator: 11\n",
       "   operands: 12\n",
       "10. /\n",
       "    core type: Literal\n",
       "    sub-expressions: \n",
       "11. Exp\n",
       "    core type: Literal\n",
       "    sub-expressions: \n",
       "12. (c , y)\n",
       "    core type: ExprTuple\n",
       "    sub-expressions: 13, 14\n",
       "13. c\n",
       "    core type: Variable\n",
       "    sub-expressions: \n",
       "14. y\n",
       "    core type: Variable\n",
       "    sub-expressions: "
      ]
     },
     "execution_count": 4,
     "metadata": {},
     "output_type": "execute_result"
    }
   ],
   "source": [
    "# display the expression information\n",
    "expr.exprInfo()"
   ]
  },
  {
   "cell_type": "code",
   "execution_count": null,
   "metadata": {},
   "outputs": [],
   "source": []
  }
 ],
 "metadata": {
  "kernelspec": {
   "display_name": "Python 3",
   "language": "python",
   "name": "python3"
  }
 },
 "nbformat": 4,
 "nbformat_minor": 0
}
