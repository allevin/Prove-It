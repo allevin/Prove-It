{
 "cells": [
  {
   "cell_type": "markdown",
   "metadata": {},
   "source": [
    "Expression of type <a class=\"ProveItLink\" href=\"../../../../../../doc/html/api/proveit.Function.html\">Function</a>\n",
    "=======================\n",
    "# from context <a class=\"ProveItLink\" href=\"../../_context_.ipynb\">proveit.logic.equality</a>"
   ]
  },
  {
   "cell_type": "code",
   "execution_count": 1,
   "metadata": {},
   "outputs": [],
   "source": [
    "# import Expression classes needed to build the expression\n",
    "from proveit import Function\n",
    "from proveit._common_ import P, X"
   ]
  },
  {
   "cell_type": "code",
   "execution_count": 2,
   "metadata": {},
   "outputs": [
    {
     "data": {
      "text/html": [
       "<strong id=\"expr\">expr:</strong> <a class=\"ProveItLink\" href=\"expr.ipynb\"><img src=\"data:image/png;base64,iVBORw0KGgoAAAANSUhEUgAAADUAAAAVBAMAAAAUZLt1AAAAMFBMVEX////u7u5mZmaYmJi6urqq\n",
       "qqp2dnbMzMwQEBBEREQyMjLc3NwiIiJUVFSIiIgAAAAeC3ydAAAAAXRSTlMAQObYZgAAAShJREFU\n",
       "KM9jYCASsDxAsE3A5Nv/d++e3QBi1QKx7f82hl0/rjIwFYAlfzEwcHaDGAtBxP0ABtYLQHoBiMP+\n",
       "jYGBFYgZ+MBG1i9g2ASizUAE3xcGBuZPQAaHAIjL9ZtbAURLgAjODwwMvF+BDC+wDayfZME0ZwCQ\n",
       "4AeaLD8ByFCDuLD/IphiA+muT2BgPwTiLYbI5UN8wgpyzPtraWpgL7RA5O4fgHi2AUjMF4B69wuY\n",
       "ZNoLodmBzmD4w4Aip87+Ey7H/gkm1wp2ggPD+Q0wM/m+wOQmg4gnDAz2YP8xA93C+REmlwSyLQHo\n",
       "qQ9QPwjN/wsLfR8GBs/+Iwws6/+AfMjlgBxFHBuQeRIo0cecgMzLQ43bhUhsxgWocnuR2LwbUOW4\n",
       "kdLEcwYGAKihSR1uYyKHAAAAAElFTkSuQmCC\n",
       "\" style=\"display:inline;vertical-align:middle;\" /></a><br>"
      ],
      "text/plain": [
       "expr: P(X)"
      ]
     },
     "execution_count": 2,
     "metadata": {},
     "output_type": "execute_result"
    }
   ],
   "source": [
    "# build up the expression from sub-expressions\n",
    "expr = Function(P, X)"
   ]
  },
  {
   "cell_type": "code",
   "execution_count": 3,
   "metadata": {},
   "outputs": [
    {
     "name": "stdout",
     "output_type": "stream",
     "text": [
      "Passed sanity check: built 'expr' is the same as the stored Expression.\n"
     ]
    }
   ],
   "source": [
    "# check that the built expression is the same as the stored expression\n",
    "%check_expr"
   ]
  },
  {
   "cell_type": "code",
   "execution_count": 4,
   "metadata": {},
   "outputs": [
    {
     "data": {
      "text/html": [
       "<table><tr><th>&nbsp;</th><th>core type</th><th>sub-expressions</th><th>expression</th></tr>\n",
       "<tr><td>0</td><td>Operation</td><td>operator:&nbsp;1<br>operand:&nbsp;2<br></td><td><a class=\"ProveItLink\" href=\"expr.ipynb\"><img src=\"data:image/png;base64,iVBORw0KGgoAAAANSUhEUgAAADUAAAAVBAMAAAAUZLt1AAAAMFBMVEX////u7u5mZmaYmJi6urqq\n",
       "qqp2dnbMzMwQEBBEREQyMjLc3NwiIiJUVFSIiIgAAAAeC3ydAAAAAXRSTlMAQObYZgAAAShJREFU\n",
       "KM9jYCASsDxAsE3A5Nv/d++e3QBi1QKx7f82hl0/rjIwFYAlfzEwcHaDGAtBxP0ABtYLQHoBiMP+\n",
       "jYGBFYgZ+MBG1i9g2ASizUAE3xcGBuZPQAaHAIjL9ZtbAURLgAjODwwMvF+BDC+wDayfZME0ZwCQ\n",
       "4AeaLD8ByFCDuLD/IphiA+muT2BgPwTiLYbI5UN8wgpyzPtraWpgL7RA5O4fgHi2AUjMF4B69wuY\n",
       "ZNoLodmBzmD4w4Aip87+Ey7H/gkm1wp2ggPD+Q0wM/m+wOQmg4gnDAz2YP8xA93C+REmlwSyLQHo\n",
       "qQ9QPwjN/wsLfR8GBs/+Iwws6/+AfMjlgBxFHBuQeRIo0cecgMzLQ43bhUhsxgWocnuR2LwbUOW4\n",
       "kdLEcwYGAKihSR1uYyKHAAAAAElFTkSuQmCC\n",
       "\" style=\"display:inline;vertical-align:middle;\" /></a></td></tr>\n",
       "<tr><td>1</td><td>Variable</td><td></td><td><a class=\"ProveItLink\" href=\"../../../../__pv_it/6369c6c8083c513ca7161ace249642d040f9327d0/expr.ipynb\"><img src=\"data:image/png;base64,iVBORw0KGgoAAAANSUhEUgAAABAAAAAOBAMAAADUAYG5AAAAMFBMVEX////u7u5mZmaYmJi6urqq\n",
       "qqp2dnbMzMwQEBBEREQyMjLc3NwiIiJUVFSIiIgAAAAeC3ydAAAAAXRSTlMAQObYZgAAAGBJREFU\n",
       "CNdjYGB4+//u3bMbGIDgFwMDZzeQZv/GwMAKxAx8XxgYmD8BGZwfGBh4vwIZ/AsYGOQnABn1CQzs\n",
       "h0Ca3l9LUwPrni/AAAF/oDT7JygDZAwYcH6E0ELz/z4A0QBnpRnRyxnfJQAAAABJRU5ErkJggg==\n",
       "\" style=\"display:inline;vertical-align:middle;\" /></a></td></tr>\n",
       "<tr><td>2</td><td>Variable</td><td></td><td><a class=\"ProveItLink\" href=\"../../../../__pv_it/66cd610ba99eba68f315bbcf220cc988223124550/expr.ipynb\"><img src=\"data:image/png;base64,iVBORw0KGgoAAAANSUhEUgAAABIAAAAOBAMAAADQ9FGEAAAAMFBMVEX///9ERES6uroiIiKIiIju\n",
       "7u5mZmbMzMyqqqoyMjLc3Nx2dnYQEBBUVFSYmJgAAADDc6PYAAAAAXRSTlMAQObYZgAAAGRJREFU\n",
       "CNdjYGB4+/80w8o/NxiA4H4DA8cFEIOhfgLDMjCDgfMXVwKExfEtlgEKzl+FsfY7wFj3DaAMtrWf\n",
       "oKx09o8QBrcCg/0CMMuJgeE92Dy2DQwM/B+ADMXzRgxM8z9fZQAAyVAaemEFKr0AAAAASUVORK5C\n",
       "YII=\n",
       "\" style=\"display:inline;vertical-align:middle;\" /></a></td></tr>\n",
       "</table>\n"
      ],
      "text/plain": [
       "0. P(X)\n",
       "   core type: Operation\n",
       "   operator: 1\n",
       "   operand: 2\n",
       "1. P\n",
       "   core type: Variable\n",
       "   sub-expressions: \n",
       "2. X\n",
       "   core type: Variable\n",
       "   sub-expressions: "
      ]
     },
     "execution_count": 4,
     "metadata": {},
     "output_type": "execute_result"
    }
   ],
   "source": [
    "# display the expression information\n",
    "expr.exprInfo()"
   ]
  },
  {
   "cell_type": "code",
   "execution_count": null,
   "metadata": {},
   "outputs": [],
   "source": []
  }
 ],
 "metadata": {
  "kernelspec": {
   "display_name": "Python 3",
   "language": "python",
   "name": "python3"
  }
 },
 "nbformat": 4,
 "nbformat_minor": 0
}
