{
 "cells": [
  {
   "cell_type": "markdown",
   "metadata": {},
   "source": [
    "Show the Proof\n",
    "========"
   ]
  },
  {
   "cell_type": "code",
   "execution_count": 1,
   "metadata": {},
   "outputs": [
    {
     "data": {
      "text/html": [
       "<table><tr><th>&nbsp;</th><th>step type</th><th>requirements</th><th>statement</th></tr>\n",
       "<tr><td>0</td><td>specialization</td><td>1, 2</td><td><span style=\"font-size:20px;\"><a class=\"ProveItLink\" href=\"../8135a462fb779889fd4ae1b9b2e36d99f8de40790/expr.ipynb\"><img src=\"data:image/png;base64,iVBORw0KGgoAAAANSUhEUgAAAEIAAAAVCAMAAADFAciVAAAAPFBMVEX///8LCwsYGBgNDQ0oKChE\n",
       "RETc3NyqqqpUVFS6urrMzMwyMjIQEBCIiIh2dnYiIiLu7u5mZmaYmJgAAADt+DP7AAAAAXRSTlMA\n",
       "QObYZgAAARtJREFUOMudlNu6xBAMhe2DirPw/u+6CabDzJTuXPSj5bespGGsRMTIbody7ujj4N1q\n",
       "+bl4gBjRRjatCIc+xwGM72Ps751ZIUA+zzSweecS8SwiRxL3EaMImcJthOKjtZ59RhxgnTQv5nPF\n",
       "RiushTju7L7Sbn6mBzXF7095PiwMqYhKhI2pZ7de9UgFjXwhQpAVppaSxgIA05YAIb2dCBLGedWc\n",
       "sPF1JP2VQQJDUhNCT954pKxUM3pdg673sCQzY/p5Psf3l6fgQ1VgTWz3omUp0LeME+pKRDWyWTEn\n",
       "tdxKZJnuyol8SD4J4X1d5KqwUnErL0Xk38w+WsNOdQq87gEbCB/2ENH8U8TZL8JLOW2K6HVNOpx4\n",
       "u0bu9M4/J0wNCUeljr8AAAAASUVORK5CYII=\n",
       "\" style=\"display:inline;vertical-align:middle;\" /></a> <a class=\"ProveItLink\" href=\"proof.ipynb\" style=\"text-decoration: none\">&#x22A2;&nbsp;</a><a class=\"ProveItLink\" href=\"../bf526a0e32e7f82c578e8133fcc440ba64c5b47f0/expr.ipynb\"><img src=\"data:image/png;base64,iVBORw0KGgoAAAANSUhEUgAAADAAAAAUCAMAAAD84U6VAAAAPFBMVEX///8LCwsYGBgNDQ0oKCjc\n",
       "3NxmZmbMzMxERESYmJiIiIh2dna6urqqqqoyMjIiIiIQEBBUVFTu7u4AAACG5AffAAAAAXRSTlMA\n",
       "QObYZgAAAMdJREFUKM+1UssSwyAItI+gxVfQ///XImnTCdHMeCgHxwFcdheNGYdfuulCa+4WljRC\n",
       "StRNUxg9qHFuQKhlboDvSrDOjCUg0ktnnVUMCX1Ym2+lNqz6rUOSeD7a+XNDel1t1ygSVn85YKmN\n",
       "ArgNUpyCoxHKaRLsjHKCOHUUkdSShXbZeMsWYLcWMsf9liXczgiFPD/6yFUS9IAiqJRM5GbiO9Cl\n",
       "AkZgxpHJe/l8CGoL6fRNeQsYrMP+9iOYuchlrv/vA0y4rL4ByNcIcfwhiOoAAAAASUVORK5CYII=\n",
       "\" style=\"display:inline;vertical-align:middle;\" /></a></span></td></tr>\n",
       "<tr><td>&nbsp;</td><td colspan=4 style=\"text-align:left\"><span style=\"font-size:20px;\"><a class=\"ProveItLink\" href=\"../../../../__pv_it/530be409e3083890784cf1d7b28c9e67e90af9360/expr.ipynb\"><img src=\"data:image/png;base64,iVBORw0KGgoAAAANSUhEUgAAAAsAAAAJBAMAAAAWSsseAAAAKlBMVEX///9ERETMzMwQEBAiIiKY\n",
       "mJju7u5mZmaqqqpUVFSIiIh2dnbc3NwAAAA/vyDhAAAAAXRSTlMAQObYZgAAAENJREFUCNdjYDi9\n",
       "8sTyBQxsG1hdmR0YuBm4LnAoMLAxcAowgADzAjB1VoEhgYH1wFoGrgSG3gBhhlMMDImrs3cFMAAA\n",
       "t0YN+iTRa+sAAAAASUVORK5CYII=\n",
       "\" style=\"display:inline;vertical-align:middle;\" /></a> : <a class=\"ProveItLink\" href=\"../../../../__pv_it/07527342713064c87612d00d8557c53d53d5324a0/expr.ipynb\"><img src=\"data:image/png;base64,iVBORw0KGgoAAAANSUhEUgAAAAsAAAAJBAMAAAAWSsseAAAAMFBMVEX///8yMjKqqqrMzMzu7u4i\n",
       "IiJmZmaYmJhEREQQEBC6urp2dnaIiIhUVFTc3NwAAAD87Fq/AAAAAXRSTlMAQObYZgAAAEhJREFU\n",
       "CNdjYOC7s2seAwPDygccHxgY+L4zsDUwMPB+YGA9wMDA38Dgb8DA8P4Agz6DA4O/AsNFJgMGxgKm\n",
       "MG6gyjunLE4xAAAZTBA5TB6DCwAAAABJRU5ErkJggg==\n",
       "\" style=\"display:inline;vertical-align:middle;\" /></a>, <a class=\"ProveItLink\" href=\"../../../../__pv_it/f8b9edf8e16034727f0aad55bb83e392c3db40d40/expr.ipynb\"><img src=\"data:image/png;base64,iVBORw0KGgoAAAANSUhEUgAAAAsAAAANBAMAAACN24kIAAAAMFBMVEX///+YmJhUVFQyMjIQEBBE\n",
       "REQiIiKqqqrMzMyIiIi6urrc3NxmZmZ2dnbu7u4AAADXeCicAAAAAXRSTlMAQObYZgAAAFhJREFU\n",
       "CNdj4LtzgWH/AwZerg8M8xkY2nkSGEIZGB6wTGD4ycDAUP+A4weQOszA6QCkbBhYFYDUIYb1AkDq\n",
       "6czzGxhA4BoQMyXwuQMptgusF4AU+8xTQBIAUqMVoSp/SLMAAAAASUVORK5CYII=\n",
       "\" style=\"display:inline;vertical-align:middle;\" /></a> : <a class=\"ProveItLink\" href=\"../../../../__pv_it/6840a4fa6c106149dc16a131294d0c5e44f1b0480/expr.ipynb\"><img src=\"data:image/png;base64,iVBORw0KGgoAAAANSUhEUgAAAAkAAAAOBAMAAAAPuiubAAAALVBMVEX///9mZmbMzMxERESYmJiI\n",
       "iIh2dna6urqqqqoyMjIiIiIQEBBUVFTu7u4AAAD9S1JeAAAAAXRSTlMAQObYZgAAAE1JREFUCNdj\n",
       "4D29gAEIOA+ASL4GEFl3AURmgQiGOaFHGBh4HzPwKTBwvGXgTmBgnMDAJ8DAJcBQ5wBSLncBJLWN\n",
       "gYGngRFoBO9REQYGAGrcDtUkVqASAAAAAElFTkSuQmCC\n",
       "\" style=\"display:inline;vertical-align:middle;\" /></a></span></td></tr><tr><td>1</td><td>theorem</td><td></td><td><span style=\"font-size:20px;\"> <a class=\"ProveItLink\" href=\"../../_proofs_/notEqualsSymmetry.ipynb\" style=\"text-decoration: none\">&#x22A2;&nbsp;</a><a class=\"ProveItLink\" href=\"../142f124dff1286bc3a1a7614a61793788632c0a00/expr.ipynb\"><img src=\"data:image/png;base64,iVBORw0KGgoAAAANSUhEUgAAAKEAAAAXCAMAAABUHN/sAAAAQlBMVEX///8LCwsYGBgNDQ0oKCgU\n",
       "FBQJCQkQEBC6urrMzMxUVFRmZmZERETc3NwyMjKqqqp2dnaIiIiYmJgiIiLu7u4AAABNCf5tAAAA\n",
       "AXRSTlMAQObYZgAAAktJREFUSMfNVgly5CAMJNkk5gZx/P+ri7DBYGOco5xdqmZqxpag1WpJEPLf\n",
       "r/Abh1CYv7dq+NhR/Pb7f3gKIOPz90pfvBAM4ZvyVz9G593OnF56In5ZApFPAQT4JoUpr7YJUJin\n",
       "EC7fppCEJcNUefnHykTfqHSWPIm8RYnL26cQim3nYPMvFQ+UStbn3AJXBsQqDSuQ5Gwh1SfYmHWt\n",
       "S3/ttpZCaERVxoJc5/X2B79rtYcUhfOOLGtODSaA4tugP8HGLB2CXcpwDYwZIvBUKacU2i0Isz6m\n",
       "S2mJ4H6GUF23vEjLaFgwc7GvbMrPE4TvB7HMOKLz4WcIJyKJRRwGFchiz5keOC5wQJgyXLp+UikF\n",
       "zsqskn2vaBF2loTasUc+z1ThIR1L1YVP6/XF59VurXIQoclyImBrSTYgw9uWAUhUhC1DDqslz3L/\n",
       "SB8YeGSvIiCNdSn5nEKn1lqCFaFb68MIX4tVV0GqQNNjkEOEnWVR8dmjNoxMWgJHo5upMCnBEZlC\n",
       "VNA7N4mPTVA85Y7DlQ53yyCvPDIKX80ARFRTCpONDdbWwtWbiF1VDqaItX1iYRcIN0uZ8vv+pnOW\n",
       "zx7rNg0M240uI+7uhgfFpMKxOrcklYNLZ9E4rOXdsu80R499/CduPZ7YTf/bDmLhRLERiWVEgDQb\n",
       "DlIPEe6W+Hg/5+jR3r5wrkr7NQpncyQhVOogqnE/NPupJ4+2nZukwn5u3lLIJ6OYqRxwfy+Rl7fM\n",
       "YmDHNxkFX57zuUWwOYUYtL2fKa5R1snjtxf/F4f+BTXlHex98CG5AAAAAElFTkSuQmCC\n",
       "\" style=\"display:inline;vertical-align:middle;\" /></a></span></td></tr>\n",
       "<tr><td>&nbsp;</td><td colspan=4 style-\"text-align:left\"><a class=\"ProveItLink\" href=\"../../_proofs_/notEqualsSymmetry.ipynb\">proveit.logic.equality.notEqualsSymmetry</a></td></tr><tr><td>2</td><td>assumption</td><td></td><td><span style=\"font-size:20px;\"><a class=\"ProveItLink\" href=\"../8135a462fb779889fd4ae1b9b2e36d99f8de40790/expr.ipynb\"><img src=\"data:image/png;base64,iVBORw0KGgoAAAANSUhEUgAAAEIAAAAVCAMAAADFAciVAAAAPFBMVEX///8LCwsYGBgNDQ0oKChE\n",
       "RETc3NyqqqpUVFS6urrMzMwyMjIQEBCIiIh2dnYiIiLu7u5mZmaYmJgAAADt+DP7AAAAAXRSTlMA\n",
       "QObYZgAAARtJREFUOMudlNu6xBAMhe2DirPw/u+6CabDzJTuXPSj5bespGGsRMTIbody7ujj4N1q\n",
       "+bl4gBjRRjatCIc+xwGM72Ps751ZIUA+zzSweecS8SwiRxL3EaMImcJthOKjtZ59RhxgnTQv5nPF\n",
       "RiushTju7L7Sbn6mBzXF7095PiwMqYhKhI2pZ7de9UgFjXwhQpAVppaSxgIA05YAIb2dCBLGedWc\n",
       "sPF1JP2VQQJDUhNCT954pKxUM3pdg673sCQzY/p5Psf3l6fgQ1VgTWz3omUp0LeME+pKRDWyWTEn\n",
       "tdxKZJnuyol8SD4J4X1d5KqwUnErL0Xk38w+WsNOdQq87gEbCB/2ENH8U8TZL8JLOW2K6HVNOpx4\n",
       "u0bu9M4/J0wNCUeljr8AAAAASUVORK5CYII=\n",
       "\" style=\"display:inline;vertical-align:middle;\" /></a> <a class=\"ProveItLink\" href=\"../0d596c2edf65920b2712372138d49fd02137ec000/proof.ipynb\" style=\"text-decoration: none\">&#x22A2;&nbsp;</a><a class=\"ProveItLink\" href=\"../19ff6125cfeededb0a6e66fb1e0c7ddff3c2dd3b0/expr.ipynb\"><img src=\"data:image/png;base64,iVBORw0KGgoAAAANSUhEUgAAADAAAAAUCAMAAAD84U6VAAAAPFBMVEX///8LCwsYGBgNDQ0oKCgy\n",
       "MjKqqqrMzMzu7u4iIiJmZmaYmJhEREQQEBC6urp2dnaIiIhUVFTc3NwAAABYMwFzAAAAAXRSTlMA\n",
       "QObYZgAAAMhJREFUKM+1kusOwyAIhdnFG7WI+v7vOiRbu9rMxh87SRuNwOcBAUZKBaZUzL72eQ2X\n",
       "CZm+dybPAETVzgGo+ot4F48N2C2UzInWU0Oig6MF5rwoq8XGup2gUT0f7b8Z9bUBqxQptaVhvABY\n",
       "tbAmsaa1A3fx1DURtWUV5YsKdF2C6TwF1E4tciNWoCR9agXR/RZU8TAFlHt5XWUD1o0AalctgBHP\n",
       "VoBp5EBKSl3M7ykwucg0BMjjY1x+Dtni3LOG4Ofi/w4AGpy9AOYzB/Lf2im1AAAAAElFTkSuQmCC\n",
       "\" style=\"display:inline;vertical-align:middle;\" /></a></span></td></tr>\n",
       "</table>"
      ],
      "text/plain": [
       "<proveit._core_.proof._ShowProof at 0x7f94ea6c39e8>"
      ]
     },
     "execution_count": 1,
     "metadata": {},
     "output_type": "execute_result"
    }
   ],
   "source": [
    "import proveit\n",
    "%show_proof"
   ]
  },
  {
   "cell_type": "code",
   "execution_count": null,
   "metadata": {},
   "outputs": [],
   "source": []
  }
 ],
 "metadata": {
  "kernelspec": {
   "display_name": "Python 3",
   "language": "python",
   "name": "python3"
  }
 },
 "nbformat": 4,
 "nbformat_minor": 0
}
