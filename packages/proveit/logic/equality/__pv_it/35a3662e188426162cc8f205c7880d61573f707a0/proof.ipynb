{
 "cells": [
  {
   "cell_type": "markdown",
   "metadata": {},
   "source": [
    "Show the Proof\n",
    "========"
   ]
  },
  {
   "cell_type": "code",
   "execution_count": 1,
   "metadata": {},
   "outputs": [
    {
     "data": {
      "text/html": [
       "<table><tr><th>&nbsp;</th><th>step type</th><th>requirements</th><th>statement</th></tr>\n",
       "<tr><td>0</td><td>assumption</td><td></td><td><span style=\"font-size:20px;\"><a class=\"ProveItLink\" href=\"../7516ecb61455b1e447f58c82afec0cced7e0c2630/expr.ipynb\"><img src=\"data:image/png;base64,iVBORw0KGgoAAAANSUhEUgAAAEUAAAAVBAMAAADiLT7tAAAAMFBMVEX///9ERETc3NyqqqpUVFS6\n",
       "urrMzMwyMjIQEBCIiIh2dnYiIiLu7u5mZmaYmJgAAABJJ2g3AAAAAXRSTlMAQObYZgAAAR5JREFU\n",
       "KM9jYGDgu8eAE7CtUgBRPLsY8AC2ZhDJ+QGb3PKP9RUbDYCM6yAeVwNWAwQieWpWAekVeNUwTGXH\n",
       "ruZk9e7tMDV2LAewqWGrO4BkjiKKOUyeS5tAHMUDCLvY9snA1PAWAIkIBUaw94QQ7one/2MCkH4P\n",
       "4mQEAI35x8ArAAorAWQ3zzQE0uwXGBhS2oAMlg8M3CBNrN27dyPczMi6AMgQfwC0JoGBgV+A4XwC\n",
       "yMkOyOYwMgCN5QapYwG6R38Cgz0D0Lk8GzDUgN3DBRQ/b8DgzgwyyA9FDcguuN/ZHzDv5QJxTgcg\n",
       "qXk7ETl8mDynJk4FcZhqE+BxKt1igD0umN2h/oIBfHGKooYPvxpw+uHZiTcdtoIpvsUE0jMAepxN\n",
       "yfP0vlsAAAAASUVORK5CYII=\n",
       "\" style=\"display:inline;vertical-align:middle;\" /></a> <a class=\"ProveItLink\" href=\"proof.ipynb\" style=\"text-decoration: none\">&#x22A2;&nbsp;</a><a class=\"ProveItLink\" href=\"../c9cdbe8505664f14b67f578621037db09de1ac2f0/expr.ipynb\"><img src=\"data:image/png;base64,iVBORw0KGgoAAAANSUhEUgAAADEAAAAPBAMAAAC/wjryAAAAMFBMVEX///8yMjKqqqrMzMzu7u4i\n",
       "IiJmZmaYmJhEREQQEBC6urp2dnaIiIhUVFTc3NwAAAD87Fq/AAAAAXRSTlMAQObYZgAAALxJREFU\n",
       "GNNjYMAAG3/IS0YoMGADDWtYRHbjkGE4xYgs4CMaGgiTUed1QEgwizsg6XkBpPnu7JoH4r9wQJjG\n",
       "HN4CpFc+4PgA4vch7Fka//MAUMt3BrYGIJelAdkFZzQYGHg/MLACFTBwTQ0NRbiAg2sDA38Dg78B\n",
       "yAEXkPVwMDQwvD/AoM8AtJwlAF3GX4HhIhNI03UUGaBpjAVMYdwgvusCJJmyEyDvnLI4BeLziRnA\n",
       "Q7R1LkqIMl2Eug0CAOhQOV/RyScUAAAAAElFTkSuQmCC\n",
       "\" style=\"display:inline;vertical-align:middle;\" /></a></span></td></tr>\n",
       "</table>"
      ],
      "text/plain": [
       "<proveit._core_.proof._ShowProof at 0x7f95000a43c8>"
      ]
     },
     "execution_count": 1,
     "metadata": {},
     "output_type": "execute_result"
    }
   ],
   "source": [
    "import proveit\n",
    "%show_proof"
   ]
  },
  {
   "cell_type": "code",
   "execution_count": null,
   "metadata": {},
   "outputs": [],
   "source": []
  }
 ],
 "metadata": {
  "kernelspec": {
   "display_name": "Python 3",
   "language": "python",
   "name": "python3"
  }
 },
 "nbformat": 4,
 "nbformat_minor": 0
}
