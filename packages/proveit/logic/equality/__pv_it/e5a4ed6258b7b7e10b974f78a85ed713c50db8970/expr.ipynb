{
 "cells": [
  {
   "cell_type": "markdown",
   "metadata": {},
   "source": [
    "Expression of type <a class=\"ProveItLink\" href=\"../../../../../../doc/html/api/proveit.Lambda.html\">Lambda</a>\n",
    "=======================\n",
    "# from context <a class=\"ProveItLink\" href=\"../../_context_.ipynb\">proveit.logic.equality</a>"
   ]
  },
  {
   "cell_type": "code",
   "execution_count": 1,
   "metadata": {},
   "outputs": [],
   "source": [
    "# import Expression classes needed to build the expression\n",
    "from proveit import Lambda\n",
    "from proveit._common_ import x, y\n",
    "from proveit.logic import Equals, Forall"
   ]
  },
  {
   "cell_type": "code",
   "execution_count": 2,
   "metadata": {},
   "outputs": [
    {
     "data": {
      "text/html": [
       "<strong id=\"expr\">expr:</strong> <a class=\"ProveItLink\" href=\"expr.ipynb\"><img src=\"data:image/png;base64,iVBORw0KGgoAAAANSUhEUgAAAQcAAAAWCAMAAAD6iKkfAAAAOVBMVEX///+/v7+6uroUFBQNDQ0y\n",
       "MjJERETMzMwQEBAiIiKYmJju7u5mZmaqqqpUVFSIiIh2dnbc3NwAAAC8sExMAAAAAXRSTlMAQObY\n",
       "ZgAAAspJREFUWMPtWNuWnSAMpUxFLnL9/48tCBwJyIA4felqXrYzxs0mJAEOQv9txTTbfs34YQ3x\n",
       "oXE857dGn9kT8o3hpxQGI3bxdVXsCuJjO/YZr1X6zJ7RrMTByPzHJnpu+U3fY2TblJN4yb69iIMl\n",
       "6fnz0FaPhriSu2aiSPVb9oRLcfiswiF7XlRAXDBBxz7r9Jk94VocuLGnsW732iAuGZHDJrm9Z494\n",
       "xsEarazUh74vTSnrOCBHgrFu5h4GoDDng3WD5YNCzDHsdubuu24KABWZPWKYlfBvOeOIfpa3Wmcl\n",
       "6jios80S2+1CHKBB2IVqdp8JbIWpSygQIq/luPfP9M0E7t2hisweMczKpJdy78RBKFvFAQdy0c9K\n",
       "ikvcJToCJSGDkoNC8LBBpGHaCdxusVBFZo945kNYYCDx9xcDRh2GcTgjpXl3zOwf0Q9AQ8q6QXev\n",
       "hOxuFIc0TDuBDnupIrNHzH2SAol1/1O4yoczBkxMxsGvVKjJ3U0cjQoh03FoJ3BvQMVtHOz5UnTi\n",
       "cNi6P4SaSEc5rEm7gVEJ8QglpK88P8psK1eyFIKH/lTefdd1ByrauuA29g7dicOum/0i9MiYJEIj\n",
       "Z9FelTLhELfQlMnoDFwJ4cNdMdG3E+h071JFZue5T0rHEfHzsNd0dVO2TRzkEYNlBfYPuqpOuCn5\n",
       "lfCDY8dHaQuFjPfN6HEzgc42W6po9k1BtBHGaD5/jgIFqXy7VpUEzCD6MfTh7KCRVUK24Rkv0k9P\n",
       "AKjI7BHXzpNnPoli86J1B6QWYviQ/YVztX0sn/3guRpq2eP55JtrjGJhQPlwoIkdYOYudu16pYrM\n",
       "nvAH4iCVJtv39+5wACfmYTr8+L27VJHZxZt7N7wT2LY9hH+rAqWvy6cDqamUtw9+hylVZPaMz+Og\n",
       "GQPNwEf49tqXu7dd+4lA73N+a/SZPaGfE0YvzUfZoH/A/gBTIyLzal9l5AAAAABJRU5ErkJggg==\n",
       "\" style=\"display:inline;vertical-align:middle;\" /></a><br>"
      ],
      "text/plain": [
       "expr: x -> [forall_{y} ((y = x) = (x = y))]"
      ]
     },
     "execution_count": 2,
     "metadata": {},
     "output_type": "execute_result"
    }
   ],
   "source": [
    "# build up the expression from sub-expressions\n",
    "expr = Lambda(x, Forall([y], Equals(Equals(y, x), Equals(x, y)), conditions = []))"
   ]
  },
  {
   "cell_type": "code",
   "execution_count": 3,
   "metadata": {},
   "outputs": [
    {
     "name": "stdout",
     "output_type": "stream",
     "text": [
      "Passed sanity check: built 'expr' is the same as the stored Expression.\n"
     ]
    }
   ],
   "source": [
    "# check that the built expression is the same as the stored expression\n",
    "%check_expr"
   ]
  },
  {
   "cell_type": "code",
   "execution_count": 4,
   "metadata": {},
   "outputs": [
    {
     "data": {
      "text/html": [
       "<table><tr><th>&nbsp;</th><th>core type</th><th>sub-expressions</th><th>expression</th></tr>\n",
       "<tr><td>0</td><td>Lambda</td><td>parameter:&nbsp;11<br>body:&nbsp;1<br></td><td><a class=\"ProveItLink\" href=\"expr.ipynb\"><img src=\"data:image/png;base64,iVBORw0KGgoAAAANSUhEUgAAAQcAAAAWCAMAAAD6iKkfAAAAOVBMVEX///+/v7+6uroUFBQNDQ0y\n",
       "MjJERETMzMwQEBAiIiKYmJju7u5mZmaqqqpUVFSIiIh2dnbc3NwAAAC8sExMAAAAAXRSTlMAQObY\n",
       "ZgAAAspJREFUWMPtWNuWnSAMpUxFLnL9/48tCBwJyIA4felqXrYzxs0mJAEOQv9txTTbfs34YQ3x\n",
       "oXE857dGn9kT8o3hpxQGI3bxdVXsCuJjO/YZr1X6zJ7RrMTByPzHJnpu+U3fY2TblJN4yb69iIMl\n",
       "6fnz0FaPhriSu2aiSPVb9oRLcfiswiF7XlRAXDBBxz7r9Jk94VocuLGnsW732iAuGZHDJrm9Z494\n",
       "xsEarazUh74vTSnrOCBHgrFu5h4GoDDng3WD5YNCzDHsdubuu24KABWZPWKYlfBvOeOIfpa3Wmcl\n",
       "6jios80S2+1CHKBB2IVqdp8JbIWpSygQIq/luPfP9M0E7t2hisweMczKpJdy78RBKFvFAQdy0c9K\n",
       "ikvcJToCJSGDkoNC8LBBpGHaCdxusVBFZo945kNYYCDx9xcDRh2GcTgjpXl3zOwf0Q9AQ8q6QXev\n",
       "hOxuFIc0TDuBDnupIrNHzH2SAol1/1O4yoczBkxMxsGvVKjJ3U0cjQoh03FoJ3BvQMVtHOz5UnTi\n",
       "cNi6P4SaSEc5rEm7gVEJ8QglpK88P8psK1eyFIKH/lTefdd1ByrauuA29g7dicOum/0i9MiYJEIj\n",
       "Z9FelTLhELfQlMnoDFwJ4cNdMdG3E+h071JFZue5T0rHEfHzsNd0dVO2TRzkEYNlBfYPuqpOuCn5\n",
       "lfCDY8dHaQuFjPfN6HEzgc42W6po9k1BtBHGaD5/jgIFqXy7VpUEzCD6MfTh7KCRVUK24Rkv0k9P\n",
       "AKjI7BHXzpNnPoli86J1B6QWYviQ/YVztX0sn/3guRpq2eP55JtrjGJhQPlwoIkdYOYudu16pYrM\n",
       "nvAH4iCVJtv39+5wACfmYTr8+L27VJHZxZt7N7wT2LY9hH+rAqWvy6cDqamUtw9+hylVZPaMz+Og\n",
       "GQPNwEf49tqXu7dd+4lA73N+a/SZPaGfE0YvzUfZoH/A/gBTIyLzal9l5AAAAABJRU5ErkJggg==\n",
       "\" style=\"display:inline;vertical-align:middle;\" /></a></td></tr>\n",
       "<tr><td>1</td><td>Operation</td><td>operator:&nbsp;2<br>operand:&nbsp;3<br></td><td><a class=\"ProveItLink\" href=\"../221970bd144c336c9ad743b15dcd238644bce53d0/expr.ipynb\"><img src=\"data:image/png;base64,iVBORw0KGgoAAAANSUhEUgAAAM8AAAAWBAMAAACVntWLAAAAMFBMVEX///8QEBC6urrMzMxUVFRm\n",
       "ZmZERETc3NwyMjKqqqp2dnaIiIiYmJgiIiLu7u4AAAAU9Wx4AAAAAXRSTlMAQObYZgAAAk1JREFU\n",
       "SMe9VjFoFEEU/Xe53c1l79aQVEcQLFLYHCrY2AUFBW1ELEJEYnUpTLFFMJV6hUKKEALRysJtDtEj\n",
       "chC4JmKONAFFuCqFEFgbC9McCdho4fyZ2ZuZvzu3Nvrgsbfvvf9nsjszG4D/hTilFDuCNuxDZsmo\n",
       "OLKPN59157KkDc7FlJQXR77Fmw3d2aACRTOl5MYZH7GL90DT/Y6gHZ+okB9nHGcvydnU9EIsaMc3\n",
       "KuTHGStvVlcf6/p5STvcTSLkx5E/G42vur4gGLQieEpm6rVvvLoHMHGbtFpQng7ZAuPIawBLur0u\n",
       "OFEcwB7ez68hnuHPH/Cldxag3CT6uvLA4fLaHAxbYBw5C4GxjKYErzh9aJCZR6xui+2aSaJPKU+H\n",
       "bIFxZBX8nm6fCMaFDvxKbe7reBkbEP1EeUZctMA40u9V44yB4HU8dpp6sTPWgaRnQLRIBgqabF8X\n",
       "u8M1WpOcB58/ovtHiEOxGk4hSB6dpteUBw6Xj/jOFC2SRwdLVwGOz4SX5DSWJZ+DO0dmeOAP4CPb\n",
       "EfRoWFaeAdEC47zkJTvuntShK92W5F240DPryr/dSa+TsbxbyjMgWiTLGwro34Rb0q1Lft9dDMm+\n",
       "ePj+3Qd2HT9HGtaVZ0C0wDgvqcR8hU4n50koCLD910dQaDsVttURJDFdTJZSJeIs9YOapbpNBSzJ\n",
       "gGzRNkpedJvmZ6IaudnlZH+P+EyIFhhXJV5YGr7JFc7y7h3LH1RKP6iVzKBogXFV4kbqBMbF4434\n",
       "wuykpbz4jjZ49I//N/kDDD/AVEamNnMAAAAASUVORK5CYII=\n",
       "\" style=\"display:inline;vertical-align:middle;\" /></a></td></tr>\n",
       "<tr><td>2</td><td>Literal</td><td></td><td><a class=\"ProveItLink\" href=\"../../../boolean/quantification/universal/__pv_it/265f8c02ac1094d56e0e6410a1c1fd3500dc9f540/expr.ipynb\"><img src=\"data:image/png;base64,iVBORw0KGgoAAAANSUhEUgAAAAwAAAAQBAMAAADQT4M0AAAAMFBMVEX///8QEBC6urrMzMxUVFRm\n",
       "ZmZERETc3NwyMjKqqqp2dnaIiIiYmJgiIiLu7u4AAAAU9Wx4AAAAAXRSTlMAQObYZgAAAFhJREFU\n",
       "CNdjeMAABhdAxGmGlSCqj6EMSLInMHAAJVknMPAsLy+vBYp8S0u7BaScGRjSgZQKA18DkOJl4D4A\n",
       "pLgP8IJM4mswARuX7gSmpoKNZWDcAKZ4gCoAgTQTILaSE58AAAAASUVORK5CYII=\n",
       "\" style=\"display:inline;vertical-align:middle;\" /></a></td></tr>\n",
       "<tr><td>3</td><td>Lambda</td><td>parameter:&nbsp;12<br>body:&nbsp;4<br></td><td><a class=\"ProveItLink\" href=\"../283fa3c07325d1f06a31edbf2919d55f8e6919020/expr.ipynb\"><img src=\"data:image/png;base64,iVBORw0KGgoAAAANSUhEUgAAANoAAAAVCAMAAAAXfQCIAAAANlBMVEX///8UFBQNDQ2YmJhUVFQy\n",
       "MjIQEBBEREQiIiKqqqrMzMyIiIi6urrc3NxmZmZ2dnbu7u4AAACrLjZHAAAAAXRSTlMAQObYZgAA\n",
       "Ag9JREFUWMPtV0uWrCAMpVsU+cP+N9ugoiQlGqg3fJncOnW4HyAiMva/ShkNsbMm0+UyqE50gaU4\n",
       "xO5yqsNlWJ3kgmoOEAcUOlzG1eduptYQR5rGk12+UCe4oFoCxIEKC9nlC3WCC3q6Z4hDJSTR5Sv1\n",
       "jMG7vHk2hrsulSCH8wAxtVXWa26ldnufefd2Fvg7WnujQIqintEzE3N/x2PkCom8jj1PADGVubkq\n",
       "fnmn3l8ntuzScn4eXtQRrTkepijqCZVkLnOFuJ9a4LZ6CEyNH9RG+cNY7ieyeXsMDhdEa74oYIqi\n",
       "njBtypJ3PJZt//1ZQS3xev+Vnzt+UFsdkzf/mr6KL1M7XBDtQb1OUdQ3lLlJVVT3u8a4YY2pfVCf\n",
       "dkJ3Tw3R2gVSgKm53J367BI0NWfrgBIioqbOqKpecLsZB9SQjeGLvKO1x4MUpsY5nymC309NgWUT\n",
       "E0REbb1G7f6M6z3j9Ha2H+qI9nADqVMU9Q1d+tPE6bwKfDwn1YHgICJqq18mJtIaWs1oh/8+ANMe\n",
       "XhZ1ChAxCK1dtKRX9gqRRE2DfPBelxWYDckF0x4NrhRF/XTxK/GiZSF2UHsuWpb1VkkBLlp8zT8k\n",
       "TQHePruoZwhNdqEVSFHUN1yTjiBrgY+aPuqxnP/8o6ZOUdR3lKlR6R+lllfYRz3W2Ha4kKpOUdR5\n",
       "f0tfB5Yd+6bSqstlUH3DPzk8GjoACAi+AAAAAElFTkSuQmCC\n",
       "\" style=\"display:inline;vertical-align:middle;\" /></a></td></tr>\n",
       "<tr><td>4</td><td>Operation</td><td>operator:&nbsp;9<br>operands:&nbsp;5<br></td><td><a class=\"ProveItLink\" href=\"../0fadf1e588656e03c29aaac7541e23917f19aa170/expr.ipynb\"><img src=\"data:image/png;base64,iVBORw0KGgoAAAANSUhEUgAAAJ0AAAAVBAMAAACu6/FQAAAAMFBMVEX////c3NwiIiJERESqqqqY\n",
       "mJh2dnZmZmYQEBDu7u4yMjJUVFTMzMyIiIi6uroAAAAs73DqAAAAAXRSTlMAQObYZgAAAa1JREFU\n",
       "OMutVL1Kw1AYPTGtSfqj3UUs9QUEcRT6AIrRwVFCB4tDQRwcFLVKFwclIIhjFxHrovgCDm4uWRwE\n",
       "i8VRELu4VfHLvWlobpKbDp4p95yTc/+++wH/jTEnXluL4D4T7E+SubSHEJW7TbBfyxbfDDEZW27P\n",
       "O7K81RDTTrDrsvlwEWKOE+wf0stSy+LtNRPs24BRtTAlLFOp3S3uAaOb4pFbvjYIL4Lsl/TTWBdv\n",
       "LrvTcnHjfp5jxTwCUk2Bz5i+Bo3RLffCvQiynwKPWhGzwjoskhdoe3WB1zu+Nggvguy/gK07+BH+\n",
       "s3HPqq0r8OMdXwvYeQTZKQ9Ldq4XOtuT2DxPC4BHkL3hng/ybF9bJRfT/EJ6MPr7HeD1sq9BY3Rp\n",
       "Bn4E2edocAVVfEXL+S5egLRYHqrpawHwCLJXabCLLzMop77VuuJE1AsRfS0AHkHqOw3O2gcFoZ7m\n",
       "N9af3fLoiPVc9LUAeATZdZZUGfq9Hca9jQq3py1ki0YjxlQbokO48CJqrF+NWKoVHWcM2694BLNP\n",
       "INXej1lethCilMh+yiOYXZE0wNcIblJq/wPfK4GRIndWLgAAAABJRU5ErkJggg==\n",
       "\" style=\"display:inline;vertical-align:middle;\" /></a></td></tr>\n",
       "<tr><td>5</td><td>ExprTuple</td><td>6, 7</td><td><a class=\"ProveItLink\" href=\"../8b4cab9bb71843232c76963557309fb8fe7b5e9b0/expr.ipynb\"><img src=\"data:image/png;base64,iVBORw0KGgoAAAANSUhEUgAAAHoAAAAVBAMAAAB71edYAAAAMFBMVEX////c3NwiIiJERESqqqqY\n",
       "mJh2dnZmZmYQEBDu7u4yMjJUVFTMzMyIiIi6uroAAAAs73DqAAAAAXRSTlMAQObYZgAAAadJREFU\n",
       "OMulVM9LAlEQ/mzV3U3X9hBdIlyKOgv9IAjBcyRax05Lh6SDEB489FPCq7UgSHTqElFBaP0DHrp1\n",
       "0EtZhBidoosWeBAsmrcKsSt7aB1484ad982b+d7MAv2Jr2wT6HoldW/73h1aF7bRg4BUto12qRA0\n",
       "22gxhY8+CJ9BkmLEVPhNKYy8DFc6NTnihfCuCZZLwtECYjgD3L4GavSNv9Qlz5JSXZOC0jmJlegB\n",
       "M7Z07xUz1TqkBrCIQ+COVzBtDO4mr7OomypFXjJ6vaEEuADwjh9AE8r4NhECT6BrarjtoQsZDFFd\n",
       "JYZGRPO2zSeEv5fM9NDlbKFUZOg0qwhSitU9rkvnUn8RXSIdbbqMJKF7J5jJn+IJLPNZ0ufg8qZG\n",
       "kGuQNB2/TPw8m7tsEwu0rRLrwDbqUaM7Ep3HGMQvSrLJpRzmfuTzvibYi72Rzlb3ZaM7+5iLRyEe\n",
       "yRCDG+sPPbQFK5+0XUPQcWsW0ytbtZlb0TuVWt2jiGmLObDA3uA4RBHKbEIHVE79H3oKc6RPaI3C\n",
       "Wd2zOGU1veEK+68U2HPaHXCpiF8wNGdkzwjHWQAAAABJRU5ErkJggg==\n",
       "\" style=\"display:inline;vertical-align:middle;\" /></a></td></tr>\n",
       "<tr><td>6</td><td>Operation</td><td>operator:&nbsp;9<br>operands:&nbsp;8<br></td><td><a class=\"ProveItLink\" href=\"../d8f4b7641542c288ed970c88f135a4a4fc45f6d70/expr.ipynb\"><img src=\"data:image/png;base64,iVBORw0KGgoAAAANSUhEUgAAADIAAAANBAMAAAAZPSD6AAAAMFBMVEX///+YmJhUVFQyMjIQEBBE\n",
       "REQiIiKqqqrMzMyIiIi6urrc3NxmZmZ2dnbu7u4AAADXeCicAAAAAXRSTlMAQObYZgAAAJ9JREFU\n",
       "GNNj4LtzgWH/AwYUwH1Tu/IkAy/XB4b5IO5hYxAwAjHfMogJuDG08yQwhKJqYbgAVFvB8IBlAsNP\n",
       "NJkHDKogqv4Bxw8GdOAJNp+B0wFEH0sDgVSIE34w8DEw2DCwKqDpkOb8wDCPgeEQw3oBVAn2j6wO\n",
       "3BMYGJ7OPL8BVYYv8t7diWDWNQasgCmBzx27DNsF1gvYZdhnnsIuAQDyJSjr8t2RSgAAAABJRU5E\n",
       "rkJggg==\n",
       "\" style=\"display:inline;vertical-align:middle;\" /></a></td></tr>\n",
       "<tr><td>7</td><td>Operation</td><td>operator:&nbsp;9<br>operands:&nbsp;10<br></td><td><a class=\"ProveItLink\" href=\"../d7b0ec29f16be033b0ced711d4b5a779ecbfcdb70/expr.ipynb\"><img src=\"data:image/png;base64,iVBORw0KGgoAAAANSUhEUgAAADMAAAANBAMAAAD2/0vEAAAAMFBMVEX///+6uroyMjJERETMzMwQ\n",
       "EBAiIiKYmJju7u5mZmaqqqpUVFSIiIh2dnbc3NwAAAAWgogoAAAAAXRSTlMAQObYZgAAAKRJREFU\n",
       "GNNjYHh7+tXJAwwogOPmBYb3DQwcF9jTWROAfE4lMNgAZPIyfmA4D6QYeD5wOaDq8uJMYDAGambg\n",
       "NmBAAw2sBxj+gBisB9ClGNY3sHwB0e8dGBpAdqWBAdiISQw8AQwM7A/OM/A0oOnSZGAGOmd9gSnD\n",
       "G3QDZzPIFzAwNJ/tvVOALtV8Zv4DBlzgGg5x7gSOKBxSbBeYL+CQ4jozEUgCABYeKl4jfnQmAAAA\n",
       "AElFTkSuQmCC\n",
       "\" style=\"display:inline;vertical-align:middle;\" /></a></td></tr>\n",
       "<tr><td>8</td><td>ExprTuple</td><td>12, 11</td><td><a class=\"ProveItLink\" href=\"../470bbc9880f0fcda6ab2160544dedf05732e41640/expr.ipynb\"><img src=\"data:image/png;base64,iVBORw0KGgoAAAANSUhEUgAAACwAAAAVBAMAAADP3xFXAAAAMFBMVEX////c3NwiIiJERESqqqqY\n",
       "mJh2dnZmZmYQEBDu7u4yMjJUVFTMzMyIiIi6uroAAAAs73DqAAAAAXRSTlMAQObYZgAAAQdJREFU\n",
       "GNN1kLtKA0EUQI8mu5kYJ2whNiLZxl5QwW+wydZWg00qWwsVTWEtC0IINlYiNqJ/sIWdhVOZIoSo\n",
       "ldgYeyPecYOvMQP3wZn7hjGvav+S4F7UjR+5K3Lu4ynQ1seBQaU+Ljd5/m+MZbbks2Go5Umz3ZmO\n",
       "VG1wCmF1QD/PNsGCimGNQ7guxSx94hA9KGbwxDukyjLMo6ksOnvrMPV0+m3UTNkcH4jeRjdHuJaR\n",
       "uiIr4p9RuJQCskfURwtel1lgh5eEE5mgnqwyjxvwUfRRbz+i/SrOXWszEXCBilzJDZGHn8vLWSpx\n",
       "2TVOvnBo3WEnTcH8wscicxR7e2L196WuRCa8g+uMDxGWOvpEaKwNAAAAAElFTkSuQmCC\n",
       "\" style=\"display:inline;vertical-align:middle;\" /></a></td></tr>\n",
       "<tr><td>9</td><td>Literal</td><td></td><td><a class=\"ProveItLink\" href=\"../2fb26078095930560931daa0500ce419a39ea6cd0/expr.ipynb\"><img src=\"data:image/png;base64,iVBORw0KGgoAAAANSUhEUgAAAA4AAAAFBAMAAACHocAhAAAAFVBMVEX///9EREQiIiJUVFQyMjJm\n",
       "ZmYAAADubVkoAAAAAXRSTlMAQObYZgAAABRJREFUCNdjCHEBAWcGXCBICQQUAUpuAwlgGKrkAAAA\n",
       "AElFTkSuQmCC\n",
       "\" style=\"display:inline;vertical-align:middle;\" /></a></td></tr>\n",
       "<tr><td>10</td><td>ExprTuple</td><td>11, 12</td><td><a class=\"ProveItLink\" href=\"../a6a2ac9310c73e21661c7634808321702fb219240/expr.ipynb\"><img src=\"data:image/png;base64,iVBORw0KGgoAAAANSUhEUgAAACwAAAAVBAMAAADP3xFXAAAAMFBMVEX////c3NwiIiJERESqqqqY\n",
       "mJh2dnZmZmYQEBDu7u4yMjJUVFTMzMyIiIi6uroAAAAs73DqAAAAAXRSTlMAQObYZgAAAQtJREFU\n",
       "GNNjYMAB+C6gi7A+ABKnMVXWAPFKTGEuBgbeC5jCrAkMHBMwhTkbGF5hc4YJQxmQFLstch1i1rQy\n",
       "BsafDAzpDEuBehJYVTkUwMIJ7xl4PzAweDH0MTCwAZksB0CiPA5FDMwGDAwvGP4BVTNwG0DtYuhl\n",
       "4Acadx4kzMDAAXMly0+G8wdAwi0gnvwBBog72Rcw3GAAGWIKdL3AfQbeCWAJrgIGayAVBXQLg3+A\n",
       "BYMsA+cnkOoNfF8ZQA58xMAw+dq03AAGzn4BoJ221z8ChdcxcAjAQxjMYlMAex4YLLAAAuJNDDMc\n",
       "gFIXkAIWJKzGYAYkZwGxNEwY5Hbf66CY2QjEjBgBznuAAQAt5DtyKXSr1gAAAABJRU5ErkJggg==\n",
       "\" style=\"display:inline;vertical-align:middle;\" /></a></td></tr>\n",
       "<tr><td>11</td><td>Variable</td><td></td><td><a class=\"ProveItLink\" href=\"../../../../__pv_it/530be409e3083890784cf1d7b28c9e67e90af9360/expr.ipynb\"><img src=\"data:image/png;base64,iVBORw0KGgoAAAANSUhEUgAAAAsAAAAJBAMAAAAWSsseAAAAKlBMVEX///9ERETMzMwQEBAiIiKY\n",
       "mJju7u5mZmaqqqpUVFSIiIh2dnbc3NwAAAA/vyDhAAAAAXRSTlMAQObYZgAAAENJREFUCNdjYDi9\n",
       "8sTyBQxsG1hdmR0YuBm4LnAoMLAxcAowgADzAjB1VoEhgYH1wFoGrgSG3gBhhlMMDImrs3cFMAAA\n",
       "t0YN+iTRa+sAAAAASUVORK5CYII=\n",
       "\" style=\"display:inline;vertical-align:middle;\" /></a></td></tr>\n",
       "<tr><td>12</td><td>Variable</td><td></td><td><a class=\"ProveItLink\" href=\"../../../../__pv_it/f8b9edf8e16034727f0aad55bb83e392c3db40d40/expr.ipynb\"><img src=\"data:image/png;base64,iVBORw0KGgoAAAANSUhEUgAAAAsAAAANBAMAAACN24kIAAAAMFBMVEX///+YmJhUVFQyMjIQEBBE\n",
       "REQiIiKqqqrMzMyIiIi6urrc3NxmZmZ2dnbu7u4AAADXeCicAAAAAXRSTlMAQObYZgAAAFhJREFU\n",
       "CNdj4LtzgWH/AwZerg8M8xkY2nkSGEIZGB6wTGD4ycDAUP+A4weQOszA6QCkbBhYFYDUIYb1AkDq\n",
       "6czzGxhA4BoQMyXwuQMptgusF4AU+8xTQBIAUqMVoSp/SLMAAAAASUVORK5CYII=\n",
       "\" style=\"display:inline;vertical-align:middle;\" /></a></td></tr>\n",
       "</table>\n"
      ],
      "text/plain": [
       "0. x -> [forall_{y} ((y = x) = (x = y))]\n",
       "   core type: Lambda\n",
       "   parameter: 11\n",
       "   body: 1\n",
       "1. forall_{y} ((y = x) = (x = y))\n",
       "   core type: Operation\n",
       "   operator: 2\n",
       "   operand: 3\n",
       "2. forall\n",
       "   core type: Literal\n",
       "   sub-expressions: \n",
       "3. y -> ((y = x) = (x = y))\n",
       "   core type: Lambda\n",
       "   parameter: 12\n",
       "   body: 4\n",
       "4. (y = x) = (x = y)\n",
       "   core type: Operation\n",
       "   operator: 9\n",
       "   operands: 5\n",
       "5. (y = x , x = y)\n",
       "   core type: ExprTuple\n",
       "   sub-expressions: 6, 7\n",
       "6. y = x\n",
       "   core type: Operation\n",
       "   operator: 9\n",
       "   operands: 8\n",
       "7. x = y\n",
       "   core type: Operation\n",
       "   operator: 9\n",
       "   operands: 10\n",
       "8. (y , x)\n",
       "   core type: ExprTuple\n",
       "   sub-expressions: 12, 11\n",
       "9. =\n",
       "   core type: Literal\n",
       "   sub-expressions: \n",
       "10. (x , y)\n",
       "    core type: ExprTuple\n",
       "    sub-expressions: 11, 12\n",
       "11. x\n",
       "    core type: Variable\n",
       "    sub-expressions: \n",
       "12. y\n",
       "    core type: Variable\n",
       "    sub-expressions: "
      ]
     },
     "execution_count": 4,
     "metadata": {},
     "output_type": "execute_result"
    }
   ],
   "source": [
    "# display the expression information\n",
    "expr.exprInfo()"
   ]
  },
  {
   "cell_type": "code",
   "execution_count": null,
   "metadata": {},
   "outputs": [],
   "source": []
  }
 ],
 "metadata": {
  "kernelspec": {
   "display_name": "Python 3",
   "language": "python",
   "name": "python3"
  }
 },
 "nbformat": 4,
 "nbformat_minor": 0
}
