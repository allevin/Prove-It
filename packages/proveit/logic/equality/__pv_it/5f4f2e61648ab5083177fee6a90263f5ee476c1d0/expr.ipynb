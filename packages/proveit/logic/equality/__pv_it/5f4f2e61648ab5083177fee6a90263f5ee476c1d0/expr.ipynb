{
 "cells": [
  {
   "cell_type": "markdown",
   "metadata": {},
   "source": [
    "Expression of type <a class=\"ProveItLink\" href=\"../../../../../../doc/html/api/proveit.logic.Forall.html\">Forall</a>\n",
    "=======================\n",
    "# from context <a class=\"ProveItLink\" href=\"../../_context_.ipynb\">proveit.logic.equality</a>"
   ]
  },
  {
   "cell_type": "code",
   "execution_count": 1,
   "metadata": {},
   "outputs": [],
   "source": [
    "# import Expression classes needed to build the expression\n",
    "from proveit._common_ import Px, x\n",
    "from proveit.logic import Forall, Not\n",
    "from proveit.logic._common_ import PofFalse"
   ]
  },
  {
   "cell_type": "code",
   "execution_count": 2,
   "metadata": {},
   "outputs": [
    {
     "data": {
      "text/html": [
       "<strong id=\"expr\">expr:</strong> <a class=\"ProveItLink\" href=\"expr.ipynb\"><img src=\"data:image/png;base64,iVBORw0KGgoAAAANSUhEUgAAAJ4AAAAXBAMAAAAIFOtYAAAAMFBMVEX///8QEBC6urrMzMxUVFRm\n",
       "ZmZERETc3NwyMjKqqqp2dnaIiIiYmJgiIiLu7u4AAAAU9Wx4AAAAAXRSTlMAQObYZgAAAkZJREFU\n",
       "OMutlT9oFEEUxr/Lbu7P3t7msJEUwgkWgogrCJYJSYhgJYhNbK5xgyhkQTGVsNjYhJAmItgswukZ\n",
       "IaS4JjYu2AgiXKGNsLKNwS4heGpEo29mZ24m5+bgTh/szpvZNz9m5n1vFvjPlvwzYWRDenYNaDPn\n",
       "zeCU1u+ZmXc+886xV4FDLwPPWLs8xLK+A/mj3cnGJfYuAncYvD44zvgBlOhBeUPx7BBFOsDRlcF5\n",
       "5V2a3iEnlyieU4X9dHHx7hDbze8A5h45J6F4uA589bwPh8y5xd+lzG9jAbDNzmlO5zWAaWBe5T5t\n",
       "HnSuzPoohGlomMWbCGG8Z86SznsInIATqF0IIVVhtWUHj7N4Ly+uzXG5HNF5x4EKylEvz5yEvY9H\n",
       "YvBzFm9BFsKuzpugREWVpJdXiWAG3WMw3QzeLxzCcwIm8OdTLVfxtl289VEFrNapaaEwbiKM5nfk\n",
       "0HjPfjE/RfOS2dyK4p1Za0Qw6FjXzfo4RiblXBmWyi+1mzrvNT2rbZbXJX2/TZ5rwtSKdLYMjCee\n",
       "5wUyjAL3Ja/Roxfk+Ha+6bxrXHdsWWO+4DGryzB8WvgiD+E01Vccx8fimD7fY+Jg6TCqhsbb4+tj\n",
       "aj0LN3VSngjTLecrn+pNqNMKLMUz+CqcNoydJkKq8sL9lCfDdLM1uVty0VubV9cVr9nhSfwI58bq\n",
       "iwSjNeMnH3dl2AHTLru/lJrXO5uipVvN7nMz3Fbuhb68LdFSnZzvwyt05Vl2+/JKog4pz9GQ/xbz\n",
       "QO+VEPEAgD9Cd4fxQiQY5AAAAABJRU5ErkJggg==\n",
       "\" style=\"display:inline;vertical-align:middle;\" /></a><br>"
      ],
      "text/plain": [
       "expr: forall_{x | P(x) , [not](x)} P(FALSE)"
      ]
     },
     "execution_count": 2,
     "metadata": {},
     "output_type": "execute_result"
    }
   ],
   "source": [
    "# build up the expression from sub-expressions\n",
    "expr = Forall([x], PofFalse, conditions = [Px, Not(x)])"
   ]
  },
  {
   "cell_type": "code",
   "execution_count": 3,
   "metadata": {},
   "outputs": [
    {
     "name": "stdout",
     "output_type": "stream",
     "text": [
      "Passed sanity check: built 'expr' is the same as the stored Expression.\n"
     ]
    }
   ],
   "source": [
    "# check that the built expression is the same as the stored expression\n",
    "%check_expr"
   ]
  },
  {
   "cell_type": "code",
   "execution_count": 4,
   "metadata": {},
   "outputs": [
    {
     "data": {
      "text/html": [
       "<table><tr><th>&nbsp;</th><th>core type</th><th>sub-expressions</th><th>expression</th></tr>\n",
       "<tr><td>0</td><td>Operation</td><td>operator:&nbsp;1<br>operand:&nbsp;2<br></td><td><a class=\"ProveItLink\" href=\"expr.ipynb\"><img src=\"data:image/png;base64,iVBORw0KGgoAAAANSUhEUgAAAJ4AAAAXBAMAAAAIFOtYAAAAMFBMVEX///8QEBC6urrMzMxUVFRm\n",
       "ZmZERETc3NwyMjKqqqp2dnaIiIiYmJgiIiLu7u4AAAAU9Wx4AAAAAXRSTlMAQObYZgAAAkZJREFU\n",
       "OMutlT9oFEEUxr/Lbu7P3t7msJEUwgkWgogrCJYJSYhgJYhNbK5xgyhkQTGVsNjYhJAmItgswukZ\n",
       "IaS4JjYu2AgiXKGNsLKNwS4heGpEo29mZ24m5+bgTh/szpvZNz9m5n1vFvjPlvwzYWRDenYNaDPn\n",
       "zeCU1u+ZmXc+886xV4FDLwPPWLs8xLK+A/mj3cnGJfYuAncYvD44zvgBlOhBeUPx7BBFOsDRlcF5\n",
       "5V2a3iEnlyieU4X9dHHx7hDbze8A5h45J6F4uA589bwPh8y5xd+lzG9jAbDNzmlO5zWAaWBe5T5t\n",
       "HnSuzPoohGlomMWbCGG8Z86SznsInIATqF0IIVVhtWUHj7N4Ly+uzXG5HNF5x4EKylEvz5yEvY9H\n",
       "YvBzFm9BFsKuzpugREWVpJdXiWAG3WMw3QzeLxzCcwIm8OdTLVfxtl289VEFrNapaaEwbiKM5nfk\n",
       "0HjPfjE/RfOS2dyK4p1Za0Qw6FjXzfo4RiblXBmWyi+1mzrvNT2rbZbXJX2/TZ5rwtSKdLYMjCee\n",
       "5wUyjAL3Ja/Roxfk+Ha+6bxrXHdsWWO+4DGryzB8WvgiD+E01Vccx8fimD7fY+Jg6TCqhsbb4+tj\n",
       "aj0LN3VSngjTLecrn+pNqNMKLMUz+CqcNoydJkKq8sL9lCfDdLM1uVty0VubV9cVr9nhSfwI58bq\n",
       "iwSjNeMnH3dl2AHTLru/lJrXO5uipVvN7nMz3Fbuhb68LdFSnZzvwyt05Vl2+/JKog4pz9GQ/xbz\n",
       "QO+VEPEAgD9Cd4fxQiQY5AAAAABJRU5ErkJggg==\n",
       "\" style=\"display:inline;vertical-align:middle;\" /></a></td></tr>\n",
       "<tr><td>1</td><td>Literal</td><td></td><td><a class=\"ProveItLink\" href=\"../../../boolean/quantification/universal/__pv_it/265f8c02ac1094d56e0e6410a1c1fd3500dc9f540/expr.ipynb\"><img src=\"data:image/png;base64,iVBORw0KGgoAAAANSUhEUgAAAAwAAAAQBAMAAADQT4M0AAAAMFBMVEX///8QEBC6urrMzMxUVFRm\n",
       "ZmZERETc3NwyMjKqqqp2dnaIiIiYmJgiIiLu7u4AAAAU9Wx4AAAAAXRSTlMAQObYZgAAAFhJREFU\n",
       "CNdjeMAABhdAxGmGlSCqj6EMSLInMHAAJVknMPAsLy+vBYp8S0u7BaScGRjSgZQKA18DkOJl4D4A\n",
       "pLgP8IJM4mswARuX7gSmpoKNZWDcAKZ4gCoAgTQTILaSE58AAAAASUVORK5CYII=\n",
       "\" style=\"display:inline;vertical-align:middle;\" /></a></td></tr>\n",
       "<tr><td>2</td><td>Lambda</td><td>parameter:&nbsp;10<br>body:&nbsp;3<br>conditions:&nbsp;4<br></td><td><a class=\"ProveItLink\" href=\"../0436ef6db7e902d2dfb1263cc5c03791549f66180/expr.ipynb\"><img src=\"data:image/png;base64,iVBORw0KGgoAAAANSUhEUgAAAM0AAAAVCAMAAADSD5oZAAAANlBMVEX///+6uroUFBQNDQ0yMjJE\n",
       "RETMzMwQEBAiIiKYmJju7u5mZmaqqqpUVFSIiIh2dnbc3NwAAACltDI1AAAAAXRSTlMAQObYZgAA\n",
       "AfFJREFUWMPVl9lygzAMRe0WvK///7OlJIC8SIYMZaZ6CBmiHN9rZGEz9mS4xP5B8NDe07y9F/ll\n",
       "lOZ/KTz4nP0Syh/zLPz+NR1irBi4GaBwzJ2Rp/Uyy13DZA419kichs+GROGYG0Pk+FoD7+syx6A4\n",
       "oBsdB25oFI65s9TyS5LOm3Bp+m6MHLihUTjmxpjz6+qze69bWArQDZsd7YZG4RgqUgw+uWBDv1Cd\n",
       "69a6yfO2TCPmJlraDYoqJTUYwoFZCFppJtX2oypzvenUulD7EJPG3LiJdIOiKklu0AdgelwLePmP\n",
       "QNwYn4pa9zFGG497kmNuuKQ7NIaqJDUYZtUesUz/nXk/w9zvL1WEzBzWer1QM+pGZNINiqokNRg4\n",
       "hG8dyKIxVs+GeaghK3aXGxIFJI3cVOkpi/eM9NzYVAhslqR0n1UaiYKSuBy62dN1WouOBcSNCL1X\n",
       "BCwYtAtosgvgqErSjjF9NyDdZb3sLIoNVvk+Noyu9bKBXujQKKqWtGFMW5rLgEW6mUM0MQZ94s1k\n",
       "7LzsE+vNB1ewz8j187UmJ466oVC1pA1jZO6dKK44OBESObUMdzbnUADDHzgfYdvCGC676aEARrMH\n",
       "orON/53T8YngDApiHnGTfO+uTx+4aVEAE545SafOOKFzZgz8MipcOXr+AAOiGU6RF+qVAAAAAElF\n",
       "TkSuQmCC\n",
       "\" style=\"display:inline;vertical-align:middle;\" /></a></td></tr>\n",
       "<tr><td>3</td><td>Operation</td><td>operator:&nbsp;8<br>operand:&nbsp;5<br></td><td><a class=\"ProveItLink\" href=\"../../../__pv_it/4d7c4165a9fdb279e98a557bae75d7e45eb1c31a0/expr.ipynb\"><img src=\"data:image/png;base64,iVBORw0KGgoAAAANSUhEUgAAADEAAAAVBAMAAAAdjxsPAAAAMFBMVEX////u7u5mZmaYmJi6urqq\n",
       "qqp2dnbMzMwQEBBEREQyMjLc3NwiIiJUVFSIiIgAAAAeC3ydAAAAAXRSTlMAQObYZgAAAO9JREFU\n",
       "KM9jYCAK+MFZJmDy7f+7d89uADLYL4C4+0AEUwFY6hcDA2c3kOYSAPGKwGILQAT7NwYGViBmeMeA\n",
       "kDEDEXxfGBiYPwEZjUgyEiCC8wMDA+9XBgaWBUgynAFAgh8oIj8BaGsCkgybApCoT2BgPwRygAGS\n",
       "DCvIgPfX0tRAjuZwQJJhaQAS8wUgvuNHlmEHWs7whwGHDPsnqAxHAJppIO9AHIrsAmagCzg/QmXA\n",
       "DkVytdD8vw8gMiwHGBh0zpw5cebMSaAXHJAjoRuJLYESPWZI7DwUGS4BOJNxAYoM9wU4k3cDamzv\n",
       "g7OeMzAAAAoKNyNLs78oAAAAAElFTkSuQmCC\n",
       "\" style=\"display:inline;vertical-align:middle;\" /></a></td></tr>\n",
       "<tr><td>4</td><td>ExprTuple</td><td>6, 7</td><td><a class=\"ProveItLink\" href=\"../7f8cee8933a116880e91c3424371b252877675c80/expr.ipynb\"><img src=\"data:image/png;base64,iVBORw0KGgoAAAANSUhEUgAAAGIAAAAVBAMAAABPrCZEAAAAMFBMVEX////c3NwiIiJERESqqqqY\n",
       "mJh2dnZmZmYQEBDu7u4yMjJUVFTMzMyIiIi6uroAAAAs73DqAAAAAXRSTlMAQObYZgAAAcRJREFU\n",
       "OMuVUzssBFEUPZPZXTO7M2whGtnYSEShUZBohFqIpVAoZCqi2ESlIlmiURCJBNHQKDRCJJptplfY\n",
       "BpEli0okkiE+8Qnu3X3zMZ7CS97c++beM3PumTPA/1d1IXi6E3FE3hy9pMsh7eJXPt+SpMTYFaUq\n",
       "Ww6Zor3NyRugzlCML7mlTTkiDphMyngGIrRx4ZWG/qBlQeOnmp+Uv1Ay75XW5Ag9h1uOqgMkHkkF\n",
       "n4vaLYe0YZJDDXVutNK8FqBk9/qmgdhEqLWuWHtKE4xhi09HFoxmnisDrGAwM0tjhUbXrWiTlgZ6\n",
       "sMjH0sHoJIurkdwWSuglgjlX50ZeVgymEyHJb/DJd7uEqDWEWMI+p4YTfIOxqyPRWqZTQTzARwAL\n",
       "MgQRKFQQc3x+EQWNBVI+oAdYeYgGm95PrNrF56hISpMPmA7O6PPw5LqPiCZLMAkxTGpR46sokKSR\n",
       "JzWnFIS6G2kXYvdnOpACq3sNrHa9C/9Wp6F3jo8es9A80tq9x2v5ZCVLDLADLRnkOxNyyZXEJWSt\n",
       "wPL9ly1fM2FErCDc7pnZdbu+KUes064P3lDcPypRJmv+MuIeN/34a1Minsuda9r4BgScau72QQ+J\n",
       "AAAAAElFTkSuQmCC\n",
       "\" style=\"display:inline;vertical-align:middle;\" /></a></td></tr>\n",
       "<tr><td>5</td><td>Literal</td><td></td><td><a class=\"ProveItLink\" href=\"../../../boolean/__pv_it/8f1f7fac882de28c72b62ab80a1700b6d8fd066b0/expr.ipynb\"><img src=\"data:image/png;base64,iVBORw0KGgoAAAANSUhEUgAAAA4AAAAOBAMAAADtZjDiAAAAG1BMVEX///9EREQQEBAiIiJmZmbM\n",
       "zMyIiIjc3NwAAACryk5kAAAAAXRSTlMAQObYZgAAABlJREFUCNdjYGBgKGOAgBBa0s7GxkbGxoYA\n",
       "FMUF2aBfHgoAAAAASUVORK5CYII=\n",
       "\" style=\"display:inline;vertical-align:middle;\" /></a></td></tr>\n",
       "<tr><td>6</td><td>Operation</td><td>operator:&nbsp;8<br>operand:&nbsp;10<br></td><td><a class=\"ProveItLink\" href=\"../../../../__pv_it/8c735c381b4cbf3c87e86ca2468da4e5c976f9b00/expr.ipynb\"><img src=\"data:image/png;base64,iVBORw0KGgoAAAANSUhEUgAAAC4AAAAVBAMAAADLKsFqAAAAMFBMVEX////u7u5mZmaYmJi6urqq\n",
       "qqp2dnbMzMwQEBBEREQyMjLc3NwiIiJUVFSIiIgAAAAeC3ydAAAAAXRSTlMAQObYZgAAAQlJREFU\n",
       "GNNjYCACsDyA0MwOIPLt/7t3z24AsWphCtTB5C8GBs5uEGMhTJwLRLB/Y2BgBWIGvgcwceYEEPcL\n",
       "kPEJyOAQgIkzNgAJzg8MDLxfgQwvhAumAjH/AgYG+QlAhhoQb3u79RHQuCQgsz6Bgf0QSNFioAEJ\n",
       "zIc5DjAwRAG576+lqYGd2cLAwMbA94G1gIHBA8idD7MOaD8jAy/IRIZ6IP7DgBAHOuoBVJz9E0y8\n",
       "FUTsL2AQAJvD9wUmPhnojw3vGfiA4lZA53+EiQMdF28wg2EfmCk0/y/M+z4MDJLPxPIMgMwlyMHM\n",
       "sQElHBhQQgsM2B6gxAs8nKVQ42svjHEbVZwbqp2vgAEAALg9cr1t3EsAAAAASUVORK5CYII=\n",
       "\" style=\"display:inline;vertical-align:middle;\" /></a></td></tr>\n",
       "<tr><td>7</td><td>Operation</td><td>operator:&nbsp;9<br>operand:&nbsp;10<br></td><td><a class=\"ProveItLink\" href=\"../5257302be1da79642d1552c1da1a429d5b167c980/expr.ipynb\"><img src=\"data:image/png;base64,iVBORw0KGgoAAAANSUhEUgAAABgAAAAJBAMAAADa0/H1AAAAKlBMVEX///9EREQQEBCYmJju7u6q\n",
       "qqqIiIjc3NxUVFTMzMx2dnYiIiJmZmYAAAB4JDwQAAAAAXRSTlMAQObYZgAAAE9JREFUCNdjYIAA\n",
       "9mXtYcegbAYvBmsDbYbTu4FgF8MChlyGSIj4DAYHhkaYohlArIbEYb/JwALjmLNdYEiBcDhZLzMq\n",
       "sCdA1bGILVmVzAAAZNoR2EzP5jQAAAAASUVORK5CYII=\n",
       "\" style=\"display:inline;vertical-align:middle;\" /></a></td></tr>\n",
       "<tr><td>8</td><td>Variable</td><td></td><td><a class=\"ProveItLink\" href=\"../../../../__pv_it/6369c6c8083c513ca7161ace249642d040f9327d0/expr.ipynb\"><img src=\"data:image/png;base64,iVBORw0KGgoAAAANSUhEUgAAABAAAAAOBAMAAADUAYG5AAAAMFBMVEX////u7u5mZmaYmJi6urqq\n",
       "qqp2dnbMzMwQEBBEREQyMjLc3NwiIiJUVFSIiIgAAAAeC3ydAAAAAXRSTlMAQObYZgAAAGBJREFU\n",
       "CNdjYGB4+//u3bMbGIDgFwMDZzeQZv/GwMAKxAx8XxgYmD8BGZwfGBh4vwIZ/AsYGOQnABn1CQzs\n",
       "h0Ca3l9LUwPrni/AAAF/oDT7JygDZAwYcH6E0ELz/z4A0QBnpRnRyxnfJQAAAABJRU5ErkJggg==\n",
       "\" style=\"display:inline;vertical-align:middle;\" /></a></td></tr>\n",
       "<tr><td>9</td><td>Literal</td><td></td><td><a class=\"ProveItLink\" href=\"../../../boolean/negation/__pv_it/7bea79645543c2413aa17e787cca04e21046fde60/expr.ipynb\"><img src=\"data:image/png;base64,iVBORw0KGgoAAAANSUhEUgAAAAwAAAAGBAMAAAAFwGKyAAAAFVBMVEX///9UVFTMzMx2dnYiIiJm\n",
       "ZmYAAACWz4ZEAAAAAXRSTlMAQObYZgAAABRJREFUCNdjCHEBAmcGMFDEQzEBAEl+Ai6uYJv/AAAA\n",
       "AElFTkSuQmCC\n",
       "\" style=\"display:inline;vertical-align:middle;\" /></a></td></tr>\n",
       "<tr><td>10</td><td>Variable</td><td></td><td><a class=\"ProveItLink\" href=\"../../../../__pv_it/530be409e3083890784cf1d7b28c9e67e90af9360/expr.ipynb\"><img src=\"data:image/png;base64,iVBORw0KGgoAAAANSUhEUgAAAAsAAAAJBAMAAAAWSsseAAAAKlBMVEX///9ERETMzMwQEBAiIiKY\n",
       "mJju7u5mZmaqqqpUVFSIiIh2dnbc3NwAAAA/vyDhAAAAAXRSTlMAQObYZgAAAENJREFUCNdjYDi9\n",
       "8sTyBQxsG1hdmR0YuBm4LnAoMLAxcAowgADzAjB1VoEhgYH1wFoGrgSG3gBhhlMMDImrs3cFMAAA\n",
       "t0YN+iTRa+sAAAAASUVORK5CYII=\n",
       "\" style=\"display:inline;vertical-align:middle;\" /></a></td></tr>\n",
       "</table>\n"
      ],
      "text/plain": [
       "0. forall_{x | P(x) , [not](x)} P(FALSE)\n",
       "   core type: Operation\n",
       "   operator: 1\n",
       "   operand: 2\n",
       "1. forall\n",
       "   core type: Literal\n",
       "   sub-expressions: \n",
       "2. x -> P(FALSE) | P(x) , [not](x)\n",
       "   core type: Lambda\n",
       "   parameter: 10\n",
       "   body: 3\n",
       "   conditions: 4\\n3. P(FALSE)\n",
       "   core type: Operation\n",
       "   operator: 8\n",
       "   operand: 5\n",
       "4. (P(x) , [not](x))\n",
       "   core type: ExprTuple\n",
       "   sub-expressions: 6, 7\n",
       "5. FALSE\n",
       "   core type: Literal\n",
       "   sub-expressions: \n",
       "6. P(x)\n",
       "   core type: Operation\n",
       "   operator: 8\n",
       "   operand: 10\n",
       "7. [not](x)\n",
       "   core type: Operation\n",
       "   operator: 9\n",
       "   operand: 10\n",
       "8. P\n",
       "   core type: Variable\n",
       "   sub-expressions: \n",
       "9. not\n",
       "   core type: Literal\n",
       "   sub-expressions: \n",
       "10. x\n",
       "    core type: Variable\n",
       "    sub-expressions: "
      ]
     },
     "execution_count": 4,
     "metadata": {},
     "output_type": "execute_result"
    }
   ],
   "source": [
    "# display the expression information\n",
    "expr.exprInfo()"
   ]
  },
  {
   "cell_type": "code",
   "execution_count": null,
   "metadata": {},
   "outputs": [],
   "source": []
  }
 ],
 "metadata": {
  "kernelspec": {
   "display_name": "Python 3",
   "language": "python",
   "name": "python3"
  }
 },
 "nbformat": 4,
 "nbformat_minor": 0
}
