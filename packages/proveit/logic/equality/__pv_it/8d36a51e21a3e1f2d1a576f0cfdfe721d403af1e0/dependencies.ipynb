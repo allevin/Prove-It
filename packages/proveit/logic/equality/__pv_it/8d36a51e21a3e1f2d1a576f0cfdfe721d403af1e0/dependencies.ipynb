{
 "cells": [
  {
   "cell_type": "markdown",
   "metadata": {},
   "source": [
    "Axiom Dependencies\n",
    "=======================\n",
    "\n",
    "## <a class=\"ProveItLink\" href=\"../../_context_.ipynb\">proveit.logic.equality</a>.<a class=\"ProveItLink\" href=\"../../_axioms_.ipynb#substitution\">substitution</a> \n"
   ]
  },
  {
   "cell_type": "code",
   "execution_count": 1,
   "metadata": {},
   "outputs": [],
   "source": [
    "from proveit.logic.equality._axioms_ import substitution"
   ]
  },
  {
   "cell_type": "code",
   "execution_count": 2,
   "metadata": {},
   "outputs": [
    {
     "data": {
      "text/html": [
       "<h3>Theorems that depend directly on substitution</h3>"
      ],
      "text/plain": [
       "<IPython.core.display.HTML object>"
      ]
     },
     "metadata": {},
     "output_type": "display_data"
    },
    {
     "data": {
      "text/html": [
       "<dl>"
      ],
      "text/plain": [
       "<IPython.core.display.HTML object>"
      ]
     },
     "metadata": {},
     "output_type": "display_data"
    },
    {
     "data": {
      "text/html": [
       "<dt><a class=\"ProveItLink\" href=\"../../../boolean/implication/_proofs_/iffFT.ipynb\">proveit.logic.boolean.implication.iffFT</a></dt><dd><a class=\"ProveItLink\" href=\"../../../boolean/implication/__pv_it/d076c0e3855f3181ab080602e72dc2c89b5a740c0/expr.ipynb\"><img src=\"data:image/png;base64,iVBORw0KGgoAAAANSUhEUgAAAHoAAAAVBAMAAAB71edYAAAAMFBMVEX////c3NwiIiJERESqqqqY\n",
       "mJh2dnZmZmYQEBDu7u4yMjJUVFTMzMyIiIi6uroAAAAs73DqAAAAAXRSTlMAQObYZgAAAQxJREFU\n",
       "OMtjYKAM8F0gqCQOt9RpMCmLTapICQSUGdgPYJGE6FgJJo/jMBsivgCXDO8FInSH4ZLhmICmG2gP\n",
       "TwGa7hm4dL9iQNUNdoshmm5mBxy6y9B0nwIRUmi62Qpw6F6KqpunAxTM+itRdbOAg61qFQisRpbp\n",
       "Q9V9CxIMrx6g6OZrwGH3PxTdMwwgNGM3im6eD0Tp5twOoaUuEKe7BdXlLODkpaTIgMXlsKSHJGOK\n",
       "FubeIGKSAKpu1gU47E5H080Oitp9xMbYI4iTNGBO4gRaw2gAV3MMTHI9wMw/YB0cAmgSwPzEOQFN\n",
       "bAauDMqaQEQZkItTZiVhzZwLcEpJE9bNLYBTipFwyXQHlwQAqlZO/hPwzGoAAAAASUVORK5CYII=\n",
       "\" style=\"display:inline;vertical-align:middle;\" /></a></dd>"
      ],
      "text/plain": [
       "<IPython.core.display.HTML object>"
      ]
     },
     "metadata": {},
     "output_type": "display_data"
    },
    {
     "data": {
      "text/html": [
       "<dt><a class=\"ProveItLink\" href=\"../../../boolean/implication/_proofs_/iffTF.ipynb\">proveit.logic.boolean.implication.iffTF</a></dt><dd><a class=\"ProveItLink\" href=\"../../../boolean/implication/__pv_it/da575ca4d375b4321325852fd9becce0d5d5024b0/expr.ipynb\"><img src=\"data:image/png;base64,iVBORw0KGgoAAAANSUhEUgAAAHoAAAAVBAMAAAB71edYAAAAMFBMVEX////c3NwiIiJERESqqqqY\n",
       "mJh2dnZmZmYQEBDu7u4yMjJUVFTMzMyIiIi6uroAAAAs73DqAAAAAXRSTlMAQObYZgAAAQ1JREFU\n",
       "OMtjYKAM8F0gqCQOt9RpBoYiJRBQxiYrCyLYD+CSYVgJJo/jMBsivgCXDO8FInSH4ZLhmICmG2gP\n",
       "TwGa7hm4dL9iQNUNdoshmm5mBxy6y9B0nwIRUmi62Qpw6F6KqpunAxT8+itRdbOAg61qFQisRpbp\n",
       "Q9V9CxIMrx6g6OZrwGH3PxTdMwwgNGM3im6eD0Tp5twOoaUuEKe7BdXlLOBkp6TIgMXlqEkSLGOK\n",
       "FubeIGKSAKpu1gU47E5H080Oitp9xMbYIwj7GEyQE2gNIzTsgE7VADuV6wGaVpgMhwCaBDA/cU5A\n",
       "E5uBK4OyJhBRBuTilFlJWDPnApxS0oR1cwvglGIkXDLdwSUBALmeTv77giohAAAAAElFTkSuQmCC\n",
       "\" style=\"display:inline;vertical-align:middle;\" /></a></dd>"
      ],
      "text/plain": [
       "<IPython.core.display.HTML object>"
      ]
     },
     "metadata": {},
     "output_type": "display_data"
    },
    {
     "data": {
      "text/html": [
       "<dt><a class=\"ProveItLink\" href=\"../../_proofs_/subLeftSideInto.ipynb\">proveit.logic.equality.subLeftSideInto</a></dt><dd><a class=\"ProveItLink\" href=\"../3ec60be0054bb218e4347eeddae1ab877388efa90/expr.ipynb\"><img src=\"data:image/png;base64,iVBORw0KGgoAAAANSUhEUgAAAMIAAAAXBAMAAACrPI2eAAAAMFBMVEX///8QEBC6urrMzMxUVFRm\n",
       "ZmZERETc3NwyMjKqqqp2dnaIiIiYmJgiIiLu7u4AAAAU9Wx4AAAAAXRSTlMAQObYZgAAAsZJREFU\n",
       "SMe1Vk1oE1EQ/pLd5m832+BFvEgED0KRRhA8NmhRsRdBeyke1oOtf5CAYlARFy8VFPVSEXJwEYq1\n",
       "ouRQD/bSFS+CiDkoghQpgkW8NKixttTqvL/ta8OCSjqwmdlvv51v38y8R4B1t5l1yRqvCW/ngToL\n",
       "XrYn78Tv3t43ZRbtVNAh4AHzN9r06T+BxMZVCVPAOXJJtz0CxiKQpgtWTUG2jxQ1ouNWexSsr5Sy\n",
       "SUEs7K6Tg32/UrnUpiIlGoC5QMG2FewE8GNw8P3fJTjDf9PRhE4PmGMVH6DrwsT5J1SsUWAPMETv\n",
       "lfoPD7UOnXC3m/17y0j6oth+pEKPD+MtC65TeXx7OkaDegfYCoek8Qx41Lps2a4cMnV1g3uRClMH\n",
       "xgf4sG4AMrAa6QKwBcjCCgjsBV7PRCiYRdjLqErwc6RCSSWgjjsw+YT20AAEWfZgGtgftYZsANOD\n",
       "KqJZiFL4hRUFGqiaVHA8tgGdb7Df0domuqgv6HKxWVOYK+BVGTmJ82GXRGhkGE2lsIn9XC6wI4mq\n",
       "hKHdrKeL40fIPTZdeurU5o2cptA9PhrA8CQeL0qieZXsWkjm20HYaepdeQoWKbyg2xF2NGU8/iif\n",
       "Yj1JfqxbrqYwxueqKHHDC4nQyUgsKwUa0bvBUVwUoahX4qAcaT4Lpm/WNIVjfB8UJc4VJFEnfyp9\n",
       "V4fFdmB28stD9hFX2CyyRnfKg2MHWB9j+VhBU1jga3AlHnclMcGrFJI1i5W1U0NtFsKSw0ZjDH5y\n",
       "GLFCtzZLxjznUjE5bvuSqNJJsmZ2uCszalmZm3SQG0vOqZHJGWMJ6b7jmsJYk3/jBwi8Iy+J8l1F\n",
       "1i08vddsHlu5Cvr0/SDsKQSeConCFFm3syrYtxrfpdzJuNeqMAuBV0OiMEXWLSmLY63pUKBcdRKt\n",
       "CmmJF0OiMEX+LzNX3T0XLfvH/w5/AOrJuu1B3OWnAAAAAElFTkSuQmCC\n",
       "\" style=\"display:inline;vertical-align:middle;\" /></a></dd>"
      ],
      "text/plain": [
       "<IPython.core.display.HTML object>"
      ]
     },
     "metadata": {},
     "output_type": "display_data"
    },
    {
     "data": {
      "text/html": [
       "<dt><a class=\"ProveItLink\" href=\"../../_proofs_/unaryEvaluation.ipynb\">proveit.logic.equality.unaryEvaluation</a></dt><dd><a class=\"ProveItLink\" href=\"../fb97734ae445d119a2d570f250819d3b25debf460/expr.ipynb\"><img src=\"data:image/png;base64,iVBORw0KGgoAAAANSUhEUgAAAaoAAAAWBAMAAABj3sV/AAAAMFBMVEX///8QEBC6urrMzMxUVFRm\n",
       "ZmZERETc3NwyMjKqqqp2dnaIiIiYmJgiIiLu7u4AAAAU9Wx4AAAAAXRSTlMAQObYZgAABJBJREFU\n",
       "WMPdV11oXEUU/rJ/t/uTm5CXKMWyxQpCka4g6os0WmMEH7ogqDQIEaShTbD7EKxaJGsRKlJLoBYK\n",
       "IlkU/7oYljZ9yZb2IgWlRQmofVCLVxSNgdAlwYh0Cc7Mmdk79965udlHPfDt/HDOd2fOnHNmFvhf\n",
       "irslrUSDECVfGGd3S+hjJoVilxzBvlmT0yos8onrcbt6QCJK0iXDZHKIAPw2X4HqM3m6O46QvVGT\n",
       "aCU+4+NTcbs6FadUNcxtcwnA4VkHqs873XGE7I2aRCvxMmussZhN5RuEaLlmiOmmBOzVP9WYYqUW\n",
       "x2HrHCF7XVMPwVoH3AHpmZhd9biEaPnFf65Cdkgg2+qMac39cRydYzHa65qacFqJwidHj74eF4D3\n",
       "SkRLxnPMLlVhqgTmtUU1lnIojiMx5HEY7DPmYzjkYf3gwR/idnVA4rX5Vy8GA9F66oNBIFfuTOSk\n",
       "RrpGQOHR78pyjKmFnSzxPwq5+VyzpHOg7nHo9lZ95L1R39ekLNcvEK3EPmCc8w5vkjcnCXat8FMP\n",
       "91v6LSHCoTsrGRYgWe7I9E0hf8kocghAX0ONE4M4wrpnESC5v7htkTjwvOD4udzh0O2X8bVzl/wa\n",
       "nhP2b4pSOYB3iFZiF2yxooVy9K4GCDnkW9lAVbXaSLNik9BSJXuckrFIAKZLajzt4BnuieBRbUfG\n",
       "8XHgbFHZ6PY1XMFp/9co0RqYJFqJXuS5Q3qLm0TgKsFGKlQtUy30MlcmW9rc0oDwcJEAzEKN9wM/\n",
       "su7eMAkCHPYbRYTtXTwR0uSyX/zu9ZB3ennB6XPjd8X8FQrTvjHcKvm/k3zb9e/q886q1mGvGXbV\n",
       "NxZa68NzQNge2G7c1XpwV3aVPxoKR0Z5os/v3sejavRjfub2AXVD3CnBY8H1EoivZbrBXOlSTMjp\n",
       "G+SgnhkC8KIaW7dZlbZlBPpJoOKK8urmSx0OzZ4tbY3fZbrmDT57W2hoEYjxx/jMV/xnLjXGF79S\n",
       "meYLWyntkbuaJBQqV5APnOmtGTzJcq3gld2srMosUwSkf3nf/gep6mn5Mf2smJqjc+Bdj0Ozx5f5\n",
       "Fi7DpymkzeaIVuGMuA1EsS1SzRnGI7x5HL9KI1kuZ50XcCz4THGy3+d8tfYVVeHLctpe7YxP4v1y\n",
       "LVzZU2XkfJXdqnocmn22nem3GobKPgx86KvsMlcmyWkVSqN5lU0k9xF+X1iuO6Hr6vyD59nmvGIz\n",
       "rm7SRQISG53xVPPuCaZ5PHQhNi/7ODIVj0Oztyfmzl2CT1Pea/WmS7QKBVcVb3ZvgCWUvYHJP1jz\n",
       "t/diqhC29GLqlP5BiXzVG2/xxZTUOUL28S8mNbMB60Sy9Slq1gnsSK59w5pvkXP978ZoqUe8Vhmu\n",
       "ZpzAmzTX6IYjbG/UJFoF6Zx+JNv2xJkFN9nGPZcuOqyZas5t9Z+Ivck/kTtWgk/Wpa44wva2+Z/I\n",
       "kgZ5GmVRRUTX15BMSURJyhSe1pDAtWe1sZCRrjjC9ilzMoxoIDdcZdnwEPX9jSRsEKLkgnH2mIQ+\n",
       "5nlS6pIj2DdrcloFVUPAbwwh/uY/Kf8CxFyC8tMhv/0AAAAASUVORK5CYII=\n",
       "\" style=\"display:inline;vertical-align:middle;\" /></a></dd>"
      ],
      "text/plain": [
       "<IPython.core.display.HTML object>"
      ]
     },
     "metadata": {},
     "output_type": "display_data"
    },
    {
     "data": {
      "text/html": [
       "</dl>"
      ],
      "text/plain": [
       "<IPython.core.display.HTML object>"
      ]
     },
     "metadata": {},
     "output_type": "display_data"
    }
   ],
   "source": [
    "%dependencies substitution"
   ]
  }
 ],
 "metadata": {
  "kernelspec": {
   "display_name": "Python 3",
   "language": "python",
   "name": "python3"
  }
 },
 "nbformat": 4,
 "nbformat_minor": 0
}
