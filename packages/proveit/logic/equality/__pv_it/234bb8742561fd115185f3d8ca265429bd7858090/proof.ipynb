{
 "cells": [
  {
   "cell_type": "markdown",
   "metadata": {},
   "source": [
    "Show the Proof\n",
    "========"
   ]
  },
  {
   "cell_type": "code",
   "execution_count": 1,
   "metadata": {},
   "outputs": [
    {
     "data": {
      "text/html": [
       "<table><tr><th>&nbsp;</th><th>step type</th><th>requirements</th><th>statement</th></tr>\n",
       "<tr><td>0</td><td>assumption</td><td></td><td><span style=\"font-size:20px;\"><a class=\"ProveItLink\" href=\"../a2f2b57a20743399f81fc63a3c7de0e3eeba0c9b0/expr.ipynb\"><img src=\"data:image/png;base64,iVBORw0KGgoAAAANSUhEUgAAACkAAAAVBAMAAAAp9toTAAAAMFBMVEX////c3NxERESqqqpUVFS6\n",
       "urrMzMwyMjIQEBCIiIh2dnYiIiLu7u5mZmaYmJgAAABXZE4RAAAAAXRSTlMAQObYZgAAALZJREFU\n",
       "GNNjYGDgu8eABNhWCYAonl0MKICtGURyfoALHOkGkddBBFcDQl0JiFiBLvoZmyjrH2yiXBuwibJ7\n",
       "TnkAFeUtgIueV2D4xsDwHsTMCGBguL0bCHYx2B9g6ALquMDAkNIGU5kCculfIEMdaExEAlx0LwPr\n",
       "PwYG7gVADksBXPQzA+8fqLkQ54BFvzFwLEB3GRuDM8MVLO49MvcBtnBgYMAvyocuCg5fnp1ocdEK\n",
       "pvgWY8QbAAg+NwhGGG08AAAAAElFTkSuQmCC\n",
       "\" style=\"display:inline;vertical-align:middle;\" /></a> <a class=\"ProveItLink\" href=\"proof.ipynb\" style=\"text-decoration: none\">&#x22A2;&nbsp;</a><a class=\"ProveItLink\" href=\"../c0fc114fcacc8e9fdeb995863ab29be961e5f4380/expr.ipynb\"><img src=\"data:image/png;base64,iVBORw0KGgoAAAANSUhEUgAAABYAAAAOBAMAAADZH/H+AAAALVBMVEX///9ERESYmJiIiIi6urqq\n",
       "qqoyMjIQEBDu7u5UVFTMzMx2dnYiIiJmZmYAAAC5u2vBAAAAAXRSTlMAQObYZgAAAFlJREFUCNdj\n",
       "YICAzhoGBMhEYj9FMFleINjcBxBstsmWCjB2nwDDK4Y7Z4DgNENcA0M1RHQlwzUGhrcw9lkGlkcw\n",
       "9lMG3hcw9isG9g0QNhfDVIabcPM7bRUYALuiGKiQ/Uk/AAAAAElFTkSuQmCC\n",
       "\" style=\"display:inline;vertical-align:middle;\" /></a></span></td></tr>\n",
       "</table>"
      ],
      "text/plain": [
       "<proveit._core_.proof._ShowProof at 0x7f94ebdaf6a0>"
      ]
     },
     "execution_count": 1,
     "metadata": {},
     "output_type": "execute_result"
    }
   ],
   "source": [
    "import proveit\n",
    "%show_proof"
   ]
  },
  {
   "cell_type": "code",
   "execution_count": null,
   "metadata": {},
   "outputs": [],
   "source": []
  }
 ],
 "metadata": {
  "kernelspec": {
   "display_name": "Python 3",
   "language": "python",
   "name": "python3"
  }
 },
 "nbformat": 4,
 "nbformat_minor": 0
}
