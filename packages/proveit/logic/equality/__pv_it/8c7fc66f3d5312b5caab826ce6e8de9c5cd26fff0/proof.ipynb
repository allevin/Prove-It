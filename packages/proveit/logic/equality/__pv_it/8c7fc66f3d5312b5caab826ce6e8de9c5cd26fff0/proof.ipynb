{
 "cells": [
  {
   "cell_type": "markdown",
   "metadata": {},
   "source": [
    "Show the Proof\n",
    "========"
   ]
  },
  {
   "cell_type": "code",
   "execution_count": 1,
   "metadata": {},
   "outputs": [
    {
     "data": {
      "text/html": [
       "<table><tr><th>&nbsp;</th><th>step type</th><th>requirements</th><th>statement</th></tr>\n",
       "<tr><td>0</td><td>modus ponens</td><td>1, 2</td><td><span style=\"font-size:20px;\"><a class=\"ProveItLink\" href=\"../3e6c9374dc8eeeb6bc14cff395fb2d29547d6bbf0/expr.ipynb\"><img src=\"data:image/png;base64,iVBORw0KGgoAAAANSUhEUgAAAJYAAAAVBAMAAABWCwqnAAAAMFBMVEX////c3NxERESqqqpUVFS6\n",
       "urrMzMwyMjIQEBCIiIh2dnYiIiLu7u5mZmaYmJgAAABXZE4RAAAAAXRSTlMAQObYZgAAAeZJREFU\n",
       "OMtjYGDgu8dAOchaCCJ5duGSZ52AR/NTNH6GAZDg/MDAcKQbm/IUBh6PDVjEJUEEbwKMC1HEWwAk\n",
       "uBqARAk2s2oYGNgdsIjngskCOB+sCGwMmPiMpPQAlOYEepHfAKdZr+B8sCK4Wax/UJ0DBhxAQ+MP\n",
       "4DTrBJwPVgQ3iws5WEKgdDgQr2bAaRYT3MlgRXCz2D2nPIAr5YJG3y1QOM70w2UW1wUYH6wIbBYo\n",
       "As4rMHwDMXeDwV+IkjpgFH1i4AfF1/VyEChBMYsZFvgQRXwfQAkjgIHB/gBDF8Je5lIw1Qpk/WHg\n",
       "WIDDXawNMOUQRbXARNQGspeB4S+S4uOtIPIr2M38F3CYxfYByoUqYgL6IwLoib0MrP8QatmqDkDN\n",
       "4r7AEP+AkFlQRaDsw1IASl68fxDhtQmSEJrBKec+iHMbIo7djxBF4PACpYdvyMHCDE3regygMO3C\n",
       "FY98BdB0DVEETxPODFcQSsWh9Fqgmw14HfClCZ7fDDBFcLOOzEUKFUUoHQ1U64lRHgG9uwPsXXZg\n",
       "/PP0C8AUIfIjMoAVABwCeEsscB5ihavBbhYM8C3Aa9ZKsBoGFLP4cJkFz+RYAU8Bqlng8otnJy7l\n",
       "IvjMYgH7DlHygrIP0OzFOJQz4iujp2GW9wCZsI07xail8QAAAABJRU5ErkJggg==\n",
       "\" style=\"display:inline;vertical-align:middle;\" /></a> <a class=\"ProveItLink\" href=\"proof.ipynb\" style=\"text-decoration: none\">&#x22A2;&nbsp;</a><a class=\"ProveItLink\" href=\"../ea5143681b70bb6b9af52183697ea513402159430/expr.ipynb\"><img src=\"data:image/png;base64,iVBORw0KGgoAAAANSUhEUgAAADQAAAAOBAMAAACStyITAAAAMFBMVEX////c3NxmZmbMzMxERESY\n",
       "mJiIiIh2dna6urqqqqoyMjIiIiIQEBBUVFTu7u4AAAAiO1wTAAAAAXRSTlMAQObYZgAAAG9JREFU\n",
       "GNNj4LuzgQETiIFJrgtYpIzAJP8EnFL9D3BKVTPglFqbdhWHFN8XBn4DIK21CgTWIktx/mPgKcCu\n",
       "i2kBA78CdiluBYb+AOxSQG/pg5yvvRsEtqBIGTAcx+FC3glMF3A5/poqujjQ7D1AswGgLSBVSP3x\n",
       "iQAAAABJRU5ErkJggg==\n",
       "\" style=\"display:inline;vertical-align:middle;\" /></a></span></td></tr>\n",
       "<tr><td>1</td><td>assumption</td><td></td><td><span style=\"font-size:20px;\"><a class=\"ProveItLink\" href=\"../258881f54381aad054795aa9fd32b72cce216b030/expr.ipynb\"><img src=\"data:image/png;base64,iVBORw0KGgoAAAANSUhEUgAAAIEAAAAVBAMAAACTeZA2AAAAMFBMVEX////c3NxERESqqqpUVFS6\n",
       "urrMzMwyMjIQEBCIiIh2dnYiIiLu7u5mZmaYmJgAAABXZE4RAAAAAXRSTlMAQObYZgAAAaxJREFU\n",
       "OMtjYGDgu8dAJmBbJQCieHbhVBGJRzdfAMiIZhCT8wPQFI8N2KxwYDjSjUWccQKIvAYiroMIrgYg\n",
       "we6ARSX7AQaGEmwmXwDLgogVcBP4DRAKDsAYM4H4M04T+BagmBB/AKGgBsboYWBg/YPTBJ4GFBNW\n",
       "IykIgdKsBUDJDThNYFBGMaFkph9cAdcECM0LdCa755QHuExYCzOBF2gVzycG/gQgczcY/IUGJFDv\n",
       "eQWGbyA15WDggGKCORC/BzEygBHL/IeBYwHcDuZSMMUBlLA/wNCFyw0RIFuAzJQ2iDv4LyCUHG8F\n",
       "kfwB4Pj+i8uEfBChDnRoBND53BcY4hH+Zas6ADNhLwPrP3wmcINczlIATg73D8DDYRMkajkMQMmB\n",
       "FxSfUAkFDF+AwwEUYcBgRHiXGRpgTEBXfUMOHzQ3PEeOTRYDXkSyFofFKlChM8MVBoKxCTKBxxMp\n",
       "hyvCUhTQcUfmoicHkIe6wR4qRUlRyCABxmjEWzigpWqs4BVeE8BJF2wCH04T2A/gM+E4vHzg2YlL\n",
       "DaMDPhMcQWHaCimvFuNSJInHAM4EaDkJAIKufTLdnPXFAAAAAElFTkSuQmCC\n",
       "\" style=\"display:inline;vertical-align:middle;\" /></a> <a class=\"ProveItLink\" href=\"../ef36de2735c6d2e9dfc5d38f91cc5b7efa8420b80/proof.ipynb\" style=\"text-decoration: none\">&#x22A2;&nbsp;</a><a class=\"ProveItLink\" href=\"../0ec13bfd6b8275be5a37ddea63006e3c88bd242b0/expr.ipynb\"><img src=\"data:image/png;base64,iVBORw0KGgoAAAANSUhEUgAAAGwAAAAVBAMAAABRZRb3AAAAMFBMVEX////c3NxmZmbMzMxERESY\n",
       "mJiIiIh2dna6urqqqqoyMjIiIiIQEBBUVFTu7u4AAAAiO1wTAAAAAXRSTlMAQObYZgAAAVVJREFU\n",
       "OMtjYKAqaMMjx9rAwMB3ZwMWGeYLDG9PYxFnTACRykDMdQGLNNcDBoa12IxTAMsCMf8EhOgDGCMN\n",
       "iH/i1MZawMDQ/wAhug7GOMfAwPEPpza+AwwM1UiivVCaYwEDA/sGnNoYPIFeSLsKF2VPgNBMQFdw\n",
       "XcsNwKWtiIHvCwO/AVDhbjD4BA0RoIb3DgyfQSasAoMLKNpmMXD+Y+ApgJvGuQJM8QBjZv4DhuO4\n",
       "bOthYFrAwK+AEH91AkTyA7VpMTB8wqXNnoFbgaEf4Qfm5Q9g2jYxcHzFrQ0YbfoP4H7bAokNngmg\n",
       "aGMCRQFUwgHNkcDwQHiBE+pzFqD9n5H9jGZbFAPvBCZE6pKCRQRQ9iaDLgOeCLimihB1hEU3MKrf\n",
       "JqFHG8i9p8HuXYEqYQBjHMSbq0CJCysIx6sNlpiwZhzc4BUuCcYL+LRdxCkjhkcXmwEDAMwxXLzy\n",
       "XTsjAAAAAElFTkSuQmCC\n",
       "\" style=\"display:inline;vertical-align:middle;\" /></a></span></td></tr>\n",
       "<tr><td>2</td><td>assumption</td><td></td><td><span style=\"font-size:20px;\"><a class=\"ProveItLink\" href=\"../ab494af6e5d7620e5697961356564afcc56f49df0/expr.ipynb\"><img src=\"data:image/png;base64,iVBORw0KGgoAAAANSUhEUgAAABsAAAAVBAMAAABF8IgWAAAAMFBMVEX////c3NxERESqqqpUVFS6\n",
       "urrMzMwyMjIQEBCIiIh2dnYiIiLu7u5mZmaYmJgAAABXZE4RAAAAAXRSTlMAQObYZgAAAKRJREFU\n",
       "GNNjYGDgu8cAAmyrBEAUzy4GCGBrBpGcHxgYjnSDWNdBBFcDkCgBsVbAuZ9RuKx/ULhcG1C47J5T\n",
       "HkC5vAUMDOcVGL4xMLwHcTMCGBjsDzB0AdVcYGBIaYPY+BdIqQN1RCQwMOxlYP3HwMC9ACjEUgCy\n",
       "lvcPVC/Ikm8MHAuQLHJmuIJs75G5D1DczMCAg8sH54L9y7MTFhqtYIpvMSKsABdbMPE4fPXaAAAA\n",
       "AElFTkSuQmCC\n",
       "\" style=\"display:inline;vertical-align:middle;\" /></a> <a class=\"ProveItLink\" href=\"../990c46ae0c757db1b727278c5201138502a954900/proof.ipynb\" style=\"text-decoration: none\">&#x22A2;&nbsp;</a><a class=\"ProveItLink\" href=\"../../../../__pv_it/6840a4fa6c106149dc16a131294d0c5e44f1b0480/expr.ipynb\"><img src=\"data:image/png;base64,iVBORw0KGgoAAAANSUhEUgAAAAkAAAAOBAMAAAAPuiubAAAALVBMVEX///9mZmbMzMxERESYmJiI\n",
       "iIh2dna6urqqqqoyMjIiIiIQEBBUVFTu7u4AAAD9S1JeAAAAAXRSTlMAQObYZgAAAE1JREFUCNdj\n",
       "4D29gAEIOA+ASL4GEFl3AURmgQiGOaFHGBh4HzPwKTBwvGXgTmBgnMDAJ8DAJcBQ5wBSLncBJLWN\n",
       "gYGngRFoBO9REQYGAGrcDtUkVqASAAAAAElFTkSuQmCC\n",
       "\" style=\"display:inline;vertical-align:middle;\" /></a></span></td></tr>\n",
       "</table>"
      ],
      "text/plain": [
       "<proveit._core_.proof._ShowProof at 0x7f94ebc5c080>"
      ]
     },
     "execution_count": 1,
     "metadata": {},
     "output_type": "execute_result"
    }
   ],
   "source": [
    "import proveit\n",
    "%show_proof"
   ]
  },
  {
   "cell_type": "code",
   "execution_count": null,
   "metadata": {},
   "outputs": [],
   "source": []
  }
 ],
 "metadata": {
  "kernelspec": {
   "display_name": "Python 3",
   "language": "python",
   "name": "python3"
  }
 },
 "nbformat": 4,
 "nbformat_minor": 0
}
