{
 "cells": [
  {
   "cell_type": "markdown",
   "metadata": {},
   "source": [
    "Show the Proof\n",
    "========"
   ]
  },
  {
   "cell_type": "code",
   "execution_count": 1,
   "metadata": {},
   "outputs": [
    {
     "data": {
      "text/html": [
       "<table><tr><th>&nbsp;</th><th>step type</th><th>requirements</th><th>statement</th></tr>\n",
       "<tr><td>0</td><td>assumption</td><td></td><td><span style=\"font-size:20px;\"><a class=\"ProveItLink\" href=\"../291306a416167346004dda9466772da923aa68990/expr.ipynb\"><img src=\"data:image/png;base64,iVBORw0KGgoAAAANSUhEUgAAAIUAAAAVBAMAAACakjBMAAAAMFBMVEX///9ERETc3NyqqqpUVFS6\n",
       "urrMzMwyMjIQEBCIiIh2dnYiIiLu7u5mZmaYmJgAAABJJ2g3AAAAAXRSTlMAQObYZgAAAZ1JREFU\n",
       "OMtjYGDgu8dANmBbpQCieHbhVhKJTz9fAMiQZhCT8wNuWxxwSDBNAJHXQMR1EMHVgNMM9gO4DL8A\n",
       "lgYRK7CbAdc5kwGvGXwLcJtRA2P04DeDpwG3GSFQmrUAvxkMwihmMHkubYKr4JoAoXlBblWZFaGA\n",
       "y4y1MDN4QbZFKDCCood3Nxj8hQbpA6BbmhjkwarKwcABxQxzIH4PYmQAo5npHwOvAMIa5lIwxQGU\n",
       "0X/AcBGnXyJAFgGZKW1ABssHBu4JSGqOt4JIfqAZ/gwMO3GakQ8ixIGujUgAqhZgOJ+ApKTqAMyM\n",
       "jww83/CawQ0KNBZgeOhPYLAHJQtoeGyEpBAOAwamnwzMH3gQISWA4RdweHBtYGA4b8Dgzgx3CDM0\n",
       "5BgfMPB8Btphhssdz5Hjlv0B814uuAp1WBwDVdYxWF9YQDBuQWYweU5NnApXIQRLY0AXqswMkwxA\n",
       "NQDkrW6wt0pxp1O4p5rwFx740jocvMJvBjg9g83gIyPvQ1MRvPzg2YlTEZMDXjOcQKHbCinTFuNU\n",
       "pYnPCM4EaHkKAFeNdPqYj1I/AAAAAElFTkSuQmCC\n",
       "\" style=\"display:inline;vertical-align:middle;\" /></a> <a class=\"ProveItLink\" href=\"proof.ipynb\" style=\"text-decoration: none\">&#x22A2;&nbsp;</a><a class=\"ProveItLink\" href=\"../f5a84841194366ac4e9e51ebb1ba5fe15917f9730/expr.ipynb\"><img src=\"data:image/png;base64,iVBORw0KGgoAAAANSUhEUgAAAHAAAAAVBAMAAABs93eRAAAAMFBMVEX///8yMjKqqqrMzMzu7u4i\n",
       "IiJmZmaYmJhEREQQEBC6urp2dnaIiIhUVFTc3NwAAAD87Fq/AAAAAXRSTlMAQObYZgAAAUJJREFU\n",
       "OMtjYKA2WINPkn0BTinmCzgk+A6AyGScGhkdcJmYAJZGF4YrP8OAVyP7BjRhERhjCn6NLBPQhNdC\n",
       "aS4B/BoZmoC+vbNrHlyY+wCEZgM55e3plQ9wadzGwLDyAccHkNJQMPgGDZsCoK3zGPrBhgiCwQUU\n",
       "jYoMfN8Z2BoQBjJJgSlOYES9L2DIwOnUlQy8HxhYDyBJOM4CkfxAjfcZGGJwarRn4G9g8DdAEpd2\n",
       "gGn8wcDyGY/G9wcY9EHRB/VjBCQmORUY+P4wMH1gQfi+Ac2p/goMF5ngVjJBg4CjgIHlEwOvgDIu\n",
       "GwuB4ccUxg0XfgiLFqC0OINqwgbc0cF355TFKbhwHywBBACj8cziHrRcAHL1VLCrpdDMg7t5Hv5M\n",
       "h5Hk4KAav0buAyRnK2hs45Thu4BX4z3cUm/w6eMxYAAAJ2dNNn4Lml0AAAAASUVORK5CYII=\n",
       "\" style=\"display:inline;vertical-align:middle;\" /></a></span></td></tr>\n",
       "</table>"
      ],
      "text/plain": [
       "<proveit._core_.proof._ShowProof at 0x7f94ebf82eb8>"
      ]
     },
     "execution_count": 1,
     "metadata": {},
     "output_type": "execute_result"
    }
   ],
   "source": [
    "import proveit\n",
    "%show_proof"
   ]
  },
  {
   "cell_type": "code",
   "execution_count": null,
   "metadata": {},
   "outputs": [],
   "source": []
  }
 ],
 "metadata": {
  "kernelspec": {
   "display_name": "Python 3",
   "language": "python",
   "name": "python3"
  }
 },
 "nbformat": 4,
 "nbformat_minor": 0
}
