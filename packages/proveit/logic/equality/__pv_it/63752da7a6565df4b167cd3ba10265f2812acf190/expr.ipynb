{
 "cells": [
  {
   "cell_type": "markdown",
   "metadata": {},
   "source": [
    "Expression of type <a class=\"ProveItLink\" href=\"../../../../../../doc/html/api/proveit.logic.Set.html\">Set</a>\n",
    "=======================\n",
    "# from context <a class=\"ProveItLink\" href=\"../../_context_.ipynb\">proveit.logic.equality</a>"
   ]
  },
  {
   "cell_type": "code",
   "execution_count": 1,
   "metadata": {},
   "outputs": [],
   "source": [
    "# import Expression classes needed to build the expression\n",
    "from proveit._common_ import P, Q\n",
    "from proveit.logic import Equals, Set"
   ]
  },
  {
   "cell_type": "code",
   "execution_count": 2,
   "metadata": {},
   "outputs": [
    {
     "data": {
      "text/html": [
       "<strong id=\"expr\">expr:</strong> <a class=\"ProveItLink\" href=\"expr.ipynb\"><img src=\"data:image/png;base64,iVBORw0KGgoAAAANSUhEUgAAAE4AAAAVBAMAAAAazcUaAAAAMFBMVEX///9ERETc3NyqqqpUVFS6\n",
       "urrMzMwyMjIQEBCIiIh2dnYiIiLu7u5mZmaYmJgAAABJJ2g3AAAAAXRSTlMAQObYZgAAATNJREFU\n",
       "KM9jYGDgu8eAH2QtApE8uxgIgQwDIMH5AcSc8t/FZYsCugKmtas8gRRvAZDgagALfWdgYGxCV7c8\n",
       "gYFlD1QJRB3bLwYG5l9oyo4LAIkWFHWcX4Ee+oumrhpE3D+ArI4R6EqWz6jKeL+ByPUByOr4gU49\n",
       "L4CqTh/MX28AUQL2DEP+Aga2vWBDysHAAWTjA5CAfAIDHyhIMgJAvPleq26hB8v+AyDyBxDXMjCk\n",
       "tIHF5A9gBi9IBSQQGOsYGCISQNzfWKIBLMbeAyRAUcYCch8bPEh4d4MByAv1IL490Biw+7g2QIMP\n",
       "A9gHaE5ja2VADmfGP1jUce1ZwGWogKzurPyXCVgUhlTNNmBIQIk3HIAxgY84dRfCYUr48Klj+f8V\n",
       "FmU8O/GoY+t4AI8yvsVE5A8AxAVYPdvYo68AAAAASUVORK5CYII=\n",
       "\" style=\"display:inline;vertical-align:middle;\" /></a><br>"
      ],
      "text/plain": [
       "expr: {P = Q}"
      ]
     },
     "execution_count": 2,
     "metadata": {},
     "output_type": "execute_result"
    }
   ],
   "source": [
    "# build up the expression from sub-expressions\n",
    "expr = Set(Equals(P, Q))"
   ]
  },
  {
   "cell_type": "code",
   "execution_count": 3,
   "metadata": {},
   "outputs": [
    {
     "name": "stdout",
     "output_type": "stream",
     "text": [
      "Passed sanity check: built 'expr' is the same as the stored Expression.\n"
     ]
    }
   ],
   "source": [
    "# check that the built expression is the same as the stored expression\n",
    "%check_expr"
   ]
  },
  {
   "cell_type": "code",
   "execution_count": 4,
   "metadata": {},
   "outputs": [
    {
     "data": {
      "text/html": [
       "<table><tr><th>&nbsp;</th><th>core type</th><th>sub-expressions</th><th>expression</th></tr>\n",
       "<tr><td>0</td><td>Operation</td><td>operator:&nbsp;1<br>operands:&nbsp;2<br></td><td><a class=\"ProveItLink\" href=\"expr.ipynb\"><img src=\"data:image/png;base64,iVBORw0KGgoAAAANSUhEUgAAAE4AAAAVBAMAAAAazcUaAAAAMFBMVEX///9ERETc3NyqqqpUVFS6\n",
       "urrMzMwyMjIQEBCIiIh2dnYiIiLu7u5mZmaYmJgAAABJJ2g3AAAAAXRSTlMAQObYZgAAATNJREFU\n",
       "KM9jYGDgu8eAH2QtApE8uxgIgQwDIMH5AcSc8t/FZYsCugKmtas8gRRvAZDgagALfWdgYGxCV7c8\n",
       "gYFlD1QJRB3bLwYG5l9oyo4LAIkWFHWcX4Ee+oumrhpE3D+ArI4R6EqWz6jKeL+ByPUByOr4gU49\n",
       "L4CqTh/MX28AUQL2DEP+Aga2vWBDysHAAWTjA5CAfAIDHyhIMgJAvPleq26hB8v+AyDyBxDXMjCk\n",
       "tIHF5A9gBi9IBSQQGOsYGCISQNzfWKIBLMbeAyRAUcYCch8bPEh4d4MByAv1IL490Biw+7g2QIMP\n",
       "A9gHaE5ja2VADmfGP1jUce1ZwGWogKzurPyXCVgUhlTNNmBIQIk3HIAxgY84dRfCYUr48Klj+f8V\n",
       "FmU8O/GoY+t4AI8yvsVE5A8AxAVYPdvYo68AAAAASUVORK5CYII=\n",
       "\" style=\"display:inline;vertical-align:middle;\" /></a></td></tr>\n",
       "<tr><td>1</td><td>Literal</td><td></td><td><a class=\"ProveItLink\" href=\"../../../set_theory/enumeration/__pv_it/07381ed5b23806e8d7914b78cb6667769e3708dd0/expr.ipynb\"><img src=\"data:image/png;base64,iVBORw0KGgoAAAANSUhEUgAAAB4AAAAOBAMAAADKyLEKAAAAMFBMVEX///8iIiIQEBCIiIjMzMzc\n",
       "3Nyqqqp2dnZEREQyMjK6urru7u5mZmZUVFSYmJgAAACI6eGPAAAAAXRSTlMAQObYZgAAALRJREFU\n",
       "CNdjYGDgu3Nm3wIGBJjHwN0PZW5yYGDgLWBgyITy8zcwMMQDxZyh/INAvD6BgcEFypcB4vjPDiBm\n",
       "TPFRrhs/LjMwMP//38rAwCbKEMPA9gEkE3fp0waG+AUMRxh4JkC01T9guPTOOICBEWgVH5C//wHD\n",
       "H5D4fqCz9oCMDGD4DLaegRXslLMMDMpAgxlOMmQxHDRgYG5gYLBk4D7KcIe7gOHC2rt9QCXsh40Z\n",
       "GCKMGQDRkC8N/Ph1XAAAAABJRU5ErkJggg==\n",
       "\" style=\"display:inline;vertical-align:middle;\" /></a></td></tr>\n",
       "<tr><td>2</td><td>ExprTuple</td><td>3</td><td><a class=\"ProveItLink\" href=\"../d34591965a07550c658c342f5ff258f100128be30/expr.ipynb\"><img src=\"data:image/png;base64,iVBORw0KGgoAAAANSUhEUgAAAEgAAAAVBAMAAAAX07VdAAAAMFBMVEX////c3NwiIiJERESqqqqY\n",
       "mJh2dnZmZmYQEBDu7u4yMjJUVFTMzMyIiIi6uroAAAAs73DqAAAAAXRSTlMAQObYZgAAAUpJREFU\n",
       "KM9jYCAK8F3AL8/6AEicBmLe/b93b9qIIS9Wlg00oQbIWgni8i9gYLAQQFPDtoaBYdMEBi6gIWDb\n",
       "zicwMPgnoKrhXAwkODYwsCYwcEwACdwHWhxfgKqISwFIsP9k4GxgeAUWsAfi/Q6oiuoPgKz8x8Bg\n",
       "wlAGFvgFNP0zqhpGMJ/tCwNDOsNSEJPnGwPDIbBtVatAYDXIoq8gPvMfBgYvhj4Qk/d3Wnoimt+Y\n",
       "foK93cDA8ILhH1j9T8xABElDvHweoohfAYsisNiKCSBFLeBggvu+SAkElEEh8AFIsACdBLTOFBZM\n",
       "6IDlH+PdAydAElFA/4GCaQKWmE2axpBiCGKkMzwChlDx/73YkseuXBUGHiBjHQOHAJ5kYsMQwwCK\n",
       "FtYEPIrM+YCpg+0CNKngAPv/Ax0+C8iQxqPoRCuQACVGRgLJl/cAAwDw9FUJfQ7lagAAAABJRU5E\n",
       "rkJggg==\n",
       "\" style=\"display:inline;vertical-align:middle;\" /></a></td></tr>\n",
       "<tr><td>3</td><td>Operation</td><td>operator:&nbsp;4<br>operands:&nbsp;5<br></td><td><a class=\"ProveItLink\" href=\"../4b8aeebf3263288c8b5e59876eae207cf19ddcb30/expr.ipynb\"><img src=\"data:image/png;base64,iVBORw0KGgoAAAANSUhEUgAAADsAAAASBAMAAAAXqLt+AAAAMFBMVEX////u7u5mZmaYmJi6urqq\n",
       "qqp2dnbMzMwQEBBEREQyMjLc3NwiIiJUVFSIiIgAAAAeC3ydAAAAAXRSTlMAQObYZgAAAN5JREFU\n",
       "KM9jYGB4+//u3bMbGNAAd1LaPQjrFwMDZze6dFYBA+9BEIP9GwMD6zc0WakJQKIXxOL7wsDA/AlN\n",
       "eg2I0BcAEpwfGBh4v6LKMn0HkfkOQIJ/AQOD/ARU6f1gfn4AkKhPYGA/BNayCgwugIw1AAnMLwAS\n",
       "76+lqaH76zzIVoYfYDUCDBgALAHxzh9MWYgYVyPI23A/MZ0BA5Cr1oP48QVQb2OAeId9z9lbQCzO\n",
       "j1ik2Q4msEWC3Cs0/+8DLPK+y94EMBQw4AacBcx4pRW88Mgy8P7/gk+avQMYsACkOkEpvD6FzwAA\n",
       "AABJRU5ErkJggg==\n",
       "\" style=\"display:inline;vertical-align:middle;\" /></a></td></tr>\n",
       "<tr><td>4</td><td>Literal</td><td></td><td><a class=\"ProveItLink\" href=\"../2fb26078095930560931daa0500ce419a39ea6cd0/expr.ipynb\"><img src=\"data:image/png;base64,iVBORw0KGgoAAAANSUhEUgAAAA4AAAAFBAMAAACHocAhAAAAFVBMVEX///9EREQiIiJUVFQyMjJm\n",
       "ZmYAAADubVkoAAAAAXRSTlMAQObYZgAAABRJREFUCNdjCHEBAWcGXCBICQQUAUpuAwlgGKrkAAAA\n",
       "AElFTkSuQmCC\n",
       "\" style=\"display:inline;vertical-align:middle;\" /></a></td></tr>\n",
       "<tr><td>5</td><td>ExprTuple</td><td>6, 7</td><td><a class=\"ProveItLink\" href=\"../d7a1e7ea4a4f91471e6430488ddf80a6c01c0dbd0/expr.ipynb\"><img src=\"data:image/png;base64,iVBORw0KGgoAAAANSUhEUgAAADMAAAAVBAMAAAAZessyAAAAMFBMVEX////c3NwiIiJERESqqqqY\n",
       "mJh2dnZmZmYQEBDu7u4yMjJUVFTMzMyIiIi6uroAAAAs73DqAAAAAXRSTlMAQObYZgAAAUZJREFU\n",
       "KM99Ur9Lw1AYvJImbZpUu4s4SnHQxbkB/4A6OUqmFgRpp65VcFAEzaa4GAQFJzeXImR3UFwtGBx1\n",
       "KSJt/UHrd++10aH4IJfLu3Dv++57wD9r6n7S7jrhVp7HYau1UNCbqWrlBshEQi/5/QkY21raiOAU\n",
       "gRDI08/tAumuUk6WBPaBNSAbCM0PALOnpDNCM8Ax8EJqdADnnSzzTazFMDw0SKfF+ZROmFNY82DV\n",
       "cU5658OdV37NVWIpQjrEAenTdaWha1/k0ehLu1sYqL+Ccat9Aot1O1p6S1JQLLenpB221UukK0I5\n",
       "UobLo7Zk0bUcz7Zdnm+GqLKtDyo2zayib62wIin+GTgqfTEt+5BbrxcPHsQwFyNb+B2PpkZkiiRB\n",
       "mX4imfpl1Bne5ngofyVnKFXZEh1mEmk0bndXwnJonpp4AdrAD2bmUgaDRD48AAAAAElFTkSuQmCC\n",
       "\" style=\"display:inline;vertical-align:middle;\" /></a></td></tr>\n",
       "<tr><td>6</td><td>Variable</td><td></td><td><a class=\"ProveItLink\" href=\"../../../../__pv_it/6369c6c8083c513ca7161ace249642d040f9327d0/expr.ipynb\"><img src=\"data:image/png;base64,iVBORw0KGgoAAAANSUhEUgAAABAAAAAOBAMAAADUAYG5AAAAMFBMVEX////u7u5mZmaYmJi6urqq\n",
       "qqp2dnbMzMwQEBBEREQyMjLc3NwiIiJUVFSIiIgAAAAeC3ydAAAAAXRSTlMAQObYZgAAAGBJREFU\n",
       "CNdjYGB4+//u3bMbGIDgFwMDZzeQZv/GwMAKxAx8XxgYmD8BGZwfGBh4vwIZ/AsYGOQnABn1CQzs\n",
       "h0Ca3l9LUwPrni/AAAF/oDT7JygDZAwYcH6E0ELz/z4A0QBnpRnRyxnfJQAAAABJRU5ErkJggg==\n",
       "\" style=\"display:inline;vertical-align:middle;\" /></a></td></tr>\n",
       "<tr><td>7</td><td>Variable</td><td></td><td><a class=\"ProveItLink\" href=\"../../../../__pv_it/98124f92e6e1fc3772af50ac63eaa1f5624776f20/expr.ipynb\"><img src=\"data:image/png;base64,iVBORw0KGgoAAAANSUhEUgAAAA8AAAASBAMAAAB2sJk8AAAAMFBMVEX///+YmJiqqqq6uroQEBBE\n",
       "RETu7u4iIiLMzMwyMjKIiIhUVFRmZmZ2dnbc3NwAAADS0us6AAAAAXRSTlMAQObYZgAAAHxJREFU\n",
       "CNdjYGDgu3N3FwMI3Gxg4C4D0pkBQMIbiKeDRM8nMPD8ADHuGzC8DwAzFBjOC4AY8Q0M9Qkgxhcw\n",
       "YmBg+svA8B3E4HRjYJgPYug3ALHBqxUczkAOb9kFXtUHIGHrucsVGBrAtrI2MEIZByzBNAP3/88Q\n",
       "BocL0BoActoerD1tNT4AAAAASUVORK5CYII=\n",
       "\" style=\"display:inline;vertical-align:middle;\" /></a></td></tr>\n",
       "</table>\n"
      ],
      "text/plain": [
       "0. {P = Q}\n",
       "   core type: Operation\n",
       "   operator: 1\n",
       "   operands: 2\n",
       "1. Set\n",
       "   core type: Literal\n",
       "   sub-expressions: \n",
       "2. (P = Q)\n",
       "   core type: ExprTuple\n",
       "   sub-expressions: 3\n",
       "3. P = Q\n",
       "   core type: Operation\n",
       "   operator: 4\n",
       "   operands: 5\n",
       "4. =\n",
       "   core type: Literal\n",
       "   sub-expressions: \n",
       "5. (P , Q)\n",
       "   core type: ExprTuple\n",
       "   sub-expressions: 6, 7\n",
       "6. P\n",
       "   core type: Variable\n",
       "   sub-expressions: \n",
       "7. Q\n",
       "   core type: Variable\n",
       "   sub-expressions: "
      ]
     },
     "execution_count": 4,
     "metadata": {},
     "output_type": "execute_result"
    }
   ],
   "source": [
    "# display the expression information\n",
    "expr.exprInfo()"
   ]
  },
  {
   "cell_type": "code",
   "execution_count": null,
   "metadata": {},
   "outputs": [],
   "source": []
  }
 ],
 "metadata": {
  "kernelspec": {
   "display_name": "Python 3",
   "language": "python",
   "name": "python3"
  }
 },
 "nbformat": 4,
 "nbformat_minor": 0
}
