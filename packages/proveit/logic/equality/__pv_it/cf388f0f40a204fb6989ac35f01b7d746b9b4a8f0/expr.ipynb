{
 "cells": [
  {
   "cell_type": "markdown",
   "metadata": {},
   "source": [
    "Expression of type <a class=\"ProveItLink\" href=\"../../../../../../doc/html/api/proveit.Lambda.html\">Lambda</a>\n",
    "=======================\n",
    "# from context <a class=\"ProveItLink\" href=\"../../_context_.ipynb\">proveit.logic.equality</a>"
   ]
  },
  {
   "cell_type": "code",
   "execution_count": 1,
   "metadata": {},
   "outputs": [],
   "source": [
    "# import Expression classes needed to build the expression\n",
    "from proveit import Lambda\n",
    "from proveit._common_ import P, Px, x\n",
    "from proveit.logic import Forall, Not\n",
    "from proveit.logic._common_ import PofFalse"
   ]
  },
  {
   "cell_type": "code",
   "execution_count": 2,
   "metadata": {},
   "outputs": [
    {
     "data": {
      "text/html": [
       "<strong id=\"expr\">expr:</strong> <a class=\"ProveItLink\" href=\"expr.ipynb\"><img src=\"data:image/png;base64,iVBORw0KGgoAAAANSUhEUgAAAP8AAAAZCAMAAADJywhnAAAANlBMVEX///8UFBQNDQ3u7u5mZmaY\n",
       "mJi6urqqqqp2dnbMzMwQEBBEREQyMjLc3NwiIiJUVFSIiIgAAABiXWJGAAAAAXRSTlMAQObYZgAA\n",
       "ArFJREFUWMPtmNuWqyAMhpnhFERO7/+yG0UtmlCxdqZzsXPRrhbWHz4NSYCxV8x67x37fVPZL7DP\n",
       "m/+caxf+8+9Nu4/w8x8N9Lj/LVWbH9R1vb1mDCmFbD64fv5HDMh4i5XwbhCkML38FEyl5yLWZCyN\n",
       "Ja8Nrpsf9PprvBsKyDuhOPa/fwxT6RmBNZlJJavqBN38zq4rsjfxkfdIRSv08mOYWq/ml9uEVDRk\n",
       "Ev35b32oQt/kR94HIqD40MuPYWq9mn/VZDaV75B0P78EN9vtYnD0rkZylu7kRzA7vZp/1Vx3DE8W\n",
       "bY0SSpqqf8lOdr8hOXoXa6hDDE5HUaIXRCc/ghHQ4l80lx1jvGhV+MAJ/jDnT0umTHV5+z+8j7IA\n",
       "5L+ll2wo3vTYx49hFj2Cf9GMKQCAANfscPi+MpZRNS2Fj3RMX9n+B+9DAYJ5LC+ylCk1dNY/BDOo\n",
       "Fv+iaRNKON9ffmdDUrj/m76ivMuPvC+upn+Drd5rHz+GSU3+RTP50w43KGJ0Yvf8Lj/yXq13iJf5\n",
       "McwZvyGq3kFEOGo0x/7aWeVUpWIwZ/zHaaT3Ycu2Lpmt0+6MfwJm0M/jPyZ1wm8iPWrdEhfAp1Ct\n",
       "HNH8aBrp3ZYtJd28/Vks/LIv/xEwtpn/iiax/dkemDeejhZ+S/e7LFvzgy02EtNI76Uq6SRzC/to\n",
       "2DvrHwED4kn948Lm88LFE4wn9mdyJ/vfEtNI72qW5zYCB9jy66jO+WmYosfEksnnT1trvn7+l9vD\n",
       "NvlVmXP+wzTaqFNYf//bp7frf+/ef+Q8CmOp2M/48TTaJFCZ83V+Ca1s/Cb+HKta5HB9ym+IaQ3D\n",
       "519+4fzbo8fardtb7r/unYkx5NZ/vsRPXxoG91f561uaUo5MGyWq63p7zb/Hf/VV/vb95+n9/8+s\n",
       "crr/f6/yP2JqId+N7GxPAAAAAElFTkSuQmCC\n",
       "\" style=\"display:inline;vertical-align:middle;\" /></a><br>"
      ],
      "text/plain": [
       "expr: P -> [forall_{x | [not](x)} P(x)] | P(FALSE)"
      ]
     },
     "execution_count": 2,
     "metadata": {},
     "output_type": "execute_result"
    }
   ],
   "source": [
    "# build up the expression from sub-expressions\n",
    "expr = Lambda(P, Forall([x], Px, conditions = [Not(x)]), conditions = [PofFalse])"
   ]
  },
  {
   "cell_type": "code",
   "execution_count": 3,
   "metadata": {},
   "outputs": [
    {
     "name": "stdout",
     "output_type": "stream",
     "text": [
      "Passed sanity check: built 'expr' is the same as the stored Expression.\n"
     ]
    }
   ],
   "source": [
    "# check that the built expression is the same as the stored expression\n",
    "%check_expr"
   ]
  },
  {
   "cell_type": "code",
   "execution_count": 4,
   "metadata": {},
   "outputs": [
    {
     "data": {
      "text/html": [
       "<table><tr><th>&nbsp;</th><th>core type</th><th>sub-expressions</th><th>expression</th></tr>\n",
       "<tr><td>0</td><td>Lambda</td><td>parameter:&nbsp;9<br>body:&nbsp;1<br>conditions:&nbsp;2<br></td><td><a class=\"ProveItLink\" href=\"expr.ipynb\"><img src=\"data:image/png;base64,iVBORw0KGgoAAAANSUhEUgAAAP8AAAAZCAMAAADJywhnAAAANlBMVEX///8UFBQNDQ3u7u5mZmaY\n",
       "mJi6urqqqqp2dnbMzMwQEBBEREQyMjLc3NwiIiJUVFSIiIgAAABiXWJGAAAAAXRSTlMAQObYZgAA\n",
       "ArFJREFUWMPtmNuWqyAMhpnhFERO7/+yG0UtmlCxdqZzsXPRrhbWHz4NSYCxV8x67x37fVPZL7DP\n",
       "m/+caxf+8+9Nu4/w8x8N9Lj/LVWbH9R1vb1mDCmFbD64fv5HDMh4i5XwbhCkML38FEyl5yLWZCyN\n",
       "Ja8Nrpsf9PprvBsKyDuhOPa/fwxT6RmBNZlJJavqBN38zq4rsjfxkfdIRSv08mOYWq/ml9uEVDRk\n",
       "Ev35b32oQt/kR94HIqD40MuPYWq9mn/VZDaV75B0P78EN9vtYnD0rkZylu7kRzA7vZp/1Vx3DE8W\n",
       "bY0SSpqqf8lOdr8hOXoXa6hDDE5HUaIXRCc/ghHQ4l80lx1jvGhV+MAJ/jDnT0umTHV5+z+8j7IA\n",
       "5L+ll2wo3vTYx49hFj2Cf9GMKQCAANfscPi+MpZRNS2Fj3RMX9n+B+9DAYJ5LC+ylCk1dNY/BDOo\n",
       "Fv+iaRNKON9ffmdDUrj/m76ivMuPvC+upn+Drd5rHz+GSU3+RTP50w43KGJ0Yvf8Lj/yXq13iJf5\n",
       "McwZvyGq3kFEOGo0x/7aWeVUpWIwZ/zHaaT3Ycu2Lpmt0+6MfwJm0M/jPyZ1wm8iPWrdEhfAp1Ct\n",
       "HNH8aBrp3ZYtJd28/Vks/LIv/xEwtpn/iiax/dkemDeejhZ+S/e7LFvzgy02EtNI76Uq6SRzC/to\n",
       "2DvrHwED4kn948Lm88LFE4wn9mdyJ/vfEtNI72qW5zYCB9jy66jO+WmYosfEksnnT1trvn7+l9vD\n",
       "NvlVmXP+wzTaqFNYf//bp7frf+/ef+Q8CmOp2M/48TTaJFCZ83V+Ca1s/Cb+HKta5HB9ym+IaQ3D\n",
       "519+4fzbo8fardtb7r/unYkx5NZ/vsRPXxoG91f561uaUo5MGyWq63p7zb/Hf/VV/vb95+n9/8+s\n",
       "crr/f6/yP2JqId+N7GxPAAAAAElFTkSuQmCC\n",
       "\" style=\"display:inline;vertical-align:middle;\" /></a></td></tr>\n",
       "<tr><td>1</td><td>Operation</td><td>operator:&nbsp;3<br>operand:&nbsp;4<br></td><td><a class=\"ProveItLink\" href=\"../3985ab0fdd1d8393a53618bc752540118ae247410/expr.ipynb\"><img src=\"data:image/png;base64,iVBORw0KGgoAAAANSUhEUgAAAHIAAAAXBAMAAAAlyganAAAAMFBMVEX///8QEBC6urrMzMxUVFRm\n",
       "ZmZERETc3NwyMjKqqqp2dnaIiIiYmJgiIiLu7u4AAAAU9Wx4AAAAAXRSTlMAQObYZgAAAaxJREFU\n",
       "OMudkz1IAmEYx/965tedl7REm0FDS3BDu1FS0Npmiy0nQaBDJBXR0RzhErTlUlFCONhQi45BS0Mt\n",
       "0eCSREsS2Rf08bx6791pcpc9cL6Pf58fPu//eQ74d1S6qnYXmqcUAS5ZcmFfX/yOxa7SLBvl0gxw\n",
       "yM4th796A7z9LYV+YIkOX8IeFD6AAD0QC1yScvDTRXuy9qT4RKV1SlyGK3IY0kEms+bQrLcGeN4p\n",
       "GTa1eeBFVW8cyF4NeGQ3itOzUlw+oab3gAkgaRZFOpHRHIRrlmxSmznp1kUD2QGGIGtmUUevStNH\n",
       "8cZQ+oAgxFpAAQaBEMSyA5nixpBTMjyNmigZVw5VHMhPmCQZXNBJWWOLkR8vKm0klyDUuTTAPtYV\n",
       "trLULZLj1H1l0pVtJQ2pMc5mLNBc0yWIRJ7T121yys1sM8h9VVU1Q4L3i5M0it3yHFabqd73a9s9\n",
       "E4Z0l3rmSzcCVM8e8szRDbaCzCAhLLSTXLKEK23ZPn3WQS3YRhqSJWjPuQu8jerp7HErqRiSNYy3\n",
       "7P7XTw7v2yJPprolfXqTotItaRNjf678ARZiag6xXu2IAAAAAElFTkSuQmCC\n",
       "\" style=\"display:inline;vertical-align:middle;\" /></a></td></tr>\n",
       "<tr><td>2</td><td>ExprTuple</td><td>5</td><td><a class=\"ProveItLink\" href=\"../13472b85081908ef33023a930d503d4714c552e00/expr.ipynb\"><img src=\"data:image/png;base64,iVBORw0KGgoAAAANSUhEUgAAAEAAAAAVBAMAAAAEBPWpAAAAMFBMVEX////c3NwiIiJERESqqqqY\n",
       "mJh2dnZmZmYQEBDu7u4yMjJUVFTMzMyIiIi6uroAAAAs73DqAAAAAXRSTlMAQObYZgAAAUZJREFU\n",
       "KM9jYCAI+C4g897CWXFAzPoASJwG4tv/d+/WFgAyeDaA5GRBBPsBIFEDxCtBvF8MDMyNQJprAoh3\n",
       "HGzEAhCfgYEXZAPPNwYGFiBmuMuAUBAGsiOBgQOkh/cfkP0dyOhEUjADiDkbGF6B2MwfGBi4vwAd\n",
       "vABJAbMDkDBhKAOx+YES8w2ADktAUsBWACTSGZaC2OcTGHjUQW4KQFLAAjLOi6EPxL6/La0M5EuO\n",
       "B0gK+BqAxAuGfyC2/QRI4PAjK+D5ADIbouATA24FLSDmd6gCDgdMK0yhwQDxGbIjWUGOjAL6Ayj+\n",
       "E6oA7DM0bz5iYJhu/xsao3wKDAxFSkoaSkrKQD+DHLSOgUMAObYbkdjQoGZNQFYQhsTOBVlzARrd\n",
       "MMA1Ac7kBLlxFhBLIytg3ABncoPs3ggSQ0lysnDWHZD/DzAAAPOuUahxEs28AAAAAElFTkSuQmCC\n",
       "\" style=\"display:inline;vertical-align:middle;\" /></a></td></tr>\n",
       "<tr><td>3</td><td>Literal</td><td></td><td><a class=\"ProveItLink\" href=\"../../../boolean/quantification/universal/__pv_it/265f8c02ac1094d56e0e6410a1c1fd3500dc9f540/expr.ipynb\"><img src=\"data:image/png;base64,iVBORw0KGgoAAAANSUhEUgAAAAwAAAAQBAMAAADQT4M0AAAAMFBMVEX///8QEBC6urrMzMxUVFRm\n",
       "ZmZERETc3NwyMjKqqqp2dnaIiIiYmJgiIiLu7u4AAAAU9Wx4AAAAAXRSTlMAQObYZgAAAFhJREFU\n",
       "CNdjeMAABhdAxGmGlSCqj6EMSLInMHAAJVknMPAsLy+vBYp8S0u7BaScGRjSgZQKA18DkOJl4D4A\n",
       "pLgP8IJM4mswARuX7gSmpoKNZWDcAKZ4gCoAgTQTILaSE58AAAAASUVORK5CYII=\n",
       "\" style=\"display:inline;vertical-align:middle;\" /></a></td></tr>\n",
       "<tr><td>4</td><td>Lambda</td><td>parameter:&nbsp;12<br>body:&nbsp;6<br>conditions:&nbsp;7<br></td><td><a class=\"ProveItLink\" href=\"../28a8ac1c75a2dc5800a9c04bc2bea349f029a3440/expr.ipynb\"><img src=\"data:image/png;base64,iVBORw0KGgoAAAANSUhEUgAAAIwAAAAVCAMAAACjd/aHAAAANlBMVEX///+6uroUFBQNDQ0yMjJE\n",
       "RETMzMwQEBAiIiKYmJju7u5mZmaqqqpUVFSIiIh2dnbc3NwAAACltDI1AAAAAXRSTlMAQObYZgAA\n",
       "AXJJREFUSMfFVu1yxCAI1Nb4Lcj7v2y9mEuVmJ7tTD3+OImwrLqgQqyymBclktB/O3n1QfkPiSER\n",
       "pWI2nUvViTsFvYaMEKT2YTNPNspffNQiMpqwiuAYBcDVyeEaMkAV1lGoP8x1Y4Q3a8hsVMdEsapX\n",
       "Db3in8hkhJQjBBifd4xjyXjaDrHiCAfDNJkm0BcsZ50w9jlpe9/kR5LR9plNuUqux4lqlkwbiLsM\n",
       "SrS+IeNT7iWTEDHg+dPULAxHmnsywZ6GfeBj3Wlrwz4/bGeGZCcZptdjluFomtmZR4fiBExXnGxn\n",
       "ROpgiE83VBuceTIsMJM+ljYiE3IvGa5ME0c4Px3ThcwZ6PJ+YgJuyGgYdpnm3KqAGY5Ts2SawEiu\n",
       "NPZC7jtnn93zLsNbXC1ijjNZ2roL9BugRwQ305J82Motybq/3HeS4yg5Wdq/IvDaTH7fdTBxKZbU\n",
       "8CYygyeEX/WEGFwul8dVym8j05ZirUc9eHm8JvMFsgIREylwYIQAAAAASUVORK5CYII=\n",
       "\" style=\"display:inline;vertical-align:middle;\" /></a></td></tr>\n",
       "<tr><td>5</td><td>Operation</td><td>operator:&nbsp;9<br>operand:&nbsp;8<br></td><td><a class=\"ProveItLink\" href=\"../../../__pv_it/4d7c4165a9fdb279e98a557bae75d7e45eb1c31a0/expr.ipynb\"><img src=\"data:image/png;base64,iVBORw0KGgoAAAANSUhEUgAAADEAAAAVBAMAAAAdjxsPAAAAMFBMVEX////u7u5mZmaYmJi6urqq\n",
       "qqp2dnbMzMwQEBBEREQyMjLc3NwiIiJUVFSIiIgAAAAeC3ydAAAAAXRSTlMAQObYZgAAAO9JREFU\n",
       "KM9jYCAK+MFZJmDy7f+7d89uADLYL4C4+0AEUwFY6hcDA2c3kOYSAPGKwGILQAT7NwYGViBmeMeA\n",
       "kDEDEXxfGBiYPwEZjUgyEiCC8wMDA+9XBgaWBUgynAFAgh8oIj8BaGsCkgybApCoT2BgPwRygAGS\n",
       "DCvIgPfX0tRAjuZwQJJhaQAS8wUgvuNHlmEHWs7whwGHDPsnqAxHAJppIO9AHIrsAmagCzg/QmXA\n",
       "DkVytdD8vw8gMiwHGBh0zpw5cebMSaAXHJAjoRuJLYESPWZI7DwUGS4BOJNxAYoM9wU4k3cDamzv\n",
       "g7OeMzAAAAoKNyNLs78oAAAAAElFTkSuQmCC\n",
       "\" style=\"display:inline;vertical-align:middle;\" /></a></td></tr>\n",
       "<tr><td>6</td><td>Operation</td><td>operator:&nbsp;9<br>operand:&nbsp;12<br></td><td><a class=\"ProveItLink\" href=\"../../../../__pv_it/8c735c381b4cbf3c87e86ca2468da4e5c976f9b00/expr.ipynb\"><img src=\"data:image/png;base64,iVBORw0KGgoAAAANSUhEUgAAAC4AAAAVBAMAAADLKsFqAAAAMFBMVEX////u7u5mZmaYmJi6urqq\n",
       "qqp2dnbMzMwQEBBEREQyMjLc3NwiIiJUVFSIiIgAAAAeC3ydAAAAAXRSTlMAQObYZgAAAQlJREFU\n",
       "GNNjYCACsDyA0MwOIPLt/7t3z24AsWphCtTB5C8GBs5uEGMhTJwLRLB/Y2BgBWIGvgcwceYEEPcL\n",
       "kPEJyOAQgIkzNgAJzg8MDLxfgQwvhAumAjH/AgYG+QlAhhoQb3u79RHQuCQgsz6Bgf0QSNFioAEJ\n",
       "zIc5DjAwRAG576+lqYGd2cLAwMbA94G1gIHBA8idD7MOaD8jAy/IRIZ6IP7DgBAHOuoBVJz9E0y8\n",
       "FUTsL2AQAJvD9wUmPhnojw3vGfiA4lZA53+EiQMdF28wg2EfmCk0/y/M+z4MDJLPxPIMgMwlyMHM\n",
       "sQElHBhQQgsM2B6gxAs8nKVQ42svjHEbVZwbqp2vgAEAALg9cr1t3EsAAAAASUVORK5CYII=\n",
       "\" style=\"display:inline;vertical-align:middle;\" /></a></td></tr>\n",
       "<tr><td>7</td><td>ExprTuple</td><td>10</td><td><a class=\"ProveItLink\" href=\"../c5c1c48d27421fba0d71a28916bf6aee592d68e70/expr.ipynb\"><img src=\"data:image/png;base64,iVBORw0KGgoAAAANSUhEUgAAACYAAAAVBAMAAADY/YGeAAAAMFBMVEX////c3NwiIiJERESqqqqY\n",
       "mJh2dnZmZmYQEBDu7u4yMjJUVFTMzMyIiIi6uroAAAAs73DqAAAAAXRSTlMAQObYZgAAALlJREFU\n",
       "GNNjYMAG+C6gcFkfAInTaGpqgHglmhgXAwPvBTQx1gQGjgloYpwNDK8wLDVhKENwxG6LXAealM6w\n",
       "FKEpgVWVQ4GBwYuhj4GBXQkEEtgYeD+wHGBgeMHwD6qKZwMnA7cBiHUeSYyBgeMCRKwFSUz+AMME\n",
       "kF5TuBirwH0GXqBYFNBmKDjgH2DBIMsAcssjuFsmX5uWGwCk1zFwCGD6DehlVMB2ATOsZgGxNJrY\n",
       "RiBmRA1A3gMMAL/qKbgpCyHOAAAAAElFTkSuQmCC\n",
       "\" style=\"display:inline;vertical-align:middle;\" /></a></td></tr>\n",
       "<tr><td>8</td><td>Literal</td><td></td><td><a class=\"ProveItLink\" href=\"../../../boolean/__pv_it/8f1f7fac882de28c72b62ab80a1700b6d8fd066b0/expr.ipynb\"><img src=\"data:image/png;base64,iVBORw0KGgoAAAANSUhEUgAAAA4AAAAOBAMAAADtZjDiAAAAG1BMVEX///9EREQQEBAiIiJmZmbM\n",
       "zMyIiIjc3NwAAACryk5kAAAAAXRSTlMAQObYZgAAABlJREFUCNdjYGBgKGOAgBBa0s7GxkbGxoYA\n",
       "FMUF2aBfHgoAAAAASUVORK5CYII=\n",
       "\" style=\"display:inline;vertical-align:middle;\" /></a></td></tr>\n",
       "<tr><td>9</td><td>Variable</td><td></td><td><a class=\"ProveItLink\" href=\"../../../../__pv_it/6369c6c8083c513ca7161ace249642d040f9327d0/expr.ipynb\"><img src=\"data:image/png;base64,iVBORw0KGgoAAAANSUhEUgAAABAAAAAOBAMAAADUAYG5AAAAMFBMVEX////u7u5mZmaYmJi6urqq\n",
       "qqp2dnbMzMwQEBBEREQyMjLc3NwiIiJUVFSIiIgAAAAeC3ydAAAAAXRSTlMAQObYZgAAAGBJREFU\n",
       "CNdjYGB4+//u3bMbGIDgFwMDZzeQZv/GwMAKxAx8XxgYmD8BGZwfGBh4vwIZ/AsYGOQnABn1CQzs\n",
       "h0Ca3l9LUwPrni/AAAF/oDT7JygDZAwYcH6E0ELz/z4A0QBnpRnRyxnfJQAAAABJRU5ErkJggg==\n",
       "\" style=\"display:inline;vertical-align:middle;\" /></a></td></tr>\n",
       "<tr><td>10</td><td>Operation</td><td>operator:&nbsp;11<br>operand:&nbsp;12<br></td><td><a class=\"ProveItLink\" href=\"../5257302be1da79642d1552c1da1a429d5b167c980/expr.ipynb\"><img src=\"data:image/png;base64,iVBORw0KGgoAAAANSUhEUgAAABgAAAAJBAMAAADa0/H1AAAAKlBMVEX///9EREQQEBCYmJju7u6q\n",
       "qqqIiIjc3NxUVFTMzMx2dnYiIiJmZmYAAAB4JDwQAAAAAXRSTlMAQObYZgAAAE9JREFUCNdjYIAA\n",
       "9mXtYcegbAYvBmsDbYbTu4FgF8MChlyGSIj4DAYHhkaYohlArIbEYb/JwALjmLNdYEiBcDhZLzMq\n",
       "sCdA1bGILVmVzAAAZNoR2EzP5jQAAAAASUVORK5CYII=\n",
       "\" style=\"display:inline;vertical-align:middle;\" /></a></td></tr>\n",
       "<tr><td>11</td><td>Literal</td><td></td><td><a class=\"ProveItLink\" href=\"../../../boolean/negation/__pv_it/7bea79645543c2413aa17e787cca04e21046fde60/expr.ipynb\"><img src=\"data:image/png;base64,iVBORw0KGgoAAAANSUhEUgAAAAwAAAAGBAMAAAAFwGKyAAAAFVBMVEX///9UVFTMzMx2dnYiIiJm\n",
       "ZmYAAACWz4ZEAAAAAXRSTlMAQObYZgAAABRJREFUCNdjCHEBAmcGMFDEQzEBAEl+Ai6uYJv/AAAA\n",
       "AElFTkSuQmCC\n",
       "\" style=\"display:inline;vertical-align:middle;\" /></a></td></tr>\n",
       "<tr><td>12</td><td>Variable</td><td></td><td><a class=\"ProveItLink\" href=\"../../../../__pv_it/530be409e3083890784cf1d7b28c9e67e90af9360/expr.ipynb\"><img src=\"data:image/png;base64,iVBORw0KGgoAAAANSUhEUgAAAAsAAAAJBAMAAAAWSsseAAAAKlBMVEX///9ERETMzMwQEBAiIiKY\n",
       "mJju7u5mZmaqqqpUVFSIiIh2dnbc3NwAAAA/vyDhAAAAAXRSTlMAQObYZgAAAENJREFUCNdjYDi9\n",
       "8sTyBQxsG1hdmR0YuBm4LnAoMLAxcAowgADzAjB1VoEhgYH1wFoGrgSG3gBhhlMMDImrs3cFMAAA\n",
       "t0YN+iTRa+sAAAAASUVORK5CYII=\n",
       "\" style=\"display:inline;vertical-align:middle;\" /></a></td></tr>\n",
       "</table>\n"
      ],
      "text/plain": [
       "0. P -> [forall_{x | [not](x)} P(x)] | P(FALSE)\n",
       "   core type: Lambda\n",
       "   parameter: 9\n",
       "   body: 1\n",
       "   conditions: 2\\n1. forall_{x | [not](x)} P(x)\n",
       "   core type: Operation\n",
       "   operator: 3\n",
       "   operand: 4\n",
       "2. (P(FALSE))\n",
       "   core type: ExprTuple\n",
       "   sub-expressions: 5\n",
       "3. forall\n",
       "   core type: Literal\n",
       "   sub-expressions: \n",
       "4. x -> P(x) | [not](x)\n",
       "   core type: Lambda\n",
       "   parameter: 12\n",
       "   body: 6\n",
       "   conditions: 7\\n5. P(FALSE)\n",
       "   core type: Operation\n",
       "   operator: 9\n",
       "   operand: 8\n",
       "6. P(x)\n",
       "   core type: Operation\n",
       "   operator: 9\n",
       "   operand: 12\n",
       "7. ([not](x))\n",
       "   core type: ExprTuple\n",
       "   sub-expressions: 10\n",
       "8. FALSE\n",
       "   core type: Literal\n",
       "   sub-expressions: \n",
       "9. P\n",
       "   core type: Variable\n",
       "   sub-expressions: \n",
       "10. [not](x)\n",
       "    core type: Operation\n",
       "    operator: 11\n",
       "    operand: 12\n",
       "11. not\n",
       "    core type: Literal\n",
       "    sub-expressions: \n",
       "12. x\n",
       "    core type: Variable\n",
       "    sub-expressions: "
      ]
     },
     "execution_count": 4,
     "metadata": {},
     "output_type": "execute_result"
    }
   ],
   "source": [
    "# display the expression information\n",
    "expr.exprInfo()"
   ]
  },
  {
   "cell_type": "code",
   "execution_count": null,
   "metadata": {},
   "outputs": [],
   "source": []
  }
 ],
 "metadata": {
  "kernelspec": {
   "display_name": "Python 3",
   "language": "python",
   "name": "python3"
  }
 },
 "nbformat": 4,
 "nbformat_minor": 0
}
