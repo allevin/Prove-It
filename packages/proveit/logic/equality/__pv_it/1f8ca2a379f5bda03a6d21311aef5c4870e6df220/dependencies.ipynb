{
 "cells": [
  {
   "cell_type": "markdown",
   "metadata": {},
   "source": [
    "Theorem Dependencies\n",
    "=======================\n",
    "\n",
    "## <a class=\"ProveItLink\" href=\"../../_context_.ipynb\">proveit.logic.equality</a>.<a class=\"ProveItLink\" href=\"../../_theorems_.ipynb#lhsViaEquivalence\">lhsViaEquivalence</a> \n",
    "***see <a class=\"ProveItLink\" href=\"../../_proofs_/lhsViaEquivalence.ipynb\">proof</a>***"
   ]
  },
  {
   "cell_type": "code",
   "execution_count": 1,
   "metadata": {},
   "outputs": [],
   "source": [
    "from proveit.logic.equality._theorems_ import lhsViaEquivalence"
   ]
  },
  {
   "cell_type": "code",
   "execution_count": 2,
   "metadata": {},
   "outputs": [
    {
     "data": {
      "text/html": [
       "<h3>Axioms required (directly or indirectly) to prove lhsViaEquivalence</h3>"
      ],
      "text/plain": [
       "<IPython.core.display.HTML object>"
      ]
     },
     "metadata": {},
     "output_type": "display_data"
    },
    {
     "data": {
      "text/html": [
       "<dl>"
      ],
      "text/plain": [
       "<IPython.core.display.HTML object>"
      ]
     },
     "metadata": {},
     "output_type": "display_data"
    },
    {
     "data": {
      "text/html": [
       "<dt><a class=\"ProveItLink\" href=\"../../../boolean/_axioms_.ipynb#eqTrueElim\">proveit.logic.boolean.eqTrueElim</a></dt><dd><a class=\"ProveItLink\" href=\"../../../boolean/__pv_it/3e7bd867633eab3d515d0929d36506bc9b5772e10/expr.ipynb\"><img src=\"data:image/png;base64,iVBORw0KGgoAAAANSUhEUgAAAGgAAAAWBAMAAADeGsQjAAAAMFBMVEX///8QEBC6urrMzMxUVFRm\n",
       "ZmZERETc3NwyMjKqqqp2dnaIiIiYmJgiIiLu7u4AAAAU9Wx4AAAAAXRSTlMAQObYZgAAAUpJREFU\n",
       "OMtjeMBABrgAIk6ToIEZqGMliNFHgiaODwwMZUCaPYEETWf/ATUCPcU6gXg97FO/MzDwLC8vryXB\n",
       "Im7uT0DyW1raLRI06XH+AZLODAzpYG47mGSCe7gAmx4+BebfQEqFga8BxOX5BBZlg0mfV4AyWNPS\n",
       "xNKyoBwmBvavQIqXgfsAiPv0D4omvvgDCPMRoWvi4vIN5LMDvOBUse4qiiautwHYNAGtlwAZ2WAC\n",
       "jugNaSiarNkSsGjiBOKLIEa6E4hkYYhF0eTAeoHBowMINiBrqgTifhBjKjj5nWTYj6yJZwL3B0yb\n",
       "wEGWD/INI8gsvquhYA5M09vQsH8YmtgTfxQwHPvfCjIUpJi1gMHeAElTOAPzZ4YMDOehAh0GBv4D\n",
       "CE1MQPYfbKGHDJ58Y2D3vwPXxOefwFDy9wABTQjARk5Opp8mFiLUAADNR1FAr8G4iQAAAABJRU5E\n",
       "rkJggg==\n",
       "\" style=\"display:inline;vertical-align:middle;\" /></a></dd>"
      ],
      "text/plain": [
       "<IPython.core.display.HTML object>"
      ]
     },
     "metadata": {},
     "output_type": "display_data"
    },
    {
     "data": {
      "text/html": [
       "<dt><a class=\"ProveItLink\" href=\"../../../boolean/_axioms_.ipynb#eqTrueIntro\">proveit.logic.boolean.eqTrueIntro</a></dt><dd><a class=\"ProveItLink\" href=\"../../../boolean/__pv_it/d0cb838f1f1e44deadf0499da151f8dae5a0de4f0/expr.ipynb\"><img src=\"data:image/png;base64,iVBORw0KGgoAAAANSUhEUgAAAIwAAAAXBAMAAAArT7qNAAAAMFBMVEX///8QEBC6urrMzMxUVFRm\n",
       "ZmZERETc3NwyMjKqqqp2dnaIiIiYmJgiIiLu7u4AAAAU9Wx4AAAAAXRSTlMAQObYZgAAAaxJREFU\n",
       "OMtjYKAOeEBYCdMG/PI8CgwMF0CM03iVmUAoW3Rx1rtgkMAQzMCwEiTQh9cYqGw/FinmABDJwcBQ\n",
       "BqTYE/CZwg3xE8/9B7iM4VnAwAGUZJ2AzxhGiPbK+AJcxvAJMPAsLy+vxesnDQi1Yb8CLmMYMhkY\n",
       "vqWl3cJrTBQkuh7MP4DTmKUMDM4MDOlgdjtEOUxFO4zRAyYfMdiDw4i1AwwcUIyZwcCgwsDXAA6n\n",
       "T2ARNlhi+AQzRghMKjDUB+B0jSIDAy8DN9i1T/+gGAPlAgHYPGYXF/8EnMbYA+PzAC84KtZdRTEG\n",
       "yoUZA/QrYwM+Y/gawKmUeUMasjEwLhBIgghgkuAVQEm6aJ5iSHcCsVgYYpGNgXGBIAeUQIHGcHzA\n",
       "6ZoTQDwVnK1OMuxHNgbGhcQmwwuQzD98Ec7ACIpIvquh+Q8QxsC5QKALzDHy7Qw8+T8wo4p5AZhq\n",
       "AkUtSD1rAYO9AcIYOBdkTQGhkoRPAMbSYWDgP4AwBs6FZDwCgAtWID35xsDufwduDIJLuBiBhhwa\n",
       "YMMUKiFkjDtRxrATKES5DYgyhhzAQpYuAAUAaqwIkhhoAAAAAElFTkSuQmCC\n",
       "\" style=\"display:inline;vertical-align:middle;\" /></a></dd>"
      ],
      "text/plain": [
       "<IPython.core.display.HTML object>"
      ]
     },
     "metadata": {},
     "output_type": "display_data"
    },
    {
     "data": {
      "text/html": [
       "<dt><a class=\"ProveItLink\" href=\"../../_axioms_.ipynb#equalsTransitivity\">proveit.logic.equality.equalsTransitivity</a></dt><dd><a class=\"ProveItLink\" href=\"../15953cfebb497c481d8be77ed0e16c42a27f82610/expr.ipynb\"><img src=\"data:image/png;base64,iVBORw0KGgoAAAANSUhEUgAAANEAAAAXBAMAAABnpbd1AAAAMFBMVEX///8QEBC6urrMzMxUVFRm\n",
       "ZmZERETc3NwyMjKqqqp2dnaIiIiYmJgiIiLu7u4AAAAU9Wx4AAAAAXRSTlMAQObYZgAAAoBJREFU\n",
       "SMe9VUtoE1EUPZOZZvLrJLQLFVFScKFUMcVC3UglhQotSFYiFiGrVqyLQcQoogQRKihF0Lqwm8GN\n",
       "n0AIWAO2ooNQBD+QlYggRBeKuokIdtOF976Zya+daOHhgXDe3Jt55913PwP8N1TlbdXv73pBvwov\n",
       "XssQUg/6+7pSwANezMpQCnW6njxwlkjPylBa6uR85Zyk64YMpe2dnJ+A2L1c7qIMoUC+kzdIwfye\n",
       "nPwgQ6nLojQUDs1PtDv6evQSIhlgBJjyO+aGCsIGvuOtvY0fjl5lXOGlfurxESBMEe+A4Rd3cCNK\n",
       "ShKw8Bw32+wGjMN06ATQjagtQyme5DEwuo7nDDdbDaTTXZWlBGxdJwcZV8nID9KqkF6gNg6UobDs\n",
       "gdnzDaXIQv+IN2+yopZdEoPh/Ve3RRRm/RfdFuH4R8Y74bgj5Oj2MJWm3aqj/M8fcXOA7ellq6FU\n",
       "1LJbNE7wNaO0otIbghwLtN3HvAugHLyM1vCsLaSwBY2aiWthrsJVdp2tl/agLNzfmm4vGfLyqH+u\n",
       "RLN1chPudT3VcXg1mKCKbsX+5TeXhZfCFr4VYR7DuNgy2ZynuOm9pVlaqUECp+vpqMCYLj582p6m\n",
       "TOwnHSbEO8Y4M2pCZXMPepn2YahJaQCpoHNXSlJJiYJWPIuaUr1zbPrLNHIwHMlHcM5Eb6BGpI7t\n",
       "ytaV1Np9WF7PpPZCnxHkYvDu7aYh6o+Ct/jyZKKIYRu3ynmiaGCzWVcypucWvTYIj5+AuirIRalv\n",
       "5l++Gu3DwdZNToDt2085TmPMoTXQO3wJNbP1o2kGrZ1MvkoneWAPObQWF/yVHrU+xhBesph8leYX\n",
       "OXKHpEKTudkfgDCcYn7TElEAAAAASUVORK5CYII=\n",
       "\" style=\"display:inline;vertical-align:middle;\" /></a></dd>"
      ],
      "text/plain": [
       "<IPython.core.display.HTML object>"
      ]
     },
     "metadata": {},
     "output_type": "display_data"
    },
    {
     "data": {
      "text/html": [
       "<dt><a class=\"ProveItLink\" href=\"../../_axioms_.ipynb#substitution\">proveit.logic.equality.substitution</a></dt><dd><a class=\"ProveItLink\" href=\"../8d36a51e21a3e1f2d1a576f0cfdfe721d403af1e0/expr.ipynb\"><img src=\"data:image/png;base64,iVBORw0KGgoAAAANSUhEUgAAAO8AAAAXBAMAAAARnwX+AAAAMFBMVEX///8QEBC6urrMzMxUVFRm\n",
       "ZmZERETc3NwyMjKqqqp2dnaIiIiYmJgiIiLu7u4AAAAU9Wx4AAAAAXRSTlMAQObYZgAAAvdJREFU\n",
       "SMfFVj1oFEEUfvef293bHKayECJYpIk5wcYqRyRGTBPUQgyiNonCgVuI8QfNIggWEq5QsLttDglB\n",
       "OTAemhRZJIVoc7UorE0QLXIYMIUiznszO7O3uznJQfDBm/123jfzZt+99+YA/pd4vS5MNqLYGPw3\n",
       "/63QFr586MHxURzMyQmJUc7EEEOcTInrIr4s9OCY1mQXf3es74shhjk21xvskbu0e786RW7zcFVi\n",
       "irUTZYY577n2sR85U9294wQlRy2AKazFKDPM+cLVeDY3d7eHSA/ReCGASa5GmWFOtsr158zMxx4c\n",
       "n8dh/cC4j28v33rFolmPEBXHrDsw74E2BaTHAWYxSOON6O5dquMRjb98bDrGpwSrkKeUuA9JytDJ\n",
       "0ZJtWAPI21wPgYl5llmZiu7eJen24ZDb8rEGejvPiuRghKg4xzItmGEFXeRaAN1lhkLc13Vx/AOH\n",
       "fNvHJqSJPBohKo6XaODnp9pcdbeACdfv9eBYaymcaMQ7DnBqXmpLOTZt7CnGtWk0L40ts3glmyL7\n",
       "uWM+SW2vKctiPyVoWeH5ErZfCnXmMwlfHeCcA72oQg2zY2h4R6fzTiRYon/vt46oL6bJk5gtDWkA\n",
       "qKivRGxYa6B7YpvOgpcceECnMGyu8IRiQXWQ5Ml6bxiayrGY7DAI/uagj2vuZbgDceWkOHAWRlyQ\n",
       "5SSOVOG0bRpPwWTwN96Wu/gGgGEcRjwfb6x8W8IcvR9xrDiwsXrRYr1ykCsYniwPSBVT/GUg4Bgn\n",
       "r1CopYEdl20BrwN4p5bZwXmuWqa/4g/ATWtUszX2gIFkWzmmSSG+ga4Do1wJXw1auAsFOemWiSm2\n",
       "JBTEVzEP7sab6RfsAY+btnJMk0J8A11ziYVW8IpE+RpJrQCn4GQdoHZl2upk+Gu7HLs5K92IrWNp\n",
       "YHIdjLolsZCJsOMgJ796mj3TFldxga+zSk3x15SVdYbiG4g04CECUfWxXtq54/icl0LF/xEMuiEO\n",
       "yY7mxDuWhr2W8t5t/RfNBeNeS11EOAAAAABJRU5ErkJggg==\n",
       "\" style=\"display:inline;vertical-align:middle;\" /></a></dd>"
      ],
      "text/plain": [
       "<IPython.core.display.HTML object>"
      ]
     },
     "metadata": {},
     "output_type": "display_data"
    },
    {
     "data": {
      "text/html": [
       "</dl>"
      ],
      "text/plain": [
       "<IPython.core.display.HTML object>"
      ]
     },
     "metadata": {},
     "output_type": "display_data"
    },
    {
     "data": {
      "text/html": [
       "<h3>Theorems that depend directly on lhsViaEquivalence</h3>"
      ],
      "text/plain": [
       "<IPython.core.display.HTML object>"
      ]
     },
     "metadata": {},
     "output_type": "display_data"
    },
    {
     "data": {
      "text/html": [
       "<dl>"
      ],
      "text/plain": [
       "<IPython.core.display.HTML object>"
      ]
     },
     "metadata": {},
     "output_type": "display_data"
    },
    {
     "data": {
      "text/html": [
       "<dt><a class=\"ProveItLink\" href=\"../../_proofs_/equalsReversal.ipynb\">proveit.logic.equality.equalsReversal</a></dt><dd><a class=\"ProveItLink\" href=\"../28002146d7bbb3d303591384d88b2e1175a218f20/expr.ipynb\"><img src=\"data:image/png;base64,iVBORw0KGgoAAAANSUhEUgAAAKEAAAAXBAMAAACR7DLtAAAAMFBMVEX///8QEBC6urrMzMxUVFRm\n",
       "ZmZERETc3NwyMjKqqqp2dnaIiIiYmJgiIiLu7u4AAAAU9Wx4AAAAAXRSTlMAQObYZgAAAhhJREFU\n",
       "OMutVD1IHEEU/m5Xb72/9YhVkEAKCxuJgfR3KBiJBCxFObAIKtFiC4lpErZIkSIEQa1sthGJB7KS\n",
       "eCCKLmkCkcBVKQThbCxMIwl4jYjvzd7uuevtwhx58JiZ9837ePN+BvjvUpP2UOxo7DtplTfHMozP\n",
       "YrDOQeALbz7LMMZeNoE3tGjTEoQZOw79CXRRIjuXJRgTsZk/A7KbS0vvZB7dH4smKbirmZkTGcZJ\n",
       "0otJaDdBs1Z+vj4FpMeBYWD2ntvjaMZPpNYTZC5pnfjI8oHNF/jlPAJSVJo+6OY9t5hSPQDU5RKS\n",
       "oSsWjrBCzZoHcsg4Mox/AR296LbDkzLCi0qhZ5xcTZIRqRsUBsNAr8eomzwE5aFvdEWpNJrDZXSN\n",
       "YvIqftc85NEwscP70inLb7c0/yh28WrMDlGJaiMJqvufbuNpM0ZhHOXc2z4ALJB2jeNVKMIfVKpD\n",
       "akauyRqNtiJKiPcDqDQZG8YAAGxwjEXlOkiYuk7mNdvtHiREjusCeIGxu3ms+x4eAAyQ6vO79SCj\n",
       "Pr+9dcDRc99lOUFqXnVbo+cOIxvnxKt9gAIwREaqkVPoSiFtpvHWQI9y2WQUxoZ4AAVgAS9xFvEV\n",
       "lL3N+d7UNgoOVitmk1EYG+IB7m92gtetCcPD4mhGh92yH32AZBFY340Y0w4jcFSNpNXfusN9gNlj\n",
       "PsivwWMWqX2rNaMPtC3F9l1vAaqximPRgqa5AAAAAElFTkSuQmCC\n",
       "\" style=\"display:inline;vertical-align:middle;\" /></a></dd>"
      ],
      "text/plain": [
       "<IPython.core.display.HTML object>"
      ]
     },
     "metadata": {},
     "output_type": "display_data"
    },
    {
     "data": {
      "text/html": [
       "<dt><a class=\"ProveItLink\" href=\"../../_proofs_/foldNotEquals.ipynb\">proveit.logic.equality.foldNotEquals</a></dt><dd><a class=\"ProveItLink\" href=\"../40f17a21e536dd79e090d454cc9966420e03bacb0/expr.ipynb\"><img src=\"data:image/png;base64,iVBORw0KGgoAAAANSUhEUgAAALkAAAAXCAMAAABgZR7wAAAAPFBMVEX///8LCwsYGBgNDQ0oKCgQ\n",
       "EBC6urrMzMxUVFRmZmZERETc3NwyMjKqqqp2dnaIiIiYmJgiIiLu7u4AAACwKje0AAAAAXRSTlMA\n",
       "QObYZgAAAnhJREFUWMPVV9my5CAIdRb3BZf//9cRE20Tjcntmepb40OqYgQOBwRCyH+74rdaZ7D+\n",
       "7vRs1zN8htc7fBw4F+vv2sz3JUevbH01n6f/zqRgV4Lolqr+qY8DB3iP8pwfrvNb2o8jp+9STiIt\n",
       "8HVZ4fPX09zcgkUWKOQ5KVzB/QUGzW+PTCIqd5PagdAW5Dl31EFrdOW8TiVQTmJMygGlH5B0BfyB\n",
       "13w8Y/wOKQc+eEJr1KUp6/cvfLbq4whLeDfSRgTGi+HHaB5Qq764fyzNg9+U7ZA2PJavKOeWSHRN\n",
       "bcYYrSUd/PvI7aNGMHKTWOuFYlTNxLljUrSTNmO8UI+oQ3wf+ZNEa1k5Ii/0j86bs1aLGc4T75Bn\n",
       "Nmozy3eFQTXBQB1L1wVyOpF9tfemY6jetN1aXfBUQzLk9fNHKOtlU2LQYDe2ZUsmba+cLmLcdo0R\n",
       "SNKE0zvOuTnKClMXHHSwc6tXW4Z6vV07iEvKicFyonYlfjNqZWjFw7SE15HlbVBT5E5tyzREB9mZ\n",
       "Dn5O9FLZchJ4orJrGhZZXjjPWyz5XvaQZqnzVeRrL2DJed6yYiY76hiQs8JXVOCic6cSMVKOB0FW\n",
       "E2a/I74FCgPL+7JF+R1ypo6yqsuWXgcbxOnl1bbyorSGrvv3GZuIM6XA6uJztsgSuUMew1H2hK7p\n",
       "8G46N03XpNSJgIBtrQZDPKzMsUMcGDwrQJk1cl7NvGRP7DUdkj2ecmeU43ii3FVv6PnIxOtjml9V\n",
       "RVhMmZ2OiTUtHlOe+x0038Wig3BdPDyOcxfI42qmazqmnVbDlwakShVfU45eukfzib0eHV46xHf+\n",
       "714a9/dTrvvX/4p/AKhQG9K7cHihAAAAAElFTkSuQmCC\n",
       "\" style=\"display:inline;vertical-align:middle;\" /></a></dd>"
      ],
      "text/plain": [
       "<IPython.core.display.HTML object>"
      ]
     },
     "metadata": {},
     "output_type": "display_data"
    },
    {
     "data": {
      "text/html": [
       "<dt><a class=\"ProveItLink\" href=\"../../../set_theory/membership/_proofs_/foldNotInSet.ipynb\">proveit.logic.set_theory.membership.foldNotInSet</a></dt><dd><a class=\"ProveItLink\" href=\"../../../set_theory/membership/__pv_it/cc89d3a349f1988024d3af48d40aff2abaeba1330/expr.ipynb\"><img src=\"data:image/png;base64,iVBORw0KGgoAAAANSUhEUgAAALwAAAAXCAMAAACGTNW0AAAAQlBMVEX///9bW1sNDQ0JCQkdHR0P\n",
       "Dw8WFhYQEBC6urrMzMxUVFRmZmZERETc3NwyMjKqqqp2dnaIiIiYmJgiIiLu7u4AAAAq2h4+AAAA\n",
       "AXRSTlMAQObYZgAAArVJREFUWMPNV4mS5CAIzZ7eF+L//+qqicaQmHTXbk2vVTMdD/ABD9Rl+a8b\n",
       "x9tp/DC6cDsdZ/CA1+m9H74eu5DvTYNUSmFBrkTuetcm7AeC8LCn4mQ5FK7oVL/zn9HbRP/4whYe\n",
       "gh2PXenrj7M1CH4wXrmvB8/mjsdg4+9f0Q5DJomVTNVkZNUCU1v8QLbaOdst4KLNcXla/StWG3Tp\n",
       "JV1a9H8Dw4jnNefIqran8UEaF1RnkdE5JkhsMymFYR+vCpPqALGyOUB5H6BL8Bn2G8u7CnFaVPOv\n",
       "MCDPQISF9ehXNKeMCCm3DrRSn5d6hJcR5KpGq/dnOX2T64MKT21n24CvwDKc5iXU16XIgGSpJQpn\n",
       "LacDzLNdP4F04ZxuuR4DUXFyUOL7QSlH3ZzFGH/+yP/OPvVpgyqqRwrwy6MMUx2FJ/AnygXNDSJS\n",
       "FVJcg69RCPRw8iRJGseO4LNH2lGWE4eHfY/IjqGegGdEGNQQvEEFJTFzpAw2D2I8F3lUbaUZaZM9\n",
       "J9cNPJbw7TpRsZTcE3hhibA97Lmr4OS015sPwVTKL6GHX8KaLCM3N62qKYF1wKnYq4kl5DeSXYL3\n",
       "em22Y+rCtKx0FYIw2K/4XCaCzkvMHhiMnHJMxbAykkiPhEs7f5GvHLv1fB5y8igs4mpXoCooeB63\n",
       "2hI8lno6Gmy/E/AyO0lKvS+yGx2hx0tkDzQpV6Mt9BN4ro/CuLPjqIJTeWamJRa+SXtZbbprGSFv\n",
       "WrytZdfYrFZpWkquwdf0GoQX2UWOKoAeUzA/3LR5OLA9yf4cP6dyCAsSKFfmXKyVua82oj0ZduH8\n",
       "2QrMUYXiL1+JH++4aG8m4Y2TNJyuLX7jPIF6xjh7jFwfmmMK3ERGmDfA42tPAXdxezfh7QvHapx4\n",
       "1/FTlQ5eAS8/+1yebg8vXIn9P39m/gECKiPG9Qg3JQAAAABJRU5ErkJggg==\n",
       "\" style=\"display:inline;vertical-align:middle;\" /></a></dd>"
      ],
      "text/plain": [
       "<IPython.core.display.HTML object>"
      ]
     },
     "metadata": {},
     "output_type": "display_data"
    },
    {
     "data": {
      "text/html": [
       "<dt><a class=\"ProveItLink\" href=\"../../../../number/sets/integer/_proofs_/successiveNats.ipynb\">proveit.number.sets.integer.successiveNats</a></dt><dd><a class=\"ProveItLink\" href=\"../../../../number/sets/integer/__pv_it/693be06eb794fa495f778b07725d082d9ef710cf0/expr.ipynb\"><img src=\"data:image/png;base64,iVBORw0KGgoAAAANSUhEUgAAAK4AAAAVBAMAAAAtL8hrAAAAMFBMVEX///8QEBC6urrMzMxUVFRm\n",
       "ZmZERETc3NwyMjKqqqp2dnaIiIiYmJgiIiLu7u4AAAAU9Wx4AAAAAXRSTlMAQObYZgAAApNJREFU\n",
       "OMu1lU1oE0EUx//Zj8RskkmgoJ5kix6EHNyiiOjBYIUKglRLQbRI8JAiQsmpFaI1Ckou/QAVBC97\n",
       "qBXxEtFDxctiUDQVLQoFheAKpQRspSiIp+LMzmyziTvqxQf/3bdvZn95M/PeBvhP5v5xNCsUbs8k\n",
       "8aQJLDBnXjJBzXGF2QigW+0hMlWYhP7pAwaA+ywwKeFucrlCbHmdXsodwaizF0jTd4BR+hjLS7hP\n",
       "hQIpFfl96TDj1jvma+8TVUToRtheOvq0hLtNqGXxqnASjPtZ/Nhco+Glru10exmXZJC8NzZ2SYJV\n",
       "ylxSbpQntO+Nn+/uXNOlXJwDfhQKHyVc3ebKDpce22Fco5+5sZGNfbDuqHnGvQv0AsOyY3O47CNV\n",
       "8j2MG/cWEy22uLo5z7i3gR0gwaWq107g4RnuR0xPirkI8i2Mq2S80midm4VjWg91uoEUEo4f/zI4\n",
       "hBeGa4jSSpueCIXG18O46hpzuxsN/9wsLJEr1DlIJzgpv0ITZ8e/4nW1v4PLoBp7T69UJrZWKrkO\n",
       "7p5gvqrdw7mkTOPJ09kZ4Dkbq90o+dzINJdeRtpxpfuwGuTiVZTvA4YPASu7nJTF26dmrOx3/fbh\n",
       "ith469oh3CRfvRPkGqzTXlLdop+I8Tmki6r3ag32jOCyMmK6bGI2bknrjLzb6GO6aTjJ6wwRNvUo\n",
       "TV1dLBTOU+7FVcFVFrjoqkaftJ+bfvznEC1C03u4MCDmT22m1ybVVbYYRunCoEJyPF/lgH+QW4RC\n",
       "+s0z0ce4OdFoa0uSEU5sDV3b0ce5qPvc+m/fFqWN+0DSUIY/S8njlINluizlugntH76TXlplyUCz\n",
       "43mW7m/QYjkuiWlFyUDf3/6lSkLh9kgST1j4BcjZtiuI3JifAAAAAElFTkSuQmCC\n",
       "\" style=\"display:inline;vertical-align:middle;\" /></a></dd>"
      ],
      "text/plain": [
       "<IPython.core.display.HTML object>"
      ]
     },
     "metadata": {},
     "output_type": "display_data"
    },
    {
     "data": {
      "text/html": [
       "<dt><a class=\"ProveItLink\" href=\"../../../../number/sets/integer/_proofs_/zeroInNats.ipynb\">proveit.number.sets.integer.zeroInNats</a></dt><dd><a class=\"ProveItLink\" href=\"../../../../number/sets/integer/__pv_it/96963c4a116b4edbad2dd70262237f9296baf3120/expr.ipynb\"><img src=\"data:image/png;base64,iVBORw0KGgoAAAANSUhEUgAAADMAAAAPBAMAAAC7N+rPAAAAMFBMVEX///9EREQQEBCYmJh2dnaq\n",
       "qqrc3NxUVFQyMjK6uroiIiLMzMyIiIhmZmbu7u4AAADSWfX9AAAAAXRSTlMAQObYZgAAANxJREFU\n",
       "GNNjYHh75jYDCnjxUeIBw61fAQwMKxlebUCVE+YWYGD4wMDAs4CBpwFVqmrDGQYGBQYGrgIGzm9g\n",
       "kTddq1aAGZV97BtAUvwXGLi/ggS4mx9AdVVv5+sDSeU7MHD/AQkkwmQYqlkPbIRJfQEJiMHtqma4\n",
       "yXwASYpPAEmK/UE1koGcWqtWQZ1RzcBX8ALqjM8gVxQg6WLYwg1xPCvI8XwLkKWYAwTAXmYBixYj\n",
       "SzG4gaxeyvAIHFCvJsCkJIGYFxRCb32qwQJsvdCgnPEJqIMPJfBYK6AuhAIAynxBe6QeIUQAAAAA\n",
       "SUVORK5CYII=\n",
       "\" style=\"display:inline;vertical-align:middle;\" /></a></dd>"
      ],
      "text/plain": [
       "<IPython.core.display.HTML object>"
      ]
     },
     "metadata": {},
     "output_type": "display_data"
    },
    {
     "data": {
      "text/html": [
       "</dl>"
      ],
      "text/plain": [
       "<IPython.core.display.HTML object>"
      ]
     },
     "metadata": {},
     "output_type": "display_data"
    }
   ],
   "source": [
    "%dependencies lhsViaEquivalence"
   ]
  }
 ],
 "metadata": {
  "kernelspec": {
   "display_name": "Python 3",
   "language": "python",
   "name": "python3"
  }
 },
 "nbformat": 4,
 "nbformat_minor": 0
}
