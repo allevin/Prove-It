{
 "cells": [
  {
   "cell_type": "markdown",
   "metadata": {},
   "source": [
    "Theorem <a class=\"ProveItLink\" href=\"../../_theorems_.ipynb#lhsViaEquivalence\">lhsViaEquivalence</a> of type <a class=\"ProveItLink\" href=\"../../../../../../doc/html/api/proveit.logic.Forall.html\">Forall</a>\n",
    "=======================\n",
    "# from context <a class=\"ProveItLink\" href=\"../../_context_.ipynb\">proveit.logic.equality</a>\n",
    "*** see <a class=\"ProveItLink\" href=\"dependencies.ipynb\">dependencies</a> ***"
   ]
  },
  {
   "cell_type": "code",
   "execution_count": 1,
   "metadata": {},
   "outputs": [],
   "source": [
    "# import the special expression\n",
    "from proveit.logic.equality._theorems_ import lhsViaEquivalence"
   ]
  },
  {
   "cell_type": "code",
   "execution_count": 2,
   "metadata": {},
   "outputs": [
    {
     "name": "stdout",
     "output_type": "stream",
     "text": [
      "Passed sanity check: built 'lhsViaEquivalence' is the same as the stored Expression.\n"
     ]
    }
   ],
   "source": [
    "# check that the built expression is the same as the stored expression\n",
    "%check_expr lhsViaEquivalence"
   ]
  },
  {
   "cell_type": "code",
   "execution_count": 3,
   "metadata": {},
   "outputs": [
    {
     "data": {
      "text/html": [
       "<table><tr><th>&nbsp;</th><th>core type</th><th>sub-expressions</th><th>expression</th></tr>\n",
       "<tr><td>0</td><td>Operation</td><td>operator:&nbsp;3<br>operand:&nbsp;1<br></td><td><a class=\"ProveItLink\" href=\"expr.ipynb\"><img src=\"data:image/png;base64,iVBORw0KGgoAAAANSUhEUgAAAIwAAAAWBAMAAADgE2koAAAAMFBMVEX///8QEBC6urrMzMxUVFRm\n",
       "ZmZERETc3NwyMjKqqqp2dnaIiIiYmJgiIiLu7u4AAAAU9Wx4AAAAAXRSTlMAQObYZgAAAd9JREFU\n",
       "OMutVD0sg1EUPfX1h/a1xGITg10HCYmhQoMYRIJFDJYyVhcGkbQTicTPQIwGgiYSEgaTmkV0IBIx\n",
       "1GCuoEX93vf93a/VgdZN3vfuOe98J+/d94MU/iWS8nNa+v8HX8HgxQR2ZL5QxjxeAGcdJilzjZbu\n",
       "ouSAqhwqqTiOpdJtPA+AyEBsTU3NlLEm5z1gfwWyY2PXZdhUR4E0FaUTGKflhYcGqYPvcLNbHa7Q\n",
       "VCZezQx1TRj/miwQWIdySX0jfGSIE2CXulY/IqraqalMLGrgTho2Jgsc98aHZeqFJ0FdEDhPQamj\n",
       "go+yDWN7O8SnsTsmC4T18+tJeGV2A/QAt+Qo7tmGsTcBe1S3YRb4MNYZbZbfR4grYB/5NozTfpwZ\n",
       "tWEWSsZY6HiHrGguPkLdBTVHkm0YN8U3aT5zFPMWVj02WqxIwq1N+I2abZ1tGG9bNplZOI16wbYn\n",
       "Yb+av1NbTrEN45DFhtm78NOeTgpJVGv3IeQ68tWCbRi/qqS2KGYLI0Dlc80i0la11mCx0TANKM8W\n",
       "MasKwr04QFV/h6tno0+x2GiYBrYzflazqmgIuWX90xYbHYtCpaEqGi3yIGTr82xU3PLjldFVRUNe\n",
       "CsSW8mxUnPghjf3yibL/6bn4BqN6kIG1YFUsAAAAAElFTkSuQmCC\n",
       "\" style=\"display:inline;vertical-align:middle;\" /></a></td></tr>\n",
       "<tr><td>1</td><td>Lambda</td><td>parameter:&nbsp;9<br>body:&nbsp;2<br></td><td><a class=\"ProveItLink\" href=\"../ae2ee5b310325ed7777725011b8002d857b3fe630/expr.ipynb\"><img src=\"data:image/png;base64,iVBORw0KGgoAAAANSUhEUgAAALoAAAAZCAMAAACxWMSDAAAANlBMVEX///8UFBQNDQ3u7u5mZmaY\n",
       "mJi6urqqqqp2dnbMzMwQEBBEREQyMjLc3NwiIiJUVFSIiIgAAABiXWJGAAAAAXRSTlMAQObYZgAA\n",
       "AiRJREFUWMPlmNuSpCAMhtnlfCbv/7IjAo5ImHac0d6q5cbq/kP4hCSAhFxoNoTgyRubWADUpZ6B\n",
       "vL/5+F+i038CPUWAuLQQ/Xn0z6nn6QnWA+Q26+BK/hl/Gl3J9tM9tAAdZEPXUPJVgjqN7m1bOvsM\n",
       "eQ/Z0BOIsvTAzqdpm2wmn0HvIRu6hfKMIM+jc+XX9lS96SEbeo0iCtvau66XlFhxBJvbxb3hcqhX\n",
       "yIpeo0gHNivdkSLoUa+TUTObJqbYvkSJzsMgSwuMsWiRwjDYIpCtOEJUSjHlp7sO7RxVUeTetK6P\n",
       "dvlF/K5Eddk7yoSbtVCN8YbYjpAV3cJQ3v7+CV0zIMb3ys/Ey3B1IGZRdEQmMZakO46N2Y6QFR3C\n",
       "y70+CkTM2GF1SA2vUwkYOiaTsP4X3TFaMNsRsqBrpCQe0JnHxCVYdA05Q75Cx2QKOSz4cATFbBHI\n",
       "gp5AvEDXCRetr6sR2rbMAoaOyQJy6NaZby3htghkQUdCnfSsdPJesrmHZm8Uho7Jyk1qIGKLQC7o\n",
       "lNnlWPO9A9TndJjaEWp8SkNRdEyebNyYLQL54/M6pxuHT3JJsd2q7tAxebdx233AYLZ3XjW8WdJB\n",
       "Srcfzk5k7/yadpNDKubq1luSj07FZc/VKHon6xwSygHTM6jB1e0XPJGXGkfvZf763ty7uh1dg92l\n",
       "1oC+yfr1febg6v5rtTOSzNE3mZ8Yonf1i+invsNc8336O0z8AOC6HPmb6Y9kAAAAAElFTkSuQmCC\n",
       "\" style=\"display:inline;vertical-align:middle;\" /></a></td></tr>\n",
       "<tr><td>2</td><td>Operation</td><td>operator:&nbsp;3<br>operand:&nbsp;4<br></td><td><a class=\"ProveItLink\" href=\"../2a87bf9c38bd0c6c0b4b84c75839f8338b05f8750/expr.ipynb\"><img src=\"data:image/png;base64,iVBORw0KGgoAAAANSUhEUgAAAHwAAAAWBAMAAADwX+WxAAAAMFBMVEX///8QEBC6urrMzMxUVFRm\n",
       "ZmZERETc3NwyMjKqqqp2dnaIiIiYmJgiIiLu7u4AAAAU9Wx4AAAAAXRSTlMAQObYZgAAAd1JREFU\n",
       "OMullD0sQ1EYht/2tL2qtz9hECJiYFaJhMRQoUEMYsAgkTBg1CbCIJKWgZAIA2HrQPxMlTCYdBfR\n",
       "gcVUg8mgEbeo3++e29tzUZHWl5x73/ue85xzvvNzkcC/Iq4+TvPnDj/8/osA9lS9XMC4T4CtDJOk\n",
       "pKH8aZYG7GkUUfLWlfxxxz0gK5B3pqZmCpi7LQlYnoHU6OhVAbg7BNxR0m3AGH3eDvQGVNus1bqO\n",
       "tju4WFf62gM6k3UBXwTskt41cFFHbA5SGZ+UVtvkRZBTsgfFcR3PusBJ1/6AKp1wxIB6kv0CZ9SV\n",
       "le+HpQXyu77aWRcYz5w3R8yZgKuS1LnAr6lHOakqZwyWUAYXLvCm5xNqoD48X/ED6A3vvDjTcxcu\n",
       "mKInNNZKY7SQGBT4BRUrT7luf5vGX6BYMrh827VYI8MdJVEh8Bcqpoiqdg2bJVzY9PWAiVA3ZWWv\n",
       "EvgrlVW+OCMGXLg34w/RjCmTYeuZXrmuFviIdOwq4eqZm9rkhfstpNLo5iwEHmy2b1RDmgd7NLTS\n",
       "3FwxsehPeAUudW51M7BX7CpewyDczR21UtRw6mDumaa8vjfibs7wDSeMOEvRSjb+uOWpql/wonIY\n",
       "cYTpJxD70Sr8x6/Bkte1/QSsmH2c4RsljAAAAABJRU5ErkJggg==\n",
       "\" style=\"display:inline;vertical-align:middle;\" /></a></td></tr>\n",
       "<tr><td>3</td><td>Literal</td><td></td><td><a class=\"ProveItLink\" href=\"../../../boolean/quantification/universal/__pv_it/265f8c02ac1094d56e0e6410a1c1fd3500dc9f540/expr.ipynb\"><img src=\"data:image/png;base64,iVBORw0KGgoAAAANSUhEUgAAAAwAAAAQBAMAAADQT4M0AAAAMFBMVEX///8QEBC6urrMzMxUVFRm\n",
       "ZmZERETc3NwyMjKqqqp2dnaIiIiYmJgiIiLu7u4AAAAU9Wx4AAAAAXRSTlMAQObYZgAAAFhJREFU\n",
       "CNdjeMAABhdAxGmGlSCqj6EMSLInMHAAJVknMPAsLy+vBYp8S0u7BaScGRjSgZQKA18DkOJl4D4A\n",
       "pLgP8IJM4mswARuX7gSmpoKNZWDcAKZ4gCoAgTQTILaSE58AAAAASUVORK5CYII=\n",
       "\" style=\"display:inline;vertical-align:middle;\" /></a></td></tr>\n",
       "<tr><td>4</td><td>Lambda</td><td>parameter:&nbsp;10<br>body:&nbsp;9<br>conditions:&nbsp;5<br></td><td><a class=\"ProveItLink\" href=\"../af8a8aee7215f14f85c598f6d6a680d60443b7210/expr.ipynb\"><img src=\"data:image/png;base64,iVBORw0KGgoAAAANSUhEUgAAAKoAAAAVCAMAAADhNIUQAAAANlBMVEX///8UFBQNDQ2YmJiqqqq6\n",
       "uroQEBBERETu7u4iIiLMzMwyMjKIiIhUVFRmZmZ2dnbc3NwAAACuhPXhAAAAAXRSTlMAQObYZgAA\n",
       "AadJREFUSMfVl9lygzAMRd0C3jf9/88WShpkRTKeQDtTvZhJuMcXWxZCqbtiruq/RFn+ZJpacikp\n",
       "jt4eE0Baw6XasSpBWfWotRL8NiRnR81C+B6MrqLVDpRRi3vVUGwwj991GnTqoez5+RhfrfagnJoP\n",
       "Sgnu558Mg8saYfc1QRas9qCcmg9CyeCfs8Hg0TCwjwlm3moXyqnZIJQK5pjt0Ia2EM1sslmkbawK\n",
       "0I6aPVGEkmFCj/t8CteqkmWSzbssFCsBKqpzQJEkikOpBFoJVm1TWCKkUtYiUqW6KkA7ai4oBZHw\n",
       "ifz8cE1onHGGO37YqgDtqNmKSChwrF/QVlpVlfDZAHfythKgHTVrlVACHM5RUhFcrk2y5ROrAlRU\n",
       "Z7yBRqLMWxWI0Suv8cK1Vn3k6qJs9QVqz9RsA0Qpxdk1D8psmjRvX912INmaukqgFu3lcKoy1pYU\n",
       "SnRb8fMDcpvN2m3Es86qhVoNta/mg7Vm1uvJqwvBNIEIurzfzVJrJqsl3N2vIuj0PphaW3tIWO62\n",
       "iqAXrFJrXutJ3W31gMYL4OvWXhrD3/5g+QI0FxlfXT0DVQAAAABJRU5ErkJggg==\n",
       "\" style=\"display:inline;vertical-align:middle;\" /></a></td></tr>\n",
       "<tr><td>5</td><td>ExprTuple</td><td>10, 6</td><td><a class=\"ProveItLink\" href=\"../5301a04f727dc2dc78b20eaddad10726d96fe3c20/expr.ipynb\"><img src=\"data:image/png;base64,iVBORw0KGgoAAAANSUhEUgAAAGEAAAAVBAMAAACkm51HAAAAMFBMVEX////c3NwiIiJERESqqqqY\n",
       "mJh2dnZmZmYQEBDu7u4yMjJUVFTMzMyIiIi6uroAAAAs73DqAAAAAXRSTlMAQObYZgAAAcxJREFU\n",
       "OMuVU88vA1EQ/mp1+2tVTy4iBJee1EE4SDTxB9TJSSgRTYhoSHpw4UBCJPQk4tQQ4leCHknTjZPE\n",
       "gTgTG0cuokirTWvmdVdi21Q6yZt9szPfvHkz3wOqF/ddFcHDrG5YNUSmDGBdMnsZPy+JtYQmEoBN\n",
       "pe0hLfkEiEd1X30M6PGYEZMqXF6AfHWU27FLv+xnuu82CASCJsC2j9QaMEiBlNrZQqYtozufNGAk\n",
       "bELssFqIYgt44R1XJ+d1Zx+tpP8vwJZjPaNB8iNCl0qxKX/o3m8qM2U6otknEH7IYexRgk82pVzR\n",
       "qXwBV6Ko+SOWY1HPgDhdRW0M60CNuEH9ot7d7ERo1NypDtHINE1vEXkj1miPlCkzuTSrWjpdeRMI\n",
       "bhUO9HkULZO8s3KuCsQS7d44Qc4Yx29jZ1tZ2nh7KqpQRVVdFJy3PKrXNIWoMY4SCWhNDwpdGdYY\n",
       "QvQZ28R4J/VUnN0XLYOQvUG5n5lD3X1m+l5Mt0OBY8MDx1whUY60r/v3flBVTg32Iud6MURITwWi\n",
       "S6qVEMQSa7Gp3W5ipbXS05DCTKhpne1EpIL2D8JVoEE4KC8ahX29TKria1RWiCkurttSzat9AH4A\n",
       "nxN3Rz3Rb+oAAAAASUVORK5CYII=\n",
       "\" style=\"display:inline;vertical-align:middle;\" /></a></td></tr>\n",
       "<tr><td>6</td><td>Operation</td><td>operator:&nbsp;7<br>operands:&nbsp;8<br></td><td><a class=\"ProveItLink\" href=\"../4b8aeebf3263288c8b5e59876eae207cf19ddcb30/expr.ipynb\"><img src=\"data:image/png;base64,iVBORw0KGgoAAAANSUhEUgAAADsAAAASBAMAAAAXqLt+AAAAMFBMVEX////u7u5mZmaYmJi6urqq\n",
       "qqp2dnbMzMwQEBBEREQyMjLc3NwiIiJUVFSIiIgAAAAeC3ydAAAAAXRSTlMAQObYZgAAAN5JREFU\n",
       "KM9jYGB4+//u3bMbGNAAd1LaPQjrFwMDZze6dFYBA+9BEIP9GwMD6zc0WakJQKIXxOL7wsDA/AlN\n",
       "eg2I0BcAEpwfGBh4v6LKMn0HkfkOQIJ/AQOD/ARU6f1gfn4AkKhPYGA/BNayCgwugIw1AAnMLwAS\n",
       "76+lqaH76zzIVoYfYDUCDBgALAHxzh9MWYgYVyPI23A/MZ0BA5Cr1oP48QVQb2OAeId9z9lbQCzO\n",
       "j1ik2Q4msEWC3Cs0/+8DLPK+y94EMBQw4AacBcx4pRW88Mgy8P7/gk+avQMYsACkOkEpvD6FzwAA\n",
       "AABJRU5ErkJggg==\n",
       "\" style=\"display:inline;vertical-align:middle;\" /></a></td></tr>\n",
       "<tr><td>7</td><td>Literal</td><td></td><td><a class=\"ProveItLink\" href=\"../2fb26078095930560931daa0500ce419a39ea6cd0/expr.ipynb\"><img src=\"data:image/png;base64,iVBORw0KGgoAAAANSUhEUgAAAA4AAAAFBAMAAACHocAhAAAAFVBMVEX///9EREQiIiJUVFQyMjJm\n",
       "ZmYAAADubVkoAAAAAXRSTlMAQObYZgAAABRJREFUCNdjCHEBAWcGXCBICQQUAUpuAwlgGKrkAAAA\n",
       "AElFTkSuQmCC\n",
       "\" style=\"display:inline;vertical-align:middle;\" /></a></td></tr>\n",
       "<tr><td>8</td><td>ExprTuple</td><td>9, 10</td><td><a class=\"ProveItLink\" href=\"../d7a1e7ea4a4f91471e6430488ddf80a6c01c0dbd0/expr.ipynb\"><img src=\"data:image/png;base64,iVBORw0KGgoAAAANSUhEUgAAADMAAAAVBAMAAAAZessyAAAAMFBMVEX////c3NwiIiJERESqqqqY\n",
       "mJh2dnZmZmYQEBDu7u4yMjJUVFTMzMyIiIi6uroAAAAs73DqAAAAAXRSTlMAQObYZgAAAUZJREFU\n",
       "KM99Ur9Lw1AYvJImbZpUu4s4SnHQxbkB/4A6OUqmFgRpp65VcFAEzaa4GAQFJzeXImR3UFwtGBx1\n",
       "KSJt/UHrd++10aH4IJfLu3Dv++57wD9r6n7S7jrhVp7HYau1UNCbqWrlBshEQi/5/QkY21raiOAU\n",
       "gRDI08/tAumuUk6WBPaBNSAbCM0PALOnpDNCM8Ax8EJqdADnnSzzTazFMDw0SKfF+ZROmFNY82DV\n",
       "cU5658OdV37NVWIpQjrEAenTdaWha1/k0ehLu1sYqL+Ccat9Aot1O1p6S1JQLLenpB221UukK0I5\n",
       "UobLo7Zk0bUcz7Zdnm+GqLKtDyo2zayib62wIin+GTgqfTEt+5BbrxcPHsQwFyNb+B2PpkZkiiRB\n",
       "mX4imfpl1Bne5ngofyVnKFXZEh1mEmk0bndXwnJonpp4AdrAD2bmUgaDRD48AAAAAElFTkSuQmCC\n",
       "\" style=\"display:inline;vertical-align:middle;\" /></a></td></tr>\n",
       "<tr><td>9</td><td>Variable</td><td></td><td><a class=\"ProveItLink\" href=\"../../../../__pv_it/6369c6c8083c513ca7161ace249642d040f9327d0/expr.ipynb\"><img src=\"data:image/png;base64,iVBORw0KGgoAAAANSUhEUgAAABAAAAAOBAMAAADUAYG5AAAAMFBMVEX////u7u5mZmaYmJi6urqq\n",
       "qqp2dnbMzMwQEBBEREQyMjLc3NwiIiJUVFSIiIgAAAAeC3ydAAAAAXRSTlMAQObYZgAAAGBJREFU\n",
       "CNdjYGB4+//u3bMbGIDgFwMDZzeQZv/GwMAKxAx8XxgYmD8BGZwfGBh4vwIZ/AsYGOQnABn1CQzs\n",
       "h0Ca3l9LUwPrni/AAAF/oDT7JygDZAwYcH6E0ELz/z4A0QBnpRnRyxnfJQAAAABJRU5ErkJggg==\n",
       "\" style=\"display:inline;vertical-align:middle;\" /></a></td></tr>\n",
       "<tr><td>10</td><td>Variable</td><td></td><td><a class=\"ProveItLink\" href=\"../../../../__pv_it/98124f92e6e1fc3772af50ac63eaa1f5624776f20/expr.ipynb\"><img src=\"data:image/png;base64,iVBORw0KGgoAAAANSUhEUgAAAA8AAAASBAMAAAB2sJk8AAAAMFBMVEX///+YmJiqqqq6uroQEBBE\n",
       "RETu7u4iIiLMzMwyMjKIiIhUVFRmZmZ2dnbc3NwAAADS0us6AAAAAXRSTlMAQObYZgAAAHxJREFU\n",
       "CNdjYGDgu3N3FwMI3Gxg4C4D0pkBQMIbiKeDRM8nMPD8ADHuGzC8DwAzFBjOC4AY8Q0M9Qkgxhcw\n",
       "YmBg+svA8B3E4HRjYJgPYug3ALHBqxUczkAOb9kFXtUHIGHrucsVGBrAtrI2MEIZByzBNAP3/88Q\n",
       "BocL0BoActoerD1tNT4AAAAASUVORK5CYII=\n",
       "\" style=\"display:inline;vertical-align:middle;\" /></a></td></tr>\n",
       "</table>\n"
      ],
      "text/plain": [
       "0. forall_{P, Q | Q , P = Q} P\n",
       "   core type: Operation\n",
       "   operator: 3\n",
       "   operand: 1\n",
       "1. P -> [forall_{Q | Q , P = Q} P]\n",
       "   core type: Lambda\n",
       "   parameter: 9\n",
       "   body: 2\n",
       "2. forall_{Q | Q , P = Q} P\n",
       "   core type: Operation\n",
       "   operator: 3\n",
       "   operand: 4\n",
       "3. forall\n",
       "   core type: Literal\n",
       "   sub-expressions: \n",
       "4. Q -> P | Q , P = Q\n",
       "   core type: Lambda\n",
       "   parameter: 10\n",
       "   body: 9\n",
       "   conditions: 5\\n5. (Q , P = Q)\n",
       "   core type: ExprTuple\n",
       "   sub-expressions: 10, 6\n",
       "6. P = Q\n",
       "   core type: Operation\n",
       "   operator: 7\n",
       "   operands: 8\n",
       "7. =\n",
       "   core type: Literal\n",
       "   sub-expressions: \n",
       "8. (P , Q)\n",
       "   core type: ExprTuple\n",
       "   sub-expressions: 9, 10\n",
       "9. P\n",
       "   core type: Variable\n",
       "   sub-expressions: \n",
       "10. Q\n",
       "    core type: Variable\n",
       "    sub-expressions: "
      ]
     },
     "execution_count": 3,
     "metadata": {},
     "output_type": "execute_result"
    }
   ],
   "source": [
    "# display the expression information\n",
    "lhsViaEquivalence.exprInfo()"
   ]
  },
  {
   "cell_type": "code",
   "execution_count": null,
   "metadata": {},
   "outputs": [],
   "source": []
  }
 ],
 "metadata": {
  "kernelspec": {
   "display_name": "Python 3",
   "language": "python",
   "name": "python3"
  }
 },
 "nbformat": 4,
 "nbformat_minor": 0
}
