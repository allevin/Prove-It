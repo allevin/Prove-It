{
 "cells": [
  {
   "cell_type": "markdown",
   "metadata": {},
   "source": [
    "Show the Proof\n",
    "========"
   ]
  },
  {
   "cell_type": "code",
   "execution_count": 1,
   "metadata": {},
   "outputs": [
    {
     "data": {
      "text/html": [
       "<table><tr><th>&nbsp;</th><th>step type</th><th>requirements</th><th>statement</th></tr>\n",
       "<tr><td>0</td><td>assumption</td><td></td><td><span style=\"font-size:20px;\"><a class=\"ProveItLink\" href=\"../14b5e4fe66c62484e776816ef4f0b551932a39250/expr.ipynb\"><img src=\"data:image/png;base64,iVBORw0KGgoAAAANSUhEUgAAAEUAAAAVBAMAAADiLT7tAAAAMFBMVEX///9ERETc3NyqqqpUVFS6\n",
       "urrMzMwyMjIQEBCIiIh2dnYiIiLu7u5mZmaYmJgAAABJJ2g3AAAAAXRSTlMAQObYZgAAAOdJREFU\n",
       "KM9jYGDgu8eAE7CtUgBRPLsY8AC2ZhDJ+QGfGobrIIKrAa+aFQOhhmmlk+VNdFmVWREKUDW8BQwM\n",
       "pxheP+gG+6IcBEpATNYmBnkg9R7EzghgYFjAMJ/BDM0Y/QcMF4EU+wUGhpQ2IOMAgyOGQ/wZGHaC\n",
       "aPEHDAwRCSBWJ4aajww834AU9wIgwQJ0DwPTNwYekMTt3SCwESTyk4H5Aw/UPVwbGBgeASNkDqox\n",
       "PJ+Bus0Qfmf+x9jANAHNrjoG6wsLEGp4JNesmocRPDPDJAOoHBd8DYTTD89OvOmwFUzxLSaQngHu\n",
       "VkNuo1Vu9wAAAABJRU5ErkJggg==\n",
       "\" style=\"display:inline;vertical-align:middle;\" /></a> <a class=\"ProveItLink\" href=\"proof.ipynb\" style=\"text-decoration: none\">&#x22A2;&nbsp;</a><a class=\"ProveItLink\" href=\"../6dea2645e542749e41bfbd618b8b200d676e71760/expr.ipynb\"><img src=\"data:image/png;base64,iVBORw0KGgoAAAANSUhEUgAAADMAAAAJBAMAAABtbgnSAAAAMFBMVEX///+6uroyMjJERETMzMwQ\n",
       "EBAiIiKYmJju7u5mZmaqqqpUVFSIiIh2dnbc3NwAAAAWgogoAAAAAXRSTlMAQObYZgAAAIxJREFU\n",
       "CNdjYHh7+tXJAwyogG/PxTgGBo4L7OmsCUAupxIYbABJiT5g/sDAwMvA84HLAU3TdwZOA6AuBm4D\n",
       "NOMYuD8wsIHtYEW3iYHfgKEfbNB7B4YGkF1pYAAy4v0BhvVAMfYH5xl4GlB19S9g2AS0f32BKcMb\n",
       "NAOZCrgyeRkYms/23inA8NZB54MMAP+8JiaIm5EsAAAAAElFTkSuQmCC\n",
       "\" style=\"display:inline;vertical-align:middle;\" /></a></span></td></tr>\n",
       "</table>"
      ],
      "text/plain": [
       "<proveit._core_.proof._ShowProof at 0x7f94eb280898>"
      ]
     },
     "execution_count": 1,
     "metadata": {},
     "output_type": "execute_result"
    }
   ],
   "source": [
    "import proveit\n",
    "%show_proof"
   ]
  },
  {
   "cell_type": "code",
   "execution_count": null,
   "metadata": {},
   "outputs": [],
   "source": []
  }
 ],
 "metadata": {
  "kernelspec": {
   "display_name": "Python 3",
   "language": "python",
   "name": "python3"
  }
 },
 "nbformat": 4,
 "nbformat_minor": 0
}
