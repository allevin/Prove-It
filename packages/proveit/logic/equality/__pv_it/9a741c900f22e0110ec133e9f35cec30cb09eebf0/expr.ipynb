{
 "cells": [
  {
   "cell_type": "markdown",
   "metadata": {},
   "source": [
    "Expression of type <a class=\"ProveItLink\" href=\"../../../../../../doc/html/api/proveit.logic.Set.html\">Set</a>\n",
    "=======================\n",
    "# from context <a class=\"ProveItLink\" href=\"../../_context_.ipynb\">proveit.logic.equality</a>"
   ]
  },
  {
   "cell_type": "code",
   "execution_count": 1,
   "metadata": {},
   "outputs": [],
   "source": [
    "# import Expression classes needed to build the expression\n",
    "from proveit._common_ import Px, x\n",
    "from proveit.logic import Set"
   ]
  },
  {
   "cell_type": "code",
   "execution_count": 2,
   "metadata": {},
   "outputs": [
    {
     "data": {
      "text/html": [
       "<strong id=\"expr\">expr:</strong> <a class=\"ProveItLink\" href=\"expr.ipynb\"><img src=\"data:image/png;base64,iVBORw0KGgoAAAANSUhEUgAAAFsAAAAVBAMAAADbSo+2AAAAMFBMVEX///9ERETc3NyqqqpUVFS6\n",
       "urrMzMwyMjIQEBCIiIh2dnYiIiLu7u5mZmaYmJgAAABJJ2g3AAAAAXRSTlMAQObYZgAAAbBJREFU\n",
       "KM9jYGDgu8dADGBbpQCieHahCkdC6acY6ptBJOcHEDnlv4vLFpB2NgeoLG8CuvrrIIKrAcz+zsDA\n",
       "2ASk2Q/AZAvQla9AKGf7xcDADMQMM+Gyr/Ao5/wK9PNfIKMHLnsCj3JGoA9YPjMwsCKcwGiAWzk/\n",
       "UNl5AaAHFzAwMK10srwJlLgAU6c1RXnuBKhyXrB5+QsY2PaCfPqAgeEUw+sH3UCvwCziWcC3j2MD\n",
       "A8N7ECcjAETO91p1CxSOHEDeAob5DGZAdzVAlXMBA5sZGKzsQOtS2sBC8tDw4wcqP8DgCA6sDzDT\n",
       "GVgEwAxxoNUR4Oj4zYBQzsDQiaIcaOcEEMkN9BcDC8iJbH9hEqDgYPoGNBHhGAYG/QSglRC3c22A\n",
       "Bjsk9ID2PQKmiznAaCgAOwTIUJjPwHkAOSAZ/8C8dYGB+R9jA9MEaECeBxpm/0CCQRM53M/Kf5kA\n",
       "Uc66gYFHcs2qeaAwBXnjxCcGhoOzTq18gBpNcNCElgiCsMYqloS1Ekw+QFPOh6ocnoB5CtCVg9M7\n",
       "z04U5Uyw7MECzmucSLmpFUzxLUZRrwmlp2HLqwAvom7XZtPVUgAAAABJRU5ErkJggg==\n",
       "\" style=\"display:inline;vertical-align:middle;\" /></a><br>"
      ],
      "text/plain": [
       "expr: {P(x) , x}"
      ]
     },
     "execution_count": 2,
     "metadata": {},
     "output_type": "execute_result"
    }
   ],
   "source": [
    "# build up the expression from sub-expressions\n",
    "expr = Set(Px, x)"
   ]
  },
  {
   "cell_type": "code",
   "execution_count": 3,
   "metadata": {},
   "outputs": [
    {
     "name": "stdout",
     "output_type": "stream",
     "text": [
      "Passed sanity check: built 'expr' is the same as the stored Expression.\n"
     ]
    }
   ],
   "source": [
    "# check that the built expression is the same as the stored expression\n",
    "%check_expr"
   ]
  },
  {
   "cell_type": "code",
   "execution_count": 4,
   "metadata": {},
   "outputs": [
    {
     "data": {
      "text/html": [
       "<table><tr><th>&nbsp;</th><th>core type</th><th>sub-expressions</th><th>expression</th></tr>\n",
       "<tr><td>0</td><td>Operation</td><td>operator:&nbsp;1<br>operands:&nbsp;2<br></td><td><a class=\"ProveItLink\" href=\"expr.ipynb\"><img src=\"data:image/png;base64,iVBORw0KGgoAAAANSUhEUgAAAFsAAAAVBAMAAADbSo+2AAAAMFBMVEX///9ERETc3NyqqqpUVFS6\n",
       "urrMzMwyMjIQEBCIiIh2dnYiIiLu7u5mZmaYmJgAAABJJ2g3AAAAAXRSTlMAQObYZgAAAbBJREFU\n",
       "KM9jYGDgu8dADGBbpQCieHahCkdC6acY6ptBJOcHEDnlv4vLFpB2NgeoLG8CuvrrIIKrAcz+zsDA\n",
       "2ASk2Q/AZAvQla9AKGf7xcDADMQMM+Gyr/Ao5/wK9PNfIKMHLnsCj3JGoA9YPjMwsCKcwGiAWzk/\n",
       "UNl5AaAHFzAwMK10srwJlLgAU6c1RXnuBKhyXrB5+QsY2PaCfPqAgeEUw+sH3UCvwCziWcC3j2MD\n",
       "A8N7ECcjAETO91p1CxSOHEDeAob5DGZAdzVAlXMBA5sZGKzsQOtS2sBC8tDw4wcqP8DgCA6sDzDT\n",
       "GVgEwAxxoNUR4Oj4zYBQzsDQiaIcaOcEEMkN9BcDC8iJbH9hEqDgYPoGNBHhGAYG/QSglRC3c22A\n",
       "Bjsk9ID2PQKmiznAaCgAOwTIUJjPwHkAOSAZ/8C8dYGB+R9jA9MEaECeBxpm/0CCQRM53M/Kf5kA\n",
       "Uc66gYFHcs2qeaAwBXnjxCcGhoOzTq18gBpNcNCElgiCsMYqloS1Ekw+QFPOh6ocnoB5CtCVg9M7\n",
       "z04U5Uyw7MECzmucSLmpFUzxLUZRrwmlp2HLqwAvom7XZtPVUgAAAABJRU5ErkJggg==\n",
       "\" style=\"display:inline;vertical-align:middle;\" /></a></td></tr>\n",
       "<tr><td>1</td><td>Literal</td><td></td><td><a class=\"ProveItLink\" href=\"../../../set_theory/enumeration/__pv_it/07381ed5b23806e8d7914b78cb6667769e3708dd0/expr.ipynb\"><img src=\"data:image/png;base64,iVBORw0KGgoAAAANSUhEUgAAAB4AAAAOBAMAAADKyLEKAAAAMFBMVEX///8iIiIQEBCIiIjMzMzc\n",
       "3Nyqqqp2dnZEREQyMjK6urru7u5mZmZUVFSYmJgAAACI6eGPAAAAAXRSTlMAQObYZgAAALRJREFU\n",
       "CNdjYGDgu3Nm3wIGBJjHwN0PZW5yYGDgLWBgyITy8zcwMMQDxZyh/INAvD6BgcEFypcB4vjPDiBm\n",
       "TPFRrhs/LjMwMP//38rAwCbKEMPA9gEkE3fp0waG+AUMRxh4JkC01T9guPTOOICBEWgVH5C//wHD\n",
       "H5D4fqCz9oCMDGD4DLaegRXslLMMDMpAgxlOMmQxHDRgYG5gYLBk4D7KcIe7gOHC2rt9QCXsh40Z\n",
       "GCKMGQDRkC8N/Ph1XAAAAABJRU5ErkJggg==\n",
       "\" style=\"display:inline;vertical-align:middle;\" /></a></td></tr>\n",
       "<tr><td>2</td><td>ExprTuple</td><td>3, 5</td><td><a class=\"ProveItLink\" href=\"../c92b80e180c3981004c7b73676f2541a4c8c3a1a0/expr.ipynb\"><img src=\"data:image/png;base64,iVBORw0KGgoAAAANSUhEUgAAAFQAAAAVBAMAAAAqQdQ7AAAAMFBMVEX////c3NwiIiJERESqqqqY\n",
       "mJh2dnZmZmYQEBDu7u4yMjJUVFTMzMyIiIi6uroAAAAs73DqAAAAAXRSTlMAQObYZgAAAbRJREFU\n",
       "KM+VUztIA0EQfSEfL59LUoiNBNOIhU0KBRuJtShGCwsLuSpiEUiVSiERGwslIMRgkzQWNmIQbNKk\n",
       "t/AaFYkStRJBiKIGP0RnLnu5y3Yu7M3MzmPnzds54B8rqNujZ2GXJZT7jj5ntOu/1epomJzAsUj1\n",
       "1STsGu1Ddr4AZ46sL2+myhLUB6hcP/ABuGjjtptalBloUPgetU1+i5ytbqooQb1ZPLF1NgH/G7Vo\n",
       "lXVOSdgxZNiECFKKUTMa4EhVZtcBT9rEDNT7r4jlCg44OtcQGGHuCaCAhcQGUTcLeDX3sBIFprHD\n",
       "YeM0mWGtFFJPQwMzxCUroB6oTRdJ94g2h3GhUYigeZywG2iat8IfMyp3oK+woMB2D5Rq6R3oJh+3\n",
       "zENu2/FDN1kEgKEalSIC40LWjkLU1rzaxDXJXDaKkxNuQCXoEmlAiE+zhTRc786sQxdilajzucQE\n",
       "ImCxHoC9+LeYrmAU3snV5AXrxrSLL8DuZSFFxXAEJWx/kpz0sPf2h6UxsC1rSFLGN9GNPboYwu6o\n",
       "mUPoLUvQfdqDdqjDHG2/wUu1MhXO9vwwEWFvpLlSa/gD3l1mLUTsNqYAAAAASUVORK5CYII=\n",
       "\" style=\"display:inline;vertical-align:middle;\" /></a></td></tr>\n",
       "<tr><td>3</td><td>Operation</td><td>operator:&nbsp;4<br>operand:&nbsp;5<br></td><td><a class=\"ProveItLink\" href=\"../../../../__pv_it/8c735c381b4cbf3c87e86ca2468da4e5c976f9b00/expr.ipynb\"><img src=\"data:image/png;base64,iVBORw0KGgoAAAANSUhEUgAAAC4AAAAVBAMAAADLKsFqAAAAMFBMVEX////u7u5mZmaYmJi6urqq\n",
       "qqp2dnbMzMwQEBBEREQyMjLc3NwiIiJUVFSIiIgAAAAeC3ydAAAAAXRSTlMAQObYZgAAAQlJREFU\n",
       "GNNjYCACsDyA0MwOIPLt/7t3z24AsWphCtTB5C8GBs5uEGMhTJwLRLB/Y2BgBWIGvgcwceYEEPcL\n",
       "kPEJyOAQgIkzNgAJzg8MDLxfgQwvhAumAjH/AgYG+QlAhhoQb3u79RHQuCQgsz6Bgf0QSNFioAEJ\n",
       "zIc5DjAwRAG576+lqYGd2cLAwMbA94G1gIHBA8idD7MOaD8jAy/IRIZ6IP7DgBAHOuoBVJz9E0y8\n",
       "FUTsL2AQAJvD9wUmPhnojw3vGfiA4lZA53+EiQMdF28wg2EfmCk0/y/M+z4MDJLPxPIMgMwlyMHM\n",
       "sQElHBhQQgsM2B6gxAs8nKVQ42svjHEbVZwbqp2vgAEAALg9cr1t3EsAAAAASUVORK5CYII=\n",
       "\" style=\"display:inline;vertical-align:middle;\" /></a></td></tr>\n",
       "<tr><td>4</td><td>Variable</td><td></td><td><a class=\"ProveItLink\" href=\"../../../../__pv_it/6369c6c8083c513ca7161ace249642d040f9327d0/expr.ipynb\"><img src=\"data:image/png;base64,iVBORw0KGgoAAAANSUhEUgAAABAAAAAOBAMAAADUAYG5AAAAMFBMVEX////u7u5mZmaYmJi6urqq\n",
       "qqp2dnbMzMwQEBBEREQyMjLc3NwiIiJUVFSIiIgAAAAeC3ydAAAAAXRSTlMAQObYZgAAAGBJREFU\n",
       "CNdjYGB4+//u3bMbGIDgFwMDZzeQZv/GwMAKxAx8XxgYmD8BGZwfGBh4vwIZ/AsYGOQnABn1CQzs\n",
       "h0Ca3l9LUwPrni/AAAF/oDT7JygDZAwYcH6E0ELz/z4A0QBnpRnRyxnfJQAAAABJRU5ErkJggg==\n",
       "\" style=\"display:inline;vertical-align:middle;\" /></a></td></tr>\n",
       "<tr><td>5</td><td>Variable</td><td></td><td><a class=\"ProveItLink\" href=\"../../../../__pv_it/530be409e3083890784cf1d7b28c9e67e90af9360/expr.ipynb\"><img src=\"data:image/png;base64,iVBORw0KGgoAAAANSUhEUgAAAAsAAAAJBAMAAAAWSsseAAAAKlBMVEX///9ERETMzMwQEBAiIiKY\n",
       "mJju7u5mZmaqqqpUVFSIiIh2dnbc3NwAAAA/vyDhAAAAAXRSTlMAQObYZgAAAENJREFUCNdjYDi9\n",
       "8sTyBQxsG1hdmR0YuBm4LnAoMLAxcAowgADzAjB1VoEhgYH1wFoGrgSG3gBhhlMMDImrs3cFMAAA\n",
       "t0YN+iTRa+sAAAAASUVORK5CYII=\n",
       "\" style=\"display:inline;vertical-align:middle;\" /></a></td></tr>\n",
       "</table>\n"
      ],
      "text/plain": [
       "0. {P(x) , x}\n",
       "   core type: Operation\n",
       "   operator: 1\n",
       "   operands: 2\n",
       "1. Set\n",
       "   core type: Literal\n",
       "   sub-expressions: \n",
       "2. (P(x) , x)\n",
       "   core type: ExprTuple\n",
       "   sub-expressions: 3, 5\n",
       "3. P(x)\n",
       "   core type: Operation\n",
       "   operator: 4\n",
       "   operand: 5\n",
       "4. P\n",
       "   core type: Variable\n",
       "   sub-expressions: \n",
       "5. x\n",
       "   core type: Variable\n",
       "   sub-expressions: "
      ]
     },
     "execution_count": 4,
     "metadata": {},
     "output_type": "execute_result"
    }
   ],
   "source": [
    "# display the expression information\n",
    "expr.exprInfo()"
   ]
  },
  {
   "cell_type": "code",
   "execution_count": null,
   "metadata": {},
   "outputs": [],
   "source": []
  }
 ],
 "metadata": {
  "kernelspec": {
   "display_name": "Python 3",
   "language": "python",
   "name": "python3"
  }
 },
 "nbformat": 4,
 "nbformat_minor": 0
}
