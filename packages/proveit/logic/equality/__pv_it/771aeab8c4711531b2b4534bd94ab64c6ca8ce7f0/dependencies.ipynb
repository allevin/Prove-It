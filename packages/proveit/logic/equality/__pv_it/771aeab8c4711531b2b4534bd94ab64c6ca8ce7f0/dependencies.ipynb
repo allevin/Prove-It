{
 "cells": [
  {
   "cell_type": "markdown",
   "metadata": {},
   "source": [
    "Theorem Dependencies\n",
    "=======================\n",
    "\n",
    "## <a class=\"ProveItLink\" href=\"../../_context_.ipynb\">proveit.logic.equality</a>.<a class=\"ProveItLink\" href=\"../../_theorems_.ipynb#rhsViaEquivalence\">rhsViaEquivalence</a> \n",
    "***see <a class=\"ProveItLink\" href=\"../../_proofs_/rhsViaEquivalence.ipynb\">proof</a>***"
   ]
  },
  {
   "cell_type": "code",
   "execution_count": 1,
   "metadata": {},
   "outputs": [],
   "source": [
    "from proveit.logic.equality._theorems_ import rhsViaEquivalence"
   ]
  },
  {
   "cell_type": "code",
   "execution_count": 2,
   "metadata": {},
   "outputs": [
    {
     "data": {
      "text/html": [
       "<h3>Axioms required (directly or indirectly) to prove rhsViaEquivalence</h3>"
      ],
      "text/plain": [
       "<IPython.core.display.HTML object>"
      ]
     },
     "metadata": {},
     "output_type": "display_data"
    },
    {
     "data": {
      "text/html": [
       "<dl>"
      ],
      "text/plain": [
       "<IPython.core.display.HTML object>"
      ]
     },
     "metadata": {},
     "output_type": "display_data"
    },
    {
     "data": {
      "text/html": [
       "<dt><a class=\"ProveItLink\" href=\"../../../boolean/_axioms_.ipynb#eqTrueElim\">proveit.logic.boolean.eqTrueElim</a></dt><dd><a class=\"ProveItLink\" href=\"../../../boolean/__pv_it/3e7bd867633eab3d515d0929d36506bc9b5772e10/expr.ipynb\"><img src=\"data:image/png;base64,iVBORw0KGgoAAAANSUhEUgAAAGgAAAAWBAMAAADeGsQjAAAAMFBMVEX///8QEBC6urrMzMxUVFRm\n",
       "ZmZERETc3NwyMjKqqqp2dnaIiIiYmJgiIiLu7u4AAAAU9Wx4AAAAAXRSTlMAQObYZgAAAUpJREFU\n",
       "OMtjeMBABrgAIk6ToIEZqGMliNFHgiaODwwMZUCaPYEETWf/ATUCPcU6gXg97FO/MzDwLC8vryXB\n",
       "Im7uT0DyW1raLRI06XH+AZLODAzpYG47mGSCe7gAmx4+BebfQEqFga8BxOX5BBZlg0mfV4AyWNPS\n",
       "xNKyoBwmBvavQIqXgfsAiPv0D4omvvgDCPMRoWvi4vIN5LMDvOBUse4qiiautwHYNAGtlwAZ2WAC\n",
       "jugNaSiarNkSsGjiBOKLIEa6E4hkYYhF0eTAeoHBowMINiBrqgTifhBjKjj5nWTYj6yJZwL3B0yb\n",
       "wEGWD/INI8gsvquhYA5M09vQsH8YmtgTfxQwHPvfCjIUpJi1gMHeAElTOAPzZ4YMDOehAh0GBv4D\n",
       "CE1MQPYfbKGHDJ58Y2D3vwPXxOefwFDy9wABTQjARk5Opp8mFiLUAADNR1FAr8G4iQAAAABJRU5E\n",
       "rkJggg==\n",
       "\" style=\"display:inline;vertical-align:middle;\" /></a></dd>"
      ],
      "text/plain": [
       "<IPython.core.display.HTML object>"
      ]
     },
     "metadata": {},
     "output_type": "display_data"
    },
    {
     "data": {
      "text/html": [
       "<dt><a class=\"ProveItLink\" href=\"../../../boolean/_axioms_.ipynb#eqTrueIntro\">proveit.logic.boolean.eqTrueIntro</a></dt><dd><a class=\"ProveItLink\" href=\"../../../boolean/__pv_it/d0cb838f1f1e44deadf0499da151f8dae5a0de4f0/expr.ipynb\"><img src=\"data:image/png;base64,iVBORw0KGgoAAAANSUhEUgAAAIwAAAAXBAMAAAArT7qNAAAAMFBMVEX///8QEBC6urrMzMxUVFRm\n",
       "ZmZERETc3NwyMjKqqqp2dnaIiIiYmJgiIiLu7u4AAAAU9Wx4AAAAAXRSTlMAQObYZgAAAaxJREFU\n",
       "OMtjYKAOeEBYCdMG/PI8CgwMF0CM03iVmUAoW3Rx1rtgkMAQzMCwEiTQh9cYqGw/FinmABDJwcBQ\n",
       "BqTYE/CZwg3xE8/9B7iM4VnAwAGUZJ2AzxhGiPbK+AJcxvAJMPAsLy+vxesnDQi1Yb8CLmMYMhkY\n",
       "vqWl3cJrTBQkuh7MP4DTmKUMDM4MDOlgdjtEOUxFO4zRAyYfMdiDw4i1AwwcUIyZwcCgwsDXAA6n\n",
       "T2ARNlhi+AQzRghMKjDUB+B0jSIDAy8DN9i1T/+gGAPlAgHYPGYXF/8EnMbYA+PzAC84KtZdRTEG\n",
       "yoUZA/QrYwM+Y/gawKmUeUMasjEwLhBIgghgkuAVQEm6aJ5iSHcCsVgYYpGNgXGBIAeUQIHGcHzA\n",
       "6ZoTQDwVnK1OMuxHNgbGhcQmwwuQzD98Ec7ACIpIvquh+Q8QxsC5QKALzDHy7Qw8+T8wo4p5AZhq\n",
       "AkUtSD1rAYO9AcIYOBdkTQGhkoRPAMbSYWDgP4AwBs6FZDwCgAtWID35xsDufwduDIJLuBiBhhwa\n",
       "YMMUKiFkjDtRxrATKES5DYgyhhzAQpYuAAUAaqwIkhhoAAAAAElFTkSuQmCC\n",
       "\" style=\"display:inline;vertical-align:middle;\" /></a></dd>"
      ],
      "text/plain": [
       "<IPython.core.display.HTML object>"
      ]
     },
     "metadata": {},
     "output_type": "display_data"
    },
    {
     "data": {
      "text/html": [
       "<dt><a class=\"ProveItLink\" href=\"../../_axioms_.ipynb#equalsSymmetry\">proveit.logic.equality.equalsSymmetry</a></dt><dd><a class=\"ProveItLink\" href=\"../00337eac3723871d5661da0e358240a663e29ee80/expr.ipynb\"><img src=\"data:image/png;base64,iVBORw0KGgoAAAANSUhEUgAAAN0AAAAWBAMAAAC2xYReAAAAMFBMVEX///8QEBC6urrMzMxUVFRm\n",
       "ZmZERETc3NwyMjKqqqp2dnaIiIiYmJgiIiLu7u4AAAAU9Wx4AAAAAXRSTlMAQObYZgAAAoFJREFU\n",
       "SMe9VjFoFEEU/bd7u5u7vdscppAgyhUWggQVbFJFIkTQRsQiGESrS6HFFmIEUbdQSBFCQK0s3CaI\n",
       "HgkHyoGc6GIjRISrLITA2qTQ5jCghRbOnz+7uZ2dubtGHzzu9r83f/Zm/p85gP+MWCcYLaIO7xWx\n",
       "o4PtyC4+fFQYTgrqYB3PhcxTg+3I5/iwqjCsauIpglxkLB5iZ7zJPpyredltEfXYykU6w+xb9E7W\n",
       "Wl4uxEQ9vuYih4bZGSvPlpbuKOQjgnrY8lsawTA78mej8UUhXyJ66yHck36m0zzzZAGgfF4uiTDV\n",
       "+iFSoB15GmBRMd8KsWz04B0+zy8j7uPXb/ApOghQCqT4WJRqYPHwMhasSIF25GHwVOuwjzhtdaEh\n",
       "SSEb/pAtX03e8nqq9UOkQDuyCm6kmO8HMS604HfuiJjj3daT4uP1VMvYKQXakW5UjfXzwdPY3M2J\n",
       "B7TzCS0DSpHM5wV4ijRnX7HmN9ppD0wKzoPL1+3yNuIzFcwueMl69sULa6kGFg9v88amFMl6wuIs\n",
       "29N4Dt3fx/0T4qWuCz4AWz6lPrg9eMs6Sd52O0q1DCgF2vmQx+wINXg9wt0paAvTuuBFOCZtb+mP\n",
       "XXNain5ggUTLgFIk/QAFrv/i0lk4J0xTgjudK77UT9c2X7zB8q/L/d5NtQwoBdr5kArumFkzqQsm\n",
       "kuL2iQAbI59n+3Vny8beeUaYKQdluOXDhJEUXSXkLHa9SU2S5ggnOEKkaPYP2Xm9sAkzETxqB9n7\n",
       "qBraoXo6b9T7iFKgXR4SOX4x3ewbnKXOBc3PK/q5kKO8bykF2qUhpm+He1cClpkz4AJ8qYjdHmyX\n",
       "hlTYq4T/+O/SX8R3y4z+LqoKAAAAAElFTkSuQmCC\n",
       "\" style=\"display:inline;vertical-align:middle;\" /></a></dd>"
      ],
      "text/plain": [
       "<IPython.core.display.HTML object>"
      ]
     },
     "metadata": {},
     "output_type": "display_data"
    },
    {
     "data": {
      "text/html": [
       "<dt><a class=\"ProveItLink\" href=\"../../_axioms_.ipynb#equalsTransitivity\">proveit.logic.equality.equalsTransitivity</a></dt><dd><a class=\"ProveItLink\" href=\"../15953cfebb497c481d8be77ed0e16c42a27f82610/expr.ipynb\"><img src=\"data:image/png;base64,iVBORw0KGgoAAAANSUhEUgAAANEAAAAXBAMAAABnpbd1AAAAMFBMVEX///8QEBC6urrMzMxUVFRm\n",
       "ZmZERETc3NwyMjKqqqp2dnaIiIiYmJgiIiLu7u4AAAAU9Wx4AAAAAXRSTlMAQObYZgAAAoBJREFU\n",
       "SMe9VUtoE1EUPZOZZvLrJLQLFVFScKFUMcVC3UglhQotSFYiFiGrVqyLQcQoogQRKihF0Lqwm8GN\n",
       "n0AIWAO2ooNQBD+QlYggRBeKuokIdtOF976Zya+daOHhgXDe3Jt55913PwP8N1TlbdXv73pBvwov\n",
       "XssQUg/6+7pSwANezMpQCnW6njxwlkjPylBa6uR85Zyk64YMpe2dnJ+A2L1c7qIMoUC+kzdIwfye\n",
       "nPwgQ6nLojQUDs1PtDv6evQSIhlgBJjyO+aGCsIGvuOtvY0fjl5lXOGlfurxESBMEe+A4Rd3cCNK\n",
       "ShKw8Bw32+wGjMN06ATQjagtQyme5DEwuo7nDDdbDaTTXZWlBGxdJwcZV8nID9KqkF6gNg6UobDs\n",
       "gdnzDaXIQv+IN2+yopZdEoPh/Ve3RRRm/RfdFuH4R8Y74bgj5Oj2MJWm3aqj/M8fcXOA7ellq6FU\n",
       "1LJbNE7wNaO0otIbghwLtN3HvAugHLyM1vCsLaSwBY2aiWthrsJVdp2tl/agLNzfmm4vGfLyqH+u\n",
       "RLN1chPudT3VcXg1mKCKbsX+5TeXhZfCFr4VYR7DuNgy2ZynuOm9pVlaqUECp+vpqMCYLj582p6m\n",
       "TOwnHSbEO8Y4M2pCZXMPepn2YahJaQCpoHNXSlJJiYJWPIuaUr1zbPrLNHIwHMlHcM5Eb6BGpI7t\n",
       "ytaV1Np9WF7PpPZCnxHkYvDu7aYh6o+Ct/jyZKKIYRu3ynmiaGCzWVcypucWvTYIj5+AuirIRalv\n",
       "5l++Gu3DwdZNToDt2085TmPMoTXQO3wJNbP1o2kGrZ1MvkoneWAPObQWF/yVHrU+xhBesph8leYX\n",
       "OXKHpEKTudkfgDCcYn7TElEAAAAASUVORK5CYII=\n",
       "\" style=\"display:inline;vertical-align:middle;\" /></a></dd>"
      ],
      "text/plain": [
       "<IPython.core.display.HTML object>"
      ]
     },
     "metadata": {},
     "output_type": "display_data"
    },
    {
     "data": {
      "text/html": [
       "<dt><a class=\"ProveItLink\" href=\"../../_axioms_.ipynb#substitution\">proveit.logic.equality.substitution</a></dt><dd><a class=\"ProveItLink\" href=\"../8d36a51e21a3e1f2d1a576f0cfdfe721d403af1e0/expr.ipynb\"><img src=\"data:image/png;base64,iVBORw0KGgoAAAANSUhEUgAAAO8AAAAXBAMAAAARnwX+AAAAMFBMVEX///8QEBC6urrMzMxUVFRm\n",
       "ZmZERETc3NwyMjKqqqp2dnaIiIiYmJgiIiLu7u4AAAAU9Wx4AAAAAXRSTlMAQObYZgAAAvdJREFU\n",
       "SMfFVj1oFEEUfvef293bHKayECJYpIk5wcYqRyRGTBPUQgyiNonCgVuI8QfNIggWEq5QsLttDglB\n",
       "OTAemhRZJIVoc7UorE0QLXIYMIUiznszO7O3uznJQfDBm/123jfzZt+99+YA/pd4vS5MNqLYGPw3\n",
       "/63QFr586MHxURzMyQmJUc7EEEOcTInrIr4s9OCY1mQXf3es74shhjk21xvskbu0e786RW7zcFVi\n",
       "irUTZYY577n2sR85U9294wQlRy2AKazFKDPM+cLVeDY3d7eHSA/ReCGASa5GmWFOtsr158zMxx4c\n",
       "n8dh/cC4j28v33rFolmPEBXHrDsw74E2BaTHAWYxSOON6O5dquMRjb98bDrGpwSrkKeUuA9JytDJ\n",
       "0ZJtWAPI21wPgYl5llmZiu7eJen24ZDb8rEGejvPiuRghKg4xzItmGEFXeRaAN1lhkLc13Vx/AOH\n",
       "fNvHJqSJPBohKo6XaODnp9pcdbeACdfv9eBYaymcaMQ7DnBqXmpLOTZt7CnGtWk0L40ts3glmyL7\n",
       "uWM+SW2vKctiPyVoWeH5ErZfCnXmMwlfHeCcA72oQg2zY2h4R6fzTiRYon/vt46oL6bJk5gtDWkA\n",
       "qKivRGxYa6B7YpvOgpcceECnMGyu8IRiQXWQ5Ml6bxiayrGY7DAI/uagj2vuZbgDceWkOHAWRlyQ\n",
       "5SSOVOG0bRpPwWTwN96Wu/gGgGEcRjwfb6x8W8IcvR9xrDiwsXrRYr1ykCsYniwPSBVT/GUg4Bgn\n",
       "r1CopYEdl20BrwN4p5bZwXmuWqa/4g/ATWtUszX2gIFkWzmmSSG+ga4Do1wJXw1auAsFOemWiSm2\n",
       "JBTEVzEP7sab6RfsAY+btnJMk0J8A11ziYVW8IpE+RpJrQCn4GQdoHZl2upk+Gu7HLs5K92IrWNp\n",
       "YHIdjLolsZCJsOMgJ796mj3TFldxga+zSk3x15SVdYbiG4g04CECUfWxXtq54/icl0LF/xEMuiEO\n",
       "yY7mxDuWhr2W8t5t/RfNBeNeS11EOAAAAABJRU5ErkJggg==\n",
       "\" style=\"display:inline;vertical-align:middle;\" /></a></dd>"
      ],
      "text/plain": [
       "<IPython.core.display.HTML object>"
      ]
     },
     "metadata": {},
     "output_type": "display_data"
    },
    {
     "data": {
      "text/html": [
       "</dl>"
      ],
      "text/plain": [
       "<IPython.core.display.HTML object>"
      ]
     },
     "metadata": {},
     "output_type": "display_data"
    },
    {
     "data": {
      "text/html": [
       "<h3>Theorems that depend directly on rhsViaEquivalence</h3>"
      ],
      "text/plain": [
       "<IPython.core.display.HTML object>"
      ]
     },
     "metadata": {},
     "output_type": "display_data"
    },
    {
     "data": {
      "text/html": [
       "<dl>"
      ],
      "text/plain": [
       "<IPython.core.display.HTML object>"
      ]
     },
     "metadata": {},
     "output_type": "display_data"
    },
    {
     "data": {
      "text/html": [
       "<dt><a class=\"ProveItLink\" href=\"../../../boolean/implication/_proofs_/affirmViaContradiction.ipynb\">proveit.logic.boolean.implication.affirmViaContradiction</a></dt><dd><a class=\"ProveItLink\" href=\"../../../boolean/implication/__pv_it/6e067bbf01a47ec3fdb8c87f2276ede1c4a744140/expr.ipynb\"><img src=\"data:image/png;base64,iVBORw0KGgoAAAANSUhEUgAAAJkAAAAWBAMAAAAhlCOEAAAAMFBMVEX///8QEBC6urrMzMxUVFRm\n",
       "ZmZERETc3NwyMjKqqqp2dnaIiIiYmJgiIiLu7u4AAAAU9Wx4AAAAAXRSTlMAQObYZgAAAh1JREFU\n",
       "OMtjeMBATXABRJymhkm2QLwSxOijhmn9QFwGxOwJVDCM5z4w0DiAmHUCFUyrjC8AGrm8vLyWGh7d\n",
       "sF8BSH5LS7uFV1kxMgenL5gezD8ApJwZGNLB/HZ0BQpgkn0BXICjgMEKl2mPGOw3ACkVBr4GcCh+\n",
       "goZmV1frATALEjdsCB3nFRi4FJCNSEC2uj4ASPEycIM1P/0DJF6HxjBsWPBaCUntbLgGvvgDUJsx\n",
       "TWN2cfEH8bgP8ILzw7qrQHZS3TugaVxvkNSmw3VwvQ0ABwwQzEQ3jYmBgRFkEV+DCdjwDWkMDEfB\n",
       "kbNAOw5JrQBchzUbUGQ3xPsFaKYBY4cXrDLdCUSyMMQyMIC9sSFUFincmBFec2C9AArmsLS0tAxh\n",
       "VNPYgaZxfACxpoKz6kmG/QzMCyBuY7VGqGVyYOACaQdGzwRuoHoLiHbWYBTTXoDc+w/EYgTFLN/V\n",
       "0PwHzNfS0rJB4caFMI3TARazb0PD/sFNY04tQDKtTL6dgSf/ByhSeUCRwFrAYG/A5wBxG7JpTPB0\n",
       "Es7A/JmBQY1haygQuKKnEBSgw8DAf4DBHerTaoRavgtQ05iAgQlMRKcY3gHBqw34THvyjYHd/w7D\n",
       "MwVw6k1DTr33ID7jAyankr8HGILAXFAyYE1LE0vLwpcnlwHDDS1t7kRVAYniOtJLBYhpz1DEODeQ\n",
       "W8ZATOM8gCzGQnaJBUkbDIeRxdbh1QEAkzCKhUZAJ2AAAAAASUVORK5CYII=\n",
       "\" style=\"display:inline;vertical-align:middle;\" /></a></dd>"
      ],
      "text/plain": [
       "<IPython.core.display.HTML object>"
      ]
     },
     "metadata": {},
     "output_type": "display_data"
    },
    {
     "data": {
      "text/html": [
       "<dt><a class=\"ProveItLink\" href=\"../../../boolean/implication/_proofs_/iffImpliesLeft.ipynb\">proveit.logic.boolean.implication.iffImpliesLeft</a></dt><dd><a class=\"ProveItLink\" href=\"../../../boolean/implication/__pv_it/daee5f8cd64120ac6a4f032996a3d425891831ae0/expr.ipynb\"><img src=\"data:image/png;base64,iVBORw0KGgoAAAANSUhEUgAAAMIAAAAXBAMAAACrPI2eAAAAMFBMVEX///8QEBC6urrMzMxUVFRm\n",
       "ZmZERETc3NwyMjKqqqp2dnaIiIiYmJgiIiLu7u4AAAAU9Wx4AAAAAXRSTlMAQObYZgAAAuxJREFU\n",
       "SMe1VT9ME1EY/9Gjd9hej246ISZumtDBqIkxvWhTTBxoIlcnA8ZQ4iIdDGgMUlyqi3RQwyYORoyG\n",
       "1ESnDpwb6gAOLAqhMZqwgET+K1a/9+4e92hK0KIvee+++77vfb/v7x3w31dxF3cP7aihNwITjHhX\n",
       "FYBikomWpVj8VmX5SdrngKeMvlsVQh2Lv6YdaGusKB9gOkA3PbT2qhAK7IjmaZuCZcgZmiEP9CHu\n",
       "iD9XFUIDO0bTwPjQlrDcdb2NREYY+pOent6qAHwZdl6k/X7Trs/05PlRlrzLwEoq9aEqBD/3fAm4\n",
       "dsVjPvMcKD606fEYOA10claWnw+WrXiEa2xGnvYM7OmyWi8JPjOgLBVeTfHXC9NszSSE6ideIgwC\n",
       "B2HwcPVvTn3CCIYZoQrVcblTXgMvXLKG8YOrwJyUGgwK7Ub0MbQDQAhB5gy+bDixm/CtyghGmy0Z\n",
       "aAWa3JjqmS2VvAluSApGvwOhxGItrEWjJLdDvFAjk1wSysM/ISME5sgVw4TC0/6R0gEJoZ5N3XcJ\n",
       "4fiIWwYKMuMgGJkjHDOf4pKvEYylZYQTKrnip9I0Mw8XoWdFlliPRynA2nWvDtOi6iQMhZ0sofMU\n",
       "49S6vjUVXjpKAsFkIT1KpVL9BOz7UYiL1lRtdxz6Ml4I99ynRgh1C0SM0b7Pk/IGo1w0TNUsSgh6\n",
       "LriAo8xd42wRgQz0BpG+hDMOyj5vzDQBNssslJxuRQ1rKmPS6uKKHZSonIQwZyVLSBbdNlETMNZF\n",
       "w5NnyV+x2G2pE1S3C7r3Z6F3rZEP7Kuos+v+NKJ8DOh+U0RCOA9lEVqHZVlJ8qQ+B9+iMLe3wue2\n",
       "nGGEBXWYbttaFloJ2qRUBx85SM04e3N+/jm99hXRuzlTb/9g8AN5l/i8Aq1lStnA8LJ1JuchGNTT\n",
       "V3/aUBKsYREYsFrvoNJnbrs1W/5Lkmh1iyQCI11+WzN3Rmguez+2LULFdWNHjWCkjGH/HcIuV+0/\n",
       "svMbyLm8JRIE9oYAAAAASUVORK5CYII=\n",
       "\" style=\"display:inline;vertical-align:middle;\" /></a></dd>"
      ],
      "text/plain": [
       "<IPython.core.display.HTML object>"
      ]
     },
     "metadata": {},
     "output_type": "display_data"
    },
    {
     "data": {
      "text/html": [
       "<dt><a class=\"ProveItLink\" href=\"../../../boolean/implication/_proofs_/iffImpliesRight.ipynb\">proveit.logic.boolean.implication.iffImpliesRight</a></dt><dd><a class=\"ProveItLink\" href=\"../../../boolean/implication/__pv_it/fa15f628d442131b69f984451d5ef3fe67441a140/expr.ipynb\"><img src=\"data:image/png;base64,iVBORw0KGgoAAAANSUhEUgAAAMEAAAAXBAMAAABACzadAAAAMFBMVEX///8QEBC6urrMzMxUVFRm\n",
       "ZmZERETc3NwyMjKqqqp2dnaIiIiYmJgiIiLu7u4AAAAU9Wx4AAAAAXRSTlMAQObYZgAAAuhJREFU\n",
       "SMe1VT9ME1EY/9Fr72jvOIiLTKSDm0Y6EB0cuGiDJg504OpkgBjKBh2MYAhSSQzqIF0wjjiJ0Zga\n",
       "depAdTCKMdQBB8WkJJqwgERoEUHwe+/1ei+1ihZ9yXvvu+973/f7/rbAf1+5Pege3PXFM9pZRryq\n",
       "CkCxxJWtIDPa18Jto/CFgLvs+0ZVCLUi/tqVSsKaLqAziARwgb60rqoQ0uJ6vV0p560p2hZmhCO+\n",
       "ZFUITfzUJtZdlpuM6TgwO4kFStidgYHhqgA8CX7p+heXd6BEddN+k4NKzhdisXdVIfgm+XXYv+Xy\n",
       "AimHWgMG+4gRAU4AvZw3xs+bebstxF0sFTTuWvD32x3nHH6GnWZQ2eR4H/jKO322ln4yzxQSLDCT\n",
       "h2uIYI0G6A2MUB2rs0HJ8afAQ6dbgsIRLS/J/aPi1qk4S9TNHrJVB50780kE67PgWZcRzM6MZKED\n",
       "aC7GVM8RWsLhgpy7xX38UsmyThYVamU9U8d77MEcF9Wl4MvKCIElSqVpQeFpfw+chYxAR6M8hddF\n",
       "w9aT/8Y3gWAmWrgoFeOizyG8iMsIx1SaFjabJ1lAqzDGnCyxHvezlpHq8LY4Ea0UuHdDZAm9xxnL\n",
       "W/StOf24DzKCxUK6HYvFLhOwZzPd5kyVyrJ3kfa4VAZLGocRqq/BajzBk/IS01w0RdXMSQhGUl/B\n",
       "EeaueTqHQAJGk5M+lj1moN+d5EFpHJTGnHiEGtbD5pwtHvZQopISwpId3UaUi24FoUZgbjgTl4XW\n",
       "/TWO5ztXSgi9xTu6Ew5fZTHWsmIZTN0XRysfA9JvDkkIZ6CsQuuxbTtKntQn4Vl1zO3/eQpD5YyF\n",
       "EnWItDPaGLRtaHNSHTzkCDXd4qXl5fv0OZLDcMTRmfmDwb/nEB8L0NrnlS1M5e1TSRfBbO/C+e8Z\n",
       "KBHWsAiM2x3Xyn+9f7fEMMv/GxKtloVvxsvVNWtXBG+50tFfIlRcQ7u+eFTOyPwdwh6X9x/Z+QG1\n",
       "G8FcNLiUzwAAAABJRU5ErkJggg==\n",
       "\" style=\"display:inline;vertical-align:middle;\" /></a></dd>"
      ],
      "text/plain": [
       "<IPython.core.display.HTML object>"
      ]
     },
     "metadata": {},
     "output_type": "display_data"
    },
    {
     "data": {
      "text/html": [
       "<dt><a class=\"ProveItLink\" href=\"../../../boolean/negation/_proofs_/negationContradiction.ipynb\">proveit.logic.boolean.negation.negationContradiction</a></dt><dd><a class=\"ProveItLink\" href=\"../../../boolean/negation/__pv_it/8d34e69910011169cb519166c0f9ff6f4dda77a60/expr.ipynb\"><img src=\"data:image/png;base64,iVBORw0KGgoAAAANSUhEUgAAAGsAAAAWBAMAAAA1LX8gAAAAMFBMVEX///8QEBC6urrMzMxUVFRm\n",
       "ZmZERETc3NwyMjKqqqp2dnaIiIiYmJgiIiLu7u4AAAAU9Wx4AAAAAXRSTlMAQObYZgAAATlJREFU\n",
       "OMtjeMBAFrgAIk6ToIF9A4hcCSL6SNDGHAAiy0AGJJCsjQPoOdYJJGvjWV5eXstAsjaGb2lpt8jQ\n",
       "5szAkA5mtINJJpg0RwGyYgQPqk2Fga8B7NpPYC4bTPq8ArI2BA+qjZeB+wCIfvoHRRtf/AEkXUg8\n",
       "qDbuA7zglLLuKoo2rrcBSNqQeFBtfA0mYN6GNBRt1mzIkYnEg2pjSHcCkSwMsSjaHFgvIGlD4sG0\n",
       "TQWLnGTYj6yNZwL3B5Dj0tLSMuA8FG2MoLTJdzU0/wGStrehYf+g6tiQeKx3796VvXsX5GIekHLW\n",
       "AgZ7AyRt4QzMnxHakHioQIeBgf8AQhsTkP2HoaIAIgLhYQFPvjGw+9+Ba+PzT2Ao+XvAHmwQM5SH\n",
       "N8mxIXMOEJ1SkbUxF5CljYf4fMFClCoA83FQjMq6UisAAAAASUVORK5CYII=\n",
       "\" style=\"display:inline;vertical-align:middle;\" /></a></dd>"
      ],
      "text/plain": [
       "<IPython.core.display.HTML object>"
      ]
     },
     "metadata": {},
     "output_type": "display_data"
    },
    {
     "data": {
      "text/html": [
       "<dt><a class=\"ProveItLink\" href=\"../../../boolean/negation/_proofs_/notTimpliesF.ipynb\">proveit.logic.boolean.negation.notTimpliesF</a></dt><dd><a class=\"ProveItLink\" href=\"../../../boolean/negation/__pv_it/432188d86efb64c542159e3b721264e8e73724d50/expr.ipynb\"><img src=\"data:image/png;base64,iVBORw0KGgoAAAANSUhEUgAAAFwAAAAVBAMAAAA5lpTPAAAAMFBMVEX////c3NwiIiJERESqqqqY\n",
       "mJh2dnZmZmYQEBDu7u4yMjJUVFTMzMyIiIi6uroAAAAs73DqAAAAAXRSTlMAQObYZgAAAOFJREFU\n",
       "KM9jYCAR8F1AE2B9gE/5aRiDXQkMDBhqsCuUBZMrkUR4CkAkF3blx0EE7wUM5awJCJEJaMo5JmAo\n",
       "52xAiKxEU/6KAUM5gwlC5DWa8jIsytMRImwXUJUvxaLcCymgvqMq74NJJCCUv0AygWUdivJ/MIM3\n",
       "IJSfR7ZxVh8pynmWTUBW3oJF+QsktytPQHGMKRblUUhO34DqVXigHcAakFJo4f4IJSAh0b8OIWII\n",
       "pYuUlDSALmPgEMBIS8iJ4AB66k7AUM52AU96X4khMgtf9pDGENmITzkjutW8B3ArBgBv1jnYAV61\n",
       "CwAAAABJRU5ErkJggg==\n",
       "\" style=\"display:inline;vertical-align:middle;\" /></a></dd>"
      ],
      "text/plain": [
       "<IPython.core.display.HTML object>"
      ]
     },
     "metadata": {},
     "output_type": "display_data"
    },
    {
     "data": {
      "text/html": [
       "<dt><a class=\"ProveItLink\" href=\"../../_proofs_/unfoldNotEquals.ipynb\">proveit.logic.equality.unfoldNotEquals</a></dt><dd><a class=\"ProveItLink\" href=\"../38779c63c7ca10709484d9771bf5465a3e774ee90/expr.ipynb\"><img src=\"data:image/png;base64,iVBORw0KGgoAAAANSUhEUgAAAL8AAAAXCAMAAABte263AAAAOVBMVEX///8oKCgUFBQJCQkQEBC6\n",
       "urrMzMxUVFRmZmZERETc3NwyMjKqqqp2dnaIiIiYmJgiIiLu7u4AAACP9cC6AAAAAXRSTlMAQObY\n",
       "ZgAAAmJJREFUWMPVV4lu5CAMZXfDffP/H7uYAIEZSEg7kVpLlRuM4YGfbQahXy7+8R2wuWs4F4tb\n",
       "7Y5x8wh8Qu8aroSRRmtVhuUzoZgu+/X9ZKMFzx/1n8+KMXcNCwzSjS7XwNQj+Dd/17CQs1ujrRZJ\n",
       "3DPJK+8aVoSrRgcO4vQj+Jm+MAhtqFCGXbDJ6+QgQoqaZvto0jSlMxcLl3m2wdhf2lkO2owrMsBZ\n",
       "tNXwM9lILVEa4QBJE9KXysFLGsMkvxJOvlDUXlm+n5m5Kroz6AxKkfMirOISgGCHgHMC7BoMxn4P\n",
       "v5gU84AnVT8bgA70uvLFaRswLOw0IwE1GrA7/z38M/pd4U+hWKmkCphPAhngj9wpq8ZkwoaS0t95\n",
       "X+da/N1MhPXYA21qgv8wiASq+jRUc+7YkQHBTcebqrmgmY0egpmX9gYFgcg2vP86k6Y8+xf/zMAD\n",
       "cTvBnw1W7DlpruIvodTw7GxlpxVztcAcBUN4HIcNH+LvZpbsefeola45QGtQwSIezysuKcQidBxs\n",
       "v2rRDQNDQ2QaWUHNjP/HTM9nHgjP2uJu8Nxor/VC9YgzDStbStxrW6MHwSdt8dvIBH+eySNz/v6R\n",
       "iT/vHvFr1le2hYbzItoN3g8tpIC0TDVZSFg9IsFhWH+OmX3tfPU43lrTR9iaUAdwVakdvW5ipFgM\n",
       "KOCDiCpquBziP2bC8JF7rx4fez9D2+P5xKXXnvbciF+IFzKP6786LvLN46SzzQ3DTSL7S8egotfD\n",
       "hi3SeftXIj/9NYEGHgnnrLaIr/0CMKTXs+uHM+vr/mtVd0vPPGM/I/TnQfoP0pMahBS79IEAAAAA\n",
       "SUVORK5CYII=\n",
       "\" style=\"display:inline;vertical-align:middle;\" /></a></dd>"
      ],
      "text/plain": [
       "<IPython.core.display.HTML object>"
      ]
     },
     "metadata": {},
     "output_type": "display_data"
    },
    {
     "data": {
      "text/html": [
       "<dt><a class=\"ProveItLink\" href=\"../../../set_theory/membership/_proofs_/unfoldNotInSet.ipynb\">proveit.logic.set_theory.membership.unfoldNotInSet</a></dt><dd><a class=\"ProveItLink\" href=\"../../../set_theory/membership/__pv_it/6525bbeef2cb10318de7964d1aaabdb4a41b438c0/expr.ipynb\"><img src=\"data:image/png;base64,iVBORw0KGgoAAAANSUhEUgAAAMIAAAAXCAMAAABuzGCfAAAAQlBMVEX///8SEhIoKCgtLS0/Pz96\n",
       "enovLy8QEBC6urrMzMxUVFRmZmZERETc3NwyMjKqqqp2dnaIiIiYmJgiIiLu7u4AAABYADVeAAAA\n",
       "AXRSTlMAQObYZgAAAp5JREFUWMPVWImO4yAMZU8OY27+/1eXI4SkMRNFM11pLFVOMSZ+vnDL2Pen\n",
       "9B/eIfxTwQ0FceRxrvs3IZDqqWBluQKAVO0G2Vcad3ZsMO8KyPLgh280oWaNzu15rJUP6u3L/vDV\n",
       "5P1TAU3KNWab9cFtgXEHV4B9EwSengqKr72JhcxhCXNPHtmAJ75t5A0HNorvqmXzVFDMNOECT+Tu\n",
       "Y9mR6M3jjWddKbpPmjq6xCvB6uAhQOcVWg8zrVAT8cGcvZxfHRy4agKNpDvAOR+mplhD0LRGL8Jl\n",
       "dZZUKEhCDIzPNKBt8bnQLrLmwEVtbYmMqoAWwYudBCHQGox32BB3cieBa9YVW3bYafEWDIrnUUCC\n",
       "H3mF70lfxVe79aL4AP7+oTVYFovbYBNUk9TpXMEH2KtfXd4MlfnIq/mR6g4pt9VwA8Frgel3ojVu\n",
       "IbSA+NsbLwyTSAgliYZWqSzh1R7SyJ2gEv60NdTckW6hwbhdQJiC3i93JyaiOSYYW5FKpFI+asvL\n",
       "VGM6z07Ac7YkhLm1RRtwocF0WEDYBAFbKTA/80Bds3pUL4wIBXPiFuLecF4bCCpOQti3dv/rlcbe\n",
       "/Q4YjgJbMkMXBTzkUoqXzgfR95wlm+o5F/NsaEn07GOLWuhbZSy3yq+f2tMaTKzuzC5I2rtU+/DJ\n",
       "bwbky3RRGqdSh4gacebzLpR89xKzLSGkXkDYtqYaWpVWGsU/uBowcH3LWGXIjrS7l5/5blRmzrRO\n",
       "jaYcD/pyz+jrVqaww2CkxpzIrk3mEwOB82c+7xRvocS1WhjqMF7Gc0CyI82t5VEEO8b3i8YXDttH\n",
       "S82Z0y76aIp4dcmPUg7ryRnVU8H94I1nTg5H+AACwscvRP9UcPcTRJ75gyCsoiC+0Z8F6sHq/6J/\n",
       "UNYkubwxWM4AAAAASUVORK5CYII=\n",
       "\" style=\"display:inline;vertical-align:middle;\" /></a></dd>"
      ],
      "text/plain": [
       "<IPython.core.display.HTML object>"
      ]
     },
     "metadata": {},
     "output_type": "display_data"
    },
    {
     "data": {
      "text/html": [
       "<dt><a class=\"ProveItLink\" href=\"../../../../number/sets/integer/_proofs_/inductionLemma.ipynb\">proveit.number.sets.integer.inductionLemma</a></dt><dd><a class=\"ProveItLink\" href=\"../../../../number/sets/integer/__pv_it/d0264aa0299b621bd4376e4ba0a5a560ddd4864a0/expr.ipynb\"><img src=\"data:image/png;base64,iVBORw0KGgoAAAANSUhEUgAAAfkAAAAVBAMAAAC3aYqaAAAAMFBMVEX///8QEBC6urrMzMxUVFRm\n",
       "ZmZERETc3NwyMjKqqqp2dnaIiIiYmJgiIiLu7u4AAAAU9Wx4AAAAAXRSTlMAQObYZgAABd1JREFU\n",
       "WMPlWF1oHFUUPpndZLOzs5NgHsSK7VQrCkWyoC2lRZOm1RYVXK2rNTGy9mGDtLb7ELJqarv+RAI2\n",
       "slCFiA8JoVV0aV0xKdGkdDEoEkVSKxLErVOxMWjSxIKKPzTe35k7s/cO+uyBk8zcmW++892559wz\n",
       "C/C/NjvgWmz2DsnoesEV9pHv/PQLQTSglajLzbCUJMaAVcXlBhkUHQPP4PPP5LfpVpzQewILtTpu\n",
       "dowlqmK9M7Vg1fqGRwJp4DbmEqtD07YLlCS6BbUJCQwHKJ1JDmTgt/HgKyr1egH9q/e8OHzGPG6Z\n",
       "5/yYI2AeAMjTk4jN1QfRkHH5NfMAZgIlCRLAucAfpMzc6Ci4BweZVqknV3o8gxOunwYY90HCwwCD\n",
       "ANMsiCRXH0QTK1EX7Ecmfvt9SIYxrCTB6qeFyRKDlJgQHQXjWaotqNSTV/KIZ3C1618BNGcJ63il\n",
       "Ql/BYbSitgBcoPduPM/VB9HU2NQFe4MfnEHjZiM9/nmgMusjweovSF75as/TJEAGNt7K5Z4Fpfrp\n",
       "XC4346lQedd/BWghijZ9wS83o/NbUbpSoW0TXH0Qzc3MVerhCZrLR+wqEqy+zp1UrdUNUigCEiAH\n",
       "/5bJfKNW35DJPOlZeLXDjkf+ROrxio3sdy4f/osUIZ0seTMf5+qDaNqZPzP69FhJpv44Oeyxq0mw\n",
       "AD3pPqroBqmdyk3crQRy8DaALrX6cALq0OIOtRen2OIqO07U46mpy7o5vLKCnxYlk6+X2WIfkdBs\n",
       "eGcywUsRcXPY+LZmRqZ+kBx2SUiwAMrVWcH2XdIJUg+/DEsJFZCD16FXJC6Tvgfgvccc9WgtzaOj\n",
       "G0FbZklqOe6onxPwB7f+ggLWSKrGIZLn6n00oCWhmR1eRV2H2HI0IVO/liyktIQEC9AahccOWjzI\n",
       "6+NpWLJUQA6OQ6zslIfUo/CJbuu2ox5t1JOA/wJ7RoPluLPy1+Jpd7S9ix4XWmb7+zauXqAxx1Jl\n",
       "dA517PwydRPCaXnet5Dpug6RzPpIcIShZXGLfM5iQdpI+pCtAnJwrBzneRHbc+gSfF5KiuonAdVt\n",
       "8wpAuUo9qXplT6diIF9y1J/nl0Y8NKduumTDkk1uFtSjV0azfnd//9n+/hd96t0GRiCpUr/pJA8S\n",
       "S9+pBHKwmUcRGh3rjwF8jG+ZOtorqp8n4LMjzvZUcB3teEM45Rcd8ou4tGTZaoyiJKzPMvWEBopt\n",
       "owmD5GZ8ldPAXsMcb0i2euXPSEjclU/zvrLfCRJ2A/xtqoAcDF1tAAvN5XiCdk1T+sJmQX1dN77n\n",
       "4po/eOtZdh11OydIE+GkDq5PD+JZxo/CyqNJpp7Q6PZdNQXaupn3r/Cdah91I3sGYlL1n5LDeyUk\n",
       "OEJDqCevukHCKjCu6CogB8NraG4OjUNDNkS2tikYPiaoj3bSnnUr3weSrscLZhNR8iV/fmcJYmm+\n",
       "420EWjGoekyj4dq+md3bzavVcepD5cehF9Q73qJVTeLb8ViRJUORy6Cnj6qAHEyz7R60vEJfZzJ7\n",
       "kfqDi4J6uBb59yhfeK2ecd1sH6U1+in+IdK6bvs+suVgZJvTc444Sf07wO2ZTKZkWmDyfL2F+tyH\n",
       "PxXLPvWpNX1o6HkqrS9RRYIjrHe/AfnWSwJshMjeggrIwWBgrU2Q0sxW+u61LaJ63Ma9zl4ktqsF\n",
       "d1fcQMWzn5Huk0SlcfWEJtQYgh/wSLQAIV7ha7LUZb0eWVpskUR3uqUbQNbphsQgXZMAOZjO6zI0\n",
       "3QA7qHqYFtVje0hoGaYFV1rR/4VLrUXP6xDGQmvTbo+Ev2J8XzKez3O9pCTBERYllwKDI4iiIE9L\n",
       "Q3sZ5nAFfQk1eOBTvyuVykq+cJVm5uXq5z7oOAnmHqx+Q+rhf/GFS2xeTYIiNP/LF64DZGCPvYny\n",
       "3tvpVluk1XWVhbNy9eyxKO89A93MFbZDTYJ78awiyMDoGDjIYhXZ7ya9givsff8vW+cCeSIl6ooo\n",
       "EkqSWMWq4nKDDIqOgv8BriUJuoAKH4MAAAAASUVORK5CYII=\n",
       "\" style=\"display:inline;vertical-align:middle;\" /></a></dd>"
      ],
      "text/plain": [
       "<IPython.core.display.HTML object>"
      ]
     },
     "metadata": {},
     "output_type": "display_data"
    },
    {
     "data": {
      "text/html": [
       "<dt><a class=\"ProveItLink\" href=\"../../../../number/sets/integer/_proofs_/successiveNats.ipynb\">proveit.number.sets.integer.successiveNats</a></dt><dd><a class=\"ProveItLink\" href=\"../../../../number/sets/integer/__pv_it/693be06eb794fa495f778b07725d082d9ef710cf0/expr.ipynb\"><img src=\"data:image/png;base64,iVBORw0KGgoAAAANSUhEUgAAAK4AAAAVBAMAAAAtL8hrAAAAMFBMVEX///8QEBC6urrMzMxUVFRm\n",
       "ZmZERETc3NwyMjKqqqp2dnaIiIiYmJgiIiLu7u4AAAAU9Wx4AAAAAXRSTlMAQObYZgAAApNJREFU\n",
       "OMu1lU1oE0EUx//Zj8RskkmgoJ5kix6EHNyiiOjBYIUKglRLQbRI8JAiQsmpFaI1Ckou/QAVBC97\n",
       "qBXxEtFDxctiUDQVLQoFheAKpQRspSiIp+LMzmyziTvqxQf/3bdvZn95M/PeBvhP5v5xNCsUbs8k\n",
       "8aQJLDBnXjJBzXGF2QigW+0hMlWYhP7pAwaA+ywwKeFucrlCbHmdXsodwaizF0jTd4BR+hjLS7hP\n",
       "hQIpFfl96TDj1jvma+8TVUToRtheOvq0hLtNqGXxqnASjPtZ/Nhco+Glru10exmXZJC8NzZ2SYJV\n",
       "ylxSbpQntO+Nn+/uXNOlXJwDfhQKHyVc3ebKDpce22Fco5+5sZGNfbDuqHnGvQv0AsOyY3O47CNV\n",
       "8j2MG/cWEy22uLo5z7i3gR0gwaWq107g4RnuR0xPirkI8i2Mq2S80midm4VjWg91uoEUEo4f/zI4\n",
       "hBeGa4jSSpueCIXG18O46hpzuxsN/9wsLJEr1DlIJzgpv0ITZ8e/4nW1v4PLoBp7T69UJrZWKrkO\n",
       "7p5gvqrdw7mkTOPJ09kZ4Dkbq90o+dzINJdeRtpxpfuwGuTiVZTvA4YPASu7nJTF26dmrOx3/fbh\n",
       "ith469oh3CRfvRPkGqzTXlLdop+I8Tmki6r3ag32jOCyMmK6bGI2bknrjLzb6GO6aTjJ6wwRNvUo\n",
       "TV1dLBTOU+7FVcFVFrjoqkaftJ+bfvznEC1C03u4MCDmT22m1ybVVbYYRunCoEJyPF/lgH+QW4RC\n",
       "+s0z0ce4OdFoa0uSEU5sDV3b0ce5qPvc+m/fFqWN+0DSUIY/S8njlINluizlugntH76TXlplyUCz\n",
       "43mW7m/QYjkuiWlFyUDf3/6lSkLh9kgST1j4BcjZtiuI3JifAAAAAElFTkSuQmCC\n",
       "\" style=\"display:inline;vertical-align:middle;\" /></a></dd>"
      ],
      "text/plain": [
       "<IPython.core.display.HTML object>"
      ]
     },
     "metadata": {},
     "output_type": "display_data"
    },
    {
     "data": {
      "text/html": [
       "</dl>"
      ],
      "text/plain": [
       "<IPython.core.display.HTML object>"
      ]
     },
     "metadata": {},
     "output_type": "display_data"
    }
   ],
   "source": [
    "%dependencies rhsViaEquivalence"
   ]
  }
 ],
 "metadata": {
  "kernelspec": {
   "display_name": "Python 3",
   "language": "python",
   "name": "python3"
  }
 },
 "nbformat": 4,
 "nbformat_minor": 0
}
