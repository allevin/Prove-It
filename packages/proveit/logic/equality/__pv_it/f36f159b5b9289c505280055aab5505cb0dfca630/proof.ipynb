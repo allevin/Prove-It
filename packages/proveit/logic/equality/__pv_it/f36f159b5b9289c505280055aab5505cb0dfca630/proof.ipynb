{
 "cells": [
  {
   "cell_type": "markdown",
   "metadata": {},
   "source": [
    "Show the Proof\n",
    "========"
   ]
  },
  {
   "cell_type": "code",
   "execution_count": 1,
   "metadata": {},
   "outputs": [
    {
     "data": {
      "text/html": [
       "<table><tr><th>&nbsp;</th><th>step type</th><th>requirements</th><th>statement</th></tr>\n",
       "<tr><td>0</td><td>specialization</td><td>1, 2, 3</td><td><span style=\"font-size:20px;\"><a class=\"ProveItLink\" href=\"../83a0267109d223b303b69ac3ec3e3f60d74c1cd40/expr.ipynb\"><img src=\"data:image/png;base64,iVBORw0KGgoAAAANSUhEUgAAAGUAAAAVBAMAAACtcD09AAAAMFBMVEX///9ERETc3NyqqqpUVFS6\n",
       "urrMzMwyMjIQEBCIiIh2dnYiIiLu7u5mZmaYmJgAAABJJ2g3AAAAAXRSTlMAQObYZgAAAZdJREFU\n",
       "OMtjYGDgu8dANGBbpQCieHYxkADYmkEk5wcQ4f/FxdsJIjzlv4vLFgUM1Vq3lkwAUtdBbK4GEMlf\n",
       "wMAgAVX4nYGBsQldC1cZA4P3AQaGFQg9+QsYGOwXQKz/xcDA/AtNC08hkOBwQNEzP4CB4f0FsDTn\n",
       "V2C4/EXTw74BSPD+QdEjD8T+BmBpRqAHWT6j6bmfAFL6FUUP0A88HyHSIK+dF0DVwgSW4/oM1cNb\n",
       "APVDNsRpIK+x7QXLlIOBA4j5D+yCb0APgBgZASA/fFm1dhHUzPleq26hBzX3H7ALgE5iB5qc0gY2\n",
       "4Q9CXv4AZlTygz0ADljxBwwMESDf8W9AyP/GEv0Q+QqgadwgfSwg/+RfQKQOeDDz7gYDUHCwgxIL\n",
       "M9A7EP9wbYBGDzDkYNGDAZi/Ms1MAPscEdYQP5zfgOY1BFh9imGxEAOSHp6L/z1BzBOfGBjOyn+Z\n",
       "gEUPq/vKzQxsKPZAQRC+bCDG8Aybngf49MiyFsD08BGrx/9/ACz/8OyEi3LizaIZfaCYaAWz+RaT\n",
       "WB4AAKZndVO3jA4OAAAAAElFTkSuQmCC\n",
       "\" style=\"display:inline;vertical-align:middle;\" /></a> <a class=\"ProveItLink\" href=\"proof.ipynb\" style=\"text-decoration: none\">&#x22A2;&nbsp;</a><a class=\"ProveItLink\" href=\"../../../../__pv_it/98124f92e6e1fc3772af50ac63eaa1f5624776f20/expr.ipynb\"><img src=\"data:image/png;base64,iVBORw0KGgoAAAANSUhEUgAAAA8AAAASBAMAAAB2sJk8AAAAMFBMVEX///+YmJiqqqq6uroQEBBE\n",
       "RETu7u4iIiLMzMwyMjKIiIhUVFRmZmZ2dnbc3NwAAADS0us6AAAAAXRSTlMAQObYZgAAAHxJREFU\n",
       "CNdjYGDgu3N3FwMI3Gxg4C4D0pkBQMIbiKeDRM8nMPD8ADHuGzC8DwAzFBjOC4AY8Q0M9Qkgxhcw\n",
       "YmBg+svA8B3E4HRjYJgPYug3ALHBqxUczkAOb9kFXtUHIGHrucsVGBrAtrI2MEIZByzBNAP3/88Q\n",
       "BocL0BoActoerD1tNT4AAAAASUVORK5CYII=\n",
       "\" style=\"display:inline;vertical-align:middle;\" /></a></span></td></tr>\n",
       "<tr><td>&nbsp;</td><td colspan=4 style=\"text-align:left\"><span style=\"font-size:20px;\"><a class=\"ProveItLink\" href=\"../eaadfdb7a834b58639954591628a057455fd18480/expr.ipynb\"><img src=\"data:image/png;base64,iVBORw0KGgoAAAANSUhEUgAAADUAAAAVBAMAAAAUZLt1AAAAMFBMVEX////u7u5mZmaYmJi6urqq\n",
       "qqp2dnbMzMwQEBBEREQyMjLc3NwiIiJUVFSIiIgAAAAeC3ydAAAAAXRSTlMAQObYZgAAAShJREFU\n",
       "KM9jYCASsDxAsE3A5Nv/d++e3QBi1QKx7f82hl0/rjIwFYAlfzEwcHaDGAtBxP0ABtYLQHoBiMP+\n",
       "jYGBFYgZ+MBG1i9g2ASizUAE3xcGBuZPQAaHAIjL9ZtbAURLgAjODwwMvF+BDC+wDayfZME0ZwCQ\n",
       "4AeaLD8ByFCDuLD/IphiA+muT2BgPwTiLYbI5UN8wgpyzPtraWpgL7RA5O4fgHi2AUjMF4B69wuY\n",
       "ZNoLodmBzmD4w4Aip87+Ey7H/gkm1wp2ggPD+Q0wM/m+wOQmg4gnDAz2YP8xA93C+REmlwSyLQHo\n",
       "qQ9QPwjN/wsLfR8GBs/+Iwws6/+AfMjlgBxFHBuQeRIo0cecgMzLQ43bhUhsxgWocnuR2LwbUOW4\n",
       "kdLEcwYGAKihSR1uYyKHAAAAAElFTkSuQmCC\n",
       "\" style=\"display:inline;vertical-align:middle;\" /></a> : <a class=\"ProveItLink\" href=\"../../../../__pv_it/66cd610ba99eba68f315bbcf220cc988223124550/expr.ipynb\"><img src=\"data:image/png;base64,iVBORw0KGgoAAAANSUhEUgAAABIAAAAOBAMAAADQ9FGEAAAAMFBMVEX///9ERES6uroiIiKIiIju\n",
       "7u5mZmbMzMyqqqoyMjLc3Nx2dnYQEBBUVFSYmJgAAADDc6PYAAAAAXRSTlMAQObYZgAAAGRJREFU\n",
       "CNdjYGB4+/80w8o/NxiA4H4DA8cFEIOhfgLDMjCDgfMXVwKExfEtlgEKzl+FsfY7wFj3DaAMtrWf\n",
       "oKx09o8QBrcCg/0CMMuJgeE92Dy2DQwM/B+ADMXzRgxM8z9fZQAAyVAaemEFKr0AAAAASUVORK5C\n",
       "YII=\n",
       "\" style=\"display:inline;vertical-align:middle;\" /></a>, <a class=\"ProveItLink\" href=\"../../../../__pv_it/530be409e3083890784cf1d7b28c9e67e90af9360/expr.ipynb\"><img src=\"data:image/png;base64,iVBORw0KGgoAAAANSUhEUgAAAAsAAAAJBAMAAAAWSsseAAAAKlBMVEX///9ERETMzMwQEBAiIiKY\n",
       "mJju7u5mZmaqqqpUVFSIiIh2dnbc3NwAAAA/vyDhAAAAAXRSTlMAQObYZgAAAENJREFUCNdjYDi9\n",
       "8sTyBQxsG1hdmR0YuBm4LnAoMLAxcAowgADzAjB1VoEhgYH1wFoGrgSG3gBhhlMMDImrs3cFMAAA\n",
       "t0YN+iTRa+sAAAAASUVORK5CYII=\n",
       "\" style=\"display:inline;vertical-align:middle;\" /></a> : <a class=\"ProveItLink\" href=\"../../../../__pv_it/6369c6c8083c513ca7161ace249642d040f9327d0/expr.ipynb\"><img src=\"data:image/png;base64,iVBORw0KGgoAAAANSUhEUgAAABAAAAAOBAMAAADUAYG5AAAAMFBMVEX////u7u5mZmaYmJi6urqq\n",
       "qqp2dnbMzMwQEBBEREQyMjLc3NwiIiJUVFSIiIgAAAAeC3ydAAAAAXRSTlMAQObYZgAAAGBJREFU\n",
       "CNdjYGB4+//u3bMbGIDgFwMDZzeQZv/GwMAKxAx8XxgYmD8BGZwfGBh4vwIZ/AsYGOQnABn1CQzs\n",
       "h0Ca3l9LUwPrni/AAAF/oDT7JygDZAwYcH6E0ELz/z4A0QBnpRnRyxnfJQAAAABJRU5ErkJggg==\n",
       "\" style=\"display:inline;vertical-align:middle;\" /></a>, <a class=\"ProveItLink\" href=\"../../../../__pv_it/f8b9edf8e16034727f0aad55bb83e392c3db40d40/expr.ipynb\"><img src=\"data:image/png;base64,iVBORw0KGgoAAAANSUhEUgAAAAsAAAANBAMAAACN24kIAAAAMFBMVEX///+YmJhUVFQyMjIQEBBE\n",
       "REQiIiKqqqrMzMyIiIi6urrc3NxmZmZ2dnbu7u4AAADXeCicAAAAAXRSTlMAQObYZgAAAFhJREFU\n",
       "CNdj4LtzgWH/AwZerg8M8xkY2nkSGEIZGB6wTGD4ycDAUP+A4weQOszA6QCkbBhYFYDUIYb1AkDq\n",
       "6czzGxhA4BoQMyXwuQMptgusF4AU+8xTQBIAUqMVoSp/SLMAAAAASUVORK5CYII=\n",
       "\" style=\"display:inline;vertical-align:middle;\" /></a> : <a class=\"ProveItLink\" href=\"../../../../__pv_it/98124f92e6e1fc3772af50ac63eaa1f5624776f20/expr.ipynb\"><img src=\"data:image/png;base64,iVBORw0KGgoAAAANSUhEUgAAAA8AAAASBAMAAAB2sJk8AAAAMFBMVEX///+YmJiqqqq6uroQEBBE\n",
       "RETu7u4iIiLMzMwyMjKIiIhUVFRmZmZ2dnbc3NwAAADS0us6AAAAAXRSTlMAQObYZgAAAHxJREFU\n",
       "CNdjYGDgu3N3FwMI3Gxg4C4D0pkBQMIbiKeDRM8nMPD8ADHuGzC8DwAzFBjOC4AY8Q0M9Qkgxhcw\n",
       "YmBg+svA8B3E4HRjYJgPYug3ALHBqxUczkAOb9kFXtUHIGHrucsVGBrAtrI2MEIZByzBNAP3/88Q\n",
       "BocL0BoActoerD1tNT4AAAAASUVORK5CYII=\n",
       "\" style=\"display:inline;vertical-align:middle;\" /></a></span></td></tr><tr><td>1</td><td>theorem</td><td></td><td><span style=\"font-size:20px;\"> <a class=\"ProveItLink\" href=\"../../_proofs_/subRightSideInto.ipynb\" style=\"text-decoration: none\">&#x22A2;&nbsp;</a><a class=\"ProveItLink\" href=\"../d4113fad0d92b942ed717e4508c11482c9ed7ebd0/expr.ipynb\"><img src=\"data:image/png;base64,iVBORw0KGgoAAAANSUhEUgAAAMEAAAAXBAMAAABACzadAAAAMFBMVEX///8QEBC6urrMzMxUVFRm\n",
       "ZmZERETc3NwyMjKqqqp2dnaIiIiYmJgiIiLu7u4AAAAU9Wx4AAAAAXRSTlMAQObYZgAAAs1JREFU\n",
       "SMe1Vk1oE1EQ/pJNNskm2QR76i0HDwEppuDFgyS0RYtFWrSKqGC9NIJCFirWi5qL4EGqB3vqoYsQ\n",
       "qi2WgCVQc2jUmx7MTRCR9BIEL8WWKhXUeX+7a8OKYjrwMm9nvjffzs7MI8CeS2tPogarQr+k1WSb\n",
       "N92JGx/dGjpxjO0OSUs4Bzxhm5kuvXqqDFyyvAHJcJ1UZKJLDHkbmKcVryrLayBKhQg/6BLDWgZ4\n",
       "OwYEnOquA4mF6emb3SpwidYovW7Wsej0tD05+f7vzk/x39gfEN8Ac5v0OdIVG7dbMCijQaBI50qn\n",
       "x4udRzIiKHdGbP6g2b4E2g5whELiHmAEN7BGR6nU+2HSL14ATzvPyBbgTl3aHvl369ZiZYFt9gGH\n",
       "w01M0mCkgSTiDTIOUY1afgzcOSdtn3wZ9B9y84UmOVDFd0prg4gbSRb5AzDsmwN3qo8YyvmOQ9Nl\n",
       "wHxL2xQMZpkNoLmJxDvSSwMrFCBYkw0nGIST8jVWDgzKZhdAfkMoMPJjkqGX1lnE0+IroTjAYDuL\n",
       "F0gZraMB6q/PKavfkwN3alSt5dBEL4IFBRy+S1J1wHwcuFyldQc6AROsxrMsN6MsYrE2AG71oeZh\n",
       "4E4WOBOlkmllF/gbGCVVyAqtcRwkMOtWBFjWukrwK/89jhEPA3fG2KunLMmggB6weebniLT00WrX\n",
       "LxI4ytJKMOaUvDi0tCbarcfDwJ1Btu9HTmw48DL/Sg7YlQC7/Xj3r7t3FrPdsPJG2SCFHpoXl4E7\n",
       "zSY1xmPYSNgKKEWBXSFIqGmyei8pk3H/FIvUaK+eXyaFh7WyyyCc+AjzyuzzFsIZBZSiwB6ZQdLW\n",
       "bYhh9kpDqogVqnrngcuq1FEXyMUBe+QaYvWTbHasXfeKJZVuZ9HB0JZ6zgHKSbazHbMXkZzPdn8+\n",
       "pWJ1u5MhJl+84AClvW7/x4Vf8D68EiX7x/8OvwDdgcJMzIcRKQAAAABJRU5ErkJggg==\n",
       "\" style=\"display:inline;vertical-align:middle;\" /></a></span></td></tr>\n",
       "<tr><td>&nbsp;</td><td colspan=4 style-\"text-align:left\"><a class=\"ProveItLink\" href=\"../../_proofs_/subRightSideInto.ipynb\">proveit.logic.equality.subRightSideInto</a></td></tr><tr><td>2</td><td>assumption</td><td></td><td><span style=\"font-size:20px;\"><a class=\"ProveItLink\" href=\"../3b150b32aa1d2735d31e6130c9575c3cd6afb4720/expr.ipynb\"><img src=\"data:image/png;base64,iVBORw0KGgoAAAANSUhEUgAAACMAAAAVBAMAAAA+1EraAAAAMFBMVEX///9ERETc3NyqqqpUVFS6\n",
       "urrMzMwyMjIQEBCIiIh2dnYiIiLu7u5mZmaYmJgAAABJJ2g3AAAAAXRSTlMAQObYZgAAALtJREFU\n",
       "GNNjYGDgu8cAA2yrFEAUzy4GBGBrBpGcH0DklP8uLluASq6DOFwNYPnvDAyMTQwMKxBCbL8YGJh/\n",
       "oQhxfgXa8xdFiBFoIstnFCH+AgaG8wJQId4CEJm/gIFtL5B+D+JkBIDI+V6rboGcyX6BgSGlDewG\n",
       "+QNQx4o/YGCISACxfkNFuBcACRaQWWx/oUJgs7g2QJ0FBghHMP5BFzor/2UCuio4wCXEhyIEDi+e\n",
       "ncih2gqm+Bajhj0A3Sw0NKouzW0AAAAASUVORK5CYII=\n",
       "\" style=\"display:inline;vertical-align:middle;\" /></a> <a class=\"ProveItLink\" href=\"../c3f63b81e33f11df825656c8083fbb4990c340310/proof.ipynb\" style=\"text-decoration: none\">&#x22A2;&nbsp;</a><a class=\"ProveItLink\" href=\"../../../../__pv_it/6369c6c8083c513ca7161ace249642d040f9327d0/expr.ipynb\"><img src=\"data:image/png;base64,iVBORw0KGgoAAAANSUhEUgAAABAAAAAOBAMAAADUAYG5AAAAMFBMVEX////u7u5mZmaYmJi6urqq\n",
       "qqp2dnbMzMwQEBBEREQyMjLc3NwiIiJUVFSIiIgAAAAeC3ydAAAAAXRSTlMAQObYZgAAAGBJREFU\n",
       "CNdjYGB4+//u3bMbGIDgFwMDZzeQZv/GwMAKxAx8XxgYmD8BGZwfGBh4vwIZ/AsYGOQnABn1CQzs\n",
       "h0Ca3l9LUwPrni/AAAF/oDT7JygDZAwYcH6E0ELz/z4A0QBnpRnRyxnfJQAAAABJRU5ErkJggg==\n",
       "\" style=\"display:inline;vertical-align:middle;\" /></a></span></td></tr>\n",
       "<tr><td>3</td><td>assumption</td><td></td><td><span style=\"font-size:20px;\"><a class=\"ProveItLink\" href=\"../7b734a06c7479c09b5b12660f66ddc294f4f05330/expr.ipynb\"><img src=\"data:image/png;base64,iVBORw0KGgoAAAANSUhEUgAAAE4AAAAVBAMAAAAazcUaAAAAMFBMVEX///9ERETc3NyqqqpUVFS6\n",
       "urrMzMwyMjIQEBCIiIh2dnYiIiLu7u5mZmaYmJgAAABJJ2g3AAAAAXRSTlMAQObYZgAAATNJREFU\n",
       "KM9jYGDgu8eAH2QtApE8uxgIgQwDIMH5AcSc8t/FZYsCugKmtas8gRRvAZDgagALfWdgYGxCV7c8\n",
       "gYFlD1QJRB3bLwYG5l9oyo4LAIkWFHWcX4Ee+oumrhpE3D+ArI4R6EqWz6jKeL+ByPUByOr4gU49\n",
       "L4CqTh/MX28AUQL2DEP+Aga2vWBDysHAAWTjA5CAfAIDHyhIMgJAvPleq26hB8v+AyDyBxDXMjCk\n",
       "tIHF5A9gBi9IBSQQGOsYGCISQNzfWKIBLMbeAyRAUcYCch8bPEh4d4MByAv1IL490Biw+7g2QIMP\n",
       "A9gHaE5ja2VADmfGP1jUce1ZwGWogKzurPyXCVgUhlTNNmBIQIk3HIAxgY84dRfCYUr48Klj+f8V\n",
       "FmU8O/GoY+t4AI8yvsVE5A8AxAVYPdvYo68AAAAASUVORK5CYII=\n",
       "\" style=\"display:inline;vertical-align:middle;\" /></a> <a class=\"ProveItLink\" href=\"../c2c5987e49f779ca88a5a30f8fbd8fefc3bf8b390/proof.ipynb\" style=\"text-decoration: none\">&#x22A2;&nbsp;</a><a class=\"ProveItLink\" href=\"../../../../__pv_it/967af8292eb400fe646e032fec26d6b1338a87f30/expr.ipynb\"><img src=\"data:image/png;base64,iVBORw0KGgoAAAANSUhEUgAAADsAAAASBAMAAAAXqLt+AAAAMFBMVEX////u7u5mZmaYmJi6urqq\n",
       "qqp2dnbMzMwQEBBEREQyMjLc3NwiIiJUVFSIiIgAAAAeC3ydAAAAAXRSTlMAQObYZgAAAN5JREFU\n",
       "KM9jYGB4+//u3bMbGNAAd1LaPQjrFwMDZze6dFYBA+9BEIP9GwMD6zc0WakJQKIXxOL7wsDA/AlN\n",
       "eg2I0BcAEpwfGBh4v6LKMn0HkfkOQIJ/AQOD/ARU6f1gfn4AkKhPYGA/BNayCgwugIw1AAnMLwAS\n",
       "76+lqaH76zzIVoYfYDUCDBgALAHxzh9MWYgYVyPI23A/MZ0BA5Cr1oP48QVQb2OAeId9z9lbQCzO\n",
       "j1ik2Q4msEWC3Cs0/+8DLPK+y94EMBQw4AacBcx4pRW88Mgy8P7/gk+avQMYsACkOkEpvD6FzwAA\n",
       "AABJRU5ErkJggg==\n",
       "\" style=\"display:inline;vertical-align:middle;\" /></a></span></td></tr>\n",
       "</table>"
      ],
      "text/plain": [
       "<proveit._core_.proof._ShowProof at 0x7f94ebb358d0>"
      ]
     },
     "execution_count": 1,
     "metadata": {},
     "output_type": "execute_result"
    }
   ],
   "source": [
    "import proveit\n",
    "%show_proof"
   ]
  },
  {
   "cell_type": "code",
   "execution_count": null,
   "metadata": {},
   "outputs": [],
   "source": []
  }
 ],
 "metadata": {
  "kernelspec": {
   "display_name": "Python 3",
   "language": "python",
   "name": "python3"
  }
 },
 "nbformat": 4,
 "nbformat_minor": 0
}
