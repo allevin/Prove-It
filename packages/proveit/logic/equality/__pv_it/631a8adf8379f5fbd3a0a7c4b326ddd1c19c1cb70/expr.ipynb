{
 "cells": [
  {
   "cell_type": "markdown",
   "metadata": {},
   "source": [
    "Expression of type <a class=\"ProveItLink\" href=\"../../../../../../doc/html/api/proveit.ExprTuple.html\">ExprTuple</a>\n",
    "=======================\n",
    "# from context <a class=\"ProveItLink\" href=\"../../_context_.ipynb\">proveit.logic.equality</a>"
   ]
  },
  {
   "cell_type": "code",
   "execution_count": 1,
   "metadata": {},
   "outputs": [],
   "source": [
    "# import Expression classes needed to build the expression\n",
    "from proveit import ExprTuple, Variable\n",
    "from proveit._common_ import a, b, c\n",
    "from proveit.number import Add, Div, Exp"
   ]
  },
  {
   "cell_type": "code",
   "execution_count": 2,
   "metadata": {},
   "outputs": [
    {
     "data": {
      "text/html": [
       "<strong id=\"expr\">expr:</strong> <a class=\"ProveItLink\" href=\"expr.ipynb\"><img src=\"data:image/png;base64,iVBORw0KGgoAAAANSUhEUgAAAOIAAAAVBAMAAACpqS9FAAAAMFBMVEX////c3NwiIiJERESqqqqY\n",
       "mJh2dnZmZmYQEBDu7u4yMjJUVFTMzMyIiIi6uroAAAAs73DqAAAAAXRSTlMAQObYZgAAAlBJREFU\n",
       "SMe1VjFo1FAY/nIX7y45z9zeweKiY0AdHAoHDkKxmHbsFBxaKig3qAeiWEXcKnFRcTkXh7tCaZFC\n",
       "EQsBl0KHu0WhyNWz0yGUnmgHQcSXS+7d+595aRz8hyQ/3/flS/78738B/n/kPu2/E/MT7UT6EfAw\n",
       "jnXV2ELRfiTStgXM2BiX6dspX+SuGuqaDqE1RNBclemNlI5mAmaVRVqJVM2qRBdPozOBS25CWV1J\n",
       "KcQWfIFW8ETsYJhNRWcCt36oHY1FScnjeP8aXIH2laBXIekInHmQULpzMY7Pa7VaxZi49NEz2NXN\n",
       "kHabHbXNG9G9ljvrVBfAxlzHj/PQrq9N3ePZvOSoUM3jNTv2ytl+yPoOyye6AN7qmuNxjs8w4zzk\n",
       "2aTkqFBN4gl71kPk7UGq/0TBJToGG0vIOnGOLj7jMs961FGl6uE3UOwjE7Zk/hWsKnEM4QF2ahD2\n",
       "SOzhjdhW1DFS/RWt4JaWjXpYy0wVB+zB7jSbZ5rN5cjRspXdsiQ7jpQqVQts/pxs4wq8aDne98g7\n",
       "hrAitF8wVFVVqXo4D9QreKv7gZa1zWP6/Rlssbd24ibAdKmPHZ7NUseRisZs0NSmo5/Ooc46q1jJ\n",
       "r1JHBheryPkxE0A/zC5qbdXqGKnk1bEXLMfd97t48Y012OYtqcf3gjXZ2SETQD/L4gKMiYW5D8DF\n",
       "IGOfYkVSchWNFRT4lP0iAnzKlVNOcvWUk2l8AtOq78sD+shtty0p1bRGrOM/71Yv09PGhltRPGUs\n",
       "peNaepqW/FuhpfvrKPlpaX8AHJOiczStQq4AAAAASUVORK5CYII=\n",
       "\" style=\"display:inline;vertical-align:middle;\" /></a><br>"
      ],
      "text/plain": [
       "expr: (a , b + (c / _x_) + c^{_x_})"
      ]
     },
     "execution_count": 2,
     "metadata": {},
     "output_type": "execute_result"
    }
   ],
   "source": [
    "# build up the expression from sub-expressions\n",
    "subExpr1 = Variable(\"_x_\", latexFormat = r\"{_{-}x_{-}}\")\n",
    "expr = ExprTuple(a, Add(b, Div(c, subExpr1), Exp(c, subExpr1)))"
   ]
  },
  {
   "cell_type": "code",
   "execution_count": 3,
   "metadata": {},
   "outputs": [
    {
     "name": "stdout",
     "output_type": "stream",
     "text": [
      "Passed sanity check: built 'expr' is the same as the stored Expression.\n"
     ]
    }
   ],
   "source": [
    "# check that the built expression is the same as the stored expression\n",
    "%check_expr"
   ]
  },
  {
   "cell_type": "code",
   "execution_count": 4,
   "metadata": {},
   "outputs": [
    {
     "data": {
      "text/html": [
       "<table><tr><th>&nbsp;</th><th>core type</th><th>sub-expressions</th><th>expression</th></tr>\n",
       "<tr><td>0</td><td>ExprTuple</td><td>1, 2</td><td><a class=\"ProveItLink\" href=\"expr.ipynb\"><img src=\"data:image/png;base64,iVBORw0KGgoAAAANSUhEUgAAAOIAAAAVBAMAAACpqS9FAAAAMFBMVEX////c3NwiIiJERESqqqqY\n",
       "mJh2dnZmZmYQEBDu7u4yMjJUVFTMzMyIiIi6uroAAAAs73DqAAAAAXRSTlMAQObYZgAAAlBJREFU\n",
       "SMe1VjFo1FAY/nIX7y45z9zeweKiY0AdHAoHDkKxmHbsFBxaKig3qAeiWEXcKnFRcTkXh7tCaZFC\n",
       "EQsBl0KHu0WhyNWz0yGUnmgHQcSXS+7d+595aRz8hyQ/3/flS/78738B/n/kPu2/E/MT7UT6EfAw\n",
       "jnXV2ELRfiTStgXM2BiX6dspX+SuGuqaDqE1RNBclemNlI5mAmaVRVqJVM2qRBdPozOBS25CWV1J\n",
       "KcQWfIFW8ETsYJhNRWcCt36oHY1FScnjeP8aXIH2laBXIekInHmQULpzMY7Pa7VaxZi49NEz2NXN\n",
       "kHabHbXNG9G9ljvrVBfAxlzHj/PQrq9N3ePZvOSoUM3jNTv2ytl+yPoOyye6AN7qmuNxjs8w4zzk\n",
       "2aTkqFBN4gl71kPk7UGq/0TBJToGG0vIOnGOLj7jMs961FGl6uE3UOwjE7Zk/hWsKnEM4QF2ahD2\n",
       "SOzhjdhW1DFS/RWt4JaWjXpYy0wVB+zB7jSbZ5rN5cjRspXdsiQ7jpQqVQts/pxs4wq8aDne98g7\n",
       "hrAitF8wVFVVqXo4D9QreKv7gZa1zWP6/Rlssbd24ibAdKmPHZ7NUseRisZs0NSmo5/Ooc46q1jJ\n",
       "r1JHBheryPkxE0A/zC5qbdXqGKnk1bEXLMfd97t48Y012OYtqcf3gjXZ2SETQD/L4gKMiYW5D8DF\n",
       "IGOfYkVSchWNFRT4lP0iAnzKlVNOcvWUk2l8AtOq78sD+shtty0p1bRGrOM/71Yv09PGhltRPGUs\n",
       "peNaepqW/FuhpfvrKPlpaX8AHJOiczStQq4AAAAASUVORK5CYII=\n",
       "\" style=\"display:inline;vertical-align:middle;\" /></a></td></tr>\n",
       "<tr><td>1</td><td>Variable</td><td></td><td><a class=\"ProveItLink\" href=\"../../../../__pv_it/07527342713064c87612d00d8557c53d53d5324a0/expr.ipynb\"><img src=\"data:image/png;base64,iVBORw0KGgoAAAANSUhEUgAAAAsAAAAJBAMAAAAWSsseAAAAMFBMVEX///8yMjKqqqrMzMzu7u4i\n",
       "IiJmZmaYmJhEREQQEBC6urp2dnaIiIhUVFTc3NwAAAD87Fq/AAAAAXRSTlMAQObYZgAAAEhJREFU\n",
       "CNdjYOC7s2seAwPDygccHxgY+L4zsDUwMPB+YGA9wMDA38Dgb8DA8P4Agz6DA4O/AsNFJgMGxgKm\n",
       "MG6gyjunLE4xAAAZTBA5TB6DCwAAAABJRU5ErkJggg==\n",
       "\" style=\"display:inline;vertical-align:middle;\" /></a></td></tr>\n",
       "<tr><td>2</td><td>Operation</td><td>operator:&nbsp;3<br>operands:&nbsp;4<br></td><td><a class=\"ProveItLink\" href=\"../1b4e6d5f443aa2bef4e714d9aa4495b5f71d5ea50/expr.ipynb\"><img src=\"data:image/png;base64,iVBORw0KGgoAAAANSUhEUgAAAL4AAAAVBAMAAAAKgUmDAAAAMFBMVEX////c3NxmZmbMzMxERESY\n",
       "mJiIiIh2dna6urqqqqoyMjIiIiIQEBBUVFTu7u4AAAAiO1wTAAAAAXRSTlMAQObYZgAAAcNJREFU\n",
       "OMtjYKAJYM9tu4xTkiOBKDNYG3DL1fE6nISw+O5sQJe0JdKRyrilGrgCYEyuC+iS64g0nwuPHL8A\n",
       "nDUByngIpdmQg4etAE8AFaDpRAI2DAZQVv8DKGMalOZ5gKTO/idu8/kOoOmEA+YPVQwwy6sZ0FR1\n",
       "IavkPognEDyxmP9ISUlpAp/bpPQHfECWJgPD2rSrqKrUQU4rTzPAZqJ4rmQSIviK0MzHpovvCwO/\n",
       "AYqqpaDga+DagC1ECli38iAkZqGZj00X5z8GngIUVSeA5hxjYAnAlm0Y2D5wIpzYg2o+Vl1MCxj4\n",
       "FVDM/8HAwPsBIrcbDBwQ7mfgdUCOfFTzobpQAbcCQz/QUq1Vq/asWrUWaj6/A64o5UlANx+hE6su\n",
       "YPLXf4DifmDGlsdZQsgbMDzAFT5YdQEj9zhqLLkCBYE+CsCSv1gF8hnYEOZHoZqP0IUEeCcwXUA1\n",
       "H5jqeBUY2A2w5K/5AT4MYgy40idCF3KSu6aKlsq6QXkgLQ8lf3G6AIEfw5P052UBMA4Dwwo0nXBd\n",
       "WAG8fBAgsnzDXT5gBW3oxRbBSiQBTSeRgNjy+RWZlZsskeoukmk+I3H1I5sBEYoAd8xvz/JB+bsA\n",
       "AAAASUVORK5CYII=\n",
       "\" style=\"display:inline;vertical-align:middle;\" /></a></td></tr>\n",
       "<tr><td>3</td><td>Literal</td><td></td><td><a class=\"ProveItLink\" href=\"../../../../number/addition/__pv_it/3e6688136fa3c7aefbebe51301b7c3ebf0b69c440/expr.ipynb\"><img src=\"data:image/png;base64,iVBORw0KGgoAAAANSUhEUgAAAA4AAAAOBAMAAADtZjDiAAAAJFBMVEX///+6urpUVFQQEBAiIiIy\n",
       "MjJmZmaIiIiqqqrc3Nzu7u4AAACgHpL+AAAAAXRSTlMAQObYZgAAAB5JREFUCNdjYGBgWMkAAe2k\n",
       "0Kmhoc6hoUGk6BMHYgAHOwjcado9fwAAAABJRU5ErkJggg==\n",
       "\" style=\"display:inline;vertical-align:middle;\" /></a></td></tr>\n",
       "<tr><td>4</td><td>ExprTuple</td><td>5, 6, 7</td><td><a class=\"ProveItLink\" href=\"../d41795807df39969b34a8620c8c38773a357ccfc0/expr.ipynb\"><img src=\"data:image/png;base64,iVBORw0KGgoAAAANSUhEUgAAAJ0AAAAVBAMAAACu6/FQAAAAMFBMVEX////c3NwiIiJERESqqqqY\n",
       "mJh2dnZmZmYQEBDu7u4yMjJUVFTMzMyIiIi6uroAAAAs73DqAAAAAXRSTlMAQObYZgAAAb1JREFU\n",
       "OMtjYKAUsN1+uweZz3eBMvMyuQ1aoMw4EHGagXOHAgXmPeAKgDHZDwCJlQwMXBsocSC/AJy5gIGB\n",
       "F+hdfgd0NbwJxJt3guEAjBnGwMAxgYHh/QR0Nee/EGsaz4csBrjlMxgYXgGpJAxVTI1EGDW9vLzc\n",
       "gdPW/doETiCrBCjC7MBQBqRW390KUcGZdvcANp1it0WuoyYD7CrZChiWAuU+M/BDJE884MIW1ZwJ\n",
       "rKocqBLYVbIsYOgDkj8ZOMBBwNnLwByALcky8H5gQXEODpV8DQz/gMlmAQN/AYjL/QGSjJTAwACh\n",
       "m4HbAFUjVCVm5IDMYypgeA+2jN8AV9BzoGUiHCqB5rWAk189OMXI48x68gcYUNIUDpVA/5oygCKj\n",
       "DegnIAPoygAs6ZlV4D4DL9y8CSgqUQDrAoZ0YGA4sG9gmA+MLu4CBrYDWNKzf4AFgyw8MD8xIKtE\n",
       "Ty+PgCr2lgKT9kcgv+zuTZT0zGIMBJYMk69Nyw2AcTj7BZBVogCuBwwcsNz8kNgcxieAUwqY31hh\n",
       "IRVArHmsuKVyIeUVtczjBJZXDNLQEoro8gl3ec4NCglGCst7JHCHgQEADGlqOQrEAX8AAAAASUVO\n",
       "RK5CYII=\n",
       "\" style=\"display:inline;vertical-align:middle;\" /></a></td></tr>\n",
       "<tr><td>5</td><td>Variable</td><td></td><td><a class=\"ProveItLink\" href=\"../../../../__pv_it/6840a4fa6c106149dc16a131294d0c5e44f1b0480/expr.ipynb\"><img src=\"data:image/png;base64,iVBORw0KGgoAAAANSUhEUgAAAAkAAAAOBAMAAAAPuiubAAAALVBMVEX///9mZmbMzMxERESYmJiI\n",
       "iIh2dna6urqqqqoyMjIiIiIQEBBUVFTu7u4AAAD9S1JeAAAAAXRSTlMAQObYZgAAAE1JREFUCNdj\n",
       "4D29gAEIOA+ASL4GEFl3AURmgQiGOaFHGBh4HzPwKTBwvGXgTmBgnMDAJ8DAJcBQ5wBSLncBJLWN\n",
       "gYGngRFoBO9REQYGAGrcDtUkVqASAAAAAElFTkSuQmCC\n",
       "\" style=\"display:inline;vertical-align:middle;\" /></a></td></tr>\n",
       "<tr><td>6</td><td>Operation</td><td>operator:&nbsp;8<br>operands:&nbsp;10<br></td><td><a class=\"ProveItLink\" href=\"../30feb04d4e5ab7678596aee75f877763f8e622700/expr.ipynb\"><img src=\"data:image/png;base64,iVBORw0KGgoAAAANSUhEUgAAAEgAAAAMBAMAAAAzCuYOAAAAMFBMVEX///+qqqpmZmbc3NxUVFSY\n",
       "mJhEREQiIiIyMjK6uroQEBDMzMyIiIh2dnbu7u4AAAA4MM1YAAAAAXRSTlMAQObYZgAAAJJJREFU\n",
       "GNNjYICDswyEAfd/ASJUVRngluO7e2YDNnHbI4aHDsA4uyZwFGDTe4G1lAsmwbeGgS0AiyJeBp4P\n",
       "jDArWD6AKfVyEChDMomBJQHO4U/A5VguuIsY7A/gUmS/geEBzCSggwKwBCarwXkGHpgiFgUG3g1Y\n",
       "AlM+IIvBBs7TPXMOJTAZ04Agj+HZ2bd3AqAcAClSJy/zFmmxAAAAAElFTkSuQmCC\n",
       "\" style=\"display:inline;vertical-align:middle;\" /></a></td></tr>\n",
       "<tr><td>7</td><td>Operation</td><td>operator:&nbsp;9<br>operands:&nbsp;10<br></td><td><a class=\"ProveItLink\" href=\"../27e52d9f344aeada3c1ba711ccee55b17334f0a60/expr.ipynb\"><img src=\"data:image/png;base64,iVBORw0KGgoAAAANSUhEUgAAACgAAAAQBAMAAACW+SCeAAAAMFBMVEX///+qqqpmZmbc3NxUVFSY\n",
       "mJhEREQiIiIyMjK6uroQEBDMzMyIiIh2dnbu7u4AAAA4MM1YAAAAAXRSTlMAQObYZgAAAGxJREFU\n",
       "GNNjYEAA3iNzvBnQwT2WhIUYghM4AhgwAb8BFsFdDBvQhbg/3GC4gMR/pKSkJMCXI3T2AR+QpcjA\n",
       "wHf3zAZMgyZwFKCL8a1hYMNwCcsHbG5LwCJofwCbSqCBmGYqMPBiOkn3zDl0IQA9HBfo8g/qZwAA\n",
       "AABJRU5ErkJggg==\n",
       "\" style=\"display:inline;vertical-align:middle;\" /></a></td></tr>\n",
       "<tr><td>8</td><td>Literal</td><td></td><td><a class=\"ProveItLink\" href=\"../../../../number/division/__pv_it/089f5ca61fe425d4f6ef7efa2138c1a2fa47180c0/expr.ipynb\"><img src=\"data:image/png;base64,iVBORw0KGgoAAAANSUhEUgAAAA4AAAAMBAMAAACgrpHpAAAAIVBMVEX///9ERERmZmbc3NwQEBAi\n",
       "IiKqqqrMzMx2dnaIiIgAAACeyUhQAAAAAXRSTlMAQObYZgAAACJJREFUCNdjYGBgmMEABuyrEiCM\n",
       "EAMG3EA1FAQCsUlhMwcALk0GeoeEfOIAAAAASUVORK5CYII=\n",
       "\" style=\"display:inline;vertical-align:middle;\" /></a></td></tr>\n",
       "<tr><td>9</td><td>Literal</td><td></td><td><a class=\"ProveItLink\" href=\"../../../../number/exponentiation/__pv_it/deb2bf23cbccdd6e6791e1b35b5b9794ce12dbd50/expr.ipynb\"><img src=\"data:image/png;base64,iVBORw0KGgoAAAANSUhEUgAAACgAAAASBAMAAADbMYGVAAAAMFBMVEX///8QEBAiIiKYmJjc3Nzu\n",
       "7u7MzMx2dnZmZma6urpERESqqqoyMjJUVFSIiIgAAAAoDOMTAAAAAXRSTlMAQObYZgAAAOBJREFU\n",
       "GNNjYGB4+//u3Tt/GNAASGAXmhjnPyDBgSbI/g1IxKEJ8nxgYGdgQRPkX8BgDKRY6q7s62OYvmze\n",
       "2wAgb/7ZO1+AVDiDkYEQQ0HTBr4DQF59AgOIKmB4z7CNbcNZBu6vQN55kEACQwDDLQYGVobfDHwg\n",
       "fb8YGBxYHwAZciD3fWXg+gB1JjvQcJZvQIXsCgz8F6DO9GBgMOH7wPCUgaeBwd4B7EwGNjUG7s9c\n",
       "AiwPgO5jkWRgiF3/9+5dfQUG1nWl5Y+B7pv+1gE9bBhqGLCAE1jEWH9jEbT5A3IwAC4sP/1L6Qlu\n",
       "AAAAAElFTkSuQmCC\n",
       "\" style=\"display:inline;vertical-align:middle;\" /></a></td></tr>\n",
       "<tr><td>10</td><td>ExprTuple</td><td>11, 12</td><td><a class=\"ProveItLink\" href=\"../11ed2302eb9e212e10ffd1926afb085129a6aaa90/expr.ipynb\"><img src=\"data:image/png;base64,iVBORw0KGgoAAAANSUhEUgAAAEYAAAAVBAMAAAAJGoXuAAAAMFBMVEX////c3NwiIiJERESqqqqY\n",
       "mJh2dnZmZmYQEBDu7u4yMjJUVFTMzMyIiIi6uroAAAAs73DqAAAAAXRSTlMAQObYZgAAAPdJREFU\n",
       "KM9jYCAG8F3AK836AEicJmBGDRCvJKCGi4GB9wIBNawJDBwTCKjhbGB4RdBTJgxlIKVpdw8gi4rd\n",
       "FrmOcEI6w1IgeeIBlwKy6QmsqhwIAS+GPqBYLwNzAJIaNgbeDywIg18w/GNg4P6A5koGbgMk7nmQ\n",
       "Gn4DdGdyXEBR08LAII8RRPIHGCYg2WUKNAfomABOpFATuM/Ai1ATBfQZA3cBA9uB+QiP+AdYMMgy\n",
       "IPn9EZAsu3uTYcZHBgYWYyCwZJh8bVpuAIzDwLCOgUMAqvwh7rgARhkEBOBQw3YBkTZwqZkFxNIQ\n",
       "Ji+uKN0IxIz4ExDvAQYAENs19IilfwwAAAAASUVORK5CYII=\n",
       "\" style=\"display:inline;vertical-align:middle;\" /></a></td></tr>\n",
       "<tr><td>11</td><td>Variable</td><td></td><td><a class=\"ProveItLink\" href=\"../../../../__pv_it/cbdfda466482236edba0ce44ac7ef39cda0af7a40/expr.ipynb\"><img src=\"data:image/png;base64,iVBORw0KGgoAAAANSUhEUgAAAAkAAAAJBAMAAAASvxsjAAAALVBMVEX///9mZmbc3NxUVFSYmJhE\n",
       "REQiIiIyMjK6uroQEBDMzMyIiIh2dnbu7u4AAABgFDGoAAAAAXRSTlMAQObYZgAAADZJREFUCNdj\n",
       "YOA9s3sBA8PKBvYEBt7ZDKwODMwPGICALwBE6m0Asx0YGIDiAgw8QJUyu/cyAAAmuwmycZ8WfQAA\n",
       "AABJRU5ErkJggg==\n",
       "\" style=\"display:inline;vertical-align:middle;\" /></a></td></tr>\n",
       "<tr><td>12</td><td>Variable</td><td></td><td><a class=\"ProveItLink\" href=\"../5144cf74ae6a683b49b974f1b9302b432abf7e930/expr.ipynb\"><img src=\"data:image/png;base64,iVBORw0KGgoAAAANSUhEUgAAACUAAAAJBAMAAABH3vh9AAAAKlBMVEX////MzMwQEBAiIiKYmJhm\n",
       "ZmZUVFSIiIh2dnbc3Nzu7u5ERESqqqoAAABwkVEpAAAAAXRSTlMAQObYZgAAAEtJREFUCNdjYIAA\n",
       "zvbM4+EMqGAFg7ODMppYA0Mtw0E0sQUM2QyYQB1TiPMiAxeakCf7BYYqVCGeK9wKnAUw3undQLCA\n",
       "a3tXRwmMAwC3+RVNp6j0GAAAAABJRU5ErkJggg==\n",
       "\" style=\"display:inline;vertical-align:middle;\" /></a></td></tr>\n",
       "</table>\n"
      ],
      "text/plain": [
       "0. (a , b + (c / _x_) + c^{_x_})\n",
       "   core type: ExprTuple\n",
       "   sub-expressions: 1, 2\n",
       "1. a\n",
       "   core type: Variable\n",
       "   sub-expressions: \n",
       "2. b + (c / _x_) + c^{_x_}\n",
       "   core type: Operation\n",
       "   operator: 3\n",
       "   operands: 4\n",
       "3. +\n",
       "   core type: Literal\n",
       "   sub-expressions: \n",
       "4. (b , c / _x_ , c^{_x_})\n",
       "   core type: ExprTuple\n",
       "   sub-expressions: 5, 6, 7\n",
       "5. b\n",
       "   core type: Variable\n",
       "   sub-expressions: \n",
       "6. c / _x_\n",
       "   core type: Operation\n",
       "   operator: 8\n",
       "   operands: 10\n",
       "7. c^{_x_}\n",
       "   core type: Operation\n",
       "   operator: 9\n",
       "   operands: 10\n",
       "8. /\n",
       "   core type: Literal\n",
       "   sub-expressions: \n",
       "9. Exp\n",
       "   core type: Literal\n",
       "   sub-expressions: \n",
       "10. (c , _x_)\n",
       "    core type: ExprTuple\n",
       "    sub-expressions: 11, 12\n",
       "11. c\n",
       "    core type: Variable\n",
       "    sub-expressions: \n",
       "12. _x_\n",
       "    core type: Variable\n",
       "    sub-expressions: "
      ]
     },
     "execution_count": 4,
     "metadata": {},
     "output_type": "execute_result"
    }
   ],
   "source": [
    "# display the expression information\n",
    "expr.exprInfo()"
   ]
  },
  {
   "cell_type": "code",
   "execution_count": null,
   "metadata": {},
   "outputs": [],
   "source": []
  }
 ],
 "metadata": {
  "kernelspec": {
   "display_name": "Python 3",
   "language": "python",
   "name": "python3"
  }
 },
 "nbformat": 4,
 "nbformat_minor": 0
}
