{
 "cells": [
  {
   "cell_type": "markdown",
   "metadata": {},
   "source": [
    "Show the Proof\n",
    "========"
   ]
  },
  {
   "cell_type": "code",
   "execution_count": 1,
   "metadata": {},
   "outputs": [
    {
     "data": {
      "text/html": [
       "<table><tr><th>&nbsp;</th><th>step type</th><th>requirements</th><th>statement</th></tr>\n",
       "<tr><td>0</td><td>specialization</td><td>1</td><td><span style=\"font-size:20px;\"> <a class=\"ProveItLink\" href=\"proof.ipynb\" style=\"text-decoration: none\">&#x22A2;&nbsp;</a><a class=\"ProveItLink\" href=\"../7d4f9e39ad0bc2d78638e9818e9be68af33ad3f00/expr.ipynb\"><img src=\"data:image/png;base64,iVBORw0KGgoAAAANSUhEUgAAALkAAAAVCAMAAAAtrb/7AAAAPFBMVEX///8LCwsYGBgNDQ0oKCjc\n",
       "3NwiIiJERESqqqqYmJh2dnZmZmYQEBDu7u4yMjJUVFTMzMyIiIi6uroAAACIMCsmAAAAAXRSTlMA\n",
       "QObYZgAAAgBJREFUSMfVltlyhSAMhu2CrLK+/7uW1aMQFttOZ8pFf6fh5NMkhGzbf17WjO0Mtf+j\n",
       "9oe+Z1BoFWhRrcb7kXw9H0rs6YnrFVbX9wx6XS00qzzGP1S38MqClCvQru8ZtNpdQ6Masx5yvxwp\n",
       "qWNzYte3eVYrDTSqeBRy68r2Q8yJXd/iUchbaFA7ybrG99O6n4+YTInyqaHTIlqoV34mHSnDrKj7\n",
       "CNZVxRmjaPLHZ0TOZgaY2ZZ5A/UqaYlDcIDd6VzG9fkR/p6N4HAhBS5+DXkFLm9O69U1Tt/Nq1CQ\n",
       "2fEDQb2KXMbIBW8cj0NOYsUJlrDTMk+++X4udjN0mPWCoF5dfnMVv3yvzryt2i6Pn+xiyrSbtgTb\n",
       "6eLZADPb2gKgXov3mJHDVfeLrEpw5/Go0995c5jZLAjqVZCcOBPz4j1trxS/v6Uk41tj5alJXarl\n",
       "Ug+XzcV3++bJ0DA7fiCoV0zzKQhmJTeiByFPxyRV3EanrQ3TzpsnA8wEUgdAvZY2E4478Xlhgyr3\n",
       "GM/ialvsiu0OfTNATOguBKBe7X52VmM1NnYUcj/8GF4CKafjot3HBogJTlwtNGj/HiDDoC7d/uip\n",
       "YTY2Xm7/weS0D4cLtjA0dX2vjGsjaNLewDkJ+V9OuTU0K1LfCblaynfPd9+wrUCLIjjvw3Nj9BoL\n",
       "maeGBWjUL+eVHOmrMhLxAAAAAElFTkSuQmCC\n",
       "\" style=\"display:inline;vertical-align:middle;\" /></a></span></td></tr>\n",
       "<tr><td>&nbsp;</td><td colspan=4 style=\"text-align:left\"><span style=\"font-size:20px;\"><a class=\"ProveItLink\" href=\"../../../../__pv_it/530be409e3083890784cf1d7b28c9e67e90af9360/expr.ipynb\"><img src=\"data:image/png;base64,iVBORw0KGgoAAAANSUhEUgAAAAsAAAAJBAMAAAAWSsseAAAAKlBMVEX///9ERETMzMwQEBAiIiKY\n",
       "mJju7u5mZmaqqqpUVFSIiIh2dnbc3NwAAAA/vyDhAAAAAXRSTlMAQObYZgAAAENJREFUCNdjYDi9\n",
       "8sTyBQxsG1hdmR0YuBm4LnAoMLAxcAowgADzAjB1VoEhgYH1wFoGrgSG3gBhhlMMDImrs3cFMAAA\n",
       "t0YN+iTRa+sAAAAASUVORK5CYII=\n",
       "\" style=\"display:inline;vertical-align:middle;\" /></a> : <a class=\"ProveItLink\" href=\"../../../../__pv_it/07527342713064c87612d00d8557c53d53d5324a0/expr.ipynb\"><img src=\"data:image/png;base64,iVBORw0KGgoAAAANSUhEUgAAAAsAAAAJBAMAAAAWSsseAAAAMFBMVEX///8yMjKqqqrMzMzu7u4i\n",
       "IiJmZmaYmJhEREQQEBC6urp2dnaIiIhUVFTc3NwAAAD87Fq/AAAAAXRSTlMAQObYZgAAAEhJREFU\n",
       "CNdjYOC7s2seAwPDygccHxgY+L4zsDUwMPB+YGA9wMDA38Dgb8DA8P4Agz6DA4O/AsNFJgMGxgKm\n",
       "MG6gyjunLE4xAAAZTBA5TB6DCwAAAABJRU5ErkJggg==\n",
       "\" style=\"display:inline;vertical-align:middle;\" /></a>, <a class=\"ProveItLink\" href=\"../../../../__pv_it/f8b9edf8e16034727f0aad55bb83e392c3db40d40/expr.ipynb\"><img src=\"data:image/png;base64,iVBORw0KGgoAAAANSUhEUgAAAAsAAAANBAMAAACN24kIAAAAMFBMVEX///+YmJhUVFQyMjIQEBBE\n",
       "REQiIiKqqqrMzMyIiIi6urrc3NxmZmZ2dnbu7u4AAADXeCicAAAAAXRSTlMAQObYZgAAAFhJREFU\n",
       "CNdj4LtzgWH/AwZerg8M8xkY2nkSGEIZGB6wTGD4ycDAUP+A4weQOszA6QCkbBhYFYDUIYb1AkDq\n",
       "6czzGxhA4BoQMyXwuQMptgusF4AU+8xTQBIAUqMVoSp/SLMAAAAASUVORK5CYII=\n",
       "\" style=\"display:inline;vertical-align:middle;\" /></a> : <a class=\"ProveItLink\" href=\"../../../../__pv_it/6840a4fa6c106149dc16a131294d0c5e44f1b0480/expr.ipynb\"><img src=\"data:image/png;base64,iVBORw0KGgoAAAANSUhEUgAAAAkAAAAOBAMAAAAPuiubAAAALVBMVEX///9mZmbMzMxERESYmJiI\n",
       "iIh2dna6urqqqqoyMjIiIiIQEBBUVFTu7u4AAAD9S1JeAAAAAXRSTlMAQObYZgAAAE1JREFUCNdj\n",
       "4D29gAEIOA+ASL4GEFl3AURmgQiGOaFHGBh4HzPwKTBwvGXgTmBgnMDAJ8DAJcBQ5wBSLncBJLWN\n",
       "gYGngRFoBO9REQYGAGrcDtUkVqASAAAAAElFTkSuQmCC\n",
       "\" style=\"display:inline;vertical-align:middle;\" /></a></span></td></tr><tr><td>1</td><td>axiom</td><td></td><td><span style=\"font-size:20px;\"> <a class=\"ProveItLink\" href=\"../../_axioms_.ipynb#notEqualsDef\" style=\"text-decoration: none\">&#x22A2;&nbsp;</a><a class=\"ProveItLink\" href=\"../c5793376bd5f3ed65f46b9bf759589707c82e7920/expr.ipynb\"><img src=\"data:image/png;base64,iVBORw0KGgoAAAANSUhEUgAAAP8AAAAWCAMAAAA4nbqyAAAAPFBMVEX///8LCwsYGBgNDQ0oKCgQ\n",
       "EBC6urrMzMxUVFRmZmZERETc3NwyMjKqqqp2dnaIiIiYmJgiIiLu7u4AAACwKje0AAAAAXRSTlMA\n",
       "QObYZgAAArlJREFUWMPlWNuy2yAMpD3lYjD3///XAjE5FhZYznT60OohO7GI1qCVgDD2n1v64DfC\n",
       "Q5yZM9jTIJ6x0B1r67wQ47efGlYqiDMzO/58k09Y6I4767wAne3unSqFPvDuB2qW6P0JC91xHxJB\n",
       "o3u2NDGK9xCfpr8ozdFZ6A5CBTgE+3JulhiFJ4iP088Sp7PQHYRexxEMzjSL1Oa3Q5zW70JP2lJZ\n",
       "6A6KdV6AWVeLjtpFHETjvDLWb6MsNehyybXxJrfsuY3KMnXMaMeUo7wAVXtRbahNJABMJXyIgfGu\n",
       "n21v9uurfr5btWMi1+LN7Zv9TuIx/GXqwjKjv9BOAuG8AEUdnMiy4gKgO6JbuUq/tGyrb6pfRSE4\n",
       "kWWLb3Mk2rEIcV6IdYAP1PlnAbDqSl1LXajxlMWrUvNLrjJTWS67/poWOd1hvBDr3GP6cP4tJ9ci\n",
       "3MdysrUCZZZ/aP4T2quhvBCL9nv00lSEV7KfMzWy33ALsTYXeTpIN8n+/PESrT7VeV3pQX9Q4efh\n",
       "3E7mP6OdBUJ5B9Tm2KtdqqI6KJJn2TA5lqoOAIN5NReflulne221+phEuO02Okzmv6TF+iXGO6Dd\n",
       "ji4qzo3XJFEe+7HI4B5ic2C6LJHxi+pveSiPRA4wxuLqdBkh72nR/RLjHfFUSfmUOVW6rBoZRDxj\n",
       "0t4l54b2eU1/Hei3Hny/vQKKuHTgtGgHxHhHDG8VVbnL8ybELxsMNxCRnjNJr4sPzr/mqWMhprg4\n",
       "/54llpnb295qWgbL3EW+vUVcDdlMVKx0tndZ+l3lo8vTDe+IJ63YrQirrkRVllVe78/vv1j66/FF\n",
       "H2+e/uL9F+MdEV/mIgKDlH9tjAoiIf3MlirsRa9ICp5FnzvQXCC8I6IHR9PWDb9t9a476b43zc1L\n",
       "2qtPe7v57B+AzjviLP117Rz7x+03cmkoGF9quhUAAAAASUVORK5CYII=\n",
       "\" style=\"display:inline;vertical-align:middle;\" /></a></span></td></tr>\n",
       "<tr><td>&nbsp;</td><td colspan=4 style-\"text-align:left\"><a class=\"ProveItLink\" href=\"../../_axioms_.ipynb#notEqualsDef\">proveit.logic.equality.notEqualsDef</a></td></tr></table>"
      ],
      "text/plain": [
       "<proveit._core_.proof._ShowProof at 0x7f94eab91f60>"
      ]
     },
     "execution_count": 1,
     "metadata": {},
     "output_type": "execute_result"
    }
   ],
   "source": [
    "import proveit\n",
    "%show_proof"
   ]
  },
  {
   "cell_type": "code",
   "execution_count": null,
   "metadata": {},
   "outputs": [],
   "source": []
  }
 ],
 "metadata": {
  "kernelspec": {
   "display_name": "Python 3",
   "language": "python",
   "name": "python3"
  }
 },
 "nbformat": 4,
 "nbformat_minor": 0
}
