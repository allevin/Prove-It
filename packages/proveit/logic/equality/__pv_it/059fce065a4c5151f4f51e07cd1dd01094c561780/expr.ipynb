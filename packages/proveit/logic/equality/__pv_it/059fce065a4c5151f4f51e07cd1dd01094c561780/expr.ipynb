{
 "cells": [
  {
   "cell_type": "markdown",
   "metadata": {},
   "source": [
    "Expression of type <a class=\"ProveItLink\" href=\"../../../../../../doc/html/api/proveit.ExprTuple.html\">ExprTuple</a>\n",
    "=======================\n",
    "# from context <a class=\"ProveItLink\" href=\"../../_context_.ipynb\">proveit.logic.equality</a>"
   ]
  },
  {
   "cell_type": "code",
   "execution_count": 1,
   "metadata": {},
   "outputs": [],
   "source": [
    "# import Expression classes needed to build the expression\n",
    "from proveit import ExprTuple\n",
    "from proveit._common_ import a, c, fa, x\n",
    "from proveit.logic import Equals"
   ]
  },
  {
   "cell_type": "code",
   "execution_count": 2,
   "metadata": {},
   "outputs": [
    {
     "data": {
      "text/html": [
       "<strong id=\"expr\">expr:</strong> <a class=\"ProveItLink\" href=\"expr.ipynb\"><img src=\"data:image/png;base64,iVBORw0KGgoAAAANSUhEUgAAAJcAAAAVBAMAAAC5yWGZAAAAMFBMVEX////c3NwiIiJERESqqqqY\n",
       "mJh2dnZmZmYQEBDu7u4yMjJUVFTMzMyIiIi6uroAAAAs73DqAAAAAXRSTlMAQObYZgAAAdRJREFU\n",
       "OMutlL9LAmEYxx+7Oz29TIdoifAIovUWodH/oJtagnCInAxpcK5oTYIg3M7FwSabgkA4aAlanIp+\n",
       "aOZULdngVtL7Pt7rXe+9eQa9w/s+ft4vj8+vewH+dc00/6rcEN4ivQ72Em2ceZURWyRCWgt2Jm32\n",
       "wausCFWExifI0nrNgFe5JlQRqh4FO1vF3VWWhSpC3yao/A7urlLKCIuRgSI55h5mb/lsQ43tPcdc\n",
       "3z+nR3FEwwW+Q1stm9IqMbPKkqrThpziqtP7l6TUY9ov3KsjKlc48VUnplNaIn8E8Z7MtTvUh4jB\n",
       "7E88SiM6s8sFdgiSSemA2KAZfAG0HkyxzOVhiIMRne75xIB0gI3yzUfCAIsFG9aZM4fyzhKG4+yA\n",
       "nikbaN8ji7joVapJBsKZBQnrQpUOxTR/igGTTwMoySeIc+NmZeBCtqPgiTvNKCjcJ5AwAUxKc2Qm\n",
       "zRVY4NKMmfJyGCxM0OogyjHqGw2tAGEcjS7A8c1J3vSNWfuyDeUPar8Po+4yCrEOpy627pCqyXGz\n",
       "/0y3+6HtKn/9nJTsOGckYKWeHtquMi/U5oOeIOJMrenOD6aMCp8gpPNjfMVpQDmWHlNqwsogDU38\n",
       "bDPlo/CW0G8SGomm2+IhEAAAAABJRU5ErkJggg==\n",
       "\" style=\"display:inline;vertical-align:middle;\" /></a><br>"
      ],
      "text/plain": [
       "expr: (x = a , f(a) = c)"
      ]
     },
     "execution_count": 2,
     "metadata": {},
     "output_type": "execute_result"
    }
   ],
   "source": [
    "# build up the expression from sub-expressions\n",
    "expr = ExprTuple(Equals(x, a), Equals(fa, c))"
   ]
  },
  {
   "cell_type": "code",
   "execution_count": 3,
   "metadata": {},
   "outputs": [
    {
     "name": "stdout",
     "output_type": "stream",
     "text": [
      "Passed sanity check: built 'expr' is the same as the stored Expression.\n"
     ]
    }
   ],
   "source": [
    "# check that the built expression is the same as the stored expression\n",
    "%check_expr"
   ]
  },
  {
   "cell_type": "code",
   "execution_count": 4,
   "metadata": {},
   "outputs": [
    {
     "data": {
      "text/html": [
       "<table><tr><th>&nbsp;</th><th>core type</th><th>sub-expressions</th><th>expression</th></tr>\n",
       "<tr><td>0</td><td>ExprTuple</td><td>1, 2</td><td><a class=\"ProveItLink\" href=\"expr.ipynb\"><img src=\"data:image/png;base64,iVBORw0KGgoAAAANSUhEUgAAAJcAAAAVBAMAAAC5yWGZAAAAMFBMVEX////c3NwiIiJERESqqqqY\n",
       "mJh2dnZmZmYQEBDu7u4yMjJUVFTMzMyIiIi6uroAAAAs73DqAAAAAXRSTlMAQObYZgAAAdRJREFU\n",
       "OMutlL9LAmEYxx+7Oz29TIdoifAIovUWodH/oJtagnCInAxpcK5oTYIg3M7FwSabgkA4aAlanIp+\n",
       "aOZULdngVtL7Pt7rXe+9eQa9w/s+ft4vj8+vewH+dc00/6rcEN4ivQ72Em2ceZURWyRCWgt2Jm32\n",
       "wausCFWExifI0nrNgFe5JlQRqh4FO1vF3VWWhSpC3yao/A7urlLKCIuRgSI55h5mb/lsQ43tPcdc\n",
       "3z+nR3FEwwW+Q1stm9IqMbPKkqrThpziqtP7l6TUY9ov3KsjKlc48VUnplNaIn8E8Z7MtTvUh4jB\n",
       "7E88SiM6s8sFdgiSSemA2KAZfAG0HkyxzOVhiIMRne75xIB0gI3yzUfCAIsFG9aZM4fyzhKG4+yA\n",
       "nikbaN8ji7joVapJBsKZBQnrQpUOxTR/igGTTwMoySeIc+NmZeBCtqPgiTvNKCjcJ5AwAUxKc2Qm\n",
       "zRVY4NKMmfJyGCxM0OogyjHqGw2tAGEcjS7A8c1J3vSNWfuyDeUPar8Po+4yCrEOpy627pCqyXGz\n",
       "/0y3+6HtKn/9nJTsOGckYKWeHtquMi/U5oOeIOJMrenOD6aMCp8gpPNjfMVpQDmWHlNqwsogDU38\n",
       "bDPlo/CW0G8SGomm2+IhEAAAAABJRU5ErkJggg==\n",
       "\" style=\"display:inline;vertical-align:middle;\" /></a></td></tr>\n",
       "<tr><td>1</td><td>Operation</td><td>operator:&nbsp;4<br>operands:&nbsp;3<br></td><td><a class=\"ProveItLink\" href=\"../6dea2645e542749e41bfbd618b8b200d676e71760/expr.ipynb\"><img src=\"data:image/png;base64,iVBORw0KGgoAAAANSUhEUgAAADMAAAAJBAMAAABtbgnSAAAAMFBMVEX///+6uroyMjJERETMzMwQ\n",
       "EBAiIiKYmJju7u5mZmaqqqpUVFSIiIh2dnbc3NwAAAAWgogoAAAAAXRSTlMAQObYZgAAAIxJREFU\n",
       "CNdjYHh7+tXJAwyogG/PxTgGBo4L7OmsCUAupxIYbABJiT5g/sDAwMvA84HLAU3TdwZOA6AuBm4D\n",
       "NOMYuD8wsIHtYEW3iYHfgKEfbNB7B4YGkF1pYAAy4v0BhvVAMfYH5xl4GlB19S9g2AS0f32BKcMb\n",
       "NAOZCrgyeRkYms/23inA8NZB54MMAP+8JiaIm5EsAAAAAElFTkSuQmCC\n",
       "\" style=\"display:inline;vertical-align:middle;\" /></a></td></tr>\n",
       "<tr><td>2</td><td>Operation</td><td>operator:&nbsp;4<br>operands:&nbsp;5<br></td><td><a class=\"ProveItLink\" href=\"../ff1184969c9120e8a134053cf3d49961a24f3afb0/expr.ipynb\"><img src=\"data:image/png;base64,iVBORw0KGgoAAAANSUhEUgAAAE8AAAAVBAMAAAD1D64kAAAAMFBMVEX///8yMjLMzMwQEBAiIiJm\n",
       "Zma6urqYmJiqqqp2dnZERETc3NyIiIhUVFTu7u4AAAAe+HC4AAAAAXRSTlMAQObYZgAAAThJREFU\n",
       "KM9jYCAd5EAo9gScKt6e3QAkmS5AuUE4Fa7sLwCSjA+gXEZc6vi+vQBRZ2B89gk4FHJ8AFN2cI0G\n",
       "OBSyOoBINgG4wArs6tgv+waAlIMs3HsyGeivqRiOm3lGAUjxHwB7AeghNmuG9UBmI9geQTAAB4Vy\n",
       "AiPI1v0g1QzMwODbX8AQBWQmoxtow8AFCpd+MI8fqPA+A4MPkKmPppAX4luGKXCFvxj4PmFRyL8A\n",
       "Qq8Fk8wNDNx/gEHFB7Wa1QUMQGr2H4AotAGTQFfw/WDgFWhiYChENxHowAJQxIB5nMAwEmdoCZiA\n",
       "GTy8AQycQA+z/QPz2IABsPdM0hqgU8XQwzHyzDkgyQONEmsCUVgLDiIgqISJcB7AqtDwCSx1wZLZ\n",
       "Q+xRXRkNZXDDEu5tQllhD4TiUcAqCwCXf0G8NATSkAAAAABJRU5ErkJggg==\n",
       "\" style=\"display:inline;vertical-align:middle;\" /></a></td></tr>\n",
       "<tr><td>3</td><td>ExprTuple</td><td>6, 10</td><td><a class=\"ProveItLink\" href=\"../efb09e4d8e1c9868a69968849f96fedd4b9898530/expr.ipynb\"><img src=\"data:image/png;base64,iVBORw0KGgoAAAANSUhEUgAAACwAAAAVBAMAAADP3xFXAAAAMFBMVEX////c3NwiIiJERESqqqqY\n",
       "mJh2dnZmZmYQEBDu7u4yMjJUVFTMzMyIiIi6uroAAAAs73DqAAAAAXRSTlMAQObYZgAAAPlJREFU\n",
       "GNNjYMAB+C6gi7A+ABKnMVXWAPFKTGEuBgbeC5jCrAkMHBMwhTkbGF5hc4YJQxmQFLstch1qlvS1\n",
       "FwIMDOkMS4F6ElhVORQgrm1ksAdSXgx9DAxsDLwfWA6AheUDGIqB1AuGf0DVDNwGUEP3MzDoAqnz\n",
       "IGEGBg6YKz8zcP4BC7eA9R5gALuT8S8DywdOkCGmQNcL3GfgnQCS4PzCwL3Ah4EhCugWBv8ACwZZ\n",
       "Bs5PQOVLGZwKEkAOfMTAMPnatNwABs5+oIOl776xBYbfOgYOAXgICyB5HhgssACC+53tAlLAIoRn\n",
       "gUIBxkGE8EaQWzECnPcAAwAu5TdGkZhCTQAAAABJRU5ErkJggg==\n",
       "\" style=\"display:inline;vertical-align:middle;\" /></a></td></tr>\n",
       "<tr><td>4</td><td>Literal</td><td></td><td><a class=\"ProveItLink\" href=\"../2fb26078095930560931daa0500ce419a39ea6cd0/expr.ipynb\"><img src=\"data:image/png;base64,iVBORw0KGgoAAAANSUhEUgAAAA4AAAAFBAMAAACHocAhAAAAFVBMVEX///9EREQiIiJUVFQyMjJm\n",
       "ZmYAAADubVkoAAAAAXRSTlMAQObYZgAAABRJREFUCNdjCHEBAWcGXCBICQQUAUpuAwlgGKrkAAAA\n",
       "AElFTkSuQmCC\n",
       "\" style=\"display:inline;vertical-align:middle;\" /></a></td></tr>\n",
       "<tr><td>5</td><td>ExprTuple</td><td>7, 8</td><td><a class=\"ProveItLink\" href=\"../d53b4c9dd863461b2968bbd0bdd934a22b27d2260/expr.ipynb\"><img src=\"data:image/png;base64,iVBORw0KGgoAAAANSUhEUgAAAE0AAAAVBAMAAADx+n4ZAAAAMFBMVEX////c3NwiIiJERESqqqqY\n",
       "mJh2dnZmZmYQEBDu7u4yMjJUVFTMzMyIiIi6uroAAAAs73DqAAAAAXRSTlMAQObYZgAAAWxJREFU\n",
       "KM+Nkq1Pw1AUxW/px9aVwfzE5rAz8/0PqMKQEARhCrIg0ECwkMm5ziDqhiIhWdIEQ4KZhbBlTMEM\n",
       "RcwB4d7TvtIXDFe8d36vp+/jvEf031ob/9U7ugX4II07us41VynWfMBIlLm3JKWlBvqEjFUsFb75\n",
       "pLTUlu5jLPdEbAJTLdXXfYwLiCO0i/yD6Ws+xmPpt89upBNtjA5PiZyusrj7k1jwCvSFVvRrzUyI\n",
       "rPwg97NKU/BSwPjEGGtjSaUWB3miprsgMxD8FrISDLL2ElrhU68mmc+DYITPaSrfeovCuOBjTn3n\n",
       "OM8Qg6wbY86o97tuA5EythFcGjDr0KdbKyZbzuHKfAFRINjBdczgY10JrA0nyyXk3XhdcpDLXAzv\n",
       "6UXMJb7p3ZTt8mP/QzKdPALLNYandDPQhXt7KaC9S/awnSLrrA7QBkWMqBw1M1bvyh1oPmCd7I5a\n",
       "r67SxUCVimgU3r3Sz/qzYvwB5mxhHcF7dQEAAAAASUVORK5CYII=\n",
       "\" style=\"display:inline;vertical-align:middle;\" /></a></td></tr>\n",
       "<tr><td>6</td><td>Variable</td><td></td><td><a class=\"ProveItLink\" href=\"../../../../__pv_it/530be409e3083890784cf1d7b28c9e67e90af9360/expr.ipynb\"><img src=\"data:image/png;base64,iVBORw0KGgoAAAANSUhEUgAAAAsAAAAJBAMAAAAWSsseAAAAKlBMVEX///9ERETMzMwQEBAiIiKY\n",
       "mJju7u5mZmaqqqpUVFSIiIh2dnbc3NwAAAA/vyDhAAAAAXRSTlMAQObYZgAAAENJREFUCNdjYDi9\n",
       "8sTyBQxsG1hdmR0YuBm4LnAoMLAxcAowgADzAjB1VoEhgYH1wFoGrgSG3gBhhlMMDImrs3cFMAAA\n",
       "t0YN+iTRa+sAAAAASUVORK5CYII=\n",
       "\" style=\"display:inline;vertical-align:middle;\" /></a></td></tr>\n",
       "<tr><td>7</td><td>Operation</td><td>operator:&nbsp;9<br>operand:&nbsp;10<br></td><td><a class=\"ProveItLink\" href=\"../../../../__pv_it/b355ea011214ada747c96f8eafea017ed3008cb70/expr.ipynb\"><img src=\"data:image/png;base64,iVBORw0KGgoAAAANSUhEUgAAACgAAAAVBAMAAADGNLEtAAAAMFBMVEX///8yMjLMzMwQEBAiIiJm\n",
       "Zma6urqYmJiqqqp2dnZERETc3NyIiIhUVFTu7u4AAAAe+HC4AAAAAXRSTlMAQObYZgAAAPZJREFU\n",
       "GNNjYMAPciAUewKYent2A5BkugCVDAKTK/sLgCTjA6ggI4jg+/YCRJ2BGcM+AUhwfACz7WCCfAZA\n",
       "gtUBxGQTgNu4Aqj6sm8ASAqkae/JZKCdU4Es/gNg44GWsVkzrAcyG4F4vwJIkBnovP0FDFFAZjIQ\n",
       "94MN4gcK3mdg8AEy9YF4ClzwFwPfJ6jgWrAgcwMD9x+g8/gg2m3AglwFDHw/GHgFmhgYCkEeAgty\n",
       "At0lztASMAHsJLZ/YEE2oBf2nklaAzRajIGBB+oVayRv1nIVQNiVMEHOAwyGT2AhBgu6h0AF0VA2\n",
       "NyyQbyNHxx4IxaPAAACpYzSWxz2JTwAAAABJRU5ErkJggg==\n",
       "\" style=\"display:inline;vertical-align:middle;\" /></a></td></tr>\n",
       "<tr><td>8</td><td>Variable</td><td></td><td><a class=\"ProveItLink\" href=\"../../../../__pv_it/cbdfda466482236edba0ce44ac7ef39cda0af7a40/expr.ipynb\"><img src=\"data:image/png;base64,iVBORw0KGgoAAAANSUhEUgAAAAkAAAAJBAMAAAASvxsjAAAALVBMVEX///9mZmbc3NxUVFSYmJhE\n",
       "REQiIiIyMjK6uroQEBDMzMyIiIh2dnbu7u4AAABgFDGoAAAAAXRSTlMAQObYZgAAADZJREFUCNdj\n",
       "YOA9s3sBA8PKBvYEBt7ZDKwODMwPGICALwBE6m0Asx0YGIDiAgw8QJUyu/cyAAAmuwmycZ8WfQAA\n",
       "AABJRU5ErkJggg==\n",
       "\" style=\"display:inline;vertical-align:middle;\" /></a></td></tr>\n",
       "<tr><td>9</td><td>Variable</td><td></td><td><a class=\"ProveItLink\" href=\"../../../../__pv_it/4d51ee1e62d011d06d4528b97697bf3da60c9de60/expr.ipynb\"><img src=\"data:image/png;base64,iVBORw0KGgoAAAANSUhEUgAAAAsAAAASBAMAAAB/WzlGAAAAMFBMVEX///8yMjLMzMwQEBAiIiJm\n",
       "Zma6urqYmJiqqqp2dnZERETc3NyIiIhUVFTu7u4AAAAe+HC4AAAAAXRSTlMAQObYZgAAAFVJREFU\n",
       "CNdjYGBgeHt2A5BkWNlfACT5vr0AcTg+gEgGVgcQyX7ZNwBE8x8AC+5XAFP9YJJhCoRaC6FswCTf\n",
       "NzDF9g9M8QiAyFoukPEMhk/AYpXRIBIAEwsRcZ82juYAAAAASUVORK5CYII=\n",
       "\" style=\"display:inline;vertical-align:middle;\" /></a></td></tr>\n",
       "<tr><td>10</td><td>Variable</td><td></td><td><a class=\"ProveItLink\" href=\"../../../../__pv_it/07527342713064c87612d00d8557c53d53d5324a0/expr.ipynb\"><img src=\"data:image/png;base64,iVBORw0KGgoAAAANSUhEUgAAAAsAAAAJBAMAAAAWSsseAAAAMFBMVEX///8yMjKqqqrMzMzu7u4i\n",
       "IiJmZmaYmJhEREQQEBC6urp2dnaIiIhUVFTc3NwAAAD87Fq/AAAAAXRSTlMAQObYZgAAAEhJREFU\n",
       "CNdjYOC7s2seAwPDygccHxgY+L4zsDUwMPB+YGA9wMDA38Dgb8DA8P4Agz6DA4O/AsNFJgMGxgKm\n",
       "MG6gyjunLE4xAAAZTBA5TB6DCwAAAABJRU5ErkJggg==\n",
       "\" style=\"display:inline;vertical-align:middle;\" /></a></td></tr>\n",
       "</table>\n"
      ],
      "text/plain": [
       "0. (x = a , f(a) = c)\n",
       "   core type: ExprTuple\n",
       "   sub-expressions: 1, 2\n",
       "1. x = a\n",
       "   core type: Operation\n",
       "   operator: 4\n",
       "   operands: 3\n",
       "2. f(a) = c\n",
       "   core type: Operation\n",
       "   operator: 4\n",
       "   operands: 5\n",
       "3. (x , a)\n",
       "   core type: ExprTuple\n",
       "   sub-expressions: 6, 10\n",
       "4. =\n",
       "   core type: Literal\n",
       "   sub-expressions: \n",
       "5. (f(a) , c)\n",
       "   core type: ExprTuple\n",
       "   sub-expressions: 7, 8\n",
       "6. x\n",
       "   core type: Variable\n",
       "   sub-expressions: \n",
       "7. f(a)\n",
       "   core type: Operation\n",
       "   operator: 9\n",
       "   operand: 10\n",
       "8. c\n",
       "   core type: Variable\n",
       "   sub-expressions: \n",
       "9. f\n",
       "   core type: Variable\n",
       "   sub-expressions: \n",
       "10. a\n",
       "    core type: Variable\n",
       "    sub-expressions: "
      ]
     },
     "execution_count": 4,
     "metadata": {},
     "output_type": "execute_result"
    }
   ],
   "source": [
    "# display the expression information\n",
    "expr.exprInfo()"
   ]
  },
  {
   "cell_type": "code",
   "execution_count": null,
   "metadata": {},
   "outputs": [],
   "source": []
  }
 ],
 "metadata": {
  "kernelspec": {
   "display_name": "Python 3",
   "language": "python",
   "name": "python3"
  }
 },
 "nbformat": 4,
 "nbformat_minor": 0
}
