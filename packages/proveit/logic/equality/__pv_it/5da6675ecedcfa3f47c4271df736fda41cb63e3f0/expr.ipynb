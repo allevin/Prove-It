{
 "cells": [
  {
   "cell_type": "markdown",
   "metadata": {},
   "source": [
    "Expression of type <a class=\"ProveItLink\" href=\"../../../../../../doc/html/api/proveit.ExprTuple.html\">ExprTuple</a>\n",
    "=======================\n",
    "# from context <a class=\"ProveItLink\" href=\"../../_context_.ipynb\">proveit.logic.equality</a>"
   ]
  },
  {
   "cell_type": "code",
   "execution_count": 1,
   "metadata": {},
   "outputs": [],
   "source": [
    "# import Expression classes needed to build the expression\n",
    "from proveit import ExprTuple\n",
    "from proveit._common_ import a, b, x, y\n",
    "from proveit.logic import Equals"
   ]
  },
  {
   "cell_type": "code",
   "execution_count": 2,
   "metadata": {},
   "outputs": [
    {
     "data": {
      "text/html": [
       "<strong id=\"expr\">expr:</strong> <a class=\"ProveItLink\" href=\"expr.ipynb\"><img src=\"data:image/png;base64,iVBORw0KGgoAAAANSUhEUgAAAHcAAAAVBAMAAACOK2zoAAAAMFBMVEX////c3NwiIiJERESqqqqY\n",
       "mJh2dnZmZmYQEBDu7u4yMjJUVFTMzMyIiIi6uroAAAAs73DqAAAAAXRSTlMAQObYZgAAAaVJREFU\n",
       "OMulVLFKw1AUPW3SJjFNk0FcRFoUcS2I4Jg/aCZHCS6dKkXQoYKtUBwlIEi3ZhHRLl0EEQoB3Vw6\n",
       "6aBt1UlcGhEHQcV3E0GalorxDTc3nJz7zjv3vgD/WslWON4yhcu/86TTNCA4LDsKsetYgwUbUMKo\n",
       "VnUWlgDRCkHuEakKPIUxa4UCp2ODPSZuxq+D6iPN1W3fnZyJVEBevX0CxAs4YLAZmxWZfxCOvUVu\n",
       "4FHjXO/DeNJFl5KiB9ap3gtUB7yNXQZDcXknsPErhIyXXQhpzPeD/BtEE8kyPlkhyJngqWQXUf8k\n",
       "ltjCRz8o2FALSLhEZpYP9EvNoPYtJmsl3vvBaAE9g8gVeks5IEuEaW+RjFQLWfg2FaGU6bnmgTN+\n",
       "m0sWyV4AYloXSsDPmo4z3pEoPQTXCMhysMNoNnJMl7GIqeAAGvxcHDXqwSZp7DdEFxpeqx6Avav9\n",
       "vDHQ5s55B9Vnlu61S1rgYjTXqf4dRG3UKN3/DNTAYuMZM0eRmSA5LVWGYvnfriQjR01uaH2JXUlM\n",
       "juAqNE7traGYTOeNhPwN3QJfoZpnxEfjwg4AAAAASUVORK5CYII=\n",
       "\" style=\"display:inline;vertical-align:middle;\" /></a><br>"
      ],
      "text/plain": [
       "expr: (x = a , y = b)"
      ]
     },
     "execution_count": 2,
     "metadata": {},
     "output_type": "execute_result"
    }
   ],
   "source": [
    "# build up the expression from sub-expressions\n",
    "expr = ExprTuple(Equals(x, a), Equals(y, b))"
   ]
  },
  {
   "cell_type": "code",
   "execution_count": 3,
   "metadata": {},
   "outputs": [
    {
     "name": "stdout",
     "output_type": "stream",
     "text": [
      "Passed sanity check: built 'expr' is the same as the stored Expression.\n"
     ]
    }
   ],
   "source": [
    "# check that the built expression is the same as the stored expression\n",
    "%check_expr"
   ]
  },
  {
   "cell_type": "code",
   "execution_count": 4,
   "metadata": {},
   "outputs": [
    {
     "data": {
      "text/html": [
       "<table><tr><th>&nbsp;</th><th>core type</th><th>sub-expressions</th><th>expression</th></tr>\n",
       "<tr><td>0</td><td>ExprTuple</td><td>1, 2</td><td><a class=\"ProveItLink\" href=\"expr.ipynb\"><img src=\"data:image/png;base64,iVBORw0KGgoAAAANSUhEUgAAAHcAAAAVBAMAAACOK2zoAAAAMFBMVEX////c3NwiIiJERESqqqqY\n",
       "mJh2dnZmZmYQEBDu7u4yMjJUVFTMzMyIiIi6uroAAAAs73DqAAAAAXRSTlMAQObYZgAAAaVJREFU\n",
       "OMulVLFKw1AUPW3SJjFNk0FcRFoUcS2I4Jg/aCZHCS6dKkXQoYKtUBwlIEi3ZhHRLl0EEQoB3Vw6\n",
       "6aBt1UlcGhEHQcV3E0GalorxDTc3nJz7zjv3vgD/WslWON4yhcu/86TTNCA4LDsKsetYgwUbUMKo\n",
       "VnUWlgDRCkHuEakKPIUxa4UCp2ODPSZuxq+D6iPN1W3fnZyJVEBevX0CxAs4YLAZmxWZfxCOvUVu\n",
       "4FHjXO/DeNJFl5KiB9ap3gtUB7yNXQZDcXknsPErhIyXXQhpzPeD/BtEE8kyPlkhyJngqWQXUf8k\n",
       "ltjCRz8o2FALSLhEZpYP9EvNoPYtJmsl3vvBaAE9g8gVeks5IEuEaW+RjFQLWfg2FaGU6bnmgTN+\n",
       "m0sWyV4AYloXSsDPmo4z3pEoPQTXCMhysMNoNnJMl7GIqeAAGvxcHDXqwSZp7DdEFxpeqx6Avav9\n",
       "vDHQ5s55B9Vnlu61S1rgYjTXqf4dRG3UKN3/DNTAYuMZM0eRmSA5LVWGYvnfriQjR01uaH2JXUlM\n",
       "juAqNE7traGYTOeNhPwN3QJfoZpnxEfjwg4AAAAASUVORK5CYII=\n",
       "\" style=\"display:inline;vertical-align:middle;\" /></a></td></tr>\n",
       "<tr><td>1</td><td>Operation</td><td>operator:&nbsp;4<br>operands:&nbsp;3<br></td><td><a class=\"ProveItLink\" href=\"../6dea2645e542749e41bfbd618b8b200d676e71760/expr.ipynb\"><img src=\"data:image/png;base64,iVBORw0KGgoAAAANSUhEUgAAADMAAAAJBAMAAABtbgnSAAAAMFBMVEX///+6uroyMjJERETMzMwQ\n",
       "EBAiIiKYmJju7u5mZmaqqqpUVFSIiIh2dnbc3NwAAAAWgogoAAAAAXRSTlMAQObYZgAAAIxJREFU\n",
       "CNdjYHh7+tXJAwyogG/PxTgGBo4L7OmsCUAupxIYbABJiT5g/sDAwMvA84HLAU3TdwZOA6AuBm4D\n",
       "NOMYuD8wsIHtYEW3iYHfgKEfbNB7B4YGkF1pYAAy4v0BhvVAMfYH5xl4GlB19S9g2AS0f32BKcMb\n",
       "NAOZCrgyeRkYms/23inA8NZB54MMAP+8JiaIm5EsAAAAAElFTkSuQmCC\n",
       "\" style=\"display:inline;vertical-align:middle;\" /></a></td></tr>\n",
       "<tr><td>2</td><td>Operation</td><td>operator:&nbsp;4<br>operands:&nbsp;5<br></td><td><a class=\"ProveItLink\" href=\"../0a71e1eba92de5e455aba1b3df5bec3772c40ba70/expr.ipynb\"><img src=\"data:image/png;base64,iVBORw0KGgoAAAANSUhEUgAAADAAAAASBAMAAADvSECJAAAAMFBMVEX///+YmJhUVFQyMjIQEBBE\n",
       "REQiIiKqqqrMzMyIiIi6urrc3NxmZmZ2dnbu7u4AAADXeCicAAAAAXRSTlMAQObYZgAAAKdJREFU\n",
       "GNNjYMACHrkx4ABGuCS+4xDn+odDgjcBSPDducCw/wGqBLPmJAEGXq4PDPNBvMPGIAC29n0Aww+G\n",
       "dp4EhlA0o+ofMPgyPGCZwPATTeIwA8MfkDTHDzSJHAaujyBpTgcQ71gaCKRCvMEDdLANA6sCmo4f\n",
       "DCwXGBgOMawXQJNQBwoyMDydeX4DeiDOgSi9htX7TAl87lgl2C6wXsAqwT7zFFZxAILQLJ+e7sY7\n",
       "AAAAAElFTkSuQmCC\n",
       "\" style=\"display:inline;vertical-align:middle;\" /></a></td></tr>\n",
       "<tr><td>3</td><td>ExprTuple</td><td>6, 7</td><td><a class=\"ProveItLink\" href=\"../efb09e4d8e1c9868a69968849f96fedd4b9898530/expr.ipynb\"><img src=\"data:image/png;base64,iVBORw0KGgoAAAANSUhEUgAAACwAAAAVBAMAAADP3xFXAAAAMFBMVEX////c3NwiIiJERESqqqqY\n",
       "mJh2dnZmZmYQEBDu7u4yMjJUVFTMzMyIiIi6uroAAAAs73DqAAAAAXRSTlMAQObYZgAAAPlJREFU\n",
       "GNNjYMAB+C6gi7A+ABKnMVXWAPFKTGEuBgbeC5jCrAkMHBMwhTkbGF5hc4YJQxmQFLstch1qlvS1\n",
       "FwIMDOkMS4F6ElhVORQgrm1ksAdSXgx9DAxsDLwfWA6AheUDGIqB1AuGf0DVDNwGUEP3MzDoAqnz\n",
       "IGEGBg6YKz8zcP4BC7eA9R5gALuT8S8DywdOkCGmQNcL3GfgnQCS4PzCwL3Ah4EhCugWBv8ACwZZ\n",
       "Bs5PQOVLGZwKEkAOfMTAMPnatNwABs5+oIOl776xBYbfOgYOAXgICyB5HhgssACC+53tAlLAIoRn\n",
       "gUIBxkGE8EaQWzECnPcAAwAu5TdGkZhCTQAAAABJRU5ErkJggg==\n",
       "\" style=\"display:inline;vertical-align:middle;\" /></a></td></tr>\n",
       "<tr><td>4</td><td>Literal</td><td></td><td><a class=\"ProveItLink\" href=\"../2fb26078095930560931daa0500ce419a39ea6cd0/expr.ipynb\"><img src=\"data:image/png;base64,iVBORw0KGgoAAAANSUhEUgAAAA4AAAAFBAMAAACHocAhAAAAFVBMVEX///9EREQiIiJUVFQyMjJm\n",
       "ZmYAAADubVkoAAAAAXRSTlMAQObYZgAAABRJREFUCNdjCHEBAWcGXCBICQQUAUpuAwlgGKrkAAAA\n",
       "AElFTkSuQmCC\n",
       "\" style=\"display:inline;vertical-align:middle;\" /></a></td></tr>\n",
       "<tr><td>5</td><td>ExprTuple</td><td>8, 9</td><td><a class=\"ProveItLink\" href=\"../3ad4fb41f343e9da8d8ecdcf12b571e94c01344c0/expr.ipynb\"><img src=\"data:image/png;base64,iVBORw0KGgoAAAANSUhEUgAAACkAAAAVBAMAAAAp9toTAAAAMFBMVEX////c3NwiIiJERESqqqqY\n",
       "mJh2dnZmZmYQEBDu7u4yMjJUVFTMzMyIiIi6uroAAAAs73DqAAAAAXRSTlMAQObYZgAAARBJREFU\n",
       "GNNtkb9Kw1AUhz+b1CSmSbo7mHcQ97yBnRwluHQSsuigYDuIowRcuplFRFyyCC5CBjeXPoBB6+jS\n",
       "ipOg4jkpgbR4h9+95+P8v/D/8cdLYFflqQGc+xCsQl43Tb+1XCQDbyFBEInsgJ026VStEbwvVNpT\n",
       "MSIOpUY/ZmMeclvewWrClag/42XewydBgZlxDo9WyGZFzS/sGH/IL6T2mJ+KWhlBQmemlO20813R\n",
       "VsK0p/RUjCO8Yd3uINUMW2JcY+Q4SgvOoJ3RF+NY4y5lBW5k5VVnb0IvykGX0Yd09nCgy3jF7tYz\n",
       "TeoBZeJ2jBs6WrNX0/1qk63YiBvUkU2yjlmeyO3Vrq7mXFn+oWf4A/7ePzsvZagPAAAAAElFTkSu\n",
       "QmCC\n",
       "\" style=\"display:inline;vertical-align:middle;\" /></a></td></tr>\n",
       "<tr><td>6</td><td>Variable</td><td></td><td><a class=\"ProveItLink\" href=\"../../../../__pv_it/530be409e3083890784cf1d7b28c9e67e90af9360/expr.ipynb\"><img src=\"data:image/png;base64,iVBORw0KGgoAAAANSUhEUgAAAAsAAAAJBAMAAAAWSsseAAAAKlBMVEX///9ERETMzMwQEBAiIiKY\n",
       "mJju7u5mZmaqqqpUVFSIiIh2dnbc3NwAAAA/vyDhAAAAAXRSTlMAQObYZgAAAENJREFUCNdjYDi9\n",
       "8sTyBQxsG1hdmR0YuBm4LnAoMLAxcAowgADzAjB1VoEhgYH1wFoGrgSG3gBhhlMMDImrs3cFMAAA\n",
       "t0YN+iTRa+sAAAAASUVORK5CYII=\n",
       "\" style=\"display:inline;vertical-align:middle;\" /></a></td></tr>\n",
       "<tr><td>7</td><td>Variable</td><td></td><td><a class=\"ProveItLink\" href=\"../../../../__pv_it/07527342713064c87612d00d8557c53d53d5324a0/expr.ipynb\"><img src=\"data:image/png;base64,iVBORw0KGgoAAAANSUhEUgAAAAsAAAAJBAMAAAAWSsseAAAAMFBMVEX///8yMjKqqqrMzMzu7u4i\n",
       "IiJmZmaYmJhEREQQEBC6urp2dnaIiIhUVFTc3NwAAAD87Fq/AAAAAXRSTlMAQObYZgAAAEhJREFU\n",
       "CNdjYOC7s2seAwPDygccHxgY+L4zsDUwMPB+YGA9wMDA38Dgb8DA8P4Agz6DA4O/AsNFJgMGxgKm\n",
       "MG6gyjunLE4xAAAZTBA5TB6DCwAAAABJRU5ErkJggg==\n",
       "\" style=\"display:inline;vertical-align:middle;\" /></a></td></tr>\n",
       "<tr><td>8</td><td>Variable</td><td></td><td><a class=\"ProveItLink\" href=\"../../../../__pv_it/f8b9edf8e16034727f0aad55bb83e392c3db40d40/expr.ipynb\"><img src=\"data:image/png;base64,iVBORw0KGgoAAAANSUhEUgAAAAsAAAANBAMAAACN24kIAAAAMFBMVEX///+YmJhUVFQyMjIQEBBE\n",
       "REQiIiKqqqrMzMyIiIi6urrc3NxmZmZ2dnbu7u4AAADXeCicAAAAAXRSTlMAQObYZgAAAFhJREFU\n",
       "CNdj4LtzgWH/AwZerg8M8xkY2nkSGEIZGB6wTGD4ycDAUP+A4weQOszA6QCkbBhYFYDUIYb1AkDq\n",
       "6czzGxhA4BoQMyXwuQMptgusF4AU+8xTQBIAUqMVoSp/SLMAAAAASUVORK5CYII=\n",
       "\" style=\"display:inline;vertical-align:middle;\" /></a></td></tr>\n",
       "<tr><td>9</td><td>Variable</td><td></td><td><a class=\"ProveItLink\" href=\"../../../../__pv_it/6840a4fa6c106149dc16a131294d0c5e44f1b0480/expr.ipynb\"><img src=\"data:image/png;base64,iVBORw0KGgoAAAANSUhEUgAAAAkAAAAOBAMAAAAPuiubAAAALVBMVEX///9mZmbMzMxERESYmJiI\n",
       "iIh2dna6urqqqqoyMjIiIiIQEBBUVFTu7u4AAAD9S1JeAAAAAXRSTlMAQObYZgAAAE1JREFUCNdj\n",
       "4D29gAEIOA+ASL4GEFl3AURmgQiGOaFHGBh4HzPwKTBwvGXgTmBgnMDAJ8DAJcBQ5wBSLncBJLWN\n",
       "gYGngRFoBO9REQYGAGrcDtUkVqASAAAAAElFTkSuQmCC\n",
       "\" style=\"display:inline;vertical-align:middle;\" /></a></td></tr>\n",
       "</table>\n"
      ],
      "text/plain": [
       "0. (x = a , y = b)\n",
       "   core type: ExprTuple\n",
       "   sub-expressions: 1, 2\n",
       "1. x = a\n",
       "   core type: Operation\n",
       "   operator: 4\n",
       "   operands: 3\n",
       "2. y = b\n",
       "   core type: Operation\n",
       "   operator: 4\n",
       "   operands: 5\n",
       "3. (x , a)\n",
       "   core type: ExprTuple\n",
       "   sub-expressions: 6, 7\n",
       "4. =\n",
       "   core type: Literal\n",
       "   sub-expressions: \n",
       "5. (y , b)\n",
       "   core type: ExprTuple\n",
       "   sub-expressions: 8, 9\n",
       "6. x\n",
       "   core type: Variable\n",
       "   sub-expressions: \n",
       "7. a\n",
       "   core type: Variable\n",
       "   sub-expressions: \n",
       "8. y\n",
       "   core type: Variable\n",
       "   sub-expressions: \n",
       "9. b\n",
       "   core type: Variable\n",
       "   sub-expressions: "
      ]
     },
     "execution_count": 4,
     "metadata": {},
     "output_type": "execute_result"
    }
   ],
   "source": [
    "# display the expression information\n",
    "expr.exprInfo()"
   ]
  },
  {
   "cell_type": "code",
   "execution_count": null,
   "metadata": {},
   "outputs": [],
   "source": []
  }
 ],
 "metadata": {
  "kernelspec": {
   "display_name": "Python 3",
   "language": "python",
   "name": "python3"
  }
 },
 "nbformat": 4,
 "nbformat_minor": 0
}
