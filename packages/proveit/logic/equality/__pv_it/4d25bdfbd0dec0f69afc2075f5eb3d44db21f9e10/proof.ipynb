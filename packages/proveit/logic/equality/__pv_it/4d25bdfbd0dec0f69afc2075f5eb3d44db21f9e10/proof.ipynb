{
 "cells": [
  {
   "cell_type": "markdown",
   "metadata": {},
   "source": [
    "Show the Proof\n",
    "========"
   ]
  },
  {
   "cell_type": "code",
   "execution_count": 1,
   "metadata": {},
   "outputs": [
    {
     "data": {
      "text/html": [
       "<table><tr><th>&nbsp;</th><th>step type</th><th>requirements</th><th>statement</th></tr>\n",
       "<tr><td>0</td><td>assumption</td><td></td><td><span style=\"font-size:20px;\"><a class=\"ProveItLink\" href=\"../034fe822396410ef5da46a1bc1fe78e8621ed5070/expr.ipynb\"><img src=\"data:image/png;base64,iVBORw0KGgoAAAANSUhEUgAAAEMAAAAVBAMAAADvM06qAAAAMFBMVEX///9ERETc3NyqqqpUVFS6\n",
       "urrMzMwyMjIQEBCIiIh2dnYiIiLu7u5mZmaYmJgAAABJJ2g3AAAAAXRSTlMAQObYZgAAANpJREFU\n",
       "KM9jYGDgu8eAC7CtUgBRPLsYcAO2ZhDJ+QGPEobrIIKrAZ+SFXRXwrTSyfImuuypldOgSngLgDyG\n",
       "1w+6wR4oB4ESsH9bGaoZGN6DmBkBDAwLGOYzmKEZcmICgxwDA/sFBoaUNiD3AIMjhiv8IZT4AwaG\n",
       "iAQQqxNDyUcwyb0ASLAA3cLA9I2BByRyezcIbASJ/AQrAbuFawMDwyNgLMxBM+UfMIIRnmb+x9jA\n",
       "NAFNiS8DwzKEEh7JNavmobuFd+XMA1SNAL4GgumFZye+VNcKpvgW40+7ABxMQD1LbY66AAAAAElF\n",
       "TkSuQmCC\n",
       "\" style=\"display:inline;vertical-align:middle;\" /></a> <a class=\"ProveItLink\" href=\"proof.ipynb\" style=\"text-decoration: none\">&#x22A2;&nbsp;</a><a class=\"ProveItLink\" href=\"../5fddf04fb0623c8ac921edf2314fa5c403ca93c70/expr.ipynb\"><img src=\"data:image/png;base64,iVBORw0KGgoAAAANSUhEUgAAADEAAAAJBAMAAABpm9nvAAAAMFBMVEX///+6uroyMjJERETMzMwQ\n",
       "EBAiIiKYmJju7u5mZmaqqqpUVFSIiIh2dnbc3NwAAAAWgogoAAAAAXRSTlMAQObYZgAAAH5JREFU\n",
       "CNdjYHh7+tXJAwyogOPuGQcGjgvs6awJQB6nEhhsAMm4CjAlMPAy8HzgckDTEsPAXMDAwcBtgGYW\n",
       "A/cHCM2KbgsDP1TteweGBpA9aWAAEnwPVsv+4DwDTwOangIGhgKG9QWmDG/Q7ZnAwOvA0Hy2904B\n",
       "ukVzz5xgAADBfCAeE4vUegAAAABJRU5ErkJggg==\n",
       "\" style=\"display:inline;vertical-align:middle;\" /></a></span></td></tr>\n",
       "</table>"
      ],
      "text/plain": [
       "<proveit._core_.proof._ShowProof at 0x7f95000a4438>"
      ]
     },
     "execution_count": 1,
     "metadata": {},
     "output_type": "execute_result"
    }
   ],
   "source": [
    "import proveit\n",
    "%show_proof"
   ]
  },
  {
   "cell_type": "code",
   "execution_count": null,
   "metadata": {},
   "outputs": [],
   "source": []
  }
 ],
 "metadata": {
  "kernelspec": {
   "display_name": "Python 3",
   "language": "python",
   "name": "python3"
  }
 },
 "nbformat": 4,
 "nbformat_minor": 0
}
