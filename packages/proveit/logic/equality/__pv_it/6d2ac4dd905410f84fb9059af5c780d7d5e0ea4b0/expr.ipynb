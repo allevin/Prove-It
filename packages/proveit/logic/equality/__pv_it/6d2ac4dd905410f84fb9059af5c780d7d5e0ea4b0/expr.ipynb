{
 "cells": [
  {
   "cell_type": "markdown",
   "metadata": {},
   "source": [
    "Expression of type <a class=\"ProveItLink\" href=\"../../../../../../doc/html/api/proveit.logic.Equals.html\">Equals</a>\n",
    "=======================\n",
    "# from context <a class=\"ProveItLink\" href=\"../../_context_.ipynb\">proveit.logic.equality</a>"
   ]
  },
  {
   "cell_type": "code",
   "execution_count": 1,
   "metadata": {},
   "outputs": [],
   "source": [
    "# import Expression classes needed to build the expression\n",
    "from proveit._common_ import a\n",
    "from proveit.logic import Equals, Not, Or, TRUE"
   ]
  },
  {
   "cell_type": "code",
   "execution_count": 2,
   "metadata": {},
   "outputs": [
    {
     "data": {
      "text/html": [
       "<strong id=\"expr\">expr:</strong> <a class=\"ProveItLink\" href=\"expr.ipynb\"><img src=\"data:image/png;base64,iVBORw0KGgoAAAANSUhEUgAAAIQAAAAVBAMAAAB1UFtyAAAAMFBMVEX////c3NwiIiJERESqqqqY\n",
       "mJh2dnZmZmYQEBDu7u4yMjJUVFTMzMyIiIi6uroAAAAs73DqAAAAAXRSTlMAQObYZgAAAXFJREFU\n",
       "OMutUr9Lw1AQvrZJo01bM+ug6OAahO7dHHVylC7SSRERBycFZ+koLk0HkejiLAgBURGX/AFSSidx\n",
       "yuIqvtxdfj1e0gx+8L3wvnv53t27A/gHtP3Z4i4zBx8lRMMjZnG0GmINwE2uxhVPutJphynjLVxa\n",
       "ScqmF+1bcnE7TKXF3CDeN22xVAdZkXDFVFp8p4SR4KYsImpdotLiRLDydHAO/PsoEhkUqx8SlRY3\n",
       "gl9WLQAqAotBkUExzSECnN6FuE9bXIqLfsCw+WnNCYsGdqzHsfYZUZnFr+hEAFVqwQpcA4v0wA8c\n",
       "awbEPIsFG4Y0N8ewJ1lwrNDiAmDZhy3ANi6KPFhkC44lhcQjmVh0AIZdeNQwDfOFCurEFhzTxVPq\n",
       "Tk4WfYDGtrZep182aKb60RGPY4VNnYatHz+PSbqlzzQ1FhhrTIgyXnHArbT0Tp+sWDDgCL1XRtxn\n",
       "quGWEOcdYg6WSoimRcxBxZ8tfjKV+AOw4HPcihJ12wAAAABJRU5ErkJggg==\n",
       "\" style=\"display:inline;vertical-align:middle;\" /></a><br>"
      ],
      "text/plain": [
       "expr: (a or [not](a)) = TRUE"
      ]
     },
     "execution_count": 2,
     "metadata": {},
     "output_type": "execute_result"
    }
   ],
   "source": [
    "# build up the expression from sub-expressions\n",
    "expr = Equals(Or(a, Not(a)), TRUE)"
   ]
  },
  {
   "cell_type": "code",
   "execution_count": 3,
   "metadata": {},
   "outputs": [
    {
     "name": "stdout",
     "output_type": "stream",
     "text": [
      "Passed sanity check: built 'expr' is the same as the stored Expression.\n"
     ]
    }
   ],
   "source": [
    "# check that the built expression is the same as the stored expression\n",
    "%check_expr"
   ]
  },
  {
   "cell_type": "code",
   "execution_count": 4,
   "metadata": {},
   "outputs": [
    {
     "data": {
      "text/html": [
       "<table><tr><th>&nbsp;</th><th>core type</th><th>sub-expressions</th><th>expression</th></tr>\n",
       "<tr><td>0</td><td>Operation</td><td>operator:&nbsp;1<br>operands:&nbsp;2<br></td><td><a class=\"ProveItLink\" href=\"expr.ipynb\"><img src=\"data:image/png;base64,iVBORw0KGgoAAAANSUhEUgAAAIQAAAAVBAMAAAB1UFtyAAAAMFBMVEX////c3NwiIiJERESqqqqY\n",
       "mJh2dnZmZmYQEBDu7u4yMjJUVFTMzMyIiIi6uroAAAAs73DqAAAAAXRSTlMAQObYZgAAAXFJREFU\n",
       "OMutUr9Lw1AQvrZJo01bM+ug6OAahO7dHHVylC7SSRERBycFZ+koLk0HkejiLAgBURGX/AFSSidx\n",
       "yuIqvtxdfj1e0gx+8L3wvnv53t27A/gHtP3Z4i4zBx8lRMMjZnG0GmINwE2uxhVPutJphynjLVxa\n",
       "ScqmF+1bcnE7TKXF3CDeN22xVAdZkXDFVFp8p4SR4KYsImpdotLiRLDydHAO/PsoEhkUqx8SlRY3\n",
       "gl9WLQAqAotBkUExzSECnN6FuE9bXIqLfsCw+WnNCYsGdqzHsfYZUZnFr+hEAFVqwQpcA4v0wA8c\n",
       "awbEPIsFG4Y0N8ewJ1lwrNDiAmDZhy3ANi6KPFhkC44lhcQjmVh0AIZdeNQwDfOFCurEFhzTxVPq\n",
       "Tk4WfYDGtrZep182aKb60RGPY4VNnYatHz+PSbqlzzQ1FhhrTIgyXnHArbT0Tp+sWDDgCL1XRtxn\n",
       "quGWEOcdYg6WSoimRcxBxZ8tfjKV+AOw4HPcihJ12wAAAABJRU5ErkJggg==\n",
       "\" style=\"display:inline;vertical-align:middle;\" /></a></td></tr>\n",
       "<tr><td>1</td><td>Literal</td><td></td><td><a class=\"ProveItLink\" href=\"../2fb26078095930560931daa0500ce419a39ea6cd0/expr.ipynb\"><img src=\"data:image/png;base64,iVBORw0KGgoAAAANSUhEUgAAAA4AAAAFBAMAAACHocAhAAAAFVBMVEX///9EREQiIiJUVFQyMjJm\n",
       "ZmYAAADubVkoAAAAAXRSTlMAQObYZgAAABRJREFUCNdjCHEBAWcGXCBICQQUAUpuAwlgGKrkAAAA\n",
       "AElFTkSuQmCC\n",
       "\" style=\"display:inline;vertical-align:middle;\" /></a></td></tr>\n",
       "<tr><td>2</td><td>ExprTuple</td><td>3, 4</td><td><a class=\"ProveItLink\" href=\"../d85431f7e1b907c7b05c7150140bd2ea7d3fd8250/expr.ipynb\"><img src=\"data:image/png;base64,iVBORw0KGgoAAAANSUhEUgAAAHEAAAAVBAMAAACDNRyvAAAAMFBMVEX////c3NwiIiJERESqqqqY\n",
       "mJh2dnZmZmYQEBDu7u4yMjJUVFTMzMyIiIi6uroAAAAs73DqAAAAAXRSTlMAQObYZgAAAaNJREFU\n",
       "OMudVD1LA0EUnJicyeUuMbVBDAp2goiWYrARxCJVCguxkVRCULGySMDGRlMGq7MIYiP6C0yjIim0\n",
       "sjIQrIIoBLVUcT/ZvcdVLty+zM5N9u2btwf8f2Qfo1bfQ8jpEXqdT50ooX8Zxvsqbk/wMYlkm4Fz\n",
       "s7uY+RrSjbAybX7eiTkAMiZZj4sk7pIcnA2iLAMp8+/+DJuGBD4kSrdGlE3g1eJP2bMs8g7oweeI\n",
       "Ml7EHo/5p35OqbgaSZOc4ipEOVxFi29RxyJkpiJjpEumbJJbIcpEgCMWxkvYgayOJ5xL9ZQBU5rr\n",
       "E2W2hl8WroFpgQs4EXFEO9/R3ANR+gOh/IT7LfAuNqlScRHKAyD2g8TA5XiU7SqyLWql5iKynWdm\n",
       "fcELVkUv3Mi+iOsKdTS3BjRspROIcrewVBU++LMNXXPVHJqrwP0grrxwy7pvC/JkZ8qKgrFTchdw\n",
       "j3Ni4VY2cg+pnN0q9yrWI7ova7/ZDPWyNcoED7PzO/bCVuiW2beK3DJus610eWPno5QxcrOv2GN/\n",
       "OzyeeSzyazIWQpk2oZ+BP1hvbaAW+Ui4AAAAAElFTkSuQmCC\n",
       "\" style=\"display:inline;vertical-align:middle;\" /></a></td></tr>\n",
       "<tr><td>3</td><td>Operation</td><td>operator:&nbsp;5<br>operands:&nbsp;6<br></td><td><a class=\"ProveItLink\" href=\"../4f11c1a56a7b5e9d47eb3f8d5bb742df11a4969d0/expr.ipynb\"><img src=\"data:image/png;base64,iVBORw0KGgoAAAANSUhEUgAAAEkAAAAVBAMAAAD4Ed5jAAAAMFBMVEX///8yMjKqqqrMzMzu7u4i\n",
       "IiJmZmaYmJhEREQQEBC6urp2dnaIiIhUVFTc3NwAAAD87Fq/AAAAAXRSTlMAQObYZgAAAR9JREFU\n",
       "KM9jYCAXcB1A4VZhV2WLymUzQDIATIIFRNB0CSCYvCAFPAdgBDKoRjCZG4AEqwOQ4HRAU+WJxJYD\n",
       "YjUQYyG6OzkUGBj47uyaxwBVAVLJkI2Qh8hxJzAwrHzA8YEBYhvYVgZxhCqIHJMAA993BjawJNDR\n",
       "vAtAjFlAz4eCwAaoHNcEBt4PDKwQTwUwOILpXzD/XIDKMX9g4G9g8IcEWxLDdjRVUDmgqvcHGPQZ\n",
       "wH5/CDQNBCbBVUHlgDb6KzBcZAIbxmsOsbkdrgoqxy7AwFjAFMYNEW2FBOc2mA8NoHLAkOC7c8ri\n",
       "FERUDEItRQousBzjAuQwNoFQnA/wxBAcsG9AE9iDNX2hpRwWAayq3qJyeR9gVcWHmsAOMzAAAIou\n",
       "RQSqz0xYAAAAAElFTkSuQmCC\n",
       "\" style=\"display:inline;vertical-align:middle;\" /></a></td></tr>\n",
       "<tr><td>4</td><td>Literal</td><td></td><td><a class=\"ProveItLink\" href=\"../../../boolean/__pv_it/68a87cc3370287d726c7086ace789e680e4461c30/expr.ipynb\"><img src=\"data:image/png;base64,iVBORw0KGgoAAAANSUhEUgAAAA4AAAAOBAMAAADtZjDiAAAAFVBMVEX///92dnbMzMxEREQiIiJm\n",
       "ZmYAAABAT6GXAAAAAXRSTlMAQObYZgAAABhJREFUCNdjCHEBAWcGIFBlgABa0YpADAAxegPJJk4d\n",
       "XAAAAABJRU5ErkJggg==\n",
       "\" style=\"display:inline;vertical-align:middle;\" /></a></td></tr>\n",
       "<tr><td>5</td><td>Literal</td><td></td><td><a class=\"ProveItLink\" href=\"../../../boolean/disjunction/__pv_it/087d0b4ded7c7e5bf3bba05ecb616d7a8051ff650/expr.ipynb\"><img src=\"data:image/png;base64,iVBORw0KGgoAAAANSUhEUgAAAAwAAAAOBAMAAADpk+DfAAAALVBMVEX///+YmJh2dnZmZmaqqqrc\n",
       "3NwyMjLu7u4iIiJERESIiIhUVFTMzMy6uroAAAD0I/TTAAAAAXRSTlMAQObYZgAAAEtJREFUCNdj\n",
       "uMAABDwMe0DUKoaTIKqdgS2AgYHFAITAzHYGsMQqBoa9QIqDgT0BSDE7MAkAKdYEDpAehj1SYOpk\n",
       "O5hiMwBTPAUMDAB33Atnw8aG2QAAAABJRU5ErkJggg==\n",
       "\" style=\"display:inline;vertical-align:middle;\" /></a></td></tr>\n",
       "<tr><td>6</td><td>ExprTuple</td><td>9, 7</td><td><a class=\"ProveItLink\" href=\"../86dcb38a2830004b720ae732c2efa2d26c05e9eb0/expr.ipynb\"><img src=\"data:image/png;base64,iVBORw0KGgoAAAANSUhEUgAAADkAAAAVBAMAAAAOWFv7AAAAMFBMVEX////c3NwiIiJERESqqqqY\n",
       "mJh2dnZmZmYQEBDu7u4yMjJUVFTMzMyIiIi6uroAAAAs73DqAAAAAXRSTlMAQObYZgAAAO5JREFU\n",
       "KM9jYMAP+C7gkIgDEadxaWM/ACRW4jR1AQMD7wWcsmEMDBwTcMrOYGB4hdu9zA4MZUCKcW9eI4o4\n",
       "RICtgGEpkPNCgPkDiixEgGUBQx9Q5VcGdgOIJ5RAIAEqwNfA8I+BgfsDAxOSy3k2QAV4PoBk+Q0Y\n",
       "5h9AloUKAGVbGBjkLzD4M0xAkoUKAE02ZWCY78Cwi+UAJ0IWIsDAuoAhnYGBK4BFnY1hvgJM+gBE\n",
       "AOSjRyDf3Tt8j2HGRyTvggQYuB4wcAjAxB5iCUnWBBgnAF02FzkG0WU5gTHIIA3l8KJr5QbZyYgr\n",
       "gu8wMAAA9CBBH1OcNC0AAAAASUVORK5CYII=\n",
       "\" style=\"display:inline;vertical-align:middle;\" /></a></td></tr>\n",
       "<tr><td>7</td><td>Operation</td><td>operator:&nbsp;8<br>operand:&nbsp;9<br></td><td><a class=\"ProveItLink\" href=\"../90850a12a72aaf97c847e825fb82a6804e84d9be0/expr.ipynb\"><img src=\"data:image/png;base64,iVBORw0KGgoAAAANSUhEUgAAABgAAAAJBAMAAADa0/H1AAAAMFBMVEX///8yMjKqqqru7u6YmJhE\n",
       "REQQEBC6urqIiIjc3NxUVFTMzMx2dnYiIiJmZmYAAADYs2HGAAAAAXRSTlMAQObYZgAAAE9JREFU\n",
       "CNdjYICCWT1lE2Bs9kyGeAaGt3eB4A7DfAeGp1DxXQzrGRhuwDlfGZh/wzicPxiYPjBDOcyfGLgE\n",
       "tCEcbgYRBt0HB+DWdFRHFAAAmG4X4Eqb2MYAAAAASUVORK5CYII=\n",
       "\" style=\"display:inline;vertical-align:middle;\" /></a></td></tr>\n",
       "<tr><td>8</td><td>Literal</td><td></td><td><a class=\"ProveItLink\" href=\"../../../boolean/negation/__pv_it/7bea79645543c2413aa17e787cca04e21046fde60/expr.ipynb\"><img src=\"data:image/png;base64,iVBORw0KGgoAAAANSUhEUgAAAAwAAAAGBAMAAAAFwGKyAAAAFVBMVEX///9UVFTMzMx2dnYiIiJm\n",
       "ZmYAAACWz4ZEAAAAAXRSTlMAQObYZgAAABRJREFUCNdjCHEBAmcGMFDEQzEBAEl+Ai6uYJv/AAAA\n",
       "AElFTkSuQmCC\n",
       "\" style=\"display:inline;vertical-align:middle;\" /></a></td></tr>\n",
       "<tr><td>9</td><td>Variable</td><td></td><td><a class=\"ProveItLink\" href=\"../../../../__pv_it/07527342713064c87612d00d8557c53d53d5324a0/expr.ipynb\"><img src=\"data:image/png;base64,iVBORw0KGgoAAAANSUhEUgAAAAsAAAAJBAMAAAAWSsseAAAAMFBMVEX///8yMjKqqqrMzMzu7u4i\n",
       "IiJmZmaYmJhEREQQEBC6urp2dnaIiIhUVFTc3NwAAAD87Fq/AAAAAXRSTlMAQObYZgAAAEhJREFU\n",
       "CNdjYOC7s2seAwPDygccHxgY+L4zsDUwMPB+YGA9wMDA38Dgb8DA8P4Agz6DA4O/AsNFJgMGxgKm\n",
       "MG6gyjunLE4xAAAZTBA5TB6DCwAAAABJRU5ErkJggg==\n",
       "\" style=\"display:inline;vertical-align:middle;\" /></a></td></tr>\n",
       "</table>\n"
      ],
      "text/plain": [
       "0. (a or [not](a)) = TRUE\n",
       "   core type: Operation\n",
       "   operator: 1\n",
       "   operands: 2\n",
       "1. =\n",
       "   core type: Literal\n",
       "   sub-expressions: \n",
       "2. (a or [not](a) , TRUE)\n",
       "   core type: ExprTuple\n",
       "   sub-expressions: 3, 4\n",
       "3. a or [not](a)\n",
       "   core type: Operation\n",
       "   operator: 5\n",
       "   operands: 6\n",
       "4. TRUE\n",
       "   core type: Literal\n",
       "   sub-expressions: \n",
       "5. or\n",
       "   core type: Literal\n",
       "   sub-expressions: \n",
       "6. (a , [not](a))\n",
       "   core type: ExprTuple\n",
       "   sub-expressions: 9, 7\n",
       "7. [not](a)\n",
       "   core type: Operation\n",
       "   operator: 8\n",
       "   operand: 9\n",
       "8. not\n",
       "   core type: Literal\n",
       "   sub-expressions: \n",
       "9. a\n",
       "   core type: Variable\n",
       "   sub-expressions: "
      ]
     },
     "execution_count": 4,
     "metadata": {},
     "output_type": "execute_result"
    }
   ],
   "source": [
    "# display the expression information\n",
    "expr.exprInfo()"
   ]
  },
  {
   "cell_type": "code",
   "execution_count": null,
   "metadata": {},
   "outputs": [],
   "source": []
  }
 ],
 "metadata": {
  "kernelspec": {
   "display_name": "Python 3",
   "language": "python",
   "name": "python3"
  }
 },
 "nbformat": 4,
 "nbformat_minor": 0
}
