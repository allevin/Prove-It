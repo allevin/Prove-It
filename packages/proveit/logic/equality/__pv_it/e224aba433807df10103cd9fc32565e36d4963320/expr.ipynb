{
 "cells": [
  {
   "cell_type": "markdown",
   "metadata": {},
   "source": [
    "Expression of type <a class=\"ProveItLink\" href=\"../../../../../../doc/html/api/proveit.logic.Set.html\">Set</a>\n",
    "=======================\n",
    "# from context <a class=\"ProveItLink\" href=\"../../_context_.ipynb\">proveit.logic.equality</a>"
   ]
  },
  {
   "cell_type": "code",
   "execution_count": 1,
   "metadata": {},
   "outputs": [],
   "source": [
    "# import Expression classes needed to build the expression\n",
    "from proveit._common_ import d, y\n",
    "from proveit.logic import Equals, Set"
   ]
  },
  {
   "cell_type": "code",
   "execution_count": 2,
   "metadata": {},
   "outputs": [
    {
     "data": {
      "text/html": [
       "<strong id=\"expr\">expr:</strong> <a class=\"ProveItLink\" href=\"expr.ipynb\"><img src=\"data:image/png;base64,iVBORw0KGgoAAAANSUhEUgAAAEQAAAAVBAMAAAAN71XTAAAAMFBMVEX///9ERETc3NyqqqpUVFS6\n",
       "urrMzMwyMjIQEBCIiIh2dnYiIiLu7u5mZmaYmJgAAABJJ2g3AAAAAXRSTlMAQObYZgAAAQVJREFU\n",
       "KM9jYGDgu8eAE2QtApE8uxjwgAwDIMH5AZc0q8QFBt4CIIOrAacR/AYQWTxK4g8QVLKagaCSWiQl\n",
       "p24xMP1Bk2fyXPoZqgTk5gXxEI/xloOBA0hJhAIjUBcfSDgjgIHN4DYDowCaIf8gHgZaltIGDD2G\n",
       "Tgb+CahKWD4wcC8A0ox1QAMTGBiY/zDkJ6CFiQDD+QAgDQp7lgKwe2aAxHl3gwHITv0JDPYMByBu\n",
       "4drAwMB+gUEEzUPnDRjcmRMQnuZ1YP2HpoT9AfNeLqRw4ZGc+wkjWKYmTkUJXZB12ABciTfDCQM8\n",
       "SvgaQD6TwhFN4ODj2cnAYDk3AFeqA0vwLcafdgHAuEZp8e00IAAAAABJRU5ErkJggg==\n",
       "\" style=\"display:inline;vertical-align:middle;\" /></a><br>"
      ],
      "text/plain": [
       "expr: {y = d}"
      ]
     },
     "execution_count": 2,
     "metadata": {},
     "output_type": "execute_result"
    }
   ],
   "source": [
    "# build up the expression from sub-expressions\n",
    "expr = Set(Equals(y, d))"
   ]
  },
  {
   "cell_type": "code",
   "execution_count": 3,
   "metadata": {},
   "outputs": [
    {
     "name": "stdout",
     "output_type": "stream",
     "text": [
      "Passed sanity check: built 'expr' is the same as the stored Expression.\n"
     ]
    }
   ],
   "source": [
    "# check that the built expression is the same as the stored expression\n",
    "%check_expr"
   ]
  },
  {
   "cell_type": "code",
   "execution_count": 4,
   "metadata": {},
   "outputs": [
    {
     "data": {
      "text/html": [
       "<table><tr><th>&nbsp;</th><th>core type</th><th>sub-expressions</th><th>expression</th></tr>\n",
       "<tr><td>0</td><td>Operation</td><td>operator:&nbsp;1<br>operands:&nbsp;2<br></td><td><a class=\"ProveItLink\" href=\"expr.ipynb\"><img src=\"data:image/png;base64,iVBORw0KGgoAAAANSUhEUgAAAEQAAAAVBAMAAAAN71XTAAAAMFBMVEX///9ERETc3NyqqqpUVFS6\n",
       "urrMzMwyMjIQEBCIiIh2dnYiIiLu7u5mZmaYmJgAAABJJ2g3AAAAAXRSTlMAQObYZgAAAQVJREFU\n",
       "KM9jYGDgu8eAE2QtApE8uxjwgAwDIMH5AZc0q8QFBt4CIIOrAacR/AYQWTxK4g8QVLKagaCSWiQl\n",
       "p24xMP1Bk2fyXPoZqgTk5gXxEI/xloOBA0hJhAIjUBcfSDgjgIHN4DYDowCaIf8gHgZaltIGDD2G\n",
       "Tgb+CahKWD4wcC8A0ox1QAMTGBiY/zDkJ6CFiQDD+QAgDQp7lgKwe2aAxHl3gwHITv0JDPYMByBu\n",
       "4drAwMB+gUEEzUPnDRjcmRMQnuZ1YP2HpoT9AfNeLqRw4ZGc+wkjWKYmTkUJXZB12ABciTfDCQM8\n",
       "SvgaQD6TwhFN4ODj2cnAYDk3AFeqA0vwLcafdgHAuEZp8e00IAAAAABJRU5ErkJggg==\n",
       "\" style=\"display:inline;vertical-align:middle;\" /></a></td></tr>\n",
       "<tr><td>1</td><td>Literal</td><td></td><td><a class=\"ProveItLink\" href=\"../../../set_theory/enumeration/__pv_it/07381ed5b23806e8d7914b78cb6667769e3708dd0/expr.ipynb\"><img src=\"data:image/png;base64,iVBORw0KGgoAAAANSUhEUgAAAB4AAAAOBAMAAADKyLEKAAAAMFBMVEX///8iIiIQEBCIiIjMzMzc\n",
       "3Nyqqqp2dnZEREQyMjK6urru7u5mZmZUVFSYmJgAAACI6eGPAAAAAXRSTlMAQObYZgAAALRJREFU\n",
       "CNdjYGDgu3Nm3wIGBJjHwN0PZW5yYGDgLWBgyITy8zcwMMQDxZyh/INAvD6BgcEFypcB4vjPDiBm\n",
       "TPFRrhs/LjMwMP//38rAwCbKEMPA9gEkE3fp0waG+AUMRxh4JkC01T9guPTOOICBEWgVH5C//wHD\n",
       "H5D4fqCz9oCMDGD4DLaegRXslLMMDMpAgxlOMmQxHDRgYG5gYLBk4D7KcIe7gOHC2rt9QCXsh40Z\n",
       "GCKMGQDRkC8N/Ph1XAAAAABJRU5ErkJggg==\n",
       "\" style=\"display:inline;vertical-align:middle;\" /></a></td></tr>\n",
       "<tr><td>2</td><td>ExprTuple</td><td>3</td><td><a class=\"ProveItLink\" href=\"../207bed04273f2592ab2bc3efe763e3ab306297cf0/expr.ipynb\"><img src=\"data:image/png;base64,iVBORw0KGgoAAAANSUhEUgAAAD4AAAAVBAMAAADshECCAAAAMFBMVEX////c3NwiIiJERESqqqqY\n",
       "mJh2dnZmZmYQEBDu7u4yMjJUVFTMzMyIiIi6uroAAAAs73DqAAAAAXRSTlMAQObYZgAAARpJREFU\n",
       "KM9jYCAE+C7glGJ9ACRO45J93M5QA6RW4tT+hYGLgYEXp/F8PxlYExg4JuCSZ1Ng4GxgeIXTeK4C\n",
       "BgYThjIGBs70BAZ5dGOkr713YGBIZ1gKNIjvA8N9kFjVKhBYDba8kcEeqMWLoY+B4Qi7AoMxmnb5\n",
       "AIYqIPWC4R8DwwSOCwx/0eT3MzCoAanzIHkG/wk8f9DkPzNw/gPLt4DsZeBtAAkWKYGAMpDF+JeB\n",
       "5QMnyHxTIG85A/MGVO2cXxi4F/gwMEQBfcDAUM3wPgDN/KUMTgUJIP89AnIm360XQPf+3Te2wNhb\n",
       "x8ABlknCHoTA8AVGAbcCZwuOKLgAil+mBOYE7PKzQDYxsNytwxFFG0FexZ2+eA8wAADcLEPJawtQ\n",
       "JgAAAABJRU5ErkJggg==\n",
       "\" style=\"display:inline;vertical-align:middle;\" /></a></td></tr>\n",
       "<tr><td>3</td><td>Operation</td><td>operator:&nbsp;4<br>operands:&nbsp;5<br></td><td><a class=\"ProveItLink\" href=\"../9cd34a172bf613a471604ca079a89df5722a51ef0/expr.ipynb\"><img src=\"data:image/png;base64,iVBORw0KGgoAAAANSUhEUgAAADIAAAASBAMAAADrvZC0AAAAMFBMVEX///+YmJhUVFQyMjIQEBBE\n",
       "REQiIiKqqqrMzMyIiIi6urrc3NxmZmZ2dnbu7u4AAADXeCicAAAAAXRSTlMAQObYZgAAALlJREFU\n",
       "GNNjYMAOlvow4ALfcUlw/cMlw5uAS4b5AAPfnQsM+x+giW+au76AgZfrA8N8EO+wMQgYgS3xZoh/\n",
       "wNDOk8AQiqZlvwDDYQaGBywTGH6iyegzMOQCqfoHHD/QZL4y8P0Cmc/A6QDiHksDgVQgi/snA/sH\n",
       "PgYGGwZWBVQtfN8ZmAwqGBgOMawXQDPNkKHswAUGhqczz29A987MFZELQIxr2IOBKYHPHbsM2wXW\n",
       "C9hl2Geewi4BAGPGL+b7L2/VAAAAAElFTkSuQmCC\n",
       "\" style=\"display:inline;vertical-align:middle;\" /></a></td></tr>\n",
       "<tr><td>4</td><td>Literal</td><td></td><td><a class=\"ProveItLink\" href=\"../2fb26078095930560931daa0500ce419a39ea6cd0/expr.ipynb\"><img src=\"data:image/png;base64,iVBORw0KGgoAAAANSUhEUgAAAA4AAAAFBAMAAACHocAhAAAAFVBMVEX///9EREQiIiJUVFQyMjJm\n",
       "ZmYAAADubVkoAAAAAXRSTlMAQObYZgAAABRJREFUCNdjCHEBAWcGXCBICQQUAUpuAwlgGKrkAAAA\n",
       "AElFTkSuQmCC\n",
       "\" style=\"display:inline;vertical-align:middle;\" /></a></td></tr>\n",
       "<tr><td>5</td><td>ExprTuple</td><td>6, 7</td><td><a class=\"ProveItLink\" href=\"../35c209e7d95b31141b254d4e759b576f3bfca4e20/expr.ipynb\"><img src=\"data:image/png;base64,iVBORw0KGgoAAAANSUhEUgAAACsAAAAVBAMAAAAtAwouAAAAMFBMVEX////c3NwiIiJERESqqqqY\n",
       "mJh2dnZmZmYQEBDu7u4yMjJUVFTMzMyIiIi6uroAAAAs73DqAAAAAXRSTlMAQObYZgAAARdJREFU\n",
       "GNN1kTFLw0AYhp82aZOYJmZ3aDZXQQTH/INmcpTg0knp5KCgHZwl4NItWUTcnAWhoJtLfoCt1Ulc\n",
       "GkEHQcW7iwQ58Yb77nvuve/e7w7+GX6hk0053Wqq9YE1FvFc0y5G5ODpNeYpG2CnGt6CETzrF56B\n",
       "EbELTj+hWx1qXO28QnvAqZj9kvtK+hQY72DmHMONFbJaid+whA1/yBekdsGnwm5JM4FOKTG9tPNR\n",
       "eV4hmyl8JLI9vKHC3YIeqSyypjwZFzhikUVcmmNaOX2R7TOPyUJYiM3ltjL4KPDJ5DBg9CJtT6+n\n",
       "YneGHfx0zEPdqGi+leCGjrw4rvG2ethmYiS/sSM6YglzciCiV4tdWbfx59Pu4Bs+HUKIgBnZLwAA\n",
       "AABJRU5ErkJggg==\n",
       "\" style=\"display:inline;vertical-align:middle;\" /></a></td></tr>\n",
       "<tr><td>6</td><td>Variable</td><td></td><td><a class=\"ProveItLink\" href=\"../../../../__pv_it/f8b9edf8e16034727f0aad55bb83e392c3db40d40/expr.ipynb\"><img src=\"data:image/png;base64,iVBORw0KGgoAAAANSUhEUgAAAAsAAAANBAMAAACN24kIAAAAMFBMVEX///+YmJhUVFQyMjIQEBBE\n",
       "REQiIiKqqqrMzMyIiIi6urrc3NxmZmZ2dnbu7u4AAADXeCicAAAAAXRSTlMAQObYZgAAAFhJREFU\n",
       "CNdj4LtzgWH/AwZerg8M8xkY2nkSGEIZGB6wTGD4ycDAUP+A4weQOszA6QCkbBhYFYDUIYb1AkDq\n",
       "6czzGxhA4BoQMyXwuQMptgusF4AU+8xTQBIAUqMVoSp/SLMAAAAASUVORK5CYII=\n",
       "\" style=\"display:inline;vertical-align:middle;\" /></a></td></tr>\n",
       "<tr><td>7</td><td>Variable</td><td></td><td><a class=\"ProveItLink\" href=\"../../../../__pv_it/3a5de44ed6135dbbdbbeec6704c741e238f127300/expr.ipynb\"><img src=\"data:image/png;base64,iVBORw0KGgoAAAANSUhEUgAAAAsAAAAOBAMAAAALT/umAAAAMFBMVEX////MzMyYmJiIiIhUVFTc\n",
       "3NwyMjIiIiJ2dnbu7u6qqqpmZmYQEBBERES6uroAAABkyy6XAAAAAXRSTlMAQObYZgAAAFhJREFU\n",
       "CNdjYGBg4LuzgQEE+BeAqfcTwFQ7mGTIBmJW575fQOpNAO9PIOcTA3cCAwPLBwb2BqCeCwzzHzAw\n",
       "xBswrGeYwDB/AYMblwADmwJXNQdIm52sHQMAfyoTCZukXIEAAAAASUVORK5CYII=\n",
       "\" style=\"display:inline;vertical-align:middle;\" /></a></td></tr>\n",
       "</table>\n"
      ],
      "text/plain": [
       "0. {y = d}\n",
       "   core type: Operation\n",
       "   operator: 1\n",
       "   operands: 2\n",
       "1. Set\n",
       "   core type: Literal\n",
       "   sub-expressions: \n",
       "2. (y = d)\n",
       "   core type: ExprTuple\n",
       "   sub-expressions: 3\n",
       "3. y = d\n",
       "   core type: Operation\n",
       "   operator: 4\n",
       "   operands: 5\n",
       "4. =\n",
       "   core type: Literal\n",
       "   sub-expressions: \n",
       "5. (y , d)\n",
       "   core type: ExprTuple\n",
       "   sub-expressions: 6, 7\n",
       "6. y\n",
       "   core type: Variable\n",
       "   sub-expressions: \n",
       "7. d\n",
       "   core type: Variable\n",
       "   sub-expressions: "
      ]
     },
     "execution_count": 4,
     "metadata": {},
     "output_type": "execute_result"
    }
   ],
   "source": [
    "# display the expression information\n",
    "expr.exprInfo()"
   ]
  },
  {
   "cell_type": "code",
   "execution_count": null,
   "metadata": {},
   "outputs": [],
   "source": []
  }
 ],
 "metadata": {
  "kernelspec": {
   "display_name": "Python 3",
   "language": "python",
   "name": "python3"
  }
 },
 "nbformat": 4,
 "nbformat_minor": 0
}
