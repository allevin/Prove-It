{
 "cells": [
  {
   "cell_type": "markdown",
   "metadata": {},
   "source": [
    "Expression of type <a class=\"ProveItLink\" href=\"../../../../../../doc/html/api/proveit.logic.Set.html\">Set</a>\n",
    "=======================\n",
    "# from context <a class=\"ProveItLink\" href=\"../../_context_.ipynb\">proveit.logic.equality</a>"
   ]
  },
  {
   "cell_type": "code",
   "execution_count": 1,
   "metadata": {},
   "outputs": [],
   "source": [
    "# import Expression classes needed to build the expression\n",
    "from proveit._common_ import a\n",
    "from proveit.logic import Equals, FALSE, Implies, Not, Set"
   ]
  },
  {
   "cell_type": "code",
   "execution_count": 2,
   "metadata": {},
   "outputs": [
    {
     "data": {
      "text/html": [
       "<strong id=\"expr\">expr:</strong> <a class=\"ProveItLink\" href=\"../dc2347815c42eee1fdcf313aeb1ffad1c5f27e060/expr.ipynb\"><img src=\"data:image/png;base64,iVBORw0KGgoAAAANSUhEUgAAAMkAAAAVBAMAAAAeFNdiAAAAMFBMVEX///9ERETc3NyqqqpUVFS6\n",
       "urrMzMwyMjIQEBCIiIh2dnYiIiLu7u5mZmaYmJgAAABJJ2g3AAAAAXRSTlMAQObYZgAAAjFJREFU\n",
       "SMdjYGDgu8dAQ8C2SgFE8ezCrSQSn36+AEIawCrYmkFMzg+43eGAQ4JpAoi8RlADWMV1EMHVgNMW\n",
       "9gO4rL8AliaoAaxiBXZbeGCMmQx4beFbgC6OrgGsAoctcBf14LeFB0MnugawChy2sEJDl7UAvy0M\n",
       "wugaMTQIo9jC5Lm0CSG3EkLxgvyrMitCAZcta9GEeZGCEKJvLcwWXpADIhQYwUnt9m4Q2A8xhP0B\n",
       "0HlNDPJgVeVg4IBiizl6UD9AeAuiD6TiPYifAUzUTP8YeAWQlJuDswIHkNR/wHARZ4hFwPhgx+0C\n",
       "a4AyofpAKtiBilPagAyWDwzcE5BjrQJkDT+Q8Gdg2InTlnwUwRSwBigTqg+sQhzoxYgEoHkCDOcT\n",
       "kDSkr2GA2vKRgecbObZA9YFUcINiiwUYL/oTGOwZDsDjZbcMWC2HAQPTTwbmD6D8wwuREMAeYlCj\n",
       "gRqgTJi+CFi8cG1gYDhvwODOjPCMCYRifMDA8xnoCjNcfnkOIg4gbGGExX4KTN9z5JTM/oB5Lxei\n",
       "lIImey6gWXUM1hcW4EvJPL/hgmANUCZU31pkW5g8pyZOhZvBCM0grEBfqswMk0Qre0GB1w0OvFKQ\n",
       "Lf2I7ATSAMsuEH2luPM+G4zRhL/qgJQwrEiZtomEEgYOXuG3hQuc+PnwaACrANvCR0bJDwHHGdBt\n",
       "QddwHF6/8OzEaQyTA15bnMDkBDwaQCrYWiGOWYzTHE18lnAmENIAUgGu9wGmXqYVRUtb0AAAAABJ\n",
       "RU5ErkJggg==\n",
       "\" style=\"display:inline;vertical-align:middle;\" /></a><br>"
      ],
      "text/plain": [
       "expr: {a => (a = FALSE) , [not]([not](a))}"
      ]
     },
     "execution_count": 2,
     "metadata": {},
     "output_type": "execute_result"
    }
   ],
   "source": [
    "# build up the expression from sub-expressions\n",
    "expr = Set(Implies(a, Equals(a, FALSE)), Not(Not(a)))"
   ]
  },
  {
   "cell_type": "code",
   "execution_count": 3,
   "metadata": {},
   "outputs": [
    {
     "name": "stdout",
     "output_type": "stream",
     "text": [
      "Passed sanity check: built 'expr' is the same as the stored Expression.\n"
     ]
    }
   ],
   "source": [
    "# check that the built expression is the same as the stored expression\n",
    "%check_expr"
   ]
  },
  {
   "cell_type": "code",
   "execution_count": 4,
   "metadata": {},
   "outputs": [
    {
     "data": {
      "text/html": [
       "<table><tr><th>&nbsp;</th><th>core type</th><th>sub-expressions</th><th>expression</th></tr>\n",
       "<tr><td>0</td><td>Operation</td><td>operator:&nbsp;1<br>operands:&nbsp;2<br></td><td><a class=\"ProveItLink\" href=\"../dc2347815c42eee1fdcf313aeb1ffad1c5f27e060/expr.ipynb\"><img src=\"data:image/png;base64,iVBORw0KGgoAAAANSUhEUgAAAMkAAAAVBAMAAAAeFNdiAAAAMFBMVEX///9ERETc3NyqqqpUVFS6\n",
       "urrMzMwyMjIQEBCIiIh2dnYiIiLu7u5mZmaYmJgAAABJJ2g3AAAAAXRSTlMAQObYZgAAAjFJREFU\n",
       "SMdjYGDgu8dAQ8C2SgFE8ezCrSQSn36+AEIawCrYmkFMzg+43eGAQ4JpAoi8RlADWMV1EMHVgNMW\n",
       "9gO4rL8AliaoAaxiBXZbeGCMmQx4beFbgC6OrgGsAoctcBf14LeFB0MnugawChy2sEJDl7UAvy0M\n",
       "wugaMTQIo9jC5Lm0CSG3EkLxgvyrMitCAZcta9GEeZGCEKJvLcwWXpADIhQYwUnt9m4Q2A8xhP0B\n",
       "0HlNDPJgVeVg4IBiizl6UD9AeAuiD6TiPYifAUzUTP8YeAWQlJuDswIHkNR/wHARZ4hFwPhgx+0C\n",
       "a4AyofpAKtiBilPagAyWDwzcE5BjrQJkDT+Q8Gdg2InTlnwUwRSwBigTqg+sQhzoxYgEoHkCDOcT\n",
       "kDSkr2GA2vKRgecbObZA9YFUcINiiwUYL/oTGOwZDsDjZbcMWC2HAQPTTwbmD6D8wwuREMAeYlCj\n",
       "gRqgTJi+CFi8cG1gYDhvwODOjPCMCYRifMDA8xnoCjNcfnkOIg4gbGGExX4KTN9z5JTM/oB5Lxei\n",
       "lIImey6gWXUM1hcW4EvJPL/hgmANUCZU31pkW5g8pyZOhZvBCM0grEBfqswMk0Qre0GB1w0OvFKQ\n",
       "Lf2I7ATSAMsuEH2luPM+G4zRhL/qgJQwrEiZtomEEgYOXuG3hQuc+PnwaACrANvCR0bJDwHHGdBt\n",
       "QddwHF6/8OzEaQyTA15bnMDkBDwaQCrYWiGOWYzTHE18lnAmENIAUgGu9wGmXqYVRUtb0AAAAABJ\n",
       "RU5ErkJggg==\n",
       "\" style=\"display:inline;vertical-align:middle;\" /></a></td></tr>\n",
       "<tr><td>1</td><td>Literal</td><td></td><td><a class=\"ProveItLink\" href=\"../../../set_theory/enumeration/__pv_it/07381ed5b23806e8d7914b78cb6667769e3708dd0/expr.ipynb\"><img src=\"data:image/png;base64,iVBORw0KGgoAAAANSUhEUgAAAB4AAAAOBAMAAADKyLEKAAAAMFBMVEX///8iIiIQEBCIiIjMzMzc\n",
       "3Nyqqqp2dnZEREQyMjK6urru7u5mZmZUVFSYmJgAAACI6eGPAAAAAXRSTlMAQObYZgAAALRJREFU\n",
       "CNdjYGDgu3Nm3wIGBJjHwN0PZW5yYGDgLWBgyITy8zcwMMQDxZyh/INAvD6BgcEFypcB4vjPDiBm\n",
       "TPFRrhs/LjMwMP//38rAwCbKEMPA9gEkE3fp0waG+AUMRxh4JkC01T9guPTOOICBEWgVH5C//wHD\n",
       "H5D4fqCz9oCMDGD4DLaegRXslLMMDMpAgxlOMmQxHDRgYG5gYLBk4D7KcIe7gOHC2rt9QCXsh40Z\n",
       "GCKMGQDRkC8N/Ph1XAAAAABJRU5ErkJggg==\n",
       "\" style=\"display:inline;vertical-align:middle;\" /></a></td></tr>\n",
       "<tr><td>2</td><td>ExprTuple</td><td>3, 4</td><td><a class=\"ProveItLink\" href=\"../eea254530bff388486ccb640db53430b72505cac0/expr.ipynb\"><img src=\"data:image/png;base64,iVBORw0KGgoAAAANSUhEUgAAAMIAAAAVBAMAAADm9CyVAAAAMFBMVEX////c3NwiIiJERESqqqqY\n",
       "mJh2dnZmZmYQEBDu7u4yMjJUVFTMzMyIiIi6uroAAAAs73DqAAAAAXRSTlMAQObYZgAAAhBJREFU\n",
       "SMe1lT1IAzEUx1/tx/Vqrd2LKA46iR10cBCLYxW8yaGTW3FQRMGpgycuLnqziy6COki7CmLBzQ52\n",
       "crOIUxGF4semYt5LrndNmxQFAy+XJu+Xf/LykgL8f0lUVSMvOiz80A1AD/KqqOaIFxUDAVpToStQ\n",
       "EHaqUog5Kuk1Gu4KxLj1yUEy3cY9aBXCS3K/DKAHs6ijWsmuXsHckvtlAD2YPbWdvIhm4kivABMy\n",
       "2AZMkG3i0V2u2l7/Cv8YGIXUXT2pUshL3YYvbJzLk9cxq+vJYAP714exjPMJYhZblg0zBJ9RKbYo\n",
       "ZOXwWt52OJcl22Nb+AAj7XPNUqpHWT1owYYySnX3Ny1shADRFFyd7BugtwE9/owyT1Cin1VXAGNK\n",
       "hduWzgoBoim4WzKm0J+Gw7LP+WYZhMIbmJ9/URAcV9hhsajCAjjNcxieIr9oBgJfEGrg/TD4QLpz\n",
       "lMS0DBBNl+NRmgQ4zMBFyNvEHP8ELTDfofdoXrWHHFaOpxB0T7ricjnyymMShEYj3qsj0jrC5jmG\n",
       "2bUlXbaar81OAkRTcDxbH/E61K5rTT4oLkBiiKX1/fO09IZiwLYpYOeosO9dFwTc68A59DiHqHyj\n",
       "4m7D1r/6/NVI+HC786vR/oC5ZVGvEKEED2sA9ED7/evNywHICjJwICylmiJQ1CqUqK5qgJKwgPJf\n",
       "dEAn0FfuBqAHsx9InpfSaS0rRgAAAABJRU5ErkJggg==\n",
       "\" style=\"display:inline;vertical-align:middle;\" /></a></td></tr>\n",
       "<tr><td>3</td><td>Operation</td><td>operator:&nbsp;5<br>operands:&nbsp;6<br></td><td><a class=\"ProveItLink\" href=\"../f5a84841194366ac4e9e51ebb1ba5fe15917f9730/expr.ipynb\"><img src=\"data:image/png;base64,iVBORw0KGgoAAAANSUhEUgAAAHAAAAAVBAMAAABs93eRAAAAMFBMVEX///8yMjKqqqrMzMzu7u4i\n",
       "IiJmZmaYmJhEREQQEBC6urp2dnaIiIhUVFTc3NwAAAD87Fq/AAAAAXRSTlMAQObYZgAAAUJJREFU\n",
       "OMtjYKA2WINPkn0BTinmCzgk+A6AyGScGhkdcJmYAJZGF4YrP8OAVyP7BjRhERhjCn6NLBPQhNdC\n",
       "aS4B/BoZmoC+vbNrHlyY+wCEZgM55e3plQ9wadzGwLDyAccHkNJQMPgGDZsCoK3zGPrBhgiCwQUU\n",
       "jYoMfN8Z2BoQBjJJgSlOYES9L2DIwOnUlQy8HxhYDyBJOM4CkfxAjfcZGGJwarRn4G9g8DdAEpd2\n",
       "gGn8wcDyGY/G9wcY9EHRB/VjBCQmORUY+P4wMH1gQfi+Ac2p/goMF5ngVjJBg4CjgIHlEwOvgDIu\n",
       "GwuB4ccUxg0XfgiLFqC0OINqwgbc0cF355TFKbhwHywBBACj8cziHrRcAHL1VLCrpdDMg7t5Hv5M\n",
       "h5Hk4KAav0buAyRnK2hs45Thu4BX4z3cUm/w6eMxYAAAJ2dNNn4Lml0AAAAASUVORK5CYII=\n",
       "\" style=\"display:inline;vertical-align:middle;\" /></a></td></tr>\n",
       "<tr><td>4</td><td>Operation</td><td>operator:&nbsp;9<br>operand:&nbsp;7<br></td><td><a class=\"ProveItLink\" href=\"../../../../__pv_it/0036ab6983d46c4493c540f34d4f1dc9527e0edc0/expr.ipynb\"><img src=\"data:image/png;base64,iVBORw0KGgoAAAANSUhEUgAAADQAAAAVBAMAAAD7ptBLAAAAMFBMVEX////c3NxERESqqqqYmJgQ\n",
       "EBDu7u4yMjKIiIi6urpUVFTMzMx2dnYiIiJmZmYAAABjE816AAAAAXRSTlMAQObYZgAAAMtJREFU\n",
       "KM9jYCACzEDhsUxAsLkXoKp8jWCyJ6BKsSOYHWjmsxyAM8PQpNgCYCzOAnRnKcMYfAj9DFI9UwUY\n",
       "GM7BbXWAy3AGMugDKXOGt3eB4A4DK9AfUKa8A8MjoNRUiMJdDPwwL+5iWM/AcAPI2I9F6hMD229k\n",
       "KVYDmBTjDwbmD2xIBjLBnLGL7TMDV4E1A4M7NAAZeB7AwpKhhMH2wQEkx3NeQHirY7YG0OZKuEAg\n",
       "zoBi8EGT4mnAGSnpCCYjWlQuRGJLoMhwbGAAAEHzM1gcnVYXAAAAAElFTkSuQmCC\n",
       "\" style=\"display:inline;vertical-align:middle;\" /></a></td></tr>\n",
       "<tr><td>5</td><td>Literal</td><td></td><td><a class=\"ProveItLink\" href=\"../../../boolean/implication/__pv_it/e5c030cabcb650938f92dee8256fe11cd12bf9b30/expr.ipynb\"><img src=\"data:image/png;base64,iVBORw0KGgoAAAANSUhEUgAAABMAAAANBAMAAAC5okgUAAAALVBMVEX////c3NxERETMzMwQEBCq\n",
       "qqoiIiJmZmaIiIh2dnZUVFS6uroyMjLu7u4AAACPpZJTAAAAAXRSTlMAQObYZgAAAD1JREFUCNdj\n",
       "YAABXgY44LkAZ3IvQAjPABFlaSCQV4AQjtkAZ/IegbNt5sLUpunC5aPgLMYDcCaTAJzJDCIA2yMN\n",
       "HCCUuIIAAAAASUVORK5CYII=\n",
       "\" style=\"display:inline;vertical-align:middle;\" /></a></td></tr>\n",
       "<tr><td>6</td><td>ExprTuple</td><td>12, 8</td><td><a class=\"ProveItLink\" href=\"../4d81b81d945d11dc6f0238554ef85e8398bfca990/expr.ipynb\"><img src=\"data:image/png;base64,iVBORw0KGgoAAAANSUhEUgAAAFcAAAAVBAMAAADBdm84AAAAMFBMVEX////c3NwiIiJERESqqqqY\n",
       "mJh2dnZmZmYQEBDu7u4yMjJUVFTMzMyIiIi6uroAAAAs73DqAAAAAXRSTlMAQObYZgAAAQVJREFU\n",
       "KM9jYCAJ8F0gTl0ciDhNWJ0siGA/ACRWElZ8HEwuYGDgvUCs4jAGBo4JxCqewcDwioFYxcwODGVA\n",
       "inFvXiNEGMHCVMxWwLAUSL0QYP4AEYaxqlaBwGoUxSwLGPqAxn1lYDeAGAxnYTGZr4HhHwMD9wcG\n",
       "JkiYIFhYFPN8ACnmN2CYfwDMR7CwK25hYJC/wODPAA5BOKtICQSU0Z1hysAw34FhF8sBTgYYC4fJ\n",
       "rAsY0hkYuAJY1NkY5ivAWLiD7hEocO8dvscw4yOMhQqALtIAu4jrAQOHAEz0IYF4BEY3awKME0BA\n",
       "cS5yEiWgmBOYRBmkoRxeAgZzg9zLSGS2usPAAAAjJEzKBcjZVgAAAABJRU5ErkJggg==\n",
       "\" style=\"display:inline;vertical-align:middle;\" /></a></td></tr>\n",
       "<tr><td>7</td><td>Operation</td><td>operator:&nbsp;9<br>operand:&nbsp;12<br></td><td><a class=\"ProveItLink\" href=\"../../../../__pv_it/50080419512617d6f72cc7cb8f0f323ecd23d8c40/expr.ipynb\"><img src=\"data:image/png;base64,iVBORw0KGgoAAAANSUhEUgAAABgAAAAJBAMAAADa0/H1AAAAMFBMVEX///8yMjKqqqru7u6YmJhE\n",
       "REQQEBC6urqIiIjc3NxUVFTMzMx2dnYiIiJmZmYAAADYs2HGAAAAAXRSTlMAQObYZgAAAE9JREFU\n",
       "CNdjYICCWT1lE2Bs9kyGeAaGt3eB4A7DfAeGp1DxXQzrGRhuwDlfGZh/wzicPxiYPjBDOcyfGLgE\n",
       "tCEcbgYRBt0HB+DWdFRHFAAAmG4X4Eqb2MYAAAAASUVORK5CYII=\n",
       "\" style=\"display:inline;vertical-align:middle;\" /></a></td></tr>\n",
       "<tr><td>8</td><td>Operation</td><td>operator:&nbsp;10<br>operands:&nbsp;11<br></td><td><a class=\"ProveItLink\" href=\"../93f275e9bdc8087619bf7a3734a390a91df084c10/expr.ipynb\"><img src=\"data:image/png;base64,iVBORw0KGgoAAAANSUhEUgAAADYAAAAOBAMAAACWQvIuAAAAMFBMVEX///8yMjKqqqrMzMzu7u4i\n",
       "IiJmZmaYmJhEREQQEBC6urp2dnaIiIhUVFTc3NwAAAD87Fq/AAAAAXRSTlMAQObYZgAAAGZJREFU\n",
       "GNNjYMAO3jDgBmY0k+O7s2seLrmVDzg+gOhEQRCQRZbj+87A1oBDH+8HBtYDOOT4Gxj8DXDIvT/A\n",
       "oM/gAGSkhoJABLKcvwLDRSYD7PoYC5jCuHGYyXfnlMUpNAmg8ZFA4wHScBlQMGMH1QAAAABJRU5E\n",
       "rkJggg==\n",
       "\" style=\"display:inline;vertical-align:middle;\" /></a></td></tr>\n",
       "<tr><td>9</td><td>Literal</td><td></td><td><a class=\"ProveItLink\" href=\"../../../boolean/negation/__pv_it/7bea79645543c2413aa17e787cca04e21046fde60/expr.ipynb\"><img src=\"data:image/png;base64,iVBORw0KGgoAAAANSUhEUgAAAAwAAAAGBAMAAAAFwGKyAAAAFVBMVEX///9UVFTMzMx2dnYiIiJm\n",
       "ZmYAAACWz4ZEAAAAAXRSTlMAQObYZgAAABRJREFUCNdjCHEBAmcGMFDEQzEBAEl+Ai6uYJv/AAAA\n",
       "AElFTkSuQmCC\n",
       "\" style=\"display:inline;vertical-align:middle;\" /></a></td></tr>\n",
       "<tr><td>10</td><td>Literal</td><td></td><td><a class=\"ProveItLink\" href=\"../2fb26078095930560931daa0500ce419a39ea6cd0/expr.ipynb\"><img src=\"data:image/png;base64,iVBORw0KGgoAAAANSUhEUgAAAA4AAAAFBAMAAACHocAhAAAAFVBMVEX///9EREQiIiJUVFQyMjJm\n",
       "ZmYAAADubVkoAAAAAXRSTlMAQObYZgAAABRJREFUCNdjCHEBAWcGXCBICQQUAUpuAwlgGKrkAAAA\n",
       "AElFTkSuQmCC\n",
       "\" style=\"display:inline;vertical-align:middle;\" /></a></td></tr>\n",
       "<tr><td>11</td><td>ExprTuple</td><td>12, 13</td><td><a class=\"ProveItLink\" href=\"../55a7a9b600d60a2aa0fd494229783edafe9e6a450/expr.ipynb\"><img src=\"data:image/png;base64,iVBORw0KGgoAAAANSUhEUgAAADEAAAAVBAMAAAAdjxsPAAAAMFBMVEX////c3NwiIiJERESqqqqY\n",
       "mJh2dnZmZmYQEBDu7u4yMjJUVFTMzMyIiIi6uroAAAAs73DqAAAAAXRSTlMAQObYZgAAANtJREFU\n",
       "KM9jYMAN+C5gEYwDEafRBGVBBPsBILESTeY4mFzAwMB7AatMGAMDxwSsMjMYGF4xYJVhdmAoA9HS\n",
       "114IoMqwFTAsBTm8kcEeTQ/LAoY+ICUfwFCMJsPXwPAPSO1nYNBFk+H5AJb5zMD5B1OmhYGB8S8D\n",
       "ywdODNNMGRg4vzBwL/BhmIAsw7qAIR1ILWVwKkjg/ITm6kcg79x9Y/uAsx/opSIlJQ0lJWUGBq4H\n",
       "DBxwL/IJIIUEMHRYE2AcVuQwykWOBWQZzgUgS2A85OjgBpnMiC227zAwAABqrDU+mSpKtgAAAABJ\n",
       "RU5ErkJggg==\n",
       "\" style=\"display:inline;vertical-align:middle;\" /></a></td></tr>\n",
       "<tr><td>12</td><td>Variable</td><td></td><td><a class=\"ProveItLink\" href=\"../../../../__pv_it/07527342713064c87612d00d8557c53d53d5324a0/expr.ipynb\"><img src=\"data:image/png;base64,iVBORw0KGgoAAAANSUhEUgAAAAsAAAAJBAMAAAAWSsseAAAAMFBMVEX///8yMjKqqqrMzMzu7u4i\n",
       "IiJmZmaYmJhEREQQEBC6urp2dnaIiIhUVFTc3NwAAAD87Fq/AAAAAXRSTlMAQObYZgAAAEhJREFU\n",
       "CNdjYOC7s2seAwPDygccHxgY+L4zsDUwMPB+YGA9wMDA38Dgb8DA8P4Agz6DA4O/AsNFJgMGxgKm\n",
       "MG6gyjunLE4xAAAZTBA5TB6DCwAAAABJRU5ErkJggg==\n",
       "\" style=\"display:inline;vertical-align:middle;\" /></a></td></tr>\n",
       "<tr><td>13</td><td>Literal</td><td></td><td><a class=\"ProveItLink\" href=\"../../../boolean/__pv_it/8f1f7fac882de28c72b62ab80a1700b6d8fd066b0/expr.ipynb\"><img src=\"data:image/png;base64,iVBORw0KGgoAAAANSUhEUgAAAA4AAAAOBAMAAADtZjDiAAAAG1BMVEX///9EREQQEBAiIiJmZmbM\n",
       "zMyIiIjc3NwAAACryk5kAAAAAXRSTlMAQObYZgAAABlJREFUCNdjYGBgKGOAgBBa0s7GxkbGxoYA\n",
       "FMUF2aBfHgoAAAAASUVORK5CYII=\n",
       "\" style=\"display:inline;vertical-align:middle;\" /></a></td></tr>\n",
       "</table>\n"
      ],
      "text/plain": [
       "0. {a => (a = FALSE) , [not]([not](a))}\n",
       "   core type: Operation\n",
       "   operator: 1\n",
       "   operands: 2\n",
       "1. Set\n",
       "   core type: Literal\n",
       "   sub-expressions: \n",
       "2. (a => (a = FALSE) , [not]([not](a)))\n",
       "   core type: ExprTuple\n",
       "   sub-expressions: 3, 4\n",
       "3. a => (a = FALSE)\n",
       "   core type: Operation\n",
       "   operator: 5\n",
       "   operands: 6\n",
       "4. [not]([not](a))\n",
       "   core type: Operation\n",
       "   operator: 9\n",
       "   operand: 7\n",
       "5. =>\n",
       "   core type: Literal\n",
       "   sub-expressions: \n",
       "6. (a , a = FALSE)\n",
       "   core type: ExprTuple\n",
       "   sub-expressions: 12, 8\n",
       "7. [not](a)\n",
       "   core type: Operation\n",
       "   operator: 9\n",
       "   operand: 12\n",
       "8. a = FALSE\n",
       "   core type: Operation\n",
       "   operator: 10\n",
       "   operands: 11\n",
       "9. not\n",
       "   core type: Literal\n",
       "   sub-expressions: \n",
       "10. =\n",
       "    core type: Literal\n",
       "    sub-expressions: \n",
       "11. (a , FALSE)\n",
       "    core type: ExprTuple\n",
       "    sub-expressions: 12, 13\n",
       "12. a\n",
       "    core type: Variable\n",
       "    sub-expressions: \n",
       "13. FALSE\n",
       "    core type: Literal\n",
       "    sub-expressions: "
      ]
     },
     "execution_count": 4,
     "metadata": {},
     "output_type": "execute_result"
    }
   ],
   "source": [
    "# display the expression information\n",
    "expr.exprInfo()"
   ]
  },
  {
   "cell_type": "code",
   "execution_count": null,
   "metadata": {},
   "outputs": [],
   "source": []
  }
 ],
 "metadata": {
  "kernelspec": {
   "display_name": "Python 3",
   "language": "python",
   "name": "python3"
  }
 },
 "nbformat": 4,
 "nbformat_minor": 0
}
