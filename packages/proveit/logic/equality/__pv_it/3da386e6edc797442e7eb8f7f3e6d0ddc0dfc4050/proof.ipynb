{
 "cells": [
  {
   "cell_type": "markdown",
   "metadata": {},
   "source": [
    "Show the Proof\n",
    "========"
   ]
  },
  {
   "cell_type": "code",
   "execution_count": 1,
   "metadata": {},
   "outputs": [
    {
     "data": {
      "text/html": [
       "<table><tr><th>&nbsp;</th><th>step type</th><th>requirements</th><th>statement</th></tr>\n",
       "<tr><td>0</td><td>assumption</td><td></td><td><span style=\"font-size:20px;\"><a class=\"ProveItLink\" href=\"../d812d660848db1cc11a626d47239538f88eb2ca80/expr.ipynb\"><img src=\"data:image/png;base64,iVBORw0KGgoAAAANSUhEUgAAAEkAAAAVBAMAAAD4Ed5jAAAAMFBMVEX///9ERETc3NyqqqpUVFS6\n",
       "urrMzMwyMjIQEBCIiIh2dnYiIiLu7u5mZmaYmJgAAABJJ2g3AAAAAXRSTlMAQObYZgAAALpJREFU\n",
       "KM9jYGDgu8eAB7CtUgBRPLsY8AK2ZhDJ+QGrJO9uMBBgYLgO4nI14DTlAphaMYCqVGZFKOBVxVvA\n",
       "wMDaxCAPZpeDgQOKqvcgIiOAgUH/AcNFnDayA6mUNiDDn4FhJ05VDOIPGBgiEhgYPjLwfMOpinsB\n",
       "kGApYGD6ycD8gQclwNHdxbWBgeczUK0ZwZCoY7C+sICgKpWZYZIBmKoWEBP2UECCKj5CqsDpi2cn\n",
       "gbTaCqb4FhNM9wC0jkGaQwagvAAAAABJRU5ErkJggg==\n",
       "\" style=\"display:inline;vertical-align:middle;\" /></a> <a class=\"ProveItLink\" href=\"proof.ipynb\" style=\"text-decoration: none\">&#x22A2;&nbsp;</a><a class=\"ProveItLink\" href=\"../010a0b4ed65170ff59b94421ba092ff4be357c5f0/expr.ipynb\"><img src=\"data:image/png;base64,iVBORw0KGgoAAAANSUhEUgAAADYAAAAOBAMAAACWQvIuAAAAMFBMVEX///8yMjKqqqrMzMzu7u4i\n",
       "IiJmZmaYmJhEREQQEBC6urp2dnaIiIhUVFTc3NwAAAD87Fq/AAAAAXRSTlMAQObYZgAAAGZJREFU\n",
       "GNNjYMACUkNBIIIBBzBjwA0ok+O7s2seLrmVDzg+gOhEQRCQRZbj+87A1oBDH+8HBtYDOOT4Gxj8\n",
       "DXDIvT/AoM/ggBEYYDl/BYaLTAbY9TEWMIVx4zCT784pi1OYctZADADpMhibXKUQvgAAAABJRU5E\n",
       "rkJggg==\n",
       "\" style=\"display:inline;vertical-align:middle;\" /></a></span></td></tr>\n",
       "</table>"
      ],
      "text/plain": [
       "<proveit._core_.proof._ShowProof at 0x7f950006be80>"
      ]
     },
     "execution_count": 1,
     "metadata": {},
     "output_type": "execute_result"
    }
   ],
   "source": [
    "import proveit\n",
    "%show_proof"
   ]
  },
  {
   "cell_type": "code",
   "execution_count": null,
   "metadata": {},
   "outputs": [],
   "source": []
  }
 ],
 "metadata": {
  "kernelspec": {
   "display_name": "Python 3",
   "language": "python",
   "name": "python3"
  }
 },
 "nbformat": 4,
 "nbformat_minor": 0
}
