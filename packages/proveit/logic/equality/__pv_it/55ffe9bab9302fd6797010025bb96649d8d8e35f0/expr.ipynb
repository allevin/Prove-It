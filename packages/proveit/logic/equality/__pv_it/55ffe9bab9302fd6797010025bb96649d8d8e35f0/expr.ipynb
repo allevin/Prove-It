{
 "cells": [
  {
   "cell_type": "markdown",
   "metadata": {},
   "source": [
    "Expression of type <a class=\"ProveItLink\" href=\"../../../../../../doc/html/api/proveit.number.Add.html\">Add</a>\n",
    "=======================\n",
    "# from context <a class=\"ProveItLink\" href=\"../../_context_.ipynb\">proveit.logic.equality</a>"
   ]
  },
  {
   "cell_type": "code",
   "execution_count": 1,
   "metadata": {},
   "outputs": [],
   "source": [
    "# import Expression classes needed to build the expression\n",
    "from proveit._common_ import b, c, d\n",
    "from proveit.number import Add, Div, Exp"
   ]
  },
  {
   "cell_type": "code",
   "execution_count": 2,
   "metadata": {},
   "outputs": [
    {
     "data": {
      "text/html": [
       "<strong id=\"expr\">expr:</strong> <a class=\"ProveItLink\" href=\"expr.ipynb\"><img src=\"data:image/png;base64,iVBORw0KGgoAAAANSUhEUgAAAIsAAAAZBAMAAADzmcCEAAAAMFBMVEX////c3NxmZmbMzMxERESY\n",
       "mJiIiIh2dna6urqqqqoyMjIiIiIQEBBUVFTu7u4AAAAiO1wTAAAAAXRSTlMAQObYZgAAAe1JREFU\n",
       "OMtjYKAC0G+ghikM76liCsMs6hhTRA1DhNJXYhXnSMChgRVbUPJtZPwHJO9sQJewxW5IyyEGZSzC\n",
       "vArMB4AU1wV0iXU4HPOTgQuLKH8DG8gE/glQ/kMozYbsJ7YChF//MbBCeXwCSLH9gCUOyO1/AOVP\n",
       "g9I8D5CMsf8JZ7JvYOA7AGFyItnE88DeFKijmgHNmC5kJ3MfhDO5FBgYPDGN4VALUwVSa9Ouohqj\n",
       "DnJ1eZoBahDIpvdPgKcQuDHPy5Kh3vzCwG+AYsxSILZp4EKNQI6DDP4P4OkVZgzzCYbVUJF/DDwF\n",
       "KMacAJp9jIElAMUY+QAGLSDVg2rMmwQGVwiLaQEDvwKKMT+AaeEDRG43GDgAmfcZGLaDQhzVmPuI\n",
       "MFRg6AdarLVq1Z5Vq9ZCjeF3QE8dXxj4fkCNYVq1avWpVasugEXhqWcCg/4DFNecBHoBPTswfmPg\n",
       "/MCH7imgKNwYA4bjqDEF9C0/0H0ByMmP7ycD74LJDAxRqJ76Csxn0CwxgekCqjFFoHzCwG6AkvyW\n",
       "MsxWKMCI8EsMDMXQCL+mipb8ukFpJy0PNfnJpjW7AfP3ClRjmMrSHqCHIjwzCOAsWrBlBnTQBitV\n",
       "CnAqYU8gUCIRU1AwMLwipVSUxSlzkRRjGHE5mc0AlxYAuVt4PpnFl7YAAAAASUVORK5CYII=\n",
       "\" style=\"display:inline;vertical-align:middle;\" /></a><br>"
      ],
      "text/plain": [
       "expr: b + (c / d) + c^{d}"
      ]
     },
     "execution_count": 2,
     "metadata": {},
     "output_type": "execute_result"
    }
   ],
   "source": [
    "# build up the expression from sub-expressions\n",
    "expr = Add(b, Div(c, d), Exp(c, d))"
   ]
  },
  {
   "cell_type": "code",
   "execution_count": 3,
   "metadata": {},
   "outputs": [
    {
     "name": "stdout",
     "output_type": "stream",
     "text": [
      "Passed sanity check: built 'expr' is the same as the stored Expression.\n"
     ]
    }
   ],
   "source": [
    "# check that the built expression is the same as the stored expression\n",
    "%check_expr"
   ]
  },
  {
   "cell_type": "code",
   "execution_count": 4,
   "metadata": {},
   "outputs": [
    {
     "data": {
      "text/html": [
       "<table><tr><th>&nbsp;</th><th>core type</th><th>sub-expressions</th><th>expression</th></tr>\n",
       "<tr><td>0</td><td>Operation</td><td>operator:&nbsp;1<br>operands:&nbsp;2<br></td><td><a class=\"ProveItLink\" href=\"expr.ipynb\"><img src=\"data:image/png;base64,iVBORw0KGgoAAAANSUhEUgAAAIsAAAAZBAMAAADzmcCEAAAAMFBMVEX////c3NxmZmbMzMxERESY\n",
       "mJiIiIh2dna6urqqqqoyMjIiIiIQEBBUVFTu7u4AAAAiO1wTAAAAAXRSTlMAQObYZgAAAe1JREFU\n",
       "OMtjYKAC0G+ghikM76liCsMs6hhTRA1DhNJXYhXnSMChgRVbUPJtZPwHJO9sQJewxW5IyyEGZSzC\n",
       "vArMB4AU1wV0iXU4HPOTgQuLKH8DG8gE/glQ/kMozYbsJ7YChF//MbBCeXwCSLH9gCUOyO1/AOVP\n",
       "g9I8D5CMsf8JZ7JvYOA7AGFyItnE88DeFKijmgHNmC5kJ3MfhDO5FBgYPDGN4VALUwVSa9Ouohqj\n",
       "DnJ1eZoBahDIpvdPgKcQuDHPy5Kh3vzCwG+AYsxSILZp4EKNQI6DDP4P4OkVZgzzCYbVUJF/DDwF\n",
       "KMacAJp9jIElAMUY+QAGLSDVg2rMmwQGVwiLaQEDvwKKMT+AaeEDRG43GDgAmfcZGLaDQhzVmPuI\n",
       "MFRg6AdarLVq1Z5Vq9ZCjeF3QE8dXxj4fkCNYVq1avWpVasugEXhqWcCg/4DFNecBHoBPTswfmPg\n",
       "/MCH7imgKNwYA4bjqDEF9C0/0H0ByMmP7ycD74LJDAxRqJ76Csxn0CwxgekCqjFFoHzCwG6AkvyW\n",
       "MsxWKMCI8EsMDMXQCL+mipb8ukFpJy0PNfnJpjW7AfP3ClRjmMrSHqCHIjwzCOAsWrBlBnTQBitV\n",
       "CnAqYU8gUCIRU1AwMLwipVSUxSlzkRRjGHE5mc0AlxYAuVt4PpnFl7YAAAAASUVORK5CYII=\n",
       "\" style=\"display:inline;vertical-align:middle;\" /></a></td></tr>\n",
       "<tr><td>1</td><td>Literal</td><td></td><td><a class=\"ProveItLink\" href=\"../../../../number/addition/__pv_it/3e6688136fa3c7aefbebe51301b7c3ebf0b69c440/expr.ipynb\"><img src=\"data:image/png;base64,iVBORw0KGgoAAAANSUhEUgAAAA4AAAAOBAMAAADtZjDiAAAAJFBMVEX///+6urpUVFQQEBAiIiIy\n",
       "MjJmZmaIiIiqqqrc3Nzu7u4AAACgHpL+AAAAAXRSTlMAQObYZgAAAB5JREFUCNdjYGBgWMkAAe2k\n",
       "0Kmhoc6hoUGk6BMHYgAHOwjcado9fwAAAABJRU5ErkJggg==\n",
       "\" style=\"display:inline;vertical-align:middle;\" /></a></td></tr>\n",
       "<tr><td>2</td><td>ExprTuple</td><td>3, 4, 5</td><td><a class=\"ProveItLink\" href=\"../88ca241a9d0252d5b9cd06576d1d3f2b66a5c8970/expr.ipynb\"><img src=\"data:image/png;base64,iVBORw0KGgoAAAANSUhEUgAAAGgAAAAcBAMAAAB/gedFAAAAMFBMVEX///+qqqp2dnYiIiJERESI\n",
       "iIhmZmYQEBDc3NyYmJgyMjLu7u5UVFTMzMy6uroAAACGxKilAAAAAXRSTlMAQObYZgAAAe1JREFU\n",
       "OMudVDtIw1AUPf1/0jQFN0Eoim5CUZAuQh0cBMFSCQ4qBMFBHRRBcdIO4iCFRtDJpSIIQofgUnCp\n",
       "gx90sZsIQjs4uGgrKihF8ebTxFQsjReSd+7LPe/dd+59AazZfAnWLa+NT1ZIrQjLA3tihdSFO3k4\n",
       "lpqnbCT24IoTuGyew0S9VSAKeBfAXEQaRN4v6zAgsAvABOAWAH/DYz3riCu5KDIvwUPCc6H6QFdY\n",
       "h8Gqobfk3E3CIaJITvmXFkVjebuRu0cq3kpwxzBGTsevlBwrOvQLxqbTOzOAr4IrcrK8JiHTzhfM\n",
       "7FSirOV+1Dmp5ztMoa/g1Nibkt8sZHAFI2ru7Cr21Tn2EweArQqPcnBmCU7RREqLmFVRLo4hFXm/\n",
       "0EeqZ8ApiQcqyqy7V7EYwWugRw29Nkr8LJMcAsrKBlysXpBXMF81VDPaKauUaV5JPB2v43jfYKsw\n",
       "GtInP3EKWYVFyJ842k/8WVzKJJBpg7ziB2mtifOOUTpKyH2CfETuLdgLpuIeokUIMy+EzoFudY7q\n",
       "VKb1zqhkuXfyp/hxc3FT/ONgiVlLkjqdvNY39kytQsDD3y0bTP70/HEEaq0p/k3ymX8TSbARq6Rt\n",
       "ega0y9DgRpkr0U/PpsWfmE9uHlvYGmldeW9ZI83hf/YNHdR1JuE8LiYAAAAASUVORK5CYII=\n",
       "\" style=\"display:inline;vertical-align:middle;\" /></a></td></tr>\n",
       "<tr><td>3</td><td>Variable</td><td></td><td><a class=\"ProveItLink\" href=\"../../../../__pv_it/6840a4fa6c106149dc16a131294d0c5e44f1b0480/expr.ipynb\"><img src=\"data:image/png;base64,iVBORw0KGgoAAAANSUhEUgAAAAkAAAAOBAMAAAAPuiubAAAALVBMVEX///9mZmbMzMxERESYmJiI\n",
       "iIh2dna6urqqqqoyMjIiIiIQEBBUVFTu7u4AAAD9S1JeAAAAAXRSTlMAQObYZgAAAE1JREFUCNdj\n",
       "4D29gAEIOA+ASL4GEFl3AURmgQiGOaFHGBh4HzPwKTBwvGXgTmBgnMDAJ8DAJcBQ5wBSLncBJLWN\n",
       "gYGngRFoBO9REQYGAGrcDtUkVqASAAAAAElFTkSuQmCC\n",
       "\" style=\"display:inline;vertical-align:middle;\" /></a></td></tr>\n",
       "<tr><td>4</td><td>Operation</td><td>operator:&nbsp;6<br>operands:&nbsp;8<br></td><td><a class=\"ProveItLink\" href=\"../461b8d1ae63f41d8f3f9bf7d6c100882f7d684050/expr.ipynb\"><img src=\"data:image/png;base64,iVBORw0KGgoAAAANSUhEUgAAAC0AAAAOBAMAAABJDIgxAAAAMFBMVEX///+qqqpmZmbc3NxUVFSY\n",
       "mJhEREQiIiIyMjK6uroQEBDMzMyIiIh2dnbu7u4AAAA4MM1YAAAAAXRSTlMAQObYZgAAAJpJREFU\n",
       "GNNjYMACOLMUGLACfgEkDs8FOHP+AyTx/R/hzOvImtkXw5lNQMx398wGFMOZfW6CdO6awFGAIj7L\n",
       "gO0fUPkaBrYAFOVfGZgaGBhYPoB5TOVgkAAWYAe6jD8B3e0JDO8nMDDYH0ATBwrIMzxg4AcaHoDs\n",
       "r/cCDB6MGxhYFBh4NyD7iyOAsYgXSOueOYfiL2afk9tOMgAA17QolJDP1tQAAAAASUVORK5CYII=\n",
       "\" style=\"display:inline;vertical-align:middle;\" /></a></td></tr>\n",
       "<tr><td>5</td><td>Operation</td><td>operator:&nbsp;7<br>operands:&nbsp;8<br></td><td><a class=\"ProveItLink\" href=\"../ead4db5841c78dabcaf421988c1e299615492b3b0/expr.ipynb\"><img src=\"data:image/png;base64,iVBORw0KGgoAAAANSUhEUgAAABIAAAAUBAMAAAByuXB5AAAAMFBMVEX///+qqqpmZmbc3NxUVFSY\n",
       "mJhEREQiIiIyMjK6uroQEBDMzMyIiIh2dnbu7u4AAAA4MM1YAAAAAXRSTlMAQObYZgAAAG5JREFU\n",
       "CNdjYIAApp9QBgPfBxiLsQHG4lWA0Mw6NwQgrOcG9g8gLCeGXVBVPxmOQI34x5D6GMJcx/07DsKa\n",
       "dPRQAFDq7pkNEP6uCRwFENVrGNgCwCwWuNX8CTCW/QG4GFARVJ0CAy/UFN0z58A0ABEUGm8l7xzp\n",
       "AAAAAElFTkSuQmCC\n",
       "\" style=\"display:inline;vertical-align:middle;\" /></a></td></tr>\n",
       "<tr><td>6</td><td>Literal</td><td></td><td><a class=\"ProveItLink\" href=\"../../../../number/division/__pv_it/089f5ca61fe425d4f6ef7efa2138c1a2fa47180c0/expr.ipynb\"><img src=\"data:image/png;base64,iVBORw0KGgoAAAANSUhEUgAAAA4AAAAMBAMAAACgrpHpAAAAIVBMVEX///9ERERmZmbc3NwQEBAi\n",
       "IiKqqqrMzMx2dnaIiIgAAACeyUhQAAAAAXRSTlMAQObYZgAAACJJREFUCNdjYGBgmMEABuyrEiCM\n",
       "EAMG3EA1FAQCsUlhMwcALk0GeoeEfOIAAAAASUVORK5CYII=\n",
       "\" style=\"display:inline;vertical-align:middle;\" /></a></td></tr>\n",
       "<tr><td>7</td><td>Literal</td><td></td><td><a class=\"ProveItLink\" href=\"../../../../number/exponentiation/__pv_it/deb2bf23cbccdd6e6791e1b35b5b9794ce12dbd50/expr.ipynb\"><img src=\"data:image/png;base64,iVBORw0KGgoAAAANSUhEUgAAACgAAAASBAMAAADbMYGVAAAAMFBMVEX///8QEBAiIiKYmJjc3Nzu\n",
       "7u7MzMx2dnZmZma6urpERESqqqoyMjJUVFSIiIgAAAAoDOMTAAAAAXRSTlMAQObYZgAAAOBJREFU\n",
       "GNNjYGB4+//u3Tt/GNAASGAXmhjnPyDBgSbI/g1IxKEJ8nxgYGdgQRPkX8BgDKRY6q7s62OYvmze\n",
       "2wAgb/7ZO1+AVDiDkYEQQ0HTBr4DQF59AgOIKmB4z7CNbcNZBu6vQN55kEACQwDDLQYGVobfDHwg\n",
       "fb8YGBxYHwAZciD3fWXg+gB1JjvQcJZvQIXsCgz8F6DO9GBgMOH7wPCUgaeBwd4B7EwGNjUG7s9c\n",
       "AiwPgO5jkWRgiF3/9+5dfQUG1nWl5Y+B7pv+1gE9bBhqGLCAE1jEWH9jEbT5A3IwAC4sP/1L6Qlu\n",
       "AAAAAElFTkSuQmCC\n",
       "\" style=\"display:inline;vertical-align:middle;\" /></a></td></tr>\n",
       "<tr><td>8</td><td>ExprTuple</td><td>9, 10</td><td><a class=\"ProveItLink\" href=\"../1f4efc3b7a909d0274ff36f0d19c7c06c2e6ff420/expr.ipynb\"><img src=\"data:image/png;base64,iVBORw0KGgoAAAANSUhEUgAAACkAAAAVBAMAAAAp9toTAAAAMFBMVEX////c3NwiIiJERESqqqqY\n",
       "mJh2dnZmZmYQEBDu7u4yMjJUVFTMzMyIiIi6uroAAAAs73DqAAAAAXRSTlMAQObYZgAAAQNJREFU\n",
       "GNNjYMAO+C6gCcSBiNOoaiwK2A8A6ZWoKvkdGBYwMPCiGfB+AkMYAwPHBFTRJAaGGQwMr9DsWs7A\n",
       "wOzAUAZkcabdPQAWYtyb94WBga2AYSmQc+IBlwJY9IUA808GBpYFDH1Apb0MzAFgpV8Z2IEO4Gtg\n",
       "+MfAwP0BaiaQwZTAwMDzASTKbwBzqwHD/Adg0RYGBnmYk4EMf4YJIBNMgUqAhgZwAkXnOzDsYjnA\n",
       "wLqAIR1oXAED24H5QFdwBbCos4Fd9giopuzuTYYZH0HOvXf4HlDyAQOHANTQh3DvAX3MmgBlB8BF\n",
       "c5FCEi7KCfQIgzSEzQtXyg0ykxE9hu4wMAAA/os7cGgwRtcAAAAASUVORK5CYII=\n",
       "\" style=\"display:inline;vertical-align:middle;\" /></a></td></tr>\n",
       "<tr><td>9</td><td>Variable</td><td></td><td><a class=\"ProveItLink\" href=\"../../../../__pv_it/cbdfda466482236edba0ce44ac7ef39cda0af7a40/expr.ipynb\"><img src=\"data:image/png;base64,iVBORw0KGgoAAAANSUhEUgAAAAkAAAAJBAMAAAASvxsjAAAALVBMVEX///9mZmbc3NxUVFSYmJhE\n",
       "REQiIiIyMjK6uroQEBDMzMyIiIh2dnbu7u4AAABgFDGoAAAAAXRSTlMAQObYZgAAADZJREFUCNdj\n",
       "YOA9s3sBA8PKBvYEBt7ZDKwODMwPGICALwBE6m0Asx0YGIDiAgw8QJUyu/cyAAAmuwmycZ8WfQAA\n",
       "AABJRU5ErkJggg==\n",
       "\" style=\"display:inline;vertical-align:middle;\" /></a></td></tr>\n",
       "<tr><td>10</td><td>Variable</td><td></td><td><a class=\"ProveItLink\" href=\"../../../../__pv_it/3a5de44ed6135dbbdbbeec6704c741e238f127300/expr.ipynb\"><img src=\"data:image/png;base64,iVBORw0KGgoAAAANSUhEUgAAAAsAAAAOBAMAAAALT/umAAAAMFBMVEX////MzMyYmJiIiIhUVFTc\n",
       "3NwyMjIiIiJ2dnbu7u6qqqpmZmYQEBBERES6uroAAABkyy6XAAAAAXRSTlMAQObYZgAAAFhJREFU\n",
       "CNdjYGBg4LuzgQEE+BeAqfcTwFQ7mGTIBmJW575fQOpNAO9PIOcTA3cCAwPLBwb2BqCeCwzzHzAw\n",
       "xBswrGeYwDB/AYMblwADmwJXNQdIm52sHQMAfyoTCZukXIEAAAAASUVORK5CYII=\n",
       "\" style=\"display:inline;vertical-align:middle;\" /></a></td></tr>\n",
       "</table>\n"
      ],
      "text/plain": [
       "0. b + (c / d) + c^{d}\n",
       "   core type: Operation\n",
       "   operator: 1\n",
       "   operands: 2\n",
       "1. +\n",
       "   core type: Literal\n",
       "   sub-expressions: \n",
       "2. (b , c / d , c^{d})\n",
       "   core type: ExprTuple\n",
       "   sub-expressions: 3, 4, 5\n",
       "3. b\n",
       "   core type: Variable\n",
       "   sub-expressions: \n",
       "4. c / d\n",
       "   core type: Operation\n",
       "   operator: 6\n",
       "   operands: 8\n",
       "5. c^{d}\n",
       "   core type: Operation\n",
       "   operator: 7\n",
       "   operands: 8\n",
       "6. /\n",
       "   core type: Literal\n",
       "   sub-expressions: \n",
       "7. Exp\n",
       "   core type: Literal\n",
       "   sub-expressions: \n",
       "8. (c , d)\n",
       "   core type: ExprTuple\n",
       "   sub-expressions: 9, 10\n",
       "9. c\n",
       "   core type: Variable\n",
       "   sub-expressions: \n",
       "10. d\n",
       "    core type: Variable\n",
       "    sub-expressions: "
      ]
     },
     "execution_count": 4,
     "metadata": {},
     "output_type": "execute_result"
    }
   ],
   "source": [
    "# display the expression information\n",
    "expr.exprInfo()"
   ]
  },
  {
   "cell_type": "code",
   "execution_count": null,
   "metadata": {},
   "outputs": [],
   "source": []
  }
 ],
 "metadata": {
  "kernelspec": {
   "display_name": "Python 3",
   "language": "python",
   "name": "python3"
  }
 },
 "nbformat": 4,
 "nbformat_minor": 0
}
