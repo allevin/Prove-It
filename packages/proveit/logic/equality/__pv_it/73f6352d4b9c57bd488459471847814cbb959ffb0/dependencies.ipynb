{
 "cells": [
  {
   "cell_type": "markdown",
   "metadata": {},
   "source": [
    "Axiom Dependencies\n",
    "=======================\n",
    "\n",
    "## <a class=\"ProveItLink\" href=\"../../_context_.ipynb\">proveit.logic.equality</a>.<a class=\"ProveItLink\" href=\"../../_axioms_.ipynb#equalityInBool\">equalityInBool</a> \n"
   ]
  },
  {
   "cell_type": "code",
   "execution_count": 1,
   "metadata": {},
   "outputs": [],
   "source": [
    "from proveit.logic.equality._axioms_ import equalityInBool"
   ]
  },
  {
   "cell_type": "code",
   "execution_count": 2,
   "metadata": {},
   "outputs": [
    {
     "data": {
      "text/html": [
       "<h3>Theorems that depend directly on equalityInBool</h3>"
      ],
      "text/plain": [
       "<IPython.core.display.HTML object>"
      ]
     },
     "metadata": {},
     "output_type": "display_data"
    },
    {
     "data": {
      "text/html": [
       "<dl>"
      ],
      "text/plain": [
       "<IPython.core.display.HTML object>"
      ]
     },
     "metadata": {},
     "output_type": "display_data"
    },
    {
     "data": {
      "text/html": [
       "<dt><a class=\"ProveItLink\" href=\"../../../boolean/disjunction/_proofs_/singularConstructiveDilemma.ipynb\">proveit.logic.boolean.disjunction.singularConstructiveDilemma</a></dt><dd><a class=\"ProveItLink\" href=\"../../../boolean/disjunction/__pv_it/d57de25fb482cc9f3cea56d72db03aa47a9d88e20/expr.ipynb\"><img src=\"data:image/png;base64,iVBORw0KGgoAAAANSUhEUgAAASwAAAAZBAMAAAB5kw7sAAAAMFBMVEX///8QEBC6urrMzMxUVFRm\n",
       "ZmZERETc3NwyMjKqqqp2dnaIiIiYmJgiIiLu7u4AAAAU9Wx4AAAAAXRSTlMAQObYZgAAA7lJREFU\n",
       "SMfNV11IFFEUPu66Ts7OjkJPFZVFPRW4D1IPEi7FWm9utKMkVlvhGIQ5D+YG4R8Ukg+1Lwm9GUHZ\n",
       "D9sWVg8KTQ9BPxA+pA+mtVKJZFgkGpZU556Z2fnxB2M26MDevXPOd+Z+99xzz70D4F7qRxXIpnhG\n",
       "h7PxmgHItjT+r7TS2aAlZp0WTfWlS1oB9iek3PMRH4ZruAjSusmeLrqkxSfwb1UWAn9VBc9+FWk1\n",
       "4QMXc0mLXtDkntXEW2zuKkiLzdGXcJvyLNwH3dNqZwHfxHJLuBGPN7veiS/i8bj7DembY+1pKhCz\n",
       "sjzsmlaBLNd3u6bV2sba90RrD0AdKTuo7ZqRyoMOeJHR6TA6NhTSyg1CHiv1vVLy0eIeYFrzG6To\n",
       "cYvaH66epHPiiGqW0y0gEknhG2mEQvAXar3OzvMaztgROsSG0mh5QjCBvV0q5BUu7mG1PgG4Z6q9\n",
       "IwBHqfdOMWkFwE+Df5zX1jcEnu8Ak1INpLonN9toIcTPZpdBmVV+APqR3DSGIubwMI+6jDUKUGwe\n",
       "o8UY9i7q/aY2TbT8aoAKTnKQlIEU+AbAf6xlCmnxn220EOJPaHMhlIVWP+DeHsP08qYcHkzy2VY3\n",
       "rW8ADpH+Cquga7EppceNhA3SCGJbCYUyJZPpSxCeKfCUdVPd2w5baREE+3sNlIXWhDeEFYeNknZ6\n",
       "MGHZm7GK0yBoOcfykf+KnSl6rGBWn35U1+1mqlx9AsV9vacAKNtS0npbbhHkPnAhA2WhldeIWT6U\n",
       "UVk8fDJKe9Bi9fzsK09DJapPrMbAm7W8jMUyqdO6TKvxHB6TqQczMu3t1qLlK7UOQpBxyFV0lJVW\n",
       "PpvUDyct46UAUtC08m0gbNAr1QEoMAuLgHVrq6LTymEcxUGpgcapxRVKeIdk+STLLd4yiAbhixoN\n",
       "lO1isw5/LEsmF3iQ7KgyrXkREOf0Va5VcpCWqJ/yJeekhHHfEmhFFSijQjTHtoYY0qJlo6VBxFiV\n",
       "gbLReoW/Sn0NbB5+CSUasVgLEmxXPmD6MIIQy6eXuAZuR7TKdQD3C7hBympaxLOWQQgCcAcp6yjn\n",
       "NXAsAXzQ6SFOodzOWM8o0JqG5ggw9SeMkrgG4NoSt9MPs8BVjHjnoWdG2odxHC+icipbUl6D0CY0\n",
       "UE5aYrQ6CQs9cK1CGWuZyl+Sohf0RaPaFr6VXv7SLGR61zG3nAmsCbeSS7PjpsRZxlUt+paV3eV3\n",
       "Lo6K/fVdfmkP70q+khy01H9PS8jel09oefPowu/EkLvvxNd/AKI4QYFUFwNPAAAAAElFTkSuQmCC\n",
       "\" style=\"display:inline;vertical-align:middle;\" /></a></dd>"
      ],
      "text/plain": [
       "<IPython.core.display.HTML object>"
      ]
     },
     "metadata": {},
     "output_type": "display_data"
    },
    {
     "data": {
      "text/html": [
       "<dt><a class=\"ProveItLink\" href=\"../../../boolean/implication/_proofs_/modusTollensDenial.ipynb\">proveit.logic.boolean.implication.modusTollensDenial</a></dt><dd><a class=\"ProveItLink\" href=\"../../../boolean/implication/__pv_it/3246c5a4226d7722bc081bf00ffc259d114f30320/expr.ipynb\"><img src=\"data:image/png;base64,iVBORw0KGgoAAAANSUhEUgAAAO8AAAAZBAMAAAArlWSOAAAAMFBMVEX///8QEBC6urrMzMxUVFRm\n",
       "ZmZERETc3NwyMjKqqqp2dnaIiIiYmJgiIiLu7u4AAAAU9Wx4AAAAAXRSTlMAQObYZgAAAz5JREFU\n",
       "SMfFlk1oE0EUx1+TJtsmm23wJqJW8SBo6R5EDyINWlpvDZhFFD+K4hbR2h5Kg0htFKRYxOaieDOX\n",
       "1oogK3hrofEgVAXppR7UaJAqhUoVS6uiFN+8mc3O5quQtvggs7vzXuY38+Y/HwBlrTPTDetgDZnU\n",
       "ChFTsD6mRP4fOLsCWFslwmPlVaj1HExjelUaHKJgq2LwHtfXAfwd4eCH7Pt2aXAgiY+abMVgd9ND\n",
       "rDEO7mWP9tJg8vVWzA26cqV+xBGoKQKzwfiSZcTFunysYnCVK1eXT+Pq1MIEVh/E433lVP0yHo9X\n",
       "Lu6dri9rginrPF9OS6b5thy4zjQ7UxWDj7sUnr2fxscwBx8C6KDqgeLgah38mKC7i0aLzqrqbZ8c\n",
       "n/OS1XYZsbP89Zbc2idoYlN+j4N3gJagif8hBDA4eCMtgT0RmGXVYQiGWZUtRDuef9hebs8AnvC3\n",
       "DaigDLMU9bk/io9tHByCIHE+/8VizjgBVmpuu7xzTcE4lr4IeH7KYIq3LeflFgNo5Ju83TsvkrzN\n",
       "zW3s300cHEyHSHmPp/H9zNV5BAe+yuBx+IBlyALflAxm8SyttCJyXm7vAE5CAdiDIk84YC1Bm4vX\n",
       "MgGek/RSu07J4Fn2J/imw2S3BKZ4ZiSQnJdMWwBVKGCjBMYuhsJOqqHjIPNUsz7SZFvGZnmOwd/D\n",
       "9NQ49vQSSGAW7zPRrumyl6v3z1iLWL8XHbCC4Jrv+D4pwHcoRy9gArwpPmLffhlcS1kbRclkJTCL\n",
       "52bojncEe5KAQALULdw5bLekk0T9y85ygiomcW3a6Mp635jmBTbHAdexuIkV5zCfSQdM8Txm71HJ\n",
       "SwH+KGi/xZGfS0Pv1gFQu36hrK8LsMoa8HVDk65F+IjzwK9ZgQ016g6Y4oMGWiwqeymgLgmeBbFl\n",
       "Ft5gxJYpbDduUWloFam+UnARUJZBmZbmmOK1ebRHOa8yIAL6s9AXFQu8cNMLWBJ4ZgmUtvfwpZ42\n",
       "EDNdAB5dNA4nHbCIF3IVXi9f2XpgyIjdLH4sMpstdvUZwTle4eqTd4Qq0vGjFtl0ewpqWiu8c7WX\n",
       "jt5X7HaVf3kJ6msPTq/dLTNTeK+OwOqtIRP5B3eX/JhSFbQOAAAAAElFTkSuQmCC\n",
       "\" style=\"display:inline;vertical-align:middle;\" /></a></dd>"
      ],
      "text/plain": [
       "<IPython.core.display.HTML object>"
      ]
     },
     "metadata": {},
     "output_type": "display_data"
    },
    {
     "data": {
      "text/html": [
       "<dt><a class=\"ProveItLink\" href=\"../../../boolean/implication/_proofs_/notTrueViaContradiction.ipynb\">proveit.logic.boolean.implication.notTrueViaContradiction</a></dt><dd><a class=\"ProveItLink\" href=\"../../../boolean/implication/__pv_it/6be84b165e114d5f1e3038d103beff8da02da5950/expr.ipynb\"><img src=\"data:image/png;base64,iVBORw0KGgoAAAANSUhEUgAAAKkAAAAXCAMAAABHy58YAAAAPFBMVEX///8LCwsYGBgNDQ0oKCgQ\n",
       "EBC6urrMzMxUVFRmZmZERETc3NwyMjKqqqp2dnaIiIiYmJgiIiLu7u4AAACwKje0AAAAAXRSTlMA\n",
       "QObYZgAAAf1JREFUSMfVV9mWpCAMpXuGJezL//9rGywVFJCeGev05MEjlUhuckNIEfLfSHyHE+bu\n",
       "bazqqjzDZzjW7imgXFSr0LJR+niHUIjEHziGYja9fiy99c46tWwEu8QHxTcYi9yCkk8BdRVZPqQ4\n",
       "TmkDqbdFwGCeQkpLZMpAUjMprZBGmuGqLOGx41SlyxGXGqgahJZIicQ8JokS7FNIodyZRWKSv9hI\n",
       "foPU4kJkK1lQokt6rgnQ6nvnqQAWl914OuoWdJbfv/ApBkgNEsPQIhYU+YqeCy++wV7XGMuU1WGr\n",
       "BDMprZEyurVUdwQeoaLn7PykvkdaBMYFSjpbMUHukPLc2hBlOM6njQEGzk9qY76BdH2jeqqcGkgX\n",
       "5otbhDsiZd/5WV0VeJv9PZbXS6D1bfT5cdxGY/YXZ0U7E/h93/mmBvkSTfkYqfR7K21fUp0TWiH1\n",
       "Kw+mgOaX7VzqIr2oETTwEVL78rgfWllfUu0qbXUpJGjvG0sRAlRbVc6v6ty2QQ2QsrBe1jTl5HmZ\n",
       "koaJpsfLPqxfpPvddfbJU4/QQ+1gEwFj9gkd9l8DM7MpvcS/1lTZh2RbHTex7uZEreNFV8LMCGdP\n",
       "E2lcW50SKfiG86Z67xr5iFF82PHU9ycp1TOX4c0wqCZSosRfplSof4B0SlT/7wSbGXA5eRfS94j4\n",
       "ITi+AFZxFymbMnmoAAAAAElFTkSuQmCC\n",
       "\" style=\"display:inline;vertical-align:middle;\" /></a></dd>"
      ],
      "text/plain": [
       "<IPython.core.display.HTML object>"
      ]
     },
     "metadata": {},
     "output_type": "display_data"
    },
    {
     "data": {
      "text/html": [
       "<dt><a class=\"ProveItLink\" href=\"../../../boolean/_proofs_/inBoolInBool.ipynb\">proveit.logic.boolean.inBoolInBool</a></dt><dd><a class=\"ProveItLink\" href=\"../../../boolean/__pv_it/8f5f21c4cf95a3b040f3163441743dfcff68076d0/expr.ipynb\"><img src=\"data:image/png;base64,iVBORw0KGgoAAAANSUhEUgAAAKAAAAAVBAMAAAAz5vjYAAAAMFBMVEX///8QEBC6urrMzMxUVFRm\n",
       "ZmZERETc3NwyMjKqqqp2dnaIiIiYmJgiIiLu7u4AAAAU9Wx4AAAAAXRSTlMAQObYZgAAAiJJREFU\n",
       "OMtjYKA2eIBFTBuKcQIeBdziF0CM0yjCzA4QDGJeQNWx4lt/47UJDAzBDDjFV4L4fSiyHA8gGMT8\n",
       "gKYzQZuvbxVQnAGneBmQx56AIrkbioHg7D8MjQybgLp4FuAUBzmFdQKKpBwUA22a+h0ixLfj7t0G\n",
       "qMY5LA8Y+AQg4q97795gQBXnWV5eXotiHlMDBAMBN/cniJjFOSSXgDyVCQningeY4t/S0m6hGMi6\n",
       "AIKBQI/zD8SleQivMd8BcZaCeWUPsIg7MzCkg8XaYXFyAIKBHlVg/g0WYiuAa9S9/3EDkJ4B5qUz\n",
       "YBFXYeAD+48H6jsGRgUIBnqcgf0rWOgZcuDvngakFcEWJmAT52XgBjvn6R+oHL8CBDMwmLi4fAML\n",
       "Kd69i4gUNiZgeNiDLZQFCsMjBSbOfYAXHBLrrmIYCCQkwEImyC5hY0iAGghN/WjifA1g5cwb0mBe\n",
       "ngDBDJxAfBEs9BZDI8TLF7CKpzuBRFgYYqFybAcgmKESiPvBQiwHkDWCvHYCzPNhwCY+FWzPSYb9\n",
       "UDmuAAgGx1U+ODj4LiFpPLoNnmzeKmATZwRFN9/V0HxoomK6AMbsiT8KGI79bwWLVQTDC4FcEVBw\n",
       "NEHSZ6sBFnEekEGsBQz2UEkGcShGBlN6IbEMBbCsx+kBjWU0cQYGHWDMwgLqFBTjAVwbCIg/+cbA\n",
       "7n8Hs/jCBV6QJM7uAMF4gDtp4tVQjBNwG+AUBwCgb67pvS5ycwAAAABJRU5ErkJggg==\n",
       "\" style=\"display:inline;vertical-align:middle;\" /></a></dd>"
      ],
      "text/plain": [
       "<IPython.core.display.HTML object>"
      ]
     },
     "metadata": {},
     "output_type": "display_data"
    },
    {
     "data": {
      "text/html": [
       "<dt><a class=\"ProveItLink\" href=\"../../_proofs_/notEqualsInBool.ipynb\">proveit.logic.equality.notEqualsInBool</a></dt><dd><a class=\"ProveItLink\" href=\"../0964cdb517a602567f119a9610542d8c3e2df75c0/expr.ipynb\"><img src=\"data:image/png;base64,iVBORw0KGgoAAAANSUhEUgAAAKYAAAAWCAMAAAB9nBcwAAAAPFBMVEX///8LCwsYGBgNDQ0oKCgQ\n",
       "EBC6urrMzMxUVFRmZmZERETc3NwyMjKqqqp2dnaIiIiYmJgiIiLu7u4AAACwKje0AAAAAXRSTlMA\n",
       "QObYZgAAAoRJREFUSMfVV8cW3CAMJIXe4f//NYiyNhhYnFOiw+rZHpvRSEIsQv+HhfevENv7pRk5\n",
       "uenIu9UK3l/X9uw9ynq/NKmmtzn9EpyKQkWFvdAX3uj2WB0K23Bf8Wyhm/q2goBEBRWM+eClaLGL\n",
       "M5bW9v6tmClt5oQmsqQGlPFNFK7PaOLQ+9diooD7S6t8MjXS1A6x8ME7I7P5w/5RvV+X8Do74q4I\n",
       "VS4s1GwJzvgowLw5o8lN76WxTGrLHyUguk4JJr8gI1Ay/FYaIsyTTr1rjzKe5e8JedhArvMhLe68\n",
       "Q/iTDK6y/f4Fv5/NwCASoaDhB+l7guW0Nr2PEbfQM57At4I63MYw6bypa2u6FZNqxCEQkdNIruIM\n",
       "Yt1CVteHBQ/vW3dIM5LOQ1rYZCnCxiGStYlZIBovHPbVHi0ErlRWwQNFH/6OZhZ2sjWpMZcaqpJG\n",
       "OtCczogPTSRuNFPCGzr1A7GMtmEonhsP1r2HtqD3octBmp8/ikSXzhzUshiNSfcHNCteyLrHmQAZ\n",
       "rAyCRVEiiodPuM47WdrChr2YSEG3iqKGuyWYuQ3NmvSK17zGRK5OTioFkm7bofDaZlK8jg6JFIi0\n",
       "u8rMaqZbJLruG0VOsqDpeFu74W/VFW86sBQMGwqP+LsPwpo0escGfIoJSMvrxxXpZupwFilHD+Ex\n",
       "a3XV8NccgBzT++aDx50Gy95PTPPF2cfPhiXSTPWdvh+u0FFG5b1QZj0SRRJXB4fNAWKybTAPy+na\n",
       "p+9OnCM+JUbzlEUg7HKYVqj3B7mZmDCLRQnseJI0Vjt8oinlszShmFjvT8REOlVmrTAm39Hc4anM\n",
       "0U/PQa2t5SJ5+38Rlr5jucW7ooBB/4b9AfILHlxEhVHRAAAAAElFTkSuQmCC\n",
       "\" style=\"display:inline;vertical-align:middle;\" /></a></dd>"
      ],
      "text/plain": [
       "<IPython.core.display.HTML object>"
      ]
     },
     "metadata": {},
     "output_type": "display_data"
    },
    {
     "data": {
      "text/html": [
       "<dt><a class=\"ProveItLink\" href=\"../../../set_theory/enumeration/_proofs_/inSingletonIsBool.ipynb\">proveit.logic.set_theory.enumeration.inSingletonIsBool</a></dt><dd><a class=\"ProveItLink\" href=\"../../../set_theory/enumeration/__pv_it/e90c6ef7d6127b97b117164a829423fd9032750d0/expr.ipynb\"><img src=\"data:image/png;base64,iVBORw0KGgoAAAANSUhEUgAAALkAAAAWBAMAAABuySBUAAAAMFBMVEX///8QEBC6urrMzMxUVFRm\n",
       "ZmZERETc3NwyMjKqqqp2dnaIiIiYmJgiIiLu7u4AAAAU9Wx4AAAAAXRSTlMAQObYZgAAAtVJREFU\n",
       "SMetVU1oE0EUftlNdk12uw3NQaREIgiKIqbgRUESK7T1BynqQcjBnFJLL3tqBVEXobeqARUED66H\n",
       "UjS0BJRAiegq+ENFiDcRAttLKS1CoFAFBX2zs7ObSadWxAffzsybb7+ZeW9+AP7F3ji0PDKzBdHd\n",
       "tGe/j4321Wa1vjKAnhH//xrRIJUPgk45TyGwl0EtZuHnHN+buH3pe3oU+7IAj4njlkBim0shsEeh\n",
       "UpIwO7oVqbq8gsvDkcexqRYFEnUfW6vr9gZ1LYPSC3R6sbJAYqePwFZvNj8L1Y0kT0D1uHMGYBEH\n",
       "npmYuCoQlyyKMA9T7iZzh1GeQOa+B8Oh4KTXS6UvAvWYTaFWBh8UiGPcbY+MMW3DdddXnwaOgOpH\n",
       "32IjMQxwHGBElFSHYgU+OmniaCNdwD+lFtk6eou07wNHUKTmr14s47j03WBYAvVIhsJGkTskuGHm\n",
       "5R6Aw7EGlLA+SRy7gCOQyMxjS8KFdYHmCNS7MxQuDNA8pJtNmjT5GG5kN1KFH0RpCj85noDqUNyH\n",
       "RFyY5nS5f1AH6A0OF0t4Cj8PXXkNCy9lOZ7gqStU3bAOoafS/wxnJNUg4g8VKVOAugYGWXgjHHnI\n",
       "i72WZHGnkWl0qpPIwEg/JskdIFKr3WYfozgU77QWvCCO06H6rBdwJc925HvgCCwyOsnnPRxUAhI/\n",
       "uHYAamwnD3uI/1SSatW7ujLcWT0PBx3gdmRAQHW9UKQSEPF+/uZ1nIRTLLgND8bY3JPnnkOdzLar\n",
       "L9Uvmkz9BkfAW2z90wmyqclwOom0nJRJTw+kmMR2H4HFh/ibYLbzJggJ1BZZJZewEnDZhJTUYq4F\n",
       "H+JbLNowdjD1RFVMq7DK0nxhDnIO3K1Zf3EDv8JTYis2u9+XxeKdh9RRzWgwDzVPIXqbqhCvn/Xe\n",
       "JhLaQbF61ORfI1Ox94bNKz4EtlBue1e1rJj0lG/qOCMb/qf9BiPCxRFmW4Z0AAAAAElFTkSuQmCC\n",
       "\" style=\"display:inline;vertical-align:middle;\" /></a></dd>"
      ],
      "text/plain": [
       "<IPython.core.display.HTML object>"
      ]
     },
     "metadata": {},
     "output_type": "display_data"
    },
    {
     "data": {
      "text/html": [
       "<dt><a class=\"ProveItLink\" href=\"../../../set_theory/enumeration/_proofs_/singletonDef.ipynb\">proveit.logic.set_theory.enumeration.singletonDef</a></dt><dd><a class=\"ProveItLink\" href=\"../../../set_theory/enumeration/__pv_it/923a7dc38b83be31d38162c00e9400f6b23f2e3b0/expr.ipynb\"><img src=\"data:image/png;base64,iVBORw0KGgoAAAANSUhEUgAAAO8AAAAWBAMAAADaw9ZbAAAAMFBMVEX///8QEBC6urrMzMxUVFRm\n",
       "ZmZERETc3NwyMjKqqqp2dnaIiIiYmJgiIiLu7u4AAAAU9Wx4AAAAAXRSTlMAQObYZgAAAxhJREFU\n",
       "SMe9VkFoE0EU/dmk2SbZboM9SJFKBA+CFFPoRS8tFaqohyIeilXUS3LQwx6kVYt2DxY81FJQTx66\n",
       "l1JqaAm0BrRil16EipCTSDWwveTQIhQLetCD8+dPstnd2Vh68MMjk5n39s/++f/PAhzAtGticGYe\n",
       "DmxO2IJSJARN36wPe2YA1iWUk+EO1wXK+OejhNArELTUbn3YYjJkA4xof7hjpCMW8M+0hDAdMg+Q\n",
       "THuHZoDR6jSJsUkYZT/qTclrFQn7cLwRYKw2O9wNAm6uZSa4HHEIru08rXyROt4KiI82c7xF0ObH\n",
       "xh5Klk8IuOc25YS8cdy/b8Vs5hjpiJ+53KZk+arAg5X7r3nER51Gb/qcBRMOOU4O+fPHYsdXOPdy\n",
       "xFcNQjNEkrMAeYnjKYJuad8iPPPznlROKruwxuKFCZ7gLzj8BO0xzy0bYBs+2V3eeaFBOuI46LLI\n",
       "HCIkWfEksF50NwF7MgCnW8qQY+NJjGzanx+MYDEfz7zTQoN0RBukbInjHwQdYuRR6apUKLl6O7Dv\n",
       "RIrwGw+MRSW669O2Z7AxDQZ6FWmQjkjZbU64Y7b9or8nHMMIzDrRPfaD6SF1DHAk8EzS1BzrJvan\n",
       "wsAKe5xSqpdQpwBMZHlb1ct1fQyPZhhSaXHGFOrrFbTPfK+Y5uoeC5d3njS1UEN+gB2lM4jsnXaj\n",
       "Rzz9DkEz1iDF93LJraEyP9x4vygnzZ8jcXZ2H1hjfe+bJw3SueQFe47CsxgedUNJkOYIs/YtGOcT\n",
       "3zOe4r0Cp2wIKSc2kfgTT6v+xic0opzEIf7iSxfgoiB1E6pvtwuUe+pkttFxdfWGIYatGX8DKYN+\n",
       "e+nVO/8ZkwbpXKJhJKPpKBVRR60kDIJrifPelrkY3jIPh3WtRbdlkvUlzSTcM6BDqWWoZhFCLolY\n",
       "We+sOS5I74GgCU2hUVJ9M7IEfTY8L5n/vhY1rH4rbokmpu/3WiSNLpHYqhGrJ8RdAckXyFcW99XL\n",
       "tSYWMwIMVfohQBqk+yRRI265FxLmpCq/kLWFxm+uZQljPPxyWg5KNLYnC/6T/QXx5OS3NLO31gAA\n",
       "AABJRU5ErkJggg==\n",
       "\" style=\"display:inline;vertical-align:middle;\" /></a></dd>"
      ],
      "text/plain": [
       "<IPython.core.display.HTML object>"
      ]
     },
     "metadata": {},
     "output_type": "display_data"
    },
    {
     "data": {
      "text/html": [
       "</dl>"
      ],
      "text/plain": [
       "<IPython.core.display.HTML object>"
      ]
     },
     "metadata": {},
     "output_type": "display_data"
    }
   ],
   "source": [
    "%dependencies equalityInBool"
   ]
  }
 ],
 "metadata": {
  "kernelspec": {
   "display_name": "Python 3",
   "language": "python",
   "name": "python3"
  }
 },
 "nbformat": 4,
 "nbformat_minor": 0
}
