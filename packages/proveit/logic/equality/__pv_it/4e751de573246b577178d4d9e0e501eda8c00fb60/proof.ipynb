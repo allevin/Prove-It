{
 "cells": [
  {
   "cell_type": "markdown",
   "metadata": {},
   "source": [
    "Show the Proof\n",
    "========"
   ]
  },
  {
   "cell_type": "code",
   "execution_count": 1,
   "metadata": {},
   "outputs": [
    {
     "data": {
      "text/html": [
       "<table><tr><th>&nbsp;</th><th>step type</th><th>requirements</th><th>statement</th></tr>\n",
       "<tr><td>0</td><td>assumption</td><td></td><td><span style=\"font-size:20px;\"><a class=\"ProveItLink\" href=\"../d07ff26a68edf57eb315d166b2c112c4b415c12d0/expr.ipynb\"><img src=\"data:image/png;base64,iVBORw0KGgoAAAANSUhEUgAAAEMAAAAVBAMAAADvM06qAAAAMFBMVEX////c3NxERESqqqpUVFS6\n",
       "urrMzMwyMjIQEBCIiIh2dnYiIiLu7u5mZmaYmJgAAABXZE4RAAAAAXRSTlMAQObYZgAAAO5JREFU\n",
       "KM9jYGDgu8eAC7CtEgBRPLsYcAO2ZhDJ+QHMCerFquY6iOBqgHA+Y1WyAkkJ6x+CSrg2EFTCfoGA\n",
       "EpFZ8QZokqwdAZJQJbwFQG4jg/4BELscDBxA4kIv7yowMLwHMTMCGBjkH0B8hwwOMBw5ALE/pQ3I\n",
       "9WdgwAxARrBh6g8YGCISGBg+MfB8xVASCyK4FwAJlgIGxp8MzB94QG7ZDQYKIElmkCTELcAA4fkM\n",
       "VGiGZogVA4MDkqfrGKwvLECLwLp7zwOQlIjMDNMMQFXCy/C+GS10cQBilfDhVQIOUZ6d+FJdK5ji\n",
       "W4w/7QIAplxCotuCFkYAAAAASUVORK5CYII=\n",
       "\" style=\"display:inline;vertical-align:middle;\" /></a> <a class=\"ProveItLink\" href=\"proof.ipynb\" style=\"text-decoration: none\">&#x22A2;&nbsp;</a><a class=\"ProveItLink\" href=\"../ddd47832c0f520bfb006d1b3960ebcb40d0ddba60/expr.ipynb\"><img src=\"data:image/png;base64,iVBORw0KGgoAAAANSUhEUgAAADEAAAAOBAMAAAB0nulXAAAAMFBMVEX////MzMyYmJiIiIhUVFTc\n",
       "3NwyMjIiIiJ2dnbu7u6qqqpmZmYQEBBERES6uroAAABkyy6XAAAAAXRSTlMAQObYZgAAAJVJREFU\n",
       "GNNjYGBg4LuzgQEH4F+AS+b9BFwy7bgkGLKxC7M69/1CF3tzjtUASAbw/gTxtqWBQApY8SXrvUDy\n",
       "EwN3ApoWTgZOTwYGlg8M7A0YVoSA/HKBYf4DdAk+kNfjDRjWM4D8s70cBGrBMitAxPwFDG5cAqha\n",
       "uBoYWBgY2BS4qjnQDBPTVsoDecdO1g5NZgPTnwUMAHMTIyg+hGhRAAAAAElFTkSuQmCC\n",
       "\" style=\"display:inline;vertical-align:middle;\" /></a></span></td></tr>\n",
       "</table>"
      ],
      "text/plain": [
       "<proveit._core_.proof._ShowProof at 0x7f94ea031f28>"
      ]
     },
     "execution_count": 1,
     "metadata": {},
     "output_type": "execute_result"
    }
   ],
   "source": [
    "import proveit\n",
    "%show_proof"
   ]
  },
  {
   "cell_type": "code",
   "execution_count": null,
   "metadata": {},
   "outputs": [],
   "source": []
  }
 ],
 "metadata": {
  "kernelspec": {
   "display_name": "Python 3",
   "language": "python",
   "name": "python3"
  }
 },
 "nbformat": 4,
 "nbformat_minor": 0
}
