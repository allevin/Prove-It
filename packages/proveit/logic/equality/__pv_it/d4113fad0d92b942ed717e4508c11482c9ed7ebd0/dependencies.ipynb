{
 "cells": [
  {
   "cell_type": "markdown",
   "metadata": {},
   "source": [
    "Theorem Dependencies\n",
    "=======================\n",
    "\n",
    "## <a class=\"ProveItLink\" href=\"../../_context_.ipynb\">proveit.logic.equality</a>.<a class=\"ProveItLink\" href=\"../../_theorems_.ipynb#subRightSideInto\">subRightSideInto</a> \n",
    "***see <a class=\"ProveItLink\" href=\"../../_proofs_/subRightSideInto.ipynb\">proof</a>***"
   ]
  },
  {
   "cell_type": "code",
   "execution_count": 1,
   "metadata": {},
   "outputs": [],
   "source": [
    "from proveit.logic.equality._theorems_ import subRightSideInto"
   ]
  },
  {
   "cell_type": "code",
   "execution_count": 2,
   "metadata": {},
   "outputs": [
    {
     "data": {
      "text/html": [
       "<h3>Axioms required (directly or indirectly) to prove subRightSideInto</h3>"
      ],
      "text/plain": [
       "<IPython.core.display.HTML object>"
      ]
     },
     "metadata": {},
     "output_type": "display_data"
    },
    {
     "data": {
      "text/html": [
       "<dl>"
      ],
      "text/plain": [
       "<IPython.core.display.HTML object>"
      ]
     },
     "metadata": {},
     "output_type": "display_data"
    },
    {
     "data": {
      "text/html": [
       "<dt><a class=\"ProveItLink\" href=\"../../../boolean/_axioms_.ipynb#eqTrueElim\">proveit.logic.boolean.eqTrueElim</a></dt><dd><a class=\"ProveItLink\" href=\"../../../boolean/__pv_it/3e7bd867633eab3d515d0929d36506bc9b5772e10/expr.ipynb\"><img src=\"data:image/png;base64,iVBORw0KGgoAAAANSUhEUgAAAGgAAAAWBAMAAADeGsQjAAAAMFBMVEX///8QEBC6urrMzMxUVFRm\n",
       "ZmZERETc3NwyMjKqqqp2dnaIiIiYmJgiIiLu7u4AAAAU9Wx4AAAAAXRSTlMAQObYZgAAAUpJREFU\n",
       "OMtjeMBABrgAIk6ToIEZqGMliNFHgiaODwwMZUCaPYEETWf/ATUCPcU6gXg97FO/MzDwLC8vryXB\n",
       "Im7uT0DyW1raLRI06XH+AZLODAzpYG47mGSCe7gAmx4+BebfQEqFga8BxOX5BBZlg0mfV4AyWNPS\n",
       "xNKyoBwmBvavQIqXgfsAiPv0D4omvvgDCPMRoWvi4vIN5LMDvOBUse4qiiautwHYNAGtlwAZ2WAC\n",
       "jugNaSiarNkSsGjiBOKLIEa6E4hkYYhF0eTAeoHBowMINiBrqgTifhBjKjj5nWTYj6yJZwL3B0yb\n",
       "wEGWD/INI8gsvquhYA5M09vQsH8YmtgTfxQwHPvfCjIUpJi1gMHeAElTOAPzZ4YMDOehAh0GBv4D\n",
       "CE1MQPYfbKGHDJ58Y2D3vwPXxOefwFDy9wABTQjARk5Opp8mFiLUAADNR1FAr8G4iQAAAABJRU5E\n",
       "rkJggg==\n",
       "\" style=\"display:inline;vertical-align:middle;\" /></a></dd>"
      ],
      "text/plain": [
       "<IPython.core.display.HTML object>"
      ]
     },
     "metadata": {},
     "output_type": "display_data"
    },
    {
     "data": {
      "text/html": [
       "<dt><a class=\"ProveItLink\" href=\"../../../boolean/_axioms_.ipynb#eqTrueIntro\">proveit.logic.boolean.eqTrueIntro</a></dt><dd><a class=\"ProveItLink\" href=\"../../../boolean/__pv_it/d0cb838f1f1e44deadf0499da151f8dae5a0de4f0/expr.ipynb\"><img src=\"data:image/png;base64,iVBORw0KGgoAAAANSUhEUgAAAIwAAAAXBAMAAAArT7qNAAAAMFBMVEX///8QEBC6urrMzMxUVFRm\n",
       "ZmZERETc3NwyMjKqqqp2dnaIiIiYmJgiIiLu7u4AAAAU9Wx4AAAAAXRSTlMAQObYZgAAAaxJREFU\n",
       "OMtjYKAOeEBYCdMG/PI8CgwMF0CM03iVmUAoW3Rx1rtgkMAQzMCwEiTQh9cYqGw/FinmABDJwcBQ\n",
       "BqTYE/CZwg3xE8/9B7iM4VnAwAGUZJ2AzxhGiPbK+AJcxvAJMPAsLy+vxesnDQi1Yb8CLmMYMhkY\n",
       "vqWl3cJrTBQkuh7MP4DTmKUMDM4MDOlgdjtEOUxFO4zRAyYfMdiDw4i1AwwcUIyZwcCgwsDXAA6n\n",
       "T2ARNlhi+AQzRghMKjDUB+B0jSIDAy8DN9i1T/+gGAPlAgHYPGYXF/8EnMbYA+PzAC84KtZdRTEG\n",
       "yoUZA/QrYwM+Y/gawKmUeUMasjEwLhBIgghgkuAVQEm6aJ5iSHcCsVgYYpGNgXGBIAeUQIHGcHzA\n",
       "6ZoTQDwVnK1OMuxHNgbGhcQmwwuQzD98Ec7ACIpIvquh+Q8QxsC5QKALzDHy7Qw8+T8wo4p5AZhq\n",
       "AkUtSD1rAYO9AcIYOBdkTQGhkoRPAMbSYWDgP4AwBs6FZDwCgAtWID35xsDufwduDIJLuBiBhhwa\n",
       "YMMUKiFkjDtRxrATKES5DYgyhhzAQpYuAAUAaqwIkhhoAAAAAElFTkSuQmCC\n",
       "\" style=\"display:inline;vertical-align:middle;\" /></a></dd>"
      ],
      "text/plain": [
       "<IPython.core.display.HTML object>"
      ]
     },
     "metadata": {},
     "output_type": "display_data"
    },
    {
     "data": {
      "text/html": [
       "<dt><a class=\"ProveItLink\" href=\"../../_axioms_.ipynb#equalsSymmetry\">proveit.logic.equality.equalsSymmetry</a></dt><dd><a class=\"ProveItLink\" href=\"../00337eac3723871d5661da0e358240a663e29ee80/expr.ipynb\"><img src=\"data:image/png;base64,iVBORw0KGgoAAAANSUhEUgAAAN0AAAAWBAMAAAC2xYReAAAAMFBMVEX///8QEBC6urrMzMxUVFRm\n",
       "ZmZERETc3NwyMjKqqqp2dnaIiIiYmJgiIiLu7u4AAAAU9Wx4AAAAAXRSTlMAQObYZgAAAoFJREFU\n",
       "SMe9VjFoFEEU/bd7u5u7vdscppAgyhUWggQVbFJFIkTQRsQiGESrS6HFFmIEUbdQSBFCQK0s3CaI\n",
       "HgkHyoGc6GIjRISrLITA2qTQ5jCghRbOnz+7uZ2dubtGHzzu9r83f/Zm/p85gP+MWCcYLaIO7xWx\n",
       "o4PtyC4+fFQYTgrqYB3PhcxTg+3I5/iwqjCsauIpglxkLB5iZ7zJPpyredltEfXYykU6w+xb9E7W\n",
       "Wl4uxEQ9vuYih4bZGSvPlpbuKOQjgnrY8lsawTA78mej8UUhXyJ66yHck36m0zzzZAGgfF4uiTDV\n",
       "+iFSoB15GmBRMd8KsWz04B0+zy8j7uPXb/ApOghQCqT4WJRqYPHwMhasSIF25GHwVOuwjzhtdaEh\n",
       "SSEb/pAtX03e8nqq9UOkQDuyCm6kmO8HMS604HfuiJjj3daT4uP1VMvYKQXakW5UjfXzwdPY3M2J\n",
       "B7TzCS0DSpHM5wV4ijRnX7HmN9ppD0wKzoPL1+3yNuIzFcwueMl69sULa6kGFg9v88amFMl6wuIs\n",
       "29N4Dt3fx/0T4qWuCz4AWz6lPrg9eMs6Sd52O0q1DCgF2vmQx+wINXg9wt0paAvTuuBFOCZtb+mP\n",
       "XXNain5ggUTLgFIk/QAFrv/i0lk4J0xTgjudK77UT9c2X7zB8q/L/d5NtQwoBdr5kArumFkzqQsm\n",
       "kuL2iQAbI59n+3Vny8beeUaYKQdluOXDhJEUXSXkLHa9SU2S5ggnOEKkaPYP2Xm9sAkzETxqB9n7\n",
       "qBraoXo6b9T7iFKgXR4SOX4x3ewbnKXOBc3PK/q5kKO8bykF2qUhpm+He1cClpkz4AJ8qYjdHmyX\n",
       "hlTYq4T/+O/SX8R3y4z+LqoKAAAAAElFTkSuQmCC\n",
       "\" style=\"display:inline;vertical-align:middle;\" /></a></dd>"
      ],
      "text/plain": [
       "<IPython.core.display.HTML object>"
      ]
     },
     "metadata": {},
     "output_type": "display_data"
    },
    {
     "data": {
      "text/html": [
       "<dt><a class=\"ProveItLink\" href=\"../../_axioms_.ipynb#equalsTransitivity\">proveit.logic.equality.equalsTransitivity</a></dt><dd><a class=\"ProveItLink\" href=\"../15953cfebb497c481d8be77ed0e16c42a27f82610/expr.ipynb\"><img src=\"data:image/png;base64,iVBORw0KGgoAAAANSUhEUgAAANEAAAAXBAMAAABnpbd1AAAAMFBMVEX///8QEBC6urrMzMxUVFRm\n",
       "ZmZERETc3NwyMjKqqqp2dnaIiIiYmJgiIiLu7u4AAAAU9Wx4AAAAAXRSTlMAQObYZgAAAoBJREFU\n",
       "SMe9VUtoE1EUPZOZZvLrJLQLFVFScKFUMcVC3UglhQotSFYiFiGrVqyLQcQoogQRKihF0Lqwm8GN\n",
       "n0AIWAO2ooNQBD+QlYggRBeKuokIdtOF976Zya+daOHhgXDe3Jt55913PwP8N1TlbdXv73pBvwov\n",
       "XssQUg/6+7pSwANezMpQCnW6njxwlkjPylBa6uR85Zyk64YMpe2dnJ+A2L1c7qIMoUC+kzdIwfye\n",
       "nPwgQ6nLojQUDs1PtDv6evQSIhlgBJjyO+aGCsIGvuOtvY0fjl5lXOGlfurxESBMEe+A4Rd3cCNK\n",
       "ShKw8Bw32+wGjMN06ATQjagtQyme5DEwuo7nDDdbDaTTXZWlBGxdJwcZV8nID9KqkF6gNg6UobDs\n",
       "gdnzDaXIQv+IN2+yopZdEoPh/Ve3RRRm/RfdFuH4R8Y74bgj5Oj2MJWm3aqj/M8fcXOA7ellq6FU\n",
       "1LJbNE7wNaO0otIbghwLtN3HvAugHLyM1vCsLaSwBY2aiWthrsJVdp2tl/agLNzfmm4vGfLyqH+u\n",
       "RLN1chPudT3VcXg1mKCKbsX+5TeXhZfCFr4VYR7DuNgy2ZynuOm9pVlaqUECp+vpqMCYLj582p6m\n",
       "TOwnHSbEO8Y4M2pCZXMPepn2YahJaQCpoHNXSlJJiYJWPIuaUr1zbPrLNHIwHMlHcM5Eb6BGpI7t\n",
       "ytaV1Np9WF7PpPZCnxHkYvDu7aYh6o+Ct/jyZKKIYRu3ynmiaGCzWVcypucWvTYIj5+AuirIRalv\n",
       "5l++Gu3DwdZNToDt2085TmPMoTXQO3wJNbP1o2kGrZ1MvkoneWAPObQWF/yVHrU+xhBesph8leYX\n",
       "OXKHpEKTudkfgDCcYn7TElEAAAAASUVORK5CYII=\n",
       "\" style=\"display:inline;vertical-align:middle;\" /></a></dd>"
      ],
      "text/plain": [
       "<IPython.core.display.HTML object>"
      ]
     },
     "metadata": {},
     "output_type": "display_data"
    },
    {
     "data": {
      "text/html": [
       "<dt><a class=\"ProveItLink\" href=\"../../_axioms_.ipynb#substitution\">proveit.logic.equality.substitution</a></dt><dd><a class=\"ProveItLink\" href=\"../8d36a51e21a3e1f2d1a576f0cfdfe721d403af1e0/expr.ipynb\"><img src=\"data:image/png;base64,iVBORw0KGgoAAAANSUhEUgAAAO8AAAAXBAMAAAARnwX+AAAAMFBMVEX///8QEBC6urrMzMxUVFRm\n",
       "ZmZERETc3NwyMjKqqqp2dnaIiIiYmJgiIiLu7u4AAAAU9Wx4AAAAAXRSTlMAQObYZgAAAvdJREFU\n",
       "SMfFVj1oFEEUfvef293bHKayECJYpIk5wcYqRyRGTBPUQgyiNonCgVuI8QfNIggWEq5QsLttDglB\n",
       "OTAemhRZJIVoc7UorE0QLXIYMIUiznszO7O3uznJQfDBm/123jfzZt+99+YA/pd4vS5MNqLYGPw3\n",
       "/63QFr586MHxURzMyQmJUc7EEEOcTInrIr4s9OCY1mQXf3es74shhjk21xvskbu0e786RW7zcFVi\n",
       "irUTZYY577n2sR85U9294wQlRy2AKazFKDPM+cLVeDY3d7eHSA/ReCGASa5GmWFOtsr158zMxx4c\n",
       "n8dh/cC4j28v33rFolmPEBXHrDsw74E2BaTHAWYxSOON6O5dquMRjb98bDrGpwSrkKeUuA9JytDJ\n",
       "0ZJtWAPI21wPgYl5llmZiu7eJen24ZDb8rEGejvPiuRghKg4xzItmGEFXeRaAN1lhkLc13Vx/AOH\n",
       "fNvHJqSJPBohKo6XaODnp9pcdbeACdfv9eBYaymcaMQ7DnBqXmpLOTZt7CnGtWk0L40ts3glmyL7\n",
       "uWM+SW2vKctiPyVoWeH5ErZfCnXmMwlfHeCcA72oQg2zY2h4R6fzTiRYon/vt46oL6bJk5gtDWkA\n",
       "qKivRGxYa6B7YpvOgpcceECnMGyu8IRiQXWQ5Ml6bxiayrGY7DAI/uagj2vuZbgDceWkOHAWRlyQ\n",
       "5SSOVOG0bRpPwWTwN96Wu/gGgGEcRjwfb6x8W8IcvR9xrDiwsXrRYr1ykCsYniwPSBVT/GUg4Bgn\n",
       "r1CopYEdl20BrwN4p5bZwXmuWqa/4g/ATWtUszX2gIFkWzmmSSG+ga4Do1wJXw1auAsFOemWiSm2\n",
       "JBTEVzEP7sab6RfsAY+btnJMk0J8A11ziYVW8IpE+RpJrQCn4GQdoHZl2upk+Gu7HLs5K92IrWNp\n",
       "YHIdjLolsZCJsOMgJ796mj3TFldxga+zSk3x15SVdYbiG4g04CECUfWxXtq54/icl0LF/xEMuiEO\n",
       "yY7mxDuWhr2W8t5t/RfNBeNeS11EOAAAAABJRU5ErkJggg==\n",
       "\" style=\"display:inline;vertical-align:middle;\" /></a></dd>"
      ],
      "text/plain": [
       "<IPython.core.display.HTML object>"
      ]
     },
     "metadata": {},
     "output_type": "display_data"
    },
    {
     "data": {
      "text/html": [
       "</dl>"
      ],
      "text/plain": [
       "<IPython.core.display.HTML object>"
      ]
     },
     "metadata": {},
     "output_type": "display_data"
    },
    {
     "data": {
      "text/html": [
       "<h3>Theorems that depend directly on subRightSideInto</h3>"
      ],
      "text/plain": [
       "<IPython.core.display.HTML object>"
      ]
     },
     "metadata": {},
     "output_type": "display_data"
    },
    {
     "data": {
      "text/html": [
       "<dl>"
      ],
      "text/plain": [
       "<IPython.core.display.HTML object>"
      ]
     },
     "metadata": {},
     "output_type": "display_data"
    },
    {
     "data": {
      "text/html": [
       "<dt><a class=\"ProveItLink\" href=\"../../../boolean/disjunction/_proofs_/unaryDisjunctionLemma.ipynb\">proveit.logic.boolean.disjunction.unaryDisjunctionLemma</a></dt><dd><a class=\"ProveItLink\" href=\"../../../boolean/disjunction/__pv_it/a551c039bca50f02a0be6054e1e611571afe42fd0/expr.ipynb\"><img src=\"data:image/png;base64,iVBORw0KGgoAAAANSUhEUgAAAOUAAAAVBAMAAABLdTQ8AAAAMFBMVEX///8QEBC6urrMzMxUVFRm\n",
       "ZmZERETc3NwyMjKqqqp2dnaIiIiYmJgiIiLu7u4AAAAU9Wx4AAAAAXRSTlMAQObYZgAAA1VJREFU\n",
       "SMfFlk1oE0EUx18+N0022+KlerCu4kGoSg61Fz9abKDHFqSgYv06pIhKc5DWUtSglkqR2kvBm0Go\n",
       "IooseJTSICi1IqRKexA/oqgUKlIK1oJSfW/m7WazH8GbA5l9s2/+85t9M/MmAP+hlKp6gwZMXmF7\n",
       "+pV4NFrOJx6CxmqjqboUFanxwq9XE8BtqyGsUKuwQ6iLpFz9pXfQa6i9+DsgRfeoPerHHCVSUJgp\n",
       "yYzJwMSWsMq5+kvvLtnQxSxM1w1yS1EfPpTjPsiEQcxwSpqC+Vh6Xq5hNeMSSC8z22z9Qf2A01Hz\n",
       "QkQzi4z5MAMlYoZoSsmSZDYIhzL+E+uPLkGDndlM1Xv2DBzLAmh1QqTe7e+/4BfabXIVh/ExLtcz\n",
       "KOOZSCxjHXXOlb3MjCGlppNdxhSF+pQUrWQyb/yYhyUTecQlZiQvHDtrfmMd73T0Zy8ziUdcMZvS\n",
       "rQI+JqQIo94jXg+7mdclE+NK8SVmjJSg6aFfNKj4rIPXqFwFy2syKa7NbH6CFtwbcFOKtoImpOoy\n",
       "L/bIyFCBe66TTNw/YV0yA2IzBkH5QY865/rrFUzcP/vB3MOXKCibpSgJCYH4QtFa7DoCRn5xC/dc\n",
       "5lNZhAW2asWoTen0Cp2DJQeztpKZ5M/Bnul0B+3EFilKFJLiUD2cQ/vkxe/IjH9zMA/BgwomVuv/\n",
       "gRkZi3PE8IgHcmWmlmsSMzEyAE/FDss3HmXRBiadF+lKxJa2ag3+Zq3Ydr+jMg+mt8xUckm28H2y\n",
       "rhxb6BExD0M3Jxaja6O5nmeYFN5jsBUl1wCnFdWZiKKVewjaOKkqY5y5plk0LlLuc5iCUF5+Z2Q3\n",
       "ayaYFDpbYot2ulik3pLHWeEXFrOZMwLthuha+axAgL5Bm+vqLYXmM5nTtJ5x1uwwM/uQmeODRVBO\n",
       "rGbh2R98FdOdOaEoQj3LoYaYnEPfpmFQe1excZlFKn1DJAstKa1VfqfFDGSZuc+6V+ptCHfuq3dc\n",
       "M46bknMfl+246QrQzrE1LyPKyY67zJ7X77uYM9Uv67hhE31eAaXjLXzVRU7IFCrusgpmrDx1ze8u\n",
       "8y0LXqI7uJ72cs7FVFqtdjjrGtTm9SrtniLnGPjf5DXbk/K/SflPwCMPwWC10RIpIfoL5eDqA8sN\n",
       "TKMAAAAASUVORK5CYII=\n",
       "\" style=\"display:inline;vertical-align:middle;\" /></a></dd>"
      ],
      "text/plain": [
       "<IPython.core.display.HTML object>"
      ]
     },
     "metadata": {},
     "output_type": "display_data"
    },
    {
     "data": {
      "text/html": [
       "<dt><a class=\"ProveItLink\" href=\"../../../boolean/implication/_proofs_/iffFT.ipynb\">proveit.logic.boolean.implication.iffFT</a></dt><dd><a class=\"ProveItLink\" href=\"../../../boolean/implication/__pv_it/d076c0e3855f3181ab080602e72dc2c89b5a740c0/expr.ipynb\"><img src=\"data:image/png;base64,iVBORw0KGgoAAAANSUhEUgAAAHoAAAAVBAMAAAB71edYAAAAMFBMVEX////c3NwiIiJERESqqqqY\n",
       "mJh2dnZmZmYQEBDu7u4yMjJUVFTMzMyIiIi6uroAAAAs73DqAAAAAXRSTlMAQObYZgAAAQxJREFU\n",
       "OMtjYKAM8F0gqCQOt9RpMCmLTapICQSUGdgPYJGE6FgJJo/jMBsivgCXDO8FInSH4ZLhmICmG2gP\n",
       "TwGa7hm4dL9iQNUNdoshmm5mBxy6y9B0nwIRUmi62Qpw6F6KqpunAxTM+itRdbOAg61qFQisRpbp\n",
       "Q9V9CxIMrx6g6OZrwGH3PxTdMwwgNGM3im6eD0Tp5twOoaUuEKe7BdXlLODkpaTIgMXlsKSHJGOK\n",
       "FubeIGKSAKpu1gU47E5H080Oitp9xMbYI4iTNGBO4gRaw2gAV3MMTHI9wMw/YB0cAmgSwPzEOQFN\n",
       "bAauDMqaQEQZkItTZiVhzZwLcEpJE9bNLYBTipFwyXQHlwQAqlZO/hPwzGoAAAAASUVORK5CYII=\n",
       "\" style=\"display:inline;vertical-align:middle;\" /></a></dd>"
      ],
      "text/plain": [
       "<IPython.core.display.HTML object>"
      ]
     },
     "metadata": {},
     "output_type": "display_data"
    },
    {
     "data": {
      "text/html": [
       "<dt><a class=\"ProveItLink\" href=\"../../../boolean/implication/_proofs_/iffTF.ipynb\">proveit.logic.boolean.implication.iffTF</a></dt><dd><a class=\"ProveItLink\" href=\"../../../boolean/implication/__pv_it/da575ca4d375b4321325852fd9becce0d5d5024b0/expr.ipynb\"><img src=\"data:image/png;base64,iVBORw0KGgoAAAANSUhEUgAAAHoAAAAVBAMAAAB71edYAAAAMFBMVEX////c3NwiIiJERESqqqqY\n",
       "mJh2dnZmZmYQEBDu7u4yMjJUVFTMzMyIiIi6uroAAAAs73DqAAAAAXRSTlMAQObYZgAAAQ1JREFU\n",
       "OMtjYKAM8F0gqCQOt9RpBoYiJRBQxiYrCyLYD+CSYVgJJo/jMBsivgCXDO8FInSH4ZLhmICmG2gP\n",
       "TwGa7hm4dL9iQNUNdoshmm5mBxy6y9B0nwIRUmi62Qpw6F6KqpunAxT8+itRdbOAg61qFQisRpbp\n",
       "Q9V9CxIMrx6g6OZrwGH3PxTdMwwgNGM3im6eD0Tp5twOoaUuEKe7BdXlLOBkp6TIgMXlqEkSLGOK\n",
       "FubeIGKSAKpu1gU47E5H080Oitp9xMbYIwj7GEyQE2gNIzTsgE7VADuV6wGaVpgMhwCaBDA/cU5A\n",
       "E5uBK4OyJhBRBuTilFlJWDPnApxS0oR1cwvglGIkXDLdwSUBALmeTv77giohAAAAAElFTkSuQmCC\n",
       "\" style=\"display:inline;vertical-align:middle;\" /></a></dd>"
      ],
      "text/plain": [
       "<IPython.core.display.HTML object>"
      ]
     },
     "metadata": {},
     "output_type": "display_data"
    },
    {
     "data": {
      "text/html": [
       "<dt><a class=\"ProveItLink\" href=\"../../../boolean/_proofs_/unfoldInBoolExplicit.ipynb\">proveit.logic.boolean.unfoldInBoolExplicit</a></dt><dd><a class=\"ProveItLink\" href=\"../../../boolean/__pv_it/6e6206562fb05c01d70d4ee84ce9b743652a06ea0/expr.ipynb\"><img src=\"data:image/png;base64,iVBORw0KGgoAAAANSUhEUgAAAPUAAAAVBAMAAABs27XUAAAAMFBMVEX///8QEBC6urrMzMxUVFRm\n",
       "ZmZERETc3NwyMjKqqqp2dnaIiIiYmJgiIiLu7u4AAAAU9Wx4AAAAAXRSTlMAQObYZgAAAp9JREFU\n",
       "SMfFVkFoE0EU/e12u83uJvamF2UVbxXJofbiocEWejQgAQ9Wqoct4qE5WSQoi1gsPWguBY+5qIgg\n",
       "Cx49uAiKWoT00B5ESwQVoSJFMAqKOvP/n8QkO5NjH7zJTHYeb+bP/L8LsItomB+PMQ3wgzSRCU+Z\n",
       "dTlY082yCkTZrXc9s98h5uBUiihNIFFBZZ54Xw5u6rxHGkTZ3UlZWhGfYB93bymRRgDHsI2Il8SP\n",
       "M6fzfswUeP1H5+3XZDul5psE7P2KKBdpV3XeB5hifas/dN65UdlOyGYLzAL2fk/07y0uXtFZD0ZE\n",
       "Ac/7pvOGCxjiMkCmCGYBew9Xic0wfKPztmtEgaOZ31rvO7KRvtLfKGBvt0gU5zSPf9xIuWoJUcQ1\n",
       "sH7hapYRhQ7v28DxnlCitgBOo+B6h3cmIh6GHAbJ5xD5KytLCc8cCIgikOB81+77oLqXJ5RIJ2Dv\n",
       "wVFiFjy0+ihDtF06A3Ft+xDP3BMQAcanp5ta70lss7wJk4C9rR2il2QxHx9uiP75q1+Ft/ulx1s0\n",
       "+/p421U3aXunC7q8c9E4DuMQ4JnsxbWxsyrmVSJkBNc7illvzJ0o2xK1BTCLgs3UmMM8ntIQzFK9\n",
       "gbi0X533cEKEy4K3tPt+QaOptZZIJ2BvPyLCKtbdl/AErBrt2z7OM1Uu4EEuNIw5Jm75VkukE3Tl\n",
       "GAzEMiU2SgsNazMML8rzdlVtqSOdcz/L8PzvUq83pfI1zsiiEmkEIvzrGP6RgAi+XJ5dhsl8rkD7\n",
       "bnnDXqYRVFPFShptkRlcUxlHxP1MYIZjXlF/c9E3w407x30F8ICJ+NAE5+Rb+BRgbQmTlHeoHp9T\n",
       "XrzmQEV8IzpwV5z3/3AKRCNmusZ9BUNlYh9U1LeGHl4+9ePEgEfEfzxt0gwHCx74AAAAAElFTkSu\n",
       "QmCC\n",
       "\" style=\"display:inline;vertical-align:middle;\" /></a></dd>"
      ],
      "text/plain": [
       "<IPython.core.display.HTML object>"
      ]
     },
     "metadata": {},
     "output_type": "display_data"
    },
    {
     "data": {
      "text/html": [
       "<dt><a class=\"ProveItLink\" href=\"../../_proofs_/rhsViaEquivalence.ipynb\">proveit.logic.equality.rhsViaEquivalence</a></dt><dd><a class=\"ProveItLink\" href=\"../771aeab8c4711531b2b4534bd94ab64c6ca8ce7f0/expr.ipynb\"><img src=\"data:image/png;base64,iVBORw0KGgoAAAANSUhEUgAAAIkAAAAWBAMAAAAGOqJsAAAAMFBMVEX///8QEBC6urrMzMxUVFRm\n",
       "ZmZERETc3NwyMjKqqqp2dnaIiIiYmJgiIiLu7u4AAAAU9Wx4AAAAAXRSTlMAQObYZgAAAfJJREFU\n",
       "OMutlE8oBFEcx7/ssHbMrj8pN+1hD27moCgHQiilLdyUveCICwfJOhFhHcht92CztrQkBwc1zpI9\n",
       "KCWxbm7+hfz3fm/szJtdBya/er/v6zff9+n93sw8pPAfkaR0YHu5MxpvZ7JO83nblJgK6RwYIWDA\n",
       "LuSKVpYBBexg8kJ2KXOUelNQ1kZHx+1C8u4pJ7zAY3//qV3KBD+KBGulCRgAXIPdXUzg2Ym2ckOu\n",
       "7lt+6G4ZEpSHYerVKA+qgA+eIJvuAxtMalUMc3e+vkAphpwUlIdhuuBf2y0bbhQSsRk4SsFRzpoN\n",
       "CBSpAcqHoBSmidbD9cJSoeYm4hnQBlwyoHIjUNwapKCgFKbpnVJBBTUZrKZ8D+UE2EIG5VrF4ZCg\n",
       "FKZpgVJYpTzQSIf5Eu9hckyvLylQquJRzVBpmsWsYAp7x7Ydpdy4RAVZ3+4rGzkRgRKDVa0m+Twi\n",
       "L+tbzNmkRX4+f2NjMSVQ+mBVqwm+mb0QeEcKFYr0n6DPuevRd/hNeYag+XpHpolqqqIa/Hq2L+cU\n",
       "hutcK16B4ngCr3NNh2niTVQaD+SFTrbkDc621Q6HQIk9qLzO1bhTDBN9SJ93Gb+FQi/LPyZ2ZNQt\n",
       "kTbRbku0jIc1VH2syKLUZFLSph+DUydDWRQtyzn5yxtJ+ssN8QXzbpCqvj4ZyAAAAABJRU5ErkJg\n",
       "gg==\n",
       "\" style=\"display:inline;vertical-align:middle;\" /></a></dd>"
      ],
      "text/plain": [
       "<IPython.core.display.HTML object>"
      ]
     },
     "metadata": {},
     "output_type": "display_data"
    },
    {
     "data": {
      "text/html": [
       "<dt><a class=\"ProveItLink\" href=\"../../_proofs_/substituteInFalse.ipynb\">proveit.logic.equality.substituteInFalse</a></dt><dd><a class=\"ProveItLink\" href=\"../565edb6b204b98510e834186f51efc639f68e4960/expr.ipynb\"><img src=\"data:image/png;base64,iVBORw0KGgoAAAANSUhEUgAAAK4AAAAXBAMAAABg52lgAAAAMFBMVEX///8QEBC6urrMzMxUVFRm\n",
       "ZmZERETc3NwyMjKqqqp2dnaIiIiYmJgiIiLu7u4AAAAU9Wx4AAAAAXRSTlMAQObYZgAAAn1JREFU\n",
       "OMu1lE9oE0EUxr9ktvmzu9kGL9KDEMGDIGIEwWNCG6p4Kmgv1UMuJohCFhR7EhYvvYj2UhF6WYRo\n",
       "jFh6yKVeXPEiiJiDIoiRXCzeWqpRW2p1Zndmd7pZKU11YHfevJn5zcyb7w3wn0r3n5Hii8LSc0Cb\n",
       "Ga8Gp7V+l0pvTWadYL+kCz8LPGL17T1s8yeQ2O9DyAT7p4DrbJHy4FiyAaTpB20x4Oo2UjTAQ7OD\n",
       "c7U1iulRI9YNuEYW+sPp6Rt7CENiFVDWqXEYAReXgO+Vyocd5l51/+nIvmELWGFxnJK5dWAMqNJJ\n",
       "tclzVUkzXnW3NzluIml7U+wobsEGeceMWzL3HnAIBl0Sz4En0um4ELNQ26KB+1HcZ2eaU67M9snc\n",
       "g0AGmkOtEvCmG+YqRehbmOfOL1Hcmpi0JnML9EKdDOv6CJzu22/GgWJBxEfJR3B/4S9cw2KJYnyF\n",
       "/h5QW0fGJO5KHq9NZLlf8xMVj0db3iKkJ1wjoTigOsouaqN5gVYLSnlE4h5r1h0Qi/vjRcFQu+Ox\n",
       "WV++Xrkic1/Sb449EarltnMpR45Dw9VGkfvZAnhQqVSsOL99OnBLcOshnSHGjpeY4HI0Ze5FV7dF\n",
       "7icWR1C5/vCsz7VvIjhHad52Op0DnQ7tvsnExK5tmKfyceQl7rq73zL3x8s+l2RJ+AJjZmDTPBby\n",
       "pt7kDFltwA64xN2V0Ybn1+3kjMctqJYa5upS2qjiEOod+mSSTePy3NNuwG303M1/gucfypFN159f\n",
       "Xjq/0Kc46bENKV0P69crS7xOySP6y7XAPLW952Q0d5nX8/KI/pL05a2FEsiJ5qa5vyiPGKwo21ov\n",
       "eDLsAvAHpmeX6MQ1eO4AAAAASUVORK5CYII=\n",
       "\" style=\"display:inline;vertical-align:middle;\" /></a></dd>"
      ],
      "text/plain": [
       "<IPython.core.display.HTML object>"
      ]
     },
     "metadata": {},
     "output_type": "display_data"
    },
    {
     "data": {
      "text/html": [
       "<dt><a class=\"ProveItLink\" href=\"../../_proofs_/substituteInTrue.ipynb\">proveit.logic.equality.substituteInTrue</a></dt><dd><a class=\"ProveItLink\" href=\"../3a696a27b1f070de66f16ee5991ade69f2b12ac30/expr.ipynb\"><img src=\"data:image/png;base64,iVBORw0KGgoAAAANSUhEUgAAAKMAAAAXBAMAAACVGeLQAAAAMFBMVEX///8QEBC6urrMzMxUVFRm\n",
       "ZmZERETc3NwyMjKqqqp2dnaIiIiYmJgiIiLu7u4AAAAU9Wx4AAAAAXRSTlMAQObYZgAAAlZJREFU\n",
       "OMutVb9rFFEQ/m737rK3t7dJJzZyRbBJs4KCCHJLElQQyYE/GhXOJldY3FZGFGH/ANEUplJwESSa\n",
       "YBBMoxaelrEwlYIobBqxEQRDlBTqzHu7d7ObiHpk4O2b9+1335t5M28P2HmLd0JkrOe9orHKzutB\n",
       "dKpT65MnjrJn+jj/ke0tSh7wkLEbA8U2HAIXAnIsleoBBRJ2iaah1kCSjQi4SwPP0Zdc0TuUZgeS\n",
       "fFEH3jTJ2SMk1wBnfmbm2mBF6dCYomiMUEiWCdiYnn7/l98Oefys5OEfgLtBcykSkjaFPQG0id85\n",
       "faot6HX1TNAramFGWUVzEzjMeVtdIVmhkEfhcuAvgUeCnxRMo8niXq6J1hfuz7NTqAtJYwSoocq7\n",
       "TNJRx1skFVp5rBefs5Lln2kzSUnzK23WrbHUB+DY1igVWg70ouhl23L1T5JuuJ889xucdzQvji97\n",
       "fUmNFujQl8cmUFXRpgw0molkYTaXONrj7G0unON6xUc0QUtq9CCwVGzthuFLhmpLfQKyPA4XZo4T\n",
       "sHVvGbguE9foKDUAV9UMJQOd9OjtZq6JUOB8ymkW36WkRm/xeQWJZMpwz/w6nvzE0Id6SD0tjt3h\n",
       "3YaTO2mOmEJSo3tp7IMHoyUZwnYJf63/CeCqXg4admgLSYXiC5XxASI4kWQIWxH+YurYN0+yQvfT\n",
       "07NLfUmNoha7F+eexSjVJUOY1W9oN8y96+b7Ul+T5FCsDEN+A/yeWwxytzbYVtJNFrczDGlXe96T\n",
       "3BsH20rijp78DOO/zc9spa6L/Y//fL8BkpCUKV3ASD0AAAAASUVORK5CYII=\n",
       "\" style=\"display:inline;vertical-align:middle;\" /></a></dd>"
      ],
      "text/plain": [
       "<IPython.core.display.HTML object>"
      ]
     },
     "metadata": {},
     "output_type": "display_data"
    },
    {
     "data": {
      "text/html": [
       "</dl>"
      ],
      "text/plain": [
       "<IPython.core.display.HTML object>"
      ]
     },
     "metadata": {},
     "output_type": "display_data"
    }
   ],
   "source": [
    "%dependencies subRightSideInto"
   ]
  }
 ],
 "metadata": {
  "kernelspec": {
   "display_name": "Python 3",
   "language": "python",
   "name": "python3"
  }
 },
 "nbformat": 4,
 "nbformat_minor": 0
}
