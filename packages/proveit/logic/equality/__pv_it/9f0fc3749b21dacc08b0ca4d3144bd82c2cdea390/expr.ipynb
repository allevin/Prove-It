{
 "cells": [
  {
   "cell_type": "markdown",
   "metadata": {},
   "source": [
    "Expression of type <a class=\"ProveItLink\" href=\"../../../../../../doc/html/api/proveit.Lambda.html\">Lambda</a>\n",
    "=======================\n",
    "# from context <a class=\"ProveItLink\" href=\"../../_context_.ipynb\">proveit.logic.equality</a>"
   ]
  },
  {
   "cell_type": "code",
   "execution_count": 1,
   "metadata": {},
   "outputs": [],
   "source": [
    "# import Expression classes needed to build the expression\n",
    "from proveit import Lambda\n",
    "from proveit._common_ import x, y\n",
    "from proveit.logic import Equals, Forall"
   ]
  },
  {
   "cell_type": "code",
   "execution_count": 2,
   "metadata": {},
   "outputs": [
    {
     "data": {
      "text/html": [
       "<strong id=\"expr\">expr:</strong> <a class=\"ProveItLink\" href=\"expr.ipynb\"><img src=\"data:image/png;base64,iVBORw0KGgoAAAANSUhEUgAAAM4AAAAZCAMAAABO+uFhAAAANlBMVEX///+6uroUFBQNDQ0yMjJE\n",
       "RETMzMwQEBAiIiKYmJju7u5mZmaqqqpUVFSIiIh2dnbc3NwAAACltDI1AAAAAXRSTlMAQObYZgAA\n",
       "AlxJREFUWMPtWNuWpCAMhFm5Q4D//9kNYiMi3a7CnpmHycvYZ07FVC5FkJCbxqSUgfxAoxiYv42S\n",
       "5OdacL900PT/aRd4BFN0lM5eIgXT2HD3EGj4IB1vXz+XeYV67moZpBPYywGbxgae11n5QSl4ZdLY\n",
       "aXTE8zprMUhH+bDaPJ2jywCY2Z1O8OCCBQNNJ2aztivUkSV7cG69nefsSvv1IcSLWh2D9qbQ0QhX\n",
       "UhEh+yeL0z06blUT1tsP6LNxVjkwQmMapFhoLpWVZmqCtkuh4ze05X062oUOHZo8626DPFMHsWaB\n",
       "W2LSG9iFkyZoKvbqpFzX6D9f8mAi0s5WkP6CmkcnvwSDEal/4oXMNUHzeJACAR/WGEd7S06iIvVs\n",
       "OpjvNDU88n+oJ7yhE1a07tMxobuzYaNtxzgFdtDZmg4OLAXH22WGnYVZ2NespFyJ/fV1o9Su66Cr\n",
       "ZlMhDx706XB4s4KykMumgcRAuOhVx+vUEhipK9MMZ0BGbY27JJFiVwdIE7QqUmCjIgxdhxI2nLq0\n",
       "S8ea/Bg0xQdgPTq0KFad1hZQay0xyIRG9ZlNG/Qu1JqB196Dun1BKL3rUGccvJmd2NHyBrDdvrb0\n",
       "MQATLy6IbdALHb/vKF1prOB9Oqmn8F+sarYTYPOyU/A3l43hJecYCM9n34kOCo5f8iHxCVDvkU6m\n",
       "6G5ugh5m0rEO2NKjgz1hDbbFBaC+IKS1id1cnfToBeE42uE4CZfnTguog7E4OXe3pLK2TKGDyTys\n",
       "w5d0WkDh8+zGA3zqpw9MqL+1FbSAb/30cfmdzZFvsfSdzf0F0GUYsXdUUcMAAAAASUVORK5CYII=\n",
       "\" style=\"display:inline;vertical-align:middle;\" /></a><br>"
      ],
      "text/plain": [
       "expr: x -> [forall_{y | x = y} (y = x)]"
      ]
     },
     "execution_count": 2,
     "metadata": {},
     "output_type": "execute_result"
    }
   ],
   "source": [
    "# build up the expression from sub-expressions\n",
    "expr = Lambda(x, Forall([y], Equals(y, x), conditions = [Equals(x, y)]))"
   ]
  },
  {
   "cell_type": "code",
   "execution_count": 3,
   "metadata": {},
   "outputs": [
    {
     "name": "stdout",
     "output_type": "stream",
     "text": [
      "Passed sanity check: built 'expr' is the same as the stored Expression.\n"
     ]
    }
   ],
   "source": [
    "# check that the built expression is the same as the stored expression\n",
    "%check_expr"
   ]
  },
  {
   "cell_type": "code",
   "execution_count": 4,
   "metadata": {},
   "outputs": [
    {
     "data": {
      "text/html": [
       "<table><tr><th>&nbsp;</th><th>core type</th><th>sub-expressions</th><th>expression</th></tr>\n",
       "<tr><td>0</td><td>Lambda</td><td>parameter:&nbsp;10<br>body:&nbsp;1<br></td><td><a class=\"ProveItLink\" href=\"expr.ipynb\"><img src=\"data:image/png;base64,iVBORw0KGgoAAAANSUhEUgAAAM4AAAAZCAMAAABO+uFhAAAANlBMVEX///+6uroUFBQNDQ0yMjJE\n",
       "RETMzMwQEBAiIiKYmJju7u5mZmaqqqpUVFSIiIh2dnbc3NwAAACltDI1AAAAAXRSTlMAQObYZgAA\n",
       "AlxJREFUWMPtWNuWpCAMhFm5Q4D//9kNYiMi3a7CnpmHycvYZ07FVC5FkJCbxqSUgfxAoxiYv42S\n",
       "5OdacL900PT/aRd4BFN0lM5eIgXT2HD3EGj4IB1vXz+XeYV67moZpBPYywGbxgae11n5QSl4ZdLY\n",
       "aXTE8zprMUhH+bDaPJ2jywCY2Z1O8OCCBQNNJ2aztivUkSV7cG69nefsSvv1IcSLWh2D9qbQ0QhX\n",
       "UhEh+yeL0z06blUT1tsP6LNxVjkwQmMapFhoLpWVZmqCtkuh4ze05X062oUOHZo8626DPFMHsWaB\n",
       "W2LSG9iFkyZoKvbqpFzX6D9f8mAi0s5WkP6CmkcnvwSDEal/4oXMNUHzeJACAR/WGEd7S06iIvVs\n",
       "OpjvNDU88n+oJ7yhE1a07tMxobuzYaNtxzgFdtDZmg4OLAXH22WGnYVZ2NespFyJ/fV1o9Su66Cr\n",
       "ZlMhDx706XB4s4KykMumgcRAuOhVx+vUEhipK9MMZ0BGbY27JJFiVwdIE7QqUmCjIgxdhxI2nLq0\n",
       "S8ea/Bg0xQdgPTq0KFad1hZQay0xyIRG9ZlNG/Qu1JqB196Dun1BKL3rUGccvJmd2NHyBrDdvrb0\n",
       "MQATLy6IbdALHb/vKF1prOB9Oqmn8F+sarYTYPOyU/A3l43hJecYCM9n34kOCo5f8iHxCVDvkU6m\n",
       "6G5ugh5m0rEO2NKjgz1hDbbFBaC+IKS1id1cnfToBeE42uE4CZfnTguog7E4OXe3pLK2TKGDyTys\n",
       "w5d0WkDh8+zGA3zqpw9MqL+1FbSAb/30cfmdzZFvsfSdzf0F0GUYsXdUUcMAAAAASUVORK5CYII=\n",
       "\" style=\"display:inline;vertical-align:middle;\" /></a></td></tr>\n",
       "<tr><td>1</td><td>Operation</td><td>operator:&nbsp;2<br>operand:&nbsp;3<br></td><td><a class=\"ProveItLink\" href=\"../40dd1239e4d6f9d24ee71ebd3951ec7e581647e80/expr.ipynb\"><img src=\"data:image/png;base64,iVBORw0KGgoAAAANSUhEUgAAAJIAAAAXBAMAAAASKAvWAAAAMFBMVEX///8QEBC6urrMzMxUVFRm\n",
       "ZmZERETc3NwyMjKqqqp2dnaIiIiYmJgiIiLu7u4AAAAU9Wx4AAAAAXRSTlMAQObYZgAAAgFJREFU\n",
       "OMutlT9Iw0AUxr+06d/UVHQQESSCgyBiCu4WHQRFENwEoYL4d+lkUVGLkyCIg4LgYBZREaSC7VAH\n",
       "O4ounUWhOojo0kkXEe+uubREEw7xLXfkHb97973vcsC/RUl8aadzKqIBRTq5FQF54y7JUeCEjlsi\n",
       "pKBb+UFggQyBhAjp0i0ZMdhOvm0RUqtbUq1H5CiVWhEBedKu6VngfWrqToTkM4DXMQS+bN+XLhaz\n",
       "GeAQ6Aemqxu7aFoAjG4oZUrdYEGbqRqRe4kYYA9oh1qt2+9MkjR4t8fht3UnTNghHWgD6qAUREhR\n",
       "DSpaEM3YpIbM2L0gnLqSIAmhL/TqP4rNmCQ13UP0yUEqWaTwRWc/vyEJ3n2JWMWXxjlT/4FF5aBr\n",
       "Or1y5HSY7gPeoslYtaYzOdEsU0k31cyHt94sl2gQHMGk3ZLJKyiEdE3mu0T51S7kqiQtyJULPBUV\n",
       "U+LwCKkl7vm0kQ4KE1gGc0HlnIMYqtEpmuQLZUM2JfaQDdX57IeN9Jx/PaX7rtP6qEANaKwhxaD7\n",
       "2elI7yUucROrrOh4W8xo9JQtkrd8DIM3Ru/mS26AYTw6XNGwZY6dXNoiqfO7eW6M0NBMzV/lDnMO\n",
       "Hnnhk0CyIscPP6Uq+rE1cexnNQfSgOVIo+N3Z87V/AKWnW2rWH4NXRq/k/bzf3wf5L8/Ld8gVnZw\n",
       "JMRO9wAAAABJRU5ErkJggg==\n",
       "\" style=\"display:inline;vertical-align:middle;\" /></a></td></tr>\n",
       "<tr><td>2</td><td>Literal</td><td></td><td><a class=\"ProveItLink\" href=\"../../../boolean/quantification/universal/__pv_it/265f8c02ac1094d56e0e6410a1c1fd3500dc9f540/expr.ipynb\"><img src=\"data:image/png;base64,iVBORw0KGgoAAAANSUhEUgAAAAwAAAAQBAMAAADQT4M0AAAAMFBMVEX///8QEBC6urrMzMxUVFRm\n",
       "ZmZERETc3NwyMjKqqqp2dnaIiIiYmJgiIiLu7u4AAAAU9Wx4AAAAAXRSTlMAQObYZgAAAFhJREFU\n",
       "CNdjeMAABhdAxGmGlSCqj6EMSLInMHAAJVknMPAsLy+vBYp8S0u7BaScGRjSgZQKA18DkOJl4D4A\n",
       "pLgP8IJM4mswARuX7gSmpoKNZWDcAKZ4gCoAgTQTILaSE58AAAAASUVORK5CYII=\n",
       "\" style=\"display:inline;vertical-align:middle;\" /></a></td></tr>\n",
       "<tr><td>3</td><td>Lambda</td><td>parameter:&nbsp;11<br>body:&nbsp;4<br>conditions:&nbsp;5<br></td><td><a class=\"ProveItLink\" href=\"../8af5f696ce31ed1912aa3b7712f4d8ae642847530/expr.ipynb\"><img src=\"data:image/png;base64,iVBORw0KGgoAAAANSUhEUgAAALcAAAAVCAMAAAAzZI9IAAAANlBMVEX///8UFBQNDQ2YmJhUVFQy\n",
       "MjIQEBBEREQiIiKqqqrMzMyIiIi6urrc3NxmZmZ2dnbu7u4AAACrLjZHAAAAAXRSTlMAQObYZgAA\n",
       "Aa5JREFUSMfFVtuWgyAMZJebEK7//7Mri5aIxqr1VF7a085kxiSSMPbYMf6bag4u0bhb/RTdF21b\n",
       "cZEY7KO+ZbrMfNI3wGUqjw/6VpfTzZJ6zreTH5C1udV3iqFU0Oe02YgGq4W4TSGOjyC8gVCbK4Yd\n",
       "30voEa+RuVw6N89/DkusQOYkr4o9JUh0RFMZu3rgTNWIRtK+OygVEglbw0IBa034TqLNB/UvtaZs\n",
       "nzhJmHoFOkX77qDUJYyEx2yqUpz8qtDvz7A4Kr8E6rc1hahqqVZ7Npt38r2E0gGRsCndYrMl8s1E\n",
       "iz8/QU/ZuYDgkO8OSu8GSDiUvoNWxM53QGuEMnPzLSkB1wenzf9LpLd90kHJkFhYlvdcC8K3xVnQ\n",
       "nG1SiEnj66sL1QzfeS87KD10kXAYP1zmbSaumrRJTVdZTyFqypkeU+OBvbsHeyi95SDhpAFCPrRU\n",
       "uqkWhygjKKYYYX486UjfPXQv5kI4Dgfn/HnK7XN+EhZDiWnOLEenKC85+Nw3Fh5GKzqe2mPPUaZ0\n",
       "37HHYmEzdszxCF6cpkyp8jf4viI8G7+2gcN6RsEn++AfWIMVZyLKnrAAAAAASUVORK5CYII=\n",
       "\" style=\"display:inline;vertical-align:middle;\" /></a></td></tr>\n",
       "<tr><td>4</td><td>Operation</td><td>operator:&nbsp;8<br>operands:&nbsp;6<br></td><td><a class=\"ProveItLink\" href=\"../d8f4b7641542c288ed970c88f135a4a4fc45f6d70/expr.ipynb\"><img src=\"data:image/png;base64,iVBORw0KGgoAAAANSUhEUgAAADIAAAANBAMAAAAZPSD6AAAAMFBMVEX///+YmJhUVFQyMjIQEBBE\n",
       "REQiIiKqqqrMzMyIiIi6urrc3NxmZmZ2dnbu7u4AAADXeCicAAAAAXRSTlMAQObYZgAAAJ9JREFU\n",
       "GNNj4LtzgWH/AwYUwH1Tu/IkAy/XB4b5IO5hYxAwAjHfMogJuDG08yQwhKJqYbgAVFvB8IBlAsNP\n",
       "NJkHDKogqv4Bxw8GdOAJNp+B0wFEH0sDgVSIE34w8DEw2DCwKqDpkOb8wDCPgeEQw3oBVAn2j6wO\n",
       "3BMYGJ7OPL8BVYYv8t7diWDWNQasgCmBzx27DNsF1gvYZdhnnsIuAQDyJSjr8t2RSgAAAABJRU5E\n",
       "rkJggg==\n",
       "\" style=\"display:inline;vertical-align:middle;\" /></a></td></tr>\n",
       "<tr><td>5</td><td>ExprTuple</td><td>7</td><td><a class=\"ProveItLink\" href=\"../d7e65074c6d38f24d57d3498742a0ea3140e8b8f0/expr.ipynb\"><img src=\"data:image/png;base64,iVBORw0KGgoAAAANSUhEUgAAAD8AAAAVBAMAAAADRiu8AAAAMFBMVEX////c3NwiIiJERESqqqqY\n",
       "mJh2dnZmZmYQEBDu7u4yMjJUVFTMzMyIiIi6uroAAAAs73DqAAAAAXRSTlMAQObYZgAAARFJREFU\n",
       "KM9jYCAI+C7glosDEafxaGY/ACRW4jN+AQMD7wV8CsIYGDgm4FMwg4HhFV4fMDswlAEpsdsi19Fs\n",
       "4kxPYJCfwMBWwLAUyElgVeVQADl6FRhsADLZ+D4w3GdgYFnA0AfkMPB+YDmAasIRdgUGY2AgNTD8\n",
       "A5rAwG2AbvkEjgsMfxkYeD6AFAC9gulX/wk8f8AKWkA8+QMMIN+yK4EB2LgqBt4GsBWmDAysAvcZ\n",
       "eNGDYzkDM9CxrAsY0oGmBVgwyKJbUc3wPoAB5M1HDAyTr03LDUBXMPluvQADA9cDBg4BXKGYBAlq\n",
       "1gSsstwKnCDn5+KMbqYEZqBOTmB0M0hjVcBytw5kDsh+RjwJ4g4DAwALUz0NBgexYgAAAABJRU5E\n",
       "rkJggg==\n",
       "\" style=\"display:inline;vertical-align:middle;\" /></a></td></tr>\n",
       "<tr><td>6</td><td>ExprTuple</td><td>11, 10</td><td><a class=\"ProveItLink\" href=\"../470bbc9880f0fcda6ab2160544dedf05732e41640/expr.ipynb\"><img src=\"data:image/png;base64,iVBORw0KGgoAAAANSUhEUgAAACwAAAAVBAMAAADP3xFXAAAAMFBMVEX////c3NwiIiJERESqqqqY\n",
       "mJh2dnZmZmYQEBDu7u4yMjJUVFTMzMyIiIi6uroAAAAs73DqAAAAAXRSTlMAQObYZgAAAQdJREFU\n",
       "GNN1kLtKA0EUQI8mu5kYJ2whNiLZxl5QwW+wydZWg00qWwsVTWEtC0IINlYiNqJ/sIWdhVOZIoSo\n",
       "ldgYeyPecYOvMQP3wZn7hjGvav+S4F7UjR+5K3Lu4ynQ1seBQaU+Ljd5/m+MZbbks2Go5Umz3ZmO\n",
       "VG1wCmF1QD/PNsGCimGNQ7guxSx94hA9KGbwxDukyjLMo6ksOnvrMPV0+m3UTNkcH4jeRjdHuJaR\n",
       "uiIr4p9RuJQCskfURwtel1lgh5eEE5mgnqwyjxvwUfRRbz+i/SrOXWszEXCBilzJDZGHn8vLWSpx\n",
       "2TVOvnBo3WEnTcH8wscicxR7e2L196WuRCa8g+uMDxGWOvpEaKwNAAAAAElFTkSuQmCC\n",
       "\" style=\"display:inline;vertical-align:middle;\" /></a></td></tr>\n",
       "<tr><td>7</td><td>Operation</td><td>operator:&nbsp;8<br>operands:&nbsp;9<br></td><td><a class=\"ProveItLink\" href=\"../d7b0ec29f16be033b0ced711d4b5a779ecbfcdb70/expr.ipynb\"><img src=\"data:image/png;base64,iVBORw0KGgoAAAANSUhEUgAAADMAAAANBAMAAAD2/0vEAAAAMFBMVEX///+6uroyMjJERETMzMwQ\n",
       "EBAiIiKYmJju7u5mZmaqqqpUVFSIiIh2dnbc3NwAAAAWgogoAAAAAXRSTlMAQObYZgAAAKRJREFU\n",
       "GNNjYHh7+tXJAwwogOPmBYb3DQwcF9jTWROAfE4lMNgAZPIyfmA4D6QYeD5wOaDq8uJMYDAGambg\n",
       "NmBAAw2sBxj+gBisB9ClGNY3sHwB0e8dGBpAdqWBAdiISQw8AQwM7A/OM/A0oOnSZGAGOmd9gSnD\n",
       "G3QDZzPIFzAwNJ/tvVOALtV8Zv4DBlzgGg5x7gSOKBxSbBeYL+CQ4jozEUgCABYeKl4jfnQmAAAA\n",
       "AElFTkSuQmCC\n",
       "\" style=\"display:inline;vertical-align:middle;\" /></a></td></tr>\n",
       "<tr><td>8</td><td>Literal</td><td></td><td><a class=\"ProveItLink\" href=\"../2fb26078095930560931daa0500ce419a39ea6cd0/expr.ipynb\"><img src=\"data:image/png;base64,iVBORw0KGgoAAAANSUhEUgAAAA4AAAAFBAMAAACHocAhAAAAFVBMVEX///9EREQiIiJUVFQyMjJm\n",
       "ZmYAAADubVkoAAAAAXRSTlMAQObYZgAAABRJREFUCNdjCHEBAWcGXCBICQQUAUpuAwlgGKrkAAAA\n",
       "AElFTkSuQmCC\n",
       "\" style=\"display:inline;vertical-align:middle;\" /></a></td></tr>\n",
       "<tr><td>9</td><td>ExprTuple</td><td>10, 11</td><td><a class=\"ProveItLink\" href=\"../a6a2ac9310c73e21661c7634808321702fb219240/expr.ipynb\"><img src=\"data:image/png;base64,iVBORw0KGgoAAAANSUhEUgAAACwAAAAVBAMAAADP3xFXAAAAMFBMVEX////c3NwiIiJERESqqqqY\n",
       "mJh2dnZmZmYQEBDu7u4yMjJUVFTMzMyIiIi6uroAAAAs73DqAAAAAXRSTlMAQObYZgAAAQtJREFU\n",
       "GNNjYMAB+C6gi7A+ABKnMVXWAPFKTGEuBgbeC5jCrAkMHBMwhTkbGF5hc4YJQxmQFLstch1i1rQy\n",
       "BsafDAzpDEuBehJYVTkUwMIJ7xl4PzAweDH0MTCwAZksB0CiPA5FDMwGDAwvGP4BVTNwG0DtYuhl\n",
       "4Acadx4kzMDAAXMly0+G8wdAwi0gnvwBBog72Rcw3GAAGWIKdL3AfQbeCWAJrgIGayAVBXQLg3+A\n",
       "BYMsA+cnkOoNfF8ZQA58xMAw+dq03AAGzn4BoJ221z8ChdcxcAjAQxjMYlMAex4YLLAAAuJNDDMc\n",
       "gFIXkAIWJKzGYAYkZwGxNEwY5Hbf66CY2QjEjBgBznuAAQAt5DtyKXSr1gAAAABJRU5ErkJggg==\n",
       "\" style=\"display:inline;vertical-align:middle;\" /></a></td></tr>\n",
       "<tr><td>10</td><td>Variable</td><td></td><td><a class=\"ProveItLink\" href=\"../../../../__pv_it/530be409e3083890784cf1d7b28c9e67e90af9360/expr.ipynb\"><img src=\"data:image/png;base64,iVBORw0KGgoAAAANSUhEUgAAAAsAAAAJBAMAAAAWSsseAAAAKlBMVEX///9ERETMzMwQEBAiIiKY\n",
       "mJju7u5mZmaqqqpUVFSIiIh2dnbc3NwAAAA/vyDhAAAAAXRSTlMAQObYZgAAAENJREFUCNdjYDi9\n",
       "8sTyBQxsG1hdmR0YuBm4LnAoMLAxcAowgADzAjB1VoEhgYH1wFoGrgSG3gBhhlMMDImrs3cFMAAA\n",
       "t0YN+iTRa+sAAAAASUVORK5CYII=\n",
       "\" style=\"display:inline;vertical-align:middle;\" /></a></td></tr>\n",
       "<tr><td>11</td><td>Variable</td><td></td><td><a class=\"ProveItLink\" href=\"../../../../__pv_it/f8b9edf8e16034727f0aad55bb83e392c3db40d40/expr.ipynb\"><img src=\"data:image/png;base64,iVBORw0KGgoAAAANSUhEUgAAAAsAAAANBAMAAACN24kIAAAAMFBMVEX///+YmJhUVFQyMjIQEBBE\n",
       "REQiIiKqqqrMzMyIiIi6urrc3NxmZmZ2dnbu7u4AAADXeCicAAAAAXRSTlMAQObYZgAAAFhJREFU\n",
       "CNdj4LtzgWH/AwZerg8M8xkY2nkSGEIZGB6wTGD4ycDAUP+A4weQOszA6QCkbBhYFYDUIYb1AkDq\n",
       "6czzGxhA4BoQMyXwuQMptgusF4AU+8xTQBIAUqMVoSp/SLMAAAAASUVORK5CYII=\n",
       "\" style=\"display:inline;vertical-align:middle;\" /></a></td></tr>\n",
       "</table>\n"
      ],
      "text/plain": [
       "0. x -> [forall_{y | x = y} (y = x)]\n",
       "   core type: Lambda\n",
       "   parameter: 10\n",
       "   body: 1\n",
       "1. forall_{y | x = y} (y = x)\n",
       "   core type: Operation\n",
       "   operator: 2\n",
       "   operand: 3\n",
       "2. forall\n",
       "   core type: Literal\n",
       "   sub-expressions: \n",
       "3. y -> (y = x) | x = y\n",
       "   core type: Lambda\n",
       "   parameter: 11\n",
       "   body: 4\n",
       "   conditions: 5\\n4. y = x\n",
       "   core type: Operation\n",
       "   operator: 8\n",
       "   operands: 6\n",
       "5. (x = y)\n",
       "   core type: ExprTuple\n",
       "   sub-expressions: 7\n",
       "6. (y , x)\n",
       "   core type: ExprTuple\n",
       "   sub-expressions: 11, 10\n",
       "7. x = y\n",
       "   core type: Operation\n",
       "   operator: 8\n",
       "   operands: 9\n",
       "8. =\n",
       "   core type: Literal\n",
       "   sub-expressions: \n",
       "9. (x , y)\n",
       "   core type: ExprTuple\n",
       "   sub-expressions: 10, 11\n",
       "10. x\n",
       "    core type: Variable\n",
       "    sub-expressions: \n",
       "11. y\n",
       "    core type: Variable\n",
       "    sub-expressions: "
      ]
     },
     "execution_count": 4,
     "metadata": {},
     "output_type": "execute_result"
    }
   ],
   "source": [
    "# display the expression information\n",
    "expr.exprInfo()"
   ]
  },
  {
   "cell_type": "code",
   "execution_count": null,
   "metadata": {},
   "outputs": [],
   "source": []
  }
 ],
 "metadata": {
  "kernelspec": {
   "display_name": "Python 3",
   "language": "python",
   "name": "python3"
  }
 },
 "nbformat": 4,
 "nbformat_minor": 0
}
