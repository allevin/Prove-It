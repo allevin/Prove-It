{
 "cells": [
  {
   "cell_type": "markdown",
   "metadata": {},
   "source": [
    "Expression of type <a class=\"ProveItLink\" href=\"../../../../../../doc/html/api/proveit.logic.Equals.html\">Equals</a>\n",
    "=======================\n",
    "# from context <a class=\"ProveItLink\" href=\"../../_context_.ipynb\">proveit.logic.equality</a>"
   ]
  },
  {
   "cell_type": "code",
   "execution_count": 1,
   "metadata": {},
   "outputs": [],
   "source": [
    "# import Expression classes needed to build the expression\n",
    "from proveit._common_ import a, b\n",
    "from proveit.logic import Equals, Not"
   ]
  },
  {
   "cell_type": "code",
   "execution_count": 2,
   "metadata": {},
   "outputs": [
    {
     "data": {
      "text/html": [
       "<strong id=\"expr\">expr:</strong> <a class=\"ProveItLink\" href=\"expr.ipynb\"><img src=\"data:image/png;base64,iVBORw0KGgoAAAANSUhEUgAAAGgAAAAVBAMAAABYjraNAAAAMFBMVEX////c3NwiIiJERESqqqqY\n",
       "mJh2dnZmZmYQEBDu7u4yMjJUVFTMzMyIiIi6uroAAAAs73DqAAAAAXRSTlMAQObYZgAAAYhJREFU\n",
       "OMudUztIA0EQfTGfu/zTixgimPYK7VPb5CoLC7nOShELi2iRiAg2cqWYIjYWGpAErITAgWUKr7NQ\n",
       "Q7ASQbgiQQJBnD3i3t1uiODADjO77+3Ozgf4l2TsgLs5BfLpd6J9Ut0gQLEkTqr1a9WPSB3SuhYg\n",
       "lxIpYXKzyVwgbQuQdYn06pkDFp8B1RQg5xLp1Pv/iFS8ig8REi6JmfICjuWZXsG+dxrq7NToYFcg\n",
       "KYb3u86zDmzhyjt9z4UdIOJeXLlh0nSROkc0NIyBNZzRVQUmRmgIRaNoqsJLKhVmjyGWUTZxQpfj\n",
       "mxcj6WCOUplyBFK2PzG6qABfwKOPlNXQsGaTisgMGemYkxZtlGFOwnPjKSy54ZU4aQBlxMJb5aRG\n",
       "CfcRC1GxJcI6J42hUio3KH8TsRJ6pBibknK+kcIdDsBS/uYrU++hRxnui8XNc7P+xF69hZr7s41q\n",
       "QZfaKGoIkG2JJLRwzJZGIz5zNJhc0JoPIpI5iRRqBdw22woO1MuUcV/wO2kLPyjdYAjRPXLVAAAA\n",
       "AElFTkSuQmCC\n",
       "\" style=\"display:inline;vertical-align:middle;\" /></a><br>"
      ],
      "text/plain": [
       "expr: [not](a) = [not](b)"
      ]
     },
     "execution_count": 2,
     "metadata": {},
     "output_type": "execute_result"
    }
   ],
   "source": [
    "# build up the expression from sub-expressions\n",
    "expr = Equals(Not(a), Not(b))"
   ]
  },
  {
   "cell_type": "code",
   "execution_count": 3,
   "metadata": {},
   "outputs": [
    {
     "name": "stdout",
     "output_type": "stream",
     "text": [
      "Passed sanity check: built 'expr' is the same as the stored Expression.\n"
     ]
    }
   ],
   "source": [
    "# check that the built expression is the same as the stored expression\n",
    "%check_expr"
   ]
  },
  {
   "cell_type": "code",
   "execution_count": 4,
   "metadata": {},
   "outputs": [
    {
     "data": {
      "text/html": [
       "<table><tr><th>&nbsp;</th><th>core type</th><th>sub-expressions</th><th>expression</th></tr>\n",
       "<tr><td>0</td><td>Operation</td><td>operator:&nbsp;1<br>operands:&nbsp;2<br></td><td><a class=\"ProveItLink\" href=\"expr.ipynb\"><img src=\"data:image/png;base64,iVBORw0KGgoAAAANSUhEUgAAAGgAAAAVBAMAAABYjraNAAAAMFBMVEX////c3NwiIiJERESqqqqY\n",
       "mJh2dnZmZmYQEBDu7u4yMjJUVFTMzMyIiIi6uroAAAAs73DqAAAAAXRSTlMAQObYZgAAAYhJREFU\n",
       "OMudUztIA0EQfTGfu/zTixgimPYK7VPb5CoLC7nOShELi2iRiAg2cqWYIjYWGpAErITAgWUKr7NQ\n",
       "Q7ASQbgiQQJBnD3i3t1uiODADjO77+3Ozgf4l2TsgLs5BfLpd6J9Ut0gQLEkTqr1a9WPSB3SuhYg\n",
       "lxIpYXKzyVwgbQuQdYn06pkDFp8B1RQg5xLp1Pv/iFS8ig8REi6JmfICjuWZXsG+dxrq7NToYFcg\n",
       "KYb3u86zDmzhyjt9z4UdIOJeXLlh0nSROkc0NIyBNZzRVQUmRmgIRaNoqsJLKhVmjyGWUTZxQpfj\n",
       "mxcj6WCOUplyBFK2PzG6qABfwKOPlNXQsGaTisgMGemYkxZtlGFOwnPjKSy54ZU4aQBlxMJb5aRG\n",
       "CfcRC1GxJcI6J42hUio3KH8TsRJ6pBibknK+kcIdDsBS/uYrU++hRxnui8XNc7P+xF69hZr7s41q\n",
       "QZfaKGoIkG2JJLRwzJZGIz5zNJhc0JoPIpI5iRRqBdw22woO1MuUcV/wO2kLPyjdYAjRPXLVAAAA\n",
       "AElFTkSuQmCC\n",
       "\" style=\"display:inline;vertical-align:middle;\" /></a></td></tr>\n",
       "<tr><td>1</td><td>Literal</td><td></td><td><a class=\"ProveItLink\" href=\"../2fb26078095930560931daa0500ce419a39ea6cd0/expr.ipynb\"><img src=\"data:image/png;base64,iVBORw0KGgoAAAANSUhEUgAAAA4AAAAFBAMAAACHocAhAAAAFVBMVEX///9EREQiIiJUVFQyMjJm\n",
       "ZmYAAADubVkoAAAAAXRSTlMAQObYZgAAABRJREFUCNdjCHEBAWcGXCBICQQUAUpuAwlgGKrkAAAA\n",
       "AElFTkSuQmCC\n",
       "\" style=\"display:inline;vertical-align:middle;\" /></a></td></tr>\n",
       "<tr><td>2</td><td>ExprTuple</td><td>3, 4</td><td><a class=\"ProveItLink\" href=\"../4bcdcdb3ec19e47c41d3288b5e2a5e9c39696a1f0/expr.ipynb\"><img src=\"data:image/png;base64,iVBORw0KGgoAAAANSUhEUgAAAEUAAAAVBAMAAADiLT7tAAAAMFBMVEX////c3NwiIiJERESqqqqY\n",
       "mJh2dnZmZmYQEBDu7u4yMjJUVFTMzMyIiIi6uroAAAAs73DqAAAAAXRSTlMAQObYZgAAASNJREFU\n",
       "KM9jYCAG8F3AKx0HIk7jlObcocDAwH4AyFqJ2wyuDUBiAQMDLx6r+B2ARBgDA8cE3Greg+RmMDC8\n",
       "wuPeJBDB7MBQhhBi3JvXiKJm9d2tDAxsBQxLEUIvBJg/oPjrMwP/AQaWBQx9QO8pgUAC41cGdgOw\n",
       "JFSA5ScDRwIDXwPDP6gmng3cHxiYkDzJs4F9AQN/AQPPByQ1/AYM8w8gq2EqYHgfAFLTAheSv8Dg\n",
       "zzABSQ0weOongOwyhQvNd2DYxXKAE0nNAYY2BgbWBQzpMLEDXAEs6mwM8xXgAtwO7BvAfn+EFDz3\n",
       "Dt9jmPER4fe9paBIe8DAIYAWuA/R+MC4YE1AEwtA4+diSRtoajiBaYNBGlWMF00LN8gtjPjT6h0G\n",
       "BgBsFUa80Sg0cQAAAABJRU5ErkJggg==\n",
       "\" style=\"display:inline;vertical-align:middle;\" /></a></td></tr>\n",
       "<tr><td>3</td><td>Operation</td><td>operator:&nbsp;6<br>operand:&nbsp;5<br></td><td><a class=\"ProveItLink\" href=\"../90850a12a72aaf97c847e825fb82a6804e84d9be0/expr.ipynb\"><img src=\"data:image/png;base64,iVBORw0KGgoAAAANSUhEUgAAABgAAAAJBAMAAADa0/H1AAAAMFBMVEX///8yMjKqqqru7u6YmJhE\n",
       "REQQEBC6urqIiIjc3NxUVFTMzMx2dnYiIiJmZmYAAADYs2HGAAAAAXRSTlMAQObYZgAAAE9JREFU\n",
       "CNdjYICCWT1lE2Bs9kyGeAaGt3eB4A7DfAeGp1DxXQzrGRhuwDlfGZh/wzicPxiYPjBDOcyfGLgE\n",
       "tCEcbgYRBt0HB+DWdFRHFAAAmG4X4Eqb2MYAAAAASUVORK5CYII=\n",
       "\" style=\"display:inline;vertical-align:middle;\" /></a></td></tr>\n",
       "<tr><td>4</td><td>Operation</td><td>operator:&nbsp;6<br>operand:&nbsp;7<br></td><td><a class=\"ProveItLink\" href=\"../c0fc114fcacc8e9fdeb995863ab29be961e5f4380/expr.ipynb\"><img src=\"data:image/png;base64,iVBORw0KGgoAAAANSUhEUgAAABYAAAAOBAMAAADZH/H+AAAALVBMVEX///9ERESYmJiIiIi6urqq\n",
       "qqoyMjIQEBDu7u5UVFTMzMx2dnYiIiJmZmYAAAC5u2vBAAAAAXRSTlMAQObYZgAAAFlJREFUCNdj\n",
       "YICAzhoGBMhEYj9FMFleINjcBxBstsmWCjB2nwDDK4Y7Z4DgNENcA0M1RHQlwzUGhrcw9lkGlkcw\n",
       "9lMG3hcw9isG9g0QNhfDVIabcPM7bRUYALuiGKiQ/Uk/AAAAAElFTkSuQmCC\n",
       "\" style=\"display:inline;vertical-align:middle;\" /></a></td></tr>\n",
       "<tr><td>5</td><td>Variable</td><td></td><td><a class=\"ProveItLink\" href=\"../../../../__pv_it/07527342713064c87612d00d8557c53d53d5324a0/expr.ipynb\"><img src=\"data:image/png;base64,iVBORw0KGgoAAAANSUhEUgAAAAsAAAAJBAMAAAAWSsseAAAAMFBMVEX///8yMjKqqqrMzMzu7u4i\n",
       "IiJmZmaYmJhEREQQEBC6urp2dnaIiIhUVFTc3NwAAAD87Fq/AAAAAXRSTlMAQObYZgAAAEhJREFU\n",
       "CNdjYOC7s2seAwPDygccHxgY+L4zsDUwMPB+YGA9wMDA38Dgb8DA8P4Agz6DA4O/AsNFJgMGxgKm\n",
       "MG6gyjunLE4xAAAZTBA5TB6DCwAAAABJRU5ErkJggg==\n",
       "\" style=\"display:inline;vertical-align:middle;\" /></a></td></tr>\n",
       "<tr><td>6</td><td>Literal</td><td></td><td><a class=\"ProveItLink\" href=\"../../../boolean/negation/__pv_it/7bea79645543c2413aa17e787cca04e21046fde60/expr.ipynb\"><img src=\"data:image/png;base64,iVBORw0KGgoAAAANSUhEUgAAAAwAAAAGBAMAAAAFwGKyAAAAFVBMVEX///9UVFTMzMx2dnYiIiJm\n",
       "ZmYAAACWz4ZEAAAAAXRSTlMAQObYZgAAABRJREFUCNdjCHEBAmcGMFDEQzEBAEl+Ai6uYJv/AAAA\n",
       "AElFTkSuQmCC\n",
       "\" style=\"display:inline;vertical-align:middle;\" /></a></td></tr>\n",
       "<tr><td>7</td><td>Variable</td><td></td><td><a class=\"ProveItLink\" href=\"../../../../__pv_it/6840a4fa6c106149dc16a131294d0c5e44f1b0480/expr.ipynb\"><img src=\"data:image/png;base64,iVBORw0KGgoAAAANSUhEUgAAAAkAAAAOBAMAAAAPuiubAAAALVBMVEX///9mZmbMzMxERESYmJiI\n",
       "iIh2dna6urqqqqoyMjIiIiIQEBBUVFTu7u4AAAD9S1JeAAAAAXRSTlMAQObYZgAAAE1JREFUCNdj\n",
       "4D29gAEIOA+ASL4GEFl3AURmgQiGOaFHGBh4HzPwKTBwvGXgTmBgnMDAJ8DAJcBQ5wBSLncBJLWN\n",
       "gYGngRFoBO9REQYGAGrcDtUkVqASAAAAAElFTkSuQmCC\n",
       "\" style=\"display:inline;vertical-align:middle;\" /></a></td></tr>\n",
       "</table>\n"
      ],
      "text/plain": [
       "0. [not](a) = [not](b)\n",
       "   core type: Operation\n",
       "   operator: 1\n",
       "   operands: 2\n",
       "1. =\n",
       "   core type: Literal\n",
       "   sub-expressions: \n",
       "2. ([not](a) , [not](b))\n",
       "   core type: ExprTuple\n",
       "   sub-expressions: 3, 4\n",
       "3. [not](a)\n",
       "   core type: Operation\n",
       "   operator: 6\n",
       "   operand: 5\n",
       "4. [not](b)\n",
       "   core type: Operation\n",
       "   operator: 6\n",
       "   operand: 7\n",
       "5. a\n",
       "   core type: Variable\n",
       "   sub-expressions: \n",
       "6. not\n",
       "   core type: Literal\n",
       "   sub-expressions: \n",
       "7. b\n",
       "   core type: Variable\n",
       "   sub-expressions: "
      ]
     },
     "execution_count": 4,
     "metadata": {},
     "output_type": "execute_result"
    }
   ],
   "source": [
    "# display the expression information\n",
    "expr.exprInfo()"
   ]
  },
  {
   "cell_type": "code",
   "execution_count": null,
   "metadata": {},
   "outputs": [],
   "source": []
  }
 ],
 "metadata": {
  "kernelspec": {
   "display_name": "Python 3",
   "language": "python",
   "name": "python3"
  }
 },
 "nbformat": 4,
 "nbformat_minor": 0
}
