{
 "cells": [
  {
   "cell_type": "markdown",
   "metadata": {},
   "source": [
    "Expression of type <a class=\"ProveItLink\" href=\"../../../../../../doc/html/api/proveit.ExprTuple.html\">ExprTuple</a>\n",
    "=======================\n",
    "# from context <a class=\"ProveItLink\" href=\"../../_context_.ipynb\">proveit.logic.equality</a>"
   ]
  },
  {
   "cell_type": "code",
   "execution_count": 1,
   "metadata": {},
   "outputs": [],
   "source": [
    "# import Expression classes needed to build the expression\n",
    "from proveit import ExprTuple\n",
    "from proveit._common_ import a, b, c, d, y\n",
    "from proveit.number import Add, Div, Exp"
   ]
  },
  {
   "cell_type": "code",
   "execution_count": 2,
   "metadata": {},
   "outputs": [
    {
     "data": {
      "text/html": [
       "<strong id=\"expr\">expr:</strong> <a class=\"ProveItLink\" href=\"expr.ipynb\"><img src=\"data:image/png;base64,iVBORw0KGgoAAAANSUhEUgAAAK4AAAAcBAMAAAAKIJmjAAAAMFBMVEX///+qqqp2dnYiIiJERESI\n",
       "iIhmZmYQEBDc3NyYmJgyMjLu7u5UVFTMzMy6uroAAACGxKilAAAAAXRSTlMAQObYZgAAArJJREFU\n",
       "SMe1Vk1oE1EQ/pKmSZPNH4hH6aLEgyAE/KkXIYIeCoJLZStii8GfSyw2KkKxoDnoRYSs4k2QQKHg\n",
       "4mFRoSKFVNCCXqynXgRzUU/aLbaihETnZTfJznbXXtKBzcybN/vtm9lvZgP0WsJNbIlIpm386C1u\n",
       "oAJZ6MRCb3GDeXwS+pXRS9SBi3vS6FfIerdJ5Be/jcdezuelMp3zED2g6HTPX3MH+pcpvOThXMQy\n",
       "/Y7Rbp75n7oDY/5lqnj4mgITVQORGvOvttlSsg3VuTvCYh/Y+qWDZHUM07JPw2cWmqy32aLYxrSz\n",
       "Jn/TzuA5W293+KYTjUdUhBxOcZJkXbhJluxQybkKpTfifj09qgFRE+/F6t7IN+uO2NsxjeGGBcef\n",
       "ZcZ5S+2WQa89mOe40k51qZP2caGmcMJyVHNoMNwYPSZxEzM8q6SJs63OYrjLtZidbqKBWVJlDRcs\n",
       "x6CBqwxXvNY5BcMM92M4i6N0nCLDla4jpNnd0cRBUh+AA5ajAPxiuKlaa1vI+X1C9pNlRBSs06lM\n",
       "hhs3u4VabeGuQbKyp1XyDxVV12du6PqCjbu2gaWDBmVq4RZ0fUjXBe1TuW43N0UjDKwjYEo2fcN1\n",
       "Xoe02HZLAf3FDXUoK13cBt60Th2v7IBorAYiMsMVFaMMorwvZhGiZKL8vaUo1K5v8jdOknqCbXlZ\n",
       "+knWa0xw/gouLQJ7eV9MYEWDm2fxPII2z4i/K4K+6vdjNekWUXh+VHP1BTEnnFEN3hcv1EmyYjXO\n",
       "s3PqmTYRK0h1plLS2UydPp7ynjm7fPrYZr2CuNxeRNmgUFzDxSnxrHSFVMZ3QldLSGQ9cf87J/vk\n",
       "EJ1GqvhO0Id0HWkvFO8Pi8dcD6iXxalLvriH6bq7yXfojt/GuO8tUUGUgNzzvxC3W7/3e457CVsm\n",
       "/wCooqTdbk2X6AAAAABJRU5ErkJggg==\n",
       "\" style=\"display:inline;vertical-align:middle;\" /></a><br>"
      ],
      "text/plain": [
       "expr: (a , b + (c / y) + c^{d})"
      ]
     },
     "execution_count": 2,
     "metadata": {},
     "output_type": "execute_result"
    }
   ],
   "source": [
    "# build up the expression from sub-expressions\n",
    "expr = ExprTuple(a, Add(b, Div(c, y), Exp(c, d)))"
   ]
  },
  {
   "cell_type": "code",
   "execution_count": 3,
   "metadata": {},
   "outputs": [
    {
     "name": "stdout",
     "output_type": "stream",
     "text": [
      "Passed sanity check: built 'expr' is the same as the stored Expression.\n"
     ]
    }
   ],
   "source": [
    "# check that the built expression is the same as the stored expression\n",
    "%check_expr"
   ]
  },
  {
   "cell_type": "code",
   "execution_count": 4,
   "metadata": {},
   "outputs": [
    {
     "data": {
      "text/html": [
       "<table><tr><th>&nbsp;</th><th>core type</th><th>sub-expressions</th><th>expression</th></tr>\n",
       "<tr><td>0</td><td>ExprTuple</td><td>1, 2</td><td><a class=\"ProveItLink\" href=\"expr.ipynb\"><img src=\"data:image/png;base64,iVBORw0KGgoAAAANSUhEUgAAAK4AAAAcBAMAAAAKIJmjAAAAMFBMVEX///+qqqp2dnYiIiJERESI\n",
       "iIhmZmYQEBDc3NyYmJgyMjLu7u5UVFTMzMy6uroAAACGxKilAAAAAXRSTlMAQObYZgAAArJJREFU\n",
       "SMe1Vk1oE1EQ/pKmSZPNH4hH6aLEgyAE/KkXIYIeCoJLZStii8GfSyw2KkKxoDnoRYSs4k2QQKHg\n",
       "4mFRoSKFVNCCXqynXgRzUU/aLbaihETnZTfJznbXXtKBzcybN/vtm9lvZgP0WsJNbIlIpm386C1u\n",
       "oAJZ6MRCb3GDeXwS+pXRS9SBi3vS6FfIerdJ5Be/jcdezuelMp3zED2g6HTPX3MH+pcpvOThXMQy\n",
       "/Y7Rbp75n7oDY/5lqnj4mgITVQORGvOvttlSsg3VuTvCYh/Y+qWDZHUM07JPw2cWmqy32aLYxrSz\n",
       "Jn/TzuA5W293+KYTjUdUhBxOcZJkXbhJluxQybkKpTfifj09qgFRE+/F6t7IN+uO2NsxjeGGBcef\n",
       "ZcZ5S+2WQa89mOe40k51qZP2caGmcMJyVHNoMNwYPSZxEzM8q6SJs63OYrjLtZidbqKBWVJlDRcs\n",
       "x6CBqwxXvNY5BcMM92M4i6N0nCLDla4jpNnd0cRBUh+AA5ajAPxiuKlaa1vI+X1C9pNlRBSs06lM\n",
       "hhs3u4VabeGuQbKyp1XyDxVV12du6PqCjbu2gaWDBmVq4RZ0fUjXBe1TuW43N0UjDKwjYEo2fcN1\n",
       "Xoe02HZLAf3FDXUoK13cBt60Th2v7IBorAYiMsMVFaMMorwvZhGiZKL8vaUo1K5v8jdOknqCbXlZ\n",
       "+knWa0xw/gouLQJ7eV9MYEWDm2fxPII2z4i/K4K+6vdjNekWUXh+VHP1BTEnnFEN3hcv1EmyYjXO\n",
       "s3PqmTYRK0h1plLS2UydPp7ynjm7fPrYZr2CuNxeRNmgUFzDxSnxrHSFVMZ3QldLSGQ9cf87J/vk\n",
       "EJ1GqvhO0Id0HWkvFO8Pi8dcD6iXxalLvriH6bq7yXfojt/GuO8tUUGUgNzzvxC3W7/3e457CVsm\n",
       "/wCooqTdbk2X6AAAAABJRU5ErkJggg==\n",
       "\" style=\"display:inline;vertical-align:middle;\" /></a></td></tr>\n",
       "<tr><td>1</td><td>Variable</td><td></td><td><a class=\"ProveItLink\" href=\"../../../../__pv_it/07527342713064c87612d00d8557c53d53d5324a0/expr.ipynb\"><img src=\"data:image/png;base64,iVBORw0KGgoAAAANSUhEUgAAAAsAAAAJBAMAAAAWSsseAAAAMFBMVEX///8yMjKqqqrMzMzu7u4i\n",
       "IiJmZmaYmJhEREQQEBC6urp2dnaIiIhUVFTc3NwAAAD87Fq/AAAAAXRSTlMAQObYZgAAAEhJREFU\n",
       "CNdjYOC7s2seAwPDygccHxgY+L4zsDUwMPB+YGA9wMDA38Dgb8DA8P4Agz6DA4O/AsNFJgMGxgKm\n",
       "MG6gyjunLE4xAAAZTBA5TB6DCwAAAABJRU5ErkJggg==\n",
       "\" style=\"display:inline;vertical-align:middle;\" /></a></td></tr>\n",
       "<tr><td>2</td><td>Operation</td><td>operator:&nbsp;3<br>operands:&nbsp;4<br></td><td><a class=\"ProveItLink\" href=\"../26f638e44f5d12648608b80e72aaf5ed77563f570/expr.ipynb\"><img src=\"data:image/png;base64,iVBORw0KGgoAAAANSUhEUgAAAIsAAAAZBAMAAADzmcCEAAAAMFBMVEX////c3NxmZmbMzMxERESY\n",
       "mJiIiIh2dna6urqqqqoyMjIiIiIQEBBUVFTu7u4AAAAiO1wTAAAAAXRSTlMAQObYZgAAAepJREFU\n",
       "OMutlD1IA0EQhV8uMYkxesFevEYFLbzGTkkatRJSqZUEhdiIBIVY2KSy0CJXWVilsfBCJFYWWsTG\n",
       "vyoI2ih4VmkCRoiijTinq9ld7xDhDpJhZ5lvZ3beLODBN5zzgoJHTyjY8Qaz4gWke3HP0R9OuQTM\n",
       "Ojm7Dnzv9H9XljfG3M5VdAdnp+avkIlU5Y191/wLDj41F7QJqsHWD8wG+ZqCGT5k5ruQGNdtKzBH\n",
       "y7zF1tvMRi0uMP7GY+rMtnMnRa34CEWsQ8Js8oEdJ/wqYPzGhPun+8iU0tciZsDOei0tXmdtANSQ\n",
       "kCZhatkFVmYTqi5gduk3mouIDczkEWygvSBi/OcoMs87ohkBc07sUwSSPMVvDCGQQLgiYuopjDMt\n",
       "FKBqAuaVtND42jv6/BLExSnUFPwNEXPfukMNeTp40DSPTbPEMGpCVgclHde/MIppFi9N0xZLs6Ue\n",
       "A8OWkM0F0PtrHCjpJchF+V5aGB1nYqeoWpXySwryi2iYAtqkK34mFxsJQ6mKmBV7ThDSBfkp1TDF\n",
       "yA2/AlZZw2/6JPlt2dpJL4vy65qYf6KcciJGyaYtufyfYYg5jmWo7DwM8rfBbFvGYfMWdRqE7F8v\n",
       "0l8PxSEmqbLCf17FHgff9jxdS2fsPxifW8oLriEfKPh4YpikJYkAAAAASUVORK5CYII=\n",
       "\" style=\"display:inline;vertical-align:middle;\" /></a></td></tr>\n",
       "<tr><td>3</td><td>Literal</td><td></td><td><a class=\"ProveItLink\" href=\"../../../../number/addition/__pv_it/3e6688136fa3c7aefbebe51301b7c3ebf0b69c440/expr.ipynb\"><img src=\"data:image/png;base64,iVBORw0KGgoAAAANSUhEUgAAAA4AAAAOBAMAAADtZjDiAAAAJFBMVEX///+6urpUVFQQEBAiIiIy\n",
       "MjJmZmaIiIiqqqrc3Nzu7u4AAACgHpL+AAAAAXRSTlMAQObYZgAAAB5JREFUCNdjYGBgWMkAAe2k\n",
       "0Kmhoc6hoUGk6BMHYgAHOwjcado9fwAAAABJRU5ErkJggg==\n",
       "\" style=\"display:inline;vertical-align:middle;\" /></a></td></tr>\n",
       "<tr><td>4</td><td>ExprTuple</td><td>5, 6, 7</td><td><a class=\"ProveItLink\" href=\"../aa49cc79a4172d4d8e60b7be5bb65c344cc2abad0/expr.ipynb\"><img src=\"data:image/png;base64,iVBORw0KGgoAAAANSUhEUgAAAGgAAAAcBAMAAAB/gedFAAAAMFBMVEX///+qqqp2dnYiIiJERESI\n",
       "iIhmZmYQEBDc3NyYmJgyMjLu7u5UVFTMzMy6uroAAACGxKilAAAAAXRSTlMAQObYZgAAAeJJREFU\n",
       "OMudVD1Iw1AQ/uxP+hPTdHFxKopuQlGQLkIVHASHoLQdVAgVB3FQhIKTdBAHFyvo5KIITg7BpeDS\n",
       "gn/oYjcRhHZ0si1UaCmKl5fUmjRI44Pk3bvvvry7764F7K31EuyvnL6/2yH1I6RuQt4OaRiv6nal\n",
       "dE/ZnTuFWyLjoXsOH/E2gQjg3QB/H+6O1CsLG8AiwMmAv8uyxJKbInMKPCS8GDTD7pCl3orrOA1n\n",
       "BkU6lDu0KFatSB6l+KKAiyJBh8EO2LllRQqsHK0Cvgoe6XAR0yXkB2IFQ9hlEqpgzBxa0qlNzFJo\n",
       "DaIW+1zyG4UMleGuMEvYxpnmEz5xDvQ04WGF8ym4Mr85QnAZrigzsxJmNKf3C+Ok+glEmfVB+yg3\n",
       "xhYF80hBlJjzqd3iqkpyyiizC8SouXRKoqhlXvvx0U0XrE3rTPR9yUyiJBJa5Eeb9IkbqCpsUiZk\n",
       "0H0ZQ3P9MimlQmiQ1rp6dcxTKUEuj1xYnS04CobmcvlAg0G4A0Y0H/WpTJXdUsuydTonYwvG5vLT\n",
       "8boGcUMxfW4cJ60OAW/WQ+oImyG/hN7WaGasKNfIBs1QLg0h/BdpFFMd0CE9k/qPwTK5vnipA5qg\n",
       "Z8/mn5hPHZ6ekD3SDnsf2COt4X/rG5Vac3AR2oIMAAAAAElFTkSuQmCC\n",
       "\" style=\"display:inline;vertical-align:middle;\" /></a></td></tr>\n",
       "<tr><td>5</td><td>Variable</td><td></td><td><a class=\"ProveItLink\" href=\"../../../../__pv_it/6840a4fa6c106149dc16a131294d0c5e44f1b0480/expr.ipynb\"><img src=\"data:image/png;base64,iVBORw0KGgoAAAANSUhEUgAAAAkAAAAOBAMAAAAPuiubAAAALVBMVEX///9mZmbMzMxERESYmJiI\n",
       "iIh2dna6urqqqqoyMjIiIiIQEBBUVFTu7u4AAAD9S1JeAAAAAXRSTlMAQObYZgAAAE1JREFUCNdj\n",
       "4D29gAEIOA+ASL4GEFl3AURmgQiGOaFHGBh4HzPwKTBwvGXgTmBgnMDAJ8DAJcBQ5wBSLncBJLWN\n",
       "gYGngRFoBO9REQYGAGrcDtUkVqASAAAAAElFTkSuQmCC\n",
       "\" style=\"display:inline;vertical-align:middle;\" /></a></td></tr>\n",
       "<tr><td>6</td><td>Operation</td><td>operator:&nbsp;8<br>operands:&nbsp;9<br></td><td><a class=\"ProveItLink\" href=\"../c50b3f2cfd3a4bca0ef65b9c737e08eddefb8d150/expr.ipynb\"><img src=\"data:image/png;base64,iVBORw0KGgoAAAANSUhEUgAAAC0AAAAQBAMAAABw0OvaAAAAMFBMVEX///+qqqpmZmbc3NxUVFSY\n",
       "mJhEREQiIiIyMjK6uroQEBDMzMyIiIh2dnbu7u4AAAA4MM1YAAAAAXRSTlMAQObYZgAAAJ5JREFU\n",
       "GNNjYIADngsMWMH+j9jF2RejcPnuntmAwr90gcH+AQPDrgkcBcjivJwfGM4DpdcwsAUgi29kKmBI\n",
       "Y2Bg+QDmMZWDQQIDwwOuAwx/GBj4E9Dtl3/A/ZuBwf4AurgGA88CoHqg4QEo/mpiYHMAmq/AwLsB\n",
       "xV8qDPNBCnXPnEP117Mz+gbYfX4dmyBLAd9CrMF0gQ1rwDKe0QSSAPHfKMCYmqiVAAAAAElFTkSu\n",
       "QmCC\n",
       "\" style=\"display:inline;vertical-align:middle;\" /></a></td></tr>\n",
       "<tr><td>7</td><td>Operation</td><td>operator:&nbsp;10<br>operands:&nbsp;11<br></td><td><a class=\"ProveItLink\" href=\"../ead4db5841c78dabcaf421988c1e299615492b3b0/expr.ipynb\"><img src=\"data:image/png;base64,iVBORw0KGgoAAAANSUhEUgAAABIAAAAUBAMAAAByuXB5AAAAMFBMVEX///+qqqpmZmbc3NxUVFSY\n",
       "mJhEREQiIiIyMjK6uroQEBDMzMyIiIh2dnbu7u4AAAA4MM1YAAAAAXRSTlMAQObYZgAAAG5JREFU\n",
       "CNdjYIAApp9QBgPfBxiLsQHG4lWA0Mw6NwQgrOcG9g8gLCeGXVBVPxmOQI34x5D6GMJcx/07DsKa\n",
       "dPRQAFDq7pkNEP6uCRwFENVrGNgCwCwWuNX8CTCW/QG4GFARVJ0CAy/UFN0z58A0ABEUGm8l7xzp\n",
       "AAAAAElFTkSuQmCC\n",
       "\" style=\"display:inline;vertical-align:middle;\" /></a></td></tr>\n",
       "<tr><td>8</td><td>Literal</td><td></td><td><a class=\"ProveItLink\" href=\"../../../../number/division/__pv_it/089f5ca61fe425d4f6ef7efa2138c1a2fa47180c0/expr.ipynb\"><img src=\"data:image/png;base64,iVBORw0KGgoAAAANSUhEUgAAAA4AAAAMBAMAAACgrpHpAAAAIVBMVEX///9ERERmZmbc3NwQEBAi\n",
       "IiKqqqrMzMx2dnaIiIgAAACeyUhQAAAAAXRSTlMAQObYZgAAACJJREFUCNdjYGBgmMEABuyrEiCM\n",
       "EAMG3EA1FAQCsUlhMwcALk0GeoeEfOIAAAAASUVORK5CYII=\n",
       "\" style=\"display:inline;vertical-align:middle;\" /></a></td></tr>\n",
       "<tr><td>9</td><td>ExprTuple</td><td>13, 12</td><td><a class=\"ProveItLink\" href=\"../3205eb8b7f417bd5951a9598881b35877af4cc960/expr.ipynb\"><img src=\"data:image/png;base64,iVBORw0KGgoAAAANSUhEUgAAACkAAAAVBAMAAAAp9toTAAAAMFBMVEX////c3NwiIiJERESqqqqY\n",
       "mJh2dnZmZmYQEBDu7u4yMjJUVFTMzMyIiIi6uroAAAAs73DqAAAAAXRSTlMAQObYZgAAAQVJREFU\n",
       "GNNtkLFKw1AUhj9Nm+Y2Te3u0DyCIO6+gZ0cJTjYSejUQUE7uCoBl25mEXHzETo4CC5ZBYPV0cW4\n",
       "q/jfNIokXrjn3vvxn/+ce+D/1U0rYMeG+6qsNVO4rmUnEKQ1ug1eXKNTeK3XdzYZ6zB7ma2AGUb0\n",
       "Y9wRl3rdzduhpW435wkaCWeSnOIMLL1thazrBxO+wM9Lw9hL+YRObunK2k+drbjzUdAT6P+2fEAw\n",
       "KRw2pJXpwFh6hXMDzYShfEe4swvbxSFvUqizFz3G2QPTd13Os+MetOd4vdLzuYi7ix83o5Iq1Q+N\n",
       "irP/Z5Kiy5EjjdEkWV3AQLuRHSn61nOpOuBH+AZcujlILocJaAAAAABJRU5ErkJggg==\n",
       "\" style=\"display:inline;vertical-align:middle;\" /></a></td></tr>\n",
       "<tr><td>10</td><td>Literal</td><td></td><td><a class=\"ProveItLink\" href=\"../../../../number/exponentiation/__pv_it/deb2bf23cbccdd6e6791e1b35b5b9794ce12dbd50/expr.ipynb\"><img src=\"data:image/png;base64,iVBORw0KGgoAAAANSUhEUgAAACgAAAASBAMAAADbMYGVAAAAMFBMVEX///8QEBAiIiKYmJjc3Nzu\n",
       "7u7MzMx2dnZmZma6urpERESqqqoyMjJUVFSIiIgAAAAoDOMTAAAAAXRSTlMAQObYZgAAAOBJREFU\n",
       "GNNjYGB4+//u3Tt/GNAASGAXmhjnPyDBgSbI/g1IxKEJ8nxgYGdgQRPkX8BgDKRY6q7s62OYvmze\n",
       "2wAgb/7ZO1+AVDiDkYEQQ0HTBr4DQF59AgOIKmB4z7CNbcNZBu6vQN55kEACQwDDLQYGVobfDHwg\n",
       "fb8YGBxYHwAZciD3fWXg+gB1JjvQcJZvQIXsCgz8F6DO9GBgMOH7wPCUgaeBwd4B7EwGNjUG7s9c\n",
       "AiwPgO5jkWRgiF3/9+5dfQUG1nWl5Y+B7pv+1gE9bBhqGLCAE1jEWH9jEbT5A3IwAC4sP/1L6Qlu\n",
       "AAAAAElFTkSuQmCC\n",
       "\" style=\"display:inline;vertical-align:middle;\" /></a></td></tr>\n",
       "<tr><td>11</td><td>ExprTuple</td><td>13, 14</td><td><a class=\"ProveItLink\" href=\"../1f4efc3b7a909d0274ff36f0d19c7c06c2e6ff420/expr.ipynb\"><img src=\"data:image/png;base64,iVBORw0KGgoAAAANSUhEUgAAACkAAAAVBAMAAAAp9toTAAAAMFBMVEX////c3NwiIiJERESqqqqY\n",
       "mJh2dnZmZmYQEBDu7u4yMjJUVFTMzMyIiIi6uroAAAAs73DqAAAAAXRSTlMAQObYZgAAAQNJREFU\n",
       "GNNjYMAO+C6gCcSBiNOoaiwK2A8A6ZWoKvkdGBYwMPCiGfB+AkMYAwPHBFTRJAaGGQwMr9DsWs7A\n",
       "wOzAUAZkcabdPQAWYtyb94WBga2AYSmQc+IBlwJY9IUA808GBpYFDH1Apb0MzAFgpV8Z2IEO4Gtg\n",
       "+MfAwP0BaiaQwZTAwMDzASTKbwBzqwHD/Adg0RYGBnmYk4EMf4YJIBNMgUqAhgZwAkXnOzDsYjnA\n",
       "wLqAIR1oXAED24H5QFdwBbCos4Fd9giopuzuTYYZH0HOvXf4HlDyAQOHANTQh3DvAX3MmgBlB8BF\n",
       "c5FCEi7KCfQIgzSEzQtXyg0ykxE9hu4wMAAA/os7cGgwRtcAAAAASUVORK5CYII=\n",
       "\" style=\"display:inline;vertical-align:middle;\" /></a></td></tr>\n",
       "<tr><td>12</td><td>Variable</td><td></td><td><a class=\"ProveItLink\" href=\"../../../../__pv_it/f8b9edf8e16034727f0aad55bb83e392c3db40d40/expr.ipynb\"><img src=\"data:image/png;base64,iVBORw0KGgoAAAANSUhEUgAAAAsAAAANBAMAAACN24kIAAAAMFBMVEX///+YmJhUVFQyMjIQEBBE\n",
       "REQiIiKqqqrMzMyIiIi6urrc3NxmZmZ2dnbu7u4AAADXeCicAAAAAXRSTlMAQObYZgAAAFhJREFU\n",
       "CNdj4LtzgWH/AwZerg8M8xkY2nkSGEIZGB6wTGD4ycDAUP+A4weQOszA6QCkbBhYFYDUIYb1AkDq\n",
       "6czzGxhA4BoQMyXwuQMptgusF4AU+8xTQBIAUqMVoSp/SLMAAAAASUVORK5CYII=\n",
       "\" style=\"display:inline;vertical-align:middle;\" /></a></td></tr>\n",
       "<tr><td>13</td><td>Variable</td><td></td><td><a class=\"ProveItLink\" href=\"../../../../__pv_it/cbdfda466482236edba0ce44ac7ef39cda0af7a40/expr.ipynb\"><img src=\"data:image/png;base64,iVBORw0KGgoAAAANSUhEUgAAAAkAAAAJBAMAAAASvxsjAAAALVBMVEX///9mZmbc3NxUVFSYmJhE\n",
       "REQiIiIyMjK6uroQEBDMzMyIiIh2dnbu7u4AAABgFDGoAAAAAXRSTlMAQObYZgAAADZJREFUCNdj\n",
       "YOA9s3sBA8PKBvYEBt7ZDKwODMwPGICALwBE6m0Asx0YGIDiAgw8QJUyu/cyAAAmuwmycZ8WfQAA\n",
       "AABJRU5ErkJggg==\n",
       "\" style=\"display:inline;vertical-align:middle;\" /></a></td></tr>\n",
       "<tr><td>14</td><td>Variable</td><td></td><td><a class=\"ProveItLink\" href=\"../../../../__pv_it/3a5de44ed6135dbbdbbeec6704c741e238f127300/expr.ipynb\"><img src=\"data:image/png;base64,iVBORw0KGgoAAAANSUhEUgAAAAsAAAAOBAMAAAALT/umAAAAMFBMVEX////MzMyYmJiIiIhUVFTc\n",
       "3NwyMjIiIiJ2dnbu7u6qqqpmZmYQEBBERES6uroAAABkyy6XAAAAAXRSTlMAQObYZgAAAFhJREFU\n",
       "CNdjYGBg4LuzgQEE+BeAqfcTwFQ7mGTIBmJW575fQOpNAO9PIOcTA3cCAwPLBwb2BqCeCwzzHzAw\n",
       "xBswrGeYwDB/AYMblwADmwJXNQdIm52sHQMAfyoTCZukXIEAAAAASUVORK5CYII=\n",
       "\" style=\"display:inline;vertical-align:middle;\" /></a></td></tr>\n",
       "</table>\n"
      ],
      "text/plain": [
       "0. (a , b + (c / y) + c^{d})\n",
       "   core type: ExprTuple\n",
       "   sub-expressions: 1, 2\n",
       "1. a\n",
       "   core type: Variable\n",
       "   sub-expressions: \n",
       "2. b + (c / y) + c^{d}\n",
       "   core type: Operation\n",
       "   operator: 3\n",
       "   operands: 4\n",
       "3. +\n",
       "   core type: Literal\n",
       "   sub-expressions: \n",
       "4. (b , c / y , c^{d})\n",
       "   core type: ExprTuple\n",
       "   sub-expressions: 5, 6, 7\n",
       "5. b\n",
       "   core type: Variable\n",
       "   sub-expressions: \n",
       "6. c / y\n",
       "   core type: Operation\n",
       "   operator: 8\n",
       "   operands: 9\n",
       "7. c^{d}\n",
       "   core type: Operation\n",
       "   operator: 10\n",
       "   operands: 11\n",
       "8. /\n",
       "   core type: Literal\n",
       "   sub-expressions: \n",
       "9. (c , y)\n",
       "   core type: ExprTuple\n",
       "   sub-expressions: 13, 12\n",
       "10. Exp\n",
       "    core type: Literal\n",
       "    sub-expressions: \n",
       "11. (c , d)\n",
       "    core type: ExprTuple\n",
       "    sub-expressions: 13, 14\n",
       "12. y\n",
       "    core type: Variable\n",
       "    sub-expressions: \n",
       "13. c\n",
       "    core type: Variable\n",
       "    sub-expressions: \n",
       "14. d\n",
       "    core type: Variable\n",
       "    sub-expressions: "
      ]
     },
     "execution_count": 4,
     "metadata": {},
     "output_type": "execute_result"
    }
   ],
   "source": [
    "# display the expression information\n",
    "expr.exprInfo()"
   ]
  },
  {
   "cell_type": "code",
   "execution_count": null,
   "metadata": {},
   "outputs": [],
   "source": []
  }
 ],
 "metadata": {
  "kernelspec": {
   "display_name": "Python 3",
   "language": "python",
   "name": "python3"
  }
 },
 "nbformat": 4,
 "nbformat_minor": 0
}
