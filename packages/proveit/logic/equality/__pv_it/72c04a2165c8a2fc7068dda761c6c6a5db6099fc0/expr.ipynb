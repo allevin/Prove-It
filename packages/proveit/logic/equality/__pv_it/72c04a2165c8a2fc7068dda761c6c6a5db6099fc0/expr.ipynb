{
 "cells": [
  {
   "cell_type": "markdown",
   "metadata": {},
   "source": [
    "Expression of type <a class=\"ProveItLink\" href=\"../../../../../../doc/html/api/proveit.logic.Set.html\">Set</a>\n",
    "=======================\n",
    "# from context <a class=\"ProveItLink\" href=\"../../_context_.ipynb\">proveit.logic.equality</a>"
   ]
  },
  {
   "cell_type": "code",
   "execution_count": 1,
   "metadata": {},
   "outputs": [],
   "source": [
    "# import Expression classes needed to build the expression\n",
    "from proveit._common_ import a\n",
    "from proveit.logic import Equals, FALSE, Set"
   ]
  },
  {
   "cell_type": "code",
   "execution_count": 2,
   "metadata": {},
   "outputs": [
    {
     "data": {
      "text/html": [
       "<strong id=\"expr\">expr:</strong> <a class=\"ProveItLink\" href=\"../325ff338f97a3de249c65eb24df14e8372d93f080/expr.ipynb\"><img src=\"data:image/png;base64,iVBORw0KGgoAAAANSUhEUgAAAF0AAAAVBAMAAADWVP/xAAAAMFBMVEX///9ERETc3NyqqqpUVFS6\n",
       "urrMzMwyMjIQEBCIiIh2dnYiIiLu7u5mZmaYmJgAAABJJ2g3AAAAAXRSTlMAQObYZgAAAOxJREFU\n",
       "KM9jYGDgu8dAFGBbpQCieHYxEAnYmkEk5wfCKpkmgKnrIIKrgQiTL4CpFYNWvcqsCAWIFIKFQz1v\n",
       "AQMDaxODPEQGxuItBwMHFPXvQURGAAOD/gOGixAZBAuL+exAKqUNyPBnYNgJkUGwsKhnEH/AwBCR\n",
       "wMDwkYHnG0QEwcKinnsBkGApYGD6ycD8gQcckTAW724wEMB0P9cGBp7PQF1mDAcYYCxC4VnHYH1h\n",
       "Ac9vBiiLoHqVmWGSATz9ClAWqmKQ07rBTkOLX1YFAtGMpp6PgRj1fMSrB6d/Hnj8TCCU6lohxi4m\n",
       "If8CAHDhUqhRjwCQAAAAAElFTkSuQmCC\n",
       "\" style=\"display:inline;vertical-align:middle;\" /></a><br>"
      ],
      "text/plain": [
       "expr: {a , a = FALSE}"
      ]
     },
     "execution_count": 2,
     "metadata": {},
     "output_type": "execute_result"
    }
   ],
   "source": [
    "# build up the expression from sub-expressions\n",
    "expr = Set(a, Equals(a, FALSE))"
   ]
  },
  {
   "cell_type": "code",
   "execution_count": 3,
   "metadata": {},
   "outputs": [
    {
     "name": "stdout",
     "output_type": "stream",
     "text": [
      "Passed sanity check: built 'expr' is the same as the stored Expression.\n"
     ]
    }
   ],
   "source": [
    "# check that the built expression is the same as the stored expression\n",
    "%check_expr"
   ]
  },
  {
   "cell_type": "code",
   "execution_count": 4,
   "metadata": {},
   "outputs": [
    {
     "data": {
      "text/html": [
       "<table><tr><th>&nbsp;</th><th>core type</th><th>sub-expressions</th><th>expression</th></tr>\n",
       "<tr><td>0</td><td>Operation</td><td>operator:&nbsp;1<br>operands:&nbsp;2<br></td><td><a class=\"ProveItLink\" href=\"../325ff338f97a3de249c65eb24df14e8372d93f080/expr.ipynb\"><img src=\"data:image/png;base64,iVBORw0KGgoAAAANSUhEUgAAAF0AAAAVBAMAAADWVP/xAAAAMFBMVEX///9ERETc3NyqqqpUVFS6\n",
       "urrMzMwyMjIQEBCIiIh2dnYiIiLu7u5mZmaYmJgAAABJJ2g3AAAAAXRSTlMAQObYZgAAAOxJREFU\n",
       "KM9jYGDgu8dAFGBbpQCieHYxEAnYmkEk5wfCKpkmgKnrIIKrgQiTL4CpFYNWvcqsCAWIFIKFQz1v\n",
       "AQMDaxODPEQGxuItBwMHFPXvQURGAAOD/gOGixAZBAuL+exAKqUNyPBnYNgJkUGwsKhnEH/AwBCR\n",
       "wMDwkYHnG0QEwcKinnsBkGApYGD6ycD8gQcckTAW724wEMB0P9cGBp7PQF1mDAcYYCxC4VnHYH1h\n",
       "Ac9vBiiLoHqVmWGSATz9ClAWqmKQ07rBTkOLX1YFAtGMpp6PgRj1fMSrB6d/Hnj8TCCU6lohxi4m\n",
       "If8CAHDhUqhRjwCQAAAAAElFTkSuQmCC\n",
       "\" style=\"display:inline;vertical-align:middle;\" /></a></td></tr>\n",
       "<tr><td>1</td><td>Literal</td><td></td><td><a class=\"ProveItLink\" href=\"../../../set_theory/enumeration/__pv_it/07381ed5b23806e8d7914b78cb6667769e3708dd0/expr.ipynb\"><img src=\"data:image/png;base64,iVBORw0KGgoAAAANSUhEUgAAAB4AAAAOBAMAAADKyLEKAAAAMFBMVEX///8iIiIQEBCIiIjMzMzc\n",
       "3Nyqqqp2dnZEREQyMjK6urru7u5mZmZUVFSYmJgAAACI6eGPAAAAAXRSTlMAQObYZgAAALRJREFU\n",
       "CNdjYGDgu3Nm3wIGBJjHwN0PZW5yYGDgLWBgyITy8zcwMMQDxZyh/INAvD6BgcEFypcB4vjPDiBm\n",
       "TPFRrhs/LjMwMP//38rAwCbKEMPA9gEkE3fp0waG+AUMRxh4JkC01T9guPTOOICBEWgVH5C//wHD\n",
       "H5D4fqCz9oCMDGD4DLaegRXslLMMDMpAgxlOMmQxHDRgYG5gYLBk4D7KcIe7gOHC2rt9QCXsh40Z\n",
       "GCKMGQDRkC8N/Ph1XAAAAABJRU5ErkJggg==\n",
       "\" style=\"display:inline;vertical-align:middle;\" /></a></td></tr>\n",
       "<tr><td>2</td><td>ExprTuple</td><td>6, 3</td><td><a class=\"ProveItLink\" href=\"../4d81b81d945d11dc6f0238554ef85e8398bfca990/expr.ipynb\"><img src=\"data:image/png;base64,iVBORw0KGgoAAAANSUhEUgAAAFcAAAAVBAMAAADBdm84AAAAMFBMVEX////c3NwiIiJERESqqqqY\n",
       "mJh2dnZmZmYQEBDu7u4yMjJUVFTMzMyIiIi6uroAAAAs73DqAAAAAXRSTlMAQObYZgAAAQVJREFU\n",
       "KM9jYCAJ8F0gTl0ciDhNWJ0siGA/ACRWElZ8HEwuYGDgvUCs4jAGBo4JxCqewcDwioFYxcwODGVA\n",
       "inFvXiNEGMHCVMxWwLAUSL0QYP4AEYaxqlaBwGoUxSwLGPqAxn1lYDeAGAxnYTGZr4HhHwMD9wcG\n",
       "JkiYIFhYFPN8ACnmN2CYfwDMR7CwK25hYJC/wODPAA5BOKtICQSU0Z1hysAw34FhF8sBTgYYC4fJ\n",
       "rAsY0hkYuAJY1NkY5ivAWLiD7hEocO8dvscw4yOMhQqALtIAu4jrAQOHAEz0IYF4BEY3awKME0BA\n",
       "cS5yEiWgmBOYRBmkoRxeAgZzg9zLSGS2usPAAAAjJEzKBcjZVgAAAABJRU5ErkJggg==\n",
       "\" style=\"display:inline;vertical-align:middle;\" /></a></td></tr>\n",
       "<tr><td>3</td><td>Operation</td><td>operator:&nbsp;4<br>operands:&nbsp;5<br></td><td><a class=\"ProveItLink\" href=\"../../../boolean/__pv_it/f7ad4ee335017e89431f696941e3f7d091e264ab0/expr.ipynb\"><img src=\"data:image/png;base64,iVBORw0KGgoAAAANSUhEUgAAADYAAAAOBAMAAACWQvIuAAAAMFBMVEX///8yMjKqqqrMzMzu7u4i\n",
       "IiJmZmaYmJhEREQQEBC6urp2dnaIiIhUVFTc3NwAAAD87Fq/AAAAAXRSTlMAQObYZgAAAGZJREFU\n",
       "GNNjYMAO3jDgBmY0k+O7s2seLrmVDzg+gOhEQRCQRZbj+87A1oBDH+8HBtYDOOT4Gxj8DXDIvT/A\n",
       "oM/gAGSkhoJABLKcvwLDRSYD7PoYC5jCuHGYyXfnlMUpNAmg8ZFA4wHScBlQMGMH1QAAAABJRU5E\n",
       "rkJggg==\n",
       "\" style=\"display:inline;vertical-align:middle;\" /></a></td></tr>\n",
       "<tr><td>4</td><td>Literal</td><td></td><td><a class=\"ProveItLink\" href=\"../2fb26078095930560931daa0500ce419a39ea6cd0/expr.ipynb\"><img src=\"data:image/png;base64,iVBORw0KGgoAAAANSUhEUgAAAA4AAAAFBAMAAACHocAhAAAAFVBMVEX///9EREQiIiJUVFQyMjJm\n",
       "ZmYAAADubVkoAAAAAXRSTlMAQObYZgAAABRJREFUCNdjCHEBAWcGXCBICQQUAUpuAwlgGKrkAAAA\n",
       "AElFTkSuQmCC\n",
       "\" style=\"display:inline;vertical-align:middle;\" /></a></td></tr>\n",
       "<tr><td>5</td><td>ExprTuple</td><td>6, 7</td><td><a class=\"ProveItLink\" href=\"../../../boolean/__pv_it/cab5df937a78a89cab33aef3ea54f83744f7aa390/expr.ipynb\"><img src=\"data:image/png;base64,iVBORw0KGgoAAAANSUhEUgAAADEAAAAVBAMAAAAdjxsPAAAAMFBMVEX////c3NwiIiJERESqqqqY\n",
       "mJh2dnZmZmYQEBDu7u4yMjJUVFTMzMyIiIi6uroAAAAs73DqAAAAAXRSTlMAQObYZgAAANtJREFU\n",
       "KM9jYMAN+C5gEYwDEafRBGVBBPsBILESTeY4mFzAwMB7AatMGAMDxwSsMjMYGF4xYJVhdmAoA9HS\n",
       "114IoMqwFTAsBTm8kcEeTQ/LAoY+ICUfwFCMJsPXwPAPSO1nYNBFk+H5AJb5zMD5B1OmhYGB8S8D\n",
       "ywdODNNMGRg4vzBwL/BhmIAsw7qAIR1ILWVwKkjg/ITm6kcg79x9Y/uAsx/opSIlJQ0lJWUGBq4H\n",
       "DBxwL/IJIIUEMHRYE2AcVuQwykWOBWQZzgUgS2A85OjgBpnMiC227zAwAABqrDU+mSpKtgAAAABJ\n",
       "RU5ErkJggg==\n",
       "\" style=\"display:inline;vertical-align:middle;\" /></a></td></tr>\n",
       "<tr><td>6</td><td>Variable</td><td></td><td><a class=\"ProveItLink\" href=\"../../../../__pv_it/07527342713064c87612d00d8557c53d53d5324a0/expr.ipynb\"><img src=\"data:image/png;base64,iVBORw0KGgoAAAANSUhEUgAAAAsAAAAJBAMAAAAWSsseAAAAMFBMVEX///8yMjKqqqrMzMzu7u4i\n",
       "IiJmZmaYmJhEREQQEBC6urp2dnaIiIhUVFTc3NwAAAD87Fq/AAAAAXRSTlMAQObYZgAAAEhJREFU\n",
       "CNdjYOC7s2seAwPDygccHxgY+L4zsDUwMPB+YGA9wMDA38Dgb8DA8P4Agz6DA4O/AsNFJgMGxgKm\n",
       "MG6gyjunLE4xAAAZTBA5TB6DCwAAAABJRU5ErkJggg==\n",
       "\" style=\"display:inline;vertical-align:middle;\" /></a></td></tr>\n",
       "<tr><td>7</td><td>Literal</td><td></td><td><a class=\"ProveItLink\" href=\"../../../boolean/__pv_it/8f1f7fac882de28c72b62ab80a1700b6d8fd066b0/expr.ipynb\"><img src=\"data:image/png;base64,iVBORw0KGgoAAAANSUhEUgAAAA4AAAAOBAMAAADtZjDiAAAAG1BMVEX///9EREQQEBAiIiJmZmbM\n",
       "zMyIiIjc3NwAAACryk5kAAAAAXRSTlMAQObYZgAAABlJREFUCNdjYGBgKGOAgBBa0s7GxkbGxoYA\n",
       "FMUF2aBfHgoAAAAASUVORK5CYII=\n",
       "\" style=\"display:inline;vertical-align:middle;\" /></a></td></tr>\n",
       "</table>\n"
      ],
      "text/plain": [
       "0. {a , a = FALSE}\n",
       "   core type: Operation\n",
       "   operator: 1\n",
       "   operands: 2\n",
       "1. Set\n",
       "   core type: Literal\n",
       "   sub-expressions: \n",
       "2. (a , a = FALSE)\n",
       "   core type: ExprTuple\n",
       "   sub-expressions: 6, 3\n",
       "3. a = FALSE\n",
       "   core type: Operation\n",
       "   operator: 4\n",
       "   operands: 5\n",
       "4. =\n",
       "   core type: Literal\n",
       "   sub-expressions: \n",
       "5. (a , FALSE)\n",
       "   core type: ExprTuple\n",
       "   sub-expressions: 6, 7\n",
       "6. a\n",
       "   core type: Variable\n",
       "   sub-expressions: \n",
       "7. FALSE\n",
       "   core type: Literal\n",
       "   sub-expressions: "
      ]
     },
     "execution_count": 4,
     "metadata": {},
     "output_type": "execute_result"
    }
   ],
   "source": [
    "# display the expression information\n",
    "expr.exprInfo()"
   ]
  },
  {
   "cell_type": "code",
   "execution_count": null,
   "metadata": {},
   "outputs": [],
   "source": []
  }
 ],
 "metadata": {
  "kernelspec": {
   "display_name": "Python 3",
   "language": "python",
   "name": "python3"
  }
 },
 "nbformat": 4,
 "nbformat_minor": 0
}
