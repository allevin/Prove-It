{
 "cells": [
  {
   "cell_type": "markdown",
   "metadata": {},
   "source": [
    "Show the Proof\n",
    "========"
   ]
  },
  {
   "cell_type": "code",
   "execution_count": 1,
   "metadata": {},
   "outputs": [
    {
     "data": {
      "text/html": [
       "<table><tr><th>&nbsp;</th><th>step type</th><th>requirements</th><th>statement</th></tr>\n",
       "<tr><td>0</td><td>specialization</td><td>1, 2</td><td><span style=\"font-size:20px;\"><a class=\"ProveItLink\" href=\"../8135a462fb779889fd4ae1b9b2e36d99f8de40790/expr.ipynb\"><img src=\"data:image/png;base64,iVBORw0KGgoAAAANSUhEUgAAAEIAAAAVCAMAAADFAciVAAAAPFBMVEX///8LCwsYGBgNDQ0oKChE\n",
       "RETc3NyqqqpUVFS6urrMzMwyMjIQEBCIiIh2dnYiIiLu7u5mZmaYmJgAAADt+DP7AAAAAXRSTlMA\n",
       "QObYZgAAARtJREFUOMudlNu6xBAMhe2DirPw/u+6CabDzJTuXPSj5bespGGsRMTIbody7ujj4N1q\n",
       "+bl4gBjRRjatCIc+xwGM72Ps751ZIUA+zzSweecS8SwiRxL3EaMImcJthOKjtZ59RhxgnTQv5nPF\n",
       "RiushTju7L7Sbn6mBzXF7095PiwMqYhKhI2pZ7de9UgFjXwhQpAVppaSxgIA05YAIb2dCBLGedWc\n",
       "sPF1JP2VQQJDUhNCT954pKxUM3pdg673sCQzY/p5Psf3l6fgQ1VgTWz3omUp0LeME+pKRDWyWTEn\n",
       "tdxKZJnuyol8SD4J4X1d5KqwUnErL0Xk38w+WsNOdQq87gEbCB/2ENH8U8TZL8JLOW2K6HVNOpx4\n",
       "u0bu9M4/J0wNCUeljr8AAAAASUVORK5CYII=\n",
       "\" style=\"display:inline;vertical-align:middle;\" /></a> <a class=\"ProveItLink\" href=\"proof.ipynb\" style=\"text-decoration: none\">&#x22A2;&nbsp;</a><a class=\"ProveItLink\" href=\"../18f2498ec00d4a83eb08f530895367f745a88c660/expr.ipynb\"><img src=\"data:image/png;base64,iVBORw0KGgoAAAANSUhEUgAAAE4AAAAVBAMAAAAazcUaAAAAMFBMVEX////c3NxERESqqqqYmJgQ\n",
       "EBDu7u4yMjKIiIi6urpUVFTMzMx2dnYiIiJmZmYAAABjE816AAAAAXRSTlMAQObYZgAAAR1JREFU\n",
       "KM9jYCAdzMAlwTIBmce9AJuarFgg8RpZhD0Bq2FVIClkgQ7sln4GWXwASSAMqzLOb0CCLQBJoACr\n",
       "Op4LIFIZIcAHMluqZ6oAqjr2FV0ODAznkASAXM5ABn0Q+3k5CIB8wJCvwPCbgcGc4e1dILgDFGAF\n",
       "BpK8A8MjNHvtExhiGBimQji7gJgfqG49A8MNNHXPGRj+MTDsR1X3iYHtN5q6ewycX1DUsRowMP5g\n",
       "YP7ABmSDHXP3EiT4+L6h2MvkwMD2mYGrwBrVvN8MrMCAcIdGLSigHjAwlDDYPjiAqm4xwysGlHDh\n",
       "BAaoVMdsjQlo6aAPGF4MlUgigbhTHHK8MfjgVsfTQDhdgUA6ModxAU51C1F4EriUcWxgAADkckc1\n",
       "/lI+/QAAAABJRU5ErkJggg==\n",
       "\" style=\"display:inline;vertical-align:middle;\" /></a></span></td></tr>\n",
       "<tr><td>&nbsp;</td><td colspan=4 style=\"text-align:left\"><span style=\"font-size:20px;\"><a class=\"ProveItLink\" href=\"../../../../__pv_it/530be409e3083890784cf1d7b28c9e67e90af9360/expr.ipynb\"><img src=\"data:image/png;base64,iVBORw0KGgoAAAANSUhEUgAAAAsAAAAJBAMAAAAWSsseAAAAKlBMVEX///9ERETMzMwQEBAiIiKY\n",
       "mJju7u5mZmaqqqpUVFSIiIh2dnbc3NwAAAA/vyDhAAAAAXRSTlMAQObYZgAAAENJREFUCNdjYDi9\n",
       "8sTyBQxsG1hdmR0YuBm4LnAoMLAxcAowgADzAjB1VoEhgYH1wFoGrgSG3gBhhlMMDImrs3cFMAAA\n",
       "t0YN+iTRa+sAAAAASUVORK5CYII=\n",
       "\" style=\"display:inline;vertical-align:middle;\" /></a> : <a class=\"ProveItLink\" href=\"../../../../__pv_it/07527342713064c87612d00d8557c53d53d5324a0/expr.ipynb\"><img src=\"data:image/png;base64,iVBORw0KGgoAAAANSUhEUgAAAAsAAAAJBAMAAAAWSsseAAAAMFBMVEX///8yMjKqqqrMzMzu7u4i\n",
       "IiJmZmaYmJhEREQQEBC6urp2dnaIiIhUVFTc3NwAAAD87Fq/AAAAAXRSTlMAQObYZgAAAEhJREFU\n",
       "CNdjYOC7s2seAwPDygccHxgY+L4zsDUwMPB+YGA9wMDA38Dgb8DA8P4Agz6DA4O/AsNFJgMGxgKm\n",
       "MG6gyjunLE4xAAAZTBA5TB6DCwAAAABJRU5ErkJggg==\n",
       "\" style=\"display:inline;vertical-align:middle;\" /></a>, <a class=\"ProveItLink\" href=\"../../../../__pv_it/f8b9edf8e16034727f0aad55bb83e392c3db40d40/expr.ipynb\"><img src=\"data:image/png;base64,iVBORw0KGgoAAAANSUhEUgAAAAsAAAANBAMAAACN24kIAAAAMFBMVEX///+YmJhUVFQyMjIQEBBE\n",
       "REQiIiKqqqrMzMyIiIi6urrc3NxmZmZ2dnbu7u4AAADXeCicAAAAAXRSTlMAQObYZgAAAFhJREFU\n",
       "CNdj4LtzgWH/AwZerg8M8xkY2nkSGEIZGB6wTGD4ycDAUP+A4weQOszA6QCkbBhYFYDUIYb1AkDq\n",
       "6czzGxhA4BoQMyXwuQMptgusF4AU+8xTQBIAUqMVoSp/SLMAAAAASUVORK5CYII=\n",
       "\" style=\"display:inline;vertical-align:middle;\" /></a> : <a class=\"ProveItLink\" href=\"../../../../__pv_it/6840a4fa6c106149dc16a131294d0c5e44f1b0480/expr.ipynb\"><img src=\"data:image/png;base64,iVBORw0KGgoAAAANSUhEUgAAAAkAAAAOBAMAAAAPuiubAAAALVBMVEX///9mZmbMzMxERESYmJiI\n",
       "iIh2dna6urqqqqoyMjIiIiIQEBBUVFTu7u4AAAD9S1JeAAAAAXRSTlMAQObYZgAAAE1JREFUCNdj\n",
       "4D29gAEIOA+ASL4GEFl3AURmgQiGOaFHGBh4HzPwKTBwvGXgTmBgnMDAJ8DAJcBQ5wBSLncBJLWN\n",
       "gYGngRFoBO9REQYGAGrcDtUkVqASAAAAAElFTkSuQmCC\n",
       "\" style=\"display:inline;vertical-align:middle;\" /></a></span></td></tr><tr><td>1</td><td>theorem</td><td></td><td><span style=\"font-size:20px;\"> <a class=\"ProveItLink\" href=\"../../_proofs_/unfoldNotEquals.ipynb\" style=\"text-decoration: none\">&#x22A2;&nbsp;</a><a class=\"ProveItLink\" href=\"../38779c63c7ca10709484d9771bf5465a3e774ee90/expr.ipynb\"><img src=\"data:image/png;base64,iVBORw0KGgoAAAANSUhEUgAAAL8AAAAXCAMAAABte263AAAAOVBMVEX///8oKCgUFBQJCQkQEBC6\n",
       "urrMzMxUVFRmZmZERETc3NwyMjKqqqp2dnaIiIiYmJgiIiLu7u4AAACP9cC6AAAAAXRSTlMAQObY\n",
       "ZgAAAmJJREFUWMPVV4lu5CAMZXfDffP/H7uYAIEZSEg7kVpLlRuM4YGfbQahXy7+8R2wuWs4F4tb\n",
       "7Y5x8wh8Qu8aroSRRmtVhuUzoZgu+/X9ZKMFzx/1n8+KMXcNCwzSjS7XwNQj+Dd/17CQs1ujrRZJ\n",
       "3DPJK+8aVoSrRgcO4vQj+Jm+MAhtqFCGXbDJ6+QgQoqaZvto0jSlMxcLl3m2wdhf2lkO2owrMsBZ\n",
       "tNXwM9lILVEa4QBJE9KXysFLGsMkvxJOvlDUXlm+n5m5Kroz6AxKkfMirOISgGCHgHMC7BoMxn4P\n",
       "v5gU84AnVT8bgA70uvLFaRswLOw0IwE1GrA7/z38M/pd4U+hWKmkCphPAhngj9wpq8ZkwoaS0t95\n",
       "X+da/N1MhPXYA21qgv8wiASq+jRUc+7YkQHBTcebqrmgmY0egpmX9gYFgcg2vP86k6Y8+xf/zMAD\n",
       "cTvBnw1W7DlpruIvodTw7GxlpxVztcAcBUN4HIcNH+LvZpbsefeola45QGtQwSIezysuKcQidBxs\n",
       "v2rRDQNDQ2QaWUHNjP/HTM9nHgjP2uJu8Nxor/VC9YgzDStbStxrW6MHwSdt8dvIBH+eySNz/v6R\n",
       "iT/vHvFr1le2hYbzItoN3g8tpIC0TDVZSFg9IsFhWH+OmX3tfPU43lrTR9iaUAdwVakdvW5ipFgM\n",
       "KOCDiCpquBziP2bC8JF7rx4fez9D2+P5xKXXnvbciF+IFzKP6786LvLN46SzzQ3DTSL7S8egotfD\n",
       "hi3SeftXIj/9NYEGHgnnrLaIr/0CMKTXs+uHM+vr/mtVd0vPPGM/I/TnQfoP0pMahBS79IEAAAAA\n",
       "SUVORK5CYII=\n",
       "\" style=\"display:inline;vertical-align:middle;\" /></a></span></td></tr>\n",
       "<tr><td>&nbsp;</td><td colspan=4 style-\"text-align:left\"><a class=\"ProveItLink\" href=\"../../_proofs_/unfoldNotEquals.ipynb\">proveit.logic.equality.unfoldNotEquals</a></td></tr><tr><td>2</td><td>assumption</td><td></td><td><span style=\"font-size:20px;\"><a class=\"ProveItLink\" href=\"../8135a462fb779889fd4ae1b9b2e36d99f8de40790/expr.ipynb\"><img src=\"data:image/png;base64,iVBORw0KGgoAAAANSUhEUgAAAEIAAAAVCAMAAADFAciVAAAAPFBMVEX///8LCwsYGBgNDQ0oKChE\n",
       "RETc3NyqqqpUVFS6urrMzMwyMjIQEBCIiIh2dnYiIiLu7u5mZmaYmJgAAADt+DP7AAAAAXRSTlMA\n",
       "QObYZgAAARtJREFUOMudlNu6xBAMhe2DirPw/u+6CabDzJTuXPSj5bespGGsRMTIbody7ujj4N1q\n",
       "+bl4gBjRRjatCIc+xwGM72Ps751ZIUA+zzSweecS8SwiRxL3EaMImcJthOKjtZ59RhxgnTQv5nPF\n",
       "RiushTju7L7Sbn6mBzXF7095PiwMqYhKhI2pZ7de9UgFjXwhQpAVppaSxgIA05YAIb2dCBLGedWc\n",
       "sPF1JP2VQQJDUhNCT954pKxUM3pdg673sCQzY/p5Psf3l6fgQ1VgTWz3omUp0LeME+pKRDWyWTEn\n",
       "tdxKZJnuyol8SD4J4X1d5KqwUnErL0Xk38w+WsNOdQq87gEbCB/2ENH8U8TZL8JLOW2K6HVNOpx4\n",
       "u0bu9M4/J0wNCUeljr8AAAAASUVORK5CYII=\n",
       "\" style=\"display:inline;vertical-align:middle;\" /></a> <a class=\"ProveItLink\" href=\"../0d596c2edf65920b2712372138d49fd02137ec000/proof.ipynb\" style=\"text-decoration: none\">&#x22A2;&nbsp;</a><a class=\"ProveItLink\" href=\"../19ff6125cfeededb0a6e66fb1e0c7ddff3c2dd3b0/expr.ipynb\"><img src=\"data:image/png;base64,iVBORw0KGgoAAAANSUhEUgAAADAAAAAUCAMAAAD84U6VAAAAPFBMVEX///8LCwsYGBgNDQ0oKCgy\n",
       "MjKqqqrMzMzu7u4iIiJmZmaYmJhEREQQEBC6urp2dnaIiIhUVFTc3NwAAABYMwFzAAAAAXRSTlMA\n",
       "QObYZgAAAMhJREFUKM+1kusOwyAIhdnFG7WI+v7vOiRbu9rMxh87SRuNwOcBAUZKBaZUzL72eQ2X\n",
       "CZm+dybPAETVzgGo+ot4F48N2C2UzInWU0Oig6MF5rwoq8XGup2gUT0f7b8Z9bUBqxQptaVhvABY\n",
       "tbAmsaa1A3fx1DURtWUV5YsKdF2C6TwF1E4tciNWoCR9agXR/RZU8TAFlHt5XWUD1o0AalctgBHP\n",
       "VoBp5EBKSl3M7ykwucg0BMjjY1x+Dtni3LOG4Ofi/w4AGpy9AOYzB/Lf2im1AAAAAElFTkSuQmCC\n",
       "\" style=\"display:inline;vertical-align:middle;\" /></a></span></td></tr>\n",
       "</table>"
      ],
      "text/plain": [
       "<proveit._core_.proof._ShowProof at 0x7f94ebc32b00>"
      ]
     },
     "execution_count": 1,
     "metadata": {},
     "output_type": "execute_result"
    }
   ],
   "source": [
    "import proveit\n",
    "%show_proof"
   ]
  },
  {
   "cell_type": "code",
   "execution_count": null,
   "metadata": {},
   "outputs": [],
   "source": []
  }
 ],
 "metadata": {
  "kernelspec": {
   "display_name": "Python 3",
   "language": "python",
   "name": "python3"
  }
 },
 "nbformat": 4,
 "nbformat_minor": 0
}
