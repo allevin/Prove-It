{
 "cells": [
  {
   "cell_type": "markdown",
   "metadata": {},
   "source": [
    "Show the Proof\n",
    "========"
   ]
  },
  {
   "cell_type": "code",
   "execution_count": 1,
   "metadata": {},
   "outputs": [
    {
     "data": {
      "text/html": [
       "<table><tr><th>&nbsp;</th><th>step type</th><th>requirements</th><th>statement</th></tr>\n",
       "<tr><td>0</td><td>modus ponens</td><td>1, 2</td><td><span style=\"font-size:20px;\"><a class=\"ProveItLink\" href=\"../f11690caacff2724ee0f122a6f4a96c9eff3ae0d0/expr.ipynb\"><img src=\"data:image/png;base64,iVBORw0KGgoAAAANSUhEUgAAAMkAAAAVBAMAAAAeFNdiAAAAMFBMVEX///9ERETc3NyqqqpUVFS6\n",
       "urrMzMwyMjIQEBCIiIh2dnYiIiLu7u5mZmaYmJgAAABJJ2g3AAAAAXRSTlMAQObYZgAAAjFJREFU\n",
       "SMdjYGDgu8dAQ8C2SgFE8ezCrSQSn36+AEIawCrYmkFMzg+43eGAQ4JpAoi8RlADWMV1EMHVgNMW\n",
       "9gO4rL8AliaoAaxiBXZbeGCMmQx4beFbgC6OrgGsAoctcBf14LeFB0MnugawChy2sEJDl7UAvy0M\n",
       "wugaMTQIo9jC5Lm0CSG3EkLxgvyrMitCAZcta9GEeZGCEKJvLcwWXpADIhQYwUnt9m4Q2A8xhP0B\n",
       "0HlNDPJgVeVg4IBiizl6UD9AeAuiD6TiPYifAUzUTP8YeAWQlJuDswIHkNR/wHARZ4hFwPhgx+0C\n",
       "a4AyofpAKtiBilPagAyWDwzcE5BjrQJkDT+Q8Gdg2InTlnwUwRSwBigTqg+sQhzoxYgEoHkCDOcT\n",
       "kDSkr2GA2vKRgecbObZA9YFUcINiiwUYL/oTGOwZDsDjZbcMWC2HAQPTTwbmD6D8wwuREMAeYlCj\n",
       "gRqgTJi+CFi8cG1gYDhvwODOjPCMCYRifMDA8xnoCjNcfnkOIg4gbGGExX4KTN9z5JTM/oB5Lxei\n",
       "lIImey6gWXUM1hcW4EvJPL/hgmANUCZU31pkW5g8pyZOhZvBCM0grEBfqswMk0Qre0GB1w0OvFKQ\n",
       "Lf2I7ATSAMsuEH2luPM+G4zRhL/qgJQwrEiZtomEEgYOXuG3hQuc+PnwaACrANvCR0bJDwHHGdBt\n",
       "QddwHF6/8OzEaQyTA15bnMDkBDwaQCrYWiGOWYzTHE18lnAmENIAUgGu9wGmXqYVRUtb0AAAAABJ\n",
       "RU5ErkJggg==\n",
       "\" style=\"display:inline;vertical-align:middle;\" /></a> <a class=\"ProveItLink\" href=\"proof.ipynb\" style=\"text-decoration: none\">&#x22A2;&nbsp;</a><a class=\"ProveItLink\" href=\"../93f275e9bdc8087619bf7a3734a390a91df084c10/expr.ipynb\"><img src=\"data:image/png;base64,iVBORw0KGgoAAAANSUhEUgAAADYAAAAOBAMAAACWQvIuAAAAMFBMVEX///8yMjKqqqrMzMzu7u4i\n",
       "IiJmZmaYmJhEREQQEBC6urp2dnaIiIhUVFTc3NwAAAD87Fq/AAAAAXRSTlMAQObYZgAAAGZJREFU\n",
       "GNNjYMAO3jDgBmY0k+O7s2seLrmVDzg+gOhEQRCQRZbj+87A1oBDH+8HBtYDOOT4Gxj8DXDIvT/A\n",
       "oM/gAGSkhoJABLKcvwLDRSYD7PoYC5jCuHGYyXfnlMUpNAmg8ZFA4wHScBlQMGMH1QAAAABJRU5E\n",
       "rkJggg==\n",
       "\" style=\"display:inline;vertical-align:middle;\" /></a></span></td></tr>\n",
       "<tr><td>1</td><td>assumption</td><td></td><td><span style=\"font-size:20px;\"><a class=\"ProveItLink\" href=\"../291306a416167346004dda9466772da923aa68990/expr.ipynb\"><img src=\"data:image/png;base64,iVBORw0KGgoAAAANSUhEUgAAAIUAAAAVBAMAAACakjBMAAAAMFBMVEX///9ERETc3NyqqqpUVFS6\n",
       "urrMzMwyMjIQEBCIiIh2dnYiIiLu7u5mZmaYmJgAAABJJ2g3AAAAAXRSTlMAQObYZgAAAZ1JREFU\n",
       "OMtjYGDgu8dANmBbpQCieHbhVhKJTz9fAMiQZhCT8wNuWxxwSDBNAJHXQMR1EMHVgNMM9gO4DL8A\n",
       "lgYRK7CbAdc5kwGvGXwLcJtRA2P04DeDpwG3GSFQmrUAvxkMwihmMHkubYKr4JoAoXlBblWZFaGA\n",
       "y4y1MDN4QbZFKDCCood3Nxj8hQbpA6BbmhjkwarKwcABxQxzIH4PYmQAo5npHwOvAMIa5lIwxQGU\n",
       "0X/AcBGnXyJAFgGZKW1ABssHBu4JSGqOt4JIfqAZ/gwMO3GakQ8ixIGujUgAqhZgOJ+ApKTqAMyM\n",
       "jww83/CawQ0KNBZgeOhPYLAHJQtoeGyEpBAOAwamnwzMH3gQISWA4RdweHBtYGA4b8Dgzgx3CDM0\n",
       "5BgfMPB8Btphhssdz5Hjlv0B814uuAp1WBwDVdYxWF9YQDBuQWYweU5NnApXIQRLY0AXqswMkwxA\n",
       "NQDkrW6wt0pxp1O4p5rwFx740jocvMJvBjg9g83gIyPvQ1MRvPzg2YlTEZMDXjOcQKHbCinTFuNU\n",
       "pYnPCM4EaHkKAFeNdPqYj1I/AAAAAElFTkSuQmCC\n",
       "\" style=\"display:inline;vertical-align:middle;\" /></a> <a class=\"ProveItLink\" href=\"../ace5c158ca1b88b487d43d557f44617436be4e7a0/proof.ipynb\" style=\"text-decoration: none\">&#x22A2;&nbsp;</a><a class=\"ProveItLink\" href=\"../f5a84841194366ac4e9e51ebb1ba5fe15917f9730/expr.ipynb\"><img src=\"data:image/png;base64,iVBORw0KGgoAAAANSUhEUgAAAHAAAAAVBAMAAABs93eRAAAAMFBMVEX///8yMjKqqqrMzMzu7u4i\n",
       "IiJmZmaYmJhEREQQEBC6urp2dnaIiIhUVFTc3NwAAAD87Fq/AAAAAXRSTlMAQObYZgAAAUJJREFU\n",
       "OMtjYKA2WINPkn0BTinmCzgk+A6AyGScGhkdcJmYAJZGF4YrP8OAVyP7BjRhERhjCn6NLBPQhNdC\n",
       "aS4B/BoZmoC+vbNrHlyY+wCEZgM55e3plQ9wadzGwLDyAccHkNJQMPgGDZsCoK3zGPrBhgiCwQUU\n",
       "jYoMfN8Z2BoQBjJJgSlOYES9L2DIwOnUlQy8HxhYDyBJOM4CkfxAjfcZGGJwarRn4G9g8DdAEpd2\n",
       "gGn8wcDyGY/G9wcY9EHRB/VjBCQmORUY+P4wMH1gQfi+Ac2p/goMF5ngVjJBg4CjgIHlEwOvgDIu\n",
       "GwuB4ccUxg0XfgiLFqC0OINqwgbc0cF355TFKbhwHywBBACj8cziHrRcAHL1VLCrpdDMg7t5Hv5M\n",
       "h5Hk4KAav0buAyRnK2hs45Thu4BX4z3cUm/w6eMxYAAAJ2dNNn4Lml0AAAAASUVORK5CYII=\n",
       "\" style=\"display:inline;vertical-align:middle;\" /></a></span></td></tr>\n",
       "<tr><td>2</td><td>specialization</td><td>3, 4</td><td><span style=\"font-size:20px;\"><a class=\"ProveItLink\" href=\"../1c42f577f50ab3c25aa8c76c9dd513389153617e0/expr.ipynb\"><img src=\"data:image/png;base64,iVBORw0KGgoAAAANSUhEUgAAAEkAAAAVBAMAAAD4Ed5jAAAAMFBMVEX////c3NxERESqqqpUVFS6\n",
       "urrMzMwyMjIQEBCIiIh2dnYiIiLu7u5mZmaYmJgAAABXZE4RAAAAAXRSTlMAQObYZgAAARxJREFU\n",
       "KM9jYGDgu8eAB7CtEgBRPLuQxCJRVPAFgJQ1g5icH5A0OqAadA1EXAcRXA0IUfYDqKrYQcQKdFUz\n",
       "0RzFtwCbqh40VTwNWFSxFqD7UBmLKt4FCHmRWRHAIFgLU8WLMID9AcLYRgZ9IGUOxO9B/AxgoNze\n",
       "DQS7GDgQTPkHDJeAkhEgvRcYGFLaYNpTGPgD4Ex/BoadQEY+iKcOtCIiAZuqTww836CquEGuZSmA\n",
       "S3EYwJiMPxmYP/BAbAS7i2sDXBUTzPUpPJ+Bus0YGJ5jhAQbA9cFOLOOwfrCAqSQQA7VDYjgmhmm\n",
       "CXRlKbYYaiQmhhheoanimgBTxYcn5RyHpy+enQhRRrRU6AjySSskES1GCEuiKOJMgKZ7ACkiS16U\n",
       "pT3yAAAAAElFTkSuQmCC\n",
       "\" style=\"display:inline;vertical-align:middle;\" /></a> <a class=\"ProveItLink\" href=\"../7799675e37329f34e65d0871ba48106790f00d5f0/proof.ipynb\" style=\"text-decoration: none\">&#x22A2;&nbsp;</a><a class=\"ProveItLink\" href=\"../../../../__pv_it/07527342713064c87612d00d8557c53d53d5324a0/expr.ipynb\"><img src=\"data:image/png;base64,iVBORw0KGgoAAAANSUhEUgAAAAsAAAAJBAMAAAAWSsseAAAAMFBMVEX///8yMjKqqqrMzMzu7u4i\n",
       "IiJmZmaYmJhEREQQEBC6urp2dnaIiIhUVFTc3NwAAAD87Fq/AAAAAXRSTlMAQObYZgAAAEhJREFU\n",
       "CNdjYOC7s2seAwPDygccHxgY+L4zsDUwMPB+YGA9wMDA38Dgb8DA8P4Agz6DA4O/AsNFJgMGxgKm\n",
       "MG6gyjunLE4xAAAZTBA5TB6DCwAAAABJRU5ErkJggg==\n",
       "\" style=\"display:inline;vertical-align:middle;\" /></a></span></td></tr>\n",
       "<tr><td>&nbsp;</td><td colspan=4 style=\"text-align:left\"><span style=\"font-size:20px;\"><a class=\"ProveItLink\" href=\"../../../../__pv_it/2cbe72a7ad6f655694dd697106680215e8489b600/expr.ipynb\"><img src=\"data:image/png;base64,iVBORw0KGgoAAAANSUhEUgAAAA8AAAAOBAMAAAACpFvcAAAALVBMVEX///8QEBBERERUVFS6urqI\n",
       "iIhmZmaqqqrc3Nzu7u6YmJgyMjIiIiLMzMwAAADtIaYWAAAAAXRSTlMAQObYZgAAAFtJREFUCNdj\n",
       "YACBOwxQsA9Kc52bAGG05zVAGAFxDmCaZULdAjBjCsO9ADDDgaEvAUTzGhvbKYCVMDAwbgAxChgY\n",
       "eASANAeQwf0AyJgNxEwvGRia5HYwcOm9TgAA6BoR3jrzwFcAAAAASUVORK5CYII=\n",
       "\" style=\"display:inline;vertical-align:middle;\" /></a> : <a class=\"ProveItLink\" href=\"../../../../__pv_it/07527342713064c87612d00d8557c53d53d5324a0/expr.ipynb\"><img src=\"data:image/png;base64,iVBORw0KGgoAAAANSUhEUgAAAAsAAAAJBAMAAAAWSsseAAAAMFBMVEX///8yMjKqqqrMzMzu7u4i\n",
       "IiJmZmaYmJhEREQQEBC6urp2dnaIiIhUVFTc3NwAAAD87Fq/AAAAAXRSTlMAQObYZgAAAEhJREFU\n",
       "CNdjYOC7s2seAwPDygccHxgY+L4zsDUwMPB+YGA9wMDA38Dgb8DA8P4Agz6DA4O/AsNFJgMGxgKm\n",
       "MG6gyjunLE4xAAAZTBA5TB6DCwAAAABJRU5ErkJggg==\n",
       "\" style=\"display:inline;vertical-align:middle;\" /></a></span></td></tr><tr><td>3</td><td>axiom</td><td></td><td><span style=\"font-size:20px;\"> <a class=\"ProveItLink\" href=\"../../../boolean/negation/_axioms_.ipynb#doubleNegationElim\" style=\"text-decoration: none\">&#x22A2;&nbsp;</a><a class=\"ProveItLink\" href=\"../../../boolean/negation/__pv_it/46b23c0b39196d9aab38e98e43a09a89860bf7aa0/expr.ipynb\"><img src=\"data:image/png;base64,iVBORw0KGgoAAAANSUhEUgAAAHEAAAAWBAMAAAAFoW4BAAAAMFBMVEX///8QEBC6urrMzMxUVFRm\n",
       "ZmZERETc3NwyMjKqqqp2dnaIiIiYmJgiIiLu7u4AAAAU9Wx4AAAAAXRSTlMAQObYZgAAAXhJREFU\n",
       "OMtjeMBALrgAIk6TqssWiFeCGH2k6uwH4jIgZk8gUSPPfaAnOYCYdQKJOivjC4Dal5eX15Lq2A37\n",
       "FYDkt7S0WzgUsBsg8xAOY3ow/wCQcmZgSAfz2yGiSGqrEEygpBWc84jBfgOQUmHgawD7+hNYlA1J\n",
       "JyLgQJJcCjCeAkN9AJDiZeAGWc3w9A+6Ts4NcCZIEmIBEDC7uPiDDOU+wAtOR+uuoutkK4AzwZLO\n",
       "MG8yMDCCTOFrMAEbtCENXScjnAWR3I0IKl4BECPdCUSyMMSi67SAsyCSKtAQB+rk+ABiTQUn3ZMM\n",
       "+xE6udLS0jJAKpcBGQ0wSahJL0Cq/oEdBQoIvquh+Q9Q7GRjmAILYagkRGeZfDsDT/4PUODygHSw\n",
       "FjDYG6DpVIPphEqqYU0uOgwM/AfQdL6F6YRKnsKm8ck3Bnb/Oyg6mRkgscVgAJMMwp+YkcKWGy0L\n",
       "NRCtkw812yIlKUI6GeagyLAQyHrI8jwouWwdqkIA4DVYFYu4wFQAAAAASUVORK5CYII=\n",
       "\" style=\"display:inline;vertical-align:middle;\" /></a></span></td></tr>\n",
       "<tr><td>&nbsp;</td><td colspan=4 style-\"text-align:left\"><a class=\"ProveItLink\" href=\"../../../boolean/negation/_axioms_.ipynb#doubleNegationElim\">proveit.logic.boolean.negation.doubleNegationElim</a></td></tr><tr><td>4</td><td>assumption</td><td></td><td><span style=\"font-size:20px;\"><a class=\"ProveItLink\" href=\"../1c42f577f50ab3c25aa8c76c9dd513389153617e0/expr.ipynb\"><img src=\"data:image/png;base64,iVBORw0KGgoAAAANSUhEUgAAAEkAAAAVBAMAAAD4Ed5jAAAAMFBMVEX////c3NxERESqqqpUVFS6\n",
       "urrMzMwyMjIQEBCIiIh2dnYiIiLu7u5mZmaYmJgAAABXZE4RAAAAAXRSTlMAQObYZgAAARxJREFU\n",
       "KM9jYGDgu8eAB7CtEgBRPLuQxCJRVPAFgJQ1g5icH5A0OqAadA1EXAcRXA0IUfYDqKrYQcQKdFUz\n",
       "0RzFtwCbqh40VTwNWFSxFqD7UBmLKt4FCHmRWRHAIFgLU8WLMID9AcLYRgZ9IGUOxO9B/AxgoNze\n",
       "DQS7GDgQTPkHDJeAkhEgvRcYGFLaYNpTGPgD4Ex/BoadQEY+iKcOtCIiAZuqTww836CquEGuZSmA\n",
       "S3EYwJiMPxmYP/BAbAS7i2sDXBUTzPUpPJ+Bus0YGJ5jhAQbA9cFOLOOwfrCAqSQQA7VDYjgmhmm\n",
       "CXRlKbYYaiQmhhheoanimgBTxYcn5RyHpy+enQhRRrRU6AjySSskES1GCEuiKOJMgKZ7ACkiS16U\n",
       "pT3yAAAAAElFTkSuQmCC\n",
       "\" style=\"display:inline;vertical-align:middle;\" /></a> <a class=\"ProveItLink\" href=\"../fb200f9aaf68566432bad31ef8c26eabbb8213960/proof.ipynb\" style=\"text-decoration: none\">&#x22A2;&nbsp;</a><a class=\"ProveItLink\" href=\"../../../../__pv_it/0036ab6983d46c4493c540f34d4f1dc9527e0edc0/expr.ipynb\"><img src=\"data:image/png;base64,iVBORw0KGgoAAAANSUhEUgAAADQAAAAVBAMAAAD7ptBLAAAAMFBMVEX////c3NxERESqqqqYmJgQ\n",
       "EBDu7u4yMjKIiIi6urpUVFTMzMx2dnYiIiJmZmYAAABjE816AAAAAXRSTlMAQObYZgAAAMtJREFU\n",
       "KM9jYCACzEDhsUxAsLkXoKp8jWCyJ6BKsSOYHWjmsxyAM8PQpNgCYCzOAnRnKcMYfAj9DFI9UwUY\n",
       "GM7BbXWAy3AGMugDKXOGt3eB4A4DK9AfUKa8A8MjoNRUiMJdDPwwL+5iWM/AcAPI2I9F6hMD229k\n",
       "KVYDmBTjDwbmD2xIBjLBnLGL7TMDV4E1A4M7NAAZeB7AwpKhhMH2wQEkx3NeQHirY7YG0OZKuEAg\n",
       "zoBi8EGT4mnAGSnpCCYjWlQuRGJLoMhwbGAAAEHzM1gcnVYXAAAAAElFTkSuQmCC\n",
       "\" style=\"display:inline;vertical-align:middle;\" /></a></span></td></tr>\n",
       "</table>"
      ],
      "text/plain": [
       "<proveit._core_.proof._ShowProof at 0x7f94eadfc080>"
      ]
     },
     "execution_count": 1,
     "metadata": {},
     "output_type": "execute_result"
    }
   ],
   "source": [
    "import proveit\n",
    "%show_proof"
   ]
  },
  {
   "cell_type": "code",
   "execution_count": null,
   "metadata": {},
   "outputs": [],
   "source": []
  }
 ],
 "metadata": {
  "kernelspec": {
   "display_name": "Python 3",
   "language": "python",
   "name": "python3"
  }
 },
 "nbformat": 4,
 "nbformat_minor": 0
}
