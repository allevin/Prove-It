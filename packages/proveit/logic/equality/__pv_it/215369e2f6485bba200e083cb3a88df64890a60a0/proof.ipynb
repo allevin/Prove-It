{
 "cells": [
  {
   "cell_type": "markdown",
   "metadata": {},
   "source": [
    "Show the Proof\n",
    "========"
   ]
  },
  {
   "cell_type": "code",
   "execution_count": 1,
   "metadata": {},
   "outputs": [
    {
     "data": {
      "text/html": [
       "<table><tr><th>&nbsp;</th><th>step type</th><th>requirements</th><th>statement</th></tr>\n",
       "<tr><td>0</td><td>assumption</td><td></td><td><span style=\"font-size:20px;\"><a class=\"ProveItLink\" href=\"../870acf44e504d1aea64ddfbe15d244c3c662ace40/expr.ipynb\"><img src=\"data:image/png;base64,iVBORw0KGgoAAAANSUhEUgAAACkAAAAVBAMAAAAp9toTAAAAMFBMVEX////c3NxERESqqqpUVFS6\n",
       "urrMzMwyMjIQEBCIiIh2dnYiIiLu7u5mZmaYmJgAAABXZE4RAAAAAXRSTlMAQObYZgAAAJ1JREFU\n",
       "GNNjYGDgu8eABNhWCYAonl0MKICtGURyfkAVZbgOIrga0ERXUF/01MppUFHeAoSjWhmqGRjeg5gZ\n",
       "AQwMt3cDwS6GExMY9BgY2C8wMKS0wVSmMPhDGOoPGBgiEuCin8A09wIgwQIzN4XxJ5gGm8u1Aa72\n",
       "HzCo0F3GxuDLwLAM0728K2ceIMPHfA3YwpdnJ1pctIIpvsUY8QYA32ktvW1k32wAAAAASUVORK5C\n",
       "YII=\n",
       "\" style=\"display:inline;vertical-align:middle;\" /></a> <a class=\"ProveItLink\" href=\"proof.ipynb\" style=\"text-decoration: none\">&#x22A2;&nbsp;</a><a class=\"ProveItLink\" href=\"../4662ecefc8ebd2f1c0805c3521bc75594607f2cb0/expr.ipynb\"><img src=\"data:image/png;base64,iVBORw0KGgoAAAANSUhEUgAAABYAAAAJBAMAAADEGsFGAAAALVBMVEX////c3NyYmJhEREQyMjK6\n",
       "uroQEBCIiIju7u5UVFTMzMx2dnYiIiJmZmYAAADhr1NZAAAAAXRSTlMAQObYZgAAAEBJREFUCNdj\n",
       "YICC7u1VMCZXKoMPw50zQHCaoa2AwQgiupJhHkwBkP0YwWZ8jiT+iIGBCWoKw1wGhl0wGd7t5Q0A\n",
       "74URhGa6+a4AAAAASUVORK5CYII=\n",
       "\" style=\"display:inline;vertical-align:middle;\" /></a></span></td></tr>\n",
       "</table>"
      ],
      "text/plain": [
       "<proveit._core_.proof._ShowProof at 0x7f94eb6514e0>"
      ]
     },
     "execution_count": 1,
     "metadata": {},
     "output_type": "execute_result"
    }
   ],
   "source": [
    "import proveit\n",
    "%show_proof"
   ]
  },
  {
   "cell_type": "code",
   "execution_count": null,
   "metadata": {},
   "outputs": [],
   "source": []
  }
 ],
 "metadata": {
  "kernelspec": {
   "display_name": "Python 3",
   "language": "python",
   "name": "python3"
  }
 },
 "nbformat": 4,
 "nbformat_minor": 0
}
