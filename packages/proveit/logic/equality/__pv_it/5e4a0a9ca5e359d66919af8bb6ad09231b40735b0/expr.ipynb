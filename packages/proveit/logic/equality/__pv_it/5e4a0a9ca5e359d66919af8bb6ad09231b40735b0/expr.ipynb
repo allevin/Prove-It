{
 "cells": [
  {
   "cell_type": "markdown",
   "metadata": {},
   "source": [
    "Expression of type <a class=\"ProveItLink\" href=\"../../../../../../doc/html/api/proveit.ExprTuple.html\">ExprTuple</a>\n",
    "=======================\n",
    "# from context <a class=\"ProveItLink\" href=\"../../_context_.ipynb\">proveit.logic.equality</a>"
   ]
  },
  {
   "cell_type": "code",
   "execution_count": 1,
   "metadata": {},
   "outputs": [],
   "source": [
    "# import Expression classes needed to build the expression\n",
    "from proveit import ExprTuple\n",
    "from proveit._common_ import b\n",
    "from proveit.logic import Equals, FALSE, Implies"
   ]
  },
  {
   "cell_type": "code",
   "execution_count": 2,
   "metadata": {},
   "outputs": [
    {
     "data": {
      "text/html": [
       "<strong id=\"expr\">expr:</strong> <a class=\"ProveItLink\" href=\"expr.ipynb\"><img src=\"data:image/png;base64,iVBORw0KGgoAAAANSUhEUgAAAJAAAAAVBAMAAABbFXrgAAAAMFBMVEX////c3NwiIiJERESqqqqY\n",
       "mJh2dnZmZmYQEBDu7u4yMjJUVFTMzMyIiIi6uroAAAAs73DqAAAAAXRSTlMAQObYZgAAAdZJREFU\n",
       "OMutVD1IQlEYPWbm85U/ewTi0piDDW3ONuTU4CQt0hBIUEMFlUTQEm+MHHQJMkEMCloE5xpsawih\n",
       "miQIiYwQJPruvb4/e/e1dOHd+853zzvfz/3eBf5thO4lG28uH/mefsM7BG6iDtypOooFB7uHO94x\n",
       "MCcxWAHUusMHqgZUnRzk+a5pqAoYJAfhpGkO6C9tenpSIV/WMPQEVMhxV7MHwscRla8vFQrsGTXu\n",
       "C/hKy4q19sM0Q2VgIioVQkLHgpTAJsuyfW0S18Tip9jVxmNaJpQzUuCkHM4org+Em2Raj7ExJ4gq\n",
       "7ZbiGDDNCz7qNqGULiRIKRwD430oZu2Q4j2i0Lyk4VAWUUfHgtTBN3ksI5y3nNs5UwrTtAV8yYRa\n",
       "OhakFhMay6NrqcXtKoZCswh9/ikkSC0c8Dba1YwaxRb4vpJkHeJnZ+sX9rhzaoLUwTxYpS2lWBSL\n",
       "l2Ic2GpnjyijN68gZdgxTib95j/iKQ/bg/hX2Ibb8ZdYCwlSDi8k3Ngwed7IsCGJVHwYbSOWZYFn\n",
       "WSN08g6dVIMSGXGov+y7Xj7iF3m2QF9WQl12FZrgl0naCisSqqq5CZ3CJsTgtITqqbsJXbIpaIMe\n",
       "2VU746ITbI7CH01Gf1qC9qLRAAAAAElFTkSuQmCC\n",
       "\" style=\"display:inline;vertical-align:middle;\" /></a><br>"
      ],
      "text/plain": [
       "expr: (b => (b = FALSE) , b)"
      ]
     },
     "execution_count": 2,
     "metadata": {},
     "output_type": "execute_result"
    }
   ],
   "source": [
    "# build up the expression from sub-expressions\n",
    "expr = ExprTuple(Implies(b, Equals(b, FALSE)), b)"
   ]
  },
  {
   "cell_type": "code",
   "execution_count": 3,
   "metadata": {},
   "outputs": [
    {
     "name": "stdout",
     "output_type": "stream",
     "text": [
      "Passed sanity check: built 'expr' is the same as the stored Expression.\n"
     ]
    }
   ],
   "source": [
    "# check that the built expression is the same as the stored expression\n",
    "%check_expr"
   ]
  },
  {
   "cell_type": "code",
   "execution_count": 4,
   "metadata": {},
   "outputs": [
    {
     "data": {
      "text/html": [
       "<table><tr><th>&nbsp;</th><th>core type</th><th>sub-expressions</th><th>expression</th></tr>\n",
       "<tr><td>0</td><td>ExprTuple</td><td>1, 7</td><td><a class=\"ProveItLink\" href=\"expr.ipynb\"><img src=\"data:image/png;base64,iVBORw0KGgoAAAANSUhEUgAAAJAAAAAVBAMAAABbFXrgAAAAMFBMVEX////c3NwiIiJERESqqqqY\n",
       "mJh2dnZmZmYQEBDu7u4yMjJUVFTMzMyIiIi6uroAAAAs73DqAAAAAXRSTlMAQObYZgAAAdZJREFU\n",
       "OMutVD1IQlEYPWbm85U/ewTi0piDDW3ONuTU4CQt0hBIUEMFlUTQEm+MHHQJMkEMCloE5xpsawih\n",
       "miQIiYwQJPruvb4/e/e1dOHd+853zzvfz/3eBf5thO4lG28uH/mefsM7BG6iDtypOooFB7uHO94x\n",
       "MCcxWAHUusMHqgZUnRzk+a5pqAoYJAfhpGkO6C9tenpSIV/WMPQEVMhxV7MHwscRla8vFQrsGTXu\n",
       "C/hKy4q19sM0Q2VgIioVQkLHgpTAJsuyfW0S18Tip9jVxmNaJpQzUuCkHM4org+Em2Raj7ExJ4gq\n",
       "7ZbiGDDNCz7qNqGULiRIKRwD430oZu2Q4j2i0Lyk4VAWUUfHgtTBN3ksI5y3nNs5UwrTtAV8yYRa\n",
       "OhakFhMay6NrqcXtKoZCswh9/ikkSC0c8Dba1YwaxRb4vpJkHeJnZ+sX9rhzaoLUwTxYpS2lWBSL\n",
       "l2Ic2GpnjyijN68gZdgxTib95j/iKQ/bg/hX2Ibb8ZdYCwlSDi8k3Ngwed7IsCGJVHwYbSOWZYFn\n",
       "WSN08g6dVIMSGXGov+y7Xj7iF3m2QF9WQl12FZrgl0naCisSqqq5CZ3CJsTgtITqqbsJXbIpaIMe\n",
       "2VU746ITbI7CH01Gf1qC9qLRAAAAAElFTkSuQmCC\n",
       "\" style=\"display:inline;vertical-align:middle;\" /></a></td></tr>\n",
       "<tr><td>1</td><td>Operation</td><td>operator:&nbsp;2<br>operands:&nbsp;3<br></td><td><a class=\"ProveItLink\" href=\"../0ec13bfd6b8275be5a37ddea63006e3c88bd242b0/expr.ipynb\"><img src=\"data:image/png;base64,iVBORw0KGgoAAAANSUhEUgAAAGwAAAAVBAMAAABRZRb3AAAAMFBMVEX////c3NxmZmbMzMxERESY\n",
       "mJiIiIh2dna6urqqqqoyMjIiIiIQEBBUVFTu7u4AAAAiO1wTAAAAAXRSTlMAQObYZgAAAVVJREFU\n",
       "OMtjYKAqaMMjx9rAwMB3ZwMWGeYLDG9PYxFnTACRykDMdQGLNNcDBoa12IxTAMsCMf8EhOgDGCMN\n",
       "iH/i1MZawMDQ/wAhug7GOMfAwPEPpza+AwwM1UiivVCaYwEDA/sGnNoYPIFeSLsKF2VPgNBMQFdw\n",
       "XcsNwKWtiIHvCwO/AVDhbjD4BA0RoIb3DgyfQSasAoMLKNpmMXD+Y+ApgJvGuQJM8QBjZv4DhuO4\n",
       "bOthYFrAwK+AEH91AkTyA7VpMTB8wqXNnoFbgaEf4Qfm5Q9g2jYxcHzFrQ0YbfoP4H7bAokNngmg\n",
       "aGMCRQFUwgHNkcDwQHiBE+pzFqD9n5H9jGZbFAPvBCZE6pKCRQRQ9iaDLgOeCLimihB1hEU3MKrf\n",
       "JqFHG8i9p8HuXYEqYQBjHMSbq0CJCysIx6sNlpiwZhzc4BUuCcYL+LRdxCkjhkcXmwEDAMwxXLzy\n",
       "XTsjAAAAAElFTkSuQmCC\n",
       "\" style=\"display:inline;vertical-align:middle;\" /></a></td></tr>\n",
       "<tr><td>2</td><td>Literal</td><td></td><td><a class=\"ProveItLink\" href=\"../../../boolean/implication/__pv_it/e5c030cabcb650938f92dee8256fe11cd12bf9b30/expr.ipynb\"><img src=\"data:image/png;base64,iVBORw0KGgoAAAANSUhEUgAAABMAAAANBAMAAAC5okgUAAAALVBMVEX////c3NxERETMzMwQEBCq\n",
       "qqoiIiJmZmaIiIh2dnZUVFS6uroyMjLu7u4AAACPpZJTAAAAAXRSTlMAQObYZgAAAD1JREFUCNdj\n",
       "YAABXgY44LkAZ3IvQAjPABFlaSCQV4AQjtkAZ/IegbNt5sLUpunC5aPgLMYDcCaTAJzJDCIA2yMN\n",
       "HCCUuIIAAAAASUVORK5CYII=\n",
       "\" style=\"display:inline;vertical-align:middle;\" /></a></td></tr>\n",
       "<tr><td>3</td><td>ExprTuple</td><td>7, 4</td><td><a class=\"ProveItLink\" href=\"../ac3cf6d721b0f9750e2dbb89b0acbb7b226767640/expr.ipynb\"><img src=\"data:image/png;base64,iVBORw0KGgoAAAANSUhEUgAAAFMAAAAVBAMAAADInc9CAAAAMFBMVEX////c3NwiIiJERESqqqqY\n",
       "mJh2dnZmZmYQEBDu7u4yMjJUVFTMzMyIiIi6uroAAAAs73DqAAAAAXRSTlMAQObYZgAAAR5JREFU\n",
       "KM9jYCAB8F0gRlUciDjNwLlDAcKHM1CALIhgPwAkVjIwcG2AisIZyOA4mFzAwMALtJ/fASoKZ2Aq\n",
       "DWNg4JjAwPB+AlQUzsBUOoOB4RWQSoKJJjHgVMrswFAGpFbf3QoRhTMwlbIVMCwFevwzA/8BcAhA\n",
       "GVWrQGA1ilKWBQx9QPInA0cCmAtjYDGVr4HhHzDMFjDwF4ADD8bAopTnA0gpUwHD+wAQF87ArrQF\n",
       "HJr1E6DBCmYUKYGAMroDTBlAXmlj4GSAMnCYyrqAIZ2BgduBfQPDfAUoA3dgPQKG0d5SYGx8hDJQ\n",
       "AdAtGmC3cD1g4BCACj7EnwqBEcsKC8gA/EpzIYmQCKWcwETIIA1h8+I3lBvkTkaiMswdBgYAuNtO\n",
       "glvC2UwAAAAASUVORK5CYII=\n",
       "\" style=\"display:inline;vertical-align:middle;\" /></a></td></tr>\n",
       "<tr><td>4</td><td>Operation</td><td>operator:&nbsp;5<br>operands:&nbsp;6<br></td><td><a class=\"ProveItLink\" href=\"../ea5143681b70bb6b9af52183697ea513402159430/expr.ipynb\"><img src=\"data:image/png;base64,iVBORw0KGgoAAAANSUhEUgAAADQAAAAOBAMAAACStyITAAAAMFBMVEX////c3NxmZmbMzMxERESY\n",
       "mJiIiIh2dna6urqqqqoyMjIiIiIQEBBUVFTu7u4AAAAiO1wTAAAAAXRSTlMAQObYZgAAAG9JREFU\n",
       "GNNj4LuzgQETiIFJrgtYpIzAJP8EnFL9D3BKVTPglFqbdhWHFN8XBn4DIK21CgTWIktx/mPgKcCu\n",
       "i2kBA78CdiluBYb+AOxSQG/pg5yvvRsEtqBIGTAcx+FC3glMF3A5/poqujjQ7D1AswGgLSBVSP3x\n",
       "iQAAAABJRU5ErkJggg==\n",
       "\" style=\"display:inline;vertical-align:middle;\" /></a></td></tr>\n",
       "<tr><td>5</td><td>Literal</td><td></td><td><a class=\"ProveItLink\" href=\"../2fb26078095930560931daa0500ce419a39ea6cd0/expr.ipynb\"><img src=\"data:image/png;base64,iVBORw0KGgoAAAANSUhEUgAAAA4AAAAFBAMAAACHocAhAAAAFVBMVEX///9EREQiIiJUVFQyMjJm\n",
       "ZmYAAADubVkoAAAAAXRSTlMAQObYZgAAABRJREFUCNdjCHEBAWcGXCBICQQUAUpuAwlgGKrkAAAA\n",
       "AElFTkSuQmCC\n",
       "\" style=\"display:inline;vertical-align:middle;\" /></a></td></tr>\n",
       "<tr><td>6</td><td>ExprTuple</td><td>7, 8</td><td><a class=\"ProveItLink\" href=\"../e05e5d691a7a78c00c4fb768d579d0ccc06624980/expr.ipynb\"><img src=\"data:image/png;base64,iVBORw0KGgoAAAANSUhEUgAAAC8AAAAVBAMAAAAk6KpUAAAAMFBMVEX////c3NwiIiJERESqqqqY\n",
       "mJh2dnZmZmYQEBDu7u4yMjJUVFTMzMyIiIi6uroAAAAs73DqAAAAAXRSTlMAQObYZgAAAOJJREFU\n",
       "KM9jYMAJ+C5gisWBiNMMDLObEGKyIIL9AJBYCcSrERLHweQCBgZekElf0CXCGBg4JgCt+YkuMYOB\n",
       "4RWQYlNAl2B2YCgDUlx7bwegSrAVMCwFUvMNGP6gSrAsYOgDUv4TGNpQJfgaGP4BqSoGhu+oEjwf\n",
       "wBLqDHxfMSRawN5g/4lhlCmQ+sPAkcAwAVmCdQFDOpDawlDNwPkJzbmPgNTs6wEMnP0CDAxFSkoa\n",
       "SkrKQJ89YOAQgAW/AFK4A4OENQHKZkWOkFxosKNLcAKDnUEaykGOSG6QsYxYovYOAwMAFsQ4Cbnf\n",
       "yrsAAAAASUVORK5CYII=\n",
       "\" style=\"display:inline;vertical-align:middle;\" /></a></td></tr>\n",
       "<tr><td>7</td><td>Variable</td><td></td><td><a class=\"ProveItLink\" href=\"../../../../__pv_it/6840a4fa6c106149dc16a131294d0c5e44f1b0480/expr.ipynb\"><img src=\"data:image/png;base64,iVBORw0KGgoAAAANSUhEUgAAAAkAAAAOBAMAAAAPuiubAAAALVBMVEX///9mZmbMzMxERESYmJiI\n",
       "iIh2dna6urqqqqoyMjIiIiIQEBBUVFTu7u4AAAD9S1JeAAAAAXRSTlMAQObYZgAAAE1JREFUCNdj\n",
       "4D29gAEIOA+ASL4GEFl3AURmgQiGOaFHGBh4HzPwKTBwvGXgTmBgnMDAJ8DAJcBQ5wBSLncBJLWN\n",
       "gYGngRFoBO9REQYGAGrcDtUkVqASAAAAAElFTkSuQmCC\n",
       "\" style=\"display:inline;vertical-align:middle;\" /></a></td></tr>\n",
       "<tr><td>8</td><td>Literal</td><td></td><td><a class=\"ProveItLink\" href=\"../../../boolean/__pv_it/8f1f7fac882de28c72b62ab80a1700b6d8fd066b0/expr.ipynb\"><img src=\"data:image/png;base64,iVBORw0KGgoAAAANSUhEUgAAAA4AAAAOBAMAAADtZjDiAAAAG1BMVEX///9EREQQEBAiIiJmZmbM\n",
       "zMyIiIjc3NwAAACryk5kAAAAAXRSTlMAQObYZgAAABlJREFUCNdjYGBgKGOAgBBa0s7GxkbGxoYA\n",
       "FMUF2aBfHgoAAAAASUVORK5CYII=\n",
       "\" style=\"display:inline;vertical-align:middle;\" /></a></td></tr>\n",
       "</table>\n"
      ],
      "text/plain": [
       "0. (b => (b = FALSE) , b)\n",
       "   core type: ExprTuple\n",
       "   sub-expressions: 1, 7\n",
       "1. b => (b = FALSE)\n",
       "   core type: Operation\n",
       "   operator: 2\n",
       "   operands: 3\n",
       "2. =>\n",
       "   core type: Literal\n",
       "   sub-expressions: \n",
       "3. (b , b = FALSE)\n",
       "   core type: ExprTuple\n",
       "   sub-expressions: 7, 4\n",
       "4. b = FALSE\n",
       "   core type: Operation\n",
       "   operator: 5\n",
       "   operands: 6\n",
       "5. =\n",
       "   core type: Literal\n",
       "   sub-expressions: \n",
       "6. (b , FALSE)\n",
       "   core type: ExprTuple\n",
       "   sub-expressions: 7, 8\n",
       "7. b\n",
       "   core type: Variable\n",
       "   sub-expressions: \n",
       "8. FALSE\n",
       "   core type: Literal\n",
       "   sub-expressions: "
      ]
     },
     "execution_count": 4,
     "metadata": {},
     "output_type": "execute_result"
    }
   ],
   "source": [
    "# display the expression information\n",
    "expr.exprInfo()"
   ]
  },
  {
   "cell_type": "code",
   "execution_count": null,
   "metadata": {},
   "outputs": [],
   "source": []
  }
 ],
 "metadata": {
  "kernelspec": {
   "display_name": "Python 3",
   "language": "python",
   "name": "python3"
  }
 },
 "nbformat": 4,
 "nbformat_minor": 0
}
