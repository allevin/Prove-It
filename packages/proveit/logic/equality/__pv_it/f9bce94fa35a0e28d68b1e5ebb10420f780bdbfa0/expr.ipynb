{
 "cells": [
  {
   "cell_type": "markdown",
   "metadata": {},
   "source": [
    "Expression of type <a class=\"ProveItLink\" href=\"../../../../../../doc/html/api/proveit.ExprTuple.html\">ExprTuple</a>\n",
    "=======================\n",
    "# from context <a class=\"ProveItLink\" href=\"../../_context_.ipynb\">proveit.logic.equality</a>"
   ]
  },
  {
   "cell_type": "code",
   "execution_count": 1,
   "metadata": {},
   "outputs": [],
   "source": [
    "# import Expression classes needed to build the expression\n",
    "from proveit import ExprTuple\n",
    "from proveit._common_ import a, b, c, d, y\n",
    "from proveit.number import Add, Div, Exp"
   ]
  },
  {
   "cell_type": "code",
   "execution_count": 2,
   "metadata": {},
   "outputs": [
    {
     "data": {
      "text/html": [
       "<strong id=\"expr\">expr:</strong> <a class=\"ProveItLink\" href=\"expr.ipynb\"><img src=\"data:image/png;base64,iVBORw0KGgoAAAANSUhEUgAAAKwAAAAVBAMAAAAp2hhWAAAAMFBMVEX////c3NwiIiJERESqqqqY\n",
       "mJh2dnZmZmYQEBDu7u4yMjJUVFTMzMyIiIi6uroAAAAs73DqAAAAAXRSTlMAQObYZgAAAl1JREFU\n",
       "OMutlT9oE1Ecx7+XXHK5xORulQwWB3XMYEcxOFZLM3c6HOxi5RYdiqAFUZBa4lKKIAmFDrlCiYN/\n",
       "EEIPXAodDAQEwSs1LkGURJoOHSy+d/fuer/zLi6+4e693+e97733e7/f74D/2ko95Operzt5YhLO\n",
       "HMQYX2r6rkf2Qlb13VR04l686LcnuB9jPttHDy5phc35dnRiK2GzY+TjzG/QASdFckitKjrPxZvg\n",
       "onHqm2NkxEjVQ1NWsQJOhIdFG/qjWfEm+OM46GanoD70unL4yyulETj5Ts5wExFZglPLp94ygcsx\n",
       "std7TXByjz2lzh2xYMt5TWU5Vm85NvVg+dOQeWshIru2+EXSC3y0gE32HOjpkeemQ2g2keV49yBP\n",
       "A6S0jKvMOTNU9swqNtKGe7wZ5mNIR1Aq3oxj5Awiy7D6DOkakT1XwxLfDZVd72JadtzlA5wAhRFS\n",
       "HlKa0Ewi62GXnXcb//4OcIHfIJXdCd0tX6dV0PCOnjIxZBtbsqxLlrUlZLVKNDgPoZ4IWcWyNp5a\n",
       "Vtu1hmQfsTN1MYe6CNsHdbJbD9Mm/YY8UqNOYNagDTANNKp4L9sql7XxmEYCwxrbfy2cDuoYheYN\n",
       "YJ464YjlgVg1z6MkX5MvZtFgt12oKm0qy3DBRNYm6bCJa6bxV4C9BW4Hq/o8bPc/7GP9F9tH524k\n",
       "Hfo8dp3PNB3Kzo8rrEptU1ll0fFTchu5IKO/hv0XJK+eWDJjk9cnmaB8kNj86VdVI1E2202qyJy0\n",
       "YmX/WRiBFxNJ2a968VPKiYtfTSTS5J9OIi7aSCZ/AFR5q0Ggd5E2AAAAAElFTkSuQmCC\n",
       "\" style=\"display:inline;vertical-align:middle;\" /></a><br>"
      ],
      "text/plain": [
       "expr: (a , b + (c / d) + c^{y})"
      ]
     },
     "execution_count": 2,
     "metadata": {},
     "output_type": "execute_result"
    }
   ],
   "source": [
    "# build up the expression from sub-expressions\n",
    "expr = ExprTuple(a, Add(b, Div(c, d), Exp(c, y)))"
   ]
  },
  {
   "cell_type": "code",
   "execution_count": 3,
   "metadata": {},
   "outputs": [
    {
     "name": "stdout",
     "output_type": "stream",
     "text": [
      "Passed sanity check: built 'expr' is the same as the stored Expression.\n"
     ]
    }
   ],
   "source": [
    "# check that the built expression is the same as the stored expression\n",
    "%check_expr"
   ]
  },
  {
   "cell_type": "code",
   "execution_count": 4,
   "metadata": {},
   "outputs": [
    {
     "data": {
      "text/html": [
       "<table><tr><th>&nbsp;</th><th>core type</th><th>sub-expressions</th><th>expression</th></tr>\n",
       "<tr><td>0</td><td>ExprTuple</td><td>1, 2</td><td><a class=\"ProveItLink\" href=\"expr.ipynb\"><img src=\"data:image/png;base64,iVBORw0KGgoAAAANSUhEUgAAAKwAAAAVBAMAAAAp2hhWAAAAMFBMVEX////c3NwiIiJERESqqqqY\n",
       "mJh2dnZmZmYQEBDu7u4yMjJUVFTMzMyIiIi6uroAAAAs73DqAAAAAXRSTlMAQObYZgAAAl1JREFU\n",
       "OMutlT9oE1Ecx7+XXHK5xORulQwWB3XMYEcxOFZLM3c6HOxi5RYdiqAFUZBa4lKKIAmFDrlCiYN/\n",
       "EEIPXAodDAQEwSs1LkGURJoOHSy+d/fuer/zLi6+4e693+e97733e7/f74D/2ko95Operzt5YhLO\n",
       "HMQYX2r6rkf2Qlb13VR04l686LcnuB9jPttHDy5phc35dnRiK2GzY+TjzG/QASdFckitKjrPxZvg\n",
       "onHqm2NkxEjVQ1NWsQJOhIdFG/qjWfEm+OM46GanoD70unL4yyulETj5Ts5wExFZglPLp94ygcsx\n",
       "std7TXByjz2lzh2xYMt5TWU5Vm85NvVg+dOQeWshIru2+EXSC3y0gE32HOjpkeemQ2g2keV49yBP\n",
       "A6S0jKvMOTNU9swqNtKGe7wZ5mNIR1Aq3oxj5Awiy7D6DOkakT1XwxLfDZVd72JadtzlA5wAhRFS\n",
       "HlKa0Ewi62GXnXcb//4OcIHfIJXdCd0tX6dV0PCOnjIxZBtbsqxLlrUlZLVKNDgPoZ4IWcWyNp5a\n",
       "Vtu1hmQfsTN1MYe6CNsHdbJbD9Mm/YY8UqNOYNagDTANNKp4L9sql7XxmEYCwxrbfy2cDuoYheYN\n",
       "YJ464YjlgVg1z6MkX5MvZtFgt12oKm0qy3DBRNYm6bCJa6bxV4C9BW4Hq/o8bPc/7GP9F9tH524k\n",
       "Hfo8dp3PNB3Kzo8rrEptU1ll0fFTchu5IKO/hv0XJK+eWDJjk9cnmaB8kNj86VdVI1E2202qyJy0\n",
       "YmX/WRiBFxNJ2a968VPKiYtfTSTS5J9OIi7aSCZ/AFR5q0Ggd5E2AAAAAElFTkSuQmCC\n",
       "\" style=\"display:inline;vertical-align:middle;\" /></a></td></tr>\n",
       "<tr><td>1</td><td>Variable</td><td></td><td><a class=\"ProveItLink\" href=\"../../../../__pv_it/07527342713064c87612d00d8557c53d53d5324a0/expr.ipynb\"><img src=\"data:image/png;base64,iVBORw0KGgoAAAANSUhEUgAAAAsAAAAJBAMAAAAWSsseAAAAMFBMVEX///8yMjKqqqrMzMzu7u4i\n",
       "IiJmZmaYmJhEREQQEBC6urp2dnaIiIhUVFTc3NwAAAD87Fq/AAAAAXRSTlMAQObYZgAAAEhJREFU\n",
       "CNdjYOC7s2seAwPDygccHxgY+L4zsDUwMPB+YGA9wMDA38Dgb8DA8P4Agz6DA4O/AsNFJgMGxgKm\n",
       "MG6gyjunLE4xAAAZTBA5TB6DCwAAAABJRU5ErkJggg==\n",
       "\" style=\"display:inline;vertical-align:middle;\" /></a></td></tr>\n",
       "<tr><td>2</td><td>Operation</td><td>operator:&nbsp;3<br>operands:&nbsp;4<br></td><td><a class=\"ProveItLink\" href=\"../61ca9e5db15e344ead9155caeee5d45a816c31aa0/expr.ipynb\"><img src=\"data:image/png;base64,iVBORw0KGgoAAAANSUhEUgAAAIsAAAAVBAMAAACEWwD/AAAAMFBMVEX////c3NxmZmbMzMxERESY\n",
       "mJiIiIh2dna6urqqqqoyMjIiIiIQEBBUVFTu7u4AAAAiO1wTAAAAAXRSTlMAQObYZgAAAddJREFU\n",
       "OMullL9Lw1AQx7+JrW36K/kH1CwiuJjBsWKXbg7ddBQsoZMUhSq4dHJQoZ3cxCK4pFTEVQdF0OpU\n",
       "BCuIYF10KbSDii7FlybU3GuCigfhXe7e+7x79+4d8F8JphFpuDrmPVbMuRmfZSUOxB4OeceU+64z\n",
       "qqi52Ic3kWZDqMY7DtxjkYsoudnvULe8ljzZ46DzTIPZnlpoYNZWY4pjShXnlteSbXskCZv+7Klr\n",
       "QNNWJedO58G25aWYDWfE4bOeugf4ii6YnbR51op+SzFjZtQrOk2nUF9lcQVUDvOSWxCUKPuLvULW\n",
       "CGafffF8iF7gluLrsOUlihmoouzLmuFLHUSyBFNl7Av4UiSYN4gMETylmOY8kpJuLmdeWSWYDyDa\n",
       "7mricVcSXUOYzR5oU8zjdw5VFNjG44ZxYhgVGyMn+JpJoJW3MaJhlK8Nwyy3V2dRTTRINFfACP8c\n",
       "mGEXDf5Qwvs3RsMlvakkM7L4Us7yaxVxL2nwcyl+A/yWFi2KNYpZYkYVAc1ZfqGUdBTov/AbYNmu\n",
       "6/ooV36bZu3oi6T8hHpmMsNoeYoRc3pfj+g9BsWzt7g+Bk7W7dGf9ZyS+6kj/aJRsASU/tIWh7wc\n",
       "UeUvGMEr5AXPJV+cHnmMHK+zYQAAAABJRU5ErkJggg==\n",
       "\" style=\"display:inline;vertical-align:middle;\" /></a></td></tr>\n",
       "<tr><td>3</td><td>Literal</td><td></td><td><a class=\"ProveItLink\" href=\"../../../../number/addition/__pv_it/3e6688136fa3c7aefbebe51301b7c3ebf0b69c440/expr.ipynb\"><img src=\"data:image/png;base64,iVBORw0KGgoAAAANSUhEUgAAAA4AAAAOBAMAAADtZjDiAAAAJFBMVEX///+6urpUVFQQEBAiIiIy\n",
       "MjJmZmaIiIiqqqrc3Nzu7u4AAACgHpL+AAAAAXRSTlMAQObYZgAAAB5JREFUCNdjYGBgWMkAAe2k\n",
       "0Kmhoc6hoUGk6BMHYgAHOwjcado9fwAAAABJRU5ErkJggg==\n",
       "\" style=\"display:inline;vertical-align:middle;\" /></a></td></tr>\n",
       "<tr><td>4</td><td>ExprTuple</td><td>5, 6, 7</td><td><a class=\"ProveItLink\" href=\"../9fbf5ccc82bf1ff2896a41d7c1ee718015f6f52b0/expr.ipynb\"><img src=\"data:image/png;base64,iVBORw0KGgoAAAANSUhEUgAAAGcAAAAVBAMAAACphe0AAAAAMFBMVEX////c3NwiIiJERESqqqqY\n",
       "mJh2dnZmZmYQEBDu7u4yMjJUVFTMzMyIiIi6uroAAAAs73DqAAAAAXRSTlMAQObYZgAAAZpJREFU\n",
       "OMuVU79Lw0AYfemv/OovZweLi2sWRZz6D4iZHKU46KR0sasVRHBQOjrZLCLi4iKIEAi4CA5mEgRb\n",
       "opMI0hbr0EX87pKmvUDEfsPl3Xv33Xf53h0wQXwaOPRR3v1vjur2snWsMfgA9aYUvzK/WB1C6bSU\n",
       "MyA7BC8A7eqP/QvlEOoVnY5lATlX4IPIVULYaYRQ8RQqs0qgIfBBPPZDuD5iFadD4wnwIfJBJPZC\n",
       "eD5iU/YSjckyavS5bF0H/dloOUKyZG/3R9IUbEKZKs5o/oWCv/be08RGvheTA4TSQt5i9Swc0ziA\n",
       "wn9cPULSFAp9Q7YQSstP3IQ6fsD4AjdD7/IF8iwPgxMJv4+BxCLbZUmJKjq8QMGIemSg6SEiUdI+\n",
       "t2mXN30meqOIWEFUouPNg3XhACrbjuqZ4+Y2y7hNOaKEtIVNOm9ZvkKT2qZXkXHGzdXM1FwmIrGW\n",
       "v1Fn7B3yuUfzWutZMFey23ftiATNg1IM8Gv8nRUlukbp4dU045NEact/GhMlqczt6eAxxOeIks7+\n",
       "R3IxUbwAvy29bzja/YobAAAAAElFTkSuQmCC\n",
       "\" style=\"display:inline;vertical-align:middle;\" /></a></td></tr>\n",
       "<tr><td>5</td><td>Variable</td><td></td><td><a class=\"ProveItLink\" href=\"../../../../__pv_it/6840a4fa6c106149dc16a131294d0c5e44f1b0480/expr.ipynb\"><img src=\"data:image/png;base64,iVBORw0KGgoAAAANSUhEUgAAAAkAAAAOBAMAAAAPuiubAAAALVBMVEX///9mZmbMzMxERESYmJiI\n",
       "iIh2dna6urqqqqoyMjIiIiIQEBBUVFTu7u4AAAD9S1JeAAAAAXRSTlMAQObYZgAAAE1JREFUCNdj\n",
       "4D29gAEIOA+ASL4GEFl3AURmgQiGOaFHGBh4HzPwKTBwvGXgTmBgnMDAJ8DAJcBQ5wBSLncBJLWN\n",
       "gYGngRFoBO9REQYGAGrcDtUkVqASAAAAAElFTkSuQmCC\n",
       "\" style=\"display:inline;vertical-align:middle;\" /></a></td></tr>\n",
       "<tr><td>6</td><td>Operation</td><td>operator:&nbsp;8<br>operands:&nbsp;9<br></td><td><a class=\"ProveItLink\" href=\"../461b8d1ae63f41d8f3f9bf7d6c100882f7d684050/expr.ipynb\"><img src=\"data:image/png;base64,iVBORw0KGgoAAAANSUhEUgAAAC0AAAAOBAMAAABJDIgxAAAAMFBMVEX///+qqqpmZmbc3NxUVFSY\n",
       "mJhEREQiIiIyMjK6uroQEBDMzMyIiIh2dnbu7u4AAAA4MM1YAAAAAXRSTlMAQObYZgAAAJpJREFU\n",
       "GNNjYMACOLMUGLACfgEkDs8FOHP+AyTx/R/hzOvImtkXw5lNQMx398wGFMOZfW6CdO6awFGAIj7L\n",
       "gO0fUPkaBrYAFOVfGZgaGBhYPoB5TOVgkAAWYAe6jD8B3e0JDO8nMDDYH0ATBwrIMzxg4AcaHoDs\n",
       "r/cCDB6MGxhYFBh4NyD7iyOAsYgXSOueOYfiL2afk9tOMgAA17QolJDP1tQAAAAASUVORK5CYII=\n",
       "\" style=\"display:inline;vertical-align:middle;\" /></a></td></tr>\n",
       "<tr><td>7</td><td>Operation</td><td>operator:&nbsp;10<br>operands:&nbsp;11<br></td><td><a class=\"ProveItLink\" href=\"../f87ee42b42e7196aa00850e72d600db878953b640/expr.ipynb\"><img src=\"data:image/png;base64,iVBORw0KGgoAAAANSUhEUgAAABIAAAAQBAMAAADpKDJvAAAAMFBMVEX///+qqqpmZmbc3NxUVFSY\n",
       "mJhEREQiIiIyMjK6uroQEBDMzMyIiIh2dnbu7u4AAAA4MM1YAAAAAXRSTlMAQObYZgAAAGxJREFU\n",
       "CNdjYACBOQkM68AMvgOfuReAWcwvC3gSwCwGlgssByAsrglcG6CsDfMhDAZGnwyQxrtnNhgz+ABZ\n",
       "uyZwFORyNgCF1jCwBcicBRnwAaqWgT8BxrI/ABcLYGAIgFikwMALNV/3zDkwDQBMsBgpaR0j5AAA\n",
       "AABJRU5ErkJggg==\n",
       "\" style=\"display:inline;vertical-align:middle;\" /></a></td></tr>\n",
       "<tr><td>8</td><td>Literal</td><td></td><td><a class=\"ProveItLink\" href=\"../../../../number/division/__pv_it/089f5ca61fe425d4f6ef7efa2138c1a2fa47180c0/expr.ipynb\"><img src=\"data:image/png;base64,iVBORw0KGgoAAAANSUhEUgAAAA4AAAAMBAMAAACgrpHpAAAAIVBMVEX///9ERERmZmbc3NwQEBAi\n",
       "IiKqqqrMzMx2dnaIiIgAAACeyUhQAAAAAXRSTlMAQObYZgAAACJJREFUCNdjYGBgmMEABuyrEiCM\n",
       "EAMG3EA1FAQCsUlhMwcALk0GeoeEfOIAAAAASUVORK5CYII=\n",
       "\" style=\"display:inline;vertical-align:middle;\" /></a></td></tr>\n",
       "<tr><td>9</td><td>ExprTuple</td><td>13, 12</td><td><a class=\"ProveItLink\" href=\"../1f4efc3b7a909d0274ff36f0d19c7c06c2e6ff420/expr.ipynb\"><img src=\"data:image/png;base64,iVBORw0KGgoAAAANSUhEUgAAACkAAAAVBAMAAAAp9toTAAAAMFBMVEX////c3NwiIiJERESqqqqY\n",
       "mJh2dnZmZmYQEBDu7u4yMjJUVFTMzMyIiIi6uroAAAAs73DqAAAAAXRSTlMAQObYZgAAAQNJREFU\n",
       "GNNjYMAO+C6gCcSBiNOoaiwK2A8A6ZWoKvkdGBYwMPCiGfB+AkMYAwPHBFTRJAaGGQwMr9DsWs7A\n",
       "wOzAUAZkcabdPQAWYtyb94WBga2AYSmQc+IBlwJY9IUA808GBpYFDH1Apb0MzAFgpV8Z2IEO4Gtg\n",
       "+MfAwP0BaiaQwZTAwMDzASTKbwBzqwHD/Adg0RYGBnmYk4EMf4YJIBNMgUqAhgZwAkXnOzDsYjnA\n",
       "wLqAIR1oXAED24H5QFdwBbCos4Fd9giopuzuTYYZH0HOvXf4HlDyAQOHANTQh3DvAX3MmgBlB8BF\n",
       "c5FCEi7KCfQIgzSEzQtXyg0ykxE9hu4wMAAA/os7cGgwRtcAAAAASUVORK5CYII=\n",
       "\" style=\"display:inline;vertical-align:middle;\" /></a></td></tr>\n",
       "<tr><td>10</td><td>Literal</td><td></td><td><a class=\"ProveItLink\" href=\"../../../../number/exponentiation/__pv_it/deb2bf23cbccdd6e6791e1b35b5b9794ce12dbd50/expr.ipynb\"><img src=\"data:image/png;base64,iVBORw0KGgoAAAANSUhEUgAAACgAAAASBAMAAADbMYGVAAAAMFBMVEX///8QEBAiIiKYmJjc3Nzu\n",
       "7u7MzMx2dnZmZma6urpERESqqqoyMjJUVFSIiIgAAAAoDOMTAAAAAXRSTlMAQObYZgAAAOBJREFU\n",
       "GNNjYGB4+//u3Tt/GNAASGAXmhjnPyDBgSbI/g1IxKEJ8nxgYGdgQRPkX8BgDKRY6q7s62OYvmze\n",
       "2wAgb/7ZO1+AVDiDkYEQQ0HTBr4DQF59AgOIKmB4z7CNbcNZBu6vQN55kEACQwDDLQYGVobfDHwg\n",
       "fb8YGBxYHwAZciD3fWXg+gB1JjvQcJZvQIXsCgz8F6DO9GBgMOH7wPCUgaeBwd4B7EwGNjUG7s9c\n",
       "AiwPgO5jkWRgiF3/9+5dfQUG1nWl5Y+B7pv+1gE9bBhqGLCAE1jEWH9jEbT5A3IwAC4sP/1L6Qlu\n",
       "AAAAAElFTkSuQmCC\n",
       "\" style=\"display:inline;vertical-align:middle;\" /></a></td></tr>\n",
       "<tr><td>11</td><td>ExprTuple</td><td>13, 14</td><td><a class=\"ProveItLink\" href=\"../3205eb8b7f417bd5951a9598881b35877af4cc960/expr.ipynb\"><img src=\"data:image/png;base64,iVBORw0KGgoAAAANSUhEUgAAACkAAAAVBAMAAAAp9toTAAAAMFBMVEX////c3NwiIiJERESqqqqY\n",
       "mJh2dnZmZmYQEBDu7u4yMjJUVFTMzMyIiIi6uroAAAAs73DqAAAAAXRSTlMAQObYZgAAAQVJREFU\n",
       "GNNtkLFKw1AUhj9Nm+Y2Te3u0DyCIO6+gZ0cJTjYSejUQUE7uCoBl25mEXHzETo4CC5ZBYPV0cW4\n",
       "q/jfNIokXrjn3vvxn/+ce+D/1U0rYMeG+6qsNVO4rmUnEKQ1ug1eXKNTeK3XdzYZ6zB7ma2AGUb0\n",
       "Y9wRl3rdzduhpW435wkaCWeSnOIMLL1thazrBxO+wM9Lw9hL+YRObunK2k+drbjzUdAT6P+2fEAw\n",
       "KRw2pJXpwFh6hXMDzYShfEe4swvbxSFvUqizFz3G2QPTd13Os+MetOd4vdLzuYi7ix83o5Iq1Q+N\n",
       "irP/Z5Kiy5EjjdEkWV3AQLuRHSn61nOpOuBH+AZcujlILocJaAAAAABJRU5ErkJggg==\n",
       "\" style=\"display:inline;vertical-align:middle;\" /></a></td></tr>\n",
       "<tr><td>12</td><td>Variable</td><td></td><td><a class=\"ProveItLink\" href=\"../../../../__pv_it/3a5de44ed6135dbbdbbeec6704c741e238f127300/expr.ipynb\"><img src=\"data:image/png;base64,iVBORw0KGgoAAAANSUhEUgAAAAsAAAAOBAMAAAALT/umAAAAMFBMVEX////MzMyYmJiIiIhUVFTc\n",
       "3NwyMjIiIiJ2dnbu7u6qqqpmZmYQEBBERES6uroAAABkyy6XAAAAAXRSTlMAQObYZgAAAFhJREFU\n",
       "CNdjYGBg4LuzgQEE+BeAqfcTwFQ7mGTIBmJW575fQOpNAO9PIOcTA3cCAwPLBwb2BqCeCwzzHzAw\n",
       "xBswrGeYwDB/AYMblwADmwJXNQdIm52sHQMAfyoTCZukXIEAAAAASUVORK5CYII=\n",
       "\" style=\"display:inline;vertical-align:middle;\" /></a></td></tr>\n",
       "<tr><td>13</td><td>Variable</td><td></td><td><a class=\"ProveItLink\" href=\"../../../../__pv_it/cbdfda466482236edba0ce44ac7ef39cda0af7a40/expr.ipynb\"><img src=\"data:image/png;base64,iVBORw0KGgoAAAANSUhEUgAAAAkAAAAJBAMAAAASvxsjAAAALVBMVEX///9mZmbc3NxUVFSYmJhE\n",
       "REQiIiIyMjK6uroQEBDMzMyIiIh2dnbu7u4AAABgFDGoAAAAAXRSTlMAQObYZgAAADZJREFUCNdj\n",
       "YOA9s3sBA8PKBvYEBt7ZDKwODMwPGICALwBE6m0Asx0YGIDiAgw8QJUyu/cyAAAmuwmycZ8WfQAA\n",
       "AABJRU5ErkJggg==\n",
       "\" style=\"display:inline;vertical-align:middle;\" /></a></td></tr>\n",
       "<tr><td>14</td><td>Variable</td><td></td><td><a class=\"ProveItLink\" href=\"../../../../__pv_it/f8b9edf8e16034727f0aad55bb83e392c3db40d40/expr.ipynb\"><img src=\"data:image/png;base64,iVBORw0KGgoAAAANSUhEUgAAAAsAAAANBAMAAACN24kIAAAAMFBMVEX///+YmJhUVFQyMjIQEBBE\n",
       "REQiIiKqqqrMzMyIiIi6urrc3NxmZmZ2dnbu7u4AAADXeCicAAAAAXRSTlMAQObYZgAAAFhJREFU\n",
       "CNdj4LtzgWH/AwZerg8M8xkY2nkSGEIZGB6wTGD4ycDAUP+A4weQOszA6QCkbBhYFYDUIYb1AkDq\n",
       "6czzGxhA4BoQMyXwuQMptgusF4AU+8xTQBIAUqMVoSp/SLMAAAAASUVORK5CYII=\n",
       "\" style=\"display:inline;vertical-align:middle;\" /></a></td></tr>\n",
       "</table>\n"
      ],
      "text/plain": [
       "0. (a , b + (c / d) + c^{y})\n",
       "   core type: ExprTuple\n",
       "   sub-expressions: 1, 2\n",
       "1. a\n",
       "   core type: Variable\n",
       "   sub-expressions: \n",
       "2. b + (c / d) + c^{y}\n",
       "   core type: Operation\n",
       "   operator: 3\n",
       "   operands: 4\n",
       "3. +\n",
       "   core type: Literal\n",
       "   sub-expressions: \n",
       "4. (b , c / d , c^{y})\n",
       "   core type: ExprTuple\n",
       "   sub-expressions: 5, 6, 7\n",
       "5. b\n",
       "   core type: Variable\n",
       "   sub-expressions: \n",
       "6. c / d\n",
       "   core type: Operation\n",
       "   operator: 8\n",
       "   operands: 9\n",
       "7. c^{y}\n",
       "   core type: Operation\n",
       "   operator: 10\n",
       "   operands: 11\n",
       "8. /\n",
       "   core type: Literal\n",
       "   sub-expressions: \n",
       "9. (c , d)\n",
       "   core type: ExprTuple\n",
       "   sub-expressions: 13, 12\n",
       "10. Exp\n",
       "    core type: Literal\n",
       "    sub-expressions: \n",
       "11. (c , y)\n",
       "    core type: ExprTuple\n",
       "    sub-expressions: 13, 14\n",
       "12. d\n",
       "    core type: Variable\n",
       "    sub-expressions: \n",
       "13. c\n",
       "    core type: Variable\n",
       "    sub-expressions: \n",
       "14. y\n",
       "    core type: Variable\n",
       "    sub-expressions: "
      ]
     },
     "execution_count": 4,
     "metadata": {},
     "output_type": "execute_result"
    }
   ],
   "source": [
    "# display the expression information\n",
    "expr.exprInfo()"
   ]
  },
  {
   "cell_type": "code",
   "execution_count": null,
   "metadata": {},
   "outputs": [],
   "source": []
  }
 ],
 "metadata": {
  "kernelspec": {
   "display_name": "Python 3",
   "language": "python",
   "name": "python3"
  }
 },
 "nbformat": 4,
 "nbformat_minor": 0
}
