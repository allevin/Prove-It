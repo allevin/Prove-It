{
 "cells": [
  {
   "cell_type": "markdown",
   "metadata": {},
   "source": [
    "Expression of type <a class=\"ProveItLink\" href=\"../../../../../../doc/html/api/proveit.ExprTuple.html\">ExprTuple</a>\n",
    "=======================\n",
    "# from context <a class=\"ProveItLink\" href=\"../../_context_.ipynb\">proveit.logic.equality</a>"
   ]
  },
  {
   "cell_type": "code",
   "execution_count": 1,
   "metadata": {},
   "outputs": [],
   "source": [
    "# import Expression classes needed to build the expression\n",
    "from proveit import ExprTuple, Variable\n",
    "from proveit._common_ import a, b, c, d\n",
    "from proveit.number import Add, Exp, frac"
   ]
  },
  {
   "cell_type": "code",
   "execution_count": 2,
   "metadata": {},
   "outputs": [
    {
     "data": {
      "text/html": [
       "<strong id=\"expr\">expr:</strong> <a class=\"ProveItLink\" href=\"expr.ipynb\"><img src=\"data:image/png;base64,iVBORw0KGgoAAAANSUhEUgAAAKUAAAAyBAMAAADPZgYSAAAAMFBMVEX///9ERESIiIiYmJju7u4y\n",
       "MjLMzMwQEBDc3NwiIiKqqqpUVFRmZma6urp2dnYAAACcPvpdAAAAAXRSTlMAQObYZgAAAspJREFU\n",
       "WMOtmE1oE0EUgF+yk/9fW8GjIYqXhGYPek56Uik0Ac1B9JBbj9YiUkVr8GjBRD0I4iEIWnpSPEqh\n",
       "qyAehDZ4sBchIaBHSdsQarHozM7udrOkmbdx5jDzMnl82TfvZ94GgI54E+SMmYIlbkhCQuyyKcXf\n",
       "ymLCOVNYlYaEiMbX4C15TLjDF19bInOFe+lNQSLTx41fwurPds6IPb/HZqWHRPrvwRWx1jU2hbCR\n",
       "dD4Fk2KtPDvJFjaJ1kUK0QM6JVJ0+ow9zm2RAumyCK3T6S4SGdwRaYRLbKJO8u9jn3OX+nOkQpzF\n",
       "EaE/7cW6HdYAfo6y4+OPBlsfA3jmscxoJz0qOy5WawXDlYGkowTeHjOD1mBOX3NVKDqz/eqYzAPI\n",
       "8FRvQEt1fGf57IKYY1MhPZjUP15PQb7hSFjLZy/FTLvKTX//LFuLGuQqjoCoj8n8fiqrm5xIwmZV\n",
       "31me2uKC711Gdc0kv9LWowVKsK4HQGwRTvKtYhL6rplzTZ9lXqhuVIaaCh/ArNBLbplkATyWq0Pz\n",
       "BpPOT/jWJ4A/g8y/Q8YgM9K1V3qTuQ3EsPgFxHYZulx+Vi6PjNVDlURyCJPWnHCXGOEZ7bm1vZay\n",
       "7VHbN5mPyD5ESq+BiX0ItN0yE/QwVZuPeCxdglWtTX5T6T18cR2ftFOI22OJx/xy+ttEk9yn/Jms\n",
       "6j7mN9KnrT16uHnbdRSrHpUkiDwyB81New0ZLONfxcxhKrSG2GudIqMTobXOXpNTMpi0JuPvDnwb\n",
       "gL/jHmUeZhGW3HBxF5O28jRQF6vtuOgZ4uDthitCNWXPRW9DIJLEdN/MlFYFe6ABTFwkWGyGNCyz\n",
       "VgFxS633ikoXR1SqOfCKmbzkLiDzQz0BD5C9N6yIWsBjdByH6anZjmp+OHJ4NPnvMlv8dIKLEpnP\n",
       "jfWVPGRUcwr/Pw4fb0L+uzZEZf0nMK176B9sQcGMP6GIOAAAAABJRU5ErkJggg==\n",
       "\" style=\"display:inline;vertical-align:middle;\" /></a><br>"
      ],
      "text/plain": [
       "expr: (a , b + (c / _x_) + c^{d})"
      ]
     },
     "execution_count": 2,
     "metadata": {},
     "output_type": "execute_result"
    }
   ],
   "source": [
    "# build up the expression from sub-expressions\n",
    "expr = ExprTuple(a, Add(b, frac(c, Variable(\"_x_\", latexFormat = r\"{_{-}x_{-}}\")), Exp(c, d)))"
   ]
  },
  {
   "cell_type": "code",
   "execution_count": 3,
   "metadata": {},
   "outputs": [
    {
     "name": "stdout",
     "output_type": "stream",
     "text": [
      "Passed sanity check: built 'expr' is the same as the stored Expression.\n"
     ]
    }
   ],
   "source": [
    "# check that the built expression is the same as the stored expression\n",
    "%check_expr"
   ]
  },
  {
   "cell_type": "code",
   "execution_count": 4,
   "metadata": {},
   "outputs": [
    {
     "data": {
      "text/html": [
       "<table><tr><th>&nbsp;</th><th>core type</th><th>sub-expressions</th><th>expression</th></tr>\n",
       "<tr><td>0</td><td>ExprTuple</td><td>1, 2</td><td><a class=\"ProveItLink\" href=\"expr.ipynb\"><img src=\"data:image/png;base64,iVBORw0KGgoAAAANSUhEUgAAAKUAAAAyBAMAAADPZgYSAAAAMFBMVEX///9ERESIiIiYmJju7u4y\n",
       "MjLMzMwQEBDc3NwiIiKqqqpUVFRmZma6urp2dnYAAACcPvpdAAAAAXRSTlMAQObYZgAAAspJREFU\n",
       "WMOtmE1oE0EUgF+yk/9fW8GjIYqXhGYPek56Uik0Ac1B9JBbj9YiUkVr8GjBRD0I4iEIWnpSPEqh\n",
       "qyAehDZ4sBchIaBHSdsQarHozM7udrOkmbdx5jDzMnl82TfvZ94GgI54E+SMmYIlbkhCQuyyKcXf\n",
       "ymLCOVNYlYaEiMbX4C15TLjDF19bInOFe+lNQSLTx41fwurPds6IPb/HZqWHRPrvwRWx1jU2hbCR\n",
       "dD4Fk2KtPDvJFjaJ1kUK0QM6JVJ0+ow9zm2RAumyCK3T6S4SGdwRaYRLbKJO8u9jn3OX+nOkQpzF\n",
       "EaE/7cW6HdYAfo6y4+OPBlsfA3jmscxoJz0qOy5WawXDlYGkowTeHjOD1mBOX3NVKDqz/eqYzAPI\n",
       "8FRvQEt1fGf57IKYY1MhPZjUP15PQb7hSFjLZy/FTLvKTX//LFuLGuQqjoCoj8n8fiqrm5xIwmZV\n",
       "31me2uKC711Gdc0kv9LWowVKsK4HQGwRTvKtYhL6rplzTZ9lXqhuVIaaCh/ArNBLbplkATyWq0Pz\n",
       "BpPOT/jWJ4A/g8y/Q8YgM9K1V3qTuQ3EsPgFxHYZulx+Vi6PjNVDlURyCJPWnHCXGOEZ7bm1vZay\n",
       "7VHbN5mPyD5ESq+BiX0ItN0yE/QwVZuPeCxdglWtTX5T6T18cR2ftFOI22OJx/xy+ttEk9yn/Jms\n",
       "6j7mN9KnrT16uHnbdRSrHpUkiDwyB81New0ZLONfxcxhKrSG2GudIqMTobXOXpNTMpi0JuPvDnwb\n",
       "gL/jHmUeZhGW3HBxF5O28jRQF6vtuOgZ4uDthitCNWXPRW9DIJLEdN/MlFYFe6ABTFwkWGyGNCyz\n",
       "VgFxS633ikoXR1SqOfCKmbzkLiDzQz0BD5C9N6yIWsBjdByH6anZjmp+OHJ4NPnvMlv8dIKLEpnP\n",
       "jfWVPGRUcwr/Pw4fb0L+uzZEZf0nMK176B9sQcGMP6GIOAAAAABJRU5ErkJggg==\n",
       "\" style=\"display:inline;vertical-align:middle;\" /></a></td></tr>\n",
       "<tr><td>1</td><td>Variable</td><td></td><td><a class=\"ProveItLink\" href=\"../../../../__pv_it/07527342713064c87612d00d8557c53d53d5324a0/expr.ipynb\"><img src=\"data:image/png;base64,iVBORw0KGgoAAAANSUhEUgAAAAsAAAAJBAMAAAAWSsseAAAAMFBMVEX///8yMjKqqqrMzMzu7u4i\n",
       "IiJmZmaYmJhEREQQEBC6urp2dnaIiIhUVFTc3NwAAAD87Fq/AAAAAXRSTlMAQObYZgAAAEhJREFU\n",
       "CNdjYOC7s2seAwPDygccHxgY+L4zsDUwMPB+YGA9wMDA38Dgb8DA8P4Agz6DA4O/AsNFJgMGxgKm\n",
       "MG6gyjunLE4xAAAZTBA5TB6DCwAAAABJRU5ErkJggg==\n",
       "\" style=\"display:inline;vertical-align:middle;\" /></a></td></tr>\n",
       "<tr><td>2</td><td>Operation</td><td>operator:&nbsp;3<br>operands:&nbsp;4<br></td><td><a class=\"ProveItLink\" href=\"../3d6ffe181f0561cef1c0ba3cd2bbb8590fd277910/expr.ipynb\"><img src=\"data:image/png;base64,iVBORw0KGgoAAAANSUhEUgAAAHsAAAAlBAMAAACQbYvLAAAAMFBMVEX////c3NxmZmbMzMxERESY\n",
       "mJiIiIh2dna6urqqqqoyMjIiIiIQEBBUVFTu7u4AAAAiO1wTAAAAAXRSTlMAQObYZgAAAV9JREFU\n",
       "SMdjYMAN+MrTDBjIBzYNXBvI1813jIElgHztvB8IqdBvwCPJ70BI+3t8kvIJhLTPwifJD/Q4fr8X\n",
       "4fW7AgM7vogTSl+J13D1tDx8EbOR8R+QvENm3PIqMB8AUlwXyNPO38AG0sk/AeYaAcIpCUnJ+wcs\n",
       "cUBu/wMon5NgRKEo4XlgbwrUWs1AnnYOtTBVILU27Srp2p+XJUO984WB34BU7cwnGFZDRf4x8BSQ\n",
       "qv1NAoMrhMW0gIFfAUWO/z8m+ICq/T7cQG4Fhn5gymZatWr1qVWr8KUBJCVfELE/gUH/AYmOZ/yG\n",
       "0G7AcJzkkP/KwMAKTboTmC6QrP0SA0MxNOKuqZKebJjK0h7gS1JEpDp0wEFYOxFKhgdgLLs4TY18\n",
       "7c8ZogNOk6+9gCGfYTL52h8wXKHM98coC7vPDHzk6w5k+8CQR7Zuzq8sBxjJSaRTXIDgAZ9bXXkq\n",
       "jINLKQCGnWyTnYO1OwAAAABJRU5ErkJggg==\n",
       "\" style=\"display:inline;vertical-align:middle;\" /></a></td></tr>\n",
       "<tr><td>3</td><td>Literal</td><td></td><td><a class=\"ProveItLink\" href=\"../../../../number/addition/__pv_it/3e6688136fa3c7aefbebe51301b7c3ebf0b69c440/expr.ipynb\"><img src=\"data:image/png;base64,iVBORw0KGgoAAAANSUhEUgAAAA4AAAAOBAMAAADtZjDiAAAAJFBMVEX///+6urpUVFQQEBAiIiIy\n",
       "MjJmZmaIiIiqqqrc3Nzu7u4AAACgHpL+AAAAAXRSTlMAQObYZgAAAB5JREFUCNdjYGBgWMkAAe2k\n",
       "0Kmhoc6hoUGk6BMHYgAHOwjcado9fwAAAABJRU5ErkJggg==\n",
       "\" style=\"display:inline;vertical-align:middle;\" /></a></td></tr>\n",
       "<tr><td>4</td><td>ExprTuple</td><td>5, 6, 7</td><td><a class=\"ProveItLink\" href=\"../01afab98b7ade920bdc6e152f9f763751209b5850/expr.ipynb\"><img src=\"data:image/png;base64,iVBORw0KGgoAAAANSUhEUgAAAHEAAAAyBAMAAACZnCkhAAAAMFBMVEX///9ERESIiIiYmJju7u4y\n",
       "MjLMzMwQEBDc3NwiIiKqqqpUVFRmZma6urp2dnYAAACcPvpdAAAAAXRSTlMAQObYZgAAAmRJREFU\n",
       "SMedlr9v00AUx79JnDhJkzT8kFgtBpZWjYVgjjt1qFQzsPBjiMQf0MKAAEGxGBGCIBaEGLpUFVOq\n",
       "jggpFggxIJFujIkyMDG0NKpKhAT3oyZ1cs/25Q3ns58/vrt37/vOALPKLnRs2fnf/aYFonw16FW2\n",
       "9UhcDjrvNEHM+PKav6tL4oG8ZHva5JaMUcvRJrNyuutq70r/Ah3dI95mBkpn7hGu0YPe5E1BvSdL\n",
       "Fs7QZJ2vsKtOoDYFdfj7sxZrvqhf2KdIV+xokzUPlf78L4rc5E2RhSg3VL9wwGKndPzkjcE+nFaH\n",
       "Fh+AH4rHzxaui+tLILWmJkv984oMMV7nB0EAzaqQ3P2kuZ6TI9U8uDJrbyQjZ3fTcvtbG+jaojdM\n",
       "RrpO6pLHO6sW6hsiEQfJSNNZvSWW7/qoNURZaCYsJB8vfpLTrqIjBs/uzNmx2En1mFfQloNXcRgH\n",
       "htRTaB5nNlP3ehwZUk9h7Zj8DPyRj/4qTKGebEC+Rfkgbsx9JTlEKW5fwuphs+2ICB3C7CGikjnj\n",
       "6mERkrvyHl9h/CZB4Qqph+2KzITleRvGY48kuSukHpYJ9VEZKnt07oy7WPZ1R7mTodc54WIZ7/am\n",
       "IpnKpLKFWTQ54WLKpqpJjLXpCvZ87ul8xCRuk1XT6GVembRoedUkKnUF6b1ig47YEXk6GJipRtVA\n",
       "Pp0u8WXTiqqBfC8Lvtr5ohEhAXEKZvaUC/FqSNOkLM93VK6WfQ5PYk57bIUeFk8xO4vFhZW+HdxM\n",
       "WMqf9q/mu1xH/p42+ebkKaxjJX+8k9RGQ52e9i8VJb0/40URn3+v5p5oDCSq1wAAAABJRU5ErkJg\n",
       "gg==\n",
       "\" style=\"display:inline;vertical-align:middle;\" /></a></td></tr>\n",
       "<tr><td>5</td><td>Variable</td><td></td><td><a class=\"ProveItLink\" href=\"../../../../__pv_it/6840a4fa6c106149dc16a131294d0c5e44f1b0480/expr.ipynb\"><img src=\"data:image/png;base64,iVBORw0KGgoAAAANSUhEUgAAAAkAAAAOBAMAAAAPuiubAAAALVBMVEX///9mZmbMzMxERESYmJiI\n",
       "iIh2dna6urqqqqoyMjIiIiIQEBBUVFTu7u4AAAD9S1JeAAAAAXRSTlMAQObYZgAAAE1JREFUCNdj\n",
       "4D29gAEIOA+ASL4GEFl3AURmgQiGOaFHGBh4HzPwKTBwvGXgTmBgnMDAJ8DAJcBQ5wBSLncBJLWN\n",
       "gYGngRFoBO9REQYGAGrcDtUkVqASAAAAAElFTkSuQmCC\n",
       "\" style=\"display:inline;vertical-align:middle;\" /></a></td></tr>\n",
       "<tr><td>6</td><td>Operation</td><td>operator:&nbsp;8<br>operands:&nbsp;9<br></td><td><a class=\"ProveItLink\" href=\"../761fb2e51ba337cf8761bbfd654835de324419d50/expr.ipynb\"><img src=\"data:image/png;base64,iVBORw0KGgoAAAANSUhEUgAAACgAAAAlBAMAAADCTraAAAAAMFBMVEX///+qqqpmZmbc3NxUVFSY\n",
       "mJhEREQiIiIyMjK6uroQEBDMzMyIiIh2dnbu7u4AAAA4MM1YAAAAAXRSTlMAQObYZgAAAIVJREFU\n",
       "KM9jYICBt3dOM6AD7pUM7RiCrw4wpGII+jNgAd+wiDH/wabyKwMDK4agEwPDbQxBpjtnHjAMNfAf\n",
       "C2AYvsD2iOGhA2hifBdYS7kK0AR5GXg+MG5AV8nAkoDFUK4DWATtNzCgpwZWg/MMPOiC8gFZDDZw\n",
       "HmMaEOQxPDv79k4AjAMA29c02ggq4e0AAAAASUVORK5CYII=\n",
       "\" style=\"display:inline;vertical-align:middle;\" /></a></td></tr>\n",
       "<tr><td>7</td><td>Operation</td><td>operator:&nbsp;10<br>operands:&nbsp;11<br></td><td><a class=\"ProveItLink\" href=\"../ead4db5841c78dabcaf421988c1e299615492b3b0/expr.ipynb\"><img src=\"data:image/png;base64,iVBORw0KGgoAAAANSUhEUgAAABIAAAAUBAMAAAByuXB5AAAAMFBMVEX///+qqqpmZmbc3NxUVFSY\n",
       "mJhEREQiIiIyMjK6uroQEBDMzMyIiIh2dnbu7u4AAAA4MM1YAAAAAXRSTlMAQObYZgAAAG5JREFU\n",
       "CNdjYIAApp9QBgPfBxiLsQHG4lWA0Mw6NwQgrOcG9g8gLCeGXVBVPxmOQI34x5D6GMJcx/07DsKa\n",
       "dPRQAFDq7pkNEP6uCRwFENVrGNgCwCwWuNX8CTCW/QG4GFARVJ0CAy/UFN0z58A0ABEUGm8l7xzp\n",
       "AAAAAElFTkSuQmCC\n",
       "\" style=\"display:inline;vertical-align:middle;\" /></a></td></tr>\n",
       "<tr><td>8</td><td>Literal</td><td></td><td><a class=\"ProveItLink\" href=\"../../../../number/division/__pv_it/089f5ca61fe425d4f6ef7efa2138c1a2fa47180c0/expr.ipynb\"><img src=\"data:image/png;base64,iVBORw0KGgoAAAANSUhEUgAAAA4AAAAMBAMAAACgrpHpAAAAIVBMVEX///9ERERmZmbc3NwQEBAi\n",
       "IiKqqqrMzMx2dnaIiIgAAACeyUhQAAAAAXRSTlMAQObYZgAAACJJREFUCNdjYGBgmMEABuyrEiCM\n",
       "EAMG3EA1FAQCsUlhMwcALk0GeoeEfOIAAAAASUVORK5CYII=\n",
       "\" style=\"display:inline;vertical-align:middle;\" /></a></td></tr>\n",
       "<tr><td>9</td><td>ExprTuple</td><td>13, 12</td><td><a class=\"ProveItLink\" href=\"../11ed2302eb9e212e10ffd1926afb085129a6aaa90/expr.ipynb\"><img src=\"data:image/png;base64,iVBORw0KGgoAAAANSUhEUgAAAEYAAAAVBAMAAAAJGoXuAAAAMFBMVEX////c3NwiIiJERESqqqqY\n",
       "mJh2dnZmZmYQEBDu7u4yMjJUVFTMzMyIiIi6uroAAAAs73DqAAAAAXRSTlMAQObYZgAAAPdJREFU\n",
       "KM9jYCAG8F3AK836AEicJmBGDRCvJKCGi4GB9wIBNawJDBwTCKjhbGB4RdBTJgxlIKVpdw8gi4rd\n",
       "FrmOcEI6w1IgeeIBlwKy6QmsqhwIAS+GPqBYLwNzAJIaNgbeDywIg18w/GNg4P6A5koGbgMk7nmQ\n",
       "Gn4DdGdyXEBR08LAII8RRPIHGCYg2WUKNAfomABOpFATuM/Ai1ATBfQZA3cBA9uB+QiP+AdYMMgy\n",
       "IPn9EZAsu3uTYcZHBgYWYyCwZJh8bVpuAIzDwLCOgUMAqvwh7rgARhkEBOBQw3YBkTZwqZkFxNIQ\n",
       "Ji+uKN0IxIz4ExDvAQYAENs19IilfwwAAAAASUVORK5CYII=\n",
       "\" style=\"display:inline;vertical-align:middle;\" /></a></td></tr>\n",
       "<tr><td>10</td><td>Literal</td><td></td><td><a class=\"ProveItLink\" href=\"../../../../number/exponentiation/__pv_it/deb2bf23cbccdd6e6791e1b35b5b9794ce12dbd50/expr.ipynb\"><img src=\"data:image/png;base64,iVBORw0KGgoAAAANSUhEUgAAACgAAAASBAMAAADbMYGVAAAAMFBMVEX///8QEBAiIiKYmJjc3Nzu\n",
       "7u7MzMx2dnZmZma6urpERESqqqoyMjJUVFSIiIgAAAAoDOMTAAAAAXRSTlMAQObYZgAAAOBJREFU\n",
       "GNNjYGB4+//u3Tt/GNAASGAXmhjnPyDBgSbI/g1IxKEJ8nxgYGdgQRPkX8BgDKRY6q7s62OYvmze\n",
       "2wAgb/7ZO1+AVDiDkYEQQ0HTBr4DQF59AgOIKmB4z7CNbcNZBu6vQN55kEACQwDDLQYGVobfDHwg\n",
       "fb8YGBxYHwAZciD3fWXg+gB1JjvQcJZvQIXsCgz8F6DO9GBgMOH7wPCUgaeBwd4B7EwGNjUG7s9c\n",
       "AiwPgO5jkWRgiF3/9+5dfQUG1nWl5Y+B7pv+1gE9bBhqGLCAE1jEWH9jEbT5A3IwAC4sP/1L6Qlu\n",
       "AAAAAElFTkSuQmCC\n",
       "\" style=\"display:inline;vertical-align:middle;\" /></a></td></tr>\n",
       "<tr><td>11</td><td>ExprTuple</td><td>13, 14</td><td><a class=\"ProveItLink\" href=\"../1f4efc3b7a909d0274ff36f0d19c7c06c2e6ff420/expr.ipynb\"><img src=\"data:image/png;base64,iVBORw0KGgoAAAANSUhEUgAAACkAAAAVBAMAAAAp9toTAAAAMFBMVEX////c3NwiIiJERESqqqqY\n",
       "mJh2dnZmZmYQEBDu7u4yMjJUVFTMzMyIiIi6uroAAAAs73DqAAAAAXRSTlMAQObYZgAAAQNJREFU\n",
       "GNNjYMAO+C6gCcSBiNOoaiwK2A8A6ZWoKvkdGBYwMPCiGfB+AkMYAwPHBFTRJAaGGQwMr9DsWs7A\n",
       "wOzAUAZkcabdPQAWYtyb94WBga2AYSmQc+IBlwJY9IUA808GBpYFDH1Apb0MzAFgpV8Z2IEO4Gtg\n",
       "+MfAwP0BaiaQwZTAwMDzASTKbwBzqwHD/Adg0RYGBnmYk4EMf4YJIBNMgUqAhgZwAkXnOzDsYjnA\n",
       "wLqAIR1oXAED24H5QFdwBbCos4Fd9giopuzuTYYZH0HOvXf4HlDyAQOHANTQh3DvAX3MmgBlB8BF\n",
       "c5FCEi7KCfQIgzSEzQtXyg0ykxE9hu4wMAAA/os7cGgwRtcAAAAASUVORK5CYII=\n",
       "\" style=\"display:inline;vertical-align:middle;\" /></a></td></tr>\n",
       "<tr><td>12</td><td>Variable</td><td></td><td><a class=\"ProveItLink\" href=\"../5144cf74ae6a683b49b974f1b9302b432abf7e930/expr.ipynb\"><img src=\"data:image/png;base64,iVBORw0KGgoAAAANSUhEUgAAACUAAAAJBAMAAABH3vh9AAAAKlBMVEX////MzMwQEBAiIiKYmJhm\n",
       "ZmZUVFSIiIh2dnbc3Nzu7u5ERESqqqoAAABwkVEpAAAAAXRSTlMAQObYZgAAAEtJREFUCNdjYIAA\n",
       "zvbM4+EMqGAFg7ODMppYA0Mtw0E0sQUM2QyYQB1TiPMiAxeakCf7BYYqVCGeK9wKnAUw3undQLCA\n",
       "a3tXRwmMAwC3+RVNp6j0GAAAAABJRU5ErkJggg==\n",
       "\" style=\"display:inline;vertical-align:middle;\" /></a></td></tr>\n",
       "<tr><td>13</td><td>Variable</td><td></td><td><a class=\"ProveItLink\" href=\"../../../../__pv_it/cbdfda466482236edba0ce44ac7ef39cda0af7a40/expr.ipynb\"><img src=\"data:image/png;base64,iVBORw0KGgoAAAANSUhEUgAAAAkAAAAJBAMAAAASvxsjAAAALVBMVEX///9mZmbc3NxUVFSYmJhE\n",
       "REQiIiIyMjK6uroQEBDMzMyIiIh2dnbu7u4AAABgFDGoAAAAAXRSTlMAQObYZgAAADZJREFUCNdj\n",
       "YOA9s3sBA8PKBvYEBt7ZDKwODMwPGICALwBE6m0Asx0YGIDiAgw8QJUyu/cyAAAmuwmycZ8WfQAA\n",
       "AABJRU5ErkJggg==\n",
       "\" style=\"display:inline;vertical-align:middle;\" /></a></td></tr>\n",
       "<tr><td>14</td><td>Variable</td><td></td><td><a class=\"ProveItLink\" href=\"../../../../__pv_it/3a5de44ed6135dbbdbbeec6704c741e238f127300/expr.ipynb\"><img src=\"data:image/png;base64,iVBORw0KGgoAAAANSUhEUgAAAAsAAAAOBAMAAAALT/umAAAAMFBMVEX////MzMyYmJiIiIhUVFTc\n",
       "3NwyMjIiIiJ2dnbu7u6qqqpmZmYQEBBERES6uroAAABkyy6XAAAAAXRSTlMAQObYZgAAAFhJREFU\n",
       "CNdjYGBg4LuzgQEE+BeAqfcTwFQ7mGTIBmJW575fQOpNAO9PIOcTA3cCAwPLBwb2BqCeCwzzHzAw\n",
       "xBswrGeYwDB/AYMblwADmwJXNQdIm52sHQMAfyoTCZukXIEAAAAASUVORK5CYII=\n",
       "\" style=\"display:inline;vertical-align:middle;\" /></a></td></tr>\n",
       "</table>\n"
      ],
      "text/plain": [
       "0. (a , b + (c / _x_) + c^{d})\n",
       "   core type: ExprTuple\n",
       "   sub-expressions: 1, 2\n",
       "1. a\n",
       "   core type: Variable\n",
       "   sub-expressions: \n",
       "2. b + (c / _x_) + c^{d}\n",
       "   core type: Operation\n",
       "   operator: 3\n",
       "   operands: 4\n",
       "3. +\n",
       "   core type: Literal\n",
       "   sub-expressions: \n",
       "4. (b , c / _x_ , c^{d})\n",
       "   core type: ExprTuple\n",
       "   sub-expressions: 5, 6, 7\n",
       "5. b\n",
       "   core type: Variable\n",
       "   sub-expressions: \n",
       "6. c / _x_\n",
       "   core type: Operation\n",
       "   operator: 8\n",
       "   operands: 9\n",
       "7. c^{d}\n",
       "   core type: Operation\n",
       "   operator: 10\n",
       "   operands: 11\n",
       "8. /\n",
       "   core type: Literal\n",
       "   sub-expressions: \n",
       "9. (c , _x_)\n",
       "   core type: ExprTuple\n",
       "   sub-expressions: 13, 12\n",
       "10. Exp\n",
       "    core type: Literal\n",
       "    sub-expressions: \n",
       "11. (c , d)\n",
       "    core type: ExprTuple\n",
       "    sub-expressions: 13, 14\n",
       "12. _x_\n",
       "    core type: Variable\n",
       "    sub-expressions: \n",
       "13. c\n",
       "    core type: Variable\n",
       "    sub-expressions: \n",
       "14. d\n",
       "    core type: Variable\n",
       "    sub-expressions: "
      ]
     },
     "execution_count": 4,
     "metadata": {},
     "output_type": "execute_result"
    }
   ],
   "source": [
    "# display the expression information\n",
    "expr.exprInfo()"
   ]
  },
  {
   "cell_type": "code",
   "execution_count": null,
   "metadata": {},
   "outputs": [],
   "source": []
  }
 ],
 "metadata": {
  "kernelspec": {
   "display_name": "Python 3",
   "language": "python",
   "name": "python3"
  }
 },
 "nbformat": 4,
 "nbformat_minor": 0
}
