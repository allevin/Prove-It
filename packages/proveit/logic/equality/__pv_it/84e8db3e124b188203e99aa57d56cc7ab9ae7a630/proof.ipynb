{
 "cells": [
  {
   "cell_type": "markdown",
   "metadata": {},
   "source": [
    "Show the Proof\n",
    "========"
   ]
  },
  {
   "cell_type": "code",
   "execution_count": 1,
   "metadata": {},
   "outputs": [
    {
     "data": {
      "text/html": [
       "<table><tr><th>&nbsp;</th><th>step type</th><th>requirements</th><th>statement</th></tr>\n",
       "<tr><td>0</td><td>assumption</td><td></td><td><span style=\"font-size:20px;\"><a class=\"ProveItLink\" href=\"../45d679b33948872d2fd39e23a85920e4fe6ed7f30/expr.ipynb\"><img src=\"data:image/png;base64,iVBORw0KGgoAAAANSUhEUgAAAEIAAAAVBAMAAAAA8SWUAAAAMFBMVEX////c3NxERESqqqpUVFS6\n",
       "urrMzMwyMjIQEBCIiIh2dnYiIiLu7u5mZmaYmJgAAABXZE4RAAAAAXRSTlMAQObYZgAAAPNJREFU\n",
       "KM9jYGDgu8eAC2QtBJE8uxhwgwwDIMH5gYHhSDcOFbwFQIKrAUiU4FABlgQTnwmpYP1DSAXXBkIq\n",
       "2D2nPECTY/Rc2ghVAXLueQWGbyBmORg4gFRECDABPcn3AeTlAAYG+wMMXWhG/GPgVQDStQwMKW1A\n",
       "+joDw19UFSwfGLgnAGmmOqBxCQwMexlY/6Gq4FdgOA+UYAAFOEsBKDh4Qf7l3Q0GINPlJzDYMxyA\n",
       "uAPk028MHAtQzThvwODOnIDwrTPDFTTPsj9g3suFFB5H5mIGx9SkqcjxwkAw5vCq4MOnApw+eHbi\n",
       "S2MBIJJvMd50CgBBBESW6r/wNgAAAABJRU5ErkJggg==\n",
       "\" style=\"display:inline;vertical-align:middle;\" /></a> <a class=\"ProveItLink\" href=\"proof.ipynb\" style=\"text-decoration: none\">&#x22A2;&nbsp;</a><a class=\"ProveItLink\" href=\"../62e4ad07e99a56386b3c58bb42af0323a14c6a410/expr.ipynb\"><img src=\"data:image/png;base64,iVBORw0KGgoAAAANSUhEUgAAADAAAAAOBAMAAACbXIJpAAAAMFBMVEX////c3NxmZmbMzMxERESY\n",
       "mJiIiIh2dna6urqqqqoyMjIiIiIQEBBUVFTu7u4AAAAiO1wTAAAAAXRSTlMAQObYZgAAAJhJREFU\n",
       "GNNj4LuzgQE74LqAQ4J/Ag6J/gc4JKpxiDOsTbuKLiSb3iPAwPeFgd8AyNFaBQJrQeIcBxn8GRg4\n",
       "/zHwFKBqkA9gUGFgYFrAwK+AKnGfgWEbAwO3AkN/AKrEFwa+z2Bv6IMcrL0bBLYAWYzfGDg/8IFs\n",
       "Po6qge8nA++CyQy8E5jQw2Qpw2yFAga+a6oY3khrdmsAAFICJ5Z6YnH9AAAAAElFTkSuQmCC\n",
       "\" style=\"display:inline;vertical-align:middle;\" /></a></span></td></tr>\n",
       "</table>"
      ],
      "text/plain": [
       "<proveit._core_.proof._ShowProof at 0x7f95000470b8>"
      ]
     },
     "execution_count": 1,
     "metadata": {},
     "output_type": "execute_result"
    }
   ],
   "source": [
    "import proveit\n",
    "%show_proof"
   ]
  },
  {
   "cell_type": "code",
   "execution_count": null,
   "metadata": {},
   "outputs": [],
   "source": []
  }
 ],
 "metadata": {
  "kernelspec": {
   "display_name": "Python 3",
   "language": "python",
   "name": "python3"
  }
 },
 "nbformat": 4,
 "nbformat_minor": 0
}
