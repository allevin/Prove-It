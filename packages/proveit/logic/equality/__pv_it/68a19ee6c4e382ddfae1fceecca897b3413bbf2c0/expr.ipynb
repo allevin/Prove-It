{
 "cells": [
  {
   "cell_type": "markdown",
   "metadata": {},
   "source": [
    "Expression of type <a class=\"ProveItLink\" href=\"../../../../../../doc/html/api/proveit.Lambda.html\">Lambda</a>\n",
    "=======================\n",
    "# from context <a class=\"ProveItLink\" href=\"../../_context_.ipynb\">proveit.logic.equality</a>"
   ]
  },
  {
   "cell_type": "code",
   "execution_count": 1,
   "metadata": {},
   "outputs": [],
   "source": [
    "# import Expression classes needed to build the expression\n",
    "from proveit import Lambda\n",
    "from proveit._common_ import x, y\n",
    "from proveit.logic import Booleans, InSet, NotEquals"
   ]
  },
  {
   "cell_type": "code",
   "execution_count": 2,
   "metadata": {},
   "outputs": [
    {
     "data": {
      "text/html": [
       "<strong id=\"expr\">expr:</strong> <a class=\"ProveItLink\" href=\"expr.ipynb\"><img src=\"data:image/png;base64,iVBORw0KGgoAAAANSUhEUgAAAKMAAAAVCAMAAAAdIa7aAAAAP1BMVEX///8LCwsYGBgoKCgUFBQN\n",
       "DQ2YmJhUVFQyMjIQEBBEREQiIiKqqqrMzMyIiIi6urrc3NxmZmZ2dnbu7u4AAAAcetcUAAAAAXRS\n",
       "TlMAQObYZgAAAiVJREFUSMfdVkeC5CAMZMMQRA7/f+uCI8Jgw3V1mOrpLrvkkmREyH8Y1mAcRnC9\n",
       "b6ldUluk76EZxmE43v/e6/cn4wl44kKCmqF3g0eMw2AjB/jHhVBKFHkMYYr+DGMwLtuYyxcmciTG\n",
       "Htl90Z8hIsZ1G0kU+F/DZQ7e5KgoYbFDnxgYjnHctvBilKqJnMa+jw5uegy+2OlS7DaMqu/oA0YX\n",
       "DHPK+EflAbU6lgi+agmI3VprSc9fCj0Qm0qHpZMkm6pVd+EUYczKVFIirks83+LPT/l7jT6WUJUJ\n",
       "4Hr9KGVK4nzuTNeK+CIBMMgxsvs+wiIMh7DSrzY2EvbusAjDmTHq+C3Ts0tbyumq189fiUKkq//P\n",
       "TwcWh1lHxuKXZyOh000Up0g7MwXCTVelTXTSAx/rEW1y3CztvIV4W0EkUeXYOwmuHAncdF+ewdwF\n",
       "aHL0laBQGMsc6MPQnVw8+f1r9+Z2GEnUtZbfOW50XuYM2CBHXfsEFCF1+xyY+G4jlqDVzDA6zvGo\n",
       "9Ub3+VqbbrJpm6k6TX2NKl8E+SmdeetG0krU754obT9H6g1U9AjG+OSm3uGyxnxhyMeqoR/d2Ehw\n",
       "i85MvDXsOwVIwc52uuhBTp6FDmMnlB9sNLJ7FhLFOJrr3tHJZPmgJve58LkYyOdRjiSCISux0WWW\n",
       "g+nl4nM369lYS8S1ZWunq9wq89uuYxhnbEQSzC3luEg/kjMYH2P1sYCu7dUb/R+iyR5Dwk6sngAA\n",
       "AABJRU5ErkJggg==\n",
       "\" style=\"display:inline;vertical-align:middle;\" /></a><br>"
      ],
      "text/plain": [
       "expr: y -> ((x != y) in BOOLEANS)"
      ]
     },
     "execution_count": 2,
     "metadata": {},
     "output_type": "execute_result"
    }
   ],
   "source": [
    "# build up the expression from sub-expressions\n",
    "expr = Lambda(y, InSet(NotEquals(x, y), Booleans))"
   ]
  },
  {
   "cell_type": "code",
   "execution_count": 3,
   "metadata": {},
   "outputs": [
    {
     "name": "stdout",
     "output_type": "stream",
     "text": [
      "Passed sanity check: built 'expr' is the same as the stored Expression.\n"
     ]
    }
   ],
   "source": [
    "# check that the built expression is the same as the stored expression\n",
    "%check_expr"
   ]
  },
  {
   "cell_type": "code",
   "execution_count": 4,
   "metadata": {},
   "outputs": [
    {
     "data": {
      "text/html": [
       "<table><tr><th>&nbsp;</th><th>core type</th><th>sub-expressions</th><th>expression</th></tr>\n",
       "<tr><td>0</td><td>Lambda</td><td>parameter:&nbsp;9<br>body:&nbsp;1<br></td><td><a class=\"ProveItLink\" href=\"expr.ipynb\"><img src=\"data:image/png;base64,iVBORw0KGgoAAAANSUhEUgAAAKMAAAAVCAMAAAAdIa7aAAAAP1BMVEX///8LCwsYGBgoKCgUFBQN\n",
       "DQ2YmJhUVFQyMjIQEBBEREQiIiKqqqrMzMyIiIi6urrc3NxmZmZ2dnbu7u4AAAAcetcUAAAAAXRS\n",
       "TlMAQObYZgAAAiVJREFUSMfdVkeC5CAMZMMQRA7/f+uCI8Jgw3V1mOrpLrvkkmREyH8Y1mAcRnC9\n",
       "b6ldUluk76EZxmE43v/e6/cn4wl44kKCmqF3g0eMw2AjB/jHhVBKFHkMYYr+DGMwLtuYyxcmciTG\n",
       "Htl90Z8hIsZ1G0kU+F/DZQ7e5KgoYbFDnxgYjnHctvBilKqJnMa+jw5uegy+2OlS7DaMqu/oA0YX\n",
       "DHPK+EflAbU6lgi+agmI3VprSc9fCj0Qm0qHpZMkm6pVd+EUYczKVFIirks83+LPT/l7jT6WUJUJ\n",
       "4Hr9KGVK4nzuTNeK+CIBMMgxsvs+wiIMh7DSrzY2EvbusAjDmTHq+C3Ts0tbyumq189fiUKkq//P\n",
       "TwcWh1lHxuKXZyOh000Up0g7MwXCTVelTXTSAx/rEW1y3CztvIV4W0EkUeXYOwmuHAncdF+ewdwF\n",
       "aHL0laBQGMsc6MPQnVw8+f1r9+Z2GEnUtZbfOW50XuYM2CBHXfsEFCF1+xyY+G4jlqDVzDA6zvGo\n",
       "9Ub3+VqbbrJpm6k6TX2NKl8E+SmdeetG0krU754obT9H6g1U9AjG+OSm3uGyxnxhyMeqoR/d2Ehw\n",
       "i85MvDXsOwVIwc52uuhBTp6FDmMnlB9sNLJ7FhLFOJrr3tHJZPmgJve58LkYyOdRjiSCISux0WWW\n",
       "g+nl4nM369lYS8S1ZWunq9wq89uuYxhnbEQSzC3luEg/kjMYH2P1sYCu7dUb/R+iyR5Dwk6sngAA\n",
       "AABJRU5ErkJggg==\n",
       "\" style=\"display:inline;vertical-align:middle;\" /></a></td></tr>\n",
       "<tr><td>1</td><td>Operation</td><td>operator:&nbsp;2<br>operands:&nbsp;3<br></td><td><a class=\"ProveItLink\" href=\"../f244ae485c2ab39fb2cee4fffdab0aaae2b151600/expr.ipynb\"><img src=\"data:image/png;base64,iVBORw0KGgoAAAANSUhEUgAAAGcAAAAVCAMAAABsdQABAAAAPFBMVEX///8LCwsYGBgNDQ0oKCjc\n",
       "3NwiIiJERESqqqqYmJh2dnZmZmYQEBDu7u4yMjJUVFTMzMyIiIi6uroAAACIMCsmAAAAAXRSTlMA\n",
       "QObYZgAAAahJREFUSMe9VVeSwyAMZQuiCwT3v+vS4riASz6WycQDltErQjD2fyPSRYDmg0UVH6YJ\n",
       "/iKA43DZhAt0mAQmtCBknaO7yOMnyPGKgShSOXRa5wnRZ3SycvpOHkaxIrKf0mHObqeEkAfu80jF\n",
       "vGPxin0Qc7xyHYfKTfjwvIXp5LkmzyWZg4pibbfTNZ6nuqU2K3WFG+sWQJVXqPoGWW9QzMJSTljH\n",
       "70/5f5WkZjEVT1OdybVGfOgPQEq2YLexb9C+luGMTpDMFCCiaRnfBjkxrwOS+WVqeQppP4iNm8OV\n",
       "oyq41NQN6R1noY9DHZSHfuUpww4qHHdyyOJMSGGfZ3jYlzz5Z5ea4fXrxU1TwH1/NZDi7VoR2LKD\n",
       "bnCRR7Q6ULyZS+6UDsNSYqKDVyuNvDrJk3VrtSmTYiKj43TiTuWTV2Lqe67r2kGc5FGGMqMIrVxI\n",
       "5zZE6tydGkgm9WWMm/a0a6ytjwqwvlpj+fS8SzNuxDDsO0x63Nbb3W4IhyPuoWzfS0fTo/tnei8M\n",
       "6EAGJTowh4/SMO5v02Eyu/MyxfOHFyqf8D+/mCk8yfEHZLsTLQa4aTcAAAAASUVORK5CYII=\n",
       "\" style=\"display:inline;vertical-align:middle;\" /></a></td></tr>\n",
       "<tr><td>2</td><td>Literal</td><td></td><td><a class=\"ProveItLink\" href=\"../../../set_theory/membership/__pv_it/088cbc857536a28d4119ad9639a84270ccb0545d0/expr.ipynb\"><img src=\"data:image/png;base64,iVBORw0KGgoAAAANSUhEUgAAAAwAAAAMBAMAAACkW0HUAAAALVBMVEX///+qqqpmZmZUVFQQEBC6\n",
       "urpERETc3NyYmJjMzMwiIiIyMjKIiIju7u4AAACYsrA9AAAAAXRSTlMAQObYZgAAADxJREFUCNdj\n",
       "YOA9vWrVBgaG2b0MQMCeCyIZ2ArA1DUwyRCyahVIyWQI7xaEYm4AU7xLIdxqTQgtvGvVBgCkcQ7e\n",
       "geM/tQAAAABJRU5ErkJggg==\n",
       "\" style=\"display:inline;vertical-align:middle;\" /></a></td></tr>\n",
       "<tr><td>3</td><td>ExprTuple</td><td>4, 5</td><td><a class=\"ProveItLink\" href=\"../e12b89be48ed3487c8e8f606ada39321199ac5420/expr.ipynb\"><img src=\"data:image/png;base64,iVBORw0KGgoAAAANSUhEUgAAAFYAAAAVCAMAAADrROkHAAAAPFBMVEX///8LCwsYGBgNDQ0oKCjc\n",
       "3NwiIiJERESqqqqYmJh2dnZmZmYQEBDu7u4yMjJUVFTMzMyIiIi6uroAAACIMCsmAAAAAXRSTlMA\n",
       "QObYZgAAAYJJREFUOMu1VFl2wyAMVBcQOwjuf9ciljSNMU6bV32YBx6GYSQE8G+R6QJgxC/YdO5j\n",
       "ihdAEfaHhoKhBCdRtblNbQj+gjbmCwDyhX3wxnRC/hC9JnbSAuVOCJrZ3ctiB63SEBuXdzVfV1oS\n",
       "wrNqxYBWk60ZVzUUhSJ7sATT3cSbhhfFH2iT1DhWjYWgB756IjU4ObE2tPj84O8sFgO5cD7Ko1op\n",
       "S3FTkgrg8sB3sEo7sanejs9FXJlAaixnB6XTsvy4cDH/KOqKapIKLWh56I6mMmk53KLUwsMDU+xq\n",
       "KmlNCzhpnbrVZwPfcmFljfc32QK/HWe3HGxpqwnYU6ZFzwP5rVgIlvdHuBdwMEEHLoZ2Nw1YNQja\n",
       "ONvU1pVcWIov8iettoS3Asvtp0cy9UmT3jvbgGSLaG+piLtWg9LF6Weo+XLnXU/ZdcsaMvPJTn68\n",
       "vTGsQx7aRZS8a6jSZ52Sto1xIVZWDTh1nND63mVEfFosqOrsLPSzhhqHN+IEkOEvQVz9X03uEc5r\n",
       "85CzAAAAAElFTkSuQmCC\n",
       "\" style=\"display:inline;vertical-align:middle;\" /></a></td></tr>\n",
       "<tr><td>4</td><td>Operation</td><td>operator:&nbsp;6<br>operands:&nbsp;7<br></td><td><a class=\"ProveItLink\" href=\"../300e2e5a84d087a5fb9402300e42d269677e6d4f0/expr.ipynb\"><img src=\"data:image/png;base64,iVBORw0KGgoAAAANSUhEUgAAADMAAAAUCAMAAAAX1vWWAAAAPFBMVEX///8LCwsYGBgNDQ0oKCi6\n",
       "uroyMjJERETMzMwQEBAiIiKYmJju7u5mZmaqqqpUVFSIiIh2dnbc3NwAAACyXdPkAAAAAXRSTlMA\n",
       "QObYZgAAANBJREFUOMvNU0sWwiAMjB/KNxDg/nc1obZqK/jYmQUdIGFmSgAYRi4wG2WZLoGk/pXG\n",
       "6L6CTKlEQjpuaPM+CxmzZNcgGMA7D9Ztu7i0uN9kTPtvB1X5Q7XhFUQzpDERUE7VIjiI2S/KVfqY\n",
       "cpoV9XWzYOlcsxxbIIoTU5/spYGw+3Ec14tr8VKAcltkBfqy+qIwpoEFxU5qjB40FxcauWk8vKQ4\n",
       "mxVpyiFn8j/ctEzC2m/0iJ234fpt48K5+Tg92DhF4/jydZ6igchuRn0+fgMPuMgIfJwzrpMAAAAA\n",
       "SUVORK5CYII=\n",
       "\" style=\"display:inline;vertical-align:middle;\" /></a></td></tr>\n",
       "<tr><td>5</td><td>Literal</td><td></td><td><a class=\"ProveItLink\" href=\"../../../boolean/__pv_it/46271c8230be96415d662709611f4ed2279d702b0/expr.ipynb\"><img src=\"data:image/png;base64,iVBORw0KGgoAAAANSUhEUgAAAA0AAAAOBAMAAAAGUYvhAAAAMFBMVEX///9mZmbMzMzc3NxUVFSY\n",
       "mJju7u6IiIi6urqqqqoiIiIQEBBEREQyMjJ2dnYAAAAQvcRZAAAAAXRSTlMAQObYZgAAAElJREFU\n",
       "CNdjePvn/u01ExgYGA60s117B6YZKngh9FSWBAjfBsxnWnoMRHet/10AkS+fA6F5OB5AaIYDqDRU\n",
       "PLCGgQFoz6ktExgAgLIl8DFvGtkAAAAASUVORK5CYII=\n",
       "\" style=\"display:inline;vertical-align:middle;\" /></a></td></tr>\n",
       "<tr><td>6</td><td>Literal</td><td></td><td><a class=\"ProveItLink\" href=\"../43637204f35b46c076ae787093288c6a879642310/expr.ipynb\"><img src=\"data:image/png;base64,iVBORw0KGgoAAAANSUhEUgAAAA4AAAAUCAMAAACK2/weAAAAM1BMVEX///8LCwsYGBgNDQ0oKCju\n",
       "7u4iIiJmZmaqqqpERETMzMy6urpUVFQyMjLc3Nx2dnYAAAB8DqOrAAAAAXRSTlMAQObYZgAAAE5J\n",
       "REFUGNNjYEAAfj4kDgMfLzKPgYebaEkuThRJTi4wxc4LBizMIJIHTRIKuHlQdPLCHMTOBgRMjGxg\n",
       "wIkmiVcnGHCwo0iysRItyYDsMQCO9QJkhxsUAQAAAABJRU5ErkJggg==\n",
       "\" style=\"display:inline;vertical-align:middle;\" /></a></td></tr>\n",
       "<tr><td>7</td><td>ExprTuple</td><td>8, 9</td><td><a class=\"ProveItLink\" href=\"../a6a2ac9310c73e21661c7634808321702fb219240/expr.ipynb\"><img src=\"data:image/png;base64,iVBORw0KGgoAAAANSUhEUgAAACwAAAAVBAMAAADP3xFXAAAAMFBMVEX////c3NwiIiJERESqqqqY\n",
       "mJh2dnZmZmYQEBDu7u4yMjJUVFTMzMyIiIi6uroAAAAs73DqAAAAAXRSTlMAQObYZgAAAQtJREFU\n",
       "GNNjYMAB+C6gi7A+ABKnMVXWAPFKTGEuBgbeC5jCrAkMHBMwhTkbGF5hc4YJQxmQFLstch1i1rQy\n",
       "BsafDAzpDEuBehJYVTkUwMIJ7xl4PzAweDH0MTCwAZksB0CiPA5FDMwGDAwvGP4BVTNwG0DtYuhl\n",
       "4Acadx4kzMDAAXMly0+G8wdAwi0gnvwBBog72Rcw3GAAGWIKdL3AfQbeCWAJrgIGayAVBXQLg3+A\n",
       "BYMsA+cnkOoNfF8ZQA58xMAw+dq03AAGzn4BoJ221z8ChdcxcAjAQxjMYlMAex4YLLAAAuJNDDMc\n",
       "gFIXkAIWJKzGYAYkZwGxNEwY5Hbf66CY2QjEjBgBznuAAQAt5DtyKXSr1gAAAABJRU5ErkJggg==\n",
       "\" style=\"display:inline;vertical-align:middle;\" /></a></td></tr>\n",
       "<tr><td>8</td><td>Variable</td><td></td><td><a class=\"ProveItLink\" href=\"../../../../__pv_it/530be409e3083890784cf1d7b28c9e67e90af9360/expr.ipynb\"><img src=\"data:image/png;base64,iVBORw0KGgoAAAANSUhEUgAAAAsAAAAJBAMAAAAWSsseAAAAKlBMVEX///9ERETMzMwQEBAiIiKY\n",
       "mJju7u5mZmaqqqpUVFSIiIh2dnbc3NwAAAA/vyDhAAAAAXRSTlMAQObYZgAAAENJREFUCNdjYDi9\n",
       "8sTyBQxsG1hdmR0YuBm4LnAoMLAxcAowgADzAjB1VoEhgYH1wFoGrgSG3gBhhlMMDImrs3cFMAAA\n",
       "t0YN+iTRa+sAAAAASUVORK5CYII=\n",
       "\" style=\"display:inline;vertical-align:middle;\" /></a></td></tr>\n",
       "<tr><td>9</td><td>Variable</td><td></td><td><a class=\"ProveItLink\" href=\"../../../../__pv_it/f8b9edf8e16034727f0aad55bb83e392c3db40d40/expr.ipynb\"><img src=\"data:image/png;base64,iVBORw0KGgoAAAANSUhEUgAAAAsAAAANBAMAAACN24kIAAAAMFBMVEX///+YmJhUVFQyMjIQEBBE\n",
       "REQiIiKqqqrMzMyIiIi6urrc3NxmZmZ2dnbu7u4AAADXeCicAAAAAXRSTlMAQObYZgAAAFhJREFU\n",
       "CNdj4LtzgWH/AwZerg8M8xkY2nkSGEIZGB6wTGD4ycDAUP+A4weQOszA6QCkbBhYFYDUIYb1AkDq\n",
       "6czzGxhA4BoQMyXwuQMptgusF4AU+8xTQBIAUqMVoSp/SLMAAAAASUVORK5CYII=\n",
       "\" style=\"display:inline;vertical-align:middle;\" /></a></td></tr>\n",
       "</table>\n"
      ],
      "text/plain": [
       "0. y -> ((x != y) in BOOLEANS)\n",
       "   core type: Lambda\n",
       "   parameter: 9\n",
       "   body: 1\n",
       "1. (x != y) in BOOLEANS\n",
       "   core type: Operation\n",
       "   operator: 2\n",
       "   operands: 3\n",
       "2. in\n",
       "   core type: Literal\n",
       "   sub-expressions: \n",
       "3. (x != y , BOOLEANS)\n",
       "   core type: ExprTuple\n",
       "   sub-expressions: 4, 5\n",
       "4. x != y\n",
       "   core type: Operation\n",
       "   operator: 6\n",
       "   operands: 7\n",
       "5. BOOLEANS\n",
       "   core type: Literal\n",
       "   sub-expressions: \n",
       "6. !=\n",
       "   core type: Literal\n",
       "   sub-expressions: \n",
       "7. (x , y)\n",
       "   core type: ExprTuple\n",
       "   sub-expressions: 8, 9\n",
       "8. x\n",
       "   core type: Variable\n",
       "   sub-expressions: \n",
       "9. y\n",
       "   core type: Variable\n",
       "   sub-expressions: "
      ]
     },
     "execution_count": 4,
     "metadata": {},
     "output_type": "execute_result"
    }
   ],
   "source": [
    "# display the expression information\n",
    "expr.exprInfo()"
   ]
  },
  {
   "cell_type": "code",
   "execution_count": null,
   "metadata": {},
   "outputs": [],
   "source": []
  }
 ],
 "metadata": {
  "kernelspec": {
   "display_name": "Python 3",
   "language": "python",
   "name": "python3"
  }
 },
 "nbformat": 4,
 "nbformat_minor": 0
}
