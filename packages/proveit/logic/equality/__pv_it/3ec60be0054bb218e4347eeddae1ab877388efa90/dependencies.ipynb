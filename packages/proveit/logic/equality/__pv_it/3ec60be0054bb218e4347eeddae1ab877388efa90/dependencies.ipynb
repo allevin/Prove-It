{
 "cells": [
  {
   "cell_type": "markdown",
   "metadata": {},
   "source": [
    "Theorem Dependencies\n",
    "=======================\n",
    "\n",
    "## <a class=\"ProveItLink\" href=\"../../_context_.ipynb\">proveit.logic.equality</a>.<a class=\"ProveItLink\" href=\"../../_theorems_.ipynb#subLeftSideInto\">subLeftSideInto</a> \n",
    "***see <a class=\"ProveItLink\" href=\"../../_proofs_/subLeftSideInto.ipynb\">proof</a>***"
   ]
  },
  {
   "cell_type": "code",
   "execution_count": 1,
   "metadata": {},
   "outputs": [],
   "source": [
    "from proveit.logic.equality._theorems_ import subLeftSideInto"
   ]
  },
  {
   "cell_type": "code",
   "execution_count": 2,
   "metadata": {},
   "outputs": [
    {
     "data": {
      "text/html": [
       "<h3>Axioms required (directly or indirectly) to prove subLeftSideInto</h3>"
      ],
      "text/plain": [
       "<IPython.core.display.HTML object>"
      ]
     },
     "metadata": {},
     "output_type": "display_data"
    },
    {
     "data": {
      "text/html": [
       "<dl>"
      ],
      "text/plain": [
       "<IPython.core.display.HTML object>"
      ]
     },
     "metadata": {},
     "output_type": "display_data"
    },
    {
     "data": {
      "text/html": [
       "<dt><a class=\"ProveItLink\" href=\"../../../boolean/_axioms_.ipynb#eqTrueElim\">proveit.logic.boolean.eqTrueElim</a></dt><dd><a class=\"ProveItLink\" href=\"../../../boolean/__pv_it/3e7bd867633eab3d515d0929d36506bc9b5772e10/expr.ipynb\"><img src=\"data:image/png;base64,iVBORw0KGgoAAAANSUhEUgAAAGgAAAAWBAMAAADeGsQjAAAAMFBMVEX///8QEBC6urrMzMxUVFRm\n",
       "ZmZERETc3NwyMjKqqqp2dnaIiIiYmJgiIiLu7u4AAAAU9Wx4AAAAAXRSTlMAQObYZgAAAUpJREFU\n",
       "OMtjeMBABrgAIk6ToIEZqGMliNFHgiaODwwMZUCaPYEETWf/ATUCPcU6gXg97FO/MzDwLC8vryXB\n",
       "Im7uT0DyW1raLRI06XH+AZLODAzpYG47mGSCe7gAmx4+BebfQEqFga8BxOX5BBZlg0mfV4AyWNPS\n",
       "xNKyoBwmBvavQIqXgfsAiPv0D4omvvgDCPMRoWvi4vIN5LMDvOBUse4qiiautwHYNAGtlwAZ2WAC\n",
       "jugNaSiarNkSsGjiBOKLIEa6E4hkYYhF0eTAeoHBowMINiBrqgTifhBjKjj5nWTYj6yJZwL3B0yb\n",
       "wEGWD/INI8gsvquhYA5M09vQsH8YmtgTfxQwHPvfCjIUpJi1gMHeAElTOAPzZ4YMDOehAh0GBv4D\n",
       "CE1MQPYfbKGHDJ58Y2D3vwPXxOefwFDy9wABTQjARk5Opp8mFiLUAADNR1FAr8G4iQAAAABJRU5E\n",
       "rkJggg==\n",
       "\" style=\"display:inline;vertical-align:middle;\" /></a></dd>"
      ],
      "text/plain": [
       "<IPython.core.display.HTML object>"
      ]
     },
     "metadata": {},
     "output_type": "display_data"
    },
    {
     "data": {
      "text/html": [
       "<dt><a class=\"ProveItLink\" href=\"../../../boolean/_axioms_.ipynb#eqTrueIntro\">proveit.logic.boolean.eqTrueIntro</a></dt><dd><a class=\"ProveItLink\" href=\"../../../boolean/__pv_it/d0cb838f1f1e44deadf0499da151f8dae5a0de4f0/expr.ipynb\"><img src=\"data:image/png;base64,iVBORw0KGgoAAAANSUhEUgAAAIwAAAAXBAMAAAArT7qNAAAAMFBMVEX///8QEBC6urrMzMxUVFRm\n",
       "ZmZERETc3NwyMjKqqqp2dnaIiIiYmJgiIiLu7u4AAAAU9Wx4AAAAAXRSTlMAQObYZgAAAaxJREFU\n",
       "OMtjYKAOeEBYCdMG/PI8CgwMF0CM03iVmUAoW3Rx1rtgkMAQzMCwEiTQh9cYqGw/FinmABDJwcBQ\n",
       "BqTYE/CZwg3xE8/9B7iM4VnAwAGUZJ2AzxhGiPbK+AJcxvAJMPAsLy+vxesnDQi1Yb8CLmMYMhkY\n",
       "vqWl3cJrTBQkuh7MP4DTmKUMDM4MDOlgdjtEOUxFO4zRAyYfMdiDw4i1AwwcUIyZwcCgwsDXAA6n\n",
       "T2ARNlhi+AQzRghMKjDUB+B0jSIDAy8DN9i1T/+gGAPlAgHYPGYXF/8EnMbYA+PzAC84KtZdRTEG\n",
       "yoUZA/QrYwM+Y/gawKmUeUMasjEwLhBIgghgkuAVQEm6aJ5iSHcCsVgYYpGNgXGBIAeUQIHGcHzA\n",
       "6ZoTQDwVnK1OMuxHNgbGhcQmwwuQzD98Ec7ACIpIvquh+Q8QxsC5QKALzDHy7Qw8+T8wo4p5AZhq\n",
       "AkUtSD1rAYO9AcIYOBdkTQGhkoRPAMbSYWDgP4AwBs6FZDwCgAtWID35xsDufwduDIJLuBiBhhwa\n",
       "YMMUKiFkjDtRxrATKES5DYgyhhzAQpYuAAUAaqwIkhhoAAAAAElFTkSuQmCC\n",
       "\" style=\"display:inline;vertical-align:middle;\" /></a></dd>"
      ],
      "text/plain": [
       "<IPython.core.display.HTML object>"
      ]
     },
     "metadata": {},
     "output_type": "display_data"
    },
    {
     "data": {
      "text/html": [
       "<dt><a class=\"ProveItLink\" href=\"../../_axioms_.ipynb#equalsTransitivity\">proveit.logic.equality.equalsTransitivity</a></dt><dd><a class=\"ProveItLink\" href=\"../15953cfebb497c481d8be77ed0e16c42a27f82610/expr.ipynb\"><img src=\"data:image/png;base64,iVBORw0KGgoAAAANSUhEUgAAANEAAAAXBAMAAABnpbd1AAAAMFBMVEX///8QEBC6urrMzMxUVFRm\n",
       "ZmZERETc3NwyMjKqqqp2dnaIiIiYmJgiIiLu7u4AAAAU9Wx4AAAAAXRSTlMAQObYZgAAAoBJREFU\n",
       "SMe9VUtoE1EUPZOZZvLrJLQLFVFScKFUMcVC3UglhQotSFYiFiGrVqyLQcQoogQRKihF0Lqwm8GN\n",
       "n0AIWAO2ooNQBD+QlYggRBeKuokIdtOF976Zya+daOHhgXDe3Jt55913PwP8N1TlbdXv73pBvwov\n",
       "XssQUg/6+7pSwANezMpQCnW6njxwlkjPylBa6uR85Zyk64YMpe2dnJ+A2L1c7qIMoUC+kzdIwfye\n",
       "nPwgQ6nLojQUDs1PtDv6evQSIhlgBJjyO+aGCsIGvuOtvY0fjl5lXOGlfurxESBMEe+A4Rd3cCNK\n",
       "ShKw8Bw32+wGjMN06ATQjagtQyme5DEwuo7nDDdbDaTTXZWlBGxdJwcZV8nID9KqkF6gNg6UobDs\n",
       "gdnzDaXIQv+IN2+yopZdEoPh/Ve3RRRm/RfdFuH4R8Y74bgj5Oj2MJWm3aqj/M8fcXOA7ellq6FU\n",
       "1LJbNE7wNaO0otIbghwLtN3HvAugHLyM1vCsLaSwBY2aiWthrsJVdp2tl/agLNzfmm4vGfLyqH+u\n",
       "RLN1chPudT3VcXg1mKCKbsX+5TeXhZfCFr4VYR7DuNgy2ZynuOm9pVlaqUECp+vpqMCYLj582p6m\n",
       "TOwnHSbEO8Y4M2pCZXMPepn2YahJaQCpoHNXSlJJiYJWPIuaUr1zbPrLNHIwHMlHcM5Eb6BGpI7t\n",
       "ytaV1Np9WF7PpPZCnxHkYvDu7aYh6o+Ct/jyZKKIYRu3ynmiaGCzWVcypucWvTYIj5+AuirIRalv\n",
       "5l++Gu3DwdZNToDt2085TmPMoTXQO3wJNbP1o2kGrZ1MvkoneWAPObQWF/yVHrU+xhBesph8leYX\n",
       "OXKHpEKTudkfgDCcYn7TElEAAAAASUVORK5CYII=\n",
       "\" style=\"display:inline;vertical-align:middle;\" /></a></dd>"
      ],
      "text/plain": [
       "<IPython.core.display.HTML object>"
      ]
     },
     "metadata": {},
     "output_type": "display_data"
    },
    {
     "data": {
      "text/html": [
       "<dt><a class=\"ProveItLink\" href=\"../../_axioms_.ipynb#substitution\">proveit.logic.equality.substitution</a></dt><dd><a class=\"ProveItLink\" href=\"../8d36a51e21a3e1f2d1a576f0cfdfe721d403af1e0/expr.ipynb\"><img src=\"data:image/png;base64,iVBORw0KGgoAAAANSUhEUgAAAO8AAAAXBAMAAAARnwX+AAAAMFBMVEX///8QEBC6urrMzMxUVFRm\n",
       "ZmZERETc3NwyMjKqqqp2dnaIiIiYmJgiIiLu7u4AAAAU9Wx4AAAAAXRSTlMAQObYZgAAAvdJREFU\n",
       "SMfFVj1oFEEUfvef293bHKayECJYpIk5wcYqRyRGTBPUQgyiNonCgVuI8QfNIggWEq5QsLttDglB\n",
       "OTAemhRZJIVoc7UorE0QLXIYMIUiznszO7O3uznJQfDBm/123jfzZt+99+YA/pd4vS5MNqLYGPw3\n",
       "/63QFr586MHxURzMyQmJUc7EEEOcTInrIr4s9OCY1mQXf3es74shhjk21xvskbu0e786RW7zcFVi\n",
       "irUTZYY577n2sR85U9294wQlRy2AKazFKDPM+cLVeDY3d7eHSA/ReCGASa5GmWFOtsr158zMxx4c\n",
       "n8dh/cC4j28v33rFolmPEBXHrDsw74E2BaTHAWYxSOON6O5dquMRjb98bDrGpwSrkKeUuA9JytDJ\n",
       "0ZJtWAPI21wPgYl5llmZiu7eJen24ZDb8rEGejvPiuRghKg4xzItmGEFXeRaAN1lhkLc13Vx/AOH\n",
       "fNvHJqSJPBohKo6XaODnp9pcdbeACdfv9eBYaymcaMQ7DnBqXmpLOTZt7CnGtWk0L40ts3glmyL7\n",
       "uWM+SW2vKctiPyVoWeH5ErZfCnXmMwlfHeCcA72oQg2zY2h4R6fzTiRYon/vt46oL6bJk5gtDWkA\n",
       "qKivRGxYa6B7YpvOgpcceECnMGyu8IRiQXWQ5Ml6bxiayrGY7DAI/uagj2vuZbgDceWkOHAWRlyQ\n",
       "5SSOVOG0bRpPwWTwN96Wu/gGgGEcRjwfb6x8W8IcvR9xrDiwsXrRYr1ykCsYniwPSBVT/GUg4Bgn\n",
       "r1CopYEdl20BrwN4p5bZwXmuWqa/4g/ATWtUszX2gIFkWzmmSSG+ga4Do1wJXw1auAsFOemWiSm2\n",
       "JBTEVzEP7sab6RfsAY+btnJMk0J8A11ziYVW8IpE+RpJrQCn4GQdoHZl2upk+Gu7HLs5K92IrWNp\n",
       "YHIdjLolsZCJsOMgJ796mj3TFldxga+zSk3x15SVdYbiG4g04CECUfWxXtq54/icl0LF/xEMuiEO\n",
       "yY7mxDuWhr2W8t5t/RfNBeNeS11EOAAAAABJRU5ErkJggg==\n",
       "\" style=\"display:inline;vertical-align:middle;\" /></a></dd>"
      ],
      "text/plain": [
       "<IPython.core.display.HTML object>"
      ]
     },
     "metadata": {},
     "output_type": "display_data"
    },
    {
     "data": {
      "text/html": [
       "</dl>"
      ],
      "text/plain": [
       "<IPython.core.display.HTML object>"
      ]
     },
     "metadata": {},
     "output_type": "display_data"
    },
    {
     "data": {
      "text/html": [
       "<h3>Theorems that depend directly on subLeftSideInto</h3>"
      ],
      "text/plain": [
       "<IPython.core.display.HTML object>"
      ]
     },
     "metadata": {},
     "output_type": "display_data"
    },
    {
     "data": {
      "text/html": [
       "<dl>"
      ],
      "text/plain": [
       "<IPython.core.display.HTML object>"
      ]
     },
     "metadata": {},
     "output_type": "display_data"
    },
    {
     "data": {
      "text/html": [
       "<dt><a class=\"ProveItLink\" href=\"../../../boolean/conjunction/_proofs_/andIfBoth.ipynb\">proveit.logic.boolean.conjunction.andIfBoth</a></dt><dd><a class=\"ProveItLink\" href=\"../../../boolean/conjunction/__pv_it/cd54a2b9b31685812aa22a6f9ac65a0ec54dd2df0/expr.ipynb\"><img src=\"data:image/png;base64,iVBORw0KGgoAAAANSUhEUgAAAK0AAAAXBAMAAACL0NJjAAAAMFBMVEX///8QEBC6urrMzMxUVFRm\n",
       "ZmZERETc3NwyMjKqqqp2dnaIiIiYmJgiIiLu7u4AAAAU9Wx4AAAAAXRSTlMAQObYZgAAAsVJREFU\n",
       "OMu1lT9oE1Ecx79Ncrk2uZyZdNMMbhUaQXAQyaGhFByaoVEcShUxddHcIG1FarNoEKTNUle7WVEk\n",
       "oluGnOKgdbCDWVQwFQWXYmn6z7ZWf+/37uklkkr8c3B5v/d77/d5v3/vAvynp/pHVp3brj6hd1YI\n",
       "L1rE+i05Hm7QP/2WTJ6LQYsDd8R8vEVuuxvlhDu/ohZ2AtoikAOGaKafapFbkoPxzuVfVXFs0LsE\n",
       "zMijtUKL3N1yuDRgS9x5lx9epcPWgTkabg8Pj7aI9eXkWCzHeAx0FqUiGAUidGiQHF3JZF63yNWm\n",
       "JL56y2Hhk6w+sMOCfo18D6WAo8AgK/P8e3M53R1nKaaKxMF2ZNN9Z5RG4t4jIf28h5NyIXGs1C/W\n",
       "OiigvTA5LGNR1iKKcJQlVcyX8oDHwANX0xZzDx5LsTCLEblQtmG+EpGIfCDMx3/clDFa8K16ueaA\n",
       "9K4P6LLdcJnrTyZ7eY9RRECGeFqwabt/gWroRLia9yu8FClCm/VyQ/PSqTdAP7xcHznOkZK9e1GW\n",
       "RHhTkmvmDvDpxQwvfY7jme3lHgqyYNZg5FUeuC/pJ8IZm1TF8YuQewsyDxg8wr3ietNVenQBXq4l\n",
       "3fdtlLrVtyQoMqOTffuCKvikal99TWRGxDHJds9RZptpqlDVwzUKYTYO5WC414HbiJqLDtgSXoqN\n",
       "EdW++8fVhjbRLGYlnWXcWUpFwcOdTx/fYpsUzC/qXpAnQ3vyMLJrBAiIbIcJomWXkj03uBGFyhA8\n",
       "zUaCa0q2XXEP9wT8Na5VAb6auhi76m5fXbfzM/dD2keWjp6HvgW94smvj1K5iREbY1WMptTumd9c\n",
       "yLtK+LACvfct1XN6Od1T+Mk1qUMvfnUSTmgi3Xf9l+9kk8fMNSgM78T78XTq9+nWttyA3aA42ITr\n",
       "b9x4eVvuw0aF04Rr/Mt/VOtvjL8DRD+w3zAevUsAAAAASUVORK5CYII=\n",
       "\" style=\"display:inline;vertical-align:middle;\" /></a></dd>"
      ],
      "text/plain": [
       "<IPython.core.display.HTML object>"
      ]
     },
     "metadata": {},
     "output_type": "display_data"
    },
    {
     "data": {
      "text/html": [
       "<dt><a class=\"ProveItLink\" href=\"../../../boolean/conjunction/_proofs_/nandIfLeftButNotRight.ipynb\">proveit.logic.boolean.conjunction.nandIfLeftButNotRight</a></dt><dd><a class=\"ProveItLink\" href=\"../../../boolean/conjunction/__pv_it/40045ea1b0d5838ab2d85b085249b014729edc2c0/expr.ipynb\"><img src=\"data:image/png;base64,iVBORw0KGgoAAAANSUhEUgAAANYAAAAXBAMAAACFeawMAAAAMFBMVEX///8QEBC6urrMzMxUVFRm\n",
       "ZmZERETc3NwyMjKqqqp2dnaIiIiYmJgiIiLu7u4AAAAU9Wx4AAAAAXRSTlMAQObYZgAAAxxJREFU\n",
       "SMe9Vk1oE1EQ/pLNn80mLV7Ui67gQajSHAQPIgkaqrcWJBWF0nowVdA2h2Iroi0FqQfRXCrezEWs\n",
       "KBJQTz109VT10HjoRSpGUeilWLQ/KrU6b/ZviG0Oi/ogebPz7c733rxvZhf4j6Pq+8lmYQfL9e58\n",
       "Tj/dACrq4pUPKi0jLvZZ08Gae/S2xWzrCMIpso8B95Xvhg+umMyIHeCmfXnF8Qe6gS4Dw+p+4AJN\n",
       "0W4fXBPCjlsp1N/Z/FcdIE1AOoOXCizx8sJFH1zbhR2wOC52Faz0nnf2PEmO6RLek5lsgn5vYOCy\n",
       "D6rgsLjYbU3lSYPnULMjlVP0e11FRG3mLLCcz7/xwRUuiYuTFn31jsnGnKU4GovAYC/Q0E72XeAw\n",
       "0MP+Uf6/tZRrTfGTrggKXlAXRcwUXNf5/wMfD42HOGFrdXHi6SzNm1QSbgO7kOR06F+s821CvEkZ\n",
       "ESfQtCFE7KAIkLfzLQ2VlM3sMjDUzkYFg7ZmVoB5qo2gemYnkECcl/hp1cpNBsEVyZXsEjtwUTQa\n",
       "orR4mVo228aC1ssIWZuPEEec4moLSpNkmwlWzaMZhhNlhCuSq2G+3eNy0XW4KOkBzhDFswu9kSb9\n",
       "h8eVHOai18p5hj+nMFWQXAciovpcFIGi4NqmDHIkOL9j7uGnKSWh714O0XOIdYpOhlsmnvRCcmXC\n",
       "FY/LRRExBdc51RCIK7bgiGzMLa8h2quu9jul3BzrBSYZHgeeVQWXXoyrAA35fP6MQC0Zc0IsOZPQ\n",
       "6Zk15VB5SDjlpW2teppHQAk1OZPr4yCnKVFFwTWf61izo0YEiqDYLfZSr9sxCr3vGwUNGU7X6viV\n",
       "zV5T+48p14haueIIF5Bm7VB2W1KC6zi0rx6XiwJbZI8qyI5iF4AYdo+yxx4SjRkdRXQN0RlxXkFa\n",
       "1ioGbbV4KLifumVXqt9kHqikO33r4zKibbPaKsaXckeLHleSKqb/p5k2rZPx0PXfKRsMbhZzte82\n",
       "YUckYP4ZICrflf11uUIqLUdqnPs34NIK60S4JInrfgM8VmJJ1TjNDbj0f/zRE/rrEX8DLp7KEuso\n",
       "EPoAAAAASUVORK5CYII=\n",
       "\" style=\"display:inline;vertical-align:middle;\" /></a></dd>"
      ],
      "text/plain": [
       "<IPython.core.display.HTML object>"
      ]
     },
     "metadata": {},
     "output_type": "display_data"
    },
    {
     "data": {
      "text/html": [
       "<dt><a class=\"ProveItLink\" href=\"../../../boolean/conjunction/_proofs_/nandIfNeither.ipynb\">proveit.logic.boolean.conjunction.nandIfNeither</a></dt><dd><a class=\"ProveItLink\" href=\"../../../boolean/conjunction/__pv_it/6c6cf740054e4cfdcd9e1ff7416524b0580365fa0/expr.ipynb\"><img src=\"data:image/png;base64,iVBORw0KGgoAAAANSUhEUgAAAOEAAAAXBAMAAAAPVjVNAAAAMFBMVEX///8QEBC6urrMzMxUVFRm\n",
       "ZmZERETc3NwyMjKqqqp2dnaIiIiYmJgiIiLu7u4AAAAU9Wx4AAAAAXRSTlMAQObYZgAAAvdJREFU\n",
       "SMe9Vj1oU1EU/pq/lzYvaXAQXGoGB0ElEYROkqKhFByaoRkUihUxdVCTQVodat+iQZA2S13NolYU\n",
       "eaJbh0Zx8Gcwg138wSgK3Sz9t5Xqvefc17zkJRki9cDpu989757vvvOXAv9dyv923GU2Ag55obQk\n",
       "wduWGY/UAUdr3nn5J5E4H4E3BtIHcm+iZcaJOmBSwWvW/m5BtQgYIB0RD22oVcKA6QT6F5Wp62rf\n",
       "vSl0GXgDUr8we/OtMraVneDq6SwTXVTGwJq4xgbwFaT6/dHRsZaDur8OMGcj9PQcUAHwhYFgl3jm\n",
       "WVfT6Q8tM55yAlf5TpEW81yVQGcPtBviezuSrMeBYTLk6O/tlVRvjE5W+85Vlu2Z1MBZXt6yv8Lg\n",
       "G+L8bY9wkvfjJ2YG5SXaDdZ9CBmU8EXOexiBMMWiilBZWZ4DT3i1SxTBZykFBkIiGE/SooQr/NJs\n",
       "FqH38hvCrEEEKAo/fpPZ2wPXmpNRWVkGgChXh3UPd48F3IlEP5W+bsJDwcIZySo43AusgWKQaurx\n",
       "HJmDJrwlJ6OysnwEBtGAUSSjjWImvNIuIBoD7woVxpBBo8Jtpsn8M4ZXWQejZSUJLUFXad1jZyQg\n",
       "ajFIWZmyku+W4enPV6KK4WNUy+ra0Zlnl+BgtKxcjZszvarVLtgZJdCEZ/+CVWpTVjtq6zLOBium\n",
       "KIivMUtnp0VhlCuM99LptLFtZdRhQO9iprvWLWIKzMuTW/IOMplBqx0PywFodQfaZDGH5lIZIjon\n",
       "Apuv/sahipWQL4nQLwaH7IEQYGRvDnpmXbj1RNTc82aWE33UOP4IK3Tpy5tFnCpLuIrGahm3rYQ6\n",
       "83AtqcGWtU85O3CpVrGJmnJKDorRUNRy0LagzaGW0bIyGi9jLKnatGDv2ULzAfVQKcn3VWj9n0RV\n",
       "Ta+k+vI1jLFtK6GOydTAzWa/Vg1EDhoeNvZb2tY+xxG9jpvLDYFDPFnWKuluythdx41mNgIOeaq0\n",
       "SopNGYs7/C+XZ4f8/gVy985Qn0xZwQAAAABJRU5ErkJggg==\n",
       "\" style=\"display:inline;vertical-align:middle;\" /></a></dd>"
      ],
      "text/plain": [
       "<IPython.core.display.HTML object>"
      ]
     },
     "metadata": {},
     "output_type": "display_data"
    },
    {
     "data": {
      "text/html": [
       "<dt><a class=\"ProveItLink\" href=\"../../../boolean/conjunction/_proofs_/nandIfRightButNotLeft.ipynb\">proveit.logic.boolean.conjunction.nandIfRightButNotLeft</a></dt><dd><a class=\"ProveItLink\" href=\"../../../boolean/conjunction/__pv_it/d0569cc6bbb5356494003b40b073257ea35f9a6b0/expr.ipynb\"><img src=\"data:image/png;base64,iVBORw0KGgoAAAANSUhEUgAAANYAAAAXBAMAAACFeawMAAAAMFBMVEX///8QEBC6urrMzMxUVFRm\n",
       "ZmZERETc3NwyMjKqqqp2dnaIiIiYmJgiIiLu7u4AAAAU9Wx4AAAAAXRSTlMAQObYZgAAAupJREFU\n",
       "SMe9Vk1oE0EYfZu/jWaTBi/qRSN4EKo0B6EnSdBQvaUgERRK48EUQdscxFZEGwoSD6K5VLyZi1pR\n",
       "JKCecsjqqerBeMhFKkZR6EUs0h+VUv3m291kshtzWNSBZL753s68nbdvvl3gP7am65n9Uuyp9Lry\n",
       "Of20GFAXg1cuqLxJabDf6A7YrtHSy6mhGfjjFB8F7ovcdRdcQVkRc4Eb5vCylVeywGgMBXE9cJ46\n",
       "NeuCqyrFIUNC7b3Jf8UCEgQkkngpwDLfnr/kgmuHFCsGx4XRvCHvWWvPNUq8LuMDhZEotHuTk5dc\n",
       "UHkK0mCP0VVqMe59/ZZVTtLvTRMBsZnTwGou99YFl78sDU4Y9M3bOgeLhuOoLQNT48DmYYrvAIeA\n",
       "Mc4X+f/mSmYozjM717ahCOoSeI3/P/LjofYQx02vLlefLlC/SYhwC9iNCMuhfTOebxShqAgCne61\n",
       "oVBIrpF31IQoWzgVw/QwB3VMmZ5ZA77Q2fCIObuAMEJ8i5/XDW2S8Kw5uewo+mLS0eIb8aZSaTa0\n",
       "VoHP2HyAOEI007skPEmxHmbXPGowHK7AX3dy2dEuXCS6wgrReuZB76NO+9nmihT40HsrOYa/xjGf\n",
       "d3A5UCgliWu7CCgRZn1nW483QYr5frQ1xNhB9ilGGB6oPhmHg8uBIqBLXGdEQSCu4JJlo9nW8Zqm\n",
       "vWpiv/MizaK8QI3hOeBZs811N5fLFbqgho15y4adyeg0Z0MkxEMLW8fLu63Z9jwUYdRIIzPBi5wi\n",
       "oUqd+8p2QeGpS9veR7VuZxHaxHda1BezqtaxX6nUVbH/oEjNCNuIVfx5JNg7pO5A3M7lRIGtco3K\n",
       "yxXFPABSM2uU2faSaXS1CHUDagN2LicKrqet01fuXWQeCNGtuvVpFWp6wbuOuZXMkZKNK94F7f5O\n",
       "+UPjYrFof7dJccAxResYqfK78lxPLp+Q+LAtOdiTa7BzeFEm7vkN8FiYJW5L6j259H/20eP76yv+\n",
       "BsgCyxFaw+qZAAAAAElFTkSuQmCC\n",
       "\" style=\"display:inline;vertical-align:middle;\" /></a></dd>"
      ],
      "text/plain": [
       "<IPython.core.display.HTML object>"
      ]
     },
     "metadata": {},
     "output_type": "display_data"
    },
    {
     "data": {
      "text/html": [
       "<dt><a class=\"ProveItLink\" href=\"../../../boolean/disjunction/_proofs_/neitherIntro.ipynb\">proveit.logic.boolean.disjunction.neitherIntro</a></dt><dd><a class=\"ProveItLink\" href=\"../../../boolean/disjunction/__pv_it/6ea10832119e22c54d518e03ef206e975463385e0/expr.ipynb\"><img src=\"data:image/png;base64,iVBORw0KGgoAAAANSUhEUgAAAOEAAAAXBAMAAAAPVjVNAAAAMFBMVEX///8QEBC6urrMzMxUVFRm\n",
       "ZmZERETc3NwyMjKqqqp2dnaIiIiYmJgiIiLu7u4AAAAU9Wx4AAAAAXRSTlMAQObYZgAAAvpJREFU\n",
       "SMe9Vj1oU1EU/pq/1zYvaXAQXGoGBwelTxC6qC0aSsGhGZpBoVgRUwc1b5BWh9K3aBCkzVJXs6gV\n",
       "RSK6dWgUB38GO9jFH4yi4Gbpv1aq955z38tLXpIhUg+cvvvd8979zj1/KfDfpfRvn/sK9YBHnimd\n",
       "l+B104wHa4DDVe88/5NInIsjaID0ntybbJpxsgaYovvS0qC/OwXVEmCBdFQ8tOFmCcMFL9A/yUwF\n",
       "DGfHvyl0BXgF0lZhDuaaZWwpecGVU6akkbeI0E54XbjxC/gMUv3u2Nh400HdWwMU5uLykRU6TRuh\n",
       "mODuFM8c61o6/a5pxpNe4CvdKkKxZWmnoxfaNXHb9iTrMWAEcMw3V1N9Rjn1jmTLy7ZMavAML2+4\n",
       "X2HwBT2UPRFRP9dHz/HZIelEm8W6B1GLEr7EeY8hHKNYVBAqK8tT4BGvdogi+Cglz0BIHBNJVUcB\n",
       "Ci/mTETfyjvEWCMIUxS+/SZzsBe+dS+jsrIMAl0mrWw//L028CcSA3y1eXxn42nJKjj8i6zhIlfU\n",
       "wwUyRwoIznsZlZXlPTCEOowiGS0UM5zAAzaKxsCbfJkxatGo8BfSZP5h4IXpYbStJNFl6Cqtu9yM\n",
       "BEQtRigruMzzDH4ZnoFcOaoYOSr3A8rtrtknF+FhtK1cjZuzfaoPz7sZJdDEya2L/M0hngiyHbUN\n",
       "WQsWK6bJlZeYI/uMKIxSmfFOOp22HCujdgt6JzPdtr0wFJCpC22xFxdKTjsekAPQ7g60SFeiC6kM\n",
       "vXBWBDZXecfhspVQKInoTwb73YEQYHR3Fnpmg4oVV7kUMyuJfmqc1jgrdHlW0EQPtaE4qsuoZnSs\n",
       "hDpy8C2rwWa6p5xZ2cJHqsaFmnJK9onRUNSy0LagLaCa0bYymihhPKnaNO/u2XzjAXVfKcnXNWgD\n",
       "H0RVzaym+nNVjIZjJdQ+lRq83ujXqo7IQcPDxu2lax3yfKLXOOZSXeCRgMlaId0NGbtrHKMV6gGP\n",
       "PFZaIcWGjMVt/pcrsE3n/gUjB88wCi/D2gAAAABJRU5ErkJggg==\n",
       "\" style=\"display:inline;vertical-align:middle;\" /></a></dd>"
      ],
      "text/plain": [
       "<IPython.core.display.HTML object>"
      ]
     },
     "metadata": {},
     "output_type": "display_data"
    },
    {
     "data": {
      "text/html": [
       "<dt><a class=\"ProveItLink\" href=\"../../../boolean/disjunction/_proofs_/orIfBoth.ipynb\">proveit.logic.boolean.disjunction.orIfBoth</a></dt><dd><a class=\"ProveItLink\" href=\"../../../boolean/disjunction/__pv_it/f979cfc1b658c41823f668f85654e0f5f421d65e0/expr.ipynb\"><img src=\"data:image/png;base64,iVBORw0KGgoAAAANSUhEUgAAAK0AAAAXBAMAAACL0NJjAAAAMFBMVEX///8QEBC6urrMzMxUVFRm\n",
       "ZmZERETc3NwyMjKqqqp2dnaIiIiYmJgiIiLu7u4AAAAU9Wx4AAAAAXRSTlMAQObYZgAAAshJREFU\n",
       "OMu1VU1oE1EQ/ppNsm2y3fakN83Bm0IiCB78SdBQCh6SQ6N4KFXE1otmD9JWpDQXDYK0udSrvVlR\n",
       "JKK3HLqKB60Hc7AXFUxFwUuxNP3T1uq8mWxdVxKJPwu7772ZN9/8fPPeAv/pqfyR1e6G2sf0ltXk\n",
       "eZOwWkLGQx75k2/J5LkIAjHgtlqPNYnbWstyXH18PI3xdxsQWARywCCt9FNN4pZkMN4qfL+CDBc5\n",
       "j3V6l4AZcR0oNIm7Q4ZLfZYCU1G1cwbhVXL2BZij4dbQ0EiTsL6cjMXpiBry9E6wINhJHshpkAJd\n",
       "6e9/1SRuYFLgKzdt1DDzLOlIQL9KkYfSwFFgANhS3VjOdAkHEYcklSzaspmeM46E4fAOca4q1UAT\n",
       "huLHSr1K10YJ7YLJaRmLwkUnwp08c8h8IQ4eAfdrkpZIzfFoGsKZXyTTFsyXKhNVD4TZ/YcNyTEB\n",
       "36ob1+yT6HqAqCWiDkbRksmU7CnjoyhOK2zari2QN1u4vDfLqvYiAmU3bmieg8JroBduXOrbFiHw\n",
       "JO6KYkmlNym4Zm4fey/2s+pTDE8tN+6BIE/MKoy8UwfuS/q0S8WG5dRCUymnClIHDBxRMn8tmmjp\n",
       "4QW4cRMSvm+91OXcJUFVGZ3sWxd47T/I/HH76muKJJXHBNs9wzTrpoihigvXKITZOJSDUTsO3EZc\n",
       "0uCmxHm+stW+e8ecDS3KmTmbybLyLJWi4MKdzxxn42Aa5mfnXFAkgzvzMLJrUvsrQnl2Kdl9nRtR\n",
       "EWAovICFOLct2UZjLtwT0KrMVQG+qnMwtnsOymHPem5rtocsbT0PfRP6rKu+PirlBoYtjFYwknZ2\n",
       "z/zmQN5xJu9XoKfeEJ9Ty5nuwg9ckzr04lc7bofGMz3Xfrkn6zxmziMw3Av35Wn/vE9PNMT1Wx7B\n",
       "/jq4mnfj5Ya4D7wCuw6u8S//qIm/Mf4OHOSxvzSERbcAAAAASUVORK5CYII=\n",
       "\" style=\"display:inline;vertical-align:middle;\" /></a></dd>"
      ],
      "text/plain": [
       "<IPython.core.display.HTML object>"
      ]
     },
     "metadata": {},
     "output_type": "display_data"
    },
    {
     "data": {
      "text/html": [
       "<dt><a class=\"ProveItLink\" href=\"../../../boolean/disjunction/_proofs_/orIfOnlyLeft.ipynb\">proveit.logic.boolean.disjunction.orIfOnlyLeft</a></dt><dd><a class=\"ProveItLink\" href=\"../../../boolean/disjunction/__pv_it/eb45adf15a3b0d0f10e9e7493be4dac879d76bd00/expr.ipynb\"><img src=\"data:image/png;base64,iVBORw0KGgoAAAANSUhEUgAAALgAAAAXBAMAAABKV5jPAAAAMFBMVEX///8QEBC6urrMzMxUVFRm\n",
       "ZmZERETc3NwyMjKqqqp2dnaIiIiYmJgiIiLu7u4AAAAU9Wx4AAAAAXRSTlMAQObYZgAAArVJREFU\n",
       "SMe1VT9oE1EY/yV3uYTc5QxOOhnBwUHpDYKDfxI0VLcUJBUFSR1MFbS9odg4SEtB4iCaRXEzi1hB\n",
       "JINOHXJuFYfGIYsUDKLQJSiatio1+r33LnfP0AY59YN7f77fe7/3/XvvgP8preBbw7VBqJECGmzw\n",
       "KhD5AdEd6WfNdbLDc8Ap4DGb3w5E7u66w73gQ4u3oTGgkEIMuEqz6FgQbl1ExXjLIqtaviZNXToD\n",
       "o4oYQZFKEPKQSNe1gk2twuxLCE2dFEtVmEkYj6anrweKyl7R1eop1pXpuys05+l7TedcAtaKxTeB\n",
       "yM+Kkmk9cOASlwXQAUoT1D8EjgPjgAfdW80PW36KSGK2T+ihJLd4+46HmIdEEalTOgvPl9ngPrAH\n",
       "5ixPzGeRnyT0JBtoPcKllFRmPZRkO29TmBlx06uKhfo60M7QYDcdCZ379WGDQ5EMwusyuVlwfHIP\n",
       "JeHGKNlsThjcwIrQa3S6zsjS1DsiyU+bHErUEGnI5PH2iE/uoT1yCl6IO44zeCL028hq47sgN2f5\n",
       "TVNqRQ59tLBoy+SHNOkWeCjJTtZQESdEnEpwT02Tp+o3ERaMH2MqFec4NLTwbAIyecYzVUZJLrPr\n",
       "R+SxT3yqHnafGlbmM8ybRVZEfPNL1Dk0D7xoSeRGRWeb48Vi8aKEikrjYda6okiutLwyV3a03AUh\n",
       "dqLZzE9y8AL5XpHI2/nRrsumSSjJfno7dpVhTH4VSbkh1KM/s9mbvAbmmG2MNGIjzQuYgjVkSeSn\n",
       "oXzxyT2UGWX/fqmO9l0ys1ez2EdZdqJlRLuINqWYh8mGDZTcFPsoM6o6+AbHe8/9+zVEc8vKBuZX\n",
       "8ycrPrlJRTz1w0lzNxUJ/YOHeqX/nZfGmgw4m+2eGkx+om9+cAtyxd5sd3Tgb063+hTOFuTGv/5z\n",
       "q39P8QvA3bDV2z1EqwAAAABJRU5ErkJggg==\n",
       "\" style=\"display:inline;vertical-align:middle;\" /></a></dd>"
      ],
      "text/plain": [
       "<IPython.core.display.HTML object>"
      ]
     },
     "metadata": {},
     "output_type": "display_data"
    },
    {
     "data": {
      "text/html": [
       "<dt><a class=\"ProveItLink\" href=\"../../../boolean/disjunction/_proofs_/orIfOnlyRight.ipynb\">proveit.logic.boolean.disjunction.orIfOnlyRight</a></dt><dd><a class=\"ProveItLink\" href=\"../../../boolean/disjunction/__pv_it/5ea0fe5f41473c0acbe3ab1323775fffb10a7bab0/expr.ipynb\"><img src=\"data:image/png;base64,iVBORw0KGgoAAAANSUhEUgAAALgAAAAXBAMAAABKV5jPAAAAMFBMVEX///8QEBC6urrMzMxUVFRm\n",
       "ZmZERETc3NwyMjKqqqp2dnaIiIiYmJgiIiLu7u4AAAAU9Wx4AAAAAXRSTlMAQObYZgAAAoBJREFU\n",
       "SMe1VT1oU1EU/tKXP8xLDE46GcHBQekbhC7WBA3VLYJEUJDGwVcEbTOIrYM0FCQOolkUN7OoFUQy\n",
       "6NQhcas4GIcsUjCIQhdRJG1VSvXcc14Sc194yFMPvHvPPd9937n3nHPvBf6ntP3/OlLzQs0U0FTK\n",
       "K1/kB6Ub11lznezEAnASeKzGt3yRO3/d5l2wanEbKACTKUSBKzSKFPxwxyQq5jsV2aDVt6SpS2dg\n",
       "VhElKFTxQx6QdF2dLFJrqPXFxVInw+sqEkmYj2Znr/mKyj7pavWU6sr03RHLOfrekJ8LwLptv/VF\n",
       "fkZKpn2/AYe4LEAHmJum/gFwFJgCetDdtfyE1U9RTzSU5Ca37znEHBJDUmd0lp6vKOUesBeJEifm\n",
       "q+QniVhSKeHB+tJQkh3cpjB/wklvMCWJ3gA+ZUjZQy4R43193GQolMHIhptcR0nYnZHN5mTBTayK\n",
       "PUzeY2p6mvqGJPlpi6F4DaGmm1xHu+QUvABvHKfxROzbadXmDyFPlPikGTWboc8WlosuchdKsks1\n",
       "VMRxidMcHK9pCkTwu4QFU0eUKYizDI0uPZuGi9yFklxUx4/Io19kyiHnqlFlPq92s6yKiD2+RJ2h\n",
       "ReBFu0/+0Lbt0hBUKo3DHN6SzV1q98rc2Nl2JgSUx0QrP8Pgedp7ZXDlhSEoyQG6O3aXYc5843LB\n",
       "dTGf+pnN3uASWVDlpX4LFZHmAqZgjVo6uRtViyoOnoTD2iFLdGsW+ynLjUgZkS1EWtDJ3ahaVNX7\n",
       "BG/rXvcf1hHJrRibWFzLH69o5NYQ9A8u6lX9nv9ND7vfFm182Zv8mDYe8yQf08YRz2cuZmmGhid5\n",
       "49+93MG/p/gFg82x1Dor51YAAAAASUVORK5CYII=\n",
       "\" style=\"display:inline;vertical-align:middle;\" /></a></dd>"
      ],
      "text/plain": [
       "<IPython.core.display.HTML object>"
      ]
     },
     "metadata": {},
     "output_type": "display_data"
    },
    {
     "data": {
      "text/html": [
       "<dt><a class=\"ProveItLink\" href=\"../../../boolean/disjunction/_proofs_/unaryDisjunctionDef.ipynb\">proveit.logic.boolean.disjunction.unaryDisjunctionDef</a></dt><dd><a class=\"ProveItLink\" href=\"../../../boolean/disjunction/__pv_it/649b217f630723f6793532d6058966734572d6dc0/expr.ipynb\"><img src=\"data:image/png;base64,iVBORw0KGgoAAAANSUhEUgAAAK4AAAAVBAMAAAAtL8hrAAAAMFBMVEX///8QEBC6urrMzMxUVFRm\n",
       "ZmZERETc3NwyMjKqqqp2dnaIiIiYmJgiIiLu7u4AAAAU9Wx4AAAAAXRSTlMAQObYZgAAAspJREFU\n",
       "OMu1lU1oE0EUx//JZrtpPtbiRT2oq3gQqpJDb34kaKDHCpKD4vdhi6g0B2ktRQ1KqRSpvRS8uQhV\n",
       "RJEFj1IaBKUqQlTqQRS3olKoSClYC0r1vZnJmo9dPTmwM2/nzfzmzXtvZoD/VLy/aqMuJi4peeql\n",
       "aNp95cOwWSkLqLDwLGxEB3DD/xGSlhOyRvP0TNCUnfTtA26zPBLGHWFaVIgZyY3LDcbnqSoFTbnK\n",
       "WqCXGuNoCDbpMjeWkaLgPpCa58tUPQ3ywXtaOOWI9fXREG7EY67Gy6Y9yV0nFMbYd6pnAqb0HykC\n",
       "ZhtSt/r6zoW5YbP06hA1Y9K/Ubn3ZHKB6pYAe9xJChpOAIu2/SaMe0Byicls5uqOUGxr/Ul1Ym9z\n",
       "AnnXy9SMA3uAbtE11My9IrnkA/YFc+M8C6al/aCmlY3XL4si0wQfkKWY4BqwCabYW2pBOX54eLCs\n",
       "uCsll2IWsyQ3YgmrYHzjpq3JEgsXeBMbyBgkBeYT72yucBCuM7dRjVpQWVvBrJJWCG5HPr/ISTzf\n",
       "iNXy+S6OcpaMKadFSt6bJvn4+a/ETXxp4O7H3TouVasDuZTqkZLkmqUOsZJrA49ERJ32w2rYGkU7\n",
       "K46l8AOnQCt9L6p+0N+JIo8AadNt0g/o3s09MRxSB8gtrK3695SixXa4SmphVb86VqnGA2eMqpM4\n",
       "xZkprognmITmSHv17WrcuKJppz0lcWqJOPd4AXnGUWhZVhMjbIs5XejxtNe2fZL9m1DjtlZvm8Hq\n",
       "vROtwDi2VMTjX9QVt+qxveuHkOpZotUu8m7YFr2IbMbMSXt9bqSouLv8+2xVDWcm7DyZfgJuoVCX\n",
       "0an8MFC9RJyme7L2rrkTxk24Svi4CKPrLT5b4lzY5bp7so4b//MQmKUw7mxjx03yb20508Q1cv5/\n",
       "rBjG7fzXK2XQO/RKyRPyHRrwlffDZiUz+A1Rb8Ei/Oj95gAAAABJRU5ErkJggg==\n",
       "\" style=\"display:inline;vertical-align:middle;\" /></a></dd>"
      ],
      "text/plain": [
       "<IPython.core.display.HTML object>"
      ]
     },
     "metadata": {},
     "output_type": "display_data"
    },
    {
     "data": {
      "text/html": [
       "<dt><a class=\"ProveItLink\" href=\"../../../boolean/_proofs_/foldForallOverBool.ipynb\">proveit.logic.boolean.foldForallOverBool</a></dt><dd><a class=\"ProveItLink\" href=\"../../../boolean/__pv_it/d40d2f60ef66daf5542d59156613ac49d719b2620/expr.ipynb\"><img src=\"data:image/png;base64,iVBORw0KGgoAAAANSUhEUgAAAPsAAAAXBAMAAAA/2iRsAAAAMFBMVEX///8QEBC6urrMzMxUVFRm\n",
       "ZmZERETc3NwyMjKqqqp2dnaIiIiYmJgiIiLu7u4AAAAU9Wx4AAAAAXRSTlMAQObYZgAAA5NJREFU\n",
       "SMfFlk1oE1EQgKfZ/DTZzbZ4UMSDEYp6EXMQFKU22KDixWpNi0VpFNyiVBqwNHgQg5de1OaiCB4M\n",
       "QrUWLEGsIBa64kUqag6KIrUGUemltrRG29JW583b3bz80UIUF7I7O2/e++bNm5kNwP+90n9jEfn9\n",
       "7pUZ2pKmpPhAueKDFJNflIn3+Ly0ZLL48MPfweCbCJO2cUUt/hrZNLjHXq+WjffE8VFZKpSzAM41\n",
       "AqiHGRO+CyVXuGw8LdFVYliaB3DPs0Pi4VE+oZ9KguGZx4542Xja19FSqTGNtAwKFTw851vxJNRq\n",
       "Nk25G41egPLxI9FoNFVi2DkFYJ9DYTN/Tw778H6aTYOfmvah5LrnjKe7qDYu4Ks07WyixCpVMYBJ\n",
       "djotPP3Tt3R89BK+HqAN1+8IHWmjQR/dr2dCeyPgMheUEsW0OwW83Q9OSu7KSAG+LgHSWyZcptfP\n",
       "UMdy4Abha0BF5+ApwH0a5Gmo4MmkwAnQpJ3QtATcztVyM48vi7cFYJzk14byeV/fMWN4+EB/Czm1\n",
       "ytjgxQZ8bKD5XpBZKII4MZ3F2wOgLMFNOjl2G8/XMjPy28BjAxliotqKq6mDIV32qA8MTzrMgpym\n",
       "SAaDB9nsOpom6142OgqwX9i9Vwd7DNosPMY2V0tm9QJ+CMZInMCdPdr0PS17YEDnw4sg4m1YATEL\n",
       "r8ZYK1JnQHkn4Cf98DIC1RaeV6ygJbMnAn5cCjBxlzMMCout7LEN8l1LGRO/1khYb7UVfGjbw1ya\n",
       "7zdOiuO39vfqIMUsvC2QpyWzGgHv7KRQBxwp1tAQ7zg0mi17frWzHof4yimWHBx/jZWrxzxGA9+X\n",
       "ZRKeMwUtme0Q8O7jlJxxeYpXBAa/kTc555K5dq+RRaThhQcVzMjZkIs/RdWejxe0BXhYx6SJUNMS\n",
       "1GqalkR8gir0a8cP81O0BRvz+m5QOmYRd4lPU9gJVcVz8XO0z3A2+OE8Ld02ivhXTGoGaQa+GLtP\n",
       "5PehCqEn8KZrdoZIDl76RRYpC68kXN05WjIbEfHkGub6AtgjHN+c/wFWBH88SaFv9DTm4PsyVGhj\n",
       "Ft7hkxayWoemrdbOABzOw6tY0J2LunqS2s6d9oL+J3zZxwWvhUv8+D62JExmpVAby9+9+Y5nX7T7\n",
       "d2bFfcvjv1kSdrrtBVq3yZA/+lf2aXRZXsl+nLUM3q2bEma7XqC1/4P/ngHx5ZkZzXQx7UDZsD9Q\n",
       "v/BHzxS7+AAAAABJRU5ErkJggg==\n",
       "\" style=\"display:inline;vertical-align:middle;\" /></a></dd>"
      ],
      "text/plain": [
       "<IPython.core.display.HTML object>"
      ]
     },
     "metadata": {},
     "output_type": "display_data"
    },
    {
     "data": {
      "text/html": [
       "<dt><a class=\"ProveItLink\" href=\"../../../boolean/_proofs_/foldInBool.ipynb\">proveit.logic.boolean.foldInBool</a></dt><dd><a class=\"ProveItLink\" href=\"../../../boolean/__pv_it/768c25286834e2d519e3c28d5b79fe169910e93c0/expr.ipynb\"><img src=\"data:image/png;base64,iVBORw0KGgoAAAANSUhEUgAAAO0AAAAXBAMAAAAVatXDAAAAMFBMVEX///8QEBC6urrMzMxUVFRm\n",
       "ZmZERETc3NwyMjKqqqp2dnaIiIiYmJgiIiLu7u4AAAAU9Wx4AAAAAXRSTlMAQObYZgAAAr9JREFU\n",
       "SMfFVj1oFEEUfne7t/eze5tgJxLcIqiIwhYWNiGHBlQQk0YFRVybPQUhWxwJCsFrJILRWGil4CGI\n",
       "iCKLVlY5LAS1iUVAxMONqAQlGCyOFKK+mdndmfvZOZETH9zOzPfNzPfmzZuZA/hPFvyTWdO+jH2G\n",
       "v0VSedVv3V2sGGlFC/On14fOAGRsgPsEuNpv3XDC+TZYS/srX2oAVYApbGadPsvqLMzG+6BDV7dQ\n",
       "9CVADqnMtT7rppjeuZMea3+90ngT6ubrhwCW0ad709Mz/Q7zNlb4CxYtlbmAr3crBlfDhTZd923n\n",
       "yKzdZbr8n9LHWFIHt+u0MhXwOI88x0ZhAmAvQJmCs6wz63FegGJTalGtBz1Hvx9glO1zme9v49cm\n",
       "4iHu8TCYVZoE3xnFejgChHbEPeW6NbgTtdvocFhMb6BfCy5MkNJ0xLx6iq30IEARdBqNTz8E3bwv\n",
       "QBxfAZ1kazIdGnVIGRsbp4rpoUYjzitwtiO1hrPUizT8j5YEXc0TII6rto4ZUUmmRV3csRSNpFIS\n",
       "1guOxnTNKr1cFN8VdFMixHE8l7iCfRKa2UbyQQ+LgzTOi+26JM5Q3kN9hROC7u4IUi+hXY7wdAke\n",
       "Q7YkoZmdJSmPurk12jzYootxNkgcblB3XsCCoDssQhxXqvAZVE9CM7sbbrb2kzZXLa5rHHfYOYIU\n",
       "iY65dHgy4LrXRahl4oJVkdHMduKZ3TwLxuQ6TejsRTt6F5qvD2AlRxwxyOiMB6M2190SQVprIB08\n",
       "FEdldHhPem03yn6Wz5Etx7UdAAN1rrsqQnxBBt4MD0tSGloqCfYgqnxsQnb8HdfFo8UhPnEG4/PN\n",
       "7qTDayVjtb2DCWZWOzGmq3d/oXJks+Q0s4pUV/WSdM3uL/LNyGE5jc5J/+c8gSRduNV1QHzx9KD/\n",
       "wtQwM7o9dIX43PSge9tvpYXIP1vpZ/sAAAAASUVORK5CYII=\n",
       "\" style=\"display:inline;vertical-align:middle;\" /></a></dd>"
      ],
      "text/plain": [
       "<IPython.core.display.HTML object>"
      ]
     },
     "metadata": {},
     "output_type": "display_data"
    },
    {
     "data": {
      "text/html": [
       "<dt><a class=\"ProveItLink\" href=\"../../../boolean/implication/_proofs_/iffIntro.ipynb\">proveit.logic.boolean.implication.iffIntro</a></dt><dd><a class=\"ProveItLink\" href=\"../../../boolean/implication/__pv_it/468b0f952ed299315e5578d38fcceb95afda5fef0/expr.ipynb\"><img src=\"data:image/png;base64,iVBORw0KGgoAAAANSUhEUgAAAPEAAAAXBAMAAAAo+LSlAAAAMFBMVEX///8QEBC6urrMzMxUVFRm\n",
       "ZmZERETc3NwyMjKqqqp2dnaIiIiYmJgiIiLu7u4AAAAU9Wx4AAAAAXRSTlMAQObYZgAAA0dJREFU\n",
       "SMfFVk1oE0EU/prtZpMm2dYfBC81Bw89KI0gKog01FgKHhow24JQqkjTHsTsodh6qI0XgyA2BxU8\n",
       "2YtYKUhEBaGHRvHgz8EeLIJamoqCCNXS9E9bq29mdpPdpLU9pDiwM7vzvn3fzPfem13gv7VM6V06\n",
       "UutCntE1ym5el5R5vxiOrGZ7/icU6vRDDgD32PO1kjIb3vpXNe4A5BkgDpynJ+VUKYk9QmzvxGqB\n",
       "lJbomgVeAS6yy8lSMpcJxgttujFB+5PC5rIWaE2/gEka7nZ395ZU7BoxpEb8Fg06DKOzCvBV00ib\n",
       "nY9G35eU+aRI8MzttHg+xLoew1gZhHKZRKkgEY6aC0rw/uac1hDgr5qeXHreqzumRc7YcUWwq7z/\n",
       "hDoRb2nLOLUJI+3qjg+3shW5KQS7ocZ5RsyIxKiCp4rrYrp847f4fwo8sOOKYFt570efiO0TEfYa\n",
       "YR7Rob5l+2Kqw8Nl+bLMTXIQjgUrs9qWtviPALW6DVcE4zuQQqEmXjGTRt0o2/lwmrETUpqmBEj7\n",
       "+Kruj3GTLwV51MpcMSXWfov3H4BWO86dtMEMZopVGZdSPSZme4T2s0ydAcGsxvmZI6Wi3PQjgBe6\n",
       "lfmwU6zayWbVLLwJO87IEhMG7GQdLccnguEe5+2dCDoTtikp1EZHPZsrN/ZSO/zoHKzMQdpaczQa\n",
       "7dzGtrI03JDJ42Saj14KmDDRzjJtyblrWjxfZ92UnitnZZGlCRPkBn/lJUa4bZCyKGNh9iY9hgf5\n",
       "BGkah7fajgO0gBWGO3R9ZQ5WjPdYOOrz5byPpTmrKpSxCKhjWow7aichkxbmKa3Z8CC163CGof6E\n",
       "DQccaLHCsJeO5F0JeGOLIvKsdIzzWY7Nhhp51blYqnsZo6yjjqtGfmsDFuYWSFk81qixVKlMwpFF\n",
       "Dudh85GwCTNOT73gaCF3auEZPpm720Ne00oCygqUMUucHVQBy/hO7RuTpi+D3jByOJUZhnIwIz4D\n",
       "Gzjohsybz/NQmj5S5g3OaY3JPLNKRdn1O21+dSv6tcgVnqF5nBS0wTb2zRWHl6V5LffOAtvFNXBK\n",
       "0cewa33m8sKIHPwH81q44qas/zf0sHAivUHm9Kb+GpZv8q/nX+S68mb99E0nAAAAAElFTkSuQmCC\n",
       "\" style=\"display:inline;vertical-align:middle;\" /></a></dd>"
      ],
      "text/plain": [
       "<IPython.core.display.HTML object>"
      ]
     },
     "metadata": {},
     "output_type": "display_data"
    },
    {
     "data": {
      "text/html": [
       "<dt><a class=\"ProveItLink\" href=\"../../../boolean/implication/_proofs_/notIffViaNotLeftImpl.ipynb\">proveit.logic.boolean.implication.notIffViaNotLeftImpl</a></dt><dd><a class=\"ProveItLink\" href=\"../../../boolean/implication/__pv_it/6742cf490b993905ecf887a97c27449b35a87a190/expr.ipynb\"><img src=\"data:image/png;base64,iVBORw0KGgoAAAANSUhEUgAAAPcAAAAXBAMAAAAl5sTiAAAAMFBMVEX///8QEBC6urrMzMxUVFRm\n",
       "ZmZERETc3NwyMjKqqqp2dnaIiIiYmJgiIiLu7u4AAAAU9Wx4AAAAAXRSTlMAQObYZgAAA01JREFU\n",
       "SMfFVk9IFGEUf+44O44zThsEeoo9SARF7UEq6uBim3RTotWTuB5ab7ZQpCHRFISdag/ZpYunMgRZ\n",
       "qKDw4FQQZYR2kEC0VqhulpR/+mPa+773jfPt7GwetujBm+9733u83/fe9973DcD/pPxf8bKnpBBI\n",
       "TwRPMeFlmdhKvFhQpgIMzZalRPNlUGPA+S5bu1YmeFW+WKhaDLKsSAF0RsHGKfI5HLRUmeBjAcKr\n",
       "9SDLxhxyHCZwOkH7VLNlgu8sFrTBVSFjhEqrqxzPAEwOwTxOkc07vb0XysQO2cWCYXwh2cBYodvV\n",
       "diG/zkMYw2W8kk7PbOn+TPCyyJg6JK0JYZ++RvIh9ulztUs47wGobiU+6u5rgH9vLiebYzwCyaE2\n",
       "JCk2CysDh8XMkZe5YEWVn1T02+eQ3omSVpbGHsziqNvE9WDxRJmUJjMCRoRNwpLDsKxwaTIK1VEq\n",
       "YRw6GMaMENjWtWWue0i1v5ssDSyEBWzFUIS4Bgy+1w+UJjUOoVU/+C1ZIcjqdMS2YVtUrDVsCg2J\n",
       "xAob50UjaTsoCgQ0EEhZJDacGr650WmursmBOuUH75YVOp109QKdWTA4fur4Fo+Rpi9Hlhi1+cMD\n",
       "t+wGfhq5NFd/jsHzjB88IitEiRwJp9yershK4FzQWVHzJX2O0xvR5pjkyu9e2qG7iS1XQgdX7x+7\n",
       "3wM+cMV2FWoa6RKvuzjLQz2ZOhI4F84jX6e1G+yzkPHa/CJ6MwXDIE/mCxjn6mGAx3kP/DaC2aG4\n",
       "rABIIrqZNRZFH/GmoV0KgdfCabLmN1iT1+ZKXd5rNahgx2FNJ8n4FCY4Wxh5So/LCoAD7RhLsm3d\n",
       "BQ/JbwgKWte3DDzbuEKFaXv3d9tGInGVZaYqSgwmA1Uz0MiziQeyP+YDD6VchZFEOsm23A7KV4Bd\n",
       "ZFErt2Ct7yZCb5b/4RbXq6C9WImONgDaOmjTvjNPWRgZKaxPSCMsPtz/Gn8cADaHAKEEjQjm9H4F\n",
       "tJZZZQ2Gl5PHsz7wGLwFScHea6slBWd/OXCi9JP6J2JHYdn+t953q7n0SDbSJOfCgSb/TBQIwVSZ\n",
       "IS6ggyXAP5ZwoufEpF9e7d8S/J7gAnJKgOtOiQj+1Z9lgeOnwTaj5UH8BkBp8HGzb7pvAAAAAElF\n",
       "TkSuQmCC\n",
       "\" style=\"display:inline;vertical-align:middle;\" /></a></dd>"
      ],
      "text/plain": [
       "<IPython.core.display.HTML object>"
      ]
     },
     "metadata": {},
     "output_type": "display_data"
    },
    {
     "data": {
      "text/html": [
       "<dt><a class=\"ProveItLink\" href=\"../../../boolean/implication/_proofs_/notIffViaNotRightImpl.ipynb\">proveit.logic.boolean.implication.notIffViaNotRightImpl</a></dt><dd><a class=\"ProveItLink\" href=\"../../../boolean/implication/__pv_it/93acd11154bde9128889720515b69434910a22f20/expr.ipynb\"><img src=\"data:image/png;base64,iVBORw0KGgoAAAANSUhEUgAAAPcAAAAXBAMAAAAl5sTiAAAAMFBMVEX///8QEBC6urrMzMxUVFRm\n",
       "ZmZERETc3NwyMjKqqqp2dnaIiIiYmJgiIiLu7u4AAAAU9Wx4AAAAAXRSTlMAQObYZgAAA35JREFU\n",
       "SMfFVk1oE0EUfsk22aS73VYU2lPJQURQbA4FRQ8NNRZvDdrUkzRFmnqyC4qtlNogSPVic7CCeOlJ\n",
       "K0KJaEHJoVFBtCKthyLUVlNQD0K02D9ra+ubN7PNZrOxhyg+eDvzzUze996bNzMB+J+S/itW9hQE\n",
       "tvJU6AQDr4rklgL5QJqwWag2LgQbLoHLD6R32di1Isk96XzgmbNb6YgAtPgghl3U89jIkSLJkzbg\n",
       "9brdyroEagDGsDvG/XTFiySvzgfywLLAGKEUMiZHdYDxQZjFLqp6p7Ozp0huZywfKMp3jhWMFdqN\n",
       "2VbUN2lwY7hMl6LRqS3Nn7UfFhlzDZrGBNjnXeP4APt0GbML2D8DUBrietjwq4++NxbDDX6KwGRQ\n",
       "JoMePTvi7Qg3nYKDosRS5nojoPmkVV7022ZQPoiSlhaSI9Ps5zGuO0GjRKk8TWoFKBWs4zYZ5P1x\n",
       "n2noCcB9KOUjDmxOMo4pAZjr8iLNPeK1v5uvVLAQMngUnRVcy0AhXz/xNLkC4Fy2kt+iYFrMATYB\n",
       "1OjcbSg3vKrdBLXB4BJrZ8VBknfwKJBQQSJpjquSKiPnhidpuiwBrgkrOe1LaYbX7E36vsNgac/s\n",
       "yfFTRR4f4TNdCb4So1Z/Zsm1WC3tRiJK09/88EK3ktM+HHLzKNxsWpsHtc840464iZyAlxU1L44Z\n",
       "krfimGPySlayaYf2ejZcwgJBqUk+PAMWcomyG8CMNEej0dPb2Z6uJhvSrGBoacpETuACaj8fu84+\n",
       "GT17zHvRmioUBijLL2GUpoewltJZ8tvIFnOy21qNK+LCdB3HPYiBWi3OER0a7qUAVAsdvNToBqvP\n",
       "HnOpKp09auBg26FNhvniNsx8PDfyiJeRZ8LN4sKU2nRwh0BbMcid5jcEgdz6Q4fnG5cJM0eM+7t5\n",
       "Ixi8wjLj8XEFlZG6dKij440Wa/wWcif77QmQ5mEkjMJqqDwOznmAXXxFpfnmqbTcRGhNsz7c4noV\n",
       "shftpeQ+kNdBnrTseUTDyJzo8Bp8RfnCMtWbhp4QPQ4Am40NKCD3hJJ8XAK5cVpag6HF8NG4hdwP\n",
       "70FrjMC5Xymjqkr7w01XsT1W+En9k7Ct0GLWtz7vVuPy2LzooqkvDMjmPxM5wF5KdK45sr8A+ecC\n",
       "RrwJ0ek2j3ZvSf5AaI6kCpB7UwUi+Ff/LHMMP7NfM1wcxW8Y9+5GWhd5MwAAAABJRU5ErkJggg==\n",
       "\" style=\"display:inline;vertical-align:middle;\" /></a></dd>"
      ],
      "text/plain": [
       "<IPython.core.display.HTML object>"
      ]
     },
     "metadata": {},
     "output_type": "display_data"
    },
    {
     "data": {
      "text/html": [
       "<dt><a class=\"ProveItLink\" href=\"../../../boolean/_proofs_/inBoolDef.ipynb\">proveit.logic.boolean.inBoolDef</a></dt><dd><a class=\"ProveItLink\" href=\"../../../boolean/__pv_it/e4b2da0c82a93edf3fb4a80ce58edbf8f34075a60/expr.ipynb\"><img src=\"data:image/png;base64,iVBORw0KGgoAAAANSUhEUgAAAVMAAAAVBAMAAAAJExCCAAAAMFBMVEX///8QEBC6urrMzMxUVFRm\n",
       "ZmZERETc3NwyMjKqqqp2dnaIiIiYmJgiIiLu7u4AAAAU9Wx4AAAAAXRSTlMAQObYZgAAA5FJREFU\n",
       "SMfVVk1oU0EQniRNnkleYvGiImoKguIfPWjxUlpsQLzYQBFEKcZLa0FsDtJaihhEaQ/a5mDBm70U\n",
       "kYIEvCgeGjwUbVFaoR7E1FS0FEGQgrGgWHdmd/P+dl/ODnybl939dr7dnZ1dgP/HKoq6YJFDby8V\n",
       "dYcEfMxMqUj1HEksYMW8s/2YALNWZ0ts/PLG7j6AcLNn0FA7B34uuNrCZbIsdClIKgLaMDGbLTzG\n",
       "ijFnpzGratzFjwSLa98mAfKekbdUOPDzh9dxKEMt9E1rG5IkDQGOU5m3MMB+jKyjT7zIgTv2qeKR\n",
       "Gk8x2pxn5BcCzN781Uk1J7HskP39CELqnAWcV7jg6BOocDAbupij3+SzcjkvpEZLZwBWPCPvEWAz\n",
       "n/ilk5psxLIFi2XwJwipKxbMR4ODN5x9DggwK87wg3DirW1V97NNiBTcRzHPgbsSX9dJhT7abzb/\n",
       "aAb8CUIqOpKo9vR8cPY5L8CGqjws0bSv2gKgdZateCzjPjmTHMyORv9opU5hgTJRri9BSEVHEixw\n",
       "eqlyRPa5KwDwGdooZiM5S2p5cxd6o/U4N4p2m1aqxME2ORX6TeKpcbTdIfUBiM1vkSSLYB+uJhUd\n",
       "SeyDJLk1a5uwTQCP6k3ysOo4Vs9ZAAQbXWsQSHGwJjB+ale1SR7Bk5KkIwip6EgiAXGa29faJqwL\n",
       "QCid7qTk0IRZUR4ryB5kTe70sjXFwTJyOl3VSm2jMiGWx48gpKIjiXgpQaf9yZJHapDNOw/WfSCl\n",
       "RnylsmJHHanhQqxkSVUTFFKTeRISKvbIPjsFgB26BG30d49UHgDddAm9p70scECUYdFxRXkDwMgn\n",
       "QJIsgn04ZQBAL4VNA3RLOVcEjIK8RxpKDqksAEz3dRUpccCQ4o6zpL7i/zrmayQdQUhFRxIwQRfw\n",
       "a5iRfaYE1nAwukeS72xSzQtZRbKSCYWCsL/im6zY+V+ukXQERbKCAOaj5NLZWvcjHAN7R8Ds3yAX\n",
       "17tqz5Xq4mlMM+43UnCBYFzayMHs5h2vVJ5Cb4kHQ0aSNAQWC4sUC+hIAkyUGM5Bm3wtBXIcdrt/\n",
       "r+zYcu/Ful3A15Iix4UqFsnfbBersMPsOMqAxDcFf1fobdpTI98VvhYrekn1HU3bHX6pgtH5UfEI\n",
       "1K2O7yNQb2sKUl1HEiq7JqC3hpynymjn8LVTClJdRxIqM4ocenuqebUP+zuONyuf+nUcCfwDov0k\n",
       "9Q88fGgAAAAASUVORK5CYII=\n",
       "\" style=\"display:inline;vertical-align:middle;\" /></a></dd>"
      ],
      "text/plain": [
       "<IPython.core.display.HTML object>"
      ]
     },
     "metadata": {},
     "output_type": "display_data"
    },
    {
     "data": {
      "text/html": [
       "<dt><a class=\"ProveItLink\" href=\"../../../boolean/_proofs_/inBoolInBool.ipynb\">proveit.logic.boolean.inBoolInBool</a></dt><dd><a class=\"ProveItLink\" href=\"../../../boolean/__pv_it/8f5f21c4cf95a3b040f3163441743dfcff68076d0/expr.ipynb\"><img src=\"data:image/png;base64,iVBORw0KGgoAAAANSUhEUgAAAKAAAAAVBAMAAAAz5vjYAAAAMFBMVEX///8QEBC6urrMzMxUVFRm\n",
       "ZmZERETc3NwyMjKqqqp2dnaIiIiYmJgiIiLu7u4AAAAU9Wx4AAAAAXRSTlMAQObYZgAAAiJJREFU\n",
       "OMtjYKA2eIBFTBuKcQIeBdziF0CM0yjCzA4QDGJeQNWx4lt/47UJDAzBDDjFV4L4fSiyHA8gGMT8\n",
       "gKYzQZuvbxVQnAGneBmQx56AIrkbioHg7D8MjQybgLp4FuAUBzmFdQKKpBwUA22a+h0ixLfj7t0G\n",
       "qMY5LA8Y+AQg4q97795gQBXnWV5eXotiHlMDBAMBN/cniJjFOSSXgDyVCQningeY4t/S0m6hGMi6\n",
       "AIKBQI/zD8SleQivMd8BcZaCeWUPsIg7MzCkg8XaYXFyAIKBHlVg/g0WYiuAa9S9/3EDkJ4B5qUz\n",
       "YBFXYeAD+48H6jsGRgUIBnqcgf0rWOgZcuDvngakFcEWJmAT52XgBjvn6R+oHL8CBDMwmLi4fAML\n",
       "Kd69i4gUNiZgeNiDLZQFCsMjBSbOfYAXHBLrrmIYCCQkwEImyC5hY0iAGghN/WjifA1g5cwb0mBe\n",
       "ngDBDJxAfBEs9BZDI8TLF7CKpzuBRFgYYqFybAcgmKESiPvBQiwHkDWCvHYCzPNhwCY+FWzPSYb9\n",
       "UDmuAAgGx1U+ODj4LiFpPLoNnmzeKmATZwRFN9/V0HxoomK6AMbsiT8KGI79bwWLVQTDC4FcEVBw\n",
       "NEHSZ6sBFnEekEGsBQz2UEkGcShGBlN6IbEMBbCsx+kBjWU0cQYGHWDMwgLqFBTjAVwbCIg/+cbA\n",
       "7n8Hs/jCBV6QJM7uAMF4gDtp4tVQjBNwG+AUBwCgb67pvS5ycwAAAABJRU5ErkJggg==\n",
       "\" style=\"display:inline;vertical-align:middle;\" /></a></dd>"
      ],
      "text/plain": [
       "<IPython.core.display.HTML object>"
      ]
     },
     "metadata": {},
     "output_type": "display_data"
    },
    {
     "data": {
      "text/html": [
       "<dt><a class=\"ProveItLink\" href=\"../../../boolean/negation/_proofs_/closure.ipynb\">proveit.logic.boolean.negation.closure</a></dt><dd><a class=\"ProveItLink\" href=\"../../../boolean/negation/__pv_it/72b98988c14db13303ee78323c7b5433c84d23350/expr.ipynb\"><img src=\"data:image/png;base64,iVBORw0KGgoAAAANSUhEUgAAAJsAAAAVBAMAAACj9YEXAAAAMFBMVEX///8QEBC6urrMzMxUVFRm\n",
       "ZmZERETc3NwyMjKqqqp2dnaIiIiYmJgiIiLu7u4AAAAU9Wx4AAAAAXRSTlMAQObYZgAAAnlJREFU\n",
       "OMutVEtoE0EY/pI0SZNs1uJNJBhFUHxADt6kpGihCmIFycXn4mFjUWgOkiKiBqEUSm29CN7cSxUR\n",
       "ZMGTpy6C4uNSDxURg1tRCVZFegg9iPr/M7O7ea1e/OBj55/559v/MTPA/4X719WoLdkGLd/b+TFx\n",
       "kQcvw+T2KAYYJB5td0rPnV3LjQHxAnCPJ2bD5Ga7FueI/R1eiajd+GIBNaBKZtIIUcvYki2Jvqfq\n",
       "aFaXXCZPWi/oT7QcvxEiF3ElA1w8XQH0AWmsXK+/UXIp5zCwTH+6OzFxOSzX7YoB7AXuw5gYx2bc\n",
       "ILptlGGCwmqa5tswuWOKQafd2w595oVRdYNkB5+SkT4C7AfKYnKqW25G0ccHFLmUt4RRDmpX/72R\n",
       "vimq31boNVHkVVXs6elJR/mtl4zXGVz/PK5SBNjMi7rR2opHZEWppllkxO5PP7m4pROwrZUtym9V\n",
       "UVRqiDg8PMoiRZF4jv7htQLGDlr+QQfByYoaPFii8Zkr30ku/TVELkqNrnlyPOFHByMh5fSaOPYx\n",
       "2wSeiOZZO08pvw2K3m7qXHbAT3axU46TRXkfT/XhpDjWJFfKebU7r6jkkiTXTxHgmZg51CZHyWq8\n",
       "/6b4y3MsIGbJ6OJ7ld+8fygIBTR46y9/7ls+kNOOG/KgIMKt15dK427stWme49qlld9uRYnqpilo\n",
       "42u055qwk5MF7wlovjrId5n1Ne5EvIJiQR+S0flykYpkB7xLljogO+th2R/tAtY5GFHJXvIuvNV9\n",
       "3zkcu/cluu8NPjaRHH2Hz3lxjE0n/IFiNHqryevQijtUu1ZcUGzHSG+5vsq/nv6kLdn+ChZ6Oz8E\n",
       "/gA3Vqps4Em40QAAAABJRU5ErkJggg==\n",
       "\" style=\"display:inline;vertical-align:middle;\" /></a></dd>"
      ],
      "text/plain": [
       "<IPython.core.display.HTML object>"
      ]
     },
     "metadata": {},
     "output_type": "display_data"
    },
    {
     "data": {
      "text/html": [
       "<dt><a class=\"ProveItLink\" href=\"../../../boolean/negation/_proofs_/untrueFromNegation.ipynb\">proveit.logic.boolean.negation.untrueFromNegation</a></dt><dd><a class=\"ProveItLink\" href=\"../../../boolean/negation/__pv_it/490c148b705a435cc350dcd45aef3fb19d06d7950/expr.ipynb\"><img src=\"data:image/png;base64,iVBORw0KGgoAAAANSUhEUgAAAJcAAAAXCAMAAAAx8S2TAAAAPFBMVEX///8LCwsYGBgNDQ0oKCgQ\n",
       "EBC6urrMzMxUVFRmZmZERETc3NwyMjKqqqp2dnaIiIiYmJgiIiLu7u4AAACwKje0AAAAAXRSTlMA\n",
       "QObYZgAAAdJJREFUSMfNlul2hCAMhenCDrK9/7tWYEaCRqSnTtv88OjMNX5cQoCQfxrx/pTMXWsW\n",
       "ffqXZ/ka2rO7B4uL7ilgGm3avQwgVP6BZ3D7/N/cZF2fxyRMI9hhNBK8k8nVcwjqHizX2e5DimO7\n",
       "EC6/gOFJew8XhRzayqRn7Oq4Ii1wukS4qeg7KxxxCWFApgZyEZU9SipHWO7hkjAPi8Qmf9AofsG1\n",
       "5AdRVArYbaD1bFjjh0kyACOu7/LU6k2aEp8f+SoGXDabzrIiAvt9Z/1oOfjjJFHWD0knOWNXz8Xo\n",
       "s4W5NswoO+sHXDtlCUDKRY60T8AEueLipblkptBW0RKDnOPaKfdc9Y6ay7k/4VrnEPRo7ohSU1x7\n",
       "ZcXY2s3jJtC+s7+/tc4+nse15kFDEfn9Ka69ssr91rrwho/b1XP56rEF6f2aziWca1E1DK5sSxwu\n",
       "JNU3fLy6sD6Rzd/W8loxUnapEL8UrqzfDXVTo6kY41VKRl7bRTjse+YxfX7LLnUpO37NdVQ+xqhH\n",
       "Dc/KmbMXPewitTrg8j/hQpRg0z2NMHNoWXYnrlibjRYp+BEXx5UT56U5u8zMhvft448WP7RL6Jdw\n",
       "EX1+8GUzBzhOXsP1OyH+5KtfxagUrnrqUXwAAAAASUVORK5CYII=\n",
       "\" style=\"display:inline;vertical-align:middle;\" /></a></dd>"
      ],
      "text/plain": [
       "<IPython.core.display.HTML object>"
      ]
     },
     "metadata": {},
     "output_type": "display_data"
    },
    {
     "data": {
      "text/html": [
       "<dt><a class=\"ProveItLink\" href=\"../../_proofs_/lhsViaEquivalence.ipynb\">proveit.logic.equality.lhsViaEquivalence</a></dt><dd><a class=\"ProveItLink\" href=\"../1f8ca2a379f5bda03a6d21311aef5c4870e6df220/expr.ipynb\"><img src=\"data:image/png;base64,iVBORw0KGgoAAAANSUhEUgAAAIwAAAAWBAMAAADgE2koAAAAMFBMVEX///8QEBC6urrMzMxUVFRm\n",
       "ZmZERETc3NwyMjKqqqp2dnaIiIiYmJgiIiLu7u4AAAAU9Wx4AAAAAXRSTlMAQObYZgAAAd9JREFU\n",
       "OMutVD0sg1EUPfX1h/a1xGITg10HCYmhQoMYRIJFDJYyVhcGkbQTicTPQIwGgiYSEgaTmkV0IBIx\n",
       "1GCuoEX93vf93a/VgdZN3vfuOe98J+/d94MU/iWS8nNa+v8HX8HgxQR2ZL5QxjxeAGcdJilzjZbu\n",
       "ouSAqhwqqTiOpdJtPA+AyEBsTU3NlLEm5z1gfwWyY2PXZdhUR4E0FaUTGKflhYcGqYPvcLNbHa7Q\n",
       "VCZezQx1TRj/miwQWIdySX0jfGSIE2CXulY/IqraqalMLGrgTho2Jgsc98aHZeqFJ0FdEDhPQamj\n",
       "go+yDWN7O8SnsTsmC4T18+tJeGV2A/QAt+Qo7tmGsTcBe1S3YRb4MNYZbZbfR4grYB/5NozTfpwZ\n",
       "tWEWSsZY6HiHrGguPkLdBTVHkm0YN8U3aT5zFPMWVj02WqxIwq1N+I2abZ1tGG9bNplZOI16wbYn\n",
       "Yb+av1NbTrEN45DFhtm78NOeTgpJVGv3IeQ68tWCbRi/qqS2KGYLI0Dlc80i0la11mCx0TANKM8W\n",
       "MasKwr04QFV/h6tno0+x2GiYBrYzflazqmgIuWX90xYbHYtCpaEqGi3yIGTr82xU3PLjldFVRUNe\n",
       "CsSW8mxUnPghjf3yibL/6bn4BqN6kIG1YFUsAAAAAElFTkSuQmCC\n",
       "\" style=\"display:inline;vertical-align:middle;\" /></a></dd>"
      ],
      "text/plain": [
       "<IPython.core.display.HTML object>"
      ]
     },
     "metadata": {},
     "output_type": "display_data"
    },
    {
     "data": {
      "text/html": [
       "<dt><a class=\"ProveItLink\" href=\"../../_proofs_/notEqualsInBool.ipynb\">proveit.logic.equality.notEqualsInBool</a></dt><dd><a class=\"ProveItLink\" href=\"../0964cdb517a602567f119a9610542d8c3e2df75c0/expr.ipynb\"><img src=\"data:image/png;base64,iVBORw0KGgoAAAANSUhEUgAAAKYAAAAWCAMAAAB9nBcwAAAAPFBMVEX///8LCwsYGBgNDQ0oKCgQ\n",
       "EBC6urrMzMxUVFRmZmZERETc3NwyMjKqqqp2dnaIiIiYmJgiIiLu7u4AAACwKje0AAAAAXRSTlMA\n",
       "QObYZgAAAoRJREFUSMfVV8cW3CAMJIXe4f//NYiyNhhYnFOiw+rZHpvRSEIsQv+HhfevENv7pRk5\n",
       "uenIu9UK3l/X9uw9ynq/NKmmtzn9EpyKQkWFvdAX3uj2WB0K23Bf8Wyhm/q2goBEBRWM+eClaLGL\n",
       "M5bW9v6tmClt5oQmsqQGlPFNFK7PaOLQ+9diooD7S6t8MjXS1A6x8ME7I7P5w/5RvV+X8Do74q4I\n",
       "VS4s1GwJzvgowLw5o8lN76WxTGrLHyUguk4JJr8gI1Ay/FYaIsyTTr1rjzKe5e8JedhArvMhLe68\n",
       "Q/iTDK6y/f4Fv5/NwCASoaDhB+l7guW0Nr2PEbfQM57At4I63MYw6bypa2u6FZNqxCEQkdNIruIM\n",
       "Yt1CVteHBQ/vW3dIM5LOQ1rYZCnCxiGStYlZIBovHPbVHi0ErlRWwQNFH/6OZhZ2sjWpMZcaqpJG\n",
       "OtCczogPTSRuNFPCGzr1A7GMtmEonhsP1r2HtqD3octBmp8/ikSXzhzUshiNSfcHNCteyLrHmQAZ\n",
       "rAyCRVEiiodPuM47WdrChr2YSEG3iqKGuyWYuQ3NmvSK17zGRK5OTioFkm7bofDaZlK8jg6JFIi0\n",
       "u8rMaqZbJLruG0VOsqDpeFu74W/VFW86sBQMGwqP+LsPwpo0escGfIoJSMvrxxXpZupwFilHD+Ex\n",
       "a3XV8NccgBzT++aDx50Gy95PTPPF2cfPhiXSTPWdvh+u0FFG5b1QZj0SRRJXB4fNAWKybTAPy+na\n",
       "p+9OnCM+JUbzlEUg7HKYVqj3B7mZmDCLRQnseJI0Vjt8oinlszShmFjvT8REOlVmrTAm39Hc4anM\n",
       "0U/PQa2t5SJ5+38Rlr5jucW7ooBB/4b9AfILHlxEhVHRAAAAAElFTkSuQmCC\n",
       "\" style=\"display:inline;vertical-align:middle;\" /></a></dd>"
      ],
      "text/plain": [
       "<IPython.core.display.HTML object>"
      ]
     },
     "metadata": {},
     "output_type": "display_data"
    },
    {
     "data": {
      "text/html": [
       "<dt><a class=\"ProveItLink\" href=\"../../_proofs_/notEqualsSymmetry.ipynb\">proveit.logic.equality.notEqualsSymmetry</a></dt><dd><a class=\"ProveItLink\" href=\"../142f124dff1286bc3a1a7614a61793788632c0a00/expr.ipynb\"><img src=\"data:image/png;base64,iVBORw0KGgoAAAANSUhEUgAAAKEAAAAXCAMAAABUHN/sAAAAQlBMVEX///8LCwsYGBgNDQ0oKCgU\n",
       "FBQJCQkQEBC6urrMzMxUVFRmZmZERETc3NwyMjKqqqp2dnaIiIiYmJgiIiLu7u4AAABNCf5tAAAA\n",
       "AXRSTlMAQObYZgAAAktJREFUSMfNVgly5CAMJNkk5gZx/P+ri7DBYGOco5xdqmZqxpag1WpJEPLf\n",
       "r/Abh1CYv7dq+NhR/Pb7f3gKIOPz90pfvBAM4ZvyVz9G593OnF56In5ZApFPAQT4JoUpr7YJUJin\n",
       "EC7fppCEJcNUefnHykTfqHSWPIm8RYnL26cQim3nYPMvFQ+UStbn3AJXBsQqDSuQ5Gwh1SfYmHWt\n",
       "S3/ttpZCaERVxoJc5/X2B79rtYcUhfOOLGtODSaA4tugP8HGLB2CXcpwDYwZIvBUKacU2i0Isz6m\n",
       "S2mJ4H6GUF23vEjLaFgwc7GvbMrPE4TvB7HMOKLz4WcIJyKJRRwGFchiz5keOC5wQJgyXLp+UikF\n",
       "zsqskn2vaBF2loTasUc+z1ThIR1L1YVP6/XF59VurXIQoclyImBrSTYgw9uWAUhUhC1DDqslz3L/\n",
       "SB8YeGSvIiCNdSn5nEKn1lqCFaFb68MIX4tVV0GqQNNjkEOEnWVR8dmjNoxMWgJHo5upMCnBEZlC\n",
       "VNA7N4mPTVA85Y7DlQ53yyCvPDIKX80ARFRTCpONDdbWwtWbiF1VDqaItX1iYRcIN0uZ8vv+pnOW\n",
       "zx7rNg0M240uI+7uhgfFpMKxOrcklYNLZ9E4rOXdsu80R499/CduPZ7YTf/bDmLhRLERiWVEgDQb\n",
       "DlIPEe6W+Hg/5+jR3r5wrkr7NQpncyQhVOogqnE/NPupJ4+2nZukwn5u3lLIJ6OYqRxwfy+Rl7fM\n",
       "YmDHNxkFX57zuUWwOYUYtL2fKa5R1snjtxf/F4f+BTXlHex98CG5AAAAAElFTkSuQmCC\n",
       "\" style=\"display:inline;vertical-align:middle;\" /></a></dd>"
      ],
      "text/plain": [
       "<IPython.core.display.HTML object>"
      ]
     },
     "metadata": {},
     "output_type": "display_data"
    },
    {
     "data": {
      "text/html": [
       "<dt><a class=\"ProveItLink\" href=\"../../_proofs_/subRightSideInto.ipynb\">proveit.logic.equality.subRightSideInto</a></dt><dd><a class=\"ProveItLink\" href=\"../d4113fad0d92b942ed717e4508c11482c9ed7ebd0/expr.ipynb\"><img src=\"data:image/png;base64,iVBORw0KGgoAAAANSUhEUgAAAMEAAAAXBAMAAABACzadAAAAMFBMVEX///8QEBC6urrMzMxUVFRm\n",
       "ZmZERETc3NwyMjKqqqp2dnaIiIiYmJgiIiLu7u4AAAAU9Wx4AAAAAXRSTlMAQObYZgAAAs1JREFU\n",
       "SMe1Vk1oE1EQ/pJNNskm2QR76i0HDwEppuDFgyS0RYtFWrSKqGC9NIJCFirWi5qL4EGqB3vqoYsQ\n",
       "qi2WgCVQc2jUmx7MTRCR9BIEL8WWKhXUeX+7a8OKYjrwMm9nvjffzs7MI8CeS2tPogarQr+k1WSb\n",
       "N92JGx/dGjpxjO0OSUs4Bzxhm5kuvXqqDFyyvAHJcJ1UZKJLDHkbmKcVryrLayBKhQg/6BLDWgZ4\n",
       "OwYEnOquA4mF6emb3SpwidYovW7Wsej0tD05+f7vzk/x39gfEN8Ac5v0OdIVG7dbMCijQaBI50qn\n",
       "x4udRzIiKHdGbP6g2b4E2g5whELiHmAEN7BGR6nU+2HSL14ATzvPyBbgTl3aHvl369ZiZYFt9gGH\n",
       "w01M0mCkgSTiDTIOUY1afgzcOSdtn3wZ9B9y84UmOVDFd0prg4gbSRb5AzDsmwN3qo8YyvmOQ9Nl\n",
       "wHxL2xQMZpkNoLmJxDvSSwMrFCBYkw0nGIST8jVWDgzKZhdAfkMoMPJjkqGX1lnE0+IroTjAYDuL\n",
       "F0gZraMB6q/PKavfkwN3alSt5dBEL4IFBRy+S1J1wHwcuFyldQc6AROsxrMsN6MsYrE2AG71oeZh\n",
       "4E4WOBOlkmllF/gbGCVVyAqtcRwkMOtWBFjWukrwK/89jhEPA3fG2KunLMmggB6weebniLT00WrX\n",
       "LxI4ytJKMOaUvDi0tCbarcfDwJ1Btu9HTmw48DL/Sg7YlQC7/Xj3r7t3FrPdsPJG2SCFHpoXl4E7\n",
       "zSY1xmPYSNgKKEWBXSFIqGmyei8pk3H/FIvUaK+eXyaFh7WyyyCc+AjzyuzzFsIZBZSiwB6ZQdLW\n",
       "bYhh9kpDqogVqnrngcuq1FEXyMUBe+QaYvWTbHasXfeKJZVuZ9HB0JZ6zgHKSbazHbMXkZzPdn8+\n",
       "pWJ1u5MhJl+84AClvW7/x4Vf8D68EiX7x/8OvwDdgcJMzIcRKQAAAABJRU5ErkJggg==\n",
       "\" style=\"display:inline;vertical-align:middle;\" /></a></dd>"
      ],
      "text/plain": [
       "<IPython.core.display.HTML object>"
      ]
     },
     "metadata": {},
     "output_type": "display_data"
    },
    {
     "data": {
      "text/html": [
       "<dt><a class=\"ProveItLink\" href=\"../../_proofs_/substituteFalsehood.ipynb\">proveit.logic.equality.substituteFalsehood</a></dt><dd><a class=\"ProveItLink\" href=\"../1d1deba862c90ad7a095be6803bec640d55fe7610/expr.ipynb\"><img src=\"data:image/png;base64,iVBORw0KGgoAAAANSUhEUgAAAK4AAAAXBAMAAABg52lgAAAAMFBMVEX///8QEBC6urrMzMxUVFRm\n",
       "ZmZERETc3NwyMjKqqqp2dnaIiIiYmJgiIiLu7u4AAAAU9Wx4AAAAAXRSTlMAQObYZgAAAopJREFU\n",
       "OMu1lE1oE0EUx//ZTbLdzXaTW/EiEbz1soLgMaENVTwV/Dioh/SyQTwkIFi0iIuXXkS9FIQeXAS/\n",
       "Wiw5xEProREvogd7UAQpkotBvBjU+lHqx5vZ3dnNZovi6kAys/+Z+c2b99484D+1zj9kjXq9XgTW\n",
       "2OBpElrrZ6XyvEEDuexLh4C7rL+cyMyvQHaE+iFx9yHgDHVKNQlW3gRU+uGBkHSHH5K5moSb+0Cg\n",
       "DRrsFJJRgH57evp8Ijdke0D6GyDZgXYS+GxZr36z87TXq7GzeeK9J09mHPo41zp7vwncBMaBGm2p\n",
       "HzlcCy0uuiCuKo7vSSeOW3Igv2DBapMDHH09RSl2DdgNg13gIXAvtNiLJFez/Lbs70Ycd/XgwjGW\n",
       "ZimyRUOup5rALmAYOToIFeBZZ4DL1XnBfRvHrXvb8sQ1kOY7SxTO9jCbWAcODNrL1Zrgps0Y7ncE\n",
       "XLK66XENey/LjI/QX9I9WqPjIa6rFgQ31xS0xbGWe4i84Skpnq0XTFYayA+ojdGftLlwgrqldHVH\n",
       "iMtV2RZcSbxUrTPhcnj6uvlG7tQbq8gR9zF9z7ESobnJV2RBDbhcdWGcy4+4ZVmWLeGSj/vhHzUJ\n",
       "XG9PYQY8z1yPZCc9JzXCXK6qEa43/cUdval/8pwjkX3dlXeLzLKL7DGzsOW9p7wHZojLVaka+KEq\n",
       "uHJBjgZwJPyO/eQmO5VZuXcHTojLVBhrgqs7yqw7XdJsLcp9IkaaH1/tCpVMecs4NbfSCbhcBV4D\n",
       "R60py3KQKcpbfNrsLh9finKDOhnJc30gf3lbRqiu6tuXEUVky/7+iX3x3K4YzfetGWgzfuWMPJ92\n",
       "PFcVerlvzd+0cvjjkXgMf7z/F2K8m8Fs520bAAAAAElFTkSuQmCC\n",
       "\" style=\"display:inline;vertical-align:middle;\" /></a></dd>"
      ],
      "text/plain": [
       "<IPython.core.display.HTML object>"
      ]
     },
     "metadata": {},
     "output_type": "display_data"
    },
    {
     "data": {
      "text/html": [
       "<dt><a class=\"ProveItLink\" href=\"../../_proofs_/substituteTruth.ipynb\">proveit.logic.equality.substituteTruth</a></dt><dd><a class=\"ProveItLink\" href=\"../9bdc5b840ab58180416de24b39e9a69a9440cc6d0/expr.ipynb\"><img src=\"data:image/png;base64,iVBORw0KGgoAAAANSUhEUgAAAKIAAAAXBAMAAAB624nuAAAAMFBMVEX///8QEBC6urrMzMxUVFRm\n",
       "ZmZERETc3NwyMjKqqqp2dnaIiIiYmJgiIiLu7u4AAAAU9Wx4AAAAAXRSTlMAQObYZgAAAnVJREFU\n",
       "OMutlE9o03AUx781Wf8kaVY8KLtVGCKIWEFQvGy4ouJJ1F2Gh3qwxT/QgMOhIhYvXkS9TAQP5jKs\n",
       "FUcP9eA8LOJFFLEHRZAhvTjEy4padUOn75fkl77GgRr2IHkvLy+f3+/9+QVYdWmtCmVN3dNGFmgK\n",
       "43k0TuNXPv/KEtZ26ToE3BX6asStfQfi63sASeAMqUQhGlBZAlJ0Qa9Ll2EjSYXsux6NqH8iRIeM\n",
       "WNANMwPjzsTEhYhJx9uAukjGpq7vOPC1WHz7ly9P+zqcSn8FWBAVG6PrXOPsA0p+ChgBSlSO8ujh\n",
       "EpsGT93ojO6xkLB9764QcciG8loYVyhd25iL0eDcBAZh0lJ4DNxn+fh1zkBr0kNfsbiueAJatpc4\n",
       "u7825g7PWkCD3k7lgA1AGrpDzjzwshUmqsMwlnFLmCI5d2kmZfkBdciE6k7MEDXMSYsXc8C+P/aY\n",
       "dqBWUJJEUSEuP9ElUsPrPtGsiIE3P8N4Q3tvbB5hxIUcXljIBMRH4iZjoHQkcUDcLubEkaasUdot\n",
       "WrFUO0JqWi0MMOLW2pQDpRIQB8Fi3HH05BSV3JqFTsSn9DgpjrbmlSibdHjWVbfvwwFxJ49BfFkS\n",
       "aWRuO0dx3jO9/OMH/BGzOPGYuKVCRBnzvvxFHr4twPzMx3tipUtiRERj+v3p3YYcIy66eywExI08\n",
       "hknMYqdQDiv5EpeVdhV2l6h8c4OaAfEZj2FiBA5Nblu7Rj825Yd5cnKm1SVWO+5m3gXEgzyGS/A3\n",
       "+xBaKjyPnjwMrAqP4TIujb29/h0rE+elkarzGC4JP1k9VGFnZWJK+tWemP8Ttefpia+n/+XT39vX\n",
       "l85p8q+GAAAAAElFTkSuQmCC\n",
       "\" style=\"display:inline;vertical-align:middle;\" /></a></dd>"
      ],
      "text/plain": [
       "<IPython.core.display.HTML object>"
      ]
     },
     "metadata": {},
     "output_type": "display_data"
    },
    {
     "data": {
      "text/html": [
       "<dt><a class=\"ProveItLink\" href=\"../../../set_theory/enumeration/_proofs_/inSingletonEvalFalse.ipynb\">proveit.logic.set_theory.enumeration.inSingletonEvalFalse</a></dt><dd><a class=\"ProveItLink\" href=\"../../../set_theory/enumeration/__pv_it/cee10c06f4ef232a503a0ce0a2d30fe4a610033c0/expr.ipynb\"><img src=\"data:image/png;base64,iVBORw0KGgoAAAANSUhEUgAAAO8AAAAXCAMAAADUb+j/AAAAOVBMVEX///8oKCgUFBQJCQkQEBC6\n",
       "urrMzMxUVFRmZmZERETc3NwyMjKqqqp2dnaIiIiYmJgiIiLu7u4AAACP9cC6AAAAAXRSTlMAQObY\n",
       "ZgAAAupJREFUWMPVWImO2yAQdbvcN/z/xxYwGAZjr0maqosUjYzmwTyYi2zbfzwss+CbaC3eXdP/\n",
       "C8OxgfKZZU6f5ghS+0ngF04vY1z7Np+iSyiUz4YJk0kmiyQPVxGNVcZoVT/lx666rry2g0Z3k/Lp\n",
       "WbPOjsSf14Pgn6JrDJR/ha/V63wzph46U5/iizyUs1g10sUhn/P1aJ1vxlgt8nAfS1YSyplR0vrF\n",
       "+924Wua7YwJPw+lP8WUaSqENFcqw5t2C+2tqXmegCB7y1Wydb8bQnOr4g8p2VwT8JV5aIH203jq7\n",
       "oeZQ871LKtYbDi1b2yNpK9lpdoPe8M0YnDT8k3x3l9GuCwTCQOpivDoAfrou2fWJ2lg6GV6UZLUf\n",
       "o/X73TFpOWPf4yuuS2vAQCa3pGAljFwZsivZiFR1lDw/VPfnxU9IWOe7YxJX59/jexMOA9981WbW\n",
       "jgzBUwhvKkUuCeXryDOv842+XLeMqQQbSmr3x2EV6fkCzQ3rOSKTU1Cm3EP6TtbPSwOVXRyb4r0t\n",
       "fjt/Zq4b/Ft/jpdDS2z55GrFMG+2IGIYTe/30KQ5SXzFn5kgMsoCacWee0w7FToNJu26iOV0rEdW\n",
       "rt9vwSjmjgQsj72Fx3Ha8ClfoFmj/4zoC8cuVbAbR6CvjReMb0oti1RxsCPfl+sRjKfQBSKNXkrN\n",
       "Vfw2zZZgR0Q+GtdLz432WsP8KOQkvVdqEWFY3azxld89kYqXo87LK6Z1N8kZSV9JELngWzR59OTf\n",
       "v2T25zNiX0ZAORuKyrt+svr2ej8JeoQBE9OXlrlCCplsi5bjMM3PTRPWohEBWnu71sIVatQlQ9XI\n",
       "V7/weh0x0XMUi+6W+Nh86IbLKd+mmaZ9d00Q8c570KKjAHE9vn+9fOF67zCRrxBDMM7rr2rXdkLA\n",
       "ZkQsvfe9yyupGL14aLriLi/8sXOHISKfKnzTzPl2KifE8CeDWHNCq9XF/1eGrNO9xdj9ZPX3/ZXt\n",
       "bDohfvagP5/CH+EDIVfyVW8WAAAAAElFTkSuQmCC\n",
       "\" style=\"display:inline;vertical-align:middle;\" /></a></dd>"
      ],
      "text/plain": [
       "<IPython.core.display.HTML object>"
      ]
     },
     "metadata": {},
     "output_type": "display_data"
    },
    {
     "data": {
      "text/html": [
       "<dt><a class=\"ProveItLink\" href=\"../../../set_theory/enumeration/_proofs_/inSingletonEvalTrue.ipynb\">proveit.logic.set_theory.enumeration.inSingletonEvalTrue</a></dt><dd><a class=\"ProveItLink\" href=\"../../../set_theory/enumeration/__pv_it/5c943204ca821c7e80d6f1d2902a4670a4b656e80/expr.ipynb\"><img src=\"data:image/png;base64,iVBORw0KGgoAAAANSUhEUgAAAO8AAAAXBAMAAAARnwX+AAAAMFBMVEX///8QEBC6urrMzMxUVFRm\n",
       "ZmZERETc3NwyMjKqqqp2dnaIiIiYmJgiIiLu7u4AAAAU9Wx4AAAAAXRSTlMAQObYZgAAAtNJREFU\n",
       "SMe1Vj9oE1EY/3KXpE3uegYzdRA6OHQppqCDXRorSFAHEYeiiLqkDg43SKsW7Q0WHGrJoHPPoRQJ\n",
       "lQNrQDv0FFzqkkmkWDiXDBYhKNjBxe+9792fpPfSntgPfncv3+/l/d69788dwH+1jy7dx1b2neol\n",
       "XlxxCDH2w/ZHozWAD9IlGNNkg09JhE8KxNhGMMpYiFI3f32b2WfOvGSOxSTCi/I/vAhG+QJerJgp\n",
       "p/gVmWm89d1MoKs5hAMIb0qFkenHIGdqCYRTHiG0nafbX2KFv0mFkdFXZmYeJjnpYYHA1AVP8sTZ\n",
       "mkyYMb+r1a0kwlcFHqzdf8NPfNqLHrWxbMOcR8L5SzJhxpwFmNpDD8mFFwiGrX9N8ZKI/HsSl1Ta\n",
       "LLn1Nv7M8eyafMLscYcwY46DsTf7emTbUUIetHaO1YsRzlXRfzrThCqO51nFF2RPzJgB0Nwkwj8J\n",
       "BqRpknIMS5Mnl3oGN+KlHPjDooinorZlwozR3AHvH4Qxtamm1HLY04p4WfLUX3jbgv2EDYu1ofrE\n",
       "Gm5XaYhKIWFy8iUbQQkNCsBcifdboxmuWuFx1goixnTUfrvqPmqYmsCIeedSmOE7R8zR8Im5s8Iy\n",
       "wwkIgDsE3dwAje/lYii8yoObLYty0i3ZE3PmOW5Z4ckKj0agEQoLZwcBsExYcm/BLL0Zhjo61xU4\n",
       "4cJByknEapc7zsOFaIx3g/k+ATBCaL37Xqek7JsvRYVb6zdMIdwfU5Vj/MoZnR2YWlCpVooRYea8\n",
       "zY86IHCfJiG0XKWzZa72apngt0yy8byVh3smFJV2KMydwnwC92kTJC+JdNMY9IXrUuGAab299grG\n",
       "XXjWsEJh7hTmE71fi++xLdhZW7yPDUum2824fWbaia3jgEC7KxD3BeJAbv0y/wLBIKZNmXAXo5pZ\n",
       "ezi+gQQE24RDiLPNWuSb67X0pLsYHbdrxwsHxGFb+dAV/gLda9LehX/xHAAAAABJRU5ErkJggg==\n",
       "\" style=\"display:inline;vertical-align:middle;\" /></a></dd>"
      ],
      "text/plain": [
       "<IPython.core.display.HTML object>"
      ]
     },
     "metadata": {},
     "output_type": "display_data"
    },
    {
     "data": {
      "text/html": [
       "<dt><a class=\"ProveItLink\" href=\"../../../set_theory/enumeration/_proofs_/inSingletonIsBool.ipynb\">proveit.logic.set_theory.enumeration.inSingletonIsBool</a></dt><dd><a class=\"ProveItLink\" href=\"../../../set_theory/enumeration/__pv_it/e90c6ef7d6127b97b117164a829423fd9032750d0/expr.ipynb\"><img src=\"data:image/png;base64,iVBORw0KGgoAAAANSUhEUgAAALkAAAAWBAMAAABuySBUAAAAMFBMVEX///8QEBC6urrMzMxUVFRm\n",
       "ZmZERETc3NwyMjKqqqp2dnaIiIiYmJgiIiLu7u4AAAAU9Wx4AAAAAXRSTlMAQObYZgAAAtVJREFU\n",
       "SMetVU1oE0EUftlNdk12uw3NQaREIgiKIqbgRUESK7T1BynqQcjBnFJLL3tqBVEXobeqARUED66H\n",
       "UjS0BJRAiegq+ENFiDcRAttLKS1CoFAFBX2zs7ObSadWxAffzsybb7+ZeW9+AP7F3ji0PDKzBdHd\n",
       "tGe/j4321Wa1vjKAnhH//xrRIJUPgk45TyGwl0EtZuHnHN+buH3pe3oU+7IAj4njlkBim0shsEeh\n",
       "UpIwO7oVqbq8gsvDkcexqRYFEnUfW6vr9gZ1LYPSC3R6sbJAYqePwFZvNj8L1Y0kT0D1uHMGYBEH\n",
       "npmYuCoQlyyKMA9T7iZzh1GeQOa+B8Oh4KTXS6UvAvWYTaFWBh8UiGPcbY+MMW3DdddXnwaOgOpH\n",
       "32IjMQxwHGBElFSHYgU+OmniaCNdwD+lFtk6eou07wNHUKTmr14s47j03WBYAvVIhsJGkTskuGHm\n",
       "5R6Aw7EGlLA+SRy7gCOQyMxjS8KFdYHmCNS7MxQuDNA8pJtNmjT5GG5kN1KFH0RpCj85noDqUNyH\n",
       "RFyY5nS5f1AH6A0OF0t4Cj8PXXkNCy9lOZ7gqStU3bAOoafS/wxnJNUg4g8VKVOAugYGWXgjHHnI\n",
       "i72WZHGnkWl0qpPIwEg/JskdIFKr3WYfozgU77QWvCCO06H6rBdwJc925HvgCCwyOsnnPRxUAhI/\n",
       "uHYAamwnD3uI/1SSatW7ujLcWT0PBx3gdmRAQHW9UKQSEPF+/uZ1nIRTLLgND8bY3JPnnkOdzLar\n",
       "L9Uvmkz9BkfAW2z90wmyqclwOom0nJRJTw+kmMR2H4HFh/ibYLbzJggJ1BZZJZewEnDZhJTUYq4F\n",
       "H+JbLNowdjD1RFVMq7DK0nxhDnIO3K1Zf3EDv8JTYis2u9+XxeKdh9RRzWgwDzVPIXqbqhCvn/Xe\n",
       "JhLaQbF61ORfI1Ox94bNKz4EtlBue1e1rJj0lG/qOCMb/qf9BiPCxRFmW4Z0AAAAAElFTkSuQmCC\n",
       "\" style=\"display:inline;vertical-align:middle;\" /></a></dd>"
      ],
      "text/plain": [
       "<IPython.core.display.HTML object>"
      ]
     },
     "metadata": {},
     "output_type": "display_data"
    },
    {
     "data": {
      "text/html": [
       "<dt><a class=\"ProveItLink\" href=\"../../../set_theory/enumeration/_proofs_/singletonDef.ipynb\">proveit.logic.set_theory.enumeration.singletonDef</a></dt><dd><a class=\"ProveItLink\" href=\"../../../set_theory/enumeration/__pv_it/923a7dc38b83be31d38162c00e9400f6b23f2e3b0/expr.ipynb\"><img src=\"data:image/png;base64,iVBORw0KGgoAAAANSUhEUgAAAO8AAAAWBAMAAADaw9ZbAAAAMFBMVEX///8QEBC6urrMzMxUVFRm\n",
       "ZmZERETc3NwyMjKqqqp2dnaIiIiYmJgiIiLu7u4AAAAU9Wx4AAAAAXRSTlMAQObYZgAAAxhJREFU\n",
       "SMe9VkFoE0EU/dmk2SbZboM9SJFKBA+CFFPoRS8tFaqohyIeilXUS3LQwx6kVYt2DxY81FJQTx66\n",
       "l1JqaAm0BrRil16EipCTSDWwveTQIhQLetCD8+dPstnd2Vh68MMjk5n39s/++f/PAhzAtGticGYe\n",
       "DmxO2IJSJARN36wPe2YA1iWUk+EO1wXK+OejhNArELTUbn3YYjJkA4xof7hjpCMW8M+0hDAdMg+Q\n",
       "THuHZoDR6jSJsUkYZT/qTclrFQn7cLwRYKw2O9wNAm6uZSa4HHEIru08rXyROt4KiI82c7xF0ObH\n",
       "xh5Klk8IuOc25YS8cdy/b8Vs5hjpiJ+53KZk+arAg5X7r3nER51Gb/qcBRMOOU4O+fPHYsdXOPdy\n",
       "xFcNQjNEkrMAeYnjKYJuad8iPPPznlROKruwxuKFCZ7gLzj8BO0xzy0bYBs+2V3eeaFBOuI46LLI\n",
       "HCIkWfEksF50NwF7MgCnW8qQY+NJjGzanx+MYDEfz7zTQoN0RBukbInjHwQdYuRR6apUKLl6O7Dv\n",
       "RIrwGw+MRSW669O2Z7AxDQZ6FWmQjkjZbU64Y7b9or8nHMMIzDrRPfaD6SF1DHAk8EzS1BzrJvan\n",
       "wsAKe5xSqpdQpwBMZHlb1ct1fQyPZhhSaXHGFOrrFbTPfK+Y5uoeC5d3njS1UEN+gB2lM4jsnXaj\n",
       "Rzz9DkEz1iDF93LJraEyP9x4vygnzZ8jcXZ2H1hjfe+bJw3SueQFe47CsxgedUNJkOYIs/YtGOcT\n",
       "3zOe4r0Cp2wIKSc2kfgTT6v+xic0opzEIf7iSxfgoiB1E6pvtwuUe+pkttFxdfWGIYatGX8DKYN+\n",
       "e+nVO/8ZkwbpXKJhJKPpKBVRR60kDIJrifPelrkY3jIPh3WtRbdlkvUlzSTcM6BDqWWoZhFCLolY\n",
       "We+sOS5I74GgCU2hUVJ9M7IEfTY8L5n/vhY1rH4rbokmpu/3WiSNLpHYqhGrJ8RdAckXyFcW99XL\n",
       "tSYWMwIMVfohQBqk+yRRI265FxLmpCq/kLWFxm+uZQljPPxyWg5KNLYnC/6T/QXx5OS3NLO31gAA\n",
       "AABJRU5ErkJggg==\n",
       "\" style=\"display:inline;vertical-align:middle;\" /></a></dd>"
      ],
      "text/plain": [
       "<IPython.core.display.HTML object>"
      ]
     },
     "metadata": {},
     "output_type": "display_data"
    },
    {
     "data": {
      "text/html": [
       "<dt><a class=\"ProveItLink\" href=\"../../../set_theory/membership/_proofs_/notInSetInBool.ipynb\">proveit.logic.set_theory.membership.notInSetInBool</a></dt><dd><a class=\"ProveItLink\" href=\"../../../set_theory/membership/__pv_it/4bee646dd0c136f8501ac7a786b22e9824f0f88f0/expr.ipynb\"><img src=\"data:image/png;base64,iVBORw0KGgoAAAANSUhEUgAAAP0AAAAXCAMAAAD3NLkqAAAARVBMVEX///8sLCxlZWUbGxsJCQkd\n",
       "HR0PDw8WFhYQEBC6urrMzMxUVFRmZmZERETc3NwyMjKqqqp2dnaIiIiYmJgiIiLu7u4AAAA/PWo8\n",
       "AAAAAXRSTlMAQObYZgAAA5BJREFUWMPdWNmy3CoMJMtNMDsI+P9PvYDNIoztmVSqJgnnQeNDa6wW\n",
       "UgNDyN82tvAbvyz8ObQcthfDX0QM21tv2+G+P7uPkmcc2wdYi5oLIULmItito9VR6qipl6Y8F7g1\n",
       "dVp/tgzq6x/CEHiJNeT6lbF8fniDzGUVdLCWVLiSx1z78JnhHLaXhY+e+E7EFOJgX2BP3HakqcBr\n",
       "roX5KHsasF0olNPe//wxrrCKe7WzkrJAz3jv9cTeAOGhwcGqMvxnJU9ju2h4DSloqZBX3JeM7UmQ\n",
       "5oRfrX2t8gKPMg9v3w9ZsUfIqwUlLLbKOq6ME60PlMxcAk6OitENMVgxTMmwrHzmoc4UOC/+OKkt\n",
       "gcJaB/0FSHLUdcKaH3sxqUW9ug3JDTwQ2ipyj29WBRfTaKGbITcLPom99zFSN8I3fk5qJStKeY1f\n",
       "QC4ervws1mjQNv0JOLX9hqwtzFKANfFBrjcEBZzGqhVbb/wgL1XPGTnCc34dXAusXBM27iRLaeuF\n",
       "ya+mtU66xCy4bT6axA3ZTIePL9toVrD/vo8q1go+HsGzOOFXqpeNHeCZ+fIEFWL5L6zZz7Xl5KZC\n",
       "CLPf3lhtMrMnNsA9+1IG7nTIsVhGoIZ5Zr86MzX2B40dnpangpPWbI63Pvd0KtyRPcUeMEjO6Fda\n",
       "tU9m9psTc7KpwbbuZhUX/HmzD6Ii1bny/TP7Ay4VP9ot5HrrEQRBYzRr9kxjD43i6n5FVvqkI0JQ\n",
       "f+ozCciCKm1PXMsSh0NOhtY7vlXwJirDOQiu2R+Vf8CN8E3S9eSlOF2zL6y6xyzuzS9naZgslS/Y\n",
       "rBl1s9qtSbUsk79yw2JuhOMdVni3N9Vqx8v4JXsQ1aHChxaLvZvDtnfVmr3hyIP5cmyQbvYr7Pvk\n",
       "3vdk3gg3P9ognQ15zxzTqcU37MPTCnAuO0hvGM/OtxzpKTcTvJ+KWMp4dTIFxuTF2kvkEbrMYL+M\n",
       "GyYv2BOqsF2Mr1+0X2l+Wy06nbT4LX6GJxG0umy2SqcghDxJuyRYV7oH4Q2H/QBP7pWvTneZekW5\n",
       "uapIdX9isu9d0Wd4KjgjUs1lVpC7M23RQl1pft4ku0f6WOsO+5UraZsspx0p4RduuE+X0KDfIn8L\n",
       "h4tL4rC/z2d4e7T2xOpuEskktuc7MNzT4eot9ndwph7Zh5d+EDAvl2PtBuXI47tXyWFvkb+FwwsR\n",
       "GHglxeTfGZgLPKfbhj+Zzv8V5TkK2cdIzgAAAABJRU5ErkJggg==\n",
       "\" style=\"display:inline;vertical-align:middle;\" /></a></dd>"
      ],
      "text/plain": [
       "<IPython.core.display.HTML object>"
      ]
     },
     "metadata": {},
     "output_type": "display_data"
    },
    {
     "data": {
      "text/html": [
       "</dl>"
      ],
      "text/plain": [
       "<IPython.core.display.HTML object>"
      ]
     },
     "metadata": {},
     "output_type": "display_data"
    }
   ],
   "source": [
    "%dependencies subLeftSideInto"
   ]
  }
 ],
 "metadata": {
  "kernelspec": {
   "display_name": "Python 3",
   "language": "python",
   "name": "python3"
  }
 },
 "nbformat": 4,
 "nbformat_minor": 0
}
