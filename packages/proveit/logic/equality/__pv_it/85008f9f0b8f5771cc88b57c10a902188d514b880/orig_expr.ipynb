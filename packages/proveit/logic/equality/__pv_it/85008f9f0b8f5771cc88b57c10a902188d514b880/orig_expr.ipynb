{
 "cells": [
  {
   "cell_type": "markdown",
   "metadata": {},
   "source": [
    "Temporary notebook for <a class=\"ProveItLink\" href=\"../../_axioms_.ipynb#mappingSubstitution\">mappingSubstitution</a> of type <a href=\"../../../../../../doc/html/api/proveit.logic.Forall.html\">Forall</a>\n",
    "=======================\n",
    "# a not-yet-official Axiom from context <a class=\"ProveItLink\" href=\"../../_context_.ipynb\">proveit.logic.equality</a>"
   ]
  },
  {
   "cell_type": "code",
   "execution_count": null,
   "metadata": {},
   "outputs": [],
   "source": [
    "# import Expression classes needed to build the expression\n",
    "from proveit import Lambda\n",
	"from proveit._common_ import f, g, k, l\n",
	"from proveit.logic import Equals, Forall, Implies\n",
	"from proveit.logic._common_ import f_xIter1l, f_yIter1l, g_xIter1l, g_zIter1l, iterQ1k, iterQ1k_xIter1l, iterQ1k_yIter1l, iterQ1k_zIter1l, xIter1l, yIter1l, zIter1l\n",
	"from proveit.number import Naturals, NaturalsPos"
   ]
  },
  {
   "cell_type": "code",
   "execution_count": null,
   "metadata": {},
   "outputs": [],
   "source": [
    "# build up the expression from sub-expressions\n",
    "subExpr1 = []\n",
	"expr = Forall([k, l], Forall([f, g, iterQ1k], Implies(Forall([xIter1l], Equals(f_xIter1l, g_xIter1l), conditions = [iterQ1k_xIter1l]), Equals(Lambda(yIter1l, f_yIter1l, conditions = [iterQ1k_yIter1l]), Lambda(zIter1l, g_zIter1l, conditions = [iterQ1k_zIter1l])).withWrappingAt(2)).withWrappingAt(2), conditions = subExpr1), domains = [Naturals, NaturalsPos], conditions = subExpr1)"
   ]
  },
  {
   "cell_type": "code",
   "execution_count": null,
   "metadata": {},
   "outputs": [],
   "source": [
    "# check that the built expression is the same as the stored expression\n",
    "%check_expr"
   ]
  },
  {
   "cell_type": "code",
   "execution_count": null,
   "metadata": {},
   "outputs": [],
   "source": [
    "# display the expression information\n",
    "expr.exprInfo()"
   ]
  },
  {
   "cell_type": "code",
   "execution_count": null,
   "metadata": {},
   "outputs": [],
   "source": []
  }
 ],
 "metadata": {
  "kernelspec": {
   "display_name": "Python 3",
   "language": "python",
   "name": "python3"
  }
 },
 "nbformat": 4,
 "nbformat_minor": 0
}
