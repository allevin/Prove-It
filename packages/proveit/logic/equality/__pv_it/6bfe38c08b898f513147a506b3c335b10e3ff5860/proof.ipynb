{
 "cells": [
  {
   "cell_type": "markdown",
   "metadata": {},
   "source": [
    "Show the Proof\n",
    "========"
   ]
  },
  {
   "cell_type": "code",
   "execution_count": 1,
   "metadata": {},
   "outputs": [
    {
     "data": {
      "text/html": [
       "<table><tr><th>&nbsp;</th><th>step type</th><th>requirements</th><th>statement</th></tr>\n",
       "<tr><td>0</td><td>assumption</td><td></td><td><span style=\"font-size:20px;\"><a class=\"ProveItLink\" href=\"../270b0e611621b9527f6c1d1da6de2ad522866c920/expr.ipynb\"><img src=\"data:image/png;base64,iVBORw0KGgoAAAANSUhEUgAAAEUAAAAVCAMAAAAn3dPsAAAAPFBMVEX///8LCwsYGBgNDQ0oKChE\n",
       "RETc3NyqqqpUVFS6urrMzMwyMjIQEBCIiIh2dnYiIiLu7u5mZmaYmJgAAADt+DP7AAAAAXRSTlMA\n",
       "QObYZgAAASJJREFUOMudVNl2xSAItL11jSDi//9rNdHY7LE8eFRwHAdEiGIcWfzHHKJqcwr4GN+j\n",
       "dzhe1xmkRxA1XXli86B/RDH2kqR/jXJNZQTlmsoAipPiPYpCMEpDhH2kdH9XhLHkVCXaoFSZKfs4\n",
       "sPCh6z/bz6eMZr1d2NQzy6ml3Fbv4tLulorTIpZ7ZH3mFMum8TWoEDQnClizWeYwX96c2sPlVArf\n",
       "+n6XhyPKtC9bXRRxqZ5qhW/WalCzi1ZdQrbvrzCb3JYrVFWbLgIXOVktigHdU1mUkOY00zqxkHmm\n",
       "4E6VmUvesolPUUgCEiLwgypzJMSkBmpXx4uSDSM/INDxU2UAWtvKepj9EJWSWomH/kIBBqgInVWx\n",
       "vdf1786oz1Hsu777CzvKDW1gBvfbAAAAAElFTkSuQmCC\n",
       "\" style=\"display:inline;vertical-align:middle;\" /></a> <a class=\"ProveItLink\" href=\"proof.ipynb\" style=\"text-decoration: none\">&#x22A2;&nbsp;</a><a class=\"ProveItLink\" href=\"../300e2e5a84d087a5fb9402300e42d269677e6d4f0/expr.ipynb\"><img src=\"data:image/png;base64,iVBORw0KGgoAAAANSUhEUgAAADMAAAAUCAMAAAAX1vWWAAAAPFBMVEX///8LCwsYGBgNDQ0oKCi6\n",
       "uroyMjJERETMzMwQEBAiIiKYmJju7u5mZmaqqqpUVFSIiIh2dnbc3NwAAACyXdPkAAAAAXRSTlMA\n",
       "QObYZgAAANBJREFUOMvNU0sWwiAMjB/KNxDg/nc1obZqK/jYmQUdIGFmSgAYRi4wG2WZLoGk/pXG\n",
       "6L6CTKlEQjpuaPM+CxmzZNcgGMA7D9Ztu7i0uN9kTPtvB1X5Q7XhFUQzpDERUE7VIjiI2S/KVfqY\n",
       "cpoV9XWzYOlcsxxbIIoTU5/spYGw+3Ec14tr8VKAcltkBfqy+qIwpoEFxU5qjB40FxcauWk8vKQ4\n",
       "mxVpyiFn8j/ctEzC2m/0iJ234fpt48K5+Tg92DhF4/jydZ6igchuRn0+fgMPuMgIfJwzrpMAAAAA\n",
       "SUVORK5CYII=\n",
       "\" style=\"display:inline;vertical-align:middle;\" /></a></span></td></tr>\n",
       "</table>"
      ],
      "text/plain": [
       "<proveit._core_.proof._ShowProof at 0x7f95000a4a58>"
      ]
     },
     "execution_count": 1,
     "metadata": {},
     "output_type": "execute_result"
    }
   ],
   "source": [
    "import proveit\n",
    "%show_proof"
   ]
  },
  {
   "cell_type": "code",
   "execution_count": null,
   "metadata": {},
   "outputs": [],
   "source": []
  }
 ],
 "metadata": {
  "kernelspec": {
   "display_name": "Python 3",
   "language": "python",
   "name": "python3"
  }
 },
 "nbformat": 4,
 "nbformat_minor": 0
}
