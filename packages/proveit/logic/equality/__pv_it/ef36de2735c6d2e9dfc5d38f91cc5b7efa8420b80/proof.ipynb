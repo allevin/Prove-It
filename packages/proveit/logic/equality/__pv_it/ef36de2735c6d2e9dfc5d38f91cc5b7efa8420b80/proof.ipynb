{
 "cells": [
  {
   "cell_type": "markdown",
   "metadata": {},
   "source": [
    "Show the Proof\n",
    "========"
   ]
  },
  {
   "cell_type": "code",
   "execution_count": 1,
   "metadata": {},
   "outputs": [
    {
     "data": {
      "text/html": [
       "<table><tr><th>&nbsp;</th><th>step type</th><th>requirements</th><th>statement</th></tr>\n",
       "<tr><td>0</td><td>assumption</td><td></td><td><span style=\"font-size:20px;\"><a class=\"ProveItLink\" href=\"../258881f54381aad054795aa9fd32b72cce216b030/expr.ipynb\"><img src=\"data:image/png;base64,iVBORw0KGgoAAAANSUhEUgAAAIEAAAAVBAMAAACTeZA2AAAAMFBMVEX////c3NxERESqqqpUVFS6\n",
       "urrMzMwyMjIQEBCIiIh2dnYiIiLu7u5mZmaYmJgAAABXZE4RAAAAAXRSTlMAQObYZgAAAaxJREFU\n",
       "OMtjYGDgu8dAJmBbJQCieHbhVBGJRzdfAMiIZhCT8wPQFI8N2KxwYDjSjUWccQKIvAYiroMIrgYg\n",
       "we6ARSX7AQaGEmwmXwDLgogVcBP4DRAKDsAYM4H4M04T+BagmBB/AKGgBsboYWBg/YPTBJ4GFBNW\n",
       "IykIgdKsBUDJDThNYFBGMaFkph9cAdcECM0LdCa755QHuExYCzOBF2gVzycG/gQgczcY/IUGJFDv\n",
       "eQWGbyA15WDggGKCORC/BzEygBHL/IeBYwHcDuZSMMUBlLA/wNCFyw0RIFuAzJQ2iDv4LyCUHG8F\n",
       "kfwB4Pj+i8uEfBChDnRoBND53BcY4hH+Zas6ADNhLwPrP3wmcINczlIATg73D8DDYRMkajkMQMmB\n",
       "FxSfUAkFDF+AwwEUYcBgRHiXGRpgTEBXfUMOHzQ3PEeOTRYDXkSyFofFKlChM8MVBoKxCTKBxxMp\n",
       "hyvCUhTQcUfmoicHkIe6wR4qRUlRyCABxmjEWzigpWqs4BVeE8BJF2wCH04T2A/gM+E4vHzg2YlL\n",
       "DaMDPhMcQWHaCimvFuNSJInHAM4EaDkJAIKufTLdnPXFAAAAAElFTkSuQmCC\n",
       "\" style=\"display:inline;vertical-align:middle;\" /></a> <a class=\"ProveItLink\" href=\"proof.ipynb\" style=\"text-decoration: none\">&#x22A2;&nbsp;</a><a class=\"ProveItLink\" href=\"../0ec13bfd6b8275be5a37ddea63006e3c88bd242b0/expr.ipynb\"><img src=\"data:image/png;base64,iVBORw0KGgoAAAANSUhEUgAAAGwAAAAVBAMAAABRZRb3AAAAMFBMVEX////c3NxmZmbMzMxERESY\n",
       "mJiIiIh2dna6urqqqqoyMjIiIiIQEBBUVFTu7u4AAAAiO1wTAAAAAXRSTlMAQObYZgAAAVVJREFU\n",
       "OMtjYKAqaMMjx9rAwMB3ZwMWGeYLDG9PYxFnTACRykDMdQGLNNcDBoa12IxTAMsCMf8EhOgDGCMN\n",
       "iH/i1MZawMDQ/wAhug7GOMfAwPEPpza+AwwM1UiivVCaYwEDA/sGnNoYPIFeSLsKF2VPgNBMQFdw\n",
       "XcsNwKWtiIHvCwO/AVDhbjD4BA0RoIb3DgyfQSasAoMLKNpmMXD+Y+ApgJvGuQJM8QBjZv4DhuO4\n",
       "bOthYFrAwK+AEH91AkTyA7VpMTB8wqXNnoFbgaEf4Qfm5Q9g2jYxcHzFrQ0YbfoP4H7bAokNngmg\n",
       "aGMCRQFUwgHNkcDwQHiBE+pzFqD9n5H9jGZbFAPvBCZE6pKCRQRQ9iaDLgOeCLimihB1hEU3MKrf\n",
       "JqFHG8i9p8HuXYEqYQBjHMSbq0CJCysIx6sNlpiwZhzc4BUuCcYL+LRdxCkjhkcXmwEDAMwxXLzy\n",
       "XTsjAAAAAElFTkSuQmCC\n",
       "\" style=\"display:inline;vertical-align:middle;\" /></a></span></td></tr>\n",
       "</table>"
      ],
      "text/plain": [
       "<proveit._core_.proof._ShowProof at 0x7f94eada4ba8>"
      ]
     },
     "execution_count": 1,
     "metadata": {},
     "output_type": "execute_result"
    }
   ],
   "source": [
    "import proveit\n",
    "%show_proof"
   ]
  },
  {
   "cell_type": "code",
   "execution_count": null,
   "metadata": {},
   "outputs": [],
   "source": []
  }
 ],
 "metadata": {
  "kernelspec": {
   "display_name": "Python 3",
   "language": "python",
   "name": "python3"
  }
 },
 "nbformat": 4,
 "nbformat_minor": 0
}
