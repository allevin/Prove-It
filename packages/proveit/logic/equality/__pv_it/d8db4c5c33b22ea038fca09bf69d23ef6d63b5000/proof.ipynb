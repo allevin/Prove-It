{
 "cells": [
  {
   "cell_type": "markdown",
   "metadata": {},
   "source": [
    "Show the Proof\n",
    "========"
   ]
  },
  {
   "cell_type": "code",
   "execution_count": 1,
   "metadata": {},
   "outputs": [
    {
     "data": {
      "text/html": [
       "<table><tr><th>&nbsp;</th><th>step type</th><th>requirements</th><th>statement</th></tr>\n",
       "<tr><td>0</td><td>assumption</td><td></td><td><span style=\"font-size:20px;\"><a class=\"ProveItLink\" href=\"../df4379999f6fbf3bd9b288c9c46235b78a662d380/expr.ipynb\"><img src=\"data:image/png;base64,iVBORw0KGgoAAAANSUhEUgAAAC0AAAAVBAMAAAAgHXppAAAAMFBMVEX///9ERETc3NyqqqpUVFS6\n",
       "urrMzMwyMjIQEBCIiIh2dnYiIiLu7u5mZmaYmJgAAABJJ2g3AAAAAXRSTlMAQObYZgAAAKpJREFU\n",
       "GNNjYGDgu8eAAthWKYAonl0MaICtGURyfkAXZ7gOIrgaMMRX0Epca4ry3AlQcd4CuDDPAr59HBsY\n",
       "GN6DOBkBQLndILCAC+ho5gQGBvYLDAwpbXDvOPAwsAiAmeIPGBgiEuDiDAwcE0As7gVAgqUASVw/\n",
       "geEA1HyuDXBxPoX5DJwHMNyZYP9AgkETi/sPzjq18gG54cDXgD38eXZixFcrmOJbjCV+AbTNMPP4\n",
       "FIkGAAAAAElFTkSuQmCC\n",
       "\" style=\"display:inline;vertical-align:middle;\" /></a> <a class=\"ProveItLink\" href=\"proof.ipynb\" style=\"text-decoration: none\">&#x22A2;&nbsp;</a><a class=\"ProveItLink\" href=\"../5257302be1da79642d1552c1da1a429d5b167c980/expr.ipynb\"><img src=\"data:image/png;base64,iVBORw0KGgoAAAANSUhEUgAAABgAAAAJBAMAAADa0/H1AAAAKlBMVEX///9EREQQEBCYmJju7u6q\n",
       "qqqIiIjc3NxUVFTMzMx2dnYiIiJmZmYAAAB4JDwQAAAAAXRSTlMAQObYZgAAAE9JREFUCNdjYIAA\n",
       "9mXtYcegbAYvBmsDbYbTu4FgF8MChlyGSIj4DAYHhkaYohlArIbEYb/JwALjmLNdYEiBcDhZLzMq\n",
       "sCdA1bGILVmVzAAAZNoR2EzP5jQAAAAASUVORK5CYII=\n",
       "\" style=\"display:inline;vertical-align:middle;\" /></a></span></td></tr>\n",
       "</table>"
      ],
      "text/plain": [
       "<proveit._core_.proof._ShowProof at 0x7f94ebc3fcf8>"
      ]
     },
     "execution_count": 1,
     "metadata": {},
     "output_type": "execute_result"
    }
   ],
   "source": [
    "import proveit\n",
    "%show_proof"
   ]
  },
  {
   "cell_type": "code",
   "execution_count": null,
   "metadata": {},
   "outputs": [],
   "source": []
  }
 ],
 "metadata": {
  "kernelspec": {
   "display_name": "Python 3",
   "language": "python",
   "name": "python3"
  }
 },
 "nbformat": 4,
 "nbformat_minor": 0
}
