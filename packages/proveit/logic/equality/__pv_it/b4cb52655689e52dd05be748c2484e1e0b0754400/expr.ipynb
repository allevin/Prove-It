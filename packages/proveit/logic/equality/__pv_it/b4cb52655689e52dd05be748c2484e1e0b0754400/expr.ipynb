{
 "cells": [
  {
   "cell_type": "markdown",
   "metadata": {},
   "source": [
    "Expression of type <a class=\"ProveItLink\" href=\"../../../../../../doc/html/api/proveit.ExprTuple.html\">ExprTuple</a>\n",
    "=======================\n",
    "# from context <a class=\"ProveItLink\" href=\"../../_context_.ipynb\">proveit.logic.equality</a>"
   ]
  },
  {
   "cell_type": "code",
   "execution_count": 1,
   "metadata": {},
   "outputs": [],
   "source": [
    "# import Expression classes needed to build the expression\n",
    "from proveit import ExprTuple\n",
    "from proveit._common_ import a, b\n",
    "from proveit.logic import Equals, Not, NotEquals"
   ]
  },
  {
   "cell_type": "code",
   "execution_count": 2,
   "metadata": {},
   "outputs": [
    {
     "data": {
      "text/html": [
       "<strong id=\"expr\">expr:</strong> <a class=\"ProveItLink\" href=\"expr.ipynb\"><img src=\"data:image/png;base64,iVBORw0KGgoAAAANSUhEUgAAAJYAAAAVCAMAAACT++emAAAAPFBMVEX///8LCwsYGBgNDQ0oKCjc\n",
       "3NwiIiJERESqqqqYmJh2dnZmZmYQEBDu7u4yMjJUVFTMzMyIiIi6uroAAACIMCsmAAAAAXRSTlMA\n",
       "QObYZgAAAchJREFUSMfNltl6hCAMRm2nCAKyvv+7FtkMCnH5etFcTGZGPYk/SWCa/q05i1/n5K+J\n",
       "PVtc643G7yeqfl21nG9EuCJC25HCNF6t+IPagR/qTsQr4uHuglTQW3tbrGCeXcexz5awIhcOvHwi\n",
       "lvM3hJCPxNqRq9y9Uxd1Qpvqv1FaV8RjQ+1IyqoXvCyWttzJU9NR09aBtXrB41wRT6VVkVxMxasc\n",
       "JD5P/Q5X0X4+22cpytVv2nmDx8GJyWrnQCTLOgcvU+kQv8EExcVisQ4kh9rM1fLfF8SDQaST5YUm\n",
       "nyA6vtV87CHXzgMRX8cLdFrhxNOSA6TJ0gafIVHK9bQ8qq2MWcTWWe6kNSAeDSJBWpIlxW0UNIDg\n",
       "4nx/peWhcMSIwZAoaaHEYnTqIMEi0iUV3nZVq4kZRKxUmbEO1nFaKPE8TM1erUsu+eBzU27tw4Kg\n",
       "HKmsECWEEjoG7QwwM8E27xI707og2wHh5jJjrDPUOkyssK9akbSQfjiPMGJvq87ILZ7b/XjeMYHN\n",
       "8vGYlI8PQufNp26QnSbB9jZk1C/8XVrcQj86hqBiYWk9PNhUsVTjiX4hFjoliX6TliatJ/0Y7v0x\n",
       "nLw4NFsD/C9saRhpe/T/6wAAAABJRU5ErkJggg==\n",
       "\" style=\"display:inline;vertical-align:middle;\" /></a><br>"
      ],
      "text/plain": [
       "expr: (a != b , [not](a = b))"
      ]
     },
     "execution_count": 2,
     "metadata": {},
     "output_type": "execute_result"
    }
   ],
   "source": [
    "# build up the expression from sub-expressions\n",
    "expr = ExprTuple(NotEquals(a, b), Not(Equals(a, b)))"
   ]
  },
  {
   "cell_type": "code",
   "execution_count": 3,
   "metadata": {},
   "outputs": [
    {
     "name": "stdout",
     "output_type": "stream",
     "text": [
      "Passed sanity check: built 'expr' is the same as the stored Expression.\n"
     ]
    }
   ],
   "source": [
    "# check that the built expression is the same as the stored expression\n",
    "%check_expr"
   ]
  },
  {
   "cell_type": "code",
   "execution_count": 4,
   "metadata": {},
   "outputs": [
    {
     "data": {
      "text/html": [
       "<table><tr><th>&nbsp;</th><th>core type</th><th>sub-expressions</th><th>expression</th></tr>\n",
       "<tr><td>0</td><td>ExprTuple</td><td>1, 2</td><td><a class=\"ProveItLink\" href=\"expr.ipynb\"><img src=\"data:image/png;base64,iVBORw0KGgoAAAANSUhEUgAAAJYAAAAVCAMAAACT++emAAAAPFBMVEX///8LCwsYGBgNDQ0oKCjc\n",
       "3NwiIiJERESqqqqYmJh2dnZmZmYQEBDu7u4yMjJUVFTMzMyIiIi6uroAAACIMCsmAAAAAXRSTlMA\n",
       "QObYZgAAAchJREFUSMfNltl6hCAMRm2nCAKyvv+7FtkMCnH5etFcTGZGPYk/SWCa/q05i1/n5K+J\n",
       "PVtc643G7yeqfl21nG9EuCJC25HCNF6t+IPagR/qTsQr4uHuglTQW3tbrGCeXcexz5awIhcOvHwi\n",
       "lvM3hJCPxNqRq9y9Uxd1Qpvqv1FaV8RjQ+1IyqoXvCyWttzJU9NR09aBtXrB41wRT6VVkVxMxasc\n",
       "JD5P/Q5X0X4+22cpytVv2nmDx8GJyWrnQCTLOgcvU+kQv8EExcVisQ4kh9rM1fLfF8SDQaST5YUm\n",
       "nyA6vtV87CHXzgMRX8cLdFrhxNOSA6TJ0gafIVHK9bQ8qq2MWcTWWe6kNSAeDSJBWpIlxW0UNIDg\n",
       "4nx/peWhcMSIwZAoaaHEYnTqIMEi0iUV3nZVq4kZRKxUmbEO1nFaKPE8TM1erUsu+eBzU27tw4Kg\n",
       "HKmsECWEEjoG7QwwM8E27xI707og2wHh5jJjrDPUOkyssK9akbSQfjiPMGJvq87ILZ7b/XjeMYHN\n",
       "8vGYlI8PQufNp26QnSbB9jZk1C/8XVrcQj86hqBiYWk9PNhUsVTjiX4hFjoliX6TliatJ/0Y7v0x\n",
       "nLw4NFsD/C9saRhpe/T/6wAAAABJRU5ErkJggg==\n",
       "\" style=\"display:inline;vertical-align:middle;\" /></a></td></tr>\n",
       "<tr><td>1</td><td>Operation</td><td>operator:&nbsp;3<br>operands:&nbsp;7<br></td><td><a class=\"ProveItLink\" href=\"../19ff6125cfeededb0a6e66fb1e0c7ddff3c2dd3b0/expr.ipynb\"><img src=\"data:image/png;base64,iVBORw0KGgoAAAANSUhEUgAAADAAAAAUCAMAAAD84U6VAAAAPFBMVEX///8LCwsYGBgNDQ0oKCgy\n",
       "MjKqqqrMzMzu7u4iIiJmZmaYmJhEREQQEBC6urp2dnaIiIhUVFTc3NwAAABYMwFzAAAAAXRSTlMA\n",
       "QObYZgAAAMhJREFUKM+1kusOwyAIhdnFG7WI+v7vOiRbu9rMxh87SRuNwOcBAUZKBaZUzL72eQ2X\n",
       "CZm+dybPAETVzgGo+ot4F48N2C2UzInWU0Oig6MF5rwoq8XGup2gUT0f7b8Z9bUBqxQptaVhvABY\n",
       "tbAmsaa1A3fx1DURtWUV5YsKdF2C6TwF1E4tciNWoCR9agXR/RZU8TAFlHt5XWUD1o0AalctgBHP\n",
       "VoBp5EBKSl3M7ykwucg0BMjjY1x+Dtni3LOG4Ofi/w4AGpy9AOYzB/Lf2im1AAAAAElFTkSuQmCC\n",
       "\" style=\"display:inline;vertical-align:middle;\" /></a></td></tr>\n",
       "<tr><td>2</td><td>Operation</td><td>operator:&nbsp;4<br>operand:&nbsp;5<br></td><td><a class=\"ProveItLink\" href=\"../18f2498ec00d4a83eb08f530895367f745a88c660/expr.ipynb\"><img src=\"data:image/png;base64,iVBORw0KGgoAAAANSUhEUgAAAE4AAAAVBAMAAAAazcUaAAAAMFBMVEX////c3NxERESqqqqYmJgQ\n",
       "EBDu7u4yMjKIiIi6urpUVFTMzMx2dnYiIiJmZmYAAABjE816AAAAAXRSTlMAQObYZgAAAR1JREFU\n",
       "KM9jYCAdzMAlwTIBmce9AJuarFgg8RpZhD0Bq2FVIClkgQ7sln4GWXwASSAMqzLOb0CCLQBJoACr\n",
       "Op4LIFIZIcAHMluqZ6oAqjr2FV0ODAznkASAXM5ABn0Q+3k5CIB8wJCvwPCbgcGc4e1dILgDFGAF\n",
       "BpK8A8MjNHvtExhiGBimQji7gJgfqG49A8MNNHXPGRj+MTDsR1X3iYHtN5q6ewycX1DUsRowMP5g\n",
       "YP7ABmSDHXP3EiT4+L6h2MvkwMD2mYGrwBrVvN8MrMCAcIdGLSigHjAwlDDYPjiAqm4xwysGlHDh\n",
       "BAaoVMdsjQlo6aAPGF4MlUgigbhTHHK8MfjgVsfTQDhdgUA6ModxAU51C1F4EriUcWxgAADkckc1\n",
       "/lI+/QAAAABJRU5ErkJggg==\n",
       "\" style=\"display:inline;vertical-align:middle;\" /></a></td></tr>\n",
       "<tr><td>3</td><td>Literal</td><td></td><td><a class=\"ProveItLink\" href=\"../43637204f35b46c076ae787093288c6a879642310/expr.ipynb\"><img src=\"data:image/png;base64,iVBORw0KGgoAAAANSUhEUgAAAA4AAAAUCAMAAACK2/weAAAAM1BMVEX///8LCwsYGBgNDQ0oKCju\n",
       "7u4iIiJmZmaqqqpERETMzMy6urpUVFQyMjLc3Nx2dnYAAAB8DqOrAAAAAXRSTlMAQObYZgAAAE5J\n",
       "REFUGNNjYEAAfj4kDgMfLzKPgYebaEkuThRJTi4wxc4LBizMIJIHTRIKuHlQdPLCHMTOBgRMjGxg\n",
       "wIkmiVcnGHCwo0iysRItyYDsMQCO9QJkhxsUAQAAAABJRU5ErkJggg==\n",
       "\" style=\"display:inline;vertical-align:middle;\" /></a></td></tr>\n",
       "<tr><td>4</td><td>Literal</td><td></td><td><a class=\"ProveItLink\" href=\"../../../boolean/negation/__pv_it/7bea79645543c2413aa17e787cca04e21046fde60/expr.ipynb\"><img src=\"data:image/png;base64,iVBORw0KGgoAAAANSUhEUgAAAAwAAAAGBAMAAAAFwGKyAAAAFVBMVEX///9UVFTMzMx2dnYiIiJm\n",
       "ZmYAAACWz4ZEAAAAAXRSTlMAQObYZgAAABRJREFUCNdjCHEBAmcGMFDEQzEBAEl+Ai6uYJv/AAAA\n",
       "AElFTkSuQmCC\n",
       "\" style=\"display:inline;vertical-align:middle;\" /></a></td></tr>\n",
       "<tr><td>5</td><td>Operation</td><td>operator:&nbsp;6<br>operands:&nbsp;7<br></td><td><a class=\"ProveItLink\" href=\"../95b1b23aa332dbd7d732f72039ef4fed607fecb10/expr.ipynb\"><img src=\"data:image/png;base64,iVBORw0KGgoAAAANSUhEUgAAADAAAAAOBAMAAACbXIJpAAAAMFBMVEX///8yMjKqqqrMzMzu7u4i\n",
       "IiJmZmaYmJhEREQQEBC6urp2dnaIiIhUVFTc3NwAAAD87Fq/AAAAAXRSTlMAQObYZgAAAJVJREFU\n",
       "GNNjYMACfKcy4ACyuCQ+4RDn+oJDgjsARPLd2TUPTYLxztkCBoaVDzg+gHiJgiAAtta/geEzA993\n",
       "BrYGNB36DgyzGXg/MLAeQJNIZGD4xsDfwOBvgCYRxsD1neH9AQZ9BgcgLzUUBCIg3mD7wuCvwHCR\n",
       "CU3LZwbODQyMBUxh3GhGXWLIBXnjlMUp9EA8VsAAAM4dJKpjP/uaAAAAAElFTkSuQmCC\n",
       "\" style=\"display:inline;vertical-align:middle;\" /></a></td></tr>\n",
       "<tr><td>6</td><td>Literal</td><td></td><td><a class=\"ProveItLink\" href=\"../2fb26078095930560931daa0500ce419a39ea6cd0/expr.ipynb\"><img src=\"data:image/png;base64,iVBORw0KGgoAAAANSUhEUgAAAA4AAAAFBAMAAACHocAhAAAAFVBMVEX///9EREQiIiJUVFQyMjJm\n",
       "ZmYAAADubVkoAAAAAXRSTlMAQObYZgAAABRJREFUCNdjCHEBAWcGXCBICQQUAUpuAwlgGKrkAAAA\n",
       "AElFTkSuQmCC\n",
       "\" style=\"display:inline;vertical-align:middle;\" /></a></td></tr>\n",
       "<tr><td>7</td><td>ExprTuple</td><td>8, 9</td><td><a class=\"ProveItLink\" href=\"../359d2ffcad0b096b85ece3bdabdf3ac9ad97321c0/expr.ipynb\"><img src=\"data:image/png;base64,iVBORw0KGgoAAAANSUhEUgAAACkAAAAVBAMAAAAp9toTAAAAMFBMVEX////c3NwiIiJERESqqqqY\n",
       "mJh2dnZmZmYQEBDu7u4yMjJUVFTMzMyIiIi6uroAAAAs73DqAAAAAXRSTlMAQObYZgAAAQxJREFU\n",
       "GNNtkSFPw1AQx3/burWlbJ1HgMPO4PsNqEKSBYOC1IAFEoIklXOtQRDMDAkhWdIEidkHgAVQBLOS\n",
       "ZQJDuGv3km7hiXv/+72Xe/+7B/+vzngF7Gt4rgD3YQvsTNRt9d7aUEIK7aUCfiBhD5y4SqeaDeBr\n",
       "6aUDDY2AU9lqo+OLkt693kMr4kb0Z7eRlx5m+BlWyrVcnWP3Cmr94PTpnPMLXk69dGKn+BHruVK/\n",
       "R5IVtB4xDZVewuaYXeKF3bNYK+xAEvBoZa7SjCtophxKm6G13SKREXiBPSycfajdydOEwbc4G53o\n",
       "MN5wuqavdyOk42bfJKERR9VJGurKJNlYJG1z6mnN2uoPvcAf68w9OrA141UAAAAASUVORK5CYII=\n",
       "\" style=\"display:inline;vertical-align:middle;\" /></a></td></tr>\n",
       "<tr><td>8</td><td>Variable</td><td></td><td><a class=\"ProveItLink\" href=\"../../../../__pv_it/07527342713064c87612d00d8557c53d53d5324a0/expr.ipynb\"><img src=\"data:image/png;base64,iVBORw0KGgoAAAANSUhEUgAAAAsAAAAJBAMAAAAWSsseAAAAMFBMVEX///8yMjKqqqrMzMzu7u4i\n",
       "IiJmZmaYmJhEREQQEBC6urp2dnaIiIhUVFTc3NwAAAD87Fq/AAAAAXRSTlMAQObYZgAAAEhJREFU\n",
       "CNdjYOC7s2seAwPDygccHxgY+L4zsDUwMPB+YGA9wMDA38Dgb8DA8P4Agz6DA4O/AsNFJgMGxgKm\n",
       "MG6gyjunLE4xAAAZTBA5TB6DCwAAAABJRU5ErkJggg==\n",
       "\" style=\"display:inline;vertical-align:middle;\" /></a></td></tr>\n",
       "<tr><td>9</td><td>Variable</td><td></td><td><a class=\"ProveItLink\" href=\"../../../../__pv_it/6840a4fa6c106149dc16a131294d0c5e44f1b0480/expr.ipynb\"><img src=\"data:image/png;base64,iVBORw0KGgoAAAANSUhEUgAAAAkAAAAOBAMAAAAPuiubAAAALVBMVEX///9mZmbMzMxERESYmJiI\n",
       "iIh2dna6urqqqqoyMjIiIiIQEBBUVFTu7u4AAAD9S1JeAAAAAXRSTlMAQObYZgAAAE1JREFUCNdj\n",
       "4D29gAEIOA+ASL4GEFl3AURmgQiGOaFHGBh4HzPwKTBwvGXgTmBgnMDAJ8DAJcBQ5wBSLncBJLWN\n",
       "gYGngRFoBO9REQYGAGrcDtUkVqASAAAAAElFTkSuQmCC\n",
       "\" style=\"display:inline;vertical-align:middle;\" /></a></td></tr>\n",
       "</table>\n"
      ],
      "text/plain": [
       "0. (a != b , [not](a = b))\n",
       "   core type: ExprTuple\n",
       "   sub-expressions: 1, 2\n",
       "1. a != b\n",
       "   core type: Operation\n",
       "   operator: 3\n",
       "   operands: 7\n",
       "2. [not](a = b)\n",
       "   core type: Operation\n",
       "   operator: 4\n",
       "   operand: 5\n",
       "3. !=\n",
       "   core type: Literal\n",
       "   sub-expressions: \n",
       "4. not\n",
       "   core type: Literal\n",
       "   sub-expressions: \n",
       "5. a = b\n",
       "   core type: Operation\n",
       "   operator: 6\n",
       "   operands: 7\n",
       "6. =\n",
       "   core type: Literal\n",
       "   sub-expressions: \n",
       "7. (a , b)\n",
       "   core type: ExprTuple\n",
       "   sub-expressions: 8, 9\n",
       "8. a\n",
       "   core type: Variable\n",
       "   sub-expressions: \n",
       "9. b\n",
       "   core type: Variable\n",
       "   sub-expressions: "
      ]
     },
     "execution_count": 4,
     "metadata": {},
     "output_type": "execute_result"
    }
   ],
   "source": [
    "# display the expression information\n",
    "expr.exprInfo()"
   ]
  },
  {
   "cell_type": "code",
   "execution_count": null,
   "metadata": {},
   "outputs": [],
   "source": []
  }
 ],
 "metadata": {
  "kernelspec": {
   "display_name": "Python 3",
   "language": "python",
   "name": "python3"
  }
 },
 "nbformat": 4,
 "nbformat_minor": 0
}
