{
 "cells": [
  {
   "cell_type": "markdown",
   "metadata": {},
   "source": [
    "Expression of type <a class=\"ProveItLink\" href=\"../../../../../../doc/html/api/proveit.Lambda.html\">Lambda</a>\n",
    "=======================\n",
    "# from context <a class=\"ProveItLink\" href=\"../../_context_.ipynb\">proveit.logic.equality</a>"
   ]
  },
  {
   "cell_type": "code",
   "execution_count": 1,
   "metadata": {},
   "outputs": [],
   "source": [
    "# import Expression classes needed to build the expression\n",
    "from proveit import Lambda\n",
    "from proveit._common_ import x\n",
    "from proveit.logic import Equals"
   ]
  },
  {
   "cell_type": "code",
   "execution_count": 2,
   "metadata": {},
   "outputs": [
    {
     "data": {
      "text/html": [
       "<strong id=\"expr\">expr:</strong> <a class=\"ProveItLink\" href=\"expr.ipynb\"><img src=\"data:image/png;base64,iVBORw0KGgoAAAANSUhEUgAAAG4AAAAVCAMAAACQYCvLAAAANlBMVEX///+6uroUFBQNDQ0yMjJE\n",
       "RETMzMwQEBAiIiKYmJju7u5mZmaqqqpUVFSIiIh2dnbc3NwAAACltDI1AAAAAXRSTlMAQObYZgAA\n",
       "ASVJREFUSMfNVcluhTAMNG0WsjnO//9sA0Q8JwEJXKmqD4jDTGyPN4B/bgvKeG6RsEySxhmMgKS8\n",
       "WBf1noIoL4PLrylWnhx4+7pP1G+6TMf6oYyJIga8lDjGrtxNj5FzZz0uh5pifcGtDuzaIGvPSFw+\n",
       "5Q5ZRg4Exexs3gEXayZbvFjqv7l25xOx0h3DM3FubMAttXhb8EkzzPfX2pktnwFtvxPnrjl6nCkt\n",
       "aF6DITtIbB0wz/bhSDBcc0fFtFAu3AXi3LNxeg4ErgfPm+M2MR3t8gJeuzNdEvpolYlzN9g9zimI\n",
       "xYGuXul8Fif5We3D3mET59pGXGV7jdnnjO7ZmO+pP+WMOPX6KFj6yyUmWbOfSgjWu/wAecm+JfF5\n",
       "TaI6kPDi4TZ/P1NFDC1OVx0CAAAAAElFTkSuQmCC\n",
       "\" style=\"display:inline;vertical-align:middle;\" /></a><br>"
      ],
      "text/plain": [
       "expr: x -> (x = x)"
      ]
     },
     "execution_count": 2,
     "metadata": {},
     "output_type": "execute_result"
    }
   ],
   "source": [
    "# build up the expression from sub-expressions\n",
    "expr = Lambda(x, Equals(x, x))"
   ]
  },
  {
   "cell_type": "code",
   "execution_count": 3,
   "metadata": {},
   "outputs": [
    {
     "name": "stdout",
     "output_type": "stream",
     "text": [
      "Passed sanity check: built 'expr' is the same as the stored Expression.\n"
     ]
    }
   ],
   "source": [
    "# check that the built expression is the same as the stored expression\n",
    "%check_expr"
   ]
  },
  {
   "cell_type": "code",
   "execution_count": 4,
   "metadata": {},
   "outputs": [
    {
     "data": {
      "text/html": [
       "<table><tr><th>&nbsp;</th><th>core type</th><th>sub-expressions</th><th>expression</th></tr>\n",
       "<tr><td>0</td><td>Lambda</td><td>parameter:&nbsp;4<br>body:&nbsp;1<br></td><td><a class=\"ProveItLink\" href=\"expr.ipynb\"><img src=\"data:image/png;base64,iVBORw0KGgoAAAANSUhEUgAAAG4AAAAVCAMAAACQYCvLAAAANlBMVEX///+6uroUFBQNDQ0yMjJE\n",
       "RETMzMwQEBAiIiKYmJju7u5mZmaqqqpUVFSIiIh2dnbc3NwAAACltDI1AAAAAXRSTlMAQObYZgAA\n",
       "ASVJREFUSMfNVcluhTAMNG0WsjnO//9sA0Q8JwEJXKmqD4jDTGyPN4B/bgvKeG6RsEySxhmMgKS8\n",
       "WBf1noIoL4PLrylWnhx4+7pP1G+6TMf6oYyJIga8lDjGrtxNj5FzZz0uh5pifcGtDuzaIGvPSFw+\n",
       "5Q5ZRg4Exexs3gEXayZbvFjqv7l25xOx0h3DM3FubMAttXhb8EkzzPfX2pktnwFtvxPnrjl6nCkt\n",
       "aF6DITtIbB0wz/bhSDBcc0fFtFAu3AXi3LNxeg4ErgfPm+M2MR3t8gJeuzNdEvpolYlzN9g9zimI\n",
       "xYGuXul8Fif5We3D3mET59pGXGV7jdnnjO7ZmO+pP+WMOPX6KFj6yyUmWbOfSgjWu/wAecm+JfF5\n",
       "TaI6kPDi4TZ/P1NFDC1OVx0CAAAAAElFTkSuQmCC\n",
       "\" style=\"display:inline;vertical-align:middle;\" /></a></td></tr>\n",
       "<tr><td>1</td><td>Operation</td><td>operator:&nbsp;2<br>operands:&nbsp;3<br></td><td><a class=\"ProveItLink\" href=\"../f536394da7d7ceaafcf0c15d4c2f29d0588848c00/expr.ipynb\"><img src=\"data:image/png;base64,iVBORw0KGgoAAAANSUhEUgAAADMAAAAJBAMAAABtbgnSAAAALVBMVEX///8yMjJERETMzMwQEBAi\n",
       "IiKYmJju7u5mZmaqqqpUVFSIiIh2dnbc3NwAAAASYyFDAAAAAXRSTlMAQObYZgAAAGRJREFUCNdj\n",
       "YLiz6+aODQyoACLGfoAtjCUAyOUQBIMFQCZUjIeB+wGnAaomqBg7A5cCmnEIMRZ0mxBi9wwYCkB2\n",
       "hYKBAkKM7cI+Bu4CVD1QsXkJKgy30YyDihXtqTmdgCYFEQMAdR8iucJEqs4AAAAASUVORK5CYII=\n",
       "\" style=\"display:inline;vertical-align:middle;\" /></a></td></tr>\n",
       "<tr><td>2</td><td>Literal</td><td></td><td><a class=\"ProveItLink\" href=\"../2fb26078095930560931daa0500ce419a39ea6cd0/expr.ipynb\"><img src=\"data:image/png;base64,iVBORw0KGgoAAAANSUhEUgAAAA4AAAAFBAMAAACHocAhAAAAFVBMVEX///9EREQiIiJUVFQyMjJm\n",
       "ZmYAAADubVkoAAAAAXRSTlMAQObYZgAAABRJREFUCNdjCHEBAWcGXCBICQQUAUpuAwlgGKrkAAAA\n",
       "AElFTkSuQmCC\n",
       "\" style=\"display:inline;vertical-align:middle;\" /></a></td></tr>\n",
       "<tr><td>3</td><td>ExprTuple</td><td>4, 4</td><td><a class=\"ProveItLink\" href=\"../fcb1a8a31a747e11bd26909a022a620cad5862ad0/expr.ipynb\"><img src=\"data:image/png;base64,iVBORw0KGgoAAAANSUhEUgAAAC0AAAAVBAMAAAAgHXppAAAAMFBMVEX////c3NwiIiJERESqqqqY\n",
       "mJh2dnZmZmYQEBDu7u4yMjJUVFTMzMyIiIi6uroAAAAs73DqAAAAAXRSTlMAQObYZgAAAQBJREFU\n",
       "GNNjYMAF+C5gCMWBiNOYStkPAImVWMxYwMDAewGLeBgDA8cELOIzGBheYXMLswNDGZASuy1yHWIc\n",
       "Y+5G31oGBrYChqUMDJwJrKocCmDxaQxBAU0MDCwLGPqAsgy8H1gOgMUTGO4z+AD91MDwD6iegdsA\n",
       "avAEhs0giucDSBzoKIRje6HiLSBa/gAD1LmMf4DaQeaYMjCwCtxn4J0Algnk/cBwEyiygCGdgcE/\n",
       "wIJBloHzE9AdX5kbGC+A3fmIgWHytWm5AQyc/QIMnLaZaVeB2rgeMHAIwANcADkcWBNgHFZEOOQi\n",
       "hzNCnBMYzgzSMB7CD9wgExkxI+AOAwMAOKk2wNjr87YAAAAASUVORK5CYII=\n",
       "\" style=\"display:inline;vertical-align:middle;\" /></a></td></tr>\n",
       "<tr><td>4</td><td>Variable</td><td></td><td><a class=\"ProveItLink\" href=\"../../../../__pv_it/530be409e3083890784cf1d7b28c9e67e90af9360/expr.ipynb\"><img src=\"data:image/png;base64,iVBORw0KGgoAAAANSUhEUgAAAAsAAAAJBAMAAAAWSsseAAAAKlBMVEX///9ERETMzMwQEBAiIiKY\n",
       "mJju7u5mZmaqqqpUVFSIiIh2dnbc3NwAAAA/vyDhAAAAAXRSTlMAQObYZgAAAENJREFUCNdjYDi9\n",
       "8sTyBQxsG1hdmR0YuBm4LnAoMLAxcAowgADzAjB1VoEhgYH1wFoGrgSG3gBhhlMMDImrs3cFMAAA\n",
       "t0YN+iTRa+sAAAAASUVORK5CYII=\n",
       "\" style=\"display:inline;vertical-align:middle;\" /></a></td></tr>\n",
       "</table>\n"
      ],
      "text/plain": [
       "0. x -> (x = x)\n",
       "   core type: Lambda\n",
       "   parameter: 4\n",
       "   body: 1\n",
       "1. x = x\n",
       "   core type: Operation\n",
       "   operator: 2\n",
       "   operands: 3\n",
       "2. =\n",
       "   core type: Literal\n",
       "   sub-expressions: \n",
       "3. (x , x)\n",
       "   core type: ExprTuple\n",
       "   sub-expressions: 4, 4\n",
       "4. x\n",
       "   core type: Variable\n",
       "   sub-expressions: "
      ]
     },
     "execution_count": 4,
     "metadata": {},
     "output_type": "execute_result"
    }
   ],
   "source": [
    "# display the expression information\n",
    "expr.exprInfo()"
   ]
  },
  {
   "cell_type": "code",
   "execution_count": null,
   "metadata": {},
   "outputs": [],
   "source": []
  }
 ],
 "metadata": {
  "kernelspec": {
   "display_name": "Python 3",
   "language": "python",
   "name": "python3"
  }
 },
 "nbformat": 4,
 "nbformat_minor": 0
}
