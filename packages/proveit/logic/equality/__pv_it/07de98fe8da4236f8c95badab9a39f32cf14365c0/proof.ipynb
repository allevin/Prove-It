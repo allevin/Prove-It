{
 "cells": [
  {
   "cell_type": "markdown",
   "metadata": {},
   "source": [
    "Show the Proof\n",
    "========"
   ]
  },
  {
   "cell_type": "code",
   "execution_count": 1,
   "metadata": {},
   "outputs": [
    {
     "data": {
      "text/html": [
       "<table><tr><th>&nbsp;</th><th>step type</th><th>requirements</th><th>statement</th></tr>\n",
       "<tr><td>0</td><td>assumption</td><td></td><td><span style=\"font-size:20px;\"><a class=\"ProveItLink\" href=\"../d38b61f5daf27423fb3809708efadb457c6c064f0/expr.ipynb\"><img src=\"data:image/png;base64,iVBORw0KGgoAAAANSUhEUgAAAJsAAAAVCAMAAABmBWwWAAAAPFBMVEX///8LCwsYGBgNDQ0oKCjc\n",
       "3NxERESqqqpUVFS6urrMzMwyMjIQEBCIiIh2dnYiIiLu7u5mZmaYmJgAAADzuxXdAAAAAXRSTlMA\n",
       "QObYZgAAAiFJREFUSMfNV0lyxCAMdBb23fz/r7ExAgMCu5JLOMxQjKQWLdEw23aOPezb/xnSWgJz\n",
       "7yxMhZl67OJ99EWYNCo2jiA1yzMTyxofHDzX7poF+XrjfP07Ufh6RQhgYTUsKY94KEBSb3NDw9wG\n",
       "n5WgIJSUysSgpYjA727RgEMixvyOthvCmJvG9isirHr9jiX9W9oqwpCbQPdjXZlShjZ+113iofaS\n",
       "zn8DhCG3gNZMcWP4JTE24KeurWEJQ7ixQg9HknZn6m4GCCU3OBQKEzkfz23GFI9VRoK7jdjkDGES\n",
       "Ho3VRaXx/XV+Vq4bM0DYI4hJrn/+vsEeDLDUbtpeYSalYOrWQjkMiWeOgT7Q1poVBBWSFmkwjgLR\n",
       "qYvUixkZp02sdHHOYXgyduahO1uzikAT/QKSQ3NzIZ3VfZmbVLaezRwm9YKPvWCrrv9as4IAVxXP\n",
       "RdYMyS2pW7h05FbTpt8cvavGFYbEkwoWq/4ll8+P7FFK2pgBAvRbUQm6Y7nJ0m7bjqsDa8t0hfFp\n",
       "U8e2mVzR1pkBwqAho0Qc9vzwDXxbaEgv89nq7Bd2dIRddVtvNmhI0V6HdTk35QGlUEGnHRU5zCFb\n",
       "RkhqxIq23gwQkDuLLAV9cmcNz5N5GBa2dwhjbpPLfKL/2+ONPQz3cNMWhJqSfvW48X9+Iz3Spob3\n",
       "my8CSVaPQk7e5jYL80RbQZBVyY8qZGkj87KZ18/eaZiHVz0gwP+FH4DtGvBfHwGMAAAAAElFTkSu\n",
       "QmCC\n",
       "\" style=\"display:inline;vertical-align:middle;\" /></a> <a class=\"ProveItLink\" href=\"proof.ipynb\" style=\"text-decoration: none\">&#x22A2;&nbsp;</a><a class=\"ProveItLink\" href=\"../0c38bc582be0853eff67eab3ffe61b2adea3c69b0/expr.ipynb\"><img src=\"data:image/png;base64,iVBORw0KGgoAAAANSUhEUgAAAIUAAAAVCAMAAABfYt1NAAAAPFBMVEX///8LCwsYGBgNDQ0oKCjc\n",
       "3NwiIiJERESqqqqYmJh2dnZmZmYQEBDu7u4yMjJUVFTMzMyIiIi6uroAAACIMCsmAAAAAXRSTlMA\n",
       "QObYZgAAAclJREFUSMfNVtmS4yAM9O4shwGL6///dbHAB1iAKzMPw0MqFaRuqXWQZfktJ/ju1Rp+\n",
       "BAaPYiMGZx9XmzU8f9PubRAETHUY0L8XBtiIOzgw4W0UJMzt2J6syOBJIaM8FFOk64PS+8+kKAyG\n",
       "yiHE49fNvMvcfCoFMgQyRsXPr0KSrdh0QZhUzon+XWLQpOJgvbdrDkjTHV9X4IRh1qtgHuMgmi6/\n",
       "myUGWCmR4h56RE95Zan57cQqugMGkUW8XADPv6/989KvMksMJrQEKSuJbWFUdugIKeFW6gLD4h6N\n",
       "FhMparPEEAMx9xrzz9m62G0rMKdzgbFozP2ki2qzxEBGwTXOyTqMwoG65qLAYCW32K46aPqkNksM\n",
       "RhJR4LbQeVpvFan6gov7bGYYFvf0ZLz2Cbr8/VM8zoJUZolBrFQU7myLZaVnUNYiZ5gNw7ewSDeS\n",
       "ojFLDM9BTDc2WelCQ09quwqL1T4qMtVTjbqiNUu+gVN9Z70+NAJy6YkmvQKT1oAPTvgwkqI12xkM\n",
       "Gy69zgZ/PLV9GKmXOUPnuersyGX4JpGHT16YzDB8krdvv+xTKaAUafQUsrdR9GBmUhwMrC+6f/1X\n",
       "qwsz+c+IDP8BPQ8V3xWX34oAAAAASUVORK5CYII=\n",
       "\" style=\"display:inline;vertical-align:middle;\" /></a></span></td></tr>\n",
       "</table>"
      ],
      "text/plain": [
       "<proveit._core_.proof._ShowProof at 0x7f94ea9e77f0>"
      ]
     },
     "execution_count": 1,
     "metadata": {},
     "output_type": "execute_result"
    }
   ],
   "source": [
    "import proveit\n",
    "%show_proof"
   ]
  },
  {
   "cell_type": "code",
   "execution_count": null,
   "metadata": {},
   "outputs": [],
   "source": []
  }
 ],
 "metadata": {
  "kernelspec": {
   "display_name": "Python 3",
   "language": "python",
   "name": "python3"
  }
 },
 "nbformat": 4,
 "nbformat_minor": 0
}
