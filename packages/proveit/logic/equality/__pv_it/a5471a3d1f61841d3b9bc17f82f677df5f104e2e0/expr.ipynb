{
 "cells": [
  {
   "cell_type": "markdown",
   "metadata": {},
   "source": [
    "Expression of type <a class=\"ProveItLink\" href=\"../../../../../../doc/html/api/proveit.ExprTuple.html\">ExprTuple</a>\n",
    "=======================\n",
    "# from context <a class=\"ProveItLink\" href=\"../../_context_.ipynb\">proveit.logic.equality</a>"
   ]
  },
  {
   "cell_type": "code",
   "execution_count": 1,
   "metadata": {},
   "outputs": [],
   "source": [
    "# import Expression classes needed to build the expression\n",
    "from proveit import ExprTuple\n",
    "from proveit._common_ import d, y\n",
    "from proveit.logic import Equals"
   ]
  },
  {
   "cell_type": "code",
   "execution_count": 2,
   "metadata": {},
   "outputs": [
    {
     "data": {
      "text/html": [
       "<strong id=\"expr\">expr:</strong> <a class=\"ProveItLink\" href=\"expr.ipynb\"><img src=\"data:image/png;base64,iVBORw0KGgoAAAANSUhEUgAAAD0AAAAVBAMAAAAHs/uBAAAAMFBMVEX////c3NwiIiJERESqqqqY\n",
       "mJh2dnZmZmYQEBDu7u4yMjJUVFTMzMyIiIi6uroAAAAs73DqAAAAAXRSTlMAQObYZgAAASdJREFU\n",
       "KM9jYCAE+C7glIoDEafBiiwKsMizHwASK8FMfgdsBixgYOCFGP9+Ajb5MAYGDohEElYHzGBgeAVh\n",
       "Lccqz+zAUAakGPfmfUGV4ExPYJCfwMBWwLAUyHshwPwTJFq1CgRWA1lsfB8Y7jMwsCxg6ANq/8rA\n",
       "vgBV/xF2BQZjoLcbGP4xMHB/YGBKQJWfwHGB4S8DA88HkDy/AcP8B2gu85/A8wcs38LAIH+BwZ8B\n",
       "5M0iJRBQBjuFgbcBbL4pA8N8B4ZdLAdQ9S9nYN7AwMC6gCGdgYErgEWdDc38aob3AQwg/z0Cef/e\n",
       "4Xto8pPv1gsAdT5g4BDAEblJkPBlTcAmya3ACXQ4Qy48ftEAUwIzUB8nKNSkscmz3K0DmQKymxF3\n",
       "+rrDwAAApH1EX0ixCz4AAAAASUVORK5CYII=\n",
       "\" style=\"display:inline;vertical-align:middle;\" /></a><br>"
      ],
      "text/plain": [
       "expr: (d = y)"
      ]
     },
     "execution_count": 2,
     "metadata": {},
     "output_type": "execute_result"
    }
   ],
   "source": [
    "# build up the expression from sub-expressions\n",
    "expr = ExprTuple(Equals(d, y))"
   ]
  },
  {
   "cell_type": "code",
   "execution_count": 3,
   "metadata": {},
   "outputs": [
    {
     "name": "stdout",
     "output_type": "stream",
     "text": [
      "Passed sanity check: built 'expr' is the same as the stored Expression.\n"
     ]
    }
   ],
   "source": [
    "# check that the built expression is the same as the stored expression\n",
    "%check_expr"
   ]
  },
  {
   "cell_type": "code",
   "execution_count": 4,
   "metadata": {},
   "outputs": [
    {
     "data": {
      "text/html": [
       "<table><tr><th>&nbsp;</th><th>core type</th><th>sub-expressions</th><th>expression</th></tr>\n",
       "<tr><td>0</td><td>ExprTuple</td><td>1</td><td><a class=\"ProveItLink\" href=\"expr.ipynb\"><img src=\"data:image/png;base64,iVBORw0KGgoAAAANSUhEUgAAAD0AAAAVBAMAAAAHs/uBAAAAMFBMVEX////c3NwiIiJERESqqqqY\n",
       "mJh2dnZmZmYQEBDu7u4yMjJUVFTMzMyIiIi6uroAAAAs73DqAAAAAXRSTlMAQObYZgAAASdJREFU\n",
       "KM9jYCAE+C7glIoDEafBiiwKsMizHwASK8FMfgdsBixgYOCFGP9+Ajb5MAYGDohEElYHzGBgeAVh\n",
       "Lccqz+zAUAakGPfmfUGV4ExPYJCfwMBWwLAUyHshwPwTJFq1CgRWA1lsfB8Y7jMwsCxg6ANq/8rA\n",
       "vgBV/xF2BQZjoLcbGP4xMHB/YGBKQJWfwHGB4S8DA88HkDy/AcP8B2gu85/A8wcs38LAIH+BwZ8B\n",
       "5M0iJRBQBjuFgbcBbL4pA8N8B4ZdLAdQ9S9nYN7AwMC6gCGdgYErgEWdDc38aob3AQwg/z0Cef/e\n",
       "4Xto8pPv1gsAdT5g4BDAEblJkPBlTcAmya3ACXQ4Qy48ftEAUwIzUB8nKNSkscmz3K0DmQKymxF3\n",
       "+rrDwAAApH1EX0ixCz4AAAAASUVORK5CYII=\n",
       "\" style=\"display:inline;vertical-align:middle;\" /></a></td></tr>\n",
       "<tr><td>1</td><td>Operation</td><td>operator:&nbsp;2<br>operands:&nbsp;3<br></td><td><a class=\"ProveItLink\" href=\"../5f3ea4ca980b6b06009e0fe7ef542f069753deb70/expr.ipynb\"><img src=\"data:image/png;base64,iVBORw0KGgoAAAANSUhEUgAAADEAAAASBAMAAAAAiiu3AAAAMFBMVEX////MzMyYmJiIiIhUVFTc\n",
       "3NwyMjIiIiJ2dnbu7u6qqqpmZmYQEBBERES6uroAAABkyy6XAAAAAXRSTlMAQObYZgAAALZJREFU\n",
       "GNNjYGBg4LuzgQEH4F+AS+b9BFwy7bgkGLKxC7M69/1CFeHsbmCIB1rwJoD3J4i/LQ0EUoAsDr4P\n",
       "DPZALZ8YuBNQ9UhxFzDcZWBg+cDA3oAqM4HHgOEz0C8XGOY/QLN6/QTGjwwM8QYM6xlA/tleDgK1\n",
       "YCsZmA8wMMxfwODGJYDuC14HBgY2Ba5qDjTTtjC8VwB5x07WDk1mrvH+ABLDi6WA8xR2GfYG3gbs\n",
       "MlzG+4AkAHUMLAIZyQBBAAAAAElFTkSuQmCC\n",
       "\" style=\"display:inline;vertical-align:middle;\" /></a></td></tr>\n",
       "<tr><td>2</td><td>Literal</td><td></td><td><a class=\"ProveItLink\" href=\"../2fb26078095930560931daa0500ce419a39ea6cd0/expr.ipynb\"><img src=\"data:image/png;base64,iVBORw0KGgoAAAANSUhEUgAAAA4AAAAFBAMAAACHocAhAAAAFVBMVEX///9EREQiIiJUVFQyMjJm\n",
       "ZmYAAADubVkoAAAAAXRSTlMAQObYZgAAABRJREFUCNdjCHEBAWcGXCBICQQUAUpuAwlgGKrkAAAA\n",
       "AElFTkSuQmCC\n",
       "\" style=\"display:inline;vertical-align:middle;\" /></a></td></tr>\n",
       "<tr><td>3</td><td>ExprTuple</td><td>4, 5</td><td><a class=\"ProveItLink\" href=\"../88229caf721577d7fd7ad8de87d28939e014179e0/expr.ipynb\"><img src=\"data:image/png;base64,iVBORw0KGgoAAAANSUhEUgAAACsAAAAVBAMAAAAtAwouAAAAMFBMVEX////c3NwiIiJERESqqqqY\n",
       "mJh2dnZmZmYQEBDu7u4yMjJUVFTMzMyIiIi6uroAAAAs73DqAAAAAXRSTlMAQObYZgAAASBJREFU\n",
       "GNN1kT1LA0EQhp/kLvdhckl6i1xnK4hgef8gqSzlsEmlpLJQ0BTWcmCTLteI2FkLQkA7m/sBJkYr\n",
       "sUkELQQVZ3dNPBQXdnbm2dnZd3bhn1HNfpMNZW703lrnB7sDMWfarUW59BQCU2OS5PA6eCbezBfv\n",
       "wZPxTvPYitiRpXC5/aJjvx3TSHA6nEj0WLfeNHaqU+7ATjmS5FfcVONrN2RF5Hb5hPKUYqxx4mV8\n",
       "QGWqcG2Z/thc1kwq7xofQiOjidG5S9DVRVahH3FhD3yj0zqHUkobFlr2kkM/FLzHpIUS+KBkj65G\n",
       "9J4FHw8P6pI3xqvPerufv4I0X4pnWE6XQ18ksDV/WIOLsSVZvupt8ZsGMu3hvtiyqlv482m38AVT\n",
       "rUKI7neIoAAAAABJRU5ErkJggg==\n",
       "\" style=\"display:inline;vertical-align:middle;\" /></a></td></tr>\n",
       "<tr><td>4</td><td>Variable</td><td></td><td><a class=\"ProveItLink\" href=\"../../../../__pv_it/3a5de44ed6135dbbdbbeec6704c741e238f127300/expr.ipynb\"><img src=\"data:image/png;base64,iVBORw0KGgoAAAANSUhEUgAAAAsAAAAOBAMAAAALT/umAAAAMFBMVEX////MzMyYmJiIiIhUVFTc\n",
       "3NwyMjIiIiJ2dnbu7u6qqqpmZmYQEBBERES6uroAAABkyy6XAAAAAXRSTlMAQObYZgAAAFhJREFU\n",
       "CNdjYGBg4LuzgQEE+BeAqfcTwFQ7mGTIBmJW575fQOpNAO9PIOcTA3cCAwPLBwb2BqCeCwzzHzAw\n",
       "xBswrGeYwDB/AYMblwADmwJXNQdIm52sHQMAfyoTCZukXIEAAAAASUVORK5CYII=\n",
       "\" style=\"display:inline;vertical-align:middle;\" /></a></td></tr>\n",
       "<tr><td>5</td><td>Variable</td><td></td><td><a class=\"ProveItLink\" href=\"../../../../__pv_it/f8b9edf8e16034727f0aad55bb83e392c3db40d40/expr.ipynb\"><img src=\"data:image/png;base64,iVBORw0KGgoAAAANSUhEUgAAAAsAAAANBAMAAACN24kIAAAAMFBMVEX///+YmJhUVFQyMjIQEBBE\n",
       "REQiIiKqqqrMzMyIiIi6urrc3NxmZmZ2dnbu7u4AAADXeCicAAAAAXRSTlMAQObYZgAAAFhJREFU\n",
       "CNdj4LtzgWH/AwZerg8M8xkY2nkSGEIZGB6wTGD4ycDAUP+A4weQOszA6QCkbBhYFYDUIYb1AkDq\n",
       "6czzGxhA4BoQMyXwuQMptgusF4AU+8xTQBIAUqMVoSp/SLMAAAAASUVORK5CYII=\n",
       "\" style=\"display:inline;vertical-align:middle;\" /></a></td></tr>\n",
       "</table>\n"
      ],
      "text/plain": [
       "0. (d = y)\n",
       "   core type: ExprTuple\n",
       "   sub-expressions: 1\n",
       "1. d = y\n",
       "   core type: Operation\n",
       "   operator: 2\n",
       "   operands: 3\n",
       "2. =\n",
       "   core type: Literal\n",
       "   sub-expressions: \n",
       "3. (d , y)\n",
       "   core type: ExprTuple\n",
       "   sub-expressions: 4, 5\n",
       "4. d\n",
       "   core type: Variable\n",
       "   sub-expressions: \n",
       "5. y\n",
       "   core type: Variable\n",
       "   sub-expressions: "
      ]
     },
     "execution_count": 4,
     "metadata": {},
     "output_type": "execute_result"
    }
   ],
   "source": [
    "# display the expression information\n",
    "expr.exprInfo()"
   ]
  },
  {
   "cell_type": "code",
   "execution_count": null,
   "metadata": {},
   "outputs": [],
   "source": []
  }
 ],
 "metadata": {
  "kernelspec": {
   "display_name": "Python 3",
   "language": "python",
   "name": "python3"
  }
 },
 "nbformat": 4,
 "nbformat_minor": 0
}
