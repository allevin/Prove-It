{
 "cells": [
  {
   "cell_type": "markdown",
   "metadata": {},
   "source": [
    "Expression of type <a class=\"ProveItLink\" href=\"../../../../../../doc/html/api/proveit.Lambda.html\">Lambda</a>\n",
    "=======================\n",
    "# from context <a class=\"ProveItLink\" href=\"../../_context_.ipynb\">proveit.logic.equality</a>"
   ]
  },
  {
   "cell_type": "code",
   "execution_count": 1,
   "metadata": {},
   "outputs": [],
   "source": [
    "# import Expression classes needed to build the expression\n",
    "from proveit import Lambda\n",
    "from proveit._common_ import x, y\n",
    "from proveit.logic import Equals, Forall, Not, NotEquals"
   ]
  },
  {
   "cell_type": "code",
   "execution_count": 2,
   "metadata": {},
   "outputs": [
    {
     "data": {
      "text/html": [
       "<strong id=\"expr\">expr:</strong> <a class=\"ProveItLink\" href=\"expr.ipynb\"><img src=\"data:image/png;base64,iVBORw0KGgoAAAANSUhEUgAAAOYAAAAZCAMAAAAScKJFAAAAP1BMVEX///8LCwsYGBgoKCi6uroU\n",
       "FBQNDQ0yMjJERETMzMwQEBAiIiKYmJju7u5mZmaqqqpUVFSIiIh2dnbc3NwAAAAS4NNmAAAAAXRS\n",
       "TlMAQObYZgAAAuNJREFUWMPtWFmS3CAMJQkJYLMJfP+zBoyxAQsvY3eqpip8TPfQIPSkpwUIuTn4\n",
       "OI6efKNBg8Lu9q6RfL/h7X+YBzDVv6UdnCxwaBRJ+hTm5lIJH0cpzpT0DJ/X4iFMZ/K/7POOPT3C\n",
       "0t7OhzA9zwL4x1ECfNGZgWruYQrKFtbm4zCHLzuTqOEhTOn8PD6fdyk7C90DQnGzwfQOrDegoWF0\n",
       "GsagBWXicdyru16cLtmTQ+cjWjVXKJVU5eYNfpo54PQKU4VpOUoyjHhltAqDaWfhHMvkPQ75CzYR\n",
       "uzVMZv0bNTWbx68/8e/KSkfoFAN6SlZjK0y3zBqBw1TWIzBpFKxQQvVIdClbudZIA836N2qizhSG\n",
       "6KghT4fRYfNm9E2pwp/fYzWGiSJdUPwEeQOOuVRhd5bLh+/ULMxdbA92iedM6TAxVSlogIN2rs5k\n",
       "+dcIcVQ3YPJrDb8VOMydmgunW6kmRqWYBALTz7MKh6k92tMGsy/tCQVe5f0OzMSfkEcotFBKCW2Z\n",
       "HLasVKupI9N+/kiM287UkQ6wVJKCtNKngAUcpoBO6859crMCMnkihhNvipmNTkXmBdUtywNqCQ0L\n",
       "CV8CY6cm7kzCYnLlixC5piAzScLDCX6FAy3bcZhGp69e0fAFOAbT8TRYVp9uqbNIwaUE0QTnUhP2\n",
       "amI2id4MU3SS1eYAU3Fwyjk8mxxexNZIsSELWjjyZpgyWaMJidFCQguTpgNxNffOjAtB5zMYfX7f\n",
       "lKrI+YM4gUmX6cjNsJYXpK0k0Hb70E9dRneq0vhSs1crIlJNPoSpxpT5HEs1sCdBuk7/jemyz/R2\n",
       "jOiWtOXgTZjGAmeHMMWiU2CU0YF9BxI0vXwRw5wZ20/umhr8Ckzvq9DsFRToX2ZKCez6EwdWtk2I\n",
       "zGyotX17BWYwXnWN6MBU/WavkID1Sr7TP9GTi6p49ckrGNBd6V1NN5kXEu4r9KEnr9N32q5MeX4R\n",
       "c++/ucR3WvsXDJskz/RSovEAAAAASUVORK5CYII=\n",
       "\" style=\"display:inline;vertical-align:middle;\" /></a><br>"
      ],
      "text/plain": [
       "expr: x -> [forall_{y | [not](x = y)} (x != y)]"
      ]
     },
     "execution_count": 2,
     "metadata": {},
     "output_type": "execute_result"
    }
   ],
   "source": [
    "# build up the expression from sub-expressions\n",
    "expr = Lambda(x, Forall([y], NotEquals(x, y), conditions = [Not(Equals(x, y))]))"
   ]
  },
  {
   "cell_type": "code",
   "execution_count": 3,
   "metadata": {},
   "outputs": [
    {
     "name": "stdout",
     "output_type": "stream",
     "text": [
      "Passed sanity check: built 'expr' is the same as the stored Expression.\n"
     ]
    }
   ],
   "source": [
    "# check that the built expression is the same as the stored expression\n",
    "%check_expr"
   ]
  },
  {
   "cell_type": "code",
   "execution_count": 4,
   "metadata": {},
   "outputs": [
    {
     "data": {
      "text/html": [
       "<table><tr><th>&nbsp;</th><th>core type</th><th>sub-expressions</th><th>expression</th></tr>\n",
       "<tr><td>0</td><td>Lambda</td><td>parameter:&nbsp;12<br>body:&nbsp;1<br></td><td><a class=\"ProveItLink\" href=\"expr.ipynb\"><img src=\"data:image/png;base64,iVBORw0KGgoAAAANSUhEUgAAAOYAAAAZCAMAAAAScKJFAAAAP1BMVEX///8LCwsYGBgoKCi6uroU\n",
       "FBQNDQ0yMjJERETMzMwQEBAiIiKYmJju7u5mZmaqqqpUVFSIiIh2dnbc3NwAAAAS4NNmAAAAAXRS\n",
       "TlMAQObYZgAAAuNJREFUWMPtWFmS3CAMJQkJYLMJfP+zBoyxAQsvY3eqpip8TPfQIPSkpwUIuTn4\n",
       "OI6efKNBg8Lu9q6RfL/h7X+YBzDVv6UdnCxwaBRJ+hTm5lIJH0cpzpT0DJ/X4iFMZ/K/7POOPT3C\n",
       "0t7OhzA9zwL4x1ECfNGZgWruYQrKFtbm4zCHLzuTqOEhTOn8PD6fdyk7C90DQnGzwfQOrDegoWF0\n",
       "GsagBWXicdyru16cLtmTQ+cjWjVXKJVU5eYNfpo54PQKU4VpOUoyjHhltAqDaWfhHMvkPQ75CzYR\n",
       "uzVMZv0bNTWbx68/8e/KSkfoFAN6SlZjK0y3zBqBw1TWIzBpFKxQQvVIdClbudZIA836N2qizhSG\n",
       "6KghT4fRYfNm9E2pwp/fYzWGiSJdUPwEeQOOuVRhd5bLh+/ULMxdbA92iedM6TAxVSlogIN2rs5k\n",
       "+dcIcVQ3YPJrDb8VOMydmgunW6kmRqWYBALTz7MKh6k92tMGsy/tCQVe5f0OzMSfkEcotFBKCW2Z\n",
       "HLasVKupI9N+/kiM287UkQ6wVJKCtNKngAUcpoBO6859crMCMnkihhNvipmNTkXmBdUtywNqCQ0L\n",
       "CV8CY6cm7kzCYnLlixC5piAzScLDCX6FAy3bcZhGp69e0fAFOAbT8TRYVp9uqbNIwaUE0QTnUhP2\n",
       "amI2id4MU3SS1eYAU3Fwyjk8mxxexNZIsSELWjjyZpgyWaMJidFCQguTpgNxNffOjAtB5zMYfX7f\n",
       "lKrI+YM4gUmX6cjNsJYXpK0k0Hb70E9dRneq0vhSs1crIlJNPoSpxpT5HEs1sCdBuk7/jemyz/R2\n",
       "jOiWtOXgTZjGAmeHMMWiU2CU0YF9BxI0vXwRw5wZ20/umhr8Ckzvq9DsFRToX2ZKCez6EwdWtk2I\n",
       "zGyotX17BWYwXnWN6MBU/WavkID1Sr7TP9GTi6p49ckrGNBd6V1NN5kXEu4r9KEnr9N32q5MeX4R\n",
       "c++/ucR3WvsXDJskz/RSovEAAAAASUVORK5CYII=\n",
       "\" style=\"display:inline;vertical-align:middle;\" /></a></td></tr>\n",
       "<tr><td>1</td><td>Operation</td><td>operator:&nbsp;2<br>operand:&nbsp;3<br></td><td><a class=\"ProveItLink\" href=\"../f88749ebf18d3d0f8b3ee41a4de4a01b3f6c9f800/expr.ipynb\"><img src=\"data:image/png;base64,iVBORw0KGgoAAAANSUhEUgAAAKsAAAAXCAMAAABDPk8lAAAAPFBMVEX///8LCwsYGBgNDQ0oKCgQ\n",
       "EBC6urrMzMxUVFRmZmZERETc3NwyMjKqqqp2dnaIiIiYmJgiIiLu7u4AAACwKje0AAAAAXRSTlMA\n",
       "QObYZgAAAmFJREFUSMfVV9mS4yAMZHeH+xDH///rIrAdbMAkU5NUjR5SEw+WWt06CCG/yOJnwzFY\n",
       "HHB69NQz/AyP7/B+qFwsDmgzfi455mH3r+YDFC9jCDZ7ExNRe0bq/VABvklrVt01qUr7fqz027SS\n",
       "SAtgXSx8oLHMqpxvtFXIZVJowb0UVvPViYFMcouhHQhtQXYVoU5eoysv6FTUcBJ5LwfUcFbMJNHr\n",
       "zHh/xPgNQ1YzeEIPKaUp9vUPP49R4QhLWOSp5o6iMPxnHMsz0+SZPnRdopRtGCoAy29p5ZZIzEbV\n",
       "YIzuIxb8K5jsM6O4Tz+xY/2IgWcmrluKYpxUg/FCL+IM8RWs44LpmpqPsRaKB9maq1eLlcoTb7Bm\n",
       "ArZ9wkCdJ8sEK61agmBwBdS46KYpPfpNFwBHHBmy/f0Tij1iSlQGKGlqINNU51oEkjThdMUrL+q6\n",
       "iErm+MLsBicX7LpQVS00r2u/QLynlRhsfbV58bWkrKwdqSPLf4AaYnWqmtlBsKOx2wHRuODXgi1j\n",
       "JyvricrJaLir1sJrfsSSb19uqkfkHhVwy2t+ZHe3aVC3DxcdVlYoiQpcdO7azT2teBLkHsNsxe5j\n",
       "M1UoX2Fl22OUOh9WTQ20Llj3Np33pJWTyReaHXt2xuv8vccaQ+1LZ+qwnLjwbngBGdtgEImAELd+\n",
       "dN3gsAKUucfKN8dZICuzmnMXkj1/JxzRimtfudmw1vpcrrOZBfM7WeNisAq1eJ7WvHHgSFd01ZOz\n",
       "ON+FJljjfMc+XAyXm55sPLa4+PJRJu6pvW/9tEcOF6ufKz9t03h+eSd0P/6T6D/kxRnCbHjwwQAA\n",
       "AABJRU5ErkJggg==\n",
       "\" style=\"display:inline;vertical-align:middle;\" /></a></td></tr>\n",
       "<tr><td>2</td><td>Literal</td><td></td><td><a class=\"ProveItLink\" href=\"../../../boolean/quantification/universal/__pv_it/265f8c02ac1094d56e0e6410a1c1fd3500dc9f540/expr.ipynb\"><img src=\"data:image/png;base64,iVBORw0KGgoAAAANSUhEUgAAAAwAAAAQBAMAAADQT4M0AAAAMFBMVEX///8QEBC6urrMzMxUVFRm\n",
       "ZmZERETc3NwyMjKqqqp2dnaIiIiYmJgiIiLu7u4AAAAU9Wx4AAAAAXRSTlMAQObYZgAAAFhJREFU\n",
       "CNdjeMAABhdAxGmGlSCqj6EMSLInMHAAJVknMPAsLy+vBYp8S0u7BaScGRjSgZQKA18DkOJl4D4A\n",
       "pLgP8IJM4mswARuX7gSmpoKNZWDcAKZ4gCoAgTQTILaSE58AAAAASUVORK5CYII=\n",
       "\" style=\"display:inline;vertical-align:middle;\" /></a></td></tr>\n",
       "<tr><td>3</td><td>Lambda</td><td>parameter:&nbsp;13<br>body:&nbsp;4<br>conditions:&nbsp;5<br></td><td><a class=\"ProveItLink\" href=\"../b7010834814531023b251f0d337455ca7793be170/expr.ipynb\"><img src=\"data:image/png;base64,iVBORw0KGgoAAAANSUhEUgAAANcAAAAVCAMAAADig4s4AAAAP1BMVEX///8LCwsYGBgoKCgUFBQN\n",
       "DQ2YmJhUVFQyMjIQEBBEREQiIiKqqqrMzMyIiIi6urrc3NxmZmZ2dnbu7u4AAAAcetcUAAAAAXRS\n",
       "TlMAQObYZgAAAiVJREFUWMPNl9ly4yAQRUkyYd/h/791hCVZYmkQpFIz/eCyLdGHy202hP5dSIv+\n",
       "ozC6/9w3e4tN403zMxIQ2Ky0UqT/3NL2/07N6hqRwGigxkFD/zmBOktndY1InZbzTbRes2srDz+n\n",
       "S+vlqVKjhsFW7UKBzeliy3Y1UMNFY2Cx4vAzLmd0GYrWI6GCd8k2G0OzOmXWG3c4bL0mVmpX1grP\n",
       "pmye2rsZXScJRBUWVSiPTEzlHM9XRFFZ93qg+MiyFbHAiJ3vOvqKr+/0+V7H8tSSzug6SCBqDxil\n",
       "JHKpCeeArkBuGxIzR5Y9hVQ9u4rUhsG6nHiHz0ggqqj/CrW5wZLF8e3z9x+RBYsX//iaLCT1VDL5\n",
       "jlOkVvGJX+eudUIBVFmGDZRMNamiAvzKlribRFYXPC2PGlnqNV0Aqj6UVSiX6l5fRVLocvfOsvcq\n",
       "Yl8pwr2OPj92g6/RzVL36rDWdZFaqDN6KJrWKU4AXSobK77PZmz3GapD1648NaYzug4SgGqsMxXK\n",
       "bT9MxNdGX1buvStu9xwjvg2J1Z3ZhcrUD9d5lb3dRrX2hQoVuNYuPrszmJeZWwsfvNe4P7uK1NRM\n",
       "7csCwajWytFEefH0HAXqlw64t4jFc9T87SxDEZG+yB8fKUU9AbLUXs/pmju81qi0EfLnOaDbQ8uu\n",
       "e+rwu/eUGiW3upy4YVry2K4sNbGzuuzMvXKAeiKsvTINhkY3jkHaLJGGV8SE+gvuLCIOts062QAA\n",
       "AABJRU5ErkJggg==\n",
       "\" style=\"display:inline;vertical-align:middle;\" /></a></td></tr>\n",
       "<tr><td>4</td><td>Operation</td><td>operator:&nbsp;6<br>operands:&nbsp;11<br></td><td><a class=\"ProveItLink\" href=\"../300e2e5a84d087a5fb9402300e42d269677e6d4f0/expr.ipynb\"><img src=\"data:image/png;base64,iVBORw0KGgoAAAANSUhEUgAAADMAAAAUCAMAAAAX1vWWAAAAPFBMVEX///8LCwsYGBgNDQ0oKCi6\n",
       "uroyMjJERETMzMwQEBAiIiKYmJju7u5mZmaqqqpUVFSIiIh2dnbc3NwAAACyXdPkAAAAAXRSTlMA\n",
       "QObYZgAAANBJREFUOMvNU0sWwiAMjB/KNxDg/nc1obZqK/jYmQUdIGFmSgAYRi4wG2WZLoGk/pXG\n",
       "6L6CTKlEQjpuaPM+CxmzZNcgGMA7D9Ztu7i0uN9kTPtvB1X5Q7XhFUQzpDERUE7VIjiI2S/KVfqY\n",
       "cpoV9XWzYOlcsxxbIIoTU5/spYGw+3Ec14tr8VKAcltkBfqy+qIwpoEFxU5qjB40FxcauWk8vKQ4\n",
       "mxVpyiFn8j/ctEzC2m/0iJ234fpt48K5+Tg92DhF4/jydZ6igchuRn0+fgMPuMgIfJwzrpMAAAAA\n",
       "SUVORK5CYII=\n",
       "\" style=\"display:inline;vertical-align:middle;\" /></a></td></tr>\n",
       "<tr><td>5</td><td>ExprTuple</td><td>7</td><td><a class=\"ProveItLink\" href=\"../b191e9f7ba8e5b170de1d955b3d2569f6e37f1ad0/expr.ipynb\"><img src=\"data:image/png;base64,iVBORw0KGgoAAAANSUhEUgAAAGAAAAAVBAMAAABLWfZ5AAAAMFBMVEX////c3NwiIiJERESqqqqY\n",
       "mJh2dnZmZmYQEBDu7u4yMjJUVFTMzMyIiIi6uroAAAAs73DqAAAAAXRSTlMAQObYZgAAAVtJREFU\n",
       "OMtjYCAZ8F1A4rzFrY71AQQznEYS5NmAx+QaKF6JJMY1AY8GLgjmRXbRXXxuZ00AYw5kQzvxaeBs\n",
       "AONXyP5fgDd4TMC4DEmEHWgpY+5G31o0ldPKGBh/MjCkM4DwUmRvBQAlGYICmkCcqlUgsBrETHjP\n",
       "wPuBgcGLAYT7gAYrgQDQdA5gMCcw3GfwQbWAx6GIgdmAgeEFAwj/Q4oCfqCGCQybMXzL0MvADwzM\n",
       "8wwgjK6BASiLDlh+Mpw/ANPQgqSBwwHIYPwDNBIIisAOVQYHxgKGGwwwJ5kiaWAGejoQ6L2b6HFc\n",
       "wGANpKLAOB0mCrSTrYCB5StzA+MFNA3sG/i+MsCC9RFyxCkwcNpmpl3F8LXt9Y9Aah0YcwggyTTi\n",
       "imQ2BXjSACUpOAjDrnwTwwxgcLBdgGAikrcagxmQnAXF0kgyjNgzkO91UARthGKUMJHFnVZ5D4Ax\n",
       "ABoyWxRTZKeAAAAAAElFTkSuQmCC\n",
       "\" style=\"display:inline;vertical-align:middle;\" /></a></td></tr>\n",
       "<tr><td>6</td><td>Literal</td><td></td><td><a class=\"ProveItLink\" href=\"../43637204f35b46c076ae787093288c6a879642310/expr.ipynb\"><img src=\"data:image/png;base64,iVBORw0KGgoAAAANSUhEUgAAAA4AAAAUCAMAAACK2/weAAAAM1BMVEX///8LCwsYGBgNDQ0oKCju\n",
       "7u4iIiJmZmaqqqpERETMzMy6urpUVFQyMjLc3Nx2dnYAAAB8DqOrAAAAAXRSTlMAQObYZgAAAE5J\n",
       "REFUGNNjYEAAfj4kDgMfLzKPgYebaEkuThRJTi4wxc4LBizMIJIHTRIKuHlQdPLCHMTOBgRMjGxg\n",
       "wIkmiVcnGHCwo0iysRItyYDsMQCO9QJkhxsUAQAAAABJRU5ErkJggg==\n",
       "\" style=\"display:inline;vertical-align:middle;\" /></a></td></tr>\n",
       "<tr><td>7</td><td>Operation</td><td>operator:&nbsp;8<br>operand:&nbsp;9<br></td><td><a class=\"ProveItLink\" href=\"../d228eea8592f74f3d21e84da082b133ceb9bc72e0/expr.ipynb\"><img src=\"data:image/png;base64,iVBORw0KGgoAAAANSUhEUgAAAFEAAAAVBAMAAADMaB9/AAAAMFBMVEX////c3NxERESqqqqYmJgQ\n",
       "EBDu7u4yMjKIiIi6urpUVFTMzMx2dnYiIiJmZmYAAABjE816AAAAAXRSTlMAQObYZgAAASBJREFU\n",
       "KM9jYCADcDbglvNE4e3CYwrfBmReGT4LC5DYHA34VPogsVkT8KlMRWJPx+tdJgME+w0Qy3QJ96E5\n",
       "gu3cAQb5BAaeBwihEqDoAZYrrBdAXi0HgwVAJg/nB4Z+BgbmAoa3d4HgDlAoEijKwPGBeQOqmZv5\n",
       "LjAoAQM7ABGUP4FmMnApoDswgbWB4QcDA/cHFJXAAMAMKvsE7t+oKoNBDPkNDKDA4rsLBmALnjNw\n",
       "BKDarsLAwCLQz8CBHqx1DExAn7FAI4kbiM8BLXJQZZBAt/0Vw3wHBpRQmsvAkNSTc8IBXWVSx3sB\n",
       "Bgb2CUixKYArfs6ixSbLAazKuC6wgfx6gnCq4z3ABDSCDTnVMUhhVcnc8RJkMorTGPEk0G4GBgDJ\n",
       "bUZHqfFSGQAAAABJRU5ErkJggg==\n",
       "\" style=\"display:inline;vertical-align:middle;\" /></a></td></tr>\n",
       "<tr><td>8</td><td>Literal</td><td></td><td><a class=\"ProveItLink\" href=\"../../../boolean/negation/__pv_it/7bea79645543c2413aa17e787cca04e21046fde60/expr.ipynb\"><img src=\"data:image/png;base64,iVBORw0KGgoAAAANSUhEUgAAAAwAAAAGBAMAAAAFwGKyAAAAFVBMVEX///9UVFTMzMx2dnYiIiJm\n",
       "ZmYAAACWz4ZEAAAAAXRSTlMAQObYZgAAABRJREFUCNdjCHEBAmcGMFDEQzEBAEl+Ai6uYJv/AAAA\n",
       "AElFTkSuQmCC\n",
       "\" style=\"display:inline;vertical-align:middle;\" /></a></td></tr>\n",
       "<tr><td>9</td><td>Operation</td><td>operator:&nbsp;10<br>operands:&nbsp;11<br></td><td><a class=\"ProveItLink\" href=\"../d7b0ec29f16be033b0ced711d4b5a779ecbfcdb70/expr.ipynb\"><img src=\"data:image/png;base64,iVBORw0KGgoAAAANSUhEUgAAADMAAAANBAMAAAD2/0vEAAAAMFBMVEX///+6uroyMjJERETMzMwQ\n",
       "EBAiIiKYmJju7u5mZmaqqqpUVFSIiIh2dnbc3NwAAAAWgogoAAAAAXRSTlMAQObYZgAAAKRJREFU\n",
       "GNNjYHh7+tXJAwwogOPmBYb3DQwcF9jTWROAfE4lMNgAZPIyfmA4D6QYeD5wOaDq8uJMYDAGambg\n",
       "NmBAAw2sBxj+gBisB9ClGNY3sHwB0e8dGBpAdqWBAdiISQw8AQwM7A/OM/A0oOnSZGAGOmd9gSnD\n",
       "G3QDZzPIFzAwNJ/tvVOALtV8Zv4DBlzgGg5x7gSOKBxSbBeYL+CQ4jozEUgCABYeKl4jfnQmAAAA\n",
       "AElFTkSuQmCC\n",
       "\" style=\"display:inline;vertical-align:middle;\" /></a></td></tr>\n",
       "<tr><td>10</td><td>Literal</td><td></td><td><a class=\"ProveItLink\" href=\"../2fb26078095930560931daa0500ce419a39ea6cd0/expr.ipynb\"><img src=\"data:image/png;base64,iVBORw0KGgoAAAANSUhEUgAAAA4AAAAFBAMAAACHocAhAAAAFVBMVEX///9EREQiIiJUVFQyMjJm\n",
       "ZmYAAADubVkoAAAAAXRSTlMAQObYZgAAABRJREFUCNdjCHEBAWcGXCBICQQUAUpuAwlgGKrkAAAA\n",
       "AElFTkSuQmCC\n",
       "\" style=\"display:inline;vertical-align:middle;\" /></a></td></tr>\n",
       "<tr><td>11</td><td>ExprTuple</td><td>12, 13</td><td><a class=\"ProveItLink\" href=\"../a6a2ac9310c73e21661c7634808321702fb219240/expr.ipynb\"><img src=\"data:image/png;base64,iVBORw0KGgoAAAANSUhEUgAAACwAAAAVBAMAAADP3xFXAAAAMFBMVEX////c3NwiIiJERESqqqqY\n",
       "mJh2dnZmZmYQEBDu7u4yMjJUVFTMzMyIiIi6uroAAAAs73DqAAAAAXRSTlMAQObYZgAAAQtJREFU\n",
       "GNNjYMAB+C6gi7A+ABKnMVXWAPFKTGEuBgbeC5jCrAkMHBMwhTkbGF5hc4YJQxmQFLstch1i1rQy\n",
       "BsafDAzpDEuBehJYVTkUwMIJ7xl4PzAweDH0MTCwAZksB0CiPA5FDMwGDAwvGP4BVTNwG0DtYuhl\n",
       "4Acadx4kzMDAAXMly0+G8wdAwi0gnvwBBog72Rcw3GAAGWIKdL3AfQbeCWAJrgIGayAVBXQLg3+A\n",
       "BYMsA+cnkOoNfF8ZQA58xMAw+dq03AAGzn4BoJ221z8ChdcxcAjAQxjMYlMAex4YLLAAAuJNDDMc\n",
       "gFIXkAIWJKzGYAYkZwGxNEwY5Hbf66CY2QjEjBgBznuAAQAt5DtyKXSr1gAAAABJRU5ErkJggg==\n",
       "\" style=\"display:inline;vertical-align:middle;\" /></a></td></tr>\n",
       "<tr><td>12</td><td>Variable</td><td></td><td><a class=\"ProveItLink\" href=\"../../../../__pv_it/530be409e3083890784cf1d7b28c9e67e90af9360/expr.ipynb\"><img src=\"data:image/png;base64,iVBORw0KGgoAAAANSUhEUgAAAAsAAAAJBAMAAAAWSsseAAAAKlBMVEX///9ERETMzMwQEBAiIiKY\n",
       "mJju7u5mZmaqqqpUVFSIiIh2dnbc3NwAAAA/vyDhAAAAAXRSTlMAQObYZgAAAENJREFUCNdjYDi9\n",
       "8sTyBQxsG1hdmR0YuBm4LnAoMLAxcAowgADzAjB1VoEhgYH1wFoGrgSG3gBhhlMMDImrs3cFMAAA\n",
       "t0YN+iTRa+sAAAAASUVORK5CYII=\n",
       "\" style=\"display:inline;vertical-align:middle;\" /></a></td></tr>\n",
       "<tr><td>13</td><td>Variable</td><td></td><td><a class=\"ProveItLink\" href=\"../../../../__pv_it/f8b9edf8e16034727f0aad55bb83e392c3db40d40/expr.ipynb\"><img src=\"data:image/png;base64,iVBORw0KGgoAAAANSUhEUgAAAAsAAAANBAMAAACN24kIAAAAMFBMVEX///+YmJhUVFQyMjIQEBBE\n",
       "REQiIiKqqqrMzMyIiIi6urrc3NxmZmZ2dnbu7u4AAADXeCicAAAAAXRSTlMAQObYZgAAAFhJREFU\n",
       "CNdj4LtzgWH/AwZerg8M8xkY2nkSGEIZGB6wTGD4ycDAUP+A4weQOszA6QCkbBhYFYDUIYb1AkDq\n",
       "6czzGxhA4BoQMyXwuQMptgusF4AU+8xTQBIAUqMVoSp/SLMAAAAASUVORK5CYII=\n",
       "\" style=\"display:inline;vertical-align:middle;\" /></a></td></tr>\n",
       "</table>\n"
      ],
      "text/plain": [
       "0. x -> [forall_{y | [not](x = y)} (x != y)]\n",
       "   core type: Lambda\n",
       "   parameter: 12\n",
       "   body: 1\n",
       "1. forall_{y | [not](x = y)} (x != y)\n",
       "   core type: Operation\n",
       "   operator: 2\n",
       "   operand: 3\n",
       "2. forall\n",
       "   core type: Literal\n",
       "   sub-expressions: \n",
       "3. y -> (x != y) | [not](x = y)\n",
       "   core type: Lambda\n",
       "   parameter: 13\n",
       "   body: 4\n",
       "   conditions: 5\\n4. x != y\n",
       "   core type: Operation\n",
       "   operator: 6\n",
       "   operands: 11\n",
       "5. ([not](x = y))\n",
       "   core type: ExprTuple\n",
       "   sub-expressions: 7\n",
       "6. !=\n",
       "   core type: Literal\n",
       "   sub-expressions: \n",
       "7. [not](x = y)\n",
       "   core type: Operation\n",
       "   operator: 8\n",
       "   operand: 9\n",
       "8. not\n",
       "   core type: Literal\n",
       "   sub-expressions: \n",
       "9. x = y\n",
       "   core type: Operation\n",
       "   operator: 10\n",
       "   operands: 11\n",
       "10. =\n",
       "    core type: Literal\n",
       "    sub-expressions: \n",
       "11. (x , y)\n",
       "    core type: ExprTuple\n",
       "    sub-expressions: 12, 13\n",
       "12. x\n",
       "    core type: Variable\n",
       "    sub-expressions: \n",
       "13. y\n",
       "    core type: Variable\n",
       "    sub-expressions: "
      ]
     },
     "execution_count": 4,
     "metadata": {},
     "output_type": "execute_result"
    }
   ],
   "source": [
    "# display the expression information\n",
    "expr.exprInfo()"
   ]
  },
  {
   "cell_type": "code",
   "execution_count": null,
   "metadata": {},
   "outputs": [],
   "source": []
  }
 ],
 "metadata": {
  "kernelspec": {
   "display_name": "Python 3",
   "language": "python",
   "name": "python3"
  }
 },
 "nbformat": 4,
 "nbformat_minor": 0
}
