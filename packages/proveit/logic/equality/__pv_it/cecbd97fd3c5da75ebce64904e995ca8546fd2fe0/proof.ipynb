{
 "cells": [
  {
   "cell_type": "markdown",
   "metadata": {},
   "source": [
    "Show the Proof\n",
    "========"
   ]
  },
  {
   "cell_type": "code",
   "execution_count": 1,
   "metadata": {},
   "outputs": [
    {
     "data": {
      "text/html": [
       "<table><tr><th>&nbsp;</th><th>step type</th><th>requirements</th><th>statement</th></tr>\n",
       "<tr><td>0</td><td>assumption</td><td></td><td><span style=\"font-size:20px;\"><a class=\"ProveItLink\" href=\"../a183e726324d1e0d1513622a45002edb709ce6760/expr.ipynb\"><img src=\"data:image/png;base64,iVBORw0KGgoAAAANSUhEUgAAAEMAAAAVBAMAAADvM06qAAAAMFBMVEX////c3NxERESqqqpUVFS6\n",
       "urrMzMwyMjIQEBCIiIh2dnYiIiLu7u5mZmaYmJgAAABXZE4RAAAAAXRSTlMAQObYZgAAAQZJREFU\n",
       "KM9jYGDgu8eAC7CtEgBRPLsYcAO2ZhDJ+QHMCerFquY6iOBqgHA+Y1WyAkkJ6x+CSrg2EFTCfoGA\n",
       "EpFZ8QaocqduMTD+gSrhLQA6pJFB/wCIXQ4GDkDmgniwX9+DlGQEMDDIP4D4DilADG4zMClA7E9p\n",
       "Awr4MzCgBSAPQycD/wQgQ/0BA0NEAgPDJwaer2juZP7DkA+U4V4AZLMUMDD+ZGD+wANyy24wUIA4\n",
       "cQYD1C3AAOH5DFRohmoK0BEqyJ6uY7C+sABVCa8D6z9kJSIzwzQD0NyrOfcjWuhiAnCU4FPizXDC\n",
       "AKaED7uSXQxa8PTCsxOrEsu5IMextYI5fIvxp10AvXhJlVEr0i0AAAAASUVORK5CYII=\n",
       "\" style=\"display:inline;vertical-align:middle;\" /></a> <a class=\"ProveItLink\" href=\"proof.ipynb\" style=\"text-decoration: none\">&#x22A2;&nbsp;</a><a class=\"ProveItLink\" href=\"../5f3ea4ca980b6b06009e0fe7ef542f069753deb70/expr.ipynb\"><img src=\"data:image/png;base64,iVBORw0KGgoAAAANSUhEUgAAADEAAAASBAMAAAAAiiu3AAAAMFBMVEX////MzMyYmJiIiIhUVFTc\n",
       "3NwyMjIiIiJ2dnbu7u6qqqpmZmYQEBBERES6uroAAABkyy6XAAAAAXRSTlMAQObYZgAAALZJREFU\n",
       "GNNjYGBg4LuzgQEH4F+AS+b9BFwy7bgkGLKxC7M69/1CFeHsbmCIB1rwJoD3J4i/LQ0EUoAsDr4P\n",
       "DPZALZ8YuBNQ9UhxFzDcZWBg+cDA3oAqM4HHgOEz0C8XGOY/QLN6/QTGjwwM8QYM6xlA/tleDgK1\n",
       "YCsZmA8wMMxfwODGJYDuC14HBgY2Ba5qDjTTtjC8VwB5x07WDk1mrvH+ABLDi6WA8xR2GfYG3gbs\n",
       "MlzG+4AkAHUMLAIZyQBBAAAAAElFTkSuQmCC\n",
       "\" style=\"display:inline;vertical-align:middle;\" /></a></span></td></tr>\n",
       "</table>"
      ],
      "text/plain": [
       "<proveit._core_.proof._ShowProof at 0x7f94eaecd4a8>"
      ]
     },
     "execution_count": 1,
     "metadata": {},
     "output_type": "execute_result"
    }
   ],
   "source": [
    "import proveit\n",
    "%show_proof"
   ]
  },
  {
   "cell_type": "code",
   "execution_count": null,
   "metadata": {},
   "outputs": [],
   "source": []
  }
 ],
 "metadata": {
  "kernelspec": {
   "display_name": "Python 3",
   "language": "python",
   "name": "python3"
  }
 },
 "nbformat": 4,
 "nbformat_minor": 0
}
