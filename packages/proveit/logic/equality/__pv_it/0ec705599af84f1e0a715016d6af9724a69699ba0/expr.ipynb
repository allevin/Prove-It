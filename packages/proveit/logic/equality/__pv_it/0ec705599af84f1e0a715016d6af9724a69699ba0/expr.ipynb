{
 "cells": [
  {
   "cell_type": "markdown",
   "metadata": {},
   "source": [
    "Expression of type <a class=\"ProveItLink\" href=\"../../../../../../doc/html/api/proveit.Lambda.html\">Lambda</a>\n",
    "=======================\n",
    "# from context <a class=\"ProveItLink\" href=\"../../_context_.ipynb\">proveit.logic.equality</a>"
   ]
  },
  {
   "cell_type": "code",
   "execution_count": 1,
   "metadata": {},
   "outputs": [],
   "source": [
    "# import Expression classes needed to build the expression\n",
    "from proveit import Lambda\n",
    "from proveit._common_ import A\n",
    "from proveit.logic import Equals, FALSE"
   ]
  },
  {
   "cell_type": "code",
   "execution_count": 2,
   "metadata": {},
   "outputs": [
    {
     "data": {
      "text/html": [
       "<strong id=\"expr\">expr:</strong> <a class=\"ProveItLink\" href=\"../47c2b7b5149f324e0e91dbeb7cbbcc9e8d6066b20/expr.ipynb\"><img src=\"data:image/png;base64,iVBORw0KGgoAAAANSUhEUgAAAKYAAAAVCAMAAAD7CGWeAAAANlBMVEX///92dnYUFBQNDQ0QEBBE\n",
       "RERUVFS6urqIiIhmZmaqqqrc3Nzu7u6YmJgyMjIiIiLMzMwAAACuIkBbAAAAAXRSTlMAQObYZgAA\n",
       "ASZJREFUSMftl+tugzAMRrM1d5sEv//LbqjdKI5MnCqdWmn+idF3DrkQMGZWZTDvUB/hbzhrHbgZ\n",
       "okZTjNSyWowpNPJMSaMpRmpZLWaphJM1xUg1q8FATgRzNcVIPavBRBMpzNUUI/UsjgloMi372jm+\n",
       "a/IjmixS0ehq4jdjpX1bsY3ocVyTR8qNVO7Kn2E2BFCSNNHDsCaP7De6o7n6rcj9Xrh81kNZvpa6\n",
       "mk1kt9HXvBJskUbT+DA6mk1kt9HVvO2QaiXNBKNrs42UG+l+3pyIgdwcDUfNNY7udBaJZyzlaOLP\n",
       "+Lv9aDh64eh7k0Ui1ROWShOcpbLN6eKIimL/3abI8inaNZtItNdDZ4QlYZ76IRde5mP0VHMx/5rT\n",
       "NOPr/GTEZ/5kfAGyFhFj7JgNngAAAABJRU5ErkJggg==\n",
       "\" style=\"display:inline;vertical-align:middle;\" /></a><br>"
      ],
      "text/plain": [
       "expr: A -> FALSE | A , A = FALSE"
      ]
     },
     "execution_count": 2,
     "metadata": {},
     "output_type": "execute_result"
    }
   ],
   "source": [
    "# build up the expression from sub-expressions\n",
    "expr = Lambda(A, FALSE, conditions = [A, Equals(A, FALSE)])"
   ]
  },
  {
   "cell_type": "code",
   "execution_count": 3,
   "metadata": {},
   "outputs": [
    {
     "name": "stdout",
     "output_type": "stream",
     "text": [
      "Passed sanity check: built 'expr' is the same as the stored Expression.\n"
     ]
    }
   ],
   "source": [
    "# check that the built expression is the same as the stored expression\n",
    "%check_expr"
   ]
  },
  {
   "cell_type": "code",
   "execution_count": 4,
   "metadata": {},
   "outputs": [
    {
     "data": {
      "text/html": [
       "<table><tr><th>&nbsp;</th><th>core type</th><th>sub-expressions</th><th>expression</th></tr>\n",
       "<tr><td>0</td><td>Lambda</td><td>parameter:&nbsp;5<br>body:&nbsp;6<br>conditions:&nbsp;1<br></td><td><a class=\"ProveItLink\" href=\"../47c2b7b5149f324e0e91dbeb7cbbcc9e8d6066b20/expr.ipynb\"><img src=\"data:image/png;base64,iVBORw0KGgoAAAANSUhEUgAAAKYAAAAVCAMAAAD7CGWeAAAANlBMVEX///92dnYUFBQNDQ0QEBBE\n",
       "RERUVFS6urqIiIhmZmaqqqrc3Nzu7u6YmJgyMjIiIiLMzMwAAACuIkBbAAAAAXRSTlMAQObYZgAA\n",
       "ASZJREFUSMftl+tugzAMRrM1d5sEv//LbqjdKI5MnCqdWmn+idF3DrkQMGZWZTDvUB/hbzhrHbgZ\n",
       "okZTjNSyWowpNPJMSaMpRmpZLWaphJM1xUg1q8FATgRzNcVIPavBRBMpzNUUI/UsjgloMi372jm+\n",
       "a/IjmixS0ehq4jdjpX1bsY3ocVyTR8qNVO7Kn2E2BFCSNNHDsCaP7De6o7n6rcj9Xrh81kNZvpa6\n",
       "mk1kt9HXvBJskUbT+DA6mk1kt9HVvO2QaiXNBKNrs42UG+l+3pyIgdwcDUfNNY7udBaJZyzlaOLP\n",
       "+Lv9aDh64eh7k0Ui1ROWShOcpbLN6eKIimL/3abI8inaNZtItNdDZ4QlYZ76IRde5mP0VHMx/5rT\n",
       "NOPr/GTEZ/5kfAGyFhFj7JgNngAAAABJRU5ErkJggg==\n",
       "\" style=\"display:inline;vertical-align:middle;\" /></a></td></tr>\n",
       "<tr><td>1</td><td>ExprTuple</td><td>5, 2</td><td><a class=\"ProveItLink\" href=\"../8d654db1dbb4b277a0675e00f9d8abc88c251cfc0/expr.ipynb\"><img src=\"data:image/png;base64,iVBORw0KGgoAAAANSUhEUgAAAGAAAAAVBAMAAABLWfZ5AAAAMFBMVEX////c3NwiIiJERESqqqqY\n",
       "mJh2dnZmZmYQEBDu7u4yMjJUVFTMzMyIiIi6uroAAAAs73DqAAAAAXRSTlMAQObYZgAAASNJREFU\n",
       "OMtjYCAZ8F0gXi3rAyBxGsI+hCR+CItaRrC5NUC8EiKwHklyPRYNPAUgkouBgRfiIlb9CQiLkdho\n",
       "GlgTGDggkiL1AnA5ZDaaBs4GhlcQ/oX7D+ByyGw0DQwmDGWQoJrgHwAPNiQ2hoZ0hqVgeh7DeXjo\n",
       "wtjsq8BgA4oGL4Y+MP2AQb4ApgGZjWHDC4Z/YN7u3fsNYDJIbEwN5yEa+BgYOBbAvIDExqahBUQ5\n",
       "MDAwNUBl4Gx2JTAwQHOSKSjagYq4PjAwTEBi47AhChhODAyzgJj5JwPnJwQbd7A+YmAQ7l/IwGr/\n",
       "q4CzXwDORlUNcl0T2HXrGDiQkgGfAKH0DUwawOSESHUEMwTbBXjyJk4DyIfSCC7hvLcRnpWIA7wH\n",
       "GAALsFDY8xPwPQAAAABJRU5ErkJggg==\n",
       "\" style=\"display:inline;vertical-align:middle;\" /></a></td></tr>\n",
       "<tr><td>2</td><td>Operation</td><td>operator:&nbsp;3<br>operands:&nbsp;4<br></td><td><a class=\"ProveItLink\" href=\"../../../boolean/__pv_it/60099a8cb9a18cf56e8abbc6bca17790f9488b810/expr.ipynb\"><img src=\"data:image/png;base64,iVBORw0KGgoAAAANSUhEUgAAADoAAAAOBAMAAACMfhKgAAAALVBMVEX///8QEBBERERUVFS6urqI\n",
       "iIhmZmaqqqrc3Nzu7u6YmJgyMjIiIiLMzMwAAADtIaYWAAAAAXRSTlMAQObYZgAAAHpJREFUGNNj\n",
       "YACBOwyYoBXO2odF9hqMwXVuAh7Z9rwGPLIBcQ64ZVkm1C3ALTuF4V4AiM7eDQKb0WQdGPoScOrl\n",
       "NTa2U8Apy8LAwLgBp2wBAwOPAIiRcwYEDqHIcgBluR/g0jsbiJle4pBtktvBwKX3Gs3RQEsOAi0B\n",
       "AOmUK3k+2YIcAAAAAElFTkSuQmCC\n",
       "\" style=\"display:inline;vertical-align:middle;\" /></a></td></tr>\n",
       "<tr><td>3</td><td>Literal</td><td></td><td><a class=\"ProveItLink\" href=\"../2fb26078095930560931daa0500ce419a39ea6cd0/expr.ipynb\"><img src=\"data:image/png;base64,iVBORw0KGgoAAAANSUhEUgAAAA4AAAAFBAMAAACHocAhAAAAFVBMVEX///9EREQiIiJUVFQyMjJm\n",
       "ZmYAAADubVkoAAAAAXRSTlMAQObYZgAAABRJREFUCNdjCHEBAWcGXCBICQQUAUpuAwlgGKrkAAAA\n",
       "AElFTkSuQmCC\n",
       "\" style=\"display:inline;vertical-align:middle;\" /></a></td></tr>\n",
       "<tr><td>4</td><td>ExprTuple</td><td>5, 6</td><td><a class=\"ProveItLink\" href=\"../../../boolean/__pv_it/cabd8bc3982b14b9707e18c2e8918f8e5aaad0040/expr.ipynb\"><img src=\"data:image/png;base64,iVBORw0KGgoAAAANSUhEUgAAADUAAAAVBAMAAAAUZLt1AAAAMFBMVEX////c3NwiIiJERESqqqqY\n",
       "mJh2dnZmZmYQEBDu7u4yMjJUVFTMzMyIiIi6uroAAAAs73DqAAAAAXRSTlMAQObYZgAAAO1JREFU\n",
       "KM9jYMAH+C5gFY4DEach7EMIYVkQwX4ASKyECKxHyB0HkwsYGHghRrLqT0CTC2Ng4ICIidQLoMnN\n",
       "YGB4BeFfuP8ATY7ZgaEM4tgJ/gFocmwFDEvBjHkM5y+gybEsYOgDMx4wyBegyfE1MPwD0Ty7d+83\n",
       "QJPj+QCR4wO6dwGmXAuIdmBgYGrANNMUSDEC5bg+MDBMQJZjXcCQDqRmgbzzk4HzE5ofHjEwCPcv\n",
       "ZGC1/1XA2Q8MmyIlJQ0lJWWgQQ8YOASQoguJDQoz1gQElxU5AnMRcYQuxwnykzSCj5wCuEHmM2JP\n",
       "E3cYGAAdNjoVaLAEowAAAABJRU5ErkJggg==\n",
       "\" style=\"display:inline;vertical-align:middle;\" /></a></td></tr>\n",
       "<tr><td>5</td><td>Variable</td><td></td><td><a class=\"ProveItLink\" href=\"../../../../__pv_it/2cbe72a7ad6f655694dd697106680215e8489b600/expr.ipynb\"><img src=\"data:image/png;base64,iVBORw0KGgoAAAANSUhEUgAAAA8AAAAOBAMAAAACpFvcAAAALVBMVEX///8QEBBERERUVFS6urqI\n",
       "iIhmZmaqqqrc3Nzu7u6YmJgyMjIiIiLMzMwAAADtIaYWAAAAAXRSTlMAQObYZgAAAFtJREFUCNdj\n",
       "YACBOwxQsA9Kc52bAGG05zVAGAFxDmCaZULdAjBjCsO9ADDDgaEvAUTzGhvbKYCVMDAwbgAxChgY\n",
       "eASANAeQwf0AyJgNxEwvGRia5HYwcOm9TgAA6BoR3jrzwFcAAAAASUVORK5CYII=\n",
       "\" style=\"display:inline;vertical-align:middle;\" /></a></td></tr>\n",
       "<tr><td>6</td><td>Literal</td><td></td><td><a class=\"ProveItLink\" href=\"../../../boolean/__pv_it/8f1f7fac882de28c72b62ab80a1700b6d8fd066b0/expr.ipynb\"><img src=\"data:image/png;base64,iVBORw0KGgoAAAANSUhEUgAAAA4AAAAOBAMAAADtZjDiAAAAG1BMVEX///9EREQQEBAiIiJmZmbM\n",
       "zMyIiIjc3NwAAACryk5kAAAAAXRSTlMAQObYZgAAABlJREFUCNdjYGBgKGOAgBBa0s7GxkbGxoYA\n",
       "FMUF2aBfHgoAAAAASUVORK5CYII=\n",
       "\" style=\"display:inline;vertical-align:middle;\" /></a></td></tr>\n",
       "</table>\n"
      ],
      "text/plain": [
       "0. A -> FALSE | A , A = FALSE\n",
       "   core type: Lambda\n",
       "   parameter: 5\n",
       "   body: 6\n",
       "   conditions: 1\\n1. (A , A = FALSE)\n",
       "   core type: ExprTuple\n",
       "   sub-expressions: 5, 2\n",
       "2. A = FALSE\n",
       "   core type: Operation\n",
       "   operator: 3\n",
       "   operands: 4\n",
       "3. =\n",
       "   core type: Literal\n",
       "   sub-expressions: \n",
       "4. (A , FALSE)\n",
       "   core type: ExprTuple\n",
       "   sub-expressions: 5, 6\n",
       "5. A\n",
       "   core type: Variable\n",
       "   sub-expressions: \n",
       "6. FALSE\n",
       "   core type: Literal\n",
       "   sub-expressions: "
      ]
     },
     "execution_count": 4,
     "metadata": {},
     "output_type": "execute_result"
    }
   ],
   "source": [
    "# display the expression information\n",
    "expr.exprInfo()"
   ]
  },
  {
   "cell_type": "code",
   "execution_count": null,
   "metadata": {},
   "outputs": [],
   "source": []
  }
 ],
 "metadata": {
  "kernelspec": {
   "display_name": "Python 3",
   "language": "python",
   "name": "python3"
  }
 },
 "nbformat": 4,
 "nbformat_minor": 0
}
