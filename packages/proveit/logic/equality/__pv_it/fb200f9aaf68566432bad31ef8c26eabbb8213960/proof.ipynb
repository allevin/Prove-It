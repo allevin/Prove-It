{
 "cells": [
  {
   "cell_type": "markdown",
   "metadata": {},
   "source": [
    "Show the Proof\n",
    "========"
   ]
  },
  {
   "cell_type": "code",
   "execution_count": 1,
   "metadata": {},
   "outputs": [
    {
     "data": {
      "text/html": [
       "<table><tr><th>&nbsp;</th><th>step type</th><th>requirements</th><th>statement</th></tr>\n",
       "<tr><td>0</td><td>assumption</td><td></td><td><span style=\"font-size:20px;\"><a class=\"ProveItLink\" href=\"../382833124d6f78a8ca8c18f75a56f5cac0bddd680/expr.ipynb\"><img src=\"data:image/png;base64,iVBORw0KGgoAAAANSUhEUgAAAEkAAAAVBAMAAAD4Ed5jAAAAMFBMVEX////c3NxERESqqqpUVFS6\n",
       "urrMzMwyMjIQEBCIiIh2dnYiIiLu7u5mZmaYmJgAAABXZE4RAAAAAXRSTlMAQObYZgAAARxJREFU\n",
       "KM9jYGDgu8eAB7CtEgBRPLuQxCJRVPAFgJQ1g5icH5A0OqAadA1EXAcRXA0IUfYDqKrYQcQKdFUz\n",
       "0RzFtwCbqh40VTwNWFSxFqD7UBmLKt4FCHmRWRHAIFgLU8WLMID9AcLYRgZ9IGUOxO9B/AxgoNze\n",
       "DQS7GDgQTPkHDJeAkhEgvRcYGFLaYNpTGPgD4Ex/BoadQEY+iKcOtCIiAZuqTww836CquEGuZSmA\n",
       "S3EYwJiMPxmYP/BAbAS7i2sDXBUTzPUpPJ+Bus0YGJ5jhAQbA9cFOLOOwfrCAqSQQA7VDYjgmhmm\n",
       "CXRlKbYYaiQmhhheoanimgBTxYcn5RyHpy+enQhRRrRU6AjySSskES1GCEuiKOJMgKZ7ACkiS16U\n",
       "pT3yAAAAAElFTkSuQmCC\n",
       "\" style=\"display:inline;vertical-align:middle;\" /></a> <a class=\"ProveItLink\" href=\"proof.ipynb\" style=\"text-decoration: none\">&#x22A2;&nbsp;</a><a class=\"ProveItLink\" href=\"../83108bbd0ae87ab5854d5e05800241a4cb6fded00/expr.ipynb\"><img src=\"data:image/png;base64,iVBORw0KGgoAAAANSUhEUgAAADQAAAAVBAMAAAD7ptBLAAAAMFBMVEX////c3NxERESqqqqYmJgQ\n",
       "EBDu7u4yMjKIiIi6urpUVFTMzMx2dnYiIiJmZmYAAABjE816AAAAAXRSTlMAQObYZgAAAMtJREFU\n",
       "KM9jYCACzEDhsUxAsLkXoKp8jWCyJ6BKsSOYHWjmsxyAM8PQpNgCYCzOAnRnKcMYfAj9DFI9UwUY\n",
       "GM7BbXWAy3AGMugDKXOGt3eB4A4DK9AfUKa8A8MjoNRUiMJdDPwwL+5iWM/AcAPI2I9F6hMD229k\n",
       "KVYDmBTjDwbmD2xIBjLBnLGL7TMDV4E1A4M7NAAZeB7AwpKhhMH2wQEkx3NeQHirY7YG0OZKuEAg\n",
       "zoBi8EGT4mnAGSnpCCYjWlQuRGJLoMhwbGAAAEHzM1gcnVYXAAAAAElFTkSuQmCC\n",
       "\" style=\"display:inline;vertical-align:middle;\" /></a></span></td></tr>\n",
       "</table>"
      ],
      "text/plain": [
       "<proveit._core_.proof._ShowProof at 0x7f94eb5f2748>"
      ]
     },
     "execution_count": 1,
     "metadata": {},
     "output_type": "execute_result"
    }
   ],
   "source": [
    "import proveit\n",
    "%show_proof"
   ]
  },
  {
   "cell_type": "code",
   "execution_count": null,
   "metadata": {},
   "outputs": [],
   "source": []
  }
 ],
 "metadata": {
  "kernelspec": {
   "display_name": "Python 3",
   "language": "python",
   "name": "python3"
  }
 },
 "nbformat": 4,
 "nbformat_minor": 0
}
