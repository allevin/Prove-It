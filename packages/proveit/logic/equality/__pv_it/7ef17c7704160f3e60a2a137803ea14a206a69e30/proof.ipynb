{
 "cells": [
  {
   "cell_type": "markdown",
   "metadata": {},
   "source": [
    "Show the Proof\n",
    "========"
   ]
  },
  {
   "cell_type": "code",
   "execution_count": 1,
   "metadata": {},
   "outputs": [
    {
     "data": {
      "text/html": [
       "<table><tr><th>&nbsp;</th><th>step type</th><th>requirements</th><th>statement</th></tr>\n",
       "<tr><td>0</td><td>assumption</td><td></td><td><span style=\"font-size:20px;\"><a class=\"ProveItLink\" href=\"../5bbf8feeb6ff9e3f0fc3c479083abf6db4b92c060/expr.ipynb\"><img src=\"data:image/png;base64,iVBORw0KGgoAAAANSUhEUgAAAEMAAAAVBAMAAADvM06qAAAAMFBMVEX///9ERETc3NyqqqpUVFS6\n",
       "urrMzMwyMjIQEBCIiIh2dnYiIiLu7u5mZmaYmJgAAABJJ2g3AAAAAXRSTlMAQObYZgAAAV9JREFU\n",
       "KM9jYGDgu8eAC7CtUgBRPLtQhVknQGi+AJCaZhCT8wOInPLfxWULWEsKTO01EHEdRHA1gAW+MzAw\n",
       "NoEYNTAl7CBiBUIJ2y8GBuZfIEMnwJTwLUBVwvkVKPYXyOA4AFPC04CqhBHoIpbPQEY4wuHCqEr4\n",
       "CxgYzgsAGbeAWGuK8lygfWthSngLQGT+Aga2vSBGHdCGBXz7ODYwMJgDue9BYhkg/zPM91p1C+zn\n",
       "VqC5wIBgTmBgiAB56wIwGNrA9srDXAl0Ng8DiwDYZBAh/gCoNgHE+s2AUAL01gSYEm6Qz1lAbmH7\n",
       "C1MCDnH9BIYDEIvAbuHaAA0WCJADho/CfAZOoJLnKJ5m/ANTAvSp/QMJBk0GJE+DlJyV/wIL92gG\n",
       "hoOzTq0EOpKhFDXo4IBDAVcEMKBEHhhwTYAp4UNVgkgMx+HphWcnqhIVGMMJFBitEKMXoyhhgjqc\n",
       "MwGadgGOTFbDTMrhaQAAAABJRU5ErkJggg==\n",
       "\" style=\"display:inline;vertical-align:middle;\" /></a> <a class=\"ProveItLink\" href=\"proof.ipynb\" style=\"text-decoration: none\">&#x22A2;&nbsp;</a><a class=\"ProveItLink\" href=\"../../../../__pv_it/8c735c381b4cbf3c87e86ca2468da4e5c976f9b00/expr.ipynb\"><img src=\"data:image/png;base64,iVBORw0KGgoAAAANSUhEUgAAAC4AAAAVBAMAAADLKsFqAAAAMFBMVEX////u7u5mZmaYmJi6urqq\n",
       "qqp2dnbMzMwQEBBEREQyMjLc3NwiIiJUVFSIiIgAAAAeC3ydAAAAAXRSTlMAQObYZgAAAQlJREFU\n",
       "GNNjYCACsDyA0MwOIPLt/7t3z24AsWphCtTB5C8GBs5uEGMhTJwLRLB/Y2BgBWIGvgcwceYEEPcL\n",
       "kPEJyOAQgIkzNgAJzg8MDLxfgQwvhAumAjH/AgYG+QlAhhoQb3u79RHQuCQgsz6Bgf0QSNFioAEJ\n",
       "zIc5DjAwRAG576+lqYGd2cLAwMbA94G1gIHBA8idD7MOaD8jAy/IRIZ6IP7DgBAHOuoBVJz9E0y8\n",
       "FUTsL2AQAJvD9wUmPhnojw3vGfiA4lZA53+EiQMdF28wg2EfmCk0/y/M+z4MDJLPxPIMgMwlyMHM\n",
       "sQElHBhQQgsM2B6gxAs8nKVQ42svjHEbVZwbqp2vgAEAALg9cr1t3EsAAAAASUVORK5CYII=\n",
       "\" style=\"display:inline;vertical-align:middle;\" /></a></span></td></tr>\n",
       "</table>"
      ],
      "text/plain": [
       "<proveit._core_.proof._ShowProof at 0x7f94ebbc2198>"
      ]
     },
     "execution_count": 1,
     "metadata": {},
     "output_type": "execute_result"
    }
   ],
   "source": [
    "import proveit\n",
    "%show_proof"
   ]
  },
  {
   "cell_type": "code",
   "execution_count": null,
   "metadata": {},
   "outputs": [],
   "source": []
  }
 ],
 "metadata": {
  "kernelspec": {
   "display_name": "Python 3",
   "language": "python",
   "name": "python3"
  }
 },
 "nbformat": 4,
 "nbformat_minor": 0
}
