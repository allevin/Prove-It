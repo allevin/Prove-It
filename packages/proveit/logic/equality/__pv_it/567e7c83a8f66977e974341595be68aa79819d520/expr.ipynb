{
 "cells": [
  {
   "cell_type": "markdown",
   "metadata": {},
   "source": [
    "Expression of type <a class=\"ProveItLink\" href=\"../../../../../../doc/html/api/proveit.logic.Equals.html\">Equals</a>\n",
    "=======================\n",
    "# from context <a class=\"ProveItLink\" href=\"../../_context_.ipynb\">proveit.logic.equality</a>"
   ]
  },
  {
   "cell_type": "code",
   "execution_count": 1,
   "metadata": {},
   "outputs": [],
   "source": [
    "# import Expression classes needed to build the expression\n",
    "from proveit._common_ import c, fxy\n",
    "from proveit.logic import Equals"
   ]
  },
  {
   "cell_type": "code",
   "execution_count": 2,
   "metadata": {},
   "outputs": [
    {
     "data": {
      "text/html": [
       "<strong id=\"expr\">expr:</strong> <a class=\"ProveItLink\" href=\"expr.ipynb\"><img src=\"data:image/png;base64,iVBORw0KGgoAAAANSUhEUgAAAGQAAAAVBAMAAABCslYDAAAAMFBMVEX///8yMjLMzMwQEBAiIiJm\n",
       "Zma6urqYmJiqqqp2dnZERETc3NyIiIhUVFTu7u4AAAAe+HC4AAAAAXRSTlMAQObYZgAAAZNJREFU\n",
       "OMtjYKAE5GCIlOFU+/bsBiDJdAFDglUBl5aV/QVAkvEBpowADh18316AqDNYpCpxaOH4AKbssEg9\n",
       "xqGF1QFEsmFzBFcDVh3sl30DQBonMDBwz7ndEwNx7NQJDPsfMHAGoKt+OecQkOQ/AGIzAoPgJUNJ\n",
       "gQlYhpPtA8N5oJvBVgcKgoAsiMlkxiACpPaDg5I5gYFhAlBZE1iLBtC1q4CuNUD33AGG5UCqH8zh\n",
       "B2p5wHALKvWA+QDDH6ChH9C03IdQU+BaGBhsYHL9D5g+YdHyC0KtBZPMoMDh/sTABxEMZOAxgDks\n",
       "xAUEvEDyfyCyEJO5gN6v5vnAcA6iSZSBC5iA2NFD/jtQDBT5kDAKYOD4zmXAfYDhPSieYhnyCxgw\n",
       "A/kqA8MkoOX/wBw2Bwa+NfNmHgeGym8g99WZeGBaZUxAj/Y5Z4BJkQdquTVcPBseKtgTTC3IE6hJ\n",
       "ECjA68BnAWTNwarF8AmUgUj8QC0sE7iACYgPe+KvjIYyuGFZjAeUus+EAUneDQQy8h4MkUNY1QEA\n",
       "DMdcl8bNF1YAAAAASUVORK5CYII=\n",
       "\" style=\"display:inline;vertical-align:middle;\" /></a><br>"
      ],
      "text/plain": [
       "expr: f(x , y) = c"
      ]
     },
     "execution_count": 2,
     "metadata": {},
     "output_type": "execute_result"
    }
   ],
   "source": [
    "# build up the expression from sub-expressions\n",
    "expr = Equals(fxy, c)"
   ]
  },
  {
   "cell_type": "code",
   "execution_count": 3,
   "metadata": {},
   "outputs": [
    {
     "name": "stdout",
     "output_type": "stream",
     "text": [
      "Passed sanity check: built 'expr' is the same as the stored Expression.\n"
     ]
    }
   ],
   "source": [
    "# check that the built expression is the same as the stored expression\n",
    "%check_expr"
   ]
  },
  {
   "cell_type": "code",
   "execution_count": 4,
   "metadata": {},
   "outputs": [
    {
     "data": {
      "text/html": [
       "<table><tr><th>&nbsp;</th><th>core type</th><th>sub-expressions</th><th>expression</th></tr>\n",
       "<tr><td>0</td><td>Operation</td><td>operator:&nbsp;1<br>operands:&nbsp;2<br></td><td><a class=\"ProveItLink\" href=\"expr.ipynb\"><img src=\"data:image/png;base64,iVBORw0KGgoAAAANSUhEUgAAAGQAAAAVBAMAAABCslYDAAAAMFBMVEX///8yMjLMzMwQEBAiIiJm\n",
       "Zma6urqYmJiqqqp2dnZERETc3NyIiIhUVFTu7u4AAAAe+HC4AAAAAXRSTlMAQObYZgAAAZNJREFU\n",
       "OMtjYKAE5GCIlOFU+/bsBiDJdAFDglUBl5aV/QVAkvEBpowADh18316AqDNYpCpxaOH4AKbssEg9\n",
       "xqGF1QFEsmFzBFcDVh3sl30DQBonMDBwz7ndEwNx7NQJDPsfMHAGoKt+OecQkOQ/AGIzAoPgJUNJ\n",
       "gQlYhpPtA8N5oJvBVgcKgoAsiMlkxiACpPaDg5I5gYFhAlBZE1iLBtC1q4CuNUD33AGG5UCqH8zh\n",
       "B2p5wHALKvWA+QDDH6ChH9C03IdQU+BaGBhsYHL9D5g+YdHyC0KtBZPMoMDh/sTABxEMZOAxgDks\n",
       "xAUEvEDyfyCyEJO5gN6v5vnAcA6iSZSBC5iA2NFD/jtQDBT5kDAKYOD4zmXAfYDhPSieYhnyCxgw\n",
       "A/kqA8MkoOX/wBw2Bwa+NfNmHgeGym8g99WZeGBaZUxAj/Y5Z4BJkQdquTVcPBseKtgTTC3IE6hJ\n",
       "ECjA68BnAWTNwarF8AmUgUj8QC0sE7iACYgPe+KvjIYyuGFZjAeUus+EAUneDQQy8h4MkUNY1QEA\n",
       "DMdcl8bNF1YAAAAASUVORK5CYII=\n",
       "\" style=\"display:inline;vertical-align:middle;\" /></a></td></tr>\n",
       "<tr><td>1</td><td>Literal</td><td></td><td><a class=\"ProveItLink\" href=\"../2fb26078095930560931daa0500ce419a39ea6cd0/expr.ipynb\"><img src=\"data:image/png;base64,iVBORw0KGgoAAAANSUhEUgAAAA4AAAAFBAMAAACHocAhAAAAFVBMVEX///9EREQiIiJUVFQyMjJm\n",
       "ZmYAAADubVkoAAAAAXRSTlMAQObYZgAAABRJREFUCNdjCHEBAWcGXCBICQQUAUpuAwlgGKrkAAAA\n",
       "AElFTkSuQmCC\n",
       "\" style=\"display:inline;vertical-align:middle;\" /></a></td></tr>\n",
       "<tr><td>2</td><td>ExprTuple</td><td>3, 4</td><td><a class=\"ProveItLink\" href=\"../a794a27688be07f8dfd24e4380ebf4e3cafc03c70/expr.ipynb\"><img src=\"data:image/png;base64,iVBORw0KGgoAAAANSUhEUgAAAGIAAAAVBAMAAABPrCZEAAAAMFBMVEX////c3NwiIiJERESqqqqY\n",
       "mJh2dnZmZmYQEBDu7u4yMjJUVFTMzMyIiIi6uroAAAAs73DqAAAAAXRSTlMAQObYZgAAAbpJREFU\n",
       "OMuVkz1IQlEUx/8PfeqznjlEi0QuNTtUBBE4B6FzLQ6BS0I0ODVEtFZCINJiBA0uYS1NkXuDThl9\n",
       "0MdkLvaBg1DROed6TZ8t3eHe/+/ee+773/POBf7fApW/tWrmYz9esrLOT6B1b1vvxwIL13ITWvc2\n",
       "fx/aYiT/EoXWDlsJJ/oyLGKCSvc2a8OJdRFr0tf/ysykE9M8LG2e8cB65Ha4qsxl0zBaQLKzOZu6\n",
       "YzwS+JKetJUwx31hoUQD9iswrwMGd3DIuMNgfMocaQ/tcpdkQ3QNrghQ0xG5CqYYvxncrzJH2sJA\n",
       "pH1HbGOI/JV1xIX0ZRXhCesISphOsbuFcqkr4qMdsSU/sCgkeqwElWTvAa7x68pQd62xtc65pM3g\n",
       "A+yMxPhXMUvDojikRlVhMkry8qreSMfiMxiF9c7fKAaaahJ5dk0/YIXxmbc2lA/Se1fZVBzWbpAO\n",
       "nqu+0eQxp4mFN3WfYfTRGm6UVdGq7IM6IapKnrqqhErLLE45q44M4xQ5Kk+PXDGuFxgL8BXCbS50\n",
       "R0xgmvp99EQwhmAmtZuQXuCDF6qcD3lpdqe2GI2uR2H0PRC75MQf9LZ0Ud7SW3wAAAAASUVORK5C\n",
       "YII=\n",
       "\" style=\"display:inline;vertical-align:middle;\" /></a></td></tr>\n",
       "<tr><td>3</td><td>Operation</td><td>operator:&nbsp;5<br>operands:&nbsp;6<br></td><td><a class=\"ProveItLink\" href=\"../../../../__pv_it/26a41e4c7973655d76d6d10950b775ed4a17b0a30/expr.ipynb\"><img src=\"data:image/png;base64,iVBORw0KGgoAAAANSUhEUgAAAD0AAAAVBAMAAAAHs/uBAAAAMFBMVEX///8yMjLMzMwQEBAiIiJm\n",
       "Zma6urqYmJiqqqp2dnZERETc3NyIiIhUVFTu7u4AAAAe+HC4AAAAAXRSTlMAQObYZgAAAVpJREFU\n",
       "KM9jYCAa5GCIlEGot2c3AEmmCxjyrApgamV/AZBkfIBppACI4Pv2AkSdwWJlJYjg+ABm22GRfwy2\n",
       "xQFEsglgkedqYGBgv+wbAFI1gYGBe87tnhiwBN/UCQz7HzBwgmT4D4BEGIFufMlQUmACludk+8Bw\n",
       "Hmg1yND9YF8wJzAwTACKNYHlNYCWrgJaagBk94NF+IHyDxhuQS1+wHyA4Q8wTEBOnwKXZ2Cwgbms\n",
       "/wHTJ6j8WrAAM9CpDNyfGPgg8oEMPAZQ8yF6uIDuq+b5wHAOokKUgQsY3uwCoOCDuDiAgeM7lwH3\n",
       "AYb3oPCIZcgvAAsysP0Dy7M5MPCtmTfzODDQfgO5r87EAyONEegoHmjAWcNDLRtMToGEby3IYnhc\n",
       "gAFQgNeBzwLImsPAYPgEKoqIX6A8ywQuYHjzAY2ujIaKcsPSBw8oTs+EAUneDciRtQcj+g4xMAAA\n",
       "eNZNc+VJngUAAAAASUVORK5CYII=\n",
       "\" style=\"display:inline;vertical-align:middle;\" /></a></td></tr>\n",
       "<tr><td>4</td><td>Variable</td><td></td><td><a class=\"ProveItLink\" href=\"../../../../__pv_it/cbdfda466482236edba0ce44ac7ef39cda0af7a40/expr.ipynb\"><img src=\"data:image/png;base64,iVBORw0KGgoAAAANSUhEUgAAAAkAAAAJBAMAAAASvxsjAAAALVBMVEX///9mZmbc3NxUVFSYmJhE\n",
       "REQiIiIyMjK6uroQEBDMzMyIiIh2dnbu7u4AAABgFDGoAAAAAXRSTlMAQObYZgAAADZJREFUCNdj\n",
       "YOA9s3sBA8PKBvYEBt7ZDKwODMwPGICALwBE6m0Asx0YGIDiAgw8QJUyu/cyAAAmuwmycZ8WfQAA\n",
       "AABJRU5ErkJggg==\n",
       "\" style=\"display:inline;vertical-align:middle;\" /></a></td></tr>\n",
       "<tr><td>5</td><td>Variable</td><td></td><td><a class=\"ProveItLink\" href=\"../../../../__pv_it/4d51ee1e62d011d06d4528b97697bf3da60c9de60/expr.ipynb\"><img src=\"data:image/png;base64,iVBORw0KGgoAAAANSUhEUgAAAAsAAAASBAMAAAB/WzlGAAAAMFBMVEX///8yMjLMzMwQEBAiIiJm\n",
       "Zma6urqYmJiqqqp2dnZERETc3NyIiIhUVFTu7u4AAAAe+HC4AAAAAXRSTlMAQObYZgAAAFVJREFU\n",
       "CNdjYGBgeHt2A5BkWNlfACT5vr0AcTg+gEgGVgcQyX7ZNwBE8x8AC+5XAFP9YJJhCoRaC6FswCTf\n",
       "NzDF9g9M8QiAyFoukPEMhk/AYpXRIBIAEwsRcZ82juYAAAAASUVORK5CYII=\n",
       "\" style=\"display:inline;vertical-align:middle;\" /></a></td></tr>\n",
       "<tr><td>6</td><td>ExprTuple</td><td>7, 8</td><td><a class=\"ProveItLink\" href=\"../../../../__pv_it/8015af457c372be02f7b56fbcf0db088047bb4a30/expr.ipynb\"><img src=\"data:image/png;base64,iVBORw0KGgoAAAANSUhEUgAAACwAAAAVBAMAAADP3xFXAAAAMFBMVEX////c3NwiIiJERESqqqqY\n",
       "mJh2dnZmZmYQEBDu7u4yMjJUVFTMzMyIiIi6uroAAAAs73DqAAAAAXRSTlMAQObYZgAAAQtJREFU\n",
       "GNNjYMAB+C6gi7A+ABKnMVXWAPFKTGEuBgbeC5jCrAkMHBMwhTkbGF5hc4YJQxmQFLstch1i1rQy\n",
       "BsafDAzpDEuBehJYVTkUwMIJ7xl4PzAweDH0MTCwAZksB0CiPA5FDMwGDAwvGP4BVTNwG0DtYuhl\n",
       "4Acadx4kzMDAAXMly0+G8wdAwi0gnvwBBog72Rcw3GAAGWIKdL3AfQbeCWAJrgIGayAVBXQLg3+A\n",
       "BYMsA+cnkOoNfF8ZQA58xMAw+dq03AAGzn4BoJ221z8ChdcxcAjAQxjMYlMAex4YLLAAAuJNDDMc\n",
       "gFIXkAIWJKzGYAYkZwGxNEwY5Hbf66CY2QjEjBgBznuAAQAt5DtyKXSr1gAAAABJRU5ErkJggg==\n",
       "\" style=\"display:inline;vertical-align:middle;\" /></a></td></tr>\n",
       "<tr><td>7</td><td>Variable</td><td></td><td><a class=\"ProveItLink\" href=\"../../../../__pv_it/530be409e3083890784cf1d7b28c9e67e90af9360/expr.ipynb\"><img src=\"data:image/png;base64,iVBORw0KGgoAAAANSUhEUgAAAAsAAAAJBAMAAAAWSsseAAAAKlBMVEX///9ERETMzMwQEBAiIiKY\n",
       "mJju7u5mZmaqqqpUVFSIiIh2dnbc3NwAAAA/vyDhAAAAAXRSTlMAQObYZgAAAENJREFUCNdjYDi9\n",
       "8sTyBQxsG1hdmR0YuBm4LnAoMLAxcAowgADzAjB1VoEhgYH1wFoGrgSG3gBhhlMMDImrs3cFMAAA\n",
       "t0YN+iTRa+sAAAAASUVORK5CYII=\n",
       "\" style=\"display:inline;vertical-align:middle;\" /></a></td></tr>\n",
       "<tr><td>8</td><td>Variable</td><td></td><td><a class=\"ProveItLink\" href=\"../../../../__pv_it/f8b9edf8e16034727f0aad55bb83e392c3db40d40/expr.ipynb\"><img src=\"data:image/png;base64,iVBORw0KGgoAAAANSUhEUgAAAAsAAAANBAMAAACN24kIAAAAMFBMVEX///+YmJhUVFQyMjIQEBBE\n",
       "REQiIiKqqqrMzMyIiIi6urrc3NxmZmZ2dnbu7u4AAADXeCicAAAAAXRSTlMAQObYZgAAAFhJREFU\n",
       "CNdj4LtzgWH/AwZerg8M8xkY2nkSGEIZGB6wTGD4ycDAUP+A4weQOszA6QCkbBhYFYDUIYb1AkDq\n",
       "6czzGxhA4BoQMyXwuQMptgusF4AU+8xTQBIAUqMVoSp/SLMAAAAASUVORK5CYII=\n",
       "\" style=\"display:inline;vertical-align:middle;\" /></a></td></tr>\n",
       "</table>\n"
      ],
      "text/plain": [
       "0. f(x , y) = c\n",
       "   core type: Operation\n",
       "   operator: 1\n",
       "   operands: 2\n",
       "1. =\n",
       "   core type: Literal\n",
       "   sub-expressions: \n",
       "2. (f(x , y) , c)\n",
       "   core type: ExprTuple\n",
       "   sub-expressions: 3, 4\n",
       "3. f(x , y)\n",
       "   core type: Operation\n",
       "   operator: 5\n",
       "   operands: 6\n",
       "4. c\n",
       "   core type: Variable\n",
       "   sub-expressions: \n",
       "5. f\n",
       "   core type: Variable\n",
       "   sub-expressions: \n",
       "6. (x , y)\n",
       "   core type: ExprTuple\n",
       "   sub-expressions: 7, 8\n",
       "7. x\n",
       "   core type: Variable\n",
       "   sub-expressions: \n",
       "8. y\n",
       "   core type: Variable\n",
       "   sub-expressions: "
      ]
     },
     "execution_count": 4,
     "metadata": {},
     "output_type": "execute_result"
    }
   ],
   "source": [
    "# display the expression information\n",
    "expr.exprInfo()"
   ]
  },
  {
   "cell_type": "code",
   "execution_count": null,
   "metadata": {},
   "outputs": [],
   "source": []
  }
 ],
 "metadata": {
  "kernelspec": {
   "display_name": "Python 3",
   "language": "python",
   "name": "python3"
  }
 },
 "nbformat": 4,
 "nbformat_minor": 0
}
