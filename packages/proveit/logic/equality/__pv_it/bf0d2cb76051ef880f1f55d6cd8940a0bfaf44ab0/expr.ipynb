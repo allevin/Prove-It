{
 "cells": [
  {
   "cell_type": "markdown",
   "metadata": {},
   "source": [
    "Expression of type <a class=\"ProveItLink\" href=\"../../../../../../doc/html/api/proveit.ExprTuple.html\">ExprTuple</a>\n",
    "=======================\n",
    "# from context <a class=\"ProveItLink\" href=\"../../_context_.ipynb\">proveit.logic.equality</a>"
   ]
  },
  {
   "cell_type": "code",
   "execution_count": 1,
   "metadata": {},
   "outputs": [],
   "source": [
    "# import Expression classes needed to build the expression\n",
    "from proveit import ExprTuple\n",
    "from proveit._common_ import x\n",
    "from proveit.logic._common_ import PofTrue"
   ]
  },
  {
   "cell_type": "code",
   "execution_count": 2,
   "metadata": {},
   "outputs": [
    {
     "data": {
      "text/html": [
       "<strong id=\"expr\">expr:</strong> <a class=\"ProveItLink\" href=\"expr.ipynb\"><img src=\"data:image/png;base64,iVBORw0KGgoAAAANSUhEUgAAAFkAAAAVBAMAAADfv1+LAAAAMFBMVEX////c3NwiIiJERESqqqqY\n",
       "mJh2dnZmZmYQEBDu7u4yMjJUVFTMzMyIiIi6uroAAAAs73DqAAAAAXRSTlMAQObYZgAAAYBJREFU\n",
       "KM+VkztIA0EQhv/j8jpzidfb2VjYpDClxFoU1MLCQlIlWARSXaUQJa0xlYqNaVLYCEGwSZPeImks\n",
       "RCEhlVgFUYMPojv7MHtLEBy42f1nP9i5mVngf5bsTFbhngFuk7th3/13sznvCRWd5ZbCrkFHW8xd\n",
       "0O4DsPehlFskP2VmUQMSdLX7BoTYJ5Skw1mD3gRiVYJG7HAIqSTtlAz6FHii1R4A8RdIJWksGLS9\n",
       "BJ/WaZbSeYptfJ3OK8wqNFb3gEgRdZLtLNw52tR1elnRx9hYO2B/VkOFZPc65/MCVnT6UdFZdLHC\n",
       "elHCiGSmKuMjnW4ruoorHh6I82f8SQOHki7TMlTR8sRMYH3B4ZmkZbmFpXV6S2QBrCcGuGMdqfEy\n",
       "2e+KzpsVdFiSoVe7ZHV4BfvASeZTTV5f0KLnl0QfeXAWd3K3NDg9xDy9XboSnU96eueDs6OrCL8w\n",
       "PA4U1Iz+mqbOEKQdNh6YCdCaanA/fllxyskKvLSxSrSMEXwAfgDyW2DMiCJ+xwAAAABJRU5ErkJg\n",
       "gg==\n",
       "\" style=\"display:inline;vertical-align:middle;\" /></a><br>"
      ],
      "text/plain": [
       "expr: (P(TRUE) , x)"
      ]
     },
     "execution_count": 2,
     "metadata": {},
     "output_type": "execute_result"
    }
   ],
   "source": [
    "# build up the expression from sub-expressions\n",
    "expr = ExprTuple(PofTrue, x)"
   ]
  },
  {
   "cell_type": "code",
   "execution_count": 3,
   "metadata": {},
   "outputs": [
    {
     "name": "stdout",
     "output_type": "stream",
     "text": [
      "Passed sanity check: built 'expr' is the same as the stored Expression.\n"
     ]
    }
   ],
   "source": [
    "# check that the built expression is the same as the stored expression\n",
    "%check_expr"
   ]
  },
  {
   "cell_type": "code",
   "execution_count": 4,
   "metadata": {},
   "outputs": [
    {
     "data": {
      "text/html": [
       "<table><tr><th>&nbsp;</th><th>core type</th><th>sub-expressions</th><th>expression</th></tr>\n",
       "<tr><td>0</td><td>ExprTuple</td><td>1, 2</td><td><a class=\"ProveItLink\" href=\"expr.ipynb\"><img src=\"data:image/png;base64,iVBORw0KGgoAAAANSUhEUgAAAFkAAAAVBAMAAADfv1+LAAAAMFBMVEX////c3NwiIiJERESqqqqY\n",
       "mJh2dnZmZmYQEBDu7u4yMjJUVFTMzMyIiIi6uroAAAAs73DqAAAAAXRSTlMAQObYZgAAAYBJREFU\n",
       "KM+VkztIA0EQhv/j8jpzidfb2VjYpDClxFoU1MLCQlIlWARSXaUQJa0xlYqNaVLYCEGwSZPeImks\n",
       "RCEhlVgFUYMPojv7MHtLEBy42f1nP9i5mVngf5bsTFbhngFuk7th3/13sznvCRWd5ZbCrkFHW8xd\n",
       "0O4DsPehlFskP2VmUQMSdLX7BoTYJ5Skw1mD3gRiVYJG7HAIqSTtlAz6FHii1R4A8RdIJWksGLS9\n",
       "BJ/WaZbSeYptfJ3OK8wqNFb3gEgRdZLtLNw52tR1elnRx9hYO2B/VkOFZPc65/MCVnT6UdFZdLHC\n",
       "elHCiGSmKuMjnW4ruoorHh6I82f8SQOHki7TMlTR8sRMYH3B4ZmkZbmFpXV6S2QBrCcGuGMdqfEy\n",
       "2e+KzpsVdFiSoVe7ZHV4BfvASeZTTV5f0KLnl0QfeXAWd3K3NDg9xDy9XboSnU96eueDs6OrCL8w\n",
       "PA4U1Iz+mqbOEKQdNh6YCdCaanA/fllxyskKvLSxSrSMEXwAfgDyW2DMiCJ+xwAAAABJRU5ErkJg\n",
       "gg==\n",
       "\" style=\"display:inline;vertical-align:middle;\" /></a></td></tr>\n",
       "<tr><td>1</td><td>Operation</td><td>operator:&nbsp;3<br>operand:&nbsp;4<br></td><td><a class=\"ProveItLink\" href=\"../../../__pv_it/e620067e5fc1a01f6e7ce2f053b97db25219d34a0/expr.ipynb\"><img src=\"data:image/png;base64,iVBORw0KGgoAAAANSUhEUgAAADEAAAAVBAMAAAAdjxsPAAAAMFBMVEX////u7u5mZmaYmJi6urqq\n",
       "qqp2dnbMzMwQEBBEREQyMjLc3NwiIiJUVFSIiIgAAAAeC3ydAAAAAXRSTlMAQObYZgAAAOtJREFU\n",
       "KM9jYCAK+MFZJmDy7f+7d89uADLYLzDonAGBkwxMBWCpXwwMnN1AmksAxCsCiy0AEezfGBhYgZjh\n",
       "HQNCxgxE8H1hYGD+BGQ0IslIgAjODwwMvF8ZGFgWIMlwBgAJfqCI/AQGBqYEJBk2BSBRn8DAfgjk\n",
       "AAMkGVaQAe+vpamBHM3hgCTD0gAk5gtAfMePLMMOtJzhDwMOGfZPUBmOADTTQN6BOBTZBcxAF3B+\n",
       "hMqAHYrkaqH5fx9AZFgOgKkyMMnlgBwJ3UhsCZToMUNi56HIcAnAmYwLUGS4L8CZvBtQY3sfnPWc\n",
       "gQEAcQM23zO0HfcAAAAASUVORK5CYII=\n",
       "\" style=\"display:inline;vertical-align:middle;\" /></a></td></tr>\n",
       "<tr><td>2</td><td>Variable</td><td></td><td><a class=\"ProveItLink\" href=\"../../../../__pv_it/530be409e3083890784cf1d7b28c9e67e90af9360/expr.ipynb\"><img src=\"data:image/png;base64,iVBORw0KGgoAAAANSUhEUgAAAAsAAAAJBAMAAAAWSsseAAAAKlBMVEX///9ERETMzMwQEBAiIiKY\n",
       "mJju7u5mZmaqqqpUVFSIiIh2dnbc3NwAAAA/vyDhAAAAAXRSTlMAQObYZgAAAENJREFUCNdjYDi9\n",
       "8sTyBQxsG1hdmR0YuBm4LnAoMLAxcAowgADzAjB1VoEhgYH1wFoGrgSG3gBhhlMMDImrs3cFMAAA\n",
       "t0YN+iTRa+sAAAAASUVORK5CYII=\n",
       "\" style=\"display:inline;vertical-align:middle;\" /></a></td></tr>\n",
       "<tr><td>3</td><td>Variable</td><td></td><td><a class=\"ProveItLink\" href=\"../../../../__pv_it/6369c6c8083c513ca7161ace249642d040f9327d0/expr.ipynb\"><img src=\"data:image/png;base64,iVBORw0KGgoAAAANSUhEUgAAABAAAAAOBAMAAADUAYG5AAAAMFBMVEX////u7u5mZmaYmJi6urqq\n",
       "qqp2dnbMzMwQEBBEREQyMjLc3NwiIiJUVFSIiIgAAAAeC3ydAAAAAXRSTlMAQObYZgAAAGBJREFU\n",
       "CNdjYGB4+//u3bMbGIDgFwMDZzeQZv/GwMAKxAx8XxgYmD8BGZwfGBh4vwIZ/AsYGOQnABn1CQzs\n",
       "h0Ca3l9LUwPrni/AAAF/oDT7JygDZAwYcH6E0ELz/z4A0QBnpRnRyxnfJQAAAABJRU5ErkJggg==\n",
       "\" style=\"display:inline;vertical-align:middle;\" /></a></td></tr>\n",
       "<tr><td>4</td><td>Literal</td><td></td><td><a class=\"ProveItLink\" href=\"../../../boolean/__pv_it/68a87cc3370287d726c7086ace789e680e4461c30/expr.ipynb\"><img src=\"data:image/png;base64,iVBORw0KGgoAAAANSUhEUgAAAA4AAAAOBAMAAADtZjDiAAAAFVBMVEX///92dnbMzMxEREQiIiJm\n",
       "ZmYAAABAT6GXAAAAAXRSTlMAQObYZgAAABhJREFUCNdjCHEBAWcGIFBlgABa0YpADAAxegPJJk4d\n",
       "XAAAAABJRU5ErkJggg==\n",
       "\" style=\"display:inline;vertical-align:middle;\" /></a></td></tr>\n",
       "</table>\n"
      ],
      "text/plain": [
       "0. (P(TRUE) , x)\n",
       "   core type: ExprTuple\n",
       "   sub-expressions: 1, 2\n",
       "1. P(TRUE)\n",
       "   core type: Operation\n",
       "   operator: 3\n",
       "   operand: 4\n",
       "2. x\n",
       "   core type: Variable\n",
       "   sub-expressions: \n",
       "3. P\n",
       "   core type: Variable\n",
       "   sub-expressions: \n",
       "4. TRUE\n",
       "   core type: Literal\n",
       "   sub-expressions: "
      ]
     },
     "execution_count": 4,
     "metadata": {},
     "output_type": "execute_result"
    }
   ],
   "source": [
    "# display the expression information\n",
    "expr.exprInfo()"
   ]
  },
  {
   "cell_type": "code",
   "execution_count": null,
   "metadata": {},
   "outputs": [],
   "source": []
  }
 ],
 "metadata": {
  "kernelspec": {
   "display_name": "Python 3",
   "language": "python",
   "name": "python3"
  }
 },
 "nbformat": 4,
 "nbformat_minor": 0
}
