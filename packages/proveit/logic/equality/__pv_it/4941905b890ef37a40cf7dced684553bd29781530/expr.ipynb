{
 "cells": [
  {
   "cell_type": "markdown",
   "metadata": {},
   "source": [
    "Expression of type <a class=\"ProveItLink\" href=\"../../../../../../doc/html/api/proveit.ExprTuple.html\">ExprTuple</a>\n",
    "=======================\n",
    "# from context <a class=\"ProveItLink\" href=\"../../_context_.ipynb\">proveit.logic.equality</a>"
   ]
  },
  {
   "cell_type": "code",
   "execution_count": 1,
   "metadata": {},
   "outputs": [],
   "source": [
    "# import Expression classes needed to build the expression\n",
    "from proveit import ExprTuple\n",
    "from proveit._common_ import c, fa, fx\n",
    "from proveit.logic import Equals"
   ]
  },
  {
   "cell_type": "code",
   "execution_count": 2,
   "metadata": {},
   "outputs": [
    {
     "data": {
      "text/html": [
       "<strong id=\"expr\">expr:</strong> <a class=\"ProveItLink\" href=\"expr.ipynb\"><img src=\"data:image/png;base64,iVBORw0KGgoAAAANSUhEUgAAALUAAAAVBAMAAADyYbJ0AAAAMFBMVEX////c3NwiIiJERESqqqqY\n",
       "mJh2dnZmZmYQEBDu7u4yMjJUVFTMzMyIiIi6uroAAAAs73DqAAAAAXRSTlMAQObYZgAAAnxJREFU\n",
       "OMu1Vb9rFEEUfuvu3u7e7z7ILbGwsEmjjQj3ByhZLdIE5BBJEFyJKVIIQhJsFC45REIgxR2CRZLm\n",
       "goUiBA9sBJtrLKK5eKTSgLgoVwSS4HtvZvfi3maSxilmvvnmm7cz78cswP9s+fYgvn2WjT9BJWb2\n",
       "E3XO5kaEsVktldGVr0Xss02lmNlVQvrdHoSYWkNl+8qoh326phYjm2M31H+UIcTUxhSmnaMXNHRA\n",
       "LUbW5s+P8tSOjrKssG0EPDwFtRjZPQbT3O9FC3r5ZNuWy2FvnCJGdobG8fk3NBDWNh/MAaSm4tIl\n",
       "f1sA8+0lWrQqqPU3bjxOEDsTnRaxr3h2yD3h70Ud72zwqR6tUVsnmF2Al3JngaOSxnguwS1vXoot\n",
       "1q5x8nzspl1iF2iiHfAuxFoPrBG88Wzce224LGGJc87uAlTgG1wfFDtV0D1ij46FB3EmgHN4rmwQ\n",
       "s/2+D0XcC2i7Bq/5TjFxJpAs2065oe3CCNRbCbb/9OGdyDZANck22hDsE46pqDHEpTaeqyavOT1M\n",
       "7QI57bC/9arI17LwpSN9YrF2mMyWOCDIshdtUTSI62V4Z7TAjNcalq0JIv2rIsUwljdzAWzBgLiA\n",
       "Sx6xk1yWfEHCac+4mEpIK8zR+85vUZZMoMLo6bNae1CcmYIU5+AuzX6JE+1Seu982MFPdOMF43dq\n",
       "ziK9Ufl98WS64Fy7N/EZEsQznS1mbdJ/ERxjRRnnaT0nPTB3es2bFTCbMnURy+Ynyk0qYXL0vy9U\n",
       "stjnd9VedeU8fGOdxom2nz2Xk+iNTRYzOwTmZOiLoTAaxUTblE1jD+VEayrFzGrH/mkh3j7LP+08\n",
       "qMTI/gUtn6uzqLE1aAAAAABJRU5ErkJggg==\n",
       "\" style=\"display:inline;vertical-align:middle;\" /></a><br>"
      ],
      "text/plain": [
       "expr: (f(a) = c , f(x) = c)"
      ]
     },
     "execution_count": 2,
     "metadata": {},
     "output_type": "execute_result"
    }
   ],
   "source": [
    "# build up the expression from sub-expressions\n",
    "expr = ExprTuple(Equals(fa, c), Equals(fx, c))"
   ]
  },
  {
   "cell_type": "code",
   "execution_count": 3,
   "metadata": {},
   "outputs": [
    {
     "name": "stdout",
     "output_type": "stream",
     "text": [
      "Passed sanity check: built 'expr' is the same as the stored Expression.\n"
     ]
    }
   ],
   "source": [
    "# check that the built expression is the same as the stored expression\n",
    "%check_expr"
   ]
  },
  {
   "cell_type": "code",
   "execution_count": 4,
   "metadata": {},
   "outputs": [
    {
     "data": {
      "text/html": [
       "<table><tr><th>&nbsp;</th><th>core type</th><th>sub-expressions</th><th>expression</th></tr>\n",
       "<tr><td>0</td><td>ExprTuple</td><td>1, 2</td><td><a class=\"ProveItLink\" href=\"expr.ipynb\"><img src=\"data:image/png;base64,iVBORw0KGgoAAAANSUhEUgAAALUAAAAVBAMAAADyYbJ0AAAAMFBMVEX////c3NwiIiJERESqqqqY\n",
       "mJh2dnZmZmYQEBDu7u4yMjJUVFTMzMyIiIi6uroAAAAs73DqAAAAAXRSTlMAQObYZgAAAnxJREFU\n",
       "OMu1Vb9rFEEUfuvu3u7e7z7ILbGwsEmjjQj3ByhZLdIE5BBJEFyJKVIIQhJsFC45REIgxR2CRZLm\n",
       "goUiBA9sBJtrLKK5eKTSgLgoVwSS4HtvZvfi3maSxilmvvnmm7cz78cswP9s+fYgvn2WjT9BJWb2\n",
       "E3XO5kaEsVktldGVr0Xss02lmNlVQvrdHoSYWkNl+8qoh326phYjm2M31H+UIcTUxhSmnaMXNHRA\n",
       "LUbW5s+P8tSOjrKssG0EPDwFtRjZPQbT3O9FC3r5ZNuWy2FvnCJGdobG8fk3NBDWNh/MAaSm4tIl\n",
       "f1sA8+0lWrQqqPU3bjxOEDsTnRaxr3h2yD3h70Ud72zwqR6tUVsnmF2Al3JngaOSxnguwS1vXoot\n",
       "1q5x8nzspl1iF2iiHfAuxFoPrBG88Wzce224LGGJc87uAlTgG1wfFDtV0D1ij46FB3EmgHN4rmwQ\n",
       "s/2+D0XcC2i7Bq/5TjFxJpAs2065oe3CCNRbCbb/9OGdyDZANck22hDsE46pqDHEpTaeqyavOT1M\n",
       "7QI57bC/9arI17LwpSN9YrF2mMyWOCDIshdtUTSI62V4Z7TAjNcalq0JIv2rIsUwljdzAWzBgLiA\n",
       "Sx6xk1yWfEHCac+4mEpIK8zR+85vUZZMoMLo6bNae1CcmYIU5+AuzX6JE+1Seu982MFPdOMF43dq\n",
       "ziK9Ufl98WS64Fy7N/EZEsQznS1mbdJ/ERxjRRnnaT0nPTB3es2bFTCbMnURy+Ynyk0qYXL0vy9U\n",
       "stjnd9VedeU8fGOdxom2nz2Xk+iNTRYzOwTmZOiLoTAaxUTblE1jD+VEayrFzGrH/mkh3j7LP+08\n",
       "qMTI/gUtn6uzqLE1aAAAAABJRU5ErkJggg==\n",
       "\" style=\"display:inline;vertical-align:middle;\" /></a></td></tr>\n",
       "<tr><td>1</td><td>Operation</td><td>operator:&nbsp;4<br>operands:&nbsp;3<br></td><td><a class=\"ProveItLink\" href=\"../ff1184969c9120e8a134053cf3d49961a24f3afb0/expr.ipynb\"><img src=\"data:image/png;base64,iVBORw0KGgoAAAANSUhEUgAAAE8AAAAVBAMAAAD1D64kAAAAMFBMVEX///8yMjLMzMwQEBAiIiJm\n",
       "Zma6urqYmJiqqqp2dnZERETc3NyIiIhUVFTu7u4AAAAe+HC4AAAAAXRSTlMAQObYZgAAAThJREFU\n",
       "KM9jYCAd5EAo9gScKt6e3QAkmS5AuUE4Fa7sLwCSjA+gXEZc6vi+vQBRZ2B89gk4FHJ8AFN2cI0G\n",
       "OBSyOoBINgG4wArs6tgv+waAlIMs3HsyGeivqRiOm3lGAUjxHwB7AeghNmuG9UBmI9geQTAAB4Vy\n",
       "AiPI1v0g1QzMwODbX8AQBWQmoxtow8AFCpd+MI8fqPA+A4MPkKmPppAX4luGKXCFvxj4PmFRyL8A\n",
       "Qq8Fk8wNDNx/gEHFB7Wa1QUMQGr2H4AotAGTQFfw/WDgFWhiYChENxHowAJQxIB5nMAwEmdoCZiA\n",
       "GTy8AQycQA+z/QPz2IABsPdM0hqgU8XQwzHyzDkgyQONEmsCUVgLDiIgqISJcB7AqtDwCSx1wZLZ\n",
       "Q+xRXRkNZXDDEu5tQllhD4TiUcAqCwCXf0G8NATSkAAAAABJRU5ErkJggg==\n",
       "\" style=\"display:inline;vertical-align:middle;\" /></a></td></tr>\n",
       "<tr><td>2</td><td>Operation</td><td>operator:&nbsp;4<br>operands:&nbsp;5<br></td><td><a class=\"ProveItLink\" href=\"../2b26e893486180e2d17349fde38d880623753bae0/expr.ipynb\"><img src=\"data:image/png;base64,iVBORw0KGgoAAAANSUhEUgAAAFAAAAAVBAMAAAAjqnRBAAAAMFBMVEX///8yMjLMzMwQEBAiIiJm\n",
       "Zma6urqYmJiqqqp2dnZERETc3NyIiIhUVFTu7u4AAAAe+HC4AAAAAXRSTlMAQObYZgAAATZJREFU\n",
       "KM9jYCAd5EDpMpwq3p7dACSZLkC5rAq4FK7sLwCSjA9gfAEc6vi+vQBRZ+AClTgUcnwAU3Zwgcc4\n",
       "FLI6gEg2hIVcDVjVsV/2DQApn8DAwD3ndk8MAwNnALqal3MOAUn+AyA2I9BDLxlKCkyAbgEbHigI\n",
       "ArIgJpMZgwiQ2g8ODuYEBoYJDOcZmoCuMEAz8PEBhuVAqh/M4QcqfMBwC2zABzSF9yHUFLhCBgYb\n",
       "rAp/Qai1YJIZ5FXuTwx8MKtDXEDACyT6B6LQBhImQM9U83xgOAcMB/So+Q4UA0UMmAMME47vXAbc\n",
       "B7AEz1UGhklAi/6BOWwODHxr5s08DgqpBPQomXMGmBB4oBZZE4jCWpDjUJPCHKwKDZ9AGfBkxoc9\n",
       "mVVGQxncsITLu4FAVtgDpQ9hlQUAzwVEcF0zgXUAAAAASUVORK5CYII=\n",
       "\" style=\"display:inline;vertical-align:middle;\" /></a></td></tr>\n",
       "<tr><td>3</td><td>ExprTuple</td><td>6, 8</td><td><a class=\"ProveItLink\" href=\"../d53b4c9dd863461b2968bbd0bdd934a22b27d2260/expr.ipynb\"><img src=\"data:image/png;base64,iVBORw0KGgoAAAANSUhEUgAAAE0AAAAVBAMAAADx+n4ZAAAAMFBMVEX////c3NwiIiJERESqqqqY\n",
       "mJh2dnZmZmYQEBDu7u4yMjJUVFTMzMyIiIi6uroAAAAs73DqAAAAAXRSTlMAQObYZgAAAWxJREFU\n",
       "KM+Nkq1Pw1AUxW/px9aVwfzE5rAz8/0PqMKQEARhCrIg0ECwkMm5ziDqhiIhWdIEQ4KZhbBlTMEM\n",
       "RcwB4d7TvtIXDFe8d36vp+/jvEf031ob/9U7ugX4II07us41VynWfMBIlLm3JKWlBvqEjFUsFb75\n",
       "pLTUlu5jLPdEbAJTLdXXfYwLiCO0i/yD6Ws+xmPpt89upBNtjA5PiZyusrj7k1jwCvSFVvRrzUyI\n",
       "rPwg97NKU/BSwPjEGGtjSaUWB3miprsgMxD8FrISDLL2ElrhU68mmc+DYITPaSrfeovCuOBjTn3n\n",
       "OM8Qg6wbY86o97tuA5EythFcGjDr0KdbKyZbzuHKfAFRINjBdczgY10JrA0nyyXk3XhdcpDLXAzv\n",
       "6UXMJb7p3ZTt8mP/QzKdPALLNYandDPQhXt7KaC9S/awnSLrrA7QBkWMqBw1M1bvyh1oPmCd7I5a\n",
       "r67SxUCVimgU3r3Sz/qzYvwB5mxhHcF7dQEAAAAASUVORK5CYII=\n",
       "\" style=\"display:inline;vertical-align:middle;\" /></a></td></tr>\n",
       "<tr><td>4</td><td>Literal</td><td></td><td><a class=\"ProveItLink\" href=\"../2fb26078095930560931daa0500ce419a39ea6cd0/expr.ipynb\"><img src=\"data:image/png;base64,iVBORw0KGgoAAAANSUhEUgAAAA4AAAAFBAMAAACHocAhAAAAFVBMVEX///9EREQiIiJUVFQyMjJm\n",
       "ZmYAAADubVkoAAAAAXRSTlMAQObYZgAAABRJREFUCNdjCHEBAWcGXCBICQQUAUpuAwlgGKrkAAAA\n",
       "AElFTkSuQmCC\n",
       "\" style=\"display:inline;vertical-align:middle;\" /></a></td></tr>\n",
       "<tr><td>5</td><td>ExprTuple</td><td>7, 8</td><td><a class=\"ProveItLink\" href=\"../89dd1e71185bdd07eb8c41abf5aa63ad962c9bbf0/expr.ipynb\"><img src=\"data:image/png;base64,iVBORw0KGgoAAAANSUhEUgAAAE0AAAAVBAMAAADx+n4ZAAAAMFBMVEX////c3NwiIiJERESqqqqY\n",
       "mJh2dnZmZmYQEBDu7u4yMjJUVFTMzMyIiIi6uroAAAAs73DqAAAAAXRSTlMAQObYZgAAAYZJREFU\n",
       "KM+Nki9Mw1AQxr9la2lXOiYIZiGrwU+wBDmNWRUCEjJBmFqyIFCIhWAhS0gIwWwGMUOGQpFUkiCY\n",
       "gvBnYaBghiFwQLi7t7e1YHji+rv3vt7de3fAf1eq85eNXkSyyuaSjX1+OmJeWxHdRECmxRRf+4Bm\n",
       "XslozibgSqrGawGaJXEpolsCrDpDUVzFUkctojsE+gIbYvvjk/mILl7AJn9Xts/4wzxzP31D6cuj\n",
       "yOvdAGYVx+J9iSW2S8ac5QGLWnfRS3pINLHHTuxT9ohNuIMEPcOLDreLuI9UDd/sJQaySWzDyTFe\n",
       "DXWOnEwOlM70tI4u3QnrpnJD3Y7cpy2bwtkA9XHerPxFefPjGMxG+hEu6Za5No7nAz6MpnqAhuo7\n",
       "cdFfwKxCNKgapwpT3uWZBW+qEcT71wcVCoET7sI7v2n3ltrdg5Um504VIxzq21Oob9Rxo53/3X1T\n",
       "Cva1W5FZslre0B/N1RHCOpvmChkYZZ0vo3Uyta72HD6PheZesxtExuUB+AER3124J7HmfQAAAABJ\n",
       "RU5ErkJggg==\n",
       "\" style=\"display:inline;vertical-align:middle;\" /></a></td></tr>\n",
       "<tr><td>6</td><td>Operation</td><td>operator:&nbsp;10<br>operand:&nbsp;9<br></td><td><a class=\"ProveItLink\" href=\"../../../../__pv_it/b355ea011214ada747c96f8eafea017ed3008cb70/expr.ipynb\"><img src=\"data:image/png;base64,iVBORw0KGgoAAAANSUhEUgAAACgAAAAVBAMAAADGNLEtAAAAMFBMVEX///8yMjLMzMwQEBAiIiJm\n",
       "Zma6urqYmJiqqqp2dnZERETc3NyIiIhUVFTu7u4AAAAe+HC4AAAAAXRSTlMAQObYZgAAAPZJREFU\n",
       "GNNjYMAPciAUewKYent2A5BkugCVDAKTK/sLgCTjA6ggI4jg+/YCRJ2BGcM+AUhwfACz7WCCfAZA\n",
       "gtUBxGQTgNu4Aqj6sm8ASAqkae/JZKCdU4Es/gNg44GWsVkzrAcyG4F4vwJIkBnovP0FDFFAZjIQ\n",
       "94MN4gcK3mdg8AEy9YF4ClzwFwPfJ6jgWrAgcwMD9x+g8/gg2m3AglwFDHw/GHgFmhgYCkEeAgty\n",
       "At0lztASMAHsJLZ/YEE2oBf2nklaAzRajIGBB+oVayRv1nIVQNiVMEHOAwyGT2AhBgu6h0AF0VA2\n",
       "NyyQbyNHxx4IxaPAAACpYzSWxz2JTwAAAABJRU5ErkJggg==\n",
       "\" style=\"display:inline;vertical-align:middle;\" /></a></td></tr>\n",
       "<tr><td>7</td><td>Operation</td><td>operator:&nbsp;10<br>operand:&nbsp;11<br></td><td><a class=\"ProveItLink\" href=\"../../../../__pv_it/182d3f256e21dc75ea1ec3168bda49a871e4700a0/expr.ipynb\"><img src=\"data:image/png;base64,iVBORw0KGgoAAAANSUhEUgAAACkAAAAVBAMAAAAp9toTAAAAMFBMVEX///8yMjLMzMwQEBAiIiJm\n",
       "Zma6urqYmJiqqqp2dnZERETc3NyIiIhUVFTu7u4AAAAe+HC4AAAAAXRSTlMAQObYZgAAAPpJREFU\n",
       "GNNjYCAAcqB0GYR6e3YDkGS6ABVlVQBTK/sLgCTjA5gmARDB9+0FiDoDN6oSRHB8ALPt4KKPweY4\n",
       "gEg2AbgoVwMDA/tl3wCQ3AQGBu45t3tiGBg4QXz+AyAFjEAbXzKUFJgAjQRp2w92CXMCA8MEhvMM\n",
       "TUDDDID8frBh/EDRBwy3QEwmkPVT4KIMDDZw0bVgUWagxQzcnxj4oCbYQJwDtK2a5wPDOaCrBEBe\n",
       "A4sCncPxncuA+wDEZWz/wKJsDgx8a+bNPA5yJNAKHqinrJF9XAsyEB4mYDCHgcHwCZQND0k+oObK\n",
       "aCiHGxbqvBuQY2gPlD7EwAAAkqk1TOFGkRwAAAAASUVORK5CYII=\n",
       "\" style=\"display:inline;vertical-align:middle;\" /></a></td></tr>\n",
       "<tr><td>8</td><td>Variable</td><td></td><td><a class=\"ProveItLink\" href=\"../../../../__pv_it/cbdfda466482236edba0ce44ac7ef39cda0af7a40/expr.ipynb\"><img src=\"data:image/png;base64,iVBORw0KGgoAAAANSUhEUgAAAAkAAAAJBAMAAAASvxsjAAAALVBMVEX///9mZmbc3NxUVFSYmJhE\n",
       "REQiIiIyMjK6uroQEBDMzMyIiIh2dnbu7u4AAABgFDGoAAAAAXRSTlMAQObYZgAAADZJREFUCNdj\n",
       "YOA9s3sBA8PKBvYEBt7ZDKwODMwPGICALwBE6m0Asx0YGIDiAgw8QJUyu/cyAAAmuwmycZ8WfQAA\n",
       "AABJRU5ErkJggg==\n",
       "\" style=\"display:inline;vertical-align:middle;\" /></a></td></tr>\n",
       "<tr><td>9</td><td>Variable</td><td></td><td><a class=\"ProveItLink\" href=\"../../../../__pv_it/07527342713064c87612d00d8557c53d53d5324a0/expr.ipynb\"><img src=\"data:image/png;base64,iVBORw0KGgoAAAANSUhEUgAAAAsAAAAJBAMAAAAWSsseAAAAMFBMVEX///8yMjKqqqrMzMzu7u4i\n",
       "IiJmZmaYmJhEREQQEBC6urp2dnaIiIhUVFTc3NwAAAD87Fq/AAAAAXRSTlMAQObYZgAAAEhJREFU\n",
       "CNdjYOC7s2seAwPDygccHxgY+L4zsDUwMPB+YGA9wMDA38Dgb8DA8P4Agz6DA4O/AsNFJgMGxgKm\n",
       "MG6gyjunLE4xAAAZTBA5TB6DCwAAAABJRU5ErkJggg==\n",
       "\" style=\"display:inline;vertical-align:middle;\" /></a></td></tr>\n",
       "<tr><td>10</td><td>Variable</td><td></td><td><a class=\"ProveItLink\" href=\"../../../../__pv_it/4d51ee1e62d011d06d4528b97697bf3da60c9de60/expr.ipynb\"><img src=\"data:image/png;base64,iVBORw0KGgoAAAANSUhEUgAAAAsAAAASBAMAAAB/WzlGAAAAMFBMVEX///8yMjLMzMwQEBAiIiJm\n",
       "Zma6urqYmJiqqqp2dnZERETc3NyIiIhUVFTu7u4AAAAe+HC4AAAAAXRSTlMAQObYZgAAAFVJREFU\n",
       "CNdjYGBgeHt2A5BkWNlfACT5vr0AcTg+gEgGVgcQyX7ZNwBE8x8AC+5XAFP9YJJhCoRaC6FswCTf\n",
       "NzDF9g9M8QiAyFoukPEMhk/AYpXRIBIAEwsRcZ82juYAAAAASUVORK5CYII=\n",
       "\" style=\"display:inline;vertical-align:middle;\" /></a></td></tr>\n",
       "<tr><td>11</td><td>Variable</td><td></td><td><a class=\"ProveItLink\" href=\"../../../../__pv_it/530be409e3083890784cf1d7b28c9e67e90af9360/expr.ipynb\"><img src=\"data:image/png;base64,iVBORw0KGgoAAAANSUhEUgAAAAsAAAAJBAMAAAAWSsseAAAAKlBMVEX///9ERETMzMwQEBAiIiKY\n",
       "mJju7u5mZmaqqqpUVFSIiIh2dnbc3NwAAAA/vyDhAAAAAXRSTlMAQObYZgAAAENJREFUCNdjYDi9\n",
       "8sTyBQxsG1hdmR0YuBm4LnAoMLAxcAowgADzAjB1VoEhgYH1wFoGrgSG3gBhhlMMDImrs3cFMAAA\n",
       "t0YN+iTRa+sAAAAASUVORK5CYII=\n",
       "\" style=\"display:inline;vertical-align:middle;\" /></a></td></tr>\n",
       "</table>\n"
      ],
      "text/plain": [
       "0. (f(a) = c , f(x) = c)\n",
       "   core type: ExprTuple\n",
       "   sub-expressions: 1, 2\n",
       "1. f(a) = c\n",
       "   core type: Operation\n",
       "   operator: 4\n",
       "   operands: 3\n",
       "2. f(x) = c\n",
       "   core type: Operation\n",
       "   operator: 4\n",
       "   operands: 5\n",
       "3. (f(a) , c)\n",
       "   core type: ExprTuple\n",
       "   sub-expressions: 6, 8\n",
       "4. =\n",
       "   core type: Literal\n",
       "   sub-expressions: \n",
       "5. (f(x) , c)\n",
       "   core type: ExprTuple\n",
       "   sub-expressions: 7, 8\n",
       "6. f(a)\n",
       "   core type: Operation\n",
       "   operator: 10\n",
       "   operand: 9\n",
       "7. f(x)\n",
       "   core type: Operation\n",
       "   operator: 10\n",
       "   operand: 11\n",
       "8. c\n",
       "   core type: Variable\n",
       "   sub-expressions: \n",
       "9. a\n",
       "   core type: Variable\n",
       "   sub-expressions: \n",
       "10. f\n",
       "    core type: Variable\n",
       "    sub-expressions: \n",
       "11. x\n",
       "    core type: Variable\n",
       "    sub-expressions: "
      ]
     },
     "execution_count": 4,
     "metadata": {},
     "output_type": "execute_result"
    }
   ],
   "source": [
    "# display the expression information\n",
    "expr.exprInfo()"
   ]
  },
  {
   "cell_type": "code",
   "execution_count": null,
   "metadata": {},
   "outputs": [],
   "source": []
  }
 ],
 "metadata": {
  "kernelspec": {
   "display_name": "Python 3",
   "language": "python",
   "name": "python3"
  }
 },
 "nbformat": 4,
 "nbformat_minor": 0
}
