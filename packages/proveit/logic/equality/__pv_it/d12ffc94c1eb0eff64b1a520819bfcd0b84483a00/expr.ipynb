{
 "cells": [
  {
   "cell_type": "markdown",
   "metadata": {},
   "source": [
    "Expression of type <a class=\"ProveItLink\" href=\"../../../../../../doc/html/api/proveit.Lambda.html\">Lambda</a>\n",
    "=======================\n",
    "# from context <a class=\"ProveItLink\" href=\"../../_context_.ipynb\">proveit.logic.equality</a>"
   ]
  },
  {
   "cell_type": "code",
   "execution_count": 1,
   "metadata": {},
   "outputs": [],
   "source": [
    "# import Expression classes needed to build the expression\n",
    "from proveit import Lambda\n",
    "from proveit._common_ import x, y\n",
    "from proveit.logic import Equals, InSet, Set"
   ]
  },
  {
   "cell_type": "code",
   "execution_count": 2,
   "metadata": {},
   "outputs": [
    {
     "data": {
      "text/html": [
       "<strong id=\"expr\">expr:</strong> <a class=\"ProveItLink\" href=\"expr.ipynb\"><img src=\"data:image/png;base64,iVBORw0KGgoAAAANSUhEUgAAAMoAAAAVCAMAAAAw04FgAAAANlBMVEX///8UFBQNDQ2YmJhUVFQy\n",
       "MjIQEBBEREQiIiKqqqrMzMyIiIi6urrc3NxmZmZ2dnbu7u4AAACrLjZHAAAAAXRSTlMAQObYZgAA\n",
       "AiJJREFUWMPFV+d6hCAQJKGz1Pd/2eiJFCnRxDv5433esrPjFgaE3rqwxfUL5ZwZWkuDPrk0nLf1\n",
       "wrUvFZMbS9385fQnmShywRhC762l8amepUL9BWPHpm/po1QA0H1UsHuSChsnxQMVy6LnqXj2IBVN\n",
       "x01Esb+YFcTlvVS8s2uiTfDdEpYlnI0lYRwQI8HmcjPcj4OuITIVZydUWoxfw3dIh2raiNqWFDFS\n",
       "HLcvhS4wYtmUm8msqiFwQpJ0TKXFsLRYaZAWvpVEdrXmfEDFkxwl03H7tlemcep5r+ai+RGC7snQ\n",
       "bEylxejXdeF7+eZszWFIifz+EtViISHEX2ueSBW8Zrs1zScQi1E0EDxmV4VJVhqMfn1VvuVaZiqo\n",
       "QVYQyQCZ1OZgfnLqncsBImmAGZUWY6R2Ct+vioac6wMVW3QBSzPAvPb6LFF6KISWTbND5F6ZFViL\n",
       "YctS4XVDRt+v0uVkQEWVX4ZvhYHN1sKQJwLBvbG7u6og8gTDk7bvYAz0R+HbLg8dcihwLMYCy24p\n",
       "xYgv8RgolaOenCAVxKlh3MPor9K35wA2nNLXWsQNzjsHVSIM7cjDdK6XEJkK1UMqXYx+4x/Cd+Kk\n",
       "cJkwloTOhEuCeINwib6JWJ3Kk1cp9xc5WUMkKg5uoFL6XkcjPx3hJZGPGepA7BrA3yLyS99yKbXz\n",
       "LsyVq5cX0ELsGgARcweVa+HXXC7dWLCTo7s9tIoE/qWMfwBQyRo3rRyFPAAAAABJRU5ErkJggg==\n",
       "\" style=\"display:inline;vertical-align:middle;\" /></a><br>"
      ],
      "text/plain": [
       "expr: y -> (x in {y}) | x = y"
      ]
     },
     "execution_count": 2,
     "metadata": {},
     "output_type": "execute_result"
    }
   ],
   "source": [
    "# build up the expression from sub-expressions\n",
    "expr = Lambda(y, InSet(x, Set(y)), conditions = [Equals(x, y)])"
   ]
  },
  {
   "cell_type": "code",
   "execution_count": 3,
   "metadata": {},
   "outputs": [
    {
     "name": "stdout",
     "output_type": "stream",
     "text": [
      "Passed sanity check: built 'expr' is the same as the stored Expression.\n"
     ]
    }
   ],
   "source": [
    "# check that the built expression is the same as the stored expression\n",
    "%check_expr"
   ]
  },
  {
   "cell_type": "code",
   "execution_count": 4,
   "metadata": {},
   "outputs": [
    {
     "data": {
      "text/html": [
       "<table><tr><th>&nbsp;</th><th>core type</th><th>sub-expressions</th><th>expression</th></tr>\n",
       "<tr><td>0</td><td>Lambda</td><td>parameter:&nbsp;12<br>body:&nbsp;1<br>conditions:&nbsp;2<br></td><td><a class=\"ProveItLink\" href=\"expr.ipynb\"><img src=\"data:image/png;base64,iVBORw0KGgoAAAANSUhEUgAAAMoAAAAVCAMAAAAw04FgAAAANlBMVEX///8UFBQNDQ2YmJhUVFQy\n",
       "MjIQEBBEREQiIiKqqqrMzMyIiIi6urrc3NxmZmZ2dnbu7u4AAACrLjZHAAAAAXRSTlMAQObYZgAA\n",
       "AiJJREFUWMPFV+d6hCAQJKGz1Pd/2eiJFCnRxDv5433esrPjFgaE3rqwxfUL5ZwZWkuDPrk0nLf1\n",
       "wrUvFZMbS9385fQnmShywRhC762l8amepUL9BWPHpm/po1QA0H1UsHuSChsnxQMVy6LnqXj2IBVN\n",
       "x01Esb+YFcTlvVS8s2uiTfDdEpYlnI0lYRwQI8HmcjPcj4OuITIVZydUWoxfw3dIh2raiNqWFDFS\n",
       "HLcvhS4wYtmUm8msqiFwQpJ0TKXFsLRYaZAWvpVEdrXmfEDFkxwl03H7tlemcep5r+ai+RGC7snQ\n",
       "bEylxejXdeF7+eZszWFIifz+EtViISHEX2ueSBW8Zrs1zScQi1E0EDxmV4VJVhqMfn1VvuVaZiqo\n",
       "QVYQyQCZ1OZgfnLqncsBImmAGZUWY6R2Ct+vioac6wMVW3QBSzPAvPb6LFF6KISWTbND5F6ZFViL\n",
       "YctS4XVDRt+v0uVkQEWVX4ZvhYHN1sKQJwLBvbG7u6og8gTDk7bvYAz0R+HbLg8dcihwLMYCy24p\n",
       "xYgv8RgolaOenCAVxKlh3MPor9K35wA2nNLXWsQNzjsHVSIM7cjDdK6XEJkK1UMqXYx+4x/Cd+Kk\n",
       "cJkwloTOhEuCeINwib6JWJ3Kk1cp9xc5WUMkKg5uoFL6XkcjPx3hJZGPGepA7BrA3yLyS99yKbXz\n",
       "LsyVq5cX0ELsGgARcweVa+HXXC7dWLCTo7s9tIoE/qWMfwBQyRo3rRyFPAAAAABJRU5ErkJggg==\n",
       "\" style=\"display:inline;vertical-align:middle;\" /></a></td></tr>\n",
       "<tr><td>1</td><td>Operation</td><td>operator:&nbsp;3<br>operands:&nbsp;4<br></td><td><a class=\"ProveItLink\" href=\"../5c6747ba5377ea86b16afdb965472254f8dee7d50/expr.ipynb\"><img src=\"data:image/png;base64,iVBORw0KGgoAAAANSUhEUgAAAEQAAAAVBAMAAAAN71XTAAAAMFBMVEX///+6uroyMjJERETMzMwQ\n",
       "EBAiIiKYmJju7u5mZmaqqqpUVFSIiIh2dnbc3NwAAAAWgogoAAAAAXRSTlMAQObYZgAAARNJREFU\n",
       "KM9jYMAG2KdDGb73GLADjlw403UBdiU8H+BMTgXsSngDsDGJVNKjlpaEXwmLegMOU96efnXyAIj3\n",
       "uAFZnOPmBYb3DRDmBfZ01gSQhB2KN3gZPzCcB4YQ0HO8QC9yOYACwwARGAIMDF6cCQzGQLYmUIaB\n",
       "GyLHGJaWBnGudwiQaGA9wPAHSDOrAwnWAxDXboCbIgoydX0DyxcgBQ7o9w4MIIdyJMCVcIOCdBID\n",
       "TwDELewPzjPwgP2yHeHTBLAjmDdAPLe+wJThDViiTQAlMGYzyBdAmM1ne+8UgCX4NB2QlTSfmf8A\n",
       "IwK4NqFGwDUC0cidwBGFRwk7UJztAvMFPOmFIwdo65mJsIDGbswtpLQLAHbMQ8XDEKjoAAAAAElF\n",
       "TkSuQmCC\n",
       "\" style=\"display:inline;vertical-align:middle;\" /></a></td></tr>\n",
       "<tr><td>2</td><td>ExprTuple</td><td>5</td><td><a class=\"ProveItLink\" href=\"../d7e65074c6d38f24d57d3498742a0ea3140e8b8f0/expr.ipynb\"><img src=\"data:image/png;base64,iVBORw0KGgoAAAANSUhEUgAAAD8AAAAVBAMAAAADRiu8AAAAMFBMVEX////c3NwiIiJERESqqqqY\n",
       "mJh2dnZmZmYQEBDu7u4yMjJUVFTMzMyIiIi6uroAAAAs73DqAAAAAXRSTlMAQObYZgAAARFJREFU\n",
       "KM9jYCAI+C7glosDEafxaGY/ACRW4jN+AQMD7wV8CsIYGDgm4FMwg4HhFV4fMDswlAEpsdsi19Fs\n",
       "4kxPYJCfwMBWwLAUyElgVeVQADl6FRhsADLZ+D4w3GdgYFnA0AfkMPB+YDmAasIRdgUGY2AgNTD8\n",
       "A5rAwG2AbvkEjgsMfxkYeD6AFAC9gulX/wk8f8AKWkA8+QMMIN+yK4EB2LgqBt4GsBWmDAysAvcZ\n",
       "eNGDYzkDM9CxrAsY0oGmBVgwyKJbUc3wPoAB5M1HDAyTr03LDUBXMPluvQADA9cDBg4BXKGYBAlq\n",
       "1gSsstwKnCDn5+KMbqYEZqBOTmB0M0hjVcBytw5kDsh+RjwJ4g4DAwALUz0NBgexYgAAAABJRU5E\n",
       "rkJggg==\n",
       "\" style=\"display:inline;vertical-align:middle;\" /></a></td></tr>\n",
       "<tr><td>3</td><td>Literal</td><td></td><td><a class=\"ProveItLink\" href=\"../../../set_theory/membership/__pv_it/088cbc857536a28d4119ad9639a84270ccb0545d0/expr.ipynb\"><img src=\"data:image/png;base64,iVBORw0KGgoAAAANSUhEUgAAAAwAAAAMBAMAAACkW0HUAAAALVBMVEX///+qqqpmZmZUVFQQEBC6\n",
       "urpERETc3NyYmJjMzMwiIiIyMjKIiIju7u4AAACYsrA9AAAAAXRSTlMAQObYZgAAADxJREFUCNdj\n",
       "YOA9vWrVBgaG2b0MQMCeCyIZ2ArA1DUwyRCyahVIyWQI7xaEYm4AU7xLIdxqTQgtvGvVBgCkcQ7e\n",
       "geM/tQAAAABJRU5ErkJggg==\n",
       "\" style=\"display:inline;vertical-align:middle;\" /></a></td></tr>\n",
       "<tr><td>4</td><td>ExprTuple</td><td>11, 6</td><td><a class=\"ProveItLink\" href=\"../a1b34395c458a1dce9aa363aaad59c7a5e0dbea20/expr.ipynb\"><img src=\"data:image/png;base64,iVBORw0KGgoAAAANSUhEUgAAAEEAAAAVBAMAAADrxp6XAAAAMFBMVEX////c3NwiIiJERESqqqqY\n",
       "mJh2dnZmZmYQEBDu7u4yMjJUVFTMzMyIiIi6uroAAAAs73DqAAAAAXRSTlMAQObYZgAAAVlJREFU\n",
       "KM99kjFLw1AUhY+mL80zTckgLiLNopsgiODYf2AmR4kidCq46KCgGTqKBgrimEXEzZ+QQYrQJZMO\n",
       "WlqcxMXgrOJ96ctL4pBA8g6Xj3vvOXnAv4cdSjHYzUrNuAjwFSUf28COEMNSCytRsh7SG5G4KxG6\n",
       "X5ZEWXElsQ0YQSVxDXygktDaOKJj4WX+Oc7LvOOhFUwJ/QA3VPHYsuHkBvRmgjElI2zVQlxQhTzW\n",
       "IhnCBHioO1gnfSvS8vFLPWCuydnDc/oERowfsQP1bySCIEPK8rvotRU0vukQ8RLRE/VWBGnapD1w\n",
       "DMuXe9CUDZL2GFYwZXQnXUC7l25ZiA41dTexBP6lQjjBpwvl9g3oP111XfBLOyP6ozNbyrkJDFtd\n",
       "AzvPdK+QOvPU3cmmmA7vZUS3+PdTglF51tM8GS8X1hYzIs2Er1LSo9MsXlNMnilfELZfvKevwB8r\n",
       "uFcIm8Mx/gAAAABJRU5ErkJggg==\n",
       "\" style=\"display:inline;vertical-align:middle;\" /></a></td></tr>\n",
       "<tr><td>5</td><td>Operation</td><td>operator:&nbsp;7<br>operands:&nbsp;8<br></td><td><a class=\"ProveItLink\" href=\"../d7b0ec29f16be033b0ced711d4b5a779ecbfcdb70/expr.ipynb\"><img src=\"data:image/png;base64,iVBORw0KGgoAAAANSUhEUgAAADMAAAANBAMAAAD2/0vEAAAAMFBMVEX///+6uroyMjJERETMzMwQ\n",
       "EBAiIiKYmJju7u5mZmaqqqpUVFSIiIh2dnbc3NwAAAAWgogoAAAAAXRSTlMAQObYZgAAAKRJREFU\n",
       "GNNjYHh7+tXJAwwogOPmBYb3DQwcF9jTWROAfE4lMNgAZPIyfmA4D6QYeD5wOaDq8uJMYDAGambg\n",
       "NmBAAw2sBxj+gBisB9ClGNY3sHwB0e8dGBpAdqWBAdiISQw8AQwM7A/OM/A0oOnSZGAGOmd9gSnD\n",
       "G3QDZzPIFzAwNJ/tvVOALtV8Zv4DBlzgGg5x7gSOKBxSbBeYL+CQ4jozEUgCABYeKl4jfnQmAAAA\n",
       "AElFTkSuQmCC\n",
       "\" style=\"display:inline;vertical-align:middle;\" /></a></td></tr>\n",
       "<tr><td>6</td><td>Operation</td><td>operator:&nbsp;9<br>operands:&nbsp;10<br></td><td><a class=\"ProveItLink\" href=\"../b018c57488e247ab3cea238187256e393fa21f440/expr.ipynb\"><img src=\"data:image/png;base64,iVBORw0KGgoAAAANSUhEUgAAAB0AAAAVBAMAAABI7vhRAAAAMFBMVEX///9ERETc3NyqqqpUVFS6\n",
       "urrMzMwyMjIQEBCIiIh2dnYiIiLu7u5mZmaYmJgAAABJJ2g3AAAAAXRSTlMAQObYZgAAAKlJREFU\n",
       "GNNjYGDgu8cABmyrFEAUzy4GKGBrBpGcH2B8husggqsBzl9BLv/ULQamP1A+bwEDw4J4sDXvQfyM\n",
       "AAY2g9sMjAIMDOwXGBhS2oBOYuhk4J8AlBN/wMAQkcDAwPyHIR9IcS8AirEUgM2YwQDVz7UBrFEE\n",
       "2T5eB9Z/yHweybmfUN0H0oXgezOcMIDx+YD8XQxScP/z7GRgsJwbAAqfVrCv+BYjhR8AhFYukUvA\n",
       "dnQAAAAASUVORK5CYII=\n",
       "\" style=\"display:inline;vertical-align:middle;\" /></a></td></tr>\n",
       "<tr><td>7</td><td>Literal</td><td></td><td><a class=\"ProveItLink\" href=\"../2fb26078095930560931daa0500ce419a39ea6cd0/expr.ipynb\"><img src=\"data:image/png;base64,iVBORw0KGgoAAAANSUhEUgAAAA4AAAAFBAMAAACHocAhAAAAFVBMVEX///9EREQiIiJUVFQyMjJm\n",
       "ZmYAAADubVkoAAAAAXRSTlMAQObYZgAAABRJREFUCNdjCHEBAWcGXCBICQQUAUpuAwlgGKrkAAAA\n",
       "AElFTkSuQmCC\n",
       "\" style=\"display:inline;vertical-align:middle;\" /></a></td></tr>\n",
       "<tr><td>8</td><td>ExprTuple</td><td>11, 12</td><td><a class=\"ProveItLink\" href=\"../a6a2ac9310c73e21661c7634808321702fb219240/expr.ipynb\"><img src=\"data:image/png;base64,iVBORw0KGgoAAAANSUhEUgAAACwAAAAVBAMAAADP3xFXAAAAMFBMVEX////c3NwiIiJERESqqqqY\n",
       "mJh2dnZmZmYQEBDu7u4yMjJUVFTMzMyIiIi6uroAAAAs73DqAAAAAXRSTlMAQObYZgAAAQtJREFU\n",
       "GNNjYMAB+C6gi7A+ABKnMVXWAPFKTGEuBgbeC5jCrAkMHBMwhTkbGF5hc4YJQxmQFLstch1i1rQy\n",
       "BsafDAzpDEuBehJYVTkUwMIJ7xl4PzAweDH0MTCwAZksB0CiPA5FDMwGDAwvGP4BVTNwG0DtYuhl\n",
       "4Acadx4kzMDAAXMly0+G8wdAwi0gnvwBBog72Rcw3GAAGWIKdL3AfQbeCWAJrgIGayAVBXQLg3+A\n",
       "BYMsA+cnkOoNfF8ZQA58xMAw+dq03AAGzn4BoJ221z8ChdcxcAjAQxjMYlMAex4YLLAAAuJNDDMc\n",
       "gFIXkAIWJKzGYAYkZwGxNEwY5Hbf66CY2QjEjBgBznuAAQAt5DtyKXSr1gAAAABJRU5ErkJggg==\n",
       "\" style=\"display:inline;vertical-align:middle;\" /></a></td></tr>\n",
       "<tr><td>9</td><td>Literal</td><td></td><td><a class=\"ProveItLink\" href=\"../../../set_theory/enumeration/__pv_it/07381ed5b23806e8d7914b78cb6667769e3708dd0/expr.ipynb\"><img src=\"data:image/png;base64,iVBORw0KGgoAAAANSUhEUgAAAB4AAAAOBAMAAADKyLEKAAAAMFBMVEX///8iIiIQEBCIiIjMzMzc\n",
       "3Nyqqqp2dnZEREQyMjK6urru7u5mZmZUVFSYmJgAAACI6eGPAAAAAXRSTlMAQObYZgAAALRJREFU\n",
       "CNdjYGDgu3Nm3wIGBJjHwN0PZW5yYGDgLWBgyITy8zcwMMQDxZyh/INAvD6BgcEFypcB4vjPDiBm\n",
       "TPFRrhs/LjMwMP//38rAwCbKEMPA9gEkE3fp0waG+AUMRxh4JkC01T9guPTOOICBEWgVH5C//wHD\n",
       "H5D4fqCz9oCMDGD4DLaegRXslLMMDMpAgxlOMmQxHDRgYG5gYLBk4D7KcIe7gOHC2rt9QCXsh40Z\n",
       "GCKMGQDRkC8N/Ph1XAAAAABJRU5ErkJggg==\n",
       "\" style=\"display:inline;vertical-align:middle;\" /></a></td></tr>\n",
       "<tr><td>10</td><td>ExprTuple</td><td>12</td><td><a class=\"ProveItLink\" href=\"../e4c9c31c4dd925da36852c7d3895fcaa012158bd0/expr.ipynb\"><img src=\"data:image/png;base64,iVBORw0KGgoAAAANSUhEUgAAABcAAAAVBAMAAABfzGiYAAAAMFBMVEX////c3NwiIiJERESqqqqY\n",
       "mJh2dnZmZmYQEBDu7u4yMjJUVFTMzMyIiIi6uroAAAAs73DqAAAAAXRSTlMAQObYZgAAAMFJREFU\n",
       "GNNVj7EOwXAQxn9UKUq6G3gHsXsDJqM0lk4Sk4GEDmZpYjF2EbF5BIPN0gfQEKNFHwBx/2olbrjL\n",
       "7/Llu/vgr6rBd/ZVOyXLwkHaLpX4UAlS6IHhpbCG+89JazOGomNT98iP2EC+GnGBnM8SjoUGTTno\n",
       "8gbPCHiBGSmg45nPGBYCEypuLGsJbNH2oPs4AlMeXZT1TWAVzi0oXTEsdX3wfUe3KTeKymYYR8ja\n",
       "mi1PSQRq5MKZzLLSZ5JAZ/gAdAsqXS4lbPIAAAAASUVORK5CYII=\n",
       "\" style=\"display:inline;vertical-align:middle;\" /></a></td></tr>\n",
       "<tr><td>11</td><td>Variable</td><td></td><td><a class=\"ProveItLink\" href=\"../../../../__pv_it/530be409e3083890784cf1d7b28c9e67e90af9360/expr.ipynb\"><img src=\"data:image/png;base64,iVBORw0KGgoAAAANSUhEUgAAAAsAAAAJBAMAAAAWSsseAAAAKlBMVEX///9ERETMzMwQEBAiIiKY\n",
       "mJju7u5mZmaqqqpUVFSIiIh2dnbc3NwAAAA/vyDhAAAAAXRSTlMAQObYZgAAAENJREFUCNdjYDi9\n",
       "8sTyBQxsG1hdmR0YuBm4LnAoMLAxcAowgADzAjB1VoEhgYH1wFoGrgSG3gBhhlMMDImrs3cFMAAA\n",
       "t0YN+iTRa+sAAAAASUVORK5CYII=\n",
       "\" style=\"display:inline;vertical-align:middle;\" /></a></td></tr>\n",
       "<tr><td>12</td><td>Variable</td><td></td><td><a class=\"ProveItLink\" href=\"../../../../__pv_it/f8b9edf8e16034727f0aad55bb83e392c3db40d40/expr.ipynb\"><img src=\"data:image/png;base64,iVBORw0KGgoAAAANSUhEUgAAAAsAAAANBAMAAACN24kIAAAAMFBMVEX///+YmJhUVFQyMjIQEBBE\n",
       "REQiIiKqqqrMzMyIiIi6urrc3NxmZmZ2dnbu7u4AAADXeCicAAAAAXRSTlMAQObYZgAAAFhJREFU\n",
       "CNdj4LtzgWH/AwZerg8M8xkY2nkSGEIZGB6wTGD4ycDAUP+A4weQOszA6QCkbBhYFYDUIYb1AkDq\n",
       "6czzGxhA4BoQMyXwuQMptgusF4AU+8xTQBIAUqMVoSp/SLMAAAAASUVORK5CYII=\n",
       "\" style=\"display:inline;vertical-align:middle;\" /></a></td></tr>\n",
       "</table>\n"
      ],
      "text/plain": [
       "0. y -> (x in {y}) | x = y\n",
       "   core type: Lambda\n",
       "   parameter: 12\n",
       "   body: 1\n",
       "   conditions: 2\\n1. x in {y}\n",
       "   core type: Operation\n",
       "   operator: 3\n",
       "   operands: 4\n",
       "2. (x = y)\n",
       "   core type: ExprTuple\n",
       "   sub-expressions: 5\n",
       "3. in\n",
       "   core type: Literal\n",
       "   sub-expressions: \n",
       "4. (x , {y})\n",
       "   core type: ExprTuple\n",
       "   sub-expressions: 11, 6\n",
       "5. x = y\n",
       "   core type: Operation\n",
       "   operator: 7\n",
       "   operands: 8\n",
       "6. {y}\n",
       "   core type: Operation\n",
       "   operator: 9\n",
       "   operands: 10\n",
       "7. =\n",
       "   core type: Literal\n",
       "   sub-expressions: \n",
       "8. (x , y)\n",
       "   core type: ExprTuple\n",
       "   sub-expressions: 11, 12\n",
       "9. Set\n",
       "   core type: Literal\n",
       "   sub-expressions: \n",
       "10. (y)\n",
       "    core type: ExprTuple\n",
       "    sub-expressions: 12\n",
       "11. x\n",
       "    core type: Variable\n",
       "    sub-expressions: \n",
       "12. y\n",
       "    core type: Variable\n",
       "    sub-expressions: "
      ]
     },
     "execution_count": 4,
     "metadata": {},
     "output_type": "execute_result"
    }
   ],
   "source": [
    "# display the expression information\n",
    "expr.exprInfo()"
   ]
  },
  {
   "cell_type": "code",
   "execution_count": null,
   "metadata": {},
   "outputs": [],
   "source": []
  }
 ],
 "metadata": {
  "kernelspec": {
   "display_name": "Python 3",
   "language": "python",
   "name": "python3"
  }
 },
 "nbformat": 4,
 "nbformat_minor": 0
}
