{
 "cells": [
  {
   "cell_type": "markdown",
   "metadata": {},
   "source": [
    "Show the Proof\n",
    "========"
   ]
  },
  {
   "cell_type": "code",
   "execution_count": 1,
   "metadata": {},
   "outputs": [
    {
     "data": {
      "text/html": [
       "<table><tr><th>&nbsp;</th><th>step type</th><th>requirements</th><th>statement</th></tr>\n",
       "<tr><td>0</td><td>specialization</td><td>1, 2</td><td><span style=\"font-size:20px;\"><a class=\"ProveItLink\" href=\"../0b3ebedb13b80683789be64da3f7935d89fe1b5b0/expr.ipynb\"><img src=\"data:image/png;base64,iVBORw0KGgoAAAANSUhEUgAAAEEAAAAVBAMAAADrxp6XAAAAMFBMVEX////c3NxERESqqqpUVFS6\n",
       "urrMzMwyMjIQEBCIiIh2dnYiIiLu7u5mZmaYmJgAAABXZE4RAAAAAXRSTlMAQObYZgAAAOpJREFU\n",
       "KM9jYGDgu8eAA7CtEgBRPLsYcAK2ZhDJ+QHMCerFpuQ6iOBqgHA+Y1OxAkkF6x9CKrg2EFLBfgG/\n",
       "CpFZ8QZokqdWToOq4C0AOqKRQf8AiF0OBg4gj7YyVDMwvAepyAhgYJB/APEXEjgxgUEPYndKG5Dr\n",
       "z8CAHm7+EEr9AQNDRAIDwycGnq9oKj6BSe4FQIKlgIHxJwPzBx6QO3aDgQIDSAgE3kMDguczUJ0Z\n",
       "qhn/gFGK5Ns6BusLC1BV+DIwLENSITIzTDMAVQXvypkHUMMUOyBSBR8+FeBw5NmJJ421gim+xXjT\n",
       "KQDh+0J7GsIzOQAAAABJRU5ErkJggg==\n",
       "\" style=\"display:inline;vertical-align:middle;\" /></a> <a class=\"ProveItLink\" href=\"proof.ipynb\" style=\"text-decoration: none\">&#x22A2;&nbsp;</a><a class=\"ProveItLink\" href=\"../cdf5c35b617bb83836cb556707337fff3b7ae6290/expr.ipynb\"><img src=\"data:image/png;base64,iVBORw0KGgoAAAANSUhEUgAAADAAAAAOBAMAAACbXIJpAAAAMFBMVEX///+qqqpmZmbc3NxUVFSY\n",
       "mJhEREQiIiIyMjK6uroQEBDMzMyIiIh2dnbu7u4AAAA4MM1YAAAAAXRSTlMAQObYZgAAAJRJREFU\n",
       "GNNjYMAKpi1iwAE+4hDn/IdDgrcAhwSHAgMD390zG9CETc7OF2Bg2DWBA6RPowMEWsAWLGbIf8DA\n",
       "t4aBLQBVg30AgwYDA8sHDAv8GRhqGRj4EzAkvjHw/QTqOwDhqZeDQBmQxfyHgfEDHwM/0AJUO/g+\n",
       "MrA0SDOwKDDwojm3lUFc4QIDg+6Zc+jeODM7ZwIAG+cj9tmP9mYAAAAASUVORK5CYII=\n",
       "\" style=\"display:inline;vertical-align:middle;\" /></a></span></td></tr>\n",
       "<tr><td>&nbsp;</td><td colspan=4 style=\"text-align:left\"><span style=\"font-size:20px;\"><a class=\"ProveItLink\" href=\"../../../../__pv_it/530be409e3083890784cf1d7b28c9e67e90af9360/expr.ipynb\"><img src=\"data:image/png;base64,iVBORw0KGgoAAAANSUhEUgAAAAsAAAAJBAMAAAAWSsseAAAAKlBMVEX///9ERETMzMwQEBAiIiKY\n",
       "mJju7u5mZmaqqqpUVFSIiIh2dnbc3NwAAAA/vyDhAAAAAXRSTlMAQObYZgAAAENJREFUCNdjYDi9\n",
       "8sTyBQxsG1hdmR0YuBm4LnAoMLAxcAowgADzAjB1VoEhgYH1wFoGrgSG3gBhhlMMDImrs3cFMAAA\n",
       "t0YN+iTRa+sAAAAASUVORK5CYII=\n",
       "\" style=\"display:inline;vertical-align:middle;\" /></a> : <a class=\"ProveItLink\" href=\"../../../../__pv_it/3a5de44ed6135dbbdbbeec6704c741e238f127300/expr.ipynb\"><img src=\"data:image/png;base64,iVBORw0KGgoAAAANSUhEUgAAAAsAAAAOBAMAAAALT/umAAAAMFBMVEX////MzMyYmJiIiIhUVFTc\n",
       "3NwyMjIiIiJ2dnbu7u6qqqpmZmYQEBBERES6uroAAABkyy6XAAAAAXRSTlMAQObYZgAAAFhJREFU\n",
       "CNdjYGBg4LuzgQEE+BeAqfcTwFQ7mGTIBmJW575fQOpNAO9PIOcTA3cCAwPLBwb2BqCeCwzzHzAw\n",
       "xBswrGeYwDB/AYMblwADmwJXNQdIm52sHQMAfyoTCZukXIEAAAAASUVORK5CYII=\n",
       "\" style=\"display:inline;vertical-align:middle;\" /></a>, <a class=\"ProveItLink\" href=\"../../../../__pv_it/f8b9edf8e16034727f0aad55bb83e392c3db40d40/expr.ipynb\"><img src=\"data:image/png;base64,iVBORw0KGgoAAAANSUhEUgAAAAsAAAANBAMAAACN24kIAAAAMFBMVEX///+YmJhUVFQyMjIQEBBE\n",
       "REQiIiKqqqrMzMyIiIi6urrc3NxmZmZ2dnbu7u4AAADXeCicAAAAAXRSTlMAQObYZgAAAFhJREFU\n",
       "CNdj4LtzgWH/AwZerg8M8xkY2nkSGEIZGB6wTGD4ycDAUP+A4weQOszA6QCkbBhYFYDUIYb1AkDq\n",
       "6czzGxhA4BoQMyXwuQMptgusF4AU+8xTQBIAUqMVoSp/SLMAAAAASUVORK5CYII=\n",
       "\" style=\"display:inline;vertical-align:middle;\" /></a> : <a class=\"ProveItLink\" href=\"../../../../__pv_it/cbdfda466482236edba0ce44ac7ef39cda0af7a40/expr.ipynb\"><img src=\"data:image/png;base64,iVBORw0KGgoAAAANSUhEUgAAAAkAAAAJBAMAAAASvxsjAAAALVBMVEX///9mZmbc3NxUVFSYmJhE\n",
       "REQiIiIyMjK6uroQEBDMzMyIiIh2dnbu7u4AAABgFDGoAAAAAXRSTlMAQObYZgAAADZJREFUCNdj\n",
       "YOA9s3sBA8PKBvYEBt7ZDKwODMwPGICALwBE6m0Asx0YGIDiAgw8QJUyu/cyAAAmuwmycZ8WfQAA\n",
       "AABJRU5ErkJggg==\n",
       "\" style=\"display:inline;vertical-align:middle;\" /></a></span></td></tr><tr><td>1</td><td>theorem</td><td></td><td><span style=\"font-size:20px;\"> <a class=\"ProveItLink\" href=\"../../_proofs_/equalsReversal.ipynb\" style=\"text-decoration: none\">&#x22A2;&nbsp;</a><a class=\"ProveItLink\" href=\"../28002146d7bbb3d303591384d88b2e1175a218f20/expr.ipynb\"><img src=\"data:image/png;base64,iVBORw0KGgoAAAANSUhEUgAAAKEAAAAXBAMAAACR7DLtAAAAMFBMVEX///8QEBC6urrMzMxUVFRm\n",
       "ZmZERETc3NwyMjKqqqp2dnaIiIiYmJgiIiLu7u4AAAAU9Wx4AAAAAXRSTlMAQObYZgAAAhhJREFU\n",
       "OMutVD1IHEEU/m5Xb72/9YhVkEAKCxuJgfR3KBiJBCxFObAIKtFiC4lpErZIkSIEQa1sthGJB7KS\n",
       "eCCKLmkCkcBVKQThbCxMIwl4jYjvzd7uuevtwhx58JiZ9837ePN+BvjvUpP2UOxo7DtplTfHMozP\n",
       "YrDOQeALbz7LMMZeNoE3tGjTEoQZOw79CXRRIjuXJRgTsZk/A7KbS0vvZB7dH4smKbirmZkTGcZJ\n",
       "0otJaDdBs1Z+vj4FpMeBYWD2ntvjaMZPpNYTZC5pnfjI8oHNF/jlPAJSVJo+6OY9t5hSPQDU5RKS\n",
       "oSsWjrBCzZoHcsg4Mox/AR296LbDkzLCi0qhZ5xcTZIRqRsUBsNAr8eomzwE5aFvdEWpNJrDZXSN\n",
       "YvIqftc85NEwscP70inLb7c0/yh28WrMDlGJaiMJqvufbuNpM0ZhHOXc2z4ALJB2jeNVKMIfVKpD\n",
       "akauyRqNtiJKiPcDqDQZG8YAAGxwjEXlOkiYuk7mNdvtHiREjusCeIGxu3ms+x4eAAyQ6vO79SCj\n",
       "Pr+9dcDRc99lOUFqXnVbo+cOIxvnxKt9gAIwREaqkVPoSiFtpvHWQI9y2WQUxoZ4AAVgAS9xFvEV\n",
       "lL3N+d7UNgoOVitmk1EYG+IB7m92gtetCcPD4mhGh92yH32AZBFY340Y0w4jcFSNpNXfusN9gNlj\n",
       "PsivwWMWqX2rNaMPtC3F9l1vAaqximPRgqa5AAAAAElFTkSuQmCC\n",
       "\" style=\"display:inline;vertical-align:middle;\" /></a></span></td></tr>\n",
       "<tr><td>&nbsp;</td><td colspan=4 style-\"text-align:left\"><a class=\"ProveItLink\" href=\"../../_proofs_/equalsReversal.ipynb\">proveit.logic.equality.equalsReversal</a></td></tr><tr><td>2</td><td>assumption</td><td></td><td><span style=\"font-size:20px;\"><a class=\"ProveItLink\" href=\"../0b3ebedb13b80683789be64da3f7935d89fe1b5b0/expr.ipynb\"><img src=\"data:image/png;base64,iVBORw0KGgoAAAANSUhEUgAAAEEAAAAVBAMAAADrxp6XAAAAMFBMVEX////c3NxERESqqqpUVFS6\n",
       "urrMzMwyMjIQEBCIiIh2dnYiIiLu7u5mZmaYmJgAAABXZE4RAAAAAXRSTlMAQObYZgAAAOpJREFU\n",
       "KM9jYGDgu8eAA7CtEgBRPLsYcAK2ZhDJ+QHMCerFpuQ6iOBqgHA+Y1OxAkkF6x9CKrg2EFLBfgG/\n",
       "CpFZ8QZokqdWToOq4C0AOqKRQf8AiF0OBg4gj7YyVDMwvAepyAhgYJB/APEXEjgxgUEPYndKG5Dr\n",
       "z8CAHm7+EEr9AQNDRAIDwycGnq9oKj6BSe4FQIKlgIHxJwPzBx6QO3aDgQIDSAgE3kMDguczUJ0Z\n",
       "qhn/gFGK5Ns6BusLC1BV+DIwLENSITIzTDMAVQXvypkHUMMUOyBSBR8+FeBw5NmJJ421gim+xXjT\n",
       "KQDh+0J7GsIzOQAAAABJRU5ErkJggg==\n",
       "\" style=\"display:inline;vertical-align:middle;\" /></a> <a class=\"ProveItLink\" href=\"../fca76e3106a814a13026b7d94e95399370c2d7fa0/proof.ipynb\" style=\"text-decoration: none\">&#x22A2;&nbsp;</a><a class=\"ProveItLink\" href=\"../5563f0e90876434c8f38bb4cbb53a97c172836010/expr.ipynb\"><img src=\"data:image/png;base64,iVBORw0KGgoAAAANSUhEUgAAAC8AAAAOBAMAAABN+VgMAAAAMFBMVEX////MzMyYmJiIiIhUVFTc\n",
       "3NwyMjIiIiJ2dnbu7u6qqqpmZmYQEBBERES6uroAAABkyy6XAAAAAXRSTlMAQObYZgAAAJRJREFU\n",
       "GNNjYGBg4LuzgQE74F+AQ+L9BBwS7TjEGbKxirI69/1CE+LsMBZgYHgTwPsTxNuWBgIpIKbMA7YC\n",
       "BtZPDNwJaBoOM/AqMLB8YGBvQJUACoH8cIFh/gM0b10AkfEGDOsZQP7YXg4CtRAhIJi/gMGNSwBV\n",
       "hwIDgwIDmwJXNQeaHRsYOASA3rCTtUPzxw5jSwYAHdohiAA7WLMAAAAASUVORK5CYII=\n",
       "\" style=\"display:inline;vertical-align:middle;\" /></a></span></td></tr>\n",
       "</table>"
      ],
      "text/plain": [
       "<proveit._core_.proof._ShowProof at 0x7f94ebd142b0>"
      ]
     },
     "execution_count": 1,
     "metadata": {},
     "output_type": "execute_result"
    }
   ],
   "source": [
    "import proveit\n",
    "%show_proof"
   ]
  },
  {
   "cell_type": "code",
   "execution_count": null,
   "metadata": {},
   "outputs": [],
   "source": []
  }
 ],
 "metadata": {
  "kernelspec": {
   "display_name": "Python 3",
   "language": "python",
   "name": "python3"
  }
 },
 "nbformat": 4,
 "nbformat_minor": 0
}
