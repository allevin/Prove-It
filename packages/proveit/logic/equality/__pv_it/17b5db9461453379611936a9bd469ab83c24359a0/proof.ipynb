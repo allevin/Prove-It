{
 "cells": [
  {
   "cell_type": "markdown",
   "metadata": {},
   "source": [
    "Show the Proof\n",
    "========"
   ]
  },
  {
   "cell_type": "code",
   "execution_count": 1,
   "metadata": {},
   "outputs": [
    {
     "data": {
      "text/html": [
       "<table><tr><th>&nbsp;</th><th>step type</th><th>requirements</th><th>statement</th></tr>\n",
       "<tr><td>0</td><td>modus ponens</td><td>1, 2</td><td><span style=\"font-size:20px;\"><a class=\"ProveItLink\" href=\"../932da352f8c20c74e34667e194cce7646f454cfb0/expr.ipynb\"><img src=\"data:image/png;base64,iVBORw0KGgoAAAANSUhEUgAAAL8AAAAVCAMAAAAgs8+8AAAAPFBMVEX///8LCwsYGBgNDQ0oKCjc\n",
       "3NxERESqqqpUVFS6urrMzMwyMjIQEBCIiIh2dnYiIiLu7u5mZmaYmJgAAADzuxXdAAAAAXRSTlMA\n",
       "QObYZgAAAllJREFUSMfVV0mS5CAM9Ew3Zt///9fG2GxGLF1zGg4VDpfITEtCEsdxLWfd8X8tphRK\n",
       "z0ar/J7K4RZH9+EnMHEV8g8JwhcI/DxJX16Szs4Qoe8ny7axyfx/xMHXa4IiJlgnECXy/9wAm3hS\n",
       "w3f1gzDVIgNPbxBkMUV20S/BsPsUKKdAn3RvpPzI/SMCWAykX0B+oz69NWLP2eJD9w8IYDGAfgr6\n",
       "ReWMO04MQb6TnS7SgJ3Dv0CCgZhev1VwxklJ7vqqLIj5SpcMg4hUVHSl5myPaW0FEwzEiPdB5lAX\n",
       "MP5yl4+cOHvW6mr5ljXBRFFnKW6Wx/X9df3moDVWeBG6WozzqZCmdHweKm3BkzhmnFA3FwyLeZ3R\n",
       "Dwzy13fYc+7+1qonGIs5uI2lWmQ8T4E6fkfndjHzI79wUfY+MCQaazk/Lq3VkAAQEzwRI03zB4D6\n",
       "tY3H3s3gGVdVyXlgYqiNf/ck3p6H1mqlvxZzpLGBpKQTGNgSC669y1YJb5P/+mwK5g2D/OVT7EuD\n",
       "iHv+/nm2pPRprKiY66/FpPwvNel00BZWMs6Bxwu/CugNYyJX8A1mE/e/rAqBgfVXYvr62VevYE4C\n",
       "gSXHuLx13fSxupITh4CrabNorTKB8fpYien7lwZHJpmnaw41zvNd4B+YUNclZaekE/e/rTKBER4t\n",
       "xEDzA5pXXzA7+6FxDIPtNgFFq1bc61/MT0rujZ9jGG22CZY3qizbib3B1/zz/Lxyf02w1J/HBlN6\n",
       "DJpdPAja1T+CWbi/JliGmlUd06lU+dF4n9y+fg1h5hfE3xCk++8PO3MfqckKev8AAAAASUVORK5C\n",
       "YII=\n",
       "\" style=\"display:inline;vertical-align:middle;\" /></a> <a class=\"ProveItLink\" href=\"proof.ipynb\" style=\"text-decoration: none\">&#x22A2;&nbsp;</a><a class=\"ProveItLink\" href=\"../d057e383691e8c8bf9cdd4e5955106b51dbb6fb70/expr.ipynb\"><img src=\"data:image/png;base64,iVBORw0KGgoAAAANSUhEUgAAADIAAAAUCAMAAAD4FJ6oAAAAPFBMVEX///8LCwsYGBgNDQ0oKCgy\n",
       "MjKqqqrMzMzu7u4iIiJmZmaYmJhEREQQEBC6urp2dnaIiIhUVFTc3NwAAABYMwFzAAAAAXRSTlMA\n",
       "QObYZgAAAKBJREFUKM/NktsOAiEMRKsrVyu3/v+/LpCIXcx2w4txHiCBM0zbACApFlhUUasOyOEv\n",
       "QwwKBeQUw+trOGhOsb4hjSuvuh5bW/M4ZlihZ+PwIoRjuRtdmhwhT7NgGDWjpalwUFNvDCvUjLq+\n",
       "Yd+9uKr7zXXhqOuDWdItVoE2UsgBU7Ut7TxEqZMjVsedgsEUpJATjEn75d/l7KrjJyEgf/odtl8I\n",
       "B4tstgcAAAAASUVORK5CYII=\n",
       "\" style=\"display:inline;vertical-align:middle;\" /></a></span></td></tr>\n",
       "<tr><td>1</td><td>assumption</td><td></td><td><span style=\"font-size:20px;\"><a class=\"ProveItLink\" href=\"../d38b61f5daf27423fb3809708efadb457c6c064f0/expr.ipynb\"><img src=\"data:image/png;base64,iVBORw0KGgoAAAANSUhEUgAAAJsAAAAVCAMAAABmBWwWAAAAPFBMVEX///8LCwsYGBgNDQ0oKCjc\n",
       "3NxERESqqqpUVFS6urrMzMwyMjIQEBCIiIh2dnYiIiLu7u5mZmaYmJgAAADzuxXdAAAAAXRSTlMA\n",
       "QObYZgAAAiFJREFUSMfNV0lyxCAMdBb23fz/r7ExAgMCu5JLOMxQjKQWLdEw23aOPezb/xnSWgJz\n",
       "7yxMhZl67OJ99EWYNCo2jiA1yzMTyxofHDzX7poF+XrjfP07Ufh6RQhgYTUsKY94KEBSb3NDw9wG\n",
       "n5WgIJSUysSgpYjA727RgEMixvyOthvCmJvG9isirHr9jiX9W9oqwpCbQPdjXZlShjZ+113iofaS\n",
       "zn8DhCG3gNZMcWP4JTE24KeurWEJQ7ixQg9HknZn6m4GCCU3OBQKEzkfz23GFI9VRoK7jdjkDGES\n",
       "Ho3VRaXx/XV+Vq4bM0DYI4hJrn/+vsEeDLDUbtpeYSalYOrWQjkMiWeOgT7Q1poVBBWSFmkwjgLR\n",
       "qYvUixkZp02sdHHOYXgyduahO1uzikAT/QKSQ3NzIZ3VfZmbVLaezRwm9YKPvWCrrv9as4IAVxXP\n",
       "RdYMyS2pW7h05FbTpt8cvavGFYbEkwoWq/4ll8+P7FFK2pgBAvRbUQm6Y7nJ0m7bjqsDa8t0hfFp\n",
       "U8e2mVzR1pkBwqAho0Qc9vzwDXxbaEgv89nq7Bd2dIRddVtvNmhI0V6HdTk35QGlUEGnHRU5zCFb\n",
       "RkhqxIq23gwQkDuLLAV9cmcNz5N5GBa2dwhjbpPLfKL/2+ONPQz3cNMWhJqSfvW48X9+Iz3Spob3\n",
       "my8CSVaPQk7e5jYL80RbQZBVyY8qZGkj87KZ18/eaZiHVz0gwP+FH4DtGvBfHwGMAAAAAElFTkSu\n",
       "QmCC\n",
       "\" style=\"display:inline;vertical-align:middle;\" /></a> <a class=\"ProveItLink\" href=\"../07de98fe8da4236f8c95badab9a39f32cf14365c0/proof.ipynb\" style=\"text-decoration: none\">&#x22A2;&nbsp;</a><a class=\"ProveItLink\" href=\"../0c38bc582be0853eff67eab3ffe61b2adea3c69b0/expr.ipynb\"><img src=\"data:image/png;base64,iVBORw0KGgoAAAANSUhEUgAAAIUAAAAVCAMAAABfYt1NAAAAPFBMVEX///8LCwsYGBgNDQ0oKCjc\n",
       "3NwiIiJERESqqqqYmJh2dnZmZmYQEBDu7u4yMjJUVFTMzMyIiIi6uroAAACIMCsmAAAAAXRSTlMA\n",
       "QObYZgAAAclJREFUSMfNVtmS4yAM9O4shwGL6///dbHAB1iAKzMPw0MqFaRuqXWQZfktJ/ju1Rp+\n",
       "BAaPYiMGZx9XmzU8f9PubRAETHUY0L8XBtiIOzgw4W0UJMzt2J6syOBJIaM8FFOk64PS+8+kKAyG\n",
       "yiHE49fNvMvcfCoFMgQyRsXPr0KSrdh0QZhUzon+XWLQpOJgvbdrDkjTHV9X4IRh1qtgHuMgmi6/\n",
       "myUGWCmR4h56RE95Zan57cQqugMGkUW8XADPv6/989KvMksMJrQEKSuJbWFUdugIKeFW6gLD4h6N\n",
       "FhMparPEEAMx9xrzz9m62G0rMKdzgbFozP2ki2qzxEBGwTXOyTqMwoG65qLAYCW32K46aPqkNksM\n",
       "RhJR4LbQeVpvFan6gov7bGYYFvf0ZLz2Cbr8/VM8zoJUZolBrFQU7myLZaVnUNYiZ5gNw7ewSDeS\n",
       "ojFLDM9BTDc2WelCQ09quwqL1T4qMtVTjbqiNUu+gVN9Z70+NAJy6YkmvQKT1oAPTvgwkqI12xkM\n",
       "Gy69zgZ/PLV9GKmXOUPnuersyGX4JpGHT16YzDB8krdvv+xTKaAUafQUsrdR9GBmUhwMrC+6f/1X\n",
       "qwsz+c+IDP8BPQ8V3xWX34oAAAAASUVORK5CYII=\n",
       "\" style=\"display:inline;vertical-align:middle;\" /></a></span></td></tr>\n",
       "<tr><td>2</td><td>assumption</td><td></td><td><span style=\"font-size:20px;\"><a class=\"ProveItLink\" href=\"../a2f2b57a20743399f81fc63a3c7de0e3eeba0c9b0/expr.ipynb\"><img src=\"data:image/png;base64,iVBORw0KGgoAAAANSUhEUgAAACkAAAAVBAMAAAAp9toTAAAAMFBMVEX////c3NxERESqqqpUVFS6\n",
       "urrMzMwyMjIQEBCIiIh2dnYiIiLu7u5mZmaYmJgAAABXZE4RAAAAAXRSTlMAQObYZgAAALZJREFU\n",
       "GNNjYGDgu8eABNhWCYAonl0MKICtGURyfoALHOkGkddBBFcDQl0JiFiBLvoZmyjrH2yiXBuwibJ7\n",
       "TnkAFeUtgIueV2D4xsDwHsTMCGBguL0bCHYx2B9g6ALquMDAkNIGU5kCculfIEMdaExEAlx0LwPr\n",
       "PwYG7gVADksBXPQzA+8fqLkQ54BFvzFwLEB3GRuDM8MVLO49MvcBtnBgYMAvyocuCg5fnp1ocdEK\n",
       "pvgWY8QbAAg+NwhGGG08AAAAAElFTkSuQmCC\n",
       "\" style=\"display:inline;vertical-align:middle;\" /></a> <a class=\"ProveItLink\" href=\"../234bb8742561fd115185f3d8ca265429bd7858090/proof.ipynb\" style=\"text-decoration: none\">&#x22A2;&nbsp;</a><a class=\"ProveItLink\" href=\"../c0fc114fcacc8e9fdeb995863ab29be961e5f4380/expr.ipynb\"><img src=\"data:image/png;base64,iVBORw0KGgoAAAANSUhEUgAAABYAAAAOBAMAAADZH/H+AAAALVBMVEX///9ERESYmJiIiIi6urqq\n",
       "qqoyMjIQEBDu7u5UVFTMzMx2dnYiIiJmZmYAAAC5u2vBAAAAAXRSTlMAQObYZgAAAFlJREFUCNdj\n",
       "YICAzhoGBMhEYj9FMFleINjcBxBstsmWCjB2nwDDK4Y7Z4DgNENcA0M1RHQlwzUGhrcw9lkGlkcw\n",
       "9lMG3hcw9isG9g0QNhfDVIabcPM7bRUYALuiGKiQ/Uk/AAAAAElFTkSuQmCC\n",
       "\" style=\"display:inline;vertical-align:middle;\" /></a></span></td></tr>\n",
       "</table>"
      ],
      "text/plain": [
       "<proveit._core_.proof._ShowProof at 0x7f94eb665c88>"
      ]
     },
     "execution_count": 1,
     "metadata": {},
     "output_type": "execute_result"
    }
   ],
   "source": [
    "import proveit\n",
    "%show_proof"
   ]
  },
  {
   "cell_type": "code",
   "execution_count": null,
   "metadata": {},
   "outputs": [],
   "source": []
  }
 ],
 "metadata": {
  "kernelspec": {
   "display_name": "Python 3",
   "language": "python",
   "name": "python3"
  }
 },
 "nbformat": 4,
 "nbformat_minor": 0
}
