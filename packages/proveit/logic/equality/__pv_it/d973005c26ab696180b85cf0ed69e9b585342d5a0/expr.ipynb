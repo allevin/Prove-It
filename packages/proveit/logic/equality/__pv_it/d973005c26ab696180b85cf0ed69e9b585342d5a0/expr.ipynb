{
 "cells": [
  {
   "cell_type": "markdown",
   "metadata": {},
   "source": [
    "Expression of type <a class=\"ProveItLink\" href=\"../../../../../../doc/html/api/proveit.Lambda.html\">Lambda</a>\n",
    "=======================\n",
    "# from context <a class=\"ProveItLink\" href=\"../../_context_.ipynb\">proveit.logic.equality</a>"
   ]
  },
  {
   "cell_type": "code",
   "execution_count": 1,
   "metadata": {},
   "outputs": [],
   "source": [
    "# import Expression classes needed to build the expression\n",
    "from proveit import Lambda\n",
    "from proveit._common_ import Px, x"
   ]
  },
  {
   "cell_type": "code",
   "execution_count": 2,
   "metadata": {},
   "outputs": [
    {
     "data": {
      "text/html": [
       "<strong id=\"expr\">expr:</strong> <a class=\"ProveItLink\" href=\"expr.ipynb\"><img src=\"data:image/png;base64,iVBORw0KGgoAAAANSUhEUgAAAH4AAAAVCAMAAAC3zqojAAAANlBMVEX///+6uroUFBQNDQ0yMjJE\n",
       "RETMzMwQEBAiIiKYmJju7u5mZmaqqqpUVFSIiIh2dnbc3NwAAACltDI1AAAAAXRSTlMAQObYZgAA\n",
       "AWVJREFUSMe9lutyhCAMhaHlfgt5/5ctFXcXQnTsTJU/zOrxfEASskI8NVK9zVqW+beXqwbkf5BK\n",
       "RsxtuPzZjclUFc1NeCFQbZO2b74Ki0jdhTcIPZb73A6krCoPN+ELdh+PcX9i182LYG/Ca+xzxrTn\n",
       "nWJl6SK+Qsk1lVj4uKXEhj6gfqUZcD4QT/CDNLSvvfPCutdLN3+XAxN64972yvf1zD5JHeNHKWzx\n",
       "bHpzgA+5TqHPABDh88x2X+Ij7TF+lP7uLetR+P3lpmFRjqGniba/JT4GT3ZPkHYqHbJ7kcekQSd4\n",
       "PPE5wxNpRbOvicPHOoWeppSwifM5O/xR6usWB1EO8KZwVT+WWE894uNPUm+QJvTt/mzL+VDmSyyQ\n",
       "ql/umF5i1Oek8EZp0AUCQPEXbpwQdes39IqV22lRHyUP8X9BXhi2PnjpXmkvDVYewzMNN9zWcLmu\n",
       "sfzdyPVB/Fg2vXYM06g5/A8UuxBXZySm5QAAAABJRU5ErkJggg==\n",
       "\" style=\"display:inline;vertical-align:middle;\" /></a><br>"
      ],
      "text/plain": [
       "expr: x -> P(x) | x"
      ]
     },
     "execution_count": 2,
     "metadata": {},
     "output_type": "execute_result"
    }
   ],
   "source": [
    "# build up the expression from sub-expressions\n",
    "expr = Lambda(x, Px, conditions = [x])"
   ]
  },
  {
   "cell_type": "code",
   "execution_count": 3,
   "metadata": {},
   "outputs": [
    {
     "name": "stdout",
     "output_type": "stream",
     "text": [
      "Passed sanity check: built 'expr' is the same as the stored Expression.\n"
     ]
    }
   ],
   "source": [
    "# check that the built expression is the same as the stored expression\n",
    "%check_expr"
   ]
  },
  {
   "cell_type": "code",
   "execution_count": 4,
   "metadata": {},
   "outputs": [
    {
     "data": {
      "text/html": [
       "<table><tr><th>&nbsp;</th><th>core type</th><th>sub-expressions</th><th>expression</th></tr>\n",
       "<tr><td>0</td><td>Lambda</td><td>parameter:&nbsp;4<br>body:&nbsp;1<br>conditions:&nbsp;2<br></td><td><a class=\"ProveItLink\" href=\"expr.ipynb\"><img src=\"data:image/png;base64,iVBORw0KGgoAAAANSUhEUgAAAH4AAAAVCAMAAAC3zqojAAAANlBMVEX///+6uroUFBQNDQ0yMjJE\n",
       "RETMzMwQEBAiIiKYmJju7u5mZmaqqqpUVFSIiIh2dnbc3NwAAACltDI1AAAAAXRSTlMAQObYZgAA\n",
       "AWVJREFUSMe9lutyhCAMhaHlfgt5/5ctFXcXQnTsTJU/zOrxfEASskI8NVK9zVqW+beXqwbkf5BK\n",
       "RsxtuPzZjclUFc1NeCFQbZO2b74Ki0jdhTcIPZb73A6krCoPN+ELdh+PcX9i182LYG/Ca+xzxrTn\n",
       "nWJl6SK+Qsk1lVj4uKXEhj6gfqUZcD4QT/CDNLSvvfPCutdLN3+XAxN64972yvf1zD5JHeNHKWzx\n",
       "bHpzgA+5TqHPABDh88x2X+Ij7TF+lP7uLetR+P3lpmFRjqGniba/JT4GT3ZPkHYqHbJ7kcekQSd4\n",
       "PPE5wxNpRbOvicPHOoWeppSwifM5O/xR6usWB1EO8KZwVT+WWE894uNPUm+QJvTt/mzL+VDmSyyQ\n",
       "ql/umF5i1Oek8EZp0AUCQPEXbpwQdes39IqV22lRHyUP8X9BXhi2PnjpXmkvDVYewzMNN9zWcLmu\n",
       "sfzdyPVB/Fg2vXYM06g5/A8UuxBXZySm5QAAAABJRU5ErkJggg==\n",
       "\" style=\"display:inline;vertical-align:middle;\" /></a></td></tr>\n",
       "<tr><td>1</td><td>Operation</td><td>operator:&nbsp;3<br>operand:&nbsp;4<br></td><td><a class=\"ProveItLink\" href=\"../../../../__pv_it/8c735c381b4cbf3c87e86ca2468da4e5c976f9b00/expr.ipynb\"><img src=\"data:image/png;base64,iVBORw0KGgoAAAANSUhEUgAAAC4AAAAVBAMAAADLKsFqAAAAMFBMVEX////u7u5mZmaYmJi6urqq\n",
       "qqp2dnbMzMwQEBBEREQyMjLc3NwiIiJUVFSIiIgAAAAeC3ydAAAAAXRSTlMAQObYZgAAAQlJREFU\n",
       "GNNjYCACsDyA0MwOIPLt/7t3z24AsWphCtTB5C8GBs5uEGMhTJwLRLB/Y2BgBWIGvgcwceYEEPcL\n",
       "kPEJyOAQgIkzNgAJzg8MDLxfgQwvhAumAjH/AgYG+QlAhhoQb3u79RHQuCQgsz6Bgf0QSNFioAEJ\n",
       "zIc5DjAwRAG576+lqYGd2cLAwMbA94G1gIHBA8idD7MOaD8jAy/IRIZ6IP7DgBAHOuoBVJz9E0y8\n",
       "FUTsL2AQAJvD9wUmPhnojw3vGfiA4lZA53+EiQMdF28wg2EfmCk0/y/M+z4MDJLPxPIMgMwlyMHM\n",
       "sQElHBhQQgsM2B6gxAs8nKVQ42svjHEbVZwbqp2vgAEAALg9cr1t3EsAAAAASUVORK5CYII=\n",
       "\" style=\"display:inline;vertical-align:middle;\" /></a></td></tr>\n",
       "<tr><td>2</td><td>ExprTuple</td><td>4</td><td><a class=\"ProveItLink\" href=\"../89afe848f9909271372a46da8b9aa311d53c45ae0/expr.ipynb\"><img src=\"data:image/png;base64,iVBORw0KGgoAAAANSUhEUgAAABgAAAAVBAMAAACuxzMVAAAAMFBMVEX////c3NwiIiJERESqqqqY\n",
       "mJh2dnZmZmYQEBDu7u4yMjJUVFTMzMyIiIi6uroAAAAs73DqAAAAAXRSTlMAQObYZgAAAKxJREFU\n",
       "GNNjYEABfBcgNOsDIHEaJloDxCthHC4GBt4LMA5rAgPHBBiHs4HhFcIoE4YyICl2W+Q6UHU6w1Kg\n",
       "fAKrKocCA4MXQx8DAxsD7weWAwwMLxj+AWUYuA1Aes6DOAwMHBcgnBYQJX+AYQJImSnQNoH7DLxA\n",
       "ThTQPAb/AAsGWQaQ0Y8YGCZfm5YbAOSsY+AQQHIO0HlQwHYByQuzgFgaxtkIxIxQD/EeYAAAhW8k\n",
       "93ErH/0AAAAASUVORK5CYII=\n",
       "\" style=\"display:inline;vertical-align:middle;\" /></a></td></tr>\n",
       "<tr><td>3</td><td>Variable</td><td></td><td><a class=\"ProveItLink\" href=\"../../../../__pv_it/6369c6c8083c513ca7161ace249642d040f9327d0/expr.ipynb\"><img src=\"data:image/png;base64,iVBORw0KGgoAAAANSUhEUgAAABAAAAAOBAMAAADUAYG5AAAAMFBMVEX////u7u5mZmaYmJi6urqq\n",
       "qqp2dnbMzMwQEBBEREQyMjLc3NwiIiJUVFSIiIgAAAAeC3ydAAAAAXRSTlMAQObYZgAAAGBJREFU\n",
       "CNdjYGB4+//u3bMbGIDgFwMDZzeQZv/GwMAKxAx8XxgYmD8BGZwfGBh4vwIZ/AsYGOQnABn1CQzs\n",
       "h0Ca3l9LUwPrni/AAAF/oDT7JygDZAwYcH6E0ELz/z4A0QBnpRnRyxnfJQAAAABJRU5ErkJggg==\n",
       "\" style=\"display:inline;vertical-align:middle;\" /></a></td></tr>\n",
       "<tr><td>4</td><td>Variable</td><td></td><td><a class=\"ProveItLink\" href=\"../../../../__pv_it/530be409e3083890784cf1d7b28c9e67e90af9360/expr.ipynb\"><img src=\"data:image/png;base64,iVBORw0KGgoAAAANSUhEUgAAAAsAAAAJBAMAAAAWSsseAAAAKlBMVEX///9ERETMzMwQEBAiIiKY\n",
       "mJju7u5mZmaqqqpUVFSIiIh2dnbc3NwAAAA/vyDhAAAAAXRSTlMAQObYZgAAAENJREFUCNdjYDi9\n",
       "8sTyBQxsG1hdmR0YuBm4LnAoMLAxcAowgADzAjB1VoEhgYH1wFoGrgSG3gBhhlMMDImrs3cFMAAA\n",
       "t0YN+iTRa+sAAAAASUVORK5CYII=\n",
       "\" style=\"display:inline;vertical-align:middle;\" /></a></td></tr>\n",
       "</table>\n"
      ],
      "text/plain": [
       "0. x -> P(x) | x\n",
       "   core type: Lambda\n",
       "   parameter: 4\n",
       "   body: 1\n",
       "   conditions: 2\\n1. P(x)\n",
       "   core type: Operation\n",
       "   operator: 3\n",
       "   operand: 4\n",
       "2. (x)\n",
       "   core type: ExprTuple\n",
       "   sub-expressions: 4\n",
       "3. P\n",
       "   core type: Variable\n",
       "   sub-expressions: \n",
       "4. x\n",
       "   core type: Variable\n",
       "   sub-expressions: "
      ]
     },
     "execution_count": 4,
     "metadata": {},
     "output_type": "execute_result"
    }
   ],
   "source": [
    "# display the expression information\n",
    "expr.exprInfo()"
   ]
  },
  {
   "cell_type": "code",
   "execution_count": null,
   "metadata": {},
   "outputs": [],
   "source": []
  }
 ],
 "metadata": {
  "kernelspec": {
   "display_name": "Python 3",
   "language": "python",
   "name": "python3"
  }
 },
 "nbformat": 4,
 "nbformat_minor": 0
}
