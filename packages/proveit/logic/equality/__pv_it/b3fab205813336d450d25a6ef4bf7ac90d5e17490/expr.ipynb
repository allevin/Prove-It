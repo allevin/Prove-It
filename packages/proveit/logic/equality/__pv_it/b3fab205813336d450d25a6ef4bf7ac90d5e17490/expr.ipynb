{
 "cells": [
  {
   "cell_type": "markdown",
   "metadata": {},
   "source": [
    "Expression of type <a class=\"ProveItLink\" href=\"../../../../../../doc/html/api/proveit.ExprTuple.html\">ExprTuple</a>\n",
    "=======================\n",
    "# from context <a class=\"ProveItLink\" href=\"../../_context_.ipynb\">proveit.logic.equality</a>"
   ]
  },
  {
   "cell_type": "code",
   "execution_count": 1,
   "metadata": {},
   "outputs": [],
   "source": [
    "# import Expression classes needed to build the expression\n",
    "from proveit import ExprTuple\n",
    "from proveit._common_ import a, b\n",
    "from proveit.logic import Equals, Not"
   ]
  },
  {
   "cell_type": "code",
   "execution_count": 2,
   "metadata": {},
   "outputs": [
    {
     "data": {
      "text/html": [
       "<strong id=\"expr\">expr:</strong> <a class=\"ProveItLink\" href=\"expr.ipynb\"><img src=\"data:image/png;base64,iVBORw0KGgoAAAANSUhEUgAAAF4AAAAVBAMAAAA9Y0TyAAAAMFBMVEX////c3NwiIiJERESqqqqY\n",
       "mJh2dnZmZmYQEBDu7u4yMjJUVFTMzMyIiIi6uroAAAAs73DqAAAAAXRSTlMAQObYZgAAAVxJREFU\n",
       "KM9jYCAV8F0gWinrAyBxmoFzhwKRGmqAeCUDA9cGItVzMTDwAp3D70CsgxIYOCYwMLyfQKR6zgaG\n",
       "V0AqiWgfmzCUAcnVd7eiiTPuzWtEFZG+9kKAgSGdYSnQls8M/AeAQlWrQGA1SPaFAPMH1FBvZLAH\n",
       "Ul4MfQwMLD8ZOBJQjf/KwG4AYRYpAYEag3wAQzHIHIZ/DAzsCxj4C1DUc39gYEKOxtMM+xkYdIGM\n",
       "8yD1TAUM7wNQ1PMbMMw/gKL+MwPnH7D6FnDw10+AWa2kDGTJX2DwZ0AK5NOMfxlYPnCC3GPKAPJs\n",
       "G2pgzHdg2MVygBOhnvMLA/cCHwaGKGAIMXA7sKMlCK4AFnU2hvnwZMUDDEanggRQeD4ChufeUozg\n",
       "v3f4HsOMj0jBf/eNLTB1rmPgEMAdmw+xpAfWBNzqA9AF2C6A0zPR6meBXIZTOS+GyEaQ34jPj7wH\n",
       "GAATvVYwmj8ILQAAAABJRU5ErkJggg==\n",
       "\" style=\"display:inline;vertical-align:middle;\" /></a><br>"
      ],
      "text/plain": [
       "expr: (b = a , [not](a))"
      ]
     },
     "execution_count": 2,
     "metadata": {},
     "output_type": "execute_result"
    }
   ],
   "source": [
    "# build up the expression from sub-expressions\n",
    "expr = ExprTuple(Equals(b, a), Not(a))"
   ]
  },
  {
   "cell_type": "code",
   "execution_count": 3,
   "metadata": {},
   "outputs": [
    {
     "name": "stdout",
     "output_type": "stream",
     "text": [
      "Passed sanity check: built 'expr' is the same as the stored Expression.\n"
     ]
    }
   ],
   "source": [
    "# check that the built expression is the same as the stored expression\n",
    "%check_expr"
   ]
  },
  {
   "cell_type": "code",
   "execution_count": 4,
   "metadata": {},
   "outputs": [
    {
     "data": {
      "text/html": [
       "<table><tr><th>&nbsp;</th><th>core type</th><th>sub-expressions</th><th>expression</th></tr>\n",
       "<tr><td>0</td><td>ExprTuple</td><td>1, 2</td><td><a class=\"ProveItLink\" href=\"expr.ipynb\"><img src=\"data:image/png;base64,iVBORw0KGgoAAAANSUhEUgAAAF4AAAAVBAMAAAA9Y0TyAAAAMFBMVEX////c3NwiIiJERESqqqqY\n",
       "mJh2dnZmZmYQEBDu7u4yMjJUVFTMzMyIiIi6uroAAAAs73DqAAAAAXRSTlMAQObYZgAAAVxJREFU\n",
       "KM9jYCAV8F0gWinrAyBxmoFzhwKRGmqAeCUDA9cGItVzMTDwAp3D70CsgxIYOCYwMLyfQKR6zgaG\n",
       "V0AqiWgfmzCUAcnVd7eiiTPuzWtEFZG+9kKAgSGdYSnQls8M/AeAQlWrQGA1SPaFAPMH1FBvZLAH\n",
       "Ul4MfQwMLD8ZOBJQjf/KwG4AYRYpAYEag3wAQzHIHIZ/DAzsCxj4C1DUc39gYEKOxtMM+xkYdIGM\n",
       "8yD1TAUM7wNQ1PMbMMw/gKL+MwPnH7D6FnDw10+AWa2kDGTJX2DwZ0AK5NOMfxlYPnCC3GPKAPJs\n",
       "G2pgzHdg2MVygBOhnvMLA/cCHwaGKGAIMXA7sKMlCK4AFnU2hvnwZMUDDEanggRQeD4ChufeUozg\n",
       "v3f4HsOMj0jBf/eNLTB1rmPgEMAdmw+xpAfWBNzqA9AF2C6A0zPR6meBXIZTOS+GyEaQ34jPj7wH\n",
       "GAATvVYwmj8ILQAAAABJRU5ErkJggg==\n",
       "\" style=\"display:inline;vertical-align:middle;\" /></a></td></tr>\n",
       "<tr><td>1</td><td>Operation</td><td>operator:&nbsp;3<br>operands:&nbsp;4<br></td><td><a class=\"ProveItLink\" href=\"../62e4ad07e99a56386b3c58bb42af0323a14c6a410/expr.ipynb\"><img src=\"data:image/png;base64,iVBORw0KGgoAAAANSUhEUgAAADAAAAAOBAMAAACbXIJpAAAAMFBMVEX////c3NxmZmbMzMxERESY\n",
       "mJiIiIh2dna6urqqqqoyMjIiIiIQEBBUVFTu7u4AAAAiO1wTAAAAAXRSTlMAQObYZgAAAJhJREFU\n",
       "GNNj4LuzgQE74LqAQ4J/Ag6J/gc4JKpxiDOsTbuKLiSb3iPAwPeFgd8AyNFaBQJrQeIcBxn8GRg4\n",
       "/zHwFKBqkA9gUGFgYFrAwK+AKnGfgWEbAwO3AkN/AKrEFwa+z2Bv6IMcrL0bBLYAWYzfGDg/8IFs\n",
       "Po6qge8nA++CyQy8E5jQw2Qpw2yFAga+a6oY3khrdmsAAFICJ5Z6YnH9AAAAAElFTkSuQmCC\n",
       "\" style=\"display:inline;vertical-align:middle;\" /></a></td></tr>\n",
       "<tr><td>2</td><td>Operation</td><td>operator:&nbsp;5<br>operand:&nbsp;7<br></td><td><a class=\"ProveItLink\" href=\"../90850a12a72aaf97c847e825fb82a6804e84d9be0/expr.ipynb\"><img src=\"data:image/png;base64,iVBORw0KGgoAAAANSUhEUgAAABgAAAAJBAMAAADa0/H1AAAAMFBMVEX///8yMjKqqqru7u6YmJhE\n",
       "REQQEBC6urqIiIjc3NxUVFTMzMx2dnYiIiJmZmYAAADYs2HGAAAAAXRSTlMAQObYZgAAAE9JREFU\n",
       "CNdjYICCWT1lE2Bs9kyGeAaGt3eB4A7DfAeGp1DxXQzrGRhuwDlfGZh/wzicPxiYPjBDOcyfGLgE\n",
       "tCEcbgYRBt0HB+DWdFRHFAAAmG4X4Eqb2MYAAAAASUVORK5CYII=\n",
       "\" style=\"display:inline;vertical-align:middle;\" /></a></td></tr>\n",
       "<tr><td>3</td><td>Literal</td><td></td><td><a class=\"ProveItLink\" href=\"../2fb26078095930560931daa0500ce419a39ea6cd0/expr.ipynb\"><img src=\"data:image/png;base64,iVBORw0KGgoAAAANSUhEUgAAAA4AAAAFBAMAAACHocAhAAAAFVBMVEX///9EREQiIiJUVFQyMjJm\n",
       "ZmYAAADubVkoAAAAAXRSTlMAQObYZgAAABRJREFUCNdjCHEBAWcGXCBICQQUAUpuAwlgGKrkAAAA\n",
       "AElFTkSuQmCC\n",
       "\" style=\"display:inline;vertical-align:middle;\" /></a></td></tr>\n",
       "<tr><td>4</td><td>ExprTuple</td><td>6, 7</td><td><a class=\"ProveItLink\" href=\"../ebac1b7ca1b1db15bba3f427fe9e3bc6f12657a30/expr.ipynb\"><img src=\"data:image/png;base64,iVBORw0KGgoAAAANSUhEUgAAACkAAAAVBAMAAAAp9toTAAAAMFBMVEX////c3NwiIiJERESqqqqY\n",
       "mJh2dnZmZmYQEBDu7u4yMjJUVFTMzMyIiIi6uroAAAAs73DqAAAAAXRSTlMAQObYZgAAAQxJREFU\n",
       "GNNjYMAO+C6gCcSBiNMMnDsUkEXZDwCJlQwMXBtQFC9gYOAFGsDvgCIaxsDAMYGB4f0EFNEZDAyv\n",
       "gFQSqnXMDgxlQGr13a0QPuPevEYGBrYChqUMDJyfGfgPgEVfCDB/YGBgWcDQByR/MnAkgJV+ZWA3\n",
       "APqggeEf0IELGPgLQKLcHxiYgE7i+QASZSpgeB8AEuU3YJh/ACzaAnZuPdht8hcY/BkmgEwwZQBZ\n",
       "1cbACRSd78Cwi+UAA+sChnSgcQ7sGxjmA8OCK4BFnQ3sskdAl+0tBXroI8i59w7fA0o+YOAQgPro\n",
       "IbKPWROg7AC4aC4kJFFFOYEhySANYfPClXKDzGREj6E7DAwACHU9OgMxFxcAAAAASUVORK5CYII=\n",
       "\" style=\"display:inline;vertical-align:middle;\" /></a></td></tr>\n",
       "<tr><td>5</td><td>Literal</td><td></td><td><a class=\"ProveItLink\" href=\"../../../boolean/negation/__pv_it/7bea79645543c2413aa17e787cca04e21046fde60/expr.ipynb\"><img src=\"data:image/png;base64,iVBORw0KGgoAAAANSUhEUgAAAAwAAAAGBAMAAAAFwGKyAAAAFVBMVEX///9UVFTMzMx2dnYiIiJm\n",
       "ZmYAAACWz4ZEAAAAAXRSTlMAQObYZgAAABRJREFUCNdjCHEBAmcGMFDEQzEBAEl+Ai6uYJv/AAAA\n",
       "AElFTkSuQmCC\n",
       "\" style=\"display:inline;vertical-align:middle;\" /></a></td></tr>\n",
       "<tr><td>6</td><td>Variable</td><td></td><td><a class=\"ProveItLink\" href=\"../../../../__pv_it/6840a4fa6c106149dc16a131294d0c5e44f1b0480/expr.ipynb\"><img src=\"data:image/png;base64,iVBORw0KGgoAAAANSUhEUgAAAAkAAAAOBAMAAAAPuiubAAAALVBMVEX///9mZmbMzMxERESYmJiI\n",
       "iIh2dna6urqqqqoyMjIiIiIQEBBUVFTu7u4AAAD9S1JeAAAAAXRSTlMAQObYZgAAAE1JREFUCNdj\n",
       "4D29gAEIOA+ASL4GEFl3AURmgQiGOaFHGBh4HzPwKTBwvGXgTmBgnMDAJ8DAJcBQ5wBSLncBJLWN\n",
       "gYGngRFoBO9REQYGAGrcDtUkVqASAAAAAElFTkSuQmCC\n",
       "\" style=\"display:inline;vertical-align:middle;\" /></a></td></tr>\n",
       "<tr><td>7</td><td>Variable</td><td></td><td><a class=\"ProveItLink\" href=\"../../../../__pv_it/07527342713064c87612d00d8557c53d53d5324a0/expr.ipynb\"><img src=\"data:image/png;base64,iVBORw0KGgoAAAANSUhEUgAAAAsAAAAJBAMAAAAWSsseAAAAMFBMVEX///8yMjKqqqrMzMzu7u4i\n",
       "IiJmZmaYmJhEREQQEBC6urp2dnaIiIhUVFTc3NwAAAD87Fq/AAAAAXRSTlMAQObYZgAAAEhJREFU\n",
       "CNdjYOC7s2seAwPDygccHxgY+L4zsDUwMPB+YGA9wMDA38Dgb8DA8P4Agz6DA4O/AsNFJgMGxgKm\n",
       "MG6gyjunLE4xAAAZTBA5TB6DCwAAAABJRU5ErkJggg==\n",
       "\" style=\"display:inline;vertical-align:middle;\" /></a></td></tr>\n",
       "</table>\n"
      ],
      "text/plain": [
       "0. (b = a , [not](a))\n",
       "   core type: ExprTuple\n",
       "   sub-expressions: 1, 2\n",
       "1. b = a\n",
       "   core type: Operation\n",
       "   operator: 3\n",
       "   operands: 4\n",
       "2. [not](a)\n",
       "   core type: Operation\n",
       "   operator: 5\n",
       "   operand: 7\n",
       "3. =\n",
       "   core type: Literal\n",
       "   sub-expressions: \n",
       "4. (b , a)\n",
       "   core type: ExprTuple\n",
       "   sub-expressions: 6, 7\n",
       "5. not\n",
       "   core type: Literal\n",
       "   sub-expressions: \n",
       "6. b\n",
       "   core type: Variable\n",
       "   sub-expressions: \n",
       "7. a\n",
       "   core type: Variable\n",
       "   sub-expressions: "
      ]
     },
     "execution_count": 4,
     "metadata": {},
     "output_type": "execute_result"
    }
   ],
   "source": [
    "# display the expression information\n",
    "expr.exprInfo()"
   ]
  },
  {
   "cell_type": "code",
   "execution_count": null,
   "metadata": {},
   "outputs": [],
   "source": []
  }
 ],
 "metadata": {
  "kernelspec": {
   "display_name": "Python 3",
   "language": "python",
   "name": "python3"
  }
 },
 "nbformat": 4,
 "nbformat_minor": 0
}
