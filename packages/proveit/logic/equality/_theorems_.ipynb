{
 "cells": [
  {
   "cell_type": "markdown",
   "metadata": {
    "collapsed": true,
    "deletable": true,
    "editable": true
   },
   "source": [
    "Theorems for context <a href=\"_context_.ipynb\" class=\"ProveItLink\">proveit.logic.equality</a>\n",
    "========"
   ]
  },
  {
   "cell_type": "code",
   "execution_count": 1,
   "metadata": {
    "collapsed": false,
    "deletable": true,
    "editable": true
   },
   "outputs": [
    {
     "name": "stdout",
     "output_type": "stream",
     "text": [
      "Defining theorems for context 'proveit.logic.equality'\n",
      "Subsequent end-of-cell assignments will define theorems\n",
      "'%end theorems' will finalize the definitions\n"
     ]
    }
   ],
   "source": [
    "from proveit.logic import Equals, NotEquals, Implies, Not, And, Forall, FALSE, inBool\n",
    "from proveit._common_ import A, a, b, c, x, y, z, f, P, fa, fab, fx, fxy, Px, Py, Q\n",
    "from proveit.logic._common_ import PofTrue, PofFalse\n",
    "%begin theorems"
   ]
  },
  {
   "cell_type": "markdown",
   "metadata": {
    "deletable": true,
    "editable": true
   },
   "source": [
    "### Substitution or equivalence with a statement that is known to be true (left-hand side)"
   ]
  },
  {
   "cell_type": "code",
   "execution_count": 2,
   "metadata": {
    "collapsed": false,
    "deletable": true,
    "editable": true
   },
   "outputs": [
    {
     "data": {
      "text/html": [
       "<strong id=\"subLeftSideInto\"><a class=\"ProveItLink\" href=\"_proofs_/subLeftSideInto.ipynb\">subLeftSideInto</a>:</strong> <a class=\"ProveItLink\" href=\"__pv_it/6425c7b64708730992bfb72314f6aeaa5dc1d76c0/expr.ipynb\"><img src=\"__pv_it/6425c7b64708730992bfb72314f6aeaa5dc1d76c0/expr.png\" style=\"display:inline;vertical-align:middle;\" /></a><br>"
      ],
      "text/plain": [
       "subLeftSideInto: forall_{P, x, y | P(y) , x = y} P(x)"
      ]
     },
     "execution_count": 2,
     "metadata": {},
     "output_type": "execute_result"
    }
   ],
   "source": [
    "subLeftSideInto = Forall((P, x, y), Px, conditions=[Py, Equals(x, y)])"
   ]
  },
  {
   "cell_type": "code",
   "execution_count": 3,
   "metadata": {
    "collapsed": false,
    "deletable": true,
    "editable": true
   },
   "outputs": [
    {
     "data": {
      "text/html": [
       "<strong id=\"lhsViaEquivalence\"><a class=\"ProveItLink\" href=\"_proofs_/lhsViaEquivalence.ipynb\">lhsViaEquivalence</a>:</strong> <a class=\"ProveItLink\" href=\"__pv_it/82f80bbaaee458801b8536aadd7872d9a72c5f490/expr.ipynb\"><img src=\"__pv_it/82f80bbaaee458801b8536aadd7872d9a72c5f490/expr.png\" style=\"display:inline;vertical-align:middle;\" /></a><br>"
      ],
      "text/plain": [
       "lhsViaEquivalence: forall_{P, Q | Q , P = Q} P"
      ]
     },
     "execution_count": 3,
     "metadata": {},
     "output_type": "execute_result"
    }
   ],
   "source": [
    "lhsViaEquivalence = Forall((P, Q), P, conditions=[Q, Equals(P, Q)])"
   ]
  },
  {
   "cell_type": "markdown",
   "metadata": {
    "deletable": true,
    "editable": true
   },
   "source": [
    "### Applying symmetry, we can reverse any known equality:"
   ]
  },
  {
   "cell_type": "code",
   "execution_count": 4,
   "metadata": {
    "collapsed": false,
    "deletable": true,
    "editable": true
   },
   "outputs": [
    {
     "data": {
      "text/html": [
       "<strong id=\"equalsReversal\"><a class=\"ProveItLink\" href=\"_proofs_/equalsReversal.ipynb\">equalsReversal</a>:</strong> <a class=\"ProveItLink\" href=\"__pv_it/ea30f81e570e9291b945594aa271523b96695fa70/expr.ipynb\"><img src=\"__pv_it/ea30f81e570e9291b945594aa271523b96695fa70/expr.png\" style=\"display:inline;vertical-align:middle;\" /></a><br>"
      ],
      "text/plain": [
       "equalsReversal: forall_{x, y | x = y} (y = x)"
      ]
     },
     "execution_count": 4,
     "metadata": {},
     "output_type": "execute_result"
    }
   ],
   "source": [
    "equalsReversal = Forall((x, y), Equals(y, x), conditions=[Equals(x, y)])"
   ]
  },
  {
   "cell_type": "markdown",
   "metadata": {},
   "source": [
    "### Substitution or equivalence with a statement that is known to be true (right-hand side)"
   ]
  },
  {
   "cell_type": "code",
   "execution_count": 5,
   "metadata": {
    "collapsed": false,
    "deletable": true,
    "editable": true
   },
   "outputs": [
    {
     "data": {
      "text/html": [
       "<strong id=\"subRightSideInto\"><a class=\"ProveItLink\" href=\"_proofs_/subRightSideInto.ipynb\">subRightSideInto</a>:</strong> <a class=\"ProveItLink\" href=\"__pv_it/5b6686687da80bc69920c8ed469622d49cb40ce40/expr.ipynb\"><img src=\"__pv_it/5b6686687da80bc69920c8ed469622d49cb40ce40/expr.png\" style=\"display:inline;vertical-align:middle;\" /></a><br>"
      ],
      "text/plain": [
       "subRightSideInto: forall_{P, x, y | P(x) , x = y} P(y)"
      ]
     },
     "execution_count": 5,
     "metadata": {},
     "output_type": "execute_result"
    }
   ],
   "source": [
    "subRightSideInto = Forall((P, x, y), Py, conditions=[Px, Equals(x, y)])"
   ]
  },
  {
   "cell_type": "code",
   "execution_count": 6,
   "metadata": {
    "collapsed": false,
    "deletable": true,
    "editable": true
   },
   "outputs": [
    {
     "data": {
      "text/html": [
       "<strong id=\"rhsViaEquivalence\"><a class=\"ProveItLink\" href=\"_proofs_/rhsViaEquivalence.ipynb\">rhsViaEquivalence</a>:</strong> <a class=\"ProveItLink\" href=\"__pv_it/20f6197d92a4d6f4184131bc4d9ee6adbfe00fd00/expr.ipynb\"><img src=\"__pv_it/20f6197d92a4d6f4184131bc4d9ee6adbfe00fd00/expr.png\" style=\"display:inline;vertical-align:middle;\" /></a><br>"
      ],
      "text/plain": [
       "rhsViaEquivalence: forall_{P, Q | P , P = Q} Q"
      ]
     },
     "execution_count": 6,
     "metadata": {},
     "output_type": "execute_result"
    }
   ],
   "source": [
    "rhsViaEquivalence = Forall((P, Q), Q, conditions=[P, Equals(P, Q)])"
   ]
  },
  {
   "cell_type": "markdown",
   "metadata": {
    "deletable": true,
    "editable": true
   },
   "source": [
    "### Special substitution involving Booleans"
   ]
  },
  {
   "cell_type": "code",
   "execution_count": 7,
   "metadata": {
    "collapsed": false,
    "deletable": true,
    "editable": true
   },
   "outputs": [
    {
     "data": {
      "text/html": [
       "<strong id=\"substituteInTrue\"><a class=\"ProveItLink\" href=\"_proofs_/substituteInTrue.ipynb\">substituteInTrue</a>:</strong> <a class=\"ProveItLink\" href=\"__pv_it/df3d21594f48979e11bb18fda993f5826edae7bd0/expr.ipynb\"><img src=\"__pv_it/df3d21594f48979e11bb18fda993f5826edae7bd0/expr.png\" style=\"display:inline;vertical-align:middle;\" /></a><br>"
      ],
      "text/plain": [
       "substituteInTrue: forall_{P, x | P(x) , x} P(TRUE)"
      ]
     },
     "execution_count": 7,
     "metadata": {},
     "output_type": "execute_result"
    }
   ],
   "source": [
    "substituteInTrue = Forall((P, x), PofTrue, conditions=[Px, x])"
   ]
  },
  {
   "cell_type": "code",
   "execution_count": 8,
   "metadata": {
    "collapsed": false,
    "deletable": true,
    "editable": true
   },
   "outputs": [
    {
     "data": {
      "text/html": [
       "<strong id=\"substituteTruth\"><a class=\"ProveItLink\" href=\"_proofs_/substituteTruth.ipynb\">substituteTruth</a>:</strong> <a class=\"ProveItLink\" href=\"__pv_it/852e1ee2fa958d278b508802e036ae808ae8febe0/expr.ipynb\"><img src=\"__pv_it/852e1ee2fa958d278b508802e036ae808ae8febe0/expr.png\" style=\"display:inline;vertical-align:middle;\" /></a><br>"
      ],
      "text/plain": [
       "substituteTruth: forall_{P, x | P(TRUE) , x} P(x)"
      ]
     },
     "execution_count": 8,
     "metadata": {},
     "output_type": "execute_result"
    }
   ],
   "source": [
    "substituteTruth = Forall((P, x), Px, conditions=[PofTrue, x])"
   ]
  },
  {
   "cell_type": "code",
   "execution_count": 9,
   "metadata": {
    "collapsed": false,
    "deletable": true,
    "editable": true
   },
   "outputs": [
    {
     "data": {
      "text/html": [
       "<strong id=\"substituteInFalse\"><a class=\"ProveItLink\" href=\"_proofs_/substituteInFalse.ipynb\">substituteInFalse</a>:</strong> <a class=\"ProveItLink\" href=\"__pv_it/f287652a8b549a9e50c5775e0059552e341861ac0/expr.ipynb\"><img src=\"__pv_it/f287652a8b549a9e50c5775e0059552e341861ac0/expr.png\" style=\"display:inline;vertical-align:middle;\" /></a><br>"
      ],
      "text/plain": [
       "substituteInFalse: forall_{P, x | P(x) , [not](x)} P(FALSE)"
      ]
     },
     "execution_count": 9,
     "metadata": {},
     "output_type": "execute_result"
    }
   ],
   "source": [
    "substituteInFalse = Forall((P, x), PofFalse, conditions=[Px, Not(x)])"
   ]
  },
  {
   "cell_type": "code",
   "execution_count": 10,
   "metadata": {
    "collapsed": false,
    "deletable": true,
    "editable": true
   },
   "outputs": [
    {
     "data": {
      "text/html": [
       "<strong id=\"substituteFalsehood\"><a class=\"ProveItLink\" href=\"_proofs_/substituteFalsehood.ipynb\">substituteFalsehood</a>:</strong> <a class=\"ProveItLink\" href=\"__pv_it/c9f60a12cf66cdd6e93a0a14db2852a9185d17cc0/expr.ipynb\"><img src=\"__pv_it/c9f60a12cf66cdd6e93a0a14db2852a9185d17cc0/expr.png\" style=\"display:inline;vertical-align:middle;\" /></a><br>"
      ],
      "text/plain": [
       "substituteFalsehood: forall_{P, x | P(FALSE) , [not](x)} P(x)"
      ]
     },
     "execution_count": 10,
     "metadata": {},
     "output_type": "execute_result"
    }
   ],
   "source": [
    "substituteFalsehood = Forall((P, x), Px, conditions=[PofFalse, Not(x)])"
   ]
  },
  {
   "cell_type": "markdown",
   "metadata": {
    "deletable": true,
    "editable": true
   },
   "source": [
    "### Folding and unfolding $\\neq$"
   ]
  },
  {
   "cell_type": "code",
   "execution_count": 11,
   "metadata": {
    "collapsed": false,
    "deletable": true,
    "editable": true
   },
   "outputs": [
    {
     "data": {
      "text/html": [
       "<strong id=\"unfoldNotEquals\"><a class=\"ProveItLink\" href=\"_proofs_/unfoldNotEquals.ipynb\">unfoldNotEquals</a>:</strong> <a class=\"ProveItLink\" href=\"__pv_it/f9d207e192d579db6f280d162f39b8df3d44c2310/expr.ipynb\"><img src=\"__pv_it/f9d207e192d579db6f280d162f39b8df3d44c2310/expr.png\" style=\"display:inline;vertical-align:middle;\" /></a><br>"
      ],
      "text/plain": [
       "unfoldNotEquals: forall_{x, y | x != y} [not](x = y)"
      ]
     },
     "execution_count": 11,
     "metadata": {},
     "output_type": "execute_result"
    }
   ],
   "source": [
    "unfoldNotEquals = Forall((x, y), Not(Equals(x, y)), conditions=[NotEquals(x, y)])"
   ]
  },
  {
   "cell_type": "code",
   "execution_count": 12,
   "metadata": {
    "collapsed": false,
    "deletable": true,
    "editable": true
   },
   "outputs": [
    {
     "data": {
      "text/html": [
       "<strong id=\"foldNotEquals\"><a class=\"ProveItLink\" href=\"_proofs_/foldNotEquals.ipynb\">foldNotEquals</a>:</strong> <a class=\"ProveItLink\" href=\"__pv_it/a7d53f946ce05c1193bee9cdef74ca79869c77560/expr.ipynb\"><img src=\"__pv_it/a7d53f946ce05c1193bee9cdef74ca79869c77560/expr.png\" style=\"display:inline;vertical-align:middle;\" /></a><br>"
      ],
      "text/plain": [
       "foldNotEquals: forall_{x, y | [not](x = y)} (x != y)"
      ]
     },
     "execution_count": 12,
     "metadata": {},
     "output_type": "execute_result"
    }
   ],
   "source": [
    "foldNotEquals = Forall((x, y), NotEquals(x, y), conditions=[Not(Equals(x, y))])"
   ]
  },
  {
   "cell_type": "markdown",
   "metadata": {
    "deletable": true,
    "editable": true
   },
   "source": [
    "**$\\neq$ is also symmetric:**"
   ]
  },
  {
   "cell_type": "code",
   "execution_count": 13,
   "metadata": {
    "collapsed": false,
    "deletable": true,
    "editable": true
   },
   "outputs": [
    {
     "data": {
      "text/html": [
       "<strong id=\"notEqualsSymmetry\"><a class=\"ProveItLink\" href=\"_proofs_/notEqualsSymmetry.ipynb\">notEqualsSymmetry</a>:</strong> <a class=\"ProveItLink\" href=\"__pv_it/0b1a437b9f792461539a8cc416ec7b68c666b42b0/expr.ipynb\"><img src=\"__pv_it/0b1a437b9f792461539a8cc416ec7b68c666b42b0/expr.png\" style=\"display:inline;vertical-align:middle;\" /></a><br>"
      ],
      "text/plain": [
       "notEqualsSymmetry: forall_{x, y | x != y} (y != x)"
      ]
     },
     "execution_count": 13,
     "metadata": {},
     "output_type": "execute_result"
    }
   ],
   "source": [
    "notEqualsSymmetry = Forall((x, y), NotEquals(y, x), conditions=[NotEquals(x, y)])"
   ]
  },
  {
   "cell_type": "markdown",
   "metadata": {
    "deletable": true,
    "editable": true
   },
   "source": [
    "**If two things are both equal and not equal, there is a contradiction:**"
   ]
  },
  {
   "cell_type": "code",
   "execution_count": 14,
   "metadata": {
    "collapsed": false,
    "deletable": true,
    "editable": true
   },
   "outputs": [
    {
     "data": {
      "text/html": [
       "<strong id=\"notEqualsContradiction\"><a class=\"ProveItLink\" href=\"_proofs_/notEqualsContradiction.ipynb\">notEqualsContradiction</a>:</strong> <a class=\"ProveItLink\" href=\"__pv_it/539d4c6dc907184612963bb5a51d5e54e7d026780/expr.ipynb\"><img src=\"__pv_it/539d4c6dc907184612963bb5a51d5e54e7d026780/expr.png\" style=\"display:inline;vertical-align:middle;\" /></a><br>"
      ],
      "text/plain": [
       "notEqualsContradiction: forall_{x, y | x = y , x != y} FALSE"
      ]
     },
     "execution_count": 14,
     "metadata": {},
     "output_type": "execute_result"
    }
   ],
   "source": [
    "notEqualsContradiction = Forall((x, y), FALSE, conditions=[Equals(x, y), NotEquals(x, y)]) "
   ]
  },
  {
   "cell_type": "code",
   "execution_count": 15,
   "metadata": {
    "collapsed": true,
    "deletable": true,
    "editable": true
   },
   "outputs": [],
   "source": []
  },
  {
   "cell_type": "code",
   "execution_count": 15,
   "metadata": {
    "collapsed": true,
    "deletable": true,
    "editable": true
   },
   "outputs": [],
   "source": []
  },
  {
   "cell_type": "code",
   "execution_count": 15,
   "metadata": {
    "collapsed": false,
    "deletable": true,
    "editable": true
   },
   "outputs": [
    {
     "data": {
      "text/html": [
       "<strong id=\"unaryEvaluation\"><a class=\"ProveItLink\" href=\"_proofs_/unaryEvaluation.ipynb\">unaryEvaluation</a>:</strong> <a class=\"ProveItLink\" href=\"__pv_it/311baddebc5b351586d217f3cf053264bfe1b4a40/expr.ipynb\"><img src=\"__pv_it/311baddebc5b351586d217f3cf053264bfe1b4a40/expr.png\" style=\"display:inline;vertical-align:middle;\" /></a><br>"
      ],
      "text/plain": [
       "unaryEvaluation: forall_{f, x, a, c} ((x = a) => ((f(a) = c) => (f(x) = c)))"
      ]
     },
     "execution_count": 15,
     "metadata": {},
     "output_type": "execute_result"
    }
   ],
   "source": [
    "unaryEvaluation = Forall((f, x, a, c), Implies(Equals(x, a), Implies(Equals(fa, c), Equals(fx, c))))"
   ]
  },
  {
   "cell_type": "code",
   "execution_count": 16,
   "metadata": {
    "collapsed": false,
    "deletable": true,
    "editable": true
   },
   "outputs": [
    {
     "data": {
      "text/html": [
       "<strong id=\"binarySubstitution\"><a class=\"ProveItLink\" href=\"_proofs_/binarySubstitution.ipynb\">binarySubstitution</a>:</strong> <a class=\"ProveItLink\" href=\"__pv_it/19c912495e62fe7c9998a630c20393fe661a8e370/expr.ipynb\"><img src=\"__pv_it/19c912495e62fe7c9998a630c20393fe661a8e370/expr.png\" style=\"display:inline;vertical-align:middle;\" /></a><br>"
      ],
      "text/plain": [
       "binarySubstitution: forall_{f, x, y, a, b} (((x = a) and (y = b)) => (f(x , y) = f(a , b)))"
      ]
     },
     "execution_count": 16,
     "metadata": {},
     "output_type": "execute_result"
    }
   ],
   "source": [
    "binarySubstitution = Forall((f, x, y, a, b), Implies(And(Equals(x, a), Equals(y, b)), Equals(fxy, fab)))"
   ]
  },
  {
   "cell_type": "code",
   "execution_count": 17,
   "metadata": {
    "collapsed": false,
    "deletable": true,
    "editable": true
   },
   "outputs": [
    {
     "data": {
      "text/html": [
       "<strong id=\"binaryEvaluation\"><a class=\"ProveItLink\" href=\"_proofs_/binaryEvaluation.ipynb\">binaryEvaluation</a>:</strong> <a class=\"ProveItLink\" href=\"__pv_it/6893f7f1f0c44f155d38d2ac5dd62766d58054a20/expr.ipynb\"><img src=\"__pv_it/6893f7f1f0c44f155d38d2ac5dd62766d58054a20/expr.png\" style=\"display:inline;vertical-align:middle;\" /></a><br>"
      ],
      "text/plain": [
       "binaryEvaluation: forall_{f, x, y, a, b, c} (((x = a) and (y = b)) => ((f(a , b) = c) => (f(x , y) = c)))"
      ]
     },
     "execution_count": 17,
     "metadata": {},
     "output_type": "execute_result"
    }
   ],
   "source": [
    "binaryEvaluation = Forall((f, x, y, a, b, c), Implies(And(Equals(x, a), Equals(y, b)), Implies(Equals(fab, c), Equals(fxy, c))))"
   ]
  },
  {
   "cell_type": "code",
   "execution_count": 18,
   "metadata": {
    "collapsed": false,
    "deletable": true,
    "editable": true
   },
   "outputs": [
    {
     "data": {
      "text/html": [
       "<strong id=\"notEqualsInBool\"><a class=\"ProveItLink\" href=\"_proofs_/notEqualsInBool.ipynb\">notEqualsInBool</a>:</strong> <a class=\"ProveItLink\" href=\"__pv_it/ebc436e385aadb5cef4ad1dcd68d00894a1021090/expr.ipynb\"><img src=\"__pv_it/ebc436e385aadb5cef4ad1dcd68d00894a1021090/expr.png\" style=\"display:inline;vertical-align:middle;\" /></a><br>"
      ],
      "text/plain": [
       "notEqualsInBool: forall_{x, y} ((x != y) in BOOLEANS)"
      ]
     },
     "execution_count": 18,
     "metadata": {},
     "output_type": "execute_result"
    }
   ],
   "source": [
    "notEqualsInBool = Forall((x, y), inBool(NotEquals(x, y)))"
   ]
  },
  {
   "cell_type": "code",
   "execution_count": 19,
   "metadata": {
    "collapsed": false,
    "deletable": true,
    "editable": true
   },
   "outputs": [
    {
     "data": {
      "text/html": [
       "<strong id=\"contradictionViaFalsification\"><a class=\"ProveItLink\" href=\"_proofs_/contradictionViaFalsification.ipynb\">contradictionViaFalsification</a>:</strong> <a class=\"ProveItLink\" href=\"__pv_it/c80f3b0d54d3b932117978a618d6ce662bc968c80/expr.ipynb\"><img src=\"__pv_it/c80f3b0d54d3b932117978a618d6ce662bc968c80/expr.png\" style=\"display:inline;vertical-align:middle;\" /></a><br>"
      ],
      "text/plain": [
       "contradictionViaFalsification: forall_{A | A , A = FALSE} FALSE"
      ]
     },
     "execution_count": 19,
     "metadata": {},
     "output_type": "execute_result"
    }
   ],
   "source": [
    "contradictionViaFalsification = Forall(A, FALSE, conditions=[A, Equals(A, FALSE)])"
   ]
  },
  {
   "cell_type": "code",
   "execution_count": 20,
   "metadata": {
    "collapsed": false,
    "deletable": true,
    "editable": true
   },
   "outputs": [
    {
     "name": "stdout",
     "output_type": "stream",
     "text": [
      "Theorems may be imported from autogenerated _theorems_.py\n"
     ]
    }
   ],
   "source": [
    "%end theorems"
   ]
  },
  {
   "cell_type": "code",
   "execution_count": 21,
   "metadata": {
    "collapsed": true,
    "deletable": true,
    "editable": true
   },
   "outputs": [],
   "source": []
  }
 ],
 "metadata": {
  "kernelspec": {
   "display_name": "Python 3",
   "language": "python",
   "name": "python3"
  },
  "language_info": {
   "codemirror_mode": {
    "name": "ipython",
    "version": 3
   },
   "file_extension": ".py",
   "mimetype": "text/x-python",
   "name": "python",
   "nbconvert_exporter": "python",
   "pygments_lexer": "ipython3",
   "version": "3.7.0"
  }
 },
 "nbformat": 4,
 "nbformat_minor": 0
}
