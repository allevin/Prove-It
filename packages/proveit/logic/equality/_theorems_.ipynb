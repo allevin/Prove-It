{
 "cells": [
  {
   "cell_type": "markdown",
   "metadata": {},
   "source": [
    "Theorems for context <a href=\"_context_.ipynb\" class=\"ProveItLink\">proveit.logic.equality</a>\n",
    "========"
   ]
  },
  {
   "cell_type": "code",
   "execution_count": 1,
   "metadata": {},
   "outputs": [
    {
     "name": "stdout",
     "output_type": "stream",
     "text": [
      "Defining theorems for context 'proveit.logic.equality'\n",
      "Subsequent end-of-cell assignments will define theorems\n",
      "'%end theorems' will finalize the definitions\n"
     ]
    }
   ],
   "source": [
    "from proveit.logic import Equals, NotEquals, Implies, Not, And, Forall, FALSE, inBool\n",
    "from proveit._common_ import A, a, b, c, x, y, z, f, P, fa, fab, fx, fxy, Px, Py, Q\n",
    "from proveit.logic._common_ import PofTrue, PofFalse\n",
    "%begin theorems"
   ]
  },
  {
   "cell_type": "markdown",
   "metadata": {},
   "source": [
    "### Substitution or equivalence with a statement that is known to be true (left-hand side)"
   ]
  },
  {
   "cell_type": "code",
   "execution_count": 2,
   "metadata": {},
   "outputs": [
    {
     "data": {
      "text/html": [
       "<strong id=\"subLeftSideInto\"><a class=\"ProveItLink\" href=\"_proofs_/subLeftSideInto.ipynb\">subLeftSideInto</a>:</strong> <a class=\"ProveItLink\" href=\"__pv_it/3ec60be0054bb218e4347eeddae1ab877388efa90/expr.ipynb\"><img src=\"data:image/png;base64,iVBORw0KGgoAAAANSUhEUgAAAMIAAAAXBAMAAACrPI2eAAAAMFBMVEX///8QEBC6urrMzMxUVFRm\n",
       "ZmZERETc3NwyMjKqqqp2dnaIiIiYmJgiIiLu7u4AAAAU9Wx4AAAAAXRSTlMAQObYZgAAAsZJREFU\n",
       "SMe1Vk1oE1EQ/pLd5m832+BFvEgED0KRRhA8NmhRsRdBeyke1oOtf5CAYlARFy8VFPVSEXJwEYq1\n",
       "ouRQD/bSFS+CiDkoghQpgkW8NKixttTqvL/ta8OCSjqwmdlvv51v38y8R4B1t5l1yRqvCW/ngToL\n",
       "XrYn78Tv3t43ZRbtVNAh4AHzN9r06T+BxMZVCVPAOXJJtz0CxiKQpgtWTUG2jxQ1ouNWexSsr5Sy\n",
       "SUEs7K6Tg32/UrnUpiIlGoC5QMG2FewE8GNw8P3fJTjDf9PRhE4PmGMVH6DrwsT5J1SsUWAPMETv\n",
       "lfoPD7UOnXC3m/17y0j6oth+pEKPD+MtC65TeXx7OkaDegfYCoek8Qx41Lps2a4cMnV1g3uRClMH\n",
       "xgf4sG4AMrAa6QKwBcjCCgjsBV7PRCiYRdjLqErwc6RCSSWgjjsw+YT20AAEWfZgGtgftYZsANOD\n",
       "KqJZiFL4hRUFGqiaVHA8tgGdb7Df0domuqgv6HKxWVOYK+BVGTmJ82GXRGhkGE2lsIn9XC6wI4mq\n",
       "hKHdrKeL40fIPTZdeurU5o2cptA9PhrA8CQeL0qieZXsWkjm20HYaepdeQoWKbyg2xF2NGU8/iif\n",
       "Yj1JfqxbrqYwxueqKHHDC4nQyUgsKwUa0bvBUVwUoahX4qAcaT4Lpm/WNIVjfB8UJc4VJFEnfyp9\n",
       "V4fFdmB28stD9hFX2CyyRnfKg2MHWB9j+VhBU1jga3AlHnclMcGrFJI1i5W1U0NtFsKSw0ZjDH5y\n",
       "GLFCtzZLxjznUjE5bvuSqNJJsmZ2uCszalmZm3SQG0vOqZHJGWMJ6b7jmsJYk3/jBwi8Iy+J8l1F\n",
       "1i08vddsHlu5Cvr0/SDsKQSeConCFFm3syrYtxrfpdzJuNeqMAuBV0OiMEXWLSmLY63pUKBcdRKt\n",
       "CmmJF0OiMEX+LzNX3T0XLfvH/w5/AOrJuu1B3OWnAAAAAElFTkSuQmCC\n",
       "\" style=\"display:inline;vertical-align:middle;\" /></a><br>"
      ],
      "text/plain": [
       "subLeftSideInto: forall_{P, x, y | P(y) , x = y} P(x)"
      ]
     },
     "execution_count": 2,
     "metadata": {},
     "output_type": "execute_result"
    }
   ],
   "source": [
    "subLeftSideInto = Forall((P, x, y), Px, conditions=[Py, Equals(x, y)])"
   ]
  },
  {
   "cell_type": "code",
   "execution_count": 3,
   "metadata": {},
   "outputs": [
    {
     "data": {
      "text/html": [
       "<strong id=\"lhsViaEquivalence\"><a class=\"ProveItLink\" href=\"_proofs_/lhsViaEquivalence.ipynb\">lhsViaEquivalence</a>:</strong> <a class=\"ProveItLink\" href=\"__pv_it/1f8ca2a379f5bda03a6d21311aef5c4870e6df220/expr.ipynb\"><img src=\"data:image/png;base64,iVBORw0KGgoAAAANSUhEUgAAAIwAAAAWBAMAAADgE2koAAAAMFBMVEX///8QEBC6urrMzMxUVFRm\n",
       "ZmZERETc3NwyMjKqqqp2dnaIiIiYmJgiIiLu7u4AAAAU9Wx4AAAAAXRSTlMAQObYZgAAAd9JREFU\n",
       "OMutVD0sg1EUPfX1h/a1xGITg10HCYmhQoMYRIJFDJYyVhcGkbQTicTPQIwGgiYSEgaTmkV0IBIx\n",
       "1GCuoEX93vf93a/VgdZN3vfuOe98J+/d94MU/iWS8nNa+v8HX8HgxQR2ZL5QxjxeAGcdJilzjZbu\n",
       "ouSAqhwqqTiOpdJtPA+AyEBsTU3NlLEm5z1gfwWyY2PXZdhUR4E0FaUTGKflhYcGqYPvcLNbHa7Q\n",
       "VCZezQx1TRj/miwQWIdySX0jfGSIE2CXulY/IqraqalMLGrgTho2Jgsc98aHZeqFJ0FdEDhPQamj\n",
       "go+yDWN7O8SnsTsmC4T18+tJeGV2A/QAt+Qo7tmGsTcBe1S3YRb4MNYZbZbfR4grYB/5NozTfpwZ\n",
       "tWEWSsZY6HiHrGguPkLdBTVHkm0YN8U3aT5zFPMWVj02WqxIwq1N+I2abZ1tGG9bNplZOI16wbYn\n",
       "Yb+av1NbTrEN45DFhtm78NOeTgpJVGv3IeQ68tWCbRi/qqS2KGYLI0Dlc80i0la11mCx0TANKM8W\n",
       "MasKwr04QFV/h6tno0+x2GiYBrYzflazqmgIuWX90xYbHYtCpaEqGi3yIGTr82xU3PLjldFVRUNe\n",
       "CsSW8mxUnPghjf3yibL/6bn4BqN6kIG1YFUsAAAAAElFTkSuQmCC\n",
       "\" style=\"display:inline;vertical-align:middle;\" /></a><br>"
      ],
      "text/plain": [
       "lhsViaEquivalence: forall_{P, Q | Q , P = Q} P"
      ]
     },
     "execution_count": 3,
     "metadata": {},
     "output_type": "execute_result"
    }
   ],
   "source": [
    "lhsViaEquivalence = Forall((P, Q), P, conditions=[Q, Equals(P, Q)])"
   ]
  },
  {
   "cell_type": "markdown",
   "metadata": {},
   "source": [
    "### Applying symmetry, we can reverse any known equality:"
   ]
  },
  {
   "cell_type": "code",
   "execution_count": 4,
   "metadata": {},
   "outputs": [
    {
     "data": {
      "text/html": [
       "<strong id=\"equalsReversal\"><a class=\"ProveItLink\" href=\"_proofs_/equalsReversal.ipynb\">equalsReversal</a>:</strong> <a class=\"ProveItLink\" href=\"__pv_it/28002146d7bbb3d303591384d88b2e1175a218f20/expr.ipynb\"><img src=\"data:image/png;base64,iVBORw0KGgoAAAANSUhEUgAAAKEAAAAXBAMAAACR7DLtAAAAMFBMVEX///8QEBC6urrMzMxUVFRm\n",
       "ZmZERETc3NwyMjKqqqp2dnaIiIiYmJgiIiLu7u4AAAAU9Wx4AAAAAXRSTlMAQObYZgAAAhhJREFU\n",
       "OMutVD1IHEEU/m5Xb72/9YhVkEAKCxuJgfR3KBiJBCxFObAIKtFiC4lpErZIkSIEQa1sthGJB7KS\n",
       "eCCKLmkCkcBVKQThbCxMIwl4jYjvzd7uuevtwhx58JiZ9837ePN+BvjvUpP2UOxo7DtplTfHMozP\n",
       "YrDOQeALbz7LMMZeNoE3tGjTEoQZOw79CXRRIjuXJRgTsZk/A7KbS0vvZB7dH4smKbirmZkTGcZJ\n",
       "0otJaDdBs1Z+vj4FpMeBYWD2ntvjaMZPpNYTZC5pnfjI8oHNF/jlPAJSVJo+6OY9t5hSPQDU5RKS\n",
       "oSsWjrBCzZoHcsg4Mox/AR296LbDkzLCi0qhZ5xcTZIRqRsUBsNAr8eomzwE5aFvdEWpNJrDZXSN\n",
       "YvIqftc85NEwscP70inLb7c0/yh28WrMDlGJaiMJqvufbuNpM0ZhHOXc2z4ALJB2jeNVKMIfVKpD\n",
       "akauyRqNtiJKiPcDqDQZG8YAAGxwjEXlOkiYuk7mNdvtHiREjusCeIGxu3ms+x4eAAyQ6vO79SCj\n",
       "Pr+9dcDRc99lOUFqXnVbo+cOIxvnxKt9gAIwREaqkVPoSiFtpvHWQI9y2WQUxoZ4AAVgAS9xFvEV\n",
       "lL3N+d7UNgoOVitmk1EYG+IB7m92gtetCcPD4mhGh92yH32AZBFY340Y0w4jcFSNpNXfusN9gNlj\n",
       "PsivwWMWqX2rNaMPtC3F9l1vAaqximPRgqa5AAAAAElFTkSuQmCC\n",
       "\" style=\"display:inline;vertical-align:middle;\" /></a><br>"
      ],
      "text/plain": [
       "equalsReversal: forall_{x, y | x = y} (y = x)"
      ]
     },
     "execution_count": 4,
     "metadata": {},
     "output_type": "execute_result"
    }
   ],
   "source": [
    "equalsReversal = Forall((x, y), Equals(y, x), conditions=[Equals(x, y)])"
   ]
  },
  {
   "cell_type": "markdown",
   "metadata": {},
   "source": [
    "### Substitution or equivalence with a statement that is known to be true (right-hand side)"
   ]
  },
  {
   "cell_type": "code",
   "execution_count": 5,
   "metadata": {},
   "outputs": [
    {
     "data": {
      "text/html": [
       "<strong id=\"subRightSideInto\"><a class=\"ProveItLink\" href=\"_proofs_/subRightSideInto.ipynb\">subRightSideInto</a>:</strong> <a class=\"ProveItLink\" href=\"__pv_it/d4113fad0d92b942ed717e4508c11482c9ed7ebd0/expr.ipynb\"><img src=\"data:image/png;base64,iVBORw0KGgoAAAANSUhEUgAAAMEAAAAXBAMAAABACzadAAAAMFBMVEX///8QEBC6urrMzMxUVFRm\n",
       "ZmZERETc3NwyMjKqqqp2dnaIiIiYmJgiIiLu7u4AAAAU9Wx4AAAAAXRSTlMAQObYZgAAAs1JREFU\n",
       "SMe1Vk1oE1EQ/pJNNskm2QR76i0HDwEppuDFgyS0RYtFWrSKqGC9NIJCFirWi5qL4EGqB3vqoYsQ\n",
       "qi2WgCVQc2jUmx7MTRCR9BIEL8WWKhXUeX+7a8OKYjrwMm9nvjffzs7MI8CeS2tPogarQr+k1WSb\n",
       "N92JGx/dGjpxjO0OSUs4Bzxhm5kuvXqqDFyyvAHJcJ1UZKJLDHkbmKcVryrLayBKhQg/6BLDWgZ4\n",
       "OwYEnOquA4mF6emb3SpwidYovW7Wsej0tD05+f7vzk/x39gfEN8Ac5v0OdIVG7dbMCijQaBI50qn\n",
       "x4udRzIiKHdGbP6g2b4E2g5whELiHmAEN7BGR6nU+2HSL14ATzvPyBbgTl3aHvl369ZiZYFt9gGH\n",
       "w01M0mCkgSTiDTIOUY1afgzcOSdtn3wZ9B9y84UmOVDFd0prg4gbSRb5AzDsmwN3qo8YyvmOQ9Nl\n",
       "wHxL2xQMZpkNoLmJxDvSSwMrFCBYkw0nGIST8jVWDgzKZhdAfkMoMPJjkqGX1lnE0+IroTjAYDuL\n",
       "F0gZraMB6q/PKavfkwN3alSt5dBEL4IFBRy+S1J1wHwcuFyldQc6AROsxrMsN6MsYrE2AG71oeZh\n",
       "4E4WOBOlkmllF/gbGCVVyAqtcRwkMOtWBFjWukrwK/89jhEPA3fG2KunLMmggB6weebniLT00WrX\n",
       "LxI4ytJKMOaUvDi0tCbarcfDwJ1Btu9HTmw48DL/Sg7YlQC7/Xj3r7t3FrPdsPJG2SCFHpoXl4E7\n",
       "zSY1xmPYSNgKKEWBXSFIqGmyei8pk3H/FIvUaK+eXyaFh7WyyyCc+AjzyuzzFsIZBZSiwB6ZQdLW\n",
       "bYhh9kpDqogVqnrngcuq1FEXyMUBe+QaYvWTbHasXfeKJZVuZ9HB0JZ6zgHKSbazHbMXkZzPdn8+\n",
       "pWJ1u5MhJl+84AClvW7/x4Vf8D68EiX7x/8OvwDdgcJMzIcRKQAAAABJRU5ErkJggg==\n",
       "\" style=\"display:inline;vertical-align:middle;\" /></a><br>"
      ],
      "text/plain": [
       "subRightSideInto: forall_{P, x, y | P(x) , x = y} P(y)"
      ]
     },
     "execution_count": 5,
     "metadata": {},
     "output_type": "execute_result"
    }
   ],
   "source": [
    "subRightSideInto = Forall((P, x, y), Py, conditions=[Px, Equals(x, y)])"
   ]
  },
  {
   "cell_type": "code",
   "execution_count": 6,
   "metadata": {},
   "outputs": [
    {
     "data": {
      "text/html": [
       "<strong id=\"rhsViaEquivalence\"><a class=\"ProveItLink\" href=\"_proofs_/rhsViaEquivalence.ipynb\">rhsViaEquivalence</a>:</strong> <a class=\"ProveItLink\" href=\"__pv_it/771aeab8c4711531b2b4534bd94ab64c6ca8ce7f0/expr.ipynb\"><img src=\"data:image/png;base64,iVBORw0KGgoAAAANSUhEUgAAAIkAAAAWBAMAAAAGOqJsAAAAMFBMVEX///8QEBC6urrMzMxUVFRm\n",
       "ZmZERETc3NwyMjKqqqp2dnaIiIiYmJgiIiLu7u4AAAAU9Wx4AAAAAXRSTlMAQObYZgAAAfJJREFU\n",
       "OMutlE8oBFEcx7/ssHbMrj8pN+1hD27moCgHQiilLdyUveCICwfJOhFhHcht92CztrQkBwc1zpI9\n",
       "KCWxbm7+hfz3fm/szJtdBya/er/v6zff9+n93sw8pPAfkaR0YHu5MxpvZ7JO83nblJgK6RwYIWDA\n",
       "LuSKVpYBBexg8kJ2KXOUelNQ1kZHx+1C8u4pJ7zAY3//qV3KBD+KBGulCRgAXIPdXUzg2Ym2ckOu\n",
       "7lt+6G4ZEpSHYerVKA+qgA+eIJvuAxtMalUMc3e+vkAphpwUlIdhuuBf2y0bbhQSsRk4SsFRzpoN\n",
       "CBSpAcqHoBSmidbD9cJSoeYm4hnQBlwyoHIjUNwapKCgFKbpnVJBBTUZrKZ8D+UE2EIG5VrF4ZCg\n",
       "FKZpgVJYpTzQSIf5Eu9hckyvLylQquJRzVBpmsWsYAp7x7Ydpdy4RAVZ3+4rGzkRgRKDVa0m+Twi\n",
       "L+tbzNmkRX4+f2NjMSVQ+mBVqwm+mb0QeEcKFYr0n6DPuevRd/hNeYag+XpHpolqqqIa/Hq2L+cU\n",
       "hutcK16B4ngCr3NNh2niTVQaD+SFTrbkDc621Q6HQIk9qLzO1bhTDBN9SJ93Gb+FQi/LPyZ2ZNQt\n",
       "kTbRbku0jIc1VH2syKLUZFLSph+DUydDWRQtyzn5yxtJ+ssN8QXzbpCqvj4ZyAAAAABJRU5ErkJg\n",
       "gg==\n",
       "\" style=\"display:inline;vertical-align:middle;\" /></a><br>"
      ],
      "text/plain": [
       "rhsViaEquivalence: forall_{P, Q | P , P = Q} Q"
      ]
     },
     "execution_count": 6,
     "metadata": {},
     "output_type": "execute_result"
    }
   ],
   "source": [
    "rhsViaEquivalence = Forall((P, Q), Q, conditions=[P, Equals(P, Q)])"
   ]
  },
  {
   "cell_type": "markdown",
   "metadata": {},
   "source": [
    "### Special substitution involving Booleans"
   ]
  },
  {
   "cell_type": "code",
   "execution_count": 7,
   "metadata": {},
   "outputs": [
    {
     "data": {
      "text/html": [
       "<strong id=\"substituteInTrue\"><a class=\"ProveItLink\" href=\"_proofs_/substituteInTrue.ipynb\">substituteInTrue</a>:</strong> <a class=\"ProveItLink\" href=\"__pv_it/3a696a27b1f070de66f16ee5991ade69f2b12ac30/expr.ipynb\"><img src=\"data:image/png;base64,iVBORw0KGgoAAAANSUhEUgAAAKMAAAAXBAMAAACVGeLQAAAAMFBMVEX///8QEBC6urrMzMxUVFRm\n",
       "ZmZERETc3NwyMjKqqqp2dnaIiIiYmJgiIiLu7u4AAAAU9Wx4AAAAAXRSTlMAQObYZgAAAlZJREFU\n",
       "OMutVb9rFFEQ/m737rK3t7dJJzZyRbBJs4KCCHJLElQQyYE/GhXOJldY3FZGFGH/ANEUplJwESSa\n",
       "YBBMoxaelrEwlYIobBqxEQRDlBTqzHu7d7ObiHpk4O2b9+1335t5M28P2HmLd0JkrOe9orHKzutB\n",
       "dKpT65MnjrJn+jj/ke0tSh7wkLEbA8U2HAIXAnIsleoBBRJ2iaah1kCSjQi4SwPP0Zdc0TuUZgeS\n",
       "fFEH3jTJ2SMk1wBnfmbm2mBF6dCYomiMUEiWCdiYnn7/l98Oefys5OEfgLtBcykSkjaFPQG0id85\n",
       "faot6HX1TNAramFGWUVzEzjMeVtdIVmhkEfhcuAvgUeCnxRMo8niXq6J1hfuz7NTqAtJYwSoocq7\n",
       "TNJRx1skFVp5rBefs5Lln2kzSUnzK23WrbHUB+DY1igVWg70ouhl23L1T5JuuJ889xucdzQvji97\n",
       "fUmNFujQl8cmUFXRpgw0molkYTaXONrj7G0unON6xUc0QUtq9CCwVGzthuFLhmpLfQKyPA4XZo4T\n",
       "sHVvGbguE9foKDUAV9UMJQOd9OjtZq6JUOB8ymkW36WkRm/xeQWJZMpwz/w6nvzE0Id6SD0tjt3h\n",
       "3YaTO2mOmEJSo3tp7IMHoyUZwnYJf63/CeCqXg4admgLSYXiC5XxASI4kWQIWxH+YurYN0+yQvfT\n",
       "07NLfUmNoha7F+eexSjVJUOY1W9oN8y96+b7Ul+T5FCsDEN+A/yeWwxytzbYVtJNFrczDGlXe96T\n",
       "3BsH20rijp78DOO/zc9spa6L/Y//fL8BkpCUKV3ASD0AAAAASUVORK5CYII=\n",
       "\" style=\"display:inline;vertical-align:middle;\" /></a><br>"
      ],
      "text/plain": [
       "substituteInTrue: forall_{P, x | P(x) , x} P(TRUE)"
      ]
     },
     "execution_count": 7,
     "metadata": {},
     "output_type": "execute_result"
    }
   ],
   "source": [
    "substituteInTrue = Forall((P, x), PofTrue, conditions=[Px, x])"
   ]
  },
  {
   "cell_type": "code",
   "execution_count": 8,
   "metadata": {},
   "outputs": [
    {
     "data": {
      "text/html": [
       "<strong id=\"substituteTruth\"><a class=\"ProveItLink\" href=\"_proofs_/substituteTruth.ipynb\">substituteTruth</a>:</strong> <a class=\"ProveItLink\" href=\"__pv_it/9bdc5b840ab58180416de24b39e9a69a9440cc6d0/expr.ipynb\"><img src=\"data:image/png;base64,iVBORw0KGgoAAAANSUhEUgAAAKIAAAAXBAMAAAB624nuAAAAMFBMVEX///8QEBC6urrMzMxUVFRm\n",
       "ZmZERETc3NwyMjKqqqp2dnaIiIiYmJgiIiLu7u4AAAAU9Wx4AAAAAXRSTlMAQObYZgAAAnVJREFU\n",
       "OMutlE9o03AUx781Wf8kaVY8KLtVGCKIWEFQvGy4ouJJ1F2Gh3qwxT/QgMOhIhYvXkS9TAQP5jKs\n",
       "FUcP9eA8LOJFFLEHRZAhvTjEy4padUOn75fkl77GgRr2IHkvLy+f3+/9+QVYdWmtCmVN3dNGFmgK\n",
       "43k0TuNXPv/KEtZ26ToE3BX6asStfQfi63sASeAMqUQhGlBZAlJ0Qa9Ll2EjSYXsux6NqH8iRIeM\n",
       "WNANMwPjzsTEhYhJx9uAukjGpq7vOPC1WHz7ly9P+zqcSn8FWBAVG6PrXOPsA0p+ChgBSlSO8ujh\n",
       "EpsGT93ojO6xkLB9764QcciG8loYVyhd25iL0eDcBAZh0lJ4DNxn+fh1zkBr0kNfsbiueAJatpc4\n",
       "u7825g7PWkCD3k7lgA1AGrpDzjzwshUmqsMwlnFLmCI5d2kmZfkBdciE6k7MEDXMSYsXc8C+P/aY\n",
       "dqBWUJJEUSEuP9ElUsPrPtGsiIE3P8N4Q3tvbB5hxIUcXljIBMRH4iZjoHQkcUDcLubEkaasUdot\n",
       "WrFUO0JqWi0MMOLW2pQDpRIQB8Fi3HH05BSV3JqFTsSn9DgpjrbmlSibdHjWVbfvwwFxJ49BfFkS\n",
       "aWRuO0dx3jO9/OMH/BGzOPGYuKVCRBnzvvxFHr4twPzMx3tipUtiRERj+v3p3YYcIy66eywExI08\n",
       "hknMYqdQDiv5EpeVdhV2l6h8c4OaAfEZj2FiBA5Nblu7Rj825Yd5cnKm1SVWO+5m3gXEgzyGS/A3\n",
       "+xBaKjyPnjwMrAqP4TIujb29/h0rE+elkarzGC4JP1k9VGFnZWJK+tWemP8Ttefpia+n/+XT39vX\n",
       "l85p8q+GAAAAAElFTkSuQmCC\n",
       "\" style=\"display:inline;vertical-align:middle;\" /></a><br>"
      ],
      "text/plain": [
       "substituteTruth: forall_{P, x | P(TRUE) , x} P(x)"
      ]
     },
     "execution_count": 8,
     "metadata": {},
     "output_type": "execute_result"
    }
   ],
   "source": [
    "substituteTruth = Forall((P, x), Px, conditions=[PofTrue, x])"
   ]
  },
  {
   "cell_type": "code",
   "execution_count": 9,
   "metadata": {},
   "outputs": [
    {
     "data": {
      "text/html": [
       "<strong id=\"substituteInFalse\"><a class=\"ProveItLink\" href=\"_proofs_/substituteInFalse.ipynb\">substituteInFalse</a>:</strong> <a class=\"ProveItLink\" href=\"__pv_it/565edb6b204b98510e834186f51efc639f68e4960/expr.ipynb\"><img src=\"data:image/png;base64,iVBORw0KGgoAAAANSUhEUgAAAK4AAAAXBAMAAABg52lgAAAAMFBMVEX///8QEBC6urrMzMxUVFRm\n",
       "ZmZERETc3NwyMjKqqqp2dnaIiIiYmJgiIiLu7u4AAAAU9Wx4AAAAAXRSTlMAQObYZgAAAn1JREFU\n",
       "OMu1lE9oE0EUxr9ktvmzu9kGL9KDEMGDIGIEwWNCG6p4Kmgv1UMuJohCFhR7EhYvvYj2UhF6WYRo\n",
       "jFh6yKVeXPEiiJiDIoiRXCzeWqpRW2p1Zndmd7pZKU11YHfevJn5zcyb7w3wn0r3n5Hii8LSc0Cb\n",
       "Ga8Gp7V+l0pvTWadYL+kCz8LPGL17T1s8yeQ2O9DyAT7p4DrbJHy4FiyAaTpB20x4Oo2UjTAQ7OD\n",
       "c7U1iulRI9YNuEYW+sPp6Rt7CENiFVDWqXEYAReXgO+Vyocd5l51/+nIvmELWGFxnJK5dWAMqNJJ\n",
       "tclzVUkzXnW3NzluIml7U+wobsEGeceMWzL3HnAIBl0Sz4En0um4ELNQ26KB+1HcZ2eaU67M9snc\n",
       "g0AGmkOtEvCmG+YqRehbmOfOL1Hcmpi0JnML9EKdDOv6CJzu22/GgWJBxEfJR3B/4S9cw2KJYnyF\n",
       "/h5QW0fGJO5KHq9NZLlf8xMVj0db3iKkJ1wjoTigOsouaqN5gVYLSnlE4h5r1h0Qi/vjRcFQu+Ox\n",
       "WV++Xrkic1/Sb449EarltnMpR45Dw9VGkfvZAnhQqVSsOL99OnBLcOshnSHGjpeY4HI0Ze5FV7dF\n",
       "7icWR1C5/vCsz7VvIjhHad52Op0DnQ7tvsnExK5tmKfyceQl7rq73zL3x8s+l2RJ+AJjZmDTPBby\n",
       "pt7kDFltwA64xN2V0Ybn1+3kjMctqJYa5upS2qjiEOod+mSSTePy3NNuwG303M1/gucfypFN159f\n",
       "Xjq/0Kc46bENKV0P69crS7xOySP6y7XAPLW952Q0d5nX8/KI/pL05a2FEsiJ5qa5vyiPGKwo21ov\n",
       "eDLsAvAHpmeX6MQ1eO4AAAAASUVORK5CYII=\n",
       "\" style=\"display:inline;vertical-align:middle;\" /></a><br>"
      ],
      "text/plain": [
       "substituteInFalse: forall_{P, x | P(x) , [not](x)} P(FALSE)"
      ]
     },
     "execution_count": 9,
     "metadata": {},
     "output_type": "execute_result"
    }
   ],
   "source": [
    "substituteInFalse = Forall((P, x), PofFalse, conditions=[Px, Not(x)])"
   ]
  },
  {
   "cell_type": "code",
   "execution_count": 10,
   "metadata": {},
   "outputs": [
    {
     "data": {
      "text/html": [
       "<strong id=\"substituteFalsehood\"><a class=\"ProveItLink\" href=\"_proofs_/substituteFalsehood.ipynb\">substituteFalsehood</a>:</strong> <a class=\"ProveItLink\" href=\"__pv_it/1d1deba862c90ad7a095be6803bec640d55fe7610/expr.ipynb\"><img src=\"data:image/png;base64,iVBORw0KGgoAAAANSUhEUgAAAK4AAAAXBAMAAABg52lgAAAAMFBMVEX///8QEBC6urrMzMxUVFRm\n",
       "ZmZERETc3NwyMjKqqqp2dnaIiIiYmJgiIiLu7u4AAAAU9Wx4AAAAAXRSTlMAQObYZgAAAopJREFU\n",
       "OMu1lE1oE0EUx//ZTbLdzXaTW/EiEbz1soLgMaENVTwV/Dioh/SyQTwkIFi0iIuXXkS9FIQeXAS/\n",
       "Wiw5xEProREvogd7UAQpkotBvBjU+lHqx5vZ3dnNZovi6kAys/+Z+c2b99484D+1zj9kjXq9XgTW\n",
       "2OBpElrrZ6XyvEEDuexLh4C7rL+cyMyvQHaE+iFx9yHgDHVKNQlW3gRU+uGBkHSHH5K5moSb+0Cg\n",
       "DRrsFJJRgH57evp8Ijdke0D6GyDZgXYS+GxZr36z87TXq7GzeeK9J09mHPo41zp7vwncBMaBGm2p\n",
       "HzlcCy0uuiCuKo7vSSeOW3Igv2DBapMDHH09RSl2DdgNg13gIXAvtNiLJFez/Lbs70Ycd/XgwjGW\n",
       "ZimyRUOup5rALmAYOToIFeBZZ4DL1XnBfRvHrXvb8sQ1kOY7SxTO9jCbWAcODNrL1Zrgps0Y7ncE\n",
       "XLK66XENey/LjI/QX9I9WqPjIa6rFgQ31xS0xbGWe4i84Skpnq0XTFYayA+ojdGftLlwgrqldHVH\n",
       "iMtV2RZcSbxUrTPhcnj6uvlG7tQbq8gR9zF9z7ESobnJV2RBDbhcdWGcy4+4ZVmWLeGSj/vhHzUJ\n",
       "XG9PYQY8z1yPZCc9JzXCXK6qEa43/cUdval/8pwjkX3dlXeLzLKL7DGzsOW9p7wHZojLVaka+KEq\n",
       "uHJBjgZwJPyO/eQmO5VZuXcHTojLVBhrgqs7yqw7XdJsLcp9IkaaH1/tCpVMecs4NbfSCbhcBV4D\n",
       "R60py3KQKcpbfNrsLh9finKDOhnJc30gf3lbRqiu6tuXEUVky/7+iX3x3K4YzfetGWgzfuWMPJ92\n",
       "PFcVerlvzd+0cvjjkXgMf7z/F2K8m8Fs520bAAAAAElFTkSuQmCC\n",
       "\" style=\"display:inline;vertical-align:middle;\" /></a><br>"
      ],
      "text/plain": [
       "substituteFalsehood: forall_{P, x | P(FALSE) , [not](x)} P(x)"
      ]
     },
     "execution_count": 10,
     "metadata": {},
     "output_type": "execute_result"
    }
   ],
   "source": [
    "substituteFalsehood = Forall((P, x), Px, conditions=[PofFalse, Not(x)])"
   ]
  },
  {
   "cell_type": "markdown",
   "metadata": {},
   "source": [
    "### Folding and unfolding $\\neq$"
   ]
  },
  {
   "cell_type": "code",
   "execution_count": 11,
   "metadata": {},
   "outputs": [
    {
     "data": {
      "text/html": [
       "<strong id=\"unfoldNotEquals\"><a class=\"ProveItLink\" href=\"_proofs_/unfoldNotEquals.ipynb\">unfoldNotEquals</a>:</strong> <a class=\"ProveItLink\" href=\"__pv_it/38779c63c7ca10709484d9771bf5465a3e774ee90/expr.ipynb\"><img src=\"data:image/png;base64,iVBORw0KGgoAAAANSUhEUgAAAL8AAAAXCAMAAABte263AAAAOVBMVEX///8oKCgUFBQJCQkQEBC6\n",
       "urrMzMxUVFRmZmZERETc3NwyMjKqqqp2dnaIiIiYmJgiIiLu7u4AAACP9cC6AAAAAXRSTlMAQObY\n",
       "ZgAAAmJJREFUWMPVV4lu5CAMZXfDffP/H7uYAIEZSEg7kVpLlRuM4YGfbQahXy7+8R2wuWs4F4tb\n",
       "7Y5x8wh8Qu8aroSRRmtVhuUzoZgu+/X9ZKMFzx/1n8+KMXcNCwzSjS7XwNQj+Dd/17CQs1ujrRZJ\n",
       "3DPJK+8aVoSrRgcO4vQj+Jm+MAhtqFCGXbDJ6+QgQoqaZvto0jSlMxcLl3m2wdhf2lkO2owrMsBZ\n",
       "tNXwM9lILVEa4QBJE9KXysFLGsMkvxJOvlDUXlm+n5m5Kroz6AxKkfMirOISgGCHgHMC7BoMxn4P\n",
       "v5gU84AnVT8bgA70uvLFaRswLOw0IwE1GrA7/z38M/pd4U+hWKmkCphPAhngj9wpq8ZkwoaS0t95\n",
       "X+da/N1MhPXYA21qgv8wiASq+jRUc+7YkQHBTcebqrmgmY0egpmX9gYFgcg2vP86k6Y8+xf/zMAD\n",
       "cTvBnw1W7DlpruIvodTw7GxlpxVztcAcBUN4HIcNH+LvZpbsefeola45QGtQwSIezysuKcQidBxs\n",
       "v2rRDQNDQ2QaWUHNjP/HTM9nHgjP2uJu8Nxor/VC9YgzDStbStxrW6MHwSdt8dvIBH+eySNz/v6R\n",
       "iT/vHvFr1le2hYbzItoN3g8tpIC0TDVZSFg9IsFhWH+OmX3tfPU43lrTR9iaUAdwVakdvW5ipFgM\n",
       "KOCDiCpquBziP2bC8JF7rx4fez9D2+P5xKXXnvbciF+IFzKP6786LvLN46SzzQ3DTSL7S8egotfD\n",
       "hi3SeftXIj/9NYEGHgnnrLaIr/0CMKTXs+uHM+vr/mtVd0vPPGM/I/TnQfoP0pMahBS79IEAAAAA\n",
       "SUVORK5CYII=\n",
       "\" style=\"display:inline;vertical-align:middle;\" /></a><br>"
      ],
      "text/plain": [
       "unfoldNotEquals: forall_{x, y | x != y} [not](x = y)"
      ]
     },
     "execution_count": 11,
     "metadata": {},
     "output_type": "execute_result"
    }
   ],
   "source": [
    "unfoldNotEquals = Forall((x, y), Not(Equals(x, y)), conditions=[NotEquals(x, y)])"
   ]
  },
  {
   "cell_type": "code",
   "execution_count": 12,
   "metadata": {},
   "outputs": [
    {
     "data": {
      "text/html": [
       "<strong id=\"foldNotEquals\"><a class=\"ProveItLink\" href=\"_proofs_/foldNotEquals.ipynb\">foldNotEquals</a>:</strong> <a class=\"ProveItLink\" href=\"__pv_it/40f17a21e536dd79e090d454cc9966420e03bacb0/expr.ipynb\"><img src=\"data:image/png;base64,iVBORw0KGgoAAAANSUhEUgAAALkAAAAXCAMAAABgZR7wAAAAPFBMVEX///8LCwsYGBgNDQ0oKCgQ\n",
       "EBC6urrMzMxUVFRmZmZERETc3NwyMjKqqqp2dnaIiIiYmJgiIiLu7u4AAACwKje0AAAAAXRSTlMA\n",
       "QObYZgAAAnhJREFUWMPVV9my5CAIdRb3BZf//9cRE20Tjcntmepb40OqYgQOBwRCyH+74rdaZ7D+\n",
       "7vRs1zN8htc7fBw4F+vv2sz3JUevbH01n6f/zqRgV4Lolqr+qY8DB3iP8pwfrvNb2o8jp+9STiIt\n",
       "8HVZ4fPX09zcgkUWKOQ5KVzB/QUGzW+PTCIqd5PagdAW5Dl31EFrdOW8TiVQTmJMygGlH5B0BfyB\n",
       "13w8Y/wOKQc+eEJr1KUp6/cvfLbq4whLeDfSRgTGi+HHaB5Qq764fyzNg9+U7ZA2PJavKOeWSHRN\n",
       "bcYYrSUd/PvI7aNGMHKTWOuFYlTNxLljUrSTNmO8UI+oQ3wf+ZNEa1k5Ii/0j86bs1aLGc4T75Bn\n",
       "Nmozy3eFQTXBQB1L1wVyOpF9tfemY6jetN1aXfBUQzLk9fNHKOtlU2LQYDe2ZUsmba+cLmLcdo0R\n",
       "SNKE0zvOuTnKClMXHHSwc6tXW4Z6vV07iEvKicFyonYlfjNqZWjFw7SE15HlbVBT5E5tyzREB9mZ\n",
       "Dn5O9FLZchJ4orJrGhZZXjjPWyz5XvaQZqnzVeRrL2DJed6yYiY76hiQs8JXVOCic6cSMVKOB0FW\n",
       "E2a/I74FCgPL+7JF+R1ypo6yqsuWXgcbxOnl1bbyorSGrvv3GZuIM6XA6uJztsgSuUMew1H2hK7p\n",
       "8G46N03XpNSJgIBtrQZDPKzMsUMcGDwrQJk1cl7NvGRP7DUdkj2ecmeU43ii3FVv6PnIxOtjml9V\n",
       "RVhMmZ2OiTUtHlOe+x0038Wig3BdPDyOcxfI42qmazqmnVbDlwakShVfU45eukfzib0eHV46xHf+\n",
       "714a9/dTrvvX/4p/AKhQG9K7cHihAAAAAElFTkSuQmCC\n",
       "\" style=\"display:inline;vertical-align:middle;\" /></a><br>"
      ],
      "text/plain": [
       "foldNotEquals: forall_{x, y | [not](x = y)} (x != y)"
      ]
     },
     "execution_count": 12,
     "metadata": {},
     "output_type": "execute_result"
    }
   ],
   "source": [
    "foldNotEquals = Forall((x, y), NotEquals(x, y), conditions=[Not(Equals(x, y))])"
   ]
  },
  {
   "cell_type": "markdown",
   "metadata": {},
   "source": [
    "**$\\neq$ is also symmetric:**"
   ]
  },
  {
   "cell_type": "code",
   "execution_count": 13,
   "metadata": {},
   "outputs": [
    {
     "data": {
      "text/html": [
       "<strong id=\"notEqualsSymmetry\"><a class=\"ProveItLink\" href=\"_proofs_/notEqualsSymmetry.ipynb\">notEqualsSymmetry</a>:</strong> <a class=\"ProveItLink\" href=\"__pv_it/142f124dff1286bc3a1a7614a61793788632c0a00/expr.ipynb\"><img src=\"data:image/png;base64,iVBORw0KGgoAAAANSUhEUgAAAKEAAAAXCAMAAABUHN/sAAAAQlBMVEX///8LCwsYGBgNDQ0oKCgU\n",
       "FBQJCQkQEBC6urrMzMxUVFRmZmZERETc3NwyMjKqqqp2dnaIiIiYmJgiIiLu7u4AAABNCf5tAAAA\n",
       "AXRSTlMAQObYZgAAAktJREFUSMfNVgly5CAMJNkk5gZx/P+ri7DBYGOco5xdqmZqxpag1WpJEPLf\n",
       "r/Abh1CYv7dq+NhR/Pb7f3gKIOPz90pfvBAM4ZvyVz9G593OnF56In5ZApFPAQT4JoUpr7YJUJin\n",
       "EC7fppCEJcNUefnHykTfqHSWPIm8RYnL26cQim3nYPMvFQ+UStbn3AJXBsQqDSuQ5Gwh1SfYmHWt\n",
       "S3/ttpZCaERVxoJc5/X2B79rtYcUhfOOLGtODSaA4tugP8HGLB2CXcpwDYwZIvBUKacU2i0Isz6m\n",
       "S2mJ4H6GUF23vEjLaFgwc7GvbMrPE4TvB7HMOKLz4WcIJyKJRRwGFchiz5keOC5wQJgyXLp+UikF\n",
       "zsqskn2vaBF2loTasUc+z1ThIR1L1YVP6/XF59VurXIQoclyImBrSTYgw9uWAUhUhC1DDqslz3L/\n",
       "SB8YeGSvIiCNdSn5nEKn1lqCFaFb68MIX4tVV0GqQNNjkEOEnWVR8dmjNoxMWgJHo5upMCnBEZlC\n",
       "VNA7N4mPTVA85Y7DlQ53yyCvPDIKX80ARFRTCpONDdbWwtWbiF1VDqaItX1iYRcIN0uZ8vv+pnOW\n",
       "zx7rNg0M240uI+7uhgfFpMKxOrcklYNLZ9E4rOXdsu80R499/CduPZ7YTf/bDmLhRLERiWVEgDQb\n",
       "DlIPEe6W+Hg/5+jR3r5wrkr7NQpncyQhVOogqnE/NPupJ4+2nZukwn5u3lLIJ6OYqRxwfy+Rl7fM\n",
       "YmDHNxkFX57zuUWwOYUYtL2fKa5R1snjtxf/F4f+BTXlHex98CG5AAAAAElFTkSuQmCC\n",
       "\" style=\"display:inline;vertical-align:middle;\" /></a><br>"
      ],
      "text/plain": [
       "notEqualsSymmetry: forall_{x, y | x != y} (y != x)"
      ]
     },
     "execution_count": 13,
     "metadata": {},
     "output_type": "execute_result"
    }
   ],
   "source": [
    "notEqualsSymmetry = Forall((x, y), NotEquals(y, x), conditions=[NotEquals(x, y)])"
   ]
  },
  {
   "cell_type": "markdown",
   "metadata": {},
   "source": [
    "**If two things are both equal and not equal, there is a contradiction:**"
   ]
  },
  {
   "cell_type": "code",
   "execution_count": 14,
   "metadata": {},
   "outputs": [
    {
     "data": {
      "text/html": [
       "<strong id=\"notEqualsContradiction\"><a class=\"ProveItLink\" href=\"_proofs_/notEqualsContradiction.ipynb\">notEqualsContradiction</a>:</strong> <a class=\"ProveItLink\" href=\"__pv_it/3b978af40a8ee9b15894daeb9718097ebc98975e0/expr.ipynb\"><img src=\"data:image/png;base64,iVBORw0KGgoAAAANSUhEUgAAAJAAAAAWCAMAAAAYceVPAAAAOVBMVEX///8oKCgUFBQJCQkQEBC6\n",
       "urrMzMxUVFRmZmZERETc3NwyMjKqqqp2dnaIiIiYmJgiIiLu7u4AAACP9cC6AAAAAXRSTlMAQObY\n",
       "ZgAAAXdJREFUSMfNluuOhCAMhdkdLnKr4Ps/7IIjYLU6GjOr/WGMOQc/2lJlkT0sQr3r4U4OU97u\n",
       "XXlkb02W7AqZXt7cDFQT07mHAPXejBHYQ4DYoHME/xggJfNVm88mcfGl0RwCEipr7YEFr7Z9Jw8B\n",
       "jaMI+u8DGXWsZCNMiN8H2u2KOVAql5zgPSgBasqsgEzAIwmElLX62IE1wtOrroESunr3q49Macbf\n",
       "EykCGwyTnMxQVSpbApaOheZFaWgg14V6jGxtJhNFegyaBELKDQfWTF26XpUAYrx9V4dZoVVKsoKt\n",
       "HhqIllg6mibqLU0XxuDjdVL1taI5l7UxeNojlxtAk1LPSrZyzDS/Pxua3Wk5MJ/mUdqBsXlrySYG\n",
       "8pQ1JY7iyH6kmR355ap7k1SD6yD1YlosV9wp0JYEakocxZH9SKPjSnMyEpAxuNif59DMgTveeUpz\n",
       "6luXbNozYU8NxuaQuOMtpTmbIOYA/LlJ3Rw4Qb2jNNdD/cNvyB+M5xJfWlZzswAAAABJRU5ErkJg\n",
       "gg==\n",
       "\" style=\"display:inline;vertical-align:middle;\" /></a><br>"
      ],
      "text/plain": [
       "notEqualsContradiction: forall_{x, y | x = y , x != y} FALSE"
      ]
     },
     "execution_count": 14,
     "metadata": {},
     "output_type": "execute_result"
    }
   ],
   "source": [
    "notEqualsContradiction = Forall((x, y), FALSE, conditions=[Equals(x, y), NotEquals(x, y)]) "
   ]
  },
  {
   "cell_type": "code",
   "execution_count": null,
   "metadata": {},
   "outputs": [],
   "source": []
  },
  {
   "cell_type": "code",
   "execution_count": null,
   "metadata": {},
   "outputs": [],
   "source": []
  },
  {
   "cell_type": "code",
   "execution_count": 15,
   "metadata": {},
   "outputs": [
    {
     "data": {
      "text/html": [
       "<strong id=\"unaryEvaluation\"><a class=\"ProveItLink\" href=\"_proofs_/unaryEvaluation.ipynb\">unaryEvaluation</a>:</strong> <a class=\"ProveItLink\" href=\"__pv_it/fb97734ae445d119a2d570f250819d3b25debf460/expr.ipynb\"><img src=\"data:image/png;base64,iVBORw0KGgoAAAANSUhEUgAAAaoAAAAWBAMAAABj3sV/AAAAMFBMVEX///8QEBC6urrMzMxUVFRm\n",
       "ZmZERETc3NwyMjKqqqp2dnaIiIiYmJgiIiLu7u4AAAAU9Wx4AAAAAXRSTlMAQObYZgAABJBJREFU\n",
       "WMPdV11oXEUU/rJ/t/uTm5CXKMWyxQpCka4g6os0WmMEH7ogqDQIEaShTbD7EKxaJGsRKlJLoBYK\n",
       "IlkU/7oYljZ9yZb2IgWlRQmofVCLVxSNgdAlwYh0Cc7Mmdk79965udlHPfDt/HDOd2fOnHNmFvhf\n",
       "irslrUSDECVfGGd3S+hjJoVilxzBvlmT0yos8onrcbt6QCJK0iXDZHKIAPw2X4HqM3m6O46QvVGT\n",
       "aCU+4+NTcbs6FadUNcxtcwnA4VkHqs873XGE7I2aRCvxMmussZhN5RuEaLlmiOmmBOzVP9WYYqUW\n",
       "x2HrHCF7XVMPwVoH3AHpmZhd9biEaPnFf65Cdkgg2+qMac39cRydYzHa65qacFqJwidHj74eF4D3\n",
       "SkRLxnPMLlVhqgTmtUU1lnIojiMx5HEY7DPmYzjkYf3gwR/idnVA4rX5Vy8GA9F66oNBIFfuTOSk\n",
       "RrpGQOHR78pyjKmFnSzxPwq5+VyzpHOg7nHo9lZ95L1R39ekLNcvEK3EPmCc8w5vkjcnCXat8FMP\n",
       "91v6LSHCoTsrGRYgWe7I9E0hf8kocghAX0ONE4M4wrpnESC5v7htkTjwvOD4udzh0O2X8bVzl/wa\n",
       "nhP2b4pSOYB3iFZiF2yxooVy9K4GCDnkW9lAVbXaSLNik9BSJXuckrFIAKZLajzt4BnuieBRbUfG\n",
       "8XHgbFHZ6PY1XMFp/9co0RqYJFqJXuS5Q3qLm0TgKsFGKlQtUy30MlcmW9rc0oDwcJEAzEKN9wM/\n",
       "su7eMAkCHPYbRYTtXTwR0uSyX/zu9ZB3ennB6XPjd8X8FQrTvjHcKvm/k3zb9e/q886q1mGvGXbV\n",
       "NxZa68NzQNge2G7c1XpwV3aVPxoKR0Z5os/v3sejavRjfub2AXVD3CnBY8H1EoivZbrBXOlSTMjp\n",
       "G+SgnhkC8KIaW7dZlbZlBPpJoOKK8urmSx0OzZ4tbY3fZbrmDT57W2hoEYjxx/jMV/xnLjXGF79S\n",
       "meYLWyntkbuaJBQqV5APnOmtGTzJcq3gld2srMosUwSkf3nf/gep6mn5Mf2smJqjc+Bdj0Ozx5f5\n",
       "Fi7DpymkzeaIVuGMuA1EsS1SzRnGI7x5HL9KI1kuZ50XcCz4THGy3+d8tfYVVeHLctpe7YxP4v1y\n",
       "LVzZU2XkfJXdqnocmn22nem3GobKPgx86KvsMlcmyWkVSqN5lU0k9xF+X1iuO6Hr6vyD59nmvGIz\n",
       "rm7SRQISG53xVPPuCaZ5PHQhNi/7ODIVj0Oztyfmzl2CT1Pea/WmS7QKBVcVb3ZvgCWUvYHJP1jz\n",
       "t/diqhC29GLqlP5BiXzVG2/xxZTUOUL28S8mNbMB60Sy9Slq1gnsSK59w5pvkXP978ZoqUe8Vhmu\n",
       "ZpzAmzTX6IYjbG/UJFoF6Zx+JNv2xJkFN9nGPZcuOqyZas5t9Z+Ivck/kTtWgk/Wpa44wva2+Z/I\n",
       "kgZ5GmVRRUTX15BMSURJyhSe1pDAtWe1sZCRrjjC9ilzMoxoIDdcZdnwEPX9jSRsEKLkgnH2mIQ+\n",
       "5nlS6pIj2DdrcloFVUPAbwwh/uY/Kf8CxFyC8tMhv/0AAAAASUVORK5CYII=\n",
       "\" style=\"display:inline;vertical-align:middle;\" /></a><br>"
      ],
      "text/plain": [
       "unaryEvaluation: forall_{f, x, a, c} ((x = a) => ((f(a) = c) => (f(x) = c)))"
      ]
     },
     "execution_count": 15,
     "metadata": {},
     "output_type": "execute_result"
    }
   ],
   "source": [
    "unaryEvaluation = Forall((f, x, a, c), Implies(Equals(x, a), Implies(Equals(fa, c), Equals(fx, c))))"
   ]
  },
  {
   "cell_type": "code",
   "execution_count": 16,
   "metadata": {},
   "outputs": [
    {
     "data": {
      "text/html": [
       "<strong id=\"binarySubstitution\"><a class=\"ProveItLink\" href=\"_proofs_/binarySubstitution.ipynb\">binarySubstitution</a>:</strong> <a class=\"ProveItLink\" href=\"__pv_it/6a26756308b16f88fe445378c63b85ab7e732c010/expr.ipynb\"><img src=\"data:image/png;base64,iVBORw0KGgoAAAANSUhEUgAAAdcAAAAWBAMAAABgactXAAAAMFBMVEX///8QEBC6urrMzMxUVFRm\n",
       "ZmZERETc3NwyMjKqqqp2dnaIiIiYmJgiIiLu7u4AAAAU9Wx4AAAAAXRSTlMAQObYZgAABW9JREFU\n",
       "WMPlWF1oHFUUPruz/zs7G9oHqVJcoWBBalYQQRCyVtqoUVjUh9g0NKIkVCPOQ7RRsVlKS6tIWNCC\n",
       "0IcsQpC6toxtEjQpdigFi0XZl1YoChOQEOJDgsEGaQzec3/m3p25g9tXPfBl7uycb84595577pkA\n",
       "/J/EuxvluCMRJVd0JL2YJQa9oWi+nhOhfUVBC3+43mGwjyqIkmRZQwrLbzvJnxc5tIbA6uuN4Os4\n",
       "Gm3ryRbzR+As/jrZYbCTCiKlxq9HFZJGjhNkOLSGIHV2M4Kv4+i0MxXuD8c75JIe6izWvCMRLT/w\n",
       "6wlJ0slfmI8NhuCeYpzVh+sRfJUjRKddrHN/ODLEQLLeWbAxTyJaFtnFeNPzSbq9tYV51sUAgSRg\n",
       "nKlIvsoRotPu9rg/HOYXR4580GEW71YQLSk2dYmHHJ+kkRwtFoc5uOxSDAEMRvMPh3/SaZ8T/gjc\n",
       "Hh6+1WGwBxSkm71nBgLP032f30PCqNKbZVb7UNmabsBEYIEyfTMuwDQwiBlwpCG4unOfGL838+4s\n",
       "e7RyANJbbRwuijZzg9aFheeYPwJPAYxgZuyL2ojxU2L0sYIV+NHFgpo8RQUrATxgp9YAsqxCfQUv\n",
       "C1IuvgaXcdxPdY/TLTYE6wCfAQMkf6XypzQEcEeMrYb5S4xNXaMb8muCo5hWtLkbGNNtKJapPwK7\n",
       "wELvkvPVqAX1p3GbggZx/5PAwm5CkpS6ONtQLRgXpMeTLRgObjEP7iV+AYOQ7DHfEKTXxThHAszS\n",
       "E82oD0JqqJ3Djfva3A182xbEGtQfgQLkST5BIfqg/lAM/lDgwf6gXmINCiQ9DDqtpgOJMid5MYdP\n",
       "vJR+ALKMPcDgy/I2YQiya8KoBQl+XlhwHxSdAAfatbkbuIA1KFapPwJ5t4DbqRhdYTd0wQIxG5Di\n",
       "EKyWRbDkpUZFkKY8Yz2gfAPim+FgjY88P1hWwtg4JvYYWayesi5Yqc3dQB+q0O22BWvVsOkw36LV\n",
       "prl3hujF51gJf3v+Vdyzd2b4ROxQgHljyc2GMz/hkPrv8TQ+TXBSkPohT38cpLo32TGb3FLSmL/m\n",
       "pucbglRFjifK/Awmi/V1gMMWXWpzN9gxe8hrS2MY2YsPrtHp8fbHSIH+vWg/gjnzMxY+yLdMXgNG\n",
       "FXxP6sR3gWO9Dk+TrWXSAnWSB0yVTwhfpKzjdqJWrym5qBgSq0nGpn0Z8h4NIFOF19o54mj2tZkb\n",
       "uBCkOpG6gP4IwOmWX4XirA4e3QNzuAerBj5KOWZLViqO7GaqKx2o3xk3eyPHjx4D57sgSC9hOrXL\n",
       "M+TH0NEzrpbE1ZIYT7mvwPtg/Y2rWcHs1xw9Upu5sUp8TtSTlfajh8/JqLo/n4U+nJhSHmc6VubF\n",
       "DfZIWG+c//JS6Ji98NgFYgzNJkqid0PC0sIhO/ghMIvhH+PgMgLSEGt/6HhpfqXpgnW/jXZnN9o5\n",
       "arNEtZkbixv4bXAQmD8CYHp+tQejy2A323GyvNRP5P1FKPBlidkS/9IuxumwBEL5nFY12C6KDybK\n",
       "+UYZswPfFpVI0y6GtB9U/VmUbSyaJbtz3O7J1XLkAttJFzBux7yeJ7xxu8COcKVv1/XhUpqhpj3R\n",
       "snboe0ZHdk0BjlkZDTb9JsHzsFjXcDTarupPs80vg8xVj7v07cB5coFP52rkEh+4fpBeGnfziWfV\n",
       "Qp9rhUZKPz3LHJpPvNhkK/iJiMHegtd1HI22q/gjIF5Ulc/dtJ1w5J3yzjEFUZII5vgYZBde0Ov2\n",
       "coRkDMxpWzFKBZfzzGxJxwlr51V/BHghvYrdALs17FRjt3KnliBHIkouhhq5SOV8mSEsKifM13Mi\n",
       "tC8q4P9LafI0oZfsQkO5++/IP5x3zmz2xVwpAAAAAElFTkSuQmCC\n",
       "\" style=\"display:inline;vertical-align:middle;\" /></a><br>"
      ],
      "text/plain": [
       "binarySubstitution: forall_{f, x, y, a, b} (((x = a) and (y = b)) => (f(x , y) = f(a , b)))"
      ]
     },
     "execution_count": 16,
     "metadata": {},
     "output_type": "execute_result"
    }
   ],
   "source": [
    "binarySubstitution = Forall((f, x, y, a, b), Implies(And(Equals(x, a), Equals(y, b)), Equals(fxy, fab)))"
   ]
  },
  {
   "cell_type": "code",
   "execution_count": 17,
   "metadata": {},
   "outputs": [
    {
     "data": {
      "text/html": [
       "<strong id=\"binaryEvaluation\"><a class=\"ProveItLink\" href=\"_proofs_/binaryEvaluation.ipynb\">binaryEvaluation</a>:</strong> <a class=\"ProveItLink\" href=\"__pv_it/df21b20251d6889011e537e2ec40e0a99f1e03f50/expr.ipynb\"><img src=\"data:image/png;base64,iVBORw0KGgoAAAANSUhEUgAAAlEAAAAXBAMAAADZzAe1AAAAMFBMVEX///8QEBC6urrMzMxUVFRm\n",
       "ZmZERETc3NwyMjKqqqp2dnaIiIiYmJgiIiLu7u4AAAAU9Wx4AAAAAXRSTlMAQObYZgAABllJREFU\n",
       "WMPtWW9oHEUUf3t7f3N3e6Ffai2VEwoKRXOCWASh0VKj5INBBWtr8UBJtY14H6oJiPYoLamiJSAB\n",
       "oR9yKEHbs2VpIkgi9SiBSopyoK0gCBupUgtyR4It0iM4M29md2d25ux9tg9+tzuTeb/5zezbmTcb\n",
       "gDt2m+b17hJzEbDN3OaCzklvuSKiS0cmDr2bvjasViPmgnEYAk1acamnmXqYwx40t0mUNE5Ru7qF\n",
       "/DzHYewInOGhCIfvGjVtLaq9Ol/Ri4kI9msFTtGKEz3N1AmOdLd4rPLreyEnjR2lPBzGjiB5qhPl\n",
       "OGpy09ei2gMzDYOYqnEYHG+TS6rcy0RlXQQsdmu1zK/HAied/UPflhpCXRD8jqD14FSUQ7hqXj8N\n",
       "Gap1Vv80iVk2DoODTnViqpeZsjwE3NOt1QqP+Tc830m3Eq1T+f0IUMLP7whmNBy+a9R0ZKg20zaK\n",
       "WTEOgyP3+fj4uz29fPdzxKrdWiVx9uPbXN9JY31smXydg9tWpSOAfRqOwDVqGjJUm2gaxSSnTLUC\n",
       "N0ZHf+lppvZwJEiMp+pDJ/cqf08Nf7qRDGSEFa7hlkEdnNkaHFaeZnp4nqwbs4AQc+DKHcHSll2i\n",
       "jOSyq2TX63NaMqoWco//NCKIfOVcFxcciszTiyVWK7ATYH9PM/UhR5oIvQ7fN+gelDjOjG0v91aS\n",
       "JMYzGHFfwovCqS/Whm/p/W7W9ihbgMqwBvAJICDxK7O/5Y4AbvllJJddw4T2BvhIS0bVAhRcQSSU\n",
       "+7qY4PA4Hiqmm6xWYCs4tI2zy5TwxI7L5Q0cFklbaqSPj5WQ6kCC7BAxXCuaMCGcHiWhP6pwz3hw\n",
       "Nxk+IIRljkgdQWpNlDm57CqtKy6MackslmQdLgniQDnXFVOWPGczJBusViAPWTrdiYURUxApEb7K\n",
       "USjSneVJtXW8DXky6TZ79DkX4iXu5FkuD47AdgOQZ74DEL5d2xDuiK/D9J6Ty65he4b9asgKxWBr\n",
       "WIWwcq7LbkfGAVgrkG3k6eKRLxpft/fNMwWwWW1dKEOrJDom1JjxrbIosNeUxpch1onOlP2BJ80U\n",
       "Lt70npPLrmG7EZkpToZqz/gjCClHXepMFcrqTDlVlrEWzGnkTbm4icOawhfDCdYESn7YJU/O48E8\n",
       "TTApnHZDllXuY22vYE6UWA+9fZzmiid1BMlBUebksmuIMIVBqyFjauFVn1go93UxwfI4AKS3D/Y/\n",
       "QV+TN+lG0De/bSc9IZUx+3hr4RXa+NY87ez3Og/7MQ7yFsPFbBvOyxPZmoKnMiXIsRV9ks8Wczgm\n",
       "hhzYGlhkT/oOEGJlGZQ7AssVZSR3ZNewkTDLacmSjSCOKCkqd8DXlVOSngJxaLBaAZhmsc3Iz8bL\n",
       "ZL4d96ZNp9D5OUWzu2wzR4icH2PtYNmiIBtnppPsTyk7QbqRudzHswSbPpy8cHoeBhrKwJ4mlZEs\n",
       "YQLkjqBVFGUkbzUl17CRdOIzLRnT46wKIq6cMaEuNUuIj0CfnCXwJ8bIi2wvTf3WzJZZW5sSJd0c\n",
       "ucQHHb5APMARa4Jz8OzpbyLp1LlHzpEx0dHFi+LsQB3+WHy5op6Qv6IdHuHgJpIW0REMeKKM5Cs3\n",
       "JVfpSFtf9LRksabI6xkRV86YUFdaXaj3LJ7HWgHIeSIiScixocRrcZctglkaulaJbswFn8iqIGDj\n",
       "f55mYuy2yJ3Egqo7fIQPICW1o6+DMtp9unOL/jTjfyKgarNVhYgznbmd00w4SyLZFmO2iha9tLzk\n",
       "D4SzAHny9FqV8PmTnUGXu81UPXJojTedTfojjRuk0upBlyA3OKYefBtqBh4l1J11l3CxCp+gSQXX\n",
       "VTcOoy791VmH1KTd/gJqqUkSRQPkBa9Y3o7HvIlKnqS85LcEZ3v46uJUI19Q8rWk9uRPTjwIw1cX\n",
       "60RTPe02wq56Qt1Xl7v+inwCIkyoy6mahiEgso5+sDvOwekFz+5AZvg1kpM0YnsvvcQuNfKbGl4Q\n",
       "E3OII9XlS15cXZEOQWbxWX3bIY6IYUe52UqozD7HSK56wogRtcsvKESMCXVFBPvDEBCRPsK2V3YL\n",
       "4zAcPLiG/BRpny4C3jHP1FxEqPHrcLaE0AzOlf0iHHo3fW1YrUbMnHEYc9Jf00uEfTveb4cD9BOF\n",
       "jdOIF7ty5z8OYnMNB9HJBQhFWPD7v7Z/ATcAORwrt3NeAAAAAElFTkSuQmCC\n",
       "\" style=\"display:inline;vertical-align:middle;\" /></a><br>"
      ],
      "text/plain": [
       "binaryEvaluation: forall_{f, x, y, a, b, c} (((x = a) and (y = b)) => ((f(a , b) = c) => (f(x , y) = c)))"
      ]
     },
     "execution_count": 17,
     "metadata": {},
     "output_type": "execute_result"
    }
   ],
   "source": [
    "binaryEvaluation = Forall((f, x, y, a, b, c), Implies(And(Equals(x, a), Equals(y, b)), Implies(Equals(fab, c), Equals(fxy, c))))"
   ]
  },
  {
   "cell_type": "code",
   "execution_count": 18,
   "metadata": {},
   "outputs": [
    {
     "data": {
      "text/html": [
       "<strong id=\"notEqualsInBool\"><a class=\"ProveItLink\" href=\"_proofs_/notEqualsInBool.ipynb\">notEqualsInBool</a>:</strong> <a class=\"ProveItLink\" href=\"__pv_it/0964cdb517a602567f119a9610542d8c3e2df75c0/expr.ipynb\"><img src=\"data:image/png;base64,iVBORw0KGgoAAAANSUhEUgAAAKYAAAAWCAMAAAB9nBcwAAAAPFBMVEX///8LCwsYGBgNDQ0oKCgQ\n",
       "EBC6urrMzMxUVFRmZmZERETc3NwyMjKqqqp2dnaIiIiYmJgiIiLu7u4AAACwKje0AAAAAXRSTlMA\n",
       "QObYZgAAAoRJREFUSMfVV8cW3CAMJIXe4f//NYiyNhhYnFOiw+rZHpvRSEIsQv+HhfevENv7pRk5\n",
       "uenIu9UK3l/X9uw9ynq/NKmmtzn9EpyKQkWFvdAX3uj2WB0K23Bf8Wyhm/q2goBEBRWM+eClaLGL\n",
       "M5bW9v6tmClt5oQmsqQGlPFNFK7PaOLQ+9diooD7S6t8MjXS1A6x8ME7I7P5w/5RvV+X8Do74q4I\n",
       "VS4s1GwJzvgowLw5o8lN76WxTGrLHyUguk4JJr8gI1Ay/FYaIsyTTr1rjzKe5e8JedhArvMhLe68\n",
       "Q/iTDK6y/f4Fv5/NwCASoaDhB+l7guW0Nr2PEbfQM57At4I63MYw6bypa2u6FZNqxCEQkdNIruIM\n",
       "Yt1CVteHBQ/vW3dIM5LOQ1rYZCnCxiGStYlZIBovHPbVHi0ErlRWwQNFH/6OZhZ2sjWpMZcaqpJG\n",
       "OtCczogPTSRuNFPCGzr1A7GMtmEonhsP1r2HtqD3octBmp8/ikSXzhzUshiNSfcHNCteyLrHmQAZ\n",
       "rAyCRVEiiodPuM47WdrChr2YSEG3iqKGuyWYuQ3NmvSK17zGRK5OTioFkm7bofDaZlK8jg6JFIi0\n",
       "u8rMaqZbJLruG0VOsqDpeFu74W/VFW86sBQMGwqP+LsPwpo0escGfIoJSMvrxxXpZupwFilHD+Ex\n",
       "a3XV8NccgBzT++aDx50Gy95PTPPF2cfPhiXSTPWdvh+u0FFG5b1QZj0SRRJXB4fNAWKybTAPy+na\n",
       "p+9OnCM+JUbzlEUg7HKYVqj3B7mZmDCLRQnseJI0Vjt8oinlszShmFjvT8REOlVmrTAm39Hc4anM\n",
       "0U/PQa2t5SJ5+38Rlr5jucW7ooBB/4b9AfILHlxEhVHRAAAAAElFTkSuQmCC\n",
       "\" style=\"display:inline;vertical-align:middle;\" /></a><br>"
      ],
      "text/plain": [
       "notEqualsInBool: forall_{x, y} ((x != y) in BOOLEANS)"
      ]
     },
     "execution_count": 18,
     "metadata": {},
     "output_type": "execute_result"
    }
   ],
   "source": [
    "# Proven\n",
    "notEqualsInBool = Forall((x, y), inBool(NotEquals(x, y)))"
   ]
  },
  {
   "cell_type": "code",
   "execution_count": 19,
   "metadata": {},
   "outputs": [
    {
     "data": {
      "text/html": [
       "<strong id=\"contradictionViaFalsification\"><a class=\"ProveItLink\" href=\"_proofs_/contradictionViaFalsification.ipynb\">contradictionViaFalsification</a>:</strong> <a class=\"ProveItLink\" href=\"__pv_it/711406ee4de4210b672a89c5c3b44d688a3bf5740/expr.ipynb\"><img src=\"data:image/png;base64,iVBORw0KGgoAAAANSUhEUgAAAHoAAAAWBAMAAAD9QZX2AAAAMFBMVEX///8QEBC6urrMzMxUVFRm\n",
       "ZmZERETc3NwyMjKqqqp2dnaIiIiYmJgiIiLu7u4AAAAU9Wx4AAAAAXRSTlMAQObYZgAAAUBJREFU\n",
       "OMtjeMBACbgAIk6TobEaRKwEEX1k6DYFEWVAzJ5Arm4OoMdZJ5Crm2d5eXktA7m6Gb6lpd0iX7cz\n",
       "A0M6mNEOJplgshwFUEY7Pt0qDHwNYC98AnPZYLLnFSA0VBxVEq6bl4H7AIh++gdFAV/8AQgDKo5D\n",
       "N/cBXnB6W3cVRQHX2wAIAyqOQzdfgwmIYt6QhqLAmg2SCGDiOHQzpDuBSBaGWBQFDqzgNAwWZ+kA\n",
       "gm7suqeClZ1k2I+sm2cC9wcGZHFcdjNuALn/amj+AyQFb0PD/jEgi6Pqjr179+Ldu9dA1oBkWQsY\n",
       "7A2QFIQzMH9mgImzYXM5MtBhYOA/gNDNBGT/YagoQIhjuBwJPPnGwO5/B66Azz+BoeTvAfsDCHEg\n",
       "CEtLTEtbgDf5ohh/gNTEj6ybuYAS3TwkZzwWUhQDAGnNVZlqQOU7AAAAAElFTkSuQmCC\n",
       "\" style=\"display:inline;vertical-align:middle;\" /></a><br>"
      ],
      "text/plain": [
       "contradictionViaFalsification: forall_{A | A , A = FALSE} FALSE"
      ]
     },
     "execution_count": 19,
     "metadata": {},
     "output_type": "execute_result"
    }
   ],
   "source": [
    "contradictionViaFalsification = Forall(A, FALSE, conditions=[A, Equals(A, FALSE)])"
   ]
  },
  {
   "cell_type": "code",
   "execution_count": 20,
   "metadata": {},
   "outputs": [
    {
     "name": "stdout",
     "output_type": "stream",
     "text": [
      "Theorems may be imported from autogenerated _theorems_.py\n"
     ]
    }
   ],
   "source": [
    "%end theorems"
   ]
  },
  {
   "cell_type": "code",
   "execution_count": null,
   "metadata": {},
   "outputs": [],
   "source": []
  }
 ],
 "metadata": {
  "kernelspec": {
   "display_name": "Python 3",
   "language": "python",
   "name": "python3"
  }
 },
 "nbformat": 4,
 "nbformat_minor": 0
}
