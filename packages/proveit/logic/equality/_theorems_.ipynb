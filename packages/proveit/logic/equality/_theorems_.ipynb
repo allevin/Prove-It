{
 "cells": [
  {
   "cell_type": "markdown",
   "metadata": {
    "collapsed": true
   },
   "source": [
    "Theorems for context <a href=\"_context_.ipynb\" class=\"ProveItLink\">proveit.logic.equality</a>\n",
    "========"
   ]
  },
  {
   "cell_type": "code",
   "execution_count": 1,
   "metadata": {},
   "outputs": [
    {
     "name": "stdout",
     "output_type": "stream",
     "text": [
      "Defining theorems for context 'proveit.logic.equality'\n",
      "Subsequent end-of-cell assignments will define theorems\n",
      "'%end theorems' will finalize the definitions\n"
     ]
    }
   ],
   "source": [
    "from proveit import Iter, Indexed\n",
    "from proveit.logic import Equals, NotEquals, Implies, Not, And, Forall, FALSE, inBool\n",
    "from proveit._common_ import A, a, b, c, i, n, x, y, z, xx, yy, f, P, fa, fab, fx, fxy, Px, Py, Q\n",
    "from proveit.logic._common_ import PofTrue, PofFalse, xIter1n, yIter1n, f_xIter1l, f_yIter1l\n",
    "from proveit.number import NaturalsPos, one\n",
    "%begin theorems"
   ]
  },
  {
   "cell_type": "markdown",
   "metadata": {},
   "source": [
    "### Substitution or equivalence with a statement that is known to be true (left-hand side)"
   ]
  },
  {
   "cell_type": "code",
   "execution_count": 2,
   "metadata": {},
   "outputs": [
    {
     "data": {
      "text/html": [
       "<strong id=\"subLeftSideInto\"><a class=\"ProveItLink\" href=\"_proofs_/subLeftSideInto.ipynb\">subLeftSideInto</a>:</strong> <a class=\"ProveItLink\" href=\"__pv_it/0ff28639b67648f982114c9abc0eb1af3cbddacb0/expr.ipynb\"><img src=\"__pv_it/0ff28639b67648f982114c9abc0eb1af3cbddacb0/expr.png\" style=\"display:inline;vertical-align:middle;\" /></a><br>"
      ],
      "text/plain": [
       "subLeftSideInto: forall_{P, x, y | P(y) , x = y} P(x)"
      ]
     },
     "execution_count": 2,
     "metadata": {},
     "output_type": "execute_result"
    }
   ],
   "source": [
    "subLeftSideInto = Forall((P, x, y), Px, conditions=[Py, Equals(x, y)])"
   ]
  },
  {
   "cell_type": "code",
   "execution_count": 3,
   "metadata": {},
   "outputs": [
    {
     "data": {
      "text/html": [
       "<strong id=\"lhsViaEquivalence\"><a class=\"ProveItLink\" href=\"_proofs_/lhsViaEquivalence.ipynb\">lhsViaEquivalence</a>:</strong> <a class=\"ProveItLink\" href=\"__pv_it/20e88ce75ad82ac426b1e24a0c22cab3a686b0da0/expr.ipynb\"><img src=\"__pv_it/20e88ce75ad82ac426b1e24a0c22cab3a686b0da0/expr.png\" style=\"display:inline;vertical-align:middle;\" /></a><br>"
      ],
      "text/plain": [
       "lhsViaEquivalence: forall_{P, Q | Q , P = Q} P"
      ]
     },
     "execution_count": 3,
     "metadata": {},
     "output_type": "execute_result"
    }
   ],
   "source": [
    "lhsViaEquivalence = Forall((P, Q), P, conditions=[Q, Equals(P, Q)])"
   ]
  },
  {
   "cell_type": "markdown",
   "metadata": {},
   "source": [
    "### Applying symmetry, we can reverse any known equality:"
   ]
  },
  {
   "cell_type": "code",
   "execution_count": 4,
   "metadata": {},
   "outputs": [
    {
     "data": {
      "text/html": [
       "<strong id=\"equalsReversal\"><a class=\"ProveItLink\" href=\"_proofs_/equalsReversal.ipynb\">equalsReversal</a>:</strong> <a class=\"ProveItLink\" href=\"__pv_it/fd70c6305343d60fc073d5325caa2ef867e523a70/expr.ipynb\"><img src=\"__pv_it/fd70c6305343d60fc073d5325caa2ef867e523a70/expr.png\" style=\"display:inline;vertical-align:middle;\" /></a><br>"
      ],
      "text/plain": [
       "equalsReversal: forall_{x, y | x = y} (y = x)"
      ]
     },
     "execution_count": 4,
     "metadata": {},
     "output_type": "execute_result"
    }
   ],
   "source": [
    "equalsReversal = Forall((x, y), Equals(y, x), conditions=[Equals(x, y)])"
   ]
  },
  {
   "cell_type": "markdown",
   "metadata": {},
   "source": [
    "### Substitution or equivalence with a statement that is known to be true (right-hand side)"
   ]
  },
  {
   "cell_type": "code",
   "execution_count": 5,
   "metadata": {},
   "outputs": [
    {
     "data": {
      "text/html": [
       "<strong id=\"subRightSideInto\"><a class=\"ProveItLink\" href=\"_proofs_/subRightSideInto.ipynb\">subRightSideInto</a>:</strong> <a class=\"ProveItLink\" href=\"__pv_it/d2795a85c0a66aceb345def59505c50a35921a020/expr.ipynb\"><img src=\"__pv_it/d2795a85c0a66aceb345def59505c50a35921a020/expr.png\" style=\"display:inline;vertical-align:middle;\" /></a><br>"
      ],
      "text/plain": [
       "subRightSideInto: forall_{P, x, y | P(x) , x = y} P(y)"
      ]
     },
     "execution_count": 5,
     "metadata": {},
     "output_type": "execute_result"
    }
   ],
   "source": [
    "subRightSideInto = Forall((P, x, y), Py, conditions=[Px, Equals(x, y)])"
   ]
  },
  {
   "cell_type": "code",
   "execution_count": 6,
   "metadata": {},
   "outputs": [
    {
     "data": {
      "text/html": [
       "<strong id=\"rhsViaEquivalence\"><a class=\"ProveItLink\" href=\"_proofs_/rhsViaEquivalence.ipynb\">rhsViaEquivalence</a>:</strong> <a class=\"ProveItLink\" href=\"__pv_it/5519e736e5532a5ae5ff775c349b2696cf5476500/expr.ipynb\"><img src=\"__pv_it/5519e736e5532a5ae5ff775c349b2696cf5476500/expr.png\" style=\"display:inline;vertical-align:middle;\" /></a><br>"
      ],
      "text/plain": [
       "rhsViaEquivalence: forall_{P, Q | P , P = Q} Q"
      ]
     },
     "execution_count": 6,
     "metadata": {},
     "output_type": "execute_result"
    }
   ],
   "source": [
    "rhsViaEquivalence = Forall((P, Q), Q, conditions=[P, Equals(P, Q)])"
   ]
  },
  {
   "cell_type": "markdown",
   "metadata": {},
   "source": [
    "### Special substitution involving Booleans"
   ]
  },
  {
   "cell_type": "code",
   "execution_count": 7,
   "metadata": {},
   "outputs": [
    {
     "data": {
      "text/html": [
       "<strong id=\"substituteInTrue\"><a class=\"ProveItLink\" href=\"_proofs_/substituteInTrue.ipynb\">substituteInTrue</a>:</strong> <a class=\"ProveItLink\" href=\"__pv_it/a65ef73dccd38b32bb09c7c1d81e05ac5bbb34600/expr.ipynb\"><img src=\"__pv_it/a65ef73dccd38b32bb09c7c1d81e05ac5bbb34600/expr.png\" style=\"display:inline;vertical-align:middle;\" /></a><br>"
      ],
      "text/plain": [
       "substituteInTrue: forall_{P, x | P(x) , x} P(TRUE)"
      ]
     },
     "execution_count": 7,
     "metadata": {},
     "output_type": "execute_result"
    }
   ],
   "source": [
    "substituteInTrue = Forall((P, x), PofTrue, conditions=[Px, x])"
   ]
  },
  {
   "cell_type": "code",
   "execution_count": 8,
   "metadata": {},
   "outputs": [
    {
     "data": {
      "text/html": [
       "<strong id=\"substituteTruth\"><a class=\"ProveItLink\" href=\"_proofs_/substituteTruth.ipynb\">substituteTruth</a>:</strong> <a class=\"ProveItLink\" href=\"__pv_it/1e114d79aed6c8943f89c10304527d77560f33e20/expr.ipynb\"><img src=\"__pv_it/1e114d79aed6c8943f89c10304527d77560f33e20/expr.png\" style=\"display:inline;vertical-align:middle;\" /></a><br>"
      ],
      "text/plain": [
       "substituteTruth: forall_{P, x | P(TRUE) , x} P(x)"
      ]
     },
     "execution_count": 8,
     "metadata": {},
     "output_type": "execute_result"
    }
   ],
   "source": [
    "substituteTruth = Forall((P, x), Px, conditions=[PofTrue, x])"
   ]
  },
  {
   "cell_type": "code",
   "execution_count": 9,
   "metadata": {},
   "outputs": [
    {
     "data": {
      "text/html": [
       "<strong id=\"substituteInFalse\"><a class=\"ProveItLink\" href=\"_proofs_/substituteInFalse.ipynb\">substituteInFalse</a>:</strong> <a class=\"ProveItLink\" href=\"__pv_it/96071f8c218dccf84842d90fb88880d7b53a7d290/expr.ipynb\"><img src=\"__pv_it/96071f8c218dccf84842d90fb88880d7b53a7d290/expr.png\" style=\"display:inline;vertical-align:middle;\" /></a><br>"
      ],
      "text/plain": [
       "substituteInFalse: forall_{P, x | P(x) , [not](x)} P(FALSE)"
      ]
     },
     "execution_count": 9,
     "metadata": {},
     "output_type": "execute_result"
    }
   ],
   "source": [
    "substituteInFalse = Forall((P, x), PofFalse, conditions=[Px, Not(x)])"
   ]
  },
  {
   "cell_type": "code",
   "execution_count": 10,
   "metadata": {},
   "outputs": [
    {
     "data": {
      "text/html": [
       "<strong id=\"substituteFalsehood\"><a class=\"ProveItLink\" href=\"_proofs_/substituteFalsehood.ipynb\">substituteFalsehood</a>:</strong> <a class=\"ProveItLink\" href=\"__pv_it/34d800ff7ea301ab48c11ae7efeae8d673343a320/expr.ipynb\"><img src=\"__pv_it/34d800ff7ea301ab48c11ae7efeae8d673343a320/expr.png\" style=\"display:inline;vertical-align:middle;\" /></a><br>"
      ],
      "text/plain": [
       "substituteFalsehood: forall_{P, x | P(FALSE) , [not](x)} P(x)"
      ]
     },
     "execution_count": 10,
     "metadata": {},
     "output_type": "execute_result"
    }
   ],
   "source": [
    "substituteFalsehood = Forall((P, x), Px, conditions=[PofFalse, Not(x)])"
   ]
  },
  {
   "cell_type": "markdown",
   "metadata": {},
   "source": [
    "### Folding and unfolding $\\neq$"
   ]
  },
  {
   "cell_type": "code",
   "execution_count": 11,
   "metadata": {},
   "outputs": [
    {
     "data": {
      "text/html": [
       "<strong id=\"unfoldNotEquals\"><a class=\"ProveItLink\" href=\"_proofs_/unfoldNotEquals.ipynb\">unfoldNotEquals</a>:</strong> <a class=\"ProveItLink\" href=\"__pv_it/bcabcb85241bffa03b17eb193708721b3448e0000/expr.ipynb\"><img src=\"__pv_it/bcabcb85241bffa03b17eb193708721b3448e0000/expr.png\" style=\"display:inline;vertical-align:middle;\" /></a><br>"
      ],
      "text/plain": [
       "unfoldNotEquals: forall_{x, y | x != y} [not](x = y)"
      ]
     },
     "execution_count": 11,
     "metadata": {},
     "output_type": "execute_result"
    }
   ],
   "source": [
    "unfoldNotEquals = Forall((x, y), Not(Equals(x, y)), conditions=[NotEquals(x, y)])"
   ]
  },
  {
   "cell_type": "code",
   "execution_count": 12,
   "metadata": {},
   "outputs": [
    {
     "data": {
      "text/html": [
       "<strong id=\"foldNotEquals\"><a class=\"ProveItLink\" href=\"_proofs_/foldNotEquals.ipynb\">foldNotEquals</a>:</strong> <a class=\"ProveItLink\" href=\"__pv_it/f22f818b9ba5ce85e3c678921cf0769fdf9ccf4d0/expr.ipynb\"><img src=\"__pv_it/f22f818b9ba5ce85e3c678921cf0769fdf9ccf4d0/expr.png\" style=\"display:inline;vertical-align:middle;\" /></a><br>"
      ],
      "text/plain": [
       "foldNotEquals: forall_{x, y | [not](x = y)} (x != y)"
      ]
     },
     "execution_count": 12,
     "metadata": {},
     "output_type": "execute_result"
    }
   ],
   "source": [
    "foldNotEquals = Forall((x, y), NotEquals(x, y), conditions=[Not(Equals(x, y))])"
   ]
  },
  {
   "cell_type": "markdown",
   "metadata": {},
   "source": [
    "**$\\neq$ is also symmetric:**"
   ]
  },
  {
   "cell_type": "code",
   "execution_count": 13,
   "metadata": {},
   "outputs": [
    {
     "data": {
      "text/html": [
       "<strong id=\"notEqualsSymmetry\"><a class=\"ProveItLink\" href=\"_proofs_/notEqualsSymmetry.ipynb\">notEqualsSymmetry</a>:</strong> <a class=\"ProveItLink\" href=\"__pv_it/d197a4f4c1304c5493cc2a9e1d7e8a13c625430e0/expr.ipynb\"><img src=\"__pv_it/d197a4f4c1304c5493cc2a9e1d7e8a13c625430e0/expr.png\" style=\"display:inline;vertical-align:middle;\" /></a><br>"
      ],
      "text/plain": [
       "notEqualsSymmetry: forall_{x, y | x != y} (y != x)"
      ]
     },
     "execution_count": 13,
     "metadata": {},
     "output_type": "execute_result"
    }
   ],
   "source": [
    "notEqualsSymmetry = Forall((x, y), NotEquals(y, x), conditions=[NotEquals(x, y)])"
   ]
  },
  {
   "cell_type": "markdown",
   "metadata": {},
   "source": [
    "**If two things are both equal and not equal, there is a contradiction:**"
   ]
  },
  {
   "cell_type": "code",
   "execution_count": 14,
   "metadata": {},
   "outputs": [
    {
     "data": {
      "text/html": [
       "<strong id=\"notEqualsContradiction\"><a class=\"ProveItLink\" href=\"_proofs_/notEqualsContradiction.ipynb\">notEqualsContradiction</a>:</strong> <a class=\"ProveItLink\" href=\"__pv_it/18f3ac17ac616a5b476935df168256b420b608340/expr.ipynb\"><img src=\"__pv_it/18f3ac17ac616a5b476935df168256b420b608340/expr.png\" style=\"display:inline;vertical-align:middle;\" /></a><br>"
      ],
      "text/plain": [
       "notEqualsContradiction: forall_{x, y | x = y , x != y} FALSE"
      ]
     },
     "execution_count": 14,
     "metadata": {},
     "output_type": "execute_result"
    }
   ],
   "source": [
    "notEqualsContradiction = Forall((x, y), FALSE, conditions=[Equals(x, y), NotEquals(x, y)]) "
   ]
  },
  {
   "cell_type": "code",
   "execution_count": null,
   "metadata": {},
   "outputs": [],
   "source": []
  },
  {
   "cell_type": "code",
   "execution_count": null,
   "metadata": {},
   "outputs": [],
   "source": []
  },
  {
   "cell_type": "code",
   "execution_count": 15,
   "metadata": {},
   "outputs": [
    {
     "data": {
      "text/html": [
       "<strong id=\"unaryEvaluation\"><a class=\"ProveItLink\" href=\"_proofs_/unaryEvaluation.ipynb\">unaryEvaluation</a>:</strong> <a class=\"ProveItLink\" href=\"__pv_it/b586734fb70bd6c9f4205450b0f7e1eb4ec2d1e60/expr.ipynb\"><img src=\"__pv_it/b586734fb70bd6c9f4205450b0f7e1eb4ec2d1e60/expr.png\" style=\"display:inline;vertical-align:middle;\" /></a><br>"
      ],
      "text/plain": [
       "unaryEvaluation: forall_{f, x, a, c} ((x = a) => ((f(a) = c) => (f(x) = c)))"
      ]
     },
     "execution_count": 15,
     "metadata": {},
     "output_type": "execute_result"
    }
   ],
   "source": [
    "unaryEvaluation = Forall((f, x, a, c), Implies(Equals(x, a), Implies(Equals(fa, c), Equals(fx, c))))"
   ]
  },
  {
   "cell_type": "code",
   "execution_count": 16,
   "metadata": {},
   "outputs": [
    {
     "data": {
      "text/html": [
       "<strong id=\"binarySubstitution\"><a class=\"ProveItLink\" href=\"_proofs_/binarySubstitution.ipynb\">binarySubstitution</a>:</strong> <a class=\"ProveItLink\" href=\"__pv_it/e914866208f2f10eb06918ea06b5814b8256a3f30/expr.ipynb\"><img src=\"__pv_it/e914866208f2f10eb06918ea06b5814b8256a3f30/expr.png\" style=\"display:inline;vertical-align:middle;\" /></a><br>"
      ],
      "text/plain": [
       "binarySubstitution: forall_{f, x, y, a, b} (((x = a) and (y = b)) => (f(x , y) = f(a , b)))"
      ]
     },
     "execution_count": 16,
     "metadata": {},
     "output_type": "execute_result"
    }
   ],
   "source": [
    "binarySubstitution = Forall((f, x, y, a, b), Implies(And(Equals(x, a), Equals(y, b)), Equals(fxy, fab)))"
   ]
  },
  {
   "cell_type": "code",
   "execution_count": 17,
   "metadata": {},
   "outputs": [
    {
     "data": {
      "text/html": [
       "<strong id=\"binaryEvaluation\"><a class=\"ProveItLink\" href=\"_proofs_/binaryEvaluation.ipynb\">binaryEvaluation</a>:</strong> <a class=\"ProveItLink\" href=\"__pv_it/9b1f6bdbaf6ce6ac864e31a7fa2672624f5067010/expr.ipynb\"><img src=\"__pv_it/9b1f6bdbaf6ce6ac864e31a7fa2672624f5067010/expr.png\" style=\"display:inline;vertical-align:middle;\" /></a><br>"
      ],
      "text/plain": [
       "binaryEvaluation: forall_{f, x, y, a, b, c} (((x = a) and (y = b)) => ((f(a , b) = c) => (f(x , y) = c)))"
      ]
     },
     "execution_count": 17,
     "metadata": {},
     "output_type": "execute_result"
    }
   ],
   "source": [
    "binaryEvaluation = Forall((f, x, y, a, b, c), Implies(And(Equals(x, a), Equals(y, b)), Implies(Equals(fab, c), Equals(fxy, c))))"
   ]
  },
  {
   "cell_type": "code",
   "execution_count": 18,
   "metadata": {},
   "outputs": [
    {
     "data": {
      "text/html": [
       "<strong id=\"notEqualsInBool\"><a class=\"ProveItLink\" href=\"_proofs_/notEqualsInBool.ipynb\">notEqualsInBool</a>:</strong> <a class=\"ProveItLink\" href=\"__pv_it/85fbfa28c6dc73efdc8223aad827245c662cb0680/expr.ipynb\"><img src=\"__pv_it/85fbfa28c6dc73efdc8223aad827245c662cb0680/expr.png\" style=\"display:inline;vertical-align:middle;\" /></a><br>"
      ],
      "text/plain": [
       "notEqualsInBool: forall_{x, y} ((x != y) in BOOLEANS)"
      ]
     },
     "execution_count": 18,
     "metadata": {},
     "output_type": "execute_result"
    }
   ],
   "source": [
    "notEqualsInBool = Forall((x, y), inBool(NotEquals(x, y)))"
   ]
  },
  {
   "cell_type": "code",
   "execution_count": 19,
   "metadata": {},
   "outputs": [
    {
     "data": {
      "text/html": [
       "<strong id=\"contradictionViaFalsification\"><a class=\"ProveItLink\" href=\"_proofs_/contradictionViaFalsification.ipynb\">contradictionViaFalsification</a>:</strong> <a class=\"ProveItLink\" href=\"__pv_it/622dc6cff3844eef9daf02074c1d8f1a3ceb86310/expr.ipynb\"><img src=\"__pv_it/622dc6cff3844eef9daf02074c1d8f1a3ceb86310/expr.png\" style=\"display:inline;vertical-align:middle;\" /></a><br>"
      ],
      "text/plain": [
       "contradictionViaFalsification: forall_{A | A , A = FALSE} FALSE"
      ]
     },
     "execution_count": 19,
     "metadata": {},
     "output_type": "execute_result"
    }
   ],
   "source": [
    "contradictionViaFalsification = Forall(A, FALSE, conditions=[A, Equals(A, FALSE)])"
   ]
  },
  {
   "cell_type": "code",
   "execution_count": 26,
   "metadata": {},
   "outputs": [
    {
     "data": {
      "text/html": [
       "<a class=\"ProveItLink\" href=\"__pv_it/ca3a8cabf019f4f0464c5eeabbbfdefab0f642d00/expr.ipynb\"><img src=\"__pv_it/ca3a8cabf019f4f0464c5eeabbbfdefab0f642d00/expr.png\" style=\"display:inline;vertical-align:middle;\" /></a>"
      ],
      "text/plain": [
       "forall_{n in NaturalsPos} [forall_{f, x_1,...,x_n, y_1,...,y_n | x_1 = y_1 ,  ...  , x_n = y_n} (f(x_1,...,x_n) = f(y_1,...,y_n))]"
      ]
     },
     "execution_count": 26,
     "metadata": {},
     "output_type": "execute_result"
    }
   ],
   "source": [
    "multiSubstitution = ...\n",
    "Forall(\n",
    "  (n), Forall(\n",
    "    (f, xIter1n, yIter1n),\n",
    "    Equals(f_xIter1l, f_yIter1l),\n",
    "    conditions=[Iter(i, Equals(Indexed(xx,i), Indexed(yy, i)), one, n)]\n",
    "  ), domain = NaturalsPos\n",
    ")"
   ]
  },
  {
   "cell_type": "code",
   "execution_count": 23,
   "metadata": {},
   "outputs": [
    {
     "name": "stdout",
     "output_type": "stream",
     "text": [
      "Theorems may be imported from autogenerated _theorems_.py\n"
     ]
    }
   ],
   "source": [
    "%end theorems"
   ]
  },
  {
   "cell_type": "code",
   "execution_count": null,
   "metadata": {},
   "outputs": [],
   "source": []
  }
 ],
 "metadata": {
  "kernelspec": {
   "display_name": "Python 3",
   "language": "python",
   "name": "python3"
  },
  "language_info": {
   "codemirror_mode": {
    "name": "ipython",
    "version": 3
   },
   "file_extension": ".py",
   "mimetype": "text/x-python",
   "name": "python",
   "nbconvert_exporter": "python",
   "pygments_lexer": "ipython3",
   "version": "3.7.1"
  }
 },
 "nbformat": 4,
 "nbformat_minor": 1
}
