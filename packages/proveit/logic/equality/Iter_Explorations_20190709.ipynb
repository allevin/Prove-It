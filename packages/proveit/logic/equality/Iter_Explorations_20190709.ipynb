{
 "cells": [
  {
   "cell_type": "code",
   "execution_count": 103,
   "metadata": {},
   "outputs": [],
   "source": [
    "import proveit\n",
    "from proveit import Iter, varIter, Indexed, Variable, ExprList\n",
    "from proveit.logic.equality._axioms_ import substitution\n",
    "from proveit.logic import Equals\n",
    "from proveit._common_ import i, j, n, x, y\n",
    "from proveit.number import one, two, three, four, five, num, Mult"
   ]
  },
  {
   "cell_type": "code",
   "execution_count": 20,
   "metadata": {},
   "outputs": [
    {
     "data": {
      "text/html": [
       "<strong id=\"theParam\">theParam:</strong> <a class=\"ProveItLink\" href=\"__pv_it/5deaeb6e0feb3571902315d4b955e344b09c06710/expr.ipynb\"><img src=\"__pv_it/5deaeb6e0feb3571902315d4b955e344b09c06710/expr.png\" style=\"display:inline;vertical-align:middle;\" /></a><br>"
      ],
      "text/plain": [
       "theParam: _X_"
      ]
     },
     "execution_count": 20,
     "metadata": {},
     "output_type": "execute_result"
    }
   ],
   "source": [
    "theParam = Variable('_X_', latexFormat = r'{_{-}' + 'X' + r'_{-}}')"
   ]
  },
  {
   "cell_type": "code",
   "execution_count": 21,
   "metadata": {},
   "outputs": [
    {
     "data": {
      "text/html": [
       "<a class=\"ProveItLink\" href=\"__pv_it/4ebf5789ca758c0150358692dafb983b354564030/expr.ipynb\"><img src=\"__pv_it/4ebf5789ca758c0150358692dafb983b354564030/expr.png\" style=\"display:inline;vertical-align:middle;\" /></a>"
      ],
      "text/plain": [
       "x__X_"
      ]
     },
     "execution_count": 21,
     "metadata": {},
     "output_type": "execute_result"
    }
   ],
   "source": [
    "Indexed(x, theParam)"
   ]
  },
  {
   "cell_type": "code",
   "execution_count": 41,
   "metadata": {},
   "outputs": [
    {
     "data": {
      "text/html": [
       "<strong id=\"myIter\">myIter:</strong> <a class=\"ProveItLink\" href=\"__pv_it/ce09338ddf0b44aefd3b49d84437fb7e7b17d1f20/expr.ipynb\"><img src=\"__pv_it/ce09338ddf0b44aefd3b49d84437fb7e7b17d1f20/expr.png\" style=\"display:inline;vertical-align:middle;\" /></a><br>"
      ],
      "text/plain": [
       "myIter: x_1,...,x_4"
      ]
     },
     "execution_count": 41,
     "metadata": {},
     "output_type": "execute_result"
    }
   ],
   "source": [
    "myIter = Iter(i, Indexed(x, i), num(1), num(4))"
   ]
  },
  {
   "cell_type": "code",
   "execution_count": 94,
   "metadata": {},
   "outputs": [
    {
     "data": {
      "text/html": [
       "<strong id=\"myIter02\">myIter02:</strong> <a class=\"ProveItLink\" href=\"__pv_it/8b08ceaf70d7e416e07de4e99ce67022859dd7a50/expr.ipynb\"><img src=\"__pv_it/8b08ceaf70d7e416e07de4e99ce67022859dd7a50/expr.png\" style=\"display:inline;vertical-align:middle;\" /></a><br>"
      ],
      "text/plain": [
       "myIter02: x_(1 , 1),...,x_(4 , 3)"
      ]
     },
     "execution_count": 94,
     "metadata": {},
     "output_type": "execute_result"
    }
   ],
   "source": [
    "myIter02 = Iter([i, j], Indexed(x, [i, j]), [num(1), num(1)], [num(4), num(3)])"
   ]
  },
  {
   "cell_type": "code",
   "execution_count": 77,
   "metadata": {},
   "outputs": [
    {
     "data": {
      "text/html": [
       "<strong id=\"myIter03\">myIter03:</strong> <a class=\"ProveItLink\" href=\"__pv_it/c299677e3e729aeb91057b8e7bf06e6011c565860/expr.ipynb\"><img src=\"__pv_it/c299677e3e729aeb91057b8e7bf06e6011c565860/expr.png\" style=\"display:inline;vertical-align:middle;\" /></a><br>"
      ],
      "text/plain": [
       "myIter03: (x_1 * y_1),...,(x_4 * y_3)"
      ]
     },
     "execution_count": 77,
     "metadata": {},
     "output_type": "execute_result"
    }
   ],
   "source": [
    "myIter03 = Iter([i, j], Mult(Indexed(x, i), Indexed(y, j)), [num(1), num(1)], [num(4), num(3)])"
   ]
  },
  {
   "cell_type": "code",
   "execution_count": 108,
   "metadata": {},
   "outputs": [
    {
     "data": {
      "text/html": [
       "<strong id=\"myIter04\">myIter04:</strong> <a class=\"ProveItLink\" href=\"__pv_it/8b08ceaf70d7e416e07de4e99ce67022859dd7a50/expr.ipynb\"><img src=\"__pv_it/8b08ceaf70d7e416e07de4e99ce67022859dd7a50/expr.png\" style=\"display:inline;vertical-align:middle;\" /></a><br>"
      ],
      "text/plain": [
       "myIter04: x_(1 , 1),...,x_(4 , 3)"
      ]
     },
     "execution_count": 108,
     "metadata": {},
     "output_type": "execute_result"
    }
   ],
   "source": [
    "myIter04 = Iter([i, j], Indexed(x, [i, j]), [num(1), num(1)], [num(4), num(3)])"
   ]
  },
  {
   "cell_type": "code",
   "execution_count": 72,
   "metadata": {},
   "outputs": [
    {
     "data": {
      "text/html": [
       "<a class=\"ProveItLink\" href=\"../../number/numeral/__pv_it/23412ce59ea7e77353d2f9225e02248e73651ca00/expr.ipynb\"><img src=\"../../number/numeral/__pv_it/23412ce59ea7e77353d2f9225e02248e73651ca00/expr.png\" style=\"display:inline;vertical-align:middle;\" /></a>"
      ],
      "text/plain": [
       "4"
      ]
     },
     "execution_count": 72,
     "metadata": {},
     "output_type": "execute_result"
    }
   ],
   "source": [
    "myIter.end_index"
   ]
  },
  {
   "cell_type": "code",
   "execution_count": 73,
   "metadata": {},
   "outputs": [
    {
     "data": {
      "text/html": [
       "<a class=\"ProveItLink\" href=\"__pv_it/2bacee4a4d066c103550c52c055f67db37ea52ad0/expr.ipynb\"><img src=\"__pv_it/2bacee4a4d066c103550c52c055f67db37ea52ad0/expr.png\" style=\"display:inline;vertical-align:middle;\" /></a>"
      ],
      "text/plain": [
       "(4 , 3)"
      ]
     },
     "execution_count": 73,
     "metadata": {},
     "output_type": "execute_result"
    }
   ],
   "source": [
    "myIter02.end_indices"
   ]
  },
  {
   "cell_type": "code",
   "execution_count": 83,
   "metadata": {},
   "outputs": [
    {
     "data": {
      "text/html": [
       "<a class=\"ProveItLink\" href=\"__pv_it/89d55b3d08ad97c5881763b86e63f6e957f575630/expr.ipynb\"><img src=\"__pv_it/89d55b3d08ad97c5881763b86e63f6e957f575630/expr.png\" style=\"display:inline;vertical-align:middle;\" /></a>"
      ],
      "text/plain": [
       "(1 , 1)"
      ]
     },
     "execution_count": 83,
     "metadata": {},
     "output_type": "execute_result"
    }
   ],
   "source": [
    "myIter02.start_indices"
   ]
  },
  {
   "cell_type": "code",
   "execution_count": 70,
   "metadata": {},
   "outputs": [
    {
     "data": {
      "text/html": [
       "<a class=\"ProveItLink\" href=\"__pv_it/8efaf7a6278d90b839225d6fcb3407442442b0660/expr.ipynb\"><img src=\"__pv_it/8efaf7a6278d90b839225d6fcb3407442442b0660/expr.png\" style=\"display:inline;vertical-align:middle;\" /></a>"
      ],
      "text/plain": [
       "x_(3 , 2)"
      ]
     },
     "execution_count": 70,
     "metadata": {},
     "output_type": "execute_result"
    }
   ],
   "source": [
    "myIter02.getInstance([num(3), num(2)])"
   ]
  },
  {
   "cell_type": "code",
   "execution_count": 85,
   "metadata": {},
   "outputs": [
    {
     "data": {
      "text/html": [
       "<a class=\"ProveItLink\" href=\"__pv_it/5e793c01e710537b080aed3b9100f4499c4b23630/expr.ipynb\"><img src=\"__pv_it/5e793c01e710537b080aed3b9100f4499c4b23630/expr.png\" style=\"display:inline;vertical-align:middle;\" /></a>"
      ],
      "text/plain": [
       "(i, j) -> x_(i , j) | i in {1...4} , j in {1...3}"
      ]
     },
     "execution_count": 85,
     "metadata": {},
     "output_type": "execute_result"
    }
   ],
   "source": [
    "myIter02.lambda_map"
   ]
  },
  {
   "cell_type": "code",
   "execution_count": 109,
   "metadata": {},
   "outputs": [
    {
     "data": {
      "text/plain": [
       "True"
      ]
     },
     "execution_count": 109,
     "metadata": {},
     "output_type": "execute_result"
    }
   ],
   "source": [
    "myIter02 == myIter04"
   ]
  },
  {
   "cell_type": "code",
   "execution_count": 9,
   "metadata": {},
   "outputs": [
    {
     "data": {
      "text/html": [
       "<a class=\"ProveItLink\" href=\"__pv_it/2255b710de0a14d7c1b378f2e4af985ebd33b0610/expr.ipynb\"><img src=\"__pv_it/2255b710de0a14d7c1b378f2e4af985ebd33b0610/expr.png\" style=\"display:inline;vertical-align:middle;\" /></a>"
      ],
      "text/plain": [
       "x_1,...,x_5"
      ]
     },
     "execution_count": 9,
     "metadata": {},
     "output_type": "execute_result"
    }
   ],
   "source": [
    "varIter(x, one, five)"
   ]
  },
  {
   "cell_type": "code",
   "execution_count": 10,
   "metadata": {},
   "outputs": [
    {
     "data": {
      "text/html": [
       "<a class=\"ProveItLink\" href=\"__pv_it/3421b2eb889cc78b8467a00c38b9bc06badb73930/expr.ipynb\"><img src=\"__pv_it/3421b2eb889cc78b8467a00c38b9bc06badb73930/expr.png\" style=\"display:inline;vertical-align:middle;\" /></a>"
      ],
      "text/plain": [
       "y_1,...,y_5"
      ]
     },
     "execution_count": 10,
     "metadata": {},
     "output_type": "execute_result"
    }
   ],
   "source": [
    "varIter(y, one, five)"
   ]
  },
  {
   "cell_type": "code",
   "execution_count": 13,
   "metadata": {},
   "outputs": [
    {
     "data": {
      "text/html": [
       "<a class=\"ProveItLink\" href=\"__pv_it/df6d21a2a949ceb20c2f241627044948e7277cb30/expr.ipynb\"><img src=\"__pv_it/df6d21a2a949ceb20c2f241627044948e7277cb30/expr.png\" style=\"display:inline;vertical-align:middle;\" /></a>"
      ],
      "text/plain": [
       "x_1 =  ...  = x_5 = y"
      ]
     },
     "execution_count": 13,
     "metadata": {},
     "output_type": "execute_result"
    }
   ],
   "source": [
    "Equals(varIter(x, one, five), y)"
   ]
  },
  {
   "cell_type": "code",
   "execution_count": 105,
   "metadata": {},
   "outputs": [
    {
     "data": {
      "text/html": [
       "<span style=\"font-size:20px;\"> &#x22A2;&nbsp;<a class=\"ProveItLink\" href=\"__pv_it/6ec2193ff7f2a0001aea3e112ec0ee2dddc5beb10/expr.ipynb\"><img src=\"__pv_it/6ec2193ff7f2a0001aea3e112ec0ee2dddc5beb10/expr.png\" style=\"display:inline;vertical-align:middle;\" /></a></span>"
      ],
      "text/plain": [
       "|= forall_{f, x, y | x = y} (f(x) = f(y))"
      ]
     },
     "execution_count": 105,
     "metadata": {},
     "output_type": "execute_result"
    }
   ],
   "source": [
    "substitution"
   ]
  },
  {
   "cell_type": "code",
   "execution_count": 106,
   "metadata": {},
   "outputs": [
    {
     "data": {
      "text/html": [
       "<span style=\"font-size:20px;\"><a class=\"ProveItLink\" href=\"__pv_it/b5bbd1e9e015b666e46c9a5cde50f5d4df7e71bb0/expr.ipynb\"><img src=\"__pv_it/b5bbd1e9e015b666e46c9a5cde50f5d4df7e71bb0/expr.png\" style=\"display:inline;vertical-align:middle;\" /></a> &#x22A2;&nbsp;<a class=\"ProveItLink\" href=\"__pv_it/b55b3302cbc7e061627076009466167f9dcd7d6f0/expr.ipynb\"><img src=\"__pv_it/b55b3302cbc7e061627076009466167f9dcd7d6f0/expr.png\" style=\"display:inline;vertical-align:middle;\" /></a></span>"
      ],
      "text/plain": [
       "{x = y} |= f(x) = f(y)"
      ]
     },
     "execution_count": 106,
     "metadata": {},
     "output_type": "execute_result"
    }
   ],
   "source": [
    "substitution.specialize({x:x, y:y}, assumptions={Equals(x, y)})"
   ]
  },
  {
   "cell_type": "code",
   "execution_count": null,
   "metadata": {},
   "outputs": [],
   "source": []
  }
 ],
 "metadata": {
  "kernelspec": {
   "display_name": "Python 3",
   "language": "python",
   "name": "python3"
  },
  "language_info": {
   "codemirror_mode": {
    "name": "ipython",
    "version": 3
   },
   "file_extension": ".py",
   "mimetype": "text/x-python",
   "name": "python",
   "nbconvert_exporter": "python",
   "pygments_lexer": "ipython3",
   "version": "3.7.1"
  }
 },
 "nbformat": 4,
 "nbformat_minor": 2
}
