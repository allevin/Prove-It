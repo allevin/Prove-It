{
 "cells": [
  {
   "cell_type": "markdown",
   "metadata": {
    "collapsed": true
   },
   "source": [
    "Proof of <a class=\"ProveItLink\" href=\"../../../_context_.ipynb\">proveit</a>.<a class=\"ProveItLink\" href=\"../../_context_.ipynb\">logic</a>.<a class=\"ProveItLink\" href=\"../_context_.ipynb\">equality</a>.<a href=\"../_theorems_.ipynb#unfoldNotEquals\" class=\"ProveItLink\">unfoldNotEquals</a> theorem\n",
    "========"
   ]
  },
  {
   "cell_type": "code",
   "execution_count": 1,
   "metadata": {},
   "outputs": [],
   "source": [
    "import proveit\n",
    "from proveit import defaults\n",
    "from proveit.logic.equality._axioms_ import notEqualsDef\n",
    "context = proveit.Context('..') # the theorem's context is in the parent directory"
   ]
  },
  {
   "cell_type": "code",
   "execution_count": 2,
   "metadata": {},
   "outputs": [
    {
     "name": "stdout",
     "output_type": "stream",
     "text": [
      "Beginning proof of unfoldNotEquals\n",
      "Recorded 'presuming' information\n",
      "Presuming previous theorems (applied transitively).\n"
     ]
    },
    {
     "data": {
      "text/html": [
       "<strong id=\"unfoldNotEquals\">unfoldNotEquals:</strong> <a class=\"ProveItLink\" href=\"../__pv_it/bcabcb85241bffa03b17eb193708721b3448e0000/expr.ipynb\"><img src=\"../__pv_it/bcabcb85241bffa03b17eb193708721b3448e0000/expr.png\" style=\"display:inline;vertical-align:middle;\" /></a><br>(see <a class=\"ProveItLink\" href=\"../__pv_it/bcabcb85241bffa03b17eb193708721b3448e0000/dependencies.ipynb\">dependencies</a>)<br>"
      ],
      "text/plain": [
       "unfoldNotEquals: forall_{x, y | x != y} [not](x = y)"
      ]
     },
     "execution_count": 2,
     "metadata": {},
     "output_type": "execute_result"
    }
   ],
   "source": [
    "%proving unfoldNotEquals presuming []"
   ]
  },
  {
   "cell_type": "code",
   "execution_count": 3,
   "metadata": {},
   "outputs": [
    {
     "data": {
      "text/html": [
       "<strong id=\"defaults.assumptions\">defaults.assumptions:</strong> <a class=\"ProveItLink\" href=\"../__pv_it/43f3f7398e5f49463c7eb47522b5b6065a82165d0/expr.ipynb\"><img src=\"../__pv_it/43f3f7398e5f49463c7eb47522b5b6065a82165d0/expr.png\" style=\"display:inline;vertical-align:middle;\" /></a><br>"
      ],
      "text/plain": [
       "defaults.assumptions: (x != y)"
      ]
     },
     "execution_count": 3,
     "metadata": {},
     "output_type": "execute_result"
    }
   ],
   "source": [
    "defaults.assumptions = unfoldNotEquals.allConditions()"
   ]
  },
  {
   "cell_type": "code",
   "execution_count": 4,
   "metadata": {},
   "outputs": [
    {
     "data": {
      "text/html": [
       "<span style=\"font-size:20px;\"> &#x22A2;&nbsp;<a class=\"ProveItLink\" href=\"../__pv_it/747473aebdbfaacc6f281548551f52b9ec3328dc0/expr.ipynb\"><img src=\"../__pv_it/747473aebdbfaacc6f281548551f52b9ec3328dc0/expr.png\" style=\"display:inline;vertical-align:middle;\" /></a></span>"
      ],
      "text/plain": [
       "|= forall_{x, y} ((x != y) = [not](x = y))"
      ]
     },
     "execution_count": 4,
     "metadata": {},
     "output_type": "execute_result"
    }
   ],
   "source": [
    "notEqualsDef"
   ]
  },
  {
   "cell_type": "code",
   "execution_count": 5,
   "metadata": {},
   "outputs": [
    {
     "data": {
      "text/html": [
       "<span style=\"font-size:20px;\"><a class=\"ProveItLink\" href=\"../__pv_it/0a0c3733a14282ba7131d88b1f2c47f4d6a357dd0/expr.ipynb\"><img src=\"../__pv_it/0a0c3733a14282ba7131d88b1f2c47f4d6a357dd0/expr.png\" style=\"display:inline;vertical-align:middle;\" /></a> &#x22A2;&nbsp;<a class=\"ProveItLink\" href=\"../__pv_it/ba803e74a545c0e769490f0360bfdd9ef850012c0/expr.ipynb\"><img src=\"../__pv_it/ba803e74a545c0e769490f0360bfdd9ef850012c0/expr.png\" style=\"display:inline;vertical-align:middle;\" /></a></span>"
      ],
      "text/plain": [
       "{x != y} |= [not](x = y)"
      ]
     },
     "execution_count": 5,
     "metadata": {},
     "output_type": "execute_result"
    }
   ],
   "source": [
    "notEqualsDef.specialize().deriveRightViaEquivalence()"
   ]
  },
  {
   "cell_type": "code",
   "execution_count": 6,
   "metadata": {},
   "outputs": [
    {
     "data": {
      "text/html": [
       "<table><tr><th>&nbsp;</th><th>step type</th><th>requirements</th><th>statement</th></tr>\n",
       "<tr><td>0</td><td>generalizaton</td><td>1</td><td><span style=\"font-size:20px;\"> &#x22A2;&nbsp;<a class=\"ProveItLink\" href=\"../__pv_it/bcabcb85241bffa03b17eb193708721b3448e0000/expr.ipynb\"><img src=\"../__pv_it/bcabcb85241bffa03b17eb193708721b3448e0000/expr.png\" style=\"display:inline;vertical-align:middle;\" /></a></span></td></tr>\n",
       "<tr><td>1</td><td>specialization</td><td>2, 3, 4</td><td><span style=\"font-size:20px;\"><a class=\"ProveItLink\" href=\"../__pv_it/0a0c3733a14282ba7131d88b1f2c47f4d6a357dd0/expr.ipynb\"><img src=\"../__pv_it/0a0c3733a14282ba7131d88b1f2c47f4d6a357dd0/expr.png\" style=\"display:inline;vertical-align:middle;\" /></a> &#x22A2;&nbsp;<a class=\"ProveItLink\" href=\"../__pv_it/ba803e74a545c0e769490f0360bfdd9ef850012c0/expr.ipynb\"><img src=\"../__pv_it/ba803e74a545c0e769490f0360bfdd9ef850012c0/expr.png\" style=\"display:inline;vertical-align:middle;\" /></a></span></td></tr>\n",
       "<tr><td>&nbsp;</td><td colspan=4 style=\"text-align:left\"><span style=\"font-size:20px;\"><a class=\"ProveItLink\" href=\"../__pv_it/09e2a2b657fb903f9552e73139901f2388ded1200/expr.ipynb\"><img src=\"../__pv_it/09e2a2b657fb903f9552e73139901f2388ded1200/expr.png\" style=\"display:inline;vertical-align:middle;\" /></a>, <a class=\"ProveItLink\" href=\"../__pv_it/391aff208e72f9229b561f427ccd50d54f3c840f0/expr.ipynb\"><img src=\"../__pv_it/391aff208e72f9229b561f427ccd50d54f3c840f0/expr.png\" style=\"display:inline;vertical-align:middle;\" /></a></span></td></tr><tr><td>2</td><td>theorem</td><td></td><td><span style=\"font-size:20px;\"> &#x22A2;&nbsp;<a class=\"ProveItLink\" href=\"../__pv_it/5519e736e5532a5ae5ff775c349b2696cf5476500/expr.ipynb\"><img src=\"../__pv_it/5519e736e5532a5ae5ff775c349b2696cf5476500/expr.png\" style=\"display:inline;vertical-align:middle;\" /></a></span></td></tr>\n",
       "<tr><td>&nbsp;</td><td colspan=4 style-\"text-align:left\"><a class=\"ProveItLink\" href=\"rhsViaEquivalence.ipynb\">proveit.logic.equality.rhsViaEquivalence</a></td></tr><tr><td>3</td><td>assumption</td><td></td><td><span style=\"font-size:20px;\"><a class=\"ProveItLink\" href=\"../__pv_it/0a0c3733a14282ba7131d88b1f2c47f4d6a357dd0/expr.ipynb\"><img src=\"../__pv_it/0a0c3733a14282ba7131d88b1f2c47f4d6a357dd0/expr.png\" style=\"display:inline;vertical-align:middle;\" /></a> &#x22A2;&nbsp;<a class=\"ProveItLink\" href=\"../__pv_it/d653f83d068ba3b3b2ff1f6849298500353558900/expr.ipynb\"><img src=\"../__pv_it/d653f83d068ba3b3b2ff1f6849298500353558900/expr.png\" style=\"display:inline;vertical-align:middle;\" /></a></span></td></tr>\n",
       "<tr><td>4</td><td>specialization</td><td>5</td><td><span style=\"font-size:20px;\"> &#x22A2;&nbsp;<a class=\"ProveItLink\" href=\"../__pv_it/ceff45681db55742dc31f8a1be7304ba7564535b0/expr.ipynb\"><img src=\"../__pv_it/ceff45681db55742dc31f8a1be7304ba7564535b0/expr.png\" style=\"display:inline;vertical-align:middle;\" /></a></span></td></tr>\n",
       "<tr><td>&nbsp;</td><td colspan=4 style=\"text-align:left\"><span style=\"font-size:20px;\"><a class=\"ProveItLink\" href=\"../__pv_it/28827b442668a37c9b396d0be08fc0142c90740c0/expr.ipynb\"><img src=\"../__pv_it/28827b442668a37c9b396d0be08fc0142c90740c0/expr.png\" style=\"display:inline;vertical-align:middle;\" /></a>, <a class=\"ProveItLink\" href=\"../__pv_it/70d4c246439193d063d7f22fdadcd1094f921d0d0/expr.ipynb\"><img src=\"../__pv_it/70d4c246439193d063d7f22fdadcd1094f921d0d0/expr.png\" style=\"display:inline;vertical-align:middle;\" /></a></span></td></tr><tr><td>5</td><td>axiom</td><td></td><td><span style=\"font-size:20px;\"> &#x22A2;&nbsp;<a class=\"ProveItLink\" href=\"../__pv_it/747473aebdbfaacc6f281548551f52b9ec3328dc0/expr.ipynb\"><img src=\"../__pv_it/747473aebdbfaacc6f281548551f52b9ec3328dc0/expr.png\" style=\"display:inline;vertical-align:middle;\" /></a></span></td></tr>\n",
       "<tr><td>&nbsp;</td><td colspan=4 style-\"text-align:left\"><a class=\"ProveItLink\" href=\"../_axioms_.ipynb#notEqualsDef\">proveit.logic.equality.notEqualsDef</a></td></tr></table>"
      ],
      "text/plain": [
       "\tstep type\trequirements\tstatement\n",
       "0\tgeneralizaton\t1\t|= forall_{x, y | x != y} [not](x = y)\n",
       "1\tspecialization\t2, 3, 4\t{x != y} |= [not](x = y)\n",
       "\t{P -> (x != y)}, {Q -> [not](x = y)}\n",
       "2\ttheorem\t\t|= forall_{P, Q | P , P = Q} Q\n",
       "\tproveit.logic.equality.rhsViaEquivalence\n",
       "3\tassumption\t\t{x != y} |= x != y\n",
       "4\tspecialization\t5\t|= (x != y) = [not](x = y)\n",
       "\t{x -> x}, {y -> y}\n",
       "5\taxiom\t\t|= forall_{x, y} ((x != y) = [not](x = y))\n",
       "\tproveit.logic.equality.notEqualsDef"
      ]
     },
     "execution_count": 6,
     "metadata": {},
     "output_type": "execute_result"
    }
   ],
   "source": [
    "%qed"
   ]
  },
  {
   "cell_type": "code",
   "execution_count": 7,
   "metadata": {
    "collapsed": true
   },
   "outputs": [],
   "source": []
  }
 ],
 "metadata": {
  "kernelspec": {
   "display_name": "Python 3",
   "language": "python",
   "name": "python3"
  },
  "language_info": {
   "codemirror_mode": {
    "name": "ipython",
    "version": 3
   },
   "file_extension": ".py",
   "mimetype": "text/x-python",
   "name": "python",
   "nbconvert_exporter": "python",
   "pygments_lexer": "ipython3",
   "version": "3.7.0"
  }
 },
 "nbformat": 4,
 "nbformat_minor": 1
}
