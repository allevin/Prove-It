{
 "cells": [
  {
   "cell_type": "markdown",
   "metadata": {},
   "source": [
    "Proof of <a class=\"ProveItLink\" href=\"../../../_context_.ipynb\">proveit</a>.<a class=\"ProveItLink\" href=\"../../_context_.ipynb\">logic</a>.<a class=\"ProveItLink\" href=\"../_context_.ipynb\">equality</a>.<a href=\"../_theorems_.ipynb#unfoldNotEquals\" class=\"ProveItLink\">unfoldNotEquals</a> theorem\n",
    "========"
   ]
  },
  {
   "cell_type": "code",
   "execution_count": 1,
   "metadata": {},
   "outputs": [],
   "source": [
    "import proveit\n",
    "from proveit import defaults\n",
    "from proveit.logic.equality._axioms_ import notEqualsDef\n",
    "context = proveit.Context('..') # the theorem's context is in the parent directory"
   ]
  },
  {
   "cell_type": "code",
   "execution_count": 2,
   "metadata": {},
   "outputs": [
    {
     "name": "stdout",
     "output_type": "stream",
     "text": [
      "Beginning proof of unfoldNotEquals\n",
      "Recorded 'presuming' information\n",
      "Presuming previous theorems (applied transitively).\n"
     ]
    },
    {
     "data": {
      "text/html": [
       "<strong id=\"unfoldNotEquals\">unfoldNotEquals:</strong> <a class=\"ProveItLink\" href=\"../__pv_it/38779c63c7ca10709484d9771bf5465a3e774ee90/expr.ipynb\"><img src=\"data:image/png;base64,iVBORw0KGgoAAAANSUhEUgAAAL8AAAAXCAMAAABte263AAAAOVBMVEX///8oKCgUFBQJCQkQEBC6\n",
       "urrMzMxUVFRmZmZERETc3NwyMjKqqqp2dnaIiIiYmJgiIiLu7u4AAACP9cC6AAAAAXRSTlMAQObY\n",
       "ZgAAAmJJREFUWMPVV4lu5CAMZXfDffP/H7uYAIEZSEg7kVpLlRuM4YGfbQahXy7+8R2wuWs4F4tb\n",
       "7Y5x8wh8Qu8aroSRRmtVhuUzoZgu+/X9ZKMFzx/1n8+KMXcNCwzSjS7XwNQj+Dd/17CQs1ujrRZJ\n",
       "3DPJK+8aVoSrRgcO4vQj+Jm+MAhtqFCGXbDJ6+QgQoqaZvto0jSlMxcLl3m2wdhf2lkO2owrMsBZ\n",
       "tNXwM9lILVEa4QBJE9KXysFLGsMkvxJOvlDUXlm+n5m5Kroz6AxKkfMirOISgGCHgHMC7BoMxn4P\n",
       "v5gU84AnVT8bgA70uvLFaRswLOw0IwE1GrA7/z38M/pd4U+hWKmkCphPAhngj9wpq8ZkwoaS0t95\n",
       "X+da/N1MhPXYA21qgv8wiASq+jRUc+7YkQHBTcebqrmgmY0egpmX9gYFgcg2vP86k6Y8+xf/zMAD\n",
       "cTvBnw1W7DlpruIvodTw7GxlpxVztcAcBUN4HIcNH+LvZpbsefeola45QGtQwSIezysuKcQidBxs\n",
       "v2rRDQNDQ2QaWUHNjP/HTM9nHgjP2uJu8Nxor/VC9YgzDStbStxrW6MHwSdt8dvIBH+eySNz/v6R\n",
       "iT/vHvFr1le2hYbzItoN3g8tpIC0TDVZSFg9IsFhWH+OmX3tfPU43lrTR9iaUAdwVakdvW5ipFgM\n",
       "KOCDiCpquBziP2bC8JF7rx4fez9D2+P5xKXXnvbciF+IFzKP6786LvLN46SzzQ3DTSL7S8egotfD\n",
       "hi3SeftXIj/9NYEGHgnnrLaIr/0CMKTXs+uHM+vr/mtVd0vPPGM/I/TnQfoP0pMahBS79IEAAAAA\n",
       "SUVORK5CYII=\n",
       "\" style=\"display:inline;vertical-align:middle;\" /></a><br>(see <a class=\"ProveItLink\" href=\"../__pv_it/38779c63c7ca10709484d9771bf5465a3e774ee90/dependencies.ipynb\">dependencies</a>)<br>"
      ],
      "text/plain": [
       "unfoldNotEquals: forall_{x, y | x != y} [not](x = y)"
      ]
     },
     "execution_count": 2,
     "metadata": {},
     "output_type": "execute_result"
    }
   ],
   "source": [
    "%proving unfoldNotEquals presuming []"
   ]
  },
  {
   "cell_type": "code",
   "execution_count": 3,
   "metadata": {},
   "outputs": [
    {
     "data": {
      "text/html": [
       "<strong id=\"defaults.assumptions\">defaults.assumptions:</strong> <a class=\"ProveItLink\" href=\"../__pv_it/02586baf2e89bf01bb399745fc29b6ce90a397580/expr.ipynb\"><img src=\"data:image/png;base64,iVBORw0KGgoAAAANSUhEUgAAAD8AAAAVCAMAAADGtsa9AAAAPFBMVEX///8LCwsYGBgNDQ0oKCjc\n",
       "3NwiIiJERESqqqqYmJh2dnZmZmYQEBDu7u4yMjJUVFTMzMyIiIi6uroAAACIMCsmAAAAAXRSTlMA\n",
       "QObYZgAAAS9JREFUOMulVNdyxCAMVAq9Cv7/XyMJ7JvLYZy56AHGgmW1Kgb4vzW8ueDVyuva2Gu5\n",
       "gau89ocqW043+NIuDuRdxDfpSYGnJb5NDylS8vINvJrrM2Mh+Bmlx6Ishhc1pj5RegGoLlH7ANlN\n",
       "P8nRDqI+s5vFvr94PUvkoXVOWpcvmyG26R9OW7f0lQJmBjNEtQh94DmcslDanpuDrkVW2IfM2g88\n",
       "W1xUMv9uPcvKa68HPtqzzuI8qxk02eeHFntEFrheGOGI34z8OTVygmlPDzmw/KnKZS6BROXA0KMK\n",
       "d+qFn1ytu1mNAE0Klgz65D26G/VyE0Of/kzJi+qyvWy4mGf96N8xBGvTr6NRNMNmzj1u53dFr4nN\n",
       "TMY0RkeVv9ODJfVHx5SpXF38Adp+MJHb5Qc6sww6JdlphwAAAABJRU5ErkJggg==\n",
       "\" style=\"display:inline;vertical-align:middle;\" /></a><br>"
      ],
      "text/plain": [
       "defaults.assumptions: (x != y)"
      ]
     },
     "execution_count": 3,
     "metadata": {},
     "output_type": "execute_result"
    }
   ],
   "source": [
    "defaults.assumptions = unfoldNotEquals.allConditions()"
   ]
  },
  {
   "cell_type": "code",
   "execution_count": 4,
   "metadata": {},
   "outputs": [
    {
     "data": {
      "text/html": [
       "<span style=\"font-size:20px;\"> <a class=\"ProveItLink\" href=\"../_axioms_.ipynb#notEqualsDef\" style=\"text-decoration: none\">&#x22A2;&nbsp;</a><a class=\"ProveItLink\" href=\"../__pv_it/c5793376bd5f3ed65f46b9bf759589707c82e7920/expr.ipynb\"><img src=\"data:image/png;base64,iVBORw0KGgoAAAANSUhEUgAAAP8AAAAWCAMAAAA4nbqyAAAAPFBMVEX///8LCwsYGBgNDQ0oKCgQ\n",
       "EBC6urrMzMxUVFRmZmZERETc3NwyMjKqqqp2dnaIiIiYmJgiIiLu7u4AAACwKje0AAAAAXRSTlMA\n",
       "QObYZgAAArlJREFUWMPlWNuy2yAMpD3lYjD3///XAjE5FhZYznT60OohO7GI1qCVgDD2n1v64DfC\n",
       "Q5yZM9jTIJ6x0B1r67wQ47efGlYqiDMzO/58k09Y6I4767wAne3unSqFPvDuB2qW6P0JC91xHxJB\n",
       "o3u2NDGK9xCfpr8ozdFZ6A5CBTgE+3JulhiFJ4iP088Sp7PQHYRexxEMzjSL1Oa3Q5zW70JP2lJZ\n",
       "6A6KdV6AWVeLjtpFHETjvDLWb6MsNehyybXxJrfsuY3KMnXMaMeUo7wAVXtRbahNJABMJXyIgfGu\n",
       "n21v9uurfr5btWMi1+LN7Zv9TuIx/GXqwjKjv9BOAuG8AEUdnMiy4gKgO6JbuUq/tGyrb6pfRSE4\n",
       "kWWLb3Mk2rEIcV6IdYAP1PlnAbDqSl1LXajxlMWrUvNLrjJTWS67/poWOd1hvBDr3GP6cP4tJ9ci\n",
       "3MdysrUCZZZ/aP4T2quhvBCL9nv00lSEV7KfMzWy33ALsTYXeTpIN8n+/PESrT7VeV3pQX9Q4efh\n",
       "3E7mP6OdBUJ5B9Tm2KtdqqI6KJJn2TA5lqoOAIN5NReflulne221+phEuO02Okzmv6TF+iXGO6Dd\n",
       "ji4qzo3XJFEe+7HI4B5ic2C6LJHxi+pveSiPRA4wxuLqdBkh72nR/RLjHfFUSfmUOVW6rBoZRDxj\n",
       "0t4l54b2eU1/Hei3Hny/vQKKuHTgtGgHxHhHDG8VVbnL8ybELxsMNxCRnjNJr4sPzr/mqWMhprg4\n",
       "/54llpnb295qWgbL3EW+vUVcDdlMVKx0tndZ+l3lo8vTDe+IJ63YrQirrkRVllVe78/vv1j66/FF\n",
       "H2+e/uL9F+MdEV/mIgKDlH9tjAoiIf3MlirsRa9ICp5FnzvQXCC8I6IHR9PWDb9t9a476b43zc1L\n",
       "2qtPe7v57B+AzjviLP117Rz7x+03cmkoGF9quhUAAAAASUVORK5CYII=\n",
       "\" style=\"display:inline;vertical-align:middle;\" /></a></span>"
      ],
      "text/plain": [
       "|- forall_{x, y} ((x != y) = [not](x = y))"
      ]
     },
     "execution_count": 4,
     "metadata": {},
     "output_type": "execute_result"
    }
   ],
   "source": [
    "notEqualsDef"
   ]
  },
  {
   "cell_type": "code",
   "execution_count": 5,
   "metadata": {},
   "outputs": [
    {
     "data": {
      "text/html": [
       "<span style=\"font-size:20px;\"><a class=\"ProveItLink\" href=\"../__pv_it/270b0e611621b9527f6c1d1da6de2ad522866c920/expr.ipynb\"><img src=\"data:image/png;base64,iVBORw0KGgoAAAANSUhEUgAAAEUAAAAVCAMAAAAn3dPsAAAAPFBMVEX///8LCwsYGBgNDQ0oKChE\n",
       "RETc3NyqqqpUVFS6urrMzMwyMjIQEBCIiIh2dnYiIiLu7u5mZmaYmJgAAADt+DP7AAAAAXRSTlMA\n",
       "QObYZgAAASJJREFUOMudVNl2xSAItL11jSDi//9rNdHY7LE8eFRwHAdEiGIcWfzHHKJqcwr4GN+j\n",
       "dzhe1xmkRxA1XXli86B/RDH2kqR/jXJNZQTlmsoAipPiPYpCMEpDhH2kdH9XhLHkVCXaoFSZKfs4\n",
       "sPCh6z/bz6eMZr1d2NQzy6ml3Fbv4tLulorTIpZ7ZH3mFMum8TWoEDQnClizWeYwX96c2sPlVArf\n",
       "+n6XhyPKtC9bXRRxqZ5qhW/WalCzi1ZdQrbvrzCb3JYrVFWbLgIXOVktigHdU1mUkOY00zqxkHmm\n",
       "4E6VmUvesolPUUgCEiLwgypzJMSkBmpXx4uSDSM/INDxU2UAWtvKepj9EJWSWomH/kIBBqgInVWx\n",
       "vdf1786oz1Hsu777CzvKDW1gBvfbAAAAAElFTkSuQmCC\n",
       "\" style=\"display:inline;vertical-align:middle;\" /></a> <a class=\"ProveItLink\" href=\"../__pv_it/838492aadcc7b0bab647c3717686dc3b3c0c4bec0/proof.ipynb\" style=\"text-decoration: none\">&#x22A2;&nbsp;</a><a class=\"ProveItLink\" href=\"../__pv_it/d228eea8592f74f3d21e84da082b133ceb9bc72e0/expr.ipynb\"><img src=\"data:image/png;base64,iVBORw0KGgoAAAANSUhEUgAAAFEAAAAVBAMAAADMaB9/AAAAMFBMVEX////c3NxERESqqqqYmJgQ\n",
       "EBDu7u4yMjKIiIi6urpUVFTMzMx2dnYiIiJmZmYAAABjE816AAAAAXRSTlMAQObYZgAAASBJREFU\n",
       "KM9jYCADcDbglvNE4e3CYwrfBmReGT4LC5DYHA34VPogsVkT8KlMRWJPx+tdJgME+w0Qy3QJ96E5\n",
       "gu3cAQb5BAaeBwihEqDoAZYrrBdAXi0HgwVAJg/nB4Z+BgbmAoa3d4HgDlAoEijKwPGBeQOqmZv5\n",
       "LjAoAQM7ABGUP4FmMnApoDswgbWB4QcDA/cHFJXAAMAMKvsE7t+oKoNBDPkNDKDA4rsLBmALnjNw\n",
       "BKDarsLAwCLQz8CBHqx1DExAn7FAI4kbiM8BLXJQZZBAt/0Vw3wHBpRQmsvAkNSTc8IBXWVSx3sB\n",
       "Bgb2CUixKYArfs6ixSbLAazKuC6wgfx6gnCq4z3ABDSCDTnVMUhhVcnc8RJkMorTGPEk0G4GBgDJ\n",
       "bUZHqfFSGQAAAABJRU5ErkJggg==\n",
       "\" style=\"display:inline;vertical-align:middle;\" /></a></span>"
      ],
      "text/plain": [
       "{x != y} |- [not](x = y)"
      ]
     },
     "execution_count": 5,
     "metadata": {},
     "output_type": "execute_result"
    }
   ],
   "source": [
    "notEqualsDef.specialize().deriveRightViaEquivalence()"
   ]
  },
  {
   "cell_type": "code",
   "execution_count": 6,
   "metadata": {},
   "outputs": [
    {
     "data": {
      "text/html": [
       "<table><tr><th>&nbsp;</th><th>step type</th><th>requirements</th><th>statement</th></tr>\n",
       "<tr><td>0</td><td>generalizaton</td><td>1</td><td><span style=\"font-size:20px;\"> <a class=\"ProveItLink\" href=\"../__pv_it/4426a39b7879bd0cf0cbecf6f38b5d5edc8f82ae0/proof.ipynb\" style=\"text-decoration: none\">&#x22A2;&nbsp;</a><a class=\"ProveItLink\" href=\"../__pv_it/38779c63c7ca10709484d9771bf5465a3e774ee90/expr.ipynb\"><img src=\"data:image/png;base64,iVBORw0KGgoAAAANSUhEUgAAAL8AAAAXCAMAAABte263AAAAOVBMVEX///8oKCgUFBQJCQkQEBC6\n",
       "urrMzMxUVFRmZmZERETc3NwyMjKqqqp2dnaIiIiYmJgiIiLu7u4AAACP9cC6AAAAAXRSTlMAQObY\n",
       "ZgAAAmJJREFUWMPVV4lu5CAMZXfDffP/H7uYAIEZSEg7kVpLlRuM4YGfbQahXy7+8R2wuWs4F4tb\n",
       "7Y5x8wh8Qu8aroSRRmtVhuUzoZgu+/X9ZKMFzx/1n8+KMXcNCwzSjS7XwNQj+Dd/17CQs1ujrRZJ\n",
       "3DPJK+8aVoSrRgcO4vQj+Jm+MAhtqFCGXbDJ6+QgQoqaZvto0jSlMxcLl3m2wdhf2lkO2owrMsBZ\n",
       "tNXwM9lILVEa4QBJE9KXysFLGsMkvxJOvlDUXlm+n5m5Kroz6AxKkfMirOISgGCHgHMC7BoMxn4P\n",
       "v5gU84AnVT8bgA70uvLFaRswLOw0IwE1GrA7/z38M/pd4U+hWKmkCphPAhngj9wpq8ZkwoaS0t95\n",
       "X+da/N1MhPXYA21qgv8wiASq+jRUc+7YkQHBTcebqrmgmY0egpmX9gYFgcg2vP86k6Y8+xf/zMAD\n",
       "cTvBnw1W7DlpruIvodTw7GxlpxVztcAcBUN4HIcNH+LvZpbsefeola45QGtQwSIezysuKcQidBxs\n",
       "v2rRDQNDQ2QaWUHNjP/HTM9nHgjP2uJu8Nxor/VC9YgzDStbStxrW6MHwSdt8dvIBH+eySNz/v6R\n",
       "iT/vHvFr1le2hYbzItoN3g8tpIC0TDVZSFg9IsFhWH+OmX3tfPU43lrTR9iaUAdwVakdvW5ipFgM\n",
       "KOCDiCpquBziP2bC8JF7rx4fez9D2+P5xKXXnvbciF+IFzKP6786LvLN46SzzQ3DTSL7S8egotfD\n",
       "hi3SeftXIj/9NYEGHgnnrLaIr/0CMKTXs+uHM+vr/mtVd0vPPGM/I/TnQfoP0pMahBS79IEAAAAA\n",
       "SUVORK5CYII=\n",
       "\" style=\"display:inline;vertical-align:middle;\" /></a></span></td></tr>\n",
       "<tr><td>1</td><td>specialization</td><td>2, 3, 4</td><td><span style=\"font-size:20px;\"><a class=\"ProveItLink\" href=\"../__pv_it/270b0e611621b9527f6c1d1da6de2ad522866c920/expr.ipynb\"><img src=\"data:image/png;base64,iVBORw0KGgoAAAANSUhEUgAAAEUAAAAVCAMAAAAn3dPsAAAAPFBMVEX///8LCwsYGBgNDQ0oKChE\n",
       "RETc3NyqqqpUVFS6urrMzMwyMjIQEBCIiIh2dnYiIiLu7u5mZmaYmJgAAADt+DP7AAAAAXRSTlMA\n",
       "QObYZgAAASJJREFUOMudVNl2xSAItL11jSDi//9rNdHY7LE8eFRwHAdEiGIcWfzHHKJqcwr4GN+j\n",
       "dzhe1xmkRxA1XXli86B/RDH2kqR/jXJNZQTlmsoAipPiPYpCMEpDhH2kdH9XhLHkVCXaoFSZKfs4\n",
       "sPCh6z/bz6eMZr1d2NQzy6ml3Fbv4tLulorTIpZ7ZH3mFMum8TWoEDQnClizWeYwX96c2sPlVArf\n",
       "+n6XhyPKtC9bXRRxqZ5qhW/WalCzi1ZdQrbvrzCb3JYrVFWbLgIXOVktigHdU1mUkOY00zqxkHmm\n",
       "4E6VmUvesolPUUgCEiLwgypzJMSkBmpXx4uSDSM/INDxU2UAWtvKepj9EJWSWomH/kIBBqgInVWx\n",
       "vdf1786oz1Hsu777CzvKDW1gBvfbAAAAAElFTkSuQmCC\n",
       "\" style=\"display:inline;vertical-align:middle;\" /></a> <a class=\"ProveItLink\" href=\"../__pv_it/838492aadcc7b0bab647c3717686dc3b3c0c4bec0/proof.ipynb\" style=\"text-decoration: none\">&#x22A2;&nbsp;</a><a class=\"ProveItLink\" href=\"../__pv_it/d228eea8592f74f3d21e84da082b133ceb9bc72e0/expr.ipynb\"><img src=\"data:image/png;base64,iVBORw0KGgoAAAANSUhEUgAAAFEAAAAVBAMAAADMaB9/AAAAMFBMVEX////c3NxERESqqqqYmJgQ\n",
       "EBDu7u4yMjKIiIi6urpUVFTMzMx2dnYiIiJmZmYAAABjE816AAAAAXRSTlMAQObYZgAAASBJREFU\n",
       "KM9jYCADcDbglvNE4e3CYwrfBmReGT4LC5DYHA34VPogsVkT8KlMRWJPx+tdJgME+w0Qy3QJ96E5\n",
       "gu3cAQb5BAaeBwihEqDoAZYrrBdAXi0HgwVAJg/nB4Z+BgbmAoa3d4HgDlAoEijKwPGBeQOqmZv5\n",
       "LjAoAQM7ABGUP4FmMnApoDswgbWB4QcDA/cHFJXAAMAMKvsE7t+oKoNBDPkNDKDA4rsLBmALnjNw\n",
       "BKDarsLAwCLQz8CBHqx1DExAn7FAI4kbiM8BLXJQZZBAt/0Vw3wHBpRQmsvAkNSTc8IBXWVSx3sB\n",
       "Bgb2CUixKYArfs6ixSbLAazKuC6wgfx6gnCq4z3ABDSCDTnVMUhhVcnc8RJkMorTGPEk0G4GBgDJ\n",
       "bUZHqfFSGQAAAABJRU5ErkJggg==\n",
       "\" style=\"display:inline;vertical-align:middle;\" /></a></span></td></tr>\n",
       "<tr><td>&nbsp;</td><td colspan=4 style=\"text-align:left\"><span style=\"font-size:20px;\"><a class=\"ProveItLink\" href=\"../../../__pv_it/6369c6c8083c513ca7161ace249642d040f9327d0/expr.ipynb\"><img src=\"data:image/png;base64,iVBORw0KGgoAAAANSUhEUgAAABAAAAAOBAMAAADUAYG5AAAAMFBMVEX////u7u5mZmaYmJi6urqq\n",
       "qqp2dnbMzMwQEBBEREQyMjLc3NwiIiJUVFSIiIgAAAAeC3ydAAAAAXRSTlMAQObYZgAAAGBJREFU\n",
       "CNdjYGB4+//u3bMbGIDgFwMDZzeQZv/GwMAKxAx8XxgYmD8BGZwfGBh4vwIZ/AsYGOQnABn1CQzs\n",
       "h0Ca3l9LUwPrni/AAAF/oDT7JygDZAwYcH6E0ELz/z4A0QBnpRnRyxnfJQAAAABJRU5ErkJggg==\n",
       "\" style=\"display:inline;vertical-align:middle;\" /></a> : <a class=\"ProveItLink\" href=\"../__pv_it/300e2e5a84d087a5fb9402300e42d269677e6d4f0/expr.ipynb\"><img src=\"data:image/png;base64,iVBORw0KGgoAAAANSUhEUgAAADMAAAAUCAMAAAAX1vWWAAAAPFBMVEX///8LCwsYGBgNDQ0oKCi6\n",
       "uroyMjJERETMzMwQEBAiIiKYmJju7u5mZmaqqqpUVFSIiIh2dnbc3NwAAACyXdPkAAAAAXRSTlMA\n",
       "QObYZgAAANBJREFUOMvNU0sWwiAMjB/KNxDg/nc1obZqK/jYmQUdIGFmSgAYRi4wG2WZLoGk/pXG\n",
       "6L6CTKlEQjpuaPM+CxmzZNcgGMA7D9Ztu7i0uN9kTPtvB1X5Q7XhFUQzpDERUE7VIjiI2S/KVfqY\n",
       "cpoV9XWzYOlcsxxbIIoTU5/spYGw+3Ec14tr8VKAcltkBfqy+qIwpoEFxU5qjB40FxcauWk8vKQ4\n",
       "mxVpyiFn8j/ctEzC2m/0iJ234fpt48K5+Tg92DhF4/jydZ6igchuRn0+fgMPuMgIfJwzrpMAAAAA\n",
       "SUVORK5CYII=\n",
       "\" style=\"display:inline;vertical-align:middle;\" /></a>, <a class=\"ProveItLink\" href=\"../../../__pv_it/98124f92e6e1fc3772af50ac63eaa1f5624776f20/expr.ipynb\"><img src=\"data:image/png;base64,iVBORw0KGgoAAAANSUhEUgAAAA8AAAASBAMAAAB2sJk8AAAAMFBMVEX///+YmJiqqqq6uroQEBBE\n",
       "RETu7u4iIiLMzMwyMjKIiIhUVFRmZmZ2dnbc3NwAAADS0us6AAAAAXRSTlMAQObYZgAAAHxJREFU\n",
       "CNdjYGDgu3N3FwMI3Gxg4C4D0pkBQMIbiKeDRM8nMPD8ADHuGzC8DwAzFBjOC4AY8Q0M9Qkgxhcw\n",
       "YmBg+svA8B3E4HRjYJgPYug3ALHBqxUczkAOb9kFXtUHIGHrucsVGBrAtrI2MEIZByzBNAP3/88Q\n",
       "BocL0BoActoerD1tNT4AAAAASUVORK5CYII=\n",
       "\" style=\"display:inline;vertical-align:middle;\" /></a> : <a class=\"ProveItLink\" href=\"../__pv_it/d228eea8592f74f3d21e84da082b133ceb9bc72e0/expr.ipynb\"><img src=\"data:image/png;base64,iVBORw0KGgoAAAANSUhEUgAAAFEAAAAVBAMAAADMaB9/AAAAMFBMVEX////c3NxERESqqqqYmJgQ\n",
       "EBDu7u4yMjKIiIi6urpUVFTMzMx2dnYiIiJmZmYAAABjE816AAAAAXRSTlMAQObYZgAAASBJREFU\n",
       "KM9jYCADcDbglvNE4e3CYwrfBmReGT4LC5DYHA34VPogsVkT8KlMRWJPx+tdJgME+w0Qy3QJ96E5\n",
       "gu3cAQb5BAaeBwihEqDoAZYrrBdAXi0HgwVAJg/nB4Z+BgbmAoa3d4HgDlAoEijKwPGBeQOqmZv5\n",
       "LjAoAQM7ABGUP4FmMnApoDswgbWB4QcDA/cHFJXAAMAMKvsE7t+oKoNBDPkNDKDA4rsLBmALnjNw\n",
       "BKDarsLAwCLQz8CBHqx1DExAn7FAI4kbiM8BLXJQZZBAt/0Vw3wHBpRQmsvAkNSTc8IBXWVSx3sB\n",
       "Bgb2CUixKYArfs6ixSbLAazKuC6wgfx6gnCq4z3ABDSCDTnVMUhhVcnc8RJkMorTGPEk0G4GBgDJ\n",
       "bUZHqfFSGQAAAABJRU5ErkJggg==\n",
       "\" style=\"display:inline;vertical-align:middle;\" /></a></span></td></tr><tr><td>2</td><td>theorem</td><td></td><td><span style=\"font-size:20px;\"> <a class=\"ProveItLink\" href=\"rhsViaEquivalence.ipynb\" style=\"text-decoration: none\">&#x22A2;&nbsp;</a><a class=\"ProveItLink\" href=\"../__pv_it/771aeab8c4711531b2b4534bd94ab64c6ca8ce7f0/expr.ipynb\"><img src=\"data:image/png;base64,iVBORw0KGgoAAAANSUhEUgAAAIkAAAAWBAMAAAAGOqJsAAAAMFBMVEX///8QEBC6urrMzMxUVFRm\n",
       "ZmZERETc3NwyMjKqqqp2dnaIiIiYmJgiIiLu7u4AAAAU9Wx4AAAAAXRSTlMAQObYZgAAAfJJREFU\n",
       "OMutlE8oBFEcx7/ssHbMrj8pN+1hD27moCgHQiilLdyUveCICwfJOhFhHcht92CztrQkBwc1zpI9\n",
       "KCWxbm7+hfz3fm/szJtdBya/er/v6zff9+n93sw8pPAfkaR0YHu5MxpvZ7JO83nblJgK6RwYIWDA\n",
       "LuSKVpYBBexg8kJ2KXOUelNQ1kZHx+1C8u4pJ7zAY3//qV3KBD+KBGulCRgAXIPdXUzg2Ym2ckOu\n",
       "7lt+6G4ZEpSHYerVKA+qgA+eIJvuAxtMalUMc3e+vkAphpwUlIdhuuBf2y0bbhQSsRk4SsFRzpoN\n",
       "CBSpAcqHoBSmidbD9cJSoeYm4hnQBlwyoHIjUNwapKCgFKbpnVJBBTUZrKZ8D+UE2EIG5VrF4ZCg\n",
       "FKZpgVJYpTzQSIf5Eu9hckyvLylQquJRzVBpmsWsYAp7x7Ydpdy4RAVZ3+4rGzkRgRKDVa0m+Twi\n",
       "L+tbzNmkRX4+f2NjMSVQ+mBVqwm+mb0QeEcKFYr0n6DPuevRd/hNeYag+XpHpolqqqIa/Hq2L+cU\n",
       "hutcK16B4ngCr3NNh2niTVQaD+SFTrbkDc621Q6HQIk9qLzO1bhTDBN9SJ93Gb+FQi/LPyZ2ZNQt\n",
       "kTbRbku0jIc1VH2syKLUZFLSph+DUydDWRQtyzn5yxtJ+ssN8QXzbpCqvj4ZyAAAAABJRU5ErkJg\n",
       "gg==\n",
       "\" style=\"display:inline;vertical-align:middle;\" /></a></span></td></tr>\n",
       "<tr><td>&nbsp;</td><td colspan=4 style-\"text-align:left\"><a class=\"ProveItLink\" href=\"rhsViaEquivalence.ipynb\">proveit.logic.equality.rhsViaEquivalence</a></td></tr><tr><td>3</td><td>assumption</td><td></td><td><span style=\"font-size:20px;\"><a class=\"ProveItLink\" href=\"../__pv_it/270b0e611621b9527f6c1d1da6de2ad522866c920/expr.ipynb\"><img src=\"data:image/png;base64,iVBORw0KGgoAAAANSUhEUgAAAEUAAAAVCAMAAAAn3dPsAAAAPFBMVEX///8LCwsYGBgNDQ0oKChE\n",
       "RETc3NyqqqpUVFS6urrMzMwyMjIQEBCIiIh2dnYiIiLu7u5mZmaYmJgAAADt+DP7AAAAAXRSTlMA\n",
       "QObYZgAAASJJREFUOMudVNl2xSAItL11jSDi//9rNdHY7LE8eFRwHAdEiGIcWfzHHKJqcwr4GN+j\n",
       "dzhe1xmkRxA1XXli86B/RDH2kqR/jXJNZQTlmsoAipPiPYpCMEpDhH2kdH9XhLHkVCXaoFSZKfs4\n",
       "sPCh6z/bz6eMZr1d2NQzy6ml3Fbv4tLulorTIpZ7ZH3mFMum8TWoEDQnClizWeYwX96c2sPlVArf\n",
       "+n6XhyPKtC9bXRRxqZ5qhW/WalCzi1ZdQrbvrzCb3JYrVFWbLgIXOVktigHdU1mUkOY00zqxkHmm\n",
       "4E6VmUvesolPUUgCEiLwgypzJMSkBmpXx4uSDSM/INDxU2UAWtvKepj9EJWSWomH/kIBBqgInVWx\n",
       "vdf1786oz1Hsu777CzvKDW1gBvfbAAAAAElFTkSuQmCC\n",
       "\" style=\"display:inline;vertical-align:middle;\" /></a> <a class=\"ProveItLink\" href=\"../__pv_it/6bfe38c08b898f513147a506b3c335b10e3ff5860/proof.ipynb\" style=\"text-decoration: none\">&#x22A2;&nbsp;</a><a class=\"ProveItLink\" href=\"../__pv_it/300e2e5a84d087a5fb9402300e42d269677e6d4f0/expr.ipynb\"><img src=\"data:image/png;base64,iVBORw0KGgoAAAANSUhEUgAAADMAAAAUCAMAAAAX1vWWAAAAPFBMVEX///8LCwsYGBgNDQ0oKCi6\n",
       "uroyMjJERETMzMwQEBAiIiKYmJju7u5mZmaqqqpUVFSIiIh2dnbc3NwAAACyXdPkAAAAAXRSTlMA\n",
       "QObYZgAAANBJREFUOMvNU0sWwiAMjB/KNxDg/nc1obZqK/jYmQUdIGFmSgAYRi4wG2WZLoGk/pXG\n",
       "6L6CTKlEQjpuaPM+CxmzZNcgGMA7D9Ztu7i0uN9kTPtvB1X5Q7XhFUQzpDERUE7VIjiI2S/KVfqY\n",
       "cpoV9XWzYOlcsxxbIIoTU5/spYGw+3Ec14tr8VKAcltkBfqy+qIwpoEFxU5qjB40FxcauWk8vKQ4\n",
       "mxVpyiFn8j/ctEzC2m/0iJ234fpt48K5+Tg92DhF4/jydZ6igchuRn0+fgMPuMgIfJwzrpMAAAAA\n",
       "SUVORK5CYII=\n",
       "\" style=\"display:inline;vertical-align:middle;\" /></a></span></td></tr>\n",
       "<tr><td>4</td><td>specialization</td><td>5</td><td><span style=\"font-size:20px;\"> <a class=\"ProveItLink\" href=\"../__pv_it/bc14177d806e28a23f78e5535fbaf7ce03c4fc750/proof.ipynb\" style=\"text-decoration: none\">&#x22A2;&nbsp;</a><a class=\"ProveItLink\" href=\"../__pv_it/6f8dbd6419ba631cc8bc5a2ad37b63e90b2c67bd0/expr.ipynb\"><img src=\"data:image/png;base64,iVBORw0KGgoAAAANSUhEUgAAAL4AAAAVCAMAAADPcaSCAAAAPFBMVEX///8LCwsYGBgNDQ0oKCjc\n",
       "3NwiIiJERESqqqqYmJh2dnZmZmYQEBDu7u4yMjJUVFTMzMyIiIi6uroAAACIMCsmAAAAAXRSTlMA\n",
       "QObYZgAAAgpJREFUSMfVltdy7CAMhkmhGmPK+79rqLbXloD1OZOZ6GL/iUX0edUWQv68edf3Kwo9\n",
       "lf4fo4+wiDVuU7v1z1MDP1/sDA2NPsKi1rhVzdo/vmFpNjMwNPoI2wl5VueeJT+WT41RaHTnHjd7\n",
       "42bVT5NPVj1GodH14+Tv3KR+0AKW4z4uhnNr3nXMWONGXWolqHIbFW651pS/DOiq8nkacu7UMhwz\n",
       "NXBg2GvCQW5UI6s/9hKTRLMW32T7/kqf+5JQxIfUuCH/JY4U1uPFjp1SowPjh2CRQDA3qvbVX5zC\n",
       "9pJvY7USiJeO8sPmr9EXtpt6cWDYawfD3KihxElF2e5t7l+XczylU5lDqbUNo9cPHtn2feytd2Bu\n",
       "1BNA3xvQXH9wReo+G+x/en0EezeQG1Xv24NmZ9tnud6fH6Xi/NTjqdxH8cj5eLPjuBbI62NYLBDI\n",
       "jcrLDEla5sKt3eQTk4ae13eQw+3HJfL6XSw06hA3allCIkjC43eirtP5OQvxkQ9yX1wDu5+wZweM\n",
       "BRctxI3q88pauVOrUk72Oz8fdEuoz83w0ulZ1wFjweGFuEk1RccFSa5ib1wa6LuOTinZ/dLQuXix\n",
       "e0NuLP1XHTs1sTLQ6DP3vQG3KHZzhZKffnV4Ba+/eGGGuFXpNp18ImIHtobfpsqPRccdYCoBblNk\n",
       "7gdz6ewcGd0q9NmNv3Gz/gCOxhz3DzxHggAAAABJRU5ErkJggg==\n",
       "\" style=\"display:inline;vertical-align:middle;\" /></a></span></td></tr>\n",
       "<tr><td>&nbsp;</td><td colspan=4 style=\"text-align:left\"><span style=\"font-size:20px;\"><a class=\"ProveItLink\" href=\"../../../__pv_it/530be409e3083890784cf1d7b28c9e67e90af9360/expr.ipynb\"><img src=\"data:image/png;base64,iVBORw0KGgoAAAANSUhEUgAAAAsAAAAJBAMAAAAWSsseAAAAKlBMVEX///9ERETMzMwQEBAiIiKY\n",
       "mJju7u5mZmaqqqpUVFSIiIh2dnbc3NwAAAA/vyDhAAAAAXRSTlMAQObYZgAAAENJREFUCNdjYDi9\n",
       "8sTyBQxsG1hdmR0YuBm4LnAoMLAxcAowgADzAjB1VoEhgYH1wFoGrgSG3gBhhlMMDImrs3cFMAAA\n",
       "t0YN+iTRa+sAAAAASUVORK5CYII=\n",
       "\" style=\"display:inline;vertical-align:middle;\" /></a> : <a class=\"ProveItLink\" href=\"../../../__pv_it/530be409e3083890784cf1d7b28c9e67e90af9360/expr.ipynb\"><img src=\"data:image/png;base64,iVBORw0KGgoAAAANSUhEUgAAAAsAAAAJBAMAAAAWSsseAAAAKlBMVEX///9ERETMzMwQEBAiIiKY\n",
       "mJju7u5mZmaqqqpUVFSIiIh2dnbc3NwAAAA/vyDhAAAAAXRSTlMAQObYZgAAAENJREFUCNdjYDi9\n",
       "8sTyBQxsG1hdmR0YuBm4LnAoMLAxcAowgADzAjB1VoEhgYH1wFoGrgSG3gBhhlMMDImrs3cFMAAA\n",
       "t0YN+iTRa+sAAAAASUVORK5CYII=\n",
       "\" style=\"display:inline;vertical-align:middle;\" /></a>, <a class=\"ProveItLink\" href=\"../../../__pv_it/f8b9edf8e16034727f0aad55bb83e392c3db40d40/expr.ipynb\"><img src=\"data:image/png;base64,iVBORw0KGgoAAAANSUhEUgAAAAsAAAANBAMAAACN24kIAAAAMFBMVEX///+YmJhUVFQyMjIQEBBE\n",
       "REQiIiKqqqrMzMyIiIi6urrc3NxmZmZ2dnbu7u4AAADXeCicAAAAAXRSTlMAQObYZgAAAFhJREFU\n",
       "CNdj4LtzgWH/AwZerg8M8xkY2nkSGEIZGB6wTGD4ycDAUP+A4weQOszA6QCkbBhYFYDUIYb1AkDq\n",
       "6czzGxhA4BoQMyXwuQMptgusF4AU+8xTQBIAUqMVoSp/SLMAAAAASUVORK5CYII=\n",
       "\" style=\"display:inline;vertical-align:middle;\" /></a> : <a class=\"ProveItLink\" href=\"../../../__pv_it/f8b9edf8e16034727f0aad55bb83e392c3db40d40/expr.ipynb\"><img src=\"data:image/png;base64,iVBORw0KGgoAAAANSUhEUgAAAAsAAAANBAMAAACN24kIAAAAMFBMVEX///+YmJhUVFQyMjIQEBBE\n",
       "REQiIiKqqqrMzMyIiIi6urrc3NxmZmZ2dnbu7u4AAADXeCicAAAAAXRSTlMAQObYZgAAAFhJREFU\n",
       "CNdj4LtzgWH/AwZerg8M8xkY2nkSGEIZGB6wTGD4ycDAUP+A4weQOszA6QCkbBhYFYDUIYb1AkDq\n",
       "6czzGxhA4BoQMyXwuQMptgusF4AU+8xTQBIAUqMVoSp/SLMAAAAASUVORK5CYII=\n",
       "\" style=\"display:inline;vertical-align:middle;\" /></a></span></td></tr><tr><td>5</td><td>axiom</td><td></td><td><span style=\"font-size:20px;\"> <a class=\"ProveItLink\" href=\"../_axioms_.ipynb#notEqualsDef\" style=\"text-decoration: none\">&#x22A2;&nbsp;</a><a class=\"ProveItLink\" href=\"../__pv_it/c5793376bd5f3ed65f46b9bf759589707c82e7920/expr.ipynb\"><img src=\"data:image/png;base64,iVBORw0KGgoAAAANSUhEUgAAAP8AAAAWCAMAAAA4nbqyAAAAPFBMVEX///8LCwsYGBgNDQ0oKCgQ\n",
       "EBC6urrMzMxUVFRmZmZERETc3NwyMjKqqqp2dnaIiIiYmJgiIiLu7u4AAACwKje0AAAAAXRSTlMA\n",
       "QObYZgAAArlJREFUWMPlWNuy2yAMpD3lYjD3///XAjE5FhZYznT60OohO7GI1qCVgDD2n1v64DfC\n",
       "Q5yZM9jTIJ6x0B1r67wQ47efGlYqiDMzO/58k09Y6I4767wAne3unSqFPvDuB2qW6P0JC91xHxJB\n",
       "o3u2NDGK9xCfpr8ozdFZ6A5CBTgE+3JulhiFJ4iP088Sp7PQHYRexxEMzjSL1Oa3Q5zW70JP2lJZ\n",
       "6A6KdV6AWVeLjtpFHETjvDLWb6MsNehyybXxJrfsuY3KMnXMaMeUo7wAVXtRbahNJABMJXyIgfGu\n",
       "n21v9uurfr5btWMi1+LN7Zv9TuIx/GXqwjKjv9BOAuG8AEUdnMiy4gKgO6JbuUq/tGyrb6pfRSE4\n",
       "kWWLb3Mk2rEIcV6IdYAP1PlnAbDqSl1LXajxlMWrUvNLrjJTWS67/poWOd1hvBDr3GP6cP4tJ9ci\n",
       "3MdysrUCZZZ/aP4T2quhvBCL9nv00lSEV7KfMzWy33ALsTYXeTpIN8n+/PESrT7VeV3pQX9Q4efh\n",
       "3E7mP6OdBUJ5B9Tm2KtdqqI6KJJn2TA5lqoOAIN5NReflulne221+phEuO02Okzmv6TF+iXGO6Dd\n",
       "ji4qzo3XJFEe+7HI4B5ic2C6LJHxi+pveSiPRA4wxuLqdBkh72nR/RLjHfFUSfmUOVW6rBoZRDxj\n",
       "0t4l54b2eU1/Hei3Hny/vQKKuHTgtGgHxHhHDG8VVbnL8ybELxsMNxCRnjNJr4sPzr/mqWMhprg4\n",
       "/54llpnb295qWgbL3EW+vUVcDdlMVKx0tndZ+l3lo8vTDe+IJ63YrQirrkRVllVe78/vv1j66/FF\n",
       "H2+e/uL9F+MdEV/mIgKDlH9tjAoiIf3MlirsRa9ICp5FnzvQXCC8I6IHR9PWDb9t9a476b43zc1L\n",
       "2qtPe7v57B+AzjviLP117Rz7x+03cmkoGF9quhUAAAAASUVORK5CYII=\n",
       "\" style=\"display:inline;vertical-align:middle;\" /></a></span></td></tr>\n",
       "<tr><td>&nbsp;</td><td colspan=4 style-\"text-align:left\"><a class=\"ProveItLink\" href=\"../_axioms_.ipynb#notEqualsDef\">proveit.logic.equality.notEqualsDef</a></td></tr></table>"
      ],
      "text/plain": [
       "\tstep type\trequirements\tstatement\n",
       "0\tgeneralizaton\t1\t|- forall_{x, y | x != y} [not](x = y)\n",
       "1\tspecialization\t2, 3, 4\t{x != y} |- [not](x = y)\n",
       "\tP : x != y, Q : [not](x = y)\n",
       "2\ttheorem\t\t|- forall_{P, Q | P , P = Q} Q\n",
       "\tproveit.logic.equality.rhsViaEquivalence\n",
       "3\tassumption\t\t{x != y} |- x != y\n",
       "4\tspecialization\t5\t|- (x != y) = [not](x = y)\n",
       "\tx : x, y : y\n",
       "5\taxiom\t\t|- forall_{x, y} ((x != y) = [not](x = y))\n",
       "\tproveit.logic.equality.notEqualsDef"
      ]
     },
     "execution_count": 6,
     "metadata": {},
     "output_type": "execute_result"
    }
   ],
   "source": [
    "%qed"
   ]
  },
  {
   "cell_type": "code",
   "execution_count": null,
   "metadata": {},
   "outputs": [],
   "source": []
  }
 ],
 "metadata": {
  "kernelspec": {
   "display_name": "Python 3",
   "language": "python",
   "name": "python3"
  }
 },
 "nbformat": 4,
 "nbformat_minor": 0
}
