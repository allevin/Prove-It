{
 "cells": [
  {
   "cell_type": "markdown",
   "metadata": {
    "collapsed": true,
    "deletable": true,
    "editable": true
   },
   "source": [
    "Proof of <a class=\"ProveItLink\" href=\"../../../_context_.ipynb\">proveit</a>.<a class=\"ProveItLink\" href=\"../../_context_.ipynb\">logic</a>.<a class=\"ProveItLink\" href=\"../_context_.ipynb\">equality</a>.<a href=\"../_theorems_.ipynb#substituteInFalse\" class=\"ProveItLink\">substituteInFalse</a> theorem\n",
    "========"
   ]
  },
  {
   "cell_type": "code",
   "execution_count": 1,
   "metadata": {
    "collapsed": true,
    "deletable": true,
    "editable": true
   },
   "outputs": [],
   "source": [
    "import proveit\n",
    "from proveit import defaults\n",
    "from proveit._common_ import x, Px\n",
    "context = proveit.Context('..') # the theorem's context is in the parent directory"
   ]
  },
  {
   "cell_type": "code",
   "execution_count": 2,
   "metadata": {
    "collapsed": false,
    "deletable": true,
    "editable": true
   },
   "outputs": [
    {
     "name": "stdout",
     "output_type": "stream",
     "text": [
      "Beginning proof of substituteInFalse\n",
      "Recorded 'presuming' information\n",
      "Presuming previous theorems (applied transitively).\n"
     ]
    },
    {
     "data": {
      "text/html": [
       "<strong id=\"substituteInFalse\">substituteInFalse:</strong> <a class=\"ProveItLink\" href=\"../__pv_it/f287652a8b549a9e50c5775e0059552e341861ac0/expr.ipynb\"><img src=\"../__pv_it/f287652a8b549a9e50c5775e0059552e341861ac0/expr.png\" style=\"display:inline;vertical-align:middle;\" /></a><br>(see <a class=\"ProveItLink\" href=\"../__pv_it/f287652a8b549a9e50c5775e0059552e341861ac0/dependencies.ipynb\">dependencies</a>)<br>"
      ],
      "text/plain": [
       "substituteInFalse: forall_{P, x | P(x) , [not](x)} P(FALSE)"
      ]
     },
     "execution_count": 2,
     "metadata": {},
     "output_type": "execute_result"
    }
   ],
   "source": [
    "%proving substituteInFalse presuming []"
   ]
  },
  {
   "cell_type": "code",
   "execution_count": 3,
   "metadata": {
    "collapsed": false,
    "deletable": true,
    "editable": true
   },
   "outputs": [
    {
     "data": {
      "text/html": [
       "<strong id=\"defaults.assumptions\">defaults.assumptions:</strong> <a class=\"ProveItLink\" href=\"../__pv_it/3cf736584b9b8613e9435313d1a20bac3796fb660/expr.ipynb\"><img src=\"../__pv_it/3cf736584b9b8613e9435313d1a20bac3796fb660/expr.png\" style=\"display:inline;vertical-align:middle;\" /></a><br>"
      ],
      "text/plain": [
       "defaults.assumptions: (P(x) , [not](x))"
      ]
     },
     "execution_count": 3,
     "metadata": {},
     "output_type": "execute_result"
    }
   ],
   "source": [
    "defaults.assumptions = substituteInFalse.conditions"
   ]
  },
  {
   "cell_type": "code",
   "execution_count": 4,
   "metadata": {
    "collapsed": false,
    "deletable": true,
    "editable": true
   },
   "outputs": [
    {
     "data": {
      "text/html": [
       "<strong id=\"x_eq_F\">x_eq_F:</strong> <span style=\"font-size:20px;\"><a class=\"ProveItLink\" href=\"../__pv_it/688b0dbebe6868e10c0bfa44157608a9e6c399150/expr.ipynb\"><img src=\"../__pv_it/688b0dbebe6868e10c0bfa44157608a9e6c399150/expr.png\" style=\"display:inline;vertical-align:middle;\" /></a> &#x22A2;&nbsp;<a class=\"ProveItLink\" href=\"../__pv_it/bfde2fa374beef60ac871fc92a38624946eac7bb0/expr.ipynb\"><img src=\"../__pv_it/bfde2fa374beef60ac871fc92a38624946eac7bb0/expr.png\" style=\"display:inline;vertical-align:middle;\" /></a></span><br>"
      ],
      "text/plain": [
       "x_eq_F: {[not](x)} |= x = FALSE"
      ]
     },
     "execution_count": 4,
     "metadata": {},
     "output_type": "execute_result"
    }
   ],
   "source": [
    "x_eq_F = x.evaluation()"
   ]
  },
  {
   "cell_type": "code",
   "execution_count": 5,
   "metadata": {
    "collapsed": false,
    "deletable": true,
    "editable": true
   },
   "outputs": [
    {
     "data": {
      "text/html": [
       "<span style=\"font-size:20px;\"><a class=\"ProveItLink\" href=\"../__pv_it/61e95f0a19b3ffd4cceb4ec618945355248ca3f10/expr.ipynb\"><img src=\"../__pv_it/61e95f0a19b3ffd4cceb4ec618945355248ca3f10/expr.png\" style=\"display:inline;vertical-align:middle;\" /></a> &#x22A2;&nbsp;<a class=\"ProveItLink\" href=\"../../__pv_it/4d7c4165a9fdb279e98a557bae75d7e45eb1c31a0/expr.ipynb\"><img src=\"../../__pv_it/4d7c4165a9fdb279e98a557bae75d7e45eb1c31a0/expr.png\" style=\"display:inline;vertical-align:middle;\" /></a></span>"
      ],
      "text/plain": [
       "{P(x) , [not](x)} |= P(FALSE)"
      ]
     },
     "execution_count": 5,
     "metadata": {},
     "output_type": "execute_result"
    }
   ],
   "source": [
    "x_eq_F.subRightSideInto(Px)"
   ]
  },
  {
   "cell_type": "code",
   "execution_count": 6,
   "metadata": {
    "collapsed": false,
    "deletable": true,
    "editable": true
   },
   "outputs": [
    {
     "data": {
      "text/html": [
       "<table><tr><th>&nbsp;</th><th>step type</th><th>requirements</th><th>statement</th></tr>\n",
       "<tr><td>0</td><td>generalizaton</td><td>1</td><td><span style=\"font-size:20px;\"> &#x22A2;&nbsp;<a class=\"ProveItLink\" href=\"../__pv_it/f287652a8b549a9e50c5775e0059552e341861ac0/expr.ipynb\"><img src=\"../__pv_it/f287652a8b549a9e50c5775e0059552e341861ac0/expr.png\" style=\"display:inline;vertical-align:middle;\" /></a></span></td></tr>\n",
       "<tr><td>1</td><td>specialization</td><td>2, 3, 4</td><td><span style=\"font-size:20px;\"><a class=\"ProveItLink\" href=\"../__pv_it/61e95f0a19b3ffd4cceb4ec618945355248ca3f10/expr.ipynb\"><img src=\"../__pv_it/61e95f0a19b3ffd4cceb4ec618945355248ca3f10/expr.png\" style=\"display:inline;vertical-align:middle;\" /></a> &#x22A2;&nbsp;<a class=\"ProveItLink\" href=\"../../__pv_it/4d7c4165a9fdb279e98a557bae75d7e45eb1c31a0/expr.ipynb\"><img src=\"../../__pv_it/4d7c4165a9fdb279e98a557bae75d7e45eb1c31a0/expr.png\" style=\"display:inline;vertical-align:middle;\" /></a></span></td></tr>\n",
       "<tr><td>&nbsp;</td><td colspan=4 style=\"text-align:left\"><span style=\"font-size:20px;\"><a class=\"ProveItLink\" href=\"../__pv_it/5e10e116d5d17c2199258b9817716afcdddab6330/expr.ipynb\"><img src=\"../__pv_it/5e10e116d5d17c2199258b9817716afcdddab6330/expr.png\" style=\"display:inline;vertical-align:middle;\" /></a>, <a class=\"ProveItLink\" href=\"../__pv_it/e27c209c015cc043c1b7408e3a1c61c1e6cf62cb0/expr.ipynb\"><img src=\"../__pv_it/e27c209c015cc043c1b7408e3a1c61c1e6cf62cb0/expr.png\" style=\"display:inline;vertical-align:middle;\" /></a>, <a class=\"ProveItLink\" href=\"../__pv_it/2465f787977bed818bfc63ceb3806768f54e02dd0/expr.ipynb\"><img src=\"../__pv_it/2465f787977bed818bfc63ceb3806768f54e02dd0/expr.png\" style=\"display:inline;vertical-align:middle;\" /></a></span></td></tr><tr><td>2</td><td>theorem</td><td></td><td><span style=\"font-size:20px;\"> &#x22A2;&nbsp;<a class=\"ProveItLink\" href=\"../__pv_it/5b6686687da80bc69920c8ed469622d49cb40ce40/expr.ipynb\"><img src=\"../__pv_it/5b6686687da80bc69920c8ed469622d49cb40ce40/expr.png\" style=\"display:inline;vertical-align:middle;\" /></a></span></td></tr>\n",
       "<tr><td>&nbsp;</td><td colspan=4 style-\"text-align:left\"><a class=\"ProveItLink\" href=\"subRightSideInto.ipynb\">proveit.logic.equality.subRightSideInto</a></td></tr><tr><td>3</td><td>assumption</td><td></td><td><span style=\"font-size:20px;\"><a class=\"ProveItLink\" href=\"../__pv_it/8cf695abc81f60280655be3ca704e2c4a9bbc8e20/expr.ipynb\"><img src=\"../__pv_it/8cf695abc81f60280655be3ca704e2c4a9bbc8e20/expr.png\" style=\"display:inline;vertical-align:middle;\" /></a> &#x22A2;&nbsp;<a class=\"ProveItLink\" href=\"../../../__pv_it/8c735c381b4cbf3c87e86ca2468da4e5c976f9b00/expr.ipynb\"><img src=\"../../../__pv_it/8c735c381b4cbf3c87e86ca2468da4e5c976f9b00/expr.png\" style=\"display:inline;vertical-align:middle;\" /></a></span></td></tr>\n",
       "<tr><td>4</td><td>specialization</td><td>5, 6</td><td><span style=\"font-size:20px;\"><a class=\"ProveItLink\" href=\"../__pv_it/688b0dbebe6868e10c0bfa44157608a9e6c399150/expr.ipynb\"><img src=\"../__pv_it/688b0dbebe6868e10c0bfa44157608a9e6c399150/expr.png\" style=\"display:inline;vertical-align:middle;\" /></a> &#x22A2;&nbsp;<a class=\"ProveItLink\" href=\"../__pv_it/bfde2fa374beef60ac871fc92a38624946eac7bb0/expr.ipynb\"><img src=\"../__pv_it/bfde2fa374beef60ac871fc92a38624946eac7bb0/expr.png\" style=\"display:inline;vertical-align:middle;\" /></a></span></td></tr>\n",
       "<tr><td>&nbsp;</td><td colspan=4 style=\"text-align:left\"><span style=\"font-size:20px;\"><a class=\"ProveItLink\" href=\"../__pv_it/cecece378af1ccb80cf233f94bd0fcdfec2f54450/expr.ipynb\"><img src=\"../__pv_it/cecece378af1ccb80cf233f94bd0fcdfec2f54450/expr.png\" style=\"display:inline;vertical-align:middle;\" /></a></span></td></tr><tr><td>5</td><td>axiom</td><td></td><td><span style=\"font-size:20px;\"> &#x22A2;&nbsp;<a class=\"ProveItLink\" href=\"../../boolean/negation/__pv_it/4b5dd3f037f440d68a8f1e360a14677af00fd6dd0/expr.ipynb\"><img src=\"../../boolean/negation/__pv_it/4b5dd3f037f440d68a8f1e360a14677af00fd6dd0/expr.png\" style=\"display:inline;vertical-align:middle;\" /></a></span></td></tr>\n",
       "<tr><td>&nbsp;</td><td colspan=4 style-\"text-align:left\"><a class=\"ProveItLink\" href=\"../../boolean/negation/_axioms_.ipynb#negationElim\">proveit.logic.boolean.negation.negationElim</a></td></tr><tr><td>6</td><td>assumption</td><td></td><td><span style=\"font-size:20px;\"><a class=\"ProveItLink\" href=\"../__pv_it/688b0dbebe6868e10c0bfa44157608a9e6c399150/expr.ipynb\"><img src=\"../__pv_it/688b0dbebe6868e10c0bfa44157608a9e6c399150/expr.png\" style=\"display:inline;vertical-align:middle;\" /></a> &#x22A2;&nbsp;<a class=\"ProveItLink\" href=\"../__pv_it/5257302be1da79642d1552c1da1a429d5b167c980/expr.ipynb\"><img src=\"../__pv_it/5257302be1da79642d1552c1da1a429d5b167c980/expr.png\" style=\"display:inline;vertical-align:middle;\" /></a></span></td></tr>\n",
       "</table>"
      ],
      "text/plain": [
       "\tstep type\trequirements\tstatement\n",
       "0\tgeneralizaton\t1\t|= forall_{P, x | P(x) , [not](x)} P(FALSE)\n",
       "1\tspecialization\t2, 3, 4\t{P(x) , [not](x)} |= P(FALSE)\n",
       "\tP -> [_x_ -> P(_x_)], x -> x, y -> FALSE\n",
       "2\ttheorem\t\t|= forall_{P, x, y | P(x) , x = y} P(y)\n",
       "\tproveit.logic.equality.subRightSideInto\n",
       "3\tassumption\t\t{P(x)} |= P(x)\n",
       "4\tspecialization\t5, 6\t{[not](x)} |= x = FALSE\n",
       "\tA -> x\n",
       "5\taxiom\t\t|= forall_{A | [not](A)} (A = FALSE)\n",
       "\tproveit.logic.boolean.negation.negationElim\n",
       "6\tassumption\t\t{[not](x)} |= [not](x)"
      ]
     },
     "execution_count": 6,
     "metadata": {},
     "output_type": "execute_result"
    }
   ],
   "source": [
    "%qed"
   ]
  },
  {
   "cell_type": "code",
   "execution_count": 7,
   "metadata": {
    "collapsed": true,
    "deletable": true,
    "editable": true
   },
   "outputs": [],
   "source": []
  }
 ],
 "metadata": {
  "kernelspec": {
   "display_name": "Python 3",
   "language": "python",
   "name": "python3"
  },
  "language_info": {
   "codemirror_mode": {
    "name": "ipython",
    "version": 3
   },
   "file_extension": ".py",
   "mimetype": "text/x-python",
   "name": "python",
   "nbconvert_exporter": "python",
   "pygments_lexer": "ipython3",
   "version": "3.7.0"
  }
 },
 "nbformat": 4,
 "nbformat_minor": 0
}
