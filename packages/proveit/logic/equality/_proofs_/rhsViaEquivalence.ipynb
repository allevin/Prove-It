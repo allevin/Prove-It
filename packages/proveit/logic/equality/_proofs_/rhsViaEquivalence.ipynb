{
 "cells": [
  {
   "cell_type": "markdown",
   "metadata": {},
   "source": [
    "Proof of <a class=\"ProveItLink\" href=\"../../../_context_.ipynb\">proveit</a>.<a class=\"ProveItLink\" href=\"../../_context_.ipynb\">logic</a>.<a class=\"ProveItLink\" href=\"../_context_.ipynb\">equality</a>.<a href=\"../_theorems_.ipynb#rhsViaEquivalence\" class=\"ProveItLink\">rhsViaEquivalence</a> theorem\n",
    "========"
   ]
  },
  {
   "cell_type": "code",
   "execution_count": 1,
   "metadata": {},
   "outputs": [],
   "source": [
    "import proveit\n",
    "from proveit import defaults, Lambda\n",
    "from proveit._common_ import x, y, P, Q, X\n",
    "from proveit.logic.equality._theorems_ import subRightSideInto\n",
    "context = proveit.Context('..') # the theorem's context is in the parent directory"
   ]
  },
  {
   "cell_type": "code",
   "execution_count": 2,
   "metadata": {},
   "outputs": [
    {
     "name": "stdout",
     "output_type": "stream",
     "text": [
      "Beginning proof of rhsViaEquivalence\n",
      "Recorded 'presuming' information\n",
      "Presuming previous theorems (applied transitively).\n"
     ]
    },
    {
     "data": {
      "text/html": [
       "<strong id=\"rhsViaEquivalence\">rhsViaEquivalence:</strong> <a class=\"ProveItLink\" href=\"../__pv_it/771aeab8c4711531b2b4534bd94ab64c6ca8ce7f0/expr.ipynb\"><img src=\"data:image/png;base64,iVBORw0KGgoAAAANSUhEUgAAAIkAAAAWBAMAAAAGOqJsAAAAMFBMVEX///8QEBC6urrMzMxUVFRm\n",
       "ZmZERETc3NwyMjKqqqp2dnaIiIiYmJgiIiLu7u4AAAAU9Wx4AAAAAXRSTlMAQObYZgAAAfJJREFU\n",
       "OMutlE8oBFEcx7/ssHbMrj8pN+1hD27moCgHQiilLdyUveCICwfJOhFhHcht92CztrQkBwc1zpI9\n",
       "KCWxbm7+hfz3fm/szJtdBya/er/v6zff9+n93sw8pPAfkaR0YHu5MxpvZ7JO83nblJgK6RwYIWDA\n",
       "LuSKVpYBBexg8kJ2KXOUelNQ1kZHx+1C8u4pJ7zAY3//qV3KBD+KBGulCRgAXIPdXUzg2Ym2ckOu\n",
       "7lt+6G4ZEpSHYerVKA+qgA+eIJvuAxtMalUMc3e+vkAphpwUlIdhuuBf2y0bbhQSsRk4SsFRzpoN\n",
       "CBSpAcqHoBSmidbD9cJSoeYm4hnQBlwyoHIjUNwapKCgFKbpnVJBBTUZrKZ8D+UE2EIG5VrF4ZCg\n",
       "FKZpgVJYpTzQSIf5Eu9hckyvLylQquJRzVBpmsWsYAp7x7Ydpdy4RAVZ3+4rGzkRgRKDVa0m+Twi\n",
       "L+tbzNmkRX4+f2NjMSVQ+mBVqwm+mb0QeEcKFYr0n6DPuevRd/hNeYag+XpHpolqqqIa/Hq2L+cU\n",
       "hutcK16B4ngCr3NNh2niTVQaD+SFTrbkDc621Q6HQIk9qLzO1bhTDBN9SJ93Gb+FQi/LPyZ2ZNQt\n",
       "kTbRbku0jIc1VH2syKLUZFLSph+DUydDWRQtyzn5yxtJ+ssN8QXzbpCqvj4ZyAAAAABJRU5ErkJg\n",
       "gg==\n",
       "\" style=\"display:inline;vertical-align:middle;\" /></a><br>(see <a class=\"ProveItLink\" href=\"../__pv_it/771aeab8c4711531b2b4534bd94ab64c6ca8ce7f0/dependencies.ipynb\">dependencies</a>)<br>"
      ],
      "text/plain": [
       "rhsViaEquivalence: forall_{P, Q | P , P = Q} Q"
      ]
     },
     "execution_count": 2,
     "metadata": {},
     "output_type": "execute_result"
    }
   ],
   "source": [
    "%proving rhsViaEquivalence presuming []"
   ]
  },
  {
   "cell_type": "code",
   "execution_count": 3,
   "metadata": {},
   "outputs": [
    {
     "data": {
      "text/html": [
       "<strong id=\"defaults.assumptions\">defaults.assumptions:</strong> <a class=\"ProveItLink\" href=\"../__pv_it/4e98ca3a1f4abd4c04a7b46e87b46883bbd5d1e60/expr.ipynb\"><img src=\"data:image/png;base64,iVBORw0KGgoAAAANSUhEUgAAAF8AAAAVBAMAAADSoS/MAAAAMFBMVEX////c3NwiIiJERESqqqqY\n",
       "mJh2dnZmZmYQEBDu7u4yMjJUVFTMzMyIiIi6uroAAAAs73DqAAAAAXRSTlMAQObYZgAAAahJREFU\n",
       "OMuVU79LAmEYfuQ88/T8sUcUNYQ05BK0edAfYFNj2aIQhFLg0FJBQxHUbUVLEhRUQ9TQIuLR2mC0\n",
       "JnQ01iIWahna936nd3SK5Qvfy3f3fA/f877v8wF9h//h/2fnKd2z9dTMZieC/J8vX8/eXHccdSTi\n",
       "OWBAY9tz+v4ChE0DCmSA6aCdsKTBGwIY5iNFcgVwVgyoEAOiMdv5ozBLu8Ac4FZJRwMQqwb2rAML\n",
       "KRvhhNK6ikPglbZCCfB+GFiErbzy+/zAN+WkDkFBuq37OGyArBzp3XbBMMeSClwpnLZ0y+MGRuXc\n",
       "cUVrFxSXXMwsv1uDM4M9rvs2nm41xlePJxbtPZqkQlFjQ9tAg3NVExM+uwysRonaKJcMQtnCAiNd\n",
       "CBz37HDCFumuWljB7OjKKMUYba8oRTUuaao1BhZqewwdEdWHijJVK2aQMHVLZVs5VrhCMdcMdYW1\n",
       "9QU4iNTJH9J+ENJqM9fNpm9njwqYJI8Ot+Uzf7CHswVNZARmDdHymdjrKQgpMtFy295/E7xN1hmJ\n",
       "WQiD5r+eT0/eZvbwkmhHH0+0CPwAGw9v0qAgJQcAAAAASUVORK5CYII=\n",
       "\" style=\"display:inline;vertical-align:middle;\" /></a><br>"
      ],
      "text/plain": [
       "defaults.assumptions: (P , P = Q)"
      ]
     },
     "execution_count": 3,
     "metadata": {},
     "output_type": "execute_result"
    }
   ],
   "source": [
    "defaults.assumptions = rhsViaEquivalence.allConditions()"
   ]
  },
  {
   "cell_type": "code",
   "execution_count": 4,
   "metadata": {},
   "outputs": [
    {
     "data": {
      "text/html": [
       "<span style=\"font-size:20px;\"> <a class=\"ProveItLink\" href=\"subRightSideInto.ipynb\" style=\"text-decoration: none\">&#x22A2;&nbsp;</a><a class=\"ProveItLink\" href=\"../__pv_it/d4113fad0d92b942ed717e4508c11482c9ed7ebd0/expr.ipynb\"><img src=\"data:image/png;base64,iVBORw0KGgoAAAANSUhEUgAAAMEAAAAXBAMAAABACzadAAAAMFBMVEX///8QEBC6urrMzMxUVFRm\n",
       "ZmZERETc3NwyMjKqqqp2dnaIiIiYmJgiIiLu7u4AAAAU9Wx4AAAAAXRSTlMAQObYZgAAAs1JREFU\n",
       "SMe1Vk1oE1EQ/pJNNskm2QR76i0HDwEppuDFgyS0RYtFWrSKqGC9NIJCFirWi5qL4EGqB3vqoYsQ\n",
       "qi2WgCVQc2jUmx7MTRCR9BIEL8WWKhXUeX+7a8OKYjrwMm9nvjffzs7MI8CeS2tPogarQr+k1WSb\n",
       "N92JGx/dGjpxjO0OSUs4Bzxhm5kuvXqqDFyyvAHJcJ1UZKJLDHkbmKcVryrLayBKhQg/6BLDWgZ4\n",
       "OwYEnOquA4mF6emb3SpwidYovW7Wsej0tD05+f7vzk/x39gfEN8Ac5v0OdIVG7dbMCijQaBI50qn\n",
       "x4udRzIiKHdGbP6g2b4E2g5whELiHmAEN7BGR6nU+2HSL14ATzvPyBbgTl3aHvl369ZiZYFt9gGH\n",
       "w01M0mCkgSTiDTIOUY1afgzcOSdtn3wZ9B9y84UmOVDFd0prg4gbSRb5AzDsmwN3qo8YyvmOQ9Nl\n",
       "wHxL2xQMZpkNoLmJxDvSSwMrFCBYkw0nGIST8jVWDgzKZhdAfkMoMPJjkqGX1lnE0+IroTjAYDuL\n",
       "F0gZraMB6q/PKavfkwN3alSt5dBEL4IFBRy+S1J1wHwcuFyldQc6AROsxrMsN6MsYrE2AG71oeZh\n",
       "4E4WOBOlkmllF/gbGCVVyAqtcRwkMOtWBFjWukrwK/89jhEPA3fG2KunLMmggB6weebniLT00WrX\n",
       "LxI4ytJKMOaUvDi0tCbarcfDwJ1Btu9HTmw48DL/Sg7YlQC7/Xj3r7t3FrPdsPJG2SCFHpoXl4E7\n",
       "zSY1xmPYSNgKKEWBXSFIqGmyei8pk3H/FIvUaK+eXyaFh7WyyyCc+AjzyuzzFsIZBZSiwB6ZQdLW\n",
       "bYhh9kpDqogVqnrngcuq1FEXyMUBe+QaYvWTbHasXfeKJZVuZ9HB0JZ6zgHKSbazHbMXkZzPdn8+\n",
       "pWJ1u5MhJl+84AClvW7/x4Vf8D68EiX7x/8OvwDdgcJMzIcRKQAAAABJRU5ErkJggg==\n",
       "\" style=\"display:inline;vertical-align:middle;\" /></a></span>"
      ],
      "text/plain": [
       "|- forall_{P, x, y | P(x) , x = y} P(y)"
      ]
     },
     "execution_count": 4,
     "metadata": {},
     "output_type": "execute_result"
    }
   ],
   "source": [
    "subRightSideInto"
   ]
  },
  {
   "cell_type": "code",
   "execution_count": 5,
   "metadata": {},
   "outputs": [
    {
     "data": {
      "text/html": [
       "<span style=\"font-size:20px;\"><a class=\"ProveItLink\" href=\"../__pv_it/4fcb1257dda1f61c4e25e0a2ad69b90b87ce5d4b0/expr.ipynb\"><img src=\"data:image/png;base64,iVBORw0KGgoAAAANSUhEUgAAAGUAAAAVBAMAAACtcD09AAAAMFBMVEX///9ERETc3NyqqqpUVFS6\n",
       "urrMzMwyMjIQEBCIiIh2dnYiIiLu7u5mZmaYmJgAAABJJ2g3AAAAAXRSTlMAQObYZgAAAZdJREFU\n",
       "OMtjYGDgu8dANGBbpQCieHYxkADYmkEk5wcQ4f/FxdsJIjzlv4vLFgUM1Vq3lkwAUtdBbK4GEMlf\n",
       "wMAgAVX4nYGBsQldC1cZA4P3AQaGFQg9+QsYGOwXQKz/xcDA/AtNC08hkOBwQNEzP4CB4f0FsDTn\n",
       "V2C4/EXTw74BSPD+QdEjD8T+BmBpRqAHWT6j6bmfAFL6FUUP0A88HyHSIK+dF0DVwgSW4/oM1cNb\n",
       "APVDNsRpIK+x7QXLlIOBA4j5D+yCb0APgBgZASA/fFm1dhHUzPleq26hBzX3H7ALgE5iB5qc0gY2\n",
       "4Q9CXv4AZlTygz0ADljxBwwMESDf8W9AyP/GEv0Q+QqgadwgfSwg/+RfQKQOeDDz7gYDUHCwgxIL\n",
       "M9A7EP9wbYBGDzDkYNGDAZi/Ms1MAPscEdYQP5zfgOY1BFh9imGxEAOSHp6L/z1BzBOfGBjOyn+Z\n",
       "gEUPq/vKzQxsKPZAQRC+bCDG8Aybngf49MiyFsD08BGrx/9/ACz/8OyEi3LizaIZfaCYaAWz+RaT\n",
       "WB4AAKZndVO3jA4OAAAAAElFTkSuQmCC\n",
       "\" style=\"display:inline;vertical-align:middle;\" /></a> <a class=\"ProveItLink\" href=\"../__pv_it/f36f159b5b9289c505280055aab5505cb0dfca630/proof.ipynb\" style=\"text-decoration: none\">&#x22A2;&nbsp;</a><a class=\"ProveItLink\" href=\"../../../__pv_it/98124f92e6e1fc3772af50ac63eaa1f5624776f20/expr.ipynb\"><img src=\"data:image/png;base64,iVBORw0KGgoAAAANSUhEUgAAAA8AAAASBAMAAAB2sJk8AAAAMFBMVEX///+YmJiqqqq6uroQEBBE\n",
       "RETu7u4iIiLMzMwyMjKIiIhUVFRmZmZ2dnbc3NwAAADS0us6AAAAAXRSTlMAQObYZgAAAHxJREFU\n",
       "CNdjYGDgu3N3FwMI3Gxg4C4D0pkBQMIbiKeDRM8nMPD8ADHuGzC8DwAzFBjOC4AY8Q0M9Qkgxhcw\n",
       "YmBg+svA8B3E4HRjYJgPYug3ALHBqxUczkAOb9kFXtUHIGHrucsVGBrAtrI2MEIZByzBNAP3/88Q\n",
       "BocL0BoActoerD1tNT4AAAAASUVORK5CYII=\n",
       "\" style=\"display:inline;vertical-align:middle;\" /></a></span>"
      ],
      "text/plain": [
       "{P , P = Q} |- Q"
      ]
     },
     "execution_count": 5,
     "metadata": {},
     "output_type": "execute_result"
    }
   ],
   "source": [
    "subRightSideInto.specialize({P:Lambda(X, X), x:P, y:Q})"
   ]
  },
  {
   "cell_type": "code",
   "execution_count": 6,
   "metadata": {},
   "outputs": [
    {
     "data": {
      "text/html": [
       "<table><tr><th>&nbsp;</th><th>step type</th><th>requirements</th><th>statement</th></tr>\n",
       "<tr><td>0</td><td>generalizaton</td><td>1</td><td><span style=\"font-size:20px;\"> <a class=\"ProveItLink\" href=\"../__pv_it/9f148520c695d2384b1825f60433cd9c8088a0f50/proof.ipynb\" style=\"text-decoration: none\">&#x22A2;&nbsp;</a><a class=\"ProveItLink\" href=\"../__pv_it/771aeab8c4711531b2b4534bd94ab64c6ca8ce7f0/expr.ipynb\"><img src=\"data:image/png;base64,iVBORw0KGgoAAAANSUhEUgAAAIkAAAAWBAMAAAAGOqJsAAAAMFBMVEX///8QEBC6urrMzMxUVFRm\n",
       "ZmZERETc3NwyMjKqqqp2dnaIiIiYmJgiIiLu7u4AAAAU9Wx4AAAAAXRSTlMAQObYZgAAAfJJREFU\n",
       "OMutlE8oBFEcx7/ssHbMrj8pN+1hD27moCgHQiilLdyUveCICwfJOhFhHcht92CztrQkBwc1zpI9\n",
       "KCWxbm7+hfz3fm/szJtdBya/er/v6zff9+n93sw8pPAfkaR0YHu5MxpvZ7JO83nblJgK6RwYIWDA\n",
       "LuSKVpYBBexg8kJ2KXOUelNQ1kZHx+1C8u4pJ7zAY3//qV3KBD+KBGulCRgAXIPdXUzg2Ym2ckOu\n",
       "7lt+6G4ZEpSHYerVKA+qgA+eIJvuAxtMalUMc3e+vkAphpwUlIdhuuBf2y0bbhQSsRk4SsFRzpoN\n",
       "CBSpAcqHoBSmidbD9cJSoeYm4hnQBlwyoHIjUNwapKCgFKbpnVJBBTUZrKZ8D+UE2EIG5VrF4ZCg\n",
       "FKZpgVJYpTzQSIf5Eu9hckyvLylQquJRzVBpmsWsYAp7x7Ydpdy4RAVZ3+4rGzkRgRKDVa0m+Twi\n",
       "L+tbzNmkRX4+f2NjMSVQ+mBVqwm+mb0QeEcKFYr0n6DPuevRd/hNeYag+XpHpolqqqIa/Hq2L+cU\n",
       "hutcK16B4ngCr3NNh2niTVQaD+SFTrbkDc621Q6HQIk9qLzO1bhTDBN9SJ93Gb+FQi/LPyZ2ZNQt\n",
       "kTbRbku0jIc1VH2syKLUZFLSph+DUydDWRQtyzn5yxtJ+ssN8QXzbpCqvj4ZyAAAAABJRU5ErkJg\n",
       "gg==\n",
       "\" style=\"display:inline;vertical-align:middle;\" /></a></span></td></tr>\n",
       "<tr><td>1</td><td>specialization</td><td>2, 3, 4</td><td><span style=\"font-size:20px;\"><a class=\"ProveItLink\" href=\"../__pv_it/4fcb1257dda1f61c4e25e0a2ad69b90b87ce5d4b0/expr.ipynb\"><img src=\"data:image/png;base64,iVBORw0KGgoAAAANSUhEUgAAAGUAAAAVBAMAAACtcD09AAAAMFBMVEX///9ERETc3NyqqqpUVFS6\n",
       "urrMzMwyMjIQEBCIiIh2dnYiIiLu7u5mZmaYmJgAAABJJ2g3AAAAAXRSTlMAQObYZgAAAZdJREFU\n",
       "OMtjYGDgu8dANGBbpQCieHYxkADYmkEk5wcQ4f/FxdsJIjzlv4vLFgUM1Vq3lkwAUtdBbK4GEMlf\n",
       "wMAgAVX4nYGBsQldC1cZA4P3AQaGFQg9+QsYGOwXQKz/xcDA/AtNC08hkOBwQNEzP4CB4f0FsDTn\n",
       "V2C4/EXTw74BSPD+QdEjD8T+BmBpRqAHWT6j6bmfAFL6FUUP0A88HyHSIK+dF0DVwgSW4/oM1cNb\n",
       "APVDNsRpIK+x7QXLlIOBA4j5D+yCb0APgBgZASA/fFm1dhHUzPleq26hBzX3H7ALgE5iB5qc0gY2\n",
       "4Q9CXv4AZlTygz0ADljxBwwMESDf8W9AyP/GEv0Q+QqgadwgfSwg/+RfQKQOeDDz7gYDUHCwgxIL\n",
       "M9A7EP9wbYBGDzDkYNGDAZi/Ms1MAPscEdYQP5zfgOY1BFh9imGxEAOSHp6L/z1BzBOfGBjOyn+Z\n",
       "gEUPq/vKzQxsKPZAQRC+bCDG8Aybngf49MiyFsD08BGrx/9/ACz/8OyEi3LizaIZfaCYaAWz+RaT\n",
       "WB4AAKZndVO3jA4OAAAAAElFTkSuQmCC\n",
       "\" style=\"display:inline;vertical-align:middle;\" /></a> <a class=\"ProveItLink\" href=\"../__pv_it/f36f159b5b9289c505280055aab5505cb0dfca630/proof.ipynb\" style=\"text-decoration: none\">&#x22A2;&nbsp;</a><a class=\"ProveItLink\" href=\"../../../__pv_it/98124f92e6e1fc3772af50ac63eaa1f5624776f20/expr.ipynb\"><img src=\"data:image/png;base64,iVBORw0KGgoAAAANSUhEUgAAAA8AAAASBAMAAAB2sJk8AAAAMFBMVEX///+YmJiqqqq6uroQEBBE\n",
       "RETu7u4iIiLMzMwyMjKIiIhUVFRmZmZ2dnbc3NwAAADS0us6AAAAAXRSTlMAQObYZgAAAHxJREFU\n",
       "CNdjYGDgu3N3FwMI3Gxg4C4D0pkBQMIbiKeDRM8nMPD8ADHuGzC8DwAzFBjOC4AY8Q0M9Qkgxhcw\n",
       "YmBg+svA8B3E4HRjYJgPYug3ALHBqxUczkAOb9kFXtUHIGHrucsVGBrAtrI2MEIZByzBNAP3/88Q\n",
       "BocL0BoActoerD1tNT4AAAAASUVORK5CYII=\n",
       "\" style=\"display:inline;vertical-align:middle;\" /></a></span></td></tr>\n",
       "<tr><td>&nbsp;</td><td colspan=4 style=\"text-align:left\"><span style=\"font-size:20px;\"><a class=\"ProveItLink\" href=\"../__pv_it/eaadfdb7a834b58639954591628a057455fd18480/expr.ipynb\"><img src=\"data:image/png;base64,iVBORw0KGgoAAAANSUhEUgAAADUAAAAVBAMAAAAUZLt1AAAAMFBMVEX////u7u5mZmaYmJi6urqq\n",
       "qqp2dnbMzMwQEBBEREQyMjLc3NwiIiJUVFSIiIgAAAAeC3ydAAAAAXRSTlMAQObYZgAAAShJREFU\n",
       "KM9jYCASsDxAsE3A5Nv/d++e3QBi1QKx7f82hl0/rjIwFYAlfzEwcHaDGAtBxP0ABtYLQHoBiMP+\n",
       "jYGBFYgZ+MBG1i9g2ASizUAE3xcGBuZPQAaHAIjL9ZtbAURLgAjODwwMvF+BDC+wDayfZME0ZwCQ\n",
       "4AeaLD8ByFCDuLD/IphiA+muT2BgPwTiLYbI5UN8wgpyzPtraWpgL7RA5O4fgHi2AUjMF4B69wuY\n",
       "ZNoLodmBzmD4w4Aip87+Ey7H/gkm1wp2ggPD+Q0wM/m+wOQmg4gnDAz2YP8xA93C+REmlwSyLQHo\n",
       "qQ9QPwjN/wsLfR8GBs/+Iwws6/+AfMjlgBxFHBuQeRIo0cecgMzLQ43bhUhsxgWocnuR2LwbUOW4\n",
       "kdLEcwYGAKihSR1uYyKHAAAAAElFTkSuQmCC\n",
       "\" style=\"display:inline;vertical-align:middle;\" /></a> : <a class=\"ProveItLink\" href=\"../../../__pv_it/66cd610ba99eba68f315bbcf220cc988223124550/expr.ipynb\"><img src=\"data:image/png;base64,iVBORw0KGgoAAAANSUhEUgAAABIAAAAOBAMAAADQ9FGEAAAAMFBMVEX///9ERES6uroiIiKIiIju\n",
       "7u5mZmbMzMyqqqoyMjLc3Nx2dnYQEBBUVFSYmJgAAADDc6PYAAAAAXRSTlMAQObYZgAAAGRJREFU\n",
       "CNdjYGB4+/80w8o/NxiA4H4DA8cFEIOhfgLDMjCDgfMXVwKExfEtlgEKzl+FsfY7wFj3DaAMtrWf\n",
       "oKx09o8QBrcCg/0CMMuJgeE92Dy2DQwM/B+ADMXzRgxM8z9fZQAAyVAaemEFKr0AAAAASUVORK5C\n",
       "YII=\n",
       "\" style=\"display:inline;vertical-align:middle;\" /></a>, <a class=\"ProveItLink\" href=\"../../../__pv_it/530be409e3083890784cf1d7b28c9e67e90af9360/expr.ipynb\"><img src=\"data:image/png;base64,iVBORw0KGgoAAAANSUhEUgAAAAsAAAAJBAMAAAAWSsseAAAAKlBMVEX///9ERETMzMwQEBAiIiKY\n",
       "mJju7u5mZmaqqqpUVFSIiIh2dnbc3NwAAAA/vyDhAAAAAXRSTlMAQObYZgAAAENJREFUCNdjYDi9\n",
       "8sTyBQxsG1hdmR0YuBm4LnAoMLAxcAowgADzAjB1VoEhgYH1wFoGrgSG3gBhhlMMDImrs3cFMAAA\n",
       "t0YN+iTRa+sAAAAASUVORK5CYII=\n",
       "\" style=\"display:inline;vertical-align:middle;\" /></a> : <a class=\"ProveItLink\" href=\"../../../__pv_it/6369c6c8083c513ca7161ace249642d040f9327d0/expr.ipynb\"><img src=\"data:image/png;base64,iVBORw0KGgoAAAANSUhEUgAAABAAAAAOBAMAAADUAYG5AAAAMFBMVEX////u7u5mZmaYmJi6urqq\n",
       "qqp2dnbMzMwQEBBEREQyMjLc3NwiIiJUVFSIiIgAAAAeC3ydAAAAAXRSTlMAQObYZgAAAGBJREFU\n",
       "CNdjYGB4+//u3bMbGIDgFwMDZzeQZv/GwMAKxAx8XxgYmD8BGZwfGBh4vwIZ/AsYGOQnABn1CQzs\n",
       "h0Ca3l9LUwPrni/AAAF/oDT7JygDZAwYcH6E0ELz/z4A0QBnpRnRyxnfJQAAAABJRU5ErkJggg==\n",
       "\" style=\"display:inline;vertical-align:middle;\" /></a>, <a class=\"ProveItLink\" href=\"../../../__pv_it/f8b9edf8e16034727f0aad55bb83e392c3db40d40/expr.ipynb\"><img src=\"data:image/png;base64,iVBORw0KGgoAAAANSUhEUgAAAAsAAAANBAMAAACN24kIAAAAMFBMVEX///+YmJhUVFQyMjIQEBBE\n",
       "REQiIiKqqqrMzMyIiIi6urrc3NxmZmZ2dnbu7u4AAADXeCicAAAAAXRSTlMAQObYZgAAAFhJREFU\n",
       "CNdj4LtzgWH/AwZerg8M8xkY2nkSGEIZGB6wTGD4ycDAUP+A4weQOszA6QCkbBhYFYDUIYb1AkDq\n",
       "6czzGxhA4BoQMyXwuQMptgusF4AU+8xTQBIAUqMVoSp/SLMAAAAASUVORK5CYII=\n",
       "\" style=\"display:inline;vertical-align:middle;\" /></a> : <a class=\"ProveItLink\" href=\"../../../__pv_it/98124f92e6e1fc3772af50ac63eaa1f5624776f20/expr.ipynb\"><img src=\"data:image/png;base64,iVBORw0KGgoAAAANSUhEUgAAAA8AAAASBAMAAAB2sJk8AAAAMFBMVEX///+YmJiqqqq6uroQEBBE\n",
       "RETu7u4iIiLMzMwyMjKIiIhUVFRmZmZ2dnbc3NwAAADS0us6AAAAAXRSTlMAQObYZgAAAHxJREFU\n",
       "CNdjYGDgu3N3FwMI3Gxg4C4D0pkBQMIbiKeDRM8nMPD8ADHuGzC8DwAzFBjOC4AY8Q0M9Qkgxhcw\n",
       "YmBg+svA8B3E4HRjYJgPYug3ALHBqxUczkAOb9kFXtUHIGHrucsVGBrAtrI2MEIZByzBNAP3/88Q\n",
       "BocL0BoActoerD1tNT4AAAAASUVORK5CYII=\n",
       "\" style=\"display:inline;vertical-align:middle;\" /></a></span></td></tr><tr><td>2</td><td>theorem</td><td></td><td><span style=\"font-size:20px;\"> <a class=\"ProveItLink\" href=\"subRightSideInto.ipynb\" style=\"text-decoration: none\">&#x22A2;&nbsp;</a><a class=\"ProveItLink\" href=\"../__pv_it/d4113fad0d92b942ed717e4508c11482c9ed7ebd0/expr.ipynb\"><img src=\"data:image/png;base64,iVBORw0KGgoAAAANSUhEUgAAAMEAAAAXBAMAAABACzadAAAAMFBMVEX///8QEBC6urrMzMxUVFRm\n",
       "ZmZERETc3NwyMjKqqqp2dnaIiIiYmJgiIiLu7u4AAAAU9Wx4AAAAAXRSTlMAQObYZgAAAs1JREFU\n",
       "SMe1Vk1oE1EQ/pJNNskm2QR76i0HDwEppuDFgyS0RYtFWrSKqGC9NIJCFirWi5qL4EGqB3vqoYsQ\n",
       "qi2WgCVQc2jUmx7MTRCR9BIEL8WWKhXUeX+7a8OKYjrwMm9nvjffzs7MI8CeS2tPogarQr+k1WSb\n",
       "N92JGx/dGjpxjO0OSUs4Bzxhm5kuvXqqDFyyvAHJcJ1UZKJLDHkbmKcVryrLayBKhQg/6BLDWgZ4\n",
       "OwYEnOquA4mF6emb3SpwidYovW7Wsej0tD05+f7vzk/x39gfEN8Ac5v0OdIVG7dbMCijQaBI50qn\n",
       "x4udRzIiKHdGbP6g2b4E2g5whELiHmAEN7BGR6nU+2HSL14ATzvPyBbgTl3aHvl369ZiZYFt9gGH\n",
       "w01M0mCkgSTiDTIOUY1afgzcOSdtn3wZ9B9y84UmOVDFd0prg4gbSRb5AzDsmwN3qo8YyvmOQ9Nl\n",
       "wHxL2xQMZpkNoLmJxDvSSwMrFCBYkw0nGIST8jVWDgzKZhdAfkMoMPJjkqGX1lnE0+IroTjAYDuL\n",
       "F0gZraMB6q/PKavfkwN3alSt5dBEL4IFBRy+S1J1wHwcuFyldQc6AROsxrMsN6MsYrE2AG71oeZh\n",
       "4E4WOBOlkmllF/gbGCVVyAqtcRwkMOtWBFjWukrwK/89jhEPA3fG2KunLMmggB6weebniLT00WrX\n",
       "LxI4ytJKMOaUvDi0tCbarcfDwJ1Btu9HTmw48DL/Sg7YlQC7/Xj3r7t3FrPdsPJG2SCFHpoXl4E7\n",
       "zSY1xmPYSNgKKEWBXSFIqGmyei8pk3H/FIvUaK+eXyaFh7WyyyCc+AjzyuzzFsIZBZSiwB6ZQdLW\n",
       "bYhh9kpDqogVqnrngcuq1FEXyMUBe+QaYvWTbHasXfeKJZVuZ9HB0JZ6zgHKSbazHbMXkZzPdn8+\n",
       "pWJ1u5MhJl+84AClvW7/x4Vf8D68EiX7x/8OvwDdgcJMzIcRKQAAAABJRU5ErkJggg==\n",
       "\" style=\"display:inline;vertical-align:middle;\" /></a></span></td></tr>\n",
       "<tr><td>&nbsp;</td><td colspan=4 style-\"text-align:left\"><a class=\"ProveItLink\" href=\"subRightSideInto.ipynb\">proveit.logic.equality.subRightSideInto</a></td></tr><tr><td>3</td><td>assumption</td><td></td><td><span style=\"font-size:20px;\"><a class=\"ProveItLink\" href=\"../__pv_it/3b150b32aa1d2735d31e6130c9575c3cd6afb4720/expr.ipynb\"><img src=\"data:image/png;base64,iVBORw0KGgoAAAANSUhEUgAAACMAAAAVBAMAAAA+1EraAAAAMFBMVEX///9ERETc3NyqqqpUVFS6\n",
       "urrMzMwyMjIQEBCIiIh2dnYiIiLu7u5mZmaYmJgAAABJJ2g3AAAAAXRSTlMAQObYZgAAALtJREFU\n",
       "GNNjYGDgu8cAA2yrFEAUzy4GBGBrBpGcH0DklP8uLluASq6DOFwNYPnvDAyMTQwMKxBCbL8YGJh/\n",
       "oQhxfgXa8xdFiBFoIstnFCH+AgaG8wJQId4CEJm/gIFtL5B+D+JkBIDI+V6rboGcyX6BgSGlDewG\n",
       "+QNQx4o/YGCISACxfkNFuBcACRaQWWx/oUJgs7g2QJ0FBghHMP5BFzor/2UCuio4wCXEhyIEDi+e\n",
       "ncih2gqm+Bajhj0A3Sw0NKouzW0AAAAASUVORK5CYII=\n",
       "\" style=\"display:inline;vertical-align:middle;\" /></a> <a class=\"ProveItLink\" href=\"../__pv_it/c3f63b81e33f11df825656c8083fbb4990c340310/proof.ipynb\" style=\"text-decoration: none\">&#x22A2;&nbsp;</a><a class=\"ProveItLink\" href=\"../../../__pv_it/6369c6c8083c513ca7161ace249642d040f9327d0/expr.ipynb\"><img src=\"data:image/png;base64,iVBORw0KGgoAAAANSUhEUgAAABAAAAAOBAMAAADUAYG5AAAAMFBMVEX////u7u5mZmaYmJi6urqq\n",
       "qqp2dnbMzMwQEBBEREQyMjLc3NwiIiJUVFSIiIgAAAAeC3ydAAAAAXRSTlMAQObYZgAAAGBJREFU\n",
       "CNdjYGB4+//u3bMbGIDgFwMDZzeQZv/GwMAKxAx8XxgYmD8BGZwfGBh4vwIZ/AsYGOQnABn1CQzs\n",
       "h0Ca3l9LUwPrni/AAAF/oDT7JygDZAwYcH6E0ELz/z4A0QBnpRnRyxnfJQAAAABJRU5ErkJggg==\n",
       "\" style=\"display:inline;vertical-align:middle;\" /></a></span></td></tr>\n",
       "<tr><td>4</td><td>assumption</td><td></td><td><span style=\"font-size:20px;\"><a class=\"ProveItLink\" href=\"../__pv_it/63752da7a6565df4b167cd3ba10265f2812acf190/expr.ipynb\"><img src=\"data:image/png;base64,iVBORw0KGgoAAAANSUhEUgAAAE4AAAAVBAMAAAAazcUaAAAAMFBMVEX///9ERETc3NyqqqpUVFS6\n",
       "urrMzMwyMjIQEBCIiIh2dnYiIiLu7u5mZmaYmJgAAABJJ2g3AAAAAXRSTlMAQObYZgAAATNJREFU\n",
       "KM9jYGDgu8eAH2QtApE8uxgIgQwDIMH5AcSc8t/FZYsCugKmtas8gRRvAZDgagALfWdgYGxCV7c8\n",
       "gYFlD1QJRB3bLwYG5l9oyo4LAIkWFHWcX4Ee+oumrhpE3D+ArI4R6EqWz6jKeL+ByPUByOr4gU49\n",
       "L4CqTh/MX28AUQL2DEP+Aga2vWBDysHAAWTjA5CAfAIDHyhIMgJAvPleq26hB8v+AyDyBxDXMjCk\n",
       "tIHF5A9gBi9IBSQQGOsYGCISQNzfWKIBLMbeAyRAUcYCch8bPEh4d4MByAv1IL490Biw+7g2QIMP\n",
       "A9gHaE5ja2VADmfGP1jUce1ZwGWogKzurPyXCVgUhlTNNmBIQIk3HIAxgY84dRfCYUr48Klj+f8V\n",
       "FmU8O/GoY+t4AI8yvsVE5A8AxAVYPdvYo68AAAAASUVORK5CYII=\n",
       "\" style=\"display:inline;vertical-align:middle;\" /></a> <a class=\"ProveItLink\" href=\"../__pv_it/c2c5987e49f779ca88a5a30f8fbd8fefc3bf8b390/proof.ipynb\" style=\"text-decoration: none\">&#x22A2;&nbsp;</a><a class=\"ProveItLink\" href=\"../__pv_it/4b8aeebf3263288c8b5e59876eae207cf19ddcb30/expr.ipynb\"><img src=\"data:image/png;base64,iVBORw0KGgoAAAANSUhEUgAAADsAAAASBAMAAAAXqLt+AAAAMFBMVEX////u7u5mZmaYmJi6urqq\n",
       "qqp2dnbMzMwQEBBEREQyMjLc3NwiIiJUVFSIiIgAAAAeC3ydAAAAAXRSTlMAQObYZgAAAN5JREFU\n",
       "KM9jYGB4+//u3bMbGNAAd1LaPQjrFwMDZze6dFYBA+9BEIP9GwMD6zc0WakJQKIXxOL7wsDA/AlN\n",
       "eg2I0BcAEpwfGBh4v6LKMn0HkfkOQIJ/AQOD/ARU6f1gfn4AkKhPYGA/BNayCgwugIw1AAnMLwAS\n",
       "76+lqaH76zzIVoYfYDUCDBgALAHxzh9MWYgYVyPI23A/MZ0BA5Cr1oP48QVQb2OAeId9z9lbQCzO\n",
       "j1ik2Q4msEWC3Cs0/+8DLPK+y94EMBQw4AacBcx4pRW88Mgy8P7/gk+avQMYsACkOkEpvD6FzwAA\n",
       "AABJRU5ErkJggg==\n",
       "\" style=\"display:inline;vertical-align:middle;\" /></a></span></td></tr>\n",
       "</table>"
      ],
      "text/plain": [
       "\tstep type\trequirements\tstatement\n",
       "0\tgeneralizaton\t1\t|- forall_{P, Q | P , P = Q} Q\n",
       "1\tspecialization\t2, 3, 4\t{P , P = Q} |- Q\n",
       "\tP(X) : X, x : P, y : Q\n",
       "2\ttheorem\t\t|- forall_{P, x, y | P(x) , x = y} P(y)\n",
       "\tproveit.logic.equality.subRightSideInto\n",
       "3\tassumption\t\t{P} |- P\n",
       "4\tassumption\t\t{P = Q} |- P = Q"
      ]
     },
     "execution_count": 6,
     "metadata": {},
     "output_type": "execute_result"
    }
   ],
   "source": [
    "%qed"
   ]
  },
  {
   "cell_type": "code",
   "execution_count": null,
   "metadata": {},
   "outputs": [],
   "source": []
  }
 ],
 "metadata": {
  "kernelspec": {
   "display_name": "Python 3",
   "language": "python",
   "name": "python3"
  }
 },
 "nbformat": 4,
 "nbformat_minor": 0
}
