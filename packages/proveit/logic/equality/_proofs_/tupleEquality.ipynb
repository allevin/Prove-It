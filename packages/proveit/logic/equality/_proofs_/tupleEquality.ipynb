{
 "cells": [
  {
   "cell_type": "markdown",
   "metadata": {
    "collapsed": true
   },
   "source": [
    "Proof of <a class=\"ProveItLink\" href=\"../../../_context_.ipynb\">proveit</a>.<a class=\"ProveItLink\" href=\"../../_context_.ipynb\">logic</a>.<a class=\"ProveItLink\" href=\"../_context_.ipynb\">equality</a>.<a class=\"ProveItLink\" href=\"../_theorems_.ipynb#tupleEquality\">tupleEquality</a> theorem\n",
    "========"
   ]
  },
  {
   "cell_type": "code",
   "execution_count": 1,
   "metadata": {},
   "outputs": [],
   "source": [
    "import proveit\n",
    "from proveit import defaults, Iter, Indexed, ExprList\n",
    "from proveit._common_ import a, b, f, g, i, n, x, xx, y, yy, fx, z\n",
    "from proveit.logic import Card, InSet, Equals, Forall\n",
    "from proveit.number import NaturalsPos, one, Len\n",
    "from proveit.logic.equality._axioms_ import substitution\n",
    "from proveit.logic._common_ import xIter1n, yIter1n, yIter1nz, f_xIter1n, f_yIter1n, g_xIter1n, g_xIter1nz, g_yIter1nz\n",
    "context = proveit.Context('..') # the theorem's context is in the parent directory"
   ]
  },
  {
   "cell_type": "code",
   "execution_count": 2,
   "metadata": {},
   "outputs": [
    {
     "name": "stdout",
     "output_type": "stream",
     "text": [
      "Beginning proof of tupleEquality\n",
      "Recorded 'presuming' information\n",
      "Presuming theorems in proveit.logic (except any that presume this theorem).\n",
      "Presuming previous theorems (applied transitively).\n"
     ]
    },
    {
     "data": {
      "text/html": [
       "<strong id=\"tupleEquality\">tupleEquality:</strong> <a class=\"ProveItLink\" href=\"../__pv_it/bb2b49b0cf3c482aa4ef64700e4ea9e8edf49fbe0/expr.ipynb\"><img src=\"../__pv_it/bb2b49b0cf3c482aa4ef64700e4ea9e8edf49fbe0/expr.png\" style=\"display:inline;vertical-align:middle;\" /></a><br>(see <a class=\"ProveItLink\" href=\"../__pv_it/bb2b49b0cf3c482aa4ef64700e4ea9e8edf49fbe0/dependencies.ipynb\">dependencies</a>)<br>"
      ],
      "text/plain": [
       "tupleEquality: forall_{n in Naturals} [forall_{x_1,...,x_n, y_1,...,y_n | x_1 = y_1 ,  ...  , x_n = y_n} ((x_1 ,  ...  , x_n) = (y_1 ,  ...  , y_n))]"
      ]
     },
     "execution_count": 2,
     "metadata": {},
     "output_type": "execute_result"
    }
   ],
   "source": [
    "%proving tupleEquality presuming [proveit.logic]"
   ]
  },
  {
   "cell_type": "code",
   "execution_count": 3,
   "metadata": {},
   "outputs": [
    {
     "data": {
      "text/html": [
       "<strong id=\"defaults.assumptions\">defaults.assumptions:</strong> <a class=\"ProveItLink\" href=\"../__pv_it/e5c62635ffd919eba36f1d20ac35edb9871e36020/expr.ipynb\"><img src=\"../__pv_it/e5c62635ffd919eba36f1d20ac35edb9871e36020/expr.png\" style=\"display:inline;vertical-align:middle;\" /></a><br>"
      ],
      "text/plain": [
       "defaults.assumptions: (n in Naturals , x_1 = y_1 ,  ...  , x_n = y_n)"
      ]
     },
     "execution_count": 3,
     "metadata": {},
     "output_type": "execute_result"
    }
   ],
   "source": [
    "defaults.assumptions = tupleEquality.allConditions()"
   ]
  },
  {
   "cell_type": "code",
   "execution_count": 4,
   "metadata": {},
   "outputs": [
    {
     "data": {
      "text/html": [
       "<span style=\"font-size:20px;\"> &#x22A2;&nbsp;<a class=\"ProveItLink\" href=\"../__pv_it/f24fb739aca300f8e1ccf3a9ec26f1ca0de3f0a70/expr.ipynb\"><img src=\"../__pv_it/f24fb739aca300f8e1ccf3a9ec26f1ca0de3f0a70/expr.png\" style=\"display:inline;vertical-align:middle;\" /></a></span>"
      ],
      "text/plain": [
       "|= () = ()"
      ]
     },
     "execution_count": 4,
     "metadata": {},
     "output_type": "execute_result"
    }
   ],
   "source": [
    "Equals((), ()).prove()"
   ]
  },
  {
   "cell_type": "markdown",
   "metadata": {},
   "source": [
    "### First working with substitution"
   ]
  },
  {
   "cell_type": "code",
   "execution_count": 5,
   "metadata": {},
   "outputs": [
    {
     "data": {
      "text/html": [
       "<span style=\"font-size:20px;\"> &#x22A2;&nbsp;<a class=\"ProveItLink\" href=\"../__pv_it/6ec2193ff7f2a0001aea3e112ec0ee2dddc5beb10/expr.ipynb\"><img src=\"../__pv_it/6ec2193ff7f2a0001aea3e112ec0ee2dddc5beb10/expr.png\" style=\"display:inline;vertical-align:middle;\" /></a></span>"
      ],
      "text/plain": [
       "|= forall_{f, x, y | x = y} (f(x) = f(y))"
      ]
     },
     "execution_count": 5,
     "metadata": {},
     "output_type": "execute_result"
    }
   ],
   "source": [
    "substitution"
   ]
  },
  {
   "cell_type": "code",
   "execution_count": 6,
   "metadata": {},
   "outputs": [
    {
     "data": {
      "text/html": [
       "<strong id=\"substitutionSpec\">substitutionSpec:</strong> <span style=\"font-size:20px;\"> &#x22A2;&nbsp;<a class=\"ProveItLink\" href=\"../__pv_it/8e1277e45bfff2a8c83de964a02470be9b70bdb70/expr.ipynb\"><img src=\"../__pv_it/8e1277e45bfff2a8c83de964a02470be9b70bdb70/expr.png\" style=\"display:inline;vertical-align:middle;\" /></a></span><br>"
      ],
      "text/plain": [
       "substitutionSpec: |= forall_{x, y | x = y} ((x) = (y))"
      ]
     },
     "execution_count": 6,
     "metadata": {},
     "output_type": "execute_result"
    }
   ],
   "source": [
    "substitutionSpec = substitution.specialize({fx:ExprList(x)})"
   ]
  },
  {
   "cell_type": "code",
   "execution_count": 7,
   "metadata": {},
   "outputs": [],
   "source": [
    "# Unmet specialization requirement: x_1 =  ...  = x_n = y_1 =  ...  = y_n\n",
    "# substitutionSpec.specialize({x:xIter1n, y:yIter1n})"
   ]
  },
  {
   "cell_type": "code",
   "execution_count": 8,
   "metadata": {},
   "outputs": [],
   "source": [
    "# TypeError: The assumptions must be an iterable collection of Expression objects\n",
    "# substitutionSpec.specialize({x:xIter1n, y:yIter1n}, assumptions=(Equals(xIter1n, yIter1n)))"
   ]
  },
  {
   "cell_type": "code",
   "execution_count": 9,
   "metadata": {},
   "outputs": [],
   "source": [
    "# TypeError: The assumptions must be an iterable collection of Expression objects\n",
    "# substitutionSpec.specialize({x:xIter1n, y:yIter1n}, assumptions=(Equals(ExprList(xIter1n), ExprList(yIter1n)),))"
   ]
  },
  {
   "cell_type": "code",
   "execution_count": 10,
   "metadata": {},
   "outputs": [
    {
     "data": {
      "text/html": [
       "<span style=\"font-size:20px;\"><a class=\"ProveItLink\" href=\"../__pv_it/ec2c31486b4228303bb3c2a445f764941bbc7b210/expr.ipynb\"><img src=\"../__pv_it/ec2c31486b4228303bb3c2a445f764941bbc7b210/expr.png\" style=\"display:inline;vertical-align:middle;\" /></a> &#x22A2;&nbsp;<a class=\"ProveItLink\" href=\"../__pv_it/8dd86d8c8be12659c430d4ce339a2ba560df7f1c0/expr.ipynb\"><img src=\"../__pv_it/8dd86d8c8be12659c430d4ce339a2ba560df7f1c0/expr.png\" style=\"display:inline;vertical-align:middle;\" /></a></span>"
      ],
      "text/plain": [
       "{(x_1 ,  ...  , x_n) = (y_1 ,  ...  , y_n)} |= ((x_1 ,  ...  , x_n)) = ((y_1 ,  ...  , y_n))"
      ]
     },
     "execution_count": 10,
     "metadata": {},
     "output_type": "execute_result"
    }
   ],
   "source": [
    "# TypeError: The assumptions must be an iterable collection of Expression objects\n",
    "substitutionSpec.specialize({x:ExprList(xIter1n), y:ExprList(yIter1n)}, assumptions=(Equals(ExprList(xIter1n), ExprList(yIter1n)),))"
   ]
  },
  {
   "cell_type": "code",
   "execution_count": 11,
   "metadata": {},
   "outputs": [
    {
     "data": {
      "text/html": [
       "<span style=\"font-size:20px;\"><a class=\"ProveItLink\" href=\"../__pv_it/ec2c31486b4228303bb3c2a445f764941bbc7b210/expr.ipynb\"><img src=\"../__pv_it/ec2c31486b4228303bb3c2a445f764941bbc7b210/expr.png\" style=\"display:inline;vertical-align:middle;\" /></a> &#x22A2;&nbsp;<a class=\"ProveItLink\" href=\"../__pv_it/8dd86d8c8be12659c430d4ce339a2ba560df7f1c0/expr.ipynb\"><img src=\"../__pv_it/8dd86d8c8be12659c430d4ce339a2ba560df7f1c0/expr.png\" style=\"display:inline;vertical-align:middle;\" /></a></span>"
      ],
      "text/plain": [
       "{(x_1 ,  ...  , x_n) = (y_1 ,  ...  , y_n)} |= ((x_1 ,  ...  , x_n)) = ((y_1 ,  ...  , y_n))"
      ]
     },
     "execution_count": 11,
     "metadata": {},
     "output_type": "execute_result"
    }
   ],
   "source": [
    "# TypeError: The assumptions must be an iterable collection of Expression objects\n",
    "substitutionSpec.specialize({x:ExprList(xIter1n), y:ExprList(yIter1n)}, assumptions=(Equals(ExprList(xIter1n), ExprList(yIter1n)),))"
   ]
  },
  {
   "cell_type": "markdown",
   "metadata": {},
   "source": [
    "### An initial attempt at the Induction Hypothesis:"
   ]
  },
  {
   "cell_type": "code",
   "execution_count": 12,
   "metadata": {},
   "outputs": [
    {
     "data": {
      "text/html": [
       "<a class=\"ProveItLink\" href=\"../__pv_it/bf0cc9b508b49f3f252c7762e5bf30d0422f21ba0/expr.ipynb\"><img src=\"../__pv_it/bf0cc9b508b49f3f252c7762e5bf30d0422f21ba0/expr.png\" style=\"display:inline;vertical-align:middle;\" /></a>"
      ],
      "text/plain": [
       "forall_{x_1,...,x_n, y_1,...,y_n | x_1 = y_1 ,  ...  , x_n = y_n} ((x_1 ,  ...  , x_n) = (y_1 ,  ...  , y_n))"
      ]
     },
     "execution_count": 12,
     "metadata": {},
     "output_type": "execute_result"
    }
   ],
   "source": [
    "IH = Forall(\n",
    "    (xIter1n, yIter1n),\n",
    "    Equals(ExprList(xIter1n), ExprList(yIter1n)),\n",
    "    conditions=(Iter(i, Equals(Indexed(xx,i), Indexed(yy, i)), one, n))\n",
    ")\n",
    "IH"
   ]
  },
  {
   "cell_type": "markdown",
   "metadata": {},
   "source": [
    "### An alternative Induction Hypothesis:"
   ]
  },
  {
   "cell_type": "code",
   "execution_count": 13,
   "metadata": {},
   "outputs": [
    {
     "data": {
      "text/html": [
       "<a class=\"ProveItLink\" href=\"../__pv_it/252c3192bdd46393a305a391360bede882491c530/expr.ipynb\"><img src=\"../__pv_it/252c3192bdd46393a305a391360bede882491c530/expr.png\" style=\"display:inline;vertical-align:middle;\" /></a>"
      ],
      "text/plain": [
       "forall_{x, y | |x| = n , |y| = n , x_1 = y_1 ,  ...  , x_n = y_n} (x = y)"
      ]
     },
     "execution_count": 13,
     "metadata": {},
     "output_type": "execute_result"
    }
   ],
   "source": [
    "IH_alt = Forall(\n",
    "    (xx, yy),\n",
    "    Equals(xx, yy),\n",
    "    conditions=(Equals(Len(xx), n),\n",
    "                Equals(Len(yy), n),\n",
    "                Iter(i, Equals(Indexed(xx,i), Indexed(yy, i)), one, n)\n",
    "               )\n",
    ")\n",
    "IH_alt"
   ]
  },
  {
   "cell_type": "code",
   "execution_count": 36,
   "metadata": {},
   "outputs": [],
   "source": [
    "# list(ExprList(xIter1n).entryRanges(1, one, n, [], []))"
   ]
  },
  {
   "cell_type": "code",
   "execution_count": 34,
   "metadata": {},
   "outputs": [
    {
     "data": {
      "text/html": [
       "<strong id=\"theConditions\">theConditions:</strong> <a class=\"ProveItLink\" href=\"../__pv_it/cd11d9f2d64c8d045d1efc28468a5529f8a5593d0/expr.ipynb\"><img src=\"../__pv_it/cd11d9f2d64c8d045d1efc28468a5529f8a5593d0/expr.png\" style=\"display:inline;vertical-align:middle;\" /></a><br>"
      ],
      "text/plain": [
       "theConditions: (x_1 = y_1),...,(x_n = y_n)"
      ]
     },
     "execution_count": 34,
     "metadata": {},
     "output_type": "execute_result"
    }
   ],
   "source": [
    "theConditions = Iter(i, Equals(Indexed(xx,i), Indexed(yy, i)), one, n)"
   ]
  },
  {
   "cell_type": "code",
   "execution_count": 33,
   "metadata": {},
   "outputs": [],
   "source": [
    "# theConditions.substituted({xx:ExprList(xIter1n), yy:ExprList(yIter1n)})"
   ]
  },
  {
   "cell_type": "markdown",
   "metadata": {},
   "source": [
    "### Specializing the Alternative IH"
   ]
  },
  {
   "cell_type": "code",
   "execution_count": 32,
   "metadata": {},
   "outputs": [],
   "source": [
    "# IndexError: ExprList index out of range\n",
    "# eventually appears to be arising in the entryRanges() method in the ExprList class\n",
    "# IH_alt.specialize(\n",
    "#     {xx:ExprList(xIter1n), yy:ExprList(yIter1n)},\n",
    "#     assumptions = {IH_alt, Equals(Len(xx), n), Equals(Len(yy), n), *defaults.assumptions}\n",
    "# )"
   ]
  },
  {
   "cell_type": "code",
   "execution_count": 18,
   "metadata": {},
   "outputs": [],
   "source": [
    "# IndexError: ExprList index out of range\n",
    "# IH_alt.specialize(\n",
    "#     {xx:ExprList(xIter1n), yy:ExprList(yIter1n)},\n",
    "#     assumptions = {\n",
    "#         IH_alt,\n",
    "#         Equals(Len(xx), n), Equals(Len(yy), n),\n",
    "#         Equals(ExprList(xIter1n), ExprList(yIter1n)),\n",
    "#         *defaults.assumptions}\n",
    "# )"
   ]
  },
  {
   "cell_type": "code",
   "execution_count": 28,
   "metadata": {},
   "outputs": [
    {
     "data": {
      "text/html": [
       "<span style=\"font-size:20px;\"><a class=\"ProveItLink\" href=\"../__pv_it/b9465282ddd7000576ae1ffa0bf7f748937107630/expr.ipynb\"><img src=\"../__pv_it/b9465282ddd7000576ae1ffa0bf7f748937107630/expr.png\" style=\"display:inline;vertical-align:middle;\" /></a> &#x22A2;&nbsp;<a class=\"ProveItLink\" href=\"../__pv_it/057f411279075a14717f1e7560665d5585749e520/expr.ipynb\"><img src=\"../__pv_it/057f411279075a14717f1e7560665d5585749e520/expr.png\" style=\"display:inline;vertical-align:middle;\" /></a></span>"
      ],
      "text/plain": [
       "{|b| = n , |a| = n , forall_{x, y | |x| = n , |y| = n , x_1 = y_1 ,  ...  , x_n = y_n} (x = y) , a_1 = b_1 ,  ...  , a_n = b_n} |= a = b"
      ]
     },
     "execution_count": 28,
     "metadata": {},
     "output_type": "execute_result"
    }
   ],
   "source": [
    "# Checking to see if ANYTHING will work — trivial case with x |—> a, y |—> b\n",
    "IH_alt.specialize(\n",
    "    {xx:a, yy:b},\n",
    "    assumptions = {\n",
    "        IH_alt, Equals(Len(a), n), Equals(Len(b), n),\n",
    "        Iter(i, Equals(Indexed(a,i), Indexed(b, i)), one, n),\n",
    "        *defaults.assumptions\n",
    "    }\n",
    ")"
   ]
  },
  {
   "cell_type": "code",
   "execution_count": 30,
   "metadata": {},
   "outputs": [],
   "source": [
    "# IH.specialize({xx:ExprList(xIter1n, z)}, assumptions={IH, *defaults.assumptions})"
   ]
  },
  {
   "cell_type": "code",
   "execution_count": null,
   "metadata": {},
   "outputs": [],
   "source": [
    "# substitutionSpec = substitution.specialize({fx:ExprList(x)})"
   ]
  },
  {
   "cell_type": "code",
   "execution_count": null,
   "metadata": {},
   "outputs": [],
   "source": [
    "# substitutionSpec.specialize({x:ExprList(xIter1n), y:ExprList(yIter1n)}, assumptions={IH, *defaults.assumptions})"
   ]
  },
  {
   "cell_type": "code",
   "execution_count": 31,
   "metadata": {},
   "outputs": [],
   "source": [
    "# substitutionSpec.specialize({x:ExprList(xIter1n), y:ExprList(yIter1n)}, assumptions={IH, Equals(ExprList(xIter1n), ExprList(yIter1n))})"
   ]
  },
  {
   "cell_type": "code",
   "execution_count": null,
   "metadata": {},
   "outputs": [],
   "source": [
    "%qed"
   ]
  },
  {
   "cell_type": "code",
   "execution_count": null,
   "metadata": {},
   "outputs": [],
   "source": []
  }
 ],
 "metadata": {
  "kernelspec": {
   "display_name": "Python 3",
   "language": "python",
   "name": "python3"
  },
  "language_info": {
   "codemirror_mode": {
    "name": "ipython",
    "version": 3
   },
   "file_extension": ".py",
   "mimetype": "text/x-python",
   "name": "python",
   "nbconvert_exporter": "python",
   "pygments_lexer": "ipython3",
   "version": "3.7.1"
  }
 },
 "nbformat": 4,
 "nbformat_minor": 1
}
