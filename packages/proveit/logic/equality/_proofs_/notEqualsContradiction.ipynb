{
 "cells": [
  {
   "cell_type": "markdown",
   "metadata": {
    "collapsed": true,
    "deletable": true,
    "editable": true
   },
   "source": [
    "Proof of <a class=\"ProveItLink\" href=\"../../../_context_.ipynb\">proveit</a>.<a class=\"ProveItLink\" href=\"../../_context_.ipynb\">logic</a>.<a class=\"ProveItLink\" href=\"../_context_.ipynb\">equality</a>.<a href=\"../_theorems_.ipynb#notEqualsContradiction\" class=\"ProveItLink\">notEqualsContradiction</a> theorem\n",
    "========"
   ]
  },
  {
   "cell_type": "code",
   "execution_count": 1,
   "metadata": {
    "collapsed": false,
    "deletable": true,
    "editable": true
   },
   "outputs": [],
   "source": [
    "import proveit\n",
    "from proveit import defaults\n",
    "from proveit.logic.equality._axioms_ import notEqualsDef\n",
    "from proveit.logic.equality._theorems_ import notEqualsContradiction, unfoldNotEquals\n",
    "from proveit.logic.boolean.negation._theorems_ import negationContradiction\n",
    "context = proveit.Context('..') # the theorem's context is in the parent directory"
   ]
  },
  {
   "cell_type": "code",
   "execution_count": 2,
   "metadata": {
    "collapsed": false,
    "deletable": true,
    "editable": true
   },
   "outputs": [
    {
     "name": "stdout",
     "output_type": "stream",
     "text": [
      "Beginning proof of notEqualsContradiction\n",
      "Recorded 'presuming' information\n",
      "Presuming proveit.logic.boolean.negation.negationContradiction theorem(s) (and any of their dependencies).\n",
      "Presuming previous theorem(s) in this context (and any of their dependencies).\n"
     ]
    },
    {
     "data": {
      "text/html": [
       "<strong id=\"notEqualsContradiction\">notEqualsContradiction:</strong> <a class=\"ProveItLink\" href=\"../__pv_it/539d4c6dc907184612963bb5a51d5e54e7d026780/expr.ipynb\"><img src=\"../__pv_it/539d4c6dc907184612963bb5a51d5e54e7d026780/expr.png\" style=\"display:inline;vertical-align:middle;\" /></a><br>(see <a class=\"ProveItLink\" href=\"../__pv_it/539d4c6dc907184612963bb5a51d5e54e7d026780/dependencies.ipynb\">dependencies</a>)<br>"
      ],
      "text/plain": [
       "notEqualsContradiction: forall_{x, y | x = y , x != y} FALSE"
      ]
     },
     "execution_count": 2,
     "metadata": {},
     "output_type": "execute_result"
    }
   ],
   "source": [
    "%proving notEqualsContradiction presuming [negationContradiction]"
   ]
  },
  {
   "cell_type": "code",
   "execution_count": 3,
   "metadata": {
    "collapsed": false,
    "deletable": true,
    "editable": true
   },
   "outputs": [
    {
     "data": {
      "text/html": [
       "<strong id=\"defaults.assumptions\">defaults.assumptions:</strong> <a class=\"ProveItLink\" href=\"../__pv_it/cef021bc861b04340e6ba489b85cd631037df6a60/expr.ipynb\"><img src=\"../__pv_it/cef021bc861b04340e6ba489b85cd631037df6a60/expr.png\" style=\"display:inline;vertical-align:middle;\" /></a><br>"
      ],
      "text/plain": [
       "defaults.assumptions: (x = y , x != y)"
      ]
     },
     "execution_count": 3,
     "metadata": {},
     "output_type": "execute_result"
    }
   ],
   "source": [
    "defaults.assumptions = notEqualsContradiction.conditions"
   ]
  },
  {
   "cell_type": "code",
   "execution_count": 4,
   "metadata": {
    "collapsed": false,
    "deletable": true,
    "editable": true
   },
   "outputs": [
    {
     "data": {
      "text/html": [
       "<strong id=\"x_neq_y\">x_neq_y:</strong> <a class=\"ProveItLink\" href=\"../__pv_it/d653f83d068ba3b3b2ff1f6849298500353558900/expr.ipynb\"><img src=\"../__pv_it/d653f83d068ba3b3b2ff1f6849298500353558900/expr.png\" style=\"display:inline;vertical-align:middle;\" /></a><br>"
      ],
      "text/plain": [
       "x_neq_y: x != y"
      ]
     },
     "execution_count": 4,
     "metadata": {},
     "output_type": "execute_result"
    }
   ],
   "source": [
    "x_neq_y = defaults.assumptions[1]"
   ]
  },
  {
   "cell_type": "code",
   "execution_count": 5,
   "metadata": {
    "collapsed": false,
    "deletable": true,
    "editable": true
   },
   "outputs": [
    {
     "data": {
      "text/html": [
       "<strong id=\"not__x_eq_y\">not__x_eq_y:</strong> <span style=\"font-size:20px;\"><a class=\"ProveItLink\" href=\"../__pv_it/0a0c3733a14282ba7131d88b1f2c47f4d6a357dd0/expr.ipynb\"><img src=\"../__pv_it/0a0c3733a14282ba7131d88b1f2c47f4d6a357dd0/expr.png\" style=\"display:inline;vertical-align:middle;\" /></a> &#x22A2;&nbsp;<a class=\"ProveItLink\" href=\"../__pv_it/ba803e74a545c0e769490f0360bfdd9ef850012c0/expr.ipynb\"><img src=\"../__pv_it/ba803e74a545c0e769490f0360bfdd9ef850012c0/expr.png\" style=\"display:inline;vertical-align:middle;\" /></a></span><br>"
      ],
      "text/plain": [
       "not__x_eq_y: {x != y} |= [not](x = y)"
      ]
     },
     "execution_count": 5,
     "metadata": {},
     "output_type": "execute_result"
    }
   ],
   "source": [
    "not__x_eq_y = x_neq_y.unfold()"
   ]
  },
  {
   "cell_type": "code",
   "execution_count": 6,
   "metadata": {
    "collapsed": false,
    "deletable": true,
    "editable": true
   },
   "outputs": [
    {
     "data": {
      "text/html": [
       "<span style=\"font-size:20px;\"><a class=\"ProveItLink\" href=\"../__pv_it/cb8e25ed3575500a165074d132734a8da8c11b1d0/expr.ipynb\"><img src=\"../__pv_it/cb8e25ed3575500a165074d132734a8da8c11b1d0/expr.png\" style=\"display:inline;vertical-align:middle;\" /></a> &#x22A2;&nbsp;<a class=\"ProveItLink\" href=\"../../boolean/__pv_it/8f1f7fac882de28c72b62ab80a1700b6d8fd066b0/expr.ipynb\"><img src=\"../../boolean/__pv_it/8f1f7fac882de28c72b62ab80a1700b6d8fd066b0/expr.png\" style=\"display:inline;vertical-align:middle;\" /></a></span>"
      ],
      "text/plain": [
       "{x = y , x != y} |= FALSE"
      ]
     },
     "execution_count": 6,
     "metadata": {},
     "output_type": "execute_result"
    }
   ],
   "source": [
    "not__x_eq_y.deriveContradiction()"
   ]
  },
  {
   "cell_type": "code",
   "execution_count": 7,
   "metadata": {
    "collapsed": false,
    "deletable": true,
    "editable": true
   },
   "outputs": [
    {
     "data": {
      "text/html": [
       "<table><tr><th>&nbsp;</th><th>step type</th><th>requirements</th><th>statement</th></tr>\n",
       "<tr><td>0</td><td>generalizaton</td><td>1</td><td><span style=\"font-size:20px;\"> &#x22A2;&nbsp;<a class=\"ProveItLink\" href=\"../__pv_it/539d4c6dc907184612963bb5a51d5e54e7d026780/expr.ipynb\"><img src=\"../__pv_it/539d4c6dc907184612963bb5a51d5e54e7d026780/expr.png\" style=\"display:inline;vertical-align:middle;\" /></a></span></td></tr>\n",
       "<tr><td>1</td><td>specialization</td><td>2, 3, 4</td><td><span style=\"font-size:20px;\"><a class=\"ProveItLink\" href=\"../__pv_it/cb8e25ed3575500a165074d132734a8da8c11b1d0/expr.ipynb\"><img src=\"../__pv_it/cb8e25ed3575500a165074d132734a8da8c11b1d0/expr.png\" style=\"display:inline;vertical-align:middle;\" /></a> &#x22A2;&nbsp;<a class=\"ProveItLink\" href=\"../../boolean/__pv_it/8f1f7fac882de28c72b62ab80a1700b6d8fd066b0/expr.ipynb\"><img src=\"../../boolean/__pv_it/8f1f7fac882de28c72b62ab80a1700b6d8fd066b0/expr.png\" style=\"display:inline;vertical-align:middle;\" /></a></span></td></tr>\n",
       "<tr><td>&nbsp;</td><td colspan=4 style=\"text-align:left\"><span style=\"font-size:20px;\"><a class=\"ProveItLink\" href=\"../__pv_it/4f0bff50481d6ef29d2a7dcb1c9c8b1c0581ab9e0/expr.ipynb\"><img src=\"../__pv_it/4f0bff50481d6ef29d2a7dcb1c9c8b1c0581ab9e0/expr.png\" style=\"display:inline;vertical-align:middle;\" /></a></span></td></tr><tr><td>2</td><td>theorem</td><td></td><td><span style=\"font-size:20px;\"> &#x22A2;&nbsp;<a class=\"ProveItLink\" href=\"../../boolean/negation/__pv_it/a49fbaa8c4a583cd78dc51c63f802c4a685210ee0/expr.ipynb\"><img src=\"../../boolean/negation/__pv_it/a49fbaa8c4a583cd78dc51c63f802c4a685210ee0/expr.png\" style=\"display:inline;vertical-align:middle;\" /></a></span></td></tr>\n",
       "<tr><td>&nbsp;</td><td colspan=4 style-\"text-align:left\"><a class=\"ProveItLink\" href=\"../../boolean/negation/_proofs_/negationContradiction.ipynb\">proveit.logic.boolean.negation.negationContradiction</a></td></tr><tr><td>3</td><td>assumption</td><td></td><td><span style=\"font-size:20px;\"><a class=\"ProveItLink\" href=\"../__pv_it/b5bbd1e9e015b666e46c9a5cde50f5d4df7e71bb0/expr.ipynb\"><img src=\"../__pv_it/b5bbd1e9e015b666e46c9a5cde50f5d4df7e71bb0/expr.png\" style=\"display:inline;vertical-align:middle;\" /></a> &#x22A2;&nbsp;<a class=\"ProveItLink\" href=\"../__pv_it/4c4fb7e6d6cc6c4aef91243b02a9bdb408e1b6510/expr.ipynb\"><img src=\"../__pv_it/4c4fb7e6d6cc6c4aef91243b02a9bdb408e1b6510/expr.png\" style=\"display:inline;vertical-align:middle;\" /></a></span></td></tr>\n",
       "<tr><td>4</td><td>specialization</td><td>5, 6</td><td><span style=\"font-size:20px;\"><a class=\"ProveItLink\" href=\"../__pv_it/0a0c3733a14282ba7131d88b1f2c47f4d6a357dd0/expr.ipynb\"><img src=\"../__pv_it/0a0c3733a14282ba7131d88b1f2c47f4d6a357dd0/expr.png\" style=\"display:inline;vertical-align:middle;\" /></a> &#x22A2;&nbsp;<a class=\"ProveItLink\" href=\"../__pv_it/ba803e74a545c0e769490f0360bfdd9ef850012c0/expr.ipynb\"><img src=\"../__pv_it/ba803e74a545c0e769490f0360bfdd9ef850012c0/expr.png\" style=\"display:inline;vertical-align:middle;\" /></a></span></td></tr>\n",
       "<tr><td>&nbsp;</td><td colspan=4 style=\"text-align:left\"><span style=\"font-size:20px;\"><a class=\"ProveItLink\" href=\"../__pv_it/e27c209c015cc043c1b7408e3a1c61c1e6cf62cb0/expr.ipynb\"><img src=\"../__pv_it/e27c209c015cc043c1b7408e3a1c61c1e6cf62cb0/expr.png\" style=\"display:inline;vertical-align:middle;\" /></a>, <a class=\"ProveItLink\" href=\"../__pv_it/3445fe6c471b67d680f9bda79b8e38ba83ee52910/expr.ipynb\"><img src=\"../__pv_it/3445fe6c471b67d680f9bda79b8e38ba83ee52910/expr.png\" style=\"display:inline;vertical-align:middle;\" /></a></span></td></tr><tr><td>5</td><td>theorem</td><td></td><td><span style=\"font-size:20px;\"> &#x22A2;&nbsp;<a class=\"ProveItLink\" href=\"../__pv_it/f9d207e192d579db6f280d162f39b8df3d44c2310/expr.ipynb\"><img src=\"../__pv_it/f9d207e192d579db6f280d162f39b8df3d44c2310/expr.png\" style=\"display:inline;vertical-align:middle;\" /></a></span></td></tr>\n",
       "<tr><td>&nbsp;</td><td colspan=4 style-\"text-align:left\"><a class=\"ProveItLink\" href=\"unfoldNotEquals.ipynb\">proveit.logic.equality.unfoldNotEquals</a></td></tr><tr><td>6</td><td>assumption</td><td></td><td><span style=\"font-size:20px;\"><a class=\"ProveItLink\" href=\"../__pv_it/0a0c3733a14282ba7131d88b1f2c47f4d6a357dd0/expr.ipynb\"><img src=\"../__pv_it/0a0c3733a14282ba7131d88b1f2c47f4d6a357dd0/expr.png\" style=\"display:inline;vertical-align:middle;\" /></a> &#x22A2;&nbsp;<a class=\"ProveItLink\" href=\"../__pv_it/d653f83d068ba3b3b2ff1f6849298500353558900/expr.ipynb\"><img src=\"../__pv_it/d653f83d068ba3b3b2ff1f6849298500353558900/expr.png\" style=\"display:inline;vertical-align:middle;\" /></a></span></td></tr>\n",
       "</table>"
      ],
      "text/plain": [
       "\tstep type\trequirements\tstatement\n",
       "0\tgeneralizaton\t1\t|= forall_{x, y | x = y , x != y} FALSE\n",
       "1\tspecialization\t2, 3, 4\t{x = y , x != y} |= FALSE\n",
       "\tA -> (x = y)\n",
       "2\ttheorem\t\t|= forall_{A | A , [not](A)} FALSE\n",
       "\tproveit.logic.boolean.negation.negationContradiction\n",
       "3\tassumption\t\t{x = y} |= x = y\n",
       "4\tspecialization\t5, 6\t{x != y} |= [not](x = y)\n",
       "\tx -> x, y -> y\n",
       "5\ttheorem\t\t|= forall_{x, y | x != y} [not](x = y)\n",
       "\tproveit.logic.equality.unfoldNotEquals\n",
       "6\tassumption\t\t{x != y} |= x != y"
      ]
     },
     "execution_count": 7,
     "metadata": {},
     "output_type": "execute_result"
    }
   ],
   "source": [
    "%qed"
   ]
  },
  {
   "cell_type": "code",
   "execution_count": 8,
   "metadata": {
    "collapsed": true,
    "deletable": true,
    "editable": true
   },
   "outputs": [],
   "source": []
  }
 ],
 "metadata": {
  "kernelspec": {
   "display_name": "Python 3",
   "language": "python",
   "name": "python3"
  },
  "language_info": {
   "codemirror_mode": {
    "name": "ipython",
    "version": 3
   },
   "file_extension": ".py",
   "mimetype": "text/x-python",
   "name": "python",
   "nbconvert_exporter": "python",
   "pygments_lexer": "ipython3",
   "version": "3.7.0"
  }
 },
 "nbformat": 4,
 "nbformat_minor": 0
}
