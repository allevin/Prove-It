{
 "cells": [
  {
   "cell_type": "markdown",
   "metadata": {},
   "source": [
    "Proof of <a class=\"ProveItLink\" href=\"../../../_context_.ipynb\">proveit</a>.<a class=\"ProveItLink\" href=\"../../_context_.ipynb\">logic</a>.<a class=\"ProveItLink\" href=\"../_context_.ipynb\">equality</a>.<a href=\"../_theorems_.ipynb#notEqualsContradiction\" class=\"ProveItLink\">notEqualsContradiction</a> theorem\n",
    "========"
   ]
  },
  {
   "cell_type": "code",
   "execution_count": 1,
   "metadata": {},
   "outputs": [],
   "source": [
    "import proveit\n",
    "from proveit import defaults\n",
    "from proveit.logic.equality._axioms_ import notEqualsDef\n",
    "from proveit.logic.equality._theorems_ import notEqualsContradiction, unfoldNotEquals\n",
    "from proveit.logic.boolean.negation._theorems_ import negationContradiction\n",
    "context = proveit.Context('..') # the theorem's context is in the parent directory"
   ]
  },
  {
   "cell_type": "code",
   "execution_count": 2,
   "metadata": {},
   "outputs": [
    {
     "name": "stdout",
     "output_type": "stream",
     "text": [
      "Beginning proof of notEqualsContradiction\n",
      "Recorded 'presuming' information\n",
      "Presuming proveit.logic.boolean.negation.negationContradiction theorem (applied transitively).\n",
      "Presuming previous theorems (applied transitively).\n"
     ]
    },
    {
     "data": {
      "text/html": [
       "<strong id=\"notEqualsContradiction\">notEqualsContradiction:</strong> <a class=\"ProveItLink\" href=\"../__pv_it/3b978af40a8ee9b15894daeb9718097ebc98975e0/expr.ipynb\"><img src=\"data:image/png;base64,iVBORw0KGgoAAAANSUhEUgAAAJAAAAAWCAMAAAAYceVPAAAAOVBMVEX///8oKCgUFBQJCQkQEBC6\n",
       "urrMzMxUVFRmZmZERETc3NwyMjKqqqp2dnaIiIiYmJgiIiLu7u4AAACP9cC6AAAAAXRSTlMAQObY\n",
       "ZgAAAXdJREFUSMfNluuOhCAMhdkdLnKr4Ps/7IIjYLU6GjOr/WGMOQc/2lJlkT0sQr3r4U4OU97u\n",
       "XXlkb02W7AqZXt7cDFQT07mHAPXejBHYQ4DYoHME/xggJfNVm88mcfGl0RwCEipr7YEFr7Z9Jw8B\n",
       "jaMI+u8DGXWsZCNMiN8H2u2KOVAql5zgPSgBasqsgEzAIwmElLX62IE1wtOrroESunr3q49Macbf\n",
       "EykCGwyTnMxQVSpbApaOheZFaWgg14V6jGxtJhNFegyaBELKDQfWTF26XpUAYrx9V4dZoVVKsoKt\n",
       "HhqIllg6mibqLU0XxuDjdVL1taI5l7UxeNojlxtAk1LPSrZyzDS/Pxua3Wk5MJ/mUdqBsXlrySYG\n",
       "8pQ1JY7iyH6kmR355ap7k1SD6yD1YlosV9wp0JYEakocxZH9SKPjSnMyEpAxuNif59DMgTveeUpz\n",
       "6luXbNozYU8NxuaQuOMtpTmbIOYA/LlJ3Rw4Qb2jNNdD/cNvyB+M5xJfWlZzswAAAABJRU5ErkJg\n",
       "gg==\n",
       "\" style=\"display:inline;vertical-align:middle;\" /></a><br>(see <a class=\"ProveItLink\" href=\"../__pv_it/3b978af40a8ee9b15894daeb9718097ebc98975e0/dependencies.ipynb\">dependencies</a>)<br>"
      ],
      "text/plain": [
       "notEqualsContradiction: forall_{x, y | x = y , x != y} FALSE"
      ]
     },
     "execution_count": 2,
     "metadata": {},
     "output_type": "execute_result"
    }
   ],
   "source": [
    "%proving notEqualsContradiction presuming [negationContradiction]"
   ]
  },
  {
   "cell_type": "code",
   "execution_count": 3,
   "metadata": {},
   "outputs": [
    {
     "data": {
      "text/html": [
       "<strong id=\"defaults.assumptions\">defaults.assumptions:</strong> <a class=\"ProveItLink\" href=\"../__pv_it/50a523a699ed0791477c3e882e9f57f47df6435b0/expr.ipynb\"><img src=\"data:image/png;base64,iVBORw0KGgoAAAANSUhEUgAAAHoAAAAVCAMAAAC+JQpZAAAAPFBMVEX///8LCwsYGBgNDQ0oKCjc\n",
       "3NwiIiJERESqqqqYmJh2dnZmZmYQEBDu7u4yMjJUVFTMzMyIiIi6uroAAACIMCsmAAAAAXRSTlMA\n",
       "QObYZgAAAXlJREFUSMfFltlywyAMRenCvgr+/18rgZ1ix+B4pm54CDPCB6GLJMLYW0eG+/Y2/Miq\n",
       "c5tTvM8zD8d2m+oU/H2uYx4s1CMB/H/QKLnBH/eOoJl3mGPhPs9JjtekYtYs2hiIXIGdy+9N/Z6X\n",
       "XqohKtOYNZYFvdhRf6GZE2sOhm48asCwXCg/ymbLHbqy318TVgXm8mJvRpWmCqJK5ED2Sg7RbdA7\n",
       "NjtWmmsSIcqzy8OvHMlaYGs8RHOcsamsrmm4F8pM0U2lsg/wCA18xqJrpx7ZUo1r/ljRjd+YLBUE\n",
       "uH39btDGfn5MWRRctjTTvN0/nFR5sHRdkXWeBuhT0D2LVKAkr1poJvE8/Exzi2QudFxfBJugOU7Y\n",
       "Vly5buAlGG8M6NNEkwC28NqP6jRCn4PuWFrHHHP88kO4FHCekMrOWWqkrZG/3JQFUUtmziQSfs4a\n",
       "uPpoCjynXM+qrwXds769HPzCXwWFt7U2ArgW9IaNy13xv3+x83wZqA38AO/IE5i5bmBDAAAAAElF\n",
       "TkSuQmCC\n",
       "\" style=\"display:inline;vertical-align:middle;\" /></a><br>"
      ],
      "text/plain": [
       "defaults.assumptions: (x = y , x != y)"
      ]
     },
     "execution_count": 3,
     "metadata": {},
     "output_type": "execute_result"
    }
   ],
   "source": [
    "defaults.assumptions = notEqualsContradiction.allConditions()"
   ]
  },
  {
   "cell_type": "code",
   "execution_count": 4,
   "metadata": {},
   "outputs": [
    {
     "data": {
      "text/html": [
       "<strong id=\"x_neq_y\">x_neq_y:</strong> <a class=\"ProveItLink\" href=\"../__pv_it/300e2e5a84d087a5fb9402300e42d269677e6d4f0/expr.ipynb\"><img src=\"data:image/png;base64,iVBORw0KGgoAAAANSUhEUgAAADMAAAAUCAMAAAAX1vWWAAAAPFBMVEX///8LCwsYGBgNDQ0oKCi6\n",
       "uroyMjJERETMzMwQEBAiIiKYmJju7u5mZmaqqqpUVFSIiIh2dnbc3NwAAACyXdPkAAAAAXRSTlMA\n",
       "QObYZgAAANBJREFUOMvNU0sWwiAMjB/KNxDg/nc1obZqK/jYmQUdIGFmSgAYRi4wG2WZLoGk/pXG\n",
       "6L6CTKlEQjpuaPM+CxmzZNcgGMA7D9Ztu7i0uN9kTPtvB1X5Q7XhFUQzpDERUE7VIjiI2S/KVfqY\n",
       "cpoV9XWzYOlcsxxbIIoTU5/spYGw+3Ec14tr8VKAcltkBfqy+qIwpoEFxU5qjB40FxcauWk8vKQ4\n",
       "mxVpyiFn8j/ctEzC2m/0iJ234fpt48K5+Tg92DhF4/jydZ6igchuRn0+fgMPuMgIfJwzrpMAAAAA\n",
       "SUVORK5CYII=\n",
       "\" style=\"display:inline;vertical-align:middle;\" /></a><br>"
      ],
      "text/plain": [
       "x_neq_y: x != y"
      ]
     },
     "execution_count": 4,
     "metadata": {},
     "output_type": "execute_result"
    }
   ],
   "source": [
    "x_neq_y = defaults.assumptions[1]"
   ]
  },
  {
   "cell_type": "code",
   "execution_count": 5,
   "metadata": {},
   "outputs": [
    {
     "data": {
      "text/html": [
       "<strong id=\"not__x_eq_y\">not__x_eq_y:</strong> <span style=\"font-size:20px;\"><a class=\"ProveItLink\" href=\"../__pv_it/270b0e611621b9527f6c1d1da6de2ad522866c920/expr.ipynb\"><img src=\"data:image/png;base64,iVBORw0KGgoAAAANSUhEUgAAAEUAAAAVCAMAAAAn3dPsAAAAPFBMVEX///8LCwsYGBgNDQ0oKChE\n",
       "RETc3NyqqqpUVFS6urrMzMwyMjIQEBCIiIh2dnYiIiLu7u5mZmaYmJgAAADt+DP7AAAAAXRSTlMA\n",
       "QObYZgAAASJJREFUOMudVNl2xSAItL11jSDi//9rNdHY7LE8eFRwHAdEiGIcWfzHHKJqcwr4GN+j\n",
       "dzhe1xmkRxA1XXli86B/RDH2kqR/jXJNZQTlmsoAipPiPYpCMEpDhH2kdH9XhLHkVCXaoFSZKfs4\n",
       "sPCh6z/bz6eMZr1d2NQzy6ml3Fbv4tLulorTIpZ7ZH3mFMum8TWoEDQnClizWeYwX96c2sPlVArf\n",
       "+n6XhyPKtC9bXRRxqZ5qhW/WalCzi1ZdQrbvrzCb3JYrVFWbLgIXOVktigHdU1mUkOY00zqxkHmm\n",
       "4E6VmUvesolPUUgCEiLwgypzJMSkBmpXx4uSDSM/INDxU2UAWtvKepj9EJWSWomH/kIBBqgInVWx\n",
       "vdf1786oz1Hsu777CzvKDW1gBvfbAAAAAElFTkSuQmCC\n",
       "\" style=\"display:inline;vertical-align:middle;\" /></a> <a class=\"ProveItLink\" href=\"../__pv_it/bd900b45dde9018939026ddf7b5d38be1c9f0e5e0/proof.ipynb\" style=\"text-decoration: none\">&#x22A2;&nbsp;</a><a class=\"ProveItLink\" href=\"../__pv_it/d228eea8592f74f3d21e84da082b133ceb9bc72e0/expr.ipynb\"><img src=\"data:image/png;base64,iVBORw0KGgoAAAANSUhEUgAAAFEAAAAVBAMAAADMaB9/AAAAMFBMVEX////c3NxERESqqqqYmJgQ\n",
       "EBDu7u4yMjKIiIi6urpUVFTMzMx2dnYiIiJmZmYAAABjE816AAAAAXRSTlMAQObYZgAAASBJREFU\n",
       "KM9jYCADcDbglvNE4e3CYwrfBmReGT4LC5DYHA34VPogsVkT8KlMRWJPx+tdJgME+w0Qy3QJ96E5\n",
       "gu3cAQb5BAaeBwihEqDoAZYrrBdAXi0HgwVAJg/nB4Z+BgbmAoa3d4HgDlAoEijKwPGBeQOqmZv5\n",
       "LjAoAQM7ABGUP4FmMnApoDswgbWB4QcDA/cHFJXAAMAMKvsE7t+oKoNBDPkNDKDA4rsLBmALnjNw\n",
       "BKDarsLAwCLQz8CBHqx1DExAn7FAI4kbiM8BLXJQZZBAt/0Vw3wHBpRQmsvAkNSTc8IBXWVSx3sB\n",
       "Bgb2CUixKYArfs6ixSbLAazKuC6wgfx6gnCq4z3ABDSCDTnVMUhhVcnc8RJkMorTGPEk0G4GBgDJ\n",
       "bUZHqfFSGQAAAABJRU5ErkJggg==\n",
       "\" style=\"display:inline;vertical-align:middle;\" /></a></span><br>"
      ],
      "text/plain": [
       "not__x_eq_y: {x != y} |- [not](x = y)"
      ]
     },
     "execution_count": 5,
     "metadata": {},
     "output_type": "execute_result"
    }
   ],
   "source": [
    "not__x_eq_y = x_neq_y.unfold()"
   ]
  },
  {
   "cell_type": "code",
   "execution_count": 6,
   "metadata": {},
   "outputs": [
    {
     "data": {
      "text/html": [
       "<span style=\"font-size:20px;\"><a class=\"ProveItLink\" href=\"../__pv_it/2dfa7657b7f97d2a4e3dd9b7af8ba2aede962a8c0/expr.ipynb\"><img src=\"data:image/png;base64,iVBORw0KGgoAAAANSUhEUgAAAIEAAAAVCAMAAABWiX03AAAAPFBMVEX///8LCwsYGBgNDQ0oKChE\n",
       "RETc3NyqqqpUVFS6urrMzMwyMjIQEBCIiIh2dnYiIiLu7u5mZmaYmJgAAADt+DP7AAAAAXRSTlMA\n",
       "QObYZgAAAW9JREFUSMe9ltl2hSAMRenApITx//+1Rs0VUPDaVnnRZdxyOElAxnDEENnTY7BW0L13\n",
       "9ta5tpkqDUaud5BuFSDGViRQxJpbFSjdNMc8oqBtwVMK2hY8pGDg7IICYUEJCQG63/Q2YO+I5HOv\n",
       "Wygf2uxrYipJPwWji8y4VyAb6qWc6VR30A4l9vurw8ZEbakpvMTk0LVVsoDz8NzeJlpaULNjwIfK\n",
       "0EvojOJniZ3eMuh1gvLhIapVn+UjbsbaZDoNnBeXxCwOqV7uETqKLkubsdo6VswxKrHgssHLrQzq\n",
       "BirRhf386LJUB8yu5RPFUiLg+x7M2eOKZRM20J0FObvvRpki49OtOEtEmD6gEybQJ9dDqyoo2QMF\n",
       "noP11sLpQT29CCHh8ryZLy10b0HG/nVPpMxp0anY0Gd/rUA5XPx6tPcMc77PbhPHawqwhTj908Rr\n",
       "FhTs9n/gHVxRIKdM0nkH1ywo2G0zxpVY+f+non7vP/EHJ0MVZcEVCncAAAAASUVORK5CYII=\n",
       "\" style=\"display:inline;vertical-align:middle;\" /></a> <a class=\"ProveItLink\" href=\"../__pv_it/02e7cd827add31778706342976913f83fae1d66b0/proof.ipynb\" style=\"text-decoration: none\">&#x22A2;&nbsp;</a><a class=\"ProveItLink\" href=\"../../boolean/__pv_it/8f1f7fac882de28c72b62ab80a1700b6d8fd066b0/expr.ipynb\"><img src=\"data:image/png;base64,iVBORw0KGgoAAAANSUhEUgAAAA4AAAAOBAMAAADtZjDiAAAAG1BMVEX///9EREQQEBAiIiJmZmbM\n",
       "zMyIiIjc3NwAAACryk5kAAAAAXRSTlMAQObYZgAAABlJREFUCNdjYGBgKGOAgBBa0s7GxkbGxoYA\n",
       "FMUF2aBfHgoAAAAASUVORK5CYII=\n",
       "\" style=\"display:inline;vertical-align:middle;\" /></a></span>"
      ],
      "text/plain": [
       "{x = y , x != y} |- FALSE"
      ]
     },
     "execution_count": 6,
     "metadata": {},
     "output_type": "execute_result"
    }
   ],
   "source": [
    "not__x_eq_y.deriveContradiction()"
   ]
  },
  {
   "cell_type": "code",
   "execution_count": 7,
   "metadata": {},
   "outputs": [
    {
     "data": {
      "text/html": [
       "<table><tr><th>&nbsp;</th><th>step type</th><th>requirements</th><th>statement</th></tr>\n",
       "<tr><td>0</td><td>generalizaton</td><td>1</td><td><span style=\"font-size:20px;\"> <a class=\"ProveItLink\" href=\"../__pv_it/d7a09ca0af16f2172351847f585ee77aa8535a830/proof.ipynb\" style=\"text-decoration: none\">&#x22A2;&nbsp;</a><a class=\"ProveItLink\" href=\"../__pv_it/3b978af40a8ee9b15894daeb9718097ebc98975e0/expr.ipynb\"><img src=\"data:image/png;base64,iVBORw0KGgoAAAANSUhEUgAAAJAAAAAWCAMAAAAYceVPAAAAOVBMVEX///8oKCgUFBQJCQkQEBC6\n",
       "urrMzMxUVFRmZmZERETc3NwyMjKqqqp2dnaIiIiYmJgiIiLu7u4AAACP9cC6AAAAAXRSTlMAQObY\n",
       "ZgAAAXdJREFUSMfNluuOhCAMhdkdLnKr4Ps/7IIjYLU6GjOr/WGMOQc/2lJlkT0sQr3r4U4OU97u\n",
       "XXlkb02W7AqZXt7cDFQT07mHAPXejBHYQ4DYoHME/xggJfNVm88mcfGl0RwCEipr7YEFr7Z9Jw8B\n",
       "jaMI+u8DGXWsZCNMiN8H2u2KOVAql5zgPSgBasqsgEzAIwmElLX62IE1wtOrroESunr3q49Macbf\n",
       "EykCGwyTnMxQVSpbApaOheZFaWgg14V6jGxtJhNFegyaBELKDQfWTF26XpUAYrx9V4dZoVVKsoKt\n",
       "HhqIllg6mibqLU0XxuDjdVL1taI5l7UxeNojlxtAk1LPSrZyzDS/Pxua3Wk5MJ/mUdqBsXlrySYG\n",
       "8pQ1JY7iyH6kmR355ap7k1SD6yD1YlosV9wp0JYEakocxZH9SKPjSnMyEpAxuNif59DMgTveeUpz\n",
       "6luXbNozYU8NxuaQuOMtpTmbIOYA/LlJ3Rw4Qb2jNNdD/cNvyB+M5xJfWlZzswAAAABJRU5ErkJg\n",
       "gg==\n",
       "\" style=\"display:inline;vertical-align:middle;\" /></a></span></td></tr>\n",
       "<tr><td>1</td><td>specialization</td><td>2, 3, 4</td><td><span style=\"font-size:20px;\"><a class=\"ProveItLink\" href=\"../__pv_it/2dfa7657b7f97d2a4e3dd9b7af8ba2aede962a8c0/expr.ipynb\"><img src=\"data:image/png;base64,iVBORw0KGgoAAAANSUhEUgAAAIEAAAAVCAMAAABWiX03AAAAPFBMVEX///8LCwsYGBgNDQ0oKChE\n",
       "RETc3NyqqqpUVFS6urrMzMwyMjIQEBCIiIh2dnYiIiLu7u5mZmaYmJgAAADt+DP7AAAAAXRSTlMA\n",
       "QObYZgAAAW9JREFUSMe9ltl2hSAMRenApITx//+1Rs0VUPDaVnnRZdxyOElAxnDEENnTY7BW0L13\n",
       "9ta5tpkqDUaud5BuFSDGViRQxJpbFSjdNMc8oqBtwVMK2hY8pGDg7IICYUEJCQG63/Q2YO+I5HOv\n",
       "Wygf2uxrYipJPwWji8y4VyAb6qWc6VR30A4l9vurw8ZEbakpvMTk0LVVsoDz8NzeJlpaULNjwIfK\n",
       "0EvojOJniZ3eMuh1gvLhIapVn+UjbsbaZDoNnBeXxCwOqV7uETqKLkubsdo6VswxKrHgssHLrQzq\n",
       "BirRhf386LJUB8yu5RPFUiLg+x7M2eOKZRM20J0FObvvRpki49OtOEtEmD6gEybQJ9dDqyoo2QMF\n",
       "noP11sLpQT29CCHh8ryZLy10b0HG/nVPpMxp0anY0Gd/rUA5XPx6tPcMc77PbhPHawqwhTj908Rr\n",
       "FhTs9n/gHVxRIKdM0nkH1ywo2G0zxpVY+f+non7vP/EHJ0MVZcEVCncAAAAASUVORK5CYII=\n",
       "\" style=\"display:inline;vertical-align:middle;\" /></a> <a class=\"ProveItLink\" href=\"../__pv_it/02e7cd827add31778706342976913f83fae1d66b0/proof.ipynb\" style=\"text-decoration: none\">&#x22A2;&nbsp;</a><a class=\"ProveItLink\" href=\"../../boolean/__pv_it/8f1f7fac882de28c72b62ab80a1700b6d8fd066b0/expr.ipynb\"><img src=\"data:image/png;base64,iVBORw0KGgoAAAANSUhEUgAAAA4AAAAOBAMAAADtZjDiAAAAG1BMVEX///9EREQQEBAiIiJmZmbM\n",
       "zMyIiIjc3NwAAACryk5kAAAAAXRSTlMAQObYZgAAABlJREFUCNdjYGBgKGOAgBBa0s7GxkbGxoYA\n",
       "FMUF2aBfHgoAAAAASUVORK5CYII=\n",
       "\" style=\"display:inline;vertical-align:middle;\" /></a></span></td></tr>\n",
       "<tr><td>&nbsp;</td><td colspan=4 style=\"text-align:left\"><span style=\"font-size:20px;\"><a class=\"ProveItLink\" href=\"../../../__pv_it/2cbe72a7ad6f655694dd697106680215e8489b600/expr.ipynb\"><img src=\"data:image/png;base64,iVBORw0KGgoAAAANSUhEUgAAAA8AAAAOBAMAAAACpFvcAAAALVBMVEX///8QEBBERERUVFS6urqI\n",
       "iIhmZmaqqqrc3Nzu7u6YmJgyMjIiIiLMzMwAAADtIaYWAAAAAXRSTlMAQObYZgAAAFtJREFUCNdj\n",
       "YACBOwxQsA9Kc52bAGG05zVAGAFxDmCaZULdAjBjCsO9ADDDgaEvAUTzGhvbKYCVMDAwbgAxChgY\n",
       "eASANAeQwf0AyJgNxEwvGRia5HYwcOm9TgAA6BoR3jrzwFcAAAAASUVORK5CYII=\n",
       "\" style=\"display:inline;vertical-align:middle;\" /></a> : <a class=\"ProveItLink\" href=\"../__pv_it/d7b0ec29f16be033b0ced711d4b5a779ecbfcdb70/expr.ipynb\"><img src=\"data:image/png;base64,iVBORw0KGgoAAAANSUhEUgAAADMAAAANBAMAAAD2/0vEAAAAMFBMVEX///+6uroyMjJERETMzMwQ\n",
       "EBAiIiKYmJju7u5mZmaqqqpUVFSIiIh2dnbc3NwAAAAWgogoAAAAAXRSTlMAQObYZgAAAKRJREFU\n",
       "GNNjYHh7+tXJAwwogOPmBYb3DQwcF9jTWROAfE4lMNgAZPIyfmA4D6QYeD5wOaDq8uJMYDAGambg\n",
       "NmBAAw2sBxj+gBisB9ClGNY3sHwB0e8dGBpAdqWBAdiISQw8AQwM7A/OM/A0oOnSZGAGOmd9gSnD\n",
       "G3QDZzPIFzAwNJ/tvVOALtV8Zv4DBlzgGg5x7gSOKBxSbBeYL+CQ4jozEUgCABYeKl4jfnQmAAAA\n",
       "AElFTkSuQmCC\n",
       "\" style=\"display:inline;vertical-align:middle;\" /></a></span></td></tr><tr><td>2</td><td>theorem</td><td></td><td><span style=\"font-size:20px;\"> <a class=\"ProveItLink\" href=\"../../boolean/negation/_proofs_/negationContradiction.ipynb\" style=\"text-decoration: none\">&#x22A2;&nbsp;</a><a class=\"ProveItLink\" href=\"../../boolean/negation/__pv_it/8d34e69910011169cb519166c0f9ff6f4dda77a60/expr.ipynb\"><img src=\"data:image/png;base64,iVBORw0KGgoAAAANSUhEUgAAAGsAAAAWBAMAAAA1LX8gAAAAMFBMVEX///8QEBC6urrMzMxUVFRm\n",
       "ZmZERETc3NwyMjKqqqp2dnaIiIiYmJgiIiLu7u4AAAAU9Wx4AAAAAXRSTlMAQObYZgAAATlJREFU\n",
       "OMtjeMBAFrgAIk6ToIF9A4hcCSL6SNDGHAAiy0AGJJCsjQPoOdYJJGvjWV5eXstAsjaGb2lpt8jQ\n",
       "5szAkA5mtINJJpg0RwGyYgQPqk2Fga8B7NpPYC4bTPq8ArI2BA+qjZeB+wCIfvoHRRtf/AEkXUg8\n",
       "qDbuA7zglLLuKoo2rrcBSNqQeFBtfA0mYN6GNBRt1mzIkYnEg2pjSHcCkSwMsSjaHFgvIGlD4sG0\n",
       "TQWLnGTYj6yNZwL3B5Dj0tLSMuA8FG2MoLTJdzU0/wGStrehYf+g6tiQeKx3796VvXsX5GIekHLW\n",
       "AgZ7AyRt4QzMnxHakHioQIeBgf8AQhsTkP2HoaIAIgLhYQFPvjGw+9+Ba+PzT2Ao+XvAHmwQM5SH\n",
       "N8mxIXMOEJ1SkbUxF5CljYf4fMFClCoA83FQjMq6UisAAAAASUVORK5CYII=\n",
       "\" style=\"display:inline;vertical-align:middle;\" /></a></span></td></tr>\n",
       "<tr><td>&nbsp;</td><td colspan=4 style-\"text-align:left\"><a class=\"ProveItLink\" href=\"../../boolean/negation/_proofs_/negationContradiction.ipynb\">proveit.logic.boolean.negation.negationContradiction</a></td></tr><tr><td>3</td><td>assumption</td><td></td><td><span style=\"font-size:20px;\"><a class=\"ProveItLink\" href=\"../__pv_it/a404f696ef977e6f147ba07db210f32f5fbf79e50/expr.ipynb\"><img src=\"data:image/png;base64,iVBORw0KGgoAAAANSUhEUgAAAEUAAAAVBAMAAADiLT7tAAAAMFBMVEX///9ERETc3NyqqqpUVFS6\n",
       "urrMzMwyMjIQEBCIiIh2dnYiIiLu7u5mZmaYmJgAAABJJ2g3AAAAAXRSTlMAQObYZgAAAPZJREFU\n",
       "KM9jYGDgu8eAE7CtUgBRPLsY8AC2ZhDJ+QGfGobrIIKrAa+aFQOhhmmlk+VNNMlTtxiY/kDV8BYA\n",
       "+QyvH3SDfVEOAiUg5oJ4sJffg9gZAUA+w3wGM7SAMbjNwCjAwMB+gYEhpQ0ocIDBEd0dPAydDPwT\n",
       "gAzxBwwMEQkgoU4MxzL/YcgHSnEvALJZgO5hYPoG1AgEt3eDwEaoO2cwQN3DtYGB4RHQdXPQzAE6\n",
       "RATJ78z/GBuYJqCp4XVg/Yekhkdyzap5GI6WnPuJcDiDXIFfjTfDCQOYGj4canYxSMHTD89O7Gos\n",
       "5waAgrsVzOFbTCA9AwDSkUcoxLKrOwAAAABJRU5ErkJggg==\n",
       "\" style=\"display:inline;vertical-align:middle;\" /></a> <a class=\"ProveItLink\" href=\"../__pv_it/29521030c2ef756726010b20cbe4bae1630794080/proof.ipynb\" style=\"text-decoration: none\">&#x22A2;&nbsp;</a><a class=\"ProveItLink\" href=\"../__pv_it/d7b0ec29f16be033b0ced711d4b5a779ecbfcdb70/expr.ipynb\"><img src=\"data:image/png;base64,iVBORw0KGgoAAAANSUhEUgAAADMAAAANBAMAAAD2/0vEAAAAMFBMVEX///+6uroyMjJERETMzMwQ\n",
       "EBAiIiKYmJju7u5mZmaqqqpUVFSIiIh2dnbc3NwAAAAWgogoAAAAAXRSTlMAQObYZgAAAKRJREFU\n",
       "GNNjYHh7+tXJAwwogOPmBYb3DQwcF9jTWROAfE4lMNgAZPIyfmA4D6QYeD5wOaDq8uJMYDAGambg\n",
       "NmBAAw2sBxj+gBisB9ClGNY3sHwB0e8dGBpAdqWBAdiISQw8AQwM7A/OM/A0oOnSZGAGOmd9gSnD\n",
       "G3QDZzPIFzAwNJ/tvVOALtV8Zv4DBlzgGg5x7gSOKBxSbBeYL+CQ4jozEUgCABYeKl4jfnQmAAAA\n",
       "AElFTkSuQmCC\n",
       "\" style=\"display:inline;vertical-align:middle;\" /></a></span></td></tr>\n",
       "<tr><td>4</td><td>specialization</td><td>5, 6</td><td><span style=\"font-size:20px;\"><a class=\"ProveItLink\" href=\"../__pv_it/270b0e611621b9527f6c1d1da6de2ad522866c920/expr.ipynb\"><img src=\"data:image/png;base64,iVBORw0KGgoAAAANSUhEUgAAAEUAAAAVCAMAAAAn3dPsAAAAPFBMVEX///8LCwsYGBgNDQ0oKChE\n",
       "RETc3NyqqqpUVFS6urrMzMwyMjIQEBCIiIh2dnYiIiLu7u5mZmaYmJgAAADt+DP7AAAAAXRSTlMA\n",
       "QObYZgAAASJJREFUOMudVNl2xSAItL11jSDi//9rNdHY7LE8eFRwHAdEiGIcWfzHHKJqcwr4GN+j\n",
       "dzhe1xmkRxA1XXli86B/RDH2kqR/jXJNZQTlmsoAipPiPYpCMEpDhH2kdH9XhLHkVCXaoFSZKfs4\n",
       "sPCh6z/bz6eMZr1d2NQzy6ml3Fbv4tLulorTIpZ7ZH3mFMum8TWoEDQnClizWeYwX96c2sPlVArf\n",
       "+n6XhyPKtC9bXRRxqZ5qhW/WalCzi1ZdQrbvrzCb3JYrVFWbLgIXOVktigHdU1mUkOY00zqxkHmm\n",
       "4E6VmUvesolPUUgCEiLwgypzJMSkBmpXx4uSDSM/INDxU2UAWtvKepj9EJWSWomH/kIBBqgInVWx\n",
       "vdf1786oz1Hsu777CzvKDW1gBvfbAAAAAElFTkSuQmCC\n",
       "\" style=\"display:inline;vertical-align:middle;\" /></a> <a class=\"ProveItLink\" href=\"../__pv_it/bd900b45dde9018939026ddf7b5d38be1c9f0e5e0/proof.ipynb\" style=\"text-decoration: none\">&#x22A2;&nbsp;</a><a class=\"ProveItLink\" href=\"../__pv_it/d228eea8592f74f3d21e84da082b133ceb9bc72e0/expr.ipynb\"><img src=\"data:image/png;base64,iVBORw0KGgoAAAANSUhEUgAAAFEAAAAVBAMAAADMaB9/AAAAMFBMVEX////c3NxERESqqqqYmJgQ\n",
       "EBDu7u4yMjKIiIi6urpUVFTMzMx2dnYiIiJmZmYAAABjE816AAAAAXRSTlMAQObYZgAAASBJREFU\n",
       "KM9jYCADcDbglvNE4e3CYwrfBmReGT4LC5DYHA34VPogsVkT8KlMRWJPx+tdJgME+w0Qy3QJ96E5\n",
       "gu3cAQb5BAaeBwihEqDoAZYrrBdAXi0HgwVAJg/nB4Z+BgbmAoa3d4HgDlAoEijKwPGBeQOqmZv5\n",
       "LjAoAQM7ABGUP4FmMnApoDswgbWB4QcDA/cHFJXAAMAMKvsE7t+oKoNBDPkNDKDA4rsLBmALnjNw\n",
       "BKDarsLAwCLQz8CBHqx1DExAn7FAI4kbiM8BLXJQZZBAt/0Vw3wHBpRQmsvAkNSTc8IBXWVSx3sB\n",
       "Bgb2CUixKYArfs6ixSbLAazKuC6wgfx6gnCq4z3ABDSCDTnVMUhhVcnc8RJkMorTGPEk0G4GBgDJ\n",
       "bUZHqfFSGQAAAABJRU5ErkJggg==\n",
       "\" style=\"display:inline;vertical-align:middle;\" /></a></span></td></tr>\n",
       "<tr><td>&nbsp;</td><td colspan=4 style=\"text-align:left\"><span style=\"font-size:20px;\"><a class=\"ProveItLink\" href=\"../../../__pv_it/530be409e3083890784cf1d7b28c9e67e90af9360/expr.ipynb\"><img src=\"data:image/png;base64,iVBORw0KGgoAAAANSUhEUgAAAAsAAAAJBAMAAAAWSsseAAAAKlBMVEX///9ERETMzMwQEBAiIiKY\n",
       "mJju7u5mZmaqqqpUVFSIiIh2dnbc3NwAAAA/vyDhAAAAAXRSTlMAQObYZgAAAENJREFUCNdjYDi9\n",
       "8sTyBQxsG1hdmR0YuBm4LnAoMLAxcAowgADzAjB1VoEhgYH1wFoGrgSG3gBhhlMMDImrs3cFMAAA\n",
       "t0YN+iTRa+sAAAAASUVORK5CYII=\n",
       "\" style=\"display:inline;vertical-align:middle;\" /></a> : <a class=\"ProveItLink\" href=\"../../../__pv_it/530be409e3083890784cf1d7b28c9e67e90af9360/expr.ipynb\"><img src=\"data:image/png;base64,iVBORw0KGgoAAAANSUhEUgAAAAsAAAAJBAMAAAAWSsseAAAAKlBMVEX///9ERETMzMwQEBAiIiKY\n",
       "mJju7u5mZmaqqqpUVFSIiIh2dnbc3NwAAAA/vyDhAAAAAXRSTlMAQObYZgAAAENJREFUCNdjYDi9\n",
       "8sTyBQxsG1hdmR0YuBm4LnAoMLAxcAowgADzAjB1VoEhgYH1wFoGrgSG3gBhhlMMDImrs3cFMAAA\n",
       "t0YN+iTRa+sAAAAASUVORK5CYII=\n",
       "\" style=\"display:inline;vertical-align:middle;\" /></a>, <a class=\"ProveItLink\" href=\"../../../__pv_it/f8b9edf8e16034727f0aad55bb83e392c3db40d40/expr.ipynb\"><img src=\"data:image/png;base64,iVBORw0KGgoAAAANSUhEUgAAAAsAAAANBAMAAACN24kIAAAAMFBMVEX///+YmJhUVFQyMjIQEBBE\n",
       "REQiIiKqqqrMzMyIiIi6urrc3NxmZmZ2dnbu7u4AAADXeCicAAAAAXRSTlMAQObYZgAAAFhJREFU\n",
       "CNdj4LtzgWH/AwZerg8M8xkY2nkSGEIZGB6wTGD4ycDAUP+A4weQOszA6QCkbBhYFYDUIYb1AkDq\n",
       "6czzGxhA4BoQMyXwuQMptgusF4AU+8xTQBIAUqMVoSp/SLMAAAAASUVORK5CYII=\n",
       "\" style=\"display:inline;vertical-align:middle;\" /></a> : <a class=\"ProveItLink\" href=\"../../../__pv_it/f8b9edf8e16034727f0aad55bb83e392c3db40d40/expr.ipynb\"><img src=\"data:image/png;base64,iVBORw0KGgoAAAANSUhEUgAAAAsAAAANBAMAAACN24kIAAAAMFBMVEX///+YmJhUVFQyMjIQEBBE\n",
       "REQiIiKqqqrMzMyIiIi6urrc3NxmZmZ2dnbu7u4AAADXeCicAAAAAXRSTlMAQObYZgAAAFhJREFU\n",
       "CNdj4LtzgWH/AwZerg8M8xkY2nkSGEIZGB6wTGD4ycDAUP+A4weQOszA6QCkbBhYFYDUIYb1AkDq\n",
       "6czzGxhA4BoQMyXwuQMptgusF4AU+8xTQBIAUqMVoSp/SLMAAAAASUVORK5CYII=\n",
       "\" style=\"display:inline;vertical-align:middle;\" /></a></span></td></tr><tr><td>5</td><td>theorem</td><td></td><td><span style=\"font-size:20px;\"> <a class=\"ProveItLink\" href=\"unfoldNotEquals.ipynb\" style=\"text-decoration: none\">&#x22A2;&nbsp;</a><a class=\"ProveItLink\" href=\"../__pv_it/38779c63c7ca10709484d9771bf5465a3e774ee90/expr.ipynb\"><img src=\"data:image/png;base64,iVBORw0KGgoAAAANSUhEUgAAAL8AAAAXCAMAAABte263AAAAOVBMVEX///8oKCgUFBQJCQkQEBC6\n",
       "urrMzMxUVFRmZmZERETc3NwyMjKqqqp2dnaIiIiYmJgiIiLu7u4AAACP9cC6AAAAAXRSTlMAQObY\n",
       "ZgAAAmJJREFUWMPVV4lu5CAMZXfDffP/H7uYAIEZSEg7kVpLlRuM4YGfbQahXy7+8R2wuWs4F4tb\n",
       "7Y5x8wh8Qu8aroSRRmtVhuUzoZgu+/X9ZKMFzx/1n8+KMXcNCwzSjS7XwNQj+Dd/17CQs1ujrRZJ\n",
       "3DPJK+8aVoSrRgcO4vQj+Jm+MAhtqFCGXbDJ6+QgQoqaZvto0jSlMxcLl3m2wdhf2lkO2owrMsBZ\n",
       "tNXwM9lILVEa4QBJE9KXysFLGsMkvxJOvlDUXlm+n5m5Kroz6AxKkfMirOISgGCHgHMC7BoMxn4P\n",
       "v5gU84AnVT8bgA70uvLFaRswLOw0IwE1GrA7/z38M/pd4U+hWKmkCphPAhngj9wpq8ZkwoaS0t95\n",
       "X+da/N1MhPXYA21qgv8wiASq+jRUc+7YkQHBTcebqrmgmY0egpmX9gYFgcg2vP86k6Y8+xf/zMAD\n",
       "cTvBnw1W7DlpruIvodTw7GxlpxVztcAcBUN4HIcNH+LvZpbsefeola45QGtQwSIezysuKcQidBxs\n",
       "v2rRDQNDQ2QaWUHNjP/HTM9nHgjP2uJu8Nxor/VC9YgzDStbStxrW6MHwSdt8dvIBH+eySNz/v6R\n",
       "iT/vHvFr1le2hYbzItoN3g8tpIC0TDVZSFg9IsFhWH+OmX3tfPU43lrTR9iaUAdwVakdvW5ipFgM\n",
       "KOCDiCpquBziP2bC8JF7rx4fez9D2+P5xKXXnvbciF+IFzKP6786LvLN46SzzQ3DTSL7S8egotfD\n",
       "hi3SeftXIj/9NYEGHgnnrLaIr/0CMKTXs+uHM+vr/mtVd0vPPGM/I/TnQfoP0pMahBS79IEAAAAA\n",
       "SUVORK5CYII=\n",
       "\" style=\"display:inline;vertical-align:middle;\" /></a></span></td></tr>\n",
       "<tr><td>&nbsp;</td><td colspan=4 style-\"text-align:left\"><a class=\"ProveItLink\" href=\"unfoldNotEquals.ipynb\">proveit.logic.equality.unfoldNotEquals</a></td></tr><tr><td>6</td><td>assumption</td><td></td><td><span style=\"font-size:20px;\"><a class=\"ProveItLink\" href=\"../__pv_it/270b0e611621b9527f6c1d1da6de2ad522866c920/expr.ipynb\"><img src=\"data:image/png;base64,iVBORw0KGgoAAAANSUhEUgAAAEUAAAAVCAMAAAAn3dPsAAAAPFBMVEX///8LCwsYGBgNDQ0oKChE\n",
       "RETc3NyqqqpUVFS6urrMzMwyMjIQEBCIiIh2dnYiIiLu7u5mZmaYmJgAAADt+DP7AAAAAXRSTlMA\n",
       "QObYZgAAASJJREFUOMudVNl2xSAItL11jSDi//9rNdHY7LE8eFRwHAdEiGIcWfzHHKJqcwr4GN+j\n",
       "dzhe1xmkRxA1XXli86B/RDH2kqR/jXJNZQTlmsoAipPiPYpCMEpDhH2kdH9XhLHkVCXaoFSZKfs4\n",
       "sPCh6z/bz6eMZr1d2NQzy6ml3Fbv4tLulorTIpZ7ZH3mFMum8TWoEDQnClizWeYwX96c2sPlVArf\n",
       "+n6XhyPKtC9bXRRxqZ5qhW/WalCzi1ZdQrbvrzCb3JYrVFWbLgIXOVktigHdU1mUkOY00zqxkHmm\n",
       "4E6VmUvesolPUUgCEiLwgypzJMSkBmpXx4uSDSM/INDxU2UAWtvKepj9EJWSWomH/kIBBqgInVWx\n",
       "vdf1786oz1Hsu777CzvKDW1gBvfbAAAAAElFTkSuQmCC\n",
       "\" style=\"display:inline;vertical-align:middle;\" /></a> <a class=\"ProveItLink\" href=\"../__pv_it/6bfe38c08b898f513147a506b3c335b10e3ff5860/proof.ipynb\" style=\"text-decoration: none\">&#x22A2;&nbsp;</a><a class=\"ProveItLink\" href=\"../__pv_it/300e2e5a84d087a5fb9402300e42d269677e6d4f0/expr.ipynb\"><img src=\"data:image/png;base64,iVBORw0KGgoAAAANSUhEUgAAADMAAAAUCAMAAAAX1vWWAAAAPFBMVEX///8LCwsYGBgNDQ0oKCi6\n",
       "uroyMjJERETMzMwQEBAiIiKYmJju7u5mZmaqqqpUVFSIiIh2dnbc3NwAAACyXdPkAAAAAXRSTlMA\n",
       "QObYZgAAANBJREFUOMvNU0sWwiAMjB/KNxDg/nc1obZqK/jYmQUdIGFmSgAYRi4wG2WZLoGk/pXG\n",
       "6L6CTKlEQjpuaPM+CxmzZNcgGMA7D9Ztu7i0uN9kTPtvB1X5Q7XhFUQzpDERUE7VIjiI2S/KVfqY\n",
       "cpoV9XWzYOlcsxxbIIoTU5/spYGw+3Ec14tr8VKAcltkBfqy+qIwpoEFxU5qjB40FxcauWk8vKQ4\n",
       "mxVpyiFn8j/ctEzC2m/0iJ234fpt48K5+Tg92DhF4/jydZ6igchuRn0+fgMPuMgIfJwzrpMAAAAA\n",
       "SUVORK5CYII=\n",
       "\" style=\"display:inline;vertical-align:middle;\" /></a></span></td></tr>\n",
       "</table>"
      ],
      "text/plain": [
       "\tstep type\trequirements\tstatement\n",
       "0\tgeneralizaton\t1\t|- forall_{x, y | x = y , x != y} FALSE\n",
       "1\tspecialization\t2, 3, 4\t{x = y , x != y} |- FALSE\n",
       "\tA : x = y\n",
       "2\ttheorem\t\t|- forall_{A | A , [not](A)} FALSE\n",
       "\tproveit.logic.boolean.negation.negationContradiction\n",
       "3\tassumption\t\t{x = y} |- x = y\n",
       "4\tspecialization\t5, 6\t{x != y} |- [not](x = y)\n",
       "\tx : x, y : y\n",
       "5\ttheorem\t\t|- forall_{x, y | x != y} [not](x = y)\n",
       "\tproveit.logic.equality.unfoldNotEquals\n",
       "6\tassumption\t\t{x != y} |- x != y"
      ]
     },
     "execution_count": 7,
     "metadata": {},
     "output_type": "execute_result"
    }
   ],
   "source": [
    "%qed"
   ]
  },
  {
   "cell_type": "code",
   "execution_count": null,
   "metadata": {},
   "outputs": [],
   "source": []
  }
 ],
 "metadata": {
  "kernelspec": {
   "display_name": "Python 3",
   "language": "python",
   "name": "python3"
  }
 },
 "nbformat": 4,
 "nbformat_minor": 0
}
