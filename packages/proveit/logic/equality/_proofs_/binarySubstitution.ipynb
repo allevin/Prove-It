{
 "cells": [
  {
   "cell_type": "markdown",
   "metadata": {},
   "source": [
    "Proof of <a class=\"ProveItLink\" href=\"../../../_context_.ipynb\">proveit</a>.<a class=\"ProveItLink\" href=\"../../_context_.ipynb\">logic</a>.<a class=\"ProveItLink\" href=\"../_context_.ipynb\">equality</a>.<a class=\"ProveItLink\" href=\"../_theorems_.ipynb#binarySubstitution\">binarySubstitution</a> theorem\n",
    "========"
   ]
  },
  {
   "cell_type": "code",
   "execution_count": 1,
   "metadata": {},
   "outputs": [],
   "source": [
    "import proveit\n",
    "context = proveit.Context('..') # the theorem's context is in the parent directory"
   ]
  },
  {
   "cell_type": "code",
   "execution_count": 2,
   "metadata": {},
   "outputs": [
    {
     "name": "stdout",
     "output_type": "stream",
     "text": [
      "Beginning proof of binarySubstitution\n",
      "Recorded 'presuming' information\n",
      "Presuming previous theorems (applied transitively).\n"
     ]
    },
    {
     "data": {
      "text/html": [
       "<strong id=\"binarySubstitution\">binarySubstitution:</strong> <a class=\"ProveItLink\" href=\"../__pv_it/6a26756308b16f88fe445378c63b85ab7e732c010/expr.ipynb\"><img src=\"data:image/png;base64,iVBORw0KGgoAAAANSUhEUgAAAdcAAAAWBAMAAABgactXAAAAMFBMVEX///8QEBC6urrMzMxUVFRm\n",
       "ZmZERETc3NwyMjKqqqp2dnaIiIiYmJgiIiLu7u4AAAAU9Wx4AAAAAXRSTlMAQObYZgAABW9JREFU\n",
       "WMPlWF1oHFUUPruz/zs7G9oHqVJcoWBBalYQQRCyVtqoUVjUh9g0NKIkVCPOQ7RRsVlKS6tIWNCC\n",
       "0IcsQpC6toxtEjQpdigFi0XZl1YoChOQEOJDgsEGaQzec3/m3p25g9tXPfBl7uycb84595577pkA\n",
       "/J/EuxvluCMRJVd0JL2YJQa9oWi+nhOhfUVBC3+43mGwjyqIkmRZQwrLbzvJnxc5tIbA6uuN4Os4\n",
       "Gm3ryRbzR+As/jrZYbCTCiKlxq9HFZJGjhNkOLSGIHV2M4Kv4+i0MxXuD8c75JIe6izWvCMRLT/w\n",
       "6wlJ0slfmI8NhuCeYpzVh+sRfJUjRKddrHN/ODLEQLLeWbAxTyJaFtnFeNPzSbq9tYV51sUAgSRg\n",
       "nKlIvsoRotPu9rg/HOYXR4580GEW71YQLSk2dYmHHJ+kkRwtFoc5uOxSDAEMRvMPh3/SaZ8T/gjc\n",
       "Hh6+1WGwBxSkm71nBgLP032f30PCqNKbZVb7UNmabsBEYIEyfTMuwDQwiBlwpCG4unOfGL838+4s\n",
       "e7RyANJbbRwuijZzg9aFheeYPwJPAYxgZuyL2ojxU2L0sYIV+NHFgpo8RQUrATxgp9YAsqxCfQUv\n",
       "C1IuvgaXcdxPdY/TLTYE6wCfAQMkf6XypzQEcEeMrYb5S4xNXaMb8muCo5hWtLkbGNNtKJapPwK7\n",
       "wELvkvPVqAX1p3GbggZx/5PAwm5CkpS6ONtQLRgXpMeTLRgObjEP7iV+AYOQ7DHfEKTXxThHAszS\n",
       "E82oD0JqqJ3Djfva3A182xbEGtQfgQLkST5BIfqg/lAM/lDgwf6gXmINCiQ9DDqtpgOJMid5MYdP\n",
       "vJR+ALKMPcDgy/I2YQiya8KoBQl+XlhwHxSdAAfatbkbuIA1KFapPwJ5t4DbqRhdYTd0wQIxG5Di\n",
       "EKyWRbDkpUZFkKY8Yz2gfAPim+FgjY88P1hWwtg4JvYYWayesi5Yqc3dQB+q0O22BWvVsOkw36LV\n",
       "prl3hujF51gJf3v+Vdyzd2b4ROxQgHljyc2GMz/hkPrv8TQ+TXBSkPohT38cpLo32TGb3FLSmL/m\n",
       "pucbglRFjifK/Awmi/V1gMMWXWpzN9gxe8hrS2MY2YsPrtHp8fbHSIH+vWg/gjnzMxY+yLdMXgNG\n",
       "FXxP6sR3gWO9Dk+TrWXSAnWSB0yVTwhfpKzjdqJWrym5qBgSq0nGpn0Z8h4NIFOF19o54mj2tZkb\n",
       "uBCkOpG6gP4IwOmWX4XirA4e3QNzuAerBj5KOWZLViqO7GaqKx2o3xk3eyPHjx4D57sgSC9hOrXL\n",
       "M+TH0NEzrpbE1ZIYT7mvwPtg/Y2rWcHs1xw9Upu5sUp8TtSTlfajh8/JqLo/n4U+nJhSHmc6VubF\n",
       "DfZIWG+c//JS6Ji98NgFYgzNJkqid0PC0sIhO/ghMIvhH+PgMgLSEGt/6HhpfqXpgnW/jXZnN9o5\n",
       "arNEtZkbixv4bXAQmD8CYHp+tQejy2A323GyvNRP5P1FKPBlidkS/9IuxumwBEL5nFY12C6KDybK\n",
       "+UYZswPfFpVI0y6GtB9U/VmUbSyaJbtz3O7J1XLkAttJFzBux7yeJ7xxu8COcKVv1/XhUpqhpj3R\n",
       "snboe0ZHdk0BjlkZDTb9JsHzsFjXcDTarupPs80vg8xVj7v07cB5coFP52rkEh+4fpBeGnfziWfV\n",
       "Qp9rhUZKPz3LHJpPvNhkK/iJiMHegtd1HI22q/gjIF5Ulc/dtJ1w5J3yzjEFUZII5vgYZBde0Ov2\n",
       "coRkDMxpWzFKBZfzzGxJxwlr51V/BHghvYrdALs17FRjt3KnliBHIkouhhq5SOV8mSEsKifM13Mi\n",
       "tC8q4P9LafI0oZfsQkO5++/IP5x3zmz2xVwpAAAAAElFTkSuQmCC\n",
       "\" style=\"display:inline;vertical-align:middle;\" /></a><br>(see <a class=\"ProveItLink\" href=\"../__pv_it/6a26756308b16f88fe445378c63b85ab7e732c010/dependencies.ipynb\">dependencies</a>)<br>"
      ],
      "text/plain": [
       "binarySubstitution: forall_{f, x, y, a, b} (((x = a) and (y = b)) => (f(x , y) = f(a , b)))"
      ]
     },
     "execution_count": 2,
     "metadata": {},
     "output_type": "execute_result"
    }
   ],
   "source": [
    "%proving binarySubstitution presuming []"
   ]
  },
  {
   "cell_type": "code",
   "execution_count": null,
   "metadata": {},
   "outputs": [],
   "source": []
  }
 ],
 "metadata": {
  "kernelspec": {
   "display_name": "Python 3",
   "language": "python",
   "name": "python3"
  }
 },
 "nbformat": 4,
 "nbformat_minor": 0
}
