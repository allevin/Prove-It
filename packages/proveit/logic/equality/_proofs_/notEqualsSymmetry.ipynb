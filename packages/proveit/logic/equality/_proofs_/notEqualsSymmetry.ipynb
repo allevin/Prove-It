{
 "cells": [
  {
   "cell_type": "markdown",
   "metadata": {
    "collapsed": true,
    "deletable": true,
    "editable": true
   },
   "source": [
    "Proof of <a class=\"ProveItLink\" href=\"../../../_context_.ipynb\">proveit</a>.<a class=\"ProveItLink\" href=\"../../_context_.ipynb\">logic</a>.<a class=\"ProveItLink\" href=\"../_context_.ipynb\">equality</a>.<a href=\"../_theorems_.ipynb#notEqualsSymmetry\" class=\"ProveItLink\">notEqualsSymmetry</a> theorem\n",
    "========"
   ]
  },
  {
   "cell_type": "code",
   "execution_count": 1,
   "metadata": {
    "collapsed": true,
    "deletable": true,
    "editable": true
   },
   "outputs": [],
   "source": [
    "import proveit\n",
    "from proveit import defaults\n",
    "from proveit.logic.equality._axioms_ import equalsSymmetry\n",
    "context = proveit.Context('..') # the theorem's context is in the parent directory"
   ]
  },
  {
   "cell_type": "code",
   "execution_count": 2,
   "metadata": {
    "collapsed": false,
    "deletable": true,
    "editable": true
   },
   "outputs": [
    {
     "name": "stdout",
     "output_type": "stream",
     "text": [
      "Beginning proof of notEqualsSymmetry\n",
      "Recorded 'presuming' information\n",
      "Presuming previous theorem(s) in this context (and any of their dependencies).\n"
     ]
    },
    {
     "data": {
      "text/html": [
       "<strong id=\"notEqualsSymmetry\">notEqualsSymmetry:</strong> <a class=\"ProveItLink\" href=\"../__pv_it/0b1a437b9f792461539a8cc416ec7b68c666b42b0/expr.ipynb\"><img src=\"../__pv_it/0b1a437b9f792461539a8cc416ec7b68c666b42b0/expr.png\" style=\"display:inline;vertical-align:middle;\" /></a><br>(see <a class=\"ProveItLink\" href=\"../__pv_it/0b1a437b9f792461539a8cc416ec7b68c666b42b0/dependencies.ipynb\">dependencies</a>)<br>"
      ],
      "text/plain": [
       "notEqualsSymmetry: forall_{x, y | x != y} (y != x)"
      ]
     },
     "execution_count": 2,
     "metadata": {},
     "output_type": "execute_result"
    }
   ],
   "source": [
    "%proving notEqualsSymmetry presuming []"
   ]
  },
  {
   "cell_type": "code",
   "execution_count": 3,
   "metadata": {
    "collapsed": false
   },
   "outputs": [
    {
     "data": {
      "text/html": [
       "<strong id=\"defaults.assumptions\">defaults.assumptions:</strong> <a class=\"ProveItLink\" href=\"../__pv_it/43f3f7398e5f49463c7eb47522b5b6065a82165d0/expr.ipynb\"><img src=\"../__pv_it/43f3f7398e5f49463c7eb47522b5b6065a82165d0/expr.png\" style=\"display:inline;vertical-align:middle;\" /></a><br>"
      ],
      "text/plain": [
       "defaults.assumptions: (x != y)"
      ]
     },
     "execution_count": 3,
     "metadata": {},
     "output_type": "execute_result"
    }
   ],
   "source": [
    "defaults.assumptions = notEqualsSymmetry.conditions"
   ]
  },
  {
   "cell_type": "code",
   "execution_count": 4,
   "metadata": {
    "collapsed": false,
    "deletable": true,
    "editable": true
   },
   "outputs": [
    {
     "data": {
      "text/html": [
       "<strong id=\"x_neq_y\">x_neq_y:</strong> <a class=\"ProveItLink\" href=\"../__pv_it/d653f83d068ba3b3b2ff1f6849298500353558900/expr.ipynb\"><img src=\"../__pv_it/d653f83d068ba3b3b2ff1f6849298500353558900/expr.png\" style=\"display:inline;vertical-align:middle;\" /></a><br>"
      ],
      "text/plain": [
       "x_neq_y: x != y"
      ]
     },
     "execution_count": 4,
     "metadata": {},
     "output_type": "execute_result"
    }
   ],
   "source": [
    "x_neq_y = notEqualsSymmetry.conditions[0]"
   ]
  },
  {
   "cell_type": "code",
   "execution_count": 5,
   "metadata": {
    "collapsed": false
   },
   "outputs": [
    {
     "data": {
      "text/html": [
       "<strong id=\"not__x_eq_y\">not__x_eq_y:</strong> <span style=\"font-size:20px;\"><a class=\"ProveItLink\" href=\"../__pv_it/0a0c3733a14282ba7131d88b1f2c47f4d6a357dd0/expr.ipynb\"><img src=\"../__pv_it/0a0c3733a14282ba7131d88b1f2c47f4d6a357dd0/expr.png\" style=\"display:inline;vertical-align:middle;\" /></a> &#x22A2;&nbsp;<a class=\"ProveItLink\" href=\"../__pv_it/ba803e74a545c0e769490f0360bfdd9ef850012c0/expr.ipynb\"><img src=\"../__pv_it/ba803e74a545c0e769490f0360bfdd9ef850012c0/expr.png\" style=\"display:inline;vertical-align:middle;\" /></a></span><br>"
      ],
      "text/plain": [
       "not__x_eq_y: {x != y} |= [not](x = y)"
      ]
     },
     "execution_count": 5,
     "metadata": {},
     "output_type": "execute_result"
    }
   ],
   "source": [
    "not__x_eq_y = x_neq_y.unfold()"
   ]
  },
  {
   "cell_type": "code",
   "execution_count": 6,
   "metadata": {
    "collapsed": false
   },
   "outputs": [
    {
     "data": {
      "text/html": [
       "<span style=\"font-size:20px;\"> &#x22A2;&nbsp;<a class=\"ProveItLink\" href=\"../__pv_it/a06b7ed883705a47e7b691d3701ddd973e4e7abf0/expr.ipynb\"><img src=\"../__pv_it/a06b7ed883705a47e7b691d3701ddd973e4e7abf0/expr.png\" style=\"display:inline;vertical-align:middle;\" /></a></span>"
      ],
      "text/plain": [
       "|= forall_{x, y} ((y = x) = (x = y))"
      ]
     },
     "execution_count": 6,
     "metadata": {},
     "output_type": "execute_result"
    }
   ],
   "source": [
    "equalsSymmetry"
   ]
  },
  {
   "cell_type": "code",
   "execution_count": 7,
   "metadata": {
    "collapsed": false
   },
   "outputs": [
    {
     "data": {
      "text/html": [
       "<span style=\"font-size:20px;\"><a class=\"ProveItLink\" href=\"../__pv_it/0a0c3733a14282ba7131d88b1f2c47f4d6a357dd0/expr.ipynb\"><img src=\"../__pv_it/0a0c3733a14282ba7131d88b1f2c47f4d6a357dd0/expr.png\" style=\"display:inline;vertical-align:middle;\" /></a> &#x22A2;&nbsp;<a class=\"ProveItLink\" href=\"../__pv_it/35eb9ee83ff94a45a3e0679ee81fba29f47091040/expr.ipynb\"><img src=\"../__pv_it/35eb9ee83ff94a45a3e0679ee81fba29f47091040/expr.png\" style=\"display:inline;vertical-align:middle;\" /></a></span>"
      ],
      "text/plain": [
       "{x != y} |= [not](y = x)"
      ]
     },
     "execution_count": 7,
     "metadata": {},
     "output_type": "execute_result"
    }
   ],
   "source": [
    "# substitute x=y with y=x within Not(x=y)\n",
    "equalsSymmetry.specialize().subLeftSideInto(not__x_eq_y.innerExpr().operand)"
   ]
  },
  {
   "cell_type": "code",
   "execution_count": 8,
   "metadata": {
    "collapsed": false
   },
   "outputs": [
    {
     "data": {
      "text/html": [
       "<table><tr><th>&nbsp;</th><th>step type</th><th>requirements</th><th>statement</th></tr>\n",
       "<tr><td>0</td><td>generalizaton</td><td>1</td><td><span style=\"font-size:20px;\"> &#x22A2;&nbsp;<a class=\"ProveItLink\" href=\"../__pv_it/0b1a437b9f792461539a8cc416ec7b68c666b42b0/expr.ipynb\"><img src=\"../__pv_it/0b1a437b9f792461539a8cc416ec7b68c666b42b0/expr.png\" style=\"display:inline;vertical-align:middle;\" /></a></span></td></tr>\n",
       "<tr><td>1</td><td>specialization</td><td>2, 3</td><td><span style=\"font-size:20px;\"><a class=\"ProveItLink\" href=\"../__pv_it/0a0c3733a14282ba7131d88b1f2c47f4d6a357dd0/expr.ipynb\"><img src=\"../__pv_it/0a0c3733a14282ba7131d88b1f2c47f4d6a357dd0/expr.png\" style=\"display:inline;vertical-align:middle;\" /></a> &#x22A2;&nbsp;<a class=\"ProveItLink\" href=\"../__pv_it/4698e384fc479c906a8d774275149ce3a14f02f30/expr.ipynb\"><img src=\"../__pv_it/4698e384fc479c906a8d774275149ce3a14f02f30/expr.png\" style=\"display:inline;vertical-align:middle;\" /></a></span></td></tr>\n",
       "<tr><td>&nbsp;</td><td colspan=4 style=\"text-align:left\"><span style=\"font-size:20px;\"><a class=\"ProveItLink\" href=\"../__pv_it/f4011289d389f20c1c27b4a471634db06123b0e80/expr.ipynb\"><img src=\"../__pv_it/f4011289d389f20c1c27b4a471634db06123b0e80/expr.png\" style=\"display:inline;vertical-align:middle;\" /></a>, <a class=\"ProveItLink\" href=\"../__pv_it/d4c4c169c65e8478201773d5a5816817a3bdcf430/expr.ipynb\"><img src=\"../__pv_it/d4c4c169c65e8478201773d5a5816817a3bdcf430/expr.png\" style=\"display:inline;vertical-align:middle;\" /></a></span></td></tr><tr><td>2</td><td>theorem</td><td></td><td><span style=\"font-size:20px;\"> &#x22A2;&nbsp;<a class=\"ProveItLink\" href=\"../__pv_it/a7d53f946ce05c1193bee9cdef74ca79869c77560/expr.ipynb\"><img src=\"../__pv_it/a7d53f946ce05c1193bee9cdef74ca79869c77560/expr.png\" style=\"display:inline;vertical-align:middle;\" /></a></span></td></tr>\n",
       "<tr><td>&nbsp;</td><td colspan=4 style-\"text-align:left\"><a class=\"ProveItLink\" href=\"foldNotEquals.ipynb\">proveit.logic.equality.foldNotEquals</a></td></tr><tr><td>3</td><td>specialization</td><td>4, 5, 6</td><td><span style=\"font-size:20px;\"><a class=\"ProveItLink\" href=\"../__pv_it/0a0c3733a14282ba7131d88b1f2c47f4d6a357dd0/expr.ipynb\"><img src=\"../__pv_it/0a0c3733a14282ba7131d88b1f2c47f4d6a357dd0/expr.png\" style=\"display:inline;vertical-align:middle;\" /></a> &#x22A2;&nbsp;<a class=\"ProveItLink\" href=\"../__pv_it/35eb9ee83ff94a45a3e0679ee81fba29f47091040/expr.ipynb\"><img src=\"../__pv_it/35eb9ee83ff94a45a3e0679ee81fba29f47091040/expr.png\" style=\"display:inline;vertical-align:middle;\" /></a></span></td></tr>\n",
       "<tr><td>&nbsp;</td><td colspan=4 style=\"text-align:left\"><span style=\"font-size:20px;\"><a class=\"ProveItLink\" href=\"../__pv_it/58062ef15ee60ebbc4653c3247a7dc9c191dd2cf0/expr.ipynb\"><img src=\"../__pv_it/58062ef15ee60ebbc4653c3247a7dc9c191dd2cf0/expr.png\" style=\"display:inline;vertical-align:middle;\" /></a>, <a class=\"ProveItLink\" href=\"../__pv_it/f8c113ef8d47faf39098e44320786fbd630b0e1f0/expr.ipynb\"><img src=\"../__pv_it/f8c113ef8d47faf39098e44320786fbd630b0e1f0/expr.png\" style=\"display:inline;vertical-align:middle;\" /></a>, <a class=\"ProveItLink\" href=\"../__pv_it/2558e37c1f0680d1df4a0e5803d0ea7ce622d42e0/expr.ipynb\"><img src=\"../__pv_it/2558e37c1f0680d1df4a0e5803d0ea7ce622d42e0/expr.png\" style=\"display:inline;vertical-align:middle;\" /></a></span></td></tr><tr><td>4</td><td>theorem</td><td></td><td><span style=\"font-size:20px;\"> &#x22A2;&nbsp;<a class=\"ProveItLink\" href=\"../__pv_it/6425c7b64708730992bfb72314f6aeaa5dc1d76c0/expr.ipynb\"><img src=\"../__pv_it/6425c7b64708730992bfb72314f6aeaa5dc1d76c0/expr.png\" style=\"display:inline;vertical-align:middle;\" /></a></span></td></tr>\n",
       "<tr><td>&nbsp;</td><td colspan=4 style-\"text-align:left\"><a class=\"ProveItLink\" href=\"subLeftSideInto.ipynb\">proveit.logic.equality.subLeftSideInto</a></td></tr><tr><td>5</td><td>specialization</td><td>7, 8</td><td><span style=\"font-size:20px;\"><a class=\"ProveItLink\" href=\"../__pv_it/0a0c3733a14282ba7131d88b1f2c47f4d6a357dd0/expr.ipynb\"><img src=\"../__pv_it/0a0c3733a14282ba7131d88b1f2c47f4d6a357dd0/expr.png\" style=\"display:inline;vertical-align:middle;\" /></a> &#x22A2;&nbsp;<a class=\"ProveItLink\" href=\"../__pv_it/ba803e74a545c0e769490f0360bfdd9ef850012c0/expr.ipynb\"><img src=\"../__pv_it/ba803e74a545c0e769490f0360bfdd9ef850012c0/expr.png\" style=\"display:inline;vertical-align:middle;\" /></a></span></td></tr>\n",
       "<tr><td>&nbsp;</td><td colspan=4 style=\"text-align:left\"><span style=\"font-size:20px;\"><a class=\"ProveItLink\" href=\"../__pv_it/e27c209c015cc043c1b7408e3a1c61c1e6cf62cb0/expr.ipynb\"><img src=\"../__pv_it/e27c209c015cc043c1b7408e3a1c61c1e6cf62cb0/expr.png\" style=\"display:inline;vertical-align:middle;\" /></a>, <a class=\"ProveItLink\" href=\"../__pv_it/3445fe6c471b67d680f9bda79b8e38ba83ee52910/expr.ipynb\"><img src=\"../__pv_it/3445fe6c471b67d680f9bda79b8e38ba83ee52910/expr.png\" style=\"display:inline;vertical-align:middle;\" /></a></span></td></tr><tr><td>6</td><td>specialization</td><td>9</td><td><span style=\"font-size:20px;\"> &#x22A2;&nbsp;<a class=\"ProveItLink\" href=\"../__pv_it/8dee02ee4c88bea63be2bc8fde0bda0db4dec59c0/expr.ipynb\"><img src=\"../__pv_it/8dee02ee4c88bea63be2bc8fde0bda0db4dec59c0/expr.png\" style=\"display:inline;vertical-align:middle;\" /></a></span></td></tr>\n",
       "<tr><td>&nbsp;</td><td colspan=4 style=\"text-align:left\"><span style=\"font-size:20px;\"><a class=\"ProveItLink\" href=\"../__pv_it/e27c209c015cc043c1b7408e3a1c61c1e6cf62cb0/expr.ipynb\"><img src=\"../__pv_it/e27c209c015cc043c1b7408e3a1c61c1e6cf62cb0/expr.png\" style=\"display:inline;vertical-align:middle;\" /></a>, <a class=\"ProveItLink\" href=\"../__pv_it/3445fe6c471b67d680f9bda79b8e38ba83ee52910/expr.ipynb\"><img src=\"../__pv_it/3445fe6c471b67d680f9bda79b8e38ba83ee52910/expr.png\" style=\"display:inline;vertical-align:middle;\" /></a></span></td></tr><tr><td>7</td><td>theorem</td><td></td><td><span style=\"font-size:20px;\"> &#x22A2;&nbsp;<a class=\"ProveItLink\" href=\"../__pv_it/f9d207e192d579db6f280d162f39b8df3d44c2310/expr.ipynb\"><img src=\"../__pv_it/f9d207e192d579db6f280d162f39b8df3d44c2310/expr.png\" style=\"display:inline;vertical-align:middle;\" /></a></span></td></tr>\n",
       "<tr><td>&nbsp;</td><td colspan=4 style-\"text-align:left\"><a class=\"ProveItLink\" href=\"unfoldNotEquals.ipynb\">proveit.logic.equality.unfoldNotEquals</a></td></tr><tr><td>8</td><td>assumption</td><td></td><td><span style=\"font-size:20px;\"><a class=\"ProveItLink\" href=\"../__pv_it/0a0c3733a14282ba7131d88b1f2c47f4d6a357dd0/expr.ipynb\"><img src=\"../__pv_it/0a0c3733a14282ba7131d88b1f2c47f4d6a357dd0/expr.png\" style=\"display:inline;vertical-align:middle;\" /></a> &#x22A2;&nbsp;<a class=\"ProveItLink\" href=\"../__pv_it/d653f83d068ba3b3b2ff1f6849298500353558900/expr.ipynb\"><img src=\"../__pv_it/d653f83d068ba3b3b2ff1f6849298500353558900/expr.png\" style=\"display:inline;vertical-align:middle;\" /></a></span></td></tr>\n",
       "<tr><td>9</td><td>axiom</td><td></td><td><span style=\"font-size:20px;\"> &#x22A2;&nbsp;<a class=\"ProveItLink\" href=\"../__pv_it/a06b7ed883705a47e7b691d3701ddd973e4e7abf0/expr.ipynb\"><img src=\"../__pv_it/a06b7ed883705a47e7b691d3701ddd973e4e7abf0/expr.png\" style=\"display:inline;vertical-align:middle;\" /></a></span></td></tr>\n",
       "<tr><td>&nbsp;</td><td colspan=4 style-\"text-align:left\"><a class=\"ProveItLink\" href=\"../_axioms_.ipynb#equalsSymmetry\">proveit.logic.equality.equalsSymmetry</a></td></tr></table>"
      ],
      "text/plain": [
       "\tstep type\trequirements\tstatement\n",
       "0\tgeneralizaton\t1\t|= forall_{x, y | x != y} (y != x)\n",
       "1\tspecialization\t2, 3\t{x != y} |= y != x\n",
       "\tx -> y, y -> x\n",
       "2\ttheorem\t\t|= forall_{x, y | [not](x = y)} (x != y)\n",
       "\tproveit.logic.equality.foldNotEquals\n",
       "3\tspecialization\t4, 5, 6\t{x != y} |= [not](y = x)\n",
       "\tP -> [_x_ -> [not](_x_)], x -> (y = x), y -> (x = y)\n",
       "4\ttheorem\t\t|= forall_{P, x, y | P(y) , x = y} P(x)\n",
       "\tproveit.logic.equality.subLeftSideInto\n",
       "5\tspecialization\t7, 8\t{x != y} |= [not](x = y)\n",
       "\tx -> x, y -> y\n",
       "6\tspecialization\t9\t|= (y = x) = (x = y)\n",
       "\tx -> x, y -> y\n",
       "7\ttheorem\t\t|= forall_{x, y | x != y} [not](x = y)\n",
       "\tproveit.logic.equality.unfoldNotEquals\n",
       "8\tassumption\t\t{x != y} |= x != y\n",
       "9\taxiom\t\t|= forall_{x, y} ((y = x) = (x = y))\n",
       "\tproveit.logic.equality.equalsSymmetry"
      ]
     },
     "execution_count": 8,
     "metadata": {},
     "output_type": "execute_result"
    }
   ],
   "source": [
    "%qed"
   ]
  },
  {
   "cell_type": "code",
   "execution_count": 9,
   "metadata": {
    "collapsed": true
   },
   "outputs": [],
   "source": []
  }
 ],
 "metadata": {
  "kernelspec": {
   "display_name": "Python 3",
   "language": "python",
   "name": "python3"
  },
  "language_info": {
   "codemirror_mode": {
    "name": "ipython",
    "version": 3
   },
   "file_extension": ".py",
   "mimetype": "text/x-python",
   "name": "python",
   "nbconvert_exporter": "python",
   "pygments_lexer": "ipython3",
   "version": "3.7.0"
  }
 },
 "nbformat": 4,
 "nbformat_minor": 0
}
