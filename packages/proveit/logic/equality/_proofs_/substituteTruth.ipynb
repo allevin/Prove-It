{
 "cells": [
  {
   "cell_type": "markdown",
   "metadata": {
    "collapsed": true
   },
   "source": [
    "Proof of <a class=\"ProveItLink\" href=\"../../../_context_.ipynb\">proveit</a>.<a class=\"ProveItLink\" href=\"../../_context_.ipynb\">logic</a>.<a class=\"ProveItLink\" href=\"../_context_.ipynb\">equality</a>.<a href=\"../_theorems_.ipynb#substituteTruth\" class=\"ProveItLink\">substituteTruth</a> theorem\n",
    "========"
   ]
  },
  {
   "cell_type": "code",
   "execution_count": 1,
   "metadata": {
    "collapsed": true
   },
   "outputs": [],
   "source": [
    "import proveit\n",
    "from proveit import defaults\n",
    "from proveit._common_ import x, P, Px\n",
    "from proveit.logic._common_ import PofTrue\n",
    "context = proveit.Context('..') # the theorem's context is in the parent directory"
   ]
  },
  {
   "cell_type": "code",
   "execution_count": 2,
   "metadata": {},
   "outputs": [
    {
     "name": "stdout",
     "output_type": "stream",
     "text": [
      "Beginning proof of substituteTruth\n",
      "Recorded 'presuming' information\n",
      "Presuming previous theorems (applied transitively).\n"
     ]
    },
    {
     "data": {
      "text/html": [
       "<strong id=\"substituteTruth\">substituteTruth:</strong> <a class=\"ProveItLink\" href=\"../__pv_it/1e114d79aed6c8943f89c10304527d77560f33e20/expr.ipynb\"><img src=\"../__pv_it/1e114d79aed6c8943f89c10304527d77560f33e20/expr.png\" style=\"display:inline;vertical-align:middle;\" /></a><br>(see <a class=\"ProveItLink\" href=\"../__pv_it/1e114d79aed6c8943f89c10304527d77560f33e20/dependencies.ipynb\">dependencies</a>)<br>"
      ],
      "text/plain": [
       "substituteTruth: forall_{P, x | P(TRUE) , x} P(x)"
      ]
     },
     "execution_count": 2,
     "metadata": {},
     "output_type": "execute_result"
    }
   ],
   "source": [
    "%proving substituteTruth presuming []"
   ]
  },
  {
   "cell_type": "code",
   "execution_count": 3,
   "metadata": {},
   "outputs": [
    {
     "data": {
      "text/html": [
       "<strong id=\"defaults.assumptions\">defaults.assumptions:</strong> <a class=\"ProveItLink\" href=\"../__pv_it/4b671b5e93f72804d295e013ffafb62dc583410a0/expr.ipynb\"><img src=\"../__pv_it/4b671b5e93f72804d295e013ffafb62dc583410a0/expr.png\" style=\"display:inline;vertical-align:middle;\" /></a><br>"
      ],
      "text/plain": [
       "defaults.assumptions: (P(TRUE) , x)"
      ]
     },
     "execution_count": 3,
     "metadata": {},
     "output_type": "execute_result"
    }
   ],
   "source": [
    "defaults.assumptions = substituteTruth.allConditions()"
   ]
  },
  {
   "cell_type": "code",
   "execution_count": 4,
   "metadata": {},
   "outputs": [
    {
     "data": {
      "text/html": [
       "<strong id=\"x_eq_T\">x_eq_T:</strong> <span style=\"font-size:20px;\"><a class=\"ProveItLink\" href=\"../__pv_it/b2478803f52c7420584c6bce8a7109cabd894b3b0/expr.ipynb\"><img src=\"../__pv_it/b2478803f52c7420584c6bce8a7109cabd894b3b0/expr.png\" style=\"display:inline;vertical-align:middle;\" /></a> &#x22A2;&nbsp;<a class=\"ProveItLink\" href=\"../__pv_it/f2b440b43eeb1bb27b40db946f695a59a24bee350/expr.ipynb\"><img src=\"../__pv_it/f2b440b43eeb1bb27b40db946f695a59a24bee350/expr.png\" style=\"display:inline;vertical-align:middle;\" /></a></span><br>"
      ],
      "text/plain": [
       "x_eq_T: {x} |= x = TRUE"
      ]
     },
     "execution_count": 4,
     "metadata": {},
     "output_type": "execute_result"
    }
   ],
   "source": [
    "x_eq_T = x.evaluation()"
   ]
  },
  {
   "cell_type": "code",
   "execution_count": 5,
   "metadata": {},
   "outputs": [
    {
     "data": {
      "text/html": [
       "<span style=\"font-size:20px;\"><a class=\"ProveItLink\" href=\"../__pv_it/a0357c461a7e1f674f482f3399413c8d50e919380/expr.ipynb\"><img src=\"../__pv_it/a0357c461a7e1f674f482f3399413c8d50e919380/expr.png\" style=\"display:inline;vertical-align:middle;\" /></a> &#x22A2;&nbsp;<a class=\"ProveItLink\" href=\"../../../__pv_it/8c735c381b4cbf3c87e86ca2468da4e5c976f9b00/expr.ipynb\"><img src=\"../../../__pv_it/8c735c381b4cbf3c87e86ca2468da4e5c976f9b00/expr.png\" style=\"display:inline;vertical-align:middle;\" /></a></span>"
      ],
      "text/plain": [
       "{P(TRUE) , x} |= P(x)"
      ]
     },
     "execution_count": 5,
     "metadata": {},
     "output_type": "execute_result"
    }
   ],
   "source": [
    "x_eq_T.subLeftSideInto(PofTrue)"
   ]
  },
  {
   "cell_type": "code",
   "execution_count": 6,
   "metadata": {},
   "outputs": [
    {
     "data": {
      "text/html": [
       "<table><tr><th>&nbsp;</th><th>step type</th><th>requirements</th><th>statement</th></tr>\n",
       "<tr><td>0</td><td>generalizaton</td><td>1</td><td><span style=\"font-size:20px;\"> &#x22A2;&nbsp;<a class=\"ProveItLink\" href=\"../__pv_it/1e114d79aed6c8943f89c10304527d77560f33e20/expr.ipynb\"><img src=\"../__pv_it/1e114d79aed6c8943f89c10304527d77560f33e20/expr.png\" style=\"display:inline;vertical-align:middle;\" /></a></span></td></tr>\n",
       "<tr><td>1</td><td>specialization</td><td>2, 3, 4</td><td><span style=\"font-size:20px;\"><a class=\"ProveItLink\" href=\"../__pv_it/a0357c461a7e1f674f482f3399413c8d50e919380/expr.ipynb\"><img src=\"../__pv_it/a0357c461a7e1f674f482f3399413c8d50e919380/expr.png\" style=\"display:inline;vertical-align:middle;\" /></a> &#x22A2;&nbsp;<a class=\"ProveItLink\" href=\"../../../__pv_it/8c735c381b4cbf3c87e86ca2468da4e5c976f9b00/expr.ipynb\"><img src=\"../../../__pv_it/8c735c381b4cbf3c87e86ca2468da4e5c976f9b00/expr.png\" style=\"display:inline;vertical-align:middle;\" /></a></span></td></tr>\n",
       "<tr><td>&nbsp;</td><td colspan=4 style=\"text-align:left\"><span style=\"font-size:20px;\"><a class=\"ProveItLink\" href=\"../__pv_it/59054e3b170c2edab43c1eaadffb56823fb303bf0/expr.ipynb\"><img src=\"../__pv_it/59054e3b170c2edab43c1eaadffb56823fb303bf0/expr.png\" style=\"display:inline;vertical-align:middle;\" /></a> : <a class=\"ProveItLink\" href=\"../__pv_it/59054e3b170c2edab43c1eaadffb56823fb303bf0/expr.ipynb\"><img src=\"../__pv_it/59054e3b170c2edab43c1eaadffb56823fb303bf0/expr.png\" style=\"display:inline;vertical-align:middle;\" /></a>, <a class=\"ProveItLink\" href=\"../../../__pv_it/530be409e3083890784cf1d7b28c9e67e90af9360/expr.ipynb\"><img src=\"../../../__pv_it/530be409e3083890784cf1d7b28c9e67e90af9360/expr.png\" style=\"display:inline;vertical-align:middle;\" /></a> : <a class=\"ProveItLink\" href=\"../../../__pv_it/530be409e3083890784cf1d7b28c9e67e90af9360/expr.ipynb\"><img src=\"../../../__pv_it/530be409e3083890784cf1d7b28c9e67e90af9360/expr.png\" style=\"display:inline;vertical-align:middle;\" /></a>, <a class=\"ProveItLink\" href=\"../../../__pv_it/f8b9edf8e16034727f0aad55bb83e392c3db40d40/expr.ipynb\"><img src=\"../../../__pv_it/f8b9edf8e16034727f0aad55bb83e392c3db40d40/expr.png\" style=\"display:inline;vertical-align:middle;\" /></a> : <a class=\"ProveItLink\" href=\"../../boolean/__pv_it/68a87cc3370287d726c7086ace789e680e4461c30/expr.ipynb\"><img src=\"../../boolean/__pv_it/68a87cc3370287d726c7086ace789e680e4461c30/expr.png\" style=\"display:inline;vertical-align:middle;\" /></a></span></td></tr><tr><td>2</td><td>theorem</td><td></td><td><span style=\"font-size:20px;\"> &#x22A2;&nbsp;<a class=\"ProveItLink\" href=\"../__pv_it/0ff28639b67648f982114c9abc0eb1af3cbddacb0/expr.ipynb\"><img src=\"../__pv_it/0ff28639b67648f982114c9abc0eb1af3cbddacb0/expr.png\" style=\"display:inline;vertical-align:middle;\" /></a></span></td></tr>\n",
       "<tr><td>&nbsp;</td><td colspan=4 style-\"text-align:left\"><a class=\"ProveItLink\" href=\"subLeftSideInto.ipynb\">proveit.logic.equality.subLeftSideInto</a></td></tr><tr><td>3</td><td>assumption</td><td></td><td><span style=\"font-size:20px;\"><a class=\"ProveItLink\" href=\"../__pv_it/58cf87a94fdf0369fa40c430b48667627ba7b7e30/expr.ipynb\"><img src=\"../__pv_it/58cf87a94fdf0369fa40c430b48667627ba7b7e30/expr.png\" style=\"display:inline;vertical-align:middle;\" /></a> &#x22A2;&nbsp;<a class=\"ProveItLink\" href=\"../../__pv_it/e620067e5fc1a01f6e7ce2f053b97db25219d34a0/expr.ipynb\"><img src=\"../../__pv_it/e620067e5fc1a01f6e7ce2f053b97db25219d34a0/expr.png\" style=\"display:inline;vertical-align:middle;\" /></a></span></td></tr>\n",
       "<tr><td>4</td><td>specialization</td><td>5, 6</td><td><span style=\"font-size:20px;\"><a class=\"ProveItLink\" href=\"../__pv_it/b2478803f52c7420584c6bce8a7109cabd894b3b0/expr.ipynb\"><img src=\"../__pv_it/b2478803f52c7420584c6bce8a7109cabd894b3b0/expr.png\" style=\"display:inline;vertical-align:middle;\" /></a> &#x22A2;&nbsp;<a class=\"ProveItLink\" href=\"../__pv_it/f2b440b43eeb1bb27b40db946f695a59a24bee350/expr.ipynb\"><img src=\"../__pv_it/f2b440b43eeb1bb27b40db946f695a59a24bee350/expr.png\" style=\"display:inline;vertical-align:middle;\" /></a></span></td></tr>\n",
       "<tr><td>&nbsp;</td><td colspan=4 style=\"text-align:left\"><span style=\"font-size:20px;\"><a class=\"ProveItLink\" href=\"../../../__pv_it/2cbe72a7ad6f655694dd697106680215e8489b600/expr.ipynb\"><img src=\"../../../__pv_it/2cbe72a7ad6f655694dd697106680215e8489b600/expr.png\" style=\"display:inline;vertical-align:middle;\" /></a> : <a class=\"ProveItLink\" href=\"../../../__pv_it/530be409e3083890784cf1d7b28c9e67e90af9360/expr.ipynb\"><img src=\"../../../__pv_it/530be409e3083890784cf1d7b28c9e67e90af9360/expr.png\" style=\"display:inline;vertical-align:middle;\" /></a></span></td></tr><tr><td>5</td><td>axiom</td><td></td><td><span style=\"font-size:20px;\"> &#x22A2;&nbsp;<a class=\"ProveItLink\" href=\"../../boolean/__pv_it/04576f2f89fdf94b2e1520e8f4ab361286daf7f30/expr.ipynb\"><img src=\"../../boolean/__pv_it/04576f2f89fdf94b2e1520e8f4ab361286daf7f30/expr.png\" style=\"display:inline;vertical-align:middle;\" /></a></span></td></tr>\n",
       "<tr><td>&nbsp;</td><td colspan=4 style-\"text-align:left\"><a class=\"ProveItLink\" href=\"../../boolean/_axioms_.ipynb#eqTrueIntro\">proveit.logic.boolean.eqTrueIntro</a></td></tr><tr><td>6</td><td>assumption</td><td></td><td><span style=\"font-size:20px;\"><a class=\"ProveItLink\" href=\"../__pv_it/b2478803f52c7420584c6bce8a7109cabd894b3b0/expr.ipynb\"><img src=\"../__pv_it/b2478803f52c7420584c6bce8a7109cabd894b3b0/expr.png\" style=\"display:inline;vertical-align:middle;\" /></a> &#x22A2;&nbsp;<a class=\"ProveItLink\" href=\"../../../__pv_it/530be409e3083890784cf1d7b28c9e67e90af9360/expr.ipynb\"><img src=\"../../../__pv_it/530be409e3083890784cf1d7b28c9e67e90af9360/expr.png\" style=\"display:inline;vertical-align:middle;\" /></a></span></td></tr>\n",
       "</table>"
      ],
      "text/plain": [
       "\tstep type\trequirements\tstatement\n",
       "0\tgeneralizaton\t1\t|= forall_{P, x | P(TRUE) , x} P(x)\n",
       "1\tspecialization\t2, 3, 4\t{P(TRUE) , x} |= P(x)\n",
       "\tP(_x_) : P(_x_), x : x, y : TRUE\n",
       "2\ttheorem\t\t|= forall_{P, x, y | P(y) , x = y} P(x)\n",
       "\tproveit.logic.equality.subLeftSideInto\n",
       "3\tassumption\t\t{P(TRUE)} |= P(TRUE)\n",
       "4\tspecialization\t5, 6\t{x} |= x = TRUE\n",
       "\tA : x\n",
       "5\taxiom\t\t|= forall_{A | A} (A = TRUE)\n",
       "\tproveit.logic.boolean.eqTrueIntro\n",
       "6\tassumption\t\t{x} |= x"
      ]
     },
     "execution_count": 6,
     "metadata": {},
     "output_type": "execute_result"
    }
   ],
   "source": [
    "%qed"
   ]
  },
  {
   "cell_type": "code",
   "execution_count": 7,
   "metadata": {
    "collapsed": true
   },
   "outputs": [],
   "source": []
  }
 ],
 "metadata": {
  "kernelspec": {
   "display_name": "Python 3",
   "language": "python",
   "name": "python3"
  },
  "language_info": {
   "codemirror_mode": {
    "name": "ipython",
    "version": 3
   },
   "file_extension": ".py",
   "mimetype": "text/x-python",
   "name": "python",
   "nbconvert_exporter": "python",
   "pygments_lexer": "ipython3",
   "version": "3.7.3"
  }
 },
 "nbformat": 4,
 "nbformat_minor": 1
}
