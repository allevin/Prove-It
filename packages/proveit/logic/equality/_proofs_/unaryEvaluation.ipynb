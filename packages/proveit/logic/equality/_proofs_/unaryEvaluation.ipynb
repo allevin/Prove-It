{
 "cells": [
  {
   "cell_type": "markdown",
   "metadata": {
    "collapsed": true
   },
   "source": [
    "Proof of <a class=\"ProveItLink\" href=\"../../../_context_.ipynb\">proveit</a>.<a class=\"ProveItLink\" href=\"../../_context_.ipynb\">logic</a>.<a class=\"ProveItLink\" href=\"../_context_.ipynb\">equality</a>.<a class=\"ProveItLink\" href=\"../_theorems_.ipynb#unaryEvaluation\">unaryEvaluation</a> theorem\n",
    "========"
   ]
  },
  {
   "cell_type": "code",
   "execution_count": 1,
   "metadata": {},
   "outputs": [],
   "source": [
    "import proveit\n",
    "from proveit.logic import Equals\n",
    "from proveit.logic.equality._axioms_ import substitution\n",
    "from proveit._common_ import a, c, x, y, fa\n",
    "context = proveit.Context('..') # the theorem's context is in the parent directory"
   ]
  },
  {
   "cell_type": "code",
   "execution_count": 2,
   "metadata": {},
   "outputs": [
    {
     "name": "stdout",
     "output_type": "stream",
     "text": [
      "Beginning proof of unaryEvaluation\n",
      "Recorded 'presuming' information\n",
      "Presuming previous theorems (applied transitively).\n"
     ]
    },
    {
     "data": {
      "text/html": [
       "<strong id=\"unaryEvaluation\">unaryEvaluation:</strong> <a class=\"ProveItLink\" href=\"../__pv_it/b586734fb70bd6c9f4205450b0f7e1eb4ec2d1e60/expr.ipynb\"><img src=\"../__pv_it/b586734fb70bd6c9f4205450b0f7e1eb4ec2d1e60/expr.png\" style=\"display:inline;vertical-align:middle;\" /></a><br>(see <a class=\"ProveItLink\" href=\"../__pv_it/b586734fb70bd6c9f4205450b0f7e1eb4ec2d1e60/dependencies.ipynb\">dependencies</a>)<br>"
      ],
      "text/plain": [
       "unaryEvaluation: forall_{f, x, a, c} ((x = a) => ((f(a) = c) => (f(x) = c)))"
      ]
     },
     "execution_count": 2,
     "metadata": {},
     "output_type": "execute_result"
    }
   ],
   "source": [
    "%proving unaryEvaluation presuming []"
   ]
  },
  {
   "cell_type": "code",
   "execution_count": 3,
   "metadata": {},
   "outputs": [
    {
     "data": {
      "text/html": [
       "<span style=\"font-size:20px;\"> &#x22A2;&nbsp;<a class=\"ProveItLink\" href=\"../__pv_it/6ec2193ff7f2a0001aea3e112ec0ee2dddc5beb10/expr.ipynb\"><img src=\"../__pv_it/6ec2193ff7f2a0001aea3e112ec0ee2dddc5beb10/expr.png\" style=\"display:inline;vertical-align:middle;\" /></a></span>"
      ],
      "text/plain": [
       "|= forall_{f, x, y | x = y} (f(x) = f(y))"
      ]
     },
     "execution_count": 3,
     "metadata": {},
     "output_type": "execute_result"
    }
   ],
   "source": [
    "substitution"
   ]
  },
  {
   "cell_type": "code",
   "execution_count": 4,
   "metadata": {},
   "outputs": [
    {
     "data": {
      "text/html": [
       "<span style=\"font-size:20px;\"><a class=\"ProveItLink\" href=\"../__pv_it/7d09b9966f2c89b565d0f1e08c9013bb25f7b43d0/expr.ipynb\"><img src=\"../__pv_it/7d09b9966f2c89b565d0f1e08c9013bb25f7b43d0/expr.png\" style=\"display:inline;vertical-align:middle;\" /></a> &#x22A2;&nbsp;<a class=\"ProveItLink\" href=\"../__pv_it/7b93f50f57c898d436c6af7b238e2708ca5c54b20/expr.ipynb\"><img src=\"../__pv_it/7b93f50f57c898d436c6af7b238e2708ca5c54b20/expr.png\" style=\"display:inline;vertical-align:middle;\" /></a></span>"
      ],
      "text/plain": [
       "{x = a} |= f(x) = f(a)"
      ]
     },
     "execution_count": 4,
     "metadata": {},
     "output_type": "execute_result"
    }
   ],
   "source": [
    "substitution.specialize({y:a}, assumptions={Equals(x, a)})"
   ]
  },
  {
   "cell_type": "code",
   "execution_count": 5,
   "metadata": {},
   "outputs": [
    {
     "data": {
      "text/html": [
       "<table><tr><th>&nbsp;</th><th>step type</th><th>requirements</th><th>statement</th></tr>\n",
       "<tr><td>0</td><td>generalizaton</td><td>1</td><td><span style=\"font-size:20px;\"> &#x22A2;&nbsp;<a class=\"ProveItLink\" href=\"../__pv_it/b586734fb70bd6c9f4205450b0f7e1eb4ec2d1e60/expr.ipynb\"><img src=\"../__pv_it/b586734fb70bd6c9f4205450b0f7e1eb4ec2d1e60/expr.png\" style=\"display:inline;vertical-align:middle;\" /></a></span></td></tr>\n",
       "<tr><td>1</td><td>hypothetical reasoning</td><td>2</td><td><span style=\"font-size:20px;\"> &#x22A2;&nbsp;<a class=\"ProveItLink\" href=\"../__pv_it/d71c9307b1c97b416110574f6bdd8da593700a4c0/expr.ipynb\"><img src=\"../__pv_it/d71c9307b1c97b416110574f6bdd8da593700a4c0/expr.png\" style=\"display:inline;vertical-align:middle;\" /></a></span></td></tr>\n",
       "<tr><td>2</td><td>hypothetical reasoning</td><td>3</td><td><span style=\"font-size:20px;\"><a class=\"ProveItLink\" href=\"../__pv_it/7d09b9966f2c89b565d0f1e08c9013bb25f7b43d0/expr.ipynb\"><img src=\"../__pv_it/7d09b9966f2c89b565d0f1e08c9013bb25f7b43d0/expr.png\" style=\"display:inline;vertical-align:middle;\" /></a> &#x22A2;&nbsp;<a class=\"ProveItLink\" href=\"../__pv_it/33da87055b7de6c25d3c2406034421f12ab275520/expr.ipynb\"><img src=\"../__pv_it/33da87055b7de6c25d3c2406034421f12ab275520/expr.png\" style=\"display:inline;vertical-align:middle;\" /></a></span></td></tr>\n",
       "<tr><td>3</td><td>specialization</td><td>4, 5, 6</td><td><span style=\"font-size:20px;\"><a class=\"ProveItLink\" href=\"../__pv_it/d94e8218d9eca747a4f9ee6f8c72f423f5cfd3ba0/expr.ipynb\"><img src=\"../__pv_it/d94e8218d9eca747a4f9ee6f8c72f423f5cfd3ba0/expr.png\" style=\"display:inline;vertical-align:middle;\" /></a> &#x22A2;&nbsp;<a class=\"ProveItLink\" href=\"../__pv_it/0c7e6d057b81b6385070ec113dff5b1ca1704b190/expr.ipynb\"><img src=\"../__pv_it/0c7e6d057b81b6385070ec113dff5b1ca1704b190/expr.png\" style=\"display:inline;vertical-align:middle;\" /></a></span></td></tr>\n",
       "<tr><td>&nbsp;</td><td colspan=4 style=\"text-align:left\"><span style=\"font-size:20px;\"><a class=\"ProveItLink\" href=\"../../../__pv_it/530be409e3083890784cf1d7b28c9e67e90af9360/expr.ipynb\"><img src=\"../../../__pv_it/530be409e3083890784cf1d7b28c9e67e90af9360/expr.png\" style=\"display:inline;vertical-align:middle;\" /></a> : <a class=\"ProveItLink\" href=\"../../../__pv_it/182d3f256e21dc75ea1ec3168bda49a871e4700a0/expr.ipynb\"><img src=\"../../../__pv_it/182d3f256e21dc75ea1ec3168bda49a871e4700a0/expr.png\" style=\"display:inline;vertical-align:middle;\" /></a>, <a class=\"ProveItLink\" href=\"../../../__pv_it/f8b9edf8e16034727f0aad55bb83e392c3db40d40/expr.ipynb\"><img src=\"../../../__pv_it/f8b9edf8e16034727f0aad55bb83e392c3db40d40/expr.png\" style=\"display:inline;vertical-align:middle;\" /></a> : <a class=\"ProveItLink\" href=\"../../../__pv_it/b355ea011214ada747c96f8eafea017ed3008cb70/expr.ipynb\"><img src=\"../../../__pv_it/b355ea011214ada747c96f8eafea017ed3008cb70/expr.png\" style=\"display:inline;vertical-align:middle;\" /></a>, <a class=\"ProveItLink\" href=\"../../../__pv_it/251502494639118b4892de8e9d720a5fcce840e10/expr.ipynb\"><img src=\"../../../__pv_it/251502494639118b4892de8e9d720a5fcce840e10/expr.png\" style=\"display:inline;vertical-align:middle;\" /></a> : <a class=\"ProveItLink\" href=\"../../../__pv_it/cbdfda466482236edba0ce44ac7ef39cda0af7a40/expr.ipynb\"><img src=\"../../../__pv_it/cbdfda466482236edba0ce44ac7ef39cda0af7a40/expr.png\" style=\"display:inline;vertical-align:middle;\" /></a></span></td></tr><tr><td>4</td><td>axiom</td><td></td><td><span style=\"font-size:20px;\"> &#x22A2;&nbsp;<a class=\"ProveItLink\" href=\"../__pv_it/3e27e37ba4c21dbc2950467f18d0691b4108abf10/expr.ipynb\"><img src=\"../__pv_it/3e27e37ba4c21dbc2950467f18d0691b4108abf10/expr.png\" style=\"display:inline;vertical-align:middle;\" /></a></span></td></tr>\n",
       "<tr><td>&nbsp;</td><td colspan=4 style-\"text-align:left\"><a class=\"ProveItLink\" href=\"../_axioms_.ipynb#equalsTransitivity\">proveit.logic.equality.equalsTransitivity</a></td></tr><tr><td>5</td><td>specialization</td><td>7, 8</td><td><span style=\"font-size:20px;\"><a class=\"ProveItLink\" href=\"../__pv_it/7d09b9966f2c89b565d0f1e08c9013bb25f7b43d0/expr.ipynb\"><img src=\"../__pv_it/7d09b9966f2c89b565d0f1e08c9013bb25f7b43d0/expr.png\" style=\"display:inline;vertical-align:middle;\" /></a> &#x22A2;&nbsp;<a class=\"ProveItLink\" href=\"../__pv_it/7b93f50f57c898d436c6af7b238e2708ca5c54b20/expr.ipynb\"><img src=\"../__pv_it/7b93f50f57c898d436c6af7b238e2708ca5c54b20/expr.png\" style=\"display:inline;vertical-align:middle;\" /></a></span></td></tr>\n",
       "<tr><td>&nbsp;</td><td colspan=4 style=\"text-align:left\"><span style=\"font-size:20px;\"><a class=\"ProveItLink\" href=\"../../../__pv_it/4d51ee1e62d011d06d4528b97697bf3da60c9de60/expr.ipynb\"><img src=\"../../../__pv_it/4d51ee1e62d011d06d4528b97697bf3da60c9de60/expr.png\" style=\"display:inline;vertical-align:middle;\" /></a> : <a class=\"ProveItLink\" href=\"../../../__pv_it/4d51ee1e62d011d06d4528b97697bf3da60c9de60/expr.ipynb\"><img src=\"../../../__pv_it/4d51ee1e62d011d06d4528b97697bf3da60c9de60/expr.png\" style=\"display:inline;vertical-align:middle;\" /></a>, <a class=\"ProveItLink\" href=\"../../../__pv_it/530be409e3083890784cf1d7b28c9e67e90af9360/expr.ipynb\"><img src=\"../../../__pv_it/530be409e3083890784cf1d7b28c9e67e90af9360/expr.png\" style=\"display:inline;vertical-align:middle;\" /></a> : <a class=\"ProveItLink\" href=\"../../../__pv_it/530be409e3083890784cf1d7b28c9e67e90af9360/expr.ipynb\"><img src=\"../../../__pv_it/530be409e3083890784cf1d7b28c9e67e90af9360/expr.png\" style=\"display:inline;vertical-align:middle;\" /></a>, <a class=\"ProveItLink\" href=\"../../../__pv_it/f8b9edf8e16034727f0aad55bb83e392c3db40d40/expr.ipynb\"><img src=\"../../../__pv_it/f8b9edf8e16034727f0aad55bb83e392c3db40d40/expr.png\" style=\"display:inline;vertical-align:middle;\" /></a> : <a class=\"ProveItLink\" href=\"../../../__pv_it/07527342713064c87612d00d8557c53d53d5324a0/expr.ipynb\"><img src=\"../../../__pv_it/07527342713064c87612d00d8557c53d53d5324a0/expr.png\" style=\"display:inline;vertical-align:middle;\" /></a></span></td></tr><tr><td>6</td><td>assumption</td><td></td><td><span style=\"font-size:20px;\"><a class=\"ProveItLink\" href=\"../__pv_it/b37e4d48e83112d216b5576bbc532bd9f3fb57130/expr.ipynb\"><img src=\"../__pv_it/b37e4d48e83112d216b5576bbc532bd9f3fb57130/expr.png\" style=\"display:inline;vertical-align:middle;\" /></a> &#x22A2;&nbsp;<a class=\"ProveItLink\" href=\"../__pv_it/21442fac765396a5f0760ff99b2efd29b6f349f90/expr.ipynb\"><img src=\"../__pv_it/21442fac765396a5f0760ff99b2efd29b6f349f90/expr.png\" style=\"display:inline;vertical-align:middle;\" /></a></span></td></tr>\n",
       "<tr><td>7</td><td>axiom</td><td></td><td><span style=\"font-size:20px;\"> &#x22A2;&nbsp;<a class=\"ProveItLink\" href=\"../__pv_it/6ec2193ff7f2a0001aea3e112ec0ee2dddc5beb10/expr.ipynb\"><img src=\"../__pv_it/6ec2193ff7f2a0001aea3e112ec0ee2dddc5beb10/expr.png\" style=\"display:inline;vertical-align:middle;\" /></a></span></td></tr>\n",
       "<tr><td>&nbsp;</td><td colspan=4 style-\"text-align:left\"><a class=\"ProveItLink\" href=\"../_axioms_.ipynb#substitution\">proveit.logic.equality.substitution</a></td></tr><tr><td>8</td><td>assumption</td><td></td><td><span style=\"font-size:20px;\"><a class=\"ProveItLink\" href=\"../__pv_it/7d09b9966f2c89b565d0f1e08c9013bb25f7b43d0/expr.ipynb\"><img src=\"../__pv_it/7d09b9966f2c89b565d0f1e08c9013bb25f7b43d0/expr.png\" style=\"display:inline;vertical-align:middle;\" /></a> &#x22A2;&nbsp;<a class=\"ProveItLink\" href=\"../__pv_it/2b2176f809c3ea935c386de1fc43307e458cd17a0/expr.ipynb\"><img src=\"../__pv_it/2b2176f809c3ea935c386de1fc43307e458cd17a0/expr.png\" style=\"display:inline;vertical-align:middle;\" /></a></span></td></tr>\n",
       "</table>"
      ],
      "text/plain": [
       "\tstep type\trequirements\tstatement\n",
       "0\tgeneralizaton\t1\t|= forall_{f, x, a, c} ((x = a) => ((f(a) = c) => (f(x) = c)))\n",
       "1\thypothetical reasoning\t2\t|= (x = a) => ((f(a) = c) => (f(x) = c))\n",
       "2\thypothetical reasoning\t3\t{x = a} |= (f(a) = c) => (f(x) = c)\n",
       "3\tspecialization\t4, 5, 6\t{x = a , f(a) = c} |= f(x) = c\n",
       "\tx : f(x), y : f(a), z : c\n",
       "4\taxiom\t\t|= forall_{x, y, z | x = y , y = z} (x = z)\n",
       "\tproveit.logic.equality.equalsTransitivity\n",
       "5\tspecialization\t7, 8\t{x = a} |= f(x) = f(a)\n",
       "\tf : f, x : x, y : a\n",
       "6\tassumption\t\t{f(a) = c} |= f(a) = c\n",
       "7\taxiom\t\t|= forall_{f, x, y | x = y} (f(x) = f(y))\n",
       "\tproveit.logic.equality.substitution\n",
       "8\tassumption\t\t{x = a} |= x = a"
      ]
     },
     "execution_count": 5,
     "metadata": {},
     "output_type": "execute_result"
    }
   ],
   "source": [
    "%qed"
   ]
  },
  {
   "cell_type": "code",
   "execution_count": null,
   "metadata": {},
   "outputs": [],
   "source": []
  }
 ],
 "metadata": {
  "kernelspec": {
   "display_name": "Python 3",
   "language": "python",
   "name": "python3"
  },
  "language_info": {
   "codemirror_mode": {
    "name": "ipython",
    "version": 3
   },
   "file_extension": ".py",
   "mimetype": "text/x-python",
   "name": "python",
   "nbconvert_exporter": "python",
   "pygments_lexer": "ipython3",
   "version": "3.7.1"
  }
 },
 "nbformat": 4,
 "nbformat_minor": 1
}
