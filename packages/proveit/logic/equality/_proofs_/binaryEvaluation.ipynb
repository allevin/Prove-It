{
 "cells": [
  {
   "cell_type": "markdown",
   "metadata": {},
   "source": [
    "Proof of <a class=\"ProveItLink\" href=\"../../../_context_.ipynb\">proveit</a>.<a class=\"ProveItLink\" href=\"../../_context_.ipynb\">logic</a>.<a class=\"ProveItLink\" href=\"../_context_.ipynb\">equality</a>.<a class=\"ProveItLink\" href=\"../_theorems_.ipynb#binaryEvaluation\">binaryEvaluation</a> theorem\n",
    "========"
   ]
  },
  {
   "cell_type": "code",
   "execution_count": 1,
   "metadata": {},
   "outputs": [],
   "source": [
    "import proveit\n",
    "context = proveit.Context('..') # the theorem's context is in the parent directory"
   ]
  },
  {
   "cell_type": "code",
   "execution_count": 2,
   "metadata": {},
   "outputs": [
    {
     "name": "stdout",
     "output_type": "stream",
     "text": [
      "Beginning proof of binaryEvaluation\n",
      "Recorded 'presuming' information\n",
      "Presuming previous theorems (applied transitively).\n"
     ]
    },
    {
     "data": {
      "text/html": [
       "<strong id=\"binaryEvaluation\">binaryEvaluation:</strong> <a class=\"ProveItLink\" href=\"../__pv_it/df21b20251d6889011e537e2ec40e0a99f1e03f50/expr.ipynb\"><img src=\"data:image/png;base64,iVBORw0KGgoAAAANSUhEUgAAAlEAAAAXBAMAAADZzAe1AAAAMFBMVEX///8QEBC6urrMzMxUVFRm\n",
       "ZmZERETc3NwyMjKqqqp2dnaIiIiYmJgiIiLu7u4AAAAU9Wx4AAAAAXRSTlMAQObYZgAABllJREFU\n",
       "WMPtWW9oHEUUf3t7f3N3e6Ffai2VEwoKRXOCWASh0VKj5INBBWtr8UBJtY14H6oJiPYoLamiJSAB\n",
       "oR9yKEHbs2VpIkgi9SiBSopyoK0gCBupUgtyR4It0iM4M29md2d25ux9tg9+tzuTeb/5zezbmTcb\n",
       "gDt2m+b17hJzEbDN3OaCzklvuSKiS0cmDr2bvjasViPmgnEYAk1acamnmXqYwx40t0mUNE5Ru7qF\n",
       "/DzHYewInOGhCIfvGjVtLaq9Ol/Ri4kI9msFTtGKEz3N1AmOdLd4rPLreyEnjR2lPBzGjiB5qhPl\n",
       "OGpy09ei2gMzDYOYqnEYHG+TS6rcy0RlXQQsdmu1zK/HAied/UPflhpCXRD8jqD14FSUQ7hqXj8N\n",
       "Gap1Vv80iVk2DoODTnViqpeZsjwE3NOt1QqP+Tc830m3Eq1T+f0IUMLP7whmNBy+a9R0ZKg20zaK\n",
       "WTEOgyP3+fj4uz29fPdzxKrdWiVx9uPbXN9JY31smXydg9tWpSOAfRqOwDVqGjJUm2gaxSSnTLUC\n",
       "N0ZHf+lppvZwJEiMp+pDJ/cqf08Nf7qRDGSEFa7hlkEdnNkaHFaeZnp4nqwbs4AQc+DKHcHSll2i\n",
       "jOSyq2TX63NaMqoWco//NCKIfOVcFxcciszTiyVWK7ATYH9PM/UhR5oIvQ7fN+gelDjOjG0v91aS\n",
       "JMYzGHFfwovCqS/Whm/p/W7W9ihbgMqwBvAJICDxK7O/5Y4AbvllJJddw4T2BvhIS0bVAhRcQSSU\n",
       "+7qY4PA4Hiqmm6xWYCs4tI2zy5TwxI7L5Q0cFklbaqSPj5WQ6kCC7BAxXCuaMCGcHiWhP6pwz3hw\n",
       "Nxk+IIRljkgdQWpNlDm57CqtKy6MackslmQdLgniQDnXFVOWPGczJBusViAPWTrdiYURUxApEb7K\n",
       "USjSneVJtXW8DXky6TZ79DkX4iXu5FkuD47AdgOQZ74DEL5d2xDuiK/D9J6Ty65he4b9asgKxWBr\n",
       "WIWwcq7LbkfGAVgrkG3k6eKRLxpft/fNMwWwWW1dKEOrJDom1JjxrbIosNeUxpch1onOlP2BJ80U\n",
       "Lt70npPLrmG7EZkpToZqz/gjCClHXepMFcrqTDlVlrEWzGnkTbm4icOawhfDCdYESn7YJU/O48E8\n",
       "TTApnHZDllXuY22vYE6UWA+9fZzmiid1BMlBUebksmuIMIVBqyFjauFVn1go93UxwfI4AKS3D/Y/\n",
       "QV+TN+lG0De/bSc9IZUx+3hr4RXa+NY87ez3Og/7MQ7yFsPFbBvOyxPZmoKnMiXIsRV9ks8Wczgm\n",
       "hhzYGlhkT/oOEGJlGZQ7AssVZSR3ZNewkTDLacmSjSCOKCkqd8DXlVOSngJxaLBaAZhmsc3Iz8bL\n",
       "ZL4d96ZNp9D5OUWzu2wzR4icH2PtYNmiIBtnppPsTyk7QbqRudzHswSbPpy8cHoeBhrKwJ4mlZEs\n",
       "YQLkjqBVFGUkbzUl17CRdOIzLRnT46wKIq6cMaEuNUuIj0CfnCXwJ8bIi2wvTf3WzJZZW5sSJd0c\n",
       "ucQHHb5APMARa4Jz8OzpbyLp1LlHzpEx0dHFi+LsQB3+WHy5op6Qv6IdHuHgJpIW0REMeKKM5Cs3\n",
       "JVfpSFtf9LRksabI6xkRV86YUFdaXaj3LJ7HWgHIeSIiScixocRrcZctglkaulaJbswFn8iqIGDj\n",
       "f55mYuy2yJ3Egqo7fIQPICW1o6+DMtp9unOL/jTjfyKgarNVhYgznbmd00w4SyLZFmO2iha9tLzk\n",
       "D4SzAHny9FqV8PmTnUGXu81UPXJojTedTfojjRuk0upBlyA3OKYefBtqBh4l1J11l3CxCp+gSQXX\n",
       "VTcOoy791VmH1KTd/gJqqUkSRQPkBa9Y3o7HvIlKnqS85LcEZ3v46uJUI19Q8rWk9uRPTjwIw1cX\n",
       "60RTPe02wq56Qt1Xl7v+inwCIkyoy6mahiEgso5+sDvOwekFz+5AZvg1kpM0YnsvvcQuNfKbGl4Q\n",
       "E3OII9XlS15cXZEOQWbxWX3bIY6IYUe52UqozD7HSK56wogRtcsvKESMCXVFBPvDEBCRPsK2V3YL\n",
       "4zAcPLiG/BRpny4C3jHP1FxEqPHrcLaE0AzOlf0iHHo3fW1YrUbMnHEYc9Jf00uEfTveb4cD9BOF\n",
       "jdOIF7ty5z8OYnMNB9HJBQhFWPD7v7Z/ATcAORwrt3NeAAAAAElFTkSuQmCC\n",
       "\" style=\"display:inline;vertical-align:middle;\" /></a><br>(see <a class=\"ProveItLink\" href=\"../__pv_it/df21b20251d6889011e537e2ec40e0a99f1e03f50/dependencies.ipynb\">dependencies</a>)<br>"
      ],
      "text/plain": [
       "binaryEvaluation: forall_{f, x, y, a, b, c} (((x = a) and (y = b)) => ((f(a , b) = c) => (f(x , y) = c)))"
      ]
     },
     "execution_count": 2,
     "metadata": {},
     "output_type": "execute_result"
    }
   ],
   "source": [
    "%proving binaryEvaluation presuming []"
   ]
  },
  {
   "cell_type": "code",
   "execution_count": null,
   "metadata": {},
   "outputs": [],
   "source": []
  }
 ],
 "metadata": {
  "kernelspec": {
   "display_name": "Python 3",
   "language": "python",
   "name": "python3"
  }
 },
 "nbformat": 4,
 "nbformat_minor": 0
}
