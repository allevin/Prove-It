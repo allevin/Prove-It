{
 "cells": [
  {
   "cell_type": "markdown",
   "metadata": {},
   "source": [
    "Demonstrations for context <a class=\"ProveItLink\" href=\"_context_.ipynb\">proveit.logic.equality</a>\n",
    "========"
   ]
  },
  {
   "cell_type": "code",
   "execution_count": 1,
   "metadata": {
    "collapsed": true
   },
   "outputs": [],
   "source": [
    "import proveit\n",
    "%begin demonstrations"
   ]
  },
  {
   "cell_type": "markdown",
   "metadata": {},
   "source": [
    "## Substitution"
   ]
  },
  {
   "cell_type": "markdown",
   "metadata": {},
   "source": [
    "Equality is a fundamental concept of logic.  When two mathematical operations are equal, then one may be substituted for the other.  This is rule is defined by the `substitution` axiom:"
   ]
  },
  {
   "cell_type": "code",
   "execution_count": 2,
   "metadata": {},
   "outputs": [
    {
     "data": {
      "text/html": [
       "<span style=\"font-size:20px;\"> &#x22A2;&nbsp;<a class=\"ProveItLink\" href=\"__pv_it/6ec2193ff7f2a0001aea3e112ec0ee2dddc5beb10/expr.ipynb\"><img src=\"__pv_it/6ec2193ff7f2a0001aea3e112ec0ee2dddc5beb10/expr.png\" style=\"display:inline;vertical-align:middle;\" /></a></span>"
      ],
      "text/plain": [
       "|= forall_{f, x, y | x = y} (f(x) = f(y))"
      ]
     },
     "execution_count": 2,
     "metadata": {},
     "output_type": "execute_result"
    }
   ],
   "source": [
    "from proveit.logic.equality._axioms_ import substitution\n",
    "from proveit._common_ import a, b, c, d, x, y, z, fx # we'll use these later\n",
    "substitution"
   ]
  },
  {
   "cell_type": "markdown",
   "metadata": {},
   "source": [
    "The English translation of this axiom is: for any function $f$ and any $x, y$ such that $x=y$, $f(x) = f(y)$.  In other words, we may substitute $y$ for $x$ in any function whenever $x=y$.  The equality of $x$ and $y$ transfers to an equality between $f(x)$ and $f(y)$.  This is fundamental to the meaning of equality regardless of what $f$ does (as long as it can act on a single argument).  We may specialize this axiom using any operation for $f$.  For example,"
   ]
  },
  {
   "cell_type": "code",
   "execution_count": 3,
   "metadata": {},
   "outputs": [
    {
     "data": {
      "text/html": [
       "<span style=\"font-size:20px;\"><a class=\"ProveItLink\" href=\"__pv_it/9a724a840da69db769df0955d76ff3271a0c93ad0/expr.ipynb\"><img src=\"__pv_it/9a724a840da69db769df0955d76ff3271a0c93ad0/expr.png\" style=\"display:inline;vertical-align:middle;\" /></a> &#x22A2;&nbsp;<a class=\"ProveItLink\" href=\"__pv_it/48370fe4a40e069fcf91f715dff62d551abbf7680/expr.ipynb\"><img src=\"__pv_it/48370fe4a40e069fcf91f715dff62d551abbf7680/expr.png\" style=\"display:inline;vertical-align:middle;\" /></a></span>"
      ],
      "text/plain": [
       "{a = b} |= [not](a) = [not](b)"
      ]
     },
     "execution_count": 3,
     "metadata": {},
     "output_type": "execute_result"
    }
   ],
   "source": [
    "from proveit.logic import Not, Equals\n",
    "substitution.specialize({fx:Not(x), x:a, y:b}, assumptions=[Equals(a, b)])"
   ]
  },
  {
   "cell_type": "markdown",
   "metadata": {},
   "source": [
    "There are more convenient ways to apply this substitution rule than manual specialization that was demonstrated in the previous input.  The `Equals` class has the `substitution`, `subLeftSideInto` and `subRightSideInto` methods for conveniently applying substitution and its variants, as we will demonstrate below.  Each of these methods takes a `lambdaMap` argument to provide a context for the substitution -- what is being substituted and where.  A `lambdaMap` can be an actual **Lambda** expression, an **InnerExpr** object, or if it is neither of these, it can be any other **Expression** for which the default will be to performa a global replacement."
   ]
  },
  {
   "cell_type": "code",
   "execution_count": 4,
   "metadata": {},
   "outputs": [
    {
     "data": {
      "text/html": [
       "<strong id=\"expr\">expr:</strong> <a class=\"ProveItLink\" href=\"__pv_it/03da5838ad705455f9e088ca8d765ba8b7d3a73a0/expr.ipynb\"><img src=\"__pv_it/03da5838ad705455f9e088ca8d765ba8b7d3a73a0/expr.png\" style=\"display:inline;vertical-align:middle;\" /></a><br>"
      ],
      "text/plain": [
       "expr: a = (b + (c / d) + c^{d})"
      ]
     },
     "execution_count": 4,
     "metadata": {},
     "output_type": "execute_result"
    }
   ],
   "source": [
    "from proveit import Lambda\n",
    "from proveit.number import Add, Frac, Exp\n",
    "expr = Equals(a, Add(b, Frac(c, d), Exp(c, d)))          "
   ]
  },
  {
   "cell_type": "markdown",
   "metadata": {},
   "source": [
    "The `globalRepl` static method of `Lambda` is useful for creating a global replacement lambda map.  Below, we create a map for replacing every occurence of $d$ in `expr` with anything else:"
   ]
  },
  {
   "cell_type": "code",
   "execution_count": 5,
   "metadata": {},
   "outputs": [
    {
     "data": {
      "text/html": [
       "<strong id=\"gRepl\">gRepl:</strong> <a class=\"ProveItLink\" href=\"__pv_it/0a442f768d20616215c6120696ed0116ac3319a30/expr.ipynb\"><img src=\"__pv_it/0a442f768d20616215c6120696ed0116ac3319a30/expr.png\" style=\"display:inline;vertical-align:middle;\" /></a><br>"
      ],
      "text/plain": [
       "gRepl: _x_ -> (a = (b + (c / _x_) + c^{_x_}))"
      ]
     },
     "execution_count": 5,
     "metadata": {},
     "output_type": "execute_result"
    }
   ],
   "source": [
    "gRepl = Lambda.globalRepl(expr, d)"
   ]
  },
  {
   "cell_type": "markdown",
   "metadata": {},
   "source": [
    "We now use this lambda map to replace occurences of $d$ in `expr` with $y$:"
   ]
  },
  {
   "cell_type": "code",
   "execution_count": 6,
   "metadata": {},
   "outputs": [
    {
     "data": {
      "text/html": [
       "<strong id=\"d_eq_y\">d_eq_y:</strong> <a class=\"ProveItLink\" href=\"__pv_it/604c01026c709314202880e25cd5e801f9029a390/expr.ipynb\"><img src=\"__pv_it/604c01026c709314202880e25cd5e801f9029a390/expr.png\" style=\"display:inline;vertical-align:middle;\" /></a><br>"
      ],
      "text/plain": [
       "d_eq_y: d = y"
      ]
     },
     "execution_count": 6,
     "metadata": {},
     "output_type": "execute_result"
    }
   ],
   "source": [
    "d_eq_y = Equals(d, y)"
   ]
  },
  {
   "cell_type": "code",
   "execution_count": 7,
   "metadata": {},
   "outputs": [
    {
     "data": {
      "text/html": [
       "<span style=\"font-size:20px;\"><a class=\"ProveItLink\" href=\"__pv_it/e2c273d3ecd9b0b1011d02997f948d3b8bc2bc170/expr.ipynb\"><img src=\"__pv_it/e2c273d3ecd9b0b1011d02997f948d3b8bc2bc170/expr.png\" style=\"display:inline;vertical-align:middle;\" /></a> &#x22A2;&nbsp;<a class=\"ProveItLink\" href=\"__pv_it/224a5144f217e11caf23fac7434c25d9a9bad0e20/expr.ipynb\"><img src=\"__pv_it/224a5144f217e11caf23fac7434c25d9a9bad0e20/expr.png\" style=\"display:inline;vertical-align:middle;\" /></a></span>"
      ],
      "text/plain": [
       "{d = y} |= (a = (b + (c / d) + c^{d})) = (a = (b + (c / y) + c^{y}))"
      ]
     },
     "execution_count": 7,
     "metadata": {},
     "output_type": "execute_result"
    }
   ],
   "source": [
    "d_eq_y.substitution(gRepl, assumptions=[d_eq_y])"
   ]
  },
  {
   "cell_type": "markdown",
   "metadata": {},
   "source": [
    "Or we can take advantage of that a global replacement is performed by default when a non-**Lambda** expression is provided as the \"`lambdaMap`\"."
   ]
  },
  {
   "cell_type": "code",
   "execution_count": 8,
   "metadata": {},
   "outputs": [
    {
     "data": {
      "text/html": [
       "<span style=\"font-size:20px;\"><a class=\"ProveItLink\" href=\"__pv_it/e2c273d3ecd9b0b1011d02997f948d3b8bc2bc170/expr.ipynb\"><img src=\"__pv_it/e2c273d3ecd9b0b1011d02997f948d3b8bc2bc170/expr.png\" style=\"display:inline;vertical-align:middle;\" /></a> &#x22A2;&nbsp;<a class=\"ProveItLink\" href=\"__pv_it/224a5144f217e11caf23fac7434c25d9a9bad0e20/expr.ipynb\"><img src=\"__pv_it/224a5144f217e11caf23fac7434c25d9a9bad0e20/expr.png\" style=\"display:inline;vertical-align:middle;\" /></a></span>"
      ],
      "text/plain": [
       "{d = y} |= (a = (b + (c / d) + c^{d})) = (a = (b + (c / y) + c^{y}))"
      ]
     },
     "execution_count": 8,
     "metadata": {},
     "output_type": "execute_result"
    }
   ],
   "source": [
    "d_eq_y.substitution(expr, assumptions=[d_eq_y])"
   ]
  },
  {
   "cell_type": "markdown",
   "metadata": {},
   "source": [
    "Either way, the generated proof is the same:"
   ]
  },
  {
   "cell_type": "code",
   "execution_count": 9,
   "metadata": {},
   "outputs": [
    {
     "data": {
      "text/html": [
       "<table><tr><th>&nbsp;</th><th>step type</th><th>requirements</th><th>statement</th></tr>\n",
       "<tr><td>0</td><td>specialization</td><td>1, 2</td><td><span style=\"font-size:20px;\"><a class=\"ProveItLink\" href=\"__pv_it/e2c273d3ecd9b0b1011d02997f948d3b8bc2bc170/expr.ipynb\"><img src=\"__pv_it/e2c273d3ecd9b0b1011d02997f948d3b8bc2bc170/expr.png\" style=\"display:inline;vertical-align:middle;\" /></a> &#x22A2;&nbsp;<a class=\"ProveItLink\" href=\"__pv_it/224a5144f217e11caf23fac7434c25d9a9bad0e20/expr.ipynb\"><img src=\"__pv_it/224a5144f217e11caf23fac7434c25d9a9bad0e20/expr.png\" style=\"display:inline;vertical-align:middle;\" /></a></span></td></tr>\n",
       "<tr><td>&nbsp;</td><td colspan=4 style=\"text-align:left\"><span style=\"font-size:20px;\"><a class=\"ProveItLink\" href=\"__pv_it/bc97df5d11bc9ccb24649b0a71ed3c2b531aea9b0/expr.ipynb\"><img src=\"__pv_it/bc97df5d11bc9ccb24649b0a71ed3c2b531aea9b0/expr.png\" style=\"display:inline;vertical-align:middle;\" /></a> : <a class=\"ProveItLink\" href=\"__pv_it/853f6e9a690692c19a3bf5518b4bf55ca68d7dfa0/expr.ipynb\"><img src=\"__pv_it/853f6e9a690692c19a3bf5518b4bf55ca68d7dfa0/expr.png\" style=\"display:inline;vertical-align:middle;\" /></a>, <a class=\"ProveItLink\" href=\"../../__pv_it/530be409e3083890784cf1d7b28c9e67e90af9360/expr.ipynb\"><img src=\"../../__pv_it/530be409e3083890784cf1d7b28c9e67e90af9360/expr.png\" style=\"display:inline;vertical-align:middle;\" /></a> : <a class=\"ProveItLink\" href=\"../../__pv_it/3a5de44ed6135dbbdbbeec6704c741e238f127300/expr.ipynb\"><img src=\"../../__pv_it/3a5de44ed6135dbbdbbeec6704c741e238f127300/expr.png\" style=\"display:inline;vertical-align:middle;\" /></a>, <a class=\"ProveItLink\" href=\"../../__pv_it/f8b9edf8e16034727f0aad55bb83e392c3db40d40/expr.ipynb\"><img src=\"../../__pv_it/f8b9edf8e16034727f0aad55bb83e392c3db40d40/expr.png\" style=\"display:inline;vertical-align:middle;\" /></a> : <a class=\"ProveItLink\" href=\"../../__pv_it/f8b9edf8e16034727f0aad55bb83e392c3db40d40/expr.ipynb\"><img src=\"../../__pv_it/f8b9edf8e16034727f0aad55bb83e392c3db40d40/expr.png\" style=\"display:inline;vertical-align:middle;\" /></a></span></td></tr><tr><td>1</td><td>axiom</td><td></td><td><span style=\"font-size:20px;\"> &#x22A2;&nbsp;<a class=\"ProveItLink\" href=\"__pv_it/6ec2193ff7f2a0001aea3e112ec0ee2dddc5beb10/expr.ipynb\"><img src=\"__pv_it/6ec2193ff7f2a0001aea3e112ec0ee2dddc5beb10/expr.png\" style=\"display:inline;vertical-align:middle;\" /></a></span></td></tr>\n",
       "<tr><td>&nbsp;</td><td colspan=4 style-\"text-align:left\"><a class=\"ProveItLink\" href=\"_axioms_.ipynb#substitution\">proveit.logic.equality.substitution</a></td></tr><tr><td>2</td><td>assumption</td><td></td><td><span style=\"font-size:20px;\"><a class=\"ProveItLink\" href=\"__pv_it/e2c273d3ecd9b0b1011d02997f948d3b8bc2bc170/expr.ipynb\"><img src=\"__pv_it/e2c273d3ecd9b0b1011d02997f948d3b8bc2bc170/expr.png\" style=\"display:inline;vertical-align:middle;\" /></a> &#x22A2;&nbsp;<a class=\"ProveItLink\" href=\"__pv_it/604c01026c709314202880e25cd5e801f9029a390/expr.ipynb\"><img src=\"__pv_it/604c01026c709314202880e25cd5e801f9029a390/expr.png\" style=\"display:inline;vertical-align:middle;\" /></a></span></td></tr>\n",
       "</table>"
      ],
      "text/plain": [
       "\tstep type\trequirements\tstatement\n",
       "0\tspecialization\t1, 2\t{d = y} |= (a = (b + (c / d) + c^{d})) = (a = (b + (c / y) + c^{y}))\n",
       "\tf(_x_) : a = (b + (c / _x_) + c^{_x_}), x : d, y : y\n",
       "1\taxiom\t\t|= forall_{f, x, y | x = y} (f(x) = f(y))\n",
       "\tproveit.logic.equality.substitution\n",
       "2\tassumption\t\t{d = y} |= d = y"
      ]
     },
     "execution_count": 9,
     "metadata": {},
     "output_type": "execute_result"
    }
   ],
   "source": [
    "d_eq_y.substitution(expr, assumptions=[d_eq_y]).proof()"
   ]
  },
  {
   "cell_type": "markdown",
   "metadata": {},
   "source": [
    "If we want to perform substitution for a specific inner expression, and not necessarily a global replacement, the `proveit._core_.expression.InnerExpr` class (aliased as `proveit.InnerExpr`) is extremely convenient.  It uses some Python tricks via implementing the `__getitem__` and `__getattr__` methods.  First, you create the `InnerExpr` object by calling the `innerExpr()` method on the top-level expression:"
   ]
  },
  {
   "cell_type": "code",
   "execution_count": 10,
   "metadata": {},
   "outputs": [
    {
     "data": {
      "text/html": [
       "<strong id=\"innerExpr\">innerExpr:</strong> <a class=\"ProveItLink\" href=\"__pv_it/1b78c0ac1febbf2b82be963bbeceabb94530a6220/expr.ipynb\"><img src=\"__pv_it/1b78c0ac1febbf2b82be963bbeceabb94530a6220/expr.png\" style=\"display:inline;vertical-align:middle;\" /></a><br>"
      ],
      "text/plain": [
       "innerExpr: {lambda:[_x_ -> _x_], _x_:(a = (b + (c / d) + c^{d}))}"
      ]
     },
     "execution_count": 10,
     "metadata": {},
     "output_type": "execute_result"
    }
   ],
   "source": [
    "innerExpr = expr.innerExpr()"
   ]
  },
  {
   "cell_type": "markdown",
   "metadata": {},
   "source": [
    "The `InnerExpr` object displays itself with two important pieces of information: the lambda map that it represents and the inner expression of the top-level expression that would be replaced by this lambda map.  The point is that we will be able to \"dig\" in to inner expressions of the top-level expression via accessing sub-expression attributes.  For example, we next will \"dig\" into the \"right hand side\" (`rhs`) of the master expression: "
   ]
  },
  {
   "cell_type": "code",
   "execution_count": 11,
   "metadata": {},
   "outputs": [
    {
     "data": {
      "text/html": [
       "<strong id=\"innerExpr\">innerExpr:</strong> <a class=\"ProveItLink\" href=\"__pv_it/69dc91a5eeb30dea41784ec10b7dc5505c3b247a0/expr.ipynb\"><img src=\"__pv_it/69dc91a5eeb30dea41784ec10b7dc5505c3b247a0/expr.png\" style=\"display:inline;vertical-align:middle;\" /></a><br>"
      ],
      "text/plain": [
       "innerExpr: {lambda:[_x_ -> (a = _x_)], _x_:(b + (c / d) + c^{d})}"
      ]
     },
     "execution_count": 11,
     "metadata": {},
     "output_type": "execute_result"
    }
   ],
   "source": [
    "innerExpr = innerExpr.rhs"
   ]
  },
  {
   "cell_type": "markdown",
   "metadata": {},
   "source": [
    "By accessing the `rhs` attribute, we created a new `InnerExpr` object that has the same top-level expression as the original but has a new current inner expression.  Note that the `InnerExpr` class does not know anything about the `rhs` attribute itself; it is relying on the fact that the previous sub-expression has this attribute.  The `InnerExpr` class also has tricks for getting an sub-expression with an index (or key):"
   ]
  },
  {
   "cell_type": "code",
   "execution_count": 12,
   "metadata": {},
   "outputs": [
    {
     "data": {
      "text/html": [
       "<strong id=\"innerExpr\">innerExpr:</strong> <a class=\"ProveItLink\" href=\"__pv_it/121cb89e05d1df6f9da8e8a83aab7498133febab0/expr.ipynb\"><img src=\"__pv_it/121cb89e05d1df6f9da8e8a83aab7498133febab0/expr.png\" style=\"display:inline;vertical-align:middle;\" /></a><br>"
      ],
      "text/plain": [
       "innerExpr: {lambda:[_x_ -> (a = (b + _x_ + c^{d}))], _x_:(c / d)}"
      ]
     },
     "execution_count": 12,
     "metadata": {},
     "output_type": "execute_result"
    }
   ],
   "source": [
    "innerExpr = innerExpr.operands[1]"
   ]
  },
  {
   "cell_type": "markdown",
   "metadata": {},
   "source": [
    "Now will \"dig\" down to the denominator of $\\frac{c}{d}$ and show how we use the `InnerExpr` class to replace a particular occurence of $d$ rather than a global replacement:"
   ]
  },
  {
   "cell_type": "code",
   "execution_count": 13,
   "metadata": {},
   "outputs": [
    {
     "data": {
      "text/html": [
       "<strong id=\"innerExpr\">innerExpr:</strong> <a class=\"ProveItLink\" href=\"__pv_it/df808818e31d1a24bc084829c13bead6fb78f65a0/expr.ipynb\"><img src=\"__pv_it/df808818e31d1a24bc084829c13bead6fb78f65a0/expr.png\" style=\"display:inline;vertical-align:middle;\" /></a><br>"
      ],
      "text/plain": [
       "innerExpr: {lambda:[_x_ -> (a = (b + (c / _x_) + c^{d}))], _x_:d}"
      ]
     },
     "execution_count": 13,
     "metadata": {},
     "output_type": "execute_result"
    }
   ],
   "source": [
    "innerExpr = innerExpr.denominator"
   ]
  },
  {
   "cell_type": "code",
   "execution_count": 14,
   "metadata": {},
   "outputs": [
    {
     "data": {
      "text/html": [
       "<span style=\"font-size:20px;\"><a class=\"ProveItLink\" href=\"__pv_it/e2c273d3ecd9b0b1011d02997f948d3b8bc2bc170/expr.ipynb\"><img src=\"__pv_it/e2c273d3ecd9b0b1011d02997f948d3b8bc2bc170/expr.png\" style=\"display:inline;vertical-align:middle;\" /></a> &#x22A2;&nbsp;<a class=\"ProveItLink\" href=\"__pv_it/3c073b5282fd41b1a0b42557534adce234dd76540/expr.ipynb\"><img src=\"__pv_it/3c073b5282fd41b1a0b42557534adce234dd76540/expr.png\" style=\"display:inline;vertical-align:middle;\" /></a></span>"
      ],
      "text/plain": [
       "{d = y} |= (a = (b + (c / d) + c^{d})) = (a = (b + (c / y) + c^{d}))"
      ]
     },
     "execution_count": 14,
     "metadata": {},
     "output_type": "execute_result"
    }
   ],
   "source": [
    "d_eq_y.substitution(innerExpr, assumptions=[d_eq_y])"
   ]
  },
  {
   "cell_type": "markdown",
   "metadata": {},
   "source": [
    "Let us demonstrate this technique again, replacing the other occurrence of $d$.  This time we do this more succinctly, without the extra pedogogial steps:"
   ]
  },
  {
   "cell_type": "code",
   "execution_count": 15,
   "metadata": {},
   "outputs": [
    {
     "data": {
      "text/html": [
       "<span style=\"font-size:20px;\"><a class=\"ProveItLink\" href=\"__pv_it/e2c273d3ecd9b0b1011d02997f948d3b8bc2bc170/expr.ipynb\"><img src=\"__pv_it/e2c273d3ecd9b0b1011d02997f948d3b8bc2bc170/expr.png\" style=\"display:inline;vertical-align:middle;\" /></a> &#x22A2;&nbsp;<a class=\"ProveItLink\" href=\"__pv_it/e83f244a355130af6c1382b5aa68298b389f8a7f0/expr.ipynb\"><img src=\"__pv_it/e83f244a355130af6c1382b5aa68298b389f8a7f0/expr.png\" style=\"display:inline;vertical-align:middle;\" /></a></span>"
      ],
      "text/plain": [
       "{d = y} |= (a = (b + (c / d) + c^{d})) = (a = (b + (c / d) + c^{y}))"
      ]
     },
     "execution_count": 15,
     "metadata": {},
     "output_type": "execute_result"
    }
   ],
   "source": [
    "d_eq_y.substitution(expr.innerExpr().rhs.operands[2].exponent, assumptions=[d_eq_y])"
   ]
  },
  {
   "cell_type": "markdown",
   "metadata": {},
   "source": [
    "The `substition` method, that we demonstrated above, is a direct application of the `substitution` axiom.  It proves the equality between some $f(x)$ and some $f(y)$.  We often will want to take a shortcut to perform a statement substitution in which we prove some $P(y)$ is true assuming that $P(x)$ is true and $P(x) = P(y)$.  For this, we have the `subRightSideInto` and `subLeftSideInto` methods."
   ]
  },
  {
   "cell_type": "markdown",
   "metadata": {},
   "source": [
    "If the expression that we want to substitute in is on the right hand side of the `Equals` object playing the role of $x=y$, then we use `subRightSideInto`: "
   ]
  },
  {
   "cell_type": "code",
   "execution_count": 16,
   "metadata": {},
   "outputs": [
    {
     "data": {
      "text/html": [
       "<span style=\"font-size:20px;\"><a class=\"ProveItLink\" href=\"__pv_it/a92703e60ded8d77e6ea24833350a5efe36730630/expr.ipynb\"><img src=\"__pv_it/a92703e60ded8d77e6ea24833350a5efe36730630/expr.png\" style=\"display:inline;vertical-align:middle;\" /></a> &#x22A2;&nbsp;<a class=\"ProveItLink\" href=\"__pv_it/d2c9fa279d8302ec2856cb5ad784b1941524c14d0/expr.ipynb\"><img src=\"__pv_it/d2c9fa279d8302ec2856cb5ad784b1941524c14d0/expr.png\" style=\"display:inline;vertical-align:middle;\" /></a></span>"
      ],
      "text/plain": [
       "{d = y , a = (b + (c / d) + c^{d})} |= a = (b + (c / y) + c^{y})"
      ]
     },
     "execution_count": 16,
     "metadata": {},
     "output_type": "execute_result"
    }
   ],
   "source": [
    "d_eq_y.subRightSideInto(gRepl, assumptions=[d_eq_y,expr])"
   ]
  },
  {
   "cell_type": "markdown",
   "metadata": {},
   "source": [
    "We can also take advantage of the global replacement default and provide a non-**Lambda** **Expression**."
   ]
  },
  {
   "cell_type": "code",
   "execution_count": 17,
   "metadata": {},
   "outputs": [
    {
     "data": {
      "text/html": [
       "<span style=\"font-size:20px;\"><a class=\"ProveItLink\" href=\"__pv_it/a92703e60ded8d77e6ea24833350a5efe36730630/expr.ipynb\"><img src=\"__pv_it/a92703e60ded8d77e6ea24833350a5efe36730630/expr.png\" style=\"display:inline;vertical-align:middle;\" /></a> &#x22A2;&nbsp;<a class=\"ProveItLink\" href=\"__pv_it/d2c9fa279d8302ec2856cb5ad784b1941524c14d0/expr.ipynb\"><img src=\"__pv_it/d2c9fa279d8302ec2856cb5ad784b1941524c14d0/expr.png\" style=\"display:inline;vertical-align:middle;\" /></a></span>"
      ],
      "text/plain": [
       "{d = y , a = (b + (c / d) + c^{d})} |= a = (b + (c / y) + c^{y})"
      ]
     },
     "execution_count": 17,
     "metadata": {},
     "output_type": "execute_result"
    }
   ],
   "source": [
    "d_eq_y.subRightSideInto(expr, assumptions=[d_eq_y,expr])"
   ]
  },
  {
   "cell_type": "markdown",
   "metadata": {},
   "source": [
    "If the expression that we want to substitute in is on the left hand side of the `Equals` object playing the role of $x=y$, then we use `subLeftSideInto`: "
   ]
  },
  {
   "cell_type": "code",
   "execution_count": 18,
   "metadata": {},
   "outputs": [
    {
     "data": {
      "text/html": [
       "<strong id=\"y_eq_d\">y_eq_d:</strong> <a class=\"ProveItLink\" href=\"__pv_it/e486d87180e0d18169925c7ddc50400fe328044f0/expr.ipynb\"><img src=\"__pv_it/e486d87180e0d18169925c7ddc50400fe328044f0/expr.png\" style=\"display:inline;vertical-align:middle;\" /></a><br>"
      ],
      "text/plain": [
       "y_eq_d: y = d"
      ]
     },
     "execution_count": 18,
     "metadata": {},
     "output_type": "execute_result"
    }
   ],
   "source": [
    "y_eq_d = Equals(y, d)"
   ]
  },
  {
   "cell_type": "code",
   "execution_count": 19,
   "metadata": {
    "scrolled": true
   },
   "outputs": [
    {
     "data": {
      "text/html": [
       "<span style=\"font-size:20px;\"><a class=\"ProveItLink\" href=\"__pv_it/20b3ca1dd027031896f5d044a6f02c6b3aa4baf40/expr.ipynb\"><img src=\"__pv_it/20b3ca1dd027031896f5d044a6f02c6b3aa4baf40/expr.png\" style=\"display:inline;vertical-align:middle;\" /></a> &#x22A2;&nbsp;<a class=\"ProveItLink\" href=\"__pv_it/d2c9fa279d8302ec2856cb5ad784b1941524c14d0/expr.ipynb\"><img src=\"__pv_it/d2c9fa279d8302ec2856cb5ad784b1941524c14d0/expr.png\" style=\"display:inline;vertical-align:middle;\" /></a></span>"
      ],
      "text/plain": [
       "{y = d , a = (b + (c / d) + c^{d})} |= a = (b + (c / y) + c^{y})"
      ]
     },
     "execution_count": 19,
     "metadata": {},
     "output_type": "execute_result"
    }
   ],
   "source": [
    "y_eq_d.subLeftSideInto(gRepl, assumptions=[y_eq_d,expr])"
   ]
  },
  {
   "cell_type": "markdown",
   "metadata": {},
   "source": [
    "Again, we can provide a non-**Lambda** **Expression** to do a simple global replacement."
   ]
  },
  {
   "cell_type": "code",
   "execution_count": 20,
   "metadata": {},
   "outputs": [
    {
     "data": {
      "text/html": [
       "<span style=\"font-size:20px;\"><a class=\"ProveItLink\" href=\"__pv_it/20b3ca1dd027031896f5d044a6f02c6b3aa4baf40/expr.ipynb\"><img src=\"__pv_it/20b3ca1dd027031896f5d044a6f02c6b3aa4baf40/expr.png\" style=\"display:inline;vertical-align:middle;\" /></a> &#x22A2;&nbsp;<a class=\"ProveItLink\" href=\"__pv_it/d2c9fa279d8302ec2856cb5ad784b1941524c14d0/expr.ipynb\"><img src=\"__pv_it/d2c9fa279d8302ec2856cb5ad784b1941524c14d0/expr.png\" style=\"display:inline;vertical-align:middle;\" /></a></span>"
      ],
      "text/plain": [
       "{y = d , a = (b + (c / d) + c^{d})} |= a = (b + (c / y) + c^{y})"
      ]
     },
     "execution_count": 20,
     "metadata": {},
     "output_type": "execute_result"
    }
   ],
   "source": [
    "y_eq_d.subLeftSideInto(expr, assumptions=[y_eq_d,expr])"
   ]
  },
  {
   "cell_type": "markdown",
   "metadata": {},
   "source": [
    "The proof uses a theorem the relies upon the `substitution` axiom, rather than using the `substition` axiom directly:"
   ]
  },
  {
   "cell_type": "code",
   "execution_count": 21,
   "metadata": {},
   "outputs": [
    {
     "data": {
      "text/html": [
       "<table><tr><th>&nbsp;</th><th>step type</th><th>requirements</th><th>statement</th></tr>\n",
       "<tr><td>0</td><td>specialization</td><td>1, 2, 3</td><td><span style=\"font-size:20px;\"><a class=\"ProveItLink\" href=\"__pv_it/20b3ca1dd027031896f5d044a6f02c6b3aa4baf40/expr.ipynb\"><img src=\"__pv_it/20b3ca1dd027031896f5d044a6f02c6b3aa4baf40/expr.png\" style=\"display:inline;vertical-align:middle;\" /></a> &#x22A2;&nbsp;<a class=\"ProveItLink\" href=\"__pv_it/d2c9fa279d8302ec2856cb5ad784b1941524c14d0/expr.ipynb\"><img src=\"__pv_it/d2c9fa279d8302ec2856cb5ad784b1941524c14d0/expr.png\" style=\"display:inline;vertical-align:middle;\" /></a></span></td></tr>\n",
       "<tr><td>&nbsp;</td><td colspan=4 style=\"text-align:left\"><span style=\"font-size:20px;\"><a class=\"ProveItLink\" href=\"__pv_it/59054e3b170c2edab43c1eaadffb56823fb303bf0/expr.ipynb\"><img src=\"__pv_it/59054e3b170c2edab43c1eaadffb56823fb303bf0/expr.png\" style=\"display:inline;vertical-align:middle;\" /></a> : <a class=\"ProveItLink\" href=\"__pv_it/853f6e9a690692c19a3bf5518b4bf55ca68d7dfa0/expr.ipynb\"><img src=\"__pv_it/853f6e9a690692c19a3bf5518b4bf55ca68d7dfa0/expr.png\" style=\"display:inline;vertical-align:middle;\" /></a>, <a class=\"ProveItLink\" href=\"../../__pv_it/530be409e3083890784cf1d7b28c9e67e90af9360/expr.ipynb\"><img src=\"../../__pv_it/530be409e3083890784cf1d7b28c9e67e90af9360/expr.png\" style=\"display:inline;vertical-align:middle;\" /></a> : <a class=\"ProveItLink\" href=\"../../__pv_it/f8b9edf8e16034727f0aad55bb83e392c3db40d40/expr.ipynb\"><img src=\"../../__pv_it/f8b9edf8e16034727f0aad55bb83e392c3db40d40/expr.png\" style=\"display:inline;vertical-align:middle;\" /></a>, <a class=\"ProveItLink\" href=\"../../__pv_it/f8b9edf8e16034727f0aad55bb83e392c3db40d40/expr.ipynb\"><img src=\"../../__pv_it/f8b9edf8e16034727f0aad55bb83e392c3db40d40/expr.png\" style=\"display:inline;vertical-align:middle;\" /></a> : <a class=\"ProveItLink\" href=\"../../__pv_it/3a5de44ed6135dbbdbbeec6704c741e238f127300/expr.ipynb\"><img src=\"../../__pv_it/3a5de44ed6135dbbdbbeec6704c741e238f127300/expr.png\" style=\"display:inline;vertical-align:middle;\" /></a></span></td></tr><tr><td>1</td><td>theorem</td><td></td><td><span style=\"font-size:20px;\"> &#x22A2;&nbsp;<a class=\"ProveItLink\" href=\"__pv_it/0ff28639b67648f982114c9abc0eb1af3cbddacb0/expr.ipynb\"><img src=\"__pv_it/0ff28639b67648f982114c9abc0eb1af3cbddacb0/expr.png\" style=\"display:inline;vertical-align:middle;\" /></a></span></td></tr>\n",
       "<tr><td>&nbsp;</td><td colspan=4 style-\"text-align:left\"><a class=\"ProveItLink\" href=\"_proofs_/subLeftSideInto.ipynb\">proveit.logic.equality.subLeftSideInto</a></td></tr><tr><td>2</td><td>assumption</td><td></td><td><span style=\"font-size:20px;\"><a class=\"ProveItLink\" href=\"__pv_it/0cb34ed5d4300364924fe23d131cd7885bbc3d200/expr.ipynb\"><img src=\"__pv_it/0cb34ed5d4300364924fe23d131cd7885bbc3d200/expr.png\" style=\"display:inline;vertical-align:middle;\" /></a> &#x22A2;&nbsp;<a class=\"ProveItLink\" href=\"__pv_it/03da5838ad705455f9e088ca8d765ba8b7d3a73a0/expr.ipynb\"><img src=\"__pv_it/03da5838ad705455f9e088ca8d765ba8b7d3a73a0/expr.png\" style=\"display:inline;vertical-align:middle;\" /></a></span></td></tr>\n",
       "<tr><td>3</td><td>assumption</td><td></td><td><span style=\"font-size:20px;\"><a class=\"ProveItLink\" href=\"__pv_it/8d8c1286eb2878a8a7a1ada03b7a57cf0b7e65810/expr.ipynb\"><img src=\"__pv_it/8d8c1286eb2878a8a7a1ada03b7a57cf0b7e65810/expr.png\" style=\"display:inline;vertical-align:middle;\" /></a> &#x22A2;&nbsp;<a class=\"ProveItLink\" href=\"__pv_it/e486d87180e0d18169925c7ddc50400fe328044f0/expr.ipynb\"><img src=\"__pv_it/e486d87180e0d18169925c7ddc50400fe328044f0/expr.png\" style=\"display:inline;vertical-align:middle;\" /></a></span></td></tr>\n",
       "</table>"
      ],
      "text/plain": [
       "\tstep type\trequirements\tstatement\n",
       "0\tspecialization\t1, 2, 3\t{y = d , a = (b + (c / d) + c^{d})} |= a = (b + (c / y) + c^{y})\n",
       "\tP(_x_) : a = (b + (c / _x_) + c^{_x_}), x : y, y : d\n",
       "1\ttheorem\t\t|= forall_{P, x, y | P(y) , x = y} P(x)\n",
       "\tproveit.logic.equality.subLeftSideInto\n",
       "2\tassumption\t\t{a = (b + (c / d) + c^{d})} |= a = (b + (c / d) + c^{d})\n",
       "3\tassumption\t\t{y = d} |= y = d"
      ]
     },
     "execution_count": 21,
     "metadata": {},
     "output_type": "execute_result"
    }
   ],
   "source": [
    "y_eq_d.subLeftSideInto(expr, assumptions=[y_eq_d,expr]).proof()"
   ]
  },
  {
   "cell_type": "markdown",
   "metadata": {},
   "source": [
    "## Reflexivity, symmetry, and transitivity"
   ]
  },
  {
   "cell_type": "markdown",
   "metadata": {},
   "source": [
    "Reflexivity, symmetry, and transitivity are also fundamental properties of equality, in addition to the ability to perform substitution.  Reflexivity is the fact that any mathematical object is equal to itself.  Symmetry is the fact that $x = y$ and $y = x$ are equivalent (either both of these are true or both of these false).  Transitivity is the ability to derive $x=z$ from $x=y$ and $y=z$.  These are all axioms."
   ]
  },
  {
   "cell_type": "code",
   "execution_count": 22,
   "metadata": {},
   "outputs": [],
   "source": [
    "from proveit.logic.equality._axioms_ import equalsReflexivity, equalsSymmetry, equalsTransitivity"
   ]
  },
  {
   "cell_type": "code",
   "execution_count": 23,
   "metadata": {},
   "outputs": [
    {
     "data": {
      "text/html": [
       "<span style=\"font-size:20px;\"> &#x22A2;&nbsp;<a class=\"ProveItLink\" href=\"__pv_it/a17ac86529407447f5f5556b4307bccf71d2487c0/expr.ipynb\"><img src=\"__pv_it/a17ac86529407447f5f5556b4307bccf71d2487c0/expr.png\" style=\"display:inline;vertical-align:middle;\" /></a></span>"
      ],
      "text/plain": [
       "|= forall_{x} (x = x)"
      ]
     },
     "execution_count": 23,
     "metadata": {},
     "output_type": "execute_result"
    }
   ],
   "source": [
    "equalsReflexivity"
   ]
  },
  {
   "cell_type": "code",
   "execution_count": 24,
   "metadata": {},
   "outputs": [
    {
     "data": {
      "text/html": [
       "<span style=\"font-size:20px;\"> &#x22A2;&nbsp;<a class=\"ProveItLink\" href=\"__pv_it/b138389b465071a5a8b71d44d54cc0ea9eedcc4d0/expr.ipynb\"><img src=\"__pv_it/b138389b465071a5a8b71d44d54cc0ea9eedcc4d0/expr.png\" style=\"display:inline;vertical-align:middle;\" /></a></span>"
      ],
      "text/plain": [
       "|= forall_{x, y} ((y = x) = (x = y))"
      ]
     },
     "execution_count": 24,
     "metadata": {},
     "output_type": "execute_result"
    }
   ],
   "source": [
    "equalsSymmetry"
   ]
  },
  {
   "cell_type": "code",
   "execution_count": 25,
   "metadata": {},
   "outputs": [
    {
     "data": {
      "text/html": [
       "<span style=\"font-size:20px;\"> &#x22A2;&nbsp;<a class=\"ProveItLink\" href=\"__pv_it/3e27e37ba4c21dbc2950467f18d0691b4108abf10/expr.ipynb\"><img src=\"__pv_it/3e27e37ba4c21dbc2950467f18d0691b4108abf10/expr.png\" style=\"display:inline;vertical-align:middle;\" /></a></span>"
      ],
      "text/plain": [
       "|= forall_{x, y, z | x = y , y = z} (x = z)"
      ]
     },
     "execution_count": 25,
     "metadata": {},
     "output_type": "execute_result"
    }
   ],
   "source": [
    "equalsTransitivity"
   ]
  },
  {
   "cell_type": "markdown",
   "metadata": {},
   "source": [
    "`equalsReversal` is a useful theorem for applying the symmetry property of equality:"
   ]
  },
  {
   "cell_type": "code",
   "execution_count": 26,
   "metadata": {},
   "outputs": [
    {
     "data": {
      "text/html": [
       "<span style=\"font-size:20px;\"> &#x22A2;&nbsp;<a class=\"ProveItLink\" href=\"__pv_it/fd70c6305343d60fc073d5325caa2ef867e523a70/expr.ipynb\"><img src=\"__pv_it/fd70c6305343d60fc073d5325caa2ef867e523a70/expr.png\" style=\"display:inline;vertical-align:middle;\" /></a></span>"
      ],
      "text/plain": [
       "|= forall_{x, y | x = y} (y = x)"
      ]
     },
     "execution_count": 26,
     "metadata": {},
     "output_type": "execute_result"
    }
   ],
   "source": [
    "from proveit.logic.equality._theorems_ import equalsReversal\n",
    "equalsReversal # y=x derives from x=y"
   ]
  },
  {
   "cell_type": "markdown",
   "metadata": {},
   "source": [
    "These three properties are applied automatically for `Equals` objects"
   ]
  },
  {
   "cell_type": "markdown",
   "metadata": {},
   "source": [
    "Reflexivity is concluded automatically:"
   ]
  },
  {
   "cell_type": "code",
   "execution_count": 27,
   "metadata": {},
   "outputs": [
    {
     "data": {
      "text/html": [
       "<span style=\"font-size:20px;\"> &#x22A2;&nbsp;<a class=\"ProveItLink\" href=\"__pv_it/9ef9df7720c33ec2f07f7cd7f43b7921b88d3ef60/expr.ipynb\"><img src=\"__pv_it/9ef9df7720c33ec2f07f7cd7f43b7921b88d3ef60/expr.png\" style=\"display:inline;vertical-align:middle;\" /></a></span>"
      ],
      "text/plain": [
       "|= a = a"
      ]
     },
     "execution_count": 27,
     "metadata": {},
     "output_type": "execute_result"
    }
   ],
   "source": [
    "Equals(a, a).prove()"
   ]
  },
  {
   "cell_type": "code",
   "execution_count": 28,
   "metadata": {},
   "outputs": [
    {
     "data": {
      "text/html": [
       "<table><tr><th>&nbsp;</th><th>step type</th><th>requirements</th><th>statement</th></tr>\n",
       "<tr><td>0</td><td>specialization</td><td>1</td><td><span style=\"font-size:20px;\"> &#x22A2;&nbsp;<a class=\"ProveItLink\" href=\"__pv_it/9ef9df7720c33ec2f07f7cd7f43b7921b88d3ef60/expr.ipynb\"><img src=\"__pv_it/9ef9df7720c33ec2f07f7cd7f43b7921b88d3ef60/expr.png\" style=\"display:inline;vertical-align:middle;\" /></a></span></td></tr>\n",
       "<tr><td>&nbsp;</td><td colspan=4 style=\"text-align:left\"><span style=\"font-size:20px;\"><a class=\"ProveItLink\" href=\"../../__pv_it/530be409e3083890784cf1d7b28c9e67e90af9360/expr.ipynb\"><img src=\"../../__pv_it/530be409e3083890784cf1d7b28c9e67e90af9360/expr.png\" style=\"display:inline;vertical-align:middle;\" /></a> : <a class=\"ProveItLink\" href=\"../../__pv_it/07527342713064c87612d00d8557c53d53d5324a0/expr.ipynb\"><img src=\"../../__pv_it/07527342713064c87612d00d8557c53d53d5324a0/expr.png\" style=\"display:inline;vertical-align:middle;\" /></a></span></td></tr><tr><td>1</td><td>axiom</td><td></td><td><span style=\"font-size:20px;\"> &#x22A2;&nbsp;<a class=\"ProveItLink\" href=\"__pv_it/a17ac86529407447f5f5556b4307bccf71d2487c0/expr.ipynb\"><img src=\"__pv_it/a17ac86529407447f5f5556b4307bccf71d2487c0/expr.png\" style=\"display:inline;vertical-align:middle;\" /></a></span></td></tr>\n",
       "<tr><td>&nbsp;</td><td colspan=4 style-\"text-align:left\"><a class=\"ProveItLink\" href=\"_axioms_.ipynb#equalsReflexivity\">proveit.logic.equality.equalsReflexivity</a></td></tr></table>"
      ],
      "text/plain": [
       "\tstep type\trequirements\tstatement\n",
       "0\tspecialization\t1\t|= a = a\n",
       "\tx : a\n",
       "1\taxiom\t\t|= forall_{x} (x = x)\n",
       "\tproveit.logic.equality.equalsReflexivity"
      ]
     },
     "execution_count": 28,
     "metadata": {},
     "output_type": "execute_result"
    }
   ],
   "source": [
    "Equals(a, a).prove().proof()"
   ]
  },
  {
   "cell_type": "markdown",
   "metadata": {},
   "source": [
    "Symmetric statements are derived as side-effects.  Note that the `KnownTruth.deriveSideEffects` method employs a mechanism to prevent infinite recursion or this would not be possible (it would continually go back and forth, proving $y=x$ from $x=y$ then $x=y$ from $y=x$, ad infinitum)"
   ]
  },
  {
   "cell_type": "code",
   "execution_count": 29,
   "metadata": {},
   "outputs": [
    {
     "data": {
      "text/html": [
       "<strong id=\"a_eq_b\">a_eq_b:</strong> <a class=\"ProveItLink\" href=\"__pv_it/057f411279075a14717f1e7560665d5585749e520/expr.ipynb\"><img src=\"__pv_it/057f411279075a14717f1e7560665d5585749e520/expr.png\" style=\"display:inline;vertical-align:middle;\" /></a><br>"
      ],
      "text/plain": [
       "a_eq_b: a = b"
      ]
     },
     "execution_count": 29,
     "metadata": {},
     "output_type": "execute_result"
    }
   ],
   "source": [
    "a_eq_b = Equals(a, b)"
   ]
  },
  {
   "cell_type": "code",
   "execution_count": 30,
   "metadata": {},
   "outputs": [
    {
     "data": {
      "text/html": [
       "<span style=\"font-size:20px;\"><a class=\"ProveItLink\" href=\"__pv_it/9a724a840da69db769df0955d76ff3271a0c93ad0/expr.ipynb\"><img src=\"__pv_it/9a724a840da69db769df0955d76ff3271a0c93ad0/expr.png\" style=\"display:inline;vertical-align:middle;\" /></a> &#x22A2;&nbsp;<a class=\"ProveItLink\" href=\"__pv_it/6ba76f290dda2ad5038fa7f7a9eba1fa66d3f5960/expr.ipynb\"><img src=\"__pv_it/6ba76f290dda2ad5038fa7f7a9eba1fa66d3f5960/expr.png\" style=\"display:inline;vertical-align:middle;\" /></a></span>"
      ],
      "text/plain": [
       "{a = b} |= b = a"
      ]
     },
     "execution_count": 30,
     "metadata": {},
     "output_type": "execute_result"
    }
   ],
   "source": [
    "Equals(b, a).prove([a_eq_b])"
   ]
  },
  {
   "cell_type": "markdown",
   "metadata": {},
   "source": [
    "The reversed form may also be derived explicitly via `deriveReversed`.  The proof is the same."
   ]
  },
  {
   "cell_type": "code",
   "execution_count": 31,
   "metadata": {},
   "outputs": [
    {
     "data": {
      "text/html": [
       "<table><tr><th>&nbsp;</th><th>step type</th><th>requirements</th><th>statement</th></tr>\n",
       "<tr><td>0</td><td>specialization</td><td>1, 2</td><td><span style=\"font-size:20px;\"><a class=\"ProveItLink\" href=\"__pv_it/9a724a840da69db769df0955d76ff3271a0c93ad0/expr.ipynb\"><img src=\"__pv_it/9a724a840da69db769df0955d76ff3271a0c93ad0/expr.png\" style=\"display:inline;vertical-align:middle;\" /></a> &#x22A2;&nbsp;<a class=\"ProveItLink\" href=\"__pv_it/6ba76f290dda2ad5038fa7f7a9eba1fa66d3f5960/expr.ipynb\"><img src=\"__pv_it/6ba76f290dda2ad5038fa7f7a9eba1fa66d3f5960/expr.png\" style=\"display:inline;vertical-align:middle;\" /></a></span></td></tr>\n",
       "<tr><td>&nbsp;</td><td colspan=4 style=\"text-align:left\"><span style=\"font-size:20px;\"><a class=\"ProveItLink\" href=\"../../__pv_it/530be409e3083890784cf1d7b28c9e67e90af9360/expr.ipynb\"><img src=\"../../__pv_it/530be409e3083890784cf1d7b28c9e67e90af9360/expr.png\" style=\"display:inline;vertical-align:middle;\" /></a> : <a class=\"ProveItLink\" href=\"../../__pv_it/07527342713064c87612d00d8557c53d53d5324a0/expr.ipynb\"><img src=\"../../__pv_it/07527342713064c87612d00d8557c53d53d5324a0/expr.png\" style=\"display:inline;vertical-align:middle;\" /></a>, <a class=\"ProveItLink\" href=\"../../__pv_it/f8b9edf8e16034727f0aad55bb83e392c3db40d40/expr.ipynb\"><img src=\"../../__pv_it/f8b9edf8e16034727f0aad55bb83e392c3db40d40/expr.png\" style=\"display:inline;vertical-align:middle;\" /></a> : <a class=\"ProveItLink\" href=\"../../__pv_it/6840a4fa6c106149dc16a131294d0c5e44f1b0480/expr.ipynb\"><img src=\"../../__pv_it/6840a4fa6c106149dc16a131294d0c5e44f1b0480/expr.png\" style=\"display:inline;vertical-align:middle;\" /></a></span></td></tr><tr><td>1</td><td>theorem</td><td></td><td><span style=\"font-size:20px;\"> &#x22A2;&nbsp;<a class=\"ProveItLink\" href=\"__pv_it/fd70c6305343d60fc073d5325caa2ef867e523a70/expr.ipynb\"><img src=\"__pv_it/fd70c6305343d60fc073d5325caa2ef867e523a70/expr.png\" style=\"display:inline;vertical-align:middle;\" /></a></span></td></tr>\n",
       "<tr><td>&nbsp;</td><td colspan=4 style-\"text-align:left\"><a class=\"ProveItLink\" href=\"_proofs_/equalsReversal.ipynb\">proveit.logic.equality.equalsReversal</a></td></tr><tr><td>2</td><td>assumption</td><td></td><td><span style=\"font-size:20px;\"><a class=\"ProveItLink\" href=\"__pv_it/9a724a840da69db769df0955d76ff3271a0c93ad0/expr.ipynb\"><img src=\"__pv_it/9a724a840da69db769df0955d76ff3271a0c93ad0/expr.png\" style=\"display:inline;vertical-align:middle;\" /></a> &#x22A2;&nbsp;<a class=\"ProveItLink\" href=\"__pv_it/057f411279075a14717f1e7560665d5585749e520/expr.ipynb\"><img src=\"__pv_it/057f411279075a14717f1e7560665d5585749e520/expr.png\" style=\"display:inline;vertical-align:middle;\" /></a></span></td></tr>\n",
       "</table>"
      ],
      "text/plain": [
       "\tstep type\trequirements\tstatement\n",
       "0\tspecialization\t1, 2\t{a = b} |= b = a\n",
       "\tx : a, y : b\n",
       "1\ttheorem\t\t|= forall_{x, y | x = y} (y = x)\n",
       "\tproveit.logic.equality.equalsReversal\n",
       "2\tassumption\t\t{a = b} |= a = b"
      ]
     },
     "execution_count": 31,
     "metadata": {},
     "output_type": "execute_result"
    }
   ],
   "source": [
    "a_eq_b.prove([a_eq_b]).deriveReversed().proof()"
   ]
  },
  {
   "cell_type": "markdown",
   "metadata": {},
   "source": [
    "Transitivity derivations are attempted with automation via the `conclude` method using the `trensitivitySearch` function in `proveit.logic.equality.transitivity_search`.  This performs a breadth-first, bidirectional search (meeting in the middle from both ends) over the space of **KnownTruth** objects representing equality and using appropriate assumptions.  This is therefore reasonably efficient.  Efficiency should not really be an issue, anyways, as long as proofs for each theorem are relatively small.  A long proof should be broken up into several smaller proofs for lemma-like theorems.  In that case (in the setting of small proofs), the space of **KnownTruth**s will be small and this search algorithm will have ample efficiency. "
   ]
  },
  {
   "cell_type": "code",
   "execution_count": 32,
   "metadata": {},
   "outputs": [
    {
     "data": {
      "text/html": [
       "<strong id=\"c_eq_b\">c_eq_b:</strong> <a class=\"ProveItLink\" href=\"__pv_it/b47b414db2117b8c1a9064ae4d519adf3947f9270/expr.ipynb\"><img src=\"__pv_it/b47b414db2117b8c1a9064ae4d519adf3947f9270/expr.png\" style=\"display:inline;vertical-align:middle;\" /></a><br>"
      ],
      "text/plain": [
       "c_eq_b: c = b"
      ]
     },
     "execution_count": 32,
     "metadata": {},
     "output_type": "execute_result"
    }
   ],
   "source": [
    "# We'll make this interesting by reversing some of the equations in the chain.\n",
    "c_eq_b = Equals(c, b) "
   ]
  },
  {
   "cell_type": "code",
   "execution_count": 33,
   "metadata": {},
   "outputs": [
    {
     "data": {
      "text/html": [
       "<strong id=\"d_eq_c\">d_eq_c:</strong> <a class=\"ProveItLink\" href=\"__pv_it/8573d89b26dbc734032e0202e8aa83537fe3188b0/expr.ipynb\"><img src=\"__pv_it/8573d89b26dbc734032e0202e8aa83537fe3188b0/expr.png\" style=\"display:inline;vertical-align:middle;\" /></a><br>"
      ],
      "text/plain": [
       "d_eq_c: d = c"
      ]
     },
     "execution_count": 33,
     "metadata": {},
     "output_type": "execute_result"
    }
   ],
   "source": [
    "d_eq_c = Equals(d, c)"
   ]
  },
  {
   "cell_type": "code",
   "execution_count": 34,
   "metadata": {},
   "outputs": [
    {
     "data": {
      "text/html": [
       "<strong id=\"d_eq_z\">d_eq_z:</strong> <a class=\"ProveItLink\" href=\"__pv_it/f4f5478896f3fe2e46f0760d625f6cde2327ec9a0/expr.ipynb\"><img src=\"__pv_it/f4f5478896f3fe2e46f0760d625f6cde2327ec9a0/expr.png\" style=\"display:inline;vertical-align:middle;\" /></a><br>"
      ],
      "text/plain": [
       "d_eq_z: d = z"
      ]
     },
     "execution_count": 34,
     "metadata": {},
     "output_type": "execute_result"
    }
   ],
   "source": [
    "d_eq_z = Equals(d, z)"
   ]
  },
  {
   "cell_type": "code",
   "execution_count": 35,
   "metadata": {},
   "outputs": [
    {
     "data": {
      "text/html": [
       "<strong id=\"a_eq_z\">a_eq_z:</strong> <span style=\"font-size:20px;\"><a class=\"ProveItLink\" href=\"__pv_it/9a24806360752e515c9d96cee10f1fab756969920/expr.ipynb\"><img src=\"__pv_it/9a24806360752e515c9d96cee10f1fab756969920/expr.png\" style=\"display:inline;vertical-align:middle;\" /></a> &#x22A2;&nbsp;<a class=\"ProveItLink\" href=\"__pv_it/8cd49d3e4f7ccf88ab1a6ac4aadf4b4b5c59aeff0/expr.ipynb\"><img src=\"__pv_it/8cd49d3e4f7ccf88ab1a6ac4aadf4b4b5c59aeff0/expr.png\" style=\"display:inline;vertical-align:middle;\" /></a></span><br>"
      ],
      "text/plain": [
       "a_eq_z: {a = b , c = b , d = c , d = z} |= a = z"
      ]
     },
     "execution_count": 35,
     "metadata": {},
     "output_type": "execute_result"
    }
   ],
   "source": [
    "a_eq_z = Equals(a, z).prove(assumptions=[a_eq_b, c_eq_b, d_eq_c, d_eq_z])"
   ]
  },
  {
   "cell_type": "code",
   "execution_count": 36,
   "metadata": {},
   "outputs": [
    {
     "data": {
      "text/html": [
       "<table><tr><th>&nbsp;</th><th>step type</th><th>requirements</th><th>statement</th></tr>\n",
       "<tr><td>0</td><td>specialization</td><td>5, 1, 2</td><td><span style=\"font-size:20px;\"><a class=\"ProveItLink\" href=\"__pv_it/9a24806360752e515c9d96cee10f1fab756969920/expr.ipynb\"><img src=\"__pv_it/9a24806360752e515c9d96cee10f1fab756969920/expr.png\" style=\"display:inline;vertical-align:middle;\" /></a> &#x22A2;&nbsp;<a class=\"ProveItLink\" href=\"__pv_it/8cd49d3e4f7ccf88ab1a6ac4aadf4b4b5c59aeff0/expr.ipynb\"><img src=\"__pv_it/8cd49d3e4f7ccf88ab1a6ac4aadf4b4b5c59aeff0/expr.png\" style=\"display:inline;vertical-align:middle;\" /></a></span></td></tr>\n",
       "<tr><td>&nbsp;</td><td colspan=4 style=\"text-align:left\"><span style=\"font-size:20px;\"><a class=\"ProveItLink\" href=\"../../__pv_it/530be409e3083890784cf1d7b28c9e67e90af9360/expr.ipynb\"><img src=\"../../__pv_it/530be409e3083890784cf1d7b28c9e67e90af9360/expr.png\" style=\"display:inline;vertical-align:middle;\" /></a> : <a class=\"ProveItLink\" href=\"../../__pv_it/07527342713064c87612d00d8557c53d53d5324a0/expr.ipynb\"><img src=\"../../__pv_it/07527342713064c87612d00d8557c53d53d5324a0/expr.png\" style=\"display:inline;vertical-align:middle;\" /></a>, <a class=\"ProveItLink\" href=\"../../__pv_it/f8b9edf8e16034727f0aad55bb83e392c3db40d40/expr.ipynb\"><img src=\"../../__pv_it/f8b9edf8e16034727f0aad55bb83e392c3db40d40/expr.png\" style=\"display:inline;vertical-align:middle;\" /></a> : <a class=\"ProveItLink\" href=\"../../__pv_it/3a5de44ed6135dbbdbbeec6704c741e238f127300/expr.ipynb\"><img src=\"../../__pv_it/3a5de44ed6135dbbdbbeec6704c741e238f127300/expr.png\" style=\"display:inline;vertical-align:middle;\" /></a>, <a class=\"ProveItLink\" href=\"../../__pv_it/251502494639118b4892de8e9d720a5fcce840e10/expr.ipynb\"><img src=\"../../__pv_it/251502494639118b4892de8e9d720a5fcce840e10/expr.png\" style=\"display:inline;vertical-align:middle;\" /></a> : <a class=\"ProveItLink\" href=\"../../__pv_it/251502494639118b4892de8e9d720a5fcce840e10/expr.ipynb\"><img src=\"../../__pv_it/251502494639118b4892de8e9d720a5fcce840e10/expr.png\" style=\"display:inline;vertical-align:middle;\" /></a></span></td></tr><tr><td>1</td><td>specialization</td><td>5, 3, 4</td><td><span style=\"font-size:20px;\"><a class=\"ProveItLink\" href=\"__pv_it/c9e1123090097e5fda6b6d0689826bc9b6aa1b5b0/expr.ipynb\"><img src=\"__pv_it/c9e1123090097e5fda6b6d0689826bc9b6aa1b5b0/expr.png\" style=\"display:inline;vertical-align:middle;\" /></a> &#x22A2;&nbsp;<a class=\"ProveItLink\" href=\"__pv_it/02d5aa0a6c82cd3d9e10bd99e7af1be763f4e7f70/expr.ipynb\"><img src=\"__pv_it/02d5aa0a6c82cd3d9e10bd99e7af1be763f4e7f70/expr.png\" style=\"display:inline;vertical-align:middle;\" /></a></span></td></tr>\n",
       "<tr><td>&nbsp;</td><td colspan=4 style=\"text-align:left\"><span style=\"font-size:20px;\"><a class=\"ProveItLink\" href=\"../../__pv_it/530be409e3083890784cf1d7b28c9e67e90af9360/expr.ipynb\"><img src=\"../../__pv_it/530be409e3083890784cf1d7b28c9e67e90af9360/expr.png\" style=\"display:inline;vertical-align:middle;\" /></a> : <a class=\"ProveItLink\" href=\"../../__pv_it/07527342713064c87612d00d8557c53d53d5324a0/expr.ipynb\"><img src=\"../../__pv_it/07527342713064c87612d00d8557c53d53d5324a0/expr.png\" style=\"display:inline;vertical-align:middle;\" /></a>, <a class=\"ProveItLink\" href=\"../../__pv_it/f8b9edf8e16034727f0aad55bb83e392c3db40d40/expr.ipynb\"><img src=\"../../__pv_it/f8b9edf8e16034727f0aad55bb83e392c3db40d40/expr.png\" style=\"display:inline;vertical-align:middle;\" /></a> : <a class=\"ProveItLink\" href=\"../../__pv_it/cbdfda466482236edba0ce44ac7ef39cda0af7a40/expr.ipynb\"><img src=\"../../__pv_it/cbdfda466482236edba0ce44ac7ef39cda0af7a40/expr.png\" style=\"display:inline;vertical-align:middle;\" /></a>, <a class=\"ProveItLink\" href=\"../../__pv_it/251502494639118b4892de8e9d720a5fcce840e10/expr.ipynb\"><img src=\"../../__pv_it/251502494639118b4892de8e9d720a5fcce840e10/expr.png\" style=\"display:inline;vertical-align:middle;\" /></a> : <a class=\"ProveItLink\" href=\"../../__pv_it/3a5de44ed6135dbbdbbeec6704c741e238f127300/expr.ipynb\"><img src=\"../../__pv_it/3a5de44ed6135dbbdbbeec6704c741e238f127300/expr.png\" style=\"display:inline;vertical-align:middle;\" /></a></span></td></tr><tr><td>2</td><td>assumption</td><td></td><td><span style=\"font-size:20px;\"><a class=\"ProveItLink\" href=\"__pv_it/494aedd3ea11a3d528a4244710323da6b9e616160/expr.ipynb\"><img src=\"__pv_it/494aedd3ea11a3d528a4244710323da6b9e616160/expr.png\" style=\"display:inline;vertical-align:middle;\" /></a> &#x22A2;&nbsp;<a class=\"ProveItLink\" href=\"__pv_it/f4f5478896f3fe2e46f0760d625f6cde2327ec9a0/expr.ipynb\"><img src=\"__pv_it/f4f5478896f3fe2e46f0760d625f6cde2327ec9a0/expr.png\" style=\"display:inline;vertical-align:middle;\" /></a></span></td></tr>\n",
       "<tr><td>3</td><td>specialization</td><td>5, 6, 7</td><td><span style=\"font-size:20px;\"><a class=\"ProveItLink\" href=\"__pv_it/7d33d3896312b1b43c0e5516a5d2909619bde2440/expr.ipynb\"><img src=\"__pv_it/7d33d3896312b1b43c0e5516a5d2909619bde2440/expr.png\" style=\"display:inline;vertical-align:middle;\" /></a> &#x22A2;&nbsp;<a class=\"ProveItLink\" href=\"__pv_it/13d653fd4035138a50390d4e49fae0b2cd008b3a0/expr.ipynb\"><img src=\"__pv_it/13d653fd4035138a50390d4e49fae0b2cd008b3a0/expr.png\" style=\"display:inline;vertical-align:middle;\" /></a></span></td></tr>\n",
       "<tr><td>&nbsp;</td><td colspan=4 style=\"text-align:left\"><span style=\"font-size:20px;\"><a class=\"ProveItLink\" href=\"../../__pv_it/530be409e3083890784cf1d7b28c9e67e90af9360/expr.ipynb\"><img src=\"../../__pv_it/530be409e3083890784cf1d7b28c9e67e90af9360/expr.png\" style=\"display:inline;vertical-align:middle;\" /></a> : <a class=\"ProveItLink\" href=\"../../__pv_it/07527342713064c87612d00d8557c53d53d5324a0/expr.ipynb\"><img src=\"../../__pv_it/07527342713064c87612d00d8557c53d53d5324a0/expr.png\" style=\"display:inline;vertical-align:middle;\" /></a>, <a class=\"ProveItLink\" href=\"../../__pv_it/f8b9edf8e16034727f0aad55bb83e392c3db40d40/expr.ipynb\"><img src=\"../../__pv_it/f8b9edf8e16034727f0aad55bb83e392c3db40d40/expr.png\" style=\"display:inline;vertical-align:middle;\" /></a> : <a class=\"ProveItLink\" href=\"../../__pv_it/6840a4fa6c106149dc16a131294d0c5e44f1b0480/expr.ipynb\"><img src=\"../../__pv_it/6840a4fa6c106149dc16a131294d0c5e44f1b0480/expr.png\" style=\"display:inline;vertical-align:middle;\" /></a>, <a class=\"ProveItLink\" href=\"../../__pv_it/251502494639118b4892de8e9d720a5fcce840e10/expr.ipynb\"><img src=\"../../__pv_it/251502494639118b4892de8e9d720a5fcce840e10/expr.png\" style=\"display:inline;vertical-align:middle;\" /></a> : <a class=\"ProveItLink\" href=\"../../__pv_it/cbdfda466482236edba0ce44ac7ef39cda0af7a40/expr.ipynb\"><img src=\"../../__pv_it/cbdfda466482236edba0ce44ac7ef39cda0af7a40/expr.png\" style=\"display:inline;vertical-align:middle;\" /></a></span></td></tr><tr><td>4</td><td>specialization</td><td>9, 8</td><td><span style=\"font-size:20px;\"><a class=\"ProveItLink\" href=\"__pv_it/f632775666d7962dc2236f4cb4c6b68334e5de890/expr.ipynb\"><img src=\"__pv_it/f632775666d7962dc2236f4cb4c6b68334e5de890/expr.png\" style=\"display:inline;vertical-align:middle;\" /></a> &#x22A2;&nbsp;<a class=\"ProveItLink\" href=\"__pv_it/a981f000ee0a9709adad01e9b5b3913642b3c3d80/expr.ipynb\"><img src=\"__pv_it/a981f000ee0a9709adad01e9b5b3913642b3c3d80/expr.png\" style=\"display:inline;vertical-align:middle;\" /></a></span></td></tr>\n",
       "<tr><td>&nbsp;</td><td colspan=4 style=\"text-align:left\"><span style=\"font-size:20px;\"><a class=\"ProveItLink\" href=\"../../__pv_it/530be409e3083890784cf1d7b28c9e67e90af9360/expr.ipynb\"><img src=\"../../__pv_it/530be409e3083890784cf1d7b28c9e67e90af9360/expr.png\" style=\"display:inline;vertical-align:middle;\" /></a> : <a class=\"ProveItLink\" href=\"../../__pv_it/3a5de44ed6135dbbdbbeec6704c741e238f127300/expr.ipynb\"><img src=\"../../__pv_it/3a5de44ed6135dbbdbbeec6704c741e238f127300/expr.png\" style=\"display:inline;vertical-align:middle;\" /></a>, <a class=\"ProveItLink\" href=\"../../__pv_it/f8b9edf8e16034727f0aad55bb83e392c3db40d40/expr.ipynb\"><img src=\"../../__pv_it/f8b9edf8e16034727f0aad55bb83e392c3db40d40/expr.png\" style=\"display:inline;vertical-align:middle;\" /></a> : <a class=\"ProveItLink\" href=\"../../__pv_it/cbdfda466482236edba0ce44ac7ef39cda0af7a40/expr.ipynb\"><img src=\"../../__pv_it/cbdfda466482236edba0ce44ac7ef39cda0af7a40/expr.png\" style=\"display:inline;vertical-align:middle;\" /></a></span></td></tr><tr><td>5</td><td>axiom</td><td></td><td><span style=\"font-size:20px;\"> &#x22A2;&nbsp;<a class=\"ProveItLink\" href=\"__pv_it/3e27e37ba4c21dbc2950467f18d0691b4108abf10/expr.ipynb\"><img src=\"__pv_it/3e27e37ba4c21dbc2950467f18d0691b4108abf10/expr.png\" style=\"display:inline;vertical-align:middle;\" /></a></span></td></tr>\n",
       "<tr><td>&nbsp;</td><td colspan=4 style-\"text-align:left\"><a class=\"ProveItLink\" href=\"_axioms_.ipynb#equalsTransitivity\">proveit.logic.equality.equalsTransitivity</a></td></tr><tr><td>6</td><td>assumption</td><td></td><td><span style=\"font-size:20px;\"><a class=\"ProveItLink\" href=\"__pv_it/9a724a840da69db769df0955d76ff3271a0c93ad0/expr.ipynb\"><img src=\"__pv_it/9a724a840da69db769df0955d76ff3271a0c93ad0/expr.png\" style=\"display:inline;vertical-align:middle;\" /></a> &#x22A2;&nbsp;<a class=\"ProveItLink\" href=\"__pv_it/057f411279075a14717f1e7560665d5585749e520/expr.ipynb\"><img src=\"__pv_it/057f411279075a14717f1e7560665d5585749e520/expr.png\" style=\"display:inline;vertical-align:middle;\" /></a></span></td></tr>\n",
       "<tr><td>7</td><td>specialization</td><td>9, 10</td><td><span style=\"font-size:20px;\"><a class=\"ProveItLink\" href=\"__pv_it/f1426b7a2ac70c56b4decaf50a93546bb930e31b0/expr.ipynb\"><img src=\"__pv_it/f1426b7a2ac70c56b4decaf50a93546bb930e31b0/expr.png\" style=\"display:inline;vertical-align:middle;\" /></a> &#x22A2;&nbsp;<a class=\"ProveItLink\" href=\"__pv_it/5d54c9aede29dbbb1f689cfc2b9c04506a289a540/expr.ipynb\"><img src=\"__pv_it/5d54c9aede29dbbb1f689cfc2b9c04506a289a540/expr.png\" style=\"display:inline;vertical-align:middle;\" /></a></span></td></tr>\n",
       "<tr><td>&nbsp;</td><td colspan=4 style=\"text-align:left\"><span style=\"font-size:20px;\"><a class=\"ProveItLink\" href=\"../../__pv_it/530be409e3083890784cf1d7b28c9e67e90af9360/expr.ipynb\"><img src=\"../../__pv_it/530be409e3083890784cf1d7b28c9e67e90af9360/expr.png\" style=\"display:inline;vertical-align:middle;\" /></a> : <a class=\"ProveItLink\" href=\"../../__pv_it/cbdfda466482236edba0ce44ac7ef39cda0af7a40/expr.ipynb\"><img src=\"../../__pv_it/cbdfda466482236edba0ce44ac7ef39cda0af7a40/expr.png\" style=\"display:inline;vertical-align:middle;\" /></a>, <a class=\"ProveItLink\" href=\"../../__pv_it/f8b9edf8e16034727f0aad55bb83e392c3db40d40/expr.ipynb\"><img src=\"../../__pv_it/f8b9edf8e16034727f0aad55bb83e392c3db40d40/expr.png\" style=\"display:inline;vertical-align:middle;\" /></a> : <a class=\"ProveItLink\" href=\"../../__pv_it/6840a4fa6c106149dc16a131294d0c5e44f1b0480/expr.ipynb\"><img src=\"../../__pv_it/6840a4fa6c106149dc16a131294d0c5e44f1b0480/expr.png\" style=\"display:inline;vertical-align:middle;\" /></a></span></td></tr><tr><td>8</td><td>assumption</td><td></td><td><span style=\"font-size:20px;\"><a class=\"ProveItLink\" href=\"__pv_it/f632775666d7962dc2236f4cb4c6b68334e5de890/expr.ipynb\"><img src=\"__pv_it/f632775666d7962dc2236f4cb4c6b68334e5de890/expr.png\" style=\"display:inline;vertical-align:middle;\" /></a> &#x22A2;&nbsp;<a class=\"ProveItLink\" href=\"__pv_it/8573d89b26dbc734032e0202e8aa83537fe3188b0/expr.ipynb\"><img src=\"__pv_it/8573d89b26dbc734032e0202e8aa83537fe3188b0/expr.png\" style=\"display:inline;vertical-align:middle;\" /></a></span></td></tr>\n",
       "<tr><td>9</td><td>theorem</td><td></td><td><span style=\"font-size:20px;\"> &#x22A2;&nbsp;<a class=\"ProveItLink\" href=\"__pv_it/fd70c6305343d60fc073d5325caa2ef867e523a70/expr.ipynb\"><img src=\"__pv_it/fd70c6305343d60fc073d5325caa2ef867e523a70/expr.png\" style=\"display:inline;vertical-align:middle;\" /></a></span></td></tr>\n",
       "<tr><td>&nbsp;</td><td colspan=4 style-\"text-align:left\"><a class=\"ProveItLink\" href=\"_proofs_/equalsReversal.ipynb\">proveit.logic.equality.equalsReversal</a></td></tr><tr><td>10</td><td>assumption</td><td></td><td><span style=\"font-size:20px;\"><a class=\"ProveItLink\" href=\"__pv_it/f1426b7a2ac70c56b4decaf50a93546bb930e31b0/expr.ipynb\"><img src=\"__pv_it/f1426b7a2ac70c56b4decaf50a93546bb930e31b0/expr.png\" style=\"display:inline;vertical-align:middle;\" /></a> &#x22A2;&nbsp;<a class=\"ProveItLink\" href=\"__pv_it/b47b414db2117b8c1a9064ae4d519adf3947f9270/expr.ipynb\"><img src=\"__pv_it/b47b414db2117b8c1a9064ae4d519adf3947f9270/expr.png\" style=\"display:inline;vertical-align:middle;\" /></a></span></td></tr>\n",
       "</table>"
      ],
      "text/plain": [
       "\tstep type\trequirements\tstatement\n",
       "0\tspecialization\t5, 1, 2\t{a = b , c = b , d = c , d = z} |= a = z\n",
       "\tx : a, y : d, z : z\n",
       "1\tspecialization\t5, 3, 4\t{a = b , c = b , d = c} |= a = d\n",
       "\tx : a, y : c, z : d\n",
       "2\tassumption\t\t{d = z} |= d = z\n",
       "3\tspecialization\t5, 6, 7\t{a = b , c = b} |= a = c\n",
       "\tx : a, y : b, z : c\n",
       "4\tspecialization\t9, 8\t{d = c} |= c = d\n",
       "\tx : d, y : c\n",
       "5\taxiom\t\t|= forall_{x, y, z | x = y , y = z} (x = z)\n",
       "\tproveit.logic.equality.equalsTransitivity\n",
       "6\tassumption\t\t{a = b} |= a = b\n",
       "7\tspecialization\t9, 10\t{c = b} |= b = c\n",
       "\tx : c, y : b\n",
       "8\tassumption\t\t{d = c} |= d = c\n",
       "9\ttheorem\t\t|= forall_{x, y | x = y} (y = x)\n",
       "\tproveit.logic.equality.equalsReversal\n",
       "10\tassumption\t\t{c = b} |= c = b"
      ]
     },
     "execution_count": 36,
     "metadata": {},
     "output_type": "execute_result"
    }
   ],
   "source": [
    "a_eq_z.proof()"
   ]
  },
  {
   "cell_type": "markdown",
   "metadata": {},
   "source": [
    "The `applyTransivity` method applies the transitivity relation explicity. "
   ]
  },
  {
   "cell_type": "code",
   "execution_count": 37,
   "metadata": {},
   "outputs": [
    {
     "data": {
      "text/html": [
       "<span style=\"font-size:20px;\"><a class=\"ProveItLink\" href=\"__pv_it/77eb5f614a4dd0631da495529d116546f1bcd6d80/expr.ipynb\"><img src=\"__pv_it/77eb5f614a4dd0631da495529d116546f1bcd6d80/expr.png\" style=\"display:inline;vertical-align:middle;\" /></a> &#x22A2;&nbsp;<a class=\"ProveItLink\" href=\"__pv_it/13d653fd4035138a50390d4e49fae0b2cd008b3a0/expr.ipynb\"><img src=\"__pv_it/13d653fd4035138a50390d4e49fae0b2cd008b3a0/expr.png\" style=\"display:inline;vertical-align:middle;\" /></a></span>"
      ],
      "text/plain": [
       "{c = b , a = b} |= a = c"
      ]
     },
     "execution_count": 37,
     "metadata": {},
     "output_type": "execute_result"
    }
   ],
   "source": [
    "a_eq_b.prove([a_eq_b]).applyTransitivity(c_eq_b, assumptions=[c_eq_b])"
   ]
  },
  {
   "cell_type": "markdown",
   "metadata": {},
   "source": [
    "## Evaluation\n",
    "\n",
    "An evaluation is an equality in which the right hand side is an irreducible value (specifically, an instance of `proveit.logic.irreducible_value.IrreducibleValue`, aliased as `proveit.logic.IrreducibleValue`).  An irreducible value represents a mathematical object in its simplest form.  It cannot be reduced.  The evaluation of an `IrreducibleValue` is itself.  When an evaluation is proven, the associated **KnownTruth** is stored for future reference in `Equals.evaluations` for making other evaluations."
   ]
  },
  {
   "cell_type": "markdown",
   "metadata": {},
   "source": [
    "`TRUE` ($\\top$) and `FALSE` ($\\bot$) are both `IrreducibleValue`s:"
   ]
  },
  {
   "cell_type": "code",
   "execution_count": 38,
   "metadata": {},
   "outputs": [],
   "source": [
    "from proveit.logic import TRUE, FALSE, IrreducibleValue"
   ]
  },
  {
   "cell_type": "code",
   "execution_count": 39,
   "metadata": {},
   "outputs": [
    {
     "data": {
      "text/plain": [
       "True"
      ]
     },
     "execution_count": 39,
     "metadata": {},
     "output_type": "execute_result"
    }
   ],
   "source": [
    "isinstance(TRUE, IrreducibleValue)"
   ]
  },
  {
   "cell_type": "code",
   "execution_count": 40,
   "metadata": {},
   "outputs": [
    {
     "data": {
      "text/plain": [
       "True"
      ]
     },
     "execution_count": 40,
     "metadata": {},
     "output_type": "execute_result"
    }
   ],
   "source": [
    "isinstance(FALSE, IrreducibleValue)"
   ]
  },
  {
   "cell_type": "code",
   "execution_count": 41,
   "metadata": {},
   "outputs": [
    {
     "data": {
      "text/html": [
       "<span style=\"font-size:20px;\"> &#x22A2;&nbsp;<a class=\"ProveItLink\" href=\"../boolean/__pv_it/39b7bb11d9285a053f62e0eb2edba7c6180380300/expr.ipynb\"><img src=\"../boolean/__pv_it/39b7bb11d9285a053f62e0eb2edba7c6180380300/expr.png\" style=\"display:inline;vertical-align:middle;\" /></a></span>"
      ],
      "text/plain": [
       "|= TRUE = TRUE"
      ]
     },
     "execution_count": 41,
     "metadata": {},
     "output_type": "execute_result"
    }
   ],
   "source": [
    "TRUE.evaluation()"
   ]
  },
  {
   "cell_type": "markdown",
   "metadata": {},
   "source": [
    "An `IrreducibleValue` should implement the `evalEquality` and `notEqual` methods to prove equality relations with other `IrreducibleValue`s as appropriate."
   ]
  },
  {
   "cell_type": "code",
   "execution_count": 42,
   "metadata": {},
   "outputs": [
    {
     "data": {
      "text/html": [
       "<span style=\"font-size:20px;\"><a class=\"ProveItLink\" href=\"__pv_it/f30729b0862b989e150ff5f9e01bb3b299385d960/expr.ipynb\"><img src=\"__pv_it/f30729b0862b989e150ff5f9e01bb3b299385d960/expr.png\" style=\"display:inline;vertical-align:middle;\" /></a> &#x22A2;&nbsp;<a class=\"ProveItLink\" href=\"../boolean/__pv_it/8f1f7fac882de28c72b62ab80a1700b6d8fd066b0/expr.ipynb\"><img src=\"../boolean/__pv_it/8f1f7fac882de28c72b62ab80a1700b6d8fd066b0/expr.png\" style=\"display:inline;vertical-align:middle;\" /></a></span>"
      ],
      "text/plain": [
       "{FALSE = TRUE} |= FALSE"
      ]
     },
     "execution_count": 42,
     "metadata": {},
     "output_type": "execute_result"
    }
   ],
   "source": [
    "Equals(Equals(FALSE, TRUE), FALSE).deriveContradiction([Equals(FALSE, TRUE)])"
   ]
  },
  {
   "cell_type": "code",
   "execution_count": 43,
   "metadata": {},
   "outputs": [
    {
     "data": {
      "text/html": [
       "<span style=\"font-size:20px;\"> &#x22A2;&nbsp;<a class=\"ProveItLink\" href=\"__pv_it/03b645175128a1fa09000a3f1fcc2f80d6402b5c0/expr.ipynb\"><img src=\"__pv_it/03b645175128a1fa09000a3f1fcc2f80d6402b5c0/expr.png\" style=\"display:inline;vertical-align:middle;\" /></a></span>"
      ],
      "text/plain": [
       "|= (TRUE = TRUE) = TRUE"
      ]
     },
     "execution_count": 43,
     "metadata": {},
     "output_type": "execute_result"
    }
   ],
   "source": [
    "TRUE.evalEquality(TRUE)"
   ]
  },
  {
   "cell_type": "code",
   "execution_count": 44,
   "metadata": {},
   "outputs": [
    {
     "data": {
      "text/html": [
       "<span style=\"font-size:20px;\"> &#x22A2;&nbsp;<a class=\"ProveItLink\" href=\"__pv_it/41303775772b46dd1e79939b1c1012347b72ee940/expr.ipynb\"><img src=\"__pv_it/41303775772b46dd1e79939b1c1012347b72ee940/expr.png\" style=\"display:inline;vertical-align:middle;\" /></a></span>"
      ],
      "text/plain": [
       "|= (TRUE = FALSE) = FALSE"
      ]
     },
     "execution_count": 44,
     "metadata": {},
     "output_type": "execute_result"
    }
   ],
   "source": [
    "TRUE.evalEquality(FALSE)"
   ]
  },
  {
   "cell_type": "code",
   "execution_count": 45,
   "metadata": {},
   "outputs": [
    {
     "data": {
      "text/html": [
       "<span style=\"font-size:20px;\"> &#x22A2;&nbsp;<a class=\"ProveItLink\" href=\"../boolean/__pv_it/b021c743ee41463bf5901121b5b091f2d2a9a6ee0/expr.ipynb\"><img src=\"../boolean/__pv_it/b021c743ee41463bf5901121b5b091f2d2a9a6ee0/expr.png\" style=\"display:inline;vertical-align:middle;\" /></a></span>"
      ],
      "text/plain": [
       "|= TRUE != FALSE"
      ]
     },
     "execution_count": 45,
     "metadata": {},
     "output_type": "execute_result"
    }
   ],
   "source": [
    "TRUE.notEqual(FALSE)"
   ]
  },
  {
   "cell_type": "markdown",
   "metadata": {},
   "source": [
    "A proven expression will evaluate to `TRUE`."
   ]
  },
  {
   "cell_type": "code",
   "execution_count": 46,
   "metadata": {},
   "outputs": [
    {
     "data": {
      "text/html": [
       "<strong id=\"a_eq_T\">a_eq_T:</strong> <span style=\"font-size:20px;\"><a class=\"ProveItLink\" href=\"__pv_it/6ec7c6334fca5d7ddc176ef965c890c4e11f3f9e0/expr.ipynb\"><img src=\"__pv_it/6ec7c6334fca5d7ddc176ef965c890c4e11f3f9e0/expr.png\" style=\"display:inline;vertical-align:middle;\" /></a> &#x22A2;&nbsp;<a class=\"ProveItLink\" href=\"__pv_it/423056909a966f8b4f0d423742dab86bada8dc330/expr.ipynb\"><img src=\"__pv_it/423056909a966f8b4f0d423742dab86bada8dc330/expr.png\" style=\"display:inline;vertical-align:middle;\" /></a></span><br>"
      ],
      "text/plain": [
       "a_eq_T: {a} |= a = TRUE"
      ]
     },
     "execution_count": 46,
     "metadata": {},
     "output_type": "execute_result"
    }
   ],
   "source": [
    "a_eq_T = a.evaluation([a])"
   ]
  },
  {
   "cell_type": "code",
   "execution_count": 47,
   "metadata": {},
   "outputs": [
    {
     "data": {
      "text/html": [
       "<table><tr><th>&nbsp;</th><th>step type</th><th>requirements</th><th>statement</th></tr>\n",
       "<tr><td>0</td><td>specialization</td><td>1, 2</td><td><span style=\"font-size:20px;\"><a class=\"ProveItLink\" href=\"__pv_it/6ec7c6334fca5d7ddc176ef965c890c4e11f3f9e0/expr.ipynb\"><img src=\"__pv_it/6ec7c6334fca5d7ddc176ef965c890c4e11f3f9e0/expr.png\" style=\"display:inline;vertical-align:middle;\" /></a> &#x22A2;&nbsp;<a class=\"ProveItLink\" href=\"__pv_it/423056909a966f8b4f0d423742dab86bada8dc330/expr.ipynb\"><img src=\"__pv_it/423056909a966f8b4f0d423742dab86bada8dc330/expr.png\" style=\"display:inline;vertical-align:middle;\" /></a></span></td></tr>\n",
       "<tr><td>&nbsp;</td><td colspan=4 style=\"text-align:left\"><span style=\"font-size:20px;\"><a class=\"ProveItLink\" href=\"../../__pv_it/2cbe72a7ad6f655694dd697106680215e8489b600/expr.ipynb\"><img src=\"../../__pv_it/2cbe72a7ad6f655694dd697106680215e8489b600/expr.png\" style=\"display:inline;vertical-align:middle;\" /></a> : <a class=\"ProveItLink\" href=\"../../__pv_it/07527342713064c87612d00d8557c53d53d5324a0/expr.ipynb\"><img src=\"../../__pv_it/07527342713064c87612d00d8557c53d53d5324a0/expr.png\" style=\"display:inline;vertical-align:middle;\" /></a></span></td></tr><tr><td>1</td><td>axiom</td><td></td><td><span style=\"font-size:20px;\"> &#x22A2;&nbsp;<a class=\"ProveItLink\" href=\"../boolean/__pv_it/04576f2f89fdf94b2e1520e8f4ab361286daf7f30/expr.ipynb\"><img src=\"../boolean/__pv_it/04576f2f89fdf94b2e1520e8f4ab361286daf7f30/expr.png\" style=\"display:inline;vertical-align:middle;\" /></a></span></td></tr>\n",
       "<tr><td>&nbsp;</td><td colspan=4 style-\"text-align:left\"><a class=\"ProveItLink\" href=\"../boolean/_axioms_.ipynb#eqTrueIntro\">proveit.logic.boolean.eqTrueIntro</a></td></tr><tr><td>2</td><td>assumption</td><td></td><td><span style=\"font-size:20px;\"><a class=\"ProveItLink\" href=\"__pv_it/6ec7c6334fca5d7ddc176ef965c890c4e11f3f9e0/expr.ipynb\"><img src=\"__pv_it/6ec7c6334fca5d7ddc176ef965c890c4e11f3f9e0/expr.png\" style=\"display:inline;vertical-align:middle;\" /></a> &#x22A2;&nbsp;<a class=\"ProveItLink\" href=\"../../__pv_it/07527342713064c87612d00d8557c53d53d5324a0/expr.ipynb\"><img src=\"../../__pv_it/07527342713064c87612d00d8557c53d53d5324a0/expr.png\" style=\"display:inline;vertical-align:middle;\" /></a></span></td></tr>\n",
       "</table>"
      ],
      "text/plain": [
       "\tstep type\trequirements\tstatement\n",
       "0\tspecialization\t1, 2\t{a} |= a = TRUE\n",
       "\tA : a\n",
       "1\taxiom\t\t|= forall_{A | A} (A = TRUE)\n",
       "\tproveit.logic.boolean.eqTrueIntro\n",
       "2\tassumption\t\t{a} |= a"
      ]
     },
     "execution_count": 47,
     "metadata": {},
     "output_type": "execute_result"
    }
   ],
   "source": [
    "a_eq_T.proof()"
   ]
  },
  {
   "cell_type": "markdown",
   "metadata": {},
   "source": [
    "A disproven expression will evaluate to `FALSE`."
   ]
  },
  {
   "cell_type": "code",
   "execution_count": 48,
   "metadata": {},
   "outputs": [
    {
     "data": {
      "text/html": [
       "<strong id=\"a_eq_F\">a_eq_F:</strong> <span style=\"font-size:20px;\"><a class=\"ProveItLink\" href=\"__pv_it/8fd5add9f633838457fecf9cef17c928ea76254d0/expr.ipynb\"><img src=\"__pv_it/8fd5add9f633838457fecf9cef17c928ea76254d0/expr.png\" style=\"display:inline;vertical-align:middle;\" /></a> &#x22A2;&nbsp;<a class=\"ProveItLink\" href=\"__pv_it/50944e0c92bbe5b54829eb8505c4edc70fe8102f0/expr.ipynb\"><img src=\"__pv_it/50944e0c92bbe5b54829eb8505c4edc70fe8102f0/expr.png\" style=\"display:inline;vertical-align:middle;\" /></a></span><br>"
      ],
      "text/plain": [
       "a_eq_F: {[not](a)} |= a = FALSE"
      ]
     },
     "execution_count": 48,
     "metadata": {},
     "output_type": "execute_result"
    }
   ],
   "source": [
    "a_eq_F = a.evaluation([Not(a)])"
   ]
  },
  {
   "cell_type": "code",
   "execution_count": 49,
   "metadata": {},
   "outputs": [
    {
     "data": {
      "text/html": [
       "<table><tr><th>&nbsp;</th><th>step type</th><th>requirements</th><th>statement</th></tr>\n",
       "<tr><td>0</td><td>specialization</td><td>1, 2</td><td><span style=\"font-size:20px;\"><a class=\"ProveItLink\" href=\"__pv_it/8fd5add9f633838457fecf9cef17c928ea76254d0/expr.ipynb\"><img src=\"__pv_it/8fd5add9f633838457fecf9cef17c928ea76254d0/expr.png\" style=\"display:inline;vertical-align:middle;\" /></a> &#x22A2;&nbsp;<a class=\"ProveItLink\" href=\"__pv_it/50944e0c92bbe5b54829eb8505c4edc70fe8102f0/expr.ipynb\"><img src=\"__pv_it/50944e0c92bbe5b54829eb8505c4edc70fe8102f0/expr.png\" style=\"display:inline;vertical-align:middle;\" /></a></span></td></tr>\n",
       "<tr><td>&nbsp;</td><td colspan=4 style=\"text-align:left\"><span style=\"font-size:20px;\"><a class=\"ProveItLink\" href=\"../../__pv_it/2cbe72a7ad6f655694dd697106680215e8489b600/expr.ipynb\"><img src=\"../../__pv_it/2cbe72a7ad6f655694dd697106680215e8489b600/expr.png\" style=\"display:inline;vertical-align:middle;\" /></a> : <a class=\"ProveItLink\" href=\"../../__pv_it/07527342713064c87612d00d8557c53d53d5324a0/expr.ipynb\"><img src=\"../../__pv_it/07527342713064c87612d00d8557c53d53d5324a0/expr.png\" style=\"display:inline;vertical-align:middle;\" /></a></span></td></tr><tr><td>1</td><td>axiom</td><td></td><td><span style=\"font-size:20px;\"> &#x22A2;&nbsp;<a class=\"ProveItLink\" href=\"../boolean/negation/__pv_it/ff54988b43a873b48cad467afd8955bd0735c0210/expr.ipynb\"><img src=\"../boolean/negation/__pv_it/ff54988b43a873b48cad467afd8955bd0735c0210/expr.png\" style=\"display:inline;vertical-align:middle;\" /></a></span></td></tr>\n",
       "<tr><td>&nbsp;</td><td colspan=4 style-\"text-align:left\"><a class=\"ProveItLink\" href=\"../boolean/negation/_axioms_.ipynb#negationElim\">proveit.logic.boolean.negation.negationElim</a></td></tr><tr><td>2</td><td>assumption</td><td></td><td><span style=\"font-size:20px;\"><a class=\"ProveItLink\" href=\"__pv_it/8fd5add9f633838457fecf9cef17c928ea76254d0/expr.ipynb\"><img src=\"__pv_it/8fd5add9f633838457fecf9cef17c928ea76254d0/expr.png\" style=\"display:inline;vertical-align:middle;\" /></a> &#x22A2;&nbsp;<a class=\"ProveItLink\" href=\"__pv_it/90850a12a72aaf97c847e825fb82a6804e84d9be0/expr.ipynb\"><img src=\"__pv_it/90850a12a72aaf97c847e825fb82a6804e84d9be0/expr.png\" style=\"display:inline;vertical-align:middle;\" /></a></span></td></tr>\n",
       "</table>"
      ],
      "text/plain": [
       "\tstep type\trequirements\tstatement\n",
       "0\tspecialization\t1, 2\t{[not](a)} |= a = FALSE\n",
       "\tA : a\n",
       "1\taxiom\t\t|= forall_{A | [not](A)} (A = FALSE)\n",
       "\tproveit.logic.boolean.negation.negationElim\n",
       "2\tassumption\t\t{[not](a)} |= [not](a)"
      ]
     },
     "execution_count": 49,
     "metadata": {},
     "output_type": "execute_result"
    }
   ],
   "source": [
    "a_eq_F.proof()"
   ]
  },
  {
   "cell_type": "markdown",
   "metadata": {},
   "source": [
    "If the expression to be evaluated is known to be equal to an expression that has already been evaluated, transitivity will automatically be applied."
   ]
  },
  {
   "cell_type": "code",
   "execution_count": 50,
   "metadata": {},
   "outputs": [
    {
     "data": {
      "text/html": [
       "<strong id=\"b_eq_F\">b_eq_F:</strong> <span style=\"font-size:20px;\"><a class=\"ProveItLink\" href=\"__pv_it/47d809eb8c9f88bb3cdcc1d02fba149361d0d7930/expr.ipynb\"><img src=\"__pv_it/47d809eb8c9f88bb3cdcc1d02fba149361d0d7930/expr.png\" style=\"display:inline;vertical-align:middle;\" /></a> &#x22A2;&nbsp;<a class=\"ProveItLink\" href=\"__pv_it/daef701d2fa5b1cdc69cb005afd1d908f1c0f4790/expr.ipynb\"><img src=\"__pv_it/daef701d2fa5b1cdc69cb005afd1d908f1c0f4790/expr.png\" style=\"display:inline;vertical-align:middle;\" /></a></span><br>"
      ],
      "text/plain": [
       "b_eq_F: {b = a , [not](a)} |= b = FALSE"
      ]
     },
     "execution_count": 50,
     "metadata": {},
     "output_type": "execute_result"
    }
   ],
   "source": [
    "b_eq_F = b.evaluation([Equals(b, a), Not(a)])"
   ]
  },
  {
   "cell_type": "code",
   "execution_count": 51,
   "metadata": {},
   "outputs": [
    {
     "data": {
      "text/html": [
       "<table><tr><th>&nbsp;</th><th>step type</th><th>requirements</th><th>statement</th></tr>\n",
       "<tr><td>0</td><td>specialization</td><td>1, 2, 3</td><td><span style=\"font-size:20px;\"><a class=\"ProveItLink\" href=\"__pv_it/47d809eb8c9f88bb3cdcc1d02fba149361d0d7930/expr.ipynb\"><img src=\"__pv_it/47d809eb8c9f88bb3cdcc1d02fba149361d0d7930/expr.png\" style=\"display:inline;vertical-align:middle;\" /></a> &#x22A2;&nbsp;<a class=\"ProveItLink\" href=\"__pv_it/daef701d2fa5b1cdc69cb005afd1d908f1c0f4790/expr.ipynb\"><img src=\"__pv_it/daef701d2fa5b1cdc69cb005afd1d908f1c0f4790/expr.png\" style=\"display:inline;vertical-align:middle;\" /></a></span></td></tr>\n",
       "<tr><td>&nbsp;</td><td colspan=4 style=\"text-align:left\"><span style=\"font-size:20px;\"><a class=\"ProveItLink\" href=\"../../__pv_it/530be409e3083890784cf1d7b28c9e67e90af9360/expr.ipynb\"><img src=\"../../__pv_it/530be409e3083890784cf1d7b28c9e67e90af9360/expr.png\" style=\"display:inline;vertical-align:middle;\" /></a> : <a class=\"ProveItLink\" href=\"../../__pv_it/6840a4fa6c106149dc16a131294d0c5e44f1b0480/expr.ipynb\"><img src=\"../../__pv_it/6840a4fa6c106149dc16a131294d0c5e44f1b0480/expr.png\" style=\"display:inline;vertical-align:middle;\" /></a>, <a class=\"ProveItLink\" href=\"../../__pv_it/f8b9edf8e16034727f0aad55bb83e392c3db40d40/expr.ipynb\"><img src=\"../../__pv_it/f8b9edf8e16034727f0aad55bb83e392c3db40d40/expr.png\" style=\"display:inline;vertical-align:middle;\" /></a> : <a class=\"ProveItLink\" href=\"../../__pv_it/07527342713064c87612d00d8557c53d53d5324a0/expr.ipynb\"><img src=\"../../__pv_it/07527342713064c87612d00d8557c53d53d5324a0/expr.png\" style=\"display:inline;vertical-align:middle;\" /></a>, <a class=\"ProveItLink\" href=\"../../__pv_it/251502494639118b4892de8e9d720a5fcce840e10/expr.ipynb\"><img src=\"../../__pv_it/251502494639118b4892de8e9d720a5fcce840e10/expr.png\" style=\"display:inline;vertical-align:middle;\" /></a> : <a class=\"ProveItLink\" href=\"../boolean/__pv_it/8f1f7fac882de28c72b62ab80a1700b6d8fd066b0/expr.ipynb\"><img src=\"../boolean/__pv_it/8f1f7fac882de28c72b62ab80a1700b6d8fd066b0/expr.png\" style=\"display:inline;vertical-align:middle;\" /></a></span></td></tr><tr><td>1</td><td>axiom</td><td></td><td><span style=\"font-size:20px;\"> &#x22A2;&nbsp;<a class=\"ProveItLink\" href=\"__pv_it/3e27e37ba4c21dbc2950467f18d0691b4108abf10/expr.ipynb\"><img src=\"__pv_it/3e27e37ba4c21dbc2950467f18d0691b4108abf10/expr.png\" style=\"display:inline;vertical-align:middle;\" /></a></span></td></tr>\n",
       "<tr><td>&nbsp;</td><td colspan=4 style-\"text-align:left\"><a class=\"ProveItLink\" href=\"_axioms_.ipynb#equalsTransitivity\">proveit.logic.equality.equalsTransitivity</a></td></tr><tr><td>2</td><td>assumption</td><td></td><td><span style=\"font-size:20px;\"><a class=\"ProveItLink\" href=\"__pv_it/7aa798d9e968a169f6ba7c0b610b8e84765593540/expr.ipynb\"><img src=\"__pv_it/7aa798d9e968a169f6ba7c0b610b8e84765593540/expr.png\" style=\"display:inline;vertical-align:middle;\" /></a> &#x22A2;&nbsp;<a class=\"ProveItLink\" href=\"__pv_it/6ba76f290dda2ad5038fa7f7a9eba1fa66d3f5960/expr.ipynb\"><img src=\"__pv_it/6ba76f290dda2ad5038fa7f7a9eba1fa66d3f5960/expr.png\" style=\"display:inline;vertical-align:middle;\" /></a></span></td></tr>\n",
       "<tr><td>3</td><td>specialization</td><td>4, 5</td><td><span style=\"font-size:20px;\"><a class=\"ProveItLink\" href=\"__pv_it/8fd5add9f633838457fecf9cef17c928ea76254d0/expr.ipynb\"><img src=\"__pv_it/8fd5add9f633838457fecf9cef17c928ea76254d0/expr.png\" style=\"display:inline;vertical-align:middle;\" /></a> &#x22A2;&nbsp;<a class=\"ProveItLink\" href=\"__pv_it/50944e0c92bbe5b54829eb8505c4edc70fe8102f0/expr.ipynb\"><img src=\"__pv_it/50944e0c92bbe5b54829eb8505c4edc70fe8102f0/expr.png\" style=\"display:inline;vertical-align:middle;\" /></a></span></td></tr>\n",
       "<tr><td>&nbsp;</td><td colspan=4 style=\"text-align:left\"><span style=\"font-size:20px;\"><a class=\"ProveItLink\" href=\"../../__pv_it/2cbe72a7ad6f655694dd697106680215e8489b600/expr.ipynb\"><img src=\"../../__pv_it/2cbe72a7ad6f655694dd697106680215e8489b600/expr.png\" style=\"display:inline;vertical-align:middle;\" /></a> : <a class=\"ProveItLink\" href=\"../../__pv_it/07527342713064c87612d00d8557c53d53d5324a0/expr.ipynb\"><img src=\"../../__pv_it/07527342713064c87612d00d8557c53d53d5324a0/expr.png\" style=\"display:inline;vertical-align:middle;\" /></a></span></td></tr><tr><td>4</td><td>axiom</td><td></td><td><span style=\"font-size:20px;\"> &#x22A2;&nbsp;<a class=\"ProveItLink\" href=\"../boolean/negation/__pv_it/ff54988b43a873b48cad467afd8955bd0735c0210/expr.ipynb\"><img src=\"../boolean/negation/__pv_it/ff54988b43a873b48cad467afd8955bd0735c0210/expr.png\" style=\"display:inline;vertical-align:middle;\" /></a></span></td></tr>\n",
       "<tr><td>&nbsp;</td><td colspan=4 style-\"text-align:left\"><a class=\"ProveItLink\" href=\"../boolean/negation/_axioms_.ipynb#negationElim\">proveit.logic.boolean.negation.negationElim</a></td></tr><tr><td>5</td><td>assumption</td><td></td><td><span style=\"font-size:20px;\"><a class=\"ProveItLink\" href=\"__pv_it/8fd5add9f633838457fecf9cef17c928ea76254d0/expr.ipynb\"><img src=\"__pv_it/8fd5add9f633838457fecf9cef17c928ea76254d0/expr.png\" style=\"display:inline;vertical-align:middle;\" /></a> &#x22A2;&nbsp;<a class=\"ProveItLink\" href=\"__pv_it/90850a12a72aaf97c847e825fb82a6804e84d9be0/expr.ipynb\"><img src=\"__pv_it/90850a12a72aaf97c847e825fb82a6804e84d9be0/expr.png\" style=\"display:inline;vertical-align:middle;\" /></a></span></td></tr>\n",
       "</table>"
      ],
      "text/plain": [
       "\tstep type\trequirements\tstatement\n",
       "0\tspecialization\t1, 2, 3\t{b = a , [not](a)} |= b = FALSE\n",
       "\tx : b, y : a, z : FALSE\n",
       "1\taxiom\t\t|= forall_{x, y, z | x = y , y = z} (x = z)\n",
       "\tproveit.logic.equality.equalsTransitivity\n",
       "2\tassumption\t\t{b = a} |= b = a\n",
       "3\tspecialization\t4, 5\t{[not](a)} |= a = FALSE\n",
       "\tA : a\n",
       "4\taxiom\t\t|= forall_{A | [not](A)} (A = FALSE)\n",
       "\tproveit.logic.boolean.negation.negationElim\n",
       "5\tassumption\t\t{[not](a)} |= [not](a)"
      ]
     },
     "execution_count": 51,
     "metadata": {},
     "output_type": "execute_result"
    }
   ],
   "source": [
    "b_eq_F.proof()"
   ]
  },
  {
   "cell_type": "markdown",
   "metadata": {},
   "source": [
    "When evaluating an expression, an evaluation of the operands will be attempted.  The operation class is responsible for overridding the `evaluate` method in order to properly treat the operation applied to irreducible values or generate a more efficient proof as appropriate."
   ]
  },
  {
   "cell_type": "code",
   "execution_count": 52,
   "metadata": {
    "collapsed": true
   },
   "outputs": [],
   "source": [
    "from proveit.logic import Or, Not, inBool"
   ]
  },
  {
   "cell_type": "code",
   "execution_count": 53,
   "metadata": {},
   "outputs": [
    {
     "data": {
      "text/html": [
       "<strong id=\"nested_eval\">nested_eval:</strong> <span style=\"font-size:20px;\"><a class=\"ProveItLink\" href=\"__pv_it/6ec7c6334fca5d7ddc176ef965c890c4e11f3f9e0/expr.ipynb\"><img src=\"__pv_it/6ec7c6334fca5d7ddc176ef965c890c4e11f3f9e0/expr.png\" style=\"display:inline;vertical-align:middle;\" /></a> &#x22A2;&nbsp;<a class=\"ProveItLink\" href=\"__pv_it/4c4212a322496c71e792203cd6893bd9ef38f0740/expr.ipynb\"><img src=\"__pv_it/4c4212a322496c71e792203cd6893bd9ef38f0740/expr.png\" style=\"display:inline;vertical-align:middle;\" /></a></span><br>"
      ],
      "text/plain": [
       "nested_eval: {a} |= (a or [not](a)) = TRUE"
      ]
     },
     "execution_count": 53,
     "metadata": {},
     "output_type": "execute_result"
    }
   ],
   "source": [
    "nested_eval = Or(a, Not(a)).evaluation([a])"
   ]
  },
  {
   "cell_type": "code",
   "execution_count": 54,
   "metadata": {},
   "outputs": [
    {
     "data": {
      "text/html": [
       "<table><tr><th>&nbsp;</th><th>step type</th><th>requirements</th><th>statement</th></tr>\n",
       "<tr><td>0</td><td>specialization</td><td>3, 1, 2</td><td><span style=\"font-size:20px;\"><a class=\"ProveItLink\" href=\"__pv_it/6ec7c6334fca5d7ddc176ef965c890c4e11f3f9e0/expr.ipynb\"><img src=\"__pv_it/6ec7c6334fca5d7ddc176ef965c890c4e11f3f9e0/expr.png\" style=\"display:inline;vertical-align:middle;\" /></a> &#x22A2;&nbsp;<a class=\"ProveItLink\" href=\"__pv_it/4c4212a322496c71e792203cd6893bd9ef38f0740/expr.ipynb\"><img src=\"__pv_it/4c4212a322496c71e792203cd6893bd9ef38f0740/expr.png\" style=\"display:inline;vertical-align:middle;\" /></a></span></td></tr>\n",
       "<tr><td>&nbsp;</td><td colspan=4 style=\"text-align:left\"><span style=\"font-size:20px;\"><a class=\"ProveItLink\" href=\"../../__pv_it/530be409e3083890784cf1d7b28c9e67e90af9360/expr.ipynb\"><img src=\"../../__pv_it/530be409e3083890784cf1d7b28c9e67e90af9360/expr.png\" style=\"display:inline;vertical-align:middle;\" /></a> : <a class=\"ProveItLink\" href=\"__pv_it/647860dd2ea0808cad05ff5d0fe4d4da0a7373f90/expr.ipynb\"><img src=\"__pv_it/647860dd2ea0808cad05ff5d0fe4d4da0a7373f90/expr.png\" style=\"display:inline;vertical-align:middle;\" /></a>, <a class=\"ProveItLink\" href=\"../../__pv_it/f8b9edf8e16034727f0aad55bb83e392c3db40d40/expr.ipynb\"><img src=\"../../__pv_it/f8b9edf8e16034727f0aad55bb83e392c3db40d40/expr.png\" style=\"display:inline;vertical-align:middle;\" /></a> : <a class=\"ProveItLink\" href=\"../boolean/disjunction/__pv_it/eec5dacd574712698e86760b8b62868c1668cdd80/expr.ipynb\"><img src=\"../boolean/disjunction/__pv_it/eec5dacd574712698e86760b8b62868c1668cdd80/expr.png\" style=\"display:inline;vertical-align:middle;\" /></a>, <a class=\"ProveItLink\" href=\"../../__pv_it/251502494639118b4892de8e9d720a5fcce840e10/expr.ipynb\"><img src=\"../../__pv_it/251502494639118b4892de8e9d720a5fcce840e10/expr.png\" style=\"display:inline;vertical-align:middle;\" /></a> : <a class=\"ProveItLink\" href=\"../boolean/__pv_it/68a87cc3370287d726c7086ace789e680e4461c30/expr.ipynb\"><img src=\"../boolean/__pv_it/68a87cc3370287d726c7086ace789e680e4461c30/expr.png\" style=\"display:inline;vertical-align:middle;\" /></a></span></td></tr><tr><td>1</td><td>specialization</td><td>3, 4, 5</td><td><span style=\"font-size:20px;\"><a class=\"ProveItLink\" href=\"__pv_it/6ec7c6334fca5d7ddc176ef965c890c4e11f3f9e0/expr.ipynb\"><img src=\"__pv_it/6ec7c6334fca5d7ddc176ef965c890c4e11f3f9e0/expr.png\" style=\"display:inline;vertical-align:middle;\" /></a> &#x22A2;&nbsp;<a class=\"ProveItLink\" href=\"__pv_it/a4b755f6c64b19fbcd55e892652fdcb7f91e114c0/expr.ipynb\"><img src=\"__pv_it/a4b755f6c64b19fbcd55e892652fdcb7f91e114c0/expr.png\" style=\"display:inline;vertical-align:middle;\" /></a></span></td></tr>\n",
       "<tr><td>&nbsp;</td><td colspan=4 style=\"text-align:left\"><span style=\"font-size:20px;\"><a class=\"ProveItLink\" href=\"../../__pv_it/530be409e3083890784cf1d7b28c9e67e90af9360/expr.ipynb\"><img src=\"../../__pv_it/530be409e3083890784cf1d7b28c9e67e90af9360/expr.png\" style=\"display:inline;vertical-align:middle;\" /></a> : <a class=\"ProveItLink\" href=\"__pv_it/647860dd2ea0808cad05ff5d0fe4d4da0a7373f90/expr.ipynb\"><img src=\"__pv_it/647860dd2ea0808cad05ff5d0fe4d4da0a7373f90/expr.png\" style=\"display:inline;vertical-align:middle;\" /></a>, <a class=\"ProveItLink\" href=\"../../__pv_it/f8b9edf8e16034727f0aad55bb83e392c3db40d40/expr.ipynb\"><img src=\"../../__pv_it/f8b9edf8e16034727f0aad55bb83e392c3db40d40/expr.png\" style=\"display:inline;vertical-align:middle;\" /></a> : <a class=\"ProveItLink\" href=\"__pv_it/75282a228e526c43dcaad1503c595b5f3e5079b40/expr.ipynb\"><img src=\"__pv_it/75282a228e526c43dcaad1503c595b5f3e5079b40/expr.png\" style=\"display:inline;vertical-align:middle;\" /></a>, <a class=\"ProveItLink\" href=\"../../__pv_it/251502494639118b4892de8e9d720a5fcce840e10/expr.ipynb\"><img src=\"../../__pv_it/251502494639118b4892de8e9d720a5fcce840e10/expr.png\" style=\"display:inline;vertical-align:middle;\" /></a> : <a class=\"ProveItLink\" href=\"../boolean/disjunction/__pv_it/eec5dacd574712698e86760b8b62868c1668cdd80/expr.ipynb\"><img src=\"../boolean/disjunction/__pv_it/eec5dacd574712698e86760b8b62868c1668cdd80/expr.png\" style=\"display:inline;vertical-align:middle;\" /></a></span></td></tr><tr><td>2</td><td>axiom</td><td></td><td><span style=\"font-size:20px;\"> &#x22A2;&nbsp;<a class=\"ProveItLink\" href=\"../boolean/disjunction/__pv_it/c6a5e272e6b810bb3e810161783e4a60ed64985c0/expr.ipynb\"><img src=\"../boolean/disjunction/__pv_it/c6a5e272e6b810bb3e810161783e4a60ed64985c0/expr.png\" style=\"display:inline;vertical-align:middle;\" /></a></span></td></tr>\n",
       "<tr><td>&nbsp;</td><td colspan=4 style-\"text-align:left\"><a class=\"ProveItLink\" href=\"../boolean/disjunction/_axioms_.ipynb#orTF\">proveit.logic.boolean.disjunction.orTF</a></td></tr><tr><td>3</td><td>axiom</td><td></td><td><span style=\"font-size:20px;\"> &#x22A2;&nbsp;<a class=\"ProveItLink\" href=\"__pv_it/3e27e37ba4c21dbc2950467f18d0691b4108abf10/expr.ipynb\"><img src=\"__pv_it/3e27e37ba4c21dbc2950467f18d0691b4108abf10/expr.png\" style=\"display:inline;vertical-align:middle;\" /></a></span></td></tr>\n",
       "<tr><td>&nbsp;</td><td colspan=4 style-\"text-align:left\"><a class=\"ProveItLink\" href=\"_axioms_.ipynb#equalsTransitivity\">proveit.logic.equality.equalsTransitivity</a></td></tr><tr><td>4</td><td>specialization</td><td>7, 6</td><td><span style=\"font-size:20px;\"><a class=\"ProveItLink\" href=\"__pv_it/6ec7c6334fca5d7ddc176ef965c890c4e11f3f9e0/expr.ipynb\"><img src=\"__pv_it/6ec7c6334fca5d7ddc176ef965c890c4e11f3f9e0/expr.png\" style=\"display:inline;vertical-align:middle;\" /></a> &#x22A2;&nbsp;<a class=\"ProveItLink\" href=\"__pv_it/d85240096275e9e29852756468dc15aa4bb009120/expr.ipynb\"><img src=\"__pv_it/d85240096275e9e29852756468dc15aa4bb009120/expr.png\" style=\"display:inline;vertical-align:middle;\" /></a></span></td></tr>\n",
       "<tr><td>&nbsp;</td><td colspan=4 style=\"text-align:left\"><span style=\"font-size:20px;\"><a class=\"ProveItLink\" href=\"__pv_it/bc97df5d11bc9ccb24649b0a71ed3c2b531aea9b0/expr.ipynb\"><img src=\"__pv_it/bc97df5d11bc9ccb24649b0a71ed3c2b531aea9b0/expr.png\" style=\"display:inline;vertical-align:middle;\" /></a> : <a class=\"ProveItLink\" href=\"__pv_it/7855f31aa5c0ad46687f9f6913a463948a2108aa0/expr.ipynb\"><img src=\"__pv_it/7855f31aa5c0ad46687f9f6913a463948a2108aa0/expr.png\" style=\"display:inline;vertical-align:middle;\" /></a>, <a class=\"ProveItLink\" href=\"../../__pv_it/530be409e3083890784cf1d7b28c9e67e90af9360/expr.ipynb\"><img src=\"../../__pv_it/530be409e3083890784cf1d7b28c9e67e90af9360/expr.png\" style=\"display:inline;vertical-align:middle;\" /></a> : <a class=\"ProveItLink\" href=\"../../__pv_it/07527342713064c87612d00d8557c53d53d5324a0/expr.ipynb\"><img src=\"../../__pv_it/07527342713064c87612d00d8557c53d53d5324a0/expr.png\" style=\"display:inline;vertical-align:middle;\" /></a>, <a class=\"ProveItLink\" href=\"../../__pv_it/f8b9edf8e16034727f0aad55bb83e392c3db40d40/expr.ipynb\"><img src=\"../../__pv_it/f8b9edf8e16034727f0aad55bb83e392c3db40d40/expr.png\" style=\"display:inline;vertical-align:middle;\" /></a> : <a class=\"ProveItLink\" href=\"../boolean/__pv_it/68a87cc3370287d726c7086ace789e680e4461c30/expr.ipynb\"><img src=\"../boolean/__pv_it/68a87cc3370287d726c7086ace789e680e4461c30/expr.png\" style=\"display:inline;vertical-align:middle;\" /></a></span></td></tr><tr><td>5</td><td>specialization</td><td>7, 8</td><td><span style=\"font-size:20px;\"> &#x22A2;&nbsp;<a class=\"ProveItLink\" href=\"__pv_it/a73c0c14293728ed739433e9e16433a1bc4dba880/expr.ipynb\"><img src=\"__pv_it/a73c0c14293728ed739433e9e16433a1bc4dba880/expr.png\" style=\"display:inline;vertical-align:middle;\" /></a></span></td></tr>\n",
       "<tr><td>&nbsp;</td><td colspan=4 style=\"text-align:left\"><span style=\"font-size:20px;\"><a class=\"ProveItLink\" href=\"__pv_it/bc97df5d11bc9ccb24649b0a71ed3c2b531aea9b0/expr.ipynb\"><img src=\"__pv_it/bc97df5d11bc9ccb24649b0a71ed3c2b531aea9b0/expr.png\" style=\"display:inline;vertical-align:middle;\" /></a> : <a class=\"ProveItLink\" href=\"__pv_it/843bdcdee7a89b9d49f4037873a467fea5482d740/expr.ipynb\"><img src=\"__pv_it/843bdcdee7a89b9d49f4037873a467fea5482d740/expr.png\" style=\"display:inline;vertical-align:middle;\" /></a>, <a class=\"ProveItLink\" href=\"../../__pv_it/530be409e3083890784cf1d7b28c9e67e90af9360/expr.ipynb\"><img src=\"../../__pv_it/530be409e3083890784cf1d7b28c9e67e90af9360/expr.png\" style=\"display:inline;vertical-align:middle;\" /></a> : <a class=\"ProveItLink\" href=\"__pv_it/64bca6f824ebeb308ac4ae8ae73cb3543228f2c30/expr.ipynb\"><img src=\"__pv_it/64bca6f824ebeb308ac4ae8ae73cb3543228f2c30/expr.png\" style=\"display:inline;vertical-align:middle;\" /></a>, <a class=\"ProveItLink\" href=\"../../__pv_it/f8b9edf8e16034727f0aad55bb83e392c3db40d40/expr.ipynb\"><img src=\"../../__pv_it/f8b9edf8e16034727f0aad55bb83e392c3db40d40/expr.png\" style=\"display:inline;vertical-align:middle;\" /></a> : <a class=\"ProveItLink\" href=\"../boolean/__pv_it/8f1f7fac882de28c72b62ab80a1700b6d8fd066b0/expr.ipynb\"><img src=\"../boolean/__pv_it/8f1f7fac882de28c72b62ab80a1700b6d8fd066b0/expr.png\" style=\"display:inline;vertical-align:middle;\" /></a></span></td></tr><tr><td>6</td><td>specialization</td><td>9, 10</td><td><span style=\"font-size:20px;\"><a class=\"ProveItLink\" href=\"__pv_it/6ec7c6334fca5d7ddc176ef965c890c4e11f3f9e0/expr.ipynb\"><img src=\"__pv_it/6ec7c6334fca5d7ddc176ef965c890c4e11f3f9e0/expr.png\" style=\"display:inline;vertical-align:middle;\" /></a> &#x22A2;&nbsp;<a class=\"ProveItLink\" href=\"__pv_it/423056909a966f8b4f0d423742dab86bada8dc330/expr.ipynb\"><img src=\"__pv_it/423056909a966f8b4f0d423742dab86bada8dc330/expr.png\" style=\"display:inline;vertical-align:middle;\" /></a></span></td></tr>\n",
       "<tr><td>&nbsp;</td><td colspan=4 style=\"text-align:left\"><span style=\"font-size:20px;\"><a class=\"ProveItLink\" href=\"../../__pv_it/2cbe72a7ad6f655694dd697106680215e8489b600/expr.ipynb\"><img src=\"../../__pv_it/2cbe72a7ad6f655694dd697106680215e8489b600/expr.png\" style=\"display:inline;vertical-align:middle;\" /></a> : <a class=\"ProveItLink\" href=\"../../__pv_it/07527342713064c87612d00d8557c53d53d5324a0/expr.ipynb\"><img src=\"../../__pv_it/07527342713064c87612d00d8557c53d53d5324a0/expr.png\" style=\"display:inline;vertical-align:middle;\" /></a></span></td></tr><tr><td>7</td><td>axiom</td><td></td><td><span style=\"font-size:20px;\"> &#x22A2;&nbsp;<a class=\"ProveItLink\" href=\"__pv_it/6ec2193ff7f2a0001aea3e112ec0ee2dddc5beb10/expr.ipynb\"><img src=\"__pv_it/6ec2193ff7f2a0001aea3e112ec0ee2dddc5beb10/expr.png\" style=\"display:inline;vertical-align:middle;\" /></a></span></td></tr>\n",
       "<tr><td>&nbsp;</td><td colspan=4 style-\"text-align:left\"><a class=\"ProveItLink\" href=\"_axioms_.ipynb#substitution\">proveit.logic.equality.substitution</a></td></tr><tr><td>8</td><td>theorem</td><td></td><td><span style=\"font-size:20px;\"> &#x22A2;&nbsp;<a class=\"ProveItLink\" href=\"../boolean/negation/__pv_it/616bbddf0a07cdf603496a9c8ad63f9accda890d0/expr.ipynb\"><img src=\"../boolean/negation/__pv_it/616bbddf0a07cdf603496a9c8ad63f9accda890d0/expr.png\" style=\"display:inline;vertical-align:middle;\" /></a></span></td></tr>\n",
       "<tr><td>&nbsp;</td><td colspan=4 style-\"text-align:left\"><a class=\"ProveItLink\" href=\"../boolean/negation/_proofs_/notT.ipynb\">proveit.logic.boolean.negation.notT</a></td></tr><tr><td>9</td><td>axiom</td><td></td><td><span style=\"font-size:20px;\"> &#x22A2;&nbsp;<a class=\"ProveItLink\" href=\"../boolean/__pv_it/04576f2f89fdf94b2e1520e8f4ab361286daf7f30/expr.ipynb\"><img src=\"../boolean/__pv_it/04576f2f89fdf94b2e1520e8f4ab361286daf7f30/expr.png\" style=\"display:inline;vertical-align:middle;\" /></a></span></td></tr>\n",
       "<tr><td>&nbsp;</td><td colspan=4 style-\"text-align:left\"><a class=\"ProveItLink\" href=\"../boolean/_axioms_.ipynb#eqTrueIntro\">proveit.logic.boolean.eqTrueIntro</a></td></tr><tr><td>10</td><td>assumption</td><td></td><td><span style=\"font-size:20px;\"><a class=\"ProveItLink\" href=\"__pv_it/6ec7c6334fca5d7ddc176ef965c890c4e11f3f9e0/expr.ipynb\"><img src=\"__pv_it/6ec7c6334fca5d7ddc176ef965c890c4e11f3f9e0/expr.png\" style=\"display:inline;vertical-align:middle;\" /></a> &#x22A2;&nbsp;<a class=\"ProveItLink\" href=\"../../__pv_it/07527342713064c87612d00d8557c53d53d5324a0/expr.ipynb\"><img src=\"../../__pv_it/07527342713064c87612d00d8557c53d53d5324a0/expr.png\" style=\"display:inline;vertical-align:middle;\" /></a></span></td></tr>\n",
       "</table>"
      ],
      "text/plain": [
       "\tstep type\trequirements\tstatement\n",
       "0\tspecialization\t3, 1, 2\t{a} |= (a or [not](a)) = TRUE\n",
       "\tx : a or [not](a), y : TRUE or FALSE, z : TRUE\n",
       "1\tspecialization\t3, 4, 5\t{a} |= (a or [not](a)) = (TRUE or FALSE)\n",
       "\tx : a or [not](a), y : TRUE or [not](TRUE), z : TRUE or FALSE\n",
       "2\taxiom\t\t|= (TRUE or FALSE) = TRUE\n",
       "\tproveit.logic.boolean.disjunction.orTF\n",
       "3\taxiom\t\t|= forall_{x, y, z | x = y , y = z} (x = z)\n",
       "\tproveit.logic.equality.equalsTransitivity\n",
       "4\tspecialization\t7, 6\t{a} |= (a or [not](a)) = (TRUE or [not](TRUE))\n",
       "\tf(_x_) : _x_ or [not](_x_), x : a, y : TRUE\n",
       "5\tspecialization\t7, 8\t|= (TRUE or [not](TRUE)) = (TRUE or FALSE)\n",
       "\tf(_x_) : TRUE or _x_, x : [not](TRUE), y : FALSE\n",
       "6\tspecialization\t9, 10\t{a} |= a = TRUE\n",
       "\tA : a\n",
       "7\taxiom\t\t|= forall_{f, x, y | x = y} (f(x) = f(y))\n",
       "\tproveit.logic.equality.substitution\n",
       "8\ttheorem\t\t|= [not](TRUE) = FALSE\n",
       "\tproveit.logic.boolean.negation.notT\n",
       "9\taxiom\t\t|= forall_{A | A} (A = TRUE)\n",
       "\tproveit.logic.boolean.eqTrueIntro\n",
       "10\tassumption\t\t{a} |= a"
      ]
     },
     "execution_count": 54,
     "metadata": {},
     "output_type": "execute_result"
    }
   ],
   "source": [
    "nested_eval.proof()"
   ]
  },
  {
   "cell_type": "markdown",
   "metadata": {},
   "source": [
    "## Boolean equality\n",
    "\n",
    "Equality with `TRUE` ($\\top$) or `FALSE` ($\\bot$) has special logical consequences.  The `Equals` object has automation capabilities to treat these special kinds of equations."
   ]
  },
  {
   "cell_type": "code",
   "execution_count": 55,
   "metadata": {},
   "outputs": [
    {
     "data": {
      "text/html": [
       "<a class=\"ProveItLink\" href=\"../boolean/__pv_it/68a87cc3370287d726c7086ace789e680e4461c30/expr.ipynb\"><img src=\"../boolean/__pv_it/68a87cc3370287d726c7086ace789e680e4461c30/expr.png\" style=\"display:inline;vertical-align:middle;\" /></a>"
      ],
      "text/plain": [
       "TRUE"
      ]
     },
     "execution_count": 55,
     "metadata": {},
     "output_type": "execute_result"
    }
   ],
   "source": [
    "TRUE"
   ]
  },
  {
   "cell_type": "code",
   "execution_count": 56,
   "metadata": {},
   "outputs": [
    {
     "data": {
      "text/html": [
       "<a class=\"ProveItLink\" href=\"../boolean/__pv_it/8f1f7fac882de28c72b62ab80a1700b6d8fd066b0/expr.ipynb\"><img src=\"../boolean/__pv_it/8f1f7fac882de28c72b62ab80a1700b6d8fd066b0/expr.png\" style=\"display:inline;vertical-align:middle;\" /></a>"
      ],
      "text/plain": [
       "FALSE"
      ]
     },
     "execution_count": 56,
     "metadata": {},
     "output_type": "execute_result"
    }
   ],
   "source": [
    "FALSE"
   ]
  },
  {
   "cell_type": "markdown",
   "metadata": {},
   "source": [
    "Proofs via boolean equality are automatic via `Equals.deduceSideEffects`:"
   ]
  },
  {
   "cell_type": "code",
   "execution_count": 57,
   "metadata": {},
   "outputs": [
    {
     "data": {
      "text/html": [
       "<span style=\"font-size:20px;\"><a class=\"ProveItLink\" href=\"__pv_it/21a7f3764e13853b95dc67854a185b27fab525a10/expr.ipynb\"><img src=\"__pv_it/21a7f3764e13853b95dc67854a185b27fab525a10/expr.png\" style=\"display:inline;vertical-align:middle;\" /></a> &#x22A2;&nbsp;<a class=\"ProveItLink\" href=\"../../__pv_it/07527342713064c87612d00d8557c53d53d5324a0/expr.ipynb\"><img src=\"../../__pv_it/07527342713064c87612d00d8557c53d53d5324a0/expr.png\" style=\"display:inline;vertical-align:middle;\" /></a></span>"
      ],
      "text/plain": [
       "{a = TRUE} |= a"
      ]
     },
     "execution_count": 57,
     "metadata": {},
     "output_type": "execute_result"
    }
   ],
   "source": [
    "a.prove([Equals(a, TRUE)])"
   ]
  },
  {
   "cell_type": "code",
   "execution_count": 58,
   "metadata": {},
   "outputs": [
    {
     "data": {
      "text/html": [
       "<table><tr><th>&nbsp;</th><th>step type</th><th>requirements</th><th>statement</th></tr>\n",
       "<tr><td>0</td><td>specialization</td><td>1, 2</td><td><span style=\"font-size:20px;\"><a class=\"ProveItLink\" href=\"__pv_it/21a7f3764e13853b95dc67854a185b27fab525a10/expr.ipynb\"><img src=\"__pv_it/21a7f3764e13853b95dc67854a185b27fab525a10/expr.png\" style=\"display:inline;vertical-align:middle;\" /></a> &#x22A2;&nbsp;<a class=\"ProveItLink\" href=\"../../__pv_it/07527342713064c87612d00d8557c53d53d5324a0/expr.ipynb\"><img src=\"../../__pv_it/07527342713064c87612d00d8557c53d53d5324a0/expr.png\" style=\"display:inline;vertical-align:middle;\" /></a></span></td></tr>\n",
       "<tr><td>&nbsp;</td><td colspan=4 style=\"text-align:left\"><span style=\"font-size:20px;\"><a class=\"ProveItLink\" href=\"../../__pv_it/2cbe72a7ad6f655694dd697106680215e8489b600/expr.ipynb\"><img src=\"../../__pv_it/2cbe72a7ad6f655694dd697106680215e8489b600/expr.png\" style=\"display:inline;vertical-align:middle;\" /></a> : <a class=\"ProveItLink\" href=\"../../__pv_it/07527342713064c87612d00d8557c53d53d5324a0/expr.ipynb\"><img src=\"../../__pv_it/07527342713064c87612d00d8557c53d53d5324a0/expr.png\" style=\"display:inline;vertical-align:middle;\" /></a></span></td></tr><tr><td>1</td><td>axiom</td><td></td><td><span style=\"font-size:20px;\"> &#x22A2;&nbsp;<a class=\"ProveItLink\" href=\"../boolean/__pv_it/464b3c7344f9d4c18e61245dc2e5438b3dda88b90/expr.ipynb\"><img src=\"../boolean/__pv_it/464b3c7344f9d4c18e61245dc2e5438b3dda88b90/expr.png\" style=\"display:inline;vertical-align:middle;\" /></a></span></td></tr>\n",
       "<tr><td>&nbsp;</td><td colspan=4 style-\"text-align:left\"><a class=\"ProveItLink\" href=\"../boolean/_axioms_.ipynb#eqTrueElim\">proveit.logic.boolean.eqTrueElim</a></td></tr><tr><td>2</td><td>assumption</td><td></td><td><span style=\"font-size:20px;\"><a class=\"ProveItLink\" href=\"__pv_it/21a7f3764e13853b95dc67854a185b27fab525a10/expr.ipynb\"><img src=\"__pv_it/21a7f3764e13853b95dc67854a185b27fab525a10/expr.png\" style=\"display:inline;vertical-align:middle;\" /></a> &#x22A2;&nbsp;<a class=\"ProveItLink\" href=\"__pv_it/423056909a966f8b4f0d423742dab86bada8dc330/expr.ipynb\"><img src=\"__pv_it/423056909a966f8b4f0d423742dab86bada8dc330/expr.png\" style=\"display:inline;vertical-align:middle;\" /></a></span></td></tr>\n",
       "</table>"
      ],
      "text/plain": [
       "\tstep type\trequirements\tstatement\n",
       "0\tspecialization\t1, 2\t{a = TRUE} |= a\n",
       "\tA : a\n",
       "1\taxiom\t\t|= forall_{A | A = TRUE} A\n",
       "\tproveit.logic.boolean.eqTrueElim\n",
       "2\tassumption\t\t{a = TRUE} |= a = TRUE"
      ]
     },
     "execution_count": 58,
     "metadata": {},
     "output_type": "execute_result"
    }
   ],
   "source": [
    "a.prove([Equals(a, TRUE)]).proof()"
   ]
  },
  {
   "cell_type": "code",
   "execution_count": 59,
   "metadata": {},
   "outputs": [
    {
     "data": {
      "text/html": [
       "<span style=\"font-size:20px;\"><a class=\"ProveItLink\" href=\"__pv_it/e0a0d3912d9238d1f351df691e487681e3c85f680/expr.ipynb\"><img src=\"__pv_it/e0a0d3912d9238d1f351df691e487681e3c85f680/expr.png\" style=\"display:inline;vertical-align:middle;\" /></a> &#x22A2;&nbsp;<a class=\"ProveItLink\" href=\"__pv_it/c0fc114fcacc8e9fdeb995863ab29be961e5f4380/expr.ipynb\"><img src=\"__pv_it/c0fc114fcacc8e9fdeb995863ab29be961e5f4380/expr.png\" style=\"display:inline;vertical-align:middle;\" /></a></span>"
      ],
      "text/plain": [
       "{b = FALSE} |= [not](b)"
      ]
     },
     "execution_count": 59,
     "metadata": {},
     "output_type": "execute_result"
    }
   ],
   "source": [
    "Not(b).prove([Equals(b, FALSE)])"
   ]
  },
  {
   "cell_type": "code",
   "execution_count": 60,
   "metadata": {},
   "outputs": [
    {
     "data": {
      "text/html": [
       "<table><tr><th>&nbsp;</th><th>step type</th><th>requirements</th><th>statement</th></tr>\n",
       "<tr><td>0</td><td>specialization</td><td>1, 2</td><td><span style=\"font-size:20px;\"><a class=\"ProveItLink\" href=\"__pv_it/e0a0d3912d9238d1f351df691e487681e3c85f680/expr.ipynb\"><img src=\"__pv_it/e0a0d3912d9238d1f351df691e487681e3c85f680/expr.png\" style=\"display:inline;vertical-align:middle;\" /></a> &#x22A2;&nbsp;<a class=\"ProveItLink\" href=\"__pv_it/c0fc114fcacc8e9fdeb995863ab29be961e5f4380/expr.ipynb\"><img src=\"__pv_it/c0fc114fcacc8e9fdeb995863ab29be961e5f4380/expr.png\" style=\"display:inline;vertical-align:middle;\" /></a></span></td></tr>\n",
       "<tr><td>&nbsp;</td><td colspan=4 style=\"text-align:left\"><span style=\"font-size:20px;\"><a class=\"ProveItLink\" href=\"../../__pv_it/2cbe72a7ad6f655694dd697106680215e8489b600/expr.ipynb\"><img src=\"../../__pv_it/2cbe72a7ad6f655694dd697106680215e8489b600/expr.png\" style=\"display:inline;vertical-align:middle;\" /></a> : <a class=\"ProveItLink\" href=\"../../__pv_it/6840a4fa6c106149dc16a131294d0c5e44f1b0480/expr.ipynb\"><img src=\"../../__pv_it/6840a4fa6c106149dc16a131294d0c5e44f1b0480/expr.png\" style=\"display:inline;vertical-align:middle;\" /></a></span></td></tr><tr><td>1</td><td>axiom</td><td></td><td><span style=\"font-size:20px;\"> &#x22A2;&nbsp;<a class=\"ProveItLink\" href=\"../boolean/negation/__pv_it/bd349bf529bb24ca3489b99b360030e1baddcd2c0/expr.ipynb\"><img src=\"../boolean/negation/__pv_it/bd349bf529bb24ca3489b99b360030e1baddcd2c0/expr.png\" style=\"display:inline;vertical-align:middle;\" /></a></span></td></tr>\n",
       "<tr><td>&nbsp;</td><td colspan=4 style-\"text-align:left\"><a class=\"ProveItLink\" href=\"../boolean/negation/_axioms_.ipynb#negationIntro\">proveit.logic.boolean.negation.negationIntro</a></td></tr><tr><td>2</td><td>assumption</td><td></td><td><span style=\"font-size:20px;\"><a class=\"ProveItLink\" href=\"__pv_it/e0a0d3912d9238d1f351df691e487681e3c85f680/expr.ipynb\"><img src=\"__pv_it/e0a0d3912d9238d1f351df691e487681e3c85f680/expr.png\" style=\"display:inline;vertical-align:middle;\" /></a> &#x22A2;&nbsp;<a class=\"ProveItLink\" href=\"__pv_it/daef701d2fa5b1cdc69cb005afd1d908f1c0f4790/expr.ipynb\"><img src=\"__pv_it/daef701d2fa5b1cdc69cb005afd1d908f1c0f4790/expr.png\" style=\"display:inline;vertical-align:middle;\" /></a></span></td></tr>\n",
       "</table>"
      ],
      "text/plain": [
       "\tstep type\trequirements\tstatement\n",
       "0\tspecialization\t1, 2\t{b = FALSE} |= [not](b)\n",
       "\tA : b\n",
       "1\taxiom\t\t|= forall_{A | A = FALSE} [not](A)\n",
       "\tproveit.logic.boolean.negation.negationIntro\n",
       "2\tassumption\t\t{b = FALSE} |= b = FALSE"
      ]
     },
     "execution_count": 60,
     "metadata": {},
     "output_type": "execute_result"
    }
   ],
   "source": [
    "Not(b).prove([Equals(b, FALSE)]).proof()"
   ]
  },
  {
   "cell_type": "markdown",
   "metadata": {},
   "source": [
    "Going the other direction, boolean equalities are proven automatically via `Equals.conclude`:"
   ]
  },
  {
   "cell_type": "code",
   "execution_count": 61,
   "metadata": {},
   "outputs": [
    {
     "data": {
      "text/html": [
       "<span style=\"font-size:20px;\"><a class=\"ProveItLink\" href=\"__pv_it/b2478803f52c7420584c6bce8a7109cabd894b3b0/expr.ipynb\"><img src=\"__pv_it/b2478803f52c7420584c6bce8a7109cabd894b3b0/expr.png\" style=\"display:inline;vertical-align:middle;\" /></a> &#x22A2;&nbsp;<a class=\"ProveItLink\" href=\"__pv_it/f2b440b43eeb1bb27b40db946f695a59a24bee350/expr.ipynb\"><img src=\"__pv_it/f2b440b43eeb1bb27b40db946f695a59a24bee350/expr.png\" style=\"display:inline;vertical-align:middle;\" /></a></span>"
      ],
      "text/plain": [
       "{x} |= x = TRUE"
      ]
     },
     "execution_count": 61,
     "metadata": {},
     "output_type": "execute_result"
    }
   ],
   "source": [
    "Equals(x, TRUE).prove([x])"
   ]
  },
  {
   "cell_type": "code",
   "execution_count": 62,
   "metadata": {},
   "outputs": [
    {
     "data": {
      "text/html": [
       "<span style=\"font-size:20px;\"><a class=\"ProveItLink\" href=\"__pv_it/8e48974820943eb54b692cda5bb573ba84fb05cd0/expr.ipynb\"><img src=\"__pv_it/8e48974820943eb54b692cda5bb573ba84fb05cd0/expr.png\" style=\"display:inline;vertical-align:middle;\" /></a> &#x22A2;&nbsp;<a class=\"ProveItLink\" href=\"__pv_it/89b8ef7281d4359a10fe31ac7163b84a342c70710/expr.ipynb\"><img src=\"__pv_it/89b8ef7281d4359a10fe31ac7163b84a342c70710/expr.png\" style=\"display:inline;vertical-align:middle;\" /></a></span>"
      ],
      "text/plain": [
       "{y} |= TRUE = y"
      ]
     },
     "execution_count": 62,
     "metadata": {},
     "output_type": "execute_result"
    }
   ],
   "source": [
    "Equals(TRUE, y).prove([y])"
   ]
  },
  {
   "cell_type": "code",
   "execution_count": 63,
   "metadata": {},
   "outputs": [
    {
     "data": {
      "text/html": [
       "<span style=\"font-size:20px;\"><a class=\"ProveItLink\" href=\"__pv_it/d7bf05f25865c2c6c2baf87d466f12328f9be97b0/expr.ipynb\"><img src=\"__pv_it/d7bf05f25865c2c6c2baf87d466f12328f9be97b0/expr.png\" style=\"display:inline;vertical-align:middle;\" /></a> &#x22A2;&nbsp;<a class=\"ProveItLink\" href=\"__pv_it/9dda95a8342a9a44c5c66e0dd03d35bfe59930590/expr.ipynb\"><img src=\"__pv_it/9dda95a8342a9a44c5c66e0dd03d35bfe59930590/expr.png\" style=\"display:inline;vertical-align:middle;\" /></a></span>"
      ],
      "text/plain": [
       "{[not](c)} |= c = FALSE"
      ]
     },
     "execution_count": 63,
     "metadata": {},
     "output_type": "execute_result"
    }
   ],
   "source": [
    "Equals(c, FALSE).prove([Not(c)])"
   ]
  },
  {
   "cell_type": "code",
   "execution_count": 64,
   "metadata": {},
   "outputs": [
    {
     "data": {
      "text/html": [
       "<span style=\"font-size:20px;\"><a class=\"ProveItLink\" href=\"__pv_it/d7bf05f25865c2c6c2baf87d466f12328f9be97b0/expr.ipynb\"><img src=\"__pv_it/d7bf05f25865c2c6c2baf87d466f12328f9be97b0/expr.png\" style=\"display:inline;vertical-align:middle;\" /></a> &#x22A2;&nbsp;<a class=\"ProveItLink\" href=\"__pv_it/f97554b835a4e15967c5e62f81031fe23f35addb0/expr.ipynb\"><img src=\"__pv_it/f97554b835a4e15967c5e62f81031fe23f35addb0/expr.png\" style=\"display:inline;vertical-align:middle;\" /></a></span>"
      ],
      "text/plain": [
       "{[not](c)} |= FALSE = c"
      ]
     },
     "execution_count": 64,
     "metadata": {},
     "output_type": "execute_result"
    }
   ],
   "source": [
    "Equals(FALSE, c).prove([Not(c)])"
   ]
  },
  {
   "cell_type": "markdown",
   "metadata": {
    "collapsed": true
   },
   "source": [
    "When something is equal to `FALSE` and known to be true, there is a contradiction.  That is, `FALSE` is a consequence.  The `deriveContradiction` method of `Equals` can be used to prove such a contradiction:"
   ]
  },
  {
   "cell_type": "code",
   "execution_count": 65,
   "metadata": {},
   "outputs": [
    {
     "data": {
      "text/html": [
       "<strong id=\"contradiction\">contradiction:</strong> <span style=\"font-size:20px;\"><a class=\"ProveItLink\" href=\"__pv_it/26b2c0562d028c2059fa53ba3ed3a746ce202b650/expr.ipynb\"><img src=\"__pv_it/26b2c0562d028c2059fa53ba3ed3a746ce202b650/expr.png\" style=\"display:inline;vertical-align:middle;\" /></a> &#x22A2;&nbsp;<a class=\"ProveItLink\" href=\"../boolean/__pv_it/8f1f7fac882de28c72b62ab80a1700b6d8fd066b0/expr.ipynb\"><img src=\"../boolean/__pv_it/8f1f7fac882de28c72b62ab80a1700b6d8fd066b0/expr.png\" style=\"display:inline;vertical-align:middle;\" /></a></span><br>"
      ],
      "text/plain": [
       "contradiction: {a , a = FALSE} |= FALSE"
      ]
     },
     "execution_count": 65,
     "metadata": {},
     "output_type": "execute_result"
    }
   ],
   "source": [
    "contradiction = Equals(a, FALSE).deriveContradiction([a, Equals(a, FALSE)])"
   ]
  },
  {
   "cell_type": "code",
   "execution_count": 66,
   "metadata": {},
   "outputs": [
    {
     "data": {
      "text/html": [
       "<table><tr><th>&nbsp;</th><th>step type</th><th>requirements</th><th>statement</th></tr>\n",
       "<tr><td>0</td><td>specialization</td><td>1, 2, 3</td><td><span style=\"font-size:20px;\"><a class=\"ProveItLink\" href=\"__pv_it/26b2c0562d028c2059fa53ba3ed3a746ce202b650/expr.ipynb\"><img src=\"__pv_it/26b2c0562d028c2059fa53ba3ed3a746ce202b650/expr.png\" style=\"display:inline;vertical-align:middle;\" /></a> &#x22A2;&nbsp;<a class=\"ProveItLink\" href=\"../boolean/__pv_it/8f1f7fac882de28c72b62ab80a1700b6d8fd066b0/expr.ipynb\"><img src=\"../boolean/__pv_it/8f1f7fac882de28c72b62ab80a1700b6d8fd066b0/expr.png\" style=\"display:inline;vertical-align:middle;\" /></a></span></td></tr>\n",
       "<tr><td>&nbsp;</td><td colspan=4 style=\"text-align:left\"><span style=\"font-size:20px;\"><a class=\"ProveItLink\" href=\"../../__pv_it/2cbe72a7ad6f655694dd697106680215e8489b600/expr.ipynb\"><img src=\"../../__pv_it/2cbe72a7ad6f655694dd697106680215e8489b600/expr.png\" style=\"display:inline;vertical-align:middle;\" /></a> : <a class=\"ProveItLink\" href=\"../../__pv_it/07527342713064c87612d00d8557c53d53d5324a0/expr.ipynb\"><img src=\"../../__pv_it/07527342713064c87612d00d8557c53d53d5324a0/expr.png\" style=\"display:inline;vertical-align:middle;\" /></a></span></td></tr><tr><td>1</td><td>theorem</td><td></td><td><span style=\"font-size:20px;\"> &#x22A2;&nbsp;<a class=\"ProveItLink\" href=\"__pv_it/622dc6cff3844eef9daf02074c1d8f1a3ceb86310/expr.ipynb\"><img src=\"__pv_it/622dc6cff3844eef9daf02074c1d8f1a3ceb86310/expr.png\" style=\"display:inline;vertical-align:middle;\" /></a></span></td></tr>\n",
       "<tr><td>&nbsp;</td><td colspan=4 style-\"text-align:left\"><a class=\"ProveItLink\" href=\"_proofs_/contradictionViaFalsification.ipynb\">proveit.logic.equality.contradictionViaFalsification</a></td></tr><tr><td>2</td><td>assumption</td><td></td><td><span style=\"font-size:20px;\"><a class=\"ProveItLink\" href=\"__pv_it/6ec7c6334fca5d7ddc176ef965c890c4e11f3f9e0/expr.ipynb\"><img src=\"__pv_it/6ec7c6334fca5d7ddc176ef965c890c4e11f3f9e0/expr.png\" style=\"display:inline;vertical-align:middle;\" /></a> &#x22A2;&nbsp;<a class=\"ProveItLink\" href=\"../../__pv_it/07527342713064c87612d00d8557c53d53d5324a0/expr.ipynb\"><img src=\"../../__pv_it/07527342713064c87612d00d8557c53d53d5324a0/expr.png\" style=\"display:inline;vertical-align:middle;\" /></a></span></td></tr>\n",
       "<tr><td>3</td><td>assumption</td><td></td><td><span style=\"font-size:20px;\"><a class=\"ProveItLink\" href=\"__pv_it/b736ac674636151fae80ca4e03d8f6f3ed40cad10/expr.ipynb\"><img src=\"__pv_it/b736ac674636151fae80ca4e03d8f6f3ed40cad10/expr.png\" style=\"display:inline;vertical-align:middle;\" /></a> &#x22A2;&nbsp;<a class=\"ProveItLink\" href=\"__pv_it/50944e0c92bbe5b54829eb8505c4edc70fe8102f0/expr.ipynb\"><img src=\"__pv_it/50944e0c92bbe5b54829eb8505c4edc70fe8102f0/expr.png\" style=\"display:inline;vertical-align:middle;\" /></a></span></td></tr>\n",
       "</table>"
      ],
      "text/plain": [
       "\tstep type\trequirements\tstatement\n",
       "0\tspecialization\t1, 2, 3\t{a , a = FALSE} |= FALSE\n",
       "\tA : a\n",
       "1\ttheorem\t\t|= forall_{A | A , A = FALSE} FALSE\n",
       "\tproveit.logic.equality.contradictionViaFalsification\n",
       "2\tassumption\t\t{a} |= a\n",
       "3\tassumption\t\t{a = FALSE} |= a = FALSE"
      ]
     },
     "execution_count": 66,
     "metadata": {},
     "output_type": "execute_result"
    }
   ],
   "source": [
    "contradiction.proof()"
   ]
  },
  {
   "cell_type": "markdown",
   "metadata": {},
   "source": [
    "Contradictions are useful in making contradiction proofs (reductio ad absurdum).  The `affirmViaContradiction` and `denyViaContradiction` methods are useful in making such a proof.  They both use `deriveContradiction`.  For example:"
   ]
  },
  {
   "cell_type": "code",
   "execution_count": 67,
   "metadata": {},
   "outputs": [
    {
     "data": {
      "text/html": [
       "<strong id=\"not_a__truth\">not_a__truth:</strong> <span style=\"font-size:20px;\"><a class=\"ProveItLink\" href=\"__pv_it/4eea70c17861dd319c84b4fa3987b65140e1e8c10/expr.ipynb\"><img src=\"__pv_it/4eea70c17861dd319c84b4fa3987b65140e1e8c10/expr.png\" style=\"display:inline;vertical-align:middle;\" /></a> &#x22A2;&nbsp;<a class=\"ProveItLink\" href=\"__pv_it/90850a12a72aaf97c847e825fb82a6804e84d9be0/expr.ipynb\"><img src=\"__pv_it/90850a12a72aaf97c847e825fb82a6804e84d9be0/expr.png\" style=\"display:inline;vertical-align:middle;\" /></a></span><br>"
      ],
      "text/plain": [
       "not_a__truth: {a => (a = FALSE) , a in BOOLEANS} |= [not](a)"
      ]
     },
     "execution_count": 67,
     "metadata": {},
     "output_type": "execute_result"
    }
   ],
   "source": [
    "from proveit.logic import Implies, inBool\n",
    "not_a__truth = Equals(a, FALSE).affirmViaContradiction(Not(a), [Implies(a, Equals(a, FALSE)), inBool(a)])"
   ]
  },
  {
   "cell_type": "code",
   "execution_count": 68,
   "metadata": {},
   "outputs": [
    {
     "data": {
      "text/plain": [
       "13"
      ]
     },
     "execution_count": 68,
     "metadata": {},
     "output_type": "execute_result"
    }
   ],
   "source": [
    "not_a__truth.proof().numSteps()"
   ]
  },
  {
   "cell_type": "markdown",
   "metadata": {},
   "source": [
    "It is more efficient to use `denyViaContradiction` when proving the negation of something.  Here we prove the same as above but in fewer steps."
   ]
  },
  {
   "cell_type": "code",
   "execution_count": 69,
   "metadata": {},
   "outputs": [
    {
     "data": {
      "text/html": [
       "<strong id=\"not_b__truth\">not_b__truth:</strong> <span style=\"font-size:20px;\"><a class=\"ProveItLink\" href=\"__pv_it/cb50d018cc5454a04d5efa72e9957a5eeb4607590/expr.ipynb\"><img src=\"__pv_it/cb50d018cc5454a04d5efa72e9957a5eeb4607590/expr.png\" style=\"display:inline;vertical-align:middle;\" /></a> &#x22A2;&nbsp;<a class=\"ProveItLink\" href=\"__pv_it/c0fc114fcacc8e9fdeb995863ab29be961e5f4380/expr.ipynb\"><img src=\"__pv_it/c0fc114fcacc8e9fdeb995863ab29be961e5f4380/expr.png\" style=\"display:inline;vertical-align:middle;\" /></a></span><br>"
      ],
      "text/plain": [
       "not_b__truth: {b => (b = FALSE) , b in BOOLEANS} |= [not](b)"
      ]
     },
     "execution_count": 69,
     "metadata": {},
     "output_type": "execute_result"
    }
   ],
   "source": [
    "not_b__truth = Equals(b, FALSE).denyViaContradiction(b, [Implies(b, Equals(b, FALSE)), inBool(b)])"
   ]
  },
  {
   "cell_type": "code",
   "execution_count": 70,
   "metadata": {},
   "outputs": [
    {
     "data": {
      "text/plain": [
       "9"
      ]
     },
     "execution_count": 70,
     "metadata": {},
     "output_type": "execute_result"
    }
   ],
   "source": [
    "not_b__truth.proof().numSteps()"
   ]
  },
  {
   "cell_type": "code",
   "execution_count": 71,
   "metadata": {},
   "outputs": [
    {
     "data": {
      "text/html": [
       "<table><tr><th>&nbsp;</th><th>step type</th><th>requirements</th><th>statement</th></tr>\n",
       "<tr><td>0</td><td>specialization</td><td>1, 2, 3</td><td><span style=\"font-size:20px;\"><a class=\"ProveItLink\" href=\"__pv_it/cb50d018cc5454a04d5efa72e9957a5eeb4607590/expr.ipynb\"><img src=\"__pv_it/cb50d018cc5454a04d5efa72e9957a5eeb4607590/expr.png\" style=\"display:inline;vertical-align:middle;\" /></a> &#x22A2;&nbsp;<a class=\"ProveItLink\" href=\"__pv_it/c0fc114fcacc8e9fdeb995863ab29be961e5f4380/expr.ipynb\"><img src=\"__pv_it/c0fc114fcacc8e9fdeb995863ab29be961e5f4380/expr.png\" style=\"display:inline;vertical-align:middle;\" /></a></span></td></tr>\n",
       "<tr><td>&nbsp;</td><td colspan=4 style=\"text-align:left\"><span style=\"font-size:20px;\"><a class=\"ProveItLink\" href=\"../../__pv_it/2cbe72a7ad6f655694dd697106680215e8489b600/expr.ipynb\"><img src=\"../../__pv_it/2cbe72a7ad6f655694dd697106680215e8489b600/expr.png\" style=\"display:inline;vertical-align:middle;\" /></a> : <a class=\"ProveItLink\" href=\"../../__pv_it/6840a4fa6c106149dc16a131294d0c5e44f1b0480/expr.ipynb\"><img src=\"../../__pv_it/6840a4fa6c106149dc16a131294d0c5e44f1b0480/expr.png\" style=\"display:inline;vertical-align:middle;\" /></a></span></td></tr><tr><td>1</td><td>theorem</td><td></td><td><span style=\"font-size:20px;\"> &#x22A2;&nbsp;<a class=\"ProveItLink\" href=\"../boolean/implication/__pv_it/5c0c21d1bc8cc7b87e4f89fe4cac9b743483fc2d0/expr.ipynb\"><img src=\"../boolean/implication/__pv_it/5c0c21d1bc8cc7b87e4f89fe4cac9b743483fc2d0/expr.png\" style=\"display:inline;vertical-align:middle;\" /></a></span></td></tr>\n",
       "<tr><td>&nbsp;</td><td colspan=4 style-\"text-align:left\"><a class=\"ProveItLink\" href=\"../boolean/implication/_proofs_/denyViaContradiction.ipynb\">proveit.logic.boolean.implication.denyViaContradiction</a></td></tr><tr><td>2</td><td>assumption</td><td></td><td><span style=\"font-size:20px;\"><a class=\"ProveItLink\" href=\"__pv_it/c872bb1489ac46d8b5fa00fab018dde4f4f00dfe0/expr.ipynb\"><img src=\"__pv_it/c872bb1489ac46d8b5fa00fab018dde4f4f00dfe0/expr.png\" style=\"display:inline;vertical-align:middle;\" /></a> &#x22A2;&nbsp;<a class=\"ProveItLink\" href=\"__pv_it/8477265bf595a74efed05a7525bb2e804dc7afe70/expr.ipynb\"><img src=\"__pv_it/8477265bf595a74efed05a7525bb2e804dc7afe70/expr.png\" style=\"display:inline;vertical-align:middle;\" /></a></span></td></tr>\n",
       "<tr><td>3</td><td>hypothetical reasoning</td><td>4</td><td><span style=\"font-size:20px;\"><a class=\"ProveItLink\" href=\"__pv_it/b87d290eb0d1751948edee7f6523af67829356510/expr.ipynb\"><img src=\"__pv_it/b87d290eb0d1751948edee7f6523af67829356510/expr.png\" style=\"display:inline;vertical-align:middle;\" /></a> &#x22A2;&nbsp;<a class=\"ProveItLink\" href=\"__pv_it/a1eaf81bb441167e847be509c52ad8885302216d0/expr.ipynb\"><img src=\"__pv_it/a1eaf81bb441167e847be509c52ad8885302216d0/expr.png\" style=\"display:inline;vertical-align:middle;\" /></a></span></td></tr>\n",
       "<tr><td>4</td><td>specialization</td><td>5, 8, 6</td><td><span style=\"font-size:20px;\"><a class=\"ProveItLink\" href=\"__pv_it/089586e6054731b74c38b3b748e3149b5590ffdb0/expr.ipynb\"><img src=\"__pv_it/089586e6054731b74c38b3b748e3149b5590ffdb0/expr.png\" style=\"display:inline;vertical-align:middle;\" /></a> &#x22A2;&nbsp;<a class=\"ProveItLink\" href=\"../boolean/__pv_it/8f1f7fac882de28c72b62ab80a1700b6d8fd066b0/expr.ipynb\"><img src=\"../boolean/__pv_it/8f1f7fac882de28c72b62ab80a1700b6d8fd066b0/expr.png\" style=\"display:inline;vertical-align:middle;\" /></a></span></td></tr>\n",
       "<tr><td>&nbsp;</td><td colspan=4 style=\"text-align:left\"><span style=\"font-size:20px;\"><a class=\"ProveItLink\" href=\"../../__pv_it/2cbe72a7ad6f655694dd697106680215e8489b600/expr.ipynb\"><img src=\"../../__pv_it/2cbe72a7ad6f655694dd697106680215e8489b600/expr.png\" style=\"display:inline;vertical-align:middle;\" /></a> : <a class=\"ProveItLink\" href=\"../../__pv_it/6840a4fa6c106149dc16a131294d0c5e44f1b0480/expr.ipynb\"><img src=\"../../__pv_it/6840a4fa6c106149dc16a131294d0c5e44f1b0480/expr.png\" style=\"display:inline;vertical-align:middle;\" /></a></span></td></tr><tr><td>5</td><td>theorem</td><td></td><td><span style=\"font-size:20px;\"> &#x22A2;&nbsp;<a class=\"ProveItLink\" href=\"__pv_it/622dc6cff3844eef9daf02074c1d8f1a3ceb86310/expr.ipynb\"><img src=\"__pv_it/622dc6cff3844eef9daf02074c1d8f1a3ceb86310/expr.png\" style=\"display:inline;vertical-align:middle;\" /></a></span></td></tr>\n",
       "<tr><td>&nbsp;</td><td colspan=4 style-\"text-align:left\"><a class=\"ProveItLink\" href=\"_proofs_/contradictionViaFalsification.ipynb\">proveit.logic.equality.contradictionViaFalsification</a></td></tr><tr><td>6</td><td>modus ponens</td><td>7, 8</td><td><span style=\"font-size:20px;\"><a class=\"ProveItLink\" href=\"__pv_it/089586e6054731b74c38b3b748e3149b5590ffdb0/expr.ipynb\"><img src=\"__pv_it/089586e6054731b74c38b3b748e3149b5590ffdb0/expr.png\" style=\"display:inline;vertical-align:middle;\" /></a> &#x22A2;&nbsp;<a class=\"ProveItLink\" href=\"__pv_it/daef701d2fa5b1cdc69cb005afd1d908f1c0f4790/expr.ipynb\"><img src=\"__pv_it/daef701d2fa5b1cdc69cb005afd1d908f1c0f4790/expr.png\" style=\"display:inline;vertical-align:middle;\" /></a></span></td></tr>\n",
       "<tr><td>7</td><td>assumption</td><td></td><td><span style=\"font-size:20px;\"><a class=\"ProveItLink\" href=\"__pv_it/b87d290eb0d1751948edee7f6523af67829356510/expr.ipynb\"><img src=\"__pv_it/b87d290eb0d1751948edee7f6523af67829356510/expr.png\" style=\"display:inline;vertical-align:middle;\" /></a> &#x22A2;&nbsp;<a class=\"ProveItLink\" href=\"__pv_it/e873142180b03b2a7f0612bc8d207e4d961870810/expr.ipynb\"><img src=\"__pv_it/e873142180b03b2a7f0612bc8d207e4d961870810/expr.png\" style=\"display:inline;vertical-align:middle;\" /></a></span></td></tr>\n",
       "<tr><td>8</td><td>assumption</td><td></td><td><span style=\"font-size:20px;\"><a class=\"ProveItLink\" href=\"__pv_it/9a509460e79a2af44e84a4a13e2d27d47c8a96480/expr.ipynb\"><img src=\"__pv_it/9a509460e79a2af44e84a4a13e2d27d47c8a96480/expr.png\" style=\"display:inline;vertical-align:middle;\" /></a> &#x22A2;&nbsp;<a class=\"ProveItLink\" href=\"../../__pv_it/6840a4fa6c106149dc16a131294d0c5e44f1b0480/expr.ipynb\"><img src=\"../../__pv_it/6840a4fa6c106149dc16a131294d0c5e44f1b0480/expr.png\" style=\"display:inline;vertical-align:middle;\" /></a></span></td></tr>\n",
       "</table>"
      ],
      "text/plain": [
       "\tstep type\trequirements\tstatement\n",
       "0\tspecialization\t1, 2, 3\t{b => (b = FALSE) , b in BOOLEANS} |= [not](b)\n",
       "\tA : b\n",
       "1\ttheorem\t\t|= forall_{A in BOOLEANS | A => FALSE} [not](A)\n",
       "\tproveit.logic.boolean.implication.denyViaContradiction\n",
       "2\tassumption\t\t{b in BOOLEANS} |= b in BOOLEANS\n",
       "3\thypothetical reasoning\t4\t{b => (b = FALSE)} |= b => FALSE\n",
       "4\tspecialization\t5, 8, 6\t{b => (b = FALSE) , b} |= FALSE\n",
       "\tA : b\n",
       "5\ttheorem\t\t|= forall_{A | A , A = FALSE} FALSE\n",
       "\tproveit.logic.equality.contradictionViaFalsification\n",
       "6\tmodus ponens\t7, 8\t{b => (b = FALSE) , b} |= b = FALSE\n",
       "7\tassumption\t\t{b => (b = FALSE)} |= b => (b = FALSE)\n",
       "8\tassumption\t\t{b} |= b"
      ]
     },
     "execution_count": 71,
     "metadata": {},
     "output_type": "execute_result"
    }
   ],
   "source": [
    "not_b__truth.proof()"
   ]
  },
  {
   "cell_type": "markdown",
   "metadata": {},
   "source": [
    "## Equality and sets"
   ]
  },
  {
   "cell_type": "markdown",
   "metadata": {},
   "source": [
    "All equality expressions are in the boolean set by the `equalityInBool` axiom.  That is, given any two mathematical objects, they are either equal or not (even nonsense is either the same nonsense or different nonsense)."
   ]
  },
  {
   "cell_type": "code",
   "execution_count": 72,
   "metadata": {},
   "outputs": [
    {
     "data": {
      "text/html": [
       "<strong id=\"eq_in_bool\">eq_in_bool:</strong> <span style=\"font-size:20px;\"> &#x22A2;&nbsp;<a class=\"ProveItLink\" href=\"__pv_it/05ab3e676629738c157340924ce1dde2bf7d6c620/expr.ipynb\"><img src=\"__pv_it/05ab3e676629738c157340924ce1dde2bf7d6c620/expr.png\" style=\"display:inline;vertical-align:middle;\" /></a></span><br>"
      ],
      "text/plain": [
       "eq_in_bool: |= (a = b) in BOOLEANS"
      ]
     },
     "execution_count": 72,
     "metadata": {},
     "output_type": "execute_result"
    }
   ],
   "source": [
    "eq_in_bool = Equals(a, b).deduceInBool()"
   ]
  },
  {
   "cell_type": "code",
   "execution_count": 73,
   "metadata": {},
   "outputs": [
    {
     "data": {
      "text/html": [
       "<table><tr><th>&nbsp;</th><th>step type</th><th>requirements</th><th>statement</th></tr>\n",
       "<tr><td>0</td><td>specialization</td><td>1</td><td><span style=\"font-size:20px;\"> &#x22A2;&nbsp;<a class=\"ProveItLink\" href=\"__pv_it/05ab3e676629738c157340924ce1dde2bf7d6c620/expr.ipynb\"><img src=\"__pv_it/05ab3e676629738c157340924ce1dde2bf7d6c620/expr.png\" style=\"display:inline;vertical-align:middle;\" /></a></span></td></tr>\n",
       "<tr><td>&nbsp;</td><td colspan=4 style=\"text-align:left\"><span style=\"font-size:20px;\"><a class=\"ProveItLink\" href=\"../../__pv_it/530be409e3083890784cf1d7b28c9e67e90af9360/expr.ipynb\"><img src=\"../../__pv_it/530be409e3083890784cf1d7b28c9e67e90af9360/expr.png\" style=\"display:inline;vertical-align:middle;\" /></a> : <a class=\"ProveItLink\" href=\"../../__pv_it/07527342713064c87612d00d8557c53d53d5324a0/expr.ipynb\"><img src=\"../../__pv_it/07527342713064c87612d00d8557c53d53d5324a0/expr.png\" style=\"display:inline;vertical-align:middle;\" /></a>, <a class=\"ProveItLink\" href=\"../../__pv_it/f8b9edf8e16034727f0aad55bb83e392c3db40d40/expr.ipynb\"><img src=\"../../__pv_it/f8b9edf8e16034727f0aad55bb83e392c3db40d40/expr.png\" style=\"display:inline;vertical-align:middle;\" /></a> : <a class=\"ProveItLink\" href=\"../../__pv_it/6840a4fa6c106149dc16a131294d0c5e44f1b0480/expr.ipynb\"><img src=\"../../__pv_it/6840a4fa6c106149dc16a131294d0c5e44f1b0480/expr.png\" style=\"display:inline;vertical-align:middle;\" /></a></span></td></tr><tr><td>1</td><td>axiom</td><td></td><td><span style=\"font-size:20px;\"> &#x22A2;&nbsp;<a class=\"ProveItLink\" href=\"__pv_it/40d65510253ebe9c23b6d82fc4fef69ccf2845ac0/expr.ipynb\"><img src=\"__pv_it/40d65510253ebe9c23b6d82fc4fef69ccf2845ac0/expr.png\" style=\"display:inline;vertical-align:middle;\" /></a></span></td></tr>\n",
       "<tr><td>&nbsp;</td><td colspan=4 style-\"text-align:left\"><a class=\"ProveItLink\" href=\"_axioms_.ipynb#equalityInBool\">proveit.logic.equality.equalityInBool</a></td></tr></table>"
      ],
      "text/plain": [
       "\tstep type\trequirements\tstatement\n",
       "0\tspecialization\t1\t|= (a = b) in BOOLEANS\n",
       "\tx : a, y : b\n",
       "1\taxiom\t\t|= forall_{x, y} ((x = y) in BOOLEANS)\n",
       "\tproveit.logic.equality.equalityInBool"
      ]
     },
     "execution_count": 73,
     "metadata": {},
     "output_type": "execute_result"
    }
   ],
   "source": [
    "eq_in_bool.proof()"
   ]
  },
  {
   "cell_type": "markdown",
   "metadata": {},
   "source": [
    "A singleton is a set with one element.  If $x=c$, then $x$ is in the singleton set of $\\{c\\}$:"
   ]
  },
  {
   "cell_type": "code",
   "execution_count": 74,
   "metadata": {},
   "outputs": [
    {
     "data": {
      "text/html": [
       "<strong id=\"in_singleton_truth\">in_singleton_truth:</strong> <span style=\"font-size:20px;\"><a class=\"ProveItLink\" href=\"__pv_it/d49a6d93cbce6ede4bb49944c518686d8179e30f0/expr.ipynb\"><img src=\"__pv_it/d49a6d93cbce6ede4bb49944c518686d8179e30f0/expr.png\" style=\"display:inline;vertical-align:middle;\" /></a> &#x22A2;&nbsp;<a class=\"ProveItLink\" href=\"__pv_it/f844542441609a35db29a22e071cf6275f544ca30/expr.ipynb\"><img src=\"__pv_it/f844542441609a35db29a22e071cf6275f544ca30/expr.png\" style=\"display:inline;vertical-align:middle;\" /></a></span><br>"
      ],
      "text/plain": [
       "in_singleton_truth: {x = c} |= x in {c}"
      ]
     },
     "execution_count": 74,
     "metadata": {},
     "output_type": "execute_result"
    }
   ],
   "source": [
    "in_singleton_truth = Equals(x, c).deriveIsInSingleton([Equals(x, c)])"
   ]
  },
  {
   "cell_type": "code",
   "execution_count": 75,
   "metadata": {},
   "outputs": [
    {
     "data": {
      "text/html": [
       "<table><tr><th>&nbsp;</th><th>step type</th><th>requirements</th><th>statement</th></tr>\n",
       "<tr><td>0</td><td>specialization</td><td>1, 2</td><td><span style=\"font-size:20px;\"><a class=\"ProveItLink\" href=\"__pv_it/d49a6d93cbce6ede4bb49944c518686d8179e30f0/expr.ipynb\"><img src=\"__pv_it/d49a6d93cbce6ede4bb49944c518686d8179e30f0/expr.png\" style=\"display:inline;vertical-align:middle;\" /></a> &#x22A2;&nbsp;<a class=\"ProveItLink\" href=\"__pv_it/f844542441609a35db29a22e071cf6275f544ca30/expr.ipynb\"><img src=\"__pv_it/f844542441609a35db29a22e071cf6275f544ca30/expr.png\" style=\"display:inline;vertical-align:middle;\" /></a></span></td></tr>\n",
       "<tr><td>&nbsp;</td><td colspan=4 style=\"text-align:left\"><span style=\"font-size:20px;\"><a class=\"ProveItLink\" href=\"../../__pv_it/530be409e3083890784cf1d7b28c9e67e90af9360/expr.ipynb\"><img src=\"../../__pv_it/530be409e3083890784cf1d7b28c9e67e90af9360/expr.png\" style=\"display:inline;vertical-align:middle;\" /></a> : <a class=\"ProveItLink\" href=\"../../__pv_it/530be409e3083890784cf1d7b28c9e67e90af9360/expr.ipynb\"><img src=\"../../__pv_it/530be409e3083890784cf1d7b28c9e67e90af9360/expr.png\" style=\"display:inline;vertical-align:middle;\" /></a>, <a class=\"ProveItLink\" href=\"../../__pv_it/f8b9edf8e16034727f0aad55bb83e392c3db40d40/expr.ipynb\"><img src=\"../../__pv_it/f8b9edf8e16034727f0aad55bb83e392c3db40d40/expr.png\" style=\"display:inline;vertical-align:middle;\" /></a> : <a class=\"ProveItLink\" href=\"../../__pv_it/cbdfda466482236edba0ce44ac7ef39cda0af7a40/expr.ipynb\"><img src=\"../../__pv_it/cbdfda466482236edba0ce44ac7ef39cda0af7a40/expr.png\" style=\"display:inline;vertical-align:middle;\" /></a></span></td></tr><tr><td>1</td><td>theorem</td><td></td><td><span style=\"font-size:20px;\"> &#x22A2;&nbsp;<a class=\"ProveItLink\" href=\"../set_theory/enumeration/__pv_it/5656aeccae9978f2b79d09cef4a620d80b2026680/expr.ipynb\"><img src=\"../set_theory/enumeration/__pv_it/5656aeccae9978f2b79d09cef4a620d80b2026680/expr.png\" style=\"display:inline;vertical-align:middle;\" /></a></span></td></tr>\n",
       "<tr><td>&nbsp;</td><td colspan=4 style-\"text-align:left\"><a class=\"ProveItLink\" href=\"../set_theory/enumeration/_proofs_/foldSingleton.ipynb\">proveit.logic.set_theory.enumeration.foldSingleton</a></td></tr><tr><td>2</td><td>assumption</td><td></td><td><span style=\"font-size:20px;\"><a class=\"ProveItLink\" href=\"__pv_it/d49a6d93cbce6ede4bb49944c518686d8179e30f0/expr.ipynb\"><img src=\"__pv_it/d49a6d93cbce6ede4bb49944c518686d8179e30f0/expr.png\" style=\"display:inline;vertical-align:middle;\" /></a> &#x22A2;&nbsp;<a class=\"ProveItLink\" href=\"__pv_it/4c61211eacd762b71c51a244694e54d0e828fdb90/expr.ipynb\"><img src=\"__pv_it/4c61211eacd762b71c51a244694e54d0e828fdb90/expr.png\" style=\"display:inline;vertical-align:middle;\" /></a></span></td></tr>\n",
       "</table>"
      ],
      "text/plain": [
       "\tstep type\trequirements\tstatement\n",
       "0\tspecialization\t1, 2\t{x = c} |= x in {c}\n",
       "\tx : x, y : c\n",
       "1\ttheorem\t\t|= forall_{x, y | x = y} (x in {y})\n",
       "\tproveit.logic.set_theory.enumeration.foldSingleton\n",
       "2\tassumption\t\t{x = c} |= x = c"
      ]
     },
     "execution_count": 75,
     "metadata": {},
     "output_type": "execute_result"
    }
   ],
   "source": [
    "in_singleton_truth.proof()"
   ]
  },
  {
   "cell_type": "markdown",
   "metadata": {
    "collapsed": true
   },
   "source": [
    "## Not equals\n",
    "\n",
    "The `NotEquals` operation is a more way of expressing that two mathematical objects are not equal to each other."
   ]
  },
  {
   "cell_type": "code",
   "execution_count": 76,
   "metadata": {},
   "outputs": [],
   "source": [
    "from proveit.logic import NotEquals"
   ]
  },
  {
   "cell_type": "code",
   "execution_count": 77,
   "metadata": {},
   "outputs": [
    {
     "data": {
      "text/html": [
       "<strong id=\"a_neq_b\">a_neq_b:</strong> <a class=\"ProveItLink\" href=\"__pv_it/0cd4501e2b69acdc3cd59512a6bec987a01a9e390/expr.ipynb\"><img src=\"__pv_it/0cd4501e2b69acdc3cd59512a6bec987a01a9e390/expr.png\" style=\"display:inline;vertical-align:middle;\" /></a><br>"
      ],
      "text/plain": [
       "a_neq_b: a != b"
      ]
     },
     "execution_count": 77,
     "metadata": {},
     "output_type": "execute_result"
    }
   ],
   "source": [
    "a_neq_b = NotEquals(a, b)"
   ]
  },
  {
   "cell_type": "code",
   "execution_count": 78,
   "metadata": {},
   "outputs": [
    {
     "data": {
      "text/html": [
       "<span style=\"font-size:20px;\"> &#x22A2;&nbsp;<a class=\"ProveItLink\" href=\"__pv_it/604314db22c454bcd5db83e9a8c8d5a39750b9bd0/expr.ipynb\"><img src=\"__pv_it/604314db22c454bcd5db83e9a8c8d5a39750b9bd0/expr.png\" style=\"display:inline;vertical-align:middle;\" /></a></span>"
      ],
      "text/plain": [
       "|= (a != b) = [not](a = b)"
      ]
     },
     "execution_count": 78,
     "metadata": {},
     "output_type": "execute_result"
    }
   ],
   "source": [
    "a_neq_b.definition()"
   ]
  },
  {
   "cell_type": "code",
   "execution_count": 79,
   "metadata": {},
   "outputs": [
    {
     "data": {
      "text/html": [
       "<table><tr><th>&nbsp;</th><th>step type</th><th>requirements</th><th>statement</th></tr>\n",
       "<tr><td>0</td><td>specialization</td><td>1</td><td><span style=\"font-size:20px;\"> &#x22A2;&nbsp;<a class=\"ProveItLink\" href=\"__pv_it/604314db22c454bcd5db83e9a8c8d5a39750b9bd0/expr.ipynb\"><img src=\"__pv_it/604314db22c454bcd5db83e9a8c8d5a39750b9bd0/expr.png\" style=\"display:inline;vertical-align:middle;\" /></a></span></td></tr>\n",
       "<tr><td>&nbsp;</td><td colspan=4 style=\"text-align:left\"><span style=\"font-size:20px;\"><a class=\"ProveItLink\" href=\"../../__pv_it/530be409e3083890784cf1d7b28c9e67e90af9360/expr.ipynb\"><img src=\"../../__pv_it/530be409e3083890784cf1d7b28c9e67e90af9360/expr.png\" style=\"display:inline;vertical-align:middle;\" /></a> : <a class=\"ProveItLink\" href=\"../../__pv_it/07527342713064c87612d00d8557c53d53d5324a0/expr.ipynb\"><img src=\"../../__pv_it/07527342713064c87612d00d8557c53d53d5324a0/expr.png\" style=\"display:inline;vertical-align:middle;\" /></a>, <a class=\"ProveItLink\" href=\"../../__pv_it/f8b9edf8e16034727f0aad55bb83e392c3db40d40/expr.ipynb\"><img src=\"../../__pv_it/f8b9edf8e16034727f0aad55bb83e392c3db40d40/expr.png\" style=\"display:inline;vertical-align:middle;\" /></a> : <a class=\"ProveItLink\" href=\"../../__pv_it/6840a4fa6c106149dc16a131294d0c5e44f1b0480/expr.ipynb\"><img src=\"../../__pv_it/6840a4fa6c106149dc16a131294d0c5e44f1b0480/expr.png\" style=\"display:inline;vertical-align:middle;\" /></a></span></td></tr><tr><td>1</td><td>axiom</td><td></td><td><span style=\"font-size:20px;\"> &#x22A2;&nbsp;<a class=\"ProveItLink\" href=\"__pv_it/747473aebdbfaacc6f281548551f52b9ec3328dc0/expr.ipynb\"><img src=\"__pv_it/747473aebdbfaacc6f281548551f52b9ec3328dc0/expr.png\" style=\"display:inline;vertical-align:middle;\" /></a></span></td></tr>\n",
       "<tr><td>&nbsp;</td><td colspan=4 style-\"text-align:left\"><a class=\"ProveItLink\" href=\"_axioms_.ipynb#notEqualsDef\">proveit.logic.equality.notEqualsDef</a></td></tr></table>"
      ],
      "text/plain": [
       "\tstep type\trequirements\tstatement\n",
       "0\tspecialization\t1\t|= (a != b) = [not](a = b)\n",
       "\tx : a, y : b\n",
       "1\taxiom\t\t|= forall_{x, y} ((x != y) = [not](x = y))\n",
       "\tproveit.logic.equality.notEqualsDef"
      ]
     },
     "execution_count": 79,
     "metadata": {},
     "output_type": "execute_result"
    }
   ],
   "source": [
    "a_neq_b.definition().proof()"
   ]
  },
  {
   "cell_type": "markdown",
   "metadata": {},
   "source": [
    "From $\\lnot (a = b)$ one can derive $a \\neq b$ and vice-versa, folding and unfolding the `NotEquals`."
   ]
  },
  {
   "cell_type": "code",
   "execution_count": 80,
   "metadata": {},
   "outputs": [
    {
     "data": {
      "text/html": [
       "<span style=\"font-size:20px;\"><a class=\"ProveItLink\" href=\"__pv_it/c38e227e714a5afa00b1fc2b078fbceefca17dd50/expr.ipynb\"><img src=\"__pv_it/c38e227e714a5afa00b1fc2b078fbceefca17dd50/expr.png\" style=\"display:inline;vertical-align:middle;\" /></a> &#x22A2;&nbsp;<a class=\"ProveItLink\" href=\"__pv_it/0cd4501e2b69acdc3cd59512a6bec987a01a9e390/expr.ipynb\"><img src=\"__pv_it/0cd4501e2b69acdc3cd59512a6bec987a01a9e390/expr.png\" style=\"display:inline;vertical-align:middle;\" /></a></span>"
      ],
      "text/plain": [
       "{[not](a = b)} |= a != b"
      ]
     },
     "execution_count": 80,
     "metadata": {},
     "output_type": "execute_result"
    }
   ],
   "source": [
    "a_neq_b.prove([Not(a_eq_b)])"
   ]
  },
  {
   "cell_type": "code",
   "execution_count": 81,
   "metadata": {},
   "outputs": [
    {
     "data": {
      "text/html": [
       "<table><tr><th>&nbsp;</th><th>step type</th><th>requirements</th><th>statement</th></tr>\n",
       "<tr><td>0</td><td>specialization</td><td>1, 2</td><td><span style=\"font-size:20px;\"><a class=\"ProveItLink\" href=\"__pv_it/c38e227e714a5afa00b1fc2b078fbceefca17dd50/expr.ipynb\"><img src=\"__pv_it/c38e227e714a5afa00b1fc2b078fbceefca17dd50/expr.png\" style=\"display:inline;vertical-align:middle;\" /></a> &#x22A2;&nbsp;<a class=\"ProveItLink\" href=\"__pv_it/0cd4501e2b69acdc3cd59512a6bec987a01a9e390/expr.ipynb\"><img src=\"__pv_it/0cd4501e2b69acdc3cd59512a6bec987a01a9e390/expr.png\" style=\"display:inline;vertical-align:middle;\" /></a></span></td></tr>\n",
       "<tr><td>&nbsp;</td><td colspan=4 style=\"text-align:left\"><span style=\"font-size:20px;\"><a class=\"ProveItLink\" href=\"../../__pv_it/530be409e3083890784cf1d7b28c9e67e90af9360/expr.ipynb\"><img src=\"../../__pv_it/530be409e3083890784cf1d7b28c9e67e90af9360/expr.png\" style=\"display:inline;vertical-align:middle;\" /></a> : <a class=\"ProveItLink\" href=\"../../__pv_it/07527342713064c87612d00d8557c53d53d5324a0/expr.ipynb\"><img src=\"../../__pv_it/07527342713064c87612d00d8557c53d53d5324a0/expr.png\" style=\"display:inline;vertical-align:middle;\" /></a>, <a class=\"ProveItLink\" href=\"../../__pv_it/f8b9edf8e16034727f0aad55bb83e392c3db40d40/expr.ipynb\"><img src=\"../../__pv_it/f8b9edf8e16034727f0aad55bb83e392c3db40d40/expr.png\" style=\"display:inline;vertical-align:middle;\" /></a> : <a class=\"ProveItLink\" href=\"../../__pv_it/6840a4fa6c106149dc16a131294d0c5e44f1b0480/expr.ipynb\"><img src=\"../../__pv_it/6840a4fa6c106149dc16a131294d0c5e44f1b0480/expr.png\" style=\"display:inline;vertical-align:middle;\" /></a></span></td></tr><tr><td>1</td><td>theorem</td><td></td><td><span style=\"font-size:20px;\"> &#x22A2;&nbsp;<a class=\"ProveItLink\" href=\"__pv_it/f22f818b9ba5ce85e3c678921cf0769fdf9ccf4d0/expr.ipynb\"><img src=\"__pv_it/f22f818b9ba5ce85e3c678921cf0769fdf9ccf4d0/expr.png\" style=\"display:inline;vertical-align:middle;\" /></a></span></td></tr>\n",
       "<tr><td>&nbsp;</td><td colspan=4 style-\"text-align:left\"><a class=\"ProveItLink\" href=\"_proofs_/foldNotEquals.ipynb\">proveit.logic.equality.foldNotEquals</a></td></tr><tr><td>2</td><td>assumption</td><td></td><td><span style=\"font-size:20px;\"><a class=\"ProveItLink\" href=\"__pv_it/c38e227e714a5afa00b1fc2b078fbceefca17dd50/expr.ipynb\"><img src=\"__pv_it/c38e227e714a5afa00b1fc2b078fbceefca17dd50/expr.png\" style=\"display:inline;vertical-align:middle;\" /></a> &#x22A2;&nbsp;<a class=\"ProveItLink\" href=\"__pv_it/d7baf88daa028556e4b14d519fad787aaaa3c9a30/expr.ipynb\"><img src=\"__pv_it/d7baf88daa028556e4b14d519fad787aaaa3c9a30/expr.png\" style=\"display:inline;vertical-align:middle;\" /></a></span></td></tr>\n",
       "</table>"
      ],
      "text/plain": [
       "\tstep type\trequirements\tstatement\n",
       "0\tspecialization\t1, 2\t{[not](a = b)} |= a != b\n",
       "\tx : a, y : b\n",
       "1\ttheorem\t\t|= forall_{x, y | [not](x = y)} (x != y)\n",
       "\tproveit.logic.equality.foldNotEquals\n",
       "2\tassumption\t\t{[not](a = b)} |= [not](a = b)"
      ]
     },
     "execution_count": 81,
     "metadata": {},
     "output_type": "execute_result"
    }
   ],
   "source": [
    "a_neq_b.prove([Not(a_eq_b)]).proof()"
   ]
  },
  {
   "cell_type": "code",
   "execution_count": 82,
   "metadata": {},
   "outputs": [
    {
     "data": {
      "text/html": [
       "<span style=\"font-size:20px;\"><a class=\"ProveItLink\" href=\"__pv_it/4509b633ca8fafa271074de8ed570e61fda4aea00/expr.ipynb\"><img src=\"__pv_it/4509b633ca8fafa271074de8ed570e61fda4aea00/expr.png\" style=\"display:inline;vertical-align:middle;\" /></a> &#x22A2;&nbsp;<a class=\"ProveItLink\" href=\"__pv_it/d7baf88daa028556e4b14d519fad787aaaa3c9a30/expr.ipynb\"><img src=\"__pv_it/d7baf88daa028556e4b14d519fad787aaaa3c9a30/expr.png\" style=\"display:inline;vertical-align:middle;\" /></a></span>"
      ],
      "text/plain": [
       "{a != b} |= [not](a = b)"
      ]
     },
     "execution_count": 82,
     "metadata": {},
     "output_type": "execute_result"
    }
   ],
   "source": [
    "Not(a_eq_b).prove([a_neq_b])"
   ]
  },
  {
   "cell_type": "code",
   "execution_count": 83,
   "metadata": {},
   "outputs": [
    {
     "data": {
      "text/html": [
       "<table><tr><th>&nbsp;</th><th>step type</th><th>requirements</th><th>statement</th></tr>\n",
       "<tr><td>0</td><td>specialization</td><td>1, 2</td><td><span style=\"font-size:20px;\"><a class=\"ProveItLink\" href=\"__pv_it/4509b633ca8fafa271074de8ed570e61fda4aea00/expr.ipynb\"><img src=\"__pv_it/4509b633ca8fafa271074de8ed570e61fda4aea00/expr.png\" style=\"display:inline;vertical-align:middle;\" /></a> &#x22A2;&nbsp;<a class=\"ProveItLink\" href=\"__pv_it/d7baf88daa028556e4b14d519fad787aaaa3c9a30/expr.ipynb\"><img src=\"__pv_it/d7baf88daa028556e4b14d519fad787aaaa3c9a30/expr.png\" style=\"display:inline;vertical-align:middle;\" /></a></span></td></tr>\n",
       "<tr><td>&nbsp;</td><td colspan=4 style=\"text-align:left\"><span style=\"font-size:20px;\"><a class=\"ProveItLink\" href=\"../../__pv_it/530be409e3083890784cf1d7b28c9e67e90af9360/expr.ipynb\"><img src=\"../../__pv_it/530be409e3083890784cf1d7b28c9e67e90af9360/expr.png\" style=\"display:inline;vertical-align:middle;\" /></a> : <a class=\"ProveItLink\" href=\"../../__pv_it/07527342713064c87612d00d8557c53d53d5324a0/expr.ipynb\"><img src=\"../../__pv_it/07527342713064c87612d00d8557c53d53d5324a0/expr.png\" style=\"display:inline;vertical-align:middle;\" /></a>, <a class=\"ProveItLink\" href=\"../../__pv_it/f8b9edf8e16034727f0aad55bb83e392c3db40d40/expr.ipynb\"><img src=\"../../__pv_it/f8b9edf8e16034727f0aad55bb83e392c3db40d40/expr.png\" style=\"display:inline;vertical-align:middle;\" /></a> : <a class=\"ProveItLink\" href=\"../../__pv_it/6840a4fa6c106149dc16a131294d0c5e44f1b0480/expr.ipynb\"><img src=\"../../__pv_it/6840a4fa6c106149dc16a131294d0c5e44f1b0480/expr.png\" style=\"display:inline;vertical-align:middle;\" /></a></span></td></tr><tr><td>1</td><td>theorem</td><td></td><td><span style=\"font-size:20px;\"> &#x22A2;&nbsp;<a class=\"ProveItLink\" href=\"__pv_it/bcabcb85241bffa03b17eb193708721b3448e0000/expr.ipynb\"><img src=\"__pv_it/bcabcb85241bffa03b17eb193708721b3448e0000/expr.png\" style=\"display:inline;vertical-align:middle;\" /></a></span></td></tr>\n",
       "<tr><td>&nbsp;</td><td colspan=4 style-\"text-align:left\"><a class=\"ProveItLink\" href=\"_proofs_/unfoldNotEquals.ipynb\">proveit.logic.equality.unfoldNotEquals</a></td></tr><tr><td>2</td><td>assumption</td><td></td><td><span style=\"font-size:20px;\"><a class=\"ProveItLink\" href=\"__pv_it/4509b633ca8fafa271074de8ed570e61fda4aea00/expr.ipynb\"><img src=\"__pv_it/4509b633ca8fafa271074de8ed570e61fda4aea00/expr.png\" style=\"display:inline;vertical-align:middle;\" /></a> &#x22A2;&nbsp;<a class=\"ProveItLink\" href=\"__pv_it/0cd4501e2b69acdc3cd59512a6bec987a01a9e390/expr.ipynb\"><img src=\"__pv_it/0cd4501e2b69acdc3cd59512a6bec987a01a9e390/expr.png\" style=\"display:inline;vertical-align:middle;\" /></a></span></td></tr>\n",
       "</table>"
      ],
      "text/plain": [
       "\tstep type\trequirements\tstatement\n",
       "0\tspecialization\t1, 2\t{a != b} |= [not](a = b)\n",
       "\tx : a, y : b\n",
       "1\ttheorem\t\t|= forall_{x, y | x != y} [not](x = y)\n",
       "\tproveit.logic.equality.unfoldNotEquals\n",
       "2\tassumption\t\t{a != b} |= a != b"
      ]
     },
     "execution_count": 83,
     "metadata": {},
     "output_type": "execute_result"
    }
   ],
   "source": [
    "Not(a_eq_b).prove([a_neq_b]).proof()"
   ]
  },
  {
   "cell_type": "markdown",
   "metadata": {},
   "source": [
    "`NotEquals` also has a symmetry property which can be applied directly.  It can be proven  through automation."
   ]
  },
  {
   "cell_type": "code",
   "execution_count": 84,
   "metadata": {},
   "outputs": [
    {
     "data": {
      "text/html": [
       "<span style=\"font-size:20px;\"><a class=\"ProveItLink\" href=\"__pv_it/4509b633ca8fafa271074de8ed570e61fda4aea00/expr.ipynb\"><img src=\"__pv_it/4509b633ca8fafa271074de8ed570e61fda4aea00/expr.png\" style=\"display:inline;vertical-align:middle;\" /></a> &#x22A2;&nbsp;<a class=\"ProveItLink\" href=\"__pv_it/06f49b2b3ba72c630bf414006c9169ac91bc8e990/expr.ipynb\"><img src=\"__pv_it/06f49b2b3ba72c630bf414006c9169ac91bc8e990/expr.png\" style=\"display:inline;vertical-align:middle;\" /></a></span>"
      ],
      "text/plain": [
       "{a != b} |= b != a"
      ]
     },
     "execution_count": 84,
     "metadata": {},
     "output_type": "execute_result"
    }
   ],
   "source": [
    "NotEquals(b, a).prove([a_neq_b])"
   ]
  },
  {
   "cell_type": "markdown",
   "metadata": {},
   "source": [
    "Or explicitly via `deriveReversed`"
   ]
  },
  {
   "cell_type": "code",
   "execution_count": 85,
   "metadata": {},
   "outputs": [
    {
     "data": {
      "text/html": [
       "<table><tr><th>&nbsp;</th><th>step type</th><th>requirements</th><th>statement</th></tr>\n",
       "<tr><td>0</td><td>specialization</td><td>1, 2</td><td><span style=\"font-size:20px;\"><a class=\"ProveItLink\" href=\"__pv_it/4509b633ca8fafa271074de8ed570e61fda4aea00/expr.ipynb\"><img src=\"__pv_it/4509b633ca8fafa271074de8ed570e61fda4aea00/expr.png\" style=\"display:inline;vertical-align:middle;\" /></a> &#x22A2;&nbsp;<a class=\"ProveItLink\" href=\"__pv_it/06f49b2b3ba72c630bf414006c9169ac91bc8e990/expr.ipynb\"><img src=\"__pv_it/06f49b2b3ba72c630bf414006c9169ac91bc8e990/expr.png\" style=\"display:inline;vertical-align:middle;\" /></a></span></td></tr>\n",
       "<tr><td>&nbsp;</td><td colspan=4 style=\"text-align:left\"><span style=\"font-size:20px;\"><a class=\"ProveItLink\" href=\"../../__pv_it/530be409e3083890784cf1d7b28c9e67e90af9360/expr.ipynb\"><img src=\"../../__pv_it/530be409e3083890784cf1d7b28c9e67e90af9360/expr.png\" style=\"display:inline;vertical-align:middle;\" /></a> : <a class=\"ProveItLink\" href=\"../../__pv_it/07527342713064c87612d00d8557c53d53d5324a0/expr.ipynb\"><img src=\"../../__pv_it/07527342713064c87612d00d8557c53d53d5324a0/expr.png\" style=\"display:inline;vertical-align:middle;\" /></a>, <a class=\"ProveItLink\" href=\"../../__pv_it/f8b9edf8e16034727f0aad55bb83e392c3db40d40/expr.ipynb\"><img src=\"../../__pv_it/f8b9edf8e16034727f0aad55bb83e392c3db40d40/expr.png\" style=\"display:inline;vertical-align:middle;\" /></a> : <a class=\"ProveItLink\" href=\"../../__pv_it/6840a4fa6c106149dc16a131294d0c5e44f1b0480/expr.ipynb\"><img src=\"../../__pv_it/6840a4fa6c106149dc16a131294d0c5e44f1b0480/expr.png\" style=\"display:inline;vertical-align:middle;\" /></a></span></td></tr><tr><td>1</td><td>theorem</td><td></td><td><span style=\"font-size:20px;\"> &#x22A2;&nbsp;<a class=\"ProveItLink\" href=\"__pv_it/d197a4f4c1304c5493cc2a9e1d7e8a13c625430e0/expr.ipynb\"><img src=\"__pv_it/d197a4f4c1304c5493cc2a9e1d7e8a13c625430e0/expr.png\" style=\"display:inline;vertical-align:middle;\" /></a></span></td></tr>\n",
       "<tr><td>&nbsp;</td><td colspan=4 style-\"text-align:left\"><a class=\"ProveItLink\" href=\"_proofs_/notEqualsSymmetry.ipynb\">proveit.logic.equality.notEqualsSymmetry</a></td></tr><tr><td>2</td><td>assumption</td><td></td><td><span style=\"font-size:20px;\"><a class=\"ProveItLink\" href=\"__pv_it/4509b633ca8fafa271074de8ed570e61fda4aea00/expr.ipynb\"><img src=\"__pv_it/4509b633ca8fafa271074de8ed570e61fda4aea00/expr.png\" style=\"display:inline;vertical-align:middle;\" /></a> &#x22A2;&nbsp;<a class=\"ProveItLink\" href=\"__pv_it/0cd4501e2b69acdc3cd59512a6bec987a01a9e390/expr.ipynb\"><img src=\"__pv_it/0cd4501e2b69acdc3cd59512a6bec987a01a9e390/expr.png\" style=\"display:inline;vertical-align:middle;\" /></a></span></td></tr>\n",
       "</table>"
      ],
      "text/plain": [
       "\tstep type\trequirements\tstatement\n",
       "0\tspecialization\t1, 2\t{a != b} |= b != a\n",
       "\tx : a, y : b\n",
       "1\ttheorem\t\t|= forall_{x, y | x != y} (y != x)\n",
       "\tproveit.logic.equality.notEqualsSymmetry\n",
       "2\tassumption\t\t{a != b} |= a != b"
      ]
     },
     "execution_count": 85,
     "metadata": {},
     "output_type": "execute_result"
    }
   ],
   "source": [
    "a_neq_b.prove([a_neq_b]).deriveReversed().proof()"
   ]
  },
  {
   "cell_type": "markdown",
   "metadata": {},
   "source": [
    "If two objects are both equal and not equal, there is a contradiction."
   ]
  },
  {
   "cell_type": "code",
   "execution_count": 86,
   "metadata": {},
   "outputs": [
    {
     "data": {
      "text/html": [
       "<strong id=\"neq_contradiction\">neq_contradiction:</strong> <span style=\"font-size:20px;\"><a class=\"ProveItLink\" href=\"__pv_it/8b9e99397ae3465ce3694f6c8505a7db81069ee70/expr.ipynb\"><img src=\"__pv_it/8b9e99397ae3465ce3694f6c8505a7db81069ee70/expr.png\" style=\"display:inline;vertical-align:middle;\" /></a> &#x22A2;&nbsp;<a class=\"ProveItLink\" href=\"../boolean/__pv_it/8f1f7fac882de28c72b62ab80a1700b6d8fd066b0/expr.ipynb\"><img src=\"../boolean/__pv_it/8f1f7fac882de28c72b62ab80a1700b6d8fd066b0/expr.png\" style=\"display:inline;vertical-align:middle;\" /></a></span><br>"
      ],
      "text/plain": [
       "neq_contradiction: {a != b , a = b} |= FALSE"
      ]
     },
     "execution_count": 86,
     "metadata": {},
     "output_type": "execute_result"
    }
   ],
   "source": [
    "neq_contradiction = a_neq_b.deriveContradiction([a_neq_b, a_eq_b])"
   ]
  },
  {
   "cell_type": "code",
   "execution_count": 87,
   "metadata": {},
   "outputs": [
    {
     "data": {
      "text/html": [
       "<table><tr><th>&nbsp;</th><th>step type</th><th>requirements</th><th>statement</th></tr>\n",
       "<tr><td>0</td><td>specialization</td><td>1, 2, 3</td><td><span style=\"font-size:20px;\"><a class=\"ProveItLink\" href=\"__pv_it/8b9e99397ae3465ce3694f6c8505a7db81069ee70/expr.ipynb\"><img src=\"__pv_it/8b9e99397ae3465ce3694f6c8505a7db81069ee70/expr.png\" style=\"display:inline;vertical-align:middle;\" /></a> &#x22A2;&nbsp;<a class=\"ProveItLink\" href=\"../boolean/__pv_it/8f1f7fac882de28c72b62ab80a1700b6d8fd066b0/expr.ipynb\"><img src=\"../boolean/__pv_it/8f1f7fac882de28c72b62ab80a1700b6d8fd066b0/expr.png\" style=\"display:inline;vertical-align:middle;\" /></a></span></td></tr>\n",
       "<tr><td>&nbsp;</td><td colspan=4 style=\"text-align:left\"><span style=\"font-size:20px;\"><a class=\"ProveItLink\" href=\"../../__pv_it/530be409e3083890784cf1d7b28c9e67e90af9360/expr.ipynb\"><img src=\"../../__pv_it/530be409e3083890784cf1d7b28c9e67e90af9360/expr.png\" style=\"display:inline;vertical-align:middle;\" /></a> : <a class=\"ProveItLink\" href=\"../../__pv_it/07527342713064c87612d00d8557c53d53d5324a0/expr.ipynb\"><img src=\"../../__pv_it/07527342713064c87612d00d8557c53d53d5324a0/expr.png\" style=\"display:inline;vertical-align:middle;\" /></a>, <a class=\"ProveItLink\" href=\"../../__pv_it/f8b9edf8e16034727f0aad55bb83e392c3db40d40/expr.ipynb\"><img src=\"../../__pv_it/f8b9edf8e16034727f0aad55bb83e392c3db40d40/expr.png\" style=\"display:inline;vertical-align:middle;\" /></a> : <a class=\"ProveItLink\" href=\"../../__pv_it/6840a4fa6c106149dc16a131294d0c5e44f1b0480/expr.ipynb\"><img src=\"../../__pv_it/6840a4fa6c106149dc16a131294d0c5e44f1b0480/expr.png\" style=\"display:inline;vertical-align:middle;\" /></a></span></td></tr><tr><td>1</td><td>theorem</td><td></td><td><span style=\"font-size:20px;\"> &#x22A2;&nbsp;<a class=\"ProveItLink\" href=\"__pv_it/18f3ac17ac616a5b476935df168256b420b608340/expr.ipynb\"><img src=\"__pv_it/18f3ac17ac616a5b476935df168256b420b608340/expr.png\" style=\"display:inline;vertical-align:middle;\" /></a></span></td></tr>\n",
       "<tr><td>&nbsp;</td><td colspan=4 style-\"text-align:left\"><a class=\"ProveItLink\" href=\"_proofs_/notEqualsContradiction.ipynb\">proveit.logic.equality.notEqualsContradiction</a></td></tr><tr><td>2</td><td>assumption</td><td></td><td><span style=\"font-size:20px;\"><a class=\"ProveItLink\" href=\"__pv_it/9a724a840da69db769df0955d76ff3271a0c93ad0/expr.ipynb\"><img src=\"__pv_it/9a724a840da69db769df0955d76ff3271a0c93ad0/expr.png\" style=\"display:inline;vertical-align:middle;\" /></a> &#x22A2;&nbsp;<a class=\"ProveItLink\" href=\"__pv_it/057f411279075a14717f1e7560665d5585749e520/expr.ipynb\"><img src=\"__pv_it/057f411279075a14717f1e7560665d5585749e520/expr.png\" style=\"display:inline;vertical-align:middle;\" /></a></span></td></tr>\n",
       "<tr><td>3</td><td>assumption</td><td></td><td><span style=\"font-size:20px;\"><a class=\"ProveItLink\" href=\"__pv_it/4509b633ca8fafa271074de8ed570e61fda4aea00/expr.ipynb\"><img src=\"__pv_it/4509b633ca8fafa271074de8ed570e61fda4aea00/expr.png\" style=\"display:inline;vertical-align:middle;\" /></a> &#x22A2;&nbsp;<a class=\"ProveItLink\" href=\"__pv_it/0cd4501e2b69acdc3cd59512a6bec987a01a9e390/expr.ipynb\"><img src=\"__pv_it/0cd4501e2b69acdc3cd59512a6bec987a01a9e390/expr.png\" style=\"display:inline;vertical-align:middle;\" /></a></span></td></tr>\n",
       "</table>"
      ],
      "text/plain": [
       "\tstep type\trequirements\tstatement\n",
       "0\tspecialization\t1, 2, 3\t{a != b , a = b} |= FALSE\n",
       "\tx : a, y : b\n",
       "1\ttheorem\t\t|= forall_{x, y | x = y , x != y} FALSE\n",
       "\tproveit.logic.equality.notEqualsContradiction\n",
       "2\tassumption\t\t{a = b} |= a = b\n",
       "3\tassumption\t\t{a != b} |= a != b"
      ]
     },
     "execution_count": 87,
     "metadata": {},
     "output_type": "execute_result"
    }
   ],
   "source": [
    "neq_contradiction.proof()"
   ]
  },
  {
   "cell_type": "code",
   "execution_count": 88,
   "metadata": {},
   "outputs": [
    {
     "data": {
      "text/html": [
       "<strong id=\"a_neq_a\">a_neq_a:</strong> <a class=\"ProveItLink\" href=\"__pv_it/674b75283893311e5508de4d15ae280aef8480330/expr.ipynb\"><img src=\"__pv_it/674b75283893311e5508de4d15ae280aef8480330/expr.png\" style=\"display:inline;vertical-align:middle;\" /></a><br>"
      ],
      "text/plain": [
       "a_neq_a: a != a"
      ]
     },
     "execution_count": 88,
     "metadata": {},
     "output_type": "execute_result"
    }
   ],
   "source": [
    "a_neq_a = NotEquals(a, a)"
   ]
  },
  {
   "cell_type": "code",
   "execution_count": 89,
   "metadata": {},
   "outputs": [
    {
     "data": {
      "text/html": [
       "<strong id=\"b_from_contradiction\">b_from_contradiction:</strong> <span style=\"font-size:20px;\"><a class=\"ProveItLink\" href=\"__pv_it/ed6f077610fd9ecfbe232c1fae1f5bd0aedcdf8f0/expr.ipynb\"><img src=\"__pv_it/ed6f077610fd9ecfbe232c1fae1f5bd0aedcdf8f0/expr.png\" style=\"display:inline;vertical-align:middle;\" /></a> &#x22A2;&nbsp;<a class=\"ProveItLink\" href=\"../../__pv_it/6840a4fa6c106149dc16a131294d0c5e44f1b0480/expr.ipynb\"><img src=\"../../__pv_it/6840a4fa6c106149dc16a131294d0c5e44f1b0480/expr.png\" style=\"display:inline;vertical-align:middle;\" /></a></span><br>"
      ],
      "text/plain": [
       "b_from_contradiction: {[not](b) => (a != a) , b in BOOLEANS} |= b"
      ]
     },
     "execution_count": 89,
     "metadata": {},
     "output_type": "execute_result"
    }
   ],
   "source": [
    "b_from_contradiction = a_neq_a.affirmViaContradiction(b, [Implies(Not(b), a_neq_a), inBool(b)])"
   ]
  },
  {
   "cell_type": "code",
   "execution_count": 90,
   "metadata": {},
   "outputs": [
    {
     "data": {
      "text/html": [
       "<table><tr><th>&nbsp;</th><th>step type</th><th>requirements</th><th>statement</th></tr>\n",
       "<tr><td>0</td><td>specialization</td><td>1, 2, 3</td><td><span style=\"font-size:20px;\"><a class=\"ProveItLink\" href=\"__pv_it/ed6f077610fd9ecfbe232c1fae1f5bd0aedcdf8f0/expr.ipynb\"><img src=\"__pv_it/ed6f077610fd9ecfbe232c1fae1f5bd0aedcdf8f0/expr.png\" style=\"display:inline;vertical-align:middle;\" /></a> &#x22A2;&nbsp;<a class=\"ProveItLink\" href=\"../../__pv_it/6840a4fa6c106149dc16a131294d0c5e44f1b0480/expr.ipynb\"><img src=\"../../__pv_it/6840a4fa6c106149dc16a131294d0c5e44f1b0480/expr.png\" style=\"display:inline;vertical-align:middle;\" /></a></span></td></tr>\n",
       "<tr><td>&nbsp;</td><td colspan=4 style=\"text-align:left\"><span style=\"font-size:20px;\"><a class=\"ProveItLink\" href=\"../../__pv_it/2cbe72a7ad6f655694dd697106680215e8489b600/expr.ipynb\"><img src=\"../../__pv_it/2cbe72a7ad6f655694dd697106680215e8489b600/expr.png\" style=\"display:inline;vertical-align:middle;\" /></a> : <a class=\"ProveItLink\" href=\"../../__pv_it/6840a4fa6c106149dc16a131294d0c5e44f1b0480/expr.ipynb\"><img src=\"../../__pv_it/6840a4fa6c106149dc16a131294d0c5e44f1b0480/expr.png\" style=\"display:inline;vertical-align:middle;\" /></a></span></td></tr><tr><td>1</td><td>theorem</td><td></td><td><span style=\"font-size:20px;\"> &#x22A2;&nbsp;<a class=\"ProveItLink\" href=\"../boolean/implication/__pv_it/25738aae8baa600a16ee59ce8b9e44635e5c7cdf0/expr.ipynb\"><img src=\"../boolean/implication/__pv_it/25738aae8baa600a16ee59ce8b9e44635e5c7cdf0/expr.png\" style=\"display:inline;vertical-align:middle;\" /></a></span></td></tr>\n",
       "<tr><td>&nbsp;</td><td colspan=4 style-\"text-align:left\"><a class=\"ProveItLink\" href=\"../boolean/implication/_proofs_/affirmViaContradiction.ipynb\">proveit.logic.boolean.implication.affirmViaContradiction</a></td></tr><tr><td>2</td><td>assumption</td><td></td><td><span style=\"font-size:20px;\"><a class=\"ProveItLink\" href=\"__pv_it/c872bb1489ac46d8b5fa00fab018dde4f4f00dfe0/expr.ipynb\"><img src=\"__pv_it/c872bb1489ac46d8b5fa00fab018dde4f4f00dfe0/expr.png\" style=\"display:inline;vertical-align:middle;\" /></a> &#x22A2;&nbsp;<a class=\"ProveItLink\" href=\"__pv_it/8477265bf595a74efed05a7525bb2e804dc7afe70/expr.ipynb\"><img src=\"__pv_it/8477265bf595a74efed05a7525bb2e804dc7afe70/expr.png\" style=\"display:inline;vertical-align:middle;\" /></a></span></td></tr>\n",
       "<tr><td>3</td><td>hypothetical reasoning</td><td>4</td><td><span style=\"font-size:20px;\"><a class=\"ProveItLink\" href=\"__pv_it/5fca2166431ebef0ff2ee1752f5622e0acca0c3d0/expr.ipynb\"><img src=\"__pv_it/5fca2166431ebef0ff2ee1752f5622e0acca0c3d0/expr.png\" style=\"display:inline;vertical-align:middle;\" /></a> &#x22A2;&nbsp;<a class=\"ProveItLink\" href=\"__pv_it/8f3c39c6c2199e28f14b41e55fb7c0b87be69f670/expr.ipynb\"><img src=\"__pv_it/8f3c39c6c2199e28f14b41e55fb7c0b87be69f670/expr.png\" style=\"display:inline;vertical-align:middle;\" /></a></span></td></tr>\n",
       "<tr><td>4</td><td>specialization</td><td>5, 6, 7</td><td><span style=\"font-size:20px;\"><a class=\"ProveItLink\" href=\"__pv_it/39a31a016ff3a2de62b691ea6ab0207e9e3d1c2d0/expr.ipynb\"><img src=\"__pv_it/39a31a016ff3a2de62b691ea6ab0207e9e3d1c2d0/expr.png\" style=\"display:inline;vertical-align:middle;\" /></a> &#x22A2;&nbsp;<a class=\"ProveItLink\" href=\"../boolean/__pv_it/8f1f7fac882de28c72b62ab80a1700b6d8fd066b0/expr.ipynb\"><img src=\"../boolean/__pv_it/8f1f7fac882de28c72b62ab80a1700b6d8fd066b0/expr.png\" style=\"display:inline;vertical-align:middle;\" /></a></span></td></tr>\n",
       "<tr><td>&nbsp;</td><td colspan=4 style=\"text-align:left\"><span style=\"font-size:20px;\"><a class=\"ProveItLink\" href=\"../../__pv_it/530be409e3083890784cf1d7b28c9e67e90af9360/expr.ipynb\"><img src=\"../../__pv_it/530be409e3083890784cf1d7b28c9e67e90af9360/expr.png\" style=\"display:inline;vertical-align:middle;\" /></a> : <a class=\"ProveItLink\" href=\"../../__pv_it/07527342713064c87612d00d8557c53d53d5324a0/expr.ipynb\"><img src=\"../../__pv_it/07527342713064c87612d00d8557c53d53d5324a0/expr.png\" style=\"display:inline;vertical-align:middle;\" /></a>, <a class=\"ProveItLink\" href=\"../../__pv_it/f8b9edf8e16034727f0aad55bb83e392c3db40d40/expr.ipynb\"><img src=\"../../__pv_it/f8b9edf8e16034727f0aad55bb83e392c3db40d40/expr.png\" style=\"display:inline;vertical-align:middle;\" /></a> : <a class=\"ProveItLink\" href=\"../../__pv_it/07527342713064c87612d00d8557c53d53d5324a0/expr.ipynb\"><img src=\"../../__pv_it/07527342713064c87612d00d8557c53d53d5324a0/expr.png\" style=\"display:inline;vertical-align:middle;\" /></a></span></td></tr><tr><td>5</td><td>theorem</td><td></td><td><span style=\"font-size:20px;\"> &#x22A2;&nbsp;<a class=\"ProveItLink\" href=\"__pv_it/18f3ac17ac616a5b476935df168256b420b608340/expr.ipynb\"><img src=\"__pv_it/18f3ac17ac616a5b476935df168256b420b608340/expr.png\" style=\"display:inline;vertical-align:middle;\" /></a></span></td></tr>\n",
       "<tr><td>&nbsp;</td><td colspan=4 style-\"text-align:left\"><a class=\"ProveItLink\" href=\"_proofs_/notEqualsContradiction.ipynb\">proveit.logic.equality.notEqualsContradiction</a></td></tr><tr><td>6</td><td>specialization</td><td>8</td><td><span style=\"font-size:20px;\"> &#x22A2;&nbsp;<a class=\"ProveItLink\" href=\"__pv_it/9ef9df7720c33ec2f07f7cd7f43b7921b88d3ef60/expr.ipynb\"><img src=\"__pv_it/9ef9df7720c33ec2f07f7cd7f43b7921b88d3ef60/expr.png\" style=\"display:inline;vertical-align:middle;\" /></a></span></td></tr>\n",
       "<tr><td>&nbsp;</td><td colspan=4 style=\"text-align:left\"><span style=\"font-size:20px;\"><a class=\"ProveItLink\" href=\"../../__pv_it/530be409e3083890784cf1d7b28c9e67e90af9360/expr.ipynb\"><img src=\"../../__pv_it/530be409e3083890784cf1d7b28c9e67e90af9360/expr.png\" style=\"display:inline;vertical-align:middle;\" /></a> : <a class=\"ProveItLink\" href=\"../../__pv_it/07527342713064c87612d00d8557c53d53d5324a0/expr.ipynb\"><img src=\"../../__pv_it/07527342713064c87612d00d8557c53d53d5324a0/expr.png\" style=\"display:inline;vertical-align:middle;\" /></a></span></td></tr><tr><td>7</td><td>modus ponens</td><td>9, 10</td><td><span style=\"font-size:20px;\"><a class=\"ProveItLink\" href=\"__pv_it/39a31a016ff3a2de62b691ea6ab0207e9e3d1c2d0/expr.ipynb\"><img src=\"__pv_it/39a31a016ff3a2de62b691ea6ab0207e9e3d1c2d0/expr.png\" style=\"display:inline;vertical-align:middle;\" /></a> &#x22A2;&nbsp;<a class=\"ProveItLink\" href=\"__pv_it/674b75283893311e5508de4d15ae280aef8480330/expr.ipynb\"><img src=\"__pv_it/674b75283893311e5508de4d15ae280aef8480330/expr.png\" style=\"display:inline;vertical-align:middle;\" /></a></span></td></tr>\n",
       "<tr><td>8</td><td>axiom</td><td></td><td><span style=\"font-size:20px;\"> &#x22A2;&nbsp;<a class=\"ProveItLink\" href=\"__pv_it/a17ac86529407447f5f5556b4307bccf71d2487c0/expr.ipynb\"><img src=\"__pv_it/a17ac86529407447f5f5556b4307bccf71d2487c0/expr.png\" style=\"display:inline;vertical-align:middle;\" /></a></span></td></tr>\n",
       "<tr><td>&nbsp;</td><td colspan=4 style-\"text-align:left\"><a class=\"ProveItLink\" href=\"_axioms_.ipynb#equalsReflexivity\">proveit.logic.equality.equalsReflexivity</a></td></tr><tr><td>9</td><td>assumption</td><td></td><td><span style=\"font-size:20px;\"><a class=\"ProveItLink\" href=\"__pv_it/5fca2166431ebef0ff2ee1752f5622e0acca0c3d0/expr.ipynb\"><img src=\"__pv_it/5fca2166431ebef0ff2ee1752f5622e0acca0c3d0/expr.png\" style=\"display:inline;vertical-align:middle;\" /></a> &#x22A2;&nbsp;<a class=\"ProveItLink\" href=\"__pv_it/10642233d6e282fb31bf992e4266c4040270e9140/expr.ipynb\"><img src=\"__pv_it/10642233d6e282fb31bf992e4266c4040270e9140/expr.png\" style=\"display:inline;vertical-align:middle;\" /></a></span></td></tr>\n",
       "<tr><td>10</td><td>assumption</td><td></td><td><span style=\"font-size:20px;\"><a class=\"ProveItLink\" href=\"__pv_it/e3c7a91406546fba89cf851ea1e386e445bc51330/expr.ipynb\"><img src=\"__pv_it/e3c7a91406546fba89cf851ea1e386e445bc51330/expr.png\" style=\"display:inline;vertical-align:middle;\" /></a> &#x22A2;&nbsp;<a class=\"ProveItLink\" href=\"__pv_it/c0fc114fcacc8e9fdeb995863ab29be961e5f4380/expr.ipynb\"><img src=\"__pv_it/c0fc114fcacc8e9fdeb995863ab29be961e5f4380/expr.png\" style=\"display:inline;vertical-align:middle;\" /></a></span></td></tr>\n",
       "</table>"
      ],
      "text/plain": [
       "\tstep type\trequirements\tstatement\n",
       "0\tspecialization\t1, 2, 3\t{[not](b) => (a != a) , b in BOOLEANS} |= b\n",
       "\tA : b\n",
       "1\ttheorem\t\t|= forall_{A in BOOLEANS | [not](A) => FALSE} A\n",
       "\tproveit.logic.boolean.implication.affirmViaContradiction\n",
       "2\tassumption\t\t{b in BOOLEANS} |= b in BOOLEANS\n",
       "3\thypothetical reasoning\t4\t{[not](b) => (a != a)} |= [not](b) => FALSE\n",
       "4\tspecialization\t5, 6, 7\t{[not](b) => (a != a) , [not](b)} |= FALSE\n",
       "\tx : a, y : a\n",
       "5\ttheorem\t\t|= forall_{x, y | x = y , x != y} FALSE\n",
       "\tproveit.logic.equality.notEqualsContradiction\n",
       "6\tspecialization\t8\t|= a = a\n",
       "\tx : a\n",
       "7\tmodus ponens\t9, 10\t{[not](b) => (a != a) , [not](b)} |= a != a\n",
       "8\taxiom\t\t|= forall_{x} (x = x)\n",
       "\tproveit.logic.equality.equalsReflexivity\n",
       "9\tassumption\t\t{[not](b) => (a != a)} |= [not](b) => (a != a)\n",
       "10\tassumption\t\t{[not](b)} |= [not](b)"
      ]
     },
     "execution_count": 90,
     "metadata": {},
     "output_type": "execute_result"
    }
   ],
   "source": [
    "b_from_contradiction.proof()"
   ]
  },
  {
   "cell_type": "code",
   "execution_count": 91,
   "metadata": {
    "collapsed": true
   },
   "outputs": [],
   "source": [
    "%end demonstrations"
   ]
  },
  {
   "cell_type": "code",
   "execution_count": 92,
   "metadata": {
    "collapsed": true
   },
   "outputs": [],
   "source": []
  }
 ],
 "metadata": {
  "kernelspec": {
   "display_name": "Python 3",
   "language": "python",
   "name": "python3"
  },
  "language_info": {
   "codemirror_mode": {
    "name": "ipython",
    "version": 3
   },
   "file_extension": ".py",
   "mimetype": "text/x-python",
   "name": "python",
   "nbconvert_exporter": "python",
   "pygments_lexer": "ipython3",
   "version": "3.7.1"
  }
 },
 "nbformat": 4,
 "nbformat_minor": 1
}
