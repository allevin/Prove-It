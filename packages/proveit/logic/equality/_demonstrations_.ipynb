{
 "cells": [
  {
   "cell_type": "markdown",
   "metadata": {},
   "source": [
    "Demonstrations for context <a class=\"ProveItLink\" href=\"_context_.ipynb\">proveit.logic.equality</a>\n",
    "========"
   ]
  },
  {
   "cell_type": "code",
   "execution_count": 1,
   "metadata": {},
   "outputs": [],
   "source": [
    "import proveit\n",
    "%begin demonstrations"
   ]
  },
  {
   "cell_type": "markdown",
   "metadata": {},
   "source": [
    "## Substitution"
   ]
  },
  {
   "cell_type": "markdown",
   "metadata": {},
   "source": [
    "Equality is a fundamental concept of logic.  When two mathematical operations are equal, then one may be substituted for the other.  This is rule is defined by the `substitution` axiom:"
   ]
  },
  {
   "cell_type": "code",
   "execution_count": 2,
   "metadata": {},
   "outputs": [
    {
     "data": {
      "text/html": [
       "<span style=\"font-size:20px;\"> <a class=\"ProveItLink\" href=\"_axioms_.ipynb#substitution\" style=\"text-decoration: none\">&#x22A2;&nbsp;</a><a class=\"ProveItLink\" href=\"__pv_it/8d36a51e21a3e1f2d1a576f0cfdfe721d403af1e0/expr.ipynb\"><img src=\"data:image/png;base64,iVBORw0KGgoAAAANSUhEUgAAAO8AAAAXBAMAAAARnwX+AAAAMFBMVEX///8QEBC6urrMzMxUVFRm\n",
       "ZmZERETc3NwyMjKqqqp2dnaIiIiYmJgiIiLu7u4AAAAU9Wx4AAAAAXRSTlMAQObYZgAAAvdJREFU\n",
       "SMfFVj1oFEEUfvef293bHKayECJYpIk5wcYqRyRGTBPUQgyiNonCgVuI8QfNIggWEq5QsLttDglB\n",
       "OTAemhRZJIVoc7UorE0QLXIYMIUiznszO7O3uznJQfDBm/123jfzZt+99+YA/pd4vS5MNqLYGPw3\n",
       "/63QFr586MHxURzMyQmJUc7EEEOcTInrIr4s9OCY1mQXf3es74shhjk21xvskbu0e786RW7zcFVi\n",
       "irUTZYY577n2sR85U9294wQlRy2AKazFKDPM+cLVeDY3d7eHSA/ReCGASa5GmWFOtsr158zMxx4c\n",
       "n8dh/cC4j28v33rFolmPEBXHrDsw74E2BaTHAWYxSOON6O5dquMRjb98bDrGpwSrkKeUuA9JytDJ\n",
       "0ZJtWAPI21wPgYl5llmZiu7eJen24ZDb8rEGejvPiuRghKg4xzItmGEFXeRaAN1lhkLc13Vx/AOH\n",
       "fNvHJqSJPBohKo6XaODnp9pcdbeACdfv9eBYaymcaMQ7DnBqXmpLOTZt7CnGtWk0L40ts3glmyL7\n",
       "uWM+SW2vKctiPyVoWeH5ErZfCnXmMwlfHeCcA72oQg2zY2h4R6fzTiRYon/vt46oL6bJk5gtDWkA\n",
       "qKivRGxYa6B7YpvOgpcceECnMGyu8IRiQXWQ5Ml6bxiayrGY7DAI/uagj2vuZbgDceWkOHAWRlyQ\n",
       "5SSOVOG0bRpPwWTwN96Wu/gGgGEcRjwfb6x8W8IcvR9xrDiwsXrRYr1ykCsYniwPSBVT/GUg4Bgn\n",
       "r1CopYEdl20BrwN4p5bZwXmuWqa/4g/ATWtUszX2gIFkWzmmSSG+ga4Do1wJXw1auAsFOemWiSm2\n",
       "JBTEVzEP7sab6RfsAY+btnJMk0J8A11ziYVW8IpE+RpJrQCn4GQdoHZl2upk+Gu7HLs5K92IrWNp\n",
       "YHIdjLolsZCJsOMgJ796mj3TFldxga+zSk3x15SVdYbiG4g04CECUfWxXtq54/icl0LF/xEMuiEO\n",
       "yY7mxDuWhr2W8t5t/RfNBeNeS11EOAAAAABJRU5ErkJggg==\n",
       "\" style=\"display:inline;vertical-align:middle;\" /></a></span>"
      ],
      "text/plain": [
       "|- forall_{f, x, y | x = y} (f(x) = f(y))"
      ]
     },
     "execution_count": 2,
     "metadata": {},
     "output_type": "execute_result"
    }
   ],
   "source": [
    "from proveit.logic.equality._axioms_ import substitution\n",
    "from proveit._common_ import a, b, c, d, x, y, z, fx # we'll use these later\n",
    "substitution"
   ]
  },
  {
   "cell_type": "markdown",
   "metadata": {},
   "source": [
    "The English translation of this axiom is: for any function $f$ and any $x, y$ such that $x=y$, $f(x) = f(y)$.  In other words, we may substitute $y$ for $x$ in any function whenever $x=y$.  The equality of $x$ and $y$ transfers to an equality between $f(x)$ and $f(y)$.  This is fundamental to the meaning of equality regardless of what $f$ does (as long as it can act on a single argument).  We may specialize this axiom using any operation for $f$.  For example,"
   ]
  },
  {
   "cell_type": "code",
   "execution_count": 3,
   "metadata": {},
   "outputs": [
    {
     "data": {
      "text/html": [
       "<span style=\"font-size:20px;\"><a class=\"ProveItLink\" href=\"__pv_it/d009e43b8cfc53c34c454c29c4e29a99e07d6d330/expr.ipynb\"><img src=\"data:image/png;base64,iVBORw0KGgoAAAANSUhEUgAAAEIAAAAVBAMAAAAA8SWUAAAAMFBMVEX///9ERETc3NyqqqpUVFS6\n",
       "urrMzMwyMjIQEBCIiIh2dnYiIiLu7u5mZmaYmJgAAABJJ2g3AAAAAXRSTlMAQObYZgAAAPVJREFU\n",
       "KM9jYGDgu8eAC2QtApE8uxhwgwwDIMH5Aascj8cGIMlbACS4GrBrZ3eASeJSwW9ASEX8AUIqVjOg\n",
       "qFCZFaGApqJkph9UEuRc1iYGeZAobzkYgNzI85GBP4GBD+TRjAAGBv0HDBfRjGD+w8CxgIGhloEh\n",
       "pQ3I9Wdg2ImmAmg0/wUGBsY6BoaIBAaGjww839BUcF9giH/AwAAKcJYCBqafDMwfeEAad4OBACQ4\n",
       "7h+AuINrAwPPZ6A6M7QAS2DoQvJtHYP1hQWoKlgMeB2QVKjMDJMMQIs5z3uEwpSBgXgVfPhUgNMH\n",
       "z058aQzsOr7FeNMpAKA7QF+x84JNAAAAAElFTkSuQmCC\n",
       "\" style=\"display:inline;vertical-align:middle;\" /></a> <a class=\"ProveItLink\" href=\"__pv_it/fb52d9e2c0c391577c2ebeab31b2a7a438a936770/proof.ipynb\" style=\"text-decoration: none\">&#x22A2;&nbsp;</a><a class=\"ProveItLink\" href=\"__pv_it/ba0763b6ee40217da413d2ea68fd3a73de210e1a0/expr.ipynb\"><img src=\"data:image/png;base64,iVBORw0KGgoAAAANSUhEUgAAAGgAAAAVBAMAAABYjraNAAAAMFBMVEX////c3NwiIiJERESqqqqY\n",
       "mJh2dnZmZmYQEBDu7u4yMjJUVFTMzMyIiIi6uroAAAAs73DqAAAAAXRSTlMAQObYZgAAAYhJREFU\n",
       "OMudUztIA0EQfTGfu/zTixgimPYK7VPb5CoLC7nOShELi2iRiAg2cqWYIjYWGpAErITAgWUKr7NQ\n",
       "Q7ASQbgiQQJBnD3i3t1uiODADjO77+3Ozgf4l2TsgLs5BfLpd6J9Ut0gQLEkTqr1a9WPSB3SuhYg\n",
       "lxIpYXKzyVwgbQuQdYn06pkDFp8B1RQg5xLp1Pv/iFS8ig8REi6JmfICjuWZXsG+dxrq7NToYFcg\n",
       "KYb3u86zDmzhyjt9z4UdIOJeXLlh0nSROkc0NIyBNZzRVQUmRmgIRaNoqsJLKhVmjyGWUTZxQpfj\n",
       "mxcj6WCOUplyBFK2PzG6qABfwKOPlNXQsGaTisgMGemYkxZtlGFOwnPjKSy54ZU4aQBlxMJb5aRG\n",
       "CfcRC1GxJcI6J42hUio3KH8TsRJ6pBibknK+kcIdDsBS/uYrU++hRxnui8XNc7P+xF69hZr7s41q\n",
       "QZfaKGoIkG2JJLRwzJZGIz5zNJhc0JoPIpI5iRRqBdw22woO1MuUcV/wO2kLPyjdYAjRPXLVAAAA\n",
       "AElFTkSuQmCC\n",
       "\" style=\"display:inline;vertical-align:middle;\" /></a></span>"
      ],
      "text/plain": [
       "{a = b} |- [not](a) = [not](b)"
      ]
     },
     "execution_count": 3,
     "metadata": {},
     "output_type": "execute_result"
    }
   ],
   "source": [
    "from proveit.logic import Not, Equals\n",
    "substitution.specialize({fx:Not(x), x:a, y:b}, assumptions=[Equals(a, b)])"
   ]
  },
  {
   "cell_type": "markdown",
   "metadata": {},
   "source": [
    "There are more convenient ways to apply this substitution rule than manual specialization that was demonstrated in the previous input.  The `Equals` class has the `substitution`, `subLeftSideInto` and `subRightSideInto` methods for conveniently applying substitution and its variants, as we will demonstrate below.  Each of these methods takes a `lambdaMap` argument to provide a context for the substitution -- what is being substituted and where.  A `lambdaMap` can be an actual **Lambda** expression, an **InnerExpr** object, or if it is neither of these, it can be any other **Expression** for which the default will be to performa a global replacement."
   ]
  },
  {
   "cell_type": "code",
   "execution_count": 4,
   "metadata": {},
   "outputs": [
    {
     "data": {
      "text/html": [
       "<strong id=\"expr\">expr:</strong> <a class=\"ProveItLink\" href=\"__pv_it/d33f2826a291de5681da06d9087627ab42665fc90/expr.ipynb\"><img src=\"data:image/png;base64,iVBORw0KGgoAAAANSUhEUgAAAJoAAAAmBAMAAADO2Z8qAAAAMFBMVEX///8yMjKqqqrMzMzu7u4i\n",
       "IiJmZmaYmJhEREQQEBC6urp2dnaIiIhUVFTc3NwAAAD87Fq/AAAAAXRSTlMAQObYZgAAAo5JREFU\n",
       "SMeVVs9rE1EQniSbmGbNJnuonoT8AUJ7tKfm4kGk3YBY9JYeelJhD3rw5J4s3ioogpYSL0KhYEW8\n",
       "aA8rSpWSgor0FDD+BQlJaKSK+iZ1N9nsfLtxDvtj5r3vzcyb+d4jAnLSpv8S7WuU9aOovbjzDk14\n",
       "GgGWrEja1GOahsE4GO3CrKh1aRVOOY3R7orab2h45oio1UTWXE9U/4B70FaIn5A1UZW0xi+Y5qKy\n",
       "/kbWednrPtEJ0aDz6qcQ2oqsPiB6Kfl8/UVJve4gtHWQ7J16WVCfb7ZYbZXkWamueiw8nLQPDmiO\n",
       "X+kqqMQ2P89MinZE+/zKV2RzdqDveL+LUk0M90nr0eqi70NY0k6g5s5KNeEOvx+kujd5QldGK3AG\n",
       "9MqkaM8+7DLjpFQwRuP1xvhQi4cmGvt2PJr2pu61tKaKe7OZHcS7bLIcZ77FMJZD3Xi0uVrCj+En\n",
       "GX3KhLhkntFmyvQkFk1bp6zPq4eUb1PaDaFxHS6zOYD2h6UdQMuP7uMhFRyyZkW0Jcr1jzNw1cuA\n",
       "3xOmOX3fNBVpFJwAWsulGeK+WLnMcmUYaYcyvdhIW24ATTXX5+S4c4MxXZrajkUrqHXt4S4k7OSS\n",
       "Hqo3hvlCN+LrLV8l3fNFbajR2Du3Nz50iqt3YdeeoHqv1d/7XNEB1BusmRG03L1quBe8BQD5ZtYC\n",
       "v1ujSfhHYrkwmg66PtmD7PO8DE3ZIjiCOnDKK0xzBRcY4IERYUFHE9FtWa34BnuN3bZqolrxDc4o\n",
       "PUIGXbyiMN8U8UVoDd4ERFJmvtmGaGl843srbpqDUsByC+cgIS3k842Yho2Ii+claW8kvvHXL0Wc\n",
       "uN+bksMC33jSiDq/jZpUbgLfeMHw+L/sDqobkEMSEAAAAABJRU5ErkJggg==\n",
       "\" style=\"display:inline;vertical-align:middle;\" /></a><br>"
      ],
      "text/plain": [
       "expr: a = (b + (c / d) + c^{d})"
      ]
     },
     "execution_count": 4,
     "metadata": {},
     "output_type": "execute_result"
    }
   ],
   "source": [
    "from proveit import Lambda\n",
    "from proveit.number import Add, frac, Exp\n",
    "expr = Equals(a, Add(b, frac(c, d), Exp(c, d)))          "
   ]
  },
  {
   "cell_type": "markdown",
   "metadata": {},
   "source": [
    "The `globalRepl` static method of `Lambda` is useful for creating a global replacement lambda map.  Below, we create a map for replacing every occurence of $d$ in `expr` with anything else:"
   ]
  },
  {
   "cell_type": "code",
   "execution_count": 5,
   "metadata": {},
   "outputs": [
    {
     "data": {
      "text/html": [
       "<strong id=\"gRepl\">gRepl:</strong> <a class=\"ProveItLink\" href=\"__pv_it/71cd5ef30a6323d396ed60795f8d41fdde6e0eb80/expr.ipynb\"><img src=\"data:image/png;base64,iVBORw0KGgoAAAANSUhEUgAAAU4AAAAVCAMAAAAes/fbAAAANlBMVEX///+6uroUFBQNDQ0yMjLM\n",
       "zMwQEBAiIiKYmJhmZmZUVFSIiIh2dnbc3Nzu7u5ERESqqqoAAADqmkP9AAAAAXRSTlMAQObYZgAA\n",
       "AsNJREFUWMPtWNuSpCAMlV1AIFz//2cHUboVJSKD+7SpmrLLiSfkkBtM039pFQ2KgGL/zB6Bl9Qf\n",
       "At+JIF1s2km5ifsKWB8oIkw9V7eKz6OB70X2hFikiwoETA6OW2p71KkaDdxiu++zYDAwOnSJAF3q\n",
       "ocyeyZpWYNC96a5xk5Us4fGvDib0SDq57VEn4fSZh0ZgFs570SaW4yYvjU06xp+ug5Wgv+tDtEtd\n",
       "n0tn4RsCPHPTuVrnm+i0cpWobR14CbEf7V8ewdxpc02cBowHCS01x+8/l3nfjAJNbv3M6lQBKIH5\n",
       "9gG2WgM8qPeYL1ridD6ylcEK0AUlloBZTLV2W7xWuzTMXS8x6cKXDboTVarb4Jb6yRDfMjDjS2+d\n",
       "2xMa88VTlM5ntjKYL/NoCQSIVHjWRKdV3yDk69xlwuK9dLelc1X3qXRyjfi2aVq+vHaifU7EfCEc\n",
       "o/OhrQxGyuK5+KYQKv7+mQ/Cw2d43X6pFJfzbWnf1GXa0CAR3w7An5jfr+J6wagvLGB0Hm21dKkr\n",
       "0C0aECrK8Fek9Dolrw2skc5Zpu4u9oVh5ofCsAd+PG3AHZ3XJt0wOk2iwjbRKXcNZz19mQAphb8I\n",
       "lTjaDmtp0pHHYalM9h3wQ6n7gib7U1vVZBcmlZsJmuhke6trpbGJH0Wr1feovjahY+ks6cya60M0\n",
       "j/GoLwJtRVe2MEv0EjRGlZhcpNjUdgdO1amcFpY+7GMK350QNnUV2ZcKnTuzZnpo1jrG477gg9KF\n",
       "rcZBybssNo2qepm40rYc/tMQ8XOeOoEwB6RN3SqQ4maMn/P8CVBEWjHGP/CFEnRQurCF3QCQS9Bf\n",
       "HjLNIPXTIdNMo6XjkHkPNvSQ+fQGoK5e3m6OvVpY0xJwk11geuytbN8F3XjghniiL4DZsRd0sWy+\n",
       "pG5GXx8r8wKYGl2TDLykbsamEbAXwNLzB0YHH3A4UHdcAAAAAElFTkSuQmCC\n",
       "\" style=\"display:inline;vertical-align:middle;\" /></a><br>"
      ],
      "text/plain": [
       "gRepl: _x_ -> (a = (b + (c / _x_) + c^{_x_}))"
      ]
     },
     "execution_count": 5,
     "metadata": {},
     "output_type": "execute_result"
    }
   ],
   "source": [
    "gRepl = Lambda.globalRepl(expr, d)"
   ]
  },
  {
   "cell_type": "markdown",
   "metadata": {},
   "source": [
    "We now use this lambda map to replace occurences of $d$ in `expr` with $y$:"
   ]
  },
  {
   "cell_type": "code",
   "execution_count": 6,
   "metadata": {},
   "outputs": [
    {
     "data": {
      "text/html": [
       "<strong id=\"d_eq_y\">d_eq_y:</strong> <a class=\"ProveItLink\" href=\"__pv_it/5f3ea4ca980b6b06009e0fe7ef542f069753deb70/expr.ipynb\"><img src=\"data:image/png;base64,iVBORw0KGgoAAAANSUhEUgAAADEAAAASBAMAAAAAiiu3AAAAMFBMVEX////MzMyYmJiIiIhUVFTc\n",
       "3NwyMjIiIiJ2dnbu7u6qqqpmZmYQEBBERES6uroAAABkyy6XAAAAAXRSTlMAQObYZgAAALZJREFU\n",
       "GNNjYGBg4LuzgQEH4F+AS+b9BFwy7bgkGLKxC7M69/1CFeHsbmCIB1rwJoD3J4i/LQ0EUoAsDr4P\n",
       "DPZALZ8YuBNQ9UhxFzDcZWBg+cDA3oAqM4HHgOEz0C8XGOY/QLN6/QTGjwwM8QYM6xlA/tleDgK1\n",
       "YCsZmA8wMMxfwODGJYDuC14HBgY2Ba5qDjTTtjC8VwB5x07WDk1mrvH+ABLDi6WA8xR2GfYG3gbs\n",
       "MlzG+4AkAHUMLAIZyQBBAAAAAElFTkSuQmCC\n",
       "\" style=\"display:inline;vertical-align:middle;\" /></a><br>"
      ],
      "text/plain": [
       "d_eq_y: d = y"
      ]
     },
     "execution_count": 6,
     "metadata": {},
     "output_type": "execute_result"
    }
   ],
   "source": [
    "d_eq_y = Equals(d, y)"
   ]
  },
  {
   "cell_type": "code",
   "execution_count": 7,
   "metadata": {},
   "outputs": [
    {
     "data": {
      "text/html": [
       "<span style=\"font-size:20px;\"><a class=\"ProveItLink\" href=\"__pv_it/a183e726324d1e0d1513622a45002edb709ce6760/expr.ipynb\"><img src=\"data:image/png;base64,iVBORw0KGgoAAAANSUhEUgAAAEMAAAAVBAMAAADvM06qAAAAMFBMVEX////c3NxERESqqqpUVFS6\n",
       "urrMzMwyMjIQEBCIiIh2dnYiIiLu7u5mZmaYmJgAAABXZE4RAAAAAXRSTlMAQObYZgAAAQZJREFU\n",
       "KM9jYGDgu8eAC7CtEgBRPLsYcAO2ZhDJ+QHMCerFquY6iOBqgHA+Y1WyAkkJ6x+CSrg2EFTCfoGA\n",
       "EpFZ8QaocqduMTD+gSrhLQA6pJFB/wCIXQ4GDkDmgniwX9+DlGQEMDDIP4D4DilADG4zMClA7E9p\n",
       "Awr4MzCgBSAPQycD/wQgQ/0BA0NEAgPDJwaer2juZP7DkA+U4V4AZLMUMDD+ZGD+wANyy24wUIA4\n",
       "cQYD1C3AAOH5DFRohmoK0BEqyJ6uY7C+sABVCa8D6z9kJSIzwzQD0NyrOfcjWuhiAnCU4FPizXDC\n",
       "AKaED7uSXQxa8PTCsxOrEsu5IMextYI5fIvxp10AvXhJlVEr0i0AAAAASUVORK5CYII=\n",
       "\" style=\"display:inline;vertical-align:middle;\" /></a> <a class=\"ProveItLink\" href=\"__pv_it/d3452e680974f83fff2353041fbe48bc5974570e0/proof.ipynb\" style=\"text-decoration: none\">&#x22A2;&nbsp;</a><a class=\"ProveItLink\" href=\"__pv_it/557f3f365514cdcdf5dc2024323c01e31a83602f0/expr.ipynb\"><img src=\"data:image/png;base64,iVBORw0KGgoAAAANSUhEUgAAAcIAAAAcBAMAAAAAdaKdAAAAMFBMVEX///+qqqp2dnYiIiJERESI\n",
       "iIhmZmYQEBDc3NyYmJgyMjLu7u5UVFTMzMy6uroAAACGxKilAAAAAXRSTlMAQObYZgAABSdJREFU\n",
       "WMPtWF2IG1UUPvn/mfyB9KUoDcruQ0EJVrf6IGSFIguCoW5WxLaErT5YFbeVwuLSJQ/6ooXEIj5U\n",
       "0EBRqJYSKrIihcSf1LYvzUNhXwoJLLpQ0GRhlZawq+fczCRz7twrM2KtiAfu7uS7957vnDvnZ2YA\n",
       "7qyEt+E/Lkb/X2DELx5xT+KrQRb/+e+mg8mmN9yb+Etw429T9hfl67o33ItEX9qdgVABr4r/qE+p\n",
       "WYiMzb+iWaXGf9Qp/UgFflGuINFjeBUou9aVKrgFSWJdBfhlurwqZmhEFzTHj/jFN1yGbuqpUrit\n",
       "wC/BKv49gCPUdJ0GN8D4IecEdfKaAnt3DWaHMzjCJU2ZJ/ycjMY1oZvOQE0BbwvvGrjJGIBbXZ/j\n",
       "VFMBaiSuAr+F1nAGR6Sr3ijwDavmWzHG0mn/+LJXh1Pm5Ve2VjGAGfwZqOL14w4GTWpS2uKBceKQ\n",
       "PUhDWRamWclGkmU4MZzB0dEcDeEp6+B9FsGSPcp+z4yuHwBYMS932JYsJbc+xHDI4+WLDoYlzdHW\n",
       "xYFx4oj9fnc2WMddkGwkOZHqD2dwPKfxkHB/TiJKsVDcOz61TwGCGaeHPz0/h/cvRl3/Y0fu1tTE\n",
       "N4cHxolv2lcEFtmGaYWH987WzJlpuErAyf3rcq0jPN46UGW7wxQRFyYOSkWp9dCG6HzMQ+P+oll8\n",
       "RCj05KwTuhTE85T/xSvc7Hmm0JQL8xBF1ZOSh2hftJygX5NiPE0mLMIzgvQzISLNCW/kYYvtjqPD\n",
       "yWU4w21aLwcH4umFebjajZshkCQlHWHdEUFwztKlIj6LvmxCus2IzzKFpmR7EMLw2Mk9JPuCWXHT\n",
       "d4qB8QWVqjNNCN9Vh2M8HbD8rBRght/C2xBG71ILzEPjOASr5gJ6+q50FaVMRbyMdAOIZBnxMlNo\n",
       "upI5DEFM8XXuIdnnK4rt62JM4d9rAI/KRIQfAfiN7U53xWKSw3tIHsGrRB8CqDDZZx4mxo/cBlWG\n",
       "RkZuMF01MR4HHli6xIi3RwrDgncPembAcUgXwKqV1tJrvFp2hCebYGypPJyC1G0RQmfeHIYQWbXp\n",
       "6IV5aHRNDzEK9w6jMJ0f32TlPRzqchLj4kAJelVGvM0UWmVoIGK/A2zppuwhWhP9FXx9g53PsNlv\n",
       "QHjAozRDiyWpFGAX1OUorYxLW5S8qLT5nTd1OYmPinb4ep0RH2UKrVpVExWfR6ndvmGUfi+iKFG7\n",
       "T9qOOJYZKR0oEfCuxljHx/i76mtDjFeaNC410yZ1i2qpXDNRl5IYkxzLzDEeejN2hVbHj5dEPTzN\n",
       "l47tEzOn4VlRqe4pZSUiwr+BV/lu6giXAB5kHT9e9U35Hd0iUQK/WdzV/ZDWq4ixxCcy4SYnnrQr\n",
       "tDp+uElJJHeLkX1Wt+hRVyr+vE9OE8IvzlWljo/lOjxRrLOOH20dun4IHe3ybjFffMHyhe7ubkfH\n",
       "z6mJ1zCoWi9LHX/NrtDq+Ma+OYqO83zp2D4xc95qPM5naTs+6qaL+ncy1VObGU20+xMHrNEVKSuI\n",
       "I2X1+3VO89Q2ep7DkciqiRg+ejs7pfdwQvvW10DzjFsOWKMrpiKOqaz8DlYwT/wF3RskzeBI5jQf\n",
       "MZR4XPvib9S0vr9PJua9vD25Ax+GJ+lbhP7rhTmmNfNKPKr93pIoa5meoNxpu9Z10i24Y45y+LKW\n",
       "97I53tHMq/G3deoOaoliVGQ/cK8rWnALitbRhj+ZEbM+TSLqcM/yFhmYv5ufE9/ziHuVV6iE1+F/\n",
       "uVPyBwb+hJQvxteQAAAAAElFTkSuQmCC\n",
       "\" style=\"display:inline;vertical-align:middle;\" /></a></span>"
      ],
      "text/plain": [
       "{d = y} |- (a = (b + (c / d) + c^{d})) = (a = (b + (c / y) + c^{y}))"
      ]
     },
     "execution_count": 7,
     "metadata": {},
     "output_type": "execute_result"
    }
   ],
   "source": [
    "d_eq_y.substitution(gRepl, assumptions=[d_eq_y])"
   ]
  },
  {
   "cell_type": "markdown",
   "metadata": {},
   "source": [
    "Or we can take advantage of that a global replacement is performed by default when a non-**Lambda** expression is provided as the \"`lambdaMap`\"."
   ]
  },
  {
   "cell_type": "code",
   "execution_count": 8,
   "metadata": {},
   "outputs": [
    {
     "data": {
      "text/html": [
       "<span style=\"font-size:20px;\"><a class=\"ProveItLink\" href=\"__pv_it/a183e726324d1e0d1513622a45002edb709ce6760/expr.ipynb\"><img src=\"data:image/png;base64,iVBORw0KGgoAAAANSUhEUgAAAEMAAAAVBAMAAADvM06qAAAAMFBMVEX////c3NxERESqqqpUVFS6\n",
       "urrMzMwyMjIQEBCIiIh2dnYiIiLu7u5mZmaYmJgAAABXZE4RAAAAAXRSTlMAQObYZgAAAQZJREFU\n",
       "KM9jYGDgu8eAC7CtEgBRPLsYcAO2ZhDJ+QHMCerFquY6iOBqgHA+Y1WyAkkJ6x+CSrg2EFTCfoGA\n",
       "EpFZ8QaocqduMTD+gSrhLQA6pJFB/wCIXQ4GDkDmgniwX9+DlGQEMDDIP4D4DilADG4zMClA7E9p\n",
       "Awr4MzCgBSAPQycD/wQgQ/0BA0NEAgPDJwaer2juZP7DkA+U4V4AZLMUMDD+ZGD+wANyy24wUIA4\n",
       "cQYD1C3AAOH5DFRohmoK0BEqyJ6uY7C+sABVCa8D6z9kJSIzwzQD0NyrOfcjWuhiAnCU4FPizXDC\n",
       "AKaED7uSXQxa8PTCsxOrEsu5IMextYI5fIvxp10AvXhJlVEr0i0AAAAASUVORK5CYII=\n",
       "\" style=\"display:inline;vertical-align:middle;\" /></a> <a class=\"ProveItLink\" href=\"__pv_it/d3452e680974f83fff2353041fbe48bc5974570e0/proof.ipynb\" style=\"text-decoration: none\">&#x22A2;&nbsp;</a><a class=\"ProveItLink\" href=\"__pv_it/557f3f365514cdcdf5dc2024323c01e31a83602f0/expr.ipynb\"><img src=\"data:image/png;base64,iVBORw0KGgoAAAANSUhEUgAAAcIAAAAcBAMAAAAAdaKdAAAAMFBMVEX///+qqqp2dnYiIiJERESI\n",
       "iIhmZmYQEBDc3NyYmJgyMjLu7u5UVFTMzMy6uroAAACGxKilAAAAAXRSTlMAQObYZgAABSdJREFU\n",
       "WMPtWF2IG1UUPvn/mfyB9KUoDcruQ0EJVrf6IGSFIguCoW5WxLaErT5YFbeVwuLSJQ/6ooXEIj5U\n",
       "0EBRqJYSKrIihcSf1LYvzUNhXwoJLLpQ0GRhlZawq+fczCRz7twrM2KtiAfu7uS7957vnDvnZ2YA\n",
       "7qyEt+E/Lkb/X2DELx5xT+KrQRb/+e+mg8mmN9yb+Etw429T9hfl67o33ItEX9qdgVABr4r/qE+p\n",
       "WYiMzb+iWaXGf9Qp/UgFflGuINFjeBUou9aVKrgFSWJdBfhlurwqZmhEFzTHj/jFN1yGbuqpUrit\n",
       "wC/BKv49gCPUdJ0GN8D4IecEdfKaAnt3DWaHMzjCJU2ZJ/ycjMY1oZvOQE0BbwvvGrjJGIBbXZ/j\n",
       "VFMBaiSuAr+F1nAGR6Sr3ijwDavmWzHG0mn/+LJXh1Pm5Ve2VjGAGfwZqOL14w4GTWpS2uKBceKQ\n",
       "PUhDWRamWclGkmU4MZzB0dEcDeEp6+B9FsGSPcp+z4yuHwBYMS932JYsJbc+xHDI4+WLDoYlzdHW\n",
       "xYFx4oj9fnc2WMddkGwkOZHqD2dwPKfxkHB/TiJKsVDcOz61TwGCGaeHPz0/h/cvRl3/Y0fu1tTE\n",
       "N4cHxolv2lcEFtmGaYWH987WzJlpuErAyf3rcq0jPN46UGW7wxQRFyYOSkWp9dCG6HzMQ+P+oll8\n",
       "RCj05KwTuhTE85T/xSvc7Hmm0JQL8xBF1ZOSh2hftJygX5NiPE0mLMIzgvQzISLNCW/kYYvtjqPD\n",
       "yWU4w21aLwcH4umFebjajZshkCQlHWHdEUFwztKlIj6LvmxCus2IzzKFpmR7EMLw2Mk9JPuCWXHT\n",
       "d4qB8QWVqjNNCN9Vh2M8HbD8rBRght/C2xBG71ILzEPjOASr5gJ6+q50FaVMRbyMdAOIZBnxMlNo\n",
       "upI5DEFM8XXuIdnnK4rt62JM4d9rAI/KRIQfAfiN7U53xWKSw3tIHsGrRB8CqDDZZx4mxo/cBlWG\n",
       "RkZuMF01MR4HHli6xIi3RwrDgncPembAcUgXwKqV1tJrvFp2hCebYGypPJyC1G0RQmfeHIYQWbXp\n",
       "6IV5aHRNDzEK9w6jMJ0f32TlPRzqchLj4kAJelVGvM0UWmVoIGK/A2zppuwhWhP9FXx9g53PsNlv\n",
       "QHjAozRDiyWpFGAX1OUorYxLW5S8qLT5nTd1OYmPinb4ep0RH2UKrVpVExWfR6ndvmGUfi+iKFG7\n",
       "T9qOOJYZKR0oEfCuxljHx/i76mtDjFeaNC410yZ1i2qpXDNRl5IYkxzLzDEeejN2hVbHj5dEPTzN\n",
       "l47tEzOn4VlRqe4pZSUiwr+BV/lu6giXAB5kHT9e9U35Hd0iUQK/WdzV/ZDWq4ixxCcy4SYnnrQr\n",
       "tDp+uElJJHeLkX1Wt+hRVyr+vE9OE8IvzlWljo/lOjxRrLOOH20dun4IHe3ybjFffMHyhe7ubkfH\n",
       "z6mJ1zCoWi9LHX/NrtDq+Ma+OYqO83zp2D4xc95qPM5naTs+6qaL+ncy1VObGU20+xMHrNEVKSuI\n",
       "I2X1+3VO89Q2ep7DkciqiRg+ejs7pfdwQvvW10DzjFsOWKMrpiKOqaz8DlYwT/wF3RskzeBI5jQf\n",
       "MZR4XPvib9S0vr9PJua9vD25Ax+GJ+lbhP7rhTmmNfNKPKr93pIoa5meoNxpu9Z10i24Y45y+LKW\n",
       "97I53tHMq/G3deoOaoliVGQ/cK8rWnALitbRhj+ZEbM+TSLqcM/yFhmYv5ufE9/ziHuVV6iE1+F/\n",
       "uVPyBwb+hJQvxteQAAAAAElFTkSuQmCC\n",
       "\" style=\"display:inline;vertical-align:middle;\" /></a></span>"
      ],
      "text/plain": [
       "{d = y} |- (a = (b + (c / d) + c^{d})) = (a = (b + (c / y) + c^{y}))"
      ]
     },
     "execution_count": 8,
     "metadata": {},
     "output_type": "execute_result"
    }
   ],
   "source": [
    "d_eq_y.substitution(expr, assumptions=[d_eq_y])"
   ]
  },
  {
   "cell_type": "markdown",
   "metadata": {},
   "source": [
    "Either way, the generated proof is the same:"
   ]
  },
  {
   "cell_type": "code",
   "execution_count": 9,
   "metadata": {},
   "outputs": [
    {
     "data": {
      "text/html": [
       "<table><tr><th>&nbsp;</th><th>step type</th><th>requirements</th><th>statement</th></tr>\n",
       "<tr><td>0</td><td>specialization</td><td>1, 2</td><td><span style=\"font-size:20px;\"><a class=\"ProveItLink\" href=\"__pv_it/a183e726324d1e0d1513622a45002edb709ce6760/expr.ipynb\"><img src=\"data:image/png;base64,iVBORw0KGgoAAAANSUhEUgAAAEMAAAAVBAMAAADvM06qAAAAMFBMVEX////c3NxERESqqqpUVFS6\n",
       "urrMzMwyMjIQEBCIiIh2dnYiIiLu7u5mZmaYmJgAAABXZE4RAAAAAXRSTlMAQObYZgAAAQZJREFU\n",
       "KM9jYGDgu8eAC7CtEgBRPLsYcAO2ZhDJ+QHMCerFquY6iOBqgHA+Y1WyAkkJ6x+CSrg2EFTCfoGA\n",
       "EpFZ8QaocqduMTD+gSrhLQA6pJFB/wCIXQ4GDkDmgniwX9+DlGQEMDDIP4D4DilADG4zMClA7E9p\n",
       "Awr4MzCgBSAPQycD/wQgQ/0BA0NEAgPDJwaer2juZP7DkA+U4V4AZLMUMDD+ZGD+wANyy24wUIA4\n",
       "cQYD1C3AAOH5DFRohmoK0BEqyJ6uY7C+sABVCa8D6z9kJSIzwzQD0NyrOfcjWuhiAnCU4FPizXDC\n",
       "AKaED7uSXQxa8PTCsxOrEsu5IMextYI5fIvxp10AvXhJlVEr0i0AAAAASUVORK5CYII=\n",
       "\" style=\"display:inline;vertical-align:middle;\" /></a> <a class=\"ProveItLink\" href=\"__pv_it/d3452e680974f83fff2353041fbe48bc5974570e0/proof.ipynb\" style=\"text-decoration: none\">&#x22A2;&nbsp;</a><a class=\"ProveItLink\" href=\"__pv_it/557f3f365514cdcdf5dc2024323c01e31a83602f0/expr.ipynb\"><img src=\"data:image/png;base64,iVBORw0KGgoAAAANSUhEUgAAAcIAAAAcBAMAAAAAdaKdAAAAMFBMVEX///+qqqp2dnYiIiJERESI\n",
       "iIhmZmYQEBDc3NyYmJgyMjLu7u5UVFTMzMy6uroAAACGxKilAAAAAXRSTlMAQObYZgAABSdJREFU\n",
       "WMPtWF2IG1UUPvn/mfyB9KUoDcruQ0EJVrf6IGSFIguCoW5WxLaErT5YFbeVwuLSJQ/6ooXEIj5U\n",
       "0EBRqJYSKrIihcSf1LYvzUNhXwoJLLpQ0GRhlZawq+fczCRz7twrM2KtiAfu7uS7957vnDvnZ2YA\n",
       "7qyEt+E/Lkb/X2DELx5xT+KrQRb/+e+mg8mmN9yb+Etw429T9hfl67o33ItEX9qdgVABr4r/qE+p\n",
       "WYiMzb+iWaXGf9Qp/UgFflGuINFjeBUou9aVKrgFSWJdBfhlurwqZmhEFzTHj/jFN1yGbuqpUrit\n",
       "wC/BKv49gCPUdJ0GN8D4IecEdfKaAnt3DWaHMzjCJU2ZJ/ycjMY1oZvOQE0BbwvvGrjJGIBbXZ/j\n",
       "VFMBaiSuAr+F1nAGR6Sr3ijwDavmWzHG0mn/+LJXh1Pm5Ve2VjGAGfwZqOL14w4GTWpS2uKBceKQ\n",
       "PUhDWRamWclGkmU4MZzB0dEcDeEp6+B9FsGSPcp+z4yuHwBYMS932JYsJbc+xHDI4+WLDoYlzdHW\n",
       "xYFx4oj9fnc2WMddkGwkOZHqD2dwPKfxkHB/TiJKsVDcOz61TwGCGaeHPz0/h/cvRl3/Y0fu1tTE\n",
       "N4cHxolv2lcEFtmGaYWH987WzJlpuErAyf3rcq0jPN46UGW7wxQRFyYOSkWp9dCG6HzMQ+P+oll8\n",
       "RCj05KwTuhTE85T/xSvc7Hmm0JQL8xBF1ZOSh2hftJygX5NiPE0mLMIzgvQzISLNCW/kYYvtjqPD\n",
       "yWU4w21aLwcH4umFebjajZshkCQlHWHdEUFwztKlIj6LvmxCus2IzzKFpmR7EMLw2Mk9JPuCWXHT\n",
       "d4qB8QWVqjNNCN9Vh2M8HbD8rBRght/C2xBG71ILzEPjOASr5gJ6+q50FaVMRbyMdAOIZBnxMlNo\n",
       "upI5DEFM8XXuIdnnK4rt62JM4d9rAI/KRIQfAfiN7U53xWKSw3tIHsGrRB8CqDDZZx4mxo/cBlWG\n",
       "RkZuMF01MR4HHli6xIi3RwrDgncPembAcUgXwKqV1tJrvFp2hCebYGypPJyC1G0RQmfeHIYQWbXp\n",
       "6IV5aHRNDzEK9w6jMJ0f32TlPRzqchLj4kAJelVGvM0UWmVoIGK/A2zppuwhWhP9FXx9g53PsNlv\n",
       "QHjAozRDiyWpFGAX1OUorYxLW5S8qLT5nTd1OYmPinb4ep0RH2UKrVpVExWfR6ndvmGUfi+iKFG7\n",
       "T9qOOJYZKR0oEfCuxljHx/i76mtDjFeaNC410yZ1i2qpXDNRl5IYkxzLzDEeejN2hVbHj5dEPTzN\n",
       "l47tEzOn4VlRqe4pZSUiwr+BV/lu6giXAB5kHT9e9U35Hd0iUQK/WdzV/ZDWq4ixxCcy4SYnnrQr\n",
       "tDp+uElJJHeLkX1Wt+hRVyr+vE9OE8IvzlWljo/lOjxRrLOOH20dun4IHe3ybjFffMHyhe7ubkfH\n",
       "z6mJ1zCoWi9LHX/NrtDq+Ma+OYqO83zp2D4xc95qPM5naTs+6qaL+ncy1VObGU20+xMHrNEVKSuI\n",
       "I2X1+3VO89Q2ep7DkciqiRg+ejs7pfdwQvvW10DzjFsOWKMrpiKOqaz8DlYwT/wF3RskzeBI5jQf\n",
       "MZR4XPvib9S0vr9PJua9vD25Ax+GJ+lbhP7rhTmmNfNKPKr93pIoa5meoNxpu9Z10i24Y45y+LKW\n",
       "97I53tHMq/G3deoOaoliVGQ/cK8rWnALitbRhj+ZEbM+TSLqcM/yFhmYv5ufE9/ziHuVV6iE1+F/\n",
       "uVPyBwb+hJQvxteQAAAAAElFTkSuQmCC\n",
       "\" style=\"display:inline;vertical-align:middle;\" /></a></span></td></tr>\n",
       "<tr><td>&nbsp;</td><td colspan=4 style=\"text-align:left\"><span style=\"font-size:20px;\"><a class=\"ProveItLink\" href=\"__pv_it/bc97df5d11bc9ccb24649b0a71ed3c2b531aea9b0/expr.ipynb\"><img src=\"data:image/png;base64,iVBORw0KGgoAAAANSUhEUgAAAEUAAAAVBAMAAADiLT7tAAAAMFBMVEX///8yMjLMzMwQEBAiIiJm\n",
       "Zma6urqYmJiqqqp2dnZERETc3NyIiIhUVFTu7u4AAAAe+HC4AAAAAXRSTlMAQObYZgAAAQVJREFU\n",
       "KM9jYCAJ5GAVLYNQb89uAJJMF7CqYVUAUyv7C4Ak4wPsxguACL5vL0DUGRxOqAQRHB/AbDscah6D\n",
       "bXQAkWwCONRwNTAwsF/2DQCpnAAX5Z5zuycGzuMEyfIfADEZC+CiLxlKCkzgPA6QBfvBvmNOgItO\n",
       "YDjP0ATnsRkAiX4wkx+h5gHDLST3MIG8NAVdDQODDbqatWAmcwNCmPsTAx+qXRBNXAg3V/N8YDgH\n",
       "57ELgIIZ4UWIR75zGXAfQPE72z+IkcCQ7FoFBA/41sybeRzGAQYK0KE80AC2xh0XtTCHVOJQM4eB\n",
       "wfAJlI0jbfABramMhnkYexrj3YDM24NVzSEGBgDorz1wDkvJZwAAAABJRU5ErkJggg==\n",
       "\" style=\"display:inline;vertical-align:middle;\" /></a> : <a class=\"ProveItLink\" href=\"__pv_it/2ce337f57fec1e9c1712fb395c2b4fdb523cb0c60/expr.ipynb\"><img src=\"data:image/png;base64,iVBORw0KGgoAAAANSUhEUgAAAPcAAAAVBAMAAABoLmXpAAAAMFBMVEX///8yMjKqqqrMzMzu7u4i\n",
       "IiJmZmaYmJhEREQQEBC6urp2dnaIiIhUVFTc3NwAAAD87Fq/AAAAAXRSTlMAQObYZgAAAl9JREFU\n",
       "SMe9VTFoE1EY/nKJl9xdcs0NRRCEuBeS0a3nIi2lxsVqN6uYSSGuugQR1C2CLgriWugQUBzkhqDQ\n",
       "oW2wOohIsMHVQkNbbAdR3/Oau/x377/e5AfJ/e9778+X9917/w/8V3hfe7VjF62kJuPIv2SnLPeL\n",
       "UTmK73CLspuYf6og0+E6O2PiZBDrnAUZFzitIlMhkzD3OwzLzJIN8dkdDS6MkQHWk3zv+M/cIG5p\n",
       "OxvEd5n0J8Kh/dFgKiTDH/lT4cVzbf+pdaMz01bZCgazzKsRjlgXI+ImsWlxkLD1e3HxXKPRuIaZ\n",
       "dzdf47wI5V8viC+7//ZFJFkXvmX6vSYRlyTmvPdKuR+976uh1JuIuDrLugosDwpDGS85Ev+OWUbI\n",
       "1lvYI+KSzD7DpNLoTv6yEViFM1ScydLKsA+gtyK0IW5q1cVzIi7J2S4eKO8vikMtvDrLVJzJMtso\n",
       "DXEiejAmhM4S8JOIS3LLD29ckrgytnOUxjcwTcW3mGIyxEQL9ZpCfAHmgf8yFv2XIclD9owZ3Yi4\n",
       "7jiTjx1HFqZDVnyniypcuh1ZAneh71PbK7B/seI7NbiM7VyWsL1ewUctsvWCOFt7MDpEXJLCi7yq\n",
       "yOQHH1AMxW9T28MsmlQWh1hbsBSX4BNu0Xsuyc/AK1WRqTYfYRvcVQuyYip2f+3sWtQQcWvmV5uR\n",
       "IiNI3dtwSZHRHgrcx8z6nNccDYBTVDzMoi2A6X6k6kypyCTw5ZWAKa+05q8c0wjifh6JmsniXkJL\n",
       "TUeqcC6dP1xLtTfTkip8S7WqxLam7dRkHMVaqmWi1/wF0vic5kZ0SokAAAAASUVORK5CYII=\n",
       "\" style=\"display:inline;vertical-align:middle;\" /></a>, <a class=\"ProveItLink\" href=\"../../__pv_it/530be409e3083890784cf1d7b28c9e67e90af9360/expr.ipynb\"><img src=\"data:image/png;base64,iVBORw0KGgoAAAANSUhEUgAAAAsAAAAJBAMAAAAWSsseAAAAKlBMVEX///9ERETMzMwQEBAiIiKY\n",
       "mJju7u5mZmaqqqpUVFSIiIh2dnbc3NwAAAA/vyDhAAAAAXRSTlMAQObYZgAAAENJREFUCNdjYDi9\n",
       "8sTyBQxsG1hdmR0YuBm4LnAoMLAxcAowgADzAjB1VoEhgYH1wFoGrgSG3gBhhlMMDImrs3cFMAAA\n",
       "t0YN+iTRa+sAAAAASUVORK5CYII=\n",
       "\" style=\"display:inline;vertical-align:middle;\" /></a> : <a class=\"ProveItLink\" href=\"../../__pv_it/3a5de44ed6135dbbdbbeec6704c741e238f127300/expr.ipynb\"><img src=\"data:image/png;base64,iVBORw0KGgoAAAANSUhEUgAAAAsAAAAOBAMAAAALT/umAAAAMFBMVEX////MzMyYmJiIiIhUVFTc\n",
       "3NwyMjIiIiJ2dnbu7u6qqqpmZmYQEBBERES6uroAAABkyy6XAAAAAXRSTlMAQObYZgAAAFhJREFU\n",
       "CNdjYGBg4LuzgQEE+BeAqfcTwFQ7mGTIBmJW575fQOpNAO9PIOcTA3cCAwPLBwb2BqCeCwzzHzAw\n",
       "xBswrGeYwDB/AYMblwADmwJXNQdIm52sHQMAfyoTCZukXIEAAAAASUVORK5CYII=\n",
       "\" style=\"display:inline;vertical-align:middle;\" /></a>, <a class=\"ProveItLink\" href=\"../../__pv_it/f8b9edf8e16034727f0aad55bb83e392c3db40d40/expr.ipynb\"><img src=\"data:image/png;base64,iVBORw0KGgoAAAANSUhEUgAAAAsAAAANBAMAAACN24kIAAAAMFBMVEX///+YmJhUVFQyMjIQEBBE\n",
       "REQiIiKqqqrMzMyIiIi6urrc3NxmZmZ2dnbu7u4AAADXeCicAAAAAXRSTlMAQObYZgAAAFhJREFU\n",
       "CNdj4LtzgWH/AwZerg8M8xkY2nkSGEIZGB6wTGD4ycDAUP+A4weQOszA6QCkbBhYFYDUIYb1AkDq\n",
       "6czzGxhA4BoQMyXwuQMptgusF4AU+8xTQBIAUqMVoSp/SLMAAAAASUVORK5CYII=\n",
       "\" style=\"display:inline;vertical-align:middle;\" /></a> : <a class=\"ProveItLink\" href=\"../../__pv_it/f8b9edf8e16034727f0aad55bb83e392c3db40d40/expr.ipynb\"><img src=\"data:image/png;base64,iVBORw0KGgoAAAANSUhEUgAAAAsAAAANBAMAAACN24kIAAAAMFBMVEX///+YmJhUVFQyMjIQEBBE\n",
       "REQiIiKqqqrMzMyIiIi6urrc3NxmZmZ2dnbu7u4AAADXeCicAAAAAXRSTlMAQObYZgAAAFhJREFU\n",
       "CNdj4LtzgWH/AwZerg8M8xkY2nkSGEIZGB6wTGD4ycDAUP+A4weQOszA6QCkbBhYFYDUIYb1AkDq\n",
       "6czzGxhA4BoQMyXwuQMptgusF4AU+8xTQBIAUqMVoSp/SLMAAAAASUVORK5CYII=\n",
       "\" style=\"display:inline;vertical-align:middle;\" /></a></span></td></tr><tr><td>1</td><td>axiom</td><td></td><td><span style=\"font-size:20px;\"> <a class=\"ProveItLink\" href=\"_axioms_.ipynb#substitution\" style=\"text-decoration: none\">&#x22A2;&nbsp;</a><a class=\"ProveItLink\" href=\"__pv_it/8d36a51e21a3e1f2d1a576f0cfdfe721d403af1e0/expr.ipynb\"><img src=\"data:image/png;base64,iVBORw0KGgoAAAANSUhEUgAAAO8AAAAXBAMAAAARnwX+AAAAMFBMVEX///8QEBC6urrMzMxUVFRm\n",
       "ZmZERETc3NwyMjKqqqp2dnaIiIiYmJgiIiLu7u4AAAAU9Wx4AAAAAXRSTlMAQObYZgAAAvdJREFU\n",
       "SMfFVj1oFEEUfvef293bHKayECJYpIk5wcYqRyRGTBPUQgyiNonCgVuI8QfNIggWEq5QsLttDglB\n",
       "OTAemhRZJIVoc7UorE0QLXIYMIUiznszO7O3uznJQfDBm/123jfzZt+99+YA/pd4vS5MNqLYGPw3\n",
       "/63QFr586MHxURzMyQmJUc7EEEOcTInrIr4s9OCY1mQXf3es74shhjk21xvskbu0e786RW7zcFVi\n",
       "irUTZYY577n2sR85U9294wQlRy2AKazFKDPM+cLVeDY3d7eHSA/ReCGASa5GmWFOtsr158zMxx4c\n",
       "n8dh/cC4j28v33rFolmPEBXHrDsw74E2BaTHAWYxSOON6O5dquMRjb98bDrGpwSrkKeUuA9JytDJ\n",
       "0ZJtWAPI21wPgYl5llmZiu7eJen24ZDb8rEGejvPiuRghKg4xzItmGEFXeRaAN1lhkLc13Vx/AOH\n",
       "fNvHJqSJPBohKo6XaODnp9pcdbeACdfv9eBYaymcaMQ7DnBqXmpLOTZt7CnGtWk0L40ts3glmyL7\n",
       "uWM+SW2vKctiPyVoWeH5ErZfCnXmMwlfHeCcA72oQg2zY2h4R6fzTiRYon/vt46oL6bJk5gtDWkA\n",
       "qKivRGxYa6B7YpvOgpcceECnMGyu8IRiQXWQ5Ml6bxiayrGY7DAI/uagj2vuZbgDceWkOHAWRlyQ\n",
       "5SSOVOG0bRpPwWTwN96Wu/gGgGEcRjwfb6x8W8IcvR9xrDiwsXrRYr1ykCsYniwPSBVT/GUg4Bgn\n",
       "r1CopYEdl20BrwN4p5bZwXmuWqa/4g/ATWtUszX2gIFkWzmmSSG+ga4Do1wJXw1auAsFOemWiSm2\n",
       "JBTEVzEP7sab6RfsAY+btnJMk0J8A11ziYVW8IpE+RpJrQCn4GQdoHZl2upk+Gu7HLs5K92IrWNp\n",
       "YHIdjLolsZCJsOMgJ796mj3TFldxga+zSk3x15SVdYbiG4g04CECUfWxXtq54/icl0LF/xEMuiEO\n",
       "yY7mxDuWhr2W8t5t/RfNBeNeS11EOAAAAABJRU5ErkJggg==\n",
       "\" style=\"display:inline;vertical-align:middle;\" /></a></span></td></tr>\n",
       "<tr><td>&nbsp;</td><td colspan=4 style-\"text-align:left\"><a class=\"ProveItLink\" href=\"_axioms_.ipynb#substitution\">proveit.logic.equality.substitution</a></td></tr><tr><td>2</td><td>assumption</td><td></td><td><span style=\"font-size:20px;\"><a class=\"ProveItLink\" href=\"__pv_it/a183e726324d1e0d1513622a45002edb709ce6760/expr.ipynb\"><img src=\"data:image/png;base64,iVBORw0KGgoAAAANSUhEUgAAAEMAAAAVBAMAAADvM06qAAAAMFBMVEX////c3NxERESqqqpUVFS6\n",
       "urrMzMwyMjIQEBCIiIh2dnYiIiLu7u5mZmaYmJgAAABXZE4RAAAAAXRSTlMAQObYZgAAAQZJREFU\n",
       "KM9jYGDgu8eAC7CtEgBRPLsYcAO2ZhDJ+QHMCerFquY6iOBqgHA+Y1WyAkkJ6x+CSrg2EFTCfoGA\n",
       "EpFZ8QaocqduMTD+gSrhLQA6pJFB/wCIXQ4GDkDmgniwX9+DlGQEMDDIP4D4DilADG4zMClA7E9p\n",
       "Awr4MzCgBSAPQycD/wQgQ/0BA0NEAgPDJwaer2juZP7DkA+U4V4AZLMUMDD+ZGD+wANyy24wUIA4\n",
       "cQYD1C3AAOH5DFRohmoK0BEqyJ6uY7C+sABVCa8D6z9kJSIzwzQD0NyrOfcjWuhiAnCU4FPizXDC\n",
       "AKaED7uSXQxa8PTCsxOrEsu5IMextYI5fIvxp10AvXhJlVEr0i0AAAAASUVORK5CYII=\n",
       "\" style=\"display:inline;vertical-align:middle;\" /></a> <a class=\"ProveItLink\" href=\"__pv_it/cecbd97fd3c5da75ebce64904e995ca8546fd2fe0/proof.ipynb\" style=\"text-decoration: none\">&#x22A2;&nbsp;</a><a class=\"ProveItLink\" href=\"__pv_it/5f3ea4ca980b6b06009e0fe7ef542f069753deb70/expr.ipynb\"><img src=\"data:image/png;base64,iVBORw0KGgoAAAANSUhEUgAAADEAAAASBAMAAAAAiiu3AAAAMFBMVEX////MzMyYmJiIiIhUVFTc\n",
       "3NwyMjIiIiJ2dnbu7u6qqqpmZmYQEBBERES6uroAAABkyy6XAAAAAXRSTlMAQObYZgAAALZJREFU\n",
       "GNNjYGBg4LuzgQEH4F+AS+b9BFwy7bgkGLKxC7M69/1CFeHsbmCIB1rwJoD3J4i/LQ0EUoAsDr4P\n",
       "DPZALZ8YuBNQ9UhxFzDcZWBg+cDA3oAqM4HHgOEz0C8XGOY/QLN6/QTGjwwM8QYM6xlA/tleDgK1\n",
       "YCsZmA8wMMxfwODGJYDuC14HBgY2Ba5qDjTTtjC8VwB5x07WDk1mrvH+ABLDi6WA8xR2GfYG3gbs\n",
       "MlzG+4AkAHUMLAIZyQBBAAAAAElFTkSuQmCC\n",
       "\" style=\"display:inline;vertical-align:middle;\" /></a></span></td></tr>\n",
       "</table>"
      ],
      "text/plain": [
       "\tstep type\trequirements\tstatement\n",
       "0\tspecialization\t1, 2\t{d = y} |- (a = (b + (c / d) + c^{d})) = (a = (b + (c / y) + c^{y}))\n",
       "\tf(_x_) : a = (b + (c / _x_) + c^{_x_}), x : d, y : y\n",
       "1\taxiom\t\t|- forall_{f, x, y | x = y} (f(x) = f(y))\n",
       "\tproveit.logic.equality.substitution\n",
       "2\tassumption\t\t{d = y} |- d = y"
      ]
     },
     "execution_count": 9,
     "metadata": {},
     "output_type": "execute_result"
    }
   ],
   "source": [
    "d_eq_y.substitution(expr, assumptions=[d_eq_y]).proof()"
   ]
  },
  {
   "cell_type": "markdown",
   "metadata": {},
   "source": [
    "If we want to perform substitution for a specific inner expression, and not necessarily a global replacement, the `proveit._core_.expression.InnerExpr` class (aliased as `proveit.InnerExpr`) is extremely convenient.  It uses some Python tricks via implementing the `__getitem__` and `__getattr__` methods.  First, you create the `InnerExpr` object by calling the `innerExpr()` method on the top-level expression:"
   ]
  },
  {
   "cell_type": "code",
   "execution_count": 10,
   "metadata": {},
   "outputs": [
    {
     "data": {
      "text/html": [
       "<strong id=\"innerExpr\">innerExpr:</strong> <a class=\"ProveItLink\" href=\"__pv_it/39f65e2dc932647395e8efd0c30418c5bed4bed90/expr.ipynb\"><img src=\"data:image/png;base64,iVBORw0KGgoAAAANSUhEUgAAAQMAAAAzCAMAAACkAp3gAAAANlBMVEX///8UFBQNDQ0QEBAyMjK6\n",
       "urp2dnYiIiLMzMyIiIiYmJjc3NxERESqqqpUVFRmZmbu7u4AAABG+8EjAAAAAXRSTlMAQObYZgAA\n",
       "BRxJREFUaN7tWtuCpCgMdRYEwp3//9kFvBQgCJZl78zU8tKUHSIckpMEnKa1WaOnb2oMq/KRclJ8\n",
       "FQYTR9LmDxxcR3IuULNstp0xQDH78cViOteeW0rT6TJnDivUmJxDYMpBSjrVmQ+Z/4stb7xVOJn8\n",
       "kq6ygbRHELQEzv5ZGEzEJUaZAbID08MA/+kYMEeSueuvxMAm3vy9GOghDDiACRbDJDIMQMKkAJbY\n",
       "io3/p+ZrekEA5gWDbciqHMnz2QgCWigw9ciEc9o9Abmt5yYGivoAaOJEsORBlLCQTcQHSGxiAoXX\n",
       "QMQgGbIop6ezsR4uTvmEaJ1485+6GX1P9NzEgAfqnF1cLIr0qSOZBELFeokwKuCzd9Mhi/bz2ZAI\n",
       "noeOjWBgdSuVO9Fz1xemmcASQ2RcZ0ymUgwCKmJJscTKB/uQkdkEiLRsWvg/v2jWkGstqK3nJgYC\n",
       "e+tjpxgg7HedvzBIhozOBrWz1NKy9RmrNvTcxADjZcnWDttBMmRwNiKqsyMYmLOqpqXnHgY2Lk45\n",
       "NrMWBiwYJ31RQzpkZDZcRDeeYAQD1jaYEz037QDpJadUooIBjlRp9gcm2kEyZCAuKO9GgW1FY3Vw\n",
       "cPp6O9PzLgZMO+c5WEgDYAmG+Jv5sgiZCbALBZW0IT9YaFDomB+EEmIf0soPlNyaX5KVQCwhwKfy\n",
       "P902rOd9O/jJjO13zRO/CwNxPD74CgymBAPerXX+UgwwesUf+lOzAUp//CzNv3NuBhNVO075rqaR\n",
       "WCGYp69tMoBg8V94qG7Gt5X7GkNQbT/z4nl+Vv5Cs24tpvequp1o0ZDLGfSRyTD9rPyVpnD6grM3\n",
       "GcQ+x4kW28fk40HdpWAY8519THuw2Y96PhEb13PFi/JWo/67rY+nsxtVLAyQ9S6R7gtsUN567rHk\n",
       "SLe9QaA35XHfJXQo4kdN1fr1ivXKCDbd0HgJdkmuTG4zsXlT/pCi2sOeVXfINrZWe8UMbdRoi06p\n",
       "WSY0erteuMqrm/x8mJ2CA8nXlqsaPh4A27ed8rLzYN3I3JvyhPYXF9NrYocwiDsu+WolZttnI29g\n",
       "wKXz1sqck4VDZkcjE+x0IDSQGfXSLnjRwX5N01ycVwmkby7EBw82oXiey+1KdDvj3bIDEpEVx/Hp\n",
       "DurtSiUuX+5vNDhp+ihvo0dmsVmNRcFSjAXvwnSaDXAwvPC0uUoI474g8QQVVs6UbneTIgYbI7tp\n",
       "ut4Kt6AGkdsY2HisLnnpcqzovImBt/pu7N+uX3W0AAqj8suVXEbJ72Ggq8YutpAi6rFlnBNVP33Y\n",
       "PseIpm37eecmH/9umcriOBTljuO2lvtXIeYapKeKzrsYGILs2JrEerewe4pJr8lkBTMVE1Z71w5E\n",
       "/Xuqj9mBp2SJe7atE7g94Sk2JL+wYUYHDQwO1XAhtpoSLzFgRec9DMKJvUWmExfWPcY8VKNm6uWd\n",
       "m3y4nSg+jKxjYF2HD+IECSvrAVF0rmGweiF1OFi3kzBlflnkB/QVymcmoUcgm7zVexw7x0DhTmwM\n",
       "peXhmu1T+cHYeYj7mHwdA2IGc+V8FC47D2IwXT2CaMvPcFINn4nVaAfKToGBqdZP7x4fkMfk02r4\n",
       "6pGaOCu7sm/z6t9oXiuC6GPyaTV8rXFZdgpWSoMNu188S/WUfFYNX2r7fU79YscinCMCNzEQ+CH5\n",
       "vBq+ZAam7BQ+hsoP1+8esSvykHxWDV9BWZad/P3ocKor9F1e5OoZ+awavnJcZ8tOTkh8+r/t7V+r\n",
       "qEevhWG8JgAAAABJRU5ErkJggg==\n",
       "\" style=\"display:inline;vertical-align:middle;\" /></a><br>"
      ],
      "text/plain": [
       "innerExpr: {lambda:[_x_ -> _x_], _x_:(a = (b + (c / d) + c^{d}))}"
      ]
     },
     "execution_count": 10,
     "metadata": {},
     "output_type": "execute_result"
    }
   ],
   "source": [
    "innerExpr = expr.innerExpr()"
   ]
  },
  {
   "cell_type": "markdown",
   "metadata": {},
   "source": [
    "The `InnerExpr` object displays itself with two important pieces of information: the lambda map that it represents and the inner expression of the top-level expression that would be replaced by this lambda map.  The point is that we will be able to \"dig\" in to inner expressions of the top-level expression via accessing sub-expression attributes.  For example, we next will \"dig\" into the \"right hand side\" (`rhs`) of the master expression: "
   ]
  },
  {
   "cell_type": "code",
   "execution_count": 11,
   "metadata": {},
   "outputs": [
    {
     "data": {
      "text/html": [
       "<strong id=\"innerExpr\">innerExpr:</strong> <a class=\"ProveItLink\" href=\"__pv_it/d9479657e44b3fdcf18ef7a7a3e0f0da42f5e41a0/expr.ipynb\"><img src=\"data:image/png;base64,iVBORw0KGgoAAAANSUhEUgAAATYAAAAzCAMAAAAq2NScAAAANlBMVEX///8UFBQNDQ0QEBAyMjK6\n",
       "urp2dnYiIiLMzMyIiIiYmJjc3NxERESqqqpUVFRmZmbu7u4AAABG+8EjAAAAAXRSTlMAQObYZgAA\n",
       "BVxJREFUaN7tW+maoyoQ9V7WYuf9X3YE0cYNIeoY52v+dMewFMdaThWk61Jz1nS/rdg41stH2iv5\n",
       "C8xBE0i5+QMP7eCTBdCOE3c0CBjml26FwOXgkOEPZmT5lWMs3yH3dgWKwbSMml0O0srrI5koudhw\n",
       "bnAtlu/KKr3KPim/oSbsSCK2xNr9fdiwu8EY8b6s1GfGMsNwwvIINvw8bAA3oNYJuisr9zTbrnkp\n",
       "bOgOZesc2pXVZZ7ptbARfE/IVHofNlMFmwCwQS+5QpYDKOg0wEBgsO2/NCLRPgpABtjGIdO7U0XY\n",
       "JAUjNVgoOpox7MxezLSMNEAJaqJQpWWpPQmbZr0sNoqOlQhdKQ8sLz6IcsZuEoUlIMKWDUmzsxJs\n",
       "rt+6YKJDbCfwzD+a3CyxSFoXJFF+QhNnbcdmistqfBI2ESIH8RGfaPGxK4/xZJBIBqywmv7Nh6Tp\n",
       "i0ZKI969qLwKNmcynUIk0YIAn1UtylZclqCzRtoRCkPUVVGsyItz2AKQcmDLMvm2aUiNbwugmsKO\n",
       "//+PzRryP1Okf03UM9YUVYvLcn8SNol7q+BF2BDudUv8wJYNqQ0JqLDjpRGZbIYEW+RPzjenH7vL\n",
       "noYN4wEl56q1LRtSCZuM07kq2Gzu95EehkM3+Ns0hc21c1+R95c9a6QuScQJ34ONh1fOftxcPqQG\n",
       "NiGjj+mgCjY+UxAlfniPwbvucZPSlpYVZ0MCMkNGoeUGbDhGCjs9sFH+bEhFJNW9fYdgI/cMBlYu\n",
       "aUkUYkDVfapH61ErL/s5AeHG+z5oSWUBHMUQP/M+W0e2A+xDnq9c4G06EafI20KaOg3Z421aja0H\n",
       "wSmgjlIQQzEg+6aG7rKRtQHhCspUumFZTD7Xtlva1cnVLUXCYnL1L8Am6C1CQhVscl1uewlstxSO\n",
       "XKFw1GWwieMU/FthkzfYyZiHbMqK0U+MZ38LtQ4Yu7YoLi+vuAEfJSWbIVhvVSx/25EupjBEPfkF\n",
       "o6UYF3Bz+AUnffar3qzoc1nJzFXBiNy2N+dTqecrmo61Fouu2S6/j/zFsiH/kmsDFvELQ4JroFCx\n",
       "hN5CWyKvvOeYqt1hyCsJSDxUcAZVzOV6EkJ8LcOwQNPlC/YFXjiVFge6e95MZaKBuMKUTChJVWq4\n",
       "67GS6fQbvsBMsc+Sq/Pu1qb8bJ1wuJWObL4lt61Kpp+XozEyuMdhy07i3QU5aYorZL0zDau4uIWQ\n",
       "3vZcAeJJy5h4GrWLKyA86S5lFXjE/Iq6GtiigimRVLHtcOpJ2ITyvd1x79XCGc2qjx1Mrm06cd7H\n",
       "I5QVl6ituoUiYp8eonicI1xywu/RNhpfuFxPkCuWwelhwHJOaHQdb1h048HqMeuIBQF2PEZ+3Lk1\n",
       "GKnCY1VgPsOsj0n1gfAU0dOwuXgYp8TSFfD3wNab46ErTtdohjsM8wjzEWxm0xzl47lpS0jQx9Km\n",
       "K4Lxz8QIh7sYDM3vYvixTdxlo9vmjbuaK01fBJulh/fIEmxxW3bugT7RNrl9l/hV2tYHPXV0kWw8\n",
       "oecr17YD26oWNO+WFFYsYXuPbwtniQ7Zg0g6GFU4NV3+wGGPkJV923DAy5cJofx62JIHYh4H7+YV\n",
       "dDOftOBtA4bOTGThADaNy91CjWR10eBNvK2yMFBLyGa1oEYXSPE/Blu373XWP7jIakGlbhseFJ6H\n",
       "zW6m9Z82U19EyWtBjTI/XnDLL9hv/5yjcb76UmdeC2pq4vFMvoOcAPALKkeqmonOakEtjT1+nusQ\n",
       "noN42mtIXG1qeS2oRdns46gxtPyJ3+lzP13r3Wa1oIb38riJarQ6ZpLmtFSi0kxntaD6Zp8uGvHn\n",
       "i8svb38A/c1Fz8U1OMIAAAAASUVORK5CYII=\n",
       "\" style=\"display:inline;vertical-align:middle;\" /></a><br>"
      ],
      "text/plain": [
       "innerExpr: {lambda:[_x_ -> (a = _x_)], _x_:(b + (c / d) + c^{d})}"
      ]
     },
     "execution_count": 11,
     "metadata": {},
     "output_type": "execute_result"
    }
   ],
   "source": [
    "innerExpr = innerExpr.rhs"
   ]
  },
  {
   "cell_type": "markdown",
   "metadata": {},
   "source": [
    "By accessing the `rhs` attribute, we created a new `InnerExpr` object that has the same top-level expression as the original but has a new current inner expression.  Note that the `InnerExpr` class does not know anything about the `rhs` attribute itself; it is relying on the fact that the previous sub-expression has this attribute.  The `InnerExpr` class also has tricks for getting an sub-expression with an index (or key):"
   ]
  },
  {
   "cell_type": "code",
   "execution_count": 12,
   "metadata": {},
   "outputs": [
    {
     "data": {
      "text/html": [
       "<strong id=\"innerExpr\">innerExpr:</strong> <a class=\"ProveItLink\" href=\"__pv_it/ba5c1242463864e80e5767a7c86c5ed01db42e9d0/expr.ipynb\"><img src=\"data:image/png;base64,iVBORw0KGgoAAAANSUhEUgAAAZ8AAAAzCAMAAAB/lfWHAAAANlBMVEX///8UFBQNDQ0QEBAyMjK6\n",
       "urp2dnYiIiLMzMyIiIiYmJjc3NxERESqqqpUVFRmZmbu7u4AAABG+8EjAAAAAXRSTlMAQObYZgAA\n",
       "BXpJREFUeNrtXOm2qyoM5l7mQYb3f9kjqIiKSita91rkxzmpu8GYj4xqAWj0DBmHr4hbox9RU1FK\n",
       "Zd0lMb5boAZZBwCJnyYO9+Yg668y1K0PdU7JR9Sk1Vdk+m6BKtSh9MyJDnKrjoDKLg84/rFZ8ApQ\n",
       "y7D9AT4W2ZsF6hAx/T88mnnmMvgAS2mqJHNms8cQOYbHrGU65bof4KPFNwJWQ/ocNtJwMsSsObZH\n",
       "LocPkE6lScFttxQ9iwLUbCLsD/CR8EsB9FyUsz0WcjAxj2eNXBYfQBybPyzAmjA70x+9Ah9jvhTY\n",
       "KmuvZuC9BXR/SgZHG9loLXuED3MkMaz+s/hA/J0A3oaMjl/UZW8BX1lP7kJjOJ64PD42SR9/GB/m\n",
       "vhQgFDyFT/AUJQbvMjFUTdweProEH8G58Y7GFDSMc8V7JfiQ6pDp/zhmZ2sI53jAZxKZFofqDB9J\n",
       "uJYdNzv2QUsjLDYBh3MZxAmGpyGKx/QTlS/C50TH/AKW9GZhANp+WzBhh0p5rpmv49P5KsMEAyEl\n",
       "/DcJ881SOBCMEb4mQ9DgAZ9EZFycnuBjezRF7+17FdXqsE4Dk55OFKBRszcZlJDeCNiQctMcfIzP\n",
       "mY7ZBZg3C6IAGy64Eau4OnFX8BH+CrALQISNF77JwnUNVy09KEhFNhUZVz+LbyRg218eK8LHarmN\n",
       "wtKJRfDYn1/osR/3akFSis+ZjrkFLPSflVjFV7biLsU3gAkfSj0Vrj30sSk+HjE5dLdyzD9RpDD/\n",
       "eEvpA8v+/x9dEEwmWVMS1MFz6HkGGQUGB1+2cIf+c6JjbgHtso0NXnFX8JFI2xGOPXwg6r1FzPgk\n",
       "Ih/UB5CXlxQab5uwEK6sY+f1iZn/G/WegiGF62BYrGN2gVzXkhRRE3cFH4QGOKwt9p9EpBwfGVa0\n",
       "RfgYuTX3oIHPi9MaJvU4tREIqppljX1Svx3qmFlAZmdmVf3HjpfNMNvDh/mz0DkVpSKF+AgZQjvg\n",
       "RfiwxVWPm2TYi33u7848aNpVbJN+DvE50zG3wOidIoNyyl3xH6iHUUMnM/igUDaYeMAEIyUiZfVb\n",
       "11+HLz7knnn4JhMksW50DSR85WgAOZ2+DQK6V3V9R+UAn1Mds/knuCpZ7pi5cpq4r/Bh2rm+TpLK\n",
       "cG4J4uEz65SDBnDk/PBUWd//TDE09D8+eESR0v7HKk58o/DpnHPAjsbuh2OmOC4UsHoqeIvwKdNx\n",
       "vYBvCtcOV63/uYnoMOqeaB0u9v+SJ/zp/OBAYGneL3QsGUAQtOZeiE9FKijZSgXw1flOyQIxrkTu\n",
       "HB/pzJ/FR5O7BaqSjekncnl8QIKPKBlsvhQfRu8WqEpCbbgdfNB8Y4s+qHL1U6nuboGql8823A4+\n",
       "XXQa8nEMfxM+Et0tUNN9zJbbwQfocRhP3JOPG9V31Y7cLVBvL6ktt4tP33BJ/zTLQw9WxVha/fk3\n",
       "0d0tUIuMXXP++bfd4llADiTVFjR6JXVhHm8gbqZ4IxnI6tUH4Q53s2lNeGKrVKG+tn25+PGspdHR\n",
       "MMKJuT+9HOG0vxvBmlXrEZp3u3SXK07XclhlSu6+2svzN+tks2hVqjy/DtMK0ir1p/ERyrkOMOfU\n",
       "Krmsbrv5+2MNnl/4DwlPp8qtPG1GfEV8UwjwTGXWnOUl+PSRTDR7vbg+6E6LZzdRs+sP8DEEtmD2\n",
       "Xnz6skwV3dIyrUn9AT7+mS8LTUH9Zlt4exCfMaNQh3wGcoqDRY5Z9T8hT6Fm1rfOD0IgNM2sb8Vn\n",
       "fsO/USV8kt3u1NXV5jf8G1Wh9P367O9TfETJG/6NqhBPi2F29QZD+oZ/oxrhDaIlWpeeHVi84d+o\n",
       "AjwUrn/A6tJjVukb/o0uUwc3v7El9ZUaIX3Dv9Hl2mD+EZh/PbZJLT/n5IwAAAAASUVORK5CYII=\n",
       "\" style=\"display:inline;vertical-align:middle;\" /></a><br>"
      ],
      "text/plain": [
       "innerExpr: {lambda:[_x_ -> (a = (b + _x_ + c^{d}))], _x_:(c / d)}"
      ]
     },
     "execution_count": 12,
     "metadata": {},
     "output_type": "execute_result"
    }
   ],
   "source": [
    "innerExpr = innerExpr.operands[1]"
   ]
  },
  {
   "cell_type": "markdown",
   "metadata": {},
   "source": [
    "Now will \"dig\" down to the denominator of $\\frac{c}{d}$ and show how we use the `InnerExpr` class to replace a particular occurence of $d$ rather than a global replacement:"
   ]
  },
  {
   "cell_type": "code",
   "execution_count": 13,
   "metadata": {},
   "outputs": [
    {
     "data": {
      "text/html": [
       "<strong id=\"innerExpr\">innerExpr:</strong> <a class=\"ProveItLink\" href=\"__pv_it/58a489212c22f0325df4c1d2e8d41304d8d4859b0/expr.ipynb\"><img src=\"data:image/png;base64,iVBORw0KGgoAAAANSUhEUgAAAa8AAAA/CAMAAABgpLfEAAAANlBMVEX///8UFBQNDQ12dnYiIiLM\n",
       "zMwyMjJUVFSqqqoQEBC6urpmZmbu7u6YmJiIiIhERETc3NwAAADf8oWlAAAAAXRSTlMAQObYZgAA\n",
       "BmRJREFUeNrtnNm6pCgMgJ1hlZ33f9kByqNRwa2U0vnMRXfaOqmj+SELQjfNnzhrmhqi2iDy/O81\n",
       "uobJOS5gKqs3MvpGzX4cZ+5Te6sq8brka42tYXKSCJrXo8x5BTZ0etF4WWtwXcKL4xoml4yuybDJ\n",
       "8GqIx+Orwlcba5fwUi2pYHKiUJ3X87xmfFrvHs3LyhomJ4oDDncj52d5NcxzGBo8a57MS3hVweQU\n",
       "kV58/gYeh3qBF/F0RE8/mheVNUzOeXy/MsHyvEIEBNdpB/2hvMj+aE7qJYBJlUMzAwbqBV7Uk8I/\n",
       "nsdL4hom5wiSfZEOC/YavIiYjFFFhPoFr9bUMBmeQCJzyNxJgyjvAyMHQZJ/zYswipZxyWnPxu2o\n",
       "iqnFi+wfbYOJYu3OqaYwCdXKEc7YhVTV48DAe0A/Pr/wWtGI5SyZ/oKX8V+Z0J21MWMxkhy4Txbc\n",
       "RYanZ2CcAP04L7v2IPQevCz+ymR2z2q5FFmtzUr20dCw7JgB+v+fF7bfmMwbMW6WC/K1yrJgr+Iv\n",
       "srqnKYDTgf7/53Vg6ROYINzs4tXg6CukdvOKJELe1KrPoRzkU34WL22MjIUHsa0kxlgT7sd8qhwq\n",
       "w4dMD0WT+PzaP5OekF3l5ZBhjhtZeNTxGjbn40ECjBwzSLRrMwCaUNY/wzZe4VeYJVxze4WCb0KR\n",
       "Io02UuduAuhf8uKhqGlk8he1On4zInEBK11Ijkk/5lqRwjAfm3Q3g9d4qYBXY92UarXJZfjOKJRc\n",
       "g7cTKtsnA0mBsKyJSiupo+fnX74InNqT6Bs6fzKPcvqXvHT8SKSYbZOn01Ljpx7+uMBFSNT2KjTp\n",
       "fLIaD1GXcznZxEsxB2tzPeYgV/MZMOEpfbXoOl4q9XpWL8bxQf86fwlkUPrcJj+kmQt5RYLuM59d\n",
       "F4Z7k635K94jW3Dzv//gkbSgSAOxn6WZhc06Lz5MwVkKnPLyq7LIi/kNefc0Xo4y1eEp8WppmE16\n",
       "4AVM9tQbS0sO02DCRNb5Kbap9fYZmKQesrv9Ln7idho/N69y5eyLrxYv4UXpB49Sm+cXMNnBy6Wv\n",
       "VJt4SZcNbp+7iLlV/a0SArHZeJjuWI5q+nPjofOmIi/VuYAIUuJFYmzCQyqDJlt5afdpGc0mXqTg\n",
       "kE87wWgxDWZ8mB5klL7Ozl/d2NB16o02/hGSEXcZXjSVIbK/IJPDgMnG+pCHZ4rVjCt5ysyyXfa5\n",
       "45t1HiIcWu2/+p9gfPK+8HReLE0dROaDRuf04+u93ocyzFlpjELUpH8Tbn0rG0N9XAy2KvZfvOtK\n",
       "Uv8V00FvstR/cfsn4f6UDR1NaFL07JMtMuyOi62RINaI7SaKgZbomno+dqaZwPFFv4wrvhw/f32D\n",
       "2nNNVniFzl4YRg7bD0HF5fQCLzZ6/dI2D+Yl23NNxKK/kYqdR8uP2g9f5LN6gZcB2U579GRefH90\n",
       "4McDiphuQDsqlmb1Ai9YBNQMhxfw2rLK/L0JrFZO2fsB63ygF3j1G6viZOTNk3nV3h4V3zl+v98F\n",
       "7viBeolXg7tPtDfNs3nptobJn2sbRJvm+wQC3+NAvchL4bSLXrY1Z9clvNT+7Xi7TJT8SHRUaD24\n",
       "TO9T4NUD0uqCXsxNimES3Ieap/NqkK1hcm6R1Ob1BV4hEIdIqChVT+el9u+QUp78lBc80zU631Xm\n",
       "ZT6LIApj9XBejaE1TM5MuTivL/Dqy0Ln7dN5HWmJqP4dLge2LLjx9oUSLzEs4cuaBf01vBQmFUzO\n",
       "G148ry/wAk3y+LDK1by8tRcclXbUVTA5SZjJ6ya4prB2IeCRL19zgUMEucBRTtQwOWfIirwebihI\n",
       "aXkDnsj8cbH0yqpY2DC+vG4vPzv/9cpdeAnbytexT5pfnr+OfRCvX525f3kdE4Rfvz6JF33T1895\n",
       "aetDViLe2+mPjLappXM8b/q6w/xC6VzgfEUC7gDpzvG86esO8dDSxuQ+H+h053jo69Y78AqBb+XV\n",
       "Q3eOB71uvUW9wdc2O3TneMTr1lvwkqhdzEyzczyv/JIXUqO9qJmAufUczysVeMVTIyqzMgjqw83n\n",
       "eF65jld3NhfHl8889F+mvzTrvzaf43nlFF727XTvLhhu2jf+jWT3lvGRL1fzANgrB0SP/9Ml6fXr\n",
       "kztLO1nrw++OgDvLrMBQ+F2duG/yspnw94bE2+JqszuRnXtdc08Bke8/Qy9ULweaF4kAAAAASUVO\n",
       "RK5CYII=\n",
       "\" style=\"display:inline;vertical-align:middle;\" /></a><br>"
      ],
      "text/plain": [
       "innerExpr: {lambda:[_x_ -> (a = (b + (c / _x_) + c^{d}))], _x_:d}"
      ]
     },
     "execution_count": 13,
     "metadata": {},
     "output_type": "execute_result"
    }
   ],
   "source": [
    "innerExpr = innerExpr.denominator"
   ]
  },
  {
   "cell_type": "code",
   "execution_count": 14,
   "metadata": {},
   "outputs": [
    {
     "data": {
      "text/html": [
       "<span style=\"font-size:20px;\"><a class=\"ProveItLink\" href=\"__pv_it/a183e726324d1e0d1513622a45002edb709ce6760/expr.ipynb\"><img src=\"data:image/png;base64,iVBORw0KGgoAAAANSUhEUgAAAEMAAAAVBAMAAADvM06qAAAAMFBMVEX////c3NxERESqqqpUVFS6\n",
       "urrMzMwyMjIQEBCIiIh2dnYiIiLu7u5mZmaYmJgAAABXZE4RAAAAAXRSTlMAQObYZgAAAQZJREFU\n",
       "KM9jYGDgu8eAC7CtEgBRPLsYcAO2ZhDJ+QHMCerFquY6iOBqgHA+Y1WyAkkJ6x+CSrg2EFTCfoGA\n",
       "EpFZ8QaocqduMTD+gSrhLQA6pJFB/wCIXQ4GDkDmgniwX9+DlGQEMDDIP4D4DilADG4zMClA7E9p\n",
       "Awr4MzCgBSAPQycD/wQgQ/0BA0NEAgPDJwaer2juZP7DkA+U4V4AZLMUMDD+ZGD+wANyy24wUIA4\n",
       "cQYD1C3AAOH5DFRohmoK0BEqyJ6uY7C+sABVCa8D6z9kJSIzwzQD0NyrOfcjWuhiAnCU4FPizXDC\n",
       "AKaED7uSXQxa8PTCsxOrEsu5IMextYI5fIvxp10AvXhJlVEr0i0AAAAASUVORK5CYII=\n",
       "\" style=\"display:inline;vertical-align:middle;\" /></a> <a class=\"ProveItLink\" href=\"__pv_it/3de3eeb4655108812d1b8cc471f99f5af214eb0a0/proof.ipynb\" style=\"text-decoration: none\">&#x22A2;&nbsp;</a><a class=\"ProveItLink\" href=\"__pv_it/9f6bc2ba7b5b0199f70808f2e78dd568a718b0540/expr.ipynb\"><img src=\"data:image/png;base64,iVBORw0KGgoAAAANSUhEUgAAAcYAAAAcBAMAAAAJngLnAAAAMFBMVEX///+qqqp2dnYiIiJERESI\n",
       "iIhmZmYQEBDc3NyYmJgyMjLu7u5UVFTMzMy6uroAAACGxKilAAAAAXRSTlMAQObYZgAABB9JREFU\n",
       "WMPdmF9IU1Ecx3/76/Ruu6PoJYhGYQ9BMSzEHoIZ+BAEDWP6UMnQCjJCCwzpQXyIghCmUD3UQwsp\n",
       "cEkMXwRfHJWVvjgoiEDYoCAIchMUkqH0+21z3nPPOexeXBM6D+76Pd9zP/ec8zu/c+4F+LelLwO7\n",
       "VGpHnt2tLrLkZYlpuRqk/WClH7+ozpupFdmTFHtkurlypHifJVHdEtSKPJMQe2S6mXK//QVAGC8c\n",
       "Ib5SeQ21Is9LXELdG5K460Vxp7S48gC2Ybxs4Wvdo7Uiu/rFTVFXPgYMhtePO3BTILsjHry7g0Lm\n",
       "El/7AKpAxlKZ7IyIW5LewC0MWXitQINAVTNEUfKU5fj4uwbVIIMBcp0kuZGu+ramfrj4yywrx3ay\n",
       "9Oah3s9aC+k7YX+G/57CSxsfmENQBTIFa0VyWkIiPbs1+JYSoU47G+mV8qU1AEo/ay3a09+wxRWa\n",
       "nCCXPXPVIFPfKpI7JSTSD4OO9EvrsA1uhwuGVytP8l59fB1/ntNgcz1y9FeDTKUieYFW+dzxQT2J\n",
       "9MnwPNu8m/5MNV5mrSPtWR/tRyxp20aT4s1zaSFmlqwcCqcY51Q3UPqsSD6Hlz+H7YVh7o1TmSxU\n",
       "o66sgppimk9QjA3BOJvVB+F8gs4VjFVjS+NNPBugI9iTZslfMw1suvVnwZEzQH6Fg7kuWC6oW/JQ\n",
       "52eaU5qYDsFZxhkdhV56XJaksUUxibg2uXQYMUlWBsDOZC6PrwfsQQPkZoyaHNi4HRZ1ZwzUCNOc\n",
       "HnSxmOBPFEqwKDSVUoXGuqhJchjJyooeYIuYJLtzOrICA6CGDJDxjmoQZlMCEj5FFgfOGY+P343H\n",
       "k6U+ruqdq6BslvqosWps4nmkPpoiq9yM43RTNFYk4xqIhuAgUG7uKYzQyUL1ZGGT6kswQ3QLm6zp\n",
       "jyVrYMkp+ojR2qL4HK7ietQQaJs3RY5yM47T3QkGyO8LM7pg0Q8n6rjsb7NhQHG+julYuxNjLLhj\n",
       "BwCestayDbMb7sbeP1xeDZokqzizo8wZAJc0pcyK5AtoHbU0W/WPgLrb50yyzSlLfwA4xuzEE7A3\n",
       "4ucyeNkm3R8DJsnuCFhTDNmZ9K6DAXKWNqmuL116EurK3HXdTvydbtwYTjA78Uj4dxvG/RvWWrYB\n",
       "HKWTUIx7kciZJXeHL7JnAKWtg8KjIllNiU8bjF4+UQ1LT8aiE1WpvKSw4uUN2DkZD5EGyG6/mMTo\n",
       "Wy9v9X5pH60h2XueQmM9yz/jW9gp+R1M+4yQPQHJBwehLn/DmZHW1FPOf8Trn2Gn5CY4Y4zcKjEI\n",
       "9RHp/T5Ja2wUe6d53e7bKXlfR8YY+aHEINRdsi8OjpSU9IRGVPAm7orVjGyRrDGLvzrfOV0UMPdE\n",
       "NXugZuQxiWWsOiQnJfIbwuXi2y3y/1f+AtwYm1hz+m0XAAAAAElFTkSuQmCC\n",
       "\" style=\"display:inline;vertical-align:middle;\" /></a></span>"
      ],
      "text/plain": [
       "{d = y} |- (a = (b + (c / d) + c^{d})) = (a = (b + (c / y) + c^{d}))"
      ]
     },
     "execution_count": 14,
     "metadata": {},
     "output_type": "execute_result"
    }
   ],
   "source": [
    "d_eq_y.substitution(innerExpr, assumptions=[d_eq_y])"
   ]
  },
  {
   "cell_type": "markdown",
   "metadata": {},
   "source": [
    "Let us demonstrate this technique again, replacing the other occurrence of $d$.  This time we do this more succinctly, without the extra pedogogial steps:"
   ]
  },
  {
   "cell_type": "code",
   "execution_count": 15,
   "metadata": {},
   "outputs": [
    {
     "data": {
      "text/html": [
       "<span style=\"font-size:20px;\"><a class=\"ProveItLink\" href=\"__pv_it/a183e726324d1e0d1513622a45002edb709ce6760/expr.ipynb\"><img src=\"data:image/png;base64,iVBORw0KGgoAAAANSUhEUgAAAEMAAAAVBAMAAADvM06qAAAAMFBMVEX////c3NxERESqqqpUVFS6\n",
       "urrMzMwyMjIQEBCIiIh2dnYiIiLu7u5mZmaYmJgAAABXZE4RAAAAAXRSTlMAQObYZgAAAQZJREFU\n",
       "KM9jYGDgu8eAC7CtEgBRPLsYcAO2ZhDJ+QHMCerFquY6iOBqgHA+Y1WyAkkJ6x+CSrg2EFTCfoGA\n",
       "EpFZ8QaocqduMTD+gSrhLQA6pJFB/wCIXQ4GDkDmgniwX9+DlGQEMDDIP4D4DilADG4zMClA7E9p\n",
       "Awr4MzCgBSAPQycD/wQgQ/0BA0NEAgPDJwaer2juZP7DkA+U4V4AZLMUMDD+ZGD+wANyy24wUIA4\n",
       "cQYD1C3AAOH5DFRohmoK0BEqyJ6uY7C+sABVCa8D6z9kJSIzwzQD0NyrOfcjWuhiAnCU4FPizXDC\n",
       "AKaED7uSXQxa8PTCsxOrEsu5IMextYI5fIvxp10AvXhJlVEr0i0AAAAASUVORK5CYII=\n",
       "\" style=\"display:inline;vertical-align:middle;\" /></a> <a class=\"ProveItLink\" href=\"__pv_it/d3e5f705cfa1a5e530d111331b31da09d4ae49920/proof.ipynb\" style=\"text-decoration: none\">&#x22A2;&nbsp;</a><a class=\"ProveItLink\" href=\"__pv_it/f04d589acee7e81bf07180ed01dddb873d2bb3110/expr.ipynb\"><img src=\"data:image/png;base64,iVBORw0KGgoAAAANSUhEUgAAAcIAAAAcBAMAAAAAdaKdAAAAMFBMVEX///+qqqp2dnYiIiJERESI\n",
       "iIhmZmYQEBDc3NyYmJgyMjLu7u5UVFTMzMy6uroAAACGxKilAAAAAXRSTlMAQObYZgAABRxJREFU\n",
       "WMPtWF2IG1UUPtlsZyeZ/IH4UpQOyu5DQVmsbvVBSB9EFgTDumkR2xJWfbBV3FaUxdIlD/qiC4lF\n",
       "fKiggaJQLSUoUimFrGKq7UvzUNiXwgZWu1DQ3cAqLWGj59y5k5kzc+8ykdaKeOBmJt899/zce35m\n",
       "BuDOktGD/zhZ6/8CI34bEB+IYjWw8TJ0Nx1MLw6GD0ZDJbh224T9TTpfHwwfhMyXd+ZgWwHviv+o\n",
       "T5lpGPHMv6ThUuO/6IR+ogK/LldQ0eN4Fy9HlpUpRAWJEm0F+E22vCRmaJizmu1H/MIbEUM383TJ\n",
       "aCnwi7CEv/txbFuMnAbXwPpxPAwq6ee34DUF/P4KTIOYwWGUNGWe8DNBNKkJ3WwOagq4J7xr4CKr\n",
       "C1FlfYlTiwpQSR1IquDvoQliBsdIW71U4B3337fyytJpyrtdq8OJACsItybxb7yK90+ENGhSk9IW\n",
       "N0xKKHugx2F7wdOFhM1ZBc3DcRAzOJY1m7PsrJd0r7we80fZn7n+/YMA5wKsgj29+TGGQx5vXwpp\n",
       "OKbZ2rrYMNlsCh7omdbxSvU4WLOcVdDxDPZhmsGxT+PhPmc9NzvDQnG3t2ufAwznwh5ef34vnl+C\n",
       "uv6nodytqRXfcDaMm33DzxGf8yIdc2mPwsP7pkn6HjEuE7AwtRqsdYQnm/urzGyDIuKr0QOBotR8\n",
       "uCM6H/PQeqDY6oeS71j6iW6rFc9Q/hcvcbNnmECXFqbWcFvHAh6ifWY5Rf/GxHiGTJiDZ4XSLwSJ\n",
       "NCe8kYdNZnYSHU7PwymuaLU83BVPL8zDpXZShkCahCwL6w4JBWdcWSrFp9GXDci2mNmnmUA3CnA1\n",
       "7tt27iHZN2yLQ98uBsYXVKrhNCF8Rx2OMrOp/JwrwCQ/wltgoHeZWcZqvQnDMgBMevqutBWlTKV4\n",
       "Ho3twojNzJ5nAiXh6kO0wdxDsi9WFMtXxZjA3ysAjwUVEY7r/2BmZ9uCmejFXUSP4l1qHeIoML3O\n",
       "WFPeI7dFlaGRCzaYtloxbgduWLbEzO71BRpC7668Y/Yjsib6WK/warksPNkAa1Pl4QRkbjmhtdsJ\n",
       "LbJqI9QL89BoSw99rHnvkJVn6MgKK0bmeAnWqiJ2T73txG6PCZSEq3vSDx/rRtBDtMb8HWLrFt8f\n",
       "0ew7YHR5lOaIOUCVAuyAejBKK15pM8mLSoufvJQVVnxEtMPX6+xgjjCBUqxczaPUb58TpT+IKErV\n",
       "7g+sRxzLjEwH12xKBDzVBOv4GH+XYy1I8EqTRVaZNpmbVEuDNRNlKRVjkmOZOcpDb9IvUHZ8d/VJ\n",
       "zurZJ2ZOwnOiUt1TsgOKCP8OXuX9kDrCRYCHWMdPVmMTQ6FukSrBkCzu6n5I/CrFWOJTOWORmz3m\n",
       "F+h2fLk60C369rndYo36SvHXp4JpQviFvdVAx8dybYwW66zjm82DVw+io23eLWaKL7i+0OnuDHX8\n",
       "cbXiFTyd5iuBjr/iF+h2fLn6LGf17BMzZ93GE36WZrhr9pz+nUz11Ca7KOn+LARrZI34w7n/1FbW\n",
       "fydRPbX1Z3CkbPVCjruvcif0Ho5q3/oaaJ51MwRrZCVsxWthwtZ/RSjo3iBpBkd6XPMRQ4kntS/+\n",
       "Vk1rw4dkYn6Qt6eIoPMtYsuZ89B/cA2REje131tS+jh6knKnFVnWQmRQ0E9bztB4TzOvxt/ViTug\n",
       "VZSgIvtRdFlmISooWkcLtpgRszFNiMfs2/RZ6B0yMH83Pyd+MCA+KB2mEl6H/+lO0V/ol4TiaQmB\n",
       "hQAAAABJRU5ErkJggg==\n",
       "\" style=\"display:inline;vertical-align:middle;\" /></a></span>"
      ],
      "text/plain": [
       "{d = y} |- (a = (b + (c / d) + c^{d})) = (a = (b + (c / d) + c^{y}))"
      ]
     },
     "execution_count": 15,
     "metadata": {},
     "output_type": "execute_result"
    }
   ],
   "source": [
    "d_eq_y.substitution(expr.innerExpr().rhs.operands[2].exponent, assumptions=[d_eq_y])"
   ]
  },
  {
   "cell_type": "markdown",
   "metadata": {},
   "source": [
    "The `substition` method, that we demonstrated above, is a direct application of the `substitution` axiom.  It proves the equality between some $f(x)$ and some $f(y)$.  We often will want to take a shortcut to perform a statement substitution in which we prove some $P(y)$ is true assuming that $P(x)$ is true and $P(x) = P(y)$.  For this, we have the `subRightSideInto` and `subLeftSideInto` methods."
   ]
  },
  {
   "cell_type": "markdown",
   "metadata": {},
   "source": [
    "If the expression that we want to substitute in is on the right hand side of the `Equals` object playing the role of $x=y$, then we use `subRightSideInto`: "
   ]
  },
  {
   "cell_type": "code",
   "execution_count": 16,
   "metadata": {},
   "outputs": [
    {
     "data": {
      "text/html": [
       "<span style=\"font-size:20px;\"><a class=\"ProveItLink\" href=\"__pv_it/1280808f0145c3d4e459be0d5fdf4b70d23375240/expr.ipynb\"><img src=\"data:image/png;base64,iVBORw0KGgoAAAANSUhEUgAAARQAAAAcBAMAAABSel2TAAAAMFBMVEX///+6urp2dnaqqqoiIiIQ\n",
       "EBBERETu7u6IiIjc3NwyMjJUVFSYmJhmZmbMzMwAAAD0pS5FAAAAAXRSTlMAQObYZgAAA5FJREFU\n",
       "SMfNl01oE0EUgN/uJtlskk3qQdGLWcFDESo9iIigDaJSwUL9AYkgBIpFUHARKtgekhaFgKg5ikVS\n",
       "sQexCgVBaqk0aEERxAhFpIoNCJ6ERgJNC7X4ZibZzmx2rYkBHdifzHv75pv3txuAfzrmW+B/GUnx\n",
       "Z/hzQ1Y2NANlL8j0uo95ZzLTiJHweDNQ2ip2tF5y9pcbMtJv/j3I3aH7AGl6683jKTjSkJkpx9nN\n",
       "Ltohp/RUj2joBg8Nim9kDUU6m6+HROsGGDj5h1HbdAa+OEwH82G04qfPBDkUiLTXg6IT8DH7bMAl\n",
       "aiUIOMxGWgiGWq5BidYVfG8LXaHi6WripzkNv2HdSmUIVX9d4SrZ9L3CJ4/WoGyvK1UW2ApsKKnK\n",
       "zSleo2TdyjFQuyv3e7jtmAvfcf8falAe14Vyja0gokh8BXjia3HDaPbUokgfX5OW9s5C8SVIFk5s\n",
       "K9nSu82ALIsZCuN2lEmywsT1nICikyhcar0pqg4PRdtJBxFR1tRoZlAUL7GzMeMj3tYf0kFyWpaK\n",
       "cIvporBIrnNUyHL1PIl1AlYFlACShY/BqEAixeGiSfqqgMKpLRRItePyGjGtrYBuay9f9Rj0Mqeg\n",
       "MGH3CglnhwnHBRSSy30puCBoZnMwR/YjonBqWdpz5jIwQ5iCRfAY4lomemuJlT8KU3aULvI0wE8B\n",
       "JYJGp1moDtJBdoATByp5zqFMc4VEu4jWCUonsZGApL0fdphh5n4iLDihdIG0QoM6epoFlaAs2jUX\n",
       "Qf1RRcEQH2Ih5tSYV2YQKIkBzqagA0xhM7hnPyvAqhBmqfAwnRyjbUUviwFqB23J3paXQCmq9gDx\n",
       "almyT2W5UkHoo0mlYM8G3zio4CyEp3isgtcQUHy4K/RTiG9xagmrYz/AGzFAlhpWUIbvK4Gc0iXb\n",
       "FvsE0RwkY85CuIrHE9QRUGTsH88Bdgot7hHsyhs1xWyp8X2FnLSJwW+DtsUup+cz0LfsLIQoHgM3\n",
       "crYWh+B6a9oUWtxweus5zIZ7IoqlBrCjptvWDvIq2OIii/ARsxp/3LU7OzX+yniwHkowpp7AS87F\n",
       "dJCvfamK8sIVRU65fdGoy+uheAyf8RuUcMxpNuD6du93hQwl1kNR0u9JGbha6HH8oHL94H3mashT\n",
       "sFDk7oY+KO84zt520fYXXA29ZUBkE+pYQyiK0Zx/Qhp7vc3S0IamGrLxsjkoOmXYnYP/afwC9bb5\n",
       "Xr11QjwAAAAASUVORK5CYII=\n",
       "\" style=\"display:inline;vertical-align:middle;\" /></a> <a class=\"ProveItLink\" href=\"__pv_it/90da8f1ce7286a75dede8654898bf4d8af3b79e10/proof.ipynb\" style=\"text-decoration: none\">&#x22A2;&nbsp;</a><a class=\"ProveItLink\" href=\"__pv_it/feee2bd332d3fae8dcaec7db93efa9eb78547eaa0/expr.ipynb\"><img src=\"data:image/png;base64,iVBORw0KGgoAAAANSUhEUgAAAMEAAAAVBAMAAAANw5eWAAAAMFBMVEX///8yMjKqqqrMzMzu7u4i\n",
       "IiJmZmaYmJhEREQQEBC6urp2dnaIiIhUVFTc3NwAAAD87Fq/AAAAAXRSTlMAQObYZgAAAk5JREFU\n",
       "SMe1VTFv01AQ/py4qZ3UThlgQ8oPiBSLCTaPFFSShYpuzcACqvBMFzOBxBIhWAChrEhIjYRggAyW\n",
       "ihiKEYWBKRL5AYhYpKIMFXDPSWrf83OUhU+K8t733fP57t2dgf+FFz4ezpMXJgVuKzg9+FPsKJUY\n",
       "xQOsP1KQOSg5Wc6+1FrxlUoMzQXOqsgcrCo4q2cFakUgpN/P2eZKijzBB2a/I5kKmF3TSRQZdEXl\n",
       "w9mmnpBJxv7W0vZrkmnswdlNKRLKFFulJXkos4A3h+mdUct6KAzuTBV78OaZfHM9yvrgo8eOCRKX\n",
       "+3u8Yl73MHJR2eIe9Leh8wMDWgnl+dCIBNs+JRDfr0bPbvoYs2OCLD7GaeahUo7wid53lXu40NVa\n",
       "9+OgSbGPUPKlGMwu0HDxhB0T5FqAu8zyXKmFe5TBDjPVn8Lw6nExkGJFWAokD1V6WBv4xY4J8ttk\n",
       "ef2qwDVauWaAY4otYqZWlJREhKqPpqPwsIHy0SR3m5PcCfJ3pigabnE89ZAy9dMeRgEacNmLwayJ\n",
       "digd8izVYB9nPLSx0slkaZQkhZRmDZ8LUhAGXeoYZo8dEyRFtcw77gwMGibL/KarZDotRFI0r7BR\n",
       "kV5MlNgXbPN+EORX4CXvuG3sepCr1dpCxTk5ZQ/2z+/LHUfdtv7ekzqOyFI/dHnHXQxv0Urr8mq9\n",
       "Gb6bDbOuuqlZC9ZVZIJXOVODzxMZO6rPgmqIWS39Af31c78g/TnTeyFyqWdQPeh5MzpfsQ8WJAvh\n",
       "DRHJMM9DvvJ9YVJgD3OUf/lelAzJN0uoAAAAAElFTkSuQmCC\n",
       "\" style=\"display:inline;vertical-align:middle;\" /></a></span>"
      ],
      "text/plain": [
       "{d = y , a = (b + (c / d) + c^{d})} |- a = (b + (c / y) + c^{y})"
      ]
     },
     "execution_count": 16,
     "metadata": {},
     "output_type": "execute_result"
    }
   ],
   "source": [
    "d_eq_y.subRightSideInto(gRepl, assumptions=[d_eq_y,expr])"
   ]
  },
  {
   "cell_type": "markdown",
   "metadata": {},
   "source": [
    "We can also take advantage of the global replacement default and provide a non-**Lambda** **Expression**."
   ]
  },
  {
   "cell_type": "code",
   "execution_count": 17,
   "metadata": {},
   "outputs": [
    {
     "data": {
      "text/html": [
       "<span style=\"font-size:20px;\"><a class=\"ProveItLink\" href=\"__pv_it/1280808f0145c3d4e459be0d5fdf4b70d23375240/expr.ipynb\"><img src=\"data:image/png;base64,iVBORw0KGgoAAAANSUhEUgAAARQAAAAcBAMAAABSel2TAAAAMFBMVEX///+6urp2dnaqqqoiIiIQ\n",
       "EBBERETu7u6IiIjc3NwyMjJUVFSYmJhmZmbMzMwAAAD0pS5FAAAAAXRSTlMAQObYZgAAA5FJREFU\n",
       "SMfNl01oE0EUgN/uJtlskk3qQdGLWcFDESo9iIigDaJSwUL9AYkgBIpFUHARKtgekhaFgKg5ikVS\n",
       "sQexCgVBaqk0aEERxAhFpIoNCJ6ERgJNC7X4ZibZzmx2rYkBHdifzHv75pv3txuAfzrmW+B/GUnx\n",
       "Z/hzQ1Y2NANlL8j0uo95ZzLTiJHweDNQ2ip2tF5y9pcbMtJv/j3I3aH7AGl6683jKTjSkJkpx9nN\n",
       "Ltohp/RUj2joBg8Nim9kDUU6m6+HROsGGDj5h1HbdAa+OEwH82G04qfPBDkUiLTXg6IT8DH7bMAl\n",
       "aiUIOMxGWgiGWq5BidYVfG8LXaHi6WripzkNv2HdSmUIVX9d4SrZ9L3CJ4/WoGyvK1UW2ApsKKnK\n",
       "zSleo2TdyjFQuyv3e7jtmAvfcf8falAe14Vyja0gokh8BXjia3HDaPbUokgfX5OW9s5C8SVIFk5s\n",
       "K9nSu82ALIsZCuN2lEmywsT1nICikyhcar0pqg4PRdtJBxFR1tRoZlAUL7GzMeMj3tYf0kFyWpaK\n",
       "cIvporBIrnNUyHL1PIl1AlYFlACShY/BqEAixeGiSfqqgMKpLRRItePyGjGtrYBuay9f9Rj0Mqeg\n",
       "MGH3CglnhwnHBRSSy30puCBoZnMwR/YjonBqWdpz5jIwQ5iCRfAY4lomemuJlT8KU3aULvI0wE8B\n",
       "JYJGp1moDtJBdoATByp5zqFMc4VEu4jWCUonsZGApL0fdphh5n4iLDihdIG0QoM6epoFlaAs2jUX\n",
       "Qf1RRcEQH2Ih5tSYV2YQKIkBzqagA0xhM7hnPyvAqhBmqfAwnRyjbUUviwFqB23J3paXQCmq9gDx\n",
       "almyT2W5UkHoo0mlYM8G3zio4CyEp3isgtcQUHy4K/RTiG9xagmrYz/AGzFAlhpWUIbvK4Gc0iXb\n",
       "FvsE0RwkY85CuIrHE9QRUGTsH88Bdgot7hHsyhs1xWyp8X2FnLSJwW+DtsUup+cz0LfsLIQoHgM3\n",
       "crYWh+B6a9oUWtxweus5zIZ7IoqlBrCjptvWDvIq2OIii/ARsxp/3LU7OzX+yniwHkowpp7AS87F\n",
       "dJCvfamK8sIVRU65fdGoy+uheAyf8RuUcMxpNuD6du93hQwl1kNR0u9JGbha6HH8oHL94H3mashT\n",
       "sFDk7oY+KO84zt520fYXXA29ZUBkE+pYQyiK0Zx/Qhp7vc3S0IamGrLxsjkoOmXYnYP/afwC9bb5\n",
       "Xr11QjwAAAAASUVORK5CYII=\n",
       "\" style=\"display:inline;vertical-align:middle;\" /></a> <a class=\"ProveItLink\" href=\"__pv_it/90da8f1ce7286a75dede8654898bf4d8af3b79e10/proof.ipynb\" style=\"text-decoration: none\">&#x22A2;&nbsp;</a><a class=\"ProveItLink\" href=\"__pv_it/feee2bd332d3fae8dcaec7db93efa9eb78547eaa0/expr.ipynb\"><img src=\"data:image/png;base64,iVBORw0KGgoAAAANSUhEUgAAAMEAAAAVBAMAAAANw5eWAAAAMFBMVEX///8yMjKqqqrMzMzu7u4i\n",
       "IiJmZmaYmJhEREQQEBC6urp2dnaIiIhUVFTc3NwAAAD87Fq/AAAAAXRSTlMAQObYZgAAAk5JREFU\n",
       "SMe1VTFv01AQ/py4qZ3UThlgQ8oPiBSLCTaPFFSShYpuzcACqvBMFzOBxBIhWAChrEhIjYRggAyW\n",
       "ihiKEYWBKRL5AYhYpKIMFXDPSWrf83OUhU+K8t733fP57t2dgf+FFz4ezpMXJgVuKzg9+FPsKJUY\n",
       "xQOsP1KQOSg5Wc6+1FrxlUoMzQXOqsgcrCo4q2cFakUgpN/P2eZKijzBB2a/I5kKmF3TSRQZdEXl\n",
       "w9mmnpBJxv7W0vZrkmnswdlNKRLKFFulJXkos4A3h+mdUct6KAzuTBV78OaZfHM9yvrgo8eOCRKX\n",
       "+3u8Yl73MHJR2eIe9Leh8wMDWgnl+dCIBNs+JRDfr0bPbvoYs2OCLD7GaeahUo7wid53lXu40NVa\n",
       "9+OgSbGPUPKlGMwu0HDxhB0T5FqAu8zyXKmFe5TBDjPVn8Lw6nExkGJFWAokD1V6WBv4xY4J8ttk\n",
       "ef2qwDVauWaAY4otYqZWlJREhKqPpqPwsIHy0SR3m5PcCfJ3pigabnE89ZAy9dMeRgEacNmLwayJ\n",
       "digd8izVYB9nPLSx0slkaZQkhZRmDZ8LUhAGXeoYZo8dEyRFtcw77gwMGibL/KarZDotRFI0r7BR\n",
       "kV5MlNgXbPN+EORX4CXvuG3sepCr1dpCxTk5ZQ/2z+/LHUfdtv7ekzqOyFI/dHnHXQxv0Urr8mq9\n",
       "Gb6bDbOuuqlZC9ZVZIJXOVODzxMZO6rPgmqIWS39Af31c78g/TnTeyFyqWdQPeh5MzpfsQ8WJAvh\n",
       "DRHJMM9DvvJ9YVJgD3OUf/lelAzJN0uoAAAAAElFTkSuQmCC\n",
       "\" style=\"display:inline;vertical-align:middle;\" /></a></span>"
      ],
      "text/plain": [
       "{d = y , a = (b + (c / d) + c^{d})} |- a = (b + (c / y) + c^{y})"
      ]
     },
     "execution_count": 17,
     "metadata": {},
     "output_type": "execute_result"
    }
   ],
   "source": [
    "d_eq_y.subRightSideInto(expr, assumptions=[d_eq_y,expr])"
   ]
  },
  {
   "cell_type": "markdown",
   "metadata": {},
   "source": [
    "If the expression that we want to substitute in is on the left hand side of the `Equals` object playing the role of $x=y$, then we use `subLeftSideInto`: "
   ]
  },
  {
   "cell_type": "code",
   "execution_count": 18,
   "metadata": {},
   "outputs": [
    {
     "data": {
      "text/html": [
       "<strong id=\"y_eq_d\">y_eq_d:</strong> <a class=\"ProveItLink\" href=\"__pv_it/9cd34a172bf613a471604ca079a89df5722a51ef0/expr.ipynb\"><img src=\"data:image/png;base64,iVBORw0KGgoAAAANSUhEUgAAADIAAAASBAMAAADrvZC0AAAAMFBMVEX///+YmJhUVFQyMjIQEBBE\n",
       "REQiIiKqqqrMzMyIiIi6urrc3NxmZmZ2dnbu7u4AAADXeCicAAAAAXRSTlMAQObYZgAAALlJREFU\n",
       "GNNjYMAOlvow4ALfcUlw/cMlw5uAS4b5AAPfnQsM+x+giW+au76AgZfrA8N8EO+wMQgYgS3xZoh/\n",
       "wNDOk8AQiqZlvwDDYQaGBywTGH6iyegzMOQCqfoHHD/QZL4y8P0Cmc/A6QDiHksDgVQgi/snA/sH\n",
       "PgYGGwZWBVQtfN8ZmAwqGBgOMawXQDPNkKHswAUGhqczz29A987MFZELQIxr2IOBKYHPHbsM2wXW\n",
       "C9hl2Geewi4BAGPGL+b7L2/VAAAAAElFTkSuQmCC\n",
       "\" style=\"display:inline;vertical-align:middle;\" /></a><br>"
      ],
      "text/plain": [
       "y_eq_d: y = d"
      ]
     },
     "execution_count": 18,
     "metadata": {},
     "output_type": "execute_result"
    }
   ],
   "source": [
    "y_eq_d = Equals(y, d)"
   ]
  },
  {
   "cell_type": "code",
   "execution_count": 19,
   "metadata": {},
   "outputs": [
    {
     "data": {
      "text/html": [
       "<span style=\"font-size:20px;\"><a class=\"ProveItLink\" href=\"__pv_it/4343d5f5a58d5c48dc9fecd6d8d9c7eebf8f71470/expr.ipynb\"><img src=\"data:image/png;base64,iVBORw0KGgoAAAANSUhEUgAAARQAAAAcBAMAAABSel2TAAAAMFBMVEX///+6urp2dnaqqqoiIiIQ\n",
       "EBBERETu7u6IiIjc3NwyMjJUVFSYmJhmZmbMzMwAAAD0pS5FAAAAAXRSTlMAQObYZgAAA4NJREFU\n",
       "SMfNl01oE0EUx1+ySTabr8aDohe7gociVHoQEUEbRKWChfgBEkEIFIug4CJUsD0kLQoBUXMUi6Ri\n",
       "D2IVBEFqqXTRgiKIEYpIFRsQPAmNBJoWavHN7GY7M90pMQZ0YHdfZt+++c28N//dAPzTNheH/6Vl\n",
       "+J+xLw1F2dAMlL3gpdd91upM5BsJEnvSDJR2O47WS87BakNB+o2/B7k7dB8gR01/EU/hkYbCTLr2\n",
       "bpZ4R9zKUz2i4TL4aFICI+uieM4WpSRaEmDgZJ1Z23QGvrp0h4sxjBKkz4TXR4GWDumtKKEcE3tD\n",
       "kqxVIOQWPk4w1Go9KK3yevDH6Qj2StcKP8d4BPXV5a1CpPbrCrOTjcBrfPJoPSjb5aUyb41gNSVr\n",
       "G6dYj4pjehOgJm17DzMdY/4HTvZjPSiP5SjXrBF4FA8bypdazRtms2ctiufTGyJp7x2UQBpXuF2H\n",
       "gpANbXxbxbFSIsoEGWH8usmhREkWLrXd5F2Hh1o7iILwKKtutAwoih/jeD1luEViPaSN1vTGfMBO\n",
       "AFplcp2lN61aPU9ynYYVDiWEZLFjMMrvwxRcNIiuciiM23yJ7HYcSyOhv0UT0CssyjJERxwr7Za7\n",
       "TgOOcyiklvuycIHzLJgwS+bDozBuBao5s3mYJkwGLs2isOnL4NMdKyuidJOnAX5xKC0YdMpK1UHa\n",
       "yAyw44Bd5wzKFLORqGRoXaB0AZ1gbEXY9GnIxB2r5IbSDZ5lmtTR01ZSCcqC6LkA6s8aCqb4kJVi\n",
       "xs1alWkEyph0gsEkP5lCFjqBVrJjzdCbh+nzY1RWolU+QR2gLYqyvAhKWRUTxLoVyDyVJXsHYeoD\n",
       "gmbjsk0oJdWxhBGe4bECfp1DCeCscJ0irMSpFdwd+wHe8gly3HAH5Tld+QytpqDhptLthUyiZgnt\n",
       "Kh5P8TEOxYv68QJgJydxj2BXUV+zmR03Vlfo6XJuLi/KyuD3QehbqlniOwGPgRumIHEIHm3LGZzE\n",
       "Dee2nsNquMejOG4AO0S1lYj8Ftmbks2YI/wpqTq7Cb/dHnAo4YR6wj2EKQkd1lkVq6G8lKJ4s7Iv\n",
       "GnWJQ/HpAf3PUGIJt96Q9FXeL4WMpDkUJffB3S8ojdDj+kEl/eB9Lg3kKzko3mRDH5R3XHtvS7yD\n",
       "JWmgdxYQmYQ61hCKojfnn5Bmvd5maGojkw3FeNUclChl2G3C/9R+A+jy+V4+IIhgAAAAAElFTkSu\n",
       "QmCC\n",
       "\" style=\"display:inline;vertical-align:middle;\" /></a> <a class=\"ProveItLink\" href=\"__pv_it/5ac8437bb457c546d69fa2e1d5a7e7091b48010d0/proof.ipynb\" style=\"text-decoration: none\">&#x22A2;&nbsp;</a><a class=\"ProveItLink\" href=\"__pv_it/feee2bd332d3fae8dcaec7db93efa9eb78547eaa0/expr.ipynb\"><img src=\"data:image/png;base64,iVBORw0KGgoAAAANSUhEUgAAAMEAAAAVBAMAAAANw5eWAAAAMFBMVEX///8yMjKqqqrMzMzu7u4i\n",
       "IiJmZmaYmJhEREQQEBC6urp2dnaIiIhUVFTc3NwAAAD87Fq/AAAAAXRSTlMAQObYZgAAAk5JREFU\n",
       "SMe1VTFv01AQ/py4qZ3UThlgQ8oPiBSLCTaPFFSShYpuzcACqvBMFzOBxBIhWAChrEhIjYRggAyW\n",
       "ihiKEYWBKRL5AYhYpKIMFXDPSWrf83OUhU+K8t733fP57t2dgf+FFz4ezpMXJgVuKzg9+FPsKJUY\n",
       "xQOsP1KQOSg5Wc6+1FrxlUoMzQXOqsgcrCo4q2cFakUgpN/P2eZKijzBB2a/I5kKmF3TSRQZdEXl\n",
       "w9mmnpBJxv7W0vZrkmnswdlNKRLKFFulJXkos4A3h+mdUct6KAzuTBV78OaZfHM9yvrgo8eOCRKX\n",
       "+3u8Yl73MHJR2eIe9Leh8wMDWgnl+dCIBNs+JRDfr0bPbvoYs2OCLD7GaeahUo7wid53lXu40NVa\n",
       "9+OgSbGPUPKlGMwu0HDxhB0T5FqAu8zyXKmFe5TBDjPVn8Lw6nExkGJFWAokD1V6WBv4xY4J8ttk\n",
       "ef2qwDVauWaAY4otYqZWlJREhKqPpqPwsIHy0SR3m5PcCfJ3pigabnE89ZAy9dMeRgEacNmLwayJ\n",
       "digd8izVYB9nPLSx0slkaZQkhZRmDZ8LUhAGXeoYZo8dEyRFtcw77gwMGibL/KarZDotRFI0r7BR\n",
       "kV5MlNgXbPN+EORX4CXvuG3sepCr1dpCxTk5ZQ/2z+/LHUfdtv7ekzqOyFI/dHnHXQxv0Urr8mq9\n",
       "Gb6bDbOuuqlZC9ZVZIJXOVODzxMZO6rPgmqIWS39Af31c78g/TnTeyFyqWdQPeh5MzpfsQ8WJAvh\n",
       "DRHJMM9DvvJ9YVJgD3OUf/lelAzJN0uoAAAAAElFTkSuQmCC\n",
       "\" style=\"display:inline;vertical-align:middle;\" /></a></span>"
      ],
      "text/plain": [
       "{y = d , a = (b + (c / d) + c^{d})} |- a = (b + (c / y) + c^{y})"
      ]
     },
     "execution_count": 19,
     "metadata": {},
     "output_type": "execute_result"
    }
   ],
   "source": [
    "y_eq_d.subLeftSideInto(gRepl, assumptions=[y_eq_d,expr])"
   ]
  },
  {
   "cell_type": "markdown",
   "metadata": {},
   "source": [
    "Again, we can provide a non-**Lambda** **Expression** to do a simple global replacement."
   ]
  },
  {
   "cell_type": "code",
   "execution_count": 20,
   "metadata": {},
   "outputs": [
    {
     "data": {
      "text/html": [
       "<span style=\"font-size:20px;\"><a class=\"ProveItLink\" href=\"__pv_it/4343d5f5a58d5c48dc9fecd6d8d9c7eebf8f71470/expr.ipynb\"><img src=\"data:image/png;base64,iVBORw0KGgoAAAANSUhEUgAAARQAAAAcBAMAAABSel2TAAAAMFBMVEX///+6urp2dnaqqqoiIiIQ\n",
       "EBBERETu7u6IiIjc3NwyMjJUVFSYmJhmZmbMzMwAAAD0pS5FAAAAAXRSTlMAQObYZgAAA4NJREFU\n",
       "SMfNl01oE0EUx1+ySTabr8aDohe7gociVHoQEUEbRKWChfgBEkEIFIug4CJUsD0kLQoBUXMUi6Ri\n",
       "D2IVBEFqqXTRgiKIEYpIFRsQPAmNBJoWavHN7GY7M90pMQZ0YHdfZt+++c28N//dAPzTNheH/6Vl\n",
       "+J+xLw1F2dAMlL3gpdd91upM5BsJEnvSDJR2O47WS87BakNB+o2/B7k7dB8gR01/EU/hkYbCTLr2\n",
       "bpZ4R9zKUz2i4TL4aFICI+uieM4WpSRaEmDgZJ1Z23QGvrp0h4sxjBKkz4TXR4GWDumtKKEcE3tD\n",
       "kqxVIOQWPk4w1Go9KK3yevDH6Qj2StcKP8d4BPXV5a1CpPbrCrOTjcBrfPJoPSjb5aUyb41gNSVr\n",
       "G6dYj4pjehOgJm17DzMdY/4HTvZjPSiP5SjXrBF4FA8bypdazRtms2ctiufTGyJp7x2UQBpXuF2H\n",
       "gpANbXxbxbFSIsoEGWH8usmhREkWLrXd5F2Hh1o7iILwKKtutAwoih/jeD1luEViPaSN1vTGfMBO\n",
       "AFplcp2lN61aPU9ynYYVDiWEZLFjMMrvwxRcNIiuciiM23yJ7HYcSyOhv0UT0CssyjJERxwr7Za7\n",
       "TgOOcyiklvuycIHzLJgwS+bDozBuBao5s3mYJkwGLs2isOnL4NMdKyuidJOnAX5xKC0YdMpK1UHa\n",
       "yAyw44Bd5wzKFLORqGRoXaB0AZ1gbEXY9GnIxB2r5IbSDZ5lmtTR01ZSCcqC6LkA6s8aCqb4kJVi\n",
       "xs1alWkEyph0gsEkP5lCFjqBVrJjzdCbh+nzY1RWolU+QR2gLYqyvAhKWRUTxLoVyDyVJXsHYeoD\n",
       "gmbjsk0oJdWxhBGe4bECfp1DCeCscJ0irMSpFdwd+wHe8gly3HAH5Tld+QytpqDhptLthUyiZgnt\n",
       "Kh5P8TEOxYv68QJgJydxj2BXUV+zmR03Vlfo6XJuLi/KyuD3QehbqlniOwGPgRumIHEIHm3LGZzE\n",
       "Dee2nsNquMejOG4AO0S1lYj8Ftmbks2YI/wpqTq7Cb/dHnAo4YR6wj2EKQkd1lkVq6G8lKJ4s7Iv\n",
       "GnWJQ/HpAf3PUGIJt96Q9FXeL4WMpDkUJffB3S8ojdDj+kEl/eB9Lg3kKzko3mRDH5R3XHtvS7yD\n",
       "JWmgdxYQmYQ61hCKojfnn5Bmvd5maGojkw3FeNUclChl2G3C/9R+A+jy+V4+IIhgAAAAAElFTkSu\n",
       "QmCC\n",
       "\" style=\"display:inline;vertical-align:middle;\" /></a> <a class=\"ProveItLink\" href=\"__pv_it/5ac8437bb457c546d69fa2e1d5a7e7091b48010d0/proof.ipynb\" style=\"text-decoration: none\">&#x22A2;&nbsp;</a><a class=\"ProveItLink\" href=\"__pv_it/feee2bd332d3fae8dcaec7db93efa9eb78547eaa0/expr.ipynb\"><img src=\"data:image/png;base64,iVBORw0KGgoAAAANSUhEUgAAAMEAAAAVBAMAAAANw5eWAAAAMFBMVEX///8yMjKqqqrMzMzu7u4i\n",
       "IiJmZmaYmJhEREQQEBC6urp2dnaIiIhUVFTc3NwAAAD87Fq/AAAAAXRSTlMAQObYZgAAAk5JREFU\n",
       "SMe1VTFv01AQ/py4qZ3UThlgQ8oPiBSLCTaPFFSShYpuzcACqvBMFzOBxBIhWAChrEhIjYRggAyW\n",
       "ihiKEYWBKRL5AYhYpKIMFXDPSWrf83OUhU+K8t733fP57t2dgf+FFz4ezpMXJgVuKzg9+FPsKJUY\n",
       "xQOsP1KQOSg5Wc6+1FrxlUoMzQXOqsgcrCo4q2cFakUgpN/P2eZKijzBB2a/I5kKmF3TSRQZdEXl\n",
       "w9mmnpBJxv7W0vZrkmnswdlNKRLKFFulJXkos4A3h+mdUct6KAzuTBV78OaZfHM9yvrgo8eOCRKX\n",
       "+3u8Yl73MHJR2eIe9Leh8wMDWgnl+dCIBNs+JRDfr0bPbvoYs2OCLD7GaeahUo7wid53lXu40NVa\n",
       "9+OgSbGPUPKlGMwu0HDxhB0T5FqAu8zyXKmFe5TBDjPVn8Lw6nExkGJFWAokD1V6WBv4xY4J8ttk\n",
       "ef2qwDVauWaAY4otYqZWlJREhKqPpqPwsIHy0SR3m5PcCfJ3pigabnE89ZAy9dMeRgEacNmLwayJ\n",
       "digd8izVYB9nPLSx0slkaZQkhZRmDZ8LUhAGXeoYZo8dEyRFtcw77gwMGibL/KarZDotRFI0r7BR\n",
       "kV5MlNgXbPN+EORX4CXvuG3sepCr1dpCxTk5ZQ/2z+/LHUfdtv7ekzqOyFI/dHnHXQxv0Urr8mq9\n",
       "Gb6bDbOuuqlZC9ZVZIJXOVODzxMZO6rPgmqIWS39Af31c78g/TnTeyFyqWdQPeh5MzpfsQ8WJAvh\n",
       "DRHJMM9DvvJ9YVJgD3OUf/lelAzJN0uoAAAAAElFTkSuQmCC\n",
       "\" style=\"display:inline;vertical-align:middle;\" /></a></span>"
      ],
      "text/plain": [
       "{y = d , a = (b + (c / d) + c^{d})} |- a = (b + (c / y) + c^{y})"
      ]
     },
     "execution_count": 20,
     "metadata": {},
     "output_type": "execute_result"
    }
   ],
   "source": [
    "y_eq_d.subLeftSideInto(expr, assumptions=[y_eq_d,expr])"
   ]
  },
  {
   "cell_type": "markdown",
   "metadata": {},
   "source": [
    "The proof uses a theorem the relies upon the `substitution` axiom, rather than using the `substition` axiom directly:"
   ]
  },
  {
   "cell_type": "code",
   "execution_count": 21,
   "metadata": {},
   "outputs": [
    {
     "data": {
      "text/html": [
       "<table><tr><th>&nbsp;</th><th>step type</th><th>requirements</th><th>statement</th></tr>\n",
       "<tr><td>0</td><td>specialization</td><td>1, 2, 3</td><td><span style=\"font-size:20px;\"><a class=\"ProveItLink\" href=\"__pv_it/4343d5f5a58d5c48dc9fecd6d8d9c7eebf8f71470/expr.ipynb\"><img src=\"data:image/png;base64,iVBORw0KGgoAAAANSUhEUgAAARQAAAAcBAMAAABSel2TAAAAMFBMVEX///+6urp2dnaqqqoiIiIQ\n",
       "EBBERETu7u6IiIjc3NwyMjJUVFSYmJhmZmbMzMwAAAD0pS5FAAAAAXRSTlMAQObYZgAAA4NJREFU\n",
       "SMfNl01oE0EUx1+ySTabr8aDohe7gociVHoQEUEbRKWChfgBEkEIFIug4CJUsD0kLQoBUXMUi6Ri\n",
       "D2IVBEFqqXTRgiKIEYpIFRsQPAmNBJoWavHN7GY7M90pMQZ0YHdfZt+++c28N//dAPzTNheH/6Vl\n",
       "+J+xLw1F2dAMlL3gpdd91upM5BsJEnvSDJR2O47WS87BakNB+o2/B7k7dB8gR01/EU/hkYbCTLr2\n",
       "bpZ4R9zKUz2i4TL4aFICI+uieM4WpSRaEmDgZJ1Z23QGvrp0h4sxjBKkz4TXR4GWDumtKKEcE3tD\n",
       "kqxVIOQWPk4w1Go9KK3yevDH6Qj2StcKP8d4BPXV5a1CpPbrCrOTjcBrfPJoPSjb5aUyb41gNSVr\n",
       "G6dYj4pjehOgJm17DzMdY/4HTvZjPSiP5SjXrBF4FA8bypdazRtms2ctiufTGyJp7x2UQBpXuF2H\n",
       "gpANbXxbxbFSIsoEGWH8usmhREkWLrXd5F2Hh1o7iILwKKtutAwoih/jeD1luEViPaSN1vTGfMBO\n",
       "AFplcp2lN61aPU9ynYYVDiWEZLFjMMrvwxRcNIiuciiM23yJ7HYcSyOhv0UT0CssyjJERxwr7Za7\n",
       "TgOOcyiklvuycIHzLJgwS+bDozBuBao5s3mYJkwGLs2isOnL4NMdKyuidJOnAX5xKC0YdMpK1UHa\n",
       "yAyw44Bd5wzKFLORqGRoXaB0AZ1gbEXY9GnIxB2r5IbSDZ5lmtTR01ZSCcqC6LkA6s8aCqb4kJVi\n",
       "xs1alWkEyph0gsEkP5lCFjqBVrJjzdCbh+nzY1RWolU+QR2gLYqyvAhKWRUTxLoVyDyVJXsHYeoD\n",
       "gmbjsk0oJdWxhBGe4bECfp1DCeCscJ0irMSpFdwd+wHe8gly3HAH5Tld+QytpqDhptLthUyiZgnt\n",
       "Kh5P8TEOxYv68QJgJydxj2BXUV+zmR03Vlfo6XJuLi/KyuD3QehbqlniOwGPgRumIHEIHm3LGZzE\n",
       "Dee2nsNquMejOG4AO0S1lYj8Ftmbks2YI/wpqTq7Cb/dHnAo4YR6wj2EKQkd1lkVq6G8lKJ4s7Iv\n",
       "GnWJQ/HpAf3PUGIJt96Q9FXeL4WMpDkUJffB3S8ojdDj+kEl/eB9Lg3kKzko3mRDH5R3XHtvS7yD\n",
       "JWmgdxYQmYQ61hCKojfnn5Bmvd5maGojkw3FeNUclChl2G3C/9R+A+jy+V4+IIhgAAAAAElFTkSu\n",
       "QmCC\n",
       "\" style=\"display:inline;vertical-align:middle;\" /></a> <a class=\"ProveItLink\" href=\"__pv_it/5ac8437bb457c546d69fa2e1d5a7e7091b48010d0/proof.ipynb\" style=\"text-decoration: none\">&#x22A2;&nbsp;</a><a class=\"ProveItLink\" href=\"__pv_it/feee2bd332d3fae8dcaec7db93efa9eb78547eaa0/expr.ipynb\"><img src=\"data:image/png;base64,iVBORw0KGgoAAAANSUhEUgAAAMEAAAAVBAMAAAANw5eWAAAAMFBMVEX///8yMjKqqqrMzMzu7u4i\n",
       "IiJmZmaYmJhEREQQEBC6urp2dnaIiIhUVFTc3NwAAAD87Fq/AAAAAXRSTlMAQObYZgAAAk5JREFU\n",
       "SMe1VTFv01AQ/py4qZ3UThlgQ8oPiBSLCTaPFFSShYpuzcACqvBMFzOBxBIhWAChrEhIjYRggAyW\n",
       "ihiKEYWBKRL5AYhYpKIMFXDPSWrf83OUhU+K8t733fP57t2dgf+FFz4ezpMXJgVuKzg9+FPsKJUY\n",
       "xQOsP1KQOSg5Wc6+1FrxlUoMzQXOqsgcrCo4q2cFakUgpN/P2eZKijzBB2a/I5kKmF3TSRQZdEXl\n",
       "w9mmnpBJxv7W0vZrkmnswdlNKRLKFFulJXkos4A3h+mdUct6KAzuTBV78OaZfHM9yvrgo8eOCRKX\n",
       "+3u8Yl73MHJR2eIe9Leh8wMDWgnl+dCIBNs+JRDfr0bPbvoYs2OCLD7GaeahUo7wid53lXu40NVa\n",
       "9+OgSbGPUPKlGMwu0HDxhB0T5FqAu8zyXKmFe5TBDjPVn8Lw6nExkGJFWAokD1V6WBv4xY4J8ttk\n",
       "ef2qwDVauWaAY4otYqZWlJREhKqPpqPwsIHy0SR3m5PcCfJ3pigabnE89ZAy9dMeRgEacNmLwayJ\n",
       "digd8izVYB9nPLSx0slkaZQkhZRmDZ8LUhAGXeoYZo8dEyRFtcw77gwMGibL/KarZDotRFI0r7BR\n",
       "kV5MlNgXbPN+EORX4CXvuG3sepCr1dpCxTk5ZQ/2z+/LHUfdtv7ekzqOyFI/dHnHXQxv0Urr8mq9\n",
       "Gb6bDbOuuqlZC9ZVZIJXOVODzxMZO6rPgmqIWS39Af31c78g/TnTeyFyqWdQPeh5MzpfsQ8WJAvh\n",
       "DRHJMM9DvvJ9YVJgD3OUf/lelAzJN0uoAAAAAElFTkSuQmCC\n",
       "\" style=\"display:inline;vertical-align:middle;\" /></a></span></td></tr>\n",
       "<tr><td>&nbsp;</td><td colspan=4 style=\"text-align:left\"><span style=\"font-size:20px;\"><a class=\"ProveItLink\" href=\"__pv_it/59054e3b170c2edab43c1eaadffb56823fb303bf0/expr.ipynb\"><img src=\"data:image/png;base64,iVBORw0KGgoAAAANSUhEUgAAAEkAAAAVBAMAAAD4Ed5jAAAAMFBMVEX////u7u5mZmaYmJi6urqq\n",
       "qqp2dnbMzMwQEBBEREQyMjLc3NwiIiJUVFSIiIgAAAAeC3ydAAAAAXRSTlMAQObYZgAAAR1JREFU\n",
       "KM9jYCAZsDzAJmoCJt/+v3v37AYQqxarXqYCMPWLgYGzG8RYiN2KBSCC/RsDAysQM/A9wK7KDETw\n",
       "fWFgYP4EZHAIYFclASI4PzAw8H4FMrxweIozAEjwA+2VnwBkqCEktr3d+ghuP5sCkKhPYGA/BOIt\n",
       "hitiTGA+zHEAxmMFOf/9tTQ1cEC0wFWxMfB9YC2AB2MDkJgPc/QXhFkMvBMQ1rMDHc7whwFDFdC/\n",
       "D1BVsX+C8VqRVO0vYBBAtpEPbsRkuBrmDe8Z+OCqmIGu5/wI4yXBVcUbzGDYx4AUEkLz/8Kc4AP0\n",
       "9EwgmMgg+UwszwDGYeByQA5jjg14YgjhmgTsqvJQudhTDuMCVP5erKp40RzCjTWBPWdgAADdXkSh\n",
       "Sa6TGQAAAABJRU5ErkJggg==\n",
       "\" style=\"display:inline;vertical-align:middle;\" /></a> : <a class=\"ProveItLink\" href=\"__pv_it/2ce337f57fec1e9c1712fb395c2b4fdb523cb0c60/expr.ipynb\"><img src=\"data:image/png;base64,iVBORw0KGgoAAAANSUhEUgAAAPcAAAAVBAMAAABoLmXpAAAAMFBMVEX///8yMjKqqqrMzMzu7u4i\n",
       "IiJmZmaYmJhEREQQEBC6urp2dnaIiIhUVFTc3NwAAAD87Fq/AAAAAXRSTlMAQObYZgAAAl9JREFU\n",
       "SMe9VTFoE1EY/nKJl9xdcs0NRRCEuBeS0a3nIi2lxsVqN6uYSSGuugQR1C2CLgriWugQUBzkhqDQ\n",
       "oW2wOohIsMHVQkNbbAdR3/Oau/x377/e5AfJ/e9778+X9917/w/8V3hfe7VjF62kJuPIv2SnLPeL\n",
       "UTmK73CLspuYf6og0+E6O2PiZBDrnAUZFzitIlMhkzD3OwzLzJIN8dkdDS6MkQHWk3zv+M/cIG5p\n",
       "OxvEd5n0J8Kh/dFgKiTDH/lT4cVzbf+pdaMz01bZCgazzKsRjlgXI+ImsWlxkLD1e3HxXKPRuIaZ\n",
       "dzdf47wI5V8viC+7//ZFJFkXvmX6vSYRlyTmvPdKuR+976uh1JuIuDrLugosDwpDGS85Ev+OWUbI\n",
       "1lvYI+KSzD7DpNLoTv6yEViFM1ScydLKsA+gtyK0IW5q1cVzIi7J2S4eKO8vikMtvDrLVJzJMtso\n",
       "DXEiejAmhM4S8JOIS3LLD29ckrgytnOUxjcwTcW3mGIyxEQL9ZpCfAHmgf8yFv2XIclD9owZ3Yi4\n",
       "7jiTjx1HFqZDVnyniypcuh1ZAneh71PbK7B/seI7NbiM7VyWsL1ewUctsvWCOFt7MDpEXJLCi7yq\n",
       "yOQHH1AMxW9T28MsmlQWh1hbsBSX4BNu0Xsuyc/AK1WRqTYfYRvcVQuyYip2f+3sWtQQcWvmV5uR\n",
       "IiNI3dtwSZHRHgrcx8z6nNccDYBTVDzMoi2A6X6k6kypyCTw5ZWAKa+05q8c0wjifh6JmsniXkJL\n",
       "TUeqcC6dP1xLtTfTkip8S7WqxLam7dRkHMVaqmWi1/wF0vic5kZ0SokAAAAASUVORK5CYII=\n",
       "\" style=\"display:inline;vertical-align:middle;\" /></a>, <a class=\"ProveItLink\" href=\"../../__pv_it/530be409e3083890784cf1d7b28c9e67e90af9360/expr.ipynb\"><img src=\"data:image/png;base64,iVBORw0KGgoAAAANSUhEUgAAAAsAAAAJBAMAAAAWSsseAAAAKlBMVEX///9ERETMzMwQEBAiIiKY\n",
       "mJju7u5mZmaqqqpUVFSIiIh2dnbc3NwAAAA/vyDhAAAAAXRSTlMAQObYZgAAAENJREFUCNdjYDi9\n",
       "8sTyBQxsG1hdmR0YuBm4LnAoMLAxcAowgADzAjB1VoEhgYH1wFoGrgSG3gBhhlMMDImrs3cFMAAA\n",
       "t0YN+iTRa+sAAAAASUVORK5CYII=\n",
       "\" style=\"display:inline;vertical-align:middle;\" /></a> : <a class=\"ProveItLink\" href=\"../../__pv_it/f8b9edf8e16034727f0aad55bb83e392c3db40d40/expr.ipynb\"><img src=\"data:image/png;base64,iVBORw0KGgoAAAANSUhEUgAAAAsAAAANBAMAAACN24kIAAAAMFBMVEX///+YmJhUVFQyMjIQEBBE\n",
       "REQiIiKqqqrMzMyIiIi6urrc3NxmZmZ2dnbu7u4AAADXeCicAAAAAXRSTlMAQObYZgAAAFhJREFU\n",
       "CNdj4LtzgWH/AwZerg8M8xkY2nkSGEIZGB6wTGD4ycDAUP+A4weQOszA6QCkbBhYFYDUIYb1AkDq\n",
       "6czzGxhA4BoQMyXwuQMptgusF4AU+8xTQBIAUqMVoSp/SLMAAAAASUVORK5CYII=\n",
       "\" style=\"display:inline;vertical-align:middle;\" /></a>, <a class=\"ProveItLink\" href=\"../../__pv_it/f8b9edf8e16034727f0aad55bb83e392c3db40d40/expr.ipynb\"><img src=\"data:image/png;base64,iVBORw0KGgoAAAANSUhEUgAAAAsAAAANBAMAAACN24kIAAAAMFBMVEX///+YmJhUVFQyMjIQEBBE\n",
       "REQiIiKqqqrMzMyIiIi6urrc3NxmZmZ2dnbu7u4AAADXeCicAAAAAXRSTlMAQObYZgAAAFhJREFU\n",
       "CNdj4LtzgWH/AwZerg8M8xkY2nkSGEIZGB6wTGD4ycDAUP+A4weQOszA6QCkbBhYFYDUIYb1AkDq\n",
       "6czzGxhA4BoQMyXwuQMptgusF4AU+8xTQBIAUqMVoSp/SLMAAAAASUVORK5CYII=\n",
       "\" style=\"display:inline;vertical-align:middle;\" /></a> : <a class=\"ProveItLink\" href=\"../../__pv_it/3a5de44ed6135dbbdbbeec6704c741e238f127300/expr.ipynb\"><img src=\"data:image/png;base64,iVBORw0KGgoAAAANSUhEUgAAAAsAAAAOBAMAAAALT/umAAAAMFBMVEX////MzMyYmJiIiIhUVFTc\n",
       "3NwyMjIiIiJ2dnbu7u6qqqpmZmYQEBBERES6uroAAABkyy6XAAAAAXRSTlMAQObYZgAAAFhJREFU\n",
       "CNdjYGBg4LuzgQEE+BeAqfcTwFQ7mGTIBmJW575fQOpNAO9PIOcTA3cCAwPLBwb2BqCeCwzzHzAw\n",
       "xBswrGeYwDB/AYMblwADmwJXNQdIm52sHQMAfyoTCZukXIEAAAAASUVORK5CYII=\n",
       "\" style=\"display:inline;vertical-align:middle;\" /></a></span></td></tr><tr><td>1</td><td>theorem</td><td></td><td><span style=\"font-size:20px;\"> <a class=\"ProveItLink\" href=\"_proofs_/subLeftSideInto.ipynb\" style=\"text-decoration: none\">&#x22A2;&nbsp;</a><a class=\"ProveItLink\" href=\"__pv_it/3ec60be0054bb218e4347eeddae1ab877388efa90/expr.ipynb\"><img src=\"data:image/png;base64,iVBORw0KGgoAAAANSUhEUgAAAMIAAAAXBAMAAACrPI2eAAAAMFBMVEX///8QEBC6urrMzMxUVFRm\n",
       "ZmZERETc3NwyMjKqqqp2dnaIiIiYmJgiIiLu7u4AAAAU9Wx4AAAAAXRSTlMAQObYZgAAAsZJREFU\n",
       "SMe1Vk1oE1EQ/pLd5m832+BFvEgED0KRRhA8NmhRsRdBeyke1oOtf5CAYlARFy8VFPVSEXJwEYq1\n",
       "ouRQD/bSFS+CiDkoghQpgkW8NKixttTqvL/ta8OCSjqwmdlvv51v38y8R4B1t5l1yRqvCW/ngToL\n",
       "XrYn78Tv3t43ZRbtVNAh4AHzN9r06T+BxMZVCVPAOXJJtz0CxiKQpgtWTUG2jxQ1ouNWexSsr5Sy\n",
       "SUEs7K6Tg32/UrnUpiIlGoC5QMG2FewE8GNw8P3fJTjDf9PRhE4PmGMVH6DrwsT5J1SsUWAPMETv\n",
       "lfoPD7UOnXC3m/17y0j6oth+pEKPD+MtC65TeXx7OkaDegfYCoek8Qx41Lps2a4cMnV1g3uRClMH\n",
       "xgf4sG4AMrAa6QKwBcjCCgjsBV7PRCiYRdjLqErwc6RCSSWgjjsw+YT20AAEWfZgGtgftYZsANOD\n",
       "KqJZiFL4hRUFGqiaVHA8tgGdb7Df0domuqgv6HKxWVOYK+BVGTmJ82GXRGhkGE2lsIn9XC6wI4mq\n",
       "hKHdrKeL40fIPTZdeurU5o2cptA9PhrA8CQeL0qieZXsWkjm20HYaepdeQoWKbyg2xF2NGU8/iif\n",
       "Yj1JfqxbrqYwxueqKHHDC4nQyUgsKwUa0bvBUVwUoahX4qAcaT4Lpm/WNIVjfB8UJc4VJFEnfyp9\n",
       "V4fFdmB28stD9hFX2CyyRnfKg2MHWB9j+VhBU1jga3AlHnclMcGrFJI1i5W1U0NtFsKSw0ZjDH5y\n",
       "GLFCtzZLxjznUjE5bvuSqNJJsmZ2uCszalmZm3SQG0vOqZHJGWMJ6b7jmsJYk3/jBwi8Iy+J8l1F\n",
       "1i08vddsHlu5Cvr0/SDsKQSeConCFFm3syrYtxrfpdzJuNeqMAuBV0OiMEXWLSmLY63pUKBcdRKt\n",
       "CmmJF0OiMEX+LzNX3T0XLfvH/w5/AOrJuu1B3OWnAAAAAElFTkSuQmCC\n",
       "\" style=\"display:inline;vertical-align:middle;\" /></a></span></td></tr>\n",
       "<tr><td>&nbsp;</td><td colspan=4 style-\"text-align:left\"><a class=\"ProveItLink\" href=\"_proofs_/subLeftSideInto.ipynb\">proveit.logic.equality.subLeftSideInto</a></td></tr><tr><td>2</td><td>assumption</td><td></td><td><span style=\"font-size:20px;\"><a class=\"ProveItLink\" href=\"__pv_it/38fc97bedac2a6d6dc3ab396210c90cb150d76340/expr.ipynb\"><img src=\"data:image/png;base64,iVBORw0KGgoAAAANSUhEUgAAANkAAAAcBAMAAAAetQdCAAAAMFBMVEX///+6urp2dnaqqqoiIiIQ\n",
       "EBBERETu7u6IiIjc3NwyMjJUVFSYmJhmZmbMzMwAAAD0pS5FAAAAAXRSTlMAQObYZgAAAv1JREFU\n",
       "SMe9lk9oE0EUxl+ySTabZJN6UDyZCB6KoOTgyYMNKv5BC9GLRCgEvIgWDIKXXpoWhZwkBxGxSCr2\n",
       "oIlCLkoMkQYVFEEaQURKsTl5ElopNC304HuTzXZmutMVjB3Yze7sb9838817swH4321xAHawjYu3\n",
       "0QUVuKsfakfBSz/al+5tvajgotV+qB2y4tzP0jnYUXFjuX/XejT5BKDALkfoFJ5WkQ3H3r0KOuKU\n",
       "DfpZAyfjY+5d21bNSIP+MvWX9u4ZgR8O3eFWNI32sXfq26qZLYDQltghhb0rEHLojQ2Qkt5xV/Oj\n",
       "NbFkz5JeKhU4IpiwLz0diCQklNI/F/iAt+fd1ZbwiPdmouWti0s8sWJfelOgpyWURpxb+oUhvrmr\n",
       "3cHjAEhqHp72ZTYNRtuvbFXzfP9I1TxnqwWoDoza/oysRk8rhYYYwiS7bg7eFdGpyXiSKktU28SY\n",
       "RUzNTw93FwPLdDNfplZhyHVcglWItYUQoSam5QWYEcQ8GbiRo11DQDlsiYLMIWJQaGMDzKw8txf4\n",
       "Ygf8CSEEpc6tPIwKZKkJ8zRkUY3DSlSL5jOA9yQbXgZfXlYbRmAaYi0hRAzfm+16epI1GiR2HLfS\n",
       "ikNnudRkqX0vD9oZipGF8baDmq8FcbTOLJdnLpfLVUttVSZXQf9tqXEoh7G5RU6QLoYr5WEIaCW/\n",
       "svGeYkiFldtiTnQyCcaavOmsgbasy07yWImmMlS0chJnWtfkyb0CSpGLoj0BHNsGjpOvbn0Fy+gY\n",
       "wCcRtTHMySJfb6GmNuyV/bmNz5JmVQzhxWV8A3BYqO7ncKSV2FIBNsbXG6kZtYmfE7JaHEddW5Cr\n",
       "G7dpc7CQE6p7qrDvKq7MY6k0exjAQfe9JMZba5dsRvkpc9q5rPbUXS2c4Au4F+KtUs2bl9DNcay7\n",
       "q0VTTr0h5Qd9TDmOSNZdrbfLSumu/LPyWqnma9tq3rQKeujY+0BBB9tKtc/sfI6ZWlFBWqI//ygN\n",
       "ZqR5uutqQ4W964+aSUutjcJOtz+Iw8wKFUOZ7gAAAABJRU5ErkJggg==\n",
       "\" style=\"display:inline;vertical-align:middle;\" /></a> <a class=\"ProveItLink\" href=\"__pv_it/694d54d7ec9530e1e6dd187ec193f8718cdcd0080/proof.ipynb\" style=\"text-decoration: none\">&#x22A2;&nbsp;</a><a class=\"ProveItLink\" href=\"__pv_it/296366f54688943befece8f23e0007e1613a8ded0/expr.ipynb\"><img src=\"data:image/png;base64,iVBORw0KGgoAAAANSUhEUgAAAMMAAAAcBAMAAAAuORZjAAAAMFBMVEX///8yMjKqqqrMzMzu7u4i\n",
       "IiJmZmaYmJhEREQQEBC6urp2dnaIiIhUVFTc3NwAAAD87Fq/AAAAAXRSTlMAQObYZgAAAp5JREFU\n",
       "SMe9Vk1oE0EU/pJuNmn+NhGqIAYi4tnc9JbtUTw0F6sgSIpIPQitIl4UDL14UawgHhRCwIsVISui\n",
       "B+khIB5sc0gvViHYePFkSQiBBinimzU/M5N9RTB1YNnJe9/bb943780E2MexUMJ+j5k9vS/GQXEU\n",
       "Ed45URsHxdu9vjNt/zvB9/UDQJV1b3paXzLooNe2GhfjHSDQYGLiyzC+5P5SveePccnDHMtPLANR\n",
       "TikzD/hGnD5GvTZ8HlarJD5vdBiKScrcSvcz7ucq6xp1BtNwB0FHg4qKtUM36Oc5hiJLT7m/Zn+l\n",
       "N3kkI9qDaSQHY1mDimXa2ZP0iSsMxUd63kCjCCckRKA41I9UXRqlCF+9PU+vO2Jr6++KOsUGPanq\n",
       "phpnCjXOrL5Xodvr5bToAJViCBNirDRCLTGfS4qRcu33SdYurIwS51ukonqCKYUhXMQDW/SxApVg\n",
       "2QziOzALehYHCd3BpKPEiRo4XcFdBdlcxBy9VlQKCdYsIdZCoKJTzJIsCVh5Jc4iiq0/kp11h1gZ\n",
       "GS706kOCbkmFlYZVwEzGgyKQR5mUMZPJqYfJZK1H0dWRXRg/exQSVIJRFs0KTkDU52V3Zedde8pt\n",
       "iwVbFSqN+K5+DOzC3zJ0oWRYMyMS2fDraXyG2OunavYhSmqHDiS59Yw2YoljwDUVOoBRRTWoTvyz\n",
       "I6f6Bzpi0mZNjYvQ1nwCXiutdwjH885I0Q5gbl/E62un1nSKMq2vPq+3Hp2L5mrVVlpvu/rsHu3R\n",
       "Ya2F+jDgFdPdlqzcoJ+K7NnvdYD0xhEmJObI3dWPu8VSRCoadEj+i7tXc15WH3sVTrPkwQLnWfK8\n",
       "qNiL+CtLEchwnm+e1h8MOsp+BzdZj98Zzz+peIH3XR8PhWnjf4zfYlWsl7HoHysAAAAASUVORK5C\n",
       "YII=\n",
       "\" style=\"display:inline;vertical-align:middle;\" /></a></span></td></tr>\n",
       "<tr><td>3</td><td>assumption</td><td></td><td><span style=\"font-size:20px;\"><a class=\"ProveItLink\" href=\"__pv_it/e224aba433807df10103cd9fc32565e36d4963320/expr.ipynb\"><img src=\"data:image/png;base64,iVBORw0KGgoAAAANSUhEUgAAAEQAAAAVBAMAAAAN71XTAAAAMFBMVEX///9ERETc3NyqqqpUVFS6\n",
       "urrMzMwyMjIQEBCIiIh2dnYiIiLu7u5mZmaYmJgAAABJJ2g3AAAAAXRSTlMAQObYZgAAAQVJREFU\n",
       "KM9jYGDgu8eAE2QtApE8uxjwgAwDIMH5AZc0q8QFBt4CIIOrAacR/AYQWTxK4g8QVLKagaCSWiQl\n",
       "p24xMP1Bk2fyXPoZqgTk5gXxEI/xloOBA0hJhAIjUBcfSDgjgIHN4DYDowCaIf8gHgZaltIGDD2G\n",
       "Tgb+CahKWD4wcC8A0ox1QAMTGBiY/zDkJ6CFiQDD+QAgDQp7lgKwe2aAxHl3gwHITv0JDPYMByBu\n",
       "4drAwMB+gUEEzUPnDRjcmRMQnuZ1YP2HpoT9AfNeLqRw4ZGc+wkjWKYmTkUJXZB12ABciTfDCQM8\n",
       "SvgaQD6TwhFN4ODj2cnAYDk3AFeqA0vwLcafdgHAuEZp8e00IAAAAABJRU5ErkJggg==\n",
       "\" style=\"display:inline;vertical-align:middle;\" /></a> <a class=\"ProveItLink\" href=\"__pv_it/6ba1a2f2ece8432850326e52c332a2dc4d2c35060/proof.ipynb\" style=\"text-decoration: none\">&#x22A2;&nbsp;</a><a class=\"ProveItLink\" href=\"__pv_it/9cd34a172bf613a471604ca079a89df5722a51ef0/expr.ipynb\"><img src=\"data:image/png;base64,iVBORw0KGgoAAAANSUhEUgAAADIAAAASBAMAAADrvZC0AAAAMFBMVEX///+YmJhUVFQyMjIQEBBE\n",
       "REQiIiKqqqrMzMyIiIi6urrc3NxmZmZ2dnbu7u4AAADXeCicAAAAAXRSTlMAQObYZgAAALlJREFU\n",
       "GNNjYMAOlvow4ALfcUlw/cMlw5uAS4b5AAPfnQsM+x+giW+au76AgZfrA8N8EO+wMQgYgS3xZoh/\n",
       "wNDOk8AQiqZlvwDDYQaGBywTGH6iyegzMOQCqfoHHD/QZL4y8P0Cmc/A6QDiHksDgVQgi/snA/sH\n",
       "PgYGGwZWBVQtfN8ZmAwqGBgOMawXQDPNkKHswAUGhqczz29A987MFZELQIxr2IOBKYHPHbsM2wXW\n",
       "C9hl2Geewi4BAGPGL+b7L2/VAAAAAElFTkSuQmCC\n",
       "\" style=\"display:inline;vertical-align:middle;\" /></a></span></td></tr>\n",
       "</table>"
      ],
      "text/plain": [
       "\tstep type\trequirements\tstatement\n",
       "0\tspecialization\t1, 2, 3\t{y = d , a = (b + (c / d) + c^{d})} |- a = (b + (c / y) + c^{y})\n",
       "\tP(_x_) : a = (b + (c / _x_) + c^{_x_}), x : y, y : d\n",
       "1\ttheorem\t\t|- forall_{P, x, y | P(y) , x = y} P(x)\n",
       "\tproveit.logic.equality.subLeftSideInto\n",
       "2\tassumption\t\t{a = (b + (c / d) + c^{d})} |- a = (b + (c / d) + c^{d})\n",
       "3\tassumption\t\t{y = d} |- y = d"
      ]
     },
     "execution_count": 21,
     "metadata": {},
     "output_type": "execute_result"
    }
   ],
   "source": [
    "y_eq_d.subLeftSideInto(expr, assumptions=[y_eq_d,expr]).proof()"
   ]
  },
  {
   "cell_type": "markdown",
   "metadata": {},
   "source": [
    "## Reflexivity, symmetry, and transitivity"
   ]
  },
  {
   "cell_type": "markdown",
   "metadata": {},
   "source": [
    "Reflexivity, symmetry, and transitivity are also fundamental properties of equality, in addition to the ability to perform substitution.  Reflexivity is the fact that any mathematical object is equal to itself.  Symmetry is the fact that $x = y$ and $y = x$ are equivalent (either both of these are true or both of these false).  Transitivity is the ability to derive $x=z$ from $x=y$ and $y=z$.  These are all axioms."
   ]
  },
  {
   "cell_type": "code",
   "execution_count": 22,
   "metadata": {},
   "outputs": [],
   "source": [
    "from proveit.logic.equality._axioms_ import equalsReflexivity, equalsSymmetry, equalsTransitivity"
   ]
  },
  {
   "cell_type": "code",
   "execution_count": 23,
   "metadata": {},
   "outputs": [
    {
     "data": {
      "text/html": [
       "<span style=\"font-size:20px;\"> <a class=\"ProveItLink\" href=\"_axioms_.ipynb#equalsReflexivity\" style=\"text-decoration: none\">&#x22A2;&nbsp;</a><a class=\"ProveItLink\" href=\"__pv_it/97b1dd4e9ed3b749f492ebdad1f4680f58c765fe0/expr.ipynb\"><img src=\"data:image/png;base64,iVBORw0KGgoAAAANSUhEUgAAAGIAAAAVBAMAAABPrCZEAAAAMFBMVEX///8QEBC6urrMzMxUVFRm\n",
       "ZmZERETc3NwyMjKqqqp2dnaIiIiYmJgiIiLu7u4AAAAU9Wx4AAAAAXRSTlMAQObYZgAAAVBJREFU\n",
       "OMtjYCAZPMAQYdqAWzWPAgPDBRDjNLKoCT4LghkYVoLoPmTBPnw6OBgYyoAUewKSGPcGfDp4FjBw\n",
       "AD3COgFJjPEBPh18Agw8y8vLa5HFNPCHVCYDw7e0tFvIQlFAXLWlciu646BiSxkYnBkY0pFleoBW\n",
       "L+C5wwgKRNYOMHBgQIjNYGBQYeBrQNYhxMDAxcD9gdMA1QqYmCIDAy8D9wFkqU9A8xhYEjC8DBWz\n",
       "B4bmAd4HaDqAAYYliCFiQB18DaBIXu20BeoMSRBRbwBOPqx3wQBiIUQM6CqGdCegKx+4MUIjJQcY\n",
       "TQX7GbjRogUmdgLIngoMASZQEEEAMPjmH0hkqEZzE0xsKdx932FSugwMz3a9Wn0ATQdMrAlkH8h+\n",
       "ZgFmmAcLCKQSCLDnauBCpDU8gAsWiM92Rq8jKrW/wCZYgk+HOzZBdjwZhNuAAQCEL1prSIrv2QAA\n",
       "AABJRU5ErkJggg==\n",
       "\" style=\"display:inline;vertical-align:middle;\" /></a></span>"
      ],
      "text/plain": [
       "|- forall_{x} (x = x)"
      ]
     },
     "execution_count": 23,
     "metadata": {},
     "output_type": "execute_result"
    }
   ],
   "source": [
    "equalsReflexivity"
   ]
  },
  {
   "cell_type": "code",
   "execution_count": 24,
   "metadata": {},
   "outputs": [
    {
     "data": {
      "text/html": [
       "<span style=\"font-size:20px;\"> <a class=\"ProveItLink\" href=\"_axioms_.ipynb#equalsSymmetry\" style=\"text-decoration: none\">&#x22A2;&nbsp;</a><a class=\"ProveItLink\" href=\"__pv_it/00337eac3723871d5661da0e358240a663e29ee80/expr.ipynb\"><img src=\"data:image/png;base64,iVBORw0KGgoAAAANSUhEUgAAAN0AAAAWBAMAAAC2xYReAAAAMFBMVEX///8QEBC6urrMzMxUVFRm\n",
       "ZmZERETc3NwyMjKqqqp2dnaIiIiYmJgiIiLu7u4AAAAU9Wx4AAAAAXRSTlMAQObYZgAAAoFJREFU\n",
       "SMe9VjFoFEEU/bd7u5u7vdscppAgyhUWggQVbFJFIkTQRsQiGESrS6HFFmIEUbdQSBFCQK0s3CaI\n",
       "HgkHyoGc6GIjRISrLITA2qTQ5jCghRbOnz+7uZ2dubtGHzzu9r83f/Zm/p85gP+MWCcYLaIO7xWx\n",
       "o4PtyC4+fFQYTgrqYB3PhcxTg+3I5/iwqjCsauIpglxkLB5iZ7zJPpyredltEfXYykU6w+xb9E7W\n",
       "Wl4uxEQ9vuYih4bZGSvPlpbuKOQjgnrY8lsawTA78mej8UUhXyJ66yHck36m0zzzZAGgfF4uiTDV\n",
       "+iFSoB15GmBRMd8KsWz04B0+zy8j7uPXb/ApOghQCqT4WJRqYPHwMhasSIF25GHwVOuwjzhtdaEh\n",
       "SSEb/pAtX03e8nqq9UOkQDuyCm6kmO8HMS604HfuiJjj3daT4uP1VMvYKQXakW5UjfXzwdPY3M2J\n",
       "B7TzCS0DSpHM5wV4ijRnX7HmN9ppD0wKzoPL1+3yNuIzFcwueMl69sULa6kGFg9v88amFMl6wuIs\n",
       "29N4Dt3fx/0T4qWuCz4AWz6lPrg9eMs6Sd52O0q1DCgF2vmQx+wINXg9wt0paAvTuuBFOCZtb+mP\n",
       "XXNain5ggUTLgFIk/QAFrv/i0lk4J0xTgjudK77UT9c2X7zB8q/L/d5NtQwoBdr5kArumFkzqQsm\n",
       "kuL2iQAbI59n+3Vny8beeUaYKQdluOXDhJEUXSXkLHa9SU2S5ggnOEKkaPYP2Xm9sAkzETxqB9n7\n",
       "qBraoXo6b9T7iFKgXR4SOX4x3ewbnKXOBc3PK/q5kKO8bykF2qUhpm+He1cClpkz4AJ8qYjdHmyX\n",
       "hlTYq4T/+O/SX8R3y4z+LqoKAAAAAElFTkSuQmCC\n",
       "\" style=\"display:inline;vertical-align:middle;\" /></a></span>"
      ],
      "text/plain": [
       "|- forall_{x, y} ((y = x) = (x = y))"
      ]
     },
     "execution_count": 24,
     "metadata": {},
     "output_type": "execute_result"
    }
   ],
   "source": [
    "equalsSymmetry"
   ]
  },
  {
   "cell_type": "code",
   "execution_count": 25,
   "metadata": {},
   "outputs": [
    {
     "data": {
      "text/html": [
       "<span style=\"font-size:20px;\"> <a class=\"ProveItLink\" href=\"_axioms_.ipynb#equalsTransitivity\" style=\"text-decoration: none\">&#x22A2;&nbsp;</a><a class=\"ProveItLink\" href=\"__pv_it/15953cfebb497c481d8be77ed0e16c42a27f82610/expr.ipynb\"><img src=\"data:image/png;base64,iVBORw0KGgoAAAANSUhEUgAAANEAAAAXBAMAAABnpbd1AAAAMFBMVEX///8QEBC6urrMzMxUVFRm\n",
       "ZmZERETc3NwyMjKqqqp2dnaIiIiYmJgiIiLu7u4AAAAU9Wx4AAAAAXRSTlMAQObYZgAAAoBJREFU\n",
       "SMe9VUtoE1EUPZOZZvLrJLQLFVFScKFUMcVC3UglhQotSFYiFiGrVqyLQcQoogQRKihF0Lqwm8GN\n",
       "n0AIWAO2ooNQBD+QlYggRBeKuokIdtOF976Zya+daOHhgXDe3Jt55913PwP8N1TlbdXv73pBvwov\n",
       "XssQUg/6+7pSwANezMpQCnW6njxwlkjPylBa6uR85Zyk64YMpe2dnJ+A2L1c7qIMoUC+kzdIwfye\n",
       "nPwgQ6nLojQUDs1PtDv6evQSIhlgBJjyO+aGCsIGvuOtvY0fjl5lXOGlfurxESBMEe+A4Rd3cCNK\n",
       "ShKw8Bw32+wGjMN06ATQjagtQyme5DEwuo7nDDdbDaTTXZWlBGxdJwcZV8nID9KqkF6gNg6UobDs\n",
       "gdnzDaXIQv+IN2+yopZdEoPh/Ve3RRRm/RfdFuH4R8Y74bgj5Oj2MJWm3aqj/M8fcXOA7ellq6FU\n",
       "1LJbNE7wNaO0otIbghwLtN3HvAugHLyM1vCsLaSwBY2aiWthrsJVdp2tl/agLNzfmm4vGfLyqH+u\n",
       "RLN1chPudT3VcXg1mKCKbsX+5TeXhZfCFr4VYR7DuNgy2ZynuOm9pVlaqUECp+vpqMCYLj582p6m\n",
       "TOwnHSbEO8Y4M2pCZXMPepn2YahJaQCpoHNXSlJJiYJWPIuaUr1zbPrLNHIwHMlHcM5Eb6BGpI7t\n",
       "ytaV1Np9WF7PpPZCnxHkYvDu7aYh6o+Ct/jyZKKIYRu3ynmiaGCzWVcypucWvTYIj5+AuirIRalv\n",
       "5l++Gu3DwdZNToDt2085TmPMoTXQO3wJNbP1o2kGrZ1MvkoneWAPObQWF/yVHrU+xhBesph8leYX\n",
       "OXKHpEKTudkfgDCcYn7TElEAAAAASUVORK5CYII=\n",
       "\" style=\"display:inline;vertical-align:middle;\" /></a></span>"
      ],
      "text/plain": [
       "|- forall_{x, y, z | x = y , y = z} (x = z)"
      ]
     },
     "execution_count": 25,
     "metadata": {},
     "output_type": "execute_result"
    }
   ],
   "source": [
    "equalsTransitivity"
   ]
  },
  {
   "cell_type": "markdown",
   "metadata": {},
   "source": [
    "`equalsReversal` is a useful theorem for applying the symmetry property of equality:"
   ]
  },
  {
   "cell_type": "code",
   "execution_count": 26,
   "metadata": {},
   "outputs": [
    {
     "data": {
      "text/html": [
       "<span style=\"font-size:20px;\"> <a class=\"ProveItLink\" href=\"_proofs_/equalsReversal.ipynb\" style=\"text-decoration: none\">&#x22A2;&nbsp;</a><a class=\"ProveItLink\" href=\"__pv_it/28002146d7bbb3d303591384d88b2e1175a218f20/expr.ipynb\"><img src=\"data:image/png;base64,iVBORw0KGgoAAAANSUhEUgAAAKEAAAAXBAMAAACR7DLtAAAAMFBMVEX///8QEBC6urrMzMxUVFRm\n",
       "ZmZERETc3NwyMjKqqqp2dnaIiIiYmJgiIiLu7u4AAAAU9Wx4AAAAAXRSTlMAQObYZgAAAhhJREFU\n",
       "OMutVD1IHEEU/m5Xb72/9YhVkEAKCxuJgfR3KBiJBCxFObAIKtFiC4lpErZIkSIEQa1sthGJB7KS\n",
       "eCCKLmkCkcBVKQThbCxMIwl4jYjvzd7uuevtwhx58JiZ9837ePN+BvjvUpP2UOxo7DtplTfHMozP\n",
       "YrDOQeALbz7LMMZeNoE3tGjTEoQZOw79CXRRIjuXJRgTsZk/A7KbS0vvZB7dH4smKbirmZkTGcZJ\n",
       "0otJaDdBs1Z+vj4FpMeBYWD2ntvjaMZPpNYTZC5pnfjI8oHNF/jlPAJSVJo+6OY9t5hSPQDU5RKS\n",
       "oSsWjrBCzZoHcsg4Mox/AR296LbDkzLCi0qhZ5xcTZIRqRsUBsNAr8eomzwE5aFvdEWpNJrDZXSN\n",
       "YvIqftc85NEwscP70inLb7c0/yh28WrMDlGJaiMJqvufbuNpM0ZhHOXc2z4ALJB2jeNVKMIfVKpD\n",
       "akauyRqNtiJKiPcDqDQZG8YAAGxwjEXlOkiYuk7mNdvtHiREjusCeIGxu3ms+x4eAAyQ6vO79SCj\n",
       "Pr+9dcDRc99lOUFqXnVbo+cOIxvnxKt9gAIwREaqkVPoSiFtpvHWQI9y2WQUxoZ4AAVgAS9xFvEV\n",
       "lL3N+d7UNgoOVitmk1EYG+IB7m92gtetCcPD4mhGh92yH32AZBFY340Y0w4jcFSNpNXfusN9gNlj\n",
       "PsivwWMWqX2rNaMPtC3F9l1vAaqximPRgqa5AAAAAElFTkSuQmCC\n",
       "\" style=\"display:inline;vertical-align:middle;\" /></a></span>"
      ],
      "text/plain": [
       "|- forall_{x, y | x = y} (y = x)"
      ]
     },
     "execution_count": 26,
     "metadata": {},
     "output_type": "execute_result"
    }
   ],
   "source": [
    "from proveit.logic.equality._theorems_ import equalsReversal\n",
    "equalsReversal # y=x derives from x=y"
   ]
  },
  {
   "cell_type": "markdown",
   "metadata": {},
   "source": [
    "These three properties are applied automatically for `Equals` objects"
   ]
  },
  {
   "cell_type": "markdown",
   "metadata": {},
   "source": [
    "Reflexivity is concluded automatically:"
   ]
  },
  {
   "cell_type": "code",
   "execution_count": 27,
   "metadata": {},
   "outputs": [
    {
     "data": {
      "text/html": [
       "<span style=\"font-size:20px;\"> <a class=\"ProveItLink\" href=\"__pv_it/953e94612de32d76f86e3b745c71158d9f4e09d90/proof.ipynb\" style=\"text-decoration: none\">&#x22A2;&nbsp;</a><a class=\"ProveItLink\" href=\"__pv_it/03c471a72347e06b5d7195e66ac4544df59850930/expr.ipynb\"><img src=\"data:image/png;base64,iVBORw0KGgoAAAANSUhEUgAAADIAAAAJBAMAAACCrGLsAAAAMFBMVEX///8yMjKqqqrMzMzu7u4i\n",
       "IiJmZmaYmJhEREQQEBC6urp2dnaIiIhUVFTc3NwAAAD87Fq/AAAAAXRSTlMAQObYZgAAAI1JREFU\n",
       "CNdjYOC7s2seAxp4e3rlAwaGlQ84PoB4iYIgIAtics1j6Gdg4PvOwNaApuV9AUMGAwPvBwbWA2gy\n",
       "9xkYYhgY+BsY/A3QZH4wsHwG6jzAoM/gAOSmhoJABJDF94eB6QMLg78Cw0UmVE0snxh4BZQZGAuY\n",
       "wrjRTBNnUE3YAPTOKYtT6N45s7hnAQALwiTlnSG7sgAAAABJRU5ErkJggg==\n",
       "\" style=\"display:inline;vertical-align:middle;\" /></a></span>"
      ],
      "text/plain": [
       "|- a = a"
      ]
     },
     "execution_count": 27,
     "metadata": {},
     "output_type": "execute_result"
    }
   ],
   "source": [
    "Equals(a, a).prove()"
   ]
  },
  {
   "cell_type": "code",
   "execution_count": 28,
   "metadata": {},
   "outputs": [
    {
     "data": {
      "text/html": [
       "<table><tr><th>&nbsp;</th><th>step type</th><th>requirements</th><th>statement</th></tr>\n",
       "<tr><td>0</td><td>specialization</td><td>1</td><td><span style=\"font-size:20px;\"> <a class=\"ProveItLink\" href=\"__pv_it/953e94612de32d76f86e3b745c71158d9f4e09d90/proof.ipynb\" style=\"text-decoration: none\">&#x22A2;&nbsp;</a><a class=\"ProveItLink\" href=\"__pv_it/03c471a72347e06b5d7195e66ac4544df59850930/expr.ipynb\"><img src=\"data:image/png;base64,iVBORw0KGgoAAAANSUhEUgAAADIAAAAJBAMAAACCrGLsAAAAMFBMVEX///8yMjKqqqrMzMzu7u4i\n",
       "IiJmZmaYmJhEREQQEBC6urp2dnaIiIhUVFTc3NwAAAD87Fq/AAAAAXRSTlMAQObYZgAAAI1JREFU\n",
       "CNdjYOC7s2seAxp4e3rlAwaGlQ84PoB4iYIgIAtics1j6Gdg4PvOwNaApuV9AUMGAwPvBwbWA2gy\n",
       "9xkYYhgY+BsY/A3QZH4wsHwG6jzAoM/gAOSmhoJABJDF94eB6QMLg78Cw0UmVE0snxh4BZQZGAuY\n",
       "wrjRTBNnUE3YAPTOKYtT6N45s7hnAQALwiTlnSG7sgAAAABJRU5ErkJggg==\n",
       "\" style=\"display:inline;vertical-align:middle;\" /></a></span></td></tr>\n",
       "<tr><td>&nbsp;</td><td colspan=4 style=\"text-align:left\"><span style=\"font-size:20px;\"><a class=\"ProveItLink\" href=\"../../__pv_it/530be409e3083890784cf1d7b28c9e67e90af9360/expr.ipynb\"><img src=\"data:image/png;base64,iVBORw0KGgoAAAANSUhEUgAAAAsAAAAJBAMAAAAWSsseAAAAKlBMVEX///9ERETMzMwQEBAiIiKY\n",
       "mJju7u5mZmaqqqpUVFSIiIh2dnbc3NwAAAA/vyDhAAAAAXRSTlMAQObYZgAAAENJREFUCNdjYDi9\n",
       "8sTyBQxsG1hdmR0YuBm4LnAoMLAxcAowgADzAjB1VoEhgYH1wFoGrgSG3gBhhlMMDImrs3cFMAAA\n",
       "t0YN+iTRa+sAAAAASUVORK5CYII=\n",
       "\" style=\"display:inline;vertical-align:middle;\" /></a> : <a class=\"ProveItLink\" href=\"../../__pv_it/07527342713064c87612d00d8557c53d53d5324a0/expr.ipynb\"><img src=\"data:image/png;base64,iVBORw0KGgoAAAANSUhEUgAAAAsAAAAJBAMAAAAWSsseAAAAMFBMVEX///8yMjKqqqrMzMzu7u4i\n",
       "IiJmZmaYmJhEREQQEBC6urp2dnaIiIhUVFTc3NwAAAD87Fq/AAAAAXRSTlMAQObYZgAAAEhJREFU\n",
       "CNdjYOC7s2seAwPDygccHxgY+L4zsDUwMPB+YGA9wMDA38Dgb8DA8P4Agz6DA4O/AsNFJgMGxgKm\n",
       "MG6gyjunLE4xAAAZTBA5TB6DCwAAAABJRU5ErkJggg==\n",
       "\" style=\"display:inline;vertical-align:middle;\" /></a></span></td></tr><tr><td>1</td><td>axiom</td><td></td><td><span style=\"font-size:20px;\"> <a class=\"ProveItLink\" href=\"_axioms_.ipynb#equalsReflexivity\" style=\"text-decoration: none\">&#x22A2;&nbsp;</a><a class=\"ProveItLink\" href=\"__pv_it/97b1dd4e9ed3b749f492ebdad1f4680f58c765fe0/expr.ipynb\"><img src=\"data:image/png;base64,iVBORw0KGgoAAAANSUhEUgAAAGIAAAAVBAMAAABPrCZEAAAAMFBMVEX///8QEBC6urrMzMxUVFRm\n",
       "ZmZERETc3NwyMjKqqqp2dnaIiIiYmJgiIiLu7u4AAAAU9Wx4AAAAAXRSTlMAQObYZgAAAVBJREFU\n",
       "OMtjYCAZPMAQYdqAWzWPAgPDBRDjNLKoCT4LghkYVoLoPmTBPnw6OBgYyoAUewKSGPcGfDp4FjBw\n",
       "AD3COgFJjPEBPh18Agw8y8vLa5HFNPCHVCYDw7e0tFvIQlFAXLWlciu646BiSxkYnBkY0pFleoBW\n",
       "L+C5wwgKRNYOMHBgQIjNYGBQYeBrQNYhxMDAxcD9gdMA1QqYmCIDAy8D9wFkqU9A8xhYEjC8DBWz\n",
       "B4bmAd4HaDqAAYYliCFiQB18DaBIXu20BeoMSRBRbwBOPqx3wQBiIUQM6CqGdCegKx+4MUIjJQcY\n",
       "TQX7GbjRogUmdgLIngoMASZQEEEAMPjmH0hkqEZzE0xsKdx932FSugwMz3a9Wn0ATQdMrAlkH8h+\n",
       "ZgFmmAcLCKQSCLDnauBCpDU8gAsWiM92Rq8jKrW/wCZYgk+HOzZBdjwZhNuAAQCEL1prSIrv2QAA\n",
       "AABJRU5ErkJggg==\n",
       "\" style=\"display:inline;vertical-align:middle;\" /></a></span></td></tr>\n",
       "<tr><td>&nbsp;</td><td colspan=4 style-\"text-align:left\"><a class=\"ProveItLink\" href=\"_axioms_.ipynb#equalsReflexivity\">proveit.logic.equality.equalsReflexivity</a></td></tr></table>"
      ],
      "text/plain": [
       "\tstep type\trequirements\tstatement\n",
       "0\tspecialization\t1\t|- a = a\n",
       "\tx : a\n",
       "1\taxiom\t\t|- forall_{x} (x = x)\n",
       "\tproveit.logic.equality.equalsReflexivity"
      ]
     },
     "execution_count": 28,
     "metadata": {},
     "output_type": "execute_result"
    }
   ],
   "source": [
    "Equals(a, a).prove().proof()"
   ]
  },
  {
   "cell_type": "markdown",
   "metadata": {},
   "source": [
    "Symmetric statements are derived as side-effects.  Note that the `KnownTruth.deriveSideEffects` method employs a mechanism to prevent infinite recursion or this would not be possible (it would continually go back and forth, proving $y=x$ from $x=y$ then $x=y$ from $y=x$, ad infinitum)"
   ]
  },
  {
   "cell_type": "code",
   "execution_count": 29,
   "metadata": {},
   "outputs": [
    {
     "data": {
      "text/html": [
       "<strong id=\"a_eq_b\">a_eq_b:</strong> <a class=\"ProveItLink\" href=\"__pv_it/95b1b23aa332dbd7d732f72039ef4fed607fecb10/expr.ipynb\"><img src=\"data:image/png;base64,iVBORw0KGgoAAAANSUhEUgAAADAAAAAOBAMAAACbXIJpAAAAMFBMVEX///8yMjKqqqrMzMzu7u4i\n",
       "IiJmZmaYmJhEREQQEBC6urp2dnaIiIhUVFTc3NwAAAD87Fq/AAAAAXRSTlMAQObYZgAAAJVJREFU\n",
       "GNNjYMACfKcy4ACyuCQ+4RDn+oJDgjsARPLd2TUPTYLxztkCBoaVDzg+gHiJgiAAtta/geEzA993\n",
       "BrYGNB36DgyzGXg/MLAeQJNIZGD4xsDfwOBvgCYRxsD1neH9AQZ9BgcgLzUUBCIg3mD7wuCvwHCR\n",
       "CU3LZwbODQyMBUxh3GhGXWLIBXnjlMUp9EA8VsAAAM4dJKpjP/uaAAAAAElFTkSuQmCC\n",
       "\" style=\"display:inline;vertical-align:middle;\" /></a><br>"
      ],
      "text/plain": [
       "a_eq_b: a = b"
      ]
     },
     "execution_count": 29,
     "metadata": {},
     "output_type": "execute_result"
    }
   ],
   "source": [
    "a_eq_b = Equals(a, b)"
   ]
  },
  {
   "cell_type": "code",
   "execution_count": 30,
   "metadata": {},
   "outputs": [
    {
     "data": {
      "text/html": [
       "<span style=\"font-size:20px;\"><a class=\"ProveItLink\" href=\"__pv_it/d009e43b8cfc53c34c454c29c4e29a99e07d6d330/expr.ipynb\"><img src=\"data:image/png;base64,iVBORw0KGgoAAAANSUhEUgAAAEIAAAAVBAMAAAAA8SWUAAAAMFBMVEX///9ERETc3NyqqqpUVFS6\n",
       "urrMzMwyMjIQEBCIiIh2dnYiIiLu7u5mZmaYmJgAAABJJ2g3AAAAAXRSTlMAQObYZgAAAPVJREFU\n",
       "KM9jYGDgu8eAC2QtApE8uxhwgwwDIMH5Aascj8cGIMlbACS4GrBrZ3eASeJSwW9ASEX8AUIqVjOg\n",
       "qFCZFaGApqJkph9UEuRc1iYGeZAobzkYgNzI85GBP4GBD+TRjAAGBv0HDBfRjGD+w8CxgIGhloEh\n",
       "pQ3I9Wdg2ImmAmg0/wUGBsY6BoaIBAaGjww839BUcF9giH/AwAAKcJYCBqafDMwfeEAad4OBACQ4\n",
       "7h+AuINrAwPPZ6A6M7QAS2DoQvJtHYP1hQWoKlgMeB2QVKjMDJMMQIs5z3uEwpSBgXgVfPhUgNMH\n",
       "z058aQzsOr7FeNMpAKA7QF+x84JNAAAAAElFTkSuQmCC\n",
       "\" style=\"display:inline;vertical-align:middle;\" /></a> <a class=\"ProveItLink\" href=\"__pv_it/c6039db5ed1263396082ce52b4cae01590c95e950/proof.ipynb\" style=\"text-decoration: none\">&#x22A2;&nbsp;</a><a class=\"ProveItLink\" href=\"__pv_it/62e4ad07e99a56386b3c58bb42af0323a14c6a410/expr.ipynb\"><img src=\"data:image/png;base64,iVBORw0KGgoAAAANSUhEUgAAADAAAAAOBAMAAACbXIJpAAAAMFBMVEX////c3NxmZmbMzMxERESY\n",
       "mJiIiIh2dna6urqqqqoyMjIiIiIQEBBUVFTu7u4AAAAiO1wTAAAAAXRSTlMAQObYZgAAAJhJREFU\n",
       "GNNj4LuzgQE74LqAQ4J/Ag6J/gc4JKpxiDOsTbuKLiSb3iPAwPeFgd8AyNFaBQJrQeIcBxn8GRg4\n",
       "/zHwFKBqkA9gUGFgYFrAwK+AKnGfgWEbAwO3AkN/AKrEFwa+z2Bv6IMcrL0bBLYAWYzfGDg/8IFs\n",
       "Po6qge8nA++CyQy8E5jQw2Qpw2yFAga+a6oY3khrdmsAAFICJ5Z6YnH9AAAAAElFTkSuQmCC\n",
       "\" style=\"display:inline;vertical-align:middle;\" /></a></span>"
      ],
      "text/plain": [
       "{a = b} |- b = a"
      ]
     },
     "execution_count": 30,
     "metadata": {},
     "output_type": "execute_result"
    }
   ],
   "source": [
    "Equals(b, a).prove([a_eq_b])"
   ]
  },
  {
   "cell_type": "markdown",
   "metadata": {},
   "source": [
    "The reversed form may also be derived explicitly via `deriveReversed`.  The proof is the same."
   ]
  },
  {
   "cell_type": "code",
   "execution_count": 31,
   "metadata": {},
   "outputs": [
    {
     "data": {
      "text/html": [
       "<table><tr><th>&nbsp;</th><th>step type</th><th>requirements</th><th>statement</th></tr>\n",
       "<tr><td>0</td><td>specialization</td><td>1, 2</td><td><span style=\"font-size:20px;\"><a class=\"ProveItLink\" href=\"__pv_it/d009e43b8cfc53c34c454c29c4e29a99e07d6d330/expr.ipynb\"><img src=\"data:image/png;base64,iVBORw0KGgoAAAANSUhEUgAAAEIAAAAVBAMAAAAA8SWUAAAAMFBMVEX///9ERETc3NyqqqpUVFS6\n",
       "urrMzMwyMjIQEBCIiIh2dnYiIiLu7u5mZmaYmJgAAABJJ2g3AAAAAXRSTlMAQObYZgAAAPVJREFU\n",
       "KM9jYGDgu8eAC2QtApE8uxhwgwwDIMH5Aascj8cGIMlbACS4GrBrZ3eASeJSwW9ASEX8AUIqVjOg\n",
       "qFCZFaGApqJkph9UEuRc1iYGeZAobzkYgNzI85GBP4GBD+TRjAAGBv0HDBfRjGD+w8CxgIGhloEh\n",
       "pQ3I9Wdg2ImmAmg0/wUGBsY6BoaIBAaGjww839BUcF9giH/AwAAKcJYCBqafDMwfeEAad4OBACQ4\n",
       "7h+AuINrAwPPZ6A6M7QAS2DoQvJtHYP1hQWoKlgMeB2QVKjMDJMMQIs5z3uEwpSBgXgVfPhUgNMH\n",
       "z058aQzsOr7FeNMpAKA7QF+x84JNAAAAAElFTkSuQmCC\n",
       "\" style=\"display:inline;vertical-align:middle;\" /></a> <a class=\"ProveItLink\" href=\"__pv_it/c6039db5ed1263396082ce52b4cae01590c95e950/proof.ipynb\" style=\"text-decoration: none\">&#x22A2;&nbsp;</a><a class=\"ProveItLink\" href=\"__pv_it/62e4ad07e99a56386b3c58bb42af0323a14c6a410/expr.ipynb\"><img src=\"data:image/png;base64,iVBORw0KGgoAAAANSUhEUgAAADAAAAAOBAMAAACbXIJpAAAAMFBMVEX////c3NxmZmbMzMxERESY\n",
       "mJiIiIh2dna6urqqqqoyMjIiIiIQEBBUVFTu7u4AAAAiO1wTAAAAAXRSTlMAQObYZgAAAJhJREFU\n",
       "GNNj4LuzgQE74LqAQ4J/Ag6J/gc4JKpxiDOsTbuKLiSb3iPAwPeFgd8AyNFaBQJrQeIcBxn8GRg4\n",
       "/zHwFKBqkA9gUGFgYFrAwK+AKnGfgWEbAwO3AkN/AKrEFwa+z2Bv6IMcrL0bBLYAWYzfGDg/8IFs\n",
       "Po6qge8nA++CyQy8E5jQw2Qpw2yFAga+a6oY3khrdmsAAFICJ5Z6YnH9AAAAAElFTkSuQmCC\n",
       "\" style=\"display:inline;vertical-align:middle;\" /></a></span></td></tr>\n",
       "<tr><td>&nbsp;</td><td colspan=4 style=\"text-align:left\"><span style=\"font-size:20px;\"><a class=\"ProveItLink\" href=\"../../__pv_it/530be409e3083890784cf1d7b28c9e67e90af9360/expr.ipynb\"><img src=\"data:image/png;base64,iVBORw0KGgoAAAANSUhEUgAAAAsAAAAJBAMAAAAWSsseAAAAKlBMVEX///9ERETMzMwQEBAiIiKY\n",
       "mJju7u5mZmaqqqpUVFSIiIh2dnbc3NwAAAA/vyDhAAAAAXRSTlMAQObYZgAAAENJREFUCNdjYDi9\n",
       "8sTyBQxsG1hdmR0YuBm4LnAoMLAxcAowgADzAjB1VoEhgYH1wFoGrgSG3gBhhlMMDImrs3cFMAAA\n",
       "t0YN+iTRa+sAAAAASUVORK5CYII=\n",
       "\" style=\"display:inline;vertical-align:middle;\" /></a> : <a class=\"ProveItLink\" href=\"../../__pv_it/07527342713064c87612d00d8557c53d53d5324a0/expr.ipynb\"><img src=\"data:image/png;base64,iVBORw0KGgoAAAANSUhEUgAAAAsAAAAJBAMAAAAWSsseAAAAMFBMVEX///8yMjKqqqrMzMzu7u4i\n",
       "IiJmZmaYmJhEREQQEBC6urp2dnaIiIhUVFTc3NwAAAD87Fq/AAAAAXRSTlMAQObYZgAAAEhJREFU\n",
       "CNdjYOC7s2seAwPDygccHxgY+L4zsDUwMPB+YGA9wMDA38Dgb8DA8P4Agz6DA4O/AsNFJgMGxgKm\n",
       "MG6gyjunLE4xAAAZTBA5TB6DCwAAAABJRU5ErkJggg==\n",
       "\" style=\"display:inline;vertical-align:middle;\" /></a>, <a class=\"ProveItLink\" href=\"../../__pv_it/f8b9edf8e16034727f0aad55bb83e392c3db40d40/expr.ipynb\"><img src=\"data:image/png;base64,iVBORw0KGgoAAAANSUhEUgAAAAsAAAANBAMAAACN24kIAAAAMFBMVEX///+YmJhUVFQyMjIQEBBE\n",
       "REQiIiKqqqrMzMyIiIi6urrc3NxmZmZ2dnbu7u4AAADXeCicAAAAAXRSTlMAQObYZgAAAFhJREFU\n",
       "CNdj4LtzgWH/AwZerg8M8xkY2nkSGEIZGB6wTGD4ycDAUP+A4weQOszA6QCkbBhYFYDUIYb1AkDq\n",
       "6czzGxhA4BoQMyXwuQMptgusF4AU+8xTQBIAUqMVoSp/SLMAAAAASUVORK5CYII=\n",
       "\" style=\"display:inline;vertical-align:middle;\" /></a> : <a class=\"ProveItLink\" href=\"../../__pv_it/6840a4fa6c106149dc16a131294d0c5e44f1b0480/expr.ipynb\"><img src=\"data:image/png;base64,iVBORw0KGgoAAAANSUhEUgAAAAkAAAAOBAMAAAAPuiubAAAALVBMVEX///9mZmbMzMxERESYmJiI\n",
       "iIh2dna6urqqqqoyMjIiIiIQEBBUVFTu7u4AAAD9S1JeAAAAAXRSTlMAQObYZgAAAE1JREFUCNdj\n",
       "4D29gAEIOA+ASL4GEFl3AURmgQiGOaFHGBh4HzPwKTBwvGXgTmBgnMDAJ8DAJcBQ5wBSLncBJLWN\n",
       "gYGngRFoBO9REQYGAGrcDtUkVqASAAAAAElFTkSuQmCC\n",
       "\" style=\"display:inline;vertical-align:middle;\" /></a></span></td></tr><tr><td>1</td><td>theorem</td><td></td><td><span style=\"font-size:20px;\"> <a class=\"ProveItLink\" href=\"_proofs_/equalsReversal.ipynb\" style=\"text-decoration: none\">&#x22A2;&nbsp;</a><a class=\"ProveItLink\" href=\"__pv_it/28002146d7bbb3d303591384d88b2e1175a218f20/expr.ipynb\"><img src=\"data:image/png;base64,iVBORw0KGgoAAAANSUhEUgAAAKEAAAAXBAMAAACR7DLtAAAAMFBMVEX///8QEBC6urrMzMxUVFRm\n",
       "ZmZERETc3NwyMjKqqqp2dnaIiIiYmJgiIiLu7u4AAAAU9Wx4AAAAAXRSTlMAQObYZgAAAhhJREFU\n",
       "OMutVD1IHEEU/m5Xb72/9YhVkEAKCxuJgfR3KBiJBCxFObAIKtFiC4lpErZIkSIEQa1sthGJB7KS\n",
       "eCCKLmkCkcBVKQThbCxMIwl4jYjvzd7uuevtwhx58JiZ9837ePN+BvjvUpP2UOxo7DtplTfHMozP\n",
       "YrDOQeALbz7LMMZeNoE3tGjTEoQZOw79CXRRIjuXJRgTsZk/A7KbS0vvZB7dH4smKbirmZkTGcZJ\n",
       "0otJaDdBs1Z+vj4FpMeBYWD2ntvjaMZPpNYTZC5pnfjI8oHNF/jlPAJSVJo+6OY9t5hSPQDU5RKS\n",
       "oSsWjrBCzZoHcsg4Mox/AR296LbDkzLCi0qhZ5xcTZIRqRsUBsNAr8eomzwE5aFvdEWpNJrDZXSN\n",
       "YvIqftc85NEwscP70inLb7c0/yh28WrMDlGJaiMJqvufbuNpM0ZhHOXc2z4ALJB2jeNVKMIfVKpD\n",
       "akauyRqNtiJKiPcDqDQZG8YAAGxwjEXlOkiYuk7mNdvtHiREjusCeIGxu3ms+x4eAAyQ6vO79SCj\n",
       "Pr+9dcDRc99lOUFqXnVbo+cOIxvnxKt9gAIwREaqkVPoSiFtpvHWQI9y2WQUxoZ4AAVgAS9xFvEV\n",
       "lL3N+d7UNgoOVitmk1EYG+IB7m92gtetCcPD4mhGh92yH32AZBFY340Y0w4jcFSNpNXfusN9gNlj\n",
       "PsivwWMWqX2rNaMPtC3F9l1vAaqximPRgqa5AAAAAElFTkSuQmCC\n",
       "\" style=\"display:inline;vertical-align:middle;\" /></a></span></td></tr>\n",
       "<tr><td>&nbsp;</td><td colspan=4 style-\"text-align:left\"><a class=\"ProveItLink\" href=\"_proofs_/equalsReversal.ipynb\">proveit.logic.equality.equalsReversal</a></td></tr><tr><td>2</td><td>assumption</td><td></td><td><span style=\"font-size:20px;\"><a class=\"ProveItLink\" href=\"__pv_it/d009e43b8cfc53c34c454c29c4e29a99e07d6d330/expr.ipynb\"><img src=\"data:image/png;base64,iVBORw0KGgoAAAANSUhEUgAAAEIAAAAVBAMAAAAA8SWUAAAAMFBMVEX///9ERETc3NyqqqpUVFS6\n",
       "urrMzMwyMjIQEBCIiIh2dnYiIiLu7u5mZmaYmJgAAABJJ2g3AAAAAXRSTlMAQObYZgAAAPVJREFU\n",
       "KM9jYGDgu8eAC2QtApE8uxhwgwwDIMH5Aascj8cGIMlbACS4GrBrZ3eASeJSwW9ASEX8AUIqVjOg\n",
       "qFCZFaGApqJkph9UEuRc1iYGeZAobzkYgNzI85GBP4GBD+TRjAAGBv0HDBfRjGD+w8CxgIGhloEh\n",
       "pQ3I9Wdg2ImmAmg0/wUGBsY6BoaIBAaGjww839BUcF9giH/AwAAKcJYCBqafDMwfeEAad4OBACQ4\n",
       "7h+AuINrAwPPZ6A6M7QAS2DoQvJtHYP1hQWoKlgMeB2QVKjMDJMMQIs5z3uEwpSBgXgVfPhUgNMH\n",
       "z058aQzsOr7FeNMpAKA7QF+x84JNAAAAAElFTkSuQmCC\n",
       "\" style=\"display:inline;vertical-align:middle;\" /></a> <a class=\"ProveItLink\" href=\"__pv_it/5733d2fb135f1bae1e7425769e5e990625ccd88c0/proof.ipynb\" style=\"text-decoration: none\">&#x22A2;&nbsp;</a><a class=\"ProveItLink\" href=\"__pv_it/95b1b23aa332dbd7d732f72039ef4fed607fecb10/expr.ipynb\"><img src=\"data:image/png;base64,iVBORw0KGgoAAAANSUhEUgAAADAAAAAOBAMAAACbXIJpAAAAMFBMVEX///8yMjKqqqrMzMzu7u4i\n",
       "IiJmZmaYmJhEREQQEBC6urp2dnaIiIhUVFTc3NwAAAD87Fq/AAAAAXRSTlMAQObYZgAAAJVJREFU\n",
       "GNNjYMACfKcy4ACyuCQ+4RDn+oJDgjsARPLd2TUPTYLxztkCBoaVDzg+gHiJgiAAtta/geEzA993\n",
       "BrYGNB36DgyzGXg/MLAeQJNIZGD4xsDfwOBvgCYRxsD1neH9AQZ9BgcgLzUUBCIg3mD7wuCvwHCR\n",
       "CU3LZwbODQyMBUxh3GhGXWLIBXnjlMUp9EA8VsAAAM4dJKpjP/uaAAAAAElFTkSuQmCC\n",
       "\" style=\"display:inline;vertical-align:middle;\" /></a></span></td></tr>\n",
       "</table>"
      ],
      "text/plain": [
       "\tstep type\trequirements\tstatement\n",
       "0\tspecialization\t1, 2\t{a = b} |- b = a\n",
       "\tx : a, y : b\n",
       "1\ttheorem\t\t|- forall_{x, y | x = y} (y = x)\n",
       "\tproveit.logic.equality.equalsReversal\n",
       "2\tassumption\t\t{a = b} |- a = b"
      ]
     },
     "execution_count": 31,
     "metadata": {},
     "output_type": "execute_result"
    }
   ],
   "source": [
    "a_eq_b.prove([a_eq_b]).deriveReversed().proof()"
   ]
  },
  {
   "cell_type": "markdown",
   "metadata": {},
   "source": [
    "Transitivity derivations are attempted with automation via the `conclude` method using the `trensitivitySearch` function in `proveit.logic.equality.transitivity_search`.  This performs a breadth-first, bidirectional search (meeting in the middle from both ends) over the space of **KnownTruth** objects representing equality and using appropriate assumptions.  This is therefore reasonably efficient.  Efficiency should not really be an issue, anyways, as long as proofs for each theorem are relatively small.  A long proof should be broken up into several smaller proofs for lemma-like theorems.  In that case (in the setting of small proofs), the space of **KnownTruth**s will be small and this search algorithm will have ample efficiency. "
   ]
  },
  {
   "cell_type": "code",
   "execution_count": 32,
   "metadata": {},
   "outputs": [
    {
     "data": {
      "text/html": [
       "<strong id=\"c_eq_b\">c_eq_b:</strong> <a class=\"ProveItLink\" href=\"__pv_it/f7273af822ec6fb4e68f6e96b379aefaa309da090/expr.ipynb\"><img src=\"data:image/png;base64,iVBORw0KGgoAAAANSUhEUgAAAC4AAAAOBAMAAACiOzMyAAAAMFBMVEX///+qqqpmZmbc3NxUVFSY\n",
       "mJhEREQiIiIyMjK6uroQEBDMzMyIiIh2dnbu7u4AAAA4MM1YAAAAAXRSTlMAQObYZgAAAIZJREFU\n",
       "GNNjYMAET5YzYActOMQ/Yhfm/IddnLcARPLdPbMBVZzD50gAA8OuCRwgeY0OEADb+D6B4TcD3xoG\n",
       "tgBU9fIPGNYysHzAMF+DgeETA38ChngRA+dXBvsDEI56OQiUQZzP9I+BH2g4mvm/GbguMLAoMPCi\n",
       "udORQQVI6p45hx5uhwIYAFObI8RZau/UAAAAAElFTkSuQmCC\n",
       "\" style=\"display:inline;vertical-align:middle;\" /></a><br>"
      ],
      "text/plain": [
       "c_eq_b: c = b"
      ]
     },
     "execution_count": 32,
     "metadata": {},
     "output_type": "execute_result"
    }
   ],
   "source": [
    "# We'll make this interesting by reversing some of the equations in the chain.\n",
    "c_eq_b = Equals(c, b) "
   ]
  },
  {
   "cell_type": "code",
   "execution_count": 33,
   "metadata": {},
   "outputs": [
    {
     "data": {
      "text/html": [
       "<strong id=\"d_eq_c\">d_eq_c:</strong> <a class=\"ProveItLink\" href=\"__pv_it/5563f0e90876434c8f38bb4cbb53a97c172836010/expr.ipynb\"><img src=\"data:image/png;base64,iVBORw0KGgoAAAANSUhEUgAAAC8AAAAOBAMAAABN+VgMAAAAMFBMVEX////MzMyYmJiIiIhUVFTc\n",
       "3NwyMjIiIiJ2dnbu7u6qqqpmZmYQEBBERES6uroAAABkyy6XAAAAAXRSTlMAQObYZgAAAJRJREFU\n",
       "GNNjYGBg4LuzgQE74F+AQ+L9BBwS7TjEGbKxirI69/1CE+LsMBZgYHgTwPsTxNuWBgIpIKbMA7YC\n",
       "BtZPDNwJaBoOM/AqMLB8YGBvQJUACoH8cIFh/gM0b10AkfEGDOsZQP7YXg4CtRAhIJi/gMGNSwBV\n",
       "hwIDgwIDmwJXNQeaHRsYOASA3rCTtUPzxw5jSwYAHdohiAA7WLMAAAAASUVORK5CYII=\n",
       "\" style=\"display:inline;vertical-align:middle;\" /></a><br>"
      ],
      "text/plain": [
       "d_eq_c: d = c"
      ]
     },
     "execution_count": 33,
     "metadata": {},
     "output_type": "execute_result"
    }
   ],
   "source": [
    "d_eq_c = Equals(d, c)"
   ]
  },
  {
   "cell_type": "code",
   "execution_count": 34,
   "metadata": {},
   "outputs": [
    {
     "data": {
      "text/html": [
       "<strong id=\"d_eq_z\">d_eq_z:</strong> <a class=\"ProveItLink\" href=\"__pv_it/ddd47832c0f520bfb006d1b3960ebcb40d0ddba60/expr.ipynb\"><img src=\"data:image/png;base64,iVBORw0KGgoAAAANSUhEUgAAADEAAAAOBAMAAAB0nulXAAAAMFBMVEX////MzMyYmJiIiIhUVFTc\n",
       "3NwyMjIiIiJ2dnbu7u6qqqpmZmYQEBBERES6uroAAABkyy6XAAAAAXRSTlMAQObYZgAAAJVJREFU\n",
       "GNNjYGBg4LuzgQEH4F+AS+b9BFwy7bgkGLKxC7M69/1CF3tzjtUASAbw/gTxtqWBQApY8SXrvUDy\n",
       "EwN3ApoWTgZOTwYGlg8M7A0YVoSA/HKBYf4DdAk+kNfjDRjWM4D8s70cBGrBMitAxPwFDG5cAqha\n",
       "uBoYWBgY2BS4qjnQDBPTVsoDecdO1g5NZgPTnwUMAHMTIyg+hGhRAAAAAElFTkSuQmCC\n",
       "\" style=\"display:inline;vertical-align:middle;\" /></a><br>"
      ],
      "text/plain": [
       "d_eq_z: d = z"
      ]
     },
     "execution_count": 34,
     "metadata": {},
     "output_type": "execute_result"
    }
   ],
   "source": [
    "d_eq_z = Equals(d, z)"
   ]
  },
  {
   "cell_type": "code",
   "execution_count": 35,
   "metadata": {},
   "outputs": [
    {
     "data": {
      "text/html": [
       "<strong id=\"a_eq_z\">a_eq_z:</strong> <span style=\"font-size:20px;\"><a class=\"ProveItLink\" href=\"__pv_it/68ba633270c55f58e6081921535f4cb22098ba470/expr.ipynb\"><img src=\"data:image/png;base64,iVBORw0KGgoAAAANSUhEUgAAAOsAAAAVBAMAAABVvASPAAAAMFBMVEX///9ERETc3NyqqqpUVFS6\n",
       "urrMzMwyMjIQEBCIiIh2dnYiIiLu7u5mZmaYmJgAAABJJ2g3AAAAAXRSTlMAQObYZgAAAhNJREFU\n",
       "SMe9lj1IK0EUhY/mT+PETSc2GsHGSisLbVJqoYkWYiNJYWFpIbzigYji4ymIqYQVC0EQjY2WarOF\n",
       "hdgYq4CiphOrGOU9EEWcmQ1mdzJ3AykyxWY235x79s7P3QXQ/oBGtmA2Jn7YGRrbgivi2vqihWzk\n",
       "mNK50MQGbUCwvLiEl/SaUJwM50JvHonp2YGXrTFARnOiwCftSjBP25RFhnOi8DFtSzBP2yM6nBOF\n",
       "cvQ4glVse7enYwpcMMfLOyhrpgnEdSl1La4Ot0gW+JvsK9tG5vntMrpl/5dsYsewEgzbbS4ZEpOV\n",
       "l2jBhYTOcjEEV/HbxRwx0fN8HwWKdlSgv4Ab5cF8n2jZlcmuoamgR0KXV3SXGXRRDBYuLHvuZ//w\n",
       "2wRwqozgk2DIpfFXnesfJHRqsUk4OtWFqFkm3cHTmObzVQL7rwxoyyElkzSioJDQ/VNgqdKpYsCM\n",
       "1Iup8s+j+R2+FybyOJctap/NR3lO+jO24k6iEyf60VUY/6uclyYmfHJtiuXDxd64+aBSEtJYh5AZ\n",
       "PLGCHul0X/zdwtdQyzAExB0HaBHDuV33CP9AJI5rvoX9OYTTeqTTjQH77EPPgosPT0mHba851ZlU\n",
       "6v0ofx9evvLerblDIY0ucmhabDOmZyiu1KpSsk3WhRCIeb35atsW6kJ8dWvatjfcVlYRdkoPaK0L\n",
       "ARnPr4tV+9H2Gv8t9Q3cGsEhEV8wdQAAAABJRU5ErkJggg==\n",
       "\" style=\"display:inline;vertical-align:middle;\" /></a> <a class=\"ProveItLink\" href=\"__pv_it/8e2c8d9f1e4c0387755b29b89926f809123dfdd50/proof.ipynb\" style=\"text-decoration: none\">&#x22A2;&nbsp;</a><a class=\"ProveItLink\" href=\"__pv_it/29d30b7b5d96052b2df9df8e8338964d79a633d60/expr.ipynb\"><img src=\"data:image/png;base64,iVBORw0KGgoAAAANSUhEUgAAADEAAAAJBAMAAABpm9nvAAAAMFBMVEX///8yMjKqqqrMzMzu7u4i\n",
       "IiJmZmaYmJhEREQQEBC6urp2dnaIiIhUVFTc3NwAAAD87Fq/AAAAAXRSTlMAQObYZgAAAIFJREFU\n",
       "CNdjYOC7s2seAxpYOYvvAJB8wPEBxEsUBAFZEJOv/VgGkPzOwNaApoWFgeUKAwPvBwbWA+imMbwF\n",
       "Yv4GBn8DdAmuBCDx/gCDPoMDkJEaCgIRYBltEOGvwHCRCU0T0wYGXgYGxgKmMG40wwzLyqWAbrtz\n",
       "yuIUmkwC+08FBgBeoB0bb1wsawAAAABJRU5ErkJggg==\n",
       "\" style=\"display:inline;vertical-align:middle;\" /></a></span><br>"
      ],
      "text/plain": [
       "a_eq_z: {a = b , c = b , d = c , d = z} |- a = z"
      ]
     },
     "execution_count": 35,
     "metadata": {},
     "output_type": "execute_result"
    }
   ],
   "source": [
    "a_eq_z = Equals(a, z).prove(assumptions=[a_eq_b, c_eq_b, d_eq_c, d_eq_z])"
   ]
  },
  {
   "cell_type": "code",
   "execution_count": 36,
   "metadata": {},
   "outputs": [
    {
     "data": {
      "text/html": [
       "<table><tr><th>&nbsp;</th><th>step type</th><th>requirements</th><th>statement</th></tr>\n",
       "<tr><td>0</td><td>specialization</td><td>5, 1, 2</td><td><span style=\"font-size:20px;\"><a class=\"ProveItLink\" href=\"__pv_it/68ba633270c55f58e6081921535f4cb22098ba470/expr.ipynb\"><img src=\"data:image/png;base64,iVBORw0KGgoAAAANSUhEUgAAAOsAAAAVBAMAAABVvASPAAAAMFBMVEX///9ERETc3NyqqqpUVFS6\n",
       "urrMzMwyMjIQEBCIiIh2dnYiIiLu7u5mZmaYmJgAAABJJ2g3AAAAAXRSTlMAQObYZgAAAhNJREFU\n",
       "SMe9lj1IK0EUhY/mT+PETSc2GsHGSisLbVJqoYkWYiNJYWFpIbzigYji4ymIqYQVC0EQjY2WarOF\n",
       "hdgYq4CiphOrGOU9EEWcmQ1mdzJ3AykyxWY235x79s7P3QXQ/oBGtmA2Jn7YGRrbgivi2vqihWzk\n",
       "mNK50MQGbUCwvLiEl/SaUJwM50JvHonp2YGXrTFARnOiwCftSjBP25RFhnOi8DFtSzBP2yM6nBOF\n",
       "cvQ4glVse7enYwpcMMfLOyhrpgnEdSl1La4Ot0gW+JvsK9tG5vntMrpl/5dsYsewEgzbbS4ZEpOV\n",
       "l2jBhYTOcjEEV/HbxRwx0fN8HwWKdlSgv4Ab5cF8n2jZlcmuoamgR0KXV3SXGXRRDBYuLHvuZ//w\n",
       "2wRwqozgk2DIpfFXnesfJHRqsUk4OtWFqFkm3cHTmObzVQL7rwxoyyElkzSioJDQ/VNgqdKpYsCM\n",
       "1Iup8s+j+R2+FybyOJctap/NR3lO+jO24k6iEyf60VUY/6uclyYmfHJtiuXDxd64+aBSEtJYh5AZ\n",
       "PLGCHul0X/zdwtdQyzAExB0HaBHDuV33CP9AJI5rvoX9OYTTeqTTjQH77EPPgosPT0mHba851ZlU\n",
       "6v0ofx9evvLerblDIY0ucmhabDOmZyiu1KpSsk3WhRCIeb35atsW6kJ8dWvatjfcVlYRdkoPaK0L\n",
       "ARnPr4tV+9H2Gv8t9Q3cGsEhEV8wdQAAAABJRU5ErkJggg==\n",
       "\" style=\"display:inline;vertical-align:middle;\" /></a> <a class=\"ProveItLink\" href=\"__pv_it/8e2c8d9f1e4c0387755b29b89926f809123dfdd50/proof.ipynb\" style=\"text-decoration: none\">&#x22A2;&nbsp;</a><a class=\"ProveItLink\" href=\"__pv_it/29d30b7b5d96052b2df9df8e8338964d79a633d60/expr.ipynb\"><img src=\"data:image/png;base64,iVBORw0KGgoAAAANSUhEUgAAADEAAAAJBAMAAABpm9nvAAAAMFBMVEX///8yMjKqqqrMzMzu7u4i\n",
       "IiJmZmaYmJhEREQQEBC6urp2dnaIiIhUVFTc3NwAAAD87Fq/AAAAAXRSTlMAQObYZgAAAIFJREFU\n",
       "CNdjYOC7s2seAxpYOYvvAJB8wPEBxEsUBAFZEJOv/VgGkPzOwNaApoWFgeUKAwPvBwbWA+imMbwF\n",
       "Yv4GBn8DdAmuBCDx/gCDPoMDkJEaCgIRYBltEOGvwHCRCU0T0wYGXgYGxgKmMG40wwzLyqWAbrtz\n",
       "yuIUmkwC+08FBgBeoB0bb1wsawAAAABJRU5ErkJggg==\n",
       "\" style=\"display:inline;vertical-align:middle;\" /></a></span></td></tr>\n",
       "<tr><td>&nbsp;</td><td colspan=4 style=\"text-align:left\"><span style=\"font-size:20px;\"><a class=\"ProveItLink\" href=\"../../__pv_it/530be409e3083890784cf1d7b28c9e67e90af9360/expr.ipynb\"><img src=\"data:image/png;base64,iVBORw0KGgoAAAANSUhEUgAAAAsAAAAJBAMAAAAWSsseAAAAKlBMVEX///9ERETMzMwQEBAiIiKY\n",
       "mJju7u5mZmaqqqpUVFSIiIh2dnbc3NwAAAA/vyDhAAAAAXRSTlMAQObYZgAAAENJREFUCNdjYDi9\n",
       "8sTyBQxsG1hdmR0YuBm4LnAoMLAxcAowgADzAjB1VoEhgYH1wFoGrgSG3gBhhlMMDImrs3cFMAAA\n",
       "t0YN+iTRa+sAAAAASUVORK5CYII=\n",
       "\" style=\"display:inline;vertical-align:middle;\" /></a> : <a class=\"ProveItLink\" href=\"../../__pv_it/07527342713064c87612d00d8557c53d53d5324a0/expr.ipynb\"><img src=\"data:image/png;base64,iVBORw0KGgoAAAANSUhEUgAAAAsAAAAJBAMAAAAWSsseAAAAMFBMVEX///8yMjKqqqrMzMzu7u4i\n",
       "IiJmZmaYmJhEREQQEBC6urp2dnaIiIhUVFTc3NwAAAD87Fq/AAAAAXRSTlMAQObYZgAAAEhJREFU\n",
       "CNdjYOC7s2seAwPDygccHxgY+L4zsDUwMPB+YGA9wMDA38Dgb8DA8P4Agz6DA4O/AsNFJgMGxgKm\n",
       "MG6gyjunLE4xAAAZTBA5TB6DCwAAAABJRU5ErkJggg==\n",
       "\" style=\"display:inline;vertical-align:middle;\" /></a>, <a class=\"ProveItLink\" href=\"../../__pv_it/f8b9edf8e16034727f0aad55bb83e392c3db40d40/expr.ipynb\"><img src=\"data:image/png;base64,iVBORw0KGgoAAAANSUhEUgAAAAsAAAANBAMAAACN24kIAAAAMFBMVEX///+YmJhUVFQyMjIQEBBE\n",
       "REQiIiKqqqrMzMyIiIi6urrc3NxmZmZ2dnbu7u4AAADXeCicAAAAAXRSTlMAQObYZgAAAFhJREFU\n",
       "CNdj4LtzgWH/AwZerg8M8xkY2nkSGEIZGB6wTGD4ycDAUP+A4weQOszA6QCkbBhYFYDUIYb1AkDq\n",
       "6czzGxhA4BoQMyXwuQMptgusF4AU+8xTQBIAUqMVoSp/SLMAAAAASUVORK5CYII=\n",
       "\" style=\"display:inline;vertical-align:middle;\" /></a> : <a class=\"ProveItLink\" href=\"../../__pv_it/3a5de44ed6135dbbdbbeec6704c741e238f127300/expr.ipynb\"><img src=\"data:image/png;base64,iVBORw0KGgoAAAANSUhEUgAAAAsAAAAOBAMAAAALT/umAAAAMFBMVEX////MzMyYmJiIiIhUVFTc\n",
       "3NwyMjIiIiJ2dnbu7u6qqqpmZmYQEBBERES6uroAAABkyy6XAAAAAXRSTlMAQObYZgAAAFhJREFU\n",
       "CNdjYGBg4LuzgQEE+BeAqfcTwFQ7mGTIBmJW575fQOpNAO9PIOcTA3cCAwPLBwb2BqCeCwzzHzAw\n",
       "xBswrGeYwDB/AYMblwADmwJXNQdIm52sHQMAfyoTCZukXIEAAAAASUVORK5CYII=\n",
       "\" style=\"display:inline;vertical-align:middle;\" /></a>, <a class=\"ProveItLink\" href=\"../../__pv_it/251502494639118b4892de8e9d720a5fcce840e10/expr.ipynb\"><img src=\"data:image/png;base64,iVBORw0KGgoAAAANSUhEUgAAAAoAAAAJBAMAAAD5iKAgAAAALVBMVEX///8yMjLMzMx2dnaqqqpU\n",
       "VFTu7u5mZmaYmJhERESIiIjc3NwQEBC6uroAAAB+iRisAAAAAXRSTlMAQObYZgAAADlJREFUCNdj\n",
       "YOA9c2EXA8POrvIJDAwJDKkJDAwM3AFAguE6iGAxAJHODAwBDEwSFY0XGNgZ+o4wAABKtAsIcBKm\n",
       "agAAAABJRU5ErkJggg==\n",
       "\" style=\"display:inline;vertical-align:middle;\" /></a> : <a class=\"ProveItLink\" href=\"../../__pv_it/251502494639118b4892de8e9d720a5fcce840e10/expr.ipynb\"><img src=\"data:image/png;base64,iVBORw0KGgoAAAANSUhEUgAAAAoAAAAJBAMAAAD5iKAgAAAALVBMVEX///8yMjLMzMx2dnaqqqpU\n",
       "VFTu7u5mZmaYmJhERESIiIjc3NwQEBC6uroAAAB+iRisAAAAAXRSTlMAQObYZgAAADlJREFUCNdj\n",
       "YOA9c2EXA8POrvIJDAwJDKkJDAwM3AFAguE6iGAxAJHODAwBDEwSFY0XGNgZ+o4wAABKtAsIcBKm\n",
       "agAAAABJRU5ErkJggg==\n",
       "\" style=\"display:inline;vertical-align:middle;\" /></a></span></td></tr><tr><td>1</td><td>specialization</td><td>5, 3, 4</td><td><span style=\"font-size:20px;\"><a class=\"ProveItLink\" href=\"__pv_it/bdccaaf21e5202d7278bd170ac86597d170c99d40/expr.ipynb\"><img src=\"data:image/png;base64,iVBORw0KGgoAAAANSUhEUgAAALEAAAAVBAMAAAD7ihIOAAAAMFBMVEX///9ERETc3NyqqqpUVFS6\n",
       "urrMzMwyMjIQEBCIiIh2dnYiIiLu7u5mZmaYmJgAAABJJ2g3AAAAAXRSTlMAQObYZgAAAe5JREFU\n",
       "OMu1VTtLA0EQ/tQ8TNzk0omNpkhvKhsLBRstfBZilxQWlhaChSCiKKiIKUS4oCAI4qPRUkVIYRFs\n",
       "EkEIKOj9AxPFgBjF2d2gl/XugpBMcTd3M9+389pdAMFH1Fg8x2H+YheouXiW+NOXtzSy/lNb4PX6\n",
       "rz66YeWR4w//gjXc22sf04xJf7VyOHRi1qL2zCY2d+nfzLGULbGZzX/6b+YT+5DNbN6sM3MkORFW\n",
       "a6kPlXt5rMeVFgxsGVKLJGNq0W6OtsvMgWlKbxEdQp8VwnvHCtAk4dSIl8eYEybRu0wIRVkWwqUq\n",
       "bZ5lzAHPEgh0GrhVlm4qoXlPhLyKBqPS1pPCmlAIl1Nw6QTaZY0mV+hzGDhXPCgVTZTQlbea1k+h\n",
       "EE7dZ8Py1UrBTFDOBbCi4tGSRUyEqoX+MF/B/SUUwr0ptoJE83Rd02h8R1Oe8UAvhYTkOD+JuetM\n",
       "SMiDMJ3JcQ6IufvB/droF5fn8gixV+LvUjZKnGrJURpFrtS5yFtAy1rhKJmgaerm0Z3dq/RwRQO9\n",
       "yNBQuLLwK1PXhzuwD1jiBoEDE3NEH28bUU6kATpc0y+k3es76om0a4Bthi1xgSM9VWUPChmzN7nD\n",
       "DrjqzIa9KYhqzMF6MIv9w87tHXwO4ITTnbIsF9+vyz34DaAhmi1pqWvKAAAAAElFTkSuQmCC\n",
       "\" style=\"display:inline;vertical-align:middle;\" /></a> <a class=\"ProveItLink\" href=\"__pv_it/2d0f1deabf51571422125a9554fb51367ce4f1980/proof.ipynb\" style=\"text-decoration: none\">&#x22A2;&nbsp;</a><a class=\"ProveItLink\" href=\"__pv_it/261dca945dea2cb6a40025bdead37b1d4f5cebe30/expr.ipynb\"><img src=\"data:image/png;base64,iVBORw0KGgoAAAANSUhEUgAAADIAAAAOBAMAAACfqVJUAAAAMFBMVEX///8yMjKqqqrMzMzu7u4i\n",
       "IiJmZmaYmJhEREQQEBC6urp2dnaIiIhUVFTc3NwAAAD87Fq/AAAAAXRSTlMAQObYZgAAAKJJREFU\n",
       "GNNjYMAOVkxjwAU+4ZLg+oJLhjsAlwxjAgMD351d89DF355er8DAsPIBxwcQL1EQBGTBlsxj6Hdg\n",
       "4PvOwNaApuV9AUMiAwPvBwbWA2gy9xkYohkY+BsY/A3QZH4wsPwC6jzAoM/gAOSmhoJABJDF94eB\n",
       "6QMLg78Cw0UmVE0snxh4BZQZGAuYwrjRTBNnUE3YAPTOKYtT6N45s7hnAQBAyihUy7sZ+gAAAABJ\n",
       "RU5ErkJggg==\n",
       "\" style=\"display:inline;vertical-align:middle;\" /></a></span></td></tr>\n",
       "<tr><td>&nbsp;</td><td colspan=4 style=\"text-align:left\"><span style=\"font-size:20px;\"><a class=\"ProveItLink\" href=\"../../__pv_it/530be409e3083890784cf1d7b28c9e67e90af9360/expr.ipynb\"><img src=\"data:image/png;base64,iVBORw0KGgoAAAANSUhEUgAAAAsAAAAJBAMAAAAWSsseAAAAKlBMVEX///9ERETMzMwQEBAiIiKY\n",
       "mJju7u5mZmaqqqpUVFSIiIh2dnbc3NwAAAA/vyDhAAAAAXRSTlMAQObYZgAAAENJREFUCNdjYDi9\n",
       "8sTyBQxsG1hdmR0YuBm4LnAoMLAxcAowgADzAjB1VoEhgYH1wFoGrgSG3gBhhlMMDImrs3cFMAAA\n",
       "t0YN+iTRa+sAAAAASUVORK5CYII=\n",
       "\" style=\"display:inline;vertical-align:middle;\" /></a> : <a class=\"ProveItLink\" href=\"../../__pv_it/07527342713064c87612d00d8557c53d53d5324a0/expr.ipynb\"><img src=\"data:image/png;base64,iVBORw0KGgoAAAANSUhEUgAAAAsAAAAJBAMAAAAWSsseAAAAMFBMVEX///8yMjKqqqrMzMzu7u4i\n",
       "IiJmZmaYmJhEREQQEBC6urp2dnaIiIhUVFTc3NwAAAD87Fq/AAAAAXRSTlMAQObYZgAAAEhJREFU\n",
       "CNdjYOC7s2seAwPDygccHxgY+L4zsDUwMPB+YGA9wMDA38Dgb8DA8P4Agz6DA4O/AsNFJgMGxgKm\n",
       "MG6gyjunLE4xAAAZTBA5TB6DCwAAAABJRU5ErkJggg==\n",
       "\" style=\"display:inline;vertical-align:middle;\" /></a>, <a class=\"ProveItLink\" href=\"../../__pv_it/f8b9edf8e16034727f0aad55bb83e392c3db40d40/expr.ipynb\"><img src=\"data:image/png;base64,iVBORw0KGgoAAAANSUhEUgAAAAsAAAANBAMAAACN24kIAAAAMFBMVEX///+YmJhUVFQyMjIQEBBE\n",
       "REQiIiKqqqrMzMyIiIi6urrc3NxmZmZ2dnbu7u4AAADXeCicAAAAAXRSTlMAQObYZgAAAFhJREFU\n",
       "CNdj4LtzgWH/AwZerg8M8xkY2nkSGEIZGB6wTGD4ycDAUP+A4weQOszA6QCkbBhYFYDUIYb1AkDq\n",
       "6czzGxhA4BoQMyXwuQMptgusF4AU+8xTQBIAUqMVoSp/SLMAAAAASUVORK5CYII=\n",
       "\" style=\"display:inline;vertical-align:middle;\" /></a> : <a class=\"ProveItLink\" href=\"../../__pv_it/cbdfda466482236edba0ce44ac7ef39cda0af7a40/expr.ipynb\"><img src=\"data:image/png;base64,iVBORw0KGgoAAAANSUhEUgAAAAkAAAAJBAMAAAASvxsjAAAALVBMVEX///9mZmbc3NxUVFSYmJhE\n",
       "REQiIiIyMjK6uroQEBDMzMyIiIh2dnbu7u4AAABgFDGoAAAAAXRSTlMAQObYZgAAADZJREFUCNdj\n",
       "YOA9s3sBA8PKBvYEBt7ZDKwODMwPGICALwBE6m0Asx0YGIDiAgw8QJUyu/cyAAAmuwmycZ8WfQAA\n",
       "AABJRU5ErkJggg==\n",
       "\" style=\"display:inline;vertical-align:middle;\" /></a>, <a class=\"ProveItLink\" href=\"../../__pv_it/251502494639118b4892de8e9d720a5fcce840e10/expr.ipynb\"><img src=\"data:image/png;base64,iVBORw0KGgoAAAANSUhEUgAAAAoAAAAJBAMAAAD5iKAgAAAALVBMVEX///8yMjLMzMx2dnaqqqpU\n",
       "VFTu7u5mZmaYmJhERESIiIjc3NwQEBC6uroAAAB+iRisAAAAAXRSTlMAQObYZgAAADlJREFUCNdj\n",
       "YOA9c2EXA8POrvIJDAwJDKkJDAwM3AFAguE6iGAxAJHODAwBDEwSFY0XGNgZ+o4wAABKtAsIcBKm\n",
       "agAAAABJRU5ErkJggg==\n",
       "\" style=\"display:inline;vertical-align:middle;\" /></a> : <a class=\"ProveItLink\" href=\"../../__pv_it/3a5de44ed6135dbbdbbeec6704c741e238f127300/expr.ipynb\"><img src=\"data:image/png;base64,iVBORw0KGgoAAAANSUhEUgAAAAsAAAAOBAMAAAALT/umAAAAMFBMVEX////MzMyYmJiIiIhUVFTc\n",
       "3NwyMjIiIiJ2dnbu7u6qqqpmZmYQEBBERES6uroAAABkyy6XAAAAAXRSTlMAQObYZgAAAFhJREFU\n",
       "CNdjYGBg4LuzgQEE+BeAqfcTwFQ7mGTIBmJW575fQOpNAO9PIOcTA3cCAwPLBwb2BqCeCwzzHzAw\n",
       "xBswrGeYwDB/AYMblwADmwJXNQdIm52sHQMAfyoTCZukXIEAAAAASUVORK5CYII=\n",
       "\" style=\"display:inline;vertical-align:middle;\" /></a></span></td></tr><tr><td>2</td><td>assumption</td><td></td><td><span style=\"font-size:20px;\"><a class=\"ProveItLink\" href=\"__pv_it/d07ff26a68edf57eb315d166b2c112c4b415c12d0/expr.ipynb\"><img src=\"data:image/png;base64,iVBORw0KGgoAAAANSUhEUgAAAEMAAAAVBAMAAADvM06qAAAAMFBMVEX////c3NxERESqqqpUVFS6\n",
       "urrMzMwyMjIQEBCIiIh2dnYiIiLu7u5mZmaYmJgAAABXZE4RAAAAAXRSTlMAQObYZgAAAO5JREFU\n",
       "KM9jYGDgu8eAC7CtEgBRPLsYcAO2ZhDJ+QHMCerFquY6iOBqgHA+Y1WyAkkJ6x+CSrg2EFTCfoGA\n",
       "EpFZ8QZokqwdAZJQJbwFQG4jg/4BELscDBxA4kIv7yowMLwHMTMCGBjkH0B8hwwOMBw5ALE/pQ3I\n",
       "9WdgwAxARrBh6g8YGCISGBg+MfB8xVASCyK4FwAJlgIGxp8MzB94QG7ZDQYKIElmkCTELcAA4fkM\n",
       "VGiGZogVA4MDkqfrGKwvLECLwLp7zwOQlIjMDNMMQFXCy/C+GS10cQBilfDhVQIOUZ6d+FJdK5ji\n",
       "W4w/7QIAplxCotuCFkYAAAAASUVORK5CYII=\n",
       "\" style=\"display:inline;vertical-align:middle;\" /></a> <a class=\"ProveItLink\" href=\"__pv_it/4e751de573246b577178d4d9e0e501eda8c00fb60/proof.ipynb\" style=\"text-decoration: none\">&#x22A2;&nbsp;</a><a class=\"ProveItLink\" href=\"__pv_it/ddd47832c0f520bfb006d1b3960ebcb40d0ddba60/expr.ipynb\"><img src=\"data:image/png;base64,iVBORw0KGgoAAAANSUhEUgAAADEAAAAOBAMAAAB0nulXAAAAMFBMVEX////MzMyYmJiIiIhUVFTc\n",
       "3NwyMjIiIiJ2dnbu7u6qqqpmZmYQEBBERES6uroAAABkyy6XAAAAAXRSTlMAQObYZgAAAJVJREFU\n",
       "GNNjYGBg4LuzgQEH4F+AS+b9BFwy7bgkGLKxC7M69/1CF3tzjtUASAbw/gTxtqWBQApY8SXrvUDy\n",
       "EwN3ApoWTgZOTwYGlg8M7A0YVoSA/HKBYf4DdAk+kNfjDRjWM4D8s70cBGrBMitAxPwFDG5cAqha\n",
       "uBoYWBgY2BS4qjnQDBPTVsoDecdO1g5NZgPTnwUMAHMTIyg+hGhRAAAAAElFTkSuQmCC\n",
       "\" style=\"display:inline;vertical-align:middle;\" /></a></span></td></tr>\n",
       "<tr><td>3</td><td>specialization</td><td>5, 6, 7</td><td><span style=\"font-size:20px;\"><a class=\"ProveItLink\" href=\"__pv_it/d70096d698fc24e78429dd377a9a729437f97e550/expr.ipynb\"><img src=\"data:image/png;base64,iVBORw0KGgoAAAANSUhEUgAAAHkAAAAVBAMAAACQ4lxbAAAAMFBMVEX///9ERETc3NyqqqpUVFS6\n",
       "urrMzMwyMjIQEBCIiIh2dnYiIiLu7u5mZmaYmJgAAABJJ2g3AAAAAXRSTlMAQObYZgAAAYBJREFU\n",
       "OMtjYGDgu8dABmBbpQCieHYxkAXYmkEk5weskjweG3BqPNINIq+DCK4G7ErYHXDbWwIiVuDTzW+A\n",
       "W/dngrrjD+DUzPqHoO7VuK3m2oCqm8lzaRO632b6QcNv1cwEtCDxnPIAqpu3AEhEKDCCgp63HAxA\n",
       "4cXzkYEfoikjgB1k13WwFDi8zgswfGNgeA+RBFr9j4FXANV85j8MHAvAVncyMD5AlbM/wNAFdMEF\n",
       "BoaUNiCX5QMD9wRUFUAn8V9ggMihA2BM/wVS4kBDI4Du4xdgOI/mN+4LDPFgK/kFMHTvZWD9B1QB\n",
       "choL0N/6ExjsGYAxxLsbDAQg0X0fHGf6UEfdBktthEQ37x+ov0HBf96AwZ0Z1XJgkHUx8IAYQBeg\n",
       "+fsbOEjgMcb+gHkvF6oKFgNeB4bzQJNZLjBwofnKmeEKcnwzeU5NnIqWSzyBGffEJyDr1sw56Llk\n",
       "7gNCaQ0MgvDIEdb9gJBuPnJ1g/M3z07cCjjxlS2tYIpvMdnlGgAp5G/A8GagVwAAAABJRU5ErkJg\n",
       "gg==\n",
       "\" style=\"display:inline;vertical-align:middle;\" /></a> <a class=\"ProveItLink\" href=\"__pv_it/4f72bbaac09a664542a3633afceb1e01c038f7340/proof.ipynb\" style=\"text-decoration: none\">&#x22A2;&nbsp;</a><a class=\"ProveItLink\" href=\"__pv_it/e4b5243c2517ed628bb1af1af6e1b7212ecee3660/expr.ipynb\"><img src=\"data:image/png;base64,iVBORw0KGgoAAAANSUhEUgAAADAAAAAJBAMAAACGWbLRAAAAMFBMVEX///8yMjKqqqrMzMzu7u4i\n",
       "IiJmZmaYmJhEREQQEBC6urp2dnaIiIhUVFTc3NwAAAD87Fq/AAAAAXRSTlMAQObYZgAAAH1JREFU\n",
       "CNdjYOC7s2seAxrw3nOYgWHlA44PIE6iIAjIgpjMsxhEGfi+M7A1oGnwPMDQzsD7gYH1AJrEfRDB\n",
       "38Dgb4Am8QNEvD/AoM/gAGSkhoJABJDF9wck4a/AcJEJTct3BgZ2BsYCpjBuNKOuMTBsBnrjlMUp\n",
       "NAm2PWccAM8RHrRXTIHuAAAAAElFTkSuQmCC\n",
       "\" style=\"display:inline;vertical-align:middle;\" /></a></span></td></tr>\n",
       "<tr><td>&nbsp;</td><td colspan=4 style=\"text-align:left\"><span style=\"font-size:20px;\"><a class=\"ProveItLink\" href=\"../../__pv_it/530be409e3083890784cf1d7b28c9e67e90af9360/expr.ipynb\"><img src=\"data:image/png;base64,iVBORw0KGgoAAAANSUhEUgAAAAsAAAAJBAMAAAAWSsseAAAAKlBMVEX///9ERETMzMwQEBAiIiKY\n",
       "mJju7u5mZmaqqqpUVFSIiIh2dnbc3NwAAAA/vyDhAAAAAXRSTlMAQObYZgAAAENJREFUCNdjYDi9\n",
       "8sTyBQxsG1hdmR0YuBm4LnAoMLAxcAowgADzAjB1VoEhgYH1wFoGrgSG3gBhhlMMDImrs3cFMAAA\n",
       "t0YN+iTRa+sAAAAASUVORK5CYII=\n",
       "\" style=\"display:inline;vertical-align:middle;\" /></a> : <a class=\"ProveItLink\" href=\"../../__pv_it/07527342713064c87612d00d8557c53d53d5324a0/expr.ipynb\"><img src=\"data:image/png;base64,iVBORw0KGgoAAAANSUhEUgAAAAsAAAAJBAMAAAAWSsseAAAAMFBMVEX///8yMjKqqqrMzMzu7u4i\n",
       "IiJmZmaYmJhEREQQEBC6urp2dnaIiIhUVFTc3NwAAAD87Fq/AAAAAXRSTlMAQObYZgAAAEhJREFU\n",
       "CNdjYOC7s2seAwPDygccHxgY+L4zsDUwMPB+YGA9wMDA38Dgb8DA8P4Agz6DA4O/AsNFJgMGxgKm\n",
       "MG6gyjunLE4xAAAZTBA5TB6DCwAAAABJRU5ErkJggg==\n",
       "\" style=\"display:inline;vertical-align:middle;\" /></a>, <a class=\"ProveItLink\" href=\"../../__pv_it/f8b9edf8e16034727f0aad55bb83e392c3db40d40/expr.ipynb\"><img src=\"data:image/png;base64,iVBORw0KGgoAAAANSUhEUgAAAAsAAAANBAMAAACN24kIAAAAMFBMVEX///+YmJhUVFQyMjIQEBBE\n",
       "REQiIiKqqqrMzMyIiIi6urrc3NxmZmZ2dnbu7u4AAADXeCicAAAAAXRSTlMAQObYZgAAAFhJREFU\n",
       "CNdj4LtzgWH/AwZerg8M8xkY2nkSGEIZGB6wTGD4ycDAUP+A4weQOszA6QCkbBhYFYDUIYb1AkDq\n",
       "6czzGxhA4BoQMyXwuQMptgusF4AU+8xTQBIAUqMVoSp/SLMAAAAASUVORK5CYII=\n",
       "\" style=\"display:inline;vertical-align:middle;\" /></a> : <a class=\"ProveItLink\" href=\"../../__pv_it/6840a4fa6c106149dc16a131294d0c5e44f1b0480/expr.ipynb\"><img src=\"data:image/png;base64,iVBORw0KGgoAAAANSUhEUgAAAAkAAAAOBAMAAAAPuiubAAAALVBMVEX///9mZmbMzMxERESYmJiI\n",
       "iIh2dna6urqqqqoyMjIiIiIQEBBUVFTu7u4AAAD9S1JeAAAAAXRSTlMAQObYZgAAAE1JREFUCNdj\n",
       "4D29gAEIOA+ASL4GEFl3AURmgQiGOaFHGBh4HzPwKTBwvGXgTmBgnMDAJ8DAJcBQ5wBSLncBJLWN\n",
       "gYGngRFoBO9REQYGAGrcDtUkVqASAAAAAElFTkSuQmCC\n",
       "\" style=\"display:inline;vertical-align:middle;\" /></a>, <a class=\"ProveItLink\" href=\"../../__pv_it/251502494639118b4892de8e9d720a5fcce840e10/expr.ipynb\"><img src=\"data:image/png;base64,iVBORw0KGgoAAAANSUhEUgAAAAoAAAAJBAMAAAD5iKAgAAAALVBMVEX///8yMjLMzMx2dnaqqqpU\n",
       "VFTu7u5mZmaYmJhERESIiIjc3NwQEBC6uroAAAB+iRisAAAAAXRSTlMAQObYZgAAADlJREFUCNdj\n",
       "YOA9c2EXA8POrvIJDAwJDKkJDAwM3AFAguE6iGAxAJHODAwBDEwSFY0XGNgZ+o4wAABKtAsIcBKm\n",
       "agAAAABJRU5ErkJggg==\n",
       "\" style=\"display:inline;vertical-align:middle;\" /></a> : <a class=\"ProveItLink\" href=\"../../__pv_it/cbdfda466482236edba0ce44ac7ef39cda0af7a40/expr.ipynb\"><img src=\"data:image/png;base64,iVBORw0KGgoAAAANSUhEUgAAAAkAAAAJBAMAAAASvxsjAAAALVBMVEX///9mZmbc3NxUVFSYmJhE\n",
       "REQiIiIyMjK6uroQEBDMzMyIiIh2dnbu7u4AAABgFDGoAAAAAXRSTlMAQObYZgAAADZJREFUCNdj\n",
       "YOA9s3sBA8PKBvYEBt7ZDKwODMwPGICALwBE6m0Asx0YGIDiAgw8QJUyu/cyAAAmuwmycZ8WfQAA\n",
       "AABJRU5ErkJggg==\n",
       "\" style=\"display:inline;vertical-align:middle;\" /></a></span></td></tr><tr><td>4</td><td>specialization</td><td>9, 8</td><td><span style=\"font-size:20px;\"><a class=\"ProveItLink\" href=\"__pv_it/0b3ebedb13b80683789be64da3f7935d89fe1b5b0/expr.ipynb\"><img src=\"data:image/png;base64,iVBORw0KGgoAAAANSUhEUgAAAEEAAAAVBAMAAADrxp6XAAAAMFBMVEX////c3NxERESqqqpUVFS6\n",
       "urrMzMwyMjIQEBCIiIh2dnYiIiLu7u5mZmaYmJgAAABXZE4RAAAAAXRSTlMAQObYZgAAAOpJREFU\n",
       "KM9jYGDgu8eAA7CtEgBRPLsYcAK2ZhDJ+QHMCerFpuQ6iOBqgHA+Y1OxAkkF6x9CKrg2EFLBfgG/\n",
       "CpFZ8QZokqdWToOq4C0AOqKRQf8AiF0OBg4gj7YyVDMwvAepyAhgYJB/APEXEjgxgUEPYndKG5Dr\n",
       "z8CAHm7+EEr9AQNDRAIDwycGnq9oKj6BSe4FQIKlgIHxJwPzBx6QO3aDgQIDSAgE3kMDguczUJ0Z\n",
       "qhn/gFGK5Ns6BusLC1BV+DIwLENSITIzTDMAVQXvypkHUMMUOyBSBR8+FeBw5NmJJ421gim+xXjT\n",
       "KQDh+0J7GsIzOQAAAABJRU5ErkJggg==\n",
       "\" style=\"display:inline;vertical-align:middle;\" /></a> <a class=\"ProveItLink\" href=\"__pv_it/7586b69dd64437511714bb0d8db9b29e4ca66d8d0/proof.ipynb\" style=\"text-decoration: none\">&#x22A2;&nbsp;</a><a class=\"ProveItLink\" href=\"__pv_it/cdf5c35b617bb83836cb556707337fff3b7ae6290/expr.ipynb\"><img src=\"data:image/png;base64,iVBORw0KGgoAAAANSUhEUgAAADAAAAAOBAMAAACbXIJpAAAAMFBMVEX///+qqqpmZmbc3NxUVFSY\n",
       "mJhEREQiIiIyMjK6uroQEBDMzMyIiIh2dnbu7u4AAAA4MM1YAAAAAXRSTlMAQObYZgAAAJRJREFU\n",
       "GNNjYMAKpi1iwAE+4hDn/IdDgrcAhwSHAgMD390zG9CETc7OF2Bg2DWBA6RPowMEWsAWLGbIf8DA\n",
       "t4aBLQBVg30AgwYDA8sHDAv8GRhqGRj4EzAkvjHw/QTqOwDhqZeDQBmQxfyHgfEDHwM/0AJUO/g+\n",
       "MrA0SDOwKDDwojm3lUFc4QIDg+6Zc+jeODM7ZwIAG+cj9tmP9mYAAAAASUVORK5CYII=\n",
       "\" style=\"display:inline;vertical-align:middle;\" /></a></span></td></tr>\n",
       "<tr><td>&nbsp;</td><td colspan=4 style=\"text-align:left\"><span style=\"font-size:20px;\"><a class=\"ProveItLink\" href=\"../../__pv_it/530be409e3083890784cf1d7b28c9e67e90af9360/expr.ipynb\"><img src=\"data:image/png;base64,iVBORw0KGgoAAAANSUhEUgAAAAsAAAAJBAMAAAAWSsseAAAAKlBMVEX///9ERETMzMwQEBAiIiKY\n",
       "mJju7u5mZmaqqqpUVFSIiIh2dnbc3NwAAAA/vyDhAAAAAXRSTlMAQObYZgAAAENJREFUCNdjYDi9\n",
       "8sTyBQxsG1hdmR0YuBm4LnAoMLAxcAowgADzAjB1VoEhgYH1wFoGrgSG3gBhhlMMDImrs3cFMAAA\n",
       "t0YN+iTRa+sAAAAASUVORK5CYII=\n",
       "\" style=\"display:inline;vertical-align:middle;\" /></a> : <a class=\"ProveItLink\" href=\"../../__pv_it/3a5de44ed6135dbbdbbeec6704c741e238f127300/expr.ipynb\"><img src=\"data:image/png;base64,iVBORw0KGgoAAAANSUhEUgAAAAsAAAAOBAMAAAALT/umAAAAMFBMVEX////MzMyYmJiIiIhUVFTc\n",
       "3NwyMjIiIiJ2dnbu7u6qqqpmZmYQEBBERES6uroAAABkyy6XAAAAAXRSTlMAQObYZgAAAFhJREFU\n",
       "CNdjYGBg4LuzgQEE+BeAqfcTwFQ7mGTIBmJW575fQOpNAO9PIOcTA3cCAwPLBwb2BqCeCwzzHzAw\n",
       "xBswrGeYwDB/AYMblwADmwJXNQdIm52sHQMAfyoTCZukXIEAAAAASUVORK5CYII=\n",
       "\" style=\"display:inline;vertical-align:middle;\" /></a>, <a class=\"ProveItLink\" href=\"../../__pv_it/f8b9edf8e16034727f0aad55bb83e392c3db40d40/expr.ipynb\"><img src=\"data:image/png;base64,iVBORw0KGgoAAAANSUhEUgAAAAsAAAANBAMAAACN24kIAAAAMFBMVEX///+YmJhUVFQyMjIQEBBE\n",
       "REQiIiKqqqrMzMyIiIi6urrc3NxmZmZ2dnbu7u4AAADXeCicAAAAAXRSTlMAQObYZgAAAFhJREFU\n",
       "CNdj4LtzgWH/AwZerg8M8xkY2nkSGEIZGB6wTGD4ycDAUP+A4weQOszA6QCkbBhYFYDUIYb1AkDq\n",
       "6czzGxhA4BoQMyXwuQMptgusF4AU+8xTQBIAUqMVoSp/SLMAAAAASUVORK5CYII=\n",
       "\" style=\"display:inline;vertical-align:middle;\" /></a> : <a class=\"ProveItLink\" href=\"../../__pv_it/cbdfda466482236edba0ce44ac7ef39cda0af7a40/expr.ipynb\"><img src=\"data:image/png;base64,iVBORw0KGgoAAAANSUhEUgAAAAkAAAAJBAMAAAASvxsjAAAALVBMVEX///9mZmbc3NxUVFSYmJhE\n",
       "REQiIiIyMjK6uroQEBDMzMyIiIh2dnbu7u4AAABgFDGoAAAAAXRSTlMAQObYZgAAADZJREFUCNdj\n",
       "YOA9s3sBA8PKBvYEBt7ZDKwODMwPGICALwBE6m0Asx0YGIDiAgw8QJUyu/cyAAAmuwmycZ8WfQAA\n",
       "AABJRU5ErkJggg==\n",
       "\" style=\"display:inline;vertical-align:middle;\" /></a></span></td></tr><tr><td>5</td><td>axiom</td><td></td><td><span style=\"font-size:20px;\"> <a class=\"ProveItLink\" href=\"_axioms_.ipynb#equalsTransitivity\" style=\"text-decoration: none\">&#x22A2;&nbsp;</a><a class=\"ProveItLink\" href=\"__pv_it/15953cfebb497c481d8be77ed0e16c42a27f82610/expr.ipynb\"><img src=\"data:image/png;base64,iVBORw0KGgoAAAANSUhEUgAAANEAAAAXBAMAAABnpbd1AAAAMFBMVEX///8QEBC6urrMzMxUVFRm\n",
       "ZmZERETc3NwyMjKqqqp2dnaIiIiYmJgiIiLu7u4AAAAU9Wx4AAAAAXRSTlMAQObYZgAAAoBJREFU\n",
       "SMe9VUtoE1EUPZOZZvLrJLQLFVFScKFUMcVC3UglhQotSFYiFiGrVqyLQcQoogQRKihF0Lqwm8GN\n",
       "n0AIWAO2ooNQBD+QlYggRBeKuokIdtOF976Zya+daOHhgXDe3Jt55913PwP8N1TlbdXv73pBvwov\n",
       "XssQUg/6+7pSwANezMpQCnW6njxwlkjPylBa6uR85Zyk64YMpe2dnJ+A2L1c7qIMoUC+kzdIwfye\n",
       "nPwgQ6nLojQUDs1PtDv6evQSIhlgBJjyO+aGCsIGvuOtvY0fjl5lXOGlfurxESBMEe+A4Rd3cCNK\n",
       "ShKw8Bw32+wGjMN06ATQjagtQyme5DEwuo7nDDdbDaTTXZWlBGxdJwcZV8nID9KqkF6gNg6UobDs\n",
       "gdnzDaXIQv+IN2+yopZdEoPh/Ve3RRRm/RfdFuH4R8Y74bgj5Oj2MJWm3aqj/M8fcXOA7ellq6FU\n",
       "1LJbNE7wNaO0otIbghwLtN3HvAugHLyM1vCsLaSwBY2aiWthrsJVdp2tl/agLNzfmm4vGfLyqH+u\n",
       "RLN1chPudT3VcXg1mKCKbsX+5TeXhZfCFr4VYR7DuNgy2ZynuOm9pVlaqUECp+vpqMCYLj582p6m\n",
       "TOwnHSbEO8Y4M2pCZXMPepn2YahJaQCpoHNXSlJJiYJWPIuaUr1zbPrLNHIwHMlHcM5Eb6BGpI7t\n",
       "ytaV1Np9WF7PpPZCnxHkYvDu7aYh6o+Ct/jyZKKIYRu3ynmiaGCzWVcypucWvTYIj5+AuirIRalv\n",
       "5l++Gu3DwdZNToDt2085TmPMoTXQO3wJNbP1o2kGrZ1MvkoneWAPObQWF/yVHrU+xhBesph8leYX\n",
       "OXKHpEKTudkfgDCcYn7TElEAAAAASUVORK5CYII=\n",
       "\" style=\"display:inline;vertical-align:middle;\" /></a></span></td></tr>\n",
       "<tr><td>&nbsp;</td><td colspan=4 style-\"text-align:left\"><a class=\"ProveItLink\" href=\"_axioms_.ipynb#equalsTransitivity\">proveit.logic.equality.equalsTransitivity</a></td></tr><tr><td>6</td><td>assumption</td><td></td><td><span style=\"font-size:20px;\"><a class=\"ProveItLink\" href=\"__pv_it/d009e43b8cfc53c34c454c29c4e29a99e07d6d330/expr.ipynb\"><img src=\"data:image/png;base64,iVBORw0KGgoAAAANSUhEUgAAAEIAAAAVBAMAAAAA8SWUAAAAMFBMVEX///9ERETc3NyqqqpUVFS6\n",
       "urrMzMwyMjIQEBCIiIh2dnYiIiLu7u5mZmaYmJgAAABJJ2g3AAAAAXRSTlMAQObYZgAAAPVJREFU\n",
       "KM9jYGDgu8eAC2QtApE8uxhwgwwDIMH5Aascj8cGIMlbACS4GrBrZ3eASeJSwW9ASEX8AUIqVjOg\n",
       "qFCZFaGApqJkph9UEuRc1iYGeZAobzkYgNzI85GBP4GBD+TRjAAGBv0HDBfRjGD+w8CxgIGhloEh\n",
       "pQ3I9Wdg2ImmAmg0/wUGBsY6BoaIBAaGjww839BUcF9giH/AwAAKcJYCBqafDMwfeEAad4OBACQ4\n",
       "7h+AuINrAwPPZ6A6M7QAS2DoQvJtHYP1hQWoKlgMeB2QVKjMDJMMQIs5z3uEwpSBgXgVfPhUgNMH\n",
       "z058aQzsOr7FeNMpAKA7QF+x84JNAAAAAElFTkSuQmCC\n",
       "\" style=\"display:inline;vertical-align:middle;\" /></a> <a class=\"ProveItLink\" href=\"__pv_it/5733d2fb135f1bae1e7425769e5e990625ccd88c0/proof.ipynb\" style=\"text-decoration: none\">&#x22A2;&nbsp;</a><a class=\"ProveItLink\" href=\"__pv_it/95b1b23aa332dbd7d732f72039ef4fed607fecb10/expr.ipynb\"><img src=\"data:image/png;base64,iVBORw0KGgoAAAANSUhEUgAAADAAAAAOBAMAAACbXIJpAAAAMFBMVEX///8yMjKqqqrMzMzu7u4i\n",
       "IiJmZmaYmJhEREQQEBC6urp2dnaIiIhUVFTc3NwAAAD87Fq/AAAAAXRSTlMAQObYZgAAAJVJREFU\n",
       "GNNjYMACfKcy4ACyuCQ+4RDn+oJDgjsARPLd2TUPTYLxztkCBoaVDzg+gHiJgiAAtta/geEzA993\n",
       "BrYGNB36DgyzGXg/MLAeQJNIZGD4xsDfwOBvgCYRxsD1neH9AQZ9BgcgLzUUBCIg3mD7wuCvwHCR\n",
       "CU3LZwbODQyMBUxh3GhGXWLIBXnjlMUp9EA8VsAAAM4dJKpjP/uaAAAAAElFTkSuQmCC\n",
       "\" style=\"display:inline;vertical-align:middle;\" /></a></span></td></tr>\n",
       "<tr><td>7</td><td>specialization</td><td>9, 10</td><td><span style=\"font-size:20px;\"><a class=\"ProveItLink\" href=\"__pv_it/894b14b550af6056fa217bc01e702acad75641740/expr.ipynb\"><img src=\"data:image/png;base64,iVBORw0KGgoAAAANSUhEUgAAAEAAAAAVBAMAAAAEBPWpAAAAMFBMVEX////c3NxERESqqqpUVFS6\n",
       "urrMzMwyMjIQEBCIiIh2dnYiIiLu7u5mZmaYmJgAAABXZE4RAAAAAXRSTlMAQObYZgAAAOZJREFU\n",
       "KM9jYGDgu8eAA2QtBJE8uxhwggwDIMH5AZsUj8cGIMlbACS4GrBqZneAyeFQwG9AQEH8AQIKVjOg\n",
       "KDi1chqagpKZflA5kEvZWhmqQcxyMAA5j+cTA38CAx/IhxkBDAwnJjDooRrA/IeBYwEDQy0DQ0ob\n",
       "kOuP4QSgufwXGBiY6hgYIhIYGD5hKOC+wBD/gIEBFMosBQyMP6HadoOBAiQY7h+AuIELGKb/gFGG\n",
       "Fk4JDF1I3vRlYFiGqoDFgNcBSQHvypkH0CLL8x6BkGRgIFoBHx4F4PTAsxNPigoAkXyL8aVJAAjW\n",
       "PU7Ils+vAAAAAElFTkSuQmCC\n",
       "\" style=\"display:inline;vertical-align:middle;\" /></a> <a class=\"ProveItLink\" href=\"__pv_it/0b07b221606cd2948fcbb9eccff69a401080fcad0/proof.ipynb\" style=\"text-decoration: none\">&#x22A2;&nbsp;</a><a class=\"ProveItLink\" href=\"__pv_it/a9ff96dc75dbd48c59ac22b8b22bb60fc6116eb60/expr.ipynb\"><img src=\"data:image/png;base64,iVBORw0KGgoAAAANSUhEUgAAAC4AAAAOBAMAAACiOzMyAAAAMFBMVEX////c3NxmZmbMzMxERESY\n",
       "mJiIiIh2dna6urqqqqoyMjIiIiIQEBBUVFTu7u4AAAAiO1wTAAAAAXRSTlMAQObYZgAAAIlJREFU\n",
       "GNNj4LuzgQEr4LqAXZx/Anbx/gfYxauxCzOsTbuKLvS8LJmB7wsDvwGQrbUKBNaChJlPMKxm4PzH\n",
       "wFOAqvxNAoMrA9MCBn4FVPH7IIJbgaE/AFX8C9T5+iCXau8GgS1AFuM3sLgBw3E053xlYGBl4J3A\n",
       "hB4QlxgYihn4rqmiO5+pLO0BAGDVJO5DaxPTAAAAAElFTkSuQmCC\n",
       "\" style=\"display:inline;vertical-align:middle;\" /></a></span></td></tr>\n",
       "<tr><td>&nbsp;</td><td colspan=4 style=\"text-align:left\"><span style=\"font-size:20px;\"><a class=\"ProveItLink\" href=\"../../__pv_it/530be409e3083890784cf1d7b28c9e67e90af9360/expr.ipynb\"><img src=\"data:image/png;base64,iVBORw0KGgoAAAANSUhEUgAAAAsAAAAJBAMAAAAWSsseAAAAKlBMVEX///9ERETMzMwQEBAiIiKY\n",
       "mJju7u5mZmaqqqpUVFSIiIh2dnbc3NwAAAA/vyDhAAAAAXRSTlMAQObYZgAAAENJREFUCNdjYDi9\n",
       "8sTyBQxsG1hdmR0YuBm4LnAoMLAxcAowgADzAjB1VoEhgYH1wFoGrgSG3gBhhlMMDImrs3cFMAAA\n",
       "t0YN+iTRa+sAAAAASUVORK5CYII=\n",
       "\" style=\"display:inline;vertical-align:middle;\" /></a> : <a class=\"ProveItLink\" href=\"../../__pv_it/cbdfda466482236edba0ce44ac7ef39cda0af7a40/expr.ipynb\"><img src=\"data:image/png;base64,iVBORw0KGgoAAAANSUhEUgAAAAkAAAAJBAMAAAASvxsjAAAALVBMVEX///9mZmbc3NxUVFSYmJhE\n",
       "REQiIiIyMjK6uroQEBDMzMyIiIh2dnbu7u4AAABgFDGoAAAAAXRSTlMAQObYZgAAADZJREFUCNdj\n",
       "YOA9s3sBA8PKBvYEBt7ZDKwODMwPGICALwBE6m0Asx0YGIDiAgw8QJUyu/cyAAAmuwmycZ8WfQAA\n",
       "AABJRU5ErkJggg==\n",
       "\" style=\"display:inline;vertical-align:middle;\" /></a>, <a class=\"ProveItLink\" href=\"../../__pv_it/f8b9edf8e16034727f0aad55bb83e392c3db40d40/expr.ipynb\"><img src=\"data:image/png;base64,iVBORw0KGgoAAAANSUhEUgAAAAsAAAANBAMAAACN24kIAAAAMFBMVEX///+YmJhUVFQyMjIQEBBE\n",
       "REQiIiKqqqrMzMyIiIi6urrc3NxmZmZ2dnbu7u4AAADXeCicAAAAAXRSTlMAQObYZgAAAFhJREFU\n",
       "CNdj4LtzgWH/AwZerg8M8xkY2nkSGEIZGB6wTGD4ycDAUP+A4weQOszA6QCkbBhYFYDUIYb1AkDq\n",
       "6czzGxhA4BoQMyXwuQMptgusF4AU+8xTQBIAUqMVoSp/SLMAAAAASUVORK5CYII=\n",
       "\" style=\"display:inline;vertical-align:middle;\" /></a> : <a class=\"ProveItLink\" href=\"../../__pv_it/6840a4fa6c106149dc16a131294d0c5e44f1b0480/expr.ipynb\"><img src=\"data:image/png;base64,iVBORw0KGgoAAAANSUhEUgAAAAkAAAAOBAMAAAAPuiubAAAALVBMVEX///9mZmbMzMxERESYmJiI\n",
       "iIh2dna6urqqqqoyMjIiIiIQEBBUVFTu7u4AAAD9S1JeAAAAAXRSTlMAQObYZgAAAE1JREFUCNdj\n",
       "4D29gAEIOA+ASL4GEFl3AURmgQiGOaFHGBh4HzPwKTBwvGXgTmBgnMDAJ8DAJcBQ5wBSLncBJLWN\n",
       "gYGngRFoBO9REQYGAGrcDtUkVqASAAAAAElFTkSuQmCC\n",
       "\" style=\"display:inline;vertical-align:middle;\" /></a></span></td></tr><tr><td>8</td><td>assumption</td><td></td><td><span style=\"font-size:20px;\"><a class=\"ProveItLink\" href=\"__pv_it/0b3ebedb13b80683789be64da3f7935d89fe1b5b0/expr.ipynb\"><img src=\"data:image/png;base64,iVBORw0KGgoAAAANSUhEUgAAAEEAAAAVBAMAAADrxp6XAAAAMFBMVEX////c3NxERESqqqpUVFS6\n",
       "urrMzMwyMjIQEBCIiIh2dnYiIiLu7u5mZmaYmJgAAABXZE4RAAAAAXRSTlMAQObYZgAAAOpJREFU\n",
       "KM9jYGDgu8eAA7CtEgBRPLsYcAK2ZhDJ+QHMCerFpuQ6iOBqgHA+Y1OxAkkF6x9CKrg2EFLBfgG/\n",
       "CpFZ8QZokqdWToOq4C0AOqKRQf8AiF0OBg4gj7YyVDMwvAepyAhgYJB/APEXEjgxgUEPYndKG5Dr\n",
       "z8CAHm7+EEr9AQNDRAIDwycGnq9oKj6BSe4FQIKlgIHxJwPzBx6QO3aDgQIDSAgE3kMDguczUJ0Z\n",
       "qhn/gFGK5Ns6BusLC1BV+DIwLENSITIzTDMAVQXvypkHUMMUOyBSBR8+FeBw5NmJJ421gim+xXjT\n",
       "KQDh+0J7GsIzOQAAAABJRU5ErkJggg==\n",
       "\" style=\"display:inline;vertical-align:middle;\" /></a> <a class=\"ProveItLink\" href=\"__pv_it/fca76e3106a814a13026b7d94e95399370c2d7fa0/proof.ipynb\" style=\"text-decoration: none\">&#x22A2;&nbsp;</a><a class=\"ProveItLink\" href=\"__pv_it/5563f0e90876434c8f38bb4cbb53a97c172836010/expr.ipynb\"><img src=\"data:image/png;base64,iVBORw0KGgoAAAANSUhEUgAAAC8AAAAOBAMAAABN+VgMAAAAMFBMVEX////MzMyYmJiIiIhUVFTc\n",
       "3NwyMjIiIiJ2dnbu7u6qqqpmZmYQEBBERES6uroAAABkyy6XAAAAAXRSTlMAQObYZgAAAJRJREFU\n",
       "GNNjYGBg4LuzgQE74F+AQ+L9BBwS7TjEGbKxirI69/1CE+LsMBZgYHgTwPsTxNuWBgIpIKbMA7YC\n",
       "BtZPDNwJaBoOM/AqMLB8YGBvQJUACoH8cIFh/gM0b10AkfEGDOsZQP7YXg4CtRAhIJi/gMGNSwBV\n",
       "hwIDgwIDmwJXNQeaHRsYOASA3rCTtUPzxw5jSwYAHdohiAA7WLMAAAAASUVORK5CYII=\n",
       "\" style=\"display:inline;vertical-align:middle;\" /></a></span></td></tr>\n",
       "<tr><td>9</td><td>theorem</td><td></td><td><span style=\"font-size:20px;\"> <a class=\"ProveItLink\" href=\"_proofs_/equalsReversal.ipynb\" style=\"text-decoration: none\">&#x22A2;&nbsp;</a><a class=\"ProveItLink\" href=\"__pv_it/28002146d7bbb3d303591384d88b2e1175a218f20/expr.ipynb\"><img src=\"data:image/png;base64,iVBORw0KGgoAAAANSUhEUgAAAKEAAAAXBAMAAACR7DLtAAAAMFBMVEX///8QEBC6urrMzMxUVFRm\n",
       "ZmZERETc3NwyMjKqqqp2dnaIiIiYmJgiIiLu7u4AAAAU9Wx4AAAAAXRSTlMAQObYZgAAAhhJREFU\n",
       "OMutVD1IHEEU/m5Xb72/9YhVkEAKCxuJgfR3KBiJBCxFObAIKtFiC4lpErZIkSIEQa1sthGJB7KS\n",
       "eCCKLmkCkcBVKQThbCxMIwl4jYjvzd7uuevtwhx58JiZ9837ePN+BvjvUpP2UOxo7DtplTfHMozP\n",
       "YrDOQeALbz7LMMZeNoE3tGjTEoQZOw79CXRRIjuXJRgTsZk/A7KbS0vvZB7dH4smKbirmZkTGcZJ\n",
       "0otJaDdBs1Z+vj4FpMeBYWD2ntvjaMZPpNYTZC5pnfjI8oHNF/jlPAJSVJo+6OY9t5hSPQDU5RKS\n",
       "oSsWjrBCzZoHcsg4Mox/AR296LbDkzLCi0qhZ5xcTZIRqRsUBsNAr8eomzwE5aFvdEWpNJrDZXSN\n",
       "YvIqftc85NEwscP70inLb7c0/yh28WrMDlGJaiMJqvufbuNpM0ZhHOXc2z4ALJB2jeNVKMIfVKpD\n",
       "akauyRqNtiJKiPcDqDQZG8YAAGxwjEXlOkiYuk7mNdvtHiREjusCeIGxu3ms+x4eAAyQ6vO79SCj\n",
       "Pr+9dcDRc99lOUFqXnVbo+cOIxvnxKt9gAIwREaqkVPoSiFtpvHWQI9y2WQUxoZ4AAVgAS9xFvEV\n",
       "lL3N+d7UNgoOVitmk1EYG+IB7m92gtetCcPD4mhGh92yH32AZBFY340Y0w4jcFSNpNXfusN9gNlj\n",
       "PsivwWMWqX2rNaMPtC3F9l1vAaqximPRgqa5AAAAAElFTkSuQmCC\n",
       "\" style=\"display:inline;vertical-align:middle;\" /></a></span></td></tr>\n",
       "<tr><td>&nbsp;</td><td colspan=4 style-\"text-align:left\"><a class=\"ProveItLink\" href=\"_proofs_/equalsReversal.ipynb\">proveit.logic.equality.equalsReversal</a></td></tr><tr><td>10</td><td>assumption</td><td></td><td><span style=\"font-size:20px;\"><a class=\"ProveItLink\" href=\"__pv_it/894b14b550af6056fa217bc01e702acad75641740/expr.ipynb\"><img src=\"data:image/png;base64,iVBORw0KGgoAAAANSUhEUgAAAEAAAAAVBAMAAAAEBPWpAAAAMFBMVEX////c3NxERESqqqpUVFS6\n",
       "urrMzMwyMjIQEBCIiIh2dnYiIiLu7u5mZmaYmJgAAABXZE4RAAAAAXRSTlMAQObYZgAAAOZJREFU\n",
       "KM9jYGDgu8eAA2QtBJE8uxhwggwDIMH5AZsUj8cGIMlbACS4GrBqZneAyeFQwG9AQEH8AQIKVjOg\n",
       "KDi1chqagpKZflA5kEvZWhmqQcxyMAA5j+cTA38CAx/IhxkBDAwnJjDooRrA/IeBYwEDQy0DQ0ob\n",
       "kOuP4QSgufwXGBiY6hgYIhIYGD5hKOC+wBD/gIEBFMosBQyMP6HadoOBAiQY7h+AuIELGKb/gFGG\n",
       "Fk4JDF1I3vRlYFiGqoDFgNcBSQHvypkH0CLL8x6BkGRgIFoBHx4F4PTAsxNPigoAkXyL8aVJAAjW\n",
       "PU7Ils+vAAAAAElFTkSuQmCC\n",
       "\" style=\"display:inline;vertical-align:middle;\" /></a> <a class=\"ProveItLink\" href=\"__pv_it/81321b3adf6040edc41c1544d7e603d42d9cf8260/proof.ipynb\" style=\"text-decoration: none\">&#x22A2;&nbsp;</a><a class=\"ProveItLink\" href=\"__pv_it/f7273af822ec6fb4e68f6e96b379aefaa309da090/expr.ipynb\"><img src=\"data:image/png;base64,iVBORw0KGgoAAAANSUhEUgAAAC4AAAAOBAMAAACiOzMyAAAAMFBMVEX///+qqqpmZmbc3NxUVFSY\n",
       "mJhEREQiIiIyMjK6uroQEBDMzMyIiIh2dnbu7u4AAAA4MM1YAAAAAXRSTlMAQObYZgAAAIZJREFU\n",
       "GNNjYMAET5YzYActOMQ/Yhfm/IddnLcARPLdPbMBVZzD50gAA8OuCRwgeY0OEADb+D6B4TcD3xoG\n",
       "tgBU9fIPGNYysHzAMF+DgeETA38ChngRA+dXBvsDEI56OQiUQZzP9I+BH2g4mvm/GbguMLAoMPCi\n",
       "udORQQVI6p45hx5uhwIYAFObI8RZau/UAAAAAElFTkSuQmCC\n",
       "\" style=\"display:inline;vertical-align:middle;\" /></a></span></td></tr>\n",
       "</table>"
      ],
      "text/plain": [
       "\tstep type\trequirements\tstatement\n",
       "0\tspecialization\t5, 1, 2\t{a = b , c = b , d = c , d = z} |- a = z\n",
       "\tx : a, y : d, z : z\n",
       "1\tspecialization\t5, 3, 4\t{a = b , c = b , d = c} |- a = d\n",
       "\tx : a, y : c, z : d\n",
       "2\tassumption\t\t{d = z} |- d = z\n",
       "3\tspecialization\t5, 6, 7\t{a = b , c = b} |- a = c\n",
       "\tx : a, y : b, z : c\n",
       "4\tspecialization\t9, 8\t{d = c} |- c = d\n",
       "\tx : d, y : c\n",
       "5\taxiom\t\t|- forall_{x, y, z | x = y , y = z} (x = z)\n",
       "\tproveit.logic.equality.equalsTransitivity\n",
       "6\tassumption\t\t{a = b} |- a = b\n",
       "7\tspecialization\t9, 10\t{c = b} |- b = c\n",
       "\tx : c, y : b\n",
       "8\tassumption\t\t{d = c} |- d = c\n",
       "9\ttheorem\t\t|- forall_{x, y | x = y} (y = x)\n",
       "\tproveit.logic.equality.equalsReversal\n",
       "10\tassumption\t\t{c = b} |- c = b"
      ]
     },
     "execution_count": 36,
     "metadata": {},
     "output_type": "execute_result"
    }
   ],
   "source": [
    "a_eq_z.proof()"
   ]
  },
  {
   "cell_type": "markdown",
   "metadata": {},
   "source": [
    "The `applyTransivity` method applies the transitivity relation explicity. "
   ]
  },
  {
   "cell_type": "code",
   "execution_count": 37,
   "metadata": {},
   "outputs": [
    {
     "data": {
      "text/html": [
       "<span style=\"font-size:20px;\"><a class=\"ProveItLink\" href=\"__pv_it/5912ac2ccd191f0684191f6c2d5cabfd4b202a5d0/expr.ipynb\"><img src=\"data:image/png;base64,iVBORw0KGgoAAAANSUhEUgAAAHkAAAAVBAMAAACQ4lxbAAAAMFBMVEX////c3NxERESqqqpUVFS6\n",
       "urrMzMwyMjIQEBCIiIh2dnYiIiLu7u5mZmaYmJgAAABXZE4RAAAAAXRSTlMAQObYZgAAAX5JREFU\n",
       "OMtjYGDgu8dABmBbJQCieHYxkAXYmkEk5wdscjweG3BrPNINIq+DCK4GrCrYHfDYWwIiVuDRzW+A\n",
       "R/dnQrrjD+DWzPqHkO7VeKzm2oCqm2fVzAQ0r830gzAYPZc2ooeJ55QHUN28BUAiI4AdaB5vORiA\n",
       "wovnEwM/xLwIASZwrFwHy4HD67wCwzcGhvcMYI1AtZ0MTA9QjGf+w8CxAGz1PwZeBTS77Q8wdAFd\n",
       "cIGBIaUNyGXBiHOgi/gvMECkuCegSQJj+i+QUgdaGAF0ID+66QzcFxjiwa4BSp1HCxKGvQys/4BK\n",
       "QG5jAfpbHmI6724wUIBE931wnAGl7BlArNtguU2Q6Ob9A/U3KPj5gdag+hsYZF0MPKAQMmBwZ0az\n",
       "/Bs4TOAxxnKBgQtVBYsBrwPDeaDB7A+Y93KhudyZ4QpKfN+aOQctl3gC8+2Jj6Donpo0FT2XzH1A\n",
       "IK2BQSC+LEpQ9wOCuvnI1Q3O3zw7ccpz4i1bWsEU32KyyzUAQbdvz0t3VxAAAAAASUVORK5CYII=\n",
       "\" style=\"display:inline;vertical-align:middle;\" /></a> <a class=\"ProveItLink\" href=\"__pv_it/cca97fc19b490135412a023a907bd05e42af197d0/proof.ipynb\" style=\"text-decoration: none\">&#x22A2;&nbsp;</a><a class=\"ProveItLink\" href=\"__pv_it/e4b5243c2517ed628bb1af1af6e1b7212ecee3660/expr.ipynb\"><img src=\"data:image/png;base64,iVBORw0KGgoAAAANSUhEUgAAADAAAAAJBAMAAACGWbLRAAAAMFBMVEX///8yMjKqqqrMzMzu7u4i\n",
       "IiJmZmaYmJhEREQQEBC6urp2dnaIiIhUVFTc3NwAAAD87Fq/AAAAAXRSTlMAQObYZgAAAH1JREFU\n",
       "CNdjYOC7s2seAxrw3nOYgWHlA44PIE6iIAjIgpjMsxhEGfi+M7A1oGnwPMDQzsD7gYH1AJrEfRDB\n",
       "38Dgb4Am8QNEvD/AoM/gAGSkhoJABJDF9wck4a/AcJEJTct3BgZ2BsYCpjBuNKOuMTBsBnrjlMUp\n",
       "NAm2PWccAM8RHrRXTIHuAAAAAElFTkSuQmCC\n",
       "\" style=\"display:inline;vertical-align:middle;\" /></a></span>"
      ],
      "text/plain": [
       "{c = b , a = b} |- a = c"
      ]
     },
     "execution_count": 37,
     "metadata": {},
     "output_type": "execute_result"
    }
   ],
   "source": [
    "a_eq_b.prove([a_eq_b]).applyTransitivity(c_eq_b, assumptions=[c_eq_b])"
   ]
  },
  {
   "cell_type": "markdown",
   "metadata": {},
   "source": [
    "## Evaluation\n",
    "\n",
    "An evaluation is an equality in which the right hand side is an irreducible value (specifically, an instance of `proveit.logic.irreducible_value.IrreducibleValue`, aliased as `proveit.logic.IrreducibleValue`).  An irreducible value represents a mathematical object in its simplest form.  It cannot be reduced.  The evaluation of an `IrreducibleValue` is itself.  When an evaluation is proven, the associated **KnownTruth** is stored for future reference in `Equals.evaluations` for making other evaluations."
   ]
  },
  {
   "cell_type": "markdown",
   "metadata": {},
   "source": [
    "`TRUE` ($\\top$) and `FALSE` ($\\bot$) are both `IrreducibleValue`s:"
   ]
  },
  {
   "cell_type": "code",
   "execution_count": 38,
   "metadata": {},
   "outputs": [],
   "source": [
    "from proveit.logic import TRUE, FALSE, IrreducibleValue"
   ]
  },
  {
   "cell_type": "code",
   "execution_count": 39,
   "metadata": {},
   "outputs": [
    {
     "data": {
      "text/plain": [
       "True"
      ]
     },
     "execution_count": 39,
     "metadata": {},
     "output_type": "execute_result"
    }
   ],
   "source": [
    "isinstance(TRUE, IrreducibleValue)"
   ]
  },
  {
   "cell_type": "code",
   "execution_count": 40,
   "metadata": {},
   "outputs": [
    {
     "data": {
      "text/plain": [
       "True"
      ]
     },
     "execution_count": 40,
     "metadata": {},
     "output_type": "execute_result"
    }
   ],
   "source": [
    "isinstance(FALSE, IrreducibleValue)"
   ]
  },
  {
   "cell_type": "code",
   "execution_count": 41,
   "metadata": {},
   "outputs": [
    {
     "data": {
      "text/html": [
       "<span style=\"font-size:20px;\"> <a class=\"ProveItLink\" href=\"../boolean/_proofs_/trueEqTrue.ipynb\" style=\"text-decoration: none\">&#x22A2;&nbsp;</a><a class=\"ProveItLink\" href=\"../boolean/__pv_it/b61faf68579dfd168a6d68fc65de147af91ada740/expr.ipynb\"><img src=\"data:image/png;base64,iVBORw0KGgoAAAANSUhEUgAAADoAAAAOBAMAAACMfhKgAAAAG1BMVEX///9UVFQyMjJ2dnbMzMxE\n",
       "REQiIiJmZmYAAABH86hhAAAAAXRSTlMAQObYZgAAACxJREFUGNNjKEsDgVQGVIAk6s6ADbij0QMl\n",
       "W6QEAop0txc12KhhsjNWWZAoAMYCEPeA4IdqAAAAAElFTkSuQmCC\n",
       "\" style=\"display:inline;vertical-align:middle;\" /></a></span>"
      ],
      "text/plain": [
       "|- TRUE = TRUE"
      ]
     },
     "execution_count": 41,
     "metadata": {},
     "output_type": "execute_result"
    }
   ],
   "source": [
    "TRUE.evaluation()"
   ]
  },
  {
   "cell_type": "markdown",
   "metadata": {},
   "source": [
    "An `IrreducibleValue` should implement the `evalEquality` and `notEqual` methods to prove equality relations with other `IrreducibleValue`s as appropriate."
   ]
  },
  {
   "cell_type": "code",
   "execution_count": 42,
   "metadata": {},
   "outputs": [
    {
     "data": {
      "text/html": [
       "<span style=\"font-size:20px;\"><a class=\"ProveItLink\" href=\"__pv_it/582ca36c19d578b726e93b1ff8548f2b8e04f2d10/expr.ipynb\"><img src=\"data:image/png;base64,iVBORw0KGgoAAAANSUhEUgAAAE8AAAAVBAMAAAD1D64kAAAAMFBMVEX///9ERETc3NyqqqpUVFS6\n",
       "urrMzMwyMjIQEBCIiIh2dnYiIiLu7u5mZmaYmJgAAABJJ2g3AAAAAXRSTlMAQObYZgAAAJFJREFU\n",
       "KM9jYGDgu8eAH7CtUgBRPLsYCAG2ZhDJ+QHMYZqAIc+7GwwEGBiug7hcDRBdF7CaBRFdMVQU8hag\n",
       "KOQtBwMHFIXvQURGAGET2YFUShsDYYUM4g8YGCISCCvkXgAkWNDcCI8OdDdybaBFOILs64bbh6xw\n",
       "AYaJeAFpCvmIUAhOjzw7CafwVjDFt5iYPAMAdCtChEqqH6sAAAAASUVORK5CYII=\n",
       "\" style=\"display:inline;vertical-align:middle;\" /></a> <a class=\"ProveItLink\" href=\"__pv_it/351ab3466433c8df6479c0a1eec2a4e0f3c61bf10/proof.ipynb\" style=\"text-decoration: none\">&#x22A2;&nbsp;</a><a class=\"ProveItLink\" href=\"../boolean/__pv_it/8f1f7fac882de28c72b62ab80a1700b6d8fd066b0/expr.ipynb\"><img src=\"data:image/png;base64,iVBORw0KGgoAAAANSUhEUgAAAA4AAAAOBAMAAADtZjDiAAAAG1BMVEX///9EREQQEBAiIiJmZmbM\n",
       "zMyIiIjc3NwAAACryk5kAAAAAXRSTlMAQObYZgAAABlJREFUCNdjYGBgKGOAgBBa0s7GxkbGxoYA\n",
       "FMUF2aBfHgoAAAAASUVORK5CYII=\n",
       "\" style=\"display:inline;vertical-align:middle;\" /></a></span>"
      ],
      "text/plain": [
       "{FALSE = TRUE} |- FALSE"
      ]
     },
     "execution_count": 42,
     "metadata": {},
     "output_type": "execute_result"
    }
   ],
   "source": [
    "Equals(Equals(FALSE, TRUE), FALSE).deriveContradiction([Equals(FALSE, TRUE)])"
   ]
  },
  {
   "cell_type": "code",
   "execution_count": 43,
   "metadata": {},
   "outputs": [
    {
     "data": {
      "text/html": [
       "<span style=\"font-size:20px;\"> <a class=\"ProveItLink\" href=\"__pv_it/f2b923cca39d6e8c4526bd3842c96c3cdb75063d0/proof.ipynb\" style=\"text-decoration: none\">&#x22A2;&nbsp;</a><a class=\"ProveItLink\" href=\"__pv_it/b2e1655bd85df71522684caeffcd618d4f7c15ae0/expr.ipynb\"><img src=\"data:image/png;base64,iVBORw0KGgoAAAANSUhEUgAAAHUAAAAVBAMAAACK3rzVAAAAMFBMVEX////c3NwiIiJERESqqqqY\n",
       "mJh2dnZmZmYQEBDu7u4yMjJUVFTMzMyIiIi6uroAAAAs73DqAAAAAXRSTlMAQObYZgAAALFJREFU\n",
       "OMtjYKAE8F3AL8/6ALfcaQZ2JTAwQBWHi9ag60CoXwni8hRgMxYiyoVThvcCIb2sCbhkOCYQ0svZ\n",
       "gEvmFQMhvQwmuGTKCOtNxyWzFEUv+yow2ICi1wuXTB9he1/gkvlHWO95WuhtQfUvShJDdjM2GVPC\n",
       "9kbhkkmnII4eQdgJWPVCRNfhkuEQIJRJsaVJaPZMIKSXDXcGX0lI7yzcUtKE9G7ELcVIoMzhPYBL\n",
       "BgBhhDkmDaR8qQAAAABJRU5ErkJggg==\n",
       "\" style=\"display:inline;vertical-align:middle;\" /></a></span>"
      ],
      "text/plain": [
       "|- (TRUE = TRUE) = TRUE"
      ]
     },
     "execution_count": 43,
     "metadata": {},
     "output_type": "execute_result"
    }
   ],
   "source": [
    "TRUE.evalEquality(TRUE)"
   ]
  },
  {
   "cell_type": "code",
   "execution_count": 44,
   "metadata": {},
   "outputs": [
    {
     "data": {
      "text/html": [
       "<span style=\"font-size:20px;\"> <a class=\"ProveItLink\" href=\"__pv_it/5ae468a84f1da7a5154fad7b3cfb76c05ba0e53a0/proof.ipynb\" style=\"text-decoration: none\">&#x22A2;&nbsp;</a><a class=\"ProveItLink\" href=\"__pv_it/8c7c67bed52d0d43a184d736be9a78ce8669bdf00/expr.ipynb\"><img src=\"data:image/png;base64,iVBORw0KGgoAAAANSUhEUgAAAHUAAAAVBAMAAACK3rzVAAAAMFBMVEX////c3NwiIiJERESqqqqY\n",
       "mJh2dnZmZmYQEBDu7u4yMjJUVFTMzMyIiIi6uroAAAAs73DqAAAAAXRSTlMAQObYZgAAALZJREFU\n",
       "OMtjYKAE8F3AL8/6ALfcaQZ2JTAwwJBiBBtbg0UTRIZhJYjgKcBmLESUC6cM7wVCelkTcMlwTCCk\n",
       "l7MBl8wrBkJ6GUxwyZQR1puOS2Ypil72VWCwAUWvFy6ZPsL2vsAl84+w3vO00NuC6l+UJIbsZmwy\n",
       "poTtjcIlk05BHD2CsDHTHciRTWBHrsMlwyFAKJNiS5PQ7JlASC8b7gy+kpDeWbilpAnp3YhbipFA\n",
       "mcN7AJcMABivOrC0WkZ0AAAAAElFTkSuQmCC\n",
       "\" style=\"display:inline;vertical-align:middle;\" /></a></span>"
      ],
      "text/plain": [
       "|- (TRUE = FALSE) = FALSE"
      ]
     },
     "execution_count": 44,
     "metadata": {},
     "output_type": "execute_result"
    }
   ],
   "source": [
    "TRUE.evalEquality(FALSE)"
   ]
  },
  {
   "cell_type": "code",
   "execution_count": 45,
   "metadata": {},
   "outputs": [
    {
     "data": {
      "text/html": [
       "<span style=\"font-size:20px;\"> <a class=\"ProveItLink\" href=\"../boolean/_proofs_/trueNotFalse.ipynb\" style=\"text-decoration: none\">&#x22A2;&nbsp;</a><a class=\"ProveItLink\" href=\"../boolean/__pv_it/1e6afdac209ee0bf3ba666f4e9f1a57764e8a0b60/expr.ipynb\"><img src=\"data:image/png;base64,iVBORw0KGgoAAAANSUhEUgAAADoAAAAUCAMAAADrw95cAAAAOVBMVEX///8QEBCIiIgLCwsYGBgN\n",
       "DQ0oKCju7u6qqqq6urpUVFQyMjLc3Nx2dnbMzMxEREQiIiJmZmYAAABFgl9CAAAAAXRSTlMAQObY\n",
       "ZgAAAH5JREFUOMvFk90KgCAMRtd//uv7v2wkBeU2XLvpuxCcHg8DB9BL8NxJyY8kfO4dqoyvbSzc\n",
       "09a0leYui2KpGMVSKRqJ7oVoip/R4mrW5VytxkpJZaixoEWdV6D1j80T+cckVloqQelOMRok0mtU\n",
       "Bm5U7uwFtMmblvxFCqZ74wArxAe2MytVagAAAABJRU5ErkJggg==\n",
       "\" style=\"display:inline;vertical-align:middle;\" /></a></span>"
      ],
      "text/plain": [
       "|- TRUE != FALSE"
      ]
     },
     "execution_count": 45,
     "metadata": {},
     "output_type": "execute_result"
    }
   ],
   "source": [
    "TRUE.notEqual(FALSE)"
   ]
  },
  {
   "cell_type": "markdown",
   "metadata": {},
   "source": [
    "A proven expression will evaluate to `TRUE`."
   ]
  },
  {
   "cell_type": "code",
   "execution_count": 46,
   "metadata": {},
   "outputs": [
    {
     "data": {
      "text/html": [
       "<strong id=\"a_eq_T\">a_eq_T:</strong> <span style=\"font-size:20px;\"><a class=\"ProveItLink\" href=\"__pv_it/038b22050251ede45b893433c79956ac85a7a9420/expr.ipynb\"><img src=\"data:image/png;base64,iVBORw0KGgoAAAANSUhEUgAAAB0AAAAVBAMAAABI7vhRAAAAMFBMVEX///9ERETc3NyqqqpUVFS6\n",
       "urrMzMwyMjIQEBCIiIh2dnYiIiLu7u5mZmaYmJgAAABJJ2g3AAAAAXRSTlMAQObYZgAAAJxJREFU\n",
       "GNNjYGDgu8cABmyrFEAUzy4GKGBrBpGcH2B8husggqsBzl9BNl9lVoQClM9bwMDA2sQgD2S+B/Ez\n",
       "AhgY9B8wXAQy2S8wMKS0ARn+DAw7QXLiDxgYIhIYGD4y8HwDcrkXAAmWAgamnwzMH3ig+rk2MPB8\n",
       "BoqaIdlXx2B9YQESX2VmmGQAke7la0D1P89OePi0gim+xUjhBwAq6SrXD7q3xQAAAABJRU5ErkJg\n",
       "gg==\n",
       "\" style=\"display:inline;vertical-align:middle;\" /></a> <a class=\"ProveItLink\" href=\"__pv_it/40b57c4d1abba550317cc195ea088a99403f32d40/proof.ipynb\" style=\"text-decoration: none\">&#x22A2;&nbsp;</a><a class=\"ProveItLink\" href=\"__pv_it/010a0b4ed65170ff59b94421ba092ff4be357c5f0/expr.ipynb\"><img src=\"data:image/png;base64,iVBORw0KGgoAAAANSUhEUgAAADYAAAAOBAMAAACWQvIuAAAAMFBMVEX///8yMjKqqqrMzMzu7u4i\n",
       "IiJmZmaYmJhEREQQEBC6urp2dnaIiIhUVFTc3NwAAAD87Fq/AAAAAXRSTlMAQObYZgAAAGZJREFU\n",
       "GNNjYMACUkNBIIIBBzBjwA0ok+O7s2seLrmVDzg+gOhEQRCQRZbj+87A1oBDH+8HBtYDOOT4Gxj8\n",
       "DXDIvT/AoM/ggBEYYDl/BYaLTAbY9TEWMIVx4zCT784pi1OYctZADADpMhibXKUQvgAAAABJRU5E\n",
       "rkJggg==\n",
       "\" style=\"display:inline;vertical-align:middle;\" /></a></span><br>"
      ],
      "text/plain": [
       "a_eq_T: {a} |- a = TRUE"
      ]
     },
     "execution_count": 46,
     "metadata": {},
     "output_type": "execute_result"
    }
   ],
   "source": [
    "a_eq_T = a.evaluation([a])"
   ]
  },
  {
   "cell_type": "code",
   "execution_count": 47,
   "metadata": {},
   "outputs": [
    {
     "data": {
      "text/html": [
       "<table><tr><th>&nbsp;</th><th>step type</th><th>requirements</th><th>statement</th></tr>\n",
       "<tr><td>0</td><td>specialization</td><td>1, 2</td><td><span style=\"font-size:20px;\"><a class=\"ProveItLink\" href=\"__pv_it/038b22050251ede45b893433c79956ac85a7a9420/expr.ipynb\"><img src=\"data:image/png;base64,iVBORw0KGgoAAAANSUhEUgAAAB0AAAAVBAMAAABI7vhRAAAAMFBMVEX///9ERETc3NyqqqpUVFS6\n",
       "urrMzMwyMjIQEBCIiIh2dnYiIiLu7u5mZmaYmJgAAABJJ2g3AAAAAXRSTlMAQObYZgAAAJxJREFU\n",
       "GNNjYGDgu8cABmyrFEAUzy4GKGBrBpGcH2B8husggqsBzl9BNl9lVoQClM9bwMDA2sQgD2S+B/Ez\n",
       "AhgY9B8wXAQy2S8wMKS0ARn+DAw7QXLiDxgYIhIYGD4y8HwDcrkXAAmWAgamnwzMH3ig+rk2MPB8\n",
       "BoqaIdlXx2B9YQESX2VmmGQAke7la0D1P89OePi0gim+xUjhBwAq6SrXD7q3xQAAAABJRU5ErkJg\n",
       "gg==\n",
       "\" style=\"display:inline;vertical-align:middle;\" /></a> <a class=\"ProveItLink\" href=\"__pv_it/40b57c4d1abba550317cc195ea088a99403f32d40/proof.ipynb\" style=\"text-decoration: none\">&#x22A2;&nbsp;</a><a class=\"ProveItLink\" href=\"__pv_it/010a0b4ed65170ff59b94421ba092ff4be357c5f0/expr.ipynb\"><img src=\"data:image/png;base64,iVBORw0KGgoAAAANSUhEUgAAADYAAAAOBAMAAACWQvIuAAAAMFBMVEX///8yMjKqqqrMzMzu7u4i\n",
       "IiJmZmaYmJhEREQQEBC6urp2dnaIiIhUVFTc3NwAAAD87Fq/AAAAAXRSTlMAQObYZgAAAGZJREFU\n",
       "GNNjYMACUkNBIIIBBzBjwA0ok+O7s2seLrmVDzg+gOhEQRCQRZbj+87A1oBDH+8HBtYDOOT4Gxj8\n",
       "DXDIvT/AoM/ggBEYYDl/BYaLTAbY9TEWMIVx4zCT784pi1OYctZADADpMhibXKUQvgAAAABJRU5E\n",
       "rkJggg==\n",
       "\" style=\"display:inline;vertical-align:middle;\" /></a></span></td></tr>\n",
       "<tr><td>&nbsp;</td><td colspan=4 style=\"text-align:left\"><span style=\"font-size:20px;\"><a class=\"ProveItLink\" href=\"../../__pv_it/2cbe72a7ad6f655694dd697106680215e8489b600/expr.ipynb\"><img src=\"data:image/png;base64,iVBORw0KGgoAAAANSUhEUgAAAA8AAAAOBAMAAAACpFvcAAAALVBMVEX///8QEBBERERUVFS6urqI\n",
       "iIhmZmaqqqrc3Nzu7u6YmJgyMjIiIiLMzMwAAADtIaYWAAAAAXRSTlMAQObYZgAAAFtJREFUCNdj\n",
       "YACBOwxQsA9Kc52bAGG05zVAGAFxDmCaZULdAjBjCsO9ADDDgaEvAUTzGhvbKYCVMDAwbgAxChgY\n",
       "eASANAeQwf0AyJgNxEwvGRia5HYwcOm9TgAA6BoR3jrzwFcAAAAASUVORK5CYII=\n",
       "\" style=\"display:inline;vertical-align:middle;\" /></a> : <a class=\"ProveItLink\" href=\"../../__pv_it/07527342713064c87612d00d8557c53d53d5324a0/expr.ipynb\"><img src=\"data:image/png;base64,iVBORw0KGgoAAAANSUhEUgAAAAsAAAAJBAMAAAAWSsseAAAAMFBMVEX///8yMjKqqqrMzMzu7u4i\n",
       "IiJmZmaYmJhEREQQEBC6urp2dnaIiIhUVFTc3NwAAAD87Fq/AAAAAXRSTlMAQObYZgAAAEhJREFU\n",
       "CNdjYOC7s2seAwPDygccHxgY+L4zsDUwMPB+YGA9wMDA38Dgb8DA8P4Agz6DA4O/AsNFJgMGxgKm\n",
       "MG6gyjunLE4xAAAZTBA5TB6DCwAAAABJRU5ErkJggg==\n",
       "\" style=\"display:inline;vertical-align:middle;\" /></a></span></td></tr><tr><td>1</td><td>axiom</td><td></td><td><span style=\"font-size:20px;\"> <a class=\"ProveItLink\" href=\"../boolean/_axioms_.ipynb#eqTrueIntro\" style=\"text-decoration: none\">&#x22A2;&nbsp;</a><a class=\"ProveItLink\" href=\"../boolean/__pv_it/d0cb838f1f1e44deadf0499da151f8dae5a0de4f0/expr.ipynb\"><img src=\"data:image/png;base64,iVBORw0KGgoAAAANSUhEUgAAAIwAAAAXBAMAAAArT7qNAAAAMFBMVEX///8QEBC6urrMzMxUVFRm\n",
       "ZmZERETc3NwyMjKqqqp2dnaIiIiYmJgiIiLu7u4AAAAU9Wx4AAAAAXRSTlMAQObYZgAAAaxJREFU\n",
       "OMtjYKAOeEBYCdMG/PI8CgwMF0CM03iVmUAoW3Rx1rtgkMAQzMCwEiTQh9cYqGw/FinmABDJwcBQ\n",
       "BqTYE/CZwg3xE8/9B7iM4VnAwAGUZJ2AzxhGiPbK+AJcxvAJMPAsLy+vxesnDQi1Yb8CLmMYMhkY\n",
       "vqWl3cJrTBQkuh7MP4DTmKUMDM4MDOlgdjtEOUxFO4zRAyYfMdiDw4i1AwwcUIyZwcCgwsDXAA6n\n",
       "T2ARNlhi+AQzRghMKjDUB+B0jSIDAy8DN9i1T/+gGAPlAgHYPGYXF/8EnMbYA+PzAC84KtZdRTEG\n",
       "yoUZA/QrYwM+Y/gawKmUeUMasjEwLhBIgghgkuAVQEm6aJ5iSHcCsVgYYpGNgXGBIAeUQIHGcHzA\n",
       "6ZoTQDwVnK1OMuxHNgbGhcQmwwuQzD98Ec7ACIpIvquh+Q8QxsC5QKALzDHy7Qw8+T8wo4p5AZhq\n",
       "AkUtSD1rAYO9AcIYOBdkTQGhkoRPAMbSYWDgP4AwBs6FZDwCgAtWID35xsDufwduDIJLuBiBhhwa\n",
       "YMMUKiFkjDtRxrATKES5DYgyhhzAQpYuAAUAaqwIkhhoAAAAAElFTkSuQmCC\n",
       "\" style=\"display:inline;vertical-align:middle;\" /></a></span></td></tr>\n",
       "<tr><td>&nbsp;</td><td colspan=4 style-\"text-align:left\"><a class=\"ProveItLink\" href=\"../boolean/_axioms_.ipynb#eqTrueIntro\">proveit.logic.boolean.eqTrueIntro</a></td></tr><tr><td>2</td><td>assumption</td><td></td><td><span style=\"font-size:20px;\"><a class=\"ProveItLink\" href=\"__pv_it/038b22050251ede45b893433c79956ac85a7a9420/expr.ipynb\"><img src=\"data:image/png;base64,iVBORw0KGgoAAAANSUhEUgAAAB0AAAAVBAMAAABI7vhRAAAAMFBMVEX///9ERETc3NyqqqpUVFS6\n",
       "urrMzMwyMjIQEBCIiIh2dnYiIiLu7u5mZmaYmJgAAABJJ2g3AAAAAXRSTlMAQObYZgAAAJxJREFU\n",
       "GNNjYGDgu8cABmyrFEAUzy4GKGBrBpGcH2B8husggqsBzl9BNl9lVoQClM9bwMDA2sQgD2S+B/Ez\n",
       "AhgY9B8wXAQy2S8wMKS0ARn+DAw7QXLiDxgYIhIYGD4y8HwDcrkXAAmWAgamnwzMH3ig+rk2MPB8\n",
       "BoqaIdlXx2B9YQESX2VmmGQAke7la0D1P89OePi0gim+xUjhBwAq6SrXD7q3xQAAAABJRU5ErkJg\n",
       "gg==\n",
       "\" style=\"display:inline;vertical-align:middle;\" /></a> <a class=\"ProveItLink\" href=\"__pv_it/bda1b6115b6dded0e75c210b29768bd99b1386740/proof.ipynb\" style=\"text-decoration: none\">&#x22A2;&nbsp;</a><a class=\"ProveItLink\" href=\"../../__pv_it/07527342713064c87612d00d8557c53d53d5324a0/expr.ipynb\"><img src=\"data:image/png;base64,iVBORw0KGgoAAAANSUhEUgAAAAsAAAAJBAMAAAAWSsseAAAAMFBMVEX///8yMjKqqqrMzMzu7u4i\n",
       "IiJmZmaYmJhEREQQEBC6urp2dnaIiIhUVFTc3NwAAAD87Fq/AAAAAXRSTlMAQObYZgAAAEhJREFU\n",
       "CNdjYOC7s2seAwPDygccHxgY+L4zsDUwMPB+YGA9wMDA38Dgb8DA8P4Agz6DA4O/AsNFJgMGxgKm\n",
       "MG6gyjunLE4xAAAZTBA5TB6DCwAAAABJRU5ErkJggg==\n",
       "\" style=\"display:inline;vertical-align:middle;\" /></a></span></td></tr>\n",
       "</table>"
      ],
      "text/plain": [
       "\tstep type\trequirements\tstatement\n",
       "0\tspecialization\t1, 2\t{a} |- a = TRUE\n",
       "\tA : a\n",
       "1\taxiom\t\t|- forall_{A | A} (A = TRUE)\n",
       "\tproveit.logic.boolean.eqTrueIntro\n",
       "2\tassumption\t\t{a} |- a"
      ]
     },
     "execution_count": 47,
     "metadata": {},
     "output_type": "execute_result"
    }
   ],
   "source": [
    "a_eq_T.proof()"
   ]
  },
  {
   "cell_type": "markdown",
   "metadata": {},
   "source": [
    "A disproven expression will evaluate to `FALSE`."
   ]
  },
  {
   "cell_type": "code",
   "execution_count": 48,
   "metadata": {},
   "outputs": [
    {
     "data": {
      "text/html": [
       "<strong id=\"a_eq_F\">a_eq_F:</strong> <span style=\"font-size:20px;\"><a class=\"ProveItLink\" href=\"__pv_it/4a4a40b9a534dd5ffde495aa1e02436f5217ab6b0/expr.ipynb\"><img src=\"data:image/png;base64,iVBORw0KGgoAAAANSUhEUgAAACsAAAAVBAMAAAAtAwouAAAAMFBMVEX///9ERETc3NyqqqpUVFS6\n",
       "urrMzMwyMjIQEBCIiIh2dnYiIiLu7u5mZmaYmJgAAABJJ2g3AAAAAXRSTlMAQObYZgAAAKpJREFU\n",
       "GNNjYGDgu8eADNhWKYAonl0MqICtGURyfkATZrgOIrga0IVX0ERYZVaEAlSYtwAuytrEIA+k3oPY\n",
       "GQEMDLd3A8EuBv0HDBeBIuwXGBhS2mBqUxj8GRh2gljiDxgYIhLgwh8ZeL4BGdwLgAQLzOwUpp8M\n",
       "zB94oGZzbYAJ83wGqjFDdyAbQx2D9YUFmO5WmRkmGUCW5/kasIY3z0702GkFU3yLMeMSANbMMO61\n",
       "9vGIAAAAAElFTkSuQmCC\n",
       "\" style=\"display:inline;vertical-align:middle;\" /></a> <a class=\"ProveItLink\" href=\"__pv_it/d821ed4304c87ffef9d63843ed7a8ef2740537400/proof.ipynb\" style=\"text-decoration: none\">&#x22A2;&nbsp;</a><a class=\"ProveItLink\" href=\"__pv_it/93f275e9bdc8087619bf7a3734a390a91df084c10/expr.ipynb\"><img src=\"data:image/png;base64,iVBORw0KGgoAAAANSUhEUgAAADYAAAAOBAMAAACWQvIuAAAAMFBMVEX///8yMjKqqqrMzMzu7u4i\n",
       "IiJmZmaYmJhEREQQEBC6urp2dnaIiIhUVFTc3NwAAAD87Fq/AAAAAXRSTlMAQObYZgAAAGZJREFU\n",
       "GNNjYMAO3jDgBmY0k+O7s2seLrmVDzg+gOhEQRCQRZbj+87A1oBDH+8HBtYDOOT4Gxj8DXDIvT/A\n",
       "oM/gAGSkhoJABLKcvwLDRSYD7PoYC5jCuHGYyXfnlMUpNAmg8ZFA4wHScBlQMGMH1QAAAABJRU5E\n",
       "rkJggg==\n",
       "\" style=\"display:inline;vertical-align:middle;\" /></a></span><br>"
      ],
      "text/plain": [
       "a_eq_F: {[not](a)} |- a = FALSE"
      ]
     },
     "execution_count": 48,
     "metadata": {},
     "output_type": "execute_result"
    }
   ],
   "source": [
    "a_eq_F = a.evaluation([Not(a)])"
   ]
  },
  {
   "cell_type": "code",
   "execution_count": 49,
   "metadata": {},
   "outputs": [
    {
     "data": {
      "text/html": [
       "<table><tr><th>&nbsp;</th><th>step type</th><th>requirements</th><th>statement</th></tr>\n",
       "<tr><td>0</td><td>specialization</td><td>1, 2</td><td><span style=\"font-size:20px;\"><a class=\"ProveItLink\" href=\"__pv_it/4a4a40b9a534dd5ffde495aa1e02436f5217ab6b0/expr.ipynb\"><img src=\"data:image/png;base64,iVBORw0KGgoAAAANSUhEUgAAACsAAAAVBAMAAAAtAwouAAAAMFBMVEX///9ERETc3NyqqqpUVFS6\n",
       "urrMzMwyMjIQEBCIiIh2dnYiIiLu7u5mZmaYmJgAAABJJ2g3AAAAAXRSTlMAQObYZgAAAKpJREFU\n",
       "GNNjYGDgu8eADNhWKYAonl0MqICtGURyfkATZrgOIrga0IVX0ERYZVaEAlSYtwAuytrEIA+k3oPY\n",
       "GQEMDLd3A8EuBv0HDBeBIuwXGBhS2mBqUxj8GRh2gljiDxgYIhLgwh8ZeL4BGdwLgAQLzOwUpp8M\n",
       "zB94oGZzbYAJ83wGqjFDdyAbQx2D9YUFmO5WmRkmGUCW5/kasIY3z0702GkFU3yLMeMSANbMMO61\n",
       "9vGIAAAAAElFTkSuQmCC\n",
       "\" style=\"display:inline;vertical-align:middle;\" /></a> <a class=\"ProveItLink\" href=\"__pv_it/d821ed4304c87ffef9d63843ed7a8ef2740537400/proof.ipynb\" style=\"text-decoration: none\">&#x22A2;&nbsp;</a><a class=\"ProveItLink\" href=\"__pv_it/93f275e9bdc8087619bf7a3734a390a91df084c10/expr.ipynb\"><img src=\"data:image/png;base64,iVBORw0KGgoAAAANSUhEUgAAADYAAAAOBAMAAACWQvIuAAAAMFBMVEX///8yMjKqqqrMzMzu7u4i\n",
       "IiJmZmaYmJhEREQQEBC6urp2dnaIiIhUVFTc3NwAAAD87Fq/AAAAAXRSTlMAQObYZgAAAGZJREFU\n",
       "GNNjYMAO3jDgBmY0k+O7s2seLrmVDzg+gOhEQRCQRZbj+87A1oBDH+8HBtYDOOT4Gxj8DXDIvT/A\n",
       "oM/gAGSkhoJABLKcvwLDRSYD7PoYC5jCuHGYyXfnlMUpNAmg8ZFA4wHScBlQMGMH1QAAAABJRU5E\n",
       "rkJggg==\n",
       "\" style=\"display:inline;vertical-align:middle;\" /></a></span></td></tr>\n",
       "<tr><td>&nbsp;</td><td colspan=4 style=\"text-align:left\"><span style=\"font-size:20px;\"><a class=\"ProveItLink\" href=\"../../__pv_it/2cbe72a7ad6f655694dd697106680215e8489b600/expr.ipynb\"><img src=\"data:image/png;base64,iVBORw0KGgoAAAANSUhEUgAAAA8AAAAOBAMAAAACpFvcAAAALVBMVEX///8QEBBERERUVFS6urqI\n",
       "iIhmZmaqqqrc3Nzu7u6YmJgyMjIiIiLMzMwAAADtIaYWAAAAAXRSTlMAQObYZgAAAFtJREFUCNdj\n",
       "YACBOwxQsA9Kc52bAGG05zVAGAFxDmCaZULdAjBjCsO9ADDDgaEvAUTzGhvbKYCVMDAwbgAxChgY\n",
       "eASANAeQwf0AyJgNxEwvGRia5HYwcOm9TgAA6BoR3jrzwFcAAAAASUVORK5CYII=\n",
       "\" style=\"display:inline;vertical-align:middle;\" /></a> : <a class=\"ProveItLink\" href=\"../../__pv_it/07527342713064c87612d00d8557c53d53d5324a0/expr.ipynb\"><img src=\"data:image/png;base64,iVBORw0KGgoAAAANSUhEUgAAAAsAAAAJBAMAAAAWSsseAAAAMFBMVEX///8yMjKqqqrMzMzu7u4i\n",
       "IiJmZmaYmJhEREQQEBC6urp2dnaIiIhUVFTc3NwAAAD87Fq/AAAAAXRSTlMAQObYZgAAAEhJREFU\n",
       "CNdjYOC7s2seAwPDygccHxgY+L4zsDUwMPB+YGA9wMDA38Dgb8DA8P4Agz6DA4O/AsNFJgMGxgKm\n",
       "MG6gyjunLE4xAAAZTBA5TB6DCwAAAABJRU5ErkJggg==\n",
       "\" style=\"display:inline;vertical-align:middle;\" /></a></span></td></tr><tr><td>1</td><td>axiom</td><td></td><td><span style=\"font-size:20px;\"> <a class=\"ProveItLink\" href=\"../boolean/negation/_axioms_.ipynb#negationElim\" style=\"text-decoration: none\">&#x22A2;&nbsp;</a><a class=\"ProveItLink\" href=\"../boolean/negation/__pv_it/3b08940eb52ec7364a09d58733ea5eec05fbe9620/expr.ipynb\"><img src=\"data:image/png;base64,iVBORw0KGgoAAAANSUhEUgAAAJcAAAAXBAMAAAD0AcCSAAAAMFBMVEX///8QEBC6urrMzMxUVFRm\n",
       "ZmZERETc3NwyMjKqqqp2dnaIiIiYmJgiIiLu7u4AAAAU9Wx4AAAAAXRSTlMAQObYZgAAAbxJREFU\n",
       "OMtjYKAmeECsQqYN+OUPAfEFEOM0EYaZQChbLFLVIILVgIFhJYjRR4RhUDX9WKRMwWQDA0MZkGJP\n",
       "IGwWN8SXPPcf4DLsFAMDB1CSdQJhwxghhlTGF+Ay7CHQquXl5bVE+FIDQm3Yr4DLMDagk76lpd0i\n",
       "wrAoSJQ+mH8Al2FcAQwMzgwM6WBOO0Q5qrp2GKMHTD5isAeHXUQHCLSgGMYJjAEVBr4GcNB+gjgW\n",
       "xSyoIBAIgUkFhvoAXC5jEmBg4GXgBrv86R8shkEFgQBsKrOLi38CLsOYPwDj/AAvOKLWXcViGFQQ\n",
       "ZhgwDBgb8BnG1wBO28wb0jANgwkCgSSIAMYXrwCIEXsXBK5heJMh3QnEZGGIxTQMJggEOaDEDTSM\n",
       "4wMul/GA3DwVnD1PMuxHMmxZWlpaA0IQCJYC8QuQ/D98SYOBERTZfFdD8x+guiwBIQgEusCcJ9/O\n",
       "wJP/Ay06gT6+CPYxByg584DUsxYw2BugGwYXBFlZQChZP4SzdBgY+A+gGwYXBFm5gJBhq2GMJ98Y\n",
       "2P3voBpmgBAkppjiw5Jm2HApLiFgGEsBCYaxEyi2NzOQYBg5gIUCvQCemG+1sUJnVwAAAABJRU5E\n",
       "rkJggg==\n",
       "\" style=\"display:inline;vertical-align:middle;\" /></a></span></td></tr>\n",
       "<tr><td>&nbsp;</td><td colspan=4 style-\"text-align:left\"><a class=\"ProveItLink\" href=\"../boolean/negation/_axioms_.ipynb#negationElim\">proveit.logic.boolean.negation.negationElim</a></td></tr><tr><td>2</td><td>assumption</td><td></td><td><span style=\"font-size:20px;\"><a class=\"ProveItLink\" href=\"__pv_it/4a4a40b9a534dd5ffde495aa1e02436f5217ab6b0/expr.ipynb\"><img src=\"data:image/png;base64,iVBORw0KGgoAAAANSUhEUgAAACsAAAAVBAMAAAAtAwouAAAAMFBMVEX///9ERETc3NyqqqpUVFS6\n",
       "urrMzMwyMjIQEBCIiIh2dnYiIiLu7u5mZmaYmJgAAABJJ2g3AAAAAXRSTlMAQObYZgAAAKpJREFU\n",
       "GNNjYGDgu8eADNhWKYAonl0MqICtGURyfkATZrgOIrga0IVX0ERYZVaEAlSYtwAuytrEIA+k3oPY\n",
       "GQEMDLd3A8EuBv0HDBeBIuwXGBhS2mBqUxj8GRh2gljiDxgYIhLgwh8ZeL4BGdwLgAQLzOwUpp8M\n",
       "zB94oGZzbYAJ83wGqjFDdyAbQx2D9YUFmO5WmRkmGUCW5/kasIY3z0702GkFU3yLMeMSANbMMO61\n",
       "9vGIAAAAAElFTkSuQmCC\n",
       "\" style=\"display:inline;vertical-align:middle;\" /></a> <a class=\"ProveItLink\" href=\"__pv_it/6227c1167173cb6f272ea19560942046fd170ff80/proof.ipynb\" style=\"text-decoration: none\">&#x22A2;&nbsp;</a><a class=\"ProveItLink\" href=\"__pv_it/90850a12a72aaf97c847e825fb82a6804e84d9be0/expr.ipynb\"><img src=\"data:image/png;base64,iVBORw0KGgoAAAANSUhEUgAAABgAAAAJBAMAAADa0/H1AAAAMFBMVEX///8yMjKqqqru7u6YmJhE\n",
       "REQQEBC6urqIiIjc3NxUVFTMzMx2dnYiIiJmZmYAAADYs2HGAAAAAXRSTlMAQObYZgAAAE9JREFU\n",
       "CNdjYICCWT1lE2Bs9kyGeAaGt3eB4A7DfAeGp1DxXQzrGRhuwDlfGZh/wzicPxiYPjBDOcyfGLgE\n",
       "tCEcbgYRBt0HB+DWdFRHFAAAmG4X4Eqb2MYAAAAASUVORK5CYII=\n",
       "\" style=\"display:inline;vertical-align:middle;\" /></a></span></td></tr>\n",
       "</table>"
      ],
      "text/plain": [
       "\tstep type\trequirements\tstatement\n",
       "0\tspecialization\t1, 2\t{[not](a)} |- a = FALSE\n",
       "\tA : a\n",
       "1\taxiom\t\t|- forall_{A | [not](A)} (A = FALSE)\n",
       "\tproveit.logic.boolean.negation.negationElim\n",
       "2\tassumption\t\t{[not](a)} |- [not](a)"
      ]
     },
     "execution_count": 49,
     "metadata": {},
     "output_type": "execute_result"
    }
   ],
   "source": [
    "a_eq_F.proof()"
   ]
  },
  {
   "cell_type": "markdown",
   "metadata": {},
   "source": [
    "If the expression to be evaluated is known to be equal to an expression that has already been evaluated, transitivity will automatically be applied."
   ]
  },
  {
   "cell_type": "code",
   "execution_count": 50,
   "metadata": {},
   "outputs": [
    {
     "data": {
      "text/html": [
       "<strong id=\"b_eq_F\">b_eq_F:</strong> <span style=\"font-size:20px;\"><a class=\"ProveItLink\" href=\"__pv_it/c0d1c539a5037081031df8a3523c0f11593c0f370/expr.ipynb\"><img src=\"data:image/png;base64,iVBORw0KGgoAAAANSUhEUgAAAGQAAAAVBAMAAABCslYDAAAAMFBMVEX////c3NxERESqqqpUVFS6\n",
       "urrMzMwyMjIQEBCIiIh2dnYiIiLu7u5mZmaYmJgAAABXZE4RAAAAAXRSTlMAQObYZgAAAUhJREFU\n",
       "OMtjYGDgu8dANMhaCCJ5djGQADIMgATnBwaGI93EauEtABJcDUCihFgtYNVg4jPJWlj/kKyFawPJ\n",
       "Wtg9pzxAkxOZFSGAIsDoubQRqgUUBucVGL6BmOVg4ABksjYy6KOaESHABAxbvg+gkA5gYLA/wNCF\n",
       "qkD+AcMlaLDuBoEFjP8YeBWA3FoGhpQ2IH2dgeEvqhZ/BoadSFw2B5YPDNwTgCymOqCFCQwMexlY\n",
       "/6Fq+cTA8w1FC78Cw3mgSgZQWmEpAEUL7x+4G3YD7Wf8ycD8gQdZi/wEBnuGAxC/gAL4GwPHAhRL\n",
       "eD4DjTIDKoFrOW/A4M6cgAhkZ4YraGFcx2B9YQHPbzg/gf0B814upHg5MhcjWmaGaQbw9AsgRcvU\n",
       "pKnIaQwHYBXAnSxxAD7sCYaPJC3g/MKzE7eWCZi5MgBs1GLS8j4ArZ5bdHGQHy0AAAAASUVORK5C\n",
       "YII=\n",
       "\" style=\"display:inline;vertical-align:middle;\" /></a> <a class=\"ProveItLink\" href=\"__pv_it/14c23869fd07de2a81741db3ea318215ea31a92a0/proof.ipynb\" style=\"text-decoration: none\">&#x22A2;&nbsp;</a><a class=\"ProveItLink\" href=\"__pv_it/ea5143681b70bb6b9af52183697ea513402159430/expr.ipynb\"><img src=\"data:image/png;base64,iVBORw0KGgoAAAANSUhEUgAAADQAAAAOBAMAAACStyITAAAAMFBMVEX////c3NxmZmbMzMxERESY\n",
       "mJiIiIh2dna6urqqqqoyMjIiIiIQEBBUVFTu7u4AAAAiO1wTAAAAAXRSTlMAQObYZgAAAG9JREFU\n",
       "GNNj4LuzgQETiIFJrgtYpIzAJP8EnFL9D3BKVTPglFqbdhWHFN8XBn4DIK21CgTWIktx/mPgKcCu\n",
       "i2kBA78CdiluBYb+AOxSQG/pg5yvvRsEtqBIGTAcx+FC3glMF3A5/poqujjQ7D1AswGgLSBVSP3x\n",
       "iQAAAABJRU5ErkJggg==\n",
       "\" style=\"display:inline;vertical-align:middle;\" /></a></span><br>"
      ],
      "text/plain": [
       "b_eq_F: {b = a , [not](a)} |- b = FALSE"
      ]
     },
     "execution_count": 50,
     "metadata": {},
     "output_type": "execute_result"
    }
   ],
   "source": [
    "b_eq_F = b.evaluation([Equals(b, a), Not(a)])"
   ]
  },
  {
   "cell_type": "code",
   "execution_count": 51,
   "metadata": {},
   "outputs": [
    {
     "data": {
      "text/html": [
       "<table><tr><th>&nbsp;</th><th>step type</th><th>requirements</th><th>statement</th></tr>\n",
       "<tr><td>0</td><td>specialization</td><td>1, 2, 3</td><td><span style=\"font-size:20px;\"><a class=\"ProveItLink\" href=\"__pv_it/c0d1c539a5037081031df8a3523c0f11593c0f370/expr.ipynb\"><img src=\"data:image/png;base64,iVBORw0KGgoAAAANSUhEUgAAAGQAAAAVBAMAAABCslYDAAAAMFBMVEX////c3NxERESqqqpUVFS6\n",
       "urrMzMwyMjIQEBCIiIh2dnYiIiLu7u5mZmaYmJgAAABXZE4RAAAAAXRSTlMAQObYZgAAAUhJREFU\n",
       "OMtjYGDgu8dANMhaCCJ5djGQADIMgATnBwaGI93EauEtABJcDUCihFgtYNVg4jPJWlj/kKyFawPJ\n",
       "Wtg9pzxAkxOZFSGAIsDoubQRqgUUBucVGL6BmOVg4ABksjYy6KOaESHABAxbvg+gkA5gYLA/wNCF\n",
       "qkD+AcMlaLDuBoEFjP8YeBWA3FoGhpQ2IH2dgeEvqhZ/BoadSFw2B5YPDNwTgCymOqCFCQwMexlY\n",
       "/6Fq+cTA8w1FC78Cw3mgSgZQWmEpAEUL7x+4G3YD7Wf8ycD8gQdZi/wEBnuGAxC/gAL4GwPHAhRL\n",
       "eD4DjTIDKoFrOW/A4M6cgAhkZ4YraGFcx2B9YQHPbzg/gf0B814upHg5MhcjWmaGaQbw9AsgRcvU\n",
       "pKnIaQwHYBXAnSxxAD7sCYaPJC3g/MKzE7eWCZi5MgBs1GLS8j4ArZ5bdHGQHy0AAAAASUVORK5C\n",
       "YII=\n",
       "\" style=\"display:inline;vertical-align:middle;\" /></a> <a class=\"ProveItLink\" href=\"__pv_it/14c23869fd07de2a81741db3ea318215ea31a92a0/proof.ipynb\" style=\"text-decoration: none\">&#x22A2;&nbsp;</a><a class=\"ProveItLink\" href=\"__pv_it/ea5143681b70bb6b9af52183697ea513402159430/expr.ipynb\"><img src=\"data:image/png;base64,iVBORw0KGgoAAAANSUhEUgAAADQAAAAOBAMAAACStyITAAAAMFBMVEX////c3NxmZmbMzMxERESY\n",
       "mJiIiIh2dna6urqqqqoyMjIiIiIQEBBUVFTu7u4AAAAiO1wTAAAAAXRSTlMAQObYZgAAAG9JREFU\n",
       "GNNj4LuzgQETiIFJrgtYpIzAJP8EnFL9D3BKVTPglFqbdhWHFN8XBn4DIK21CgTWIktx/mPgKcCu\n",
       "i2kBA78CdiluBYb+AOxSQG/pg5yvvRsEtqBIGTAcx+FC3glMF3A5/poqujjQ7D1AswGgLSBVSP3x\n",
       "iQAAAABJRU5ErkJggg==\n",
       "\" style=\"display:inline;vertical-align:middle;\" /></a></span></td></tr>\n",
       "<tr><td>&nbsp;</td><td colspan=4 style=\"text-align:left\"><span style=\"font-size:20px;\"><a class=\"ProveItLink\" href=\"../../__pv_it/530be409e3083890784cf1d7b28c9e67e90af9360/expr.ipynb\"><img src=\"data:image/png;base64,iVBORw0KGgoAAAANSUhEUgAAAAsAAAAJBAMAAAAWSsseAAAAKlBMVEX///9ERETMzMwQEBAiIiKY\n",
       "mJju7u5mZmaqqqpUVFSIiIh2dnbc3NwAAAA/vyDhAAAAAXRSTlMAQObYZgAAAENJREFUCNdjYDi9\n",
       "8sTyBQxsG1hdmR0YuBm4LnAoMLAxcAowgADzAjB1VoEhgYH1wFoGrgSG3gBhhlMMDImrs3cFMAAA\n",
       "t0YN+iTRa+sAAAAASUVORK5CYII=\n",
       "\" style=\"display:inline;vertical-align:middle;\" /></a> : <a class=\"ProveItLink\" href=\"../../__pv_it/6840a4fa6c106149dc16a131294d0c5e44f1b0480/expr.ipynb\"><img src=\"data:image/png;base64,iVBORw0KGgoAAAANSUhEUgAAAAkAAAAOBAMAAAAPuiubAAAALVBMVEX///9mZmbMzMxERESYmJiI\n",
       "iIh2dna6urqqqqoyMjIiIiIQEBBUVFTu7u4AAAD9S1JeAAAAAXRSTlMAQObYZgAAAE1JREFUCNdj\n",
       "4D29gAEIOA+ASL4GEFl3AURmgQiGOaFHGBh4HzPwKTBwvGXgTmBgnMDAJ8DAJcBQ5wBSLncBJLWN\n",
       "gYGngRFoBO9REQYGAGrcDtUkVqASAAAAAElFTkSuQmCC\n",
       "\" style=\"display:inline;vertical-align:middle;\" /></a>, <a class=\"ProveItLink\" href=\"../../__pv_it/f8b9edf8e16034727f0aad55bb83e392c3db40d40/expr.ipynb\"><img src=\"data:image/png;base64,iVBORw0KGgoAAAANSUhEUgAAAAsAAAANBAMAAACN24kIAAAAMFBMVEX///+YmJhUVFQyMjIQEBBE\n",
       "REQiIiKqqqrMzMyIiIi6urrc3NxmZmZ2dnbu7u4AAADXeCicAAAAAXRSTlMAQObYZgAAAFhJREFU\n",
       "CNdj4LtzgWH/AwZerg8M8xkY2nkSGEIZGB6wTGD4ycDAUP+A4weQOszA6QCkbBhYFYDUIYb1AkDq\n",
       "6czzGxhA4BoQMyXwuQMptgusF4AU+8xTQBIAUqMVoSp/SLMAAAAASUVORK5CYII=\n",
       "\" style=\"display:inline;vertical-align:middle;\" /></a> : <a class=\"ProveItLink\" href=\"../../__pv_it/07527342713064c87612d00d8557c53d53d5324a0/expr.ipynb\"><img src=\"data:image/png;base64,iVBORw0KGgoAAAANSUhEUgAAAAsAAAAJBAMAAAAWSsseAAAAMFBMVEX///8yMjKqqqrMzMzu7u4i\n",
       "IiJmZmaYmJhEREQQEBC6urp2dnaIiIhUVFTc3NwAAAD87Fq/AAAAAXRSTlMAQObYZgAAAEhJREFU\n",
       "CNdjYOC7s2seAwPDygccHxgY+L4zsDUwMPB+YGA9wMDA38Dgb8DA8P4Agz6DA4O/AsNFJgMGxgKm\n",
       "MG6gyjunLE4xAAAZTBA5TB6DCwAAAABJRU5ErkJggg==\n",
       "\" style=\"display:inline;vertical-align:middle;\" /></a>, <a class=\"ProveItLink\" href=\"../../__pv_it/251502494639118b4892de8e9d720a5fcce840e10/expr.ipynb\"><img src=\"data:image/png;base64,iVBORw0KGgoAAAANSUhEUgAAAAoAAAAJBAMAAAD5iKAgAAAALVBMVEX///8yMjLMzMx2dnaqqqpU\n",
       "VFTu7u5mZmaYmJhERESIiIjc3NwQEBC6uroAAAB+iRisAAAAAXRSTlMAQObYZgAAADlJREFUCNdj\n",
       "YOA9c2EXA8POrvIJDAwJDKkJDAwM3AFAguE6iGAxAJHODAwBDEwSFY0XGNgZ+o4wAABKtAsIcBKm\n",
       "agAAAABJRU5ErkJggg==\n",
       "\" style=\"display:inline;vertical-align:middle;\" /></a> : <a class=\"ProveItLink\" href=\"../boolean/__pv_it/8f1f7fac882de28c72b62ab80a1700b6d8fd066b0/expr.ipynb\"><img src=\"data:image/png;base64,iVBORw0KGgoAAAANSUhEUgAAAA4AAAAOBAMAAADtZjDiAAAAG1BMVEX///9EREQQEBAiIiJmZmbM\n",
       "zMyIiIjc3NwAAACryk5kAAAAAXRSTlMAQObYZgAAABlJREFUCNdjYGBgKGOAgBBa0s7GxkbGxoYA\n",
       "FMUF2aBfHgoAAAAASUVORK5CYII=\n",
       "\" style=\"display:inline;vertical-align:middle;\" /></a></span></td></tr><tr><td>1</td><td>axiom</td><td></td><td><span style=\"font-size:20px;\"> <a class=\"ProveItLink\" href=\"_axioms_.ipynb#equalsTransitivity\" style=\"text-decoration: none\">&#x22A2;&nbsp;</a><a class=\"ProveItLink\" href=\"__pv_it/15953cfebb497c481d8be77ed0e16c42a27f82610/expr.ipynb\"><img src=\"data:image/png;base64,iVBORw0KGgoAAAANSUhEUgAAANEAAAAXBAMAAABnpbd1AAAAMFBMVEX///8QEBC6urrMzMxUVFRm\n",
       "ZmZERETc3NwyMjKqqqp2dnaIiIiYmJgiIiLu7u4AAAAU9Wx4AAAAAXRSTlMAQObYZgAAAoBJREFU\n",
       "SMe9VUtoE1EUPZOZZvLrJLQLFVFScKFUMcVC3UglhQotSFYiFiGrVqyLQcQoogQRKihF0Lqwm8GN\n",
       "n0AIWAO2ooNQBD+QlYggRBeKuokIdtOF976Zya+daOHhgXDe3Jt55913PwP8N1TlbdXv73pBvwov\n",
       "XssQUg/6+7pSwANezMpQCnW6njxwlkjPylBa6uR85Zyk64YMpe2dnJ+A2L1c7qIMoUC+kzdIwfye\n",
       "nPwgQ6nLojQUDs1PtDv6evQSIhlgBJjyO+aGCsIGvuOtvY0fjl5lXOGlfurxESBMEe+A4Rd3cCNK\n",
       "ShKw8Bw32+wGjMN06ATQjagtQyme5DEwuo7nDDdbDaTTXZWlBGxdJwcZV8nID9KqkF6gNg6UobDs\n",
       "gdnzDaXIQv+IN2+yopZdEoPh/Ve3RRRm/RfdFuH4R8Y74bgj5Oj2MJWm3aqj/M8fcXOA7ellq6FU\n",
       "1LJbNE7wNaO0otIbghwLtN3HvAugHLyM1vCsLaSwBY2aiWthrsJVdp2tl/agLNzfmm4vGfLyqH+u\n",
       "RLN1chPudT3VcXg1mKCKbsX+5TeXhZfCFr4VYR7DuNgy2ZynuOm9pVlaqUECp+vpqMCYLj582p6m\n",
       "TOwnHSbEO8Y4M2pCZXMPepn2YahJaQCpoHNXSlJJiYJWPIuaUr1zbPrLNHIwHMlHcM5Eb6BGpI7t\n",
       "ytaV1Np9WF7PpPZCnxHkYvDu7aYh6o+Ct/jyZKKIYRu3ynmiaGCzWVcypucWvTYIj5+AuirIRalv\n",
       "5l++Gu3DwdZNToDt2085TmPMoTXQO3wJNbP1o2kGrZ1MvkoneWAPObQWF/yVHrU+xhBesph8leYX\n",
       "OXKHpEKTudkfgDCcYn7TElEAAAAASUVORK5CYII=\n",
       "\" style=\"display:inline;vertical-align:middle;\" /></a></span></td></tr>\n",
       "<tr><td>&nbsp;</td><td colspan=4 style-\"text-align:left\"><a class=\"ProveItLink\" href=\"_axioms_.ipynb#equalsTransitivity\">proveit.logic.equality.equalsTransitivity</a></td></tr><tr><td>2</td><td>assumption</td><td></td><td><span style=\"font-size:20px;\"><a class=\"ProveItLink\" href=\"__pv_it/45d679b33948872d2fd39e23a85920e4fe6ed7f30/expr.ipynb\"><img src=\"data:image/png;base64,iVBORw0KGgoAAAANSUhEUgAAAEIAAAAVBAMAAAAA8SWUAAAAMFBMVEX////c3NxERESqqqpUVFS6\n",
       "urrMzMwyMjIQEBCIiIh2dnYiIiLu7u5mZmaYmJgAAABXZE4RAAAAAXRSTlMAQObYZgAAAPNJREFU\n",
       "KM9jYGDgu8eAC2QtBJE8uxhwgwwDIMH5gYHhSDcOFbwFQIKrAUiU4FABlgQTnwmpYP1DSAXXBkIq\n",
       "2D2nPECTY/Rc2ghVAXLueQWGbyBmORg4gFRECDABPcn3AeTlAAYG+wMMXWhG/GPgVQDStQwMKW1A\n",
       "+joDw19UFSwfGLgnAGmmOqBxCQwMexlY/6Gq4FdgOA+UYAAFOEsBKDh4Qf7l3Q0GINPlJzDYMxyA\n",
       "uAPk028MHAtQzThvwODOnIDwrTPDFTTPsj9g3suFFB5H5mIGx9SkqcjxwkAw5vCq4MOnApw+eHbi\n",
       "S2MBIJJvMd50CgBBBESW6r/wNgAAAABJRU5ErkJggg==\n",
       "\" style=\"display:inline;vertical-align:middle;\" /></a> <a class=\"ProveItLink\" href=\"__pv_it/84e8db3e124b188203e99aa57d56cc7ab9ae7a630/proof.ipynb\" style=\"text-decoration: none\">&#x22A2;&nbsp;</a><a class=\"ProveItLink\" href=\"__pv_it/62e4ad07e99a56386b3c58bb42af0323a14c6a410/expr.ipynb\"><img src=\"data:image/png;base64,iVBORw0KGgoAAAANSUhEUgAAADAAAAAOBAMAAACbXIJpAAAAMFBMVEX////c3NxmZmbMzMxERESY\n",
       "mJiIiIh2dna6urqqqqoyMjIiIiIQEBBUVFTu7u4AAAAiO1wTAAAAAXRSTlMAQObYZgAAAJhJREFU\n",
       "GNNj4LuzgQE74LqAQ4J/Ag6J/gc4JKpxiDOsTbuKLiSb3iPAwPeFgd8AyNFaBQJrQeIcBxn8GRg4\n",
       "/zHwFKBqkA9gUGFgYFrAwK+AKnGfgWEbAwO3AkN/AKrEFwa+z2Bv6IMcrL0bBLYAWYzfGDg/8IFs\n",
       "Po6qge8nA++CyQy8E5jQw2Qpw2yFAga+a6oY3khrdmsAAFICJ5Z6YnH9AAAAAElFTkSuQmCC\n",
       "\" style=\"display:inline;vertical-align:middle;\" /></a></span></td></tr>\n",
       "<tr><td>3</td><td>specialization</td><td>4, 5</td><td><span style=\"font-size:20px;\"><a class=\"ProveItLink\" href=\"__pv_it/4a4a40b9a534dd5ffde495aa1e02436f5217ab6b0/expr.ipynb\"><img src=\"data:image/png;base64,iVBORw0KGgoAAAANSUhEUgAAACsAAAAVBAMAAAAtAwouAAAAMFBMVEX///9ERETc3NyqqqpUVFS6\n",
       "urrMzMwyMjIQEBCIiIh2dnYiIiLu7u5mZmaYmJgAAABJJ2g3AAAAAXRSTlMAQObYZgAAAKpJREFU\n",
       "GNNjYGDgu8eADNhWKYAonl0MqICtGURyfkATZrgOIrga0IVX0ERYZVaEAlSYtwAuytrEIA+k3oPY\n",
       "GQEMDLd3A8EuBv0HDBeBIuwXGBhS2mBqUxj8GRh2gljiDxgYIhLgwh8ZeL4BGdwLgAQLzOwUpp8M\n",
       "zB94oGZzbYAJ83wGqjFDdyAbQx2D9YUFmO5WmRkmGUCW5/kasIY3z0702GkFU3yLMeMSANbMMO61\n",
       "9vGIAAAAAElFTkSuQmCC\n",
       "\" style=\"display:inline;vertical-align:middle;\" /></a> <a class=\"ProveItLink\" href=\"__pv_it/d821ed4304c87ffef9d63843ed7a8ef2740537400/proof.ipynb\" style=\"text-decoration: none\">&#x22A2;&nbsp;</a><a class=\"ProveItLink\" href=\"__pv_it/93f275e9bdc8087619bf7a3734a390a91df084c10/expr.ipynb\"><img src=\"data:image/png;base64,iVBORw0KGgoAAAANSUhEUgAAADYAAAAOBAMAAACWQvIuAAAAMFBMVEX///8yMjKqqqrMzMzu7u4i\n",
       "IiJmZmaYmJhEREQQEBC6urp2dnaIiIhUVFTc3NwAAAD87Fq/AAAAAXRSTlMAQObYZgAAAGZJREFU\n",
       "GNNjYMAO3jDgBmY0k+O7s2seLrmVDzg+gOhEQRCQRZbj+87A1oBDH+8HBtYDOOT4Gxj8DXDIvT/A\n",
       "oM/gAGSkhoJABLKcvwLDRSYD7PoYC5jCuHGYyXfnlMUpNAmg8ZFA4wHScBlQMGMH1QAAAABJRU5E\n",
       "rkJggg==\n",
       "\" style=\"display:inline;vertical-align:middle;\" /></a></span></td></tr>\n",
       "<tr><td>&nbsp;</td><td colspan=4 style=\"text-align:left\"><span style=\"font-size:20px;\"><a class=\"ProveItLink\" href=\"../../__pv_it/2cbe72a7ad6f655694dd697106680215e8489b600/expr.ipynb\"><img src=\"data:image/png;base64,iVBORw0KGgoAAAANSUhEUgAAAA8AAAAOBAMAAAACpFvcAAAALVBMVEX///8QEBBERERUVFS6urqI\n",
       "iIhmZmaqqqrc3Nzu7u6YmJgyMjIiIiLMzMwAAADtIaYWAAAAAXRSTlMAQObYZgAAAFtJREFUCNdj\n",
       "YACBOwxQsA9Kc52bAGG05zVAGAFxDmCaZULdAjBjCsO9ADDDgaEvAUTzGhvbKYCVMDAwbgAxChgY\n",
       "eASANAeQwf0AyJgNxEwvGRia5HYwcOm9TgAA6BoR3jrzwFcAAAAASUVORK5CYII=\n",
       "\" style=\"display:inline;vertical-align:middle;\" /></a> : <a class=\"ProveItLink\" href=\"../../__pv_it/07527342713064c87612d00d8557c53d53d5324a0/expr.ipynb\"><img src=\"data:image/png;base64,iVBORw0KGgoAAAANSUhEUgAAAAsAAAAJBAMAAAAWSsseAAAAMFBMVEX///8yMjKqqqrMzMzu7u4i\n",
       "IiJmZmaYmJhEREQQEBC6urp2dnaIiIhUVFTc3NwAAAD87Fq/AAAAAXRSTlMAQObYZgAAAEhJREFU\n",
       "CNdjYOC7s2seAwPDygccHxgY+L4zsDUwMPB+YGA9wMDA38Dgb8DA8P4Agz6DA4O/AsNFJgMGxgKm\n",
       "MG6gyjunLE4xAAAZTBA5TB6DCwAAAABJRU5ErkJggg==\n",
       "\" style=\"display:inline;vertical-align:middle;\" /></a></span></td></tr><tr><td>4</td><td>axiom</td><td></td><td><span style=\"font-size:20px;\"> <a class=\"ProveItLink\" href=\"../boolean/negation/_axioms_.ipynb#negationElim\" style=\"text-decoration: none\">&#x22A2;&nbsp;</a><a class=\"ProveItLink\" href=\"../boolean/negation/__pv_it/3b08940eb52ec7364a09d58733ea5eec05fbe9620/expr.ipynb\"><img src=\"data:image/png;base64,iVBORw0KGgoAAAANSUhEUgAAAJcAAAAXBAMAAAD0AcCSAAAAMFBMVEX///8QEBC6urrMzMxUVFRm\n",
       "ZmZERETc3NwyMjKqqqp2dnaIiIiYmJgiIiLu7u4AAAAU9Wx4AAAAAXRSTlMAQObYZgAAAbxJREFU\n",
       "OMtjYKAmeECsQqYN+OUPAfEFEOM0EYaZQChbLFLVIILVgIFhJYjRR4RhUDX9WKRMwWQDA0MZkGJP\n",
       "IGwWN8SXPPcf4DLsFAMDB1CSdQJhwxghhlTGF+Ay7CHQquXl5bVE+FIDQm3Yr4DLMDagk76lpd0i\n",
       "wrAoSJQ+mH8Al2FcAQwMzgwM6WBOO0Q5qrp2GKMHTD5isAeHXUQHCLSgGMYJjAEVBr4GcNB+gjgW\n",
       "xSyoIBAIgUkFhvoAXC5jEmBg4GXgBrv86R8shkEFgQBsKrOLi38CLsOYPwDj/AAvOKLWXcViGFQQ\n",
       "ZhgwDBgb8BnG1wBO28wb0jANgwkCgSSIAMYXrwCIEXsXBK5heJMh3QnEZGGIxTQMJggEOaDEDTSM\n",
       "4wMul/GA3DwVnD1PMuxHMmxZWlpaA0IQCJYC8QuQ/D98SYOBERTZfFdD8x+guiwBIQgEusCcJ9/O\n",
       "wJP/Ay06gT6+CPYxByg584DUsxYw2BugGwYXBFlZQChZP4SzdBgY+A+gGwYXBFm5gJBhq2GMJ98Y\n",
       "2P3voBpmgBAkppjiw5Jm2HApLiFgGEsBCYaxEyi2NzOQYBg5gIUCvQCemG+1sUJnVwAAAABJRU5E\n",
       "rkJggg==\n",
       "\" style=\"display:inline;vertical-align:middle;\" /></a></span></td></tr>\n",
       "<tr><td>&nbsp;</td><td colspan=4 style-\"text-align:left\"><a class=\"ProveItLink\" href=\"../boolean/negation/_axioms_.ipynb#negationElim\">proveit.logic.boolean.negation.negationElim</a></td></tr><tr><td>5</td><td>assumption</td><td></td><td><span style=\"font-size:20px;\"><a class=\"ProveItLink\" href=\"__pv_it/4a4a40b9a534dd5ffde495aa1e02436f5217ab6b0/expr.ipynb\"><img src=\"data:image/png;base64,iVBORw0KGgoAAAANSUhEUgAAACsAAAAVBAMAAAAtAwouAAAAMFBMVEX///9ERETc3NyqqqpUVFS6\n",
       "urrMzMwyMjIQEBCIiIh2dnYiIiLu7u5mZmaYmJgAAABJJ2g3AAAAAXRSTlMAQObYZgAAAKpJREFU\n",
       "GNNjYGDgu8eADNhWKYAonl0MqICtGURyfkATZrgOIrga0IVX0ERYZVaEAlSYtwAuytrEIA+k3oPY\n",
       "GQEMDLd3A8EuBv0HDBeBIuwXGBhS2mBqUxj8GRh2gljiDxgYIhLgwh8ZeL4BGdwLgAQLzOwUpp8M\n",
       "zB94oGZzbYAJ83wGqjFDdyAbQx2D9YUFmO5WmRkmGUCW5/kasIY3z0702GkFU3yLMeMSANbMMO61\n",
       "9vGIAAAAAElFTkSuQmCC\n",
       "\" style=\"display:inline;vertical-align:middle;\" /></a> <a class=\"ProveItLink\" href=\"__pv_it/6227c1167173cb6f272ea19560942046fd170ff80/proof.ipynb\" style=\"text-decoration: none\">&#x22A2;&nbsp;</a><a class=\"ProveItLink\" href=\"__pv_it/90850a12a72aaf97c847e825fb82a6804e84d9be0/expr.ipynb\"><img src=\"data:image/png;base64,iVBORw0KGgoAAAANSUhEUgAAABgAAAAJBAMAAADa0/H1AAAAMFBMVEX///8yMjKqqqru7u6YmJhE\n",
       "REQQEBC6urqIiIjc3NxUVFTMzMx2dnYiIiJmZmYAAADYs2HGAAAAAXRSTlMAQObYZgAAAE9JREFU\n",
       "CNdjYICCWT1lE2Bs9kyGeAaGt3eB4A7DfAeGp1DxXQzrGRhuwDlfGZh/wzicPxiYPjBDOcyfGLgE\n",
       "tCEcbgYRBt0HB+DWdFRHFAAAmG4X4Eqb2MYAAAAASUVORK5CYII=\n",
       "\" style=\"display:inline;vertical-align:middle;\" /></a></span></td></tr>\n",
       "</table>"
      ],
      "text/plain": [
       "\tstep type\trequirements\tstatement\n",
       "0\tspecialization\t1, 2, 3\t{b = a , [not](a)} |- b = FALSE\n",
       "\tx : b, y : a, z : FALSE\n",
       "1\taxiom\t\t|- forall_{x, y, z | x = y , y = z} (x = z)\n",
       "\tproveit.logic.equality.equalsTransitivity\n",
       "2\tassumption\t\t{b = a} |- b = a\n",
       "3\tspecialization\t4, 5\t{[not](a)} |- a = FALSE\n",
       "\tA : a\n",
       "4\taxiom\t\t|- forall_{A | [not](A)} (A = FALSE)\n",
       "\tproveit.logic.boolean.negation.negationElim\n",
       "5\tassumption\t\t{[not](a)} |- [not](a)"
      ]
     },
     "execution_count": 51,
     "metadata": {},
     "output_type": "execute_result"
    }
   ],
   "source": [
    "b_eq_F.proof()"
   ]
  },
  {
   "cell_type": "markdown",
   "metadata": {},
   "source": [
    "When evaluating an expression, an evaluation of the operands will be attempted.  The operation class is responsible for overridding the `evaluate` method in order to properly treat the operation applied to irreducible values or generate a more efficient proof as appropriate."
   ]
  },
  {
   "cell_type": "code",
   "execution_count": 52,
   "metadata": {},
   "outputs": [],
   "source": [
    "from proveit.logic import Or, Not, inBool"
   ]
  },
  {
   "cell_type": "code",
   "execution_count": 53,
   "metadata": {},
   "outputs": [
    {
     "data": {
      "text/html": [
       "<strong id=\"nested_eval\">nested_eval:</strong> <span style=\"font-size:20px;\"><a class=\"ProveItLink\" href=\"__pv_it/038b22050251ede45b893433c79956ac85a7a9420/expr.ipynb\"><img src=\"data:image/png;base64,iVBORw0KGgoAAAANSUhEUgAAAB0AAAAVBAMAAABI7vhRAAAAMFBMVEX///9ERETc3NyqqqpUVFS6\n",
       "urrMzMwyMjIQEBCIiIh2dnYiIiLu7u5mZmaYmJgAAABJJ2g3AAAAAXRSTlMAQObYZgAAAJxJREFU\n",
       "GNNjYGDgu8cABmyrFEAUzy4GKGBrBpGcH2B8husggqsBzl9BNl9lVoQClM9bwMDA2sQgD2S+B/Ez\n",
       "AhgY9B8wXAQy2S8wMKS0ARn+DAw7QXLiDxgYIhIYGD4y8HwDcrkXAAmWAgamnwzMH3ig+rk2MPB8\n",
       "BoqaIdlXx2B9YQESX2VmmGQAke7la0D1P89OePi0gim+xUjhBwAq6SrXD7q3xQAAAABJRU5ErkJg\n",
       "gg==\n",
       "\" style=\"display:inline;vertical-align:middle;\" /></a> <a class=\"ProveItLink\" href=\"__pv_it/b70e1400bfdd80f4ddddf8c677006e3fc464a8150/proof.ipynb\" style=\"text-decoration: none\">&#x22A2;&nbsp;</a><a class=\"ProveItLink\" href=\"__pv_it/6d2ac4dd905410f84fb9059af5c780d7d5e0ea4b0/expr.ipynb\"><img src=\"data:image/png;base64,iVBORw0KGgoAAAANSUhEUgAAAIQAAAAVBAMAAAB1UFtyAAAAMFBMVEX////c3NwiIiJERESqqqqY\n",
       "mJh2dnZmZmYQEBDu7u4yMjJUVFTMzMyIiIi6uroAAAAs73DqAAAAAXRSTlMAQObYZgAAAXFJREFU\n",
       "OMutUr9Lw1AQvrZJo01bM+ug6OAahO7dHHVylC7SSRERBycFZ+koLk0HkejiLAgBURGX/AFSSidx\n",
       "yuIqvtxdfj1e0gx+8L3wvnv53t27A/gHtP3Z4i4zBx8lRMMjZnG0GmINwE2uxhVPutJphynjLVxa\n",
       "ScqmF+1bcnE7TKXF3CDeN22xVAdZkXDFVFp8p4SR4KYsImpdotLiRLDydHAO/PsoEhkUqx8SlRY3\n",
       "gl9WLQAqAotBkUExzSECnN6FuE9bXIqLfsCw+WnNCYsGdqzHsfYZUZnFr+hEAFVqwQpcA4v0wA8c\n",
       "awbEPIsFG4Y0N8ewJ1lwrNDiAmDZhy3ANi6KPFhkC44lhcQjmVh0AIZdeNQwDfOFCurEFhzTxVPq\n",
       "Tk4WfYDGtrZep182aKb60RGPY4VNnYatHz+PSbqlzzQ1FhhrTIgyXnHArbT0Tp+sWDDgCL1XRtxn\n",
       "quGWEOcdYg6WSoimRcxBxZ8tfjKV+AOw4HPcihJ12wAAAABJRU5ErkJggg==\n",
       "\" style=\"display:inline;vertical-align:middle;\" /></a></span><br>"
      ],
      "text/plain": [
       "nested_eval: {a} |- (a or [not](a)) = TRUE"
      ]
     },
     "execution_count": 53,
     "metadata": {},
     "output_type": "execute_result"
    }
   ],
   "source": [
    "nested_eval = Or(a, Not(a)).evaluation([a])"
   ]
  },
  {
   "cell_type": "code",
   "execution_count": 54,
   "metadata": {},
   "outputs": [
    {
     "data": {
      "text/html": [
       "<table><tr><th>&nbsp;</th><th>step type</th><th>requirements</th><th>statement</th></tr>\n",
       "<tr><td>0</td><td>specialization</td><td>1, 2</td><td><span style=\"font-size:20px;\"><a class=\"ProveItLink\" href=\"__pv_it/038b22050251ede45b893433c79956ac85a7a9420/expr.ipynb\"><img src=\"data:image/png;base64,iVBORw0KGgoAAAANSUhEUgAAAB0AAAAVBAMAAABI7vhRAAAAMFBMVEX///9ERETc3NyqqqpUVFS6\n",
       "urrMzMwyMjIQEBCIiIh2dnYiIiLu7u5mZmaYmJgAAABJJ2g3AAAAAXRSTlMAQObYZgAAAJxJREFU\n",
       "GNNjYGDgu8cABmyrFEAUzy4GKGBrBpGcH2B8husggqsBzl9BNl9lVoQClM9bwMDA2sQgD2S+B/Ez\n",
       "AhgY9B8wXAQy2S8wMKS0ARn+DAw7QXLiDxgYIhIYGD4y8HwDcrkXAAmWAgamnwzMH3ig+rk2MPB8\n",
       "BoqaIdlXx2B9YQESX2VmmGQAke7la0D1P89OePi0gim+xUjhBwAq6SrXD7q3xQAAAABJRU5ErkJg\n",
       "gg==\n",
       "\" style=\"display:inline;vertical-align:middle;\" /></a> <a class=\"ProveItLink\" href=\"__pv_it/b70e1400bfdd80f4ddddf8c677006e3fc464a8150/proof.ipynb\" style=\"text-decoration: none\">&#x22A2;&nbsp;</a><a class=\"ProveItLink\" href=\"__pv_it/6d2ac4dd905410f84fb9059af5c780d7d5e0ea4b0/expr.ipynb\"><img src=\"data:image/png;base64,iVBORw0KGgoAAAANSUhEUgAAAIQAAAAVBAMAAAB1UFtyAAAAMFBMVEX////c3NwiIiJERESqqqqY\n",
       "mJh2dnZmZmYQEBDu7u4yMjJUVFTMzMyIiIi6uroAAAAs73DqAAAAAXRSTlMAQObYZgAAAXFJREFU\n",
       "OMutUr9Lw1AQvrZJo01bM+ug6OAahO7dHHVylC7SSRERBycFZ+koLk0HkejiLAgBURGX/AFSSidx\n",
       "yuIqvtxdfj1e0gx+8L3wvnv53t27A/gHtP3Z4i4zBx8lRMMjZnG0GmINwE2uxhVPutJphynjLVxa\n",
       "ScqmF+1bcnE7TKXF3CDeN22xVAdZkXDFVFp8p4SR4KYsImpdotLiRLDydHAO/PsoEhkUqx8SlRY3\n",
       "gl9WLQAqAotBkUExzSECnN6FuE9bXIqLfsCw+WnNCYsGdqzHsfYZUZnFr+hEAFVqwQpcA4v0wA8c\n",
       "awbEPIsFG4Y0N8ewJ1lwrNDiAmDZhy3ANi6KPFhkC44lhcQjmVh0AIZdeNQwDfOFCurEFhzTxVPq\n",
       "Tk4WfYDGtrZep182aKb60RGPY4VNnYatHz+PSbqlzzQ1FhhrTIgyXnHArbT0Tp+sWDDgCL1XRtxn\n",
       "quGWEOcdYg6WSoimRcxBxZ8tfjKV+AOw4HPcihJ12wAAAABJRU5ErkJggg==\n",
       "\" style=\"display:inline;vertical-align:middle;\" /></a></span></td></tr>\n",
       "<tr><td>&nbsp;</td><td colspan=4 style=\"text-align:left\"><span style=\"font-size:20px;\"><a class=\"ProveItLink\" href=\"../../__pv_it/2cbe72a7ad6f655694dd697106680215e8489b600/expr.ipynb\"><img src=\"data:image/png;base64,iVBORw0KGgoAAAANSUhEUgAAAA8AAAAOBAMAAAACpFvcAAAALVBMVEX///8QEBBERERUVFS6urqI\n",
       "iIhmZmaqqqrc3Nzu7u6YmJgyMjIiIiLMzMwAAADtIaYWAAAAAXRSTlMAQObYZgAAAFtJREFUCNdj\n",
       "YACBOwxQsA9Kc52bAGG05zVAGAFxDmCaZULdAjBjCsO9ADDDgaEvAUTzGhvbKYCVMDAwbgAxChgY\n",
       "eASANAeQwf0AyJgNxEwvGRia5HYwcOm9TgAA6BoR3jrzwFcAAAAASUVORK5CYII=\n",
       "\" style=\"display:inline;vertical-align:middle;\" /></a> : <a class=\"ProveItLink\" href=\"__pv_it/4f11c1a56a7b5e9d47eb3f8d5bb742df11a4969d0/expr.ipynb\"><img src=\"data:image/png;base64,iVBORw0KGgoAAAANSUhEUgAAAEkAAAAVBAMAAAD4Ed5jAAAAMFBMVEX///8yMjKqqqrMzMzu7u4i\n",
       "IiJmZmaYmJhEREQQEBC6urp2dnaIiIhUVFTc3NwAAAD87Fq/AAAAAXRSTlMAQObYZgAAAR9JREFU\n",
       "KM9jYCAXcB1A4VZhV2WLymUzQDIATIIFRNB0CSCYvCAFPAdgBDKoRjCZG4AEqwOQ4HRAU+WJxJYD\n",
       "YjUQYyG6OzkUGBj47uyaxwBVAVLJkI2Qh8hxJzAwrHzA8YEBYhvYVgZxhCqIHJMAA993BjawJNDR\n",
       "vAtAjFlAz4eCwAaoHNcEBt4PDKwQTwUwOILpXzD/XIDKMX9g4G9g8IcEWxLDdjRVUDmgqvcHGPQZ\n",
       "wH5/CDQNBCbBVUHlgDb6KzBcZAIbxmsOsbkdrgoqxy7AwFjAFMYNEW2FBOc2mA8NoHLAkOC7c8ri\n",
       "FERUDEItRQousBzjAuQwNoFQnA/wxBAcsG9AE9iDNX2hpRwWAayq3qJyeR9gVcWHmsAOMzAAAIou\n",
       "RQSqz0xYAAAAAElFTkSuQmCC\n",
       "\" style=\"display:inline;vertical-align:middle;\" /></a></span></td></tr><tr><td>1</td><td>axiom</td><td></td><td><span style=\"font-size:20px;\"> <a class=\"ProveItLink\" href=\"../boolean/_axioms_.ipynb#eqTrueIntro\" style=\"text-decoration: none\">&#x22A2;&nbsp;</a><a class=\"ProveItLink\" href=\"../boolean/__pv_it/d0cb838f1f1e44deadf0499da151f8dae5a0de4f0/expr.ipynb\"><img src=\"data:image/png;base64,iVBORw0KGgoAAAANSUhEUgAAAIwAAAAXBAMAAAArT7qNAAAAMFBMVEX///8QEBC6urrMzMxUVFRm\n",
       "ZmZERETc3NwyMjKqqqp2dnaIiIiYmJgiIiLu7u4AAAAU9Wx4AAAAAXRSTlMAQObYZgAAAaxJREFU\n",
       "OMtjYKAOeEBYCdMG/PI8CgwMF0CM03iVmUAoW3Rx1rtgkMAQzMCwEiTQh9cYqGw/FinmABDJwcBQ\n",
       "BqTYE/CZwg3xE8/9B7iM4VnAwAGUZJ2AzxhGiPbK+AJcxvAJMPAsLy+vxesnDQi1Yb8CLmMYMhkY\n",
       "vqWl3cJrTBQkuh7MP4DTmKUMDM4MDOlgdjtEOUxFO4zRAyYfMdiDw4i1AwwcUIyZwcCgwsDXAA6n\n",
       "T2ARNlhi+AQzRghMKjDUB+B0jSIDAy8DN9i1T/+gGAPlAgHYPGYXF/8EnMbYA+PzAC84KtZdRTEG\n",
       "yoUZA/QrYwM+Y/gawKmUeUMasjEwLhBIgghgkuAVQEm6aJ5iSHcCsVgYYpGNgXGBIAeUQIHGcHzA\n",
       "6ZoTQDwVnK1OMuxHNgbGhcQmwwuQzD98Ec7ACIpIvquh+Q8QxsC5QKALzDHy7Qw8+T8wo4p5AZhq\n",
       "AkUtSD1rAYO9AcIYOBdkTQGhkoRPAMbSYWDgP4AwBs6FZDwCgAtWID35xsDufwduDIJLuBiBhhwa\n",
       "YMMUKiFkjDtRxrATKES5DYgyhhzAQpYuAAUAaqwIkhhoAAAAAElFTkSuQmCC\n",
       "\" style=\"display:inline;vertical-align:middle;\" /></a></span></td></tr>\n",
       "<tr><td>&nbsp;</td><td colspan=4 style-\"text-align:left\"><a class=\"ProveItLink\" href=\"../boolean/_axioms_.ipynb#eqTrueIntro\">proveit.logic.boolean.eqTrueIntro</a></td></tr><tr><td>2</td><td>specialization</td><td>3, 4</td><td><span style=\"font-size:20px;\"><a class=\"ProveItLink\" href=\"__pv_it/038b22050251ede45b893433c79956ac85a7a9420/expr.ipynb\"><img src=\"data:image/png;base64,iVBORw0KGgoAAAANSUhEUgAAAB0AAAAVBAMAAABI7vhRAAAAMFBMVEX///9ERETc3NyqqqpUVFS6\n",
       "urrMzMwyMjIQEBCIiIh2dnYiIiLu7u5mZmaYmJgAAABJJ2g3AAAAAXRSTlMAQObYZgAAAJxJREFU\n",
       "GNNjYGDgu8cABmyrFEAUzy4GKGBrBpGcH2B8husggqsBzl9BNl9lVoQClM9bwMDA2sQgD2S+B/Ez\n",
       "AhgY9B8wXAQy2S8wMKS0ARn+DAw7QXLiDxgYIhIYGD4y8HwDcrkXAAmWAgamnwzMH3ig+rk2MPB8\n",
       "BoqaIdlXx2B9YQESX2VmmGQAke7la0D1P89OePi0gim+xUjhBwAq6SrXD7q3xQAAAABJRU5ErkJg\n",
       "gg==\n",
       "\" style=\"display:inline;vertical-align:middle;\" /></a> <a class=\"ProveItLink\" href=\"__pv_it/0e564de9f9bb4be22fd6844cbbe35bbf827cca850/proof.ipynb\" style=\"text-decoration: none\">&#x22A2;&nbsp;</a><a class=\"ProveItLink\" href=\"__pv_it/4f11c1a56a7b5e9d47eb3f8d5bb742df11a4969d0/expr.ipynb\"><img src=\"data:image/png;base64,iVBORw0KGgoAAAANSUhEUgAAAEkAAAAVBAMAAAD4Ed5jAAAAMFBMVEX///8yMjKqqqrMzMzu7u4i\n",
       "IiJmZmaYmJhEREQQEBC6urp2dnaIiIhUVFTc3NwAAAD87Fq/AAAAAXRSTlMAQObYZgAAAR9JREFU\n",
       "KM9jYCAXcB1A4VZhV2WLymUzQDIATIIFRNB0CSCYvCAFPAdgBDKoRjCZG4AEqwOQ4HRAU+WJxJYD\n",
       "YjUQYyG6OzkUGBj47uyaxwBVAVLJkI2Qh8hxJzAwrHzA8YEBYhvYVgZxhCqIHJMAA993BjawJNDR\n",
       "vAtAjFlAz4eCwAaoHNcEBt4PDKwQTwUwOILpXzD/XIDKMX9g4G9g8IcEWxLDdjRVUDmgqvcHGPQZ\n",
       "wH5/CDQNBCbBVUHlgDb6KzBcZAIbxmsOsbkdrgoqxy7AwFjAFMYNEW2FBOc2mA8NoHLAkOC7c8ri\n",
       "FERUDEItRQousBzjAuQwNoFQnA/wxBAcsG9AE9iDNX2hpRwWAayq3qJyeR9gVcWHmsAOMzAAAIou\n",
       "RQSqz0xYAAAAAElFTkSuQmCC\n",
       "\" style=\"display:inline;vertical-align:middle;\" /></a></span></td></tr>\n",
       "<tr><td>&nbsp;</td><td colspan=4 style=\"text-align:left\"><span style=\"font-size:20px;\"><a class=\"ProveItLink\" href=\"../../__pv_it/2cbe72a7ad6f655694dd697106680215e8489b600/expr.ipynb\"><img src=\"data:image/png;base64,iVBORw0KGgoAAAANSUhEUgAAAA8AAAAOBAMAAAACpFvcAAAALVBMVEX///8QEBBERERUVFS6urqI\n",
       "iIhmZmaqqqrc3Nzu7u6YmJgyMjIiIiLMzMwAAADtIaYWAAAAAXRSTlMAQObYZgAAAFtJREFUCNdj\n",
       "YACBOwxQsA9Kc52bAGG05zVAGAFxDmCaZULdAjBjCsO9ADDDgaEvAUTzGhvbKYCVMDAwbgAxChgY\n",
       "eASANAeQwf0AyJgNxEwvGRia5HYwcOm9TgAA6BoR3jrzwFcAAAAASUVORK5CYII=\n",
       "\" style=\"display:inline;vertical-align:middle;\" /></a> : <a class=\"ProveItLink\" href=\"../../__pv_it/07527342713064c87612d00d8557c53d53d5324a0/expr.ipynb\"><img src=\"data:image/png;base64,iVBORw0KGgoAAAANSUhEUgAAAAsAAAAJBAMAAAAWSsseAAAAMFBMVEX///8yMjKqqqrMzMzu7u4i\n",
       "IiJmZmaYmJhEREQQEBC6urp2dnaIiIhUVFTc3NwAAAD87Fq/AAAAAXRSTlMAQObYZgAAAEhJREFU\n",
       "CNdjYOC7s2seAwPDygccHxgY+L4zsDUwMPB+YGA9wMDA38Dgb8DA8P4Agz6DA4O/AsNFJgMGxgKm\n",
       "MG6gyjunLE4xAAAZTBA5TB6DCwAAAABJRU5ErkJggg==\n",
       "\" style=\"display:inline;vertical-align:middle;\" /></a></span></td></tr><tr><td>3</td><td>theorem</td><td></td><td><span style=\"font-size:20px;\"> <a class=\"ProveItLink\" href=\"../boolean/_proofs_/unfoldInBool.ipynb\" style=\"text-decoration: none\">&#x22A2;&nbsp;</a><a class=\"ProveItLink\" href=\"../boolean/__pv_it/f3e4ac83929f0bec3f4ece5ccac055d5592377730/expr.ipynb\"><img src=\"data:image/png;base64,iVBORw0KGgoAAAANSUhEUgAAAJsAAAAVBAMAAACj9YEXAAAAMFBMVEX///8QEBC6urrMzMxUVFRm\n",
       "ZmZERETc3NwyMjKqqqp2dnaIiIiYmJgiIiLu7u4AAAAU9Wx4AAAAAXRSTlMAQObYZgAAAjRJREFU\n",
       "OMutVD1oFEEUfrnNZu9n77RLGuUQu4ikCNdYeJiApddcZ0QtNoVFrjJISNgmCCn0mvRXKSLIgmUK\n",
       "l4ABE4SziEXQcILaRCQEPIUEdd7fTS7Z1RR58M3sft/stzNv3gzA6Ubn3/LoCelVQRtfNtLcnCp3\n",
       "7URa34zqjjGeIfEozS7Lk8/uYlumbw/ROgjVkHHfdN7tNLsV7t7+xnaix6z0DSJ1nYE/cptpduep\n",
       "9ZZ/YlfBZtvSEqx+YvhPZ2fn09wyIXWFwh4tqgGQq1lagtWhJqMbBFtpdm6Lusu5A+zQCi2VlmA1\n",
       "X2OYjEwT/TBhJ2JsS2VnH2ShFUtLiJoLGRehRHP391j2l5YWdfgAbWYGvB+6MdeUnvpoYsuqmbOM\n",
       "IhTo6y845Z36TYhaOxfE7gzZjU9Odum1KH9mGhWrOruMQlykKnqxaZ7vLnw3dvlvfXamGeFUNvPx\n",
       "MTtR1a4UjlN5RgHAa3yKWqO3dLFYQTmDd1wSYdHSYqeqLhamKR+DMMWlDVH9nOZuCB8eGDzm94kN\n",
       "S4udqn7IgGU6kG/gFTgtnp17RYbjzlO6ZvhUVbZ7NJ9Wq2qhwECE271Zn+k474PgHuYur2XcBu/O\n",
       "rwas/VnkwqkprSeip2bLDPDxz24Dro6Vqjy7nh0MH7lJOok02EMmccnsVwzXZbFzSq8nn5YE+rmA\n",
       "4nMXvBsf4GuZyjiIj1xQKffW4bMRSpb74onJXd9tUU20O04PNhj/ibkT0i8ZfwHwzaFeUWDKCQAA\n",
       "AABJRU5ErkJggg==\n",
       "\" style=\"display:inline;vertical-align:middle;\" /></a></span></td></tr>\n",
       "<tr><td>&nbsp;</td><td colspan=4 style-\"text-align:left\"><a class=\"ProveItLink\" href=\"../boolean/_proofs_/unfoldInBool.ipynb\">proveit.logic.boolean.unfoldInBool</a></td></tr><tr><td>4</td><td>specialization</td><td>5, 6</td><td><span style=\"font-size:20px;\"><a class=\"ProveItLink\" href=\"__pv_it/038b22050251ede45b893433c79956ac85a7a9420/expr.ipynb\"><img src=\"data:image/png;base64,iVBORw0KGgoAAAANSUhEUgAAAB0AAAAVBAMAAABI7vhRAAAAMFBMVEX///9ERETc3NyqqqpUVFS6\n",
       "urrMzMwyMjIQEBCIiIh2dnYiIiLu7u5mZmaYmJgAAABJJ2g3AAAAAXRSTlMAQObYZgAAAJxJREFU\n",
       "GNNjYGDgu8cABmyrFEAUzy4GKGBrBpGcH2B8husggqsBzl9BNl9lVoQClM9bwMDA2sQgD2S+B/Ez\n",
       "AhgY9B8wXAQy2S8wMKS0ARn+DAw7QXLiDxgYIhIYGD4y8HwDcrkXAAmWAgamnwzMH3ig+rk2MPB8\n",
       "BoqaIdlXx2B9YQESX2VmmGQAke7la0D1P89OePi0gim+xUjhBwAq6SrXD7q3xQAAAABJRU5ErkJg\n",
       "gg==\n",
       "\" style=\"display:inline;vertical-align:middle;\" /></a> <a class=\"ProveItLink\" href=\"__pv_it/8a815d6c14306be1c253da5d3132450d006ae6dd0/proof.ipynb\" style=\"text-decoration: none\">&#x22A2;&nbsp;</a><a class=\"ProveItLink\" href=\"__pv_it/c9cdbe8505664f14b67f578621037db09de1ac2f0/expr.ipynb\"><img src=\"data:image/png;base64,iVBORw0KGgoAAAANSUhEUgAAADEAAAAPBAMAAAC/wjryAAAAMFBMVEX///8yMjKqqqrMzMzu7u4i\n",
       "IiJmZmaYmJhEREQQEBC6urp2dnaIiIhUVFTc3NwAAAD87Fq/AAAAAXRSTlMAQObYZgAAALxJREFU\n",
       "GNNjYMAAG3/IS0YoMGADDWtYRHbjkGE4xYgs4CMaGgiTUed1QEgwizsg6XkBpPnu7JoH4r9wQJjG\n",
       "HN4CpFc+4PgA4vch7Fka//MAUMt3BrYGIJelAdkFZzQYGHg/MLACFTBwTQ0NRbiAg2sDA38Dg78B\n",
       "yAEXkPVwMDQwvD/AoM8AtJwlAF3GX4HhIhNI03UUGaBpjAVMYdwgvusCJJmyEyDvnLI4BeLziRnA\n",
       "Q7R1LkqIMl2Eug0CAOhQOV/RyScUAAAAAElFTkSuQmCC\n",
       "\" style=\"display:inline;vertical-align:middle;\" /></a></span></td></tr>\n",
       "<tr><td>&nbsp;</td><td colspan=4 style=\"text-align:left\"><span style=\"font-size:20px;\"><a class=\"ProveItLink\" href=\"../../__pv_it/2cbe72a7ad6f655694dd697106680215e8489b600/expr.ipynb\"><img src=\"data:image/png;base64,iVBORw0KGgoAAAANSUhEUgAAAA8AAAAOBAMAAAACpFvcAAAALVBMVEX///8QEBBERERUVFS6urqI\n",
       "iIhmZmaqqqrc3Nzu7u6YmJgyMjIiIiLMzMwAAADtIaYWAAAAAXRSTlMAQObYZgAAAFtJREFUCNdj\n",
       "YACBOwxQsA9Kc52bAGG05zVAGAFxDmCaZULdAjBjCsO9ADDDgaEvAUTzGhvbKYCVMDAwbgAxChgY\n",
       "eASANAeQwf0AyJgNxEwvGRia5HYwcOm9TgAA6BoR3jrzwFcAAAAASUVORK5CYII=\n",
       "\" style=\"display:inline;vertical-align:middle;\" /></a> : <a class=\"ProveItLink\" href=\"../../__pv_it/07527342713064c87612d00d8557c53d53d5324a0/expr.ipynb\"><img src=\"data:image/png;base64,iVBORw0KGgoAAAANSUhEUgAAAAsAAAAJBAMAAAAWSsseAAAAMFBMVEX///8yMjKqqqrMzMzu7u4i\n",
       "IiJmZmaYmJhEREQQEBC6urp2dnaIiIhUVFTc3NwAAAD87Fq/AAAAAXRSTlMAQObYZgAAAEhJREFU\n",
       "CNdjYOC7s2seAwPDygccHxgY+L4zsDUwMPB+YGA9wMDA38Dgb8DA8P4Agz6DA4O/AsNFJgMGxgKm\n",
       "MG6gyjunLE4xAAAZTBA5TB6DCwAAAABJRU5ErkJggg==\n",
       "\" style=\"display:inline;vertical-align:middle;\" /></a></span></td></tr><tr><td>5</td><td>theorem</td><td></td><td><span style=\"font-size:20px;\"> <a class=\"ProveItLink\" href=\"../boolean/_proofs_/inBoolIfTrue.ipynb\" style=\"text-decoration: none\">&#x22A2;&nbsp;</a><a class=\"ProveItLink\" href=\"../boolean/__pv_it/cc0e652b3e50bfde974674c66b274bb1625600900/expr.ipynb\"><img src=\"data:image/png;base64,iVBORw0KGgoAAAANSUhEUgAAAIgAAAAXBAMAAAAipBr3AAAAMFBMVEX///8QEBC6urrMzMxUVFRm\n",
       "ZmZERETc3NwyMjKqqqp2dnaIiIiYmJgiIiLu7u4AAAAU9Wx4AAAAAXRSTlMAQObYZgAAAhdJREFU\n",
       "OMtjYKAGeECEGm18kjwKDAwXQIzTeM1gdoBQF1CFV3zrb7w2gYEhmIFhJYjfh9cQDohrOT6giSdo\n",
       "8/WtAoozMJQBeewJeA3ZDaHO/sMwhGET0ASeBWBrWCfgNUQOTLJP/Q7hvu69ewNmyByWBwx8Agw8\n",
       "y8vLa/GawdQApri5P0GCpucBkktAHslkYPiWlnYLryGsC8CUHucfMF32AOEd5jt5QHopA4MzA0M6\n",
       "WKwdYi88OAtgjAMgkk+B+TeYm44IE937HzcA6RkMDCoMfGD38kBcywZTcl4BymBUgBjO/hVsWAJy\n",
       "wO6eBqQVGRh4GbjBVj39g2IIX/wBKIsfbIiJi8s3sGGyd+8iApaNCehXe2CAHeAF+3LdVRRDuN4G\n",
       "oBgCJCSQUh7MEIYEsCF8DSZgyQ1pKIZYs8HczQhKAJxAfBHswgsYhiiCQsoJJMLCEItiiAMrTDUb\n",
       "yF+VQNwP5vqgGALyzgkgeypY9UmG/ciG8EzghqVyrgAGSNjng739VgHJkKPbIFHMwAiKJr6roRA1\n",
       "UEPehobBUjnTBQb2xB8FDMf+t4JTbqsBPAPmioC82gSyFKSZtYDB3gDJkHAG5s8wG8VREx+nBzR2\n",
       "YPEoAGPpAGPhAMIQJiD7D0zuFP7ShmsDlPHkGwO7/x24IXz+CQwlfw+gFgW4wAtMITZMIXYHvIa4\n",
       "E2UIQzU+M7gNiDOEZMBChh4Aa/SCMsrS/6MAAAAASUVORK5CYII=\n",
       "\" style=\"display:inline;vertical-align:middle;\" /></a></span></td></tr>\n",
       "<tr><td>&nbsp;</td><td colspan=4 style-\"text-align:left\"><a class=\"ProveItLink\" href=\"../boolean/_proofs_/inBoolIfTrue.ipynb\">proveit.logic.boolean.inBoolIfTrue</a></td></tr><tr><td>6</td><td>assumption</td><td></td><td><span style=\"font-size:20px;\"><a class=\"ProveItLink\" href=\"__pv_it/038b22050251ede45b893433c79956ac85a7a9420/expr.ipynb\"><img src=\"data:image/png;base64,iVBORw0KGgoAAAANSUhEUgAAAB0AAAAVBAMAAABI7vhRAAAAMFBMVEX///9ERETc3NyqqqpUVFS6\n",
       "urrMzMwyMjIQEBCIiIh2dnYiIiLu7u5mZmaYmJgAAABJJ2g3AAAAAXRSTlMAQObYZgAAAJxJREFU\n",
       "GNNjYGDgu8cABmyrFEAUzy4GKGBrBpGcH2B8husggqsBzl9BNl9lVoQClM9bwMDA2sQgD2S+B/Ez\n",
       "AhgY9B8wXAQy2S8wMKS0ARn+DAw7QXLiDxgYIhIYGD4y8HwDcrkXAAmWAgamnwzMH3ig+rk2MPB8\n",
       "BoqaIdlXx2B9YQESX2VmmGQAke7la0D1P89OePi0gim+xUjhBwAq6SrXD7q3xQAAAABJRU5ErkJg\n",
       "gg==\n",
       "\" style=\"display:inline;vertical-align:middle;\" /></a> <a class=\"ProveItLink\" href=\"__pv_it/bda1b6115b6dded0e75c210b29768bd99b1386740/proof.ipynb\" style=\"text-decoration: none\">&#x22A2;&nbsp;</a><a class=\"ProveItLink\" href=\"../../__pv_it/07527342713064c87612d00d8557c53d53d5324a0/expr.ipynb\"><img src=\"data:image/png;base64,iVBORw0KGgoAAAANSUhEUgAAAAsAAAAJBAMAAAAWSsseAAAAMFBMVEX///8yMjKqqqrMzMzu7u4i\n",
       "IiJmZmaYmJhEREQQEBC6urp2dnaIiIhUVFTc3NwAAAD87Fq/AAAAAXRSTlMAQObYZgAAAEhJREFU\n",
       "CNdjYOC7s2seAwPDygccHxgY+L4zsDUwMPB+YGA9wMDA38Dgb8DA8P4Agz6DA4O/AsNFJgMGxgKm\n",
       "MG6gyjunLE4xAAAZTBA5TB6DCwAAAABJRU5ErkJggg==\n",
       "\" style=\"display:inline;vertical-align:middle;\" /></a></span></td></tr>\n",
       "</table>"
      ],
      "text/plain": [
       "\tstep type\trequirements\tstatement\n",
       "0\tspecialization\t1, 2\t{a} |- (a or [not](a)) = TRUE\n",
       "\tA : a or [not](a)\n",
       "1\taxiom\t\t|- forall_{A | A} (A = TRUE)\n",
       "\tproveit.logic.boolean.eqTrueIntro\n",
       "2\tspecialization\t3, 4\t{a} |- a or [not](a)\n",
       "\tA : a\n",
       "3\ttheorem\t\t|- forall_{A in BOOLEANS} (A or [not](A))\n",
       "\tproveit.logic.boolean.unfoldInBool\n",
       "4\tspecialization\t5, 6\t{a} |- a in BOOLEANS\n",
       "\tA : a\n",
       "5\ttheorem\t\t|- forall_{A | A} (A in BOOLEANS)\n",
       "\tproveit.logic.boolean.inBoolIfTrue\n",
       "6\tassumption\t\t{a} |- a"
      ]
     },
     "execution_count": 54,
     "metadata": {},
     "output_type": "execute_result"
    }
   ],
   "source": [
    "nested_eval.proof()"
   ]
  },
  {
   "cell_type": "markdown",
   "metadata": {},
   "source": [
    "## Boolean equality\n",
    "\n",
    "Equality with `TRUE` ($\\top$) or `FALSE` ($\\bot$) has special logical consequences.  The `Equals` object has automation capabilities to treat these special kinds of equations."
   ]
  },
  {
   "cell_type": "code",
   "execution_count": 55,
   "metadata": {},
   "outputs": [
    {
     "data": {
      "text/html": [
       "<a class=\"ProveItLink\" href=\"../boolean/__pv_it/68a87cc3370287d726c7086ace789e680e4461c30/expr.ipynb\"><img src=\"data:image/png;base64,iVBORw0KGgoAAAANSUhEUgAAAA4AAAAOBAMAAADtZjDiAAAAFVBMVEX///92dnbMzMxEREQiIiJm\n",
       "ZmYAAABAT6GXAAAAAXRSTlMAQObYZgAAABhJREFUCNdjCHEBAWcGIFBlgABa0YpADAAxegPJJk4d\n",
       "XAAAAABJRU5ErkJggg==\n",
       "\" style=\"display:inline;vertical-align:middle;\" /></a>"
      ],
      "text/plain": [
       "TRUE"
      ]
     },
     "execution_count": 55,
     "metadata": {},
     "output_type": "execute_result"
    }
   ],
   "source": [
    "TRUE"
   ]
  },
  {
   "cell_type": "code",
   "execution_count": 56,
   "metadata": {},
   "outputs": [
    {
     "data": {
      "text/html": [
       "<a class=\"ProveItLink\" href=\"../boolean/__pv_it/8f1f7fac882de28c72b62ab80a1700b6d8fd066b0/expr.ipynb\"><img src=\"data:image/png;base64,iVBORw0KGgoAAAANSUhEUgAAAA4AAAAOBAMAAADtZjDiAAAAG1BMVEX///9EREQQEBAiIiJmZmbM\n",
       "zMyIiIjc3NwAAACryk5kAAAAAXRSTlMAQObYZgAAABlJREFUCNdjYGBgKGOAgBBa0s7GxkbGxoYA\n",
       "FMUF2aBfHgoAAAAASUVORK5CYII=\n",
       "\" style=\"display:inline;vertical-align:middle;\" /></a>"
      ],
      "text/plain": [
       "FALSE"
      ]
     },
     "execution_count": 56,
     "metadata": {},
     "output_type": "execute_result"
    }
   ],
   "source": [
    "FALSE"
   ]
  },
  {
   "cell_type": "markdown",
   "metadata": {},
   "source": [
    "Proofs via boolean equality are automatic via `Equals.deduceSideEffects`:"
   ]
  },
  {
   "cell_type": "code",
   "execution_count": 57,
   "metadata": {},
   "outputs": [
    {
     "data": {
      "text/html": [
       "<span style=\"font-size:20px;\"><a class=\"ProveItLink\" href=\"__pv_it/d812d660848db1cc11a626d47239538f88eb2ca80/expr.ipynb\"><img src=\"data:image/png;base64,iVBORw0KGgoAAAANSUhEUgAAAEkAAAAVBAMAAAD4Ed5jAAAAMFBMVEX///9ERETc3NyqqqpUVFS6\n",
       "urrMzMwyMjIQEBCIiIh2dnYiIiLu7u5mZmaYmJgAAABJJ2g3AAAAAXRSTlMAQObYZgAAALpJREFU\n",
       "KM9jYGDgu8eAB7CtUgBRPLsY8AK2ZhDJ+QGrJO9uMBBgYLgO4nI14DTlAphaMYCqVGZFKOBVxVvA\n",
       "wMDaxCAPZpeDgQOKqvcgIiOAgUH/AcNFnDayA6mUNiDDn4FhJ05VDOIPGBgiEhgYPjLwfMOpinsB\n",
       "kGApYGD6ycD8gQclwNHdxbWBgeczUK0ZwZCoY7C+sICgKpWZYZIBmKoWEBP2UECCKj5CqsDpi2cn\n",
       "gbTaCqb4FhNM9wC0jkGaQwagvAAAAABJRU5ErkJggg==\n",
       "\" style=\"display:inline;vertical-align:middle;\" /></a> <a class=\"ProveItLink\" href=\"__pv_it/d657cba3bbe5a114391ab10ca55b704197de691a0/proof.ipynb\" style=\"text-decoration: none\">&#x22A2;&nbsp;</a><a class=\"ProveItLink\" href=\"../../__pv_it/07527342713064c87612d00d8557c53d53d5324a0/expr.ipynb\"><img src=\"data:image/png;base64,iVBORw0KGgoAAAANSUhEUgAAAAsAAAAJBAMAAAAWSsseAAAAMFBMVEX///8yMjKqqqrMzMzu7u4i\n",
       "IiJmZmaYmJhEREQQEBC6urp2dnaIiIhUVFTc3NwAAAD87Fq/AAAAAXRSTlMAQObYZgAAAEhJREFU\n",
       "CNdjYOC7s2seAwPDygccHxgY+L4zsDUwMPB+YGA9wMDA38Dgb8DA8P4Agz6DA4O/AsNFJgMGxgKm\n",
       "MG6gyjunLE4xAAAZTBA5TB6DCwAAAABJRU5ErkJggg==\n",
       "\" style=\"display:inline;vertical-align:middle;\" /></a></span>"
      ],
      "text/plain": [
       "{a = TRUE} |- a"
      ]
     },
     "execution_count": 57,
     "metadata": {},
     "output_type": "execute_result"
    }
   ],
   "source": [
    "a.prove([Equals(a, TRUE)])"
   ]
  },
  {
   "cell_type": "code",
   "execution_count": 58,
   "metadata": {},
   "outputs": [
    {
     "data": {
      "text/html": [
       "<table><tr><th>&nbsp;</th><th>step type</th><th>requirements</th><th>statement</th></tr>\n",
       "<tr><td>0</td><td>specialization</td><td>1, 2</td><td><span style=\"font-size:20px;\"><a class=\"ProveItLink\" href=\"__pv_it/d812d660848db1cc11a626d47239538f88eb2ca80/expr.ipynb\"><img src=\"data:image/png;base64,iVBORw0KGgoAAAANSUhEUgAAAEkAAAAVBAMAAAD4Ed5jAAAAMFBMVEX///9ERETc3NyqqqpUVFS6\n",
       "urrMzMwyMjIQEBCIiIh2dnYiIiLu7u5mZmaYmJgAAABJJ2g3AAAAAXRSTlMAQObYZgAAALpJREFU\n",
       "KM9jYGDgu8eAB7CtUgBRPLsY8AK2ZhDJ+QGrJO9uMBBgYLgO4nI14DTlAphaMYCqVGZFKOBVxVvA\n",
       "wMDaxCAPZpeDgQOKqvcgIiOAgUH/AcNFnDayA6mUNiDDn4FhJ05VDOIPGBgiEhgYPjLwfMOpinsB\n",
       "kGApYGD6ycD8gQclwNHdxbWBgeczUK0ZwZCoY7C+sICgKpWZYZIBmKoWEBP2UECCKj5CqsDpi2cn\n",
       "gbTaCqb4FhNM9wC0jkGaQwagvAAAAABJRU5ErkJggg==\n",
       "\" style=\"display:inline;vertical-align:middle;\" /></a> <a class=\"ProveItLink\" href=\"__pv_it/d657cba3bbe5a114391ab10ca55b704197de691a0/proof.ipynb\" style=\"text-decoration: none\">&#x22A2;&nbsp;</a><a class=\"ProveItLink\" href=\"../../__pv_it/07527342713064c87612d00d8557c53d53d5324a0/expr.ipynb\"><img src=\"data:image/png;base64,iVBORw0KGgoAAAANSUhEUgAAAAsAAAAJBAMAAAAWSsseAAAAMFBMVEX///8yMjKqqqrMzMzu7u4i\n",
       "IiJmZmaYmJhEREQQEBC6urp2dnaIiIhUVFTc3NwAAAD87Fq/AAAAAXRSTlMAQObYZgAAAEhJREFU\n",
       "CNdjYOC7s2seAwPDygccHxgY+L4zsDUwMPB+YGA9wMDA38Dgb8DA8P4Agz6DA4O/AsNFJgMGxgKm\n",
       "MG6gyjunLE4xAAAZTBA5TB6DCwAAAABJRU5ErkJggg==\n",
       "\" style=\"display:inline;vertical-align:middle;\" /></a></span></td></tr>\n",
       "<tr><td>&nbsp;</td><td colspan=4 style=\"text-align:left\"><span style=\"font-size:20px;\"><a class=\"ProveItLink\" href=\"../../__pv_it/2cbe72a7ad6f655694dd697106680215e8489b600/expr.ipynb\"><img src=\"data:image/png;base64,iVBORw0KGgoAAAANSUhEUgAAAA8AAAAOBAMAAAACpFvcAAAALVBMVEX///8QEBBERERUVFS6urqI\n",
       "iIhmZmaqqqrc3Nzu7u6YmJgyMjIiIiLMzMwAAADtIaYWAAAAAXRSTlMAQObYZgAAAFtJREFUCNdj\n",
       "YACBOwxQsA9Kc52bAGG05zVAGAFxDmCaZULdAjBjCsO9ADDDgaEvAUTzGhvbKYCVMDAwbgAxChgY\n",
       "eASANAeQwf0AyJgNxEwvGRia5HYwcOm9TgAA6BoR3jrzwFcAAAAASUVORK5CYII=\n",
       "\" style=\"display:inline;vertical-align:middle;\" /></a> : <a class=\"ProveItLink\" href=\"../../__pv_it/07527342713064c87612d00d8557c53d53d5324a0/expr.ipynb\"><img src=\"data:image/png;base64,iVBORw0KGgoAAAANSUhEUgAAAAsAAAAJBAMAAAAWSsseAAAAMFBMVEX///8yMjKqqqrMzMzu7u4i\n",
       "IiJmZmaYmJhEREQQEBC6urp2dnaIiIhUVFTc3NwAAAD87Fq/AAAAAXRSTlMAQObYZgAAAEhJREFU\n",
       "CNdjYOC7s2seAwPDygccHxgY+L4zsDUwMPB+YGA9wMDA38Dgb8DA8P4Agz6DA4O/AsNFJgMGxgKm\n",
       "MG6gyjunLE4xAAAZTBA5TB6DCwAAAABJRU5ErkJggg==\n",
       "\" style=\"display:inline;vertical-align:middle;\" /></a></span></td></tr><tr><td>1</td><td>axiom</td><td></td><td><span style=\"font-size:20px;\"> <a class=\"ProveItLink\" href=\"../boolean/_axioms_.ipynb#eqTrueElim\" style=\"text-decoration: none\">&#x22A2;&nbsp;</a><a class=\"ProveItLink\" href=\"../boolean/__pv_it/3e7bd867633eab3d515d0929d36506bc9b5772e10/expr.ipynb\"><img src=\"data:image/png;base64,iVBORw0KGgoAAAANSUhEUgAAAGgAAAAWBAMAAADeGsQjAAAAMFBMVEX///8QEBC6urrMzMxUVFRm\n",
       "ZmZERETc3NwyMjKqqqp2dnaIiIiYmJgiIiLu7u4AAAAU9Wx4AAAAAXRSTlMAQObYZgAAAUpJREFU\n",
       "OMtjeMBABrgAIk6ToIEZqGMliNFHgiaODwwMZUCaPYEETWf/ATUCPcU6gXg97FO/MzDwLC8vryXB\n",
       "Im7uT0DyW1raLRI06XH+AZLODAzpYG47mGSCe7gAmx4+BebfQEqFga8BxOX5BBZlg0mfV4AyWNPS\n",
       "xNKyoBwmBvavQIqXgfsAiPv0D4omvvgDCPMRoWvi4vIN5LMDvOBUse4qiiautwHYNAGtlwAZ2WAC\n",
       "jugNaSiarNkSsGjiBOKLIEa6E4hkYYhF0eTAeoHBowMINiBrqgTifhBjKjj5nWTYj6yJZwL3B0yb\n",
       "wEGWD/INI8gsvquhYA5M09vQsH8YmtgTfxQwHPvfCjIUpJi1gMHeAElTOAPzZ4YMDOehAh0GBv4D\n",
       "CE1MQPYfbKGHDJ58Y2D3vwPXxOefwFDy9wABTQjARk5Opp8mFiLUAADNR1FAr8G4iQAAAABJRU5E\n",
       "rkJggg==\n",
       "\" style=\"display:inline;vertical-align:middle;\" /></a></span></td></tr>\n",
       "<tr><td>&nbsp;</td><td colspan=4 style-\"text-align:left\"><a class=\"ProveItLink\" href=\"../boolean/_axioms_.ipynb#eqTrueElim\">proveit.logic.boolean.eqTrueElim</a></td></tr><tr><td>2</td><td>assumption</td><td></td><td><span style=\"font-size:20px;\"><a class=\"ProveItLink\" href=\"__pv_it/d812d660848db1cc11a626d47239538f88eb2ca80/expr.ipynb\"><img src=\"data:image/png;base64,iVBORw0KGgoAAAANSUhEUgAAAEkAAAAVBAMAAAD4Ed5jAAAAMFBMVEX///9ERETc3NyqqqpUVFS6\n",
       "urrMzMwyMjIQEBCIiIh2dnYiIiLu7u5mZmaYmJgAAABJJ2g3AAAAAXRSTlMAQObYZgAAALpJREFU\n",
       "KM9jYGDgu8eAB7CtUgBRPLsY8AK2ZhDJ+QGrJO9uMBBgYLgO4nI14DTlAphaMYCqVGZFKOBVxVvA\n",
       "wMDaxCAPZpeDgQOKqvcgIiOAgUH/AcNFnDayA6mUNiDDn4FhJ05VDOIPGBgiEhgYPjLwfMOpinsB\n",
       "kGApYGD6ycD8gQclwNHdxbWBgeczUK0ZwZCoY7C+sICgKpWZYZIBmKoWEBP2UECCKj5CqsDpi2cn\n",
       "gbTaCqb4FhNM9wC0jkGaQwagvAAAAABJRU5ErkJggg==\n",
       "\" style=\"display:inline;vertical-align:middle;\" /></a> <a class=\"ProveItLink\" href=\"__pv_it/3da386e6edc797442e7eb8f7f3e6d0ddc0dfc4050/proof.ipynb\" style=\"text-decoration: none\">&#x22A2;&nbsp;</a><a class=\"ProveItLink\" href=\"__pv_it/010a0b4ed65170ff59b94421ba092ff4be357c5f0/expr.ipynb\"><img src=\"data:image/png;base64,iVBORw0KGgoAAAANSUhEUgAAADYAAAAOBAMAAACWQvIuAAAAMFBMVEX///8yMjKqqqrMzMzu7u4i\n",
       "IiJmZmaYmJhEREQQEBC6urp2dnaIiIhUVFTc3NwAAAD87Fq/AAAAAXRSTlMAQObYZgAAAGZJREFU\n",
       "GNNjYMACUkNBIIIBBzBjwA0ok+O7s2seLrmVDzg+gOhEQRCQRZbj+87A1oBDH+8HBtYDOOT4Gxj8\n",
       "DXDIvT/AoM/ggBEYYDl/BYaLTAbY9TEWMIVx4zCT784pi1OYctZADADpMhibXKUQvgAAAABJRU5E\n",
       "rkJggg==\n",
       "\" style=\"display:inline;vertical-align:middle;\" /></a></span></td></tr>\n",
       "</table>"
      ],
      "text/plain": [
       "\tstep type\trequirements\tstatement\n",
       "0\tspecialization\t1, 2\t{a = TRUE} |- a\n",
       "\tA : a\n",
       "1\taxiom\t\t|- forall_{A | A = TRUE} A\n",
       "\tproveit.logic.boolean.eqTrueElim\n",
       "2\tassumption\t\t{a = TRUE} |- a = TRUE"
      ]
     },
     "execution_count": 58,
     "metadata": {},
     "output_type": "execute_result"
    }
   ],
   "source": [
    "a.prove([Equals(a, TRUE)]).proof()"
   ]
  },
  {
   "cell_type": "code",
   "execution_count": 59,
   "metadata": {},
   "outputs": [
    {
     "data": {
      "text/html": [
       "<span style=\"font-size:20px;\"><a class=\"ProveItLink\" href=\"__pv_it/bba780317c90b488db4aef31636ec81cfae313020/expr.ipynb\"><img src=\"data:image/png;base64,iVBORw0KGgoAAAANSUhEUgAAAEcAAAAVBAMAAADm2O7QAAAAMFBMVEX////c3NxERESqqqpUVFS6\n",
       "urrMzMwyMjIQEBCIiIh2dnYiIiLu7u5mZmaYmJgAAABXZE4RAAAAAXRSTlMAQObYZgAAAMZJREFU\n",
       "KM9jYGDgu8eAG7CtEgBRPLsY8AG2ZhDJ+YGB4Ug3FmnGCWDqOojgagASJdjMuACmVsAVfSZCEesf\n",
       "IhRxbSBCEbvnlAd4FfEWMDCcV2D4BmKWg4EDiqL3ICIjgIHB/gBDFy6T2IFUShskLP7iUsSgDnRJ\n",
       "RAIDw14G1n+4FHEvABIsBaBg4gUFAu9uMFDAdBPI+98YOBYQDAJnhiuEw+nIXPRgAtncDbYZEXd4\n",
       "APGK+AgoAqcnnp34U2YrmOJbTCiNAwCbhUePL7OC4wAAAABJRU5ErkJggg==\n",
       "\" style=\"display:inline;vertical-align:middle;\" /></a> <a class=\"ProveItLink\" href=\"__pv_it/0788b756f433861088abc70e1da4de45bdd44e7d0/proof.ipynb\" style=\"text-decoration: none\">&#x22A2;&nbsp;</a><a class=\"ProveItLink\" href=\"__pv_it/c0fc114fcacc8e9fdeb995863ab29be961e5f4380/expr.ipynb\"><img src=\"data:image/png;base64,iVBORw0KGgoAAAANSUhEUgAAABYAAAAOBAMAAADZH/H+AAAALVBMVEX///9ERESYmJiIiIi6urqq\n",
       "qqoyMjIQEBDu7u5UVFTMzMx2dnYiIiJmZmYAAAC5u2vBAAAAAXRSTlMAQObYZgAAAFlJREFUCNdj\n",
       "YICAzhoGBMhEYj9FMFleINjcBxBstsmWCjB2nwDDK4Y7Z4DgNENcA0M1RHQlwzUGhrcw9lkGlkcw\n",
       "9lMG3hcw9isG9g0QNhfDVIabcPM7bRUYALuiGKiQ/Uk/AAAAAElFTkSuQmCC\n",
       "\" style=\"display:inline;vertical-align:middle;\" /></a></span>"
      ],
      "text/plain": [
       "{b = FALSE} |- [not](b)"
      ]
     },
     "execution_count": 59,
     "metadata": {},
     "output_type": "execute_result"
    }
   ],
   "source": [
    "Not(b).prove([Equals(b, FALSE)])"
   ]
  },
  {
   "cell_type": "code",
   "execution_count": 60,
   "metadata": {},
   "outputs": [
    {
     "data": {
      "text/html": [
       "<table><tr><th>&nbsp;</th><th>step type</th><th>requirements</th><th>statement</th></tr>\n",
       "<tr><td>0</td><td>specialization</td><td>1, 2</td><td><span style=\"font-size:20px;\"><a class=\"ProveItLink\" href=\"__pv_it/bba780317c90b488db4aef31636ec81cfae313020/expr.ipynb\"><img src=\"data:image/png;base64,iVBORw0KGgoAAAANSUhEUgAAAEcAAAAVBAMAAADm2O7QAAAAMFBMVEX////c3NxERESqqqpUVFS6\n",
       "urrMzMwyMjIQEBCIiIh2dnYiIiLu7u5mZmaYmJgAAABXZE4RAAAAAXRSTlMAQObYZgAAAMZJREFU\n",
       "KM9jYGDgu8eAG7CtEgBRPLsY8AG2ZhDJ+YGB4Ug3FmnGCWDqOojgagASJdjMuACmVsAVfSZCEesf\n",
       "IhRxbSBCEbvnlAd4FfEWMDCcV2D4BmKWg4EDiqL3ICIjgIHB/gBDFy6T2IFUShskLP7iUsSgDnRJ\n",
       "RAIDw14G1n+4FHEvABIsBaBg4gUFAu9uMFDAdBPI+98YOBYQDAJnhiuEw+nIXPRgAtncDbYZEXd4\n",
       "APGK+AgoAqcnnp34U2YrmOJbTCiNAwCbhUePL7OC4wAAAABJRU5ErkJggg==\n",
       "\" style=\"display:inline;vertical-align:middle;\" /></a> <a class=\"ProveItLink\" href=\"__pv_it/0788b756f433861088abc70e1da4de45bdd44e7d0/proof.ipynb\" style=\"text-decoration: none\">&#x22A2;&nbsp;</a><a class=\"ProveItLink\" href=\"__pv_it/c0fc114fcacc8e9fdeb995863ab29be961e5f4380/expr.ipynb\"><img src=\"data:image/png;base64,iVBORw0KGgoAAAANSUhEUgAAABYAAAAOBAMAAADZH/H+AAAALVBMVEX///9ERESYmJiIiIi6urqq\n",
       "qqoyMjIQEBDu7u5UVFTMzMx2dnYiIiJmZmYAAAC5u2vBAAAAAXRSTlMAQObYZgAAAFlJREFUCNdj\n",
       "YICAzhoGBMhEYj9FMFleINjcBxBstsmWCjB2nwDDK4Y7Z4DgNENcA0M1RHQlwzUGhrcw9lkGlkcw\n",
       "9lMG3hcw9isG9g0QNhfDVIabcPM7bRUYALuiGKiQ/Uk/AAAAAElFTkSuQmCC\n",
       "\" style=\"display:inline;vertical-align:middle;\" /></a></span></td></tr>\n",
       "<tr><td>&nbsp;</td><td colspan=4 style=\"text-align:left\"><span style=\"font-size:20px;\"><a class=\"ProveItLink\" href=\"../../__pv_it/2cbe72a7ad6f655694dd697106680215e8489b600/expr.ipynb\"><img src=\"data:image/png;base64,iVBORw0KGgoAAAANSUhEUgAAAA8AAAAOBAMAAAACpFvcAAAALVBMVEX///8QEBBERERUVFS6urqI\n",
       "iIhmZmaqqqrc3Nzu7u6YmJgyMjIiIiLMzMwAAADtIaYWAAAAAXRSTlMAQObYZgAAAFtJREFUCNdj\n",
       "YACBOwxQsA9Kc52bAGG05zVAGAFxDmCaZULdAjBjCsO9ADDDgaEvAUTzGhvbKYCVMDAwbgAxChgY\n",
       "eASANAeQwf0AyJgNxEwvGRia5HYwcOm9TgAA6BoR3jrzwFcAAAAASUVORK5CYII=\n",
       "\" style=\"display:inline;vertical-align:middle;\" /></a> : <a class=\"ProveItLink\" href=\"../../__pv_it/6840a4fa6c106149dc16a131294d0c5e44f1b0480/expr.ipynb\"><img src=\"data:image/png;base64,iVBORw0KGgoAAAANSUhEUgAAAAkAAAAOBAMAAAAPuiubAAAALVBMVEX///9mZmbMzMxERESYmJiI\n",
       "iIh2dna6urqqqqoyMjIiIiIQEBBUVFTu7u4AAAD9S1JeAAAAAXRSTlMAQObYZgAAAE1JREFUCNdj\n",
       "4D29gAEIOA+ASL4GEFl3AURmgQiGOaFHGBh4HzPwKTBwvGXgTmBgnMDAJ8DAJcBQ5wBSLncBJLWN\n",
       "gYGngRFoBO9REQYGAGrcDtUkVqASAAAAAElFTkSuQmCC\n",
       "\" style=\"display:inline;vertical-align:middle;\" /></a></span></td></tr><tr><td>1</td><td>axiom</td><td></td><td><span style=\"font-size:20px;\"> <a class=\"ProveItLink\" href=\"../boolean/negation/_axioms_.ipynb#negationIntro\" style=\"text-decoration: none\">&#x22A2;&nbsp;</a><a class=\"ProveItLink\" href=\"../boolean/negation/__pv_it/799eb3b565b99e60491a24b404f1db01d8e6476d0/expr.ipynb\"><img src=\"data:image/png;base64,iVBORw0KGgoAAAANSUhEUgAAAIUAAAAXBAMAAADXWpFHAAAAMFBMVEX///8QEBC6urrMzMxUVFRm\n",
       "ZmZERETc3NwyMjKqqqp2dnaIiIiYmJgiIiLu7u4AAAAU9Wx4AAAAAXRSTlMAQObYZgAAActJREFU\n",
       "OMtjYKACeECacm10gUNAfAHEOE2sEcwOKDygZlYDBoaVIE4fsWZwoDib4wOQaGBgKANS7AnEmrEb\n",
       "hXf2H5A4BTGZdQKxZsghc9infgeSDxkYeJaXl9cSawRTAzKPm/sTkGQDOuBbWtotYs1gXYDM0+P8\n",
       "AyS5AhgYnBkY0sFC7RCr4AFWgCVIDyBx+BSYfwMpTqDbVBj4wC7k+QSWYYMpOa+AUA4Lc0agWOxd\n",
       "ILgFto39K4gSYGDgZeAGm/70D4oZfPEHMM3gh5lrAsIuLt9AiQQYwdwHeMGRvu4qihlcbwMImAFk\n",
       "S0DN4GswAae5DWkoZlizJWDxywSEGZxA6iLULwzpTiBRFoZYFDMcWC8weHQAwQYkM9gOIMyoBFL9\n",
       "oHAEheZUcJY5ybAf2QyeCdwfMN3BBfMfMyQi8h9AxRhBNvFdDc1/gGTG29Cwf5hmMF2Ap9HEHwUM\n",
       "x/63AuMbFEY8IL2sBQz2BkhmhDMwf2bIQPcLgzhmmnkIZ+kAA/0AwgwmIPsPpjtAGQwdrIYxnnxj\n",
       "YPe/AzeDzz+BoeQvNABZ09LE0rKw5X2w0gZMY9nwZhh2B3QRlgJSzWCoRhfYzECyGUQBFtK1AAB+\n",
       "a2tdy7eWbQAAAABJRU5ErkJggg==\n",
       "\" style=\"display:inline;vertical-align:middle;\" /></a></span></td></tr>\n",
       "<tr><td>&nbsp;</td><td colspan=4 style-\"text-align:left\"><a class=\"ProveItLink\" href=\"../boolean/negation/_axioms_.ipynb#negationIntro\">proveit.logic.boolean.negation.negationIntro</a></td></tr><tr><td>2</td><td>assumption</td><td></td><td><span style=\"font-size:20px;\"><a class=\"ProveItLink\" href=\"__pv_it/bba780317c90b488db4aef31636ec81cfae313020/expr.ipynb\"><img src=\"data:image/png;base64,iVBORw0KGgoAAAANSUhEUgAAAEcAAAAVBAMAAADm2O7QAAAAMFBMVEX////c3NxERESqqqpUVFS6\n",
       "urrMzMwyMjIQEBCIiIh2dnYiIiLu7u5mZmaYmJgAAABXZE4RAAAAAXRSTlMAQObYZgAAAMZJREFU\n",
       "KM9jYGDgu8eAG7CtEgBRPLsY8AG2ZhDJ+YGB4Ug3FmnGCWDqOojgagASJdjMuACmVsAVfSZCEesf\n",
       "IhRxbSBCEbvnlAd4FfEWMDCcV2D4BmKWg4EDiqL3ICIjgIHB/gBDFy6T2IFUShskLP7iUsSgDnRJ\n",
       "RAIDw14G1n+4FHEvABIsBaBg4gUFAu9uMFDAdBPI+98YOBYQDAJnhiuEw+nIXPRgAtncDbYZEXd4\n",
       "APGK+AgoAqcnnp34U2YrmOJbTCiNAwCbhUePL7OC4wAAAABJRU5ErkJggg==\n",
       "\" style=\"display:inline;vertical-align:middle;\" /></a> <a class=\"ProveItLink\" href=\"__pv_it/0734cd597fd9f061f8dce6aded2e84631c77a8220/proof.ipynb\" style=\"text-decoration: none\">&#x22A2;&nbsp;</a><a class=\"ProveItLink\" href=\"__pv_it/ea5143681b70bb6b9af52183697ea513402159430/expr.ipynb\"><img src=\"data:image/png;base64,iVBORw0KGgoAAAANSUhEUgAAADQAAAAOBAMAAACStyITAAAAMFBMVEX////c3NxmZmbMzMxERESY\n",
       "mJiIiIh2dna6urqqqqoyMjIiIiIQEBBUVFTu7u4AAAAiO1wTAAAAAXRSTlMAQObYZgAAAG9JREFU\n",
       "GNNj4LuzgQETiIFJrgtYpIzAJP8EnFL9D3BKVTPglFqbdhWHFN8XBn4DIK21CgTWIktx/mPgKcCu\n",
       "i2kBA78CdiluBYb+AOxSQG/pg5yvvRsEtqBIGTAcx+FC3glMF3A5/poqujjQ7D1AswGgLSBVSP3x\n",
       "iQAAAABJRU5ErkJggg==\n",
       "\" style=\"display:inline;vertical-align:middle;\" /></a></span></td></tr>\n",
       "</table>"
      ],
      "text/plain": [
       "\tstep type\trequirements\tstatement\n",
       "0\tspecialization\t1, 2\t{b = FALSE} |- [not](b)\n",
       "\tA : b\n",
       "1\taxiom\t\t|- forall_{A | A = FALSE} [not](A)\n",
       "\tproveit.logic.boolean.negation.negationIntro\n",
       "2\tassumption\t\t{b = FALSE} |- b = FALSE"
      ]
     },
     "execution_count": 60,
     "metadata": {},
     "output_type": "execute_result"
    }
   ],
   "source": [
    "Not(b).prove([Equals(b, FALSE)]).proof()"
   ]
  },
  {
   "cell_type": "markdown",
   "metadata": {},
   "source": [
    "Going the other direction, boolean equalities are proven automatically via `Equals.conclude`:"
   ]
  },
  {
   "cell_type": "code",
   "execution_count": 61,
   "metadata": {},
   "outputs": [
    {
     "data": {
      "text/html": [
       "<span style=\"font-size:20px;\"><a class=\"ProveItLink\" href=\"__pv_it/de27bb4dfb854e77047939b59118c118f4822fdc0/expr.ipynb\"><img src=\"data:image/png;base64,iVBORw0KGgoAAAANSUhEUgAAAB8AAAAVBAMAAABMGyhsAAAAMFBMVEX///9ERETc3NyqqqpUVFS6\n",
       "urrMzMwyMjIQEBCIiIh2dnYiIiLu7u5mZmaYmJgAAABJJ2g3AAAAAXRSTlMAQObYZgAAAJ5JREFU\n",
       "GNNjYGDgu8cAAWyrFEAUzy4GGGBrBpGcH+ACDNdBBFcDQmAFJQJaU5TnToAK8BYArV7At49jAwPD\n",
       "e5BARgBQFdBy5gQGBvYLDAwpbSDHMbAIgA0Rf8DAEJEAYnFMAJHcC4AESwGIqZ/AcABqBhfQMD6F\n",
       "+QycB5CstX8gwaCJ7I6Ds06tfEC80/ka0MKDZycixFrBFN9i5DAFABG/KycTh4UTAAAAAElFTkSu\n",
       "QmCC\n",
       "\" style=\"display:inline;vertical-align:middle;\" /></a> <a class=\"ProveItLink\" href=\"__pv_it/bdab398822f317dab4586b54307a22f13dfdd1f80/proof.ipynb\" style=\"text-decoration: none\">&#x22A2;&nbsp;</a><a class=\"ProveItLink\" href=\"__pv_it/d88446bda6251b81cae18abb007becdae1660fcc0/expr.ipynb\"><img src=\"data:image/png;base64,iVBORw0KGgoAAAANSUhEUgAAADYAAAAOBAMAAACWQvIuAAAALVBMVEX///8yMjJERETMzMwQEBAi\n",
       "IiKYmJju7u5mZmaqqqpUVFSIiIh2dnbc3NwAAAASYyFDAAAAAXRSTlMAQObYZgAAAGNJREFUGNNj\n",
       "YMACWkNBIIgBB7BgwA0ok7uz6+aODdjl2A+whbEEABmNgiAghSzHw8D9gNMAhz4GLgXcbmHZgFvu\n",
       "ngFDAUZggOXYLuxj4C7Arm9eggrDbRxmFu2pOZ2AKWcDxACZnhiPmt9tJgAAAABJRU5ErkJggg==\n",
       "\" style=\"display:inline;vertical-align:middle;\" /></a></span>"
      ],
      "text/plain": [
       "{x} |- x = TRUE"
      ]
     },
     "execution_count": 61,
     "metadata": {},
     "output_type": "execute_result"
    }
   ],
   "source": [
    "Equals(x, TRUE).prove([x])"
   ]
  },
  {
   "cell_type": "code",
   "execution_count": 62,
   "metadata": {},
   "outputs": [
    {
     "data": {
      "text/html": [
       "<span style=\"font-size:20px;\"><a class=\"ProveItLink\" href=\"__pv_it/b018c57488e247ab3cea238187256e393fa21f440/expr.ipynb\"><img src=\"data:image/png;base64,iVBORw0KGgoAAAANSUhEUgAAAB0AAAAVBAMAAABI7vhRAAAAMFBMVEX///9ERETc3NyqqqpUVFS6\n",
       "urrMzMwyMjIQEBCIiIh2dnYiIiLu7u5mZmaYmJgAAABJJ2g3AAAAAXRSTlMAQObYZgAAAKlJREFU\n",
       "GNNjYGDgu8cABmyrFEAUzy4GKGBrBpGcH2B8husggqsBzl9BLv/ULQamP1A+bwEDw4J4sDXvQfyM\n",
       "AAY2g9sMjAIMDOwXGBhS2oBOYuhk4J8AlBN/wMAQkcDAwPyHIR9IcS8AirEUgM2YwQDVz7UBrFEE\n",
       "2T5eB9Z/yHweybmfUN0H0oXgezOcMIDx+YD8XQxScP/z7GRgsJwbAAqfVrCv+BYjhR8AhFYukUvA\n",
       "dnQAAAAASUVORK5CYII=\n",
       "\" style=\"display:inline;vertical-align:middle;\" /></a> <a class=\"ProveItLink\" href=\"__pv_it/1f7710ee0e3f3555ebbc00c57d620e3415e804ba0/proof.ipynb\" style=\"text-decoration: none\">&#x22A2;&nbsp;</a><a class=\"ProveItLink\" href=\"__pv_it/05b68b3505890645fcc43c93158793dd1fd37e1c0/expr.ipynb\"><img src=\"data:image/png;base64,iVBORw0KGgoAAAANSUhEUgAAADYAAAASBAMAAADiVjDOAAAAMFBMVEX///+YmJgQEBCqqqqIiIi6\n",
       "urrc3Nzu7u5UVFQyMjJ2dnbMzMxEREQiIiJmZmYAAAApt8ZhAAAAAXRSTlMAQObYZgAAAHhJREFU\n",
       "GNNjeHsXBO4w4AD7GHADOslVvWJg+44s93ImCMwAMRfEM7B8wK6P2+AtA88B7HLsDCoM/A447GP+\n",
       "zrB/A7IcUhDxTWBwwuVOzgcMJ3DJ8TWwfgQzdmHKsR/x+4Y7QLgu4JLpZSgywCV3i+EUThNN/AIY\n",
       "GACl5S4j8+fABwAAAABJRU5ErkJggg==\n",
       "\" style=\"display:inline;vertical-align:middle;\" /></a></span>"
      ],
      "text/plain": [
       "{y} |- TRUE = y"
      ]
     },
     "execution_count": 62,
     "metadata": {},
     "output_type": "execute_result"
    }
   ],
   "source": [
    "Equals(TRUE, y).prove([y])"
   ]
  },
  {
   "cell_type": "code",
   "execution_count": 63,
   "metadata": {},
   "outputs": [
    {
     "data": {
      "text/html": [
       "<span style=\"font-size:20px;\"><a class=\"ProveItLink\" href=\"__pv_it/870acf44e504d1aea64ddfbe15d244c3c662ace40/expr.ipynb\"><img src=\"data:image/png;base64,iVBORw0KGgoAAAANSUhEUgAAACkAAAAVBAMAAAAp9toTAAAAMFBMVEX////c3NxERESqqqpUVFS6\n",
       "urrMzMwyMjIQEBCIiIh2dnYiIiLu7u5mZmaYmJgAAABXZE4RAAAAAXRSTlMAQObYZgAAAJ1JREFU\n",
       "GNNjYGDgu8eABNhWCYAonl0MKICtGURyfkAVZbgOIrga0ERXUF/01MppUFHeAoSjWhmqGRjeg5gZ\n",
       "AQwMt3cDwS6GExMY9BgY2C8wMKS0wVSmMPhDGOoPGBgiEuCin8A09wIgwQIzN4XxJ5gGm8u1Aa72\n",
       "HzCo0F3GxuDLwLAM0728K2ceIMPHfA3YwpdnJ1pctIIpvsUY8QYA32ktvW1k32wAAAAASUVORK5C\n",
       "YII=\n",
       "\" style=\"display:inline;vertical-align:middle;\" /></a> <a class=\"ProveItLink\" href=\"__pv_it/2510a0a07eeb10c5700233239dc3af7b2ceb83630/proof.ipynb\" style=\"text-decoration: none\">&#x22A2;&nbsp;</a><a class=\"ProveItLink\" href=\"__pv_it/6f5e6341c27315fc2630666055a4b75282de13320/expr.ipynb\"><img src=\"data:image/png;base64,iVBORw0KGgoAAAANSUhEUgAAADQAAAAOBAMAAACStyITAAAALVBMVEX///9mZmbc3NxUVFSYmJhE\n",
       "REQiIiIyMjK6uroQEBDMzMyIiIh2dnbu7u4AAABgFDGoAAAAAXRSTlMAQObYZgAAAFRJREFUGNNj\n",
       "YMAKtBlwgoW0keI9s3sBDqmVDewJQEq8HASKkaV4ZzOwOmDXxfwAp118ATil9DZAOGJpIJCKogto\n",
       "ES67BBh4cDleZvdeNHGg2ZlAswFdEhk7IOv9VgAAAABJRU5ErkJggg==\n",
       "\" style=\"display:inline;vertical-align:middle;\" /></a></span>"
      ],
      "text/plain": [
       "{[not](c)} |- c = FALSE"
      ]
     },
     "execution_count": 63,
     "metadata": {},
     "output_type": "execute_result"
    }
   ],
   "source": [
    "Equals(c, FALSE).prove([Not(c)])"
   ]
  },
  {
   "cell_type": "code",
   "execution_count": 64,
   "metadata": {},
   "outputs": [
    {
     "data": {
      "text/html": [
       "<span style=\"font-size:20px;\"><a class=\"ProveItLink\" href=\"__pv_it/870acf44e504d1aea64ddfbe15d244c3c662ace40/expr.ipynb\"><img src=\"data:image/png;base64,iVBORw0KGgoAAAANSUhEUgAAACkAAAAVBAMAAAAp9toTAAAAMFBMVEX////c3NxERESqqqpUVFS6\n",
       "urrMzMwyMjIQEBCIiIh2dnYiIiLu7u5mZmaYmJgAAABXZE4RAAAAAXRSTlMAQObYZgAAAJ1JREFU\n",
       "GNNjYGDgu8eABNhWCYAonl0MKICtGURyfkAVZbgOIrga0ERXUF/01MppUFHeAoSjWhmqGRjeg5gZ\n",
       "AQwMt3cDwS6GExMY9BgY2C8wMKS0wVSmMPhDGOoPGBgiEuCin8A09wIgwQIzN4XxJ5gGm8u1Aa72\n",
       "HzCo0F3GxuDLwLAM0728K2ceIMPHfA3YwpdnJ1pctIIpvsUY8QYA32ktvW1k32wAAAAASUVORK5C\n",
       "YII=\n",
       "\" style=\"display:inline;vertical-align:middle;\" /></a> <a class=\"ProveItLink\" href=\"__pv_it/73eea84adda1c491926f770693a212fb619f557f0/proof.ipynb\" style=\"text-decoration: none\">&#x22A2;&nbsp;</a><a class=\"ProveItLink\" href=\"__pv_it/4dc769856bfe2be0c7bf2fc5ac0bd0e68a66c5050/expr.ipynb\"><img src=\"data:image/png;base64,iVBORw0KGgoAAAANSUhEUgAAADQAAAAOBAMAAACStyITAAAALVBMVEX///+YmJi6urp2dnbu7u5U\n",
       "VFQyMjJEREQQEBAiIiJmZmbMzMyIiIjc3NwAAADkzqgeAAAAAXRSTlMAQObYZgAAAFJJREFUGNNj\n",
       "YGBguMOAE+waYClnm9PIUsvSQCAVxORuYsjEocvjAEMhDqk43HY9R5NaORMEpgNZvG9w63rIwMCI\n",
       "QyqKgcEaZMoMiCnIgMvmjAMASfYd11j0X5oAAAAASUVORK5CYII=\n",
       "\" style=\"display:inline;vertical-align:middle;\" /></a></span>"
      ],
      "text/plain": [
       "{[not](c)} |- FALSE = c"
      ]
     },
     "execution_count": 64,
     "metadata": {},
     "output_type": "execute_result"
    }
   ],
   "source": [
    "Equals(FALSE, c).prove([Not(c)])"
   ]
  },
  {
   "cell_type": "markdown",
   "metadata": {},
   "source": [
    "When something is equal to `FALSE` and known to be true, there is a contradiction.  That is, `FALSE` is a consequence.  The `deriveContradiction` method of `Equals` can be used to prove such a contradiction:"
   ]
  },
  {
   "cell_type": "code",
   "execution_count": 65,
   "metadata": {},
   "outputs": [
    {
     "data": {
      "text/html": [
       "<strong id=\"contradiction\">contradiction:</strong> <span style=\"font-size:20px;\"><a class=\"ProveItLink\" href=\"__pv_it/325ff338f97a3de249c65eb24df14e8372d93f080/expr.ipynb\"><img src=\"data:image/png;base64,iVBORw0KGgoAAAANSUhEUgAAAF0AAAAVBAMAAADWVP/xAAAAMFBMVEX///9ERETc3NyqqqpUVFS6\n",
       "urrMzMwyMjIQEBCIiIh2dnYiIiLu7u5mZmaYmJgAAABJJ2g3AAAAAXRSTlMAQObYZgAAAOxJREFU\n",
       "KM9jYGDgu8dAFGBbpQCieHYxEAnYmkEk5wfCKpkmgKnrIIKrgQiTL4CpFYNWvcqsCAWIFIKFQz1v\n",
       "AQMDaxODPEQGxuItBwMHFPXvQURGAAOD/gOGixAZBAuL+exAKqUNyPBnYNgJkUGwsKhnEH/AwBCR\n",
       "wMDwkYHnG0QEwcKinnsBkGApYGD6ycD8gQcckTAW724wEMB0P9cGBp7PQF1mDAcYYCxC4VnHYH1h\n",
       "Ac9vBiiLoHqVmWGSATz9ClAWqmKQ07rBTkOLX1YFAtGMpp6PgRj1fMSrB6d/Hnj8TCCU6lohxi4m\n",
       "If8CAHDhUqhRjwCQAAAAAElFTkSuQmCC\n",
       "\" style=\"display:inline;vertical-align:middle;\" /></a> <a class=\"ProveItLink\" href=\"__pv_it/3be292983da84f0244d30187eccf8889567f919b0/proof.ipynb\" style=\"text-decoration: none\">&#x22A2;&nbsp;</a><a class=\"ProveItLink\" href=\"../boolean/__pv_it/8f1f7fac882de28c72b62ab80a1700b6d8fd066b0/expr.ipynb\"><img src=\"data:image/png;base64,iVBORw0KGgoAAAANSUhEUgAAAA4AAAAOBAMAAADtZjDiAAAAG1BMVEX///9EREQQEBAiIiJmZmbM\n",
       "zMyIiIjc3NwAAACryk5kAAAAAXRSTlMAQObYZgAAABlJREFUCNdjYGBgKGOAgBBa0s7GxkbGxoYA\n",
       "FMUF2aBfHgoAAAAASUVORK5CYII=\n",
       "\" style=\"display:inline;vertical-align:middle;\" /></a></span><br>"
      ],
      "text/plain": [
       "contradiction: {a , a = FALSE} |- FALSE"
      ]
     },
     "execution_count": 65,
     "metadata": {},
     "output_type": "execute_result"
    }
   ],
   "source": [
    "contradiction = Equals(a, FALSE).deriveContradiction([a, Equals(a, FALSE)])"
   ]
  },
  {
   "cell_type": "code",
   "execution_count": 66,
   "metadata": {},
   "outputs": [
    {
     "data": {
      "text/html": [
       "<table><tr><th>&nbsp;</th><th>step type</th><th>requirements</th><th>statement</th></tr>\n",
       "<tr><td>0</td><td>specialization</td><td>1, 2, 3</td><td><span style=\"font-size:20px;\"><a class=\"ProveItLink\" href=\"__pv_it/325ff338f97a3de249c65eb24df14e8372d93f080/expr.ipynb\"><img src=\"data:image/png;base64,iVBORw0KGgoAAAANSUhEUgAAAF0AAAAVBAMAAADWVP/xAAAAMFBMVEX///9ERETc3NyqqqpUVFS6\n",
       "urrMzMwyMjIQEBCIiIh2dnYiIiLu7u5mZmaYmJgAAABJJ2g3AAAAAXRSTlMAQObYZgAAAOxJREFU\n",
       "KM9jYGDgu8dAFGBbpQCieHYxEAnYmkEk5wfCKpkmgKnrIIKrgQiTL4CpFYNWvcqsCAWIFIKFQz1v\n",
       "AQMDaxODPEQGxuItBwMHFPXvQURGAAOD/gOGixAZBAuL+exAKqUNyPBnYNgJkUGwsKhnEH/AwBCR\n",
       "wMDwkYHnG0QEwcKinnsBkGApYGD6ycD8gQcckTAW724wEMB0P9cGBp7PQF1mDAcYYCxC4VnHYH1h\n",
       "Ac9vBiiLoHqVmWGSATz9ClAWqmKQ07rBTkOLX1YFAtGMpp6PgRj1fMSrB6d/Hnj8TCCU6lohxi4m\n",
       "If8CAHDhUqhRjwCQAAAAAElFTkSuQmCC\n",
       "\" style=\"display:inline;vertical-align:middle;\" /></a> <a class=\"ProveItLink\" href=\"__pv_it/3be292983da84f0244d30187eccf8889567f919b0/proof.ipynb\" style=\"text-decoration: none\">&#x22A2;&nbsp;</a><a class=\"ProveItLink\" href=\"../boolean/__pv_it/8f1f7fac882de28c72b62ab80a1700b6d8fd066b0/expr.ipynb\"><img src=\"data:image/png;base64,iVBORw0KGgoAAAANSUhEUgAAAA4AAAAOBAMAAADtZjDiAAAAG1BMVEX///9EREQQEBAiIiJmZmbM\n",
       "zMyIiIjc3NwAAACryk5kAAAAAXRSTlMAQObYZgAAABlJREFUCNdjYGBgKGOAgBBa0s7GxkbGxoYA\n",
       "FMUF2aBfHgoAAAAASUVORK5CYII=\n",
       "\" style=\"display:inline;vertical-align:middle;\" /></a></span></td></tr>\n",
       "<tr><td>&nbsp;</td><td colspan=4 style=\"text-align:left\"><span style=\"font-size:20px;\"><a class=\"ProveItLink\" href=\"../../__pv_it/2cbe72a7ad6f655694dd697106680215e8489b600/expr.ipynb\"><img src=\"data:image/png;base64,iVBORw0KGgoAAAANSUhEUgAAAA8AAAAOBAMAAAACpFvcAAAALVBMVEX///8QEBBERERUVFS6urqI\n",
       "iIhmZmaqqqrc3Nzu7u6YmJgyMjIiIiLMzMwAAADtIaYWAAAAAXRSTlMAQObYZgAAAFtJREFUCNdj\n",
       "YACBOwxQsA9Kc52bAGG05zVAGAFxDmCaZULdAjBjCsO9ADDDgaEvAUTzGhvbKYCVMDAwbgAxChgY\n",
       "eASANAeQwf0AyJgNxEwvGRia5HYwcOm9TgAA6BoR3jrzwFcAAAAASUVORK5CYII=\n",
       "\" style=\"display:inline;vertical-align:middle;\" /></a> : <a class=\"ProveItLink\" href=\"../../__pv_it/07527342713064c87612d00d8557c53d53d5324a0/expr.ipynb\"><img src=\"data:image/png;base64,iVBORw0KGgoAAAANSUhEUgAAAAsAAAAJBAMAAAAWSsseAAAAMFBMVEX///8yMjKqqqrMzMzu7u4i\n",
       "IiJmZmaYmJhEREQQEBC6urp2dnaIiIhUVFTc3NwAAAD87Fq/AAAAAXRSTlMAQObYZgAAAEhJREFU\n",
       "CNdjYOC7s2seAwPDygccHxgY+L4zsDUwMPB+YGA9wMDA38Dgb8DA8P4Agz6DA4O/AsNFJgMGxgKm\n",
       "MG6gyjunLE4xAAAZTBA5TB6DCwAAAABJRU5ErkJggg==\n",
       "\" style=\"display:inline;vertical-align:middle;\" /></a></span></td></tr><tr><td>1</td><td>theorem</td><td></td><td><span style=\"font-size:20px;\"> <a class=\"ProveItLink\" href=\"_proofs_/contradictionViaFalsification.ipynb\" style=\"text-decoration: none\">&#x22A2;&nbsp;</a><a class=\"ProveItLink\" href=\"__pv_it/711406ee4de4210b672a89c5c3b44d688a3bf5740/expr.ipynb\"><img src=\"data:image/png;base64,iVBORw0KGgoAAAANSUhEUgAAAHoAAAAWBAMAAAD9QZX2AAAAMFBMVEX///8QEBC6urrMzMxUVFRm\n",
       "ZmZERETc3NwyMjKqqqp2dnaIiIiYmJgiIiLu7u4AAAAU9Wx4AAAAAXRSTlMAQObYZgAAAUBJREFU\n",
       "OMtjeMBACbgAIk6TobEaRKwEEX1k6DYFEWVAzJ5Arm4OoMdZJ5Crm2d5eXktA7m6Gb6lpd0iX7cz\n",
       "A0M6mNEOJplgshwFUEY7Pt0qDHwNYC98AnPZYLLnFSA0VBxVEq6bl4H7AIh++gdFAV/8AQgDKo5D\n",
       "N/cBXnB6W3cVRQHX2wAIAyqOQzdfgwmIYt6QhqLAmg2SCGDiOHQzpDuBSBaGWBQFDqzgNAwWZ+kA\n",
       "gm7suqeClZ1k2I+sm2cC9wcGZHFcdjNuALn/amj+AyQFb0PD/jEgi6Pqjr179+Ldu9dA1oBkWQsY\n",
       "7A2QFIQzMH9mgImzYXM5MtBhYOA/gNDNBGT/YagoQIhjuBwJPPnGwO5/B66Azz+BoeTvAfsDCHEg\n",
       "CEtLTEtbgDf5ohh/gNTEj6ybuYAS3TwkZzwWUhQDAGnNVZlqQOU7AAAAAElFTkSuQmCC\n",
       "\" style=\"display:inline;vertical-align:middle;\" /></a></span></td></tr>\n",
       "<tr><td>&nbsp;</td><td colspan=4 style-\"text-align:left\"><a class=\"ProveItLink\" href=\"_proofs_/contradictionViaFalsification.ipynb\">proveit.logic.equality.contradictionViaFalsification</a></td></tr><tr><td>2</td><td>assumption</td><td></td><td><span style=\"font-size:20px;\"><a class=\"ProveItLink\" href=\"__pv_it/038b22050251ede45b893433c79956ac85a7a9420/expr.ipynb\"><img src=\"data:image/png;base64,iVBORw0KGgoAAAANSUhEUgAAAB0AAAAVBAMAAABI7vhRAAAAMFBMVEX///9ERETc3NyqqqpUVFS6\n",
       "urrMzMwyMjIQEBCIiIh2dnYiIiLu7u5mZmaYmJgAAABJJ2g3AAAAAXRSTlMAQObYZgAAAJxJREFU\n",
       "GNNjYGDgu8cABmyrFEAUzy4GKGBrBpGcH2B8husggqsBzl9BNl9lVoQClM9bwMDA2sQgD2S+B/Ez\n",
       "AhgY9B8wXAQy2S8wMKS0ARn+DAw7QXLiDxgYIhIYGD4y8HwDcrkXAAmWAgamnwzMH3ig+rk2MPB8\n",
       "BoqaIdlXx2B9YQESX2VmmGQAke7la0D1P89OePi0gim+xUjhBwAq6SrXD7q3xQAAAABJRU5ErkJg\n",
       "gg==\n",
       "\" style=\"display:inline;vertical-align:middle;\" /></a> <a class=\"ProveItLink\" href=\"__pv_it/bda1b6115b6dded0e75c210b29768bd99b1386740/proof.ipynb\" style=\"text-decoration: none\">&#x22A2;&nbsp;</a><a class=\"ProveItLink\" href=\"../../__pv_it/07527342713064c87612d00d8557c53d53d5324a0/expr.ipynb\"><img src=\"data:image/png;base64,iVBORw0KGgoAAAANSUhEUgAAAAsAAAAJBAMAAAAWSsseAAAAMFBMVEX///8yMjKqqqrMzMzu7u4i\n",
       "IiJmZmaYmJhEREQQEBC6urp2dnaIiIhUVFTc3NwAAAD87Fq/AAAAAXRSTlMAQObYZgAAAEhJREFU\n",
       "CNdjYOC7s2seAwPDygccHxgY+L4zsDUwMPB+YGA9wMDA38Dgb8DA8P4Agz6DA4O/AsNFJgMGxgKm\n",
       "MG6gyjunLE4xAAAZTBA5TB6DCwAAAABJRU5ErkJggg==\n",
       "\" style=\"display:inline;vertical-align:middle;\" /></a></span></td></tr>\n",
       "<tr><td>3</td><td>assumption</td><td></td><td><span style=\"font-size:20px;\"><a class=\"ProveItLink\" href=\"__pv_it/8a49238840bf5b1543226c17dfdba655445554620/expr.ipynb\"><img src=\"data:image/png;base64,iVBORw0KGgoAAAANSUhEUgAAAEkAAAAVBAMAAAD4Ed5jAAAAMFBMVEX///9ERETc3NyqqqpUVFS6\n",
       "urrMzMwyMjIQEBCIiIh2dnYiIiLu7u5mZmaYmJgAAABJJ2g3AAAAAXRSTlMAQObYZgAAAL9JREFU\n",
       "KM9jYGDgu8eAB7CtUgBRPLsY8AK2ZhDJ+QGXPNMEMHUdRHA14DTlAphaMYCqVGZFKOBVxVvAwMDa\n",
       "xCAPZpeDgQOKqvcgIiOAgUH/AcNFnDayA6mUNiDDn4FhJ05VDOIPGBgiEhgYPjLwfMOpinsBkGAp\n",
       "YGD6ycD8gQfkrt1gIIDpLq4NDDyfgWrNCIZEHYP1hQUEVanMDJMMQFUCsrwbbDmBsIcCElTxEVIF\n",
       "Tl88Owmk1VYwxbeYYLoHAOvgQVbwn3x3AAAAAElFTkSuQmCC\n",
       "\" style=\"display:inline;vertical-align:middle;\" /></a> <a class=\"ProveItLink\" href=\"__pv_it/093ae107e41431e8cfc4cf1f29074d37d089de6c0/proof.ipynb\" style=\"text-decoration: none\">&#x22A2;&nbsp;</a><a class=\"ProveItLink\" href=\"__pv_it/93f275e9bdc8087619bf7a3734a390a91df084c10/expr.ipynb\"><img src=\"data:image/png;base64,iVBORw0KGgoAAAANSUhEUgAAADYAAAAOBAMAAACWQvIuAAAAMFBMVEX///8yMjKqqqrMzMzu7u4i\n",
       "IiJmZmaYmJhEREQQEBC6urp2dnaIiIhUVFTc3NwAAAD87Fq/AAAAAXRSTlMAQObYZgAAAGZJREFU\n",
       "GNNjYMAO3jDgBmY0k+O7s2seLrmVDzg+gOhEQRCQRZbj+87A1oBDH+8HBtYDOOT4Gxj8DXDIvT/A\n",
       "oM/gAGSkhoJABLKcvwLDRSYD7PoYC5jCuHGYyXfnlMUpNAmg8ZFA4wHScBlQMGMH1QAAAABJRU5E\n",
       "rkJggg==\n",
       "\" style=\"display:inline;vertical-align:middle;\" /></a></span></td></tr>\n",
       "</table>"
      ],
      "text/plain": [
       "\tstep type\trequirements\tstatement\n",
       "0\tspecialization\t1, 2, 3\t{a , a = FALSE} |- FALSE\n",
       "\tA : a\n",
       "1\ttheorem\t\t|- forall_{A | A , A = FALSE} FALSE\n",
       "\tproveit.logic.equality.contradictionViaFalsification\n",
       "2\tassumption\t\t{a} |- a\n",
       "3\tassumption\t\t{a = FALSE} |- a = FALSE"
      ]
     },
     "execution_count": 66,
     "metadata": {},
     "output_type": "execute_result"
    }
   ],
   "source": [
    "contradiction.proof()"
   ]
  },
  {
   "cell_type": "markdown",
   "metadata": {},
   "source": [
    "Contradictions are useful in making contradiction proofs (reductio ad absurdum).  The `affirmViaContradiction` and `denyViaContradiction` methods are useful in making such a proof.  They both use `deriveContradiction`.  For example:"
   ]
  },
  {
   "cell_type": "code",
   "execution_count": 67,
   "metadata": {},
   "outputs": [
    {
     "data": {
      "text/html": [
       "<strong id=\"not_a__truth\">not_a__truth:</strong> <span style=\"font-size:20px;\"><a class=\"ProveItLink\" href=\"__pv_it/8a90a31dce9903b447aa35090ab7273e5f8e692f0/expr.ipynb\"><img src=\"data:image/png;base64,iVBORw0KGgoAAAANSUhEUgAAAMMAAAAVBAMAAAAJNkerAAAAMFBMVEX///9ERETc3NyqqqpUVFS6\n",
       "urrMzMwyMjIQEBCIiIh2dnYiIiLu7u5mZmaYmJgAAABJJ2g3AAAAAXRSTlMAQObYZgAAAkZJREFU\n",
       "SMdjYGDgu8dAK8C2SgFE8ezCqYJ1Aj79T4mxoxlEcn7AqSAFl4QmiOBNwG308o/1FRsNgIzrIB5X\n",
       "A06FNbgkcsFkAR7nC0Ty1KwC0iuwW3EASnNOwG/FK7xWMExlx20FzPEcB/BbcQJTgmf67t0FUCvs\n",
       "WA7gtCIESocz4LeC0QBDIv0Nki8UUXyhMitCAa6OCxpAtxjQZVCt4LoA4zN5Lm0C0zKIgGLbJwOz\n",
       "ghfoMdYmBnkwezcY/IUoq2NAyFwvB4ESFCuY4fEdocAITpeMcNcIRO//AXLpexAnI4CBQf8Bw0Uk\n",
       "RzKXgqlWBgwZFCtYYUHM9I+BVwDEOIgc3TMNgTQ70KcpbUCGPwPDTmQjjoNMZ/iKRQbZCjZYjmL5\n",
       "wMANDtwIUBjAopuRdQGQIf4AKAzMQR8ZeL4h58mqAzAr0GSwW8EvwHA+ATWvgqxgAPqMG2QNSwED\n",
       "008G5g88iLjYCEmtwMwPl7kNkcAeUPoTGOzBuek0hhXguODawMDzGWiRGSIqHCC0HAO6DKov+EBB\n",
       "ArL/vAGDOzPIGywPkK0ABRQ80dYxWF9YADdAHUqvZUCXwZJoz28AxukD5r1c4Jy3FcmKtxOR84XK\n",
       "zDDJALgBQlA6mgFdBgyAYbYDHGbsIIkTn0DZYmriVIjrrsGLQekWA9wFCKwE5VDAX1JDCpAgFDGT\n",
       "6t0opeMK/CUt3wL8VqwEkw/wqgFbwUdGYQ4p8gqIsAJcX/DsxCmvglc3CzgcOfHXeq2Q8FiMSwET\n",
       "3op1GpF1NwDDtataF2xCMwAAAABJRU5ErkJggg==\n",
       "\" style=\"display:inline;vertical-align:middle;\" /></a> <a class=\"ProveItLink\" href=\"__pv_it/76d6627303144ad8074b44cf1b8533c59527533b0/proof.ipynb\" style=\"text-decoration: none\">&#x22A2;&nbsp;</a><a class=\"ProveItLink\" href=\"__pv_it/90850a12a72aaf97c847e825fb82a6804e84d9be0/expr.ipynb\"><img src=\"data:image/png;base64,iVBORw0KGgoAAAANSUhEUgAAABgAAAAJBAMAAADa0/H1AAAAMFBMVEX///8yMjKqqqru7u6YmJhE\n",
       "REQQEBC6urqIiIjc3NxUVFTMzMx2dnYiIiJmZmYAAADYs2HGAAAAAXRSTlMAQObYZgAAAE9JREFU\n",
       "CNdjYICCWT1lE2Bs9kyGeAaGt3eB4A7DfAeGp1DxXQzrGRhuwDlfGZh/wzicPxiYPjBDOcyfGLgE\n",
       "tCEcbgYRBt0HB+DWdFRHFAAAmG4X4Eqb2MYAAAAASUVORK5CYII=\n",
       "\" style=\"display:inline;vertical-align:middle;\" /></a></span><br>"
      ],
      "text/plain": [
       "not_a__truth: {a => (a = FALSE) , a in BOOLEANS} |- [not](a)"
      ]
     },
     "execution_count": 67,
     "metadata": {},
     "output_type": "execute_result"
    }
   ],
   "source": [
    "from proveit.logic import Implies, inBool\n",
    "not_a__truth = Equals(a, FALSE).affirmViaContradiction(Not(a), [Implies(a, Equals(a, FALSE)), inBool(a)])"
   ]
  },
  {
   "cell_type": "code",
   "execution_count": 68,
   "metadata": {},
   "outputs": [
    {
     "data": {
      "text/plain": [
       "13"
      ]
     },
     "execution_count": 68,
     "metadata": {},
     "output_type": "execute_result"
    }
   ],
   "source": [
    "not_a__truth.proof().numSteps()"
   ]
  },
  {
   "cell_type": "markdown",
   "metadata": {},
   "source": [
    "It is more efficient to use `denyViaContradiction` when proving the negation of something.  Here we prove the same as above but in fewer steps."
   ]
  },
  {
   "cell_type": "code",
   "execution_count": 69,
   "metadata": {},
   "outputs": [
    {
     "data": {
      "text/html": [
       "<strong id=\"not_b__truth\">not_b__truth:</strong> <span style=\"font-size:20px;\"><a class=\"ProveItLink\" href=\"__pv_it/fde5b71c4c6dbb6b8afa2130961eef8883fca7ef0/expr.ipynb\"><img src=\"data:image/png;base64,iVBORw0KGgoAAAANSUhEUgAAAL0AAAAVBAMAAADhtvKAAAAAMFBMVEX////c3NxERESqqqpUVFS6\n",
       "urrMzMwyMjIQEBCIiIh2dnYiIiLu7u5mZmaYmJgAAABXZE4RAAAAAXRSTlMAQObYZgAAAl1JREFU\n",
       "OMtjYGDgu8dAE8C2SgBE8ezCpYB1Ah7dT4mwoBlEcn5gYDjSjU0+BYeEJIjgTYBxeTw2oMov/1Rf\n",
       "sckAyLgO4nE1AIkSbObX4JDIBZMFcD67A5oChUiemlVAegXc/M9IsgegNOcENAlU81/B+fwGGOYz\n",
       "TGVHNp/1D5qzQYDjAJoEqvkn4Px4qIt4pu/eXQA1347lAJL5XMghGAKlwxnQJFDNZ4K7ejWUTn+D\n",
       "5H4hZPeze055ANfOBU02txjQJFDN57oA45fM9ANRjDqI8GHbpwMznxfopfMKDN9AzN1g8Beiqo4B\n",
       "LnG9HARKUMxnhkUwzycGflBiYhKAmx+9/wfIke9BnIwABgb7AwxdCPcxl4KpVgZ0CRTzWRtgyv8w\n",
       "cCwA0oeQ43emEcj3QC+mtEES6l8kA46DjGb4iimBbD7bBygXGAD8oLCKAPkdFr9MrCAr1YGBGwH0\n",
       "214G1n9I+a7qAMx8VAns5nNfYIh/AMmOCPczMSgAZUB2sBSAUjnvH0T4b4Kkt2YGuMRtiDj28AEm\n",
       "//sgHacxzAeHPygJfoOEIDQ8odlRjwFNAtX9fKCg4AGZnwCJI5YHyOaDwgeePp0ZriC0i0PptQxo\n",
       "EljS53mg41gMeMEu4tmKZP7bScjp/8hcpFSuCKWjGdAkwAAYVDvAQcUeAMrEH4HmekILePFr8PJN\n",
       "u8UApfxBBrCCkUMAb+kLKR8CkYVMqncXIPOxmw8DfAvwmr8STD7ApwRsPh8u8+EFHVbAU0DYfHD5\n",
       "z7MTl7QIPr0s4NDjxFt/tULCYTEOeUZ89eM04upfADNPulqFTssLAAAAAElFTkSuQmCC\n",
       "\" style=\"display:inline;vertical-align:middle;\" /></a> <a class=\"ProveItLink\" href=\"__pv_it/8762df9dcbfa929de36230593dc0477cecf6ffea0/proof.ipynb\" style=\"text-decoration: none\">&#x22A2;&nbsp;</a><a class=\"ProveItLink\" href=\"__pv_it/c0fc114fcacc8e9fdeb995863ab29be961e5f4380/expr.ipynb\"><img src=\"data:image/png;base64,iVBORw0KGgoAAAANSUhEUgAAABYAAAAOBAMAAADZH/H+AAAALVBMVEX///9ERESYmJiIiIi6urqq\n",
       "qqoyMjIQEBDu7u5UVFTMzMx2dnYiIiJmZmYAAAC5u2vBAAAAAXRSTlMAQObYZgAAAFlJREFUCNdj\n",
       "YICAzhoGBMhEYj9FMFleINjcBxBstsmWCjB2nwDDK4Y7Z4DgNENcA0M1RHQlwzUGhrcw9lkGlkcw\n",
       "9lMG3hcw9isG9g0QNhfDVIabcPM7bRUYALuiGKiQ/Uk/AAAAAElFTkSuQmCC\n",
       "\" style=\"display:inline;vertical-align:middle;\" /></a></span><br>"
      ],
      "text/plain": [
       "not_b__truth: {b => (b = FALSE) , b in BOOLEANS} |- [not](b)"
      ]
     },
     "execution_count": 69,
     "metadata": {},
     "output_type": "execute_result"
    }
   ],
   "source": [
    "not_b__truth = Equals(b, FALSE).denyViaContradiction(b, [Implies(b, Equals(b, FALSE)), inBool(b)])"
   ]
  },
  {
   "cell_type": "code",
   "execution_count": 70,
   "metadata": {},
   "outputs": [
    {
     "data": {
      "text/plain": [
       "9"
      ]
     },
     "execution_count": 70,
     "metadata": {},
     "output_type": "execute_result"
    }
   ],
   "source": [
    "not_b__truth.proof().numSteps()"
   ]
  },
  {
   "cell_type": "code",
   "execution_count": 71,
   "metadata": {},
   "outputs": [
    {
     "data": {
      "text/html": [
       "<table><tr><th>&nbsp;</th><th>step type</th><th>requirements</th><th>statement</th></tr>\n",
       "<tr><td>0</td><td>specialization</td><td>1, 2, 3</td><td><span style=\"font-size:20px;\"><a class=\"ProveItLink\" href=\"__pv_it/fde5b71c4c6dbb6b8afa2130961eef8883fca7ef0/expr.ipynb\"><img src=\"data:image/png;base64,iVBORw0KGgoAAAANSUhEUgAAAL0AAAAVBAMAAADhtvKAAAAAMFBMVEX////c3NxERESqqqpUVFS6\n",
       "urrMzMwyMjIQEBCIiIh2dnYiIiLu7u5mZmaYmJgAAABXZE4RAAAAAXRSTlMAQObYZgAAAl1JREFU\n",
       "OMtjYGDgu8dAE8C2SgBE8ezCpYB1Ah7dT4mwoBlEcn5gYDjSjU0+BYeEJIjgTYBxeTw2oMov/1Rf\n",
       "sckAyLgO4nE1AIkSbObX4JDIBZMFcD67A5oChUiemlVAegXc/M9IsgegNOcENAlU81/B+fwGGOYz\n",
       "TGVHNp/1D5qzQYDjAJoEqvkn4Px4qIt4pu/eXQA1347lAJL5XMghGAKlwxnQJFDNZ4K7ejWUTn+D\n",
       "5H4hZPeze055ANfOBU02txjQJFDN57oA45fM9ANRjDqI8GHbpwMznxfopfMKDN9AzN1g8Beiqo4B\n",
       "LnG9HARKUMxnhkUwzycGflBiYhKAmx+9/wfIke9BnIwABgb7AwxdCPcxl4KpVgZ0CRTzWRtgyv8w\n",
       "cCwA0oeQ43emEcj3QC+mtEES6l8kA46DjGb4iimBbD7bBygXGAD8oLCKAPkdFr9MrCAr1YGBGwH0\n",
       "214G1n9I+a7qAMx8VAns5nNfYIh/AMmOCPczMSgAZUB2sBSAUjnvH0T4b4Kkt2YGuMRtiDj28AEm\n",
       "//sgHacxzAeHPygJfoOEIDQ8odlRjwFNAtX9fKCg4AGZnwCJI5YHyOaDwgeePp0ZriC0i0PptQxo\n",
       "EljS53mg41gMeMEu4tmKZP7bScjp/8hcpFSuCKWjGdAkwAAYVDvAQcUeAMrEH4HmekILePFr8PJN\n",
       "u8UApfxBBrCCkUMAb+kLKR8CkYVMqncXIPOxmw8DfAvwmr8STD7ApwRsPh8u8+EFHVbAU0DYfHD5\n",
       "z7MTl7QIPr0s4NDjxFt/tULCYTEOeUZ89eM04upfADNPulqFTssLAAAAAElFTkSuQmCC\n",
       "\" style=\"display:inline;vertical-align:middle;\" /></a> <a class=\"ProveItLink\" href=\"__pv_it/8762df9dcbfa929de36230593dc0477cecf6ffea0/proof.ipynb\" style=\"text-decoration: none\">&#x22A2;&nbsp;</a><a class=\"ProveItLink\" href=\"__pv_it/c0fc114fcacc8e9fdeb995863ab29be961e5f4380/expr.ipynb\"><img src=\"data:image/png;base64,iVBORw0KGgoAAAANSUhEUgAAABYAAAAOBAMAAADZH/H+AAAALVBMVEX///9ERESYmJiIiIi6urqq\n",
       "qqoyMjIQEBDu7u5UVFTMzMx2dnYiIiJmZmYAAAC5u2vBAAAAAXRSTlMAQObYZgAAAFlJREFUCNdj\n",
       "YICAzhoGBMhEYj9FMFleINjcBxBstsmWCjB2nwDDK4Y7Z4DgNENcA0M1RHQlwzUGhrcw9lkGlkcw\n",
       "9lMG3hcw9isG9g0QNhfDVIabcPM7bRUYALuiGKiQ/Uk/AAAAAElFTkSuQmCC\n",
       "\" style=\"display:inline;vertical-align:middle;\" /></a></span></td></tr>\n",
       "<tr><td>&nbsp;</td><td colspan=4 style=\"text-align:left\"><span style=\"font-size:20px;\"><a class=\"ProveItLink\" href=\"../../__pv_it/2cbe72a7ad6f655694dd697106680215e8489b600/expr.ipynb\"><img src=\"data:image/png;base64,iVBORw0KGgoAAAANSUhEUgAAAA8AAAAOBAMAAAACpFvcAAAALVBMVEX///8QEBBERERUVFS6urqI\n",
       "iIhmZmaqqqrc3Nzu7u6YmJgyMjIiIiLMzMwAAADtIaYWAAAAAXRSTlMAQObYZgAAAFtJREFUCNdj\n",
       "YACBOwxQsA9Kc52bAGG05zVAGAFxDmCaZULdAjBjCsO9ADDDgaEvAUTzGhvbKYCVMDAwbgAxChgY\n",
       "eASANAeQwf0AyJgNxEwvGRia5HYwcOm9TgAA6BoR3jrzwFcAAAAASUVORK5CYII=\n",
       "\" style=\"display:inline;vertical-align:middle;\" /></a> : <a class=\"ProveItLink\" href=\"../../__pv_it/6840a4fa6c106149dc16a131294d0c5e44f1b0480/expr.ipynb\"><img src=\"data:image/png;base64,iVBORw0KGgoAAAANSUhEUgAAAAkAAAAOBAMAAAAPuiubAAAALVBMVEX///9mZmbMzMxERESYmJiI\n",
       "iIh2dna6urqqqqoyMjIiIiIQEBBUVFTu7u4AAAD9S1JeAAAAAXRSTlMAQObYZgAAAE1JREFUCNdj\n",
       "4D29gAEIOA+ASL4GEFl3AURmgQiGOaFHGBh4HzPwKTBwvGXgTmBgnMDAJ8DAJcBQ5wBSLncBJLWN\n",
       "gYGngRFoBO9REQYGAGrcDtUkVqASAAAAAElFTkSuQmCC\n",
       "\" style=\"display:inline;vertical-align:middle;\" /></a></span></td></tr><tr><td>1</td><td>theorem</td><td></td><td><span style=\"font-size:20px;\"> <a class=\"ProveItLink\" href=\"../boolean/implication/_proofs_/denyViaContradiction.ipynb\" style=\"text-decoration: none\">&#x22A2;&nbsp;</a><a class=\"ProveItLink\" href=\"../boolean/implication/__pv_it/f587695ff863e59687e1a43c82141192138bb4960/expr.ipynb\"><img src=\"data:image/png;base64,iVBORw0KGgoAAAANSUhEUgAAAJ4AAAAXBAMAAAAIFOtYAAAAMFBMVEX///8QEBC6urrMzMxUVFRm\n",
       "ZmZERETc3NwyMjKqqqp2dnaIiIiYmJgiIiLu7u4AAAAU9Wx4AAAAAXRSTlMAQObYZgAAAiRJREFU\n",
       "OMtjYKAyeEC+VqYNaAI8CgwMF0CM02SZZ4LCswXiYAaGlSB2H1nmoerqB2IOBoYyIMWeQI5x3Cje\n",
       "5bkPDDmeBQwcQIp1AjnmMaIEfWV8AQMDnwADz/Ly8lqyvKuBwtuwHxgZDJkMDN/S0m6RZV4USlw/\n",
       "mH8ASC1lYHBmYEgHC7Wja1CAMdqxmteDzHnEYA8KzhkMDCoMfA3gAP0EDdiurtYDYBYslmAyEMAG\n",
       "YwgBA/4uCCwA210fAKQUGRh4GbjB2p/+ARKvQ2MYNix4rYRiHlgG0zyYLcwOQOzi4g9Sbg+M9gO8\n",
       "4IhadxXITqp7BzSP6w2KeSAZIOCcgNs8JmB0N0DM42sAp3PmDWkMDEfBMbVAOw7ZPLAMCKSjmieJ\n",
       "ZB7QKl4BiH8Z0p1AoiwMsQwM4IDcECqLEn4gGdY0IGg0QDEvB2EeO9A8jg9A9gkgngrOwicZ9jMw\n",
       "L4C4j9Ua2TyQDASEGiCbtxTGMGB4ARL/BxVjBEU039XQ/AfM19LSskHhx4VkHlgGotEsHNk8XXgU\n",
       "lcm3M/Dk/wBGcBMoOYBUsxYw2BvwOUDch2IeWIY7FAhCAlD8y1iAkST5BGAsHQYG/gMM7lD/ViOZ\n",
       "B5bhewcEq1Hjg2cBhnlcsCLiyTcGdv87DM8UwOk5DSk+oDLQeGQIS0tMS1uArbwCgRfoAsuA4QcH\n",
       "aKUYO3pRXoJhnjveDE+oVGRHL++5DSgyj1TgQIYeABPOjxVzQ9CDAAAAAElFTkSuQmCC\n",
       "\" style=\"display:inline;vertical-align:middle;\" /></a></span></td></tr>\n",
       "<tr><td>&nbsp;</td><td colspan=4 style-\"text-align:left\"><a class=\"ProveItLink\" href=\"../boolean/implication/_proofs_/denyViaContradiction.ipynb\">proveit.logic.boolean.implication.denyViaContradiction</a></td></tr><tr><td>2</td><td>assumption</td><td></td><td><span style=\"font-size:20px;\"><a class=\"ProveItLink\" href=\"__pv_it/f2d1e24483380053a97b05258b791504abffcbaf0/expr.ipynb\"><img src=\"data:image/png;base64,iVBORw0KGgoAAAANSUhEUgAAAEMAAAAVBAMAAADvM06qAAAAMFBMVEX////c3NxERESqqqpUVFS6\n",
       "urrMzMwyMjIQEBCIiIh2dnYiIiLu7u5mZmaYmJgAAABXZE4RAAAAAXRSTlMAQObYZgAAASVJREFU\n",
       "KM9jYGDgu8eAC7CtEgBRPLsYcAO2ZhDJ+QGozGMDqtTyT/UVmwyAjOsgHlcDkGB3QNOuEMlTswpI\n",
       "r4Ar4TfAUMIwlR1FSfwBiMzJ6t3bYUrsWA4gK1kNdV3dASRThFBMKZnpB2ILHUBYxLZPB6aEtwDo\n",
       "o08M/AlAtiLCLdH7f0wA0u9BnIwABgbmPwwcC4AqFZCdO9MI5NULDAwpbRCT+IFs1u7duxHOZWIF\n",
       "6mJQf8DAEAG0gfsCQzyQyeaAbAoTA9BQbpAylgJwsNwHupRnA4YSsFu4gOJAt3aB2H4oSkAWwT3N\n",
       "YsALtuN0AJKSt5OQw4XHE5IgGGsT4NGo3WKAEnQwwOwO9REMYCrBAGAlfHiVgNMLz058qa4VTPEt\n",
       "xp92AZ9LUMNIwjO9AAAAAElFTkSuQmCC\n",
       "\" style=\"display:inline;vertical-align:middle;\" /></a> <a class=\"ProveItLink\" href=\"__pv_it/f488a9cac860b4f9f22c3bbd11d772a1feb896db0/proof.ipynb\" style=\"text-decoration: none\">&#x22A2;&nbsp;</a><a class=\"ProveItLink\" href=\"__pv_it/0840bff5bda91759ff73cf4f6280e60fa5f0627e0/expr.ipynb\"><img src=\"data:image/png;base64,iVBORw0KGgoAAAANSUhEUgAAAC8AAAAPBAMAAACGpYupAAAAMFBMVEX////c3NxmZmbMzMxERESY\n",
       "mJiIiIh2dna6urqqqqoyMjIiIiIQEBBUVFTu7u4AAAAiO1wTAAAAAXRSTlMAQObYZgAAAMZJREFU\n",
       "GNNj4LuzgQEFVH1Zv2bLBCCD6wKqBINDG9+6ciDNPwFDgiGDC0j3P4Dwn63evQsmMZUXKFgNEWde\n",
       "+gBJhwiQXpt2FcQVeYAwinmrHwMD3xcGfgMg1xFhR/f+PwkMDJz/GHgKgPIOyJanTWFgYFrAwK/A\n",
       "wMBxevduhOUsHAUM3AoM/QFAuy8g62BhcAB5Qx9oL98GDAkDhuMg7lUUCaBRvBOYwKa8bkCSCEoB\n",
       "mnFNFcxlXGQAD0Tvs8jBxHkL6ioIAAAv0zyPYuajHgAAAABJRU5ErkJggg==\n",
       "\" style=\"display:inline;vertical-align:middle;\" /></a></span></td></tr>\n",
       "<tr><td>3</td><td>hypothetical reasoning</td><td>4</td><td><span style=\"font-size:20px;\"><a class=\"ProveItLink\" href=\"__pv_it/258881f54381aad054795aa9fd32b72cce216b030/expr.ipynb\"><img src=\"data:image/png;base64,iVBORw0KGgoAAAANSUhEUgAAAIEAAAAVBAMAAACTeZA2AAAAMFBMVEX////c3NxERESqqqpUVFS6\n",
       "urrMzMwyMjIQEBCIiIh2dnYiIiLu7u5mZmaYmJgAAABXZE4RAAAAAXRSTlMAQObYZgAAAaxJREFU\n",
       "OMtjYGDgu8dAJmBbJQCieHbhVBGJRzdfAMiIZhCT8wPQFI8N2KxwYDjSjUWccQKIvAYiroMIrgYg\n",
       "we6ARSX7AQaGEmwmXwDLgogVcBP4DRAKDsAYM4H4M04T+BagmBB/AKGgBsboYWBg/YPTBJ4GFBNW\n",
       "IykIgdKsBUDJDThNYFBGMaFkph9cAdcECM0LdCa755QHuExYCzOBF2gVzycG/gQgczcY/IUGJFDv\n",
       "eQWGbyA15WDggGKCORC/BzEygBHL/IeBYwHcDuZSMMUBlLA/wNCFyw0RIFuAzJQ2iDv4LyCUHG8F\n",
       "kfwB4Pj+i8uEfBChDnRoBND53BcY4hH+Zas6ADNhLwPrP3wmcINczlIATg73D8DDYRMkajkMQMmB\n",
       "FxSfUAkFDF+AwwEUYcBgRHiXGRpgTEBXfUMOHzQ3PEeOTRYDXkSyFofFKlChM8MVBoKxCTKBxxMp\n",
       "hyvCUhTQcUfmoicHkIe6wR4qRUlRyCABxmjEWzigpWqs4BVeE8BJF2wCH04T2A/gM+E4vHzg2YlL\n",
       "DaMDPhMcQWHaCimvFuNSJInHAM4EaDkJAIKufTLdnPXFAAAAAElFTkSuQmCC\n",
       "\" style=\"display:inline;vertical-align:middle;\" /></a> <a class=\"ProveItLink\" href=\"__pv_it/496518c36219e54a2599752c9fa170c6e6a7f5a50/proof.ipynb\" style=\"text-decoration: none\">&#x22A2;&nbsp;</a><a class=\"ProveItLink\" href=\"__pv_it/a1c1b2bd9fb04934a916deb7441fd646cf9ab6380/expr.ipynb\"><img src=\"data:image/png;base64,iVBORw0KGgoAAAANSUhEUgAAADgAAAAPBAMAAABD1xE4AAAAMFBMVEX////c3NxmZmbMzMxERESY\n",
       "mJiIiIh2dna6urqqqqoyMjIiIiIQEBBUVFTu7u4AAAAiO1wTAAAAAXRSTlMAQObYZgAAAJlJREFU\n",
       "GNNj4LuzgQEbEAOTXBewShqBSf4JCBE+dMn+BwgRrgdoktVIZnFcQJNcm3YVIVuGKsn3hYHfAEhr\n",
       "7waB/Qookpz/GHgKEFpnNSBLMi1g4FdAcu+aBiRJbgWG/gCEpFUdsk6gN/UfwO3c7YdiJ9A1xxEa\n",
       "56K6lncCE8JzjAvQvHJNFaGRRQBCA+3Ys3v3FtTQZkblAgDrJSfZHhbpnQAAAABJRU5ErkJggg==\n",
       "\" style=\"display:inline;vertical-align:middle;\" /></a></span></td></tr>\n",
       "<tr><td>4</td><td>specialization</td><td>5, 8, 6</td><td><span style=\"font-size:20px;\"><a class=\"ProveItLink\" href=\"__pv_it/3e6c9374dc8eeeb6bc14cff395fb2d29547d6bbf0/expr.ipynb\"><img src=\"data:image/png;base64,iVBORw0KGgoAAAANSUhEUgAAAJYAAAAVBAMAAABWCwqnAAAAMFBMVEX////c3NxERESqqqpUVFS6\n",
       "urrMzMwyMjIQEBCIiIh2dnYiIiLu7u5mZmaYmJgAAABXZE4RAAAAAXRSTlMAQObYZgAAAeZJREFU\n",
       "OMtjYGDgu8dAOchaCCJ5duGSZ52AR/NTNH6GAZDg/MDAcKQbm/IUBh6PDVjEJUEEbwKMC1HEWwAk\n",
       "uBqARAk2s2oYGNgdsIjngskCOB+sCGwMmPiMpPQAlOYEepHfAKdZr+B8sCK4Wax/UJ0DBhxAQ+MP\n",
       "4DTrBJwPVgQ3iws5WEKgdDgQr2bAaRYT3MlgRXCz2D2nPIAr5YJG3y1QOM70w2UW1wUYH6wIbBYo\n",
       "As4rMHwDMXeDwV+IkjpgFH1i4AfF1/VyEChBMYsZFvgQRXwfQAkjgIHB/gBDF8Je5lIw1Qpk/WHg\n",
       "WIDDXawNMOUQRbXARNQGspeB4S+S4uOtIPIr2M38F3CYxfYByoUqYgL6IwLoib0MrP8QatmqDkDN\n",
       "4r7AEP+AkFlQRaDsw1IASl68fxDhtQmSEJrBKec+iHMbIo7djxBF4PACpYdvyMHCDE3regygMO3C\n",
       "FY98BdB0DVEETxPODFcQSsWh9Fqgmw14HfClCZ7fDDBFcLOOzEUKFUUoHQ1U64lRHgG9uwPsXXZg\n",
       "/PP0C8AUIfIjMoAVABwCeEsscB5ihavBbhYM8C3Aa9ZKsBoGFLP4cJkFz+RYAU8Bqlng8otnJy7l\n",
       "IvjMYgH7DlHygrIP0OzFOJQz4iujp2GW9wCZsI07xail8QAAAABJRU5ErkJggg==\n",
       "\" style=\"display:inline;vertical-align:middle;\" /></a> <a class=\"ProveItLink\" href=\"__pv_it/5659aa46cb97b354da737ba297ddb7ea567569a70/proof.ipynb\" style=\"text-decoration: none\">&#x22A2;&nbsp;</a><a class=\"ProveItLink\" href=\"../boolean/__pv_it/8f1f7fac882de28c72b62ab80a1700b6d8fd066b0/expr.ipynb\"><img src=\"data:image/png;base64,iVBORw0KGgoAAAANSUhEUgAAAA4AAAAOBAMAAADtZjDiAAAAG1BMVEX///9EREQQEBAiIiJmZmbM\n",
       "zMyIiIjc3NwAAACryk5kAAAAAXRSTlMAQObYZgAAABlJREFUCNdjYGBgKGOAgBBa0s7GxkbGxoYA\n",
       "FMUF2aBfHgoAAAAASUVORK5CYII=\n",
       "\" style=\"display:inline;vertical-align:middle;\" /></a></span></td></tr>\n",
       "<tr><td>&nbsp;</td><td colspan=4 style=\"text-align:left\"><span style=\"font-size:20px;\"><a class=\"ProveItLink\" href=\"../../__pv_it/2cbe72a7ad6f655694dd697106680215e8489b600/expr.ipynb\"><img src=\"data:image/png;base64,iVBORw0KGgoAAAANSUhEUgAAAA8AAAAOBAMAAAACpFvcAAAALVBMVEX///8QEBBERERUVFS6urqI\n",
       "iIhmZmaqqqrc3Nzu7u6YmJgyMjIiIiLMzMwAAADtIaYWAAAAAXRSTlMAQObYZgAAAFtJREFUCNdj\n",
       "YACBOwxQsA9Kc52bAGG05zVAGAFxDmCaZULdAjBjCsO9ADDDgaEvAUTzGhvbKYCVMDAwbgAxChgY\n",
       "eASANAeQwf0AyJgNxEwvGRia5HYwcOm9TgAA6BoR3jrzwFcAAAAASUVORK5CYII=\n",
       "\" style=\"display:inline;vertical-align:middle;\" /></a> : <a class=\"ProveItLink\" href=\"../../__pv_it/6840a4fa6c106149dc16a131294d0c5e44f1b0480/expr.ipynb\"><img src=\"data:image/png;base64,iVBORw0KGgoAAAANSUhEUgAAAAkAAAAOBAMAAAAPuiubAAAALVBMVEX///9mZmbMzMxERESYmJiI\n",
       "iIh2dna6urqqqqoyMjIiIiIQEBBUVFTu7u4AAAD9S1JeAAAAAXRSTlMAQObYZgAAAE1JREFUCNdj\n",
       "4D29gAEIOA+ASL4GEFl3AURmgQiGOaFHGBh4HzPwKTBwvGXgTmBgnMDAJ8DAJcBQ5wBSLncBJLWN\n",
       "gYGngRFoBO9REQYGAGrcDtUkVqASAAAAAElFTkSuQmCC\n",
       "\" style=\"display:inline;vertical-align:middle;\" /></a></span></td></tr><tr><td>5</td><td>theorem</td><td></td><td><span style=\"font-size:20px;\"> <a class=\"ProveItLink\" href=\"_proofs_/contradictionViaFalsification.ipynb\" style=\"text-decoration: none\">&#x22A2;&nbsp;</a><a class=\"ProveItLink\" href=\"__pv_it/711406ee4de4210b672a89c5c3b44d688a3bf5740/expr.ipynb\"><img src=\"data:image/png;base64,iVBORw0KGgoAAAANSUhEUgAAAHoAAAAWBAMAAAD9QZX2AAAAMFBMVEX///8QEBC6urrMzMxUVFRm\n",
       "ZmZERETc3NwyMjKqqqp2dnaIiIiYmJgiIiLu7u4AAAAU9Wx4AAAAAXRSTlMAQObYZgAAAUBJREFU\n",
       "OMtjeMBACbgAIk6TobEaRKwEEX1k6DYFEWVAzJ5Arm4OoMdZJ5Crm2d5eXktA7m6Gb6lpd0iX7cz\n",
       "A0M6mNEOJplgshwFUEY7Pt0qDHwNYC98AnPZYLLnFSA0VBxVEq6bl4H7AIh++gdFAV/8AQgDKo5D\n",
       "N/cBXnB6W3cVRQHX2wAIAyqOQzdfgwmIYt6QhqLAmg2SCGDiOHQzpDuBSBaGWBQFDqzgNAwWZ+kA\n",
       "gm7suqeClZ1k2I+sm2cC9wcGZHFcdjNuALn/amj+AyQFb0PD/jEgi6Pqjr179+Ldu9dA1oBkWQsY\n",
       "7A2QFIQzMH9mgImzYXM5MtBhYOA/gNDNBGT/YagoQIhjuBwJPPnGwO5/B66Azz+BoeTvAfsDCHEg\n",
       "CEtLTEtbgDf5ohh/gNTEj6ybuYAS3TwkZzwWUhQDAGnNVZlqQOU7AAAAAElFTkSuQmCC\n",
       "\" style=\"display:inline;vertical-align:middle;\" /></a></span></td></tr>\n",
       "<tr><td>&nbsp;</td><td colspan=4 style-\"text-align:left\"><a class=\"ProveItLink\" href=\"_proofs_/contradictionViaFalsification.ipynb\">proveit.logic.equality.contradictionViaFalsification</a></td></tr><tr><td>6</td><td>modus ponens</td><td>7, 8</td><td><span style=\"font-size:20px;\"><a class=\"ProveItLink\" href=\"__pv_it/3e6c9374dc8eeeb6bc14cff395fb2d29547d6bbf0/expr.ipynb\"><img src=\"data:image/png;base64,iVBORw0KGgoAAAANSUhEUgAAAJYAAAAVBAMAAABWCwqnAAAAMFBMVEX////c3NxERESqqqpUVFS6\n",
       "urrMzMwyMjIQEBCIiIh2dnYiIiLu7u5mZmaYmJgAAABXZE4RAAAAAXRSTlMAQObYZgAAAeZJREFU\n",
       "OMtjYGDgu8dAOchaCCJ5duGSZ52AR/NTNH6GAZDg/MDAcKQbm/IUBh6PDVjEJUEEbwKMC1HEWwAk\n",
       "uBqARAk2s2oYGNgdsIjngskCOB+sCGwMmPiMpPQAlOYEepHfAKdZr+B8sCK4Wax/UJ0DBhxAQ+MP\n",
       "4DTrBJwPVgQ3iws5WEKgdDgQr2bAaRYT3MlgRXCz2D2nPIAr5YJG3y1QOM70w2UW1wUYH6wIbBYo\n",
       "As4rMHwDMXeDwV+IkjpgFH1i4AfF1/VyEChBMYsZFvgQRXwfQAkjgIHB/gBDF8Je5lIw1Qpk/WHg\n",
       "WIDDXawNMOUQRbXARNQGspeB4S+S4uOtIPIr2M38F3CYxfYByoUqYgL6IwLoib0MrP8QatmqDkDN\n",
       "4r7AEP+AkFlQRaDsw1IASl68fxDhtQmSEJrBKec+iHMbIo7djxBF4PACpYdvyMHCDE3regygMO3C\n",
       "FY98BdB0DVEETxPODFcQSsWh9Fqgmw14HfClCZ7fDDBFcLOOzEUKFUUoHQ1U64lRHgG9uwPsXXZg\n",
       "/PP0C8AUIfIjMoAVABwCeEsscB5ihavBbhYM8C3Aa9ZKsBoGFLP4cJkFz+RYAU8Bqlng8otnJy7l\n",
       "IvjMYgH7DlHygrIP0OzFOJQz4iujp2GW9wCZsI07xail8QAAAABJRU5ErkJggg==\n",
       "\" style=\"display:inline;vertical-align:middle;\" /></a> <a class=\"ProveItLink\" href=\"__pv_it/8c7fc66f3d5312b5caab826ce6e8de9c5cd26fff0/proof.ipynb\" style=\"text-decoration: none\">&#x22A2;&nbsp;</a><a class=\"ProveItLink\" href=\"__pv_it/ea5143681b70bb6b9af52183697ea513402159430/expr.ipynb\"><img src=\"data:image/png;base64,iVBORw0KGgoAAAANSUhEUgAAADQAAAAOBAMAAACStyITAAAAMFBMVEX////c3NxmZmbMzMxERESY\n",
       "mJiIiIh2dna6urqqqqoyMjIiIiIQEBBUVFTu7u4AAAAiO1wTAAAAAXRSTlMAQObYZgAAAG9JREFU\n",
       "GNNj4LuzgQETiIFJrgtYpIzAJP8EnFL9D3BKVTPglFqbdhWHFN8XBn4DIK21CgTWIktx/mPgKcCu\n",
       "i2kBA78CdiluBYb+AOxSQG/pg5yvvRsEtqBIGTAcx+FC3glMF3A5/poqujjQ7D1AswGgLSBVSP3x\n",
       "iQAAAABJRU5ErkJggg==\n",
       "\" style=\"display:inline;vertical-align:middle;\" /></a></span></td></tr>\n",
       "<tr><td>7</td><td>assumption</td><td></td><td><span style=\"font-size:20px;\"><a class=\"ProveItLink\" href=\"__pv_it/258881f54381aad054795aa9fd32b72cce216b030/expr.ipynb\"><img src=\"data:image/png;base64,iVBORw0KGgoAAAANSUhEUgAAAIEAAAAVBAMAAACTeZA2AAAAMFBMVEX////c3NxERESqqqpUVFS6\n",
       "urrMzMwyMjIQEBCIiIh2dnYiIiLu7u5mZmaYmJgAAABXZE4RAAAAAXRSTlMAQObYZgAAAaxJREFU\n",
       "OMtjYGDgu8dAJmBbJQCieHbhVBGJRzdfAMiIZhCT8wPQFI8N2KxwYDjSjUWccQKIvAYiroMIrgYg\n",
       "we6ARSX7AQaGEmwmXwDLgogVcBP4DRAKDsAYM4H4M04T+BagmBB/AKGgBsboYWBg/YPTBJ4GFBNW\n",
       "IykIgdKsBUDJDThNYFBGMaFkph9cAdcECM0LdCa755QHuExYCzOBF2gVzycG/gQgczcY/IUGJFDv\n",
       "eQWGbyA15WDggGKCORC/BzEygBHL/IeBYwHcDuZSMMUBlLA/wNCFyw0RIFuAzJQ2iDv4LyCUHG8F\n",
       "kfwB4Pj+i8uEfBChDnRoBND53BcY4hH+Zas6ADNhLwPrP3wmcINczlIATg73D8DDYRMkajkMQMmB\n",
       "FxSfUAkFDF+AwwEUYcBgRHiXGRpgTEBXfUMOHzQ3PEeOTRYDXkSyFofFKlChM8MVBoKxCTKBxxMp\n",
       "hyvCUhTQcUfmoicHkIe6wR4qRUlRyCABxmjEWzigpWqs4BVeE8BJF2wCH04T2A/gM+E4vHzg2YlL\n",
       "DaMDPhMcQWHaCimvFuNSJInHAM4EaDkJAIKufTLdnPXFAAAAAElFTkSuQmCC\n",
       "\" style=\"display:inline;vertical-align:middle;\" /></a> <a class=\"ProveItLink\" href=\"__pv_it/ef36de2735c6d2e9dfc5d38f91cc5b7efa8420b80/proof.ipynb\" style=\"text-decoration: none\">&#x22A2;&nbsp;</a><a class=\"ProveItLink\" href=\"__pv_it/0ec13bfd6b8275be5a37ddea63006e3c88bd242b0/expr.ipynb\"><img src=\"data:image/png;base64,iVBORw0KGgoAAAANSUhEUgAAAGwAAAAVBAMAAABRZRb3AAAAMFBMVEX////c3NxmZmbMzMxERESY\n",
       "mJiIiIh2dna6urqqqqoyMjIiIiIQEBBUVFTu7u4AAAAiO1wTAAAAAXRSTlMAQObYZgAAAVVJREFU\n",
       "OMtjYKAqaMMjx9rAwMB3ZwMWGeYLDG9PYxFnTACRykDMdQGLNNcDBoa12IxTAMsCMf8EhOgDGCMN\n",
       "iH/i1MZawMDQ/wAhug7GOMfAwPEPpza+AwwM1UiivVCaYwEDA/sGnNoYPIFeSLsKF2VPgNBMQFdw\n",
       "XcsNwKWtiIHvCwO/AVDhbjD4BA0RoIb3DgyfQSasAoMLKNpmMXD+Y+ApgJvGuQJM8QBjZv4DhuO4\n",
       "bOthYFrAwK+AEH91AkTyA7VpMTB8wqXNnoFbgaEf4Qfm5Q9g2jYxcHzFrQ0YbfoP4H7bAokNngmg\n",
       "aGMCRQFUwgHNkcDwQHiBE+pzFqD9n5H9jGZbFAPvBCZE6pKCRQRQ9iaDLgOeCLimihB1hEU3MKrf\n",
       "JqFHG8i9p8HuXYEqYQBjHMSbq0CJCysIx6sNlpiwZhzc4BUuCcYL+LRdxCkjhkcXmwEDAMwxXLzy\n",
       "XTsjAAAAAElFTkSuQmCC\n",
       "\" style=\"display:inline;vertical-align:middle;\" /></a></span></td></tr>\n",
       "<tr><td>8</td><td>assumption</td><td></td><td><span style=\"font-size:20px;\"><a class=\"ProveItLink\" href=\"__pv_it/ab494af6e5d7620e5697961356564afcc56f49df0/expr.ipynb\"><img src=\"data:image/png;base64,iVBORw0KGgoAAAANSUhEUgAAABsAAAAVBAMAAABF8IgWAAAAMFBMVEX////c3NxERESqqqpUVFS6\n",
       "urrMzMwyMjIQEBCIiIh2dnYiIiLu7u5mZmaYmJgAAABXZE4RAAAAAXRSTlMAQObYZgAAAKRJREFU\n",
       "GNNjYGDgu8cAAmyrBEAUzy4GCGBrBpGcHxgYjnSDWNdBBFcDkCgBsVbAuZ9RuKx/ULhcG1C47J5T\n",
       "HkC5vAUMDOcVGL4xMLwHcTMCGBjsDzB0AdVcYGBIaYPY+BdIqQN1RCQwMOxlYP3HwMC9ACjEUgCy\n",
       "lvcPVC/Ikm8MHAuQLHJmuIJs75G5D1DczMCAg8sH54L9y7MTFhqtYIpvMSKsABdbMPE4fPXaAAAA\n",
       "AElFTkSuQmCC\n",
       "\" style=\"display:inline;vertical-align:middle;\" /></a> <a class=\"ProveItLink\" href=\"__pv_it/990c46ae0c757db1b727278c5201138502a954900/proof.ipynb\" style=\"text-decoration: none\">&#x22A2;&nbsp;</a><a class=\"ProveItLink\" href=\"../../__pv_it/6840a4fa6c106149dc16a131294d0c5e44f1b0480/expr.ipynb\"><img src=\"data:image/png;base64,iVBORw0KGgoAAAANSUhEUgAAAAkAAAAOBAMAAAAPuiubAAAALVBMVEX///9mZmbMzMxERESYmJiI\n",
       "iIh2dna6urqqqqoyMjIiIiIQEBBUVFTu7u4AAAD9S1JeAAAAAXRSTlMAQObYZgAAAE1JREFUCNdj\n",
       "4D29gAEIOA+ASL4GEFl3AURmgQiGOaFHGBh4HzPwKTBwvGXgTmBgnMDAJ8DAJcBQ5wBSLncBJLWN\n",
       "gYGngRFoBO9REQYGAGrcDtUkVqASAAAAAElFTkSuQmCC\n",
       "\" style=\"display:inline;vertical-align:middle;\" /></a></span></td></tr>\n",
       "</table>"
      ],
      "text/plain": [
       "\tstep type\trequirements\tstatement\n",
       "0\tspecialization\t1, 2, 3\t{b => (b = FALSE) , b in BOOLEANS} |- [not](b)\n",
       "\tA : b\n",
       "1\ttheorem\t\t|- forall_{A in BOOLEANS | A => FALSE} [not](A)\n",
       "\tproveit.logic.boolean.implication.denyViaContradiction\n",
       "2\tassumption\t\t{b in BOOLEANS} |- b in BOOLEANS\n",
       "3\thypothetical reasoning\t4\t{b => (b = FALSE)} |- b => FALSE\n",
       "4\tspecialization\t5, 8, 6\t{b => (b = FALSE) , b} |- FALSE\n",
       "\tA : b\n",
       "5\ttheorem\t\t|- forall_{A | A , A = FALSE} FALSE\n",
       "\tproveit.logic.equality.contradictionViaFalsification\n",
       "6\tmodus ponens\t7, 8\t{b => (b = FALSE) , b} |- b = FALSE\n",
       "7\tassumption\t\t{b => (b = FALSE)} |- b => (b = FALSE)\n",
       "8\tassumption\t\t{b} |- b"
      ]
     },
     "execution_count": 71,
     "metadata": {},
     "output_type": "execute_result"
    }
   ],
   "source": [
    "not_b__truth.proof()"
   ]
  },
  {
   "cell_type": "markdown",
   "metadata": {},
   "source": [
    "## Equality and sets"
   ]
  },
  {
   "cell_type": "markdown",
   "metadata": {},
   "source": [
    "All equality expressions are in the boolean set by the `equalityInBool` axiom.  That is, given any two mathematical objects, they are either equal or not (even nonsense is either the same nonsense or different nonsense)."
   ]
  },
  {
   "cell_type": "code",
   "execution_count": 72,
   "metadata": {},
   "outputs": [
    {
     "data": {
      "text/html": [
       "<strong id=\"eq_in_bool\">eq_in_bool:</strong> <span style=\"font-size:20px;\"> <a class=\"ProveItLink\" href=\"__pv_it/5312f3d5bee1b7d21a71d03dd879697e2e9ecd0c0/proof.ipynb\" style=\"text-decoration: none\">&#x22A2;&nbsp;</a><a class=\"ProveItLink\" href=\"__pv_it/4ffacdbafbef581b6c8e2ccf1fb87c6e2cbc700b0/expr.ipynb\"><img src=\"data:image/png;base64,iVBORw0KGgoAAAANSUhEUgAAAGQAAAAVBAMAAABCslYDAAAAMFBMVEX////c3NwiIiJERESqqqqY\n",
       "mJh2dnZmZmYQEBDu7u4yMjJUVFTMzMyIiIi6uroAAAAs73DqAAAAAXRSTlMAQObYZgAAAYNJREFU\n",
       "OMtjYCAD8F3AJcP6AIfEaayis5uARA2qGNt6q19NJkDGSuwmrQZiLjQxZr4Ls6YlMPDicNcXkMsS\n",
       "MLTwPljAwDEBuw9/AgnOBghn7iIlLagWloCdDK+wW8KmACJNwGyepRMQtjw0YCgDMhn35jWiaeHa\n",
       "ezuAgSEdzBaegHDYoeAJDEuBzBcCzB9AQlWrQADkcYb5Bgx/GBi8wCoNEX5R+t/LwNAHtOQrA7sB\n",
       "mi3+ExjagGaBmJwGyN6/YsDwj4GB+wMDE3q4VTEwfGdgOA8OiSYlJbj3GQyegbTwGzDMP4CmRZ2B\n",
       "7ytUC88GJFsYDJgZWhgY5C8w+DOAvFikBALKkGhh/wlzmAKaFlOgVx0YdrGgWfOHgQMYj1Fg9lYU\n",
       "Lc9A4cgVwKLOhuawLQzVDLBAnvQAoYW11oDhESha7h2+h54srwOjhWEdmM24/AAsWX7W2MLAwCGA\n",
       "O1/AEgzLLkiIwTJFAm4tbDiS7ErcWmbhEJfGrWUjDnFGnBmZ9wBWYQDluGZFyOLSRAAAAABJRU5E\n",
       "rkJggg==\n",
       "\" style=\"display:inline;vertical-align:middle;\" /></a></span><br>"
      ],
      "text/plain": [
       "eq_in_bool: |- (a = b) in BOOLEANS"
      ]
     },
     "execution_count": 72,
     "metadata": {},
     "output_type": "execute_result"
    }
   ],
   "source": [
    "eq_in_bool = Equals(a, b).deduceInBool()"
   ]
  },
  {
   "cell_type": "code",
   "execution_count": 73,
   "metadata": {},
   "outputs": [
    {
     "data": {
      "text/html": [
       "<table><tr><th>&nbsp;</th><th>step type</th><th>requirements</th><th>statement</th></tr>\n",
       "<tr><td>0</td><td>specialization</td><td>1</td><td><span style=\"font-size:20px;\"> <a class=\"ProveItLink\" href=\"__pv_it/5312f3d5bee1b7d21a71d03dd879697e2e9ecd0c0/proof.ipynb\" style=\"text-decoration: none\">&#x22A2;&nbsp;</a><a class=\"ProveItLink\" href=\"__pv_it/4ffacdbafbef581b6c8e2ccf1fb87c6e2cbc700b0/expr.ipynb\"><img src=\"data:image/png;base64,iVBORw0KGgoAAAANSUhEUgAAAGQAAAAVBAMAAABCslYDAAAAMFBMVEX////c3NwiIiJERESqqqqY\n",
       "mJh2dnZmZmYQEBDu7u4yMjJUVFTMzMyIiIi6uroAAAAs73DqAAAAAXRSTlMAQObYZgAAAYNJREFU\n",
       "OMtjYCAD8F3AJcP6AIfEaayis5uARA2qGNt6q19NJkDGSuwmrQZiLjQxZr4Ls6YlMPDicNcXkMsS\n",
       "MLTwPljAwDEBuw9/AgnOBghn7iIlLagWloCdDK+wW8KmACJNwGyepRMQtjw0YCgDMhn35jWiaeHa\n",
       "ezuAgSEdzBaegHDYoeAJDEuBzBcCzB9AQlWrQADkcYb5Bgx/GBi8wCoNEX5R+t/LwNAHtOQrA7sB\n",
       "mi3+ExjagGaBmJwGyN6/YsDwj4GB+wMDE3q4VTEwfGdgOA8OiSYlJbj3GQyegbTwGzDMP4CmRZ2B\n",
       "7ytUC88GJFsYDJgZWhgY5C8w+DOAvFikBALKkGhh/wlzmAKaFlOgVx0YdrGgWfOHgQMYj1Fg9lYU\n",
       "Lc9A4cgVwKLOhuawLQzVDLBAnvQAoYW11oDhESha7h2+h54srwOjhWEdmM24/AAsWX7W2MLAwCGA\n",
       "O1/AEgzLLkiIwTJFAm4tbDiS7ErcWmbhEJfGrWUjDnFGnBmZ9wBWYQDluGZFyOLSRAAAAABJRU5E\n",
       "rkJggg==\n",
       "\" style=\"display:inline;vertical-align:middle;\" /></a></span></td></tr>\n",
       "<tr><td>&nbsp;</td><td colspan=4 style=\"text-align:left\"><span style=\"font-size:20px;\"><a class=\"ProveItLink\" href=\"../../__pv_it/530be409e3083890784cf1d7b28c9e67e90af9360/expr.ipynb\"><img src=\"data:image/png;base64,iVBORw0KGgoAAAANSUhEUgAAAAsAAAAJBAMAAAAWSsseAAAAKlBMVEX///9ERETMzMwQEBAiIiKY\n",
       "mJju7u5mZmaqqqpUVFSIiIh2dnbc3NwAAAA/vyDhAAAAAXRSTlMAQObYZgAAAENJREFUCNdjYDi9\n",
       "8sTyBQxsG1hdmR0YuBm4LnAoMLAxcAowgADzAjB1VoEhgYH1wFoGrgSG3gBhhlMMDImrs3cFMAAA\n",
       "t0YN+iTRa+sAAAAASUVORK5CYII=\n",
       "\" style=\"display:inline;vertical-align:middle;\" /></a> : <a class=\"ProveItLink\" href=\"../../__pv_it/07527342713064c87612d00d8557c53d53d5324a0/expr.ipynb\"><img src=\"data:image/png;base64,iVBORw0KGgoAAAANSUhEUgAAAAsAAAAJBAMAAAAWSsseAAAAMFBMVEX///8yMjKqqqrMzMzu7u4i\n",
       "IiJmZmaYmJhEREQQEBC6urp2dnaIiIhUVFTc3NwAAAD87Fq/AAAAAXRSTlMAQObYZgAAAEhJREFU\n",
       "CNdjYOC7s2seAwPDygccHxgY+L4zsDUwMPB+YGA9wMDA38Dgb8DA8P4Agz6DA4O/AsNFJgMGxgKm\n",
       "MG6gyjunLE4xAAAZTBA5TB6DCwAAAABJRU5ErkJggg==\n",
       "\" style=\"display:inline;vertical-align:middle;\" /></a>, <a class=\"ProveItLink\" href=\"../../__pv_it/f8b9edf8e16034727f0aad55bb83e392c3db40d40/expr.ipynb\"><img src=\"data:image/png;base64,iVBORw0KGgoAAAANSUhEUgAAAAsAAAANBAMAAACN24kIAAAAMFBMVEX///+YmJhUVFQyMjIQEBBE\n",
       "REQiIiKqqqrMzMyIiIi6urrc3NxmZmZ2dnbu7u4AAADXeCicAAAAAXRSTlMAQObYZgAAAFhJREFU\n",
       "CNdj4LtzgWH/AwZerg8M8xkY2nkSGEIZGB6wTGD4ycDAUP+A4weQOszA6QCkbBhYFYDUIYb1AkDq\n",
       "6czzGxhA4BoQMyXwuQMptgusF4AU+8xTQBIAUqMVoSp/SLMAAAAASUVORK5CYII=\n",
       "\" style=\"display:inline;vertical-align:middle;\" /></a> : <a class=\"ProveItLink\" href=\"../../__pv_it/6840a4fa6c106149dc16a131294d0c5e44f1b0480/expr.ipynb\"><img src=\"data:image/png;base64,iVBORw0KGgoAAAANSUhEUgAAAAkAAAAOBAMAAAAPuiubAAAALVBMVEX///9mZmbMzMxERESYmJiI\n",
       "iIh2dna6urqqqqoyMjIiIiIQEBBUVFTu7u4AAAD9S1JeAAAAAXRSTlMAQObYZgAAAE1JREFUCNdj\n",
       "4D29gAEIOA+ASL4GEFl3AURmgQiGOaFHGBh4HzPwKTBwvGXgTmBgnMDAJ8DAJcBQ5wBSLncBJLWN\n",
       "gYGngRFoBO9REQYGAGrcDtUkVqASAAAAAElFTkSuQmCC\n",
       "\" style=\"display:inline;vertical-align:middle;\" /></a></span></td></tr><tr><td>1</td><td>axiom</td><td></td><td><span style=\"font-size:20px;\"> <a class=\"ProveItLink\" href=\"_axioms_.ipynb#equalityInBool\" style=\"text-decoration: none\">&#x22A2;&nbsp;</a><a class=\"ProveItLink\" href=\"__pv_it/73f6352d4b9c57bd488459471847814cbb959ffb0/expr.ipynb\"><img src=\"data:image/png;base64,iVBORw0KGgoAAAANSUhEUgAAAKYAAAAWBAMAAAC4bPoxAAAAMFBMVEX///8QEBC6urrMzMxUVFRm\n",
       "ZmZERETc3NwyMjKqqqp2dnaIiIiYmJgiIiLu7u4AAAAU9Wx4AAAAAXRSTlMAQObYZgAAAmFJREFU\n",
       "OMu1VT2IE0EU/pJNNsnuZg2ejYVwgoUgwQg2VjlOUFErtRAtXJscgsoWkvMUvSgcWJzxChUL4bYJ\n",
       "/hxKkDOgKW4bQbBJJSIXnCqIh3AqnIWN85dssruDFvrg2535dt6befN+FvgPQlQfkk0BhVjjar7D\n",
       "Bu9iPu6VUMnx0Pzxxp0b7xc4/4TN6zE6dQXfl2yYcHbZ9aecr9JZxomqmE0BtfNexCZeZDmfpRea\n",
       "XoiqJIiAUuyCeK/d7n7o23yYIoy3Hk1PX4tR2SmhlnP8qc2ToXNWBb9RqXyM0TglcWV55mXoCuyG\n",
       "h1mCBp9USeC7tnqRvim/H5iKsTkvYHvWaoLlRvoWlwk6NJLrWAEe8HWBrlP89I3tTvkdsGsxNjcL\n",
       "GDDXc6XRT/vSHVSA7fzMznCM2vfB+TxMP8bmdwEbqUhSkEQTv4Ayr4xt3W4QIz3pcd7080RtkwY/\n",
       "mlCLRPshbWoTw+fU4XDerrFqWZpcph4mW4P82SqB2RKv33SXCz/0SZiFvu+diE3GT03SayMHEjRJ\n",
       "1za5e+SK8wKWuwIz7MccdHq8t3x8dMQm853x9+hWSR5nXC+iJVc0BBb9s7ga9v0EdvuQufR1fMjm\n",
       "m5bUFBf2k/OHcUSuKAr0Xn9ZioSw1z7jAjf5ODNXGvSQC1tYQTLeYq5pBU1k0Fi/Nl2BeHkW1Gbu\n",
       "kIx7qGZRNmoGLrsYo+kctIhImxCS6tg0eoaiwQz43qvTz1H2cbdV+3Ovy3s63eyzwoUQ72fc1GD3\n",
       "SxJRybWP0edBhc1RXnN1L2hFmaaAQszSX/EWPYH3D35xvwHMAqgmkf/s6AAAAABJRU5ErkJggg==\n",
       "\" style=\"display:inline;vertical-align:middle;\" /></a></span></td></tr>\n",
       "<tr><td>&nbsp;</td><td colspan=4 style-\"text-align:left\"><a class=\"ProveItLink\" href=\"_axioms_.ipynb#equalityInBool\">proveit.logic.equality.equalityInBool</a></td></tr></table>"
      ],
      "text/plain": [
       "\tstep type\trequirements\tstatement\n",
       "0\tspecialization\t1\t|- (a = b) in BOOLEANS\n",
       "\tx : a, y : b\n",
       "1\taxiom\t\t|- forall_{x, y} ((x = y) in BOOLEANS)\n",
       "\tproveit.logic.equality.equalityInBool"
      ]
     },
     "execution_count": 73,
     "metadata": {},
     "output_type": "execute_result"
    }
   ],
   "source": [
    "eq_in_bool.proof()"
   ]
  },
  {
   "cell_type": "markdown",
   "metadata": {},
   "source": [
    "A singleton is a set with one element.  If $x=c$, then $x$ is in the singleton set of $\\{c\\}$:"
   ]
  },
  {
   "cell_type": "code",
   "execution_count": 74,
   "metadata": {},
   "outputs": [
    {
     "data": {
      "text/html": [
       "<strong id=\"in_singleton_truth\">in_singleton_truth:</strong> <span style=\"font-size:20px;\"><a class=\"ProveItLink\" href=\"__pv_it/034fe822396410ef5da46a1bc1fe78e8621ed5070/expr.ipynb\"><img src=\"data:image/png;base64,iVBORw0KGgoAAAANSUhEUgAAAEMAAAAVBAMAAADvM06qAAAAMFBMVEX///9ERETc3NyqqqpUVFS6\n",
       "urrMzMwyMjIQEBCIiIh2dnYiIiLu7u5mZmaYmJgAAABJJ2g3AAAAAXRSTlMAQObYZgAAANpJREFU\n",
       "KM9jYGDgu8eAC7CtUgBRPLsYcAO2ZhDJ+QGPEobrIIKrAZ+SFXRXwrTSyfImuuypldOgSngLgDyG\n",
       "1w+6wR4oB4ESsH9bGaoZGN6DmBkBDAwLGOYzmKEZcmICgxwDA/sFBoaUNiD3AIMjhiv8IZT4AwaG\n",
       "iAQQqxNDyUcwyb0ASLAA3cLA9I2BByRyezcIbASJ/AQrAbuFawMDwyNgLMxBM+UfMIIRnmb+x9jA\n",
       "NAFNiS8DwzKEEh7JNavmobuFd+XMA1SNAL4GgumFZye+VNcKpvgW40+7ABxMQD1LbY66AAAAAElF\n",
       "TkSuQmCC\n",
       "\" style=\"display:inline;vertical-align:middle;\" /></a> <a class=\"ProveItLink\" href=\"__pv_it/4c49ec0ffdd12bf818d75f09b63ab64da04ff78e0/proof.ipynb\" style=\"text-decoration: none\">&#x22A2;&nbsp;</a><a class=\"ProveItLink\" href=\"__pv_it/cc1cce38b85b1fa66fc8e0f546956ea09b9be4700/expr.ipynb\"><img src=\"data:image/png;base64,iVBORw0KGgoAAAANSUhEUgAAAEIAAAAVBAMAAAAA8SWUAAAAMFBMVEX///+6uroyMjJERETMzMwQ\n",
       "EBAiIiKYmJju7u5mZmaqqqpUVFSIiIh2dnbc3NwAAAAWgogoAAAAAXRSTlMAQObYZgAAAPlJREFU\n",
       "KM9jYMAG2KdDaN97DNgBRy6M5boAuwqeDzAWpwJ2FbwBmCwiVfSopSXhVcGi3oDdjLenX508AOI9\n",
       "bkAR57h7xgHM4rjAns6aABK3Y0DxgasAUwIDO9BXvEC/cTmA9BjAVbgKALkxDMwFDAyaQBYDN0SK\n",
       "MSwtDeJS7xAgwQ0JE2Z1IMF6AOLQDXAzRIFm8kP0gUP3vQMDyI0cCXAV3EB3vAfrA7mD/cF5Bh6w\n",
       "L7YjQgyomB/oiAKwX9YXmDK8AYu3CSD7lnsCAy/Et81ne+8UgMX5NB2Qw2PumRMYoc61iUCokxK3\n",
       "7AGE0gdHDnLoYjfkFiKdAgChBzmF3gd3RwAAAABJRU5ErkJggg==\n",
       "\" style=\"display:inline;vertical-align:middle;\" /></a></span><br>"
      ],
      "text/plain": [
       "in_singleton_truth: {x = c} |- x in {c}"
      ]
     },
     "execution_count": 74,
     "metadata": {},
     "output_type": "execute_result"
    }
   ],
   "source": [
    "in_singleton_truth = Equals(x, c).deriveIsInSingleton([Equals(x, c)])"
   ]
  },
  {
   "cell_type": "code",
   "execution_count": 75,
   "metadata": {},
   "outputs": [
    {
     "data": {
      "text/html": [
       "<table><tr><th>&nbsp;</th><th>step type</th><th>requirements</th><th>statement</th></tr>\n",
       "<tr><td>0</td><td>specialization</td><td>1, 2</td><td><span style=\"font-size:20px;\"><a class=\"ProveItLink\" href=\"__pv_it/034fe822396410ef5da46a1bc1fe78e8621ed5070/expr.ipynb\"><img src=\"data:image/png;base64,iVBORw0KGgoAAAANSUhEUgAAAEMAAAAVBAMAAADvM06qAAAAMFBMVEX///9ERETc3NyqqqpUVFS6\n",
       "urrMzMwyMjIQEBCIiIh2dnYiIiLu7u5mZmaYmJgAAABJJ2g3AAAAAXRSTlMAQObYZgAAANpJREFU\n",
       "KM9jYGDgu8eAC7CtUgBRPLsYcAO2ZhDJ+QGPEobrIIKrAZ+SFXRXwrTSyfImuuypldOgSngLgDyG\n",
       "1w+6wR4oB4ESsH9bGaoZGN6DmBkBDAwLGOYzmKEZcmICgxwDA/sFBoaUNiD3AIMjhiv8IZT4AwaG\n",
       "iAQQqxNDyUcwyb0ASLAA3cLA9I2BByRyezcIbASJ/AQrAbuFawMDwyNgLMxBM+UfMIIRnmb+x9jA\n",
       "NAFNiS8DwzKEEh7JNavmobuFd+XMA1SNAL4GgumFZye+VNcKpvgW40+7ABxMQD1LbY66AAAAAElF\n",
       "TkSuQmCC\n",
       "\" style=\"display:inline;vertical-align:middle;\" /></a> <a class=\"ProveItLink\" href=\"__pv_it/4c49ec0ffdd12bf818d75f09b63ab64da04ff78e0/proof.ipynb\" style=\"text-decoration: none\">&#x22A2;&nbsp;</a><a class=\"ProveItLink\" href=\"__pv_it/cc1cce38b85b1fa66fc8e0f546956ea09b9be4700/expr.ipynb\"><img src=\"data:image/png;base64,iVBORw0KGgoAAAANSUhEUgAAAEIAAAAVBAMAAAAA8SWUAAAAMFBMVEX///+6uroyMjJERETMzMwQ\n",
       "EBAiIiKYmJju7u5mZmaqqqpUVFSIiIh2dnbc3NwAAAAWgogoAAAAAXRSTlMAQObYZgAAAPlJREFU\n",
       "KM9jYMAG2KdDaN97DNgBRy6M5boAuwqeDzAWpwJ2FbwBmCwiVfSopSXhVcGi3oDdjLenX508AOI9\n",
       "bkAR57h7xgHM4rjAns6aABK3Y0DxgasAUwIDO9BXvEC/cTmA9BjAVbgKALkxDMwFDAyaQBYDN0SK\n",
       "MSwtDeJS7xAgwQ0JE2Z1IMF6AOLQDXAzRIFm8kP0gUP3vQMDyI0cCXAV3EB3vAfrA7mD/cF5Bh6w\n",
       "L7YjQgyomB/oiAKwX9YXmDK8AYu3CSD7lnsCAy/Et81ne+8UgMX5NB2Qw2PumRMYoc61iUCokxK3\n",
       "7AGE0gdHDnLoYjfkFiKdAgChBzmF3gd3RwAAAABJRU5ErkJggg==\n",
       "\" style=\"display:inline;vertical-align:middle;\" /></a></span></td></tr>\n",
       "<tr><td>&nbsp;</td><td colspan=4 style=\"text-align:left\"><span style=\"font-size:20px;\"><a class=\"ProveItLink\" href=\"../../__pv_it/530be409e3083890784cf1d7b28c9e67e90af9360/expr.ipynb\"><img src=\"data:image/png;base64,iVBORw0KGgoAAAANSUhEUgAAAAsAAAAJBAMAAAAWSsseAAAAKlBMVEX///9ERETMzMwQEBAiIiKY\n",
       "mJju7u5mZmaqqqpUVFSIiIh2dnbc3NwAAAA/vyDhAAAAAXRSTlMAQObYZgAAAENJREFUCNdjYDi9\n",
       "8sTyBQxsG1hdmR0YuBm4LnAoMLAxcAowgADzAjB1VoEhgYH1wFoGrgSG3gBhhlMMDImrs3cFMAAA\n",
       "t0YN+iTRa+sAAAAASUVORK5CYII=\n",
       "\" style=\"display:inline;vertical-align:middle;\" /></a> : <a class=\"ProveItLink\" href=\"../../__pv_it/530be409e3083890784cf1d7b28c9e67e90af9360/expr.ipynb\"><img src=\"data:image/png;base64,iVBORw0KGgoAAAANSUhEUgAAAAsAAAAJBAMAAAAWSsseAAAAKlBMVEX///9ERETMzMwQEBAiIiKY\n",
       "mJju7u5mZmaqqqpUVFSIiIh2dnbc3NwAAAA/vyDhAAAAAXRSTlMAQObYZgAAAENJREFUCNdjYDi9\n",
       "8sTyBQxsG1hdmR0YuBm4LnAoMLAxcAowgADzAjB1VoEhgYH1wFoGrgSG3gBhhlMMDImrs3cFMAAA\n",
       "t0YN+iTRa+sAAAAASUVORK5CYII=\n",
       "\" style=\"display:inline;vertical-align:middle;\" /></a>, <a class=\"ProveItLink\" href=\"../../__pv_it/f8b9edf8e16034727f0aad55bb83e392c3db40d40/expr.ipynb\"><img src=\"data:image/png;base64,iVBORw0KGgoAAAANSUhEUgAAAAsAAAANBAMAAACN24kIAAAAMFBMVEX///+YmJhUVFQyMjIQEBBE\n",
       "REQiIiKqqqrMzMyIiIi6urrc3NxmZmZ2dnbu7u4AAADXeCicAAAAAXRSTlMAQObYZgAAAFhJREFU\n",
       "CNdj4LtzgWH/AwZerg8M8xkY2nkSGEIZGB6wTGD4ycDAUP+A4weQOszA6QCkbBhYFYDUIYb1AkDq\n",
       "6czzGxhA4BoQMyXwuQMptgusF4AU+8xTQBIAUqMVoSp/SLMAAAAASUVORK5CYII=\n",
       "\" style=\"display:inline;vertical-align:middle;\" /></a> : <a class=\"ProveItLink\" href=\"../../__pv_it/cbdfda466482236edba0ce44ac7ef39cda0af7a40/expr.ipynb\"><img src=\"data:image/png;base64,iVBORw0KGgoAAAANSUhEUgAAAAkAAAAJBAMAAAASvxsjAAAALVBMVEX///9mZmbc3NxUVFSYmJhE\n",
       "REQiIiIyMjK6uroQEBDMzMyIiIh2dnbu7u4AAABgFDGoAAAAAXRSTlMAQObYZgAAADZJREFUCNdj\n",
       "YOA9s3sBA8PKBvYEBt7ZDKwODMwPGICALwBE6m0Asx0YGIDiAgw8QJUyu/cyAAAmuwmycZ8WfQAA\n",
       "AABJRU5ErkJggg==\n",
       "\" style=\"display:inline;vertical-align:middle;\" /></a></span></td></tr><tr><td>1</td><td>theorem</td><td></td><td><span style=\"font-size:20px;\"> <a class=\"ProveItLink\" href=\"../set_theory/enumeration/_proofs_/foldSingleton.ipynb\" style=\"text-decoration: none\">&#x22A2;&nbsp;</a><a class=\"ProveItLink\" href=\"../set_theory/enumeration/__pv_it/404daaa6d1a27f4b8d6bcbbf71ab2ba1fff4f9c10/expr.ipynb\"><img src=\"data:image/png;base64,iVBORw0KGgoAAAANSUhEUgAAALMAAAAXBAMAAACyt2M4AAAAMFBMVEX///8QEBC6urrMzMxUVFRm\n",
       "ZmZERETc3NwyMjKqqqp2dnaIiIiYmJgiIiLu7u4AAAAU9Wx4AAAAAXRSTlMAQObYZgAAAoJJREFU\n",
       "SMetlT1oFEEUx/+3ex+52816eFUKIYVFmuAFbLTJJYIcaiFiIVqozcXCYgtJ/MBkm0CKKFdo7VqE\n",
       "IEdkwXigKbIKNrG5UsSDtbnCEDgUTGHjm4/9MrviYgZ2Z+a9md+bfR+zwKG1D67oT69LgZcZoTiJ\n",
       "4j3bH021gffU99jkYxb0yWTxdjAqWPTUgRds8jgLOmXx82BUqdKL8PPUlW5kIGvOP6F3gBFydqGd\n",
       "AZ2LRWf3Uf9TIvoroK8vLDzM4o+J6ERd9VJOXaTj/my1PmdBX6Xn/ua919wv817UIcaajSVPoCsX\n",
       "gTPA3IH94+noVULY+pccT63IziuEU4YsUfQhTcsUx+MwrAP7/xLXo4SANixTdsEI16kkP1XooUXj\n",
       "ZZb9dPRRaG4W9HciIi8WKMf6fRFGdYZMeTkHv5if6ctUOrrmjnoZ0ZQmIgPVRlijNXo989Qf1LHY\n",
       "MbRhsfLqzG6SWaUrc0ughZBv7AZJN8ZeS3V+Qxi90GST+1urSl8zh2Bulrznnc1RtuweMafCU3Nh\n",
       "c4WaEyiA27TX3IbGLV0I0RvcycWGTD6dBfApmVZY4IHFSXRDtBTGFMAafbd7Ew/EnTQeq8bLOOEi\n",
       "TD7pt32uP4fzUV/vBxt9BTAJDN5+64jQl5brUfRg67op0SPMqM4+Ta2qIrNqETQT3uIOCRR0EjMa\n",
       "1HIzXugbkUIXbbpiVXDXRE0ZhmgulM1X0Ens1Osp3zPGfHTHlw/eXHuJaRdPulaI5kLZfEX6pfqO\n",
       "SsQu2vK+/rMM3ZKZdxLzOlBQu5OM3nNQ3rrE/zLk5nzMbVDNoj2RXDKBgplJubB32pF/46u4Tiez\n",
       "djI6UPx/axwC4zcvUqxnuHemCwAAAABJRU5ErkJggg==\n",
       "\" style=\"display:inline;vertical-align:middle;\" /></a></span></td></tr>\n",
       "<tr><td>&nbsp;</td><td colspan=4 style-\"text-align:left\"><a class=\"ProveItLink\" href=\"../set_theory/enumeration/_proofs_/foldSingleton.ipynb\">proveit.logic.set_theory.enumeration.foldSingleton</a></td></tr><tr><td>2</td><td>assumption</td><td></td><td><span style=\"font-size:20px;\"><a class=\"ProveItLink\" href=\"__pv_it/034fe822396410ef5da46a1bc1fe78e8621ed5070/expr.ipynb\"><img src=\"data:image/png;base64,iVBORw0KGgoAAAANSUhEUgAAAEMAAAAVBAMAAADvM06qAAAAMFBMVEX///9ERETc3NyqqqpUVFS6\n",
       "urrMzMwyMjIQEBCIiIh2dnYiIiLu7u5mZmaYmJgAAABJJ2g3AAAAAXRSTlMAQObYZgAAANpJREFU\n",
       "KM9jYGDgu8eAC7CtUgBRPLsYcAO2ZhDJ+QGPEobrIIKrAZ+SFXRXwrTSyfImuuypldOgSngLgDyG\n",
       "1w+6wR4oB4ESsH9bGaoZGN6DmBkBDAwLGOYzmKEZcmICgxwDA/sFBoaUNiD3AIMjhiv8IZT4AwaG\n",
       "iAQQqxNDyUcwyb0ASLAA3cLA9I2BByRyezcIbASJ/AQrAbuFawMDwyNgLMxBM+UfMIIRnmb+x9jA\n",
       "NAFNiS8DwzKEEh7JNavmobuFd+XMA1SNAL4GgumFZye+VNcKpvgW40+7ABxMQD1LbY66AAAAAElF\n",
       "TkSuQmCC\n",
       "\" style=\"display:inline;vertical-align:middle;\" /></a> <a class=\"ProveItLink\" href=\"__pv_it/4d25bdfbd0dec0f69afc2075f5eb3d44db21f9e10/proof.ipynb\" style=\"text-decoration: none\">&#x22A2;&nbsp;</a><a class=\"ProveItLink\" href=\"__pv_it/5fddf04fb0623c8ac921edf2314fa5c403ca93c70/expr.ipynb\"><img src=\"data:image/png;base64,iVBORw0KGgoAAAANSUhEUgAAADEAAAAJBAMAAABpm9nvAAAAMFBMVEX///+6uroyMjJERETMzMwQ\n",
       "EBAiIiKYmJju7u5mZmaqqqpUVFSIiIh2dnbc3NwAAAAWgogoAAAAAXRSTlMAQObYZgAAAH5JREFU\n",
       "CNdjYHh7+tXJAwyogOPuGQcGjgvs6awJQB6nEhhsAMm4CjAlMPAy8HzgckDTEsPAXMDAwcBtgGYW\n",
       "A/cHCM2KbgsDP1TteweGBpA9aWAAEnwPVsv+4DwDTwOangIGhgKG9QWmDG/Q7ZnAwOvA0Hy2904B\n",
       "ukVzz5xgAADBfCAeE4vUegAAAABJRU5ErkJggg==\n",
       "\" style=\"display:inline;vertical-align:middle;\" /></a></span></td></tr>\n",
       "</table>"
      ],
      "text/plain": [
       "\tstep type\trequirements\tstatement\n",
       "0\tspecialization\t1, 2\t{x = c} |- x in {c}\n",
       "\tx : x, y : c\n",
       "1\ttheorem\t\t|- forall_{x, y | x = y} (x in {y})\n",
       "\tproveit.logic.set_theory.enumeration.foldSingleton\n",
       "2\tassumption\t\t{x = c} |- x = c"
      ]
     },
     "execution_count": 75,
     "metadata": {},
     "output_type": "execute_result"
    }
   ],
   "source": [
    "in_singleton_truth.proof()"
   ]
  },
  {
   "cell_type": "markdown",
   "metadata": {},
   "source": [
    "## Not equals\n",
    "\n",
    "The `NotEquals` operation is a more way of expressing that two mathematical objects are not equal to each other."
   ]
  },
  {
   "cell_type": "code",
   "execution_count": 76,
   "metadata": {},
   "outputs": [],
   "source": [
    "from proveit.logic import NotEquals"
   ]
  },
  {
   "cell_type": "code",
   "execution_count": 77,
   "metadata": {},
   "outputs": [
    {
     "data": {
      "text/html": [
       "<strong id=\"a_neq_b\">a_neq_b:</strong> <a class=\"ProveItLink\" href=\"__pv_it/19ff6125cfeededb0a6e66fb1e0c7ddff3c2dd3b0/expr.ipynb\"><img src=\"data:image/png;base64,iVBORw0KGgoAAAANSUhEUgAAADAAAAAUCAMAAAD84U6VAAAAPFBMVEX///8LCwsYGBgNDQ0oKCgy\n",
       "MjKqqqrMzMzu7u4iIiJmZmaYmJhEREQQEBC6urp2dnaIiIhUVFTc3NwAAABYMwFzAAAAAXRSTlMA\n",
       "QObYZgAAAMhJREFUKM+1kusOwyAIhdnFG7WI+v7vOiRbu9rMxh87SRuNwOcBAUZKBaZUzL72eQ2X\n",
       "CZm+dybPAETVzgGo+ot4F48N2C2UzInWU0Oig6MF5rwoq8XGup2gUT0f7b8Z9bUBqxQptaVhvABY\n",
       "tbAmsaa1A3fx1DURtWUV5YsKdF2C6TwF1E4tciNWoCR9agXR/RZU8TAFlHt5XWUD1o0AalctgBHP\n",
       "VoBp5EBKSl3M7ykwucg0BMjjY1x+Dtni3LOG4Ofi/w4AGpy9AOYzB/Lf2im1AAAAAElFTkSuQmCC\n",
       "\" style=\"display:inline;vertical-align:middle;\" /></a><br>"
      ],
      "text/plain": [
       "a_neq_b: a != b"
      ]
     },
     "execution_count": 77,
     "metadata": {},
     "output_type": "execute_result"
    }
   ],
   "source": [
    "a_neq_b = NotEquals(a, b)"
   ]
  },
  {
   "cell_type": "code",
   "execution_count": 78,
   "metadata": {},
   "outputs": [
    {
     "data": {
      "text/html": [
       "<span style=\"font-size:20px;\"> <a class=\"ProveItLink\" href=\"__pv_it/23ba30aa77b9554e7b71b4c475d6d0beb51572280/proof.ipynb\" style=\"text-decoration: none\">&#x22A2;&nbsp;</a><a class=\"ProveItLink\" href=\"__pv_it/7d4f9e39ad0bc2d78638e9818e9be68af33ad3f00/expr.ipynb\"><img src=\"data:image/png;base64,iVBORw0KGgoAAAANSUhEUgAAALkAAAAVCAMAAAAtrb/7AAAAPFBMVEX///8LCwsYGBgNDQ0oKCjc\n",
       "3NwiIiJERESqqqqYmJh2dnZmZmYQEBDu7u4yMjJUVFTMzMyIiIi6uroAAACIMCsmAAAAAXRSTlMA\n",
       "QObYZgAAAgBJREFUSMfVltlyhSAMhu2CrLK+/7uW1aMQFttOZ8pFf6fh5NMkhGzbf17WjO0Mtf+j\n",
       "9oe+Z1BoFWhRrcb7kXw9H0rs6YnrFVbX9wx6XS00qzzGP1S38MqClCvQru8ZtNpdQ6Masx5yvxwp\n",
       "qWNzYte3eVYrDTSqeBRy68r2Q8yJXd/iUchbaFA7ybrG99O6n4+YTInyqaHTIlqoV34mHSnDrKj7\n",
       "CNZVxRmjaPLHZ0TOZgaY2ZZ5A/UqaYlDcIDd6VzG9fkR/p6N4HAhBS5+DXkFLm9O69U1Tt/Nq1CQ\n",
       "2fEDQb2KXMbIBW8cj0NOYsUJlrDTMk+++X4udjN0mPWCoF5dfnMVv3yvzryt2i6Pn+xiyrSbtgTb\n",
       "6eLZADPb2gKgXov3mJHDVfeLrEpw5/Go0995c5jZLAjqVZCcOBPz4j1trxS/v6Uk41tj5alJXarl\n",
       "Ug+XzcV3++bJ0DA7fiCoV0zzKQhmJTeiByFPxyRV3EanrQ3TzpsnA8wEUgdAvZY2E4478Xlhgyr3\n",
       "GM/ialvsiu0OfTNATOguBKBe7X52VmM1NnYUcj/8GF4CKafjot3HBogJTlwtNGj/HiDDoC7d/uip\n",
       "YTY2Xm7/weS0D4cLtjA0dX2vjGsjaNLewDkJ+V9OuTU0K1LfCblaynfPd9+wrUCLIjjvw3Nj9BoL\n",
       "maeGBWjUL+eVHOmrMhLxAAAAAElFTkSuQmCC\n",
       "\" style=\"display:inline;vertical-align:middle;\" /></a></span>"
      ],
      "text/plain": [
       "|- (a != b) = [not](a = b)"
      ]
     },
     "execution_count": 78,
     "metadata": {},
     "output_type": "execute_result"
    }
   ],
   "source": [
    "a_neq_b.definition()"
   ]
  },
  {
   "cell_type": "code",
   "execution_count": 79,
   "metadata": {},
   "outputs": [
    {
     "data": {
      "text/html": [
       "<table><tr><th>&nbsp;</th><th>step type</th><th>requirements</th><th>statement</th></tr>\n",
       "<tr><td>0</td><td>specialization</td><td>1</td><td><span style=\"font-size:20px;\"> <a class=\"ProveItLink\" href=\"__pv_it/23ba30aa77b9554e7b71b4c475d6d0beb51572280/proof.ipynb\" style=\"text-decoration: none\">&#x22A2;&nbsp;</a><a class=\"ProveItLink\" href=\"__pv_it/7d4f9e39ad0bc2d78638e9818e9be68af33ad3f00/expr.ipynb\"><img src=\"data:image/png;base64,iVBORw0KGgoAAAANSUhEUgAAALkAAAAVCAMAAAAtrb/7AAAAPFBMVEX///8LCwsYGBgNDQ0oKCjc\n",
       "3NwiIiJERESqqqqYmJh2dnZmZmYQEBDu7u4yMjJUVFTMzMyIiIi6uroAAACIMCsmAAAAAXRSTlMA\n",
       "QObYZgAAAgBJREFUSMfVltlyhSAMhu2CrLK+/7uW1aMQFttOZ8pFf6fh5NMkhGzbf17WjO0Mtf+j\n",
       "9oe+Z1BoFWhRrcb7kXw9H0rs6YnrFVbX9wx6XS00qzzGP1S38MqClCvQru8ZtNpdQ6Masx5yvxwp\n",
       "qWNzYte3eVYrDTSqeBRy68r2Q8yJXd/iUchbaFA7ybrG99O6n4+YTInyqaHTIlqoV34mHSnDrKj7\n",
       "CNZVxRmjaPLHZ0TOZgaY2ZZ5A/UqaYlDcIDd6VzG9fkR/p6N4HAhBS5+DXkFLm9O69U1Tt/Nq1CQ\n",
       "2fEDQb2KXMbIBW8cj0NOYsUJlrDTMk+++X4udjN0mPWCoF5dfnMVv3yvzryt2i6Pn+xiyrSbtgTb\n",
       "6eLZADPb2gKgXov3mJHDVfeLrEpw5/Go0995c5jZLAjqVZCcOBPz4j1trxS/v6Uk41tj5alJXarl\n",
       "Ug+XzcV3++bJ0DA7fiCoV0zzKQhmJTeiByFPxyRV3EanrQ3TzpsnA8wEUgdAvZY2E4478Xlhgyr3\n",
       "GM/ialvsiu0OfTNATOguBKBe7X52VmM1NnYUcj/8GF4CKafjot3HBogJTlwtNGj/HiDDoC7d/uip\n",
       "YTY2Xm7/weS0D4cLtjA0dX2vjGsjaNLewDkJ+V9OuTU0K1LfCblaynfPd9+wrUCLIjjvw3Nj9BoL\n",
       "maeGBWjUL+eVHOmrMhLxAAAAAElFTkSuQmCC\n",
       "\" style=\"display:inline;vertical-align:middle;\" /></a></span></td></tr>\n",
       "<tr><td>&nbsp;</td><td colspan=4 style=\"text-align:left\"><span style=\"font-size:20px;\"><a class=\"ProveItLink\" href=\"../../__pv_it/530be409e3083890784cf1d7b28c9e67e90af9360/expr.ipynb\"><img src=\"data:image/png;base64,iVBORw0KGgoAAAANSUhEUgAAAAsAAAAJBAMAAAAWSsseAAAAKlBMVEX///9ERETMzMwQEBAiIiKY\n",
       "mJju7u5mZmaqqqpUVFSIiIh2dnbc3NwAAAA/vyDhAAAAAXRSTlMAQObYZgAAAENJREFUCNdjYDi9\n",
       "8sTyBQxsG1hdmR0YuBm4LnAoMLAxcAowgADzAjB1VoEhgYH1wFoGrgSG3gBhhlMMDImrs3cFMAAA\n",
       "t0YN+iTRa+sAAAAASUVORK5CYII=\n",
       "\" style=\"display:inline;vertical-align:middle;\" /></a> : <a class=\"ProveItLink\" href=\"../../__pv_it/07527342713064c87612d00d8557c53d53d5324a0/expr.ipynb\"><img src=\"data:image/png;base64,iVBORw0KGgoAAAANSUhEUgAAAAsAAAAJBAMAAAAWSsseAAAAMFBMVEX///8yMjKqqqrMzMzu7u4i\n",
       "IiJmZmaYmJhEREQQEBC6urp2dnaIiIhUVFTc3NwAAAD87Fq/AAAAAXRSTlMAQObYZgAAAEhJREFU\n",
       "CNdjYOC7s2seAwPDygccHxgY+L4zsDUwMPB+YGA9wMDA38Dgb8DA8P4Agz6DA4O/AsNFJgMGxgKm\n",
       "MG6gyjunLE4xAAAZTBA5TB6DCwAAAABJRU5ErkJggg==\n",
       "\" style=\"display:inline;vertical-align:middle;\" /></a>, <a class=\"ProveItLink\" href=\"../../__pv_it/f8b9edf8e16034727f0aad55bb83e392c3db40d40/expr.ipynb\"><img src=\"data:image/png;base64,iVBORw0KGgoAAAANSUhEUgAAAAsAAAANBAMAAACN24kIAAAAMFBMVEX///+YmJhUVFQyMjIQEBBE\n",
       "REQiIiKqqqrMzMyIiIi6urrc3NxmZmZ2dnbu7u4AAADXeCicAAAAAXRSTlMAQObYZgAAAFhJREFU\n",
       "CNdj4LtzgWH/AwZerg8M8xkY2nkSGEIZGB6wTGD4ycDAUP+A4weQOszA6QCkbBhYFYDUIYb1AkDq\n",
       "6czzGxhA4BoQMyXwuQMptgusF4AU+8xTQBIAUqMVoSp/SLMAAAAASUVORK5CYII=\n",
       "\" style=\"display:inline;vertical-align:middle;\" /></a> : <a class=\"ProveItLink\" href=\"../../__pv_it/6840a4fa6c106149dc16a131294d0c5e44f1b0480/expr.ipynb\"><img src=\"data:image/png;base64,iVBORw0KGgoAAAANSUhEUgAAAAkAAAAOBAMAAAAPuiubAAAALVBMVEX///9mZmbMzMxERESYmJiI\n",
       "iIh2dna6urqqqqoyMjIiIiIQEBBUVFTu7u4AAAD9S1JeAAAAAXRSTlMAQObYZgAAAE1JREFUCNdj\n",
       "4D29gAEIOA+ASL4GEFl3AURmgQiGOaFHGBh4HzPwKTBwvGXgTmBgnMDAJ8DAJcBQ5wBSLncBJLWN\n",
       "gYGngRFoBO9REQYGAGrcDtUkVqASAAAAAElFTkSuQmCC\n",
       "\" style=\"display:inline;vertical-align:middle;\" /></a></span></td></tr><tr><td>1</td><td>axiom</td><td></td><td><span style=\"font-size:20px;\"> <a class=\"ProveItLink\" href=\"_axioms_.ipynb#notEqualsDef\" style=\"text-decoration: none\">&#x22A2;&nbsp;</a><a class=\"ProveItLink\" href=\"__pv_it/c5793376bd5f3ed65f46b9bf759589707c82e7920/expr.ipynb\"><img src=\"data:image/png;base64,iVBORw0KGgoAAAANSUhEUgAAAP8AAAAWCAMAAAA4nbqyAAAAPFBMVEX///8LCwsYGBgNDQ0oKCgQ\n",
       "EBC6urrMzMxUVFRmZmZERETc3NwyMjKqqqp2dnaIiIiYmJgiIiLu7u4AAACwKje0AAAAAXRSTlMA\n",
       "QObYZgAAArlJREFUWMPlWNuy2yAMpD3lYjD3///XAjE5FhZYznT60OohO7GI1qCVgDD2n1v64DfC\n",
       "Q5yZM9jTIJ6x0B1r67wQ47efGlYqiDMzO/58k09Y6I4767wAne3unSqFPvDuB2qW6P0JC91xHxJB\n",
       "o3u2NDGK9xCfpr8ozdFZ6A5CBTgE+3JulhiFJ4iP088Sp7PQHYRexxEMzjSL1Oa3Q5zW70JP2lJZ\n",
       "6A6KdV6AWVeLjtpFHETjvDLWb6MsNehyybXxJrfsuY3KMnXMaMeUo7wAVXtRbahNJABMJXyIgfGu\n",
       "n21v9uurfr5btWMi1+LN7Zv9TuIx/GXqwjKjv9BOAuG8AEUdnMiy4gKgO6JbuUq/tGyrb6pfRSE4\n",
       "kWWLb3Mk2rEIcV6IdYAP1PlnAbDqSl1LXajxlMWrUvNLrjJTWS67/poWOd1hvBDr3GP6cP4tJ9ci\n",
       "3MdysrUCZZZ/aP4T2quhvBCL9nv00lSEV7KfMzWy33ALsTYXeTpIN8n+/PESrT7VeV3pQX9Q4efh\n",
       "3E7mP6OdBUJ5B9Tm2KtdqqI6KJJn2TA5lqoOAIN5NReflulne221+phEuO02Okzmv6TF+iXGO6Dd\n",
       "ji4qzo3XJFEe+7HI4B5ic2C6LJHxi+pveSiPRA4wxuLqdBkh72nR/RLjHfFUSfmUOVW6rBoZRDxj\n",
       "0t4l54b2eU1/Hei3Hny/vQKKuHTgtGgHxHhHDG8VVbnL8ybELxsMNxCRnjNJr4sPzr/mqWMhprg4\n",
       "/54llpnb295qWgbL3EW+vUVcDdlMVKx0tndZ+l3lo8vTDe+IJ63YrQirrkRVllVe78/vv1j66/FF\n",
       "H2+e/uL9F+MdEV/mIgKDlH9tjAoiIf3MlirsRa9ICp5FnzvQXCC8I6IHR9PWDb9t9a476b43zc1L\n",
       "2qtPe7v57B+AzjviLP117Rz7x+03cmkoGF9quhUAAAAASUVORK5CYII=\n",
       "\" style=\"display:inline;vertical-align:middle;\" /></a></span></td></tr>\n",
       "<tr><td>&nbsp;</td><td colspan=4 style-\"text-align:left\"><a class=\"ProveItLink\" href=\"_axioms_.ipynb#notEqualsDef\">proveit.logic.equality.notEqualsDef</a></td></tr></table>"
      ],
      "text/plain": [
       "\tstep type\trequirements\tstatement\n",
       "0\tspecialization\t1\t|- (a != b) = [not](a = b)\n",
       "\tx : a, y : b\n",
       "1\taxiom\t\t|- forall_{x, y} ((x != y) = [not](x = y))\n",
       "\tproveit.logic.equality.notEqualsDef"
      ]
     },
     "execution_count": 79,
     "metadata": {},
     "output_type": "execute_result"
    }
   ],
   "source": [
    "a_neq_b.definition().proof()"
   ]
  },
  {
   "cell_type": "markdown",
   "metadata": {},
   "source": [
    "From $\\lnot (a = b)$ one can derive $a \\neq b$ and vice-versa, folding and unfolding the `NotEquals`."
   ]
  },
  {
   "cell_type": "code",
   "execution_count": 80,
   "metadata": {},
   "outputs": [
    {
     "data": {
      "text/html": [
       "<span style=\"font-size:20px;\"><a class=\"ProveItLink\" href=\"__pv_it/8bade139dff945254c524690682a037565b2646d0/expr.ipynb\"><img src=\"data:image/png;base64,iVBORw0KGgoAAAANSUhEUgAAAGMAAAAVBAMAAACgbk16AAAAMFBMVEX////c3NxERESqqqpUVFS6\n",
       "urrMzMwyMjIQEBCIiIh2dnYiIiLu7u5mZmaYmJgAAABXZE4RAAAAAXRSTlMAQObYZgAAAW9JREFU\n",
       "OMtjYGDgu8dALGBbJQCieHahiEbiUs4XANLTDGJyfkAxxwGb8iPdQOIaiHUdRHA1IEuyH8BqRQlI\n",
       "CsRYgallJnZXfQa5bAF2LT1YdbD+AXm6AasW1gKsWrg2gEhlrFp4QZaLzIoQQNXC7jnlAQPDWpgW\n",
       "XmSD2YEyrI0M+uDAKQcBkMcZziswfGNgMAey3oO4GcDwvr0bCEDxwwHkyD9guITmMPsDDF0MDBEg\n",
       "My8wMKS0wcRTgJgfqMWfgWEnmhZgbPxlYMgHMdWB7ohIQNPyiYHnG5qWvQys/yBauEGeZSlA0sJh\n",
       "wMD4k4H5Aw8D1LW7N0GihfcPxGHvEQEI1cL0gIHnM9AUM1RbvjFwAE1/jhHIbCAO0Hd1DNYXFqBq\n",
       "cWa4woAUyKhRCbRSZGaYZgBaspwL9DRDKfYE04g7s+BIMAyvcGvhmgDTwkdM4geB4/D8woMSb4wO\n",
       "OLU4goKoFZJDFyNLSOLSwZkAzfsAsFxiQq1eZvoAAAAASUVORK5CYII=\n",
       "\" style=\"display:inline;vertical-align:middle;\" /></a> <a class=\"ProveItLink\" href=\"__pv_it/ef0e0d74ea7d73fd5192d2d21c6601a3f6d16b9e0/proof.ipynb\" style=\"text-decoration: none\">&#x22A2;&nbsp;</a><a class=\"ProveItLink\" href=\"__pv_it/19ff6125cfeededb0a6e66fb1e0c7ddff3c2dd3b0/expr.ipynb\"><img src=\"data:image/png;base64,iVBORw0KGgoAAAANSUhEUgAAADAAAAAUCAMAAAD84U6VAAAAPFBMVEX///8LCwsYGBgNDQ0oKCgy\n",
       "MjKqqqrMzMzu7u4iIiJmZmaYmJhEREQQEBC6urp2dnaIiIhUVFTc3NwAAABYMwFzAAAAAXRSTlMA\n",
       "QObYZgAAAMhJREFUKM+1kusOwyAIhdnFG7WI+v7vOiRbu9rMxh87SRuNwOcBAUZKBaZUzL72eQ2X\n",
       "CZm+dybPAETVzgGo+ot4F48N2C2UzInWU0Oig6MF5rwoq8XGup2gUT0f7b8Z9bUBqxQptaVhvABY\n",
       "tbAmsaa1A3fx1DURtWUV5YsKdF2C6TwF1E4tciNWoCR9agXR/RZU8TAFlHt5XWUD1o0AalctgBHP\n",
       "VoBp5EBKSl3M7ykwucg0BMjjY1x+Dtni3LOG4Ofi/w4AGpy9AOYzB/Lf2im1AAAAAElFTkSuQmCC\n",
       "\" style=\"display:inline;vertical-align:middle;\" /></a></span>"
      ],
      "text/plain": [
       "{[not](a = b)} |- a != b"
      ]
     },
     "execution_count": 80,
     "metadata": {},
     "output_type": "execute_result"
    }
   ],
   "source": [
    "a_neq_b.prove([Not(a_eq_b)])"
   ]
  },
  {
   "cell_type": "code",
   "execution_count": 81,
   "metadata": {},
   "outputs": [
    {
     "data": {
      "text/html": [
       "<table><tr><th>&nbsp;</th><th>step type</th><th>requirements</th><th>statement</th></tr>\n",
       "<tr><td>0</td><td>specialization</td><td>1, 2</td><td><span style=\"font-size:20px;\"><a class=\"ProveItLink\" href=\"__pv_it/8bade139dff945254c524690682a037565b2646d0/expr.ipynb\"><img src=\"data:image/png;base64,iVBORw0KGgoAAAANSUhEUgAAAGMAAAAVBAMAAACgbk16AAAAMFBMVEX////c3NxERESqqqpUVFS6\n",
       "urrMzMwyMjIQEBCIiIh2dnYiIiLu7u5mZmaYmJgAAABXZE4RAAAAAXRSTlMAQObYZgAAAW9JREFU\n",
       "OMtjYGDgu8dALGBbJQCieHahiEbiUs4XANLTDGJyfkAxxwGb8iPdQOIaiHUdRHA1IEuyH8BqRQlI\n",
       "CsRYgallJnZXfQa5bAF2LT1YdbD+AXm6AasW1gKsWrg2gEhlrFp4QZaLzIoQQNXC7jnlAQPDWpgW\n",
       "XmSD2YEyrI0M+uDAKQcBkMcZziswfGNgMAey3oO4GcDwvr0bCEDxwwHkyD9guITmMPsDDF0MDBEg\n",
       "My8wMKS0wcRTgJgfqMWfgWEnmhZgbPxlYMgHMdWB7ohIQNPyiYHnG5qWvQys/yBauEGeZSlA0sJh\n",
       "wMD4k4H5Aw8D1LW7N0GihfcPxGHvEQEI1cL0gIHnM9AUM1RbvjFwAE1/jhHIbCAO0Hd1DNYXFqBq\n",
       "cWa4woAUyKhRCbRSZGaYZgBaspwL9DRDKfYE04g7s+BIMAyvcGvhmgDTwkdM4geB4/D8woMSb4wO\n",
       "OLU4goKoFZJDFyNLSOLSwZkAzfsAsFxiQq1eZvoAAAAASUVORK5CYII=\n",
       "\" style=\"display:inline;vertical-align:middle;\" /></a> <a class=\"ProveItLink\" href=\"__pv_it/ef0e0d74ea7d73fd5192d2d21c6601a3f6d16b9e0/proof.ipynb\" style=\"text-decoration: none\">&#x22A2;&nbsp;</a><a class=\"ProveItLink\" href=\"__pv_it/19ff6125cfeededb0a6e66fb1e0c7ddff3c2dd3b0/expr.ipynb\"><img src=\"data:image/png;base64,iVBORw0KGgoAAAANSUhEUgAAADAAAAAUCAMAAAD84U6VAAAAPFBMVEX///8LCwsYGBgNDQ0oKCgy\n",
       "MjKqqqrMzMzu7u4iIiJmZmaYmJhEREQQEBC6urp2dnaIiIhUVFTc3NwAAABYMwFzAAAAAXRSTlMA\n",
       "QObYZgAAAMhJREFUKM+1kusOwyAIhdnFG7WI+v7vOiRbu9rMxh87SRuNwOcBAUZKBaZUzL72eQ2X\n",
       "CZm+dybPAETVzgGo+ot4F48N2C2UzInWU0Oig6MF5rwoq8XGup2gUT0f7b8Z9bUBqxQptaVhvABY\n",
       "tbAmsaa1A3fx1DURtWUV5YsKdF2C6TwF1E4tciNWoCR9agXR/RZU8TAFlHt5XWUD1o0AalctgBHP\n",
       "VoBp5EBKSl3M7ykwucg0BMjjY1x+Dtni3LOG4Ofi/w4AGpy9AOYzB/Lf2im1AAAAAElFTkSuQmCC\n",
       "\" style=\"display:inline;vertical-align:middle;\" /></a></span></td></tr>\n",
       "<tr><td>&nbsp;</td><td colspan=4 style=\"text-align:left\"><span style=\"font-size:20px;\"><a class=\"ProveItLink\" href=\"../../__pv_it/530be409e3083890784cf1d7b28c9e67e90af9360/expr.ipynb\"><img src=\"data:image/png;base64,iVBORw0KGgoAAAANSUhEUgAAAAsAAAAJBAMAAAAWSsseAAAAKlBMVEX///9ERETMzMwQEBAiIiKY\n",
       "mJju7u5mZmaqqqpUVFSIiIh2dnbc3NwAAAA/vyDhAAAAAXRSTlMAQObYZgAAAENJREFUCNdjYDi9\n",
       "8sTyBQxsG1hdmR0YuBm4LnAoMLAxcAowgADzAjB1VoEhgYH1wFoGrgSG3gBhhlMMDImrs3cFMAAA\n",
       "t0YN+iTRa+sAAAAASUVORK5CYII=\n",
       "\" style=\"display:inline;vertical-align:middle;\" /></a> : <a class=\"ProveItLink\" href=\"../../__pv_it/07527342713064c87612d00d8557c53d53d5324a0/expr.ipynb\"><img src=\"data:image/png;base64,iVBORw0KGgoAAAANSUhEUgAAAAsAAAAJBAMAAAAWSsseAAAAMFBMVEX///8yMjKqqqrMzMzu7u4i\n",
       "IiJmZmaYmJhEREQQEBC6urp2dnaIiIhUVFTc3NwAAAD87Fq/AAAAAXRSTlMAQObYZgAAAEhJREFU\n",
       "CNdjYOC7s2seAwPDygccHxgY+L4zsDUwMPB+YGA9wMDA38Dgb8DA8P4Agz6DA4O/AsNFJgMGxgKm\n",
       "MG6gyjunLE4xAAAZTBA5TB6DCwAAAABJRU5ErkJggg==\n",
       "\" style=\"display:inline;vertical-align:middle;\" /></a>, <a class=\"ProveItLink\" href=\"../../__pv_it/f8b9edf8e16034727f0aad55bb83e392c3db40d40/expr.ipynb\"><img src=\"data:image/png;base64,iVBORw0KGgoAAAANSUhEUgAAAAsAAAANBAMAAACN24kIAAAAMFBMVEX///+YmJhUVFQyMjIQEBBE\n",
       "REQiIiKqqqrMzMyIiIi6urrc3NxmZmZ2dnbu7u4AAADXeCicAAAAAXRSTlMAQObYZgAAAFhJREFU\n",
       "CNdj4LtzgWH/AwZerg8M8xkY2nkSGEIZGB6wTGD4ycDAUP+A4weQOszA6QCkbBhYFYDUIYb1AkDq\n",
       "6czzGxhA4BoQMyXwuQMptgusF4AU+8xTQBIAUqMVoSp/SLMAAAAASUVORK5CYII=\n",
       "\" style=\"display:inline;vertical-align:middle;\" /></a> : <a class=\"ProveItLink\" href=\"../../__pv_it/6840a4fa6c106149dc16a131294d0c5e44f1b0480/expr.ipynb\"><img src=\"data:image/png;base64,iVBORw0KGgoAAAANSUhEUgAAAAkAAAAOBAMAAAAPuiubAAAALVBMVEX///9mZmbMzMxERESYmJiI\n",
       "iIh2dna6urqqqqoyMjIiIiIQEBBUVFTu7u4AAAD9S1JeAAAAAXRSTlMAQObYZgAAAE1JREFUCNdj\n",
       "4D29gAEIOA+ASL4GEFl3AURmgQiGOaFHGBh4HzPwKTBwvGXgTmBgnMDAJ8DAJcBQ5wBSLncBJLWN\n",
       "gYGngRFoBO9REQYGAGrcDtUkVqASAAAAAElFTkSuQmCC\n",
       "\" style=\"display:inline;vertical-align:middle;\" /></a></span></td></tr><tr><td>1</td><td>theorem</td><td></td><td><span style=\"font-size:20px;\"> <a class=\"ProveItLink\" href=\"_proofs_/foldNotEquals.ipynb\" style=\"text-decoration: none\">&#x22A2;&nbsp;</a><a class=\"ProveItLink\" href=\"__pv_it/40f17a21e536dd79e090d454cc9966420e03bacb0/expr.ipynb\"><img src=\"data:image/png;base64,iVBORw0KGgoAAAANSUhEUgAAALkAAAAXCAMAAABgZR7wAAAAPFBMVEX///8LCwsYGBgNDQ0oKCgQ\n",
       "EBC6urrMzMxUVFRmZmZERETc3NwyMjKqqqp2dnaIiIiYmJgiIiLu7u4AAACwKje0AAAAAXRSTlMA\n",
       "QObYZgAAAnhJREFUWMPVV9my5CAIdRb3BZf//9cRE20Tjcntmepb40OqYgQOBwRCyH+74rdaZ7D+\n",
       "7vRs1zN8htc7fBw4F+vv2sz3JUevbH01n6f/zqRgV4Lolqr+qY8DB3iP8pwfrvNb2o8jp+9STiIt\n",
       "8HVZ4fPX09zcgkUWKOQ5KVzB/QUGzW+PTCIqd5PagdAW5Dl31EFrdOW8TiVQTmJMygGlH5B0BfyB\n",
       "13w8Y/wOKQc+eEJr1KUp6/cvfLbq4whLeDfSRgTGi+HHaB5Qq764fyzNg9+U7ZA2PJavKOeWSHRN\n",
       "bcYYrSUd/PvI7aNGMHKTWOuFYlTNxLljUrSTNmO8UI+oQ3wf+ZNEa1k5Ii/0j86bs1aLGc4T75Bn\n",
       "Nmozy3eFQTXBQB1L1wVyOpF9tfemY6jetN1aXfBUQzLk9fNHKOtlU2LQYDe2ZUsmba+cLmLcdo0R\n",
       "SNKE0zvOuTnKClMXHHSwc6tXW4Z6vV07iEvKicFyonYlfjNqZWjFw7SE15HlbVBT5E5tyzREB9mZ\n",
       "Dn5O9FLZchJ4orJrGhZZXjjPWyz5XvaQZqnzVeRrL2DJed6yYiY76hiQs8JXVOCic6cSMVKOB0FW\n",
       "E2a/I74FCgPL+7JF+R1ypo6yqsuWXgcbxOnl1bbyorSGrvv3GZuIM6XA6uJztsgSuUMew1H2hK7p\n",
       "8G46N03XpNSJgIBtrQZDPKzMsUMcGDwrQJk1cl7NvGRP7DUdkj2ecmeU43ii3FVv6PnIxOtjml9V\n",
       "RVhMmZ2OiTUtHlOe+x0038Wig3BdPDyOcxfI42qmazqmnVbDlwakShVfU45eukfzib0eHV46xHf+\n",
       "714a9/dTrvvX/4p/AKhQG9K7cHihAAAAAElFTkSuQmCC\n",
       "\" style=\"display:inline;vertical-align:middle;\" /></a></span></td></tr>\n",
       "<tr><td>&nbsp;</td><td colspan=4 style-\"text-align:left\"><a class=\"ProveItLink\" href=\"_proofs_/foldNotEquals.ipynb\">proveit.logic.equality.foldNotEquals</a></td></tr><tr><td>2</td><td>assumption</td><td></td><td><span style=\"font-size:20px;\"><a class=\"ProveItLink\" href=\"__pv_it/8bade139dff945254c524690682a037565b2646d0/expr.ipynb\"><img src=\"data:image/png;base64,iVBORw0KGgoAAAANSUhEUgAAAGMAAAAVBAMAAACgbk16AAAAMFBMVEX////c3NxERESqqqpUVFS6\n",
       "urrMzMwyMjIQEBCIiIh2dnYiIiLu7u5mZmaYmJgAAABXZE4RAAAAAXRSTlMAQObYZgAAAW9JREFU\n",
       "OMtjYGDgu8dALGBbJQCieHahiEbiUs4XANLTDGJyfkAxxwGb8iPdQOIaiHUdRHA1IEuyH8BqRQlI\n",
       "CsRYgallJnZXfQa5bAF2LT1YdbD+AXm6AasW1gKsWrg2gEhlrFp4QZaLzIoQQNXC7jnlAQPDWpgW\n",
       "XmSD2YEyrI0M+uDAKQcBkMcZziswfGNgMAey3oO4GcDwvr0bCEDxwwHkyD9guITmMPsDDF0MDBEg\n",
       "My8wMKS0wcRTgJgfqMWfgWEnmhZgbPxlYMgHMdWB7ohIQNPyiYHnG5qWvQys/yBauEGeZSlA0sJh\n",
       "wMD4k4H5Aw8D1LW7N0GihfcPxGHvEQEI1cL0gIHnM9AUM1RbvjFwAE1/jhHIbCAO0Hd1DNYXFqBq\n",
       "cWa4woAUyKhRCbRSZGaYZgBaspwL9DRDKfYE04g7s+BIMAyvcGvhmgDTwkdM4geB4/D8woMSb4wO\n",
       "OLU4goKoFZJDFyNLSOLSwZkAzfsAsFxiQq1eZvoAAAAASUVORK5CYII=\n",
       "\" style=\"display:inline;vertical-align:middle;\" /></a> <a class=\"ProveItLink\" href=\"__pv_it/fb7e1bea5171bca4db626295a67db49c7b2d382f0/proof.ipynb\" style=\"text-decoration: none\">&#x22A2;&nbsp;</a><a class=\"ProveItLink\" href=\"__pv_it/18f2498ec00d4a83eb08f530895367f745a88c660/expr.ipynb\"><img src=\"data:image/png;base64,iVBORw0KGgoAAAANSUhEUgAAAE4AAAAVBAMAAAAazcUaAAAAMFBMVEX////c3NxERESqqqqYmJgQ\n",
       "EBDu7u4yMjKIiIi6urpUVFTMzMx2dnYiIiJmZmYAAABjE816AAAAAXRSTlMAQObYZgAAAR1JREFU\n",
       "KM9jYCAdzMAlwTIBmce9AJuarFgg8RpZhD0Bq2FVIClkgQ7sln4GWXwASSAMqzLOb0CCLQBJoACr\n",
       "Op4LIFIZIcAHMluqZ6oAqjr2FV0ODAznkASAXM5ABn0Q+3k5CIB8wJCvwPCbgcGc4e1dILgDFGAF\n",
       "BpK8A8MjNHvtExhiGBimQji7gJgfqG49A8MNNHXPGRj+MTDsR1X3iYHtN5q6ewycX1DUsRowMP5g\n",
       "YP7ABmSDHXP3EiT4+L6h2MvkwMD2mYGrwBrVvN8MrMCAcIdGLSigHjAwlDDYPjiAqm4xwysGlHDh\n",
       "BAaoVMdsjQlo6aAPGF4MlUgigbhTHHK8MfjgVsfTQDhdgUA6ModxAU51C1F4EriUcWxgAADkckc1\n",
       "/lI+/QAAAABJRU5ErkJggg==\n",
       "\" style=\"display:inline;vertical-align:middle;\" /></a></span></td></tr>\n",
       "</table>"
      ],
      "text/plain": [
       "\tstep type\trequirements\tstatement\n",
       "0\tspecialization\t1, 2\t{[not](a = b)} |- a != b\n",
       "\tx : a, y : b\n",
       "1\ttheorem\t\t|- forall_{x, y | [not](x = y)} (x != y)\n",
       "\tproveit.logic.equality.foldNotEquals\n",
       "2\tassumption\t\t{[not](a = b)} |- [not](a = b)"
      ]
     },
     "execution_count": 81,
     "metadata": {},
     "output_type": "execute_result"
    }
   ],
   "source": [
    "a_neq_b.prove([Not(a_eq_b)]).proof()"
   ]
  },
  {
   "cell_type": "code",
   "execution_count": 82,
   "metadata": {},
   "outputs": [
    {
     "data": {
      "text/html": [
       "<span style=\"font-size:20px;\"><a class=\"ProveItLink\" href=\"__pv_it/8135a462fb779889fd4ae1b9b2e36d99f8de40790/expr.ipynb\"><img src=\"data:image/png;base64,iVBORw0KGgoAAAANSUhEUgAAAEIAAAAVCAMAAADFAciVAAAAPFBMVEX///8LCwsYGBgNDQ0oKChE\n",
       "RETc3NyqqqpUVFS6urrMzMwyMjIQEBCIiIh2dnYiIiLu7u5mZmaYmJgAAADt+DP7AAAAAXRSTlMA\n",
       "QObYZgAAARtJREFUOMudlNu6xBAMhe2DirPw/u+6CabDzJTuXPSj5bespGGsRMTIbody7ujj4N1q\n",
       "+bl4gBjRRjatCIc+xwGM72Ps751ZIUA+zzSweecS8SwiRxL3EaMImcJthOKjtZ59RhxgnTQv5nPF\n",
       "RiushTju7L7Sbn6mBzXF7095PiwMqYhKhI2pZ7de9UgFjXwhQpAVppaSxgIA05YAIb2dCBLGedWc\n",
       "sPF1JP2VQQJDUhNCT954pKxUM3pdg673sCQzY/p5Psf3l6fgQ1VgTWz3omUp0LeME+pKRDWyWTEn\n",
       "tdxKZJnuyol8SD4J4X1d5KqwUnErL0Xk38w+WsNOdQq87gEbCB/2ENH8U8TZL8JLOW2K6HVNOpx4\n",
       "u0bu9M4/J0wNCUeljr8AAAAASUVORK5CYII=\n",
       "\" style=\"display:inline;vertical-align:middle;\" /></a> <a class=\"ProveItLink\" href=\"__pv_it/8c39cd64236e6b6a8cf2521c6300d5308c8f028a0/proof.ipynb\" style=\"text-decoration: none\">&#x22A2;&nbsp;</a><a class=\"ProveItLink\" href=\"__pv_it/18f2498ec00d4a83eb08f530895367f745a88c660/expr.ipynb\"><img src=\"data:image/png;base64,iVBORw0KGgoAAAANSUhEUgAAAE4AAAAVBAMAAAAazcUaAAAAMFBMVEX////c3NxERESqqqqYmJgQ\n",
       "EBDu7u4yMjKIiIi6urpUVFTMzMx2dnYiIiJmZmYAAABjE816AAAAAXRSTlMAQObYZgAAAR1JREFU\n",
       "KM9jYCAdzMAlwTIBmce9AJuarFgg8RpZhD0Bq2FVIClkgQ7sln4GWXwASSAMqzLOb0CCLQBJoACr\n",
       "Op4LIFIZIcAHMluqZ6oAqjr2FV0ODAznkASAXM5ABn0Q+3k5CIB8wJCvwPCbgcGc4e1dILgDFGAF\n",
       "BpK8A8MjNHvtExhiGBimQji7gJgfqG49A8MNNHXPGRj+MTDsR1X3iYHtN5q6ewycX1DUsRowMP5g\n",
       "YP7ABmSDHXP3EiT4+L6h2MvkwMD2mYGrwBrVvN8MrMCAcIdGLSigHjAwlDDYPjiAqm4xwysGlHDh\n",
       "BAaoVMdsjQlo6aAPGF4MlUgigbhTHHK8MfjgVsfTQDhdgUA6ModxAU51C1F4EriUcWxgAADkckc1\n",
       "/lI+/QAAAABJRU5ErkJggg==\n",
       "\" style=\"display:inline;vertical-align:middle;\" /></a></span>"
      ],
      "text/plain": [
       "{a != b} |- [not](a = b)"
      ]
     },
     "execution_count": 82,
     "metadata": {},
     "output_type": "execute_result"
    }
   ],
   "source": [
    "Not(a_eq_b).prove([a_neq_b])"
   ]
  },
  {
   "cell_type": "code",
   "execution_count": 83,
   "metadata": {},
   "outputs": [
    {
     "data": {
      "text/html": [
       "<table><tr><th>&nbsp;</th><th>step type</th><th>requirements</th><th>statement</th></tr>\n",
       "<tr><td>0</td><td>specialization</td><td>1, 2</td><td><span style=\"font-size:20px;\"><a class=\"ProveItLink\" href=\"__pv_it/8135a462fb779889fd4ae1b9b2e36d99f8de40790/expr.ipynb\"><img src=\"data:image/png;base64,iVBORw0KGgoAAAANSUhEUgAAAEIAAAAVCAMAAADFAciVAAAAPFBMVEX///8LCwsYGBgNDQ0oKChE\n",
       "RETc3NyqqqpUVFS6urrMzMwyMjIQEBCIiIh2dnYiIiLu7u5mZmaYmJgAAADt+DP7AAAAAXRSTlMA\n",
       "QObYZgAAARtJREFUOMudlNu6xBAMhe2DirPw/u+6CabDzJTuXPSj5bespGGsRMTIbody7ujj4N1q\n",
       "+bl4gBjRRjatCIc+xwGM72Ps751ZIUA+zzSweecS8SwiRxL3EaMImcJthOKjtZ59RhxgnTQv5nPF\n",
       "RiushTju7L7Sbn6mBzXF7095PiwMqYhKhI2pZ7de9UgFjXwhQpAVppaSxgIA05YAIb2dCBLGedWc\n",
       "sPF1JP2VQQJDUhNCT954pKxUM3pdg673sCQzY/p5Psf3l6fgQ1VgTWz3omUp0LeME+pKRDWyWTEn\n",
       "tdxKZJnuyol8SD4J4X1d5KqwUnErL0Xk38w+WsNOdQq87gEbCB/2ENH8U8TZL8JLOW2K6HVNOpx4\n",
       "u0bu9M4/J0wNCUeljr8AAAAASUVORK5CYII=\n",
       "\" style=\"display:inline;vertical-align:middle;\" /></a> <a class=\"ProveItLink\" href=\"__pv_it/8c39cd64236e6b6a8cf2521c6300d5308c8f028a0/proof.ipynb\" style=\"text-decoration: none\">&#x22A2;&nbsp;</a><a class=\"ProveItLink\" href=\"__pv_it/18f2498ec00d4a83eb08f530895367f745a88c660/expr.ipynb\"><img src=\"data:image/png;base64,iVBORw0KGgoAAAANSUhEUgAAAE4AAAAVBAMAAAAazcUaAAAAMFBMVEX////c3NxERESqqqqYmJgQ\n",
       "EBDu7u4yMjKIiIi6urpUVFTMzMx2dnYiIiJmZmYAAABjE816AAAAAXRSTlMAQObYZgAAAR1JREFU\n",
       "KM9jYCAdzMAlwTIBmce9AJuarFgg8RpZhD0Bq2FVIClkgQ7sln4GWXwASSAMqzLOb0CCLQBJoACr\n",
       "Op4LIFIZIcAHMluqZ6oAqjr2FV0ODAznkASAXM5ABn0Q+3k5CIB8wJCvwPCbgcGc4e1dILgDFGAF\n",
       "BpK8A8MjNHvtExhiGBimQji7gJgfqG49A8MNNHXPGRj+MTDsR1X3iYHtN5q6ewycX1DUsRowMP5g\n",
       "YP7ABmSDHXP3EiT4+L6h2MvkwMD2mYGrwBrVvN8MrMCAcIdGLSigHjAwlDDYPjiAqm4xwysGlHDh\n",
       "BAaoVMdsjQlo6aAPGF4MlUgigbhTHHK8MfjgVsfTQDhdgUA6ModxAU51C1F4EriUcWxgAADkckc1\n",
       "/lI+/QAAAABJRU5ErkJggg==\n",
       "\" style=\"display:inline;vertical-align:middle;\" /></a></span></td></tr>\n",
       "<tr><td>&nbsp;</td><td colspan=4 style=\"text-align:left\"><span style=\"font-size:20px;\"><a class=\"ProveItLink\" href=\"../../__pv_it/530be409e3083890784cf1d7b28c9e67e90af9360/expr.ipynb\"><img src=\"data:image/png;base64,iVBORw0KGgoAAAANSUhEUgAAAAsAAAAJBAMAAAAWSsseAAAAKlBMVEX///9ERETMzMwQEBAiIiKY\n",
       "mJju7u5mZmaqqqpUVFSIiIh2dnbc3NwAAAA/vyDhAAAAAXRSTlMAQObYZgAAAENJREFUCNdjYDi9\n",
       "8sTyBQxsG1hdmR0YuBm4LnAoMLAxcAowgADzAjB1VoEhgYH1wFoGrgSG3gBhhlMMDImrs3cFMAAA\n",
       "t0YN+iTRa+sAAAAASUVORK5CYII=\n",
       "\" style=\"display:inline;vertical-align:middle;\" /></a> : <a class=\"ProveItLink\" href=\"../../__pv_it/07527342713064c87612d00d8557c53d53d5324a0/expr.ipynb\"><img src=\"data:image/png;base64,iVBORw0KGgoAAAANSUhEUgAAAAsAAAAJBAMAAAAWSsseAAAAMFBMVEX///8yMjKqqqrMzMzu7u4i\n",
       "IiJmZmaYmJhEREQQEBC6urp2dnaIiIhUVFTc3NwAAAD87Fq/AAAAAXRSTlMAQObYZgAAAEhJREFU\n",
       "CNdjYOC7s2seAwPDygccHxgY+L4zsDUwMPB+YGA9wMDA38Dgb8DA8P4Agz6DA4O/AsNFJgMGxgKm\n",
       "MG6gyjunLE4xAAAZTBA5TB6DCwAAAABJRU5ErkJggg==\n",
       "\" style=\"display:inline;vertical-align:middle;\" /></a>, <a class=\"ProveItLink\" href=\"../../__pv_it/f8b9edf8e16034727f0aad55bb83e392c3db40d40/expr.ipynb\"><img src=\"data:image/png;base64,iVBORw0KGgoAAAANSUhEUgAAAAsAAAANBAMAAACN24kIAAAAMFBMVEX///+YmJhUVFQyMjIQEBBE\n",
       "REQiIiKqqqrMzMyIiIi6urrc3NxmZmZ2dnbu7u4AAADXeCicAAAAAXRSTlMAQObYZgAAAFhJREFU\n",
       "CNdj4LtzgWH/AwZerg8M8xkY2nkSGEIZGB6wTGD4ycDAUP+A4weQOszA6QCkbBhYFYDUIYb1AkDq\n",
       "6czzGxhA4BoQMyXwuQMptgusF4AU+8xTQBIAUqMVoSp/SLMAAAAASUVORK5CYII=\n",
       "\" style=\"display:inline;vertical-align:middle;\" /></a> : <a class=\"ProveItLink\" href=\"../../__pv_it/6840a4fa6c106149dc16a131294d0c5e44f1b0480/expr.ipynb\"><img src=\"data:image/png;base64,iVBORw0KGgoAAAANSUhEUgAAAAkAAAAOBAMAAAAPuiubAAAALVBMVEX///9mZmbMzMxERESYmJiI\n",
       "iIh2dna6urqqqqoyMjIiIiIQEBBUVFTu7u4AAAD9S1JeAAAAAXRSTlMAQObYZgAAAE1JREFUCNdj\n",
       "4D29gAEIOA+ASL4GEFl3AURmgQiGOaFHGBh4HzPwKTBwvGXgTmBgnMDAJ8DAJcBQ5wBSLncBJLWN\n",
       "gYGngRFoBO9REQYGAGrcDtUkVqASAAAAAElFTkSuQmCC\n",
       "\" style=\"display:inline;vertical-align:middle;\" /></a></span></td></tr><tr><td>1</td><td>theorem</td><td></td><td><span style=\"font-size:20px;\"> <a class=\"ProveItLink\" href=\"_proofs_/unfoldNotEquals.ipynb\" style=\"text-decoration: none\">&#x22A2;&nbsp;</a><a class=\"ProveItLink\" href=\"__pv_it/38779c63c7ca10709484d9771bf5465a3e774ee90/expr.ipynb\"><img src=\"data:image/png;base64,iVBORw0KGgoAAAANSUhEUgAAAL8AAAAXCAMAAABte263AAAAOVBMVEX///8oKCgUFBQJCQkQEBC6\n",
       "urrMzMxUVFRmZmZERETc3NwyMjKqqqp2dnaIiIiYmJgiIiLu7u4AAACP9cC6AAAAAXRSTlMAQObY\n",
       "ZgAAAmJJREFUWMPVV4lu5CAMZXfDffP/H7uYAIEZSEg7kVpLlRuM4YGfbQahXy7+8R2wuWs4F4tb\n",
       "7Y5x8wh8Qu8aroSRRmtVhuUzoZgu+/X9ZKMFzx/1n8+KMXcNCwzSjS7XwNQj+Dd/17CQs1ujrRZJ\n",
       "3DPJK+8aVoSrRgcO4vQj+Jm+MAhtqFCGXbDJ6+QgQoqaZvto0jSlMxcLl3m2wdhf2lkO2owrMsBZ\n",
       "tNXwM9lILVEa4QBJE9KXysFLGsMkvxJOvlDUXlm+n5m5Kroz6AxKkfMirOISgGCHgHMC7BoMxn4P\n",
       "v5gU84AnVT8bgA70uvLFaRswLOw0IwE1GrA7/z38M/pd4U+hWKmkCphPAhngj9wpq8ZkwoaS0t95\n",
       "X+da/N1MhPXYA21qgv8wiASq+jRUc+7YkQHBTcebqrmgmY0egpmX9gYFgcg2vP86k6Y8+xf/zMAD\n",
       "cTvBnw1W7DlpruIvodTw7GxlpxVztcAcBUN4HIcNH+LvZpbsefeola45QGtQwSIezysuKcQidBxs\n",
       "v2rRDQNDQ2QaWUHNjP/HTM9nHgjP2uJu8Nxor/VC9YgzDStbStxrW6MHwSdt8dvIBH+eySNz/v6R\n",
       "iT/vHvFr1le2hYbzItoN3g8tpIC0TDVZSFg9IsFhWH+OmX3tfPU43lrTR9iaUAdwVakdvW5ipFgM\n",
       "KOCDiCpquBziP2bC8JF7rx4fez9D2+P5xKXXnvbciF+IFzKP6786LvLN46SzzQ3DTSL7S8egotfD\n",
       "hi3SeftXIj/9NYEGHgnnrLaIr/0CMKTXs+uHM+vr/mtVd0vPPGM/I/TnQfoP0pMahBS79IEAAAAA\n",
       "SUVORK5CYII=\n",
       "\" style=\"display:inline;vertical-align:middle;\" /></a></span></td></tr>\n",
       "<tr><td>&nbsp;</td><td colspan=4 style-\"text-align:left\"><a class=\"ProveItLink\" href=\"_proofs_/unfoldNotEquals.ipynb\">proveit.logic.equality.unfoldNotEquals</a></td></tr><tr><td>2</td><td>assumption</td><td></td><td><span style=\"font-size:20px;\"><a class=\"ProveItLink\" href=\"__pv_it/8135a462fb779889fd4ae1b9b2e36d99f8de40790/expr.ipynb\"><img src=\"data:image/png;base64,iVBORw0KGgoAAAANSUhEUgAAAEIAAAAVCAMAAADFAciVAAAAPFBMVEX///8LCwsYGBgNDQ0oKChE\n",
       "RETc3NyqqqpUVFS6urrMzMwyMjIQEBCIiIh2dnYiIiLu7u5mZmaYmJgAAADt+DP7AAAAAXRSTlMA\n",
       "QObYZgAAARtJREFUOMudlNu6xBAMhe2DirPw/u+6CabDzJTuXPSj5bespGGsRMTIbody7ujj4N1q\n",
       "+bl4gBjRRjatCIc+xwGM72Ps751ZIUA+zzSweecS8SwiRxL3EaMImcJthOKjtZ59RhxgnTQv5nPF\n",
       "RiushTju7L7Sbn6mBzXF7095PiwMqYhKhI2pZ7de9UgFjXwhQpAVppaSxgIA05YAIb2dCBLGedWc\n",
       "sPF1JP2VQQJDUhNCT954pKxUM3pdg673sCQzY/p5Psf3l6fgQ1VgTWz3omUp0LeME+pKRDWyWTEn\n",
       "tdxKZJnuyol8SD4J4X1d5KqwUnErL0Xk38w+WsNOdQq87gEbCB/2ENH8U8TZL8JLOW2K6HVNOpx4\n",
       "u0bu9M4/J0wNCUeljr8AAAAASUVORK5CYII=\n",
       "\" style=\"display:inline;vertical-align:middle;\" /></a> <a class=\"ProveItLink\" href=\"__pv_it/0d596c2edf65920b2712372138d49fd02137ec000/proof.ipynb\" style=\"text-decoration: none\">&#x22A2;&nbsp;</a><a class=\"ProveItLink\" href=\"__pv_it/19ff6125cfeededb0a6e66fb1e0c7ddff3c2dd3b0/expr.ipynb\"><img src=\"data:image/png;base64,iVBORw0KGgoAAAANSUhEUgAAADAAAAAUCAMAAAD84U6VAAAAPFBMVEX///8LCwsYGBgNDQ0oKCgy\n",
       "MjKqqqrMzMzu7u4iIiJmZmaYmJhEREQQEBC6urp2dnaIiIhUVFTc3NwAAABYMwFzAAAAAXRSTlMA\n",
       "QObYZgAAAMhJREFUKM+1kusOwyAIhdnFG7WI+v7vOiRbu9rMxh87SRuNwOcBAUZKBaZUzL72eQ2X\n",
       "CZm+dybPAETVzgGo+ot4F48N2C2UzInWU0Oig6MF5rwoq8XGup2gUT0f7b8Z9bUBqxQptaVhvABY\n",
       "tbAmsaa1A3fx1DURtWUV5YsKdF2C6TwF1E4tciNWoCR9agXR/RZU8TAFlHt5XWUD1o0AalctgBHP\n",
       "VoBp5EBKSl3M7ykwucg0BMjjY1x+Dtni3LOG4Ofi/w4AGpy9AOYzB/Lf2im1AAAAAElFTkSuQmCC\n",
       "\" style=\"display:inline;vertical-align:middle;\" /></a></span></td></tr>\n",
       "</table>"
      ],
      "text/plain": [
       "\tstep type\trequirements\tstatement\n",
       "0\tspecialization\t1, 2\t{a != b} |- [not](a = b)\n",
       "\tx : a, y : b\n",
       "1\ttheorem\t\t|- forall_{x, y | x != y} [not](x = y)\n",
       "\tproveit.logic.equality.unfoldNotEquals\n",
       "2\tassumption\t\t{a != b} |- a != b"
      ]
     },
     "execution_count": 83,
     "metadata": {},
     "output_type": "execute_result"
    }
   ],
   "source": [
    "Not(a_eq_b).prove([a_neq_b]).proof()"
   ]
  },
  {
   "cell_type": "markdown",
   "metadata": {},
   "source": [
    "`NotEquals` also has a symmetry property which can be applied directly.  It can be proven  through automation."
   ]
  },
  {
   "cell_type": "code",
   "execution_count": 84,
   "metadata": {},
   "outputs": [
    {
     "data": {
      "text/html": [
       "<span style=\"font-size:20px;\"><a class=\"ProveItLink\" href=\"__pv_it/8135a462fb779889fd4ae1b9b2e36d99f8de40790/expr.ipynb\"><img src=\"data:image/png;base64,iVBORw0KGgoAAAANSUhEUgAAAEIAAAAVCAMAAADFAciVAAAAPFBMVEX///8LCwsYGBgNDQ0oKChE\n",
       "RETc3NyqqqpUVFS6urrMzMwyMjIQEBCIiIh2dnYiIiLu7u5mZmaYmJgAAADt+DP7AAAAAXRSTlMA\n",
       "QObYZgAAARtJREFUOMudlNu6xBAMhe2DirPw/u+6CabDzJTuXPSj5bespGGsRMTIbody7ujj4N1q\n",
       "+bl4gBjRRjatCIc+xwGM72Ps751ZIUA+zzSweecS8SwiRxL3EaMImcJthOKjtZ59RhxgnTQv5nPF\n",
       "RiushTju7L7Sbn6mBzXF7095PiwMqYhKhI2pZ7de9UgFjXwhQpAVppaSxgIA05YAIb2dCBLGedWc\n",
       "sPF1JP2VQQJDUhNCT954pKxUM3pdg673sCQzY/p5Psf3l6fgQ1VgTWz3omUp0LeME+pKRDWyWTEn\n",
       "tdxKZJnuyol8SD4J4X1d5KqwUnErL0Xk38w+WsNOdQq87gEbCB/2ENH8U8TZL8JLOW2K6HVNOpx4\n",
       "u0bu9M4/J0wNCUeljr8AAAAASUVORK5CYII=\n",
       "\" style=\"display:inline;vertical-align:middle;\" /></a> <a class=\"ProveItLink\" href=\"__pv_it/fd73778c126c845002955a5f5b018dd3153439100/proof.ipynb\" style=\"text-decoration: none\">&#x22A2;&nbsp;</a><a class=\"ProveItLink\" href=\"__pv_it/bf526a0e32e7f82c578e8133fcc440ba64c5b47f0/expr.ipynb\"><img src=\"data:image/png;base64,iVBORw0KGgoAAAANSUhEUgAAADAAAAAUCAMAAAD84U6VAAAAPFBMVEX///8LCwsYGBgNDQ0oKCjc\n",
       "3NxmZmbMzMxERESYmJiIiIh2dna6urqqqqoyMjIiIiIQEBBUVFTu7u4AAACG5AffAAAAAXRSTlMA\n",
       "QObYZgAAAMdJREFUKM+1UssSwyAItI+gxVfQ///XImnTCdHMeCgHxwFcdheNGYdfuulCa+4WljRC\n",
       "StRNUxg9qHFuQKhlboDvSrDOjCUg0ktnnVUMCX1Ym2+lNqz6rUOSeD7a+XNDel1t1ygSVn85YKmN\n",
       "ArgNUpyCoxHKaRLsjHKCOHUUkdSShXbZeMsWYLcWMsf9liXczgiFPD/6yFUS9IAiqJRM5GbiO9Cl\n",
       "AkZgxpHJe/l8CGoL6fRNeQsYrMP+9iOYuchlrv/vA0y4rL4ByNcIcfwhiOoAAAAASUVORK5CYII=\n",
       "\" style=\"display:inline;vertical-align:middle;\" /></a></span>"
      ],
      "text/plain": [
       "{a != b} |- b != a"
      ]
     },
     "execution_count": 84,
     "metadata": {},
     "output_type": "execute_result"
    }
   ],
   "source": [
    "NotEquals(b, a).prove([a_neq_b])"
   ]
  },
  {
   "cell_type": "markdown",
   "metadata": {},
   "source": [
    "Or explicitly via `deriveReversed`"
   ]
  },
  {
   "cell_type": "code",
   "execution_count": 85,
   "metadata": {},
   "outputs": [
    {
     "data": {
      "text/html": [
       "<table><tr><th>&nbsp;</th><th>step type</th><th>requirements</th><th>statement</th></tr>\n",
       "<tr><td>0</td><td>specialization</td><td>1, 2</td><td><span style=\"font-size:20px;\"><a class=\"ProveItLink\" href=\"__pv_it/8135a462fb779889fd4ae1b9b2e36d99f8de40790/expr.ipynb\"><img src=\"data:image/png;base64,iVBORw0KGgoAAAANSUhEUgAAAEIAAAAVCAMAAADFAciVAAAAPFBMVEX///8LCwsYGBgNDQ0oKChE\n",
       "RETc3NyqqqpUVFS6urrMzMwyMjIQEBCIiIh2dnYiIiLu7u5mZmaYmJgAAADt+DP7AAAAAXRSTlMA\n",
       "QObYZgAAARtJREFUOMudlNu6xBAMhe2DirPw/u+6CabDzJTuXPSj5bespGGsRMTIbody7ujj4N1q\n",
       "+bl4gBjRRjatCIc+xwGM72Ps751ZIUA+zzSweecS8SwiRxL3EaMImcJthOKjtZ59RhxgnTQv5nPF\n",
       "RiushTju7L7Sbn6mBzXF7095PiwMqYhKhI2pZ7de9UgFjXwhQpAVppaSxgIA05YAIb2dCBLGedWc\n",
       "sPF1JP2VQQJDUhNCT954pKxUM3pdg673sCQzY/p5Psf3l6fgQ1VgTWz3omUp0LeME+pKRDWyWTEn\n",
       "tdxKZJnuyol8SD4J4X1d5KqwUnErL0Xk38w+WsNOdQq87gEbCB/2ENH8U8TZL8JLOW2K6HVNOpx4\n",
       "u0bu9M4/J0wNCUeljr8AAAAASUVORK5CYII=\n",
       "\" style=\"display:inline;vertical-align:middle;\" /></a> <a class=\"ProveItLink\" href=\"__pv_it/fd73778c126c845002955a5f5b018dd3153439100/proof.ipynb\" style=\"text-decoration: none\">&#x22A2;&nbsp;</a><a class=\"ProveItLink\" href=\"__pv_it/bf526a0e32e7f82c578e8133fcc440ba64c5b47f0/expr.ipynb\"><img src=\"data:image/png;base64,iVBORw0KGgoAAAANSUhEUgAAADAAAAAUCAMAAAD84U6VAAAAPFBMVEX///8LCwsYGBgNDQ0oKCjc\n",
       "3NxmZmbMzMxERESYmJiIiIh2dna6urqqqqoyMjIiIiIQEBBUVFTu7u4AAACG5AffAAAAAXRSTlMA\n",
       "QObYZgAAAMdJREFUKM+1UssSwyAItI+gxVfQ///XImnTCdHMeCgHxwFcdheNGYdfuulCa+4WljRC\n",
       "StRNUxg9qHFuQKhlboDvSrDOjCUg0ktnnVUMCX1Ym2+lNqz6rUOSeD7a+XNDel1t1ygSVn85YKmN\n",
       "ArgNUpyCoxHKaRLsjHKCOHUUkdSShXbZeMsWYLcWMsf9liXczgiFPD/6yFUS9IAiqJRM5GbiO9Cl\n",
       "AkZgxpHJe/l8CGoL6fRNeQsYrMP+9iOYuchlrv/vA0y4rL4ByNcIcfwhiOoAAAAASUVORK5CYII=\n",
       "\" style=\"display:inline;vertical-align:middle;\" /></a></span></td></tr>\n",
       "<tr><td>&nbsp;</td><td colspan=4 style=\"text-align:left\"><span style=\"font-size:20px;\"><a class=\"ProveItLink\" href=\"../../__pv_it/530be409e3083890784cf1d7b28c9e67e90af9360/expr.ipynb\"><img src=\"data:image/png;base64,iVBORw0KGgoAAAANSUhEUgAAAAsAAAAJBAMAAAAWSsseAAAAKlBMVEX///9ERETMzMwQEBAiIiKY\n",
       "mJju7u5mZmaqqqpUVFSIiIh2dnbc3NwAAAA/vyDhAAAAAXRSTlMAQObYZgAAAENJREFUCNdjYDi9\n",
       "8sTyBQxsG1hdmR0YuBm4LnAoMLAxcAowgADzAjB1VoEhgYH1wFoGrgSG3gBhhlMMDImrs3cFMAAA\n",
       "t0YN+iTRa+sAAAAASUVORK5CYII=\n",
       "\" style=\"display:inline;vertical-align:middle;\" /></a> : <a class=\"ProveItLink\" href=\"../../__pv_it/07527342713064c87612d00d8557c53d53d5324a0/expr.ipynb\"><img src=\"data:image/png;base64,iVBORw0KGgoAAAANSUhEUgAAAAsAAAAJBAMAAAAWSsseAAAAMFBMVEX///8yMjKqqqrMzMzu7u4i\n",
       "IiJmZmaYmJhEREQQEBC6urp2dnaIiIhUVFTc3NwAAAD87Fq/AAAAAXRSTlMAQObYZgAAAEhJREFU\n",
       "CNdjYOC7s2seAwPDygccHxgY+L4zsDUwMPB+YGA9wMDA38Dgb8DA8P4Agz6DA4O/AsNFJgMGxgKm\n",
       "MG6gyjunLE4xAAAZTBA5TB6DCwAAAABJRU5ErkJggg==\n",
       "\" style=\"display:inline;vertical-align:middle;\" /></a>, <a class=\"ProveItLink\" href=\"../../__pv_it/f8b9edf8e16034727f0aad55bb83e392c3db40d40/expr.ipynb\"><img src=\"data:image/png;base64,iVBORw0KGgoAAAANSUhEUgAAAAsAAAANBAMAAACN24kIAAAAMFBMVEX///+YmJhUVFQyMjIQEBBE\n",
       "REQiIiKqqqrMzMyIiIi6urrc3NxmZmZ2dnbu7u4AAADXeCicAAAAAXRSTlMAQObYZgAAAFhJREFU\n",
       "CNdj4LtzgWH/AwZerg8M8xkY2nkSGEIZGB6wTGD4ycDAUP+A4weQOszA6QCkbBhYFYDUIYb1AkDq\n",
       "6czzGxhA4BoQMyXwuQMptgusF4AU+8xTQBIAUqMVoSp/SLMAAAAASUVORK5CYII=\n",
       "\" style=\"display:inline;vertical-align:middle;\" /></a> : <a class=\"ProveItLink\" href=\"../../__pv_it/6840a4fa6c106149dc16a131294d0c5e44f1b0480/expr.ipynb\"><img src=\"data:image/png;base64,iVBORw0KGgoAAAANSUhEUgAAAAkAAAAOBAMAAAAPuiubAAAALVBMVEX///9mZmbMzMxERESYmJiI\n",
       "iIh2dna6urqqqqoyMjIiIiIQEBBUVFTu7u4AAAD9S1JeAAAAAXRSTlMAQObYZgAAAE1JREFUCNdj\n",
       "4D29gAEIOA+ASL4GEFl3AURmgQiGOaFHGBh4HzPwKTBwvGXgTmBgnMDAJ8DAJcBQ5wBSLncBJLWN\n",
       "gYGngRFoBO9REQYGAGrcDtUkVqASAAAAAElFTkSuQmCC\n",
       "\" style=\"display:inline;vertical-align:middle;\" /></a></span></td></tr><tr><td>1</td><td>theorem</td><td></td><td><span style=\"font-size:20px;\"> <a class=\"ProveItLink\" href=\"_proofs_/notEqualsSymmetry.ipynb\" style=\"text-decoration: none\">&#x22A2;&nbsp;</a><a class=\"ProveItLink\" href=\"__pv_it/142f124dff1286bc3a1a7614a61793788632c0a00/expr.ipynb\"><img src=\"data:image/png;base64,iVBORw0KGgoAAAANSUhEUgAAAKEAAAAXCAMAAABUHN/sAAAAQlBMVEX///8LCwsYGBgNDQ0oKCgU\n",
       "FBQJCQkQEBC6urrMzMxUVFRmZmZERETc3NwyMjKqqqp2dnaIiIiYmJgiIiLu7u4AAABNCf5tAAAA\n",
       "AXRSTlMAQObYZgAAAktJREFUSMfNVgly5CAMJNkk5gZx/P+ri7DBYGOco5xdqmZqxpag1WpJEPLf\n",
       "r/Abh1CYv7dq+NhR/Pb7f3gKIOPz90pfvBAM4ZvyVz9G593OnF56In5ZApFPAQT4JoUpr7YJUJin\n",
       "EC7fppCEJcNUefnHykTfqHSWPIm8RYnL26cQim3nYPMvFQ+UStbn3AJXBsQqDSuQ5Gwh1SfYmHWt\n",
       "S3/ttpZCaERVxoJc5/X2B79rtYcUhfOOLGtODSaA4tugP8HGLB2CXcpwDYwZIvBUKacU2i0Isz6m\n",
       "S2mJ4H6GUF23vEjLaFgwc7GvbMrPE4TvB7HMOKLz4WcIJyKJRRwGFchiz5keOC5wQJgyXLp+UikF\n",
       "zsqskn2vaBF2loTasUc+z1ThIR1L1YVP6/XF59VurXIQoclyImBrSTYgw9uWAUhUhC1DDqslz3L/\n",
       "SB8YeGSvIiCNdSn5nEKn1lqCFaFb68MIX4tVV0GqQNNjkEOEnWVR8dmjNoxMWgJHo5upMCnBEZlC\n",
       "VNA7N4mPTVA85Y7DlQ53yyCvPDIKX80ARFRTCpONDdbWwtWbiF1VDqaItX1iYRcIN0uZ8vv+pnOW\n",
       "zx7rNg0M240uI+7uhgfFpMKxOrcklYNLZ9E4rOXdsu80R499/CduPZ7YTf/bDmLhRLERiWVEgDQb\n",
       "DlIPEe6W+Hg/5+jR3r5wrkr7NQpncyQhVOogqnE/NPupJ4+2nZukwn5u3lLIJ6OYqRxwfy+Rl7fM\n",
       "YmDHNxkFX57zuUWwOYUYtL2fKa5R1snjtxf/F4f+BTXlHex98CG5AAAAAElFTkSuQmCC\n",
       "\" style=\"display:inline;vertical-align:middle;\" /></a></span></td></tr>\n",
       "<tr><td>&nbsp;</td><td colspan=4 style-\"text-align:left\"><a class=\"ProveItLink\" href=\"_proofs_/notEqualsSymmetry.ipynb\">proveit.logic.equality.notEqualsSymmetry</a></td></tr><tr><td>2</td><td>assumption</td><td></td><td><span style=\"font-size:20px;\"><a class=\"ProveItLink\" href=\"__pv_it/8135a462fb779889fd4ae1b9b2e36d99f8de40790/expr.ipynb\"><img src=\"data:image/png;base64,iVBORw0KGgoAAAANSUhEUgAAAEIAAAAVCAMAAADFAciVAAAAPFBMVEX///8LCwsYGBgNDQ0oKChE\n",
       "RETc3NyqqqpUVFS6urrMzMwyMjIQEBCIiIh2dnYiIiLu7u5mZmaYmJgAAADt+DP7AAAAAXRSTlMA\n",
       "QObYZgAAARtJREFUOMudlNu6xBAMhe2DirPw/u+6CabDzJTuXPSj5bespGGsRMTIbody7ujj4N1q\n",
       "+bl4gBjRRjatCIc+xwGM72Ps751ZIUA+zzSweecS8SwiRxL3EaMImcJthOKjtZ59RhxgnTQv5nPF\n",
       "RiushTju7L7Sbn6mBzXF7095PiwMqYhKhI2pZ7de9UgFjXwhQpAVppaSxgIA05YAIb2dCBLGedWc\n",
       "sPF1JP2VQQJDUhNCT954pKxUM3pdg673sCQzY/p5Psf3l6fgQ1VgTWz3omUp0LeME+pKRDWyWTEn\n",
       "tdxKZJnuyol8SD4J4X1d5KqwUnErL0Xk38w+WsNOdQq87gEbCB/2ENH8U8TZL8JLOW2K6HVNOpx4\n",
       "u0bu9M4/J0wNCUeljr8AAAAASUVORK5CYII=\n",
       "\" style=\"display:inline;vertical-align:middle;\" /></a> <a class=\"ProveItLink\" href=\"__pv_it/0d596c2edf65920b2712372138d49fd02137ec000/proof.ipynb\" style=\"text-decoration: none\">&#x22A2;&nbsp;</a><a class=\"ProveItLink\" href=\"__pv_it/19ff6125cfeededb0a6e66fb1e0c7ddff3c2dd3b0/expr.ipynb\"><img src=\"data:image/png;base64,iVBORw0KGgoAAAANSUhEUgAAADAAAAAUCAMAAAD84U6VAAAAPFBMVEX///8LCwsYGBgNDQ0oKCgy\n",
       "MjKqqqrMzMzu7u4iIiJmZmaYmJhEREQQEBC6urp2dnaIiIhUVFTc3NwAAABYMwFzAAAAAXRSTlMA\n",
       "QObYZgAAAMhJREFUKM+1kusOwyAIhdnFG7WI+v7vOiRbu9rMxh87SRuNwOcBAUZKBaZUzL72eQ2X\n",
       "CZm+dybPAETVzgGo+ot4F48N2C2UzInWU0Oig6MF5rwoq8XGup2gUT0f7b8Z9bUBqxQptaVhvABY\n",
       "tbAmsaa1A3fx1DURtWUV5YsKdF2C6TwF1E4tciNWoCR9agXR/RZU8TAFlHt5XWUD1o0AalctgBHP\n",
       "VoBp5EBKSl3M7ykwucg0BMjjY1x+Dtni3LOG4Ofi/w4AGpy9AOYzB/Lf2im1AAAAAElFTkSuQmCC\n",
       "\" style=\"display:inline;vertical-align:middle;\" /></a></span></td></tr>\n",
       "</table>"
      ],
      "text/plain": [
       "\tstep type\trequirements\tstatement\n",
       "0\tspecialization\t1, 2\t{a != b} |- b != a\n",
       "\tx : a, y : b\n",
       "1\ttheorem\t\t|- forall_{x, y | x != y} (y != x)\n",
       "\tproveit.logic.equality.notEqualsSymmetry\n",
       "2\tassumption\t\t{a != b} |- a != b"
      ]
     },
     "execution_count": 85,
     "metadata": {},
     "output_type": "execute_result"
    }
   ],
   "source": [
    "a_neq_b.prove([a_neq_b]).deriveReversed().proof()"
   ]
  },
  {
   "cell_type": "markdown",
   "metadata": {},
   "source": [
    "If two objects are both equal and not equal, there is a contradiction."
   ]
  },
  {
   "cell_type": "code",
   "execution_count": 86,
   "metadata": {},
   "outputs": [
    {
     "data": {
      "text/html": [
       "<strong id=\"neq_contradiction\">neq_contradiction:</strong> <span style=\"font-size:20px;\"><a class=\"ProveItLink\" href=\"__pv_it/0215f927dd880ac712cdceb2c96cb73582a8bdd90/expr.ipynb\"><img src=\"data:image/png;base64,iVBORw0KGgoAAAANSUhEUgAAAHsAAAAVCAMAAABR52FnAAAAPFBMVEX///8LCwsYGBgNDQ0oKChE\n",
       "RETc3NyqqqpUVFS6urrMzMwyMjIQEBCIiIh2dnYiIiLu7u5mZmaYmJgAAADt+DP7AAAAAXRSTlMA\n",
       "QObYZgAAAYBJREFUSMe9lteSrSAQRZ2ABGmC/P+/DrQSRbS4d6YfTmkdFpuOuCzBdrsvf2dCqTU+\n",
       "G62elufF/0dd0vMJ3NPadcvPhkk9JViCNm6o5BPGePm2sUl3M5gkH7VLt705OqmdwffatdvcmTnp\n",
       "AnytLUhdd3rS7QLsaK8MFJdtTRPRZA2A1T3Z567pTmCSTEWHOHG5GNG+v8JvKhPjQhhceZ6Gi+Bh\n",
       "XXB3sdnOdK4uHMqSsdsUsyaLkXDDtVaBmw3KTMa9GR5GQ1MhTUcdUXK2KMUud7EaJNuOETvFMSbG\n",
       "iSZLTRq1xZItEt7nLlaBcZSy7QwdYGT8PudBtbfPD41Gqia1RZ9duAOM1gVjvmPtG/zTH4SKgdtH\n",
       "sWDWzDLgOpNF5HRfeixkgPrIqEG2vYhXsgw19T3Xm1AR7Gn7LgUuCPCR2/5KgOPGNdKtt1z3LoF0\n",
       "Vb+Za9QOh+T0zfpGWw9H9/wHR5Lc5Zzb/6CdRqm5HQtjt2FaOo3S4IDqX8n8V7/XfgAWeBSdPMaj\n",
       "BwAAAABJRU5ErkJggg==\n",
       "\" style=\"display:inline;vertical-align:middle;\" /></a> <a class=\"ProveItLink\" href=\"__pv_it/b088419d909a51d6d66c2406cdd9df7cbdf705b00/proof.ipynb\" style=\"text-decoration: none\">&#x22A2;&nbsp;</a><a class=\"ProveItLink\" href=\"../boolean/__pv_it/8f1f7fac882de28c72b62ab80a1700b6d8fd066b0/expr.ipynb\"><img src=\"data:image/png;base64,iVBORw0KGgoAAAANSUhEUgAAAA4AAAAOBAMAAADtZjDiAAAAG1BMVEX///9EREQQEBAiIiJmZmbM\n",
       "zMyIiIjc3NwAAACryk5kAAAAAXRSTlMAQObYZgAAABlJREFUCNdjYGBgKGOAgBBa0s7GxkbGxoYA\n",
       "FMUF2aBfHgoAAAAASUVORK5CYII=\n",
       "\" style=\"display:inline;vertical-align:middle;\" /></a></span><br>"
      ],
      "text/plain": [
       "neq_contradiction: {a != b , a = b} |- FALSE"
      ]
     },
     "execution_count": 86,
     "metadata": {},
     "output_type": "execute_result"
    }
   ],
   "source": [
    "neq_contradiction = a_neq_b.deriveContradiction([a_neq_b, a_eq_b])"
   ]
  },
  {
   "cell_type": "code",
   "execution_count": 87,
   "metadata": {},
   "outputs": [
    {
     "data": {
      "text/html": [
       "<table><tr><th>&nbsp;</th><th>step type</th><th>requirements</th><th>statement</th></tr>\n",
       "<tr><td>0</td><td>specialization</td><td>1, 2, 3</td><td><span style=\"font-size:20px;\"><a class=\"ProveItLink\" href=\"__pv_it/0215f927dd880ac712cdceb2c96cb73582a8bdd90/expr.ipynb\"><img src=\"data:image/png;base64,iVBORw0KGgoAAAANSUhEUgAAAHsAAAAVCAMAAABR52FnAAAAPFBMVEX///8LCwsYGBgNDQ0oKChE\n",
       "RETc3NyqqqpUVFS6urrMzMwyMjIQEBCIiIh2dnYiIiLu7u5mZmaYmJgAAADt+DP7AAAAAXRSTlMA\n",
       "QObYZgAAAYBJREFUSMe9lteSrSAQRZ2ABGmC/P+/DrQSRbS4d6YfTmkdFpuOuCzBdrsvf2dCqTU+\n",
       "G62elufF/0dd0vMJ3NPadcvPhkk9JViCNm6o5BPGePm2sUl3M5gkH7VLt705OqmdwffatdvcmTnp\n",
       "AnytLUhdd3rS7QLsaK8MFJdtTRPRZA2A1T3Z567pTmCSTEWHOHG5GNG+v8JvKhPjQhhceZ6Gi+Bh\n",
       "XXB3sdnOdK4uHMqSsdsUsyaLkXDDtVaBmw3KTMa9GR5GQ1MhTUcdUXK2KMUud7EaJNuOETvFMSbG\n",
       "iSZLTRq1xZItEt7nLlaBcZSy7QwdYGT8PudBtbfPD41Gqia1RZ9duAOM1gVjvmPtG/zTH4SKgdtH\n",
       "sWDWzDLgOpNF5HRfeixkgPrIqEG2vYhXsgw19T3Xm1AR7Gn7LgUuCPCR2/5KgOPGNdKtt1z3LoF0\n",
       "Vb+Za9QOh+T0zfpGWw9H9/wHR5Lc5Zzb/6CdRqm5HQtjt2FaOo3S4IDqX8n8V7/XfgAWeBSdPMaj\n",
       "BwAAAABJRU5ErkJggg==\n",
       "\" style=\"display:inline;vertical-align:middle;\" /></a> <a class=\"ProveItLink\" href=\"__pv_it/b088419d909a51d6d66c2406cdd9df7cbdf705b00/proof.ipynb\" style=\"text-decoration: none\">&#x22A2;&nbsp;</a><a class=\"ProveItLink\" href=\"../boolean/__pv_it/8f1f7fac882de28c72b62ab80a1700b6d8fd066b0/expr.ipynb\"><img src=\"data:image/png;base64,iVBORw0KGgoAAAANSUhEUgAAAA4AAAAOBAMAAADtZjDiAAAAG1BMVEX///9EREQQEBAiIiJmZmbM\n",
       "zMyIiIjc3NwAAACryk5kAAAAAXRSTlMAQObYZgAAABlJREFUCNdjYGBgKGOAgBBa0s7GxkbGxoYA\n",
       "FMUF2aBfHgoAAAAASUVORK5CYII=\n",
       "\" style=\"display:inline;vertical-align:middle;\" /></a></span></td></tr>\n",
       "<tr><td>&nbsp;</td><td colspan=4 style=\"text-align:left\"><span style=\"font-size:20px;\"><a class=\"ProveItLink\" href=\"../../__pv_it/530be409e3083890784cf1d7b28c9e67e90af9360/expr.ipynb\"><img src=\"data:image/png;base64,iVBORw0KGgoAAAANSUhEUgAAAAsAAAAJBAMAAAAWSsseAAAAKlBMVEX///9ERETMzMwQEBAiIiKY\n",
       "mJju7u5mZmaqqqpUVFSIiIh2dnbc3NwAAAA/vyDhAAAAAXRSTlMAQObYZgAAAENJREFUCNdjYDi9\n",
       "8sTyBQxsG1hdmR0YuBm4LnAoMLAxcAowgADzAjB1VoEhgYH1wFoGrgSG3gBhhlMMDImrs3cFMAAA\n",
       "t0YN+iTRa+sAAAAASUVORK5CYII=\n",
       "\" style=\"display:inline;vertical-align:middle;\" /></a> : <a class=\"ProveItLink\" href=\"../../__pv_it/07527342713064c87612d00d8557c53d53d5324a0/expr.ipynb\"><img src=\"data:image/png;base64,iVBORw0KGgoAAAANSUhEUgAAAAsAAAAJBAMAAAAWSsseAAAAMFBMVEX///8yMjKqqqrMzMzu7u4i\n",
       "IiJmZmaYmJhEREQQEBC6urp2dnaIiIhUVFTc3NwAAAD87Fq/AAAAAXRSTlMAQObYZgAAAEhJREFU\n",
       "CNdjYOC7s2seAwPDygccHxgY+L4zsDUwMPB+YGA9wMDA38Dgb8DA8P4Agz6DA4O/AsNFJgMGxgKm\n",
       "MG6gyjunLE4xAAAZTBA5TB6DCwAAAABJRU5ErkJggg==\n",
       "\" style=\"display:inline;vertical-align:middle;\" /></a>, <a class=\"ProveItLink\" href=\"../../__pv_it/f8b9edf8e16034727f0aad55bb83e392c3db40d40/expr.ipynb\"><img src=\"data:image/png;base64,iVBORw0KGgoAAAANSUhEUgAAAAsAAAANBAMAAACN24kIAAAAMFBMVEX///+YmJhUVFQyMjIQEBBE\n",
       "REQiIiKqqqrMzMyIiIi6urrc3NxmZmZ2dnbu7u4AAADXeCicAAAAAXRSTlMAQObYZgAAAFhJREFU\n",
       "CNdj4LtzgWH/AwZerg8M8xkY2nkSGEIZGB6wTGD4ycDAUP+A4weQOszA6QCkbBhYFYDUIYb1AkDq\n",
       "6czzGxhA4BoQMyXwuQMptgusF4AU+8xTQBIAUqMVoSp/SLMAAAAASUVORK5CYII=\n",
       "\" style=\"display:inline;vertical-align:middle;\" /></a> : <a class=\"ProveItLink\" href=\"../../__pv_it/6840a4fa6c106149dc16a131294d0c5e44f1b0480/expr.ipynb\"><img src=\"data:image/png;base64,iVBORw0KGgoAAAANSUhEUgAAAAkAAAAOBAMAAAAPuiubAAAALVBMVEX///9mZmbMzMxERESYmJiI\n",
       "iIh2dna6urqqqqoyMjIiIiIQEBBUVFTu7u4AAAD9S1JeAAAAAXRSTlMAQObYZgAAAE1JREFUCNdj\n",
       "4D29gAEIOA+ASL4GEFl3AURmgQiGOaFHGBh4HzPwKTBwvGXgTmBgnMDAJ8DAJcBQ5wBSLncBJLWN\n",
       "gYGngRFoBO9REQYGAGrcDtUkVqASAAAAAElFTkSuQmCC\n",
       "\" style=\"display:inline;vertical-align:middle;\" /></a></span></td></tr><tr><td>1</td><td>theorem</td><td></td><td><span style=\"font-size:20px;\"> <a class=\"ProveItLink\" href=\"_proofs_/notEqualsContradiction.ipynb\" style=\"text-decoration: none\">&#x22A2;&nbsp;</a><a class=\"ProveItLink\" href=\"__pv_it/3b978af40a8ee9b15894daeb9718097ebc98975e0/expr.ipynb\"><img src=\"data:image/png;base64,iVBORw0KGgoAAAANSUhEUgAAAJAAAAAWCAMAAAAYceVPAAAAOVBMVEX///8oKCgUFBQJCQkQEBC6\n",
       "urrMzMxUVFRmZmZERETc3NwyMjKqqqp2dnaIiIiYmJgiIiLu7u4AAACP9cC6AAAAAXRSTlMAQObY\n",
       "ZgAAAXdJREFUSMfNluuOhCAMhdkdLnKr4Ps/7IIjYLU6GjOr/WGMOQc/2lJlkT0sQr3r4U4OU97u\n",
       "XXlkb02W7AqZXt7cDFQT07mHAPXejBHYQ4DYoHME/xggJfNVm88mcfGl0RwCEipr7YEFr7Z9Jw8B\n",
       "jaMI+u8DGXWsZCNMiN8H2u2KOVAql5zgPSgBasqsgEzAIwmElLX62IE1wtOrroESunr3q49Macbf\n",
       "EykCGwyTnMxQVSpbApaOheZFaWgg14V6jGxtJhNFegyaBELKDQfWTF26XpUAYrx9V4dZoVVKsoKt\n",
       "HhqIllg6mibqLU0XxuDjdVL1taI5l7UxeNojlxtAk1LPSrZyzDS/Pxua3Wk5MJ/mUdqBsXlrySYG\n",
       "8pQ1JY7iyH6kmR355ap7k1SD6yD1YlosV9wp0JYEakocxZH9SKPjSnMyEpAxuNif59DMgTveeUpz\n",
       "6luXbNozYU8NxuaQuOMtpTmbIOYA/LlJ3Rw4Qb2jNNdD/cNvyB+M5xJfWlZzswAAAABJRU5ErkJg\n",
       "gg==\n",
       "\" style=\"display:inline;vertical-align:middle;\" /></a></span></td></tr>\n",
       "<tr><td>&nbsp;</td><td colspan=4 style-\"text-align:left\"><a class=\"ProveItLink\" href=\"_proofs_/notEqualsContradiction.ipynb\">proveit.logic.equality.notEqualsContradiction</a></td></tr><tr><td>2</td><td>assumption</td><td></td><td><span style=\"font-size:20px;\"><a class=\"ProveItLink\" href=\"__pv_it/d009e43b8cfc53c34c454c29c4e29a99e07d6d330/expr.ipynb\"><img src=\"data:image/png;base64,iVBORw0KGgoAAAANSUhEUgAAAEIAAAAVBAMAAAAA8SWUAAAAMFBMVEX///9ERETc3NyqqqpUVFS6\n",
       "urrMzMwyMjIQEBCIiIh2dnYiIiLu7u5mZmaYmJgAAABJJ2g3AAAAAXRSTlMAQObYZgAAAPVJREFU\n",
       "KM9jYGDgu8eAC2QtApE8uxhwgwwDIMH5Aascj8cGIMlbACS4GrBrZ3eASeJSwW9ASEX8AUIqVjOg\n",
       "qFCZFaGApqJkph9UEuRc1iYGeZAobzkYgNzI85GBP4GBD+TRjAAGBv0HDBfRjGD+w8CxgIGhloEh\n",
       "pQ3I9Wdg2ImmAmg0/wUGBsY6BoaIBAaGjww839BUcF9giH/AwAAKcJYCBqafDMwfeEAad4OBACQ4\n",
       "7h+AuINrAwPPZ6A6M7QAS2DoQvJtHYP1hQWoKlgMeB2QVKjMDJMMQIs5z3uEwpSBgXgVfPhUgNMH\n",
       "z058aQzsOr7FeNMpAKA7QF+x84JNAAAAAElFTkSuQmCC\n",
       "\" style=\"display:inline;vertical-align:middle;\" /></a> <a class=\"ProveItLink\" href=\"__pv_it/5733d2fb135f1bae1e7425769e5e990625ccd88c0/proof.ipynb\" style=\"text-decoration: none\">&#x22A2;&nbsp;</a><a class=\"ProveItLink\" href=\"__pv_it/95b1b23aa332dbd7d732f72039ef4fed607fecb10/expr.ipynb\"><img src=\"data:image/png;base64,iVBORw0KGgoAAAANSUhEUgAAADAAAAAOBAMAAACbXIJpAAAAMFBMVEX///8yMjKqqqrMzMzu7u4i\n",
       "IiJmZmaYmJhEREQQEBC6urp2dnaIiIhUVFTc3NwAAAD87Fq/AAAAAXRSTlMAQObYZgAAAJVJREFU\n",
       "GNNjYMACfKcy4ACyuCQ+4RDn+oJDgjsARPLd2TUPTYLxztkCBoaVDzg+gHiJgiAAtta/geEzA993\n",
       "BrYGNB36DgyzGXg/MLAeQJNIZGD4xsDfwOBvgCYRxsD1neH9AQZ9BgcgLzUUBCIg3mD7wuCvwHCR\n",
       "CU3LZwbODQyMBUxh3GhGXWLIBXnjlMUp9EA8VsAAAM4dJKpjP/uaAAAAAElFTkSuQmCC\n",
       "\" style=\"display:inline;vertical-align:middle;\" /></a></span></td></tr>\n",
       "<tr><td>3</td><td>assumption</td><td></td><td><span style=\"font-size:20px;\"><a class=\"ProveItLink\" href=\"__pv_it/8135a462fb779889fd4ae1b9b2e36d99f8de40790/expr.ipynb\"><img src=\"data:image/png;base64,iVBORw0KGgoAAAANSUhEUgAAAEIAAAAVCAMAAADFAciVAAAAPFBMVEX///8LCwsYGBgNDQ0oKChE\n",
       "RETc3NyqqqpUVFS6urrMzMwyMjIQEBCIiIh2dnYiIiLu7u5mZmaYmJgAAADt+DP7AAAAAXRSTlMA\n",
       "QObYZgAAARtJREFUOMudlNu6xBAMhe2DirPw/u+6CabDzJTuXPSj5bespGGsRMTIbody7ujj4N1q\n",
       "+bl4gBjRRjatCIc+xwGM72Ps751ZIUA+zzSweecS8SwiRxL3EaMImcJthOKjtZ59RhxgnTQv5nPF\n",
       "RiushTju7L7Sbn6mBzXF7095PiwMqYhKhI2pZ7de9UgFjXwhQpAVppaSxgIA05YAIb2dCBLGedWc\n",
       "sPF1JP2VQQJDUhNCT954pKxUM3pdg673sCQzY/p5Psf3l6fgQ1VgTWz3omUp0LeME+pKRDWyWTEn\n",
       "tdxKZJnuyol8SD4J4X1d5KqwUnErL0Xk38w+WsNOdQq87gEbCB/2ENH8U8TZL8JLOW2K6HVNOpx4\n",
       "u0bu9M4/J0wNCUeljr8AAAAASUVORK5CYII=\n",
       "\" style=\"display:inline;vertical-align:middle;\" /></a> <a class=\"ProveItLink\" href=\"__pv_it/0d596c2edf65920b2712372138d49fd02137ec000/proof.ipynb\" style=\"text-decoration: none\">&#x22A2;&nbsp;</a><a class=\"ProveItLink\" href=\"__pv_it/19ff6125cfeededb0a6e66fb1e0c7ddff3c2dd3b0/expr.ipynb\"><img src=\"data:image/png;base64,iVBORw0KGgoAAAANSUhEUgAAADAAAAAUCAMAAAD84U6VAAAAPFBMVEX///8LCwsYGBgNDQ0oKCgy\n",
       "MjKqqqrMzMzu7u4iIiJmZmaYmJhEREQQEBC6urp2dnaIiIhUVFTc3NwAAABYMwFzAAAAAXRSTlMA\n",
       "QObYZgAAAMhJREFUKM+1kusOwyAIhdnFG7WI+v7vOiRbu9rMxh87SRuNwOcBAUZKBaZUzL72eQ2X\n",
       "CZm+dybPAETVzgGo+ot4F48N2C2UzInWU0Oig6MF5rwoq8XGup2gUT0f7b8Z9bUBqxQptaVhvABY\n",
       "tbAmsaa1A3fx1DURtWUV5YsKdF2C6TwF1E4tciNWoCR9agXR/RZU8TAFlHt5XWUD1o0AalctgBHP\n",
       "VoBp5EBKSl3M7ykwucg0BMjjY1x+Dtni3LOG4Ofi/w4AGpy9AOYzB/Lf2im1AAAAAElFTkSuQmCC\n",
       "\" style=\"display:inline;vertical-align:middle;\" /></a></span></td></tr>\n",
       "</table>"
      ],
      "text/plain": [
       "\tstep type\trequirements\tstatement\n",
       "0\tspecialization\t1, 2, 3\t{a != b , a = b} |- FALSE\n",
       "\tx : a, y : b\n",
       "1\ttheorem\t\t|- forall_{x, y | x = y , x != y} FALSE\n",
       "\tproveit.logic.equality.notEqualsContradiction\n",
       "2\tassumption\t\t{a = b} |- a = b\n",
       "3\tassumption\t\t{a != b} |- a != b"
      ]
     },
     "execution_count": 87,
     "metadata": {},
     "output_type": "execute_result"
    }
   ],
   "source": [
    "neq_contradiction.proof()"
   ]
  },
  {
   "cell_type": "code",
   "execution_count": 88,
   "metadata": {},
   "outputs": [
    {
     "data": {
      "text/html": [
       "<strong id=\"a_neq_a\">a_neq_a:</strong> <a class=\"ProveItLink\" href=\"__pv_it/d057e383691e8c8bf9cdd4e5955106b51dbb6fb70/expr.ipynb\"><img src=\"data:image/png;base64,iVBORw0KGgoAAAANSUhEUgAAADIAAAAUCAMAAAD4FJ6oAAAAPFBMVEX///8LCwsYGBgNDQ0oKCgy\n",
       "MjKqqqrMzMzu7u4iIiJmZmaYmJhEREQQEBC6urp2dnaIiIhUVFTc3NwAAABYMwFzAAAAAXRSTlMA\n",
       "QObYZgAAAKBJREFUKM/NktsOAiEMRKsrVyu3/v+/LpCIXcx2w4txHiCBM0zbACApFlhUUasOyOEv\n",
       "QwwKBeQUw+trOGhOsb4hjSuvuh5bW/M4ZlihZ+PwIoRjuRtdmhwhT7NgGDWjpalwUFNvDCvUjLq+\n",
       "Yd+9uKr7zXXhqOuDWdItVoE2UsgBU7Ut7TxEqZMjVsedgsEUpJATjEn75d/l7KrjJyEgf/odtl8I\n",
       "B4tstgcAAAAASUVORK5CYII=\n",
       "\" style=\"display:inline;vertical-align:middle;\" /></a><br>"
      ],
      "text/plain": [
       "a_neq_a: a != a"
      ]
     },
     "execution_count": 88,
     "metadata": {},
     "output_type": "execute_result"
    }
   ],
   "source": [
    "a_neq_a = NotEquals(a, a)"
   ]
  },
  {
   "cell_type": "code",
   "execution_count": 89,
   "metadata": {},
   "outputs": [
    {
     "data": {
      "text/html": [
       "<strong id=\"b_from_contradiction\">b_from_contradiction:</strong> <span style=\"font-size:20px;\"><a class=\"ProveItLink\" href=\"__pv_it/09a76570fef40dfa7d1e866274ec643a5bc835540/expr.ipynb\"><img src=\"data:image/png;base64,iVBORw0KGgoAAAANSUhEUgAAANkAAAAVCAMAAAD8SruLAAAAPFBMVEX///8LCwsYGBgNDQ0oKCjc\n",
       "3NxERESqqqpUVFS6urrMzMwyMjIQEBCIiIh2dnYiIiLu7u5mZmaYmJgAAADzuxXdAAAAAXRSTlMA\n",
       "QObYZgAAAs9JREFUWMPdWNm2pCAMdBb2RZb//9dRJIAQ0Nv9Njzc69GQopIihN62cwQftv9lSGsJ\n",
       "PLvdlvfCTKcE8d79wk0aFfxThBU3zfKTifUlH+wc1/v15OVr33z9nSj8PYJQ4adRUpGqqPROgZAH\n",
       "91YXK+WQqQrWqd4yQ900g8+So1bw00FPjTjlrO0IVWYGFVGEWASLfR5ZGPNZynCEAr9mthkBgUGY\n",
       "aSzWIsJbp98lSH+aMgyhwoONUfsxVM+MhY27CTOBxtJWnVMsfKJXi3hQraSL8LMF/DVbBTfJGaGz\n",
       "nHlUbYobw69TwXqUeie+4oZwY4UeyiDt6kRrNiI08MmYOlyNcg/wqRKCGCvsVHPxjERMq2ElG35v\n",
       "RrwvB9yk1dJaeL1K4++f829N9M2MqQV8YkHQfXYsImqIcIhQ/kH2+aFZ9RF9lnSu7bUIXENMtTsn\n",
       "uyHxZOjpQ8ruZgNCC38SpfMKYhh8VD4dPbogRYGcS1dGr7TIONv5Ste52Q1Pxrt52JZ3swGhhU/M\n",
       "IehDBTn/QQBo0o0o1FBmu08FKqyYSWUb9Wc3SUYu9oev6uR0NxsQWvhZD1CYbTlp0FRxoK8Zwiwd\n",
       "J/4qvVUrt32233f15YZEk8RUD7w05/evPKWI8WY2qLGFT53gC2awz2pdpQFjJqvOA1rPWRfHy41L\n",
       "azqixuQqZZ1ZQQAqLXxKQ1gwy2ocq/5Ycg+3/ED2fJtX/aGjyFan1NkhJrs8/DozQHAxh7uFv5Im\n",
       "JsyCN9PzTGCpdtyUO47CmoehDmc3xzFlhKRGrFLWmwGC05EM8DmQXd98dcR015xt8+6KLJsHvLsa\n",
       "+/O5G+a3twhi7oSre20cWoeRGd7yTpuNn/S1uWg9dJQNwhd34UIo6HfXD/f1LeYxZQ3CF8xKU+Xq\n",
       "aUpWdyFO3rqeuXlKWYNgPicmm64hWNh8ZO7RyPfOJ24efg34CcLj7yD/AKfdJVkFo0ApAAAAAElF\n",
       "TkSuQmCC\n",
       "\" style=\"display:inline;vertical-align:middle;\" /></a> <a class=\"ProveItLink\" href=\"__pv_it/6aa1944b5a4627c1abdb05ece7ca1029cc2817040/proof.ipynb\" style=\"text-decoration: none\">&#x22A2;&nbsp;</a><a class=\"ProveItLink\" href=\"../../__pv_it/6840a4fa6c106149dc16a131294d0c5e44f1b0480/expr.ipynb\"><img src=\"data:image/png;base64,iVBORw0KGgoAAAANSUhEUgAAAAkAAAAOBAMAAAAPuiubAAAALVBMVEX///9mZmbMzMxERESYmJiI\n",
       "iIh2dna6urqqqqoyMjIiIiIQEBBUVFTu7u4AAAD9S1JeAAAAAXRSTlMAQObYZgAAAE1JREFUCNdj\n",
       "4D29gAEIOA+ASL4GEFl3AURmgQiGOaFHGBh4HzPwKTBwvGXgTmBgnMDAJ8DAJcBQ5wBSLncBJLWN\n",
       "gYGngRFoBO9REQYGAGrcDtUkVqASAAAAAElFTkSuQmCC\n",
       "\" style=\"display:inline;vertical-align:middle;\" /></a></span><br>"
      ],
      "text/plain": [
       "b_from_contradiction: {[not](b) => (a != a) , b in BOOLEANS} |- b"
      ]
     },
     "execution_count": 89,
     "metadata": {},
     "output_type": "execute_result"
    }
   ],
   "source": [
    "b_from_contradiction = a_neq_a.affirmViaContradiction(b, [Implies(Not(b), a_neq_a), inBool(b)])"
   ]
  },
  {
   "cell_type": "code",
   "execution_count": 90,
   "metadata": {},
   "outputs": [
    {
     "data": {
      "text/html": [
       "<table><tr><th>&nbsp;</th><th>step type</th><th>requirements</th><th>statement</th></tr>\n",
       "<tr><td>0</td><td>specialization</td><td>1, 2, 3</td><td><span style=\"font-size:20px;\"><a class=\"ProveItLink\" href=\"__pv_it/09a76570fef40dfa7d1e866274ec643a5bc835540/expr.ipynb\"><img src=\"data:image/png;base64,iVBORw0KGgoAAAANSUhEUgAAANkAAAAVCAMAAAD8SruLAAAAPFBMVEX///8LCwsYGBgNDQ0oKCjc\n",
       "3NxERESqqqpUVFS6urrMzMwyMjIQEBCIiIh2dnYiIiLu7u5mZmaYmJgAAADzuxXdAAAAAXRSTlMA\n",
       "QObYZgAAAs9JREFUWMPdWNm2pCAMdBb2RZb//9dRJIAQ0Nv9Njzc69GQopIihN62cwQftv9lSGsJ\n",
       "PLvdlvfCTKcE8d79wk0aFfxThBU3zfKTifUlH+wc1/v15OVr33z9nSj8PYJQ4adRUpGqqPROgZAH\n",
       "91YXK+WQqQrWqd4yQ900g8+So1bw00FPjTjlrO0IVWYGFVGEWASLfR5ZGPNZynCEAr9mthkBgUGY\n",
       "aSzWIsJbp98lSH+aMgyhwoONUfsxVM+MhY27CTOBxtJWnVMsfKJXi3hQraSL8LMF/DVbBTfJGaGz\n",
       "nHlUbYobw69TwXqUeie+4oZwY4UeyiDt6kRrNiI08MmYOlyNcg/wqRKCGCvsVHPxjERMq2ElG35v\n",
       "RrwvB9yk1dJaeL1K4++f829N9M2MqQV8YkHQfXYsImqIcIhQ/kH2+aFZ9RF9lnSu7bUIXENMtTsn\n",
       "uyHxZOjpQ8ruZgNCC38SpfMKYhh8VD4dPbogRYGcS1dGr7TIONv5Ste52Q1Pxrt52JZ3swGhhU/M\n",
       "IehDBTn/QQBo0o0o1FBmu08FKqyYSWUb9Wc3SUYu9oev6uR0NxsQWvhZD1CYbTlp0FRxoK8Zwiwd\n",
       "J/4qvVUrt32233f15YZEk8RUD7w05/evPKWI8WY2qLGFT53gC2awz2pdpQFjJqvOA1rPWRfHy41L\n",
       "azqixuQqZZ1ZQQAqLXxKQ1gwy2ocq/5Ycg+3/ED2fJtX/aGjyFan1NkhJrs8/DozQHAxh7uFv5Im\n",
       "JsyCN9PzTGCpdtyUO47CmoehDmc3xzFlhKRGrFLWmwGC05EM8DmQXd98dcR015xt8+6KLJsHvLsa\n",
       "+/O5G+a3twhi7oSre20cWoeRGd7yTpuNn/S1uWg9dJQNwhd34UIo6HfXD/f1LeYxZQ3CF8xKU+Xq\n",
       "aUpWdyFO3rqeuXlKWYNgPicmm64hWNh8ZO7RyPfOJ24efg34CcLj7yD/AKfdJVkFo0ApAAAAAElF\n",
       "TkSuQmCC\n",
       "\" style=\"display:inline;vertical-align:middle;\" /></a> <a class=\"ProveItLink\" href=\"__pv_it/6aa1944b5a4627c1abdb05ece7ca1029cc2817040/proof.ipynb\" style=\"text-decoration: none\">&#x22A2;&nbsp;</a><a class=\"ProveItLink\" href=\"../../__pv_it/6840a4fa6c106149dc16a131294d0c5e44f1b0480/expr.ipynb\"><img src=\"data:image/png;base64,iVBORw0KGgoAAAANSUhEUgAAAAkAAAAOBAMAAAAPuiubAAAALVBMVEX///9mZmbMzMxERESYmJiI\n",
       "iIh2dna6urqqqqoyMjIiIiIQEBBUVFTu7u4AAAD9S1JeAAAAAXRSTlMAQObYZgAAAE1JREFUCNdj\n",
       "4D29gAEIOA+ASL4GEFl3AURmgQiGOaFHGBh4HzPwKTBwvGXgTmBgnMDAJ8DAJcBQ5wBSLncBJLWN\n",
       "gYGngRFoBO9REQYGAGrcDtUkVqASAAAAAElFTkSuQmCC\n",
       "\" style=\"display:inline;vertical-align:middle;\" /></a></span></td></tr>\n",
       "<tr><td>&nbsp;</td><td colspan=4 style=\"text-align:left\"><span style=\"font-size:20px;\"><a class=\"ProveItLink\" href=\"../../__pv_it/2cbe72a7ad6f655694dd697106680215e8489b600/expr.ipynb\"><img src=\"data:image/png;base64,iVBORw0KGgoAAAANSUhEUgAAAA8AAAAOBAMAAAACpFvcAAAALVBMVEX///8QEBBERERUVFS6urqI\n",
       "iIhmZmaqqqrc3Nzu7u6YmJgyMjIiIiLMzMwAAADtIaYWAAAAAXRSTlMAQObYZgAAAFtJREFUCNdj\n",
       "YACBOwxQsA9Kc52bAGG05zVAGAFxDmCaZULdAjBjCsO9ADDDgaEvAUTzGhvbKYCVMDAwbgAxChgY\n",
       "eASANAeQwf0AyJgNxEwvGRia5HYwcOm9TgAA6BoR3jrzwFcAAAAASUVORK5CYII=\n",
       "\" style=\"display:inline;vertical-align:middle;\" /></a> : <a class=\"ProveItLink\" href=\"../../__pv_it/6840a4fa6c106149dc16a131294d0c5e44f1b0480/expr.ipynb\"><img src=\"data:image/png;base64,iVBORw0KGgoAAAANSUhEUgAAAAkAAAAOBAMAAAAPuiubAAAALVBMVEX///9mZmbMzMxERESYmJiI\n",
       "iIh2dna6urqqqqoyMjIiIiIQEBBUVFTu7u4AAAD9S1JeAAAAAXRSTlMAQObYZgAAAE1JREFUCNdj\n",
       "4D29gAEIOA+ASL4GEFl3AURmgQiGOaFHGBh4HzPwKTBwvGXgTmBgnMDAJ8DAJcBQ5wBSLncBJLWN\n",
       "gYGngRFoBO9REQYGAGrcDtUkVqASAAAAAElFTkSuQmCC\n",
       "\" style=\"display:inline;vertical-align:middle;\" /></a></span></td></tr><tr><td>1</td><td>theorem</td><td></td><td><span style=\"font-size:20px;\"> <a class=\"ProveItLink\" href=\"../boolean/implication/_proofs_/affirmViaContradiction.ipynb\" style=\"text-decoration: none\">&#x22A2;&nbsp;</a><a class=\"ProveItLink\" href=\"../boolean/implication/__pv_it/6e067bbf01a47ec3fdb8c87f2276ede1c4a744140/expr.ipynb\"><img src=\"data:image/png;base64,iVBORw0KGgoAAAANSUhEUgAAAJkAAAAWBAMAAAAhlCOEAAAAMFBMVEX///8QEBC6urrMzMxUVFRm\n",
       "ZmZERETc3NwyMjKqqqp2dnaIiIiYmJgiIiLu7u4AAAAU9Wx4AAAAAXRSTlMAQObYZgAAAh1JREFU\n",
       "OMtjeMBATXABRJymhkm2QLwSxOijhmn9QFwGxOwJVDCM5z4w0DiAmHUCFUyrjC8AGrm8vLyWGh7d\n",
       "sF8BSH5LS7uFV1kxMgenL5gezD8ApJwZGNLB/HZ0BQpgkn0BXICjgMEKl2mPGOw3ACkVBr4GcCh+\n",
       "goZmV1frATALEjdsCB3nFRi4FJCNSEC2uj4ASPEycIM1P/0DJF6HxjBsWPBaCUntbLgGvvgDUJsx\n",
       "TWN2cfEH8bgP8ILzw7qrQHZS3TugaVxvkNSmw3VwvQ0ABwwQzEQ3jYmBgRFkEV+DCdjwDWkMDEfB\n",
       "kbNAOw5JrQBchzUbUGQ3xPsFaKYBY4cXrDLdCUSyMMQyMIC9sSFUFincmBFec2C9AArmsLS0tAxh\n",
       "VNPYgaZxfACxpoKz6kmG/QzMCyBuY7VGqGVyYOACaQdGzwRuoHoLiHbWYBTTXoDc+w/EYgTFLN/V\n",
       "0PwHzNfS0rJB4caFMI3TARazb0PD/sFNY04tQDKtTL6dgSf/ByhSeUCRwFrAYG/A5wBxG7JpTPB0\n",
       "Es7A/JmBQY1haygQuKKnEBSgw8DAf4DBHerTaoRavgtQ05iAgQlMRKcY3gHBqw34THvyjYHd/w7D\n",
       "MwVw6k1DTr33ID7jAyankr8HGILAXFAyYE1LE0vLwpcnlwHDDS1t7kRVAYniOtJLBYhpz1DEODeQ\n",
       "W8ZATOM8gCzGQnaJBUkbDIeRxdbh1QEAkzCKhUZAJ2AAAAAASUVORK5CYII=\n",
       "\" style=\"display:inline;vertical-align:middle;\" /></a></span></td></tr>\n",
       "<tr><td>&nbsp;</td><td colspan=4 style-\"text-align:left\"><a class=\"ProveItLink\" href=\"../boolean/implication/_proofs_/affirmViaContradiction.ipynb\">proveit.logic.boolean.implication.affirmViaContradiction</a></td></tr><tr><td>2</td><td>assumption</td><td></td><td><span style=\"font-size:20px;\"><a class=\"ProveItLink\" href=\"__pv_it/f2d1e24483380053a97b05258b791504abffcbaf0/expr.ipynb\"><img src=\"data:image/png;base64,iVBORw0KGgoAAAANSUhEUgAAAEMAAAAVBAMAAADvM06qAAAAMFBMVEX////c3NxERESqqqpUVFS6\n",
       "urrMzMwyMjIQEBCIiIh2dnYiIiLu7u5mZmaYmJgAAABXZE4RAAAAAXRSTlMAQObYZgAAASVJREFU\n",
       "KM9jYGDgu8eAC7CtEgBRPLsYcAO2ZhDJ+QGozGMDqtTyT/UVmwyAjOsgHlcDkGB3QNOuEMlTswpI\n",
       "r4Ar4TfAUMIwlR1FSfwBiMzJ6t3bYUrsWA4gK1kNdV3dASRThFBMKZnpB2ILHUBYxLZPB6aEtwDo\n",
       "o08M/AlAtiLCLdH7f0wA0u9BnIwABgbmPwwcC4AqFZCdO9MI5NULDAwpbRCT+IFs1u7duxHOZWIF\n",
       "6mJQf8DAEAG0gfsCQzyQyeaAbAoTA9BQbpAylgJwsNwHupRnA4YSsFu4gOJAt3aB2H4oSkAWwT3N\n",
       "YsALtuN0AJKSt5OQw4XHE5IgGGsT4NGo3WKAEnQwwOwO9REMYCrBAGAlfHiVgNMLz058qa4VTPEt\n",
       "xp92AZ9LUMNIwjO9AAAAAElFTkSuQmCC\n",
       "\" style=\"display:inline;vertical-align:middle;\" /></a> <a class=\"ProveItLink\" href=\"__pv_it/f488a9cac860b4f9f22c3bbd11d772a1feb896db0/proof.ipynb\" style=\"text-decoration: none\">&#x22A2;&nbsp;</a><a class=\"ProveItLink\" href=\"__pv_it/0840bff5bda91759ff73cf4f6280e60fa5f0627e0/expr.ipynb\"><img src=\"data:image/png;base64,iVBORw0KGgoAAAANSUhEUgAAAC8AAAAPBAMAAACGpYupAAAAMFBMVEX////c3NxmZmbMzMxERESY\n",
       "mJiIiIh2dna6urqqqqoyMjIiIiIQEBBUVFTu7u4AAAAiO1wTAAAAAXRSTlMAQObYZgAAAMZJREFU\n",
       "GNNj4LuzgQEFVH1Zv2bLBCCD6wKqBINDG9+6ciDNPwFDgiGDC0j3P4Dwn63evQsmMZUXKFgNEWde\n",
       "+gBJhwiQXpt2FcQVeYAwinmrHwMD3xcGfgMg1xFhR/f+PwkMDJz/GHgKgPIOyJanTWFgYFrAwK/A\n",
       "wMBxevduhOUsHAUM3AoM/QFAuy8g62BhcAB5Qx9oL98GDAkDhuMg7lUUCaBRvBOYwKa8bkCSCEoB\n",
       "mnFNFcxlXGQAD0Tvs8jBxHkL6ioIAAAv0zyPYuajHgAAAABJRU5ErkJggg==\n",
       "\" style=\"display:inline;vertical-align:middle;\" /></a></span></td></tr>\n",
       "<tr><td>3</td><td>hypothetical reasoning</td><td>4</td><td><span style=\"font-size:20px;\"><a class=\"ProveItLink\" href=\"__pv_it/d38b61f5daf27423fb3809708efadb457c6c064f0/expr.ipynb\"><img src=\"data:image/png;base64,iVBORw0KGgoAAAANSUhEUgAAAJsAAAAVCAMAAABmBWwWAAAAPFBMVEX///8LCwsYGBgNDQ0oKCjc\n",
       "3NxERESqqqpUVFS6urrMzMwyMjIQEBCIiIh2dnYiIiLu7u5mZmaYmJgAAADzuxXdAAAAAXRSTlMA\n",
       "QObYZgAAAiFJREFUSMfNV0lyxCAMdBb23fz/r7ExAgMCu5JLOMxQjKQWLdEw23aOPezb/xnSWgJz\n",
       "7yxMhZl67OJ99EWYNCo2jiA1yzMTyxofHDzX7poF+XrjfP07Ufh6RQhgYTUsKY94KEBSb3NDw9wG\n",
       "n5WgIJSUysSgpYjA727RgEMixvyOthvCmJvG9isirHr9jiX9W9oqwpCbQPdjXZlShjZ+113iofaS\n",
       "zn8DhCG3gNZMcWP4JTE24KeurWEJQ7ixQg9HknZn6m4GCCU3OBQKEzkfz23GFI9VRoK7jdjkDGES\n",
       "Ho3VRaXx/XV+Vq4bM0DYI4hJrn/+vsEeDLDUbtpeYSalYOrWQjkMiWeOgT7Q1poVBBWSFmkwjgLR\n",
       "qYvUixkZp02sdHHOYXgyduahO1uzikAT/QKSQ3NzIZ3VfZmbVLaezRwm9YKPvWCrrv9as4IAVxXP\n",
       "RdYMyS2pW7h05FbTpt8cvavGFYbEkwoWq/4ll8+P7FFK2pgBAvRbUQm6Y7nJ0m7bjqsDa8t0hfFp\n",
       "U8e2mVzR1pkBwqAho0Qc9vzwDXxbaEgv89nq7Bd2dIRddVtvNmhI0V6HdTk35QGlUEGnHRU5zCFb\n",
       "RkhqxIq23gwQkDuLLAV9cmcNz5N5GBa2dwhjbpPLfKL/2+ONPQz3cNMWhJqSfvW48X9+Iz3Spob3\n",
       "my8CSVaPQk7e5jYL80RbQZBVyY8qZGkj87KZ18/eaZiHVz0gwP+FH4DtGvBfHwGMAAAAAElFTkSu\n",
       "QmCC\n",
       "\" style=\"display:inline;vertical-align:middle;\" /></a> <a class=\"ProveItLink\" href=\"__pv_it/33e7551a80fd739e84e0390ea72b8ba839cb476a0/proof.ipynb\" style=\"text-decoration: none\">&#x22A2;&nbsp;</a><a class=\"ProveItLink\" href=\"__pv_it/ef937ed0a685fa07cdd47235042a5ef2b39d85c60/expr.ipynb\"><img src=\"data:image/png;base64,iVBORw0KGgoAAAANSUhEUgAAAFQAAAAVBAMAAAAqQdQ7AAAAMFBMVEX////c3NwiIiJERESqqqqY\n",
       "mJh2dnZmZmYQEBDu7u4yMjJUVFTMzMyIiIi6uroAAAAs73DqAAAAAXRSTlMAQObYZgAAARtJREFU\n",
       "KM9jYCAB8F1A5sXhU3oaxuDcocDAwH4AqyJZMLkSzufaACQWYFV6HETwIuzndwASYQh5TjSlHBPg\n",
       "/Pcg5gyEPNcEVKWvEFJJIILZAeHhDahKyxBKV9/dysDAVoAQyEVVuhThtM8M/AcYWMD+KlICAf0C\n",
       "FKV9wAACiyew/GTgSGDga0DyuNcDZKX/oByeDewLGPgLGHg+ICnlXPEAq1KmAob3AahKT2Uim9oC\n",
       "VwoM1voJUAdA3KpkieJWU4TSAwxtDAysSNHljRoC6TDeAW4H9g0ogcW4AFXpI4Qf9paCougBXIBZ\n",
       "AEIDXaOhpKTMwCGAmjCQIpYHLc2wJqDyc/Gk15UoPM4FeJRKo/C4BfAoZUTJMHdwKwQACfJCqIIU\n",
       "m2cAAAAASUVORK5CYII=\n",
       "\" style=\"display:inline;vertical-align:middle;\" /></a></span></td></tr>\n",
       "<tr><td>4</td><td>specialization</td><td>5, 6, 7</td><td><span style=\"font-size:20px;\"><a class=\"ProveItLink\" href=\"__pv_it/932da352f8c20c74e34667e194cce7646f454cfb0/expr.ipynb\"><img src=\"data:image/png;base64,iVBORw0KGgoAAAANSUhEUgAAAL8AAAAVCAMAAAAgs8+8AAAAPFBMVEX///8LCwsYGBgNDQ0oKCjc\n",
       "3NxERESqqqpUVFS6urrMzMwyMjIQEBCIiIh2dnYiIiLu7u5mZmaYmJgAAADzuxXdAAAAAXRSTlMA\n",
       "QObYZgAAAllJREFUSMfVV0mS5CAM9Ew3Zt///9fG2GxGLF1zGg4VDpfITEtCEsdxLWfd8X8tphRK\n",
       "z0ar/J7K4RZH9+EnMHEV8g8JwhcI/DxJX16Szs4Qoe8ny7axyfx/xMHXa4IiJlgnECXy/9wAm3hS\n",
       "w3f1gzDVIgNPbxBkMUV20S/BsPsUKKdAn3RvpPzI/SMCWAykX0B+oz69NWLP2eJD9w8IYDGAfgr6\n",
       "ReWMO04MQb6TnS7SgJ3Dv0CCgZhev1VwxklJ7vqqLIj5SpcMg4hUVHSl5myPaW0FEwzEiPdB5lAX\n",
       "MP5yl4+cOHvW6mr5ljXBRFFnKW6Wx/X9df3moDVWeBG6WozzqZCmdHweKm3BkzhmnFA3FwyLeZ3R\n",
       "Dwzy13fYc+7+1qonGIs5uI2lWmQ8T4E6fkfndjHzI79wUfY+MCQaazk/Lq3VkAAQEzwRI03zB4D6\n",
       "tY3H3s3gGVdVyXlgYqiNf/ck3p6H1mqlvxZzpLGBpKQTGNgSC669y1YJb5P/+mwK5g2D/OVT7EuD\n",
       "iHv+/nm2pPRprKiY66/FpPwvNel00BZWMs6Bxwu/CugNYyJX8A1mE/e/rAqBgfVXYvr62VevYE4C\n",
       "gSXHuLx13fSxupITh4CrabNorTKB8fpYien7lwZHJpmnaw41zvNd4B+YUNclZaekE/e/rTKBER4t\n",
       "xEDzA5pXXzA7+6FxDIPtNgFFq1bc61/MT0rujZ9jGG22CZY3qizbib3B1/zz/Lxyf02w1J/HBlN6\n",
       "DJpdPAja1T+CWbi/JliGmlUd06lU+dF4n9y+fg1h5hfE3xCk++8PO3MfqckKev8AAAAASUVORK5C\n",
       "YII=\n",
       "\" style=\"display:inline;vertical-align:middle;\" /></a> <a class=\"ProveItLink\" href=\"__pv_it/e5803a80f99fb0abcb9890a352bbfa0634fd47bb0/proof.ipynb\" style=\"text-decoration: none\">&#x22A2;&nbsp;</a><a class=\"ProveItLink\" href=\"../boolean/__pv_it/8f1f7fac882de28c72b62ab80a1700b6d8fd066b0/expr.ipynb\"><img src=\"data:image/png;base64,iVBORw0KGgoAAAANSUhEUgAAAA4AAAAOBAMAAADtZjDiAAAAG1BMVEX///9EREQQEBAiIiJmZmbM\n",
       "zMyIiIjc3NwAAACryk5kAAAAAXRSTlMAQObYZgAAABlJREFUCNdjYGBgKGOAgBBa0s7GxkbGxoYA\n",
       "FMUF2aBfHgoAAAAASUVORK5CYII=\n",
       "\" style=\"display:inline;vertical-align:middle;\" /></a></span></td></tr>\n",
       "<tr><td>&nbsp;</td><td colspan=4 style=\"text-align:left\"><span style=\"font-size:20px;\"><a class=\"ProveItLink\" href=\"../../__pv_it/530be409e3083890784cf1d7b28c9e67e90af9360/expr.ipynb\"><img src=\"data:image/png;base64,iVBORw0KGgoAAAANSUhEUgAAAAsAAAAJBAMAAAAWSsseAAAAKlBMVEX///9ERETMzMwQEBAiIiKY\n",
       "mJju7u5mZmaqqqpUVFSIiIh2dnbc3NwAAAA/vyDhAAAAAXRSTlMAQObYZgAAAENJREFUCNdjYDi9\n",
       "8sTyBQxsG1hdmR0YuBm4LnAoMLAxcAowgADzAjB1VoEhgYH1wFoGrgSG3gBhhlMMDImrs3cFMAAA\n",
       "t0YN+iTRa+sAAAAASUVORK5CYII=\n",
       "\" style=\"display:inline;vertical-align:middle;\" /></a> : <a class=\"ProveItLink\" href=\"../../__pv_it/07527342713064c87612d00d8557c53d53d5324a0/expr.ipynb\"><img src=\"data:image/png;base64,iVBORw0KGgoAAAANSUhEUgAAAAsAAAAJBAMAAAAWSsseAAAAMFBMVEX///8yMjKqqqrMzMzu7u4i\n",
       "IiJmZmaYmJhEREQQEBC6urp2dnaIiIhUVFTc3NwAAAD87Fq/AAAAAXRSTlMAQObYZgAAAEhJREFU\n",
       "CNdjYOC7s2seAwPDygccHxgY+L4zsDUwMPB+YGA9wMDA38Dgb8DA8P4Agz6DA4O/AsNFJgMGxgKm\n",
       "MG6gyjunLE4xAAAZTBA5TB6DCwAAAABJRU5ErkJggg==\n",
       "\" style=\"display:inline;vertical-align:middle;\" /></a>, <a class=\"ProveItLink\" href=\"../../__pv_it/f8b9edf8e16034727f0aad55bb83e392c3db40d40/expr.ipynb\"><img src=\"data:image/png;base64,iVBORw0KGgoAAAANSUhEUgAAAAsAAAANBAMAAACN24kIAAAAMFBMVEX///+YmJhUVFQyMjIQEBBE\n",
       "REQiIiKqqqrMzMyIiIi6urrc3NxmZmZ2dnbu7u4AAADXeCicAAAAAXRSTlMAQObYZgAAAFhJREFU\n",
       "CNdj4LtzgWH/AwZerg8M8xkY2nkSGEIZGB6wTGD4ycDAUP+A4weQOszA6QCkbBhYFYDUIYb1AkDq\n",
       "6czzGxhA4BoQMyXwuQMptgusF4AU+8xTQBIAUqMVoSp/SLMAAAAASUVORK5CYII=\n",
       "\" style=\"display:inline;vertical-align:middle;\" /></a> : <a class=\"ProveItLink\" href=\"../../__pv_it/07527342713064c87612d00d8557c53d53d5324a0/expr.ipynb\"><img src=\"data:image/png;base64,iVBORw0KGgoAAAANSUhEUgAAAAsAAAAJBAMAAAAWSsseAAAAMFBMVEX///8yMjKqqqrMzMzu7u4i\n",
       "IiJmZmaYmJhEREQQEBC6urp2dnaIiIhUVFTc3NwAAAD87Fq/AAAAAXRSTlMAQObYZgAAAEhJREFU\n",
       "CNdjYOC7s2seAwPDygccHxgY+L4zsDUwMPB+YGA9wMDA38Dgb8DA8P4Agz6DA4O/AsNFJgMGxgKm\n",
       "MG6gyjunLE4xAAAZTBA5TB6DCwAAAABJRU5ErkJggg==\n",
       "\" style=\"display:inline;vertical-align:middle;\" /></a></span></td></tr><tr><td>5</td><td>theorem</td><td></td><td><span style=\"font-size:20px;\"> <a class=\"ProveItLink\" href=\"_proofs_/notEqualsContradiction.ipynb\" style=\"text-decoration: none\">&#x22A2;&nbsp;</a><a class=\"ProveItLink\" href=\"__pv_it/3b978af40a8ee9b15894daeb9718097ebc98975e0/expr.ipynb\"><img src=\"data:image/png;base64,iVBORw0KGgoAAAANSUhEUgAAAJAAAAAWCAMAAAAYceVPAAAAOVBMVEX///8oKCgUFBQJCQkQEBC6\n",
       "urrMzMxUVFRmZmZERETc3NwyMjKqqqp2dnaIiIiYmJgiIiLu7u4AAACP9cC6AAAAAXRSTlMAQObY\n",
       "ZgAAAXdJREFUSMfNluuOhCAMhdkdLnKr4Ps/7IIjYLU6GjOr/WGMOQc/2lJlkT0sQr3r4U4OU97u\n",
       "XXlkb02W7AqZXt7cDFQT07mHAPXejBHYQ4DYoHME/xggJfNVm88mcfGl0RwCEipr7YEFr7Z9Jw8B\n",
       "jaMI+u8DGXWsZCNMiN8H2u2KOVAql5zgPSgBasqsgEzAIwmElLX62IE1wtOrroESunr3q49Macbf\n",
       "EykCGwyTnMxQVSpbApaOheZFaWgg14V6jGxtJhNFegyaBELKDQfWTF26XpUAYrx9V4dZoVVKsoKt\n",
       "HhqIllg6mibqLU0XxuDjdVL1taI5l7UxeNojlxtAk1LPSrZyzDS/Pxua3Wk5MJ/mUdqBsXlrySYG\n",
       "8pQ1JY7iyH6kmR355ap7k1SD6yD1YlosV9wp0JYEakocxZH9SKPjSnMyEpAxuNif59DMgTveeUpz\n",
       "6luXbNozYU8NxuaQuOMtpTmbIOYA/LlJ3Rw4Qb2jNNdD/cNvyB+M5xJfWlZzswAAAABJRU5ErkJg\n",
       "gg==\n",
       "\" style=\"display:inline;vertical-align:middle;\" /></a></span></td></tr>\n",
       "<tr><td>&nbsp;</td><td colspan=4 style-\"text-align:left\"><a class=\"ProveItLink\" href=\"_proofs_/notEqualsContradiction.ipynb\">proveit.logic.equality.notEqualsContradiction</a></td></tr><tr><td>6</td><td>specialization</td><td>8</td><td><span style=\"font-size:20px;\"> <a class=\"ProveItLink\" href=\"__pv_it/953e94612de32d76f86e3b745c71158d9f4e09d90/proof.ipynb\" style=\"text-decoration: none\">&#x22A2;&nbsp;</a><a class=\"ProveItLink\" href=\"__pv_it/03c471a72347e06b5d7195e66ac4544df59850930/expr.ipynb\"><img src=\"data:image/png;base64,iVBORw0KGgoAAAANSUhEUgAAADIAAAAJBAMAAACCrGLsAAAAMFBMVEX///8yMjKqqqrMzMzu7u4i\n",
       "IiJmZmaYmJhEREQQEBC6urp2dnaIiIhUVFTc3NwAAAD87Fq/AAAAAXRSTlMAQObYZgAAAI1JREFU\n",
       "CNdjYOC7s2seAxp4e3rlAwaGlQ84PoB4iYIgIAtics1j6Gdg4PvOwNaApuV9AUMGAwPvBwbWA2gy\n",
       "9xkYYhgY+BsY/A3QZH4wsHwG6jzAoM/gAOSmhoJABJDF94eB6QMLg78Cw0UmVE0snxh4BZQZGAuY\n",
       "wrjRTBNnUE3YAPTOKYtT6N45s7hnAQALwiTlnSG7sgAAAABJRU5ErkJggg==\n",
       "\" style=\"display:inline;vertical-align:middle;\" /></a></span></td></tr>\n",
       "<tr><td>&nbsp;</td><td colspan=4 style=\"text-align:left\"><span style=\"font-size:20px;\"><a class=\"ProveItLink\" href=\"../../__pv_it/530be409e3083890784cf1d7b28c9e67e90af9360/expr.ipynb\"><img src=\"data:image/png;base64,iVBORw0KGgoAAAANSUhEUgAAAAsAAAAJBAMAAAAWSsseAAAAKlBMVEX///9ERETMzMwQEBAiIiKY\n",
       "mJju7u5mZmaqqqpUVFSIiIh2dnbc3NwAAAA/vyDhAAAAAXRSTlMAQObYZgAAAENJREFUCNdjYDi9\n",
       "8sTyBQxsG1hdmR0YuBm4LnAoMLAxcAowgADzAjB1VoEhgYH1wFoGrgSG3gBhhlMMDImrs3cFMAAA\n",
       "t0YN+iTRa+sAAAAASUVORK5CYII=\n",
       "\" style=\"display:inline;vertical-align:middle;\" /></a> : <a class=\"ProveItLink\" href=\"../../__pv_it/07527342713064c87612d00d8557c53d53d5324a0/expr.ipynb\"><img src=\"data:image/png;base64,iVBORw0KGgoAAAANSUhEUgAAAAsAAAAJBAMAAAAWSsseAAAAMFBMVEX///8yMjKqqqrMzMzu7u4i\n",
       "IiJmZmaYmJhEREQQEBC6urp2dnaIiIhUVFTc3NwAAAD87Fq/AAAAAXRSTlMAQObYZgAAAEhJREFU\n",
       "CNdjYOC7s2seAwPDygccHxgY+L4zsDUwMPB+YGA9wMDA38Dgb8DA8P4Agz6DA4O/AsNFJgMGxgKm\n",
       "MG6gyjunLE4xAAAZTBA5TB6DCwAAAABJRU5ErkJggg==\n",
       "\" style=\"display:inline;vertical-align:middle;\" /></a></span></td></tr><tr><td>7</td><td>modus ponens</td><td>9, 10</td><td><span style=\"font-size:20px;\"><a class=\"ProveItLink\" href=\"__pv_it/932da352f8c20c74e34667e194cce7646f454cfb0/expr.ipynb\"><img src=\"data:image/png;base64,iVBORw0KGgoAAAANSUhEUgAAAL8AAAAVCAMAAAAgs8+8AAAAPFBMVEX///8LCwsYGBgNDQ0oKCjc\n",
       "3NxERESqqqpUVFS6urrMzMwyMjIQEBCIiIh2dnYiIiLu7u5mZmaYmJgAAADzuxXdAAAAAXRSTlMA\n",
       "QObYZgAAAllJREFUSMfVV0mS5CAM9Ew3Zt///9fG2GxGLF1zGg4VDpfITEtCEsdxLWfd8X8tphRK\n",
       "z0ar/J7K4RZH9+EnMHEV8g8JwhcI/DxJX16Szs4Qoe8ny7axyfx/xMHXa4IiJlgnECXy/9wAm3hS\n",
       "w3f1gzDVIgNPbxBkMUV20S/BsPsUKKdAn3RvpPzI/SMCWAykX0B+oz69NWLP2eJD9w8IYDGAfgr6\n",
       "ReWMO04MQb6TnS7SgJ3Dv0CCgZhev1VwxklJ7vqqLIj5SpcMg4hUVHSl5myPaW0FEwzEiPdB5lAX\n",
       "MP5yl4+cOHvW6mr5ljXBRFFnKW6Wx/X9df3moDVWeBG6WozzqZCmdHweKm3BkzhmnFA3FwyLeZ3R\n",
       "Dwzy13fYc+7+1qonGIs5uI2lWmQ8T4E6fkfndjHzI79wUfY+MCQaazk/Lq3VkAAQEzwRI03zB4D6\n",
       "tY3H3s3gGVdVyXlgYqiNf/ck3p6H1mqlvxZzpLGBpKQTGNgSC669y1YJb5P/+mwK5g2D/OVT7EuD\n",
       "iHv+/nm2pPRprKiY66/FpPwvNel00BZWMs6Bxwu/CugNYyJX8A1mE/e/rAqBgfVXYvr62VevYE4C\n",
       "gSXHuLx13fSxupITh4CrabNorTKB8fpYien7lwZHJpmnaw41zvNd4B+YUNclZaekE/e/rTKBER4t\n",
       "xEDzA5pXXzA7+6FxDIPtNgFFq1bc61/MT0rujZ9jGG22CZY3qizbib3B1/zz/Lxyf02w1J/HBlN6\n",
       "DJpdPAja1T+CWbi/JliGmlUd06lU+dF4n9y+fg1h5hfE3xCk++8PO3MfqckKev8AAAAASUVORK5C\n",
       "YII=\n",
       "\" style=\"display:inline;vertical-align:middle;\" /></a> <a class=\"ProveItLink\" href=\"__pv_it/17b5db9461453379611936a9bd469ab83c24359a0/proof.ipynb\" style=\"text-decoration: none\">&#x22A2;&nbsp;</a><a class=\"ProveItLink\" href=\"__pv_it/d057e383691e8c8bf9cdd4e5955106b51dbb6fb70/expr.ipynb\"><img src=\"data:image/png;base64,iVBORw0KGgoAAAANSUhEUgAAADIAAAAUCAMAAAD4FJ6oAAAAPFBMVEX///8LCwsYGBgNDQ0oKCgy\n",
       "MjKqqqrMzMzu7u4iIiJmZmaYmJhEREQQEBC6urp2dnaIiIhUVFTc3NwAAABYMwFzAAAAAXRSTlMA\n",
       "QObYZgAAAKBJREFUKM/NktsOAiEMRKsrVyu3/v+/LpCIXcx2w4txHiCBM0zbACApFlhUUasOyOEv\n",
       "QwwKBeQUw+trOGhOsb4hjSuvuh5bW/M4ZlihZ+PwIoRjuRtdmhwhT7NgGDWjpalwUFNvDCvUjLq+\n",
       "Yd+9uKr7zXXhqOuDWdItVoE2UsgBU7Ut7TxEqZMjVsedgsEUpJATjEn75d/l7KrjJyEgf/odtl8I\n",
       "B4tstgcAAAAASUVORK5CYII=\n",
       "\" style=\"display:inline;vertical-align:middle;\" /></a></span></td></tr>\n",
       "<tr><td>8</td><td>axiom</td><td></td><td><span style=\"font-size:20px;\"> <a class=\"ProveItLink\" href=\"_axioms_.ipynb#equalsReflexivity\" style=\"text-decoration: none\">&#x22A2;&nbsp;</a><a class=\"ProveItLink\" href=\"__pv_it/97b1dd4e9ed3b749f492ebdad1f4680f58c765fe0/expr.ipynb\"><img src=\"data:image/png;base64,iVBORw0KGgoAAAANSUhEUgAAAGIAAAAVBAMAAABPrCZEAAAAMFBMVEX///8QEBC6urrMzMxUVFRm\n",
       "ZmZERETc3NwyMjKqqqp2dnaIiIiYmJgiIiLu7u4AAAAU9Wx4AAAAAXRSTlMAQObYZgAAAVBJREFU\n",
       "OMtjYCAZPMAQYdqAWzWPAgPDBRDjNLKoCT4LghkYVoLoPmTBPnw6OBgYyoAUewKSGPcGfDp4FjBw\n",
       "AD3COgFJjPEBPh18Agw8y8vLa5HFNPCHVCYDw7e0tFvIQlFAXLWlciu646BiSxkYnBkY0pFleoBW\n",
       "L+C5wwgKRNYOMHBgQIjNYGBQYeBrQNYhxMDAxcD9gdMA1QqYmCIDAy8D9wFkqU9A8xhYEjC8DBWz\n",
       "B4bmAd4HaDqAAYYliCFiQB18DaBIXu20BeoMSRBRbwBOPqx3wQBiIUQM6CqGdCegKx+4MUIjJQcY\n",
       "TQX7GbjRogUmdgLIngoMASZQEEEAMPjmH0hkqEZzE0xsKdx932FSugwMz3a9Wn0ATQdMrAlkH8h+\n",
       "ZgFmmAcLCKQSCLDnauBCpDU8gAsWiM92Rq8jKrW/wCZYgk+HOzZBdjwZhNuAAQCEL1prSIrv2QAA\n",
       "AABJRU5ErkJggg==\n",
       "\" style=\"display:inline;vertical-align:middle;\" /></a></span></td></tr>\n",
       "<tr><td>&nbsp;</td><td colspan=4 style-\"text-align:left\"><a class=\"ProveItLink\" href=\"_axioms_.ipynb#equalsReflexivity\">proveit.logic.equality.equalsReflexivity</a></td></tr><tr><td>9</td><td>assumption</td><td></td><td><span style=\"font-size:20px;\"><a class=\"ProveItLink\" href=\"__pv_it/d38b61f5daf27423fb3809708efadb457c6c064f0/expr.ipynb\"><img src=\"data:image/png;base64,iVBORw0KGgoAAAANSUhEUgAAAJsAAAAVCAMAAABmBWwWAAAAPFBMVEX///8LCwsYGBgNDQ0oKCjc\n",
       "3NxERESqqqpUVFS6urrMzMwyMjIQEBCIiIh2dnYiIiLu7u5mZmaYmJgAAADzuxXdAAAAAXRSTlMA\n",
       "QObYZgAAAiFJREFUSMfNV0lyxCAMdBb23fz/r7ExAgMCu5JLOMxQjKQWLdEw23aOPezb/xnSWgJz\n",
       "7yxMhZl67OJ99EWYNCo2jiA1yzMTyxofHDzX7poF+XrjfP07Ufh6RQhgYTUsKY94KEBSb3NDw9wG\n",
       "n5WgIJSUysSgpYjA727RgEMixvyOthvCmJvG9isirHr9jiX9W9oqwpCbQPdjXZlShjZ+113iofaS\n",
       "zn8DhCG3gNZMcWP4JTE24KeurWEJQ7ixQg9HknZn6m4GCCU3OBQKEzkfz23GFI9VRoK7jdjkDGES\n",
       "Ho3VRaXx/XV+Vq4bM0DYI4hJrn/+vsEeDLDUbtpeYSalYOrWQjkMiWeOgT7Q1poVBBWSFmkwjgLR\n",
       "qYvUixkZp02sdHHOYXgyduahO1uzikAT/QKSQ3NzIZ3VfZmbVLaezRwm9YKPvWCrrv9as4IAVxXP\n",
       "RdYMyS2pW7h05FbTpt8cvavGFYbEkwoWq/4ll8+P7FFK2pgBAvRbUQm6Y7nJ0m7bjqsDa8t0hfFp\n",
       "U8e2mVzR1pkBwqAho0Qc9vzwDXxbaEgv89nq7Bd2dIRddVtvNmhI0V6HdTk35QGlUEGnHRU5zCFb\n",
       "RkhqxIq23gwQkDuLLAV9cmcNz5N5GBa2dwhjbpPLfKL/2+ONPQz3cNMWhJqSfvW48X9+Iz3Spob3\n",
       "my8CSVaPQk7e5jYL80RbQZBVyY8qZGkj87KZ18/eaZiHVz0gwP+FH4DtGvBfHwGMAAAAAElFTkSu\n",
       "QmCC\n",
       "\" style=\"display:inline;vertical-align:middle;\" /></a> <a class=\"ProveItLink\" href=\"__pv_it/07de98fe8da4236f8c95badab9a39f32cf14365c0/proof.ipynb\" style=\"text-decoration: none\">&#x22A2;&nbsp;</a><a class=\"ProveItLink\" href=\"__pv_it/0c38bc582be0853eff67eab3ffe61b2adea3c69b0/expr.ipynb\"><img src=\"data:image/png;base64,iVBORw0KGgoAAAANSUhEUgAAAIUAAAAVCAMAAABfYt1NAAAAPFBMVEX///8LCwsYGBgNDQ0oKCjc\n",
       "3NwiIiJERESqqqqYmJh2dnZmZmYQEBDu7u4yMjJUVFTMzMyIiIi6uroAAACIMCsmAAAAAXRSTlMA\n",
       "QObYZgAAAclJREFUSMfNVtmS4yAM9O4shwGL6///dbHAB1iAKzMPw0MqFaRuqXWQZfktJ/ju1Rp+\n",
       "BAaPYiMGZx9XmzU8f9PubRAETHUY0L8XBtiIOzgw4W0UJMzt2J6syOBJIaM8FFOk64PS+8+kKAyG\n",
       "yiHE49fNvMvcfCoFMgQyRsXPr0KSrdh0QZhUzon+XWLQpOJgvbdrDkjTHV9X4IRh1qtgHuMgmi6/\n",
       "myUGWCmR4h56RE95Zan57cQqugMGkUW8XADPv6/989KvMksMJrQEKSuJbWFUdugIKeFW6gLD4h6N\n",
       "FhMparPEEAMx9xrzz9m62G0rMKdzgbFozP2ki2qzxEBGwTXOyTqMwoG65qLAYCW32K46aPqkNksM\n",
       "RhJR4LbQeVpvFan6gov7bGYYFvf0ZLz2Cbr8/VM8zoJUZolBrFQU7myLZaVnUNYiZ5gNw7ewSDeS\n",
       "ojFLDM9BTDc2WelCQ09quwqL1T4qMtVTjbqiNUu+gVN9Z70+NAJy6YkmvQKT1oAPTvgwkqI12xkM\n",
       "Gy69zgZ/PLV9GKmXOUPnuersyGX4JpGHT16YzDB8krdvv+xTKaAUafQUsrdR9GBmUhwMrC+6f/1X\n",
       "qwsz+c+IDP8BPQ8V3xWX34oAAAAASUVORK5CYII=\n",
       "\" style=\"display:inline;vertical-align:middle;\" /></a></span></td></tr>\n",
       "<tr><td>10</td><td>assumption</td><td></td><td><span style=\"font-size:20px;\"><a class=\"ProveItLink\" href=\"__pv_it/a2f2b57a20743399f81fc63a3c7de0e3eeba0c9b0/expr.ipynb\"><img src=\"data:image/png;base64,iVBORw0KGgoAAAANSUhEUgAAACkAAAAVBAMAAAAp9toTAAAAMFBMVEX////c3NxERESqqqpUVFS6\n",
       "urrMzMwyMjIQEBCIiIh2dnYiIiLu7u5mZmaYmJgAAABXZE4RAAAAAXRSTlMAQObYZgAAALZJREFU\n",
       "GNNjYGDgu8eABNhWCYAonl0MKICtGURyfoALHOkGkddBBFcDQl0JiFiBLvoZmyjrH2yiXBuwibJ7\n",
       "TnkAFeUtgIueV2D4xsDwHsTMCGBguL0bCHYx2B9g6ALquMDAkNIGU5kCculfIEMdaExEAlx0LwPr\n",
       "PwYG7gVADksBXPQzA+8fqLkQ54BFvzFwLEB3GRuDM8MVLO49MvcBtnBgYMAvyocuCg5fnp1ocdEK\n",
       "pvgWY8QbAAg+NwhGGG08AAAAAElFTkSuQmCC\n",
       "\" style=\"display:inline;vertical-align:middle;\" /></a> <a class=\"ProveItLink\" href=\"__pv_it/234bb8742561fd115185f3d8ca265429bd7858090/proof.ipynb\" style=\"text-decoration: none\">&#x22A2;&nbsp;</a><a class=\"ProveItLink\" href=\"__pv_it/c0fc114fcacc8e9fdeb995863ab29be961e5f4380/expr.ipynb\"><img src=\"data:image/png;base64,iVBORw0KGgoAAAANSUhEUgAAABYAAAAOBAMAAADZH/H+AAAALVBMVEX///9ERESYmJiIiIi6urqq\n",
       "qqoyMjIQEBDu7u5UVFTMzMx2dnYiIiJmZmYAAAC5u2vBAAAAAXRSTlMAQObYZgAAAFlJREFUCNdj\n",
       "YICAzhoGBMhEYj9FMFleINjcBxBstsmWCjB2nwDDK4Y7Z4DgNENcA0M1RHQlwzUGhrcw9lkGlkcw\n",
       "9lMG3hcw9isG9g0QNhfDVIabcPM7bRUYALuiGKiQ/Uk/AAAAAElFTkSuQmCC\n",
       "\" style=\"display:inline;vertical-align:middle;\" /></a></span></td></tr>\n",
       "</table>"
      ],
      "text/plain": [
       "\tstep type\trequirements\tstatement\n",
       "0\tspecialization\t1, 2, 3\t{[not](b) => (a != a) , b in BOOLEANS} |- b\n",
       "\tA : b\n",
       "1\ttheorem\t\t|- forall_{A in BOOLEANS | [not](A) => FALSE} A\n",
       "\tproveit.logic.boolean.implication.affirmViaContradiction\n",
       "2\tassumption\t\t{b in BOOLEANS} |- b in BOOLEANS\n",
       "3\thypothetical reasoning\t4\t{[not](b) => (a != a)} |- [not](b) => FALSE\n",
       "4\tspecialization\t5, 6, 7\t{[not](b) => (a != a) , [not](b)} |- FALSE\n",
       "\tx : a, y : a\n",
       "5\ttheorem\t\t|- forall_{x, y | x = y , x != y} FALSE\n",
       "\tproveit.logic.equality.notEqualsContradiction\n",
       "6\tspecialization\t8\t|- a = a\n",
       "\tx : a\n",
       "7\tmodus ponens\t9, 10\t{[not](b) => (a != a) , [not](b)} |- a != a\n",
       "8\taxiom\t\t|- forall_{x} (x = x)\n",
       "\tproveit.logic.equality.equalsReflexivity\n",
       "9\tassumption\t\t{[not](b) => (a != a)} |- [not](b) => (a != a)\n",
       "10\tassumption\t\t{[not](b)} |- [not](b)"
      ]
     },
     "execution_count": 90,
     "metadata": {},
     "output_type": "execute_result"
    }
   ],
   "source": [
    "b_from_contradiction.proof()"
   ]
  },
  {
   "cell_type": "code",
   "execution_count": 91,
   "metadata": {},
   "outputs": [],
   "source": [
    "%end demonstrations"
   ]
  },
  {
   "cell_type": "code",
   "execution_count": null,
   "metadata": {},
   "outputs": [],
   "source": []
  }
 ],
 "metadata": {
  "kernelspec": {
   "display_name": "Python 3",
   "language": "python",
   "name": "python3"
  },
  "language_info": {
   "codemirror_mode": {
    "name": "ipython",
    "version": 3
   },
   "file_extension": ".py",
   "mimetype": "text/x-python",
   "name": "python",
   "nbconvert_exporter": "python",
   "pygments_lexer": "ipython3",
   "version": "3.7.3"
  }
 },
 "nbformat": 4,
 "nbformat_minor": 1
}
