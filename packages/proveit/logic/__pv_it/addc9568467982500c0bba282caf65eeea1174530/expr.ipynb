{
 "cells": [
  {
   "cell_type": "markdown",
   "metadata": {},
   "source": [
    "Expression of type <a class=\"ProveItLink\" href=\"../../../../../doc/html/api/proveit.ExprTuple.html\">ExprTuple</a>\n",
    "=======================\n",
    "# from context <a class=\"ProveItLink\" href=\"../../_context_.ipynb\">proveit.logic</a>"
   ]
  },
  {
   "cell_type": "code",
   "execution_count": 1,
   "metadata": {},
   "outputs": [],
   "source": [
    "# import Expression classes needed to build the expression\n",
    "from proveit import ExprTuple, Variable\n",
    "from proveit._common_ import k\n",
    "from proveit.logic import InSet\n",
    "from proveit.number import Interval, one"
   ]
  },
  {
   "cell_type": "code",
   "execution_count": 2,
   "metadata": {},
   "outputs": [
    {
     "data": {
      "text/html": [
       "<strong id=\"expr\">expr:</strong> <a class=\"ProveItLink\" href=\"expr.ipynb\"><img src=\"data:image/png;base64,iVBORw0KGgoAAAANSUhEUgAAAJcAAAAVBAMAAAC5yWGZAAAAMFBMVEX////c3NwiIiJERESqqqqY\n",
       "mJh2dnZmZmYQEBDu7u4yMjJUVFTMzMyIiIi6uroAAAAs73DqAAAAAXRSTlMAQObYZgAAAdBJREFU\n",
       "OMtjYCAKsJbikz2WCGPxXSBsFqcafvkTDgwMcSDGaSIcxvsBRFpisWWHAohiXwDEB4CMlUQYxtYA\n",
       "JCb/xCLDVQCXBxrIe4FIw2bvxmYYvwPcsDAGBo4JuM2Yu0hJC+EyXmyGvZ8Al5/BwPAKt1k8Sycg\n",
       "exOrYVkIeWYHhjKEhNhtkevInhaewEDQsGUM4f+g8mwFDEsRMZPAqsqhgKTQEM4CxRZWwzj/TZv3\n",
       "BZgMQbHNsoChDxHKwBTAcgBJoQEiHT3AYRjLH4hXloMSbAPDP4RmBm4DZIV8TUpKkAg43cOAwzD2\n",
       "Tw/ANDPQgzwfkAwDxixKMuHZAGe+OIDDMKabm8ABC8ohQMNakKTkDzAgJRRORPhx4wqz+Qf4HQSg\n",
       "YQb0pikiMwvcZ+BFTnVbEcGpgDBsAjhEoIx4hvkPEqCxybqAIR2uwz/AgkEW2dpJD7AkDc5PIAcp\n",
       "QBmbGfgFLiCSxiNglBgDgSXD5GvTcgNgHBBgXH4AyTD2il+gcoizGZTYDaCMpQy8ZROghnE9YOAQ\n",
       "wJ0FWHYhZydCBQEwO7EmEFtqEJLPJbIIYiVgGCiHcIJiXJoIwzh1CZS0wKjiBoUXIzEFGmsKwTrg\n",
       "DgMDALWnehdP3rqNAAAAAElFTkSuQmCC\n",
       "\" style=\"display:inline;vertical-align:middle;\" /></a><br>"
      ],
      "text/plain": [
       "expr: (_x_ in {1...k})"
      ]
     },
     "execution_count": 2,
     "metadata": {},
     "output_type": "execute_result"
    }
   ],
   "source": [
    "# build up the expression from sub-expressions\n",
    "expr = ExprTuple(InSet(Variable(\"_x_\", latexFormat = r\"{_{-}x_{-}}\"), Interval(one, k)))"
   ]
  },
  {
   "cell_type": "code",
   "execution_count": 3,
   "metadata": {},
   "outputs": [
    {
     "name": "stdout",
     "output_type": "stream",
     "text": [
      "Passed sanity check: built 'expr' is the same as the stored Expression.\n"
     ]
    }
   ],
   "source": [
    "# check that the built expression is the same as the stored expression\n",
    "%check_expr"
   ]
  },
  {
   "cell_type": "code",
   "execution_count": 4,
   "metadata": {},
   "outputs": [
    {
     "data": {
      "text/html": [
       "<table><tr><th>&nbsp;</th><th>core type</th><th>sub-expressions</th><th>expression</th></tr>\n",
       "<tr><td>0</td><td>ExprTuple</td><td>1</td><td><a class=\"ProveItLink\" href=\"expr.ipynb\"><img src=\"data:image/png;base64,iVBORw0KGgoAAAANSUhEUgAAAJcAAAAVBAMAAAC5yWGZAAAAMFBMVEX////c3NwiIiJERESqqqqY\n",
       "mJh2dnZmZmYQEBDu7u4yMjJUVFTMzMyIiIi6uroAAAAs73DqAAAAAXRSTlMAQObYZgAAAdBJREFU\n",
       "OMtjYCAKsJbikz2WCGPxXSBsFqcafvkTDgwMcSDGaSIcxvsBRFpisWWHAohiXwDEB4CMlUQYxtYA\n",
       "JCb/xCLDVQCXBxrIe4FIw2bvxmYYvwPcsDAGBo4JuM2Yu0hJC+EyXmyGvZ8Al5/BwPAKt1k8Sycg\n",
       "exOrYVkIeWYHhjKEhNhtkevInhaewEDQsGUM4f+g8mwFDEsRMZPAqsqhgKTQEM4CxRZWwzj/TZv3\n",
       "BZgMQbHNsoChDxHKwBTAcgBJoQEiHT3AYRjLH4hXloMSbAPDP4RmBm4DZIV8TUpKkAg43cOAwzD2\n",
       "Tw/ANDPQgzwfkAwDxixKMuHZAGe+OIDDMKabm8ABC8ohQMNakKTkDzAgJRRORPhx4wqz+Qf4HQSg\n",
       "YQb0pikiMwvcZ+BFTnVbEcGpgDBsAjhEoIx4hvkPEqCxybqAIR2uwz/AgkEW2dpJD7AkDc5PIAcp\n",
       "QBmbGfgFLiCSxiNglBgDgSXD5GvTcgNgHBBgXH4AyTD2il+gcoizGZTYDaCMpQy8ZROghnE9YOAQ\n",
       "wJ0FWHYhZydCBQEwO7EmEFtqEJLPJbIIYiVgGCiHcIJiXJoIwzh1CZS0wKjiBoUXIzEFGmsKwTrg\n",
       "DgMDALWnehdP3rqNAAAAAElFTkSuQmCC\n",
       "\" style=\"display:inline;vertical-align:middle;\" /></a></td></tr>\n",
       "<tr><td>1</td><td>Operation</td><td>operator:&nbsp;2<br>operands:&nbsp;3<br></td><td><a class=\"ProveItLink\" href=\"../f736ea79abd67d1703a415d091b95e2d784a63400/expr.ipynb\"><img src=\"data:image/png;base64,iVBORw0KGgoAAAANSUhEUgAAAIkAAAAVBAMAAACArtDCAAAAMFBMVEX///+6uroyMjLMzMwQEBAi\n",
       "IiKYmJhmZmZUVFSIiIh2dnbc3Nzu7u5ERESqqqoAAABZrPngAAAAAXRSTlMAQObYZgAAAVpJREFU\n",
       "OMtjYCAM0hPwSDKv2sBADDi6AK80sx9RpswHEbwHMCVOuIKpIqJMWQLEPPexmMKgDpcnyhSejn5s\n",
       "pvwjaArPpNBQBYSq+VhMYfxD0BSjHGQfYTWFSwHdFO6V3S8rkVRw32EgaArTArZ6ARRTTjGkJrgi\n",
       "qeBFpIIiXKacl1kj/4CBIR8hsgAYoY+RVJxFpAdHXKa8t4Q4qQAucoChF0WFSGgoJHSZWwxwmVIf\n",
       "CKEvIaVtTxQVFoiYcMZlSuSJGBDFipS2uT8z8CAnewSzCYcpPJ8Z/nEzoIRLNucHhjlISjgQrlyK\n",
       "MIUH4nkIg+0Dz0culJjm+8brwD0B2aJAbDF9PgAo8xXK4LjA8JsTKv/2LhAc4Lm5ZtU0GAesd1Mx\n",
       "sinl/uogxx25ADTFF8pgSmCYvoZQPnqhGqpAVG4jOjdSwZQUAvLElS9HJ+Av6xyJMoUh6wGhchcA\n",
       "qQ9t4m7+n94AAAAASUVORK5CYII=\n",
       "\" style=\"display:inline;vertical-align:middle;\" /></a></td></tr>\n",
       "<tr><td>2</td><td>Literal</td><td></td><td><a class=\"ProveItLink\" href=\"../../set_theory/membership/__pv_it/088cbc857536a28d4119ad9639a84270ccb0545d0/expr.ipynb\"><img src=\"data:image/png;base64,iVBORw0KGgoAAAANSUhEUgAAAAwAAAAMBAMAAACkW0HUAAAALVBMVEX///+qqqpmZmZUVFQQEBC6\n",
       "urpERETc3NyYmJjMzMwiIiIyMjKIiIju7u4AAACYsrA9AAAAAXRSTlMAQObYZgAAADxJREFUCNdj\n",
       "YOA9vWrVBgaG2b0MQMCeCyIZ2ArA1DUwyRCyahVIyWQI7xaEYm4AU7xLIdxqTQgtvGvVBgCkcQ7e\n",
       "geM/tQAAAABJRU5ErkJggg==\n",
       "\" style=\"display:inline;vertical-align:middle;\" /></a></td></tr>\n",
       "<tr><td>3</td><td>ExprTuple</td><td>4, 5</td><td><a class=\"ProveItLink\" href=\"../3941ec9f752976be1bace73172e5d816a55bfa1e0/expr.ipynb\"><img src=\"data:image/png;base64,iVBORw0KGgoAAAANSUhEUgAAAIcAAAAVBAMAAACeZ+BxAAAAMFBMVEX////c3NwiIiJERESqqqqY\n",
       "mJh2dnZmZmYQEBDu7u4yMjJUVFTMzMyIiIi6uroAAAAs73DqAAAAAXRSTlMAQObYZgAAAadJREFU\n",
       "OMtjYMALWEvxyR5LhLH4LuBWxamG344TDgwMcSDGaTyKeD+ASEsspu9QAFHsC4D4AJCxEo8hbA1A\n",
       "YvJPLDJcBXB5oEG8FwgYMns3NkP4HeCGhDEwcEwg5BJebIa8nwCXn8HA8IqBLEOyEPLMDgxlCAmx\n",
       "2yLXLxBpyDKG8H9QebYChqWIEE9gVeVQQFEKCn2shnD+mzbvCzAZgWKPZQFDH8JaYIyyHEBNBw9w\n",
       "GMLyB+Lk5aCE1sDwD2E6A7cBqtLTPQw4DGH/9ABMMwM9wvMByRBgTKFH94sDOAxhurkJHD2gFA00\n",
       "pAVJSv4AA2qEc+MKk/kH+B0EoGEC9I4pIrMJ3GfghRsCSQcKCEMmgH0MZcQzzH+QAI0d1gUM6XBD\n",
       "/AMsGGThAfQJLYrBAvMVoIzNDPwCFxBR/AgY1MZAYMkw+dq03AAYh7NfAGoIe8UvUHnA2QxKnAZQ\n",
       "xlIG3rIJUEO4HjBwCGBPrHwwQwimaGCyZ03AURwxEGtILu6iAGwIKwFDQCmaExSD0tjlwUmGU5dA\n",
       "yQZMctwgfzPiK1BYUwiWsXcYGACvqHLL1UbSvwAAAABJRU5ErkJggg==\n",
       "\" style=\"display:inline;vertical-align:middle;\" /></a></td></tr>\n",
       "<tr><td>4</td><td>Variable</td><td></td><td><a class=\"ProveItLink\" href=\"../5144cf74ae6a683b49b974f1b9302b432abf7e930/expr.ipynb\"><img src=\"data:image/png;base64,iVBORw0KGgoAAAANSUhEUgAAACUAAAAJBAMAAABH3vh9AAAAKlBMVEX////MzMwQEBAiIiKYmJhm\n",
       "ZmZUVFSIiIh2dnbc3Nzu7u5ERESqqqoAAABwkVEpAAAAAXRSTlMAQObYZgAAAEtJREFUCNdjYIAA\n",
       "zvbM4+EMqGAFg7ODMppYA0Mtw0E0sQUM2QyYQB1TiPMiAxeakCf7BYYqVCGeK9wKnAUw3undQLCA\n",
       "a3tXRwmMAwC3+RVNp6j0GAAAAABJRU5ErkJggg==\n",
       "\" style=\"display:inline;vertical-align:middle;\" /></a></td></tr>\n",
       "<tr><td>5</td><td>Operation</td><td>operator:&nbsp;6<br>operands:&nbsp;7<br></td><td><a class=\"ProveItLink\" href=\"../13d4a08b9351353c5109f03786e5b31c23c2977f0/expr.ipynb\"><img src=\"data:image/png;base64,iVBORw0KGgoAAAANSUhEUgAAAEcAAAAVBAMAAADm2O7QAAAAMFBMVEX////c3NxERESqqqpUVFS6\n",
       "urrMzMwyMjIQEBCIiIh2dnYiIiLu7u5mZmaYmJgAAABXZE4RAAAAAXRSTlMAQObYZgAAAOFJREFU\n",
       "KM9jYGDgu8eAG7CtEgBRPLsY8AG2ZhDJ+QFE6mBK83hsAFHXQQRXA5A49AeLIewXQOQKmKIjLtgU\n",
       "8RugKGLgxKYo/gARipYzEKGoiuHtV6gi3gIcini+njr6mYHhPYidEYBDEfO3CTA/prQx4FDE+zsA\n",
       "TKs/YGCISMChiHuON8h73AuABAsuN51P4DcQgLqJawNcEQ+IOAAj3jOcD1iAGQTngep5fjNACScG\n",
       "foEJSIp4b3wHpZcTCkD5JgYoUcfAeesAskl4APGK+AgoAqcnnp34U2YrmOJbTCiNAwBaAkpPYhV1\n",
       "sgAAAABJRU5ErkJggg==\n",
       "\" style=\"display:inline;vertical-align:middle;\" /></a></td></tr>\n",
       "<tr><td>6</td><td>Literal</td><td></td><td><a class=\"ProveItLink\" href=\"../../../number/sets/integer/__pv_it/6e5362d7b256561b61a1b512bf7dc507dcde5dcf0/expr.ipynb\"><img src=\"data:image/png;base64,iVBORw0KGgoAAAANSUhEUgAAAE4AAAAOBAMAAABz3DdCAAAAMFBMVEX///8QEBCYmJiqqqoiIiLu\n",
       "7u7MzMyIiIi6uroyMjLc3NxmZmZERERUVFR2dnYAAAADo0JQAAAAAXRSTlMAQObYZgAAAWZJREFU\n",
       "KM99kL9LQlEUx7/2vL7XS9+LlqAh3Bp1kGhzLKjhCW1BvaX9UoPQD3ku1qb0D/S2ghTf4CKEuAU1\n",
       "6BaR1B3aKhIiNbAf56q8ybpwv3DO+XDOly+A158bF/+/p57UT79O2eO5iTaJ9u3XSWs8N1UgMXp+\n",
       "XfnjboCTTLb9evUPriz9mHXg6PrsUGit/i302r6rHZxnPGzWkOIoZbIuYhLO01Jxx1kHCm1OuLpn\n",
       "RFboiMhjvanNoQG0JPdmQ3PWwHrSrk5qHwebihOKV6B45SgugVnJnQKMIOUDQYHIzMIerC2HejQN\n",
       "xR+BZYQ6kuvTJyhSAI1Nb5APhj3V6oP8qNMyvu4wIDNqJaGbMgFUR6EZepdMs3CTcjXk0oBAzBJV\n",
       "LMmkOOYlF/aQY+90Z9GMilF8ZQcvin3PhFrAhqsPkjfqjOMECU+Y2xwXjS+Cs0BxF8U08Jzm0KQf\n",
       "sIcdoJTOXTlqzfoFcS9unliQnJ4AAAAASUVORK5CYII=\n",
       "\" style=\"display:inline;vertical-align:middle;\" /></a></td></tr>\n",
       "<tr><td>7</td><td>ExprTuple</td><td>8, 9</td><td><a class=\"ProveItLink\" href=\"../c4525d731a21a86d2adc1cfc5950710e7f9561760/expr.ipynb\"><img src=\"data:image/png;base64,iVBORw0KGgoAAAANSUhEUgAAACsAAAAVBAMAAAAtAwouAAAAMFBMVEX////c3NwiIiJERESqqqqY\n",
       "mJh2dnZmZmYQEBDu7u4yMjJUVFTMzMyIiIi6uroAAAAs73DqAAAAAXRSTlMAQObYZgAAAOpJREFU\n",
       "GNNjYMAB+C6gi8SBiNNAzDwBKjK7CUiwHwASKxkYOO1hwgzLQcQCBgbeCwycu/fDhb+AiDAGBg6Q\n",
       "yH2YMN9PEDmDgeEVA7Iw2wIQyezAUIYizJXAWv+Aga2AYSmK8PyXme8dGFgWMPShCPufBdvQwPAP\n",
       "RbheD0TyfEAT1p2tCRFuQRbm/MPwhRFsiClMGCTD+oHzHxuQWsCQDhXm/ASkuQ0YPvIygBz4CMgr\n",
       "718ewNkvAHR2AMP1TCD1gIFDAOZvAXjIAj3PmgBlsyICPBcSsGjCnKCAkYZyEJHEDTKOESPS7jAw\n",
       "AAABwEIRT8VB4gAAAABJRU5ErkJggg==\n",
       "\" style=\"display:inline;vertical-align:middle;\" /></a></td></tr>\n",
       "<tr><td>8</td><td>Literal</td><td></td><td><a class=\"ProveItLink\" href=\"../../../number/numeral/__pv_it/9be8badea4c35b9724062cecc501d17a3158d1d20/expr.ipynb\"><img src=\"data:image/png;base64,iVBORw0KGgoAAAANSUhEUgAAAAgAAAAPBAMAAAArJJMAAAAAHlBMVEX///+YmJgyMjIQEBBmZmaI\n",
       "iIhUVFTu7u5EREQAAAAw+MI4AAAAAXRSTlMAQObYZgAAACFJREFUCNdjYGBoZ2BgqJjOwFCWBiQY\n",
       "WEklWJwnOTKAAACjEQo8HvEr3AAAAABJRU5ErkJggg==\n",
       "\" style=\"display:inline;vertical-align:middle;\" /></a></td></tr>\n",
       "<tr><td>9</td><td>Variable</td><td></td><td><a class=\"ProveItLink\" href=\"../../../__pv_it/1a7356cf6caf039e07a5436d90e972cbb5e92b0a0/expr.ipynb\"><img src=\"data:image/png;base64,iVBORw0KGgoAAAANSUhEUgAAAAoAAAAOBAMAAADkjZCYAAAAMFBMVEX///9ERETc3NyIiIjMzMyY\n",
       "mJh2dna6urqqqqpmZmYyMjIiIiIQEBBUVFTu7u4AAAD6+w4kAAAAAXRSTlMAQObYZgAAAFBJREFU\n",
       "CNdj4LuzgQEIuCaASP4GEFn/AERmgQiGZQyR3xn4vj97/oOB44sBUIDzdwGQ5La7DVT03oG/QYEh\n",
       "nuF9QQLDRQZ+BQOGpQzM0x4AAD+VFjuIiDKbAAAAAElFTkSuQmCC\n",
       "\" style=\"display:inline;vertical-align:middle;\" /></a></td></tr>\n",
       "</table>\n"
      ],
      "text/plain": [
       "0. (_x_ in {1...k})\n",
       "   core type: ExprTuple\n",
       "   sub-expressions: 1\n",
       "1. _x_ in {1...k}\n",
       "   core type: Operation\n",
       "   operator: 2\n",
       "   operands: 3\n",
       "2. in\n",
       "   core type: Literal\n",
       "   sub-expressions: \n",
       "3. (_x_ , {1...k})\n",
       "   core type: ExprTuple\n",
       "   sub-expressions: 4, 5\n",
       "4. _x_\n",
       "   core type: Variable\n",
       "   sub-expressions: \n",
       "5. {1...k}\n",
       "   core type: Operation\n",
       "   operator: 6\n",
       "   operands: 7\n",
       "6. Interval\n",
       "   core type: Literal\n",
       "   sub-expressions: \n",
       "7. (1 , k)\n",
       "   core type: ExprTuple\n",
       "   sub-expressions: 8, 9\n",
       "8. 1\n",
       "   core type: Literal\n",
       "   sub-expressions: \n",
       "9. k\n",
       "   core type: Variable\n",
       "   sub-expressions: "
      ]
     },
     "execution_count": 4,
     "metadata": {},
     "output_type": "execute_result"
    }
   ],
   "source": [
    "# display the expression information\n",
    "expr.exprInfo()"
   ]
  },
  {
   "cell_type": "code",
   "execution_count": null,
   "metadata": {},
   "outputs": [],
   "source": []
  }
 ],
 "metadata": {
  "kernelspec": {
   "display_name": "Python 3",
   "language": "python",
   "name": "python3"
  }
 },
 "nbformat": 4,
 "nbformat_minor": 0
}
