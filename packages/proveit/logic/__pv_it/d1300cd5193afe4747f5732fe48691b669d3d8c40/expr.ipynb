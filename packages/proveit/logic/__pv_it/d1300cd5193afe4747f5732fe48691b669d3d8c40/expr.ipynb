{
 "cells": [
  {
   "cell_type": "markdown",
   "metadata": {},
   "source": [
    "Expression of type <a class=\"ProveItLink\" href=\"../../../../../doc/html/api/proveit.Indexed.html\">Indexed</a>\n",
    "=======================\n",
    "# from context <a class=\"ProveItLink\" href=\"../../_context_.ipynb\">proveit.logic</a>"
   ]
  },
  {
   "cell_type": "code",
   "execution_count": 1,
   "metadata": {},
   "outputs": [],
   "source": [
    "# import Expression classes needed to build the expression\n",
    "from proveit import Indexed, Variable\n",
    "from proveit._common_ import zz"
   ]
  },
  {
   "cell_type": "code",
   "execution_count": 2,
   "metadata": {},
   "outputs": [
    {
     "data": {
      "text/html": [
       "<strong id=\"expr\">expr:</strong> <a class=\"ProveItLink\" href=\"expr.ipynb\"><img src=\"data:image/png;base64,iVBORw0KGgoAAAANSUhEUgAAACsAAAANBAMAAADChorYAAAAMFBMVEX////MzMyqqqq6urp2dnYy\n",
       "MjJUVFSYmJiIiIgiIiJmZmYQEBDu7u5ERETc3NwAAACuGOj0AAAAAXRSTlMAQObYZgAAAHhJREFU\n",
       "GNNjYOC7f49nDwMG4P7/f2UDpnBtefksBmyAbQE2Ub4QrIqtC7CJMm1kYFCAsj2S2wSgzOoHDFxQ\n",
       "w1kO5HJDVTD93r375wEIm5khHO5shVf/c+Am/sNqO+MGRiyi8iwBLCgCPKtWrVrEcLZphQ/DKSBT\n",
       "AQAu8R/372QZkAAAAABJRU5ErkJggg==\n",
       "\" style=\"display:inline;vertical-align:middle;\" /></a><br>"
      ],
      "text/plain": [
       "expr: z__x_"
      ]
     },
     "execution_count": 2,
     "metadata": {},
     "output_type": "execute_result"
    }
   ],
   "source": [
    "# build up the expression from sub-expressions\n",
    "expr = Indexed(zz, Variable(\"_x_\", latexFormat = r\"{_{-}x_{-}}\"), base = 1)"
   ]
  },
  {
   "cell_type": "code",
   "execution_count": 3,
   "metadata": {},
   "outputs": [
    {
     "name": "stdout",
     "output_type": "stream",
     "text": [
      "Passed sanity check: built 'expr' is the same as the stored Expression.\n"
     ]
    }
   ],
   "source": [
    "# check that the built expression is the same as the stored expression\n",
    "%check_expr"
   ]
  },
  {
   "cell_type": "code",
   "execution_count": 4,
   "metadata": {},
   "outputs": [
    {
     "data": {
      "text/html": [
       "<table><tr><th>&nbsp;</th><th>core type</th><th>sub-expressions</th><th>expression</th></tr>\n",
       "<tr><td>0</td><td>Indexed</td><td>var:&nbsp;1<br>index:&nbsp;2<br>base:&nbsp;\"1\"<br></td><td><a class=\"ProveItLink\" href=\"expr.ipynb\"><img src=\"data:image/png;base64,iVBORw0KGgoAAAANSUhEUgAAACsAAAANBAMAAADChorYAAAAMFBMVEX////MzMyqqqq6urp2dnYy\n",
       "MjJUVFSYmJiIiIgiIiJmZmYQEBDu7u5ERETc3NwAAACuGOj0AAAAAXRSTlMAQObYZgAAAHhJREFU\n",
       "GNNjYOC7f49nDwMG4P7/f2UDpnBtefksBmyAbQE2Ub4QrIqtC7CJMm1kYFCAsj2S2wSgzOoHDFxQ\n",
       "w1kO5HJDVTD93r375wEIm5khHO5shVf/c+Am/sNqO+MGRiyi8iwBLCgCPKtWrVrEcLZphQ/DKSBT\n",
       "AQAu8R/372QZkAAAAABJRU5ErkJggg==\n",
       "\" style=\"display:inline;vertical-align:middle;\" /></a></td></tr>\n",
       "<tr><td>1</td><td>Variable</td><td></td><td><a class=\"ProveItLink\" href=\"../../../__pv_it/825c5f9364dafac3172235f06554b9a92bb87b3c0/expr.ipynb\"><img src=\"data:image/png;base64,iVBORw0KGgoAAAANSUhEUgAAAAwAAAAKBAMAAAByAqLJAAAAMFBMVEX////MzMyqqqq6urp2dnYy\n",
       "MjJUVFSYmJiIiIgiIiJmZmYQEBDu7u5ERETc3NwAAACuGOj0AAAAAXRSTlMAQObYZgAAAEVJREFU\n",
       "CNdjYOC7f49nDwMD9///KxsYGGrLy2cxgADbAhDJFwLmWBeASKaNDAwKDAzVDxi4FjAw/d69++cB\n",
       "Bm6FV/9zGAB5GRMC+6tp5wAAAABJRU5ErkJggg==\n",
       "\" style=\"display:inline;vertical-align:middle;\" /></a></td></tr>\n",
       "<tr><td>2</td><td>Variable</td><td></td><td><a class=\"ProveItLink\" href=\"../5144cf74ae6a683b49b974f1b9302b432abf7e930/expr.ipynb\"><img src=\"data:image/png;base64,iVBORw0KGgoAAAANSUhEUgAAACUAAAAJBAMAAABH3vh9AAAAKlBMVEX////MzMwQEBAiIiKYmJhm\n",
       "ZmZUVFSIiIh2dnbc3Nzu7u5ERESqqqoAAABwkVEpAAAAAXRSTlMAQObYZgAAAEtJREFUCNdjYIAA\n",
       "zvbM4+EMqGAFg7ODMppYA0Mtw0E0sQUM2QyYQB1TiPMiAxeakCf7BYYqVCGeK9wKnAUw3undQLCA\n",
       "a3tXRwmMAwC3+RVNp6j0GAAAAABJRU5ErkJggg==\n",
       "\" style=\"display:inline;vertical-align:middle;\" /></a></td></tr>\n",
       "</table>\n"
      ],
      "text/plain": [
       "0. z__x_\n",
       "   core type: Indexed\n",
       "   var: 1\n",
       "   index: 2\n",
       "   base: \"1\"\n",
       "1. z\n",
       "   core type: Variable\n",
       "   sub-expressions: \n",
       "2. _x_\n",
       "   core type: Variable\n",
       "   sub-expressions: "
      ]
     },
     "execution_count": 4,
     "metadata": {},
     "output_type": "execute_result"
    }
   ],
   "source": [
    "# display the expression information\n",
    "expr.exprInfo()"
   ]
  },
  {
   "cell_type": "code",
   "execution_count": null,
   "metadata": {},
   "outputs": [],
   "source": []
  }
 ],
 "metadata": {
  "kernelspec": {
   "display_name": "Python 3",
   "language": "python",
   "name": "python3"
  }
 },
 "nbformat": 4,
 "nbformat_minor": 0
}
