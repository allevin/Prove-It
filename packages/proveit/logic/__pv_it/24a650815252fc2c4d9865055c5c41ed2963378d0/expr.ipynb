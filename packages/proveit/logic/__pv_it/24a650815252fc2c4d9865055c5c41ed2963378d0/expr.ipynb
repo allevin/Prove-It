{
 "cells": [
  {
   "cell_type": "markdown",
   "metadata": {},
   "source": [
    "Expression of type <a class=\"ProveItLink\" href=\"../../../../../doc/html/api/proveit.ExprTuple.html\">ExprTuple</a>\n",
    "=======================\n",
    "# from context <a class=\"ProveItLink\" href=\"../../_context_.ipynb\">proveit.logic</a>"
   ]
  },
  {
   "cell_type": "code",
   "execution_count": 1,
   "metadata": {},
   "outputs": [],
   "source": [
    "# import Expression classes needed to build the expression\n",
    "from proveit import ExprTuple\n",
    "from proveit._common_ import i, j, k\n",
    "from proveit.logic import InSet\n",
    "from proveit.number import Interval"
   ]
  },
  {
   "cell_type": "code",
   "execution_count": 2,
   "metadata": {},
   "outputs": [
    {
     "data": {
      "text/html": [
       "<strong id=\"expr\">expr:</strong> <a class=\"ProveItLink\" href=\"expr.ipynb\"><img src=\"data:image/png;base64,iVBORw0KGgoAAAANSUhEUgAAAHUAAAAVBAMAAACK3rzVAAAAMFBMVEX////c3NwiIiJERESqqqqY\n",
       "mJh2dnZmZmYQEBDu7u4yMjJUVFTMzMyIiIi6uroAAAAs73DqAAAAAXRSTlMAQObYZgAAAclJREFU\n",
       "OMtjYMAKwgMYcINjiTAW3wVM2UkJDPjACQcGhjgQ4zQQW6FJ3geT8QIYumY3gUj2BUB8AMhYCcS2\n",
       "aEoywGQ0FiuXgwi2BiAB1M+LxclQvdjAF7jeMAYGjglwcc5bSkoL8Ovl+wnXO4OB4RVC4lQkQXvZ\n",
       "FsD1MjswlAHtSwcHK6Mlips571pi6uVKYK1/ANHLVsCwFEjyfQCJMyOCtQokx6CKqXf+y8z3Dgys\n",
       "IPUsCxj6GBiOsCuAxCfDVfAABRluMnzF1Ot/Fh7afA0M/xgYJnCAw/qFkhIkrHh2gOJOgO8jpt56\n",
       "PTDFDHQtzweQXgb/CbBEAg3NHnCIKGDq1Z2tCaLUGMB6W4DUak5wQkQo2QUOlwIMrZx/GL4wMkD8\n",
       "C3SzKTCA/7GBJLgR6T8JHC4OIBLkJE4Yg/UDJ0gtOJxZFzCkA0PsgyjYUD3UdAX2CecnkCkKUAa3\n",
       "AcNHXgZ4HD0CJWdIupSqQdFbBDawGZSEDKAMrgCG65lQvVwPGDiQMov3IuQ0qY4zUcPSJGsC9rzw\n",
       "kPEPfr250DyIDiIYeL4zF+DUC8q/nCAXSmORnHSB06wUT7nxABhsIL8yYsvAYQ6Eyqs7DAwAco5r\n",
       "wmYZ8tgAAAAASUVORK5CYII=\n",
       "\" style=\"display:inline;vertical-align:middle;\" /></a><br>"
      ],
      "text/plain": [
       "expr: (i in {j...k})"
      ]
     },
     "execution_count": 2,
     "metadata": {},
     "output_type": "execute_result"
    }
   ],
   "source": [
    "# build up the expression from sub-expressions\n",
    "expr = ExprTuple(InSet(i, Interval(j, k)))"
   ]
  },
  {
   "cell_type": "code",
   "execution_count": 3,
   "metadata": {},
   "outputs": [
    {
     "name": "stdout",
     "output_type": "stream",
     "text": [
      "Passed sanity check: built 'expr' is the same as the stored Expression.\n"
     ]
    }
   ],
   "source": [
    "# check that the built expression is the same as the stored expression\n",
    "%check_expr"
   ]
  },
  {
   "cell_type": "code",
   "execution_count": 4,
   "metadata": {},
   "outputs": [
    {
     "data": {
      "text/html": [
       "<table><tr><th>&nbsp;</th><th>core type</th><th>sub-expressions</th><th>expression</th></tr>\n",
       "<tr><td>0</td><td>ExprTuple</td><td>1</td><td><a class=\"ProveItLink\" href=\"expr.ipynb\"><img src=\"data:image/png;base64,iVBORw0KGgoAAAANSUhEUgAAAHUAAAAVBAMAAACK3rzVAAAAMFBMVEX////c3NwiIiJERESqqqqY\n",
       "mJh2dnZmZmYQEBDu7u4yMjJUVFTMzMyIiIi6uroAAAAs73DqAAAAAXRSTlMAQObYZgAAAclJREFU\n",
       "OMtjYMAKwgMYcINjiTAW3wVM2UkJDPjACQcGhjgQ4zQQW6FJ3geT8QIYumY3gUj2BUB8AMhYCcS2\n",
       "aEoywGQ0FiuXgwi2BiAB1M+LxclQvdjAF7jeMAYGjglwcc5bSkoL8Ovl+wnXO4OB4RVC4lQkQXvZ\n",
       "FsD1MjswlAHtSwcHK6Mlips571pi6uVKYK1/ANHLVsCwFEjyfQCJMyOCtQokx6CKqXf+y8z3Dgys\n",
       "IPUsCxj6GBiOsCuAxCfDVfAABRluMnzF1Ot/Fh7afA0M/xgYJnCAw/qFkhIkrHh2gOJOgO8jpt56\n",
       "PTDFDHQtzweQXgb/CbBEAg3NHnCIKGDq1Z2tCaLUGMB6W4DUak5wQkQo2QUOlwIMrZx/GL4wMkD8\n",
       "C3SzKTCA/7GBJLgR6T8JHC4OIBLkJE4Yg/UDJ0gtOJxZFzCkA0PsgyjYUD3UdAX2CecnkCkKUAa3\n",
       "AcNHXgZ4HD0CJWdIupSqQdFbBDawGZSEDKAMrgCG65lQvVwPGDiQMov3IuQ0qY4zUcPSJGsC9rzw\n",
       "kPEPfr250DyIDiIYeL4zF+DUC8q/nCAXSmORnHSB06wUT7nxABhsIL8yYsvAYQ6Eyqs7DAwAco5r\n",
       "wmYZ8tgAAAAASUVORK5CYII=\n",
       "\" style=\"display:inline;vertical-align:middle;\" /></a></td></tr>\n",
       "<tr><td>1</td><td>Operation</td><td>operator:&nbsp;2<br>operands:&nbsp;3<br></td><td><a class=\"ProveItLink\" href=\"../d9fa4d5f5284a804cf569c401e0ea12e234b45ee0/expr.ipynb\"><img src=\"data:image/png;base64,iVBORw0KGgoAAAANSUhEUgAAAGgAAAAVBAMAAABYjraNAAAAMFBMVEX///+YmJjc3NxUVFQQEBAi\n",
       "IiKqqqrMzMy6urpmZmZ2dnbu7u6IiIgyMjJEREQAAADwIkbYAAAAAXRSTlMAQObYZgAAAWBJREFU\n",
       "OMtjYMAEkgIMuEHVIqzCWxcw4AMlCSDyLZroeTApr4ChfLMriOS8ACLfoMktAZPCWCy5CSK4HLDZ\n",
       "vwSny76ha+I+Gxp6Ab8mjt/ommqlCdrEdQGmiXslOLCYXqM4j/vMa0xNvAsY5zeANXFxfAAJ8CEC\n",
       "ay7IOIZATE37u1f3JzAwAtWXcQaABPbBpdg9gMRpho+YmvJrYGG4geUAiNUSGgoJCHaTAiCpwPEJ\n",
       "U9P8CDDFdxGofwOIVYwII3ewdwMwNcVsjgZRUUB8mRucdhBytmBPT8DQw/2d4RsTA9hPTD+4QCLM\n",
       "iES6FOxpcAoDOYIbxmD8wA1SCwo9tg+KYGMiUFME2NHcX0HaA6AM5gcMn3igkfsGHBAMutNRNE0F\n",
       "m+QHJLY8gDJ4BRhOrkZLe8lXkZNRJM4EiDPBNjF9J1GTCAP7T74JODVB8hNGzj3A/WoinpzbgFVY\n",
       "KoFAGQEAAK5amZ2TmOsAAAAASUVORK5CYII=\n",
       "\" style=\"display:inline;vertical-align:middle;\" /></a></td></tr>\n",
       "<tr><td>2</td><td>Literal</td><td></td><td><a class=\"ProveItLink\" href=\"../../set_theory/membership/__pv_it/088cbc857536a28d4119ad9639a84270ccb0545d0/expr.ipynb\"><img src=\"data:image/png;base64,iVBORw0KGgoAAAANSUhEUgAAAAwAAAAMBAMAAACkW0HUAAAALVBMVEX///+qqqpmZmZUVFQQEBC6\n",
       "urpERETc3NyYmJjMzMwiIiIyMjKIiIju7u4AAACYsrA9AAAAAXRSTlMAQObYZgAAADxJREFUCNdj\n",
       "YOA9vWrVBgaG2b0MQMCeCyIZ2ArA1DUwyRCyahVIyWQI7xaEYm4AU7xLIdxqTQgtvGvVBgCkcQ7e\n",
       "geM/tQAAAABJRU5ErkJggg==\n",
       "\" style=\"display:inline;vertical-align:middle;\" /></a></td></tr>\n",
       "<tr><td>3</td><td>ExprTuple</td><td>4, 5</td><td><a class=\"ProveItLink\" href=\"../f0b846dbe5356a42c8b2b9f133b889768b3822670/expr.ipynb\"><img src=\"data:image/png;base64,iVBORw0KGgoAAAANSUhEUgAAAGUAAAAVBAMAAACtcD09AAAAMFBMVEX////c3NwiIiJERESqqqqY\n",
       "mJh2dnZmZmYQEBDu7u4yMjJUVFTMzMyIiIi6uroAAAAs73DqAAAAAXRSTlMAQObYZgAAAadJREFU\n",
       "OMuNlDFLw0AUx/+hpu3VNHRxcsmi4qB0UVAQ8g3aqQqCVpfaQSiCDi4t6ihSnAodzCIifgFxchAR\n",
       "ROgmgmLrpoupVEQoxXuXS6ykrT24d+/u3Y977+W9AH/GfBLdx/WKq+mV39PDNHqNGxNYIuWWz1l5\n",
       "+Czkcsx3u7xDMmTxecmVUz7npGlNyMUOT5yQCBa44Fy0zTXJdBoNj0kB4WI/jP7tMSXgDf0wQctj\n",
       "Aia2AJZJtzHsacbPRNJqvuowwRyOudRtadqmM4z4maPX7LsJle4NWDgArkKGY9H4Bg/49DOJOy97\n",
       "egEtoBh2cqedU+5jet3P5CfFEuBeaTYxSMjc6fsiUsPPTJTHaRmFYPb4csak6ULEm/MhrImGAice\n",
       "7tsUoLSCcKhVEa9Jkp5mrqLajN9x8qZayPBM2EM4MrzvIzxlH0QbUhmMox6Fl+sXKrcKSnWP2RDe\n",
       "7NInj0slksR9VjKRKsKyiGseM9a16NzaUWUNJCVTU5q9mXXZCy6zAO0rkOvKUP8wqrxhsY06fVph\n",
       "05s9+rTK00GxKO0NlDL/+x88Aj8N6GWTZYWv9AAAAABJRU5ErkJggg==\n",
       "\" style=\"display:inline;vertical-align:middle;\" /></a></td></tr>\n",
       "<tr><td>4</td><td>Variable</td><td></td><td><a class=\"ProveItLink\" href=\"../../../__pv_it/4cc43b4ba7e5ae9f0f864f240ab9735c1604d8200/expr.ipynb\"><img src=\"data:image/png;base64,iVBORw0KGgoAAAANSUhEUgAAAAcAAAAOBAMAAAARcxsoAAAAMFBMVEX///+YmJjc3NxUVFQQEBAi\n",
       "IiKqqqrMzMy6urpmZmZ2dnbu7u6IiIgyMjJEREQAAADwIkbYAAAAAXRSTlMAQObYZgAAADtJREFU\n",
       "CNdjYGB4ywAEbxjQAffKBQwMXBwfGBjKOAMYGDawHAAK5m8AEpe5GRiYfnAxMLB9UARpPcAAAFud\n",
       "DDeiFOVzAAAAAElFTkSuQmCC\n",
       "\" style=\"display:inline;vertical-align:middle;\" /></a></td></tr>\n",
       "<tr><td>5</td><td>Operation</td><td>operator:&nbsp;6<br>operands:&nbsp;7<br></td><td><a class=\"ProveItLink\" href=\"../68c70368c4d803e54ddef90832991fd52328c7420/expr.ipynb\"><img src=\"data:image/png;base64,iVBORw0KGgoAAAANSUhEUgAAAEcAAAAVBAMAAADm2O7QAAAAMFBMVEX///9ERETc3NyqqqpUVFS6\n",
       "urrMzMwyMjIQEBCIiIh2dnYiIiLu7u5mZmaYmJgAAABJJ2g3AAAAAXRSTlMAQObYZgAAAQVJREFU\n",
       "KM9jYGDgu8eAG7CtUgBRPLsY8AG2ZhDJ+QFE8n3CkD7SDaaugwiuBrAiB0xDasHkCoQibOAzEYpY\n",
       "/xChiKsATdHJiQcwFLEv4LsfAFXEC9KwgPsBhqLzMWviDRgY3oPYGUDVnAf4MRXZZ0IMvMDAkNIG\n",
       "ZDAxxCtgKLq/FUKLA/VHJIBYqzEdvvPIHhDFvQBIsBQgAg4Z8Hxj+MzEAHUT1waQCDjgeEDEASiD\n",
       "7wPPVy6UIGAGB9x5oHqe31AGiwDDJ04URbwg4xhOCAAVNUIZ7A8Y5q5BUcR9AWdagSliVdBPwK+I\n",
       "r4Eh/4Is7lQHTk88OxkOrn2AO2W2gim+xYTSOAACvUhy2JPpHwAAAABJRU5ErkJggg==\n",
       "\" style=\"display:inline;vertical-align:middle;\" /></a></td></tr>\n",
       "<tr><td>6</td><td>Literal</td><td></td><td><a class=\"ProveItLink\" href=\"../../../number/sets/integer/__pv_it/6e5362d7b256561b61a1b512bf7dc507dcde5dcf0/expr.ipynb\"><img src=\"data:image/png;base64,iVBORw0KGgoAAAANSUhEUgAAAE4AAAAOBAMAAABz3DdCAAAAMFBMVEX///8QEBCYmJiqqqoiIiLu\n",
       "7u7MzMyIiIi6uroyMjLc3NxmZmZERERUVFR2dnYAAAADo0JQAAAAAXRSTlMAQObYZgAAAWZJREFU\n",
       "KM99kL9LQlEUx7/2vL7XS9+LlqAh3Bp1kGhzLKjhCW1BvaX9UoPQD3ku1qb0D/S2ghTf4CKEuAU1\n",
       "6BaR1B3aKhIiNbAf56q8ybpwv3DO+XDOly+A158bF/+/p57UT79O2eO5iTaJ9u3XSWs8N1UgMXp+\n",
       "XfnjboCTTLb9evUPriz9mHXg6PrsUGit/i302r6rHZxnPGzWkOIoZbIuYhLO01Jxx1kHCm1OuLpn\n",
       "RFboiMhjvanNoQG0JPdmQ3PWwHrSrk5qHwebihOKV6B45SgugVnJnQKMIOUDQYHIzMIerC2HejQN\n",
       "xR+BZYQ6kuvTJyhSAI1Nb5APhj3V6oP8qNMyvu4wIDNqJaGbMgFUR6EZepdMs3CTcjXk0oBAzBJV\n",
       "LMmkOOYlF/aQY+90Z9GMilF8ZQcvin3PhFrAhqsPkjfqjOMECU+Y2xwXjS+Cs0BxF8U08Jzm0KQf\n",
       "sIcdoJTOXTlqzfoFcS9unliQnJ4AAAAASUVORK5CYII=\n",
       "\" style=\"display:inline;vertical-align:middle;\" /></a></td></tr>\n",
       "<tr><td>7</td><td>ExprTuple</td><td>8, 9</td><td><a class=\"ProveItLink\" href=\"../b913345561c55a019ccc63672757d0f12b9709f20/expr.ipynb\"><img src=\"data:image/png;base64,iVBORw0KGgoAAAANSUhEUgAAACkAAAAVBAMAAAAp9toTAAAAMFBMVEX////c3NwiIiJERESqqqqY\n",
       "mJh2dnZmZmYQEBDu7u4yMjJUVFTMzMyIiIi6uroAAAAs73DqAAAAAXRSTlMAQObYZgAAAQhJREFU\n",
       "GNNjYMAO+C6gCcSBiNMgIl4ALDC7CUiwHwASK0HcaKi65SBiAQMDL4oBX0BEGAMDxwRkO36CyBkM\n",
       "DK+QlbItAJHMDgxlQIrzriVElCuBtf4BA1sBw1KQEgZViOj8l5nvHRhYFjD0ATk3Gb5CRP3Pgk1v\n",
       "YPgHpAT4PkJE6/VAJM8HsCgDmwJEVHe2JkS0BWxLAViQ8w/DF0awCaZgWxwYOIEU6wfOf2xAagFD\n",
       "OtiWCQzzgYZwGzB85GUAuewRSLQI6CGghVwBDNczgdQDBg5QaKkD8UO4D4E+Zk1geMj4B8gOgIvm\n",
       "gkKS5ztzAbIoJygwpDnNSoEUL1wpN8hMRvQYusPAAAD6Jjrk3upVsAAAAABJRU5ErkJggg==\n",
       "\" style=\"display:inline;vertical-align:middle;\" /></a></td></tr>\n",
       "<tr><td>8</td><td>Variable</td><td></td><td><a class=\"ProveItLink\" href=\"../../../__pv_it/612356038763a16ceac85a062629d016c986635c0/expr.ipynb\"><img src=\"data:image/png;base64,iVBORw0KGgoAAAANSUhEUgAAAAoAAAASBAMAAACQmVJ4AAAALVBMVEX////MzMyqqqpmZmYyMjK6\n",
       "uroiIiJ2dnZERESIiIju7u5UVFTc3NyYmJgAAAAeP2GyAAAAAXRSTlMAQObYZgAAAE1JREFUCNdj\n",
       "YGBg4H3DACI3MGADK2csAJIFbBcYGDgX8AFJHoa4AyCJMrC0M4jgegQimV6BSOYEEMlmwMDAeuCc\n",
       "AAODnEEzkL+iGKgTAMbaDxjCuhcwAAAAAElFTkSuQmCC\n",
       "\" style=\"display:inline;vertical-align:middle;\" /></a></td></tr>\n",
       "<tr><td>9</td><td>Variable</td><td></td><td><a class=\"ProveItLink\" href=\"../../../__pv_it/1a7356cf6caf039e07a5436d90e972cbb5e92b0a0/expr.ipynb\"><img src=\"data:image/png;base64,iVBORw0KGgoAAAANSUhEUgAAAAoAAAAOBAMAAADkjZCYAAAAMFBMVEX///9ERETc3NyIiIjMzMyY\n",
       "mJh2dna6urqqqqpmZmYyMjIiIiIQEBBUVFTu7u4AAAD6+w4kAAAAAXRSTlMAQObYZgAAAFBJREFU\n",
       "CNdj4LuzgQEIuCaASP4GEFn/AERmgQiGZQyR3xn4vj97/oOB44sBUIDzdwGQ5La7DVT03oG/QYEh\n",
       "nuF9QQLDRQZ+BQOGpQzM0x4AAD+VFjuIiDKbAAAAAElFTkSuQmCC\n",
       "\" style=\"display:inline;vertical-align:middle;\" /></a></td></tr>\n",
       "</table>\n"
      ],
      "text/plain": [
       "0. (i in {j...k})\n",
       "   core type: ExprTuple\n",
       "   sub-expressions: 1\n",
       "1. i in {j...k}\n",
       "   core type: Operation\n",
       "   operator: 2\n",
       "   operands: 3\n",
       "2. in\n",
       "   core type: Literal\n",
       "   sub-expressions: \n",
       "3. (i , {j...k})\n",
       "   core type: ExprTuple\n",
       "   sub-expressions: 4, 5\n",
       "4. i\n",
       "   core type: Variable\n",
       "   sub-expressions: \n",
       "5. {j...k}\n",
       "   core type: Operation\n",
       "   operator: 6\n",
       "   operands: 7\n",
       "6. Interval\n",
       "   core type: Literal\n",
       "   sub-expressions: \n",
       "7. (j , k)\n",
       "   core type: ExprTuple\n",
       "   sub-expressions: 8, 9\n",
       "8. j\n",
       "   core type: Variable\n",
       "   sub-expressions: \n",
       "9. k\n",
       "   core type: Variable\n",
       "   sub-expressions: "
      ]
     },
     "execution_count": 4,
     "metadata": {},
     "output_type": "execute_result"
    }
   ],
   "source": [
    "# display the expression information\n",
    "expr.exprInfo()"
   ]
  },
  {
   "cell_type": "code",
   "execution_count": null,
   "metadata": {},
   "outputs": [],
   "source": []
  }
 ],
 "metadata": {
  "kernelspec": {
   "display_name": "Python 3",
   "language": "python",
   "name": "python3"
  }
 },
 "nbformat": 4,
 "nbformat_minor": 0
}
