{
 "cells": [
  {
   "cell_type": "markdown",
   "metadata": {},
   "source": [
    "Expression of type <a class=\"ProveItLink\" href=\"../../../../../doc/html/api/proveit.ExprTuple.html\">ExprTuple</a>\n",
    "=======================\n",
    "# from context <a class=\"ProveItLink\" href=\"../../_context_.ipynb\">proveit.logic</a>"
   ]
  },
  {
   "cell_type": "code",
   "execution_count": 1,
   "metadata": {},
   "outputs": [],
   "source": [
    "# import Expression classes needed to build the expression\n",
    "from proveit import ExprTuple, Function\n",
    "from proveit._common_ import Q\n",
    "from proveit.logic import TRUE\n",
    "from proveit.logic._common_ import PofTrue"
   ]
  },
  {
   "cell_type": "code",
   "execution_count": 2,
   "metadata": {},
   "outputs": [
    {
     "data": {
      "text/html": [
       "<strong id=\"expr\">expr:</strong> <a class=\"ProveItLink\" href=\"expr.ipynb\"><img src=\"data:image/png;base64,iVBORw0KGgoAAAANSUhEUgAAAIEAAAAVBAMAAACTeZA2AAAAMFBMVEX////c3NwiIiJERESqqqqY\n",
       "mJh2dnZmZmYQEBDu7u4yMjJUVFTMzMyIiIi6uroAAAAs73DqAAAAAXRSTlMAQObYZgAAAhZJREFU\n",
       "OMullMFLFHEUx7+b7uzsNLvOqYsEof4BBUkdgvbsxU4eIspE9BDCUrCnIIM6dLE5RXQaEEFBYvNY\n",
       "xC4eTPCw/gGJiycRBEkNNmPt996bmd9bHE8NfH/73m/f7zPz3vv9fsD/P+XtbC/fzgw/TK3HsbBF\n",
       "w7XaM1m6hcIQPzfx0i4rNc6+rX0hy6/jOf8/jEITLKwYOavAWojYg1+l0VNvHoiAuwFNctQPnoxE\n",
       "JfPu4qKx3TrESwj5SUtoGXuc/B1YwoTINVDvhrELHYiXEIrzlrBrivKEZt8pwkfRgfl5Rdk4XYiX\n",
       "EHDbEu4bNSqm0JEi9FVYNSB3TL5zYoaaJsxawh/zSRRVmFQEp8paMtOnTPxrhiVNGEsB/m9gnSa9\n",
       "B4rQH7EWgCsdLjelvaAJ+7abZzOzT8lw24pQnmd147VS6q4mtFJCXyfpqib4RywiUCuwHF5OkIhL\n",
       "CG9MckeUFJWBvKwsWtXYcCsXsxg1i7u5neYm00c14SENYbIdJB1dyXzEopZNfcD0LdVA1c3iL94O\n",
       "YUxwqhe7uUef83VuBD5N7glBuv6ZCO8DFF+cf0+OrhRkg0evzXID9u7hEecZ2F0ku7oc9Bzu18qO\n",
       "d3V8fu7IftWnyeFTlu+9HiaUPReLzzMa51KsFRvwCRkEL7TfGIkwyO7mW5ketMF8o2C7l5Crp+bV\n",
       "QIRcT4z1Ss3MW+56av0U/QPVbJR4cQdvaAAAAABJRU5ErkJggg==\n",
       "\" style=\"display:inline;vertical-align:middle;\" /></a><br>"
      ],
      "text/plain": [
       "expr: (Q(TRUE) , P(TRUE))"
      ]
     },
     "execution_count": 2,
     "metadata": {},
     "output_type": "execute_result"
    }
   ],
   "source": [
    "# build up the expression from sub-expressions\n",
    "expr = ExprTuple(Function(Q, TRUE), PofTrue)"
   ]
  },
  {
   "cell_type": "code",
   "execution_count": 3,
   "metadata": {},
   "outputs": [
    {
     "name": "stdout",
     "output_type": "stream",
     "text": [
      "Passed sanity check: built 'expr' is the same as the stored Expression.\n"
     ]
    }
   ],
   "source": [
    "# check that the built expression is the same as the stored expression\n",
    "%check_expr"
   ]
  },
  {
   "cell_type": "code",
   "execution_count": 4,
   "metadata": {},
   "outputs": [
    {
     "data": {
      "text/html": [
       "<table><tr><th>&nbsp;</th><th>core type</th><th>sub-expressions</th><th>expression</th></tr>\n",
       "<tr><td>0</td><td>ExprTuple</td><td>1, 2</td><td><a class=\"ProveItLink\" href=\"expr.ipynb\"><img src=\"data:image/png;base64,iVBORw0KGgoAAAANSUhEUgAAAIEAAAAVBAMAAACTeZA2AAAAMFBMVEX////c3NwiIiJERESqqqqY\n",
       "mJh2dnZmZmYQEBDu7u4yMjJUVFTMzMyIiIi6uroAAAAs73DqAAAAAXRSTlMAQObYZgAAAhZJREFU\n",
       "OMullMFLFHEUx7+b7uzsNLvOqYsEof4BBUkdgvbsxU4eIspE9BDCUrCnIIM6dLE5RXQaEEFBYvNY\n",
       "xC4eTPCw/gGJiycRBEkNNmPt996bmd9bHE8NfH/73m/f7zPz3vv9fsD/P+XtbC/fzgw/TK3HsbBF\n",
       "w7XaM1m6hcIQPzfx0i4rNc6+rX0hy6/jOf8/jEITLKwYOavAWojYg1+l0VNvHoiAuwFNctQPnoxE\n",
       "JfPu4qKx3TrESwj5SUtoGXuc/B1YwoTINVDvhrELHYiXEIrzlrBrivKEZt8pwkfRgfl5Rdk4XYiX\n",
       "EHDbEu4bNSqm0JEi9FVYNSB3TL5zYoaaJsxawh/zSRRVmFQEp8paMtOnTPxrhiVNGEsB/m9gnSa9\n",
       "B4rQH7EWgCsdLjelvaAJ+7abZzOzT8lw24pQnmd147VS6q4mtFJCXyfpqib4RywiUCuwHF5OkIhL\n",
       "CG9MckeUFJWBvKwsWtXYcCsXsxg1i7u5neYm00c14SENYbIdJB1dyXzEopZNfcD0LdVA1c3iL94O\n",
       "YUxwqhe7uUef83VuBD5N7glBuv6ZCO8DFF+cf0+OrhRkg0evzXID9u7hEecZ2F0ku7oc9Bzu18qO\n",
       "d3V8fu7IftWnyeFTlu+9HiaUPReLzzMa51KsFRvwCRkEL7TfGIkwyO7mW5ketMF8o2C7l5Crp+bV\n",
       "QIRcT4z1Ss3MW+56av0U/QPVbJR4cQdvaAAAAABJRU5ErkJggg==\n",
       "\" style=\"display:inline;vertical-align:middle;\" /></a></td></tr>\n",
       "<tr><td>1</td><td>Operation</td><td>operator:&nbsp;3<br>operand:&nbsp;5<br></td><td><a class=\"ProveItLink\" href=\"../43f653b4157d6cbae5e822ef996ac5cd5cbaa0a70/expr.ipynb\"><img src=\"data:image/png;base64,iVBORw0KGgoAAAANSUhEUgAAADEAAAAVBAMAAAAdjxsPAAAAMFBMVEX///+YmJiqqqq6uroQEBBE\n",
       "RETu7u4iIiLMzMwyMjKIiIhUVFRmZmZ2dnbc3NwAAADS0us6AAAAAXRSTlMAQObYZgAAAQBJREFU\n",
       "KM9jYCAGMC+AM4XBJN+du7vAjG4GhuPlIFDKwNMAErjZwMBdBmJMA8v3gMkJQJwZACS8gZhrAZKM\n",
       "LBBPBzHOJzAwsCQgyaQwMPD8ADHuGzAwWDIgybAqMLwPAMsoMDCcRZbhPcBwXgDEiAe6ZSKyDNME\n",
       "hnqw6V+A2BlZhtkBLMbA9BdIfEaW4fjA8B1Ec7phkZkPovVBXnZCM03f4NUKDrAVgcgyjBMYeMsu\n",
       "8Ko+AHHuoLmawXrucgUGkGnmEJleMMlpAPZvAyNIhuUBUoykQELiADhgGC8gydwCk9z/IQ6ehpBg\n",
       "mwBxuws4hBheI2S4H6DENh8itlcwMAAArSZAHMKu9kwAAAAASUVORK5CYII=\n",
       "\" style=\"display:inline;vertical-align:middle;\" /></a></td></tr>\n",
       "<tr><td>2</td><td>Operation</td><td>operator:&nbsp;4<br>operand:&nbsp;5<br></td><td><a class=\"ProveItLink\" href=\"../e620067e5fc1a01f6e7ce2f053b97db25219d34a0/expr.ipynb\"><img src=\"data:image/png;base64,iVBORw0KGgoAAAANSUhEUgAAADEAAAAVBAMAAAAdjxsPAAAAMFBMVEX////u7u5mZmaYmJi6urqq\n",
       "qqp2dnbMzMwQEBBEREQyMjLc3NwiIiJUVFSIiIgAAAAeC3ydAAAAAXRSTlMAQObYZgAAAOtJREFU\n",
       "KM9jYCAK+MFZJmDy7f+7d89uADLYLzDonAGBkwxMBWCpXwwMnN1AmksAxCsCiy0AEezfGBhYgZjh\n",
       "HQNCxgxE8H1hYGD+BGQ0IslIgAjODwwMvF8ZGFgWIMlwBgAJfqCI/AQGBqYEJBk2BSBRn8DAfgjk\n",
       "AAMkGVaQAe+vpamBHM3hgCTD0gAk5gtAfMePLMMOtJzhDwMOGfZPUBmOADTTQN6BOBTZBcxAF3B+\n",
       "hMqAHYrkaqH5fx9AZFgOgKkyMMnlgBwJ3UhsCZToMUNi56HIcAnAmYwLUGS4L8CZvBtQY3sfnPWc\n",
       "gQEAcQM23zO0HfcAAAAASUVORK5CYII=\n",
       "\" style=\"display:inline;vertical-align:middle;\" /></a></td></tr>\n",
       "<tr><td>3</td><td>Variable</td><td></td><td><a class=\"ProveItLink\" href=\"../../../__pv_it/98124f92e6e1fc3772af50ac63eaa1f5624776f20/expr.ipynb\"><img src=\"data:image/png;base64,iVBORw0KGgoAAAANSUhEUgAAAA8AAAASBAMAAAB2sJk8AAAAMFBMVEX///+YmJiqqqq6uroQEBBE\n",
       "RETu7u4iIiLMzMwyMjKIiIhUVFRmZmZ2dnbc3NwAAADS0us6AAAAAXRSTlMAQObYZgAAAHxJREFU\n",
       "CNdjYGDgu3N3FwMI3Gxg4C4D0pkBQMIbiKeDRM8nMPD8ADHuGzC8DwAzFBjOC4AY8Q0M9Qkgxhcw\n",
       "YmBg+svA8B3E4HRjYJgPYug3ALHBqxUczkAOb9kFXtUHIGHrucsVGBrAtrI2MEIZByzBNAP3/88Q\n",
       "BocL0BoActoerD1tNT4AAAAASUVORK5CYII=\n",
       "\" style=\"display:inline;vertical-align:middle;\" /></a></td></tr>\n",
       "<tr><td>4</td><td>Variable</td><td></td><td><a class=\"ProveItLink\" href=\"../../../__pv_it/6369c6c8083c513ca7161ace249642d040f9327d0/expr.ipynb\"><img src=\"data:image/png;base64,iVBORw0KGgoAAAANSUhEUgAAABAAAAAOBAMAAADUAYG5AAAAMFBMVEX////u7u5mZmaYmJi6urqq\n",
       "qqp2dnbMzMwQEBBEREQyMjLc3NwiIiJUVFSIiIgAAAAeC3ydAAAAAXRSTlMAQObYZgAAAGBJREFU\n",
       "CNdjYGB4+//u3bMbGIDgFwMDZzeQZv/GwMAKxAx8XxgYmD8BGZwfGBh4vwIZ/AsYGOQnABn1CQzs\n",
       "h0Ca3l9LUwPrni/AAAF/oDT7JygDZAwYcH6E0ELz/z4A0QBnpRnRyxnfJQAAAABJRU5ErkJggg==\n",
       "\" style=\"display:inline;vertical-align:middle;\" /></a></td></tr>\n",
       "<tr><td>5</td><td>Literal</td><td></td><td><a class=\"ProveItLink\" href=\"../../boolean/__pv_it/68a87cc3370287d726c7086ace789e680e4461c30/expr.ipynb\"><img src=\"data:image/png;base64,iVBORw0KGgoAAAANSUhEUgAAAA4AAAAOBAMAAADtZjDiAAAAFVBMVEX///92dnbMzMxEREQiIiJm\n",
       "ZmYAAABAT6GXAAAAAXRSTlMAQObYZgAAABhJREFUCNdjCHEBAWcGIFBlgABa0YpADAAxegPJJk4d\n",
       "XAAAAABJRU5ErkJggg==\n",
       "\" style=\"display:inline;vertical-align:middle;\" /></a></td></tr>\n",
       "</table>\n"
      ],
      "text/plain": [
       "0. (Q(TRUE) , P(TRUE))\n",
       "   core type: ExprTuple\n",
       "   sub-expressions: 1, 2\n",
       "1. Q(TRUE)\n",
       "   core type: Operation\n",
       "   operator: 3\n",
       "   operand: 5\n",
       "2. P(TRUE)\n",
       "   core type: Operation\n",
       "   operator: 4\n",
       "   operand: 5\n",
       "3. Q\n",
       "   core type: Variable\n",
       "   sub-expressions: \n",
       "4. P\n",
       "   core type: Variable\n",
       "   sub-expressions: \n",
       "5. TRUE\n",
       "   core type: Literal\n",
       "   sub-expressions: "
      ]
     },
     "execution_count": 4,
     "metadata": {},
     "output_type": "execute_result"
    }
   ],
   "source": [
    "# display the expression information\n",
    "expr.exprInfo()"
   ]
  },
  {
   "cell_type": "code",
   "execution_count": null,
   "metadata": {},
   "outputs": [],
   "source": []
  }
 ],
 "metadata": {
  "kernelspec": {
   "display_name": "Python 3",
   "language": "python",
   "name": "python3"
  }
 },
 "nbformat": 4,
 "nbformat_minor": 0
}
