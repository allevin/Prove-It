{
 "cells": [
  {
   "cell_type": "markdown",
   "metadata": {},
   "source": [
    "Expression of type <a class=\"ProveItLink\" href=\"../../../../../doc/html/api/proveit.Indexed.html\">Indexed</a>\n",
    "=======================\n",
    "# from context <a class=\"ProveItLink\" href=\"../../_context_.ipynb\">proveit.logic</a>"
   ]
  },
  {
   "cell_type": "code",
   "execution_count": 1,
   "metadata": {},
   "outputs": [],
   "source": [
    "# import Expression classes needed to build the expression\n",
    "from proveit import Indexed\n",
    "from proveit._common_ import RR, i"
   ]
  },
  {
   "cell_type": "code",
   "execution_count": 2,
   "metadata": {},
   "outputs": [
    {
     "data": {
      "text/html": [
       "<strong id=\"expr\">expr:</strong> <a class=\"ProveItLink\" href=\"expr.ipynb\"><img src=\"data:image/png;base64,iVBORw0KGgoAAAANSUhEUgAAABgAAAASCAMAAAB2Mu6sAAAAM1BMVEX////f399mZmYiIiJUVFTc\n",
       "3Ny6urqIiIjMzMx2dnaqqqru7u4yMjKYmJgQEBBEREQAAACr9lA+AAAAAXRSTlMAQObYZgAAAJVJ\n",
       "REFUGNNtj9sOwyAMQ71SyiVA/P9fOyhha6v6xVJs5SRAl9LUtOKuQgoguVHvAVlOT2S+ziOZVhCu\n",
       "QVjFvvK4BnoiAE/uD4Qb1tkJD0QrxZEqc5C26XUiutkbh5++G8I2/tXYhskzWLdk8yPoD1Htu35U\n",
       "/QTQL0S0wobovGQ3iacGPTmq9rIGvEoo8TXIBek18Bo8vjdqB5Q+d4azAAAAAElFTkSuQmCC\n",
       "\" style=\"display:inline;vertical-align:middle;\" /></a><br>"
      ],
      "text/plain": [
       "expr: R_i"
      ]
     },
     "execution_count": 2,
     "metadata": {},
     "output_type": "execute_result"
    }
   ],
   "source": [
    "# build up the expression from sub-expressions\n",
    "expr = Indexed(RR, i, base = 1)"
   ]
  },
  {
   "cell_type": "code",
   "execution_count": 3,
   "metadata": {},
   "outputs": [
    {
     "name": "stdout",
     "output_type": "stream",
     "text": [
      "Passed sanity check: built 'expr' is the same as the stored Expression.\n"
     ]
    }
   ],
   "source": [
    "# check that the built expression is the same as the stored expression\n",
    "%check_expr"
   ]
  },
  {
   "cell_type": "code",
   "execution_count": 4,
   "metadata": {},
   "outputs": [
    {
     "data": {
      "text/html": [
       "<table><tr><th>&nbsp;</th><th>core type</th><th>sub-expressions</th><th>expression</th></tr>\n",
       "<tr><td>0</td><td>Indexed</td><td>var:&nbsp;1<br>index:&nbsp;2<br>base:&nbsp;\"1\"<br></td><td><a class=\"ProveItLink\" href=\"expr.ipynb\"><img src=\"data:image/png;base64,iVBORw0KGgoAAAANSUhEUgAAABgAAAASCAMAAAB2Mu6sAAAAM1BMVEX////f399mZmYiIiJUVFTc\n",
       "3Ny6urqIiIjMzMx2dnaqqqru7u4yMjKYmJgQEBBEREQAAACr9lA+AAAAAXRSTlMAQObYZgAAAJVJ\n",
       "REFUGNNtj9sOwyAMQ71SyiVA/P9fOyhha6v6xVJs5SRAl9LUtOKuQgoguVHvAVlOT2S+ziOZVhCu\n",
       "QVjFvvK4BnoiAE/uD4Qb1tkJD0QrxZEqc5C26XUiutkbh5++G8I2/tXYhskzWLdk8yPoD1Htu35U\n",
       "/QTQL0S0wobovGQ3iacGPTmq9rIGvEoo8TXIBek18Bo8vjdqB5Q+d4azAAAAAElFTkSuQmCC\n",
       "\" style=\"display:inline;vertical-align:middle;\" /></a></td></tr>\n",
       "<tr><td>1</td><td>Variable</td><td></td><td><a class=\"ProveItLink\" href=\"../../../__pv_it/ffed746c2124e4ccf55a88a3f8d28fb708f21daa0/expr.ipynb\"><img src=\"data:image/png;base64,iVBORw0KGgoAAAANSUhEUgAAABMAAAAPBAMAAAD0aukfAAAAMFBMVEX///9mZmYiIiJUVFTc3Ny6\n",
       "urqIiIjMzMx2dnaqqqru7u4yMjKYmJgQEBBEREQAAABgMZa+AAAAAXRSTlMAQObYZgAAAIJJREFU\n",
       "CNdjYGB4/////79vGMBg/y+GlfcfgJn/NzAw9P8Esdj/NwCZ30BMtv8TgIq+gph8/xcwsPw3ADH5\n",
       "PzEwzP0B1lX/d7f+vwVg5vmfDDz/D4CZ9r+A5imAmfcvMHBBmCDNnBADQOo4/jfwADUy/y8AcgWK\n",
       "gKYC3bWAoenfEwYAUjk1N+/OJO8AAAAASUVORK5CYII=\n",
       "\" style=\"display:inline;vertical-align:middle;\" /></a></td></tr>\n",
       "<tr><td>2</td><td>Variable</td><td></td><td><a class=\"ProveItLink\" href=\"../../../__pv_it/4cc43b4ba7e5ae9f0f864f240ab9735c1604d8200/expr.ipynb\"><img src=\"data:image/png;base64,iVBORw0KGgoAAAANSUhEUgAAAAcAAAAOBAMAAAARcxsoAAAAMFBMVEX///+YmJjc3NxUVFQQEBAi\n",
       "IiKqqqrMzMy6urpmZmZ2dnbu7u6IiIgyMjJEREQAAADwIkbYAAAAAXRSTlMAQObYZgAAADtJREFU\n",
       "CNdjYGB4ywAEbxjQAffKBQwMXBwfGBjKOAMYGDawHAAK5m8AEpe5GRiYfnAxMLB9UARpPcAAAFud\n",
       "DDeiFOVzAAAAAElFTkSuQmCC\n",
       "\" style=\"display:inline;vertical-align:middle;\" /></a></td></tr>\n",
       "</table>\n"
      ],
      "text/plain": [
       "0. R_i\n",
       "   core type: Indexed\n",
       "   var: 1\n",
       "   index: 2\n",
       "   base: \"1\"\n",
       "1. R\n",
       "   core type: Variable\n",
       "   sub-expressions: \n",
       "2. i\n",
       "   core type: Variable\n",
       "   sub-expressions: "
      ]
     },
     "execution_count": 4,
     "metadata": {},
     "output_type": "execute_result"
    }
   ],
   "source": [
    "# display the expression information\n",
    "expr.exprInfo()"
   ]
  },
  {
   "cell_type": "code",
   "execution_count": null,
   "metadata": {},
   "outputs": [],
   "source": []
  }
 ],
 "metadata": {
  "kernelspec": {
   "display_name": "Python 3",
   "language": "python",
   "name": "python3"
  }
 },
 "nbformat": 4,
 "nbformat_minor": 0
}
