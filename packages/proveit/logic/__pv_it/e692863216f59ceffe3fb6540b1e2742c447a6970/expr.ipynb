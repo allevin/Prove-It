{
 "cells": [
  {
   "cell_type": "markdown",
   "metadata": {},
   "source": [
    "Expression of type <a class=\"ProveItLink\" href=\"../../../../../doc/html/api/proveit.Indexed.html\">Indexed</a>\n",
    "=======================\n",
    "# from context <a class=\"ProveItLink\" href=\"../../_context_.ipynb\">proveit.logic</a>"
   ]
  },
  {
   "cell_type": "code",
   "execution_count": 1,
   "metadata": {},
   "outputs": [],
   "source": [
    "# import Expression classes needed to build the expression\n",
    "from proveit import Indexed, Variable\n",
    "from proveit._common_ import DD"
   ]
  },
  {
   "cell_type": "code",
   "execution_count": 2,
   "metadata": {},
   "outputs": [
    {
     "data": {
      "text/html": [
       "<strong id=\"expr\">expr:</strong> <a class=\"ProveItLink\" href=\"expr.ipynb\"><img src=\"data:image/png;base64,iVBORw0KGgoAAAANSUhEUgAAADMAAAASBAMAAAAEf/uKAAAAMFBMVEX///+YmJhmZmYiIiJ2dna6\n",
       "urqqqqqIiIjc3NwyMjLu7u7MzMxUVFQQEBBEREQAAAAAQ/KVAAAAAXRSTlMAQObYZgAAALdJREFU\n",
       "GNNjYGB4/x8I7mxgwAK45v9ataL+OzYphv8TGBjY/gdgkeH+7wAk7z/AIsX+PwFIzr+ARYrv/wIg\n",
       "af8BixT/Z7CF2HTt/wS2EJtd8t/AFhZgkTr/A0hwgi1EB/dBtvR/wSLD8f8AyO0GML770RpYoDH+\n",
       "F2Bg4PkMM49lwTneBCib5/8Grnb7UzBNrAwT4b4ChftnbSQbfjDgAtwXuHHI7GeZwIIhuEhJSSmB\n",
       "YV2ZuheECQBb3EAjlw+H7AAAAABJRU5ErkJggg==\n",
       "\" style=\"display:inline;vertical-align:middle;\" /></a><br>"
      ],
      "text/plain": [
       "expr: D__x_"
      ]
     },
     "execution_count": 2,
     "metadata": {},
     "output_type": "execute_result"
    }
   ],
   "source": [
    "# build up the expression from sub-expressions\n",
    "expr = Indexed(DD, Variable(\"_x_\", latexFormat = r\"{_{-}x_{-}}\"), base = 1)"
   ]
  },
  {
   "cell_type": "code",
   "execution_count": 3,
   "metadata": {},
   "outputs": [
    {
     "name": "stdout",
     "output_type": "stream",
     "text": [
      "Passed sanity check: built 'expr' is the same as the stored Expression.\n"
     ]
    }
   ],
   "source": [
    "# check that the built expression is the same as the stored expression\n",
    "%check_expr"
   ]
  },
  {
   "cell_type": "code",
   "execution_count": 4,
   "metadata": {},
   "outputs": [
    {
     "data": {
      "text/html": [
       "<table><tr><th>&nbsp;</th><th>core type</th><th>sub-expressions</th><th>expression</th></tr>\n",
       "<tr><td>0</td><td>Indexed</td><td>var:&nbsp;1<br>index:&nbsp;2<br>base:&nbsp;\"1\"<br></td><td><a class=\"ProveItLink\" href=\"expr.ipynb\"><img src=\"data:image/png;base64,iVBORw0KGgoAAAANSUhEUgAAADMAAAASBAMAAAAEf/uKAAAAMFBMVEX///+YmJhmZmYiIiJ2dna6\n",
       "urqqqqqIiIjc3NwyMjLu7u7MzMxUVFQQEBBEREQAAAAAQ/KVAAAAAXRSTlMAQObYZgAAALdJREFU\n",
       "GNNjYGB4/x8I7mxgwAK45v9ataL+OzYphv8TGBjY/gdgkeH+7wAk7z/AIsX+PwFIzr+ARYrv/wIg\n",
       "af8BixT/Z7CF2HTt/wS2EJtd8t/AFhZgkTr/A0hwgi1EB/dBtvR/wSLD8f8AyO0GML770RpYoDH+\n",
       "F2Bg4PkMM49lwTneBCib5/8Grnb7UzBNrAwT4b4ChftnbSQbfjDgAtwXuHHI7GeZwIIhuEhJSSmB\n",
       "YV2ZuheECQBb3EAjlw+H7AAAAABJRU5ErkJggg==\n",
       "\" style=\"display:inline;vertical-align:middle;\" /></a></td></tr>\n",
       "<tr><td>1</td><td>Variable</td><td></td><td><a class=\"ProveItLink\" href=\"../../../__pv_it/63be5db80a2eafd31374ce4ae63a4cc6d20d806d0/expr.ipynb\"><img src=\"data:image/png;base64,iVBORw0KGgoAAAANSUhEUgAAABMAAAAPBAMAAAD0aukfAAAAMFBMVEX///+YmJhmZmYiIiJ2dna6\n",
       "urqqqqqIiIjc3NwyMjLu7u7MzMxUVFQQEBBEREQAAAAAQ/KVAAAAAXRSTlMAQObYZgAAAIJJREFU\n",
       "CNdjYGB4/x8I7mxgAAKu+b9Wraj/DmIy/J/AwMD2PwDI4v7vACTvPwAS7P8TgOT8C0CC7/8CIGn/\n",
       "AUjwfwZrAInu/wTWAFIr/w2soQBInv8BJDjBGu6DVPV/ARIc/w+AzDIAEoz/BRgYeD6D5Hn+b+Bq\n",
       "tz8FMhXkrs/aQBYATVcz3LtVnZwAAAAASUVORK5CYII=\n",
       "\" style=\"display:inline;vertical-align:middle;\" /></a></td></tr>\n",
       "<tr><td>2</td><td>Variable</td><td></td><td><a class=\"ProveItLink\" href=\"../5144cf74ae6a683b49b974f1b9302b432abf7e930/expr.ipynb\"><img src=\"data:image/png;base64,iVBORw0KGgoAAAANSUhEUgAAACUAAAAJBAMAAABH3vh9AAAAKlBMVEX////MzMwQEBAiIiKYmJhm\n",
       "ZmZUVFSIiIh2dnbc3Nzu7u5ERESqqqoAAABwkVEpAAAAAXRSTlMAQObYZgAAAEtJREFUCNdjYIAA\n",
       "zvbM4+EMqGAFg7ODMppYA0Mtw0E0sQUM2QyYQB1TiPMiAxeakCf7BYYqVCGeK9wKnAUw3undQLCA\n",
       "a3tXRwmMAwC3+RVNp6j0GAAAAABJRU5ErkJggg==\n",
       "\" style=\"display:inline;vertical-align:middle;\" /></a></td></tr>\n",
       "</table>\n"
      ],
      "text/plain": [
       "0. D__x_\n",
       "   core type: Indexed\n",
       "   var: 1\n",
       "   index: 2\n",
       "   base: \"1\"\n",
       "1. D\n",
       "   core type: Variable\n",
       "   sub-expressions: \n",
       "2. _x_\n",
       "   core type: Variable\n",
       "   sub-expressions: "
      ]
     },
     "execution_count": 4,
     "metadata": {},
     "output_type": "execute_result"
    }
   ],
   "source": [
    "# display the expression information\n",
    "expr.exprInfo()"
   ]
  },
  {
   "cell_type": "code",
   "execution_count": null,
   "metadata": {},
   "outputs": [],
   "source": []
  }
 ],
 "metadata": {
  "kernelspec": {
   "display_name": "Python 3",
   "language": "python",
   "name": "python3"
  }
 },
 "nbformat": 4,
 "nbformat_minor": 0
}
