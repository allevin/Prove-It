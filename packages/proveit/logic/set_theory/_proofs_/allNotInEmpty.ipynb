{
 "cells": [
  {
   "cell_type": "markdown",
   "metadata": {},
   "source": [
    "Proof of <a class=\"ProveItLink\" href=\"../../../_context_.ipynb\">proveit</a>.<a class=\"ProveItLink\" href=\"../../_context_.ipynb\">logic</a>.<a class=\"ProveItLink\" href=\"../_context_.ipynb\">set_theory</a>.<a href=\"../_theorems_.ipynb#allNotInEmpty\" class=\"ProveItLink\">allNotInEmpty</a> theorem\n",
    "========"
   ]
  },
  {
   "cell_type": "code",
   "execution_count": 1,
   "metadata": {},
   "outputs": [],
   "source": [
    "import proveit\n",
    "context = proveit.Context('..') # the theorem's context is in the parent directory"
   ]
  },
  {
   "cell_type": "code",
   "execution_count": 2,
   "metadata": {},
   "outputs": [
    {
     "name": "stdout",
     "output_type": "stream",
     "text": [
      "Beginning proof of allNotInEmpty\n",
      "Recorded 'presuming' information\n"
     ]
    },
    {
     "data": {
      "text/html": [
       "<strong id=\"allNotInEmpty\">allNotInEmpty:</strong> <a class=\"ProveItLink\" href=\"../__pv_it/cb2a305f97df8820138efb2d01ca61a99d5ab6bc0/expr.ipynb\"><img src=\"data:image/png;base64,iVBORw0KGgoAAAANSUhEUgAAAF0AAAAVCAMAAAATpBLwAAAAQlBMVEX///9bW1sNDQ0JCQkdHR0P\n",
       "Dw8WFhYQEBC6urrMzMxUVFRmZmZERETc3NwyMjKqqqp2dnaIiIiYmJgiIiLu7u4AAAAq2h4+AAAA\n",
       "AXRSTlMAQObYZgAAActJREFUOMutVdt25CAMo9t2uV9s4P9/tTYkBDKHdB6ah0kyHAtJlokQf3Cp\n",
       "sr6H8VTeKofH5TyBYILk+K7ayvX/FkKbR/B5OaEQ0DCt5tc49GxlhGeBVo1Hz8DOwOmPd+eC21XD\n",
       "sy+TfJEsv2vZPZqI2birlnvqBUL+/51HGwMRUbZUz2uybeHblbctDXvHAxbh/EQEm1G1eeWYb3V8\n",
       "5bS19VjxCYyPYC+fvCNVZd68xmZUjcMmo9tGfttT7CbQJphRyEtkq1m6QrDcv44eeV/FgSp7+bJH\n",
       "ghVApRo9THcvgSJYwBNdybPngFv0bmIbO7PkSsmc89cn/QxqFdtuHV1XcSDn8ht6kwEvU5SWqEks\n",
       "xLVUfaGTK+e4UeMUGL06M+p9qxo8GEisUXMpJoYtlzPUHXN4W1i8XJPvumnom+0CLpUGKdzr4Dmm\n",
       "ht2p4xbtwUCNhIjb/IlIljoi4ydzSlY3naUlyqmpcPGzviRT5R4QSCWltfs+/FvRKbNepGNAwtEw\n",
       "HGr5iND3SG5HQeCHCXNm6IxE1KeO22BXkUJP9gKxHePXGbx4UkJuZ5KDaMmAt0/g/bn6OJ83kN3X\n",
       "42EGhfHvfjj95oR/oA7s/g/4vBbjwBQB9AAAAABJRU5ErkJggg==\n",
       "\" style=\"display:inline;vertical-align:middle;\" /></a><br>(see <a class=\"ProveItLink\" href=\"../__pv_it/cb2a305f97df8820138efb2d01ca61a99d5ab6bc0/dependencies.ipynb\">dependencies</a>)<br>"
      ],
      "text/plain": [
       "allNotInEmpty: forall_{x} (x not-in emptyset)"
      ]
     },
     "execution_count": 2,
     "metadata": {},
     "output_type": "execute_result"
    }
   ],
   "source": [
    "%proving allNotInEmpty presuming []"
   ]
  },
  {
   "cell_type": "code",
   "execution_count": null,
   "metadata": {},
   "outputs": [],
   "source": []
  }
 ],
 "metadata": {
  "kernelspec": {
   "display_name": "Python 3",
   "language": "python",
   "name": "python3"
  }
 },
 "nbformat": 4,
 "nbformat_minor": 0
}
