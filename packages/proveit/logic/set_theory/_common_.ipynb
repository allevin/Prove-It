{
 "cells": [
  {
   "cell_type": "markdown",
   "metadata": {},
   "source": [
    "Common expressions for context <a href=\"_context_.ipynb\" class=\"ProveItLink\">proveit.logic.set_theory</a>\n",
    "========"
   ]
  },
  {
   "cell_type": "code",
   "execution_count": 1,
   "metadata": {},
   "outputs": [
    {
     "name": "stdout",
     "output_type": "stream",
     "text": [
      "Defining common sub-expressions for context 'proveit.logic.set_theory'\n",
      "Subsequent end-of-cell assignments will define common sub-expressions\n",
      "%end_common will finalize the definitions\n"
     ]
    }
   ],
   "source": [
    "import proveit\n",
    "from proveit import Lambda, Iter, Indexed\n",
    "from proveit._common_ import i, l, m, n, x, y, xx, yy, S, AA, fy\n",
    "from proveit.logic import And, Or, Equals, NotEquals, Set, InSet, NotInSet, SetOfAll\n",
    "from proveit.logic._common_ import yIter1l, f_yIter1l, iterA1m, iterQ1k_y\n",
    "from proveit.number import one\n",
    "from empty_set import EmptySetLiteral\n",
    "%begin common"
   ]
  },
  {
   "cell_type": "code",
   "execution_count": 2,
   "metadata": {},
   "outputs": [
    {
     "data": {
      "text/html": [
       "<strong id=\"EmptySet\">EmptySet:</strong> <a class=\"ProveItLink\" href=\"__pv_it/a1840c5aa3e17b4f28e5e0844d37e58325ff6fdb0/expr.ipynb\"><img src=\"data:image/png;base64,iVBORw0KGgoAAAANSUhEUgAAAAoAAAASBAMAAACQmVJ4AAAAMFBMVEX///+qqqru7u66uroQEBDM\n",
       "zMxmZmZUVFTc3NwiIiJERESIiIh2dnaYmJgyMjIAAADzocuEAAAAAXRSTlMAQObYZgAAAGdJREFU\n",
       "CNdjYGBg4ANi3tOngORZhp0MDBwTGJZvYOBJYJjqwMC3gTnpBwPLBTaDzwz8ApwMH4FkF5jcCyIv\n",
       "PAKSLJcmMH1l4Dp4gPUTA/fyAN4HDEyeDFwGDAw3G86AzLwbACQvATEA9S8d9agESAgAAAAASUVO\n",
       "RK5CYII=\n",
       "\" style=\"display:inline;vertical-align:middle;\" /></a><br>"
      ],
      "text/plain": [
       "EmptySet: emptyset"
      ]
     },
     "execution_count": 2,
     "metadata": {},
     "output_type": "execute_result"
    }
   ],
   "source": [
    "EmptySet = EmptySetLiteral()"
   ]
  },
  {
   "cell_type": "code",
   "execution_count": 3,
   "metadata": {},
   "outputs": [
    {
     "data": {
      "text/html": [
       "<strong id=\"each_x_in_S\">each_x_in_S:</strong> <a class=\"ProveItLink\" href=\"__pv_it/e08ee63b954119a5020edc70c32e64e56ed28d670/expr.ipynb\"><img src=\"data:image/png;base64,iVBORw0KGgoAAAANSUhEUgAAAM0AAAAVBAMAAAAX/3cYAAAAMFBMVEX////c3NwiIiJERESqqqqY\n",
       "mJh2dnZmZmYQEBDu7u4yMjJUVFTMzMyIiIi6uroAAAAs73DqAAAAAXRSTlMAQObYZgAAAjJJREFU\n",
       "SMdjYKAX4LtASEUcfum3DEQZcBqfCtbt5VMfsB/Ap4RnA3EGrMSnbCkDpz0DwwJ8SrgmEGUAL75g\n",
       "405gYPBiYAjDZ9JdBqIM4MB0DuctJSWIF+SBHj7LwDADn1GdDEQZ8AokXqV1bhEimE9FwljvHRgY\n",
       "zjAwMDvgSUYLMPRjNaAMyJvkwPFp7l+YHKMlXIP8X3ASYCvAbQ97Arp+7AYsBVJbGfj/8n9lYDgM\n",
       "lmMWgCvj/f/fEEix4EkIXAEI/VCA1YA+IJXAIP+R9QLD8U1guclIpoju+AGMP74G3PZwPIDrhwGs\n",
       "BvwDc+PBJjmB2S+UlGDRCAT5QPfyfMBtD/8DhH4owGoAxJ79GxD2IDIuKxDPJ8qe/ciZFasBLUCm\n",
       "G0P/BYaLMHsmwZVNB8WkAIFwc4DrD793bQNOA0yByfL/w/8PGBtg9nAHwJQBcxhDNchZoEAA5zMQ\n",
       "wYnCYA6A6eeM+8qgg9OAdGA6/Mzd/0DqAcweTj2YsqILDLwG0HTN+YkBSsxXQGKA5KD6GecuYPiI\n",
       "04BHQOqS2uyudfD4YZCqgSrb8Hq3KTjtAt3A2Q/0P2czkDfDAMYAmcqnANfPfQEawNgM4EAkdpg9\n",
       "DN6LlFByDLjc4RPAiJuHIKIREVUH2Ase4DKANQHTHnSQC0s7aAAcD4hCVp6B49wBnAYg6gWx9bVY\n",
       "VXEuwGcPol54zMCeitsAaYLVITc4xDDrD15IabaBOAMYCdbbd/BLyzIQYQAAhJPDGd1/jLcAAAAA\n",
       "SUVORK5CYII=\n",
       "\" style=\"display:inline;vertical-align:middle;\" /></a><br>"
      ],
      "text/plain": [
       "each_x_in_S: (x_1 in S),...,(x_n in S)"
      ]
     },
     "execution_count": 3,
     "metadata": {},
     "output_type": "execute_result"
    }
   ],
   "source": [
    "each_x_in_S = Iter(i, InSet(Indexed(xx, i), S), one, n)"
   ]
  },
  {
   "cell_type": "code",
   "execution_count": 4,
   "metadata": {},
   "outputs": [
    {
     "data": {
      "text/html": [
       "<strong id=\"x_equals_any_y\">x_equals_any_y:</strong> <a class=\"ProveItLink\" href=\"__pv_it/ce0f9439a5da76f808edfa626be4504cc6e446600/expr.ipynb\"><img src=\"data:image/png;base64,iVBORw0KGgoAAAANSUhEUgAAANoAAAAVBAMAAADSje2JAAAAMFBMVEX////c3NwiIiJERESqqqqY\n",
       "mJh2dnZmZmYQEBDu7u4yMjJUVFTMzMyIiIi6uroAAAAs73DqAAAAAXRSTlMAQObYZgAAAqhJREFU\n",
       "SMe9Vk1oE0EU/jZN0t38dRHpQSkNFYWeDKLgpVh6EUTJ6qEHQclFi4egiHgoirF6EfwJCKXowfQg\n",
       "/oG2Cp5EFkRUPLggKqKS4EkEIRWUtkjjezMTockksycH9u1k5+33vfn2vTcB/u/IBAaHg2GRfnRf\n",
       "jtXIvDaB9PrhyFJzBodTdN0xwlSEBGLaTlwTRGwSZQNOAkgHRrZxNkkm0jg/YfPln+kqZQF22cg2\n",
       "I8LPkYm0Oz9jM8zmggnHKeG7fiV+20MkK+c9o2xn6dqpkccFosdY6ooRaStOku3/tPZDi0YT9gLy\n",
       "deXPYIJpth2MmZgRvQXAKs7vOY2OSBO4STssxDbazD55l8c9senBBZzJSZ2iImpSUajZOoaVmgkP\n",
       "mMY+bwo6pOtLNN+FyxQ70vXo6mxLBUcr2By8eCjSsQSZIcmaho2S4ynfbVosoIrd0CFleDffsEL0\n",
       "SLYHfSVwGj7GxAtShyyu6b5LBI7Yex+xlfEIeiTxNd4wG8XVltmphptpYBXbCRzSFv9o3GuyAZeg\n",
       "R2Kdie08Pxn0wbl9fIjHBlEbi4gvKzapJNYhq2OzKhFxtzlzrT+klA6pzxVKbqPfbhXplkqKLSPx\n",
       "W7HFZG4nn0sF2FNAOqq+D8g6oej3puv4CB3SS57up6xE3tuOgdaIF1FdUWyyApDaIiJyfpK5kW0a\n",
       "ysjhZp1Ef/WUrECL9FZWwFfg6vvpotcq0NjUjiXFllCpeEt2hHPcXnJNQ8syGMo6Z+TI4XfQIo3w\n",
       "7D5sV38O+Vxukm1GPXvVoferj3AWXZAu+qJzUavUjXzdariKrRjuxBlHZySnTgLHg04nTrWwhuq+\n",
       "/wH1IacSjq3DiSORHlPGcrmu1x+hQ5uaLyfdcGzWnAFpnp1MB9znsP8UBrovp338BekivefFdUuR\n",
       "AAAAAElFTkSuQmCC\n",
       "\" style=\"display:inline;vertical-align:middle;\" /></a><br>"
      ],
      "text/plain": [
       "x_equals_any_y: (x = y_1) or  ...  or (x = y_l)"
      ]
     },
     "execution_count": 4,
     "metadata": {},
     "output_type": "execute_result"
    }
   ],
   "source": [
    "x_equals_any_y = Or(Iter(i, Equals(x, Indexed(yy, i)), one, l))"
   ]
  },
  {
   "cell_type": "code",
   "execution_count": 5,
   "metadata": {},
   "outputs": [
    {
     "data": {
      "text/html": [
       "<strong id=\"x_notequals_all_y\">x_notequals_all_y:</strong> <a class=\"ProveItLink\" href=\"__pv_it/21931a50ac06ea6f0583faef8abf743d6933ac160/expr.ipynb\"><img src=\"data:image/png;base64,iVBORw0KGgoAAAANSUhEUgAAANoAAAAVCAMAAAAXfQCIAAAAPFBMVEX///8LCwsYGBgNDQ0oKCjc\n",
       "3NwiIiJERESqqqqYmJh2dnZmZmYQEBDu7u4yMjJUVFTMzMyIiIi6uroAAACIMCsmAAAAAXRSTlMA\n",
       "QObYZgAAAmVJREFUWMPdl9mS4yAMRenuYd+t///XYYljDDHC1a55GB4SKlbEuUJImJD/emxx/lxR\n",
       "xIHc/jUSwrQDBT/3Qh1KosOzyjAklOkF5OzczC/sSb8Stbek9OYYEs5UgGL89aalDFCdZ31LWmeO\n",
       "IS0wFSDzwKYRa84JxdmdbevNza83rQBtDlv2fHydkfmbsbMZF+el0cBPzDGkJaYEpF+pRFX0VETd\n",
       "I/FThVCaGEjFSQB0FatNKZvY2Lqy3hxDWmJKvzpZ3Sd3kkli9jW0K+PPT/70xzZTyG408HP0RBtp\n",
       "lXxqsSytN79CWmCyHuwbyNS0zYGKSbUIswCFSBRkEQwiCdofsd7aw8ZWq89ncwRpxkQ2dgBB9ZO1\n",
       "ej62zqHBmOzAAmT34pAWmmSQJYP8aq8bzOdIc6b3wUhAcBQbMx591zf9UPZ+q2l9Ia2WO7TtXprP\n",
       "keZMr2QuQOad5LTsxF53NUvj+4uVccROQs68mgGttCYhhb5A+DxG8yukFSagBxCvMiUteU2inQYo\n",
       "uckOHKhOmnTDn8S7aNph0sxG8ynSnCmYBqgmpwBJePqZxnlWpziafLhrzjTSjuJ/lM39qQXWTZrZ\n",
       "aD5FQpgib5zUkmJ5VFapKJEAZTmGcagltpHmtvGmsPdha3g3aWaj+RQJYeKxBTIUOwWnoOXkr12t\n",
       "ldZctJo70MoV7ZP5NRLGZEJogPqbbV+6zp5zGaod8iRN3blX3b5sLzNZILEFunqD+BSgmM4qZbWn\n",
       "UuXgdQmyjjw6Ll9qMCavRAtE/XKAav1VwwNPn5V2hbTMtAPRiJ0CZMSHX7IvkVaZCtBfBhcj2Wch\n",
       "e2UAAAAASUVORK5CYII=\n",
       "\" style=\"display:inline;vertical-align:middle;\" /></a><br>"
      ],
      "text/plain": [
       "x_notequals_all_y: (x != y_1) and  ...  and (x != y_l)"
      ]
     },
     "execution_count": 5,
     "metadata": {},
     "output_type": "execute_result"
    }
   ],
   "source": [
    "x_notequals_all_y = And(Iter(i, NotEquals(x, Indexed(yy, i)), one, l))"
   ]
  },
  {
   "cell_type": "code",
   "execution_count": 6,
   "metadata": {},
   "outputs": [
    {
     "data": {
      "text/html": [
       "<strong id=\"x_in_any_A\">x_in_any_A:</strong> <a class=\"ProveItLink\" href=\"__pv_it/e569170ead27d072ca9aac98d7ac60b56277ac590/expr.ipynb\"><img src=\"data:image/png;base64,iVBORw0KGgoAAAANSUhEUgAAAOoAAAAVBAMAAAC6fm+xAAAAMFBMVEX////c3NwiIiJERESqqqqY\n",
       "mJh2dnZmZmYQEBDu7u4yMjJUVFTMzMyIiIi6uroAAAAs73DqAAAAAXRSTlMAQObYZgAAA0JJREFU\n",
       "SMfFVk9IFFEY/2b/ObOzo0IhpIjLQocicgujOkSLF8OKtoKoINgOJRHiHqJT0mYdDCzNSFQIN8HE\n",
       "S65Fl7AcWKKsg5JUZMhGJwnErbSSpNd775uZfbk7OrcG/OZ97337+73v7wjwf57iSbuTiQi+vZ+c\n",
       "Ys3ZHQQWcmsO99oWozpmLC45JA2k7E5cPwSFwQ3ZWfqICeLnknscyI8Vlzq367DDavotKBROsw8w\n",
       "CZox4U6PMjGTZ6YyQkSZsQ0C+SZoFE4W76dMh0JJU7lPsuZ2gsk0E5vyEcMsghzlurh/tz+02fKu\n",
       "iYgsCfgiWr46kVtrwfYlc13Df1oK4InnO3KP/tXxWCfFywwI7ryRiehcDVyksuzj+vcsRNJu4ahK\n",
       "H/5jrhuYYIyMeeVTZzBDEU2E1DhysJkp6wQaadlPxD5ogAHqccy7UWY5dIuYO+HyohnXejCimy5U\n",
       "nx0YZfBHAbrgSLSFKdsEC3e8iEQFvR5u0mIFLethNXFbTHkCMj8BXjxkyiwYxfKsACutJJV7IlMZ\n",
       "gwwcYLkLCxbHQSNiamaBRlEBFW1mQyGrmvoiMP+dvmt5OaNToCQLVWgQevm7hLJ2wCPspxYKZVST\n",
       "sgDFRLzFBPDcydg+4sAYa23l5S6wFkV80UKsF+CMxQpwI29gqL9a260uRLhrWDnAkt+ZO/C09fRU\n",
       "EZMVIywlXQW7sRwQUo7wyqGxo/4JLPvGe27RLvQ2z53XpnQOt4OmsDQDGmNVc650UwQXKTVYT+Lm\n",
       "6CmMmCWwTtXnGCo3/flhLQsfmPI4157MseqvcGc+6kp5UxyONsWh6C6o5OdbrVpn2XGTiMHagLtp\n",
       "nBF9QUMoOHEC25HdFwfPojsh8Tt0Wq1SwVK6dwE2TEOJ7otzuM+0dN91NaKX5eacJ2QJVEKIjqwP\n",
       "jBGDhdgdNoRyFfcHjYkcBGXPubNv8d6DOu6WEDohxghZhqfwEvwRDif/0/f7+0MryrTWmojUKZvp\n",
       "Pm68r4ibnie5iYhPG0xBVTGH88ZW/3oxVt+ksy/dsVVPpSz19qgP4YZWNS0bpvOt1+H31f5LxxMQ\n",
       "hi2QPo1wFWujjThklVKOzBictGb4NN3pfzCVTowo3F9WutnaPOLdxgAAAABJRU5ErkJggg==\n",
       "\" style=\"display:inline;vertical-align:middle;\" /></a><br>"
      ],
      "text/plain": [
       "x_in_any_A: (x in A_1) or  ...  or (x in A_m)"
      ]
     },
     "execution_count": 6,
     "metadata": {},
     "output_type": "execute_result"
    }
   ],
   "source": [
    "x_in_any_A = Or(Iter(i, InSet(x, Indexed(AA, i)), one, m))"
   ]
  },
  {
   "cell_type": "code",
   "execution_count": 7,
   "metadata": {},
   "outputs": [
    {
     "data": {
      "text/html": [
       "<strong id=\"x_notin_all_A\">x_notin_all_A:</strong> <a class=\"ProveItLink\" href=\"__pv_it/b33c3a1df83e37a20e124a39e09a05d5ba2249f80/expr.ipynb\"><img src=\"data:image/png;base64,iVBORw0KGgoAAAANSUhEUgAAAOoAAAAVCAMAAAB/joKwAAAARVBMVEX///8sLCxlZWUbGxsJCQkd\n",
       "HR0PDw8WFhbc3NwiIiJERESqqqqYmJh2dnZmZmYQEBDu7u4yMjJUVFTMzMyIiIi6uroAAAAHJ3au\n",
       "AAAAAXRSTlMAQObYZgAAApBJREFUWMPNmMeirCAMQHmd3oT8/6c+sIEGHb2wuKwciOQE0hxCPo5o\n",
       "yXccX8KK4XaZNfacQBwnZBxvywCsE93kb7dsLjNQpxk9DbZ0DNaRzt17gm7clwJAmtzpN33nYEh8\n",
       "EFZNF+79hLCWnwCgaXk6UKdfmXoWH4VV05nL07PBMfbvr8NY6fgASZujXs7eXCsSH4VV0UV3qd3J\n",
       "pI5TtBAYMQAIhR9Sgo+f7oXciY/DKnR69Tuqgqci6F0h5fkti1VSmIgDQLGiahfM77HnliLxcViF\n",
       "zslFV9paMknMrnA5t8bV8GSSBpCb523zolav0rIWj01F4r1YaCQ6sxxDPsSQHF1sNcPyizwozSwK\n",
       "8x1O2u8Q0ZyyBnWPTUXifVitKm3IeuP5Vc8PSyyNP78ZOwLbuUpHgFVYsJIAK8XzqfuntRaL92I1\n",
       "0jOpnNsEVKIV8kEPJo2S1tumLun0QxdwJ96L1TLViDqul3Ocj4k1q5cwk02D7mldtBxYrG7k6CNL\n",
       "G+J9WFKHGJRPIc2nQseXOJZ0jgkS9iDwaSFqVJ7E1oIBPZkqi0ttzGJ/v8SWxVNYvA/LypjTE0se\n",
       "IH2hW0qESEs83QotzmJZRMFG97jhsHbWxdRSbEpWZnsooacyhcVJHxZNXUYOgqmCSg+RLYktKKtU\n",
       "qFM1dfrXcUvIY84U89PsWcVUF0s/cG7vrOHk9FSmsDjpxfJpoykHlBMVnbmOp58/UgvG7kvGbmrV\n",
       "GFZl/Mm3XVO8D8skcwPPgb5uOdNJdfkCf5BVdlPVmz7wQf3pwaI5vvPNSk5URXf5tUT5508v5WBp\n",
       "2qwjY0cPVswibMppQNGKjl5VvyDf9Ot0sKljsE509ML1+Iu9wug/IcZg1XT/AaZWMYvz36sGAAAA\n",
       "AElFTkSuQmCC\n",
       "\" style=\"display:inline;vertical-align:middle;\" /></a><br>"
      ],
      "text/plain": [
       "x_notin_all_A: (x not-in A_1) and  ...  and (x not-in A_m)"
      ]
     },
     "execution_count": 7,
     "metadata": {},
     "output_type": "execute_result"
    }
   ],
   "source": [
    "x_notin_all_A = And(Iter(i, NotInSet(x, Indexed(AA, i)), one, m))"
   ]
  },
  {
   "cell_type": "code",
   "execution_count": 8,
   "metadata": {},
   "outputs": [
    {
     "data": {
      "text/html": [
       "<strong id=\"x_in_every_A\">x_in_every_A:</strong> <a class=\"ProveItLink\" href=\"__pv_it/c61931acf3b8d0f1ed2431b16e4658ded5c865830/expr.ipynb\"><img src=\"data:image/png;base64,iVBORw0KGgoAAAANSUhEUgAAAOoAAAAVBAMAAAC6fm+xAAAAMFBMVEX////c3NwiIiJERESqqqqY\n",
       "mJh2dnZmZmYQEBDu7u4yMjJUVFTMzMyIiIi6uroAAAAs73DqAAAAAXRSTlMAQObYZgAAA0BJREFU\n",
       "SMfFVk1IVFEUPm/+nB/fzEAhqIjDQAsjcgqjWkSDm8KKpoKoILBFSYQ4i2iVNFkLA8vJSDSIRsHE\n",
       "TY5Fm6h84KK/RZJUZITRSgJxKq0k6Xbuue+9ueV7+nZdmHfvuee877vn5543AP9nhMftNC+TYvZ+\n",
       "dIo1Y6conSuuCe6FLUZto74465C0NG+ncX2XBA43ZGfpYwZIUJ+VrLVluWGXtcNq+SUJCKfaB5jF\n",
       "jJjoTgfT1paD+vzBNgjsqyQhnF8+X2AyHs8Zwm1WMLYzYh6rscbcqGNckndv9sfXmt61MJklA59l\n",
       "y+eHi2s11rlgrOvE9NjamdCMiFc4Jx9lQHLnlZ/JztXBGXyWvV/9lr+obJVU1drwb2PdJM6Yc1my\n",
       "3gCRihJMhNI8sqeVC6skGmUxyOR70AQDiNboXePnL7qjkmoznJvnUeXrBlFeqZKkFetxOC3imALo\n",
       "hv2pNi5skAzc6RKWkuQGuIJooBY8GkrX5JRnYOoHwJO7XJgW5Q9Kzoo1BhU0+9GfRpiC3TwuCcng\n",
       "EKhMLsRpwCgGICRspuNxs5puJWH2G871VM60dRTgoQWpdxxC/MwQQdYs3BM5bkMovZoCcxBm8ile\n",
       "AuXOL8pBbhij7e1U7hJrjXVLcWX19hCh3F1e0jBCP9s7zVso4C6KygGe/K6iwtPR21vNDFaKsAeD\n",
       "FIwuZd2Bvz46e5IqB2OH/kksO5/1XsVb6G2dOaVOaAS3CUMUnQKVs4aKKe9BBBeL6qxHqFiigplQ\n",
       "xYPqtE9nBje+vk8twDsu3C9eT+5Y7Re4Ppty5b15gsNLsTe1BapIv96sdZ4dN0vqrHRzxkTlYMqN\n",
       "R4CnoDRBhcZrPA2eeXdGoXR1mVelkhtsn4PySYhovjTBfcLSfdPdLLysMPo8YwsQYoxpgvUO9Qij\n",
       "6fUk9EfgAg8Qh6e+Go5BYNvJE6/FuQc1ARVh2CFGGVuER/AUgkmC8/+VqV398X8uR73ZEenw4aVf\n",
       "SjCV5+V9z4NiRxSjAyagOkxwRme3G5zVN+7sS3dwWa1SQG8P+ATc0LKmZcOtvOU5G/ZfOgpKAtbB\n",
       "2DEBV7ky2ohDViXvyIzDKSuGT9Wc/oOpcmKEcH8A+GLZUuMC/gsAAAAASUVORK5CYII=\n",
       "\" style=\"display:inline;vertical-align:middle;\" /></a><br>"
      ],
      "text/plain": [
       "x_in_every_A: (x in A_1) and  ...  and (x in A_m)"
      ]
     },
     "execution_count": 8,
     "metadata": {},
     "output_type": "execute_result"
    }
   ],
   "source": [
    "x_in_every_A = And(Iter(i, InSet(x, Indexed(AA, i)), one, m))"
   ]
  },
  {
   "cell_type": "code",
   "execution_count": 9,
   "metadata": {},
   "outputs": [
    {
     "data": {
      "text/html": [
       "<strong id=\"x_notin_some_A\">x_notin_some_A:</strong> <a class=\"ProveItLink\" href=\"__pv_it/0f04298d1c515343511d6ad6a0b7495c31c9792e0/expr.ipynb\"><img src=\"data:image/png;base64,iVBORw0KGgoAAAANSUhEUgAAAOoAAAAVCAMAAAB/joKwAAAARVBMVEX///8sLCxlZWUbGxsJCQkd\n",
       "HR0PDw8WFhbc3NwiIiJERESqqqqYmJh2dnZmZmYQEBDu7u4yMjJUVFTMzMyIiIi6uroAAAAHJ3au\n",
       "AAAAAXRSTlMAQObYZgAAApJJREFUWMPNmNe2rCAMQLmd3oT8/6deUEe64xx4ODyxJMJOSFOE3g6v\n",
       "0XccX8Ly7naZdPbcgJUPuF+vywKsim6zt1t2lwmI6oncFmu6BqukM/eeIDv3JQCak0x2HxnRk+vr\n",
       "ii/CyuncvZ8g0vMTgOYxTwa1F/G7zcfiq7ByOjW0nnaGkH9/TWuiYD5opFU6k94FVIvYE1+FldF5\n",
       "MyQwPBxHcbPgCFIADQpNKcGcLzH5KCw74uuwEp08/Q4LZzFz8vIbTONbuj0Sw4YMQBMrIoG+mA1+\n",
       "pGpHfB1WojP8uOCwNSccqcvZD7t1QoYGMAnAa+9jpq4Eae3NaMVnsVpzGqQOM0QjuuDo7JUiNB3k\n",
       "Qa52UdhvYpP2gvAKVUnFPi22rfgcVi/NK3TeeHzV0mKJhPHnNyGlr+i9SnuAU5iRlACrBKnN4yLa\n",
       "iM9iddIzypxbuaZEi6b7sKDCSGl9oKoMLwr+WNVGfBarp6pieVwfdtzNRLrVi6lNh4GvtM66Doyw\n",
       "6Za+0WjE57C4dN4JGwKDbomOHrbkeI8J5K4gsGHBy6Y8sVcLBrhSlZuyL+D5beh2pm/E57A09zE9\n",
       "keAB3Ca6o0SwsETDreB0niY+62NOC19xQ+HsrJOqQpZ9Qd4+6MuxrpkufK0UR3NYOHQZMQi2DCpM\n",
       "PDkSmxNaCMcLp5K/yi0hjj1T7LPds5Kqpsy3RhZmp/UsPWrF0SyWDbbZYkAZltGpcZn/+SO0YOQ+\n",
       "j16qalXlgc++J2vxOSwV1HU0Bvr5MbHTcTF8gT5odi5VhUMrxxQWjvEdb5ZTJDK64dcSft/sYGHg\n",
       "aNo+KKLPxgyWjyJkiylA4IwOj77xHP+AzOLFqq7BqujwwPXoB3u51T8h1mDldP8BwNYxqQUi4gcA\n",
       "AAAASUVORK5CYII=\n",
       "\" style=\"display:inline;vertical-align:middle;\" /></a><br>"
      ],
      "text/plain": [
       "x_notin_some_A: (x not-in A_1) or  ...  or (x not-in A_m)"
      ]
     },
     "execution_count": 9,
     "metadata": {},
     "output_type": "execute_result"
    }
   ],
   "source": [
    "x_notin_some_A = Or(Iter(i, NotInSet(x, Indexed(AA, i)), one, m))"
   ]
  },
  {
   "cell_type": "code",
   "execution_count": 10,
   "metadata": {},
   "outputs": [
    {
     "data": {
      "text/html": [
       "<strong id=\"iter_x_singletons\">iter_x_singletons:</strong> <a class=\"ProveItLink\" href=\"__pv_it/2e17b707d4fa2dfa9cf6a78590ddc567214da4810/expr.ipynb\"><img src=\"data:image/png;base64,iVBORw0KGgoAAAANSUhEUgAAAIMAAAAVBAMAAACXjEALAAAAMFBMVEX///9ERETc3NyqqqpUVFS6\n",
       "urrMzMwyMjIQEBCIiIh2dnYiIiLu7u5mZmaYmJgAAABJJ2g3AAAAAXRSTlMAQObYZgAAAaFJREFU\n",
       "OMtjYGDgu8eABNhWKTDgBW8fYCjm2YWqhK0ZrwmnF2Aq5vyApug6XiPmY1HM1YCmaAVeI1Zg4Q4e\n",
       "I3iub0+tdiDaiLPVZeFb0Iw4bcDx++RPYo3g2czQv2f+BIRi3gIGBj8G/p/8/xgYEkEC7/EaAYwC\n",
       "lgcM/yf8f8DjfwCqOCOAgWEBg/4nvgkMud4gAfYLeExgawW6m4Hpv8JLBoZoqOKUNrDUe3CgWoPZ\n",
       "4g9wm+CRAKL4foDItTDFEWBBfwe4EdwL8LiCFWwjyxcQWQdTzAIMCyuG/gkMk6BG4A8LdwYG5gUc\n",
       "Pxk4FRg+wRRzbWDg+R/0P4CpAWoEJEYOgLIPjIHgMaxmYDj/Vf8rgwYDWwNSpDJ9ZOkPUA9ANoLn\n",
       "N5A4vwHKgPPAsvoCHl+ZShk4BZDTxexdR9pLGVCM6Adm4xNARTyNDFDixCeoLOfuNR7lAQyME7Al\n",
       "cCSPsGIWG0GoCY8jjYARfJgh+QDViPOcMC4fwgit+pvw8gKXES/gXJbFMMU8OzHTHxBMwDCBE1Jq\n",
       "TcCimG8xSWXnKwM0xQDHBIcVG5wexgAAAABJRU5ErkJggg==\n",
       "\" style=\"display:inline;vertical-align:middle;\" /></a><br>"
      ],
      "text/plain": [
       "iter_x_singletons: {x_1},...,{x_l}"
      ]
     },
     "execution_count": 10,
     "metadata": {},
     "output_type": "execute_result"
    }
   ],
   "source": [
    "iter_x_singletons = Iter(i, Set(Indexed(xx, i)), one, l)"
   ]
  },
  {
   "cell_type": "code",
   "execution_count": 11,
   "metadata": {},
   "outputs": [
    {
     "data": {
      "text/html": [
       "<strong id=\"generalComprehension_fy\">generalComprehension_fy:</strong> <a class=\"ProveItLink\" href=\"__pv_it/da7d7ea7a1cb926ffcc8bc5155dda3433f6895c10/expr.ipynb\"><img src=\"data:image/png;base64,iVBORw0KGgoAAAANSUhEUgAAAS8AAAAZBAMAAACSpLXvAAAAMFBMVEX///9ERETc3NyqqqpUVFS6\n",
       "urrMzMwyMjIQEBCIiIh2dnYiIiLu7u5mZmaYmJgAAABJJ2g3AAAAAXRSTlMAQObYZgAAA7FJREFU\n",
       "SMfNl09IVEEcx3/rum/X3bdvlYgQIjx46R956NZB6WYRLV5MElTyIIVkXbO0RAkL3b0YHqoFL2kI\n",
       "SxBUFzfoYBCsSf/D3CgpvCRZaqhtv/nNzrjvzeyzi+AP3szs8Pu8+b7fzPxmFgCsT+Bi3grYajPG\n",
       "tGOYT/J/+WK8nhMdwahoNbDi8/XVaRfvAlaYItLo0UElC1xf7VFWteZ6w81OYUYNFt8HwJvNSFbx\n",
       "1psLxcm3OirYTZVn5C+rOkV3h1OYPwVQvIxF9ZJkFW+tuVJE3nMRlm6sYuGLie55p7BhfGZvYhFZ\n",
       "l8FWvLXmSs1vJqyaykBKdE86heHb+XwEVoWP6q3dPq7U5GbCPlJZL7s9VXZhPox5aIW1IivCR/XW\n",
       "mTtFpIuwrzdOsOoD7oLxBBxKQXDKLiycAGii6UjLb1e9deZOEakVFuYL9w+VV9DTtwB3cQI67ML8\n",
       "OB+zv8VALQW8tUtMUCX9GorIHzqujUYu4pumF+BMOAllOHXddmEBrCfWaKBFaD9ewFtnkoKHGopI\n",
       "vybgrX18hfJshh+XCsRY+IwFu7AI1oM0PCuPFPDWmaTMNQ3FyV0ZlTtFKS6YFBBUp4wlvbAJ5mRl\n",
       "q/KEOby1EROUTzcGkaGEjWgfu4Oiiml5eGqoq4fScEm3ZipRzskF74Xm9C8QwlRvnUkqONWwW6GI\n",
       "tK8x3xQ0yVgFeNbbg89lUmk5Fr8Hg31+scV8MFEjhTm8TdaXUhqS8n9p/KlQRMpdad6eyUAIR5Pp\n",
       "Is3HH8fnFTRlQEkX7LeV3QGDAyCFObzT+InmqrOxQUXeaCh7uojXvUhBOgWWFNbE0/FpfJ4Oz+I1\n",
       "xB91JFg2xsFHl5YhKIU5vCcxHuZV1igVDRYhSbV9y6gUkSjMF8cjwaJohPqjGwn2Vm4l0c3ovu5I\n",
       "usarrrmXUpjTu05ZX6KHqLjR3axQ4kh6HqloAz+fz3dsf5Ewq2YPf4GVgOKkyZbnqFNY7pzuyi5K\n",
       "YU5vdc+LHqLKjWRMoUZzwg6chjiczblXsmBZWAQ6k/JKEkp4cPOa2msPS5RZnKd9Xe913oWFEXUR\n",
       "yqNOipPsPnYMauFcWVlZzIyCyXKI+RjFjYvLbSV4h1+zO1SFU1gRTyj71/PGtXuXqJdQ0ShIEWn0\n",
       "0oHQB88o11eBUUoTMpIHFeUuS0Py3fJqvVdNUYr3f1k+NSTv/H14fpLMcCl4tv6Pxv/b4XgHmDuZ\n",
       "sPaZ6W2kq6iiGAMZxDUG28s8iXrYluYdth/k/wBj1HitKhn1kgAAAABJRU5ErkJggg==\n",
       "\" style=\"display:inline;vertical-align:middle;\" /></a><br>"
      ],
      "text/plain": [
       "generalComprehension_fy: {f(y) s.t. (Q_1(y) ,  ...  , Q_k(y))}_{y in S}"
      ]
     },
     "execution_count": 11,
     "metadata": {},
     "output_type": "execute_result"
    }
   ],
   "source": [
    "generalComprehension_fy = SetOfAll(y, fy, S, conditions=[iterQ1k_y])"
   ]
  },
  {
   "cell_type": "code",
   "execution_count": 12,
   "metadata": {},
   "outputs": [
    {
     "data": {
      "text/html": [
       "<strong id=\"basicComprehension_y\">basicComprehension_y:</strong> <a class=\"ProveItLink\" href=\"__pv_it/407874ee9c1cc967618ee03699ac755677b89e810/expr.ipynb\"><img src=\"data:image/png;base64,iVBORw0KGgoAAAANSUhEUgAAAQsAAAAZBAMAAADUEhZFAAAAMFBMVEX///9ERETc3NyqqqpUVFS6\n",
       "urrMzMwyMjIQEBCIiIh2dnYiIiLu7u5mZmaYmJgAAABJJ2g3AAAAAXRSTlMAQObYZgAABCZJREFU\n",
       "SMfNVk2IVEcQrvl5b/563syi0WwIYQ9eRMU5hEhOu+SmHhy86KKyE+JBIrITwZMmjhE3RsSZvYhz\n",
       "WB3IIYlBGAKBKMhMIJDND+xGjIpiZkTEkMuurtGV/elUd1f3vOe8Gd2D6IPqn9fdX39d1VXVAOD8\n",
       "DeYL9cHL/uzzvnuwS65OPKtbg6Jw3ixebi2ySqq+95yN7hyfu+LqDqrKySoB+6jfoti0Hw17QKw8\n",
       "3oT+RTO4m+pkriuLf05BiDdbpx+gxjUSuO63Kl7woxGpY7HlEJqJm00P6Ua+G4vwE1za/9j0JZJs\n",
       "kMA3L06jLE49KxD4pFZbSc/6txuNxkksUgumX9YNp6JkKTQElrJHsUq/ovpYMN6FhbJHdM78OGku\n",
       "YUHJEmhYQu81OcL1+DYzK5DpTCMxK8rUrLnXLQsuI+lI47ebEJx300ii8ixpDsa1Nm5i50IF1tch\n",
       "PtmZxpA0x4TRhkAi+AugxJdGEulWhshhNI0IajbJRUeQsdPi32c4bE3DOVR8lzva+I/IxE4YJILf\n",
       "AEqm/NbtyYKduQWBtJtGFOsEF5chyTP2VamQYwAfJavQg9QKnWnUpFYbMwA/aCQNvx2URHyUuXsE\n",
       "dQ1fQqrkppHCOirtK8qQpIHHrEdL8BRDwXRnGsUClWxeI2n4YVACK5vt67ZjXAjNw3DuWRoJad+p\n",
       "GRcN6K/bj7vTqIm5Ds+AVTVIBK9pJCqeFfvOn8XBcF7ejzMeT4miL4Q5bFjB+ICmcVQGwFihu1G2\n",
       "TIc+yU08QqjJwbcJieC1Ubx3w5qEIbFzVVpruYdGANVm8/fSv695BJrGOyifQgBpOeKKMvGvrhum\n",
       "NzzzIfu+hpMid3c+JCSCv09iPIWN3W5CAueQwyYHrEUPDemSUw8y0dmmoSF87SoMNWl0An+yOWq0\n",
       "eg5fBsVTwhrXDBLBtzns6NY/6jBRB4dosN6xh97wJaCDt76o5aGiaexA+ancwIwbEbPGcQU7Ihpp\n",
       "KlhRZON1Px58AnH0wPtNjUTwB0iQhjWKQdmRHpM4kW1F0XjVG8w/p/ixuCutaURlyv/OBPOtbffC\n",
       "okfB4Xt/4lHtQs4gCXh3MP811bdH5TlgN3iGaGyG8YyXBmWvCBdzFA1MS+EqExf1WznW7nUO1Yc5\n",
       "ulevXS0RkoKPl5QIGmt3wCh8TNNXCW4OFpfgLb9EL4LXAzTO1wsllegTlQDaiOWfQ6PBUYX7oTdL\n",
       "SAr+FxL53tgEG2FvT09PiWFcEf7PLgK8P5Z9hkZQPVaCNVfEWwWh8l/iRSF1H2t3Vv0SWLPg+olI\n",
       "Cv4DEvuYDMkj8LPMyBnKFc5XrqeYeQSubt8lSNucXtrjk5BiOSXqLTqC2UkeJ5mGwMt/AHf63h3N\n",
       "A3tD0Nh3+8orYxHsC4sLi3cDXuUXqGyD1+ALlb3p7X+6R0ixhh1f8wAAAABJRU5ErkJggg==\n",
       "\" style=\"display:inline;vertical-align:middle;\" /></a><br>"
      ],
      "text/plain": [
       "basicComprehension_y: {y s.t. (Q_1(y) ,  ...  , Q_k(y))}_{y in S}"
      ]
     },
     "execution_count": 12,
     "metadata": {},
     "output_type": "execute_result"
    }
   ],
   "source": [
    "basicComprehension_y = SetOfAll(y, y, S, conditions=[iterQ1k_y])"
   ]
  },
  {
   "cell_type": "code",
   "execution_count": 13,
   "metadata": {},
   "outputs": [
    {
     "name": "stdout",
     "output_type": "stream",
     "text": [
      "Common expressions may be imported from autogenerated _common_.py\n"
     ]
    }
   ],
   "source": [
    "%end common"
   ]
  },
  {
   "cell_type": "code",
   "execution_count": null,
   "metadata": {},
   "outputs": [],
   "source": []
  }
 ],
 "metadata": {
  "kernelspec": {
   "display_name": "Python 3",
   "language": "python",
   "name": "python3"
  }
 },
 "nbformat": 4,
 "nbformat_minor": 0
}
