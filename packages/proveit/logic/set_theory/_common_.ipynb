{
 "cells": [
  {
   "cell_type": "markdown",
   "metadata": {
    "collapsed": true
   },
   "source": [
    "Common expressions for context <a href=\"_context_.ipynb\" class=\"ProveItLink\">proveit.logic.set_theory</a>\n",
    "========"
   ]
  },
  {
   "cell_type": "code",
   "execution_count": 1,
   "metadata": {
    "scrolled": true
   },
   "outputs": [
    {
     "name": "stdout",
     "output_type": "stream",
     "text": [
      "Defining common sub-expressions for context 'proveit.logic.set_theory'\n",
      "Subsequent end-of-cell assignments will define common sub-expressions\n",
      "%end_common will finalize the definitions\n"
     ]
    }
   ],
   "source": [
    "import proveit\n",
    "from proveit import Lambda, Iter, Indexed\n",
    "from proveit._common_ import i, l, m, n, x, y, xx, yy, S, AA, fy\n",
    "from proveit.logic import And, Or, Equals, NotEquals, Set, InSet, NotInSet, SetOfAll\n",
    "from proveit.logic._common_ import yIter1l, f_yIter1l, iterA1m, iterQ1k_y\n",
    "from proveit.number import one\n",
    "from empty_set import EmptySetLiteral\n",
    "%begin common"
   ]
  },
  {
   "cell_type": "code",
   "execution_count": 2,
   "metadata": {},
   "outputs": [
    {
     "data": {
      "text/html": [
       "<strong id=\"EmptySet\">EmptySet:</strong> <a class=\"ProveItLink\" href=\"__pv_it/a1840c5aa3e17b4f28e5e0844d37e58325ff6fdb0/expr.ipynb\"><img src=\"__pv_it/a1840c5aa3e17b4f28e5e0844d37e58325ff6fdb0/expr.png\" style=\"display:inline;vertical-align:middle;\" /></a><br>"
      ],
      "text/plain": [
       "EmptySet: emptyset"
      ]
     },
     "execution_count": 2,
     "metadata": {},
     "output_type": "execute_result"
    }
   ],
   "source": [
    "EmptySet = EmptySetLiteral()"
   ]
  },
  {
   "cell_type": "code",
   "execution_count": 3,
   "metadata": {},
   "outputs": [
    {
     "data": {
      "text/html": [
       "<strong id=\"each_x_in_S\">each_x_in_S:</strong> <a class=\"ProveItLink\" href=\"__pv_it/b7e1c6f5ab50c25a90b1dabd98d027758fa6b7d50/expr.ipynb\"><img src=\"__pv_it/b7e1c6f5ab50c25a90b1dabd98d027758fa6b7d50/expr.png\" style=\"display:inline;vertical-align:middle;\" /></a><br>"
      ],
      "text/plain": [
       "each_x_in_S: (x_(1) in S),...,(x_(n) in S)"
      ]
     },
     "execution_count": 3,
     "metadata": {},
     "output_type": "execute_result"
    }
   ],
   "source": [
    "each_x_in_S = Iter(i, InSet(Indexed(xx, i), S), one, n)"
   ]
  },
  {
   "cell_type": "code",
   "execution_count": 4,
   "metadata": {},
   "outputs": [
    {
     "data": {
      "text/html": [
       "<strong id=\"x_equals_any_y\">x_equals_any_y:</strong> <a class=\"ProveItLink\" href=\"__pv_it/2de74806e1dbeec47e220d11b4dd1585b546293f0/expr.ipynb\"><img src=\"__pv_it/2de74806e1dbeec47e220d11b4dd1585b546293f0/expr.png\" style=\"display:inline;vertical-align:middle;\" /></a><br>"
      ],
      "text/plain": [
       "x_equals_any_y: (x = y_(1)) or  ...  or (x = y_(l))"
      ]
     },
     "execution_count": 4,
     "metadata": {},
     "output_type": "execute_result"
    }
   ],
   "source": [
    "x_equals_any_y = Or(Iter(i, Equals(x, Indexed(yy, i)), one, l))"
   ]
  },
  {
   "cell_type": "code",
   "execution_count": 5,
   "metadata": {},
   "outputs": [
    {
     "data": {
      "text/html": [
       "<strong id=\"x_notequals_all_y\">x_notequals_all_y:</strong> <a class=\"ProveItLink\" href=\"__pv_it/6f29e80f2ae4cc66a26de9095a4470b5600f80690/expr.ipynb\"><img src=\"__pv_it/6f29e80f2ae4cc66a26de9095a4470b5600f80690/expr.png\" style=\"display:inline;vertical-align:middle;\" /></a><br>"
      ],
      "text/plain": [
       "x_notequals_all_y: (x != y_(1)) and  ...  and (x != y_(l))"
      ]
     },
     "execution_count": 5,
     "metadata": {},
     "output_type": "execute_result"
    }
   ],
   "source": [
    "x_notequals_all_y = And(Iter(i, NotEquals(x, Indexed(yy, i)), one, l))"
   ]
  },
  {
   "cell_type": "code",
   "execution_count": 6,
   "metadata": {},
   "outputs": [
    {
     "data": {
      "text/html": [
       "<strong id=\"x_in_any_A\">x_in_any_A:</strong> <a class=\"ProveItLink\" href=\"__pv_it/a7deabb0ababd67b25561371b5f8cb6a5d22ab340/expr.ipynb\"><img src=\"__pv_it/a7deabb0ababd67b25561371b5f8cb6a5d22ab340/expr.png\" style=\"display:inline;vertical-align:middle;\" /></a><br>"
      ],
      "text/plain": [
       "x_in_any_A: (x in A_(1)) or  ...  or (x in A_(m))"
      ]
     },
     "execution_count": 6,
     "metadata": {},
     "output_type": "execute_result"
    }
   ],
   "source": [
    "x_in_any_A = Or(Iter(i, InSet(x, Indexed(AA, i)), one, m))"
   ]
  },
  {
   "cell_type": "code",
   "execution_count": 7,
   "metadata": {},
   "outputs": [
    {
     "data": {
      "text/html": [
       "<strong id=\"x_notin_all_A\">x_notin_all_A:</strong> <a class=\"ProveItLink\" href=\"__pv_it/4731cfb458bc7916c7eb1b3a548d6335a60ef7c00/expr.ipynb\"><img src=\"__pv_it/4731cfb458bc7916c7eb1b3a548d6335a60ef7c00/expr.png\" style=\"display:inline;vertical-align:middle;\" /></a><br>"
      ],
      "text/plain": [
       "x_notin_all_A: (x not-in A_(1)) and  ...  and (x not-in A_(m))"
      ]
     },
     "execution_count": 7,
     "metadata": {},
     "output_type": "execute_result"
    }
   ],
   "source": [
    "x_notin_all_A = And(Iter(i, NotInSet(x, Indexed(AA, i)), one, m))"
   ]
  },
  {
   "cell_type": "code",
   "execution_count": 8,
   "metadata": {},
   "outputs": [
    {
     "data": {
      "text/html": [
       "<strong id=\"x_in_every_A\">x_in_every_A:</strong> <a class=\"ProveItLink\" href=\"__pv_it/fa8c8a49819861c59f2197673578ec5b7742e5d90/expr.ipynb\"><img src=\"__pv_it/fa8c8a49819861c59f2197673578ec5b7742e5d90/expr.png\" style=\"display:inline;vertical-align:middle;\" /></a><br>"
      ],
      "text/plain": [
       "x_in_every_A: (x in A_(1)) and  ...  and (x in A_(m))"
      ]
     },
     "execution_count": 8,
     "metadata": {},
     "output_type": "execute_result"
    }
   ],
   "source": [
    "x_in_every_A = And(Iter(i, InSet(x, Indexed(AA, i)), one, m))"
   ]
  },
  {
   "cell_type": "code",
   "execution_count": 9,
   "metadata": {},
   "outputs": [
    {
     "data": {
      "text/html": [
       "<strong id=\"x_notin_some_A\">x_notin_some_A:</strong> <a class=\"ProveItLink\" href=\"__pv_it/134da86b6798877dbb0790fa411f3c7f0d03f4940/expr.ipynb\"><img src=\"__pv_it/134da86b6798877dbb0790fa411f3c7f0d03f4940/expr.png\" style=\"display:inline;vertical-align:middle;\" /></a><br>"
      ],
      "text/plain": [
       "x_notin_some_A: (x not-in A_(1)) or  ...  or (x not-in A_(m))"
      ]
     },
     "execution_count": 9,
     "metadata": {},
     "output_type": "execute_result"
    }
   ],
   "source": [
    "x_notin_some_A = Or(Iter(i, NotInSet(x, Indexed(AA, i)), one, m))"
   ]
  },
  {
   "cell_type": "code",
   "execution_count": 10,
   "metadata": {},
   "outputs": [
    {
     "data": {
      "text/html": [
       "<strong id=\"iter_x_singletons\">iter_x_singletons:</strong> <a class=\"ProveItLink\" href=\"__pv_it/e8826a1ad4ec2c4d6d8816277fc029490a52e2f20/expr.ipynb\"><img src=\"__pv_it/e8826a1ad4ec2c4d6d8816277fc029490a52e2f20/expr.png\" style=\"display:inline;vertical-align:middle;\" /></a><br>"
      ],
      "text/plain": [
       "iter_x_singletons: {x_(1)},...,{x_(l)}"
      ]
     },
     "execution_count": 10,
     "metadata": {},
     "output_type": "execute_result"
    }
   ],
   "source": [
    "iter_x_singletons = Iter(i, Set(Indexed(xx, i)), one, l)"
   ]
  },
  {
   "cell_type": "code",
   "execution_count": 11,
   "metadata": {},
   "outputs": [
    {
     "data": {
      "text/html": [
       "<strong id=\"generalComprehension_fy\">generalComprehension_fy:</strong> <a class=\"ProveItLink\" href=\"__pv_it/a11e51ab9b7938a74c36a6d8e3e4c3ebc2277fee0/expr.ipynb\"><img src=\"__pv_it/a11e51ab9b7938a74c36a6d8e3e4c3ebc2277fee0/expr.png\" style=\"display:inline;vertical-align:middle;\" /></a><br>"
      ],
      "text/plain": [
       "generalComprehension_fy: {f(y) s.t. (Q_(1)(y) ,  ...  , Q_(k)(y))}_{y in S}"
      ]
     },
     "execution_count": 11,
     "metadata": {},
     "output_type": "execute_result"
    }
   ],
   "source": [
    "generalComprehension_fy = SetOfAll(y, fy, S, conditions=[iterQ1k_y])"
   ]
  },
  {
   "cell_type": "code",
   "execution_count": 12,
   "metadata": {},
   "outputs": [
    {
     "data": {
      "text/html": [
       "<strong id=\"basicComprehension_y\">basicComprehension_y:</strong> <a class=\"ProveItLink\" href=\"__pv_it/dbd14f555e020a3a87b5372717a7123b59e409c50/expr.ipynb\"><img src=\"__pv_it/dbd14f555e020a3a87b5372717a7123b59e409c50/expr.png\" style=\"display:inline;vertical-align:middle;\" /></a><br>"
      ],
      "text/plain": [
       "basicComprehension_y: {y s.t. (Q_(1)(y) ,  ...  , Q_(k)(y))}_{y in S}"
      ]
     },
     "execution_count": 12,
     "metadata": {},
     "output_type": "execute_result"
    }
   ],
   "source": [
    "basicComprehension_y = SetOfAll(y, y, S, conditions=[iterQ1k_y])"
   ]
  },
  {
   "cell_type": "code",
   "execution_count": 13,
   "metadata": {
    "scrolled": true
   },
   "outputs": [
    {
     "name": "stdout",
     "output_type": "stream",
     "text": [
      "Common expressions may be imported from autogenerated _common_.py\n"
     ]
    }
   ],
   "source": [
    "%end common"
   ]
  },
  {
   "cell_type": "code",
   "execution_count": null,
   "metadata": {},
   "outputs": [],
   "source": []
  }
 ],
 "metadata": {
  "kernelspec": {
   "display_name": "Python 3",
   "language": "python",
   "name": "python3"
  },
  "language_info": {
   "codemirror_mode": {
    "name": "ipython",
    "version": 3
   },
   "file_extension": ".py",
   "mimetype": "text/x-python",
   "name": "python",
   "nbconvert_exporter": "python",
   "pygments_lexer": "ipython3",
   "version": "3.7.0"
  }
 },
 "nbformat": 4,
 "nbformat_minor": 1
}
