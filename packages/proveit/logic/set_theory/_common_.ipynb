{
 "cells": [
  {
   "cell_type": "markdown",
   "metadata": {},
   "source": [
    "Common expressions for context <a href=\"_context_.ipynb\" class=\"ProveItLink\">proveit.logic.set_theory</a>\n",
    "========"
   ]
  },
  {
   "cell_type": "code",
   "execution_count": null,
   "metadata": {},
   "outputs": [],
   "source": [
    "import proveit\n",
    "# Automation is not needed when only building common expressions:\n",
    "proveit.defaults.automation = False # This will speed things up.\n",
    "from proveit import Lambda, Iter, Indexed\n",
    "from proveit._common_ import i, l, m, n, x, y, xx, yy, S, AA, fy\n",
    "from proveit.logic import And, Or, Equals, NotEquals, Set, InSet, NotInSet, SetOfAll\n",
    "from proveit.logic._common_ import yIter1l, f_yIter1l, iterA1m, iterQ1k_y\n",
    "from proveit.number import one\n",
    "from empty_set import EmptySetLiteral\n",
    "%begin common"
   ]
  },
  {
   "cell_type": "code",
   "execution_count": null,
   "metadata": {},
   "outputs": [],
   "source": [
    "EmptySet = EmptySetLiteral()"
   ]
  },
  {
   "cell_type": "code",
   "execution_count": null,
   "metadata": {},
   "outputs": [],
   "source": [
    "each_x_in_S = Iter(i, InSet(Indexed(xx, i), S), one, n)"
   ]
  },
  {
   "cell_type": "code",
   "execution_count": null,
   "metadata": {},
   "outputs": [],
   "source": [
    "x_equals_any_y = Or(Iter(i, Equals(x, Indexed(yy, i)), one, l))"
   ]
  },
  {
   "cell_type": "code",
   "execution_count": null,
   "metadata": {},
   "outputs": [],
   "source": [
    "x_notequals_all_y = And(Iter(i, NotEquals(x, Indexed(yy, i)), one, l))"
   ]
  },
  {
   "cell_type": "code",
   "execution_count": null,
   "metadata": {},
   "outputs": [],
   "source": [
    "x_in_any_A = Or(Iter(i, InSet(x, Indexed(AA, i)), one, m))"
   ]
  },
  {
   "cell_type": "code",
   "execution_count": null,
   "metadata": {},
   "outputs": [],
   "source": [
    "x_notin_all_A = And(Iter(i, NotInSet(x, Indexed(AA, i)), one, m))"
   ]
  },
  {
   "cell_type": "code",
   "execution_count": null,
   "metadata": {},
   "outputs": [],
   "source": [
    "x_in_every_A = And(Iter(i, InSet(x, Indexed(AA, i)), one, m))"
   ]
  },
  {
   "cell_type": "code",
   "execution_count": null,
   "metadata": {},
   "outputs": [],
   "source": [
    "x_notin_some_A = Or(Iter(i, NotInSet(x, Indexed(AA, i)), one, m))"
   ]
  },
  {
   "cell_type": "code",
   "execution_count": null,
   "metadata": {},
   "outputs": [],
   "source": [
    "iter_x_singletons = Iter(i, Set(Indexed(xx, i)), one, l)"
   ]
  },
  {
   "cell_type": "code",
   "execution_count": null,
   "metadata": {},
   "outputs": [],
   "source": [
    "generalComprehension_fy = SetOfAll(y, fy, S, conditions=[iterQ1k_y])"
   ]
  },
  {
   "cell_type": "code",
   "execution_count": null,
   "metadata": {},
   "outputs": [],
   "source": [
    "basicComprehension_y = SetOfAll(y, y, S, conditions=[iterQ1k_y])"
   ]
  },
  {
   "cell_type": "code",
   "execution_count": null,
   "metadata": {},
   "outputs": [],
   "source": [
    "%end common"
   ]
  },
  {
   "cell_type": "code",
   "execution_count": null,
   "metadata": {},
   "outputs": [],
   "source": []
  }
 ],
 "metadata": {
  "kernelspec": {
   "display_name": "Python 3",
   "language": "python",
   "name": "python3"
  }
 },
 "nbformat": 4,
 "nbformat_minor": 0
}
