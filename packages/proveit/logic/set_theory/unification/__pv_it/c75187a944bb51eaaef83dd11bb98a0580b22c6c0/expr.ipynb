{
 "cells": [
  {
   "cell_type": "markdown",
   "metadata": {},
   "source": [
    "Expression of type <a class=\"ProveItLink\" href=\"../../../../../../../doc/html/api/proveit.ExprTuple.html\">ExprTuple</a>\n",
    "=======================\n",
    "# from context <a class=\"ProveItLink\" href=\"../../_context_.ipynb\">proveit.logic.set_theory.unification</a>"
   ]
  },
  {
   "cell_type": "code",
   "execution_count": 1,
   "metadata": {},
   "outputs": [],
   "source": [
    "# import Expression classes needed to build the expression\n",
    "from proveit import ExprTuple\n",
    "from proveit._common_ import m\n",
    "from proveit.number import NaturalsPos"
   ]
  },
  {
   "cell_type": "code",
   "execution_count": 2,
   "metadata": {},
   "outputs": [
    {
     "data": {
      "text/html": [
       "<strong id=\"expr\">expr:</strong> <a class=\"ProveItLink\" href=\"expr.ipynb\"><img src=\"data:image/png;base64,iVBORw0KGgoAAAANSUhEUgAAAEYAAAAbBAMAAAAzEOSeAAAAMFBMVEX///+qqqp2dnYiIiJERESI\n",
       "iIhmZmYQEBDc3NyYmJgyMjLu7u5UVFTMzMy6uroAAACGxKilAAAAAXRSTlMAQObYZgAAAXRJREFU\n",
       "KM+N0r9Lw0AUB/BvWvsjXlL7BzhkcHDsIOIi1E1FJKDiUqHgKEj/hA66uFjB3S4qtA7ZhCwp6GKh\n",
       "UsSxYJaiONj6CwulxXe18WJjowf3Xi755F3yOGD4kMTl0zAzwoPGg1ryNTUeTMPXhHQKV/A1mAGi\n",
       "mYEn5tuigc3XuGNSQDg9+PqCmgSaKBdOCwXayDIQsQfNRXUNyHzvFczhzvMZ10Wl6jLhJNY9plJj\n",
       "RZeRaVtK9fndlFZfjfeNpN+6TKyNJd7Lss5ebKnZN9iWdW6U3lLt4ISkPQX2DmEUoyI6Eu1iGmCs\n",
       "C6mNcN4xrGQKw5656YEEIppjcKP+qHPGfy+PYBqNrOEYOZ4UpoNLSlTBslGO5ljfYFKYWAsrlPZt\n",
       "HAHHAVgJWi1/VXYG9adB6R6YAMY3cN4CHj+oBhMmkMdY1d3jB+8JGdWhaO4bOa+xslATf5hDmnOu\n",
       "deiX0zhLcw++Q+ZnUNJ8zU4vHviaLfxrfAKGvmGnDOQcQQAAAABJRU5ErkJggg==\n",
       "\" style=\"display:inline;vertical-align:middle;\" /></a><br>"
      ],
      "text/plain": [
       "expr: (m , NaturalsPos)"
      ]
     },
     "execution_count": 2,
     "metadata": {},
     "output_type": "execute_result"
    }
   ],
   "source": [
    "# build up the expression from sub-expressions\n",
    "expr = ExprTuple(m, NaturalsPos)"
   ]
  },
  {
   "cell_type": "code",
   "execution_count": 3,
   "metadata": {},
   "outputs": [
    {
     "name": "stdout",
     "output_type": "stream",
     "text": [
      "Passed sanity check: built 'expr' is the same as the stored Expression.\n"
     ]
    }
   ],
   "source": [
    "# check that the built expression is the same as the stored expression\n",
    "%check_expr"
   ]
  },
  {
   "cell_type": "code",
   "execution_count": 4,
   "metadata": {},
   "outputs": [
    {
     "data": {
      "text/html": [
       "<table><tr><th>&nbsp;</th><th>core type</th><th>sub-expressions</th><th>expression</th></tr>\n",
       "<tr><td>0</td><td>ExprTuple</td><td>1, 2</td><td><a class=\"ProveItLink\" href=\"expr.ipynb\"><img src=\"data:image/png;base64,iVBORw0KGgoAAAANSUhEUgAAAEYAAAAbBAMAAAAzEOSeAAAAMFBMVEX///+qqqp2dnYiIiJERESI\n",
       "iIhmZmYQEBDc3NyYmJgyMjLu7u5UVFTMzMy6uroAAACGxKilAAAAAXRSTlMAQObYZgAAAXRJREFU\n",
       "KM+N0r9Lw0AUB/BvWvsjXlL7BzhkcHDsIOIi1E1FJKDiUqHgKEj/hA66uFjB3S4qtA7ZhCwp6GKh\n",
       "UsSxYJaiONj6CwulxXe18WJjowf3Xi755F3yOGD4kMTl0zAzwoPGg1ryNTUeTMPXhHQKV/A1mAGi\n",
       "mYEn5tuigc3XuGNSQDg9+PqCmgSaKBdOCwXayDIQsQfNRXUNyHzvFczhzvMZ10Wl6jLhJNY9plJj\n",
       "RZeRaVtK9fndlFZfjfeNpN+6TKyNJd7Lss5ebKnZN9iWdW6U3lLt4ISkPQX2DmEUoyI6Eu1iGmCs\n",
       "C6mNcN4xrGQKw5656YEEIppjcKP+qHPGfy+PYBqNrOEYOZ4UpoNLSlTBslGO5ljfYFKYWAsrlPZt\n",
       "HAHHAVgJWi1/VXYG9adB6R6YAMY3cN4CHj+oBhMmkMdY1d3jB+8JGdWhaO4bOa+xslATf5hDmnOu\n",
       "deiX0zhLcw++Q+ZnUNJ8zU4vHviaLfxrfAKGvmGnDOQcQQAAAABJRU5ErkJggg==\n",
       "\" style=\"display:inline;vertical-align:middle;\" /></a></td></tr>\n",
       "<tr><td>1</td><td>Variable</td><td></td><td><a class=\"ProveItLink\" href=\"../../../../../__pv_it/78af03acba5349fd70398a32ce59bae1da52f0870/expr.ipynb\"><img src=\"data:image/png;base64,iVBORw0KGgoAAAANSUhEUgAAABIAAAAJBAMAAADN8WE8AAAAMFBMVEX////MzMyYmJgQEBBmZmYi\n",
       "IiLu7u4yMjKqqqp2dnZUVFTc3NxERESIiIi6uroAAABe5jFNAAAAAXRSTlMAQObYZgAAAFtJREFU\n",
       "CNdj4Luz++5KvrsnGBg4uWoZ8ucx9DMwvGM9wJB/AcRKyH/A0J/A4M7AAKJcGRgsgSwgL4SB7zcb\n",
       "iMf2j4GrYBMD9z8Gpg8M7BcmMPAZMHAeYOBYKwAAtXMYHwtZnY0AAAAASUVORK5CYII=\n",
       "\" style=\"display:inline;vertical-align:middle;\" /></a></td></tr>\n",
       "<tr><td>2</td><td>Literal</td><td></td><td><a class=\"ProveItLink\" href=\"../../../../../number/sets/integer/__pv_it/42d4bc2e45d5054d807f2641a228c1b440fb8de30/expr.ipynb\"><img src=\"data:image/png;base64,iVBORw0KGgoAAAANSUhEUgAAABsAAAATBAMAAACTqWsLAAAAMFBMVEX////c3Nx2dna6uroQEBCI\n",
       "iIhUVFTMzMyYmJiqqqoiIiJmZmZEREQyMjLu7u4AAADjlg78AAAAAXRSTlMAQObYZgAAAHZJREFU\n",
       "GNNjYIADTgYUwEMy9+2fsw8Ydv2aAJM9wX6AgeEDQ+7dK3fvBjAwZBWEMjA4wPUm32MrQOKml/Hd\n",
       "Q+ZyBtQgcxk2cwSAuGxQLtuDdAe47ekMfAlvkbkMRewoXI4JB5C5DIoI7mEg5r4A49l+AcrwwbgA\n",
       "axoiJO4Xc9gAAAAASUVORK5CYII=\n",
       "\" style=\"display:inline;vertical-align:middle;\" /></a></td></tr>\n",
       "</table>\n"
      ],
      "text/plain": [
       "0. (m , NaturalsPos)\n",
       "   core type: ExprTuple\n",
       "   sub-expressions: 1, 2\n",
       "1. m\n",
       "   core type: Variable\n",
       "   sub-expressions: \n",
       "2. NaturalsPos\n",
       "   core type: Literal\n",
       "   sub-expressions: "
      ]
     },
     "execution_count": 4,
     "metadata": {},
     "output_type": "execute_result"
    }
   ],
   "source": [
    "# display the expression information\n",
    "expr.exprInfo()"
   ]
  },
  {
   "cell_type": "code",
   "execution_count": null,
   "metadata": {},
   "outputs": [],
   "source": []
  }
 ],
 "metadata": {
  "kernelspec": {
   "display_name": "Python 3",
   "language": "python",
   "name": "python3"
  }
 },
 "nbformat": 4,
 "nbformat_minor": 0
}
