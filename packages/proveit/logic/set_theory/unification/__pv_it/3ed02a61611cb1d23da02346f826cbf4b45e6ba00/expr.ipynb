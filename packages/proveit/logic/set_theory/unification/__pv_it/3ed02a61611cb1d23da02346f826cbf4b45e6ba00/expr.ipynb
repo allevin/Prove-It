{
 "cells": [
  {
   "cell_type": "markdown",
   "metadata": {},
   "source": [
    "Expression of type <a class=\"ProveItLink\" href=\"../../../../../../../doc/html/api/proveit.logic.NotInSet.html\">NotInSet</a>\n",
    "=======================\n",
    "# from context <a class=\"ProveItLink\" href=\"../../_context_.ipynb\">proveit.logic.set_theory.unification</a>"
   ]
  },
  {
   "cell_type": "code",
   "execution_count": 1,
   "metadata": {},
   "outputs": [],
   "source": [
    "# import Expression classes needed to build the expression\n",
    "from proveit._common_ import A, B, C, D, x\n",
    "from proveit.logic import NotInSet, Union"
   ]
  },
  {
   "cell_type": "code",
   "execution_count": 2,
   "metadata": {},
   "outputs": [
    {
     "data": {
      "text/html": [
       "<strong id=\"expr\">expr:</strong> <a class=\"ProveItLink\" href=\"expr.ipynb\"><img src=\"data:image/png;base64,iVBORw0KGgoAAAANSUhEUgAAALsAAAAVCAMAAAApWG/GAAAAQlBMVEX///9bW1sNDQ0JCQkdHR0P\n",
       "Dw8WFhYyMjK6urpERETMzMwQEBAiIiKYmJju7u5mZmaqqqpUVFSIiIh2dnbc3NwAAADXC9tbAAAA\n",
       "AXRSTlMAQObYZgAAAoVJREFUSMfVV9u2nSAMpD1tIUC48/+/WlGuCnjeusvDVvcaJ4EMQyRkM5gi\n",
       "/+2QQ+7MfU5myF4A3K6fCJcv7DZGewygb2GUA6s1kqA3IJfpKPDzWfM9qR6i0lFANLbgZHZLBFws\n",
       "kW1xXuBZVX1dl3SRnhcTzRX/RTLDxEfFoIzqiQtdbXh0+Wo3OEWLMH0MezqfV/QKjH5dRyr//Jbd\n",
       "5MSw7MHoEqoP1uvKZQCWoFMcrbxMvNCxYU2UWCmdoiIQ+o061sg1rlUwyOSyZjfB6ayAtBx6T1c0\n",
       "GnIdIb0ZvLPBON1EEUClag7a9zfzNBH3uV8hAgW1xoXYgii+p4Mqnutff8xV+aReJKK9c674KHCK\n",
       "vaJYk/Mq2BHCOaclzvZPwemIu2020JVwRYPmmLY/xXTcV9dR8PQV0XsOO5dMb4NluStpN0nJGL6Z\n",
       "u4slPZvFmvZHStHCoAghpfz1dfy0ikbWO30atYjzYEXubqetGCd+OKerSCFKJfKze5xC3gyL0ed+\n",
       "3Qq6DVacsdnMBCda7q3sczqoksEh93AWpE5cybu5H1HaVEzxj0kw3fSJpcRmjbPtkNBkT+fGE+/S\n",
       "DIZT7sQ1fVs8jrkxd8Bm7feDVdfsPN7dvXeSJ66l5BXZ0+WyQN2GSE+vS9oMnWyUZPbWL3hdD8Kq\n",
       "wMISZHgcAlnuXHRbfoLDqypMd3t2ShfzuaP7jBQ4r7x3g1kF+vOWO5PZ+UWkiRohxkrEqTWcG6hW\n",
       "riF3ToO1PnFJ0vRoxAzZwVShg74DW/Z4+MPSwWeICNtO31vr+Hvv+k3cN2DLnmDsB8i+9/k3w6++\n",
       "JgI8/6Mf9RGllj2wmxzVwX5S7nYpYZgW44O++c7N8Bfn4SZx/PCwnQAAAABJRU5ErkJggg==\n",
       "\" style=\"display:inline;vertical-align:middle;\" /></a><br>"
      ],
      "text/plain": [
       "expr: x not-in (A union B union C union D)"
      ]
     },
     "execution_count": 2,
     "metadata": {},
     "output_type": "execute_result"
    }
   ],
   "source": [
    "# build up the expression from sub-expressions\n",
    "expr = NotInSet(x, Union(A, B, C, D))"
   ]
  },
  {
   "cell_type": "code",
   "execution_count": 3,
   "metadata": {},
   "outputs": [
    {
     "name": "stdout",
     "output_type": "stream",
     "text": [
      "Passed sanity check: built 'expr' is the same as the stored Expression.\n"
     ]
    }
   ],
   "source": [
    "# check that the built expression is the same as the stored expression\n",
    "%check_expr"
   ]
  },
  {
   "cell_type": "code",
   "execution_count": 4,
   "metadata": {},
   "outputs": [
    {
     "data": {
      "text/html": [
       "<table><tr><th>&nbsp;</th><th>core type</th><th>sub-expressions</th><th>expression</th></tr>\n",
       "<tr><td>0</td><td>Operation</td><td>operator:&nbsp;1<br>operands:&nbsp;2<br></td><td><a class=\"ProveItLink\" href=\"expr.ipynb\"><img src=\"data:image/png;base64,iVBORw0KGgoAAAANSUhEUgAAALsAAAAVCAMAAAApWG/GAAAAQlBMVEX///9bW1sNDQ0JCQkdHR0P\n",
       "Dw8WFhYyMjK6urpERETMzMwQEBAiIiKYmJju7u5mZmaqqqpUVFSIiIh2dnbc3NwAAADXC9tbAAAA\n",
       "AXRSTlMAQObYZgAAAoVJREFUSMfVV9u2nSAMpD1tIUC48/+/WlGuCnjeusvDVvcaJ4EMQyRkM5gi\n",
       "/+2QQ+7MfU5myF4A3K6fCJcv7DZGewygb2GUA6s1kqA3IJfpKPDzWfM9qR6i0lFANLbgZHZLBFws\n",
       "kW1xXuBZVX1dl3SRnhcTzRX/RTLDxEfFoIzqiQtdbXh0+Wo3OEWLMH0MezqfV/QKjH5dRyr//Jbd\n",
       "5MSw7MHoEqoP1uvKZQCWoFMcrbxMvNCxYU2UWCmdoiIQ+o061sg1rlUwyOSyZjfB6ayAtBx6T1c0\n",
       "GnIdIb0ZvLPBON1EEUClag7a9zfzNBH3uV8hAgW1xoXYgii+p4Mqnutff8xV+aReJKK9c674KHCK\n",
       "vaJYk/Mq2BHCOaclzvZPwemIu2020JVwRYPmmLY/xXTcV9dR8PQV0XsOO5dMb4NluStpN0nJGL6Z\n",
       "u4slPZvFmvZHStHCoAghpfz1dfy0ikbWO30atYjzYEXubqetGCd+OKerSCFKJfKze5xC3gyL0ed+\n",
       "3Qq6DVacsdnMBCda7q3sczqoksEh93AWpE5cybu5H1HaVEzxj0kw3fSJpcRmjbPtkNBkT+fGE+/S\n",
       "DIZT7sQ1fVs8jrkxd8Bm7feDVdfsPN7dvXeSJ66l5BXZ0+WyQN2GSE+vS9oMnWyUZPbWL3hdD8Kq\n",
       "wMISZHgcAlnuXHRbfoLDqypMd3t2ShfzuaP7jBQ4r7x3g1kF+vOWO5PZ+UWkiRohxkrEqTWcG6hW\n",
       "riF3ToO1PnFJ0vRoxAzZwVShg74DW/Z4+MPSwWeICNtO31vr+Hvv+k3cN2DLnmDsB8i+9/k3w6++\n",
       "JgI8/6Mf9RGllj2wmxzVwX5S7nYpYZgW44O++c7N8Bfn4SZx/PCwnQAAAABJRU5ErkJggg==\n",
       "\" style=\"display:inline;vertical-align:middle;\" /></a></td></tr>\n",
       "<tr><td>1</td><td>Literal</td><td></td><td><a class=\"ProveItLink\" href=\"../../../membership/__pv_it/cc61ce5cf0825a46fd70733410654132b7dd0e550/expr.ipynb\"><img src=\"data:image/png;base64,iVBORw0KGgoAAAANSUhEUgAAAAwAAAAVCAMAAABFcv+GAAAAQlBMVEX///9bW1sNDQ0JCQkdHR0Q\n",
       "EBAPDw8WFhaYmJiIiIgyMjLc3NxERER2dnaqqqpmZmZUVFTMzMwiIiLu7u66uroAAACAfls5AAAA\n",
       "AXRSTlMAQObYZgAAAGtJREFUGNNNTkkSwCAIo7sirQr8/621LhUOYQIhAWCUCsxiQ3Iyi6hW1bt4\n",
       "5OtkrGp0AhTqPFCxEWyiOvO+HdCH2EL0YOZ9K4A97H66L5sQSA40DiKsKf+PBFwnAbckbG4jdsjI\n",
       "PO+dIXPxAnRTBHGTKJqmAAAAAElFTkSuQmCC\n",
       "\" style=\"display:inline;vertical-align:middle;\" /></a></td></tr>\n",
       "<tr><td>2</td><td>ExprTuple</td><td>3, 4</td><td><a class=\"ProveItLink\" href=\"../6b3cbfac3ae7903c13942b026b77dbb3daad1e790/expr.ipynb\"><img src=\"data:image/png;base64,iVBORw0KGgoAAAANSUhEUgAAAKkAAAAVBAMAAADP89MSAAAAMFBMVEX////c3NwiIiJERESqqqqY\n",
       "mJh2dnZmZmYQEBDu7u4yMjJUVFTMzMyIiIi6uroAAAAs73DqAAAAAXRSTlMAQObYZgAAAnZJREFU\n",
       "OMu1lT9oE1Ecx7+Xv3fJXXNI0aGIOgiCiyBi/AM9cHApeCi4CCaLOEghatFRQTu0gx4I4iIEpYg4\n",
       "2EEQepRmEBQrpJMOKgkOik6JpYqtpv5+73J/3qvQJQbul/e+9+5z7/3+HfB/fkNLAwaeZbOoquZO\n",
       "RTiz7vuH24p4/8hVd5ukWAtr/txRIN+gyWOVWuiwNcTYE/YGLe2Fs+BGbhL4MilrpTpwwgHoz9rg\n",
       "gJO/2KbYaLNi83/oWqOBOMSIwDwgWq4raWhW6e308GlA9xSodrwbUU1BtUjI/ggJwmOFKY7IdUlD\n",
       "qx3s4B7wTd2qZfUUapqeTk1JhGsOv78mU0dZozOlHVyh4db3w+8iR3zNrCjU0iy0h16SoK0KNzRk\n",
       "6jICT+VqmKG71exuPQy80eZDSNTm/MdLLpKE/Ep0tJgqnmNPZeq4RWxYnUwjTF9oPxVqy4axVyKk\n",
       "uv+gWr/JFHvC3z3Oi+K+aNWi7y8r1DKT3SShFCdfTE2zqFMMzA5EaPQ4vSiO0wqVk6pSTRJ0QR2T\n",
       "qSXeWsUV1Jss7Gj08x0ZuvbEVI6yyU5ccELCSz6nSOkakhqaS0HBsAcOkIftFiwv4A7T9ZQHecbk\n",
       "3H66BkGfYHMuDEzOkzS0KDRprtRsHeepytwytsP4zq6qc97xcm0X+snM6fpK1PUWmzbCK1BxMHQR\n",
       "skbpaj4S1VzDJ+DO27vjLozbNrTyqo1T6+Le62dvjh3iTY9S05gJ+s6TsRf7xQ7NuecTkDTjMvWg\n",
       "gyKTCm3odtQSbbnIPvsfNnTNC/ONzTWq2Gw1nGQH1WDHk51wUFQRm5FwNqhvQpE9qQ36C0PR+AtL\n",
       "o7TxyaDyDAAAAABJRU5ErkJggg==\n",
       "\" style=\"display:inline;vertical-align:middle;\" /></a></td></tr>\n",
       "<tr><td>3</td><td>Variable</td><td></td><td><a class=\"ProveItLink\" href=\"../../../../../__pv_it/530be409e3083890784cf1d7b28c9e67e90af9360/expr.ipynb\"><img src=\"data:image/png;base64,iVBORw0KGgoAAAANSUhEUgAAAAsAAAAJBAMAAAAWSsseAAAAKlBMVEX///9ERETMzMwQEBAiIiKY\n",
       "mJju7u5mZmaqqqpUVFSIiIh2dnbc3NwAAAA/vyDhAAAAAXRSTlMAQObYZgAAAENJREFUCNdjYDi9\n",
       "8sTyBQxsG1hdmR0YuBm4LnAoMLAxcAowgADzAjB1VoEhgYH1wFoGrgSG3gBhhlMMDImrs3cFMAAA\n",
       "t0YN+iTRa+sAAAAASUVORK5CYII=\n",
       "\" style=\"display:inline;vertical-align:middle;\" /></a></td></tr>\n",
       "<tr><td>4</td><td>Operation</td><td>operator:&nbsp;5<br>operands:&nbsp;6<br></td><td><a class=\"ProveItLink\" href=\"../e64630c3f66832be3d7e6842a78dad40174062e30/expr.ipynb\"><img src=\"data:image/png;base64,iVBORw0KGgoAAAANSUhEUgAAAIcAAAAPBAMAAAA8KsGMAAAAMFBMVEX///92dnYQEBBERERUVFS6\n",
       "urqIiIhmZmaqqqrc3Nzu7u6YmJgyMjIiIiLMzMwAAACFkkdwAAAAAXRSTlMAQObYZgAAAc9JREFU\n",
       "OMuNk88vA1EQx2fpltV26+DmIo5INDiJpE1scJC0Ti4OPQg33cRBXVTijoSEA+lecCHpf6AJDhJC\n",
       "3MRBDxIOfjVKigYzs9313sbBS3Yy+3nvfWfevHkANB5AHoF4yeg/8sDtnpncmozGvw3joFD9OSPT\n",
       "wK7FtiYCkElITGkHGG13/uwJqADUl6uBr2kiRK4WY/KUxC8msoZTXKO8o3dObJWX6UU0GTvuembZ\n",
       "EdFtkRSC/UaRBdvQqC2OyA0v879WA+JIphIekS78LiyRZeYpJ1MWqX1Gk+UtqrWU84iUADZ6RaZV\n",
       "uBIFWSQcAfvYAFt2RoKIXpqYvAKR1X26VyKI8D46NkACsqYs4scC7sVEFnr/SyRFmcWpFrphxCOy\n",
       "SC0W0P8psvCze7GCSJRMK5cE2yIvi4TRBooiq2GRRY/IC/UHHxTLHmpxN5h8Viy0rywy3wd5pity\n",
       "yxNv1b4EDUWCFKeOLlHJOW2SzYuM1yvcVmkyzVy6LzR9BHepBhRHu0Qz5rSJ3mFJbH8e1Fme3MQI\n",
       "at5pk3vKbqXzGALRCrn3Q48L1Bwwje/qhFP6ZfrwYNq+Hf1w8a6bIuxE8ZnOeZ4pjBhT8A+mNg0U\n",
       "JPAD17mLMJOl7jMAAAAASUVORK5CYII=\n",
       "\" style=\"display:inline;vertical-align:middle;\" /></a></td></tr>\n",
       "<tr><td>5</td><td>Literal</td><td></td><td><a class=\"ProveItLink\" href=\"../6418fe022f81be5a21adfed64646f451794861820/expr.ipynb\"><img src=\"data:image/png;base64,iVBORw0KGgoAAAANSUhEUgAAAAwAAAAOBAMAAADpk+DfAAAALVBMVEX///+IiIhEREQyMjK6urqY\n",
       "mJh2dnaqqqpmZmbMzMxUVFTc3NwiIiLu7u4AAABVBm/gAAAAAXRSTlMAQObYZgAAADFJREFUCNdj\n",
       "uMAABLwMB0DULgg1i1RqBkM7iEpl2LOBgYHFgIHTqnK6EtBglqyFExgAhf0Tltg9/PUAAAAASUVO\n",
       "RK5CYII=\n",
       "\" style=\"display:inline;vertical-align:middle;\" /></a></td></tr>\n",
       "<tr><td>6</td><td>ExprTuple</td><td>7, 8, 9, 10</td><td><a class=\"ProveItLink\" href=\"../8dc7b16fdb66b67ef402636d7d0da333f49c83890/expr.ipynb\"><img src=\"data:image/png;base64,iVBORw0KGgoAAAANSUhEUgAAAGkAAAAVBAMAAAC3TN2zAAAAMFBMVEX////c3NwiIiJERESqqqqY\n",
       "mJh2dnZmZmYQEBDu7u4yMjJUVFTMzMyIiIi6uroAAAAs73DqAAAAAXRSTlMAQObYZgAAAfBJREFU\n",
       "OMudVDFLW1EU/tJ4G595eQYUBB2cCu2kS6mCYP6Bb3LUbOogBkpbtwTaqUMTOomU8hxEW0EFB8E3\n",
       "JLhmMODgohhcWjpFawuaVnvOPfc2r0OgeuGe953z3XPv98657wH3G17tjglTbKqC921QlZvhzqb1\n",
       "nMPdF7Gchiki9saARIWcT0Jv/d2rcxjI140z68Nb9AV3B8BEBqBHSgSqoZLNOqDIwbbg5SdkFtKG\n",
       "yNJBV8Ak7Syre/Npm3VKaDoreJ3Zr5YgAe5vYAn4JpHaqdWEEZqPZa/EJds+Q4zTjDWBeAYvpZCl\n",
       "Cd9mUbx/VOBgwPaDIb7TdIl9mMOqDnzUb6OH2zw5emRw3o9UnMVB/QQ6ArzTkToGc4ZMnQPvTTGG\n",
       "0pGs1C8yyRsSVsCN3iYMy8OGjBdowQ/Bt9qa6sYb3BZi3YZkeeQGJqt7W3TwKLLpqBiC9532ddYb\n",
       "DlDrHhRsuyievBRc5mMSkT7iNbTCp1xOyupqGCncLq5dyS6cswSdGeebpALM8A1g1VdwLky73Lcl\n",
       "cRSd+SVtCGqXu8aAKn8G9BRXoMavc06Rjnl+G4afSaR2UN14lRHsMPFMv2JXHZ2R4nrRQnvtCL5R\n",
       "KttyVZRTbTAw3/pS/j/L4R4NtPx/vupaG4wky43d9Q9wDPwB+mqFhV2344EAAAAASUVORK5CYII=\n",
       "\" style=\"display:inline;vertical-align:middle;\" /></a></td></tr>\n",
       "<tr><td>7</td><td>Variable</td><td></td><td><a class=\"ProveItLink\" href=\"../../../../../__pv_it/2cbe72a7ad6f655694dd697106680215e8489b600/expr.ipynb\"><img src=\"data:image/png;base64,iVBORw0KGgoAAAANSUhEUgAAAA8AAAAOBAMAAAACpFvcAAAALVBMVEX///8QEBBERERUVFS6urqI\n",
       "iIhmZmaqqqrc3Nzu7u6YmJgyMjIiIiLMzMwAAADtIaYWAAAAAXRSTlMAQObYZgAAAFtJREFUCNdj\n",
       "YACBOwxQsA9Kc52bAGG05zVAGAFxDmCaZULdAjBjCsO9ADDDgaEvAUTzGhvbKYCVMDAwbgAxChgY\n",
       "eASANAeQwf0AyJgNxEwvGRia5HYwcOm9TgAA6BoR3jrzwFcAAAAASUVORK5CYII=\n",
       "\" style=\"display:inline;vertical-align:middle;\" /></a></td></tr>\n",
       "<tr><td>8</td><td>Variable</td><td></td><td><a class=\"ProveItLink\" href=\"../../../../../__pv_it/077b2ff79244fb4582cbe22c6e3356fa92a52f2f0/expr.ipynb\"><img src=\"data:image/png;base64,iVBORw0KGgoAAAANSUhEUgAAABAAAAAOBAMAAADUAYG5AAAAMFBMVEX///+qqqru7u4iIiJ2dnbc\n",
       "3NyIiIjMzMxmZmYQEBC6uroyMjJERERUVFSYmJgAAADLUcuvAAAAAXRSTlMAQObYZgAAAGpJREFU\n",
       "CNdjYGB4+//u3dMLGIBgDgMDxy8gzf4NiP8CGWxfGRj4vgAZPBMYGJgnARn8FxhY9ygAGfXX0pof\n",
       "gDTlBzAw2YIYJ0EckBBI53sHoBH/gIz7AhBjWH9DjancBLTl/N+7t/cxMAAA3u4f/5xagjYAAAAA\n",
       "SUVORK5CYII=\n",
       "\" style=\"display:inline;vertical-align:middle;\" /></a></td></tr>\n",
       "<tr><td>9</td><td>Variable</td><td></td><td><a class=\"ProveItLink\" href=\"../../../../../__pv_it/985a1bdf1540838275dec15f4ad6de261cca93ce0/expr.ipynb\"><img src=\"data:image/png;base64,iVBORw0KGgoAAAANSUhEUgAAAA8AAAAOBAMAAAACpFvcAAAAMFBMVEX////MzMyqqqoiIiIyMjK6\n",
       "uroQEBB2dnbc3NyYmJhmZmZUVFRERESIiIju7u4AAAB204erAAAAAXRSTlMAQObYZgAAAGZJREFU\n",
       "CNdjYGDgu7NrJccCBgaGsgkMrMsmMDA8sQNy6hsYGNweABlhDAxcn4A0QxcDQ78DiPGQgWH9BAYI\n",
       "sG+AMv6DSaCGfBDNJMDAsB+kmwuI5S8AiTog5gSaEwXWIO29SgFIAQBC+RaDQlidVgAAAABJRU5E\n",
       "rkJggg==\n",
       "\" style=\"display:inline;vertical-align:middle;\" /></a></td></tr>\n",
       "<tr><td>10</td><td>Variable</td><td></td><td><a class=\"ProveItLink\" href=\"../../../../../__pv_it/185e6d30f167ee2ee5ef3321098dc98e0d77bc590/expr.ipynb\"><img src=\"data:image/png;base64,iVBORw0KGgoAAAANSUhEUgAAABEAAAAOBAMAAAA7w+qHAAAALVBMVEX///8QEBCYmJjc3Ny6urru\n",
       "7u5mZmZ2dnaqqqrMzMxEREQyMjJUVFSIiIgAAABETr/8AAAAAXRSTlMAQObYZgAAAGpJREFUCNdj\n",
       "YGC48+7MmV0TGEDgNQMDxwsQg/M5kMgLABK8T4DEvAtAgusBkLA7ACT4FoDEDsAk9AqAxD2QCecc\n",
       "gMQ6kAGCIOIVEDM9Ahn3FkgwgnTxvgQSqwOgxs1OADLC1r05cyoTyAAAv4Qe+njAWvgAAAAASUVO\n",
       "RK5CYII=\n",
       "\" style=\"display:inline;vertical-align:middle;\" /></a></td></tr>\n",
       "</table>\n"
      ],
      "text/plain": [
       "0. x not-in (A union B union C union D)\n",
       "   core type: Operation\n",
       "   operator: 1\n",
       "   operands: 2\n",
       "1. not-in\n",
       "   core type: Literal\n",
       "   sub-expressions: \n",
       "2. (x , A union B union C union D)\n",
       "   core type: ExprTuple\n",
       "   sub-expressions: 3, 4\n",
       "3. x\n",
       "   core type: Variable\n",
       "   sub-expressions: \n",
       "4. A union B union C union D\n",
       "   core type: Operation\n",
       "   operator: 5\n",
       "   operands: 6\n",
       "5. union\n",
       "   core type: Literal\n",
       "   sub-expressions: \n",
       "6. (A , B , C , D)\n",
       "   core type: ExprTuple\n",
       "   sub-expressions: 7, 8, 9, 10\n",
       "7. A\n",
       "   core type: Variable\n",
       "   sub-expressions: \n",
       "8. B\n",
       "   core type: Variable\n",
       "   sub-expressions: \n",
       "9. C\n",
       "   core type: Variable\n",
       "   sub-expressions: \n",
       "10. D\n",
       "    core type: Variable\n",
       "    sub-expressions: "
      ]
     },
     "execution_count": 4,
     "metadata": {},
     "output_type": "execute_result"
    }
   ],
   "source": [
    "# display the expression information\n",
    "expr.exprInfo()"
   ]
  },
  {
   "cell_type": "code",
   "execution_count": null,
   "metadata": {},
   "outputs": [],
   "source": []
  }
 ],
 "metadata": {
  "kernelspec": {
   "display_name": "Python 3",
   "language": "python",
   "name": "python3"
  }
 },
 "nbformat": 4,
 "nbformat_minor": 0
}
