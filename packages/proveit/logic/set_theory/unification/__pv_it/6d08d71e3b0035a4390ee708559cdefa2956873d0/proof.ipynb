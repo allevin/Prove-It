{
 "cells": [
  {
   "cell_type": "markdown",
   "metadata": {},
   "source": [
    "Show the Proof\n",
    "========"
   ]
  },
  {
   "cell_type": "code",
   "execution_count": 1,
   "metadata": {},
   "outputs": [
    {
     "data": {
      "text/html": [
       "<table><tr><th>&nbsp;</th><th>step type</th><th>requirements</th><th>statement</th></tr>\n",
       "<tr><td>0</td><td>assumption</td><td></td><td><span style=\"font-size:20px;\"><a class=\"ProveItLink\" href=\"../e53ca04f1abf19ef43d08b799538fc0c9d4fdd680/expr.ipynb\"><img src=\"data:image/png;base64,iVBORw0KGgoAAAANSUhEUgAAAREAAAAVBAMAAACTXMcfAAAAMFBMVEX////c3NxERESqqqpUVFS6\n",
       "urrMzMwyMjIQEBCIiIh2dnYiIiLu7u5mZmaYmJgAAABXZE4RAAAAAXRSTlMAQObYZgAAA5BJREFU\n",
       "SMfFlk9IFHEUx9/sn9md2dl1qUA6REZBRlIewuggrLLpqdpbRgUiQh0kt4N0MG0jTMIQT4VQKXRJ\n",
       "qdhL9Gclli5mXizBKCi3IKIM1LKkqLX3fn9mZ3RnaE/9YH7z9jef32+/837vvfkBQOQt/Oemjkbp\n",
       "Zjyi/ogb+WH1QGm0f8CFjiRIygUytQUyY4560wDh5lVjxenIoaV4fccaGlodlp7Y9ia3CWbIfEmd\n",
       "nsIukHVSEiChSbISTAS40MEKgNkEp/1shIk6W5zW+wGO90OA7FumkkFH7839xu4zWQ0gQSe6Hbeh\n",
       "PcZpH4nQBmS3thmd+D76IkSGbUou25irmUxS2ErtIvZPyWyhbgxc6CEMvPlhTqvoHwiR84I2D050\n",
       "Zu5zZ9Mq/hQYKasSf9IKn/hSsDXtO/aeapqK/+OdAhe6Eq8HWU7DabxqyThsC7FuqWuWKAXX22pV\n",
       "EkYPKSN1+14xN1RZZh7z5okhAaSC1DjTSwDlVYJmKkgNvAYLvk4KUZaZQ3EP70glYXzDQA7gGczl\n",
       "+mjAE7W4PqH+JBFJsTNsh5xodWnw+mOTxp1hOwTdYMG3SDicl9ZevObJOIk5EcRrGIaghgaeWEsB\n",
       "KH/4dvJA3c9SxIHWMKQmY5LGQPWxdOuBAm5USDi0KK0mejl0Y+tFNMpwShbqxZNMxozB1nj8K73t\n",
       "ApsMBht2oj2oQMtLGtIwzu4UaBL39yHNIraMQQZlHBnb0c9NzXxtgEtrCxGO95pKwtV6TiopRpeh\n",
       "PyK/TCXTcNdUIvFCTQwyqEYoCVEq+/CFgiyOfzCJMFlY20vJYO6OkgzxRRzodtTp+yZpKEevUGOV\n",
       "XOBGWsI+qlMwJXaHxYmODz24xjss+9cYkzPXXo/XOarj3P0Nn/guONBUTjYnTdp3ipe0XWDBD5rh\n",
       "TZmgUyZ9tGYx5p0370kpbKpxz8wcWnJ3VuYltIzxMl2cpnKi9hZodSfPWMzSAj6ZkPR8Nfifi+eW\n",
       "ypYGY8ft0RucKZ8RKV+5HIX3K10Y2nx+gP9FcRperMTjZ8hDgoYufjsKFlzpkt9HtfHANDM6bNX+\n",
       "vO2TsKczYyujvH7jZFGW/o2GNhGbUetDb6Oo9qbjbdWef7Sc24j9Z2k0+8Q5N31AKom4nwrMeLGe\n",
       "FEqinU4Foo2b5xPjIW1fzA32Re2/S6Nhg6uSOtr2Hu69m9htdIOvrB4ojVbcTo9aszjH/gX71RR8\n",
       "+XlWJgAAAABJRU5ErkJggg==\n",
       "\" style=\"display:inline;vertical-align:middle;\" /></a> <a class=\"ProveItLink\" href=\"proof.ipynb\" style=\"text-decoration: none\">&#x22A2;&nbsp;</a><a class=\"ProveItLink\" href=\"../d65b5d690de60bc016fb0219d22752b5ccabe58b0/expr.ipynb\"><img src=\"data:image/png;base64,iVBORw0KGgoAAAANSUhEUgAAAPsAAAAVBAMAAAByEoVnAAAAMFBMVEX////c3NwiIiJERESqqqqY\n",
       "mJh2dnZmZmYQEBDu7u4yMjJUVFTMzMyIiIi6uroAAAAs73DqAAAAAXRSTlMAQObYZgAAAzpJREFU\n",
       "SMfFlk1oE0EUgN+mSTfZbNKFFoWKNAQ8qGCrKFQvzU3QQ/ckqKi5iHoohuLfQWj8ufRiSwWRorKt\n",
       "hFoErQcRmmqDRVB7SEFQUEuDF4sgVFDBFlvfm9nZTNrMYvDgwM68yXw77+2b994E4D+3+IzPYqj0\n",
       "TzR89dN8lLpp5fJzfC6u+k1BH17J5/eU1tDmWHU88ubJWS2jF1AcVap/iI/BPplNCVbSVwD0ZU4D\n",
       "84FJndFfnT5pQ/yCDQ5ATOnNUCu+HEqjFCXNDFTR5m98ljgNE9TNet3aNrgZu9MWHAAIVxh4ezi5\n",
       "RchNPRa6KUubt2EXIFBFx76hpT85DVPUkQborfD4+2TSYdI92mUe4CbAl4qPyEnbz8yRF3eSOITP\n",
       "XhJUdB3qDfS6tIFmBzN0aI6Mvz7oCvp36tfjWyk4h9K6D03vmFcbJe3x/k4bhxPgqiYTlHTDGGh3\n",
       "+12aVJMJoKclXNst4BZm1S2A+gzk0Cvp0KZwgn7aLhl7B4r01j7gjmcHoKSLT2e7bUGT49kBGLaE\n",
       "11kC7rFdIejANTQCYgtBiq5Im6S+BC0ZfkQs4qIsnlX0nAWRrYKmiHtGY7gk4dc9uFUYEs/CMu4D\n",
       "Ub5T/HIyKYLJzOcn6dcimyVgkI0qup1MsAUdgAjzb0NJwueR5qG3wuZ4VOYCbYhmzqypEpjrYcdT\n",
       "fwaOC/VV6SV8jqUFrafqbaHew8sFq485vsDUX2XBUCBjIJIob5jCj8h67mwGvqSgzR/YTaYErTkB\n",
       "NoZTEj7g0ZM01bnzd2HCWnMQY1H82EM0fNNYQOEQm0Zf8E9Q0JT22qJHw8QRno62hEdtL05pr1NU\n",
       "2BxKlU67HTayhQHvzqCjrvslEg/MHTzJFDSl/ctRj4YpVnQoscp4ZJtXTjHvP1t8/RPG5NsbXdw0\n",
       "baTAica+IQh1LOLrD/gPI3yoTusdS/nxHEkubWR4/CRkvNm7kKbvn2fHYpQgbMmVKTheLrq8Umb5\n",
       "+IoPf0mbbkG6VLG6fzhZUQap6PJbQtnqK++Y2mi6U/xal++FK2JAbrXRqgvX9RX5YoPvho9WzWuj\n",
       "tTE/Okonqfn9fYoVVm9YE+2miKJ9BPgDeSTs66nRl0QAAAAASUVORK5CYII=\n",
       "\" style=\"display:inline;vertical-align:middle;\" /></a></span></td></tr>\n",
       "</table>"
      ],
      "text/plain": [
       "<proveit._core_.proof._ShowProof at 0x7f94ebe99e10>"
      ]
     },
     "execution_count": 1,
     "metadata": {},
     "output_type": "execute_result"
    }
   ],
   "source": [
    "import proveit\n",
    "%show_proof"
   ]
  },
  {
   "cell_type": "code",
   "execution_count": null,
   "metadata": {},
   "outputs": [],
   "source": []
  }
 ],
 "metadata": {
  "kernelspec": {
   "display_name": "Python 3",
   "language": "python",
   "name": "python3"
  }
 },
 "nbformat": 4,
 "nbformat_minor": 0
}
