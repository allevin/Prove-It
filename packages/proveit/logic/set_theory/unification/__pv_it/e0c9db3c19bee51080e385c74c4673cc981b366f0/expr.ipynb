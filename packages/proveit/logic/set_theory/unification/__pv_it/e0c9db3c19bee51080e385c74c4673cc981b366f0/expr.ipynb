{
 "cells": [
  {
   "cell_type": "markdown",
   "metadata": {},
   "source": [
    "Expression of type <a class=\"ProveItLink\" href=\"../../../../../../../doc/html/api/proveit.logic.Set.html\">Set</a>\n",
    "=======================\n",
    "# from context <a class=\"ProveItLink\" href=\"../../_context_.ipynb\">proveit.logic.set_theory.unification</a>"
   ]
  },
  {
   "cell_type": "code",
   "execution_count": 1,
   "metadata": {},
   "outputs": [],
   "source": [
    "# import Expression classes needed to build the expression\n",
    "from proveit._common_ import A, B, C, x\n",
    "from proveit.logic import InSet, Set, Union"
   ]
  },
  {
   "cell_type": "code",
   "execution_count": 2,
   "metadata": {},
   "outputs": [
    {
     "data": {
      "text/html": [
       "<strong id=\"expr\">expr:</strong> <a class=\"ProveItLink\" href=\"expr.ipynb\"><img src=\"data:image/png;base64,iVBORw0KGgoAAAANSUhEUgAAAKcAAAAVBAMAAADROuOhAAAAMFBMVEX///9ERETc3NyqqqpUVFS6\n",
       "urrMzMwyMjIQEBCIiIh2dnYiIiLu7u5mZmaYmJgAAABJJ2g3AAAAAXRSTlMAQObYZgAAAm1JREFU\n",
       "OMtjYGDgu8dAPcC2SgFE8ezCIR9JqoF8ASBTm0FMzg847HSAUBvQxJ/8d3ERD0AV45noe4/pAsM1\n",
       "EPs6iOBqwG4o+wEIBbYTzOaBSDQyMPB+RRVb8YCB9cYDBnYwG5+hMyHU6z8gEuxcFYjTfwLxFxSx\n",
       "43uAxHoFBr4F2A3lmb57dwGY1QMmmWw/wQ1NAYtwAgX4fqGIVYAcHQHU3IDd0PQ3UAYrxGhOzq9o\n",
       "hjIC1XP3IIvxfgaxdIFYGMVQrSnKcyeAHCYDM513AZiKYf6HZii/AwNT4QFkMX2w/ceAeC3MUF6g\n",
       "EM8Cvn0cIEWMCvB4egAOjQBQEKIYmu858/YDFLH7D2CazIH4PYiRAUweXMCExZwA5ByEhwMHONWw\n",
       "MjD9RTN0vgIDzxYUsf1wl0SAXHMBKNoGThgsAhDR3buhEcUPNjTFxeUjmqESIIMfIIv9Z4ClunwQ\n",
       "QxwoGZEAdtgEBoQ+hKFAoh3NUFBqer8AWawfxAB7FGQoN0iOBeww/QSwVacR3jcAqQTiHXBDc8HJ\n",
       "FBRx/gbIYv4gnbww74PDlAsoyacwn4ETJMUCD3NGEEsZiOtBvMsgYh0smTJ9RxHLB/lyDYj3HDlJ\n",
       "2T+QYNAEx/ZWmKFcwPDmAXlCHmSZtgIs5YKSaUYNA7IYHzCdxoIjay2yoQdnnVoJcaP6NVji38DA\n",
       "JPFdgeHh/1qQp0vMkgXBvpT/4uJeB8mvMDGGlJK7BmChUhx536Qamk2bUIRZl3gmoJcOGGK4sikC\n",
       "vCK9hOaaADOUD3/RRwo4Di9PeXZiV8HkQLKhTqCQboXUAouxK9Ek1UzOBGgdBQA23rJQ4o3mJgAA\n",
       "AABJRU5ErkJggg==\n",
       "\" style=\"display:inline;vertical-align:middle;\" /></a><br>"
      ],
      "text/plain": [
       "expr: {x in (A union B union C)}"
      ]
     },
     "execution_count": 2,
     "metadata": {},
     "output_type": "execute_result"
    }
   ],
   "source": [
    "# build up the expression from sub-expressions\n",
    "expr = Set(InSet(x, Union(A, B, C)))"
   ]
  },
  {
   "cell_type": "code",
   "execution_count": 3,
   "metadata": {},
   "outputs": [
    {
     "name": "stdout",
     "output_type": "stream",
     "text": [
      "Passed sanity check: built 'expr' is the same as the stored Expression.\n"
     ]
    }
   ],
   "source": [
    "# check that the built expression is the same as the stored expression\n",
    "%check_expr"
   ]
  },
  {
   "cell_type": "code",
   "execution_count": 4,
   "metadata": {},
   "outputs": [
    {
     "data": {
      "text/html": [
       "<table><tr><th>&nbsp;</th><th>core type</th><th>sub-expressions</th><th>expression</th></tr>\n",
       "<tr><td>0</td><td>Operation</td><td>operator:&nbsp;1<br>operands:&nbsp;2<br></td><td><a class=\"ProveItLink\" href=\"expr.ipynb\"><img src=\"data:image/png;base64,iVBORw0KGgoAAAANSUhEUgAAAKcAAAAVBAMAAADROuOhAAAAMFBMVEX///9ERETc3NyqqqpUVFS6\n",
       "urrMzMwyMjIQEBCIiIh2dnYiIiLu7u5mZmaYmJgAAABJJ2g3AAAAAXRSTlMAQObYZgAAAm1JREFU\n",
       "OMtjYGDgu8dAPcC2SgFE8ezCIR9JqoF8ASBTm0FMzg847HSAUBvQxJ/8d3ERD0AV45noe4/pAsM1\n",
       "EPs6iOBqwG4o+wEIBbYTzOaBSDQyMPB+RRVb8YCB9cYDBnYwG5+hMyHU6z8gEuxcFYjTfwLxFxSx\n",
       "43uAxHoFBr4F2A3lmb57dwGY1QMmmWw/wQ1NAYtwAgX4fqGIVYAcHQHU3IDd0PQ3UAYrxGhOzq9o\n",
       "hjIC1XP3IIvxfgaxdIFYGMVQrSnKcyeAHCYDM513AZiKYf6HZii/AwNT4QFkMX2w/ceAeC3MUF6g\n",
       "EM8Cvn0cIEWMCvB4egAOjQBQEKIYmu858/YDFLH7D2CazIH4PYiRAUweXMCExZwA5ByEhwMHONWw\n",
       "MjD9RTN0vgIDzxYUsf1wl0SAXHMBKNoGThgsAhDR3buhEcUPNjTFxeUjmqESIIMfIIv9Z4ClunwQ\n",
       "QxwoGZEAdtgEBoQ+hKFAoh3NUFBqer8AWawfxAB7FGQoN0iOBeww/QSwVacR3jcAqQTiHXBDc8HJ\n",
       "FBRx/gbIYv4gnbww74PDlAsoyacwn4ETJMUCD3NGEEsZiOtBvMsgYh0smTJ9RxHLB/lyDYj3HDlJ\n",
       "2T+QYNAEx/ZWmKFcwPDmAXlCHmSZtgIs5YKSaUYNA7IYHzCdxoIjay2yoQdnnVoJcaP6NVji38DA\n",
       "JPFdgeHh/1qQp0vMkgXBvpT/4uJeB8mvMDGGlJK7BmChUhx536Qamk2bUIRZl3gmoJcOGGK4sikC\n",
       "vCK9hOaaADOUD3/RRwo4Di9PeXZiV8HkQLKhTqCQboXUAouxK9Ek1UzOBGgdBQA23rJQ4o3mJgAA\n",
       "AABJRU5ErkJggg==\n",
       "\" style=\"display:inline;vertical-align:middle;\" /></a></td></tr>\n",
       "<tr><td>1</td><td>Literal</td><td></td><td><a class=\"ProveItLink\" href=\"../../../enumeration/__pv_it/07381ed5b23806e8d7914b78cb6667769e3708dd0/expr.ipynb\"><img src=\"data:image/png;base64,iVBORw0KGgoAAAANSUhEUgAAAB4AAAAOBAMAAADKyLEKAAAAMFBMVEX///8iIiIQEBCIiIjMzMzc\n",
       "3Nyqqqp2dnZEREQyMjK6urru7u5mZmZUVFSYmJgAAACI6eGPAAAAAXRSTlMAQObYZgAAALRJREFU\n",
       "CNdjYGDgu3Nm3wIGBJjHwN0PZW5yYGDgLWBgyITy8zcwMMQDxZyh/INAvD6BgcEFypcB4vjPDiBm\n",
       "TPFRrhs/LjMwMP//38rAwCbKEMPA9gEkE3fp0waG+AUMRxh4JkC01T9guPTOOICBEWgVH5C//wHD\n",
       "H5D4fqCz9oCMDGD4DLaegRXslLMMDMpAgxlOMmQxHDRgYG5gYLBk4D7KcIe7gOHC2rt9QCXsh40Z\n",
       "GCKMGQDRkC8N/Ph1XAAAAABJRU5ErkJggg==\n",
       "\" style=\"display:inline;vertical-align:middle;\" /></a></td></tr>\n",
       "<tr><td>2</td><td>ExprTuple</td><td>3</td><td><a class=\"ProveItLink\" href=\"../5028250046cd7c129abfbb7ca1e0fc6bc10025fb0/expr.ipynb\"><img src=\"data:image/png;base64,iVBORw0KGgoAAAANSUhEUgAAAKAAAAAVBAMAAAAz5vjYAAAAMFBMVEX////c3NwiIiJERESqqqqY\n",
       "mJh2dnZmZmYQEBDu7u4yMjJUVFTMzMyIiIi6uroAAAAs73DqAAAAAXRSTlMAQObYZgAAAllJREFU\n",
       "OMtjYKA64LuAVfgtqeawPoBghtNYpXk2QCgFNPHo/7t3Wz1AFeO8vL2UsYChBsgE4ZVYDeSaAKE+\n",
       "gEgwmxMi0czAwP4PVSwjgIGvIoCBC6SegYEXu4/vQqignyAS7ExpiJP/AvFvFLFZmkAiX4CBNYEB\n",
       "hDkmIDv+lpLSAjCrE0wyun+EGwgJGl6gAOs3FLEVIBNeADU3gPErZHedioTFFMRYXt5/aAYyA3Ux\n",
       "dSKLsX8BscSB2ASMy4Ck2G2R6yCfM1rCTGZPAFMvWb6iGci/gYFx8QRkMXmw3XOAOB2MlwLdmcCq\n",
       "ygFSwCwAj5MAcAg8AAUZioHn994tCkARqw+AafIC4z4GBjYG3g8sB4C8yXC/c4BTBh8D43c0A+8L\n",
       "MHBqo4jpw13xAoz/gSKf2wAioqQEjRR+sIGnd+/+jGagBcjQAGSx/wywlHUejMGhzgFJO4g0DjEQ\n",
       "SHShGQhKMfEJyGL9IAbYgxADW0B8+QNgKyYhvOwAUgXEGnADj4OTISiS9jsgi+0H6WRHeNkUmK4E\n",
       "7jPwgoS54eHLDGKJAPF6EK8ERKTCkiHjLxSx8yDfZYJ4UWAMjGv/AAsGWXCs6sEMZCsA8kChaQ+y\n",
       "SEgAljJByfAEOLPCxViB6fA5OGIgyeYRMHKvTcuFuE2qBpawFRgYLX4JMAT/Xw7y6GqfI8Zgn9n/\n",
       "3r1rKSQPwsQYTq8udwALrQNjDgHkrOK9CJr1GlGLuOy9BzCKPXQxaNZjTcBaOISRXrCyXYBgvMUX\n",
       "KWAWFEtjlWXcQLKBG6GYEXuBKEuqebwHwBgA/r6o5kZhYckAAAAASUVORK5CYII=\n",
       "\" style=\"display:inline;vertical-align:middle;\" /></a></td></tr>\n",
       "<tr><td>3</td><td>Operation</td><td>operator:&nbsp;4<br>operands:&nbsp;5<br></td><td><a class=\"ProveItLink\" href=\"../cc83dd3f287bd01c9f5312f6feec21c3cbdd79570/expr.ipynb\"><img src=\"data:image/png;base64,iVBORw0KGgoAAAANSUhEUgAAAJIAAAAVBAMAAABf4KrdAAAAMFBMVEX///+6uroyMjJERETMzMwQ\n",
       "EBAiIiKYmJju7u5mZmaqqqpUVFSIiIh2dnbc3NwAAAAWgogoAAAAAXRSTlMAQObYZgAAAhhJREFU\n",
       "OMtjYKAtkCFVA7sAdnGWDRAqAU28+v/u3UZoejgO75zON4FhCnaTmBog1AcQCWZzQCSCGRg4P6KK\n",
       "XS1gYJxawMCE3aQzEKrsB4gEO+w1xJF/gPg3ilhTBpC4/4CB/QKyOw+lpSmAWRFgkm/lP7hJ3mAR\n",
       "HqAA+18UMVWQ80SBmgOQTHKqgDIYIebx8HxEM4kZqJwtAlmM8xeI9RKIrRgY3p5+dfIAyAkWMCM5\n",
       "IS6V4PqOZhL/BgY+5QZksfdgS1uA+CYDxwX2dFaQDPMDeIAXgD0rAAoWFJP895yZVoAiNr8ApmkR\n",
       "Ay8DzwcuByCzGe5NVnBEMzLw/UQz6fwDBo5sFLF8uPWiwLjkNoAw09KgIc4PNsl79+7PaCaZgkwr\n",
       "QBb7zwBLKP4gJxxgQChGmAQkgtBMAiWA+gvIYvEgBthLIJPeO4ANbUP4bgFIGohT4SZ5gpMTKAb2\n",
       "L0AW2w/SyQnxHfuD8ww8ID43PPCYQaxXQKwP4s0CEddhyYnvE4qYP8g/N0C8Iob1BaYMb8BxlQgz\n",
       "iXcCkAcKMXuQDc8ewFIYKDm5ajAgi7ED05MkONRvMjSf7b0Dcc0jWC5kTGDgM/30gKH4vybIT9pL\n",
       "vIzBnrD/vXuTOiTbwMQYvLVnLgALKSJnt9Vq0NwSh5ILGW/vcUDPmRhiKLkFAWpJL9F4D+ArVUgB\n",
       "TdiF+TaQbNI+HOJvSDWIx4EBADYCjqoL8OOqAAAAAElFTkSuQmCC\n",
       "\" style=\"display:inline;vertical-align:middle;\" /></a></td></tr>\n",
       "<tr><td>4</td><td>Literal</td><td></td><td><a class=\"ProveItLink\" href=\"../../../membership/__pv_it/088cbc857536a28d4119ad9639a84270ccb0545d0/expr.ipynb\"><img src=\"data:image/png;base64,iVBORw0KGgoAAAANSUhEUgAAAAwAAAAMBAMAAACkW0HUAAAALVBMVEX///+qqqpmZmZUVFQQEBC6\n",
       "urpERETc3NyYmJjMzMwiIiIyMjKIiIju7u4AAACYsrA9AAAAAXRSTlMAQObYZgAAADxJREFUCNdj\n",
       "YOA9vWrVBgaG2b0MQMCeCyIZ2ArA1DUwyRCyahVIyWQI7xaEYm4AU7xLIdxqTQgtvGvVBgCkcQ7e\n",
       "geM/tQAAAABJRU5ErkJggg==\n",
       "\" style=\"display:inline;vertical-align:middle;\" /></a></td></tr>\n",
       "<tr><td>5</td><td>ExprTuple</td><td>6, 7</td><td><a class=\"ProveItLink\" href=\"../99a6064d5b62e786d1bbfa91fa81927a6da9444f0/expr.ipynb\"><img src=\"data:image/png;base64,iVBORw0KGgoAAAANSUhEUgAAAIAAAAAVBAMAAAB8u/sIAAAAMFBMVEX////c3NwiIiJERESqqqqY\n",
       "mJh2dnZmZmYQEBDu7u4yMjJUVFTMzMyIiIi6uroAAAAs73DqAAAAAXRSTlMAQObYZgAAAfpJREFU\n",
       "OMulVD1IW1EU/oJ5+hLz4kNEQRFdhDopWCFOdSuI0IfdXMxSVKS04O8gmMHJoQYFB+ngIvUHrNKh\n",
       "w6MkQ6FDhggFHUQMLmon2/qDBo3n3Oe7eq9bfHAP532c893ze4Fnf9Ht4n2NHImMjkYaNatU3v22\n",
       "oRmFfn8fDXzEJKmrOkH4lGVSmAnAbAWmcio24CA64SAMWE8y6LliKcKoE0CWTLKbCrbYTOKDDSMO\n",
       "M6n5B17/lQReegc20BdXsBX2OqZwEvijB2BZtxpBjM6L5GOs7Iy1GjovMUayeq9qV2ZyEjzXCPJA\n",
       "bYeCNSyx9plOP5YpjrjRZPqlD+UiNypBJL+/2wQFm3L867rwCSiFdRpM+2OBwKVKYFFN5jYVrMX2\n",
       "CY5xy40pb5UlyLjuf5WgJEEkaloF+J3OQlTMfOgl9XtGJaig240LBZtlRQSdxTTrDWncdzPIFZfG\n",
       "v8QYUMLlZwqWYusyL4V2orcPYCU9iio6X1kZYfHOHwOv7BLj0cIg//VSH/DGiaEeoX/cAzZ8xVSV\n",
       "5BZduh+DyIxgl5hBAR2JQvbjEJjfWXjvIDRrIxC7tvG28IWbt979s43dhguuu+a1TWLIrI93CmgD\n",
       "puxI1FbXfOhH+snq6xiNshGXa1vEg1C6/WidiyFYlCtLXzEv0xav7zOeNCuNO9e0i8nRXTt5AAAA\n",
       "AElFTkSuQmCC\n",
       "\" style=\"display:inline;vertical-align:middle;\" /></a></td></tr>\n",
       "<tr><td>6</td><td>Variable</td><td></td><td><a class=\"ProveItLink\" href=\"../../../../../__pv_it/530be409e3083890784cf1d7b28c9e67e90af9360/expr.ipynb\"><img src=\"data:image/png;base64,iVBORw0KGgoAAAANSUhEUgAAAAsAAAAJBAMAAAAWSsseAAAAKlBMVEX///9ERETMzMwQEBAiIiKY\n",
       "mJju7u5mZmaqqqpUVFSIiIh2dnbc3NwAAAA/vyDhAAAAAXRSTlMAQObYZgAAAENJREFUCNdjYDi9\n",
       "8sTyBQxsG1hdmR0YuBm4LnAoMLAxcAowgADzAjB1VoEhgYH1wFoGrgSG3gBhhlMMDImrs3cFMAAA\n",
       "t0YN+iTRa+sAAAAASUVORK5CYII=\n",
       "\" style=\"display:inline;vertical-align:middle;\" /></a></td></tr>\n",
       "<tr><td>7</td><td>Operation</td><td>operator:&nbsp;8<br>operands:&nbsp;9<br></td><td><a class=\"ProveItLink\" href=\"../03bec6c91937fb3ae9614bb3d90229ab423796710/expr.ipynb\"><img src=\"data:image/png;base64,iVBORw0KGgoAAAANSUhEUgAAAF8AAAAPBAMAAABw7A4xAAAAMFBMVEX///92dnYQEBBERERUVFS6\n",
       "urqIiIhmZmaqqqrc3Nzu7u6YmJgyMjIiIiLMzMwAAACFkkdwAAAAAXRSTlMAQObYZgAAAUVJREFU\n",
       "KM9jYACBtwyogNv/i4vzUTRBrmT3as4CCPs8WADMXAAmmQwYGOoDUMWENjCwFm2AGHgfJMQLYnI6\n",
       "gEXeJwCxA4rYmltAQn4CWHpG/QSYBj6IhnygwH4BFLFDIEODIC5KyA9A02AExJcWIIux/wAxp4Nl\n",
       "WRf0b0DT8IWBYY4Vitj8AyDmOrDsUrCTkTXwfUlLv82AIla/ARFeAQzzC1A1sP1kYFjrgCJ2fwJc\n",
       "PZ+Li78BqgZmBaCm3yhi/xEBzAoM9gOoGviBJPdHFDF9EIvjAYhsAIorwCXBUfke6GCWHyhi/iDD\n",
       "2cHRAtTA8wHEAzIYGDfAogEcLAgxcLhIgWMQ5OZfIJ03gUQMLBr4dBagiHEDLQwHeXyy/kkGbvs/\n",
       "IFvfeLxrBgU+Q/F/F5czkGCEizE8OVLegJYcGQJd8hgIiQEAVVFcKvJZFSgAAAAASUVORK5CYII=\n",
       "\" style=\"display:inline;vertical-align:middle;\" /></a></td></tr>\n",
       "<tr><td>8</td><td>Literal</td><td></td><td><a class=\"ProveItLink\" href=\"../6418fe022f81be5a21adfed64646f451794861820/expr.ipynb\"><img src=\"data:image/png;base64,iVBORw0KGgoAAAANSUhEUgAAAAwAAAAOBAMAAADpk+DfAAAALVBMVEX///+IiIhEREQyMjK6urqY\n",
       "mJh2dnaqqqpmZmbMzMxUVFTc3NwiIiLu7u4AAABVBm/gAAAAAXRSTlMAQObYZgAAADFJREFUCNdj\n",
       "uMAABLwMB0DULgg1i1RqBkM7iEpl2LOBgYHFgIHTqnK6EtBglqyFExgAhf0Tltg9/PUAAAAASUVO\n",
       "RK5CYII=\n",
       "\" style=\"display:inline;vertical-align:middle;\" /></a></td></tr>\n",
       "<tr><td>9</td><td>ExprTuple</td><td>10, 11, 12</td><td><a class=\"ProveItLink\" href=\"../3f290ae5514e8ababf154639022a3e6aa30f85750/expr.ipynb\"><img src=\"data:image/png;base64,iVBORw0KGgoAAAANSUhEUgAAAE8AAAAVBAMAAAD1D64kAAAAMFBMVEX////c3NwiIiJERESqqqqY\n",
       "mJh2dnZmZmYQEBDu7u4yMjJUVFTMzMyIiIi6uroAAAAs73DqAAAAAXRSTlMAQObYZgAAAZVJREFU\n",
       "KM+NUztLA0EQ/mI8k8vjDCgIWqQStEoaQSvzD0xlqenUQjwQH11SWFmYw0pE5CwEH6CChcUVCbYp\n",
       "ErCwURJsFKsoUdCAcXbn1iSFmoWb+765b3Yeuwd0vIzS/5oZYQqMr5VTy9WdyzPF9JurFY/pyxM8\n",
       "Zs/5T7g/DqQrLplPwlhPwgbCnFmLWUpYJE/xgvHuKJmlCKYpngX96YgSlgnNphgfia9PwA7wzJ5S\n",
       "WSXDOD0jHO6rCTsAeBNY5datqaQS1oHBCYZRW9g9oMfEofTsy8rkCtXvb4ddnFbR3Ta2JKggarq+\n",
       "8Auw7fYSU4UbGXzJXRwnF3d93gyJ3xg3pKV6Q1UWGtS97Qp7aTftnXFWps1L4YbACaAro8ZIdQVr\n",
       "jHOieR+nHqOXh4SBqszBYxTdWu7ssSDOw8acmL8o7QP6qzvG0KbFRKOdH0VDNJ4HoC97AG3y09Sz\n",
       "5FtuOM4JZZcEhdO1hIgOVOCPtNy4CH4hdIRaqkm11jvYRhab1+xPoS5mN9TkbXe9lQRFGZ4OfoU7\n",
       "4BvUnmWyIUTp6gAAAABJRU5ErkJggg==\n",
       "\" style=\"display:inline;vertical-align:middle;\" /></a></td></tr>\n",
       "<tr><td>10</td><td>Variable</td><td></td><td><a class=\"ProveItLink\" href=\"../../../../../__pv_it/2cbe72a7ad6f655694dd697106680215e8489b600/expr.ipynb\"><img src=\"data:image/png;base64,iVBORw0KGgoAAAANSUhEUgAAAA8AAAAOBAMAAAACpFvcAAAALVBMVEX///8QEBBERERUVFS6urqI\n",
       "iIhmZmaqqqrc3Nzu7u6YmJgyMjIiIiLMzMwAAADtIaYWAAAAAXRSTlMAQObYZgAAAFtJREFUCNdj\n",
       "YACBOwxQsA9Kc52bAGG05zVAGAFxDmCaZULdAjBjCsO9ADDDgaEvAUTzGhvbKYCVMDAwbgAxChgY\n",
       "eASANAeQwf0AyJgNxEwvGRia5HYwcOm9TgAA6BoR3jrzwFcAAAAASUVORK5CYII=\n",
       "\" style=\"display:inline;vertical-align:middle;\" /></a></td></tr>\n",
       "<tr><td>11</td><td>Variable</td><td></td><td><a class=\"ProveItLink\" href=\"../../../../../__pv_it/077b2ff79244fb4582cbe22c6e3356fa92a52f2f0/expr.ipynb\"><img src=\"data:image/png;base64,iVBORw0KGgoAAAANSUhEUgAAABAAAAAOBAMAAADUAYG5AAAAMFBMVEX///+qqqru7u4iIiJ2dnbc\n",
       "3NyIiIjMzMxmZmYQEBC6uroyMjJERERUVFSYmJgAAADLUcuvAAAAAXRSTlMAQObYZgAAAGpJREFU\n",
       "CNdjYGB4+//u3dMLGIBgDgMDxy8gzf4NiP8CGWxfGRj4vgAZPBMYGJgnARn8FxhY9ygAGfXX0pof\n",
       "gDTlBzAw2YIYJ0EckBBI53sHoBH/gIz7AhBjWH9DjancBLTl/N+7t/cxMAAA3u4f/5xagjYAAAAA\n",
       "SUVORK5CYII=\n",
       "\" style=\"display:inline;vertical-align:middle;\" /></a></td></tr>\n",
       "<tr><td>12</td><td>Variable</td><td></td><td><a class=\"ProveItLink\" href=\"../../../../../__pv_it/985a1bdf1540838275dec15f4ad6de261cca93ce0/expr.ipynb\"><img src=\"data:image/png;base64,iVBORw0KGgoAAAANSUhEUgAAAA8AAAAOBAMAAAACpFvcAAAAMFBMVEX////MzMyqqqoiIiIyMjK6\n",
       "uroQEBB2dnbc3NyYmJhmZmZUVFRERESIiIju7u4AAAB204erAAAAAXRSTlMAQObYZgAAAGZJREFU\n",
       "CNdjYGDgu7NrJccCBgaGsgkMrMsmMDA8sQNy6hsYGNweABlhDAxcn4A0QxcDQ78DiPGQgWH9BAYI\n",
       "sG+AMv6DSaCGfBDNJMDAsB+kmwuI5S8AiTog5gSaEwXWIO29SgFIAQBC+RaDQlidVgAAAABJRU5E\n",
       "rkJggg==\n",
       "\" style=\"display:inline;vertical-align:middle;\" /></a></td></tr>\n",
       "</table>\n"
      ],
      "text/plain": [
       "0. {x in (A union B union C)}\n",
       "   core type: Operation\n",
       "   operator: 1\n",
       "   operands: 2\n",
       "1. Set\n",
       "   core type: Literal\n",
       "   sub-expressions: \n",
       "2. (x in (A union B union C))\n",
       "   core type: ExprTuple\n",
       "   sub-expressions: 3\n",
       "3. x in (A union B union C)\n",
       "   core type: Operation\n",
       "   operator: 4\n",
       "   operands: 5\n",
       "4. in\n",
       "   core type: Literal\n",
       "   sub-expressions: \n",
       "5. (x , A union B union C)\n",
       "   core type: ExprTuple\n",
       "   sub-expressions: 6, 7\n",
       "6. x\n",
       "   core type: Variable\n",
       "   sub-expressions: \n",
       "7. A union B union C\n",
       "   core type: Operation\n",
       "   operator: 8\n",
       "   operands: 9\n",
       "8. union\n",
       "   core type: Literal\n",
       "   sub-expressions: \n",
       "9. (A , B , C)\n",
       "   core type: ExprTuple\n",
       "   sub-expressions: 10, 11, 12\n",
       "10. A\n",
       "    core type: Variable\n",
       "    sub-expressions: \n",
       "11. B\n",
       "    core type: Variable\n",
       "    sub-expressions: \n",
       "12. C\n",
       "    core type: Variable\n",
       "    sub-expressions: "
      ]
     },
     "execution_count": 4,
     "metadata": {},
     "output_type": "execute_result"
    }
   ],
   "source": [
    "# display the expression information\n",
    "expr.exprInfo()"
   ]
  },
  {
   "cell_type": "code",
   "execution_count": null,
   "metadata": {},
   "outputs": [],
   "source": []
  }
 ],
 "metadata": {
  "kernelspec": {
   "display_name": "Python 3",
   "language": "python",
   "name": "python3"
  }
 },
 "nbformat": 4,
 "nbformat_minor": 0
}
