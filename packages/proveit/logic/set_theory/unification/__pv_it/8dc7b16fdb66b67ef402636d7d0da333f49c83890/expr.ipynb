{
 "cells": [
  {
   "cell_type": "markdown",
   "metadata": {},
   "source": [
    "Expression of type <a class=\"ProveItLink\" href=\"../../../../../../../doc/html/api/proveit.ExprTuple.html\">ExprTuple</a>\n",
    "=======================\n",
    "# from context <a class=\"ProveItLink\" href=\"../../_context_.ipynb\">proveit.logic.set_theory.unification</a>"
   ]
  },
  {
   "cell_type": "code",
   "execution_count": 1,
   "metadata": {},
   "outputs": [],
   "source": [
    "# import Expression classes needed to build the expression\n",
    "from proveit import ExprTuple\n",
    "from proveit._common_ import A, B, C, D"
   ]
  },
  {
   "cell_type": "code",
   "execution_count": 2,
   "metadata": {},
   "outputs": [
    {
     "data": {
      "text/html": [
       "<strong id=\"expr\">expr:</strong> <a class=\"ProveItLink\" href=\"expr.ipynb\"><img src=\"data:image/png;base64,iVBORw0KGgoAAAANSUhEUgAAAGkAAAAVBAMAAAC3TN2zAAAAMFBMVEX////c3NwiIiJERESqqqqY\n",
       "mJh2dnZmZmYQEBDu7u4yMjJUVFTMzMyIiIi6uroAAAAs73DqAAAAAXRSTlMAQObYZgAAAfBJREFU\n",
       "OMudVDFLW1EU/tJ4G595eQYUBB2cCu2kS6mCYP6Bb3LUbOogBkpbtwTaqUMTOomU8hxEW0EFB8E3\n",
       "JLhmMODgohhcWjpFawuaVnvOPfc2r0OgeuGe953z3XPv98657wH3G17tjglTbKqC921QlZvhzqb1\n",
       "nMPdF7Gchiki9saARIWcT0Jv/d2rcxjI140z68Nb9AV3B8BEBqBHSgSqoZLNOqDIwbbg5SdkFtKG\n",
       "yNJBV8Ak7Syre/Npm3VKaDoreJ3Zr5YgAe5vYAn4JpHaqdWEEZqPZa/EJds+Q4zTjDWBeAYvpZCl\n",
       "Cd9mUbx/VOBgwPaDIb7TdIl9mMOqDnzUb6OH2zw5emRw3o9UnMVB/QQ6ArzTkToGc4ZMnQPvTTGG\n",
       "0pGs1C8yyRsSVsCN3iYMy8OGjBdowQ/Bt9qa6sYb3BZi3YZkeeQGJqt7W3TwKLLpqBiC9532ddYb\n",
       "DlDrHhRsuyievBRc5mMSkT7iNbTCp1xOyupqGCncLq5dyS6cswSdGeebpALM8A1g1VdwLky73Lcl\n",
       "cRSd+SVtCGqXu8aAKn8G9BRXoMavc06Rjnl+G4afSaR2UN14lRHsMPFMv2JXHZ2R4nrRQnvtCL5R\n",
       "KttyVZRTbTAw3/pS/j/L4R4NtPx/vupaG4wky43d9Q9wDPwB+mqFhV2344EAAAAASUVORK5CYII=\n",
       "\" style=\"display:inline;vertical-align:middle;\" /></a><br>"
      ],
      "text/plain": [
       "expr: (A , B , C , D)"
      ]
     },
     "execution_count": 2,
     "metadata": {},
     "output_type": "execute_result"
    }
   ],
   "source": [
    "# build up the expression from sub-expressions\n",
    "expr = ExprTuple(A, B, C, D)"
   ]
  },
  {
   "cell_type": "code",
   "execution_count": 3,
   "metadata": {},
   "outputs": [
    {
     "name": "stdout",
     "output_type": "stream",
     "text": [
      "Passed sanity check: built 'expr' is the same as the stored Expression.\n"
     ]
    }
   ],
   "source": [
    "# check that the built expression is the same as the stored expression\n",
    "%check_expr"
   ]
  },
  {
   "cell_type": "code",
   "execution_count": 4,
   "metadata": {},
   "outputs": [
    {
     "data": {
      "text/html": [
       "<table><tr><th>&nbsp;</th><th>core type</th><th>sub-expressions</th><th>expression</th></tr>\n",
       "<tr><td>0</td><td>ExprTuple</td><td>1, 2, 3, 4</td><td><a class=\"ProveItLink\" href=\"expr.ipynb\"><img src=\"data:image/png;base64,iVBORw0KGgoAAAANSUhEUgAAAGkAAAAVBAMAAAC3TN2zAAAAMFBMVEX////c3NwiIiJERESqqqqY\n",
       "mJh2dnZmZmYQEBDu7u4yMjJUVFTMzMyIiIi6uroAAAAs73DqAAAAAXRSTlMAQObYZgAAAfBJREFU\n",
       "OMudVDFLW1EU/tJ4G595eQYUBB2cCu2kS6mCYP6Bb3LUbOogBkpbtwTaqUMTOomU8hxEW0EFB8E3\n",
       "JLhmMODgohhcWjpFawuaVnvOPfc2r0OgeuGe953z3XPv98657wH3G17tjglTbKqC921QlZvhzqb1\n",
       "nMPdF7Gchiki9saARIWcT0Jv/d2rcxjI140z68Nb9AV3B8BEBqBHSgSqoZLNOqDIwbbg5SdkFtKG\n",
       "yNJBV8Ak7Syre/Npm3VKaDoreJ3Zr5YgAe5vYAn4JpHaqdWEEZqPZa/EJds+Q4zTjDWBeAYvpZCl\n",
       "Cd9mUbx/VOBgwPaDIb7TdIl9mMOqDnzUb6OH2zw5emRw3o9UnMVB/QQ6ArzTkToGc4ZMnQPvTTGG\n",
       "0pGs1C8yyRsSVsCN3iYMy8OGjBdowQ/Bt9qa6sYb3BZi3YZkeeQGJqt7W3TwKLLpqBiC9532ddYb\n",
       "DlDrHhRsuyievBRc5mMSkT7iNbTCp1xOyupqGCncLq5dyS6cswSdGeebpALM8A1g1VdwLky73Lcl\n",
       "cRSd+SVtCGqXu8aAKn8G9BRXoMavc06Rjnl+G4afSaR2UN14lRHsMPFMv2JXHZ2R4nrRQnvtCL5R\n",
       "KttyVZRTbTAw3/pS/j/L4R4NtPx/vupaG4wky43d9Q9wDPwB+mqFhV2344EAAAAASUVORK5CYII=\n",
       "\" style=\"display:inline;vertical-align:middle;\" /></a></td></tr>\n",
       "<tr><td>1</td><td>Variable</td><td></td><td><a class=\"ProveItLink\" href=\"../../../../../__pv_it/2cbe72a7ad6f655694dd697106680215e8489b600/expr.ipynb\"><img src=\"data:image/png;base64,iVBORw0KGgoAAAANSUhEUgAAAA8AAAAOBAMAAAACpFvcAAAALVBMVEX///8QEBBERERUVFS6urqI\n",
       "iIhmZmaqqqrc3Nzu7u6YmJgyMjIiIiLMzMwAAADtIaYWAAAAAXRSTlMAQObYZgAAAFtJREFUCNdj\n",
       "YACBOwxQsA9Kc52bAGG05zVAGAFxDmCaZULdAjBjCsO9ADDDgaEvAUTzGhvbKYCVMDAwbgAxChgY\n",
       "eASANAeQwf0AyJgNxEwvGRia5HYwcOm9TgAA6BoR3jrzwFcAAAAASUVORK5CYII=\n",
       "\" style=\"display:inline;vertical-align:middle;\" /></a></td></tr>\n",
       "<tr><td>2</td><td>Variable</td><td></td><td><a class=\"ProveItLink\" href=\"../../../../../__pv_it/077b2ff79244fb4582cbe22c6e3356fa92a52f2f0/expr.ipynb\"><img src=\"data:image/png;base64,iVBORw0KGgoAAAANSUhEUgAAABAAAAAOBAMAAADUAYG5AAAAMFBMVEX///+qqqru7u4iIiJ2dnbc\n",
       "3NyIiIjMzMxmZmYQEBC6uroyMjJERERUVFSYmJgAAADLUcuvAAAAAXRSTlMAQObYZgAAAGpJREFU\n",
       "CNdjYGB4+//u3dMLGIBgDgMDxy8gzf4NiP8CGWxfGRj4vgAZPBMYGJgnARn8FxhY9ygAGfXX0pof\n",
       "gDTlBzAw2YIYJ0EckBBI53sHoBH/gIz7AhBjWH9DjancBLTl/N+7t/cxMAAA3u4f/5xagjYAAAAA\n",
       "SUVORK5CYII=\n",
       "\" style=\"display:inline;vertical-align:middle;\" /></a></td></tr>\n",
       "<tr><td>3</td><td>Variable</td><td></td><td><a class=\"ProveItLink\" href=\"../../../../../__pv_it/985a1bdf1540838275dec15f4ad6de261cca93ce0/expr.ipynb\"><img src=\"data:image/png;base64,iVBORw0KGgoAAAANSUhEUgAAAA8AAAAOBAMAAAACpFvcAAAAMFBMVEX////MzMyqqqoiIiIyMjK6\n",
       "uroQEBB2dnbc3NyYmJhmZmZUVFRERESIiIju7u4AAAB204erAAAAAXRSTlMAQObYZgAAAGZJREFU\n",
       "CNdjYGDgu7NrJccCBgaGsgkMrMsmMDA8sQNy6hsYGNweABlhDAxcn4A0QxcDQ78DiPGQgWH9BAYI\n",
       "sG+AMv6DSaCGfBDNJMDAsB+kmwuI5S8AiTog5gSaEwXWIO29SgFIAQBC+RaDQlidVgAAAABJRU5E\n",
       "rkJggg==\n",
       "\" style=\"display:inline;vertical-align:middle;\" /></a></td></tr>\n",
       "<tr><td>4</td><td>Variable</td><td></td><td><a class=\"ProveItLink\" href=\"../../../../../__pv_it/185e6d30f167ee2ee5ef3321098dc98e0d77bc590/expr.ipynb\"><img src=\"data:image/png;base64,iVBORw0KGgoAAAANSUhEUgAAABEAAAAOBAMAAAA7w+qHAAAALVBMVEX///8QEBCYmJjc3Ny6urru\n",
       "7u5mZmZ2dnaqqqrMzMxEREQyMjJUVFSIiIgAAABETr/8AAAAAXRSTlMAQObYZgAAAGpJREFUCNdj\n",
       "YGC48+7MmV0TGEDgNQMDxwsQg/M5kMgLABK8T4DEvAtAgusBkLA7ACT4FoDEDsAk9AqAxD2QCecc\n",
       "gMQ6kAGCIOIVEDM9Ahn3FkgwgnTxvgQSqwOgxs1OADLC1r05cyoTyAAAv4Qe+njAWvgAAAAASUVO\n",
       "RK5CYII=\n",
       "\" style=\"display:inline;vertical-align:middle;\" /></a></td></tr>\n",
       "</table>\n"
      ],
      "text/plain": [
       "0. (A , B , C , D)\n",
       "   core type: ExprTuple\n",
       "   sub-expressions: 1, 2, 3, 4\n",
       "1. A\n",
       "   core type: Variable\n",
       "   sub-expressions: \n",
       "2. B\n",
       "   core type: Variable\n",
       "   sub-expressions: \n",
       "3. C\n",
       "   core type: Variable\n",
       "   sub-expressions: \n",
       "4. D\n",
       "   core type: Variable\n",
       "   sub-expressions: "
      ]
     },
     "execution_count": 4,
     "metadata": {},
     "output_type": "execute_result"
    }
   ],
   "source": [
    "# display the expression information\n",
    "expr.exprInfo()"
   ]
  },
  {
   "cell_type": "code",
   "execution_count": null,
   "metadata": {},
   "outputs": [],
   "source": []
  }
 ],
 "metadata": {
  "kernelspec": {
   "display_name": "Python 3",
   "language": "python",
   "name": "python3"
  }
 },
 "nbformat": 4,
 "nbformat_minor": 0
}
