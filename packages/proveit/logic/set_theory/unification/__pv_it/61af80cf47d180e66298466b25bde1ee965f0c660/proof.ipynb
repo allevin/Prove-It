{
 "cells": [
  {
   "cell_type": "markdown",
   "metadata": {},
   "source": [
    "Show the Proof\n",
    "========"
   ]
  },
  {
   "cell_type": "code",
   "execution_count": 1,
   "metadata": {},
   "outputs": [
    {
     "data": {
      "text/html": [
       "<table><tr><th>&nbsp;</th><th>step type</th><th>requirements</th><th>statement</th></tr>\n",
       "<tr><td>0</td><td>assumption</td><td></td><td><span style=\"font-size:20px;\"><a class=\"ProveItLink\" href=\"../3e5ff7393a2c2c2af0e9b0393014af392ca383c10/expr.ipynb\"><img src=\"data:image/png;base64,iVBORw0KGgoAAAANSUhEUgAAAREAAAAVCAMAAABWrCoeAAAAQlBMVEX///9bW1sNDQ0JCQkdHR0P\n",
       "Dw8WFhbc3NxERESqqqpUVFS6urrMzMwyMjIQEBCIiIh2dnYiIiLu7u5mZmaYmJgAAABpSzxXAAAA\n",
       "AXRSTlMAQObYZgAAAydJREFUWMO1mOm6nCAMhmlPWxAMO/d/q3VhX3R4Rv0xOiqvMST5IgjtmzUW\n",
       "fbIxjV7b3mR/Al+lxOFYKxlHistRagy27NaqF9mPwFe++CPh4jl67cbe5VWde7Oi+cHDy5Y6R7eN\n",
       "APuAPW24FoSaLTGwyeEG/IHk4RRcB5fpzRUEf0J5HlesWTYn53nHWva3cMmPKsHMsQdUOyIeiOvQ\n",
       "Q6oXdMp5a6wsjTTF31n26oTf05b9HVxDSCLpcA5vPcLHntYC1L+/qp4rhBfjfEHSvHgjUubuLFt4\n",
       "rHWyYX8Jh3g744XhjUcYjBMRrEYEtxfEZnoISbJkFygrJm6aTbxR6jS/YH8HNy6ysCkMbzxifPRg\n",
       "KShehEkPxUTvwdZVtcUF5ZYmj8wyVqfZR7IgDEQ37CG8pXfg2KW/ei3g0SOhxML5alru1cEinh56\n",
       "OLmTrJqlhEdoyZ4sN5bJ5nWWvZUPIYRRtsMewTv0Dty4pvcKcOuCDPuw93vpBXmJqqTJoJ6zw+em\n",
       "yMpUy3D2FrNsX0a0oi17BG/pPbhyTfJH+FGwV8rDeF8Q9vGUlCOUUn9+th+oZH7fHInzmhTomBaa\n",
       "2ohZdigjws9oxh7CW3oP7jKSrg0nR7ix4BKXVJuLpsGRSzdEtnuh9cgpBVljNMt2FGVSU3rkCl7S\n",
       "e3CeSCGWIjw079S/Ek812K3Jg3vsdpuRJahBkzWLTySIATrJXkOyUy8MWdZcwSt6D05dfHad7qGO\n",
       "IOnHkNMKi8++XqT0o3br79pWpGpabQzNYOwSB02yQzcShSGxx/AOvQNPSiB1ZXijvqcI7Wq6ZzHO\n",
       "wk8rRutPi6hpJDg9KuRKmmZxjh3KyMqhZo/hPXoPbs+wYwZX4zsdmjrrs5BaSlFoFIbfJRgT7o7J\n",
       "ssQ531MDiw1U017PsJEh52ceQLwxssfwLr2F79UFts+8XL3ZsIvH42/mXxQaramChpcVtzx8iv0m\n",
       "vPVI/T2VhzG+XaKQl59bb7KfgidH3K8GYHLL1XB9/U32Q/C4PqJVcBIeLbyI+1VHejMZb7Kfgcfm\n",
       "/Yg6X2fwIDrvPS3ulrleZT8AD+us/wGB0TrUg32sXwAAAABJRU5ErkJggg==\n",
       "\" style=\"display:inline;vertical-align:middle;\" /></a> <a class=\"ProveItLink\" href=\"proof.ipynb\" style=\"text-decoration: none\">&#x22A2;&nbsp;</a><a class=\"ProveItLink\" href=\"../55a9e4406892f7dcc2f0361b422005dce0c7407b0/expr.ipynb\"><img src=\"data:image/png;base64,iVBORw0KGgoAAAANSUhEUgAAAPsAAAAVCAMAAAC34mhmAAAAQlBMVEX///9bW1sNDQ0JCQkdHR0P\n",
       "Dw8WFhbc3NwiIiJERESqqqqYmJh2dnZmZmYQEBDu7u4yMjJUVFTMzMyIiIi6uroAAAASwAKsAAAA\n",
       "AXRSTlMAQObYZgAAAspJREFUWMPFmNuWnCAQRUkyCSB3gf//1UHuCOiwbFd8aLsFtyWcUwUNwO1h\n",
       "BHjteJP9I7jRl81ojiDmf7I/AN/VJWHYvKNwZjtYv3naTJS1yh1Ymh+wlwMXGivGCIAsw+W1NNho\n",
       "/KVNX9rr8MRaZXMcrlvTs5/CKSdeLMyfPVxfCwegkWSQjc8ltA2HNT9X2bvV8ax69jO4kMkC1MIE\n",
       "5/PRE1qif3/RefwB3Ji//+jCm9hx67FVto5YYmnHfgiXubvhKXAj54aRRAAM+wbtgkyCwlvVoEwz\n",
       "GctsHN8WhUAb9jM4s5kFWQqcRWFBqhXcNCt4iMUhlWHt2CxJLmK1rlqlLbO91AGUWHTsKbynD+DQ\n",
       "lp9iT3AZXkLQw8UE8IL3AzcwlTDFmABs1TOoY7FqrlbZzuZaa4bIgD2DD+gDOMtzlQ8H50G81LvN\n",
       "XcmFReBJLjV+HFnjnpJdYBXvKjvaXSDVs2fwnj6CI9tZ18GjcY+eCrdtCKGvP+5DnsrmcVic56pk\n",
       "fz/UqpTlVXayu46zVLGn8J4+gtuKJHLgtlRBrrulAd2G0+76yv7dQxqulhSrbBtvDWm+ffcreEsf\n",
       "wXkhJX04OC/5z+5lVA7lDYv7ljJxp/kt2kBmeS2y92RKFZNypfkr+Ik+giubn12ZFYfnEehNA3Sx\n",
       "iSJuDdSX9tPCjmRhpbC2fNMiO1X3nJQLew4f0AfwkpupKIGHOnLUrMNtsBKPQEadl9S5cuA0kLkO\n",
       "7bhbUK2xk913Ls/sOXxEH8FJkJJhsLrfoJAbNRWU6qYSQPm7RUDMrZ8Agq2NK0xp8tKjW2yusAHD\n",
       "YSMjZe6Y2XP4kN7Djywg3UamrpEOyeF8p/dLyS7Pn4TA2xzYfv0U+y34ecdQixDebqHp5YbiTfZH\n",
       "4NOtIMS3BCGv299kfwIOZ38BaHKLUDcD/Cb7I3A40db96Om7v1ZeZT+FfwMWdzT6VPeiCwAAAABJ\n",
       "RU5ErkJggg==\n",
       "\" style=\"display:inline;vertical-align:middle;\" /></a></span></td></tr>\n",
       "</table>"
      ],
      "text/plain": [
       "<proveit._core_.proof._ShowProof at 0x7f94e610acf8>"
      ]
     },
     "execution_count": 1,
     "metadata": {},
     "output_type": "execute_result"
    }
   ],
   "source": [
    "import proveit\n",
    "%show_proof"
   ]
  },
  {
   "cell_type": "code",
   "execution_count": null,
   "metadata": {},
   "outputs": [],
   "source": []
  }
 ],
 "metadata": {
  "kernelspec": {
   "display_name": "Python 3",
   "language": "python",
   "name": "python3"
  }
 },
 "nbformat": 4,
 "nbformat_minor": 0
}
