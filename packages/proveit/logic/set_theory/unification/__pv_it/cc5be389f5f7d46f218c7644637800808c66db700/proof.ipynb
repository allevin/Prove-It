{
 "cells": [
  {
   "cell_type": "markdown",
   "metadata": {},
   "source": [
    "Show the Proof\n",
    "========"
   ]
  },
  {
   "cell_type": "code",
   "execution_count": 1,
   "metadata": {},
   "outputs": [
    {
     "data": {
      "text/html": [
       "<table><tr><th>&nbsp;</th><th>step type</th><th>requirements</th><th>statement</th></tr>\n",
       "<tr><td>0</td><td>assumption</td><td></td><td><span style=\"font-size:20px;\"><a class=\"ProveItLink\" href=\"../e0c9db3c19bee51080e385c74c4673cc981b366f0/expr.ipynb\"><img src=\"data:image/png;base64,iVBORw0KGgoAAAANSUhEUgAAAKcAAAAVBAMAAADROuOhAAAAMFBMVEX///9ERETc3NyqqqpUVFS6\n",
       "urrMzMwyMjIQEBCIiIh2dnYiIiLu7u5mZmaYmJgAAABJJ2g3AAAAAXRSTlMAQObYZgAAAm1JREFU\n",
       "OMtjYGDgu8dAPcC2SgFE8ezCIR9JqoF8ASBTm0FMzg847HSAUBvQxJ/8d3ERD0AV45noe4/pAsM1\n",
       "EPs6iOBqwG4o+wEIBbYTzOaBSDQyMPB+RRVb8YCB9cYDBnYwG5+hMyHU6z8gEuxcFYjTfwLxFxSx\n",
       "43uAxHoFBr4F2A3lmb57dwGY1QMmmWw/wQ1NAYtwAgX4fqGIVYAcHQHU3IDd0PQ3UAYrxGhOzq9o\n",
       "hjIC1XP3IIvxfgaxdIFYGMVQrSnKcyeAHCYDM513AZiKYf6HZii/AwNT4QFkMX2w/ceAeC3MUF6g\n",
       "EM8Cvn0cIEWMCvB4egAOjQBQEKIYmu858/YDFLH7D2CazIH4PYiRAUweXMCExZwA5ByEhwMHONWw\n",
       "MjD9RTN0vgIDzxYUsf1wl0SAXHMBKNoGThgsAhDR3buhEcUPNjTFxeUjmqESIIMfIIv9Z4ClunwQ\n",
       "QxwoGZEAdtgEBoQ+hKFAoh3NUFBqer8AWawfxAB7FGQoN0iOBeww/QSwVacR3jcAqQTiHXBDc8HJ\n",
       "FBRx/gbIYv4gnbww74PDlAsoyacwn4ETJMUCD3NGEEsZiOtBvMsgYh0smTJ9RxHLB/lyDYj3HDlJ\n",
       "2T+QYNAEx/ZWmKFcwPDmAXlCHmSZtgIs5YKSaUYNA7IYHzCdxoIjay2yoQdnnVoJcaP6NVji38DA\n",
       "JPFdgeHh/1qQp0vMkgXBvpT/4uJeB8mvMDGGlJK7BmChUhx536Qamk2bUIRZl3gmoJcOGGK4sikC\n",
       "vCK9hOaaADOUD3/RRwo4Di9PeXZiV8HkQLKhTqCQboXUAouxK9Ek1UzOBGgdBQA23rJQ4o3mJgAA\n",
       "AABJRU5ErkJggg==\n",
       "\" style=\"display:inline;vertical-align:middle;\" /></a> <a class=\"ProveItLink\" href=\"proof.ipynb\" style=\"text-decoration: none\">&#x22A2;&nbsp;</a><a class=\"ProveItLink\" href=\"../cc83dd3f287bd01c9f5312f6feec21c3cbdd79570/expr.ipynb\"><img src=\"data:image/png;base64,iVBORw0KGgoAAAANSUhEUgAAAJIAAAAVBAMAAABf4KrdAAAAMFBMVEX///+6uroyMjJERETMzMwQ\n",
       "EBAiIiKYmJju7u5mZmaqqqpUVFSIiIh2dnbc3NwAAAAWgogoAAAAAXRSTlMAQObYZgAAAhhJREFU\n",
       "OMtjYKAtkCFVA7sAdnGWDRAqAU28+v/u3UZoejgO75zON4FhCnaTmBog1AcQCWZzQCSCGRg4P6KK\n",
       "XS1gYJxawMCE3aQzEKrsB4gEO+w1xJF/gPg3ilhTBpC4/4CB/QKyOw+lpSmAWRFgkm/lP7hJ3mAR\n",
       "HqAA+18UMVWQ80SBmgOQTHKqgDIYIebx8HxEM4kZqJwtAlmM8xeI9RKIrRgY3p5+dfIAyAkWMCM5\n",
       "IS6V4PqOZhL/BgY+5QZksfdgS1uA+CYDxwX2dFaQDPMDeIAXgD0rAAoWFJP895yZVoAiNr8ApmkR\n",
       "Ay8DzwcuByCzGe5NVnBEMzLw/UQz6fwDBo5sFLF8uPWiwLjkNoAw09KgIc4PNsl79+7PaCaZgkwr\n",
       "QBb7zwBLKP4gJxxgQChGmAQkgtBMAiWA+gvIYvEgBthLIJPeO4ANbUP4bgFIGohT4SZ5gpMTKAb2\n",
       "L0AW2w/SyQnxHfuD8ww8ID43PPCYQaxXQKwP4s0CEddhyYnvE4qYP8g/N0C8Iob1BaYMb8BxlQgz\n",
       "iXcCkAcKMXuQDc8ewFIYKDm5ajAgi7ED05MkONRvMjSf7b0Dcc0jWC5kTGDgM/30gKH4vybIT9pL\n",
       "vIzBnrD/vXuTOiTbwMQYvLVnLgALKSJnt9Vq0NwSh5ILGW/vcUDPmRhiKLkFAWpJL9F4D+ArVUgB\n",
       "TdiF+TaQbNI+HOJvSDWIx4EBADYCjqoL8OOqAAAAAElFTkSuQmCC\n",
       "\" style=\"display:inline;vertical-align:middle;\" /></a></span></td></tr>\n",
       "</table>"
      ],
      "text/plain": [
       "<proveit._core_.proof._ShowProof at 0x7f95000b0518>"
      ]
     },
     "execution_count": 1,
     "metadata": {},
     "output_type": "execute_result"
    }
   ],
   "source": [
    "import proveit\n",
    "%show_proof"
   ]
  },
  {
   "cell_type": "code",
   "execution_count": null,
   "metadata": {},
   "outputs": [],
   "source": []
  }
 ],
 "metadata": {
  "kernelspec": {
   "display_name": "Python 3",
   "language": "python",
   "name": "python3"
  }
 },
 "nbformat": 4,
 "nbformat_minor": 0
}
