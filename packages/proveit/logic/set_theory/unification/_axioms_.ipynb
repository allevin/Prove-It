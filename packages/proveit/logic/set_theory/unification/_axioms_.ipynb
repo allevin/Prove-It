{
 "cells": [
  {
   "cell_type": "markdown",
   "metadata": {},
   "source": [
    "Axioms for context <a href=\"_context_.ipynb\" class=\"ProveItLink\">proveit.logic.set_theory.unification</a>\n",
    "========"
   ]
  },
  {
   "cell_type": "code",
   "execution_count": 1,
   "metadata": {},
   "outputs": [
    {
     "name": "stdout",
     "output_type": "stream",
     "text": [
      "Defining axioms for context 'proveit.logic.set_theory.unification'\n",
      "Subsequent end-of-cell assignments will define axioms\n",
      "%end_axioms will finalize the definitions\n"
     ]
    }
   ],
   "source": [
    "from proveit.logic import Forall, Or, Equals, InSet, Union\n",
    "from proveit._common_ import m, x\n",
    "from proveit.logic._common_ import iterA1m\n",
    "from proveit.logic.set_theory._common_ import x_in_any_A\n",
    "from proveit.number import NaturalsPos\n",
    "%begin axioms"
   ]
  },
  {
   "cell_type": "markdown",
   "metadata": {},
   "source": [
    "**Membership in the union of sets is the same as having membership in *any* of the sets being unified:**"
   ]
  },
  {
   "cell_type": "code",
   "execution_count": 2,
   "metadata": {},
   "outputs": [
    {
     "data": {
      "text/html": [
       "<strong id=\"unionDef\">unionDef:</strong> <a class=\"ProveItLink\" href=\"__pv_it/d8745fd409686513ccad6026c8fb314e8b5c3f2c0/expr.ipynb\"><img src=\"data:image/png;base64,iVBORw0KGgoAAAANSUhEUgAAArQAAAAXBAMAAAAIB8GAAAAAMFBMVEX///8QEBC6urrMzMxUVFRm\n",
       "ZmZERETc3NwyMjKqqqp2dnaIiIiYmJgiIiLu7u4AAAAU9Wx4AAAAAXRSTlMAQObYZgAABu1JREFU\n",
       "WMPtWXuIVFUY/+a1dx537mpSYqHOUmFk4ZVyfVTukJKJqRvlHybRFDQiZs0fi7u52C6SGOFjwjYE\n",
       "kQZRtIx1IBXRzIlespIN2x9aNDpC2GK5rvnCUG/nee+5957rzh3oPz/4ztw9M9/rd7/zne+cBbhL\n",
       "/xdVa/hN4tTM+g1MZOymYJF8hG741CgKqCnKMqtMv4Ra8pZ07VHU7AzmY/1QxnPH76w3nkoSyWId\n",
       "yIbSlCX0JP1I/utTpU3gJcZuq1y/hM4UBOlao/DhDObt8Bme2jgctHH8mqPVOqDFQh6CzOreK+aM\n",
       "5rGQqtaXdgGkm7HbqndUcSMtSAOQ3A25VxUZdbhj6FJnogTalWhUMsNBS36xsp56cJixpMywemDc\n",
       "slIAD4o7Q8jSauMZJAigpVSg7Laa8K4HRlmQBpgFUifDuqnlsGc6S53BvJ28j0h+OGhJBiyuB9px\n",
       "jE36a0PlFHkI0EyI7jXs0IY8oOXrWxRAuTyCsttqQMw07WCl0s3/+NAYEqQBmvFw2g0bzqdkFTwj\n",
       "8HQG83ZQd7W3r4Zhoe1rb28v14FssJuy5e96HvEj9ONIwKj6glYUQLSMsdMq109p2glhuZTH3xal\n",
       "IZoDiLW6nV+HuMfU547A25llGFq4ls3+Njy0jdnsikId0EYKlJU9c7YuwRMrTU9eIaNyOWqk/EBr\n",
       "E0C0k7HTKtG/at+7+/GKVt4Wvu3SN/0jShNYMbxO6mHwekXg7cxOAi0qNEvlgIrQorrTkKtnFytR\n",
       "Pg8/lcbiCcvWejI2tEaMkh9obQKItjCGyAeE0swq1q8V1N8DWNjm+5vw2k1RmhSDZtnuX6VFwSsC\n",
       "b2e2EGgfAq1bnnAitME0DNiWnLwZdU0HUpQLcBQ242pk7Zj3kPEbSBitrK7VBC0TMKmJsdMq1h+H\n",
       "xFAMb0bnxL1mBBy9yitsE9/1npVvtOEU1yeJwNuZJgJtEhIlu8Zpi1KJe6t2aFF0X9mclzejrunG\n",
       "FOUqPEexH1upsE2ALErtBgSNDIReLtcILRMQtnvGTqtYvwZh+tMmZJVvYxfzMOkawJT5YEomPdKr\n",
       "zPLJIwJvZ1oItIlSUige2v5FJTXTC72OrEXA2rbQF69JoXVNc2gBHnD23gTa8KWR43ErFKsVWi5Q\n",
       "E7ToXRfF0wmhhSNHko5pmwVtJB8vycJZDF9Y+twReDtDodW6RbsHJgxW1eMR6I3Mnj97rgDtgC3i\n",
       "4K+XpPXANR3IU0YFn/T8muXIGDx8NHPwT9wKidC2yqGdAqKAuyBEKoQyzCrV36WT88YF6/exUYOD\n",
       "XQaHlhYEpTspzZQOatkrAm9naEGApajMqEsm7kgc0EHFYanTpxZdWdvQhob4vomz6AqaYMjOJ+7p\n",
       "hhLlHxND8DWeeMH86i3sJ47/zHUOLWmwSQJp/BCmAe+oSQJxAe4wOqwzdlrF+tXcUUhgLWErKc8i\n",
       "G0kjx6BlkrOOW6dBzToRhp8umvokEXg7c4xC24Oi+ntSKZlW0/Tgp+q937qgjb2KHnrDmTGsycA9\n",
       "xwIntHTa1ma0Eo7dbBihEDcvpMRGpQ3n2Ds3OLTKSd6PXkR/a7fYA6zO8d6SC3CH5c0XtoonPy29\n",
       "Dp0EhH6zXcIVs8HIM2iZZDOtdsSYaRotoBVVrk8WgbcztPki5ei9g9CoIwUzKLTx+AIntKTSpKL0\n",
       "7YfGwaYizBjtPL6QaXuJKBPWlvd+TrdBZa3Ovnoc1TADZflCw7jMoIVpc5/4hLSgZ5HX2n3sAULv\n",
       "b56exVGaAtxhgDWMnVax/nOHzu+hHnfwixjDuA1hwzB0Ci2TjNIiRIyZphGtNfVJIriDM2sotCr2\n",
       "eR5Mhmgenslms0VVV06cdkFLjjONtD9Mop0AvaSTznpAp200mrFV657nB12x12TQwqOzv5QW8R3z\n",
       "dPsMc9jjoDvaqR8+3lBxNAHbwJIMeVy/zBT0uSPwdIYedBmNggPQFYQ/aNbCg6iqKHZoCU2mF0E7\n",
       "AH4uu6Gl099v/e4x67qhj7GbbJcqMb+naOYwxIuU7dQHsksbN7TxGu9J+/w5g5lDqwwh5H+IQzhH\n",
       "oVV7HQdd+m6HdkNBWYcXPrQMEWg7cspG6KgqG63prZlA6mEfl4p1QcsdJo3ngM9LRQvaAR9Xoz6c\n",
       "GQAL2mAGfoHmXaC9gfcRNKRl0GrLew5VQzfhzBVQx1/KY2hbSqHr0JILXbemw/oFegsM/IpQkV8k\n",
       "twnO7b7q756dOwxzgLIj2LRdv4RWbVoik/QAL+3LmTkCtBaKqNa6D3wVsdCp5hMuCCXXdBJ6oGw1\n",
       "O52MJf7W818Lp2s6ZSd11qRfJimnTj/OYD7SX0c0U/nDU/fnIZRzTZ9DObtch7vkn2xHQlU+fZcA\n",
       "/gON3n8yixl8qgAAAABJRU5ErkJggg==\n",
       "\" style=\"display:inline;vertical-align:middle;\" /></a><br>"
      ],
      "text/plain": [
       "unionDef: forall_{m in NaturalsPos} [forall_{x, A_1,...,A_m} ((x in (A_1 union  ...  union A_m)) = ((x in A_1) or  ...  or (x in A_m)))]"
      ]
     },
     "execution_count": 2,
     "metadata": {},
     "output_type": "execute_result"
    }
   ],
   "source": [
    "unionDef = Forall(m, Forall((x, iterA1m), \n",
    "                            Equals(InSet(x, Union(iterA1m)), x_in_any_A)),\n",
    "                  domain=NaturalsPos)"
   ]
  },
  {
   "cell_type": "code",
   "execution_count": 3,
   "metadata": {},
   "outputs": [
    {
     "name": "stdout",
     "output_type": "stream",
     "text": [
      "Axioms may be imported from autogenerated _axioms_.py\n"
     ]
    }
   ],
   "source": [
    "%end axioms"
   ]
  },
  {
   "cell_type": "code",
   "execution_count": null,
   "metadata": {},
   "outputs": [],
   "source": []
  }
 ],
 "metadata": {
  "kernelspec": {
   "display_name": "Python 3",
   "language": "python",
   "name": "python3"
  }
 },
 "nbformat": 4,
 "nbformat_minor": 0
}
