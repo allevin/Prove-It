{
 "cells": [
  {
   "cell_type": "markdown",
   "metadata": {},
   "source": [
    "Proof of <a class=\"ProveItLink\" href=\"../../../../_context_.ipynb\">proveit</a>.<a class=\"ProveItLink\" href=\"../../../_context_.ipynb\">logic</a>.<a class=\"ProveItLink\" href=\"../../_context_.ipynb\">set_theory</a>.<a class=\"ProveItLink\" href=\"../_context_.ipynb\">unification</a>.<a href=\"../_theorems_.ipynb#membershipUnfolding\" class=\"ProveItLink\">membershipUnfolding</a> theorem\n",
    "========\n",
    "*** see <a href=\"../__pv_it/4844221c8e6552ac926997569f1c568644f055d40/dependencies.ipynb\" class=\"ProveItLink\">dependencies</a> ***"
   ]
  },
  {
   "cell_type": "code",
   "execution_count": 1,
   "metadata": {},
   "outputs": [
    {
     "name": "stdout",
     "output_type": "stream",
     "text": [
      "Beginning proof of membershipUnfolding\n",
      "Recorded 'presuming' information\n"
     ]
    },
    {
     "data": {
      "text/html": [
       "<strong id=\"membershipUnfolding\">membershipUnfolding:</strong> <a class=\"ProveItLink\" href=\"../__pv_it/41c28d4a48cf8b558a1a469dd054cd47262016f20/expr.ipynb\"><img src=\"data:image/png;base64,iVBORw0KGgoAAAANSUhEUgAAAk8AAAAZBAMAAADaodeeAAAAMFBMVEX///8QEBC6urrMzMxUVFRm\n",
       "ZmZERETc3NwyMjKqqqp2dnaIiIiYmJgiIiLu7u4AAAAU9Wx4AAAAAXRSTlMAQObYZgAABp1JREFU\n",
       "WMPlmX2IVFUUwM98z7x583ZWKbHQ3agwsGVHqNWM2kFFi1I3xD/MP5qCVsSogURNqR2CEELXiRSC\n",
       "RdxCkVoYJ9JF03LMrFCyyf6wonFHiE0s1/Ujl7XV1/189755d3beCkuGB86b++6ce+a9373n3nPv\n",
       "ALiRYOk03MnSVOp2ZxiDO1xCSSi7BFX+jx/Vm6eqltYsK3zl1t/0al/4hkVZb6SKQRVxxYnaoFzZ\n",
       "jaM8wlQtfTw0Agl37nzJqu96XbpZwhSB+hjfd9YG5cpuHKVztJ/XTOu9M/jSSFg47UR9uGqE7Lkq\n",
       "3YSZIlBr8EeqNihXduMn0TzVKpFnFnnxOL7MxZeDTjtRf7DqUDNvSHd6N1UECqMNZGuDcmU3fuIp\n",
       "UxXy5+bSz7z8rjnIi2fxpQVfzji9iPqpcrWxv1TK8DG0x5S/iVNFoPTda9e+6WIyd2U3fvIQU9Hz\n",
       "mwS2aLHhppXJ4M4MpwEibU4vVr03I1fPOinKX3hMuT9WUkWg4Fp7+69u0gM3duMnzzNdv/eNfSQC\n",
       "10iv05HYctmarjAHDANDqRSrPoDDqWdB13Ky9r8q5QFXwmaj1GIXVQwKxe0K9QxpB1XVbmzy+liM\n",
       "I1ZpE1WjW//NQ+Yj+VlehhdGrCYZFl4tKoe8PlwAOA/fF6aQQSghDbYFzILU4AOqGNQDYGSUTxmw\n",
       "g6q0a1ZPWN5h5zojZ27dCqMKEZ59VkI8gaoG0cEIzgAMaV3R43D4bz4DeeNsrp6jcs3rPei5uuEw\n",
       "vI9v+iWDIxA15Zi9jyoGFYNowe5t1tLG6F3lSlCVdg3qrN5z3XZbuU4GVUYVInn+iBcuUzXATz16\n",
       "p5RKfDK/mIXmawCPLiRsB+kDq3uf19c14hR6PoOBXLHJ3BgGryk/cytVDCpaiEnhbuxbWtBTOcg5\n",
       "RpTdDgIN6lzhuWvVQGHX0GUzamNqu5E9n6sAhRjnHQnj4vp6sqZvF6ACWa2gjBJWX0dG+r0il2Xi\n",
       "v1TfIFINOygjIye8vdMGyvqJAOQC8xbOe1oGZbeDph1xZeT9cqkaKOyaTi2WUUq24DeyZz9PtCcz\n",
       "RRM32U0Z4m0iEwcGOkwOioZeKKPenvJ6T5ZM3GiEIrkgvn/vyYE/RKphDz1YgaJWXz59Z7Q3ATru\n",
       "Uv2xmXnniCJ20DNnL332Ux03lWN7mm11ZRhwK+Ia4jYjJSjZs5VjvkJVTx+GKGn7rGVzFr10zEwz\n",
       "UDqNoblst0Wg8oKoD6Jx9W10EL4kvWENPgP3Rd+QhQPgO6oE1DbUOX81F2JJPUnSddATuaMKUNhO\n",
       "K88nnYFW4ToUCX7HRmAX2FZXioG0Iq59GWG0SA2KeuYDNGlfpncUXoQNpOIC/5kQnmmCZpaB0mgo\n",
       "t9B008AhebHICqIeWUVGgvEQ6QfjFP+51fgZXhu2cNjSAxL1b+2HugRqPZuC0rRFTlDYzkvWaSQz\n",
       "yuF/wPdhZa7imwpb8g5QpNVs68Wp0exJalDEs+WPT8lNVPs/P99D+z/0DotK07wJftM0ExRUmAIM\n",
       "U17G3XjIpVhB1HuLYKzKfXKIVq5bQj/rTDTSF5vmFY4D4G2qBJSOh8UzMAPCWXiivb09rydCJ884\n",
       "QRE7GKI1P9Y3oM1jrBJUDM2rScUchVoR15GkMDqtBkU9V4LypKlKOdZTYgtDZbu1hUENq2x6ef0k\n",
       "W+3WzSX7IslwyFsYJhOhFzq88DsdUXA/Ct6Q6uDOFyebbw3tfW4oQO0E+KEIx7q+fniZDAq3Iq69\n",
       "KcuIg8rIoDLMs77s0JxjWWYv705HEwKqx10qe3z0rxkO0PJULVChQQTxGw38aQpKz6lPOFu1jAbr\n",
       "0ig+0DabgApthHXlUCe+bMRBBa2D0JXyND4ogSKtiGu8WDEjDGprGT0GbdxJb5jnSC9M8LbJbDpr\n",
       "n/JsJ2uzO1DhUQ8iOQ6SnpwDCRTquZ+gZTcYL+HNJ7ok1aD6DyzPQWshhkLniDkZg/KNQGvaN4Qv\n",
       "I9B3FfSGS1l/4gI9v2KgSCviGu8hmBEG5W2fvxJo4yF6wz3PNYoaGlEBa2VYzbS6rN+Cdm7+tOuz\n",
       "3dGOUxkOWABUneYamkhqnplbyykOPV1sJYT5NigWKvMo4vqAuD8trdpiLWdSjLTFdHpoxt4sT7WG\n",
       "fOZ2G7nB1SlYgmoNrtVA+Xiv+T5F42amVW+V+tF4WpVQbmHEvurxe0Y53TJSWjaIXrrr9vlz4RZA\n",
       "6erhBapNQyWoSGFMD5j8v4G65f/1HD9wdCyttfLtwamplPwXs/cNG18RujcAAAAASUVORK5CYII=\n",
       "\" style=\"display:inline;vertical-align:middle;\" /></a><br>(see <a class=\"ProveItLink\" href=\"../__pv_it/41c28d4a48cf8b558a1a469dd054cd47262016f20/dependencies.ipynb\">dependencies</a>)<br>"
      ],
      "text/plain": [
       "membershipUnfolding: forall_{m in NaturalsPos} [forall_{x, A_1,...,A_m | x in (A_1 union  ...  union A_m)} ((x in A_1) or  ...  or (x in A_m))]"
      ]
     },
     "execution_count": 1,
     "metadata": {},
     "output_type": "execute_result"
    }
   ],
   "source": [
    "import proveit\n",
    "%proving membershipUnfolding presuming []"
   ]
  },
  {
   "cell_type": "code",
   "execution_count": null,
   "metadata": {},
   "outputs": [],
   "source": []
  }
 ],
 "metadata": {
  "kernelspec": {
   "display_name": "Python 3",
   "language": "python",
   "name": "python3"
  }
 },
 "nbformat": 4,
 "nbformat_minor": 0
}
