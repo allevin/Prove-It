{
 "cells": [
  {
   "cell_type": "markdown",
   "metadata": {},
   "source": [
    "Proof of <a class=\"ProveItLink\" href=\"../../../../_context_.ipynb\">proveit</a>.<a class=\"ProveItLink\" href=\"../../../_context_.ipynb\">logic</a>.<a class=\"ProveItLink\" href=\"../../_context_.ipynb\">set_theory</a>.<a class=\"ProveItLink\" href=\"../_context_.ipynb\">unification</a>.<a href=\"../_theorems_.ipynb#membershipFolding\" class=\"ProveItLink\">membershipFolding</a> theorem\n",
    "========\n",
    "*** see <a href=\"../__pv_it/709fc20852943228921ca5b87c9e3d9f188037870/dependencies.ipynb\" class=\"ProveItLink\">dependencies</a> ***"
   ]
  },
  {
   "cell_type": "code",
   "execution_count": 1,
   "metadata": {},
   "outputs": [
    {
     "name": "stdout",
     "output_type": "stream",
     "text": [
      "Beginning proof of membershipFolding\n",
      "Recorded 'presuming' information\n",
      "Presuming previous theorem (applied transitively).\n"
     ]
    },
    {
     "data": {
      "text/html": [
       "<strong id=\"membershipFolding\">membershipFolding:</strong> <a class=\"ProveItLink\" href=\"../__pv_it/85b0da3776f2bcc0909c50e4b3c2320507162ac70/expr.ipynb\"><img src=\"data:image/png;base64,iVBORw0KGgoAAAANSUhEUgAAAjsAAAAZBAMAAAAlA/J8AAAAMFBMVEX///8QEBC6urrMzMxUVFRm\n",
       "ZmZERETc3NwyMjKqqqp2dnaIiIiYmJgiIiLu7u4AAAAU9Wx4AAAAAXRSTlMAQObYZgAABi1JREFU\n",
       "WMPlmX+IFGUYx5/b2b29m52du0Mq/MdbyTS6xJHSOw/iFhVFxLLEP8SgzWiPOoiFIi8PvSUCKepu\n",
       "oYzgELfQLIxly1O8E3JLjVCwy6IoWl1BFsk8z7Q7qvOm533fmd33nX33bvaCRfCFd/beZ57vM/N+\n",
       "3p/zHoCbVJv9Ge6+tDibdOcYhLsy+cOQc4knd6e9e8u05o5EheE4gRZimeAZIYazM+Nx5VfFpISn\n",
       "NV9MVhiPF2yyMuL5lJT7Zsbjyq+KqS43nVk1i/SoRS/x1Is3HQKoszLieZX8RGbG48qviun4tOYO\n",
       "c6Rgon+9Ip9P/TYUXgBakmW8S3D7EjPjceVXxTRP6AnHstk4b37LHBPxPCrHUxiivAD0RpYRj3Zw\n",
       "+/adLqZmV37VS544X2o7J5oDI81TFeERBAAvsEz61ng0+qubhd2NX/WSj8ykOwZfO5ImQ+QlwQzQ\n",
       "a/T/WREeQQBwgGWCZxVAp/QNVDFUWT836WW5OVGRN6b6wuyZwf6f1H6rIZWvjfFmTM/DM5MV4REE\n",
       "AB+wTPAsAD0ubyAxlNNvibxunr+FYojtrxzLrK1tl+/GkmVDKvatmhBpv8BYvYGFfOF+DX2e1ggn\n",
       "/sLf5W7x2AI7zWeZ4AlCICMK2zaHAvfknHicfs3ynUXNP0KRrXW1Didbq4aknzDThPzI+m0IkaXZ\n",
       "y8LPz2atqbmBBryegCXjAMs2uMVjCYp7RJYJnkAmyG0h9CObM1okBamS3iP6ga9Zvso/OS7BM8BF\n",
       "57XYH8nckba9WcH2hqubn3aGvMLhQXBMWaw7Mz/R1GText+9bvHYAgkePc5Ljy4azWlnfZDyrd6w\n",
       "eh0fSvSDxfsapWPrlxsSPJ1cdEG7Coa4zYdVsL0D23aNOkN6DatHJdiMSvd114odjZjr54yO9poi\n",
       "nmVl8GwEXiAZXNC5Egff1pb9gaMGaMRdW9GaLu091A8OrRxkL3i+d0q6xi0yc6V4GpmQRhe0x8lI\n",
       "8sa4YYUF9FYHW1bBaUnIgNXTarEXarETECC3vIVRT8xwCRkFzZiNZwu5fGbvk3P2hW7iVKq0Bae/\n",
       "GA4ffw4N37JM8exBvH8syQTDWphupUEzUicleIifmlvD2k3d2IArobdkZ38AzFAJHiXOhHXWjFPU\n",
       "LoBAiNvR0gJ6Q8obmQtxSUhP2I4BsC/zLPTQMXq+sNqi2b+GcDITNp6dMWs/dB0roJMxRC9+ckbz\n",
       "IF0KLIH+9ST8CKfEhZ0O4F3HoMHA2O0Mj6o+XoqH+HngbWZZmqv7F5QPY84vwnnQny7Bg3WiwvYS\n",
       "bRvoEVhbnPlIgRAI4QptrVJiSMVi5sGq5od/P8T6TfcmKJpNcwq8pmkaFh7ljXdXRElbXMKX0e8F\n",
       "6wJt6x55n26YbEHr1TjcpGheZ5ni0Yh0PSyFugQ8Fo1G05rhP3ehFA/1gwlm+b6p+RbanXiCOMeF\n",
       "S/DUh5mQRhe0bbgW+TkBKVDvhhgoP0WjXc6QNh64T3jue+9YHxWCea/FbP96QzYRPLT6sGjwppVG\n",
       "eFP4qLDSHDgKvR64zHoP3P8l3pQdhymNCu3E+DVyW4JnP8B3I3B64NTDW/jeE2HCy+DULsQ+4OOC\n",
       "kALxxsYy9LAkpMdeL8/I941nJHhcpxojEPGPhUDFNiS5gMc/hv3nG5XNkohHS8lPCzvUuArdMRwf\n",
       "oJi0iv7d0J3z95HLbjIQoGMMBiI1oQc4PPoIE7I5uKiltVFxsDN9HyugtzL2CSTZoHOE1JKuDjRm\n",
       "h6cX+48WSdLdwxX+ex4b5QdYfhD0bWS+wktYjic/tDUFHZkgdvevzLmkisokdMSUCXKZhIu3QGu+\n",
       "kfAa19j5kL1yXWBCGp3TAjyFNG4igwkWhBbQW+/aM5yDPJmRHSF9oeJBZ5nzz0La0b+1MjwLIWgo\n",
       "L8Zou6yVPkOls8MMZ82FdZRUUSsekxTd98BIhsMzJIlO8ZAJQxigMc4bPiZzjxiyruDZI69iz///\n",
       "3A0YLJdrghnwKHaFlM+xQVsL9sJfeWzoLoPDk5ecehJtfVr2tLzUxkIOVPkofhZ4NHlXgoxEyfDU\n",
       "Z+RxvfLP8kz5NwnfkXhm/X8u6wEn5XdTcvPJsuHUXBXpLM6G/wNAxf6wtwyqvgAAAABJRU5ErkJg\n",
       "gg==\n",
       "\" style=\"display:inline;vertical-align:middle;\" /></a><br>(see <a class=\"ProveItLink\" href=\"../__pv_it/85b0da3776f2bcc0909c50e4b3c2320507162ac70/dependencies.ipynb\">dependencies</a>)<br>"
      ],
      "text/plain": [
       "membershipFolding: forall_{m in NaturalsPos} [forall_{x, A_1,...,A_m | (x in A_1) or  ...  or (x in A_m)} (x in (A_1 union  ...  union A_m))]"
      ]
     },
     "execution_count": 1,
     "metadata": {},
     "output_type": "execute_result"
    }
   ],
   "source": [
    "import proveit\n",
    "%proving membershipFolding presuming []"
   ]
  },
  {
   "cell_type": "code",
   "execution_count": null,
   "metadata": {},
   "outputs": [],
   "source": []
  }
 ],
 "metadata": {
  "kernelspec": {
   "display_name": "Python 3",
   "language": "python",
   "name": "python3"
  }
 },
 "nbformat": 4,
 "nbformat_minor": 0
}
