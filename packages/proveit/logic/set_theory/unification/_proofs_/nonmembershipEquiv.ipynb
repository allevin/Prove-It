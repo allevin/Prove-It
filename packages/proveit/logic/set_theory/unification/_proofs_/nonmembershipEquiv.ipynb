{
 "cells": [
  {
   "cell_type": "markdown",
   "metadata": {},
   "source": [
    "Proof of <a class=\"ProveItLink\" href=\"../../../../_context_.ipynb\">proveit</a>.<a class=\"ProveItLink\" href=\"../../../_context_.ipynb\">logic</a>.<a class=\"ProveItLink\" href=\"../../_context_.ipynb\">set_theory</a>.<a class=\"ProveItLink\" href=\"../_context_.ipynb\">unification</a>.<a class=\"ProveItLink\" href=\"../_theorems_.ipynb#nonmembershipEquiv\">nonmembershipEquiv</a> theorem\n",
    "========"
   ]
  },
  {
   "cell_type": "code",
   "execution_count": 1,
   "metadata": {},
   "outputs": [],
   "source": [
    "import proveit\n",
    "context = proveit.Context('..') # the theorem's context is in the parent directory"
   ]
  },
  {
   "cell_type": "code",
   "execution_count": 2,
   "metadata": {},
   "outputs": [
    {
     "name": "stdout",
     "output_type": "stream",
     "text": [
      "Beginning proof of nonmembershipEquiv\n",
      "Recorded 'presuming' information\n",
      "Presuming previous theorems (applied transitively).\n"
     ]
    },
    {
     "data": {
      "text/html": [
       "<strong id=\"nonmembershipEquiv\">nonmembershipEquiv:</strong> <a class=\"ProveItLink\" href=\"../__pv_it/bd9adc32eded703b2aacf0197d70deae9eb7f9310/expr.ipynb\"><img src=\"data:image/png;base64,iVBORw0KGgoAAAANSUhEUgAAArQAAAAXCAMAAADN9yyBAAAARVBMVEX///8sLCxlZWUbGxsJCQkd\n",
       "HR0PDw8WFhYQEBC6urrMzMxUVFRmZmZERETc3NwyMjKqqqp2dnaIiIiYmJgiIiLu7u4AAAA/PWo8\n",
       "AAAAAXRSTlMAQObYZgAABmtJREFUaN7tW4eS7SYMdboppsP/f2ooLmD6tW8ykywzu/JbC6QjH0DI\n",
       "fsvyf2lAL8sP2P+GW6+hE4rCfyVUQKSy0pQudQoNGvZlJ2sWJEjlINY5sBUXBm1+8iyeuFWJzC4l\n",
       "VWBRl5Z45C+3g7422AwdUCo7akVlZfiXvaxawDCVYyCmwFZdGLL5ybN45lYlMoe0ROMnz6l+TNrX\n",
       "Bptoh6WORQxKnXbXjUHtTWgETUu9YsG7cpMjWOfA1l242yRzTy1Tf8mtSmToSTSyHR5sy2PSvjbY\n",
       "RFYiUlld6kqdjg3KGNXsQtDIYlpXr1nwexJP5QDWObANF+42KZ5bL3DFv4duVSKzS0e0Y3Zg9py0\n",
       "rw023ladysIKKKhSf/1JC5322NvZbpoxhnOkzdRrFrx7ayoHsM6Bbbhwswk3NbPUZupvuVWJzC4d\n",
       "0SQnvqnlBdK+Ndh45k9TWQgtlTaWGyl0Ok6Qy2qM/iJpqxZ821gqu1jnwDZdSG0iIGaOInf199yq\n",
       "RCZITzSzuab4G6R9a7DhhnkqCReIMIHPaJLNhUTTUqegYOBCjQHfI23dQggcTmUX6xzYpguJTddv\n",
       "YrXJ1N9zqxKZID3RkD+VFaZBg6BV0n4w2LNjmEyktp5JJZf1jGZwJV0Sjk5BwUYCGyO/R9q6Bd8Y\n",
       "TaV7/DRqKHN7CmzTBRYTicupvC5Tf8+tSmSC9EQDqDwNWnO+StreYGCqItrXXkEi3WwSNkdiRzFH\n",
       "b4Vj7RpNbbn6LgYfedrrpL1ZyEGuqexinQPbBJnYdADIOA8y9adudSMTZCCasy5kO+em2NUrxIp1\n",
       "m7S9wdapimhf+9hadum8Q1uCW9n2x+9K0byT6+CnBTDGd4IYqbdJm1ooxdaksot1DmwTZGwzlNbR\n",
       "aO02V3/m1kBkggxEcxyrHRu1wBjb+3JbuFXhurPSNgezHVczUQwb0L6R1jM93oYCfzgrP30bXbPa\n",
       "dtVd2OukvVt4j7RjYJsgY5vhqQ1BLas/dWuKtHY3r7kqNkC0tu5JO7GwJy1GCCn7w8qkbQxmZ5Vi\n",
       "Zh3m7Ij2ylIZkvurvK9VoUB4KbMVWnianHWXCmnxHGkj9czCSHqAVdS2zO0psE2QkU22O03HziMF\n",
       "9aduTaUHNlFG+4tdLIDgyObMGwz/PjcDyCARAyvtNdhiD5FAJNuNAqRe4MhZMKC9yURK4tOpRZzd\n",
       "kL0BcLnToo84K2NIRtrrlMHPfEfXL0rqmYV7hN2faCq7WOfANkFGNg/2MZwhK4AtqD90ayAykkZE\n",
       "Yzig0BK4k5yyK6X0q+UFSUJLWAkHSHsM5ghuU5uVpSWMo8CButyNtZtKl2TW/c1OR3LtTlqBLE87\n",
       "OpEz9drMfuSLSUsUuRcg9bGV5Rcl9cxCFuGZktepMAW2CfKyeR3O1B1rCWyu/tCtkchEJa8rBSFa\n",
       "uHi7td3fhzwmrT0WctQn7ZnPgFttaYHujQk1wo+89nahSLuZQsRSb4JrzpODIKH4t3In45o/Nvgr\n",
       "v6XFpLXHT8QgZNt2rTTrVrsoqWcW7hH2KwNIZRfrFNg2yMsmOq+O0tSFrAA2V3/o1khkgjyIJo8w\n",
       "I+HY4u67OQmVf1WwiUBaIrUaIK281lCTMFOFvDvMI9UjbaLdSGpJKgvt11+oSk+udWWWpl6AIyTG\n",
       "v4UaUE8jvMy9xiXLB2AbICOb0YwZ+WKxqP7MrW5kote4aVigO3y5TNr5olGy0i4A7nkKaZE2Xizt\n",
       "z6XgR5P7DtMjbawtMRMSAVmqfA98b5K/6qgrs2+/gE4j7DP/JZGtKhNfPgDbAMnf/YD0mVvdyOzy\n",
       "TjRidsa7Cpe7JAlprVf1TPQ+FjQLp77UTHzSDsPnFHA/KwbS+lvElZ3PXwVt5rCsIE/m45p19bO4\n",
       "0hdnVeVvk/Ye4fNFjH7n08Shz+sOkHNvlGb8+8CtbmQ0LRMNuLEVdHk2Jz4/AcfZIlw1Nuv7WDa3\n",
       "YVg4lkOfYYedXtod35/NAmn9LeiyiPNXSdtm8a5uwkvvx47vAKufD5ZedVSUCacGf/Xz9XuEz3UB\n",
       "jVSaTrenwFZBorfftj9xqxuZQ/Ju+sL3nLbfhFLVbK70Yp9Ub8lSCdSVVlRJ+zymkoqbxUlO/rH/\n",
       "WdGJGkxljxVi+QBsx/abrH3BrUpkdmlpBv6RJwOzGQ3FGpbN/FbhT+7ltVPfvhDmn/bTRhfaxi35\n",
       "E7Cf1mx/A37cj/OmwhWRAAAAAElFTkSuQmCC\n",
       "\" style=\"display:inline;vertical-align:middle;\" /></a><br>(see <a class=\"ProveItLink\" href=\"../__pv_it/bd9adc32eded703b2aacf0197d70deae9eb7f9310/dependencies.ipynb\">dependencies</a>)<br>"
      ],
      "text/plain": [
       "nonmembershipEquiv: forall_{m in NaturalsPos} [forall_{x, A_1,...,A_m} ((x not-in (A_1 union  ...  union A_m)) = ((x not-in A_1) and  ...  and (x not-in A_m)))]"
      ]
     },
     "execution_count": 2,
     "metadata": {},
     "output_type": "execute_result"
    }
   ],
   "source": [
    "%proving nonmembershipEquiv presuming []"
   ]
  },
  {
   "cell_type": "code",
   "execution_count": null,
   "metadata": {},
   "outputs": [],
   "source": []
  }
 ],
 "metadata": {
  "kernelspec": {
   "display_name": "Python 3",
   "language": "python",
   "name": "python3"
  }
 },
 "nbformat": 4,
 "nbformat_minor": 0
}
