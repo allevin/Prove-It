{
 "cells": [
  {
   "cell_type": "markdown",
   "metadata": {},
   "source": [
    "Proof of <a class=\"ProveItLink\" href=\"../../../../_context_.ipynb\">proveit</a>.<a class=\"ProveItLink\" href=\"../../../_context_.ipynb\">logic</a>.<a class=\"ProveItLink\" href=\"../../_context_.ipynb\">set_theory</a>.<a class=\"ProveItLink\" href=\"../_context_.ipynb\">unification</a>.<a href=\"../_theorems_.ipynb#nonmembershipFolding\" class=\"ProveItLink\">nonmembershipFolding</a> theorem\n",
    "========\n",
    "*** see <a href=\"../__pv_it/9fe5b885d7e25e9a607d2316d4088e17b5b145040/dependencies.ipynb\" class=\"ProveItLink\">dependencies</a> ***"
   ]
  },
  {
   "cell_type": "code",
   "execution_count": 1,
   "metadata": {},
   "outputs": [
    {
     "name": "stdout",
     "output_type": "stream",
     "text": [
      "Beginning proof of nonmembershipFolding\n",
      "Recorded 'presuming' information\n",
      "Presuming previous theorems (applied transitively).\n"
     ]
    },
    {
     "data": {
      "text/html": [
       "<strong id=\"nonmembershipFolding\">nonmembershipFolding:</strong> <a class=\"ProveItLink\" href=\"../__pv_it/48165c5a535c71c4e7b03e1ea8231a3d836d832a0/expr.ipynb\"><img src=\"data:image/png;base64,iVBORw0KGgoAAAANSUhEUgAAAjsAAAAZCAMAAADg8x99AAAAV1BMVEX///9bW1sNDQ0JCQkdHR0P\n",
       "Dw8WFhYfHx9vb28oKCgtLS0/Pz9RUVEvLy8QEBC6urrMzMxUVFRmZmZERETc3NwyMjKqqqp2dnaI\n",
       "iIiYmJgiIiLu7u4AAAAH8NkCAAAAAXRSTlMAQObYZgAABjhJREFUaN7tW4uypCYQZbOb7OYlIMj7\n",
       "/78zNIryVrPOrcrkUnUHZmhPt3BsupGL0HOFGWM4+iz/g4L9VMsnAc3nmD4xLfa/YSenyD7MHfs5\n",
       "+2fkUONRtANp4sSLreto0DivA3cOZ6HVE9x5EO89C6F3uouvxskXm9fTMJO8Bu7InWaLfYI7D+K9\n",
       "ZzkZlhkPpKVzLebZZrNbRuIdDWBJUXvucBbb7JE160G8tyxK3QkaVbFiOWeG13B6Ky6txHsaYBmR\n",
       "eQ3XRmbP4hHuPIj3lmXqewarFvPbr2bpSi/eK7ghGcg97lTiPQ1g3ZTXwB0teSg/nyWZjZdP4b1l\n",
       "oLz0I51FW8R4X1oZNDlnX8idroawBSOyOvgsx6A8kK5vNj2G945ljsPCpaJcqHlflDjzc2aXtnQQ\n",
       "cAQtzuHXcaevIYRCc1YH7tAQObM7u3pyZNO/wHtqy4F0c8tGET+LPQLvqVj05vn9EGqj0bRPZBiw\n",
       "IhqK0quAn7PZOf067vQ1hJtZsjpwB8OHXW49PSObzvDwvT2KoXg2ebxBadZHInc8Ywt7BN5TMeHj\n",
       "6VM+shCRkpY1krApuT89hUvcNvaEPc6dQkM11lNWr3E2YCk93nVYZkge1TTbU+6c4U339iiG4qz7\n",
       "ZZvyeYAk8XUrWknjELyjIi4IMIw0495kjPn21X8stTRcELiJnQsXkZmap7mTa2hwwGX1yh2YZ2N7\n",
       "sf88z75fMyS9iLTnfmeI56+d3J3sfSyedglV2/73X7qPtPtGebo4V9in4IWKBhvQlIKGaZSiK03d\n",
       "5MuRQovHuVNquMQdf4M9nYphbq3ngdYKGOO5M1NKjf8TXZsGePAWTbjpxoo1Fk/nq4ywwPY/rR0g\n",
       "rZEZIqbnJPeeKno7B89UHHwRWWR67M5Zg+o3goe0mIifB8v3FLrDnfkedxLxSsOlNcuPDF0JrmeF\n",
       "laQ+ZGNk/b6vhUQQrq75nQMP+WQCq2z8DObdLLCFORZPuTPlGsH2NN5oIG2RKesGZ3vPhG6Dt7cC\n",
       "2UZGzUO4g9R+EdUIl+MapZGNLDLO8Yo7x1aa3C9AZeNoNcRrDSUV/C9LVm/cEfNqiNUYgmwDuz6h\n",
       "5xhTTTxvNLnGnYgHVPOLevKshQQvZoH0nEKp+Al3yJJrhK8zHyoOUT1wQLcdz96zYl8DLx5W2kx0\n",
       "hR9n5gnJD2pZg0sntafFfA+NmNti8pQ7PB592feDbFx49kbSqsVrDRUV2jn6sfJyqwANfGkQSJ4s\n",
       "Db8hSS9xZ1/JcZFmIgIbpYtTAXw6TeMT8VPurLO0awy2s7HilRKwr7J03M7WszHgAnidZJRr8JZV\n",
       "KWmlzDIKvvxCUFPaQQnRdWiFtS7ljtdCBSGCsX0FnFjRSFq1eK2hpAI4EpzVkTs6glAFIwECIiz3\n",
       "YZuPqZU7XFtzjTv68CguI4hZw7FV7flBsUz8hDuCZhrB9j9+D7Z3FYeJDWu+bu0DHD079gXwMXfQ\n",
       "4IHRX+iS51kDaZHHRlhSqsj1MPJcPKdC+51EfmcEwkCI4+AhszTzOwiTbXnmJ9xJPYf/O3xwANSb\n",
       "9zzlTiquZ6E0xTp/TZb6HZZpBNuPRbGtOFyyCrWSpKMnYp+Dl2biElj3k7rGdmpfWrz6nU9OBYj1\n",
       "YszX5g53G+EgJYcmz7jjb8Veit+PrE4uIdHlC4++PbysTaYwdHHYFEs/KnEB9zHhIp5MZiYkKodG\n",
       "b/tB/abidWa2VEOJyoikJ2BfAi/NrCe/ewajefCgK/1q7pRUiFmDTc5g5K4MzDcEdi0lD8syjlHV\n",
       "2qLoDnf8qi5mBXwjIfBa3br27j2Ez+sUhi4Ca0H6UYv7QBKmUPb8TthSOjT65o8o2la8npWJ7oNV\n",
       "RiQ963bVJfDCzLkKoLvHJJrbqR1pLhc3v/RsXUmF6EZ2d3J+3ENu8c6lfHrU2XoNw7tdjd8M5G9Q\n",
       "6Q53VBmzfO/ZHhUvyfJbrxdpT4XdBS/MbAThXF3fuu5Lf3CJwdERJF06KnR9L2aUMVVzQ9S0PpyE\n",
       "XxGH9z0gz7IQjxUS3VcGLcXi+rSU2F3wwkzxvuduP447+l6Xvqgym1KRX3X6uurOzRfYV9+FUfTJ\n",
       "nWvc+fj/z8rt1+TOvMlb56lz7IukkO96ZBv+P4v+AyiOoX0mWwjeAAAAAElFTkSuQmCC\n",
       "\" style=\"display:inline;vertical-align:middle;\" /></a><br>(see <a class=\"ProveItLink\" href=\"../__pv_it/48165c5a535c71c4e7b03e1ea8231a3d836d832a0/dependencies.ipynb\">dependencies</a>)<br>"
      ],
      "text/plain": [
       "nonmembershipFolding: forall_{m in NaturalsPos} [forall_{x, A_1,...,A_m | (x not-in A_1) and  ...  and (x not-in A_m)} (x not-in (A_1 union  ...  union A_m))]"
      ]
     },
     "execution_count": 1,
     "metadata": {},
     "output_type": "execute_result"
    }
   ],
   "source": [
    "import proveit\n",
    "%proving nonmembershipFolding presuming []"
   ]
  },
  {
   "cell_type": "code",
   "execution_count": null,
   "metadata": {},
   "outputs": [],
   "source": []
  }
 ],
 "metadata": {
  "kernelspec": {
   "display_name": "Python 3",
   "language": "python",
   "name": "python3"
  }
 },
 "nbformat": 4,
 "nbformat_minor": 0
}
