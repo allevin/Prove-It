{
 "cells": [
  {
   "cell_type": "markdown",
   "metadata": {
    "collapsed": true
   },
   "source": [
    "Theorems for context <a href=\"_context_.ipynb\" class=\"ProveItLink\">proveit.logic.set_theory.unification</a>\n",
    "========"
   ]
  },
  {
   "cell_type": "code",
   "execution_count": 1,
   "metadata": {},
   "outputs": [
    {
     "name": "stdout",
     "output_type": "stream",
     "text": [
      "Defining theorems for context 'proveit.logic.set_theory.unification'\n",
      "Subsequent end-of-cell assignments will define theorems\n",
      "'%end theorems' will finalize the definitions\n"
     ]
    }
   ],
   "source": [
    "from proveit.logic import Forall, And, Or, Equals, InSet, NotInSet, Union\n",
    "from proveit._common_ import A, B, m, x, AA\n",
    "from proveit.logic._common_ import iterA1m\n",
    "from proveit.logic.set_theory._common_ import x_in_any_A, x_notin_all_A\n",
    "from proveit.number import NaturalsPos\n",
    "%begin theorems"
   ]
  },
  {
   "cell_type": "code",
   "execution_count": 2,
   "metadata": {},
   "outputs": [
    {
     "data": {
      "text/html": [
       "<strong id=\"membershipUnfolding\"><a class=\"ProveItLink\" href=\"_proofs_/membershipUnfolding.ipynb\">membershipUnfolding</a>:</strong> <a class=\"ProveItLink\" href=\"__pv_it/5855926d87aaecef8de833304104f6b62db5cc130/expr.ipynb\"><img src=\"__pv_it/5855926d87aaecef8de833304104f6b62db5cc130/expr.png\" style=\"display:inline;vertical-align:middle;\" /></a><br>"
      ],
      "text/plain": [
       "membershipUnfolding: forall_{m in NaturalsPos} [forall_{x, A_(1),...,A_(m) | x in (A_(1) union  ...  union A_(m))} ((x in A_(1)) or  ...  or (x in A_(m)))]"
      ]
     },
     "execution_count": 2,
     "metadata": {},
     "output_type": "execute_result"
    }
   ],
   "source": [
    "membershipUnfolding = Forall(m, Forall((x, iterA1m), x_in_any_A, \n",
    "                                       conditions=[InSet(x, Union(iterA1m))]),\n",
    "                             domain=NaturalsPos)"
   ]
  },
  {
   "cell_type": "code",
   "execution_count": 3,
   "metadata": {},
   "outputs": [
    {
     "data": {
      "text/html": [
       "<strong id=\"membershipFolding\"><a class=\"ProveItLink\" href=\"_proofs_/membershipFolding.ipynb\">membershipFolding</a>:</strong> <a class=\"ProveItLink\" href=\"__pv_it/0560677337b26784c75cdec9cbe7c2f31a54d94d0/expr.ipynb\"><img src=\"__pv_it/0560677337b26784c75cdec9cbe7c2f31a54d94d0/expr.png\" style=\"display:inline;vertical-align:middle;\" /></a><br>"
      ],
      "text/plain": [
       "membershipFolding: forall_{m in NaturalsPos} [forall_{x, A_(1),...,A_(m) | (x in A_(1)) or  ...  or (x in A_(m))} (x in (A_(1) union  ...  union A_(m)))]"
      ]
     },
     "execution_count": 3,
     "metadata": {},
     "output_type": "execute_result"
    }
   ],
   "source": [
    "membershipFolding = Forall(m, Forall((x, iterA1m), InSet(x, Union(iterA1m)), \n",
    "                                     conditions=[x_in_any_A]),\n",
    "                           domain=NaturalsPos)"
   ]
  },
  {
   "cell_type": "code",
   "execution_count": 4,
   "metadata": {},
   "outputs": [
    {
     "data": {
      "text/html": [
       "<strong id=\"nonmembershipEquiv\"><a class=\"ProveItLink\" href=\"_proofs_/nonmembershipEquiv.ipynb\">nonmembershipEquiv</a>:</strong> <a class=\"ProveItLink\" href=\"__pv_it/34f50d95ddbd7de56ef86206fff9e078e44d77150/expr.ipynb\"><img src=\"__pv_it/34f50d95ddbd7de56ef86206fff9e078e44d77150/expr.png\" style=\"display:inline;vertical-align:middle;\" /></a><br>"
      ],
      "text/plain": [
       "nonmembershipEquiv: forall_{m in NaturalsPos} [forall_{x, A_(1),...,A_(m)} ((x not-in (A_(1) union  ...  union A_(m))) = ((x not-in A_(1)) and  ...  and (x not-in A_(m))))]"
      ]
     },
     "execution_count": 4,
     "metadata": {},
     "output_type": "execute_result"
    }
   ],
   "source": [
    "nonmembershipEquiv = Forall(m, Forall((x, iterA1m), \n",
    "                                      Equals(NotInSet(x, Union(iterA1m)),\n",
    "                                             x_notin_all_A)),\n",
    "                            domain=NaturalsPos)"
   ]
  },
  {
   "cell_type": "code",
   "execution_count": 5,
   "metadata": {},
   "outputs": [
    {
     "data": {
      "text/html": [
       "<strong id=\"nonmembershipFolding\"><a class=\"ProveItLink\" href=\"_proofs_/nonmembershipFolding.ipynb\">nonmembershipFolding</a>:</strong> <a class=\"ProveItLink\" href=\"__pv_it/f91f9b550586eddece40024807993c2aa97291440/expr.ipynb\"><img src=\"__pv_it/f91f9b550586eddece40024807993c2aa97291440/expr.png\" style=\"display:inline;vertical-align:middle;\" /></a><br>"
      ],
      "text/plain": [
       "nonmembershipFolding: forall_{m in NaturalsPos} [forall_{x, A_(1),...,A_(m) | (x not-in A_(1)) and  ...  and (x not-in A_(m))} (x not-in (A_(1) union  ...  union A_(m)))]"
      ]
     },
     "execution_count": 5,
     "metadata": {},
     "output_type": "execute_result"
    }
   ],
   "source": [
    "nonmembershipFolding = Forall(m, Forall((x, iterA1m), \n",
    "                                        NotInSet(x, Union(iterA1m)),\n",
    "                                        conditions=[x_notin_all_A]),\n",
    "                              domain=NaturalsPos)"
   ]
  },
  {
   "cell_type": "code",
   "execution_count": 6,
   "metadata": {},
   "outputs": [
    {
     "name": "stdout",
     "output_type": "stream",
     "text": [
      "Theorems may be imported from autogenerated _theorems_.py\n"
     ]
    }
   ],
   "source": [
    "%end theorems"
   ]
  },
  {
   "cell_type": "code",
   "execution_count": 7,
   "metadata": {
    "collapsed": true
   },
   "outputs": [],
   "source": []
  }
 ],
 "metadata": {
  "kernelspec": {
   "display_name": "Python 3",
   "language": "python",
   "name": "python3"
  },
  "language_info": {
   "codemirror_mode": {
    "name": "ipython",
    "version": 3
   },
   "file_extension": ".py",
   "mimetype": "text/x-python",
   "name": "python",
   "nbconvert_exporter": "python",
   "pygments_lexer": "ipython3",
   "version": "3.7.0"
  }
 },
 "nbformat": 4,
 "nbformat_minor": 1
}
