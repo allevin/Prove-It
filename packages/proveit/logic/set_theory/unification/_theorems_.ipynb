{
 "cells": [
  {
   "cell_type": "markdown",
   "metadata": {},
   "source": [
    "Theorems for context <a href=\"_context_.ipynb\" class=\"ProveItLink\">proveit.logic.set_theory.unification</a>\n",
    "========"
   ]
  },
  {
   "cell_type": "code",
   "execution_count": 1,
   "metadata": {},
   "outputs": [
    {
     "name": "stdout",
     "output_type": "stream",
     "text": [
      "Defining theorems for context 'proveit.logic.set_theory.unification'\n",
      "Subsequent end-of-cell assignments will define theorems\n",
      "'%end theorems' will finalize the definitions\n"
     ]
    }
   ],
   "source": [
    "from proveit.logic import Forall, And, Or, Equals, InSet, NotInSet, Union\n",
    "from proveit._common_ import A, B, m, x, AA\n",
    "from proveit.logic._common_ import iterA1m\n",
    "from proveit.logic.set_theory._common_ import x_in_any_A, x_notin_all_A\n",
    "from proveit.number import NaturalsPos\n",
    "%begin theorems"
   ]
  },
  {
   "cell_type": "code",
   "execution_count": 2,
   "metadata": {},
   "outputs": [
    {
     "data": {
      "text/html": [
       "<strong id=\"membershipUnfolding\"><a class=\"ProveItLink\" href=\"_proofs_/membershipUnfolding.ipynb\">membershipUnfolding</a>:</strong> <a class=\"ProveItLink\" href=\"__pv_it/e2414d1560e3969a7403786785f3208940687b3a0/expr.ipynb\"><img src=\"data:image/png;base64,iVBORw0KGgoAAAANSUhEUgAAAk8AAAAZBAMAAADaodeeAAAAMFBMVEX///8QEBC6urrMzMxUVFRm\n",
       "ZmZERETc3NwyMjKqqqp2dnaIiIiYmJgiIiLu7u4AAAAU9Wx4AAAAAXRSTlMAQObYZgAABp1JREFU\n",
       "WMPlmX2IVFUUwM98z7x583ZWKbHQ3agwsGVHqNWM2kFFi1I3xD/MP5qCVsSogURNqR2CEELXiRSC\n",
       "RdxCkVoYJ9JF03LMrFCyyf6wonFHiE0s1/Ujl7XV1/189755d3beCkuGB86b++6ce+a9373n3nPv\n",
       "ALiRYOk03MnSVOp2ZxiDO1xCSSi7BFX+jx/Vm6eqltYsK3zl1t/0al/4hkVZb6SKQRVxxYnaoFzZ\n",
       "jaM8wlQtfTw0Agl37nzJqu96XbpZwhSB+hjfd9YG5cpuHKVztJ/XTOu9M/jSSFg47UR9uGqE7Lkq\n",
       "3YSZIlBr8EeqNihXduMn0TzVKpFnFnnxOL7MxZeDTjtRf7DqUDNvSHd6N1UECqMNZGuDcmU3fuIp\n",
       "UxXy5+bSz7z8rjnIi2fxpQVfzji9iPqpcrWxv1TK8DG0x5S/iVNFoPTda9e+6WIyd2U3fvIQU9Hz\n",
       "mwS2aLHhppXJ4M4MpwEibU4vVr03I1fPOinKX3hMuT9WUkWg4Fp7+69u0gM3duMnzzNdv/eNfSQC\n",
       "10iv05HYctmarjAHDANDqRSrPoDDqWdB13Ky9r8q5QFXwmaj1GIXVQwKxe0K9QxpB1XVbmzy+liM\n",
       "I1ZpE1WjW//NQ+Yj+VlehhdGrCYZFl4tKoe8PlwAOA/fF6aQQSghDbYFzILU4AOqGNQDYGSUTxmw\n",
       "g6q0a1ZPWN5h5zojZ27dCqMKEZ59VkI8gaoG0cEIzgAMaV3R43D4bz4DeeNsrp6jcs3rPei5uuEw\n",
       "vI9v+iWDIxA15Zi9jyoGFYNowe5t1tLG6F3lSlCVdg3qrN5z3XZbuU4GVUYVInn+iBcuUzXATz16\n",
       "p5RKfDK/mIXmawCPLiRsB+kDq3uf19c14hR6PoOBXLHJ3BgGryk/cytVDCpaiEnhbuxbWtBTOcg5\n",
       "RpTdDgIN6lzhuWvVQGHX0GUzamNqu5E9n6sAhRjnHQnj4vp6sqZvF6ACWa2gjBJWX0dG+r0il2Xi\n",
       "v1TfIFINOygjIye8vdMGyvqJAOQC8xbOe1oGZbeDph1xZeT9cqkaKOyaTi2WUUq24DeyZz9PtCcz\n",
       "RRM32U0Z4m0iEwcGOkwOioZeKKPenvJ6T5ZM3GiEIrkgvn/vyYE/RKphDz1YgaJWXz59Z7Q3ATru\n",
       "Uv2xmXnniCJ20DNnL332Ux03lWN7mm11ZRhwK+Ia4jYjJSjZs5VjvkJVTx+GKGn7rGVzFr10zEwz\n",
       "UDqNoblst0Wg8oKoD6Jx9W10EL4kvWENPgP3Rd+QhQPgO6oE1DbUOX81F2JJPUnSddATuaMKUNhO\n",
       "K88nnYFW4ToUCX7HRmAX2FZXioG0Iq59GWG0SA2KeuYDNGlfpncUXoQNpOIC/5kQnmmCZpaB0mgo\n",
       "t9B008AhebHICqIeWUVGgvEQ6QfjFP+51fgZXhu2cNjSAxL1b+2HugRqPZuC0rRFTlDYzkvWaSQz\n",
       "yuF/wPdhZa7imwpb8g5QpNVs68Wp0exJalDEs+WPT8lNVPs/P99D+z/0DotK07wJftM0ExRUmAIM\n",
       "U17G3XjIpVhB1HuLYKzKfXKIVq5bQj/rTDTSF5vmFY4D4G2qBJSOh8UzMAPCWXiivb09rydCJ884\n",
       "QRE7GKI1P9Y3oM1jrBJUDM2rScUchVoR15GkMDqtBkU9V4LypKlKOdZTYgtDZbu1hUENq2x6ef0k\n",
       "W+3WzSX7IslwyFsYJhOhFzq88DsdUXA/Ct6Q6uDOFyebbw3tfW4oQO0E+KEIx7q+fniZDAq3Iq69\n",
       "KcuIg8rIoDLMs77s0JxjWWYv705HEwKqx10qe3z0rxkO0PJULVChQQTxGw38aQpKz6lPOFu1jAbr\n",
       "0ig+0DabgApthHXlUCe+bMRBBa2D0JXyND4ogSKtiGu8WDEjDGprGT0GbdxJb5jnSC9M8LbJbDpr\n",
       "n/JsJ2uzO1DhUQ8iOQ6SnpwDCRTquZ+gZTcYL+HNJ7ok1aD6DyzPQWshhkLniDkZg/KNQGvaN4Qv\n",
       "I9B3FfSGS1l/4gI9v2KgSCviGu8hmBEG5W2fvxJo4yF6wz3PNYoaGlEBa2VYzbS6rN+Cdm7+tOuz\n",
       "3dGOUxkOWABUneYamkhqnplbyykOPV1sJYT5NigWKvMo4vqAuD8trdpiLWdSjLTFdHpoxt4sT7WG\n",
       "fOZ2G7nB1SlYgmoNrtVA+Xiv+T5F42amVW+V+tF4WpVQbmHEvurxe0Y53TJSWjaIXrrr9vlz4RZA\n",
       "6erhBapNQyWoSGFMD5j8v4G65f/1HD9wdCyttfLtwamplPwXs/cNG18RujcAAAAASUVORK5CYII=\n",
       "\" style=\"display:inline;vertical-align:middle;\" /></a><br>"
      ],
      "text/plain": [
       "membershipUnfolding: forall_{m in NaturalsPos} [forall_{x, A_1,...,A_m | x in (A_1 union  ...  union A_m)} ((x in A_1) or  ...  or (x in A_m))]"
      ]
     },
     "execution_count": 2,
     "metadata": {},
     "output_type": "execute_result"
    }
   ],
   "source": [
    "membershipUnfolding = Forall(m, Forall((x, iterA1m), x_in_any_A, \n",
    "                                       conditions=[InSet(x, Union(iterA1m))]),\n",
    "                             domain=NaturalsPos)"
   ]
  },
  {
   "cell_type": "code",
   "execution_count": 3,
   "metadata": {},
   "outputs": [
    {
     "data": {
      "text/html": [
       "<strong id=\"membershipFolding\"><a class=\"ProveItLink\" href=\"_proofs_/membershipFolding.ipynb\">membershipFolding</a>:</strong> <a class=\"ProveItLink\" href=\"__pv_it/75ef44cb86d1454f9d3865f1eba3545f733145100/expr.ipynb\"><img src=\"data:image/png;base64,iVBORw0KGgoAAAANSUhEUgAAAjsAAAAZBAMAAAAlA/J8AAAAMFBMVEX///8QEBC6urrMzMxUVFRm\n",
       "ZmZERETc3NwyMjKqqqp2dnaIiIiYmJgiIiLu7u4AAAAU9Wx4AAAAAXRSTlMAQObYZgAABi1JREFU\n",
       "WMPlmX+IFGUYx5/b2b29m52du0Mq/MdbyTS6xJHSOw/iFhVFxLLEP8SgzWiPOoiFIi8PvSUCKepu\n",
       "oYzgELfQLIxly1O8E3JLjVCwy6IoWl1BFsk8z7Q7qvOm533fmd33nX33bvaCRfCFd/beZ57vM/N+\n",
       "3p/zHoCbVJv9Ge6+tDibdOcYhLsy+cOQc4knd6e9e8u05o5EheE4gRZimeAZIYazM+Nx5VfFpISn\n",
       "NV9MVhiPF2yyMuL5lJT7Zsbjyq+KqS43nVk1i/SoRS/x1Is3HQKoszLieZX8RGbG48qviun4tOYO\n",
       "c6Rgon+9Ip9P/TYUXgBakmW8S3D7EjPjceVXxTRP6AnHstk4b37LHBPxPCrHUxiivAD0RpYRj3Zw\n",
       "+/adLqZmV37VS544X2o7J5oDI81TFeERBAAvsEz61ng0+qubhd2NX/WSj8ykOwZfO5ImQ+QlwQzQ\n",
       "a/T/WREeQQBwgGWCZxVAp/QNVDFUWT836WW5OVGRN6b6wuyZwf6f1H6rIZWvjfFmTM/DM5MV4REE\n",
       "AB+wTPAsAD0ubyAxlNNvibxunr+FYojtrxzLrK1tl+/GkmVDKvatmhBpv8BYvYGFfOF+DX2e1ggn\n",
       "/sLf5W7x2AI7zWeZ4AlCICMK2zaHAvfknHicfs3ynUXNP0KRrXW1Didbq4aknzDThPzI+m0IkaXZ\n",
       "y8LPz2atqbmBBryegCXjAMs2uMVjCYp7RJYJnkAmyG0h9CObM1okBamS3iP6ga9Zvso/OS7BM8BF\n",
       "57XYH8nckba9WcH2hqubn3aGvMLhQXBMWaw7Mz/R1GText+9bvHYAgkePc5Ljy4azWlnfZDyrd6w\n",
       "eh0fSvSDxfsapWPrlxsSPJ1cdEG7Coa4zYdVsL0D23aNOkN6DatHJdiMSvd114odjZjr54yO9poi\n",
       "nmVl8GwEXiAZXNC5Egff1pb9gaMGaMRdW9GaLu091A8OrRxkL3i+d0q6xi0yc6V4GpmQRhe0x8lI\n",
       "8sa4YYUF9FYHW1bBaUnIgNXTarEXarETECC3vIVRT8xwCRkFzZiNZwu5fGbvk3P2hW7iVKq0Bae/\n",
       "GA4ffw4N37JM8exBvH8syQTDWphupUEzUicleIifmlvD2k3d2IArobdkZ38AzFAJHiXOhHXWjFPU\n",
       "LoBAiNvR0gJ6Q8obmQtxSUhP2I4BsC/zLPTQMXq+sNqi2b+GcDITNp6dMWs/dB0roJMxRC9+ckbz\n",
       "IF0KLIH+9ST8CKfEhZ0O4F3HoMHA2O0Mj6o+XoqH+HngbWZZmqv7F5QPY84vwnnQny7Bg3WiwvYS\n",
       "bRvoEVhbnPlIgRAI4QptrVJiSMVi5sGq5od/P8T6TfcmKJpNcwq8pmkaFh7ljXdXRElbXMKX0e8F\n",
       "6wJt6x55n26YbEHr1TjcpGheZ5ni0Yh0PSyFugQ8Fo1G05rhP3ehFA/1gwlm+b6p+RbanXiCOMeF\n",
       "S/DUh5mQRhe0bbgW+TkBKVDvhhgoP0WjXc6QNh64T3jue+9YHxWCea/FbP96QzYRPLT6sGjwppVG\n",
       "eFP4qLDSHDgKvR64zHoP3P8l3pQdhymNCu3E+DVyW4JnP8B3I3B64NTDW/jeE2HCy+DULsQ+4OOC\n",
       "kALxxsYy9LAkpMdeL8/I941nJHhcpxojEPGPhUDFNiS5gMc/hv3nG5XNkohHS8lPCzvUuArdMRwf\n",
       "oJi0iv7d0J3z95HLbjIQoGMMBiI1oQc4PPoIE7I5uKiltVFxsDN9HyugtzL2CSTZoHOE1JKuDjRm\n",
       "h6cX+48WSdLdwxX+ex4b5QdYfhD0bWS+wktYjic/tDUFHZkgdvevzLmkisokdMSUCXKZhIu3QGu+\n",
       "kfAa19j5kL1yXWBCGp3TAjyFNG4igwkWhBbQW+/aM5yDPJmRHSF9oeJBZ5nzz0La0b+1MjwLIWgo\n",
       "L8Zou6yVPkOls8MMZ82FdZRUUSsekxTd98BIhsMzJIlO8ZAJQxigMc4bPiZzjxiyruDZI69iz///\n",
       "3A0YLJdrghnwKHaFlM+xQVsL9sJfeWzoLoPDk5ecehJtfVr2tLzUxkIOVPkofhZ4NHlXgoxEyfDU\n",
       "Z+RxvfLP8kz5NwnfkXhm/X8u6wEn5XdTcvPJsuHUXBXpLM6G/wNAxf6wtwyqvgAAAABJRU5ErkJg\n",
       "gg==\n",
       "\" style=\"display:inline;vertical-align:middle;\" /></a><br>"
      ],
      "text/plain": [
       "membershipFolding: forall_{m in NaturalsPos} [forall_{x, A_1,...,A_m | (x in A_1) or  ...  or (x in A_m)} (x in (A_1 union  ...  union A_m))]"
      ]
     },
     "execution_count": 3,
     "metadata": {},
     "output_type": "execute_result"
    }
   ],
   "source": [
    "membershipFolding = Forall(m, Forall((x, iterA1m), InSet(x, Union(iterA1m)), \n",
    "                                     conditions=[x_in_any_A]),\n",
    "                           domain=NaturalsPos)"
   ]
  },
  {
   "cell_type": "code",
   "execution_count": 4,
   "metadata": {},
   "outputs": [
    {
     "data": {
      "text/html": [
       "<strong id=\"nonmembershipEquiv\"><a class=\"ProveItLink\" href=\"_proofs_/nonmembershipEquiv.ipynb\">nonmembershipEquiv</a>:</strong> <a class=\"ProveItLink\" href=\"__pv_it/e2e214a83aabcca03f0240e4e33cd745318982960/expr.ipynb\"><img src=\"data:image/png;base64,iVBORw0KGgoAAAANSUhEUgAAArQAAAAXCAMAAADN9yyBAAAARVBMVEX///8sLCxlZWUbGxsJCQkd\n",
       "HR0PDw8WFhYQEBC6urrMzMxUVFRmZmZERETc3NwyMjKqqqp2dnaIiIiYmJgiIiLu7u4AAAA/PWo8\n",
       "AAAAAXRSTlMAQObYZgAABmtJREFUaN7tW4eS7SYMdboppsP/f2ooLmD6tW8ykywzu/JbC6QjH0DI\n",
       "fsvyf2lAL8sP2P+GW6+hE4rCfyVUQKSy0pQudQoNGvZlJ2sWJEjlINY5sBUXBm1+8iyeuFWJzC4l\n",
       "VWBRl5Z45C+3g7422AwdUCo7akVlZfiXvaxawDCVYyCmwFZdGLL5ybN45lYlMoe0ROMnz6l+TNrX\n",
       "Bptoh6WORQxKnXbXjUHtTWgETUu9YsG7cpMjWOfA1l242yRzTy1Tf8mtSmToSTSyHR5sy2PSvjbY\n",
       "RFYiUlld6kqdjg3KGNXsQtDIYlpXr1nwexJP5QDWObANF+42KZ5bL3DFv4duVSKzS0e0Y3Zg9py0\n",
       "rw023ladysIKKKhSf/1JC5322NvZbpoxhnOkzdRrFrx7ayoHsM6Bbbhwswk3NbPUZupvuVWJzC4d\n",
       "0SQnvqnlBdK+Ndh45k9TWQgtlTaWGyl0Ok6Qy2qM/iJpqxZ821gqu1jnwDZdSG0iIGaOInf199yq\n",
       "RCZITzSzuab4G6R9a7DhhnkqCReIMIHPaJLNhUTTUqegYOBCjQHfI23dQggcTmUX6xzYpguJTddv\n",
       "YrXJ1N9zqxKZID3RkD+VFaZBg6BV0n4w2LNjmEyktp5JJZf1jGZwJV0Sjk5BwUYCGyO/R9q6Bd8Y\n",
       "TaV7/DRqKHN7CmzTBRYTicupvC5Tf8+tSmSC9EQDqDwNWnO+StreYGCqItrXXkEi3WwSNkdiRzFH\n",
       "b4Vj7RpNbbn6LgYfedrrpL1ZyEGuqexinQPbBJnYdADIOA8y9adudSMTZCCasy5kO+em2NUrxIp1\n",
       "m7S9wdapimhf+9hadum8Q1uCW9n2x+9K0byT6+CnBTDGd4IYqbdJm1ooxdaksot1DmwTZGwzlNbR\n",
       "aO02V3/m1kBkggxEcxyrHRu1wBjb+3JbuFXhurPSNgezHVczUQwb0L6R1jM93oYCfzgrP30bXbPa\n",
       "dtVd2OukvVt4j7RjYJsgY5vhqQ1BLas/dWuKtHY3r7kqNkC0tu5JO7GwJy1GCCn7w8qkbQxmZ5Vi\n",
       "Zh3m7Ij2ylIZkvurvK9VoUB4KbMVWnianHWXCmnxHGkj9czCSHqAVdS2zO0psE2QkU22O03HziMF\n",
       "9aduTaUHNlFG+4tdLIDgyObMGwz/PjcDyCARAyvtNdhiD5FAJNuNAqRe4MhZMKC9yURK4tOpRZzd\n",
       "kL0BcLnToo84K2NIRtrrlMHPfEfXL0rqmYV7hN2faCq7WOfANkFGNg/2MZwhK4AtqD90ayAykkZE\n",
       "Yzig0BK4k5yyK6X0q+UFSUJLWAkHSHsM5ghuU5uVpSWMo8CButyNtZtKl2TW/c1OR3LtTlqBLE87\n",
       "OpEz9drMfuSLSUsUuRcg9bGV5Rcl9cxCFuGZktepMAW2CfKyeR3O1B1rCWyu/tCtkchEJa8rBSFa\n",
       "uHi7td3fhzwmrT0WctQn7ZnPgFttaYHujQk1wo+89nahSLuZQsRSb4JrzpODIKH4t3In45o/Nvgr\n",
       "v6XFpLXHT8QgZNt2rTTrVrsoqWcW7hH2KwNIZRfrFNg2yMsmOq+O0tSFrAA2V3/o1khkgjyIJo8w\n",
       "I+HY4u67OQmVf1WwiUBaIrUaIK281lCTMFOFvDvMI9UjbaLdSGpJKgvt11+oSk+udWWWpl6AIyTG\n",
       "v4UaUE8jvMy9xiXLB2AbICOb0YwZ+WKxqP7MrW5kote4aVigO3y5TNr5olGy0i4A7nkKaZE2Xizt\n",
       "z6XgR5P7DtMjbawtMRMSAVmqfA98b5K/6qgrs2+/gE4j7DP/JZGtKhNfPgDbAMnf/YD0mVvdyOzy\n",
       "TjRidsa7Cpe7JAlprVf1TPQ+FjQLp77UTHzSDsPnFHA/KwbS+lvElZ3PXwVt5rCsIE/m45p19bO4\n",
       "0hdnVeVvk/Ye4fNFjH7n08Shz+sOkHNvlGb8+8CtbmQ0LRMNuLEVdHk2Jz4/AcfZIlw1Nuv7WDa3\n",
       "YVg4lkOfYYedXtod35/NAmn9LeiyiPNXSdtm8a5uwkvvx47vAKufD5ZedVSUCacGf/Xz9XuEz3UB\n",
       "jVSaTrenwFZBorfftj9xqxuZQ/Ju+sL3nLbfhFLVbK70Yp9Ub8lSCdSVVlRJ+zymkoqbxUlO/rH/\n",
       "WdGJGkxljxVi+QBsx/abrH3BrUpkdmlpBv6RJwOzGQ3FGpbN/FbhT+7ltVPfvhDmn/bTRhfaxi35\n",
       "E7Cf1mx/A37cj/OmwhWRAAAAAElFTkSuQmCC\n",
       "\" style=\"display:inline;vertical-align:middle;\" /></a><br>"
      ],
      "text/plain": [
       "nonmembershipEquiv: forall_{m in NaturalsPos} [forall_{x, A_1,...,A_m} ((x not-in (A_1 union  ...  union A_m)) = ((x not-in A_1) and  ...  and (x not-in A_m)))]"
      ]
     },
     "execution_count": 4,
     "metadata": {},
     "output_type": "execute_result"
    }
   ],
   "source": [
    "nonmembershipEquiv = Forall(m, Forall((x, iterA1m), \n",
    "                                      Equals(NotInSet(x, Union(iterA1m)),\n",
    "                                             x_notin_all_A)),\n",
    "                            domain=NaturalsPos)"
   ]
  },
  {
   "cell_type": "code",
   "execution_count": 5,
   "metadata": {},
   "outputs": [
    {
     "data": {
      "text/html": [
       "<strong id=\"nonmembershipFolding\"><a class=\"ProveItLink\" href=\"_proofs_/nonmembershipFolding.ipynb\">nonmembershipFolding</a>:</strong> <a class=\"ProveItLink\" href=\"__pv_it/e4b1100675e0a60a924faf353f3cdcc3d7b3bbb00/expr.ipynb\"><img src=\"data:image/png;base64,iVBORw0KGgoAAAANSUhEUgAAAjsAAAAZCAMAAADg8x99AAAAV1BMVEX///9bW1sNDQ0JCQkdHR0P\n",
       "Dw8WFhYfHx9vb28oKCgtLS0/Pz9RUVEvLy8QEBC6urrMzMxUVFRmZmZERETc3NwyMjKqqqp2dnaI\n",
       "iIiYmJgiIiLu7u4AAAAH8NkCAAAAAXRSTlMAQObYZgAABjhJREFUaN7tW4uypCYQZbOb7OYlIMj7\n",
       "/78zNIryVrPOrcrkUnUHZmhPt3BsupGL0HOFGWM4+iz/g4L9VMsnAc3nmD4xLfa/YSenyD7MHfs5\n",
       "+2fkUONRtANp4sSLreto0DivA3cOZ6HVE9x5EO89C6F3uouvxskXm9fTMJO8Bu7InWaLfYI7D+K9\n",
       "ZzkZlhkPpKVzLebZZrNbRuIdDWBJUXvucBbb7JE160G8tyxK3QkaVbFiOWeG13B6Ky6txHsaYBmR\n",
       "eQ3XRmbP4hHuPIj3lmXqewarFvPbr2bpSi/eK7ghGcg97lTiPQ1g3ZTXwB0teSg/nyWZjZdP4b1l\n",
       "oLz0I51FW8R4X1oZNDlnX8idroawBSOyOvgsx6A8kK5vNj2G945ljsPCpaJcqHlflDjzc2aXtnQQ\n",
       "cAQtzuHXcaevIYRCc1YH7tAQObM7u3pyZNO/wHtqy4F0c8tGET+LPQLvqVj05vn9EGqj0bRPZBiw\n",
       "IhqK0quAn7PZOf067vQ1hJtZsjpwB8OHXW49PSObzvDwvT2KoXg2ebxBadZHInc8Ywt7BN5TMeHj\n",
       "6VM+shCRkpY1krApuT89hUvcNvaEPc6dQkM11lNWr3E2YCk93nVYZkge1TTbU+6c4U339iiG4qz7\n",
       "ZZvyeYAk8XUrWknjELyjIi4IMIw0495kjPn21X8stTRcELiJnQsXkZmap7mTa2hwwGX1yh2YZ2N7\n",
       "sf88z75fMyS9iLTnfmeI56+d3J3sfSyedglV2/73X7qPtPtGebo4V9in4IWKBhvQlIKGaZSiK03d\n",
       "5MuRQovHuVNquMQdf4M9nYphbq3ngdYKGOO5M1NKjf8TXZsGePAWTbjpxoo1Fk/nq4ywwPY/rR0g\n",
       "rZEZIqbnJPeeKno7B89UHHwRWWR67M5Zg+o3goe0mIifB8v3FLrDnfkedxLxSsOlNcuPDF0JrmeF\n",
       "laQ+ZGNk/b6vhUQQrq75nQMP+WQCq2z8DObdLLCFORZPuTPlGsH2NN5oIG2RKesGZ3vPhG6Dt7cC\n",
       "2UZGzUO4g9R+EdUIl+MapZGNLDLO8Yo7x1aa3C9AZeNoNcRrDSUV/C9LVm/cEfNqiNUYgmwDuz6h\n",
       "5xhTTTxvNLnGnYgHVPOLevKshQQvZoH0nEKp+Al3yJJrhK8zHyoOUT1wQLcdz96zYl8DLx5W2kx0\n",
       "hR9n5gnJD2pZg0sntafFfA+NmNti8pQ7PB592feDbFx49kbSqsVrDRUV2jn6sfJyqwANfGkQSJ4s\n",
       "Db8hSS9xZ1/JcZFmIgIbpYtTAXw6TeMT8VPurLO0awy2s7HilRKwr7J03M7WszHgAnidZJRr8JZV\n",
       "KWmlzDIKvvxCUFPaQQnRdWiFtS7ljtdCBSGCsX0FnFjRSFq1eK2hpAI4EpzVkTs6glAFIwECIiz3\n",
       "YZuPqZU7XFtzjTv68CguI4hZw7FV7flBsUz8hDuCZhrB9j9+D7Z3FYeJDWu+bu0DHD079gXwMXfQ\n",
       "4IHRX+iS51kDaZHHRlhSqsj1MPJcPKdC+51EfmcEwkCI4+AhszTzOwiTbXnmJ9xJPYf/O3xwANSb\n",
       "9zzlTiquZ6E0xTp/TZb6HZZpBNuPRbGtOFyyCrWSpKMnYp+Dl2biElj3k7rGdmpfWrz6nU9OBYj1\n",
       "YszX5g53G+EgJYcmz7jjb8Veit+PrE4uIdHlC4++PbysTaYwdHHYFEs/KnEB9zHhIp5MZiYkKodG\n",
       "b/tB/abidWa2VEOJyoikJ2BfAi/NrCe/ewajefCgK/1q7pRUiFmDTc5g5K4MzDcEdi0lD8syjlHV\n",
       "2qLoDnf8qi5mBXwjIfBa3br27j2Ez+sUhi4Ca0H6UYv7QBKmUPb8TthSOjT65o8o2la8npWJ7oNV\n",
       "RiQ963bVJfDCzLkKoLvHJJrbqR1pLhc3v/RsXUmF6EZ2d3J+3ENu8c6lfHrU2XoNw7tdjd8M5G9Q\n",
       "6Q53VBmzfO/ZHhUvyfJbrxdpT4XdBS/MbAThXF3fuu5Lf3CJwdERJF06KnR9L2aUMVVzQ9S0PpyE\n",
       "XxGH9z0gz7IQjxUS3VcGLcXi+rSU2F3wwkzxvuduP447+l6Xvqgym1KRX3X6uurOzRfYV9+FUfTJ\n",
       "nWvc+fj/z8rt1+TOvMlb56lz7IukkO96ZBv+P4v+AyiOoX0mWwjeAAAAAElFTkSuQmCC\n",
       "\" style=\"display:inline;vertical-align:middle;\" /></a><br>"
      ],
      "text/plain": [
       "nonmembershipFolding: forall_{m in NaturalsPos} [forall_{x, A_1,...,A_m | (x not-in A_1) and  ...  and (x not-in A_m)} (x not-in (A_1 union  ...  union A_m))]"
      ]
     },
     "execution_count": 5,
     "metadata": {},
     "output_type": "execute_result"
    }
   ],
   "source": [
    "nonmembershipFolding = Forall(m, Forall((x, iterA1m), \n",
    "                                        NotInSet(x, Union(iterA1m)),\n",
    "                                        conditions=[x_notin_all_A]),\n",
    "                              domain=NaturalsPos)"
   ]
  },
  {
   "cell_type": "code",
   "execution_count": 6,
   "metadata": {},
   "outputs": [
    {
     "name": "stdout",
     "output_type": "stream",
     "text": [
      "Theorems may be imported from autogenerated _theorems_.py\n"
     ]
    }
   ],
   "source": [
    "%end theorems"
   ]
  },
  {
   "cell_type": "code",
   "execution_count": null,
   "metadata": {},
   "outputs": [],
   "source": []
  }
 ],
 "metadata": {
  "kernelspec": {
   "display_name": "Python 3",
   "language": "python",
   "name": "python3"
  }
 },
 "nbformat": 4,
 "nbformat_minor": 0
}
