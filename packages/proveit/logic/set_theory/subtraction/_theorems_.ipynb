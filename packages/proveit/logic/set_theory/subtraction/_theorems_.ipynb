{
 "cells": [
  {
   "cell_type": "markdown",
   "metadata": {
    "collapsed": true,
    "deletable": true,
    "editable": true
   },
   "source": [
    "Theorems for context <a href=\"_context_.ipynb\" class=\"ProveItLink\">proveit.logic.set_theory.subtraction</a>\n",
    "========"
   ]
  },
  {
   "cell_type": "code",
   "execution_count": 1,
   "metadata": {
    "collapsed": false,
    "deletable": true,
    "editable": true
   },
   "outputs": [
    {
     "name": "stdout",
     "output_type": "stream",
     "text": [
      "Defining theorems for context 'proveit.logic.set_theory.subtraction'\n",
      "Subsequent end-of-cell assignments will define theorems\n",
      "'%end theorems' will finalize the definitions\n"
     ]
    }
   ],
   "source": [
    "from proveit.logic import Forall, Iff, InSet, NotInSet, Set, Difference, And, Or, Equals, NotEquals\n",
    "from proveit._common_ import x, y, S, A, B\n",
    "%begin theorems"
   ]
  },
  {
   "cell_type": "code",
   "execution_count": 2,
   "metadata": {
    "collapsed": false,
    "deletable": true,
    "editable": true
   },
   "outputs": [
    {
     "data": {
      "text/html": [
       "<strong id=\"membershipUnfolding\"><a class=\"ProveItLink\" href=\"_proofs_/membershipUnfolding.ipynb\">membershipUnfolding</a>:</strong> <a class=\"ProveItLink\" href=\"__pv_it/1c366a660e71ce383a67b99fa473c8a5027619920/expr.ipynb\"><img src=\"__pv_it/1c366a660e71ce383a67b99fa473c8a5027619920/expr.png\" style=\"display:inline;vertical-align:middle;\" /></a><br>"
      ],
      "text/plain": [
       "membershipUnfolding: forall_{x, A, B | x in (A - B)} ((x in A) and (x not-in B))"
      ]
     },
     "execution_count": 2,
     "metadata": {},
     "output_type": "execute_result"
    }
   ],
   "source": [
    "membershipUnfolding = Forall((x, A, B), And(InSet(x, A), NotInSet(x, B)), \n",
    "                             conditions=[InSet(x, Difference(A, B))])"
   ]
  },
  {
   "cell_type": "code",
   "execution_count": 3,
   "metadata": {
    "collapsed": false,
    "deletable": true,
    "editable": true
   },
   "outputs": [
    {
     "data": {
      "text/html": [
       "<strong id=\"membershipFolding\"><a class=\"ProveItLink\" href=\"_proofs_/membershipFolding.ipynb\">membershipFolding</a>:</strong> <a class=\"ProveItLink\" href=\"__pv_it/8bcdc0bd4f5f93badff393ff683af35d207f80e10/expr.ipynb\"><img src=\"__pv_it/8bcdc0bd4f5f93badff393ff683af35d207f80e10/expr.png\" style=\"display:inline;vertical-align:middle;\" /></a><br>"
      ],
      "text/plain": [
       "membershipFolding: forall_{x, A, B | x in A , x not-in B} (x in (A - B))"
      ]
     },
     "execution_count": 3,
     "metadata": {},
     "output_type": "execute_result"
    }
   ],
   "source": [
    "membershipFolding = Forall((x, A, B), InSet(x, Difference(A, B)), \n",
    "                           conditions=[InSet(x, A), NotInSet(x, B)])"
   ]
  },
  {
   "cell_type": "code",
   "execution_count": 4,
   "metadata": {
    "collapsed": false,
    "deletable": true,
    "editable": true
   },
   "outputs": [
    {
     "data": {
      "text/html": [
       "<strong id=\"nonmembershipEquiv\"><a class=\"ProveItLink\" href=\"_proofs_/nonmembershipEquiv.ipynb\">nonmembershipEquiv</a>:</strong> <a class=\"ProveItLink\" href=\"__pv_it/1681db1cff516b6774f6fedaa790bad3cdcb22420/expr.ipynb\"><img src=\"__pv_it/1681db1cff516b6774f6fedaa790bad3cdcb22420/expr.png\" style=\"display:inline;vertical-align:middle;\" /></a><br>"
      ],
      "text/plain": [
       "nonmembershipEquiv: forall_{x, A, B} ((x not-in (A - B)) = ((x not-in A) or (x in B)))"
      ]
     },
     "execution_count": 4,
     "metadata": {},
     "output_type": "execute_result"
    }
   ],
   "source": [
    "nonmembershipEquiv = Forall((x, A, B), Equals(NotInSet(x, Difference(A, B)), \n",
    "                                              Or(NotInSet(x, A), InSet(x, B))))"
   ]
  },
  {
   "cell_type": "code",
   "execution_count": 5,
   "metadata": {
    "collapsed": false,
    "deletable": true,
    "editable": true
   },
   "outputs": [
    {
     "data": {
      "text/html": [
       "<strong id=\"nonmembershipFolding\"><a class=\"ProveItLink\" href=\"_proofs_/nonmembershipFolding.ipynb\">nonmembershipFolding</a>:</strong> <a class=\"ProveItLink\" href=\"__pv_it/56f87e73758e2abd2e0a87f96f4c4000f62601f20/expr.ipynb\"><img src=\"__pv_it/56f87e73758e2abd2e0a87f96f4c4000f62601f20/expr.png\" style=\"display:inline;vertical-align:middle;\" /></a><br>"
      ],
      "text/plain": [
       "nonmembershipFolding: forall_{x, A, B | (x not-in A) or (x in B)} (x not-in (A - B))"
      ]
     },
     "execution_count": 5,
     "metadata": {},
     "output_type": "execute_result"
    }
   ],
   "source": [
    "nonmembershipFolding = Forall((x, A, B), NotInSet(x, Difference(A, B)), \n",
    "                              conditions=[Or(NotInSet(x, A), InSet(x, B))])"
   ]
  },
  {
   "cell_type": "code",
   "execution_count": 6,
   "metadata": {
    "collapsed": false,
    "deletable": true,
    "editable": true
   },
   "outputs": [
    {
     "data": {
      "text/html": [
       "<strong id=\"inAllButOne\"><a class=\"ProveItLink\" href=\"_proofs_/inAllButOne.ipynb\">inAllButOne</a>:</strong> <a class=\"ProveItLink\" href=\"__pv_it/47a4e52c4a7337d733de1fc66174f573d44572990/expr.ipynb\"><img src=\"__pv_it/47a4e52c4a7337d733de1fc66174f573d44572990/expr.png\" style=\"display:inline;vertical-align:middle;\" /></a><br>"
      ],
      "text/plain": [
       "inAllButOne: forall_{x, S, y} ((x in (S - {y})) <=> ((x in S) and (x != y)))"
      ]
     },
     "execution_count": 6,
     "metadata": {},
     "output_type": "execute_result"
    }
   ],
   "source": [
    "inAllButOne = Forall((x, S, y), Iff(InSet(x, Difference(S, Set(y))), \n",
    "                                    And(InSet(x, S), NotEquals(x, y))))"
   ]
  },
  {
   "cell_type": "code",
   "execution_count": 7,
   "metadata": {
    "collapsed": false,
    "deletable": true,
    "editable": true
   },
   "outputs": [
    {
     "name": "stdout",
     "output_type": "stream",
     "text": [
      "Theorems may be imported from autogenerated _theorems_.py\n"
     ]
    }
   ],
   "source": [
    "%end theorems"
   ]
  }
 ],
 "metadata": {
  "kernelspec": {
   "display_name": "Python 3",
   "language": "python",
   "name": "python3"
  },
  "language_info": {
   "codemirror_mode": {
    "name": "ipython",
    "version": 3
   },
   "file_extension": ".py",
   "mimetype": "text/x-python",
   "name": "python",
   "nbconvert_exporter": "python",
   "pygments_lexer": "ipython3",
   "version": "3.7.0"
  }
 },
 "nbformat": 4,
 "nbformat_minor": 0
}
