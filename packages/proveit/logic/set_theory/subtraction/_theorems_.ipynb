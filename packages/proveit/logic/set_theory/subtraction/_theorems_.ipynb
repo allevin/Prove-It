{
 "cells": [
  {
   "cell_type": "markdown",
   "metadata": {},
   "source": [
    "Theorems for context <a href=\"_context_.ipynb\" class=\"ProveItLink\">proveit.logic.set_theory.subtraction</a>\n",
    "========"
   ]
  },
  {
   "cell_type": "code",
   "execution_count": 1,
   "metadata": {},
   "outputs": [
    {
     "name": "stdout",
     "output_type": "stream",
     "text": [
      "Defining theorems for context 'proveit.logic.set_theory.subtraction'\n",
      "Subsequent end-of-cell assignments will define theorems\n",
      "'%end theorems' will finalize the definitions\n"
     ]
    }
   ],
   "source": [
    "from proveit.logic import Forall, Iff, InSet, NotInSet, Set, Difference, And, Or, Equals, NotEquals\n",
    "from proveit._common_ import x, y, S, A, B\n",
    "%begin theorems"
   ]
  },
  {
   "cell_type": "code",
   "execution_count": 2,
   "metadata": {},
   "outputs": [
    {
     "data": {
      "text/html": [
       "<strong id=\"membershipUnfolding\"><a class=\"ProveItLink\" href=\"_proofs_/membershipUnfolding.ipynb\">membershipUnfolding</a>:</strong> <a class=\"ProveItLink\" href=\"__pv_it/eecba6edca8f4ff9888335b46a514604339400220/expr.ipynb\"><img src=\"data:image/png;base64,iVBORw0KGgoAAAANSUhEUgAAAU8AAAAXCAMAAAC8uT3uAAAAQlBMVEX///9bW1sNDQ0JCQkdHR0P\n",
       "Dw8WFhYQEBC6urrMzMxUVFRmZmZERETc3NwyMjKqqqp2dnaIiIiYmJgiIiLu7u4AAAAq2h4+AAAA\n",
       "AXRSTlMAQObYZgAABB5JREFUWMPtWVmy3CAMdFYw+3r/qwYw2IjFeKaSqkkl+tE827RASC3B27b/\n",
       "8kSwe/ih+xsWo6F+WQx+bGMi1i3BD22v5/pD3bkTqF8ZmpdH94c2Hr02xHsShAlcgyetZPlKfGqo\n",
       "lom9MUHhy4/mBXdjGxOhTYAjdjz2uAaPmrNigX2oO7WG+pU8tz77yajGf3RoY5ruTbh6nTWpwZMu\n",
       "O0Plh/oTOahHRUALG6QLQkk9z18g6BAGCXGB/fMHxNYZ1nhVgydtFE9iP7UYCahH7CbM0B86LLwk\n",
       "KgPhQjCIyBU24/Ahyw60eR8KeNKeRbHqj3mE748/HeQIVVBzpQmXml7+4MzNehzpTf5D1QnuBEzh\n",
       "BbZr3X2kORfFcAFPmqTltltQUU31RjJPKSWs9tCqF+FqjDXC3PtdFQZopyItmg1d/phM3eGL6IKV\n",
       "2ifKQH5bYLfsGmhTa02t2RrwpDHZBltwcbqvHWZSpOuajVZ1jM2wRpiq+wBhoFWirzD1c0vdZALx\n",
       "e+5LWGLUlBcuOhsz7Lb4Z/p0ljTgh47o2szomPr6FU0Q2POVP50OQRdHSj3DGmH2+1q2IOu4NAJM\n",
       "YmSzCNgyRvHsjKmt6bTJ3tqYYH//1mAX+tRlOQX80NGX0/5fOVszj01ToXYVn5ph7pyD2dhgDTHJ\n",
       "fu/PFE76QSt+fI7EwJ/HYqtx99hKDunzLO+tP0NMFOzAx1jXS9r1xiqHOR/fGUCD1etzuLn8hmZY\n",
       "Y8yuE0QS6pjEe31QdvamslnU57ukLZnfY7f4ewlL4uUo30MIkUwgLsY7qvaDwGDEPhAxgfWUVfFX\n",
       "houq35hhjTFxG23MAG14orhNX3MgAxLhsjkgGdEVRUkbG2Ns3OZU6T65Fw141rIsE1/lNH8gD4Y+\n",
       "PSaOAuKG/jyHV2X68k+LNcbcWwIFvUhqgCJ98SqMne2K2EnDzLu2X9pZd+q5xe4YKNPnjs46BecI\n",
       "SKOuNAEtFJVzShGKHhkqZ/x5DN9t6mlZgJWkw5KsiOsxO39iW2vHtHJKwfLJBbzv4Az5FISGeZ9P\n",
       "lgJfvXx3yrzF/gr9GdaQLkNEFXkFvOjreLEH31/jKU90URVCeWToPvFnHu6upMVshjXGxB3DIg71\n",
       "kC2JGJw368hAo34ZtzZG3dyXFTY8bwKiTcmn4q5EA/jYgUi/xwOeQpXDKs364RvhbbWosBqmg5im\n",
       "6+jBbcO7ou4vPG6wGX8M3hoJAS9piPmjhLmjeePEh4NAqmlKpJOMkON+/RoefmLQnACshj0hJsW/\n",
       "876u49PVnWBf2Nhj8FsjZvngvp9XmT83/dq91WBOnED9hpBVkE2xpwedHvzOyM5XD56eN91L96py\n",
       "lJel4PJ3/4Og1zcyM2z2GPzWyPPwXFqU5pVA2v55WbrAPL+vU+4vd8YvIBJCX/lmS+YAAAAASUVO\n",
       "RK5CYII=\n",
       "\" style=\"display:inline;vertical-align:middle;\" /></a><br>"
      ],
      "text/plain": [
       "membershipUnfolding: forall_{x, A, B | x in (A - B)} ((x in A) and (x not-in B))"
      ]
     },
     "execution_count": 2,
     "metadata": {},
     "output_type": "execute_result"
    }
   ],
   "source": [
    "membershipUnfolding = Forall((x, A, B), And(InSet(x, A), NotInSet(x, B)), \n",
    "                             conditions=[InSet(x, Difference(A, B))])"
   ]
  },
  {
   "cell_type": "code",
   "execution_count": 3,
   "metadata": {},
   "outputs": [
    {
     "data": {
      "text/html": [
       "<strong id=\"membershipFolding\"><a class=\"ProveItLink\" href=\"_proofs_/membershipFolding.ipynb\">membershipFolding</a>:</strong> <a class=\"ProveItLink\" href=\"__pv_it/c0470e5fc953d513ca93dd3b2bfa885e30fd17f90/expr.ipynb\"><img src=\"data:image/png;base64,iVBORw0KGgoAAAANSUhEUgAAARwAAAAXCAMAAADumgClAAAARVBMVEX///8fHx9vb28oKCgtLS0/\n",
       "Pz9RUVEvLy8QEBC6urrMzMxUVFRmZmZERETc3NwyMjKqqqp2dnaIiIiYmJgiIiLu7u4AAAAP86r6\n",
       "AAAAAXRSTlMAQObYZgAAA4tJREFUWMPtWIeu3CAQdDq9w/9/aujFBpd3St4pClKUfb7dZRmGYe1t\n",
       "+z/Ww75/iVD9Oe/d0HAwTPtBvSc2CH/cG5lrPLBz2A/KAx4E5cfRkKJ48Tcl0bO6Rm/uboQAmuBw\n",
       "AR1eQ/0/RvMf1XizodTHvbVx18gip/L/gXRalljZQU3Ee4ID1suzihs/+MqbCeLYNZ7ZR7sAhwUl\n",
       "OYgIsTjMe2ID+XrLuban3sovHF7OQDMcJgFLC0mi4WgYRn7W8vVp/STXxaTCTCjSjg2jdumdkLKb\n",
       "cPpy/niaNsZzOkny82jgKNB0yT/e/SKoI4RgiroS7unkmt50mToGptVZGRREb6ARfFYx77CwsOnJ\n",
       "qeRgpRQxJVLw3oABObtkrx6YqSMHFTis7YIda3ozskwdRSQFyigOvuKKnZ1NDOC4a8yRm5JjTe4B\n",
       "YCkgGWEz1Ip+lgzMJDEF7HSOrsTS80DPkwxev37qVepIelh7VTxMBYHJgx+8U8MThqsxjJs24FFy\n",
       "VC4RuUqpLQNjVneCtKYH30SaEnPFHEUhs9bOkwxeP4rXMfVuuUBd9oadd7IAvyc55bI6gOOPVJnJ\n",
       "qx5UuDv2SG20W7514TfdK0gPTg3XAxZjkjZH8EJynTqurnYYLDrUTbSz67V5i3IFXUpOJi52Ynas\n",
       "vLThfLJt4C7oOh487iV0XrzwcE3QnmUlfNyvIUk3R/AibJ06pk+1axYlZ1Ptdzw5qVTXFudmi1y6\n",
       "HOZyzbrUng1RSoej3nsHkXSwrown6bRTcGo4kuskbY7oRU9St5s1XMlBHFh3sqw5iny5h+v9Qq9a\n",
       "5Cw5CJRmeLzKx9M86KGXCkL6/JSkEyBWmpPCkYm9E1XTJGWO4PX9W/aapY5YmnQ1KWmlHK8Nxgna\n",
       "Zt6MAhePp6bO8bP7ytcV3zp54wSHO6N1msgD2WaMnEeuPUilw+7JCE4Ot71YHpKUOYIXtiep08ad\n",
       "vAAIzPevD9evCxefcMDeaPocyC3DpoRJYIIzSFZ6wOL+s+HqoZPwDbcad0k6J+/VUJylbi+A99vt\n",
       "Vxt9qfZG7auUIJ6/ScNtahIYdr57jKIueWxiudim4LRwb2ZOHpJ0Tt7+KqriTFK//sniOXH43phu\n",
       "weWD8yZQVs05S/Jl6rVroR997HrmfRiV8vjkfCJ29eDR68MiCSO31vvoiw575YOmQnvjJeI8Amef\n",
       "RMLt3x74k2L/wvgNNXQ6bRxp29YAAAAASUVORK5CYII=\n",
       "\" style=\"display:inline;vertical-align:middle;\" /></a><br>"
      ],
      "text/plain": [
       "membershipFolding: forall_{x, A, B | x in A , x not-in B} (x in (A - B))"
      ]
     },
     "execution_count": 3,
     "metadata": {},
     "output_type": "execute_result"
    }
   ],
   "source": [
    "membershipFolding = Forall((x, A, B), InSet(x, Difference(A, B)), \n",
    "                           conditions=[InSet(x, A), NotInSet(x, B)])"
   ]
  },
  {
   "cell_type": "code",
   "execution_count": 4,
   "metadata": {},
   "outputs": [
    {
     "data": {
      "text/html": [
       "<strong id=\"nonmembershipEquiv\"><a class=\"ProveItLink\" href=\"_proofs_/nonmembershipEquiv.ipynb\">nonmembershipEquiv</a>:</strong> <a class=\"ProveItLink\" href=\"__pv_it/a3f8f747608392597820a58130cf64a0f1e3889e0/expr.ipynb\"><img src=\"data:image/png;base64,iVBORw0KGgoAAAANSUhEUgAAAZ8AAAAWCAMAAAAo9GECAAAAQlBMVEX///9bW1sNDQ0JCQkdHR0P\n",
       "Dw8WFhYQEBC6urrMzMxUVFRmZmZERETc3NwyMjKqqqp2dnaIiIiYmJgiIiLu7u4AAAAq2h4+AAAA\n",
       "AXRSTlMAQObYZgAABEFJREFUaN7tWdkW2ygM9bQzNWZf//9XaxbHCDB4iXv6MLzcxLGkKwSSINP0\n",
       "hwey098+/iqKX+OCFMSDYWxL6N7QCOIrFFsGT9h47k1Es//+aK4WDHHwWvObGfuAncProDyQJ0t8\n",
       "vOELFCG1oaGB7kveBJRie5s/2kqb9EALQS2h9M2dsDPTqMcFRXwTfY1iQS0zlL22TDcnse+NR0bT\n",
       "l8+HW0MpiIe5oyWUVpNxY+cWpxKGhaplkpUvUSypZYbwUvuhruWggTcBt4gT8SQ+s4XYqnSKm1//\n",
       "GV4LxfUhiGPjSU7vaBd8sHPSPb9EsaSWGVpoXbAGutfBL3gTUEsWhnkSHsQhttYK13airCGUuK5s\n",
       "x+WXJuomzQRNq4qKVyjW1DJDPL0pSNujWvdVbwI66oeRT+JDJEQmFWZCkX27M7pSsLwltDW1wumh\n",
       "oZgIGKfJWUkgfpliTS0ztMWFs9LGge7L3gSMeZQe5hae/SKoI4RgWrYxXAO00udsPc37pgz6YXrm\n",
       "WTgs2rNxN2FjpRQxH0nBIfpJ4tnAzyjW1DJDKa/teW6k+7I3AZH3wR7uTA2yjg47UpXpfkYAZcit\n",
       "q/5PHC2tu5sZwWaIueEmSAnbmm3e0QyxU37uUKyp5YZiLDEqbRzpvuxNRB9ldZRaLAFZhwRVqKzk\n",
       "WwwTeh8xoITmtTb++xMUyCzwiz8GYLeLsFBM00BVwlYbqcVB7GTGOxRrasCQKVZ2X7cp+4OhNxF9\n",
       "bA7PzNKafFWbsGSI6Tsf1pKqzm1SNIU+Z4mZnys/n4bnQXzOUaypAUO+55W66VFD93VvIq4rYJNf\n",
       "6xpSOKsui5pothKs879pXmbTWUD0GWHJb4+sqU8W+8tia2OG5SdNBnbiML+RbOcZ+oxiTQ0kUsah\n",
       "RF/3dW8SUpZyqLR+X87ZGsJwsyC3FjRc9yJUA9Qs5N9J7S9iPSHSFlrPFycvELbzAnPbctYcYqcz\n",
       "v0OxpgYN4QXcinV13/AmodhCgGBTtb4gYqX7ZDsem4QyQLAx9N2oz60s424Nwktb6JPB6egCISXs\n",
       "Zf5U8fP99S2KNTVoaKGgMHR13/BmwyxZgsq/1h5C8lmjJGa5Mksjk6OlSlopYc/B+I+lJcTo7EK+\n",
       "1NQ53pvmlUm4TuTZGuIIYud8ep1ii1phCBLu6i7uVs94s+F+tF3m/LaPsJAm9wcxMMhV17gzg9hq\n",
       "1P/BHDYw8/g+ZzAu3e/coXhk8DNftmmjNcRId/t+BxSskMCkj7Y3hGJkfRmLD1jYSszUq/zERWV9\n",
       "RNPyaXykgti9zb9D8cjgwMZ3vCmNrRtTkHVvxtbCxqafYbcecEOvIXm4PeDizuV9636cP/x3cCsP\n",
       "9jv/L4yv8IeGnnhUetM1pocPCt8wxLpb0cdCdwdmEF+g2DY4tPENb3rGFjZ6UDFTEKvc0RO6N9QC\n",
       "cXqDYsvgCRvPvekau7p9/h/vjN8T41M9svFrtAAAAABJRU5ErkJggg==\n",
       "\" style=\"display:inline;vertical-align:middle;\" /></a><br>"
      ],
      "text/plain": [
       "nonmembershipEquiv: forall_{x, A, B} ((x not-in (A - B)) = ((x not-in A) or (x in B)))"
      ]
     },
     "execution_count": 4,
     "metadata": {},
     "output_type": "execute_result"
    }
   ],
   "source": [
    "nonmembershipEquiv = Forall((x, A, B), Equals(NotInSet(x, Difference(A, B)), \n",
    "                                              Or(NotInSet(x, A), InSet(x, B))))"
   ]
  },
  {
   "cell_type": "code",
   "execution_count": 5,
   "metadata": {},
   "outputs": [
    {
     "data": {
      "text/html": [
       "<strong id=\"nonmembershipFolding\"><a class=\"ProveItLink\" href=\"_proofs_/nonmembershipFolding.ipynb\">nonmembershipFolding</a>:</strong> <a class=\"ProveItLink\" href=\"__pv_it/5103a6ed85916a6bb6960f5d594cfad1e67a40790/expr.ipynb\"><img src=\"data:image/png;base64,iVBORw0KGgoAAAANSUhEUgAAATwAAAAXCAMAAAChxwN1AAAAVFBMVEX///9bW1sNDQ0JCQkdHR0P\n",
       "Dw8WFhYSEhIoKCgtLS0/Pz96enovLy8QEBC6urrMzMxUVFRmZmZERETc3NwyMjKqqqp2dnaIiIiY\n",
       "mJgiIiLu7u4AAADkeALsAAAAAXRSTlMAQObYZgAABD9JREFUWMPdWQmS3SgMdSbJZJlh3+H+9wy7\n",
       "WW13dVKV31R18LclAU/SQ5Dj+PAN2j9m2n4AdNTlZ2PfIn3TNGx7c75Xr4kdwm/53P9E5h4u7Bz2\n",
       "jfKIF0HpdeylKFL8RYPwZt4EXkhz92AAQJMhFy3xour/GM0/6sOLNXWTMOZCWht3HzHIqdzHoNUy\n",
       "68rGFUS8Jnhgv3yruPn3q+E7aSaIY/feyTLaRdgsyMZBRJDFZl4TO8j3IcO1PSjbSysPDLwdgWa0\n",
       "TAae5iiLvaOhGflb1sLQfocqTTxVnNusSsq8mVSYCUVqXjLqF2v5WjrXMMLp2zFTtjJOc9BK0vQ4\n",
       "Tptu45c3XwR1hBBMm5V2yLCVC+hgCy2E2N537ZizKs+rtzJQmD5AzaC4ooEReYOVhSefXVIeVkoR\n",
       "UzUFb3oYkLXb6NddZOsYwwosoRl+FFzIaEvCK4DnGTRjTqogv5CRnfySil8tXWzFAPZeZ448pDxr\n",
       "So0DQdsHX6ld+FrSRTaJJmDDs+2yhZoom5D//xttJU+pyjwLxahJ9DTm5OTi2gASbucCgTHmy2f/\n",
       "D5+lY8EXmqsqjJuzwZnyVMEBubYPwJndniWtaZ1j4iqJWcfMmPuKQmZ/2slWZAqVCIzhFWlETWvn\n",
       "MTFagxfjSo3VsBRb6fQE+DPKq5vtCJ73Zqm7PelC1c4PqYM28FgXvumWBlvwQG9Ek46mTluJidIz\n",
       "ZlVx0FyOOZZ14ISHRcHiKmumIq+VFmULvaW8HHDYiVXaer9jmEMjhH4znwP3YQadJ09M7ZqtEO+N\n",
       "xJ+EzbYizR4KlsBLiqPmckw4HMZoXptmkfIOVeeG9QFHRivSvsR7eMQoVR5zZU6ad70o+MB+P/IC\n",
       "ItFwTTyeGNwuwUsLq0ZSzNGFrQRWpPQYeBmRQXM5JhryLBcOoeYI7MTOwLQGjjley4xKnfTuiJEp\n",
       "D4G69XSlSk8WXcntOYqQ1j4lKZHEEjyBOyPI+Prxx3eqJlsl0mAKvFOx1fRNzWOO4EGT91YlrZTd\n",
       "vsf4PyN4SZpR4CILaOocv9pv/YTjrQBvYorDvtcVHuSBPkeMKYfc+SKtADZvusijnREbIMF2YSsL\n",
       "+tBLSV0UO831mHAsasD+gKU/Yd7vtlfST+/wQN+f5BhzRAanxWxKcAfKTC9YDBzW7b/tdmI6IyEl\n",
       "KwyNrfNwLTU+FQfNcxvoxtRjmaz35fWi8NfvPkhJ1fd18VQJ4sM/7TE2FUEMO19dx01H8ljrc7Er\n",
       "b0PBcxrxj1An2c7WeU1kSwgbe4yalfH6MQl8fCW1vCd678VbYUt7VePo2xcL8NR49pTfCnP1K6jr\n",
       "2ykeki41j3nObHcZuiz8GX4feCUn8EX+I3b3YgWepfuj2dVBZFbcHnQXeDJ1P7N76Ye3h6jv3xd4\n",
       "/RTFICaXNz4L5wv90PHHh2r9cjS6X6tc0Y5+dCUl/6r/KvgFMH9aR8kz7vsAAAAASUVORK5CYII=\n",
       "\" style=\"display:inline;vertical-align:middle;\" /></a><br>"
      ],
      "text/plain": [
       "nonmembershipFolding: forall_{x, A, B | (x not-in A) or (x in B)} (x not-in (A - B))"
      ]
     },
     "execution_count": 5,
     "metadata": {},
     "output_type": "execute_result"
    }
   ],
   "source": [
    "nonmembershipFolding = Forall((x, A, B), NotInSet(x, Difference(A, B)), \n",
    "                              conditions=[Or(NotInSet(x, A), InSet(x, B))])"
   ]
  },
  {
   "cell_type": "code",
   "execution_count": 6,
   "metadata": {},
   "outputs": [
    {
     "data": {
      "text/html": [
       "<strong id=\"inAllButOne\"><a class=\"ProveItLink\" href=\"_proofs_/inAllButOne.ipynb\">inAllButOne</a>:</strong> <a class=\"ProveItLink\" href=\"__pv_it/96cf956d127756b4915ab908d0b85acb14e238d90/expr.ipynb\"><img src=\"data:image/png;base64,iVBORw0KGgoAAAANSUhEUgAAAaUAAAAWCAMAAABXJXPzAAAAPFBMVEX///8LCwsYGBgNDQ0oKCgQ\n",
       "EBC6urrMzMxUVFRmZmZERETc3NwyMjKqqqp2dnaIiIiYmJgiIiLu7u4AAACwKje0AAAAAXRSTlMA\n",
       "QObYZgAABMVJREFUaN7tWteWxCYMdQq9Gv//vwZsMEjgvvuQk/CwGs8AukIVeafpXzK88OCZWaum\n",
       "/8wIn3egDtJnq26inG33HSMmK5BC+nugq83Q7xKOrQwLs9G5/v4OMOOQPlsV2XIhRLgQ2y2DL4Uu\n",
       "HxikvwW6AXvN6mprpcffY2FWak35Wb9zq7Ls2fJ9tk6BLMjlwu7I6Zca0V8C3YLFrFQ4kvBg8CO7\n",
       "1AOqZGEjXynJOUifrZr4FsmM/qQlbyH9HdAALGalxYGED12pF2alRefCvNISCZCOkorTcxx6sEot\n",
       "m18z90lLgUCK7ZKJnwANwCJWTM5hyOKxK3XCrNRbtY75XemgIR0FaO3DwaqJLpttMPZJS5M0kGKD\n",
       "luo7aAQWsuIUOg+9CA7sJHJhYVa6yDRm+0pLwkKqrOPKOFEhKxkOV0XzXNydlJ8VEuy6Ui0BackK\n",
       "SMtRj+PLO9AILGAVdFuHnW6dTx5IjeQSA6E4661tl1NY6zy7yKeVhsjMz34iFfJoY+1r8RaHvLz5\n",
       "5HLORnuuFZ+vJUfJayC/MULmMpY2mb8DjcACVtajlHG0tdDr+Puv9HevAqFcWJiVUp6NYRDPxOro\n",
       "Z2mJAmozL7MrNsiTVcl+PCfLVRBn2wJmJpHElRJnbEogXc8UVFlU04+gEdiW1epHwF8Ptx65EpIL\n",
       "C7PRNMH5EarNAs6Kv4UCmgTgYD7d7Vn3q4opLX6PTHMddL95EFZ2Jyl0LHu6KV7BFkhTzkWwFeHf\n",
       "QCOwrDHe7arJWSdhv/W2P8edhVYuLMxGk4bmkTWHLU76+1pazchdXu7KbF/4+IsaJatpMgkRy7XW\n",
       "VHNpr6UpcAErX/cRNALbamk7vXbV4dZbEMABFcg11lKMdoVBzHXUVZuYiaVNx0P2FWbp0hAD69VQ\n",
       "ezujiLfNDqIsuUpMXDf5yeVI0OSlUcSbzNwO9RE0BtuwMqI7/KOtRYLy5x8bJAnzriPTScSLuTJX\n",
       "7zYk/6wcgiBLLj/jBWKK+BgqiaUH1KstBbqqSz7wkzy7pEdx2aexc5OJJO8qca8hzafH67Grr6Ax\n",
       "2IZV0Y4RmMVg65ErQbmwMJkakQ+BtuVXNgVOSguExlkOBVlYNZoYDWScr1zbKO3vb3mVmNd57rrr\n",
       "URSSjoiW+HhZideyC94hX4HGYCureveZEYvR1l1W6uUSY9qEzib4BLrF4bZBwlGQpXNLg3Q2pNod\n",
       "ZoSuNZlX8QiYc+lv35cSAycKxEZLpYDT8HBL5Yq6X69AY7CVVTWBerM92XrgSlAuLEyh9Z6dIlqB\n",
       "Zwy0lFRdEnzgREE6GoZr3CF6+G6o7T2U6HenQ5TRhvAToId9nC0C9R+PtzbiPKoPO0StTMtk9Vrk\n",
       "q6RvIcsFb31MGurvTk8bnW9m7wrhcwJtOi1ZB+ld9v5dw+UOq+OtB+U0kAsLgzlFvzMi+mjSV7pM\n",
       "MxGHmvJjtC4n9U+/ubh5rGQvvaVFDYka2MJvv7noY+lzCUeu1MqFhTnl5LtHpfq0tJYXkN4bz2bH\n",
       "bL4yNjF6U9SQSKaoIL3P/iGMxvrVWwlHN9NWLizMGSemuseo7GGntxQw6tHLGvXwzbC3sN3d/N9D\n",
       "aYE69py9eveC+g6rg63pvZ1vCdW7UlL4+zD+//gy/gE19khZlI2AOgAAAABJRU5ErkJggg==\n",
       "\" style=\"display:inline;vertical-align:middle;\" /></a><br>"
      ],
      "text/plain": [
       "inAllButOne: forall_{x, S, y} ((x in (S - {y})) <=> ((x in S) and (x != y)))"
      ]
     },
     "execution_count": 6,
     "metadata": {},
     "output_type": "execute_result"
    }
   ],
   "source": [
    "inAllButOne = Forall((x, S, y), Iff(InSet(x, Difference(S, Set(y))), \n",
    "                                    And(InSet(x, S), NotEquals(x, y))))"
   ]
  },
  {
   "cell_type": "code",
   "execution_count": 7,
   "metadata": {},
   "outputs": [
    {
     "name": "stdout",
     "output_type": "stream",
     "text": [
      "Theorems may be imported from autogenerated _theorems_.py\n"
     ]
    }
   ],
   "source": [
    "%end theorems"
   ]
  }
 ],
 "metadata": {
  "kernelspec": {
   "display_name": "Python 3",
   "language": "python",
   "name": "python3"
  }
 },
 "nbformat": 4,
 "nbformat_minor": 0
}
