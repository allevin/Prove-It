{
 "cells": [
  {
   "cell_type": "markdown",
   "metadata": {},
   "source": [
    "Proof of <a class=\"ProveItLink\" href=\"../../../../_context_.ipynb\">proveit</a>.<a class=\"ProveItLink\" href=\"../../../_context_.ipynb\">logic</a>.<a class=\"ProveItLink\" href=\"../../_context_.ipynb\">set_theory</a>.<a class=\"ProveItLink\" href=\"../_context_.ipynb\">subtraction</a>.<a href=\"../_theorems_.ipynb#nonmembershipEquiv\" class=\"ProveItLink\">nonmembershipEquiv</a> theorem\n",
    "========\n",
    "*** see <a href=\"../__pv_it/535084f5575f2896033e67a90d0a117da06a03c70/dependencies.ipynb\" class=\"ProveItLink\">dependencies</a> ***"
   ]
  },
  {
   "cell_type": "code",
   "execution_count": 1,
   "metadata": {},
   "outputs": [
    {
     "name": "stdout",
     "output_type": "stream",
     "text": [
      "Beginning proof of nonmembershipEquiv\n",
      "Recorded 'presuming' information\n",
      "Presuming previous theorems (applied transitively).\n"
     ]
    },
    {
     "data": {
      "text/html": [
       "<strong id=\"nonmembershipEquiv\">nonmembershipEquiv:</strong> <a class=\"ProveItLink\" href=\"../__pv_it/a3f8f747608392597820a58130cf64a0f1e3889e0/expr.ipynb\"><img src=\"data:image/png;base64,iVBORw0KGgoAAAANSUhEUgAAAZ8AAAAWCAMAAAAo9GECAAAAQlBMVEX///9bW1sNDQ0JCQkdHR0P\n",
       "Dw8WFhYQEBC6urrMzMxUVFRmZmZERETc3NwyMjKqqqp2dnaIiIiYmJgiIiLu7u4AAAAq2h4+AAAA\n",
       "AXRSTlMAQObYZgAABEFJREFUaN7tWdkW2ygM9bQzNWZf//9XaxbHCDB4iXv6MLzcxLGkKwSSINP0\n",
       "hwey098+/iqKX+OCFMSDYWxL6N7QCOIrFFsGT9h47k1Es//+aK4WDHHwWvObGfuAncProDyQJ0t8\n",
       "vOELFCG1oaGB7kveBJRie5s/2kqb9EALQS2h9M2dsDPTqMcFRXwTfY1iQS0zlL22TDcnse+NR0bT\n",
       "l8+HW0MpiIe5oyWUVpNxY+cWpxKGhaplkpUvUSypZYbwUvuhruWggTcBt4gT8SQ+s4XYqnSKm1//\n",
       "GV4LxfUhiGPjSU7vaBd8sHPSPb9EsaSWGVpoXbAGutfBL3gTUEsWhnkSHsQhttYK13airCGUuK5s\n",
       "x+WXJuomzQRNq4qKVyjW1DJDPL0pSNujWvdVbwI66oeRT+JDJEQmFWZCkX27M7pSsLwltDW1wumh\n",
       "oZgIGKfJWUkgfpliTS0ztMWFs9LGge7L3gSMeZQe5hae/SKoI4RgWrYxXAO00udsPc37pgz6YXrm\n",
       "WTgs2rNxN2FjpRQxH0nBIfpJ4tnAzyjW1DJDKa/teW6k+7I3AZH3wR7uTA2yjg47UpXpfkYAZcit\n",
       "q/5PHC2tu5sZwWaIueEmSAnbmm3e0QyxU37uUKyp5YZiLDEqbRzpvuxNRB9ldZRaLAFZhwRVqKzk\n",
       "WwwTeh8xoITmtTb++xMUyCzwiz8GYLeLsFBM00BVwlYbqcVB7GTGOxRrasCQKVZ2X7cp+4OhNxF9\n",
       "bA7PzNKafFWbsGSI6Tsf1pKqzm1SNIU+Z4mZnys/n4bnQXzOUaypAUO+55W66VFD93VvIq4rYJNf\n",
       "6xpSOKsui5pothKs879pXmbTWUD0GWHJb4+sqU8W+8tia2OG5SdNBnbiML+RbOcZ+oxiTQ0kUsah\n",
       "RF/3dW8SUpZyqLR+X87ZGsJwsyC3FjRc9yJUA9Qs5N9J7S9iPSHSFlrPFycvELbzAnPbctYcYqcz\n",
       "v0OxpgYN4QXcinV13/AmodhCgGBTtb4gYqX7ZDsem4QyQLAx9N2oz60s424Nwktb6JPB6egCISXs\n",
       "Zf5U8fP99S2KNTVoaKGgMHR13/BmwyxZgsq/1h5C8lmjJGa5Mksjk6OlSlopYc/B+I+lJcTo7EK+\n",
       "1NQ53pvmlUm4TuTZGuIIYud8ep1ii1phCBLu6i7uVs94s+F+tF3m/LaPsJAm9wcxMMhV17gzg9hq\n",
       "1P/BHDYw8/g+ZzAu3e/coXhk8DNftmmjNcRId/t+BxSskMCkj7Y3hGJkfRmLD1jYSszUq/zERWV9\n",
       "RNPyaXykgti9zb9D8cjgwMZ3vCmNrRtTkHVvxtbCxqafYbcecEOvIXm4PeDizuV9636cP/x3cCsP\n",
       "9jv/L4yv8IeGnnhUetM1pocPCt8wxLpb0cdCdwdmEF+g2DY4tPENb3rGFjZ6UDFTEKvc0RO6N9QC\n",
       "cXqDYsvgCRvPvekau7p9/h/vjN8T41M9svFrtAAAAABJRU5ErkJggg==\n",
       "\" style=\"display:inline;vertical-align:middle;\" /></a><br>(see <a class=\"ProveItLink\" href=\"../__pv_it/a3f8f747608392597820a58130cf64a0f1e3889e0/dependencies.ipynb\">dependencies</a>)<br>"
      ],
      "text/plain": [
       "nonmembershipEquiv: forall_{x, A, B} ((x not-in (A - B)) = ((x not-in A) or (x in B)))"
      ]
     },
     "execution_count": 1,
     "metadata": {},
     "output_type": "execute_result"
    }
   ],
   "source": [
    "import proveit\n",
    "%proving nonmembershipEquiv presuming []"
   ]
  },
  {
   "cell_type": "code",
   "execution_count": null,
   "metadata": {},
   "outputs": [],
   "source": []
  }
 ],
 "metadata": {
  "kernelspec": {
   "display_name": "Python 3",
   "language": "python",
   "name": "python3"
  }
 },
 "nbformat": 4,
 "nbformat_minor": 0
}
