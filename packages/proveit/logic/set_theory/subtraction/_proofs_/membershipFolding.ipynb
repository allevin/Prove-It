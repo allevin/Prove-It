{
 "cells": [
  {
   "cell_type": "markdown",
   "metadata": {},
   "source": [
    "Proof of <a class=\"ProveItLink\" href=\"../../../../_context_.ipynb\">proveit</a>.<a class=\"ProveItLink\" href=\"../../../_context_.ipynb\">logic</a>.<a class=\"ProveItLink\" href=\"../../_context_.ipynb\">set_theory</a>.<a class=\"ProveItLink\" href=\"../_context_.ipynb\">subtraction</a>.<a href=\"../_theorems_.ipynb#membershipFolding\" class=\"ProveItLink\">membershipFolding</a> theorem\n",
    "========\n",
    "*** see <a href=\"../__pv_it/20cc5e063b108349a91332c1a63324af257d5c2e0/dependencies.ipynb\" class=\"ProveItLink\">dependencies</a> ***"
   ]
  },
  {
   "cell_type": "code",
   "execution_count": 1,
   "metadata": {},
   "outputs": [
    {
     "name": "stdout",
     "output_type": "stream",
     "text": [
      "Beginning proof of membershipFolding\n",
      "Recorded 'presuming' information\n",
      "Presuming previous theorem (applied transitively).\n"
     ]
    },
    {
     "data": {
      "text/html": [
       "<strong id=\"membershipFolding\">membershipFolding:</strong> <a class=\"ProveItLink\" href=\"../__pv_it/c0470e5fc953d513ca93dd3b2bfa885e30fd17f90/expr.ipynb\"><img src=\"data:image/png;base64,iVBORw0KGgoAAAANSUhEUgAAARwAAAAXCAMAAADumgClAAAARVBMVEX///8fHx9vb28oKCgtLS0/\n",
       "Pz9RUVEvLy8QEBC6urrMzMxUVFRmZmZERETc3NwyMjKqqqp2dnaIiIiYmJgiIiLu7u4AAAAP86r6\n",
       "AAAAAXRSTlMAQObYZgAAA4tJREFUWMPtWIeu3CAQdDq9w/9/aujFBpd3St4pClKUfb7dZRmGYe1t\n",
       "+z/Ww75/iVD9Oe/d0HAwTPtBvSc2CH/cG5lrPLBz2A/KAx4E5cfRkKJ48Tcl0bO6Rm/uboQAmuBw\n",
       "AR1eQ/0/RvMf1XizodTHvbVx18gip/L/gXRalljZQU3Ee4ID1suzihs/+MqbCeLYNZ7ZR7sAhwUl\n",
       "OYgIsTjMe2ID+XrLuban3sovHF7OQDMcJgFLC0mi4WgYRn7W8vVp/STXxaTCTCjSjg2jdumdkLKb\n",
       "cPpy/niaNsZzOkny82jgKNB0yT/e/SKoI4RgiroS7unkmt50mToGptVZGRREb6ARfFYx77CwsOnJ\n",
       "qeRgpRQxJVLw3oABObtkrx6YqSMHFTis7YIda3ozskwdRSQFyigOvuKKnZ1NDOC4a8yRm5JjTe4B\n",
       "YCkgGWEz1Ip+lgzMJDEF7HSOrsTS80DPkwxev37qVepIelh7VTxMBYHJgx+8U8MThqsxjJs24FFy\n",
       "VC4RuUqpLQNjVneCtKYH30SaEnPFHEUhs9bOkwxeP4rXMfVuuUBd9oadd7IAvyc55bI6gOOPVJnJ\n",
       "qx5UuDv2SG20W7514TfdK0gPTg3XAxZjkjZH8EJynTqurnYYLDrUTbSz67V5i3IFXUpOJi52Ynas\n",
       "vLThfLJt4C7oOh487iV0XrzwcE3QnmUlfNyvIUk3R/AibJ06pk+1axYlZ1Ptdzw5qVTXFudmi1y6\n",
       "HOZyzbrUng1RSoej3nsHkXSwrown6bRTcGo4kuskbY7oRU9St5s1XMlBHFh3sqw5iny5h+v9Qq9a\n",
       "5Cw5CJRmeLzKx9M86KGXCkL6/JSkEyBWmpPCkYm9E1XTJGWO4PX9W/aapY5YmnQ1KWmlHK8Nxgna\n",
       "Zt6MAhePp6bO8bP7ytcV3zp54wSHO6N1msgD2WaMnEeuPUilw+7JCE4Ot71YHpKUOYIXtiep08ad\n",
       "vAAIzPevD9evCxefcMDeaPocyC3DpoRJYIIzSFZ6wOL+s+HqoZPwDbcad0k6J+/VUJylbi+A99vt\n",
       "Vxt9qfZG7auUIJ6/ScNtahIYdr57jKIueWxiudim4LRwb2ZOHpJ0Tt7+KqriTFK//sniOXH43phu\n",
       "weWD8yZQVs05S/Jl6rVroR997HrmfRiV8vjkfCJ29eDR68MiCSO31vvoiw575YOmQnvjJeI8Amef\n",
       "RMLt3x74k2L/wvgNNXQ6bRxp29YAAAAASUVORK5CYII=\n",
       "\" style=\"display:inline;vertical-align:middle;\" /></a><br>(see <a class=\"ProveItLink\" href=\"../__pv_it/c0470e5fc953d513ca93dd3b2bfa885e30fd17f90/dependencies.ipynb\">dependencies</a>)<br>"
      ],
      "text/plain": [
       "membershipFolding: forall_{x, A, B | x in A , x not-in B} (x in (A - B))"
      ]
     },
     "execution_count": 1,
     "metadata": {},
     "output_type": "execute_result"
    }
   ],
   "source": [
    "import proveit\n",
    "%proving membershipFolding presuming []"
   ]
  },
  {
   "cell_type": "code",
   "execution_count": null,
   "metadata": {},
   "outputs": [],
   "source": []
  }
 ],
 "metadata": {
  "kernelspec": {
   "display_name": "Python 3",
   "language": "python",
   "name": "python3"
  }
 },
 "nbformat": 4,
 "nbformat_minor": 0
}
