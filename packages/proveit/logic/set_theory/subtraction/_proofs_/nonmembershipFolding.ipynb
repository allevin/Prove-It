{
 "cells": [
  {
   "cell_type": "markdown",
   "metadata": {
    "collapsed": true,
    "deletable": true,
    "editable": true
   },
   "source": [
    "Proof of <a class=\"ProveItLink\" href=\"../../../../_context_.ipynb\">proveit</a>.<a class=\"ProveItLink\" href=\"../../../_context_.ipynb\">logic</a>.<a class=\"ProveItLink\" href=\"../../_context_.ipynb\">set_theory</a>.<a class=\"ProveItLink\" href=\"../_context_.ipynb\">subtraction</a>.<a href=\"../_theorems_.ipynb#nonmembershipFolding\" class=\"ProveItLink\">nonmembershipFolding</a> theorem\n",
    "========\n",
    "*** see <a href=\"../__pv_it/0452ef6f32e5f09e4d3cbe4c2789cce71d6948f90/dependencies.ipynb\" class=\"ProveItLink\">dependencies</a> ***"
   ]
  },
  {
   "cell_type": "code",
   "execution_count": 1,
   "metadata": {
    "collapsed": true,
    "deletable": true,
    "editable": true
   },
   "outputs": [
    {
     "name": "stdout",
     "output_type": "stream",
     "text": [
      "Beginning proof of nonmembershipFolding\n",
      "Recorded 'presuming' information\n",
      "Presuming previous theorems (applied transitively).\n"
     ]
    },
    {
     "data": {
      "text/html": [
       "<strong id=\"nonmembershipFolding\">nonmembershipFolding:</strong> <a class=\"ProveItLink\" href=\"../__pv_it/56f87e73758e2abd2e0a87f96f4c4000f62601f20/expr.ipynb\"><img src=\"../__pv_it/56f87e73758e2abd2e0a87f96f4c4000f62601f20/expr.png\" style=\"display:inline;vertical-align:middle;\" /></a><br>(see <a class=\"ProveItLink\" href=\"../__pv_it/56f87e73758e2abd2e0a87f96f4c4000f62601f20/dependencies.ipynb\">dependencies</a>)<br>"
      ],
      "text/plain": [
       "nonmembershipFolding: forall_{x, A, B | (x not-in A) or (x in B)} (x not-in (A - B))"
      ]
     },
     "execution_count": 1,
     "metadata": {},
     "output_type": "execute_result"
    }
   ],
   "source": [
    "import proveit\n",
    "%proving nonmembershipFolding presuming []"
   ]
  },
  {
   "cell_type": "code",
   "execution_count": 2,
   "metadata": {
    "collapsed": true,
    "deletable": true,
    "editable": true
   },
   "outputs": [],
   "source": []
  }
 ],
 "metadata": {
  "kernelspec": {
   "display_name": "Python 3",
   "language": "python",
   "name": "python3"
  },
  "language_info": {
   "codemirror_mode": {
    "name": "ipython",
    "version": 3
   },
   "file_extension": ".py",
   "mimetype": "text/x-python",
   "name": "python",
   "nbconvert_exporter": "python",
   "pygments_lexer": "ipython3",
   "version": "3.7.0"
  }
 },
 "nbformat": 4,
 "nbformat_minor": 0
}
