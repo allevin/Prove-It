{
 "cells": [
  {
   "cell_type": "markdown",
   "metadata": {},
   "source": [
    "Proof of <a class=\"ProveItLink\" href=\"../../../../_context_.ipynb\">proveit</a>.<a class=\"ProveItLink\" href=\"../../../_context_.ipynb\">logic</a>.<a class=\"ProveItLink\" href=\"../../_context_.ipynb\">set_theory</a>.<a class=\"ProveItLink\" href=\"../_context_.ipynb\">subtraction</a>.<a href=\"../_theorems_.ipynb#nonmembershipFolding\" class=\"ProveItLink\">nonmembershipFolding</a> theorem\n",
    "========\n",
    "*** see <a href=\"../__pv_it/0452ef6f32e5f09e4d3cbe4c2789cce71d6948f90/dependencies.ipynb\" class=\"ProveItLink\">dependencies</a> ***"
   ]
  },
  {
   "cell_type": "code",
   "execution_count": 1,
   "metadata": {},
   "outputs": [
    {
     "name": "stdout",
     "output_type": "stream",
     "text": [
      "Beginning proof of nonmembershipFolding\n",
      "Recorded 'presuming' information\n",
      "Presuming previous theorems (applied transitively).\n"
     ]
    },
    {
     "data": {
      "text/html": [
       "<strong id=\"nonmembershipFolding\">nonmembershipFolding:</strong> <a class=\"ProveItLink\" href=\"../__pv_it/5103a6ed85916a6bb6960f5d594cfad1e67a40790/expr.ipynb\"><img src=\"data:image/png;base64,iVBORw0KGgoAAAANSUhEUgAAATwAAAAXCAMAAAChxwN1AAAAVFBMVEX///9bW1sNDQ0JCQkdHR0P\n",
       "Dw8WFhYSEhIoKCgtLS0/Pz96enovLy8QEBC6urrMzMxUVFRmZmZERETc3NwyMjKqqqp2dnaIiIiY\n",
       "mJgiIiLu7u4AAADkeALsAAAAAXRSTlMAQObYZgAABD9JREFUWMPdWQmS3SgMdSbJZJlh3+H+9wy7\n",
       "WW13dVKV31R18LclAU/SQ5Dj+PAN2j9m2n4AdNTlZ2PfIn3TNGx7c75Xr4kdwm/53P9E5h4u7Bz2\n",
       "jfKIF0HpdeylKFL8RYPwZt4EXkhz92AAQJMhFy3xour/GM0/6sOLNXWTMOZCWht3HzHIqdzHoNUy\n",
       "68rGFUS8Jnhgv3yruPn3q+E7aSaIY/feyTLaRdgsyMZBRJDFZl4TO8j3IcO1PSjbSysPDLwdgWa0\n",
       "TAae5iiLvaOhGflb1sLQfocqTTxVnNusSsq8mVSYCUVqXjLqF2v5WjrXMMLp2zFTtjJOc9BK0vQ4\n",
       "Tptu45c3XwR1hBBMm5V2yLCVC+hgCy2E2N537ZizKs+rtzJQmD5AzaC4ooEReYOVhSefXVIeVkoR\n",
       "UzUFb3oYkLXb6NddZOsYwwosoRl+FFzIaEvCK4DnGTRjTqogv5CRnfySil8tXWzFAPZeZ448pDxr\n",
       "So0DQdsHX6ld+FrSRTaJJmDDs+2yhZoom5D//xttJU+pyjwLxahJ9DTm5OTi2gASbucCgTHmy2f/\n",
       "D5+lY8EXmqsqjJuzwZnyVMEBubYPwJndniWtaZ1j4iqJWcfMmPuKQmZ/2slWZAqVCIzhFWlETWvn\n",
       "MTFagxfjSo3VsBRb6fQE+DPKq5vtCJ73Zqm7PelC1c4PqYM28FgXvumWBlvwQG9Ek46mTluJidIz\n",
       "ZlVx0FyOOZZ14ISHRcHiKmumIq+VFmULvaW8HHDYiVXaer9jmEMjhH4znwP3YQadJ09M7ZqtEO+N\n",
       "xJ+EzbYizR4KlsBLiqPmckw4HMZoXptmkfIOVeeG9QFHRivSvsR7eMQoVR5zZU6ad70o+MB+P/IC\n",
       "ItFwTTyeGNwuwUsLq0ZSzNGFrQRWpPQYeBmRQXM5JhryLBcOoeYI7MTOwLQGjjley4xKnfTuiJEp\n",
       "D4G69XSlSk8WXcntOYqQ1j4lKZHEEjyBOyPI+Prxx3eqJlsl0mAKvFOx1fRNzWOO4EGT91YlrZTd\n",
       "vsf4PyN4SZpR4CILaOocv9pv/YTjrQBvYorDvtcVHuSBPkeMKYfc+SKtADZvusijnREbIMF2YSsL\n",
       "+tBLSV0UO831mHAsasD+gKU/Yd7vtlfST+/wQN+f5BhzRAanxWxKcAfKTC9YDBzW7b/tdmI6IyEl\n",
       "KwyNrfNwLTU+FQfNcxvoxtRjmaz35fWi8NfvPkhJ1fd18VQJ4sM/7TE2FUEMO19dx01H8ljrc7Er\n",
       "b0PBcxrxj1An2c7WeU1kSwgbe4yalfH6MQl8fCW1vCd678VbYUt7VePo2xcL8NR49pTfCnP1K6jr\n",
       "2ykeki41j3nObHcZuiz8GX4feCUn8EX+I3b3YgWepfuj2dVBZFbcHnQXeDJ1P7N76Ye3h6jv3xd4\n",
       "/RTFICaXNz4L5wv90PHHh2r9cjS6X6tc0Y5+dCUl/6r/KvgFMH9aR8kz7vsAAAAASUVORK5CYII=\n",
       "\" style=\"display:inline;vertical-align:middle;\" /></a><br>(see <a class=\"ProveItLink\" href=\"../__pv_it/5103a6ed85916a6bb6960f5d594cfad1e67a40790/dependencies.ipynb\">dependencies</a>)<br>"
      ],
      "text/plain": [
       "nonmembershipFolding: forall_{x, A, B | (x not-in A) or (x in B)} (x not-in (A - B))"
      ]
     },
     "execution_count": 1,
     "metadata": {},
     "output_type": "execute_result"
    }
   ],
   "source": [
    "import proveit\n",
    "%proving nonmembershipFolding presuming []"
   ]
  },
  {
   "cell_type": "code",
   "execution_count": null,
   "metadata": {},
   "outputs": [],
   "source": []
  }
 ],
 "metadata": {
  "kernelspec": {
   "display_name": "Python 3",
   "language": "python",
   "name": "python3"
  }
 },
 "nbformat": 4,
 "nbformat_minor": 0
}
