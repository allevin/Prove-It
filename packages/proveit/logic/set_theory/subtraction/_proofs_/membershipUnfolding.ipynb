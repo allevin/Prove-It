{
 "cells": [
  {
   "cell_type": "markdown",
   "metadata": {
    "collapsed": true,
    "deletable": true,
    "editable": true
   },
   "source": [
    "Proof of <a class=\"ProveItLink\" href=\"../../../../_context_.ipynb\">proveit</a>.<a class=\"ProveItLink\" href=\"../../../_context_.ipynb\">logic</a>.<a class=\"ProveItLink\" href=\"../../_context_.ipynb\">set_theory</a>.<a class=\"ProveItLink\" href=\"../_context_.ipynb\">subtraction</a>.<a href=\"../_theorems_.ipynb#membershipUnfolding\" class=\"ProveItLink\">membershipUnfolding</a> theorem\n",
    "========\n",
    "*** see <a href=\"../__pv_it/9bceb393aee24cba97a1db82cc1f39fc094c33800/dependencies.ipynb\" class=\"ProveItLink\">dependencies</a> ***"
   ]
  },
  {
   "cell_type": "code",
   "execution_count": 1,
   "metadata": {
    "collapsed": true,
    "deletable": true,
    "editable": true
   },
   "outputs": [
    {
     "name": "stdout",
     "output_type": "stream",
     "text": [
      "Beginning proof of membershipUnfolding\n",
      "Recorded 'presuming' information\n"
     ]
    },
    {
     "data": {
      "text/html": [
       "<strong id=\"membershipUnfolding\">membershipUnfolding:</strong> <a class=\"ProveItLink\" href=\"../__pv_it/1c366a660e71ce383a67b99fa473c8a5027619920/expr.ipynb\"><img src=\"../__pv_it/1c366a660e71ce383a67b99fa473c8a5027619920/expr.png\" style=\"display:inline;vertical-align:middle;\" /></a><br>(see <a class=\"ProveItLink\" href=\"../__pv_it/1c366a660e71ce383a67b99fa473c8a5027619920/dependencies.ipynb\">dependencies</a>)<br>"
      ],
      "text/plain": [
       "membershipUnfolding: forall_{x, A, B | x in (A - B)} ((x in A) and (x not-in B))"
      ]
     },
     "execution_count": 1,
     "metadata": {},
     "output_type": "execute_result"
    }
   ],
   "source": [
    "import proveit\n",
    "%proving membershipUnfolding presuming []"
   ]
  },
  {
   "cell_type": "code",
   "execution_count": 2,
   "metadata": {
    "collapsed": true,
    "deletable": true,
    "editable": true
   },
   "outputs": [],
   "source": []
  }
 ],
 "metadata": {
  "kernelspec": {
   "display_name": "Python 3",
   "language": "python",
   "name": "python3"
  },
  "language_info": {
   "codemirror_mode": {
    "name": "ipython",
    "version": 3
   },
   "file_extension": ".py",
   "mimetype": "text/x-python",
   "name": "python",
   "nbconvert_exporter": "python",
   "pygments_lexer": "ipython3",
   "version": "3.7.0"
  }
 },
 "nbformat": 4,
 "nbformat_minor": 0
}
