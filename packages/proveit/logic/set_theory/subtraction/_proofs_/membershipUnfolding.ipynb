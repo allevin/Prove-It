{
 "cells": [
  {
   "cell_type": "markdown",
   "metadata": {},
   "source": [
    "Proof of <a class=\"ProveItLink\" href=\"../../../../_context_.ipynb\">proveit</a>.<a class=\"ProveItLink\" href=\"../../../_context_.ipynb\">logic</a>.<a class=\"ProveItLink\" href=\"../../_context_.ipynb\">set_theory</a>.<a class=\"ProveItLink\" href=\"../_context_.ipynb\">subtraction</a>.<a href=\"../_theorems_.ipynb#membershipUnfolding\" class=\"ProveItLink\">membershipUnfolding</a> theorem\n",
    "========\n",
    "*** see <a href=\"../__pv_it/9bceb393aee24cba97a1db82cc1f39fc094c33800/dependencies.ipynb\" class=\"ProveItLink\">dependencies</a> ***"
   ]
  },
  {
   "cell_type": "code",
   "execution_count": 1,
   "metadata": {},
   "outputs": [
    {
     "name": "stdout",
     "output_type": "stream",
     "text": [
      "Beginning proof of membershipUnfolding\n",
      "Recorded 'presuming' information\n"
     ]
    },
    {
     "data": {
      "text/html": [
       "<strong id=\"membershipUnfolding\">membershipUnfolding:</strong> <a class=\"ProveItLink\" href=\"../__pv_it/eecba6edca8f4ff9888335b46a514604339400220/expr.ipynb\"><img src=\"data:image/png;base64,iVBORw0KGgoAAAANSUhEUgAAAU8AAAAXCAMAAAC8uT3uAAAAQlBMVEX///9bW1sNDQ0JCQkdHR0P\n",
       "Dw8WFhYQEBC6urrMzMxUVFRmZmZERETc3NwyMjKqqqp2dnaIiIiYmJgiIiLu7u4AAAAq2h4+AAAA\n",
       "AXRSTlMAQObYZgAABB5JREFUWMPtWVmy3CAMdFYw+3r/qwYw2IjFeKaSqkkl+tE827RASC3B27b/\n",
       "8kSwe/ih+xsWo6F+WQx+bGMi1i3BD22v5/pD3bkTqF8ZmpdH94c2Hr02xHsShAlcgyetZPlKfGqo\n",
       "lom9MUHhy4/mBXdjGxOhTYAjdjz2uAaPmrNigX2oO7WG+pU8tz77yajGf3RoY5ruTbh6nTWpwZMu\n",
       "O0Plh/oTOahHRUALG6QLQkk9z18g6BAGCXGB/fMHxNYZ1nhVgydtFE9iP7UYCahH7CbM0B86LLwk\n",
       "KgPhQjCIyBU24/Ahyw60eR8KeNKeRbHqj3mE748/HeQIVVBzpQmXml7+4MzNehzpTf5D1QnuBEzh\n",
       "BbZr3X2kORfFcAFPmqTltltQUU31RjJPKSWs9tCqF+FqjDXC3PtdFQZopyItmg1d/phM3eGL6IKV\n",
       "2ifKQH5bYLfsGmhTa02t2RrwpDHZBltwcbqvHWZSpOuajVZ1jM2wRpiq+wBhoFWirzD1c0vdZALx\n",
       "e+5LWGLUlBcuOhsz7Lb4Z/p0ljTgh47o2szomPr6FU0Q2POVP50OQRdHSj3DGmH2+1q2IOu4NAJM\n",
       "YmSzCNgyRvHsjKmt6bTJ3tqYYH//1mAX+tRlOQX80NGX0/5fOVszj01ToXYVn5ph7pyD2dhgDTHJ\n",
       "fu/PFE76QSt+fI7EwJ/HYqtx99hKDunzLO+tP0NMFOzAx1jXS9r1xiqHOR/fGUCD1etzuLn8hmZY\n",
       "Y8yuE0QS6pjEe31QdvamslnU57ukLZnfY7f4ewlL4uUo30MIkUwgLsY7qvaDwGDEPhAxgfWUVfFX\n",
       "houq35hhjTFxG23MAG14orhNX3MgAxLhsjkgGdEVRUkbG2Ns3OZU6T65Fw141rIsE1/lNH8gD4Y+\n",
       "PSaOAuKG/jyHV2X68k+LNcbcWwIFvUhqgCJ98SqMne2K2EnDzLu2X9pZd+q5xe4YKNPnjs46BecI\n",
       "SKOuNAEtFJVzShGKHhkqZ/x5DN9t6mlZgJWkw5KsiOsxO39iW2vHtHJKwfLJBbzv4Az5FISGeZ9P\n",
       "lgJfvXx3yrzF/gr9GdaQLkNEFXkFvOjreLEH31/jKU90URVCeWToPvFnHu6upMVshjXGxB3DIg71\n",
       "kC2JGJw368hAo34ZtzZG3dyXFTY8bwKiTcmn4q5EA/jYgUi/xwOeQpXDKs364RvhbbWosBqmg5im\n",
       "6+jBbcO7ou4vPG6wGX8M3hoJAS9piPmjhLmjeePEh4NAqmlKpJOMkON+/RoefmLQnACshj0hJsW/\n",
       "876u49PVnWBf2Nhj8FsjZvngvp9XmT83/dq91WBOnED9hpBVkE2xpwedHvzOyM5XD56eN91L96py\n",
       "lJel4PJ3/4Og1zcyM2z2GPzWyPPwXFqU5pVA2v55WbrAPL+vU+4vd8YvIBJCX/lmS+YAAAAASUVO\n",
       "RK5CYII=\n",
       "\" style=\"display:inline;vertical-align:middle;\" /></a><br>(see <a class=\"ProveItLink\" href=\"../__pv_it/eecba6edca8f4ff9888335b46a514604339400220/dependencies.ipynb\">dependencies</a>)<br>"
      ],
      "text/plain": [
       "membershipUnfolding: forall_{x, A, B | x in (A - B)} ((x in A) and (x not-in B))"
      ]
     },
     "execution_count": 1,
     "metadata": {},
     "output_type": "execute_result"
    }
   ],
   "source": [
    "import proveit\n",
    "%proving membershipUnfolding presuming []"
   ]
  },
  {
   "cell_type": "code",
   "execution_count": null,
   "metadata": {},
   "outputs": [],
   "source": []
  }
 ],
 "metadata": {
  "kernelspec": {
   "display_name": "Python 3",
   "language": "python",
   "name": "python3"
  }
 },
 "nbformat": 4,
 "nbformat_minor": 0
}
