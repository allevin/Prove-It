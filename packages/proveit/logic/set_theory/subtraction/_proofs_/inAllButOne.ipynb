{
 "cells": [
  {
   "cell_type": "markdown",
   "metadata": {},
   "source": [
    "Proof of <a class=\"ProveItLink\" href=\"../../../../_context_.ipynb\">proveit</a>.<a class=\"ProveItLink\" href=\"../../../_context_.ipynb\">logic</a>.<a class=\"ProveItLink\" href=\"../../_context_.ipynb\">set_theory</a>.<a class=\"ProveItLink\" href=\"../_context_.ipynb\">subtraction</a>.<a href=\"../_theorems_.ipynb#inAllButOne\" class=\"ProveItLink\">inAllButOne</a> theorem\n",
    "========\n",
    "*** see <a href=\"../__pv_it/b1b4ffd6baaa57210b30d83dcaa354021ee7fd9a0/dependencies.ipynb\" class=\"ProveItLink\">dependencies</a> ***"
   ]
  },
  {
   "cell_type": "code",
   "execution_count": 1,
   "metadata": {},
   "outputs": [
    {
     "name": "stdout",
     "output_type": "stream",
     "text": [
      "Beginning proof of inAllButOne\n",
      "Recorded 'presuming' information\n",
      "Presuming previous theorems (applied transitively).\n"
     ]
    },
    {
     "data": {
      "text/html": [
       "<strong id=\"inAllButOne\">inAllButOne:</strong> <a class=\"ProveItLink\" href=\"../__pv_it/96cf956d127756b4915ab908d0b85acb14e238d90/expr.ipynb\"><img src=\"data:image/png;base64,iVBORw0KGgoAAAANSUhEUgAAAaUAAAAWCAMAAABXJXPzAAAAPFBMVEX///8LCwsYGBgNDQ0oKCgQ\n",
       "EBC6urrMzMxUVFRmZmZERETc3NwyMjKqqqp2dnaIiIiYmJgiIiLu7u4AAACwKje0AAAAAXRSTlMA\n",
       "QObYZgAABMVJREFUaN7tWteWxCYMdQq9Gv//vwZsMEjgvvuQk/CwGs8AukIVeafpXzK88OCZWaum\n",
       "/8wIn3egDtJnq26inG33HSMmK5BC+nugq83Q7xKOrQwLs9G5/v4OMOOQPlsV2XIhRLgQ2y2DL4Uu\n",
       "HxikvwW6AXvN6mprpcffY2FWak35Wb9zq7Ls2fJ9tk6BLMjlwu7I6Zca0V8C3YLFrFQ4kvBg8CO7\n",
       "1AOqZGEjXynJOUifrZr4FsmM/qQlbyH9HdAALGalxYGED12pF2alRefCvNISCZCOkorTcxx6sEot\n",
       "m18z90lLgUCK7ZKJnwANwCJWTM5hyOKxK3XCrNRbtY75XemgIR0FaO3DwaqJLpttMPZJS5M0kGKD\n",
       "luo7aAQWsuIUOg+9CA7sJHJhYVa6yDRm+0pLwkKqrOPKOFEhKxkOV0XzXNydlJ8VEuy6Ui0BackK\n",
       "SMtRj+PLO9AILGAVdFuHnW6dTx5IjeQSA6E4661tl1NY6zy7yKeVhsjMz34iFfJoY+1r8RaHvLz5\n",
       "5HLORnuuFZ+vJUfJayC/MULmMpY2mb8DjcACVtajlHG0tdDr+Puv9HevAqFcWJiVUp6NYRDPxOro\n",
       "Z2mJAmozL7MrNsiTVcl+PCfLVRBn2wJmJpHElRJnbEogXc8UVFlU04+gEdiW1epHwF8Ptx65EpIL\n",
       "C7PRNMH5EarNAs6Kv4UCmgTgYD7d7Vn3q4opLX6PTHMddL95EFZ2Jyl0LHu6KV7BFkhTzkWwFeHf\n",
       "QCOwrDHe7arJWSdhv/W2P8edhVYuLMxGk4bmkTWHLU76+1pazchdXu7KbF/4+IsaJatpMgkRy7XW\n",
       "VHNpr6UpcAErX/cRNALbamk7vXbV4dZbEMABFcg11lKMdoVBzHXUVZuYiaVNx0P2FWbp0hAD69VQ\n",
       "ezujiLfNDqIsuUpMXDf5yeVI0OSlUcSbzNwO9RE0BtuwMqI7/KOtRYLy5x8bJAnzriPTScSLuTJX\n",
       "7zYk/6wcgiBLLj/jBWKK+BgqiaUH1KstBbqqSz7wkzy7pEdx2aexc5OJJO8qca8hzafH67Grr6Ax\n",
       "2IZV0Y4RmMVg65ErQbmwMJkakQ+BtuVXNgVOSguExlkOBVlYNZoYDWScr1zbKO3vb3mVmNd57rrr\n",
       "URSSjoiW+HhZideyC94hX4HGYCureveZEYvR1l1W6uUSY9qEzib4BLrF4bZBwlGQpXNLg3Q2pNod\n",
       "ZoSuNZlX8QiYc+lv35cSAycKxEZLpYDT8HBL5Yq6X69AY7CVVTWBerM92XrgSlAuLEyh9Z6dIlqB\n",
       "Zwy0lFRdEnzgREE6GoZr3CF6+G6o7T2U6HenQ5TRhvAToId9nC0C9R+PtzbiPKoPO0StTMtk9Vrk\n",
       "q6RvIcsFb31MGurvTk8bnW9m7wrhcwJtOi1ZB+ld9v5dw+UOq+OtB+U0kAsLgzlFvzMi+mjSV7pM\n",
       "MxGHmvJjtC4n9U+/ubh5rGQvvaVFDYka2MJvv7noY+lzCUeu1MqFhTnl5LtHpfq0tJYXkN4bz2bH\n",
       "bL4yNjF6U9SQSKaoIL3P/iGMxvrVWwlHN9NWLizMGSemuseo7GGntxQw6tHLGvXwzbC3sN3d/N9D\n",
       "aYE69py9eveC+g6rg63pvZ1vCdW7UlL4+zD+//gy/gE19khZlI2AOgAAAABJRU5ErkJggg==\n",
       "\" style=\"display:inline;vertical-align:middle;\" /></a><br>(see <a class=\"ProveItLink\" href=\"../__pv_it/96cf956d127756b4915ab908d0b85acb14e238d90/dependencies.ipynb\">dependencies</a>)<br>"
      ],
      "text/plain": [
       "inAllButOne: forall_{x, S, y} ((x in (S - {y})) <=> ((x in S) and (x != y)))"
      ]
     },
     "execution_count": 1,
     "metadata": {},
     "output_type": "execute_result"
    }
   ],
   "source": [
    "import proveit\n",
    "%proving inAllButOne presuming []"
   ]
  },
  {
   "cell_type": "code",
   "execution_count": null,
   "metadata": {},
   "outputs": [],
   "source": []
  }
 ],
 "metadata": {
  "kernelspec": {
   "display_name": "Python 3",
   "language": "python",
   "name": "python3"
  }
 },
 "nbformat": 4,
 "nbformat_minor": 0
}
