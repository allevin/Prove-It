{
 "cells": [
  {
   "cell_type": "markdown",
   "metadata": {},
   "source": [
    "Expression of type <a class=\"ProveItLink\" href=\"../../../../../../../doc/html/api/proveit.ExprTuple.html\">ExprTuple</a>\n",
    "=======================\n",
    "# from context <a class=\"ProveItLink\" href=\"../../_context_.ipynb\">proveit.logic.set_theory.subtraction</a>"
   ]
  },
  {
   "cell_type": "code",
   "execution_count": 1,
   "metadata": {},
   "outputs": [],
   "source": [
    "# import Expression classes needed to build the expression\n",
    "from proveit import ExprTuple\n",
    "from proveit._common_ import A, B, x\n",
    "from proveit.logic import InSet, NotInSet, Or"
   ]
  },
  {
   "cell_type": "code",
   "execution_count": 2,
   "metadata": {},
   "outputs": [
    {
     "data": {
      "text/html": [
       "<strong id=\"expr\">expr:</strong> <a class=\"ProveItLink\" href=\"expr.ipynb\"><img src=\"data:image/png;base64,iVBORw0KGgoAAAANSUhEUgAAAK4AAAAVCAMAAADo3yVqAAAARVBMVEX///8sLCxlZWUbGxsJCQkd\n",
       "HR0PDw8WFhbc3NwiIiJERESqqqqYmJh2dnZmZmYQEBDu7u4yMjJUVFTMzMyIiIi6uroAAAAHJ3au\n",
       "AAAAAXRSTlMAQObYZgAAAn5JREFUSMfNV9mC2yAMdLvdLmAuYeD/P3WxLWEOY5LtS/UyiSEjIY1k\n",
       "siwvW7DLf2HB1zgwPgxXhpd9vG9ETri5Ggd2t7zxE/U28TnhbgJ0MbpkAkJJjgiYNXgutr5JIUT6\n",
       "cKWxiLHY+J6QjDhdxlCSH+ixTH5SLn6TBh4xDKnomctBFoT+PSls0SO6kvxAgx7NMAHWA+dff6F9\n",
       "zlYdGW4x2ZW40fqEm/Oa2yOtjKok3zHgzgDDs4JM3gTrFnzipdqLNdcdN676EsiEuzWB8XE8JpEn\n",
       "1JhpQqa8Y6vXuXxM7L+xcDfY1ijxi8rBUZhwnW/C3dmpAQa0SuQJAR0iWrVLUi4mS/VMa68+Gy6R\n",
       "pSChGXiXKKbcvXSd915zuTTkCQ2WE1Ed0kkr1DFWDFp7388iJTWYpq9cMSIm3J3ITula7hryhKQ+\n",
       "xD0qV7IEs7fC55+2HbZ9MroockbqGVKJ55m7azWSriepEXnCJtwjGb4b8Gq9S27aCjfh6rRZyT7c\n",
       "AfdAunkwVOEaDMTkgFjcMBVnSW6H7kq924sh9Ujzg2fuXrp4VBfXTgwC1xAlO+S1+KxVlxaC7kZu\n",
       "81qTZTndJqvOfOQeSTcdDRryhMWQ2JOWTrZLh13uLA/FqwqfEZGIth1kx1Sor0OP3KOpu5nc3kWM\n",
       "AQtyohVeWaV8eWoG+qNOrTDxmKpSxAgnFVR+oa7GI3eTCS3O+w3AtY/IdzQ4+wwbvsN//4LuRdmk\n",
       "29Tya8beA/fqZtzVS7i+QNybYLNLiXq+wzxwv2BEfuL0AsnEjNDCZAP8wz8RIkdkOObY6Art5YzR\n",
       "zdLP3M/DJXJCalU2qOg0uX6b+mQ//vND5Ad+A6x9KIhZdJp2AAAAAElFTkSuQmCC\n",
       "\" style=\"display:inline;vertical-align:middle;\" /></a><br>"
      ],
      "text/plain": [
       "expr: ((x not-in A) or (x in B))"
      ]
     },
     "execution_count": 2,
     "metadata": {},
     "output_type": "execute_result"
    }
   ],
   "source": [
    "# build up the expression from sub-expressions\n",
    "expr = ExprTuple(Or(NotInSet(x, A), InSet(x, B)))"
   ]
  },
  {
   "cell_type": "code",
   "execution_count": 3,
   "metadata": {},
   "outputs": [
    {
     "name": "stdout",
     "output_type": "stream",
     "text": [
      "Passed sanity check: built 'expr' is the same as the stored Expression.\n"
     ]
    }
   ],
   "source": [
    "# check that the built expression is the same as the stored expression\n",
    "%check_expr"
   ]
  },
  {
   "cell_type": "code",
   "execution_count": 4,
   "metadata": {},
   "outputs": [
    {
     "data": {
      "text/html": [
       "<table><tr><th>&nbsp;</th><th>core type</th><th>sub-expressions</th><th>expression</th></tr>\n",
       "<tr><td>0</td><td>ExprTuple</td><td>1</td><td><a class=\"ProveItLink\" href=\"expr.ipynb\"><img src=\"data:image/png;base64,iVBORw0KGgoAAAANSUhEUgAAAK4AAAAVCAMAAADo3yVqAAAARVBMVEX///8sLCxlZWUbGxsJCQkd\n",
       "HR0PDw8WFhbc3NwiIiJERESqqqqYmJh2dnZmZmYQEBDu7u4yMjJUVFTMzMyIiIi6uroAAAAHJ3au\n",
       "AAAAAXRSTlMAQObYZgAAAn5JREFUSMfNV9mC2yAMdLvdLmAuYeD/P3WxLWEOY5LtS/UyiSEjIY1k\n",
       "siwvW7DLf2HB1zgwPgxXhpd9vG9ETri5Ggd2t7zxE/U28TnhbgJ0MbpkAkJJjgiYNXgutr5JIUT6\n",
       "cKWxiLHY+J6QjDhdxlCSH+ixTH5SLn6TBh4xDKnomctBFoT+PSls0SO6kvxAgx7NMAHWA+dff6F9\n",
       "zlYdGW4x2ZW40fqEm/Oa2yOtjKok3zHgzgDDs4JM3gTrFnzipdqLNdcdN676EsiEuzWB8XE8JpEn\n",
       "1JhpQqa8Y6vXuXxM7L+xcDfY1ijxi8rBUZhwnW/C3dmpAQa0SuQJAR0iWrVLUi4mS/VMa68+Gy6R\n",
       "pSChGXiXKKbcvXSd915zuTTkCQ2WE1Ed0kkr1DFWDFp7388iJTWYpq9cMSIm3J3ITula7hryhKQ+\n",
       "xD0qV7IEs7fC55+2HbZ9MroockbqGVKJ55m7azWSriepEXnCJtwjGb4b8Gq9S27aCjfh6rRZyT7c\n",
       "AfdAunkwVOEaDMTkgFjcMBVnSW6H7kq924sh9Ujzg2fuXrp4VBfXTgwC1xAlO+S1+KxVlxaC7kZu\n",
       "81qTZTndJqvOfOQeSTcdDRryhMWQ2JOWTrZLh13uLA/FqwqfEZGIth1kx1Sor0OP3KOpu5nc3kWM\n",
       "AQtyohVeWaV8eWoG+qNOrTDxmKpSxAgnFVR+oa7GI3eTCS3O+w3AtY/IdzQ4+wwbvsN//4LuRdmk\n",
       "29Tya8beA/fqZtzVS7i+QNybYLNLiXq+wzxwv2BEfuL0AsnEjNDCZAP8wz8RIkdkOObY6Art5YzR\n",
       "zdLP3M/DJXJCalU2qOg0uX6b+mQ//vND5Ad+A6x9KIhZdJp2AAAAAElFTkSuQmCC\n",
       "\" style=\"display:inline;vertical-align:middle;\" /></a></td></tr>\n",
       "<tr><td>1</td><td>Operation</td><td>operator:&nbsp;2<br>operands:&nbsp;3<br></td><td><a class=\"ProveItLink\" href=\"../daebb799a2233cbe44dd8fe44c4466d6e328f6010/expr.ipynb\"><img src=\"data:image/png;base64,iVBORw0KGgoAAAANSUhEUgAAAJ4AAAAVCAMAAACALKdSAAAARVBMVEX///8sLCxlZWUbGxsJCQkd\n",
       "HR0PDw8WFhbc3NwiIiJERESqqqqYmJh2dnZmZmYQEBDu7u4yMjJUVFTMzMyIiIi6uroAAAAHJ3au\n",
       "AAAAAXRSTlMAQObYZgAAAkFJREFUSMfFltlipiAMhZ09IFsw8P6POiibgsC0vRhu/hbwI8tJYNuW\n",
       "w5ntvw5H02U2NE+4r7InI8MPO932tnyw+KuOxRkLdmOQ9d6GwdHd4DhPnnoJEfr8Rw3Tzabbxo8J\n",
       "Q/N4pHcFTovwsxc3mU/HCpnnbDHqBqSPpfbwlH5tgeuhg4aQsT+/sZ2HXXlIW3RB8xetLtiMPdmU\n",
       "sMLLDHc49AVFoHPoFihwci75XvKYNu6qJnzBbgdPzrLkVoCrlB6QZGEnVdIB/Nxj8K3R7F6kf2Qx\n",
       "JpuF1Z8Fuxsxp4B5NcAxHmTkKSmx6SK1GLZePcZVkQSjsGlANcnbit1LzxKRYmKrcB3TJK/Uh5ms\n",
       "cMMHpXfuB5+D5nRTB/ZWwgt2J5ooPcNshScVnVbY+1dOn9L99bOV73F2Jut58fhZ4w8xzNldaWTp\n",
       "UZZOgPvqraauocr9LXhhK76Yp8JmKXrzBuyB9ErhXnBdDAB/JFdjiF+b3p5rq09u0HTzwZzdSy+5\n",
       "Zv1e4DzOCbjksVHRmg0LTnUtr7k2xD099hCPSpqyR9ILrmCFx85wdooz9VDxhrnbVZDm8ofcm7ax\n",
       "XFX7fD5M2aOud+hSjuF7x2ItkTRS0t0rQPXjGTqu/dXVBPceo134OAef0Z6yG88Vj+8BxLrvhGsY\n",
       "3oHfv2F38TTh1E/5NG1owt7tih3h9Vbvww2rS1zO7/wJ+x9GhA8fPcBXAIOLDfiFl3aCw+jJSGJF\n",
       "sKvwgv28eRkOgwwtg0fH8gz49GP+gv8FzLgjmXlkyo0AAAAASUVORK5CYII=\n",
       "\" style=\"display:inline;vertical-align:middle;\" /></a></td></tr>\n",
       "<tr><td>2</td><td>Literal</td><td></td><td><a class=\"ProveItLink\" href=\"../../../../boolean/disjunction/__pv_it/087d0b4ded7c7e5bf3bba05ecb616d7a8051ff650/expr.ipynb\"><img src=\"data:image/png;base64,iVBORw0KGgoAAAANSUhEUgAAAAwAAAAOBAMAAADpk+DfAAAALVBMVEX///+YmJh2dnZmZmaqqqrc\n",
       "3NwyMjLu7u4iIiJERESIiIhUVFTMzMy6uroAAAD0I/TTAAAAAXRSTlMAQObYZgAAAEtJREFUCNdj\n",
       "uMAABDwMe0DUKoaTIKqdgS2AgYHFAITAzHYGsMQqBoa9QIqDgT0BSDE7MAkAKdYEDpAehj1SYOpk\n",
       "O5hiMwBTPAUMDAB33Atnw8aG2QAAAABJRU5ErkJggg==\n",
       "\" style=\"display:inline;vertical-align:middle;\" /></a></td></tr>\n",
       "<tr><td>3</td><td>ExprTuple</td><td>4, 5</td><td><a class=\"ProveItLink\" href=\"../653484d7362854869be79dba5cdb3ffd9a188dde0/expr.ipynb\"><img src=\"data:image/png;base64,iVBORw0KGgoAAAANSUhEUgAAAIAAAAAVCAMAAAC5SxYJAAAARVBMVEX///8sLCxlZWUbGxsJCQkd\n",
       "HR0PDw8WFhbc3NwiIiJERESqqqqYmJh2dnZmZmYQEBDu7u4yMjJUVFTMzMyIiIi6uroAAAAHJ3au\n",
       "AAAAAXRSTlMAQObYZgAAAeNJREFUSMe1VlmS4yAMpXt6ethBILj/UYc9sQG7KqnoI6kSPK1PwoTc\n",
       "SrDkwxLw8ph9KgAZ6r93l9dWx5696NLF6JJwKL61L1q4zlCHWQfx1awNr0ZjsQr5B68bQBbJShZf\n",
       "bIuP2P5LXaXKMW1tWQTG/v3CWU+FjvTWV0EzdkRjA8qoyh2TGAjbaEGm2PjsCpOdcJtrQZ+Fm1bW\n",
       "ljYXRKuWlkJHBerREMrzHQursRRRnoqyRk9SK0+hnypNoJqyKrdWEjNaXlOfGWLDo5VDt0HPFHCI\n",
       "qNkIXwAxtZiqNChpfLfJNyOS79OoD7odempepYBlfbSDIa2b2Y97RgWTKfT350wjn+fYxaODDXoi\n",
       "YacA9hb6SJ7oZHDaP0qsCpCuztRYoDcUGENQAjDDBY2+JVPLtFwCorN4ms0FeqZAS9xFMVrAq07S\n",
       "0kSCo+cuHQQ9rYDDKuyX1+gdBVKwvYAS8iDkxFJsuUH0UUfLAnH+NAEdyMsqtLEmukHvtoA3g9rJ\n",
       "e2CVtaisUvgcNwX955g+NxFyDpLHCDovssbqNfoUveb1JQJ43MuPktlv1e8vmJbpiZIXK1m4O3RZ\n",
       "xfVBWAu/3fjyvS8ChZfPMeXkswE0StHdBwnemsf3CuBahenGDiefFcws/Q8TMRyg9qHYbwAAAABJ\n",
       "RU5ErkJggg==\n",
       "\" style=\"display:inline;vertical-align:middle;\" /></a></td></tr>\n",
       "<tr><td>4</td><td>Operation</td><td>operator:&nbsp;6<br>operands:&nbsp;7<br></td><td><a class=\"ProveItLink\" href=\"../377fe4877c2bcc8d0d73ca80bc1a060233e6326d0/expr.ipynb\"><img src=\"data:image/png;base64,iVBORw0KGgoAAAANSUhEUgAAADUAAAAVCAMAAADRlFZ0AAAAQlBMVEX///9bW1sNDQ0JCQkdHR0P\n",
       "Dw8WFhYyMjK6urpERETMzMwQEBAiIiKYmJju7u5mZmaqqqpUVFSIiIh2dnbc3NwAAADXC9tbAAAA\n",
       "AXRSTlMAQObYZgAAAPFJREFUOMudU9mSxCAIdE+C4oXw/7+66hyZRDPZClXJA2c3jca8sSWYC0ZX\n",
       "qmyeOemkKi4TJ+gZwInPkx7DDgz0+0Ow90uKKoeMwAeDkzAb1htuKZwlceS1I1YUAaZSJPUdTGlo\n",
       "vXErjT6FecRdx1jt/tIy6mKSfQaxL2tk3bCJxp5Tv4yboCOi76/6g51+zfSZ63hQt6TpqJr7aCVq\n",
       "70NvCGkq1r0Nua6bdFqGVx7ZmyWOUr0cR9sk1nJ5ARloyXa/vwcwbMcRkEsohf2mL3xuqwSdQtPD\n",
       "oyrEg+PwHxmGHZ4ayoWXJXjlEW9Z/hvgSfwPk8EK0ui2cTwAAAAASUVORK5CYII=\n",
       "\" style=\"display:inline;vertical-align:middle;\" /></a></td></tr>\n",
       "<tr><td>5</td><td>Operation</td><td>operator:&nbsp;8<br>operands:&nbsp;9<br></td><td><a class=\"ProveItLink\" href=\"../7a806e44b554f7f0dde9918a38383961fdb3a7e90/expr.ipynb\"><img src=\"data:image/png;base64,iVBORw0KGgoAAAANSUhEUgAAADUAAAAPBAMAAAC2KZqIAAAAMFBMVEX///+6uroyMjJERETMzMwQ\n",
       "EBAiIiKYmJju7u5mZmaqqqpUVFSIiIh2dnbc3NwAAAAWgogoAAAAAXRSTlMAQObYZgAAANxJREFU\n",
       "GNNjYMAC2Pf/3r1ZkQE7YDVgYJgvgF3O/wAQb0AS4DiUlqYAYZ5/wMBQfwFJzqkCzjQF4tQGBoa3\n",
       "p1+dBBrBwGeBUPabgeERkMtxgT2dNQHIZ34Al2L5feZkOpDmZeD5wOUAZDQjtPH8Y2BoAzqFg4Hb\n",
       "ACwgmpYGcwtzAFD+O9gzB8AC3gh9/EA97H9BrPcODEAnMbQhea+AgYH7F1D+wXkGHpAcdwFcDuS9\n",
       "90Dj1xeYMrwBez0R2XssQUD1zWd770B0PJoClZr8f/dupQLUUFytBgszCAAA9AE54TfU44EAAAAA\n",
       "SUVORK5CYII=\n",
       "\" style=\"display:inline;vertical-align:middle;\" /></a></td></tr>\n",
       "<tr><td>6</td><td>Literal</td><td></td><td><a class=\"ProveItLink\" href=\"../../../membership/__pv_it/cc61ce5cf0825a46fd70733410654132b7dd0e550/expr.ipynb\"><img src=\"data:image/png;base64,iVBORw0KGgoAAAANSUhEUgAAAAwAAAAVCAMAAABFcv+GAAAAQlBMVEX///9bW1sNDQ0JCQkdHR0Q\n",
       "EBAPDw8WFhaYmJiIiIgyMjLc3NxERER2dnaqqqpmZmZUVFTMzMwiIiLu7u66uroAAACAfls5AAAA\n",
       "AXRSTlMAQObYZgAAAGtJREFUGNNNTkkSwCAIo7sirQr8/621LhUOYQIhAWCUCsxiQ3Iyi6hW1bt4\n",
       "5OtkrGp0AhTqPFCxEWyiOvO+HdCH2EL0YOZ9K4A97H66L5sQSA40DiKsKf+PBFwnAbckbG4jdsjI\n",
       "PO+dIXPxAnRTBHGTKJqmAAAAAElFTkSuQmCC\n",
       "\" style=\"display:inline;vertical-align:middle;\" /></a></td></tr>\n",
       "<tr><td>7</td><td>ExprTuple</td><td>11, 10</td><td><a class=\"ProveItLink\" href=\"../06706af7e4d9309974f9792530dc1cae39ec95130/expr.ipynb\"><img src=\"data:image/png;base64,iVBORw0KGgoAAAANSUhEUgAAADEAAAAVBAMAAAAdjxsPAAAAMFBMVEX////c3NwiIiJERESqqqqY\n",
       "mJh2dnZmZmYQEBDu7u4yMjJUVFTMzMyIiIi6uroAAAAs73DqAAAAAXRSTlMAQObYZgAAARRJREFU\n",
       "KM9jYMAN+C5gEYwDEafRRXkUGBjYDwAZK9FluD4AiQUMDLwYhgX9BBJhDAwcE9AkGN0/AskZDAyv\n",
       "0LXw8v4DkswODGVASuy2yHW4oS9ZvgJJtgKGpQwMnAmsqhwKUAnOBzx/gRTLAoY+oDwD7weWAzDv\n",
       "MTB+B1ENDEBDORm4DeDWnN69+zPIUx9AMkAHIpz+gIGhCyLTAuLKH2CAOp4FiDUgppkyMLAK3Gfg\n",
       "nQCREwHi9UDMuoAhnYHBP8CCQZaB8xPIZcBQYbCfAHb1IwaGydem5QYwcPYLMDBa/BJgCP6/HBh4\n",
       "Dxg4BODRIYAUEsDQYU2AcViRwygXORaQZcD2ScN4yNHBDTKZEVts32FgAADlCTw7rUcUdAAAAABJ\n",
       "RU5ErkJggg==\n",
       "\" style=\"display:inline;vertical-align:middle;\" /></a></td></tr>\n",
       "<tr><td>8</td><td>Literal</td><td></td><td><a class=\"ProveItLink\" href=\"../../../membership/__pv_it/088cbc857536a28d4119ad9639a84270ccb0545d0/expr.ipynb\"><img src=\"data:image/png;base64,iVBORw0KGgoAAAANSUhEUgAAAAwAAAAMBAMAAACkW0HUAAAALVBMVEX///+qqqpmZmZUVFQQEBC6\n",
       "urpERETc3NyYmJjMzMwiIiIyMjKIiIju7u4AAACYsrA9AAAAAXRSTlMAQObYZgAAADxJREFUCNdj\n",
       "YOA9vWrVBgaG2b0MQMCeCyIZ2ArA1DUwyRCyahVIyWQI7xaEYm4AU7xLIdxqTQgtvGvVBgCkcQ7e\n",
       "geM/tQAAAABJRU5ErkJggg==\n",
       "\" style=\"display:inline;vertical-align:middle;\" /></a></td></tr>\n",
       "<tr><td>9</td><td>ExprTuple</td><td>11, 12</td><td><a class=\"ProveItLink\" href=\"../ff099d1a0bb94c854b040e46fe675692626106110/expr.ipynb\"><img src=\"data:image/png;base64,iVBORw0KGgoAAAANSUhEUgAAADIAAAAVBAMAAAD2uKAMAAAAMFBMVEX////c3NwiIiJERESqqqqY\n",
       "mJh2dnZmZmYQEBDu7u4yMjJUVFTMzMyIiIi6uroAAAAs73DqAAAAAXRSTlMAQObYZgAAASJJREFU\n",
       "KM9jYMAN+C5gEWR9ACROowrt/7178zoGhhogeyWqag4DBob6BwxcDAy8aIadB/LPb2BgTWDgmIAq\n",
       "c1+AgSE+gYGzgeEVmt0WQKwBVG3CUAZkid0WuQ4z9DcDg5QlkE5nWMrAwJnAqsqhAJHg+X33uiqI\n",
       "4cXQx8DAxsD7geUARIb3IwPDpA1AxguGf0A9DNwGMGuYG4CyX0FuBMkAPQF3Oj9QPes3sEwLiC9/\n",
       "gAHq+PMBDAzcX8CmmQLVCNxn4J0AkQN5R34BkBEFdB2Df4AFgywD5yeod3i6JoBd/YiBYfK1abkB\n",
       "DJz9QOXF/3fvXhUAUrKOgUMAHh0CSEEBDB1g0MEiADmQ2C4gxQKKzCwgloZxUKJjIxAzYott3gMM\n",
       "AD3SRglZIJ+2AAAAAElFTkSuQmCC\n",
       "\" style=\"display:inline;vertical-align:middle;\" /></a></td></tr>\n",
       "<tr><td>10</td><td>Variable</td><td></td><td><a class=\"ProveItLink\" href=\"../../../../../__pv_it/2cbe72a7ad6f655694dd697106680215e8489b600/expr.ipynb\"><img src=\"data:image/png;base64,iVBORw0KGgoAAAANSUhEUgAAAA8AAAAOBAMAAAACpFvcAAAALVBMVEX///8QEBBERERUVFS6urqI\n",
       "iIhmZmaqqqrc3Nzu7u6YmJgyMjIiIiLMzMwAAADtIaYWAAAAAXRSTlMAQObYZgAAAFtJREFUCNdj\n",
       "YACBOwxQsA9Kc52bAGG05zVAGAFxDmCaZULdAjBjCsO9ADDDgaEvAUTzGhvbKYCVMDAwbgAxChgY\n",
       "eASANAeQwf0AyJgNxEwvGRia5HYwcOm9TgAA6BoR3jrzwFcAAAAASUVORK5CYII=\n",
       "\" style=\"display:inline;vertical-align:middle;\" /></a></td></tr>\n",
       "<tr><td>11</td><td>Variable</td><td></td><td><a class=\"ProveItLink\" href=\"../../../../../__pv_it/530be409e3083890784cf1d7b28c9e67e90af9360/expr.ipynb\"><img src=\"data:image/png;base64,iVBORw0KGgoAAAANSUhEUgAAAAsAAAAJBAMAAAAWSsseAAAAKlBMVEX///9ERETMzMwQEBAiIiKY\n",
       "mJju7u5mZmaqqqpUVFSIiIh2dnbc3NwAAAA/vyDhAAAAAXRSTlMAQObYZgAAAENJREFUCNdjYDi9\n",
       "8sTyBQxsG1hdmR0YuBm4LnAoMLAxcAowgADzAjB1VoEhgYH1wFoGrgSG3gBhhlMMDImrs3cFMAAA\n",
       "t0YN+iTRa+sAAAAASUVORK5CYII=\n",
       "\" style=\"display:inline;vertical-align:middle;\" /></a></td></tr>\n",
       "<tr><td>12</td><td>Variable</td><td></td><td><a class=\"ProveItLink\" href=\"../../../../../__pv_it/077b2ff79244fb4582cbe22c6e3356fa92a52f2f0/expr.ipynb\"><img src=\"data:image/png;base64,iVBORw0KGgoAAAANSUhEUgAAABAAAAAOBAMAAADUAYG5AAAAMFBMVEX///+qqqru7u4iIiJ2dnbc\n",
       "3NyIiIjMzMxmZmYQEBC6uroyMjJERERUVFSYmJgAAADLUcuvAAAAAXRSTlMAQObYZgAAAGpJREFU\n",
       "CNdjYGB4+//u3dMLGIBgDgMDxy8gzf4NiP8CGWxfGRj4vgAZPBMYGJgnARn8FxhY9ygAGfXX0pof\n",
       "gDTlBzAw2YIYJ0EckBBI53sHoBH/gIz7AhBjWH9DjancBLTl/N+7t/cxMAAA3u4f/5xagjYAAAAA\n",
       "SUVORK5CYII=\n",
       "\" style=\"display:inline;vertical-align:middle;\" /></a></td></tr>\n",
       "</table>\n"
      ],
      "text/plain": [
       "0. ((x not-in A) or (x in B))\n",
       "   core type: ExprTuple\n",
       "   sub-expressions: 1\n",
       "1. (x not-in A) or (x in B)\n",
       "   core type: Operation\n",
       "   operator: 2\n",
       "   operands: 3\n",
       "2. or\n",
       "   core type: Literal\n",
       "   sub-expressions: \n",
       "3. (x not-in A , x in B)\n",
       "   core type: ExprTuple\n",
       "   sub-expressions: 4, 5\n",
       "4. x not-in A\n",
       "   core type: Operation\n",
       "   operator: 6\n",
       "   operands: 7\n",
       "5. x in B\n",
       "   core type: Operation\n",
       "   operator: 8\n",
       "   operands: 9\n",
       "6. not-in\n",
       "   core type: Literal\n",
       "   sub-expressions: \n",
       "7. (x , A)\n",
       "   core type: ExprTuple\n",
       "   sub-expressions: 11, 10\n",
       "8. in\n",
       "   core type: Literal\n",
       "   sub-expressions: \n",
       "9. (x , B)\n",
       "   core type: ExprTuple\n",
       "   sub-expressions: 11, 12\n",
       "10. A\n",
       "    core type: Variable\n",
       "    sub-expressions: \n",
       "11. x\n",
       "    core type: Variable\n",
       "    sub-expressions: \n",
       "12. B\n",
       "    core type: Variable\n",
       "    sub-expressions: "
      ]
     },
     "execution_count": 4,
     "metadata": {},
     "output_type": "execute_result"
    }
   ],
   "source": [
    "# display the expression information\n",
    "expr.exprInfo()"
   ]
  },
  {
   "cell_type": "code",
   "execution_count": null,
   "metadata": {},
   "outputs": [],
   "source": []
  }
 ],
 "metadata": {
  "kernelspec": {
   "display_name": "Python 3",
   "language": "python",
   "name": "python3"
  }
 },
 "nbformat": 4,
 "nbformat_minor": 0
}
