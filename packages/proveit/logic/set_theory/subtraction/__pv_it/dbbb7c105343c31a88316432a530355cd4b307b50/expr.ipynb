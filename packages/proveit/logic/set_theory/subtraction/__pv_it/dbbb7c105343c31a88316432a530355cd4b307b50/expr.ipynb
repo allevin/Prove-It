{
 "cells": [
  {
   "cell_type": "markdown",
   "metadata": {},
   "source": [
    "Expression of type <a class=\"ProveItLink\" href=\"../../../../../../../doc/html/api/proveit.logic.NotInSet.html\">NotInSet</a>\n",
    "=======================\n",
    "# from context <a class=\"ProveItLink\" href=\"../../_context_.ipynb\">proveit.logic.set_theory.subtraction</a>"
   ]
  },
  {
   "cell_type": "code",
   "execution_count": 1,
   "metadata": {},
   "outputs": [],
   "source": [
    "# import Expression classes needed to build the expression\n",
    "from proveit._common_ import A, B, x\n",
    "from proveit.logic import Difference, NotInSet"
   ]
  },
  {
   "cell_type": "code",
   "execution_count": 2,
   "metadata": {},
   "outputs": [
    {
     "data": {
      "text/html": [
       "<strong id=\"expr\">expr:</strong> <a class=\"ProveItLink\" href=\"expr.ipynb\"><img src=\"data:image/png;base64,iVBORw0KGgoAAAANSUhEUgAAAG0AAAAVCAMAAAB7V5DIAAAAQlBMVEX///9bW1sNDQ0JCQkdHR0P\n",
       "Dw8WFhYyMjK6urpERETMzMwQEBAiIiKYmJju7u5mZmaqqqpUVFSIiIh2dnbc3NwAAADXC9tbAAAA\n",
       "AXRSTlMAQObYZgAAAa1JREFUSMe9VtuygyAM5FwDcg/k/3/1AEUEreKMMycPrba4SXazaRm7CG7Y\n",
       "P4YasnF8gqX55MDiL+7UHN8T+RQCSiK7XB+3QzkwNAp0ox8pXjhUgGBCZH+DA49a0VzThbC+F1p0\n",
       "ODtoENTvj+rKkT16dJbiNBvWM5pKHiPPqgJtmOjx+MADJiQ+zSYqvKqVCpcLDeijQ7tRFUX62gz4\n",
       "NozOcKSn2V4ERhCVlmATasgyaCY3mUpXo1DQgRu+aXIpm0dEq9qTLtUfCsPpuk2oEccZlB1x+TKS\n",
       "vSmbUat1eGI2g3ox2Fgqpb6/0stGZifTkk3kaXskgtqCH2TDlfSlukbiwcfBjRrwobX0CNyTrY1k\n",
       "yxYps9iYM2pvtgTekrt10Kay1ZY8uY1JHYtsDDedvGZ8J4vQzWo3l8nqtkgrCxrKKGeGY0emUdzv\n",
       "tlqo2ZsvxGyZVNkW2cYtYRiBwYSAg30ifO6ycfUyoiTIJWtBBFdTacVrJUNnHThbCPrDwzCTTEb2\n",
       "ME4317i12PVOvRvhbB9EcfwMHv6Qm1PL4JslGP2zbP5UCvG24Uf/FDCP3R8yTRUeXCJUdwAAAABJ\n",
       "RU5ErkJggg==\n",
       "\" style=\"display:inline;vertical-align:middle;\" /></a><br>"
      ],
      "text/plain": [
       "expr: x not-in (A - B)"
      ]
     },
     "execution_count": 2,
     "metadata": {},
     "output_type": "execute_result"
    }
   ],
   "source": [
    "# build up the expression from sub-expressions\n",
    "expr = NotInSet(x, Difference(A, B))"
   ]
  },
  {
   "cell_type": "code",
   "execution_count": 3,
   "metadata": {},
   "outputs": [
    {
     "name": "stdout",
     "output_type": "stream",
     "text": [
      "Passed sanity check: built 'expr' is the same as the stored Expression.\n"
     ]
    }
   ],
   "source": [
    "# check that the built expression is the same as the stored expression\n",
    "%check_expr"
   ]
  },
  {
   "cell_type": "code",
   "execution_count": 4,
   "metadata": {},
   "outputs": [
    {
     "data": {
      "text/html": [
       "<table><tr><th>&nbsp;</th><th>core type</th><th>sub-expressions</th><th>expression</th></tr>\n",
       "<tr><td>0</td><td>Operation</td><td>operator:&nbsp;1<br>operands:&nbsp;2<br></td><td><a class=\"ProveItLink\" href=\"expr.ipynb\"><img src=\"data:image/png;base64,iVBORw0KGgoAAAANSUhEUgAAAG0AAAAVCAMAAAB7V5DIAAAAQlBMVEX///9bW1sNDQ0JCQkdHR0P\n",
       "Dw8WFhYyMjK6urpERETMzMwQEBAiIiKYmJju7u5mZmaqqqpUVFSIiIh2dnbc3NwAAADXC9tbAAAA\n",
       "AXRSTlMAQObYZgAAAa1JREFUSMe9VtuygyAM5FwDcg/k/3/1AEUEreKMMycPrba4SXazaRm7CG7Y\n",
       "P4YasnF8gqX55MDiL+7UHN8T+RQCSiK7XB+3QzkwNAp0ox8pXjhUgGBCZH+DA49a0VzThbC+F1p0\n",
       "ODtoENTvj+rKkT16dJbiNBvWM5pKHiPPqgJtmOjx+MADJiQ+zSYqvKqVCpcLDeijQ7tRFUX62gz4\n",
       "NozOcKSn2V4ERhCVlmATasgyaCY3mUpXo1DQgRu+aXIpm0dEq9qTLtUfCsPpuk2oEccZlB1x+TKS\n",
       "vSmbUat1eGI2g3ox2Fgqpb6/0stGZifTkk3kaXskgtqCH2TDlfSlukbiwcfBjRrwobX0CNyTrY1k\n",
       "yxYps9iYM2pvtgTekrt10Kay1ZY8uY1JHYtsDDedvGZ8J4vQzWo3l8nqtkgrCxrKKGeGY0emUdzv\n",
       "tlqo2ZsvxGyZVNkW2cYtYRiBwYSAg30ifO6ycfUyoiTIJWtBBFdTacVrJUNnHThbCPrDwzCTTEb2\n",
       "ME4317i12PVOvRvhbB9EcfwMHv6Qm1PL4JslGP2zbP5UCvG24Uf/FDCP3R8yTRUeXCJUdwAAAABJ\n",
       "RU5ErkJggg==\n",
       "\" style=\"display:inline;vertical-align:middle;\" /></a></td></tr>\n",
       "<tr><td>1</td><td>Literal</td><td></td><td><a class=\"ProveItLink\" href=\"../../../membership/__pv_it/cc61ce5cf0825a46fd70733410654132b7dd0e550/expr.ipynb\"><img src=\"data:image/png;base64,iVBORw0KGgoAAAANSUhEUgAAAAwAAAAVCAMAAABFcv+GAAAAQlBMVEX///9bW1sNDQ0JCQkdHR0Q\n",
       "EBAPDw8WFhaYmJiIiIgyMjLc3NxERER2dnaqqqpmZmZUVFTMzMwiIiLu7u66uroAAACAfls5AAAA\n",
       "AXRSTlMAQObYZgAAAGtJREFUGNNNTkkSwCAIo7sirQr8/621LhUOYQIhAWCUCsxiQ3Iyi6hW1bt4\n",
       "5OtkrGp0AhTqPFCxEWyiOvO+HdCH2EL0YOZ9K4A97H66L5sQSA40DiKsKf+PBFwnAbckbG4jdsjI\n",
       "PO+dIXPxAnRTBHGTKJqmAAAAAElFTkSuQmCC\n",
       "\" style=\"display:inline;vertical-align:middle;\" /></a></td></tr>\n",
       "<tr><td>2</td><td>ExprTuple</td><td>3, 4</td><td><a class=\"ProveItLink\" href=\"../b441866c5a6bb19330e2e32b2d76f88b70f419140/expr.ipynb\"><img src=\"data:image/png;base64,iVBORw0KGgoAAAANSUhEUgAAAFsAAAAVBAMAAADbSo+2AAAAMFBMVEX////c3NwiIiJERESqqqqY\n",
       "mJh2dnZmZmYQEBDu7u4yMjJUVFTMzMyIiIi6uroAAAAs73DqAAAAAXRSTlMAQObYZgAAAXxJREFU\n",
       "KM+VUzFIw0AUfdHEJLbRDMVFRBEEwcVFKC7t5mhQcBE0m1NBHJwLuuigAUEcg1LESWeDmFHooJMO\n",
       "Kg1uOkVFxRZb/0UT7UVIPfi5+/+/u/z/7h3wz9F10Spyjn3KfDQ9wEdmG44z7kF2aX3AJzv92Lkr\n",
       "gFwHbECL1TL1HvvfB1kNmAEUi8sJE488XKOI9ArsAA+xnFbnQ+1FoG2N5jyWye25zlxFNd2LLzy8\n",
       "+wjCHlXRsYgSoJrSkBLSoXqs0uZxfnK7ZNAs2tigTdB80Q2vAcIbD6/oUEdYrggqVEVqNEqVHec5\n",
       "6Hh3kA2PrbNsCx2f9hH0pfywSfl1/nTiEPNmAF9lfr+Lbz5FsmGedtb7aT4oZowo1SvQrK8NGbLD\n",
       "P2gXqrSQbCwAk0YWfVCfGC90z8hZcdrPmFaIyDtg63K7YEDd1CFkqzqmG/tNaDlXc45LgZo8KHqk\n",
       "ZD1JwSQCyQwdKVHwhd8CToQHjfWGXuKrSrFqhZYf3w3wCXvAW5ueX6UMAAAAAElFTkSuQmCC\n",
       "\" style=\"display:inline;vertical-align:middle;\" /></a></td></tr>\n",
       "<tr><td>3</td><td>Variable</td><td></td><td><a class=\"ProveItLink\" href=\"../../../../../__pv_it/530be409e3083890784cf1d7b28c9e67e90af9360/expr.ipynb\"><img src=\"data:image/png;base64,iVBORw0KGgoAAAANSUhEUgAAAAsAAAAJBAMAAAAWSsseAAAAKlBMVEX///9ERETMzMwQEBAiIiKY\n",
       "mJju7u5mZmaqqqpUVFSIiIh2dnbc3NwAAAA/vyDhAAAAAXRSTlMAQObYZgAAAENJREFUCNdjYDi9\n",
       "8sTyBQxsG1hdmR0YuBm4LnAoMLAxcAowgADzAjB1VoEhgYH1wFoGrgSG3gBhhlMMDImrs3cFMAAA\n",
       "t0YN+iTRa+sAAAAASUVORK5CYII=\n",
       "\" style=\"display:inline;vertical-align:middle;\" /></a></td></tr>\n",
       "<tr><td>4</td><td>Operation</td><td>operator:&nbsp;5<br>operands:&nbsp;6<br></td><td><a class=\"ProveItLink\" href=\"../127f564a9f13292d29fa5e36555e5b9579b7a9860/expr.ipynb\"><img src=\"data:image/png;base64,iVBORw0KGgoAAAANSUhEUgAAADkAAAAOBAMAAABnSamjAAAAMFBMVEX///92dnYQEBBERERUVFS6\n",
       "urqIiIhmZmaqqqrc3Nzu7u6YmJgyMjIiIiLMzMwAAACFkkdwAAAAAXRSTlMAQObYZgAAAMFJREFU\n",
       "GNNjYACBtwxogNv/i4vzUSjnPLosA5MBA0N9AETl/QXosu8TgNgBzJxRPwFdNh8osl8AzEzID0CX\n",
       "NQLiS2ATWRf0b0CX/cLAMMcKzFoKtgUF8H1JS78NYQYwzC9Ak2X7ycCwFuwoPhcXf6D7GTjP3gUB\n",
       "sBOYFYAqfoOtBfruAJpefqA+7o8gVgMDA68CuneBzmT5ATIQKMvzAYt354MMXAOy5hemd/l0gN6d\n",
       "rH+Sgdv+D6qji/+7uJwBGg4ANGQ1iCd9+/4AAAAASUVORK5CYII=\n",
       "\" style=\"display:inline;vertical-align:middle;\" /></a></td></tr>\n",
       "<tr><td>5</td><td>Literal</td><td></td><td><a class=\"ProveItLink\" href=\"../b31700f174a73058c701da19ea3d1b9009786dec0/expr.ipynb\"><img src=\"data:image/png;base64,iVBORw0KGgoAAAANSUhEUgAAAA4AAAACBAMAAACapPCZAAAAElBMVEX///+6uroiIiIyMjLc3NwA\n",
       "AAA6l9OrAAAAAXRSTlMAQObYZgAAABBJREFUCNdjcFYCAUUGKAAADR4BD8/TF5gAAAAASUVORK5C\n",
       "YII=\n",
       "\" style=\"display:inline;vertical-align:middle;\" /></a></td></tr>\n",
       "<tr><td>6</td><td>ExprTuple</td><td>7, 8</td><td><a class=\"ProveItLink\" href=\"../caee09fb4b5c95b986a9cee46a014afbad9bdc680/expr.ipynb\"><img src=\"data:image/png;base64,iVBORw0KGgoAAAANSUhEUgAAADUAAAAVBAMAAAAUZLt1AAAAMFBMVEX////c3NwiIiJERESqqqqY\n",
       "mJh2dnZmZmYQEBDu7u4yMjJUVFTMzMyIiIi6uroAAAAs73DqAAAAAXRSTlMAQObYZgAAATZJREFU\n",
       "KM9jYMAH+C5gFY4DEach7EMwQdb9v3dvXsfAfgDIXgkRWg/XwWHAwFD/gGEBAwMvxEhW/QkwufNA\n",
       "kfMbGMKAqiBiIvUCMLn7QFZ8AsMMBoZXEIEL9x/A5CyAWGMCA7MDQxnEsRP8A2ByvxkYpCwZGNgK\n",
       "GJaC+fPAtoABz++711WBNMsChj6wwAMG+QKoHO9HBoZJG4BGNTD8A6vdvXu/AVSOuQEo/xUo9gEi\n",
       "xwd07wKoHD9QD+s3sFwLiO/AwMDUAPMe0FHcX8BmmgK5jEA5rg8MDBNg3pMHGsK6gCEdyJ0FsuYn\n",
       "A+cnqPd4uiaA/fCIgUG4fyEDq/2vAs5+oJbi/7t3rwL5lesBA4cAUnQhsUFhxpqA4LIiR2AuIo7Q\n",
       "5ThBfpJG8JFTADfIfEbsaeIOAwMABOxNRsfkiy0AAAAASUVORK5CYII=\n",
       "\" style=\"display:inline;vertical-align:middle;\" /></a></td></tr>\n",
       "<tr><td>7</td><td>Variable</td><td></td><td><a class=\"ProveItLink\" href=\"../../../../../__pv_it/2cbe72a7ad6f655694dd697106680215e8489b600/expr.ipynb\"><img src=\"data:image/png;base64,iVBORw0KGgoAAAANSUhEUgAAAA8AAAAOBAMAAAACpFvcAAAALVBMVEX///8QEBBERERUVFS6urqI\n",
       "iIhmZmaqqqrc3Nzu7u6YmJgyMjIiIiLMzMwAAADtIaYWAAAAAXRSTlMAQObYZgAAAFtJREFUCNdj\n",
       "YACBOwxQsA9Kc52bAGG05zVAGAFxDmCaZULdAjBjCsO9ADDDgaEvAUTzGhvbKYCVMDAwbgAxChgY\n",
       "eASANAeQwf0AyJgNxEwvGRia5HYwcOm9TgAA6BoR3jrzwFcAAAAASUVORK5CYII=\n",
       "\" style=\"display:inline;vertical-align:middle;\" /></a></td></tr>\n",
       "<tr><td>8</td><td>Variable</td><td></td><td><a class=\"ProveItLink\" href=\"../../../../../__pv_it/077b2ff79244fb4582cbe22c6e3356fa92a52f2f0/expr.ipynb\"><img src=\"data:image/png;base64,iVBORw0KGgoAAAANSUhEUgAAABAAAAAOBAMAAADUAYG5AAAAMFBMVEX///+qqqru7u4iIiJ2dnbc\n",
       "3NyIiIjMzMxmZmYQEBC6uroyMjJERERUVFSYmJgAAADLUcuvAAAAAXRSTlMAQObYZgAAAGpJREFU\n",
       "CNdjYGB4+//u3dMLGIBgDgMDxy8gzf4NiP8CGWxfGRj4vgAZPBMYGJgnARn8FxhY9ygAGfXX0pof\n",
       "gDTlBzAw2YIYJ0EckBBI53sHoBH/gIz7AhBjWH9DjancBLTl/N+7t/cxMAAA3u4f/5xagjYAAAAA\n",
       "SUVORK5CYII=\n",
       "\" style=\"display:inline;vertical-align:middle;\" /></a></td></tr>\n",
       "</table>\n"
      ],
      "text/plain": [
       "0. x not-in (A - B)\n",
       "   core type: Operation\n",
       "   operator: 1\n",
       "   operands: 2\n",
       "1. not-in\n",
       "   core type: Literal\n",
       "   sub-expressions: \n",
       "2. (x , A - B)\n",
       "   core type: ExprTuple\n",
       "   sub-expressions: 3, 4\n",
       "3. x\n",
       "   core type: Variable\n",
       "   sub-expressions: \n",
       "4. A - B\n",
       "   core type: Operation\n",
       "   operator: 5\n",
       "   operands: 6\n",
       "5. -\n",
       "   core type: Literal\n",
       "   sub-expressions: \n",
       "6. (A , B)\n",
       "   core type: ExprTuple\n",
       "   sub-expressions: 7, 8\n",
       "7. A\n",
       "   core type: Variable\n",
       "   sub-expressions: \n",
       "8. B\n",
       "   core type: Variable\n",
       "   sub-expressions: "
      ]
     },
     "execution_count": 4,
     "metadata": {},
     "output_type": "execute_result"
    }
   ],
   "source": [
    "# display the expression information\n",
    "expr.exprInfo()"
   ]
  },
  {
   "cell_type": "code",
   "execution_count": null,
   "metadata": {},
   "outputs": [],
   "source": []
  }
 ],
 "metadata": {
  "kernelspec": {
   "display_name": "Python 3",
   "language": "python",
   "name": "python3"
  }
 },
 "nbformat": 4,
 "nbformat_minor": 0
}
