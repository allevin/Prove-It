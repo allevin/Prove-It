{
 "cells": [
  {
   "cell_type": "markdown",
   "metadata": {},
   "source": [
    "Expression of type <a class=\"ProveItLink\" href=\"../../../../../../../doc/html/api/proveit.ExprTuple.html\">ExprTuple</a>\n",
    "=======================\n",
    "# from context <a class=\"ProveItLink\" href=\"../../_context_.ipynb\">proveit.logic.set_theory.subtraction</a>"
   ]
  },
  {
   "cell_type": "code",
   "execution_count": 1,
   "metadata": {},
   "outputs": [],
   "source": [
    "# import Expression classes needed to build the expression\n",
    "from proveit import ExprTuple\n",
    "from proveit._common_ import A, B, x\n",
    "from proveit.logic import Difference, InSet"
   ]
  },
  {
   "cell_type": "code",
   "execution_count": 2,
   "metadata": {},
   "outputs": [
    {
     "data": {
      "text/html": [
       "<strong id=\"expr\">expr:</strong> <a class=\"ProveItLink\" href=\"expr.ipynb\"><img src=\"data:image/png;base64,iVBORw0KGgoAAAANSUhEUgAAAHsAAAAVBAMAAACUF4xmAAAAMFBMVEX////c3NwiIiJERESqqqqY\n",
       "mJh2dnZmZmYQEBDu7u4yMjJUVFTMzMyIiIi6uroAAAAs73DqAAAAAXRSTlMAQObYZgAAAdpJREFU\n",
       "OMulUz1Iw0AYfbGtTaypAYuLFEtBEF10EIpLuzlaFLoI2s2pIA7O/i06SFEQF6EopXSyi0uD2FFw\n",
       "0EkHLQ1uCkJFVKz4c/ddDG0a6+DBuwvfd+/L3XvfAf8c/gvH8ENr1owJnDmmOwtiCdkT01+6PmbA\n",
       "WwIBeUd6R1os1abMKuN9AhkQVOezl8Uy+dZ0rA+GdyABgpyuT+7thwfpY51mafzRTldZxPMC7IJw\n",
       "31A6axbzZ8Re9dNOdy0Bbay4K0ZYZKGe68AV3aH75yjeJC137mc7vasA6YBta58nZAEl6emXSeIR\n",
       "S7k4nxWD37RxnB+XF3jSnSFssiJQq25ugjL8s0k26AqQXu30igZliOeWCOxyCnyC518Jh4V0XUQ/\n",
       "0/UnUnA/zAfFIrwE+31nlUDayBf1vWLR2bRh/zvzDLNJi77GY30lcNEUq8fkGL8ew4Dddq7lScw6\n",
       "/CizUatAJc2PLHu4OgGGQwfbpRr78GQIc8BEPIIgJbcMcxe3ReHeR9PNtp/mYRl3C2xf7qTiosty\n",
       "JbNtQpAiNQ1TX7kGtjf6rhezZK1BkLX6tLtoNu3yX+/cbFpP0jGb+IueMtHywf46uDAkTq9jWiq0\n",
       "pvs0AUjODz7Ymn4j8A2vY3oReR+4RAAAAABJRU5ErkJggg==\n",
       "\" style=\"display:inline;vertical-align:middle;\" /></a><br>"
      ],
      "text/plain": [
       "expr: (x in (A - B))"
      ]
     },
     "execution_count": 2,
     "metadata": {},
     "output_type": "execute_result"
    }
   ],
   "source": [
    "# build up the expression from sub-expressions\n",
    "expr = ExprTuple(InSet(x, Difference(A, B)))"
   ]
  },
  {
   "cell_type": "code",
   "execution_count": 3,
   "metadata": {},
   "outputs": [
    {
     "name": "stdout",
     "output_type": "stream",
     "text": [
      "Passed sanity check: built 'expr' is the same as the stored Expression.\n"
     ]
    }
   ],
   "source": [
    "# check that the built expression is the same as the stored expression\n",
    "%check_expr"
   ]
  },
  {
   "cell_type": "code",
   "execution_count": 4,
   "metadata": {},
   "outputs": [
    {
     "data": {
      "text/html": [
       "<table><tr><th>&nbsp;</th><th>core type</th><th>sub-expressions</th><th>expression</th></tr>\n",
       "<tr><td>0</td><td>ExprTuple</td><td>1</td><td><a class=\"ProveItLink\" href=\"expr.ipynb\"><img src=\"data:image/png;base64,iVBORw0KGgoAAAANSUhEUgAAAHsAAAAVBAMAAACUF4xmAAAAMFBMVEX////c3NwiIiJERESqqqqY\n",
       "mJh2dnZmZmYQEBDu7u4yMjJUVFTMzMyIiIi6uroAAAAs73DqAAAAAXRSTlMAQObYZgAAAdpJREFU\n",
       "OMulUz1Iw0AYfbGtTaypAYuLFEtBEF10EIpLuzlaFLoI2s2pIA7O/i06SFEQF6EopXSyi0uD2FFw\n",
       "0EkHLQ1uCkJFVKz4c/ddDG0a6+DBuwvfd+/L3XvfAf8c/gvH8ENr1owJnDmmOwtiCdkT01+6PmbA\n",
       "WwIBeUd6R1os1abMKuN9AhkQVOezl8Uy+dZ0rA+GdyABgpyuT+7thwfpY51mafzRTldZxPMC7IJw\n",
       "31A6axbzZ8Re9dNOdy0Bbay4K0ZYZKGe68AV3aH75yjeJC137mc7vasA6YBta58nZAEl6emXSeIR\n",
       "S7k4nxWD37RxnB+XF3jSnSFssiJQq25ugjL8s0k26AqQXu30igZliOeWCOxyCnyC518Jh4V0XUQ/\n",
       "0/UnUnA/zAfFIrwE+31nlUDayBf1vWLR2bRh/zvzDLNJi77GY30lcNEUq8fkGL8ew4Dddq7lScw6\n",
       "/CizUatAJc2PLHu4OgGGQwfbpRr78GQIc8BEPIIgJbcMcxe3ReHeR9PNtp/mYRl3C2xf7qTiosty\n",
       "JbNtQpAiNQ1TX7kGtjf6rhezZK1BkLX6tLtoNu3yX+/cbFpP0jGb+IueMtHywf46uDAkTq9jWiq0\n",
       "pvs0AUjODz7Ymn4j8A2vY3oReR+4RAAAAABJRU5ErkJggg==\n",
       "\" style=\"display:inline;vertical-align:middle;\" /></a></td></tr>\n",
       "<tr><td>1</td><td>Operation</td><td>operator:&nbsp;2<br>operands:&nbsp;3<br></td><td><a class=\"ProveItLink\" href=\"../ccb2ef6fe510532bd981305c5275156da456b8370/expr.ipynb\"><img src=\"data:image/png;base64,iVBORw0KGgoAAAANSUhEUgAAAG0AAAAVBAMAAAC+p33JAAAAMFBMVEX///+6uroyMjJERETMzMwQ\n",
       "EBAiIiKYmJju7u5mZmaqqqpUVFSIiIh2dnbc3NwAAAAWgogoAAAAAXRSTlMAQObYZgAAAZ9JREFU\n",
       "OMtjYKAmkMEvXYhDnGUDhEpAl6j+v3u3kQADpwN2fUwNEOoDhkwwAwPnRwYGBez6zkCosh8YDvkD\n",
       "xL8ZGGpRRHvU0pLAjAgwybfyH7o+HqAI+18GhlYUw9QhzmNghDiDh+cjuj7mAAYGNqCpzAsYGN6e\n",
       "fnXyAEjwMVQbA+cFMCXB9R1dH/8GBj5loDLeCQwcF9jTWcEBZwcPlgIQySEA8g0q8N9zZhpIkkuB\n",
       "gZeB5wMXKFw5DGCyrAJg1zLw/UTXd/4BA0c2SC6AgYOBG6KBMSwtDRIu/GB93rt3fwYHj1oaCIDF\n",
       "TEF6gRaygGKI9QByZMP1AYkgdPuAUcBQfwGq770DAyhEOOCpg3UByAtAnIoefaCA2r8A7E72B+cZ\n",
       "eMAhuR0e2iCvvwJifSzRx/cJyGBXYFhfYMrwBizaJgCVBoYyAwcoDu0bMKPPVQOiovls750CSPrQ\n",
       "hCZXxgQGPtNPDxiK/2uiaOO0/717kzo4pgSQxbk2QdNZHKF81opduJaQvjt48xFOwIEjH/FtwK+P\n",
       "+wEOiTf49R1hYAAA+n9eoNpOu2QAAAAASUVORK5CYII=\n",
       "\" style=\"display:inline;vertical-align:middle;\" /></a></td></tr>\n",
       "<tr><td>2</td><td>Literal</td><td></td><td><a class=\"ProveItLink\" href=\"../../../membership/__pv_it/088cbc857536a28d4119ad9639a84270ccb0545d0/expr.ipynb\"><img src=\"data:image/png;base64,iVBORw0KGgoAAAANSUhEUgAAAAwAAAAMBAMAAACkW0HUAAAALVBMVEX///+qqqpmZmZUVFQQEBC6\n",
       "urpERETc3NyYmJjMzMwiIiIyMjKIiIju7u4AAACYsrA9AAAAAXRSTlMAQObYZgAAADxJREFUCNdj\n",
       "YOA9vWrVBgaG2b0MQMCeCyIZ2ArA1DUwyRCyahVIyWQI7xaEYm4AU7xLIdxqTQgtvGvVBgCkcQ7e\n",
       "geM/tQAAAABJRU5ErkJggg==\n",
       "\" style=\"display:inline;vertical-align:middle;\" /></a></td></tr>\n",
       "<tr><td>3</td><td>ExprTuple</td><td>4, 5</td><td><a class=\"ProveItLink\" href=\"../b441866c5a6bb19330e2e32b2d76f88b70f419140/expr.ipynb\"><img src=\"data:image/png;base64,iVBORw0KGgoAAAANSUhEUgAAAFsAAAAVBAMAAADbSo+2AAAAMFBMVEX////c3NwiIiJERESqqqqY\n",
       "mJh2dnZmZmYQEBDu7u4yMjJUVFTMzMyIiIi6uroAAAAs73DqAAAAAXRSTlMAQObYZgAAAXxJREFU\n",
       "KM+VUzFIw0AUfdHEJLbRDMVFRBEEwcVFKC7t5mhQcBE0m1NBHJwLuuigAUEcg1LESWeDmFHooJMO\n",
       "Kg1uOkVFxRZb/0UT7UVIPfi5+/+/u/z/7h3wz9F10Spyjn3KfDQ9wEdmG44z7kF2aX3AJzv92Lkr\n",
       "gFwHbECL1TL1HvvfB1kNmAEUi8sJE488XKOI9ArsAA+xnFbnQ+1FoG2N5jyWye25zlxFNd2LLzy8\n",
       "+wjCHlXRsYgSoJrSkBLSoXqs0uZxfnK7ZNAs2tigTdB80Q2vAcIbD6/oUEdYrggqVEVqNEqVHec5\n",
       "6Hh3kA2PrbNsCx2f9hH0pfywSfl1/nTiEPNmAF9lfr+Lbz5FsmGedtb7aT4oZowo1SvQrK8NGbLD\n",
       "P2gXqrSQbCwAk0YWfVCfGC90z8hZcdrPmFaIyDtg63K7YEDd1CFkqzqmG/tNaDlXc45LgZo8KHqk\n",
       "ZD1JwSQCyQwdKVHwhd8CToQHjfWGXuKrSrFqhZYf3w3wCXvAW5ueX6UMAAAAAElFTkSuQmCC\n",
       "\" style=\"display:inline;vertical-align:middle;\" /></a></td></tr>\n",
       "<tr><td>4</td><td>Variable</td><td></td><td><a class=\"ProveItLink\" href=\"../../../../../__pv_it/530be409e3083890784cf1d7b28c9e67e90af9360/expr.ipynb\"><img src=\"data:image/png;base64,iVBORw0KGgoAAAANSUhEUgAAAAsAAAAJBAMAAAAWSsseAAAAKlBMVEX///9ERETMzMwQEBAiIiKY\n",
       "mJju7u5mZmaqqqpUVFSIiIh2dnbc3NwAAAA/vyDhAAAAAXRSTlMAQObYZgAAAENJREFUCNdjYDi9\n",
       "8sTyBQxsG1hdmR0YuBm4LnAoMLAxcAowgADzAjB1VoEhgYH1wFoGrgSG3gBhhlMMDImrs3cFMAAA\n",
       "t0YN+iTRa+sAAAAASUVORK5CYII=\n",
       "\" style=\"display:inline;vertical-align:middle;\" /></a></td></tr>\n",
       "<tr><td>5</td><td>Operation</td><td>operator:&nbsp;6<br>operands:&nbsp;7<br></td><td><a class=\"ProveItLink\" href=\"../127f564a9f13292d29fa5e36555e5b9579b7a9860/expr.ipynb\"><img src=\"data:image/png;base64,iVBORw0KGgoAAAANSUhEUgAAADkAAAAOBAMAAABnSamjAAAAMFBMVEX///92dnYQEBBERERUVFS6\n",
       "urqIiIhmZmaqqqrc3Nzu7u6YmJgyMjIiIiLMzMwAAACFkkdwAAAAAXRSTlMAQObYZgAAAMFJREFU\n",
       "GNNjYACBtwxogNv/i4vzUSjnPLosA5MBA0N9AETl/QXosu8TgNgBzJxRPwFdNh8osl8AzEzID0CX\n",
       "NQLiS2ATWRf0b0CX/cLAMMcKzFoKtgUF8H1JS78NYQYwzC9Ak2X7ycCwFuwoPhcXf6D7GTjP3gUB\n",
       "sBOYFYAqfoOtBfruAJpefqA+7o8gVgMDA68CuneBzmT5ATIQKMvzAYt354MMXAOy5hemd/l0gN6d\n",
       "rH+Sgdv+D6qji/+7uJwBGg4ANGQ1iCd9+/4AAAAASUVORK5CYII=\n",
       "\" style=\"display:inline;vertical-align:middle;\" /></a></td></tr>\n",
       "<tr><td>6</td><td>Literal</td><td></td><td><a class=\"ProveItLink\" href=\"../b31700f174a73058c701da19ea3d1b9009786dec0/expr.ipynb\"><img src=\"data:image/png;base64,iVBORw0KGgoAAAANSUhEUgAAAA4AAAACBAMAAACapPCZAAAAElBMVEX///+6uroiIiIyMjLc3NwA\n",
       "AAA6l9OrAAAAAXRSTlMAQObYZgAAABBJREFUCNdjcFYCAUUGKAAADR4BD8/TF5gAAAAASUVORK5C\n",
       "YII=\n",
       "\" style=\"display:inline;vertical-align:middle;\" /></a></td></tr>\n",
       "<tr><td>7</td><td>ExprTuple</td><td>8, 9</td><td><a class=\"ProveItLink\" href=\"../caee09fb4b5c95b986a9cee46a014afbad9bdc680/expr.ipynb\"><img src=\"data:image/png;base64,iVBORw0KGgoAAAANSUhEUgAAADUAAAAVBAMAAAAUZLt1AAAAMFBMVEX////c3NwiIiJERESqqqqY\n",
       "mJh2dnZmZmYQEBDu7u4yMjJUVFTMzMyIiIi6uroAAAAs73DqAAAAAXRSTlMAQObYZgAAATZJREFU\n",
       "KM9jYMAH+C5gFY4DEach7EMwQdb9v3dvXsfAfgDIXgkRWg/XwWHAwFD/gGEBAwMvxEhW/QkwufNA\n",
       "kfMbGMKAqiBiIvUCMLn7QFZ8AsMMBoZXEIEL9x/A5CyAWGMCA7MDQxnEsRP8A2ByvxkYpCwZGNgK\n",
       "GJaC+fPAtoABz++711WBNMsChj6wwAMG+QKoHO9HBoZJG4BGNTD8A6vdvXu/AVSOuQEo/xUo9gEi\n",
       "xwd07wKoHD9QD+s3sFwLiO/AwMDUAPMe0FHcX8BmmgK5jEA5rg8MDBNg3pMHGsK6gCEdyJ0FsuYn\n",
       "A+cnqPd4uiaA/fCIgUG4fyEDq/2vAs5+oJbi/7t3rwL5lesBA4cAUnQhsUFhxpqA4LIiR2AuIo7Q\n",
       "5ThBfpJG8JFTADfIfEbsaeIOAwMABOxNRsfkiy0AAAAASUVORK5CYII=\n",
       "\" style=\"display:inline;vertical-align:middle;\" /></a></td></tr>\n",
       "<tr><td>8</td><td>Variable</td><td></td><td><a class=\"ProveItLink\" href=\"../../../../../__pv_it/2cbe72a7ad6f655694dd697106680215e8489b600/expr.ipynb\"><img src=\"data:image/png;base64,iVBORw0KGgoAAAANSUhEUgAAAA8AAAAOBAMAAAACpFvcAAAALVBMVEX///8QEBBERERUVFS6urqI\n",
       "iIhmZmaqqqrc3Nzu7u6YmJgyMjIiIiLMzMwAAADtIaYWAAAAAXRSTlMAQObYZgAAAFtJREFUCNdj\n",
       "YACBOwxQsA9Kc52bAGG05zVAGAFxDmCaZULdAjBjCsO9ADDDgaEvAUTzGhvbKYCVMDAwbgAxChgY\n",
       "eASANAeQwf0AyJgNxEwvGRia5HYwcOm9TgAA6BoR3jrzwFcAAAAASUVORK5CYII=\n",
       "\" style=\"display:inline;vertical-align:middle;\" /></a></td></tr>\n",
       "<tr><td>9</td><td>Variable</td><td></td><td><a class=\"ProveItLink\" href=\"../../../../../__pv_it/077b2ff79244fb4582cbe22c6e3356fa92a52f2f0/expr.ipynb\"><img src=\"data:image/png;base64,iVBORw0KGgoAAAANSUhEUgAAABAAAAAOBAMAAADUAYG5AAAAMFBMVEX///+qqqru7u4iIiJ2dnbc\n",
       "3NyIiIjMzMxmZmYQEBC6uroyMjJERERUVFSYmJgAAADLUcuvAAAAAXRSTlMAQObYZgAAAGpJREFU\n",
       "CNdjYGB4+//u3dMLGIBgDgMDxy8gzf4NiP8CGWxfGRj4vgAZPBMYGJgnARn8FxhY9ygAGfXX0pof\n",
       "gDTlBzAw2YIYJ0EckBBI53sHoBH/gIz7AhBjWH9DjancBLTl/N+7t/cxMAAA3u4f/5xagjYAAAAA\n",
       "SUVORK5CYII=\n",
       "\" style=\"display:inline;vertical-align:middle;\" /></a></td></tr>\n",
       "</table>\n"
      ],
      "text/plain": [
       "0. (x in (A - B))\n",
       "   core type: ExprTuple\n",
       "   sub-expressions: 1\n",
       "1. x in (A - B)\n",
       "   core type: Operation\n",
       "   operator: 2\n",
       "   operands: 3\n",
       "2. in\n",
       "   core type: Literal\n",
       "   sub-expressions: \n",
       "3. (x , A - B)\n",
       "   core type: ExprTuple\n",
       "   sub-expressions: 4, 5\n",
       "4. x\n",
       "   core type: Variable\n",
       "   sub-expressions: \n",
       "5. A - B\n",
       "   core type: Operation\n",
       "   operator: 6\n",
       "   operands: 7\n",
       "6. -\n",
       "   core type: Literal\n",
       "   sub-expressions: \n",
       "7. (A , B)\n",
       "   core type: ExprTuple\n",
       "   sub-expressions: 8, 9\n",
       "8. A\n",
       "   core type: Variable\n",
       "   sub-expressions: \n",
       "9. B\n",
       "   core type: Variable\n",
       "   sub-expressions: "
      ]
     },
     "execution_count": 4,
     "metadata": {},
     "output_type": "execute_result"
    }
   ],
   "source": [
    "# display the expression information\n",
    "expr.exprInfo()"
   ]
  },
  {
   "cell_type": "code",
   "execution_count": null,
   "metadata": {},
   "outputs": [],
   "source": []
  }
 ],
 "metadata": {
  "kernelspec": {
   "display_name": "Python 3",
   "language": "python",
   "name": "python3"
  }
 },
 "nbformat": 4,
 "nbformat_minor": 0
}
