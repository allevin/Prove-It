{
 "cells": [
  {
   "cell_type": "markdown",
   "metadata": {},
   "source": [
    "Expression of type <a class=\"ProveItLink\" href=\"../../../../../../../doc/html/api/proveit.logic.And.html\">And</a>\n",
    "=======================\n",
    "# from context <a class=\"ProveItLink\" href=\"../../_context_.ipynb\">proveit.logic.set_theory.subtraction</a>"
   ]
  },
  {
   "cell_type": "code",
   "execution_count": 1,
   "metadata": {},
   "outputs": [],
   "source": [
    "# import Expression classes needed to build the expression\n",
    "from proveit._common_ import A, B, x\n",
    "from proveit.logic import And, InSet, NotInSet"
   ]
  },
  {
   "cell_type": "code",
   "execution_count": 2,
   "metadata": {},
   "outputs": [
    {
     "data": {
      "text/html": [
       "<strong id=\"expr\">expr:</strong> <a class=\"ProveItLink\" href=\"expr.ipynb\"><img src=\"data:image/png;base64,iVBORw0KGgoAAAANSUhEUgAAAJ4AAAAVCAMAAACALKdSAAAARVBMVEX///8sLCxlZWUbGxsJCQkd\n",
       "HR0PDw8WFhbc3NwiIiJERESqqqqYmJh2dnZmZmYQEBDu7u4yMjJUVFTMzMyIiIi6uroAAAAHJ3au\n",
       "AAAAAXRSTlMAQObYZgAAAilJREFUSMfFlteirCAMRb09NCEI/P+nXpRqLOich8PLzDC4SNlJnKZv\n",
       "Xd48OOM+hEv/VTYzQ/hiX9u1sPQ5L6OD9sXf0oZg4+LoOzia1+ZhKF/2+0BRA/ZMwq952g6+wt37\n",
       "1EoW8rVS7a2Z9wdHbEaCGVz+tBWuLx00DllcSPdBzAHyEb3Dc6KlAfvf3z3bZawMqsA9XgoD5Tnd\n",
       "RU7JChfdH9bvwzVic9jv8uwsy25F+JzTA8pZEG6ufODmshmIIPMP1aXTIEnXgG2o9SmngOXmCMd0\n",
       "kVGrpOSkK5+6Vo3wTSTTJLorVETNfTQHbKrMKDnn3MyK6ytcpzSpLfVxp7QKw6862epgKEHzei90\n",
       "6CMyYNOyztIzzDZ4VtF60vYWec3yQtKq1hV49bjV8xYM27XCe/af34RdpOeKdCI8tNaj3YOGmo5r\n",
       "PJqXqrZ/7p6txKn0auFucF0PQViyqynEp9aJUluH5Iqcb2yavWfTC5YSNBtEhfO0J2GTx+SqHqw8\n",
       "sQ4EGRuypqeYJVot37L9PJ1KL7qCDZ46w9op1tRDy4Fhx4FfWwEPhjSWhR9HwS3b0nmdpbfoWjLx\n",
       "ec9SLTlllHJ9xADJxAeuwxYjyUPI8wt9bcnHSXbL/kXGL0/vA4jt3ArXcDkShcWzodaHU+9Lhny9\n",
       "Yf/8MWInOJnq75a6n/k3bA4P4R+8UB20ePnmdcUG/hQO9mPz7CgEl2wnH8Ph05d5twyPXLH5M/h/\n",
       "hUcjijLT3BgAAAAASUVORK5CYII=\n",
       "\" style=\"display:inline;vertical-align:middle;\" /></a><br>"
      ],
      "text/plain": [
       "expr: (x in A) and (x not-in B)"
      ]
     },
     "execution_count": 2,
     "metadata": {},
     "output_type": "execute_result"
    }
   ],
   "source": [
    "# build up the expression from sub-expressions\n",
    "expr = And(InSet(x, A), NotInSet(x, B))"
   ]
  },
  {
   "cell_type": "code",
   "execution_count": 3,
   "metadata": {},
   "outputs": [
    {
     "name": "stdout",
     "output_type": "stream",
     "text": [
      "Passed sanity check: built 'expr' is the same as the stored Expression.\n"
     ]
    }
   ],
   "source": [
    "# check that the built expression is the same as the stored expression\n",
    "%check_expr"
   ]
  },
  {
   "cell_type": "code",
   "execution_count": 4,
   "metadata": {},
   "outputs": [
    {
     "data": {
      "text/html": [
       "<table><tr><th>&nbsp;</th><th>core type</th><th>sub-expressions</th><th>expression</th></tr>\n",
       "<tr><td>0</td><td>Operation</td><td>operator:&nbsp;1<br>operands:&nbsp;2<br></td><td><a class=\"ProveItLink\" href=\"expr.ipynb\"><img src=\"data:image/png;base64,iVBORw0KGgoAAAANSUhEUgAAAJ4AAAAVCAMAAACALKdSAAAARVBMVEX///8sLCxlZWUbGxsJCQkd\n",
       "HR0PDw8WFhbc3NwiIiJERESqqqqYmJh2dnZmZmYQEBDu7u4yMjJUVFTMzMyIiIi6uroAAAAHJ3au\n",
       "AAAAAXRSTlMAQObYZgAAAilJREFUSMfFlteirCAMRb09NCEI/P+nXpRqLOich8PLzDC4SNlJnKZv\n",
       "Xd48OOM+hEv/VTYzQ/hiX9u1sPQ5L6OD9sXf0oZg4+LoOzia1+ZhKF/2+0BRA/ZMwq952g6+wt37\n",
       "1EoW8rVS7a2Z9wdHbEaCGVz+tBWuLx00DllcSPdBzAHyEb3Dc6KlAfvf3z3bZawMqsA9XgoD5Tnd\n",
       "RU7JChfdH9bvwzVic9jv8uwsy25F+JzTA8pZEG6ufODmshmIIPMP1aXTIEnXgG2o9SmngOXmCMd0\n",
       "kVGrpOSkK5+6Vo3wTSTTJLorVETNfTQHbKrMKDnn3MyK6ytcpzSpLfVxp7QKw6862epgKEHzei90\n",
       "6CMyYNOyztIzzDZ4VtF60vYWec3yQtKq1hV49bjV8xYM27XCe/af34RdpOeKdCI8tNaj3YOGmo5r\n",
       "PJqXqrZ/7p6txKn0auFucF0PQViyqynEp9aJUluH5Iqcb2yavWfTC5YSNBtEhfO0J2GTx+SqHqw8\n",
       "sQ4EGRuypqeYJVot37L9PJ1KL7qCDZ46w9op1tRDy4Fhx4FfWwEPhjSWhR9HwS3b0nmdpbfoWjLx\n",
       "ec9SLTlllHJ9xADJxAeuwxYjyUPI8wt9bcnHSXbL/kXGL0/vA4jt3ArXcDkShcWzodaHU+9Lhny9\n",
       "Yf/8MWInOJnq75a6n/k3bA4P4R+8UB20ePnmdcUG/hQO9mPz7CgEl2wnH8Ph05d5twyPXLH5M/h/\n",
       "hUcjijLT3BgAAAAASUVORK5CYII=\n",
       "\" style=\"display:inline;vertical-align:middle;\" /></a></td></tr>\n",
       "<tr><td>1</td><td>Literal</td><td></td><td><a class=\"ProveItLink\" href=\"../../../../boolean/conjunction/__pv_it/76b5f4f4c45c0b6a9b59b297fc07dfa9555698f50/expr.ipynb\"><img src=\"data:image/png;base64,iVBORw0KGgoAAAANSUhEUgAAAAwAAAAOBAMAAADpk+DfAAAALVBMVEX///+qqqqYmJh2dnaIiIi6\n",
       "urpUVFQiIiJERETMzMxmZmYyMjLu7u7c3NwAAABvwqPxAAAAAXRSTlMAQObYZgAAAEtJREFUCNdj\n",
       "YGDgPcAAAtwLwNSMGjCV6gIieTawgyhmBS4BIMXOwLsBSKkwMGQCKaC6aQwMjEBd3BdACMScAVJd\n",
       "wJAKolwYAkAUKwAk0guX6efcigAAAABJRU5ErkJggg==\n",
       "\" style=\"display:inline;vertical-align:middle;\" /></a></td></tr>\n",
       "<tr><td>2</td><td>ExprTuple</td><td>3, 4</td><td><a class=\"ProveItLink\" href=\"../912d83da1f36fc4242b339316bcc76d83104b7480/expr.ipynb\"><img src=\"data:image/png;base64,iVBORw0KGgoAAAANSUhEUgAAAIAAAAAVCAMAAAC5SxYJAAAARVBMVEX///8sLCxlZWUbGxsJCQkd\n",
       "HR0PDw8WFhbc3NwiIiJERESqqqqYmJh2dnZmZmYQEBDu7u4yMjJUVFTMzMyIiIi6uroAAAAHJ3au\n",
       "AAAAAXRSTlMAQObYZgAAAeJJREFUSMe1VllyIyEMZZKZhB0EgvsfddjtxuBuu8p82BVZT9vTEkI+\n",
       "/IK9oIMfDIDtA5Chfnv3slXPLmsejEsXo0uPQ/GtfZGCfTkAiFc1dTj+bXgVxyKH/IGvEyBZvBr0\n",
       "VCofsX2XykiVY9rasggsPZjlVOhIT10X9O/PEY0NKKMqOiZ1IGzpA7mODZOdcEp+QfMpUG5aYVra\n",
       "XBCtWloKHRWoByGU2+1giSinoqzRds6uVp5Ct600gWrKqkytJGaQxjdVtuFG5ZBt0HN/JeoRUbMR\n",
       "vgBiajFVIShJfLfJd1sjpxD1QbZDzwPWWsCyPpzBkMZm1nT3PoNh7cE02PnFY3gb9L+/E7q3AHYK\n",
       "fSR37WRwu0GOBUiqj627QCuxbIExBCUAM5Ro9C2ZWqalf9G7+GE2F+jZhO+JuygGBbzKJC0kEhys\n",
       "ObnwT8VhFXblNTposmyBFGwvoIQ8CDmxFFsmiN7qaNnjrI+x4mUV2lhz3KCdJ8st4M1ozuQ9sNq1\n",
       "qKxSeJ81BX20QLmJkHOQPEbQeZG1rl6jv6ezwOslArjp5aNk9ltVOFit4vuWfLKSv/6cocsqrgfh\n",
       "3Sef/MbP74XCN8/xlQAoP79XtTzUve3/2SVHeQp3rUb0I/+SnRcAc4//B7O2HKDWMHy3AAAAAElF\n",
       "TkSuQmCC\n",
       "\" style=\"display:inline;vertical-align:middle;\" /></a></td></tr>\n",
       "<tr><td>3</td><td>Operation</td><td>operator:&nbsp;5<br>operands:&nbsp;6<br></td><td><a class=\"ProveItLink\" href=\"../d22ddc5a10eb975511dd53c73f90645ec65bd9fe0/expr.ipynb\"><img src=\"data:image/png;base64,iVBORw0KGgoAAAANSUhEUgAAADUAAAAPBAMAAAC2KZqIAAAAMFBMVEX///+6uroyMjJERETMzMwQ\n",
       "EBAiIiKYmJju7u5mZmaqqqpUVFSIiIh2dnbc3NwAAAAWgogoAAAAAXRSTlMAQObYZgAAAMlJREFU\n",
       "GNNjYMAB3BhwA33cUuz5DSj8HrW0JBj71fwHyFIs6khKD5wXAJJvT786eQDEfYwkxdiwvoCBgeMC\n",
       "ezprAohvh2RGI4M/UD0vA88HLgcgl8MASU6A4f0EoBADN0SQMSwtDeYWlt2794NFWQ9A+BuQrAOK\n",
       "KoAY7x0YQK7gSEDILWBgYAsAevLBeQYesAu3w6X4gHJMHxgY1heYMrwBi7QJwOSagJj5BwND89ne\n",
       "OwUQ1ZoOEKnH8XoM7PafJiAHDNcmRJiBAACh/y/lW8971AAAAABJRU5ErkJggg==\n",
       "\" style=\"display:inline;vertical-align:middle;\" /></a></td></tr>\n",
       "<tr><td>4</td><td>Operation</td><td>operator:&nbsp;7<br>operands:&nbsp;8<br></td><td><a class=\"ProveItLink\" href=\"../273da7ffba443a4b19c48223f479c1ad3469c2df0/expr.ipynb\"><img src=\"data:image/png;base64,iVBORw0KGgoAAAANSUhEUgAAADUAAAAVCAMAAADRlFZ0AAAARVBMVEX///8sLCxlZWUbGxsJCQkd\n",
       "HR0PDw8WFhYyMjK6urpERETMzMwQEBAiIiKYmJju7u5mZmaqqqpUVFSIiIh2dnbc3NwAAADC7K9Z\n",
       "AAAAAXRSTlMAQObYZgAAAQJJREFUOMudU9t2xCAIpN1eiIoaEf//U4vR7GatJ9uGl5xwmxlAgBNb\n",
       "AlwwulJl0/HPp1KSmsHltCoOYWeau5yW0QBduH/TPD8wEn1/4ZOTizSqJc8Fodc5GHn2GtcpuDok\n",
       "yZxk5ch7WEx1Bxx6NWKCLap4njy4u4wGwjzKSswcNbNa3igDrHYX1UaFw7K6rEAbZA0mc7wIR2qf\n",
       "H0Q4k8XF75vgX8vN61TWYYRSbAdtHCbLUlkdIpXaz8smC/iuI2l8iTCVpQiV96o9KmV5kAy0QLIw\n",
       "3ZZ125SC4RxyZn/IEIy34SRNO11Ef3KC7296UoT/fCTjNf3JxFx5xOyvVL2C+gGrMQ1d8FD+mAAA\n",
       "AABJRU5ErkJggg==\n",
       "\" style=\"display:inline;vertical-align:middle;\" /></a></td></tr>\n",
       "<tr><td>5</td><td>Literal</td><td></td><td><a class=\"ProveItLink\" href=\"../../../membership/__pv_it/088cbc857536a28d4119ad9639a84270ccb0545d0/expr.ipynb\"><img src=\"data:image/png;base64,iVBORw0KGgoAAAANSUhEUgAAAAwAAAAMBAMAAACkW0HUAAAALVBMVEX///+qqqpmZmZUVFQQEBC6\n",
       "urpERETc3NyYmJjMzMwiIiIyMjKIiIju7u4AAACYsrA9AAAAAXRSTlMAQObYZgAAADxJREFUCNdj\n",
       "YOA9vWrVBgaG2b0MQMCeCyIZ2ArA1DUwyRCyahVIyWQI7xaEYm4AU7xLIdxqTQgtvGvVBgCkcQ7e\n",
       "geM/tQAAAABJRU5ErkJggg==\n",
       "\" style=\"display:inline;vertical-align:middle;\" /></a></td></tr>\n",
       "<tr><td>6</td><td>ExprTuple</td><td>10, 9</td><td><a class=\"ProveItLink\" href=\"../06706af7e4d9309974f9792530dc1cae39ec95130/expr.ipynb\"><img src=\"data:image/png;base64,iVBORw0KGgoAAAANSUhEUgAAADEAAAAVBAMAAAAdjxsPAAAAMFBMVEX////c3NwiIiJERESqqqqY\n",
       "mJh2dnZmZmYQEBDu7u4yMjJUVFTMzMyIiIi6uroAAAAs73DqAAAAAXRSTlMAQObYZgAAARRJREFU\n",
       "KM9jYMAN+C5gEYwDEafRRXkUGBjYDwAZK9FluD4AiQUMDLwYhgX9BBJhDAwcE9AkGN0/AskZDAyv\n",
       "0LXw8v4DkswODGVASuy2yHW4oS9ZvgJJtgKGpQwMnAmsqhwKUAnOBzx/gRTLAoY+oDwD7weWAzDv\n",
       "MTB+B1ENDEBDORm4DeDWnN69+zPIUx9AMkAHIpz+gIGhCyLTAuLKH2CAOp4FiDUgppkyMLAK3Gfg\n",
       "nQCREwHi9UDMuoAhnYHBP8CCQZaB8xPIZcBQYbCfAHb1IwaGydem5QYwcPYLMDBa/BJgCP6/HBh4\n",
       "Dxg4BODRIYAUEsDQYU2AcViRwygXORaQZcD2ScN4yNHBDTKZEVts32FgAADlCTw7rUcUdAAAAABJ\n",
       "RU5ErkJggg==\n",
       "\" style=\"display:inline;vertical-align:middle;\" /></a></td></tr>\n",
       "<tr><td>7</td><td>Literal</td><td></td><td><a class=\"ProveItLink\" href=\"../../../membership/__pv_it/cc61ce5cf0825a46fd70733410654132b7dd0e550/expr.ipynb\"><img src=\"data:image/png;base64,iVBORw0KGgoAAAANSUhEUgAAAAwAAAAVCAMAAABFcv+GAAAAQlBMVEX///9bW1sNDQ0JCQkdHR0Q\n",
       "EBAPDw8WFhaYmJiIiIgyMjLc3NxERER2dnaqqqpmZmZUVFTMzMwiIiLu7u66uroAAACAfls5AAAA\n",
       "AXRSTlMAQObYZgAAAGtJREFUGNNNTkkSwCAIo7sirQr8/621LhUOYQIhAWCUCsxiQ3Iyi6hW1bt4\n",
       "5OtkrGp0AhTqPFCxEWyiOvO+HdCH2EL0YOZ9K4A97H66L5sQSA40DiKsKf+PBFwnAbckbG4jdsjI\n",
       "PO+dIXPxAnRTBHGTKJqmAAAAAElFTkSuQmCC\n",
       "\" style=\"display:inline;vertical-align:middle;\" /></a></td></tr>\n",
       "<tr><td>8</td><td>ExprTuple</td><td>10, 11</td><td><a class=\"ProveItLink\" href=\"../ff099d1a0bb94c854b040e46fe675692626106110/expr.ipynb\"><img src=\"data:image/png;base64,iVBORw0KGgoAAAANSUhEUgAAADIAAAAVBAMAAAD2uKAMAAAAMFBMVEX////c3NwiIiJERESqqqqY\n",
       "mJh2dnZmZmYQEBDu7u4yMjJUVFTMzMyIiIi6uroAAAAs73DqAAAAAXRSTlMAQObYZgAAASJJREFU\n",
       "KM9jYMAN+C5gEWR9ACROowrt/7178zoGhhogeyWqag4DBob6BwxcDAy8aIadB/LPb2BgTWDgmIAq\n",
       "c1+AgSE+gYGzgeEVmt0WQKwBVG3CUAZkid0WuQ4z9DcDg5QlkE5nWMrAwJnAqsqhAJHg+X33uiqI\n",
       "4cXQx8DAxsD7geUARIb3IwPDpA1AxguGf0A9DNwGMGuYG4CyX0FuBMkAPQF3Oj9QPes3sEwLiC9/\n",
       "gAHq+PMBDAzcX8CmmQLVCNxn4J0AkQN5R34BkBEFdB2Df4AFgywD5yeod3i6JoBd/YiBYfK1abkB\n",
       "DJz9QOXF/3fvXhUAUrKOgUMAHh0CSEEBDB1g0MEiADmQ2C4gxQKKzCwgloZxUKJjIxAzYott3gMM\n",
       "AD3SRglZIJ+2AAAAAElFTkSuQmCC\n",
       "\" style=\"display:inline;vertical-align:middle;\" /></a></td></tr>\n",
       "<tr><td>9</td><td>Variable</td><td></td><td><a class=\"ProveItLink\" href=\"../../../../../__pv_it/2cbe72a7ad6f655694dd697106680215e8489b600/expr.ipynb\"><img src=\"data:image/png;base64,iVBORw0KGgoAAAANSUhEUgAAAA8AAAAOBAMAAAACpFvcAAAALVBMVEX///8QEBBERERUVFS6urqI\n",
       "iIhmZmaqqqrc3Nzu7u6YmJgyMjIiIiLMzMwAAADtIaYWAAAAAXRSTlMAQObYZgAAAFtJREFUCNdj\n",
       "YACBOwxQsA9Kc52bAGG05zVAGAFxDmCaZULdAjBjCsO9ADDDgaEvAUTzGhvbKYCVMDAwbgAxChgY\n",
       "eASANAeQwf0AyJgNxEwvGRia5HYwcOm9TgAA6BoR3jrzwFcAAAAASUVORK5CYII=\n",
       "\" style=\"display:inline;vertical-align:middle;\" /></a></td></tr>\n",
       "<tr><td>10</td><td>Variable</td><td></td><td><a class=\"ProveItLink\" href=\"../../../../../__pv_it/530be409e3083890784cf1d7b28c9e67e90af9360/expr.ipynb\"><img src=\"data:image/png;base64,iVBORw0KGgoAAAANSUhEUgAAAAsAAAAJBAMAAAAWSsseAAAAKlBMVEX///9ERETMzMwQEBAiIiKY\n",
       "mJju7u5mZmaqqqpUVFSIiIh2dnbc3NwAAAA/vyDhAAAAAXRSTlMAQObYZgAAAENJREFUCNdjYDi9\n",
       "8sTyBQxsG1hdmR0YuBm4LnAoMLAxcAowgADzAjB1VoEhgYH1wFoGrgSG3gBhhlMMDImrs3cFMAAA\n",
       "t0YN+iTRa+sAAAAASUVORK5CYII=\n",
       "\" style=\"display:inline;vertical-align:middle;\" /></a></td></tr>\n",
       "<tr><td>11</td><td>Variable</td><td></td><td><a class=\"ProveItLink\" href=\"../../../../../__pv_it/077b2ff79244fb4582cbe22c6e3356fa92a52f2f0/expr.ipynb\"><img src=\"data:image/png;base64,iVBORw0KGgoAAAANSUhEUgAAABAAAAAOBAMAAADUAYG5AAAAMFBMVEX///+qqqru7u4iIiJ2dnbc\n",
       "3NyIiIjMzMxmZmYQEBC6uroyMjJERERUVFSYmJgAAADLUcuvAAAAAXRSTlMAQObYZgAAAGpJREFU\n",
       "CNdjYGB4+//u3dMLGIBgDgMDxy8gzf4NiP8CGWxfGRj4vgAZPBMYGJgnARn8FxhY9ygAGfXX0pof\n",
       "gDTlBzAw2YIYJ0EckBBI53sHoBH/gIz7AhBjWH9DjancBLTl/N+7t/cxMAAA3u4f/5xagjYAAAAA\n",
       "SUVORK5CYII=\n",
       "\" style=\"display:inline;vertical-align:middle;\" /></a></td></tr>\n",
       "</table>\n"
      ],
      "text/plain": [
       "0. (x in A) and (x not-in B)\n",
       "   core type: Operation\n",
       "   operator: 1\n",
       "   operands: 2\n",
       "1. and\n",
       "   core type: Literal\n",
       "   sub-expressions: \n",
       "2. (x in A , x not-in B)\n",
       "   core type: ExprTuple\n",
       "   sub-expressions: 3, 4\n",
       "3. x in A\n",
       "   core type: Operation\n",
       "   operator: 5\n",
       "   operands: 6\n",
       "4. x not-in B\n",
       "   core type: Operation\n",
       "   operator: 7\n",
       "   operands: 8\n",
       "5. in\n",
       "   core type: Literal\n",
       "   sub-expressions: \n",
       "6. (x , A)\n",
       "   core type: ExprTuple\n",
       "   sub-expressions: 10, 9\n",
       "7. not-in\n",
       "   core type: Literal\n",
       "   sub-expressions: \n",
       "8. (x , B)\n",
       "   core type: ExprTuple\n",
       "   sub-expressions: 10, 11\n",
       "9. A\n",
       "   core type: Variable\n",
       "   sub-expressions: \n",
       "10. x\n",
       "    core type: Variable\n",
       "    sub-expressions: \n",
       "11. B\n",
       "    core type: Variable\n",
       "    sub-expressions: "
      ]
     },
     "execution_count": 4,
     "metadata": {},
     "output_type": "execute_result"
    }
   ],
   "source": [
    "# display the expression information\n",
    "expr.exprInfo()"
   ]
  },
  {
   "cell_type": "code",
   "execution_count": null,
   "metadata": {},
   "outputs": [],
   "source": []
  }
 ],
 "metadata": {
  "kernelspec": {
   "display_name": "Python 3",
   "language": "python",
   "name": "python3"
  }
 },
 "nbformat": 4,
 "nbformat_minor": 0
}
