{
 "cells": [
  {
   "cell_type": "markdown",
   "metadata": {},
   "source": [
    "Expression of type <a class=\"ProveItLink\" href=\"../../../../../../../doc/html/api/proveit.Lambda.html\">Lambda</a>\n",
    "=======================\n",
    "# from context <a class=\"ProveItLink\" href=\"../../_context_.ipynb\">proveit.logic.set_theory.subtraction</a>"
   ]
  },
  {
   "cell_type": "code",
   "execution_count": 1,
   "metadata": {},
   "outputs": [],
   "source": [
    "# import Expression classes needed to build the expression\n",
    "from proveit import Lambda\n",
    "from proveit._common_ import A, B, x\n",
    "from proveit.logic import Difference, InSet, NotInSet"
   ]
  },
  {
   "cell_type": "code",
   "execution_count": 2,
   "metadata": {},
   "outputs": [
    {
     "data": {
      "text/html": [
       "<strong id=\"expr\">expr:</strong> <a class=\"ProveItLink\" href=\"expr.ipynb\"><img src=\"data:image/png;base64,iVBORw0KGgoAAAANSUhEUgAAAP0AAAAVCAMAAAC6/BghAAAARVBMVEX///9bW1sJCQkdHR0PDw8W\n",
       "FhYUFBQNDQ2qqqru7u4iIiJ2dnbc3NyIiIjMzMxmZmYQEBC6uroyMjJERERUVFSYmJgAAACUmjaW\n",
       "AAAAAXRSTlMAQObYZgAAAqRJREFUWMPVWNd25CAM9daYDqL8/6euHewBUQyexA+rF/lMhLhXoEKW\n",
       "5X+Wlc9YGfLN2xrxlHEl3mCdCzMzHug1e+9CcJtYMHOIpLsBHxtLOuaL4SgZfz71XfYF2AZZbeMG\n",
       "YY4+3LlL2BjCxBIMB86l77FX5tL7Fp4gDj11qOLOVcbGnoZx5Ao4nh1r2Vvs6bX3DWGI5cMHNkNI\n",
       "9wkQAXQT6BjzVYVxpSrgEH341nfZ72j+/KZw5X1Z7OGX6pkrbaB/auDJlbHY9h6fVwnHrgvSs+w/\n",
       "0Vg+8L7EO8DBJuiY4Zrvq46YcSYcX4VKV5vbKnqK4d6zBj9kX8JhCusm+w4aAiPvWwYIIRT1/Wxx\n",
       "GS2IdoTtaewXnUxtfashc0pMyrrLtC/grIB1i30PTVWjKu9HJhDquuyJS8R03JN9rtwwvToRsY0a\n",
       "kR3P/smDmkz7BMdorFvse2iq9lR5PzNBZLfy4y9FolO+Hl+7W4f4Gn1ap0PK0lzubdaFtIRDtoGp\n",
       "EvMFRwasm2ffRvPrJ67BDe9n6c9LftknnGkR0mI0BGXG8UvDXNpncGbYd9CwdeRdnlFwYe2xV1lG\n",
       "65cVD/IIe4x/Y45LxutZaodpX8KZufkdNHTo/WyAPEAv72UeVRvXe/6ZaItImeXqem79q9VPDns1\n",
       "HA9Yt9i30Rg19H5kgtR5hcClEpWO2Hj21rWv5JkloVUDPrvUq/PY0bBXw5noeB00Tg68KxunfoBx\n",
       "Iz4uII0lVTDCmECrOJRvkWjMrQ6wB91vu8FV1W/BOd8j1SMsse+g+ZBj73dFXwyrq4Ni0uXLF+X9\n",
       "Sdf/KNF8g3j2lHFTmMB6nr3lywPyhRfuG0cPReWYZs/tI/9R4u4p44acU6bjd9kLvzxDXzxlXFOQ\n",
       "WKO/XbMfHv0/tpAx5Sz0XroAAAAASUVORK5CYII=\n",
       "\" style=\"display:inline;vertical-align:middle;\" /></a><br>"
      ],
      "text/plain": [
       "expr: B -> (x in (A - B)) | x not-in B"
      ]
     },
     "execution_count": 2,
     "metadata": {},
     "output_type": "execute_result"
    }
   ],
   "source": [
    "# build up the expression from sub-expressions\n",
    "expr = Lambda(B, InSet(x, Difference(A, B)), conditions = [NotInSet(x, B)])"
   ]
  },
  {
   "cell_type": "code",
   "execution_count": 3,
   "metadata": {},
   "outputs": [
    {
     "name": "stdout",
     "output_type": "stream",
     "text": [
      "Passed sanity check: built 'expr' is the same as the stored Expression.\n"
     ]
    }
   ],
   "source": [
    "# check that the built expression is the same as the stored expression\n",
    "%check_expr"
   ]
  },
  {
   "cell_type": "code",
   "execution_count": 4,
   "metadata": {},
   "outputs": [
    {
     "data": {
      "text/html": [
       "<table><tr><th>&nbsp;</th><th>core type</th><th>sub-expressions</th><th>expression</th></tr>\n",
       "<tr><td>0</td><td>Lambda</td><td>parameter:&nbsp;13<br>body:&nbsp;1<br>conditions:&nbsp;2<br></td><td><a class=\"ProveItLink\" href=\"expr.ipynb\"><img src=\"data:image/png;base64,iVBORw0KGgoAAAANSUhEUgAAAP0AAAAVCAMAAAC6/BghAAAARVBMVEX///9bW1sJCQkdHR0PDw8W\n",
       "FhYUFBQNDQ2qqqru7u4iIiJ2dnbc3NyIiIjMzMxmZmYQEBC6uroyMjJERERUVFSYmJgAAACUmjaW\n",
       "AAAAAXRSTlMAQObYZgAAAqRJREFUWMPVWNd25CAM9daYDqL8/6euHewBUQyexA+rF/lMhLhXoEKW\n",
       "5X+Wlc9YGfLN2xrxlHEl3mCdCzMzHug1e+9CcJtYMHOIpLsBHxtLOuaL4SgZfz71XfYF2AZZbeMG\n",
       "YY4+3LlL2BjCxBIMB86l77FX5tL7Fp4gDj11qOLOVcbGnoZx5Ao4nh1r2Vvs6bX3DWGI5cMHNkNI\n",
       "9wkQAXQT6BjzVYVxpSrgEH341nfZ72j+/KZw5X1Z7OGX6pkrbaB/auDJlbHY9h6fVwnHrgvSs+w/\n",
       "0Vg+8L7EO8DBJuiY4Zrvq46YcSYcX4VKV5vbKnqK4d6zBj9kX8JhCusm+w4aAiPvWwYIIRT1/Wxx\n",
       "GS2IdoTtaewXnUxtfashc0pMyrrLtC/grIB1i30PTVWjKu9HJhDquuyJS8R03JN9rtwwvToRsY0a\n",
       "kR3P/smDmkz7BMdorFvse2iq9lR5PzNBZLfy4y9FolO+Hl+7W4f4Gn1ap0PK0lzubdaFtIRDtoGp\n",
       "EvMFRwasm2ffRvPrJ67BDe9n6c9LftknnGkR0mI0BGXG8UvDXNpncGbYd9CwdeRdnlFwYe2xV1lG\n",
       "65cVD/IIe4x/Y45LxutZaodpX8KZufkdNHTo/WyAPEAv72UeVRvXe/6ZaItImeXqem79q9VPDns1\n",
       "HA9Yt9i30Rg19H5kgtR5hcClEpWO2Hj21rWv5JkloVUDPrvUq/PY0bBXw5noeB00Tg68KxunfoBx\n",
       "Iz4uII0lVTDCmECrOJRvkWjMrQ6wB91vu8FV1W/BOd8j1SMsse+g+ZBj73dFXwyrq4Ni0uXLF+X9\n",
       "Sdf/KNF8g3j2lHFTmMB6nr3lywPyhRfuG0cPReWYZs/tI/9R4u4p44acU6bjd9kLvzxDXzxlXFOQ\n",
       "WKO/XbMfHv0/tpAx5Sz0XroAAAAASUVORK5CYII=\n",
       "\" style=\"display:inline;vertical-align:middle;\" /></a></td></tr>\n",
       "<tr><td>1</td><td>Operation</td><td>operator:&nbsp;3<br>operands:&nbsp;4<br></td><td><a class=\"ProveItLink\" href=\"../ccb2ef6fe510532bd981305c5275156da456b8370/expr.ipynb\"><img src=\"data:image/png;base64,iVBORw0KGgoAAAANSUhEUgAAAG0AAAAVBAMAAAC+p33JAAAAMFBMVEX///+6uroyMjJERETMzMwQ\n",
       "EBAiIiKYmJju7u5mZmaqqqpUVFSIiIh2dnbc3NwAAAAWgogoAAAAAXRSTlMAQObYZgAAAZ9JREFU\n",
       "OMtjYKAmkMEvXYhDnGUDhEpAl6j+v3u3kQADpwN2fUwNEOoDhkwwAwPnRwYGBez6zkCosh8YDvkD\n",
       "xL8ZGGpRRHvU0pLAjAgwybfyH7o+HqAI+18GhlYUw9QhzmNghDiDh+cjuj7mAAYGNqCpzAsYGN6e\n",
       "fnXyAEjwMVQbA+cFMCXB9R1dH/8GBj5loDLeCQwcF9jTWcEBZwcPlgIQySEA8g0q8N9zZhpIkkuB\n",
       "gZeB5wMXKFw5DGCyrAJg1zLw/UTXd/4BA0c2SC6AgYOBG6KBMSwtDRIu/GB93rt3fwYHj1oaCIDF\n",
       "TEF6gRaygGKI9QByZMP1AYkgdPuAUcBQfwGq770DAyhEOOCpg3UByAtAnIoefaCA2r8A7E72B+cZ\n",
       "eMAhuR0e2iCvvwJifSzRx/cJyGBXYFhfYMrwBizaJgCVBoYyAwcoDu0bMKPPVQOiovls750CSPrQ\n",
       "hCZXxgQGPtNPDxiK/2uiaOO0/717kzo4pgSQxbk2QdNZHKF81opduJaQvjt48xFOwIEjH/FtwK+P\n",
       "+wEOiTf49R1hYAAA+n9eoNpOu2QAAAAASUVORK5CYII=\n",
       "\" style=\"display:inline;vertical-align:middle;\" /></a></td></tr>\n",
       "<tr><td>2</td><td>ExprTuple</td><td>5</td><td><a class=\"ProveItLink\" href=\"../eb5a675f3604caa90531b13fc5fcc2c15fcc338e0/expr.ipynb\"><img src=\"data:image/png;base64,iVBORw0KGgoAAAANSUhEUgAAAEIAAAAVCAMAAADFAciVAAAARVBMVEX///8sLCxlZWUbGxsJCQkd\n",
       "HR0PDw8WFhbc3NwiIiJERESqqqqYmJh2dnZmZmYQEBDu7u4yMjJUVFTMzMyIiIi6uroAAAAHJ3au\n",
       "AAAAAXRSTlMAQObYZgAAAVpJREFUOMuNVNuWwyAIZO9gvASD/v+nroqxTdaky0NziggzAwjw0tL6\n",
       "jxi5PabrFDbpd4u3GY7HNuYcixlut/3WvHwP1Kfj/2DUnZuf64/c0wA6gcrSvw2ddTXrJYhVmOjn\n",
       "mw9OyaiMsmsxoWjJlyKwLdkNHr0mdHC9tFnAO3Whk4iL+EELTY1ZzxUUP7Lp4J0Htgq6ZLJkIQzq\n",
       "Wv6sVJFARDzZ3bEwBBXcNZrFs+1CmGm7uhQr7a1OAbQ3UCOjeZ63QMW+Pol4JoVku8PaU7SOy5+J\n",
       "cstUitGQliKMIMxbh6NQJ0NRLvTiMS+DiFGfxSYFyOAey0HyMJWilNvpWa5NqbqW7JUmPrislCBu\n",
       "MJ2KLQyZy/1Eqr+41TmxT+HI/uO0LkZ3jPkRV9ct4OV6vL+VCSe+26A64LooczP48q1xcrvsaF5m\n",
       "6POPV0/OQZm5xY4TL16M1yCkduwXNosSGpDLvusAAAAASUVORK5CYII=\n",
       "\" style=\"display:inline;vertical-align:middle;\" /></a></td></tr>\n",
       "<tr><td>3</td><td>Literal</td><td></td><td><a class=\"ProveItLink\" href=\"../../../membership/__pv_it/088cbc857536a28d4119ad9639a84270ccb0545d0/expr.ipynb\"><img src=\"data:image/png;base64,iVBORw0KGgoAAAANSUhEUgAAAAwAAAAMBAMAAACkW0HUAAAALVBMVEX///+qqqpmZmZUVFQQEBC6\n",
       "urpERETc3NyYmJjMzMwiIiIyMjKIiIju7u4AAACYsrA9AAAAAXRSTlMAQObYZgAAADxJREFUCNdj\n",
       "YOA9vWrVBgaG2b0MQMCeCyIZ2ArA1DUwyRCyahVIyWQI7xaEYm4AU7xLIdxqTQgtvGvVBgCkcQ7e\n",
       "geM/tQAAAABJRU5ErkJggg==\n",
       "\" style=\"display:inline;vertical-align:middle;\" /></a></td></tr>\n",
       "<tr><td>4</td><td>ExprTuple</td><td>11, 6</td><td><a class=\"ProveItLink\" href=\"../b441866c5a6bb19330e2e32b2d76f88b70f419140/expr.ipynb\"><img src=\"data:image/png;base64,iVBORw0KGgoAAAANSUhEUgAAAFsAAAAVBAMAAADbSo+2AAAAMFBMVEX////c3NwiIiJERESqqqqY\n",
       "mJh2dnZmZmYQEBDu7u4yMjJUVFTMzMyIiIi6uroAAAAs73DqAAAAAXRSTlMAQObYZgAAAXxJREFU\n",
       "KM+VUzFIw0AUfdHEJLbRDMVFRBEEwcVFKC7t5mhQcBE0m1NBHJwLuuigAUEcg1LESWeDmFHooJMO\n",
       "Kg1uOkVFxRZb/0UT7UVIPfi5+/+/u/z/7h3wz9F10Spyjn3KfDQ9wEdmG44z7kF2aX3AJzv92Lkr\n",
       "gFwHbECL1TL1HvvfB1kNmAEUi8sJE488XKOI9ArsAA+xnFbnQ+1FoG2N5jyWye25zlxFNd2LLzy8\n",
       "+wjCHlXRsYgSoJrSkBLSoXqs0uZxfnK7ZNAs2tigTdB80Q2vAcIbD6/oUEdYrggqVEVqNEqVHec5\n",
       "6Hh3kA2PrbNsCx2f9hH0pfywSfl1/nTiEPNmAF9lfr+Lbz5FsmGedtb7aT4oZowo1SvQrK8NGbLD\n",
       "P2gXqrSQbCwAk0YWfVCfGC90z8hZcdrPmFaIyDtg63K7YEDd1CFkqzqmG/tNaDlXc45LgZo8KHqk\n",
       "ZD1JwSQCyQwdKVHwhd8CToQHjfWGXuKrSrFqhZYf3w3wCXvAW5ueX6UMAAAAAElFTkSuQmCC\n",
       "\" style=\"display:inline;vertical-align:middle;\" /></a></td></tr>\n",
       "<tr><td>5</td><td>Operation</td><td>operator:&nbsp;7<br>operands:&nbsp;8<br></td><td><a class=\"ProveItLink\" href=\"../273da7ffba443a4b19c48223f479c1ad3469c2df0/expr.ipynb\"><img src=\"data:image/png;base64,iVBORw0KGgoAAAANSUhEUgAAADUAAAAVCAMAAADRlFZ0AAAARVBMVEX///8sLCxlZWUbGxsJCQkd\n",
       "HR0PDw8WFhYyMjK6urpERETMzMwQEBAiIiKYmJju7u5mZmaqqqpUVFSIiIh2dnbc3NwAAADC7K9Z\n",
       "AAAAAXRSTlMAQObYZgAAAQJJREFUOMudU9t2xCAIpN1eiIoaEf//U4vR7GatJ9uGl5xwmxlAgBNb\n",
       "AlwwulJl0/HPp1KSmsHltCoOYWeau5yW0QBduH/TPD8wEn1/4ZOTizSqJc8Fodc5GHn2GtcpuDok\n",
       "yZxk5ch7WEx1Bxx6NWKCLap4njy4u4wGwjzKSswcNbNa3igDrHYX1UaFw7K6rEAbZA0mc7wIR2qf\n",
       "H0Q4k8XF75vgX8vN61TWYYRSbAdtHCbLUlkdIpXaz8smC/iuI2l8iTCVpQiV96o9KmV5kAy0QLIw\n",
       "3ZZ125SC4RxyZn/IEIy34SRNO11Ef3KC7296UoT/fCTjNf3JxFx5xOyvVL2C+gGrMQ1d8FD+mAAA\n",
       "AABJRU5ErkJggg==\n",
       "\" style=\"display:inline;vertical-align:middle;\" /></a></td></tr>\n",
       "<tr><td>6</td><td>Operation</td><td>operator:&nbsp;9<br>operands:&nbsp;10<br></td><td><a class=\"ProveItLink\" href=\"../127f564a9f13292d29fa5e36555e5b9579b7a9860/expr.ipynb\"><img src=\"data:image/png;base64,iVBORw0KGgoAAAANSUhEUgAAADkAAAAOBAMAAABnSamjAAAAMFBMVEX///92dnYQEBBERERUVFS6\n",
       "urqIiIhmZmaqqqrc3Nzu7u6YmJgyMjIiIiLMzMwAAACFkkdwAAAAAXRSTlMAQObYZgAAAMFJREFU\n",
       "GNNjYACBtwxogNv/i4vzUSjnPLosA5MBA0N9AETl/QXosu8TgNgBzJxRPwFdNh8osl8AzEzID0CX\n",
       "NQLiS2ATWRf0b0CX/cLAMMcKzFoKtgUF8H1JS78NYQYwzC9Ak2X7ycCwFuwoPhcXf6D7GTjP3gUB\n",
       "sBOYFYAqfoOtBfruAJpefqA+7o8gVgMDA68CuneBzmT5ATIQKMvzAYt354MMXAOy5hemd/l0gN6d\n",
       "rH+Sgdv+D6qji/+7uJwBGg4ANGQ1iCd9+/4AAAAASUVORK5CYII=\n",
       "\" style=\"display:inline;vertical-align:middle;\" /></a></td></tr>\n",
       "<tr><td>7</td><td>Literal</td><td></td><td><a class=\"ProveItLink\" href=\"../../../membership/__pv_it/cc61ce5cf0825a46fd70733410654132b7dd0e550/expr.ipynb\"><img src=\"data:image/png;base64,iVBORw0KGgoAAAANSUhEUgAAAAwAAAAVCAMAAABFcv+GAAAAQlBMVEX///9bW1sNDQ0JCQkdHR0Q\n",
       "EBAPDw8WFhaYmJiIiIgyMjLc3NxERER2dnaqqqpmZmZUVFTMzMwiIiLu7u66uroAAACAfls5AAAA\n",
       "AXRSTlMAQObYZgAAAGtJREFUGNNNTkkSwCAIo7sirQr8/621LhUOYQIhAWCUCsxiQ3Iyi6hW1bt4\n",
       "5OtkrGp0AhTqPFCxEWyiOvO+HdCH2EL0YOZ9K4A97H66L5sQSA40DiKsKf+PBFwnAbckbG4jdsjI\n",
       "PO+dIXPxAnRTBHGTKJqmAAAAAElFTkSuQmCC\n",
       "\" style=\"display:inline;vertical-align:middle;\" /></a></td></tr>\n",
       "<tr><td>8</td><td>ExprTuple</td><td>11, 13</td><td><a class=\"ProveItLink\" href=\"../ff099d1a0bb94c854b040e46fe675692626106110/expr.ipynb\"><img src=\"data:image/png;base64,iVBORw0KGgoAAAANSUhEUgAAADIAAAAVBAMAAAD2uKAMAAAAMFBMVEX////c3NwiIiJERESqqqqY\n",
       "mJh2dnZmZmYQEBDu7u4yMjJUVFTMzMyIiIi6uroAAAAs73DqAAAAAXRSTlMAQObYZgAAASJJREFU\n",
       "KM9jYMAN+C5gEWR9ACROowrt/7178zoGhhogeyWqag4DBob6BwxcDAy8aIadB/LPb2BgTWDgmIAq\n",
       "c1+AgSE+gYGzgeEVmt0WQKwBVG3CUAZkid0WuQ4z9DcDg5QlkE5nWMrAwJnAqsqhAJHg+X33uiqI\n",
       "4cXQx8DAxsD7geUARIb3IwPDpA1AxguGf0A9DNwGMGuYG4CyX0FuBMkAPQF3Oj9QPes3sEwLiC9/\n",
       "gAHq+PMBDAzcX8CmmQLVCNxn4J0AkQN5R34BkBEFdB2Df4AFgywD5yeod3i6JoBd/YiBYfK1abkB\n",
       "DJz9QOXF/3fvXhUAUrKOgUMAHh0CSEEBDB1g0MEiADmQ2C4gxQKKzCwgloZxUKJjIxAzYott3gMM\n",
       "AD3SRglZIJ+2AAAAAElFTkSuQmCC\n",
       "\" style=\"display:inline;vertical-align:middle;\" /></a></td></tr>\n",
       "<tr><td>9</td><td>Literal</td><td></td><td><a class=\"ProveItLink\" href=\"../b31700f174a73058c701da19ea3d1b9009786dec0/expr.ipynb\"><img src=\"data:image/png;base64,iVBORw0KGgoAAAANSUhEUgAAAA4AAAACBAMAAACapPCZAAAAElBMVEX///+6uroiIiIyMjLc3NwA\n",
       "AAA6l9OrAAAAAXRSTlMAQObYZgAAABBJREFUCNdjcFYCAUUGKAAADR4BD8/TF5gAAAAASUVORK5C\n",
       "YII=\n",
       "\" style=\"display:inline;vertical-align:middle;\" /></a></td></tr>\n",
       "<tr><td>10</td><td>ExprTuple</td><td>12, 13</td><td><a class=\"ProveItLink\" href=\"../caee09fb4b5c95b986a9cee46a014afbad9bdc680/expr.ipynb\"><img src=\"data:image/png;base64,iVBORw0KGgoAAAANSUhEUgAAADUAAAAVBAMAAAAUZLt1AAAAMFBMVEX////c3NwiIiJERESqqqqY\n",
       "mJh2dnZmZmYQEBDu7u4yMjJUVFTMzMyIiIi6uroAAAAs73DqAAAAAXRSTlMAQObYZgAAATZJREFU\n",
       "KM9jYMAH+C5gFY4DEach7EMwQdb9v3dvXsfAfgDIXgkRWg/XwWHAwFD/gGEBAwMvxEhW/QkwufNA\n",
       "kfMbGMKAqiBiIvUCMLn7QFZ8AsMMBoZXEIEL9x/A5CyAWGMCA7MDQxnEsRP8A2ByvxkYpCwZGNgK\n",
       "GJaC+fPAtoABz++711WBNMsChj6wwAMG+QKoHO9HBoZJG4BGNTD8A6vdvXu/AVSOuQEo/xUo9gEi\n",
       "xwd07wKoHD9QD+s3sFwLiO/AwMDUAPMe0FHcX8BmmgK5jEA5rg8MDBNg3pMHGsK6gCEdyJ0FsuYn\n",
       "A+cnqPd4uiaA/fCIgUG4fyEDq/2vAs5+oJbi/7t3rwL5lesBA4cAUnQhsUFhxpqA4LIiR2AuIo7Q\n",
       "5ThBfpJG8JFTADfIfEbsaeIOAwMABOxNRsfkiy0AAAAASUVORK5CYII=\n",
       "\" style=\"display:inline;vertical-align:middle;\" /></a></td></tr>\n",
       "<tr><td>11</td><td>Variable</td><td></td><td><a class=\"ProveItLink\" href=\"../../../../../__pv_it/530be409e3083890784cf1d7b28c9e67e90af9360/expr.ipynb\"><img src=\"data:image/png;base64,iVBORw0KGgoAAAANSUhEUgAAAAsAAAAJBAMAAAAWSsseAAAAKlBMVEX///9ERETMzMwQEBAiIiKY\n",
       "mJju7u5mZmaqqqpUVFSIiIh2dnbc3NwAAAA/vyDhAAAAAXRSTlMAQObYZgAAAENJREFUCNdjYDi9\n",
       "8sTyBQxsG1hdmR0YuBm4LnAoMLAxcAowgADzAjB1VoEhgYH1wFoGrgSG3gBhhlMMDImrs3cFMAAA\n",
       "t0YN+iTRa+sAAAAASUVORK5CYII=\n",
       "\" style=\"display:inline;vertical-align:middle;\" /></a></td></tr>\n",
       "<tr><td>12</td><td>Variable</td><td></td><td><a class=\"ProveItLink\" href=\"../../../../../__pv_it/2cbe72a7ad6f655694dd697106680215e8489b600/expr.ipynb\"><img src=\"data:image/png;base64,iVBORw0KGgoAAAANSUhEUgAAAA8AAAAOBAMAAAACpFvcAAAALVBMVEX///8QEBBERERUVFS6urqI\n",
       "iIhmZmaqqqrc3Nzu7u6YmJgyMjIiIiLMzMwAAADtIaYWAAAAAXRSTlMAQObYZgAAAFtJREFUCNdj\n",
       "YACBOwxQsA9Kc52bAGG05zVAGAFxDmCaZULdAjBjCsO9ADDDgaEvAUTzGhvbKYCVMDAwbgAxChgY\n",
       "eASANAeQwf0AyJgNxEwvGRia5HYwcOm9TgAA6BoR3jrzwFcAAAAASUVORK5CYII=\n",
       "\" style=\"display:inline;vertical-align:middle;\" /></a></td></tr>\n",
       "<tr><td>13</td><td>Variable</td><td></td><td><a class=\"ProveItLink\" href=\"../../../../../__pv_it/077b2ff79244fb4582cbe22c6e3356fa92a52f2f0/expr.ipynb\"><img src=\"data:image/png;base64,iVBORw0KGgoAAAANSUhEUgAAABAAAAAOBAMAAADUAYG5AAAAMFBMVEX///+qqqru7u4iIiJ2dnbc\n",
       "3NyIiIjMzMxmZmYQEBC6uroyMjJERERUVFSYmJgAAADLUcuvAAAAAXRSTlMAQObYZgAAAGpJREFU\n",
       "CNdjYGB4+//u3dMLGIBgDgMDxy8gzf4NiP8CGWxfGRj4vgAZPBMYGJgnARn8FxhY9ygAGfXX0pof\n",
       "gDTlBzAw2YIYJ0EckBBI53sHoBH/gIz7AhBjWH9DjancBLTl/N+7t/cxMAAA3u4f/5xagjYAAAAA\n",
       "SUVORK5CYII=\n",
       "\" style=\"display:inline;vertical-align:middle;\" /></a></td></tr>\n",
       "</table>\n"
      ],
      "text/plain": [
       "0. B -> (x in (A - B)) | x not-in B\n",
       "   core type: Lambda\n",
       "   parameter: 13\n",
       "   body: 1\n",
       "   conditions: 2\\n1. x in (A - B)\n",
       "   core type: Operation\n",
       "   operator: 3\n",
       "   operands: 4\n",
       "2. (x not-in B)\n",
       "   core type: ExprTuple\n",
       "   sub-expressions: 5\n",
       "3. in\n",
       "   core type: Literal\n",
       "   sub-expressions: \n",
       "4. (x , A - B)\n",
       "   core type: ExprTuple\n",
       "   sub-expressions: 11, 6\n",
       "5. x not-in B\n",
       "   core type: Operation\n",
       "   operator: 7\n",
       "   operands: 8\n",
       "6. A - B\n",
       "   core type: Operation\n",
       "   operator: 9\n",
       "   operands: 10\n",
       "7. not-in\n",
       "   core type: Literal\n",
       "   sub-expressions: \n",
       "8. (x , B)\n",
       "   core type: ExprTuple\n",
       "   sub-expressions: 11, 13\n",
       "9. -\n",
       "   core type: Literal\n",
       "   sub-expressions: \n",
       "10. (A , B)\n",
       "    core type: ExprTuple\n",
       "    sub-expressions: 12, 13\n",
       "11. x\n",
       "    core type: Variable\n",
       "    sub-expressions: \n",
       "12. A\n",
       "    core type: Variable\n",
       "    sub-expressions: \n",
       "13. B\n",
       "    core type: Variable\n",
       "    sub-expressions: "
      ]
     },
     "execution_count": 4,
     "metadata": {},
     "output_type": "execute_result"
    }
   ],
   "source": [
    "# display the expression information\n",
    "expr.exprInfo()"
   ]
  },
  {
   "cell_type": "code",
   "execution_count": null,
   "metadata": {},
   "outputs": [],
   "source": []
  }
 ],
 "metadata": {
  "kernelspec": {
   "display_name": "Python 3",
   "language": "python",
   "name": "python3"
  }
 },
 "nbformat": 4,
 "nbformat_minor": 0
}
