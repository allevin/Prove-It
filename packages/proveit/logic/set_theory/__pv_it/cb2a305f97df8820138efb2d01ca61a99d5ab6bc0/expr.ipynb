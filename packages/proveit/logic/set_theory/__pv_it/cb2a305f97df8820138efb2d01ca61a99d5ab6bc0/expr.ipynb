{
 "cells": [
  {
   "cell_type": "markdown",
   "metadata": {},
   "source": [
    "Theorem <a class=\"ProveItLink\" href=\"../../_theorems_.ipynb#allNotInEmpty\">allNotInEmpty</a> of type <a class=\"ProveItLink\" href=\"../../../../../../doc/html/api/proveit.logic.Forall.html\">Forall</a>\n",
    "=======================\n",
    "# from context <a class=\"ProveItLink\" href=\"../../_context_.ipynb\">proveit.logic.set_theory</a>\n",
    "*** see <a class=\"ProveItLink\" href=\"dependencies.ipynb\">dependencies</a> ***"
   ]
  },
  {
   "cell_type": "code",
   "execution_count": 1,
   "metadata": {},
   "outputs": [],
   "source": [
    "# import the special expression\n",
    "from proveit.logic.set_theory._theorems_ import allNotInEmpty"
   ]
  },
  {
   "cell_type": "code",
   "execution_count": 2,
   "metadata": {},
   "outputs": [
    {
     "name": "stdout",
     "output_type": "stream",
     "text": [
      "Passed sanity check: built 'allNotInEmpty' is the same as the stored Expression.\n"
     ]
    }
   ],
   "source": [
    "# check that the built expression is the same as the stored expression\n",
    "%check_expr allNotInEmpty"
   ]
  },
  {
   "cell_type": "code",
   "execution_count": 3,
   "metadata": {},
   "outputs": [
    {
     "data": {
      "text/html": [
       "<table><tr><th>&nbsp;</th><th>core type</th><th>sub-expressions</th><th>expression</th></tr>\n",
       "<tr><td>0</td><td>Operation</td><td>operator:&nbsp;1<br>operand:&nbsp;2<br></td><td><a class=\"ProveItLink\" href=\"expr.ipynb\"><img src=\"data:image/png;base64,iVBORw0KGgoAAAANSUhEUgAAAF0AAAAVCAMAAAATpBLwAAAAQlBMVEX///9bW1sNDQ0JCQkdHR0P\n",
       "Dw8WFhYQEBC6urrMzMxUVFRmZmZERETc3NwyMjKqqqp2dnaIiIiYmJgiIiLu7u4AAAAq2h4+AAAA\n",
       "AXRSTlMAQObYZgAAActJREFUOMutVdt25CAMo9t2uV9s4P9/tTYkBDKHdB6ah0kyHAtJlokQf3Cp\n",
       "sr6H8VTeKofH5TyBYILk+K7ayvX/FkKbR/B5OaEQ0DCt5tc49GxlhGeBVo1Hz8DOwOmPd+eC21XD\n",
       "sy+TfJEsv2vZPZqI2birlnvqBUL+/51HGwMRUbZUz2uybeHblbctDXvHAxbh/EQEm1G1eeWYb3V8\n",
       "5bS19VjxCYyPYC+fvCNVZd68xmZUjcMmo9tGfttT7CbQJphRyEtkq1m6QrDcv44eeV/FgSp7+bJH\n",
       "ghVApRo9THcvgSJYwBNdybPngFv0bmIbO7PkSsmc89cn/QxqFdtuHV1XcSDn8ht6kwEvU5SWqEks\n",
       "xLVUfaGTK+e4UeMUGL06M+p9qxo8GEisUXMpJoYtlzPUHXN4W1i8XJPvumnom+0CLpUGKdzr4Dmm\n",
       "ht2p4xbtwUCNhIjb/IlIljoi4ydzSlY3naUlyqmpcPGzviRT5R4QSCWltfs+/FvRKbNepGNAwtEw\n",
       "HGr5iND3SG5HQeCHCXNm6IxE1KeO22BXkUJP9gKxHePXGbx4UkJuZ5KDaMmAt0/g/bn6OJ83kN3X\n",
       "42EGhfHvfjj95oR/oA7s/g/4vBbjwBQB9AAAAABJRU5ErkJggg==\n",
       "\" style=\"display:inline;vertical-align:middle;\" /></a></td></tr>\n",
       "<tr><td>1</td><td>Literal</td><td></td><td><a class=\"ProveItLink\" href=\"../../../boolean/quantification/universal/__pv_it/265f8c02ac1094d56e0e6410a1c1fd3500dc9f540/expr.ipynb\"><img src=\"data:image/png;base64,iVBORw0KGgoAAAANSUhEUgAAAAwAAAAQBAMAAADQT4M0AAAAMFBMVEX///8QEBC6urrMzMxUVFRm\n",
       "ZmZERETc3NwyMjKqqqp2dnaIiIiYmJgiIiLu7u4AAAAU9Wx4AAAAAXRSTlMAQObYZgAAAFhJREFU\n",
       "CNdjeMAABhdAxGmGlSCqj6EMSLInMHAAJVknMPAsLy+vBYp8S0u7BaScGRjSgZQKA18DkOJl4D4A\n",
       "pLgP8IJM4mswARuX7gSmpoKNZWDcAKZ4gCoAgTQTILaSE58AAAAASUVORK5CYII=\n",
       "\" style=\"display:inline;vertical-align:middle;\" /></a></td></tr>\n",
       "<tr><td>2</td><td>Lambda</td><td>parameter:&nbsp;6<br>body:&nbsp;3<br></td><td><a class=\"ProveItLink\" href=\"../3db060bbfa900d4a58d5e49760a917faff5ada960/expr.ipynb\"><img src=\"data:image/png;base64,iVBORw0KGgoAAAANSUhEUgAAAGkAAAAVCAMAAAByvDCyAAAARVBMVEX///9bW1sJCQkdHR0PDw8W\n",
       "Fha6uroUFBQNDQ0yMjJERETMzMwQEBAiIiKYmJju7u5mZmaqqqpUVFSIiIh2dnbc3NwAAACGKdHX\n",
       "AAAAAXRSTlMAQObYZgAAAadJREFUSMetVeuahCAIdW/tqAkp4vs/6mJWo92+qZ1+TDp0OHAEVOrN\n",
       "T4ftXv/DFZ2aXcUEkaLJ7+4OkQ0vmyMoRS6vBnuDSeOpeXiGz5nEBLqpIZ1rp1yV0pD3ti86Xmbq\n",
       "j1NC0u7n2y3hawmqGzBxtvWXy+FYBqsBleEqKBjFTKOexmc9IwX2NNBuXXrfHMOkwhoj/xjJFmts\n",
       "8qOYyc9SooDBgerdVur8hFovDUWoNUaVbJpTFAo2M5OXGHKUlGRt95kw1IqU0tpgFJpNYQoFwczU\n",
       "yUFlYzDVF49f1zx9elbutNxgxJN8+fUpP4uACUbmwmTTFCrtF2qRr+rwirTBlI6NzZn2gOIKk62Y\n",
       "eNzhPtPANXrx1WJUdrpCmuhjpsBZPeBRckX7TLYJ3ZSK2GAkc5DmaZvcBAkGipry8iKnEUJePLZT\n",
       "oO3Use93MDmpLrTTDcfKNN0MREMRYyR4rXNdKbQdDOvHao6CYxWnBtSXx3nPhyb4CLquPZnlAHbO\n",
       "7/LcOxmVZh0EPJWP9MZbg80xCO/cvHx0E56ddOA7ly4fCHGSEuXT+gOt+xcjKn72vQAAAABJRU5E\n",
       "rkJggg==\n",
       "\" style=\"display:inline;vertical-align:middle;\" /></a></td></tr>\n",
       "<tr><td>3</td><td>Operation</td><td>operator:&nbsp;4<br>operands:&nbsp;5<br></td><td><a class=\"ProveItLink\" href=\"../d245c0baa6a4ff6ae0e31f0405242332792093880/expr.ipynb\"><img src=\"data:image/png;base64,iVBORw0KGgoAAAANSUhEUgAAAC8AAAAVCAMAAADhGEdVAAAAQlBMVEX///9bW1sNDQ0JCQkdHR0P\n",
       "Dw8WFhYyMjK6urpERETMzMwQEBAiIiKYmJju7u5mZmaqqqpUVFSIiIh2dnbc3NwAAADXC9tbAAAA\n",
       "AXRSTlMAQObYZgAAAQhJREFUKM+Fk+u2hCAIhTlXLwkp4Pu/6kHnrNKZpcOP0tzRx4YANuFp3jvY\n",
       "Rxr0KCxhL4/lXgsCcNrrT38ttUlD4T3OkP5s+3ispMQu/f6kq0Bnmf1JVRfkDgnCcHhgx6uNUIWL\n",
       "Zj5vOA1mDI3u1dzx2o3EzEoIx43bMzPPeg0PvbSzCpDjBd99djTrGf/z27ZMnfBHSun7yy4XUsX+\n",
       "ftP3cvilT5LHRweS4VJ9MGi/X99vRzD3Mkg27lhNg9rxgW/egmb2pOdQLCUaXza0YH3TAYmSL3Hu\n",
       "X3cv+GYGC4m06u9Q9znrzXEFkeXo4Edxoz82n4hxPWrheVCQdpOpb/6M55ireR/r9H/cAAxfF4/j\n",
       "4wAAAABJRU5ErkJggg==\n",
       "\" style=\"display:inline;vertical-align:middle;\" /></a></td></tr>\n",
       "<tr><td>4</td><td>Literal</td><td></td><td><a class=\"ProveItLink\" href=\"../../membership/__pv_it/cc61ce5cf0825a46fd70733410654132b7dd0e550/expr.ipynb\"><img src=\"data:image/png;base64,iVBORw0KGgoAAAANSUhEUgAAAAwAAAAVCAMAAABFcv+GAAAAQlBMVEX///9bW1sNDQ0JCQkdHR0Q\n",
       "EBAPDw8WFhaYmJiIiIgyMjLc3NxERER2dnaqqqpmZmZUVFTMzMwiIiLu7u66uroAAACAfls5AAAA\n",
       "AXRSTlMAQObYZgAAAGtJREFUGNNNTkkSwCAIo7sirQr8/621LhUOYQIhAWCUCsxiQ3Iyi6hW1bt4\n",
       "5OtkrGp0AhTqPFCxEWyiOvO+HdCH2EL0YOZ9K4A97H66L5sQSA40DiKsKf+PBFwnAbckbG4jdsjI\n",
       "PO+dIXPxAnRTBHGTKJqmAAAAAElFTkSuQmCC\n",
       "\" style=\"display:inline;vertical-align:middle;\" /></a></td></tr>\n",
       "<tr><td>5</td><td>ExprTuple</td><td>6, 7</td><td><a class=\"ProveItLink\" href=\"../c9aaa9ccba32760416acd3083f27b9359bb314950/expr.ipynb\"><img src=\"data:image/png;base64,iVBORw0KGgoAAAANSUhEUgAAACsAAAAVBAMAAAAtAwouAAAAMFBMVEX////c3NwiIiJERESqqqqY\n",
       "mJh2dnZmZmYQEBDu7u4yMjJUVFTMzMyIiIi6uroAAAAs73DqAAAAAXRSTlMAQObYZgAAASNJREFU\n",
       "GNNjYEAHCyAU3wVkwbBrBgxxIMZpZFG2AF4FBvYDQNZKZGEhBua9YHN4UcxIZ2A6ATSJgYFjArLw\n",
       "Wobn8wUYZjAwvEJxRitDHf8DBmYHhjIgR+y2yHWIWV8YFPgdGNgKGJYyMHAmsKpyKECEGQ2AwiwL\n",
       "GPqArmLg/cByACLMGwAU5mtg+AdUzcBtADX7K9cEoDDPB5Aw0DkwV7ZOYph/ACTcAuLJH2CAuNPM\n",
       "jeH8BJAhpgwMrAL3GXgngCUu72GIAgosAPqLwT/AgkGWgfMTUHiGAoMdA8iBjxgYJl+blhvAwNkv\n",
       "AFSnyJbAwMD1gIFDAOZDPiCLLTQGpAconwATZgVhsM25yAHLCmNwgiJIGsaDhzA3yFzGC+ixeYeB\n",
       "AQDitkBya0DZpwAAAABJRU5ErkJggg==\n",
       "\" style=\"display:inline;vertical-align:middle;\" /></a></td></tr>\n",
       "<tr><td>6</td><td>Variable</td><td></td><td><a class=\"ProveItLink\" href=\"../../../../__pv_it/530be409e3083890784cf1d7b28c9e67e90af9360/expr.ipynb\"><img src=\"data:image/png;base64,iVBORw0KGgoAAAANSUhEUgAAAAsAAAAJBAMAAAAWSsseAAAAKlBMVEX///9ERETMzMwQEBAiIiKY\n",
       "mJju7u5mZmaqqqpUVFSIiIh2dnbc3NwAAAA/vyDhAAAAAXRSTlMAQObYZgAAAENJREFUCNdjYDi9\n",
       "8sTyBQxsG1hdmR0YuBm4LnAoMLAxcAowgADzAjB1VoEhgYH1wFoGrgSG3gBhhlMMDImrs3cFMAAA\n",
       "t0YN+iTRa+sAAAAASUVORK5CYII=\n",
       "\" style=\"display:inline;vertical-align:middle;\" /></a></td></tr>\n",
       "<tr><td>7</td><td>Literal</td><td></td><td><a class=\"ProveItLink\" href=\"../a1840c5aa3e17b4f28e5e0844d37e58325ff6fdb0/expr.ipynb\"><img src=\"data:image/png;base64,iVBORw0KGgoAAAANSUhEUgAAAAoAAAASBAMAAACQmVJ4AAAAMFBMVEX///+qqqru7u66uroQEBDM\n",
       "zMxmZmZUVFTc3NwiIiJERESIiIh2dnaYmJgyMjIAAADzocuEAAAAAXRSTlMAQObYZgAAAGdJREFU\n",
       "CNdjYGBg4ANi3tOngORZhp0MDBwTGJZvYOBJYJjqwMC3gTnpBwPLBTaDzwz8ApwMH4FkF5jcCyIv\n",
       "PAKSLJcmMH1l4Dp4gPUTA/fyAN4HDEyeDFwGDAw3G86AzLwbACQvATEA9S8d9agESAgAAAAASUVO\n",
       "RK5CYII=\n",
       "\" style=\"display:inline;vertical-align:middle;\" /></a></td></tr>\n",
       "</table>\n"
      ],
      "text/plain": [
       "0. forall_{x} (x not-in emptyset)\n",
       "   core type: Operation\n",
       "   operator: 1\n",
       "   operand: 2\n",
       "1. forall\n",
       "   core type: Literal\n",
       "   sub-expressions: \n",
       "2. x -> (x not-in emptyset)\n",
       "   core type: Lambda\n",
       "   parameter: 6\n",
       "   body: 3\n",
       "3. x not-in emptyset\n",
       "   core type: Operation\n",
       "   operator: 4\n",
       "   operands: 5\n",
       "4. not-in\n",
       "   core type: Literal\n",
       "   sub-expressions: \n",
       "5. (x , emptyset)\n",
       "   core type: ExprTuple\n",
       "   sub-expressions: 6, 7\n",
       "6. x\n",
       "   core type: Variable\n",
       "   sub-expressions: \n",
       "7. emptyset\n",
       "   core type: Literal\n",
       "   sub-expressions: "
      ]
     },
     "execution_count": 3,
     "metadata": {},
     "output_type": "execute_result"
    }
   ],
   "source": [
    "# display the expression information\n",
    "allNotInEmpty.exprInfo()"
   ]
  },
  {
   "cell_type": "code",
   "execution_count": null,
   "metadata": {},
   "outputs": [],
   "source": []
  }
 ],
 "metadata": {
  "kernelspec": {
   "display_name": "Python 3",
   "language": "python",
   "name": "python3"
  }
 },
 "nbformat": 4,
 "nbformat_minor": 0
}
