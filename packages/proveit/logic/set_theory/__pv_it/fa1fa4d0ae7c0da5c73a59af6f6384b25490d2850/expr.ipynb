{
 "cells": [
  {
   "cell_type": "markdown",
   "metadata": {},
   "source": [
    "Expression of type <a class=\"ProveItLink\" href=\"../../../../../../doc/html/api/proveit.ExprTuple.html\">ExprTuple</a>\n",
    "=======================\n",
    "# from context <a class=\"ProveItLink\" href=\"../../_context_.ipynb\">proveit.logic.set_theory</a>"
   ]
  },
  {
   "cell_type": "code",
   "execution_count": 1,
   "metadata": {},
   "outputs": [],
   "source": [
    "# import Expression classes needed to build the expression\n",
    "from proveit import ExprTuple, Indexed\n",
    "from proveit._common_ import S, i, xx"
   ]
  },
  {
   "cell_type": "code",
   "execution_count": 2,
   "metadata": {},
   "outputs": [
    {
     "data": {
      "text/html": [
       "<strong id=\"expr\">expr:</strong> <a class=\"ProveItLink\" href=\"expr.ipynb\"><img src=\"data:image/png;base64,iVBORw0KGgoAAAANSUhEUgAAADgAAAAVBAMAAADhmjDFAAAAMFBMVEX////c3NwiIiJERESqqqqY\n",
       "mJh2dnZmZmYQEBDu7u4yMjJUVFTMzMyIiIi6uroAAAAs73DqAAAAAXRSTlMAQObYZgAAAT9JREFU\n",
       "KM9jYMAL+C5gF2d9ACROY5GILq+MY6gBMlZiynEFMEz+wMDFwMCLxdRtDAwsCxhYExg4JmDIMf5h\n",
       "YOC5wMDZwPAKyJu+aM0rbSQnfgFKHmBgMGEoY2DgVGHo17yPMJ7x/x0wnc6wlIGBO4Dh/4X/AQxs\n",
       "BVDZ+/8/CwApL4Y+BgY2oFqBWKBxAjCt0f2dQOoFwz+wh3+guYntK5A4D5Hk/o0sEwB0BkSyBein\n",
       "BI6/DLwCfJchcpxAqxk/go01ZWCY/0/+H4MEw1x+AQaQp4H+Z2DfAGREAd3LIG+w4x/jOgZJJwbO\n",
       "T0Axdl0GhssQrzwChqBS5o5VwDiwZeDsBzqYm2/35gCQ5DoGDpj7GTh/HkD4BsRvAAUvFLAsSGBg\n",
       "RfbOBaQoY7QVQJGcBcTSyF5Ejr+NIA04kgnvAQYAuGxODbXzORUAAAAASUVORK5CYII=\n",
       "\" style=\"display:inline;vertical-align:middle;\" /></a><br>"
      ],
      "text/plain": [
       "expr: (x_i , S)"
      ]
     },
     "execution_count": 2,
     "metadata": {},
     "output_type": "execute_result"
    }
   ],
   "source": [
    "# build up the expression from sub-expressions\n",
    "expr = ExprTuple(Indexed(xx, i, base = 1), S)"
   ]
  },
  {
   "cell_type": "code",
   "execution_count": 3,
   "metadata": {},
   "outputs": [
    {
     "name": "stdout",
     "output_type": "stream",
     "text": [
      "Passed sanity check: built 'expr' is the same as the stored Expression.\n"
     ]
    }
   ],
   "source": [
    "# check that the built expression is the same as the stored expression\n",
    "%check_expr"
   ]
  },
  {
   "cell_type": "code",
   "execution_count": 4,
   "metadata": {},
   "outputs": [
    {
     "data": {
      "text/html": [
       "<table><tr><th>&nbsp;</th><th>core type</th><th>sub-expressions</th><th>expression</th></tr>\n",
       "<tr><td>0</td><td>ExprTuple</td><td>1, 2</td><td><a class=\"ProveItLink\" href=\"expr.ipynb\"><img src=\"data:image/png;base64,iVBORw0KGgoAAAANSUhEUgAAADgAAAAVBAMAAADhmjDFAAAAMFBMVEX////c3NwiIiJERESqqqqY\n",
       "mJh2dnZmZmYQEBDu7u4yMjJUVFTMzMyIiIi6uroAAAAs73DqAAAAAXRSTlMAQObYZgAAAT9JREFU\n",
       "KM9jYMAL+C5gF2d9ACROY5GILq+MY6gBMlZiynEFMEz+wMDFwMCLxdRtDAwsCxhYExg4JmDIMf5h\n",
       "YOC5wMDZwPAKyJu+aM0rbSQnfgFKHmBgMGEoY2DgVGHo17yPMJ7x/x0wnc6wlIGBO4Dh/4X/AQxs\n",
       "BVDZ+/8/CwApL4Y+BgY2oFqBWKBxAjCt0f2dQOoFwz+wh3+guYntK5A4D5Hk/o0sEwB0BkSyBein\n",
       "BI6/DLwCfJchcpxAqxk/go01ZWCY/0/+H4MEw1x+AQaQp4H+Z2DfAGREAd3LIG+w4x/jOgZJJwbO\n",
       "T0Axdl0GhssQrzwChqBS5o5VwDiwZeDsBzqYm2/35gCQ5DoGDpj7GTh/HkD4BsRvAAUvFLAsSGBg\n",
       "RfbOBaQoY7QVQJGcBcTSyF5Ejr+NIA04kgnvAQYAuGxODbXzORUAAAAASUVORK5CYII=\n",
       "\" style=\"display:inline;vertical-align:middle;\" /></a></td></tr>\n",
       "<tr><td>1</td><td>Indexed</td><td>var:&nbsp;3<br>index:&nbsp;4<br>base:&nbsp;\"1\"<br></td><td><a class=\"ProveItLink\" href=\"../b4c2c6abab8882e1d286b639ee2a6cecfd02a3e30/expr.ipynb\"><img src=\"data:image/png;base64,iVBORw0KGgoAAAANSUhEUgAAABQAAAANBAMAAABbflNtAAAAMFBMVEX///9ERETc3Nx2dnaYmJiI\n",
       "iIgQEBCqqqpUVFS6urrMzMwiIiIyMjJmZmbu7u4AAAAYebpBAAAAAXRSTlMAQObYZgAAAHVJREFU\n",
       "CNdjYHh7+tScHQwgwLedIX9ffACIyeHA8D/gvwMD8wUGZgam/wquDAycCkBxlm8MMMDxA8pgN2D7\n",
       "ysCqwBnIwPD+p/5PBjWGp/wKDPoCbT+ZTjLoVTMwsO62azszgYFBFK6X798CGJP9gAGMySSqAAAu\n",
       "SxypYTcWbQAAAABJRU5ErkJggg==\n",
       "\" style=\"display:inline;vertical-align:middle;\" /></a></td></tr>\n",
       "<tr><td>2</td><td>Variable</td><td></td><td><a class=\"ProveItLink\" href=\"../../../../__pv_it/abeee18594afe51bfb1be95d9591fbba24ac53f30/expr.ipynb\"><img src=\"data:image/png;base64,iVBORw0KGgoAAAANSUhEUgAAAA0AAAAOBAMAAAAGUYvhAAAAMFBMVEX///8iIiIQEBCIiIjMzMzc\n",
       "3Nyqqqp2dnZEREQyMjK6urru7u5mZmZUVFSYmJgAAACI6eGPAAAAAXRSTlMAQObYZgAAAF1JREFU\n",
       "CNdjYGDgu3Nm3wIGBoZ5DNz9QIq3gIEhE0jHOzAwOAPp9QkMDC4g/megABAw///fCmbEXfq0Acxg\n",
       "qH8ANAVI7wfSe0BKAyBGnAXigwYMzA1A+sLau31ACgAz0hhbkhGHbwAAAABJRU5ErkJggg==\n",
       "\" style=\"display:inline;vertical-align:middle;\" /></a></td></tr>\n",
       "<tr><td>3</td><td>Variable</td><td></td><td><a class=\"ProveItLink\" href=\"../../../../__pv_it/7a540faade4b95df4e25b93ec64921746d67c7a50/expr.ipynb\"><img src=\"data:image/png;base64,iVBORw0KGgoAAAANSUhEUgAAAA0AAAAKBAMAAACdwMn3AAAAMFBMVEX///9ERETc3Nx2dnaYmJiI\n",
       "iIgQEBCqqqpUVFS6urrMzMwiIiIyMjJmZmbu7u4AAAAYebpBAAAAAXRSTlMAQObYZgAAAFNJREFU\n",
       "CNdjYHh7+tScHQwMfNsZ8vfFBzBwODD8D/jvwMDMwPRfwZUBCFi+MYABxw8QyW7A9pWBVYHh/U/9\n",
       "nwxqDAz6Am0/mU4yMLDutms7M4EBAKnKFqcheKyGAAAAAElFTkSuQmCC\n",
       "\" style=\"display:inline;vertical-align:middle;\" /></a></td></tr>\n",
       "<tr><td>4</td><td>Variable</td><td></td><td><a class=\"ProveItLink\" href=\"../../../../__pv_it/4cc43b4ba7e5ae9f0f864f240ab9735c1604d8200/expr.ipynb\"><img src=\"data:image/png;base64,iVBORw0KGgoAAAANSUhEUgAAAAcAAAAOBAMAAAARcxsoAAAAMFBMVEX///+YmJjc3NxUVFQQEBAi\n",
       "IiKqqqrMzMy6urpmZmZ2dnbu7u6IiIgyMjJEREQAAADwIkbYAAAAAXRSTlMAQObYZgAAADtJREFU\n",
       "CNdjYGB4ywAEbxjQAffKBQwMXBwfGBjKOAMYGDawHAAK5m8AEpe5GRiYfnAxMLB9UARpPcAAAFud\n",
       "DDeiFOVzAAAAAElFTkSuQmCC\n",
       "\" style=\"display:inline;vertical-align:middle;\" /></a></td></tr>\n",
       "</table>\n"
      ],
      "text/plain": [
       "0. (x_i , S)\n",
       "   core type: ExprTuple\n",
       "   sub-expressions: 1, 2\n",
       "1. x_i\n",
       "   core type: Indexed\n",
       "   var: 3\n",
       "   index: 4\n",
       "   base: \"1\"\n",
       "2. S\n",
       "   core type: Variable\n",
       "   sub-expressions: \n",
       "3. x\n",
       "   core type: Variable\n",
       "   sub-expressions: \n",
       "4. i\n",
       "   core type: Variable\n",
       "   sub-expressions: "
      ]
     },
     "execution_count": 4,
     "metadata": {},
     "output_type": "execute_result"
    }
   ],
   "source": [
    "# display the expression information\n",
    "expr.exprInfo()"
   ]
  },
  {
   "cell_type": "code",
   "execution_count": null,
   "metadata": {},
   "outputs": [],
   "source": []
  }
 ],
 "metadata": {
  "kernelspec": {
   "display_name": "Python 3",
   "language": "python",
   "name": "python3"
  }
 },
 "nbformat": 4,
 "nbformat_minor": 0
}
