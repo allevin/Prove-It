{
 "cells": [
  {
   "cell_type": "markdown",
   "metadata": {},
   "source": [
    "Expression of type <a class=\"ProveItLink\" href=\"../../../../../../doc/html/api/proveit.Lambda.html\">Lambda</a>\n",
    "=======================\n",
    "# from context <a class=\"ProveItLink\" href=\"../../_context_.ipynb\">proveit.logic.set_theory</a>"
   ]
  },
  {
   "cell_type": "code",
   "execution_count": 1,
   "metadata": {},
   "outputs": [],
   "source": [
    "# import Expression classes needed to build the expression\n",
    "from proveit import Lambda\n",
    "from proveit._common_ import x\n",
    "from proveit.logic import EmptySet, NotInSet"
   ]
  },
  {
   "cell_type": "code",
   "execution_count": 2,
   "metadata": {},
   "outputs": [
    {
     "data": {
      "text/html": [
       "<strong id=\"expr\">expr:</strong> <a class=\"ProveItLink\" href=\"expr.ipynb\"><img src=\"data:image/png;base64,iVBORw0KGgoAAAANSUhEUgAAAGkAAAAVCAMAAAByvDCyAAAARVBMVEX///9bW1sJCQkdHR0PDw8W\n",
       "Fha6uroUFBQNDQ0yMjJERETMzMwQEBAiIiKYmJju7u5mZmaqqqpUVFSIiIh2dnbc3NwAAACGKdHX\n",
       "AAAAAXRSTlMAQObYZgAAAadJREFUSMetVeuahCAIdW/tqAkp4vs/6mJWo92+qZ1+TDp0OHAEVOrN\n",
       "T4ftXv/DFZ2aXcUEkaLJ7+4OkQ0vmyMoRS6vBnuDSeOpeXiGz5nEBLqpIZ1rp1yV0pD3ti86Xmbq\n",
       "j1NC0u7n2y3hawmqGzBxtvWXy+FYBqsBleEqKBjFTKOexmc9IwX2NNBuXXrfHMOkwhoj/xjJFmts\n",
       "8qOYyc9SooDBgerdVur8hFovDUWoNUaVbJpTFAo2M5OXGHKUlGRt95kw1IqU0tpgFJpNYQoFwczU\n",
       "yUFlYzDVF49f1zx9elbutNxgxJN8+fUpP4uACUbmwmTTFCrtF2qRr+rwirTBlI6NzZn2gOIKk62Y\n",
       "eNzhPtPANXrx1WJUdrpCmuhjpsBZPeBRckX7TLYJ3ZSK2GAkc5DmaZvcBAkGipry8iKnEUJePLZT\n",
       "oO3Use93MDmpLrTTDcfKNN0MREMRYyR4rXNdKbQdDOvHao6CYxWnBtSXx3nPhyb4CLquPZnlAHbO\n",
       "7/LcOxmVZh0EPJWP9MZbg80xCO/cvHx0E56ddOA7ly4fCHGSEuXT+gOt+xcjKn72vQAAAABJRU5E\n",
       "rkJggg==\n",
       "\" style=\"display:inline;vertical-align:middle;\" /></a><br>"
      ],
      "text/plain": [
       "expr: x -> (x not-in emptyset)"
      ]
     },
     "execution_count": 2,
     "metadata": {},
     "output_type": "execute_result"
    }
   ],
   "source": [
    "# build up the expression from sub-expressions\n",
    "expr = Lambda(x, NotInSet(x, EmptySet))"
   ]
  },
  {
   "cell_type": "code",
   "execution_count": 3,
   "metadata": {},
   "outputs": [
    {
     "name": "stdout",
     "output_type": "stream",
     "text": [
      "Passed sanity check: built 'expr' is the same as the stored Expression.\n"
     ]
    }
   ],
   "source": [
    "# check that the built expression is the same as the stored expression\n",
    "%check_expr"
   ]
  },
  {
   "cell_type": "code",
   "execution_count": 4,
   "metadata": {},
   "outputs": [
    {
     "data": {
      "text/html": [
       "<table><tr><th>&nbsp;</th><th>core type</th><th>sub-expressions</th><th>expression</th></tr>\n",
       "<tr><td>0</td><td>Lambda</td><td>parameter:&nbsp;4<br>body:&nbsp;1<br></td><td><a class=\"ProveItLink\" href=\"expr.ipynb\"><img src=\"data:image/png;base64,iVBORw0KGgoAAAANSUhEUgAAAGkAAAAVCAMAAAByvDCyAAAARVBMVEX///9bW1sJCQkdHR0PDw8W\n",
       "Fha6uroUFBQNDQ0yMjJERETMzMwQEBAiIiKYmJju7u5mZmaqqqpUVFSIiIh2dnbc3NwAAACGKdHX\n",
       "AAAAAXRSTlMAQObYZgAAAadJREFUSMetVeuahCAIdW/tqAkp4vs/6mJWo92+qZ1+TDp0OHAEVOrN\n",
       "T4ftXv/DFZ2aXcUEkaLJ7+4OkQ0vmyMoRS6vBnuDSeOpeXiGz5nEBLqpIZ1rp1yV0pD3ti86Xmbq\n",
       "j1NC0u7n2y3hawmqGzBxtvWXy+FYBqsBleEqKBjFTKOexmc9IwX2NNBuXXrfHMOkwhoj/xjJFmts\n",
       "8qOYyc9SooDBgerdVur8hFovDUWoNUaVbJpTFAo2M5OXGHKUlGRt95kw1IqU0tpgFJpNYQoFwczU\n",
       "yUFlYzDVF49f1zx9elbutNxgxJN8+fUpP4uACUbmwmTTFCrtF2qRr+rwirTBlI6NzZn2gOIKk62Y\n",
       "eNzhPtPANXrx1WJUdrpCmuhjpsBZPeBRckX7TLYJ3ZSK2GAkc5DmaZvcBAkGipry8iKnEUJePLZT\n",
       "oO3Use93MDmpLrTTDcfKNN0MREMRYyR4rXNdKbQdDOvHao6CYxWnBtSXx3nPhyb4CLquPZnlAHbO\n",
       "7/LcOxmVZh0EPJWP9MZbg80xCO/cvHx0E56ddOA7ly4fCHGSEuXT+gOt+xcjKn72vQAAAABJRU5E\n",
       "rkJggg==\n",
       "\" style=\"display:inline;vertical-align:middle;\" /></a></td></tr>\n",
       "<tr><td>1</td><td>Operation</td><td>operator:&nbsp;2<br>operands:&nbsp;3<br></td><td><a class=\"ProveItLink\" href=\"../d245c0baa6a4ff6ae0e31f0405242332792093880/expr.ipynb\"><img src=\"data:image/png;base64,iVBORw0KGgoAAAANSUhEUgAAAC8AAAAVCAMAAADhGEdVAAAAQlBMVEX///9bW1sNDQ0JCQkdHR0P\n",
       "Dw8WFhYyMjK6urpERETMzMwQEBAiIiKYmJju7u5mZmaqqqpUVFSIiIh2dnbc3NwAAADXC9tbAAAA\n",
       "AXRSTlMAQObYZgAAAQhJREFUKM+Fk+u2hCAIhTlXLwkp4Pu/6kHnrNKZpcOP0tzRx4YANuFp3jvY\n",
       "Rxr0KCxhL4/lXgsCcNrrT38ttUlD4T3OkP5s+3ispMQu/f6kq0Bnmf1JVRfkDgnCcHhgx6uNUIWL\n",
       "Zj5vOA1mDI3u1dzx2o3EzEoIx43bMzPPeg0PvbSzCpDjBd99djTrGf/z27ZMnfBHSun7yy4XUsX+\n",
       "ftP3cvilT5LHRweS4VJ9MGi/X99vRzD3Mkg27lhNg9rxgW/egmb2pOdQLCUaXza0YH3TAYmSL3Hu\n",
       "X3cv+GYGC4m06u9Q9znrzXEFkeXo4Edxoz82n4hxPWrheVCQdpOpb/6M55ireR/r9H/cAAxfF4/j\n",
       "4wAAAABJRU5ErkJggg==\n",
       "\" style=\"display:inline;vertical-align:middle;\" /></a></td></tr>\n",
       "<tr><td>2</td><td>Literal</td><td></td><td><a class=\"ProveItLink\" href=\"../../membership/__pv_it/cc61ce5cf0825a46fd70733410654132b7dd0e550/expr.ipynb\"><img src=\"data:image/png;base64,iVBORw0KGgoAAAANSUhEUgAAAAwAAAAVCAMAAABFcv+GAAAAQlBMVEX///9bW1sNDQ0JCQkdHR0Q\n",
       "EBAPDw8WFhaYmJiIiIgyMjLc3NxERER2dnaqqqpmZmZUVFTMzMwiIiLu7u66uroAAACAfls5AAAA\n",
       "AXRSTlMAQObYZgAAAGtJREFUGNNNTkkSwCAIo7sirQr8/621LhUOYQIhAWCUCsxiQ3Iyi6hW1bt4\n",
       "5OtkrGp0AhTqPFCxEWyiOvO+HdCH2EL0YOZ9K4A97H66L5sQSA40DiKsKf+PBFwnAbckbG4jdsjI\n",
       "PO+dIXPxAnRTBHGTKJqmAAAAAElFTkSuQmCC\n",
       "\" style=\"display:inline;vertical-align:middle;\" /></a></td></tr>\n",
       "<tr><td>3</td><td>ExprTuple</td><td>4, 5</td><td><a class=\"ProveItLink\" href=\"../c9aaa9ccba32760416acd3083f27b9359bb314950/expr.ipynb\"><img src=\"data:image/png;base64,iVBORw0KGgoAAAANSUhEUgAAACsAAAAVBAMAAAAtAwouAAAAMFBMVEX////c3NwiIiJERESqqqqY\n",
       "mJh2dnZmZmYQEBDu7u4yMjJUVFTMzMyIiIi6uroAAAAs73DqAAAAAXRSTlMAQObYZgAAASNJREFU\n",
       "GNNjYEAHCyAU3wVkwbBrBgxxIMZpZFG2AF4FBvYDQNZKZGEhBua9YHN4UcxIZ2A6ATSJgYFjArLw\n",
       "Wobn8wUYZjAwvEJxRitDHf8DBmYHhjIgR+y2yHWIWV8YFPgdGNgKGJYyMHAmsKpyKECEGQ2AwiwL\n",
       "GPqArmLg/cByACLMGwAU5mtg+AdUzcBtADX7K9cEoDDPB5Aw0DkwV7ZOYph/ACTcAuLJH2CAuNPM\n",
       "jeH8BJAhpgwMrAL3GXgngCUu72GIAgosAPqLwT/AgkGWgfMTUHiGAoMdA8iBjxgYJl+blhvAwNkv\n",
       "AFSnyJbAwMD1gIFDAOZDPiCLLTQGpAconwATZgVhsM25yAHLCmNwgiJIGsaDhzA3yFzGC+ixeYeB\n",
       "AQDitkBya0DZpwAAAABJRU5ErkJggg==\n",
       "\" style=\"display:inline;vertical-align:middle;\" /></a></td></tr>\n",
       "<tr><td>4</td><td>Variable</td><td></td><td><a class=\"ProveItLink\" href=\"../../../../__pv_it/530be409e3083890784cf1d7b28c9e67e90af9360/expr.ipynb\"><img src=\"data:image/png;base64,iVBORw0KGgoAAAANSUhEUgAAAAsAAAAJBAMAAAAWSsseAAAAKlBMVEX///9ERETMzMwQEBAiIiKY\n",
       "mJju7u5mZmaqqqpUVFSIiIh2dnbc3NwAAAA/vyDhAAAAAXRSTlMAQObYZgAAAENJREFUCNdjYDi9\n",
       "8sTyBQxsG1hdmR0YuBm4LnAoMLAxcAowgADzAjB1VoEhgYH1wFoGrgSG3gBhhlMMDImrs3cFMAAA\n",
       "t0YN+iTRa+sAAAAASUVORK5CYII=\n",
       "\" style=\"display:inline;vertical-align:middle;\" /></a></td></tr>\n",
       "<tr><td>5</td><td>Literal</td><td></td><td><a class=\"ProveItLink\" href=\"../a1840c5aa3e17b4f28e5e0844d37e58325ff6fdb0/expr.ipynb\"><img src=\"data:image/png;base64,iVBORw0KGgoAAAANSUhEUgAAAAoAAAASBAMAAACQmVJ4AAAAMFBMVEX///+qqqru7u66uroQEBDM\n",
       "zMxmZmZUVFTc3NwiIiJERESIiIh2dnaYmJgyMjIAAADzocuEAAAAAXRSTlMAQObYZgAAAGdJREFU\n",
       "CNdjYGBg4ANi3tOngORZhp0MDBwTGJZvYOBJYJjqwMC3gTnpBwPLBTaDzwz8ApwMH4FkF5jcCyIv\n",
       "PAKSLJcmMH1l4Dp4gPUTA/fyAN4HDEyeDFwGDAw3G86AzLwbACQvATEA9S8d9agESAgAAAAASUVO\n",
       "RK5CYII=\n",
       "\" style=\"display:inline;vertical-align:middle;\" /></a></td></tr>\n",
       "</table>\n"
      ],
      "text/plain": [
       "0. x -> (x not-in emptyset)\n",
       "   core type: Lambda\n",
       "   parameter: 4\n",
       "   body: 1\n",
       "1. x not-in emptyset\n",
       "   core type: Operation\n",
       "   operator: 2\n",
       "   operands: 3\n",
       "2. not-in\n",
       "   core type: Literal\n",
       "   sub-expressions: \n",
       "3. (x , emptyset)\n",
       "   core type: ExprTuple\n",
       "   sub-expressions: 4, 5\n",
       "4. x\n",
       "   core type: Variable\n",
       "   sub-expressions: \n",
       "5. emptyset\n",
       "   core type: Literal\n",
       "   sub-expressions: "
      ]
     },
     "execution_count": 4,
     "metadata": {},
     "output_type": "execute_result"
    }
   ],
   "source": [
    "# display the expression information\n",
    "expr.exprInfo()"
   ]
  },
  {
   "cell_type": "code",
   "execution_count": null,
   "metadata": {},
   "outputs": [],
   "source": []
  }
 ],
 "metadata": {
  "kernelspec": {
   "display_name": "Python 3",
   "language": "python",
   "name": "python3"
  }
 },
 "nbformat": 4,
 "nbformat_minor": 0
}
