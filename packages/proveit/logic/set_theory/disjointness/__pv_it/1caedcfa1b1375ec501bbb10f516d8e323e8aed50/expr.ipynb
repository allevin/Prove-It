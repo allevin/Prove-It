{
 "cells": [
  {
   "cell_type": "markdown",
   "metadata": {},
   "source": [
    "Expression of type <a class=\"ProveItLink\" href=\"../../../../../../../doc/html/api/proveit.ExprTuple.html\">ExprTuple</a>\n",
    "=======================\n",
    "# from context <a class=\"ProveItLink\" href=\"../../_context_.ipynb\">proveit.logic.set_theory.disjointness</a>"
   ]
  },
  {
   "cell_type": "code",
   "execution_count": 1,
   "metadata": {},
   "outputs": [],
   "source": [
    "# import Expression classes needed to build the expression\n",
    "from proveit import ExprTuple\n",
    "from proveit._common_ import A, B\n",
    "from proveit.logic import Disjoint, EmptySet, Equals, Intersect"
   ]
  },
  {
   "cell_type": "code",
   "execution_count": 2,
   "metadata": {},
   "outputs": [
    {
     "data": {
      "text/html": [
       "<strong id=\"expr\">expr:</strong> <a class=\"ProveItLink\" href=\"expr.ipynb\"><img src=\"data:image/png;base64,iVBORw0KGgoAAAANSUhEUgAAAQcAAAAVBAMAAAC57DawAAAAMFBMVEX////c3NwiIiJERESqqqqY\n",
       "mJh2dnZmZmYQEBDu7u4yMjJUVFTMzMyIiIi6uroAAAAs73DqAAAAAXRSTlMAQObYZgAAA5xJREFU\n",
       "SMfFlk1oE0EUx982n5tmkyiChyJGe1G8VEQpFmygoF7EoOjBr0YP9lQIRUQEpUVF9FAXPdiDkEAp\n",
       "0koxoh40La14KURtoNhTU2MP2grSWlOrTZv45muzk2yoNx/s7M5/f/vy35l5swH4vxFnJ18am0dz\n",
       "6+LfreVz6yMWJI+Tkw1MTpGmJQfeX+zGlQA9ia4Ib4KdgkI4XUwm92fBNVodqUrycIa1IJP7SVfN\n",
       "gW+Z3WlmrOgCZGnr0dlpwUhxA8BVMAbUAtlQleSxEWzDVNbS3ASwFKByQhdolLYZ1jn2x3jvNTzy\n",
       "OKRGThmxDzyvH61C8miDmjEqu3Vhoko4mIk7tFUO/RC6hlcOnLMeg5SRpA7ewSokj0H4GgsQ+Rtw\n",
       "E8o7luMDWxO8CzBLTfjYWGpaQWSwdQLU4O/aQlyQEerdM2pJirgF1/1ZIl/GzsP26RzU5cH38Wzc\n",
       "MRKCzZlLpPv29vuJtGNk1wtEXBH62Jx9SWTwJ0DpxWF0RrkgI3SB2COWpIgcBP0hIvfhS3eDhtPR\n",
       "BA8AguAPeXdCbQS70BtWC1BDH/WE6YBlyfyyGB/OdBDRLtabjNSU6kUmrw6QeEJNKA1oAuVufLoB\n",
       "FGpiRocImnBHQFklJhoB1rgJN60RHyhG0XwKgLqLaJ1ckBGTiQrSGAktjCZQxgncmuYm3PkpHLzQ\n",
       "PM7dMjGxp2TCT38hlUz+FBkaSXp8Qa+oSBkxmaggRSx5dDSBMpqYD3MT6oViAk20YrYVSxPY3BUZ\n",
       "sOagNVJhQiAmExWksTDvQ2yUyDdNI/EGHDk0cTREHiyZ0MhYk5Vtx2OH2CbI8sNFbJoOCSmZKCM7\n",
       "tpOoJ5f7DsK4TuS9yCe4iSMA19ia8BZMJpykzMjK2oTHU76dkeJXVkgtxvnOZkbMJmTSHBNDcIrK\n",
       "bYiugouaOKzDbjTh6wJb1DDhihMTpLxUkqRZh1iQF/9Yv7izWIaYTUikFD1BOEDlGezUtU8vRlPF\n",
       "V18yk1k0AamLLwG7qeJQy++o2nSerOwgKI0rAThefAw9+Gqu5nzydR+tTFwF6r2AjJhMyKS8GW9z\n",
       "RqjsDpTd8Ycsd+8u0/Vn6XVoYQbKENDophGuIKWv6IkzTHZEJN2XjmUtTZi/PlLqdvpO5YhVtFd8\n",
       "lnQh90u6Z2HWOoNHtzZBVwEzYUYsQo1Xl+vkkRh+Zp1CScgjLaKWTme6DLGK2kB1WUn/27/BLdby\n",
       "1PqIBSnLfwHIbEdHTx67wgAAAABJRU5ErkJggg==\n",
       "\" style=\"display:inline;vertical-align:middle;\" /></a><br>"
      ],
      "text/plain": [
       "expr: (disjoint(A , B) , (A intersect B) = emptyset)"
      ]
     },
     "execution_count": 2,
     "metadata": {},
     "output_type": "execute_result"
    }
   ],
   "source": [
    "# build up the expression from sub-expressions\n",
    "expr = ExprTuple(Disjoint(A, B), Equals(Intersect(A, B), EmptySet))"
   ]
  },
  {
   "cell_type": "code",
   "execution_count": 3,
   "metadata": {},
   "outputs": [
    {
     "name": "stdout",
     "output_type": "stream",
     "text": [
      "Passed sanity check: built 'expr' is the same as the stored Expression.\n"
     ]
    }
   ],
   "source": [
    "# check that the built expression is the same as the stored expression\n",
    "%check_expr"
   ]
  },
  {
   "cell_type": "code",
   "execution_count": 4,
   "metadata": {},
   "outputs": [
    {
     "data": {
      "text/html": [
       "<table><tr><th>&nbsp;</th><th>core type</th><th>sub-expressions</th><th>expression</th></tr>\n",
       "<tr><td>0</td><td>ExprTuple</td><td>1, 2</td><td><a class=\"ProveItLink\" href=\"expr.ipynb\"><img src=\"data:image/png;base64,iVBORw0KGgoAAAANSUhEUgAAAQcAAAAVBAMAAAC57DawAAAAMFBMVEX////c3NwiIiJERESqqqqY\n",
       "mJh2dnZmZmYQEBDu7u4yMjJUVFTMzMyIiIi6uroAAAAs73DqAAAAAXRSTlMAQObYZgAAA5xJREFU\n",
       "SMfFlk1oE0EUx982n5tmkyiChyJGe1G8VEQpFmygoF7EoOjBr0YP9lQIRUQEpUVF9FAXPdiDkEAp\n",
       "0koxoh40La14KURtoNhTU2MP2grSWlOrTZv45muzk2yoNx/s7M5/f/vy35l5swH4vxFnJ18am0dz\n",
       "6+LfreVz6yMWJI+Tkw1MTpGmJQfeX+zGlQA9ia4Ib4KdgkI4XUwm92fBNVodqUrycIa1IJP7SVfN\n",
       "gW+Z3WlmrOgCZGnr0dlpwUhxA8BVMAbUAtlQleSxEWzDVNbS3ASwFKByQhdolLYZ1jn2x3jvNTzy\n",
       "OKRGThmxDzyvH61C8miDmjEqu3Vhoko4mIk7tFUO/RC6hlcOnLMeg5SRpA7ewSokj0H4GgsQ+Rtw\n",
       "E8o7luMDWxO8CzBLTfjYWGpaQWSwdQLU4O/aQlyQEerdM2pJirgF1/1ZIl/GzsP26RzU5cH38Wzc\n",
       "MRKCzZlLpPv29vuJtGNk1wtEXBH62Jx9SWTwJ0DpxWF0RrkgI3SB2COWpIgcBP0hIvfhS3eDhtPR\n",
       "BA8AguAPeXdCbQS70BtWC1BDH/WE6YBlyfyyGB/OdBDRLtabjNSU6kUmrw6QeEJNKA1oAuVufLoB\n",
       "FGpiRocImnBHQFklJhoB1rgJN60RHyhG0XwKgLqLaJ1ckBGTiQrSGAktjCZQxgncmuYm3PkpHLzQ\n",
       "PM7dMjGxp2TCT38hlUz+FBkaSXp8Qa+oSBkxmaggRSx5dDSBMpqYD3MT6oViAk20YrYVSxPY3BUZ\n",
       "sOagNVJhQiAmExWksTDvQ2yUyDdNI/EGHDk0cTREHiyZ0MhYk5Vtx2OH2CbI8sNFbJoOCSmZKCM7\n",
       "tpOoJ5f7DsK4TuS9yCe4iSMA19ia8BZMJpykzMjK2oTHU76dkeJXVkgtxvnOZkbMJmTSHBNDcIrK\n",
       "bYiugouaOKzDbjTh6wJb1DDhihMTpLxUkqRZh1iQF/9Yv7izWIaYTUikFD1BOEDlGezUtU8vRlPF\n",
       "V18yk1k0AamLLwG7qeJQy++o2nSerOwgKI0rAThefAw9+Gqu5nzydR+tTFwF6r2AjJhMyKS8GW9z\n",
       "RqjsDpTd8Ycsd+8u0/Vn6XVoYQbKENDophGuIKWv6IkzTHZEJN2XjmUtTZi/PlLqdvpO5YhVtFd8\n",
       "lnQh90u6Z2HWOoNHtzZBVwEzYUYsQo1Xl+vkkRh+Zp1CScgjLaKWTme6DLGK2kB1WUn/27/BLdby\n",
       "1PqIBSnLfwHIbEdHTx67wgAAAABJRU5ErkJggg==\n",
       "\" style=\"display:inline;vertical-align:middle;\" /></a></td></tr>\n",
       "<tr><td>1</td><td>Operation</td><td>operator:&nbsp;3<br>operands:&nbsp;9<br></td><td><a class=\"ProveItLink\" href=\"../262c8f0b3faed1296846e8324aea3432641430d70/expr.ipynb\"><img src=\"data:image/png;base64,iVBORw0KGgoAAAANSUhEUgAAAH4AAAAVBAMAAAByPkciAAAAMFBMVEX///9UVFQiIiKYmJgyMjIQ\n",
       "EBDc3NyIiIh2dnZmZmZERESqqqq6urrMzMzu7u4AAAAx+6HGAAAAAXRSTlMAQObYZgAAAldJREFU\n",
       "OMullE1oE1EQx//NZnfTsrtNECooGkW8ag5Cjw0oHqTUHkQQC03Ai3pIwENUWrp4aPW2F1EUaYro\n",
       "QcHmoAi9NBQLnmzjQUGULtKLotitVRs2Nc772GRbtij4IHkz8+a3M2/mvQf8//j66m8eRjHSrFT5\n",
       "NOPDXBeWmzk+BWowamJ63QLTXmpXP3CPa5YPoy4WphdFvHrgKSIMCOVk64NqGZisIh7wcIXdkutu\n",
       "4OiwP12krxxumZfIspSEYgf8NkPhvCq4i5O5wD5GUp8Na1Dy2gdu1t4LD6kC85x/IZTiWDXgH9Dv\n",
       "IH31MfBpYsRH3oNxqTerpCs4X7rL1Hdn3l4tKun9u8nztiiKO5sJeA8494TmG9CGoFP+U/gM7EN3\n",
       "xTyEDptUnMhYDcR4/KOc+cJ3Lfrjla4cYMJTxMvQOD/nwiZetaFtMJ5S/CX5IdmKgiN5/SfwMcn2\n",
       "h0JR8qo3CuIXKkCd8Y/afIPHTKXSZcl3Ud3076wPWMhI3rrWTBLfRzVai+IN6kNW8t0UW1nnfCv+\n",
       "Gyg+8bMVVp02r5PXWcaQPTYYtJ8K2eHz/GNJyT8Hbon9m40QnyCv+6ylxMdX5Mli7S+wZI7A3EAn\n",
       "55+5eEi8cRpdTovvzCZ4l4Bltu3fsFZl+81TrljJT4ysOrXm3pely1XiUbu+A6TWmntmfjjW1Dh5\n",
       "zQEXho9DmV5zrGEKfaeZSh3jZ6F/y3klPmKoudBVDsny/Iau+bdq5C2wQ3J4IbH5XYivzEdfo4Ft\n",
       "+OUtz8zOnmg+3xY3Rez5xxdOi36/9EX8Aeexv4aifGCcAAAAAElFTkSuQmCC\n",
       "\" style=\"display:inline;vertical-align:middle;\" /></a></td></tr>\n",
       "<tr><td>2</td><td>Operation</td><td>operator:&nbsp;4<br>operands:&nbsp;5<br></td><td><a class=\"ProveItLink\" href=\"../f083385f15bee0b2500cb22af6a42e6664e4485f0/expr.ipynb\"><img src=\"data:image/png;base64,iVBORw0KGgoAAAANSUhEUgAAAGsAAAAVBAMAAACzuQ2OAAAAMFBMVEX////c3NwiIiJERESqqqqY\n",
       "mJh2dnZmZmYQEBDu7u4yMjJUVFTMzMyIiIi6uroAAAAs73DqAAAAAXRSTlMAQObYZgAAAchJREFU\n",
       "OMudlD0sQ1EUx//9eFXV1z4fE4MiEpsuhIVOVl10EKGbSfJCYjDQQRcDLyYxaA2GVkoT4yPEJDG0\n",
       "iYSF9MUiMZEgoQnOvU+Tvtv2DW5yzz33nPs7975z7n3AP1qaeqBot2K21hS7DZO8NieXglM6L+sn\n",
       "R2i6EClPVA7RkDFnx3/W1orbSzHXDH4gS2uD6wyQzTNKgxob3NmTvr/4BXIU8oiJ2DycVxSUL0fH\n",
       "msIGXYM/Z7pLZJiLY0fEcnhKKXg2J8WSwfZUSfjM7UaoD2hwRQQsidWggWWuB7TJKCPY1u44N5WB\n",
       "zlHKgCpgbwgFIzjg+h7/FDiZ7s9zWX6462dBeE5WsqwdcswRJmyTYwa6VSsmvwLbpAUS4m5ylLBv\n",
       "vlLXz8NWzEXL5XeavQjYu0+rYAHKaNqKBUlKH3Ww5DZSF1hnKmXLmbBiBUpRy1vlkIu9rPUxdXgC\n",
       "BQ1DpDkI871YMVa2bjqBJF6Tm1NMs6IDu+xbPq0Ylc2/odUpwE4IY8Aj0L61D2n8S63Gln50PctL\n",
       "aYh3vMdDhfUqVSaZieaoJXjNC5iaYXDc/kkuiAbJvMQZW6o53cDRZYu1KA0cDtufwn198y8+xXTR\n",
       "am+vfQAAAABJRU5ErkJggg==\n",
       "\" style=\"display:inline;vertical-align:middle;\" /></a></td></tr>\n",
       "<tr><td>3</td><td>Literal</td><td></td><td><a class=\"ProveItLink\" href=\"../6238598bb42d9b523f7b4b77de819d4fe077232f0/expr.ipynb\"><img src=\"data:image/png;base64,iVBORw0KGgoAAAANSUhEUgAAAEIAAAATBAMAAADWqMaJAAAAMFBMVEX///9UVFQiIiKYmJgyMjIQ\n",
       "EBDc3NyIiIh2dnZmZmZERESqqqq6urrMzMzu7u4AAAAx+6HGAAAAAXRSTlMAQObYZgAAAT9JREFU\n",
       "KM+F0jFLw0AUB/C/TZu2ksSCoINo9QtIN0c7+wEEwcGOTgYcKlIhOFjHLOLgYgcdXMwiQpcGoeBk\n",
       "zaIgClkVRCOKlrTEl8tdqIrtW+79cz9ejuMA4PkKA6ruQ/2K2r0VtogoSvOhtKP29JotIgK2EHA5\n",
       "5huuEGYs/ikpFvID6+T76Bw8As1QPFYrPkoelPW5opS3sFo+COPd0u2mLuVnJiAvI01/qeEJmMaI\n",
       "pc5iyKCIhYLWQYJmJA8hM3HhwiCRMiB3Q3EEfDKxpnOR8rZAomUB7VCcCNEqcKFtBzkS83QD7z9E\n",
       "POMGkk+iQTO8HpFGIsfFObAfnUPt9IgM1C6yTJy5OCahLGLYjEW2mAFK1cqb6QRTl+UNmwSc3VFQ\n",
       "dILJ+oep1XZ+3TKJvqXoL3Z/kXxtDnhKyvjY34/fuIh4IhtYnlsAAAAASUVORK5CYII=\n",
       "\" style=\"display:inline;vertical-align:middle;\" /></a></td></tr>\n",
       "<tr><td>4</td><td>Literal</td><td></td><td><a class=\"ProveItLink\" href=\"../../../../equality/__pv_it/2fb26078095930560931daa0500ce419a39ea6cd0/expr.ipynb\"><img src=\"data:image/png;base64,iVBORw0KGgoAAAANSUhEUgAAAA4AAAAFBAMAAACHocAhAAAAFVBMVEX///9EREQiIiJUVFQyMjJm\n",
       "ZmYAAADubVkoAAAAAXRSTlMAQObYZgAAABRJREFUCNdjCHEBAWcGXCBICQQUAUpuAwlgGKrkAAAA\n",
       "AElFTkSuQmCC\n",
       "\" style=\"display:inline;vertical-align:middle;\" /></a></td></tr>\n",
       "<tr><td>5</td><td>ExprTuple</td><td>6, 7</td><td><a class=\"ProveItLink\" href=\"../4f4c69f2d858fd7e5d7c8b285bc11b541c30cc4d0/expr.ipynb\"><img src=\"data:image/png;base64,iVBORw0KGgoAAAANSUhEUgAAAFcAAAAVBAMAAADBdm84AAAAMFBMVEX////c3NwiIiJERESqqqqY\n",
       "mJh2dnZmZmYQEBDu7u4yMjJUVFTMzMyIiIi6uroAAAAs73DqAAAAAXRSTlMAQObYZgAAAcFJREFU\n",
       "KM+Nkz0sQ1EUx//VvtJ6r62PiUFFJDZdCAudrLowiNDNJGkiMdKBxcCLqTFoDQZNfCTGR9qYJIY2\n",
       "kbCQNhaJqaQkNME59xR9hnKTd+859/zeuf937nnA/0ZKFl/+b3TyKoQZNi7EP/sV1zIV6/hAbHfE\n",
       "CKIxS9aebBxWoZYvuikELBeV2QrnqVJiiAqt3+TFlT7uyQqco0DuSJlzaDgnLZRAQWhfDvBimdD3\n",
       "BS7QxmxUmfu4TwaQAB4klC/wiVqMJq+kHqKnTzKtYslfhDOMRSmJOR5hjoMuSVcBOoYlUxlBfxju\n",
       "GHaVu60kooFtXQnVK7fXvdVvLTtCBLtSWFduEV0xO2w8AptHVdiIEOyL413FLSsTssPOOL3wLPCz\n",
       "1yRYLwnso6qk7LCfZu1F4NVNJLMMr7AXJi5uh3P0wc1lgQfHkDNZxgA5DoK9JTvMZe6i07g+lyeY\n",
       "onNSdDvAFmt8tcNUZn3NhOeJ7EQQI+DS3QFtGzvQRt9itfDCh2WlSYlng07Qut1Ue28RTYGaVjN4\n",
       "8kRqu89HcffENOent6L1W1njR936/E+L1oPV8HBtO+vD3/9RM+t15P/3F94An3SlckaYgPamAAAA\n",
       "AElFTkSuQmCC\n",
       "\" style=\"display:inline;vertical-align:middle;\" /></a></td></tr>\n",
       "<tr><td>6</td><td>Operation</td><td>operator:&nbsp;8<br>operands:&nbsp;9<br></td><td><a class=\"ProveItLink\" href=\"../5ff9cbdd09103220cd080d680a81368d5751f24c0/expr.ipynb\"><img src=\"data:image/png;base64,iVBORw0KGgoAAAANSUhEUgAAADcAAAAPBAMAAACy3Eq1AAAAMFBMVEX///92dnYQEBBERERUVFS6\n",
       "urqIiIhmZmaqqqrc3Nzu7u6YmJgyMjIiIiLMzMwAAACFkkdwAAAAAXRSTlMAQObYZgAAAONJREFU\n",
       "GNNjYACBtwyogNv/i4vzUSjnPJSeCZNlMmBgqA+AKLy/AERxnHG+/AAi+T4BiB3AzBn1E0CUywIG\n",
       "vmMQyXygwH4BMDMhH2QCdwGQ4IFoNQLiS2DjWBf0bwCJgzgcEOVfGBjmWIFZS8FWMPCC2Hxgi/i+\n",
       "pKXfhlgQwDC/AFWS7ScDw1qIMhcXfwNUSWYFoILfYCuB3jqAKskPJLk/glgNQHEFVMn3QAey/AAy\n",
       "OIGSPB9QJUHenA8ybQ3Ijl+okkBv8ukAfTZZ/yQDt/2fAmTJ4v8uLmc2oEQFG4jgQhYDACEtOu/S\n",
       "DBBPAAAAAElFTkSuQmCC\n",
       "\" style=\"display:inline;vertical-align:middle;\" /></a></td></tr>\n",
       "<tr><td>7</td><td>Literal</td><td></td><td><a class=\"ProveItLink\" href=\"../../../__pv_it/a1840c5aa3e17b4f28e5e0844d37e58325ff6fdb0/expr.ipynb\"><img src=\"data:image/png;base64,iVBORw0KGgoAAAANSUhEUgAAAAoAAAASBAMAAACQmVJ4AAAAMFBMVEX///+qqqru7u66uroQEBDM\n",
       "zMxmZmZUVFTc3NwiIiJERESIiIh2dnaYmJgyMjIAAADzocuEAAAAAXRSTlMAQObYZgAAAGdJREFU\n",
       "CNdjYGBg4ANi3tOngORZhp0MDBwTGJZvYOBJYJjqwMC3gTnpBwPLBTaDzwz8ApwMH4FkF5jcCyIv\n",
       "PAKSLJcmMH1l4Dp4gPUTA/fyAN4HDEyeDFwGDAw3G86AzLwbACQvATEA9S8d9agESAgAAAAASUVO\n",
       "RK5CYII=\n",
       "\" style=\"display:inline;vertical-align:middle;\" /></a></td></tr>\n",
       "<tr><td>8</td><td>Literal</td><td></td><td><a class=\"ProveItLink\" href=\"../../../intersection/__pv_it/b92f67f0486746ea0d6b21767755d70bf02e0a1a0/expr.ipynb\"><img src=\"data:image/png;base64,iVBORw0KGgoAAAANSUhEUgAAAAwAAAAOBAMAAADpk+DfAAAAKlBMVEX///92dnZmZmaYmJiIiIju\n",
       "7u7MzMwiIiJERERUVFQyMjKqqqrc3NwAAABI3Db5AAAAAXRSTlMAQObYZgAAADBJREFUCNdjYGDg\n",
       "OcAABLtWtrcxMHBOZWDIcmAwAoksY1gKojYyFICoTNIpBxAVDAANVw4O+bd0jgAAAABJRU5ErkJg\n",
       "gg==\n",
       "\" style=\"display:inline;vertical-align:middle;\" /></a></td></tr>\n",
       "<tr><td>9</td><td>ExprTuple</td><td>10, 11</td><td><a class=\"ProveItLink\" href=\"../caee09fb4b5c95b986a9cee46a014afbad9bdc680/expr.ipynb\"><img src=\"data:image/png;base64,iVBORw0KGgoAAAANSUhEUgAAADUAAAAVBAMAAAAUZLt1AAAAMFBMVEX////c3NwiIiJERESqqqqY\n",
       "mJh2dnZmZmYQEBDu7u4yMjJUVFTMzMyIiIi6uroAAAAs73DqAAAAAXRSTlMAQObYZgAAATZJREFU\n",
       "KM9jYMAH+C5gFY4DEach7EMwQdb9v3dvXsfAfgDIXgkRWg/XwWHAwFD/gGEBAwMvxEhW/QkwufNA\n",
       "kfMbGMKAqiBiIvUCMLn7QFZ8AsMMBoZXEIEL9x/A5CyAWGMCA7MDQxnEsRP8A2ByvxkYpCwZGNgK\n",
       "GJaC+fPAtoABz++711WBNMsChj6wwAMG+QKoHO9HBoZJG4BGNTD8A6vdvXu/AVSOuQEo/xUo9gEi\n",
       "xwd07wKoHD9QD+s3sFwLiO/AwMDUAPMe0FHcX8BmmgK5jEA5rg8MDBNg3pMHGsK6gCEdyJ0FsuYn\n",
       "A+cnqPd4uiaA/fCIgUG4fyEDq/2vAs5+oJbi/7t3rwL5lesBA4cAUnQhsUFhxpqA4LIiR2AuIo7Q\n",
       "5ThBfpJG8JFTADfIfEbsaeIOAwMABOxNRsfkiy0AAAAASUVORK5CYII=\n",
       "\" style=\"display:inline;vertical-align:middle;\" /></a></td></tr>\n",
       "<tr><td>10</td><td>Variable</td><td></td><td><a class=\"ProveItLink\" href=\"../../../../../__pv_it/2cbe72a7ad6f655694dd697106680215e8489b600/expr.ipynb\"><img src=\"data:image/png;base64,iVBORw0KGgoAAAANSUhEUgAAAA8AAAAOBAMAAAACpFvcAAAALVBMVEX///8QEBBERERUVFS6urqI\n",
       "iIhmZmaqqqrc3Nzu7u6YmJgyMjIiIiLMzMwAAADtIaYWAAAAAXRSTlMAQObYZgAAAFtJREFUCNdj\n",
       "YACBOwxQsA9Kc52bAGG05zVAGAFxDmCaZULdAjBjCsO9ADDDgaEvAUTzGhvbKYCVMDAwbgAxChgY\n",
       "eASANAeQwf0AyJgNxEwvGRia5HYwcOm9TgAA6BoR3jrzwFcAAAAASUVORK5CYII=\n",
       "\" style=\"display:inline;vertical-align:middle;\" /></a></td></tr>\n",
       "<tr><td>11</td><td>Variable</td><td></td><td><a class=\"ProveItLink\" href=\"../../../../../__pv_it/077b2ff79244fb4582cbe22c6e3356fa92a52f2f0/expr.ipynb\"><img src=\"data:image/png;base64,iVBORw0KGgoAAAANSUhEUgAAABAAAAAOBAMAAADUAYG5AAAAMFBMVEX///+qqqru7u4iIiJ2dnbc\n",
       "3NyIiIjMzMxmZmYQEBC6uroyMjJERERUVFSYmJgAAADLUcuvAAAAAXRSTlMAQObYZgAAAGpJREFU\n",
       "CNdjYGB4+//u3dMLGIBgDgMDxy8gzf4NiP8CGWxfGRj4vgAZPBMYGJgnARn8FxhY9ygAGfXX0pof\n",
       "gDTlBzAw2YIYJ0EckBBI53sHoBH/gIz7AhBjWH9DjancBLTl/N+7t/cxMAAA3u4f/5xagjYAAAAA\n",
       "SUVORK5CYII=\n",
       "\" style=\"display:inline;vertical-align:middle;\" /></a></td></tr>\n",
       "</table>\n"
      ],
      "text/plain": [
       "0. (disjoint(A , B) , (A intersect B) = emptyset)\n",
       "   core type: ExprTuple\n",
       "   sub-expressions: 1, 2\n",
       "1. disjoint(A , B)\n",
       "   core type: Operation\n",
       "   operator: 3\n",
       "   operands: 9\n",
       "2. (A intersect B) = emptyset\n",
       "   core type: Operation\n",
       "   operator: 4\n",
       "   operands: 5\n",
       "3. disjoint\n",
       "   core type: Literal\n",
       "   sub-expressions: \n",
       "4. =\n",
       "   core type: Literal\n",
       "   sub-expressions: \n",
       "5. (A intersect B , emptyset)\n",
       "   core type: ExprTuple\n",
       "   sub-expressions: 6, 7\n",
       "6. A intersect B\n",
       "   core type: Operation\n",
       "   operator: 8\n",
       "   operands: 9\n",
       "7. emptyset\n",
       "   core type: Literal\n",
       "   sub-expressions: \n",
       "8. intersect\n",
       "   core type: Literal\n",
       "   sub-expressions: \n",
       "9. (A , B)\n",
       "   core type: ExprTuple\n",
       "   sub-expressions: 10, 11\n",
       "10. A\n",
       "    core type: Variable\n",
       "    sub-expressions: \n",
       "11. B\n",
       "    core type: Variable\n",
       "    sub-expressions: "
      ]
     },
     "execution_count": 4,
     "metadata": {},
     "output_type": "execute_result"
    }
   ],
   "source": [
    "# display the expression information\n",
    "expr.exprInfo()"
   ]
  },
  {
   "cell_type": "code",
   "execution_count": null,
   "metadata": {},
   "outputs": [],
   "source": []
  }
 ],
 "metadata": {
  "kernelspec": {
   "display_name": "Python 3",
   "language": "python",
   "name": "python3"
  }
 },
 "nbformat": 4,
 "nbformat_minor": 0
}
