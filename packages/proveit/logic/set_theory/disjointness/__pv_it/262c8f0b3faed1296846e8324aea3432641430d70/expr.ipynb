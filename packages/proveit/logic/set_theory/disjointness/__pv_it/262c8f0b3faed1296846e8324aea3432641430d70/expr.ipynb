{
 "cells": [
  {
   "cell_type": "markdown",
   "metadata": {},
   "source": [
    "Expression of type <a class=\"ProveItLink\" href=\"../../../../../../../doc/html/api/proveit.logic.Disjoint.html\">Disjoint</a>\n",
    "=======================\n",
    "# from context <a class=\"ProveItLink\" href=\"../../_context_.ipynb\">proveit.logic.set_theory.disjointness</a>"
   ]
  },
  {
   "cell_type": "code",
   "execution_count": 1,
   "metadata": {},
   "outputs": [],
   "source": [
    "# import Expression classes needed to build the expression\n",
    "from proveit._common_ import A, B\n",
    "from proveit.logic import Disjoint"
   ]
  },
  {
   "cell_type": "code",
   "execution_count": 2,
   "metadata": {},
   "outputs": [
    {
     "data": {
      "text/html": [
       "<strong id=\"expr\">expr:</strong> <a class=\"ProveItLink\" href=\"expr.ipynb\"><img src=\"data:image/png;base64,iVBORw0KGgoAAAANSUhEUgAAAH4AAAAVBAMAAAByPkciAAAAMFBMVEX///9UVFQiIiKYmJgyMjIQ\n",
       "EBDc3NyIiIh2dnZmZmZERESqqqq6urrMzMzu7u4AAAAx+6HGAAAAAXRSTlMAQObYZgAAAldJREFU\n",
       "OMullE1oE1EQx//NZnfTsrtNECooGkW8ag5Cjw0oHqTUHkQQC03Ai3pIwENUWrp4aPW2F1EUaYro\n",
       "QcHmoAi9NBQLnmzjQUGULtKLotitVRs2Nc772GRbtij4IHkz8+a3M2/mvQf8//j66m8eRjHSrFT5\n",
       "NOPDXBeWmzk+BWowamJ63QLTXmpXP3CPa5YPoy4WphdFvHrgKSIMCOVk64NqGZisIh7wcIXdkutu\n",
       "4OiwP12krxxumZfIspSEYgf8NkPhvCq4i5O5wD5GUp8Na1Dy2gdu1t4LD6kC85x/IZTiWDXgH9Dv\n",
       "IH31MfBpYsRH3oNxqTerpCs4X7rL1Hdn3l4tKun9u8nztiiKO5sJeA8494TmG9CGoFP+U/gM7EN3\n",
       "xTyEDptUnMhYDcR4/KOc+cJ3Lfrjla4cYMJTxMvQOD/nwiZetaFtMJ5S/CX5IdmKgiN5/SfwMcn2\n",
       "h0JR8qo3CuIXKkCd8Y/afIPHTKXSZcl3Ud3076wPWMhI3rrWTBLfRzVai+IN6kNW8t0UW1nnfCv+\n",
       "Gyg+8bMVVp02r5PXWcaQPTYYtJ8K2eHz/GNJyT8Hbon9m40QnyCv+6ylxMdX5Mli7S+wZI7A3EAn\n",
       "55+5eEi8cRpdTovvzCZ4l4Bltu3fsFZl+81TrljJT4ysOrXm3pely1XiUbu+A6TWmntmfjjW1Dh5\n",
       "zQEXho9DmV5zrGEKfaeZSh3jZ6F/y3klPmKoudBVDsny/Iau+bdq5C2wQ3J4IbH5XYivzEdfo4Ft\n",
       "+OUtz8zOnmg+3xY3Rez5xxdOi36/9EX8Aeexv4aifGCcAAAAAElFTkSuQmCC\n",
       "\" style=\"display:inline;vertical-align:middle;\" /></a><br>"
      ],
      "text/plain": [
       "expr: disjoint(A , B)"
      ]
     },
     "execution_count": 2,
     "metadata": {},
     "output_type": "execute_result"
    }
   ],
   "source": [
    "# build up the expression from sub-expressions\n",
    "expr = Disjoint(A, B)"
   ]
  },
  {
   "cell_type": "code",
   "execution_count": 3,
   "metadata": {},
   "outputs": [
    {
     "name": "stdout",
     "output_type": "stream",
     "text": [
      "Passed sanity check: built 'expr' is the same as the stored Expression.\n"
     ]
    }
   ],
   "source": [
    "# check that the built expression is the same as the stored expression\n",
    "%check_expr"
   ]
  },
  {
   "cell_type": "code",
   "execution_count": 4,
   "metadata": {},
   "outputs": [
    {
     "data": {
      "text/html": [
       "<table><tr><th>&nbsp;</th><th>core type</th><th>sub-expressions</th><th>expression</th></tr>\n",
       "<tr><td>0</td><td>Operation</td><td>operator:&nbsp;1<br>operands:&nbsp;2<br></td><td><a class=\"ProveItLink\" href=\"expr.ipynb\"><img src=\"data:image/png;base64,iVBORw0KGgoAAAANSUhEUgAAAH4AAAAVBAMAAAByPkciAAAAMFBMVEX///9UVFQiIiKYmJgyMjIQ\n",
       "EBDc3NyIiIh2dnZmZmZERESqqqq6urrMzMzu7u4AAAAx+6HGAAAAAXRSTlMAQObYZgAAAldJREFU\n",
       "OMullE1oE1EQx//NZnfTsrtNECooGkW8ag5Cjw0oHqTUHkQQC03Ai3pIwENUWrp4aPW2F1EUaYro\n",
       "QcHmoAi9NBQLnmzjQUGULtKLotitVRs2Nc772GRbtij4IHkz8+a3M2/mvQf8//j66m8eRjHSrFT5\n",
       "NOPDXBeWmzk+BWowamJ63QLTXmpXP3CPa5YPoy4WphdFvHrgKSIMCOVk64NqGZisIh7wcIXdkutu\n",
       "4OiwP12krxxumZfIspSEYgf8NkPhvCq4i5O5wD5GUp8Na1Dy2gdu1t4LD6kC85x/IZTiWDXgH9Dv\n",
       "IH31MfBpYsRH3oNxqTerpCs4X7rL1Hdn3l4tKun9u8nztiiKO5sJeA8494TmG9CGoFP+U/gM7EN3\n",
       "xTyEDptUnMhYDcR4/KOc+cJ3Lfrjla4cYMJTxMvQOD/nwiZetaFtMJ5S/CX5IdmKgiN5/SfwMcn2\n",
       "h0JR8qo3CuIXKkCd8Y/afIPHTKXSZcl3Ud3076wPWMhI3rrWTBLfRzVai+IN6kNW8t0UW1nnfCv+\n",
       "Gyg+8bMVVp02r5PXWcaQPTYYtJ8K2eHz/GNJyT8Hbon9m40QnyCv+6ylxMdX5Mli7S+wZI7A3EAn\n",
       "55+5eEi8cRpdTovvzCZ4l4Bltu3fsFZl+81TrljJT4ysOrXm3pely1XiUbu+A6TWmntmfjjW1Dh5\n",
       "zQEXho9DmV5zrGEKfaeZSh3jZ6F/y3klPmKoudBVDsny/Iau+bdq5C2wQ3J4IbH5XYivzEdfo4Ft\n",
       "+OUtz8zOnmg+3xY3Rez5xxdOi36/9EX8Aeexv4aifGCcAAAAAElFTkSuQmCC\n",
       "\" style=\"display:inline;vertical-align:middle;\" /></a></td></tr>\n",
       "<tr><td>1</td><td>Literal</td><td></td><td><a class=\"ProveItLink\" href=\"../6238598bb42d9b523f7b4b77de819d4fe077232f0/expr.ipynb\"><img src=\"data:image/png;base64,iVBORw0KGgoAAAANSUhEUgAAAEIAAAATBAMAAADWqMaJAAAAMFBMVEX///9UVFQiIiKYmJgyMjIQ\n",
       "EBDc3NyIiIh2dnZmZmZERESqqqq6urrMzMzu7u4AAAAx+6HGAAAAAXRSTlMAQObYZgAAAT9JREFU\n",
       "KM+F0jFLw0AUB/C/TZu2ksSCoINo9QtIN0c7+wEEwcGOTgYcKlIhOFjHLOLgYgcdXMwiQpcGoeBk\n",
       "zaIgClkVRCOKlrTEl8tdqIrtW+79cz9ejuMA4PkKA6ruQ/2K2r0VtogoSvOhtKP29JotIgK2EHA5\n",
       "5huuEGYs/ikpFvID6+T76Bw8As1QPFYrPkoelPW5opS3sFo+COPd0u2mLuVnJiAvI01/qeEJmMaI\n",
       "pc5iyKCIhYLWQYJmJA8hM3HhwiCRMiB3Q3EEfDKxpnOR8rZAomUB7VCcCNEqcKFtBzkS83QD7z9E\n",
       "POMGkk+iQTO8HpFGIsfFObAfnUPt9IgM1C6yTJy5OCahLGLYjEW2mAFK1cqb6QRTl+UNmwSc3VFQ\n",
       "dILJ+oep1XZ+3TKJvqXoL3Z/kXxtDnhKyvjY34/fuIh4IhtYnlsAAAAASUVORK5CYII=\n",
       "\" style=\"display:inline;vertical-align:middle;\" /></a></td></tr>\n",
       "<tr><td>2</td><td>ExprTuple</td><td>3, 4</td><td><a class=\"ProveItLink\" href=\"../caee09fb4b5c95b986a9cee46a014afbad9bdc680/expr.ipynb\"><img src=\"data:image/png;base64,iVBORw0KGgoAAAANSUhEUgAAADUAAAAVBAMAAAAUZLt1AAAAMFBMVEX////c3NwiIiJERESqqqqY\n",
       "mJh2dnZmZmYQEBDu7u4yMjJUVFTMzMyIiIi6uroAAAAs73DqAAAAAXRSTlMAQObYZgAAATZJREFU\n",
       "KM9jYMAH+C5gFY4DEach7EMwQdb9v3dvXsfAfgDIXgkRWg/XwWHAwFD/gGEBAwMvxEhW/QkwufNA\n",
       "kfMbGMKAqiBiIvUCMLn7QFZ8AsMMBoZXEIEL9x/A5CyAWGMCA7MDQxnEsRP8A2ByvxkYpCwZGNgK\n",
       "GJaC+fPAtoABz++711WBNMsChj6wwAMG+QKoHO9HBoZJG4BGNTD8A6vdvXu/AVSOuQEo/xUo9gEi\n",
       "xwd07wKoHD9QD+s3sFwLiO/AwMDUAPMe0FHcX8BmmgK5jEA5rg8MDBNg3pMHGsK6gCEdyJ0FsuYn\n",
       "A+cnqPd4uiaA/fCIgUG4fyEDq/2vAs5+oJbi/7t3rwL5lesBA4cAUnQhsUFhxpqA4LIiR2AuIo7Q\n",
       "5ThBfpJG8JFTADfIfEbsaeIOAwMABOxNRsfkiy0AAAAASUVORK5CYII=\n",
       "\" style=\"display:inline;vertical-align:middle;\" /></a></td></tr>\n",
       "<tr><td>3</td><td>Variable</td><td></td><td><a class=\"ProveItLink\" href=\"../../../../../__pv_it/2cbe72a7ad6f655694dd697106680215e8489b600/expr.ipynb\"><img src=\"data:image/png;base64,iVBORw0KGgoAAAANSUhEUgAAAA8AAAAOBAMAAAACpFvcAAAALVBMVEX///8QEBBERERUVFS6urqI\n",
       "iIhmZmaqqqrc3Nzu7u6YmJgyMjIiIiLMzMwAAADtIaYWAAAAAXRSTlMAQObYZgAAAFtJREFUCNdj\n",
       "YACBOwxQsA9Kc52bAGG05zVAGAFxDmCaZULdAjBjCsO9ADDDgaEvAUTzGhvbKYCVMDAwbgAxChgY\n",
       "eASANAeQwf0AyJgNxEwvGRia5HYwcOm9TgAA6BoR3jrzwFcAAAAASUVORK5CYII=\n",
       "\" style=\"display:inline;vertical-align:middle;\" /></a></td></tr>\n",
       "<tr><td>4</td><td>Variable</td><td></td><td><a class=\"ProveItLink\" href=\"../../../../../__pv_it/077b2ff79244fb4582cbe22c6e3356fa92a52f2f0/expr.ipynb\"><img src=\"data:image/png;base64,iVBORw0KGgoAAAANSUhEUgAAABAAAAAOBAMAAADUAYG5AAAAMFBMVEX///+qqqru7u4iIiJ2dnbc\n",
       "3NyIiIjMzMxmZmYQEBC6uroyMjJERERUVFSYmJgAAADLUcuvAAAAAXRSTlMAQObYZgAAAGpJREFU\n",
       "CNdjYGB4+//u3dMLGIBgDgMDxy8gzf4NiP8CGWxfGRj4vgAZPBMYGJgnARn8FxhY9ygAGfXX0pof\n",
       "gDTlBzAw2YIYJ0EckBBI53sHoBH/gIz7AhBjWH9DjancBLTl/N+7t/cxMAAA3u4f/5xagjYAAAAA\n",
       "SUVORK5CYII=\n",
       "\" style=\"display:inline;vertical-align:middle;\" /></a></td></tr>\n",
       "</table>\n"
      ],
      "text/plain": [
       "0. disjoint(A , B)\n",
       "   core type: Operation\n",
       "   operator: 1\n",
       "   operands: 2\n",
       "1. disjoint\n",
       "   core type: Literal\n",
       "   sub-expressions: \n",
       "2. (A , B)\n",
       "   core type: ExprTuple\n",
       "   sub-expressions: 3, 4\n",
       "3. A\n",
       "   core type: Variable\n",
       "   sub-expressions: \n",
       "4. B\n",
       "   core type: Variable\n",
       "   sub-expressions: "
      ]
     },
     "execution_count": 4,
     "metadata": {},
     "output_type": "execute_result"
    }
   ],
   "source": [
    "# display the expression information\n",
    "expr.exprInfo()"
   ]
  },
  {
   "cell_type": "code",
   "execution_count": null,
   "metadata": {},
   "outputs": [],
   "source": []
  }
 ],
 "metadata": {
  "kernelspec": {
   "display_name": "Python 3",
   "language": "python",
   "name": "python3"
  }
 },
 "nbformat": 4,
 "nbformat_minor": 0
}
