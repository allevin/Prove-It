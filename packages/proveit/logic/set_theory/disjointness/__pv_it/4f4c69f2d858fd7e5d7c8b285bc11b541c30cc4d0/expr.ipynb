{
 "cells": [
  {
   "cell_type": "markdown",
   "metadata": {},
   "source": [
    "Expression of type <a class=\"ProveItLink\" href=\"../../../../../../../doc/html/api/proveit.ExprTuple.html\">ExprTuple</a>\n",
    "=======================\n",
    "# from context <a class=\"ProveItLink\" href=\"../../_context_.ipynb\">proveit.logic.set_theory.disjointness</a>"
   ]
  },
  {
   "cell_type": "code",
   "execution_count": 1,
   "metadata": {},
   "outputs": [],
   "source": [
    "# import Expression classes needed to build the expression\n",
    "from proveit import ExprTuple\n",
    "from proveit._common_ import A, B\n",
    "from proveit.logic import EmptySet, Intersect"
   ]
  },
  {
   "cell_type": "code",
   "execution_count": 2,
   "metadata": {},
   "outputs": [
    {
     "data": {
      "text/html": [
       "<strong id=\"expr\">expr:</strong> <a class=\"ProveItLink\" href=\"expr.ipynb\"><img src=\"data:image/png;base64,iVBORw0KGgoAAAANSUhEUgAAAFcAAAAVBAMAAADBdm84AAAAMFBMVEX////c3NwiIiJERESqqqqY\n",
       "mJh2dnZmZmYQEBDu7u4yMjJUVFTMzMyIiIi6uroAAAAs73DqAAAAAXRSTlMAQObYZgAAAcFJREFU\n",
       "KM+Nkz0sQ1EUx//VvtJ6r62PiUFFJDZdCAudrLowiNDNJGkiMdKBxcCLqTFoDQZNfCTGR9qYJIY2\n",
       "kbCQNhaJqaQkNME59xR9hnKTd+859/zeuf937nnA/0ZKFl/+b3TyKoQZNi7EP/sV1zIV6/hAbHfE\n",
       "CKIxS9aebBxWoZYvuikELBeV2QrnqVJiiAqt3+TFlT7uyQqco0DuSJlzaDgnLZRAQWhfDvBimdD3\n",
       "BS7QxmxUmfu4TwaQAB4klC/wiVqMJq+kHqKnTzKtYslfhDOMRSmJOR5hjoMuSVcBOoYlUxlBfxju\n",
       "GHaVu60kooFtXQnVK7fXvdVvLTtCBLtSWFduEV0xO2w8AptHVdiIEOyL413FLSsTssPOOL3wLPCz\n",
       "1yRYLwnso6qk7LCfZu1F4NVNJLMMr7AXJi5uh3P0wc1lgQfHkDNZxgA5DoK9JTvMZe6i07g+lyeY\n",
       "onNSdDvAFmt8tcNUZn3NhOeJ7EQQI+DS3QFtGzvQRt9itfDCh2WlSYlng07Qut1Ue28RTYGaVjN4\n",
       "8kRqu89HcffENOent6L1W1njR936/E+L1oPV8HBtO+vD3/9RM+t15P/3F94An3SlckaYgPamAAAA\n",
       "AElFTkSuQmCC\n",
       "\" style=\"display:inline;vertical-align:middle;\" /></a><br>"
      ],
      "text/plain": [
       "expr: (A intersect B , emptyset)"
      ]
     },
     "execution_count": 2,
     "metadata": {},
     "output_type": "execute_result"
    }
   ],
   "source": [
    "# build up the expression from sub-expressions\n",
    "expr = ExprTuple(Intersect(A, B), EmptySet)"
   ]
  },
  {
   "cell_type": "code",
   "execution_count": 3,
   "metadata": {},
   "outputs": [
    {
     "name": "stdout",
     "output_type": "stream",
     "text": [
      "Passed sanity check: built 'expr' is the same as the stored Expression.\n"
     ]
    }
   ],
   "source": [
    "# check that the built expression is the same as the stored expression\n",
    "%check_expr"
   ]
  },
  {
   "cell_type": "code",
   "execution_count": 4,
   "metadata": {},
   "outputs": [
    {
     "data": {
      "text/html": [
       "<table><tr><th>&nbsp;</th><th>core type</th><th>sub-expressions</th><th>expression</th></tr>\n",
       "<tr><td>0</td><td>ExprTuple</td><td>1, 2</td><td><a class=\"ProveItLink\" href=\"expr.ipynb\"><img src=\"data:image/png;base64,iVBORw0KGgoAAAANSUhEUgAAAFcAAAAVBAMAAADBdm84AAAAMFBMVEX////c3NwiIiJERESqqqqY\n",
       "mJh2dnZmZmYQEBDu7u4yMjJUVFTMzMyIiIi6uroAAAAs73DqAAAAAXRSTlMAQObYZgAAAcFJREFU\n",
       "KM+Nkz0sQ1EUx//VvtJ6r62PiUFFJDZdCAudrLowiNDNJGkiMdKBxcCLqTFoDQZNfCTGR9qYJIY2\n",
       "kbCQNhaJqaQkNME59xR9hnKTd+859/zeuf937nnA/0ZKFl/+b3TyKoQZNi7EP/sV1zIV6/hAbHfE\n",
       "CKIxS9aebBxWoZYvuikELBeV2QrnqVJiiAqt3+TFlT7uyQqco0DuSJlzaDgnLZRAQWhfDvBimdD3\n",
       "BS7QxmxUmfu4TwaQAB4klC/wiVqMJq+kHqKnTzKtYslfhDOMRSmJOR5hjoMuSVcBOoYlUxlBfxju\n",
       "GHaVu60kooFtXQnVK7fXvdVvLTtCBLtSWFduEV0xO2w8AptHVdiIEOyL413FLSsTssPOOL3wLPCz\n",
       "1yRYLwnso6qk7LCfZu1F4NVNJLMMr7AXJi5uh3P0wc1lgQfHkDNZxgA5DoK9JTvMZe6i07g+lyeY\n",
       "onNSdDvAFmt8tcNUZn3NhOeJ7EQQI+DS3QFtGzvQRt9itfDCh2WlSYlng07Qut1Ue28RTYGaVjN4\n",
       "8kRqu89HcffENOent6L1W1njR936/E+L1oPV8HBtO+vD3/9RM+t15P/3F94An3SlckaYgPamAAAA\n",
       "AElFTkSuQmCC\n",
       "\" style=\"display:inline;vertical-align:middle;\" /></a></td></tr>\n",
       "<tr><td>1</td><td>Operation</td><td>operator:&nbsp;3<br>operands:&nbsp;4<br></td><td><a class=\"ProveItLink\" href=\"../5ff9cbdd09103220cd080d680a81368d5751f24c0/expr.ipynb\"><img src=\"data:image/png;base64,iVBORw0KGgoAAAANSUhEUgAAADcAAAAPBAMAAACy3Eq1AAAAMFBMVEX///92dnYQEBBERERUVFS6\n",
       "urqIiIhmZmaqqqrc3Nzu7u6YmJgyMjIiIiLMzMwAAACFkkdwAAAAAXRSTlMAQObYZgAAAONJREFU\n",
       "GNNjYACBtwyogNv/i4vzUSjnPJSeCZNlMmBgqA+AKLy/AERxnHG+/AAi+T4BiB3AzBn1E0CUywIG\n",
       "vmMQyXygwH4BMDMhH2QCdwGQ4IFoNQLiS2DjWBf0bwCJgzgcEOVfGBjmWIFZS8FWMPCC2Hxgi/i+\n",
       "pKXfhlgQwDC/AFWS7ScDw1qIMhcXfwNUSWYFoILfYCuB3jqAKskPJLk/glgNQHEFVMn3QAey/AAy\n",
       "OIGSPB9QJUHenA8ybQ3Ijl+okkBv8ukAfTZZ/yQDt/2fAmTJ4v8uLmc2oEQFG4jgQhYDACEtOu/S\n",
       "DBBPAAAAAElFTkSuQmCC\n",
       "\" style=\"display:inline;vertical-align:middle;\" /></a></td></tr>\n",
       "<tr><td>2</td><td>Literal</td><td></td><td><a class=\"ProveItLink\" href=\"../../../__pv_it/a1840c5aa3e17b4f28e5e0844d37e58325ff6fdb0/expr.ipynb\"><img src=\"data:image/png;base64,iVBORw0KGgoAAAANSUhEUgAAAAoAAAASBAMAAACQmVJ4AAAAMFBMVEX///+qqqru7u66uroQEBDM\n",
       "zMxmZmZUVFTc3NwiIiJERESIiIh2dnaYmJgyMjIAAADzocuEAAAAAXRSTlMAQObYZgAAAGdJREFU\n",
       "CNdjYGBg4ANi3tOngORZhp0MDBwTGJZvYOBJYJjqwMC3gTnpBwPLBTaDzwz8ApwMH4FkF5jcCyIv\n",
       "PAKSLJcmMH1l4Dp4gPUTA/fyAN4HDEyeDFwGDAw3G86AzLwbACQvATEA9S8d9agESAgAAAAASUVO\n",
       "RK5CYII=\n",
       "\" style=\"display:inline;vertical-align:middle;\" /></a></td></tr>\n",
       "<tr><td>3</td><td>Literal</td><td></td><td><a class=\"ProveItLink\" href=\"../../../intersection/__pv_it/b92f67f0486746ea0d6b21767755d70bf02e0a1a0/expr.ipynb\"><img src=\"data:image/png;base64,iVBORw0KGgoAAAANSUhEUgAAAAwAAAAOBAMAAADpk+DfAAAAKlBMVEX///92dnZmZmaYmJiIiIju\n",
       "7u7MzMwiIiJERERUVFQyMjKqqqrc3NwAAABI3Db5AAAAAXRSTlMAQObYZgAAADBJREFUCNdjYGDg\n",
       "OcAABLtWtrcxMHBOZWDIcmAwAoksY1gKojYyFICoTNIpBxAVDAANVw4O+bd0jgAAAABJRU5ErkJg\n",
       "gg==\n",
       "\" style=\"display:inline;vertical-align:middle;\" /></a></td></tr>\n",
       "<tr><td>4</td><td>ExprTuple</td><td>5, 6</td><td><a class=\"ProveItLink\" href=\"../caee09fb4b5c95b986a9cee46a014afbad9bdc680/expr.ipynb\"><img src=\"data:image/png;base64,iVBORw0KGgoAAAANSUhEUgAAADUAAAAVBAMAAAAUZLt1AAAAMFBMVEX////c3NwiIiJERESqqqqY\n",
       "mJh2dnZmZmYQEBDu7u4yMjJUVFTMzMyIiIi6uroAAAAs73DqAAAAAXRSTlMAQObYZgAAATZJREFU\n",
       "KM9jYMAH+C5gFY4DEach7EMwQdb9v3dvXsfAfgDIXgkRWg/XwWHAwFD/gGEBAwMvxEhW/QkwufNA\n",
       "kfMbGMKAqiBiIvUCMLn7QFZ8AsMMBoZXEIEL9x/A5CyAWGMCA7MDQxnEsRP8A2ByvxkYpCwZGNgK\n",
       "GJaC+fPAtoABz++711WBNMsChj6wwAMG+QKoHO9HBoZJG4BGNTD8A6vdvXu/AVSOuQEo/xUo9gEi\n",
       "xwd07wKoHD9QD+s3sFwLiO/AwMDUAPMe0FHcX8BmmgK5jEA5rg8MDBNg3pMHGsK6gCEdyJ0FsuYn\n",
       "A+cnqPd4uiaA/fCIgUG4fyEDq/2vAs5+oJbi/7t3rwL5lesBA4cAUnQhsUFhxpqA4LIiR2AuIo7Q\n",
       "5ThBfpJG8JFTADfIfEbsaeIOAwMABOxNRsfkiy0AAAAASUVORK5CYII=\n",
       "\" style=\"display:inline;vertical-align:middle;\" /></a></td></tr>\n",
       "<tr><td>5</td><td>Variable</td><td></td><td><a class=\"ProveItLink\" href=\"../../../../../__pv_it/2cbe72a7ad6f655694dd697106680215e8489b600/expr.ipynb\"><img src=\"data:image/png;base64,iVBORw0KGgoAAAANSUhEUgAAAA8AAAAOBAMAAAACpFvcAAAALVBMVEX///8QEBBERERUVFS6urqI\n",
       "iIhmZmaqqqrc3Nzu7u6YmJgyMjIiIiLMzMwAAADtIaYWAAAAAXRSTlMAQObYZgAAAFtJREFUCNdj\n",
       "YACBOwxQsA9Kc52bAGG05zVAGAFxDmCaZULdAjBjCsO9ADDDgaEvAUTzGhvbKYCVMDAwbgAxChgY\n",
       "eASANAeQwf0AyJgNxEwvGRia5HYwcOm9TgAA6BoR3jrzwFcAAAAASUVORK5CYII=\n",
       "\" style=\"display:inline;vertical-align:middle;\" /></a></td></tr>\n",
       "<tr><td>6</td><td>Variable</td><td></td><td><a class=\"ProveItLink\" href=\"../../../../../__pv_it/077b2ff79244fb4582cbe22c6e3356fa92a52f2f0/expr.ipynb\"><img src=\"data:image/png;base64,iVBORw0KGgoAAAANSUhEUgAAABAAAAAOBAMAAADUAYG5AAAAMFBMVEX///+qqqru7u4iIiJ2dnbc\n",
       "3NyIiIjMzMxmZmYQEBC6uroyMjJERERUVFSYmJgAAADLUcuvAAAAAXRSTlMAQObYZgAAAGpJREFU\n",
       "CNdjYGB4+//u3dMLGIBgDgMDxy8gzf4NiP8CGWxfGRj4vgAZPBMYGJgnARn8FxhY9ygAGfXX0pof\n",
       "gDTlBzAw2YIYJ0EckBBI53sHoBH/gIz7AhBjWH9DjancBLTl/N+7t/cxMAAA3u4f/5xagjYAAAAA\n",
       "SUVORK5CYII=\n",
       "\" style=\"display:inline;vertical-align:middle;\" /></a></td></tr>\n",
       "</table>\n"
      ],
      "text/plain": [
       "0. (A intersect B , emptyset)\n",
       "   core type: ExprTuple\n",
       "   sub-expressions: 1, 2\n",
       "1. A intersect B\n",
       "   core type: Operation\n",
       "   operator: 3\n",
       "   operands: 4\n",
       "2. emptyset\n",
       "   core type: Literal\n",
       "   sub-expressions: \n",
       "3. intersect\n",
       "   core type: Literal\n",
       "   sub-expressions: \n",
       "4. (A , B)\n",
       "   core type: ExprTuple\n",
       "   sub-expressions: 5, 6\n",
       "5. A\n",
       "   core type: Variable\n",
       "   sub-expressions: \n",
       "6. B\n",
       "   core type: Variable\n",
       "   sub-expressions: "
      ]
     },
     "execution_count": 4,
     "metadata": {},
     "output_type": "execute_result"
    }
   ],
   "source": [
    "# display the expression information\n",
    "expr.exprInfo()"
   ]
  },
  {
   "cell_type": "code",
   "execution_count": null,
   "metadata": {},
   "outputs": [],
   "source": []
  }
 ],
 "metadata": {
  "kernelspec": {
   "display_name": "Python 3",
   "language": "python",
   "name": "python3"
  }
 },
 "nbformat": 4,
 "nbformat_minor": 0
}
