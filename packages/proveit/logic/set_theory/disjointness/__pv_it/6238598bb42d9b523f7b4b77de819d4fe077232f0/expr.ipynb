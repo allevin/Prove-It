{
 "cells": [
  {
   "cell_type": "markdown",
   "metadata": {},
   "source": [
    "Expression of type <a class=\"ProveItLink\" href=\"../../../../../../../doc/html/api/proveit.Literal.html\">Literal</a>\n",
    "=======================\n",
    "# from context <a class=\"ProveItLink\" href=\"../../_context_.ipynb\">proveit.logic.set_theory.disjointness</a>"
   ]
  },
  {
   "cell_type": "code",
   "execution_count": 1,
   "metadata": {},
   "outputs": [],
   "source": [
    "# import Expression classes needed to build the expression\n",
    "from proveit.logic import Disjoint"
   ]
  },
  {
   "cell_type": "code",
   "execution_count": 2,
   "metadata": {},
   "outputs": [
    {
     "data": {
      "text/html": [
       "<strong id=\"expr\">expr:</strong> <a class=\"ProveItLink\" href=\"expr.ipynb\"><img src=\"data:image/png;base64,iVBORw0KGgoAAAANSUhEUgAAAEIAAAATBAMAAADWqMaJAAAAMFBMVEX///9UVFQiIiKYmJgyMjIQ\n",
       "EBDc3NyIiIh2dnZmZmZERESqqqq6urrMzMzu7u4AAAAx+6HGAAAAAXRSTlMAQObYZgAAAT9JREFU\n",
       "KM+F0jFLw0AUB/C/TZu2ksSCoINo9QtIN0c7+wEEwcGOTgYcKlIhOFjHLOLgYgcdXMwiQpcGoeBk\n",
       "zaIgClkVRCOKlrTEl8tdqIrtW+79cz9ejuMA4PkKA6ruQ/2K2r0VtogoSvOhtKP29JotIgK2EHA5\n",
       "5huuEGYs/ikpFvID6+T76Bw8As1QPFYrPkoelPW5opS3sFo+COPd0u2mLuVnJiAvI01/qeEJmMaI\n",
       "pc5iyKCIhYLWQYJmJA8hM3HhwiCRMiB3Q3EEfDKxpnOR8rZAomUB7VCcCNEqcKFtBzkS83QD7z9E\n",
       "POMGkk+iQTO8HpFGIsfFObAfnUPt9IgM1C6yTJy5OCahLGLYjEW2mAFK1cqb6QRTl+UNmwSc3VFQ\n",
       "dILJ+oep1XZ+3TKJvqXoL3Z/kXxtDnhKyvjY34/fuIh4IhtYnlsAAAAASUVORK5CYII=\n",
       "\" style=\"display:inline;vertical-align:middle;\" /></a><br>"
      ],
      "text/plain": [
       "expr: disjoint"
      ]
     },
     "execution_count": 2,
     "metadata": {},
     "output_type": "execute_result"
    }
   ],
   "source": [
    "# build up the expression from sub-expressions\n",
    "expr = Disjoint._operator_"
   ]
  },
  {
   "cell_type": "code",
   "execution_count": 3,
   "metadata": {},
   "outputs": [
    {
     "name": "stdout",
     "output_type": "stream",
     "text": [
      "Passed sanity check: built 'expr' is the same as the stored Expression.\n"
     ]
    }
   ],
   "source": [
    "# check that the built expression is the same as the stored expression\n",
    "%check_expr"
   ]
  },
  {
   "cell_type": "code",
   "execution_count": 4,
   "metadata": {},
   "outputs": [
    {
     "data": {
      "text/html": [
       "<table><tr><th>&nbsp;</th><th>core type</th><th>sub-expressions</th><th>expression</th></tr>\n",
       "<tr><td>0</td><td>Literal</td><td></td><td><a class=\"ProveItLink\" href=\"expr.ipynb\"><img src=\"data:image/png;base64,iVBORw0KGgoAAAANSUhEUgAAAEIAAAATBAMAAADWqMaJAAAAMFBMVEX///9UVFQiIiKYmJgyMjIQ\n",
       "EBDc3NyIiIh2dnZmZmZERESqqqq6urrMzMzu7u4AAAAx+6HGAAAAAXRSTlMAQObYZgAAAT9JREFU\n",
       "KM+F0jFLw0AUB/C/TZu2ksSCoINo9QtIN0c7+wEEwcGOTgYcKlIhOFjHLOLgYgcdXMwiQpcGoeBk\n",
       "zaIgClkVRCOKlrTEl8tdqIrtW+79cz9ejuMA4PkKA6ruQ/2K2r0VtogoSvOhtKP29JotIgK2EHA5\n",
       "5huuEGYs/ikpFvID6+T76Bw8As1QPFYrPkoelPW5opS3sFo+COPd0u2mLuVnJiAvI01/qeEJmMaI\n",
       "pc5iyKCIhYLWQYJmJA8hM3HhwiCRMiB3Q3EEfDKxpnOR8rZAomUB7VCcCNEqcKFtBzkS83QD7z9E\n",
       "POMGkk+iQTO8HpFGIsfFObAfnUPt9IgM1C6yTJy5OCahLGLYjEW2mAFK1cqb6QRTl+UNmwSc3VFQ\n",
       "dILJ+oep1XZ+3TKJvqXoL3Z/kXxtDnhKyvjY34/fuIh4IhtYnlsAAAAASUVORK5CYII=\n",
       "\" style=\"display:inline;vertical-align:middle;\" /></a></td></tr>\n",
       "</table>\n"
      ],
      "text/plain": [
       "0. disjoint\n",
       "   core type: Literal\n",
       "   sub-expressions: "
      ]
     },
     "execution_count": 4,
     "metadata": {},
     "output_type": "execute_result"
    }
   ],
   "source": [
    "# display the expression information\n",
    "expr.exprInfo()"
   ]
  },
  {
   "cell_type": "code",
   "execution_count": null,
   "metadata": {},
   "outputs": [],
   "source": []
  }
 ],
 "metadata": {
  "kernelspec": {
   "display_name": "Python 3",
   "language": "python",
   "name": "python3"
  }
 },
 "nbformat": 4,
 "nbformat_minor": 0
}
