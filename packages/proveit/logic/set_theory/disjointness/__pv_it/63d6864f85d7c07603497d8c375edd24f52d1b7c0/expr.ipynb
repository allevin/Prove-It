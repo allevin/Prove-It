{
 "cells": [
  {
   "cell_type": "markdown",
   "metadata": {},
   "source": [
    "Expression of type <a class=\"ProveItLink\" href=\"../../../../../../../doc/html/api/proveit.logic.Disjoint.html\">Disjoint</a>\n",
    "=======================\n",
    "# from context <a class=\"ProveItLink\" href=\"../../_context_.ipynb\">proveit.logic.set_theory.disjointness</a>"
   ]
  },
  {
   "cell_type": "code",
   "execution_count": 1,
   "metadata": {},
   "outputs": [],
   "source": [
    "# import Expression classes needed to build the expression\n",
    "from proveit._common_ import B, X\n",
    "from proveit.logic import Disjoint"
   ]
  },
  {
   "cell_type": "code",
   "execution_count": 2,
   "metadata": {},
   "outputs": [
    {
     "data": {
      "text/html": [
       "<strong id=\"expr\">expr:</strong> <a class=\"ProveItLink\" href=\"expr.ipynb\"><img src=\"data:image/png;base64,iVBORw0KGgoAAAANSUhEUgAAAIAAAAAVBAMAAAB8u/sIAAAAMFBMVEX///9UVFQiIiKYmJgyMjIQ\n",
       "EBDc3NyIiIh2dnZmZmZERESqqqq6urrMzMzu7u4AAAAx+6HGAAAAAXRSTlMAQObYZgAAAmhJREFU\n",
       "OMutlE1oE0EUx/91k91+7G4ShCqKSUE8CKIpCOKpAT1JqR5ELBaSQC89NeAhKikuXmpP5qAoSrEi\n",
       "elDQPShCL4ZiQTzY5qIgSqJ4sSA20dbGTdm+mdndbMsGPTgwH+/NvN/Mm/dmgP9Qvr/92wo1F6yX\n",
       "SrybtaCtCc2NDO9c0S1lqv32WYyu7HYsE7XYrkFgmku6BbUhJp4uih0b7taiG2JNwkRP1EWGZ4C7\n",
       "JYRcAKpCrzvzjogu3ircg0oKY96ZKqSqRCEZLqBNOSq247zQqlz0Ji6TrwMG9FMOQP7E1fJHcQeO\n",
       "CHWYd69429P43CI/oLqPuI+Bb5MFC9ka1PNHUhL5OZa/w8QPw+8v5frrMZNW3hJG6XgLUANGn1A/\n",
       "BXkECrlwD0tAHyKmdhAdBok4kdSb2M9XHxNG11rB1Gr5i3vZ4BlCM5A5YK4KgwBhA/I6A9AhfzuA\n",
       "EWGV6PMAyirwhYVkHuM5BxCuTYAAC3TmBgM8agGaIiLZpgfopstTfrJoYCHpAPQrdpQAA5RcvwIB\n",
       "09ofDxCh3aU1DvBO8A6SRYCXJruhFoD5fY7ZdJZwKOOlQRLosLgL26IO4AVwU9yB1vQBWKbcZzYF\n",
       "CnzRzTGWBuMpGhyGto4uDnhexUMCqGfQXfQA1zlgit0ADSLLlDR1Jw2001UxlZ0s1ItlO/46f6FE\n",
       "AJSvbgeJZXvP7EpxaSc79RzwJn0A6sl6HHqaNLftWOx4kpEGt6RuxAxK6HDG/7T9gkhl37P/UQp8\n",
       "9oZf8M90bv4oQsvzwW9qqB3g65aPZ0dvMCDrG2/as/cfPz25zZemLGIDYPi+N+hfirQAAAAASUVO\n",
       "RK5CYII=\n",
       "\" style=\"display:inline;vertical-align:middle;\" /></a><br>"
      ],
      "text/plain": [
       "expr: disjoint(X , B)"
      ]
     },
     "execution_count": 2,
     "metadata": {},
     "output_type": "execute_result"
    }
   ],
   "source": [
    "# build up the expression from sub-expressions\n",
    "expr = Disjoint(X, B)"
   ]
  },
  {
   "cell_type": "code",
   "execution_count": 3,
   "metadata": {},
   "outputs": [
    {
     "name": "stdout",
     "output_type": "stream",
     "text": [
      "Passed sanity check: built 'expr' is the same as the stored Expression.\n"
     ]
    }
   ],
   "source": [
    "# check that the built expression is the same as the stored expression\n",
    "%check_expr"
   ]
  },
  {
   "cell_type": "code",
   "execution_count": 4,
   "metadata": {},
   "outputs": [
    {
     "data": {
      "text/html": [
       "<table><tr><th>&nbsp;</th><th>core type</th><th>sub-expressions</th><th>expression</th></tr>\n",
       "<tr><td>0</td><td>Operation</td><td>operator:&nbsp;1<br>operands:&nbsp;2<br></td><td><a class=\"ProveItLink\" href=\"expr.ipynb\"><img src=\"data:image/png;base64,iVBORw0KGgoAAAANSUhEUgAAAIAAAAAVBAMAAAB8u/sIAAAAMFBMVEX///9UVFQiIiKYmJgyMjIQ\n",
       "EBDc3NyIiIh2dnZmZmZERESqqqq6urrMzMzu7u4AAAAx+6HGAAAAAXRSTlMAQObYZgAAAmhJREFU\n",
       "OMutlE1oE0EUx/91k91+7G4ShCqKSUE8CKIpCOKpAT1JqR5ELBaSQC89NeAhKikuXmpP5qAoSrEi\n",
       "elDQPShCL4ZiQTzY5qIgSqJ4sSA20dbGTdm+mdndbMsGPTgwH+/NvN/Mm/dmgP9Qvr/92wo1F6yX\n",
       "SrybtaCtCc2NDO9c0S1lqv32WYyu7HYsE7XYrkFgmku6BbUhJp4uih0b7taiG2JNwkRP1EWGZ4C7\n",
       "JYRcAKpCrzvzjogu3ircg0oKY96ZKqSqRCEZLqBNOSq247zQqlz0Ji6TrwMG9FMOQP7E1fJHcQeO\n",
       "CHWYd69429P43CI/oLqPuI+Bb5MFC9ka1PNHUhL5OZa/w8QPw+8v5frrMZNW3hJG6XgLUANGn1A/\n",
       "BXkECrlwD0tAHyKmdhAdBok4kdSb2M9XHxNG11rB1Gr5i3vZ4BlCM5A5YK4KgwBhA/I6A9AhfzuA\n",
       "EWGV6PMAyirwhYVkHuM5BxCuTYAAC3TmBgM8agGaIiLZpgfopstTfrJoYCHpAPQrdpQAA5RcvwIB\n",
       "09ofDxCh3aU1DvBO8A6SRYCXJruhFoD5fY7ZdJZwKOOlQRLosLgL26IO4AVwU9yB1vQBWKbcZzYF\n",
       "CnzRzTGWBuMpGhyGto4uDnhexUMCqGfQXfQA1zlgit0ADSLLlDR1Jw2001UxlZ0s1ItlO/46f6FE\n",
       "AJSvbgeJZXvP7EpxaSc79RzwJn0A6sl6HHqaNLftWOx4kpEGt6RuxAxK6HDG/7T9gkhl37P/UQp8\n",
       "9oZf8M90bv4oQsvzwW9qqB3g65aPZ0dvMCDrG2/as/cfPz25zZemLGIDYPi+N+hfirQAAAAASUVO\n",
       "RK5CYII=\n",
       "\" style=\"display:inline;vertical-align:middle;\" /></a></td></tr>\n",
       "<tr><td>1</td><td>Literal</td><td></td><td><a class=\"ProveItLink\" href=\"../6238598bb42d9b523f7b4b77de819d4fe077232f0/expr.ipynb\"><img src=\"data:image/png;base64,iVBORw0KGgoAAAANSUhEUgAAAEIAAAATBAMAAADWqMaJAAAAMFBMVEX///9UVFQiIiKYmJgyMjIQ\n",
       "EBDc3NyIiIh2dnZmZmZERESqqqq6urrMzMzu7u4AAAAx+6HGAAAAAXRSTlMAQObYZgAAAT9JREFU\n",
       "KM+F0jFLw0AUB/C/TZu2ksSCoINo9QtIN0c7+wEEwcGOTgYcKlIhOFjHLOLgYgcdXMwiQpcGoeBk\n",
       "zaIgClkVRCOKlrTEl8tdqIrtW+79cz9ejuMA4PkKA6ruQ/2K2r0VtogoSvOhtKP29JotIgK2EHA5\n",
       "5huuEGYs/ikpFvID6+T76Bw8As1QPFYrPkoelPW5opS3sFo+COPd0u2mLuVnJiAvI01/qeEJmMaI\n",
       "pc5iyKCIhYLWQYJmJA8hM3HhwiCRMiB3Q3EEfDKxpnOR8rZAomUB7VCcCNEqcKFtBzkS83QD7z9E\n",
       "POMGkk+iQTO8HpFGIsfFObAfnUPt9IgM1C6yTJy5OCahLGLYjEW2mAFK1cqb6QRTl+UNmwSc3VFQ\n",
       "dILJ+oep1XZ+3TKJvqXoL3Z/kXxtDnhKyvjY34/fuIh4IhtYnlsAAAAASUVORK5CYII=\n",
       "\" style=\"display:inline;vertical-align:middle;\" /></a></td></tr>\n",
       "<tr><td>2</td><td>ExprTuple</td><td>3, 4</td><td><a class=\"ProveItLink\" href=\"../83f209bb558229894b0c46cab9789cd7ca7418d20/expr.ipynb\"><img src=\"data:image/png;base64,iVBORw0KGgoAAAANSUhEUgAAADgAAAAVBAMAAADhmjDFAAAAMFBMVEX////c3NwiIiJERESqqqqY\n",
       "mJh2dnZmZmYQEBDu7u4yMjJUVFTMzMyIiIi6uroAAAAs73DqAAAAAXRSTlMAQObYZgAAATtJREFU\n",
       "KM9jYMAL+C5gF2d9ACROA3H0/zYGqR9boKL7f+/evI6BoQbIXgkS2O/AwLIBpofDgIGh/gEDFwMD\n",
       "L9jU8wsYxOEGngcKnd/AwJrAwDEBxOf6yFgAl7wvwMAQn8DA2cDwCsxn+T4b4RQLINYA6jFhKIMI\n",
       "9O9ESP5mYJCyBNLpDEshAvkID/H8vntdFcTwYuiDiOxXgEvyfmRgmARy+guGf2ABdul/cEnmBqCC\n",
       "ryBXQyVreD7DJfmBuli/gSVbQHy2Bwz6AnBvBjAwcH8BG2sK4t8Degzkzwkwb8ovADKigO4F2pgA\n",
       "NOwDAwPnJ6g3ebomgL3yiIHhcb8eA9/6TzsZOPuBmor/7969KgCkah0DhwBy9CFzgMEHDF6kOESO\n",
       "ULYL0CjDJjkLiKWR+CiJYiMQM+JIJrwHGAAWKVExxvH+5gAAAABJRU5ErkJggg==\n",
       "\" style=\"display:inline;vertical-align:middle;\" /></a></td></tr>\n",
       "<tr><td>3</td><td>Variable</td><td></td><td><a class=\"ProveItLink\" href=\"../../../../../__pv_it/66cd610ba99eba68f315bbcf220cc988223124550/expr.ipynb\"><img src=\"data:image/png;base64,iVBORw0KGgoAAAANSUhEUgAAABIAAAAOBAMAAADQ9FGEAAAAMFBMVEX///9ERES6uroiIiKIiIju\n",
       "7u5mZmbMzMyqqqoyMjLc3Nx2dnYQEBBUVFSYmJgAAADDc6PYAAAAAXRSTlMAQObYZgAAAGRJREFU\n",
       "CNdjYGB4+/80w8o/NxiA4H4DA8cFEIOhfgLDMjCDgfMXVwKExfEtlgEKzl+FsfY7wFj3DaAMtrWf\n",
       "oKx09o8QBrcCg/0CMMuJgeE92Dy2DQwM/B+ADMXzRgxM8z9fZQAAyVAaemEFKr0AAAAASUVORK5C\n",
       "YII=\n",
       "\" style=\"display:inline;vertical-align:middle;\" /></a></td></tr>\n",
       "<tr><td>4</td><td>Variable</td><td></td><td><a class=\"ProveItLink\" href=\"../../../../../__pv_it/077b2ff79244fb4582cbe22c6e3356fa92a52f2f0/expr.ipynb\"><img src=\"data:image/png;base64,iVBORw0KGgoAAAANSUhEUgAAABAAAAAOBAMAAADUAYG5AAAAMFBMVEX///+qqqru7u4iIiJ2dnbc\n",
       "3NyIiIjMzMxmZmYQEBC6uroyMjJERERUVFSYmJgAAADLUcuvAAAAAXRSTlMAQObYZgAAAGpJREFU\n",
       "CNdjYGB4+//u3dMLGIBgDgMDxy8gzf4NiP8CGWxfGRj4vgAZPBMYGJgnARn8FxhY9ygAGfXX0pof\n",
       "gDTlBzAw2YIYJ0EckBBI53sHoBH/gIz7AhBjWH9DjancBLTl/N+7t/cxMAAA3u4f/5xagjYAAAAA\n",
       "SUVORK5CYII=\n",
       "\" style=\"display:inline;vertical-align:middle;\" /></a></td></tr>\n",
       "</table>\n"
      ],
      "text/plain": [
       "0. disjoint(X , B)\n",
       "   core type: Operation\n",
       "   operator: 1\n",
       "   operands: 2\n",
       "1. disjoint\n",
       "   core type: Literal\n",
       "   sub-expressions: \n",
       "2. (X , B)\n",
       "   core type: ExprTuple\n",
       "   sub-expressions: 3, 4\n",
       "3. X\n",
       "   core type: Variable\n",
       "   sub-expressions: \n",
       "4. B\n",
       "   core type: Variable\n",
       "   sub-expressions: "
      ]
     },
     "execution_count": 4,
     "metadata": {},
     "output_type": "execute_result"
    }
   ],
   "source": [
    "# display the expression information\n",
    "expr.exprInfo()"
   ]
  },
  {
   "cell_type": "code",
   "execution_count": null,
   "metadata": {},
   "outputs": [],
   "source": []
  }
 ],
 "metadata": {
  "kernelspec": {
   "display_name": "Python 3",
   "language": "python",
   "name": "python3"
  }
 },
 "nbformat": 4,
 "nbformat_minor": 0
}
