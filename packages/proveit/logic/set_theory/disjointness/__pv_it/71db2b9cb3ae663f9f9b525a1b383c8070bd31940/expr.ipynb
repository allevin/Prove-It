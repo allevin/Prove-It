{
 "cells": [
  {
   "cell_type": "markdown",
   "metadata": {},
   "source": [
    "Expression of type <a class=\"ProveItLink\" href=\"../../../../../../../doc/html/api/proveit.Literal.html\">Literal</a>\n",
    "=======================\n",
    "# from context <a class=\"ProveItLink\" href=\"../../_context_.ipynb\">proveit.logic.set_theory.disjointness</a>"
   ]
  },
  {
   "cell_type": "code",
   "execution_count": 1,
   "metadata": {},
   "outputs": [],
   "source": [
    "# import Expression classes needed to build the expression\n",
    "from proveit.logic import Distinct"
   ]
  },
  {
   "cell_type": "code",
   "execution_count": 2,
   "metadata": {},
   "outputs": [
    {
     "data": {
      "text/html": [
       "<strong id=\"expr\">expr:</strong> <a class=\"ProveItLink\" href=\"expr.ipynb\"><img src=\"data:image/png;base64,iVBORw0KGgoAAAANSUhEUgAAAEMAAAAPBAMAAABNfm9XAAAAMFBMVEX///9UVFQiIiKYmJgyMjIQ\n",
       "EBDc3NyIiIh2dnZmZmZERESqqqq6urrMzMzu7u4AAAAx+6HGAAAAAXRSTlMAQObYZgAAARNJREFU\n",
       "KM+FkDFLw0AYQB9GTwpJqZsdFAcXtzpJN+f+g4KC/QUGBC1SobjUsYPgqoMOTllE6FScnNQuCoI0\n",
       "qwWHVkQllni53F2Di9/07vH4PjiAtzv+m06E92VfGZxMPsL9TtHFohU6IUwxh8WJ0Ime8t8LZZuI\n",
       "l3RtFYNYAa+tRkRtiLuztr46mgskPlef9n1E8ShIBGKDWXnojAEssUKCVEr5H/pdb1OJ6VOESm5C\n",
       "miY5h08qOGMltn2dzAwPMMmlTIT6n0Tcl3SSP4wL2cR9N4nd8ogTSeObxNNbfKYKOrmGE2maJmEZ\n",
       "HCW8MTmVXIVccJxJ+gG7SlBrNUbtXrx4u1fvMpjfktiLFzofbVGsPyTiF2erasYaYEStAAAAAElF\n",
       "TkSuQmCC\n",
       "\" style=\"display:inline;vertical-align:middle;\" /></a><br>"
      ],
      "text/plain": [
       "expr: distinct"
      ]
     },
     "execution_count": 2,
     "metadata": {},
     "output_type": "execute_result"
    }
   ],
   "source": [
    "# build up the expression from sub-expressions\n",
    "expr = Distinct._operator_"
   ]
  },
  {
   "cell_type": "code",
   "execution_count": 3,
   "metadata": {},
   "outputs": [
    {
     "name": "stdout",
     "output_type": "stream",
     "text": [
      "Passed sanity check: built 'expr' is the same as the stored Expression.\n"
     ]
    }
   ],
   "source": [
    "# check that the built expression is the same as the stored expression\n",
    "%check_expr"
   ]
  },
  {
   "cell_type": "code",
   "execution_count": 4,
   "metadata": {},
   "outputs": [
    {
     "data": {
      "text/html": [
       "<table><tr><th>&nbsp;</th><th>core type</th><th>sub-expressions</th><th>expression</th></tr>\n",
       "<tr><td>0</td><td>Literal</td><td></td><td><a class=\"ProveItLink\" href=\"expr.ipynb\"><img src=\"data:image/png;base64,iVBORw0KGgoAAAANSUhEUgAAAEMAAAAPBAMAAABNfm9XAAAAMFBMVEX///9UVFQiIiKYmJgyMjIQ\n",
       "EBDc3NyIiIh2dnZmZmZERESqqqq6urrMzMzu7u4AAAAx+6HGAAAAAXRSTlMAQObYZgAAARNJREFU\n",
       "KM+FkDFLw0AYQB9GTwpJqZsdFAcXtzpJN+f+g4KC/QUGBC1SobjUsYPgqoMOTllE6FScnNQuCoI0\n",
       "qwWHVkQllni53F2Di9/07vH4PjiAtzv+m06E92VfGZxMPsL9TtHFohU6IUwxh8WJ0Ime8t8LZZuI\n",
       "l3RtFYNYAa+tRkRtiLuztr46mgskPlef9n1E8ShIBGKDWXnojAEssUKCVEr5H/pdb1OJ6VOESm5C\n",
       "miY5h08qOGMltn2dzAwPMMmlTIT6n0Tcl3SSP4wL2cR9N4nd8ogTSeObxNNbfKYKOrmGE2maJmEZ\n",
       "HCW8MTmVXIVccJxJ+gG7SlBrNUbtXrx4u1fvMpjfktiLFzofbVGsPyTiF2erasYaYEStAAAAAElF\n",
       "TkSuQmCC\n",
       "\" style=\"display:inline;vertical-align:middle;\" /></a></td></tr>\n",
       "</table>\n"
      ],
      "text/plain": [
       "0. distinct\n",
       "   core type: Literal\n",
       "   sub-expressions: "
      ]
     },
     "execution_count": 4,
     "metadata": {},
     "output_type": "execute_result"
    }
   ],
   "source": [
    "# display the expression information\n",
    "expr.exprInfo()"
   ]
  },
  {
   "cell_type": "code",
   "execution_count": null,
   "metadata": {},
   "outputs": [],
   "source": []
  }
 ],
 "metadata": {
  "kernelspec": {
   "display_name": "Python 3",
   "language": "python",
   "name": "python3"
  }
 },
 "nbformat": 4,
 "nbformat_minor": 0
}
