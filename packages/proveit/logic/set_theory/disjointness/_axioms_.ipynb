{
 "cells": [
  {
   "cell_type": "markdown",
   "metadata": {},
   "source": [
    "Axioms for context <a href=\"_context_.ipynb\" class=\"ProveItLink\">proveit.logic.set_theory.disjointness</a>\n",
    "========"
   ]
  },
  {
   "cell_type": "code",
   "execution_count": null,
   "metadata": {},
   "outputs": [],
   "source": [
    "from proveit.logic import Forall, Iff, Equals, And, Distinct, Disjoint, Intersect, EmptySet, NotInSet, Set\n",
    "from proveit._common_ import l, m, y, A, B, X\n",
    "from proveit.logic._common_ import iterA1m, xIter1l\n",
    "from proveit.logic.set_theory._common_ import iter_x_singletons\n",
    "from proveit.number import Naturals, NaturalsPos\n",
    "%begin axioms"
   ]
  },
  {
   "cell_type": "markdown",
   "metadata": {},
   "source": [
    "**An empty collection of sets are mutually disjoint simply because there are no pairs:**"
   ]
  },
  {
   "cell_type": "code",
   "execution_count": null,
   "metadata": {},
   "outputs": [],
   "source": [
    "vacuouslyDisjoint = Disjoint()"
   ]
  },
  {
   "cell_type": "markdown",
   "metadata": {},
   "source": [
    "**Define `disjoint` for a pair of sets to mean that the intersection of the pair is the empty set:**"
   ]
  },
  {
   "cell_type": "code",
   "execution_count": null,
   "metadata": {},
   "outputs": [],
   "source": [
    "disjointPairDef = Forall((A, B), Iff(Disjoint(A, B), Equals(Intersect(A, B), EmptySet)))"
   ]
  },
  {
   "cell_type": "markdown",
   "metadata": {},
   "source": [
    "**Define `disjoint` (mutually disjoint) through induction: adding a set to a `disjoint` collection will maintain disjointness if and only if the new set is disjoint with all of the sets in the original collection:**"
   ]
  },
  {
   "cell_type": "code",
   "execution_count": null,
   "metadata": {},
   "outputs": [],
   "source": [
    "disjointInduction = Forall(m, Forall((iterA1m, B),\n",
    "                                     Iff(Disjoint(iterA1m, B),\n",
    "                                         And(Disjoint(iterA1m),\n",
    "                                             Forall(X, Disjoint(X, B),\n",
    "                                                    domain=Set(iterA1m)))).withWrapAfterOperator()),\n",
    "                           domain=Naturals)"
   ]
  },
  {
   "cell_type": "markdown",
   "metadata": {},
   "source": [
    "**Elements being `distinct` is the same as their associated singletons being `disjoint`:**"
   ]
  },
  {
   "cell_type": "code",
   "execution_count": null,
   "metadata": {},
   "outputs": [],
   "source": [
    "distinctDef = Forall(l, Forall(xIter1l, \n",
    "                               Equals(Distinct(xIter1l), \n",
    "                                      Disjoint(iter_x_singletons))),\n",
    "                    domain=NaturalsPos)"
   ]
  },
  {
   "cell_type": "code",
   "execution_count": null,
   "metadata": {},
   "outputs": [],
   "source": [
    "%end axioms"
   ]
  },
  {
   "cell_type": "code",
   "execution_count": null,
   "metadata": {},
   "outputs": [],
   "source": []
  },
  {
   "cell_type": "code",
   "execution_count": null,
   "metadata": {},
   "outputs": [],
   "source": []
  }
 ],
 "metadata": {
  "kernelspec": {
   "display_name": "Python 3",
   "language": "python",
   "name": "python3"
  }
 },
 "nbformat": 4,
 "nbformat_minor": 0
}
