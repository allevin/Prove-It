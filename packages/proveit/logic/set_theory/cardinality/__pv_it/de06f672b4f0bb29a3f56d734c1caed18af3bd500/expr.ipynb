{
 "cells": [
  {
   "cell_type": "markdown",
   "metadata": {},
   "source": [
    "Expression of type <a class=\"ProveItLink\" href=\"../../../../../../../doc/html/api/proveit.Lambda.html\">Lambda</a>\n",
    "=======================\n",
    "# from context <a class=\"ProveItLink\" href=\"../../_context_.ipynb\">proveit.logic.set_theory.cardinality</a>"
   ]
  },
  {
   "cell_type": "code",
   "execution_count": 1,
   "metadata": {},
   "outputs": [],
   "source": [
    "# import Expression classes needed to build the expression\n",
    "from proveit import Lambda\n",
    "from proveit._common_ import S, a, b\n",
    "from proveit.logic import InSet, NotEquals"
   ]
  },
  {
   "cell_type": "code",
   "execution_count": 2,
   "metadata": {},
   "outputs": [
    {
     "data": {
      "text/html": [
       "<strong id=\"expr\">expr:</strong> <a class=\"ProveItLink\" href=\"expr.ipynb\"><img src=\"data:image/png;base64,iVBORw0KGgoAAAANSUhEUgAAALAAAAAVCAMAAADRuJQxAAAAP1BMVEX///8LCwsYGBgoKCgUFBQN\n",
       "DQ3c3NxmZmbMzMxERESYmJiIiIh2dna6urqqqqoyMjIiIiIQEBBUVFTu7u4AAADpOaObAAAAAXRS\n",
       "TlMAQObYZgAAAiZJREFUSMfFVtm22yAMpMtlNWAE//+tNYsXYayQ256Gh5wktmdGo8Vi7BPH8f/F\n",
       "ZA19fRko0fZ+m/0LDRHCOnuvBPo69yNcISnBk/wahBCxBu9hVrCP9HVAzh24nnZ4ht/rHJtK5Udy\n",
       "k3qNmTf4iqsXUvAEP1QEVwhsipOCw1sGn7gxUIJ7/mj8up1r8DzVqpLFsWW2hK1/UeEKqzpxlSME\n",
       "d/zS65svtiVBylpCxoAelptDRGLPLAez2HAbCAo31wV3EYRgxM+4GqSRp2QO8JiyMc1z1rkNsS/8\n",
       "HG/W2uq/BOLL+fWVP2GE6zwxJRA/U8MRbdJ22iVXSigsQ8ERLs8H28LNwoV6YfAV14ZnwZg/qod+\n",
       "1hBS7SFRok8taV+/V3RCOrHbVyjerv3EsN1wuuLK9CwY89uwM98bZilOsVWUqtZDh1HjN8ElhTH1\n",
       "bwPf5fKKSwnG/MNXk96LRx9TUOyjpRMsriqCqxVhSiI3gP2mbMjPH9UYhaZrw6VKAvPHwciKYm+9\n",
       "oqZYtZdQJ1iivCtd48wM4JmTlMEIVxNNh/nZOS/OKm9Pi+o+uONrbkccG6YRx7BwWyIXqoIxLjXW\n",
       "MP9m8W0xErVfjNoHgRF67sWx7lPYWKmMJQ1GuN5Syw/m575flmCzA0DNicSv5sc11glyIQxvrZcO\n",
       "/HBKvH9uS8zZ6uSWsZh/uQ+/c57WyxcGe/YpwRy+YzDwjwlmfLwRk/xG3v/6vuA/XvcekGg9YMoA\n",
       "AAAASUVORK5CYII=\n",
       "\" style=\"display:inline;vertical-align:middle;\" /></a><br>"
      ],
      "text/plain": [
       "expr: b -> (a != b) | b in S"
      ]
     },
     "execution_count": 2,
     "metadata": {},
     "output_type": "execute_result"
    }
   ],
   "source": [
    "# build up the expression from sub-expressions\n",
    "expr = Lambda(b, NotEquals(a, b), conditions = [InSet(b, S)])"
   ]
  },
  {
   "cell_type": "code",
   "execution_count": 3,
   "metadata": {},
   "outputs": [
    {
     "name": "stdout",
     "output_type": "stream",
     "text": [
      "Passed sanity check: built 'expr' is the same as the stored Expression.\n"
     ]
    }
   ],
   "source": [
    "# check that the built expression is the same as the stored expression\n",
    "%check_expr"
   ]
  },
  {
   "cell_type": "code",
   "execution_count": 4,
   "metadata": {},
   "outputs": [
    {
     "data": {
      "text/html": [
       "<table><tr><th>&nbsp;</th><th>core type</th><th>sub-expressions</th><th>expression</th></tr>\n",
       "<tr><td>0</td><td>Lambda</td><td>parameter:&nbsp;9<br>body:&nbsp;1<br>conditions:&nbsp;2<br></td><td><a class=\"ProveItLink\" href=\"expr.ipynb\"><img src=\"data:image/png;base64,iVBORw0KGgoAAAANSUhEUgAAALAAAAAVCAMAAADRuJQxAAAAP1BMVEX///8LCwsYGBgoKCgUFBQN\n",
       "DQ3c3NxmZmbMzMxERESYmJiIiIh2dna6urqqqqoyMjIiIiIQEBBUVFTu7u4AAADpOaObAAAAAXRS\n",
       "TlMAQObYZgAAAiZJREFUSMfFVtm22yAMpMtlNWAE//+tNYsXYayQ256Gh5wktmdGo8Vi7BPH8f/F\n",
       "ZA19fRko0fZ+m/0LDRHCOnuvBPo69yNcISnBk/wahBCxBu9hVrCP9HVAzh24nnZ4ht/rHJtK5Udy\n",
       "k3qNmTf4iqsXUvAEP1QEVwhsipOCw1sGn7gxUIJ7/mj8up1r8DzVqpLFsWW2hK1/UeEKqzpxlSME\n",
       "d/zS65svtiVBylpCxoAelptDRGLPLAez2HAbCAo31wV3EYRgxM+4GqSRp2QO8JiyMc1z1rkNsS/8\n",
       "HG/W2uq/BOLL+fWVP2GE6zwxJRA/U8MRbdJ22iVXSigsQ8ERLs8H28LNwoV6YfAV14ZnwZg/qod+\n",
       "1hBS7SFRok8taV+/V3RCOrHbVyjerv3EsN1wuuLK9CwY89uwM98bZilOsVWUqtZDh1HjN8ElhTH1\n",
       "bwPf5fKKSwnG/MNXk96LRx9TUOyjpRMsriqCqxVhSiI3gP2mbMjPH9UYhaZrw6VKAvPHwciKYm+9\n",
       "oqZYtZdQJ1iivCtd48wM4JmTlMEIVxNNh/nZOS/OKm9Pi+o+uONrbkccG6YRx7BwWyIXqoIxLjXW\n",
       "MP9m8W0xErVfjNoHgRF67sWx7lPYWKmMJQ1GuN5Syw/m575flmCzA0DNicSv5sc11glyIQxvrZcO\n",
       "/HBKvH9uS8zZ6uSWsZh/uQ+/c57WyxcGe/YpwRy+YzDwjwlmfLwRk/xG3v/6vuA/XvcekGg9YMoA\n",
       "AAAASUVORK5CYII=\n",
       "\" style=\"display:inline;vertical-align:middle;\" /></a></td></tr>\n",
       "<tr><td>1</td><td>Operation</td><td>operator:&nbsp;3<br>operands:&nbsp;4<br></td><td><a class=\"ProveItLink\" href=\"../03fa63bc70c47cd4266cc1599072643dd86520790/expr.ipynb\"><img src=\"data:image/png;base64,iVBORw0KGgoAAAANSUhEUgAAADAAAAAUCAMAAAD84U6VAAAAPFBMVEX///8LCwsYGBgNDQ0oKCgy\n",
       "MjKqqqrMzMzu7u4iIiJmZmaYmJhEREQQEBC6urp2dnaIiIhUVFTc3NwAAABYMwFzAAAAAXRSTlMA\n",
       "QObYZgAAAMhJREFUKM+1kusOwyAIhdnFG7WI+v7vOiRbu9rMxh87SRuNwOcBAUZKBaZUzL72eQ2X\n",
       "CZm+dybPAETVzgGo+ot4F48N2C2UzInWU0Oig6MF5rwoq8XGup2gUT0f7b8Z9bUBqxQptaVhvABY\n",
       "tbAmsaa1A3fx1DURtWUV5YsKdF2C6TwF1E4tciNWoCR9agXR/RZU8TAFlHt5XWUD1o0AalctgBHP\n",
       "VoBp5EBKSl3M7ykwucg0BMjjY1x+Dtni3LOG4Ofi/w4AGpy9AOYzB/Lf2im1AAAAAElFTkSuQmCC\n",
       "\" style=\"display:inline;vertical-align:middle;\" /></a></td></tr>\n",
       "<tr><td>2</td><td>ExprTuple</td><td>5</td><td><a class=\"ProveItLink\" href=\"../559b06dd5ddc72037d6f5dcda67d133b0b98e2820/expr.ipynb\"><img src=\"data:image/png;base64,iVBORw0KGgoAAAANSUhEUgAAADwAAAAVBAMAAADocZC/AAAAMFBMVEX////c3NwiIiJERESqqqqY\n",
       "mJh2dnZmZmYQEBDu7u4yMjJUVFTMzMyIiIi6uroAAAAs73DqAAAAAXRSTlMAQObYZgAAAUJJREFU\n",
       "KM9jYCAA+C7gkmF9ACROM3DuUMCQii6vjGOoATJWMjBwbUCX5QpgmPyBgYuBgRdoNr8DuvQ2BgaW\n",
       "BQysCQwcExgY3k+ACM5dpKQFZjD+YWDgucDA2cDwCshLgsjyLJ0Ac+4XIO8AA4MJQxmQt/ruVpCg\n",
       "MEyWgfH/HTCdzrCUgYHzMwM/UCmDIcLu+/8/CwApL4Y+oCN+MnAkAFUZIKQZo/s7gdQLhn8MDOwL\n",
       "GPgLgBY2KSlBnQYEbF+BxHmQNFMBw/sAoFsQvgfyOCHSLWBv1wNdxQkPO06gWYwfwYabMoDc1QYS\n",
       "3QqTBoYIAzvIrCig2xm4HcBshkkPoNLsugwMlyEeewQ0a28pxLnLD0Ckufl2bw4AMdYxcAggvMOy\n",
       "C+FysBsaQMGOE7BdAEcoLjALiKVxS28EOQhnYuI9wAAAWPFKGGszUzIAAAAASUVORK5CYII=\n",
       "\" style=\"display:inline;vertical-align:middle;\" /></a></td></tr>\n",
       "<tr><td>3</td><td>Literal</td><td></td><td><a class=\"ProveItLink\" href=\"../../../../equality/__pv_it/43637204f35b46c076ae787093288c6a879642310/expr.ipynb\"><img src=\"data:image/png;base64,iVBORw0KGgoAAAANSUhEUgAAAA4AAAAUCAMAAACK2/weAAAAM1BMVEX///8LCwsYGBgNDQ0oKCju\n",
       "7u4iIiJmZmaqqqpERETMzMy6urpUVFQyMjLc3Nx2dnYAAAB8DqOrAAAAAXRSTlMAQObYZgAAAE5J\n",
       "REFUGNNjYEAAfj4kDgMfLzKPgYebaEkuThRJTi4wxc4LBizMIJIHTRIKuHlQdPLCHMTOBgRMjGxg\n",
       "wIkmiVcnGHCwo0iysRItyYDsMQCO9QJkhxsUAQAAAABJRU5ErkJggg==\n",
       "\" style=\"display:inline;vertical-align:middle;\" /></a></td></tr>\n",
       "<tr><td>4</td><td>ExprTuple</td><td>6, 9</td><td><a class=\"ProveItLink\" href=\"../359d2ffcad0b096b85ece3bdabdf3ac9ad97321c0/expr.ipynb\"><img src=\"data:image/png;base64,iVBORw0KGgoAAAANSUhEUgAAACkAAAAVBAMAAAAp9toTAAAAMFBMVEX////c3NwiIiJERESqqqqY\n",
       "mJh2dnZmZmYQEBDu7u4yMjJUVFTMzMyIiIi6uroAAAAs73DqAAAAAXRSTlMAQObYZgAAAQxJREFU\n",
       "GNNtkSFPw1AQx3/burWlbJ1HgMPO4PsNqEKSBYOC1IAFEoIklXOtQRDMDAkhWdIEidkHgAVQBLOS\n",
       "ZQJDuGv3km7hiXv/+72Xe/+7B/+vzngF7Gt4rgD3YQvsTNRt9d7aUEIK7aUCfiBhD5y4SqeaDeBr\n",
       "6aUDDY2AU9lqo+OLkt693kMr4kb0Z7eRlx5m+BlWyrVcnWP3Cmr94PTpnPMLXk69dGKn+BHruVK/\n",
       "R5IVtB4xDZVewuaYXeKF3bNYK+xAEvBoZa7SjCtophxKm6G13SKREXiBPSycfajdydOEwbc4G53o\n",
       "MN5wuqavdyOk42bfJKERR9VJGurKJNlYJG1z6mnN2uoPvcAf68w9OrA141UAAAAASUVORK5CYII=\n",
       "\" style=\"display:inline;vertical-align:middle;\" /></a></td></tr>\n",
       "<tr><td>5</td><td>Operation</td><td>operator:&nbsp;7<br>operands:&nbsp;8<br></td><td><a class=\"ProveItLink\" href=\"../c9e8b3e6f3585e0dc60fc0f4bc5ae696bfdac95a0/expr.ipynb\"><img src=\"data:image/png;base64,iVBORw0KGgoAAAANSUhEUgAAADAAAAAPBAMAAABQAFHMAAAAMFBMVEX////c3NxmZmbMzMxERESY\n",
       "mJiIiIh2dna6urqqqqoyMjIiIiIQEBBUVFTu7u4AAAAiO1wTAAAAAXRSTlMAQObYZgAAANxJREFU\n",
       "GNNj4LuzgQEdxCrpRTAwcF1AF+cKYHjygYGBfwK6xHUGBs4FDAz9DyDcZ6t37wIzGD8zMDAnMDBU\n",
       "Q8SZl0IVMHD8BPIMGBjWpl0FcUVg4gyM/5NBFN8XBn6gNIMjwo78/18EgNb8Y+ApAMo7ICQYY8+f\n",
       "Y2BgWsDArwA0+PTu3VDLgYD9KwMDtwJDfwDQNoRvgDy+r2Bv6APt5YP7nw+on/EjA8jm4yD+VZgE\n",
       "yG9MQP28E5jAprxugEowbWNgSAHpvKYKccoiA4gEL8fdKwHIIcR5C+EqIAAAtbQ2pvi17J4AAAAA\n",
       "SUVORK5CYII=\n",
       "\" style=\"display:inline;vertical-align:middle;\" /></a></td></tr>\n",
       "<tr><td>6</td><td>Variable</td><td></td><td><a class=\"ProveItLink\" href=\"../../../../../__pv_it/07527342713064c87612d00d8557c53d53d5324a0/expr.ipynb\"><img src=\"data:image/png;base64,iVBORw0KGgoAAAANSUhEUgAAAAsAAAAJBAMAAAAWSsseAAAAMFBMVEX///8yMjKqqqrMzMzu7u4i\n",
       "IiJmZmaYmJhEREQQEBC6urp2dnaIiIhUVFTc3NwAAAD87Fq/AAAAAXRSTlMAQObYZgAAAEhJREFU\n",
       "CNdjYOC7s2seAwPDygccHxgY+L4zsDUwMPB+YGA9wMDA38Dgb8DA8P4Agz6DA4O/AsNFJgMGxgKm\n",
       "MG6gyjunLE4xAAAZTBA5TB6DCwAAAABJRU5ErkJggg==\n",
       "\" style=\"display:inline;vertical-align:middle;\" /></a></td></tr>\n",
       "<tr><td>7</td><td>Literal</td><td></td><td><a class=\"ProveItLink\" href=\"../../../membership/__pv_it/088cbc857536a28d4119ad9639a84270ccb0545d0/expr.ipynb\"><img src=\"data:image/png;base64,iVBORw0KGgoAAAANSUhEUgAAAAwAAAAMBAMAAACkW0HUAAAALVBMVEX///+qqqpmZmZUVFQQEBC6\n",
       "urpERETc3NyYmJjMzMwiIiIyMjKIiIju7u4AAACYsrA9AAAAAXRSTlMAQObYZgAAADxJREFUCNdj\n",
       "YOA9vWrVBgaG2b0MQMCeCyIZ2ArA1DUwyRCyahVIyWQI7xaEYm4AU7xLIdxqTQgtvGvVBgCkcQ7e\n",
       "geM/tQAAAABJRU5ErkJggg==\n",
       "\" style=\"display:inline;vertical-align:middle;\" /></a></td></tr>\n",
       "<tr><td>8</td><td>ExprTuple</td><td>9, 10</td><td><a class=\"ProveItLink\" href=\"../1f05cde5c988e35c331c879833a6541ef03369060/expr.ipynb\"><img src=\"data:image/png;base64,iVBORw0KGgoAAAANSUhEUgAAACwAAAAVBAMAAADP3xFXAAAAMFBMVEX////c3NwiIiJERESqqqqY\n",
       "mJh2dnZmZmYQEBDu7u4yMjJUVFTMzMyIiIi6uroAAAAs73DqAAAAAXRSTlMAQObYZgAAARxJREFU\n",
       "GNNjYMAB+C6gi7A+ABKnGTh3KMCFossr4xhqgIyVDAxcG2CiXAEMkz8wcDEw8ALN4HeACW9jYGBZ\n",
       "wMCawMAxgYHh/QSoKOMfBgaeCwycDQyvgLwkuPVfgMIHGBhMGMqAvNV3t0JV/78DptMZljIwcH5m\n",
       "4D8AEb///7MAkPJi6ANa8pOBIwGqPLq/E0i9YPjHwMC+gIG/AGY821cgcR4kzFTA8D4ALAYkOSHC\n",
       "LWBn14OdyAnUw/gRbIgpA8i+NgZOBrBPGNhBPo4CuoWB2wHIng8MF3ZdBobLEAc+AurdW8rAMAOo\n",
       "mZtv92awJesYOASgTniICFmg51mhLmYIQAizXQAHLLrwLCCWhjB5kaJnI8i/GJHGe4ABADRrQ4BG\n",
       "0wHQAAAAAElFTkSuQmCC\n",
       "\" style=\"display:inline;vertical-align:middle;\" /></a></td></tr>\n",
       "<tr><td>9</td><td>Variable</td><td></td><td><a class=\"ProveItLink\" href=\"../../../../../__pv_it/6840a4fa6c106149dc16a131294d0c5e44f1b0480/expr.ipynb\"><img src=\"data:image/png;base64,iVBORw0KGgoAAAANSUhEUgAAAAkAAAAOBAMAAAAPuiubAAAALVBMVEX///9mZmbMzMxERESYmJiI\n",
       "iIh2dna6urqqqqoyMjIiIiIQEBBUVFTu7u4AAAD9S1JeAAAAAXRSTlMAQObYZgAAAE1JREFUCNdj\n",
       "4D29gAEIOA+ASL4GEFl3AURmgQiGOaFHGBh4HzPwKTBwvGXgTmBgnMDAJ8DAJcBQ5wBSLncBJLWN\n",
       "gYGngRFoBO9REQYGAGrcDtUkVqASAAAAAElFTkSuQmCC\n",
       "\" style=\"display:inline;vertical-align:middle;\" /></a></td></tr>\n",
       "<tr><td>10</td><td>Variable</td><td></td><td><a class=\"ProveItLink\" href=\"../../../../../__pv_it/abeee18594afe51bfb1be95d9591fbba24ac53f30/expr.ipynb\"><img src=\"data:image/png;base64,iVBORw0KGgoAAAANSUhEUgAAAA0AAAAOBAMAAAAGUYvhAAAAMFBMVEX///8iIiIQEBCIiIjMzMzc\n",
       "3Nyqqqp2dnZEREQyMjK6urru7u5mZmZUVFSYmJgAAACI6eGPAAAAAXRSTlMAQObYZgAAAF1JREFU\n",
       "CNdjYGDgu3Nm3wIGBoZ5DNz9QIq3gIEhE0jHOzAwOAPp9QkMDC4g/megABAw///fCmbEXfq0Acxg\n",
       "qH8ANAVI7wfSe0BKAyBGnAXigwYMzA1A+sLau31ACgAz0hhbkhGHbwAAAABJRU5ErkJggg==\n",
       "\" style=\"display:inline;vertical-align:middle;\" /></a></td></tr>\n",
       "</table>\n"
      ],
      "text/plain": [
       "0. b -> (a != b) | b in S\n",
       "   core type: Lambda\n",
       "   parameter: 9\n",
       "   body: 1\n",
       "   conditions: 2\\n1. a != b\n",
       "   core type: Operation\n",
       "   operator: 3\n",
       "   operands: 4\n",
       "2. (b in S)\n",
       "   core type: ExprTuple\n",
       "   sub-expressions: 5\n",
       "3. !=\n",
       "   core type: Literal\n",
       "   sub-expressions: \n",
       "4. (a , b)\n",
       "   core type: ExprTuple\n",
       "   sub-expressions: 6, 9\n",
       "5. b in S\n",
       "   core type: Operation\n",
       "   operator: 7\n",
       "   operands: 8\n",
       "6. a\n",
       "   core type: Variable\n",
       "   sub-expressions: \n",
       "7. in\n",
       "   core type: Literal\n",
       "   sub-expressions: \n",
       "8. (b , S)\n",
       "   core type: ExprTuple\n",
       "   sub-expressions: 9, 10\n",
       "9. b\n",
       "   core type: Variable\n",
       "   sub-expressions: \n",
       "10. S\n",
       "    core type: Variable\n",
       "    sub-expressions: "
      ]
     },
     "execution_count": 4,
     "metadata": {},
     "output_type": "execute_result"
    }
   ],
   "source": [
    "# display the expression information\n",
    "expr.exprInfo()"
   ]
  },
  {
   "cell_type": "code",
   "execution_count": null,
   "metadata": {},
   "outputs": [],
   "source": []
  }
 ],
 "metadata": {
  "kernelspec": {
   "display_name": "Python 3",
   "language": "python",
   "name": "python3"
  }
 },
 "nbformat": 4,
 "nbformat_minor": 0
}
