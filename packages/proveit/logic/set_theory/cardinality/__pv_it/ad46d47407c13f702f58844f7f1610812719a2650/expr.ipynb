{
 "cells": [
  {
   "cell_type": "markdown",
   "metadata": {},
   "source": [
    "Expression of type <a class=\"ProveItLink\" href=\"../../../../../../../doc/html/api/proveit.ExprTuple.html\">ExprTuple</a>\n",
    "=======================\n",
    "# from context <a class=\"ProveItLink\" href=\"../../_context_.ipynb\">proveit.logic.set_theory.cardinality</a>"
   ]
  },
  {
   "cell_type": "code",
   "execution_count": 1,
   "metadata": {},
   "outputs": [],
   "source": [
    "# import Expression classes needed to build the expression\n",
    "from proveit import ExprTuple\n",
    "from proveit._common_ import S\n",
    "from proveit.logic import Card\n",
    "from proveit.number import Naturals"
   ]
  },
  {
   "cell_type": "code",
   "execution_count": 2,
   "metadata": {},
   "outputs": [
    {
     "data": {
      "text/html": [
       "<strong id=\"expr\">expr:</strong> <a class=\"ProveItLink\" href=\"expr.ipynb\"><img src=\"data:image/png;base64,iVBORw0KGgoAAAANSUhEUgAAAD4AAAAVBAMAAADshECCAAAAMFBMVEX////c3NwiIiJERESqqqqY\n",
       "mJh2dnZmZmYQEBDu7u4yMjJUVFTMzMyIiIi6uroAAAAs73DqAAAAAXRSTlMAQObYZgAAAU9JREFU\n",
       "KM9t0r9Lw0AUB/BvqM0Pk8aAo6ujoqD+Aa6CkMHJUunmVpwUxUHQxcUG3OriItjFVgRBdAi4FCp4\n",
       "4Cq1OEknf25ifXeXXC/iQcK79yF37+4FoDGPdAwiNXyGippUMpTv0qudZIsbmyuJO42ZOqypcWzT\n",
       "pC59OMTha/p9LrwFRigJFJj0S2DoOHV3gtI2bVCGHQk3vgFPVeL2ohvuzg56sir/kzxWftesReSY\n",
       "xbp0o/+o1e/Gi94091WcJNmn/kegudUtcV/AQeJGsbqvOa7cFgUv+FGrml+6HzmnFNynHlKxGffK\n",
       "LeF7wp012uFNdyzlxPpzwulqYDWFR4mboxQs0wl41poEHuRK7/x+eWO2xPmeRdb1ry9C6dUAfmOX\n",
       "4ho9Z7ADZPvrB4MG0/1SC7Ke134Ak6n+/ut8i7E/zjQ/5xfL0FGJTub/KsT4BXr1XK2JL9f1AAAA\n",
       "AElFTkSuQmCC\n",
       "\" style=\"display:inline;vertical-align:middle;\" /></a><br>"
      ],
      "text/plain": [
       "expr: (|S| , Naturals)"
      ]
     },
     "execution_count": 2,
     "metadata": {},
     "output_type": "execute_result"
    }
   ],
   "source": [
    "# build up the expression from sub-expressions\n",
    "expr = ExprTuple(Card(S), Naturals)"
   ]
  },
  {
   "cell_type": "code",
   "execution_count": 3,
   "metadata": {},
   "outputs": [
    {
     "name": "stdout",
     "output_type": "stream",
     "text": [
      "Passed sanity check: built 'expr' is the same as the stored Expression.\n"
     ]
    }
   ],
   "source": [
    "# check that the built expression is the same as the stored expression\n",
    "%check_expr"
   ]
  },
  {
   "cell_type": "code",
   "execution_count": 4,
   "metadata": {},
   "outputs": [
    {
     "data": {
      "text/html": [
       "<table><tr><th>&nbsp;</th><th>core type</th><th>sub-expressions</th><th>expression</th></tr>\n",
       "<tr><td>0</td><td>ExprTuple</td><td>1, 2</td><td><a class=\"ProveItLink\" href=\"expr.ipynb\"><img src=\"data:image/png;base64,iVBORw0KGgoAAAANSUhEUgAAAD4AAAAVBAMAAADshECCAAAAMFBMVEX////c3NwiIiJERESqqqqY\n",
       "mJh2dnZmZmYQEBDu7u4yMjJUVFTMzMyIiIi6uroAAAAs73DqAAAAAXRSTlMAQObYZgAAAU9JREFU\n",
       "KM9t0r9Lw0AUB/BvqM0Pk8aAo6ujoqD+Aa6CkMHJUunmVpwUxUHQxcUG3OriItjFVgRBdAi4FCp4\n",
       "4Cq1OEknf25ifXeXXC/iQcK79yF37+4FoDGPdAwiNXyGippUMpTv0qudZIsbmyuJO42ZOqypcWzT\n",
       "pC59OMTha/p9LrwFRigJFJj0S2DoOHV3gtI2bVCGHQk3vgFPVeL2ohvuzg56sir/kzxWftesReSY\n",
       "xbp0o/+o1e/Gi94091WcJNmn/kegudUtcV/AQeJGsbqvOa7cFgUv+FGrml+6HzmnFNynHlKxGffK\n",
       "LeF7wp012uFNdyzlxPpzwulqYDWFR4mboxQs0wl41poEHuRK7/x+eWO2xPmeRdb1ry9C6dUAfmOX\n",
       "4ho9Z7ADZPvrB4MG0/1SC7Ke134Ak6n+/ut8i7E/zjQ/5xfL0FGJTub/KsT4BXr1XK2JL9f1AAAA\n",
       "AElFTkSuQmCC\n",
       "\" style=\"display:inline;vertical-align:middle;\" /></a></td></tr>\n",
       "<tr><td>1</td><td>Operation</td><td>operator:&nbsp;3<br>operand:&nbsp;4<br></td><td><a class=\"ProveItLink\" href=\"../95f2bf025e6c63e7e2d400158ad3fb9ce650b0390/expr.ipynb\"><img src=\"data:image/png;base64,iVBORw0KGgoAAAANSUhEUgAAABYAAAAVBAMAAACwDgOmAAAAMFBMVEX///8iIiIQEBDMzMxEREQy\n",
       "MjLu7u5mZmZUVFSYmJiIiIi6urp2dnbc3NyqqqoAAAABhO6fAAAAAXRSTlMAQObYZgAAAHdJREFU\n",
       "CNdjeMsAA28ZTsPZpyHsGeVls6Fs1gkMKR+g7B4GBr4ACJv3MwMD8wIIm/sfkG0AFf+/GGHO+v9f\n",
       "LsDYvDP01eDmM/D8hLInMDCwQdlsBUBVfyFsoDUM7A0QNrsUA8MSqJkc3B0tExDuRHYzAfZqOHs1\n",
       "ACHeNq3hiKUHAAAAAElFTkSuQmCC\n",
       "\" style=\"display:inline;vertical-align:middle;\" /></a></td></tr>\n",
       "<tr><td>2</td><td>Literal</td><td></td><td><a class=\"ProveItLink\" href=\"../../../../../number/sets/integer/__pv_it/e5d9bd86b06b357eee742ad868997123619e09700/expr.ipynb\"><img src=\"data:image/png;base64,iVBORw0KGgoAAAANSUhEUgAAAA8AAAAOBAMAAAACpFvcAAAAMFBMVEX////c3Nx2dna6uroQEBCI\n",
       "iIhUVFTMzMyYmJiqqqoiIiJmZmZEREQyMjLu7u4AAADjlg78AAAAAXRSTlMAQObYZgAAAGBJREFU\n",
       "CNdjePvn7AOGXb8mMDCcYD/AwPCBgYEhqyCUgcEByEi+x1YAZqSX8d2DMDgDaiAMhs0cARAG24N0\n",
       "CIMv4S2EwVDEDmVwTDgAYTAoghiHgZj7AgOD7Rcgj+8CAwA9oh2B0HK+MAAAAABJRU5ErkJggg==\n",
       "\" style=\"display:inline;vertical-align:middle;\" /></a></td></tr>\n",
       "<tr><td>3</td><td>Literal</td><td></td><td><a class=\"ProveItLink\" href=\"../0c63ce1b557f058a248d364aa4246254a926fc430/expr.ipynb\"><img src=\"data:image/png;base64,iVBORw0KGgoAAAANSUhEUgAAACkAAAAOBAMAAABA5yhLAAAAMFBMVEX///+qqqpmZmbc3NxUVFSY\n",
       "mJhEREQiIiIyMjK6uroQEBDMzMyIiIh2dnbu7u4AAAA4MM1YAAAAAXRSTlMAQObYZgAAANRJREFU\n",
       "GNNjYMAAnFkKDFgAvwA20fkPsIlexybI0ATEfHfPbGAwOTvLgPOY5VkFBmafmx+BorsmcBRwLmbI\n",
       "Z+BlqeT4wDDLgO0fUOkaBrYA+wAGNYaZ7A6ME5i/MjA1MDCwfACq92dgqGF48H4CmMt+Aei4BKDo\n",
       "Nwa+3wwM8gxgLkjS/gADA/MfBsYPfAwaDGCuPMMDBv4ABoa4jwwsDdIMa4Gi7wUYPBg3MLAoMPBu\n",
       "aGUQV7jA/BMoyhHAWMQLpHXPnGMwOTM7ZwLnAiCP2efktpMMAOtBNwCkI0hKAAAAAElFTkSuQmCC\n",
       "\" style=\"display:inline;vertical-align:middle;\" /></a></td></tr>\n",
       "<tr><td>4</td><td>Variable</td><td></td><td><a class=\"ProveItLink\" href=\"../../../../../__pv_it/abeee18594afe51bfb1be95d9591fbba24ac53f30/expr.ipynb\"><img src=\"data:image/png;base64,iVBORw0KGgoAAAANSUhEUgAAAA0AAAAOBAMAAAAGUYvhAAAAMFBMVEX///8iIiIQEBCIiIjMzMzc\n",
       "3Nyqqqp2dnZEREQyMjK6urru7u5mZmZUVFSYmJgAAACI6eGPAAAAAXRSTlMAQObYZgAAAF1JREFU\n",
       "CNdjYGDgu3Nm3wIGBoZ5DNz9QIq3gIEhE0jHOzAwOAPp9QkMDC4g/megABAw///fCmbEXfq0Acxg\n",
       "qH8ANAVI7wfSe0BKAyBGnAXigwYMzA1A+sLau31ACgAz0hhbkhGHbwAAAABJRU5ErkJggg==\n",
       "\" style=\"display:inline;vertical-align:middle;\" /></a></td></tr>\n",
       "</table>\n"
      ],
      "text/plain": [
       "0. (|S| , Naturals)\n",
       "   core type: ExprTuple\n",
       "   sub-expressions: 1, 2\n",
       "1. |S|\n",
       "   core type: Operation\n",
       "   operator: 3\n",
       "   operand: 4\n",
       "2. Naturals\n",
       "   core type: Literal\n",
       "   sub-expressions: \n",
       "3. card\n",
       "   core type: Literal\n",
       "   sub-expressions: \n",
       "4. S\n",
       "   core type: Variable\n",
       "   sub-expressions: "
      ]
     },
     "execution_count": 4,
     "metadata": {},
     "output_type": "execute_result"
    }
   ],
   "source": [
    "# display the expression information\n",
    "expr.exprInfo()"
   ]
  },
  {
   "cell_type": "code",
   "execution_count": null,
   "metadata": {},
   "outputs": [],
   "source": []
  }
 ],
 "metadata": {
  "kernelspec": {
   "display_name": "Python 3",
   "language": "python",
   "name": "python3"
  }
 },
 "nbformat": 4,
 "nbformat_minor": 0
}
