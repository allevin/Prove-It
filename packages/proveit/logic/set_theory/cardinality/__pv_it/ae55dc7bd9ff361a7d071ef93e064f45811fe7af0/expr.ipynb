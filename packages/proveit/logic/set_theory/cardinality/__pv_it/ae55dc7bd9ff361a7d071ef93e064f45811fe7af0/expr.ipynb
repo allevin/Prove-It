{
 "cells": [
  {
   "cell_type": "markdown",
   "metadata": {},
   "source": [
    "Expression of type <a class=\"ProveItLink\" href=\"../../../../../../../doc/html/api/proveit.number.Add.html\">Add</a>\n",
    "=======================\n",
    "# from context <a class=\"ProveItLink\" href=\"../../_context_.ipynb\">proveit.logic.set_theory.cardinality</a>"
   ]
  },
  {
   "cell_type": "code",
   "execution_count": 1,
   "metadata": {},
   "outputs": [],
   "source": [
    "# import Expression classes needed to build the expression\n",
    "from proveit._common_ import S\n",
    "from proveit.logic import Card\n",
    "from proveit.number import Add, one"
   ]
  },
  {
   "cell_type": "code",
   "execution_count": 2,
   "metadata": {},
   "outputs": [
    {
     "data": {
      "text/html": [
       "<strong id=\"expr\">expr:</strong> <a class=\"ProveItLink\" href=\"expr.ipynb\"><img src=\"data:image/png;base64,iVBORw0KGgoAAAANSUhEUgAAADoAAAAVBAMAAADlb+D4AAAAMFBMVEX///8iIiIQEBDMzMxEREQy\n",
       "MjLu7u5mZmZUVFSYmJiIiIi6urp2dnbc3NyqqqoAAAABhO6fAAAAAXRSTlMAQObYZgAAAK1JREFU\n",
       "KM9jeMsAAwgWApzGwkKTnVFeNhtT1g0iyzqBIeUDhmzKN4hsDwMDXwBMlu0ChM7ogMjyfmZgYF4A\n",
       "k+VbANXLBZHl/geUNcAly/t/MZKb0WUZ1v//cgG3LO8MfTXcsgwMPD9xyk4AegMqyx4aGqgaGtqA\n",
       "kGUrAJr9F5deYEAwsDfgkmWXYmBYgtNHHNwdLRMwZdmLvlZixiBcL9b45V5AWuzjlF2NhQUHAE+G\n",
       "UWb2yk15AAAAAElFTkSuQmCC\n",
       "\" style=\"display:inline;vertical-align:middle;\" /></a><br>"
      ],
      "text/plain": [
       "expr: |S| + 1"
      ]
     },
     "execution_count": 2,
     "metadata": {},
     "output_type": "execute_result"
    }
   ],
   "source": [
    "# build up the expression from sub-expressions\n",
    "expr = Add(Card(S), one)"
   ]
  },
  {
   "cell_type": "code",
   "execution_count": 3,
   "metadata": {},
   "outputs": [
    {
     "name": "stdout",
     "output_type": "stream",
     "text": [
      "Passed sanity check: built 'expr' is the same as the stored Expression.\n"
     ]
    }
   ],
   "source": [
    "# check that the built expression is the same as the stored expression\n",
    "%check_expr"
   ]
  },
  {
   "cell_type": "code",
   "execution_count": 4,
   "metadata": {},
   "outputs": [
    {
     "data": {
      "text/html": [
       "<table><tr><th>&nbsp;</th><th>core type</th><th>sub-expressions</th><th>expression</th></tr>\n",
       "<tr><td>0</td><td>Operation</td><td>operator:&nbsp;1<br>operands:&nbsp;2<br></td><td><a class=\"ProveItLink\" href=\"expr.ipynb\"><img src=\"data:image/png;base64,iVBORw0KGgoAAAANSUhEUgAAADoAAAAVBAMAAADlb+D4AAAAMFBMVEX///8iIiIQEBDMzMxEREQy\n",
       "MjLu7u5mZmZUVFSYmJiIiIi6urp2dnbc3NyqqqoAAAABhO6fAAAAAXRSTlMAQObYZgAAAK1JREFU\n",
       "KM9jeMsAAwgWApzGwkKTnVFeNhtT1g0iyzqBIeUDhmzKN4hsDwMDXwBMlu0ChM7ogMjyfmZgYF4A\n",
       "k+VbANXLBZHl/geUNcAly/t/MZKb0WUZ1v//cgG3LO8MfTXcsgwMPD9xyk4AegMqyx4aGqgaGtqA\n",
       "kGUrAJr9F5deYEAwsDfgkmWXYmBYgtNHHNwdLRMwZdmLvlZixiBcL9b45V5AWuzjlF2NhQUHAE+G\n",
       "UWb2yk15AAAAAElFTkSuQmCC\n",
       "\" style=\"display:inline;vertical-align:middle;\" /></a></td></tr>\n",
       "<tr><td>1</td><td>Literal</td><td></td><td><a class=\"ProveItLink\" href=\"../../../../../number/addition/__pv_it/3e6688136fa3c7aefbebe51301b7c3ebf0b69c440/expr.ipynb\"><img src=\"data:image/png;base64,iVBORw0KGgoAAAANSUhEUgAAAA4AAAAOBAMAAADtZjDiAAAAJFBMVEX///+6urpUVFQQEBAiIiIy\n",
       "MjJmZmaIiIiqqqrc3Nzu7u4AAACgHpL+AAAAAXRSTlMAQObYZgAAAB5JREFUCNdjYGBgWMkAAe2k\n",
       "0Kmhoc6hoUGk6BMHYgAHOwjcado9fwAAAABJRU5ErkJggg==\n",
       "\" style=\"display:inline;vertical-align:middle;\" /></a></td></tr>\n",
       "<tr><td>2</td><td>ExprTuple</td><td>3, 4</td><td><a class=\"ProveItLink\" href=\"../88c5d2844db11809e039c37d80e79f97b28739330/expr.ipynb\"><img src=\"data:image/png;base64,iVBORw0KGgoAAAANSUhEUgAAADkAAAAVBAMAAAAOWFv7AAAAMFBMVEX////c3NwiIiJERESqqqqY\n",
       "mJh2dnZmZmYQEBDu7u4yMjJUVFTMzMyIiIi6uroAAAAs73DqAAAAAXRSTlMAQObYZgAAARVJREFU\n",
       "KM9jYAACRwYYQLCggO8CQx6ck4ckEQciTkPFossr4xCylgwM7AeA9EqILFcAw+QPcNnJP4HEAgYG\n",
       "3gsQ2W0MDCwLYLKzd4NkwxgYOCaAZRn/MDDwIFzAC5KdwcDwCuIWvi9A2QOosswODGUQWcb/d5Dd\n",
       "DJZlK2BYChW7//+zAJos0B19UFnG6P5ONFm+BoZ/cPPYvqLJ8nyAyQYwMHBikW0By3IWAM3+iGmy\n",
       "KVgW6AAG9g1g2QlwWdYFDOlgWXZdBobLEFM+IfvoEViMm2/35gCIbD/QY+wVv0qBQf+AgUOAATUG\n",
       "+QRgHGBIsiagybLCObmIGMSU5QS6lEEaTfYCjM0NsoLxAsM9uOw9pJQDjBYAhmdU2ady0hEAAAAA\n",
       "SUVORK5CYII=\n",
       "\" style=\"display:inline;vertical-align:middle;\" /></a></td></tr>\n",
       "<tr><td>3</td><td>Operation</td><td>operator:&nbsp;5<br>operand:&nbsp;6<br></td><td><a class=\"ProveItLink\" href=\"../95f2bf025e6c63e7e2d400158ad3fb9ce650b0390/expr.ipynb\"><img src=\"data:image/png;base64,iVBORw0KGgoAAAANSUhEUgAAABYAAAAVBAMAAACwDgOmAAAAMFBMVEX///8iIiIQEBDMzMxEREQy\n",
       "MjLu7u5mZmZUVFSYmJiIiIi6urp2dnbc3NyqqqoAAAABhO6fAAAAAXRSTlMAQObYZgAAAHdJREFU\n",
       "CNdjeMsAA28ZTsPZpyHsGeVls6Fs1gkMKR+g7B4GBr4ACJv3MwMD8wIIm/sfkG0AFf+/GGHO+v9f\n",
       "LsDYvDP01eDmM/D8hLInMDCwQdlsBUBVfyFsoDUM7A0QNrsUA8MSqJkc3B0tExDuRHYzAfZqOHs1\n",
       "ACHeNq3hiKUHAAAAAElFTkSuQmCC\n",
       "\" style=\"display:inline;vertical-align:middle;\" /></a></td></tr>\n",
       "<tr><td>4</td><td>Literal</td><td></td><td><a class=\"ProveItLink\" href=\"../../../../../number/numeral/__pv_it/9be8badea4c35b9724062cecc501d17a3158d1d20/expr.ipynb\"><img src=\"data:image/png;base64,iVBORw0KGgoAAAANSUhEUgAAAAgAAAAPBAMAAAArJJMAAAAAHlBMVEX///+YmJgyMjIQEBBmZmaI\n",
       "iIhUVFTu7u5EREQAAAAw+MI4AAAAAXRSTlMAQObYZgAAACFJREFUCNdjYGBoZ2BgqJjOwFCWBiQY\n",
       "WEklWJwnOTKAAACjEQo8HvEr3AAAAABJRU5ErkJggg==\n",
       "\" style=\"display:inline;vertical-align:middle;\" /></a></td></tr>\n",
       "<tr><td>5</td><td>Literal</td><td></td><td><a class=\"ProveItLink\" href=\"../0c63ce1b557f058a248d364aa4246254a926fc430/expr.ipynb\"><img src=\"data:image/png;base64,iVBORw0KGgoAAAANSUhEUgAAACkAAAAOBAMAAABA5yhLAAAAMFBMVEX///+qqqpmZmbc3NxUVFSY\n",
       "mJhEREQiIiIyMjK6uroQEBDMzMyIiIh2dnbu7u4AAAA4MM1YAAAAAXRSTlMAQObYZgAAANRJREFU\n",
       "GNNjYMAAnFkKDFgAvwA20fkPsIlexybI0ATEfHfPbGAwOTvLgPOY5VkFBmafmx+BorsmcBRwLmbI\n",
       "Z+BlqeT4wDDLgO0fUOkaBrYA+wAGNYaZ7A6ME5i/MjA1MDCwfACq92dgqGF48H4CmMt+Aei4BKDo\n",
       "Nwa+3wwM8gxgLkjS/gADA/MfBsYPfAwaDGCuPMMDBv4ABoa4jwwsDdIMa4Gi7wUYPBg3MLAoMPBu\n",
       "aGUQV7jA/BMoyhHAWMQLpHXPnGMwOTM7ZwLnAiCP2efktpMMAOtBNwCkI0hKAAAAAElFTkSuQmCC\n",
       "\" style=\"display:inline;vertical-align:middle;\" /></a></td></tr>\n",
       "<tr><td>6</td><td>Variable</td><td></td><td><a class=\"ProveItLink\" href=\"../../../../../__pv_it/abeee18594afe51bfb1be95d9591fbba24ac53f30/expr.ipynb\"><img src=\"data:image/png;base64,iVBORw0KGgoAAAANSUhEUgAAAA0AAAAOBAMAAAAGUYvhAAAAMFBMVEX///8iIiIQEBCIiIjMzMzc\n",
       "3Nyqqqp2dnZEREQyMjK6urru7u5mZmZUVFSYmJgAAACI6eGPAAAAAXRSTlMAQObYZgAAAF1JREFU\n",
       "CNdjYGDgu3Nm3wIGBoZ5DNz9QIq3gIEhE0jHOzAwOAPp9QkMDC4g/megABAw///fCmbEXfq0Acxg\n",
       "qH8ANAVI7wfSe0BKAyBGnAXigwYMzA1A+sLau31ACgAz0hhbkhGHbwAAAABJRU5ErkJggg==\n",
       "\" style=\"display:inline;vertical-align:middle;\" /></a></td></tr>\n",
       "</table>\n"
      ],
      "text/plain": [
       "0. |S| + 1\n",
       "   core type: Operation\n",
       "   operator: 1\n",
       "   operands: 2\n",
       "1. +\n",
       "   core type: Literal\n",
       "   sub-expressions: \n",
       "2. (|S| , 1)\n",
       "   core type: ExprTuple\n",
       "   sub-expressions: 3, 4\n",
       "3. |S|\n",
       "   core type: Operation\n",
       "   operator: 5\n",
       "   operand: 6\n",
       "4. 1\n",
       "   core type: Literal\n",
       "   sub-expressions: \n",
       "5. card\n",
       "   core type: Literal\n",
       "   sub-expressions: \n",
       "6. S\n",
       "   core type: Variable\n",
       "   sub-expressions: "
      ]
     },
     "execution_count": 4,
     "metadata": {},
     "output_type": "execute_result"
    }
   ],
   "source": [
    "# display the expression information\n",
    "expr.exprInfo()"
   ]
  },
  {
   "cell_type": "code",
   "execution_count": null,
   "metadata": {},
   "outputs": [],
   "source": []
  }
 ],
 "metadata": {
  "kernelspec": {
   "display_name": "Python 3",
   "language": "python",
   "name": "python3"
  }
 },
 "nbformat": 4,
 "nbformat_minor": 0
}
