{
 "cells": [
  {
   "cell_type": "markdown",
   "metadata": {},
   "source": [
    "Expression of type <a class=\"ProveItLink\" href=\"../../../../../../../doc/html/api/proveit.ExprTuple.html\">ExprTuple</a>\n",
    "=======================\n",
    "# from context <a class=\"ProveItLink\" href=\"../../_context_.ipynb\">proveit.logic.set_theory.cardinality</a>"
   ]
  },
  {
   "cell_type": "code",
   "execution_count": 1,
   "metadata": {},
   "outputs": [],
   "source": [
    "# import Expression classes needed to build the expression\n",
    "from proveit import ExprTuple\n",
    "from proveit._common_ import S, x\n",
    "from proveit.logic import Card, InSet, NotInSet\n",
    "from proveit.number import Naturals"
   ]
  },
  {
   "cell_type": "code",
   "execution_count": 2,
   "metadata": {},
   "outputs": [
    {
     "data": {
      "text/html": [
       "<strong id=\"expr\">expr:</strong> <a class=\"ProveItLink\" href=\"expr.ipynb\"><img src=\"data:image/png;base64,iVBORw0KGgoAAAANSUhEUgAAAIoAAAAVCAMAAACuaYbAAAAARVBMVEX///8sLCxlZWUbGxsJCQkd\n",
       "HR0PDw8WFhbc3NwiIiJERESqqqqYmJh2dnZmZmYQEBDu7u4yMjJUVFTMzMyIiIi6uroAAAAHJ3au\n",
       "AAAAAXRSTlMAQObYZgAAAjtJREFUSMe1VtmS2zAM47bbru6DovT/n1odzlqUHTszm+ohk9CGgIDQ\n",
       "AbANLWAdJ6UfjhzuXqD6YfOhflL64ZBPpJiNKSHnNeicC/XppZQQi1KxTe1kkfolJYNpUvBgApd6\n",
       "oc+380bTiFS5dUUZSKp/Ky+a4viEO1P93j6IWDfQjpzEWyko0wb2r/aH43emalD74cMsRZRhVaJV\n",
       "SqAo64j7VLn6ieklKR389TdOpZmpvlDnyJFlNJfR9pQWKSmaJXOYau9Da++tlAFWbEXOTK3dGpwF\n",
       "7kqhdLKChDqEvxqiqcdlkSIsodDkiIND5G9NTI3MjexMvFTqGPpnKeq4x7Te1CAaWqSE+ueMNOAl\n",
       "BxNx/MQ0IuPzYoEw6EsP0CQlKDiVAtjiwqXYTlMnTxwcV193ptYvDyWf7Ge2GF7KXm4jcimhxWVx\n",
       "pT2bpQ/wn88ZzJlaZMoiZauHVcq6OX1LgWQhHWPr6bCzWb4NMqYhxetJSnCPSImlQfKZFDAaDt0b\n",
       "CzUwMJ+BM40GqTm2enPQ4dozNM+kgBUKJmIwokcFKMzg7PhRy5gaKrZFtEtxshtL6hCfIA9br3pU\n",
       "XOxOb39bV8tVbZkgBsbEzwDGNBZzlpMUhIyIypwkWUTHJsuxePU4Gft2uVkdFNlgLRkO/r1Yypja\n",
       "+qpkXjy7ESwljVGeLYJvcVfXm18f1+C28Y+D6B33FXN5jN9cwyydXBL+ixShbo7L4ZfAt0ihy4fm\n",
       "GoybaT3rdOSl910ob0zp5+I/E+wkEu5P0PgAAAAASUVORK5CYII=\n",
       "\" style=\"display:inline;vertical-align:middle;\" /></a><br>"
      ],
      "text/plain": [
       "expr: (|S| in Naturals , x not-in S)"
      ]
     },
     "execution_count": 2,
     "metadata": {},
     "output_type": "execute_result"
    }
   ],
   "source": [
    "# build up the expression from sub-expressions\n",
    "expr = ExprTuple(InSet(Card(S), Naturals), NotInSet(x, S))"
   ]
  },
  {
   "cell_type": "code",
   "execution_count": 3,
   "metadata": {},
   "outputs": [
    {
     "name": "stdout",
     "output_type": "stream",
     "text": [
      "Passed sanity check: built 'expr' is the same as the stored Expression.\n"
     ]
    }
   ],
   "source": [
    "# check that the built expression is the same as the stored expression\n",
    "%check_expr"
   ]
  },
  {
   "cell_type": "code",
   "execution_count": 4,
   "metadata": {},
   "outputs": [
    {
     "data": {
      "text/html": [
       "<table><tr><th>&nbsp;</th><th>core type</th><th>sub-expressions</th><th>expression</th></tr>\n",
       "<tr><td>0</td><td>ExprTuple</td><td>1, 2</td><td><a class=\"ProveItLink\" href=\"expr.ipynb\"><img src=\"data:image/png;base64,iVBORw0KGgoAAAANSUhEUgAAAIoAAAAVCAMAAACuaYbAAAAARVBMVEX///8sLCxlZWUbGxsJCQkd\n",
       "HR0PDw8WFhbc3NwiIiJERESqqqqYmJh2dnZmZmYQEBDu7u4yMjJUVFTMzMyIiIi6uroAAAAHJ3au\n",
       "AAAAAXRSTlMAQObYZgAAAjtJREFUSMe1VtmS2zAM47bbru6DovT/n1odzlqUHTszm+ohk9CGgIDQ\n",
       "AbANLWAdJ6UfjhzuXqD6YfOhflL64ZBPpJiNKSHnNeicC/XppZQQi1KxTe1kkfolJYNpUvBgApd6\n",
       "oc+380bTiFS5dUUZSKp/Ky+a4viEO1P93j6IWDfQjpzEWyko0wb2r/aH43emalD74cMsRZRhVaJV\n",
       "SqAo64j7VLn6ieklKR389TdOpZmpvlDnyJFlNJfR9pQWKSmaJXOYau9Da++tlAFWbEXOTK3dGpwF\n",
       "7kqhdLKChDqEvxqiqcdlkSIsodDkiIND5G9NTI3MjexMvFTqGPpnKeq4x7Te1CAaWqSE+ueMNOAl\n",
       "BxNx/MQ0IuPzYoEw6EsP0CQlKDiVAtjiwqXYTlMnTxwcV193ptYvDyWf7Ge2GF7KXm4jcimhxWVx\n",
       "pT2bpQ/wn88ZzJlaZMoiZauHVcq6OX1LgWQhHWPr6bCzWb4NMqYhxetJSnCPSImlQfKZFDAaDt0b\n",
       "CzUwMJ+BM40GqTm2enPQ4dozNM+kgBUKJmIwokcFKMzg7PhRy5gaKrZFtEtxshtL6hCfIA9br3pU\n",
       "XOxOb39bV8tVbZkgBsbEzwDGNBZzlpMUhIyIypwkWUTHJsuxePU4Gft2uVkdFNlgLRkO/r1Yypja\n",
       "+qpkXjy7ESwljVGeLYJvcVfXm18f1+C28Y+D6B33FXN5jN9cwyydXBL+ixShbo7L4ZfAt0ihy4fm\n",
       "GoybaT3rdOSl910ob0zp5+I/E+wkEu5P0PgAAAAASUVORK5CYII=\n",
       "\" style=\"display:inline;vertical-align:middle;\" /></a></td></tr>\n",
       "<tr><td>1</td><td>Operation</td><td>operator:&nbsp;3<br>operands:&nbsp;4<br></td><td><a class=\"ProveItLink\" href=\"../3f504b85d9a76bc139d79f59098949e35a9bbe950/expr.ipynb\"><img src=\"data:image/png;base64,iVBORw0KGgoAAAANSUhEUgAAAEAAAAAVBAMAAAAEBPWpAAAAMFBMVEX///8iIiIQEBDMzMxEREQy\n",
       "MjLu7u5mZmZUVFSYmJiIiIi6urp2dnbc3NyqqqoAAAABhO6fAAAAAXRSTlMAQObYZgAAAQ5JREFU\n",
       "KM9jeMsABXwXGLCC0zAGzwY8CmaUl81GU8AW7xLGwC4vB1bAOoEh5QO6CSwTTBgY+CEm9ABdEICu\n",
       "gEOYawEDE1gB72cGBuYFUAVsSwUFA8AKtiY0QxVw/wMqMIAqMJ0GM8G4ITUBasL/xXBf8LrBrTB4\n",
       "xewAUcCw/v+XC1AFLBcQCtg3zIIq4J2hrwZVkIJwpAFDG4cRLKB4fkIVbBIUhDnSgCGDLQisYALQ\n",
       "7TAFFsgmMB8Am8BWALTkL1RBIrIChnksIAV8QBPZG6AKOCYgK+C5AlLALsXAsATmTTZpeFCD+KUg\n",
       "BRzcHS0T4LF5tRgizx2vAiRTsUT3i0CIL0hLDxQpWA1jcGFXAAB3fE6fXCBGvAAAAABJRU5ErkJg\n",
       "gg==\n",
       "\" style=\"display:inline;vertical-align:middle;\" /></a></td></tr>\n",
       "<tr><td>2</td><td>Operation</td><td>operator:&nbsp;5<br>operands:&nbsp;6<br></td><td><a class=\"ProveItLink\" href=\"../ff773238e70597bc9d83d9911d34217c7282a5270/expr.ipynb\"><img src=\"data:image/png;base64,iVBORw0KGgoAAAANSUhEUgAAADMAAAAVCAMAAADciiYzAAAAQlBMVEX///9bW1sNDQ0JCQkdHR0P\n",
       "Dw8WFhYyMjK6urpERETMzMwQEBAiIiKYmJju7u5mZmaqqqpUVFSIiIh2dnbc3NwAAADXC9tbAAAA\n",
       "AXRSTlMAQObYZgAAAPVJREFUOMuVU9t2xCAItFc1Agrq//9qLbktm66n4cGE4MAwEOcmFsjdNriP\n",
       "Wdj6yDlnwjDDZBv1OA6KfU7NeFz1Ufyr6yQevr/gId76shKWV514JBeb0bCXNaTQVoVbkXwmaHEI\n",
       "RpZE612Wg8bgiYAunfS1gjyRkD5sq13VH82dWaLK9Dychpx60q+/B0dDPQHA58c4LhrVjvtrksss\n",
       "a7Hz3CgcmFXHgwvBZTiU95vaEDZtx8nJn9GFbDD7JLOuUxnVYhoZHugRBF7sGoGGJW4iSaVaBY1E\n",
       "/t1i2AVmjjhbNXxj/5duM7N78y9r8f4PKngfMy/zAx2GC3mVEDiLAAAAAElFTkSuQmCC\n",
       "\" style=\"display:inline;vertical-align:middle;\" /></a></td></tr>\n",
       "<tr><td>3</td><td>Literal</td><td></td><td><a class=\"ProveItLink\" href=\"../../../membership/__pv_it/088cbc857536a28d4119ad9639a84270ccb0545d0/expr.ipynb\"><img src=\"data:image/png;base64,iVBORw0KGgoAAAANSUhEUgAAAAwAAAAMBAMAAACkW0HUAAAALVBMVEX///+qqqpmZmZUVFQQEBC6\n",
       "urpERETc3NyYmJjMzMwiIiIyMjKIiIju7u4AAACYsrA9AAAAAXRSTlMAQObYZgAAADxJREFUCNdj\n",
       "YOA9vWrVBgaG2b0MQMCeCyIZ2ArA1DUwyRCyahVIyWQI7xaEYm4AU7xLIdxqTQgtvGvVBgCkcQ7e\n",
       "geM/tQAAAABJRU5ErkJggg==\n",
       "\" style=\"display:inline;vertical-align:middle;\" /></a></td></tr>\n",
       "<tr><td>4</td><td>ExprTuple</td><td>7, 8</td><td><a class=\"ProveItLink\" href=\"../ad46d47407c13f702f58844f7f1610812719a2650/expr.ipynb\"><img src=\"data:image/png;base64,iVBORw0KGgoAAAANSUhEUgAAAD4AAAAVBAMAAADshECCAAAAMFBMVEX////c3NwiIiJERESqqqqY\n",
       "mJh2dnZmZmYQEBDu7u4yMjJUVFTMzMyIiIi6uroAAAAs73DqAAAAAXRSTlMAQObYZgAAAU9JREFU\n",
       "KM9t0r9Lw0AUB/BvqM0Pk8aAo6ujoqD+Aa6CkMHJUunmVpwUxUHQxcUG3OriItjFVgRBdAi4FCp4\n",
       "4Cq1OEknf25ifXeXXC/iQcK79yF37+4FoDGPdAwiNXyGippUMpTv0qudZIsbmyuJO42ZOqypcWzT\n",
       "pC59OMTha/p9LrwFRigJFJj0S2DoOHV3gtI2bVCGHQk3vgFPVeL2ohvuzg56sir/kzxWftesReSY\n",
       "xbp0o/+o1e/Gi94091WcJNmn/kegudUtcV/AQeJGsbqvOa7cFgUv+FGrml+6HzmnFNynHlKxGffK\n",
       "LeF7wp012uFNdyzlxPpzwulqYDWFR4mboxQs0wl41poEHuRK7/x+eWO2xPmeRdb1ry9C6dUAfmOX\n",
       "4ho9Z7ADZPvrB4MG0/1SC7Ke134Ak6n+/ut8i7E/zjQ/5xfL0FGJTub/KsT4BXr1XK2JL9f1AAAA\n",
       "AElFTkSuQmCC\n",
       "\" style=\"display:inline;vertical-align:middle;\" /></a></td></tr>\n",
       "<tr><td>5</td><td>Literal</td><td></td><td><a class=\"ProveItLink\" href=\"../../../membership/__pv_it/cc61ce5cf0825a46fd70733410654132b7dd0e550/expr.ipynb\"><img src=\"data:image/png;base64,iVBORw0KGgoAAAANSUhEUgAAAAwAAAAVCAMAAABFcv+GAAAAQlBMVEX///9bW1sNDQ0JCQkdHR0Q\n",
       "EBAPDw8WFhaYmJiIiIgyMjLc3NxERER2dnaqqqpmZmZUVFTMzMwiIiLu7u66uroAAACAfls5AAAA\n",
       "AXRSTlMAQObYZgAAAGtJREFUGNNNTkkSwCAIo7sirQr8/621LhUOYQIhAWCUCsxiQ3Iyi6hW1bt4\n",
       "5OtkrGp0AhTqPFCxEWyiOvO+HdCH2EL0YOZ9K4A97H66L5sQSA40DiKsKf+PBFwnAbckbG4jdsjI\n",
       "PO+dIXPxAnRTBHGTKJqmAAAAAElFTkSuQmCC\n",
       "\" style=\"display:inline;vertical-align:middle;\" /></a></td></tr>\n",
       "<tr><td>6</td><td>ExprTuple</td><td>9, 11</td><td><a class=\"ProveItLink\" href=\"../75ea65b79fca5a7e0a4b0a55cd46edaf622a0d8e0/expr.ipynb\"><img src=\"data:image/png;base64,iVBORw0KGgoAAAANSUhEUgAAAC8AAAAVBAMAAAAk6KpUAAAAMFBMVEX////c3NwiIiJERESqqqqY\n",
       "mJh2dnZmZmYQEBDu7u4yMjJUVFTMzMyIiIi6uroAAAAs73DqAAAAAXRSTlMAQObYZgAAARhJREFU\n",
       "KM9jYMAJ+C5gisWBiNOoYqzby6c+YD8AZK1ElVjKwGnPwLCAgYEX1STuBAYGLwaGMAYGjgkoEvJA\n",
       "Q84yMMxgYHiFatJ7BwaGMwwMzA4MZUCe2G2R61AT5f+C7GVgKwBaxsCZwKrKoQCR4P3/3xBIsSxg\n",
       "6ANKM/B+YDkANUt0xw+grXwNDP+AOhi4DZCsyQ9gYOD5AJIAOg3mZlYgng+RaIE6EuLq6SCOANgo\n",
       "U6AygfsMvBPAUkC/MVSDdC5gSGdg8A+wYJBl4PwEFCi6wMBrAHHuIwaGydem5QYwcPYDjdjwercp\n",
       "yEiuBwwcAvDwF0C4DBgkrAkMSC6CgVzkYEeS4AQGO4M0jIcU/twgUxmxRO0dBgYA4X0+BGW7KnUA\n",
       "AAAASUVORK5CYII=\n",
       "\" style=\"display:inline;vertical-align:middle;\" /></a></td></tr>\n",
       "<tr><td>7</td><td>Operation</td><td>operator:&nbsp;10<br>operand:&nbsp;11<br></td><td><a class=\"ProveItLink\" href=\"../95f2bf025e6c63e7e2d400158ad3fb9ce650b0390/expr.ipynb\"><img src=\"data:image/png;base64,iVBORw0KGgoAAAANSUhEUgAAABYAAAAVBAMAAACwDgOmAAAAMFBMVEX///8iIiIQEBDMzMxEREQy\n",
       "MjLu7u5mZmZUVFSYmJiIiIi6urp2dnbc3NyqqqoAAAABhO6fAAAAAXRSTlMAQObYZgAAAHdJREFU\n",
       "CNdjeMsAA28ZTsPZpyHsGeVls6Fs1gkMKR+g7B4GBr4ACJv3MwMD8wIIm/sfkG0AFf+/GGHO+v9f\n",
       "LsDYvDP01eDmM/D8hLInMDCwQdlsBUBVfyFsoDUM7A0QNrsUA8MSqJkc3B0tExDuRHYzAfZqOHs1\n",
       "ACHeNq3hiKUHAAAAAElFTkSuQmCC\n",
       "\" style=\"display:inline;vertical-align:middle;\" /></a></td></tr>\n",
       "<tr><td>8</td><td>Literal</td><td></td><td><a class=\"ProveItLink\" href=\"../../../../../number/sets/integer/__pv_it/e5d9bd86b06b357eee742ad868997123619e09700/expr.ipynb\"><img src=\"data:image/png;base64,iVBORw0KGgoAAAANSUhEUgAAAA8AAAAOBAMAAAACpFvcAAAAMFBMVEX////c3Nx2dna6uroQEBCI\n",
       "iIhUVFTMzMyYmJiqqqoiIiJmZmZEREQyMjLu7u4AAADjlg78AAAAAXRSTlMAQObYZgAAAGBJREFU\n",
       "CNdjePvn7AOGXb8mMDCcYD/AwPCBgYEhqyCUgcEByEi+x1YAZqSX8d2DMDgDaiAMhs0cARAG24N0\n",
       "CIMv4S2EwVDEDmVwTDgAYTAoghiHgZj7AgOD7Rcgj+8CAwA9oh2B0HK+MAAAAABJRU5ErkJggg==\n",
       "\" style=\"display:inline;vertical-align:middle;\" /></a></td></tr>\n",
       "<tr><td>9</td><td>Variable</td><td></td><td><a class=\"ProveItLink\" href=\"../../../../../__pv_it/530be409e3083890784cf1d7b28c9e67e90af9360/expr.ipynb\"><img src=\"data:image/png;base64,iVBORw0KGgoAAAANSUhEUgAAAAsAAAAJBAMAAAAWSsseAAAAKlBMVEX///9ERETMzMwQEBAiIiKY\n",
       "mJju7u5mZmaqqqpUVFSIiIh2dnbc3NwAAAA/vyDhAAAAAXRSTlMAQObYZgAAAENJREFUCNdjYDi9\n",
       "8sTyBQxsG1hdmR0YuBm4LnAoMLAxcAowgADzAjB1VoEhgYH1wFoGrgSG3gBhhlMMDImrs3cFMAAA\n",
       "t0YN+iTRa+sAAAAASUVORK5CYII=\n",
       "\" style=\"display:inline;vertical-align:middle;\" /></a></td></tr>\n",
       "<tr><td>10</td><td>Literal</td><td></td><td><a class=\"ProveItLink\" href=\"../0c63ce1b557f058a248d364aa4246254a926fc430/expr.ipynb\"><img src=\"data:image/png;base64,iVBORw0KGgoAAAANSUhEUgAAACkAAAAOBAMAAABA5yhLAAAAMFBMVEX///+qqqpmZmbc3NxUVFSY\n",
       "mJhEREQiIiIyMjK6uroQEBDMzMyIiIh2dnbu7u4AAAA4MM1YAAAAAXRSTlMAQObYZgAAANRJREFU\n",
       "GNNjYMAAnFkKDFgAvwA20fkPsIlexybI0ATEfHfPbGAwOTvLgPOY5VkFBmafmx+BorsmcBRwLmbI\n",
       "Z+BlqeT4wDDLgO0fUOkaBrYA+wAGNYaZ7A6ME5i/MjA1MDCwfACq92dgqGF48H4CmMt+Aei4BKDo\n",
       "Nwa+3wwM8gxgLkjS/gADA/MfBsYPfAwaDGCuPMMDBv4ABoa4jwwsDdIMa4Gi7wUYPBg3MLAoMPBu\n",
       "aGUQV7jA/BMoyhHAWMQLpHXPnGMwOTM7ZwLnAiCP2efktpMMAOtBNwCkI0hKAAAAAElFTkSuQmCC\n",
       "\" style=\"display:inline;vertical-align:middle;\" /></a></td></tr>\n",
       "<tr><td>11</td><td>Variable</td><td></td><td><a class=\"ProveItLink\" href=\"../../../../../__pv_it/abeee18594afe51bfb1be95d9591fbba24ac53f30/expr.ipynb\"><img src=\"data:image/png;base64,iVBORw0KGgoAAAANSUhEUgAAAA0AAAAOBAMAAAAGUYvhAAAAMFBMVEX///8iIiIQEBCIiIjMzMzc\n",
       "3Nyqqqp2dnZEREQyMjK6urru7u5mZmZUVFSYmJgAAACI6eGPAAAAAXRSTlMAQObYZgAAAF1JREFU\n",
       "CNdjYGDgu3Nm3wIGBoZ5DNz9QIq3gIEhE0jHOzAwOAPp9QkMDC4g/megABAw///fCmbEXfq0Acxg\n",
       "qH8ANAVI7wfSe0BKAyBGnAXigwYMzA1A+sLau31ACgAz0hhbkhGHbwAAAABJRU5ErkJggg==\n",
       "\" style=\"display:inline;vertical-align:middle;\" /></a></td></tr>\n",
       "</table>\n"
      ],
      "text/plain": [
       "0. (|S| in Naturals , x not-in S)\n",
       "   core type: ExprTuple\n",
       "   sub-expressions: 1, 2\n",
       "1. |S| in Naturals\n",
       "   core type: Operation\n",
       "   operator: 3\n",
       "   operands: 4\n",
       "2. x not-in S\n",
       "   core type: Operation\n",
       "   operator: 5\n",
       "   operands: 6\n",
       "3. in\n",
       "   core type: Literal\n",
       "   sub-expressions: \n",
       "4. (|S| , Naturals)\n",
       "   core type: ExprTuple\n",
       "   sub-expressions: 7, 8\n",
       "5. not-in\n",
       "   core type: Literal\n",
       "   sub-expressions: \n",
       "6. (x , S)\n",
       "   core type: ExprTuple\n",
       "   sub-expressions: 9, 11\n",
       "7. |S|\n",
       "   core type: Operation\n",
       "   operator: 10\n",
       "   operand: 11\n",
       "8. Naturals\n",
       "   core type: Literal\n",
       "   sub-expressions: \n",
       "9. x\n",
       "   core type: Variable\n",
       "   sub-expressions: \n",
       "10. card\n",
       "    core type: Literal\n",
       "    sub-expressions: \n",
       "11. S\n",
       "    core type: Variable\n",
       "    sub-expressions: "
      ]
     },
     "execution_count": 4,
     "metadata": {},
     "output_type": "execute_result"
    }
   ],
   "source": [
    "# display the expression information\n",
    "expr.exprInfo()"
   ]
  },
  {
   "cell_type": "code",
   "execution_count": null,
   "metadata": {},
   "outputs": [],
   "source": []
  }
 ],
 "metadata": {
  "kernelspec": {
   "display_name": "Python 3",
   "language": "python",
   "name": "python3"
  }
 },
 "nbformat": 4,
 "nbformat_minor": 0
}
