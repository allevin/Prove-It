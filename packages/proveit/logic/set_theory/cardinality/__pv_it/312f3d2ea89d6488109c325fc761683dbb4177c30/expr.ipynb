{
 "cells": [
  {
   "cell_type": "markdown",
   "metadata": {},
   "source": [
    "Expression of type <a class=\"ProveItLink\" href=\"../../../../../../../doc/html/api/proveit.number.GreaterEq.html\">GreaterEq</a>\n",
    "=======================\n",
    "# from context <a class=\"ProveItLink\" href=\"../../_context_.ipynb\">proveit.logic.set_theory.cardinality</a>"
   ]
  },
  {
   "cell_type": "code",
   "execution_count": 1,
   "metadata": {},
   "outputs": [],
   "source": [
    "# import Expression classes needed to build the expression\n",
    "from proveit._common_ import N, S\n",
    "from proveit.logic import Card\n",
    "from proveit.number import GreaterEq"
   ]
  },
  {
   "cell_type": "code",
   "execution_count": 2,
   "metadata": {},
   "outputs": [
    {
     "data": {
      "text/html": [
       "<strong id=\"expr\">expr:</strong> <a class=\"ProveItLink\" href=\"expr.ipynb\"><img src=\"data:image/png;base64,iVBORw0KGgoAAAANSUhEUgAAAEYAAAAVBAMAAAAJGoXuAAAAMFBMVEX///8iIiIQEBDMzMxEREQy\n",
       "MjLu7u5mZmZUVFSYmJiIiIi6urp2dnbc3NyqqqoAAAABhO6fAAAAAXRSTlMAQObYZgAAASJJREFU\n",
       "KM9jeMsABXwXGHCB0zAGzwb8amaUl83GVMPj/5uB4eknX7Aa1gkMKR8gahKPISli/QIkHCDm9ABd\n",
       "EwA152ktQs1Of6AbD4DV8H5mYGBeALNrSzNczdn3BQzMD8BquP8B1RjA3WPiDVPTwPiBgSsBYs7/\n",
       "xSj+uhENZRRw/WRgh/pr/f8vF5D9fl0YTHE/YPvIwANVwztDXw1ZzcQyiN8TGOo37IaHIc9PhBq2\n",
       "hVD/A62573AMomYCUByhhu3gAga4Gpa/BWA1bECK9y9MDW/hBJiV+4BO+n4ArIYvAKilAaqGt/UB\n",
       "3Fkga+Q3gNWwSzEwLIH5/QpSrAWAvAyJUw7ujpYJmPHO1vQVKMpCUtogTc1FQRCQJt2c1TAGF041\n",
       "AA7QYYjLVc3BAAAAAElFTkSuQmCC\n",
       "\" style=\"display:inline;vertical-align:middle;\" /></a><br>"
      ],
      "text/plain": [
       "expr: |S| >= N"
      ]
     },
     "execution_count": 2,
     "metadata": {},
     "output_type": "execute_result"
    }
   ],
   "source": [
    "# build up the expression from sub-expressions\n",
    "expr = GreaterEq(Card(S), N)"
   ]
  },
  {
   "cell_type": "code",
   "execution_count": 3,
   "metadata": {},
   "outputs": [
    {
     "name": "stdout",
     "output_type": "stream",
     "text": [
      "Passed sanity check: built 'expr' is the same as the stored Expression.\n"
     ]
    }
   ],
   "source": [
    "# check that the built expression is the same as the stored expression\n",
    "%check_expr"
   ]
  },
  {
   "cell_type": "code",
   "execution_count": 4,
   "metadata": {},
   "outputs": [
    {
     "data": {
      "text/html": [
       "<table><tr><th>&nbsp;</th><th>core type</th><th>sub-expressions</th><th>expression</th></tr>\n",
       "<tr><td>0</td><td>Operation</td><td>operator:&nbsp;1<br>operands:&nbsp;2<br></td><td><a class=\"ProveItLink\" href=\"expr.ipynb\"><img src=\"data:image/png;base64,iVBORw0KGgoAAAANSUhEUgAAAEYAAAAVBAMAAAAJGoXuAAAAMFBMVEX///8iIiIQEBDMzMxEREQy\n",
       "MjLu7u5mZmZUVFSYmJiIiIi6urp2dnbc3NyqqqoAAAABhO6fAAAAAXRSTlMAQObYZgAAASJJREFU\n",
       "KM9jeMsABXwXGHCB0zAGzwb8amaUl83GVMPj/5uB4eknX7Aa1gkMKR8gahKPISli/QIkHCDm9ABd\n",
       "EwA152ktQs1Of6AbD4DV8H5mYGBeALNrSzNczdn3BQzMD8BquP8B1RjA3WPiDVPTwPiBgSsBYs7/\n",
       "xSj+uhENZRRw/WRgh/pr/f8vF5D9fl0YTHE/YPvIwANVwztDXw1ZzcQyiN8TGOo37IaHIc9PhBq2\n",
       "hVD/A62573AMomYCUByhhu3gAga4Gpa/BWA1bECK9y9MDW/hBJiV+4BO+n4ArIYvAKilAaqGt/UB\n",
       "3Fkga+Q3gNWwSzEwLIH5/QpSrAWAvAyJUw7ujpYJmPHO1vQVKMpCUtogTc1FQRCQJt2c1TAGF041\n",
       "AA7QYYjLVc3BAAAAAElFTkSuQmCC\n",
       "\" style=\"display:inline;vertical-align:middle;\" /></a></td></tr>\n",
       "<tr><td>1</td><td>Literal</td><td></td><td><a class=\"ProveItLink\" href=\"../../../../../number/ordering/__pv_it/96143560a3dbc26f943e0a126972c9bfadab3fc50/expr.ipynb\"><img src=\"data:image/png;base64,iVBORw0KGgoAAAANSUhEUgAAAA4AAAARBAMAAAAf5oCsAAAALVBMVEX///+IiIiYmJjMzMxUVFRE\n",
       "RES6urrc3NxmZmYyMjKqqqp2dnYiIiLu7u4AAACqGg1VAAAAAXRSTlMAQObYZgAAAEFJREFUCNdj\n",
       "YICCO3uhjJXtUEaqM5RhGgZllEyDMioOQ2idXhDJKwPWy7tHAESx9yiAKc8FYCWlCQx4Qc0ZEDgG\n",
       "ALzAEHC/pigGAAAAAElFTkSuQmCC\n",
       "\" style=\"display:inline;vertical-align:middle;\" /></a></td></tr>\n",
       "<tr><td>2</td><td>ExprTuple</td><td>3, 4</td><td><a class=\"ProveItLink\" href=\"../967bfd376de550d8da1a3b1db6c968c3d931ff9c0/expr.ipynb\"><img src=\"data:image/png;base64,iVBORw0KGgoAAAANSUhEUgAAAEIAAAAVBAMAAAAA8SWUAAAAMFBMVEX////c3NwiIiJERESqqqqY\n",
       "mJh2dnZmZmYQEBDu7u4yMjJUVFTMzMyIiIi6uroAAAAs73DqAAAAAXRSTlMAQObYZgAAAV1JREFU\n",
       "KM91kr9Lw0AUx7+xNmlqE7J38C8QK+jcunYxswVJJ3EpmRRB0MHFxRbcnLo4uEhFEMGlu4MBV6lF\n",
       "FMRB+sOiiLS+u0tzuYAPcnnv5ZP38wCSVUxFajGxA9Qio5b4mO7ScRf6Kzu7GxGhF8dA+XsJe2Sc\n",
       "CyLr4qQnY2SHdBToDViBIK6B2aYkXosO4FEaD5kGJ7RfIBerqLrmI1cCzAO8i/rsTyLakmjN9GDR\n",
       "z1jGtiC0yaPSi2+NYDBlE2eh/2kydCRhl8wBdKaVcRwSWqV+JAm9gf3uB9PeMI5i6yNJUIL5whbT\n",
       "7qeES2WrRKrvC+KQEyZZWl8SL1TKlyeyrHCChgWjxQnWIliCRbYTrFM3zG8sAA8i2oD5m6w7iG6f\n",
       "uX/Ovr1yBVF3YN78kJHixAUyDtTt2058/TR1Wo1KpJULogfR9v8hTunJJ4hAIS7ZuAN0IkcncQut\n",
       "Nv4AKwBcpEZbfF4AAAAASUVORK5CYII=\n",
       "\" style=\"display:inline;vertical-align:middle;\" /></a></td></tr>\n",
       "<tr><td>3</td><td>Operation</td><td>operator:&nbsp;5<br>operand:&nbsp;6<br></td><td><a class=\"ProveItLink\" href=\"../95f2bf025e6c63e7e2d400158ad3fb9ce650b0390/expr.ipynb\"><img src=\"data:image/png;base64,iVBORw0KGgoAAAANSUhEUgAAABYAAAAVBAMAAACwDgOmAAAAMFBMVEX///8iIiIQEBDMzMxEREQy\n",
       "MjLu7u5mZmZUVFSYmJiIiIi6urp2dnbc3NyqqqoAAAABhO6fAAAAAXRSTlMAQObYZgAAAHdJREFU\n",
       "CNdjeMsAA28ZTsPZpyHsGeVls6Fs1gkMKR+g7B4GBr4ACJv3MwMD8wIIm/sfkG0AFf+/GGHO+v9f\n",
       "LsDYvDP01eDmM/D8hLInMDCwQdlsBUBVfyFsoDUM7A0QNrsUA8MSqJkc3B0tExDuRHYzAfZqOHs1\n",
       "ACHeNq3hiKUHAAAAAElFTkSuQmCC\n",
       "\" style=\"display:inline;vertical-align:middle;\" /></a></td></tr>\n",
       "<tr><td>4</td><td>Variable</td><td></td><td><a class=\"ProveItLink\" href=\"../../../../../__pv_it/ae9ddf80252f70e11ca2860a3730a6814d4db81e0/expr.ipynb\"><img src=\"data:image/png;base64,iVBORw0KGgoAAAANSUhEUgAAABMAAAAOBAMAAAA/Njq6AAAAMFBMVEX////u7u6IiIgiIiJUVFTM\n",
       "zMxmZmaYmJjc3NwQEBAyMjKqqqq6urpERER2dnYAAAC5iMb0AAAAAXRSTlMAQObYZgAAAHZJREFU\n",
       "CNdjYGB4+/8AA/f6uQ0MQLD+AgMDL4jBwFP7g4GBD8zk6/7GwBANZrIw2DMwKIKZbAz6BQwJYOZp\n",
       "BnkDhgdg5kMGtj88B8DMBAaOv3wCUCbD/TaIsRsYGM7nQYwFyjH/ATO5gJjpA4glMn85kAS6ggEA\n",
       "O5EZH6rWnBkAAAAASUVORK5CYII=\n",
       "\" style=\"display:inline;vertical-align:middle;\" /></a></td></tr>\n",
       "<tr><td>5</td><td>Literal</td><td></td><td><a class=\"ProveItLink\" href=\"../0c63ce1b557f058a248d364aa4246254a926fc430/expr.ipynb\"><img src=\"data:image/png;base64,iVBORw0KGgoAAAANSUhEUgAAACkAAAAOBAMAAABA5yhLAAAAMFBMVEX///+qqqpmZmbc3NxUVFSY\n",
       "mJhEREQiIiIyMjK6uroQEBDMzMyIiIh2dnbu7u4AAAA4MM1YAAAAAXRSTlMAQObYZgAAANRJREFU\n",
       "GNNjYMAAnFkKDFgAvwA20fkPsIlexybI0ATEfHfPbGAwOTvLgPOY5VkFBmafmx+BorsmcBRwLmbI\n",
       "Z+BlqeT4wDDLgO0fUOkaBrYA+wAGNYaZ7A6ME5i/MjA1MDCwfACq92dgqGF48H4CmMt+Aei4BKDo\n",
       "Nwa+3wwM8gxgLkjS/gADA/MfBsYPfAwaDGCuPMMDBv4ABoa4jwwsDdIMa4Gi7wUYPBg3MLAoMPBu\n",
       "aGUQV7jA/BMoyhHAWMQLpHXPnGMwOTM7ZwLnAiCP2efktpMMAOtBNwCkI0hKAAAAAElFTkSuQmCC\n",
       "\" style=\"display:inline;vertical-align:middle;\" /></a></td></tr>\n",
       "<tr><td>6</td><td>Variable</td><td></td><td><a class=\"ProveItLink\" href=\"../../../../../__pv_it/abeee18594afe51bfb1be95d9591fbba24ac53f30/expr.ipynb\"><img src=\"data:image/png;base64,iVBORw0KGgoAAAANSUhEUgAAAA0AAAAOBAMAAAAGUYvhAAAAMFBMVEX///8iIiIQEBCIiIjMzMzc\n",
       "3Nyqqqp2dnZEREQyMjK6urru7u5mZmZUVFSYmJgAAACI6eGPAAAAAXRSTlMAQObYZgAAAF1JREFU\n",
       "CNdjYGDgu3Nm3wIGBoZ5DNz9QIq3gIEhE0jHOzAwOAPp9QkMDC4g/megABAw///fCmbEXfq0Acxg\n",
       "qH8ANAVI7wfSe0BKAyBGnAXigwYMzA1A+sLau31ACgAz0hhbkhGHbwAAAABJRU5ErkJggg==\n",
       "\" style=\"display:inline;vertical-align:middle;\" /></a></td></tr>\n",
       "</table>\n"
      ],
      "text/plain": [
       "0. |S| >= N\n",
       "   core type: Operation\n",
       "   operator: 1\n",
       "   operands: 2\n",
       "1. >=\n",
       "   core type: Literal\n",
       "   sub-expressions: \n",
       "2. (|S| , N)\n",
       "   core type: ExprTuple\n",
       "   sub-expressions: 3, 4\n",
       "3. |S|\n",
       "   core type: Operation\n",
       "   operator: 5\n",
       "   operand: 6\n",
       "4. N\n",
       "   core type: Variable\n",
       "   sub-expressions: \n",
       "5. card\n",
       "   core type: Literal\n",
       "   sub-expressions: \n",
       "6. S\n",
       "   core type: Variable\n",
       "   sub-expressions: "
      ]
     },
     "execution_count": 4,
     "metadata": {},
     "output_type": "execute_result"
    }
   ],
   "source": [
    "# display the expression information\n",
    "expr.exprInfo()"
   ]
  },
  {
   "cell_type": "code",
   "execution_count": null,
   "metadata": {},
   "outputs": [],
   "source": []
  }
 ],
 "metadata": {
  "kernelspec": {
   "display_name": "Python 3",
   "language": "python",
   "name": "python3"
  }
 },
 "nbformat": 4,
 "nbformat_minor": 0
}
