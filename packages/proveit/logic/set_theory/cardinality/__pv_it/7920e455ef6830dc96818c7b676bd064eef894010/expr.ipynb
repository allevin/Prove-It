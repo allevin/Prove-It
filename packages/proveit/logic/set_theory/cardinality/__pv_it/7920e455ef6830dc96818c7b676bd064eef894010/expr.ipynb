{
 "cells": [
  {
   "cell_type": "markdown",
   "metadata": {},
   "source": [
    "Expression of type <a class=\"ProveItLink\" href=\"../../../../../../../doc/html/api/proveit.logic.Set.html\">Set</a>\n",
    "=======================\n",
    "# from context <a class=\"ProveItLink\" href=\"../../_context_.ipynb\">proveit.logic.set_theory.cardinality</a>"
   ]
  },
  {
   "cell_type": "code",
   "execution_count": 1,
   "metadata": {},
   "outputs": [],
   "source": [
    "# import Expression classes needed to build the expression\n",
    "from proveit._common_ import l\n",
    "from proveit.logic import InSet, Set\n",
    "from proveit.number import NaturalsPos"
   ]
  },
  {
   "cell_type": "code",
   "execution_count": 2,
   "metadata": {},
   "outputs": [
    {
     "data": {
      "text/html": [
       "<strong id=\"expr\">expr:</strong> <a class=\"ProveItLink\" href=\"expr.ipynb\"><img src=\"data:image/png;base64,iVBORw0KGgoAAAANSUhEUgAAAFEAAAAbBAMAAAD2Yn4PAAAAMFBMVEX///+6urp2dnaqqqoiIiIQ\n",
       "EBBERETu7u6IiIjc3NwyMjJUVFSYmJhmZmbMzMwAAAD0pS5FAAAAAXRSTlMAQObYZgAAAVJJREFU\n",
       "OMtjYMAPmJE5fHfwqGQDK78I4eyaQEglw7QEEMnxnYGgSoZYEMG9gAiVWXCVKh9R5Ku+ZRUwXPli\n",
       "AFe5C66S5wOqUTl8QJd9YNi1aumqVQ0oKnnRnLDlQQcDQwADFjNZG8AC7F0uLmA9G5dzP8Cucv4D\n",
       "sMCr41Az971mX46hkg0UVufBfM50mO37mBueYagEW7wNEiTwONjHcJGnAaSSG8I/XwA0ZzWIFQHm\n",
       "lzEgVHIX7AtA+JB3JQPDEZAL+f6B+aIuLlAf7WNg31CFpJJhSgMDswcoRiGCr5HMZHjEh6SSxxlI\n",
       "1B8AOnBDAYhfgqySxyABodJ+AtTv/AcUwAF2AEklgyaSSnh48j8Hhzy7I0wmES3e4Co5LoFtZ5h1\n",
       "DyIh9RVoHjs2lXBgvcQFayLcRTh90lolUwARKr3BQbOasEJed0hM7SGkkDmHgRQAAAfkX537SY1f\n",
       "AAAAAElFTkSuQmCC\n",
       "\" style=\"display:inline;vertical-align:middle;\" /></a><br>"
      ],
      "text/plain": [
       "expr: {l in NaturalsPos}"
      ]
     },
     "execution_count": 2,
     "metadata": {},
     "output_type": "execute_result"
    }
   ],
   "source": [
    "# build up the expression from sub-expressions\n",
    "expr = Set(InSet(l, NaturalsPos))"
   ]
  },
  {
   "cell_type": "code",
   "execution_count": 3,
   "metadata": {},
   "outputs": [
    {
     "name": "stdout",
     "output_type": "stream",
     "text": [
      "Passed sanity check: built 'expr' is the same as the stored Expression.\n"
     ]
    }
   ],
   "source": [
    "# check that the built expression is the same as the stored expression\n",
    "%check_expr"
   ]
  },
  {
   "cell_type": "code",
   "execution_count": 4,
   "metadata": {},
   "outputs": [
    {
     "data": {
      "text/html": [
       "<table><tr><th>&nbsp;</th><th>core type</th><th>sub-expressions</th><th>expression</th></tr>\n",
       "<tr><td>0</td><td>Operation</td><td>operator:&nbsp;1<br>operands:&nbsp;2<br></td><td><a class=\"ProveItLink\" href=\"expr.ipynb\"><img src=\"data:image/png;base64,iVBORw0KGgoAAAANSUhEUgAAAFEAAAAbBAMAAAD2Yn4PAAAAMFBMVEX///+6urp2dnaqqqoiIiIQ\n",
       "EBBERETu7u6IiIjc3NwyMjJUVFSYmJhmZmbMzMwAAAD0pS5FAAAAAXRSTlMAQObYZgAAAVJJREFU\n",
       "OMtjYMAPmJE5fHfwqGQDK78I4eyaQEglw7QEEMnxnYGgSoZYEMG9gAiVWXCVKh9R5Ku+ZRUwXPli\n",
       "AFe5C66S5wOqUTl8QJd9YNi1aumqVQ0oKnnRnLDlQQcDQwADFjNZG8AC7F0uLmA9G5dzP8Cucv4D\n",
       "sMCr41Az971mX46hkg0UVufBfM50mO37mBueYagEW7wNEiTwONjHcJGnAaSSG8I/XwA0ZzWIFQHm\n",
       "lzEgVHIX7AtA+JB3JQPDEZAL+f6B+aIuLlAf7WNg31CFpJJhSgMDswcoRiGCr5HMZHjEh6SSxxlI\n",
       "1B8AOnBDAYhfgqySxyABodJ+AtTv/AcUwAF2AEklgyaSSnh48j8Hhzy7I0wmES3e4Co5LoFtZ5h1\n",
       "DyIh9RVoHjs2lXBgvcQFayLcRTh90lolUwARKr3BQbOasEJed0hM7SGkkDmHgRQAAAfkX537SY1f\n",
       "AAAAAElFTkSuQmCC\n",
       "\" style=\"display:inline;vertical-align:middle;\" /></a></td></tr>\n",
       "<tr><td>1</td><td>Literal</td><td></td><td><a class=\"ProveItLink\" href=\"../../../enumeration/__pv_it/07381ed5b23806e8d7914b78cb6667769e3708dd0/expr.ipynb\"><img src=\"data:image/png;base64,iVBORw0KGgoAAAANSUhEUgAAAB4AAAAOBAMAAADKyLEKAAAAMFBMVEX///8iIiIQEBCIiIjMzMzc\n",
       "3Nyqqqp2dnZEREQyMjK6urru7u5mZmZUVFSYmJgAAACI6eGPAAAAAXRSTlMAQObYZgAAALRJREFU\n",
       "CNdjYGDgu3Nm3wIGBJjHwN0PZW5yYGDgLWBgyITy8zcwMMQDxZyh/INAvD6BgcEFypcB4vjPDiBm\n",
       "TPFRrhs/LjMwMP//38rAwCbKEMPA9gEkE3fp0waG+AUMRxh4JkC01T9guPTOOICBEWgVH5C//wHD\n",
       "H5D4fqCz9oCMDGD4DLaegRXslLMMDMpAgxlOMmQxHDRgYG5gYLBk4D7KcIe7gOHC2rt9QCXsh40Z\n",
       "GCKMGQDRkC8N/Ph1XAAAAABJRU5ErkJggg==\n",
       "\" style=\"display:inline;vertical-align:middle;\" /></a></td></tr>\n",
       "<tr><td>2</td><td>ExprTuple</td><td>3</td><td><a class=\"ProveItLink\" href=\"../7af83632005232a638eec9537559e0679645d9b30/expr.ipynb\"><img src=\"data:image/png;base64,iVBORw0KGgoAAAANSUhEUgAAAEoAAAAbBAMAAAApLAQQAAAAMFBMVEX///+qqqp2dnYiIiJERESI\n",
       "iIhmZmYQEBDc3NyYmJgyMjLu7u5UVFTMzMy6uroAAACGxKilAAAAAXRSTlMAQObYZgAAAXdJREFU\n",
       "OMtjYMAHGBHMd7hVsYAIBRDBe4CAqjsgYtcGAqpYA4DESQYCqhgsGBg4ChgYlP+hyO364rWBIfmz\n",
       "AExVDAMDWwIDA+cHVCM8eR0YGD4wnFq1fNUqoHX7NzCwPwCqXICq6vCFUAaGAriNzBMY7gMp9gAw\n",
       "jzvK2Bis/txqngtIqtgcGMKBVP8FMO/WbKhZZ+9wr0ZSBXTQKSA1H8zh8IbZeJYx4AqSKr7fDD5A\n",
       "6gjE2w1wVQx5nAEgVTxgLu9fhmVAqhTM2cKAUMWz4WwBnMvxj8EMrBYEnhsbQ11/loH7wC6EKu6P\n",
       "IFWsEIE7SGYxXOJFMWsN0EEHwFG5GVkVp4ADQtVfkMv5J4ATB88EJFUMGghVfD8YgoGqboNDldsO\n",
       "JuzHgBIfwPB6D3RXEiTxdOVCRF99B5rDjVDFtICB/wIi/mQWGy/Akn64Ahh4FBgIgf0NDLwGBFVN\n",
       "AWJHgqpsQW4mpIgzAZTnCDmsBUxOJKAqm4FIAAA5alvTQvtORAAAAABJRU5ErkJggg==\n",
       "\" style=\"display:inline;vertical-align:middle;\" /></a></td></tr>\n",
       "<tr><td>3</td><td>Operation</td><td>operator:&nbsp;4<br>operands:&nbsp;5<br></td><td><a class=\"ProveItLink\" href=\"../6835902626a7e69bf54ef1903c108aab018d6c810/expr.ipynb\"><img src=\"data:image/png;base64,iVBORw0KGgoAAAANSUhEUgAAADsAAAAUBAMAAADB8VhjAAAAMFBMVEX///+qqqru7u5ERERUVFTM\n",
       "zMzc3NyIiIgQEBAyMjJmZmaYmJi6uroiIiJ2dnYAAAD2HuJxAAAAAXRSTlMAQObYZgAAAN9JREFU\n",
       "KM9jYMAJGBnwAmbaS7/9gyKo+dlSgWHtXwGYNPcHVE3WrAYMDB8YPGfOmDmzgIGBawKqtG9AOQND\n",
       "A9xwjgIwxVR59y5Yoc8klgAk6fwAMBW5CarbNYRpEpL0fjDJZgQz3JWxIBhJ2hniiwS4NMMa7gKQ\n",
       "NAuY2w4mlRkQ0iwKrg0wHutXMHXi7l2o01wZmBw04dLsEFYIkm6GOFa4NLODAojSRZbmFjCA8fg3\n",
       "PABRLBuQpBmeIaSDwMHCdAcmYMOAHJLs68CGM2QuhfBP/gDqZJqAEX8ic+9iCgIA1h4y/uNtqccA\n",
       "AAAASUVORK5CYII=\n",
       "\" style=\"display:inline;vertical-align:middle;\" /></a></td></tr>\n",
       "<tr><td>4</td><td>Literal</td><td></td><td><a class=\"ProveItLink\" href=\"../../../membership/__pv_it/088cbc857536a28d4119ad9639a84270ccb0545d0/expr.ipynb\"><img src=\"data:image/png;base64,iVBORw0KGgoAAAANSUhEUgAAAAwAAAAMBAMAAACkW0HUAAAALVBMVEX///+qqqpmZmZUVFQQEBC6\n",
       "urpERETc3NyYmJjMzMwiIiIyMjKIiIju7u4AAACYsrA9AAAAAXRSTlMAQObYZgAAADxJREFUCNdj\n",
       "YOA9vWrVBgaG2b0MQMCeCyIZ2ArA1DUwyRCyahVIyWQI7xaEYm4AU7xLIdxqTQgtvGvVBgCkcQ7e\n",
       "geM/tQAAAABJRU5ErkJggg==\n",
       "\" style=\"display:inline;vertical-align:middle;\" /></a></td></tr>\n",
       "<tr><td>5</td><td>ExprTuple</td><td>6, 7</td><td><a class=\"ProveItLink\" href=\"../fc51cca4880e7113689f8dd488d6a4d985f23c570/expr.ipynb\"><img src=\"data:image/png;base64,iVBORw0KGgoAAAANSUhEUgAAADoAAAAbBAMAAADfZYGIAAAAMFBMVEX///+qqqp2dnYiIiJERESI\n",
       "iIhmZmYQEBDc3NyYmJgyMjLu7u5UVFTMzMy6uroAAACGxKilAAAAAXRSTlMAQObYZgAAAU1JREFU\n",
       "KM+F0j1Lw0AYB/B/1bSNSdp+hICLYydxEeKoiAREXByKjoJkcXdwcjGCu50UUodsQpYEdGkhEsTN\n",
       "go7ioBUFC9Lic3mX9PDgnueO370mB0wqpaz5VtQZFlQWFI+jfRYcm6OCTqELjmIRqBrA3DjsOV+r\n",
       "NnY/G4luA+UWIA6iKSuKBgzQsy4ti5Z1bVSeaUQ70ptgEzDSladNPFGq6JHedeQgp2UNW5ROgkj9\n",
       "vtTJKW3Yo3QeH9Uv6Q85rf1gjdJtotgXdaZy2FVGuKB0kKps+0Z66+oYC+GYRCXPyVT6YCoYqeJe\n",
       "+TP3is7g2amKDS3TETtR3VQhxYr5TGtDbJA+6nCb1F1H9t2i+77Tvjs2rofA6zfNkzKdaqMef6eX\n",
       "4n+c1SGrUdMsqnsIpcnVM6rLYUuY8EKWqB6DU8QWe7sqR4/CeMrRPfxTfgG89FTOSnEr0AAAAABJ\n",
       "RU5ErkJggg==\n",
       "\" style=\"display:inline;vertical-align:middle;\" /></a></td></tr>\n",
       "<tr><td>6</td><td>Variable</td><td></td><td><a class=\"ProveItLink\" href=\"../../../../../__pv_it/3e5d49a51123592869b160296a6e123a424e07a70/expr.ipynb\"><img src=\"data:image/png;base64,iVBORw0KGgoAAAANSUhEUgAAAAYAAAAOBAMAAAD+sXAWAAAALVBMVEX////u7u5ERERUVFTMzMzc\n",
       "3NyIiIgQEBAyMjJmZmaYmJi6uroiIiJ2dnYAAACuOh6BAAAAAXRSTlMAQObYZgAAAD9JREFUCNdj\n",
       "YLjzmoGB6wEDA2cDAwN7AgNDnAMDwzoGBgYjIC5jYGB5wsDAVsDAwGQgwMC34AIDn2MCA9tcAQAo\n",
       "GAoWIEgceAAAAABJRU5ErkJggg==\n",
       "\" style=\"display:inline;vertical-align:middle;\" /></a></td></tr>\n",
       "<tr><td>7</td><td>Literal</td><td></td><td><a class=\"ProveItLink\" href=\"../../../../../number/sets/integer/__pv_it/42d4bc2e45d5054d807f2641a228c1b440fb8de30/expr.ipynb\"><img src=\"data:image/png;base64,iVBORw0KGgoAAAANSUhEUgAAABsAAAATBAMAAACTqWsLAAAAMFBMVEX////c3Nx2dna6uroQEBCI\n",
       "iIhUVFTMzMyYmJiqqqoiIiJmZmZEREQyMjLu7u4AAADjlg78AAAAAXRSTlMAQObYZgAAAHZJREFU\n",
       "GNNjYIADTgYUwEMy9+2fsw8Ydv2aAJM9wX6AgeEDQ+7dK3fvBjAwZBWEMjA4wPUm32MrQOKml/Hd\n",
       "Q+ZyBtQgcxk2cwSAuGxQLtuDdAe47ekMfAlvkbkMRewoXI4JB5C5DIoI7mEg5r4A49l+AcrwwbgA\n",
       "axoiJO4Xc9gAAAAASUVORK5CYII=\n",
       "\" style=\"display:inline;vertical-align:middle;\" /></a></td></tr>\n",
       "</table>\n"
      ],
      "text/plain": [
       "0. {l in NaturalsPos}\n",
       "   core type: Operation\n",
       "   operator: 1\n",
       "   operands: 2\n",
       "1. Set\n",
       "   core type: Literal\n",
       "   sub-expressions: \n",
       "2. (l in NaturalsPos)\n",
       "   core type: ExprTuple\n",
       "   sub-expressions: 3\n",
       "3. l in NaturalsPos\n",
       "   core type: Operation\n",
       "   operator: 4\n",
       "   operands: 5\n",
       "4. in\n",
       "   core type: Literal\n",
       "   sub-expressions: \n",
       "5. (l , NaturalsPos)\n",
       "   core type: ExprTuple\n",
       "   sub-expressions: 6, 7\n",
       "6. l\n",
       "   core type: Variable\n",
       "   sub-expressions: \n",
       "7. NaturalsPos\n",
       "   core type: Literal\n",
       "   sub-expressions: "
      ]
     },
     "execution_count": 4,
     "metadata": {},
     "output_type": "execute_result"
    }
   ],
   "source": [
    "# display the expression information\n",
    "expr.exprInfo()"
   ]
  },
  {
   "cell_type": "code",
   "execution_count": null,
   "metadata": {},
   "outputs": [],
   "source": []
  }
 ],
 "metadata": {
  "kernelspec": {
   "display_name": "Python 3",
   "language": "python",
   "name": "python3"
  }
 },
 "nbformat": 4,
 "nbformat_minor": 0
}
