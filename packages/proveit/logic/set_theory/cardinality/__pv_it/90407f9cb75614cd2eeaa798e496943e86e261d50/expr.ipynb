{
 "cells": [
  {
   "cell_type": "markdown",
   "metadata": {},
   "source": [
    "Axiom <a class=\"ProveItLink\" href=\"../../_axioms_.ipynb#emptyCard\">emptyCard</a> of type <a class=\"ProveItLink\" href=\"../../../../../../../doc/html/api/proveit.logic.Equals.html\">Equals</a>\n",
    "=======================\n",
    "# from context <a class=\"ProveItLink\" href=\"../../_context_.ipynb\">proveit.logic.set_theory.cardinality</a>\n",
    "*** see <a class=\"ProveItLink\" href=\"dependencies.ipynb\">dependencies</a> ***"
   ]
  },
  {
   "cell_type": "code",
   "execution_count": 1,
   "metadata": {},
   "outputs": [],
   "source": [
    "# import the special expression\n",
    "from proveit.logic.set_theory.cardinality._axioms_ import emptyCard"
   ]
  },
  {
   "cell_type": "code",
   "execution_count": 2,
   "metadata": {},
   "outputs": [
    {
     "name": "stdout",
     "output_type": "stream",
     "text": [
      "Passed sanity check: built 'emptyCard' is the same as the stored Expression.\n"
     ]
    }
   ],
   "source": [
    "# check that the built expression is the same as the stored expression\n",
    "%check_expr emptyCard"
   ]
  },
  {
   "cell_type": "code",
   "execution_count": 3,
   "metadata": {},
   "outputs": [
    {
     "data": {
      "text/html": [
       "<table><tr><th>&nbsp;</th><th>core type</th><th>sub-expressions</th><th>expression</th></tr>\n",
       "<tr><td>0</td><td>Operation</td><td>operator:&nbsp;1<br>operands:&nbsp;2<br></td><td><a class=\"ProveItLink\" href=\"expr.ipynb\"><img src=\"data:image/png;base64,iVBORw0KGgoAAAANSUhEUgAAADkAAAAVBAMAAAAOWFv7AAAAMFBMVEX////u7u4QEBDMzMxmZmZU\n",
       "VFQiIiJERESYmJgyMjKIiIi6urp2dnbc3NyqqqoAAACjdvF1AAAAAXRSTlMAQObYZgAAANNJREFU\n",
       "KM9jeMsABJwMDGAaA5xmYOA4dRxMY5c9wbAMU5bRa4kBSJQ3gaF0AYYs2wbGZJAsjwNDsgKGLNC4\n",
       "lSBZzgXcjn8xZFMZGPZfAIoyNbBs+I0h+4WBwf4BUJT/ARvDP3RZ3j9A2QVg2eswWc+ZIDAVJnsA\n",
       "LLsCh16wbMNEPCYzNSYwfsbqqgagKPu5A8wfIbJuaSCQDvXRe5CPuEoNOCZgC41joNBgVGNg34AZ\n",
       "kg8YlcGh33bhDJZY8FlqAImjDgM8MdgIpbHLMpAruxqNRgEAFo1cTSsx8NMAAAAASUVORK5CYII=\n",
       "\" style=\"display:inline;vertical-align:middle;\" /></a></td></tr>\n",
       "<tr><td>1</td><td>Literal</td><td></td><td><a class=\"ProveItLink\" href=\"../../../../equality/__pv_it/2fb26078095930560931daa0500ce419a39ea6cd0/expr.ipynb\"><img src=\"data:image/png;base64,iVBORw0KGgoAAAANSUhEUgAAAA4AAAAFBAMAAACHocAhAAAAFVBMVEX///9EREQiIiJUVFQyMjJm\n",
       "ZmYAAADubVkoAAAAAXRSTlMAQObYZgAAABRJREFUCNdjCHEBAWcGXCBICQQUAUpuAwlgGKrkAAAA\n",
       "AElFTkSuQmCC\n",
       "\" style=\"display:inline;vertical-align:middle;\" /></a></td></tr>\n",
       "<tr><td>2</td><td>ExprTuple</td><td>3, 4</td><td><a class=\"ProveItLink\" href=\"../7a139ed6d12f57ac4d0d11e0a67d7266b1ef57200/expr.ipynb\"><img src=\"data:image/png;base64,iVBORw0KGgoAAAANSUhEUgAAADUAAAAVBAMAAAAUZLt1AAAAMFBMVEX////c3NwiIiJERESqqqqY\n",
       "mJh2dnZmZmYQEBDu7u4yMjJUVFTMzMyIiIi6uroAAAAs73DqAAAAAXRSTlMAQObYZgAAATdJREFU\n",
       "KM9d0jtLw1AUB/B/GmNzY5tecHTpblenLvETGASFLhJ8ThWngoNQxFG0o2MWh36L7A5eBCmolNDR\n",
       "xQeiCFK85z5C2jPkJPeXnOSeE0DGOh0Ck8sRChwDXncPlIvYocOdWjvAQ2HsbJShmsmzIa05TbSF\n",
       "tUrOWkAK1AXZ4glafWuywhOwDfgDskCEpx/WVoE3jhvgFWR+XM2n1n6A+whuhJ6yRlTBlzHnW5qg\n",
       "19waW561BAsprow9zlvYx1RbPJyvWXs35nea7K/8LTHZhTJ3P6n9lvawwanmmrJ6O/NSsoHe+67s\n",
       "cIojZewcbk75k3oWsUvQHibKsMkP1T3XXPa69ywbHeTwuZ7DVqZyyO2QZM+8RK11oJ/3igF27Yx0\n",
       "lI3JGWFlxoS1JSruCIzN9bj0T7wA/6pEXu0EgaGtAAAAAElFTkSuQmCC\n",
       "\" style=\"display:inline;vertical-align:middle;\" /></a></td></tr>\n",
       "<tr><td>3</td><td>Operation</td><td>operator:&nbsp;5<br>operand:&nbsp;6<br></td><td><a class=\"ProveItLink\" href=\"../7f97ba5146843fabbb6e91befe269a640dd051340/expr.ipynb\"><img src=\"data:image/png;base64,iVBORw0KGgoAAAANSUhEUgAAABIAAAAVBAMAAAC55aPcAAAAMFBMVEX////u7u4QEBDMzMxmZmZU\n",
       "VFQiIiJERESYmJgyMjKIiIi6urp2dnbc3NyqqqoAAACjdvF1AAAAAXRSTlMAQObYZgAAAH9JREFU\n",
       "CNdjeMsABJwMDG8ZTjMwcJw6zgCkgawTDMsgLN4EhtIFYBaPA0OyApjFuYDb8S+YxdTAsuE3mMX/\n",
       "gI3hH5R1Hc5aAWM1TISymBoTGD+DWeznDjB/BLO4Sg04JoBZjGoM7BsgLmi7cAbmlg4DKKsR5Fgw\n",
       "iwGdtRrKWg0AY7o+6QG2yJQAAAAASUVORK5CYII=\n",
       "\" style=\"display:inline;vertical-align:middle;\" /></a></td></tr>\n",
       "<tr><td>4</td><td>Literal</td><td></td><td><a class=\"ProveItLink\" href=\"../../../../../number/numeral/__pv_it/ec23fc7a1b4222a5f4948b495002b97d6fa18c3c0/expr.ipynb\"><img src=\"data:image/png;base64,iVBORw0KGgoAAAANSUhEUgAAAAoAAAAOBAMAAADkjZCYAAAALVBMVEX///8QEBCYmJh2dnaqqqrc\n",
       "3NxUVFQyMjK6uroiIiLMzMyIiIhmZmbu7u4AAAAZjyHdAAAAAXRSTlMAQObYZgAAAEpJREFUCNdj\n",
       "YLiz+xQDA8MMhpsLGLgnMHAXMHAmMHA8ZeA7wMD1hCHOgIHrNZh8jES+Bss+AqlkeQrSxTyBgWEK\n",
       "w8UFDAx3rLMYAMCjFldHSx/9AAAAAElFTkSuQmCC\n",
       "\" style=\"display:inline;vertical-align:middle;\" /></a></td></tr>\n",
       "<tr><td>5</td><td>Literal</td><td></td><td><a class=\"ProveItLink\" href=\"../0c63ce1b557f058a248d364aa4246254a926fc430/expr.ipynb\"><img src=\"data:image/png;base64,iVBORw0KGgoAAAANSUhEUgAAACkAAAAOBAMAAABA5yhLAAAAMFBMVEX///+qqqpmZmbc3NxUVFSY\n",
       "mJhEREQiIiIyMjK6uroQEBDMzMyIiIh2dnbu7u4AAAA4MM1YAAAAAXRSTlMAQObYZgAAANRJREFU\n",
       "GNNjYMAAnFkKDFgAvwA20fkPsIlexybI0ATEfHfPbGAwOTvLgPOY5VkFBmafmx+BorsmcBRwLmbI\n",
       "Z+BlqeT4wDDLgO0fUOkaBrYA+wAGNYaZ7A6ME5i/MjA1MDCwfACq92dgqGF48H4CmMt+Aei4BKDo\n",
       "Nwa+3wwM8gxgLkjS/gADA/MfBsYPfAwaDGCuPMMDBv4ABoa4jwwsDdIMa4Gi7wUYPBg3MLAoMPBu\n",
       "aGUQV7jA/BMoyhHAWMQLpHXPnGMwOTM7ZwLnAiCP2efktpMMAOtBNwCkI0hKAAAAAElFTkSuQmCC\n",
       "\" style=\"display:inline;vertical-align:middle;\" /></a></td></tr>\n",
       "<tr><td>6</td><td>Literal</td><td></td><td><a class=\"ProveItLink\" href=\"../../../__pv_it/a1840c5aa3e17b4f28e5e0844d37e58325ff6fdb0/expr.ipynb\"><img src=\"data:image/png;base64,iVBORw0KGgoAAAANSUhEUgAAAAoAAAASBAMAAACQmVJ4AAAAMFBMVEX///+qqqru7u66uroQEBDM\n",
       "zMxmZmZUVFTc3NwiIiJERESIiIh2dnaYmJgyMjIAAADzocuEAAAAAXRSTlMAQObYZgAAAGdJREFU\n",
       "CNdjYGBg4ANi3tOngORZhp0MDBwTGJZvYOBJYJjqwMC3gTnpBwPLBTaDzwz8ApwMH4FkF5jcCyIv\n",
       "PAKSLJcmMH1l4Dp4gPUTA/fyAN4HDEyeDFwGDAw3G86AzLwbACQvATEA9S8d9agESAgAAAAASUVO\n",
       "RK5CYII=\n",
       "\" style=\"display:inline;vertical-align:middle;\" /></a></td></tr>\n",
       "</table>\n"
      ],
      "text/plain": [
       "0. |emptyset| = 0\n",
       "   core type: Operation\n",
       "   operator: 1\n",
       "   operands: 2\n",
       "1. =\n",
       "   core type: Literal\n",
       "   sub-expressions: \n",
       "2. (|emptyset| , 0)\n",
       "   core type: ExprTuple\n",
       "   sub-expressions: 3, 4\n",
       "3. |emptyset|\n",
       "   core type: Operation\n",
       "   operator: 5\n",
       "   operand: 6\n",
       "4. 0\n",
       "   core type: Literal\n",
       "   sub-expressions: \n",
       "5. card\n",
       "   core type: Literal\n",
       "   sub-expressions: \n",
       "6. emptyset\n",
       "   core type: Literal\n",
       "   sub-expressions: "
      ]
     },
     "execution_count": 3,
     "metadata": {},
     "output_type": "execute_result"
    }
   ],
   "source": [
    "# display the expression information\n",
    "emptyCard.exprInfo()"
   ]
  },
  {
   "cell_type": "code",
   "execution_count": null,
   "metadata": {},
   "outputs": [],
   "source": []
  }
 ],
 "metadata": {
  "kernelspec": {
   "display_name": "Python 3",
   "language": "python",
   "name": "python3"
  }
 },
 "nbformat": 4,
 "nbformat_minor": 0
}
