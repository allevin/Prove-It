{
 "cells": [
  {
   "cell_type": "markdown",
   "metadata": {},
   "source": [
    "Show the Proof\n",
    "========"
   ]
  },
  {
   "cell_type": "code",
   "execution_count": 1,
   "metadata": {},
   "outputs": [
    {
     "data": {
      "text/html": [
       "<table><tr><th>&nbsp;</th><th>step type</th><th>requirements</th><th>statement</th></tr>\n",
       "<tr><td>0</td><td>assumption</td><td></td><td><span style=\"font-size:20px;\"><a class=\"ProveItLink\" href=\"../7920e455ef6830dc96818c7b676bd064eef894010/expr.ipynb\"><img src=\"data:image/png;base64,iVBORw0KGgoAAAANSUhEUgAAAFEAAAAbBAMAAAD2Yn4PAAAAMFBMVEX///+6urp2dnaqqqoiIiIQ\n",
       "EBBERETu7u6IiIjc3NwyMjJUVFSYmJhmZmbMzMwAAAD0pS5FAAAAAXRSTlMAQObYZgAAAVJJREFU\n",
       "OMtjYMAPmJE5fHfwqGQDK78I4eyaQEglw7QEEMnxnYGgSoZYEMG9gAiVWXCVKh9R5Ku+ZRUwXPli\n",
       "AFe5C66S5wOqUTl8QJd9YNi1aumqVQ0oKnnRnLDlQQcDQwADFjNZG8AC7F0uLmA9G5dzP8Cucv4D\n",
       "sMCr41Az971mX46hkg0UVufBfM50mO37mBueYagEW7wNEiTwONjHcJGnAaSSG8I/XwA0ZzWIFQHm\n",
       "lzEgVHIX7AtA+JB3JQPDEZAL+f6B+aIuLlAf7WNg31CFpJJhSgMDswcoRiGCr5HMZHjEh6SSxxlI\n",
       "1B8AOnBDAYhfgqySxyABodJ+AtTv/AcUwAF2AEklgyaSSnh48j8Hhzy7I0wmES3e4Co5LoFtZ5h1\n",
       "DyIh9RVoHjs2lXBgvcQFayLcRTh90lolUwARKr3BQbOasEJed0hM7SGkkDmHgRQAAAfkX537SY1f\n",
       "AAAAAElFTkSuQmCC\n",
       "\" style=\"display:inline;vertical-align:middle;\" /></a> <a class=\"ProveItLink\" href=\"proof.ipynb\" style=\"text-decoration: none\">&#x22A2;&nbsp;</a><a class=\"ProveItLink\" href=\"../6835902626a7e69bf54ef1903c108aab018d6c810/expr.ipynb\"><img src=\"data:image/png;base64,iVBORw0KGgoAAAANSUhEUgAAADsAAAAUBAMAAADB8VhjAAAAMFBMVEX///+qqqru7u5ERERUVFTM\n",
       "zMzc3NyIiIgQEBAyMjJmZmaYmJi6uroiIiJ2dnYAAAD2HuJxAAAAAXRSTlMAQObYZgAAAN9JREFU\n",
       "KM9jYMAJGBnwAmbaS7/9gyKo+dlSgWHtXwGYNPcHVE3WrAYMDB8YPGfOmDmzgIGBawKqtG9AOQND\n",
       "A9xwjgIwxVR59y5Yoc8klgAk6fwAMBW5CarbNYRpEpL0fjDJZgQz3JWxIBhJ2hniiwS4NMMa7gKQ\n",
       "NAuY2w4mlRkQ0iwKrg0wHutXMHXi7l2o01wZmBw04dLsEFYIkm6GOFa4NLODAojSRZbmFjCA8fg3\n",
       "PABRLBuQpBmeIaSDwMHCdAcmYMOAHJLs68CGM2QuhfBP/gDqZJqAEX8ic+9iCgIA1h4y/uNtqccA\n",
       "AAAASUVORK5CYII=\n",
       "\" style=\"display:inline;vertical-align:middle;\" /></a></span></td></tr>\n",
       "</table>"
      ],
      "text/plain": [
       "<proveit._core_.proof._ShowProof at 0x7f94eb235828>"
      ]
     },
     "execution_count": 1,
     "metadata": {},
     "output_type": "execute_result"
    }
   ],
   "source": [
    "import proveit\n",
    "%show_proof"
   ]
  },
  {
   "cell_type": "code",
   "execution_count": null,
   "metadata": {},
   "outputs": [],
   "source": []
  }
 ],
 "metadata": {
  "kernelspec": {
   "display_name": "Python 3",
   "language": "python",
   "name": "python3"
  }
 },
 "nbformat": 4,
 "nbformat_minor": 0
}
