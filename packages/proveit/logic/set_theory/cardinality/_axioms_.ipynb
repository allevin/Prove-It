{
 "cells": [
  {
   "cell_type": "markdown",
   "metadata": {},
   "source": [
    "Axioms for context <a href=\"_context_.ipynb\" class=\"ProveItLink\">proveit.logic.set_theory.cardinality</a>\n",
    "========"
   ]
  },
  {
   "cell_type": "code",
   "execution_count": 1,
   "metadata": {},
   "outputs": [
    {
     "name": "stdout",
     "output_type": "stream",
     "text": [
      "Defining axioms for context 'proveit.logic.set_theory.cardinality'\n",
      "Subsequent end-of-cell assignments will define axioms\n",
      "%end_axioms will finalize the definitions\n"
     ]
    }
   ],
   "source": [
    "from proveit.logic import Card, EmptySet, Equals, Union, Set, InSet, NotInSet, Forall\n",
    "from proveit.number import num, Add, Naturals\n",
    "from proveit._common_ import x, S\n",
    "%begin axioms"
   ]
  },
  {
   "cell_type": "markdown",
   "metadata": {},
   "source": [
    "**The cardinality of the empty set, $\\emptyset$, is zero (the base case of an induction for the cardinality of finite sets):**"
   ]
  },
  {
   "cell_type": "code",
   "execution_count": 2,
   "metadata": {},
   "outputs": [
    {
     "data": {
      "text/html": [
       "<strong id=\"emptyCard\">emptyCard:</strong> <a class=\"ProveItLink\" href=\"__pv_it/90407f9cb75614cd2eeaa798e496943e86e261d50/expr.ipynb\"><img src=\"data:image/png;base64,iVBORw0KGgoAAAANSUhEUgAAADkAAAAVBAMAAAAOWFv7AAAAMFBMVEX////u7u4QEBDMzMxmZmZU\n",
       "VFQiIiJERESYmJgyMjKIiIi6urp2dnbc3NyqqqoAAACjdvF1AAAAAXRSTlMAQObYZgAAANNJREFU\n",
       "KM9jeMsABJwMDGAaA5xmYOA4dRxMY5c9wbAMU5bRa4kBSJQ3gaF0AYYs2wbGZJAsjwNDsgKGLNC4\n",
       "lSBZzgXcjn8xZFMZGPZfAIoyNbBs+I0h+4WBwf4BUJT/ARvDP3RZ3j9A2QVg2eswWc+ZIDAVJnsA\n",
       "LLsCh16wbMNEPCYzNSYwfsbqqgagKPu5A8wfIbJuaSCQDvXRe5CPuEoNOCZgC41joNBgVGNg34AZ\n",
       "kg8YlcGh33bhDJZY8FlqAImjDgM8MdgIpbHLMpAruxqNRgEAFo1cTSsx8NMAAAAASUVORK5CYII=\n",
       "\" style=\"display:inline;vertical-align:middle;\" /></a><br>"
      ],
      "text/plain": [
       "emptyCard: |emptyset| = 0"
      ]
     },
     "execution_count": 2,
     "metadata": {},
     "output_type": "execute_result"
    }
   ],
   "source": [
    "emptyCard = Equals(Card(EmptySet), num(0))"
   ]
  },
  {
   "cell_type": "markdown",
   "metadata": {},
   "source": [
    "**When a new element is added to a finite set, its cardinality increases by one (the induction rule for the cardinality of finite sets):**"
   ]
  },
  {
   "cell_type": "code",
   "execution_count": 3,
   "metadata": {},
   "outputs": [
    {
     "data": {
      "text/html": [
       "<strong id=\"cardInduction\">cardInduction:</strong> <a class=\"ProveItLink\" href=\"__pv_it/625f6cc9248e98d2a0c699b6715e820d612514000/expr.ipynb\"><img src=\"data:image/png;base64,iVBORw0KGgoAAAANSUhEUgAAAV4AAAAXCAMAAAB01dc4AAAAQlBMVEX///8SEhIoKCgtLS0/Pz96\n",
       "enovLy8QEBC6urrMzMxUVFRmZmZERETc3NwyMjKqqqp2dnaIiIiYmJgiIiLu7u4AAABYADVeAAAA\n",
       "AXRSTlMAQObYZgAABBhJREFUWMPlWYmO2yAQTU9ucxj+/1eLucFAwNpKUYu0q4kzzIPnYQ7yen3w\n",
       "4GxLXRFVP0BCsCfmeoqba4lDfyazUNp/Au5s5BT3hwjw/GHF3BB3dS0KVsKZv5Cfwy7C9ZYUJoRo\n",
       "NduiNL2n5NhiaIz7fjL1nkpQhL4EkV7v8UGO7NeStnRcp15TcztwhShAz1D5dIHeMe67yVYrLCa9\n",
       "0EtgNHxIwgcMKSs+sD/2PCw8HziGv5beCW4zWdehWGOMI70qBiknRKcl/HPoBbrcJjP+vCHZ0ou+\n",
       "mN4JbjOZy3twCkTqCOkEJZgb5wfltaPiAxr/5hH6y/TOcNfpfVFeCoZeo5d3/+aYpSkiXrUXGYmK\n",
       "r+f0MiEx45LIfXpnuBv0ClIK2Jmg3boOESGkynsrMGCjAffopX2AnFGKLUljR15gn95QI2hLkTrV\n",
       "C3gtZXr0kqMYeAl3g96YI7wAL/v66J4W4s7IjZQsZo06M6KDELsgCUi/HmGkD+BDIGz4YAoDA/SM\n",
       "XhQmiVCj8fDKDrLuvTPcDXohqIRruVL18M4+p4WYNcJXWtpK0RpT9CUsnuiwe6n8/tUHcMPADh/C\n",
       "qDG9CAOUSzVcGqTRJ9/TO8PdoBeZSrioPXtOpv0MNaa30PBfSQqZ1vahsl0K6dLrVH7qPkBnmyou\n",
       "Rs28F4IcYUCx9yKnbNJb46bJPrCcoAksY3ptYIjrtGkBSpwWeoJmSXfvTRrUt/0pdSGOmMz0JstO\n",
       "BYkBgKeHF9vUwSQz7E5vPvkvnMKbL6j0LPaexaBLuM+Dg01rOAQufR2s3KdrAozhM3qzBq06Fkuv\n",
       "taZQpDdbdiqEDQC86TLFxERBkqfkCl0Ufi9CLmO+PZZ6v3KY4W7Qq45a4ORM1cDRnFSGwYzerEEL\n",
       "p/T02jQjsG4sexU6AqgqG7clckofUvKMk9V1akEkt0eZWonJB3XvDPdxYVYHK5MLNA197BnTW2o4\n",
       "ek9XQ1Pp6WVKFzHdW3YqP75fKj0AT9tZbAnb0gZjqqqyBHOEOKX6Rq+mUuir1nvUVkxw39BL7DE8\n",
       "woXoka4sgqB0rm/sXzThDiGiY3pLDUc3rrz3BZFsLTuV4NMdgPC62Rs+oMBYomF/9rgpHuO+9d7s\n",
       "laAVcqYThysd2WGBCL31Gw29pYYTMavotR23dray5UslvoUOQHUrsnXf+xX0TnCbZ3BMr5CtkC7V\n",
       "JCfyykboqkYIsiUsYZPKodTwhRqFMSx6CXtb2fKloni8Eb0B9C8Gl7ps8AX3vWPc5bWkBq3fqcXV\n",
       "zlrZXi8QU0CIvRNb4ttdpW3q8Da9+uyYjL3cKkNj3OW1pAOMJz8fIfaQ3gVbjLxfpMv8cu8eQ4mm\n",
       "xGt+a1sxN8RdXUvKCE1qWHHeZ/Sqp47w3w3cFbufl4z86+MPUoJGdSPGyJcAAAAASUVORK5CYII=\n",
       "\" style=\"display:inline;vertical-align:middle;\" /></a><br>"
      ],
      "text/plain": [
       "cardInduction: forall_{x, S | |S| in Naturals , x not-in S} (|S union {x}| = (|S| + 1))"
      ]
     },
     "execution_count": 3,
     "metadata": {},
     "output_type": "execute_result"
    }
   ],
   "source": [
    "cardInduction = Forall((x, S), Equals(Card(Union(S, Set(x))), \n",
    "                                      Add(Card(S), num(1))), conditions=[InSet(Card(S), Naturals), NotInSet(x, S)])"
   ]
  },
  {
   "cell_type": "markdown",
   "metadata": {},
   "source": [
    "**The cardinality of inifite sets should be defined via 1-to-1 and onto mappings between them.**"
   ]
  },
  {
   "cell_type": "code",
   "execution_count": null,
   "metadata": {},
   "outputs": [],
   "source": []
  },
  {
   "cell_type": "code",
   "execution_count": 4,
   "metadata": {},
   "outputs": [
    {
     "name": "stdout",
     "output_type": "stream",
     "text": [
      "Axioms may be imported from autogenerated _axioms_.py\n"
     ]
    }
   ],
   "source": [
    "%end axioms"
   ]
  },
  {
   "cell_type": "code",
   "execution_count": null,
   "metadata": {},
   "outputs": [],
   "source": []
  }
 ],
 "metadata": {
  "kernelspec": {
   "display_name": "Python 3",
   "language": "python",
   "name": "python3"
  }
 },
 "nbformat": 4,
 "nbformat_minor": 0
}
