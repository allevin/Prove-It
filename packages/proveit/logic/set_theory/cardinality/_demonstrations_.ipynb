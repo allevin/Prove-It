{
 "cells": [
  {
   "cell_type": "markdown",
   "metadata": {
    "collapsed": true,
    "deletable": true,
    "editable": true
   },
   "source": [
    "Demonstrations for context <a class=\"ProveItLink\" href=\"_context_.ipynb\">proveit.logic.set_theory.cardinality</a>\n",
    "========"
   ]
  },
  {
   "cell_type": "code",
   "execution_count": 5,
   "metadata": {},
   "outputs": [],
   "source": [
    "import proveit\n",
    "from proveit.logic import Forall, Exists, Implies, Equals, NotEquals, Card, Set, Distinct, InSet\n",
    "from proveit.number import GreaterEq, num, Len, four\n",
    "from proveit._common_ import a, b, l, A,B,C,D, N, S\n",
    "from proveit.logic._common_ import xIter1l\n",
    "from proveit.number import NaturalsPos\n",
    "%begin demonstrations"
   ]
  },
  {
   "cell_type": "markdown",
   "metadata": {},
   "source": [
    "enumSetCard"
   ]
  },
  {
   "cell_type": "code",
   "execution_count": 3,
   "metadata": {},
   "outputs": [
    {
     "ename": "TransitivityException",
     "evalue": "Unable to prove |{x_1 ,  ...  , x_l}| = |x_1,...,x_l| assuming {distinct(x_1 ,  ...  , x_l)}: No proof found via applying transitivity amongst known proven relations.",
     "output_type": "error",
     "traceback": [
      "\u001b[1;31m---------------------------------------------------------------------------\u001b[0m",
      "\u001b[1;31mProofFailure\u001b[0m                              Traceback (most recent call last)",
      "\u001b[1;32mc:\\users\\joaqu\\prove-it\\packages\\proveit\\_core_\\expression\\expr.py\u001b[0m in \u001b[0;36mprove\u001b[1;34m(self, assumptions, automation)\u001b[0m\n\u001b[0;32m    409\u001b[0m                     \u001b[1;31m# first attempt to prove via implication\u001b[0m\u001b[1;33m\u001b[0m\u001b[1;33m\u001b[0m\u001b[1;33m\u001b[0m\u001b[0m\n\u001b[1;32m--> 410\u001b[1;33m                     \u001b[0mconcludedTruth\u001b[0m \u001b[1;33m=\u001b[0m \u001b[0mself\u001b[0m\u001b[1;33m.\u001b[0m\u001b[0mconcludeViaImplication\u001b[0m\u001b[1;33m(\u001b[0m\u001b[0massumptions\u001b[0m\u001b[1;33m)\u001b[0m\u001b[1;33m\u001b[0m\u001b[1;33m\u001b[0m\u001b[0m\n\u001b[0m\u001b[0;32m    411\u001b[0m                 \u001b[1;32mexcept\u001b[0m \u001b[0mProofFailure\u001b[0m\u001b[1;33m:\u001b[0m\u001b[1;33m\u001b[0m\u001b[1;33m\u001b[0m\u001b[0m\n",
      "\u001b[1;32mc:\\users\\joaqu\\prove-it\\packages\\proveit\\_core_\\expression\\expr.py\u001b[0m in \u001b[0;36mconcludeViaImplication\u001b[1;34m(self, assumptions)\u001b[0m\n\u001b[0;32m    458\u001b[0m         \u001b[1;32mfrom\u001b[0m \u001b[0mproveit\u001b[0m\u001b[1;33m.\u001b[0m\u001b[0mlogic\u001b[0m \u001b[1;32mimport\u001b[0m \u001b[0mconcludeViaImplication\u001b[0m\u001b[1;33m\u001b[0m\u001b[1;33m\u001b[0m\u001b[0m\n\u001b[1;32m--> 459\u001b[1;33m         \u001b[1;32mreturn\u001b[0m \u001b[0mconcludeViaImplication\u001b[0m\u001b[1;33m(\u001b[0m\u001b[0mself\u001b[0m\u001b[1;33m,\u001b[0m \u001b[0massumptions\u001b[0m\u001b[1;33m)\u001b[0m\u001b[1;33m\u001b[0m\u001b[1;33m\u001b[0m\u001b[0m\n\u001b[0m\u001b[0;32m    460\u001b[0m \u001b[1;33m\u001b[0m\u001b[0m\n",
      "\u001b[1;32mc:\\users\\joaqu\\prove-it\\packages\\proveit\\logic\\boolean\\implication\\implies.py\u001b[0m in \u001b[0;36mconcludeViaImplication\u001b[1;34m(consequent, assumptions)\u001b[0m\n\u001b[0;32m    301\u001b[0m                         \u001b[0mqueue\u001b[0m\u001b[1;33m.\u001b[0m\u001b[0mappend\u001b[0m\u001b[1;33m(\u001b[0m\u001b[0mlocal_antecedent\u001b[0m\u001b[1;33m)\u001b[0m\u001b[1;33m\u001b[0m\u001b[1;33m\u001b[0m\u001b[0m\n\u001b[1;32m--> 302\u001b[1;33m     \u001b[1;32mraise\u001b[0m \u001b[0mProofFailure\u001b[0m\u001b[1;33m(\u001b[0m\u001b[0mconsequent\u001b[0m\u001b[1;33m,\u001b[0m \u001b[0massumptions\u001b[0m\u001b[1;33m,\u001b[0m \u001b[1;34m'Unable to conclude via implications'\u001b[0m\u001b[1;33m)\u001b[0m\u001b[1;33m\u001b[0m\u001b[1;33m\u001b[0m\u001b[0m\n\u001b[0m\u001b[0;32m    303\u001b[0m \u001b[1;33m\u001b[0m\u001b[0m\n",
      "\u001b[1;31mProofFailure\u001b[0m: Unable to prove |{x_1 ,  ...  , x_l}| = |x_1,...,x_l| assuming {distinct(x_1 ,  ...  , x_l)}: Unable to conclude via implications",
      "\nDuring handling of the above exception, another exception occurred:\n",
      "\u001b[1;31mTransitivityException\u001b[0m                     Traceback (most recent call last)",
      "\u001b[1;32mc:\\users\\joaqu\\prove-it\\packages\\proveit\\relation\\transitivity.py\u001b[0m in \u001b[0;36mconclude\u001b[1;34m(self, assumptions)\u001b[0m\n\u001b[0;32m     64\u001b[0m         \u001b[1;32mtry\u001b[0m\u001b[1;33m:\u001b[0m\u001b[1;33m\u001b[0m\u001b[1;33m\u001b[0m\u001b[0m\n\u001b[1;32m---> 65\u001b[1;33m             \u001b[0mself\u001b[0m\u001b[1;33m.\u001b[0m\u001b[0mconcludeViaTransitivity\u001b[0m\u001b[1;33m(\u001b[0m\u001b[0massumptions\u001b[0m\u001b[1;33m)\u001b[0m\u001b[1;33m\u001b[0m\u001b[1;33m\u001b[0m\u001b[0m\n\u001b[0m\u001b[0;32m     66\u001b[0m         \u001b[1;32mexcept\u001b[0m \u001b[0mTransitivityException\u001b[0m \u001b[1;32mas\u001b[0m \u001b[0me\u001b[0m\u001b[1;33m:\u001b[0m\u001b[1;33m\u001b[0m\u001b[1;33m\u001b[0m\u001b[0m\n",
      "\u001b[1;32mc:\\users\\joaqu\\prove-it\\packages\\proveit\\relation\\transitivity.py\u001b[0m in \u001b[0;36mconcludeViaTransitivity\u001b[1;34m(self, assumptions)\u001b[0m\n\u001b[0;32m     74\u001b[0m         \u001b[1;32melse\u001b[0m\u001b[1;33m:\u001b[0m \u001b[0mforceStrong\u001b[0m \u001b[1;33m=\u001b[0m \u001b[1;33m(\u001b[0m\u001b[0mself\u001b[0m\u001b[1;33m.\u001b[0m\u001b[0m__class__\u001b[0m \u001b[1;33m==\u001b[0m \u001b[0mself\u001b[0m\u001b[1;33m.\u001b[0m\u001b[0m__class__\u001b[0m\u001b[1;33m.\u001b[0m\u001b[0m_checkedStrongRelationClass\u001b[0m\u001b[1;33m(\u001b[0m\u001b[1;33m)\u001b[0m\u001b[1;33m)\u001b[0m\u001b[1;33m\u001b[0m\u001b[1;33m\u001b[0m\u001b[0m\n\u001b[1;32m---> 75\u001b[1;33m         \u001b[1;32mreturn\u001b[0m \u001b[0mself\u001b[0m\u001b[1;33m.\u001b[0m\u001b[0m__class__\u001b[0m\u001b[1;33m.\u001b[0m\u001b[0m_transitivitySearch\u001b[0m\u001b[1;33m(\u001b[0m\u001b[0mself\u001b[0m\u001b[1;33m.\u001b[0m\u001b[0mlhs\u001b[0m\u001b[1;33m,\u001b[0m \u001b[0mself\u001b[0m\u001b[1;33m.\u001b[0m\u001b[0mrhs\u001b[0m\u001b[1;33m,\u001b[0m \u001b[0mforceStrong\u001b[0m\u001b[1;33m=\u001b[0m\u001b[0mforceStrong\u001b[0m\u001b[1;33m,\u001b[0m \u001b[0massumptions\u001b[0m\u001b[1;33m=\u001b[0m\u001b[0massumptions\u001b[0m\u001b[1;33m)\u001b[0m\u001b[1;33m\u001b[0m\u001b[1;33m\u001b[0m\u001b[0m\n\u001b[0m\u001b[0;32m     76\u001b[0m \u001b[1;33m\u001b[0m\u001b[0m\n",
      "\u001b[1;32mc:\\users\\joaqu\\prove-it\\packages\\proveit\\relation\\transitivity.py\u001b[0m in \u001b[0;36m_transitivitySearch\u001b[1;34m(RelationClass, leftItem, rightItem, forceStrong, assumptions)\u001b[0m\n\u001b[0;32m    290\u001b[0m         \u001b[0mDesiredRelationClass\u001b[0m \u001b[1;33m=\u001b[0m \u001b[0mRelationClass\u001b[0m\u001b[1;33m.\u001b[0m\u001b[0m_checkedStrongRelationClass\u001b[0m\u001b[1;33m(\u001b[0m\u001b[1;33m)\u001b[0m \u001b[1;32mif\u001b[0m \u001b[0mforceStrong\u001b[0m \u001b[1;32melse\u001b[0m  \u001b[0mRelationClass\u001b[0m\u001b[1;33m.\u001b[0m\u001b[0m_checkedWeakRelationClass\u001b[0m\u001b[1;33m(\u001b[0m\u001b[1;33m)\u001b[0m\u001b[1;33m\u001b[0m\u001b[1;33m\u001b[0m\u001b[0m\n\u001b[1;32m--> 291\u001b[1;33m         \u001b[1;32mraise\u001b[0m \u001b[0mTransitivityException\u001b[0m\u001b[1;33m(\u001b[0m\u001b[0mDesiredRelationClass\u001b[0m\u001b[1;33m(\u001b[0m\u001b[0mleftItem\u001b[0m\u001b[1;33m,\u001b[0m \u001b[0mrightItem\u001b[0m\u001b[1;33m)\u001b[0m\u001b[1;33m,\u001b[0m \u001b[0massumptions\u001b[0m\u001b[1;33m,\u001b[0m \u001b[1;34m'No proof found via applying transitivity amongst known proven relations.'\u001b[0m\u001b[1;33m)\u001b[0m\u001b[1;33m\u001b[0m\u001b[1;33m\u001b[0m\u001b[0m\n\u001b[0m\u001b[0;32m    292\u001b[0m \u001b[1;33m\u001b[0m\u001b[0m\n",
      "\u001b[1;31mTransitivityException\u001b[0m: Unable to prove |{x_1 ,  ...  , x_l}| = |x_1,...,x_l| assuming {distinct(x_1 ,  ...  , x_l)}: No proof found via applying transitivity amongst known proven relations.",
      "\nDuring handling of the above exception, another exception occurred:\n",
      "\u001b[1;31mTransitivityException\u001b[0m                     Traceback (most recent call last)",
      "\u001b[1;32m<ipython-input-3-ba27e1c4d8e3>\u001b[0m in \u001b[0;36m<module>\u001b[1;34m\u001b[0m\n\u001b[1;32m----> 1\u001b[1;33m \u001b[0mEquals\u001b[0m\u001b[1;33m(\u001b[0m\u001b[0mCard\u001b[0m\u001b[1;33m(\u001b[0m\u001b[0mSet\u001b[0m\u001b[1;33m(\u001b[0m\u001b[0mxIter1l\u001b[0m\u001b[1;33m)\u001b[0m\u001b[1;33m)\u001b[0m\u001b[1;33m,\u001b[0m \u001b[0mLen\u001b[0m\u001b[1;33m(\u001b[0m\u001b[0mxIter1l\u001b[0m\u001b[1;33m)\u001b[0m\u001b[1;33m)\u001b[0m\u001b[1;33m.\u001b[0m\u001b[0mprove\u001b[0m\u001b[1;33m(\u001b[0m\u001b[1;33m[\u001b[0m\u001b[0mDistinct\u001b[0m\u001b[1;33m(\u001b[0m\u001b[0mxIter1l\u001b[0m\u001b[1;33m)\u001b[0m\u001b[1;33m]\u001b[0m\u001b[1;33m)\u001b[0m\u001b[1;33m\u001b[0m\u001b[1;33m\u001b[0m\u001b[0m\n\u001b[0m",
      "\u001b[1;32mc:\\users\\joaqu\\prove-it\\packages\\proveit\\_core_\\expression\\expr.py\u001b[0m in \u001b[0;36mprove\u001b[1;34m(self, assumptions, automation)\u001b[0m\n\u001b[0;32m    411\u001b[0m                 \u001b[1;32mexcept\u001b[0m \u001b[0mProofFailure\u001b[0m\u001b[1;33m:\u001b[0m\u001b[1;33m\u001b[0m\u001b[1;33m\u001b[0m\u001b[0m\n\u001b[0;32m    412\u001b[0m                     \u001b[1;31m# try the 'conclude' method of the specific Expression class\u001b[0m\u001b[1;33m\u001b[0m\u001b[1;33m\u001b[0m\u001b[1;33m\u001b[0m\u001b[0m\n\u001b[1;32m--> 413\u001b[1;33m                     \u001b[0mconcludedTruth\u001b[0m \u001b[1;33m=\u001b[0m \u001b[0mself\u001b[0m\u001b[1;33m.\u001b[0m\u001b[0mconclude\u001b[0m\u001b[1;33m(\u001b[0m\u001b[0massumptions\u001b[0m\u001b[1;33m)\u001b[0m\u001b[1;33m\u001b[0m\u001b[1;33m\u001b[0m\u001b[0m\n\u001b[0m\u001b[0;32m    414\u001b[0m             \u001b[1;32mif\u001b[0m \u001b[0mconcludedTruth\u001b[0m \u001b[1;32mis\u001b[0m \u001b[1;32mNone\u001b[0m\u001b[1;33m:\u001b[0m\u001b[1;33m\u001b[0m\u001b[1;33m\u001b[0m\u001b[0m\n\u001b[0;32m    415\u001b[0m                 \u001b[1;32mraise\u001b[0m \u001b[0mProofFailure\u001b[0m\u001b[1;33m(\u001b[0m\u001b[0mself\u001b[0m\u001b[1;33m,\u001b[0m \u001b[0massumptions\u001b[0m\u001b[1;33m,\u001b[0m \u001b[1;34m\"Failure to automatically 'conclude'\"\u001b[0m\u001b[1;33m)\u001b[0m\u001b[1;33m\u001b[0m\u001b[1;33m\u001b[0m\u001b[0m\n",
      "\u001b[1;32mc:\\users\\joaqu\\prove-it\\packages\\proveit\\logic\\equality\\equals.py\u001b[0m in \u001b[0;36mconclude\u001b[1;34m(self, assumptions)\u001b[0m\n\u001b[0;32m    137\u001b[0m         \u001b[1;31m# Use a breadth-first search approach to find the shortest\u001b[0m\u001b[1;33m\u001b[0m\u001b[1;33m\u001b[0m\u001b[1;33m\u001b[0m\u001b[0m\n\u001b[0;32m    138\u001b[0m         \u001b[1;31m# path to get from one end-point to the other.\u001b[0m\u001b[1;33m\u001b[0m\u001b[1;33m\u001b[0m\u001b[1;33m\u001b[0m\u001b[0m\n\u001b[1;32m--> 139\u001b[1;33m         \u001b[1;32mreturn\u001b[0m \u001b[0mTransitiveRelation\u001b[0m\u001b[1;33m.\u001b[0m\u001b[0mconclude\u001b[0m\u001b[1;33m(\u001b[0m\u001b[0mself\u001b[0m\u001b[1;33m,\u001b[0m \u001b[0massumptions\u001b[0m\u001b[1;33m)\u001b[0m\u001b[1;33m\u001b[0m\u001b[1;33m\u001b[0m\u001b[0m\n\u001b[0m\u001b[0;32m    140\u001b[0m \u001b[1;33m\u001b[0m\u001b[0m\n\u001b[0;32m    141\u001b[0m     \u001b[1;33m@\u001b[0m\u001b[0mstaticmethod\u001b[0m\u001b[1;33m\u001b[0m\u001b[1;33m\u001b[0m\u001b[0m\n",
      "\u001b[1;32mc:\\users\\joaqu\\prove-it\\packages\\proveit\\relation\\transitivity.py\u001b[0m in \u001b[0;36mconclude\u001b[1;34m(self, assumptions)\u001b[0m\n\u001b[0;32m     65\u001b[0m             \u001b[0mself\u001b[0m\u001b[1;33m.\u001b[0m\u001b[0mconcludeViaTransitivity\u001b[0m\u001b[1;33m(\u001b[0m\u001b[0massumptions\u001b[0m\u001b[1;33m)\u001b[0m\u001b[1;33m\u001b[0m\u001b[1;33m\u001b[0m\u001b[0m\n\u001b[0;32m     66\u001b[0m         \u001b[1;32mexcept\u001b[0m \u001b[0mTransitivityException\u001b[0m \u001b[1;32mas\u001b[0m \u001b[0me\u001b[0m\u001b[1;33m:\u001b[0m\u001b[1;33m\u001b[0m\u001b[1;33m\u001b[0m\u001b[0m\n\u001b[1;32m---> 67\u001b[1;33m             \u001b[1;32mraise\u001b[0m \u001b[0mTransitivityException\u001b[0m\u001b[1;33m(\u001b[0m\u001b[0mself\u001b[0m\u001b[1;33m,\u001b[0m \u001b[0massumptions\u001b[0m\u001b[1;33m,\u001b[0m \u001b[0me\u001b[0m\u001b[1;33m.\u001b[0m\u001b[0mmessage\u001b[0m\u001b[1;33m)\u001b[0m \u001b[1;31m# indicate the expression we were trying to prove\u001b[0m\u001b[1;33m\u001b[0m\u001b[1;33m\u001b[0m\u001b[0m\n\u001b[0m\u001b[0;32m     68\u001b[0m         \u001b[1;32mreturn\u001b[0m \u001b[0mself\u001b[0m\u001b[1;33m.\u001b[0m\u001b[0mprove\u001b[0m\u001b[1;33m(\u001b[0m\u001b[0massumptions\u001b[0m\u001b[1;33m=\u001b[0m\u001b[0massumptions\u001b[0m\u001b[1;33m,\u001b[0m \u001b[0mautomation\u001b[0m\u001b[1;33m=\u001b[0m\u001b[1;32mFalse\u001b[0m\u001b[1;33m)\u001b[0m \u001b[1;31m# may need to derive a weaker form, which should occur as a side-effect\u001b[0m\u001b[1;33m\u001b[0m\u001b[1;33m\u001b[0m\u001b[0m\n\u001b[0;32m     69\u001b[0m \u001b[1;33m\u001b[0m\u001b[0m\n",
      "\u001b[1;31mTransitivityException\u001b[0m: Unable to prove |{x_1 ,  ...  , x_l}| = |x_1,...,x_l| assuming {distinct(x_1 ,  ...  , x_l)}: No proof found via applying transitivity amongst known proven relations."
     ]
    }
   ],
   "source": [
    "Equals(Card(Set(xIter1l)), Len(xIter1l)).prove([Distinct(xIter1l)])"
   ]
  },
  {
   "cell_type": "code",
   "execution_count": 6,
   "metadata": {},
   "outputs": [
    {
     "data": {
      "text/html": [
       "<span style=\"font-size:20px;\"> &#x22A2;&nbsp;<a class=\"ProveItLink\" href=\"__pv_it/17b00160237243d6f37c914a22e7e7489cd090990/expr.ipynb\"><img src=\"__pv_it/17b00160237243d6f37c914a22e7e7489cd090990/expr.png\" style=\"display:inline;vertical-align:middle;\" /></a></span>"
      ],
      "text/plain": [
       "|= forall_{l in NaturalsPos} [forall_{S, N | |S| >= N} [exists_{x_1,...,x_l in S | |x_1,...,x_l| = N} distinct(x_1 ,  ...  , x_l)]]"
      ]
     },
     "execution_count": 6,
     "metadata": {},
     "output_type": "execute_result"
    }
   ],
   "source": [
    "from proveit.logic.set_theory.cardinality._theorems_ import distinctSubsetExistence\n",
    "distinctSubsetExistence"
   ]
  },
  {
   "cell_type": "code",
   "execution_count": 12,
   "metadata": {},
   "outputs": [
    {
     "data": {
      "text/html": [
       "<span style=\"font-size:20px;\"><a class=\"ProveItLink\" href=\"__pv_it/c9055e501daad700c3731480a5c6e16fa9b1e9eb0/expr.ipynb\"><img src=\"__pv_it/c9055e501daad700c3731480a5c6e16fa9b1e9eb0/expr.png\" style=\"display:inline;vertical-align:middle;\" /></a> &#x22A2;&nbsp;<a class=\"ProveItLink\" href=\"__pv_it/25029fc04ad1db0c25880315cdb67970b6ab54350/expr.ipynb\"><img src=\"__pv_it/25029fc04ad1db0c25880315cdb67970b6ab54350/expr.png\" style=\"display:inline;vertical-align:middle;\" /></a></span>"
      ],
      "text/plain": [
       "{l in NaturalsPos} |= forall_{S, N | |S| >= N} [exists_{x_1,...,x_l in S | |x_1,...,x_l| = N} distinct(x_1 ,  ...  , x_l)]"
      ]
     },
     "execution_count": 12,
     "metadata": {},
     "output_type": "execute_result"
    }
   ],
   "source": [
    "distinctSubsetExistence.specialize(assumptions=[InSet(l, NaturalsPos)])"
   ]
  },
  {
   "cell_type": "markdown",
   "metadata": {},
   "source": [
    "distinctSubsetExistence"
   ]
  },
  {
   "cell_type": "code",
   "execution_count": 8,
   "metadata": {},
   "outputs": [
    {
     "name": "stdout",
     "output_type": "stream",
     "text": [
      "4\n"
     ]
    },
    {
     "ename": "SpecializationFailure",
     "evalue": "Unable to prove exists_{x_1,...,x_l in S | |x_1,...,x_l| = 4} distinct(x_1 ,  ...  , x_l) assuming {|(A , B , C , D)| = N, |S| >= N, l in NaturalsPos, |S| >= 4}: Unmet specialization requirement: |S| >= 4",
     "output_type": "error",
     "traceback": [
      "\u001b[1;31m---------------------------------------------------------------------------\u001b[0m",
      "\u001b[1;31mProofFailure\u001b[0m                              Traceback (most recent call last)",
      "\u001b[1;32mc:\\users\\joaqu\\prove-it\\packages\\proveit\\_core_\\expression\\expr.py\u001b[0m in \u001b[0;36mprove\u001b[1;34m(self, assumptions, automation)\u001b[0m\n\u001b[0;32m    409\u001b[0m                     \u001b[1;31m# first attempt to prove via implication\u001b[0m\u001b[1;33m\u001b[0m\u001b[1;33m\u001b[0m\u001b[1;33m\u001b[0m\u001b[0m\n\u001b[1;32m--> 410\u001b[1;33m                     \u001b[0mconcludedTruth\u001b[0m \u001b[1;33m=\u001b[0m \u001b[0mself\u001b[0m\u001b[1;33m.\u001b[0m\u001b[0mconcludeViaImplication\u001b[0m\u001b[1;33m(\u001b[0m\u001b[0massumptions\u001b[0m\u001b[1;33m)\u001b[0m\u001b[1;33m\u001b[0m\u001b[1;33m\u001b[0m\u001b[0m\n\u001b[0m\u001b[0;32m    411\u001b[0m                 \u001b[1;32mexcept\u001b[0m \u001b[0mProofFailure\u001b[0m\u001b[1;33m:\u001b[0m\u001b[1;33m\u001b[0m\u001b[1;33m\u001b[0m\u001b[0m\n",
      "\u001b[1;32mc:\\users\\joaqu\\prove-it\\packages\\proveit\\_core_\\expression\\expr.py\u001b[0m in \u001b[0;36mconcludeViaImplication\u001b[1;34m(self, assumptions)\u001b[0m\n\u001b[0;32m    458\u001b[0m         \u001b[1;32mfrom\u001b[0m \u001b[0mproveit\u001b[0m\u001b[1;33m.\u001b[0m\u001b[0mlogic\u001b[0m \u001b[1;32mimport\u001b[0m \u001b[0mconcludeViaImplication\u001b[0m\u001b[1;33m\u001b[0m\u001b[1;33m\u001b[0m\u001b[0m\n\u001b[1;32m--> 459\u001b[1;33m         \u001b[1;32mreturn\u001b[0m \u001b[0mconcludeViaImplication\u001b[0m\u001b[1;33m(\u001b[0m\u001b[0mself\u001b[0m\u001b[1;33m,\u001b[0m \u001b[0massumptions\u001b[0m\u001b[1;33m)\u001b[0m\u001b[1;33m\u001b[0m\u001b[1;33m\u001b[0m\u001b[0m\n\u001b[0m\u001b[0;32m    460\u001b[0m \u001b[1;33m\u001b[0m\u001b[0m\n",
      "\u001b[1;32mc:\\users\\joaqu\\prove-it\\packages\\proveit\\logic\\boolean\\implication\\implies.py\u001b[0m in \u001b[0;36mconcludeViaImplication\u001b[1;34m(consequent, assumptions)\u001b[0m\n\u001b[0;32m    301\u001b[0m                         \u001b[0mqueue\u001b[0m\u001b[1;33m.\u001b[0m\u001b[0mappend\u001b[0m\u001b[1;33m(\u001b[0m\u001b[0mlocal_antecedent\u001b[0m\u001b[1;33m)\u001b[0m\u001b[1;33m\u001b[0m\u001b[1;33m\u001b[0m\u001b[0m\n\u001b[1;32m--> 302\u001b[1;33m     \u001b[1;32mraise\u001b[0m \u001b[0mProofFailure\u001b[0m\u001b[1;33m(\u001b[0m\u001b[0mconsequent\u001b[0m\u001b[1;33m,\u001b[0m \u001b[0massumptions\u001b[0m\u001b[1;33m,\u001b[0m \u001b[1;34m'Unable to conclude via implications'\u001b[0m\u001b[1;33m)\u001b[0m\u001b[1;33m\u001b[0m\u001b[1;33m\u001b[0m\u001b[0m\n\u001b[0m\u001b[0;32m    303\u001b[0m \u001b[1;33m\u001b[0m\u001b[0m\n",
      "\u001b[1;31mProofFailure\u001b[0m: Unable to prove |S| >= 4 assuming {|(A , B , C , D)| = N, |S| >= N, l in NaturalsPos, |S| >= 4}: Unable to conclude via implications",
      "\nDuring handling of the above exception, another exception occurred:\n",
      "\u001b[1;31mTransitivityException\u001b[0m                     Traceback (most recent call last)",
      "\u001b[1;32mc:\\users\\joaqu\\prove-it\\packages\\proveit\\relation\\transitivity.py\u001b[0m in \u001b[0;36mconclude\u001b[1;34m(self, assumptions)\u001b[0m\n\u001b[0;32m     64\u001b[0m         \u001b[1;32mtry\u001b[0m\u001b[1;33m:\u001b[0m\u001b[1;33m\u001b[0m\u001b[1;33m\u001b[0m\u001b[0m\n\u001b[1;32m---> 65\u001b[1;33m             \u001b[0mself\u001b[0m\u001b[1;33m.\u001b[0m\u001b[0mconcludeViaTransitivity\u001b[0m\u001b[1;33m(\u001b[0m\u001b[0massumptions\u001b[0m\u001b[1;33m)\u001b[0m\u001b[1;33m\u001b[0m\u001b[1;33m\u001b[0m\u001b[0m\n\u001b[0m\u001b[0;32m     66\u001b[0m         \u001b[1;32mexcept\u001b[0m \u001b[0mTransitivityException\u001b[0m \u001b[1;32mas\u001b[0m \u001b[0me\u001b[0m\u001b[1;33m:\u001b[0m\u001b[1;33m\u001b[0m\u001b[1;33m\u001b[0m\u001b[0m\n",
      "\u001b[1;32mc:\\users\\joaqu\\prove-it\\packages\\proveit\\relation\\transitivity.py\u001b[0m in \u001b[0;36mconcludeViaTransitivity\u001b[1;34m(self, assumptions)\u001b[0m\n\u001b[0;32m     74\u001b[0m         \u001b[1;32melse\u001b[0m\u001b[1;33m:\u001b[0m \u001b[0mforceStrong\u001b[0m \u001b[1;33m=\u001b[0m \u001b[1;33m(\u001b[0m\u001b[0mself\u001b[0m\u001b[1;33m.\u001b[0m\u001b[0m__class__\u001b[0m \u001b[1;33m==\u001b[0m \u001b[0mself\u001b[0m\u001b[1;33m.\u001b[0m\u001b[0m__class__\u001b[0m\u001b[1;33m.\u001b[0m\u001b[0m_checkedStrongRelationClass\u001b[0m\u001b[1;33m(\u001b[0m\u001b[1;33m)\u001b[0m\u001b[1;33m)\u001b[0m\u001b[1;33m\u001b[0m\u001b[1;33m\u001b[0m\u001b[0m\n\u001b[1;32m---> 75\u001b[1;33m         \u001b[1;32mreturn\u001b[0m \u001b[0mself\u001b[0m\u001b[1;33m.\u001b[0m\u001b[0m__class__\u001b[0m\u001b[1;33m.\u001b[0m\u001b[0m_transitivitySearch\u001b[0m\u001b[1;33m(\u001b[0m\u001b[0mself\u001b[0m\u001b[1;33m.\u001b[0m\u001b[0mlhs\u001b[0m\u001b[1;33m,\u001b[0m \u001b[0mself\u001b[0m\u001b[1;33m.\u001b[0m\u001b[0mrhs\u001b[0m\u001b[1;33m,\u001b[0m \u001b[0mforceStrong\u001b[0m\u001b[1;33m=\u001b[0m\u001b[0mforceStrong\u001b[0m\u001b[1;33m,\u001b[0m \u001b[0massumptions\u001b[0m\u001b[1;33m=\u001b[0m\u001b[0massumptions\u001b[0m\u001b[1;33m)\u001b[0m\u001b[1;33m\u001b[0m\u001b[1;33m\u001b[0m\u001b[0m\n\u001b[0m\u001b[0;32m     76\u001b[0m \u001b[1;33m\u001b[0m\u001b[0m\n",
      "\u001b[1;32mc:\\users\\joaqu\\prove-it\\packages\\proveit\\relation\\transitivity.py\u001b[0m in \u001b[0;36m_transitivitySearch\u001b[1;34m(RelationClass, leftItem, rightItem, forceStrong, assumptions)\u001b[0m\n\u001b[0;32m    290\u001b[0m         \u001b[0mDesiredRelationClass\u001b[0m \u001b[1;33m=\u001b[0m \u001b[0mRelationClass\u001b[0m\u001b[1;33m.\u001b[0m\u001b[0m_checkedStrongRelationClass\u001b[0m\u001b[1;33m(\u001b[0m\u001b[1;33m)\u001b[0m \u001b[1;32mif\u001b[0m \u001b[0mforceStrong\u001b[0m \u001b[1;32melse\u001b[0m  \u001b[0mRelationClass\u001b[0m\u001b[1;33m.\u001b[0m\u001b[0m_checkedWeakRelationClass\u001b[0m\u001b[1;33m(\u001b[0m\u001b[1;33m)\u001b[0m\u001b[1;33m\u001b[0m\u001b[1;33m\u001b[0m\u001b[0m\n\u001b[1;32m--> 291\u001b[1;33m         \u001b[1;32mraise\u001b[0m \u001b[0mTransitivityException\u001b[0m\u001b[1;33m(\u001b[0m\u001b[0mDesiredRelationClass\u001b[0m\u001b[1;33m(\u001b[0m\u001b[0mleftItem\u001b[0m\u001b[1;33m,\u001b[0m \u001b[0mrightItem\u001b[0m\u001b[1;33m)\u001b[0m\u001b[1;33m,\u001b[0m \u001b[0massumptions\u001b[0m\u001b[1;33m,\u001b[0m \u001b[1;34m'No proof found via applying transitivity amongst known proven relations.'\u001b[0m\u001b[1;33m)\u001b[0m\u001b[1;33m\u001b[0m\u001b[1;33m\u001b[0m\u001b[0m\n\u001b[0m\u001b[0;32m    292\u001b[0m \u001b[1;33m\u001b[0m\u001b[0m\n",
      "\u001b[1;31mTransitivityException\u001b[0m: Unable to prove |S| >= 4 assuming {|(A , B , C , D)| = N, |S| >= N, l in NaturalsPos, |S| >= 4}: No proof found via applying transitivity amongst known proven relations.",
      "\nDuring handling of the above exception, another exception occurred:\n",
      "\u001b[1;31mTransitivityException\u001b[0m                     Traceback (most recent call last)",
      "\u001b[1;32mc:\\users\\joaqu\\prove-it\\packages\\proveit\\_core_\\proof.py\u001b[0m in \u001b[0;36m__init__\u001b[1;34m(self, generalTruth, numForallEliminations, specializeMap, relabelMap, assumptions)\u001b[0m\n\u001b[0;32m    733\u001b[0m                     \u001b[1;31m# (if WILDCARD_ASSUMPTIONS is included, it will be proven by assumption if there isn't an existing proof otherwise)\u001b[0m\u001b[1;33m\u001b[0m\u001b[1;33m\u001b[0m\u001b[1;33m\u001b[0m\u001b[0m\n\u001b[1;32m--> 734\u001b[1;33m                     \u001b[0mrequirementTruth\u001b[0m \u001b[1;33m=\u001b[0m \u001b[0mrequirementExpr\u001b[0m\u001b[1;33m.\u001b[0m\u001b[0mprove\u001b[0m\u001b[1;33m(\u001b[0m\u001b[0massumptions\u001b[0m\u001b[1;33m)\u001b[0m\u001b[1;33m\u001b[0m\u001b[1;33m\u001b[0m\u001b[0m\n\u001b[0m\u001b[0;32m    735\u001b[0m                     \u001b[1;32mif\u001b[0m \u001b[0mrequirementTruth\u001b[0m \u001b[1;32mnot\u001b[0m \u001b[1;32min\u001b[0m \u001b[0mrequirementTruthSet\u001b[0m\u001b[1;33m:\u001b[0m\u001b[1;33m\u001b[0m\u001b[1;33m\u001b[0m\u001b[0m\n",
      "\u001b[1;32mc:\\users\\joaqu\\prove-it\\packages\\proveit\\_core_\\expression\\expr.py\u001b[0m in \u001b[0;36mprove\u001b[1;34m(self, assumptions, automation)\u001b[0m\n\u001b[0;32m    412\u001b[0m                     \u001b[1;31m# try the 'conclude' method of the specific Expression class\u001b[0m\u001b[1;33m\u001b[0m\u001b[1;33m\u001b[0m\u001b[1;33m\u001b[0m\u001b[0m\n\u001b[1;32m--> 413\u001b[1;33m                     \u001b[0mconcludedTruth\u001b[0m \u001b[1;33m=\u001b[0m \u001b[0mself\u001b[0m\u001b[1;33m.\u001b[0m\u001b[0mconclude\u001b[0m\u001b[1;33m(\u001b[0m\u001b[0massumptions\u001b[0m\u001b[1;33m)\u001b[0m\u001b[1;33m\u001b[0m\u001b[1;33m\u001b[0m\u001b[0m\n\u001b[0m\u001b[0;32m    414\u001b[0m             \u001b[1;32mif\u001b[0m \u001b[0mconcludedTruth\u001b[0m \u001b[1;32mis\u001b[0m \u001b[1;32mNone\u001b[0m\u001b[1;33m:\u001b[0m\u001b[1;33m\u001b[0m\u001b[1;33m\u001b[0m\u001b[0m\n",
      "\u001b[1;32mc:\\users\\joaqu\\prove-it\\packages\\proveit\\relation\\transitivity.py\u001b[0m in \u001b[0;36mconclude\u001b[1;34m(self, assumptions)\u001b[0m\n\u001b[0;32m     66\u001b[0m         \u001b[1;32mexcept\u001b[0m \u001b[0mTransitivityException\u001b[0m \u001b[1;32mas\u001b[0m \u001b[0me\u001b[0m\u001b[1;33m:\u001b[0m\u001b[1;33m\u001b[0m\u001b[1;33m\u001b[0m\u001b[0m\n\u001b[1;32m---> 67\u001b[1;33m             \u001b[1;32mraise\u001b[0m \u001b[0mTransitivityException\u001b[0m\u001b[1;33m(\u001b[0m\u001b[0mself\u001b[0m\u001b[1;33m,\u001b[0m \u001b[0massumptions\u001b[0m\u001b[1;33m,\u001b[0m \u001b[0me\u001b[0m\u001b[1;33m.\u001b[0m\u001b[0mmessage\u001b[0m\u001b[1;33m)\u001b[0m \u001b[1;31m# indicate the expression we were trying to prove\u001b[0m\u001b[1;33m\u001b[0m\u001b[1;33m\u001b[0m\u001b[0m\n\u001b[0m\u001b[0;32m     68\u001b[0m         \u001b[1;32mreturn\u001b[0m \u001b[0mself\u001b[0m\u001b[1;33m.\u001b[0m\u001b[0mprove\u001b[0m\u001b[1;33m(\u001b[0m\u001b[0massumptions\u001b[0m\u001b[1;33m=\u001b[0m\u001b[0massumptions\u001b[0m\u001b[1;33m,\u001b[0m \u001b[0mautomation\u001b[0m\u001b[1;33m=\u001b[0m\u001b[1;32mFalse\u001b[0m\u001b[1;33m)\u001b[0m \u001b[1;31m# may need to derive a weaker form, which should occur as a side-effect\u001b[0m\u001b[1;33m\u001b[0m\u001b[1;33m\u001b[0m\u001b[0m\n",
      "\u001b[1;31mTransitivityException\u001b[0m: Unable to prove |S| >= 4 assuming {|(A , B , C , D)| = N, |S| >= N, l in NaturalsPos, |S| >= 4}: No proof found via applying transitivity amongst known proven relations.",
      "\nDuring handling of the above exception, another exception occurred:\n",
      "\u001b[1;31mSpecializationFailure\u001b[0m                     Traceback (most recent call last)",
      "\u001b[1;32m<ipython-input-8-9a7c2ac89057>\u001b[0m in \u001b[0;36m<module>\u001b[1;34m\u001b[0m\n\u001b[1;32m----> 1\u001b[1;33m \u001b[0mCard\u001b[0m\u001b[1;33m(\u001b[0m\u001b[0mS\u001b[0m\u001b[1;33m)\u001b[0m\u001b[1;33m.\u001b[0m\u001b[0mdistinctSubsetExistence\u001b[0m\u001b[1;33m(\u001b[0m\u001b[0melems\u001b[0m \u001b[1;33m=\u001b[0m \u001b[1;33m[\u001b[0m\u001b[0mA\u001b[0m\u001b[1;33m,\u001b[0m\u001b[0mB\u001b[0m\u001b[1;33m,\u001b[0m\u001b[0mC\u001b[0m\u001b[1;33m,\u001b[0m\u001b[0mD\u001b[0m\u001b[1;33m]\u001b[0m\u001b[1;33m,\u001b[0m \u001b[0massumptions\u001b[0m\u001b[1;33m=\u001b[0m\u001b[1;33m[\u001b[0m\u001b[0mEquals\u001b[0m\u001b[1;33m(\u001b[0m\u001b[0mLen\u001b[0m\u001b[1;33m(\u001b[0m\u001b[1;33m[\u001b[0m\u001b[0mA\u001b[0m\u001b[1;33m,\u001b[0m\u001b[0mB\u001b[0m\u001b[1;33m,\u001b[0m\u001b[0mC\u001b[0m\u001b[1;33m,\u001b[0m\u001b[0mD\u001b[0m\u001b[1;33m]\u001b[0m\u001b[1;33m)\u001b[0m\u001b[1;33m,\u001b[0m \u001b[0mN\u001b[0m\u001b[1;33m)\u001b[0m\u001b[1;33m,\u001b[0m \u001b[0mGreaterEq\u001b[0m\u001b[1;33m(\u001b[0m\u001b[0mCard\u001b[0m\u001b[1;33m(\u001b[0m\u001b[0mS\u001b[0m\u001b[1;33m)\u001b[0m\u001b[1;33m,\u001b[0m \u001b[0mN\u001b[0m\u001b[1;33m)\u001b[0m\u001b[1;33m,\u001b[0m  \u001b[0mInSet\u001b[0m\u001b[1;33m(\u001b[0m\u001b[0ml\u001b[0m\u001b[1;33m,\u001b[0m \u001b[0mNaturalsPos\u001b[0m\u001b[1;33m)\u001b[0m\u001b[1;33m,\u001b[0m \u001b[0mGreaterEq\u001b[0m\u001b[1;33m(\u001b[0m\u001b[0mLen\u001b[0m\u001b[1;33m(\u001b[0m\u001b[0mS\u001b[0m\u001b[1;33m)\u001b[0m\u001b[1;33m,\u001b[0m\u001b[0mfour\u001b[0m\u001b[1;33m)\u001b[0m\u001b[1;33m]\u001b[0m\u001b[1;33m)\u001b[0m\u001b[1;33m\u001b[0m\u001b[1;33m\u001b[0m\u001b[0m\n\u001b[0m",
      "\u001b[1;32mc:\\users\\joaqu\\prove-it\\packages\\proveit\\logic\\set_theory\\cardinality\\cardinality.py\u001b[0m in \u001b[0;36mdistinctSubsetExistence\u001b[1;34m(self, elems, assumptions)\u001b[0m\n\u001b[0;32m     29\u001b[0m             \u001b[1;32mreturn\u001b[0m \u001b[0mdistinctPairExistence\u001b[0m\u001b[1;33m.\u001b[0m\u001b[0mspecialize\u001b[0m\u001b[1;33m(\u001b[0m\u001b[1;33m{\u001b[0m\u001b[0mS\u001b[0m\u001b[1;33m:\u001b[0m\u001b[0mself\u001b[0m\u001b[1;33m.\u001b[0m\u001b[0mdomain\u001b[0m\u001b[1;33m}\u001b[0m\u001b[1;33m,\u001b[0m \u001b[0mrelabelMap\u001b[0m\u001b[1;33m=\u001b[0m\u001b[1;33m{\u001b[0m\u001b[0ma\u001b[0m\u001b[1;33m:\u001b[0m\u001b[0maVar\u001b[0m\u001b[1;33m,\u001b[0m \u001b[0mb\u001b[0m\u001b[1;33m:\u001b[0m\u001b[0mbVar\u001b[0m\u001b[1;33m}\u001b[0m\u001b[1;33m,\u001b[0m \u001b[0massumptions\u001b[0m\u001b[1;33m=\u001b[0m\u001b[0massumptions\u001b[0m\u001b[1;33m)\u001b[0m\u001b[1;33m\u001b[0m\u001b[1;33m\u001b[0m\u001b[0m\n\u001b[0;32m     30\u001b[0m         \u001b[1;32melse\u001b[0m\u001b[1;33m:\u001b[0m\u001b[1;33m\u001b[0m\u001b[1;33m\u001b[0m\u001b[0m\n\u001b[1;32m---> 31\u001b[1;33m             \u001b[1;32mreturn\u001b[0m \u001b[0mdistinctSubsetExistence\u001b[0m\u001b[1;33m.\u001b[0m\u001b[0mspecialize\u001b[0m\u001b[1;33m(\u001b[0m\u001b[1;33m{\u001b[0m\u001b[0mS\u001b[0m\u001b[1;33m:\u001b[0m\u001b[0mself\u001b[0m\u001b[1;33m.\u001b[0m\u001b[0mdomain\u001b[0m\u001b[1;33m,\u001b[0m \u001b[0mN\u001b[0m\u001b[1;33m:\u001b[0m\u001b[0mnum\u001b[0m\u001b[1;33m(\u001b[0m\u001b[0mlen\u001b[0m\u001b[1;33m(\u001b[0m\u001b[0melems\u001b[0m\u001b[1;33m)\u001b[0m\u001b[1;33m)\u001b[0m\u001b[1;33m}\u001b[0m\u001b[1;33m,\u001b[0m \u001b[0massumptions\u001b[0m\u001b[1;33m=\u001b[0m\u001b[0massumptions\u001b[0m\u001b[1;33m)\u001b[0m\u001b[1;33m\u001b[0m\u001b[1;33m\u001b[0m\u001b[0m\n\u001b[0m\u001b[0;32m     32\u001b[0m \u001b[1;33m\u001b[0m\u001b[0m\n",
      "\u001b[1;32mc:\\users\\joaqu\\prove-it\\packages\\proveit\\_core_\\known_truth.py\u001b[0m in \u001b[0;36mspecialize\u001b[1;34m(self, specializeMap, relabelMap, assumptions)\u001b[0m\n\u001b[0;32m    760\u001b[0m                     \u001b[0mprocessedSubMap\u001b[0m\u001b[1;33m[\u001b[0m\u001b[0miVar\u001b[0m\u001b[1;33m]\u001b[0m \u001b[1;33m=\u001b[0m \u001b[0miVar\u001b[0m\u001b[1;33m\u001b[0m\u001b[1;33m\u001b[0m\u001b[0m\n\u001b[0;32m    761\u001b[0m \u001b[1;33m\u001b[0m\u001b[0m\n\u001b[1;32m--> 762\u001b[1;33m         \u001b[1;32mreturn\u001b[0m \u001b[0mself\u001b[0m\u001b[1;33m.\u001b[0m\u001b[0m_checkedTruth\u001b[0m\u001b[1;33m(\u001b[0m\u001b[0mSpecialization\u001b[0m\u001b[1;33m(\u001b[0m\u001b[0mself\u001b[0m\u001b[1;33m,\u001b[0m \u001b[0mnumForallEliminations\u001b[0m\u001b[1;33m=\u001b[0m\u001b[0mnumForallEliminations\u001b[0m\u001b[1;33m,\u001b[0m \u001b[0mspecializeMap\u001b[0m\u001b[1;33m=\u001b[0m\u001b[0mprocessedSubMap\u001b[0m\u001b[1;33m,\u001b[0m \u001b[0mrelabelMap\u001b[0m\u001b[1;33m=\u001b[0m\u001b[0mrelabelMap\u001b[0m\u001b[1;33m,\u001b[0m \u001b[0massumptions\u001b[0m\u001b[1;33m=\u001b[0m\u001b[0massumptions\u001b[0m\u001b[1;33m)\u001b[0m\u001b[1;33m)\u001b[0m\u001b[1;33m\u001b[0m\u001b[1;33m\u001b[0m\u001b[0m\n\u001b[0m\u001b[0;32m    763\u001b[0m \u001b[1;33m\u001b[0m\u001b[0m\n\u001b[0;32m    764\u001b[0m     \u001b[1;32mdef\u001b[0m \u001b[0mgeneralize\u001b[0m\u001b[1;33m(\u001b[0m\u001b[0mself\u001b[0m\u001b[1;33m,\u001b[0m \u001b[0mforallVarLists\u001b[0m\u001b[1;33m,\u001b[0m \u001b[0mdomainLists\u001b[0m\u001b[1;33m=\u001b[0m\u001b[1;32mNone\u001b[0m\u001b[1;33m,\u001b[0m \u001b[0mdomain\u001b[0m\u001b[1;33m=\u001b[0m\u001b[1;32mNone\u001b[0m\u001b[1;33m,\u001b[0m \u001b[0mconditions\u001b[0m\u001b[1;33m=\u001b[0m\u001b[0mtuple\u001b[0m\u001b[1;33m(\u001b[0m\u001b[1;33m)\u001b[0m\u001b[1;33m)\u001b[0m\u001b[1;33m:\u001b[0m\u001b[1;33m\u001b[0m\u001b[1;33m\u001b[0m\u001b[0m\n",
      "\u001b[1;32mc:\\users\\joaqu\\prove-it\\packages\\proveit\\_core_\\proof.py\u001b[0m in \u001b[0;36m__init__\u001b[1;34m(self, generalTruth, numForallEliminations, specializeMap, relabelMap, assumptions)\u001b[0m\n\u001b[0;32m    738\u001b[0m                         \u001b[0m_appendExtraAssumptions\u001b[0m\u001b[1;33m(\u001b[0m\u001b[0massumptions\u001b[0m\u001b[1;33m,\u001b[0m \u001b[0mrequirementTruth\u001b[0m\u001b[1;33m)\u001b[0m\u001b[1;33m\u001b[0m\u001b[1;33m\u001b[0m\u001b[0m\n\u001b[0;32m    739\u001b[0m                 \u001b[1;32mexcept\u001b[0m \u001b[0mProofFailure\u001b[0m\u001b[1;33m:\u001b[0m\u001b[1;33m\u001b[0m\u001b[1;33m\u001b[0m\u001b[0m\n\u001b[1;32m--> 740\u001b[1;33m                     \u001b[1;32mraise\u001b[0m \u001b[0mFailure\u001b[0m\u001b[1;33m(\u001b[0m\u001b[0mspecializedExpr\u001b[0m\u001b[1;33m,\u001b[0m \u001b[0massumptions\u001b[0m\u001b[1;33m,\u001b[0m \u001b[1;34m'Unmet specialization requirement: '\u001b[0m \u001b[1;33m+\u001b[0m \u001b[0mstr\u001b[0m\u001b[1;33m(\u001b[0m\u001b[0mrequirementExpr\u001b[0m\u001b[1;33m)\u001b[0m\u001b[1;33m)\u001b[0m\u001b[1;33m\u001b[0m\u001b[1;33m\u001b[0m\u001b[0m\n\u001b[0m\u001b[0;32m    741\u001b[0m             \u001b[1;31m# remove any unnecessary assumptions (but keep the order that was provided)\u001b[0m\u001b[1;33m\u001b[0m\u001b[1;33m\u001b[0m\u001b[1;33m\u001b[0m\u001b[0m\n\u001b[0;32m    742\u001b[0m             \u001b[0massumptionsSet\u001b[0m \u001b[1;33m=\u001b[0m \u001b[0mgeneralTruth\u001b[0m\u001b[1;33m.\u001b[0m\u001b[0massumptionsSet\u001b[0m\u001b[1;33m\u001b[0m\u001b[1;33m\u001b[0m\u001b[0m\n",
      "\u001b[1;31mSpecializationFailure\u001b[0m: Unable to prove exists_{x_1,...,x_l in S | |x_1,...,x_l| = 4} distinct(x_1 ,  ...  , x_l) assuming {|(A , B , C , D)| = N, |S| >= N, l in NaturalsPos, |S| >= 4}: Unmet specialization requirement: |S| >= 4"
     ]
    }
   ],
   "source": [
    "Card(S).distinctSubsetExistence(elems = [A,B,C,D], assumptions=[Equals(Len([A,B,C,D]), N), GreaterEq(Card(S), N),  InSet(l, NaturalsPos), GreaterEq(Len(S),four)])"
   ]
  },
  {
   "cell_type": "markdown",
   "metadata": {},
   "source": [
    "distinctPairExistence"
   ]
  },
  {
   "cell_type": "code",
   "execution_count": 12,
   "metadata": {},
   "outputs": [
    {
     "name": "stdout",
     "output_type": "stream",
     "text": [
      "2\n"
     ]
    },
    {
     "ename": "Exception",
     "evalue": "Side effect failure for exists_{A, B in S} (A != B), while running <bound method Exists.deriveNegatedForall of exists_{A, B in S} (A != B)>: Need to update",
     "output_type": "error",
     "traceback": [
      "\u001b[1;31m---------------------------------------------------------------------------\u001b[0m",
      "\u001b[1;31mNotImplementedError\u001b[0m                       Traceback (most recent call last)",
      "\u001b[1;32mc:\\users\\joaqu\\prove-it\\packages\\proveit\\_core_\\known_truth.py\u001b[0m in \u001b[0;36mderiveSideEffects\u001b[1;34m(self, assumptions)\u001b[0m\n\u001b[0;32m    191\u001b[0m                         \u001b[1;31m# assumptions utilized in the last derivation step.\u001b[0m\u001b[1;33m\u001b[0m\u001b[1;33m\u001b[0m\u001b[1;33m\u001b[0m\u001b[0m\n\u001b[1;32m--> 192\u001b[1;33m                         \u001b[0msideEffect\u001b[0m\u001b[1;33m(\u001b[0m\u001b[0massumptions\u001b[0m\u001b[1;33m=\u001b[0m\u001b[0massumptions\u001b[0m\u001b[1;33m)\u001b[0m\u001b[1;33m\u001b[0m\u001b[1;33m\u001b[0m\u001b[0m\n\u001b[0m\u001b[0;32m    193\u001b[0m                     \u001b[1;32mexcept\u001b[0m \u001b[0mProofFailure\u001b[0m\u001b[1;33m:\u001b[0m\u001b[1;33m\u001b[0m\u001b[1;33m\u001b[0m\u001b[0m\n",
      "\u001b[1;32mc:\\users\\joaqu\\prove-it\\packages\\proveit\\logic\\boolean\\quantification\\existential\\exists.py\u001b[0m in \u001b[0;36mderiveNegatedForall\u001b[1;34m(self, assumptions)\u001b[0m\n\u001b[0;32m     70\u001b[0m         '''\n\u001b[1;32m---> 71\u001b[1;33m         \u001b[1;32mraise\u001b[0m \u001b[0mNotImplementedError\u001b[0m\u001b[1;33m(\u001b[0m\u001b[1;34m\"Need to update\"\u001b[0m\u001b[1;33m)\u001b[0m\u001b[1;33m\u001b[0m\u001b[1;33m\u001b[0m\u001b[0m\n\u001b[0m\u001b[0;32m     72\u001b[0m         \u001b[1;32mfrom\u001b[0m \u001b[1;33m.\u001b[0m\u001b[0m_axioms_\u001b[0m \u001b[1;32mimport\u001b[0m \u001b[0mexistsDef\u001b[0m\u001b[1;33m\u001b[0m\u001b[1;33m\u001b[0m\u001b[0m\n",
      "\u001b[1;31mNotImplementedError\u001b[0m: Need to update",
      "\nDuring handling of the above exception, another exception occurred:\n",
      "\u001b[1;31mException\u001b[0m                                 Traceback (most recent call last)",
      "\u001b[1;32m<ipython-input-12-d7e723bcb6f3>\u001b[0m in \u001b[0;36m<module>\u001b[1;34m\u001b[0m\n\u001b[1;32m----> 1\u001b[1;33m \u001b[0mCard\u001b[0m\u001b[1;33m(\u001b[0m\u001b[0mS\u001b[0m\u001b[1;33m)\u001b[0m\u001b[1;33m.\u001b[0m\u001b[0mdistinctSubsetExistence\u001b[0m\u001b[1;33m(\u001b[0m\u001b[0melems\u001b[0m \u001b[1;33m=\u001b[0m \u001b[1;33m[\u001b[0m\u001b[0mA\u001b[0m\u001b[1;33m,\u001b[0m\u001b[0mB\u001b[0m\u001b[1;33m]\u001b[0m\u001b[1;33m,\u001b[0m \u001b[0massumptions\u001b[0m\u001b[1;33m=\u001b[0m\u001b[1;33m[\u001b[0m\u001b[0mGreaterEq\u001b[0m\u001b[1;33m(\u001b[0m\u001b[0mCard\u001b[0m\u001b[1;33m(\u001b[0m\u001b[0mS\u001b[0m\u001b[1;33m)\u001b[0m\u001b[1;33m,\u001b[0m \u001b[0mnum\u001b[0m\u001b[1;33m(\u001b[0m\u001b[1;36m2\u001b[0m\u001b[1;33m)\u001b[0m\u001b[1;33m)\u001b[0m\u001b[1;33m,\u001b[0m \u001b[0mInSet\u001b[0m\u001b[1;33m(\u001b[0m\u001b[0ml\u001b[0m\u001b[1;33m,\u001b[0m \u001b[0mNaturalsPos\u001b[0m\u001b[1;33m)\u001b[0m\u001b[1;33m]\u001b[0m\u001b[1;33m)\u001b[0m\u001b[1;33m\u001b[0m\u001b[1;33m\u001b[0m\u001b[0m\n\u001b[0m",
      "\u001b[1;32mc:\\users\\joaqu\\prove-it\\packages\\proveit\\logic\\set_theory\\cardinality\\cardinality.py\u001b[0m in \u001b[0;36mdistinctSubsetExistence\u001b[1;34m(self, elems, assumptions)\u001b[0m\n\u001b[0;32m     27\u001b[0m         \u001b[1;32mif\u001b[0m \u001b[0mlen\u001b[0m\u001b[1;33m(\u001b[0m\u001b[0melems\u001b[0m\u001b[1;33m)\u001b[0m\u001b[1;33m==\u001b[0m\u001b[1;36m2\u001b[0m\u001b[1;33m:\u001b[0m\u001b[1;33m\u001b[0m\u001b[1;33m\u001b[0m\u001b[0m\n\u001b[0;32m     28\u001b[0m             \u001b[0maVar\u001b[0m\u001b[1;33m,\u001b[0m \u001b[0mbVar\u001b[0m \u001b[1;33m=\u001b[0m \u001b[0melems\u001b[0m\u001b[1;33m\u001b[0m\u001b[1;33m\u001b[0m\u001b[0m\n\u001b[1;32m---> 29\u001b[1;33m             \u001b[1;32mreturn\u001b[0m \u001b[0mdistinctPairExistence\u001b[0m\u001b[1;33m.\u001b[0m\u001b[0mspecialize\u001b[0m\u001b[1;33m(\u001b[0m\u001b[1;33m{\u001b[0m\u001b[0mS\u001b[0m\u001b[1;33m:\u001b[0m\u001b[0mself\u001b[0m\u001b[1;33m.\u001b[0m\u001b[0mdomain\u001b[0m\u001b[1;33m}\u001b[0m\u001b[1;33m,\u001b[0m \u001b[0mrelabelMap\u001b[0m\u001b[1;33m=\u001b[0m\u001b[1;33m{\u001b[0m\u001b[0ma\u001b[0m\u001b[1;33m:\u001b[0m\u001b[0maVar\u001b[0m\u001b[1;33m,\u001b[0m \u001b[0mb\u001b[0m\u001b[1;33m:\u001b[0m\u001b[0mbVar\u001b[0m\u001b[1;33m}\u001b[0m\u001b[1;33m,\u001b[0m \u001b[0massumptions\u001b[0m\u001b[1;33m=\u001b[0m\u001b[0massumptions\u001b[0m\u001b[1;33m)\u001b[0m\u001b[1;33m\u001b[0m\u001b[1;33m\u001b[0m\u001b[0m\n\u001b[0m\u001b[0;32m     30\u001b[0m         \u001b[1;32melse\u001b[0m\u001b[1;33m:\u001b[0m\u001b[1;33m\u001b[0m\u001b[1;33m\u001b[0m\u001b[0m\n\u001b[0;32m     31\u001b[0m             \u001b[1;32mreturn\u001b[0m \u001b[0mdistinctSubsetExistence\u001b[0m\u001b[1;33m.\u001b[0m\u001b[0mspecialize\u001b[0m\u001b[1;33m(\u001b[0m\u001b[1;33m{\u001b[0m\u001b[0mS\u001b[0m\u001b[1;33m:\u001b[0m\u001b[0mself\u001b[0m\u001b[1;33m.\u001b[0m\u001b[0mdomain\u001b[0m\u001b[1;33m,\u001b[0m \u001b[0mN\u001b[0m\u001b[1;33m:\u001b[0m\u001b[0mnum\u001b[0m\u001b[1;33m(\u001b[0m\u001b[0mlen\u001b[0m\u001b[1;33m(\u001b[0m\u001b[0melems\u001b[0m\u001b[1;33m)\u001b[0m\u001b[1;33m)\u001b[0m\u001b[1;33m}\u001b[0m\u001b[1;33m,\u001b[0m \u001b[0massumptions\u001b[0m\u001b[1;33m=\u001b[0m\u001b[0massumptions\u001b[0m\u001b[1;33m)\u001b[0m\u001b[1;33m\u001b[0m\u001b[1;33m\u001b[0m\u001b[0m\n",
      "\u001b[1;32mc:\\users\\joaqu\\prove-it\\packages\\proveit\\_core_\\known_truth.py\u001b[0m in \u001b[0;36mspecialize\u001b[1;34m(self, specializeMap, relabelMap, assumptions)\u001b[0m\n\u001b[0;32m    760\u001b[0m                     \u001b[0mprocessedSubMap\u001b[0m\u001b[1;33m[\u001b[0m\u001b[0miVar\u001b[0m\u001b[1;33m]\u001b[0m \u001b[1;33m=\u001b[0m \u001b[0miVar\u001b[0m\u001b[1;33m\u001b[0m\u001b[1;33m\u001b[0m\u001b[0m\n\u001b[0;32m    761\u001b[0m \u001b[1;33m\u001b[0m\u001b[0m\n\u001b[1;32m--> 762\u001b[1;33m         \u001b[1;32mreturn\u001b[0m \u001b[0mself\u001b[0m\u001b[1;33m.\u001b[0m\u001b[0m_checkedTruth\u001b[0m\u001b[1;33m(\u001b[0m\u001b[0mSpecialization\u001b[0m\u001b[1;33m(\u001b[0m\u001b[0mself\u001b[0m\u001b[1;33m,\u001b[0m \u001b[0mnumForallEliminations\u001b[0m\u001b[1;33m=\u001b[0m\u001b[0mnumForallEliminations\u001b[0m\u001b[1;33m,\u001b[0m \u001b[0mspecializeMap\u001b[0m\u001b[1;33m=\u001b[0m\u001b[0mprocessedSubMap\u001b[0m\u001b[1;33m,\u001b[0m \u001b[0mrelabelMap\u001b[0m\u001b[1;33m=\u001b[0m\u001b[0mrelabelMap\u001b[0m\u001b[1;33m,\u001b[0m \u001b[0massumptions\u001b[0m\u001b[1;33m=\u001b[0m\u001b[0massumptions\u001b[0m\u001b[1;33m)\u001b[0m\u001b[1;33m)\u001b[0m\u001b[1;33m\u001b[0m\u001b[1;33m\u001b[0m\u001b[0m\n\u001b[0m\u001b[0;32m    763\u001b[0m \u001b[1;33m\u001b[0m\u001b[0m\n\u001b[0;32m    764\u001b[0m     \u001b[1;32mdef\u001b[0m \u001b[0mgeneralize\u001b[0m\u001b[1;33m(\u001b[0m\u001b[0mself\u001b[0m\u001b[1;33m,\u001b[0m \u001b[0mforallVarLists\u001b[0m\u001b[1;33m,\u001b[0m \u001b[0mdomainLists\u001b[0m\u001b[1;33m=\u001b[0m\u001b[1;32mNone\u001b[0m\u001b[1;33m,\u001b[0m \u001b[0mdomain\u001b[0m\u001b[1;33m=\u001b[0m\u001b[1;32mNone\u001b[0m\u001b[1;33m,\u001b[0m \u001b[0mconditions\u001b[0m\u001b[1;33m=\u001b[0m\u001b[0mtuple\u001b[0m\u001b[1;33m(\u001b[0m\u001b[1;33m)\u001b[0m\u001b[1;33m)\u001b[0m\u001b[1;33m:\u001b[0m\u001b[1;33m\u001b[0m\u001b[1;33m\u001b[0m\u001b[0m\n",
      "\u001b[1;32mc:\\users\\joaqu\\prove-it\\packages\\proveit\\_core_\\proof.py\u001b[0m in \u001b[0;36m__init__\u001b[1;34m(self, generalTruth, numForallEliminations, specializeMap, relabelMap, assumptions)\u001b[0m\n\u001b[0;32m    750\u001b[0m             \u001b[0mself\u001b[0m\u001b[1;33m.\u001b[0m\u001b[0mmappings\u001b[0m \u001b[1;33m=\u001b[0m \u001b[0mmappings\u001b[0m\u001b[1;33m\u001b[0m\u001b[1;33m\u001b[0m\u001b[0m\n\u001b[0;32m    751\u001b[0m             \u001b[0mspecializedTruth\u001b[0m \u001b[1;33m=\u001b[0m \u001b[0mKnownTruth\u001b[0m\u001b[1;33m(\u001b[0m\u001b[0mspecializedExpr\u001b[0m\u001b[1;33m,\u001b[0m \u001b[0massumptions\u001b[0m\u001b[1;33m)\u001b[0m\u001b[1;33m\u001b[0m\u001b[1;33m\u001b[0m\u001b[0m\n\u001b[1;32m--> 752\u001b[1;33m             \u001b[0mProof\u001b[0m\u001b[1;33m.\u001b[0m\u001b[0m__init__\u001b[0m\u001b[1;33m(\u001b[0m\u001b[0mself\u001b[0m\u001b[1;33m,\u001b[0m \u001b[0mspecializedTruth\u001b[0m\u001b[1;33m,\u001b[0m \u001b[1;33m[\u001b[0m\u001b[0mgeneralTruth\u001b[0m\u001b[1;33m]\u001b[0m \u001b[1;33m+\u001b[0m \u001b[0mrequirementTruths\u001b[0m\u001b[1;33m)\u001b[0m\u001b[1;33m\u001b[0m\u001b[1;33m\u001b[0m\u001b[0m\n\u001b[0m\u001b[0;32m    753\u001b[0m         \u001b[1;32mfinally\u001b[0m\u001b[1;33m:\u001b[0m\u001b[1;33m\u001b[0m\u001b[1;33m\u001b[0m\u001b[0m\n\u001b[0;32m    754\u001b[0m             \u001b[1;31m# restore the original default assumptions\u001b[0m\u001b[1;33m\u001b[0m\u001b[1;33m\u001b[0m\u001b[1;33m\u001b[0m\u001b[0m\n",
      "\u001b[1;32mc:\\users\\joaqu\\prove-it\\packages\\proveit\\_core_\\proof.py\u001b[0m in \u001b[0;36m__init__\u001b[1;34m(self, provenTruth, requiredTruths)\u001b[0m\n\u001b[0;32m    123\u001b[0m             \u001b[1;31m# May derive any side-effects that are obvious consequences arising from this truth\u001b[0m\u001b[1;33m\u001b[0m\u001b[1;33m\u001b[0m\u001b[1;33m\u001b[0m\u001b[0m\n\u001b[0;32m    124\u001b[0m             \u001b[1;31m# (if it has not already been processed):\u001b[0m\u001b[1;33m\u001b[0m\u001b[1;33m\u001b[0m\u001b[1;33m\u001b[0m\u001b[0m\n\u001b[1;32m--> 125\u001b[1;33m             \u001b[0mprovenTruth\u001b[0m\u001b[1;33m.\u001b[0m\u001b[0mderiveSideEffects\u001b[0m\u001b[1;33m(\u001b[0m\u001b[0mdefaults\u001b[0m\u001b[1;33m.\u001b[0m\u001b[0massumptions\u001b[0m\u001b[1;33m)\u001b[0m\u001b[1;33m\u001b[0m\u001b[1;33m\u001b[0m\u001b[0m\n\u001b[0m\u001b[0;32m    126\u001b[0m \u001b[1;33m\u001b[0m\u001b[0m\n\u001b[0;32m    127\u001b[0m     \u001b[1;32mdef\u001b[0m \u001b[0m_updateDependencies\u001b[0m\u001b[1;33m(\u001b[0m\u001b[0mself\u001b[0m\u001b[1;33m,\u001b[0m \u001b[0mnewproof\u001b[0m\u001b[1;33m)\u001b[0m\u001b[1;33m:\u001b[0m\u001b[1;33m\u001b[0m\u001b[1;33m\u001b[0m\u001b[0m\n",
      "\u001b[1;32mc:\\users\\joaqu\\prove-it\\packages\\proveit\\_core_\\known_truth.py\u001b[0m in \u001b[0;36mderiveSideEffects\u001b[1;34m(self, assumptions)\u001b[0m\n\u001b[0;32m    194\u001b[0m                         \u001b[1;32mpass\u001b[0m\u001b[1;33m\u001b[0m\u001b[1;33m\u001b[0m\u001b[0m\n\u001b[0;32m    195\u001b[0m                     \u001b[1;32mexcept\u001b[0m \u001b[0mException\u001b[0m \u001b[1;32mas\u001b[0m \u001b[0me\u001b[0m\u001b[1;33m:\u001b[0m\u001b[1;33m\u001b[0m\u001b[1;33m\u001b[0m\u001b[0m\n\u001b[1;32m--> 196\u001b[1;33m                         \u001b[1;32mraise\u001b[0m \u001b[0mException\u001b[0m\u001b[1;33m(\u001b[0m\u001b[1;34m\"Side effect failure for %s, while running %s: \"\u001b[0m\u001b[1;33m%\u001b[0m\u001b[1;33m(\u001b[0m\u001b[0mstr\u001b[0m\u001b[1;33m(\u001b[0m\u001b[0mself\u001b[0m\u001b[1;33m.\u001b[0m\u001b[0mexpr\u001b[0m\u001b[1;33m)\u001b[0m\u001b[1;33m,\u001b[0m \u001b[0mstr\u001b[0m\u001b[1;33m(\u001b[0m\u001b[0msideEffect\u001b[0m\u001b[1;33m)\u001b[0m\u001b[1;33m)\u001b[0m \u001b[1;33m+\u001b[0m \u001b[0mstr\u001b[0m\u001b[1;33m(\u001b[0m\u001b[0me\u001b[0m\u001b[1;33m)\u001b[0m\u001b[1;33m)\u001b[0m\u001b[1;33m\u001b[0m\u001b[1;33m\u001b[0m\u001b[0m\n\u001b[0m\u001b[0;32m    197\u001b[0m             \u001b[1;32mfinally\u001b[0m\u001b[1;33m:\u001b[0m\u001b[1;33m\u001b[0m\u001b[1;33m\u001b[0m\u001b[0m\n\u001b[0;32m    198\u001b[0m                 \u001b[0mKnownTruth\u001b[0m\u001b[1;33m.\u001b[0m\u001b[0min_progress_to_derive_sideeffects\u001b[0m\u001b[1;33m.\u001b[0m\u001b[0mremove\u001b[0m\u001b[1;33m(\u001b[0m\u001b[0mself\u001b[0m\u001b[1;33m)\u001b[0m\u001b[1;33m\u001b[0m\u001b[1;33m\u001b[0m\u001b[0m\n",
      "\u001b[1;31mException\u001b[0m: Side effect failure for exists_{A, B in S} (A != B), while running <bound method Exists.deriveNegatedForall of exists_{A, B in S} (A != B)>: Need to update"
     ]
    }
   ],
   "source": [
    "Card(S).distinctSubsetExistence(elems = [A,B], assumptions=[GreaterEq(Card(S), num(2)), InSet(l, NaturalsPos)])"
   ]
  },
  {
   "cell_type": "code",
   "execution_count": 2,
   "metadata": {
    "collapsed": true
   },
   "outputs": [],
   "source": [
    "%end demonstrations"
   ]
  }
 ],
 "metadata": {
  "kernelspec": {
   "display_name": "Python 3",
   "language": "python",
   "name": "python3"
  },
  "language_info": {
   "codemirror_mode": {
    "name": "ipython",
    "version": 3
   },
   "file_extension": ".py",
   "mimetype": "text/x-python",
   "name": "python",
   "nbconvert_exporter": "python",
   "pygments_lexer": "ipython3",
   "version": "3.7.0"
  }
 },
 "nbformat": 4,
 "nbformat_minor": 0
}
