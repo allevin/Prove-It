{
 "cells": [
  {
   "cell_type": "markdown",
   "metadata": {},
   "source": [
    "Demonstrations for context <a class=\"ProveItLink\" href=\"_context_.ipynb\">proveit.logic.set_theory.cardinality</a>\n",
    "========"
   ]
  },
  {
   "cell_type": "code",
   "execution_count": 1,
   "metadata": {},
   "outputs": [],
   "source": [
    "import proveit\n",
    "from proveit.logic import Forall, Exists, Implies, Equals, NotEquals, Card, Set, Distinct, InSet\n",
    "from proveit.number import GreaterEq, num, Len, four\n",
    "from proveit._common_ import a, b, l, A,B,C,D, N, S\n",
    "from proveit.logic._common_ import xIter1l\n",
    "from proveit.number import NaturalsPos\n",
    "%begin demonstrations"
   ]
  },
  {
   "cell_type": "markdown",
   "metadata": {},
   "source": [
    "enumSetCard"
   ]
  },
  {
   "cell_type": "code",
   "execution_count": 2,
   "metadata": {},
   "outputs": [],
   "source": [
    "#Equals(Card(Set(xIter1l)), Len(xIter1l)).prove([Distinct(xIter1l)])"
   ]
  },
  {
   "cell_type": "code",
   "execution_count": 3,
   "metadata": {},
   "outputs": [
    {
     "data": {
      "text/html": [
       "<span style=\"font-size:20px;\"> <a class=\"ProveItLink\" href=\"_proofs_/distinctSubsetExistence.ipynb\" style=\"text-decoration: none\">&#x22A2;&nbsp;</a><a class=\"ProveItLink\" href=\"__pv_it/0ae9e8cbe4c57d33295c50c185a010405dcdb7ff0/expr.ipynb\"><img src=\"data:image/png;base64,iVBORw0KGgoAAAANSUhEUgAAAmAAAAAZBAMAAABk94/DAAAAMFBMVEX///8QEBC6urrMzMxUVFRm\n",
       "ZmZERETc3NwyMjKqqqp2dnaIiIiYmJgiIiLu7u4AAAAU9Wx4AAAAAXRSTlMAQObYZgAABo9JREFU\n",
       "WMPdmX1sU1UUwE/fa99b29e3JQYlGFkJGjCEtEERMDEtMiGguBKcEvjDakyRCKFEIkQkWyBRVMDG\n",
       "D/xISAqJwiAuzz9Q41ReghojKiNuBkg6Cw5jRnQ4FxbY2Dz33tf30de+127Jsnj/uD3tO/eee373\n",
       "3HPvuwVwK5tyaRhPGW/7yVLm5rLA5S64K3aM01AH/E+KGMdqK+TdHc6PF9g2LBMYZvI89xHPqapH\n",
       "KWwAowFw2tFhVxU3YA1Ypk8cMP/mDMSy+leTqBc+Xl2Xqw1greT7fkeHXVUqWZLrJ3Dx9GUgkmAi\n",
       "hkZBZIWjdU2Vq6bGAPYCEZOODruqTEJgsiYiLNnyzEfr9ip7lLI6MMLal3F02FVlEgIrOJoofvYt\n",
       "ratNEHKdDkw6sm3bTmeHXVUmIbDno1SagcA0UVuRU2jdggzWnJu3zzmVXd63e3YnEzfowOBaKnXB\n",
       "xWE3lUkFTF7bHsmIjXGY8+PnUmPnchT5p1a3P4ceP3Qs883NBgw/H66wvzKem1eGHHs6D/XdJxUq\n",
       "f2gAW1LCmYDV4SXj8Rfbf5zL5QYnCtiWMJzMgBCXkxCCEEaYEIeajdAXhliYvwW6aA5XAR6B2qHa\n",
       "YaeevCqMKqMqld8zgN0JcgvIjXl7ZtQdpioA8499SaL7wDD4z2aNHQc3In7t8VPks7Ctq3Bw2tgi\n",
       "TLOhdRZ20eZ0yRjUywDNBBjXjfOuARPqoFbBJ9K/DJgHO85C86CE4XNf2d4DII6mTzM2MwxgIQgi\n",
       "xLlMZ2FTODglXwyMqXAJiNBEugngFH0k0Br3z7uAu4qfb2un0+8w70XHBKxgA5KmunwRjG2sMChx\n",
       "SAMG9Q9HdWBJBCbeIM8psFo6E2fqyAytdNoc/6EvReQwZwALqqE8XaPyiSZVSrZBmy3CmEpIG2Cg\n",
       "OQwJK7AOUidBfIxhOtJv6qFSYMS8bqNqYPqguOECsN7fBizAuOEiYI005R90WpQDWv4yA5Nb7kVh\n",
       "L8Cns/7OS6d90OZrWNmw3OwwU+nLg0THhuatwOQRAJV4pxHLpsYAjJjXbVQPrDAoPcL4NJzJhBJB\n",
       "HRivRRguQw8m/g+gXoHPnID5s54hCKYJG/OShPUPYjXIjizSogWKPcKYSmgaSylXuEFZsUbY2cOa\n",
       "d/JHqCMrkfQVO7CeTWv3RG1xtbTr6G7jxFSwoQNzbmQAMwbVqQHzK+BTQomADgzOoRUEhplOUEEe\n",
       "nTUaFusYMJLA6flWF0jV19/cD1sIG4DvTcDeQZf4Onr6x9TTdqoEMKIC8qpReiB8C7r8YSuwy/XX\n",
       "NR/lo3nwR0OJN+3AfuEGmuPgtb6UhKKRZQOwUGXmdRs6MOdGAnj3YHndPKhYFJ6kwKaDkPa1mIDF\n",
       "MhhRawiwQALEa9768PYwBSbfJHg6TAKtmpOL+8VdhI3lWAEenJlgEu5nwAKBR+3APGzyttbRBQdn\n",
       "esEKDMTFmo/BvWR3kUay5vb78FgxIirB6zsz/CHrtcUOOPnueRCizLxuowDMpZERYcagxBXtkS6+\n",
       "ceDS8fbDID9zBMXfGwcWbZ6C57AvovDHCuyLw0F9daFn6i6Ww+R6/O0impRvBSbARQyrYK5t8Z4w\n",
       "YQOwywRMwukTFHgglUopUlT8udsOjKjIYZCvstczzwkrsEs4I8zH3g3sUHJ7osR9mDBCoqP4nmcz\n",
       "9u0BZl63YeQwx0YGMGNQFZXbDJEsSc5++TTLGLZieTVixXMP9LAIg5lf47MSF4D+DPBJNpmBaVZg\n",
       "79PTDD7sfVo79h7K2oG95ukQ1WLfa7J3wEvk9b7HYkMH5txIAEFbksagKio/WIFJdg1Vl5ANBJQi\n",
       "YH1B8KYZMKmt9I2pL4k5QXwFuAzI163AHqebYBIuU15wt/n1V2/P34gkhQzxfXta3A/b86RKxw5f\n",
       "w/c0HD81T22Ygbk00iPMNKjKrmvylQNDNvAnFAHztoJMvJ2NVbwMsPlNTwA/DKtwOS+zAlvd1JQm\n",
       "nzOZ4tQwc78owpZu/PVVurpiKj8IsTSpVG/qp2czgJswNU9tWCLMuZEOzDSoyq+baXnxjXUAik0h\n",
       "aDqMtbK+LcDoSsIk4nonL9mPQYXDUrKiO32yutTieexWi81bz2HlGgljfuPcUZV2MFoKWEV/YiwY\n",
       "JzD+k1bg9fArSOtsSdcCrGyjsQMb+58gVQJTnYAdwJ0ulXeOMEuUSmWt2k76JRtNSmC58v8remld\n",
       "SAfxqts7lLhTl0UDmJgyNxcHLtf5H9IWSOlG5OOnAAAAAElFTkSuQmCC\n",
       "\" style=\"display:inline;vertical-align:middle;\" /></a></span>"
      ],
      "text/plain": [
       "|- forall_{l in NaturalsPos} [forall_{S, N | |S| >= N} [exists_{x_1,...,x_l in S | |x_1,...,x_l| = N} distinct(x_1 ,  ...  , x_l)]]"
      ]
     },
     "execution_count": 3,
     "metadata": {},
     "output_type": "execute_result"
    }
   ],
   "source": [
    "from proveit.logic.set_theory.cardinality._theorems_ import distinctSubsetExistence\n",
    "distinctSubsetExistence"
   ]
  },
  {
   "cell_type": "code",
   "execution_count": 4,
   "metadata": {},
   "outputs": [
    {
     "data": {
      "text/html": [
       "<span style=\"font-size:20px;\"><a class=\"ProveItLink\" href=\"__pv_it/7920e455ef6830dc96818c7b676bd064eef894010/expr.ipynb\"><img src=\"data:image/png;base64,iVBORw0KGgoAAAANSUhEUgAAAFEAAAAbBAMAAAD2Yn4PAAAAMFBMVEX///+6urp2dnaqqqoiIiIQ\n",
       "EBBERETu7u6IiIjc3NwyMjJUVFSYmJhmZmbMzMwAAAD0pS5FAAAAAXRSTlMAQObYZgAAAVJJREFU\n",
       "OMtjYMAPmJE5fHfwqGQDK78I4eyaQEglw7QEEMnxnYGgSoZYEMG9gAiVWXCVKh9R5Ku+ZRUwXPli\n",
       "AFe5C66S5wOqUTl8QJd9YNi1aumqVQ0oKnnRnLDlQQcDQwADFjNZG8AC7F0uLmA9G5dzP8Cucv4D\n",
       "sMCr41Az971mX46hkg0UVufBfM50mO37mBueYagEW7wNEiTwONjHcJGnAaSSG8I/XwA0ZzWIFQHm\n",
       "lzEgVHIX7AtA+JB3JQPDEZAL+f6B+aIuLlAf7WNg31CFpJJhSgMDswcoRiGCr5HMZHjEh6SSxxlI\n",
       "1B8AOnBDAYhfgqySxyABodJ+AtTv/AcUwAF2AEklgyaSSnh48j8Hhzy7I0wmES3e4Co5LoFtZ5h1\n",
       "DyIh9RVoHjs2lXBgvcQFayLcRTh90lolUwARKr3BQbOasEJed0hM7SGkkDmHgRQAAAfkX537SY1f\n",
       "AAAAAElFTkSuQmCC\n",
       "\" style=\"display:inline;vertical-align:middle;\" /></a> <a class=\"ProveItLink\" href=\"__pv_it/e95d6113892ec38e79360f4fa330318f98dab3610/proof.ipynb\" style=\"text-decoration: none\">&#x22A2;&nbsp;</a><a class=\"ProveItLink\" href=\"__pv_it/6680362b3e22944754779ad54a511a97a44d3b130/expr.ipynb\"><img src=\"data:image/png;base64,iVBORw0KGgoAAAANSUhEUgAAAjUAAAAZBAMAAAA7ysLPAAAAMFBMVEX///8QEBC6urrMzMxUVFRm\n",
       "ZmZERETc3NwyMjKqqqp2dnaIiIiYmJgiIiLu7u4AAAAU9Wx4AAAAAXRSTlMAQObYZgAABgtJREFU\n",
       "WMPtmXtsFEUYwL+7vd5yvbuFaPBRIj2jRowhd1ExPv64QxEUE3oEilo1rsQcEGhYYkNJFNtAYtAA\n",
       "2fhA/cPkIIHyiOb8w2gsCZf4iAGVI1IQk6sHWkJKYrFWmvKq3zx2d/bRu95pGjBOsnMzne+b2e83\n",
       "33wzswVwp9aiBjWlmhWvsjSzmKWPRyrU2mcB/iNJTrHnfzZjsil5majUzKYd0wQuLOWeUiURf66q\n",
       "HiMxiw2d60MOE6NUKlcDmzmYpk8cm9BqHZJWYEh6xIj7quxykcVmD6lvdZhYr+PPpFKNa2rZBHr/\n",
       "gA7xNCvihBtF7jHgtq1ymmSxWUuKqsNE+oe1cG2wMQIAcrHHgjqShav1/kjWZEO8o053mkhgP3ON\n",
       "sDFsSjvbviaZr1rvV6aYbCJd7e3rXSYexJBauEbYvJygpVuRDS/yJTWV5DPw6duyccbR8v0IIius\n",
       "Pfx8JvOzy8TJmUxr9qpno7R0x3W5KQV3f/d5pOnoE1iUXlzUvRINe2yv/tXlOehULSh2Ahp7D5Rd\n",
       "W6LITovNo8yYWXv3JywTAwkI4la87RKEjmR5oGO51LLvS16j+0QePmwQ2HxULBaHx2UY7ciMmP5K\n",
       "4l5DronBAR2CKUXFnTWKfhPEGLEKBmKQjEnXQw+R2YzG5GE0N5oHSR2zdy6iNOEKfN9iczsonfhu\n",
       "aYgLJvpTcIas4VYAagCoRn4H+M/h7zv8EPNNASKJmvyGdoQpCFZeJll2WUO+DtBB2Ph7od5gE5wC\n",
       "k3PYEvmTsbkOsE0e1Q6BtHjsKMFFYCZZnBabKITzJLder0Cf/USlIwZpO5sCyVWQF7PX6xpk20FV\n",
       "bM42P8c7qoWNOaR8kbOBxicTJhsV2cgXSDtlM0jj9B/U48pFUCaykxySLDbhfBQdaaAEEdHE/dBL\n",
       "2OBIdjbKFYA8qXE42Uz1bMJLX/udd1QLG3NI/yWDTf8vQzY2pEVkExiqyIaJbLazUTrJyTHaELOZ\n",
       "eEYiV62z/mElZ/ebIzt4TdmFGkourp11s/mttWVTwhXv5vbs3mjurawjgY3Z7K1ksrGGNP1G0uCw\n",
       "Hk2HTTYS9xt895uRSdZ3EcJaOTaGyLB9TcGyR8iIC0d10cRgG2H1NvSEYnY2fY0jvKbsLkEoEU2/\n",
       "5Wbzo3+oIwUB+9EimojPo5PTyXZN0pHAhjcvAG8lFR7fhCknDnmUswnloC4XTdebbOAnXCTIBreR\n",
       "VbgmBjsGYQ3zG3o6pFlJLHARCc828K3A5l1mUtsU0cTQ89R94XA/2NmAPJvXwptJDItcybrYyLnw\n",
       "yHpd2m6/dL4CB947AQ/kJa5AOhLYsOaHbgRPJctvhCGTCXiBspmOu2pdp8AmqcNn8DRhgxGkQ509\n",
       "KG9gbAbIO5JMuSwWuEhYte/h4EPPU2KgnLOZOI0dw32f2tmcwg5ZrX8FO5ZPS4tstuAejpEkeIXM\n",
       "ufNCvhqnKJiQjmUyK3lHtnhDmuE4eCpZbIQh5fnd8R6paejUvu4doLzUhcVfm4YeXD0VzzdfJOD0\n",
       "fI3uPOHix7M3xRibk2TVnMTOlBuMQqNmigRJANkgsIng4CFd2P0pmx+Y39Q32Nl8AHA/rfUvZZMI\n",
       "27Pu7zdv+gpy3slmUvYWeBV8oNCPRqwjgQ1rdrIxlHDI5WxN2YesmHzWS9B4c6f7I4Yl4bvXdmfg\n",
       "k6HSs57DRD9e5EbsbJbQbUiFPooG7hJvNKaidCGuBnXCZp0mb4V1JZJpyR3n8TyON9h5RGaJsZ8Z\n",
       "bFgzYeOpZM6cfchxXR1FNnm3hHADCeN055xsZjU/5Z7+hRu4IRabRc3NGvm9jandFIOA5lacu+rY\n",
       "G3RNJfPSMCQ1kuUDme+X63AQ4DQJ76wjgQ1rJmw8lQw2jiErJ/Mbhbz7r1wFNoE9QM+81X0TVW2H\n",
       "DHVc30TJmrJehZfIprgL442ZHOeb4+CtpNZ66Wqzn63cAo6L1ryJYCN9sgckc4aNUq9z4uxsHm7Q\n",
       "vZVqZiNX9wEnnPjHbLZlMJUqKkZcpWe1smzGVKqZzb/7f4aix7+ZUkJu/Y5DsWIKCHmZlJpANDOL\n",
       "KfL8De+DJ2BKvsHHAAAAAElFTkSuQmCC\n",
       "\" style=\"display:inline;vertical-align:middle;\" /></a></span>"
      ],
      "text/plain": [
       "{l in NaturalsPos} |- forall_{S} [forall_{N | |S| >= N} [exists_{x_1,...,x_l in S | |x_1,...,x_l| = N} distinct(x_1 ,  ...  , x_l)]]"
      ]
     },
     "execution_count": 4,
     "metadata": {},
     "output_type": "execute_result"
    }
   ],
   "source": [
    "distinctSubsetExistence.specialize(assumptions=[InSet(l, NaturalsPos)])"
   ]
  },
  {
   "cell_type": "markdown",
   "metadata": {},
   "source": [
    "distinctSubsetExistence"
   ]
  },
  {
   "cell_type": "code",
   "execution_count": 5,
   "metadata": {},
   "outputs": [],
   "source": [
    "#Card(S).distinctSubsetExistence(elems = [A,B,C,D], assumptions=[Equals(Len([A,B,C,D]), N), GreaterEq(Card(S), N),  InSet(l, NaturalsPos), GreaterEq(Len(S),four)])"
   ]
  },
  {
   "cell_type": "markdown",
   "metadata": {},
   "source": [
    "distinctPairExistence"
   ]
  },
  {
   "cell_type": "code",
   "execution_count": 6,
   "metadata": {},
   "outputs": [],
   "source": [
    "#Card(S).distinctSubsetExistence(elems = [A,B], assumptions=[GreaterEq(Card(S), num(2)), InSet(l, NaturalsPos)])"
   ]
  },
  {
   "cell_type": "code",
   "execution_count": 7,
   "metadata": {},
   "outputs": [],
   "source": [
    "%end demonstrations"
   ]
  }
 ],
 "metadata": {
  "kernelspec": {
   "display_name": "Python 3",
   "language": "python",
   "name": "python3"
  }
 },
 "nbformat": 4,
 "nbformat_minor": 0
}
