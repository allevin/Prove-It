{
 "cells": [
  {
   "cell_type": "markdown",
   "metadata": {},
   "source": [
    "Theorems for context <a href=\"_context_.ipynb\" class=\"ProveItLink\">proveit.logic.set_theory.cardinality</a>\n",
    "========"
   ]
  },
  {
   "cell_type": "code",
   "execution_count": null,
   "metadata": {},
   "outputs": [],
   "source": [
    "from proveit.logic import Forall, Exists, Implies, Equals, NotEquals, Card, Set, Distinct\n",
    "from proveit.number import GreaterEq, num, Len\n",
    "from proveit._common_ import a, b, l, N, S\n",
    "from proveit.logic._common_ import xIter1l\n",
    "from proveit.number import NaturalsPos\n",
    "%begin theorems"
   ]
  },
  {
   "cell_type": "markdown",
   "metadata": {},
   "source": [
    "**The cardinality of an enumerated set of unique elements is the number of these unique elements:**"
   ]
  },
  {
   "cell_type": "code",
   "execution_count": null,
   "metadata": {},
   "outputs": [],
   "source": [
    "enumSetCard = Forall(l, Forall(xIter1l, Equals(Card(Set(xIter1l)), Len(xIter1l)), \n",
    "                               conditions=[Distinct(xIter1l)]),\n",
    "                    domain=NaturalsPos)"
   ]
  },
  {
   "cell_type": "markdown",
   "metadata": {},
   "source": [
    "**If there are two or more elements in a set, there exists a pair of elements in the set that are not the same:**"
   ]
  },
  {
   "cell_type": "code",
   "execution_count": null,
   "metadata": {},
   "outputs": [],
   "source": [
    "distinctSubsetExistence = Forall(l, Forall((S, N), \n",
    "                                           Exists(xIter1l, Distinct(xIter1l), domain=S,\n",
    "                                                  conditions=[Equals(Len(xIter1l), N)]),\n",
    "                                           conditions=[GreaterEq(Card(S), N)]),\n",
    "                                 domain=NaturalsPos)"
   ]
  },
  {
   "cell_type": "code",
   "execution_count": null,
   "metadata": {},
   "outputs": [],
   "source": [
    "distinctPairExistence = Forall(S, Exists((a, b), NotEquals(a, b), domain=S),\n",
    "                               conditions=[GreaterEq(Card(S), num(2))])"
   ]
  },
  {
   "cell_type": "code",
   "execution_count": null,
   "metadata": {},
   "outputs": [],
   "source": [
    "%end theorems"
   ]
  },
  {
   "cell_type": "code",
   "execution_count": null,
   "metadata": {},
   "outputs": [],
   "source": []
  }
 ],
 "metadata": {
  "kernelspec": {
   "display_name": "Python 3",
   "language": "python",
   "name": "python3"
  }
 },
 "nbformat": 4,
 "nbformat_minor": 0
}
