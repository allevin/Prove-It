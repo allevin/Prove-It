{
 "cells": [
  {
   "cell_type": "markdown",
   "metadata": {},
   "source": [
    "Theorems for context <a href=\"_context_.ipynb\" class=\"ProveItLink\">proveit.logic.set_theory.cardinality</a>\n",
    "========"
   ]
  },
  {
   "cell_type": "code",
   "execution_count": 1,
   "metadata": {},
   "outputs": [
    {
     "name": "stdout",
     "output_type": "stream",
     "text": [
      "Defining theorems for context 'proveit.logic.set_theory.cardinality'\n",
      "Subsequent end-of-cell assignments will define theorems\n",
      "'%end theorems' will finalize the definitions\n"
     ]
    }
   ],
   "source": [
    "from proveit.logic import Forall, Exists, Implies, Equals, NotEquals, Card, Set, Distinct\n",
    "from proveit.number import GreaterEq, num, Len\n",
    "from proveit._common_ import a, b, l, N, S\n",
    "from proveit.logic._common_ import xIter1l\n",
    "from proveit.number import NaturalsPos\n",
    "%begin theorems"
   ]
  },
  {
   "cell_type": "markdown",
   "metadata": {},
   "source": [
    "**The cardinality of an enumerated set of unique elements is the number of these unique elements:**"
   ]
  },
  {
   "cell_type": "code",
   "execution_count": 2,
   "metadata": {},
   "outputs": [
    {
     "data": {
      "text/html": [
       "<strong id=\"enumSetCard\"><a class=\"ProveItLink\" href=\"_proofs_/enumSetCard.ipynb\">enumSetCard</a>:</strong> <a class=\"ProveItLink\" href=\"__pv_it/e73f3a30e786bf25fdf8568ddb3e8d15224d1c490/expr.ipynb\"><img src=\"data:image/png;base64,iVBORw0KGgoAAAANSUhEUgAAAkIAAAAZBAMAAAAvX1wuAAAAMFBMVEX///8QEBC6urrMzMxUVFRm\n",
       "ZmZERETc3NwyMjKqqqp2dnaIiIiYmJgiIiLu7u4AAAAU9Wx4AAAAAXRSTlMAQObYZgAABYJJREFU\n",
       "WMPlmX9oG2UYx5/kLrkkd70Ghz9BGlHsQEYTLcxVpJmOiVPX/WFBikhUyBQ7jFBc/TESNsQqXbk/\n",
       "pgMVOcrmVgrhnLjJcDbqfxtq0elcJSOFiILOxrI2aLfF98cluUty997Jwiq+f1zeXJ7nmzyfe97n\n",
       "/REAVtuRT8H/tnnzc2yj2av28/aTq/S4O6++Q+QlmGqp5rhV/UegwCZUuCpPT4NJ/CrPufWMKfga\n",
       "ijTcnnSngvy/oIRIipyyJcQ0aUfr1WMSS249fZkrRMgXJYSm8NsJW0JMk3a0CT2mUNitJ/W4AoQg\n",
       "Qwi9iK5CwpYQ06QNTdRWAaGThFAAVRmfYkuIadKG5imsAkLzhJB0aOfOXfaVmmnShrYWjIR+3rtn\n",
       "7Wlbe/mxH+/cG2cQciOD/f0KJgTLyeQcY7ZnmbShDRkJyWeh69yMZmd/XvFc+m3FnpArGewf2kYI\n",
       "3Q+wvSnFzIRamdi0XyyXB0KUsQip9carhPDMxOegolVydp4PQ+dK50W6gCrVCPnGSItTQq5ksH8w\n",
       "QwjdBnIG5AFTVD4zIWLiYAmjv84oYnWZKZrXmy8zFDi12rumSiiGnyUIlRRabnDW04UK6bKkQfEy\n",
       "6r9mkUOuZLC/N0wIdYCIsK6jFncPRsRrC42EqAmz+fXXgBJM6N8XTJjykjkh1srpov6mdw3Niz8x\n",
       "v0ft1vff4MHlxRb+catK7UIG+3MlQkjMdaD8OYhG+8eDOSmRhWxTDlETF4T0jinxAihrNZbEr42E\n",
       "4BYyMPkLZBDahTaAxxKuHDBnOZe5kDEQkjO9dNwf7f6jIJ3yQda36ZFNDxoJURMXhGQSlhgGuV54\n",
       "PkQGzD0wX7W/sUqIR5iDqmcFxJRdaO9AlwbHIJAz16E8aQlKyJWMYZTB9vvQpQwSxi9tWK815xAx\n",
       "kTd/f3hPk2Rxx9BY1EQoNP2JUizBpye1fUtPFEvCk3d8gFL0wIaBwYKHqSJWs2y4Npeh719YTC/C\n",
       "C/Thy/gmzuhaB1/kSnclIoShM2Uzl1nLyM0y2F+ilRreQg5cGI8CdC+a/bIFIWzSEe15ACXpVvP3\n",
       "fue9kI5z4wZCD4FHkUteVVaRqFyCtOLP8ZpfjaEqx1TxxvU7B42zfTqxcVHYTUNbwOFdAkMHX4Rl\n",
       "visyGoGY3WxvKVN7Z5AxzPbgQc9NTEAfJRQKbW0mhE1egZn9Z6HvevP0rYl/7VLg6Toh4TIeZSVu\n",
       "6f2CTqjAa2n0fGJ4TmSpcNXStc5ISMxnN45FaGjzZRTMdeiD+YTekbtQ4pyYK96Agj9qR8hShmqZ\n",
       "ZbB/IEIJSejn+zW4N5lMalJU+PpcMyGJZPPz+Hqmsfjg+TVcJ+QtEULwdkXRCQGv9QAhtI+pUiPk\n",
       "SbXYdZAC0t28yqiXt+ec7DocydR3HfoPuguKNIfg1s/QQ21xghZQb4ZXm2J70zMr5PRtrTGHvKng\n",
       "LBcWdUIohwox0G5nqnir6wFJtSLUvO6Q6t01UaeEWDLYf9pAaEEEPkUJSdnWZ4z9k8vwLIltNCVM\n",
       "wGhBmBBe5/7uSfgVSTXUoWGYR4SCKiSE0ks6Ib8KalpQzjNVJLXx9ENyQ0guaQ7OhxzJIH85YyDE\n",
       "T4H8FN4woku8NSE++dUzComtP8eVoT/FlbmLsHn4hzeAjxgI+aZPfFtcCg4dj8IBtbgkD2z7fDcM\n",
       "HofQFkCrKoaKrxbXiB6T/FO9XB1e0kBsnqINq6wtCl2F2xFyJoP8Sc6MGDdjqA6xz6nPGPnr2Dt+\n",
       "N62HrA99FJZKwFC94Qj9dOpfnVOLjYSOuDygisBH0EDI0Un+PTcpwNVK2np9G3fMGSE5wVJ5d9X9\n",
       "2+GakHnA5lquqa3beyyV+H+RUN7x/2U800JinH6ECquMjzd/+h8YFCYtcTfYnQAAAABJRU5ErkJg\n",
       "gg==\n",
       "\" style=\"display:inline;vertical-align:middle;\" /></a><br>"
      ],
      "text/plain": [
       "enumSetCard: forall_{l in NaturalsPos} [forall_{x_1,...,x_l | distinct(x_1 ,  ...  , x_l)} (|{x_1 ,  ...  , x_l}| = |x_1,...,x_l|)]"
      ]
     },
     "execution_count": 2,
     "metadata": {},
     "output_type": "execute_result"
    }
   ],
   "source": [
    "enumSetCard = Forall(l, Forall(xIter1l, Equals(Card(Set(xIter1l)), Len(xIter1l)), \n",
    "                               conditions=[Distinct(xIter1l)]),\n",
    "                    domain=NaturalsPos)"
   ]
  },
  {
   "cell_type": "markdown",
   "metadata": {},
   "source": [
    "**If there are two or more elements in a set, there exists a pair of elements in the set that are not the same:**"
   ]
  },
  {
   "cell_type": "code",
   "execution_count": 3,
   "metadata": {},
   "outputs": [
    {
     "data": {
      "text/html": [
       "<strong id=\"distinctSubsetExistence\"><a class=\"ProveItLink\" href=\"_proofs_/distinctSubsetExistence.ipynb\">distinctSubsetExistence</a>:</strong> <a class=\"ProveItLink\" href=\"__pv_it/0ae9e8cbe4c57d33295c50c185a010405dcdb7ff0/expr.ipynb\"><img src=\"data:image/png;base64,iVBORw0KGgoAAAANSUhEUgAAAmAAAAAZBAMAAABk94/DAAAAMFBMVEX///8QEBC6urrMzMxUVFRm\n",
       "ZmZERETc3NwyMjKqqqp2dnaIiIiYmJgiIiLu7u4AAAAU9Wx4AAAAAXRSTlMAQObYZgAABo9JREFU\n",
       "WMPdmX1sU1UUwE/fa99b29e3JQYlGFkJGjCEtEERMDEtMiGguBKcEvjDakyRCKFEIkQkWyBRVMDG\n",
       "D/xISAqJwiAuzz9Q41ReghojKiNuBkg6Cw5jRnQ4FxbY2Dz33tf30de+127Jsnj/uD3tO/eee373\n",
       "3HPvuwVwK5tyaRhPGW/7yVLm5rLA5S64K3aM01AH/E+KGMdqK+TdHc6PF9g2LBMYZvI89xHPqapH\n",
       "KWwAowFw2tFhVxU3YA1Ypk8cMP/mDMSy+leTqBc+Xl2Xqw1greT7fkeHXVUqWZLrJ3Dx9GUgkmAi\n",
       "hkZBZIWjdU2Vq6bGAPYCEZOODruqTEJgsiYiLNnyzEfr9ip7lLI6MMLal3F02FVlEgIrOJoofvYt\n",
       "ratNEHKdDkw6sm3bTmeHXVUmIbDno1SagcA0UVuRU2jdggzWnJu3zzmVXd63e3YnEzfowOBaKnXB\n",
       "xWE3lUkFTF7bHsmIjXGY8+PnUmPnchT5p1a3P4ceP3Qs883NBgw/H66wvzKem1eGHHs6D/XdJxUq\n",
       "f2gAW1LCmYDV4SXj8Rfbf5zL5QYnCtiWMJzMgBCXkxCCEEaYEIeajdAXhliYvwW6aA5XAR6B2qHa\n",
       "YaeevCqMKqMqld8zgN0JcgvIjXl7ZtQdpioA8499SaL7wDD4z2aNHQc3In7t8VPks7Ctq3Bw2tgi\n",
       "TLOhdRZ20eZ0yRjUywDNBBjXjfOuARPqoFbBJ9K/DJgHO85C86CE4XNf2d4DII6mTzM2MwxgIQgi\n",
       "xLlMZ2FTODglXwyMqXAJiNBEugngFH0k0Br3z7uAu4qfb2un0+8w70XHBKxgA5KmunwRjG2sMChx\n",
       "SAMG9Q9HdWBJBCbeIM8psFo6E2fqyAytdNoc/6EvReQwZwALqqE8XaPyiSZVSrZBmy3CmEpIG2Cg\n",
       "OQwJK7AOUidBfIxhOtJv6qFSYMS8bqNqYPqguOECsN7fBizAuOEiYI005R90WpQDWv4yA5Nb7kVh\n",
       "L8Cns/7OS6d90OZrWNmw3OwwU+nLg0THhuatwOQRAJV4pxHLpsYAjJjXbVQPrDAoPcL4NJzJhBJB\n",
       "HRivRRguQw8m/g+gXoHPnID5s54hCKYJG/OShPUPYjXIjizSogWKPcKYSmgaSylXuEFZsUbY2cOa\n",
       "d/JHqCMrkfQVO7CeTWv3RG1xtbTr6G7jxFSwoQNzbmQAMwbVqQHzK+BTQomADgzOoRUEhplOUEEe\n",
       "nTUaFusYMJLA6flWF0jV19/cD1sIG4DvTcDeQZf4Onr6x9TTdqoEMKIC8qpReiB8C7r8YSuwy/XX\n",
       "NR/lo3nwR0OJN+3AfuEGmuPgtb6UhKKRZQOwUGXmdRs6MOdGAnj3YHndPKhYFJ6kwKaDkPa1mIDF\n",
       "MhhRawiwQALEa9768PYwBSbfJHg6TAKtmpOL+8VdhI3lWAEenJlgEu5nwAKBR+3APGzyttbRBQdn\n",
       "esEKDMTFmo/BvWR3kUay5vb78FgxIirB6zsz/CHrtcUOOPnueRCizLxuowDMpZERYcagxBXtkS6+\n",
       "ceDS8fbDID9zBMXfGwcWbZ6C57AvovDHCuyLw0F9daFn6i6Ww+R6/O0impRvBSbARQyrYK5t8Z4w\n",
       "YQOwywRMwukTFHgglUopUlT8udsOjKjIYZCvstczzwkrsEs4I8zH3g3sUHJ7osR9mDBCoqP4nmcz\n",
       "9u0BZl63YeQwx0YGMGNQFZXbDJEsSc5++TTLGLZieTVixXMP9LAIg5lf47MSF4D+DPBJNpmBaVZg\n",
       "79PTDD7sfVo79h7K2oG95ukQ1WLfa7J3wEvk9b7HYkMH5txIAEFbksagKio/WIFJdg1Vl5ANBJQi\n",
       "YH1B8KYZMKmt9I2pL4k5QXwFuAzI163AHqebYBIuU15wt/n1V2/P34gkhQzxfXta3A/b86RKxw5f\n",
       "w/c0HD81T22Ygbk00iPMNKjKrmvylQNDNvAnFAHztoJMvJ2NVbwMsPlNTwA/DKtwOS+zAlvd1JQm\n",
       "nzOZ4tQwc78owpZu/PVVurpiKj8IsTSpVG/qp2czgJswNU9tWCLMuZEOzDSoyq+baXnxjXUAik0h\n",
       "aDqMtbK+LcDoSsIk4nonL9mPQYXDUrKiO32yutTieexWi81bz2HlGgljfuPcUZV2MFoKWEV/YiwY\n",
       "JzD+k1bg9fArSOtsSdcCrGyjsQMb+58gVQJTnYAdwJ0ulXeOMEuUSmWt2k76JRtNSmC58v8remld\n",
       "SAfxqts7lLhTl0UDmJgyNxcHLtf5H9IWSOlG5OOnAAAAAElFTkSuQmCC\n",
       "\" style=\"display:inline;vertical-align:middle;\" /></a><br>"
      ],
      "text/plain": [
       "distinctSubsetExistence: forall_{l in NaturalsPos} [forall_{S, N | |S| >= N} [exists_{x_1,...,x_l in S | |x_1,...,x_l| = N} distinct(x_1 ,  ...  , x_l)]]"
      ]
     },
     "execution_count": 3,
     "metadata": {},
     "output_type": "execute_result"
    }
   ],
   "source": [
    "distinctSubsetExistence = Forall(l, Forall((S, N), \n",
    "                                           Exists(xIter1l, Distinct(xIter1l), domain=S,\n",
    "                                                  conditions=[Equals(Len(xIter1l), N)]),\n",
    "                                           conditions=[GreaterEq(Card(S), N)]),\n",
    "                                 domain=NaturalsPos)"
   ]
  },
  {
   "cell_type": "code",
   "execution_count": 4,
   "metadata": {},
   "outputs": [
    {
     "data": {
      "text/html": [
       "<strong id=\"distinctPairExistence\"><a class=\"ProveItLink\" href=\"_proofs_/distinctPairExistence.ipynb\">distinctPairExistence</a>:</strong> <a class=\"ProveItLink\" href=\"__pv_it/0df784b837b874891b06b2711a37696e22beb0980/expr.ipynb\"><img src=\"data:image/png;base64,iVBORw0KGgoAAAANSUhEUgAAAOoAAAAXCAMAAAAyRiO7AAAAPFBMVEX///8LCwsYGBgNDQ0oKCgQ\n",
       "EBC6urrMzMxUVFRmZmZERETc3NwyMjKqqqp2dnaIiIiYmJgiIiLu7u4AAACwKje0AAAAAXRSTlMA\n",
       "QObYZgAAAyRJREFUWMPlWFeS3CAQlYPImfvf1TRZCKGVp9alKvfH7jC04L3Omm37f8R98/naCrzx\n",
       "Ih8dhfR6X02ONyj9ExZttn2rv4OqgrtIlv0Tw2Ky3ueicyDZMzGKKw4ly7Zw30a1CPvErXf4CDpo\n",
       "F8OIioOzYhS2vZqq1l93ahBfXGhUxVGMReW7qe6PnIp8UXd7xWFUqhh2ezVVJG4y+RiUqtFhsuLw\n",
       "DMSqd1OlBR8nWqH9dBDDx8QmWhOTENBWHnGPAlOltKnP9UDRoIHOvCgjbkJV2SSen5018daAIWE3\n",
       "+QFgyXwzgYjy+xf8rTXaeXCyj0dIUXEgUHD5RkRjoDdj9YYbNGAtSYeeOrj6mVeTzY/0BwwpVdM5\n",
       "3ANlym6cKmOq7ioZp+GAsNbZaHYgeKbaNOKaU1JvsRyw4EdURamGTlNKzQxDqqjpHBItYMdqjIae\n",
       "mwzuoxmxbziApnXZ8fG/uabaaeS9RnaXsI8eUS0xrRnizrkZhp5qDEw3mDMYbDjYpsAwI9UQvHUS\n",
       "sfsB28yrVaPuOcXQMXRWVDnVqsYb8qF8hCdMF8cjhmpGiBkd72gDLYUa8PNHqgXs0FVpgtIHcEBQ\n",
       "m5Kju/dyRbVpdHtOlfYs1E2uuhDmvNpDh2g1pM40UwzpUZNiCr4nYpN45dRUkFKqhvm3wyFp31Q5\n",
       "2VdUm0a3p0uBVOSu2ZDgP1zvY8FLxm54MNABQ1++4B4ZwlOtMjVcEixCyTY2G+Cf09ylgPbXVHsN\n",
       "1uJ3mMJGqqI0G5eSTldsO471FNvY3IH4GUOiY0tX1QgzjZZODeO+piXZBeqpmhxPUo6Dx0i112Cn\n",
       "REWBKV5U4FJ0mHEZHTCyJkBrfUJOhh8wyuX4IenyLXWf4kj9qq+TI9VeI3qZNqIBn5SSuCVVmGWx\n",
       "x8G4HJxhc4tv7fmM4SpgahlbTsdKz6ni0NsoX1TgXgPWqPdhqCZBtjVVRLWJ0YWhF4RVpOCqxc4Y\n",
       "bl7ibpwqLnCchF18nq3vZ+DRUQfFnKvXb2nkb5xawuUfUNXW4quXkYfDP58bYslB44LiY6qSFXn+\n",
       "G4Z5169s5OLzbP1y+QM2VSiGamGwtQAAAABJRU5ErkJggg==\n",
       "\" style=\"display:inline;vertical-align:middle;\" /></a><br>"
      ],
      "text/plain": [
       "distinctPairExistence: forall_{S | |S| >= 2} [exists_{a, b in S} (a != b)]"
      ]
     },
     "execution_count": 4,
     "metadata": {},
     "output_type": "execute_result"
    }
   ],
   "source": [
    "distinctPairExistence = Forall(S, Exists((a, b), NotEquals(a, b), domain=S),\n",
    "                               conditions=[GreaterEq(Card(S), num(2))])"
   ]
  },
  {
   "cell_type": "code",
   "execution_count": 5,
   "metadata": {},
   "outputs": [
    {
     "name": "stdout",
     "output_type": "stream",
     "text": [
      "Theorems may be imported from autogenerated _theorems_.py\n"
     ]
    }
   ],
   "source": [
    "%end theorems"
   ]
  },
  {
   "cell_type": "code",
   "execution_count": null,
   "metadata": {},
   "outputs": [],
   "source": []
  }
 ],
 "metadata": {
  "kernelspec": {
   "display_name": "Python 3",
   "language": "python",
   "name": "python3"
  }
 },
 "nbformat": 4,
 "nbformat_minor": 0
}
