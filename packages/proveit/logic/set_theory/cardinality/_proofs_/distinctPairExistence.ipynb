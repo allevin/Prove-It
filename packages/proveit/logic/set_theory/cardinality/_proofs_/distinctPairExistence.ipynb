{
 "cells": [
  {
   "cell_type": "markdown",
   "metadata": {},
   "source": [
    "Proof of <a class=\"ProveItLink\" href=\"../../../../_context_.ipynb\">proveit</a>.<a class=\"ProveItLink\" href=\"../../../_context_.ipynb\">logic</a>.<a class=\"ProveItLink\" href=\"../../_context_.ipynb\">set_theory</a>.<a class=\"ProveItLink\" href=\"../_context_.ipynb\">cardinality</a>.<a href=\"../_theorems_.ipynb#distinctPairExistence\" class=\"ProveItLink\">distinctPairExistence</a> theorem\n",
    "========"
   ]
  },
  {
   "cell_type": "code",
   "execution_count": 1,
   "metadata": {},
   "outputs": [],
   "source": [
    "import proveit\n",
    "context = proveit.Context('..') # the theorem's context is in the parent directory"
   ]
  },
  {
   "cell_type": "code",
   "execution_count": 2,
   "metadata": {},
   "outputs": [
    {
     "name": "stdout",
     "output_type": "stream",
     "text": [
      "Beginning proof of distinctPairExistence\n",
      "Recorded 'presuming' information\n",
      "Presuming previous theorems (applied transitively).\n"
     ]
    },
    {
     "data": {
      "text/html": [
       "<strong id=\"distinctPairExistence\">distinctPairExistence:</strong> <a class=\"ProveItLink\" href=\"../__pv_it/0df784b837b874891b06b2711a37696e22beb0980/expr.ipynb\"><img src=\"data:image/png;base64,iVBORw0KGgoAAAANSUhEUgAAAOoAAAAXCAMAAAAyRiO7AAAAPFBMVEX///8LCwsYGBgNDQ0oKCgQ\n",
       "EBC6urrMzMxUVFRmZmZERETc3NwyMjKqqqp2dnaIiIiYmJgiIiLu7u4AAACwKje0AAAAAXRSTlMA\n",
       "QObYZgAAAyRJREFUWMPlWFeS3CAQlYPImfvf1TRZCKGVp9alKvfH7jC04L3Omm37f8R98/naCrzx\n",
       "Ih8dhfR6X02ONyj9ExZttn2rv4OqgrtIlv0Tw2Ky3ueicyDZMzGKKw4ly7Zw30a1CPvErXf4CDpo\n",
       "F8OIioOzYhS2vZqq1l93ahBfXGhUxVGMReW7qe6PnIp8UXd7xWFUqhh2ezVVJG4y+RiUqtFhsuLw\n",
       "DMSqd1OlBR8nWqH9dBDDx8QmWhOTENBWHnGPAlOltKnP9UDRoIHOvCgjbkJV2SSen5018daAIWE3\n",
       "+QFgyXwzgYjy+xf8rTXaeXCyj0dIUXEgUHD5RkRjoDdj9YYbNGAtSYeeOrj6mVeTzY/0BwwpVdM5\n",
       "3ANlym6cKmOq7ioZp+GAsNbZaHYgeKbaNOKaU1JvsRyw4EdURamGTlNKzQxDqqjpHBItYMdqjIae\n",
       "mwzuoxmxbziApnXZ8fG/uabaaeS9RnaXsI8eUS0xrRnizrkZhp5qDEw3mDMYbDjYpsAwI9UQvHUS\n",
       "sfsB28yrVaPuOcXQMXRWVDnVqsYb8qF8hCdMF8cjhmpGiBkd72gDLYUa8PNHqgXs0FVpgtIHcEBQ\n",
       "m5Kju/dyRbVpdHtOlfYs1E2uuhDmvNpDh2g1pM40UwzpUZNiCr4nYpN45dRUkFKqhvm3wyFp31Q5\n",
       "2VdUm0a3p0uBVOSu2ZDgP1zvY8FLxm54MNABQ1++4B4ZwlOtMjVcEixCyTY2G+Cf09ylgPbXVHsN\n",
       "1uJ3mMJGqqI0G5eSTldsO471FNvY3IH4GUOiY0tX1QgzjZZODeO+piXZBeqpmhxPUo6Dx0i112Cn\n",
       "REWBKV5U4FJ0mHEZHTCyJkBrfUJOhh8wyuX4IenyLXWf4kj9qq+TI9VeI3qZNqIBn5SSuCVVmGWx\n",
       "x8G4HJxhc4tv7fmM4SpgahlbTsdKz6ni0NsoX1TgXgPWqPdhqCZBtjVVRLWJ0YWhF4RVpOCqxc4Y\n",
       "bl7ibpwqLnCchF18nq3vZ+DRUQfFnKvXb2nkb5xawuUfUNXW4quXkYfDP58bYslB44LiY6qSFXn+\n",
       "G4Z5169s5OLzbP1y+QM2VSiGamGwtQAAAABJRU5ErkJggg==\n",
       "\" style=\"display:inline;vertical-align:middle;\" /></a><br>(see <a class=\"ProveItLink\" href=\"../__pv_it/0df784b837b874891b06b2711a37696e22beb0980/dependencies.ipynb\">dependencies</a>)<br>"
      ],
      "text/plain": [
       "distinctPairExistence: forall_{S | |S| >= 2} [exists_{a, b in S} (a != b)]"
      ]
     },
     "execution_count": 2,
     "metadata": {},
     "output_type": "execute_result"
    }
   ],
   "source": [
    "%proving distinctPairExistence presuming []"
   ]
  },
  {
   "cell_type": "code",
   "execution_count": null,
   "metadata": {},
   "outputs": [],
   "source": []
  }
 ],
 "metadata": {
  "kernelspec": {
   "display_name": "Python 3",
   "language": "python",
   "name": "python3"
  }
 },
 "nbformat": 4,
 "nbformat_minor": 0
}
