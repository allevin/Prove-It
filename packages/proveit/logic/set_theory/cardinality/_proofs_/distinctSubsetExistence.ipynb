{
 "cells": [
  {
   "cell_type": "markdown",
   "metadata": {},
   "source": [
    "Proof of <a class=\"ProveItLink\" href=\"../../../../_context_.ipynb\">proveit</a>.<a class=\"ProveItLink\" href=\"../../../_context_.ipynb\">logic</a>.<a class=\"ProveItLink\" href=\"../../_context_.ipynb\">set_theory</a>.<a class=\"ProveItLink\" href=\"../_context_.ipynb\">cardinality</a>.<a href=\"../_theorems_.ipynb#distinctSubsetExistence\" class=\"ProveItLink\">distinctSubsetExistence</a> theorem\n",
    "========"
   ]
  },
  {
   "cell_type": "code",
   "execution_count": 1,
   "metadata": {},
   "outputs": [],
   "source": [
    "import proveit\n",
    "context = proveit.Context('..') # the theorem's context is in the parent directory"
   ]
  },
  {
   "cell_type": "code",
   "execution_count": 2,
   "metadata": {},
   "outputs": [
    {
     "name": "stdout",
     "output_type": "stream",
     "text": [
      "Beginning proof of distinctSubsetExistence\n",
      "Recorded 'presuming' information\n",
      "Presuming previous theorem (applied transitively).\n"
     ]
    },
    {
     "data": {
      "text/html": [
       "<strong id=\"distinctSubsetExistence\">distinctSubsetExistence:</strong> <a class=\"ProveItLink\" href=\"../__pv_it/0ae9e8cbe4c57d33295c50c185a010405dcdb7ff0/expr.ipynb\"><img src=\"data:image/png;base64,iVBORw0KGgoAAAANSUhEUgAAAmAAAAAZBAMAAABk94/DAAAAMFBMVEX///8QEBC6urrMzMxUVFRm\n",
       "ZmZERETc3NwyMjKqqqp2dnaIiIiYmJgiIiLu7u4AAAAU9Wx4AAAAAXRSTlMAQObYZgAABo9JREFU\n",
       "WMPdmX1sU1UUwE/fa99b29e3JQYlGFkJGjCEtEERMDEtMiGguBKcEvjDakyRCKFEIkQkWyBRVMDG\n",
       "D/xISAqJwiAuzz9Q41ReghojKiNuBkg6Cw5jRnQ4FxbY2Dz33tf30de+127Jsnj/uD3tO/eee373\n",
       "3HPvuwVwK5tyaRhPGW/7yVLm5rLA5S64K3aM01AH/E+KGMdqK+TdHc6PF9g2LBMYZvI89xHPqapH\n",
       "KWwAowFw2tFhVxU3YA1Ypk8cMP/mDMSy+leTqBc+Xl2Xqw1greT7fkeHXVUqWZLrJ3Dx9GUgkmAi\n",
       "hkZBZIWjdU2Vq6bGAPYCEZOODruqTEJgsiYiLNnyzEfr9ip7lLI6MMLal3F02FVlEgIrOJoofvYt\n",
       "ratNEHKdDkw6sm3bTmeHXVUmIbDno1SagcA0UVuRU2jdggzWnJu3zzmVXd63e3YnEzfowOBaKnXB\n",
       "xWE3lUkFTF7bHsmIjXGY8+PnUmPnchT5p1a3P4ceP3Qs883NBgw/H66wvzKem1eGHHs6D/XdJxUq\n",
       "f2gAW1LCmYDV4SXj8Rfbf5zL5QYnCtiWMJzMgBCXkxCCEEaYEIeajdAXhliYvwW6aA5XAR6B2qHa\n",
       "YaeevCqMKqMqld8zgN0JcgvIjXl7ZtQdpioA8499SaL7wDD4z2aNHQc3In7t8VPks7Ctq3Bw2tgi\n",
       "TLOhdRZ20eZ0yRjUywDNBBjXjfOuARPqoFbBJ9K/DJgHO85C86CE4XNf2d4DII6mTzM2MwxgIQgi\n",
       "xLlMZ2FTODglXwyMqXAJiNBEugngFH0k0Br3z7uAu4qfb2un0+8w70XHBKxgA5KmunwRjG2sMChx\n",
       "SAMG9Q9HdWBJBCbeIM8psFo6E2fqyAytdNoc/6EvReQwZwALqqE8XaPyiSZVSrZBmy3CmEpIG2Cg\n",
       "OQwJK7AOUidBfIxhOtJv6qFSYMS8bqNqYPqguOECsN7fBizAuOEiYI005R90WpQDWv4yA5Nb7kVh\n",
       "L8Cns/7OS6d90OZrWNmw3OwwU+nLg0THhuatwOQRAJV4pxHLpsYAjJjXbVQPrDAoPcL4NJzJhBJB\n",
       "HRivRRguQw8m/g+gXoHPnID5s54hCKYJG/OShPUPYjXIjizSogWKPcKYSmgaSylXuEFZsUbY2cOa\n",
       "d/JHqCMrkfQVO7CeTWv3RG1xtbTr6G7jxFSwoQNzbmQAMwbVqQHzK+BTQomADgzOoRUEhplOUEEe\n",
       "nTUaFusYMJLA6flWF0jV19/cD1sIG4DvTcDeQZf4Onr6x9TTdqoEMKIC8qpReiB8C7r8YSuwy/XX\n",
       "NR/lo3nwR0OJN+3AfuEGmuPgtb6UhKKRZQOwUGXmdRs6MOdGAnj3YHndPKhYFJ6kwKaDkPa1mIDF\n",
       "MhhRawiwQALEa9768PYwBSbfJHg6TAKtmpOL+8VdhI3lWAEenJlgEu5nwAKBR+3APGzyttbRBQdn\n",
       "esEKDMTFmo/BvWR3kUay5vb78FgxIirB6zsz/CHrtcUOOPnueRCizLxuowDMpZERYcagxBXtkS6+\n",
       "ceDS8fbDID9zBMXfGwcWbZ6C57AvovDHCuyLw0F9daFn6i6Ww+R6/O0impRvBSbARQyrYK5t8Z4w\n",
       "YQOwywRMwukTFHgglUopUlT8udsOjKjIYZCvstczzwkrsEs4I8zH3g3sUHJ7osR9mDBCoqP4nmcz\n",
       "9u0BZl63YeQwx0YGMGNQFZXbDJEsSc5++TTLGLZieTVixXMP9LAIg5lf47MSF4D+DPBJNpmBaVZg\n",
       "79PTDD7sfVo79h7K2oG95ukQ1WLfa7J3wEvk9b7HYkMH5txIAEFbksagKio/WIFJdg1Vl5ANBJQi\n",
       "YH1B8KYZMKmt9I2pL4k5QXwFuAzI163AHqebYBIuU15wt/n1V2/P34gkhQzxfXta3A/b86RKxw5f\n",
       "w/c0HD81T22Ygbk00iPMNKjKrmvylQNDNvAnFAHztoJMvJ2NVbwMsPlNTwA/DKtwOS+zAlvd1JQm\n",
       "nzOZ4tQwc78owpZu/PVVurpiKj8IsTSpVG/qp2czgJswNU9tWCLMuZEOzDSoyq+baXnxjXUAik0h\n",
       "aDqMtbK+LcDoSsIk4nonL9mPQYXDUrKiO32yutTieexWi81bz2HlGgljfuPcUZV2MFoKWEV/YiwY\n",
       "JzD+k1bg9fArSOtsSdcCrGyjsQMb+58gVQJTnYAdwJ0ulXeOMEuUSmWt2k76JRtNSmC58v8remld\n",
       "SAfxqts7lLhTl0UDmJgyNxcHLtf5H9IWSOlG5OOnAAAAAElFTkSuQmCC\n",
       "\" style=\"display:inline;vertical-align:middle;\" /></a><br>(see <a class=\"ProveItLink\" href=\"../__pv_it/0ae9e8cbe4c57d33295c50c185a010405dcdb7ff0/dependencies.ipynb\">dependencies</a>)<br>"
      ],
      "text/plain": [
       "distinctSubsetExistence: forall_{l in NaturalsPos} [forall_{S, N | |S| >= N} [exists_{x_1,...,x_l in S | |x_1,...,x_l| = N} distinct(x_1 ,  ...  , x_l)]]"
      ]
     },
     "execution_count": 2,
     "metadata": {},
     "output_type": "execute_result"
    }
   ],
   "source": [
    "%proving distinctSubsetExistence presuming []"
   ]
  },
  {
   "cell_type": "code",
   "execution_count": null,
   "metadata": {},
   "outputs": [],
   "source": []
  }
 ],
 "metadata": {
  "kernelspec": {
   "display_name": "Python 3",
   "language": "python",
   "name": "python3"
  }
 },
 "nbformat": 4,
 "nbformat_minor": 0
}
