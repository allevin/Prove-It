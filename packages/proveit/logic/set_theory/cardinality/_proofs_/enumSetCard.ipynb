{
 "cells": [
  {
   "cell_type": "markdown",
   "metadata": {},
   "source": [
    "Proof of <a class=\"ProveItLink\" href=\"../../../../_context_.ipynb\">proveit</a>.<a class=\"ProveItLink\" href=\"../../../_context_.ipynb\">logic</a>.<a class=\"ProveItLink\" href=\"../../_context_.ipynb\">set_theory</a>.<a class=\"ProveItLink\" href=\"../_context_.ipynb\">cardinality</a>.<a href=\"../_theorems_.ipynb#enumSetCard\" class=\"ProveItLink\">enumSetCard</a> theorem\n",
    "========"
   ]
  },
  {
   "cell_type": "code",
   "execution_count": 1,
   "metadata": {},
   "outputs": [],
   "source": [
    "import proveit\n",
    "context = proveit.Context('..') # the theorem's context is in the parent directory"
   ]
  },
  {
   "cell_type": "code",
   "execution_count": 2,
   "metadata": {},
   "outputs": [
    {
     "name": "stdout",
     "output_type": "stream",
     "text": [
      "Beginning proof of enumSetCard\n",
      "Recorded 'presuming' information\n"
     ]
    },
    {
     "data": {
      "text/html": [
       "<strong id=\"enumSetCard\">enumSetCard:</strong> <a class=\"ProveItLink\" href=\"../__pv_it/e73f3a30e786bf25fdf8568ddb3e8d15224d1c490/expr.ipynb\"><img src=\"data:image/png;base64,iVBORw0KGgoAAAANSUhEUgAAAkIAAAAZBAMAAAAvX1wuAAAAMFBMVEX///8QEBC6urrMzMxUVFRm\n",
       "ZmZERETc3NwyMjKqqqp2dnaIiIiYmJgiIiLu7u4AAAAU9Wx4AAAAAXRSTlMAQObYZgAABYJJREFU\n",
       "WMPlmX9oG2UYx5/kLrkkd70Ghz9BGlHsQEYTLcxVpJmOiVPX/WFBikhUyBQ7jFBc/TESNsQqXbk/\n",
       "pgMVOcrmVgrhnLjJcDbqfxtq0elcJSOFiILOxrI2aLfF98cluUty997Jwiq+f1zeXJ7nmzyfe97n\n",
       "/REAVtuRT8H/tnnzc2yj2av28/aTq/S4O6++Q+QlmGqp5rhV/UegwCZUuCpPT4NJ/CrPufWMKfga\n",
       "ijTcnnSngvy/oIRIipyyJcQ0aUfr1WMSS249fZkrRMgXJYSm8NsJW0JMk3a0CT2mUNitJ/W4AoQg\n",
       "Qwi9iK5CwpYQ06QNTdRWAaGThFAAVRmfYkuIadKG5imsAkLzhJB0aOfOXfaVmmnShrYWjIR+3rtn\n",
       "7Wlbe/mxH+/cG2cQciOD/f0KJgTLyeQcY7ZnmbShDRkJyWeh69yMZmd/XvFc+m3FnpArGewf2kYI\n",
       "3Q+wvSnFzIRamdi0XyyXB0KUsQip9carhPDMxOegolVydp4PQ+dK50W6gCrVCPnGSItTQq5ksH8w\n",
       "QwjdBnIG5AFTVD4zIWLiYAmjv84oYnWZKZrXmy8zFDi12rumSiiGnyUIlRRabnDW04UK6bKkQfEy\n",
       "6r9mkUOuZLC/N0wIdYCIsK6jFncPRsRrC42EqAmz+fXXgBJM6N8XTJjykjkh1srpov6mdw3Niz8x\n",
       "v0ft1vff4MHlxRb+catK7UIG+3MlQkjMdaD8OYhG+8eDOSmRhWxTDlETF4T0jinxAihrNZbEr42E\n",
       "4BYyMPkLZBDahTaAxxKuHDBnOZe5kDEQkjO9dNwf7f6jIJ3yQda36ZFNDxoJURMXhGQSlhgGuV54\n",
       "PkQGzD0wX7W/sUqIR5iDqmcFxJRdaO9AlwbHIJAz16E8aQlKyJWMYZTB9vvQpQwSxi9tWK815xAx\n",
       "kTd/f3hPk2Rxx9BY1EQoNP2JUizBpye1fUtPFEvCk3d8gFL0wIaBwYKHqSJWs2y4Npeh719YTC/C\n",
       "C/Thy/gmzuhaB1/kSnclIoShM2Uzl1nLyM0y2F+ilRreQg5cGI8CdC+a/bIFIWzSEe15ACXpVvP3\n",
       "fue9kI5z4wZCD4FHkUteVVaRqFyCtOLP8ZpfjaEqx1TxxvU7B42zfTqxcVHYTUNbwOFdAkMHX4Rl\n",
       "visyGoGY3WxvKVN7Z5AxzPbgQc9NTEAfJRQKbW0mhE1egZn9Z6HvevP0rYl/7VLg6Toh4TIeZSVu\n",
       "6f2CTqjAa2n0fGJ4TmSpcNXStc5ISMxnN45FaGjzZRTMdeiD+YTekbtQ4pyYK96Agj9qR8hShmqZ\n",
       "ZbB/IEIJSejn+zW4N5lMalJU+PpcMyGJZPPz+Hqmsfjg+TVcJ+QtEULwdkXRCQGv9QAhtI+pUiPk\n",
       "SbXYdZAC0t28yqiXt+ec7DocydR3HfoPuguKNIfg1s/QQ21xghZQb4ZXm2J70zMr5PRtrTGHvKng\n",
       "LBcWdUIohwox0G5nqnir6wFJtSLUvO6Q6t01UaeEWDLYf9pAaEEEPkUJSdnWZ4z9k8vwLIltNCVM\n",
       "wGhBmBBe5/7uSfgVSTXUoWGYR4SCKiSE0ks6Ib8KalpQzjNVJLXx9ENyQ0guaQ7OhxzJIH85YyDE\n",
       "T4H8FN4woku8NSE++dUzComtP8eVoT/FlbmLsHn4hzeAjxgI+aZPfFtcCg4dj8IBtbgkD2z7fDcM\n",
       "HofQFkCrKoaKrxbXiB6T/FO9XB1e0kBsnqINq6wtCl2F2xFyJoP8Sc6MGDdjqA6xz6nPGPnr2Dt+\n",
       "N62HrA99FJZKwFC94Qj9dOpfnVOLjYSOuDygisBH0EDI0Un+PTcpwNVK2np9G3fMGSE5wVJ5d9X9\n",
       "2+GakHnA5lquqa3beyyV+H+RUN7x/2U800JinH6ECquMjzd/+h8YFCYtcTfYnQAAAABJRU5ErkJg\n",
       "gg==\n",
       "\" style=\"display:inline;vertical-align:middle;\" /></a><br>(see <a class=\"ProveItLink\" href=\"../__pv_it/e73f3a30e786bf25fdf8568ddb3e8d15224d1c490/dependencies.ipynb\">dependencies</a>)<br>"
      ],
      "text/plain": [
       "enumSetCard: forall_{l in NaturalsPos} [forall_{x_1,...,x_l | distinct(x_1 ,  ...  , x_l)} (|{x_1 ,  ...  , x_l}| = |x_1,...,x_l|)]"
      ]
     },
     "execution_count": 2,
     "metadata": {},
     "output_type": "execute_result"
    }
   ],
   "source": [
    "%proving enumSetCard presuming []"
   ]
  },
  {
   "cell_type": "code",
   "execution_count": null,
   "metadata": {},
   "outputs": [],
   "source": []
  }
 ],
 "metadata": {
  "kernelspec": {
   "display_name": "Python 3",
   "language": "python",
   "name": "python3"
  }
 },
 "nbformat": 4,
 "nbformat_minor": 0
}
