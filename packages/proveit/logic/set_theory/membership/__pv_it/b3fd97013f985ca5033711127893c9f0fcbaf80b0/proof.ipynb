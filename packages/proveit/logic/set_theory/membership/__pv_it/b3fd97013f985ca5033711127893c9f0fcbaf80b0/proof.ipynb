{
 "cells": [
  {
   "cell_type": "markdown",
   "metadata": {},
   "source": [
    "Show the Proof\n",
    "========"
   ]
  },
  {
   "cell_type": "code",
   "execution_count": 1,
   "metadata": {},
   "outputs": [
    {
     "data": {
      "text/html": [
       "<table><tr><th>&nbsp;</th><th>step type</th><th>requirements</th><th>statement</th></tr>\n",
       "<tr><td>0</td><td>assumption</td><td></td><td><span style=\"font-size:20px;\"><a class=\"ProveItLink\" href=\"../7b239d9b736354bdc2a688b3d6338344821f87450/expr.ipynb\"><img src=\"data:image/png;base64,iVBORw0KGgoAAAANSUhEUgAAAEoAAAAVBAMAAAATJmVgAAAAMFBMVEX////c3NxERESqqqpUVFS6\n",
       "urrMzMwyMjIQEBCIiIh2dnYiIiLu7u5mZmaYmJgAAABXZE4RAAAAAXRSTlMAQObYZgAAAURJREFU\n",
       "KM9jYGDgu8eAD2QtBJE8uxjwgwwDIMH5Aax2ku89xgto8ny+d88FMPAWAJlcDSCBFQ8YWG88QFNV\n",
       "x8CjD1UAJo7vARLrBVAVsSxgYDBHVlVxAEhEgOV4pu/eXQBmyScwMGQiqeL9DBKVBculv4GZFQ90\n",
       "dhqSKnmw5mMgglEHbqP8zwQGmGUgL9xHuJsJ4TjO//8VQT4FBUJGAAPDfoTUISTny3n8ALm3loEh\n",
       "pQ1I/wcLgkQYInbvhrke5G2QJUx1QGGg5f0gEWawK1IQYQrE50GqQJHDAtToDzKGFyx3Gq7qLMgD\n",
       "AlB3cW1gYMifAGSsgQQl3CPAAGW4woAUEnzA8IqF+IBnK0zV7QkMnArIqhhSSu4aQCXFr0EZDiEu\n",
       "egwoqpCBSTXCj7hVoQOwAj5CqsDpi2cnobQaAA69xQTTPQCyHFQgpjlTXwAAAABJRU5ErkJggg==\n",
       "\" style=\"display:inline;vertical-align:middle;\" /></a> <a class=\"ProveItLink\" href=\"proof.ipynb\" style=\"text-decoration: none\">&#x22A2;&nbsp;</a><a class=\"ProveItLink\" href=\"../d406481566d23759c82edad3176cd04052d74d9c0/expr.ipynb\"><img src=\"data:image/png;base64,iVBORw0KGgoAAAANSUhEUgAAADcAAAAPBAMAAACy3Eq1AAAAMFBMVEX////MzMyqqqoiIiIyMjK6\n",
       "uroQEBB2dnbc3NyYmJhmZmZUVFRERESIiIju7u4AAAB204erAAAAAXRSTlMAQObYZgAAAOVJREFU\n",
       "GNNjYGDgu7NrJccCBlTAuWvVywAgXTaBgXXZBDRJTwa+80DqiR2QqG9AleMuYGBQAdJuD4BEGFiI\n",
       "74qxsQOY1S/AwCDLwMD1CcTpAguJzIPpjFdgYBAEqgErfQgiOM7Bje3/KwCi1iOcwoOwmPf//xNA\n",
       "yh4h8gbJRZ3bvgHd8h/MBjmKIczYGOYgkAeARuaDGExgG6QRQQDE74GS+0GauMBCj+GSr0BuAton\n",
       "fwHIqIP4HO42kP9Xg0wA+jMK4ig+U5jk4gsMvAfANnmvUoCKtSyEMjZE7z7JgA60nRGuBQIAgbI3\n",
       "uAFwCikAAAAASUVORK5CYII=\n",
       "\" style=\"display:inline;vertical-align:middle;\" /></a></span></td></tr>\n",
       "</table>"
      ],
      "text/plain": [
       "<proveit._core_.proof._ShowProof at 0x7f94ebb3a160>"
      ]
     },
     "execution_count": 1,
     "metadata": {},
     "output_type": "execute_result"
    }
   ],
   "source": [
    "import proveit\n",
    "%show_proof"
   ]
  },
  {
   "cell_type": "code",
   "execution_count": null,
   "metadata": {},
   "outputs": [],
   "source": []
  }
 ],
 "metadata": {
  "kernelspec": {
   "display_name": "Python 3",
   "language": "python",
   "name": "python3"
  }
 },
 "nbformat": 4,
 "nbformat_minor": 0
}
