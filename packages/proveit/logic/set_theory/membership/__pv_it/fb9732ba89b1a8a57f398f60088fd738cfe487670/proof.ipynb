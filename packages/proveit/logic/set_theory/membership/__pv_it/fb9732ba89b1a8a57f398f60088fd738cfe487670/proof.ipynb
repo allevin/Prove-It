{
 "cells": [
  {
   "cell_type": "markdown",
   "metadata": {},
   "source": [
    "Show the Proof\n",
    "========"
   ]
  },
  {
   "cell_type": "code",
   "execution_count": 1,
   "metadata": {},
   "outputs": [
    {
     "data": {
      "text/html": [
       "<table><tr><th>&nbsp;</th><th>step type</th><th>requirements</th><th>statement</th></tr>\n",
       "<tr><td>0</td><td>assumption</td><td></td><td><span style=\"font-size:20px;\"><a class=\"ProveItLink\" href=\"../491236b7273ffe416688db2dab29af8306ef4cca0/expr.ipynb\"><img src=\"data:image/png;base64,iVBORw0KGgoAAAANSUhEUgAAAEkAAAAVBAMAAAD4Ed5jAAAAMFBMVEX////c3NxERESqqqpUVFS6\n",
       "urrMzMwyMjIQEBCIiIh2dnYiIiLu7u5mZmaYmJgAAABXZE4RAAAAAXRSTlMAQObYZgAAAUNJREFU\n",
       "KM9jYGDgu8eAB7CtEgBRPLsY8AK2ZhDJ+QFE+H9xcemfgKaAz/fuuQCG6yAmVwOI5C9gYGB6gKaq\n",
       "joFHn4FhBUJV/AKg1gBURSxAMXMUVesNGBiYE8DunL57dwFYlTyQn4miqv4AgwDfARAr/Q3MrHig\n",
       "zjQUVb8ZeCCuYtSB2yj/E2w4WBUvyHjWvwy84HBhYBKAq+L8/18RSL0HsTNAbub67rIDInUIyfly\n",
       "Hj+AjmC/wMCQ0gbis/9hYIHIROzeDXM9yFMgZ6gDiQiQ5fwbGM5BxFMQYQrE54EKuBeAQqUAGlwQ\n",
       "cBqu6izIAwJQd3FtAJkMD1AWeAQAA5ThCgNySNTDTeDZCmPdnsDAqYCkiufSf194AIhfgzIcQlz0\n",
       "GFDMQgYm1Qg/4laFDsCq+AipAqcvnp0E0morJPQWE0z3APpDU8SdoMLhAAAAAElFTkSuQmCC\n",
       "\" style=\"display:inline;vertical-align:middle;\" /></a> <a class=\"ProveItLink\" href=\"proof.ipynb\" style=\"text-decoration: none\">&#x22A2;&nbsp;</a><a class=\"ProveItLink\" href=\"../a0ba40f386898578978f211b774896e4392b83000/expr.ipynb\"><img src=\"data:image/png;base64,iVBORw0KGgoAAAANSUhEUgAAADgAAAAPBAMAAABD1xE4AAAAMFBMVEX///9mZmYiIiLc3Nzu7u7M\n",
       "zMyqqqp2dna6urqYmJhEREQyMjIQEBBUVFSIiIgAAABBzvKsAAAAAXRSTlMAQObYZgAAAOhJREFU\n",
       "GNNjYGB4+//u3Tv/GNDAXEGRGSD6NxCvRJPjnsDg9QFIc3wHEjPQJK8zMLBtANLs34BEKljIb5OS\n",
       "NpjB/JWBgfUByIQvDMwMU0BCrDsdoBo5gBpYA4AMfgUGT4iQFUyOgfn/UwijX4BBGMJajLDz/f9f\n",
       "BiC6fu+lA2ABlgUISea554+A6P0ODBcgFh1SUoI6COTOnyDyEwPLBDCX9QJcI1CA5SfMmxBjFeAs\n",
       "AaDBn0Haf8DV34QxQP5nBJnD/QEu6dQAZTDqMTC8AtKO6/8Kw524MQDC4OW4e2sCelSw3Ua4FggA\n",
       "XbU52Aml9NoAAAAASUVORK5CYII=\n",
       "\" style=\"display:inline;vertical-align:middle;\" /></a></span></td></tr>\n",
       "</table>"
      ],
      "text/plain": [
       "<proveit._core_.proof._ShowProof at 0x7f94eb309c50>"
      ]
     },
     "execution_count": 1,
     "metadata": {},
     "output_type": "execute_result"
    }
   ],
   "source": [
    "import proveit\n",
    "%show_proof"
   ]
  },
  {
   "cell_type": "code",
   "execution_count": null,
   "metadata": {},
   "outputs": [],
   "source": []
  }
 ],
 "metadata": {
  "kernelspec": {
   "display_name": "Python 3",
   "language": "python",
   "name": "python3"
  }
 },
 "nbformat": 4,
 "nbformat_minor": 0
}
