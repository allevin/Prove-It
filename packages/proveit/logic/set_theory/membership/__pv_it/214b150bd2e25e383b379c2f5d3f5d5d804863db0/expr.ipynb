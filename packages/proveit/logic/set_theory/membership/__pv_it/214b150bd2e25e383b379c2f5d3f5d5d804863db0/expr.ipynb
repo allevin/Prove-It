{
 "cells": [
  {
   "cell_type": "markdown",
   "metadata": {},
   "source": [
    "Expression of type <a class=\"ProveItLink\" href=\"../../../../../../../doc/html/api/proveit.Lambda.html\">Lambda</a>\n",
    "=======================\n",
    "# from context <a class=\"ProveItLink\" href=\"../../_context_.ipynb\">proveit.logic.set_theory.membership</a>"
   ]
  },
  {
   "cell_type": "code",
   "execution_count": 1,
   "metadata": {},
   "outputs": [],
   "source": [
    "# import Expression classes needed to build the expression\n",
    "from proveit import Lambda\n",
    "from proveit._common_ import A\n",
    "from proveit.logic import Booleans, InSet, Not"
   ]
  },
  {
   "cell_type": "code",
   "execution_count": 2,
   "metadata": {},
   "outputs": [
    {
     "data": {
      "text/html": [
       "<strong id=\"expr\">expr:</strong> <a class=\"ProveItLink\" href=\"expr.ipynb\"><img src=\"data:image/png;base64,iVBORw0KGgoAAAANSUhEUgAAAOIAAAAVCAMAAABsWcJEAAAANlBMVEX///92dnYUFBQNDQ0QEBBE\n",
       "RERUVFS6urqIiIhmZmaqqqrc3Nzu7u6YmJgyMjIiIiLMzMwAAACuIkBbAAAAAXRSTlMAQObYZgAA\n",
       "AjpJREFUWMPNmNmS4yAMRfE0+yLM//9s2xM7RiCMXJ2pHr0oVVEOVyAERIj/3nz4jVGNxX5syTwC\n",
       "U+GL+ZjuNbMjNfZ3NLfeohYoCgrIrPwonEpxorWlngaFmyJE7MmYkwYTmNprIUJclkE4leJUa0M9\n",
       "aiSXyMvQWuzJinvT0sIQI6w5kuvDiRTnWhvqXwveFea+lhF7wipalOibaCFvBo0Yn4SORDiZYq91\n",
       "Rn0tibCFt68NYE8udEVD+2GFFOn5DooIp1PstM6pu94ofElVseO+XQ/rFuypWahpi6vmX0WypNac\n",
       "zm/qcDrFViuHui30hllLtbeajlUtt4CEfW+Y5qvpUoHaNTmXIqlwMsVOK4e6Tcw+F8UNU4z6okiD\n",
       "vMtvW0iauXZXVMPGYL3qwukUO60c6nbA7Vaq0K8/GZm8iv/81G3d67hEtPVq8EaevLYx7G5pw8kU\n",
       "e60cqnhBJAxXUehrnGmKDa3STN0V3mKEYqXYa+VQj2aS5TBFV1W79Ni3Q7W0ulDzXMykUAmtDGrw\n",
       "/ZUB/2pFmzth36TY0VI14TqNxRwllW7bDaV1To0nU5X6mETdBg3pBt1drCStjovZ0GKSs4pxaJBa\n",
       "Z9SgZIG9DJMqBRzn6M/Yo3sHQQO0CoAv2q8Ls8pSn2UPZpjiUOuc+tBkwP7e2huZ14B63ySc+Zia\n",
       "UJ/aeVOeXbAPhfYRvA//4HuRb5zHVLd7eBZ5j6l/bkFjf2f62d8SRPivpCiCxf7mybE+AlPh9ocp\n",
       "fgMrth2cvv1d+gAAAABJRU5ErkJggg==\n",
       "\" style=\"display:inline;vertical-align:middle;\" /></a><br>"
      ],
      "text/plain": [
       "expr: A -> ([not](A) in BOOLEANS) | A in BOOLEANS"
      ]
     },
     "execution_count": 2,
     "metadata": {},
     "output_type": "execute_result"
    }
   ],
   "source": [
    "# build up the expression from sub-expressions\n",
    "expr = Lambda(A, InSet(Not(A), Booleans), conditions = [InSet(A, Booleans)])"
   ]
  },
  {
   "cell_type": "code",
   "execution_count": 3,
   "metadata": {},
   "outputs": [
    {
     "name": "stdout",
     "output_type": "stream",
     "text": [
      "Passed sanity check: built 'expr' is the same as the stored Expression.\n"
     ]
    }
   ],
   "source": [
    "# check that the built expression is the same as the stored expression\n",
    "%check_expr"
   ]
  },
  {
   "cell_type": "code",
   "execution_count": 4,
   "metadata": {},
   "outputs": [
    {
     "data": {
      "text/html": [
       "<table><tr><th>&nbsp;</th><th>core type</th><th>sub-expressions</th><th>expression</th></tr>\n",
       "<tr><td>0</td><td>Lambda</td><td>parameter:&nbsp;9<br>body:&nbsp;1<br>conditions:&nbsp;2<br></td><td><a class=\"ProveItLink\" href=\"expr.ipynb\"><img src=\"data:image/png;base64,iVBORw0KGgoAAAANSUhEUgAAAOIAAAAVCAMAAABsWcJEAAAANlBMVEX///92dnYUFBQNDQ0QEBBE\n",
       "RERUVFS6urqIiIhmZmaqqqrc3Nzu7u6YmJgyMjIiIiLMzMwAAACuIkBbAAAAAXRSTlMAQObYZgAA\n",
       "AjpJREFUWMPNmNmS4yAMRfE0+yLM//9s2xM7RiCMXJ2pHr0oVVEOVyAERIj/3nz4jVGNxX5syTwC\n",
       "U+GL+ZjuNbMjNfZ3NLfeohYoCgrIrPwonEpxorWlngaFmyJE7MmYkwYTmNprIUJclkE4leJUa0M9\n",
       "aiSXyMvQWuzJinvT0sIQI6w5kuvDiRTnWhvqXwveFea+lhF7wipalOibaCFvBo0Yn4SORDiZYq91\n",
       "Rn0tibCFt68NYE8udEVD+2GFFOn5DooIp1PstM6pu94ofElVseO+XQ/rFuypWahpi6vmX0WypNac\n",
       "zm/qcDrFViuHui30hllLtbeajlUtt4CEfW+Y5qvpUoHaNTmXIqlwMsVOK4e6Tcw+F8UNU4z6okiD\n",
       "vMtvW0iauXZXVMPGYL3qwukUO60c6nbA7Vaq0K8/GZm8iv/81G3d67hEtPVq8EaevLYx7G5pw8kU\n",
       "e60cqnhBJAxXUehrnGmKDa3STN0V3mKEYqXYa+VQj2aS5TBFV1W79Ni3Q7W0ulDzXMykUAmtDGrw\n",
       "/ZUB/2pFmzth36TY0VI14TqNxRwllW7bDaV1To0nU5X6mETdBg3pBt1drCStjovZ0GKSs4pxaJBa\n",
       "Z9SgZIG9DJMqBRzn6M/Yo3sHQQO0CoAv2q8Ls8pSn2UPZpjiUOuc+tBkwP7e2huZ14B63ySc+Zia\n",
       "UJ/aeVOeXbAPhfYRvA//4HuRb5zHVLd7eBZ5j6l/bkFjf2f62d8SRPivpCiCxf7mybE+AlPh9ocp\n",
       "fgMrth2cvv1d+gAAAABJRU5ErkJggg==\n",
       "\" style=\"display:inline;vertical-align:middle;\" /></a></td></tr>\n",
       "<tr><td>1</td><td>Operation</td><td>operator:&nbsp;6<br>operands:&nbsp;3<br></td><td><a class=\"ProveItLink\" href=\"../3d6b65c2c7e9bc40ea9c395573e3b7a03e4c32380/expr.ipynb\"><img src=\"data:image/png;base64,iVBORw0KGgoAAAANSUhEUgAAAFIAAAAVBAMAAAAnX6R8AAAAMFBMVEX////c3NwiIiJERESqqqqY\n",
       "mJh2dnZmZmYQEBDu7u4yMjJUVFTMzMyIiIi6uroAAAAs73DqAAAAAXRSTlMAQObYZgAAAVBJREFU\n",
       "KM9jYCAe8F1AE2B9gEPlaRTeISCuQVXAtt7qV5MJkLESRXg9EHOhmcXMd2HWtAQGXhTLWfUnAIkE\n",
       "DJW8DxYwcExAFhSpF2Bg4GyAcOYuUtKCqmQJ2MnwCkX7hfsg75iA2TxLJyDMfGjAUIYSDhP8A4BU\n",
       "OpgjPAFh+6HgCQxLkVXOYzgPcrYXmGOIcKfS/14Ghj4GBnYlEAB54wGDfAGQegGS5zRA9tEVA4Z/\n",
       "UC7PBiDevXs/SP482CVNQO0wHzEYPENRycfAwLEAphIkADeTwYCZoQVJpQMDA1MD3HYFNJWmCJWM\n",
       "QJVcH4DsKLDIVhSVz6AhAgQHGGaBRH/CQ2nSA4RK1loDhkfwIBLuX8jAav8L6Pl1YD7j8gOwFPJZ\n",
       "YwvQCwIYqQsWmyy7IH6HpYkEDJVsF7Cnz5UYIrNwpGRpDJGNOFQyotvFewCrOgDNBVc5K9T2IgAA\n",
       "AABJRU5ErkJggg==\n",
       "\" style=\"display:inline;vertical-align:middle;\" /></a></td></tr>\n",
       "<tr><td>2</td><td>ExprTuple</td><td>4</td><td><a class=\"ProveItLink\" href=\"../388c49b4b615312a56dc5e02c38915790bb9816a0/expr.ipynb\"><img src=\"data:image/png;base64,iVBORw0KGgoAAAANSUhEUgAAAEMAAAAVBAMAAADvM06qAAAAMFBMVEX////c3NwiIiJERESqqqqY\n",
       "mJh2dnZmZmYQEBDu7u4yMjJUVFTMzMyIiIi6uroAAAAs73DqAAAAAXRSTlMAQObYZgAAAUNJREFU\n",
       "KM9jYCAC8F3AJxsHIk5D2IdQpdjWW/1qMmFgYD8A5KyEiK1H087Md2HWtAQGhgUMDLwQe1j1J2Ao\n",
       "4X0AlA9jYOCASInUC0Ck5i5S0oIqYQnYycAwg4HhFUTmwv0HYJpn6QSEKQ8NgLQDQxnEWxP8A8AM\n",
       "4QkIiw4FAzlsBQxLwQLzGM5D3GSIcIvS/14gzbKAoQ8s8IBBvgBEcxogO/cKkMfXwPAP7ILdu/eD\n",
       "JfmalJTgzmUweAaU+gBRwgf02QKw2g1IpjAYMIOVtID4DgwMTA1gixTQlQAtMgVyGYFKuD6AZbai\n",
       "KAFaxLqAIR3InQUS+gmWmfQAoYS11gDs6UfAsOhfyMBq/wvsJcblB2DR+FljC5DB9YCBQwA1blh2\n",
       "QXwEA8AIYE3An5xyEYkBB+AEhYU0XiXcIHcw4k2YdxgYADaiUrQ+foXtAAAAAElFTkSuQmCC\n",
       "\" style=\"display:inline;vertical-align:middle;\" /></a></td></tr>\n",
       "<tr><td>3</td><td>ExprTuple</td><td>5, 10</td><td><a class=\"ProveItLink\" href=\"../33ba474c1fb158edbaa2b5cbdb7cacaa8370b6080/expr.ipynb\"><img src=\"data:image/png;base64,iVBORw0KGgoAAAANSUhEUgAAAEEAAAAVBAMAAADrxp6XAAAAMFBMVEX////c3NwiIiJERESqqqqY\n",
       "mJh2dnZmZmYQEBDu7u4yMjJUVFTMzMyIiIi6uroAAAAs73DqAAAAAXRSTlMAQObYZgAAAS5JREFU\n",
       "KM9jYCAM+C7gkYwDEadRhA5BKLb1Vr+aTBgY2A8AOStRVKyH0sx8F2ZNS2BgWMDAwItiCav+BLgK\n",
       "3gdA6TAGBo4JyCpE6gXgKlgCdjIwzGBgeIViyYX7DxBmPDQA0g4MZSj+muAfAFdxKBhoPFsBw1Jk\n",
       "FfMYzl+AqVD63wukWRYw9AG9pAQCQIczPGCQL0DYcgVoC18Dwz+odp4NQLx7934DuAoGg2dAoQ8o\n",
       "KviAXluApIIZrKIFSYUDAwNTA6oKoC2mCBWMQBVcHxgYJiDZwrqAIR3mjwMMs0AyPxk4P0FUsNYa\n",
       "gH37CO5V4f6FDKz2vwo4+wVAMfdZYwtQkOsBA4cAZnpAEgKGOmsChgpWJHYuRuyjqeAEeV4aQwVS\n",
       "euAGWciILxXeYWAAAGeMUClODeI8AAAAAElFTkSuQmCC\n",
       "\" style=\"display:inline;vertical-align:middle;\" /></a></td></tr>\n",
       "<tr><td>4</td><td>Operation</td><td>operator:&nbsp;6<br>operands:&nbsp;7<br></td><td><a class=\"ProveItLink\" href=\"../ea889d0d3daae93f0cbd8ece3c1551a1122736b60/expr.ipynb\"><img src=\"data:image/png;base64,iVBORw0KGgoAAAANSUhEUgAAADYAAAAPBAMAAABdHiGLAAAAMFBMVEX///92dnYQEBBERERUVFS6\n",
       "urqIiIhmZmaqqqrc3Nzu7u6YmJgyMjIiIiLMzMwAAACFkkdwAAAAAXRSTlMAQObYZgAAANJJREFU\n",
       "GNNjYACBtwwogPG8zR9dCyjnPKocAzNrwpqFAmAm9/0FGHJsAQfAzBn1EyBiy87evQOV49jgBRZK\n",
       "yA8A03ynFyD0RRqAWKwL+jeAhSYvQJj5djOYs5ThfQJYyBJh393/amBWAMP8AhDNZYDslgwQj8/F\n",
       "xR9itu7du3C3MBgEgoQYGJjA7uVzQNLHYMAMZDQwMPAqgM28gC7HCZTj+QAW8kaRA5q5BsT+BRZa\n",
       "G4CQ4y4zYJisf5KB2/4P2KGcxx/AwvrzJQ+0MObwgbgTAgCMvTlc/0QYTQAAAABJRU5ErkJggg==\n",
       "\" style=\"display:inline;vertical-align:middle;\" /></a></td></tr>\n",
       "<tr><td>5</td><td>Operation</td><td>operator:&nbsp;8<br>operand:&nbsp;9<br></td><td><a class=\"ProveItLink\" href=\"../feaa1d0e6d92ad9ead8e5ffd1f92697e3912387a0/expr.ipynb\"><img src=\"data:image/png;base64,iVBORw0KGgoAAAANSUhEUgAAABwAAAAOBAMAAADOPWE3AAAAMFBMVEX///8QEBBERES6urqIiIiq\n",
       "qqrc3Nzu7u6YmJgyMjJUVFTMzMx2dnYiIiJmZmYAAADMbjvTAAAAAXRSTlMAQObYZgAAAGNJREFU\n",
       "CNdjYEAA7gsMyIDzAwq39zsyjy3uGzKXheUzMtec9QcSj92A+wsDw9u7QHAHyGVmYPsHldkFwqtW\n",
       "fULiGjAwSCK4rEDqIoKbCqTmw1zLwD4BSOkXwFyk+DOBoen/PABSrhtHsYt+gAAAAABJRU5ErkJg\n",
       "gg==\n",
       "\" style=\"display:inline;vertical-align:middle;\" /></a></td></tr>\n",
       "<tr><td>6</td><td>Literal</td><td></td><td><a class=\"ProveItLink\" href=\"../088cbc857536a28d4119ad9639a84270ccb0545d0/expr.ipynb\"><img src=\"data:image/png;base64,iVBORw0KGgoAAAANSUhEUgAAAAwAAAAMBAMAAACkW0HUAAAALVBMVEX///+qqqpmZmZUVFQQEBC6\n",
       "urpERETc3NyYmJjMzMwiIiIyMjKIiIju7u4AAACYsrA9AAAAAXRSTlMAQObYZgAAADxJREFUCNdj\n",
       "YOA9vWrVBgaG2b0MQMCeCyIZ2ArA1DUwyRCyahVIyWQI7xaEYm4AU7xLIdxqTQgtvGvVBgCkcQ7e\n",
       "geM/tQAAAABJRU5ErkJggg==\n",
       "\" style=\"display:inline;vertical-align:middle;\" /></a></td></tr>\n",
       "<tr><td>7</td><td>ExprTuple</td><td>9, 10</td><td><a class=\"ProveItLink\" href=\"../0f38ce3f6d5bca20d60f2036d8f4eedb1ccd39680/expr.ipynb\"><img src=\"data:image/png;base64,iVBORw0KGgoAAAANSUhEUgAAADMAAAAVBAMAAAAZessyAAAAMFBMVEX////c3NwiIiJERESqqqqY\n",
       "mJh2dnZmZmYQEBDu7u4yMjJUVFTMzMyIiIi6uroAAAAs73DqAAAAAXRSTlMAQObYZgAAAR1JREFU\n",
       "KM9jYMAD+C5gE40DEach7EMQim291a8mEwYG9gNAzkqI2Hqocma+C7OmJTAwLGBg4IWYx6o/AS7F\n",
       "+wAoHsbAwAEREqkXgEuxBOxkYJjBwPAKInLh/gOErocGQNqBoQzizAn+AXCpQ8FAk9gKGJaCBeYx\n",
       "nL8Ak1L63wukWRYw9IEFHjDIFyAMvAI0kK+B4R+Iz7N7934DuBSDwTOg0AeIFB/QpQuQpJjBUi0g\n",
       "vgMDA1MDqhTQQFMglxEoxfWBgWECkoGsCxjSgdxZIKGfDJyfIFKstQZgxz9iYBDuX8jAav+rgLNf\n",
       "ABS8nzW2AJVwPWDgEECKHyQ2MKBYExBcVqQIy0VECpoUJ8gv0gg+Unxzg8xmxJoA7jAwAAA4lUto\n",
       "1aFFcAAAAABJRU5ErkJggg==\n",
       "\" style=\"display:inline;vertical-align:middle;\" /></a></td></tr>\n",
       "<tr><td>8</td><td>Literal</td><td></td><td><a class=\"ProveItLink\" href=\"../../../../boolean/negation/__pv_it/7bea79645543c2413aa17e787cca04e21046fde60/expr.ipynb\"><img src=\"data:image/png;base64,iVBORw0KGgoAAAANSUhEUgAAAAwAAAAGBAMAAAAFwGKyAAAAFVBMVEX///9UVFTMzMx2dnYiIiJm\n",
       "ZmYAAACWz4ZEAAAAAXRSTlMAQObYZgAAABRJREFUCNdjCHEBAmcGMFDEQzEBAEl+Ai6uYJv/AAAA\n",
       "AElFTkSuQmCC\n",
       "\" style=\"display:inline;vertical-align:middle;\" /></a></td></tr>\n",
       "<tr><td>9</td><td>Variable</td><td></td><td><a class=\"ProveItLink\" href=\"../../../../../__pv_it/2cbe72a7ad6f655694dd697106680215e8489b600/expr.ipynb\"><img src=\"data:image/png;base64,iVBORw0KGgoAAAANSUhEUgAAAA8AAAAOBAMAAAACpFvcAAAALVBMVEX///8QEBBERERUVFS6urqI\n",
       "iIhmZmaqqqrc3Nzu7u6YmJgyMjIiIiLMzMwAAADtIaYWAAAAAXRSTlMAQObYZgAAAFtJREFUCNdj\n",
       "YACBOwxQsA9Kc52bAGG05zVAGAFxDmCaZULdAjBjCsO9ADDDgaEvAUTzGhvbKYCVMDAwbgAxChgY\n",
       "eASANAeQwf0AyJgNxEwvGRia5HYwcOm9TgAA6BoR3jrzwFcAAAAASUVORK5CYII=\n",
       "\" style=\"display:inline;vertical-align:middle;\" /></a></td></tr>\n",
       "<tr><td>10</td><td>Literal</td><td></td><td><a class=\"ProveItLink\" href=\"../../../../boolean/__pv_it/46271c8230be96415d662709611f4ed2279d702b0/expr.ipynb\"><img src=\"data:image/png;base64,iVBORw0KGgoAAAANSUhEUgAAAA0AAAAOBAMAAAAGUYvhAAAAMFBMVEX///9mZmbMzMzc3NxUVFSY\n",
       "mJju7u6IiIi6urqqqqoiIiIQEBBEREQyMjJ2dnYAAAAQvcRZAAAAAXRSTlMAQObYZgAAAElJREFU\n",
       "CNdjePvn/u01ExgYGA60s117B6YZKngh9FSWBAjfBsxnWnoMRHet/10AkS+fA6F5OB5AaIYDqDRU\n",
       "PLCGgQFoz6ktExgAgLIl8DFvGtkAAAAASUVORK5CYII=\n",
       "\" style=\"display:inline;vertical-align:middle;\" /></a></td></tr>\n",
       "</table>\n"
      ],
      "text/plain": [
       "0. A -> ([not](A) in BOOLEANS) | A in BOOLEANS\n",
       "   core type: Lambda\n",
       "   parameter: 9\n",
       "   body: 1\n",
       "   conditions: 2\\n1. [not](A) in BOOLEANS\n",
       "   core type: Operation\n",
       "   operator: 6\n",
       "   operands: 3\n",
       "2. (A in BOOLEANS)\n",
       "   core type: ExprTuple\n",
       "   sub-expressions: 4\n",
       "3. ([not](A) , BOOLEANS)\n",
       "   core type: ExprTuple\n",
       "   sub-expressions: 5, 10\n",
       "4. A in BOOLEANS\n",
       "   core type: Operation\n",
       "   operator: 6\n",
       "   operands: 7\n",
       "5. [not](A)\n",
       "   core type: Operation\n",
       "   operator: 8\n",
       "   operand: 9\n",
       "6. in\n",
       "   core type: Literal\n",
       "   sub-expressions: \n",
       "7. (A , BOOLEANS)\n",
       "   core type: ExprTuple\n",
       "   sub-expressions: 9, 10\n",
       "8. not\n",
       "   core type: Literal\n",
       "   sub-expressions: \n",
       "9. A\n",
       "   core type: Variable\n",
       "   sub-expressions: \n",
       "10. BOOLEANS\n",
       "    core type: Literal\n",
       "    sub-expressions: "
      ]
     },
     "execution_count": 4,
     "metadata": {},
     "output_type": "execute_result"
    }
   ],
   "source": [
    "# display the expression information\n",
    "expr.exprInfo()"
   ]
  },
  {
   "cell_type": "code",
   "execution_count": null,
   "metadata": {},
   "outputs": [],
   "source": []
  }
 ],
 "metadata": {
  "kernelspec": {
   "display_name": "Python 3",
   "language": "python",
   "name": "python3"
  }
 },
 "nbformat": 4,
 "nbformat_minor": 0
}
