{
 "cells": [
  {
   "cell_type": "markdown",
   "metadata": {},
   "source": [
    "Expression of type <a class=\"ProveItLink\" href=\"../../../../../../../doc/html/api/proveit.ExprTuple.html\">ExprTuple</a>\n",
    "=======================\n",
    "# from context <a class=\"ProveItLink\" href=\"../../_context_.ipynb\">proveit.logic.set_theory.membership</a>"
   ]
  },
  {
   "cell_type": "code",
   "execution_count": 1,
   "metadata": {},
   "outputs": [],
   "source": [
    "# import Expression classes needed to build the expression\n",
    "from proveit import ExprTuple\n",
    "from proveit._common_ import A, B, C, D, E, F, G, S\n",
    "from proveit.number import Exp, seven"
   ]
  },
  {
   "cell_type": "code",
   "execution_count": 2,
   "metadata": {},
   "outputs": [
    {
     "data": {
      "text/html": [
       "<strong id=\"expr\">expr:</strong> <a class=\"ProveItLink\" href=\"expr.ipynb\"><img src=\"data:image/png;base64,iVBORw0KGgoAAAANSUhEUgAAAOkAAAAcBAMAAAB2RoV6AAAAMFBMVEX///+qqqp2dnYiIiJERESI\n",
       "iIhmZmYQEBDc3NyYmJgyMjLu7u5UVFTMzMy6uroAAACGxKilAAAAAXRSTlMAQObYZgAAA7NJREFU\n",
       "SMfFVk1oE0EU/rLtpknWpDl5KCjx4kEP9mQRPNRTtQgNSPEitFoRFcUeBK2CXQ8Kemn8wYMIFaxC\n",
       "UexeVLSHFlqrlsUGRARRmoN/oLTaP9u0Gt/bmdmdWHNsHNjJe/vem2/mvfdNFijnWNffj/KPsUKh\n",
       "XooT5UN9OfHBMTwpPlg+1CTWSrwnThlTHEkDzSy84OnjSkBEc8teraKnwib09iDL8VplvVFw3UY/\n",
       "6MHOA5nzQtxDhp6sfG+OLblu301N6UzrEUf1LYwceJzDO3YksHArCTGR5dh33+k4WX5L2egAPnVI\n",
       "JQ+EfiivakIM1WtKZUaPiGmovbCagH0kWYtAFZ+oWViuLCqf+Cw9S0K2btGejHlpmKLpmGqFST5a\n",
       "q1JSKqkqIpoKUktiDbCFZZrG+fe0KPXqeeVkkhSdEnKMrYl2aeAEjMs8YhPl2vKVJB0860dQuax2\n",
       "H7WLDK+BBZb3A7t5SVEa01Q5RSX5V4i94FiSdyRPVMlF6FJk6wNSsJXiwI46RRHbfNRJevUeOMNy\n",
       "NzBKP2GRia+hBb9gg4j0iDxG8l7SZAdVcxXHFeoMohl/4WlYGT2CdrM+OOtsNtiBg52cEc/bynE1\n",
       "xRh/2twm1wsv6K3vJbdb1iuRd/vUSZGYQ9j+K6LGjzMLhe3+GlncgewoJBCZU4YWG9ZWIVbM66gt\n",
       "vOUxySnjl9amRt6t+zvicxB44dlP1YNdOWzmtHmrvHPdGeXTwADisNUenSxpaOLphFSIaQbiSln0\n",
       "7gAZYR7uSclWVWOTKsZAUkOl6ZTyWAryWOWhrvErSc2tMkhFjuCBUmrxWEhV3LqG1+z+HcFgmeCs\n",
       "99iNey5ET52iK687lhRM80jcGvAYVfU6XTdqdEUQ4d04foYfMpgdsGgY8kY5K5hgKbpyJ1oKyHCk\n",
       "4RdNjVQgR9GVCSKUnKqEF9HFbLzOrxzZVkf8Hraxi9ekSIu9mhwM1Eq6vrkLoXQnkTgoZabrW/ae\n",
       "lnTFq6ymqIgM4kN8dGaOZ21Lw1QZYr5OcvfWItKQt3G1cAeP6JjhpiV3tJcMrCA+OrJXyg/JMMx3\n",
       "utVJTT5M/wRD01LZXxixtYhDUW72+9IVg9/cHX5bbaAmYOtJrdW+oIRSZEjYJRTdS9yIRa48botr\n",
       "GZe1dxmUUIoM0VKK7mWkl7nyXublf2rMWRHUJ/gXapQLzDd0JPh2MnUHs4QMpEsoRV7Pl7vy1cU1\n",
       "vcjSuZX4gjGz/3x9jadQqrzfxBHBoEvlRQ07+E/jD3RvLZs7B4suAAAAAElFTkSuQmCC\n",
       "\" style=\"display:inline;vertical-align:middle;\" /></a><br>"
      ],
      "text/plain": [
       "expr: ((A , B , C , D , E , F , G) , S^{7})"
      ]
     },
     "execution_count": 2,
     "metadata": {},
     "output_type": "execute_result"
    }
   ],
   "source": [
    "# build up the expression from sub-expressions\n",
    "expr = ExprTuple([A, B, C, D, E, F, G], Exp(S, seven))"
   ]
  },
  {
   "cell_type": "code",
   "execution_count": 3,
   "metadata": {},
   "outputs": [
    {
     "name": "stdout",
     "output_type": "stream",
     "text": [
      "Passed sanity check: built 'expr' is the same as the stored Expression.\n"
     ]
    }
   ],
   "source": [
    "# check that the built expression is the same as the stored expression\n",
    "%check_expr"
   ]
  },
  {
   "cell_type": "code",
   "execution_count": 4,
   "metadata": {},
   "outputs": [
    {
     "data": {
      "text/html": [
       "<table><tr><th>&nbsp;</th><th>core type</th><th>sub-expressions</th><th>expression</th></tr>\n",
       "<tr><td>0</td><td>ExprTuple</td><td>1, 2</td><td><a class=\"ProveItLink\" href=\"expr.ipynb\"><img src=\"data:image/png;base64,iVBORw0KGgoAAAANSUhEUgAAAOkAAAAcBAMAAAB2RoV6AAAAMFBMVEX///+qqqp2dnYiIiJERESI\n",
       "iIhmZmYQEBDc3NyYmJgyMjLu7u5UVFTMzMy6uroAAACGxKilAAAAAXRSTlMAQObYZgAAA7NJREFU\n",
       "SMfFVk1oE0EU/rLtpknWpDl5KCjx4kEP9mQRPNRTtQgNSPEitFoRFcUeBK2CXQ8Kemn8wYMIFaxC\n",
       "UexeVLSHFlqrlsUGRARRmoN/oLTaP9u0Gt/bmdmdWHNsHNjJe/vem2/mvfdNFijnWNffj/KPsUKh\n",
       "XooT5UN9OfHBMTwpPlg+1CTWSrwnThlTHEkDzSy84OnjSkBEc8teraKnwib09iDL8VplvVFw3UY/\n",
       "6MHOA5nzQtxDhp6sfG+OLblu301N6UzrEUf1LYwceJzDO3YksHArCTGR5dh33+k4WX5L2egAPnVI\n",
       "JQ+EfiivakIM1WtKZUaPiGmovbCagH0kWYtAFZ+oWViuLCqf+Cw9S0K2btGejHlpmKLpmGqFST5a\n",
       "q1JSKqkqIpoKUktiDbCFZZrG+fe0KPXqeeVkkhSdEnKMrYl2aeAEjMs8YhPl2vKVJB0860dQuax2\n",
       "H7WLDK+BBZb3A7t5SVEa01Q5RSX5V4i94FiSdyRPVMlF6FJk6wNSsJXiwI46RRHbfNRJevUeOMNy\n",
       "NzBKP2GRia+hBb9gg4j0iDxG8l7SZAdVcxXHFeoMohl/4WlYGT2CdrM+OOtsNtiBg52cEc/bynE1\n",
       "xRh/2twm1wsv6K3vJbdb1iuRd/vUSZGYQ9j+K6LGjzMLhe3+GlncgewoJBCZU4YWG9ZWIVbM66gt\n",
       "vOUxySnjl9amRt6t+zvicxB44dlP1YNdOWzmtHmrvHPdGeXTwADisNUenSxpaOLphFSIaQbiSln0\n",
       "7gAZYR7uSclWVWOTKsZAUkOl6ZTyWAryWOWhrvErSc2tMkhFjuCBUmrxWEhV3LqG1+z+HcFgmeCs\n",
       "99iNey5ET52iK687lhRM80jcGvAYVfU6XTdqdEUQ4d04foYfMpgdsGgY8kY5K5hgKbpyJ1oKyHCk\n",
       "4RdNjVQgR9GVCSKUnKqEF9HFbLzOrxzZVkf8Hraxi9ekSIu9mhwM1Eq6vrkLoXQnkTgoZabrW/ae\n",
       "lnTFq6ymqIgM4kN8dGaOZ21Lw1QZYr5OcvfWItKQt3G1cAeP6JjhpiV3tJcMrCA+OrJXyg/JMMx3\n",
       "utVJTT5M/wRD01LZXxixtYhDUW72+9IVg9/cHX5bbaAmYOtJrdW+oIRSZEjYJRTdS9yIRa48botr\n",
       "GZe1dxmUUIoM0VKK7mWkl7nyXublf2rMWRHUJ/gXapQLzDd0JPh2MnUHs4QMpEsoRV7Pl7vy1cU1\n",
       "vcjSuZX4gjGz/3x9jadQqrzfxBHBoEvlRQ07+E/jD3RvLZs7B4suAAAAAElFTkSuQmCC\n",
       "\" style=\"display:inline;vertical-align:middle;\" /></a></td></tr>\n",
       "<tr><td>1</td><td>ExprTuple</td><td>3, 4, 5, 6, 7, 8, 9</td><td><a class=\"ProveItLink\" href=\"../47773b05aa47627e3f95ed192aba6f34d24fdf6f0/expr.ipynb\"><img src=\"data:image/png;base64,iVBORw0KGgoAAAANSUhEUgAAALMAAAAVBAMAAAD/f8IzAAAAMFBMVEX////c3NwiIiJERESqqqqY\n",
       "mJh2dnZmZmYQEBDu7u4yMjJUVFTMzMyIiIi6uroAAAAs73DqAAAAAXRSTlMAQObYZgAAArVJREFU\n",
       "OMu1VTuIE1EUvWOcZMfMTAIKC1psGkVBSBp/ICRgK+w0CoJoOrWQRMRPlwUtZIvNKIiL31iIugE3\n",
       "aKFkigTbFAlYbKGy0Uax2biuC9norve+z8zLwnQmMC/3vHvPnffOOy8BGOHH7oyi6xkaWjx+Lyf1\n",
       "xsB780oi48PbK1qRhRYm6kdl4uOG59XXFPDur8qINTF8yWfm/ReOZQBKXQHOO2Bfd3icqABM5mQZ\n",
       "tT2mggNDDKy1uB562pVlbZxp13h8fx8OhaRI5AFifakjLTImwarUwGecxDXyljtKSdl6EaOzeR6/\n",
       "oOx3mcCtmGLbEP2DwyMJVnA4HjBQ3VmAHzzZWZQSwGF89vIXxogC4yKRxUcbCLCtB1HQJOhjeGqI\n",
       "EcnBVb4jd9KRrZG88wgPJyo0PhSJX/iYsnUiAyf840mk4K7KuI0bKcIzNvOYKcw+5uDzwm4RlxzF\n",
       "T0wLfVWgpWr9p59aKsKlTYytFZhhQRcmimLOQsYdcYrppNLaInXj6wIVmlDxU4Xq66lNDHsKWKnp\n",
       "eY2MmItgkfWbxxtsFN6J9MiZogWZNQ9NCVyoBYyFuYPYssdb28iRa0jUgm2X2daavrpoHScQPmlI\n",
       "EZfBEPO32Ca6rPVNivEebJHLaWNRfIXHDVcxLzuNG6qto65ia4UxzwWhO6TlmJn4zsnWdM6u7HZB\n",
       "JnD1Eby7hm/rcQnWfeGIodHd1Ctwjm4QKdkHY1nY2px2OdBx9d+SIoG2Np/j95MUtzWY+xUAgoGn\n",
       "1NoDzHxfAbaXn4KeXSsaZVzwZfylmUNNGIBW9VqOxwYlDpHss2ihB9mB56VTHNzLDsh6PsM5Ta/r\n",
       "wpjiL1v1mh2WgC8hYKgKL7qeD6CucvSQGMAJAUNVF4Mf1f/c2iAv7wrw0P9NJyQGKwyoVXESRxvJ\n",
       "H9gngH+n1Nst3akSxAAAAABJRU5ErkJggg==\n",
       "\" style=\"display:inline;vertical-align:middle;\" /></a></td></tr>\n",
       "<tr><td>2</td><td>Operation</td><td>operator:&nbsp;10<br>operands:&nbsp;11<br></td><td><a class=\"ProveItLink\" href=\"../ab28ea8b69e91244adf9a87ac450ca61dd8113470/expr.ipynb\"><img src=\"data:image/png;base64,iVBORw0KGgoAAAANSUhEUgAAABUAAAAUBAMAAACQZWsAAAAAMFBMVEX///8iIiIQEBCIiIjMzMzc\n",
       "3Nyqqqp2dnZEREQyMjK6urru7u5mZmZUVFSYmJgAAACI6eGPAAAAAXRSTlMAQObYZgAAAItJREFU\n",
       "CNdjYICAst27GWDg/v//DTD2rVUrNsDYCQxZcDUMrAYINi+Y5LtzZt8CBl8wex4Ddz8Dw3GwZAED\n",
       "QyYDgxyIHe/AwODMwPAPxF6fwMDgwsCgBRb/7AA3jPn//1Y4J+7Spw0Ie+ofQGg+IN4PZe8BaQ+A\n",
       "sIHWMJyFqj1owMAM88WFtXf7oEwA7v8j5hv/x0QAAAAASUVORK5CYII=\n",
       "\" style=\"display:inline;vertical-align:middle;\" /></a></td></tr>\n",
       "<tr><td>3</td><td>Variable</td><td></td><td><a class=\"ProveItLink\" href=\"../../../../../__pv_it/2cbe72a7ad6f655694dd697106680215e8489b600/expr.ipynb\"><img src=\"data:image/png;base64,iVBORw0KGgoAAAANSUhEUgAAAA8AAAAOBAMAAAACpFvcAAAALVBMVEX///8QEBBERERUVFS6urqI\n",
       "iIhmZmaqqqrc3Nzu7u6YmJgyMjIiIiLMzMwAAADtIaYWAAAAAXRSTlMAQObYZgAAAFtJREFUCNdj\n",
       "YACBOwxQsA9Kc52bAGG05zVAGAFxDmCaZULdAjBjCsO9ADDDgaEvAUTzGhvbKYCVMDAwbgAxChgY\n",
       "eASANAeQwf0AyJgNxEwvGRia5HYwcOm9TgAA6BoR3jrzwFcAAAAASUVORK5CYII=\n",
       "\" style=\"display:inline;vertical-align:middle;\" /></a></td></tr>\n",
       "<tr><td>4</td><td>Variable</td><td></td><td><a class=\"ProveItLink\" href=\"../../../../../__pv_it/077b2ff79244fb4582cbe22c6e3356fa92a52f2f0/expr.ipynb\"><img src=\"data:image/png;base64,iVBORw0KGgoAAAANSUhEUgAAABAAAAAOBAMAAADUAYG5AAAAMFBMVEX///+qqqru7u4iIiJ2dnbc\n",
       "3NyIiIjMzMxmZmYQEBC6uroyMjJERERUVFSYmJgAAADLUcuvAAAAAXRSTlMAQObYZgAAAGpJREFU\n",
       "CNdjYGB4+//u3dMLGIBgDgMDxy8gzf4NiP8CGWxfGRj4vgAZPBMYGJgnARn8FxhY9ygAGfXX0pof\n",
       "gDTlBzAw2YIYJ0EckBBI53sHoBH/gIz7AhBjWH9DjancBLTl/N+7t/cxMAAA3u4f/5xagjYAAAAA\n",
       "SUVORK5CYII=\n",
       "\" style=\"display:inline;vertical-align:middle;\" /></a></td></tr>\n",
       "<tr><td>5</td><td>Variable</td><td></td><td><a class=\"ProveItLink\" href=\"../../../../../__pv_it/985a1bdf1540838275dec15f4ad6de261cca93ce0/expr.ipynb\"><img src=\"data:image/png;base64,iVBORw0KGgoAAAANSUhEUgAAAA8AAAAOBAMAAAACpFvcAAAAMFBMVEX////MzMyqqqoiIiIyMjK6\n",
       "uroQEBB2dnbc3NyYmJhmZmZUVFRERESIiIju7u4AAAB204erAAAAAXRSTlMAQObYZgAAAGZJREFU\n",
       "CNdjYGDgu7NrJccCBgaGsgkMrMsmMDA8sQNy6hsYGNweABlhDAxcn4A0QxcDQ78DiPGQgWH9BAYI\n",
       "sG+AMv6DSaCGfBDNJMDAsB+kmwuI5S8AiTog5gSaEwXWIO29SgFIAQBC+RaDQlidVgAAAABJRU5E\n",
       "rkJggg==\n",
       "\" style=\"display:inline;vertical-align:middle;\" /></a></td></tr>\n",
       "<tr><td>6</td><td>Variable</td><td></td><td><a class=\"ProveItLink\" href=\"../../../../../__pv_it/185e6d30f167ee2ee5ef3321098dc98e0d77bc590/expr.ipynb\"><img src=\"data:image/png;base64,iVBORw0KGgoAAAANSUhEUgAAABEAAAAOBAMAAAA7w+qHAAAALVBMVEX///8QEBCYmJjc3Ny6urru\n",
       "7u5mZmZ2dnaqqqrMzMxEREQyMjJUVFSIiIgAAABETr/8AAAAAXRSTlMAQObYZgAAAGpJREFUCNdj\n",
       "YGC48+7MmV0TGEDgNQMDxwsQg/M5kMgLABK8T4DEvAtAgusBkLA7ACT4FoDEDsAk9AqAxD2QCecc\n",
       "gMQ6kAGCIOIVEDM9Ahn3FkgwgnTxvgQSqwOgxs1OADLC1r05cyoTyAAAv4Qe+njAWvgAAAAASUVO\n",
       "RK5CYII=\n",
       "\" style=\"display:inline;vertical-align:middle;\" /></a></td></tr>\n",
       "<tr><td>7</td><td>Variable</td><td></td><td><a class=\"ProveItLink\" href=\"../../../../../__pv_it/9995c55100c62d7d8a012a35bafc852acbe03cf00/expr.ipynb\"><img src=\"data:image/png;base64,iVBORw0KGgoAAAANSUhEUgAAABAAAAAOBAMAAADUAYG5AAAALVBMVEX///8iIiKYmJjc3Nzu7u7M\n",
       "zMx2dnZmZma6urpERESqqqoyMjJUVFSIiIgAAACbLqVTAAAAAXRSTlMAQObYZgAAAGVJREFUCNdj\n",
       "YGC48+7MmdOvGYAARKwEYo63QIIdiNmeAglfIOZ+wMDGwAxk8E1gUAIpZejbc/oxmJEXwLABzNjH\n",
       "wJDAEABkvGRgMGC5ADWGzQFqjDnEGAZWUQYGn3lvzpyRE2AAAIznGVQJqiN4AAAAAElFTkSuQmCC\n",
       "\" style=\"display:inline;vertical-align:middle;\" /></a></td></tr>\n",
       "<tr><td>8</td><td>Variable</td><td></td><td><a class=\"ProveItLink\" href=\"../../../../../__pv_it/6d1586c49fb5fd7602fde2bbc54560e7304e8ccf0/expr.ipynb\"><img src=\"data:image/png;base64,iVBORw0KGgoAAAANSUhEUgAAABAAAAAOBAMAAADUAYG5AAAAMFBMVEX///9mZmYiIiLc3Nzu7u7M\n",
       "zMyqqqp2dna6urqYmJhEREQyMjIQEBBUVFSIiIgAAABBzvKsAAAAAXRSTlMAQObYZgAAAFxJREFU\n",
       "CNdjYGB4+//u3Tv/GIDgNxCvBGKO70BiBhCzfwMSqUDM/YWBmWEKkMGvwOAJUsrQL8AgDGbU7710\n",
       "AMzY78BwAcz4xMAygQFmDAiw/4AyuD9AaMf1f8GaAdy+F/r2qjhkAAAAAElFTkSuQmCC\n",
       "\" style=\"display:inline;vertical-align:middle;\" /></a></td></tr>\n",
       "<tr><td>9</td><td>Variable</td><td></td><td><a class=\"ProveItLink\" href=\"../../../../../__pv_it/994260d00d104a1ab9cf940a007fb6a4ff36f79e0/expr.ipynb\"><img src=\"data:image/png;base64,iVBORw0KGgoAAAANSUhEUgAAAA8AAAAOBAMAAAACpFvcAAAAMFBMVEX///+qqqrMzMwiIiIyMjK6\n",
       "uroQEBB2dnbc3NyYmJhmZmZUVFRERESIiIju7u4AAACtjd3MAAAAAXRSTlMAQObYZgAAAG5JREFU\n",
       "CNdjYGDgu7NrJccCBgaGsgkMrMsmMDA8sQNy6hsYGNweABnKDAxcH4E0QxcDQ78DiPGCgWH9BAYI\n",
       "sG+AMv4D8S2X4wwMaSBefQADw36Qbn8g1r/AwMDxBcjg/MnAoG0Oktf2XjVhEgMDAJHQGYM57+uu\n",
       "AAAAAElFTkSuQmCC\n",
       "\" style=\"display:inline;vertical-align:middle;\" /></a></td></tr>\n",
       "<tr><td>10</td><td>Literal</td><td></td><td><a class=\"ProveItLink\" href=\"../../../../../number/exponentiation/__pv_it/deb2bf23cbccdd6e6791e1b35b5b9794ce12dbd50/expr.ipynb\"><img src=\"data:image/png;base64,iVBORw0KGgoAAAANSUhEUgAAACgAAAASBAMAAADbMYGVAAAAMFBMVEX///8QEBAiIiKYmJjc3Nzu\n",
       "7u7MzMx2dnZmZma6urpERESqqqoyMjJUVFSIiIgAAAAoDOMTAAAAAXRSTlMAQObYZgAAAOBJREFU\n",
       "GNNjYGB4+//u3Tt/GNAASGAXmhjnPyDBgSbI/g1IxKEJ8nxgYGdgQRPkX8BgDKRY6q7s62OYvmze\n",
       "2wAgb/7ZO1+AVDiDkYEQQ0HTBr4DQF59AgOIKmB4z7CNbcNZBu6vQN55kEACQwDDLQYGVobfDHwg\n",
       "fb8YGBxYHwAZciD3fWXg+gB1JjvQcJZvQIXsCgz8F6DO9GBgMOH7wPCUgaeBwd4B7EwGNjUG7s9c\n",
       "AiwPgO5jkWRgiF3/9+5dfQUG1nWl5Y+B7pv+1gE9bBhqGLCAE1jEWH9jEbT5A3IwAC4sP/1L6Qlu\n",
       "AAAAAElFTkSuQmCC\n",
       "\" style=\"display:inline;vertical-align:middle;\" /></a></td></tr>\n",
       "<tr><td>11</td><td>ExprTuple</td><td>12, 13</td><td><a class=\"ProveItLink\" href=\"../000949ba9c026906c54003a2630caa0c0c7c82590/expr.ipynb\"><img src=\"data:image/png;base64,iVBORw0KGgoAAAANSUhEUgAAAC0AAAAVBAMAAAAgHXppAAAAMFBMVEX////c3NwiIiJERESqqqqY\n",
       "mJh2dnZmZmYQEBDu7u4yMjJUVFTMzMyIiIi6uroAAAAs73DqAAAAAXRSTlMAQObYZgAAARVJREFU\n",
       "GNNjYMAF+C5gCMWBiNMggnV7+dQHIMahsrS0BPYDQNZKEHcpA6c9WGn8////NzAsYGDgBRnDncDA\n",
       "4AUWzwRyGBjCGBg4JgB58kCNZ8HiQAU5DAwzGBhegXjvHRgYziC5g9mBoQzElv97AO6YyUDMVgC0\n",
       "EQh4//83hImXADHLAoY+MEd0x48JEGHODyCzGhj+QZXlB0BoXqAbGXg+gMVZgXg+VJxpA0S8BUhN\n",
       "B1ktABGfXwAxx5QB4qVqBk6w+HuQOOsChnQgVXSBgdeAYb4CSNy/AOLOR0Bqw+vdQG0zPoLEz4Ps\n",
       "4XrAwCEA99FDOAsYDqwJcF4AnJULC2dUcU6QH6RhPF64Am6Q2YyY8XiHgQEAoQlB99JOHRgAAAAA\n",
       "SUVORK5CYII=\n",
       "\" style=\"display:inline;vertical-align:middle;\" /></a></td></tr>\n",
       "<tr><td>12</td><td>Variable</td><td></td><td><a class=\"ProveItLink\" href=\"../../../../../__pv_it/abeee18594afe51bfb1be95d9591fbba24ac53f30/expr.ipynb\"><img src=\"data:image/png;base64,iVBORw0KGgoAAAANSUhEUgAAAA0AAAAOBAMAAAAGUYvhAAAAMFBMVEX///8iIiIQEBCIiIjMzMzc\n",
       "3Nyqqqp2dnZEREQyMjK6urru7u5mZmZUVFSYmJgAAACI6eGPAAAAAXRSTlMAQObYZgAAAF1JREFU\n",
       "CNdjYGDgu3Nm3wIGBoZ5DNz9QIq3gIEhE0jHOzAwOAPp9QkMDC4g/megABAw///fCmbEXfq0Acxg\n",
       "qH8ANAVI7wfSe0BKAyBGnAXigwYMzA1A+sLau31ACgAz0hhbkhGHbwAAAABJRU5ErkJggg==\n",
       "\" style=\"display:inline;vertical-align:middle;\" /></a></td></tr>\n",
       "<tr><td>13</td><td>Literal</td><td></td><td><a class=\"ProveItLink\" href=\"../../../../../number/numeral/__pv_it/44c347496acc279b31e97f8859fc6a0a1e31c26b0/expr.ipynb\"><img src=\"data:image/png;base64,iVBORw0KGgoAAAANSUhEUgAAAAoAAAAOBAMAAADkjZCYAAAAKlBMVEX///8yMjKqqqpERESIiIi6\n",
       "urru7u5UVFSYmJh2dnZmZmYiIiLMzMwAAACZcOxaAAAAAXRSTlMAQObYZgAAAEVJREFUCNdjOL1y\n",
       "5swJDL13794tYJjGwMDOwDCBgWEOAxCwOoDIZBDBsAhEsF0AkSwCIJK7AETmLgCRsWBSF0yebWBg\n",
       "AAAo0Q9n+lHhAQAAAABJRU5ErkJggg==\n",
       "\" style=\"display:inline;vertical-align:middle;\" /></a></td></tr>\n",
       "</table>\n"
      ],
      "text/plain": [
       "0. ((A , B , C , D , E , F , G) , S^{7})\n",
       "   core type: ExprTuple\n",
       "   sub-expressions: 1, 2\n",
       "1. (A , B , C , D , E , F , G)\n",
       "   core type: ExprTuple\n",
       "   sub-expressions: 3, 4, 5, 6, 7, 8, 9\n",
       "2. S^{7}\n",
       "   core type: Operation\n",
       "   operator: 10\n",
       "   operands: 11\n",
       "3. A\n",
       "   core type: Variable\n",
       "   sub-expressions: \n",
       "4. B\n",
       "   core type: Variable\n",
       "   sub-expressions: \n",
       "5. C\n",
       "   core type: Variable\n",
       "   sub-expressions: \n",
       "6. D\n",
       "   core type: Variable\n",
       "   sub-expressions: \n",
       "7. E\n",
       "   core type: Variable\n",
       "   sub-expressions: \n",
       "8. F\n",
       "   core type: Variable\n",
       "   sub-expressions: \n",
       "9. G\n",
       "   core type: Variable\n",
       "   sub-expressions: \n",
       "10. Exp\n",
       "    core type: Literal\n",
       "    sub-expressions: \n",
       "11. (S , 7)\n",
       "    core type: ExprTuple\n",
       "    sub-expressions: 12, 13\n",
       "12. S\n",
       "    core type: Variable\n",
       "    sub-expressions: \n",
       "13. 7\n",
       "    core type: Literal\n",
       "    sub-expressions: "
      ]
     },
     "execution_count": 4,
     "metadata": {},
     "output_type": "execute_result"
    }
   ],
   "source": [
    "# display the expression information\n",
    "expr.exprInfo()"
   ]
  },
  {
   "cell_type": "code",
   "execution_count": null,
   "metadata": {},
   "outputs": [],
   "source": []
  }
 ],
 "metadata": {
  "kernelspec": {
   "display_name": "Python 3",
   "language": "python",
   "name": "python3"
  }
 },
 "nbformat": 4,
 "nbformat_minor": 0
}
