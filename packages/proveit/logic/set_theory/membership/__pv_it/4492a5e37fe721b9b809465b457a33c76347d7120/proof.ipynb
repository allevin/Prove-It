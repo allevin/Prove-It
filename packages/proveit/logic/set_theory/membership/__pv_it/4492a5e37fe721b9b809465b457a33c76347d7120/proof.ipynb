{
 "cells": [
  {
   "cell_type": "markdown",
   "metadata": {},
   "source": [
    "Show the Proof\n",
    "========"
   ]
  },
  {
   "cell_type": "code",
   "execution_count": 1,
   "metadata": {},
   "outputs": [
    {
     "data": {
      "text/html": [
       "<table><tr><th>&nbsp;</th><th>step type</th><th>requirements</th><th>statement</th></tr>\n",
       "<tr><td>0</td><td>assumption</td><td></td><td><span style=\"font-size:20px;\"><a class=\"ProveItLink\" href=\"../dc414dcc0c9a8344f7ec9d92c0b1ab39d4a214bb0/expr.ipynb\"><img src=\"data:image/png;base64,iVBORw0KGgoAAAANSUhEUgAAAEsAAAAVBAMAAAD85A5eAAAAMFBMVEX////c3NxERESqqqpUVFS6\n",
       "urrMzMwyMjIQEBCIiIh2dnYiIiLu7u5mZmaYmJgAAABXZE4RAAAAAXRSTlMAQObYZgAAAVhJREFU\n",
       "KM9jYGDgu8eAD7CtEgBRPLsY8AO2ZhDJ+QFETvnv4uL+HV3Fk7t3njIwXAcxuRrAIiAlRmiq2B8w\n",
       "HAIasgKhjPUnkOBFU+bFwMBcgKKM6xuQOAmWPFm9ezuYwQgUY5uAooz9AwMXAyPYxXUHoIaxfgby\n",
       "ElCU8SswvINICsFUMTD+nwamwcp4C0BkfIn7R4ikIsJt8/9/AoXZexA7IwBErk9gACtn4FFAKGN8\n",
       "0t8DctAFBoaUNrBIPQPDAoYEkIO6d++GegHkon8gUv0BA0MESJLhEwODAM8EkA8c4IYBJXlAyrgX\n",
       "AAmWAliwcYEcz7MBpooHaBfjR5jbuDbAgk0WLOsHUwYKWV4HBuQAAQYbA9s2sOzpAKgy3p0MDJMY\n",
       "kJUd0f/i4rIfYh1jbQJEGQuri9MDFGUogNkd4VMG3MowAFgZH0Fl4PTGs5NQ6m0FU3yLCecFADeW\n",
       "WzCMRScaAAAAAElFTkSuQmCC\n",
       "\" style=\"display:inline;vertical-align:middle;\" /></a> <a class=\"ProveItLink\" href=\"proof.ipynb\" style=\"text-decoration: none\">&#x22A2;&nbsp;</a><a class=\"ProveItLink\" href=\"../f3e59475bdd429cedf0c729efd9d1cc1127c8a0f0/expr.ipynb\"><img src=\"data:image/png;base64,iVBORw0KGgoAAAANSUhEUgAAADgAAAAPBAMAAABD1xE4AAAAMFBMVEX///8QEBAiIiKYmJjc3Nzu\n",
       "7u7MzMx2dnZmZma6urpERESqqqoyMjJUVFSIiIgAAAAoDOMTAAAAAXRSTlMAQObYZgAAAPJJREFU\n",
       "GNNjYGB4+//u3Tt/GNCAbUerJYgGSexCk+MxYIj6AKQ5/wEJDjTJ6wwM3AeANPs3IBEHFoo7pKQD\n",
       "ZrAAxdgegEz4wMDOwAISYjscANXI+RvISwAy+BcwGEOEvGByDCz/n0EY88/e+QJhLUHY+f7/LwcQ\n",
       "XZ/AcAAswLoAIcliKy8Kos8zMBQwgMznFFJSgjoI5M7PIPIXA4MDK8hlbBfgGg2A5nyGeZMd5BRW\n",
       "BZgcawPQ4C8wb3qAxS7DJEH+57gA8SYDmxpYLGgCVJJDj4HhFZCOXf/37l19iIEsJxIgkrycd28Z\n",
       "oEcF9x2Ea4EAAJ5RPAAo1A5YAAAAAElFTkSuQmCC\n",
       "\" style=\"display:inline;vertical-align:middle;\" /></a></span></td></tr>\n",
       "</table>"
      ],
      "text/plain": [
       "<proveit._core_.proof._ShowProof at 0x7f94e4dab470>"
      ]
     },
     "execution_count": 1,
     "metadata": {},
     "output_type": "execute_result"
    }
   ],
   "source": [
    "import proveit\n",
    "%show_proof"
   ]
  },
  {
   "cell_type": "code",
   "execution_count": null,
   "metadata": {},
   "outputs": [],
   "source": []
  }
 ],
 "metadata": {
  "kernelspec": {
   "display_name": "Python 3",
   "language": "python",
   "name": "python3"
  }
 },
 "nbformat": 4,
 "nbformat_minor": 0
}
