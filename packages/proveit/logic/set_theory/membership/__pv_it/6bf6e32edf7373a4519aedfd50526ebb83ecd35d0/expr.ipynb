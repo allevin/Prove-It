{
 "cells": [
  {
   "cell_type": "markdown",
   "metadata": {},
   "source": [
    "Expression of type <a class=\"ProveItLink\" href=\"../../../../../../../doc/html/api/proveit.ExprTuple.html\">ExprTuple</a>\n",
    "=======================\n",
    "# from context <a class=\"ProveItLink\" href=\"../../_context_.ipynb\">proveit.logic.set_theory.membership</a>"
   ]
  },
  {
   "cell_type": "code",
   "execution_count": 1,
   "metadata": {},
   "outputs": [],
   "source": [
    "# import Expression classes needed to build the expression\n",
    "from proveit import ExprTuple\n",
    "from proveit._common_ import x\n",
    "from proveit.logic import Booleans, InSet\n",
    "from proveit.number import Naturals"
   ]
  },
  {
   "cell_type": "code",
   "execution_count": 2,
   "metadata": {},
   "outputs": [
    {
     "data": {
      "text/html": [
       "<strong id=\"expr\">expr:</strong> <a class=\"ProveItLink\" href=\"expr.ipynb\"><img src=\"data:image/png;base64,iVBORw0KGgoAAAANSUhEUgAAAFgAAAAVBAMAAAAwfTS1AAAAMFBMVEX////c3NwiIiJERESqqqqY\n",
       "mJh2dnZmZmYQEBDu7u4yMjJUVFTMzMyIiIi6uroAAAAs73DqAAAAAXRSTlMAQObYZgAAAZVJREFU\n",
       "KM9jYCAJ8F0gTh3rAyBxGosE53rjlQzs+ipgTtbn9SuUHRgYaoDsldiMYQ44zMDAD+UYvOVcmcbA\n",
       "wMXAwIvVFdw6QHEOuGKGe0CVrAkMHBOQFc1dpKQFVvxqwh5kxa7cExg4GxheIavlWQrVyn1mw6wJ\n",
       "yCYLA2kThjIgKXZb5DrYNcIwa7gP+PIYIBTzqFoC6XSGpUC/J7CqciiAhA3hbj7A/iAWrviR/g+Q\n",
       "WV4MfQwMbAy8H1gOgELMAKGYYSf3CYQz7joD6RcM/4BqGLghqvialJSgHjzAMJtzBUIxM18CA8N5\n",
       "kGIGBg5I+PFsQDKZJwHJZGYGA5DiFhBX/gADyGucCkiKGUKY0RS/YDAFhrbAfQZecDhsRVbMBgyu\n",
       "CcjOiAKGB4N/gAWDLFjNpAew6AYxqhg4P0EVh18GB90jBobJ16blBoDVMC4/APHp+mYgOYuBs18A\n",
       "nJCMuoEJiWEdA4cAchSy7IKEBjz9IskCoxuYPPAlYiQ22wUcSRSb4llALI1PMXL63QjyFJHZivcA\n",
       "AwAK/GgcLqiXGQAAAABJRU5ErkJggg==\n",
       "\" style=\"display:inline;vertical-align:middle;\" /></a><br>"
      ],
      "text/plain": [
       "expr: (x in Naturals , BOOLEANS)"
      ]
     },
     "execution_count": 2,
     "metadata": {},
     "output_type": "execute_result"
    }
   ],
   "source": [
    "# build up the expression from sub-expressions\n",
    "expr = ExprTuple(InSet(x, Naturals), Booleans)"
   ]
  },
  {
   "cell_type": "code",
   "execution_count": 3,
   "metadata": {},
   "outputs": [
    {
     "name": "stdout",
     "output_type": "stream",
     "text": [
      "Passed sanity check: built 'expr' is the same as the stored Expression.\n"
     ]
    }
   ],
   "source": [
    "# check that the built expression is the same as the stored expression\n",
    "%check_expr"
   ]
  },
  {
   "cell_type": "code",
   "execution_count": 4,
   "metadata": {},
   "outputs": [
    {
     "data": {
      "text/html": [
       "<table><tr><th>&nbsp;</th><th>core type</th><th>sub-expressions</th><th>expression</th></tr>\n",
       "<tr><td>0</td><td>ExprTuple</td><td>1, 2</td><td><a class=\"ProveItLink\" href=\"expr.ipynb\"><img src=\"data:image/png;base64,iVBORw0KGgoAAAANSUhEUgAAAFgAAAAVBAMAAAAwfTS1AAAAMFBMVEX////c3NwiIiJERESqqqqY\n",
       "mJh2dnZmZmYQEBDu7u4yMjJUVFTMzMyIiIi6uroAAAAs73DqAAAAAXRSTlMAQObYZgAAAZVJREFU\n",
       "KM9jYCAJ8F0gTh3rAyBxGosE53rjlQzs+ipgTtbn9SuUHRgYaoDsldiMYQ44zMDAD+UYvOVcmcbA\n",
       "wMXAwIvVFdw6QHEOuGKGe0CVrAkMHBOQFc1dpKQFVvxqwh5kxa7cExg4GxheIavlWQrVyn1mw6wJ\n",
       "yCYLA2kThjIgKXZb5DrYNcIwa7gP+PIYIBTzqFoC6XSGpUC/J7CqciiAhA3hbj7A/iAWrviR/g+Q\n",
       "WV4MfQwMbAy8H1gOgELMAKGYYSf3CYQz7joD6RcM/4BqGLghqvialJSgHjzAMJtzBUIxM18CA8N5\n",
       "kGIGBg5I+PFsQDKZJwHJZGYGA5DiFhBX/gADyGucCkiKGUKY0RS/YDAFhrbAfQZecDhsRVbMBgyu\n",
       "CcjOiAKGB4N/gAWDLFjNpAew6AYxqhg4P0EVh18GB90jBobJ16blBoDVMC4/APHp+mYgOYuBs18A\n",
       "nJCMuoEJiWEdA4cAchSy7IKEBjz9IskCoxuYPPAlYiQ22wUcSRSb4llALI1PMXL63QjyFJHZivcA\n",
       "AwAK/GgcLqiXGQAAAABJRU5ErkJggg==\n",
       "\" style=\"display:inline;vertical-align:middle;\" /></a></td></tr>\n",
       "<tr><td>1</td><td>Operation</td><td>operator:&nbsp;3<br>operands:&nbsp;4<br></td><td><a class=\"ProveItLink\" href=\"../8c420f4c86697c341792df886bb5b07d10ea11420/expr.ipynb\"><img src=\"data:image/png;base64,iVBORw0KGgoAAAANSUhEUgAAADQAAAAPBAMAAABZ6/G2AAAAMFBMVEX///+6uroyMjJERETMzMwQ\n",
       "EBAiIiKYmJju7u5mZmaqqqpUVFSIiIh2dnbc3NwAAAAWgogoAAAAAXRSTlMAQObYZgAAANNJREFU\n",
       "GNNjYMAAHPrGGgyc+VkMWABzgTMDAz82GQbuFJ4DDKwoBh1KS1MASwk1bEGVcqqA6XLZ0NQAknp7\n",
       "+tXJA0CazwJuoMMaFgOgFMcF9nTWBJDlDxBSnAI1QCleBp4PXA5AgWaEMxwYdnC7AnUxcBuABUTT\n",
       "0mDOcGDo5lAFsVgPgKW8kXWxXHAFsd47MDQAqTZkKYYqZgYG9gfnGXhAUtwFyFK8jxkY1heYMrwB\n",
       "+zgRHlACQGIS0GFne+9A1D+aApFh1A8Gkk0oYbdaDeJCKAAAWl0sSNBtrqUAAAAASUVORK5CYII=\n",
       "\" style=\"display:inline;vertical-align:middle;\" /></a></td></tr>\n",
       "<tr><td>2</td><td>Literal</td><td></td><td><a class=\"ProveItLink\" href=\"../../../../boolean/__pv_it/46271c8230be96415d662709611f4ed2279d702b0/expr.ipynb\"><img src=\"data:image/png;base64,iVBORw0KGgoAAAANSUhEUgAAAA0AAAAOBAMAAAAGUYvhAAAAMFBMVEX///9mZmbMzMzc3NxUVFSY\n",
       "mJju7u6IiIi6urqqqqoiIiIQEBBEREQyMjJ2dnYAAAAQvcRZAAAAAXRSTlMAQObYZgAAAElJREFU\n",
       "CNdjePvn/u01ExgYGA60s117B6YZKngh9FSWBAjfBsxnWnoMRHet/10AkS+fA6F5OB5AaIYDqDRU\n",
       "PLCGgQFoz6ktExgAgLIl8DFvGtkAAAAASUVORK5CYII=\n",
       "\" style=\"display:inline;vertical-align:middle;\" /></a></td></tr>\n",
       "<tr><td>3</td><td>Literal</td><td></td><td><a class=\"ProveItLink\" href=\"../088cbc857536a28d4119ad9639a84270ccb0545d0/expr.ipynb\"><img src=\"data:image/png;base64,iVBORw0KGgoAAAANSUhEUgAAAAwAAAAMBAMAAACkW0HUAAAALVBMVEX///+qqqpmZmZUVFQQEBC6\n",
       "urpERETc3NyYmJjMzMwiIiIyMjKIiIju7u4AAACYsrA9AAAAAXRSTlMAQObYZgAAADxJREFUCNdj\n",
       "YOA9vWrVBgaG2b0MQMCeCyIZ2ArA1DUwyRCyahVIyWQI7xaEYm4AU7xLIdxqTQgtvGvVBgCkcQ7e\n",
       "geM/tQAAAABJRU5ErkJggg==\n",
       "\" style=\"display:inline;vertical-align:middle;\" /></a></td></tr>\n",
       "<tr><td>4</td><td>ExprTuple</td><td>5, 6</td><td><a class=\"ProveItLink\" href=\"../7da8dca77d6801aa41168f9f03f72df68ec9f02e0/expr.ipynb\"><img src=\"data:image/png;base64,iVBORw0KGgoAAAANSUhEUgAAADAAAAAVBAMAAADyTXAxAAAAMFBMVEX////c3NwiIiJERESqqqqY\n",
       "mJh2dnZmZmYQEBDu7u4yMjJUVFTMzMyIiIi6uroAAAAs73DqAAAAAXRSTlMAQObYZgAAARxJREFU\n",
       "KM9jYMAJ+C5girE+ABKnkQQ41xuvZGDXV2GoAXJWIitlDjjMwMDPwMDFwMCLYhK3DpDPATQrgYFj\n",
       "AorEqwl7QBKcDQyvUGzlPrNh1gSgBIMJQxmQFLstch1iIvcBXx4DkEQ6w1KgvgRWVQ4FqAT7g1iQ\n",
       "hBdDHwMDGwPvB5YDUAmGndwngIwXDP+AOhi4DWB2HGCYzbkCyDgPkmBg4LiAkOBJOAGWaAHx5Q8w\n",
       "TIBJMIQwg40yBfpG4D4D7wSwFEiCTRjIiAK6i8E/wIJBloHzEyhIQKFXBXbuIwaGydem5QYwcPYL\n",
       "MPCtbwYKzgLidQwcAvDwF0AK5gZQcMEiASlo2C4gBTuyBMg0aRgHOfw3AjEjlqjlPcAAAA39QHDb\n",
       "h8r+AAAAAElFTkSuQmCC\n",
       "\" style=\"display:inline;vertical-align:middle;\" /></a></td></tr>\n",
       "<tr><td>5</td><td>Variable</td><td></td><td><a class=\"ProveItLink\" href=\"../../../../../__pv_it/530be409e3083890784cf1d7b28c9e67e90af9360/expr.ipynb\"><img src=\"data:image/png;base64,iVBORw0KGgoAAAANSUhEUgAAAAsAAAAJBAMAAAAWSsseAAAAKlBMVEX///9ERETMzMwQEBAiIiKY\n",
       "mJju7u5mZmaqqqpUVFSIiIh2dnbc3NwAAAA/vyDhAAAAAXRSTlMAQObYZgAAAENJREFUCNdjYDi9\n",
       "8sTyBQxsG1hdmR0YuBm4LnAoMLAxcAowgADzAjB1VoEhgYH1wFoGrgSG3gBhhlMMDImrs3cFMAAA\n",
       "t0YN+iTRa+sAAAAASUVORK5CYII=\n",
       "\" style=\"display:inline;vertical-align:middle;\" /></a></td></tr>\n",
       "<tr><td>6</td><td>Literal</td><td></td><td><a class=\"ProveItLink\" href=\"../../../../../number/sets/integer/__pv_it/e5d9bd86b06b357eee742ad868997123619e09700/expr.ipynb\"><img src=\"data:image/png;base64,iVBORw0KGgoAAAANSUhEUgAAAA8AAAAOBAMAAAACpFvcAAAAMFBMVEX////c3Nx2dna6uroQEBCI\n",
       "iIhUVFTMzMyYmJiqqqoiIiJmZmZEREQyMjLu7u4AAADjlg78AAAAAXRSTlMAQObYZgAAAGBJREFU\n",
       "CNdjePvn7AOGXb8mMDCcYD/AwPCBgYEhqyCUgcEByEi+x1YAZqSX8d2DMDgDaiAMhs0cARAG24N0\n",
       "CIMv4S2EwVDEDmVwTDgAYTAoghiHgZj7AgOD7Rcgj+8CAwA9oh2B0HK+MAAAAABJRU5ErkJggg==\n",
       "\" style=\"display:inline;vertical-align:middle;\" /></a></td></tr>\n",
       "</table>\n"
      ],
      "text/plain": [
       "0. (x in Naturals , BOOLEANS)\n",
       "   core type: ExprTuple\n",
       "   sub-expressions: 1, 2\n",
       "1. x in Naturals\n",
       "   core type: Operation\n",
       "   operator: 3\n",
       "   operands: 4\n",
       "2. BOOLEANS\n",
       "   core type: Literal\n",
       "   sub-expressions: \n",
       "3. in\n",
       "   core type: Literal\n",
       "   sub-expressions: \n",
       "4. (x , Naturals)\n",
       "   core type: ExprTuple\n",
       "   sub-expressions: 5, 6\n",
       "5. x\n",
       "   core type: Variable\n",
       "   sub-expressions: \n",
       "6. Naturals\n",
       "   core type: Literal\n",
       "   sub-expressions: "
      ]
     },
     "execution_count": 4,
     "metadata": {},
     "output_type": "execute_result"
    }
   ],
   "source": [
    "# display the expression information\n",
    "expr.exprInfo()"
   ]
  },
  {
   "cell_type": "code",
   "execution_count": null,
   "metadata": {},
   "outputs": [],
   "source": []
  }
 ],
 "metadata": {
  "kernelspec": {
   "display_name": "Python 3",
   "language": "python",
   "name": "python3"
  }
 },
 "nbformat": 4,
 "nbformat_minor": 0
}
