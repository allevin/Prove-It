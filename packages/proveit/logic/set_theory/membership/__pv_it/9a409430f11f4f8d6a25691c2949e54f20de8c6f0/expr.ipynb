{
 "cells": [
  {
   "cell_type": "markdown",
   "metadata": {},
   "source": [
    "Expression of type <a class=\"ProveItLink\" href=\"../../../../../../../doc/html/api/proveit.ExprTuple.html\">ExprTuple</a>\n",
    "=======================\n",
    "# from context <a class=\"ProveItLink\" href=\"../../_context_.ipynb\">proveit.logic.set_theory.membership</a>"
   ]
  },
  {
   "cell_type": "code",
   "execution_count": 1,
   "metadata": {},
   "outputs": [],
   "source": [
    "# import Expression classes needed to build the expression\n",
    "from proveit import ExprTuple\n",
    "from proveit._common_ import A, B, C, S\n",
    "from proveit.logic import InSet"
   ]
  },
  {
   "cell_type": "code",
   "execution_count": 2,
   "metadata": {},
   "outputs": [
    {
     "data": {
      "text/html": [
       "<strong id=\"expr\">expr:</strong> <a class=\"ProveItLink\" href=\"expr.ipynb\"><img src=\"data:image/png;base64,iVBORw0KGgoAAAANSUhEUgAAAMMAAAAVBAMAAAAJNkerAAAAMFBMVEX////c3NwiIiJERESqqqqY\n",
       "mJh2dnZmZmYQEBDu7u4yMjJUVFTMzMyIiIi6uroAAAAs73DqAAAAAXRSTlMAQObYZgAAAkJJREFU\n",
       "SMe9lU1oE0EUx/+xGdNtNqugIrSHSEBQL42Hgp6asxd78qi5tT2IRdEKHhLEk4dmKYhF/IhC8Qs0\n",
       "IFLpHhJ6rZKABy9KgxdFD1apogaN783MJpLMNHiICzu83d/befPe+88s8B8ur9bP2Y/zsKrslS4q\n",
       "lmav1JVVbgRPHtk5nJdLZyMzJh6rkHVfvXjcFWIRzrg2B9NArm7nUxPwzk8YeRFIqDqJUb/DI54F\n",
       "jmi7Sk7VkpVf20/Dqe1GfowWqKbemdMeN+6kDkgjSSm+0O5rBE9krfwez/He/P0C8EGR2pqqg7sY\n",
       "ZvMpAzzX9iG69/k2Htvgcbf5+4EMzilZ+UdVKXe06pX8VWkl3QCGD1t5ssjjdTPfOkNN4eumLDdd\n",
       "B1vTJprN8MFtvHm1F1ae+6vRXTxaxJx8riMpNeek2967nn3XS0p8BuZLVj7abnQ39/L4LZcZBGUJ\n",
       "vYuplG4Xi0QvbyBPYb5aeVOOvpm76yqER8qSBXVbyhR039IhttFb8c3KCzxEK2ZOIS7xMzV/S14m\n",
       "uid0ucod0xWokmt8w8rLnEAMZk6FGiMzQiGG1iV5Grrwrrqg0+dtoWRj5FIp0zByiCImeXdyvX9I\n",
       "Mh8eE6drSKThfNHbwr3sW7mgBN/phDu4FO1b0nLhNsT4TympyF2t9tLHgBJ0CvTpmWYQPNBtMXGs\n",
       "PpzNwMipOnUMdhwt0eW2IlgIHfhfOR8gIrvpeS96/A96cZxsH+Z9CuGwSkY2den1S+zF41zISF9/\n",
       "rK+BP71exgmWcypEAAAAAElFTkSuQmCC\n",
       "\" style=\"display:inline;vertical-align:middle;\" /></a><br>"
      ],
      "text/plain": [
       "expr: (A in S , B in S , C in S)"
      ]
     },
     "execution_count": 2,
     "metadata": {},
     "output_type": "execute_result"
    }
   ],
   "source": [
    "# build up the expression from sub-expressions\n",
    "expr = ExprTuple(InSet(A, S), InSet(B, S), InSet(C, S))"
   ]
  },
  {
   "cell_type": "code",
   "execution_count": 3,
   "metadata": {},
   "outputs": [
    {
     "name": "stdout",
     "output_type": "stream",
     "text": [
      "Passed sanity check: built 'expr' is the same as the stored Expression.\n"
     ]
    }
   ],
   "source": [
    "# check that the built expression is the same as the stored expression\n",
    "%check_expr"
   ]
  },
  {
   "cell_type": "code",
   "execution_count": 4,
   "metadata": {},
   "outputs": [
    {
     "data": {
      "text/html": [
       "<table><tr><th>&nbsp;</th><th>core type</th><th>sub-expressions</th><th>expression</th></tr>\n",
       "<tr><td>0</td><td>ExprTuple</td><td>1, 2, 3</td><td><a class=\"ProveItLink\" href=\"expr.ipynb\"><img src=\"data:image/png;base64,iVBORw0KGgoAAAANSUhEUgAAAMMAAAAVBAMAAAAJNkerAAAAMFBMVEX////c3NwiIiJERESqqqqY\n",
       "mJh2dnZmZmYQEBDu7u4yMjJUVFTMzMyIiIi6uroAAAAs73DqAAAAAXRSTlMAQObYZgAAAkJJREFU\n",
       "SMe9lU1oE0EUx/+xGdNtNqugIrSHSEBQL42Hgp6asxd78qi5tT2IRdEKHhLEk4dmKYhF/IhC8Qs0\n",
       "IFLpHhJ6rZKABy9KgxdFD1apogaN783MJpLMNHiICzu83d/befPe+88s8B8ur9bP2Y/zsKrslS4q\n",
       "lmav1JVVbgRPHtk5nJdLZyMzJh6rkHVfvXjcFWIRzrg2B9NArm7nUxPwzk8YeRFIqDqJUb/DI54F\n",
       "jmi7Sk7VkpVf20/Dqe1GfowWqKbemdMeN+6kDkgjSSm+0O5rBE9krfwez/He/P0C8EGR2pqqg7sY\n",
       "ZvMpAzzX9iG69/k2Htvgcbf5+4EMzilZ+UdVKXe06pX8VWkl3QCGD1t5ssjjdTPfOkNN4eumLDdd\n",
       "B1vTJprN8MFtvHm1F1ae+6vRXTxaxJx8riMpNeek2967nn3XS0p8BuZLVj7abnQ39/L4LZcZBGUJ\n",
       "vYuplG4Xi0QvbyBPYb5aeVOOvpm76yqER8qSBXVbyhR039IhttFb8c3KCzxEK2ZOIS7xMzV/S14m\n",
       "uid0ucod0xWokmt8w8rLnEAMZk6FGiMzQiGG1iV5Grrwrrqg0+dtoWRj5FIp0zByiCImeXdyvX9I\n",
       "Mh8eE6drSKThfNHbwr3sW7mgBN/phDu4FO1b0nLhNsT4TympyF2t9tLHgBJ0CvTpmWYQPNBtMXGs\n",
       "PpzNwMipOnUMdhwt0eW2IlgIHfhfOR8gIrvpeS96/A96cZxsH+Z9CuGwSkY2den1S+zF41zISF9/\n",
       "rK+BP71exgmWcypEAAAAAElFTkSuQmCC\n",
       "\" style=\"display:inline;vertical-align:middle;\" /></a></td></tr>\n",
       "<tr><td>1</td><td>Operation</td><td>operator:&nbsp;6<br>operands:&nbsp;4<br></td><td><a class=\"ProveItLink\" href=\"../f5cdac0b08c495cc942fc84c09ebab0b825161060/expr.ipynb\"><img src=\"data:image/png;base64,iVBORw0KGgoAAAANSUhEUgAAADcAAAAPBAMAAACy3Eq1AAAAMFBMVEX///92dnYQEBBERERUVFS6\n",
       "urqIiIhmZmaqqqrc3Nzu7u6YmJgyMjIiIiLMzMwAAACFkkdwAAAAAXRSTlMAQObYZgAAAOFJREFU\n",
       "GNNjYACBtwzogNu9fHUAhHkeQ/I0A5c9VNn9BWhyLAIMDD0Q5oz6CRDGsrN374AZ8x8wMDyDiCXk\n",
       "Q4znOw0zIb6BgeEdmMW6oH8DmDEZbvr8bw+grKUM7xPADEu4nWz//0M5AQzzC0A0lwHCRbOdPoGN\n",
       "4XNx8QcLs+revQt1EBDIg61iZWBgOgBW5QAPAiBeD5YEOoxXAWzsBZjkcpCbQN7jBEryfACLecMk\n",
       "Qf4vATHWADHzL7DYWmhoMtQmMLCBnDFZ/yQDt/0fsHM5j0N95xDiYo0R3Bw+CNcCAQAZcTpZalNj\n",
       "qAAAAABJRU5ErkJggg==\n",
       "\" style=\"display:inline;vertical-align:middle;\" /></a></td></tr>\n",
       "<tr><td>2</td><td>Operation</td><td>operator:&nbsp;6<br>operands:&nbsp;5<br></td><td><a class=\"ProveItLink\" href=\"../825241e475a17bb74631905b071dd4ec4b73c99e0/expr.ipynb\"><img src=\"data:image/png;base64,iVBORw0KGgoAAAANSUhEUgAAADgAAAAPBAMAAABD1xE4AAAAMFBMVEX///+qqqru7u4iIiJ2dnbc\n",
       "3NyIiIjMzMxmZmYQEBC6uroyMjJERERUVFSYmJgAAADLUcuvAAAAAXRSTlMAQObYZgAAAPNJREFU\n",
       "GNNjYGB4+//u3dMLGNDA246mVyB6DgMDxy80Oe4HDDofgDT7NyD+iyZ5hYGBcQOQZvvKwMD3BSyk\n",
       "ttnYGsxg/Q7UkABk8ExgYGCeBBJi36cA1cj1EcgrADL4LzCw7gGLxsDkGFj/p0MY9dfSmh+AWUcR\n",
       "dub//xMApgMYmGxBDKYDCEnWt/PBNp0EKQBp5ZpsbAx1EBCw/AORIF+8dwC55wJcI1AtE0iSHUTc\n",
       "FwAZawCTY2oAGvwV6k3W32CxezBJkP85LkC9WbkJLKYMC2EOMwaGHBB9/u/d2/ugTtxRAGHwct29\n",
       "8wA9KhhvI1wLBADxCEOLO6EpugAAAABJRU5ErkJggg==\n",
       "\" style=\"display:inline;vertical-align:middle;\" /></a></td></tr>\n",
       "<tr><td>3</td><td>Operation</td><td>operator:&nbsp;6<br>operands:&nbsp;7<br></td><td><a class=\"ProveItLink\" href=\"../d406481566d23759c82edad3176cd04052d74d9c0/expr.ipynb\"><img src=\"data:image/png;base64,iVBORw0KGgoAAAANSUhEUgAAADcAAAAPBAMAAACy3Eq1AAAAMFBMVEX////MzMyqqqoiIiIyMjK6\n",
       "uroQEBB2dnbc3NyYmJhmZmZUVFRERESIiIju7u4AAAB204erAAAAAXRSTlMAQObYZgAAAOVJREFU\n",
       "GNNjYGDgu7NrJccCBlTAuWvVywAgXTaBgXXZBDRJTwa+80DqiR2QqG9AleMuYGBQAdJuD4BEGFiI\n",
       "74qxsQOY1S/AwCDLwMD1CcTpAguJzIPpjFdgYBAEqgErfQgiOM7Bje3/KwCi1iOcwoOwmPf//xNA\n",
       "yh4h8gbJRZ3bvgHd8h/MBjmKIczYGOYgkAeARuaDGExgG6QRQQDE74GS+0GauMBCj+GSr0BuAton\n",
       "fwHIqIP4HO42kP9Xg0wA+jMK4ig+U5jk4gsMvAfANnmvUoCKtSyEMjZE7z7JgA60nRGuBQIAgbI3\n",
       "uAFwCikAAAAASUVORK5CYII=\n",
       "\" style=\"display:inline;vertical-align:middle;\" /></a></td></tr>\n",
       "<tr><td>4</td><td>ExprTuple</td><td>8, 11</td><td><a class=\"ProveItLink\" href=\"../5119ddb33e983b5746654d00bd489bdc312a2cb40/expr.ipynb\"><img src=\"data:image/png;base64,iVBORw0KGgoAAAANSUhEUgAAADMAAAAVBAMAAAAZessyAAAAMFBMVEX////c3NwiIiJERESqqqqY\n",
       "mJh2dnZmZmYQEBDu7u4yMjJUVFTMzMyIiIi6uroAAAAs73DqAAAAAXRSTlMAQObYZgAAAS5JREFU\n",
       "KM9jYMAD+C5gE40DEach7ENwUdbt5VMfsB8AslZCBNbDpZYycNozMCxgYOCFmMeqPwEqw53AwODF\n",
       "wBDGwMABERKpF4BKyQONOsvAMIOB4RVE4ML9B1Cp9w4MDGcYGJgdGMogzpzgHwDT9RfkAga2AqCl\n",
       "IDCP4TzMD7z//xsCKZYFDH1g/gMG+QKYC0V3/ADaz9fA8A/E49m9e78Bwr/5QMN5PkCk+IAuXQD1\n",
       "MBDPh0i1gPhARzE1QKSmg1wiADbQFMhkBEpxfWBgAHkR6FuGapDuBQzpQGoWEDP/ZOD8BKSLLjDw\n",
       "GkAc/4iBQbh/IQOr/a8Czn6gQRte7wYZxMD1gIFDACl+kNjAgGJNQHBZkSIsFxEpaFKcIL9II/hI\n",
       "8c0NMpsRawK4w8AAAIRLRQU3vFzXAAAAAElFTkSuQmCC\n",
       "\" style=\"display:inline;vertical-align:middle;\" /></a></td></tr>\n",
       "<tr><td>5</td><td>ExprTuple</td><td>9, 11</td><td><a class=\"ProveItLink\" href=\"../8215d6fbde07eb1bed2de8f887b819336692f6c10/expr.ipynb\"><img src=\"data:image/png;base64,iVBORw0KGgoAAAANSUhEUgAAADQAAAAVBAMAAAD7ptBLAAAAMFBMVEX////c3NwiIiJERESqqqqY\n",
       "mJh2dnZmZmYQEBDu7u4yMjJUVFTMzMyIiIi6uroAAAAs73DqAAAAAXRSTlMAQObYZgAAATJJREFU\n",
       "KM9jYMAD+C5gE2V9ACROA3H0/927rR7AhKPLK+MYaoCMlSBeMwMD+z+oDFcAw+QPDFwMDLwg83j+\n",
       "AvFvqNQ2BgaWBQysCQwcE4A83o9A079BZBj/AJVdYOBsYHgF4jI3MDAwdUKd9QUodYCBwYShDMTl\n",
       "38DAuHgCVNf/O2A6nWEpiDq/925RAMyB9/9/FgBSXgx9YJ4AA6c2TIoxuh9k9gsGsJMtQNJwbQxs\n",
       "X0EmQaRA7o5PgIgDVXBCpFpA3gIx9zuAZTgLgEZ+BBtoCvUW4y+gMAPYtwzsG4CMKKAbId46AQyw\n",
       "+QpAYV0GhssQxz8C8ux/794F8sQMoG5uvt2bwQ5ax8AhgBQVDxFMYECxJiBJIdzPwHYBGimYUrOA\n",
       "WBrB5UVStREULlgTAO8BBgBha0+0puEm8QAAAABJRU5ErkJggg==\n",
       "\" style=\"display:inline;vertical-align:middle;\" /></a></td></tr>\n",
       "<tr><td>6</td><td>Literal</td><td></td><td><a class=\"ProveItLink\" href=\"../088cbc857536a28d4119ad9639a84270ccb0545d0/expr.ipynb\"><img src=\"data:image/png;base64,iVBORw0KGgoAAAANSUhEUgAAAAwAAAAMBAMAAACkW0HUAAAALVBMVEX///+qqqpmZmZUVFQQEBC6\n",
       "urpERETc3NyYmJjMzMwiIiIyMjKIiIju7u4AAACYsrA9AAAAAXRSTlMAQObYZgAAADxJREFUCNdj\n",
       "YOA9vWrVBgaG2b0MQMCeCyIZ2ArA1DUwyRCyahVIyWQI7xaEYm4AU7xLIdxqTQgtvGvVBgCkcQ7e\n",
       "geM/tQAAAABJRU5ErkJggg==\n",
       "\" style=\"display:inline;vertical-align:middle;\" /></a></td></tr>\n",
       "<tr><td>7</td><td>ExprTuple</td><td>10, 11</td><td><a class=\"ProveItLink\" href=\"../bd5fdb3c0e3e7a88882c79b69a69f1ae79a2938e0/expr.ipynb\"><img src=\"data:image/png;base64,iVBORw0KGgoAAAANSUhEUgAAADMAAAAVBAMAAAAZessyAAAAMFBMVEX////c3NwiIiJERESqqqqY\n",
       "mJh2dnZmZmYQEBDu7u4yMjJUVFTMzMyIiIi6uroAAAAs73DqAAAAAXRSTlMAQObYZgAAATRJREFU\n",
       "KM9jYMAD+C5gE40DEadBBOfl7aWMBRBR1u3lUx+wHwCyVoK4GQEMfBUBEKmlDJz2DAwLGBh4QebN\n",
       "0gQS+QJgGe4EBgYvBoYwBgaOCUDuChDxAqJJHmjUWQaGGQwMr4A89i8gMXGI1HsHBoYzDAzMDgxl\n",
       "IIULQGJzoLr+glzAwFYAtJSBoT4Aydm8//8bAimWBQx9QEpfANlLojt+AK3ma2D4B+T8BwtNgEvm\n",
       "A03h+QCW6gfxWQ5APAzE8yFSLUDmfpAGdoiO6SCXCIANNAUyz4O8nQkxEuhbhmqQ7gUM6SAK6K/n\n",
       "Agycn4DsogsMvAYQxz8CB/HqcqBHOfuBBm14vRtkEAPXAwYOJIfzIbGBAcWagOCyIvkuFxYpGFKc\n",
       "oLCTRvCR4psbZDYj1gRwh4EBAATVRkuiw94DAAAAAElFTkSuQmCC\n",
       "\" style=\"display:inline;vertical-align:middle;\" /></a></td></tr>\n",
       "<tr><td>8</td><td>Variable</td><td></td><td><a class=\"ProveItLink\" href=\"../../../../../__pv_it/2cbe72a7ad6f655694dd697106680215e8489b600/expr.ipynb\"><img src=\"data:image/png;base64,iVBORw0KGgoAAAANSUhEUgAAAA8AAAAOBAMAAAACpFvcAAAALVBMVEX///8QEBBERERUVFS6urqI\n",
       "iIhmZmaqqqrc3Nzu7u6YmJgyMjIiIiLMzMwAAADtIaYWAAAAAXRSTlMAQObYZgAAAFtJREFUCNdj\n",
       "YACBOwxQsA9Kc52bAGG05zVAGAFxDmCaZULdAjBjCsO9ADDDgaEvAUTzGhvbKYCVMDAwbgAxChgY\n",
       "eASANAeQwf0AyJgNxEwvGRia5HYwcOm9TgAA6BoR3jrzwFcAAAAASUVORK5CYII=\n",
       "\" style=\"display:inline;vertical-align:middle;\" /></a></td></tr>\n",
       "<tr><td>9</td><td>Variable</td><td></td><td><a class=\"ProveItLink\" href=\"../../../../../__pv_it/077b2ff79244fb4582cbe22c6e3356fa92a52f2f0/expr.ipynb\"><img src=\"data:image/png;base64,iVBORw0KGgoAAAANSUhEUgAAABAAAAAOBAMAAADUAYG5AAAAMFBMVEX///+qqqru7u4iIiJ2dnbc\n",
       "3NyIiIjMzMxmZmYQEBC6uroyMjJERERUVFSYmJgAAADLUcuvAAAAAXRSTlMAQObYZgAAAGpJREFU\n",
       "CNdjYGB4+//u3dMLGIBgDgMDxy8gzf4NiP8CGWxfGRj4vgAZPBMYGJgnARn8FxhY9ygAGfXX0pof\n",
       "gDTlBzAw2YIYJ0EckBBI53sHoBH/gIz7AhBjWH9DjancBLTl/N+7t/cxMAAA3u4f/5xagjYAAAAA\n",
       "SUVORK5CYII=\n",
       "\" style=\"display:inline;vertical-align:middle;\" /></a></td></tr>\n",
       "<tr><td>10</td><td>Variable</td><td></td><td><a class=\"ProveItLink\" href=\"../../../../../__pv_it/985a1bdf1540838275dec15f4ad6de261cca93ce0/expr.ipynb\"><img src=\"data:image/png;base64,iVBORw0KGgoAAAANSUhEUgAAAA8AAAAOBAMAAAACpFvcAAAAMFBMVEX////MzMyqqqoiIiIyMjK6\n",
       "uroQEBB2dnbc3NyYmJhmZmZUVFRERESIiIju7u4AAAB204erAAAAAXRSTlMAQObYZgAAAGZJREFU\n",
       "CNdjYGDgu7NrJccCBgaGsgkMrMsmMDA8sQNy6hsYGNweABlhDAxcn4A0QxcDQ78DiPGQgWH9BAYI\n",
       "sG+AMv6DSaCGfBDNJMDAsB+kmwuI5S8AiTog5gSaEwXWIO29SgFIAQBC+RaDQlidVgAAAABJRU5E\n",
       "rkJggg==\n",
       "\" style=\"display:inline;vertical-align:middle;\" /></a></td></tr>\n",
       "<tr><td>11</td><td>Variable</td><td></td><td><a class=\"ProveItLink\" href=\"../../../../../__pv_it/abeee18594afe51bfb1be95d9591fbba24ac53f30/expr.ipynb\"><img src=\"data:image/png;base64,iVBORw0KGgoAAAANSUhEUgAAAA0AAAAOBAMAAAAGUYvhAAAAMFBMVEX///8iIiIQEBCIiIjMzMzc\n",
       "3Nyqqqp2dnZEREQyMjK6urru7u5mZmZUVFSYmJgAAACI6eGPAAAAAXRSTlMAQObYZgAAAF1JREFU\n",
       "CNdjYGDgu3Nm3wIGBoZ5DNz9QIq3gIEhE0jHOzAwOAPp9QkMDC4g/megABAw///fCmbEXfq0Acxg\n",
       "qH8ANAVI7wfSe0BKAyBGnAXigwYMzA1A+sLau31ACgAz0hhbkhGHbwAAAABJRU5ErkJggg==\n",
       "\" style=\"display:inline;vertical-align:middle;\" /></a></td></tr>\n",
       "</table>\n"
      ],
      "text/plain": [
       "0. (A in S , B in S , C in S)\n",
       "   core type: ExprTuple\n",
       "   sub-expressions: 1, 2, 3\n",
       "1. A in S\n",
       "   core type: Operation\n",
       "   operator: 6\n",
       "   operands: 4\n",
       "2. B in S\n",
       "   core type: Operation\n",
       "   operator: 6\n",
       "   operands: 5\n",
       "3. C in S\n",
       "   core type: Operation\n",
       "   operator: 6\n",
       "   operands: 7\n",
       "4. (A , S)\n",
       "   core type: ExprTuple\n",
       "   sub-expressions: 8, 11\n",
       "5. (B , S)\n",
       "   core type: ExprTuple\n",
       "   sub-expressions: 9, 11\n",
       "6. in\n",
       "   core type: Literal\n",
       "   sub-expressions: \n",
       "7. (C , S)\n",
       "   core type: ExprTuple\n",
       "   sub-expressions: 10, 11\n",
       "8. A\n",
       "   core type: Variable\n",
       "   sub-expressions: \n",
       "9. B\n",
       "   core type: Variable\n",
       "   sub-expressions: \n",
       "10. C\n",
       "    core type: Variable\n",
       "    sub-expressions: \n",
       "11. S\n",
       "    core type: Variable\n",
       "    sub-expressions: "
      ]
     },
     "execution_count": 4,
     "metadata": {},
     "output_type": "execute_result"
    }
   ],
   "source": [
    "# display the expression information\n",
    "expr.exprInfo()"
   ]
  },
  {
   "cell_type": "code",
   "execution_count": null,
   "metadata": {},
   "outputs": [],
   "source": []
  }
 ],
 "metadata": {
  "kernelspec": {
   "display_name": "Python 3",
   "language": "python",
   "name": "python3"
  }
 },
 "nbformat": 4,
 "nbformat_minor": 0
}
