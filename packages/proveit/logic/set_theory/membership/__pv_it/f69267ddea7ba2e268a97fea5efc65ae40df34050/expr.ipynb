{
 "cells": [
  {
   "cell_type": "markdown",
   "metadata": {},
   "source": [
    "Expression of type <a class=\"ProveItLink\" href=\"../../../../../../../doc/html/api/proveit.Lambda.html\">Lambda</a>\n",
    "=======================\n",
    "# from context <a class=\"ProveItLink\" href=\"../../_context_.ipynb\">proveit.logic.set_theory.membership</a>"
   ]
  },
  {
   "cell_type": "code",
   "execution_count": 1,
   "metadata": {},
   "outputs": [],
   "source": [
    "# import Expression classes needed to build the expression\n",
    "from proveit import Lambda\n",
    "from proveit._common_ import S, x\n",
    "from proveit.logic import InSet\n",
    "from proveit.number import Exp, zero"
   ]
  },
  {
   "cell_type": "code",
   "execution_count": 2,
   "metadata": {},
   "outputs": [
    {
     "data": {
      "text/html": [
       "<strong id=\"expr\">expr:</strong> <a class=\"ProveItLink\" href=\"expr.ipynb\"><img src=\"data:image/png;base64,iVBORw0KGgoAAAANSUhEUgAAAHoAAAAcCAMAAACZKluRAAAANlBMVEX///8UFBQNDQ0iIiIQEBCI\n",
       "iIjMzMzc3Nyqqqp2dnZEREQyMjK6urru7u5mZmZUVFSYmJgAAAD0v/9UAAAAAXRSTlMAQObYZgAA\n",
       "AdxJREFUSMfFVtt2hCAMpIUYLobL//9sUWSNilvFnm4e9nhWmJCZSUSIfwxjwIuPBBghxvAMYxy7\n",
       "tskh/yTK1XdnHvpOTlNWIXU3QIZw1Hfikhom6qEvdYidMq2phcT6bwzee4qXJER1M2UFZ1ULqJS7\n",
       "qQ6y6RKSv9kfL3BKU6lKr7pnBovjtLsEpe7Zm4Gr2eGFajmrhmkoNoBrZnljQHAyBy+Bg899bRfu\n",
       "bJFfl7fDpblwLvXgIh29xcABwC8rYioHS7DNumVe6w2B9SUaCKjBv7hC22i6Izi3u4CUwyIbOzu5\n",
       "OKRdvEmZvZgVU6/FHIGxtAevupUDYQwqKTpLTYHtdIvBzQybOak1kT1pxh14ZWN1q0nrpPj+kptQ\n",
       "bJ1cUk9YgWcbVV1+7BQOXqdqljHW53hWtQisnyRrawW/TfYG+Fo1+fqMZ6k9V8qFXeNUKkk2uq0B\n",
       "vu6tg8SHM5tt+72SHHGWWgC9me0t8OpwFH4Zqly27WzZOgTKuXSm0OYWx3UtycOca4GvfR3yxSEE\n",
       "e/lrNKbFz2AoX3j4PnR+18Ln4MaJ+5HeDD0dXNPhjY9Kzxc79F9veG9hz2VD/kHqaLu2Wf08tRy6\n",
       "tqF7XnTvdVw/VRtt/6EfUu5JfDZ+AEmOEdfaH1waAAAAAElFTkSuQmCC\n",
       "\" style=\"display:inline;vertical-align:middle;\" /></a><br>"
      ],
      "text/plain": [
       "expr: S -> (x in S^{0})"
      ]
     },
     "execution_count": 2,
     "metadata": {},
     "output_type": "execute_result"
    }
   ],
   "source": [
    "# build up the expression from sub-expressions\n",
    "expr = Lambda(S, InSet(x, Exp(S, zero)))"
   ]
  },
  {
   "cell_type": "code",
   "execution_count": 3,
   "metadata": {},
   "outputs": [
    {
     "name": "stdout",
     "output_type": "stream",
     "text": [
      "Passed sanity check: built 'expr' is the same as the stored Expression.\n"
     ]
    }
   ],
   "source": [
    "# check that the built expression is the same as the stored expression\n",
    "%check_expr"
   ]
  },
  {
   "cell_type": "code",
   "execution_count": 4,
   "metadata": {},
   "outputs": [
    {
     "data": {
      "text/html": [
       "<table><tr><th>&nbsp;</th><th>core type</th><th>sub-expressions</th><th>expression</th></tr>\n",
       "<tr><td>0</td><td>Lambda</td><td>parameter:&nbsp;8<br>body:&nbsp;1<br></td><td><a class=\"ProveItLink\" href=\"expr.ipynb\"><img src=\"data:image/png;base64,iVBORw0KGgoAAAANSUhEUgAAAHoAAAAcCAMAAACZKluRAAAANlBMVEX///8UFBQNDQ0iIiIQEBCI\n",
       "iIjMzMzc3Nyqqqp2dnZEREQyMjK6urru7u5mZmZUVFSYmJgAAAD0v/9UAAAAAXRSTlMAQObYZgAA\n",
       "AdxJREFUSMfFVtt2hCAMpIUYLobL//9sUWSNilvFnm4e9nhWmJCZSUSIfwxjwIuPBBghxvAMYxy7\n",
       "tskh/yTK1XdnHvpOTlNWIXU3QIZw1Hfikhom6qEvdYidMq2phcT6bwzee4qXJER1M2UFZ1ULqJS7\n",
       "qQ6y6RKSv9kfL3BKU6lKr7pnBovjtLsEpe7Zm4Gr2eGFajmrhmkoNoBrZnljQHAyBy+Bg899bRfu\n",
       "bJFfl7fDpblwLvXgIh29xcABwC8rYioHS7DNumVe6w2B9SUaCKjBv7hC22i6Izi3u4CUwyIbOzu5\n",
       "OKRdvEmZvZgVU6/FHIGxtAevupUDYQwqKTpLTYHtdIvBzQybOak1kT1pxh14ZWN1q0nrpPj+kptQ\n",
       "bJ1cUk9YgWcbVV1+7BQOXqdqljHW53hWtQisnyRrawW/TfYG+Fo1+fqMZ6k9V8qFXeNUKkk2uq0B\n",
       "vu6tg8SHM5tt+72SHHGWWgC9me0t8OpwFH4Zqly27WzZOgTKuXSm0OYWx3UtycOca4GvfR3yxSEE\n",
       "e/lrNKbFz2AoX3j4PnR+18Ln4MaJ+5HeDD0dXNPhjY9Kzxc79F9veG9hz2VD/kHqaLu2Wf08tRy6\n",
       "tqF7XnTvdVw/VRtt/6EfUu5JfDZ+AEmOEdfaH1waAAAAAElFTkSuQmCC\n",
       "\" style=\"display:inline;vertical-align:middle;\" /></a></td></tr>\n",
       "<tr><td>1</td><td>Operation</td><td>operator:&nbsp;2<br>operands:&nbsp;3<br></td><td><a class=\"ProveItLink\" href=\"../a3d4c2ddef4288e6f745911e1b22b1600f0579c30/expr.ipynb\"><img src=\"data:image/png;base64,iVBORw0KGgoAAAANSUhEUgAAADwAAAAVBAMAAADocZC/AAAAMFBMVEX///+6uroyMjJERETMzMwQ\n",
       "EBAiIiKYmJju7u5mZmaqqqpUVFSIiIh2dnbc3NwAAAAWgogoAAAAAXRSTlMAQObYZgAAAQJJREFU\n",
       "KM9jYMAN7p7EI8nAc4FxAx5pNgeGH3ik+xsYsvBI+zcw5OCRlsctXT1zRiFu3UwFDM0f+h8wRGGX\n",
       "3svAwKXA6sDwD1mwRy0tCczg+8LAwHIA6G8DJFkW9QYoi/EXkOfAcOYkUODt6VcnD4AEH8NkGfj+\n",
       "H4ExOS6wp7MmgFh2CIPO///8AMLiZeD5wOUAUodkEV91fARUNwM3RJwxLC0N6jSQru8wFusBiMsQ\n",
       "0VMA1AWXfu/AAHIURwLcOROAxkO9zP7gPAMP2M3bYdJcCgwMnFCz1heYMrwBs9oEoNKcwKA+DGU3\n",
       "n+29UwBxrqYDRIibcffmAsyQ5tqEcDkUAADrP0IuKhyluAAAAABJRU5ErkJggg==\n",
       "\" style=\"display:inline;vertical-align:middle;\" /></a></td></tr>\n",
       "<tr><td>2</td><td>Literal</td><td></td><td><a class=\"ProveItLink\" href=\"../088cbc857536a28d4119ad9639a84270ccb0545d0/expr.ipynb\"><img src=\"data:image/png;base64,iVBORw0KGgoAAAANSUhEUgAAAAwAAAAMBAMAAACkW0HUAAAALVBMVEX///+qqqpmZmZUVFQQEBC6\n",
       "urpERETc3NyYmJjMzMwiIiIyMjKIiIju7u4AAACYsrA9AAAAAXRSTlMAQObYZgAAADxJREFUCNdj\n",
       "YOA9vWrVBgaG2b0MQMCeCyIZ2ArA1DUwyRCyahVIyWQI7xaEYm4AU7xLIdxqTQgtvGvVBgCkcQ7e\n",
       "geM/tQAAAABJRU5ErkJggg==\n",
       "\" style=\"display:inline;vertical-align:middle;\" /></a></td></tr>\n",
       "<tr><td>3</td><td>ExprTuple</td><td>4, 5</td><td><a class=\"ProveItLink\" href=\"../815c72e52cfcdd6c06f1b72cce092c237e47e4680/expr.ipynb\"><img src=\"data:image/png;base64,iVBORw0KGgoAAAANSUhEUgAAADoAAAAcBAMAAADCYLEwAAAAMFBMVEX///+qqqp2dnYiIiJERESI\n",
       "iIhmZmYQEBDc3NyYmJgyMjLu7u5UVFTMzMy6uroAAACGxKilAAAAAXRSTlMAQObYZgAAAWhJREFU\n",
       "KM9jYMAKlMIYcANWBb4DUOY7TFnmCwy/GRRALN4DmLL7NzAYMtwBsXZtwJS9v4HBlIE1AMg6icXe\n",
       "9yBZBgsGBo4CNJk5adnzwHoZYhgY2BJQJbkmMGz5sL+BoRBsO/sDVNlDDAyMC9gvMPwAunwCw31U\n",
       "SY6/QF8EAP3rADTWgSEcVZbvI1D2AkNoGNAnnB8YToE0qJ4QTYXq/R+LUPmbwQdIbWKYPKEYKhT/\n",
       "/0sDlMn7l2EZkFJgiGeQhVk8p74axvzHYAakNjAcQbKa6SeUwf0RLMvAUAqTmgAU/InQuwbqD26I\n",
       "cmDYcPxA+A5k5gzWDwzRYHnGBUBvwiKN7wdDMFDoJ0sBRwDDfgOgDDB4Q2C2AP37Hmicq7ZSJAPD\n",
       "dqCJPHxnjkyAO28BA/8FuGNfoMUWVwADjwIDkntRU0gDA68BTtkpQOwIT4joKcQWiLtwJVtOULpg\n",
       "VMAh2wImJ+KQzWYgAACMWFdCvwGw1wAAAABJRU5ErkJggg==\n",
       "\" style=\"display:inline;vertical-align:middle;\" /></a></td></tr>\n",
       "<tr><td>4</td><td>Variable</td><td></td><td><a class=\"ProveItLink\" href=\"../../../../../__pv_it/530be409e3083890784cf1d7b28c9e67e90af9360/expr.ipynb\"><img src=\"data:image/png;base64,iVBORw0KGgoAAAANSUhEUgAAAAsAAAAJBAMAAAAWSsseAAAAKlBMVEX///9ERETMzMwQEBAiIiKY\n",
       "mJju7u5mZmaqqqpUVFSIiIh2dnbc3NwAAAA/vyDhAAAAAXRSTlMAQObYZgAAAENJREFUCNdjYDi9\n",
       "8sTyBQxsG1hdmR0YuBm4LnAoMLAxcAowgADzAjB1VoEhgYH1wFoGrgSG3gBhhlMMDImrs3cFMAAA\n",
       "t0YN+iTRa+sAAAAASUVORK5CYII=\n",
       "\" style=\"display:inline;vertical-align:middle;\" /></a></td></tr>\n",
       "<tr><td>5</td><td>Operation</td><td>operator:&nbsp;6<br>operands:&nbsp;7<br></td><td><a class=\"ProveItLink\" href=\"../bfb5392490de1a203b8848ec91ac758555d35bd80/expr.ipynb\"><img src=\"data:image/png;base64,iVBORw0KGgoAAAANSUhEUgAAABUAAAAUBAMAAACQZWsAAAAAMFBMVEX///8iIiIQEBCIiIjMzMzc\n",
       "3Nyqqqp2dnZEREQyMjK6urru7u5mZmZUVFSYmJgAAACI6eGPAAAAAXRSTlMAQObYZgAAAJBJREFU\n",
       "CNdjYIAA9uIDDDBgzrAWzhZh4N8AZXL/ZmBMgLJZgGwDKJsLyua7c2bfEih7HgN3P/dXBiaget4C\n",
       "BoZMBhUG/gAGhngHBgZnoPkrgErWA+VcGJiNTwPZ8Z8d4DYy///fCufEXfq0Ac5hqH8AofmAeD+U\n",
       "vQekPQDCzgTis1C1Bw0YmBug7Atr7/ZBmQDnjiQOx+wj+wAAAABJRU5ErkJggg==\n",
       "\" style=\"display:inline;vertical-align:middle;\" /></a></td></tr>\n",
       "<tr><td>6</td><td>Literal</td><td></td><td><a class=\"ProveItLink\" href=\"../../../../../number/exponentiation/__pv_it/deb2bf23cbccdd6e6791e1b35b5b9794ce12dbd50/expr.ipynb\"><img src=\"data:image/png;base64,iVBORw0KGgoAAAANSUhEUgAAACgAAAASBAMAAADbMYGVAAAAMFBMVEX///8QEBAiIiKYmJjc3Nzu\n",
       "7u7MzMx2dnZmZma6urpERESqqqoyMjJUVFSIiIgAAAAoDOMTAAAAAXRSTlMAQObYZgAAAOBJREFU\n",
       "GNNjYGB4+//u3Tt/GNAASGAXmhjnPyDBgSbI/g1IxKEJ8nxgYGdgQRPkX8BgDKRY6q7s62OYvmze\n",
       "2wAgb/7ZO1+AVDiDkYEQQ0HTBr4DQF59AgOIKmB4z7CNbcNZBu6vQN55kEACQwDDLQYGVobfDHwg\n",
       "fb8YGBxYHwAZciD3fWXg+gB1JjvQcJZvQIXsCgz8F6DO9GBgMOH7wPCUgaeBwd4B7EwGNjUG7s9c\n",
       "AiwPgO5jkWRgiF3/9+5dfQUG1nWl5Y+B7pv+1gE9bBhqGLCAE1jEWH9jEbT5A3IwAC4sP/1L6Qlu\n",
       "AAAAAElFTkSuQmCC\n",
       "\" style=\"display:inline;vertical-align:middle;\" /></a></td></tr>\n",
       "<tr><td>7</td><td>ExprTuple</td><td>8, 9</td><td><a class=\"ProveItLink\" href=\"../ab4a496c55b626ab9a84c97653037d00753a67410/expr.ipynb\"><img src=\"data:image/png;base64,iVBORw0KGgoAAAANSUhEUgAAAC0AAAAVBAMAAAAgHXppAAAAMFBMVEX////c3NwiIiJERESqqqqY\n",
       "mJh2dnZmZmYQEBDu7u4yMjJUVFTMzMyIiIi6uroAAAAs73DqAAAAAXRSTlMAQObYZgAAAR5JREFU\n",
       "GNN1kT8sBEEUh7/DcuPsZRuV4vQUFGpba2yllI1GJURxCpEolCLXiOtuG4VOR6LZHrmNRoJiKSmO\n",
       "Bg3nvbnbdXIxyUze98vM+/Mb+G+Vkz5pWY9LPZyzrcNUA7NzGzMSS3SieIyZt1cHUjMNEbiaphTC\n",
       "gtVv4A6WoFgTqsjDa6tPQcujDs9KLR+urP4BTZ9Bn6pS5SvudFJ4Fz1heEMqynLb7dlfPWQo4sDy\n",
       "+PlnrUcv7/LdnWU96Mkz9mp1R3YjyOsGqu8JHGlpL+tz0dM8c3RG2sZ051qRBBGrApsJ7gyNSfXB\n",
       "N/ton08Cpy8X8qz+pr5V72WU0ZSil9v7mEfigxPmFOTRWubzX92Iz0xk5OYXSpq70P+PD/ADC49K\n",
       "CzsTSOoAAAAASUVORK5CYII=\n",
       "\" style=\"display:inline;vertical-align:middle;\" /></a></td></tr>\n",
       "<tr><td>8</td><td>Variable</td><td></td><td><a class=\"ProveItLink\" href=\"../../../../../__pv_it/abeee18594afe51bfb1be95d9591fbba24ac53f30/expr.ipynb\"><img src=\"data:image/png;base64,iVBORw0KGgoAAAANSUhEUgAAAA0AAAAOBAMAAAAGUYvhAAAAMFBMVEX///8iIiIQEBCIiIjMzMzc\n",
       "3Nyqqqp2dnZEREQyMjK6urru7u5mZmZUVFSYmJgAAACI6eGPAAAAAXRSTlMAQObYZgAAAF1JREFU\n",
       "CNdjYGDgu3Nm3wIGBoZ5DNz9QIq3gIEhE0jHOzAwOAPp9QkMDC4g/megABAw///fCmbEXfq0Acxg\n",
       "qH8ANAVI7wfSe0BKAyBGnAXigwYMzA1A+sLau31ACgAz0hhbkhGHbwAAAABJRU5ErkJggg==\n",
       "\" style=\"display:inline;vertical-align:middle;\" /></a></td></tr>\n",
       "<tr><td>9</td><td>Literal</td><td></td><td><a class=\"ProveItLink\" href=\"../../../../../number/numeral/__pv_it/ec23fc7a1b4222a5f4948b495002b97d6fa18c3c0/expr.ipynb\"><img src=\"data:image/png;base64,iVBORw0KGgoAAAANSUhEUgAAAAoAAAAOBAMAAADkjZCYAAAALVBMVEX///8QEBCYmJh2dnaqqqrc\n",
       "3NxUVFQyMjK6uroiIiLMzMyIiIhmZmbu7u4AAAAZjyHdAAAAAXRSTlMAQObYZgAAAEpJREFUCNdj\n",
       "YLiz+xQDA8MMhpsLGLgnMHAXMHAmMHA8ZeA7wMD1hCHOgIHrNZh8jES+Bss+AqlkeQrSxTyBgWEK\n",
       "w8UFDAx3rLMYAMCjFldHSx/9AAAAAElFTkSuQmCC\n",
       "\" style=\"display:inline;vertical-align:middle;\" /></a></td></tr>\n",
       "</table>\n"
      ],
      "text/plain": [
       "0. S -> (x in S^{0})\n",
       "   core type: Lambda\n",
       "   parameter: 8\n",
       "   body: 1\n",
       "1. x in S^{0}\n",
       "   core type: Operation\n",
       "   operator: 2\n",
       "   operands: 3\n",
       "2. in\n",
       "   core type: Literal\n",
       "   sub-expressions: \n",
       "3. (x , S^{0})\n",
       "   core type: ExprTuple\n",
       "   sub-expressions: 4, 5\n",
       "4. x\n",
       "   core type: Variable\n",
       "   sub-expressions: \n",
       "5. S^{0}\n",
       "   core type: Operation\n",
       "   operator: 6\n",
       "   operands: 7\n",
       "6. Exp\n",
       "   core type: Literal\n",
       "   sub-expressions: \n",
       "7. (S , 0)\n",
       "   core type: ExprTuple\n",
       "   sub-expressions: 8, 9\n",
       "8. S\n",
       "   core type: Variable\n",
       "   sub-expressions: \n",
       "9. 0\n",
       "   core type: Literal\n",
       "   sub-expressions: "
      ]
     },
     "execution_count": 4,
     "metadata": {},
     "output_type": "execute_result"
    }
   ],
   "source": [
    "# display the expression information\n",
    "expr.exprInfo()"
   ]
  },
  {
   "cell_type": "code",
   "execution_count": null,
   "metadata": {},
   "outputs": [],
   "source": []
  }
 ],
 "metadata": {
  "kernelspec": {
   "display_name": "Python 3",
   "language": "python",
   "name": "python3"
  }
 },
 "nbformat": 4,
 "nbformat_minor": 0
}
