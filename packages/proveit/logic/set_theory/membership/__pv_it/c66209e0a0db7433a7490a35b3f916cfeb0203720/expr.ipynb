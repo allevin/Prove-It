{
 "cells": [
  {
   "cell_type": "markdown",
   "metadata": {},
   "source": [
    "Expression of type <a class=\"ProveItLink\" href=\"../../../../../../../doc/html/api/proveit.ExprTuple.html\">ExprTuple</a>\n",
    "=======================\n",
    "# from context <a class=\"ProveItLink\" href=\"../../_context_.ipynb\">proveit.logic.set_theory.membership</a>"
   ]
  },
  {
   "cell_type": "code",
   "execution_count": 1,
   "metadata": {},
   "outputs": [],
   "source": [
    "# import Expression classes needed to build the expression\n",
    "from proveit import ExprTuple\n",
    "from proveit._common_ import A, B, C, D, E, F, S\n",
    "from proveit.number import Exp, six"
   ]
  },
  {
   "cell_type": "code",
   "execution_count": 2,
   "metadata": {},
   "outputs": [
    {
     "data": {
      "text/html": [
       "<strong id=\"expr\">expr:</strong> <a class=\"ProveItLink\" href=\"expr.ipynb\"><img src=\"data:image/png;base64,iVBORw0KGgoAAAANSUhEUgAAANIAAAAcCAMAAAAjpRG0AAAAM1BMVEX///+hoaGqqqp2dnYiIiJE\n",
       "RESIiIhmZmYQEBDc3NyYmJgyMjLu7u5UVFTMzMy6uroAAABJc/IiAAAAAXRSTlMAQObYZgAAA1lJ\n",
       "REFUWMPdWFmS4yAMZcwOAnT/0w4YC5utt5qq6YSPThpZaHt6yGHs9Rdorhx7q+UjizjspfTKEXGd\n",
       "C8XPb20vhpcukjmmQMDDK0dk8VBK2/O7UnUvtNZK6vd57D5riogZb1HUf8QZmjVrANJTj9MDYshL\n",
       "+tkMKBm0dszqbltdKl7GUYNEwaPfSAzmHOu4CzYb1OD+YPEGj0u1/NXNiR6AHhewleeHxjEmbs5S\n",
       "J21GNr38PfCYTqNQDrmTyHKa3/BckYFEhiVmrAADLDEYck91sHMCYa6xuj57QgEvrmc52gUsahrG\n",
       "4xKSQT1J+AN1jq8iCnX38MyXZFGShWMPRjdPm/bQo3c56GvLYW/FN9VkJpXUp+NRWYwE2klylfQo\n",
       "T4BZkkJVjoodOb+JukTniitSSF2B1e3MveT1rOiizwVooLJjwiU2H8aroiK7JMdOEqi77rQjZ8zm\n",
       "QtbNmCNzmmtyyOVDA0Win5lPkNE/DRnVK+sl9Am7kwFjL6NsCAwrkVtNMlhyDu55l85VQrXijZSz\n",
       "IcOz3ciztEJK9krlK0AMXmh0HzCsaunjo3Ff2M6u3Cox6CY5VgShMC9pZ4OReUqBeeAsnXnQ61YC\n",
       "0edbrNxqKpTKMOK4ttLKW16CFXcHJbO8Yl0meQNT9RIT5PjDZDxvBZSbVlJ9WfDB9rBrJWbMtpXi\n",
       "spXCI/Pb8W4CCOQeW4VUvxm/bKUJQ+a2eGxbyU3Gq8guCG9opVVIjgJwiyr5ME1/B/HaCFNHGOoo\n",
       "KNw3jt62kpHbW4nD5lbaAw80BWAX5B7IlnTtSurGBxhvJWI4mPy+nIO5laQfRe1WqrwPTzQNXef8\n",
       "CGsiDB1marFMiYEqwbc+gLO2om+laKp7t8DVqqWLo24BtVIkDnqIaN6KIvaCeRLjk7YWZxaVnBGJ\n",
       "JSyK73zeSoO+uOYkYvEETC2OltcASmRPgpNOfB4hCY0kAFKRbfJsonCJgqhutsOqku7wRFPybTGw\n",
       "VM5dXB68FKTRrNlwcdpx9PcFP9J5DEQfHEzhq3v+242HjV3+heBHOlx95WDCpu3eizZvt/85JPDs\n",
       "6yG52l1tKrTL3yC2b7rfF/xIJ9ivHEyTTO0i29Jgf+GLuorfeauni/Hgb/KDnr1J3R3vEZIG9p7r\n",
       "L9OwI1ZettJDAAAAAElFTkSuQmCC\n",
       "\" style=\"display:inline;vertical-align:middle;\" /></a><br>"
      ],
      "text/plain": [
       "expr: ((A , B , C , D , E , F) , S^{6})"
      ]
     },
     "execution_count": 2,
     "metadata": {},
     "output_type": "execute_result"
    }
   ],
   "source": [
    "# build up the expression from sub-expressions\n",
    "expr = ExprTuple([A, B, C, D, E, F], Exp(S, six))"
   ]
  },
  {
   "cell_type": "code",
   "execution_count": 3,
   "metadata": {},
   "outputs": [
    {
     "name": "stdout",
     "output_type": "stream",
     "text": [
      "Passed sanity check: built 'expr' is the same as the stored Expression.\n"
     ]
    }
   ],
   "source": [
    "# check that the built expression is the same as the stored expression\n",
    "%check_expr"
   ]
  },
  {
   "cell_type": "code",
   "execution_count": 4,
   "metadata": {},
   "outputs": [
    {
     "data": {
      "text/html": [
       "<table><tr><th>&nbsp;</th><th>core type</th><th>sub-expressions</th><th>expression</th></tr>\n",
       "<tr><td>0</td><td>ExprTuple</td><td>1, 2</td><td><a class=\"ProveItLink\" href=\"expr.ipynb\"><img src=\"data:image/png;base64,iVBORw0KGgoAAAANSUhEUgAAANIAAAAcCAMAAAAjpRG0AAAAM1BMVEX///+hoaGqqqp2dnYiIiJE\n",
       "RESIiIhmZmYQEBDc3NyYmJgyMjLu7u5UVFTMzMy6uroAAABJc/IiAAAAAXRSTlMAQObYZgAAA1lJ\n",
       "REFUWMPdWFmS4yAMZcwOAnT/0w4YC5utt5qq6YSPThpZaHt6yGHs9Rdorhx7q+UjizjspfTKEXGd\n",
       "C8XPb20vhpcukjmmQMDDK0dk8VBK2/O7UnUvtNZK6vd57D5riogZb1HUf8QZmjVrANJTj9MDYshL\n",
       "+tkMKBm0dszqbltdKl7GUYNEwaPfSAzmHOu4CzYb1OD+YPEGj0u1/NXNiR6AHhewleeHxjEmbs5S\n",
       "J21GNr38PfCYTqNQDrmTyHKa3/BckYFEhiVmrAADLDEYck91sHMCYa6xuj57QgEvrmc52gUsahrG\n",
       "4xKSQT1J+AN1jq8iCnX38MyXZFGShWMPRjdPm/bQo3c56GvLYW/FN9VkJpXUp+NRWYwE2klylfQo\n",
       "T4BZkkJVjoodOb+JukTniitSSF2B1e3MveT1rOiizwVooLJjwiU2H8aroiK7JMdOEqi77rQjZ8zm\n",
       "QtbNmCNzmmtyyOVDA0Win5lPkNE/DRnVK+sl9Am7kwFjL6NsCAwrkVtNMlhyDu55l85VQrXijZSz\n",
       "IcOz3ciztEJK9krlK0AMXmh0HzCsaunjo3Ff2M6u3Cox6CY5VgShMC9pZ4OReUqBeeAsnXnQ61YC\n",
       "0edbrNxqKpTKMOK4ttLKW16CFXcHJbO8Yl0meQNT9RIT5PjDZDxvBZSbVlJ9WfDB9rBrJWbMtpXi\n",
       "spXCI/Pb8W4CCOQeW4VUvxm/bKUJQ+a2eGxbyU3Gq8guCG9opVVIjgJwiyr5ME1/B/HaCFNHGOoo\n",
       "KNw3jt62kpHbW4nD5lbaAw80BWAX5B7IlnTtSurGBxhvJWI4mPy+nIO5laQfRe1WqrwPTzQNXef8\n",
       "CGsiDB1marFMiYEqwbc+gLO2om+laKp7t8DVqqWLo24BtVIkDnqIaN6KIvaCeRLjk7YWZxaVnBGJ\n",
       "JSyK73zeSoO+uOYkYvEETC2OltcASmRPgpNOfB4hCY0kAFKRbfJsonCJgqhutsOqku7wRFPybTGw\n",
       "VM5dXB68FKTRrNlwcdpx9PcFP9J5DEQfHEzhq3v+242HjV3+heBHOlx95WDCpu3eizZvt/85JPDs\n",
       "6yG52l1tKrTL3yC2b7rfF/xIJ9ivHEyTTO0i29Jgf+GLuorfeauni/Hgb/KDnr1J3R3vEZIG9p7r\n",
       "L9OwI1ZettJDAAAAAElFTkSuQmCC\n",
       "\" style=\"display:inline;vertical-align:middle;\" /></a></td></tr>\n",
       "<tr><td>1</td><td>ExprTuple</td><td>3, 4, 5, 6, 7, 8</td><td><a class=\"ProveItLink\" href=\"../e68502899dfd69b077b6ba2ffdb930e50e56a3a40/expr.ipynb\"><img src=\"data:image/png;base64,iVBORw0KGgoAAAANSUhEUgAAAJwAAAAVBAMAAABBKZpuAAAAMFBMVEX////c3NwiIiJERESqqqqY\n",
       "mJh2dnZmZmYQEBDu7u4yMjJUVFTMzMyIiIi6uroAAAAs73DqAAAAAXRSTlMAQObYZgAAAn1JREFU\n",
       "OMutVD1oU1EU/pLyXvLSlx9Q6OBgdoV2sCgqJOAmhWZxUEGzdWyqoovQQu3Qpc0iiqJWRaQUbHVR\n",
       "8pAEJ8Eh2UUSXRSXJlULaax6zr33JNfhbQnkvXPud+4593znexcY8i/VGFYmp0WPD9p+J4sX/wbB\n",
       "yZZ4D07dKIxpM1ntBZXTAnyksMqe5bzZx00y1/XKZr/IIhD7Y2x3Cfi6ZJz0GjCdlzBOdcZ2JpGg\n",
       "mrpXZ7xsEH+f/j1te09o1e0YpF6kQl3hiMIQE2eXHpfgFBHXaQ7OZwyUpN3OrrYTyxy7YJBmSxfT\n",
       "5/7NVIjzkx5T8BbwXS80mkLXCO2OLmt7nluLlAySY8ecG4k2XETE6ZJ5HjiG6/q05emCMLSFyFN9\n",
       "5Iii2qsZ5AcGNCA9gXN9utNZ3Ob3DJ4p/yHqopf6209XTOrYL1sHqk+hAdsblU4f2i5hjt9nsaL8\n",
       "Fg5LS80MvCPajHbsdElma1RmPlvDWh+a3XilCP4GBftBUJ0w0AlOqY+XbqtmhVT24jIXElYRQsNm\n",
       "GVuqM50uRXFSi8m5XFRmXKWbGrBFSGFAZMYTgnbgFXS6W/yiAUZNWZ/5qmqxjiqRCQuK3UVbdm7Z\n",
       "kp1udpInmFeDR9nIjifqCfm8R21rUmsj66Z5Jbsxg7hC6AWaLXCPmenC2zGye0+bHmW5tTxSNDIF\n",
       "sOz85zAIV/ePGiTRNulm8AU4sPoYTm6v5K1mEMvRd87iuctT9Suvr/EwCPCu0md+vGaQ+xQWjGcV\n",
       "gju53pxO9wLxjHVXWTY+IwQIR+gjc4rWhWVvKiAECEfcRv+CGkY6nsGhgWvfy0k77r8LOxx5ySoZ\n",
       "2uWerOEfCqu9xlZ7mBAAAAAASUVORK5CYII=\n",
       "\" style=\"display:inline;vertical-align:middle;\" /></a></td></tr>\n",
       "<tr><td>2</td><td>Operation</td><td>operator:&nbsp;9<br>operands:&nbsp;10<br></td><td><a class=\"ProveItLink\" href=\"../63663a7b72ceacc91465702d1bf17dfdd0e39a890/expr.ipynb\"><img src=\"data:image/png;base64,iVBORw0KGgoAAAANSUhEUgAAABUAAAAUBAMAAACQZWsAAAAAMFBMVEX///8iIiIQEBCIiIjMzMzc\n",
       "3Nyqqqp2dnZEREQyMjK6urru7u5mZmZUVFSYmJgAAACI6eGPAAAAAXRSTlMAQObYZgAAAJVJREFU\n",
       "CNdjYIAA7uN2DDDA6eAPZ9cwbIez1eAsBtZvxkdhbJbvDI4gmu/OmX1LfzHwJwDZ8xi4+xm+MPAb\n",
       "MDDwFjAwZDJMY+BfwMAQ78DA4MyQy7AQqGQ9UJ0LA9/x00B2/GcHuNHM//+3wjlxlz5tQNha/wBC\n",
       "8wHxfih7D0h7AISdCcRnoWoPGjAwN0DZF9be7YMyATfOJR8bL2LUAAAAAElFTkSuQmCC\n",
       "\" style=\"display:inline;vertical-align:middle;\" /></a></td></tr>\n",
       "<tr><td>3</td><td>Variable</td><td></td><td><a class=\"ProveItLink\" href=\"../../../../../__pv_it/2cbe72a7ad6f655694dd697106680215e8489b600/expr.ipynb\"><img src=\"data:image/png;base64,iVBORw0KGgoAAAANSUhEUgAAAA8AAAAOBAMAAAACpFvcAAAALVBMVEX///8QEBBERERUVFS6urqI\n",
       "iIhmZmaqqqrc3Nzu7u6YmJgyMjIiIiLMzMwAAADtIaYWAAAAAXRSTlMAQObYZgAAAFtJREFUCNdj\n",
       "YACBOwxQsA9Kc52bAGG05zVAGAFxDmCaZULdAjBjCsO9ADDDgaEvAUTzGhvbKYCVMDAwbgAxChgY\n",
       "eASANAeQwf0AyJgNxEwvGRia5HYwcOm9TgAA6BoR3jrzwFcAAAAASUVORK5CYII=\n",
       "\" style=\"display:inline;vertical-align:middle;\" /></a></td></tr>\n",
       "<tr><td>4</td><td>Variable</td><td></td><td><a class=\"ProveItLink\" href=\"../../../../../__pv_it/077b2ff79244fb4582cbe22c6e3356fa92a52f2f0/expr.ipynb\"><img src=\"data:image/png;base64,iVBORw0KGgoAAAANSUhEUgAAABAAAAAOBAMAAADUAYG5AAAAMFBMVEX///+qqqru7u4iIiJ2dnbc\n",
       "3NyIiIjMzMxmZmYQEBC6uroyMjJERERUVFSYmJgAAADLUcuvAAAAAXRSTlMAQObYZgAAAGpJREFU\n",
       "CNdjYGB4+//u3dMLGIBgDgMDxy8gzf4NiP8CGWxfGRj4vgAZPBMYGJgnARn8FxhY9ygAGfXX0pof\n",
       "gDTlBzAw2YIYJ0EckBBI53sHoBH/gIz7AhBjWH9DjancBLTl/N+7t/cxMAAA3u4f/5xagjYAAAAA\n",
       "SUVORK5CYII=\n",
       "\" style=\"display:inline;vertical-align:middle;\" /></a></td></tr>\n",
       "<tr><td>5</td><td>Variable</td><td></td><td><a class=\"ProveItLink\" href=\"../../../../../__pv_it/985a1bdf1540838275dec15f4ad6de261cca93ce0/expr.ipynb\"><img src=\"data:image/png;base64,iVBORw0KGgoAAAANSUhEUgAAAA8AAAAOBAMAAAACpFvcAAAAMFBMVEX////MzMyqqqoiIiIyMjK6\n",
       "uroQEBB2dnbc3NyYmJhmZmZUVFRERESIiIju7u4AAAB204erAAAAAXRSTlMAQObYZgAAAGZJREFU\n",
       "CNdjYGDgu7NrJccCBgaGsgkMrMsmMDA8sQNy6hsYGNweABlhDAxcn4A0QxcDQ78DiPGQgWH9BAYI\n",
       "sG+AMv6DSaCGfBDNJMDAsB+kmwuI5S8AiTog5gSaEwXWIO29SgFIAQBC+RaDQlidVgAAAABJRU5E\n",
       "rkJggg==\n",
       "\" style=\"display:inline;vertical-align:middle;\" /></a></td></tr>\n",
       "<tr><td>6</td><td>Variable</td><td></td><td><a class=\"ProveItLink\" href=\"../../../../../__pv_it/185e6d30f167ee2ee5ef3321098dc98e0d77bc590/expr.ipynb\"><img src=\"data:image/png;base64,iVBORw0KGgoAAAANSUhEUgAAABEAAAAOBAMAAAA7w+qHAAAALVBMVEX///8QEBCYmJjc3Ny6urru\n",
       "7u5mZmZ2dnaqqqrMzMxEREQyMjJUVFSIiIgAAABETr/8AAAAAXRSTlMAQObYZgAAAGpJREFUCNdj\n",
       "YGC48+7MmV0TGEDgNQMDxwsQg/M5kMgLABK8T4DEvAtAgusBkLA7ACT4FoDEDsAk9AqAxD2QCecc\n",
       "gMQ6kAGCIOIVEDM9Ahn3FkgwgnTxvgQSqwOgxs1OADLC1r05cyoTyAAAv4Qe+njAWvgAAAAASUVO\n",
       "RK5CYII=\n",
       "\" style=\"display:inline;vertical-align:middle;\" /></a></td></tr>\n",
       "<tr><td>7</td><td>Variable</td><td></td><td><a class=\"ProveItLink\" href=\"../../../../../__pv_it/9995c55100c62d7d8a012a35bafc852acbe03cf00/expr.ipynb\"><img src=\"data:image/png;base64,iVBORw0KGgoAAAANSUhEUgAAABAAAAAOBAMAAADUAYG5AAAALVBMVEX///8iIiKYmJjc3Nzu7u7M\n",
       "zMx2dnZmZma6urpERESqqqoyMjJUVFSIiIgAAACbLqVTAAAAAXRSTlMAQObYZgAAAGVJREFUCNdj\n",
       "YGC48+7MmdOvGYAARKwEYo63QIIdiNmeAglfIOZ+wMDGwAxk8E1gUAIpZejbc/oxmJEXwLABzNjH\n",
       "wJDAEABkvGRgMGC5ADWGzQFqjDnEGAZWUQYGn3lvzpyRE2AAAIznGVQJqiN4AAAAAElFTkSuQmCC\n",
       "\" style=\"display:inline;vertical-align:middle;\" /></a></td></tr>\n",
       "<tr><td>8</td><td>Variable</td><td></td><td><a class=\"ProveItLink\" href=\"../../../../../__pv_it/6d1586c49fb5fd7602fde2bbc54560e7304e8ccf0/expr.ipynb\"><img src=\"data:image/png;base64,iVBORw0KGgoAAAANSUhEUgAAABAAAAAOBAMAAADUAYG5AAAAMFBMVEX///9mZmYiIiLc3Nzu7u7M\n",
       "zMyqqqp2dna6urqYmJhEREQyMjIQEBBUVFSIiIgAAABBzvKsAAAAAXRSTlMAQObYZgAAAFxJREFU\n",
       "CNdjYGB4+//u3Tv/GIDgNxCvBGKO70BiBhCzfwMSqUDM/YWBmWEKkMGvwOAJUsrQL8AgDGbU7710\n",
       "AMzY78BwAcz4xMAygQFmDAiw/4AyuD9AaMf1f8GaAdy+F/r2qjhkAAAAAElFTkSuQmCC\n",
       "\" style=\"display:inline;vertical-align:middle;\" /></a></td></tr>\n",
       "<tr><td>9</td><td>Literal</td><td></td><td><a class=\"ProveItLink\" href=\"../../../../../number/exponentiation/__pv_it/deb2bf23cbccdd6e6791e1b35b5b9794ce12dbd50/expr.ipynb\"><img src=\"data:image/png;base64,iVBORw0KGgoAAAANSUhEUgAAACgAAAASBAMAAADbMYGVAAAAMFBMVEX///8QEBAiIiKYmJjc3Nzu\n",
       "7u7MzMx2dnZmZma6urpERESqqqoyMjJUVFSIiIgAAAAoDOMTAAAAAXRSTlMAQObYZgAAAOBJREFU\n",
       "GNNjYGB4+//u3Tt/GNAASGAXmhjnPyDBgSbI/g1IxKEJ8nxgYGdgQRPkX8BgDKRY6q7s62OYvmze\n",
       "2wAgb/7ZO1+AVDiDkYEQQ0HTBr4DQF59AgOIKmB4z7CNbcNZBu6vQN55kEACQwDDLQYGVobfDHwg\n",
       "fb8YGBxYHwAZciD3fWXg+gB1JjvQcJZvQIXsCgz8F6DO9GBgMOH7wPCUgaeBwd4B7EwGNjUG7s9c\n",
       "AiwPgO5jkWRgiF3/9+5dfQUG1nWl5Y+B7pv+1gE9bBhqGLCAE1jEWH9jEbT5A3IwAC4sP/1L6Qlu\n",
       "AAAAAElFTkSuQmCC\n",
       "\" style=\"display:inline;vertical-align:middle;\" /></a></td></tr>\n",
       "<tr><td>10</td><td>ExprTuple</td><td>11, 12</td><td><a class=\"ProveItLink\" href=\"../2745888531489369e2e39e270a4ad29f421015ac0/expr.ipynb\"><img src=\"data:image/png;base64,iVBORw0KGgoAAAANSUhEUgAAAC0AAAAVBAMAAAAgHXppAAAAMFBMVEX////c3NwiIiJERESqqqqY\n",
       "mJh2dnZmZmYQEBDu7u4yMjJUVFTMzMyIiIi6uroAAAAs73DqAAAAAXRSTlMAQObYZgAAASVJREFU\n",
       "GNN1kS9Mw1AQh78BhZXRZQaFGAaHABI01RiqkFCHgYwghqhBgCUzwNxmSABFMJDMzMOSOgxiIEHw\n",
       "RxESKHfXrQlZeMl7735f7n73eoX/VjEeQGt63OrhXO8edY0dVzcZa0twruoUd8lwbpYraIKnNoUQ\n",
       "lo0PhVzAKuRrospS2DG+rpI6POv96sOd8TM7h32qepe/272nfHXuJWd0WzrK8pJk3rD7ETADI00O\n",
       "TU/efJqxm0ClRnGPn55BJUjzpbXPxJtxR3YjSP2Fx8r3RZxo65LxBcsXn0XST4pwla+Yv9NkQ8RO\n",
       "jDdHY1pfHroH9s4nEZcvLSmrv2tBFMn8xrvkS9l4H7NI5uCEmQqyaKs/57/clTkz1VdellBQ79zg\n",
       "f3yAXztIRbal7qGDAAAAAElFTkSuQmCC\n",
       "\" style=\"display:inline;vertical-align:middle;\" /></a></td></tr>\n",
       "<tr><td>11</td><td>Variable</td><td></td><td><a class=\"ProveItLink\" href=\"../../../../../__pv_it/abeee18594afe51bfb1be95d9591fbba24ac53f30/expr.ipynb\"><img src=\"data:image/png;base64,iVBORw0KGgoAAAANSUhEUgAAAA0AAAAOBAMAAAAGUYvhAAAAMFBMVEX///8iIiIQEBCIiIjMzMzc\n",
       "3Nyqqqp2dnZEREQyMjK6urru7u5mZmZUVFSYmJgAAACI6eGPAAAAAXRSTlMAQObYZgAAAF1JREFU\n",
       "CNdjYGDgu3Nm3wIGBoZ5DNz9QIq3gIEhE0jHOzAwOAPp9QkMDC4g/megABAw///fCmbEXfq0Acxg\n",
       "qH8ANAVI7wfSe0BKAyBGnAXigwYMzA1A+sLau31ACgAz0hhbkhGHbwAAAABJRU5ErkJggg==\n",
       "\" style=\"display:inline;vertical-align:middle;\" /></a></td></tr>\n",
       "<tr><td>12</td><td>Literal</td><td></td><td><a class=\"ProveItLink\" href=\"../../../../../number/numeral/__pv_it/09b499e53e24cf89c2513ba78b501f0314edaa680/expr.ipynb\"><img src=\"data:image/png;base64,iVBORw0KGgoAAAANSUhEUgAAAAoAAAAOBAMAAADkjZCYAAAAMFBMVEX///+6urpERESqqqqIiIgQ\n",
       "EBCYmJgyMjJUVFQiIiLc3NzMzMxmZmZ2dnbu7u4AAABf+mkYAAAAAXRSTlMAQObYZgAAAFNJREFU\n",
       "CNdjYOC7c3cDA8PKDRwTGBjmMrAXMLD9YwAC9gAQyV/tcpiB4f00Bs4EhvcfGHj/MbyfwMD2mYEf\n",
       "qOwLAxOYzQwWZ9BleJrAwMDT08gAANMyF0ZGTeKAAAAAAElFTkSuQmCC\n",
       "\" style=\"display:inline;vertical-align:middle;\" /></a></td></tr>\n",
       "</table>\n"
      ],
      "text/plain": [
       "0. ((A , B , C , D , E , F) , S^{6})\n",
       "   core type: ExprTuple\n",
       "   sub-expressions: 1, 2\n",
       "1. (A , B , C , D , E , F)\n",
       "   core type: ExprTuple\n",
       "   sub-expressions: 3, 4, 5, 6, 7, 8\n",
       "2. S^{6}\n",
       "   core type: Operation\n",
       "   operator: 9\n",
       "   operands: 10\n",
       "3. A\n",
       "   core type: Variable\n",
       "   sub-expressions: \n",
       "4. B\n",
       "   core type: Variable\n",
       "   sub-expressions: \n",
       "5. C\n",
       "   core type: Variable\n",
       "   sub-expressions: \n",
       "6. D\n",
       "   core type: Variable\n",
       "   sub-expressions: \n",
       "7. E\n",
       "   core type: Variable\n",
       "   sub-expressions: \n",
       "8. F\n",
       "   core type: Variable\n",
       "   sub-expressions: \n",
       "9. Exp\n",
       "   core type: Literal\n",
       "   sub-expressions: \n",
       "10. (S , 6)\n",
       "    core type: ExprTuple\n",
       "    sub-expressions: 11, 12\n",
       "11. S\n",
       "    core type: Variable\n",
       "    sub-expressions: \n",
       "12. 6\n",
       "    core type: Literal\n",
       "    sub-expressions: "
      ]
     },
     "execution_count": 4,
     "metadata": {},
     "output_type": "execute_result"
    }
   ],
   "source": [
    "# display the expression information\n",
    "expr.exprInfo()"
   ]
  },
  {
   "cell_type": "code",
   "execution_count": null,
   "metadata": {},
   "outputs": [],
   "source": []
  }
 ],
 "metadata": {
  "kernelspec": {
   "display_name": "Python 3",
   "language": "python",
   "name": "python3"
  }
 },
 "nbformat": 4,
 "nbformat_minor": 0
}
