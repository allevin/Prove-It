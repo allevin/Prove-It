{
 "cells": [
  {
   "cell_type": "markdown",
   "metadata": {},
   "source": [
    "Show the Proof\n",
    "========"
   ]
  },
  {
   "cell_type": "code",
   "execution_count": 1,
   "metadata": {},
   "outputs": [
    {
     "data": {
      "text/html": [
       "<table><tr><th>&nbsp;</th><th>step type</th><th>requirements</th><th>statement</th></tr>\n",
       "<tr><td>0</td><td>assumption</td><td></td><td><span style=\"font-size:20px;\"><a class=\"ProveItLink\" href=\"../b0d24bd07f3cd41824583c2a68a7aae03e11dd850/expr.ipynb\"><img src=\"data:image/png;base64,iVBORw0KGgoAAAANSUhEUgAAAEsAAAAVBAMAAAD85A5eAAAAMFBMVEX////c3NxERESqqqpUVFS6\n",
       "urrMzMwyMjIQEBCIiIh2dnYiIiLu7u5mZmaYmJgAAABXZE4RAAAAAXRSTlMAQObYZgAAAVlJREFU\n",
       "KM9jYGDgu8eAD7CtEgBRPLsY8AO2ZhDJ+QFE+H9xcVfDUPHk7p2nDAzXQUyuBhDJX8DAYG+Apor9\n",
       "AcMhoCErEMryFzAw8P5BU+bFwMBcgKJsfgDQET/BkjzTd+8uADEYvwHFJqAo0wcJfwErS38DNYz1\n",
       "M1BZAoqyTyAvgZUx6sDsZPw/DUyDlfGCLADbx/cLxGcSgLtt/v9PIM57EDsjABQgQGcwsHwF8Q8h\n",
       "vMD4pL8H5OELDAwpbWAjQIHHAbY+YvduqBdALvoHItUfAIUTQMGmADL8AUgsBW4YkMsDUsa9AGQV\n",
       "SGc+0N8MTWDJ0zBVPEC7GD/C3Ma1AeRYoJFMNWBZlgdQZaCQ5XVgQA4QYLCx1UIN2QpVxruTgWES\n",
       "A5Iynkv/XVx0E6DS4tcgNAuri9MDBhTTUIBJNdynDHiUoQOwMj6CysDpjWcnodTbCqb4FhPOCwCh\n",
       "g1tOHS4SGgAAAABJRU5ErkJggg==\n",
       "\" style=\"display:inline;vertical-align:middle;\" /></a> <a class=\"ProveItLink\" href=\"proof.ipynb\" style=\"text-decoration: none\">&#x22A2;&nbsp;</a><a class=\"ProveItLink\" href=\"../bef117ba3fe3b5f5778176d0b632b203570cc4470/expr.ipynb\"><img src=\"data:image/png;base64,iVBORw0KGgoAAAANSUhEUgAAADkAAAAPBAMAAACsFXoGAAAAMFBMVEX///8iIiIQEBCYmJjc3Ny6\n",
       "urru7u5mZmZ2dnaqqqrMzMxEREQyMjJUVFSIiIgAAABUCcz6AAAAAXRSTlMAQObYZgAAAO5JREFU\n",
       "GNNjYGB4+//u3dMLGNAA8/Xy5AAQ4w8DA+dPdNnDDGz7QTTXDyBRn4AqydvAwDAHxOD7CiTWPwAL\n",
       "5h0UlAEz/IFWrQMxuD+AeBfAxhyGGRE/gYFhFYjBvwGkFyzrDTff/x/UnWBD7RtAzC1we/n+/4dw\n",
       "3oNU3Qe5nm0DwlnOlz6BDQI7XAlEsCoKCkJdBQT9BiDyN8jvn8GOugAPCyDOB8ly/QMSTGAz2QRg\n",
       "sukghzmA7P8FJPZAHHsZJgsKiFqYd9cUQAQTA6CyhQ8Y+EDGpe//e/d2FVSQ5TjUlxdi725mwACc\n",
       "dxBuBgIAANVDQl26J+gAAAAASUVORK5CYII=\n",
       "\" style=\"display:inline;vertical-align:middle;\" /></a></span></td></tr>\n",
       "</table>"
      ],
      "text/plain": [
       "<proveit._core_.proof._ShowProof at 0x7f94eb66bdd8>"
      ]
     },
     "execution_count": 1,
     "metadata": {},
     "output_type": "execute_result"
    }
   ],
   "source": [
    "import proveit\n",
    "%show_proof"
   ]
  },
  {
   "cell_type": "code",
   "execution_count": null,
   "metadata": {},
   "outputs": [],
   "source": []
  }
 ],
 "metadata": {
  "kernelspec": {
   "display_name": "Python 3",
   "language": "python",
   "name": "python3"
  }
 },
 "nbformat": 4,
 "nbformat_minor": 0
}
