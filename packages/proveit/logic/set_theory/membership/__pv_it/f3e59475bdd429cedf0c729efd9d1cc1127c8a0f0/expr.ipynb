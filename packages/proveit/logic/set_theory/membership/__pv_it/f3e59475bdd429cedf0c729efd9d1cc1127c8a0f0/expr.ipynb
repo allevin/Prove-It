{
 "cells": [
  {
   "cell_type": "markdown",
   "metadata": {},
   "source": [
    "Expression of type <a class=\"ProveItLink\" href=\"../../../../../../../doc/html/api/proveit.logic.InSet.html\">InSet</a>\n",
    "=======================\n",
    "# from context <a class=\"ProveItLink\" href=\"../../_context_.ipynb\">proveit.logic.set_theory.membership</a>"
   ]
  },
  {
   "cell_type": "code",
   "execution_count": 1,
   "metadata": {},
   "outputs": [],
   "source": [
    "# import Expression classes needed to build the expression\n",
    "from proveit._common_ import E, S\n",
    "from proveit.logic import InSet"
   ]
  },
  {
   "cell_type": "code",
   "execution_count": 2,
   "metadata": {},
   "outputs": [
    {
     "data": {
      "text/html": [
       "<strong id=\"expr\">expr:</strong> <a class=\"ProveItLink\" href=\"expr.ipynb\"><img src=\"data:image/png;base64,iVBORw0KGgoAAAANSUhEUgAAADgAAAAPBAMAAABD1xE4AAAAMFBMVEX///8QEBAiIiKYmJjc3Nzu\n",
       "7u7MzMx2dnZmZma6urpERESqqqoyMjJUVFSIiIgAAAAoDOMTAAAAAXRSTlMAQObYZgAAAPJJREFU\n",
       "GNNjYGB4+//u3Tt/GNCAbUerJYgGSexCk+MxYIj6AKQ5/wEJDjTJ6wwM3AeANPs3IBEHFoo7pKQD\n",
       "ZrAAxdgegEz4wMDOwAISYjscANXI+RvISwAy+BcwGEOEvGByDCz/n0EY88/e+QJhLUHY+f7/LwcQ\n",
       "XZ/AcAAswLoAIcliKy8Kos8zMBQwgMznFFJSgjoI5M7PIPIXA4MDK8hlbBfgGg2A5nyGeZMd5BRW\n",
       "BZgcawPQ4C8wb3qAxS7DJEH+57gA8SYDmxpYLGgCVJJDj4HhFZCOXf/37l19iIEsJxIgkrycd28Z\n",
       "oEcF9x2Ea4EAAJ5RPAAo1A5YAAAAAElFTkSuQmCC\n",
       "\" style=\"display:inline;vertical-align:middle;\" /></a><br>"
      ],
      "text/plain": [
       "expr: E in S"
      ]
     },
     "execution_count": 2,
     "metadata": {},
     "output_type": "execute_result"
    }
   ],
   "source": [
    "# build up the expression from sub-expressions\n",
    "expr = InSet(E, S)"
   ]
  },
  {
   "cell_type": "code",
   "execution_count": 3,
   "metadata": {},
   "outputs": [
    {
     "name": "stdout",
     "output_type": "stream",
     "text": [
      "Passed sanity check: built 'expr' is the same as the stored Expression.\n"
     ]
    }
   ],
   "source": [
    "# check that the built expression is the same as the stored expression\n",
    "%check_expr"
   ]
  },
  {
   "cell_type": "code",
   "execution_count": 4,
   "metadata": {},
   "outputs": [
    {
     "data": {
      "text/html": [
       "<table><tr><th>&nbsp;</th><th>core type</th><th>sub-expressions</th><th>expression</th></tr>\n",
       "<tr><td>0</td><td>Operation</td><td>operator:&nbsp;1<br>operands:&nbsp;2<br></td><td><a class=\"ProveItLink\" href=\"expr.ipynb\"><img src=\"data:image/png;base64,iVBORw0KGgoAAAANSUhEUgAAADgAAAAPBAMAAABD1xE4AAAAMFBMVEX///8QEBAiIiKYmJjc3Nzu\n",
       "7u7MzMx2dnZmZma6urpERESqqqoyMjJUVFSIiIgAAAAoDOMTAAAAAXRSTlMAQObYZgAAAPJJREFU\n",
       "GNNjYGB4+//u3Tt/GNCAbUerJYgGSexCk+MxYIj6AKQ5/wEJDjTJ6wwM3AeANPs3IBEHFoo7pKQD\n",
       "ZrAAxdgegEz4wMDOwAISYjscANXI+RvISwAy+BcwGEOEvGByDCz/n0EY88/e+QJhLUHY+f7/LwcQ\n",
       "XZ/AcAAswLoAIcliKy8Kos8zMBQwgMznFFJSgjoI5M7PIPIXA4MDK8hlbBfgGg2A5nyGeZMd5BRW\n",
       "BZgcawPQ4C8wb3qAxS7DJEH+57gA8SYDmxpYLGgCVJJDj4HhFZCOXf/37l19iIEsJxIgkrycd28Z\n",
       "oEcF9x2Ea4EAAJ5RPAAo1A5YAAAAAElFTkSuQmCC\n",
       "\" style=\"display:inline;vertical-align:middle;\" /></a></td></tr>\n",
       "<tr><td>1</td><td>Literal</td><td></td><td><a class=\"ProveItLink\" href=\"../088cbc857536a28d4119ad9639a84270ccb0545d0/expr.ipynb\"><img src=\"data:image/png;base64,iVBORw0KGgoAAAANSUhEUgAAAAwAAAAMBAMAAACkW0HUAAAALVBMVEX///+qqqpmZmZUVFQQEBC6\n",
       "urpERETc3NyYmJjMzMwiIiIyMjKIiIju7u4AAACYsrA9AAAAAXRSTlMAQObYZgAAADxJREFUCNdj\n",
       "YOA9vWrVBgaG2b0MQMCeCyIZ2ArA1DUwyRCyahVIyWQI7xaEYm4AU7xLIdxqTQgtvGvVBgCkcQ7e\n",
       "geM/tQAAAABJRU5ErkJggg==\n",
       "\" style=\"display:inline;vertical-align:middle;\" /></a></td></tr>\n",
       "<tr><td>2</td><td>ExprTuple</td><td>3, 4</td><td><a class=\"ProveItLink\" href=\"../51e53cf13af64fad9281a56c87046f8751de7ebe0/expr.ipynb\"><img src=\"data:image/png;base64,iVBORw0KGgoAAAANSUhEUgAAADQAAAAVBAMAAAD7ptBLAAAAMFBMVEX////c3NwiIiJERESqqqqY\n",
       "mJh2dnZmZmYQEBDu7u4yMjJUVFTMzMyIiIi6uroAAAAs73DqAAAAAXRSTlMAQObYZgAAATVJREFU\n",
       "KM9jYMAD+C5gE2V9ACROA/Ht/7t37/oFE44ur4xjqAEyVoJ4IGFnqAxXAMPkDwxcDAy8IPP4/gIJ\n",
       "dqjUNgYGlgUMrAkMHBOAPLY/QGIuRIYRyOa5wMDZwPAKbMYHBjYGRqizvgClDjAwmDCUgbj8Bgyh\n",
       "MEcw/r8DptMZloKo96t3fYS7+/7/zwJAyouhD8TLP8CwAC7FGN3fCaReMPwD8dYzMCQwHIBLsn0F\n",
       "EuchUp8ZGAQ4oaESwMDACZFqgXmLbQJYhrMAaORHsIGmMG+JMzCAJIG+ZWDfAGREAd0I9hYDjw4D\n",
       "5ydQmOgyMFyGOP4RA8Ns+9+7d+srMHD2Ax3Nzbd7cwBIah0DhwBS/CCxgQEFDEZEJCFFGNsFaKRg\n",
       "Ss0CYmkEFzm+N4LCBWsC4D3AAAB1FUyZfJkHngAAAABJRU5ErkJggg==\n",
       "\" style=\"display:inline;vertical-align:middle;\" /></a></td></tr>\n",
       "<tr><td>3</td><td>Variable</td><td></td><td><a class=\"ProveItLink\" href=\"../../../../../__pv_it/9995c55100c62d7d8a012a35bafc852acbe03cf00/expr.ipynb\"><img src=\"data:image/png;base64,iVBORw0KGgoAAAANSUhEUgAAABAAAAAOBAMAAADUAYG5AAAALVBMVEX///8iIiKYmJjc3Nzu7u7M\n",
       "zMx2dnZmZma6urpERESqqqoyMjJUVFSIiIgAAACbLqVTAAAAAXRSTlMAQObYZgAAAGVJREFUCNdj\n",
       "YGC48+7MmdOvGYAARKwEYo63QIIdiNmeAglfIOZ+wMDGwAxk8E1gUAIpZejbc/oxmJEXwLABzNjH\n",
       "wJDAEABkvGRgMGC5ADWGzQFqjDnEGAZWUQYGn3lvzpyRE2AAAIznGVQJqiN4AAAAAElFTkSuQmCC\n",
       "\" style=\"display:inline;vertical-align:middle;\" /></a></td></tr>\n",
       "<tr><td>4</td><td>Variable</td><td></td><td><a class=\"ProveItLink\" href=\"../../../../../__pv_it/abeee18594afe51bfb1be95d9591fbba24ac53f30/expr.ipynb\"><img src=\"data:image/png;base64,iVBORw0KGgoAAAANSUhEUgAAAA0AAAAOBAMAAAAGUYvhAAAAMFBMVEX///8iIiIQEBCIiIjMzMzc\n",
       "3Nyqqqp2dnZEREQyMjK6urru7u5mZmZUVFSYmJgAAACI6eGPAAAAAXRSTlMAQObYZgAAAF1JREFU\n",
       "CNdjYGDgu3Nm3wIGBoZ5DNz9QIq3gIEhE0jHOzAwOAPp9QkMDC4g/megABAw///fCmbEXfq0Acxg\n",
       "qH8ANAVI7wfSe0BKAyBGnAXigwYMzA1A+sLau31ACgAz0hhbkhGHbwAAAABJRU5ErkJggg==\n",
       "\" style=\"display:inline;vertical-align:middle;\" /></a></td></tr>\n",
       "</table>\n"
      ],
      "text/plain": [
       "0. E in S\n",
       "   core type: Operation\n",
       "   operator: 1\n",
       "   operands: 2\n",
       "1. in\n",
       "   core type: Literal\n",
       "   sub-expressions: \n",
       "2. (E , S)\n",
       "   core type: ExprTuple\n",
       "   sub-expressions: 3, 4\n",
       "3. E\n",
       "   core type: Variable\n",
       "   sub-expressions: \n",
       "4. S\n",
       "   core type: Variable\n",
       "   sub-expressions: "
      ]
     },
     "execution_count": 4,
     "metadata": {},
     "output_type": "execute_result"
    }
   ],
   "source": [
    "# display the expression information\n",
    "expr.exprInfo()"
   ]
  },
  {
   "cell_type": "code",
   "execution_count": null,
   "metadata": {},
   "outputs": [],
   "source": []
  }
 ],
 "metadata": {
  "kernelspec": {
   "display_name": "Python 3",
   "language": "python",
   "name": "python3"
  }
 },
 "nbformat": 4,
 "nbformat_minor": 0
}
