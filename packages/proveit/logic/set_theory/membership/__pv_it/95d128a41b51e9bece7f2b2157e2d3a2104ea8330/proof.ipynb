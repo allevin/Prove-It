{
 "cells": [
  {
   "cell_type": "markdown",
   "metadata": {},
   "source": [
    "Show the Proof\n",
    "========"
   ]
  },
  {
   "cell_type": "code",
   "execution_count": 1,
   "metadata": {},
   "outputs": [
    {
     "data": {
      "text/html": [
       "<table><tr><th>&nbsp;</th><th>step type</th><th>requirements</th><th>statement</th></tr>\n",
       "<tr><td>0</td><td>assumption</td><td></td><td><span style=\"font-size:20px;\"><a class=\"ProveItLink\" href=\"../e432d5f4675c8d9a131d650047bdab70b2cff6c80/expr.ipynb\"><img src=\"data:image/png;base64,iVBORw0KGgoAAAANSUhEUgAAAE0AAAAVBAMAAADx+n4ZAAAAMFBMVEX////c3NxERESqqqpUVFS6\n",
       "urrMzMwyMjIQEBCIiIh2dnYiIiLu7u5mZmaYmJgAAABXZE4RAAAAAXRSTlMAQObYZgAAAVdJREFU\n",
       "KM9jYGDgu8eAF7CtEgBRPLsYCAC2ZhDJ+QFETvmve+DJf10BNCVP7t55ysBwHcTkagCLfAfi3+gm\n",
       "sT9gOAQ0ZgVCHetPoPl/0dV5MTAwF6Co4/oGdMFniOzJ6t3bwQxGoCDbBBR17EDjmf5AnF13AGoc\n",
       "K1AjWwKKOn4FIN4AlhWCKWNg/D8NTIPV8RaAyPgSFxf9C2BRRYT75v//BAqB9yB2RgCIXA80fr4B\n",
       "ODwVEOoYn/T3gBwFNCClDSxSD8T6YAtZu3fvhvoD5Kp/IFL9AQNDRAKI9QkahECHO8CNA8rygNRx\n",
       "LwASLAWw4PsFluTZAFPGA7SO8SPMfVwbYMH3FSLtB1MHCmJeBwbkcEEKPobTAVB1vDsZGCYxIKs7\n",
       "q/9lAq//lwUQT9YmQNSxsLo4PUBRhwqY3RH+ZcCjDgOA1fERVgdOfzw7CabnVjDFt5iI/AEAr25i\n",
       "AJSAb00AAAAASUVORK5CYII=\n",
       "\" style=\"display:inline;vertical-align:middle;\" /></a> <a class=\"ProveItLink\" href=\"proof.ipynb\" style=\"text-decoration: none\">&#x22A2;&nbsp;</a><a class=\"ProveItLink\" href=\"../9b8286f524e828b3bec53bceff12a9d2f88bd2a50/expr.ipynb\"><img src=\"data:image/png;base64,iVBORw0KGgoAAAANSUhEUgAAADoAAAAPBAMAAABHIsEFAAAAMFBMVEX///8QEBCqqqp2dnbMzMy6\n",
       "uroiIiIyMjLc3NyYmJju7u5mZmZERERUVFSIiIgAAADpO3mLAAAAAXRSTlMAQObYZgAAAPdJREFU\n",
       "GNNjYGB4+//0grn/TzcwoIK5u3dNBdHfgfgbmhwD+wSGNR+ANOs/BgaW3+iylxkYmAqANPMXBga+\n",
       "TxCxdWVp6WAGB1CQ5QHIDKABPL/AYiyVC6BaWYHKWRyADP4DQJwAFuuBSTJw/H8CYcTX3r17fgOY\n",
       "eQJh7/v/f8C+sAca8F4BxOI6gJDlmCsvBaLrgfg82EhWsbQ0qKtArv0JIv9AvQx0xgW41glAk37C\n",
       "vPsZLMSVAJPkArqD4wfMu18hgjdhsqCA4L6A6l2GZQFQWe48BoY3QHr1+b8PuO//NYA4tNoBIsvL\n",
       "evfOBPTAZWC6jnAzEAAAvjhJ/Ln5CocAAAAASUVORK5CYII=\n",
       "\" style=\"display:inline;vertical-align:middle;\" /></a></span></td></tr>\n",
       "</table>"
      ],
      "text/plain": [
       "<proveit._core_.proof._ShowProof at 0x7f94ebaf7c88>"
      ]
     },
     "execution_count": 1,
     "metadata": {},
     "output_type": "execute_result"
    }
   ],
   "source": [
    "import proveit\n",
    "%show_proof"
   ]
  },
  {
   "cell_type": "code",
   "execution_count": null,
   "metadata": {},
   "outputs": [],
   "source": []
  }
 ],
 "metadata": {
  "kernelspec": {
   "display_name": "Python 3",
   "language": "python",
   "name": "python3"
  }
 },
 "nbformat": 4,
 "nbformat_minor": 0
}
