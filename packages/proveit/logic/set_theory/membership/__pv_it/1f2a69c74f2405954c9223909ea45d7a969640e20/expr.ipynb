{
 "cells": [
  {
   "cell_type": "markdown",
   "metadata": {},
   "source": [
    "Expression of type <a class=\"ProveItLink\" href=\"../../../../../../../doc/html/api/proveit.logic.InSet.html\">InSet</a>\n",
    "=======================\n",
    "# from context <a class=\"ProveItLink\" href=\"../../_context_.ipynb\">proveit.logic.set_theory.membership</a>"
   ]
  },
  {
   "cell_type": "code",
   "execution_count": 1,
   "metadata": {},
   "outputs": [],
   "source": [
    "# import Expression classes needed to build the expression\n",
    "from proveit._common_ import S, a, b, c, d, e, f\n",
    "from proveit.logic import InSet\n",
    "from proveit.number import Exp, six"
   ]
  },
  {
   "cell_type": "code",
   "execution_count": 2,
   "metadata": {},
   "outputs": [
    {
     "data": {
      "text/html": [
       "<strong id=\"expr\">expr:</strong> <a class=\"ProveItLink\" href=\"expr.ipynb\"><img src=\"data:image/png;base64,iVBORw0KGgoAAAANSUhEUgAAAKoAAAAZBAMAAABTBqhqAAAAMFBMVEX////c3NwiIiJERESqqqqY\n",
       "mJh2dnZmZmYQEBDu7u4yMjJUVFTMzMyIiIi6uroAAAAs73DqAAAAAXRSTlMAQObYZgAAArRJREFU\n",
       "SMe1VU2IUlEU/l7z/Hn6dIQWs3Ax5qKBIDCoZSQto8hNBA2Ei8BNhtOi6A8aiaJFM1JQQ0MoAxJS\n",
       "hEO/TEhCyxYjBA1M42S1mSIYG5UhUKf7zr3vafNMaTDB5+fnud+555zvXoG+v+5FQ/0XxWO13H9R\n",
       "a0wJ91/VHvwP9WP4yIIHcBe2ttpS6szPh1Uf8K6dmo53iPt6w0QpuVlcNkeOnr9wcriEKpD5g3/U\n",
       "KX3VxAycqsFhYh0h3CkP5tGAq9BDgPXol4lKfgvCYhr1C0BOOYJowp7oIcC84jNRR7UuXOX4wYx/\n",
       "FwGpDqgFOev24XsvAVZYzESd1R57CappfV9uVqiax/FIAue0JLkz40Ig91Ect7vRJQ68H1aFA4ei\n",
       "Y/pU4i/ZM0J4u1GstLGkwzR7r3gGxCFLBlDnO5jADN/AOA7wdfIODOmrGtrjEME9rQo+bVQ8HE2w\n",
       "HDXYAqJfCVwnMFXAPm7qEC4Ke5cMM0mUeoU8FmipSqOTNzlqAs4ytgknMIF1Am/0SAZ2cvTqWFHs\n",
       "BDKVNk+1xP1+MS1tLjVDdTCAZJ5/G4Gb8xU9rgKlydH65qGSqpo1WDYRRaheY6UVmFMSwq428pbU\n",
       "0ItqsI0prV6KQ5BtdcBwjcKsIv3kmHUvGcScnKelddjDlIDltGhAqcKZOkzULcAFnsBODTtB+Lmu\n",
       "KqcAm9h5RDto8ogVSS3pM1yCssYAc85pAmkcjIUJLUIZ41FIlmA467Z+y9h2A+8F/qLZdfntMqa0\n",
       "zU8vhKBMsqHYosUEAW/xx/4SIeuVIngUVqlfT3iPHoqZON2vn+r/LXZ9rvhsHFvPZtCGKGoRbSdW\n",
       "nmt5wLgmw20jFJQJtCEWZcmSla3dLubMP6vaM9Tc+93udK/4dBlMwQRaSIuyRKgfs91UpS3+w7jy\n",
       "f//tN3kEtVCtzdxKAAAAAElFTkSuQmCC\n",
       "\" style=\"display:inline;vertical-align:middle;\" /></a><br>"
      ],
      "text/plain": [
       "expr: (a , b , c , d , e , f) in S^{6}"
      ]
     },
     "execution_count": 2,
     "metadata": {},
     "output_type": "execute_result"
    }
   ],
   "source": [
    "# build up the expression from sub-expressions\n",
    "expr = InSet([a, b, c, d, e, f], Exp(S, six))"
   ]
  },
  {
   "cell_type": "code",
   "execution_count": 3,
   "metadata": {},
   "outputs": [
    {
     "name": "stdout",
     "output_type": "stream",
     "text": [
      "Passed sanity check: built 'expr' is the same as the stored Expression.\n"
     ]
    }
   ],
   "source": [
    "# check that the built expression is the same as the stored expression\n",
    "%check_expr"
   ]
  },
  {
   "cell_type": "code",
   "execution_count": 4,
   "metadata": {},
   "outputs": [
    {
     "data": {
      "text/html": [
       "<table><tr><th>&nbsp;</th><th>core type</th><th>sub-expressions</th><th>expression</th></tr>\n",
       "<tr><td>0</td><td>Operation</td><td>operator:&nbsp;1<br>operands:&nbsp;2<br></td><td><a class=\"ProveItLink\" href=\"expr.ipynb\"><img src=\"data:image/png;base64,iVBORw0KGgoAAAANSUhEUgAAAKoAAAAZBAMAAABTBqhqAAAAMFBMVEX////c3NwiIiJERESqqqqY\n",
       "mJh2dnZmZmYQEBDu7u4yMjJUVFTMzMyIiIi6uroAAAAs73DqAAAAAXRSTlMAQObYZgAAArRJREFU\n",
       "SMe1VU2IUlEU/l7z/Hn6dIQWs3Ax5qKBIDCoZSQto8hNBA2Ei8BNhtOi6A8aiaJFM1JQQ0MoAxJS\n",
       "hEO/TEhCyxYjBA1M42S1mSIYG5UhUKf7zr3vafNMaTDB5+fnud+555zvXoG+v+5FQ/0XxWO13H9R\n",
       "a0wJ91/VHvwP9WP4yIIHcBe2ttpS6szPh1Uf8K6dmo53iPt6w0QpuVlcNkeOnr9wcriEKpD5g3/U\n",
       "KX3VxAycqsFhYh0h3CkP5tGAq9BDgPXol4lKfgvCYhr1C0BOOYJowp7oIcC84jNRR7UuXOX4wYx/\n",
       "FwGpDqgFOev24XsvAVZYzESd1R57CappfV9uVqiax/FIAue0JLkz40Ig91Ect7vRJQ68H1aFA4ei\n",
       "Y/pU4i/ZM0J4u1GstLGkwzR7r3gGxCFLBlDnO5jADN/AOA7wdfIODOmrGtrjEME9rQo+bVQ8HE2w\n",
       "HDXYAqJfCVwnMFXAPm7qEC4Ke5cMM0mUeoU8FmipSqOTNzlqAs4ytgknMIF1Am/0SAZ2cvTqWFHs\n",
       "BDKVNk+1xP1+MS1tLjVDdTCAZJ5/G4Gb8xU9rgKlydH65qGSqpo1WDYRRaheY6UVmFMSwq428pbU\n",
       "0ItqsI0prV6KQ5BtdcBwjcKsIv3kmHUvGcScnKelddjDlIDltGhAqcKZOkzULcAFnsBODTtB+Lmu\n",
       "KqcAm9h5RDto8ogVSS3pM1yCssYAc85pAmkcjIUJLUIZ41FIlmA467Z+y9h2A+8F/qLZdfntMqa0\n",
       "zU8vhKBMsqHYosUEAW/xx/4SIeuVIngUVqlfT3iPHoqZON2vn+r/LXZ9rvhsHFvPZtCGKGoRbSdW\n",
       "nmt5wLgmw20jFJQJtCEWZcmSla3dLubMP6vaM9Tc+93udK/4dBlMwQRaSIuyRKgfs91UpS3+w7jy\n",
       "f//tN3kEtVCtzdxKAAAAAElFTkSuQmCC\n",
       "\" style=\"display:inline;vertical-align:middle;\" /></a></td></tr>\n",
       "<tr><td>1</td><td>Literal</td><td></td><td><a class=\"ProveItLink\" href=\"../088cbc857536a28d4119ad9639a84270ccb0545d0/expr.ipynb\"><img src=\"data:image/png;base64,iVBORw0KGgoAAAANSUhEUgAAAAwAAAAMBAMAAACkW0HUAAAALVBMVEX///+qqqpmZmZUVFQQEBC6\n",
       "urpERETc3NyYmJjMzMwiIiIyMjKIiIju7u4AAACYsrA9AAAAAXRSTlMAQObYZgAAADxJREFUCNdj\n",
       "YOA9vWrVBgaG2b0MQMCeCyIZ2ArA1DUwyRCyahVIyWQI7xaEYm4AU7xLIdxqTQgtvGvVBgCkcQ7e\n",
       "geM/tQAAAABJRU5ErkJggg==\n",
       "\" style=\"display:inline;vertical-align:middle;\" /></a></td></tr>\n",
       "<tr><td>2</td><td>ExprTuple</td><td>3, 4</td><td><a class=\"ProveItLink\" href=\"../c1838de6f194de1b74d519dc012c6adab52e42490/expr.ipynb\"><img src=\"data:image/png;base64,iVBORw0KGgoAAAANSUhEUgAAAK4AAAAcBAMAAAAKIJmjAAAAMFBMVEX///+qqqp2dnYiIiJERESI\n",
       "iIhmZmYQEBDc3NyYmJgyMjLu7u5UVFTMzMy6uroAAACGxKilAAAAAXRSTlMAQObYZgAAAuxJREFU\n",
       "SMe1Vl1Ik1EYfrT256eb0J0UrYt5F0lQeBPYRZAQOIwVhYJoxcgCSwohqF2UUAz8im6CiEUQSF0M\n",
       "LxqFsAWpFYFCdFc0qEjox1nOHOHsfd/vd38sZB74vu8573vOc97zvO85G1DbpvQfw0a0hrmPBvxZ\n",
       "S95WTAB+Rk2pWvKe49d7fj2L15DWvRgKA44gwVfc/7JOnntF/aZfeEufdlphqFiLyeEyBJ8vlqZ+\n",
       "6iWcc1bfM33q6XwevmagB3D2cRYLtHhcLrLFEsvmHTkgZvXHoXRhFT4SIRmHK02mUBUKwPu3xJT8\n",
       "RpHdMruNVAUtuA8fEW5SIeV2qQoFUN9WYtrOr4TZHSNJ3mErPhF2duAoM8WqUJBSfSWmARGj2egu\n",
       "EPoAT/8gS53Ba6bnQo52f41oFFM9qjZ0ItCrgWj3gj5/NBDWee4OT3MQ5npj2Tn7lg8xE/F4R9Cl\n",
       "69ZB6kvRXMYDbRj5tMzWtWPUmJwVg7lVx9raQbPcVvGQPpy7MRUndN3iOC8gEUSnFoqK03pQaZw1\n",
       "joAs7h0yg7w+88coK3cee+nDKZwF9mhGolgWMGvMILBbQzN3QhHdWJeRyDI2xXepRmkvmrxLULTd\n",
       "k8WbE7BkjCdfXkPLxek1eT2soGrFy4fA1Qx3lgJQ9PJ1SqW5s8Yoy5e1HYtUgQ5PWKWIpdELHqJy\n",
       "5I2xbWCBVuHyC8hxFHHYfRcoP9CWcAUlTM4be1roOWPWwwoO68Uyji19fuU39Z6TXwDV0U4Blu84\n",
       "lDCSokAyDX2qeAaCcHSYV0UGC0xPA6OhHwfSyhXayeQRCp+BMxCKC7B89SfpyCdW5BxI8huIXTyp\n",
       "7286Le1j8HE1j5gbiFQENjQPCd08x5bHOJ1BuS6s28NTGdgQpd2T0qILFHqMKymCpjb7PfnfvK5H\n",
       "IrISK8t7m579XBfGvR5ERWAhB1O1yt4bI4Vj9LaPnhsMrq3zd6i3rNXDl1Gdv+Z/Iq7K+2bNeQex\n",
       "Ye0fVlnNSxQdwusAAAAASUVORK5CYII=\n",
       "\" style=\"display:inline;vertical-align:middle;\" /></a></td></tr>\n",
       "<tr><td>3</td><td>ExprTuple</td><td>5, 6, 7, 8, 9, 10</td><td><a class=\"ProveItLink\" href=\"../c118d3751cf5232bba9e27453d6de1f0cb66513b0/expr.ipynb\"><img src=\"data:image/png;base64,iVBORw0KGgoAAAANSUhEUgAAAHgAAAAVBAMAAAB/IDdlAAAAMFBMVEX////c3NwiIiJERESqqqqY\n",
       "mJh2dnZmZmYQEBDu7u4yMjJUVFTMzMyIiIi6uroAAAAs73DqAAAAAXRSTlMAQObYZgAAAeRJREFU\n",
       "OMulVD1IG2EYfhLzdwmXu93Bbh26ZGil0CV0dMlNHRQhdGi2ch2aqVAL6lCwBikoOiSLFBEkDkIQ\n",
       "hIMuhQ5ep1JKQtopdDH1Z3AJvt/73nGHlxjRD+67h+f9+77nfe+Ae628e7e4ZJe27yFCaz0Ykv2p\n",
       "HeG2fpt4R++dMJltDqlhFCPUdMlCFtDdMX7ASe06ow0+07nLyNRu9qP1MsIk+irDAv6N8aP1JcKk\n",
       "WZrHqNIeO3r9Qdjd9oF3sFdthwHZzoWKVX+antCtR0rDCrZp75kTfQk5gyEx37pZEZ5slxLy3Iz5\n",
       "shss1Aw+UcoLpAtyl0tkypxlBRMWlyNbQwoPkHa84CkGPQyAXB9x0Zz8DM6e63tuylYWtDT/w79z\n",
       "ifdjFWwUUJeccRsnXNAo+AckW1eQfV3XYyzSIVxKVfPa/J7BlN/9kC00EM9EDjwB6kUcJhxNOThY\n",
       "BgOqbykQ2DIU7EoerPA+S3ojayUeplAndXPFdFOAjZSjQGDTG1g3tVMZMA6u4K9qZedrBxv/iT16\n",
       "Cwaotn8xCGyotF1oq6rVeWneHjKmf5E/o0GA8spd5+bReCbLPm+NBgFK0jMnI5ByQ5/krYM/rjHc\n",
       "pGfSo3WMBCGk+vXiDcN9NXZ3/A3pDq4ALN2GHWHhsXYAAAAASUVORK5CYII=\n",
       "\" style=\"display:inline;vertical-align:middle;\" /></a></td></tr>\n",
       "<tr><td>4</td><td>Operation</td><td>operator:&nbsp;11<br>operands:&nbsp;12<br></td><td><a class=\"ProveItLink\" href=\"../63663a7b72ceacc91465702d1bf17dfdd0e39a890/expr.ipynb\"><img src=\"data:image/png;base64,iVBORw0KGgoAAAANSUhEUgAAABUAAAAUBAMAAACQZWsAAAAAMFBMVEX///8iIiIQEBCIiIjMzMzc\n",
       "3Nyqqqp2dnZEREQyMjK6urru7u5mZmZUVFSYmJgAAACI6eGPAAAAAXRSTlMAQObYZgAAAJVJREFU\n",
       "CNdjYIAA7uN2DDDA6eAPZ9cwbIez1eAsBtZvxkdhbJbvDI4gmu/OmX1LfzHwJwDZ8xi4+xm+MPAb\n",
       "MDDwFjAwZDJMY+BfwMAQ78DA4MyQy7AQqGQ9UJ0LA9/x00B2/GcHuNHM//+3wjlxlz5tQNha/wBC\n",
       "8wHxfih7D0h7AISdCcRnoWoPGjAwN0DZF9be7YMyATfOJR8bL2LUAAAAAElFTkSuQmCC\n",
       "\" style=\"display:inline;vertical-align:middle;\" /></a></td></tr>\n",
       "<tr><td>5</td><td>Variable</td><td></td><td><a class=\"ProveItLink\" href=\"../../../../../__pv_it/07527342713064c87612d00d8557c53d53d5324a0/expr.ipynb\"><img src=\"data:image/png;base64,iVBORw0KGgoAAAANSUhEUgAAAAsAAAAJBAMAAAAWSsseAAAAMFBMVEX///8yMjKqqqrMzMzu7u4i\n",
       "IiJmZmaYmJhEREQQEBC6urp2dnaIiIhUVFTc3NwAAAD87Fq/AAAAAXRSTlMAQObYZgAAAEhJREFU\n",
       "CNdjYOC7s2seAwPDygccHxgY+L4zsDUwMPB+YGA9wMDA38Dgb8DA8P4Agz6DA4O/AsNFJgMGxgKm\n",
       "MG6gyjunLE4xAAAZTBA5TB6DCwAAAABJRU5ErkJggg==\n",
       "\" style=\"display:inline;vertical-align:middle;\" /></a></td></tr>\n",
       "<tr><td>6</td><td>Variable</td><td></td><td><a class=\"ProveItLink\" href=\"../../../../../__pv_it/6840a4fa6c106149dc16a131294d0c5e44f1b0480/expr.ipynb\"><img src=\"data:image/png;base64,iVBORw0KGgoAAAANSUhEUgAAAAkAAAAOBAMAAAAPuiubAAAALVBMVEX///9mZmbMzMxERESYmJiI\n",
       "iIh2dna6urqqqqoyMjIiIiIQEBBUVFTu7u4AAAD9S1JeAAAAAXRSTlMAQObYZgAAAE1JREFUCNdj\n",
       "4D29gAEIOA+ASL4GEFl3AURmgQiGOaFHGBh4HzPwKTBwvGXgTmBgnMDAJ8DAJcBQ5wBSLncBJLWN\n",
       "gYGngRFoBO9REQYGAGrcDtUkVqASAAAAAElFTkSuQmCC\n",
       "\" style=\"display:inline;vertical-align:middle;\" /></a></td></tr>\n",
       "<tr><td>7</td><td>Variable</td><td></td><td><a class=\"ProveItLink\" href=\"../../../../../__pv_it/cbdfda466482236edba0ce44ac7ef39cda0af7a40/expr.ipynb\"><img src=\"data:image/png;base64,iVBORw0KGgoAAAANSUhEUgAAAAkAAAAJBAMAAAASvxsjAAAALVBMVEX///9mZmbc3NxUVFSYmJhE\n",
       "REQiIiIyMjK6uroQEBDMzMyIiIh2dnbu7u4AAABgFDGoAAAAAXRSTlMAQObYZgAAADZJREFUCNdj\n",
       "YOA9s3sBA8PKBvYEBt7ZDKwODMwPGICALwBE6m0Asx0YGIDiAgw8QJUyu/cyAAAmuwmycZ8WfQAA\n",
       "AABJRU5ErkJggg==\n",
       "\" style=\"display:inline;vertical-align:middle;\" /></a></td></tr>\n",
       "<tr><td>8</td><td>Variable</td><td></td><td><a class=\"ProveItLink\" href=\"../../../../../__pv_it/3a5de44ed6135dbbdbbeec6704c741e238f127300/expr.ipynb\"><img src=\"data:image/png;base64,iVBORw0KGgoAAAANSUhEUgAAAAsAAAAOBAMAAAALT/umAAAAMFBMVEX////MzMyYmJiIiIhUVFTc\n",
       "3NwyMjIiIiJ2dnbu7u6qqqpmZmYQEBBERES6uroAAABkyy6XAAAAAXRSTlMAQObYZgAAAFhJREFU\n",
       "CNdjYGBg4LuzgQEE+BeAqfcTwFQ7mGTIBmJW575fQOpNAO9PIOcTA3cCAwPLBwb2BqCeCwzzHzAw\n",
       "xBswrGeYwDB/AYMblwADmwJXNQdIm52sHQMAfyoTCZukXIEAAAAASUVORK5CYII=\n",
       "\" style=\"display:inline;vertical-align:middle;\" /></a></td></tr>\n",
       "<tr><td>9</td><td>Variable</td><td></td><td><a class=\"ProveItLink\" href=\"../../../../../__pv_it/0bc0f4a545336331111a0b22c4f05a0627b57b8f0/expr.ipynb\"><img src=\"data:image/png;base64,iVBORw0KGgoAAAANSUhEUgAAAAkAAAAJBAMAAAASvxsjAAAALVBMVEX////u7u4yMjKYmJgQEBBU\n",
       "VFTMzMy6uroiIiKqqqqIiIh2dnZmZmbc3NwAAAAyj3LLAAAAAXRSTlMAQObYZgAAADlJREFUCNdj\n",
       "YOA9veYCA8OMC7wHGHifM/AkMLA6W61lYOA7wAAEfAtAJAuQXMDApcAgA1S5Z9UCBgB6Cgz1W65k\n",
       "FgAAAABJRU5ErkJggg==\n",
       "\" style=\"display:inline;vertical-align:middle;\" /></a></td></tr>\n",
       "<tr><td>10</td><td>Variable</td><td></td><td><a class=\"ProveItLink\" href=\"../../../../../__pv_it/4d51ee1e62d011d06d4528b97697bf3da60c9de60/expr.ipynb\"><img src=\"data:image/png;base64,iVBORw0KGgoAAAANSUhEUgAAAAsAAAASBAMAAAB/WzlGAAAAMFBMVEX///8yMjLMzMwQEBAiIiJm\n",
       "Zma6urqYmJiqqqp2dnZERETc3NyIiIhUVFTu7u4AAAAe+HC4AAAAAXRSTlMAQObYZgAAAFVJREFU\n",
       "CNdjYGBgeHt2A5BkWNlfACT5vr0AcTg+gEgGVgcQyX7ZNwBE8x8AC+5XAFP9YJJhCoRaC6FswCTf\n",
       "NzDF9g9M8QiAyFoukPEMhk/AYpXRIBIAEwsRcZ82juYAAAAASUVORK5CYII=\n",
       "\" style=\"display:inline;vertical-align:middle;\" /></a></td></tr>\n",
       "<tr><td>11</td><td>Literal</td><td></td><td><a class=\"ProveItLink\" href=\"../../../../../number/exponentiation/__pv_it/deb2bf23cbccdd6e6791e1b35b5b9794ce12dbd50/expr.ipynb\"><img src=\"data:image/png;base64,iVBORw0KGgoAAAANSUhEUgAAACgAAAASBAMAAADbMYGVAAAAMFBMVEX///8QEBAiIiKYmJjc3Nzu\n",
       "7u7MzMx2dnZmZma6urpERESqqqoyMjJUVFSIiIgAAAAoDOMTAAAAAXRSTlMAQObYZgAAAOBJREFU\n",
       "GNNjYGB4+//u3Tt/GNAASGAXmhjnPyDBgSbI/g1IxKEJ8nxgYGdgQRPkX8BgDKRY6q7s62OYvmze\n",
       "2wAgb/7ZO1+AVDiDkYEQQ0HTBr4DQF59AgOIKmB4z7CNbcNZBu6vQN55kEACQwDDLQYGVobfDHwg\n",
       "fb8YGBxYHwAZciD3fWXg+gB1JjvQcJZvQIXsCgz8F6DO9GBgMOH7wPCUgaeBwd4B7EwGNjUG7s9c\n",
       "AiwPgO5jkWRgiF3/9+5dfQUG1nWl5Y+B7pv+1gE9bBhqGLCAE1jEWH9jEbT5A3IwAC4sP/1L6Qlu\n",
       "AAAAAElFTkSuQmCC\n",
       "\" style=\"display:inline;vertical-align:middle;\" /></a></td></tr>\n",
       "<tr><td>12</td><td>ExprTuple</td><td>13, 14</td><td><a class=\"ProveItLink\" href=\"../2745888531489369e2e39e270a4ad29f421015ac0/expr.ipynb\"><img src=\"data:image/png;base64,iVBORw0KGgoAAAANSUhEUgAAAC0AAAAVBAMAAAAgHXppAAAAMFBMVEX////c3NwiIiJERESqqqqY\n",
       "mJh2dnZmZmYQEBDu7u4yMjJUVFTMzMyIiIi6uroAAAAs73DqAAAAAXRSTlMAQObYZgAAASVJREFU\n",
       "GNN1kS9Mw1AQh78BhZXRZQaFGAaHABI01RiqkFCHgYwghqhBgCUzwNxmSABFMJDMzMOSOgxiIEHw\n",
       "RxESKHfXrQlZeMl7735f7n73eoX/VjEeQGt63OrhXO8edY0dVzcZa0twruoUd8lwbpYraIKnNoUQ\n",
       "lo0PhVzAKuRrospS2DG+rpI6POv96sOd8TM7h32qepe/272nfHXuJWd0WzrK8pJk3rD7ETADI00O\n",
       "TU/efJqxm0ClRnGPn55BJUjzpbXPxJtxR3YjSP2Fx8r3RZxo65LxBcsXn0XST4pwla+Yv9NkQ8RO\n",
       "jDdHY1pfHroH9s4nEZcvLSmrv2tBFMn8xrvkS9l4H7NI5uCEmQqyaKs/57/clTkz1VdellBQ79zg\n",
       "f3yAXztIRbal7qGDAAAAAElFTkSuQmCC\n",
       "\" style=\"display:inline;vertical-align:middle;\" /></a></td></tr>\n",
       "<tr><td>13</td><td>Variable</td><td></td><td><a class=\"ProveItLink\" href=\"../../../../../__pv_it/abeee18594afe51bfb1be95d9591fbba24ac53f30/expr.ipynb\"><img src=\"data:image/png;base64,iVBORw0KGgoAAAANSUhEUgAAAA0AAAAOBAMAAAAGUYvhAAAAMFBMVEX///8iIiIQEBCIiIjMzMzc\n",
       "3Nyqqqp2dnZEREQyMjK6urru7u5mZmZUVFSYmJgAAACI6eGPAAAAAXRSTlMAQObYZgAAAF1JREFU\n",
       "CNdjYGDgu3Nm3wIGBoZ5DNz9QIq3gIEhE0jHOzAwOAPp9QkMDC4g/megABAw///fCmbEXfq0Acxg\n",
       "qH8ANAVI7wfSe0BKAyBGnAXigwYMzA1A+sLau31ACgAz0hhbkhGHbwAAAABJRU5ErkJggg==\n",
       "\" style=\"display:inline;vertical-align:middle;\" /></a></td></tr>\n",
       "<tr><td>14</td><td>Literal</td><td></td><td><a class=\"ProveItLink\" href=\"../../../../../number/numeral/__pv_it/09b499e53e24cf89c2513ba78b501f0314edaa680/expr.ipynb\"><img src=\"data:image/png;base64,iVBORw0KGgoAAAANSUhEUgAAAAoAAAAOBAMAAADkjZCYAAAAMFBMVEX///+6urpERESqqqqIiIgQ\n",
       "EBCYmJgyMjJUVFQiIiLc3NzMzMxmZmZ2dnbu7u4AAABf+mkYAAAAAXRSTlMAQObYZgAAAFNJREFU\n",
       "CNdjYOC7c3cDA8PKDRwTGBjmMrAXMLD9YwAC9gAQyV/tcpiB4f00Bs4EhvcfGHj/MbyfwMD2mYEf\n",
       "qOwLAxOYzQwWZ9BleJrAwMDT08gAANMyF0ZGTeKAAAAAAElFTkSuQmCC\n",
       "\" style=\"display:inline;vertical-align:middle;\" /></a></td></tr>\n",
       "</table>\n"
      ],
      "text/plain": [
       "0. (a , b , c , d , e , f) in S^{6}\n",
       "   core type: Operation\n",
       "   operator: 1\n",
       "   operands: 2\n",
       "1. in\n",
       "   core type: Literal\n",
       "   sub-expressions: \n",
       "2. ((a , b , c , d , e , f) , S^{6})\n",
       "   core type: ExprTuple\n",
       "   sub-expressions: 3, 4\n",
       "3. (a , b , c , d , e , f)\n",
       "   core type: ExprTuple\n",
       "   sub-expressions: 5, 6, 7, 8, 9, 10\n",
       "4. S^{6}\n",
       "   core type: Operation\n",
       "   operator: 11\n",
       "   operands: 12\n",
       "5. a\n",
       "   core type: Variable\n",
       "   sub-expressions: \n",
       "6. b\n",
       "   core type: Variable\n",
       "   sub-expressions: \n",
       "7. c\n",
       "   core type: Variable\n",
       "   sub-expressions: \n",
       "8. d\n",
       "   core type: Variable\n",
       "   sub-expressions: \n",
       "9. e\n",
       "   core type: Variable\n",
       "   sub-expressions: \n",
       "10. f\n",
       "    core type: Variable\n",
       "    sub-expressions: \n",
       "11. Exp\n",
       "    core type: Literal\n",
       "    sub-expressions: \n",
       "12. (S , 6)\n",
       "    core type: ExprTuple\n",
       "    sub-expressions: 13, 14\n",
       "13. S\n",
       "    core type: Variable\n",
       "    sub-expressions: \n",
       "14. 6\n",
       "    core type: Literal\n",
       "    sub-expressions: "
      ]
     },
     "execution_count": 4,
     "metadata": {},
     "output_type": "execute_result"
    }
   ],
   "source": [
    "# display the expression information\n",
    "expr.exprInfo()"
   ]
  },
  {
   "cell_type": "code",
   "execution_count": null,
   "metadata": {},
   "outputs": [],
   "source": []
  }
 ],
 "metadata": {
  "kernelspec": {
   "display_name": "Python 3",
   "language": "python",
   "name": "python3"
  }
 },
 "nbformat": 4,
 "nbformat_minor": 0
}
