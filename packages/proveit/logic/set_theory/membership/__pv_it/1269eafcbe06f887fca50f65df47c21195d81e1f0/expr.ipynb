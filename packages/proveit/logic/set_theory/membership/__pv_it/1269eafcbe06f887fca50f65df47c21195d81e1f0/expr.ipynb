{
 "cells": [
  {
   "cell_type": "markdown",
   "metadata": {},
   "source": [
    "Expression of type <a class=\"ProveItLink\" href=\"../../../../../../../doc/html/api/proveit.logic.InSet.html\">InSet</a>\n",
    "=======================\n",
    "# from context <a class=\"ProveItLink\" href=\"../../_context_.ipynb\">proveit.logic.set_theory.membership</a>"
   ]
  },
  {
   "cell_type": "code",
   "execution_count": 1,
   "metadata": {},
   "outputs": [],
   "source": [
    "# import Expression classes needed to build the expression\n",
    "from proveit._common_ import S, x\n",
    "from proveit.logic import Booleans, InSet, Not"
   ]
  },
  {
   "cell_type": "code",
   "execution_count": 2,
   "metadata": {},
   "outputs": [
    {
     "data": {
      "text/html": [
       "<strong id=\"expr\">expr:</strong> <a class=\"ProveItLink\" href=\"expr.ipynb\"><img src=\"data:image/png;base64,iVBORw0KGgoAAAANSUhEUgAAAIkAAAAVBAMAAACArtDCAAAAMFBMVEX////c3NwiIiJERESqqqqY\n",
       "mJh2dnZmZmYQEBDu7u4yMjJUVFTMzMyIiIi6uroAAAAs73DqAAAAAXRSTlMAQObYZgAAAg9JREFU\n",
       "OMtjYKAO4LuAxHmLWx3rAwjGDk4jsXk2YFcTXV4Zx1ADZNSgSWR9Xr9C2QHIWIkkyDUBqyFcAQyT\n",
       "PzBwgVjoUgZvOVemMTDwInvoLnanbGNgYFnAwJrAAMZopjDcAxrNgWx9J7ICzltKSgtADMY/QL9e\n",
       "YOBsYABjEJi7SEkLZoor9wSGV8gBvQDZlFORMOEvQFMOMDCYMEAwkLd0ApJbhBkYypD0sQPdy5i7\n",
       "0bcW7AJLmDDj/ztgOh2KGRiEJyB8xKMKVLgUNRQZpjEEBTSBOMwCcPH7/z+DOF5QzMBgiAiXR/o/\n",
       "gCHbB3SCEggA3cEBTA4JDPcZfEDykxGmM0b3g0LsBRQzcBogh+5dZwaGf0hJhR9oygSGzRCBFyCj\n",
       "YQHF9hVInIdiBr4moBQ8dJn5EjBMYWDoRU+NQH9yopiClDhBpjAYMLQgmcLhAIlXTpDAJHiMFwAF\n",
       "P6L4SAHdFFMkU5iBtgbyfmC4CRLgDoDKABMcAzvI9igoZmDYimIK0EfpMD4wQbAVMLB8ZW5gBCdn\n",
       "Tj1Y/OsyMFxGjelJD5BMCQdKPkJOdQoMnLaZaVchPClo1uPm270Z7K51UAz04PID8Nxo1A0MBw4B\n",
       "JGMaUfKI9yIl5MSMnANYdkHjCFZsIOevMHwFEdsFCMYKiCgZIGAWFGMF0khsxg14TNkIxVgBI7Ij\n",
       "ZXEbwnsAgrEBAEV1im3XEPk7AAAAAElFTkSuQmCC\n",
       "\" style=\"display:inline;vertical-align:middle;\" /></a><br>"
      ],
      "text/plain": [
       "expr: [not](x in S) in BOOLEANS"
      ]
     },
     "execution_count": 2,
     "metadata": {},
     "output_type": "execute_result"
    }
   ],
   "source": [
    "# build up the expression from sub-expressions\n",
    "expr = InSet(Not(InSet(x, S)), Booleans)"
   ]
  },
  {
   "cell_type": "code",
   "execution_count": 3,
   "metadata": {},
   "outputs": [
    {
     "name": "stdout",
     "output_type": "stream",
     "text": [
      "Passed sanity check: built 'expr' is the same as the stored Expression.\n"
     ]
    }
   ],
   "source": [
    "# check that the built expression is the same as the stored expression\n",
    "%check_expr"
   ]
  },
  {
   "cell_type": "code",
   "execution_count": 4,
   "metadata": {},
   "outputs": [
    {
     "data": {
      "text/html": [
       "<table><tr><th>&nbsp;</th><th>core type</th><th>sub-expressions</th><th>expression</th></tr>\n",
       "<tr><td>0</td><td>Operation</td><td>operator:&nbsp;6<br>operands:&nbsp;1<br></td><td><a class=\"ProveItLink\" href=\"expr.ipynb\"><img src=\"data:image/png;base64,iVBORw0KGgoAAAANSUhEUgAAAIkAAAAVBAMAAACArtDCAAAAMFBMVEX////c3NwiIiJERESqqqqY\n",
       "mJh2dnZmZmYQEBDu7u4yMjJUVFTMzMyIiIi6uroAAAAs73DqAAAAAXRSTlMAQObYZgAAAg9JREFU\n",
       "OMtjYKAO4LuAxHmLWx3rAwjGDk4jsXk2YFcTXV4Zx1ADZNSgSWR9Xr9C2QHIWIkkyDUBqyFcAQyT\n",
       "PzBwgVjoUgZvOVemMTDwInvoLnanbGNgYFnAwJrAAMZopjDcAxrNgWx9J7ICzltKSgtADMY/QL9e\n",
       "YOBsYABjEJi7SEkLZoor9wSGV8gBvQDZlFORMOEvQFMOMDCYMEAwkLd0ApJbhBkYypD0sQPdy5i7\n",
       "0bcW7AJLmDDj/ztgOh2KGRiEJyB8xKMKVLgUNRQZpjEEBTSBOMwCcPH7/z+DOF5QzMBgiAiXR/o/\n",
       "gCHbB3SCEggA3cEBTA4JDPcZfEDykxGmM0b3g0LsBRQzcBogh+5dZwaGf0hJhR9oygSGzRCBFyCj\n",
       "YQHF9hVInIdiBr4moBQ8dJn5EjBMYWDoRU+NQH9yopiClDhBpjAYMLQgmcLhAIlXTpDAJHiMFwAF\n",
       "P6L4SAHdFFMkU5iBtgbyfmC4CRLgDoDKABMcAzvI9igoZmDYimIK0EfpMD4wQbAVMLB8ZW5gBCdn\n",
       "Tj1Y/OsyMFxGjelJD5BMCQdKPkJOdQoMnLaZaVchPClo1uPm270Z7K51UAz04PID8Nxo1A0MBw4B\n",
       "JGMaUfKI9yIl5MSMnANYdkHjCFZsIOevMHwFEdsFCMYKiCgZIGAWFGMF0khsxg14TNkIxVgBI7Ij\n",
       "ZXEbwnsAgrEBAEV1im3XEPk7AAAAAElFTkSuQmCC\n",
       "\" style=\"display:inline;vertical-align:middle;\" /></a></td></tr>\n",
       "<tr><td>1</td><td>ExprTuple</td><td>2, 3</td><td><a class=\"ProveItLink\" href=\"../0895d2e489b9c3c6e3cfe7471251256ed4fc0ccb0/expr.ipynb\"><img src=\"data:image/png;base64,iVBORw0KGgoAAAANSUhEUgAAAHsAAAAVBAMAAACUF4xmAAAAMFBMVEX////c3NwiIiJERESqqqqY\n",
       "mJh2dnZmZmYQEBDu7u4yMjJUVFTMzMyIiIi6uroAAAAs73DqAAAAAXRSTlMAQObYZgAAAeRJREFU\n",
       "OMullE8oBGEUwN+2O8zanTUHHGhbTSknjaJwsWcOtpRy0d6cNnLggEIuDtjIn1xMysHJHhRykaM/\n",
       "tQdR/mQ5SCTiIsV635ud2bdr2pSpbXd++37fe/O99w3AP69Akt08FwjscQRHDPgTzqa0PbSQKt7P\n",
       "3BVttnxONAAQ2GBhJXFnfR28rQCGdesOJFcWowQUXvu1s+3D0DaALqYrKYOAzBNOccl7oWlmwhBW\n",
       "eQKwzHRPZJfAI99Fg+uH3davlzDAMVphlv1WJzDIhGIsEiouy87FA7mabR76ol0r6s/qB51xAut8\n",
       "5yJYclSqkatFjGpzJZ2uxy+PYetaetoEM5hUExdmllO4IiivHpFsnq1bvvOByQJjrPhTncA3a3kp\n",
       "6l7w6QQexJr2ZvRhYf7XrA76PYF8HWswW5kdJwk/q790N4FJpsvhTJtEM+dsfUlANbd40hE0Mt2N\n",
       "KST1BhSh+yKWjhMDw6IK8ShxVjyCXito3+xMR6QJgjQ1ddY/A0lQ9EzjvG+mLo3qBO742GDD5s8W\n",
       "Y2beypEMTjztUY0lYmdnVXFk3mu3TCCrzB/PGfX2NS1nDGloA2oOkKIsoKvgmyFmtYGDvxxY8wgZ\n",
       "eTqBKhbhShTQfVR2Mg+4+IEPFtCvHMAPHK+ABiFOSv4AAAAASUVORK5CYII=\n",
       "\" style=\"display:inline;vertical-align:middle;\" /></a></td></tr>\n",
       "<tr><td>2</td><td>Operation</td><td>operator:&nbsp;4<br>operand:&nbsp;5<br></td><td><a class=\"ProveItLink\" href=\"../48c335c446b0ba530a3872178982bb5601e356af0/expr.ipynb\"><img src=\"data:image/png;base64,iVBORw0KGgoAAAANSUhEUgAAAFIAAAAVBAMAAAAnX6R8AAAAMFBMVEX////c3NxERESqqqqYmJgQ\n",
       "EBDu7u4yMjKIiIi6urpUVFTMzMx2dnYiIiJmZmYAAABjE816AAAAAXRSTlMAQObYZgAAAUlJREFU\n",
       "KM9jYCAHzMAtxTIBmce9ALsqr3fPPBleI4uwJ2BVyO7AkPSBgR1ZqAO7kWsYGJgLGFgOIAmFIctn\n",
       "1N69DmYw/ga6q4GBLQAhx1mA7OYSmFM4PwN5GxgYlBGSfEDzGU8stHgB4gjB3cz4vxtMn0NxOUMO\n",
       "g69DLIijiBDv//9JAEiZM7y9CwR3gExWYJAdYOhnsAay2RQQKhm94kE+mArh7QJifqDKBIZFEMfF\n",
       "ArVfh6nl+QIk9qOqZGCIQI8EoJvY0FSyGkDChA1k+wWYQrYHQMGPqLYzAXU7cnxgaAMJLIGpBAY6\n",
       "Ax/IBndo8IFc84CB+QtTAGMDSCAXliL4bjAwNKGFEucFBjaNY2daIB6u2wAR5eJctcgBxKhEipdA\n",
       "5NhkXo7wO9i9SLHJ4IMv7fI0EE51EJCOzGFcgEflQhSeBG6FHBsYABC2Tqwmj+voAAAAAElFTkSu\n",
       "QmCC\n",
       "\" style=\"display:inline;vertical-align:middle;\" /></a></td></tr>\n",
       "<tr><td>3</td><td>Literal</td><td></td><td><a class=\"ProveItLink\" href=\"../../../../boolean/__pv_it/46271c8230be96415d662709611f4ed2279d702b0/expr.ipynb\"><img src=\"data:image/png;base64,iVBORw0KGgoAAAANSUhEUgAAAA0AAAAOBAMAAAAGUYvhAAAAMFBMVEX///9mZmbMzMzc3NxUVFSY\n",
       "mJju7u6IiIi6urqqqqoiIiIQEBBEREQyMjJ2dnYAAAAQvcRZAAAAAXRSTlMAQObYZgAAAElJREFU\n",
       "CNdjePvn/u01ExgYGA60s117B6YZKngh9FSWBAjfBsxnWnoMRHet/10AkS+fA6F5OB5AaIYDqDRU\n",
       "PLCGgQFoz6ktExgAgLIl8DFvGtkAAAAASUVORK5CYII=\n",
       "\" style=\"display:inline;vertical-align:middle;\" /></a></td></tr>\n",
       "<tr><td>4</td><td>Literal</td><td></td><td><a class=\"ProveItLink\" href=\"../../../../boolean/negation/__pv_it/7bea79645543c2413aa17e787cca04e21046fde60/expr.ipynb\"><img src=\"data:image/png;base64,iVBORw0KGgoAAAANSUhEUgAAAAwAAAAGBAMAAAAFwGKyAAAAFVBMVEX///9UVFTMzMx2dnYiIiJm\n",
       "ZmYAAACWz4ZEAAAAAXRSTlMAQObYZgAAABRJREFUCNdjCHEBAmcGMFDEQzEBAEl+Ai6uYJv/AAAA\n",
       "AElFTkSuQmCC\n",
       "\" style=\"display:inline;vertical-align:middle;\" /></a></td></tr>\n",
       "<tr><td>5</td><td>Operation</td><td>operator:&nbsp;6<br>operands:&nbsp;7<br></td><td><a class=\"ProveItLink\" href=\"../269dcb9abf61389766c1a70edd07ce806798e9270/expr.ipynb\"><img src=\"data:image/png;base64,iVBORw0KGgoAAAANSUhEUgAAADMAAAAPBAMAAAC7N+rPAAAAMFBMVEX///+6uroyMjJERETMzMwQ\n",
       "EBAiIiKYmJju7u5mZmaqqqpUVFSIiIh2dnbc3NwAAAAWgogoAAAAAXRSTlMAQObYZgAAAM1JREFU\n",
       "GNNjYMAG2HfObBfAKsOgzsBhj12G+wIDwyIUkR61tCQw470DA4MPsgyLegOUJb+AgcEFSL89/erk\n",
       "AZDAY5gMw/s/DiCK4wJ7OmsCiGUH18/z/z+Iw8vA84ELpIjDAGH2861fgUZwMHBDxBjD0tKgzgCC\n",
       "+wUgkvUAxBUb4B4G4v4CqFNBDuBIgEl1ggQfAJU8OM/AA3bbdpgUyLezgXh9gSnDG7BIGyzUph1g\n",
       "4AHZ33y29w7YXAY+TQeI1Abp3eZoQce1CeFCIAAAnqEy768c/WoAAAAASUVORK5CYII=\n",
       "\" style=\"display:inline;vertical-align:middle;\" /></a></td></tr>\n",
       "<tr><td>6</td><td>Literal</td><td></td><td><a class=\"ProveItLink\" href=\"../088cbc857536a28d4119ad9639a84270ccb0545d0/expr.ipynb\"><img src=\"data:image/png;base64,iVBORw0KGgoAAAANSUhEUgAAAAwAAAAMBAMAAACkW0HUAAAALVBMVEX///+qqqpmZmZUVFQQEBC6\n",
       "urpERETc3NyYmJjMzMwiIiIyMjKIiIju7u4AAACYsrA9AAAAAXRSTlMAQObYZgAAADxJREFUCNdj\n",
       "YOA9vWrVBgaG2b0MQMCeCyIZ2ArA1DUwyRCyahVIyWQI7xaEYm4AU7xLIdxqTQgtvGvVBgCkcQ7e\n",
       "geM/tQAAAABJRU5ErkJggg==\n",
       "\" style=\"display:inline;vertical-align:middle;\" /></a></td></tr>\n",
       "<tr><td>7</td><td>ExprTuple</td><td>8, 9</td><td><a class=\"ProveItLink\" href=\"../75ea65b79fca5a7e0a4b0a55cd46edaf622a0d8e0/expr.ipynb\"><img src=\"data:image/png;base64,iVBORw0KGgoAAAANSUhEUgAAAC8AAAAVBAMAAAAk6KpUAAAAMFBMVEX////c3NwiIiJERESqqqqY\n",
       "mJh2dnZmZmYQEBDu7u4yMjJUVFTMzMyIiIi6uroAAAAs73DqAAAAAXRSTlMAQObYZgAAARhJREFU\n",
       "KM9jYMAJ+C5gisWBiNOoYqzby6c+YD8AZK1ElVjKwGnPwLCAgYEX1STuBAYGLwaGMAYGjgkoEvJA\n",
       "Q84yMMxgYHiFatJ7BwaGMwwMzA4MZUCe2G2R61AT5f+C7GVgKwBaxsCZwKrKoQCR4P3/3xBIsSxg\n",
       "6ANKM/B+YDkANUt0xw+grXwNDP+AOhi4DZCsyQ9gYOD5AJIAOg3mZlYgng+RaIE6EuLq6SCOANgo\n",
       "U6AygfsMvBPAUkC/MVSDdC5gSGdg8A+wYJBl4PwEFCi6wMBrAHHuIwaGydem5QYwcPYDjdjwercp\n",
       "yEiuBwwcAvDwF0C4DBgkrAkMSC6CgVzkYEeS4AQGO4M0jIcU/twgUxmxRO0dBgYA4X0+BGW7KnUA\n",
       "AAAASUVORK5CYII=\n",
       "\" style=\"display:inline;vertical-align:middle;\" /></a></td></tr>\n",
       "<tr><td>8</td><td>Variable</td><td></td><td><a class=\"ProveItLink\" href=\"../../../../../__pv_it/530be409e3083890784cf1d7b28c9e67e90af9360/expr.ipynb\"><img src=\"data:image/png;base64,iVBORw0KGgoAAAANSUhEUgAAAAsAAAAJBAMAAAAWSsseAAAAKlBMVEX///9ERETMzMwQEBAiIiKY\n",
       "mJju7u5mZmaqqqpUVFSIiIh2dnbc3NwAAAA/vyDhAAAAAXRSTlMAQObYZgAAAENJREFUCNdjYDi9\n",
       "8sTyBQxsG1hdmR0YuBm4LnAoMLAxcAowgADzAjB1VoEhgYH1wFoGrgSG3gBhhlMMDImrs3cFMAAA\n",
       "t0YN+iTRa+sAAAAASUVORK5CYII=\n",
       "\" style=\"display:inline;vertical-align:middle;\" /></a></td></tr>\n",
       "<tr><td>9</td><td>Variable</td><td></td><td><a class=\"ProveItLink\" href=\"../../../../../__pv_it/abeee18594afe51bfb1be95d9591fbba24ac53f30/expr.ipynb\"><img src=\"data:image/png;base64,iVBORw0KGgoAAAANSUhEUgAAAA0AAAAOBAMAAAAGUYvhAAAAMFBMVEX///8iIiIQEBCIiIjMzMzc\n",
       "3Nyqqqp2dnZEREQyMjK6urru7u5mZmZUVFSYmJgAAACI6eGPAAAAAXRSTlMAQObYZgAAAF1JREFU\n",
       "CNdjYGDgu3Nm3wIGBoZ5DNz9QIq3gIEhE0jHOzAwOAPp9QkMDC4g/megABAw///fCmbEXfq0Acxg\n",
       "qH8ANAVI7wfSe0BKAyBGnAXigwYMzA1A+sLau31ACgAz0hhbkhGHbwAAAABJRU5ErkJggg==\n",
       "\" style=\"display:inline;vertical-align:middle;\" /></a></td></tr>\n",
       "</table>\n"
      ],
      "text/plain": [
       "0. [not](x in S) in BOOLEANS\n",
       "   core type: Operation\n",
       "   operator: 6\n",
       "   operands: 1\n",
       "1. ([not](x in S) , BOOLEANS)\n",
       "   core type: ExprTuple\n",
       "   sub-expressions: 2, 3\n",
       "2. [not](x in S)\n",
       "   core type: Operation\n",
       "   operator: 4\n",
       "   operand: 5\n",
       "3. BOOLEANS\n",
       "   core type: Literal\n",
       "   sub-expressions: \n",
       "4. not\n",
       "   core type: Literal\n",
       "   sub-expressions: \n",
       "5. x in S\n",
       "   core type: Operation\n",
       "   operator: 6\n",
       "   operands: 7\n",
       "6. in\n",
       "   core type: Literal\n",
       "   sub-expressions: \n",
       "7. (x , S)\n",
       "   core type: ExprTuple\n",
       "   sub-expressions: 8, 9\n",
       "8. x\n",
       "   core type: Variable\n",
       "   sub-expressions: \n",
       "9. S\n",
       "   core type: Variable\n",
       "   sub-expressions: "
      ]
     },
     "execution_count": 4,
     "metadata": {},
     "output_type": "execute_result"
    }
   ],
   "source": [
    "# display the expression information\n",
    "expr.exprInfo()"
   ]
  },
  {
   "cell_type": "code",
   "execution_count": null,
   "metadata": {},
   "outputs": [],
   "source": []
  }
 ],
 "metadata": {
  "kernelspec": {
   "display_name": "Python 3",
   "language": "python",
   "name": "python3"
  }
 },
 "nbformat": 4,
 "nbformat_minor": 0
}
