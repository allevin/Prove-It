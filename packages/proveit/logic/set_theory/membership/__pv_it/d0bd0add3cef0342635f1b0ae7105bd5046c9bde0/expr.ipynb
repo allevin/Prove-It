{
 "cells": [
  {
   "cell_type": "markdown",
   "metadata": {},
   "source": [
    "Expression of type <a class=\"ProveItLink\" href=\"../../../../../../../doc/html/api/proveit.logic.Set.html\">Set</a>\n",
    "=======================\n",
    "# from context <a class=\"ProveItLink\" href=\"../../_context_.ipynb\">proveit.logic.set_theory.membership</a>"
   ]
  },
  {
   "cell_type": "code",
   "execution_count": 1,
   "metadata": {},
   "outputs": [],
   "source": [
    "# import Expression classes needed to build the expression\n",
    "from proveit._common_ import G, S\n",
    "from proveit.logic import InSet, Set"
   ]
  },
  {
   "cell_type": "code",
   "execution_count": 2,
   "metadata": {},
   "outputs": [
    {
     "data": {
      "text/html": [
       "<strong id=\"expr\">expr:</strong> <a class=\"ProveItLink\" href=\"expr.ipynb\"><img src=\"data:image/png;base64,iVBORw0KGgoAAAANSUhEUgAAAEoAAAAVBAMAAAATJmVgAAAAMFBMVEX////c3NxERESqqqpUVFS6\n",
       "urrMzMwyMjIQEBCIiIh2dnYiIiLu7u5mZmaYmJgAAABXZE4RAAAAAXRSTlMAQObYZgAAAUdJREFU\n",
       "KM9jYGDgu8eAD2QtBJE8uxjwgwwDIMH5Aax2ku89xgto8ny+d88FMPAWAJlcDSCBFQ8YWG88QFNV\n",
       "x8CjD1UAJo7vARLrBVAVsSxgYDBHVlVxAEhkg+V4pu/eXQBmyScwMGQiqeL9DBKVBculv4GZFQ90\n",
       "dhqSKnmw5oMgglEHbqP8zwQGmGUgL9xHuJsJ4TjO//8VQT4FBUJGAAPDfoTUISTny3n8ALm3loEh\n",
       "pQ1I/wfiueVaIJmI3bthrgd5G2QJUx1QGGh5B1gkAESmIMIUiM+DVIEihwWo0R9kcD1Y7jRc1VmQ\n",
       "BwSg7uLawMCQPwHoue+QoIR7BBigDFcYkEKC7x/QKkis82yFqbo9gYFTAVkVQ0rJ3QfPIJLi16Cq\n",
       "HEJc9BhQVCEDk2qEH3GrQgdgBXyEVIHTF89OQmkVHI58iwmmewBzYlhRjLF8hgAAAABJRU5ErkJg\n",
       "gg==\n",
       "\" style=\"display:inline;vertical-align:middle;\" /></a><br>"
      ],
      "text/plain": [
       "expr: {G in S}"
      ]
     },
     "execution_count": 2,
     "metadata": {},
     "output_type": "execute_result"
    }
   ],
   "source": [
    "# build up the expression from sub-expressions\n",
    "expr = Set(InSet(G, S))"
   ]
  },
  {
   "cell_type": "code",
   "execution_count": 3,
   "metadata": {},
   "outputs": [
    {
     "name": "stdout",
     "output_type": "stream",
     "text": [
      "Passed sanity check: built 'expr' is the same as the stored Expression.\n"
     ]
    }
   ],
   "source": [
    "# check that the built expression is the same as the stored expression\n",
    "%check_expr"
   ]
  },
  {
   "cell_type": "code",
   "execution_count": 4,
   "metadata": {},
   "outputs": [
    {
     "data": {
      "text/html": [
       "<table><tr><th>&nbsp;</th><th>core type</th><th>sub-expressions</th><th>expression</th></tr>\n",
       "<tr><td>0</td><td>Operation</td><td>operator:&nbsp;1<br>operands:&nbsp;2<br></td><td><a class=\"ProveItLink\" href=\"expr.ipynb\"><img src=\"data:image/png;base64,iVBORw0KGgoAAAANSUhEUgAAAEoAAAAVBAMAAAATJmVgAAAAMFBMVEX////c3NxERESqqqpUVFS6\n",
       "urrMzMwyMjIQEBCIiIh2dnYiIiLu7u5mZmaYmJgAAABXZE4RAAAAAXRSTlMAQObYZgAAAUdJREFU\n",
       "KM9jYGDgu8eAD2QtBJE8uxjwgwwDIMH5Aax2ku89xgto8ny+d88FMPAWAJlcDSCBFQ8YWG88QFNV\n",
       "x8CjD1UAJo7vARLrBVAVsSxgYDBHVlVxAEhkg+V4pu/eXQBmyScwMGQiqeL9DBKVBculv4GZFQ90\n",
       "dhqSKnmw5oMgglEHbqP8zwQGmGUgL9xHuJsJ4TjO//8VQT4FBUJGAAPDfoTUISTny3n8ALm3loEh\n",
       "pQ1I/wfiueVaIJmI3bthrgd5G2QJUx1QGGh5B1gkAESmIMIUiM+DVIEihwWo0R9kcD1Y7jRc1VmQ\n",
       "BwSg7uLawMCQPwHoue+QoIR7BBigDFcYkEKC7x/QKkis82yFqbo9gYFTAVkVQ0rJ3QfPIJLi16Cq\n",
       "HEJc9BhQVCEDk2qEH3GrQgdgBXyEVIHTF89OQmkVHI58iwmmewBzYlhRjLF8hgAAAABJRU5ErkJg\n",
       "gg==\n",
       "\" style=\"display:inline;vertical-align:middle;\" /></a></td></tr>\n",
       "<tr><td>1</td><td>Literal</td><td></td><td><a class=\"ProveItLink\" href=\"../../../enumeration/__pv_it/07381ed5b23806e8d7914b78cb6667769e3708dd0/expr.ipynb\"><img src=\"data:image/png;base64,iVBORw0KGgoAAAANSUhEUgAAAB4AAAAOBAMAAADKyLEKAAAAMFBMVEX///8iIiIQEBCIiIjMzMzc\n",
       "3Nyqqqp2dnZEREQyMjK6urru7u5mZmZUVFSYmJgAAACI6eGPAAAAAXRSTlMAQObYZgAAALRJREFU\n",
       "CNdjYGDgu3Nm3wIGBJjHwN0PZW5yYGDgLWBgyITy8zcwMMQDxZyh/INAvD6BgcEFypcB4vjPDiBm\n",
       "TPFRrhs/LjMwMP//38rAwCbKEMPA9gEkE3fp0waG+AUMRxh4JkC01T9guPTOOICBEWgVH5C//wHD\n",
       "H5D4fqCz9oCMDGD4DLaegRXslLMMDMpAgxlOMmQxHDRgYG5gYLBk4D7KcIe7gOHC2rt9QCXsh40Z\n",
       "GCKMGQDRkC8N/Ph1XAAAAABJRU5ErkJggg==\n",
       "\" style=\"display:inline;vertical-align:middle;\" /></a></td></tr>\n",
       "<tr><td>2</td><td>ExprTuple</td><td>3</td><td><a class=\"ProveItLink\" href=\"../8db2254c33be7e1fe4b4f16f4c348aad597682720/expr.ipynb\"><img src=\"data:image/png;base64,iVBORw0KGgoAAAANSUhEUgAAAEQAAAAVBAMAAAAN71XTAAAAMFBMVEX////c3NwiIiJERESqqqqY\n",
       "mJh2dnZmZmYQEBDu7u4yMjJUVFTMzMyIiIi6uroAAAAs73DqAAAAAXRSTlMAQObYZgAAAV5JREFU\n",
       "KM9jYCAC8F3AJ8v6AEicBrHmWpcHiKNLR5dXxjHUABkrgZitlYHheSuaCq4AhskfGLgYGHiB9nAu\n",
       "mgBU9hFNyTYGBpYFDKwJDBxAWa5OoAiPAlhi7iIlLTCD8Q9Q7AIDZwPDKyCv3gEkVACS4Fk6AeaN\n",
       "L0DeAQYGE4YyoOQvkBCnAIgUhqlgYPx/B0ynMyxlYGD/inCAIYJ5//9nkC4vhj4GBiaEQzkNEEoY\n",
       "o/tBbnzB8I+Bgf8D0GNVixNADmhSUoI6FxQWIOPPg5RwNIC4/8Cu3QA3JABoJkRJCwMD909QQH0A\n",
       "W6QAtxLoQcaPYItMgVr/AlnyC8AyW2FKgKHGwA4yMwroJwaG+AAGnk0JYJlJD6BK2HUZGC5DPP0I\n",
       "5IJd20tZD0C8sRxCM3Dz7d4cAGKsY+AQQI0Zll0IH4Hd1ACKJryA7QIkMeABs4BYGr+SjSAH4k2Y\n",
       "vAcYABsUUEmfQ3jsAAAAAElFTkSuQmCC\n",
       "\" style=\"display:inline;vertical-align:middle;\" /></a></td></tr>\n",
       "<tr><td>3</td><td>Operation</td><td>operator:&nbsp;4<br>operands:&nbsp;5<br></td><td><a class=\"ProveItLink\" href=\"../f6503bf5a714f140da12b14979016c51db5417e90/expr.ipynb\"><img src=\"data:image/png;base64,iVBORw0KGgoAAAANSUhEUgAAADcAAAAPBAMAAACy3Eq1AAAAMFBMVEX///+qqqrMzMwiIiIyMjK6\n",
       "uroQEBB2dnbc3NyYmJhmZmZUVFRERESIiIju7u4AAACtjd3MAAAAAXRSTlMAQObYZgAAAOpJREFU\n",
       "GNNjYGDgu7NrJccCBlTAuWvVywAgXTaBgXXZBDRJTwa+80DqiR2QqG9AleMuYGAQAdJuD4CEMliI\n",
       "74qxsQOY1a/AwKDLwMD1EcTpAgupzIPpjBdgYFACqgErfQEiOM7Bje3/qwCi1iOcwoOwmPf//xNA\n",
       "yh4h8gbJRZ3bvgHd8h/IuuVyHCQQZmwMcxDIA0Aj08AMkH8ZtBFBAMTvgZL7QT7xBws9hku+ArkJ\n",
       "aJ/+BaAzv0B8DncbyP+rQSb8BJpnDgkDU5jk4gsMvAfANnmvmjAJItayCCq5IXr3SQZ0IO2McC0Q\n",
       "AAA1xzraTzVAowAAAABJRU5ErkJggg==\n",
       "\" style=\"display:inline;vertical-align:middle;\" /></a></td></tr>\n",
       "<tr><td>4</td><td>Literal</td><td></td><td><a class=\"ProveItLink\" href=\"../088cbc857536a28d4119ad9639a84270ccb0545d0/expr.ipynb\"><img src=\"data:image/png;base64,iVBORw0KGgoAAAANSUhEUgAAAAwAAAAMBAMAAACkW0HUAAAALVBMVEX///+qqqpmZmZUVFQQEBC6\n",
       "urpERETc3NyYmJjMzMwiIiIyMjKIiIju7u4AAACYsrA9AAAAAXRSTlMAQObYZgAAADxJREFUCNdj\n",
       "YOA9vWrVBgaG2b0MQMCeCyIZ2ArA1DUwyRCyahVIyWQI7xaEYm4AU7xLIdxqTQgtvGvVBgCkcQ7e\n",
       "geM/tQAAAABJRU5ErkJggg==\n",
       "\" style=\"display:inline;vertical-align:middle;\" /></a></td></tr>\n",
       "<tr><td>5</td><td>ExprTuple</td><td>6, 7</td><td><a class=\"ProveItLink\" href=\"../837dbfc19d1880c94cffb3a2f60108c61d32077a0/expr.ipynb\"><img src=\"data:image/png;base64,iVBORw0KGgoAAAANSUhEUgAAADMAAAAVBAMAAAAZessyAAAAMFBMVEX////c3NwiIiJERESqqqqY\n",
       "mJh2dnZmZmYQEBDu7u4yMjJUVFTMzMyIiIi6uroAAAAs73DqAAAAAXRSTlMAQObYZgAAATtJREFU\n",
       "KM99Uj1Lw1AUPVHz8ZqYZnNw0D/g6OTSn5DJpVC7ORW6aNHFDnZwsYKLixAUBzdRUNAlu0vBVVBc\n",
       "BKfEj0HR1nObp02xGMjLveck95x7b4B/Lr8zCq3IcS3H/kIjnPqBy421ih0zOOZttYDHlmYKIXYT\n",
       "RMAk66mDHdKpps6BiQiLgEO0sEXEm80Y45NxB3vAE7ONkkB1beuVVIzxElYJfgikAv1V71YeVh1H\n",
       "gP025Puu9xL05baBsXSIMsptavtNdIFiQqPrh9Vf0mIZLxHKaUra1XhI2YzaBNx3aTTJGEWjRtov\n",
       "OM8XvgjNsH22KPKwTwAzwjLTpRDeaRXqmbE9B9xk5h9kEJcXK2YM1aZp1786C0XgHk6Q208u5qDM\n",
       "gWeYue5qeil/KUU3mB7kuX27UtsY+QNwxN8JWEk5sTjWOgAAAABJRU5ErkJggg==\n",
       "\" style=\"display:inline;vertical-align:middle;\" /></a></td></tr>\n",
       "<tr><td>6</td><td>Variable</td><td></td><td><a class=\"ProveItLink\" href=\"../../../../../__pv_it/994260d00d104a1ab9cf940a007fb6a4ff36f79e0/expr.ipynb\"><img src=\"data:image/png;base64,iVBORw0KGgoAAAANSUhEUgAAAA8AAAAOBAMAAAACpFvcAAAAMFBMVEX///+qqqrMzMwiIiIyMjK6\n",
       "uroQEBB2dnbc3NyYmJhmZmZUVFRERESIiIju7u4AAACtjd3MAAAAAXRSTlMAQObYZgAAAG5JREFU\n",
       "CNdjYGDgu7NrJccCBgaGsgkMrMsmMDA8sQNy6hsYGNweABnKDAxcH4E0QxcDQ78DiPGCgWH9BAYI\n",
       "sG+AMv4D8S2X4wwMaSBefQADw36Qbn8g1r/AwMDxBcjg/MnAoG0Oktf2XjVhEgMDAJHQGYM57+uu\n",
       "AAAAAElFTkSuQmCC\n",
       "\" style=\"display:inline;vertical-align:middle;\" /></a></td></tr>\n",
       "<tr><td>7</td><td>Variable</td><td></td><td><a class=\"ProveItLink\" href=\"../../../../../__pv_it/abeee18594afe51bfb1be95d9591fbba24ac53f30/expr.ipynb\"><img src=\"data:image/png;base64,iVBORw0KGgoAAAANSUhEUgAAAA0AAAAOBAMAAAAGUYvhAAAAMFBMVEX///8iIiIQEBCIiIjMzMzc\n",
       "3Nyqqqp2dnZEREQyMjK6urru7u5mZmZUVFSYmJgAAACI6eGPAAAAAXRSTlMAQObYZgAAAF1JREFU\n",
       "CNdjYGDgu3Nm3wIGBoZ5DNz9QIq3gIEhE0jHOzAwOAPp9QkMDC4g/megABAw///fCmbEXfq0Acxg\n",
       "qH8ANAVI7wfSe0BKAyBGnAXigwYMzA1A+sLau31ACgAz0hhbkhGHbwAAAABJRU5ErkJggg==\n",
       "\" style=\"display:inline;vertical-align:middle;\" /></a></td></tr>\n",
       "</table>\n"
      ],
      "text/plain": [
       "0. {G in S}\n",
       "   core type: Operation\n",
       "   operator: 1\n",
       "   operands: 2\n",
       "1. Set\n",
       "   core type: Literal\n",
       "   sub-expressions: \n",
       "2. (G in S)\n",
       "   core type: ExprTuple\n",
       "   sub-expressions: 3\n",
       "3. G in S\n",
       "   core type: Operation\n",
       "   operator: 4\n",
       "   operands: 5\n",
       "4. in\n",
       "   core type: Literal\n",
       "   sub-expressions: \n",
       "5. (G , S)\n",
       "   core type: ExprTuple\n",
       "   sub-expressions: 6, 7\n",
       "6. G\n",
       "   core type: Variable\n",
       "   sub-expressions: \n",
       "7. S\n",
       "   core type: Variable\n",
       "   sub-expressions: "
      ]
     },
     "execution_count": 4,
     "metadata": {},
     "output_type": "execute_result"
    }
   ],
   "source": [
    "# display the expression information\n",
    "expr.exprInfo()"
   ]
  },
  {
   "cell_type": "code",
   "execution_count": null,
   "metadata": {},
   "outputs": [],
   "source": []
  }
 ],
 "metadata": {
  "kernelspec": {
   "display_name": "Python 3",
   "language": "python",
   "name": "python3"
  }
 },
 "nbformat": 4,
 "nbformat_minor": 0
}
