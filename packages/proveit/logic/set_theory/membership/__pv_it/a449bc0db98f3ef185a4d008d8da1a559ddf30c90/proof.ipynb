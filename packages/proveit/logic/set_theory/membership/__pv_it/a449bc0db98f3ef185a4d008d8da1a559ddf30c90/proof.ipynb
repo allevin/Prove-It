{
 "cells": [
  {
   "cell_type": "markdown",
   "metadata": {},
   "source": [
    "Show the Proof\n",
    "========"
   ]
  },
  {
   "cell_type": "code",
   "execution_count": 1,
   "metadata": {},
   "outputs": [
    {
     "data": {
      "text/html": [
       "<table><tr><th>&nbsp;</th><th>step type</th><th>requirements</th><th>statement</th></tr>\n",
       "<tr><td>0</td><td>assumption</td><td></td><td><span style=\"font-size:20px;\"><a class=\"ProveItLink\" href=\"../d0bd0add3cef0342635f1b0ae7105bd5046c9bde0/expr.ipynb\"><img src=\"data:image/png;base64,iVBORw0KGgoAAAANSUhEUgAAAEoAAAAVBAMAAAATJmVgAAAAMFBMVEX////c3NxERESqqqpUVFS6\n",
       "urrMzMwyMjIQEBCIiIh2dnYiIiLu7u5mZmaYmJgAAABXZE4RAAAAAXRSTlMAQObYZgAAAUdJREFU\n",
       "KM9jYGDgu8eAD2QtBJE8uxjwgwwDIMH5Aax2ku89xgto8ny+d88FMPAWAJlcDSCBFQ8YWG88QFNV\n",
       "x8CjD1UAJo7vARLrBVAVsSxgYDBHVlVxAEhkg+V4pu/eXQBmyScwMGQiqeL9DBKVBculv4GZFQ90\n",
       "dhqSKnmw5oMgglEHbqP8zwQGmGUgL9xHuJsJ4TjO//8VQT4FBUJGAAPDfoTUISTny3n8ALm3loEh\n",
       "pQ1I/wfiueVaIJmI3bthrgd5G2QJUx1QGGh5B1gkAESmIMIUiM+DVIEihwWo0R9kcD1Y7jRc1VmQ\n",
       "BwSg7uLawMCQPwHoue+QoIR7BBigDFcYkEKC7x/QKkis82yFqbo9gYFTAVkVQ0rJ3QfPIJLi16Cq\n",
       "HEJc9BhQVCEDk2qEH3GrQgdgBXyEVIHTF89OQmkVHI58iwmmewBzYlhRjLF8hgAAAABJRU5ErkJg\n",
       "gg==\n",
       "\" style=\"display:inline;vertical-align:middle;\" /></a> <a class=\"ProveItLink\" href=\"proof.ipynb\" style=\"text-decoration: none\">&#x22A2;&nbsp;</a><a class=\"ProveItLink\" href=\"../f6503bf5a714f140da12b14979016c51db5417e90/expr.ipynb\"><img src=\"data:image/png;base64,iVBORw0KGgoAAAANSUhEUgAAADcAAAAPBAMAAACy3Eq1AAAAMFBMVEX///+qqqrMzMwiIiIyMjK6\n",
       "uroQEBB2dnbc3NyYmJhmZmZUVFRERESIiIju7u4AAACtjd3MAAAAAXRSTlMAQObYZgAAAOpJREFU\n",
       "GNNjYGDgu7NrJccCBlTAuWvVywAgXTaBgXXZBDRJTwa+80DqiR2QqG9AleMuYGAQAdJuD4CEMliI\n",
       "74qxsQOY1a/AwKDLwMD1EcTpAgupzIPpjBdgYFACqgErfQEiOM7Bje3/qwCi1iOcwoOwmPf//xNA\n",
       "yh4h8gbJRZ3bvgHd8h/IuuVyHCQQZmwMcxDIA0Aj08AMkH8ZtBFBAMTvgZL7QT7xBws9hku+ArkJ\n",
       "aJ/+BaAzv0B8DncbyP+rQSb8BJpnDgkDU5jk4gsMvAfANnmvmjAJItayCCq5IXr3SQZ0IO2McC0Q\n",
       "AAA1xzraTzVAowAAAABJRU5ErkJggg==\n",
       "\" style=\"display:inline;vertical-align:middle;\" /></a></span></td></tr>\n",
       "</table>"
      ],
      "text/plain": [
       "<proveit._core_.proof._ShowProof at 0x7f94eb462940>"
      ]
     },
     "execution_count": 1,
     "metadata": {},
     "output_type": "execute_result"
    }
   ],
   "source": [
    "import proveit\n",
    "%show_proof"
   ]
  },
  {
   "cell_type": "code",
   "execution_count": null,
   "metadata": {},
   "outputs": [],
   "source": []
  }
 ],
 "metadata": {
  "kernelspec": {
   "display_name": "Python 3",
   "language": "python",
   "name": "python3"
  }
 },
 "nbformat": 4,
 "nbformat_minor": 0
}
