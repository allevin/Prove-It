{
 "cells": [
  {
   "cell_type": "markdown",
   "metadata": {},
   "source": [
    "Expression of type <a class=\"ProveItLink\" href=\"../../../../../../../doc/html/api/proveit.logic.InSet.html\">InSet</a>\n",
    "=======================\n",
    "# from context <a class=\"ProveItLink\" href=\"../../_context_.ipynb\">proveit.logic.set_theory.membership</a>"
   ]
  },
  {
   "cell_type": "code",
   "execution_count": 1,
   "metadata": {},
   "outputs": [],
   "source": [
    "# import Expression classes needed to build the expression\n",
    "from proveit._common_ import A, B, S\n",
    "from proveit.logic import InSet\n",
    "from proveit.number import Exp, two"
   ]
  },
  {
   "cell_type": "code",
   "execution_count": 2,
   "metadata": {},
   "outputs": [
    {
     "data": {
      "text/html": [
       "<strong id=\"expr\">expr:</strong> <a class=\"ProveItLink\" href=\"expr.ipynb\"><img src=\"data:image/png;base64,iVBORw0KGgoAAAANSUhEUgAAAGcAAAAZBAMAAADeRy17AAAAMFBMVEX////c3NwiIiJERESqqqqY\n",
       "mJh2dnZmZmYQEBDu7u4yMjJUVFTMzMyIiIi6uroAAAAs73DqAAAAAXRSTlMAQObYZgAAAfpJREFU\n",
       "OMtjYCARsBXvZCAZVDJUka5JkUH+AMmaWhjmPyDdKgb/CQwMfBewSsXh1LQMiE9DmIdgYtH/d++2\n",
       "esDAjuly1u3lUx8wsG0AMldCRNbD5ZoZGNj/MTAswNC0lIHTnoEhDMjihbiOVX8CVIrnLxD/hkii\n",
       "AO4EBgYvBr4EngMMHBDFIvUCUDnej0AjvjEwzIBwOW8pKUEsBQX1WYbDLt4TGF5B5C7chwUkcwMD\n",
       "A1MnkHYAc09Fwmx6DxQ4w9D//z8DQxlYgG+CfwBUjn8DA+NioPVsBSAeoyXcefJ/DyB8BwLzGM7D\n",
       "Qv783rtFIANYwI5iFoBr4v3/3xDK7AOTDxjkC6AC9wUYOLVBljeAeJORQkJ0xw9oaP0Dh9ju3fsN\n",
       "oFIWII1Aq3g+gHgvlJRgAQEE+QFImvgYGDhgMsDQZohPgGk6jYhaIJ4fAEuAQAAMF6YGaDR9BRL7\n",
       "HWDOmwTXNB0UFlAfmoKCCKiGC2jwBGg0Mf4CmQy2mhsWqMB4ZWCohrLTgXgWKJh+MnB+gkbTCVDS\n",
       "ggQ5px5MU9EFBl6Yvx8xMAj3L2Rgtf9VwNkvwMBu/3v3LnA0cEFiW6oGqnDD692mMAM4EBHBwIfE\n",
       "hiUjBu9FShhplzWBASWA4CAXX0ZciV0T5wJ8mqQRTOQ8zC2ATxMj9ux+B48WAIPPeaj3/mgDAAAA\n",
       "AElFTkSuQmCC\n",
       "\" style=\"display:inline;vertical-align:middle;\" /></a><br>"
      ],
      "text/plain": [
       "expr: (A , B) in S^{2}"
      ]
     },
     "execution_count": 2,
     "metadata": {},
     "output_type": "execute_result"
    }
   ],
   "source": [
    "# build up the expression from sub-expressions\n",
    "expr = InSet([A, B], Exp(S, two))"
   ]
  },
  {
   "cell_type": "code",
   "execution_count": 3,
   "metadata": {},
   "outputs": [
    {
     "name": "stdout",
     "output_type": "stream",
     "text": [
      "Passed sanity check: built 'expr' is the same as the stored Expression.\n"
     ]
    }
   ],
   "source": [
    "# check that the built expression is the same as the stored expression\n",
    "%check_expr"
   ]
  },
  {
   "cell_type": "code",
   "execution_count": 4,
   "metadata": {},
   "outputs": [
    {
     "data": {
      "text/html": [
       "<table><tr><th>&nbsp;</th><th>core type</th><th>sub-expressions</th><th>expression</th></tr>\n",
       "<tr><td>0</td><td>Operation</td><td>operator:&nbsp;1<br>operands:&nbsp;2<br></td><td><a class=\"ProveItLink\" href=\"expr.ipynb\"><img src=\"data:image/png;base64,iVBORw0KGgoAAAANSUhEUgAAAGcAAAAZBAMAAADeRy17AAAAMFBMVEX////c3NwiIiJERESqqqqY\n",
       "mJh2dnZmZmYQEBDu7u4yMjJUVFTMzMyIiIi6uroAAAAs73DqAAAAAXRSTlMAQObYZgAAAfpJREFU\n",
       "OMtjYCARsBXvZCAZVDJUka5JkUH+AMmaWhjmPyDdKgb/CQwMfBewSsXh1LQMiE9DmIdgYtH/d++2\n",
       "esDAjuly1u3lUx8wsG0AMldCRNbD5ZoZGNj/MTAswNC0lIHTnoEhDMjihbiOVX8CVIrnLxD/hkii\n",
       "AO4EBgYvBr4EngMMHBDFIvUCUDnej0AjvjEwzIBwOW8pKUEsBQX1WYbDLt4TGF5B5C7chwUkcwMD\n",
       "A1MnkHYAc09Fwmx6DxQ4w9D//z8DQxlYgG+CfwBUjn8DA+NioPVsBSAeoyXcefJ/DyB8BwLzGM7D\n",
       "Qv783rtFIANYwI5iFoBr4v3/3xDK7AOTDxjkC6AC9wUYOLVBljeAeJORQkJ0xw9oaP0Dh9ju3fsN\n",
       "oFIWII1Aq3g+gHgvlJRgAQEE+QFImvgYGDhgMsDQZohPgGk6jYhaIJ4fAEuAQAAMF6YGaDR9BRL7\n",
       "HWDOmwTXNB0UFlAfmoKCCKiGC2jwBGg0Mf4CmQy2mhsWqMB4ZWCohrLTgXgWKJh+MnB+gkbTCVDS\n",
       "ggQ5px5MU9EFBl6Yvx8xMAj3L2Rgtf9VwNkvwMBu/3v3LnA0cEFiW6oGqnDD692mMAM4EBHBwIfE\n",
       "hiUjBu9FShhplzWBASWA4CAXX0ZciV0T5wJ8mqQRTOQ8zC2ATxMj9ux+B48WAIPPeaj3/mgDAAAA\n",
       "AElFTkSuQmCC\n",
       "\" style=\"display:inline;vertical-align:middle;\" /></a></td></tr>\n",
       "<tr><td>1</td><td>Literal</td><td></td><td><a class=\"ProveItLink\" href=\"../088cbc857536a28d4119ad9639a84270ccb0545d0/expr.ipynb\"><img src=\"data:image/png;base64,iVBORw0KGgoAAAANSUhEUgAAAAwAAAAMBAMAAACkW0HUAAAALVBMVEX///+qqqpmZmZUVFQQEBC6\n",
       "urpERETc3NyYmJjMzMwiIiIyMjKIiIju7u4AAACYsrA9AAAAAXRSTlMAQObYZgAAADxJREFUCNdj\n",
       "YOA9vWrVBgaG2b0MQMCeCyIZ2ArA1DUwyRCyahVIyWQI7xaEYm4AU7xLIdxqTQgtvGvVBgCkcQ7e\n",
       "geM/tQAAAABJRU5ErkJggg==\n",
       "\" style=\"display:inline;vertical-align:middle;\" /></a></td></tr>\n",
       "<tr><td>2</td><td>ExprTuple</td><td>3, 4</td><td><a class=\"ProveItLink\" href=\"../6042d92e657feff91c3a9999431124a655279e410/expr.ipynb\"><img src=\"data:image/png;base64,iVBORw0KGgoAAAANSUhEUgAAAGwAAAAcBAMAAAB2akc/AAAAMFBMVEX///+qqqp2dnYiIiJERESI\n",
       "iIhmZmYQEBDc3NyYmJgyMjLu7u5UVFTMzMy6uroAAACGxKilAAAAAXRSTlMAQObYZgAAAlJJREFU\n",
       "OMudVD1oFEEU/u6SXfdus5vYWATBa6y9ylgoxCoqwh1IsFEMRFKoRQIWQYusYAptXJOUokEkEBTc\n",
       "yqDNXeEPxgVTJKSJZBtBMJjzJxrzc+t7sze7Y3LNZmB23r73vZ3vffN2gFQje/kD9jCu4oo0v6VI\n",
       "O4Z7cyiwZVVTpA2hEmCJrVdeKpqHPGhlWt/zy+fmmIe7XY8FVRiDCVGrKIMPQt8/E0CfS/C5twMv\n",
       "A2QZeQHQ+2jNR0TztRh0nSJ1YDJJm4ZZAsbYrHjYF9DaG0XGNyXGWqO51UCJ0Ub6dcIuWESgxcUy\n",
       "+26KiHFgXYI0snI/gJk4jYTHAub3HyRiejfOk8uOuGhaXYJaqeIW+lhrh/SskvUJI2HIZdYwS4su\n",
       "DhBfM38lqL0K4wl9N9sX77aWyGNv4ixL4fKLGXBF0Vh+09vPzkysiRaGp+LKtzFFi5AFNozfMnDJ\n",
       "gXmcfYPxFnfe/ZGNYdRxlCmJtCXf/yUxPZxK21k15aSPuA3D/K6k0eOGRJD2eFRQ0nJ8XG6y2zMm\n",
       "yXplaHZJ8qzNxw6F5AtWxZFp23jNcvNnbtF8TgTksRkbvAlLwiV10rwWK7mOc4hkNhlQ8lApNo5t\n",
       "8amM/CSjvwytO27PGlY5uwijZ8PBRDiFGdpIL235s9OiS6lgc4TIVVf808nVMIl2PsVhRa8v6m8i\n",
       "mst2dvw8+bJoUaVjAVcFHJYq/jcqTvSP5b3maaLg3WkTNE+yosl9oqnxNkGvvDPtBM27bIw2vxQu\n",
       "NvXmuL8zhbSX5W3xvJ/+jt3r+AcvgZim9btOQgAAAABJRU5ErkJggg==\n",
       "\" style=\"display:inline;vertical-align:middle;\" /></a></td></tr>\n",
       "<tr><td>3</td><td>ExprTuple</td><td>5, 6</td><td><a class=\"ProveItLink\" href=\"../caee09fb4b5c95b986a9cee46a014afbad9bdc680/expr.ipynb\"><img src=\"data:image/png;base64,iVBORw0KGgoAAAANSUhEUgAAADUAAAAVBAMAAAAUZLt1AAAAMFBMVEX////c3NwiIiJERESqqqqY\n",
       "mJh2dnZmZmYQEBDu7u4yMjJUVFTMzMyIiIi6uroAAAAs73DqAAAAAXRSTlMAQObYZgAAATZJREFU\n",
       "KM9jYMAH+C5gFY4DEach7EMwQdb9v3dvXsfAfgDIXgkRWg/XwWHAwFD/gGEBAwMvxEhW/QkwufNA\n",
       "kfMbGMKAqiBiIvUCMLn7QFZ8AsMMBoZXEIEL9x/A5CyAWGMCA7MDQxnEsRP8A2ByvxkYpCwZGNgK\n",
       "GJaC+fPAtoABz++711WBNMsChj6wwAMG+QKoHO9HBoZJG4BGNTD8A6vdvXu/AVSOuQEo/xUo9gEi\n",
       "xwd07wKoHD9QD+s3sFwLiO/AwMDUAPMe0FHcX8BmmgK5jEA5rg8MDBNg3pMHGsK6gCEdyJ0FsuYn\n",
       "A+cnqPd4uiaA/fCIgUG4fyEDq/2vAs5+oJbi/7t3rwL5lesBA4cAUnQhsUFhxpqA4LIiR2AuIo7Q\n",
       "5ThBfpJG8JFTADfIfEbsaeIOAwMABOxNRsfkiy0AAAAASUVORK5CYII=\n",
       "\" style=\"display:inline;vertical-align:middle;\" /></a></td></tr>\n",
       "<tr><td>4</td><td>Operation</td><td>operator:&nbsp;7<br>operands:&nbsp;8<br></td><td><a class=\"ProveItLink\" href=\"../da3a4ef3fdd48750834b98acc4d0c6765c120e830/expr.ipynb\"><img src=\"data:image/png;base64,iVBORw0KGgoAAAANSUhEUgAAABUAAAAUBAMAAACQZWsAAAAAMFBMVEX///8iIiIQEBCIiIjMzMzc\n",
       "3Nyqqqp2dnZEREQyMjK6urru7u5mZmZUVFSYmJgAAACI6eGPAAAAAXRSTlMAQObYZgAAAI9JREFU\n",
       "CNdjYIAA9hO3GWDgNMNJOFuUId4BxlZj2L8ALsGQvwHBng4i+O6c2beAgf0CiD2PgbufgeE5iMlb\n",
       "wMCQycBVwAI0B2SWM4NHWi5Q7/oEBgYXBv3//4Fq4j/DLWFg/v+/Fc6Ju/QJyZr6BxCaD4j3Q9l7\n",
       "QNoDIOxMID4LVXvQgIG5Acq+sPZuH5QJAPegJfw7iS7aAAAAAElFTkSuQmCC\n",
       "\" style=\"display:inline;vertical-align:middle;\" /></a></td></tr>\n",
       "<tr><td>5</td><td>Variable</td><td></td><td><a class=\"ProveItLink\" href=\"../../../../../__pv_it/2cbe72a7ad6f655694dd697106680215e8489b600/expr.ipynb\"><img src=\"data:image/png;base64,iVBORw0KGgoAAAANSUhEUgAAAA8AAAAOBAMAAAACpFvcAAAALVBMVEX///8QEBBERERUVFS6urqI\n",
       "iIhmZmaqqqrc3Nzu7u6YmJgyMjIiIiLMzMwAAADtIaYWAAAAAXRSTlMAQObYZgAAAFtJREFUCNdj\n",
       "YACBOwxQsA9Kc52bAGG05zVAGAFxDmCaZULdAjBjCsO9ADDDgaEvAUTzGhvbKYCVMDAwbgAxChgY\n",
       "eASANAeQwf0AyJgNxEwvGRia5HYwcOm9TgAA6BoR3jrzwFcAAAAASUVORK5CYII=\n",
       "\" style=\"display:inline;vertical-align:middle;\" /></a></td></tr>\n",
       "<tr><td>6</td><td>Variable</td><td></td><td><a class=\"ProveItLink\" href=\"../../../../../__pv_it/077b2ff79244fb4582cbe22c6e3356fa92a52f2f0/expr.ipynb\"><img src=\"data:image/png;base64,iVBORw0KGgoAAAANSUhEUgAAABAAAAAOBAMAAADUAYG5AAAAMFBMVEX///+qqqru7u4iIiJ2dnbc\n",
       "3NyIiIjMzMxmZmYQEBC6uroyMjJERERUVFSYmJgAAADLUcuvAAAAAXRSTlMAQObYZgAAAGpJREFU\n",
       "CNdjYGB4+//u3dMLGIBgDgMDxy8gzf4NiP8CGWxfGRj4vgAZPBMYGJgnARn8FxhY9ygAGfXX0pof\n",
       "gDTlBzAw2YIYJ0EckBBI53sHoBH/gIz7AhBjWH9DjancBLTl/N+7t/cxMAAA3u4f/5xagjYAAAAA\n",
       "SUVORK5CYII=\n",
       "\" style=\"display:inline;vertical-align:middle;\" /></a></td></tr>\n",
       "<tr><td>7</td><td>Literal</td><td></td><td><a class=\"ProveItLink\" href=\"../../../../../number/exponentiation/__pv_it/deb2bf23cbccdd6e6791e1b35b5b9794ce12dbd50/expr.ipynb\"><img src=\"data:image/png;base64,iVBORw0KGgoAAAANSUhEUgAAACgAAAASBAMAAADbMYGVAAAAMFBMVEX///8QEBAiIiKYmJjc3Nzu\n",
       "7u7MzMx2dnZmZma6urpERESqqqoyMjJUVFSIiIgAAAAoDOMTAAAAAXRSTlMAQObYZgAAAOBJREFU\n",
       "GNNjYGB4+//u3Tt/GNAASGAXmhjnPyDBgSbI/g1IxKEJ8nxgYGdgQRPkX8BgDKRY6q7s62OYvmze\n",
       "2wAgb/7ZO1+AVDiDkYEQQ0HTBr4DQF59AgOIKmB4z7CNbcNZBu6vQN55kEACQwDDLQYGVobfDHwg\n",
       "fb8YGBxYHwAZciD3fWXg+gB1JjvQcJZvQIXsCgz8F6DO9GBgMOH7wPCUgaeBwd4B7EwGNjUG7s9c\n",
       "AiwPgO5jkWRgiF3/9+5dfQUG1nWl5Y+B7pv+1gE9bBhqGLCAE1jEWH9jEbT5A3IwAC4sP/1L6Qlu\n",
       "AAAAAElFTkSuQmCC\n",
       "\" style=\"display:inline;vertical-align:middle;\" /></a></td></tr>\n",
       "<tr><td>8</td><td>ExprTuple</td><td>9, 10</td><td><a class=\"ProveItLink\" href=\"../4720c6dc15877205165a47dc7416166828d774fb0/expr.ipynb\"><img src=\"data:image/png;base64,iVBORw0KGgoAAAANSUhEUgAAAC0AAAAVBAMAAAAgHXppAAAAMFBMVEX////c3NwiIiJERESqqqqY\n",
       "mJh2dnZmZmYQEBDu7u4yMjJUVFTMzMyIiIi6uroAAAAs73DqAAAAAXRSTlMAQObYZgAAASRJREFU\n",
       "GNN1kT1Lw1AUhp+g0cZ6JQhODvUftA7OdhOcOjlKpzqJpYIdHHRwcJIsYrcGxMHJbioOdq9Cf4BD\n",
       "dNTBD0RcNJ5zk0akeCD3nvfhns/AfzbVH0KrevT0cM+bh5E6TvM4Yrwr3qnKE7xF+3QW8w4hGE2T\n",
       "r8Ky5ZdQhBXIBaIKEnhr+X7AdUQLHlU9l+HG8rOAnYiRMluqCl/d326KAWN1qShm4nh+gCc/YDTk\n",
       "wIqZi88g5RMlmWmX71RuVFJnU2NeLHfla6fcdBK+J9eRlvYTvoTja54FkpG28WzVOq6PG7ImotHH\n",
       "lGjPiTtdqzXQPh9EdJ6uJKz1qs3H8Zv0FJHzs4HuM0/24FYzVcm89cGe/3IvtBtPzWQP8prbGf6P\n",
       "d/ADBlVDlY38xV4AAAAASUVORK5CYII=\n",
       "\" style=\"display:inline;vertical-align:middle;\" /></a></td></tr>\n",
       "<tr><td>9</td><td>Variable</td><td></td><td><a class=\"ProveItLink\" href=\"../../../../../__pv_it/abeee18594afe51bfb1be95d9591fbba24ac53f30/expr.ipynb\"><img src=\"data:image/png;base64,iVBORw0KGgoAAAANSUhEUgAAAA0AAAAOBAMAAAAGUYvhAAAAMFBMVEX///8iIiIQEBCIiIjMzMzc\n",
       "3Nyqqqp2dnZEREQyMjK6urru7u5mZmZUVFSYmJgAAACI6eGPAAAAAXRSTlMAQObYZgAAAF1JREFU\n",
       "CNdjYGDgu3Nm3wIGBoZ5DNz9QIq3gIEhE0jHOzAwOAPp9QkMDC4g/megABAw///fCmbEXfq0Acxg\n",
       "qH8ANAVI7wfSe0BKAyBGnAXigwYMzA1A+sLau31ACgAz0hhbkhGHbwAAAABJRU5ErkJggg==\n",
       "\" style=\"display:inline;vertical-align:middle;\" /></a></td></tr>\n",
       "<tr><td>10</td><td>Literal</td><td></td><td><a class=\"ProveItLink\" href=\"../../../../../number/numeral/__pv_it/77d407a64829263cdc16415becd4c2293f77a4bf0/expr.ipynb\"><img src=\"data:image/png;base64,iVBORw0KGgoAAAANSUhEUgAAAAkAAAAOBAMAAAAPuiubAAAAMFBMVEX///+YmJh2dnbMzMwQEBAi\n",
       "IiLu7u6qqqqIiIhUVFS6urpEREQyMjJmZmbc3NwAAACOMKdoAAAAAXRSTlMAQObYZgAAAFBJREFU\n",
       "CNdj4Lt7egEDw0sGju8MDNMYGOIZGFwSGOYvYDifwHAfKAEUSQASzJ9ATJ4NIPI2iOCYACJrGfge\n",
       "MDBfYGB8wPBUSekqUPH//18ZAIliFhc3zESNAAAAAElFTkSuQmCC\n",
       "\" style=\"display:inline;vertical-align:middle;\" /></a></td></tr>\n",
       "</table>\n"
      ],
      "text/plain": [
       "0. (A , B) in S^{2}\n",
       "   core type: Operation\n",
       "   operator: 1\n",
       "   operands: 2\n",
       "1. in\n",
       "   core type: Literal\n",
       "   sub-expressions: \n",
       "2. ((A , B) , S^{2})\n",
       "   core type: ExprTuple\n",
       "   sub-expressions: 3, 4\n",
       "3. (A , B)\n",
       "   core type: ExprTuple\n",
       "   sub-expressions: 5, 6\n",
       "4. S^{2}\n",
       "   core type: Operation\n",
       "   operator: 7\n",
       "   operands: 8\n",
       "5. A\n",
       "   core type: Variable\n",
       "   sub-expressions: \n",
       "6. B\n",
       "   core type: Variable\n",
       "   sub-expressions: \n",
       "7. Exp\n",
       "   core type: Literal\n",
       "   sub-expressions: \n",
       "8. (S , 2)\n",
       "   core type: ExprTuple\n",
       "   sub-expressions: 9, 10\n",
       "9. S\n",
       "   core type: Variable\n",
       "   sub-expressions: \n",
       "10. 2\n",
       "    core type: Literal\n",
       "    sub-expressions: "
      ]
     },
     "execution_count": 4,
     "metadata": {},
     "output_type": "execute_result"
    }
   ],
   "source": [
    "# display the expression information\n",
    "expr.exprInfo()"
   ]
  },
  {
   "cell_type": "code",
   "execution_count": null,
   "metadata": {},
   "outputs": [],
   "source": []
  }
 ],
 "metadata": {
  "kernelspec": {
   "display_name": "Python 3",
   "language": "python",
   "name": "python3"
  }
 },
 "nbformat": 4,
 "nbformat_minor": 0
}
