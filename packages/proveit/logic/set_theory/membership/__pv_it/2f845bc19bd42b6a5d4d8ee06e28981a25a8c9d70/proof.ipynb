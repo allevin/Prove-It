{
 "cells": [
  {
   "cell_type": "markdown",
   "metadata": {},
   "source": [
    "Show the Proof\n",
    "========"
   ]
  },
  {
   "cell_type": "code",
   "execution_count": 1,
   "metadata": {},
   "outputs": [
    {
     "data": {
      "text/html": [
       "<table><tr><th>&nbsp;</th><th>step type</th><th>requirements</th><th>statement</th></tr>\n",
       "<tr><td>0</td><td>specialization</td><td>1, 2</td><td><span style=\"font-size:20px;\"><a class=\"ProveItLink\" href=\"../0bdcf5b1be86a64613b85fb333664ba60799088c0/expr.ipynb\"><img src=\"data:image/png;base64,iVBORw0KGgoAAAANSUhEUgAAAH0AAAAVBAMAAACZCfwhAAAAMFBMVEX////c3NxERESqqqpUVFS6\n",
       "urrMzMwyMjIQEBCIiIh2dnYiIiLu7u5mZmaYmJgAAABXZE4RAAAAAXRSTlMAQObYZgAAAf1JREFU\n",
       "OMtjYGDgu8dAFmBbJQCieHaByEg8Cp/iMqAZRHJ+ADEdsCvh8717LoA3AVVw+af6ik0GQMZ1EI+r\n",
       "AUiwH8Cuv46BR5+BoQBNVCGSp2YVkF4B1z8Tu3aWBQwM5gwMrzD0M0xlR9HfgyzNM333boiV8kCX\n",
       "ZzIwnEATB+q3YzmApJ8VxYXpb2CseKAv0xgYmAxQxUH2CyHbzwt0J4PUFOG5E4A0ow7cJPmf4KDj\n",
       "usCAIq4QybZPB6afF2g3+wOg6xbw7ePYABRgEoDr5/z/XxFIMYOdhxBXiN7/A2TTexAnI4CBgQOI\n",
       "uYAxyQyy7hCSV+Q8fgD9yQoKIiRxoPtnGoFiDeiulDYggx+on4eBRQEsG7F7Nyz8gGA90GlsH1DF\n",
       "gfqZWEFeVgdKRiRA9ANdMQGsIwWReoD4PFx/CrL9TAxAy7hBZrAAjeQwgMYWKBmdhqs7CxIUgLn/\n",
       "NIZ+sP+5gGHGBLSET2A+AydIP8sDmDpg0mG4AnIH2NUIcZj74fEHiiD7BxoMkuBkshWm7vYEBk4F\n",
       "ePwhxIH6305Cjn9WoBsOzTq1EmKD+DWoOocQFz0QzR6AIg7MP9otBijptxElfZtU70ZJkCdwiCP0\n",
       "v8JbUqzEIQ7Wz4cv/0LyTQEOCXD+59kJStsOePSzCOAof1ohqWQxkJDEo38anvIPABDqiGG8tGR0\n",
       "AAAAAElFTkSuQmCC\n",
       "\" style=\"display:inline;vertical-align:middle;\" /></a> <a class=\"ProveItLink\" href=\"proof.ipynb\" style=\"text-decoration: none\">&#x22A2;&nbsp;</a><a class=\"ProveItLink\" href=\"../1269eafcbe06f887fca50f65df47c21195d81e1f0/expr.ipynb\"><img src=\"data:image/png;base64,iVBORw0KGgoAAAANSUhEUgAAAIkAAAAVBAMAAACArtDCAAAAMFBMVEX////c3NwiIiJERESqqqqY\n",
       "mJh2dnZmZmYQEBDu7u4yMjJUVFTMzMyIiIi6uroAAAAs73DqAAAAAXRSTlMAQObYZgAAAg9JREFU\n",
       "OMtjYKAO4LuAxHmLWx3rAwjGDk4jsXk2YFcTXV4Zx1ADZNSgSWR9Xr9C2QHIWIkkyDUBqyFcAQyT\n",
       "PzBwgVjoUgZvOVemMTDwInvoLnanbGNgYFnAwJrAAMZopjDcAxrNgWx9J7ICzltKSgtADMY/QL9e\n",
       "YOBsYABjEJi7SEkLZoor9wSGV8gBvQDZlFORMOEvQFMOMDCYMEAwkLd0ApJbhBkYypD0sQPdy5i7\n",
       "0bcW7AJLmDDj/ztgOh2KGRiEJyB8xKMKVLgUNRQZpjEEBTSBOMwCcPH7/z+DOF5QzMBgiAiXR/o/\n",
       "gCHbB3SCEggA3cEBTA4JDPcZfEDykxGmM0b3g0LsBRQzcBogh+5dZwaGf0hJhR9oygSGzRCBFyCj\n",
       "YQHF9hVInIdiBr4moBQ8dJn5EjBMYWDoRU+NQH9yopiClDhBpjAYMLQgmcLhAIlXTpDAJHiMFwAF\n",
       "P6L4SAHdFFMkU5iBtgbyfmC4CRLgDoDKABMcAzvI9igoZmDYimIK0EfpMD4wQbAVMLB8ZW5gBCdn\n",
       "Tj1Y/OsyMFxGjelJD5BMCQdKPkJOdQoMnLaZaVchPClo1uPm270Z7K51UAz04PID8Nxo1A0MBw4B\n",
       "JGMaUfKI9yIl5MSMnANYdkHjCFZsIOevMHwFEdsFCMYKiCgZIGAWFGMF0khsxg14TNkIxVgBI7Ij\n",
       "ZXEbwnsAgrEBAEV1im3XEPk7AAAAAElFTkSuQmCC\n",
       "\" style=\"display:inline;vertical-align:middle;\" /></a></span></td></tr>\n",
       "<tr><td>&nbsp;</td><td colspan=4 style=\"text-align:left\"><span style=\"font-size:20px;\"><a class=\"ProveItLink\" href=\"../../../../../__pv_it/2cbe72a7ad6f655694dd697106680215e8489b600/expr.ipynb\"><img src=\"data:image/png;base64,iVBORw0KGgoAAAANSUhEUgAAAA8AAAAOBAMAAAACpFvcAAAALVBMVEX///8QEBBERERUVFS6urqI\n",
       "iIhmZmaqqqrc3Nzu7u6YmJgyMjIiIiLMzMwAAADtIaYWAAAAAXRSTlMAQObYZgAAAFtJREFUCNdj\n",
       "YACBOwxQsA9Kc52bAGG05zVAGAFxDmCaZULdAjBjCsO9ADDDgaEvAUTzGhvbKYCVMDAwbgAxChgY\n",
       "eASANAeQwf0AyJgNxEwvGRia5HYwcOm9TgAA6BoR3jrzwFcAAAAASUVORK5CYII=\n",
       "\" style=\"display:inline;vertical-align:middle;\" /></a> : <a class=\"ProveItLink\" href=\"../269dcb9abf61389766c1a70edd07ce806798e9270/expr.ipynb\"><img src=\"data:image/png;base64,iVBORw0KGgoAAAANSUhEUgAAADMAAAAPBAMAAAC7N+rPAAAAMFBMVEX///+6uroyMjJERETMzMwQ\n",
       "EBAiIiKYmJju7u5mZmaqqqpUVFSIiIh2dnbc3NwAAAAWgogoAAAAAXRSTlMAQObYZgAAAM1JREFU\n",
       "GNNjYMAG2HfObBfAKsOgzsBhj12G+wIDwyIUkR61tCQw470DA4MPsgyLegOUJb+AgcEFSL89/erk\n",
       "AZDAY5gMw/s/DiCK4wJ7OmsCiGUH18/z/z+Iw8vA84ELpIjDAGH2861fgUZwMHBDxBjD0tKgzgCC\n",
       "+wUgkvUAxBUb4B4G4v4CqFNBDuBIgEl1ggQfAJU8OM/AA3bbdpgUyLezgXh9gSnDG7BIGyzUph1g\n",
       "4AHZ33y29w7YXAY+TQeI1Abp3eZoQce1CeFCIAAAnqEy768c/WoAAAAASUVORK5CYII=\n",
       "\" style=\"display:inline;vertical-align:middle;\" /></a></span></td></tr><tr><td>1</td><td>theorem</td><td></td><td><span style=\"font-size:20px;\"> <a class=\"ProveItLink\" href=\"../../../../boolean/negation/_proofs_/closure.ipynb\" style=\"text-decoration: none\">&#x22A2;&nbsp;</a><a class=\"ProveItLink\" href=\"../20172bc126bb9d4d416419ffb6c5d204da85cc810/expr.ipynb\"><img src=\"data:image/png;base64,iVBORw0KGgoAAAANSUhEUgAAAJsAAAAVBAMAAACj9YEXAAAAMFBMVEX///8QEBC6urrMzMxUVFRm\n",
       "ZmZERETc3NwyMjKqqqp2dnaIiIiYmJgiIiLu7u4AAAAU9Wx4AAAAAXRSTlMAQObYZgAAAnlJREFU\n",
       "OMutVEtoE0EY/pI0SZNs1uJNJBhFUHxADt6kpGihCmIFycXn4mFjUWgOkiKiBqEUSm29CN7cSxUR\n",
       "ZMGTpy6C4uNSDxURg1tRCVZFegg9iPr/M7O7ea1e/OBj55/559v/MTPA/4X719WoLdkGLd/b+TFx\n",
       "kQcvw+T2KAYYJB5td0rPnV3LjQHxAnCPJ2bD5Ga7FueI/R1eiajd+GIBNaBKZtIIUcvYki2Jvqfq\n",
       "aFaXXCZPWi/oT7QcvxEiF3ElA1w8XQH0AWmsXK+/UXIp5zCwTH+6OzFxOSzX7YoB7AXuw5gYx2bc\n",
       "ILptlGGCwmqa5tswuWOKQafd2w595oVRdYNkB5+SkT4C7AfKYnKqW25G0ccHFLmUt4RRDmpX/72R\n",
       "vimq31boNVHkVVXs6elJR/mtl4zXGVz/PK5SBNjMi7rR2opHZEWppllkxO5PP7m4pROwrZUtym9V\n",
       "UVRqiDg8PMoiRZF4jv7htQLGDlr+QQfByYoaPFii8Zkr30ku/TVELkqNrnlyPOFHByMh5fSaOPYx\n",
       "2wSeiOZZO08pvw2K3m7qXHbAT3axU46TRXkfT/XhpDjWJFfKebU7r6jkkiTXTxHgmZg51CZHyWq8\n",
       "/6b4y3MsIGbJ6OJ7ld+8fygIBTR46y9/7ls+kNOOG/KgIMKt15dK427stWme49qlld9uRYnqpilo\n",
       "42u055qwk5MF7wlovjrId5n1Ne5EvIJiQR+S0flykYpkB7xLljogO+th2R/tAtY5GFHJXvIuvNV9\n",
       "3zkcu/cluu8NPjaRHH2Hz3lxjE0n/IFiNHqryevQijtUu1ZcUGzHSG+5vsq/nv6kLdn+ChZ6Oz8E\n",
       "/gA3Vqps4Em40QAAAABJRU5ErkJggg==\n",
       "\" style=\"display:inline;vertical-align:middle;\" /></a></span></td></tr>\n",
       "<tr><td>&nbsp;</td><td colspan=4 style-\"text-align:left\"><a class=\"ProveItLink\" href=\"../../../../boolean/negation/_proofs_/closure.ipynb\">proveit.logic.boolean.negation.closure</a></td></tr><tr><td>2</td><td>assumption</td><td></td><td><span style=\"font-size:20px;\"><a class=\"ProveItLink\" href=\"../0bdcf5b1be86a64613b85fb333664ba60799088c0/expr.ipynb\"><img src=\"data:image/png;base64,iVBORw0KGgoAAAANSUhEUgAAAH0AAAAVBAMAAACZCfwhAAAAMFBMVEX////c3NxERESqqqpUVFS6\n",
       "urrMzMwyMjIQEBCIiIh2dnYiIiLu7u5mZmaYmJgAAABXZE4RAAAAAXRSTlMAQObYZgAAAf1JREFU\n",
       "OMtjYGDgu8dAFmBbJQCieHaByEg8Cp/iMqAZRHJ+ADEdsCvh8717LoA3AVVw+af6ik0GQMZ1EI+r\n",
       "AUiwH8Cuv46BR5+BoQBNVCGSp2YVkF4B1z8Tu3aWBQwM5gwMrzD0M0xlR9HfgyzNM333boiV8kCX\n",
       "ZzIwnEATB+q3YzmApJ8VxYXpb2CseKAv0xgYmAxQxUH2CyHbzwt0J4PUFOG5E4A0ow7cJPmf4KDj\n",
       "usCAIq4QybZPB6afF2g3+wOg6xbw7ePYABRgEoDr5/z/XxFIMYOdhxBXiN7/A2TTexAnI4CBgQOI\n",
       "uYAxyQyy7hCSV+Q8fgD9yQoKIiRxoPtnGoFiDeiulDYggx+on4eBRQEsG7F7Nyz8gGA90GlsH1DF\n",
       "gfqZWEFeVgdKRiRA9ANdMQGsIwWReoD4PFx/CrL9TAxAy7hBZrAAjeQwgMYWKBmdhqs7CxIUgLn/\n",
       "NIZ+sP+5gGHGBLSET2A+AydIP8sDmDpg0mG4AnIH2NUIcZj74fEHiiD7BxoMkuBkshWm7vYEBk4F\n",
       "ePwhxIH6305Cjn9WoBsOzTq1EmKD+DWoOocQFz0QzR6AIg7MP9otBijptxElfZtU70ZJkCdwiCP0\n",
       "v8JbUqzEIQ7Wz4cv/0LyTQEOCXD+59kJStsOePSzCOAof1ohqWQxkJDEo38anvIPABDqiGG8tGR0\n",
       "AAAAAElFTkSuQmCC\n",
       "\" style=\"display:inline;vertical-align:middle;\" /></a> <a class=\"ProveItLink\" href=\"../212342dd33da80f6af954b6561c2b62338917e470/proof.ipynb\" style=\"text-decoration: none\">&#x22A2;&nbsp;</a><a class=\"ProveItLink\" href=\"../95857e7f538d672d83b67a71660ff5163f3647690/expr.ipynb\"><img src=\"data:image/png;base64,iVBORw0KGgoAAAANSUhEUgAAAGgAAAAVBAMAAABYjraNAAAAMFBMVEX////c3NwiIiJERESqqqqY\n",
       "mJh2dnZmZmYQEBDu7u4yMjJUVFTMzMyIiIi6uroAAAAs73DqAAAAAXRSTlMAQObYZgAAAZxJREFU\n",
       "OMtjYCAL8F3ALcf6AIfEaRzi0eWVcQw1qGJs661+NZkAGSux6+EKYJj8gYELTZSZ78KsaQkMvDhc\n",
       "t42BgWUBA2sChibeBwsYOCYgC85dpKQFZjD+YWDgucDA2YAqDtTEErCT4RWyHp6lMCP4vgB5BxgY\n",
       "TFDFQTY9NGAoAxmbu9G3FiQmDLeW8f8dMJ3OgCIO1HQoeALDUiBzGkNQQBNIzBBh6f3/nwWAlBcD\n",
       "ijgzn9L/XgaGPiAzgeE+gw+Q5jRAaGKM7u8EUi8YUMRBzrtiwPAPyJzAsBnikSYlJWhAgCLlK5A4\n",
       "jyoO1MRg8AysiYGhF+LfDXCLAoDmwzUhxMGamBlaoAHMCXKGAkySswAo+BHuPAU0TaZAZiDvB4ab\n",
       "ILGtMElgvDKwg8yPYkARhzoPGKYsX5kbGMEJYxIsgbLrMjBcRgQ5XByoibXWgOER0HbbzLSrkCBb\n",
       "fgAiyc23e3MAiLEORRyYYD9rbGFg4BBAThIsuxChB/ZNA1Zx9CSJlhdwJOeV+DTNwiEujU/TRhzi\n",
       "jHiyO+8BrMIATOVt+0dxm7sAAAAASUVORK5CYII=\n",
       "\" style=\"display:inline;vertical-align:middle;\" /></a></span></td></tr>\n",
       "</table>"
      ],
      "text/plain": [
       "<proveit._core_.proof._ShowProof at 0x7f94e46a09b0>"
      ]
     },
     "execution_count": 1,
     "metadata": {},
     "output_type": "execute_result"
    }
   ],
   "source": [
    "import proveit\n",
    "%show_proof"
   ]
  },
  {
   "cell_type": "code",
   "execution_count": null,
   "metadata": {},
   "outputs": [],
   "source": []
  }
 ],
 "metadata": {
  "kernelspec": {
   "display_name": "Python 3",
   "language": "python",
   "name": "python3"
  }
 },
 "nbformat": 4,
 "nbformat_minor": 0
}
