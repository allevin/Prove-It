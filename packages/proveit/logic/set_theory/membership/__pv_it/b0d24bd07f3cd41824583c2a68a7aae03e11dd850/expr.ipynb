{
 "cells": [
  {
   "cell_type": "markdown",
   "metadata": {},
   "source": [
    "Expression of type <a class=\"ProveItLink\" href=\"../../../../../../../doc/html/api/proveit.logic.Set.html\">Set</a>\n",
    "=======================\n",
    "# from context <a class=\"ProveItLink\" href=\"../../_context_.ipynb\">proveit.logic.set_theory.membership</a>"
   ]
  },
  {
   "cell_type": "code",
   "execution_count": 1,
   "metadata": {},
   "outputs": [],
   "source": [
    "# import Expression classes needed to build the expression\n",
    "from proveit._common_ import D, S\n",
    "from proveit.logic import InSet, Set"
   ]
  },
  {
   "cell_type": "code",
   "execution_count": 2,
   "metadata": {},
   "outputs": [
    {
     "data": {
      "text/html": [
       "<strong id=\"expr\">expr:</strong> <a class=\"ProveItLink\" href=\"expr.ipynb\"><img src=\"data:image/png;base64,iVBORw0KGgoAAAANSUhEUgAAAEsAAAAVBAMAAAD85A5eAAAAMFBMVEX////c3NxERESqqqpUVFS6\n",
       "urrMzMwyMjIQEBCIiIh2dnYiIiLu7u5mZmaYmJgAAABXZE4RAAAAAXRSTlMAQObYZgAAAVlJREFU\n",
       "KM9jYGDgu8eAD7CtEgBRPLsY8AO2ZhDJ+QFE+H9xcVfDUPHk7p2nDAzXQUyuBhDJX8DAYG+Apor9\n",
       "AcMhoCErEMryFzAw8P5BU+bFwMBcgKJsfgDQET/BkjzTd+8uADEYvwHFJqAo0wcJfwErS38DNYz1\n",
       "M1BZAoqyTyAvgZUx6sDsZPw/DUyDlfGCLADbx/cLxGcSgLtt/v9PIM57EDsjABQgQGcwsHwF8Q8h\n",
       "vMD4pL8H5OELDAwpbWAjQIHHAbY+YvduqBdALvoHItUfAIUTQMGmADL8AUgsBW4YkMsDUsa9AGQV\n",
       "SGc+0N8MTWDJ0zBVPEC7GD/C3Ma1AeRYoJFMNWBZlgdQZaCQ5XVgQA4QYLCx1UIN2QpVxruTgWES\n",
       "A5Iynkv/XVx0E6DS4tcgNAuri9MDBhTTUIBJNdynDHiUoQOwMj6CysDpjWcnodTbCqb4FhPOCwCh\n",
       "g1tOHS4SGgAAAABJRU5ErkJggg==\n",
       "\" style=\"display:inline;vertical-align:middle;\" /></a><br>"
      ],
      "text/plain": [
       "expr: {D in S}"
      ]
     },
     "execution_count": 2,
     "metadata": {},
     "output_type": "execute_result"
    }
   ],
   "source": [
    "# build up the expression from sub-expressions\n",
    "expr = Set(InSet(D, S))"
   ]
  },
  {
   "cell_type": "code",
   "execution_count": 3,
   "metadata": {},
   "outputs": [
    {
     "name": "stdout",
     "output_type": "stream",
     "text": [
      "Passed sanity check: built 'expr' is the same as the stored Expression.\n"
     ]
    }
   ],
   "source": [
    "# check that the built expression is the same as the stored expression\n",
    "%check_expr"
   ]
  },
  {
   "cell_type": "code",
   "execution_count": 4,
   "metadata": {},
   "outputs": [
    {
     "data": {
      "text/html": [
       "<table><tr><th>&nbsp;</th><th>core type</th><th>sub-expressions</th><th>expression</th></tr>\n",
       "<tr><td>0</td><td>Operation</td><td>operator:&nbsp;1<br>operands:&nbsp;2<br></td><td><a class=\"ProveItLink\" href=\"expr.ipynb\"><img src=\"data:image/png;base64,iVBORw0KGgoAAAANSUhEUgAAAEsAAAAVBAMAAAD85A5eAAAAMFBMVEX////c3NxERESqqqpUVFS6\n",
       "urrMzMwyMjIQEBCIiIh2dnYiIiLu7u5mZmaYmJgAAABXZE4RAAAAAXRSTlMAQObYZgAAAVlJREFU\n",
       "KM9jYGDgu8eAD7CtEgBRPLsY8AO2ZhDJ+QFE+H9xcVfDUPHk7p2nDAzXQUyuBhDJX8DAYG+Apor9\n",
       "AcMhoCErEMryFzAw8P5BU+bFwMBcgKJsfgDQET/BkjzTd+8uADEYvwHFJqAo0wcJfwErS38DNYz1\n",
       "M1BZAoqyTyAvgZUx6sDsZPw/DUyDlfGCLADbx/cLxGcSgLtt/v9PIM57EDsjABQgQGcwsHwF8Q8h\n",
       "vMD4pL8H5OELDAwpbWAjQIHHAbY+YvduqBdALvoHItUfAIUTQMGmADL8AUgsBW4YkMsDUsa9AGQV\n",
       "SGc+0N8MTWDJ0zBVPEC7GD/C3Ma1AeRYoJFMNWBZlgdQZaCQ5XVgQA4QYLCx1UIN2QpVxruTgWES\n",
       "A5Iynkv/XVx0E6DS4tcgNAuri9MDBhTTUIBJNdynDHiUoQOwMj6CysDpjWcnodTbCqb4FhPOCwCh\n",
       "g1tOHS4SGgAAAABJRU5ErkJggg==\n",
       "\" style=\"display:inline;vertical-align:middle;\" /></a></td></tr>\n",
       "<tr><td>1</td><td>Literal</td><td></td><td><a class=\"ProveItLink\" href=\"../../../enumeration/__pv_it/07381ed5b23806e8d7914b78cb6667769e3708dd0/expr.ipynb\"><img src=\"data:image/png;base64,iVBORw0KGgoAAAANSUhEUgAAAB4AAAAOBAMAAADKyLEKAAAAMFBMVEX///8iIiIQEBCIiIjMzMzc\n",
       "3Nyqqqp2dnZEREQyMjK6urru7u5mZmZUVFSYmJgAAACI6eGPAAAAAXRSTlMAQObYZgAAALRJREFU\n",
       "CNdjYGDgu3Nm3wIGBJjHwN0PZW5yYGDgLWBgyITy8zcwMMQDxZyh/INAvD6BgcEFypcB4vjPDiBm\n",
       "TPFRrhs/LjMwMP//38rAwCbKEMPA9gEkE3fp0waG+AUMRxh4JkC01T9guPTOOICBEWgVH5C//wHD\n",
       "H5D4fqCz9oCMDGD4DLaegRXslLMMDMpAgxlOMmQxHDRgYG5gYLBk4D7KcIe7gOHC2rt9QCXsh40Z\n",
       "GCKMGQDRkC8N/Ph1XAAAAABJRU5ErkJggg==\n",
       "\" style=\"display:inline;vertical-align:middle;\" /></a></td></tr>\n",
       "<tr><td>2</td><td>ExprTuple</td><td>3</td><td><a class=\"ProveItLink\" href=\"../fa482183a8c3921d0164ab1de7d0ec92b4c2d3250/expr.ipynb\"><img src=\"data:image/png;base64,iVBORw0KGgoAAAANSUhEUgAAAEUAAAAVBAMAAADiLT7tAAAAMFBMVEX////c3NwiIiJERESqqqqY\n",
       "mJh2dnZmZmYQEBDu7u4yMjJUVFTMzMyIiIi6uroAAAAs73DqAAAAAXRSTlMAQObYZgAAAV5JREFU\n",
       "KM9jYCAG8F3AKx0HIk4D8e3/u3cvPoAuzbq9fOoDdpDwShD3FwMDyxd0NUsZOO0ZGBYwMPCCrOL5\n",
       "BiTqJ6Aq4U5gYPBiYAhjYOAAyfD+AxLnIQ6bu0hJC8yQB9pyloFhBgPDKxCX+QNIbAOIybMUZtx7\n",
       "BwaGM0A5B4YyEJffAGQOWI0w3Eb5v2BfsBUAHQazJj4BxDSEu4f3/38Qh2UBQx+Iex+kY/8DIMFp\n",
       "gHC06I4fQEP5GhhArmWwBxEd4BBtUlKCuhkI8gOADvwAUfMZFGJfwU7eAA9BIJ4PUdMCkvgLJDjA\n",
       "tnAqwNRMBzlbAGyXKch1f4CEFcRDW2FqgMHHUA0ybwFDOjR4ThVApCY9gKopusDAawDx+yOgqfa/\n",
       "d2+ugUoxLofG7YbXu0F2MHA9YOAQQItJll0If4EAMC5YEwikr1xY2sANOIFpg0EavxpukFsY8afV\n",
       "OwwMAIVdWIKWCdUfAAAAAElFTkSuQmCC\n",
       "\" style=\"display:inline;vertical-align:middle;\" /></a></td></tr>\n",
       "<tr><td>3</td><td>Operation</td><td>operator:&nbsp;4<br>operands:&nbsp;5<br></td><td><a class=\"ProveItLink\" href=\"../bef117ba3fe3b5f5778176d0b632b203570cc4470/expr.ipynb\"><img src=\"data:image/png;base64,iVBORw0KGgoAAAANSUhEUgAAADkAAAAPBAMAAACsFXoGAAAAMFBMVEX///8iIiIQEBCYmJjc3Ny6\n",
       "urru7u5mZmZ2dnaqqqrMzMxEREQyMjJUVFSIiIgAAABUCcz6AAAAAXRSTlMAQObYZgAAAO5JREFU\n",
       "GNNjYGB4+//u3dMLGNAA8/Xy5AAQ4w8DA+dPdNnDDGz7QTTXDyBRn4AqydvAwDAHxOD7CiTWPwAL\n",
       "5h0UlAEz/IFWrQMxuD+AeBfAxhyGGRE/gYFhFYjBvwGkFyzrDTff/x/UnWBD7RtAzC1we/n+/4dw\n",
       "3oNU3Qe5nm0DwlnOlz6BDQI7XAlEsCoKCkJdBQT9BiDyN8jvn8GOugAPCyDOB8ly/QMSTGAz2QRg\n",
       "sukghzmA7P8FJPZAHHsZJgsKiFqYd9cUQAQTA6CyhQ8Y+EDGpe//e/d2FVSQ5TjUlxdi725mwACc\n",
       "dxBuBgIAANVDQl26J+gAAAAASUVORK5CYII=\n",
       "\" style=\"display:inline;vertical-align:middle;\" /></a></td></tr>\n",
       "<tr><td>4</td><td>Literal</td><td></td><td><a class=\"ProveItLink\" href=\"../088cbc857536a28d4119ad9639a84270ccb0545d0/expr.ipynb\"><img src=\"data:image/png;base64,iVBORw0KGgoAAAANSUhEUgAAAAwAAAAMBAMAAACkW0HUAAAALVBMVEX///+qqqpmZmZUVFQQEBC6\n",
       "urpERETc3NyYmJjMzMwiIiIyMjKIiIju7u4AAACYsrA9AAAAAXRSTlMAQObYZgAAADxJREFUCNdj\n",
       "YOA9vWrVBgaG2b0MQMCeCyIZ2ArA1DUwyRCyahVIyWQI7xaEYm4AU7xLIdxqTQgtvGvVBgCkcQ7e\n",
       "geM/tQAAAABJRU5ErkJggg==\n",
       "\" style=\"display:inline;vertical-align:middle;\" /></a></td></tr>\n",
       "<tr><td>5</td><td>ExprTuple</td><td>6, 7</td><td><a class=\"ProveItLink\" href=\"../352d300839c45d8748b9cd412d28592d8364cf560/expr.ipynb\"><img src=\"data:image/png;base64,iVBORw0KGgoAAAANSUhEUgAAADUAAAAVBAMAAAAUZLt1AAAAMFBMVEX////c3NwiIiJERESqqqqY\n",
       "mJh2dnZmZmYQEBDu7u4yMjJUVFTMzMyIiIi6uroAAAAs73DqAAAAAXRSTlMAQObYZgAAATpJREFU\n",
       "KM9jYMAH+C5gFY4DEaeB+Pb/3bsXH4AJs24vn/qAHcRdCeL+YmBg+QKTW8rAac/AsICBgRdkJM83\n",
       "IFE/ASLFncDA4MXAEMbAwAES4f0HJM5DLZYHmnaWgWEGA8MrEJf5A0hsA0TuvQMDwxmgmANDGYjL\n",
       "bwDSB5WT/wt2FVsB0GKYcfEJEDne//8NgRTLAoY+EPc+SOX+B1B3iu74AXQEXwMDyBUM9iCiA+Hx\n",
       "/ACg2z9A5D6DfPwV6nMgng+RawF57y+Q4DCAyE0HOUcAbKYpyPY/QMIKaAfIr0BvM1SD9C9gSId6\n",
       "71QBAwPnJyCn6AIDrwHED4+Aptj/3r25Bsjl7AeateH1bpBZDFwPGDgEkOMLiQMMM9YEJDlWJHYu\n",
       "LI4w5TiBccQgjSSHlAS4QcYzYk8TdxgYAAcSUTbT14kgAAAAAElFTkSuQmCC\n",
       "\" style=\"display:inline;vertical-align:middle;\" /></a></td></tr>\n",
       "<tr><td>6</td><td>Variable</td><td></td><td><a class=\"ProveItLink\" href=\"../../../../../__pv_it/185e6d30f167ee2ee5ef3321098dc98e0d77bc590/expr.ipynb\"><img src=\"data:image/png;base64,iVBORw0KGgoAAAANSUhEUgAAABEAAAAOBAMAAAA7w+qHAAAALVBMVEX///8QEBCYmJjc3Ny6urru\n",
       "7u5mZmZ2dnaqqqrMzMxEREQyMjJUVFSIiIgAAABETr/8AAAAAXRSTlMAQObYZgAAAGpJREFUCNdj\n",
       "YGC48+7MmV0TGEDgNQMDxwsQg/M5kMgLABK8T4DEvAtAgusBkLA7ACT4FoDEDsAk9AqAxD2QCecc\n",
       "gMQ6kAGCIOIVEDM9Ahn3FkgwgnTxvgQSqwOgxs1OADLC1r05cyoTyAAAv4Qe+njAWvgAAAAASUVO\n",
       "RK5CYII=\n",
       "\" style=\"display:inline;vertical-align:middle;\" /></a></td></tr>\n",
       "<tr><td>7</td><td>Variable</td><td></td><td><a class=\"ProveItLink\" href=\"../../../../../__pv_it/abeee18594afe51bfb1be95d9591fbba24ac53f30/expr.ipynb\"><img src=\"data:image/png;base64,iVBORw0KGgoAAAANSUhEUgAAAA0AAAAOBAMAAAAGUYvhAAAAMFBMVEX///8iIiIQEBCIiIjMzMzc\n",
       "3Nyqqqp2dnZEREQyMjK6urru7u5mZmZUVFSYmJgAAACI6eGPAAAAAXRSTlMAQObYZgAAAF1JREFU\n",
       "CNdjYGDgu3Nm3wIGBoZ5DNz9QIq3gIEhE0jHOzAwOAPp9QkMDC4g/megABAw///fCmbEXfq0Acxg\n",
       "qH8ANAVI7wfSe0BKAyBGnAXigwYMzA1A+sLau31ACgAz0hhbkhGHbwAAAABJRU5ErkJggg==\n",
       "\" style=\"display:inline;vertical-align:middle;\" /></a></td></tr>\n",
       "</table>\n"
      ],
      "text/plain": [
       "0. {D in S}\n",
       "   core type: Operation\n",
       "   operator: 1\n",
       "   operands: 2\n",
       "1. Set\n",
       "   core type: Literal\n",
       "   sub-expressions: \n",
       "2. (D in S)\n",
       "   core type: ExprTuple\n",
       "   sub-expressions: 3\n",
       "3. D in S\n",
       "   core type: Operation\n",
       "   operator: 4\n",
       "   operands: 5\n",
       "4. in\n",
       "   core type: Literal\n",
       "   sub-expressions: \n",
       "5. (D , S)\n",
       "   core type: ExprTuple\n",
       "   sub-expressions: 6, 7\n",
       "6. D\n",
       "   core type: Variable\n",
       "   sub-expressions: \n",
       "7. S\n",
       "   core type: Variable\n",
       "   sub-expressions: "
      ]
     },
     "execution_count": 4,
     "metadata": {},
     "output_type": "execute_result"
    }
   ],
   "source": [
    "# display the expression information\n",
    "expr.exprInfo()"
   ]
  },
  {
   "cell_type": "code",
   "execution_count": null,
   "metadata": {},
   "outputs": [],
   "source": []
  }
 ],
 "metadata": {
  "kernelspec": {
   "display_name": "Python 3",
   "language": "python",
   "name": "python3"
  }
 },
 "nbformat": 4,
 "nbformat_minor": 0
}
