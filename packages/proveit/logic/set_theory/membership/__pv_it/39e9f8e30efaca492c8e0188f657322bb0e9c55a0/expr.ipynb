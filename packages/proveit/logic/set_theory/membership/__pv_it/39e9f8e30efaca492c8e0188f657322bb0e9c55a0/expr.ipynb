{
 "cells": [
  {
   "cell_type": "markdown",
   "metadata": {},
   "source": [
    "Expression of type <a class=\"ProveItLink\" href=\"../../../../../../../doc/html/api/proveit.logic.InSet.html\">InSet</a>\n",
    "=======================\n",
    "# from context <a class=\"ProveItLink\" href=\"../../_context_.ipynb\">proveit.logic.set_theory.membership</a>"
   ]
  },
  {
   "cell_type": "code",
   "execution_count": 1,
   "metadata": {},
   "outputs": [],
   "source": [
    "# import Expression classes needed to build the expression\n",
    "from proveit._common_ import A, B, C, D, E, S\n",
    "from proveit.logic import InSet\n",
    "from proveit.number import Exp, five"
   ]
  },
  {
   "cell_type": "code",
   "execution_count": 2,
   "metadata": {},
   "outputs": [
    {
     "data": {
      "text/html": [
       "<strong id=\"expr\">expr:</strong> <a class=\"ProveItLink\" href=\"expr.ipynb\"><img src=\"data:image/png;base64,iVBORw0KGgoAAAANSUhEUgAAALQAAAAZBAMAAABqYRkxAAAAMFBMVEX////c3NwiIiJERESqqqqY\n",
       "mJh2dnZmZmYQEBDu7u4yMjJUVFTMzMyIiIi6uroAAAAs73DqAAAAAXRSTlMAQObYZgAAAvZJREFU\n",
       "SMe1VU9IFFEc/qZ1dnbcmXGhILCDsRAUVOslSggUOnZwLwUh2J76cwg3Ii0oFOpSh3ZQAunvFkSZ\n",
       "UIJQsHNw6ZiHXfAglKF1SbqkqYG76fZ7/2ZHa73IDsyb7/e+eb/3ft/73gxQl8u5fL+IOqWulFGv\n",
       "1N2xuqWeQ91S35x2qd2W3t3/79ZiDVlgUgQfVK8+UfbG36jInHp/VUtzaBORO66IzxXPy5Vg5P9J\n",
       "29V3nSY0/wAjouOtT0VagX6l1YUknGtJgZtoIZ0d6rUS3SeA7ObMjUkMLTTmsQ5b6KEnXMUVqKcw\n",
       "JvCDA9T0yN0upABjVam5Ro0BnN6c+h3QkI3ktUVERMpd/b5bZgmdTQn8irHziqBSrDUZhKlgPAaG\n",
       "pXCf4nFegEb9VjHs2mP4IajirG+XY3TvFxMay6zdLYl2NlIdhcYFhKEBIaHQxzOqGhpi5XGuF+gV\n",
       "HW5nUqWmwc1tArbwhTySxBLdlkrd1IpTfPV8j7U23xuVGQVf8PYJV5hfVvnL9D6J+5MBEbkW+m8Z\n",
       "/RzNLbJnA589VD18s5UlGdzj7Rxa0pKyacSg3MVE8LjaTN3ouox68sIczgBrhwKW7srcEYi/anne\n",
       "RKukQvSuvSJwhbfSO6EF5swB+GZNgUxtsV7Mx+NyG5lGK4HUDo1RRNNYtewMLznvq0vWSVaFj5lF\n",
       "lXrSXzTxpkx9mzW0yzvUcgpERpcFnnCFeX2/41bQ1mFXCTLon17SVVsU+AiTp4ObSVTObM2c4aps\n",
       "FxVBqw/R2TV9WzNX6rzaqCqG7aohd+o8O3NMyVWYv6StrbuuCHRa/feYJMjW1kt6Pt0rbA3roG8+\n",
       "87BMbRwCpiT+BuzMPIPeXkqbGVrwFfrsvGaCsQCTo30dApuMOMpkH6Z6H7aXPS/B5xBHrfmGSBd1\n",
       "vHFVQSTgLyfoNacWga/BQB50nHwe3/yl0lMBvIGogbkJqtelLT7mI9tKbWa3SL2nCjf8b4o1MOxg\n",
       "EN3q96pt6wc2U5v6Cyas05aumcONAAAAAElFTkSuQmCC\n",
       "\" style=\"display:inline;vertical-align:middle;\" /></a><br>"
      ],
      "text/plain": [
       "expr: (A , B , C , D , E) in S^{5}"
      ]
     },
     "execution_count": 2,
     "metadata": {},
     "output_type": "execute_result"
    }
   ],
   "source": [
    "# build up the expression from sub-expressions\n",
    "expr = InSet([A, B, C, D, E], Exp(S, five))"
   ]
  },
  {
   "cell_type": "code",
   "execution_count": 3,
   "metadata": {},
   "outputs": [
    {
     "name": "stdout",
     "output_type": "stream",
     "text": [
      "Passed sanity check: built 'expr' is the same as the stored Expression.\n"
     ]
    }
   ],
   "source": [
    "# check that the built expression is the same as the stored expression\n",
    "%check_expr"
   ]
  },
  {
   "cell_type": "code",
   "execution_count": 4,
   "metadata": {},
   "outputs": [
    {
     "data": {
      "text/html": [
       "<table><tr><th>&nbsp;</th><th>core type</th><th>sub-expressions</th><th>expression</th></tr>\n",
       "<tr><td>0</td><td>Operation</td><td>operator:&nbsp;1<br>operands:&nbsp;2<br></td><td><a class=\"ProveItLink\" href=\"expr.ipynb\"><img src=\"data:image/png;base64,iVBORw0KGgoAAAANSUhEUgAAALQAAAAZBAMAAABqYRkxAAAAMFBMVEX////c3NwiIiJERESqqqqY\n",
       "mJh2dnZmZmYQEBDu7u4yMjJUVFTMzMyIiIi6uroAAAAs73DqAAAAAXRSTlMAQObYZgAAAvZJREFU\n",
       "SMe1VU9IFFEc/qZ1dnbcmXGhILCDsRAUVOslSggUOnZwLwUh2J76cwg3Ii0oFOpSh3ZQAunvFkSZ\n",
       "UIJQsHNw6ZiHXfAglKF1SbqkqYG76fZ7/2ZHa73IDsyb7/e+eb/3ft/73gxQl8u5fL+IOqWulFGv\n",
       "1N2xuqWeQ91S35x2qd2W3t3/79ZiDVlgUgQfVK8+UfbG36jInHp/VUtzaBORO66IzxXPy5Vg5P9J\n",
       "29V3nSY0/wAjouOtT0VagX6l1YUknGtJgZtoIZ0d6rUS3SeA7ObMjUkMLTTmsQ5b6KEnXMUVqKcw\n",
       "JvCDA9T0yN0upABjVam5Ro0BnN6c+h3QkI3ktUVERMpd/b5bZgmdTQn8irHziqBSrDUZhKlgPAaG\n",
       "pXCf4nFegEb9VjHs2mP4IajirG+XY3TvFxMay6zdLYl2NlIdhcYFhKEBIaHQxzOqGhpi5XGuF+gV\n",
       "HW5nUqWmwc1tArbwhTySxBLdlkrd1IpTfPV8j7U23xuVGQVf8PYJV5hfVvnL9D6J+5MBEbkW+m8Z\n",
       "/RzNLbJnA589VD18s5UlGdzj7Rxa0pKyacSg3MVE8LjaTN3ouox68sIczgBrhwKW7srcEYi/anne\n",
       "RKukQvSuvSJwhbfSO6EF5swB+GZNgUxtsV7Mx+NyG5lGK4HUDo1RRNNYtewMLznvq0vWSVaFj5lF\n",
       "lXrSXzTxpkx9mzW0yzvUcgpERpcFnnCFeX2/41bQ1mFXCTLon17SVVsU+AiTp4ObSVTObM2c4aps\n",
       "FxVBqw/R2TV9WzNX6rzaqCqG7aohd+o8O3NMyVWYv6StrbuuCHRa/feYJMjW1kt6Pt0rbA3roG8+\n",
       "87BMbRwCpiT+BuzMPIPeXkqbGVrwFfrsvGaCsQCTo30dApuMOMpkH6Z6H7aXPS/B5xBHrfmGSBd1\n",
       "vHFVQSTgLyfoNacWga/BQB50nHwe3/yl0lMBvIGogbkJqtelLT7mI9tKbWa3SL2nCjf8b4o1MOxg\n",
       "EN3q96pt6wc2U5v6Cyas05aumcONAAAAAElFTkSuQmCC\n",
       "\" style=\"display:inline;vertical-align:middle;\" /></a></td></tr>\n",
       "<tr><td>1</td><td>Literal</td><td></td><td><a class=\"ProveItLink\" href=\"../088cbc857536a28d4119ad9639a84270ccb0545d0/expr.ipynb\"><img src=\"data:image/png;base64,iVBORw0KGgoAAAANSUhEUgAAAAwAAAAMBAMAAACkW0HUAAAALVBMVEX///+qqqpmZmZUVFQQEBC6\n",
       "urpERETc3NyYmJjMzMwiIiIyMjKIiIju7u4AAACYsrA9AAAAAXRSTlMAQObYZgAAADxJREFUCNdj\n",
       "YOA9vWrVBgaG2b0MQMCeCyIZ2ArA1DUwyRCyahVIyWQI7xaEYm4AU7xLIdxqTQgtvGvVBgCkcQ7e\n",
       "geM/tQAAAABJRU5ErkJggg==\n",
       "\" style=\"display:inline;vertical-align:middle;\" /></a></td></tr>\n",
       "<tr><td>2</td><td>ExprTuple</td><td>3, 4</td><td><a class=\"ProveItLink\" href=\"../1580fdfae74b051b0bccfd912ea374df2ef3e3a30/expr.ipynb\"><img src=\"data:image/png;base64,iVBORw0KGgoAAAANSUhEUgAAALgAAAAcBAMAAAAgkGgMAAAAMFBMVEX///+qqqp2dnYiIiJERESI\n",
       "iIhmZmYQEBDc3NyYmJgyMjLu7u5UVFTMzMy6uroAAACGxKilAAAAAXRSTlMAQObYZgAAA0hJREFU\n",
       "SMe1VstrE0EY/5J2N9lsdtv/wCCohx7aiy9EGk/iAxqw1osloWhViqSeBAWzQvFQhEbxWGoO4rOY\n",
       "BR/FglY0CMpCFnqTQgKCigeb1gpNH4nftzuzs9r2YpuBnfle830zv/nNJAANaPr5VwloVNPrK1z8\n",
       "ufXJxwyAGEna261PXsZuhqRJc+uTn+0xQSLYP5K2KfzH/jWEjUAOYB8Kg3wLANPcqxRXrMJTrqnd\n",
       "Hy6EU658um5Z92zmkDDMyudk25d4tH8Ai6mrGAog06wnriPvhYTiAOkyU3ZlQT+XZcoSQGCOh7Xg\n",
       "AgNxyInckSw8r0RsqAFMmRDCFJKLitLpwV9CS4md9OQB7NoNV9HmsUvzuFmamILbIvk7rJYL2eFF\n",
       "gKYslGidbvD1tMFjkijdjbnyA/J+40jUWGmntSMgagImBNoIh5YImhIuTI7DKTT9cD2JJAcCDuO3\n",
       "1y0pOyDcYI7mCnYjnL15orMBza0eTzBYs2F7HwFRgU849LkOcxsHFvCGDR9zxREH0dcc5TgIwGAB\n",
       "FJoSTHkrr/cKQi7DcRweOcobsV1t5WTPfians36WOSEcMH3JyhOSAXGiyfoCx1Zbhfs4XHOUMozw\n",
       "FUh4Hs/Y8joNf/Ik0a7I4AuuQsQpMihAH81c5WIN9uBQcwpZVjHOkcVoqerKdafn/Oii7jLnXQWC\n",
       "oOHUiq98sMqvx5xIriNr+PZacNXKvCtnqAvYHsroqYoDCMMLf3KEUK2KlY/jcIlkPPEmvr0SBkXZ\n",
       "VSnSomWO4292wwTN23ywqIgrUZzTsoDDERJbnW26+yeaE0tMfoRtzCEhj+GoCapHc3oXFNqxyk5W\n",
       "5lTSF+EEDjvpHhLUy6D+YjTXrpiuouAOvhrMQTT/jOmmOvhzMW0zKpJJ3g3Q7T1QFZjF4QvAUOYh\n",
       "KF1LKTWDiz6Dr9Njgo8UmBnvb2Xyyy580C6ibQL3rhYw7D3VjJSZKapbBY+5wRy0YOWQj226n3n6\n",
       "Rg747lcm1pqoZAKieCGUmDApfr+ygezQQrQda02EkwFah3hy/zO5mls3+R38DuF3U5j++k1KbCCD\n",
       "5FeixhoTtYP4DRMPN/Uz17uuVSEKBWKN+fMy5PS3GpN8ABrb/gCRs/fU5o7ZRwAAAABJRU5ErkJg\n",
       "gg==\n",
       "\" style=\"display:inline;vertical-align:middle;\" /></a></td></tr>\n",
       "<tr><td>3</td><td>ExprTuple</td><td>5, 6, 7, 8, 9</td><td><a class=\"ProveItLink\" href=\"../48b8758d7ce008e3b0e47a1b73432346514090220/expr.ipynb\"><img src=\"data:image/png;base64,iVBORw0KGgoAAAANSUhEUgAAAIMAAAAVBAMAAACXjEALAAAAMFBMVEX////c3NwiIiJERESqqqqY\n",
       "mJh2dnZmZmYQEBDu7u4yMjJUVFTMzMyIiIi6uroAAAAs73DqAAAAAXRSTlMAQObYZgAAAkJJREFU\n",
       "OMutVDtvE0EQ/ky8ds6xj5NAQoLCNEhQxQ0S0Nj/AFeU4A5SoJyEeBRIdkGBKPCJhijicQgh8ZAw\n",
       "IgXFFbZSkiKWKCgA2dCAaDCPRMIOCTO7O75L4YZgyaPvm9mdnW9n9oD/8HO7O9l9ms2KwcviVO1R\n",
       "tPRcmPPm1cWUb/C7rSh62LGBAi2LWmGW+RPjao0TT5eAet+Sc1W4V6qWDIH0L1m2OyRWAtmC0aFm\n",
       "A4mtkmf1hcGLR8jMe4bk18nUZd033ujjFJ1pXHvrnqToETpTM/gxR79I7Zv2AP2bJwlOFwvAV+Po\n",
       "9qR0HKP/YZM4q8veZwNTAzJFWx8rr8HDVAWXTFuCkyIYI2D/cQOLIds7or6EWCJ+QvGWjI9Hmt+L\n",
       "C8yPPrw9ZHG9mmygXiIS3WHUYu3pEDe1o4+iL4q/A7fsUbNeMkWPG9i2gjMbyOlUDWzqk6OoXRLF\n",
       "DUqzZvCWttKDMpvrluQGyCBPWwcmhUudCUUxVaDWDW6ySXfG6imyFl9MCnd1imvMK8Cuhigm/TN2\n",
       "gNpcQFYu6Y+du3gs5rSQo4RSFV2YqZjHgjsRyAXO2UBhg8yJAM54LHjyVYizPIN8Bb/h/LBjkb8R\n",
       "GKKoms+eDfBYvKZN9w/Kg1ju6KZ+AvY0H0CVh77TpAIu0Ft6Slo0wcqzyxWLb5fp+V0l3wK1zFmi\n",
       "ZS85c66P6UTf3GQP3UkBfEwSGnBVi6lKxtQEDGybt/PxY//HFA7PwoGYb/t+dSdgFJJkhiWmdvTh\n",
       "ew/8BQ43qTqeMmcWAAAAAElFTkSuQmCC\n",
       "\" style=\"display:inline;vertical-align:middle;\" /></a></td></tr>\n",
       "<tr><td>4</td><td>Operation</td><td>operator:&nbsp;10<br>operands:&nbsp;11<br></td><td><a class=\"ProveItLink\" href=\"../4be017fe0a5840078cedc210dd0d940772faba4f0/expr.ipynb\"><img src=\"data:image/png;base64,iVBORw0KGgoAAAANSUhEUgAAABUAAAAUBAMAAACQZWsAAAAAMFBMVEX///8iIiIQEBCIiIjMzMzc\n",
       "3Nyqqqp2dnZEREQyMjK6urru7u5mZmZUVFSYmJgAAACI6eGPAAAAAXRSTlMAQObYZgAAAJBJREFU\n",
       "CNdjYICANdGPGWBg/f8LcPa6pXAmwyoEk2GN8Wk4O5QhE0Tx3TmzbwEDw34HIHseA3c/wxQGfiCf\n",
       "t4ABKK/CEB/AwBAPlHNmqGawBdmSwMDgwsBeA5RmiP/sADeN+f//Vjgn7tKnDQhL6x9AaD4g3g9l\n",
       "7wFpD4CwQc44C1V70ICBuQHKvrD2bh+UCQCkhiXoqI5dSwAAAABJRU5ErkJggg==\n",
       "\" style=\"display:inline;vertical-align:middle;\" /></a></td></tr>\n",
       "<tr><td>5</td><td>Variable</td><td></td><td><a class=\"ProveItLink\" href=\"../../../../../__pv_it/2cbe72a7ad6f655694dd697106680215e8489b600/expr.ipynb\"><img src=\"data:image/png;base64,iVBORw0KGgoAAAANSUhEUgAAAA8AAAAOBAMAAAACpFvcAAAALVBMVEX///8QEBBERERUVFS6urqI\n",
       "iIhmZmaqqqrc3Nzu7u6YmJgyMjIiIiLMzMwAAADtIaYWAAAAAXRSTlMAQObYZgAAAFtJREFUCNdj\n",
       "YACBOwxQsA9Kc52bAGG05zVAGAFxDmCaZULdAjBjCsO9ADDDgaEvAUTzGhvbKYCVMDAwbgAxChgY\n",
       "eASANAeQwf0AyJgNxEwvGRia5HYwcOm9TgAA6BoR3jrzwFcAAAAASUVORK5CYII=\n",
       "\" style=\"display:inline;vertical-align:middle;\" /></a></td></tr>\n",
       "<tr><td>6</td><td>Variable</td><td></td><td><a class=\"ProveItLink\" href=\"../../../../../__pv_it/077b2ff79244fb4582cbe22c6e3356fa92a52f2f0/expr.ipynb\"><img src=\"data:image/png;base64,iVBORw0KGgoAAAANSUhEUgAAABAAAAAOBAMAAADUAYG5AAAAMFBMVEX///+qqqru7u4iIiJ2dnbc\n",
       "3NyIiIjMzMxmZmYQEBC6uroyMjJERERUVFSYmJgAAADLUcuvAAAAAXRSTlMAQObYZgAAAGpJREFU\n",
       "CNdjYGB4+//u3dMLGIBgDgMDxy8gzf4NiP8CGWxfGRj4vgAZPBMYGJgnARn8FxhY9ygAGfXX0pof\n",
       "gDTlBzAw2YIYJ0EckBBI53sHoBH/gIz7AhBjWH9DjancBLTl/N+7t/cxMAAA3u4f/5xagjYAAAAA\n",
       "SUVORK5CYII=\n",
       "\" style=\"display:inline;vertical-align:middle;\" /></a></td></tr>\n",
       "<tr><td>7</td><td>Variable</td><td></td><td><a class=\"ProveItLink\" href=\"../../../../../__pv_it/985a1bdf1540838275dec15f4ad6de261cca93ce0/expr.ipynb\"><img src=\"data:image/png;base64,iVBORw0KGgoAAAANSUhEUgAAAA8AAAAOBAMAAAACpFvcAAAAMFBMVEX////MzMyqqqoiIiIyMjK6\n",
       "uroQEBB2dnbc3NyYmJhmZmZUVFRERESIiIju7u4AAAB204erAAAAAXRSTlMAQObYZgAAAGZJREFU\n",
       "CNdjYGDgu7NrJccCBgaGsgkMrMsmMDA8sQNy6hsYGNweABlhDAxcn4A0QxcDQ78DiPGQgWH9BAYI\n",
       "sG+AMv6DSaCGfBDNJMDAsB+kmwuI5S8AiTog5gSaEwXWIO29SgFIAQBC+RaDQlidVgAAAABJRU5E\n",
       "rkJggg==\n",
       "\" style=\"display:inline;vertical-align:middle;\" /></a></td></tr>\n",
       "<tr><td>8</td><td>Variable</td><td></td><td><a class=\"ProveItLink\" href=\"../../../../../__pv_it/185e6d30f167ee2ee5ef3321098dc98e0d77bc590/expr.ipynb\"><img src=\"data:image/png;base64,iVBORw0KGgoAAAANSUhEUgAAABEAAAAOBAMAAAA7w+qHAAAALVBMVEX///8QEBCYmJjc3Ny6urru\n",
       "7u5mZmZ2dnaqqqrMzMxEREQyMjJUVFSIiIgAAABETr/8AAAAAXRSTlMAQObYZgAAAGpJREFUCNdj\n",
       "YGC48+7MmV0TGEDgNQMDxwsQg/M5kMgLABK8T4DEvAtAgusBkLA7ACT4FoDEDsAk9AqAxD2QCecc\n",
       "gMQ6kAGCIOIVEDM9Ahn3FkgwgnTxvgQSqwOgxs1OADLC1r05cyoTyAAAv4Qe+njAWvgAAAAASUVO\n",
       "RK5CYII=\n",
       "\" style=\"display:inline;vertical-align:middle;\" /></a></td></tr>\n",
       "<tr><td>9</td><td>Variable</td><td></td><td><a class=\"ProveItLink\" href=\"../../../../../__pv_it/9995c55100c62d7d8a012a35bafc852acbe03cf00/expr.ipynb\"><img src=\"data:image/png;base64,iVBORw0KGgoAAAANSUhEUgAAABAAAAAOBAMAAADUAYG5AAAALVBMVEX///8iIiKYmJjc3Nzu7u7M\n",
       "zMx2dnZmZma6urpERESqqqoyMjJUVFSIiIgAAACbLqVTAAAAAXRSTlMAQObYZgAAAGVJREFUCNdj\n",
       "YGC48+7MmdOvGYAARKwEYo63QIIdiNmeAglfIOZ+wMDGwAxk8E1gUAIpZejbc/oxmJEXwLABzNjH\n",
       "wJDAEABkvGRgMGC5ADWGzQFqjDnEGAZWUQYGn3lvzpyRE2AAAIznGVQJqiN4AAAAAElFTkSuQmCC\n",
       "\" style=\"display:inline;vertical-align:middle;\" /></a></td></tr>\n",
       "<tr><td>10</td><td>Literal</td><td></td><td><a class=\"ProveItLink\" href=\"../../../../../number/exponentiation/__pv_it/deb2bf23cbccdd6e6791e1b35b5b9794ce12dbd50/expr.ipynb\"><img src=\"data:image/png;base64,iVBORw0KGgoAAAANSUhEUgAAACgAAAASBAMAAADbMYGVAAAAMFBMVEX///8QEBAiIiKYmJjc3Nzu\n",
       "7u7MzMx2dnZmZma6urpERESqqqoyMjJUVFSIiIgAAAAoDOMTAAAAAXRSTlMAQObYZgAAAOBJREFU\n",
       "GNNjYGB4+//u3Tt/GNAASGAXmhjnPyDBgSbI/g1IxKEJ8nxgYGdgQRPkX8BgDKRY6q7s62OYvmze\n",
       "2wAgb/7ZO1+AVDiDkYEQQ0HTBr4DQF59AgOIKmB4z7CNbcNZBu6vQN55kEACQwDDLQYGVobfDHwg\n",
       "fb8YGBxYHwAZciD3fWXg+gB1JjvQcJZvQIXsCgz8F6DO9GBgMOH7wPCUgaeBwd4B7EwGNjUG7s9c\n",
       "AiwPgO5jkWRgiF3/9+5dfQUG1nWl5Y+B7pv+1gE9bBhqGLCAE1jEWH9jEbT5A3IwAC4sP/1L6Qlu\n",
       "AAAAAElFTkSuQmCC\n",
       "\" style=\"display:inline;vertical-align:middle;\" /></a></td></tr>\n",
       "<tr><td>11</td><td>ExprTuple</td><td>12, 13</td><td><a class=\"ProveItLink\" href=\"../696428b03dd93d3563e7f326a115209b3b02c7b40/expr.ipynb\"><img src=\"data:image/png;base64,iVBORw0KGgoAAAANSUhEUgAAAC0AAAAVBAMAAAAgHXppAAAAMFBMVEX////c3NwiIiJERESqqqqY\n",
       "mJh2dnZmZmYQEBDu7u4yMjJUVFTMzMyIiIi6uroAAAAs73DqAAAAAXRSTlMAQObYZgAAASFJREFU\n",
       "GNNjYMAF+C5gCMWBiNMggnV7+dQHIAZXJGMKA/sBIGsliLuUgdMerJTj//8EBoYFDAy8IGO4gWwv\n",
       "sDhXdQ6QDAMqmACk5YEaz4LFucHkDAaGVyD6vQMDwxkkcWYHhjIQLf/3ANQp3HdvA+1nKwDaCAS8\n",
       "//8bQsSZJ3D+Y2BgWcDQB+aK7vgxAeb6HUA/NTD8g/LyA2Di+QcYeD6AxVmBeD5E3Ago/gAk3gLk\n",
       "TAdZLQAWb2JgqBcAmWPKAPFSNQMnSLyAgWEV0IAFDOlATtEFBl4DhvkKQKY4A0sj2J2PgJwNr3cD\n",
       "tc34CGTylO8GGsj1gIFDAB68D+EsYDiwJsB5cJcy5MLCGVWcExjODNIwHi9cATfIbEbMeLzDwAAA\n",
       "YwlBrWbmI9AAAAAASUVORK5CYII=\n",
       "\" style=\"display:inline;vertical-align:middle;\" /></a></td></tr>\n",
       "<tr><td>12</td><td>Variable</td><td></td><td><a class=\"ProveItLink\" href=\"../../../../../__pv_it/abeee18594afe51bfb1be95d9591fbba24ac53f30/expr.ipynb\"><img src=\"data:image/png;base64,iVBORw0KGgoAAAANSUhEUgAAAA0AAAAOBAMAAAAGUYvhAAAAMFBMVEX///8iIiIQEBCIiIjMzMzc\n",
       "3Nyqqqp2dnZEREQyMjK6urru7u5mZmZUVFSYmJgAAACI6eGPAAAAAXRSTlMAQObYZgAAAF1JREFU\n",
       "CNdjYGDgu3Nm3wIGBoZ5DNz9QIq3gIEhE0jHOzAwOAPp9QkMDC4g/megABAw///fCmbEXfq0Acxg\n",
       "qH8ANAVI7wfSe0BKAyBGnAXigwYMzA1A+sLau31ACgAz0hhbkhGHbwAAAABJRU5ErkJggg==\n",
       "\" style=\"display:inline;vertical-align:middle;\" /></a></td></tr>\n",
       "<tr><td>13</td><td>Literal</td><td></td><td><a class=\"ProveItLink\" href=\"../../../../../number/numeral/__pv_it/aaeeaca7d86eb2b7cdc49e25c3108b81b52ec5400/expr.ipynb\"><img src=\"data:image/png;base64,iVBORw0KGgoAAAANSUhEUgAAAAkAAAAOBAMAAAAPuiubAAAAMFBMVEX///8iIiJERES6urqIiIjM\n",
       "zMxUVFRmZmYQEBCqqqp2dnbc3Nzu7u6YmJgyMjIAAADYGhJvAAAAAXRSTlMAQObYZgAAAE1JREFU\n",
       "CNdj4LvDvZKBgeP//wUMDHxlSxkYGNgYGBCki5sBAwPTAZ7PYG4GmFwfwKAIJA0YGhkY6jcwFDAw\n",
       "vGNg2M7A2c3AwFqetoEBAKS8EE1WXEJLAAAAAElFTkSuQmCC\n",
       "\" style=\"display:inline;vertical-align:middle;\" /></a></td></tr>\n",
       "</table>\n"
      ],
      "text/plain": [
       "0. (A , B , C , D , E) in S^{5}\n",
       "   core type: Operation\n",
       "   operator: 1\n",
       "   operands: 2\n",
       "1. in\n",
       "   core type: Literal\n",
       "   sub-expressions: \n",
       "2. ((A , B , C , D , E) , S^{5})\n",
       "   core type: ExprTuple\n",
       "   sub-expressions: 3, 4\n",
       "3. (A , B , C , D , E)\n",
       "   core type: ExprTuple\n",
       "   sub-expressions: 5, 6, 7, 8, 9\n",
       "4. S^{5}\n",
       "   core type: Operation\n",
       "   operator: 10\n",
       "   operands: 11\n",
       "5. A\n",
       "   core type: Variable\n",
       "   sub-expressions: \n",
       "6. B\n",
       "   core type: Variable\n",
       "   sub-expressions: \n",
       "7. C\n",
       "   core type: Variable\n",
       "   sub-expressions: \n",
       "8. D\n",
       "   core type: Variable\n",
       "   sub-expressions: \n",
       "9. E\n",
       "   core type: Variable\n",
       "   sub-expressions: \n",
       "10. Exp\n",
       "    core type: Literal\n",
       "    sub-expressions: \n",
       "11. (S , 5)\n",
       "    core type: ExprTuple\n",
       "    sub-expressions: 12, 13\n",
       "12. S\n",
       "    core type: Variable\n",
       "    sub-expressions: \n",
       "13. 5\n",
       "    core type: Literal\n",
       "    sub-expressions: "
      ]
     },
     "execution_count": 4,
     "metadata": {},
     "output_type": "execute_result"
    }
   ],
   "source": [
    "# display the expression information\n",
    "expr.exprInfo()"
   ]
  },
  {
   "cell_type": "code",
   "execution_count": null,
   "metadata": {},
   "outputs": [],
   "source": []
  }
 ],
 "metadata": {
  "kernelspec": {
   "display_name": "Python 3",
   "language": "python",
   "name": "python3"
  }
 },
 "nbformat": 4,
 "nbformat_minor": 0
}
