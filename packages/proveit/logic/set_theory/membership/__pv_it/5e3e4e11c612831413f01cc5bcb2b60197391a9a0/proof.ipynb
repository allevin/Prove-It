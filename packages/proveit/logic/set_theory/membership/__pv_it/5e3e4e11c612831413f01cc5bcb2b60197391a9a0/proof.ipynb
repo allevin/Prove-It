{
 "cells": [
  {
   "cell_type": "markdown",
   "metadata": {},
   "source": [
    "Show the Proof\n",
    "========"
   ]
  },
  {
   "cell_type": "code",
   "execution_count": 1,
   "metadata": {},
   "outputs": [
    {
     "data": {
      "text/html": [
       "<table><tr><th>&nbsp;</th><th>step type</th><th>requirements</th><th>statement</th></tr>\n",
       "<tr><td>0</td><td>assumption</td><td></td><td><span style=\"font-size:20px;\"><a class=\"ProveItLink\" href=\"../d7079ed70835af4a9c8f5903b37d53e30e7c4ac80/expr.ipynb\"><img src=\"data:image/png;base64,iVBORw0KGgoAAAANSUhEUgAAAEkAAAAVBAMAAAD4Ed5jAAAAMFBMVEX///9ERETc3NyqqqpUVFS6\n",
       "urrMzMwyMjIQEBCIiIh2dnYiIiLu7u5mZmaYmJgAAABJJ2g3AAAAAXRSTlMAQObYZgAAAUJJREFU\n",
       "KM9jYGDgu8eAB7CtUgBRPLsY8AK2ZhDJ+QHK24Ch4MndO08ZGK6DmFwNECH2D+iK2B8wHAQKrkBW\n",
       "9foPuiovBgbmAlRVTLafIHI803fvLgCLfAM6YwKqKk7OrxBV6W+gRrF+BqpKQFUVw/wPYqYMzEKm\n",
       "/9PANFgVL9h4ngC2n2AxRgW4u+b//wjivAexMwLAxjMw/QVLHUS4nulJfw/IqxcYGFLawCIpLi4f\n",
       "wYyI3buhrge5BuwK8QdA4QQQC2hgO0Q53CigHA9IFfcCIMEC0sgMxDvAcqdhiniAFjF9grmLCxQz\n",
       "ykBcD5ZkeQBVBQpQXgcGpJDgAZknfwBsxFaoKt6dDAwTGZBUMUl8V2B4+L8WLKt+DaKKhdXF8QGy\n",
       "KlRgUg33IwNuVegArIqPkCpw+uLZSSCttoIpvsUE0z0A9cdV5tQzL4cAAAAASUVORK5CYII=\n",
       "\" style=\"display:inline;vertical-align:middle;\" /></a> <a class=\"ProveItLink\" href=\"proof.ipynb\" style=\"text-decoration: none\">&#x22A2;&nbsp;</a><a class=\"ProveItLink\" href=\"../f5cdac0b08c495cc942fc84c09ebab0b825161060/expr.ipynb\"><img src=\"data:image/png;base64,iVBORw0KGgoAAAANSUhEUgAAADcAAAAPBAMAAACy3Eq1AAAAMFBMVEX///92dnYQEBBERERUVFS6\n",
       "urqIiIhmZmaqqqrc3Nzu7u6YmJgyMjIiIiLMzMwAAACFkkdwAAAAAXRSTlMAQObYZgAAAOFJREFU\n",
       "GNNjYACBtwzogNu9fHUAhHkeQ/I0A5c9VNn9BWhyLAIMDD0Q5oz6CRDGsrN374AZ8x8wMDyDiCXk\n",
       "Q4znOw0zIb6BgeEdmMW6oH8DmDEZbvr8bw+grKUM7xPADEu4nWz//0M5AQzzC0A0lwHCRbOdPoGN\n",
       "4XNx8QcLs+revQt1EBDIg61iZWBgOgBW5QAPAiBeD5YEOoxXAWzsBZjkcpCbQN7jBEryfACLecMk\n",
       "Qf4vATHWADHzL7DYWmhoMtQmMLCBnDFZ/yQDt/0fsHM5j0N95xDiYo0R3Bw+CNcCAQAZcTpZalNj\n",
       "qAAAAABJRU5ErkJggg==\n",
       "\" style=\"display:inline;vertical-align:middle;\" /></a></span></td></tr>\n",
       "</table>"
      ],
      "text/plain": [
       "<proveit._core_.proof._ShowProof at 0x7f94eb462518>"
      ]
     },
     "execution_count": 1,
     "metadata": {},
     "output_type": "execute_result"
    }
   ],
   "source": [
    "import proveit\n",
    "%show_proof"
   ]
  },
  {
   "cell_type": "code",
   "execution_count": null,
   "metadata": {},
   "outputs": [],
   "source": []
  }
 ],
 "metadata": {
  "kernelspec": {
   "display_name": "Python 3",
   "language": "python",
   "name": "python3"
  }
 },
 "nbformat": 4,
 "nbformat_minor": 0
}
