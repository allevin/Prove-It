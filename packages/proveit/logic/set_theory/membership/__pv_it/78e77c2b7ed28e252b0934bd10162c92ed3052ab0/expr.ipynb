{
 "cells": [
  {
   "cell_type": "markdown",
   "metadata": {},
   "source": [
    "Expression of type <a class=\"ProveItLink\" href=\"../../../../../../../doc/html/api/proveit.ExprTuple.html\">ExprTuple</a>\n",
    "=======================\n",
    "# from context <a class=\"ProveItLink\" href=\"../../_context_.ipynb\">proveit.logic.set_theory.membership</a>"
   ]
  },
  {
   "cell_type": "code",
   "execution_count": 1,
   "metadata": {},
   "outputs": [],
   "source": [
    "# import Expression classes needed to build the expression\n",
    "from proveit import ExprTuple\n",
    "from proveit._common_ import F, S\n",
    "from proveit.logic import InSet"
   ]
  },
  {
   "cell_type": "code",
   "execution_count": 2,
   "metadata": {},
   "outputs": [
    {
     "data": {
      "text/html": [
       "<strong id=\"expr\">expr:</strong> <a class=\"ProveItLink\" href=\"expr.ipynb\"><img src=\"data:image/png;base64,iVBORw0KGgoAAAANSUhEUgAAAEMAAAAVBAMAAADvM06qAAAAMFBMVEX////c3NwiIiJERESqqqqY\n",
       "mJh2dnZmZmYQEBDu7u4yMjJUVFTMzMyIiIi6uroAAAAs73DqAAAAAXRSTlMAQObYZgAAAVJJREFU\n",
       "KM9jYCAC8F3AJxsHIk4D8e3/u3fv+IsuHV1eGcd+AMhYCeL9AmJTNBVcAQyTPzAsYGDgBdnD9w1m\n",
       "JhLYxsDAsoAhjIGBYwKQx/YFSPiAJeYuUtICMxj/MDDwXGCYwcDwCmzmTwZGhkgQi2fpBJg3gNp4\n",
       "DjAwOzCUgbj8CgxTIRLCMBUMjP/vgCi2AoalIPp9AUMhRMIQ4Zb7/z8LgJ3TB+Llr97UABbmNEAo\n",
       "YYzu7wTa18DwD8RbP4FhA8QBTUpKUOeCLPkKdM4HiJJPDJwBYEGeDXBDgAKcECUtsGCBWKQAZxUA\n",
       "rfoItggUpmz/4Hq3whhAZzKwA81kXcCQDgqWD3Alkx5AGey6DAyXIZ5+xMAw3f53Idwbyw9AGNx8\n",
       "uzeD3Mf1gIFDADVmWHYhfAQCwAhgTcCfnHJhiQEn4AS6mkEarxJukDsY8SZMYFQCAGN2UOysoDZZ\n",
       "AAAAAElFTkSuQmCC\n",
       "\" style=\"display:inline;vertical-align:middle;\" /></a><br>"
      ],
      "text/plain": [
       "expr: (F in S)"
      ]
     },
     "execution_count": 2,
     "metadata": {},
     "output_type": "execute_result"
    }
   ],
   "source": [
    "# build up the expression from sub-expressions\n",
    "expr = ExprTuple(InSet(F, S))"
   ]
  },
  {
   "cell_type": "code",
   "execution_count": 3,
   "metadata": {},
   "outputs": [
    {
     "name": "stdout",
     "output_type": "stream",
     "text": [
      "Passed sanity check: built 'expr' is the same as the stored Expression.\n"
     ]
    }
   ],
   "source": [
    "# check that the built expression is the same as the stored expression\n",
    "%check_expr"
   ]
  },
  {
   "cell_type": "code",
   "execution_count": 4,
   "metadata": {},
   "outputs": [
    {
     "data": {
      "text/html": [
       "<table><tr><th>&nbsp;</th><th>core type</th><th>sub-expressions</th><th>expression</th></tr>\n",
       "<tr><td>0</td><td>ExprTuple</td><td>1</td><td><a class=\"ProveItLink\" href=\"expr.ipynb\"><img src=\"data:image/png;base64,iVBORw0KGgoAAAANSUhEUgAAAEMAAAAVBAMAAADvM06qAAAAMFBMVEX////c3NwiIiJERESqqqqY\n",
       "mJh2dnZmZmYQEBDu7u4yMjJUVFTMzMyIiIi6uroAAAAs73DqAAAAAXRSTlMAQObYZgAAAVJJREFU\n",
       "KM9jYCAC8F3AJxsHIk4D8e3/u3fv+IsuHV1eGcd+AMhYCeL9AmJTNBVcAQyTPzAsYGDgBdnD9w1m\n",
       "JhLYxsDAsoAhjIGBYwKQx/YFSPiAJeYuUtICMxj/MDDwXGCYwcDwCmzmTwZGhkgQi2fpBJg3gNp4\n",
       "DjAwOzCUgbj8CgxTIRLCMBUMjP/vgCi2AoalIPp9AUMhRMIQ4Zb7/z8LgJ3TB+Llr97UABbmNEAo\n",
       "YYzu7wTa18DwD8RbP4FhA8QBTUpKUOeCLPkKdM4HiJJPDJwBYEGeDXBDgAKcECUtsGCBWKQAZxUA\n",
       "rfoItggUpmz/4Hq3whhAZzKwA81kXcCQDgqWD3Alkx5AGey6DAyXIZ5+xMAw3f53Idwbyw9AGNx8\n",
       "uzeD3Mf1gIFDADVmWHYhfAQCwAhgTcCfnHJhiQEn4AS6mkEarxJukDsY8SZMYFQCAGN2UOysoDZZ\n",
       "AAAAAElFTkSuQmCC\n",
       "\" style=\"display:inline;vertical-align:middle;\" /></a></td></tr>\n",
       "<tr><td>1</td><td>Operation</td><td>operator:&nbsp;2<br>operands:&nbsp;3<br></td><td><a class=\"ProveItLink\" href=\"../a0ba40f386898578978f211b774896e4392b83000/expr.ipynb\"><img src=\"data:image/png;base64,iVBORw0KGgoAAAANSUhEUgAAADgAAAAPBAMAAABD1xE4AAAAMFBMVEX///9mZmYiIiLc3Nzu7u7M\n",
       "zMyqqqp2dna6urqYmJhEREQyMjIQEBBUVFSIiIgAAABBzvKsAAAAAXRSTlMAQObYZgAAAOhJREFU\n",
       "GNNjYGB4+//u3Tv/GNDAXEGRGSD6NxCvRJPjnsDg9QFIc3wHEjPQJK8zMLBtANLs34BEKljIb5OS\n",
       "NpjB/JWBgfUByIQvDMwMU0BCrDsdoBo5gBpYA4AMfgUGT4iQFUyOgfn/UwijX4BBGMJajLDz/f9f\n",
       "BiC6fu+lA2ABlgUISea554+A6P0ODBcgFh1SUoI6COTOnyDyEwPLBDCX9QJcI1CA5SfMmxBjFeAs\n",
       "AaDBn0Haf8DV34QxQP5nBJnD/QEu6dQAZTDqMTC8AtKO6/8Kw524MQDC4OW4e2sCelSw3Ua4FggA\n",
       "XbU52Aml9NoAAAAASUVORK5CYII=\n",
       "\" style=\"display:inline;vertical-align:middle;\" /></a></td></tr>\n",
       "<tr><td>2</td><td>Literal</td><td></td><td><a class=\"ProveItLink\" href=\"../088cbc857536a28d4119ad9639a84270ccb0545d0/expr.ipynb\"><img src=\"data:image/png;base64,iVBORw0KGgoAAAANSUhEUgAAAAwAAAAMBAMAAACkW0HUAAAALVBMVEX///+qqqpmZmZUVFQQEBC6\n",
       "urpERETc3NyYmJjMzMwiIiIyMjKIiIju7u4AAACYsrA9AAAAAXRSTlMAQObYZgAAADxJREFUCNdj\n",
       "YOA9vWrVBgaG2b0MQMCeCyIZ2ArA1DUwyRCyahVIyWQI7xaEYm4AU7xLIdxqTQgtvGvVBgCkcQ7e\n",
       "geM/tQAAAABJRU5ErkJggg==\n",
       "\" style=\"display:inline;vertical-align:middle;\" /></a></td></tr>\n",
       "<tr><td>3</td><td>ExprTuple</td><td>4, 5</td><td><a class=\"ProveItLink\" href=\"../710252d2ade7b645ce521d7d35ef38eaa8f54cf40/expr.ipynb\"><img src=\"data:image/png;base64,iVBORw0KGgoAAAANSUhEUgAAADEAAAAVBAMAAAAdjxsPAAAAMFBMVEX////c3NwiIiJERESqqqqY\n",
       "mJh2dnZmZmYQEBDu7u4yMjJUVFTMzMyIiIi6uroAAAAs73DqAAAAAXRSTlMAQObYZgAAAS9JREFU\n",
       "KM9jYMAN+C5gEYwDEaeB+Pb/3bt3/IUIsm4vn/qA/QCQtRLE/QXEphCZpQyc9gwMCxgYeEGG8X2D\n",
       "mcDAncDA4MXAEMbAwDEByGX7AiR8wDLyQHPOMjDMYGB4BeJy/WRgZIgEy7x3YGA4w8DA7MBQBuLy\n",
       "KzBMhbpK/i/Icga2AqCFIIUFDIVQGd7//w2BFMsChj4QN3/1pgaYV0R3/ABazdfA8A/EWz+BYQPC\n",
       "m/kBDAw8HyAynxg4A6D+BOL5EJkWmHcgYDrIEQJg00A+ZwNrZAD5DOhJhmqQ3gUM6SDvfABJcH4C\n",
       "EkUXGHgNIK5+BDTB/jfIzZz9QFM2vN4NDj+uBwwcAoj4QDBBocOaAOexIkVQLiwW0GU4gbHAIA3n\n",
       "IkUuN8hgRmyxfYeBAQAK8kihkFo/uQAAAABJRU5ErkJggg==\n",
       "\" style=\"display:inline;vertical-align:middle;\" /></a></td></tr>\n",
       "<tr><td>4</td><td>Variable</td><td></td><td><a class=\"ProveItLink\" href=\"../../../../../__pv_it/6d1586c49fb5fd7602fde2bbc54560e7304e8ccf0/expr.ipynb\"><img src=\"data:image/png;base64,iVBORw0KGgoAAAANSUhEUgAAABAAAAAOBAMAAADUAYG5AAAAMFBMVEX///9mZmYiIiLc3Nzu7u7M\n",
       "zMyqqqp2dna6urqYmJhEREQyMjIQEBBUVFSIiIgAAABBzvKsAAAAAXRSTlMAQObYZgAAAFxJREFU\n",
       "CNdjYGB4+//u3Tv/GIDgNxCvBGKO70BiBhCzfwMSqUDM/YWBmWEKkMGvwOAJUsrQL8AgDGbU7710\n",
       "AMzY78BwAcz4xMAygQFmDAiw/4AyuD9AaMf1f8GaAdy+F/r2qjhkAAAAAElFTkSuQmCC\n",
       "\" style=\"display:inline;vertical-align:middle;\" /></a></td></tr>\n",
       "<tr><td>5</td><td>Variable</td><td></td><td><a class=\"ProveItLink\" href=\"../../../../../__pv_it/abeee18594afe51bfb1be95d9591fbba24ac53f30/expr.ipynb\"><img src=\"data:image/png;base64,iVBORw0KGgoAAAANSUhEUgAAAA0AAAAOBAMAAAAGUYvhAAAAMFBMVEX///8iIiIQEBCIiIjMzMzc\n",
       "3Nyqqqp2dnZEREQyMjK6urru7u5mZmZUVFSYmJgAAACI6eGPAAAAAXRSTlMAQObYZgAAAF1JREFU\n",
       "CNdjYGDgu3Nm3wIGBoZ5DNz9QIq3gIEhE0jHOzAwOAPp9QkMDC4g/megABAw///fCmbEXfq0Acxg\n",
       "qH8ANAVI7wfSe0BKAyBGnAXigwYMzA1A+sLau31ACgAz0hhbkhGHbwAAAABJRU5ErkJggg==\n",
       "\" style=\"display:inline;vertical-align:middle;\" /></a></td></tr>\n",
       "</table>\n"
      ],
      "text/plain": [
       "0. (F in S)\n",
       "   core type: ExprTuple\n",
       "   sub-expressions: 1\n",
       "1. F in S\n",
       "   core type: Operation\n",
       "   operator: 2\n",
       "   operands: 3\n",
       "2. in\n",
       "   core type: Literal\n",
       "   sub-expressions: \n",
       "3. (F , S)\n",
       "   core type: ExprTuple\n",
       "   sub-expressions: 4, 5\n",
       "4. F\n",
       "   core type: Variable\n",
       "   sub-expressions: \n",
       "5. S\n",
       "   core type: Variable\n",
       "   sub-expressions: "
      ]
     },
     "execution_count": 4,
     "metadata": {},
     "output_type": "execute_result"
    }
   ],
   "source": [
    "# display the expression information\n",
    "expr.exprInfo()"
   ]
  },
  {
   "cell_type": "code",
   "execution_count": null,
   "metadata": {},
   "outputs": [],
   "source": []
  }
 ],
 "metadata": {
  "kernelspec": {
   "display_name": "Python 3",
   "language": "python",
   "name": "python3"
  }
 },
 "nbformat": 4,
 "nbformat_minor": 0
}
