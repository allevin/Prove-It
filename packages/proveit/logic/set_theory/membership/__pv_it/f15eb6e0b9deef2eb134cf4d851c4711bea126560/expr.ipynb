{
 "cells": [
  {
   "cell_type": "markdown",
   "metadata": {},
   "source": [
    "Expression of type <a class=\"ProveItLink\" href=\"../../../../../../../doc/html/api/proveit.ExprTuple.html\">ExprTuple</a>\n",
    "=======================\n",
    "# from context <a class=\"ProveItLink\" href=\"../../_context_.ipynb\">proveit.logic.set_theory.membership</a>"
   ]
  },
  {
   "cell_type": "code",
   "execution_count": 1,
   "metadata": {},
   "outputs": [],
   "source": [
    "# import Expression classes needed to build the expression\n",
    "from proveit import ExprTuple\n",
    "from proveit._common_ import A, S\n",
    "from proveit.number import Exp, one"
   ]
  },
  {
   "cell_type": "code",
   "execution_count": 2,
   "metadata": {},
   "outputs": [
    {
     "data": {
      "text/html": [
       "<strong id=\"expr\">expr:</strong> <a class=\"ProveItLink\" href=\"expr.ipynb\"><img src=\"data:image/png;base64,iVBORw0KGgoAAAANSUhEUgAAAFIAAAAcBAMAAAAAUPW0AAAAMFBMVEX///+qqqp2dnYiIiJERESI\n",
       "iIhmZmYQEBDc3NyYmJgyMjLu7u5UVFTMzMy6uroAAACGxKilAAAAAXRSTlMAQObYZgAAAc9JREFU\n",
       "OMuVUz1Iw1AQvlRT06Y/guDg1MXZTuoi1EkFoQERF4WC6KJDR9HBKjroYtXO0kkQhHZSdGlBUZQO\n",
       "DupUsYuTYiNarZa23r0mL7EUGh/cz8v73t19l3sATdctWFz3Z9x9bQLtQPGR405bQGbJOU1aQIoK\n",
       "qivaPfHvew2R0A8ghY0K3H4A+42BcVzMnuRqyEk8CaF11ipwqqjiBvIA5KAWM5WEthza8drJbgnV\n",
       "Dge6kHGXhmyJwiPZJXYidRZRH3PkFhZypyHtAZhA46llFMUK6tZ2HZlH7wFWEzNUsgrXdIE1Fp6F\n",
       "b9S2EI9ZMNh5SjBKTKK0kXPuAhqBUxKr1WHdd5dhHw1jBR6QPsmEeaCNyy/9t0gV6EXjZchsJvNB\n",
       "t1VT13uimiO/mZCoFs1IB7UxasQ8pOxEV0DpM2c/IlIRHVmGc2oM3VxBSVAoYkTlYdNhnnMvwpjW\n",
       "GJkAwaS2ecfNtAJigI+ACnm64Adp6CcCsSp2won1ysuYNf2SGeHUbHHwUncXTHTZ3/RE6kbPqbAx\n",
       "ME0FQLfO+89KRdhM6lPHGhdviIyhDFIPjLfkYnmVeuQAyiY56/zTVMO35KCxEXwWHv0a09sWkHPw\n",
       "j/ULUVVtfpeHM48AAAAASUVORK5CYII=\n",
       "\" style=\"display:inline;vertical-align:middle;\" /></a><br>"
      ],
      "text/plain": [
       "expr: ((A) , S^{1})"
      ]
     },
     "execution_count": 2,
     "metadata": {},
     "output_type": "execute_result"
    }
   ],
   "source": [
    "# build up the expression from sub-expressions\n",
    "expr = ExprTuple([A], Exp(S, one))"
   ]
  },
  {
   "cell_type": "code",
   "execution_count": 3,
   "metadata": {},
   "outputs": [
    {
     "name": "stdout",
     "output_type": "stream",
     "text": [
      "Passed sanity check: built 'expr' is the same as the stored Expression.\n"
     ]
    }
   ],
   "source": [
    "# check that the built expression is the same as the stored expression\n",
    "%check_expr"
   ]
  },
  {
   "cell_type": "code",
   "execution_count": 4,
   "metadata": {},
   "outputs": [
    {
     "data": {
      "text/html": [
       "<table><tr><th>&nbsp;</th><th>core type</th><th>sub-expressions</th><th>expression</th></tr>\n",
       "<tr><td>0</td><td>ExprTuple</td><td>1, 2</td><td><a class=\"ProveItLink\" href=\"expr.ipynb\"><img src=\"data:image/png;base64,iVBORw0KGgoAAAANSUhEUgAAAFIAAAAcBAMAAAAAUPW0AAAAMFBMVEX///+qqqp2dnYiIiJERESI\n",
       "iIhmZmYQEBDc3NyYmJgyMjLu7u5UVFTMzMy6uroAAACGxKilAAAAAXRSTlMAQObYZgAAAc9JREFU\n",
       "OMuVUz1Iw1AQvlRT06Y/guDg1MXZTuoi1EkFoQERF4WC6KJDR9HBKjroYtXO0kkQhHZSdGlBUZQO\n",
       "DupUsYuTYiNarZa23r0mL7EUGh/cz8v73t19l3sATdctWFz3Z9x9bQLtQPGR405bQGbJOU1aQIoK\n",
       "qivaPfHvew2R0A8ghY0K3H4A+42BcVzMnuRqyEk8CaF11ipwqqjiBvIA5KAWM5WEthza8drJbgnV\n",
       "Dge6kHGXhmyJwiPZJXYidRZRH3PkFhZypyHtAZhA46llFMUK6tZ2HZlH7wFWEzNUsgrXdIE1Fp6F\n",
       "b9S2EI9ZMNh5SjBKTKK0kXPuAhqBUxKr1WHdd5dhHw1jBR6QPsmEeaCNyy/9t0gV6EXjZchsJvNB\n",
       "t1VT13uimiO/mZCoFs1IB7UxasQ8pOxEV0DpM2c/IlIRHVmGc2oM3VxBSVAoYkTlYdNhnnMvwpjW\n",
       "GJkAwaS2ecfNtAJigI+ACnm64Adp6CcCsSp2won1ysuYNf2SGeHUbHHwUncXTHTZ3/RE6kbPqbAx\n",
       "ME0FQLfO+89KRdhM6lPHGhdviIyhDFIPjLfkYnmVeuQAyiY56/zTVMO35KCxEXwWHv0a09sWkHPw\n",
       "j/ULUVVtfpeHM48AAAAASUVORK5CYII=\n",
       "\" style=\"display:inline;vertical-align:middle;\" /></a></td></tr>\n",
       "<tr><td>1</td><td>ExprTuple</td><td>3</td><td><a class=\"ProveItLink\" href=\"../b7d96af9ad4b1093cdfbc7f0db04afd2340d5b5e0/expr.ipynb\"><img src=\"data:image/png;base64,iVBORw0KGgoAAAANSUhEUgAAABwAAAAVBAMAAACnLJNvAAAAMFBMVEX////c3NwiIiJERESqqqqY\n",
       "mJh2dnZmZmYQEBDu7u4yMjJUVFTMzMyIiIi6uroAAAAs73DqAAAAAXRSTlMAQObYZgAAAMBJREFU\n",
       "GNNjYEADfBdgLNYHQOI0hH0IiGuAeCWEux6IuRgYeCFqWfUnAIkEBo4JYK5IvQADA2cDwyuI2gv3\n",
       "QeaYMJRBjJ/gHwCk0hmWgrnzGM6DzPBi6ANzHzDIFwCpFwz/QDye3bv3GwDp8xAuHwMDxwIwtwXE\n",
       "dWBgYGoAKzYFkoxALtcHICMKaDYDwywgZv4JtugRA4Nw/0IGVvtfQKPXMXAIIPwKdCTQ2XDAdgHu\n",
       "QQaoGdII7kaQLfDA4T3AAAAlziv4kp0h2wAAAABJRU5ErkJggg==\n",
       "\" style=\"display:inline;vertical-align:middle;\" /></a></td></tr>\n",
       "<tr><td>2</td><td>Operation</td><td>operator:&nbsp;4<br>operands:&nbsp;5<br></td><td><a class=\"ProveItLink\" href=\"../ef0a12e0146bf8234b5a23eebd0bb76d7431c6e50/expr.ipynb\"><img src=\"data:image/png;base64,iVBORw0KGgoAAAANSUhEUgAAABQAAAAUBAMAAAB/pwA+AAAAMFBMVEX///8iIiIQEBCIiIjMzMzc\n",
       "3Nyqqqp2dnZEREQyMjK6urru7u5mZmZUVFSYmJgAAACI6eGPAAAAAXRSTlMAQObYZgAAAHBJREFU\n",
       "CNdjYIACDxiDwecinMmQSBST786ZfQsgzHkM3P0QUd4CBoZMCDPegYHBGcJcn8DA4MIQPv8wUPSz\n",
       "A8wU5v//W2HsuEufNsCNr38ApviAeD+EuQdkXgCYCTSd4SxE3UEDBuYGCPPC2rt9EBYA2/kegclo\n",
       "zEMAAAAASUVORK5CYII=\n",
       "\" style=\"display:inline;vertical-align:middle;\" /></a></td></tr>\n",
       "<tr><td>3</td><td>Variable</td><td></td><td><a class=\"ProveItLink\" href=\"../../../../../__pv_it/2cbe72a7ad6f655694dd697106680215e8489b600/expr.ipynb\"><img src=\"data:image/png;base64,iVBORw0KGgoAAAANSUhEUgAAAA8AAAAOBAMAAAACpFvcAAAALVBMVEX///8QEBBERERUVFS6urqI\n",
       "iIhmZmaqqqrc3Nzu7u6YmJgyMjIiIiLMzMwAAADtIaYWAAAAAXRSTlMAQObYZgAAAFtJREFUCNdj\n",
       "YACBOwxQsA9Kc52bAGG05zVAGAFxDmCaZULdAjBjCsO9ADDDgaEvAUTzGhvbKYCVMDAwbgAxChgY\n",
       "eASANAeQwf0AyJgNxEwvGRia5HYwcOm9TgAA6BoR3jrzwFcAAAAASUVORK5CYII=\n",
       "\" style=\"display:inline;vertical-align:middle;\" /></a></td></tr>\n",
       "<tr><td>4</td><td>Literal</td><td></td><td><a class=\"ProveItLink\" href=\"../../../../../number/exponentiation/__pv_it/deb2bf23cbccdd6e6791e1b35b5b9794ce12dbd50/expr.ipynb\"><img src=\"data:image/png;base64,iVBORw0KGgoAAAANSUhEUgAAACgAAAASBAMAAADbMYGVAAAAMFBMVEX///8QEBAiIiKYmJjc3Nzu\n",
       "7u7MzMx2dnZmZma6urpERESqqqoyMjJUVFSIiIgAAAAoDOMTAAAAAXRSTlMAQObYZgAAAOBJREFU\n",
       "GNNjYGB4+//u3Tt/GNAASGAXmhjnPyDBgSbI/g1IxKEJ8nxgYGdgQRPkX8BgDKRY6q7s62OYvmze\n",
       "2wAgb/7ZO1+AVDiDkYEQQ0HTBr4DQF59AgOIKmB4z7CNbcNZBu6vQN55kEACQwDDLQYGVobfDHwg\n",
       "fb8YGBxYHwAZciD3fWXg+gB1JjvQcJZvQIXsCgz8F6DO9GBgMOH7wPCUgaeBwd4B7EwGNjUG7s9c\n",
       "AiwPgO5jkWRgiF3/9+5dfQUG1nWl5Y+B7pv+1gE9bBhqGLCAE1jEWH9jEbT5A3IwAC4sP/1L6Qlu\n",
       "AAAAAElFTkSuQmCC\n",
       "\" style=\"display:inline;vertical-align:middle;\" /></a></td></tr>\n",
       "<tr><td>5</td><td>ExprTuple</td><td>6, 7</td><td><a class=\"ProveItLink\" href=\"../1af5d0b556aa6b24800f9009cee1e60e59583d6a0/expr.ipynb\"><img src=\"data:image/png;base64,iVBORw0KGgoAAAANSUhEUgAAAC0AAAAVBAMAAAAgHXppAAAAMFBMVEX////c3NwiIiJERESqqqqY\n",
       "mJh2dnZmZmYQEBDu7u4yMjJUVFTMzMyIiIi6uroAAAAs73DqAAAAAXRSTlMAQObYZgAAAPdJREFU\n",
       "GNNjYMAF+C5gCMWBiNMggnV7+dQHEEFLBgb2A0B6JYizlIHTHiI8+SeQWMDAwAsyhjuBgcELLDx7\n",
       "N0g8jIGBYwKQlgdqPAtRzwsSn8HA8ArEee/AwHAGSZzZgaEMxJH/ewDmFrA4WwHQRhDn/39DZHGW\n",
       "BQx9YJ7ojh8TkMT5Ghj+QdXlByCJ83wAi7MC8Xw08RYgNR1ktQCqOaYMEC9VM3AixFkXMKQDqaIL\n",
       "DLwGDPMVkN35CEhteL0bqG3GRyCTveJXKQMD1wMGDgF48D6Es4DhwJoA5wXAWbmwcEYV5wSGM4M0\n",
       "PGTgCrhBZjNixuMdBgYAas9B/F/t6vEAAAAASUVORK5CYII=\n",
       "\" style=\"display:inline;vertical-align:middle;\" /></a></td></tr>\n",
       "<tr><td>6</td><td>Variable</td><td></td><td><a class=\"ProveItLink\" href=\"../../../../../__pv_it/abeee18594afe51bfb1be95d9591fbba24ac53f30/expr.ipynb\"><img src=\"data:image/png;base64,iVBORw0KGgoAAAANSUhEUgAAAA0AAAAOBAMAAAAGUYvhAAAAMFBMVEX///8iIiIQEBCIiIjMzMzc\n",
       "3Nyqqqp2dnZEREQyMjK6urru7u5mZmZUVFSYmJgAAACI6eGPAAAAAXRSTlMAQObYZgAAAF1JREFU\n",
       "CNdjYGDgu3Nm3wIGBoZ5DNz9QIq3gIEhE0jHOzAwOAPp9QkMDC4g/megABAw///fCmbEXfq0Acxg\n",
       "qH8ANAVI7wfSe0BKAyBGnAXigwYMzA1A+sLau31ACgAz0hhbkhGHbwAAAABJRU5ErkJggg==\n",
       "\" style=\"display:inline;vertical-align:middle;\" /></a></td></tr>\n",
       "<tr><td>7</td><td>Literal</td><td></td><td><a class=\"ProveItLink\" href=\"../../../../../number/numeral/__pv_it/9be8badea4c35b9724062cecc501d17a3158d1d20/expr.ipynb\"><img src=\"data:image/png;base64,iVBORw0KGgoAAAANSUhEUgAAAAgAAAAPBAMAAAArJJMAAAAAHlBMVEX///+YmJgyMjIQEBBmZmaI\n",
       "iIhUVFTu7u5EREQAAAAw+MI4AAAAAXRSTlMAQObYZgAAACFJREFUCNdjYGBoZ2BgqJjOwFCWBiQY\n",
       "WEklWJwnOTKAAACjEQo8HvEr3AAAAABJRU5ErkJggg==\n",
       "\" style=\"display:inline;vertical-align:middle;\" /></a></td></tr>\n",
       "</table>\n"
      ],
      "text/plain": [
       "0. ((A) , S^{1})\n",
       "   core type: ExprTuple\n",
       "   sub-expressions: 1, 2\n",
       "1. (A)\n",
       "   core type: ExprTuple\n",
       "   sub-expressions: 3\n",
       "2. S^{1}\n",
       "   core type: Operation\n",
       "   operator: 4\n",
       "   operands: 5\n",
       "3. A\n",
       "   core type: Variable\n",
       "   sub-expressions: \n",
       "4. Exp\n",
       "   core type: Literal\n",
       "   sub-expressions: \n",
       "5. (S , 1)\n",
       "   core type: ExprTuple\n",
       "   sub-expressions: 6, 7\n",
       "6. S\n",
       "   core type: Variable\n",
       "   sub-expressions: \n",
       "7. 1\n",
       "   core type: Literal\n",
       "   sub-expressions: "
      ]
     },
     "execution_count": 4,
     "metadata": {},
     "output_type": "execute_result"
    }
   ],
   "source": [
    "# display the expression information\n",
    "expr.exprInfo()"
   ]
  },
  {
   "cell_type": "code",
   "execution_count": null,
   "metadata": {},
   "outputs": [],
   "source": []
  }
 ],
 "metadata": {
  "kernelspec": {
   "display_name": "Python 3",
   "language": "python",
   "name": "python3"
  }
 },
 "nbformat": 4,
 "nbformat_minor": 0
}
