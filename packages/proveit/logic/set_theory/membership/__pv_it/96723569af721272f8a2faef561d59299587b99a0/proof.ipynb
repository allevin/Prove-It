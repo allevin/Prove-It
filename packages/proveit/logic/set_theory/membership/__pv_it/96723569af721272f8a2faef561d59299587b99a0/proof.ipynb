{
 "cells": [
  {
   "cell_type": "markdown",
   "metadata": {},
   "source": [
    "Show the Proof\n",
    "========"
   ]
  },
  {
   "cell_type": "code",
   "execution_count": 1,
   "metadata": {},
   "outputs": [
    {
     "data": {
      "text/html": [
       "<table><tr><th>&nbsp;</th><th>step type</th><th>requirements</th><th>statement</th></tr>\n",
       "<tr><td>0</td><td>assumption</td><td></td><td><span style=\"font-size:20px;\"><a class=\"ProveItLink\" href=\"../5ac30dde014f0fcf3312d8fab54390d3b176798c0/expr.ipynb\"><img src=\"data:image/png;base64,iVBORw0KGgoAAAANSUhEUgAAAEUAAAAVBAMAAADiLT7tAAAAMFBMVEX////c3NxERESqqqpUVFS6\n",
       "urrMzMwyMjIQEBCIiIh2dnYiIiLu7u5mZmaYmJgAAABXZE4RAAAAAXRSTlMAQObYZgAAATFJREFU\n",
       "KM9jYGDgu8eAE7CtEgBRPLsY8AC2ZhDJ+QFELvmvK4Am/eTunacMDNdBTK4GsMh3dBPYHzAcAmpf\n",
       "gVDD+gtdjRcDA3MBihqurxCZk9W7t4MZjN+AjpmAoob9A8SJdQegxrB+BvISUNTwK4BlhGBKGBj/\n",
       "TwPTYDW8BSAyfgJYRBHhnvn/P4F8+h7EzggAkesTwGGlgFDD+KS/B+SICwwMKW1gkXqII7p374a6\n",
       "GeSKfyBS/QEDQwTYhE8QJzvAjQHK8IDUcC8AEiwg97D+BEvwbIAp4QFawfgR5h4ukDjXN4iUH0wN\n",
       "KPh4HRiQ/Q4NHobTAVA1vDsZGCYxIKuR1f+yAOKZ2gSIGhZWF6cHKGoQgNkd4S8GHGowAFgNH341\n",
       "4PTDsxNvOmwFU3yLCaRnAHpnUN1nIqHnAAAAAElFTkSuQmCC\n",
       "\" style=\"display:inline;vertical-align:middle;\" /></a> <a class=\"ProveItLink\" href=\"proof.ipynb\" style=\"text-decoration: none\">&#x22A2;&nbsp;</a><a class=\"ProveItLink\" href=\"../c83d4f1919ff01540f1417aec07fd7df2feb4c9c0/expr.ipynb\"><img src=\"data:image/png;base64,iVBORw0KGgoAAAANSUhEUgAAADIAAAAPBAMAAABU9YHxAAAAMFBMVEX///+qqqoQEBCYmJgiIiLu\n",
       "7u7MzMyIiIi6uroyMjLc3NxmZmZERERUVFR2dnYAAAAvupOAAAAAAXRSTlMAQObYZgAAAM5JREFU\n",
       "GNNjYGB4+//0AgZUYLt7qwWI/okmzsBpwBDzAUhz/EOXucfAwDgBSPP9gPDDp7h4ghlc3xgY2ApA\n",
       "ej+A+WyTA6BaOD4CeQlABv8BMH8NTIKB638ZhNFfAKZOIeyp//8H7Nr3II0MrAcQMly2+qogej7E\n",
       "cBUXF6gLQK76DCL/QBxwAa7FAGgCSIbjO5jL6gCTYN0ANO8XSOM3iMBlmAzIk9wXEN5hCGmAynC7\n",
       "MzDUAOnV5/8+gDhodgJEhpfj7h0DlNBivIlwGxAAAI2GMrj7T99IAAAAAElFTkSuQmCC\n",
       "\" style=\"display:inline;vertical-align:middle;\" /></a></span></td></tr>\n",
       "</table>"
      ],
      "text/plain": [
       "<proveit._core_.proof._ShowProof at 0x7f94eb6471d0>"
      ]
     },
     "execution_count": 1,
     "metadata": {},
     "output_type": "execute_result"
    }
   ],
   "source": [
    "import proveit\n",
    "%show_proof"
   ]
  },
  {
   "cell_type": "code",
   "execution_count": null,
   "metadata": {},
   "outputs": [],
   "source": []
  }
 ],
 "metadata": {
  "kernelspec": {
   "display_name": "Python 3",
   "language": "python",
   "name": "python3"
  }
 },
 "nbformat": 4,
 "nbformat_minor": 0
}
