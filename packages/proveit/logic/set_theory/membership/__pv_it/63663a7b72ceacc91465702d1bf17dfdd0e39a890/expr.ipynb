{
 "cells": [
  {
   "cell_type": "markdown",
   "metadata": {},
   "source": [
    "Expression of type <a class=\"ProveItLink\" href=\"../../../../../../../doc/html/api/proveit.number.Exp.html\">Exp</a>\n",
    "=======================\n",
    "# from context <a class=\"ProveItLink\" href=\"../../_context_.ipynb\">proveit.logic.set_theory.membership</a>"
   ]
  },
  {
   "cell_type": "code",
   "execution_count": 1,
   "metadata": {},
   "outputs": [],
   "source": [
    "# import Expression classes needed to build the expression\n",
    "from proveit._common_ import S\n",
    "from proveit.number import Exp, six"
   ]
  },
  {
   "cell_type": "code",
   "execution_count": 2,
   "metadata": {},
   "outputs": [
    {
     "data": {
      "text/html": [
       "<strong id=\"expr\">expr:</strong> <a class=\"ProveItLink\" href=\"expr.ipynb\"><img src=\"data:image/png;base64,iVBORw0KGgoAAAANSUhEUgAAABUAAAAUBAMAAACQZWsAAAAAMFBMVEX///8iIiIQEBCIiIjMzMzc\n",
       "3Nyqqqp2dnZEREQyMjK6urru7u5mZmZUVFSYmJgAAACI6eGPAAAAAXRSTlMAQObYZgAAAJVJREFU\n",
       "CNdjYIAA7uN2DDDA6eAPZ9cwbIez1eAsBtZvxkdhbJbvDI4gmu/OmX1LfzHwJwDZ8xi4+xm+MPAb\n",
       "MDDwFjAwZDJMY+BfwMAQ78DA4MyQy7AQqGQ9UJ0LA9/x00B2/GcHuNHM//+3wjlxlz5tQNha/wBC\n",
       "8wHxfih7D0h7AISdCcRnoWoPGjAwN0DZF9be7YMyATfOJR8bL2LUAAAAAElFTkSuQmCC\n",
       "\" style=\"display:inline;vertical-align:middle;\" /></a><br>"
      ],
      "text/plain": [
       "expr: S^{6}"
      ]
     },
     "execution_count": 2,
     "metadata": {},
     "output_type": "execute_result"
    }
   ],
   "source": [
    "# build up the expression from sub-expressions\n",
    "expr = Exp(S, six)"
   ]
  },
  {
   "cell_type": "code",
   "execution_count": 3,
   "metadata": {},
   "outputs": [
    {
     "name": "stdout",
     "output_type": "stream",
     "text": [
      "Passed sanity check: built 'expr' is the same as the stored Expression.\n"
     ]
    }
   ],
   "source": [
    "# check that the built expression is the same as the stored expression\n",
    "%check_expr"
   ]
  },
  {
   "cell_type": "code",
   "execution_count": 4,
   "metadata": {},
   "outputs": [
    {
     "data": {
      "text/html": [
       "<table><tr><th>&nbsp;</th><th>core type</th><th>sub-expressions</th><th>expression</th></tr>\n",
       "<tr><td>0</td><td>Operation</td><td>operator:&nbsp;1<br>operands:&nbsp;2<br></td><td><a class=\"ProveItLink\" href=\"expr.ipynb\"><img src=\"data:image/png;base64,iVBORw0KGgoAAAANSUhEUgAAABUAAAAUBAMAAACQZWsAAAAAMFBMVEX///8iIiIQEBCIiIjMzMzc\n",
       "3Nyqqqp2dnZEREQyMjK6urru7u5mZmZUVFSYmJgAAACI6eGPAAAAAXRSTlMAQObYZgAAAJVJREFU\n",
       "CNdjYIAA7uN2DDDA6eAPZ9cwbIez1eAsBtZvxkdhbJbvDI4gmu/OmX1LfzHwJwDZ8xi4+xm+MPAb\n",
       "MDDwFjAwZDJMY+BfwMAQ78DA4MyQy7AQqGQ9UJ0LA9/x00B2/GcHuNHM//+3wjlxlz5tQNha/wBC\n",
       "8wHxfih7D0h7AISdCcRnoWoPGjAwN0DZF9be7YMyATfOJR8bL2LUAAAAAElFTkSuQmCC\n",
       "\" style=\"display:inline;vertical-align:middle;\" /></a></td></tr>\n",
       "<tr><td>1</td><td>Literal</td><td></td><td><a class=\"ProveItLink\" href=\"../../../../../number/exponentiation/__pv_it/deb2bf23cbccdd6e6791e1b35b5b9794ce12dbd50/expr.ipynb\"><img src=\"data:image/png;base64,iVBORw0KGgoAAAANSUhEUgAAACgAAAASBAMAAADbMYGVAAAAMFBMVEX///8QEBAiIiKYmJjc3Nzu\n",
       "7u7MzMx2dnZmZma6urpERESqqqoyMjJUVFSIiIgAAAAoDOMTAAAAAXRSTlMAQObYZgAAAOBJREFU\n",
       "GNNjYGB4+//u3Tt/GNAASGAXmhjnPyDBgSbI/g1IxKEJ8nxgYGdgQRPkX8BgDKRY6q7s62OYvmze\n",
       "2wAgb/7ZO1+AVDiDkYEQQ0HTBr4DQF59AgOIKmB4z7CNbcNZBu6vQN55kEACQwDDLQYGVobfDHwg\n",
       "fb8YGBxYHwAZciD3fWXg+gB1JjvQcJZvQIXsCgz8F6DO9GBgMOH7wPCUgaeBwd4B7EwGNjUG7s9c\n",
       "AiwPgO5jkWRgiF3/9+5dfQUG1nWl5Y+B7pv+1gE9bBhqGLCAE1jEWH9jEbT5A3IwAC4sP/1L6Qlu\n",
       "AAAAAElFTkSuQmCC\n",
       "\" style=\"display:inline;vertical-align:middle;\" /></a></td></tr>\n",
       "<tr><td>2</td><td>ExprTuple</td><td>3, 4</td><td><a class=\"ProveItLink\" href=\"../2745888531489369e2e39e270a4ad29f421015ac0/expr.ipynb\"><img src=\"data:image/png;base64,iVBORw0KGgoAAAANSUhEUgAAAC0AAAAVBAMAAAAgHXppAAAAMFBMVEX////c3NwiIiJERESqqqqY\n",
       "mJh2dnZmZmYQEBDu7u4yMjJUVFTMzMyIiIi6uroAAAAs73DqAAAAAXRSTlMAQObYZgAAASVJREFU\n",
       "GNN1kS9Mw1AQh78BhZXRZQaFGAaHABI01RiqkFCHgYwghqhBgCUzwNxmSABFMJDMzMOSOgxiIEHw\n",
       "RxESKHfXrQlZeMl7735f7n73eoX/VjEeQGt63OrhXO8edY0dVzcZa0twruoUd8lwbpYraIKnNoUQ\n",
       "lo0PhVzAKuRrospS2DG+rpI6POv96sOd8TM7h32qepe/272nfHXuJWd0WzrK8pJk3rD7ETADI00O\n",
       "TU/efJqxm0ClRnGPn55BJUjzpbXPxJtxR3YjSP2Fx8r3RZxo65LxBcsXn0XST4pwla+Yv9NkQ8RO\n",
       "jDdHY1pfHroH9s4nEZcvLSmrv2tBFMn8xrvkS9l4H7NI5uCEmQqyaKs/57/clTkz1VdellBQ79zg\n",
       "f3yAXztIRbal7qGDAAAAAElFTkSuQmCC\n",
       "\" style=\"display:inline;vertical-align:middle;\" /></a></td></tr>\n",
       "<tr><td>3</td><td>Variable</td><td></td><td><a class=\"ProveItLink\" href=\"../../../../../__pv_it/abeee18594afe51bfb1be95d9591fbba24ac53f30/expr.ipynb\"><img src=\"data:image/png;base64,iVBORw0KGgoAAAANSUhEUgAAAA0AAAAOBAMAAAAGUYvhAAAAMFBMVEX///8iIiIQEBCIiIjMzMzc\n",
       "3Nyqqqp2dnZEREQyMjK6urru7u5mZmZUVFSYmJgAAACI6eGPAAAAAXRSTlMAQObYZgAAAF1JREFU\n",
       "CNdjYGDgu3Nm3wIGBoZ5DNz9QIq3gIEhE0jHOzAwOAPp9QkMDC4g/megABAw///fCmbEXfq0Acxg\n",
       "qH8ANAVI7wfSe0BKAyBGnAXigwYMzA1A+sLau31ACgAz0hhbkhGHbwAAAABJRU5ErkJggg==\n",
       "\" style=\"display:inline;vertical-align:middle;\" /></a></td></tr>\n",
       "<tr><td>4</td><td>Literal</td><td></td><td><a class=\"ProveItLink\" href=\"../../../../../number/numeral/__pv_it/09b499e53e24cf89c2513ba78b501f0314edaa680/expr.ipynb\"><img src=\"data:image/png;base64,iVBORw0KGgoAAAANSUhEUgAAAAoAAAAOBAMAAADkjZCYAAAAMFBMVEX///+6urpERESqqqqIiIgQ\n",
       "EBCYmJgyMjJUVFQiIiLc3NzMzMxmZmZ2dnbu7u4AAABf+mkYAAAAAXRSTlMAQObYZgAAAFNJREFU\n",
       "CNdjYOC7c3cDA8PKDRwTGBjmMrAXMLD9YwAC9gAQyV/tcpiB4f00Bs4EhvcfGHj/MbyfwMD2mYEf\n",
       "qOwLAxOYzQwWZ9BleJrAwMDT08gAANMyF0ZGTeKAAAAAAElFTkSuQmCC\n",
       "\" style=\"display:inline;vertical-align:middle;\" /></a></td></tr>\n",
       "</table>\n"
      ],
      "text/plain": [
       "0. S^{6}\n",
       "   core type: Operation\n",
       "   operator: 1\n",
       "   operands: 2\n",
       "1. Exp\n",
       "   core type: Literal\n",
       "   sub-expressions: \n",
       "2. (S , 6)\n",
       "   core type: ExprTuple\n",
       "   sub-expressions: 3, 4\n",
       "3. S\n",
       "   core type: Variable\n",
       "   sub-expressions: \n",
       "4. 6\n",
       "   core type: Literal\n",
       "   sub-expressions: "
      ]
     },
     "execution_count": 4,
     "metadata": {},
     "output_type": "execute_result"
    }
   ],
   "source": [
    "# display the expression information\n",
    "expr.exprInfo()"
   ]
  },
  {
   "cell_type": "code",
   "execution_count": null,
   "metadata": {},
   "outputs": [],
   "source": []
  }
 ],
 "metadata": {
  "kernelspec": {
   "display_name": "Python 3",
   "language": "python",
   "name": "python3"
  }
 },
 "nbformat": 4,
 "nbformat_minor": 0
}
