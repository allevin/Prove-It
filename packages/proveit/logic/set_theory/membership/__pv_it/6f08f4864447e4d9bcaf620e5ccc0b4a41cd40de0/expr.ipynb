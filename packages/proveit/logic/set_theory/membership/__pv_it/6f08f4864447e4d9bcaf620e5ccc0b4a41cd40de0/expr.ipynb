{
 "cells": [
  {
   "cell_type": "markdown",
   "metadata": {},
   "source": [
    "Expression of type <a class=\"ProveItLink\" href=\"../../../../../../../doc/html/api/proveit.logic.Set.html\">Set</a>\n",
    "=======================\n",
    "# from context <a class=\"ProveItLink\" href=\"../../_context_.ipynb\">proveit.logic.set_theory.membership</a>"
   ]
  },
  {
   "cell_type": "code",
   "execution_count": 1,
   "metadata": {},
   "outputs": [],
   "source": [
    "# import Expression classes needed to build the expression\n",
    "from proveit._common_ import B, S\n",
    "from proveit.logic import InSet, Set"
   ]
  },
  {
   "cell_type": "code",
   "execution_count": 2,
   "metadata": {},
   "outputs": [
    {
     "data": {
      "text/html": [
       "<strong id=\"expr\">expr:</strong> <a class=\"ProveItLink\" href=\"expr.ipynb\"><img src=\"data:image/png;base64,iVBORw0KGgoAAAANSUhEUgAAAEsAAAAVBAMAAAD85A5eAAAAMFBMVEX////c3NxERESqqqpUVFS6\n",
       "urrMzMwyMjIQEBCIiIh2dnYiIiLu7u5mZmaYmJgAAABXZE4RAAAAAXRSTlMAQObYZgAAAVVJREFU\n",
       "KM9jYGDgu8eAD7CtEgBRPLsY8AO2ZhDJ+QFEPvnv4qIegK7iyd07TxkYroOYXA1gkSYGBt6vaKrY\n",
       "HzAcAhqyAqGM7ScQf0FT5sXAwFyAoozzI9Avv8CSJ6t3bwczGL8BtU5AUcYEJLl7wObWHYAaxvoZ\n",
       "yEtAUcbvwMBYBJYXgqliYPw/DUyDlfEWgMh8z5m3H4AFFRFum///EyjM3oPYGeBgmC/AwLMFHIwK\n",
       "CGWMT/pB7mC/wMCQ0gYW0QApBRnH2r17N9QLIBf9A5HqQImIBBALFBbvF4B84AA3DCjJA1LGDRJn\n",
       "AbmNDcT1NwBZugGmigdoF+NHmNu4NkCDjfE7WNYPpgwUsrwODMgBAgq2jBqw7GlYzPLuZGCYxICs\n",
       "jFf/i4t7HdR7tQkQBguri9MDFGUogNkd4VMG3MowAFgZH0Fl4PTGs5NQ6m0FU3yLCecFAAJvXVOV\n",
       "CKi0AAAAAElFTkSuQmCC\n",
       "\" style=\"display:inline;vertical-align:middle;\" /></a><br>"
      ],
      "text/plain": [
       "expr: {B in S}"
      ]
     },
     "execution_count": 2,
     "metadata": {},
     "output_type": "execute_result"
    }
   ],
   "source": [
    "# build up the expression from sub-expressions\n",
    "expr = Set(InSet(B, S))"
   ]
  },
  {
   "cell_type": "code",
   "execution_count": 3,
   "metadata": {},
   "outputs": [
    {
     "name": "stdout",
     "output_type": "stream",
     "text": [
      "Passed sanity check: built 'expr' is the same as the stored Expression.\n"
     ]
    }
   ],
   "source": [
    "# check that the built expression is the same as the stored expression\n",
    "%check_expr"
   ]
  },
  {
   "cell_type": "code",
   "execution_count": 4,
   "metadata": {},
   "outputs": [
    {
     "data": {
      "text/html": [
       "<table><tr><th>&nbsp;</th><th>core type</th><th>sub-expressions</th><th>expression</th></tr>\n",
       "<tr><td>0</td><td>Operation</td><td>operator:&nbsp;1<br>operands:&nbsp;2<br></td><td><a class=\"ProveItLink\" href=\"expr.ipynb\"><img src=\"data:image/png;base64,iVBORw0KGgoAAAANSUhEUgAAAEsAAAAVBAMAAAD85A5eAAAAMFBMVEX////c3NxERESqqqpUVFS6\n",
       "urrMzMwyMjIQEBCIiIh2dnYiIiLu7u5mZmaYmJgAAABXZE4RAAAAAXRSTlMAQObYZgAAAVVJREFU\n",
       "KM9jYGDgu8eAD7CtEgBRPLsY8AO2ZhDJ+QFEPvnv4qIegK7iyd07TxkYroOYXA1gkSYGBt6vaKrY\n",
       "HzAcAhqyAqGM7ScQf0FT5sXAwFyAoozzI9Avv8CSJ6t3bwczGL8BtU5AUcYEJLl7wObWHYAaxvoZ\n",
       "yEtAUcbvwMBYBJYXgqliYPw/DUyDlfEWgMh8z5m3H4AFFRFum///EyjM3oPYGeBgmC/AwLMFHIwK\n",
       "CGWMT/pB7mC/wMCQ0gYW0QApBRnH2r17N9QLIBf9A5HqQImIBBALFBbvF4B84AA3DCjJA1LGDRJn\n",
       "AbmNDcT1NwBZugGmigdoF+NHmNu4NkCDjfE7WNYPpgwUsrwODMgBAgq2jBqw7GlYzPLuZGCYxICs\n",
       "jFf/i4t7HdR7tQkQBguri9MDFGUogNkd4VMG3MowAFgZH0Fl4PTGs5NQ6m0FU3yLCecFAAJvXVOV\n",
       "CKi0AAAAAElFTkSuQmCC\n",
       "\" style=\"display:inline;vertical-align:middle;\" /></a></td></tr>\n",
       "<tr><td>1</td><td>Literal</td><td></td><td><a class=\"ProveItLink\" href=\"../../../enumeration/__pv_it/07381ed5b23806e8d7914b78cb6667769e3708dd0/expr.ipynb\"><img src=\"data:image/png;base64,iVBORw0KGgoAAAANSUhEUgAAAB4AAAAOBAMAAADKyLEKAAAAMFBMVEX///8iIiIQEBCIiIjMzMzc\n",
       "3Nyqqqp2dnZEREQyMjK6urru7u5mZmZUVFSYmJgAAACI6eGPAAAAAXRSTlMAQObYZgAAALRJREFU\n",
       "CNdjYGDgu3Nm3wIGBJjHwN0PZW5yYGDgLWBgyITy8zcwMMQDxZyh/INAvD6BgcEFypcB4vjPDiBm\n",
       "TPFRrhs/LjMwMP//38rAwCbKEMPA9gEkE3fp0waG+AUMRxh4JkC01T9guPTOOICBEWgVH5C//wHD\n",
       "H5D4fqCz9oCMDGD4DLaegRXslLMMDMpAgxlOMmQxHDRgYG5gYLBk4D7KcIe7gOHC2rt9QCXsh40Z\n",
       "GCKMGQDRkC8N/Ph1XAAAAABJRU5ErkJggg==\n",
       "\" style=\"display:inline;vertical-align:middle;\" /></a></td></tr>\n",
       "<tr><td>2</td><td>ExprTuple</td><td>3</td><td><a class=\"ProveItLink\" href=\"../1f5d2032f1c787fb4c3eb86b9fe27a24f6d24ce80/expr.ipynb\"><img src=\"data:image/png;base64,iVBORw0KGgoAAAANSUhEUgAAAEQAAAAVBAMAAAAN71XTAAAAMFBMVEX////c3NwiIiJERESqqqqY\n",
       "mJh2dnZmZmYQEBDu7u4yMjJUVFTMzMyIiIi6uroAAAAs73DqAAAAAXRSTlMAQObYZgAAAVhJREFU\n",
       "KM9jYCAC8F3AJ8v6AEicBuLo/7t3Wz1Al44ur4xjqAEyVoJ4zQwM7P/QVHAFMEz+wMDFwMALsofn\n",
       "LxD/RlOyjYGBZQEDawIDxwQgj/cj0NZvYIm5i5S0wAzGP0BtFxg4GxhegbjMDQwMTJ0gFs/SCTBv\n",
       "fAHyDjAwmDCUgbj8GxgYF4PlhGEqGBj/3wHT6QxLQdT5vXeLAsAChgi33P//WQBIeTH0gXkCDJza\n",
       "IAanAUIJY3Q/yO4XDGCvWoCUgYzha1JSgjoXCNi+gmyAKAH5Nz4B5NoNcEOAOjghSlpAEiDmfgeQ\n",
       "RQowFZwFQKs+gi0yhQYL4y+wzFaYEmCoMbCDzIwC+gkSLCfAEcEwCRZT7LoMDJchnn4E5Nn/3r1r\n",
       "KdQbyw9AGNx8uzeDw2EdA4cAasyw7EL4COymBlA04QVsF6CJATeYBcTS+JVsBDkQb8LkPcAAAOTH\n",
       "VkzlAWBGAAAAAElFTkSuQmCC\n",
       "\" style=\"display:inline;vertical-align:middle;\" /></a></td></tr>\n",
       "<tr><td>3</td><td>Operation</td><td>operator:&nbsp;4<br>operands:&nbsp;5<br></td><td><a class=\"ProveItLink\" href=\"../825241e475a17bb74631905b071dd4ec4b73c99e0/expr.ipynb\"><img src=\"data:image/png;base64,iVBORw0KGgoAAAANSUhEUgAAADgAAAAPBAMAAABD1xE4AAAAMFBMVEX///+qqqru7u4iIiJ2dnbc\n",
       "3NyIiIjMzMxmZmYQEBC6uroyMjJERERUVFSYmJgAAADLUcuvAAAAAXRSTlMAQObYZgAAAPNJREFU\n",
       "GNNjYGB4+//u3dMLGNDA246mVyB6DgMDxy80Oe4HDDofgDT7NyD+iyZ5hYGBcQOQZvvKwMD3BSyk\n",
       "ttnYGsxg/Q7UkABk8ExgYGCeBBJi36cA1cj1EcgrADL4LzCw7gGLxsDkGFj/p0MY9dfSmh+AWUcR\n",
       "dub//xMApgMYmGxBDKYDCEnWt/PBNp0EKQBp5ZpsbAx1EBCw/AORIF+8dwC55wJcI1AtE0iSHUTc\n",
       "FwAZawCTY2oAGvwV6k3W32CxezBJkP85LkC9WbkJLKYMC2EOMwaGHBB9/u/d2/ugTtxRAGHwct29\n",
       "8wA9KhhvI1wLBADxCEOLO6EpugAAAABJRU5ErkJggg==\n",
       "\" style=\"display:inline;vertical-align:middle;\" /></a></td></tr>\n",
       "<tr><td>4</td><td>Literal</td><td></td><td><a class=\"ProveItLink\" href=\"../088cbc857536a28d4119ad9639a84270ccb0545d0/expr.ipynb\"><img src=\"data:image/png;base64,iVBORw0KGgoAAAANSUhEUgAAAAwAAAAMBAMAAACkW0HUAAAALVBMVEX///+qqqpmZmZUVFQQEBC6\n",
       "urpERETc3NyYmJjMzMwiIiIyMjKIiIju7u4AAACYsrA9AAAAAXRSTlMAQObYZgAAADxJREFUCNdj\n",
       "YOA9vWrVBgaG2b0MQMCeCyIZ2ArA1DUwyRCyahVIyWQI7xaEYm4AU7xLIdxqTQgtvGvVBgCkcQ7e\n",
       "geM/tQAAAABJRU5ErkJggg==\n",
       "\" style=\"display:inline;vertical-align:middle;\" /></a></td></tr>\n",
       "<tr><td>5</td><td>ExprTuple</td><td>6, 7</td><td><a class=\"ProveItLink\" href=\"../8215d6fbde07eb1bed2de8f887b819336692f6c10/expr.ipynb\"><img src=\"data:image/png;base64,iVBORw0KGgoAAAANSUhEUgAAADQAAAAVBAMAAAD7ptBLAAAAMFBMVEX////c3NwiIiJERESqqqqY\n",
       "mJh2dnZmZmYQEBDu7u4yMjJUVFTMzMyIiIi6uroAAAAs73DqAAAAAXRSTlMAQObYZgAAATJJREFU\n",
       "KM9jYMAD+C5gE2V9ACROA3H0/927rR7AhKPLK+MYaoCMlSBeMwMD+z+oDFcAw+QPDFwMDLwg83j+\n",
       "AvFvqNQ2BgaWBQysCQwcE4A83o9A079BZBj/AJVdYOBsYHgF4jI3MDAwdUKd9QUodYCBwYShDMTl\n",
       "38DAuHgCVNf/O2A6nWEpiDq/925RAMyB9/9/FgBSXgx9YJ4AA6c2TIoxuh9k9gsGsJMtQNJwbQxs\n",
       "X0EmQaRA7o5PgIgDVXBCpFpA3gIx9zuAZTgLgEZ+BBtoCvUW4y+gMAPYtwzsG4CMKKAbId46AQyw\n",
       "+QpAYV0GhssQxz8C8ux/794F8sQMoG5uvt2bwQ5ax8AhgBQVDxFMYECxJiBJIdzPwHYBGimYUrOA\n",
       "WBrB5UVStREULlgTAO8BBgBha0+0puEm8QAAAABJRU5ErkJggg==\n",
       "\" style=\"display:inline;vertical-align:middle;\" /></a></td></tr>\n",
       "<tr><td>6</td><td>Variable</td><td></td><td><a class=\"ProveItLink\" href=\"../../../../../__pv_it/077b2ff79244fb4582cbe22c6e3356fa92a52f2f0/expr.ipynb\"><img src=\"data:image/png;base64,iVBORw0KGgoAAAANSUhEUgAAABAAAAAOBAMAAADUAYG5AAAAMFBMVEX///+qqqru7u4iIiJ2dnbc\n",
       "3NyIiIjMzMxmZmYQEBC6uroyMjJERERUVFSYmJgAAADLUcuvAAAAAXRSTlMAQObYZgAAAGpJREFU\n",
       "CNdjYGB4+//u3dMLGIBgDgMDxy8gzf4NiP8CGWxfGRj4vgAZPBMYGJgnARn8FxhY9ygAGfXX0pof\n",
       "gDTlBzAw2YIYJ0EckBBI53sHoBH/gIz7AhBjWH9DjancBLTl/N+7t/cxMAAA3u4f/5xagjYAAAAA\n",
       "SUVORK5CYII=\n",
       "\" style=\"display:inline;vertical-align:middle;\" /></a></td></tr>\n",
       "<tr><td>7</td><td>Variable</td><td></td><td><a class=\"ProveItLink\" href=\"../../../../../__pv_it/abeee18594afe51bfb1be95d9591fbba24ac53f30/expr.ipynb\"><img src=\"data:image/png;base64,iVBORw0KGgoAAAANSUhEUgAAAA0AAAAOBAMAAAAGUYvhAAAAMFBMVEX///8iIiIQEBCIiIjMzMzc\n",
       "3Nyqqqp2dnZEREQyMjK6urru7u5mZmZUVFSYmJgAAACI6eGPAAAAAXRSTlMAQObYZgAAAF1JREFU\n",
       "CNdjYGDgu3Nm3wIGBoZ5DNz9QIq3gIEhE0jHOzAwOAPp9QkMDC4g/megABAw///fCmbEXfq0Acxg\n",
       "qH8ANAVI7wfSe0BKAyBGnAXigwYMzA1A+sLau31ACgAz0hhbkhGHbwAAAABJRU5ErkJggg==\n",
       "\" style=\"display:inline;vertical-align:middle;\" /></a></td></tr>\n",
       "</table>\n"
      ],
      "text/plain": [
       "0. {B in S}\n",
       "   core type: Operation\n",
       "   operator: 1\n",
       "   operands: 2\n",
       "1. Set\n",
       "   core type: Literal\n",
       "   sub-expressions: \n",
       "2. (B in S)\n",
       "   core type: ExprTuple\n",
       "   sub-expressions: 3\n",
       "3. B in S\n",
       "   core type: Operation\n",
       "   operator: 4\n",
       "   operands: 5\n",
       "4. in\n",
       "   core type: Literal\n",
       "   sub-expressions: \n",
       "5. (B , S)\n",
       "   core type: ExprTuple\n",
       "   sub-expressions: 6, 7\n",
       "6. B\n",
       "   core type: Variable\n",
       "   sub-expressions: \n",
       "7. S\n",
       "   core type: Variable\n",
       "   sub-expressions: "
      ]
     },
     "execution_count": 4,
     "metadata": {},
     "output_type": "execute_result"
    }
   ],
   "source": [
    "# display the expression information\n",
    "expr.exprInfo()"
   ]
  },
  {
   "cell_type": "code",
   "execution_count": null,
   "metadata": {},
   "outputs": [],
   "source": []
  }
 ],
 "metadata": {
  "kernelspec": {
   "display_name": "Python 3",
   "language": "python",
   "name": "python3"
  }
 },
 "nbformat": 4,
 "nbformat_minor": 0
}
