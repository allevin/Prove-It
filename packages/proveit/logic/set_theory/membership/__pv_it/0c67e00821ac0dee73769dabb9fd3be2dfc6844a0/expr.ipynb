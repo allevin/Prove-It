{
 "cells": [
  {
   "cell_type": "markdown",
   "metadata": {},
   "source": [
    "Expression of type <a class=\"ProveItLink\" href=\"../../../../../../../doc/html/api/proveit.ExprTuple.html\">ExprTuple</a>\n",
    "=======================\n",
    "# from context <a class=\"ProveItLink\" href=\"../../_context_.ipynb\">proveit.logic.set_theory.membership</a>"
   ]
  },
  {
   "cell_type": "code",
   "execution_count": 1,
   "metadata": {},
   "outputs": [],
   "source": [
    "# import Expression classes needed to build the expression\n",
    "from proveit import ExprTuple\n",
    "from proveit._common_ import S, a, b, c, d, e, f, g, h\n",
    "from proveit.number import Exp, eight"
   ]
  },
  {
   "cell_type": "code",
   "execution_count": 2,
   "metadata": {},
   "outputs": [
    {
     "data": {
      "text/html": [
       "<strong id=\"expr\">expr:</strong> <a class=\"ProveItLink\" href=\"expr.ipynb\"><img src=\"data:image/png;base64,iVBORw0KGgoAAAANSUhEUgAAANYAAAAcBAMAAADvvlzPAAAAMFBMVEX///+qqqp2dnYiIiJERESI\n",
       "iIhmZmYQEBDc3NyYmJgyMjLu7u5UVFTMzMy6uroAAACGxKilAAAAAXRSTlMAQObYZgAAA3dJREFU\n",
       "SMe9VktIVFEY/kadl3dmFNoJoRX2IKIhSNxE08JIChyssQglywzJAlEKIai7KKMQnKIWQdRAJEkt\n",
       "hgilEMYotUTQTbvCWRQFPVRS02S0/7zuvfMQW6gH5s53vv+c/z//4/z3Aqs/3KEGrNU4hhcK/lpt\n",
       "WweRCxQx5O1bbVtvRtuBjwy9iq62reszjYA9SOg9m35ZQdUPUgl7xR56lgKuptQ49rZkUPD5Yhql\n",
       "9b9LZQb99HSMWkpw4MzL+EnvXopdNUlqicpNiuOzTKedTGNyNsylUrlMGSIm0QWtQosgNwzEonDG\n",
       "iQotoxbwzadRse/5qVQeZ24bcw9VX4ErADvZyg5jjHGXllELZPnTqML0VeM8Pj3GvIPC+QFP4CHe\n",
       "EcBRpj2yjFoVnaRRl75qkwiu4e84oU/o3riVpW4CQyyb7KK1V37Vhdr+6rBY+ry4RoD2ynG5v61Y\n",
       "9Zv7LQOqAOq3BQTqvHuEdGQZ5+qYHrWG6xDTTrp9raiQeQggwYH3Mh6JZSQT1WMrRZvaPK3AOXQI\n",
       "7dpf3UEVbTPCZF9cPKCwN4FO+mP10RHGaZmHKJo56AmiXBwvjLPyoHGcl3tdCeXWvKwJ2BLwkIe+\n",
       "JsOZG4N/VIm7FlDCyodsjQC7BUlqZzgYUTsI7BJo8F5Il6RtQgJnH8YE6fAjm9LhnbCkcGdYXb5J\n",
       "w9YUNHnQEvjExZlS60m2INBMhhIqzMdhgcgQOW7acrOMhE2/2MV15sM1TQfV5PVy8Kp3qYRYZNOW\n",
       "q6x6zQkd+2Wm49iCqBnDbhZ13Yz5W7YtzDz0RNaDBTcBZxEHc+xkUVhlFyjfEGadrJky7iE7HucI\n",
       "Nbt1uCNSUsALR9XhLHefFWkX1tUWab9p9prkHFBN7+DAlB2H1oCYXzohlsWinlnBDVEesoQ6LqkL\n",
       "wh4wWuMExplJWtge+lkW166Qx71V5CYDjuJQlANTllVP7axnVvUIzvn6q/yCewyc2k5XKC4lfT+G\n",
       "y838RpDHblur4ai+JLCgb+AuGlxOreTE6ElerTpPkLdHs1u6lwYWRKXl7itXXByxfM6pUZy8WrVq\n",
       "HV6/9Z3y37acT/2Sc8xiGFZbWiSjrTv028fqUdVvEEsCE9mZqs265GxllF/OqReJnrxPDvZuvsnA\n",
       "tRX8BqjJ/JHIWqataE0+Eq/y5601sdWINR3/AAUS+I5QbKw4AAAAAElFTkSuQmCC\n",
       "\" style=\"display:inline;vertical-align:middle;\" /></a><br>"
      ],
      "text/plain": [
       "expr: ((a , b , c , d , e , f , g , h) , S^{8})"
      ]
     },
     "execution_count": 2,
     "metadata": {},
     "output_type": "execute_result"
    }
   ],
   "source": [
    "# build up the expression from sub-expressions\n",
    "expr = ExprTuple([a, b, c, d, e, f, g, h], Exp(S, eight))"
   ]
  },
  {
   "cell_type": "code",
   "execution_count": 3,
   "metadata": {},
   "outputs": [
    {
     "name": "stdout",
     "output_type": "stream",
     "text": [
      "Passed sanity check: built 'expr' is the same as the stored Expression.\n"
     ]
    }
   ],
   "source": [
    "# check that the built expression is the same as the stored expression\n",
    "%check_expr"
   ]
  },
  {
   "cell_type": "code",
   "execution_count": 4,
   "metadata": {},
   "outputs": [
    {
     "data": {
      "text/html": [
       "<table><tr><th>&nbsp;</th><th>core type</th><th>sub-expressions</th><th>expression</th></tr>\n",
       "<tr><td>0</td><td>ExprTuple</td><td>1, 2</td><td><a class=\"ProveItLink\" href=\"expr.ipynb\"><img src=\"data:image/png;base64,iVBORw0KGgoAAAANSUhEUgAAANYAAAAcBAMAAADvvlzPAAAAMFBMVEX///+qqqp2dnYiIiJERESI\n",
       "iIhmZmYQEBDc3NyYmJgyMjLu7u5UVFTMzMy6uroAAACGxKilAAAAAXRSTlMAQObYZgAAA3dJREFU\n",
       "SMe9VktIVFEY/kadl3dmFNoJoRX2IKIhSNxE08JIChyssQglywzJAlEKIai7KKMQnKIWQdRAJEkt\n",
       "hgilEMYotUTQTbvCWRQFPVRS02S0/7zuvfMQW6gH5s53vv+c/z//4/z3Aqs/3KEGrNU4hhcK/lpt\n",
       "WweRCxQx5O1bbVtvRtuBjwy9iq62reszjYA9SOg9m35ZQdUPUgl7xR56lgKuptQ49rZkUPD5Yhql\n",
       "9b9LZQb99HSMWkpw4MzL+EnvXopdNUlqicpNiuOzTKedTGNyNsylUrlMGSIm0QWtQosgNwzEonDG\n",
       "iQotoxbwzadRse/5qVQeZ24bcw9VX4ErADvZyg5jjHGXllELZPnTqML0VeM8Pj3GvIPC+QFP4CHe\n",
       "EcBRpj2yjFoVnaRRl75qkwiu4e84oU/o3riVpW4CQyyb7KK1V37Vhdr+6rBY+ry4RoD2ynG5v61Y\n",
       "9Zv7LQOqAOq3BQTqvHuEdGQZ5+qYHrWG6xDTTrp9raiQeQggwYH3Mh6JZSQT1WMrRZvaPK3AOXQI\n",
       "7dpf3UEVbTPCZF9cPKCwN4FO+mP10RHGaZmHKJo56AmiXBwvjLPyoHGcl3tdCeXWvKwJ2BLwkIe+\n",
       "JsOZG4N/VIm7FlDCyodsjQC7BUlqZzgYUTsI7BJo8F5Il6RtQgJnH8YE6fAjm9LhnbCkcGdYXb5J\n",
       "w9YUNHnQEvjExZlS60m2INBMhhIqzMdhgcgQOW7acrOMhE2/2MV15sM1TQfV5PVy8Kp3qYRYZNOW\n",
       "q6x6zQkd+2Wm49iCqBnDbhZ13Yz5W7YtzDz0RNaDBTcBZxEHc+xkUVhlFyjfEGadrJky7iE7HucI\n",
       "Nbt1uCNSUsALR9XhLHefFWkX1tUWab9p9prkHFBN7+DAlB2H1oCYXzohlsWinlnBDVEesoQ6LqkL\n",
       "wh4wWuMExplJWtge+lkW166Qx71V5CYDjuJQlANTllVP7axnVvUIzvn6q/yCewyc2k5XKC4lfT+G\n",
       "y838RpDHblur4ai+JLCgb+AuGlxOreTE6ElerTpPkLdHs1u6lwYWRKXl7itXXByxfM6pUZy8WrVq\n",
       "HV6/9Z3y37acT/2Sc8xiGFZbWiSjrTv028fqUdVvEEsCE9mZqs265GxllF/OqReJnrxPDvZuvsnA\n",
       "tRX8BqjJ/JHIWqataE0+Eq/y5601sdWINR3/AAUS+I5QbKw4AAAAAElFTkSuQmCC\n",
       "\" style=\"display:inline;vertical-align:middle;\" /></a></td></tr>\n",
       "<tr><td>1</td><td>ExprTuple</td><td>3, 4, 5, 6, 7, 8, 9, 10</td><td><a class=\"ProveItLink\" href=\"../1df5b3cd77c2904730c1a4e203f64b2ea9a10b0f0/expr.ipynb\"><img src=\"data:image/png;base64,iVBORw0KGgoAAAANSUhEUgAAAKAAAAAVBAMAAAAz5vjYAAAAMFBMVEX////c3NwiIiJERESqqqqY\n",
       "mJh2dnZmZmYQEBDu7u4yMjJUVFTMzMyIiIi6uroAAAAs73DqAAAAAXRSTlMAQObYZgAAAmNJREFU\n",
       "OMutVT2IE0EU/nL52WziZre3OKuzsIngH9gE7WwSERQUMVjcdRIPkkbhoqiFcrqIoGiRWIiIIBER\n",
       "DuFwwUawcG0UkT2ilWhxOY1ImuCbeTPuXvbiWWRgZz6+t+//zS4w8VXwJ2cr3aXtTYQwl7Zt4HFf\n",
       "Lcbd++SMMhfFfp6eR1E619nAr12KUXvKlVHqodQHLH8TXWDVHWXM4a3YW32ZcxVZ99+6tE7HmFQv\n",
       "XpiB9NTEt010dTLrlhEvdYapXWjQnlg+c4Hpx8FzldRs4ElAsj5TicYH1Yn00g7dp2Pvj6jq14Od\n",
       "dMzhAe1fnSTnYP6EzXZed3PskmQDVjngJLQZWxfe6CR+M2rdxzk6DuE6uf4Fo8i1GSBblZYXkZR9\n",
       "FLI2BziE4Sk70xqccqHiL3t4JvxjCOR7mGKXpGvLKPK66kJWZXT55DtdsLIG17BljdE8MEPHW2HQ\n",
       "LqLFLqdqWJWB2UWdHMm6jGrx3qX6sFR/ZkQKwuAlSsAnl64awwUJpnWRIrLIwO5Xp7WGZE1NJjJN\n",
       "U6S8m+pZwouUZwolD1cgAcVZESCUZcmgz7axKEyIdvdEDC6jbPUwcJz6jFwltT2DFsWeLxkdBjVk\n",
       "PAFCmdXGbcf8ocKB5MwBXjKXb1PZqmJsvohRW3m1gjtUXXO5DgnQCD5KEMowF/gwbzj6VkjuezDP\n",
       "XM6HMUuhPkH272fj83gQooJ43WqH3F7FqfvQFNdZrcp4EKI0PSd4RGkrwOwzpy+gH/l8/bfBqzc1\n",
       "t+DkO+sM3qVnqx4BjAURJGbn6FnNHQzqilPrqbhSE/wFWB7+AEWYsfiUD5poAAAAAElFTkSuQmCC\n",
       "\" style=\"display:inline;vertical-align:middle;\" /></a></td></tr>\n",
       "<tr><td>2</td><td>Operation</td><td>operator:&nbsp;11<br>operands:&nbsp;12<br></td><td><a class=\"ProveItLink\" href=\"../efeeab45298c68e21b1d226a42cea0bd8f37e4cb0/expr.ipynb\"><img src=\"data:image/png;base64,iVBORw0KGgoAAAANSUhEUgAAABUAAAAUBAMAAACQZWsAAAAAMFBMVEX///8iIiIQEBCIiIjMzMzc\n",
       "3Nyqqqp2dnZEREQyMjK6urru7u5mZmZUVFSYmJgAAACI6eGPAAAAAXRSTlMAQObYZgAAAJNJREFU\n",
       "CNdjYIAAPuOjDDBgyrADzu5m4ISzLzrEwtlBf07D2cz9ImAj7pzZt+AYi/wGIHseA3c/9wQGzgcM\n",
       "DLwFDAyZrA0MzEB2vAMDgzPDVAZeoJr1CQwMLgx7ykuByuM/OyBM+/+/Fc6Ju/RpA5zDUP8A6lgg\n",
       "3g9l7wFpD4CwM4H4LFTtQQMG5gYo+8Lau31QJgAjryaOn3NTLQAAAABJRU5ErkJggg==\n",
       "\" style=\"display:inline;vertical-align:middle;\" /></a></td></tr>\n",
       "<tr><td>3</td><td>Variable</td><td></td><td><a class=\"ProveItLink\" href=\"../../../../../__pv_it/07527342713064c87612d00d8557c53d53d5324a0/expr.ipynb\"><img src=\"data:image/png;base64,iVBORw0KGgoAAAANSUhEUgAAAAsAAAAJBAMAAAAWSsseAAAAMFBMVEX///8yMjKqqqrMzMzu7u4i\n",
       "IiJmZmaYmJhEREQQEBC6urp2dnaIiIhUVFTc3NwAAAD87Fq/AAAAAXRSTlMAQObYZgAAAEhJREFU\n",
       "CNdjYOC7s2seAwPDygccHxgY+L4zsDUwMPB+YGA9wMDA38Dgb8DA8P4Agz6DA4O/AsNFJgMGxgKm\n",
       "MG6gyjunLE4xAAAZTBA5TB6DCwAAAABJRU5ErkJggg==\n",
       "\" style=\"display:inline;vertical-align:middle;\" /></a></td></tr>\n",
       "<tr><td>4</td><td>Variable</td><td></td><td><a class=\"ProveItLink\" href=\"../../../../../__pv_it/6840a4fa6c106149dc16a131294d0c5e44f1b0480/expr.ipynb\"><img src=\"data:image/png;base64,iVBORw0KGgoAAAANSUhEUgAAAAkAAAAOBAMAAAAPuiubAAAALVBMVEX///9mZmbMzMxERESYmJiI\n",
       "iIh2dna6urqqqqoyMjIiIiIQEBBUVFTu7u4AAAD9S1JeAAAAAXRSTlMAQObYZgAAAE1JREFUCNdj\n",
       "4D29gAEIOA+ASL4GEFl3AURmgQiGOaFHGBh4HzPwKTBwvGXgTmBgnMDAJ8DAJcBQ5wBSLncBJLWN\n",
       "gYGngRFoBO9REQYGAGrcDtUkVqASAAAAAElFTkSuQmCC\n",
       "\" style=\"display:inline;vertical-align:middle;\" /></a></td></tr>\n",
       "<tr><td>5</td><td>Variable</td><td></td><td><a class=\"ProveItLink\" href=\"../../../../../__pv_it/cbdfda466482236edba0ce44ac7ef39cda0af7a40/expr.ipynb\"><img src=\"data:image/png;base64,iVBORw0KGgoAAAANSUhEUgAAAAkAAAAJBAMAAAASvxsjAAAALVBMVEX///9mZmbc3NxUVFSYmJhE\n",
       "REQiIiIyMjK6uroQEBDMzMyIiIh2dnbu7u4AAABgFDGoAAAAAXRSTlMAQObYZgAAADZJREFUCNdj\n",
       "YOA9s3sBA8PKBvYEBt7ZDKwODMwPGICALwBE6m0Asx0YGIDiAgw8QJUyu/cyAAAmuwmycZ8WfQAA\n",
       "AABJRU5ErkJggg==\n",
       "\" style=\"display:inline;vertical-align:middle;\" /></a></td></tr>\n",
       "<tr><td>6</td><td>Variable</td><td></td><td><a class=\"ProveItLink\" href=\"../../../../../__pv_it/3a5de44ed6135dbbdbbeec6704c741e238f127300/expr.ipynb\"><img src=\"data:image/png;base64,iVBORw0KGgoAAAANSUhEUgAAAAsAAAAOBAMAAAALT/umAAAAMFBMVEX////MzMyYmJiIiIhUVFTc\n",
       "3NwyMjIiIiJ2dnbu7u6qqqpmZmYQEBBERES6uroAAABkyy6XAAAAAXRSTlMAQObYZgAAAFhJREFU\n",
       "CNdjYGBg4LuzgQEE+BeAqfcTwFQ7mGTIBmJW575fQOpNAO9PIOcTA3cCAwPLBwb2BqCeCwzzHzAw\n",
       "xBswrGeYwDB/AYMblwADmwJXNQdIm52sHQMAfyoTCZukXIEAAAAASUVORK5CYII=\n",
       "\" style=\"display:inline;vertical-align:middle;\" /></a></td></tr>\n",
       "<tr><td>7</td><td>Variable</td><td></td><td><a class=\"ProveItLink\" href=\"../../../../../__pv_it/0bc0f4a545336331111a0b22c4f05a0627b57b8f0/expr.ipynb\"><img src=\"data:image/png;base64,iVBORw0KGgoAAAANSUhEUgAAAAkAAAAJBAMAAAASvxsjAAAALVBMVEX////u7u4yMjKYmJgQEBBU\n",
       "VFTMzMy6uroiIiKqqqqIiIh2dnZmZmbc3NwAAAAyj3LLAAAAAXRSTlMAQObYZgAAADlJREFUCNdj\n",
       "YOA9veYCA8OMC7wHGHifM/AkMLA6W61lYOA7wAAEfAtAJAuQXMDApcAgA1S5Z9UCBgB6Cgz1W65k\n",
       "FgAAAABJRU5ErkJggg==\n",
       "\" style=\"display:inline;vertical-align:middle;\" /></a></td></tr>\n",
       "<tr><td>8</td><td>Variable</td><td></td><td><a class=\"ProveItLink\" href=\"../../../../../__pv_it/4d51ee1e62d011d06d4528b97697bf3da60c9de60/expr.ipynb\"><img src=\"data:image/png;base64,iVBORw0KGgoAAAANSUhEUgAAAAsAAAASBAMAAAB/WzlGAAAAMFBMVEX///8yMjLMzMwQEBAiIiJm\n",
       "Zma6urqYmJiqqqp2dnZERETc3NyIiIhUVFTu7u4AAAAe+HC4AAAAAXRSTlMAQObYZgAAAFVJREFU\n",
       "CNdjYGBgeHt2A5BkWNlfACT5vr0AcTg+gEgGVgcQyX7ZNwBE8x8AC+5XAFP9YJJhCoRaC6FswCTf\n",
       "NzDF9g9M8QiAyFoukPEMhk/AYpXRIBIAEwsRcZ82juYAAAAASUVORK5CYII=\n",
       "\" style=\"display:inline;vertical-align:middle;\" /></a></td></tr>\n",
       "<tr><td>9</td><td>Variable</td><td></td><td><a class=\"ProveItLink\" href=\"../../../../../__pv_it/b5004dd09038f1a7d88dab9010b943185ce1d3ea0/expr.ipynb\"><img src=\"data:image/png;base64,iVBORw0KGgoAAAANSUhEUgAAAAoAAAANBAMAAABiGeI2AAAALVBMVEX///+6uroiIiLMzMwQEBCq\n",
       "qqru7u7c3NxUVFRERER2dnaIiIhmZmaYmJgAAABs7E5IAAAAAXRSTlMAQObYZgAAAFRJREFUCNdj\n",
       "YGC4s+smAwNPA/sbBoZ7CQxPGRg8GJifM7A+ZeBWYOB+zsB5gIH3AQNfAAPbM4a+AgYGid2HGEBg\n",
       "DgMDIwMbUPm5Ao4GBobI3WcZGAA0kxQNEIuRVgAAAABJRU5ErkJggg==\n",
       "\" style=\"display:inline;vertical-align:middle;\" /></a></td></tr>\n",
       "<tr><td>10</td><td>Variable</td><td></td><td><a class=\"ProveItLink\" href=\"../../../../../__pv_it/3b5a3cc74431604b3beba568cf7dfeb60b1886650/expr.ipynb\"><img src=\"data:image/png;base64,iVBORw0KGgoAAAANSUhEUgAAAAsAAAAOBAMAAAALT/umAAAAMFBMVEX////MzMzc3NxERESIiIiY\n",
       "mJh2dna6urqqqqpmZmYyMjIiIiIQEBBUVFTu7u4AAAAdUKnwAAAAAXRSTlMAQObYZgAAAFlJREFU\n",
       "CNdj4LuzgQEEuCaAKf4GMFX/AExlg0mGlSHOCgwMfL8UOC8wMHB8ZOA1YGDg3MDAncAAwvoFDAzv\n",
       "CxhyGB4wxDMwHGNVYLjFwPeRjYFhCQPDtDwGADR5Es9USdyIAAAAAElFTkSuQmCC\n",
       "\" style=\"display:inline;vertical-align:middle;\" /></a></td></tr>\n",
       "<tr><td>11</td><td>Literal</td><td></td><td><a class=\"ProveItLink\" href=\"../../../../../number/exponentiation/__pv_it/deb2bf23cbccdd6e6791e1b35b5b9794ce12dbd50/expr.ipynb\"><img src=\"data:image/png;base64,iVBORw0KGgoAAAANSUhEUgAAACgAAAASBAMAAADbMYGVAAAAMFBMVEX///8QEBAiIiKYmJjc3Nzu\n",
       "7u7MzMx2dnZmZma6urpERESqqqoyMjJUVFSIiIgAAAAoDOMTAAAAAXRSTlMAQObYZgAAAOBJREFU\n",
       "GNNjYGB4+//u3Tt/GNAASGAXmhjnPyDBgSbI/g1IxKEJ8nxgYGdgQRPkX8BgDKRY6q7s62OYvmze\n",
       "2wAgb/7ZO1+AVDiDkYEQQ0HTBr4DQF59AgOIKmB4z7CNbcNZBu6vQN55kEACQwDDLQYGVobfDHwg\n",
       "fb8YGBxYHwAZciD3fWXg+gB1JjvQcJZvQIXsCgz8F6DO9GBgMOH7wPCUgaeBwd4B7EwGNjUG7s9c\n",
       "AiwPgO5jkWRgiF3/9+5dfQUG1nWl5Y+B7pv+1gE9bBhqGLCAE1jEWH9jEbT5A3IwAC4sP/1L6Qlu\n",
       "AAAAAElFTkSuQmCC\n",
       "\" style=\"display:inline;vertical-align:middle;\" /></a></td></tr>\n",
       "<tr><td>12</td><td>ExprTuple</td><td>13, 14</td><td><a class=\"ProveItLink\" href=\"../a36368b91085185621785991ab041540973342450/expr.ipynb\"><img src=\"data:image/png;base64,iVBORw0KGgoAAAANSUhEUgAAAC0AAAAVBAMAAAAgHXppAAAAMFBMVEX////c3NwiIiJERESqqqqY\n",
       "mJh2dnZmZmYQEBDu7u4yMjJUVFTMzMyIiIi6uroAAAAs73DqAAAAAXRSTlMAQObYZgAAAS5JREFU\n",
       "GNNjYMAF+C5gCMWBiNMggnV7+dQHIAZnWroDA/sBIGsliLuUgdMerJSdgaGUgWEBAwMvyBjuBAYG\n",
       "L7B4KAPDJAaGMAYGjglAnjxQ41mweDZYfAYDwysQ770DA8MZsLj/ToZcBgZmB4YyEE/+7wGoU5j/\n",
       "xwLNZCsA2ggEvP//G0Il6j8JMDCwLGDoA/NEd/yYAGaw1qz/AvRTA8M/qLr8ADAVzsD6fwIDzwew\n",
       "OCsQz4eIdwItCwCJtwA500FWC4C92wD02gWQOaYMEC9VM3CCJBqBnhRgYF3AkA7kFF1g4DVgmK8A\n",
       "UjKBwQ3szkdAzobXu4HaZnwEhe72cqAfuR4wcAjAg/chnAUMB9YEOC8AzsqFhTOqOCcwnBmkYTxe\n",
       "uAJukNmMmPF4h4EBANSqQ4g2WkGOAAAAAElFTkSuQmCC\n",
       "\" style=\"display:inline;vertical-align:middle;\" /></a></td></tr>\n",
       "<tr><td>13</td><td>Variable</td><td></td><td><a class=\"ProveItLink\" href=\"../../../../../__pv_it/abeee18594afe51bfb1be95d9591fbba24ac53f30/expr.ipynb\"><img src=\"data:image/png;base64,iVBORw0KGgoAAAANSUhEUgAAAA0AAAAOBAMAAAAGUYvhAAAAMFBMVEX///8iIiIQEBCIiIjMzMzc\n",
       "3Nyqqqp2dnZEREQyMjK6urru7u5mZmZUVFSYmJgAAACI6eGPAAAAAXRSTlMAQObYZgAAAF1JREFU\n",
       "CNdjYGDgu3Nm3wIGBoZ5DNz9QIq3gIEhE0jHOzAwOAPp9QkMDC4g/megABAw///fCmbEXfq0Acxg\n",
       "qH8ANAVI7wfSe0BKAyBGnAXigwYMzA1A+sLau31ACgAz0hhbkhGHbwAAAABJRU5ErkJggg==\n",
       "\" style=\"display:inline;vertical-align:middle;\" /></a></td></tr>\n",
       "<tr><td>14</td><td>Literal</td><td></td><td><a class=\"ProveItLink\" href=\"../../../../../number/numeral/__pv_it/7ca36d8558dd5f18c1e16b5e877a0b7e314926450/expr.ipynb\"><img src=\"data:image/png;base64,iVBORw0KGgoAAAANSUhEUgAAAAoAAAAOBAMAAADkjZCYAAAAMFBMVEX///+6uroQEBAyMjLMzMzc\n",
       "3NxERESIiIhUVFQiIiKYmJiqqqpmZmZ2dnbu7u4AAAACo3QQAAAAAXRSTlMAQObYZgAAAFlJREFU\n",
       "CNdjYHh79zQDA8MBBp4FDFwLGPgmMPA2gEjuHw94CxgY8n/VAmV5/k8Fkmuc/29g4DrAsP4fA9MD\n",
       "BtZfDI+AgscZmAIYGFoZuO0YuC8wMEicOc0AAC98GKTiu3IvAAAAAElFTkSuQmCC\n",
       "\" style=\"display:inline;vertical-align:middle;\" /></a></td></tr>\n",
       "</table>\n"
      ],
      "text/plain": [
       "0. ((a , b , c , d , e , f , g , h) , S^{8})\n",
       "   core type: ExprTuple\n",
       "   sub-expressions: 1, 2\n",
       "1. (a , b , c , d , e , f , g , h)\n",
       "   core type: ExprTuple\n",
       "   sub-expressions: 3, 4, 5, 6, 7, 8, 9, 10\n",
       "2. S^{8}\n",
       "   core type: Operation\n",
       "   operator: 11\n",
       "   operands: 12\n",
       "3. a\n",
       "   core type: Variable\n",
       "   sub-expressions: \n",
       "4. b\n",
       "   core type: Variable\n",
       "   sub-expressions: \n",
       "5. c\n",
       "   core type: Variable\n",
       "   sub-expressions: \n",
       "6. d\n",
       "   core type: Variable\n",
       "   sub-expressions: \n",
       "7. e\n",
       "   core type: Variable\n",
       "   sub-expressions: \n",
       "8. f\n",
       "   core type: Variable\n",
       "   sub-expressions: \n",
       "9. g\n",
       "   core type: Variable\n",
       "   sub-expressions: \n",
       "10. h\n",
       "    core type: Variable\n",
       "    sub-expressions: \n",
       "11. Exp\n",
       "    core type: Literal\n",
       "    sub-expressions: \n",
       "12. (S , 8)\n",
       "    core type: ExprTuple\n",
       "    sub-expressions: 13, 14\n",
       "13. S\n",
       "    core type: Variable\n",
       "    sub-expressions: \n",
       "14. 8\n",
       "    core type: Literal\n",
       "    sub-expressions: "
      ]
     },
     "execution_count": 4,
     "metadata": {},
     "output_type": "execute_result"
    }
   ],
   "source": [
    "# display the expression information\n",
    "expr.exprInfo()"
   ]
  },
  {
   "cell_type": "code",
   "execution_count": null,
   "metadata": {},
   "outputs": [],
   "source": []
  }
 ],
 "metadata": {
  "kernelspec": {
   "display_name": "Python 3",
   "language": "python",
   "name": "python3"
  }
 },
 "nbformat": 4,
 "nbformat_minor": 0
}
