{
 "cells": [
  {
   "cell_type": "markdown",
   "metadata": {},
   "source": [
    "Expression of type <a class=\"ProveItLink\" href=\"../../../../../../../doc/html/api/proveit.ExprTuple.html\">ExprTuple</a>\n",
    "=======================\n",
    "# from context <a class=\"ProveItLink\" href=\"../../_context_.ipynb\">proveit.logic.set_theory.membership</a>"
   ]
  },
  {
   "cell_type": "code",
   "execution_count": 1,
   "metadata": {},
   "outputs": [],
   "source": [
    "# import Expression classes needed to build the expression\n",
    "from proveit import ExprTuple\n",
    "from proveit._common_ import A, B, S\n",
    "from proveit.logic import InSet"
   ]
  },
  {
   "cell_type": "code",
   "execution_count": 2,
   "metadata": {},
   "outputs": [
    {
     "data": {
      "text/html": [
       "<strong id=\"expr\">expr:</strong> <a class=\"ProveItLink\" href=\"expr.ipynb\"><img src=\"data:image/png;base64,iVBORw0KGgoAAAANSUhEUgAAAIMAAAAVBAMAAACXjEALAAAAMFBMVEX////c3NwiIiJERESqqqqY\n",
       "mJh2dnZmZmYQEBDu7u4yMjJUVFTMzMyIiIi6uroAAAAs73DqAAAAAXRSTlMAQObYZgAAAddJREFU\n",
       "OMutlE0oRFEUx/9jPOaZD1PYsBhNKdkYC8VqrG1YWTI7KxHFwmImWVnwUiKFR0ksmJLIW5AtmtnZ\n",
       "kMmShY8QJsa5H28m4zYKt967577fueeer3eBfxi+5F92d7PXsZCPvlFtd2QmJaSDtLW9qeSlhySt\n",
       "iw9b30ysQg9L0RUCoiklNwGviENrNPI03BGgXcoJUkrElbyLDhBbK6N+QRZWgg1cCJCLp1L9kmBP\n",
       "RMnngGuhlLwUfnpWbW9u24ATKbfQU28oubMNw6IsRkcnFyqy8QTeD7NOp4HqVjUvGaCksLHIw6XR\n",
       "lN3mzWTshSd9cVYHNS82McnXKQQG2KyHcvmq2nuRR3rvgem4mvti+ODHWNYBh76xYFCmi0a/CA7O\n",
       "GJl5UnPPnTDho8qY3Fa2cho9S9JEOX3VntWcTIyzNSW3KMYdrbVVZlnGZKETpOp+VHMKpJlEB5ko\n",
       "u+Nkx1ZhXTUKGHZbBEwlh2ail6Z5Fu8rJ9N2Gw8m4Q1Bf5Bt4ZkwVJwX9YpqPbUMLfzGS+JYk90Q\n",
       "v7HIQX2KHBjKWNaGTEseJ+9TcPm/tn7xfi7jLNF5OJ+zBtciBe8D7acLoy/3s//ShM6yXFNQ5acr\n",
       "zc0Cdfzp4jsHPgFHm42AFjD60QAAAABJRU5ErkJggg==\n",
       "\" style=\"display:inline;vertical-align:middle;\" /></a><br>"
      ],
      "text/plain": [
       "expr: (A in S , B in S)"
      ]
     },
     "execution_count": 2,
     "metadata": {},
     "output_type": "execute_result"
    }
   ],
   "source": [
    "# build up the expression from sub-expressions\n",
    "expr = ExprTuple(InSet(A, S), InSet(B, S))"
   ]
  },
  {
   "cell_type": "code",
   "execution_count": 3,
   "metadata": {},
   "outputs": [
    {
     "name": "stdout",
     "output_type": "stream",
     "text": [
      "Passed sanity check: built 'expr' is the same as the stored Expression.\n"
     ]
    }
   ],
   "source": [
    "# check that the built expression is the same as the stored expression\n",
    "%check_expr"
   ]
  },
  {
   "cell_type": "code",
   "execution_count": 4,
   "metadata": {},
   "outputs": [
    {
     "data": {
      "text/html": [
       "<table><tr><th>&nbsp;</th><th>core type</th><th>sub-expressions</th><th>expression</th></tr>\n",
       "<tr><td>0</td><td>ExprTuple</td><td>1, 2</td><td><a class=\"ProveItLink\" href=\"expr.ipynb\"><img src=\"data:image/png;base64,iVBORw0KGgoAAAANSUhEUgAAAIMAAAAVBAMAAACXjEALAAAAMFBMVEX////c3NwiIiJERESqqqqY\n",
       "mJh2dnZmZmYQEBDu7u4yMjJUVFTMzMyIiIi6uroAAAAs73DqAAAAAXRSTlMAQObYZgAAAddJREFU\n",
       "OMutlE0oRFEUx/9jPOaZD1PYsBhNKdkYC8VqrG1YWTI7KxHFwmImWVnwUiKFR0ksmJLIW5AtmtnZ\n",
       "kMmShY8QJsa5H28m4zYKt967577fueeer3eBfxi+5F92d7PXsZCPvlFtd2QmJaSDtLW9qeSlhySt\n",
       "iw9b30ysQg9L0RUCoiklNwGviENrNPI03BGgXcoJUkrElbyLDhBbK6N+QRZWgg1cCJCLp1L9kmBP\n",
       "RMnngGuhlLwUfnpWbW9u24ATKbfQU28oubMNw6IsRkcnFyqy8QTeD7NOp4HqVjUvGaCksLHIw6XR\n",
       "lN3mzWTshSd9cVYHNS82McnXKQQG2KyHcvmq2nuRR3rvgem4mvti+ODHWNYBh76xYFCmi0a/CA7O\n",
       "GJl5UnPPnTDho8qY3Fa2cho9S9JEOX3VntWcTIyzNSW3KMYdrbVVZlnGZKETpOp+VHMKpJlEB5ko\n",
       "u+Nkx1ZhXTUKGHZbBEwlh2ail6Z5Fu8rJ9N2Gw8m4Q1Bf5Bt4ZkwVJwX9YpqPbUMLfzGS+JYk90Q\n",
       "v7HIQX2KHBjKWNaGTEseJ+9TcPm/tn7xfi7jLNF5OJ+zBtciBe8D7acLoy/3s//ShM6yXFNQ5acr\n",
       "zc0Cdfzp4jsHPgFHm42AFjD60QAAAABJRU5ErkJggg==\n",
       "\" style=\"display:inline;vertical-align:middle;\" /></a></td></tr>\n",
       "<tr><td>1</td><td>Operation</td><td>operator:&nbsp;4<br>operands:&nbsp;3<br></td><td><a class=\"ProveItLink\" href=\"../f5cdac0b08c495cc942fc84c09ebab0b825161060/expr.ipynb\"><img src=\"data:image/png;base64,iVBORw0KGgoAAAANSUhEUgAAADcAAAAPBAMAAACy3Eq1AAAAMFBMVEX///92dnYQEBBERERUVFS6\n",
       "urqIiIhmZmaqqqrc3Nzu7u6YmJgyMjIiIiLMzMwAAACFkkdwAAAAAXRSTlMAQObYZgAAAOFJREFU\n",
       "GNNjYACBtwzogNu9fHUAhHkeQ/I0A5c9VNn9BWhyLAIMDD0Q5oz6CRDGsrN374AZ8x8wMDyDiCXk\n",
       "Q4znOw0zIb6BgeEdmMW6oH8DmDEZbvr8bw+grKUM7xPADEu4nWz//0M5AQzzC0A0lwHCRbOdPoGN\n",
       "4XNx8QcLs+revQt1EBDIg61iZWBgOgBW5QAPAiBeD5YEOoxXAWzsBZjkcpCbQN7jBEryfACLecMk\n",
       "Qf4vATHWADHzL7DYWmhoMtQmMLCBnDFZ/yQDt/0fsHM5j0N95xDiYo0R3Bw+CNcCAQAZcTpZalNj\n",
       "qAAAAABJRU5ErkJggg==\n",
       "\" style=\"display:inline;vertical-align:middle;\" /></a></td></tr>\n",
       "<tr><td>2</td><td>Operation</td><td>operator:&nbsp;4<br>operands:&nbsp;5<br></td><td><a class=\"ProveItLink\" href=\"../825241e475a17bb74631905b071dd4ec4b73c99e0/expr.ipynb\"><img src=\"data:image/png;base64,iVBORw0KGgoAAAANSUhEUgAAADgAAAAPBAMAAABD1xE4AAAAMFBMVEX///+qqqru7u4iIiJ2dnbc\n",
       "3NyIiIjMzMxmZmYQEBC6uroyMjJERERUVFSYmJgAAADLUcuvAAAAAXRSTlMAQObYZgAAAPNJREFU\n",
       "GNNjYGB4+//u3dMLGNDA246mVyB6DgMDxy80Oe4HDDofgDT7NyD+iyZ5hYGBcQOQZvvKwMD3BSyk\n",
       "ttnYGsxg/Q7UkABk8ExgYGCeBBJi36cA1cj1EcgrADL4LzCw7gGLxsDkGFj/p0MY9dfSmh+AWUcR\n",
       "dub//xMApgMYmGxBDKYDCEnWt/PBNp0EKQBp5ZpsbAx1EBCw/AORIF+8dwC55wJcI1AtE0iSHUTc\n",
       "FwAZawCTY2oAGvwV6k3W32CxezBJkP85LkC9WbkJLKYMC2EOMwaGHBB9/u/d2/ugTtxRAGHwct29\n",
       "8wA9KhhvI1wLBADxCEOLO6EpugAAAABJRU5ErkJggg==\n",
       "\" style=\"display:inline;vertical-align:middle;\" /></a></td></tr>\n",
       "<tr><td>3</td><td>ExprTuple</td><td>6, 8</td><td><a class=\"ProveItLink\" href=\"../5119ddb33e983b5746654d00bd489bdc312a2cb40/expr.ipynb\"><img src=\"data:image/png;base64,iVBORw0KGgoAAAANSUhEUgAAADMAAAAVBAMAAAAZessyAAAAMFBMVEX////c3NwiIiJERESqqqqY\n",
       "mJh2dnZmZmYQEBDu7u4yMjJUVFTMzMyIiIi6uroAAAAs73DqAAAAAXRSTlMAQObYZgAAAS5JREFU\n",
       "KM9jYMAD+C5gE40DEach7ENwUdbt5VMfsB8AslZCBNbDpZYycNozMCxgYOCFmMeqPwEqw53AwODF\n",
       "wBDGwMABERKpF4BKyQONOsvAMIOB4RVE4ML9B1Cp9w4MDGcYGJgdGMogzpzgHwDT9RfkAga2AqCl\n",
       "IDCP4TzMD7z//xsCKZYFDH1g/gMG+QKYC0V3/ADaz9fA8A/E49m9e78Bwr/5QMN5PkCk+IAuXQD1\n",
       "MBDPh0i1gPhARzE1QKSmg1wiADbQFMhkBEpxfWBgAHkR6FuGapDuBQzpQGoWEDP/ZOD8BKSLLjDw\n",
       "GkAc/4iBQbh/IQOr/a8Czn6gQRte7wYZxMD1gIFDACl+kNjAgGJNQHBZkSIsFxEpaFKcIL9II/hI\n",
       "8c0NMpsRawK4w8AAAIRLRQU3vFzXAAAAAElFTkSuQmCC\n",
       "\" style=\"display:inline;vertical-align:middle;\" /></a></td></tr>\n",
       "<tr><td>4</td><td>Literal</td><td></td><td><a class=\"ProveItLink\" href=\"../088cbc857536a28d4119ad9639a84270ccb0545d0/expr.ipynb\"><img src=\"data:image/png;base64,iVBORw0KGgoAAAANSUhEUgAAAAwAAAAMBAMAAACkW0HUAAAALVBMVEX///+qqqpmZmZUVFQQEBC6\n",
       "urpERETc3NyYmJjMzMwiIiIyMjKIiIju7u4AAACYsrA9AAAAAXRSTlMAQObYZgAAADxJREFUCNdj\n",
       "YOA9vWrVBgaG2b0MQMCeCyIZ2ArA1DUwyRCyahVIyWQI7xaEYm4AU7xLIdxqTQgtvGvVBgCkcQ7e\n",
       "geM/tQAAAABJRU5ErkJggg==\n",
       "\" style=\"display:inline;vertical-align:middle;\" /></a></td></tr>\n",
       "<tr><td>5</td><td>ExprTuple</td><td>7, 8</td><td><a class=\"ProveItLink\" href=\"../8215d6fbde07eb1bed2de8f887b819336692f6c10/expr.ipynb\"><img src=\"data:image/png;base64,iVBORw0KGgoAAAANSUhEUgAAADQAAAAVBAMAAAD7ptBLAAAAMFBMVEX////c3NwiIiJERESqqqqY\n",
       "mJh2dnZmZmYQEBDu7u4yMjJUVFTMzMyIiIi6uroAAAAs73DqAAAAAXRSTlMAQObYZgAAATJJREFU\n",
       "KM9jYMAD+C5gE2V9ACROA3H0/927rR7AhKPLK+MYaoCMlSBeMwMD+z+oDFcAw+QPDFwMDLwg83j+\n",
       "AvFvqNQ2BgaWBQysCQwcE4A83o9A079BZBj/AJVdYOBsYHgF4jI3MDAwdUKd9QUodYCBwYShDMTl\n",
       "38DAuHgCVNf/O2A6nWEpiDq/925RAMyB9/9/FgBSXgx9YJ4AA6c2TIoxuh9k9gsGsJMtQNJwbQxs\n",
       "X0EmQaRA7o5PgIgDVXBCpFpA3gIx9zuAZTgLgEZ+BBtoCvUW4y+gMAPYtwzsG4CMKKAbId46AQyw\n",
       "+QpAYV0GhssQxz8C8ux/794F8sQMoG5uvt2bwQ5ax8AhgBQVDxFMYECxJiBJIdzPwHYBGimYUrOA\n",
       "WBrB5UVStREULlgTAO8BBgBha0+0puEm8QAAAABJRU5ErkJggg==\n",
       "\" style=\"display:inline;vertical-align:middle;\" /></a></td></tr>\n",
       "<tr><td>6</td><td>Variable</td><td></td><td><a class=\"ProveItLink\" href=\"../../../../../__pv_it/2cbe72a7ad6f655694dd697106680215e8489b600/expr.ipynb\"><img src=\"data:image/png;base64,iVBORw0KGgoAAAANSUhEUgAAAA8AAAAOBAMAAAACpFvcAAAALVBMVEX///8QEBBERERUVFS6urqI\n",
       "iIhmZmaqqqrc3Nzu7u6YmJgyMjIiIiLMzMwAAADtIaYWAAAAAXRSTlMAQObYZgAAAFtJREFUCNdj\n",
       "YACBOwxQsA9Kc52bAGG05zVAGAFxDmCaZULdAjBjCsO9ADDDgaEvAUTzGhvbKYCVMDAwbgAxChgY\n",
       "eASANAeQwf0AyJgNxEwvGRia5HYwcOm9TgAA6BoR3jrzwFcAAAAASUVORK5CYII=\n",
       "\" style=\"display:inline;vertical-align:middle;\" /></a></td></tr>\n",
       "<tr><td>7</td><td>Variable</td><td></td><td><a class=\"ProveItLink\" href=\"../../../../../__pv_it/077b2ff79244fb4582cbe22c6e3356fa92a52f2f0/expr.ipynb\"><img src=\"data:image/png;base64,iVBORw0KGgoAAAANSUhEUgAAABAAAAAOBAMAAADUAYG5AAAAMFBMVEX///+qqqru7u4iIiJ2dnbc\n",
       "3NyIiIjMzMxmZmYQEBC6uroyMjJERERUVFSYmJgAAADLUcuvAAAAAXRSTlMAQObYZgAAAGpJREFU\n",
       "CNdjYGB4+//u3dMLGIBgDgMDxy8gzf4NiP8CGWxfGRj4vgAZPBMYGJgnARn8FxhY9ygAGfXX0pof\n",
       "gDTlBzAw2YIYJ0EckBBI53sHoBH/gIz7AhBjWH9DjancBLTl/N+7t/cxMAAA3u4f/5xagjYAAAAA\n",
       "SUVORK5CYII=\n",
       "\" style=\"display:inline;vertical-align:middle;\" /></a></td></tr>\n",
       "<tr><td>8</td><td>Variable</td><td></td><td><a class=\"ProveItLink\" href=\"../../../../../__pv_it/abeee18594afe51bfb1be95d9591fbba24ac53f30/expr.ipynb\"><img src=\"data:image/png;base64,iVBORw0KGgoAAAANSUhEUgAAAA0AAAAOBAMAAAAGUYvhAAAAMFBMVEX///8iIiIQEBCIiIjMzMzc\n",
       "3Nyqqqp2dnZEREQyMjK6urru7u5mZmZUVFSYmJgAAACI6eGPAAAAAXRSTlMAQObYZgAAAF1JREFU\n",
       "CNdjYGDgu3Nm3wIGBoZ5DNz9QIq3gIEhE0jHOzAwOAPp9QkMDC4g/megABAw///fCmbEXfq0Acxg\n",
       "qH8ANAVI7wfSe0BKAyBGnAXigwYMzA1A+sLau31ACgAz0hhbkhGHbwAAAABJRU5ErkJggg==\n",
       "\" style=\"display:inline;vertical-align:middle;\" /></a></td></tr>\n",
       "</table>\n"
      ],
      "text/plain": [
       "0. (A in S , B in S)\n",
       "   core type: ExprTuple\n",
       "   sub-expressions: 1, 2\n",
       "1. A in S\n",
       "   core type: Operation\n",
       "   operator: 4\n",
       "   operands: 3\n",
       "2. B in S\n",
       "   core type: Operation\n",
       "   operator: 4\n",
       "   operands: 5\n",
       "3. (A , S)\n",
       "   core type: ExprTuple\n",
       "   sub-expressions: 6, 8\n",
       "4. in\n",
       "   core type: Literal\n",
       "   sub-expressions: \n",
       "5. (B , S)\n",
       "   core type: ExprTuple\n",
       "   sub-expressions: 7, 8\n",
       "6. A\n",
       "   core type: Variable\n",
       "   sub-expressions: \n",
       "7. B\n",
       "   core type: Variable\n",
       "   sub-expressions: \n",
       "8. S\n",
       "   core type: Variable\n",
       "   sub-expressions: "
      ]
     },
     "execution_count": 4,
     "metadata": {},
     "output_type": "execute_result"
    }
   ],
   "source": [
    "# display the expression information\n",
    "expr.exprInfo()"
   ]
  },
  {
   "cell_type": "code",
   "execution_count": null,
   "metadata": {},
   "outputs": [],
   "source": []
  }
 ],
 "metadata": {
  "kernelspec": {
   "display_name": "Python 3",
   "language": "python",
   "name": "python3"
  }
 },
 "nbformat": 4,
 "nbformat_minor": 0
}
