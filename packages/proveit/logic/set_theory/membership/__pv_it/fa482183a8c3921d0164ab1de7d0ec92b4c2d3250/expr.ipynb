{
 "cells": [
  {
   "cell_type": "markdown",
   "metadata": {},
   "source": [
    "Expression of type <a class=\"ProveItLink\" href=\"../../../../../../../doc/html/api/proveit.ExprTuple.html\">ExprTuple</a>\n",
    "=======================\n",
    "# from context <a class=\"ProveItLink\" href=\"../../_context_.ipynb\">proveit.logic.set_theory.membership</a>"
   ]
  },
  {
   "cell_type": "code",
   "execution_count": 1,
   "metadata": {},
   "outputs": [],
   "source": [
    "# import Expression classes needed to build the expression\n",
    "from proveit import ExprTuple\n",
    "from proveit._common_ import D, S\n",
    "from proveit.logic import InSet"
   ]
  },
  {
   "cell_type": "code",
   "execution_count": 2,
   "metadata": {},
   "outputs": [
    {
     "data": {
      "text/html": [
       "<strong id=\"expr\">expr:</strong> <a class=\"ProveItLink\" href=\"expr.ipynb\"><img src=\"data:image/png;base64,iVBORw0KGgoAAAANSUhEUgAAAEUAAAAVBAMAAADiLT7tAAAAMFBMVEX////c3NwiIiJERESqqqqY\n",
       "mJh2dnZmZmYQEBDu7u4yMjJUVFTMzMyIiIi6uroAAAAs73DqAAAAAXRSTlMAQObYZgAAAV5JREFU\n",
       "KM9jYCAG8F3AKx0HIk4D8e3/u3cvPoAuzbq9fOoDdpDwShD3FwMDyxd0NUsZOO0ZGBYwMPCCrOL5\n",
       "BiTqJ6Aq4U5gYPBiYAhjYOAAyfD+AxLnIQ6bu0hJC8yQB9pyloFhBgPDKxCX+QNIbAOIybMUZtx7\n",
       "BwaGM0A5B4YyEJffAGQOWI0w3Eb5v2BfsBUAHQazJj4BxDSEu4f3/38Qh2UBQx+Iex+kY/8DIMFp\n",
       "gHC06I4fQEP5GhhArmWwBxEd4BBtUlKCuhkI8gOADvwAUfMZFGJfwU7eAA9BIJ4PUdMCkvgLJDjA\n",
       "tnAqwNRMBzlbAGyXKch1f4CEFcRDW2FqgMHHUA0ybwFDOjR4ThVApCY9gKopusDAawDx+yOgqfa/\n",
       "d2+ugUoxLofG7YbXu0F2MHA9YOAQQItJll0If4EAMC5YEwikr1xY2sANOIFpg0EavxpukFsY8afV\n",
       "OwwMAIVdWIKWCdUfAAAAAElFTkSuQmCC\n",
       "\" style=\"display:inline;vertical-align:middle;\" /></a><br>"
      ],
      "text/plain": [
       "expr: (D in S)"
      ]
     },
     "execution_count": 2,
     "metadata": {},
     "output_type": "execute_result"
    }
   ],
   "source": [
    "# build up the expression from sub-expressions\n",
    "expr = ExprTuple(InSet(D, S))"
   ]
  },
  {
   "cell_type": "code",
   "execution_count": 3,
   "metadata": {},
   "outputs": [
    {
     "name": "stdout",
     "output_type": "stream",
     "text": [
      "Passed sanity check: built 'expr' is the same as the stored Expression.\n"
     ]
    }
   ],
   "source": [
    "# check that the built expression is the same as the stored expression\n",
    "%check_expr"
   ]
  },
  {
   "cell_type": "code",
   "execution_count": 4,
   "metadata": {},
   "outputs": [
    {
     "data": {
      "text/html": [
       "<table><tr><th>&nbsp;</th><th>core type</th><th>sub-expressions</th><th>expression</th></tr>\n",
       "<tr><td>0</td><td>ExprTuple</td><td>1</td><td><a class=\"ProveItLink\" href=\"expr.ipynb\"><img src=\"data:image/png;base64,iVBORw0KGgoAAAANSUhEUgAAAEUAAAAVBAMAAADiLT7tAAAAMFBMVEX////c3NwiIiJERESqqqqY\n",
       "mJh2dnZmZmYQEBDu7u4yMjJUVFTMzMyIiIi6uroAAAAs73DqAAAAAXRSTlMAQObYZgAAAV5JREFU\n",
       "KM9jYCAG8F3AKx0HIk4D8e3/u3cvPoAuzbq9fOoDdpDwShD3FwMDyxd0NUsZOO0ZGBYwMPCCrOL5\n",
       "BiTqJ6Aq4U5gYPBiYAhjYOAAyfD+AxLnIQ6bu0hJC8yQB9pyloFhBgPDKxCX+QNIbAOIybMUZtx7\n",
       "BwaGM0A5B4YyEJffAGQOWI0w3Eb5v2BfsBUAHQazJj4BxDSEu4f3/38Qh2UBQx+Iex+kY/8DIMFp\n",
       "gHC06I4fQEP5GhhArmWwBxEd4BBtUlKCuhkI8gOADvwAUfMZFGJfwU7eAA9BIJ4PUdMCkvgLJDjA\n",
       "tnAqwNRMBzlbAGyXKch1f4CEFcRDW2FqgMHHUA0ybwFDOjR4ThVApCY9gKopusDAawDx+yOgqfa/\n",
       "d2+ugUoxLofG7YbXu0F2MHA9YOAQQItJll0If4EAMC5YEwikr1xY2sANOIFpg0EavxpukFsY8afV\n",
       "OwwMAIVdWIKWCdUfAAAAAElFTkSuQmCC\n",
       "\" style=\"display:inline;vertical-align:middle;\" /></a></td></tr>\n",
       "<tr><td>1</td><td>Operation</td><td>operator:&nbsp;2<br>operands:&nbsp;3<br></td><td><a class=\"ProveItLink\" href=\"../bef117ba3fe3b5f5778176d0b632b203570cc4470/expr.ipynb\"><img src=\"data:image/png;base64,iVBORw0KGgoAAAANSUhEUgAAADkAAAAPBAMAAACsFXoGAAAAMFBMVEX///8iIiIQEBCYmJjc3Ny6\n",
       "urru7u5mZmZ2dnaqqqrMzMxEREQyMjJUVFSIiIgAAABUCcz6AAAAAXRSTlMAQObYZgAAAO5JREFU\n",
       "GNNjYGB4+//u3dMLGNAA8/Xy5AAQ4w8DA+dPdNnDDGz7QTTXDyBRn4AqydvAwDAHxOD7CiTWPwAL\n",
       "5h0UlAEz/IFWrQMxuD+AeBfAxhyGGRE/gYFhFYjBvwGkFyzrDTff/x/UnWBD7RtAzC1we/n+/4dw\n",
       "3oNU3Qe5nm0DwlnOlz6BDQI7XAlEsCoKCkJdBQT9BiDyN8jvn8GOugAPCyDOB8ly/QMSTGAz2QRg\n",
       "sukghzmA7P8FJPZAHHsZJgsKiFqYd9cUQAQTA6CyhQ8Y+EDGpe//e/d2FVSQ5TjUlxdi725mwACc\n",
       "dxBuBgIAANVDQl26J+gAAAAASUVORK5CYII=\n",
       "\" style=\"display:inline;vertical-align:middle;\" /></a></td></tr>\n",
       "<tr><td>2</td><td>Literal</td><td></td><td><a class=\"ProveItLink\" href=\"../088cbc857536a28d4119ad9639a84270ccb0545d0/expr.ipynb\"><img src=\"data:image/png;base64,iVBORw0KGgoAAAANSUhEUgAAAAwAAAAMBAMAAACkW0HUAAAALVBMVEX///+qqqpmZmZUVFQQEBC6\n",
       "urpERETc3NyYmJjMzMwiIiIyMjKIiIju7u4AAACYsrA9AAAAAXRSTlMAQObYZgAAADxJREFUCNdj\n",
       "YOA9vWrVBgaG2b0MQMCeCyIZ2ArA1DUwyRCyahVIyWQI7xaEYm4AU7xLIdxqTQgtvGvVBgCkcQ7e\n",
       "geM/tQAAAABJRU5ErkJggg==\n",
       "\" style=\"display:inline;vertical-align:middle;\" /></a></td></tr>\n",
       "<tr><td>3</td><td>ExprTuple</td><td>4, 5</td><td><a class=\"ProveItLink\" href=\"../352d300839c45d8748b9cd412d28592d8364cf560/expr.ipynb\"><img src=\"data:image/png;base64,iVBORw0KGgoAAAANSUhEUgAAADUAAAAVBAMAAAAUZLt1AAAAMFBMVEX////c3NwiIiJERESqqqqY\n",
       "mJh2dnZmZmYQEBDu7u4yMjJUVFTMzMyIiIi6uroAAAAs73DqAAAAAXRSTlMAQObYZgAAATpJREFU\n",
       "KM9jYMAH+C5gFY4DEaeB+Pb/3bsXH4AJs24vn/qAHcRdCeL+YmBg+QKTW8rAac/AsICBgRdkJM83\n",
       "IFE/ASLFncDA4MXAEMbAwAES4f0HJM5DLZYHmnaWgWEGA8MrEJf5A0hsA0TuvQMDwxmgmANDGYjL\n",
       "bwDSB5WT/wt2FVsB0GKYcfEJEDne//8NgRTLAoY+EPc+SOX+B1B3iu74AXQEXwMDyBUM9iCiA+Hx\n",
       "/ACg2z9A5D6DfPwV6nMgng+RawF57y+Q4DCAyE0HOUcAbKYpyPY/QMIKaAfIr0BvM1SD9C9gSId6\n",
       "71QBAwPnJyCn6AIDrwHED4+Aptj/3r25Bsjl7AeateH1bpBZDFwPGDgEkOMLiQMMM9YEJDlWJHYu\n",
       "LI4w5TiBccQgjSSHlAS4QcYzYk8TdxgYAAcSUTbT14kgAAAAAElFTkSuQmCC\n",
       "\" style=\"display:inline;vertical-align:middle;\" /></a></td></tr>\n",
       "<tr><td>4</td><td>Variable</td><td></td><td><a class=\"ProveItLink\" href=\"../../../../../__pv_it/185e6d30f167ee2ee5ef3321098dc98e0d77bc590/expr.ipynb\"><img src=\"data:image/png;base64,iVBORw0KGgoAAAANSUhEUgAAABEAAAAOBAMAAAA7w+qHAAAALVBMVEX///8QEBCYmJjc3Ny6urru\n",
       "7u5mZmZ2dnaqqqrMzMxEREQyMjJUVFSIiIgAAABETr/8AAAAAXRSTlMAQObYZgAAAGpJREFUCNdj\n",
       "YGC48+7MmV0TGEDgNQMDxwsQg/M5kMgLABK8T4DEvAtAgusBkLA7ACT4FoDEDsAk9AqAxD2QCecc\n",
       "gMQ6kAGCIOIVEDM9Ahn3FkgwgnTxvgQSqwOgxs1OADLC1r05cyoTyAAAv4Qe+njAWvgAAAAASUVO\n",
       "RK5CYII=\n",
       "\" style=\"display:inline;vertical-align:middle;\" /></a></td></tr>\n",
       "<tr><td>5</td><td>Variable</td><td></td><td><a class=\"ProveItLink\" href=\"../../../../../__pv_it/abeee18594afe51bfb1be95d9591fbba24ac53f30/expr.ipynb\"><img src=\"data:image/png;base64,iVBORw0KGgoAAAANSUhEUgAAAA0AAAAOBAMAAAAGUYvhAAAAMFBMVEX///8iIiIQEBCIiIjMzMzc\n",
       "3Nyqqqp2dnZEREQyMjK6urru7u5mZmZUVFSYmJgAAACI6eGPAAAAAXRSTlMAQObYZgAAAF1JREFU\n",
       "CNdjYGDgu3Nm3wIGBoZ5DNz9QIq3gIEhE0jHOzAwOAPp9QkMDC4g/megABAw///fCmbEXfq0Acxg\n",
       "qH8ANAVI7wfSe0BKAyBGnAXigwYMzA1A+sLau31ACgAz0hhbkhGHbwAAAABJRU5ErkJggg==\n",
       "\" style=\"display:inline;vertical-align:middle;\" /></a></td></tr>\n",
       "</table>\n"
      ],
      "text/plain": [
       "0. (D in S)\n",
       "   core type: ExprTuple\n",
       "   sub-expressions: 1\n",
       "1. D in S\n",
       "   core type: Operation\n",
       "   operator: 2\n",
       "   operands: 3\n",
       "2. in\n",
       "   core type: Literal\n",
       "   sub-expressions: \n",
       "3. (D , S)\n",
       "   core type: ExprTuple\n",
       "   sub-expressions: 4, 5\n",
       "4. D\n",
       "   core type: Variable\n",
       "   sub-expressions: \n",
       "5. S\n",
       "   core type: Variable\n",
       "   sub-expressions: "
      ]
     },
     "execution_count": 4,
     "metadata": {},
     "output_type": "execute_result"
    }
   ],
   "source": [
    "# display the expression information\n",
    "expr.exprInfo()"
   ]
  },
  {
   "cell_type": "code",
   "execution_count": null,
   "metadata": {},
   "outputs": [],
   "source": []
  }
 ],
 "metadata": {
  "kernelspec": {
   "display_name": "Python 3",
   "language": "python",
   "name": "python3"
  }
 },
 "nbformat": 4,
 "nbformat_minor": 0
}
