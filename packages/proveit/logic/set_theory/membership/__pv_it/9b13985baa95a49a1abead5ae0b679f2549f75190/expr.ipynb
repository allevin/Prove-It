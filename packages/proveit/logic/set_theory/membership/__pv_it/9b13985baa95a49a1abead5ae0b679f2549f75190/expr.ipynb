{
 "cells": [
  {
   "cell_type": "markdown",
   "metadata": {},
   "source": [
    "Expression of type <a class=\"ProveItLink\" href=\"../../../../../../../doc/html/api/proveit.ExprTuple.html\">ExprTuple</a>\n",
    "=======================\n",
    "# from context <a class=\"ProveItLink\" href=\"../../_context_.ipynb\">proveit.logic.set_theory.membership</a>"
   ]
  },
  {
   "cell_type": "code",
   "execution_count": 1,
   "metadata": {},
   "outputs": [],
   "source": [
    "# import Expression classes needed to build the expression\n",
    "from proveit import ExprTuple\n",
    "from proveit._common_ import S, a, b, c, d, e, f, g, h, i\n",
    "from proveit.number import Exp, nine"
   ]
  },
  {
   "cell_type": "code",
   "execution_count": 2,
   "metadata": {},
   "outputs": [
    {
     "data": {
      "text/html": [
       "<strong id=\"expr\">expr:</strong> <a class=\"ProveItLink\" href=\"expr.ipynb\"><img src=\"data:image/png;base64,iVBORw0KGgoAAAANSUhEUgAAAOYAAAAcBAMAAACHTd73AAAAMFBMVEX///+qqqp2dnYiIiJERESI\n",
       "iIhmZmYQEBDc3NyYmJgyMjLu7u5UVFTMzMy6uroAAACGxKilAAAAAXRSTlMAQObYZgAAA5BJREFU\n",
       "SMfFln9IU1EUx79b823zbc9R/RsuYUJ/BBIk/hPYH0ZG0bBmEIqDMiwLJCmEQN8fJRTCVkQUiA2i\n",
       "KOqPRwRCCLPQfiFo/wf6R1EU5SSViTg79953995+2PrH9WDb5557zz3nnnPueQPK91TURFHupxV3\n",
       "JP4ql801JA0EGfnHy2TSn0ZVAJ8YvjTKZNNDNuOoCBO+Z+Mvm2BjJF/QjxgZbCDrPfnxHestssHn\n",
       "ywUidfJdnsSueQjKjG1q+Ez3yHZ0xIE2QGH1W5kT32fFvF4okLh2ruSLHlnYBCSsUWUcL1JaJKaD\n",
       "1ZF7jkSREtsD2mqBKPkj8HfHbln4GnAkDHwn3BLHLBNdKbE94KwrEFWXcmzUKp81yl/4IY4QK404\n",
       "wdYmSmxPwSlsIadKOebKxkGjAPhnttayDHtT+MBMs4s61PJVF9tPtsXF0uehdgFDLfOm/mCoS1ZF\n",
       "7xuTvJ27GoXm2chBs75qaUtn1k/Pers9GIdFhqH14aiZp0bqGPwS9+OBWEZzosocDRiUyksSziMm\n",
       "dk8+JhYn1lIsg1lDHeuLumwNa7zUWB3F4jht5snARZGPMJo50Nw5MRebwwVbjsQxV1l/4ZozmBCy\n",
       "jwqFWeuxEjo8IGvGk0E9/VSRzWlgrxDS9sscpqUGwR5Bb+9FpL+OlAnucczqMsPmOsNNt9+fsuda\n",
       "Xix1IWtzEarpeD00Mb8o19NcRtBykYKpDuCYoD3sENlg2WxS7tQV65ysAbgD8CyR46p5yRRe8x6Z\n",
       "MNvckq0qZe/q0HFAnCADZ49q9hXVFls1yrttNicsAa44O7EvsQMGf+W4gxzIMy8D29wlevNCbMui\n",
       "x+k+c1MVt8AdvMvXeTJOGrMaYiNWTIp0UUvzsLCifoJt0aD6m0avqPg40F3YzcGaOwm1C0ke1SQl\n",
       "hFPS8KU5+RJIzoh1jtR1sS0fKVQpx2V8yLN5ZpoUhiI/m+bUASqGsVY6NgMlFDE4WHPOTmqTozxM\n",
       "84ZJ2mRrHafKMJQaoYEmikIlecVHPm1qIp6tgwSqWG/oy15YfUOw0TfwI0uCKyopZ91orpbsaGH4\n",
       "gvZu7N0YbEQ+e8ebTcIckgFBeetCuVry1aDDX2d/l/2zTffTOpOUNKZQzKaaKGrzNn32szKTRRXG\n",
       "hmBRBduqVjfJ0UT555S3zqfn6pvPPvrcYHBtE/6btBeVellrdgTL+if3Kv++WVab3fgvzx9Y5wWR\n",
       "4MaMOQAAAABJRU5ErkJggg==\n",
       "\" style=\"display:inline;vertical-align:middle;\" /></a><br>"
      ],
      "text/plain": [
       "expr: ((a , b , c , d , e , f , g , h , i) , S^{9})"
      ]
     },
     "execution_count": 2,
     "metadata": {},
     "output_type": "execute_result"
    }
   ],
   "source": [
    "# build up the expression from sub-expressions\n",
    "expr = ExprTuple([a, b, c, d, e, f, g, h, i], Exp(S, nine))"
   ]
  },
  {
   "cell_type": "code",
   "execution_count": 3,
   "metadata": {},
   "outputs": [
    {
     "name": "stdout",
     "output_type": "stream",
     "text": [
      "Passed sanity check: built 'expr' is the same as the stored Expression.\n"
     ]
    }
   ],
   "source": [
    "# check that the built expression is the same as the stored expression\n",
    "%check_expr"
   ]
  },
  {
   "cell_type": "code",
   "execution_count": 4,
   "metadata": {},
   "outputs": [
    {
     "data": {
      "text/html": [
       "<table><tr><th>&nbsp;</th><th>core type</th><th>sub-expressions</th><th>expression</th></tr>\n",
       "<tr><td>0</td><td>ExprTuple</td><td>1, 2</td><td><a class=\"ProveItLink\" href=\"expr.ipynb\"><img src=\"data:image/png;base64,iVBORw0KGgoAAAANSUhEUgAAAOYAAAAcBAMAAACHTd73AAAAMFBMVEX///+qqqp2dnYiIiJERESI\n",
       "iIhmZmYQEBDc3NyYmJgyMjLu7u5UVFTMzMy6uroAAACGxKilAAAAAXRSTlMAQObYZgAAA5BJREFU\n",
       "SMfFln9IU1EUx79b823zbc9R/RsuYUJ/BBIk/hPYH0ZG0bBmEIqDMiwLJCmEQN8fJRTCVkQUiA2i\n",
       "KOqPRwRCCLPQfiFo/wf6R1EU5SSViTg79953995+2PrH9WDb5557zz3nnnPueQPK91TURFHupxV3\n",
       "JP4ql801JA0EGfnHy2TSn0ZVAJ8YvjTKZNNDNuOoCBO+Z+Mvm2BjJF/QjxgZbCDrPfnxHestssHn\n",
       "ywUidfJdnsSueQjKjG1q+Ez3yHZ0xIE2QGH1W5kT32fFvF4okLh2ruSLHlnYBCSsUWUcL1JaJKaD\n",
       "1ZF7jkSREtsD2mqBKPkj8HfHbln4GnAkDHwn3BLHLBNdKbE94KwrEFWXcmzUKp81yl/4IY4QK404\n",
       "wdYmSmxPwSlsIadKOebKxkGjAPhnttayDHtT+MBMs4s61PJVF9tPtsXF0uehdgFDLfOm/mCoS1ZF\n",
       "7xuTvJ27GoXm2chBs75qaUtn1k/Pers9GIdFhqH14aiZp0bqGPwS9+OBWEZzosocDRiUyksSziMm\n",
       "dk8+JhYn1lIsg1lDHeuLumwNa7zUWB3F4jht5snARZGPMJo50Nw5MRebwwVbjsQxV1l/4ZozmBCy\n",
       "jwqFWeuxEjo8IGvGk0E9/VSRzWlgrxDS9sscpqUGwR5Bb+9FpL+OlAnucczqMsPmOsNNt9+fsuda\n",
       "Xix1IWtzEarpeD00Mb8o19NcRtBykYKpDuCYoD3sENlg2WxS7tQV65ysAbgD8CyR46p5yRRe8x6Z\n",
       "MNvckq0qZe/q0HFAnCADZ49q9hXVFls1yrttNicsAa44O7EvsQMGf+W4gxzIMy8D29wlevNCbMui\n",
       "x+k+c1MVt8AdvMvXeTJOGrMaYiNWTIp0UUvzsLCifoJt0aD6m0avqPg40F3YzcGaOwm1C0ke1SQl\n",
       "hFPS8KU5+RJIzoh1jtR1sS0fKVQpx2V8yLN5ZpoUhiI/m+bUASqGsVY6NgMlFDE4WHPOTmqTozxM\n",
       "84ZJ2mRrHafKMJQaoYEmikIlecVHPm1qIp6tgwSqWG/oy15YfUOw0TfwI0uCKyopZ91orpbsaGH4\n",
       "gvZu7N0YbEQ+e8ebTcIckgFBeetCuVry1aDDX2d/l/2zTffTOpOUNKZQzKaaKGrzNn32szKTRRXG\n",
       "hmBRBduqVjfJ0UT555S3zqfn6pvPPvrcYHBtE/6btBeVellrdgTL+if3Kv++WVab3fgvzx9Y5wWR\n",
       "4MaMOQAAAABJRU5ErkJggg==\n",
       "\" style=\"display:inline;vertical-align:middle;\" /></a></td></tr>\n",
       "<tr><td>1</td><td>ExprTuple</td><td>3, 4, 5, 6, 7, 8, 9, 10, 11</td><td><a class=\"ProveItLink\" href=\"../e27e91b49cf5f485102688c4e463ededaa59b2e60/expr.ipynb\"><img src=\"data:image/png;base64,iVBORw0KGgoAAAANSUhEUgAAALAAAAAVBAMAAAAUSHkwAAAAMFBMVEX////c3NwiIiJERESqqqqY\n",
       "mJh2dnZmZmYQEBDu7u4yMjJUVFTMzMyIiIi6uroAAAAs73DqAAAAAXRSTlMAQObYZgAAAodJREFU\n",
       "OMu1VT9oE1EY/6WXa/KSXu52h3RzcMngP3AJurkkICgopcHB6iKx0ExCFbSDUg0iKjo0i4iIEgeh\n",
       "FIoHLoKDJ4IiciU6iQ5JNSKREvze++71zvxpHOzBe/fL933v9/19F2Dbnoz3/znNBm2vIgKxPDnA\n",
       "8/5yn+zeR+dvQfSkUcN5ej2M6lP1Af7tfJ9ob6HYI0mF3g0PKcDyRnAAzWqvRHRvbu3dLCFZ3ZqD\n",
       "npN9knhrhHdxAV9HcNDzoE+SmBzlfTcqtMdWz17k34/8Z4HLU76rAOnaLIpV3gcdM5d36Yoee3ck\n",
       "8D71NtDekpQzuE/7F8fg3MQP2Mz3spHiqEjX4QMHnZims3VjEvXYLz7520kEjS81aTuMaxTKTyRy\n",
       "XLsOkiVltwhD9V3qahxwFwk34MtqMF0F5xPfQJo5JvKzMh50gXQLYxwCcdgqqrTujtSVGF2eeqMr\n",
       "WNDgKibWddUDO4FF2l9LYjuHJQ5hrIymCtTO6aRJ12BU7u9UvA2LK0as2QZ02pL4EiXmUQjVYBjn\n",
       "FcjqIkZ0kYE/ELytdRjsj7yfZju6ZFVZij0kzGMl7gp52MUCFKC4ixKEuiQRe8FZmaxEZkvGItE0\n",
       "sGA6QsXSoJocp7lAqhjfOY4lyimdp9YqUMa4K0Gos2q47YjvfPFoSSQ6eM6yFYgNtkMhVpTj9lmO\n",
       "6tqLNdyhLojVOSiAiv9BgVCHGd+DuC6HNUNVZPTNn2X0mI6cYTvDp+0JkpufqU/DQYgy0tyqaQTs\n",
       "20RRO7rSZkkLi8NBiExaJ9SIS5SBaDPqsRv3Ip/Nfya+ckOjeSddH0h8l9YOPToYCiJIztzRcxod\n",
       "8ucC1GP3VF7Vbfhrslz8ASLjvmDNI9HRAAAAAElFTkSuQmCC\n",
       "\" style=\"display:inline;vertical-align:middle;\" /></a></td></tr>\n",
       "<tr><td>2</td><td>Operation</td><td>operator:&nbsp;12<br>operands:&nbsp;13<br></td><td><a class=\"ProveItLink\" href=\"../5af7f9e9de2b37bdbc1ce0d18a0f67fa7ed7450a0/expr.ipynb\"><img src=\"data:image/png;base64,iVBORw0KGgoAAAANSUhEUgAAABUAAAAUBAMAAACQZWsAAAAAMFBMVEX///8iIiIQEBCIiIjMzMzc\n",
       "3Nyqqqp2dnZEREQyMjK6urru7u5mZmZUVFSYmJgAAACI6eGPAAAAAXRSTlMAQObYZgAAAJZJREFU\n",
       "CNdjYIAA5vIDDDBgw/AGzv7CsH8DlMnylYE/AcpmBbIfwNRoMcQbACm+O2f2LchgsAeJz2Pg7mfg\n",
       "Mo4PYGDgLWBgyGTYwLASKBzvwMDgzDCZoQXIXg80y4UhvcYBJP7ZAW4j8///rXBO3KVPG+Achnqo\n",
       "lXxAvB/K3gPSHgBhZwLxWajagwYMzA1Q9oW1d/ugTAAfRicwo6eftQAAAABJRU5ErkJggg==\n",
       "\" style=\"display:inline;vertical-align:middle;\" /></a></td></tr>\n",
       "<tr><td>3</td><td>Variable</td><td></td><td><a class=\"ProveItLink\" href=\"../../../../../__pv_it/07527342713064c87612d00d8557c53d53d5324a0/expr.ipynb\"><img src=\"data:image/png;base64,iVBORw0KGgoAAAANSUhEUgAAAAsAAAAJBAMAAAAWSsseAAAAMFBMVEX///8yMjKqqqrMzMzu7u4i\n",
       "IiJmZmaYmJhEREQQEBC6urp2dnaIiIhUVFTc3NwAAAD87Fq/AAAAAXRSTlMAQObYZgAAAEhJREFU\n",
       "CNdjYOC7s2seAwPDygccHxgY+L4zsDUwMPB+YGA9wMDA38Dgb8DA8P4Agz6DA4O/AsNFJgMGxgKm\n",
       "MG6gyjunLE4xAAAZTBA5TB6DCwAAAABJRU5ErkJggg==\n",
       "\" style=\"display:inline;vertical-align:middle;\" /></a></td></tr>\n",
       "<tr><td>4</td><td>Variable</td><td></td><td><a class=\"ProveItLink\" href=\"../../../../../__pv_it/6840a4fa6c106149dc16a131294d0c5e44f1b0480/expr.ipynb\"><img src=\"data:image/png;base64,iVBORw0KGgoAAAANSUhEUgAAAAkAAAAOBAMAAAAPuiubAAAALVBMVEX///9mZmbMzMxERESYmJiI\n",
       "iIh2dna6urqqqqoyMjIiIiIQEBBUVFTu7u4AAAD9S1JeAAAAAXRSTlMAQObYZgAAAE1JREFUCNdj\n",
       "4D29gAEIOA+ASL4GEFl3AURmgQiGOaFHGBh4HzPwKTBwvGXgTmBgnMDAJ8DAJcBQ5wBSLncBJLWN\n",
       "gYGngRFoBO9REQYGAGrcDtUkVqASAAAAAElFTkSuQmCC\n",
       "\" style=\"display:inline;vertical-align:middle;\" /></a></td></tr>\n",
       "<tr><td>5</td><td>Variable</td><td></td><td><a class=\"ProveItLink\" href=\"../../../../../__pv_it/cbdfda466482236edba0ce44ac7ef39cda0af7a40/expr.ipynb\"><img src=\"data:image/png;base64,iVBORw0KGgoAAAANSUhEUgAAAAkAAAAJBAMAAAASvxsjAAAALVBMVEX///9mZmbc3NxUVFSYmJhE\n",
       "REQiIiIyMjK6uroQEBDMzMyIiIh2dnbu7u4AAABgFDGoAAAAAXRSTlMAQObYZgAAADZJREFUCNdj\n",
       "YOA9s3sBA8PKBvYEBt7ZDKwODMwPGICALwBE6m0Asx0YGIDiAgw8QJUyu/cyAAAmuwmycZ8WfQAA\n",
       "AABJRU5ErkJggg==\n",
       "\" style=\"display:inline;vertical-align:middle;\" /></a></td></tr>\n",
       "<tr><td>6</td><td>Variable</td><td></td><td><a class=\"ProveItLink\" href=\"../../../../../__pv_it/3a5de44ed6135dbbdbbeec6704c741e238f127300/expr.ipynb\"><img src=\"data:image/png;base64,iVBORw0KGgoAAAANSUhEUgAAAAsAAAAOBAMAAAALT/umAAAAMFBMVEX////MzMyYmJiIiIhUVFTc\n",
       "3NwyMjIiIiJ2dnbu7u6qqqpmZmYQEBBERES6uroAAABkyy6XAAAAAXRSTlMAQObYZgAAAFhJREFU\n",
       "CNdjYGBg4LuzgQEE+BeAqfcTwFQ7mGTIBmJW575fQOpNAO9PIOcTA3cCAwPLBwb2BqCeCwzzHzAw\n",
       "xBswrGeYwDB/AYMblwADmwJXNQdIm52sHQMAfyoTCZukXIEAAAAASUVORK5CYII=\n",
       "\" style=\"display:inline;vertical-align:middle;\" /></a></td></tr>\n",
       "<tr><td>7</td><td>Variable</td><td></td><td><a class=\"ProveItLink\" href=\"../../../../../__pv_it/0bc0f4a545336331111a0b22c4f05a0627b57b8f0/expr.ipynb\"><img src=\"data:image/png;base64,iVBORw0KGgoAAAANSUhEUgAAAAkAAAAJBAMAAAASvxsjAAAALVBMVEX////u7u4yMjKYmJgQEBBU\n",
       "VFTMzMy6uroiIiKqqqqIiIh2dnZmZmbc3NwAAAAyj3LLAAAAAXRSTlMAQObYZgAAADlJREFUCNdj\n",
       "YOA9veYCA8OMC7wHGHifM/AkMLA6W61lYOA7wAAEfAtAJAuQXMDApcAgA1S5Z9UCBgB6Cgz1W65k\n",
       "FgAAAABJRU5ErkJggg==\n",
       "\" style=\"display:inline;vertical-align:middle;\" /></a></td></tr>\n",
       "<tr><td>8</td><td>Variable</td><td></td><td><a class=\"ProveItLink\" href=\"../../../../../__pv_it/4d51ee1e62d011d06d4528b97697bf3da60c9de60/expr.ipynb\"><img src=\"data:image/png;base64,iVBORw0KGgoAAAANSUhEUgAAAAsAAAASBAMAAAB/WzlGAAAAMFBMVEX///8yMjLMzMwQEBAiIiJm\n",
       "Zma6urqYmJiqqqp2dnZERETc3NyIiIhUVFTu7u4AAAAe+HC4AAAAAXRSTlMAQObYZgAAAFVJREFU\n",
       "CNdjYGBgeHt2A5BkWNlfACT5vr0AcTg+gEgGVgcQyX7ZNwBE8x8AC+5XAFP9YJJhCoRaC6FswCTf\n",
       "NzDF9g9M8QiAyFoukPEMhk/AYpXRIBIAEwsRcZ82juYAAAAASUVORK5CYII=\n",
       "\" style=\"display:inline;vertical-align:middle;\" /></a></td></tr>\n",
       "<tr><td>9</td><td>Variable</td><td></td><td><a class=\"ProveItLink\" href=\"../../../../../__pv_it/b5004dd09038f1a7d88dab9010b943185ce1d3ea0/expr.ipynb\"><img src=\"data:image/png;base64,iVBORw0KGgoAAAANSUhEUgAAAAoAAAANBAMAAABiGeI2AAAALVBMVEX///+6uroiIiLMzMwQEBCq\n",
       "qqru7u7c3NxUVFRERER2dnaIiIhmZmaYmJgAAABs7E5IAAAAAXRSTlMAQObYZgAAAFRJREFUCNdj\n",
       "YGC4s+smAwNPA/sbBoZ7CQxPGRg8GJifM7A+ZeBWYOB+zsB5gIH3AQNfAAPbM4a+AgYGid2HGEBg\n",
       "DgMDIwMbUPm5Ao4GBobI3WcZGAA0kxQNEIuRVgAAAABJRU5ErkJggg==\n",
       "\" style=\"display:inline;vertical-align:middle;\" /></a></td></tr>\n",
       "<tr><td>10</td><td>Variable</td><td></td><td><a class=\"ProveItLink\" href=\"../../../../../__pv_it/3b5a3cc74431604b3beba568cf7dfeb60b1886650/expr.ipynb\"><img src=\"data:image/png;base64,iVBORw0KGgoAAAANSUhEUgAAAAsAAAAOBAMAAAALT/umAAAAMFBMVEX////MzMzc3NxERESIiIiY\n",
       "mJh2dna6urqqqqpmZmYyMjIiIiIQEBBUVFTu7u4AAAAdUKnwAAAAAXRSTlMAQObYZgAAAFlJREFU\n",
       "CNdj4LuzgQEEuCaAKf4GMFX/AExlg0mGlSHOCgwMfL8UOC8wMHB8ZOA1YGDg3MDAncAAwvoFDAzv\n",
       "CxhyGB4wxDMwHGNVYLjFwPeRjYFhCQPDtDwGADR5Es9USdyIAAAAAElFTkSuQmCC\n",
       "\" style=\"display:inline;vertical-align:middle;\" /></a></td></tr>\n",
       "<tr><td>11</td><td>Variable</td><td></td><td><a class=\"ProveItLink\" href=\"../../../../../__pv_it/4cc43b4ba7e5ae9f0f864f240ab9735c1604d8200/expr.ipynb\"><img src=\"data:image/png;base64,iVBORw0KGgoAAAANSUhEUgAAAAcAAAAOBAMAAAARcxsoAAAAMFBMVEX///+YmJjc3NxUVFQQEBAi\n",
       "IiKqqqrMzMy6urpmZmZ2dnbu7u6IiIgyMjJEREQAAADwIkbYAAAAAXRSTlMAQObYZgAAADtJREFU\n",
       "CNdjYGB4ywAEbxjQAffKBQwMXBwfGBjKOAMYGDawHAAK5m8AEpe5GRiYfnAxMLB9UARpPcAAAFud\n",
       "DDeiFOVzAAAAAElFTkSuQmCC\n",
       "\" style=\"display:inline;vertical-align:middle;\" /></a></td></tr>\n",
       "<tr><td>12</td><td>Literal</td><td></td><td><a class=\"ProveItLink\" href=\"../../../../../number/exponentiation/__pv_it/deb2bf23cbccdd6e6791e1b35b5b9794ce12dbd50/expr.ipynb\"><img src=\"data:image/png;base64,iVBORw0KGgoAAAANSUhEUgAAACgAAAASBAMAAADbMYGVAAAAMFBMVEX///8QEBAiIiKYmJjc3Nzu\n",
       "7u7MzMx2dnZmZma6urpERESqqqoyMjJUVFSIiIgAAAAoDOMTAAAAAXRSTlMAQObYZgAAAOBJREFU\n",
       "GNNjYGB4+//u3Tt/GNAASGAXmhjnPyDBgSbI/g1IxKEJ8nxgYGdgQRPkX8BgDKRY6q7s62OYvmze\n",
       "2wAgb/7ZO1+AVDiDkYEQQ0HTBr4DQF59AgOIKmB4z7CNbcNZBu6vQN55kEACQwDDLQYGVobfDHwg\n",
       "fb8YGBxYHwAZciD3fWXg+gB1JjvQcJZvQIXsCgz8F6DO9GBgMOH7wPCUgaeBwd4B7EwGNjUG7s9c\n",
       "AiwPgO5jkWRgiF3/9+5dfQUG1nWl5Y+B7pv+1gE9bBhqGLCAE1jEWH9jEbT5A3IwAC4sP/1L6Qlu\n",
       "AAAAAElFTkSuQmCC\n",
       "\" style=\"display:inline;vertical-align:middle;\" /></a></td></tr>\n",
       "<tr><td>13</td><td>ExprTuple</td><td>14, 15</td><td><a class=\"ProveItLink\" href=\"../9135a0820a14db53d329ad8d11305279b8e27daa0/expr.ipynb\"><img src=\"data:image/png;base64,iVBORw0KGgoAAAANSUhEUgAAAC0AAAAVBAMAAAAgHXppAAAAMFBMVEX////c3NwiIiJERESqqqqY\n",
       "mJh2dnZmZmYQEBDu7u4yMjJUVFTMzMyIiIi6uroAAAAs73DqAAAAAXRSTlMAQObYZgAAAStJREFU\n",
       "GNN1kbFLw1AQxn/BpjatKV0EwaH+CQoKbs3slMlN6eYgojhYwUEFZ8kiFpdmcdBJcKjgkr0KwbmQ\n",
       "6qiDiosIWu9em4AUD97xfR9337t3D/6LcjwirWrqaLLbjZOeAqe9HjEeCbpQeo5TM6VTnnUIIbhq\n",
       "U6rDktEX4RqWoRAIq0rjvdG/YDOgCc/KXj24M/YfkPQY89hRWv2OhqNovU9+S26UcPv9uYG+C7WY\n",
       "XMixoZM3n4EBZ35uP6Z8wM/QQLpNrHQTj4k3o9tyWn76WplH9CNBp3p1JdUvUZ8FBk/aw1ExqVji\n",
       "YIesCdmOcWdpzQh8CIqyAJnzScjVy620Nd8F5hvzkos9CpkvjxmSPdj1jGUTsZHu+a/uyJ6ZTpmb\n",
       "FZTU2xr9xy78Aht1SHtTsHuaAAAAAElFTkSuQmCC\n",
       "\" style=\"display:inline;vertical-align:middle;\" /></a></td></tr>\n",
       "<tr><td>14</td><td>Variable</td><td></td><td><a class=\"ProveItLink\" href=\"../../../../../__pv_it/abeee18594afe51bfb1be95d9591fbba24ac53f30/expr.ipynb\"><img src=\"data:image/png;base64,iVBORw0KGgoAAAANSUhEUgAAAA0AAAAOBAMAAAAGUYvhAAAAMFBMVEX///8iIiIQEBCIiIjMzMzc\n",
       "3Nyqqqp2dnZEREQyMjK6urru7u5mZmZUVFSYmJgAAACI6eGPAAAAAXRSTlMAQObYZgAAAF1JREFU\n",
       "CNdjYGDgu3Nm3wIGBoZ5DNz9QIq3gIEhE0jHOzAwOAPp9QkMDC4g/megABAw///fCmbEXfq0Acxg\n",
       "qH8ANAVI7wfSe0BKAyBGnAXigwYMzA1A+sLau31ACgAz0hhbkhGHbwAAAABJRU5ErkJggg==\n",
       "\" style=\"display:inline;vertical-align:middle;\" /></a></td></tr>\n",
       "<tr><td>15</td><td>Literal</td><td></td><td><a class=\"ProveItLink\" href=\"../../../../../number/numeral/__pv_it/cdcd6ad997b4d5c13a719b005810863ba48ff0c70/expr.ipynb\"><img src=\"data:image/png;base64,iVBORw0KGgoAAAANSUhEUgAAAAoAAAAOBAMAAADkjZCYAAAAMFBMVEX///8iIiKYmJi6urqIiIgy\n",
       "MjJERESqqqoQEBDc3NzMzMx2dnZmZmZUVFTu7u4AAABn2L4sAAAAAXRSTlMAQObYZgAAAFVJREFU\n",
       "CNdjYHh7+hYDA2c7w4wJDGwNDLwJDPwBDNz/GN4nMLB8BrM/MfA0MLB9YeALYqj5wsDA5LLkOwMQ\n",
       "ANUAAWsAA8tPhvkGDCxyDCFA/p5jBQwAtzwVEbGPESsAAAAASUVORK5CYII=\n",
       "\" style=\"display:inline;vertical-align:middle;\" /></a></td></tr>\n",
       "</table>\n"
      ],
      "text/plain": [
       "0. ((a , b , c , d , e , f , g , h , i) , S^{9})\n",
       "   core type: ExprTuple\n",
       "   sub-expressions: 1, 2\n",
       "1. (a , b , c , d , e , f , g , h , i)\n",
       "   core type: ExprTuple\n",
       "   sub-expressions: 3, 4, 5, 6, 7, 8, 9, 10, 11\n",
       "2. S^{9}\n",
       "   core type: Operation\n",
       "   operator: 12\n",
       "   operands: 13\n",
       "3. a\n",
       "   core type: Variable\n",
       "   sub-expressions: \n",
       "4. b\n",
       "   core type: Variable\n",
       "   sub-expressions: \n",
       "5. c\n",
       "   core type: Variable\n",
       "   sub-expressions: \n",
       "6. d\n",
       "   core type: Variable\n",
       "   sub-expressions: \n",
       "7. e\n",
       "   core type: Variable\n",
       "   sub-expressions: \n",
       "8. f\n",
       "   core type: Variable\n",
       "   sub-expressions: \n",
       "9. g\n",
       "   core type: Variable\n",
       "   sub-expressions: \n",
       "10. h\n",
       "    core type: Variable\n",
       "    sub-expressions: \n",
       "11. i\n",
       "    core type: Variable\n",
       "    sub-expressions: \n",
       "12. Exp\n",
       "    core type: Literal\n",
       "    sub-expressions: \n",
       "13. (S , 9)\n",
       "    core type: ExprTuple\n",
       "    sub-expressions: 14, 15\n",
       "14. S\n",
       "    core type: Variable\n",
       "    sub-expressions: \n",
       "15. 9\n",
       "    core type: Literal\n",
       "    sub-expressions: "
      ]
     },
     "execution_count": 4,
     "metadata": {},
     "output_type": "execute_result"
    }
   ],
   "source": [
    "# display the expression information\n",
    "expr.exprInfo()"
   ]
  },
  {
   "cell_type": "code",
   "execution_count": null,
   "metadata": {},
   "outputs": [],
   "source": []
  }
 ],
 "metadata": {
  "kernelspec": {
   "display_name": "Python 3",
   "language": "python",
   "name": "python3"
  }
 },
 "nbformat": 4,
 "nbformat_minor": 0
}
