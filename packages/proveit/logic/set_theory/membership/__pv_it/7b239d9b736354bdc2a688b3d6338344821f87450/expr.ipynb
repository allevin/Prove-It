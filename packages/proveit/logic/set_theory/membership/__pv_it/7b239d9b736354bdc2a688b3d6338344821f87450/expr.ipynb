{
 "cells": [
  {
   "cell_type": "markdown",
   "metadata": {},
   "source": [
    "Expression of type <a class=\"ProveItLink\" href=\"../../../../../../../doc/html/api/proveit.logic.Set.html\">Set</a>\n",
    "=======================\n",
    "# from context <a class=\"ProveItLink\" href=\"../../_context_.ipynb\">proveit.logic.set_theory.membership</a>"
   ]
  },
  {
   "cell_type": "code",
   "execution_count": 1,
   "metadata": {},
   "outputs": [],
   "source": [
    "# import Expression classes needed to build the expression\n",
    "from proveit._common_ import C, S\n",
    "from proveit.logic import InSet, Set"
   ]
  },
  {
   "cell_type": "code",
   "execution_count": 2,
   "metadata": {},
   "outputs": [
    {
     "data": {
      "text/html": [
       "<strong id=\"expr\">expr:</strong> <a class=\"ProveItLink\" href=\"expr.ipynb\"><img src=\"data:image/png;base64,iVBORw0KGgoAAAANSUhEUgAAAEoAAAAVBAMAAAATJmVgAAAAMFBMVEX////c3NxERESqqqpUVFS6\n",
       "urrMzMwyMjIQEBCIiIh2dnYiIiLu7u5mZmaYmJgAAABXZE4RAAAAAXRSTlMAQObYZgAAAURJREFU\n",
       "KM9jYGDgu8eAD2QtBJE8uxjwgwwDIMH5Aax2ku89xgto8ny+d88FMPAWAJlcDSCBFQ8YWG88QFNV\n",
       "x8CjD1UAJo7vARLrBVAVsSxgYDBHVlVxAEhEgOV4pu/eXQBmyScwMGQiqeL9DBKVBculv4GZFQ90\n",
       "dhqSKnmw5mMgglEHbqP8zwQGmGUgL9xHuJsJ4TjO//8VQT4FBUJGAAPDfoTUISTny3n8ALm3loEh\n",
       "pQ1I/wcLgkQYInbvhrke5G2QJUx1QGGg5f0gEWawK1IQYQrE50GqQJHDAtToDzKGFyx3Gq7qLMgD\n",
       "AlB3cW1gYMifAGSsgQQl3CPAAGW4woAUEnzA8IqF+IBnK0zV7QkMnArIqhhSSu4aQCXFr0EZDiEu\n",
       "egwoqpCBSTXCj7hVoQOwAj5CqsDpi2cnobQaAA69xQTTPQCyHFQgpjlTXwAAAABJRU5ErkJggg==\n",
       "\" style=\"display:inline;vertical-align:middle;\" /></a><br>"
      ],
      "text/plain": [
       "expr: {C in S}"
      ]
     },
     "execution_count": 2,
     "metadata": {},
     "output_type": "execute_result"
    }
   ],
   "source": [
    "# build up the expression from sub-expressions\n",
    "expr = Set(InSet(C, S))"
   ]
  },
  {
   "cell_type": "code",
   "execution_count": 3,
   "metadata": {},
   "outputs": [
    {
     "name": "stdout",
     "output_type": "stream",
     "text": [
      "Passed sanity check: built 'expr' is the same as the stored Expression.\n"
     ]
    }
   ],
   "source": [
    "# check that the built expression is the same as the stored expression\n",
    "%check_expr"
   ]
  },
  {
   "cell_type": "code",
   "execution_count": 4,
   "metadata": {},
   "outputs": [
    {
     "data": {
      "text/html": [
       "<table><tr><th>&nbsp;</th><th>core type</th><th>sub-expressions</th><th>expression</th></tr>\n",
       "<tr><td>0</td><td>Operation</td><td>operator:&nbsp;1<br>operands:&nbsp;2<br></td><td><a class=\"ProveItLink\" href=\"expr.ipynb\"><img src=\"data:image/png;base64,iVBORw0KGgoAAAANSUhEUgAAAEoAAAAVBAMAAAATJmVgAAAAMFBMVEX////c3NxERESqqqpUVFS6\n",
       "urrMzMwyMjIQEBCIiIh2dnYiIiLu7u5mZmaYmJgAAABXZE4RAAAAAXRSTlMAQObYZgAAAURJREFU\n",
       "KM9jYGDgu8eAD2QtBJE8uxjwgwwDIMH5Aax2ku89xgto8ny+d88FMPAWAJlcDSCBFQ8YWG88QFNV\n",
       "x8CjD1UAJo7vARLrBVAVsSxgYDBHVlVxAEhEgOV4pu/eXQBmyScwMGQiqeL9DBKVBculv4GZFQ90\n",
       "dhqSKnmw5mMgglEHbqP8zwQGmGUgL9xHuJsJ4TjO//8VQT4FBUJGAAPDfoTUISTny3n8ALm3loEh\n",
       "pQ1I/wcLgkQYInbvhrke5G2QJUx1QGGg5f0gEWawK1IQYQrE50GqQJHDAtToDzKGFyx3Gq7qLMgD\n",
       "AlB3cW1gYMifAGSsgQQl3CPAAGW4woAUEnzA8IqF+IBnK0zV7QkMnArIqhhSSu4aQCXFr0EZDiEu\n",
       "egwoqpCBSTXCj7hVoQOwAj5CqsDpi2cnobQaAA69xQTTPQCyHFQgpjlTXwAAAABJRU5ErkJggg==\n",
       "\" style=\"display:inline;vertical-align:middle;\" /></a></td></tr>\n",
       "<tr><td>1</td><td>Literal</td><td></td><td><a class=\"ProveItLink\" href=\"../../../enumeration/__pv_it/07381ed5b23806e8d7914b78cb6667769e3708dd0/expr.ipynb\"><img src=\"data:image/png;base64,iVBORw0KGgoAAAANSUhEUgAAAB4AAAAOBAMAAADKyLEKAAAAMFBMVEX///8iIiIQEBCIiIjMzMzc\n",
       "3Nyqqqp2dnZEREQyMjK6urru7u5mZmZUVFSYmJgAAACI6eGPAAAAAXRSTlMAQObYZgAAALRJREFU\n",
       "CNdjYGDgu3Nm3wIGBJjHwN0PZW5yYGDgLWBgyITy8zcwMMQDxZyh/INAvD6BgcEFypcB4vjPDiBm\n",
       "TPFRrhs/LjMwMP//38rAwCbKEMPA9gEkE3fp0waG+AUMRxh4JkC01T9guPTOOICBEWgVH5C//wHD\n",
       "H5D4fqCz9oCMDGD4DLaegRXslLMMDMpAgxlOMmQxHDRgYG5gYLBk4D7KcIe7gOHC2rt9QCXsh40Z\n",
       "GCKMGQDRkC8N/Ph1XAAAAABJRU5ErkJggg==\n",
       "\" style=\"display:inline;vertical-align:middle;\" /></a></td></tr>\n",
       "<tr><td>2</td><td>ExprTuple</td><td>3</td><td><a class=\"ProveItLink\" href=\"../49732af09e9eb641b0c77e559538aee38a91e3760/expr.ipynb\"><img src=\"data:image/png;base64,iVBORw0KGgoAAAANSUhEUgAAAEQAAAAVBAMAAAAN71XTAAAAMFBMVEX////c3NwiIiJERESqqqqY\n",
       "mJh2dnZmZmYQEBDu7u4yMjJUVFTMzMyIiIi6uroAAAAs73DqAAAAAXRSTlMAQObYZgAAAVZJREFU\n",
       "KM9jYCAC8F3AJ8v6AEicBrHmWpcHiKNLR5dXxjHUABkrgZitlYHheSuaCq4AhskfGLgYGHiB9nAu\n",
       "mgBU9hFNyTYGBpYFDKwJDBxAWa5OkJsawBJzFylpgRmMfxgYeC4wcDYwvALy6h1AQgUgCZ6lE2De\n",
       "+ALkHWBgMGEoA0r+AglxHgCRwjAVDIz/74DpdIalDAzsXxEOMEQw7///LACkvBj6GBiYEA7lNEAo\n",
       "YYzuB7nxBcM/Bgb+D2BZsAOalJSgzgWFBcj48yAlHGAlPmDXboAbEgDUBVHSwsDA/RMkBPYQpwLc\n",
       "SiCf8SPYIlOg1r8gQyFe2QpTAgw1BnaQmVFAPzEwxDsw8BVCZCY9gCph12VguAzx9COQC3ZtL4F5\n",
       "Y/kBCIObb/fmABBjHQOHAGrMsOxC+AjspgZQNOEFbBcgiQEPmAXE0viVbAQ5EG/C5D3AAACZHk1q\n",
       "ME2UvAAAAABJRU5ErkJggg==\n",
       "\" style=\"display:inline;vertical-align:middle;\" /></a></td></tr>\n",
       "<tr><td>3</td><td>Operation</td><td>operator:&nbsp;4<br>operands:&nbsp;5<br></td><td><a class=\"ProveItLink\" href=\"../d406481566d23759c82edad3176cd04052d74d9c0/expr.ipynb\"><img src=\"data:image/png;base64,iVBORw0KGgoAAAANSUhEUgAAADcAAAAPBAMAAACy3Eq1AAAAMFBMVEX////MzMyqqqoiIiIyMjK6\n",
       "uroQEBB2dnbc3NyYmJhmZmZUVFRERESIiIju7u4AAAB204erAAAAAXRSTlMAQObYZgAAAOVJREFU\n",
       "GNNjYGDgu7NrJccCBlTAuWvVywAgXTaBgXXZBDRJTwa+80DqiR2QqG9AleMuYGBQAdJuD4BEGFiI\n",
       "74qxsQOY1S/AwCDLwMD1CcTpAguJzIPpjFdgYBAEqgErfQgiOM7Bje3/KwCi1iOcwoOwmPf//xNA\n",
       "yh4h8gbJRZ3bvgHd8h/MBjmKIczYGOYgkAeARuaDGExgG6QRQQDE74GS+0GauMBCj+GSr0BuAton\n",
       "fwHIqIP4HO42kP9Xg0wA+jMK4ig+U5jk4gsMvAfANnmvUoCKtSyEMjZE7z7JgA60nRGuBQIAgbI3\n",
       "uAFwCikAAAAASUVORK5CYII=\n",
       "\" style=\"display:inline;vertical-align:middle;\" /></a></td></tr>\n",
       "<tr><td>4</td><td>Literal</td><td></td><td><a class=\"ProveItLink\" href=\"../088cbc857536a28d4119ad9639a84270ccb0545d0/expr.ipynb\"><img src=\"data:image/png;base64,iVBORw0KGgoAAAANSUhEUgAAAAwAAAAMBAMAAACkW0HUAAAALVBMVEX///+qqqpmZmZUVFQQEBC6\n",
       "urpERETc3NyYmJjMzMwiIiIyMjKIiIju7u4AAACYsrA9AAAAAXRSTlMAQObYZgAAADxJREFUCNdj\n",
       "YOA9vWrVBgaG2b0MQMCeCyIZ2ArA1DUwyRCyahVIyWQI7xaEYm4AU7xLIdxqTQgtvGvVBgCkcQ7e\n",
       "geM/tQAAAABJRU5ErkJggg==\n",
       "\" style=\"display:inline;vertical-align:middle;\" /></a></td></tr>\n",
       "<tr><td>5</td><td>ExprTuple</td><td>6, 7</td><td><a class=\"ProveItLink\" href=\"../bd5fdb3c0e3e7a88882c79b69a69f1ae79a2938e0/expr.ipynb\"><img src=\"data:image/png;base64,iVBORw0KGgoAAAANSUhEUgAAADMAAAAVBAMAAAAZessyAAAAMFBMVEX////c3NwiIiJERESqqqqY\n",
       "mJh2dnZmZmYQEBDu7u4yMjJUVFTMzMyIiIi6uroAAAAs73DqAAAAAXRSTlMAQObYZgAAATRJREFU\n",
       "KM9jYMAD+C5gE40DEadBBOfl7aWMBRBR1u3lUx+wHwCyVoK4GQEMfBUBEKmlDJz2DAwLGBh4QebN\n",
       "0gQS+QJgGe4EBgYvBoYwBgaOCUDuChDxAqJJHmjUWQaGGQwMr4A89i8gMXGI1HsHBoYzDAzMDgxl\n",
       "IIULQGJzoLr+glzAwFYAtJSBoT4Aydm8//8bAimWBQx9QEpfANlLojt+AK3ma2D4B+T8BwtNgEvm\n",
       "A03h+QCW6gfxWQ5APAzE8yFSLUDmfpAGdoiO6SCXCIANNAUyz4O8nQkxEuhbhmqQ7gUM6SAK6K/n\n",
       "Agycn4DsogsMvAYQxz8CB/HqcqBHOfuBBm14vRtkEAPXAwYOJIfzIbGBAcWagOCyIvkuFxYpGFKc\n",
       "oLCTRvCR4psbZDYj1gRwh4EBAATVRkuiw94DAAAAAElFTkSuQmCC\n",
       "\" style=\"display:inline;vertical-align:middle;\" /></a></td></tr>\n",
       "<tr><td>6</td><td>Variable</td><td></td><td><a class=\"ProveItLink\" href=\"../../../../../__pv_it/985a1bdf1540838275dec15f4ad6de261cca93ce0/expr.ipynb\"><img src=\"data:image/png;base64,iVBORw0KGgoAAAANSUhEUgAAAA8AAAAOBAMAAAACpFvcAAAAMFBMVEX////MzMyqqqoiIiIyMjK6\n",
       "uroQEBB2dnbc3NyYmJhmZmZUVFRERESIiIju7u4AAAB204erAAAAAXRSTlMAQObYZgAAAGZJREFU\n",
       "CNdjYGDgu7NrJccCBgaGsgkMrMsmMDA8sQNy6hsYGNweABlhDAxcn4A0QxcDQ78DiPGQgWH9BAYI\n",
       "sG+AMv6DSaCGfBDNJMDAsB+kmwuI5S8AiTog5gSaEwXWIO29SgFIAQBC+RaDQlidVgAAAABJRU5E\n",
       "rkJggg==\n",
       "\" style=\"display:inline;vertical-align:middle;\" /></a></td></tr>\n",
       "<tr><td>7</td><td>Variable</td><td></td><td><a class=\"ProveItLink\" href=\"../../../../../__pv_it/abeee18594afe51bfb1be95d9591fbba24ac53f30/expr.ipynb\"><img src=\"data:image/png;base64,iVBORw0KGgoAAAANSUhEUgAAAA0AAAAOBAMAAAAGUYvhAAAAMFBMVEX///8iIiIQEBCIiIjMzMzc\n",
       "3Nyqqqp2dnZEREQyMjK6urru7u5mZmZUVFSYmJgAAACI6eGPAAAAAXRSTlMAQObYZgAAAF1JREFU\n",
       "CNdjYGDgu3Nm3wIGBoZ5DNz9QIq3gIEhE0jHOzAwOAPp9QkMDC4g/megABAw///fCmbEXfq0Acxg\n",
       "qH8ANAVI7wfSe0BKAyBGnAXigwYMzA1A+sLau31ACgAz0hhbkhGHbwAAAABJRU5ErkJggg==\n",
       "\" style=\"display:inline;vertical-align:middle;\" /></a></td></tr>\n",
       "</table>\n"
      ],
      "text/plain": [
       "0. {C in S}\n",
       "   core type: Operation\n",
       "   operator: 1\n",
       "   operands: 2\n",
       "1. Set\n",
       "   core type: Literal\n",
       "   sub-expressions: \n",
       "2. (C in S)\n",
       "   core type: ExprTuple\n",
       "   sub-expressions: 3\n",
       "3. C in S\n",
       "   core type: Operation\n",
       "   operator: 4\n",
       "   operands: 5\n",
       "4. in\n",
       "   core type: Literal\n",
       "   sub-expressions: \n",
       "5. (C , S)\n",
       "   core type: ExprTuple\n",
       "   sub-expressions: 6, 7\n",
       "6. C\n",
       "   core type: Variable\n",
       "   sub-expressions: \n",
       "7. S\n",
       "   core type: Variable\n",
       "   sub-expressions: "
      ]
     },
     "execution_count": 4,
     "metadata": {},
     "output_type": "execute_result"
    }
   ],
   "source": [
    "# display the expression information\n",
    "expr.exprInfo()"
   ]
  },
  {
   "cell_type": "code",
   "execution_count": null,
   "metadata": {},
   "outputs": [],
   "source": []
  }
 ],
 "metadata": {
  "kernelspec": {
   "display_name": "Python 3",
   "language": "python",
   "name": "python3"
  }
 },
 "nbformat": 4,
 "nbformat_minor": 0
}
