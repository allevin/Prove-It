{
 "cells": [
  {
   "cell_type": "markdown",
   "metadata": {},
   "source": [
    "Show the Proof\n",
    "========"
   ]
  },
  {
   "cell_type": "code",
   "execution_count": 1,
   "metadata": {},
   "outputs": [
    {
     "data": {
      "text/html": [
       "<table><tr><th>&nbsp;</th><th>step type</th><th>requirements</th><th>statement</th></tr>\n",
       "<tr><td>0</td><td>specialization</td><td>1, 2</td><td><span style=\"font-size:20px;\"><a class=\"ProveItLink\" href=\"../c720efb6925fbb1d657b47d20959486f810703d90/expr.ipynb\"><img src=\"data:image/png;base64,iVBORw0KGgoAAAANSUhEUgAAAEUAAAAVCAMAAAAn3dPsAAAAQlBMVEX///9bW1sNDQ0JCQkdHR0P\n",
       "Dw8WFhZERETc3NyqqqpUVFS6urrMzMwyMjIQEBCIiIh2dnYiIiLu7u5mZmaYmJgAAAB3CBpxAAAA\n",
       "AXRSTlMAQObYZgAAAUxJREFUOMuVVOu6hCAI9Fw1FFHE93/VU2m5tLXt4UcfkI7CjBizmBQxr8zz\n",
       "eT6k5DafczKvLfPVnxCn7lG9AQmgY4FSCotf/II9meINSvEqxKV8tlVvvkXJKoJW/4TvozBh/v3J\n",
       "ODKuhlYmvY0SUNhYp/iqrZ8hnKO4ROAmKjTOtTM5jArY1UphhDtKbzPP9UoWE0cb1lsQ6ftRnW2/\n",
       "n9SN8kZB6qRP+0lsV0qOYnECscYti2XVQuy7ljRY1YKYc/7+mj94bFiqu9rtyryPo8xIT2pLk1Zc\n",
       "P3JH2YQPqFnk8TSexMJlW+l0X0xqC8W1t0CjDyDGF4XStWYKHDlqzjTf0c6eeyiKs4egH0Nef5M1\n",
       "5yhsKXFKpGaEw0+NAsYDgBVzgXJu8gF4xtH/ULT6X6HINYqz5m5q4N5DulpDcjfA4pg9cpDWKOgG\n",
       "o8/dPzSOEUVS+qpzAAAAAElFTkSuQmCC\n",
       "\" style=\"display:inline;vertical-align:middle;\" /></a> <a class=\"ProveItLink\" href=\"proof.ipynb\" style=\"text-decoration: none\">&#x22A2;&nbsp;</a><a class=\"ProveItLink\" href=\"../48c335c446b0ba530a3872178982bb5601e356af0/expr.ipynb\"><img src=\"data:image/png;base64,iVBORw0KGgoAAAANSUhEUgAAAFIAAAAVBAMAAAAnX6R8AAAAMFBMVEX////c3NxERESqqqqYmJgQ\n",
       "EBDu7u4yMjKIiIi6urpUVFTMzMx2dnYiIiJmZmYAAABjE816AAAAAXRSTlMAQObYZgAAAUlJREFU\n",
       "KM9jYCAHzMAtxTIBmce9ALsqr3fPPBleI4uwJ2BVyO7AkPSBgR1ZqAO7kWsYGJgLGFgOIAmFIctn\n",
       "1N69DmYw/ga6q4GBLQAhx1mA7OYSmFM4PwN5GxgYlBGSfEDzGU8stHgB4gjB3cz4vxtMn0NxOUMO\n",
       "g69DLIijiBDv//9JAEiZM7y9CwR3gExWYJAdYOhnsAay2RQQKhm94kE+mArh7QJifqDKBIZFEMfF\n",
       "ArVfh6nl+QIk9qOqZGCIQI8EoJvY0FSyGkDChA1k+wWYQrYHQMGPqLYzAXU7cnxgaAMJLIGpBAY6\n",
       "Ax/IBndo8IFc84CB+QtTAGMDSCAXliL4bjAwNKGFEucFBjaNY2daIB6u2wAR5eJctcgBxKhEipdA\n",
       "5NhkXo7wO9i9SLHJ4IMv7fI0EE51EJCOzGFcgEflQhSeBG6FHBsYABC2Tqwmj+voAAAAAElFTkSu\n",
       "QmCC\n",
       "\" style=\"display:inline;vertical-align:middle;\" /></a></span></td></tr>\n",
       "<tr><td>&nbsp;</td><td colspan=4 style=\"text-align:left\"><span style=\"font-size:20px;\"><a class=\"ProveItLink\" href=\"../../../../../__pv_it/530be409e3083890784cf1d7b28c9e67e90af9360/expr.ipynb\"><img src=\"data:image/png;base64,iVBORw0KGgoAAAANSUhEUgAAAAsAAAAJBAMAAAAWSsseAAAAKlBMVEX///9ERETMzMwQEBAiIiKY\n",
       "mJju7u5mZmaqqqpUVFSIiIh2dnbc3NwAAAA/vyDhAAAAAXRSTlMAQObYZgAAAENJREFUCNdjYDi9\n",
       "8sTyBQxsG1hdmR0YuBm4LnAoMLAxcAowgADzAjB1VoEhgYH1wFoGrgSG3gBhhlMMDImrs3cFMAAA\n",
       "t0YN+iTRa+sAAAAASUVORK5CYII=\n",
       "\" style=\"display:inline;vertical-align:middle;\" /></a> : <a class=\"ProveItLink\" href=\"../../../../../__pv_it/530be409e3083890784cf1d7b28c9e67e90af9360/expr.ipynb\"><img src=\"data:image/png;base64,iVBORw0KGgoAAAANSUhEUgAAAAsAAAAJBAMAAAAWSsseAAAAKlBMVEX///9ERETMzMwQEBAiIiKY\n",
       "mJju7u5mZmaqqqpUVFSIiIh2dnbc3NwAAAA/vyDhAAAAAXRSTlMAQObYZgAAAENJREFUCNdjYDi9\n",
       "8sTyBQxsG1hdmR0YuBm4LnAoMLAxcAowgADzAjB1VoEhgYH1wFoGrgSG3gBhhlMMDImrs3cFMAAA\n",
       "t0YN+iTRa+sAAAAASUVORK5CYII=\n",
       "\" style=\"display:inline;vertical-align:middle;\" /></a>, <a class=\"ProveItLink\" href=\"../../../../../__pv_it/abeee18594afe51bfb1be95d9591fbba24ac53f30/expr.ipynb\"><img src=\"data:image/png;base64,iVBORw0KGgoAAAANSUhEUgAAAA0AAAAOBAMAAAAGUYvhAAAAMFBMVEX///8iIiIQEBCIiIjMzMzc\n",
       "3Nyqqqp2dnZEREQyMjK6urru7u5mZmZUVFSYmJgAAACI6eGPAAAAAXRSTlMAQObYZgAAAF1JREFU\n",
       "CNdjYGDgu3Nm3wIGBoZ5DNz9QIq3gIEhE0jHOzAwOAPp9QkMDC4g/megABAw///fCmbEXfq0Acxg\n",
       "qH8ANAVI7wfSe0BKAyBGnAXigwYMzA1A+sLau31ACgAz0hhbkhGHbwAAAABJRU5ErkJggg==\n",
       "\" style=\"display:inline;vertical-align:middle;\" /></a> : <a class=\"ProveItLink\" href=\"../../../../../__pv_it/abeee18594afe51bfb1be95d9591fbba24ac53f30/expr.ipynb\"><img src=\"data:image/png;base64,iVBORw0KGgoAAAANSUhEUgAAAA0AAAAOBAMAAAAGUYvhAAAAMFBMVEX///8iIiIQEBCIiIjMzMzc\n",
       "3Nyqqqp2dnZEREQyMjK6urru7u5mZmZUVFSYmJgAAACI6eGPAAAAAXRSTlMAQObYZgAAAF1JREFU\n",
       "CNdjYGDgu3Nm3wIGBoZ5DNz9QIq3gIEhE0jHOzAwOAPp9QkMDC4g/megABAw///fCmbEXfq0Acxg\n",
       "qH8ANAVI7wfSe0BKAyBGnAXigwYMzA1A+sLau31ACgAz0hhbkhGHbwAAAABJRU5ErkJggg==\n",
       "\" style=\"display:inline;vertical-align:middle;\" /></a></span></td></tr><tr><td>1</td><td>theorem</td><td></td><td><span style=\"font-size:20px;\"> <a class=\"ProveItLink\" href=\"../../_proofs_/unfoldNotInSet.ipynb\" style=\"text-decoration: none\">&#x22A2;&nbsp;</a><a class=\"ProveItLink\" href=\"../6525bbeef2cb10318de7964d1aaabdb4a41b438c0/expr.ipynb\"><img src=\"data:image/png;base64,iVBORw0KGgoAAAANSUhEUgAAAMIAAAAXCAMAAABuzGCfAAAAQlBMVEX///8SEhIoKCgtLS0/Pz96\n",
       "enovLy8QEBC6urrMzMxUVFRmZmZERETc3NwyMjKqqqp2dnaIiIiYmJgiIiLu7u4AAABYADVeAAAA\n",
       "AXRSTlMAQObYZgAAAp5JREFUWMPVWImO4yAMZU8OY27+/1eXI4SkMRNFM11pLFVOMSZ+vnDL2Pen\n",
       "9B/eIfxTwQ0FceRxrvs3IZDqqWBluQKAVO0G2Vcad3ZsMO8KyPLgh280oWaNzu15rJUP6u3L/vDV\n",
       "5P1TAU3KNWab9cFtgXEHV4B9EwSengqKr72JhcxhCXNPHtmAJ75t5A0HNorvqmXzVFDMNOECT+Tu\n",
       "Y9mR6M3jjWddKbpPmjq6xCvB6uAhQOcVWg8zrVAT8cGcvZxfHRy4agKNpDvAOR+mplhD0LRGL8Jl\n",
       "dZZUKEhCDIzPNKBt8bnQLrLmwEVtbYmMqoAWwYudBCHQGox32BB3cieBa9YVW3bYafEWDIrnUUCC\n",
       "H3mF70lfxVe79aL4AP7+oTVYFovbYBNUk9TpXMEH2KtfXd4MlfnIq/mR6g4pt9VwA8Frgel3ojVu\n",
       "IbSA+NsbLwyTSAgliYZWqSzh1R7SyJ2gEv60NdTckW6hwbhdQJiC3i93JyaiOSYYW5FKpFI+asvL\n",
       "VGM6z07Ac7YkhLm1RRtwocF0WEDYBAFbKTA/80Bds3pUL4wIBXPiFuLecF4bCCpOQti3dv/rlcbe\n",
       "/Q4YjgJbMkMXBTzkUoqXzgfR95wlm+o5F/NsaEn07GOLWuhbZSy3yq+f2tMaTKzuzC5I2rtU+/DJ\n",
       "bwbky3RRGqdSh4gacebzLpR89xKzLSGkXkDYtqYaWpVWGsU/uBowcH3LWGXIjrS7l5/5blRmzrRO\n",
       "jaYcD/pyz+jrVqaww2CkxpzIrk3mEwOB82c+7xRvocS1WhjqMF7Gc0CyI82t5VEEO8b3i8YXDttH\n",
       "S82Z0y76aIp4dcmPUg7ryRnVU8H94I1nTg5H+AACwscvRP9UcPcTRJ75gyCsoiC+0Z8F6sHq/6J/\n",
       "UNYkubwxWM4AAAAASUVORK5CYII=\n",
       "\" style=\"display:inline;vertical-align:middle;\" /></a></span></td></tr>\n",
       "<tr><td>&nbsp;</td><td colspan=4 style-\"text-align:left\"><a class=\"ProveItLink\" href=\"../../_proofs_/unfoldNotInSet.ipynb\">proveit.logic.set_theory.membership.unfoldNotInSet</a></td></tr><tr><td>2</td><td>assumption</td><td></td><td><span style=\"font-size:20px;\"><a class=\"ProveItLink\" href=\"../c720efb6925fbb1d657b47d20959486f810703d90/expr.ipynb\"><img src=\"data:image/png;base64,iVBORw0KGgoAAAANSUhEUgAAAEUAAAAVCAMAAAAn3dPsAAAAQlBMVEX///9bW1sNDQ0JCQkdHR0P\n",
       "Dw8WFhZERETc3NyqqqpUVFS6urrMzMwyMjIQEBCIiIh2dnYiIiLu7u5mZmaYmJgAAAB3CBpxAAAA\n",
       "AXRSTlMAQObYZgAAAUxJREFUOMuVVOu6hCAI9Fw1FFHE93/VU2m5tLXt4UcfkI7CjBizmBQxr8zz\n",
       "eT6k5DafczKvLfPVnxCn7lG9AQmgY4FSCotf/II9meINSvEqxKV8tlVvvkXJKoJW/4TvozBh/v3J\n",
       "ODKuhlYmvY0SUNhYp/iqrZ8hnKO4ROAmKjTOtTM5jArY1UphhDtKbzPP9UoWE0cb1lsQ6ftRnW2/\n",
       "n9SN8kZB6qRP+0lsV0qOYnECscYti2XVQuy7ljRY1YKYc/7+mj94bFiqu9rtyryPo8xIT2pLk1Zc\n",
       "P3JH2YQPqFnk8TSexMJlW+l0X0xqC8W1t0CjDyDGF4XStWYKHDlqzjTf0c6eeyiKs4egH0Nef5M1\n",
       "5yhsKXFKpGaEw0+NAsYDgBVzgXJu8gF4xtH/ULT6X6HINYqz5m5q4N5DulpDcjfA4pg9cpDWKOgG\n",
       "o8/dPzSOEUVS+qpzAAAAAElFTkSuQmCC\n",
       "\" style=\"display:inline;vertical-align:middle;\" /></a> <a class=\"ProveItLink\" href=\"../3f23d762af6b772effa1f8be22973784204cf60f0/proof.ipynb\" style=\"text-decoration: none\">&#x22A2;&nbsp;</a><a class=\"ProveItLink\" href=\"../6187b8ed581c17da632c95901a8880721b78f39a0/expr.ipynb\"><img src=\"data:image/png;base64,iVBORw0KGgoAAAANSUhEUgAAADMAAAAVCAMAAADciiYzAAAAQlBMVEX///9bW1sNDQ0JCQkdHR0P\n",
       "Dw8WFhYyMjK6urpERETMzMwQEBAiIiKYmJju7u5mZmaqqqpUVFSIiIh2dnbc3NwAAADXC9tbAAAA\n",
       "AXRSTlMAQObYZgAAAPVJREFUOMuVU9t2xCAItFc1Agrq//9qLbktm66n4cGE4MAwEOcmFsjdNriP\n",
       "Wdj6yDlnwjDDZBv1OA6KfU7NeFz1Ufyr6yQevr/gId76shKWV514JBeb0bCXNaTQVoVbkXwmaHEI\n",
       "RpZE612Wg8bgiYAunfS1gjyRkD5sq13VH82dWaLK9Dychpx60q+/B0dDPQHA58c4LhrVjvtrksss\n",
       "a7Hz3CgcmFXHgwvBZTiU95vaEDZtx8nJn9GFbDD7JLOuUxnVYhoZHugRBF7sGoGGJW4iSaVaBY1E\n",
       "/t1i2AVmjjhbNXxj/5duM7N78y9r8f4PKngfMy/zAx2GC3mVEDiLAAAAAElFTkSuQmCC\n",
       "\" style=\"display:inline;vertical-align:middle;\" /></a></span></td></tr>\n",
       "</table>"
      ],
      "text/plain": [
       "<proveit._core_.proof._ShowProof at 0x7f94ebff3438>"
      ]
     },
     "execution_count": 1,
     "metadata": {},
     "output_type": "execute_result"
    }
   ],
   "source": [
    "import proveit\n",
    "%show_proof"
   ]
  },
  {
   "cell_type": "code",
   "execution_count": null,
   "metadata": {},
   "outputs": [],
   "source": []
  }
 ],
 "metadata": {
  "kernelspec": {
   "display_name": "Python 3",
   "language": "python",
   "name": "python3"
  }
 },
 "nbformat": 4,
 "nbformat_minor": 0
}
