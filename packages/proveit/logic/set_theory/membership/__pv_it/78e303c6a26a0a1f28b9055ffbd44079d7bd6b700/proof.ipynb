{
 "cells": [
  {
   "cell_type": "markdown",
   "metadata": {},
   "source": [
    "Show the Proof\n",
    "========"
   ]
  },
  {
   "cell_type": "code",
   "execution_count": 1,
   "metadata": {},
   "outputs": [
    {
     "data": {
      "text/html": [
       "<table><tr><th>&nbsp;</th><th>step type</th><th>requirements</th><th>statement</th></tr>\n",
       "<tr><td>0</td><td>specialization</td><td>1, 2</td><td><span style=\"font-size:20px;\"><a class=\"ProveItLink\" href=\"../a65325800e03ff39784efe3edf935be4dbb76c1a0/expr.ipynb\"><img src=\"data:image/png;base64,iVBORw0KGgoAAAANSUhEUgAAAGcAAAAVBAMAAACphe0AAAAAMFBMVEX///9ERETc3NyqqqpUVFS6\n",
       "urrMzMwyMjIQEBCIiIh2dnYiIiLu7u5mZmaYmJgAAABJJ2g3AAAAAXRSTlMAQObYZgAAAYJJREFU\n",
       "OMuFlDFIw0AUhv8mTdLUpHUTt65OioPgVh2cO+rWwcHxNteiKIgOLgoF0YIItjgUxKG6dCyK0Elx\n",
       "kSK41MFSQdCh+O56F9rmUm94Se6/L/fuz3sBkHqFmUF4zGvmYFfEUu8WSObEzJpU3kW8gJba5tHt\n",
       "KMjOSsHPa6HH4hPFZ36bLCjIqSuZaaEbPNDbLoehYiC3dZBbhctC0EGgN3TQRBZWdxSyWKDH5jRQ\n",
       "ugn7axTyS4BRXl58oeemBpotwf6RkM8k5LSAe3y09gGTKcjfFCMroV/gk09v5CSUoFDCGRYo00LE\n",
       "TgQ5lMX6LiSUplDHkvhinej0MEUZreYHIGAvEuJG9MhEOjri6kwJbpnxDW8wPf9OjMm+5WZXnilZ\n",
       "lVCMtn2jojqhGmb6j8vXDltOPpu9WME4jLAc12iEysiqwpu+qpxy93Pagi2vIFRGW+PLSI4RqB0I\n",
       "5f+gVLg1PDYGEv3k1RRkqCaMZ8Z07o64pM7h9tt9RgrHIh5F/iP+ANOSd2GHK7+bAAAAAElFTkSu\n",
       "QmCC\n",
       "\" style=\"display:inline;vertical-align:middle;\" /></a> <a class=\"ProveItLink\" href=\"proof.ipynb\" style=\"text-decoration: none\">&#x22A2;&nbsp;</a><a class=\"ProveItLink\" href=\"../05bfa40f36c5b7b92473e82ebdbf13e5390377b70/expr.ipynb\"><img src=\"data:image/png;base64,iVBORw0KGgoAAAANSUhEUgAAAEoAAAAZBAMAAABk5KUbAAAAMFBMVEX////c3NwiIiJERESqqqqY\n",
       "mJh2dnZmZmYQEBDu7u4yMjJUVFTMzMyIiIi6uroAAAAs73DqAAAAAXRSTlMAQObYZgAAAXNJREFU\n",
       "KM9jYCAI0q4TVsPAm8C3gbAqpgMMPwmrmj+BQYWwqvMTGHQZGPguQHisD7Creg9WdRrGrcFUEV1e\n",
       "GQcxayVMiAtDEVcAw+QP8wUYWhh4L8DEWBPQVW1jYGBZwHGA4SMDxwSYGGcDhJ67SEkLzGD8w8DA\n",
       "cwEYXgYMrxBaTcAkz1KYPr4vQN4BhrvXJzCUAblit0WuAy1OB8sJww1n/H8HxlwKtCqBVZVDgYHB\n",
       "CyxgiDD8/v/PAhBWHwMDGwPvB5YDDAwvwK4zQKhijO7vhLD+ASUYuMFS58GOaVJSgroeCNi+wlUx\n",
       "MHBcgKviQSSAAKABUFUtIEL+AMMEmI0K8JApANr5EcI2BQanwH0GXqCqKLDAVpgqlgUMDOxQk4He\n",
       "9w+wYJBlgIXEJFisswOj7zKU/YiBYfK1ablANzCsg3hs+QGIDDff7s0BUFUcAugxxLIL4UfMOGa7\n",
       "gCctwlPOLHwpVhrG2IhPFSPUIt4DuNUAAOAwVihvTSXbAAAAAElFTkSuQmCC\n",
       "\" style=\"display:inline;vertical-align:middle;\" /></a></span></td></tr>\n",
       "<tr><td>&nbsp;</td><td colspan=4 style=\"text-align:left\"><span style=\"font-size:20px;\"><a class=\"ProveItLink\" href=\"../../../../../__pv_it/530be409e3083890784cf1d7b28c9e67e90af9360/expr.ipynb\"><img src=\"data:image/png;base64,iVBORw0KGgoAAAANSUhEUgAAAAsAAAAJBAMAAAAWSsseAAAAKlBMVEX///9ERETMzMwQEBAiIiKY\n",
       "mJju7u5mZmaqqqpUVFSIiIh2dnbc3NwAAAA/vyDhAAAAAXRSTlMAQObYZgAAAENJREFUCNdjYDi9\n",
       "8sTyBQxsG1hdmR0YuBm4LnAoMLAxcAowgADzAjB1VoEhgYH1wFoGrgSG3gBhhlMMDImrs3cFMAAA\n",
       "t0YN+iTRa+sAAAAASUVORK5CYII=\n",
       "\" style=\"display:inline;vertical-align:middle;\" /></a> : <a class=\"ProveItLink\" href=\"../89afe848f9909271372a46da8b9aa311d53c45ae0/expr.ipynb\"><img src=\"data:image/png;base64,iVBORw0KGgoAAAANSUhEUgAAABgAAAAVBAMAAACuxzMVAAAAMFBMVEX////c3NwiIiJERESqqqqY\n",
       "mJh2dnZmZmYQEBDu7u4yMjJUVFTMzMyIiIi6uroAAAAs73DqAAAAAXRSTlMAQObYZgAAAKxJREFU\n",
       "GNNjYEABfBcgNOsDIHEaJloDxCthHC4GBt4LMA5rAgPHBBiHs4HhFcIoE4YyICl2W+Q6UHU6w1Kg\n",
       "fAKrKocCA4MXQx8DAxsD7weWAwwMLxj+AWUYuA1Aes6DOAwMHBcgnBYQJX+AYQJImSnQNoH7DLxA\n",
       "ThTQPAb/AAsGWQaQ0Y8YGCZfm5YbAOSsY+AQQHIO0HlQwHYByQuzgFgaxtkIxIxQD/EeYAAAhW8k\n",
       "93ErH/0AAAAASUVORK5CYII=\n",
       "\" style=\"display:inline;vertical-align:middle;\" /></a>, <a class=\"ProveItLink\" href=\"../../../../../__pv_it/abeee18594afe51bfb1be95d9591fbba24ac53f30/expr.ipynb\"><img src=\"data:image/png;base64,iVBORw0KGgoAAAANSUhEUgAAAA0AAAAOBAMAAAAGUYvhAAAAMFBMVEX///8iIiIQEBCIiIjMzMzc\n",
       "3Nyqqqp2dnZEREQyMjK6urru7u5mZmZUVFSYmJgAAACI6eGPAAAAAXRSTlMAQObYZgAAAF1JREFU\n",
       "CNdjYGDgu3Nm3wIGBoZ5DNz9QIq3gIEhE0jHOzAwOAPp9QkMDC4g/megABAw///fCmbEXfq0Acxg\n",
       "qH8ANAVI7wfSe0BKAyBGnAXigwYMzA1A+sLau31ACgAz0hhbkhGHbwAAAABJRU5ErkJggg==\n",
       "\" style=\"display:inline;vertical-align:middle;\" /></a> : <a class=\"ProveItLink\" href=\"../../../../../__pv_it/abeee18594afe51bfb1be95d9591fbba24ac53f30/expr.ipynb\"><img src=\"data:image/png;base64,iVBORw0KGgoAAAANSUhEUgAAAA0AAAAOBAMAAAAGUYvhAAAAMFBMVEX///8iIiIQEBCIiIjMzMzc\n",
       "3Nyqqqp2dnZEREQyMjK6urru7u5mZmZUVFSYmJgAAACI6eGPAAAAAXRSTlMAQObYZgAAAF1JREFU\n",
       "CNdjYGDgu3Nm3wIGBoZ5DNz9QIq3gIEhE0jHOzAwOAPp9QkMDC4g/megABAw///fCmbEXfq0Acxg\n",
       "qH8ANAVI7wfSe0BKAyBGnAXigwYMzA1A+sLau31ACgAz0hhbkhGHbwAAAABJRU5ErkJggg==\n",
       "\" style=\"display:inline;vertical-align:middle;\" /></a></span></td></tr><tr><td>1</td><td>theorem</td><td></td><td><span style=\"font-size:20px;\"> <a class=\"ProveItLink\" href=\"../../_proofs_/exp_set_0.ipynb\" style=\"text-decoration: none\">&#x22A2;&nbsp;</a><a class=\"ProveItLink\" href=\"../c36d0cbfb5d1d5f5c85086d7c2d17f1d8ab33f760/expr.ipynb\"><img src=\"data:image/png;base64,iVBORw0KGgoAAAANSUhEUgAAALkAAAAcBAMAAADPUgMyAAAAMFBMVEX///8QEBC6urrMzMxUVFRm\n",
       "ZmZERETc3NwyMjKqqqp2dnaIiIiYmJgiIiLu7u4AAAAU9Wx4AAAAAXRSTlMAQObYZgAAAsVJREFU\n",
       "SMe1VktoE1EUPclkMs1nxuCuihrBnYtEsOBGElqJ4ioi0UVBsmqFgkQQ2404S0EtAe1GN91ZUwgB\n",
       "W1FbbJCKC1GLOz+BWWUhSAOFFiE03vdmMp8045iEXsi8d++bnLnvvnPPDLAfVlrG/llk3p8eEMIf\n",
       "d12Sk9hFeCD00+5Lmxq+QRgkfWXWfS2l4QewQjOtT/RA1X0twdHlArDB3I+9o990ia/nrr3Tc49Q\n",
       "aZ6z0Gzv6Lnu4aEq6o3NAoapdrvAbQpJ+d7RD3YPXwRCqi+JHZr/pIdR4cViz+BCw3HEr2o1lU2k\n",
       "LVqqEN9ZvleA6LPp6Tt9NEzM7p353G6CP4SexMoyI8sX+m1PTHzvgzKUqrR4/uk4z/hGOyy1Xjio\n",
       "gzFg0oqMlFaTbNQb0WjH+F79CBIhfuFT9Qh3Cub/11rbppMipBNQVKu9s0jwSd52bQ92/RjKAvNY\n",
       "wyPm1K3spPVjR9vzu5SVjIjVGDIl4o7O9cOYZlkjZnTneK1mnCpZuGkKApElUpU1u0JE3dG5fljo\n",
       "wOFOyaE8laY9d0Vli4ujS6ze8qE4HOjhpZNjJrreg3pl0jr/FOb8NplJz5R2THSGODlK29EyPkZ6\n",
       "5VKr6EAvB/LDNFy4R1ZJWOgBuuFDpIG3Ds0JUXlEUxsT7HznSGr8eGCEbsUc6HFq7W65RzYQagZj\n",
       "UoWn/NWIirT80iwT4zt8/A6+HyUOpeGs+4GCre5cP3RyNaBMlUurujdz2diR/1zGosgCu0TZoQox\n",
       "ge2sCCHvRD+FJA3XeWUM/eC25Wiuxw9r6p6Ou28SP6yGMVMQ8+3OMNCFxgLR2sb3vE2uvN4vZib1\n",
       "1+NlpKriSO6qgzPK1NwbzUQ39IPbWU/0aIfy2l43Xflut6CnrspJp6oWekCXVC/09x1bQQ/oeOIB\n",
       "/q9XUtp2Rddvh6hHacR+vwf+2/4CT52+tsPanZ8AAAAASUVORK5CYII=\n",
       "\" style=\"display:inline;vertical-align:middle;\" /></a></span></td></tr>\n",
       "<tr><td>&nbsp;</td><td colspan=4 style-\"text-align:left\"><a class=\"ProveItLink\" href=\"../../_proofs_/exp_set_0.ipynb\">proveit.logic.set_theory.membership.exp_set_0</a></td></tr><tr><td>2</td><td>assumption</td><td></td><td><span style=\"font-size:20px;\"><a class=\"ProveItLink\" href=\"../a65325800e03ff39784efe3edf935be4dbb76c1a0/expr.ipynb\"><img src=\"data:image/png;base64,iVBORw0KGgoAAAANSUhEUgAAAGcAAAAVBAMAAACphe0AAAAAMFBMVEX///9ERETc3NyqqqpUVFS6\n",
       "urrMzMwyMjIQEBCIiIh2dnYiIiLu7u5mZmaYmJgAAABJJ2g3AAAAAXRSTlMAQObYZgAAAYJJREFU\n",
       "OMuFlDFIw0AUhv8mTdLUpHUTt65OioPgVh2cO+rWwcHxNteiKIgOLgoF0YIItjgUxKG6dCyK0Elx\n",
       "kSK41MFSQdCh+O56F9rmUm94Se6/L/fuz3sBkHqFmUF4zGvmYFfEUu8WSObEzJpU3kW8gJba5tHt\n",
       "KMjOSsHPa6HH4hPFZ36bLCjIqSuZaaEbPNDbLoehYiC3dZBbhctC0EGgN3TQRBZWdxSyWKDH5jRQ\n",
       "ugn7axTyS4BRXl58oeemBpotwf6RkM8k5LSAe3y09gGTKcjfFCMroV/gk09v5CSUoFDCGRYo00LE\n",
       "TgQ5lMX6LiSUplDHkvhinej0MEUZreYHIGAvEuJG9MhEOjri6kwJbpnxDW8wPf9OjMm+5WZXnilZ\n",
       "lVCMtn2jojqhGmb6j8vXDltOPpu9WME4jLAc12iEysiqwpu+qpxy93Pagi2vIFRGW+PLSI4RqB0I\n",
       "5f+gVLg1PDYGEv3k1RRkqCaMZ8Z07o64pM7h9tt9RgrHIh5F/iP+ANOSd2GHK7+bAAAAAElFTkSu\n",
       "QmCC\n",
       "\" style=\"display:inline;vertical-align:middle;\" /></a> <a class=\"ProveItLink\" href=\"../8587ea1a00c2bbca46cdaebbb9b98eeb34c4dc3a0/proof.ipynb\" style=\"text-decoration: none\">&#x22A2;&nbsp;</a><a class=\"ProveItLink\" href=\"../fa755c749883762f531e7795602c8a3b9b1e9b330/expr.ipynb\"><img src=\"data:image/png;base64,iVBORw0KGgoAAAANSUhEUgAAAFMAAAAVBAMAAADInc9CAAAAMFBMVEX///8iIiJERESYmJhmZmYQ\n",
       "EBDu7u4yMjJUVFTMzMyIiIi6urp2dnbc3NyqqqoAAABw9lLDAAAAAXRSTlMAQObYZgAAASdJREFU\n",
       "KM9jeMuACfguMGADp8Ek9wIIj3kDiOTZgEfpDBjXE6tSNq8lE2BKy2CC7FiVMm5gk4Qq5VoAE2Q+\n",
       "gE3pQgaG5VClrAlwqwKwKZVgYNh/AaJ0O0JUD5vSLwwM8x9AlPoA8Z0V95YA3XEEi1LeP0ClCyBK\n",
       "i4E2H2AWZhVgYHgOV+peDgIVMKUHIEqjgdIMXB/4gCGyFZepUKW/gaYycCiAmPMJOOA3OBgW4FIK\n",
       "9pYBRGkciLg/gSEB2QGOgiAgBA2s99DAUgaG/YX1DFxApeY4ouAgNAqAIfTeQJXhFgP2wGJgfMAW\n",
       "CVW6kYEhaU3OKQMgsxprcvFZAUsurBfwRyxSIgQnEjDgWUAovcITYTrBpH0Dxu3Fo3Q1JD6gCZZr\n",
       "ApjEqhQAjJRi4syH1hkAAAAASUVORK5CYII=\n",
       "\" style=\"display:inline;vertical-align:middle;\" /></a></span></td></tr>\n",
       "</table>"
      ],
      "text/plain": [
       "<proveit._core_.proof._ShowProof at 0x7f94eb687c88>"
      ]
     },
     "execution_count": 1,
     "metadata": {},
     "output_type": "execute_result"
    }
   ],
   "source": [
    "import proveit\n",
    "%show_proof"
   ]
  },
  {
   "cell_type": "code",
   "execution_count": null,
   "metadata": {},
   "outputs": [],
   "source": []
  }
 ],
 "metadata": {
  "kernelspec": {
   "display_name": "Python 3",
   "language": "python",
   "name": "python3"
  }
 },
 "nbformat": 4,
 "nbformat_minor": 0
}
