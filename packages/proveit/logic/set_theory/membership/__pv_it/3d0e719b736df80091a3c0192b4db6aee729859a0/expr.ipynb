{
 "cells": [
  {
   "cell_type": "markdown",
   "metadata": {},
   "source": [
    "Expression of type <a class=\"ProveItLink\" href=\"../../../../../../../doc/html/api/proveit.ExprTuple.html\">ExprTuple</a>\n",
    "=======================\n",
    "# from context <a class=\"ProveItLink\" href=\"../../_context_.ipynb\">proveit.logic.set_theory.membership</a>"
   ]
  },
  {
   "cell_type": "code",
   "execution_count": 1,
   "metadata": {},
   "outputs": [],
   "source": [
    "# import Expression classes needed to build the expression\n",
    "from proveit import ExprTuple\n",
    "from proveit._common_ import S, h\n",
    "from proveit.logic import InSet"
   ]
  },
  {
   "cell_type": "code",
   "execution_count": 2,
   "metadata": {},
   "outputs": [
    {
     "data": {
      "text/html": [
       "<strong id=\"expr\">expr:</strong> <a class=\"ProveItLink\" href=\"expr.ipynb\"><img src=\"data:image/png;base64,iVBORw0KGgoAAAANSUhEUgAAAD8AAAAVBAMAAAADRiu8AAAAMFBMVEX////c3NwiIiJERESqqqqY\n",
       "mJh2dnZmZmYQEBDu7u4yMjJUVFTMzMyIiIi6uroAAAAs73DqAAAAAXRSTlMAQObYZgAAAVJJREFU\n",
       "KM9jYCAI+C7glosDEacZGGY3Ycqxbi+f+oD9AJC1EoiXYypYysBpz8CwgIGBF2TDFwx57gQGBi8G\n",
       "hjAGBo4JQGf8hInPXaSkBWbIAw0/y8Awg4HhFZDHpgCV51k6Acp678DAcIaBgdmBoQzI4yq9awgW\n",
       "FobJM8j/BbmPga0A6BgGhvkLGarBwoZwN/D+/w/isCxg6ANS/gcYNoNEOQ0QrhTd8QPkugaGf0BO\n",
       "EQODGjjMmpSUoI4EgvwAoKM+gBWoMTD+A7txAzyYQBZDFLQATf7HwNbACbIC5huG6SB3CoCtMAUq\n",
       "/8DAkRAIEt8KUwAMI7C7WRcwpANDbQHD/AMJIPFJD6AKii4w8BpAvPkIGAwXGNjTwCHAuPwARMGG\n",
       "17tNQTTXAwYOAeQoYNmF8AUIAIOaNQFfYsmFRjcuwAmMbgZpPAq4QfYz4klydxgYAHz/SodMHQHt\n",
       "AAAAAElFTkSuQmCC\n",
       "\" style=\"display:inline;vertical-align:middle;\" /></a><br>"
      ],
      "text/plain": [
       "expr: (h in S)"
      ]
     },
     "execution_count": 2,
     "metadata": {},
     "output_type": "execute_result"
    }
   ],
   "source": [
    "# build up the expression from sub-expressions\n",
    "expr = ExprTuple(InSet(h, S))"
   ]
  },
  {
   "cell_type": "code",
   "execution_count": 3,
   "metadata": {},
   "outputs": [
    {
     "name": "stdout",
     "output_type": "stream",
     "text": [
      "Passed sanity check: built 'expr' is the same as the stored Expression.\n"
     ]
    }
   ],
   "source": [
    "# check that the built expression is the same as the stored expression\n",
    "%check_expr"
   ]
  },
  {
   "cell_type": "code",
   "execution_count": 4,
   "metadata": {},
   "outputs": [
    {
     "data": {
      "text/html": [
       "<table><tr><th>&nbsp;</th><th>core type</th><th>sub-expressions</th><th>expression</th></tr>\n",
       "<tr><td>0</td><td>ExprTuple</td><td>1</td><td><a class=\"ProveItLink\" href=\"expr.ipynb\"><img src=\"data:image/png;base64,iVBORw0KGgoAAAANSUhEUgAAAD8AAAAVBAMAAAADRiu8AAAAMFBMVEX////c3NwiIiJERESqqqqY\n",
       "mJh2dnZmZmYQEBDu7u4yMjJUVFTMzMyIiIi6uroAAAAs73DqAAAAAXRSTlMAQObYZgAAAVJJREFU\n",
       "KM9jYCAI+C7glosDEacZGGY3Ycqxbi+f+oD9AJC1EoiXYypYysBpz8CwgIGBF2TDFwx57gQGBi8G\n",
       "hjAGBo4JQGf8hInPXaSkBWbIAw0/y8Awg4HhFZDHpgCV51k6Acp678DAcIaBgdmBoQzI4yq9awgW\n",
       "FobJM8j/BbmPga0A6BgGhvkLGarBwoZwN/D+/w/isCxg6ANS/gcYNoNEOQ0QrhTd8QPkugaGf0BO\n",
       "EQODGjjMmpSUoI4EgvwAoKM+gBWoMTD+A7txAzyYQBZDFLQATf7HwNbACbIC5huG6SB3CoCtMAUq\n",
       "/8DAkRAIEt8KUwAMI7C7WRcwpANDbQHD/AMJIPFJD6AKii4w8BpAvPkIGAwXGNjTwCHAuPwARMGG\n",
       "17tNQTTXAwYOAeQoYNmF8AUIAIOaNQFfYsmFRjcuwAmMbgZpPAq4QfYz4klydxgYAHz/SodMHQHt\n",
       "AAAAAElFTkSuQmCC\n",
       "\" style=\"display:inline;vertical-align:middle;\" /></a></td></tr>\n",
       "<tr><td>1</td><td>Operation</td><td>operator:&nbsp;2<br>operands:&nbsp;3<br></td><td><a class=\"ProveItLink\" href=\"../e33b6ecdef25651c91e55534fb37e376013c81210/expr.ipynb\"><img src=\"data:image/png;base64,iVBORw0KGgoAAAANSUhEUgAAADIAAAAPBAMAAABU9YHxAAAAMFBMVEX////MzMzc3NxERESIiIiY\n",
       "mJh2dna6urqqqqpmZmYyMjIiIiIQEBBUVFTu7u4AAAAdUKnwAAAAAXRSTlMAQObYZgAAAORJREFU\n",
       "GNNj4LuzgQEDxM6cF87AwDUBQ4IrgOHxBwYG/gYMmWsMDBwLGBjqH0D5fF67dy8AMZg+MjAwOjAw\n",
       "ZMNUSsVBGew/gDICDAwrQ5wVwCrtYEqY/juCzfilwHkBxGBWgNvj//8zkMPxkYHXAMR9jHABU+z5\n",
       "cwwMnBsYuBNA3Jrdu6EuAAK2rwwgYf0CEEcWriUAaAdQ5n0BQw4DyOGvYRJ8QK8zfWJgiGdgOMYK\n",
       "spw3ACoD8iTIUbcY+D6ygZVuh8pwbmFgcAbSSxgYpuWBRbQmQmR42e9eDkANrt7VcLcBAQDwcTZp\n",
       "TomSPwAAAABJRU5ErkJggg==\n",
       "\" style=\"display:inline;vertical-align:middle;\" /></a></td></tr>\n",
       "<tr><td>2</td><td>Literal</td><td></td><td><a class=\"ProveItLink\" href=\"../088cbc857536a28d4119ad9639a84270ccb0545d0/expr.ipynb\"><img src=\"data:image/png;base64,iVBORw0KGgoAAAANSUhEUgAAAAwAAAAMBAMAAACkW0HUAAAALVBMVEX///+qqqpmZmZUVFQQEBC6\n",
       "urpERETc3NyYmJjMzMwiIiIyMjKIiIju7u4AAACYsrA9AAAAAXRSTlMAQObYZgAAADxJREFUCNdj\n",
       "YOA9vWrVBgaG2b0MQMCeCyIZ2ArA1DUwyRCyahVIyWQI7xaEYm4AU7xLIdxqTQgtvGvVBgCkcQ7e\n",
       "geM/tQAAAABJRU5ErkJggg==\n",
       "\" style=\"display:inline;vertical-align:middle;\" /></a></td></tr>\n",
       "<tr><td>3</td><td>ExprTuple</td><td>4, 5</td><td><a class=\"ProveItLink\" href=\"../f737e6b2191c4a7305164cf59d1e29bb6dab8c010/expr.ipynb\"><img src=\"data:image/png;base64,iVBORw0KGgoAAAANSUhEUgAAAC8AAAAVBAMAAAAk6KpUAAAAMFBMVEX////c3NwiIiJERESqqqqY\n",
       "mJh2dnZmZmYQEBDu7u4yMjJUVFTMzMyIiIi6uroAAAAs73DqAAAAAXRSTlMAQObYZgAAASdJREFU\n",
       "KM91kb1Lw2AQxn9Fm+ZtjWRxctCpsw6d7eyiLo6SSSdRBHVwKeKsXUTBoXEQcRMcFFyyVyF/gEJx\n",
       "1MEiDjqYepfmo/gRSN7cPfc+z91z8O8zGv7OLemnDSe7ea54vX3YKQXydyHveQ6cYWbAB0eZ3rN8\n",
       "xYNZWAS7KTKfGTAhJPdwDM8SWZMZ8FqHOxiqsyVRefNxOr3xpbpY6yIGrVN2EsDp9bRm2GdfjrmA\n",
       "q5Rr7OZDVRtEEmxANW94bR5GujFQpRAl4ylxH9gDE2E1TAwcqb4bU9WkrIvtLSDUOlvcR9FnRab1\n",
       "aQWeeVO1EGeq3+6TjBFSWm6aA6G4fLmtKWW5g+1m/rt5Z2JJ0csMH1jIamL7T8CI7Yyn0cAmK8pa\n",
       "+GO1D/ANcYhDO+b68FEAAAAASUVORK5CYII=\n",
       "\" style=\"display:inline;vertical-align:middle;\" /></a></td></tr>\n",
       "<tr><td>4</td><td>Variable</td><td></td><td><a class=\"ProveItLink\" href=\"../../../../../__pv_it/3b5a3cc74431604b3beba568cf7dfeb60b1886650/expr.ipynb\"><img src=\"data:image/png;base64,iVBORw0KGgoAAAANSUhEUgAAAAsAAAAOBAMAAAALT/umAAAAMFBMVEX////MzMzc3NxERESIiIiY\n",
       "mJh2dna6urqqqqpmZmYyMjIiIiIQEBBUVFTu7u4AAAAdUKnwAAAAAXRSTlMAQObYZgAAAFlJREFU\n",
       "CNdj4LuzgQEEuCaAKf4GMFX/AExlg0mGlSHOCgwMfL8UOC8wMHB8ZOA1YGDg3MDAncAAwvoFDAzv\n",
       "CxhyGB4wxDMwHGNVYLjFwPeRjYFhCQPDtDwGADR5Es9USdyIAAAAAElFTkSuQmCC\n",
       "\" style=\"display:inline;vertical-align:middle;\" /></a></td></tr>\n",
       "<tr><td>5</td><td>Variable</td><td></td><td><a class=\"ProveItLink\" href=\"../../../../../__pv_it/abeee18594afe51bfb1be95d9591fbba24ac53f30/expr.ipynb\"><img src=\"data:image/png;base64,iVBORw0KGgoAAAANSUhEUgAAAA0AAAAOBAMAAAAGUYvhAAAAMFBMVEX///8iIiIQEBCIiIjMzMzc\n",
       "3Nyqqqp2dnZEREQyMjK6urru7u5mZmZUVFSYmJgAAACI6eGPAAAAAXRSTlMAQObYZgAAAF1JREFU\n",
       "CNdjYGDgu3Nm3wIGBoZ5DNz9QIq3gIEhE0jHOzAwOAPp9QkMDC4g/megABAw///fCmbEXfq0Acxg\n",
       "qH8ANAVI7wfSe0BKAyBGnAXigwYMzA1A+sLau31ACgAz0hhbkhGHbwAAAABJRU5ErkJggg==\n",
       "\" style=\"display:inline;vertical-align:middle;\" /></a></td></tr>\n",
       "</table>\n"
      ],
      "text/plain": [
       "0. (h in S)\n",
       "   core type: ExprTuple\n",
       "   sub-expressions: 1\n",
       "1. h in S\n",
       "   core type: Operation\n",
       "   operator: 2\n",
       "   operands: 3\n",
       "2. in\n",
       "   core type: Literal\n",
       "   sub-expressions: \n",
       "3. (h , S)\n",
       "   core type: ExprTuple\n",
       "   sub-expressions: 4, 5\n",
       "4. h\n",
       "   core type: Variable\n",
       "   sub-expressions: \n",
       "5. S\n",
       "   core type: Variable\n",
       "   sub-expressions: "
      ]
     },
     "execution_count": 4,
     "metadata": {},
     "output_type": "execute_result"
    }
   ],
   "source": [
    "# display the expression information\n",
    "expr.exprInfo()"
   ]
  },
  {
   "cell_type": "code",
   "execution_count": null,
   "metadata": {},
   "outputs": [],
   "source": []
  }
 ],
 "metadata": {
  "kernelspec": {
   "display_name": "Python 3",
   "language": "python",
   "name": "python3"
  }
 },
 "nbformat": 4,
 "nbformat_minor": 0
}
