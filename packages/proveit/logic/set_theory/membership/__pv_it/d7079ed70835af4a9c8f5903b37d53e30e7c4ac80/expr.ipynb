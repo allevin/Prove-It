{
 "cells": [
  {
   "cell_type": "markdown",
   "metadata": {},
   "source": [
    "Expression of type <a class=\"ProveItLink\" href=\"../../../../../../../doc/html/api/proveit.logic.Set.html\">Set</a>\n",
    "=======================\n",
    "# from context <a class=\"ProveItLink\" href=\"../../_context_.ipynb\">proveit.logic.set_theory.membership</a>"
   ]
  },
  {
   "cell_type": "code",
   "execution_count": 1,
   "metadata": {},
   "outputs": [],
   "source": [
    "# import Expression classes needed to build the expression\n",
    "from proveit._common_ import A, S\n",
    "from proveit.logic import InSet, Set"
   ]
  },
  {
   "cell_type": "code",
   "execution_count": 2,
   "metadata": {},
   "outputs": [
    {
     "data": {
      "text/html": [
       "<strong id=\"expr\">expr:</strong> <a class=\"ProveItLink\" href=\"expr.ipynb\"><img src=\"data:image/png;base64,iVBORw0KGgoAAAANSUhEUgAAAEkAAAAVBAMAAAD4Ed5jAAAAMFBMVEX///9ERETc3NyqqqpUVFS6\n",
       "urrMzMwyMjIQEBCIiIh2dnYiIiLu7u5mZmaYmJgAAABJJ2g3AAAAAXRSTlMAQObYZgAAAUJJREFU\n",
       "KM9jYGDgu8eAB7CtUgBRPLsY8AK2ZhDJ+QHK24Ch4MndO08ZGK6DmFwNECH2D+iK2B8wHAQKrkBW\n",
       "9foPuiovBgbmAlRVTLafIHI803fvLgCLfAM6YwKqKk7OrxBV6W+gRrF+BqpKQFUVw/wPYqYMzEKm\n",
       "/9PANFgVL9h4ngC2n2AxRgW4u+b//wjivAexMwLAxjMw/QVLHUS4nulJfw/IqxcYGFLawCIpLi4f\n",
       "wYyI3buhrge5BuwK8QdA4QQQC2hgO0Q53CigHA9IFfcCIMEC0sgMxDvAcqdhiniAFjF9grmLCxQz\n",
       "ykBcD5ZkeQBVBQpQXgcGpJDgAZknfwBsxFaoKt6dDAwTGZBUMUl8V2B4+L8WLKt+DaKKhdXF8QGy\n",
       "KlRgUg33IwNuVegArIqPkCpw+uLZSSCttoIpvsUE0z0A9cdV5tQzL4cAAAAASUVORK5CYII=\n",
       "\" style=\"display:inline;vertical-align:middle;\" /></a><br>"
      ],
      "text/plain": [
       "expr: {A in S}"
      ]
     },
     "execution_count": 2,
     "metadata": {},
     "output_type": "execute_result"
    }
   ],
   "source": [
    "# build up the expression from sub-expressions\n",
    "expr = Set(InSet(A, S))"
   ]
  },
  {
   "cell_type": "code",
   "execution_count": 3,
   "metadata": {},
   "outputs": [
    {
     "name": "stdout",
     "output_type": "stream",
     "text": [
      "Passed sanity check: built 'expr' is the same as the stored Expression.\n"
     ]
    }
   ],
   "source": [
    "# check that the built expression is the same as the stored expression\n",
    "%check_expr"
   ]
  },
  {
   "cell_type": "code",
   "execution_count": 4,
   "metadata": {},
   "outputs": [
    {
     "data": {
      "text/html": [
       "<table><tr><th>&nbsp;</th><th>core type</th><th>sub-expressions</th><th>expression</th></tr>\n",
       "<tr><td>0</td><td>Operation</td><td>operator:&nbsp;1<br>operands:&nbsp;2<br></td><td><a class=\"ProveItLink\" href=\"expr.ipynb\"><img src=\"data:image/png;base64,iVBORw0KGgoAAAANSUhEUgAAAEkAAAAVBAMAAAD4Ed5jAAAAMFBMVEX///9ERETc3NyqqqpUVFS6\n",
       "urrMzMwyMjIQEBCIiIh2dnYiIiLu7u5mZmaYmJgAAABJJ2g3AAAAAXRSTlMAQObYZgAAAUJJREFU\n",
       "KM9jYGDgu8eAB7CtUgBRPLsY8AK2ZhDJ+QHK24Ch4MndO08ZGK6DmFwNECH2D+iK2B8wHAQKrkBW\n",
       "9foPuiovBgbmAlRVTLafIHI803fvLgCLfAM6YwKqKk7OrxBV6W+gRrF+BqpKQFUVw/wPYqYMzEKm\n",
       "/9PANFgVL9h4ngC2n2AxRgW4u+b//wjivAexMwLAxjMw/QVLHUS4nulJfw/IqxcYGFLawCIpLi4f\n",
       "wYyI3buhrge5BuwK8QdA4QQQC2hgO0Q53CigHA9IFfcCIMEC0sgMxDvAcqdhiniAFjF9grmLCxQz\n",
       "ykBcD5ZkeQBVBQpQXgcGpJDgAZknfwBsxFaoKt6dDAwTGZBUMUl8V2B4+L8WLKt+DaKKhdXF8QGy\n",
       "KlRgUg33IwNuVegArIqPkCpw+uLZSSCttoIpvsUE0z0A9cdV5tQzL4cAAAAASUVORK5CYII=\n",
       "\" style=\"display:inline;vertical-align:middle;\" /></a></td></tr>\n",
       "<tr><td>1</td><td>Literal</td><td></td><td><a class=\"ProveItLink\" href=\"../../../enumeration/__pv_it/07381ed5b23806e8d7914b78cb6667769e3708dd0/expr.ipynb\"><img src=\"data:image/png;base64,iVBORw0KGgoAAAANSUhEUgAAAB4AAAAOBAMAAADKyLEKAAAAMFBMVEX///8iIiIQEBCIiIjMzMzc\n",
       "3Nyqqqp2dnZEREQyMjK6urru7u5mZmZUVFSYmJgAAACI6eGPAAAAAXRSTlMAQObYZgAAALRJREFU\n",
       "CNdjYGDgu3Nm3wIGBJjHwN0PZW5yYGDgLWBgyITy8zcwMMQDxZyh/INAvD6BgcEFypcB4vjPDiBm\n",
       "TPFRrhs/LjMwMP//38rAwCbKEMPA9gEkE3fp0waG+AUMRxh4JkC01T9guPTOOICBEWgVH5C//wHD\n",
       "H5D4fqCz9oCMDGD4DLaegRXslLMMDMpAgxlOMmQxHDRgYG5gYLBk4D7KcIe7gOHC2rt9QCXsh40Z\n",
       "GCKMGQDRkC8N/Ph1XAAAAABJRU5ErkJggg==\n",
       "\" style=\"display:inline;vertical-align:middle;\" /></a></td></tr>\n",
       "<tr><td>2</td><td>ExprTuple</td><td>3</td><td><a class=\"ProveItLink\" href=\"../6498e51bd68fbe37a69a19b1323745605a49caef0/expr.ipynb\"><img src=\"data:image/png;base64,iVBORw0KGgoAAAANSUhEUgAAAEMAAAAVBAMAAADvM06qAAAAMFBMVEX////c3NwiIiJERESqqqqY\n",
       "mJh2dnZmZmYQEBDu7u4yMjJUVFTMzMyIiIi6uroAAAAs73DqAAAAAXRSTlMAQObYZgAAAVNJREFU\n",
       "KM9jYCAC8F3AJxsHIk5D2IcwZFm3l099wH4AyFoJEViPoWQpA6c9A8MCBgZeiD2s+hPQVHAnMDB4\n",
       "MTCEMTBwQKRE6gUgMnMXKWmBGfJAK84yMMxgYHgFkblw/wGY5lkKM+29AwPDGQYGZgeGMoi3JvgH\n",
       "gBnCcPvk/4JcysBWAHQUCMxjOA9xkyHcLbz//4M4LAsY+sD8BwzyBSCa0wDhXtEdP4BG8jUw/AO7\n",
       "YPfu/WBJviYlJahzgSAfaDnPB4gSPqDPFoDVboAHHBDPhyhpAfGBjmdqAFukAFMyHeRiAbBFpkAm\n",
       "I1AJ1wewzFaYEmCoMVSDTFvAkA6kZgEx80+wzKQHUCVFFxh4DSCefgQMi/6FDKz2v8BeYlx+AKJk\n",
       "w+vdIAsYuB4wcAigRg3LLoSPQAAYAawJ+JNTLiIx4ACcoLCQxquEG+QORrwJ8w4DAwD7G0xRILbC\n",
       "GwAAAABJRU5ErkJggg==\n",
       "\" style=\"display:inline;vertical-align:middle;\" /></a></td></tr>\n",
       "<tr><td>3</td><td>Operation</td><td>operator:&nbsp;4<br>operands:&nbsp;5<br></td><td><a class=\"ProveItLink\" href=\"../f5cdac0b08c495cc942fc84c09ebab0b825161060/expr.ipynb\"><img src=\"data:image/png;base64,iVBORw0KGgoAAAANSUhEUgAAADcAAAAPBAMAAACy3Eq1AAAAMFBMVEX///92dnYQEBBERERUVFS6\n",
       "urqIiIhmZmaqqqrc3Nzu7u6YmJgyMjIiIiLMzMwAAACFkkdwAAAAAXRSTlMAQObYZgAAAOFJREFU\n",
       "GNNjYACBtwzogNu9fHUAhHkeQ/I0A5c9VNn9BWhyLAIMDD0Q5oz6CRDGsrN374AZ8x8wMDyDiCXk\n",
       "Q4znOw0zIb6BgeEdmMW6oH8DmDEZbvr8bw+grKUM7xPADEu4nWz//0M5AQzzC0A0lwHCRbOdPoGN\n",
       "4XNx8QcLs+revQt1EBDIg61iZWBgOgBW5QAPAiBeD5YEOoxXAWzsBZjkcpCbQN7jBEryfACLecMk\n",
       "Qf4vATHWADHzL7DYWmhoMtQmMLCBnDFZ/yQDt/0fsHM5j0N95xDiYo0R3Bw+CNcCAQAZcTpZalNj\n",
       "qAAAAABJRU5ErkJggg==\n",
       "\" style=\"display:inline;vertical-align:middle;\" /></a></td></tr>\n",
       "<tr><td>4</td><td>Literal</td><td></td><td><a class=\"ProveItLink\" href=\"../088cbc857536a28d4119ad9639a84270ccb0545d0/expr.ipynb\"><img src=\"data:image/png;base64,iVBORw0KGgoAAAANSUhEUgAAAAwAAAAMBAMAAACkW0HUAAAALVBMVEX///+qqqpmZmZUVFQQEBC6\n",
       "urpERETc3NyYmJjMzMwiIiIyMjKIiIju7u4AAACYsrA9AAAAAXRSTlMAQObYZgAAADxJREFUCNdj\n",
       "YOA9vWrVBgaG2b0MQMCeCyIZ2ArA1DUwyRCyahVIyWQI7xaEYm4AU7xLIdxqTQgtvGvVBgCkcQ7e\n",
       "geM/tQAAAABJRU5ErkJggg==\n",
       "\" style=\"display:inline;vertical-align:middle;\" /></a></td></tr>\n",
       "<tr><td>5</td><td>ExprTuple</td><td>6, 7</td><td><a class=\"ProveItLink\" href=\"../5119ddb33e983b5746654d00bd489bdc312a2cb40/expr.ipynb\"><img src=\"data:image/png;base64,iVBORw0KGgoAAAANSUhEUgAAADMAAAAVBAMAAAAZessyAAAAMFBMVEX////c3NwiIiJERESqqqqY\n",
       "mJh2dnZmZmYQEBDu7u4yMjJUVFTMzMyIiIi6uroAAAAs73DqAAAAAXRSTlMAQObYZgAAAS5JREFU\n",
       "KM9jYMAD+C5gE40DEach7ENwUdbt5VMfsB8AslZCBNbDpZYycNozMCxgYOCFmMeqPwEqw53AwODF\n",
       "wBDGwMABERKpF4BKyQONOsvAMIOB4RVE4ML9B1Cp9w4MDGcYGJgdGMogzpzgHwDT9RfkAga2AqCl\n",
       "IDCP4TzMD7z//xsCKZYFDH1g/gMG+QKYC0V3/ADaz9fA8A/E49m9e78Bwr/5QMN5PkCk+IAuXQD1\n",
       "MBDPh0i1gPhARzE1QKSmg1wiADbQFMhkBEpxfWBgAHkR6FuGapDuBQzpQGoWEDP/ZOD8BKSLLjDw\n",
       "GkAc/4iBQbh/IQOr/a8Czn6gQRte7wYZxMD1gIFDACl+kNjAgGJNQHBZkSIsFxEpaFKcIL9II/hI\n",
       "8c0NMpsRawK4w8AAAIRLRQU3vFzXAAAAAElFTkSuQmCC\n",
       "\" style=\"display:inline;vertical-align:middle;\" /></a></td></tr>\n",
       "<tr><td>6</td><td>Variable</td><td></td><td><a class=\"ProveItLink\" href=\"../../../../../__pv_it/2cbe72a7ad6f655694dd697106680215e8489b600/expr.ipynb\"><img src=\"data:image/png;base64,iVBORw0KGgoAAAANSUhEUgAAAA8AAAAOBAMAAAACpFvcAAAALVBMVEX///8QEBBERERUVFS6urqI\n",
       "iIhmZmaqqqrc3Nzu7u6YmJgyMjIiIiLMzMwAAADtIaYWAAAAAXRSTlMAQObYZgAAAFtJREFUCNdj\n",
       "YACBOwxQsA9Kc52bAGG05zVAGAFxDmCaZULdAjBjCsO9ADDDgaEvAUTzGhvbKYCVMDAwbgAxChgY\n",
       "eASANAeQwf0AyJgNxEwvGRia5HYwcOm9TgAA6BoR3jrzwFcAAAAASUVORK5CYII=\n",
       "\" style=\"display:inline;vertical-align:middle;\" /></a></td></tr>\n",
       "<tr><td>7</td><td>Variable</td><td></td><td><a class=\"ProveItLink\" href=\"../../../../../__pv_it/abeee18594afe51bfb1be95d9591fbba24ac53f30/expr.ipynb\"><img src=\"data:image/png;base64,iVBORw0KGgoAAAANSUhEUgAAAA0AAAAOBAMAAAAGUYvhAAAAMFBMVEX///8iIiIQEBCIiIjMzMzc\n",
       "3Nyqqqp2dnZEREQyMjK6urru7u5mZmZUVFSYmJgAAACI6eGPAAAAAXRSTlMAQObYZgAAAF1JREFU\n",
       "CNdjYGDgu3Nm3wIGBoZ5DNz9QIq3gIEhE0jHOzAwOAPp9QkMDC4g/megABAw///fCmbEXfq0Acxg\n",
       "qH8ANAVI7wfSe0BKAyBGnAXigwYMzA1A+sLau31ACgAz0hhbkhGHbwAAAABJRU5ErkJggg==\n",
       "\" style=\"display:inline;vertical-align:middle;\" /></a></td></tr>\n",
       "</table>\n"
      ],
      "text/plain": [
       "0. {A in S}\n",
       "   core type: Operation\n",
       "   operator: 1\n",
       "   operands: 2\n",
       "1. Set\n",
       "   core type: Literal\n",
       "   sub-expressions: \n",
       "2. (A in S)\n",
       "   core type: ExprTuple\n",
       "   sub-expressions: 3\n",
       "3. A in S\n",
       "   core type: Operation\n",
       "   operator: 4\n",
       "   operands: 5\n",
       "4. in\n",
       "   core type: Literal\n",
       "   sub-expressions: \n",
       "5. (A , S)\n",
       "   core type: ExprTuple\n",
       "   sub-expressions: 6, 7\n",
       "6. A\n",
       "   core type: Variable\n",
       "   sub-expressions: \n",
       "7. S\n",
       "   core type: Variable\n",
       "   sub-expressions: "
      ]
     },
     "execution_count": 4,
     "metadata": {},
     "output_type": "execute_result"
    }
   ],
   "source": [
    "# display the expression information\n",
    "expr.exprInfo()"
   ]
  },
  {
   "cell_type": "code",
   "execution_count": null,
   "metadata": {},
   "outputs": [],
   "source": []
  }
 ],
 "metadata": {
  "kernelspec": {
   "display_name": "Python 3",
   "language": "python",
   "name": "python3"
  }
 },
 "nbformat": 4,
 "nbformat_minor": 0
}
