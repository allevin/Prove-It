{
 "cells": [
  {
   "cell_type": "markdown",
   "metadata": {},
   "source": [
    "Expression of type <a class=\"ProveItLink\" href=\"../../../../../../../doc/html/api/proveit.logic.Set.html\">Set</a>\n",
    "=======================\n",
    "# from context <a class=\"ProveItLink\" href=\"../../_context_.ipynb\">proveit.logic.set_theory.membership</a>"
   ]
  },
  {
   "cell_type": "code",
   "execution_count": 1,
   "metadata": {},
   "outputs": [],
   "source": [
    "# import Expression classes needed to build the expression\n",
    "from proveit._common_ import S, x\n",
    "from proveit.logic import Booleans, InSet, Set"
   ]
  },
  {
   "cell_type": "code",
   "execution_count": 2,
   "metadata": {},
   "outputs": [
    {
     "data": {
      "text/html": [
       "<strong id=\"expr\">expr:</strong> <a class=\"ProveItLink\" href=\"expr.ipynb\"><img src=\"data:image/png;base64,iVBORw0KGgoAAAANSUhEUgAAAH0AAAAVBAMAAACZCfwhAAAAMFBMVEX////c3NxERESqqqpUVFS6\n",
       "urrMzMwyMjIQEBCIiIh2dnYiIiLu7u5mZmaYmJgAAABXZE4RAAAAAXRSTlMAQObYZgAAAf1JREFU\n",
       "OMtjYGDgu8dAFmBbJQCieHaByEg8Cp/iMqAZRHJ+ADEdsCvh8717LoA3AVVw+af6ik0GQMZ1EI+r\n",
       "AUiwH8Cuv46BR5+BoQBNVCGSp2YVkF4B1z8Tu3aWBQwM5gwMrzD0M0xlR9HfgyzNM333boiV8kCX\n",
       "ZzIwnEATB+q3YzmApJ8VxYXpb2CseKAv0xgYmAxQxUH2CyHbzwt0J4PUFOG5E4A0ow7cJPmf4KDj\n",
       "usCAIq4QybZPB6afF2g3+wOg6xbw7ePYABRgEoDr5/z/XxFIMYOdhxBXiN7/A2TTexAnI4CBgQOI\n",
       "uYAxyQyy7hCSV+Q8fgD9yQoKIiRxoPtnGoFiDeiulDYggx+on4eBRQEsG7F7Nyz8gGA90GlsH1DF\n",
       "gfqZWEFeVgdKRiRA9ANdMQGsIwWReoD4PFx/CrL9TAxAy7hBZrAAjeQwgMYWKBmdhqs7CxIUgLn/\n",
       "NIZ+sP+5gGHGBLSET2A+AydIP8sDmDpg0mG4AnIH2NUIcZj74fEHiiD7BxoMkuBkshWm7vYEBk4F\n",
       "ePwhxIH6305Cjn9WoBsOzTq1EmKD+DWoOocQFz0QzR6AIg7MP9otBijptxElfZtU70ZJkCdwiCP0\n",
       "v8JbUqzEIQ7Wz4cv/0LyTQEOCXD+59kJStsOePSzCOAof1ohqWQxkJDEo38anvIPABDqiGG8tGR0\n",
       "AAAAAElFTkSuQmCC\n",
       "\" style=\"display:inline;vertical-align:middle;\" /></a><br>"
      ],
      "text/plain": [
       "expr: {(x in S) in BOOLEANS}"
      ]
     },
     "execution_count": 2,
     "metadata": {},
     "output_type": "execute_result"
    }
   ],
   "source": [
    "# build up the expression from sub-expressions\n",
    "expr = Set(InSet(InSet(x, S), Booleans))"
   ]
  },
  {
   "cell_type": "code",
   "execution_count": 3,
   "metadata": {},
   "outputs": [
    {
     "name": "stdout",
     "output_type": "stream",
     "text": [
      "Passed sanity check: built 'expr' is the same as the stored Expression.\n"
     ]
    }
   ],
   "source": [
    "# check that the built expression is the same as the stored expression\n",
    "%check_expr"
   ]
  },
  {
   "cell_type": "code",
   "execution_count": 4,
   "metadata": {},
   "outputs": [
    {
     "data": {
      "text/html": [
       "<table><tr><th>&nbsp;</th><th>core type</th><th>sub-expressions</th><th>expression</th></tr>\n",
       "<tr><td>0</td><td>Operation</td><td>operator:&nbsp;1<br>operands:&nbsp;2<br></td><td><a class=\"ProveItLink\" href=\"expr.ipynb\"><img src=\"data:image/png;base64,iVBORw0KGgoAAAANSUhEUgAAAH0AAAAVBAMAAACZCfwhAAAAMFBMVEX////c3NxERESqqqpUVFS6\n",
       "urrMzMwyMjIQEBCIiIh2dnYiIiLu7u5mZmaYmJgAAABXZE4RAAAAAXRSTlMAQObYZgAAAf1JREFU\n",
       "OMtjYGDgu8dAFmBbJQCieHaByEg8Cp/iMqAZRHJ+ADEdsCvh8717LoA3AVVw+af6ik0GQMZ1EI+r\n",
       "AUiwH8Cuv46BR5+BoQBNVCGSp2YVkF4B1z8Tu3aWBQwM5gwMrzD0M0xlR9HfgyzNM333boiV8kCX\n",
       "ZzIwnEATB+q3YzmApJ8VxYXpb2CseKAv0xgYmAxQxUH2CyHbzwt0J4PUFOG5E4A0ow7cJPmf4KDj\n",
       "usCAIq4QybZPB6afF2g3+wOg6xbw7ePYABRgEoDr5/z/XxFIMYOdhxBXiN7/A2TTexAnI4CBgQOI\n",
       "uYAxyQyy7hCSV+Q8fgD9yQoKIiRxoPtnGoFiDeiulDYggx+on4eBRQEsG7F7Nyz8gGA90GlsH1DF\n",
       "gfqZWEFeVgdKRiRA9ANdMQGsIwWReoD4PFx/CrL9TAxAy7hBZrAAjeQwgMYWKBmdhqs7CxIUgLn/\n",
       "NIZ+sP+5gGHGBLSET2A+AydIP8sDmDpg0mG4AnIH2NUIcZj74fEHiiD7BxoMkuBkshWm7vYEBk4F\n",
       "ePwhxIH6305Cjn9WoBsOzTq1EmKD+DWoOocQFz0QzR6AIg7MP9otBijptxElfZtU70ZJkCdwiCP0\n",
       "v8JbUqzEIQ7Wz4cv/0LyTQEOCXD+59kJStsOePSzCOAof1ohqWQxkJDEo38anvIPABDqiGG8tGR0\n",
       "AAAAAElFTkSuQmCC\n",
       "\" style=\"display:inline;vertical-align:middle;\" /></a></td></tr>\n",
       "<tr><td>1</td><td>Literal</td><td></td><td><a class=\"ProveItLink\" href=\"../../../enumeration/__pv_it/07381ed5b23806e8d7914b78cb6667769e3708dd0/expr.ipynb\"><img src=\"data:image/png;base64,iVBORw0KGgoAAAANSUhEUgAAAB4AAAAOBAMAAADKyLEKAAAAMFBMVEX///8iIiIQEBCIiIjMzMzc\n",
       "3Nyqqqp2dnZEREQyMjK6urru7u5mZmZUVFSYmJgAAACI6eGPAAAAAXRSTlMAQObYZgAAALRJREFU\n",
       "CNdjYGDgu3Nm3wIGBJjHwN0PZW5yYGDgLWBgyITy8zcwMMQDxZyh/INAvD6BgcEFypcB4vjPDiBm\n",
       "TPFRrhs/LjMwMP//38rAwCbKEMPA9gEkE3fp0waG+AUMRxh4JkC01T9guPTOOICBEWgVH5C//wHD\n",
       "H5D4fqCz9oCMDGD4DLaegRXslLMMDMpAgxlOMmQxHDRgYG5gYLBk4D7KcIe7gOHC2rt9QCXsh40Z\n",
       "GCKMGQDRkC8N/Ph1XAAAAABJRU5ErkJggg==\n",
       "\" style=\"display:inline;vertical-align:middle;\" /></a></td></tr>\n",
       "<tr><td>2</td><td>ExprTuple</td><td>3</td><td><a class=\"ProveItLink\" href=\"../530f2dfd929fcafd1dd05d1f519b834262df443b0/expr.ipynb\"><img src=\"data:image/png;base64,iVBORw0KGgoAAAANSUhEUgAAAHcAAAAVBAMAAACOK2zoAAAAMFBMVEX////c3NwiIiJERESqqqqY\n",
       "mJh2dnZmZmYQEBDu7u4yMjJUVFTMzMyIiIi6uroAAAAs73DqAAAAAXRSTlMAQObYZgAAAetJREFU\n",
       "OMulVD1IW1EU/h5JjE+TR8HRJWQSQUghXQoF51LhVcHBgGRSOghOLYUKIbh0sBULUgQhCFJcbCUq\n",
       "qEtwdTCgHQoFYweRTik2SxHT79z7frjpi0sPfO+889335Z57zj0B/sucukY3SzSi+Wl5nHiIssKr\n",
       "19N4Y3I9nx//KeeBZI3BlocI63PxoYm+Djbm1NdWi0AFSNc1omwfiFeQKP4jTjeonAR6lzVCW9/I\n",
       "DqsX6xZI1WGXTJ7iuHsAfAR+QiOw1Kb/U85vRjxZ3uRl58sc/SheMhRYcztjC7I2EKRhtb8rPwuD\n",
       "p/h4gkHPPDYZClYx7pZl7WGYxEX75gHdUxh8zMm2l6DK8Y5OUMQFntHbuVBsFd6/pbuGwUva54yc\n",
       "Eu4YCpZR1QctZ7NewaSpLT5OTZ5i5K5YhGYgBpZ0Xb4EG7vcLxCHvBLHlHiR4aLXGFvSy/gf2fMk\n",
       "fwVpZzrFTPsRQ8HzdBPfZG3P/4gFQVL2m4LB+2knKqoPRLwVK1nqoq34g5AcAc7CVgU8xYmFnGrV\n",
       "D4aE/eTFzFdd4k81/VG/c1R15WXb4DkYN0O7cvMb6GUnBaHFD8Nqq9OWonleT7n2nVe/Ywa7jM3c\n",
       "/SOpbS2atllPDHroajvRdL+cVWps3fM3lK5F8xyav4wKhjOx2xZYAAAAAElFTkSuQmCC\n",
       "\" style=\"display:inline;vertical-align:middle;\" /></a></td></tr>\n",
       "<tr><td>3</td><td>Operation</td><td>operator:&nbsp;7<br>operands:&nbsp;4<br></td><td><a class=\"ProveItLink\" href=\"../95857e7f538d672d83b67a71660ff5163f3647690/expr.ipynb\"><img src=\"data:image/png;base64,iVBORw0KGgoAAAANSUhEUgAAAGgAAAAVBAMAAABYjraNAAAAMFBMVEX////c3NwiIiJERESqqqqY\n",
       "mJh2dnZmZmYQEBDu7u4yMjJUVFTMzMyIiIi6uroAAAAs73DqAAAAAXRSTlMAQObYZgAAAZxJREFU\n",
       "OMtjYCAL8F3ALcf6AIfEaRzi0eWVcQw1qGJs661+NZkAGSux6+EKYJj8gYELTZSZ78KsaQkMvDhc\n",
       "t42BgWUBA2sChibeBwsYOCYgC85dpKQFZjD+YWDgucDA2YAqDtTEErCT4RWyHp6lMCP4vgB5BxgY\n",
       "TFDFQTY9NGAoAxmbu9G3FiQmDLeW8f8dMJ3OgCIO1HQoeALDUiBzGkNQQBNIzBBh6f3/nwWAlBcD\n",
       "ijgzn9L/XgaGPiAzgeE+gw+Q5jRAaGKM7u8EUi8YUMRBzrtiwPAPyJzAsBnikSYlJWhAgCLlK5A4\n",
       "jyoO1MRg8AysiYGhF+LfDXCLAoDmwzUhxMGamBlaoAHMCXKGAkySswAo+BHuPAU0TaZAZiDvB4ab\n",
       "ILGtMElgvDKwg8yPYkARhzoPGKYsX5kbGMEJYxIsgbLrMjBcRgQ5XByoibXWgOER0HbbzLSrkCBb\n",
       "fgAiyc23e3MAiLEORRyYYD9rbGFg4BBAThIsuxChB/ZNA1Zx9CSJlhdwJOeV+DTNwiEujU/TRhzi\n",
       "jHiyO+8BrMIATOVt+0dxm7sAAAAASUVORK5CYII=\n",
       "\" style=\"display:inline;vertical-align:middle;\" /></a></td></tr>\n",
       "<tr><td>4</td><td>ExprTuple</td><td>5, 6</td><td><a class=\"ProveItLink\" href=\"../de4ab712a8f878504fbd2af00eb35edeefe0bcbd0/expr.ipynb\"><img src=\"data:image/png;base64,iVBORw0KGgoAAAANSUhEUgAAAFUAAAAVBAMAAADFg78FAAAAMFBMVEX////c3NwiIiJERESqqqqY\n",
       "mJh2dnZmZmYQEBDu7u4yMjJUVFTMzMyIiIi6uroAAAAs73DqAAAAAXRSTlMAQObYZgAAAZNJREFU\n",
       "KM9jYCAF8F0gSlkciDiNXY51e/nUB0Cabb3VryYTBgb2A0DOSuxqlzJw2oMZzHwXZk1LYGBYwMDA\n",
       "i90J3EBZL5ha3gdAhWEMDBwTkJXMXaSkBWbIA608C1PLErCTgWEGA8MrZKU8S2E63zswMJyBm/vQ\n",
       "AEg7MJQBuWK3Ra6DnSIMt0T+7wEoC6j2UDBQnK0A6AcGzgRWVQ4FkLgh3Abe//8NYWqV/vcCaZYF\n",
       "DH1AHQy8H1hAxnAaIJwjuuPHBLgbrgAl+BoY/gGVMHBDFPE1KSlB/QYE+QEwtQwGz4B++QBSCwwM\n",
       "SMDxbIDHBBDPR1LLDFbbAg0hkIWcCjC100GCAihqgW4wBRoicJ+BF+y4rTC1oGioZgAbAHMD6wKG\n",
       "dAYG/wALBlmwkkkPoGqLLjDwGjBwfoKoZa01AIfZIwaGydem5ULcxrgcGqobXu8GWsjZLwBKO581\n",
       "tgCFuB4wcAggRxzLLkQ4gAIGSRIYx6wJeBItKxI7F3eaRFfLCUxqDNJ41CKlV26QcxiJy0N3GBgA\n",
       "SVtkhCVinHMAAAAASUVORK5CYII=\n",
       "\" style=\"display:inline;vertical-align:middle;\" /></a></td></tr>\n",
       "<tr><td>5</td><td>Operation</td><td>operator:&nbsp;7<br>operands:&nbsp;8<br></td><td><a class=\"ProveItLink\" href=\"../269dcb9abf61389766c1a70edd07ce806798e9270/expr.ipynb\"><img src=\"data:image/png;base64,iVBORw0KGgoAAAANSUhEUgAAADMAAAAPBAMAAAC7N+rPAAAAMFBMVEX///+6uroyMjJERETMzMwQ\n",
       "EBAiIiKYmJju7u5mZmaqqqpUVFSIiIh2dnbc3NwAAAAWgogoAAAAAXRSTlMAQObYZgAAAM1JREFU\n",
       "GNNjYMAG2HfObBfAKsOgzsBhj12G+wIDwyIUkR61tCQw470DA4MPsgyLegOUJb+AgcEFSL89/erk\n",
       "AZDAY5gMw/s/DiCK4wJ7OmsCiGUH18/z/z+Iw8vA84ELpIjDAGH2861fgUZwMHBDxBjD0tKgzgCC\n",
       "+wUgkvUAxBUb4B4G4v4CqFNBDuBIgEl1ggQfAJU8OM/AA3bbdpgUyLezgXh9gSnDG7BIGyzUph1g\n",
       "4AHZ33y29w7YXAY+TQeI1Abp3eZoQce1CeFCIAAAnqEy768c/WoAAAAASUVORK5CYII=\n",
       "\" style=\"display:inline;vertical-align:middle;\" /></a></td></tr>\n",
       "<tr><td>6</td><td>Literal</td><td></td><td><a class=\"ProveItLink\" href=\"../../../../boolean/__pv_it/46271c8230be96415d662709611f4ed2279d702b0/expr.ipynb\"><img src=\"data:image/png;base64,iVBORw0KGgoAAAANSUhEUgAAAA0AAAAOBAMAAAAGUYvhAAAAMFBMVEX///9mZmbMzMzc3NxUVFSY\n",
       "mJju7u6IiIi6urqqqqoiIiIQEBBEREQyMjJ2dnYAAAAQvcRZAAAAAXRSTlMAQObYZgAAAElJREFU\n",
       "CNdjePvn/u01ExgYGA60s117B6YZKngh9FSWBAjfBsxnWnoMRHet/10AkS+fA6F5OB5AaIYDqDRU\n",
       "PLCGgQFoz6ktExgAgLIl8DFvGtkAAAAASUVORK5CYII=\n",
       "\" style=\"display:inline;vertical-align:middle;\" /></a></td></tr>\n",
       "<tr><td>7</td><td>Literal</td><td></td><td><a class=\"ProveItLink\" href=\"../088cbc857536a28d4119ad9639a84270ccb0545d0/expr.ipynb\"><img src=\"data:image/png;base64,iVBORw0KGgoAAAANSUhEUgAAAAwAAAAMBAMAAACkW0HUAAAALVBMVEX///+qqqpmZmZUVFQQEBC6\n",
       "urpERETc3NyYmJjMzMwiIiIyMjKIiIju7u4AAACYsrA9AAAAAXRSTlMAQObYZgAAADxJREFUCNdj\n",
       "YOA9vWrVBgaG2b0MQMCeCyIZ2ArA1DUwyRCyahVIyWQI7xaEYm4AU7xLIdxqTQgtvGvVBgCkcQ7e\n",
       "geM/tQAAAABJRU5ErkJggg==\n",
       "\" style=\"display:inline;vertical-align:middle;\" /></a></td></tr>\n",
       "<tr><td>8</td><td>ExprTuple</td><td>9, 10</td><td><a class=\"ProveItLink\" href=\"../75ea65b79fca5a7e0a4b0a55cd46edaf622a0d8e0/expr.ipynb\"><img src=\"data:image/png;base64,iVBORw0KGgoAAAANSUhEUgAAAC8AAAAVBAMAAAAk6KpUAAAAMFBMVEX////c3NwiIiJERESqqqqY\n",
       "mJh2dnZmZmYQEBDu7u4yMjJUVFTMzMyIiIi6uroAAAAs73DqAAAAAXRSTlMAQObYZgAAARhJREFU\n",
       "KM9jYMAJ+C5gisWBiNOoYqzby6c+YD8AZK1ElVjKwGnPwLCAgYEX1STuBAYGLwaGMAYGjgkoEvJA\n",
       "Q84yMMxgYHiFatJ7BwaGMwwMzA4MZUCe2G2R61AT5f+C7GVgKwBaxsCZwKrKoQCR4P3/3xBIsSxg\n",
       "6ANKM/B+YDkANUt0xw+grXwNDP+AOhi4DZCsyQ9gYOD5AJIAOg3mZlYgng+RaIE6EuLq6SCOANgo\n",
       "U6AygfsMvBPAUkC/MVSDdC5gSGdg8A+wYJBl4PwEFCi6wMBrAHHuIwaGydem5QYwcPYDjdjwercp\n",
       "yEiuBwwcAvDwF0C4DBgkrAkMSC6CgVzkYEeS4AQGO4M0jIcU/twgUxmxRO0dBgYA4X0+BGW7KnUA\n",
       "AAAASUVORK5CYII=\n",
       "\" style=\"display:inline;vertical-align:middle;\" /></a></td></tr>\n",
       "<tr><td>9</td><td>Variable</td><td></td><td><a class=\"ProveItLink\" href=\"../../../../../__pv_it/530be409e3083890784cf1d7b28c9e67e90af9360/expr.ipynb\"><img src=\"data:image/png;base64,iVBORw0KGgoAAAANSUhEUgAAAAsAAAAJBAMAAAAWSsseAAAAKlBMVEX///9ERETMzMwQEBAiIiKY\n",
       "mJju7u5mZmaqqqpUVFSIiIh2dnbc3NwAAAA/vyDhAAAAAXRSTlMAQObYZgAAAENJREFUCNdjYDi9\n",
       "8sTyBQxsG1hdmR0YuBm4LnAoMLAxcAowgADzAjB1VoEhgYH1wFoGrgSG3gBhhlMMDImrs3cFMAAA\n",
       "t0YN+iTRa+sAAAAASUVORK5CYII=\n",
       "\" style=\"display:inline;vertical-align:middle;\" /></a></td></tr>\n",
       "<tr><td>10</td><td>Variable</td><td></td><td><a class=\"ProveItLink\" href=\"../../../../../__pv_it/abeee18594afe51bfb1be95d9591fbba24ac53f30/expr.ipynb\"><img src=\"data:image/png;base64,iVBORw0KGgoAAAANSUhEUgAAAA0AAAAOBAMAAAAGUYvhAAAAMFBMVEX///8iIiIQEBCIiIjMzMzc\n",
       "3Nyqqqp2dnZEREQyMjK6urru7u5mZmZUVFSYmJgAAACI6eGPAAAAAXRSTlMAQObYZgAAAF1JREFU\n",
       "CNdjYGDgu3Nm3wIGBoZ5DNz9QIq3gIEhE0jHOzAwOAPp9QkMDC4g/megABAw///fCmbEXfq0Acxg\n",
       "qH8ANAVI7wfSe0BKAyBGnAXigwYMzA1A+sLau31ACgAz0hhbkhGHbwAAAABJRU5ErkJggg==\n",
       "\" style=\"display:inline;vertical-align:middle;\" /></a></td></tr>\n",
       "</table>\n"
      ],
      "text/plain": [
       "0. {(x in S) in BOOLEANS}\n",
       "   core type: Operation\n",
       "   operator: 1\n",
       "   operands: 2\n",
       "1. Set\n",
       "   core type: Literal\n",
       "   sub-expressions: \n",
       "2. ((x in S) in BOOLEANS)\n",
       "   core type: ExprTuple\n",
       "   sub-expressions: 3\n",
       "3. (x in S) in BOOLEANS\n",
       "   core type: Operation\n",
       "   operator: 7\n",
       "   operands: 4\n",
       "4. (x in S , BOOLEANS)\n",
       "   core type: ExprTuple\n",
       "   sub-expressions: 5, 6\n",
       "5. x in S\n",
       "   core type: Operation\n",
       "   operator: 7\n",
       "   operands: 8\n",
       "6. BOOLEANS\n",
       "   core type: Literal\n",
       "   sub-expressions: \n",
       "7. in\n",
       "   core type: Literal\n",
       "   sub-expressions: \n",
       "8. (x , S)\n",
       "   core type: ExprTuple\n",
       "   sub-expressions: 9, 10\n",
       "9. x\n",
       "   core type: Variable\n",
       "   sub-expressions: \n",
       "10. S\n",
       "    core type: Variable\n",
       "    sub-expressions: "
      ]
     },
     "execution_count": 4,
     "metadata": {},
     "output_type": "execute_result"
    }
   ],
   "source": [
    "# display the expression information\n",
    "expr.exprInfo()"
   ]
  },
  {
   "cell_type": "code",
   "execution_count": null,
   "metadata": {},
   "outputs": [],
   "source": []
  }
 ],
 "metadata": {
  "kernelspec": {
   "display_name": "Python 3",
   "language": "python",
   "name": "python3"
  }
 },
 "nbformat": 4,
 "nbformat_minor": 0
}
