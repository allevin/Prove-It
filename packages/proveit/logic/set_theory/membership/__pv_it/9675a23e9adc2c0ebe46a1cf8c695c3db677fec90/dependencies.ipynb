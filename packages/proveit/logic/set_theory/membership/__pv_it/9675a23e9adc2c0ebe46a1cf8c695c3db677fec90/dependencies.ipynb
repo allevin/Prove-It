{
 "cells": [
  {
   "cell_type": "markdown",
   "metadata": {},
   "source": [
    "Axiom Dependencies\n",
    "=======================\n",
    "\n",
    "## <a class=\"ProveItLink\" href=\"../../_context_.ipynb\">proveit.logic.set_theory.membership</a>.<a class=\"ProveItLink\" href=\"../../_axioms_.ipynb#notInSetDef\">notInSetDef</a> \n"
   ]
  },
  {
   "cell_type": "code",
   "execution_count": 1,
   "metadata": {},
   "outputs": [],
   "source": [
    "from proveit.logic.set_theory.membership._axioms_ import notInSetDef"
   ]
  },
  {
   "cell_type": "code",
   "execution_count": 2,
   "metadata": {},
   "outputs": [
    {
     "data": {
      "text/html": [
       "<h3>Theorems that depend directly on notInSetDef</h3>"
      ],
      "text/plain": [
       "<IPython.core.display.HTML object>"
      ]
     },
     "metadata": {},
     "output_type": "display_data"
    },
    {
     "data": {
      "text/html": [
       "<dl>"
      ],
      "text/plain": [
       "<IPython.core.display.HTML object>"
      ]
     },
     "metadata": {},
     "output_type": "display_data"
    },
    {
     "data": {
      "text/html": [
       "<dt><a class=\"ProveItLink\" href=\"../../_proofs_/foldNotInSet.ipynb\">proveit.logic.set_theory.membership.foldNotInSet</a></dt><dd><a class=\"ProveItLink\" href=\"../cc89d3a349f1988024d3af48d40aff2abaeba1330/expr.ipynb\"><img src=\"data:image/png;base64,iVBORw0KGgoAAAANSUhEUgAAALwAAAAXCAMAAACGTNW0AAAAQlBMVEX///9bW1sNDQ0JCQkdHR0P\n",
       "Dw8WFhYQEBC6urrMzMxUVFRmZmZERETc3NwyMjKqqqp2dnaIiIiYmJgiIiLu7u4AAAAq2h4+AAAA\n",
       "AXRSTlMAQObYZgAAArVJREFUWMPNV4mS5CAIzZ7eF+L//+qqicaQmHTXbk2vVTMdD/ABD9Rl+a8b\n",
       "x9tp/DC6cDsdZ/CA1+m9H74eu5DvTYNUSmFBrkTuetcm7AeC8LCn4mQ5FK7oVL/zn9HbRP/4whYe\n",
       "gh2PXenrj7M1CH4wXrmvB8/mjsdg4+9f0Q5DJomVTNVkZNUCU1v8QLbaOdst4KLNcXla/StWG3Tp\n",
       "JV1a9H8Dw4jnNefIqran8UEaF1RnkdE5JkhsMymFYR+vCpPqALGyOUB5H6BL8Bn2G8u7CnFaVPOv\n",
       "MCDPQISF9ehXNKeMCCm3DrRSn5d6hJcR5KpGq/dnOX2T64MKT21n24CvwDKc5iXU16XIgGSpJQpn\n",
       "LacDzLNdP4F04ZxuuR4DUXFyUOL7QSlH3ZzFGH/+yP/OPvVpgyqqRwrwy6MMUx2FJ/AnygXNDSJS\n",
       "FVJcg69RCPRw8iRJGseO4LNH2lGWE4eHfY/IjqGegGdEGNQQvEEFJTFzpAw2D2I8F3lUbaUZaZM9\n",
       "J9cNPJbw7TpRsZTcE3hhibA97Lmr4OS015sPwVTKL6GHX8KaLCM3N62qKYF1wKnYq4kl5DeSXYL3\n",
       "em22Y+rCtKx0FYIw2K/4XCaCzkvMHhiMnHJMxbAykkiPhEs7f5GvHLv1fB5y8igs4mpXoCooeB63\n",
       "2hI8lno6Gmy/E/AyO0lKvS+yGx2hx0tkDzQpV6Mt9BN4ro/CuLPjqIJTeWamJRa+SXtZbbprGSFv\n",
       "WrytZdfYrFZpWkquwdf0GoQX2UWOKoAeUzA/3LR5OLA9yf4cP6dyCAsSKFfmXKyVua82oj0ZduH8\n",
       "2QrMUYXiL1+JH++4aG8m4Y2TNJyuLX7jPIF6xjh7jFwfmmMK3ERGmDfA42tPAXdxezfh7QvHapx4\n",
       "1/FTlQ5eAS8/+1yebg8vXIn9P39m/gECKiPG9Qg3JQAAAABJRU5ErkJggg==\n",
       "\" style=\"display:inline;vertical-align:middle;\" /></a></dd>"
      ],
      "text/plain": [
       "<IPython.core.display.HTML object>"
      ]
     },
     "metadata": {},
     "output_type": "display_data"
    },
    {
     "data": {
      "text/html": [
       "<dt><a class=\"ProveItLink\" href=\"../../_proofs_/notInSetInBool.ipynb\">proveit.logic.set_theory.membership.notInSetInBool</a></dt><dd><a class=\"ProveItLink\" href=\"../4bee646dd0c136f8501ac7a786b22e9824f0f88f0/expr.ipynb\"><img src=\"data:image/png;base64,iVBORw0KGgoAAAANSUhEUgAAAP0AAAAXCAMAAAD3NLkqAAAARVBMVEX///8sLCxlZWUbGxsJCQkd\n",
       "HR0PDw8WFhYQEBC6urrMzMxUVFRmZmZERETc3NwyMjKqqqp2dnaIiIiYmJgiIiLu7u4AAAA/PWo8\n",
       "AAAAAXRSTlMAQObYZgAAA5BJREFUWMPdWNmy3CoMJMtNMDsI+P9PvYDNIoztmVSqJgnnQeNDa6wW\n",
       "UgNDyN82tvAbvyz8ObQcthfDX0QM21tv2+G+P7uPkmcc2wdYi5oLIULmItito9VR6qipl6Y8F7g1\n",
       "dVp/tgzq6x/CEHiJNeT6lbF8fniDzGUVdLCWVLiSx1z78JnhHLaXhY+e+E7EFOJgX2BP3HakqcBr\n",
       "roX5KHsasF0olNPe//wxrrCKe7WzkrJAz3jv9cTeAOGhwcGqMvxnJU9ju2h4DSloqZBX3JeM7UmQ\n",
       "5oRfrX2t8gKPMg9v3w9ZsUfIqwUlLLbKOq6ME60PlMxcAk6OitENMVgxTMmwrHzmoc4UOC/+OKkt\n",
       "gcJaB/0FSHLUdcKaH3sxqUW9ug3JDTwQ2ipyj29WBRfTaKGbITcLPom99zFSN8I3fk5qJStKeY1f\n",
       "QC4ervws1mjQNv0JOLX9hqwtzFKANfFBrjcEBZzGqhVbb/wgL1XPGTnCc34dXAusXBM27iRLaeuF\n",
       "ya+mtU66xCy4bT6axA3ZTIePL9toVrD/vo8q1go+HsGzOOFXqpeNHeCZ+fIEFWL5L6zZz7Xl5KZC\n",
       "CLPf3lhtMrMnNsA9+1IG7nTIsVhGoIZ5Zr86MzX2B40dnpangpPWbI63Pvd0KtyRPcUeMEjO6Fda\n",
       "tU9m9psTc7KpwbbuZhUX/HmzD6Ii1bny/TP7Ay4VP9ot5HrrEQRBYzRr9kxjD43i6n5FVvqkI0JQ\n",
       "f+ozCciCKm1PXMsSh0NOhtY7vlXwJirDOQiu2R+Vf8CN8E3S9eSlOF2zL6y6xyzuzS9naZgslS/Y\n",
       "rBl1s9qtSbUsk79yw2JuhOMdVni3N9Vqx8v4JXsQ1aHChxaLvZvDtnfVmr3hyIP5cmyQbvYr7Pvk\n",
       "3vdk3gg3P9ognQ15zxzTqcU37MPTCnAuO0hvGM/OtxzpKTcTvJ+KWMp4dTIFxuTF2kvkEbrMYL+M\n",
       "GyYv2BOqsF2Mr1+0X2l+Wy06nbT4LX6GJxG0umy2SqcghDxJuyRYV7oH4Q2H/QBP7pWvTneZekW5\n",
       "uapIdX9isu9d0Wd4KjgjUs1lVpC7M23RQl1pft4ku0f6WOsO+5UraZsspx0p4RduuE+X0KDfIn8L\n",
       "h4tL4rC/z2d4e7T2xOpuEskktuc7MNzT4eot9ndwph7Zh5d+EDAvl2PtBuXI47tXyWFvkb+FwwsR\n",
       "GHglxeTfGZgLPKfbhj+Zzv8V5TkK2cdIzgAAAABJRU5ErkJggg==\n",
       "\" style=\"display:inline;vertical-align:middle;\" /></a></dd>"
      ],
      "text/plain": [
       "<IPython.core.display.HTML object>"
      ]
     },
     "metadata": {},
     "output_type": "display_data"
    },
    {
     "data": {
      "text/html": [
       "<dt><a class=\"ProveItLink\" href=\"../../_proofs_/unfoldNotInSet.ipynb\">proveit.logic.set_theory.membership.unfoldNotInSet</a></dt><dd><a class=\"ProveItLink\" href=\"../6525bbeef2cb10318de7964d1aaabdb4a41b438c0/expr.ipynb\"><img src=\"data:image/png;base64,iVBORw0KGgoAAAANSUhEUgAAAMIAAAAXCAMAAABuzGCfAAAAQlBMVEX///8SEhIoKCgtLS0/Pz96\n",
       "enovLy8QEBC6urrMzMxUVFRmZmZERETc3NwyMjKqqqp2dnaIiIiYmJgiIiLu7u4AAABYADVeAAAA\n",
       "AXRSTlMAQObYZgAAAp5JREFUWMPVWImO4yAMZU8OY27+/1eXI4SkMRNFM11pLFVOMSZ+vnDL2Pen\n",
       "9B/eIfxTwQ0FceRxrvs3IZDqqWBluQKAVO0G2Vcad3ZsMO8KyPLgh280oWaNzu15rJUP6u3L/vDV\n",
       "5P1TAU3KNWab9cFtgXEHV4B9EwSengqKr72JhcxhCXNPHtmAJ75t5A0HNorvqmXzVFDMNOECT+Tu\n",
       "Y9mR6M3jjWddKbpPmjq6xCvB6uAhQOcVWg8zrVAT8cGcvZxfHRy4agKNpDvAOR+mplhD0LRGL8Jl\n",
       "dZZUKEhCDIzPNKBt8bnQLrLmwEVtbYmMqoAWwYudBCHQGox32BB3cieBa9YVW3bYafEWDIrnUUCC\n",
       "H3mF70lfxVe79aL4AP7+oTVYFovbYBNUk9TpXMEH2KtfXd4MlfnIq/mR6g4pt9VwA8Frgel3ojVu\n",
       "IbSA+NsbLwyTSAgliYZWqSzh1R7SyJ2gEv60NdTckW6hwbhdQJiC3i93JyaiOSYYW5FKpFI+asvL\n",
       "VGM6z07Ac7YkhLm1RRtwocF0WEDYBAFbKTA/80Bds3pUL4wIBXPiFuLecF4bCCpOQti3dv/rlcbe\n",
       "/Q4YjgJbMkMXBTzkUoqXzgfR95wlm+o5F/NsaEn07GOLWuhbZSy3yq+f2tMaTKzuzC5I2rtU+/DJ\n",
       "bwbky3RRGqdSh4gacebzLpR89xKzLSGkXkDYtqYaWpVWGsU/uBowcH3LWGXIjrS7l5/5blRmzrRO\n",
       "jaYcD/pyz+jrVqaww2CkxpzIrk3mEwOB82c+7xRvocS1WhjqMF7Gc0CyI82t5VEEO8b3i8YXDttH\n",
       "S82Z0y76aIp4dcmPUg7ryRnVU8H94I1nTg5H+AACwscvRP9UcPcTRJ75gyCsoiC+0Z8F6sHq/6J/\n",
       "UNYkubwxWM4AAAAASUVORK5CYII=\n",
       "\" style=\"display:inline;vertical-align:middle;\" /></a></dd>"
      ],
      "text/plain": [
       "<IPython.core.display.HTML object>"
      ]
     },
     "metadata": {},
     "output_type": "display_data"
    },
    {
     "data": {
      "text/html": [
       "</dl>"
      ],
      "text/plain": [
       "<IPython.core.display.HTML object>"
      ]
     },
     "metadata": {},
     "output_type": "display_data"
    }
   ],
   "source": [
    "%dependencies notInSetDef"
   ]
  }
 ],
 "metadata": {
  "kernelspec": {
   "display_name": "Python 3",
   "language": "python",
   "name": "python3"
  }
 },
 "nbformat": 4,
 "nbformat_minor": 0
}
