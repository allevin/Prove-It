{
 "cells": [
  {
   "cell_type": "markdown",
   "metadata": {},
   "source": [
    "Expression of type <a class=\"ProveItLink\" href=\"../../../../../../../doc/html/api/proveit.logic.Forall.html\">Forall</a>\n",
    "=======================\n",
    "# from context <a class=\"ProveItLink\" href=\"../../_context_.ipynb\">proveit.logic.set_theory.membership</a>"
   ]
  },
  {
   "cell_type": "code",
   "execution_count": 1,
   "metadata": {},
   "outputs": [],
   "source": [
    "# import Expression classes needed to build the expression\n",
    "from proveit._common_ import S, x\n",
    "from proveit.logic import Forall, InSet, Not, NotInSet"
   ]
  },
  {
   "cell_type": "code",
   "execution_count": 2,
   "metadata": {},
   "outputs": [
    {
     "data": {
      "text/html": [
       "<strong id=\"expr\">expr:</strong> <a class=\"ProveItLink\" href=\"expr.ipynb\"><img src=\"data:image/png;base64,iVBORw0KGgoAAAANSUhEUgAAALMAAAAXCAMAAAB3R445AAAARVBMVEX///8fHx9vb28oKCgtLS0/\n",
       "Pz9RUVEvLy8QEBC6urrMzMxUVFRmZmZERETc3NwyMjKqqqp2dnaIiIiYmJgiIiLu7u4AAAAP86r6\n",
       "AAAAAXRSTlMAQObYZgAAAn1JREFUWMPVV4ly3CAM3Z7hFDf//6kVhw2sIR7STabVTEZehOwn6UmQ\n",
       "x+M/lPApb6V21/C+ONpr39btyyAzvmtYQOVCiJCAClZWsjb62KBel/Llq/a+oVwigoz5+VjDP5D1\n",
       "x/nw92LtrmEq3GSlM1xnaupNF7rQL8NMwq4B02mVR1FtBWLhA8uBBlL3kQwcsvjXNaDaNSAw5Z7j\n",
       "obFkkRXosuY06yiTePPRXr6IMDcGMJaDtqIxBeS1AhCjZe2nEZ3m2SChBiyMse7cS9eYD/4/edTW\n",
       "WfYUlhehO+8epJX2+PrI/ohyWrTqNE3zJ9QVKnJVLsCuAmLugawtgQp/ihkMJuPBr59xhvlnwHES\n",
       "jx6gpNcpXFtz45+QylXHiLffbuqBZKOLqVwNCQQfXkzJEd2F8SZWZCz2OuH1JZoQs3Y3mK2k8CuE\n",
       "qcc95pxye3fU1DeGOWbkxenkiaEz0uaQLac2sd8hHZhZeCAevcDcDGWOnX0XrkMriGMnzLiBHcDp\n",
       "uZXEqKeYTUgVTd9NBRSw8EAft8BcDQ4ynR+2zQp+aduj5cSRTacGrUUfJ3AyxUyPxs8pliuPNpU6\n",
       "0L1BY7UlOkBHj+Cf+SS8LSyczrqOXYEWCj0WfC51Yl7Knz+ktFMPDG51PBVDkNaENB6HEaEEGw9u\n",
       "nGecdyVTdNTHGaRzjZlcYGYkpyxgufjSI6UAVmc3rMe95mo2N85KkFG3gsjnAd/AYL8aVYYrh8CX\n",
       "Ht195joLtg/bbgCMumFmeF8VMJ0bWFItsKr58bteerzwLtqnWY36PVmcKd/SFWV9sQS+a7i9l8Ko\n",
       "9zGDuHEDu2u4uZGzUX8As6H/8r+4fGP1q+QPo3IkqwbS8XcAAAAASUVORK5CYII=\n",
       "\" style=\"display:inline;vertical-align:middle;\" /></a><br>"
      ],
      "text/plain": [
       "expr: forall_{S | x not-in S} [not](x in S)"
      ]
     },
     "execution_count": 2,
     "metadata": {},
     "output_type": "execute_result"
    }
   ],
   "source": [
    "# build up the expression from sub-expressions\n",
    "expr = Forall([S], Not(InSet(x, S)), conditions = [NotInSet(x, S)])"
   ]
  },
  {
   "cell_type": "code",
   "execution_count": 3,
   "metadata": {},
   "outputs": [
    {
     "name": "stdout",
     "output_type": "stream",
     "text": [
      "Passed sanity check: built 'expr' is the same as the stored Expression.\n"
     ]
    }
   ],
   "source": [
    "# check that the built expression is the same as the stored expression\n",
    "%check_expr"
   ]
  },
  {
   "cell_type": "code",
   "execution_count": 4,
   "metadata": {},
   "outputs": [
    {
     "data": {
      "text/html": [
       "<table><tr><th>&nbsp;</th><th>core type</th><th>sub-expressions</th><th>expression</th></tr>\n",
       "<tr><td>0</td><td>Operation</td><td>operator:&nbsp;1<br>operand:&nbsp;2<br></td><td><a class=\"ProveItLink\" href=\"expr.ipynb\"><img src=\"data:image/png;base64,iVBORw0KGgoAAAANSUhEUgAAALMAAAAXCAMAAAB3R445AAAARVBMVEX///8fHx9vb28oKCgtLS0/\n",
       "Pz9RUVEvLy8QEBC6urrMzMxUVFRmZmZERETc3NwyMjKqqqp2dnaIiIiYmJgiIiLu7u4AAAAP86r6\n",
       "AAAAAXRSTlMAQObYZgAAAn1JREFUWMPVV4ly3CAM3Z7hFDf//6kVhw2sIR7STabVTEZehOwn6UmQ\n",
       "x+M/lPApb6V21/C+ONpr39btyyAzvmtYQOVCiJCAClZWsjb62KBel/Llq/a+oVwigoz5+VjDP5D1\n",
       "x/nw92LtrmEq3GSlM1xnaupNF7rQL8NMwq4B02mVR1FtBWLhA8uBBlL3kQwcsvjXNaDaNSAw5Z7j\n",
       "obFkkRXosuY06yiTePPRXr6IMDcGMJaDtqIxBeS1AhCjZe2nEZ3m2SChBiyMse7cS9eYD/4/edTW\n",
       "WfYUlhehO+8epJX2+PrI/ohyWrTqNE3zJ9QVKnJVLsCuAmLugawtgQp/ihkMJuPBr59xhvlnwHES\n",
       "jx6gpNcpXFtz45+QylXHiLffbuqBZKOLqVwNCQQfXkzJEd2F8SZWZCz2OuH1JZoQs3Y3mK2k8CuE\n",
       "qcc95pxye3fU1DeGOWbkxenkiaEz0uaQLac2sd8hHZhZeCAevcDcDGWOnX0XrkMriGMnzLiBHcDp\n",
       "uZXEqKeYTUgVTd9NBRSw8EAft8BcDQ4ynR+2zQp+aduj5cSRTacGrUUfJ3AyxUyPxs8pliuPNpU6\n",
       "0L1BY7UlOkBHj+Cf+SS8LSyczrqOXYEWCj0WfC51Yl7Knz+ktFMPDG51PBVDkNaENB6HEaEEGw9u\n",
       "nGecdyVTdNTHGaRzjZlcYGYkpyxgufjSI6UAVmc3rMe95mo2N85KkFG3gsjnAd/AYL8aVYYrh8CX\n",
       "Ht195joLtg/bbgCMumFmeF8VMJ0bWFItsKr58bteerzwLtqnWY36PVmcKd/SFWV9sQS+a7i9l8Ko\n",
       "9zGDuHEDu2u4uZGzUX8As6H/8r+4fGP1q+QPo3IkqwbS8XcAAAAASUVORK5CYII=\n",
       "\" style=\"display:inline;vertical-align:middle;\" /></a></td></tr>\n",
       "<tr><td>1</td><td>Literal</td><td></td><td><a class=\"ProveItLink\" href=\"../../../../boolean/quantification/universal/__pv_it/265f8c02ac1094d56e0e6410a1c1fd3500dc9f540/expr.ipynb\"><img src=\"data:image/png;base64,iVBORw0KGgoAAAANSUhEUgAAAAwAAAAQBAMAAADQT4M0AAAAMFBMVEX///8QEBC6urrMzMxUVFRm\n",
       "ZmZERETc3NwyMjKqqqp2dnaIiIiYmJgiIiLu7u4AAAAU9Wx4AAAAAXRSTlMAQObYZgAAAFhJREFU\n",
       "CNdjeMAABhdAxGmGlSCqj6EMSLInMHAAJVknMPAsLy+vBYp8S0u7BaScGRjSgZQKA18DkOJl4D4A\n",
       "pLgP8IJM4mswARuX7gSmpoKNZWDcAKZ4gCoAgTQTILaSE58AAAAASUVORK5CYII=\n",
       "\" style=\"display:inline;vertical-align:middle;\" /></a></td></tr>\n",
       "<tr><td>2</td><td>Lambda</td><td>parameter:&nbsp;12<br>body:&nbsp;3<br>conditions:&nbsp;4<br></td><td><a class=\"ProveItLink\" href=\"../760862fb1163ecf1516553f7b3c189cbfbcdf8c00/expr.ipynb\"><img src=\"data:image/png;base64,iVBORw0KGgoAAAANSUhEUgAAANkAAAAVCAMAAAD8SruLAAAARVBMVEX///9bW1sJCQkdHR0PDw8W\n",
       "FhYUFBQNDQ0iIiIQEBCIiIjMzMzc3Nyqqqp2dnZEREQyMjK6urru7u5mZmZUVFSYmJgAAADXIhy2\n",
       "AAAAAXRSTlMAQObYZgAAAlBJREFUWMPNV9m2pCAM9C5zLyCyw/9/6qA0NiHKMseHyUPntNGqFCRB\n",
       "l+X/tY2P3KXNY4SazQY65jX02YQeeZo0lXlnrTV+CGl1s4EuqV3TlexnlCFWoEX5+GNkGEpImdnA\n",
       "ze0FqcrX5pVZfQ+7OJHKWo0kxNhs4NoAqRev9RbTykgDlodUBOtQatTMBuISMkWilSsHSQ193Uhn\n",
       "lO2wf74bsDps6d86Mj7UbCACK49UV6Qy/Tv9iLIDVvIGLA+BQVEwya1ks+Ku3nOAC+b4xuxZAVxe\n",
       "7GZFKiz0SBlCTbBGNWFZiFaKr2vXVA16OxD2EokKPfELPUHk5bEESXOPg14vlGHUBIuau9LCvaOh\n",
       "6JNKmXHv3Ghis+Q0AQKLOOBjjnnpjLxeCkCqKfS1MoT6gsXzuNYSnw3v3fj9IcBoODmCvjlPcmDH\n",
       "dKUYTTMM7sSTdA3Qoz2rURPs12cLNldRoYzUE/pN0VV27B/rHeA1aU8ZQk2wYmvAGpt7j98ps0Wj\n",
       "0O1GWRFIozcXhCEX87om7VUjQk2wpAWbe9a6uwkCzjnpb5TlgOdHQyzszMHhoYNIvYK+VoZRd1ht\n",
       "W7CWHImzsojhwAFNKiw6VkBgi4Ug48LzN4Yh6FxCpJ2pf4G6w7q1BesW7ZyTfvRFn7QDRjJhhGAl\n",
       "HlfVqy4mVRr6StkVaoT97cFOGeWzgX3NnbocYmfm//R25T86sJPfHmI2MGCCQT+mTPLlUXvqK6bc\n",
       "MgX9mDIuH/6G52420P+i4dCPKWN+eVoamw30PvlW6M/rbWWdLfsLN3op+Tb7UUsAAAAASUVORK5C\n",
       "YII=\n",
       "\" style=\"display:inline;vertical-align:middle;\" /></a></td></tr>\n",
       "<tr><td>3</td><td>Operation</td><td>operator:&nbsp;5<br>operand:&nbsp;6<br></td><td><a class=\"ProveItLink\" href=\"../48c335c446b0ba530a3872178982bb5601e356af0/expr.ipynb\"><img src=\"data:image/png;base64,iVBORw0KGgoAAAANSUhEUgAAAFIAAAAVBAMAAAAnX6R8AAAAMFBMVEX////c3NxERESqqqqYmJgQ\n",
       "EBDu7u4yMjKIiIi6urpUVFTMzMx2dnYiIiJmZmYAAABjE816AAAAAXRSTlMAQObYZgAAAUlJREFU\n",
       "KM9jYCAHzMAtxTIBmce9ALsqr3fPPBleI4uwJ2BVyO7AkPSBgR1ZqAO7kWsYGJgLGFgOIAmFIctn\n",
       "1N69DmYw/ga6q4GBLQAhx1mA7OYSmFM4PwN5GxgYlBGSfEDzGU8stHgB4gjB3cz4vxtMn0NxOUMO\n",
       "g69DLIijiBDv//9JAEiZM7y9CwR3gExWYJAdYOhnsAay2RQQKhm94kE+mArh7QJifqDKBIZFEMfF\n",
       "ArVfh6nl+QIk9qOqZGCIQI8EoJvY0FSyGkDChA1k+wWYQrYHQMGPqLYzAXU7cnxgaAMJLIGpBAY6\n",
       "Ax/IBndo8IFc84CB+QtTAGMDSCAXliL4bjAwNKGFEucFBjaNY2daIB6u2wAR5eJctcgBxKhEipdA\n",
       "5NhkXo7wO9i9SLHJ4IMv7fI0EE51EJCOzGFcgEflQhSeBG6FHBsYABC2Tqwmj+voAAAAAElFTkSu\n",
       "QmCC\n",
       "\" style=\"display:inline;vertical-align:middle;\" /></a></td></tr>\n",
       "<tr><td>4</td><td>ExprTuple</td><td>7</td><td><a class=\"ProveItLink\" href=\"../62881c14f1ffeb962845aa99519f95edaa9e53f40/expr.ipynb\"><img src=\"data:image/png;base64,iVBORw0KGgoAAAANSUhEUgAAAD8AAAAVCAMAAADGtsa9AAAAQlBMVEX///9bW1sNDQ0JCQkdHR0P\n",
       "Dw8WFhbc3NwiIiJERESqqqqYmJh2dnZmZmYQEBDu7u4yMjJUVFTMzMyIiIi6uroAAAASwAKsAAAA\n",
       "AXRSTlMAQObYZgAAAUtJREFUOMuFVNlixCAItN22qHgR9P9/tV453ESXBxPFwWFAhfho0X/awEu3\n",
       "nOAxtu9GS/i7G8la6wvYbnUhrPnZOEwD5sGrVP/LwGv2Qg4zMvWjKxTLxM2P9xzk368M5wqkxnmr\n",
       "h3qXxQvzzAN6oWCQOunmamGUFtb0yIYJNNszG1CZmR/DQ0q8nVNjmx55Xw6DEoU7060nv6vDKdvB\n",
       "Kcvgmrym+vLKEd2rx+IAkku7ZtGJ1PBlgdSQqpNS/rzycFPIJOwKpR1fzPGtb4wee6dTu+CdHmtz\n",
       "8PXyVnxv951w8FctFEJNX/CZL6GIdsDrnondWxpDKUHxZEYqdwNcUvAy0ja2sqxuVpf6RdnEZuON\n",
       "YRykDt8jnkQkInVuClk8B9MGxC8KT/ofDN1+CZ5NwfpqGV7eX1BreO9tmL0foxp3o04PJi/Ah+Pr\n",
       "RfoHMqQPuY+wCAgAAAAASUVORK5CYII=\n",
       "\" style=\"display:inline;vertical-align:middle;\" /></a></td></tr>\n",
       "<tr><td>5</td><td>Literal</td><td></td><td><a class=\"ProveItLink\" href=\"../../../../boolean/negation/__pv_it/7bea79645543c2413aa17e787cca04e21046fde60/expr.ipynb\"><img src=\"data:image/png;base64,iVBORw0KGgoAAAANSUhEUgAAAAwAAAAGBAMAAAAFwGKyAAAAFVBMVEX///9UVFTMzMx2dnYiIiJm\n",
       "ZmYAAACWz4ZEAAAAAXRSTlMAQObYZgAAABRJREFUCNdjCHEBAmcGMFDEQzEBAEl+Ai6uYJv/AAAA\n",
       "AElFTkSuQmCC\n",
       "\" style=\"display:inline;vertical-align:middle;\" /></a></td></tr>\n",
       "<tr><td>6</td><td>Operation</td><td>operator:&nbsp;8<br>operands:&nbsp;10<br></td><td><a class=\"ProveItLink\" href=\"../269dcb9abf61389766c1a70edd07ce806798e9270/expr.ipynb\"><img src=\"data:image/png;base64,iVBORw0KGgoAAAANSUhEUgAAADMAAAAPBAMAAAC7N+rPAAAAMFBMVEX///+6uroyMjJERETMzMwQ\n",
       "EBAiIiKYmJju7u5mZmaqqqpUVFSIiIh2dnbc3NwAAAAWgogoAAAAAXRSTlMAQObYZgAAAM1JREFU\n",
       "GNNjYMAG2HfObBfAKsOgzsBhj12G+wIDwyIUkR61tCQw470DA4MPsgyLegOUJb+AgcEFSL89/erk\n",
       "AZDAY5gMw/s/DiCK4wJ7OmsCiGUH18/z/z+Iw8vA84ELpIjDAGH2861fgUZwMHBDxBjD0tKgzgCC\n",
       "+wUgkvUAxBUb4B4G4v4CqFNBDuBIgEl1ggQfAJU8OM/AA3bbdpgUyLezgXh9gSnDG7BIGyzUph1g\n",
       "4AHZ33y29w7YXAY+TQeI1Abp3eZoQce1CeFCIAAAnqEy768c/WoAAAAASUVORK5CYII=\n",
       "\" style=\"display:inline;vertical-align:middle;\" /></a></td></tr>\n",
       "<tr><td>7</td><td>Operation</td><td>operator:&nbsp;9<br>operands:&nbsp;10<br></td><td><a class=\"ProveItLink\" href=\"../6187b8ed581c17da632c95901a8880721b78f39a0/expr.ipynb\"><img src=\"data:image/png;base64,iVBORw0KGgoAAAANSUhEUgAAADMAAAAVCAMAAADciiYzAAAAQlBMVEX///9bW1sNDQ0JCQkdHR0P\n",
       "Dw8WFhYyMjK6urpERETMzMwQEBAiIiKYmJju7u5mZmaqqqpUVFSIiIh2dnbc3NwAAADXC9tbAAAA\n",
       "AXRSTlMAQObYZgAAAPVJREFUOMuVU9t2xCAItFc1Agrq//9qLbktm66n4cGE4MAwEOcmFsjdNriP\n",
       "Wdj6yDlnwjDDZBv1OA6KfU7NeFz1Ufyr6yQevr/gId76shKWV514JBeb0bCXNaTQVoVbkXwmaHEI\n",
       "RpZE612Wg8bgiYAunfS1gjyRkD5sq13VH82dWaLK9Dychpx60q+/B0dDPQHA58c4LhrVjvtrksss\n",
       "a7Hz3CgcmFXHgwvBZTiU95vaEDZtx8nJn9GFbDD7JLOuUxnVYhoZHugRBF7sGoGGJW4iSaVaBY1E\n",
       "/t1i2AVmjjhbNXxj/5duM7N78y9r8f4PKngfMy/zAx2GC3mVEDiLAAAAAElFTkSuQmCC\n",
       "\" style=\"display:inline;vertical-align:middle;\" /></a></td></tr>\n",
       "<tr><td>8</td><td>Literal</td><td></td><td><a class=\"ProveItLink\" href=\"../088cbc857536a28d4119ad9639a84270ccb0545d0/expr.ipynb\"><img src=\"data:image/png;base64,iVBORw0KGgoAAAANSUhEUgAAAAwAAAAMBAMAAACkW0HUAAAALVBMVEX///+qqqpmZmZUVFQQEBC6\n",
       "urpERETc3NyYmJjMzMwiIiIyMjKIiIju7u4AAACYsrA9AAAAAXRSTlMAQObYZgAAADxJREFUCNdj\n",
       "YOA9vWrVBgaG2b0MQMCeCyIZ2ArA1DUwyRCyahVIyWQI7xaEYm4AU7xLIdxqTQgtvGvVBgCkcQ7e\n",
       "geM/tQAAAABJRU5ErkJggg==\n",
       "\" style=\"display:inline;vertical-align:middle;\" /></a></td></tr>\n",
       "<tr><td>9</td><td>Literal</td><td></td><td><a class=\"ProveItLink\" href=\"../cc61ce5cf0825a46fd70733410654132b7dd0e550/expr.ipynb\"><img src=\"data:image/png;base64,iVBORw0KGgoAAAANSUhEUgAAAAwAAAAVCAMAAABFcv+GAAAAQlBMVEX///9bW1sNDQ0JCQkdHR0Q\n",
       "EBAPDw8WFhaYmJiIiIgyMjLc3NxERER2dnaqqqpmZmZUVFTMzMwiIiLu7u66uroAAACAfls5AAAA\n",
       "AXRSTlMAQObYZgAAAGtJREFUGNNNTkkSwCAIo7sirQr8/621LhUOYQIhAWCUCsxiQ3Iyi6hW1bt4\n",
       "5OtkrGp0AhTqPFCxEWyiOvO+HdCH2EL0YOZ9K4A97H66L5sQSA40DiKsKf+PBFwnAbckbG4jdsjI\n",
       "PO+dIXPxAnRTBHGTKJqmAAAAAElFTkSuQmCC\n",
       "\" style=\"display:inline;vertical-align:middle;\" /></a></td></tr>\n",
       "<tr><td>10</td><td>ExprTuple</td><td>11, 12</td><td><a class=\"ProveItLink\" href=\"../75ea65b79fca5a7e0a4b0a55cd46edaf622a0d8e0/expr.ipynb\"><img src=\"data:image/png;base64,iVBORw0KGgoAAAANSUhEUgAAAC8AAAAVBAMAAAAk6KpUAAAAMFBMVEX////c3NwiIiJERESqqqqY\n",
       "mJh2dnZmZmYQEBDu7u4yMjJUVFTMzMyIiIi6uroAAAAs73DqAAAAAXRSTlMAQObYZgAAARhJREFU\n",
       "KM9jYMAJ+C5gisWBiNOoYqzby6c+YD8AZK1ElVjKwGnPwLCAgYEX1STuBAYGLwaGMAYGjgkoEvJA\n",
       "Q84yMMxgYHiFatJ7BwaGMwwMzA4MZUCe2G2R61AT5f+C7GVgKwBaxsCZwKrKoQCR4P3/3xBIsSxg\n",
       "6ANKM/B+YDkANUt0xw+grXwNDP+AOhi4DZCsyQ9gYOD5AJIAOg3mZlYgng+RaIE6EuLq6SCOANgo\n",
       "U6AygfsMvBPAUkC/MVSDdC5gSGdg8A+wYJBl4PwEFCi6wMBrAHHuIwaGydem5QYwcPYDjdjwercp\n",
       "yEiuBwwcAvDwF0C4DBgkrAkMSC6CgVzkYEeS4AQGO4M0jIcU/twgUxmxRO0dBgYA4X0+BGW7KnUA\n",
       "AAAASUVORK5CYII=\n",
       "\" style=\"display:inline;vertical-align:middle;\" /></a></td></tr>\n",
       "<tr><td>11</td><td>Variable</td><td></td><td><a class=\"ProveItLink\" href=\"../../../../../__pv_it/530be409e3083890784cf1d7b28c9e67e90af9360/expr.ipynb\"><img src=\"data:image/png;base64,iVBORw0KGgoAAAANSUhEUgAAAAsAAAAJBAMAAAAWSsseAAAAKlBMVEX///9ERETMzMwQEBAiIiKY\n",
       "mJju7u5mZmaqqqpUVFSIiIh2dnbc3NwAAAA/vyDhAAAAAXRSTlMAQObYZgAAAENJREFUCNdjYDi9\n",
       "8sTyBQxsG1hdmR0YuBm4LnAoMLAxcAowgADzAjB1VoEhgYH1wFoGrgSG3gBhhlMMDImrs3cFMAAA\n",
       "t0YN+iTRa+sAAAAASUVORK5CYII=\n",
       "\" style=\"display:inline;vertical-align:middle;\" /></a></td></tr>\n",
       "<tr><td>12</td><td>Variable</td><td></td><td><a class=\"ProveItLink\" href=\"../../../../../__pv_it/abeee18594afe51bfb1be95d9591fbba24ac53f30/expr.ipynb\"><img src=\"data:image/png;base64,iVBORw0KGgoAAAANSUhEUgAAAA0AAAAOBAMAAAAGUYvhAAAAMFBMVEX///8iIiIQEBCIiIjMzMzc\n",
       "3Nyqqqp2dnZEREQyMjK6urru7u5mZmZUVFSYmJgAAACI6eGPAAAAAXRSTlMAQObYZgAAAF1JREFU\n",
       "CNdjYGDgu3Nm3wIGBoZ5DNz9QIq3gIEhE0jHOzAwOAPp9QkMDC4g/megABAw///fCmbEXfq0Acxg\n",
       "qH8ANAVI7wfSe0BKAyBGnAXigwYMzA1A+sLau31ACgAz0hhbkhGHbwAAAABJRU5ErkJggg==\n",
       "\" style=\"display:inline;vertical-align:middle;\" /></a></td></tr>\n",
       "</table>\n"
      ],
      "text/plain": [
       "0. forall_{S | x not-in S} [not](x in S)\n",
       "   core type: Operation\n",
       "   operator: 1\n",
       "   operand: 2\n",
       "1. forall\n",
       "   core type: Literal\n",
       "   sub-expressions: \n",
       "2. S -> [not](x in S) | x not-in S\n",
       "   core type: Lambda\n",
       "   parameter: 12\n",
       "   body: 3\n",
       "   conditions: 4\\n3. [not](x in S)\n",
       "   core type: Operation\n",
       "   operator: 5\n",
       "   operand: 6\n",
       "4. (x not-in S)\n",
       "   core type: ExprTuple\n",
       "   sub-expressions: 7\n",
       "5. not\n",
       "   core type: Literal\n",
       "   sub-expressions: \n",
       "6. x in S\n",
       "   core type: Operation\n",
       "   operator: 8\n",
       "   operands: 10\n",
       "7. x not-in S\n",
       "   core type: Operation\n",
       "   operator: 9\n",
       "   operands: 10\n",
       "8. in\n",
       "   core type: Literal\n",
       "   sub-expressions: \n",
       "9. not-in\n",
       "   core type: Literal\n",
       "   sub-expressions: \n",
       "10. (x , S)\n",
       "    core type: ExprTuple\n",
       "    sub-expressions: 11, 12\n",
       "11. x\n",
       "    core type: Variable\n",
       "    sub-expressions: \n",
       "12. S\n",
       "    core type: Variable\n",
       "    sub-expressions: "
      ]
     },
     "execution_count": 4,
     "metadata": {},
     "output_type": "execute_result"
    }
   ],
   "source": [
    "# display the expression information\n",
    "expr.exprInfo()"
   ]
  },
  {
   "cell_type": "code",
   "execution_count": null,
   "metadata": {},
   "outputs": [],
   "source": []
  }
 ],
 "metadata": {
  "kernelspec": {
   "display_name": "Python 3",
   "language": "python",
   "name": "python3"
  }
 },
 "nbformat": 4,
 "nbformat_minor": 0
}
