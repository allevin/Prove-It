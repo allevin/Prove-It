{
 "cells": [
  {
   "cell_type": "markdown",
   "metadata": {},
   "source": [
    "Expression of type <a class=\"ProveItLink\" href=\"../../../../../../../doc/html/api/proveit.logic.Set.html\">Set</a>\n",
    "=======================\n",
    "# from context <a class=\"ProveItLink\" href=\"../../_context_.ipynb\">proveit.logic.set_theory.membership</a>"
   ]
  },
  {
   "cell_type": "code",
   "execution_count": 1,
   "metadata": {},
   "outputs": [],
   "source": [
    "# import Expression classes needed to build the expression\n",
    "from proveit._common_ import I, S\n",
    "from proveit.logic import InSet, Set"
   ]
  },
  {
   "cell_type": "code",
   "execution_count": 2,
   "metadata": {},
   "outputs": [
    {
     "data": {
      "text/html": [
       "<strong id=\"expr\">expr:</strong> <a class=\"ProveItLink\" href=\"expr.ipynb\"><img src=\"data:image/png;base64,iVBORw0KGgoAAAANSUhEUgAAAEUAAAAVBAMAAADiLT7tAAAAMFBMVEX////c3NxERESqqqpUVFS6\n",
       "urrMzMwyMjIQEBCIiIh2dnYiIiLu7u5mZmaYmJgAAABXZE4RAAAAAXRSTlMAQObYZgAAATFJREFU\n",
       "KM9jYGDgu8eAE7CtEgBRPLsY8AC2ZhDJ+QFELvmvK4Am/eTunacMDNdBTK4GsMh3dBPYHzAcAmpf\n",
       "gVDD+gtdjRcDA3MBihqurxCZk9W7t4MZjN+AjpmAoob9A8SJdQegxrB+BvISUNTwK4BlhGBKGBj/\n",
       "TwPTYDW8BSAyfgJYRBHhnvn/P4F8+h7EzggAkesTwGGlgFDD+KS/B+SICwwMKW1gkXqII7p374a6\n",
       "GeSKfyBS/QEDQwTYhE8QJzvAjQHK8IDUcC8AEiwg97D+BEvwbIAp4QFawfgR5h4ukDjXN4iUH0wN\n",
       "KPh4HRiQ/Q4NHobTAVA1vDsZGCYxIKuR1f+yAOKZ2gSIGhZWF6cHKGoQgNkd4S8GHGowAFgNH341\n",
       "4PTDsxNvOmwFU3yLCaRnAHpnUN1nIqHnAAAAAElFTkSuQmCC\n",
       "\" style=\"display:inline;vertical-align:middle;\" /></a><br>"
      ],
      "text/plain": [
       "expr: {I in S}"
      ]
     },
     "execution_count": 2,
     "metadata": {},
     "output_type": "execute_result"
    }
   ],
   "source": [
    "# build up the expression from sub-expressions\n",
    "expr = Set(InSet(I, S))"
   ]
  },
  {
   "cell_type": "code",
   "execution_count": 3,
   "metadata": {},
   "outputs": [
    {
     "name": "stdout",
     "output_type": "stream",
     "text": [
      "Passed sanity check: built 'expr' is the same as the stored Expression.\n"
     ]
    }
   ],
   "source": [
    "# check that the built expression is the same as the stored expression\n",
    "%check_expr"
   ]
  },
  {
   "cell_type": "code",
   "execution_count": 4,
   "metadata": {},
   "outputs": [
    {
     "data": {
      "text/html": [
       "<table><tr><th>&nbsp;</th><th>core type</th><th>sub-expressions</th><th>expression</th></tr>\n",
       "<tr><td>0</td><td>Operation</td><td>operator:&nbsp;1<br>operands:&nbsp;2<br></td><td><a class=\"ProveItLink\" href=\"expr.ipynb\"><img src=\"data:image/png;base64,iVBORw0KGgoAAAANSUhEUgAAAEUAAAAVBAMAAADiLT7tAAAAMFBMVEX////c3NxERESqqqpUVFS6\n",
       "urrMzMwyMjIQEBCIiIh2dnYiIiLu7u5mZmaYmJgAAABXZE4RAAAAAXRSTlMAQObYZgAAATFJREFU\n",
       "KM9jYGDgu8eAE7CtEgBRPLsY8AC2ZhDJ+QFELvmvK4Am/eTunacMDNdBTK4GsMh3dBPYHzAcAmpf\n",
       "gVDD+gtdjRcDA3MBihqurxCZk9W7t4MZjN+AjpmAoob9A8SJdQegxrB+BvISUNTwK4BlhGBKGBj/\n",
       "TwPTYDW8BSAyfgJYRBHhnvn/P4F8+h7EzggAkesTwGGlgFDD+KS/B+SICwwMKW1gkXqII7p374a6\n",
       "GeSKfyBS/QEDQwTYhE8QJzvAjQHK8IDUcC8AEiwg97D+BEvwbIAp4QFawfgR5h4ukDjXN4iUH0wN\n",
       "KPh4HRiQ/Q4NHobTAVA1vDsZGCYxIKuR1f+yAOKZ2gSIGhZWF6cHKGoQgNkd4S8GHGowAFgNH341\n",
       "4PTDsxNvOmwFU3yLCaRnAHpnUN1nIqHnAAAAAElFTkSuQmCC\n",
       "\" style=\"display:inline;vertical-align:middle;\" /></a></td></tr>\n",
       "<tr><td>1</td><td>Literal</td><td></td><td><a class=\"ProveItLink\" href=\"../../../enumeration/__pv_it/07381ed5b23806e8d7914b78cb6667769e3708dd0/expr.ipynb\"><img src=\"data:image/png;base64,iVBORw0KGgoAAAANSUhEUgAAAB4AAAAOBAMAAADKyLEKAAAAMFBMVEX///8iIiIQEBCIiIjMzMzc\n",
       "3Nyqqqp2dnZEREQyMjK6urru7u5mZmZUVFSYmJgAAACI6eGPAAAAAXRSTlMAQObYZgAAALRJREFU\n",
       "CNdjYGDgu3Nm3wIGBJjHwN0PZW5yYGDgLWBgyITy8zcwMMQDxZyh/INAvD6BgcEFypcB4vjPDiBm\n",
       "TPFRrhs/LjMwMP//38rAwCbKEMPA9gEkE3fp0waG+AUMRxh4JkC01T9guPTOOICBEWgVH5C//wHD\n",
       "H5D4fqCz9oCMDGD4DLaegRXslLMMDMpAgxlOMmQxHDRgYG5gYLBk4D7KcIe7gOHC2rt9QCXsh40Z\n",
       "GCKMGQDRkC8N/Ph1XAAAAABJRU5ErkJggg==\n",
       "\" style=\"display:inline;vertical-align:middle;\" /></a></td></tr>\n",
       "<tr><td>2</td><td>ExprTuple</td><td>3</td><td><a class=\"ProveItLink\" href=\"../37bbce621d18a2d62e846dc5d7d4ca72db255a300/expr.ipynb\"><img src=\"data:image/png;base64,iVBORw0KGgoAAAANSUhEUgAAAD4AAAAVBAMAAADshECCAAAAMFBMVEX////c3NwiIiJERESqqqqY\n",
       "mJh2dnZmZmYQEBDu7u4yMjJUVFTMzMyIiIi6uroAAAAs73DqAAAAAXRSTlMAQObYZgAAATBJREFU\n",
       "KM9jYCAE+C7glGJ9ACROA3H2f3MBNLno8so4hhogYyWI9wtdK1cAw+QPDFwMDLwg4/m+octvY2Bg\n",
       "WcDAmsDAMQHIY/sHEZ27SEkLzGD8w8DAc4GBs4HhFdi0D2BRnqUTYI7+AuQdYGAwYSgDcfkNwKLC\n",
       "MGkGxv93wHQ6w1IQ9R7iR0OE/ff/fwb5yIuhD8TLPwAiOQ0Q8ozR/Z1A6gUD2GXrIZY2KSlB3Qdy\n",
       "81cgcR4i/xnivA1w7QFA0yDyLSCNf8GCnAowac4CoA0fweabgoz6AxHeCpMHBg0DO8i0KKAP4N5n\n",
       "mPQAKs+uy8BwGeK/RwwM4va/EyCOXn4AIs/Nt3tzAIixjoEDOeJYdiHcD3ZHAygKcAO2C9D4xQFm\n",
       "AbE0HvmNIEfhTl+8BxgA3k5ITRFz8mMAAAAASUVORK5CYII=\n",
       "\" style=\"display:inline;vertical-align:middle;\" /></a></td></tr>\n",
       "<tr><td>3</td><td>Operation</td><td>operator:&nbsp;4<br>operands:&nbsp;5<br></td><td><a class=\"ProveItLink\" href=\"../c83d4f1919ff01540f1417aec07fd7df2feb4c9c0/expr.ipynb\"><img src=\"data:image/png;base64,iVBORw0KGgoAAAANSUhEUgAAADIAAAAPBAMAAABU9YHxAAAAMFBMVEX///+qqqoQEBCYmJgiIiLu\n",
       "7u7MzMyIiIi6uroyMjLc3NxmZmZERERUVFR2dnYAAAAvupOAAAAAAXRSTlMAQObYZgAAAM5JREFU\n",
       "GNNjYGB4+//0AgZUYLt7qwWI/okmzsBpwBDzAUhz/EOXucfAwDgBSPP9gPDDp7h4ghlc3xgY2ApA\n",
       "ej+A+WyTA6BaOD4CeQlABv8BMH8NTIKB638ZhNFfAKZOIeyp//8H7Nr3II0MrAcQMly2+qogej7E\n",
       "cBUXF6gLQK76DCL/QBxwAa7FAGgCSIbjO5jL6gCTYN0ANO8XSOM3iMBlmAzIk9wXEN5hCGmAynC7\n",
       "MzDUAOnV5/8+gDhodgJEhpfj7h0DlNBivIlwGxAAAI2GMrj7T99IAAAAAElFTkSuQmCC\n",
       "\" style=\"display:inline;vertical-align:middle;\" /></a></td></tr>\n",
       "<tr><td>4</td><td>Literal</td><td></td><td><a class=\"ProveItLink\" href=\"../088cbc857536a28d4119ad9639a84270ccb0545d0/expr.ipynb\"><img src=\"data:image/png;base64,iVBORw0KGgoAAAANSUhEUgAAAAwAAAAMBAMAAACkW0HUAAAALVBMVEX///+qqqpmZmZUVFQQEBC6\n",
       "urpERETc3NyYmJjMzMwiIiIyMjKIiIju7u4AAACYsrA9AAAAAXRSTlMAQObYZgAAADxJREFUCNdj\n",
       "YOA9vWrVBgaG2b0MQMCeCyIZ2ArA1DUwyRCyahVIyWQI7xaEYm4AU7xLIdxqTQgtvGvVBgCkcQ7e\n",
       "geM/tQAAAABJRU5ErkJggg==\n",
       "\" style=\"display:inline;vertical-align:middle;\" /></a></td></tr>\n",
       "<tr><td>5</td><td>ExprTuple</td><td>6, 7</td><td><a class=\"ProveItLink\" href=\"../463f34442a361229fc8dbb12f3df8100b3f6be070/expr.ipynb\"><img src=\"data:image/png;base64,iVBORw0KGgoAAAANSUhEUgAAAC4AAAAVBAMAAADLKsFqAAAAMFBMVEX////c3NwiIiJERESqqqqY\n",
       "mJh2dnZmZmYQEBDu7u4yMjJUVFTMzMyIiIi6uroAAAAs73DqAAAAAXRSTlMAQObYZgAAAQxJREFU\n",
       "GNNjYMAF+C5gCLE+ABKngTj7v7kAVCy6vDKOoQbIWAni/YIp5QpgmPyBgYuBgRdkDN83mPg2BgaW\n",
       "BQysCQwcE4A8tn9QYcY/DAw8Fxg4GxhegXV/gDniC1D8AAODCUMZiMtvAFP//w6YTmdYCqLew916\n",
       "//9nkMu8GPpAvPwDMHHG6P5OIPWCAWzjeiRPsX0FEuch4p9hggEMDJwQ8RaQK/5ChTkLgCZ9BJtj\n",
       "CtL6ByTGAPYSA/sGICMK6CKo8+crAMV0GRguQ9z5iIFB3P53AgPDDKB+br7dmwNA4usYOGAByfAQ\n",
       "4SZgOACDCOEWuFsvQMMZTXwWEEtD2bxIftsI8jlmPPIeYAAA1HtBtYpENgAAAAAASUVORK5CYII=\n",
       "\" style=\"display:inline;vertical-align:middle;\" /></a></td></tr>\n",
       "<tr><td>6</td><td>Variable</td><td></td><td><a class=\"ProveItLink\" href=\"../../../../../__pv_it/485fbf85ade6e4660c176b077846a05437e7af3e0/expr.ipynb\"><img src=\"data:image/png;base64,iVBORw0KGgoAAAANSUhEUgAAAAsAAAAOBAMAAAALT/umAAAAIVBMVEX////MzMyIiIi6uroyMjLc\n",
       "3NxmZmZERERUVFR2dnYAAABv5Bk0AAAAAXRSTlMAQObYZgAAAD9JREFUCNdjYGCYsaosgAEIloAI\n",
       "BuaVYIpzMZhiWQCmuArAlJUCmJolAKa8wCTDcoi2RRBtC5G0hVWtmMDAAAAhAQsT8Qr5GAAAAABJ\n",
       "RU5ErkJggg==\n",
       "\" style=\"display:inline;vertical-align:middle;\" /></a></td></tr>\n",
       "<tr><td>7</td><td>Variable</td><td></td><td><a class=\"ProveItLink\" href=\"../../../../../__pv_it/abeee18594afe51bfb1be95d9591fbba24ac53f30/expr.ipynb\"><img src=\"data:image/png;base64,iVBORw0KGgoAAAANSUhEUgAAAA0AAAAOBAMAAAAGUYvhAAAAMFBMVEX///8iIiIQEBCIiIjMzMzc\n",
       "3Nyqqqp2dnZEREQyMjK6urru7u5mZmZUVFSYmJgAAACI6eGPAAAAAXRSTlMAQObYZgAAAF1JREFU\n",
       "CNdjYGDgu3Nm3wIGBoZ5DNz9QIq3gIEhE0jHOzAwOAPp9QkMDC4g/megABAw///fCmbEXfq0Acxg\n",
       "qH8ANAVI7wfSe0BKAyBGnAXigwYMzA1A+sLau31ACgAz0hhbkhGHbwAAAABJRU5ErkJggg==\n",
       "\" style=\"display:inline;vertical-align:middle;\" /></a></td></tr>\n",
       "</table>\n"
      ],
      "text/plain": [
       "0. {I in S}\n",
       "   core type: Operation\n",
       "   operator: 1\n",
       "   operands: 2\n",
       "1. Set\n",
       "   core type: Literal\n",
       "   sub-expressions: \n",
       "2. (I in S)\n",
       "   core type: ExprTuple\n",
       "   sub-expressions: 3\n",
       "3. I in S\n",
       "   core type: Operation\n",
       "   operator: 4\n",
       "   operands: 5\n",
       "4. in\n",
       "   core type: Literal\n",
       "   sub-expressions: \n",
       "5. (I , S)\n",
       "   core type: ExprTuple\n",
       "   sub-expressions: 6, 7\n",
       "6. I\n",
       "   core type: Variable\n",
       "   sub-expressions: \n",
       "7. S\n",
       "   core type: Variable\n",
       "   sub-expressions: "
      ]
     },
     "execution_count": 4,
     "metadata": {},
     "output_type": "execute_result"
    }
   ],
   "source": [
    "# display the expression information\n",
    "expr.exprInfo()"
   ]
  },
  {
   "cell_type": "code",
   "execution_count": null,
   "metadata": {},
   "outputs": [],
   "source": []
  }
 ],
 "metadata": {
  "kernelspec": {
   "display_name": "Python 3",
   "language": "python",
   "name": "python3"
  }
 },
 "nbformat": 4,
 "nbformat_minor": 0
}
