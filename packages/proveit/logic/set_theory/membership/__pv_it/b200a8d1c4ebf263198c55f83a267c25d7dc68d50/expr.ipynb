{
 "cells": [
  {
   "cell_type": "markdown",
   "metadata": {},
   "source": [
    "Expression of type <a class=\"ProveItLink\" href=\"../../../../../../../doc/html/api/proveit.ExprTuple.html\">ExprTuple</a>\n",
    "=======================\n",
    "# from context <a class=\"ProveItLink\" href=\"../../_context_.ipynb\">proveit.logic.set_theory.membership</a>"
   ]
  },
  {
   "cell_type": "code",
   "execution_count": 1,
   "metadata": {},
   "outputs": [],
   "source": [
    "# import Expression classes needed to build the expression\n",
    "from proveit import ExprTuple\n",
    "from proveit._common_ import S, f\n",
    "from proveit.logic import InSet"
   ]
  },
  {
   "cell_type": "code",
   "execution_count": 2,
   "metadata": {},
   "outputs": [
    {
     "data": {
      "text/html": [
       "<strong id=\"expr\">expr:</strong> <a class=\"ProveItLink\" href=\"expr.ipynb\"><img src=\"data:image/png;base64,iVBORw0KGgoAAAANSUhEUgAAAEAAAAAVBAMAAAAEBPWpAAAAMFBMVEX////c3NwiIiJERESqqqqY\n",
       "mJh2dnZmZmYQEBDu7u4yMjJUVFTMzMyIiIi6uroAAAAs73DqAAAAAXRSTlMAQObYZgAAAT9JREFU\n",
       "KM9jYCAI+C7glmN9ACROg1icezeiS0aXV8Yx1AAZK0E85pSvaPJcAQyTPzBwMTDwgm2Y/9IBTcE2\n",
       "BgaWBQysCQwcE0Bcf6jw3EVKWmAG4x8GBp4LDJwNDK/A/CKIPM/SCTCnfwHyDjAwmDCUgR3UtB0s\n",
       "LAyTZ2D8fwdMpzMsBdN/IcKGCDfc//9ZAEh5MfTBbAR51gChgDG6vxNIvWD4B+KxfIBY3KSkBHUk\n",
       "ELCBfH4eooBNAeLGDXADAoDmQRS0gMMJIsOpAJPnLABa8hFshSmIzwGNj60wBcAwYmAH6YoC+gMU\n",
       "kA8g4pOgNAO7LgPDZYg3H4Go91D/My4/AGFw8+3eHABirGPgAPn2FtzoXQhfgN3SAIoO1g2muBIE\n",
       "2wVQdHOsVMClYBYQSzOwpgvgUgBKRox4khzvAQYA0JBKtxNun1gAAAAASUVORK5CYII=\n",
       "\" style=\"display:inline;vertical-align:middle;\" /></a><br>"
      ],
      "text/plain": [
       "expr: (f in S)"
      ]
     },
     "execution_count": 2,
     "metadata": {},
     "output_type": "execute_result"
    }
   ],
   "source": [
    "# build up the expression from sub-expressions\n",
    "expr = ExprTuple(InSet(f, S))"
   ]
  },
  {
   "cell_type": "code",
   "execution_count": 3,
   "metadata": {},
   "outputs": [
    {
     "name": "stdout",
     "output_type": "stream",
     "text": [
      "Passed sanity check: built 'expr' is the same as the stored Expression.\n"
     ]
    }
   ],
   "source": [
    "# check that the built expression is the same as the stored expression\n",
    "%check_expr"
   ]
  },
  {
   "cell_type": "code",
   "execution_count": 4,
   "metadata": {},
   "outputs": [
    {
     "data": {
      "text/html": [
       "<table><tr><th>&nbsp;</th><th>core type</th><th>sub-expressions</th><th>expression</th></tr>\n",
       "<tr><td>0</td><td>ExprTuple</td><td>1</td><td><a class=\"ProveItLink\" href=\"expr.ipynb\"><img src=\"data:image/png;base64,iVBORw0KGgoAAAANSUhEUgAAAEAAAAAVBAMAAAAEBPWpAAAAMFBMVEX////c3NwiIiJERESqqqqY\n",
       "mJh2dnZmZmYQEBDu7u4yMjJUVFTMzMyIiIi6uroAAAAs73DqAAAAAXRSTlMAQObYZgAAAT9JREFU\n",
       "KM9jYCAI+C7glmN9ACROg1icezeiS0aXV8Yx1AAZK0E85pSvaPJcAQyTPzBwMTDwgm2Y/9IBTcE2\n",
       "BgaWBQysCQwcE0Bcf6jw3EVKWmAG4x8GBp4LDJwNDK/A/CKIPM/SCTCnfwHyDjAwmDCUgR3UtB0s\n",
       "LAyTZ2D8fwdMpzMsBdN/IcKGCDfc//9ZAEh5MfTBbAR51gChgDG6vxNIvWD4B+KxfIBY3KSkBHUk\n",
       "ELCBfH4eooBNAeLGDXADAoDmQRS0gMMJIsOpAJPnLABa8hFshSmIzwGNj60wBcAwYmAH6YoC+gMU\n",
       "kA8g4pOgNAO7LgPDZYg3H4Go91D/My4/AGFw8+3eHABirGPgAPn2FtzoXQhfgN3SAIoO1g2muBIE\n",
       "2wVQdHOsVMClYBYQSzOwpgvgUgBKRox4khzvAQYA0JBKtxNun1gAAAAASUVORK5CYII=\n",
       "\" style=\"display:inline;vertical-align:middle;\" /></a></td></tr>\n",
       "<tr><td>1</td><td>Operation</td><td>operator:&nbsp;2<br>operands:&nbsp;3<br></td><td><a class=\"ProveItLink\" href=\"../6ea8f634e93aa961fd2949777b884322bf5d80040/expr.ipynb\"><img src=\"data:image/png;base64,iVBORw0KGgoAAAANSUhEUgAAADMAAAASBAMAAAAEf/uKAAAAMFBMVEX///8yMjLMzMwQEBAiIiJm\n",
       "Zma6urqYmJiqqqp2dnZERETc3NyIiIhUVFTu7u4AAAAe+HC4AAAAAXRSTlMAQObYZgAAANdJREFU\n",
       "GNNjYGBgeHt2AwMqYL8a+jwBxFjZX4AmJc7Atx5E8317gSbDO4GBoRHE4PgAEeA76OIiAGbtV2Bg\n",
       "0AExWB0gUop1MF35DQwMSiArL/sGgPjc6+AG7v+jAGHwHwBTXAhn8vz/vxpuMhC8QnLH9sufH4Do\n",
       "fgg32cUF5gwgmA/2zxQIRxfhYSB+D5ZaCxF4Apd6CrIFbLMN1J/wIAH5NhYSGFAfu8GkQg4w8CwA\n",
       "Mdj+QUU2BkEZF3LvLod4Au6qXhGEC0Gglgs92OHA8AkuGYbKaFwyAIZRM8xT65ryAAAAAElFTkSu\n",
       "QmCC\n",
       "\" style=\"display:inline;vertical-align:middle;\" /></a></td></tr>\n",
       "<tr><td>2</td><td>Literal</td><td></td><td><a class=\"ProveItLink\" href=\"../088cbc857536a28d4119ad9639a84270ccb0545d0/expr.ipynb\"><img src=\"data:image/png;base64,iVBORw0KGgoAAAANSUhEUgAAAAwAAAAMBAMAAACkW0HUAAAALVBMVEX///+qqqpmZmZUVFQQEBC6\n",
       "urpERETc3NyYmJjMzMwiIiIyMjKIiIju7u4AAACYsrA9AAAAAXRSTlMAQObYZgAAADxJREFUCNdj\n",
       "YOA9vWrVBgaG2b0MQMCeCyIZ2ArA1DUwyRCyahVIyWQI7xaEYm4AU7xLIdxqTQgtvGvVBgCkcQ7e\n",
       "geM/tQAAAABJRU5ErkJggg==\n",
       "\" style=\"display:inline;vertical-align:middle;\" /></a></td></tr>\n",
       "<tr><td>3</td><td>ExprTuple</td><td>4, 5</td><td><a class=\"ProveItLink\" href=\"../4cdcdb1273cb40472dd342eeea9503bd5bee2bb70/expr.ipynb\"><img src=\"data:image/png;base64,iVBORw0KGgoAAAANSUhEUgAAAC8AAAAVBAMAAAAk6KpUAAAAMFBMVEX////c3NwiIiJERESqqqqY\n",
       "mJh2dnZmZmYQEBDu7u4yMjJUVFTMzMyIiIi6uroAAAAs73DqAAAAAXRSTlMAQObYZgAAAR1JREFU\n",
       "KM9jYMAJ+C5gisWBiNNg5uzbAhAx1u3lUx+wHwCyVoL5Zv4BEImlDJz2DAwLGBh4wSZx/psCEedO\n",
       "YGDwYmAIY2DgmADis3yAmi4PNOQsA8MMBoZXYD67AlTivQMDwxkGBmYHhjKwjTu0C6A6/oLsZWAr\n",
       "AFoGAvwwN/P+/28IMnoBQx/caAgQ3fEDaCtfA8M/MNcfyXf5QIfzfIBKJEEFWYF4PkSiBSxgDZWY\n",
       "DjJWAGyUKVigF4hBHgL6jaEapHMBQzrE40D8CcgousDAawBx7iNwCP8ESvQDjdjwejfYCK4HDByg\n",
       "UOVdAJIVQLgMGCSswFCLZg6AuggGciHB3jWJAVWCE2SCNDCQC0E8pJjkBpnKiCVq7zAwAAChdT/2\n",
       "eEm6jAAAAABJRU5ErkJggg==\n",
       "\" style=\"display:inline;vertical-align:middle;\" /></a></td></tr>\n",
       "<tr><td>4</td><td>Variable</td><td></td><td><a class=\"ProveItLink\" href=\"../../../../../__pv_it/4d51ee1e62d011d06d4528b97697bf3da60c9de60/expr.ipynb\"><img src=\"data:image/png;base64,iVBORw0KGgoAAAANSUhEUgAAAAsAAAASBAMAAAB/WzlGAAAAMFBMVEX///8yMjLMzMwQEBAiIiJm\n",
       "Zma6urqYmJiqqqp2dnZERETc3NyIiIhUVFTu7u4AAAAe+HC4AAAAAXRSTlMAQObYZgAAAFVJREFU\n",
       "CNdjYGBgeHt2A5BkWNlfACT5vr0AcTg+gEgGVgcQyX7ZNwBE8x8AC+5XAFP9YJJhCoRaC6FswCTf\n",
       "NzDF9g9M8QiAyFoukPEMhk/AYpXRIBIAEwsRcZ82juYAAAAASUVORK5CYII=\n",
       "\" style=\"display:inline;vertical-align:middle;\" /></a></td></tr>\n",
       "<tr><td>5</td><td>Variable</td><td></td><td><a class=\"ProveItLink\" href=\"../../../../../__pv_it/abeee18594afe51bfb1be95d9591fbba24ac53f30/expr.ipynb\"><img src=\"data:image/png;base64,iVBORw0KGgoAAAANSUhEUgAAAA0AAAAOBAMAAAAGUYvhAAAAMFBMVEX///8iIiIQEBCIiIjMzMzc\n",
       "3Nyqqqp2dnZEREQyMjK6urru7u5mZmZUVFSYmJgAAACI6eGPAAAAAXRSTlMAQObYZgAAAF1JREFU\n",
       "CNdjYGDgu3Nm3wIGBoZ5DNz9QIq3gIEhE0jHOzAwOAPp9QkMDC4g/megABAw///fCmbEXfq0Acxg\n",
       "qH8ANAVI7wfSe0BKAyBGnAXigwYMzA1A+sLau31ACgAz0hhbkhGHbwAAAABJRU5ErkJggg==\n",
       "\" style=\"display:inline;vertical-align:middle;\" /></a></td></tr>\n",
       "</table>\n"
      ],
      "text/plain": [
       "0. (f in S)\n",
       "   core type: ExprTuple\n",
       "   sub-expressions: 1\n",
       "1. f in S\n",
       "   core type: Operation\n",
       "   operator: 2\n",
       "   operands: 3\n",
       "2. in\n",
       "   core type: Literal\n",
       "   sub-expressions: \n",
       "3. (f , S)\n",
       "   core type: ExprTuple\n",
       "   sub-expressions: 4, 5\n",
       "4. f\n",
       "   core type: Variable\n",
       "   sub-expressions: \n",
       "5. S\n",
       "   core type: Variable\n",
       "   sub-expressions: "
      ]
     },
     "execution_count": 4,
     "metadata": {},
     "output_type": "execute_result"
    }
   ],
   "source": [
    "# display the expression information\n",
    "expr.exprInfo()"
   ]
  },
  {
   "cell_type": "code",
   "execution_count": null,
   "metadata": {},
   "outputs": [],
   "source": []
  }
 ],
 "metadata": {
  "kernelspec": {
   "display_name": "Python 3",
   "language": "python",
   "name": "python3"
  }
 },
 "nbformat": 4,
 "nbformat_minor": 0
}
