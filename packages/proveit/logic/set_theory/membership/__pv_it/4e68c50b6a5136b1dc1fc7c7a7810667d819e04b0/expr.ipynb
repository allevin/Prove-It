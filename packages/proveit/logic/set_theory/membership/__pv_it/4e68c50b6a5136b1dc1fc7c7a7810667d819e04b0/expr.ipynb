{
 "cells": [
  {
   "cell_type": "markdown",
   "metadata": {},
   "source": [
    "Expression of type <a class=\"ProveItLink\" href=\"../../../../../../../doc/html/api/proveit.ExprTuple.html\">ExprTuple</a>\n",
    "=======================\n",
    "# from context <a class=\"ProveItLink\" href=\"../../_context_.ipynb\">proveit.logic.set_theory.membership</a>"
   ]
  },
  {
   "cell_type": "code",
   "execution_count": 1,
   "metadata": {},
   "outputs": [],
   "source": [
    "# import Expression classes needed to build the expression\n",
    "from proveit import ExprTuple\n",
    "from proveit._common_ import x\n",
    "from proveit.number import Len, zero"
   ]
  },
  {
   "cell_type": "code",
   "execution_count": 2,
   "metadata": {},
   "outputs": [
    {
     "data": {
      "text/html": [
       "<strong id=\"expr\">expr:</strong> <a class=\"ProveItLink\" href=\"expr.ipynb\"><img src=\"data:image/png;base64,iVBORw0KGgoAAAANSUhEUgAAAE0AAAAVBAMAAADx+n4ZAAAAMFBMVEX////c3NwiIiJERESqqqqY\n",
       "mJh2dnZmZmYQEBDu7u4yMjJUVFTMzMyIiIi6uroAAAAs73DqAAAAAXRSTlMAQObYZgAAAV9JREFU\n",
       "KM9l0r1Lw0AYx/FfTGtz1cbsIrjr6ijEXTE6dJTgoDi0OHUrVHERfMkkjlkc3BT/ge4OBkHEtxoc\n",
       "BbEI6iLi3ZMn8ZpkCM2Hb7k8lwPkNYfiVTA7QpN+vDGs0L2pJSSXbKNnrJWu1on2bTeRU7ZqkP49\n",
       "1LqhWEyT1CK2p2yZutZdA/ckVsC2m3XHWjcFvDtKXtnsMOtM97/7Bq5cJS22ig8YjfOFNjC8mXXG\n",
       "l+wiJSdsVQ84wrK3DZTCwc5XcsBmxYCPZ8zLV+jkOym/bGOyC3BBO9nPrytF74D9XEdzeEp20nXV\n",
       "kMYPxMC6al8WHSUzbKacY6nWxx1Q5jmCZJ9XSda5k6OXPs2OEWX7Ij7Ud3PFHslLus+TELMbazdq\n",
       "i+KkO3TkOWg9dEksh99lq/DdbEeTss9dPesa3JUHpHCuRJjvSMa5M9JzOuJwF0EXOWGPniZYH+ne\n",
       "0869lD/CZGvPCmzcBAAAAABJRU5ErkJggg==\n",
       "\" style=\"display:inline;vertical-align:middle;\" /></a><br>"
      ],
      "text/plain": [
       "expr: (|(x)| , 0)"
      ]
     },
     "execution_count": 2,
     "metadata": {},
     "output_type": "execute_result"
    }
   ],
   "source": [
    "# build up the expression from sub-expressions\n",
    "expr = ExprTuple(Len([x]), zero)"
   ]
  },
  {
   "cell_type": "code",
   "execution_count": 3,
   "metadata": {},
   "outputs": [
    {
     "name": "stdout",
     "output_type": "stream",
     "text": [
      "Passed sanity check: built 'expr' is the same as the stored Expression.\n"
     ]
    }
   ],
   "source": [
    "# check that the built expression is the same as the stored expression\n",
    "%check_expr"
   ]
  },
  {
   "cell_type": "code",
   "execution_count": 4,
   "metadata": {},
   "outputs": [
    {
     "data": {
      "text/html": [
       "<table><tr><th>&nbsp;</th><th>core type</th><th>sub-expressions</th><th>expression</th></tr>\n",
       "<tr><td>0</td><td>ExprTuple</td><td>1, 2</td><td><a class=\"ProveItLink\" href=\"expr.ipynb\"><img src=\"data:image/png;base64,iVBORw0KGgoAAAANSUhEUgAAAE0AAAAVBAMAAADx+n4ZAAAAMFBMVEX////c3NwiIiJERESqqqqY\n",
       "mJh2dnZmZmYQEBDu7u4yMjJUVFTMzMyIiIi6uroAAAAs73DqAAAAAXRSTlMAQObYZgAAAV9JREFU\n",
       "KM9l0r1Lw0AYx/FfTGtz1cbsIrjr6ijEXTE6dJTgoDi0OHUrVHERfMkkjlkc3BT/ge4OBkHEtxoc\n",
       "BbEI6iLi3ZMn8ZpkCM2Hb7k8lwPkNYfiVTA7QpN+vDGs0L2pJSSXbKNnrJWu1on2bTeRU7ZqkP49\n",
       "1LqhWEyT1CK2p2yZutZdA/ckVsC2m3XHWjcFvDtKXtnsMOtM97/7Bq5cJS22ig8YjfOFNjC8mXXG\n",
       "l+wiJSdsVQ84wrK3DZTCwc5XcsBmxYCPZ8zLV+jkOym/bGOyC3BBO9nPrytF74D9XEdzeEp20nXV\n",
       "kMYPxMC6al8WHSUzbKacY6nWxx1Q5jmCZJ9XSda5k6OXPs2OEWX7Ij7Ud3PFHslLus+TELMbazdq\n",
       "i+KkO3TkOWg9dEksh99lq/DdbEeTss9dPesa3JUHpHCuRJjvSMa5M9JzOuJwF0EXOWGPniZYH+ne\n",
       "0869lD/CZGvPCmzcBAAAAABJRU5ErkJggg==\n",
       "\" style=\"display:inline;vertical-align:middle;\" /></a></td></tr>\n",
       "<tr><td>1</td><td>Operation</td><td>operator:&nbsp;3<br>operand:&nbsp;4<br></td><td><a class=\"ProveItLink\" href=\"../ab60a0e54bbef4b214af9e93ea9ff729bac193350/expr.ipynb\"><img src=\"data:image/png;base64,iVBORw0KGgoAAAANSUhEUgAAACsAAAAVBAMAAAAtAwouAAAAMFBMVEX///8iIiJERESYmJhmZmYQ\n",
       "EBDu7u4yMjJUVFTMzMyIiIi6urp2dnbc3NyqqqoAAABw9lLDAAAAAXRSTlMAQObYZgAAAMZJREFU\n",
       "GNNjeMuACfguMJwGM7gXQASYN4BIng1Q4RkwhZ4owmUwYXZkYa4FMGHmA0jCrAkwYbYAJOHtCFfo\n",
       "IQn7APGdFfeWAM06giRcDNR9gFmYVYCB4TmScDSQycD1gW8CA8NWJOHfQNUMHAog5nxUYaBzFqAL\n",
       "x4GI+xMYElANUQb648J6Bi6gsDmSMNBV7w1UGW4xoDpwIwND0pqcUwZAZjWy5y9g9Tw4gMCAZwHW\n",
       "gE1HCe8bMOFeqPBqMI8XGuBcE8DkBgBxP0ZM8mubPgAAAABJRU5ErkJggg==\n",
       "\" style=\"display:inline;vertical-align:middle;\" /></a></td></tr>\n",
       "<tr><td>2</td><td>Literal</td><td></td><td><a class=\"ProveItLink\" href=\"../../../../../number/numeral/__pv_it/ec23fc7a1b4222a5f4948b495002b97d6fa18c3c0/expr.ipynb\"><img src=\"data:image/png;base64,iVBORw0KGgoAAAANSUhEUgAAAAoAAAAOBAMAAADkjZCYAAAALVBMVEX///8QEBCYmJh2dnaqqqrc\n",
       "3NxUVFQyMjK6uroiIiLMzMyIiIhmZmbu7u4AAAAZjyHdAAAAAXRSTlMAQObYZgAAAEpJREFUCNdj\n",
       "YLiz+xQDA8MMhpsLGLgnMHAXMHAmMHA8ZeA7wMD1hCHOgIHrNZh8jES+Bss+AqlkeQrSxTyBgWEK\n",
       "w8UFDAx3rLMYAMCjFldHSx/9AAAAAElFTkSuQmCC\n",
       "\" style=\"display:inline;vertical-align:middle;\" /></a></td></tr>\n",
       "<tr><td>3</td><td>Literal</td><td></td><td><a class=\"ProveItLink\" href=\"../../../../../number/sets/integer/__pv_it/0a9286fafc7688968c9f0b1c9372a7c495b9f9510/expr.ipynb\"><img src=\"data:image/png;base64,iVBORw0KGgoAAAANSUhEUgAAADsAAAASBAMAAAAXqLt+AAAAMFBMVEX///+qqqru7u5ERERUVFTM\n",
       "zMzc3NyIiIgQEBAyMjJmZmaYmJi6uroiIiJ2dnYAAAD2HuJxAAAAAXRSTlMAQObYZgAAAURJREFU\n",
       "KM99kT9LAnEYxz93Xmnn33fgvYJ0iISWhIJ0k95ABw2BixcFkhC1RFu4BU03lNIibg0N3hDUlhA0\n",
       "xlFDQQgmaBQOPXc5BGoPHPf93ef3fJ/vw0FnyKRSc23/He5OYEcwZ/tSr45jpQfxhC9D1jjWxfje\n",
       "8GWpMI6jYtz5lS15iq81bhe3dl2JUn9P3ywvWJxd7ZiCVmTUI0XcvKX24ZySTVLSfZl6VvCx+Dtc\n",
       "RJwH1CHhnpfpUlr6aGmYkY7cddlUhUngUJYNkyc/XVRmBQ/he7SMViWZYN9z8ZiYEsgafI72jzeN\n",
       "A5MllC5myuENQz653vggIZeW4coeH3JTcUSchE3i6xZ7qDXP6kUppAxtgGbPk0ftx6StYRCrl+EO\n",
       "NreJrFXazGYsTqHxPOFXBWyml0MqMZ3qA1b/aVYylebf8w8ORloN8BKQFQAAAABJRU5ErkJggg==\n",
       "\" style=\"display:inline;vertical-align:middle;\" /></a></td></tr>\n",
       "<tr><td>4</td><td>ExprTuple</td><td>5</td><td><a class=\"ProveItLink\" href=\"../89afe848f9909271372a46da8b9aa311d53c45ae0/expr.ipynb\"><img src=\"data:image/png;base64,iVBORw0KGgoAAAANSUhEUgAAABgAAAAVBAMAAACuxzMVAAAAMFBMVEX////c3NwiIiJERESqqqqY\n",
       "mJh2dnZmZmYQEBDu7u4yMjJUVFTMzMyIiIi6uroAAAAs73DqAAAAAXRSTlMAQObYZgAAAKxJREFU\n",
       "GNNjYEABfBcgNOsDIHEaJloDxCthHC4GBt4LMA5rAgPHBBiHs4HhFcIoE4YyICl2W+Q6UHU6w1Kg\n",
       "fAKrKocCA4MXQx8DAxsD7weWAwwMLxj+AWUYuA1Aes6DOAwMHBcgnBYQJX+AYQJImSnQNoH7DLxA\n",
       "ThTQPAb/AAsGWQaQ0Y8YGCZfm5YbAOSsY+AQQHIO0HlQwHYByQuzgFgaxtkIxIxQD/EeYAAAhW8k\n",
       "93ErH/0AAAAASUVORK5CYII=\n",
       "\" style=\"display:inline;vertical-align:middle;\" /></a></td></tr>\n",
       "<tr><td>5</td><td>Variable</td><td></td><td><a class=\"ProveItLink\" href=\"../../../../../__pv_it/530be409e3083890784cf1d7b28c9e67e90af9360/expr.ipynb\"><img src=\"data:image/png;base64,iVBORw0KGgoAAAANSUhEUgAAAAsAAAAJBAMAAAAWSsseAAAAKlBMVEX///9ERETMzMwQEBAiIiKY\n",
       "mJju7u5mZmaqqqpUVFSIiIh2dnbc3NwAAAA/vyDhAAAAAXRSTlMAQObYZgAAAENJREFUCNdjYDi9\n",
       "8sTyBQxsG1hdmR0YuBm4LnAoMLAxcAowgADzAjB1VoEhgYH1wFoGrgSG3gBhhlMMDImrs3cFMAAA\n",
       "t0YN+iTRa+sAAAAASUVORK5CYII=\n",
       "\" style=\"display:inline;vertical-align:middle;\" /></a></td></tr>\n",
       "</table>\n"
      ],
      "text/plain": [
       "0. (|(x)| , 0)\n",
       "   core type: ExprTuple\n",
       "   sub-expressions: 1, 2\n",
       "1. |(x)|\n",
       "   core type: Operation\n",
       "   operator: 3\n",
       "   operand: 4\n",
       "2. 0\n",
       "   core type: Literal\n",
       "   sub-expressions: \n",
       "3. length\n",
       "   core type: Literal\n",
       "   sub-expressions: \n",
       "4. (x)\n",
       "   core type: ExprTuple\n",
       "   sub-expressions: 5\n",
       "5. x\n",
       "   core type: Variable\n",
       "   sub-expressions: "
      ]
     },
     "execution_count": 4,
     "metadata": {},
     "output_type": "execute_result"
    }
   ],
   "source": [
    "# display the expression information\n",
    "expr.exprInfo()"
   ]
  },
  {
   "cell_type": "code",
   "execution_count": null,
   "metadata": {},
   "outputs": [],
   "source": []
  }
 ],
 "metadata": {
  "kernelspec": {
   "display_name": "Python 3",
   "language": "python",
   "name": "python3"
  }
 },
 "nbformat": 4,
 "nbformat_minor": 0
}
