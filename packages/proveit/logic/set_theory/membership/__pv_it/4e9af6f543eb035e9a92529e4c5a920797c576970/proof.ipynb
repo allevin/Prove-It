{
 "cells": [
  {
   "cell_type": "markdown",
   "metadata": {},
   "source": [
    "Show the Proof\n",
    "========"
   ]
  },
  {
   "cell_type": "code",
   "execution_count": 1,
   "metadata": {},
   "outputs": [
    {
     "data": {
      "text/html": [
       "<table><tr><th>&nbsp;</th><th>step type</th><th>requirements</th><th>statement</th></tr>\n",
       "<tr><td>0</td><td>assumption</td><td></td><td><span style=\"font-size:20px;\"><a class=\"ProveItLink\" href=\"../6f08f4864447e4d9bcaf620e5ccc0b4a41cd40de0/expr.ipynb\"><img src=\"data:image/png;base64,iVBORw0KGgoAAAANSUhEUgAAAEsAAAAVBAMAAAD85A5eAAAAMFBMVEX////c3NxERESqqqpUVFS6\n",
       "urrMzMwyMjIQEBCIiIh2dnYiIiLu7u5mZmaYmJgAAABXZE4RAAAAAXRSTlMAQObYZgAAAVVJREFU\n",
       "KM9jYGDgu8eAD7CtEgBRPLsY8AO2ZhDJ+QFEPvnv4qIegK7iyd07TxkYroOYXA1gkSYGBt6vaKrY\n",
       "HzAcAhqyAqGM7ScQf0FT5sXAwFyAoozzI9Avv8CSJ6t3bwczGL8BtU5AUcYEJLl7wObWHYAaxvoZ\n",
       "yEtAUcbvwMBYBJYXgqliYPw/DUyDlfEWgMh8z5m3H4AFFRFum///EyjM3oPYGeBgmC/AwLMFHIwK\n",
       "CGWMT/pB7mC/wMCQ0gYW0QApBRnH2r17N9QLIBf9A5HqQImIBBALFBbvF4B84AA3DCjJA1LGDRJn\n",
       "AbmNDcT1NwBZugGmigdoF+NHmNu4NkCDjfE7WNYPpgwUsrwODMgBAgq2jBqw7GlYzPLuZGCYxICs\n",
       "jFf/i4t7HdR7tQkQBguri9MDFGUogNkd4VMG3MowAFgZH0Fl4PTGs5NQ6m0FU3yLCecFAAJvXVOV\n",
       "CKi0AAAAAElFTkSuQmCC\n",
       "\" style=\"display:inline;vertical-align:middle;\" /></a> <a class=\"ProveItLink\" href=\"proof.ipynb\" style=\"text-decoration: none\">&#x22A2;&nbsp;</a><a class=\"ProveItLink\" href=\"../825241e475a17bb74631905b071dd4ec4b73c99e0/expr.ipynb\"><img src=\"data:image/png;base64,iVBORw0KGgoAAAANSUhEUgAAADgAAAAPBAMAAABD1xE4AAAAMFBMVEX///+qqqru7u4iIiJ2dnbc\n",
       "3NyIiIjMzMxmZmYQEBC6uroyMjJERERUVFSYmJgAAADLUcuvAAAAAXRSTlMAQObYZgAAAPNJREFU\n",
       "GNNjYGB4+//u3dMLGNDA246mVyB6DgMDxy80Oe4HDDofgDT7NyD+iyZ5hYGBcQOQZvvKwMD3BSyk\n",
       "ttnYGsxg/Q7UkABk8ExgYGCeBBJi36cA1cj1EcgrADL4LzCw7gGLxsDkGFj/p0MY9dfSmh+AWUcR\n",
       "dub//xMApgMYmGxBDKYDCEnWt/PBNp0EKQBp5ZpsbAx1EBCw/AORIF+8dwC55wJcI1AtE0iSHUTc\n",
       "FwAZawCTY2oAGvwV6k3W32CxezBJkP85LkC9WbkJLKYMC2EOMwaGHBB9/u/d2/ugTtxRAGHwct29\n",
       "8wA9KhhvI1wLBADxCEOLO6EpugAAAABJRU5ErkJggg==\n",
       "\" style=\"display:inline;vertical-align:middle;\" /></a></span></td></tr>\n",
       "</table>"
      ],
      "text/plain": [
       "<proveit._core_.proof._ShowProof at 0x7f94ebc4a550>"
      ]
     },
     "execution_count": 1,
     "metadata": {},
     "output_type": "execute_result"
    }
   ],
   "source": [
    "import proveit\n",
    "%show_proof"
   ]
  },
  {
   "cell_type": "code",
   "execution_count": null,
   "metadata": {},
   "outputs": [],
   "source": []
  }
 ],
 "metadata": {
  "kernelspec": {
   "display_name": "Python 3",
   "language": "python",
   "name": "python3"
  }
 },
 "nbformat": 4,
 "nbformat_minor": 0
}
