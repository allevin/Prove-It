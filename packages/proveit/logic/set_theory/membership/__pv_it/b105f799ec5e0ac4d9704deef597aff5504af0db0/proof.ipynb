{
 "cells": [
  {
   "cell_type": "markdown",
   "metadata": {},
   "source": [
    "Show the Proof\n",
    "========"
   ]
  },
  {
   "cell_type": "code",
   "execution_count": 1,
   "metadata": {},
   "outputs": [
    {
     "data": {
      "text/html": [
       "<table><tr><th>&nbsp;</th><th>step type</th><th>requirements</th><th>statement</th></tr>\n",
       "<tr><td>0</td><td>specialization</td><td>1</td><td><span style=\"font-size:20px;\"> <a class=\"ProveItLink\" href=\"proof.ipynb\" style=\"text-decoration: none\">&#x22A2;&nbsp;</a><a class=\"ProveItLink\" href=\"../d5b313b7e2c4485d716e9c45c12c3dd69736fce80/expr.ipynb\"><img src=\"data:image/png;base64,iVBORw0KGgoAAAANSUhEUgAAAL8AAAAVCAMAAAAgs8+8AAAAQlBMVEX///9bW1sNDQ0JCQkdHR0P\n",
       "Dw8WFhbc3NwiIiJERESqqqqYmJh2dnZmZmYQEBDu7u4yMjJUVFTMzMyIiIi6uroAAAASwAKsAAAA\n",
       "AXRSTlMAQObYZgAAAihJREFUSMfNl9uW3SAIhtMjGs9R3/9VSzQnkyDutqurXsy/ZzB8RIHNTBO7\n",
       "kpv+75Vi1yyI+FX6Q/cMl1o7d9cldLffzSoYY9z6sFlGcKR7hvsI+8Hd1Pfzw7TH7BX+cDKXzyNc\n",
       "0r3/KC/fuEUjc4ui+S3oInN5VGmeS7qPH2XPK7eopY/BRS9+/hCXY4Zc72wpcGd5MOme4eJiuasm\n",
       "OgkWr9wkoSm5PFdTdSdntnj9p4aNe9v9zkU1212AjgHmaM5bBYleXIuBnOOlarXh4jeaMRDc2yK4\n",
       "qKUuME50p4Sa7Jnu5eTvWRozruNO5vPtjL+s0JYdWY8091Etr1xUW9uLLnvwL8dbOvnaJEAFm/fc\n",
       "TWwBbO6NOJZuDBT3eQNvXNRc/ayG0DyZLMK+f2vraLu2vJ3qkrn4cyK6fp8rxBAX9QKw8QHSbYFu\n",
       "j7u/Fz/BvX93EVxUO7c96sgXJx7N35l9Jzzy55IhQpwHamci/j53GuOiyvpKCkoaTvHM96Cm1PaX\n",
       "vWzMfkSK/QaWioi/y70tkotaW9GMNyPxpeBylU6k0E44RhRzlOP987ljuRoI7r3XUlzUJGrRR+20\n",
       "js2rg//axh+mFEK4HKlnR9AkugaCawa5q1qgR74vwb/1geOkRuYH+NSwXssYt2hnCJPAJMfACEa6\n",
       "Hxn+GG5Vco4F2Xfj/uX8/MLdFKj/I6JiZloYoZHuIfxm/Dt3VyDSgDn+uIzhKPe0YYxb9BejASTg\n",
       "Cm3XTwAAAABJRU5ErkJggg==\n",
       "\" style=\"display:inline;vertical-align:middle;\" /></a></span></td></tr>\n",
       "<tr><td>&nbsp;</td><td colspan=4 style=\"text-align:left\"><span style=\"font-size:20px;\"><a class=\"ProveItLink\" href=\"../../../../../__pv_it/530be409e3083890784cf1d7b28c9e67e90af9360/expr.ipynb\"><img src=\"data:image/png;base64,iVBORw0KGgoAAAANSUhEUgAAAAsAAAAJBAMAAAAWSsseAAAAKlBMVEX///9ERETMzMwQEBAiIiKY\n",
       "mJju7u5mZmaqqqpUVFSIiIh2dnbc3NwAAAA/vyDhAAAAAXRSTlMAQObYZgAAAENJREFUCNdjYDi9\n",
       "8sTyBQxsG1hdmR0YuBm4LnAoMLAxcAowgADzAjB1VoEhgYH1wFoGrgSG3gBhhlMMDImrs3cFMAAA\n",
       "t0YN+iTRa+sAAAAASUVORK5CYII=\n",
       "\" style=\"display:inline;vertical-align:middle;\" /></a> : <a class=\"ProveItLink\" href=\"../../../../../__pv_it/530be409e3083890784cf1d7b28c9e67e90af9360/expr.ipynb\"><img src=\"data:image/png;base64,iVBORw0KGgoAAAANSUhEUgAAAAsAAAAJBAMAAAAWSsseAAAAKlBMVEX///9ERETMzMwQEBAiIiKY\n",
       "mJju7u5mZmaqqqpUVFSIiIh2dnbc3NwAAAA/vyDhAAAAAXRSTlMAQObYZgAAAENJREFUCNdjYDi9\n",
       "8sTyBQxsG1hdmR0YuBm4LnAoMLAxcAowgADzAjB1VoEhgYH1wFoGrgSG3gBhhlMMDImrs3cFMAAA\n",
       "t0YN+iTRa+sAAAAASUVORK5CYII=\n",
       "\" style=\"display:inline;vertical-align:middle;\" /></a>, <a class=\"ProveItLink\" href=\"../../../../../__pv_it/abeee18594afe51bfb1be95d9591fbba24ac53f30/expr.ipynb\"><img src=\"data:image/png;base64,iVBORw0KGgoAAAANSUhEUgAAAA0AAAAOBAMAAAAGUYvhAAAAMFBMVEX///8iIiIQEBCIiIjMzMzc\n",
       "3Nyqqqp2dnZEREQyMjK6urru7u5mZmZUVFSYmJgAAACI6eGPAAAAAXRSTlMAQObYZgAAAF1JREFU\n",
       "CNdjYGDgu3Nm3wIGBoZ5DNz9QIq3gIEhE0jHOzAwOAPp9QkMDC4g/megABAw///fCmbEXfq0Acxg\n",
       "qH8ANAVI7wfSe0BKAyBGnAXigwYMzA1A+sLau31ACgAz0hhbkhGHbwAAAABJRU5ErkJggg==\n",
       "\" style=\"display:inline;vertical-align:middle;\" /></a> : <a class=\"ProveItLink\" href=\"../../../../../__pv_it/abeee18594afe51bfb1be95d9591fbba24ac53f30/expr.ipynb\"><img src=\"data:image/png;base64,iVBORw0KGgoAAAANSUhEUgAAAA0AAAAOBAMAAAAGUYvhAAAAMFBMVEX///8iIiIQEBCIiIjMzMzc\n",
       "3Nyqqqp2dnZEREQyMjK6urru7u5mZmZUVFSYmJgAAACI6eGPAAAAAXRSTlMAQObYZgAAAF1JREFU\n",
       "CNdjYGDgu3Nm3wIGBoZ5DNz9QIq3gIEhE0jHOzAwOAPp9QkMDC4g/megABAw///fCmbEXfq0Acxg\n",
       "qH8ANAVI7wfSe0BKAyBGnAXigwYMzA1A+sLau31ACgAz0hhbkhGHbwAAAABJRU5ErkJggg==\n",
       "\" style=\"display:inline;vertical-align:middle;\" /></a></span></td></tr><tr><td>1</td><td>axiom</td><td></td><td><span style=\"font-size:20px;\"> <a class=\"ProveItLink\" href=\"../../_axioms_.ipynb#notInSetDef\" style=\"text-decoration: none\">&#x22A2;&nbsp;</a><a class=\"ProveItLink\" href=\"../9675a23e9adc2c0ebe46a1cf8c695c3db677fec90/expr.ipynb\"><img src=\"data:image/png;base64,iVBORw0KGgoAAAANSUhEUgAAAQIAAAAWCAMAAAAcoWJbAAAAQlBMVEX///9bW1sNDQ0JCQkdHR0P\n",
       "Dw8WFhYQEBC6urrMzMxUVFRmZmZERETc3NwyMjKqqqp2dnaIiIiYmJgiIiLu7u4AAAAq2h4+AAAA\n",
       "AXRSTlMAQObYZgAAAu9JREFUWMPdV+nWnCAMtavIoqzv/6oFFDWQCM5pe06bP/ebL0xuJmRjmv6g\n",
       "MD/9C/KRl8xAJMQRxi17RzOu6Eghhugu/bDdhUPsHDsJuBDCJ1qxvKEZV1C/vCEGqLdycB1OiHKy\n",
       "8w0BL3u1KelkyH+/oRlXEMcR4jsqeXw4/+iKMRDJOgCfuM6wZXKrx2nGFbigxABLSMU2anP2ELEO\n",
       "Y1b384e7XbYKe+4t2X8/j9OMK3beKPckw4kBWq2yuOFeuELEinW1fpIKfCvsIV52h+Q2SjOuOHjr\n",
       "4zgxwCCTOD0aAqEhKm242oy40lPJ6IiHnqoQzK0JajFKQyoI3loIYoA8H4B3doZVaG3s0naXC330\n",
       "yDo7zVcaZVt1xZoQ5WTZrgCJ9Sa8ocG7G83btg6UGCBLtB7NLiZyJlWlyADqzBJtnYHyEm3byvI5\n",
       "lDpm3WZwmBfuFD3Ei+QBRgwxhdFYuqdXlgMDmExzcITN0d/v36q2tPsdDp4l9EIQGLENPPM6h/G2\n",
       "xBDTz0cXOR/yf+1jCPLFmMZXDfudLRZ/WwgI3mYtIoghxiIo344dhhl+ppabdbvLzhvEMnfOIHrX\n",
       "LAVelJOqKYRbqjsnG5rmFz7z1rdIEVcoFT/qy6fcuji8mEOoXZEWoFW5JCdz5RG3exe5pDQfUS7K\n",
       "dvdDaYkQPPLWQhJXuIkjfqxtxIrXjQuOlS1mmIxH1C0nvWMcThHhstrI8aHYnlgGeJsJShHXeKup\n",
       "cA0Wz/YqqseEu6OXRvs0OUHc1q8wBDzOHc5vF7t2H4vMPSoI3voBRhLXeO1Uy3xGe9pyCSzNqJkV\n",
       "RKwJfeEr2pknuJ8+TkX1VpF8fubFF+R7poVJr3niqjXSCInvG/VTAytk1cnygZcOad4OL7I0cY3X\n",
       "bmE2EfMrBcOmx3R8Zgv1wWO59+r0f/WxjBDXiIf6Qac4xHYntZ33qxrxlzSv+KchKMQ1oo+DRydL\n",
       "G1ZEPneSwCxjDlPmacU0Rlzj6yT4z+QX8HMygUNBMOAAAAAASUVORK5CYII=\n",
       "\" style=\"display:inline;vertical-align:middle;\" /></a></span></td></tr>\n",
       "<tr><td>&nbsp;</td><td colspan=4 style-\"text-align:left\"><a class=\"ProveItLink\" href=\"../../_axioms_.ipynb#notInSetDef\">proveit.logic.set_theory.membership.notInSetDef</a></td></tr></table>"
      ],
      "text/plain": [
       "<proveit._core_.proof._ShowProof at 0x7f94eb222978>"
      ]
     },
     "execution_count": 1,
     "metadata": {},
     "output_type": "execute_result"
    }
   ],
   "source": [
    "import proveit\n",
    "%show_proof"
   ]
  },
  {
   "cell_type": "code",
   "execution_count": null,
   "metadata": {},
   "outputs": [],
   "source": []
  }
 ],
 "metadata": {
  "kernelspec": {
   "display_name": "Python 3",
   "language": "python",
   "name": "python3"
  }
 },
 "nbformat": 4,
 "nbformat_minor": 0
}
