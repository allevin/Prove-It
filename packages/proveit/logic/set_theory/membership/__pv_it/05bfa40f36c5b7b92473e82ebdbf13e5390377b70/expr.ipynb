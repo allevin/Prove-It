{
 "cells": [
  {
   "cell_type": "markdown",
   "metadata": {},
   "source": [
    "Expression of type <a class=\"ProveItLink\" href=\"../../../../../../../doc/html/api/proveit.logic.InSet.html\">InSet</a>\n",
    "=======================\n",
    "# from context <a class=\"ProveItLink\" href=\"../../_context_.ipynb\">proveit.logic.set_theory.membership</a>"
   ]
  },
  {
   "cell_type": "code",
   "execution_count": 1,
   "metadata": {},
   "outputs": [],
   "source": [
    "# import Expression classes needed to build the expression\n",
    "from proveit._common_ import S, x\n",
    "from proveit.logic import InSet\n",
    "from proveit.number import Exp, zero"
   ]
  },
  {
   "cell_type": "code",
   "execution_count": 2,
   "metadata": {},
   "outputs": [
    {
     "data": {
      "text/html": [
       "<strong id=\"expr\">expr:</strong> <a class=\"ProveItLink\" href=\"expr.ipynb\"><img src=\"data:image/png;base64,iVBORw0KGgoAAAANSUhEUgAAAEoAAAAZBAMAAABk5KUbAAAAMFBMVEX////c3NwiIiJERESqqqqY\n",
       "mJh2dnZmZmYQEBDu7u4yMjJUVFTMzMyIiIi6uroAAAAs73DqAAAAAXRSTlMAQObYZgAAAXNJREFU\n",
       "KM9jYCAI0q4TVsPAm8C3gbAqpgMMPwmrmj+BQYWwqvMTGHQZGPguQHisD7Creg9WdRrGrcFUEV1e\n",
       "GQcxayVMiAtDEVcAw+QP8wUYWhh4L8DEWBPQVW1jYGBZwHGA4SMDxwSYGGcDhJ67SEkLzGD8w8DA\n",
       "cwEYXgYMrxBaTcAkz1KYPr4vQN4BhrvXJzCUAblit0WuAy1OB8sJww1n/H8HxlwKtCqBVZVDgYHB\n",
       "CyxgiDD8/v/PAhBWHwMDGwPvB5YDDAwvwK4zQKhijO7vhLD+ASUYuMFS58GOaVJSgroeCNi+wlUx\n",
       "MHBcgKviQSSAAKABUFUtIEL+AMMEmI0K8JApANr5EcI2BQanwH0GXqCqKLDAVpgqlgUMDOxQk4He\n",
       "9w+wYJBlgIXEJFisswOj7zKU/YiBYfK1ablANzCsg3hs+QGIDDff7s0BUFUcAugxxLIL4UfMOGa7\n",
       "gCctwlPOLHwpVhrG2IhPFSPUIt4DuNUAAOAwVihvTSXbAAAAAElFTkSuQmCC\n",
       "\" style=\"display:inline;vertical-align:middle;\" /></a><br>"
      ],
      "text/plain": [
       "expr: (x) in S^{0}"
      ]
     },
     "execution_count": 2,
     "metadata": {},
     "output_type": "execute_result"
    }
   ],
   "source": [
    "# build up the expression from sub-expressions\n",
    "expr = InSet([x], Exp(S, zero))"
   ]
  },
  {
   "cell_type": "code",
   "execution_count": 3,
   "metadata": {},
   "outputs": [
    {
     "name": "stdout",
     "output_type": "stream",
     "text": [
      "Passed sanity check: built 'expr' is the same as the stored Expression.\n"
     ]
    }
   ],
   "source": [
    "# check that the built expression is the same as the stored expression\n",
    "%check_expr"
   ]
  },
  {
   "cell_type": "code",
   "execution_count": 4,
   "metadata": {},
   "outputs": [
    {
     "data": {
      "text/html": [
       "<table><tr><th>&nbsp;</th><th>core type</th><th>sub-expressions</th><th>expression</th></tr>\n",
       "<tr><td>0</td><td>Operation</td><td>operator:&nbsp;1<br>operands:&nbsp;2<br></td><td><a class=\"ProveItLink\" href=\"expr.ipynb\"><img src=\"data:image/png;base64,iVBORw0KGgoAAAANSUhEUgAAAEoAAAAZBAMAAABk5KUbAAAAMFBMVEX////c3NwiIiJERESqqqqY\n",
       "mJh2dnZmZmYQEBDu7u4yMjJUVFTMzMyIiIi6uroAAAAs73DqAAAAAXRSTlMAQObYZgAAAXNJREFU\n",
       "KM9jYCAI0q4TVsPAm8C3gbAqpgMMPwmrmj+BQYWwqvMTGHQZGPguQHisD7Creg9WdRrGrcFUEV1e\n",
       "GQcxayVMiAtDEVcAw+QP8wUYWhh4L8DEWBPQVW1jYGBZwHGA4SMDxwSYGGcDhJ67SEkLzGD8w8DA\n",
       "cwEYXgYMrxBaTcAkz1KYPr4vQN4BhrvXJzCUAblit0WuAy1OB8sJww1n/H8HxlwKtCqBVZVDgYHB\n",
       "CyxgiDD8/v/PAhBWHwMDGwPvB5YDDAwvwK4zQKhijO7vhLD+ASUYuMFS58GOaVJSgroeCNi+wlUx\n",
       "MHBcgKviQSSAAKABUFUtIEL+AMMEmI0K8JApANr5EcI2BQanwH0GXqCqKLDAVpgqlgUMDOxQk4He\n",
       "9w+wYJBlgIXEJFisswOj7zKU/YiBYfK1ablANzCsg3hs+QGIDDff7s0BUFUcAugxxLIL4UfMOGa7\n",
       "gCctwlPOLHwpVhrG2IhPFSPUIt4DuNUAAOAwVihvTSXbAAAAAElFTkSuQmCC\n",
       "\" style=\"display:inline;vertical-align:middle;\" /></a></td></tr>\n",
       "<tr><td>1</td><td>Literal</td><td></td><td><a class=\"ProveItLink\" href=\"../088cbc857536a28d4119ad9639a84270ccb0545d0/expr.ipynb\"><img src=\"data:image/png;base64,iVBORw0KGgoAAAANSUhEUgAAAAwAAAAMBAMAAACkW0HUAAAALVBMVEX///+qqqpmZmZUVFQQEBC6\n",
       "urpERETc3NyYmJjMzMwiIiIyMjKIiIju7u4AAACYsrA9AAAAAXRSTlMAQObYZgAAADxJREFUCNdj\n",
       "YOA9vWrVBgaG2b0MQMCeCyIZ2ArA1DUwyRCyahVIyWQI7xaEYm4AU7xLIdxqTQgtvGvVBgCkcQ7e\n",
       "geM/tQAAAABJRU5ErkJggg==\n",
       "\" style=\"display:inline;vertical-align:middle;\" /></a></td></tr>\n",
       "<tr><td>2</td><td>ExprTuple</td><td>3, 4</td><td><a class=\"ProveItLink\" href=\"../facf141ac51acfcab6213dac64956f1d25a6b2e70/expr.ipynb\"><img src=\"data:image/png;base64,iVBORw0KGgoAAAANSUhEUgAAAE4AAAAcBAMAAAA9wpTSAAAAMFBMVEX///+qqqp2dnYiIiJERESI\n",
       "iIhmZmYQEBDc3NyYmJgyMjLu7u5UVFTMzMy6uroAAACGxKilAAAAAXRSTlMAQObYZgAAAdBJREFU\n",
       "OMuNUz1IQlEU/kzNp0/TpUUIJHBqyClaghqCgqBHIREVBVFLDUIEQUQONdTi62doCqcgaJCGohYd\n",
       "oj8aXNqKGmqzMiIywuycZ+++Z4l14b77vXO/e8/5zjkXqDyqgiP4z+hBRoePlXgt8CYQYORJVaDJ\n",
       "H7D6cMXwMFGB5yGeArtC8Iz/77/tmz94NRoPzYAUMfuuThsc5/H4wUORN0g7rNslfMcN3jbkbjkH\n",
       "hw9IJuC4JVNYbK4K5CaVfszBGwWsKm7YNit29wWKUQiXlL87DqcVfRyt4c3m09EToWvYwxMcahbn\n",
       "TCcXUvC0dozqJMoUe02bZXexDBXYxZo6BVjE1fZCoUOkMY8tWlhLAMOoo5MRccnSyZueBukTTbR4\n",
       "iZfAkXYya8pyo6qX71nwgOkSnpNmUjXu22G/LFLKQzb53WMpUZ2X17zZ6NyGPYsBuoZ1cFh+mpNC\n",
       "bw690JJhebdFJKWYF/mFbKPUJq2i1Fk8MT0Eub2hvp9TRKHK8+QvlbnoNLo/Di9nc6a0bjXRH+3l\n",
       "UrRym6of1LWWjGQUnpC5r+R4Wd46zTbWrfepW/Oo/H5NwDKDxW/DUNlX4uTmsAT+fMQL2nflT94E\n",
       "/j2+ACQma0n5L40qAAAAAElFTkSuQmCC\n",
       "\" style=\"display:inline;vertical-align:middle;\" /></a></td></tr>\n",
       "<tr><td>3</td><td>ExprTuple</td><td>5</td><td><a class=\"ProveItLink\" href=\"../89afe848f9909271372a46da8b9aa311d53c45ae0/expr.ipynb\"><img src=\"data:image/png;base64,iVBORw0KGgoAAAANSUhEUgAAABgAAAAVBAMAAACuxzMVAAAAMFBMVEX////c3NwiIiJERESqqqqY\n",
       "mJh2dnZmZmYQEBDu7u4yMjJUVFTMzMyIiIi6uroAAAAs73DqAAAAAXRSTlMAQObYZgAAAKxJREFU\n",
       "GNNjYEABfBcgNOsDIHEaJloDxCthHC4GBt4LMA5rAgPHBBiHs4HhFcIoE4YyICl2W+Q6UHU6w1Kg\n",
       "fAKrKocCA4MXQx8DAxsD7weWAwwMLxj+AWUYuA1Aes6DOAwMHBcgnBYQJX+AYQJImSnQNoH7DLxA\n",
       "ThTQPAb/AAsGWQaQ0Y8YGCZfm5YbAOSsY+AQQHIO0HlQwHYByQuzgFgaxtkIxIxQD/EeYAAAhW8k\n",
       "93ErH/0AAAAASUVORK5CYII=\n",
       "\" style=\"display:inline;vertical-align:middle;\" /></a></td></tr>\n",
       "<tr><td>4</td><td>Operation</td><td>operator:&nbsp;6<br>operands:&nbsp;7<br></td><td><a class=\"ProveItLink\" href=\"../bfb5392490de1a203b8848ec91ac758555d35bd80/expr.ipynb\"><img src=\"data:image/png;base64,iVBORw0KGgoAAAANSUhEUgAAABUAAAAUBAMAAACQZWsAAAAAMFBMVEX///8iIiIQEBCIiIjMzMzc\n",
       "3Nyqqqp2dnZEREQyMjK6urru7u5mZmZUVFSYmJgAAACI6eGPAAAAAXRSTlMAQObYZgAAAJBJREFU\n",
       "CNdjYIAA9uIDDDBgzrAWzhZh4N8AZXL/ZmBMgLJZgGwDKJsLyua7c2bfEih7HgN3P/dXBiaget4C\n",
       "BoZMBhUG/gAGhngHBgZnoPkrgErWA+VcGJiNTwPZ8Z8d4DYy///fCufEXfq0Ac5hqH8AofmAeD+U\n",
       "vQekPQDCzgTis1C1Bw0YmBug7Atr7/ZBmQDnjiQOx+wj+wAAAABJRU5ErkJggg==\n",
       "\" style=\"display:inline;vertical-align:middle;\" /></a></td></tr>\n",
       "<tr><td>5</td><td>Variable</td><td></td><td><a class=\"ProveItLink\" href=\"../../../../../__pv_it/530be409e3083890784cf1d7b28c9e67e90af9360/expr.ipynb\"><img src=\"data:image/png;base64,iVBORw0KGgoAAAANSUhEUgAAAAsAAAAJBAMAAAAWSsseAAAAKlBMVEX///9ERETMzMwQEBAiIiKY\n",
       "mJju7u5mZmaqqqpUVFSIiIh2dnbc3NwAAAA/vyDhAAAAAXRSTlMAQObYZgAAAENJREFUCNdjYDi9\n",
       "8sTyBQxsG1hdmR0YuBm4LnAoMLAxcAowgADzAjB1VoEhgYH1wFoGrgSG3gBhhlMMDImrs3cFMAAA\n",
       "t0YN+iTRa+sAAAAASUVORK5CYII=\n",
       "\" style=\"display:inline;vertical-align:middle;\" /></a></td></tr>\n",
       "<tr><td>6</td><td>Literal</td><td></td><td><a class=\"ProveItLink\" href=\"../../../../../number/exponentiation/__pv_it/deb2bf23cbccdd6e6791e1b35b5b9794ce12dbd50/expr.ipynb\"><img src=\"data:image/png;base64,iVBORw0KGgoAAAANSUhEUgAAACgAAAASBAMAAADbMYGVAAAAMFBMVEX///8QEBAiIiKYmJjc3Nzu\n",
       "7u7MzMx2dnZmZma6urpERESqqqoyMjJUVFSIiIgAAAAoDOMTAAAAAXRSTlMAQObYZgAAAOBJREFU\n",
       "GNNjYGB4+//u3Tt/GNAASGAXmhjnPyDBgSbI/g1IxKEJ8nxgYGdgQRPkX8BgDKRY6q7s62OYvmze\n",
       "2wAgb/7ZO1+AVDiDkYEQQ0HTBr4DQF59AgOIKmB4z7CNbcNZBu6vQN55kEACQwDDLQYGVobfDHwg\n",
       "fb8YGBxYHwAZciD3fWXg+gB1JjvQcJZvQIXsCgz8F6DO9GBgMOH7wPCUgaeBwd4B7EwGNjUG7s9c\n",
       "AiwPgO5jkWRgiF3/9+5dfQUG1nWl5Y+B7pv+1gE9bBhqGLCAE1jEWH9jEbT5A3IwAC4sP/1L6Qlu\n",
       "AAAAAElFTkSuQmCC\n",
       "\" style=\"display:inline;vertical-align:middle;\" /></a></td></tr>\n",
       "<tr><td>7</td><td>ExprTuple</td><td>8, 9</td><td><a class=\"ProveItLink\" href=\"../ab4a496c55b626ab9a84c97653037d00753a67410/expr.ipynb\"><img src=\"data:image/png;base64,iVBORw0KGgoAAAANSUhEUgAAAC0AAAAVBAMAAAAgHXppAAAAMFBMVEX////c3NwiIiJERESqqqqY\n",
       "mJh2dnZmZmYQEBDu7u4yMjJUVFTMzMyIiIi6uroAAAAs73DqAAAAAXRSTlMAQObYZgAAAR5JREFU\n",
       "GNN1kT8sBEEUh7/DcuPsZRuV4vQUFGpba2yllI1GJURxCpEolCLXiOtuG4VOR6LZHrmNRoJiKSmO\n",
       "Bg3nvbnbdXIxyUze98vM+/Mb+G+Vkz5pWY9LPZyzrcNUA7NzGzMSS3SieIyZt1cHUjMNEbiaphTC\n",
       "gtVv4A6WoFgTqsjDa6tPQcujDs9KLR+urP4BTZ9Bn6pS5SvudFJ4Fz1heEMqynLb7dlfPWQo4sDy\n",
       "+PlnrUcv7/LdnWU96Mkz9mp1R3YjyOsGqu8JHGlpL+tz0dM8c3RG2sZ051qRBBGrApsJ7gyNSfXB\n",
       "N/ton08Cpy8X8qz+pr5V72WU0ZSil9v7mEfigxPmFOTRWubzX92Iz0xk5OYXSpq70P+PD/ADC49K\n",
       "CzsTSOoAAAAASUVORK5CYII=\n",
       "\" style=\"display:inline;vertical-align:middle;\" /></a></td></tr>\n",
       "<tr><td>8</td><td>Variable</td><td></td><td><a class=\"ProveItLink\" href=\"../../../../../__pv_it/abeee18594afe51bfb1be95d9591fbba24ac53f30/expr.ipynb\"><img src=\"data:image/png;base64,iVBORw0KGgoAAAANSUhEUgAAAA0AAAAOBAMAAAAGUYvhAAAAMFBMVEX///8iIiIQEBCIiIjMzMzc\n",
       "3Nyqqqp2dnZEREQyMjK6urru7u5mZmZUVFSYmJgAAACI6eGPAAAAAXRSTlMAQObYZgAAAF1JREFU\n",
       "CNdjYGDgu3Nm3wIGBoZ5DNz9QIq3gIEhE0jHOzAwOAPp9QkMDC4g/megABAw///fCmbEXfq0Acxg\n",
       "qH8ANAVI7wfSe0BKAyBGnAXigwYMzA1A+sLau31ACgAz0hhbkhGHbwAAAABJRU5ErkJggg==\n",
       "\" style=\"display:inline;vertical-align:middle;\" /></a></td></tr>\n",
       "<tr><td>9</td><td>Literal</td><td></td><td><a class=\"ProveItLink\" href=\"../../../../../number/numeral/__pv_it/ec23fc7a1b4222a5f4948b495002b97d6fa18c3c0/expr.ipynb\"><img src=\"data:image/png;base64,iVBORw0KGgoAAAANSUhEUgAAAAoAAAAOBAMAAADkjZCYAAAALVBMVEX///8QEBCYmJh2dnaqqqrc\n",
       "3NxUVFQyMjK6uroiIiLMzMyIiIhmZmbu7u4AAAAZjyHdAAAAAXRSTlMAQObYZgAAAEpJREFUCNdj\n",
       "YLiz+xQDA8MMhpsLGLgnMHAXMHAmMHA8ZeA7wMD1hCHOgIHrNZh8jES+Bss+AqlkeQrSxTyBgWEK\n",
       "w8UFDAx3rLMYAMCjFldHSx/9AAAAAElFTkSuQmCC\n",
       "\" style=\"display:inline;vertical-align:middle;\" /></a></td></tr>\n",
       "</table>\n"
      ],
      "text/plain": [
       "0. (x) in S^{0}\n",
       "   core type: Operation\n",
       "   operator: 1\n",
       "   operands: 2\n",
       "1. in\n",
       "   core type: Literal\n",
       "   sub-expressions: \n",
       "2. ((x) , S^{0})\n",
       "   core type: ExprTuple\n",
       "   sub-expressions: 3, 4\n",
       "3. (x)\n",
       "   core type: ExprTuple\n",
       "   sub-expressions: 5\n",
       "4. S^{0}\n",
       "   core type: Operation\n",
       "   operator: 6\n",
       "   operands: 7\n",
       "5. x\n",
       "   core type: Variable\n",
       "   sub-expressions: \n",
       "6. Exp\n",
       "   core type: Literal\n",
       "   sub-expressions: \n",
       "7. (S , 0)\n",
       "   core type: ExprTuple\n",
       "   sub-expressions: 8, 9\n",
       "8. S\n",
       "   core type: Variable\n",
       "   sub-expressions: \n",
       "9. 0\n",
       "   core type: Literal\n",
       "   sub-expressions: "
      ]
     },
     "execution_count": 4,
     "metadata": {},
     "output_type": "execute_result"
    }
   ],
   "source": [
    "# display the expression information\n",
    "expr.exprInfo()"
   ]
  },
  {
   "cell_type": "code",
   "execution_count": null,
   "metadata": {},
   "outputs": [],
   "source": []
  }
 ],
 "metadata": {
  "kernelspec": {
   "display_name": "Python 3",
   "language": "python",
   "name": "python3"
  }
 },
 "nbformat": 4,
 "nbformat_minor": 0
}
