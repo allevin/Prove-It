{
 "cells": [
  {
   "cell_type": "markdown",
   "metadata": {},
   "source": [
    "Show the Proof\n",
    "========"
   ]
  },
  {
   "cell_type": "code",
   "execution_count": 1,
   "metadata": {},
   "outputs": [
    {
     "data": {
      "text/html": [
       "<table><tr><th>&nbsp;</th><th>step type</th><th>requirements</th><th>statement</th></tr>\n",
       "<tr><td>0</td><td>assumption</td><td></td><td><span style=\"font-size:20px;\"><a class=\"ProveItLink\" href=\"../0bdcf5b1be86a64613b85fb333664ba60799088c0/expr.ipynb\"><img src=\"data:image/png;base64,iVBORw0KGgoAAAANSUhEUgAAAH0AAAAVBAMAAACZCfwhAAAAMFBMVEX////c3NxERESqqqpUVFS6\n",
       "urrMzMwyMjIQEBCIiIh2dnYiIiLu7u5mZmaYmJgAAABXZE4RAAAAAXRSTlMAQObYZgAAAf1JREFU\n",
       "OMtjYGDgu8dAFmBbJQCieHaByEg8Cp/iMqAZRHJ+ADEdsCvh8717LoA3AVVw+af6ik0GQMZ1EI+r\n",
       "AUiwH8Cuv46BR5+BoQBNVCGSp2YVkF4B1z8Tu3aWBQwM5gwMrzD0M0xlR9HfgyzNM333boiV8kCX\n",
       "ZzIwnEATB+q3YzmApJ8VxYXpb2CseKAv0xgYmAxQxUH2CyHbzwt0J4PUFOG5E4A0ow7cJPmf4KDj\n",
       "usCAIq4QybZPB6afF2g3+wOg6xbw7ePYABRgEoDr5/z/XxFIMYOdhxBXiN7/A2TTexAnI4CBgQOI\n",
       "uYAxyQyy7hCSV+Q8fgD9yQoKIiRxoPtnGoFiDeiulDYggx+on4eBRQEsG7F7Nyz8gGA90GlsH1DF\n",
       "gfqZWEFeVgdKRiRA9ANdMQGsIwWReoD4PFx/CrL9TAxAy7hBZrAAjeQwgMYWKBmdhqs7CxIUgLn/\n",
       "NIZ+sP+5gGHGBLSET2A+AydIP8sDmDpg0mG4AnIH2NUIcZj74fEHiiD7BxoMkuBkshWm7vYEBk4F\n",
       "ePwhxIH6305Cjn9WoBsOzTq1EmKD+DWoOocQFz0QzR6AIg7MP9otBijptxElfZtU70ZJkCdwiCP0\n",
       "v8JbUqzEIQ7Wz4cv/0LyTQEOCXD+59kJStsOePSzCOAof1ohqWQxkJDEo38anvIPABDqiGG8tGR0\n",
       "AAAAAElFTkSuQmCC\n",
       "\" style=\"display:inline;vertical-align:middle;\" /></a> <a class=\"ProveItLink\" href=\"proof.ipynb\" style=\"text-decoration: none\">&#x22A2;&nbsp;</a><a class=\"ProveItLink\" href=\"../95857e7f538d672d83b67a71660ff5163f3647690/expr.ipynb\"><img src=\"data:image/png;base64,iVBORw0KGgoAAAANSUhEUgAAAGgAAAAVBAMAAABYjraNAAAAMFBMVEX////c3NwiIiJERESqqqqY\n",
       "mJh2dnZmZmYQEBDu7u4yMjJUVFTMzMyIiIi6uroAAAAs73DqAAAAAXRSTlMAQObYZgAAAZxJREFU\n",
       "OMtjYCAL8F3ALcf6AIfEaRzi0eWVcQw1qGJs661+NZkAGSux6+EKYJj8gYELTZSZ78KsaQkMvDhc\n",
       "t42BgWUBA2sChibeBwsYOCYgC85dpKQFZjD+YWDgucDA2YAqDtTEErCT4RWyHp6lMCP4vgB5BxgY\n",
       "TFDFQTY9NGAoAxmbu9G3FiQmDLeW8f8dMJ3OgCIO1HQoeALDUiBzGkNQQBNIzBBh6f3/nwWAlBcD\n",
       "ijgzn9L/XgaGPiAzgeE+gw+Q5jRAaGKM7u8EUi8YUMRBzrtiwPAPyJzAsBnikSYlJWhAgCLlK5A4\n",
       "jyoO1MRg8AysiYGhF+LfDXCLAoDmwzUhxMGamBlaoAHMCXKGAkySswAo+BHuPAU0TaZAZiDvB4ab\n",
       "ILGtMElgvDKwg8yPYkARhzoPGKYsX5kbGMEJYxIsgbLrMjBcRgQ5XByoibXWgOER0HbbzLSrkCBb\n",
       "fgAiyc23e3MAiLEORRyYYD9rbGFg4BBAThIsuxChB/ZNA1Zx9CSJlhdwJOeV+DTNwiEujU/TRhzi\n",
       "jHiyO+8BrMIATOVt+0dxm7sAAAAASUVORK5CYII=\n",
       "\" style=\"display:inline;vertical-align:middle;\" /></a></span></td></tr>\n",
       "</table>"
      ],
      "text/plain": [
       "<proveit._core_.proof._ShowProof at 0x7f95000b08d0>"
      ]
     },
     "execution_count": 1,
     "metadata": {},
     "output_type": "execute_result"
    }
   ],
   "source": [
    "import proveit\n",
    "%show_proof"
   ]
  },
  {
   "cell_type": "code",
   "execution_count": null,
   "metadata": {},
   "outputs": [],
   "source": []
  }
 ],
 "metadata": {
  "kernelspec": {
   "display_name": "Python 3",
   "language": "python",
   "name": "python3"
  }
 },
 "nbformat": 4,
 "nbformat_minor": 0
}
