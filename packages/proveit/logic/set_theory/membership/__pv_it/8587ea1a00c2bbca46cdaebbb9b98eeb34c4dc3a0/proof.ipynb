{
 "cells": [
  {
   "cell_type": "markdown",
   "metadata": {},
   "source": [
    "Show the Proof\n",
    "========"
   ]
  },
  {
   "cell_type": "code",
   "execution_count": 1,
   "metadata": {},
   "outputs": [
    {
     "data": {
      "text/html": [
       "<table><tr><th>&nbsp;</th><th>step type</th><th>requirements</th><th>statement</th></tr>\n",
       "<tr><td>0</td><td>assumption</td><td></td><td><span style=\"font-size:20px;\"><a class=\"ProveItLink\" href=\"../a65325800e03ff39784efe3edf935be4dbb76c1a0/expr.ipynb\"><img src=\"data:image/png;base64,iVBORw0KGgoAAAANSUhEUgAAAGcAAAAVBAMAAACphe0AAAAAMFBMVEX///9ERETc3NyqqqpUVFS6\n",
       "urrMzMwyMjIQEBCIiIh2dnYiIiLu7u5mZmaYmJgAAABJJ2g3AAAAAXRSTlMAQObYZgAAAYJJREFU\n",
       "OMuFlDFIw0AUhv8mTdLUpHUTt65OioPgVh2cO+rWwcHxNteiKIgOLgoF0YIItjgUxKG6dCyK0Elx\n",
       "kSK41MFSQdCh+O56F9rmUm94Se6/L/fuz3sBkHqFmUF4zGvmYFfEUu8WSObEzJpU3kW8gJba5tHt\n",
       "KMjOSsHPa6HH4hPFZ36bLCjIqSuZaaEbPNDbLoehYiC3dZBbhctC0EGgN3TQRBZWdxSyWKDH5jRQ\n",
       "ugn7axTyS4BRXl58oeemBpotwf6RkM8k5LSAe3y09gGTKcjfFCMroV/gk09v5CSUoFDCGRYo00LE\n",
       "TgQ5lMX6LiSUplDHkvhinej0MEUZreYHIGAvEuJG9MhEOjri6kwJbpnxDW8wPf9OjMm+5WZXnilZ\n",
       "lVCMtn2jojqhGmb6j8vXDltOPpu9WME4jLAc12iEysiqwpu+qpxy93Pagi2vIFRGW+PLSI4RqB0I\n",
       "5f+gVLg1PDYGEv3k1RRkqCaMZ8Z07o64pM7h9tt9RgrHIh5F/iP+ANOSd2GHK7+bAAAAAElFTkSu\n",
       "QmCC\n",
       "\" style=\"display:inline;vertical-align:middle;\" /></a> <a class=\"ProveItLink\" href=\"proof.ipynb\" style=\"text-decoration: none\">&#x22A2;&nbsp;</a><a class=\"ProveItLink\" href=\"../fa755c749883762f531e7795602c8a3b9b1e9b330/expr.ipynb\"><img src=\"data:image/png;base64,iVBORw0KGgoAAAANSUhEUgAAAFMAAAAVBAMAAADInc9CAAAAMFBMVEX///8iIiJERESYmJhmZmYQ\n",
       "EBDu7u4yMjJUVFTMzMyIiIi6urp2dnbc3NyqqqoAAABw9lLDAAAAAXRSTlMAQObYZgAAASdJREFU\n",
       "KM9jeMuACfguMGADp8Ek9wIIj3kDiOTZgEfpDBjXE6tSNq8lE2BKy2CC7FiVMm5gk4Qq5VoAE2Q+\n",
       "gE3pQgaG5VClrAlwqwKwKZVgYNh/AaJ0O0JUD5vSLwwM8x9AlPoA8Z0V95YA3XEEi1LeP0ClCyBK\n",
       "i4E2H2AWZhVgYHgOV+peDgIVMKUHIEqjgdIMXB/4gCGyFZepUKW/gaYycCiAmPMJOOA3OBgW4FIK\n",
       "9pYBRGkciLg/gSEB2QGOgiAgBA2s99DAUgaG/YX1DFxApeY4ouAgNAqAIfTeQJXhFgP2wGJgfMAW\n",
       "CVW6kYEhaU3OKQMgsxprcvFZAUsurBfwRyxSIgQnEjDgWUAovcITYTrBpH0Dxu3Fo3Q1JD6gCZZr\n",
       "ApjEqhQAjJRi4syH1hkAAAAASUVORK5CYII=\n",
       "\" style=\"display:inline;vertical-align:middle;\" /></a></span></td></tr>\n",
       "</table>"
      ],
      "text/plain": [
       "<proveit._core_.proof._ShowProof at 0x7f94e8e03080>"
      ]
     },
     "execution_count": 1,
     "metadata": {},
     "output_type": "execute_result"
    }
   ],
   "source": [
    "import proveit\n",
    "%show_proof"
   ]
  },
  {
   "cell_type": "code",
   "execution_count": null,
   "metadata": {},
   "outputs": [],
   "source": []
  }
 ],
 "metadata": {
  "kernelspec": {
   "display_name": "Python 3",
   "language": "python",
   "name": "python3"
  }
 },
 "nbformat": 4,
 "nbformat_minor": 0
}
