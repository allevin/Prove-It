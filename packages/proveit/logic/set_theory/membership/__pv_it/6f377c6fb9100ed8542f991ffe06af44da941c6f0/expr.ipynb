{
 "cells": [
  {
   "cell_type": "markdown",
   "metadata": {},
   "source": [
    "Expression of type <a class=\"ProveItLink\" href=\"../../../../../../../doc/html/api/proveit.ExprTuple.html\">ExprTuple</a>\n",
    "=======================\n",
    "# from context <a class=\"ProveItLink\" href=\"../../_context_.ipynb\">proveit.logic.set_theory.membership</a>"
   ]
  },
  {
   "cell_type": "code",
   "execution_count": 1,
   "metadata": {},
   "outputs": [],
   "source": [
    "# import Expression classes needed to build the expression\n",
    "from proveit import ExprTuple\n",
    "from proveit._common_ import S, a\n",
    "from proveit.number import Exp, one"
   ]
  },
  {
   "cell_type": "code",
   "execution_count": 2,
   "metadata": {},
   "outputs": [
    {
     "data": {
      "text/html": [
       "<strong id=\"expr\">expr:</strong> <a class=\"ProveItLink\" href=\"expr.ipynb\"><img src=\"data:image/png;base64,iVBORw0KGgoAAAANSUhEUgAAAEwAAAAcBAMAAAA5N0TvAAAAMFBMVEX///+qqqp2dnYiIiJERESI\n",
       "iIhmZmYQEBDc3NyYmJgyMjLu7u5UVFTMzMy6uroAAACGxKilAAAAAXRSTlMAQObYZgAAAbtJREFU\n",
       "OMuNUz1LA0EQfUk0ueSSS/6BabSwkDSKjRBLweJAwcYvLGy00E4Q9AorEYxiKZJKEC1SCIJNRLQw\n",
       "WFxhKShYKBZ6AZEE0fj27vYuCcE4MHmT3bc7M2/ngL8tkcU/LLGYkeHbX7wAaWn7wEU72r0Izgvt\n",
       "aJ06gxu6pjuLBy1pGASUJbjX0sJmHWN/fuHAoU1yZ5Z4LLfyPiuWw6nl0IoFRB7d5Lbt+rRLZsw7\n",
       "tFAOD4SI18WZx1K+KYLu0MJZTBBevc2OlIy0Mmmm0vvJTFELJS7NidPXfStAcNa7rTblHda+MEo4\n",
       "oj8bHZZdjbSZ2ochn+wbh4Q1Hq6KCqAt+cXtr6/K8AcDhB8gbiHEKhJWnXDBqhuoZUlLZlE062k5\n",
       "7lb9204Iy8C2ji4U/KQqe1EqvjhXhBEKnUIpYCIqWlDh9BKWs6NVMEboEU8TGAi6ghQpabgfGJcF\n",
       "ULd3wpOQbfpumuxH8RRMFtdur3JeL3kkWXjEaHysl6ZpiumIc4SjabnQLbtssKKBRKZukNR8S9oe\n",
       "fZi+5f6P29k7m0d4iL4phHEHbqrl9xAV7QfS7T7WDft3px1tAf+1X+COZoF6x2VoAAAAAElFTkSu\n",
       "QmCC\n",
       "\" style=\"display:inline;vertical-align:middle;\" /></a><br>"
      ],
      "text/plain": [
       "expr: ((a) , S^{1})"
      ]
     },
     "execution_count": 2,
     "metadata": {},
     "output_type": "execute_result"
    }
   ],
   "source": [
    "# build up the expression from sub-expressions\n",
    "expr = ExprTuple([a], Exp(S, one))"
   ]
  },
  {
   "cell_type": "code",
   "execution_count": 3,
   "metadata": {},
   "outputs": [
    {
     "name": "stdout",
     "output_type": "stream",
     "text": [
      "Passed sanity check: built 'expr' is the same as the stored Expression.\n"
     ]
    }
   ],
   "source": [
    "# check that the built expression is the same as the stored expression\n",
    "%check_expr"
   ]
  },
  {
   "cell_type": "code",
   "execution_count": 4,
   "metadata": {},
   "outputs": [
    {
     "data": {
      "text/html": [
       "<table><tr><th>&nbsp;</th><th>core type</th><th>sub-expressions</th><th>expression</th></tr>\n",
       "<tr><td>0</td><td>ExprTuple</td><td>1, 2</td><td><a class=\"ProveItLink\" href=\"expr.ipynb\"><img src=\"data:image/png;base64,iVBORw0KGgoAAAANSUhEUgAAAEwAAAAcBAMAAAA5N0TvAAAAMFBMVEX///+qqqp2dnYiIiJERESI\n",
       "iIhmZmYQEBDc3NyYmJgyMjLu7u5UVFTMzMy6uroAAACGxKilAAAAAXRSTlMAQObYZgAAAbtJREFU\n",
       "OMuNUz1LA0EQfUk0ueSSS/6BabSwkDSKjRBLweJAwcYvLGy00E4Q9AorEYxiKZJKEC1SCIJNRLQw\n",
       "WFxhKShYKBZ6AZEE0fj27vYuCcE4MHmT3bc7M2/ngL8tkcU/LLGYkeHbX7wAaWn7wEU72r0Izgvt\n",
       "aJ06gxu6pjuLBy1pGASUJbjX0sJmHWN/fuHAoU1yZ5Z4LLfyPiuWw6nl0IoFRB7d5Lbt+rRLZsw7\n",
       "tFAOD4SI18WZx1K+KYLu0MJZTBBevc2OlIy0Mmmm0vvJTFELJS7NidPXfStAcNa7rTblHda+MEo4\n",
       "oj8bHZZdjbSZ2ochn+wbh4Q1Hq6KCqAt+cXtr6/K8AcDhB8gbiHEKhJWnXDBqhuoZUlLZlE062k5\n",
       "7lb9204Iy8C2ji4U/KQqe1EqvjhXhBEKnUIpYCIqWlDh9BKWs6NVMEboEU8TGAi6ghQpabgfGJcF\n",
       "ULd3wpOQbfpumuxH8RRMFtdur3JeL3kkWXjEaHysl6ZpiumIc4SjabnQLbtssKKBRKZukNR8S9oe\n",
       "fZi+5f6P29k7m0d4iL4phHEHbqrl9xAV7QfS7T7WDft3px1tAf+1X+COZoF6x2VoAAAAAElFTkSu\n",
       "QmCC\n",
       "\" style=\"display:inline;vertical-align:middle;\" /></a></td></tr>\n",
       "<tr><td>1</td><td>ExprTuple</td><td>3</td><td><a class=\"ProveItLink\" href=\"../4cedc84ed0eb99d331b44e08d4b572c8ef9f87970/expr.ipynb\"><img src=\"data:image/png;base64,iVBORw0KGgoAAAANSUhEUgAAABcAAAAVBAMAAABfzGiYAAAAMFBMVEX////c3NwiIiJERESqqqqY\n",
       "mJh2dnZmZmYQEBDu7u4yMjJUVFTMzMyIiIi6uroAAAAs73DqAAAAAXRSTlMAQObYZgAAALRJREFU\n",
       "GNNjYEABfBcgdByIOA0VZD8AJFbClCxgYOC9AOOEMTBwTIBxZjAwvIKbxOzAUAakGPfmNTIwsBUw\n",
       "LAVyXggwf2BgYFnA0AeU+MrAbgC0sIHhHwMD9wcGJqCZPB9AHH4DhvkHwJwWBgb5Cwz+DBNAykwZ\n",
       "GOY7MOxiOcDAuoAhnYGBK4BFnQ1s9COQNfcO3wOKPWDgEEByDmsCjJOL5AVOoBcYpKEcbpB6RqiH\n",
       "7jAwAABtCChc/Udu1AAAAABJRU5ErkJggg==\n",
       "\" style=\"display:inline;vertical-align:middle;\" /></a></td></tr>\n",
       "<tr><td>2</td><td>Operation</td><td>operator:&nbsp;4<br>operands:&nbsp;5<br></td><td><a class=\"ProveItLink\" href=\"../ef0a12e0146bf8234b5a23eebd0bb76d7431c6e50/expr.ipynb\"><img src=\"data:image/png;base64,iVBORw0KGgoAAAANSUhEUgAAABQAAAAUBAMAAAB/pwA+AAAAMFBMVEX///8iIiIQEBCIiIjMzMzc\n",
       "3Nyqqqp2dnZEREQyMjK6urru7u5mZmZUVFSYmJgAAACI6eGPAAAAAXRSTlMAQObYZgAAAHBJREFU\n",
       "CNdjYIACDxiDwecinMmQSBST786ZfQsgzHkM3P0QUd4CBoZMCDPegYHBGcJcn8DA4MIQPv8wUPSz\n",
       "A8wU5v//W2HsuEufNsCNr38ApviAeD+EuQdkXgCYCTSd4SxE3UEDBuYGCPPC2rt9EBYA2/kegclo\n",
       "zEMAAAAASUVORK5CYII=\n",
       "\" style=\"display:inline;vertical-align:middle;\" /></a></td></tr>\n",
       "<tr><td>3</td><td>Variable</td><td></td><td><a class=\"ProveItLink\" href=\"../../../../../__pv_it/07527342713064c87612d00d8557c53d53d5324a0/expr.ipynb\"><img src=\"data:image/png;base64,iVBORw0KGgoAAAANSUhEUgAAAAsAAAAJBAMAAAAWSsseAAAAMFBMVEX///8yMjKqqqrMzMzu7u4i\n",
       "IiJmZmaYmJhEREQQEBC6urp2dnaIiIhUVFTc3NwAAAD87Fq/AAAAAXRSTlMAQObYZgAAAEhJREFU\n",
       "CNdjYOC7s2seAwPDygccHxgY+L4zsDUwMPB+YGA9wMDA38Dgb8DA8P4Agz6DA4O/AsNFJgMGxgKm\n",
       "MG6gyjunLE4xAAAZTBA5TB6DCwAAAABJRU5ErkJggg==\n",
       "\" style=\"display:inline;vertical-align:middle;\" /></a></td></tr>\n",
       "<tr><td>4</td><td>Literal</td><td></td><td><a class=\"ProveItLink\" href=\"../../../../../number/exponentiation/__pv_it/deb2bf23cbccdd6e6791e1b35b5b9794ce12dbd50/expr.ipynb\"><img src=\"data:image/png;base64,iVBORw0KGgoAAAANSUhEUgAAACgAAAASBAMAAADbMYGVAAAAMFBMVEX///8QEBAiIiKYmJjc3Nzu\n",
       "7u7MzMx2dnZmZma6urpERESqqqoyMjJUVFSIiIgAAAAoDOMTAAAAAXRSTlMAQObYZgAAAOBJREFU\n",
       "GNNjYGB4+//u3Tt/GNAASGAXmhjnPyDBgSbI/g1IxKEJ8nxgYGdgQRPkX8BgDKRY6q7s62OYvmze\n",
       "2wAgb/7ZO1+AVDiDkYEQQ0HTBr4DQF59AgOIKmB4z7CNbcNZBu6vQN55kEACQwDDLQYGVobfDHwg\n",
       "fb8YGBxYHwAZciD3fWXg+gB1JjvQcJZvQIXsCgz8F6DO9GBgMOH7wPCUgaeBwd4B7EwGNjUG7s9c\n",
       "AiwPgO5jkWRgiF3/9+5dfQUG1nWl5Y+B7pv+1gE9bBhqGLCAE1jEWH9jEbT5A3IwAC4sP/1L6Qlu\n",
       "AAAAAElFTkSuQmCC\n",
       "\" style=\"display:inline;vertical-align:middle;\" /></a></td></tr>\n",
       "<tr><td>5</td><td>ExprTuple</td><td>6, 7</td><td><a class=\"ProveItLink\" href=\"../1af5d0b556aa6b24800f9009cee1e60e59583d6a0/expr.ipynb\"><img src=\"data:image/png;base64,iVBORw0KGgoAAAANSUhEUgAAAC0AAAAVBAMAAAAgHXppAAAAMFBMVEX////c3NwiIiJERESqqqqY\n",
       "mJh2dnZmZmYQEBDu7u4yMjJUVFTMzMyIiIi6uroAAAAs73DqAAAAAXRSTlMAQObYZgAAAPdJREFU\n",
       "GNNjYMAF+C5gCMWBiNMggnV7+dQHEEFLBgb2A0B6JYizlIHTHiI8+SeQWMDAwAsyhjuBgcELLDx7\n",
       "N0g8jIGBYwKQlgdqPAtRzwsSn8HA8ArEee/AwHAGSZzZgaEMxJH/ewDmFrA4WwHQRhDn/39DZHGW\n",
       "BQx9YJ7ojh8TkMT5Ghj+QdXlByCJ83wAi7MC8Xw08RYgNR1ktQCqOaYMEC9VM3AixFkXMKQDqaIL\n",
       "DLwGDPMVkN35CEhteL0bqG3GRyCTveJXKQMD1wMGDgF48D6Es4DhwJoA5wXAWbmwcEYV5wSGM4M0\n",
       "PGTgCrhBZjNixuMdBgYAas9B/F/t6vEAAAAASUVORK5CYII=\n",
       "\" style=\"display:inline;vertical-align:middle;\" /></a></td></tr>\n",
       "<tr><td>6</td><td>Variable</td><td></td><td><a class=\"ProveItLink\" href=\"../../../../../__pv_it/abeee18594afe51bfb1be95d9591fbba24ac53f30/expr.ipynb\"><img src=\"data:image/png;base64,iVBORw0KGgoAAAANSUhEUgAAAA0AAAAOBAMAAAAGUYvhAAAAMFBMVEX///8iIiIQEBCIiIjMzMzc\n",
       "3Nyqqqp2dnZEREQyMjK6urru7u5mZmZUVFSYmJgAAACI6eGPAAAAAXRSTlMAQObYZgAAAF1JREFU\n",
       "CNdjYGDgu3Nm3wIGBoZ5DNz9QIq3gIEhE0jHOzAwOAPp9QkMDC4g/megABAw///fCmbEXfq0Acxg\n",
       "qH8ANAVI7wfSe0BKAyBGnAXigwYMzA1A+sLau31ACgAz0hhbkhGHbwAAAABJRU5ErkJggg==\n",
       "\" style=\"display:inline;vertical-align:middle;\" /></a></td></tr>\n",
       "<tr><td>7</td><td>Literal</td><td></td><td><a class=\"ProveItLink\" href=\"../../../../../number/numeral/__pv_it/9be8badea4c35b9724062cecc501d17a3158d1d20/expr.ipynb\"><img src=\"data:image/png;base64,iVBORw0KGgoAAAANSUhEUgAAAAgAAAAPBAMAAAArJJMAAAAAHlBMVEX///+YmJgyMjIQEBBmZmaI\n",
       "iIhUVFTu7u5EREQAAAAw+MI4AAAAAXRSTlMAQObYZgAAACFJREFUCNdjYGBoZ2BgqJjOwFCWBiQY\n",
       "WEklWJwnOTKAAACjEQo8HvEr3AAAAABJRU5ErkJggg==\n",
       "\" style=\"display:inline;vertical-align:middle;\" /></a></td></tr>\n",
       "</table>\n"
      ],
      "text/plain": [
       "0. ((a) , S^{1})\n",
       "   core type: ExprTuple\n",
       "   sub-expressions: 1, 2\n",
       "1. (a)\n",
       "   core type: ExprTuple\n",
       "   sub-expressions: 3\n",
       "2. S^{1}\n",
       "   core type: Operation\n",
       "   operator: 4\n",
       "   operands: 5\n",
       "3. a\n",
       "   core type: Variable\n",
       "   sub-expressions: \n",
       "4. Exp\n",
       "   core type: Literal\n",
       "   sub-expressions: \n",
       "5. (S , 1)\n",
       "   core type: ExprTuple\n",
       "   sub-expressions: 6, 7\n",
       "6. S\n",
       "   core type: Variable\n",
       "   sub-expressions: \n",
       "7. 1\n",
       "   core type: Literal\n",
       "   sub-expressions: "
      ]
     },
     "execution_count": 4,
     "metadata": {},
     "output_type": "execute_result"
    }
   ],
   "source": [
    "# display the expression information\n",
    "expr.exprInfo()"
   ]
  },
  {
   "cell_type": "code",
   "execution_count": null,
   "metadata": {},
   "outputs": [],
   "source": []
  }
 ],
 "metadata": {
  "kernelspec": {
   "display_name": "Python 3",
   "language": "python",
   "name": "python3"
  }
 },
 "nbformat": 4,
 "nbformat_minor": 0
}
