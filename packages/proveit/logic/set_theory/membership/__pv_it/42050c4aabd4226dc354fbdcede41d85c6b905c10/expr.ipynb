{
 "cells": [
  {
   "cell_type": "markdown",
   "metadata": {},
   "source": [
    "Expression of type <a class=\"ProveItLink\" href=\"../../../../../../../doc/html/api/proveit.ExprTuple.html\">ExprTuple</a>\n",
    "=======================\n",
    "# from context <a class=\"ProveItLink\" href=\"../../_context_.ipynb\">proveit.logic.set_theory.membership</a>"
   ]
  },
  {
   "cell_type": "code",
   "execution_count": 1,
   "metadata": {},
   "outputs": [],
   "source": [
    "# import Expression classes needed to build the expression\n",
    "from proveit import ExprTuple\n",
    "from proveit._common_ import a\n",
    "from proveit.logic import Booleans, InSet\n",
    "from proveit.number import Naturals"
   ]
  },
  {
   "cell_type": "code",
   "execution_count": 2,
   "metadata": {},
   "outputs": [
    {
     "data": {
      "text/html": [
       "<strong id=\"expr\">expr:</strong> <a class=\"ProveItLink\" href=\"expr.ipynb\"><img src=\"data:image/png;base64,iVBORw0KGgoAAAANSUhEUgAAAFcAAAAVBAMAAADBdm84AAAAMFBMVEX////c3NwiIiJERESqqqqY\n",
       "mJh2dnZmZmYQEBDu7u4yMjJUVFTMzMyIiIi6uroAAAAs73DqAAAAAXRSTlMAQObYZgAAAZdJREFU\n",
       "KM9jYCAJ8F0gTl0ciDiNRYJzvfFKBnZ9FRCbbb3VryYTBgb2A0DOSmzGMAccZmDgh7L5LsyalsDA\n",
       "sICBgRerK7h1gOIccMW8D4AqwxgYOCYgW39LSWkBWPGrCXuQFLME7GRgmMHA8ArZwFORMJPPbJg1\n",
       "AcnkhwZA2oGhDMSXvvZCAEgxWsKdccCXxwCh+FAw0H62AoaloNBrZLAHCwsgFLM/iIUrVvrfC6RZ\n",
       "FjD0ASn5AIZikPBkhAcPMOzkPoFwxhWgM/gaGP4BufsZGHRBwi+UlGAePMAwm3MFXDGDwTMGBp4P\n",
       "YMWfGTj/oMYPUDFPwgkkxcxgxS1Af/1lYPnACRSehKyYIYQZVTHQGabA0P3CwL3AB6QkAFkxmzAD\n",
       "wwQkZ7AuYEgHcpcyOBUkgOJEDx7dD4BEFQPnJ4hi1loDcNA9AgXz3Te2IFkGqRpoSlzfDCRnMXD2\n",
       "C4AS0meNLUAu1wMGDgHkKPReBAkNePpFkgVGN2sCvkTMisTOxZVEsSjmBFkpjU8xUvrlBqceIrPV\n",
       "HQYGAKQ2aO1taYdiAAAAAElFTkSuQmCC\n",
       "\" style=\"display:inline;vertical-align:middle;\" /></a><br>"
      ],
      "text/plain": [
       "expr: (a in Naturals , BOOLEANS)"
      ]
     },
     "execution_count": 2,
     "metadata": {},
     "output_type": "execute_result"
    }
   ],
   "source": [
    "# build up the expression from sub-expressions\n",
    "expr = ExprTuple(InSet(a, Naturals), Booleans)"
   ]
  },
  {
   "cell_type": "code",
   "execution_count": 3,
   "metadata": {},
   "outputs": [
    {
     "name": "stdout",
     "output_type": "stream",
     "text": [
      "Passed sanity check: built 'expr' is the same as the stored Expression.\n"
     ]
    }
   ],
   "source": [
    "# check that the built expression is the same as the stored expression\n",
    "%check_expr"
   ]
  },
  {
   "cell_type": "code",
   "execution_count": 4,
   "metadata": {},
   "outputs": [
    {
     "data": {
      "text/html": [
       "<table><tr><th>&nbsp;</th><th>core type</th><th>sub-expressions</th><th>expression</th></tr>\n",
       "<tr><td>0</td><td>ExprTuple</td><td>1, 2</td><td><a class=\"ProveItLink\" href=\"expr.ipynb\"><img src=\"data:image/png;base64,iVBORw0KGgoAAAANSUhEUgAAAFcAAAAVBAMAAADBdm84AAAAMFBMVEX////c3NwiIiJERESqqqqY\n",
       "mJh2dnZmZmYQEBDu7u4yMjJUVFTMzMyIiIi6uroAAAAs73DqAAAAAXRSTlMAQObYZgAAAZdJREFU\n",
       "KM9jYCAJ8F0gTl0ciDiNRYJzvfFKBnZ9FRCbbb3VryYTBgb2A0DOSmzGMAccZmDgh7L5LsyalsDA\n",
       "sICBgRerK7h1gOIccMW8D4AqwxgYOCYgW39LSWkBWPGrCXuQFLME7GRgmMHA8ArZwFORMJPPbJg1\n",
       "AcnkhwZA2oGhDMSXvvZCAEgxWsKdccCXxwCh+FAw0H62AoaloNBrZLAHCwsgFLM/iIUrVvrfC6RZ\n",
       "FjD0ASn5AIZikPBkhAcPMOzkPoFwxhWgM/gaGP4BufsZGHRBwi+UlGAePMAwm3MFXDGDwTMGBp4P\n",
       "YMWfGTj/oMYPUDFPwgkkxcxgxS1Af/1lYPnACRSehKyYIYQZVTHQGabA0P3CwL3AB6QkAFkxmzAD\n",
       "wwQkZ7AuYEgHcpcyOBUkgOJEDx7dD4BEFQPnJ4hi1loDcNA9AgXz3Te2IFkGqRpoSlzfDCRnMXD2\n",
       "C4AS0meNLUAu1wMGDgHkKPReBAkNePpFkgVGN2sCvkTMisTOxZVEsSjmBFkpjU8xUvrlBqceIrPV\n",
       "HQYGAKQ2aO1taYdiAAAAAElFTkSuQmCC\n",
       "\" style=\"display:inline;vertical-align:middle;\" /></a></td></tr>\n",
       "<tr><td>1</td><td>Operation</td><td>operator:&nbsp;3<br>operands:&nbsp;4<br></td><td><a class=\"ProveItLink\" href=\"../53569273f41df8c5c6e11b19ebfc07f0404f6f010/expr.ipynb\"><img src=\"data:image/png;base64,iVBORw0KGgoAAAANSUhEUgAAADMAAAAPBAMAAAC7N+rPAAAAMFBMVEX///8yMjKqqqrMzMzu7u4i\n",
       "IiJmZmaYmJhEREQQEBC6urp2dnaIiIhUVFTc3NwAAAD87Fq/AAAAAXRSTlMAQObYZgAAANdJREFU\n",
       "GNNjYMAAjj8aHRhSvyowYAHtzA0MDB+wyTBcNTjDwDABWYTlYGioAIhxS4TXAFXKsATKuGzLIgKW\n",
       "4ruzax5IgK8FpuYy0wELsNTKBxxgKzkewKUYstgPAKX4vjOwNYAEPBgQUrwOl4FSvB8YWA+ABFaG\n",
       "hkKdcZmB5YIjUIq/gcHfACRgi6SLwZoZKPX+AIM+gwNQwBVZil0BaIm/AsNFJpA23gIkKYZ9QCnG\n",
       "AqYwbrCPo2BSXUDMJgDy1imLU2CRh8kQmYU/gTpYBFDCTlc0FFkAAE78NpyYZbUWAAAAAElFTkSu\n",
       "QmCC\n",
       "\" style=\"display:inline;vertical-align:middle;\" /></a></td></tr>\n",
       "<tr><td>2</td><td>Literal</td><td></td><td><a class=\"ProveItLink\" href=\"../../../../boolean/__pv_it/46271c8230be96415d662709611f4ed2279d702b0/expr.ipynb\"><img src=\"data:image/png;base64,iVBORw0KGgoAAAANSUhEUgAAAA0AAAAOBAMAAAAGUYvhAAAAMFBMVEX///9mZmbMzMzc3NxUVFSY\n",
       "mJju7u6IiIi6urqqqqoiIiIQEBBEREQyMjJ2dnYAAAAQvcRZAAAAAXRSTlMAQObYZgAAAElJREFU\n",
       "CNdjePvn/u01ExgYGA60s117B6YZKngh9FSWBAjfBsxnWnoMRHet/10AkS+fA6F5OB5AaIYDqDRU\n",
       "PLCGgQFoz6ktExgAgLIl8DFvGtkAAAAASUVORK5CYII=\n",
       "\" style=\"display:inline;vertical-align:middle;\" /></a></td></tr>\n",
       "<tr><td>3</td><td>Literal</td><td></td><td><a class=\"ProveItLink\" href=\"../088cbc857536a28d4119ad9639a84270ccb0545d0/expr.ipynb\"><img src=\"data:image/png;base64,iVBORw0KGgoAAAANSUhEUgAAAAwAAAAMBAMAAACkW0HUAAAALVBMVEX///+qqqpmZmZUVFQQEBC6\n",
       "urpERETc3NyYmJjMzMwiIiIyMjKIiIju7u4AAACYsrA9AAAAAXRSTlMAQObYZgAAADxJREFUCNdj\n",
       "YOA9vWrVBgaG2b0MQMCeCyIZ2ArA1DUwyRCyahVIyWQI7xaEYm4AU7xLIdxqTQgtvGvVBgCkcQ7e\n",
       "geM/tQAAAABJRU5ErkJggg==\n",
       "\" style=\"display:inline;vertical-align:middle;\" /></a></td></tr>\n",
       "<tr><td>4</td><td>ExprTuple</td><td>5, 6</td><td><a class=\"ProveItLink\" href=\"../37f56ee771ba6201c5baf4eb487a364ca8db203f0/expr.ipynb\"><img src=\"data:image/png;base64,iVBORw0KGgoAAAANSUhEUgAAAC8AAAAVBAMAAAAk6KpUAAAAMFBMVEX////c3NwiIiJERESqqqqY\n",
       "mJh2dnZmZmYQEBDu7u4yMjJUVFTMzMyIiIi6uroAAAAs73DqAAAAAXRSTlMAQObYZgAAARpJREFU\n",
       "KM910b9Lw0AUwPFvbdI0Tfpjd9DNNUsXB8l/YCdH0amTIg6OUsFZMpYuyeKQTRylSqDg0iV/gBZ1\n",
       "EqeoCE7iu5qDK2rgAu997l7y3sG/Tyv/ndtWr6mRGL2vRxy+hU4mQWpu7foBFJBAc6HSZXYPA9iC\n",
       "emTCTeplCobwsvDV8dRNFVRDjiSsXO+flGDlEwW1A84lfO5UixI4tnMBK+FMDnzgBBq8aCzQGvAF\n",
       "XsFSrsG9GAn4hYJ2QJxp4Nb/gVNYydkk0mCHwbxUF+KQKytzS2BXwE7oQ6NnrdWIVyW5IctJ5r/7\n",
       "pNqYTWYMX6XbT9ntCjQeqHd014/GBGQk9o4OegbsmWM3QFVjuQyaxgFP1a/8cbV38A1BUkyB6e2h\n",
       "TwAAAABJRU5ErkJggg==\n",
       "\" style=\"display:inline;vertical-align:middle;\" /></a></td></tr>\n",
       "<tr><td>5</td><td>Variable</td><td></td><td><a class=\"ProveItLink\" href=\"../../../../../__pv_it/07527342713064c87612d00d8557c53d53d5324a0/expr.ipynb\"><img src=\"data:image/png;base64,iVBORw0KGgoAAAANSUhEUgAAAAsAAAAJBAMAAAAWSsseAAAAMFBMVEX///8yMjKqqqrMzMzu7u4i\n",
       "IiJmZmaYmJhEREQQEBC6urp2dnaIiIhUVFTc3NwAAAD87Fq/AAAAAXRSTlMAQObYZgAAAEhJREFU\n",
       "CNdjYOC7s2seAwPDygccHxgY+L4zsDUwMPB+YGA9wMDA38Dgb8DA8P4Agz6DA4O/AsNFJgMGxgKm\n",
       "MG6gyjunLE4xAAAZTBA5TB6DCwAAAABJRU5ErkJggg==\n",
       "\" style=\"display:inline;vertical-align:middle;\" /></a></td></tr>\n",
       "<tr><td>6</td><td>Literal</td><td></td><td><a class=\"ProveItLink\" href=\"../../../../../number/sets/integer/__pv_it/e5d9bd86b06b357eee742ad868997123619e09700/expr.ipynb\"><img src=\"data:image/png;base64,iVBORw0KGgoAAAANSUhEUgAAAA8AAAAOBAMAAAACpFvcAAAAMFBMVEX////c3Nx2dna6uroQEBCI\n",
       "iIhUVFTMzMyYmJiqqqoiIiJmZmZEREQyMjLu7u4AAADjlg78AAAAAXRSTlMAQObYZgAAAGBJREFU\n",
       "CNdjePvn7AOGXb8mMDCcYD/AwPCBgYEhqyCUgcEByEi+x1YAZqSX8d2DMDgDaiAMhs0cARAG24N0\n",
       "CIMv4S2EwVDEDmVwTDgAYTAoghiHgZj7AgOD7Rcgj+8CAwA9oh2B0HK+MAAAAABJRU5ErkJggg==\n",
       "\" style=\"display:inline;vertical-align:middle;\" /></a></td></tr>\n",
       "</table>\n"
      ],
      "text/plain": [
       "0. (a in Naturals , BOOLEANS)\n",
       "   core type: ExprTuple\n",
       "   sub-expressions: 1, 2\n",
       "1. a in Naturals\n",
       "   core type: Operation\n",
       "   operator: 3\n",
       "   operands: 4\n",
       "2. BOOLEANS\n",
       "   core type: Literal\n",
       "   sub-expressions: \n",
       "3. in\n",
       "   core type: Literal\n",
       "   sub-expressions: \n",
       "4. (a , Naturals)\n",
       "   core type: ExprTuple\n",
       "   sub-expressions: 5, 6\n",
       "5. a\n",
       "   core type: Variable\n",
       "   sub-expressions: \n",
       "6. Naturals\n",
       "   core type: Literal\n",
       "   sub-expressions: "
      ]
     },
     "execution_count": 4,
     "metadata": {},
     "output_type": "execute_result"
    }
   ],
   "source": [
    "# display the expression information\n",
    "expr.exprInfo()"
   ]
  },
  {
   "cell_type": "code",
   "execution_count": null,
   "metadata": {},
   "outputs": [],
   "source": []
  }
 ],
 "metadata": {
  "kernelspec": {
   "display_name": "Python 3",
   "language": "python",
   "name": "python3"
  }
 },
 "nbformat": 4,
 "nbformat_minor": 0
}
