{
 "cells": [
  {
   "cell_type": "markdown",
   "metadata": {},
   "source": [
    "Expression of type <a class=\"ProveItLink\" href=\"../../../../../../../doc/html/api/proveit.ExprTuple.html\">ExprTuple</a>\n",
    "=======================\n",
    "# from context <a class=\"ProveItLink\" href=\"../../_context_.ipynb\">proveit.logic.set_theory.membership</a>"
   ]
  },
  {
   "cell_type": "code",
   "execution_count": 1,
   "metadata": {},
   "outputs": [],
   "source": [
    "# import Expression classes needed to build the expression\n",
    "from proveit import ExprTuple\n",
    "from proveit._common_ import H, S"
   ]
  },
  {
   "cell_type": "code",
   "execution_count": 2,
   "metadata": {},
   "outputs": [
    {
     "data": {
      "text/html": [
       "<strong id=\"expr\">expr:</strong> <a class=\"ProveItLink\" href=\"expr.ipynb\"><img src=\"data:image/png;base64,iVBORw0KGgoAAAANSUhEUgAAADUAAAAVBAMAAAAUZLt1AAAAMFBMVEX////c3NwiIiJERESqqqqY\n",
       "mJh2dnZmZmYQEBDu7u4yMjJUVFTMzMyIiIi6uroAAAAs73DqAAAAAXRSTlMAQObYZgAAATZJREFU\n",
       "KM9jYMAH+C5gFY4DEaeB+PZ/8wnR/80FIMKs28unPmA/AGStBHF/AfEnmJalDJz2DAwLGBh4QUby\n",
       "/WVg4PkOleJOYGDwYmAIY2DgmADksv0BKvoClZMHmnaWgWEGA8MrEJfrAwMD80+o3HsHBoYzQL4D\n",
       "QxmIy28AxAowfX9BzmBgKwBaDFK6evdu+wKoHO///4ZAimUBQx+Imw9Ued8B5k7RHT+AjuBrYPgH\n",
       "4q0HYvsJCI/nBwDd/QEi9xnqRbDPgXg+RK4F5r1vULnpIOcIgM00hXkPZADIWKC3GapB+hcwpCN5\n",
       "jxMUbEUXGHgNIH54BDTF/vcF9v2/Exg4+4FmbXi92xQcHg8YOASQ4wuJAwwz1gQkOVYkdi4sjjDl\n",
       "OIFxxCCNJIeUBLhBxjNiTxN3GBgATrlR90OLEwMAAAAASUVORK5CYII=\n",
       "\" style=\"display:inline;vertical-align:middle;\" /></a><br>"
      ],
      "text/plain": [
       "expr: (H , S)"
      ]
     },
     "execution_count": 2,
     "metadata": {},
     "output_type": "execute_result"
    }
   ],
   "source": [
    "# build up the expression from sub-expressions\n",
    "expr = ExprTuple(H, S)"
   ]
  },
  {
   "cell_type": "code",
   "execution_count": 3,
   "metadata": {},
   "outputs": [
    {
     "name": "stdout",
     "output_type": "stream",
     "text": [
      "Passed sanity check: built 'expr' is the same as the stored Expression.\n"
     ]
    }
   ],
   "source": [
    "# check that the built expression is the same as the stored expression\n",
    "%check_expr"
   ]
  },
  {
   "cell_type": "code",
   "execution_count": 4,
   "metadata": {},
   "outputs": [
    {
     "data": {
      "text/html": [
       "<table><tr><th>&nbsp;</th><th>core type</th><th>sub-expressions</th><th>expression</th></tr>\n",
       "<tr><td>0</td><td>ExprTuple</td><td>1, 2</td><td><a class=\"ProveItLink\" href=\"expr.ipynb\"><img src=\"data:image/png;base64,iVBORw0KGgoAAAANSUhEUgAAADUAAAAVBAMAAAAUZLt1AAAAMFBMVEX////c3NwiIiJERESqqqqY\n",
       "mJh2dnZmZmYQEBDu7u4yMjJUVFTMzMyIiIi6uroAAAAs73DqAAAAAXRSTlMAQObYZgAAATZJREFU\n",
       "KM9jYMAH+C5gFY4DEaeB+PZ/8wnR/80FIMKs28unPmA/AGStBHF/AfEnmJalDJz2DAwLGBh4QUby\n",
       "/WVg4PkOleJOYGDwYmAIY2DgmADksv0BKvoClZMHmnaWgWEGA8MrEJfrAwMD80+o3HsHBoYzQL4D\n",
       "QxmIy28AxAowfX9BzmBgKwBaDFK6evdu+wKoHO///4ZAimUBQx+Imw9Ued8B5k7RHT+AjuBrYPgH\n",
       "4q0HYvsJCI/nBwDd/QEi9xnqRbDPgXg+RK4F5r1vULnpIOcIgM00hXkPZADIWKC3GapB+hcwpCN5\n",
       "jxMUbEUXGHgNIH54BDTF/vcF9v2/Exg4+4FmbXi92xQcHg8YOASQ4wuJAwwz1gQkOVYkdi4sjjDl\n",
       "OIFxxCCNJIeUBLhBxjNiTxN3GBgATrlR90OLEwMAAAAASUVORK5CYII=\n",
       "\" style=\"display:inline;vertical-align:middle;\" /></a></td></tr>\n",
       "<tr><td>1</td><td>Variable</td><td></td><td><a class=\"ProveItLink\" href=\"../../../../../__pv_it/fabf74ac81cd36aa91075816201d2b14195a56e60/expr.ipynb\"><img src=\"data:image/png;base64,iVBORw0KGgoAAAANSUhEUgAAABMAAAAOBAMAAAA/Njq6AAAALVBMVEX///+qqqp2dnbMzMy6uroi\n",
       "IiIyMjLc3NyYmJju7u5mZmZERERUVFSIiIgAAABaGT/LAAAAAXRSTlMAQObYZgAAAGhJREFUCNdj\n",
       "YGC4827XhJ53uwoYgOAZED8FMRhY3jIwML8CM5keMzDwPgQz2R4wMHC/BDP5NgBxAJjpl3PmzL4F\n",
       "YKaeAQPDPQEwMw+I900AM19DjYYa+whh7BM0Y2fte3OB69wbBQYGADOSITJjbaXUAAAAAElFTkSu\n",
       "QmCC\n",
       "\" style=\"display:inline;vertical-align:middle;\" /></a></td></tr>\n",
       "<tr><td>2</td><td>Variable</td><td></td><td><a class=\"ProveItLink\" href=\"../../../../../__pv_it/abeee18594afe51bfb1be95d9591fbba24ac53f30/expr.ipynb\"><img src=\"data:image/png;base64,iVBORw0KGgoAAAANSUhEUgAAAA0AAAAOBAMAAAAGUYvhAAAAMFBMVEX///8iIiIQEBCIiIjMzMzc\n",
       "3Nyqqqp2dnZEREQyMjK6urru7u5mZmZUVFSYmJgAAACI6eGPAAAAAXRSTlMAQObYZgAAAF1JREFU\n",
       "CNdjYGDgu3Nm3wIGBoZ5DNz9QIq3gIEhE0jHOzAwOAPp9QkMDC4g/megABAw///fCmbEXfq0Acxg\n",
       "qH8ANAVI7wfSe0BKAyBGnAXigwYMzA1A+sLau31ACgAz0hhbkhGHbwAAAABJRU5ErkJggg==\n",
       "\" style=\"display:inline;vertical-align:middle;\" /></a></td></tr>\n",
       "</table>\n"
      ],
      "text/plain": [
       "0. (H , S)\n",
       "   core type: ExprTuple\n",
       "   sub-expressions: 1, 2\n",
       "1. H\n",
       "   core type: Variable\n",
       "   sub-expressions: \n",
       "2. S\n",
       "   core type: Variable\n",
       "   sub-expressions: "
      ]
     },
     "execution_count": 4,
     "metadata": {},
     "output_type": "execute_result"
    }
   ],
   "source": [
    "# display the expression information\n",
    "expr.exprInfo()"
   ]
  },
  {
   "cell_type": "code",
   "execution_count": null,
   "metadata": {},
   "outputs": [],
   "source": []
  }
 ],
 "metadata": {
  "kernelspec": {
   "display_name": "Python 3",
   "language": "python",
   "name": "python3"
  }
 },
 "nbformat": 4,
 "nbformat_minor": 0
}
