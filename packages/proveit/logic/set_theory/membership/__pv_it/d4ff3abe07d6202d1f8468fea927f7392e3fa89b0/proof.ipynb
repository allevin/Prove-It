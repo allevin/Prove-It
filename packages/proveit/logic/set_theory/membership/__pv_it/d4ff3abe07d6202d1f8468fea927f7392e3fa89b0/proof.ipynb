{
 "cells": [
  {
   "cell_type": "markdown",
   "metadata": {},
   "source": [
    "Show the Proof\n",
    "========"
   ]
  },
  {
   "cell_type": "code",
   "execution_count": 1,
   "metadata": {},
   "outputs": [
    {
     "data": {
      "text/html": [
       "<table><tr><th>&nbsp;</th><th>step type</th><th>requirements</th><th>statement</th></tr>\n",
       "<tr><td>0</td><td>specialization</td><td>1, 2</td><td><span style=\"font-size:20px;\"><a class=\"ProveItLink\" href=\"../80a1cfc731bbd73c48f9075da55f553bacb77adc0/expr.ipynb\"><img src=\"data:image/png;base64,iVBORw0KGgoAAAANSUhEUgAAAGcAAAAVBAMAAACphe0AAAAAMFBMVEX////c3NxERESqqqpUVFS6\n",
       "urrMzMwyMjIQEBCIiIh2dnYiIiLu7u5mZmaYmJgAAABXZE4RAAAAAXRSTlMAQObYZgAAAZ9JREFU\n",
       "OMtjYGDgu8dAPGBbJQCieHahiEbi1sAXANLVDGJyfkAxyQG7hid37zxluAZiXQcRXA3IkuwHsOph\n",
       "f8Bw6AMDO4i5AlPTTOwWeTEwMBcw8C3ArqkHmXOyevd2MIPxG9DhExh4GrBqYi1A9l8dzK2sn4G8\n",
       "BAYGZayaeIEOYFzpaHkTxBGC+4/x/zQwvRamibcA1cMMpxheP+gGcRQR4vP/fwLFjzkQvwfxM4Ch\n",
       "f3s3EIDiiwPIWcAwn8EMFIEKCE2MT/pBvo0AmXuBgSGlDSaRAsT8QE0HGJwgHukGmrQdJsv1D0jk\n",
       "g1jqQNdEJKBpYmDoRI9noDIemCZuULizFCBp4jCABDAPyHkbYHp4gC5i/Ah1HthPXBuQNDEBzXwI\n",
       "TFhzQAJ+ME3AeGXgBdn7HCPI2UCcCwzM/5gaGCeABE4HwCJiJwPDJJQgR43cDQw8mmtWzYMEWS3U\n",
       "uyysLk4PQIxS7MmoEZnD7I4IPbDfsCcjhlf4ciDXBJgmPmKyBgQch+cnnp3I4owOeDQ5goKrFZKL\n",
       "FyNLSOLWw5kALSMAsO5tEQZEFc4AAAAASUVORK5CYII=\n",
       "\" style=\"display:inline;vertical-align:middle;\" /></a> <a class=\"ProveItLink\" href=\"proof.ipynb\" style=\"text-decoration: none\">&#x22A2;&nbsp;</a><a class=\"ProveItLink\" href=\"../6187b8ed581c17da632c95901a8880721b78f39a0/expr.ipynb\"><img src=\"data:image/png;base64,iVBORw0KGgoAAAANSUhEUgAAADMAAAAVCAMAAADciiYzAAAAQlBMVEX///9bW1sNDQ0JCQkdHR0P\n",
       "Dw8WFhYyMjK6urpERETMzMwQEBAiIiKYmJju7u5mZmaqqqpUVFSIiIh2dnbc3NwAAADXC9tbAAAA\n",
       "AXRSTlMAQObYZgAAAPVJREFUOMuVU9t2xCAItFc1Agrq//9qLbktm66n4cGE4MAwEOcmFsjdNriP\n",
       "Wdj6yDlnwjDDZBv1OA6KfU7NeFz1Ufyr6yQevr/gId76shKWV514JBeb0bCXNaTQVoVbkXwmaHEI\n",
       "RpZE612Wg8bgiYAunfS1gjyRkD5sq13VH82dWaLK9Dychpx60q+/B0dDPQHA58c4LhrVjvtrksss\n",
       "a7Hz3CgcmFXHgwvBZTiU95vaEDZtx8nJn9GFbDD7JLOuUxnVYhoZHugRBF7sGoGGJW4iSaVaBY1E\n",
       "/t1i2AVmjjhbNXxj/5duM7N78y9r8f4PKngfMy/zAx2GC3mVEDiLAAAAAElFTkSuQmCC\n",
       "\" style=\"display:inline;vertical-align:middle;\" /></a></span></td></tr>\n",
       "<tr><td>&nbsp;</td><td colspan=4 style=\"text-align:left\"><span style=\"font-size:20px;\"><a class=\"ProveItLink\" href=\"../../../../../__pv_it/530be409e3083890784cf1d7b28c9e67e90af9360/expr.ipynb\"><img src=\"data:image/png;base64,iVBORw0KGgoAAAANSUhEUgAAAAsAAAAJBAMAAAAWSsseAAAAKlBMVEX///9ERETMzMwQEBAiIiKY\n",
       "mJju7u5mZmaqqqpUVFSIiIh2dnbc3NwAAAA/vyDhAAAAAXRSTlMAQObYZgAAAENJREFUCNdjYDi9\n",
       "8sTyBQxsG1hdmR0YuBm4LnAoMLAxcAowgADzAjB1VoEhgYH1wFoGrgSG3gBhhlMMDImrs3cFMAAA\n",
       "t0YN+iTRa+sAAAAASUVORK5CYII=\n",
       "\" style=\"display:inline;vertical-align:middle;\" /></a> : <a class=\"ProveItLink\" href=\"../../../../../__pv_it/530be409e3083890784cf1d7b28c9e67e90af9360/expr.ipynb\"><img src=\"data:image/png;base64,iVBORw0KGgoAAAANSUhEUgAAAAsAAAAJBAMAAAAWSsseAAAAKlBMVEX///9ERETMzMwQEBAiIiKY\n",
       "mJju7u5mZmaqqqpUVFSIiIh2dnbc3NwAAAA/vyDhAAAAAXRSTlMAQObYZgAAAENJREFUCNdjYDi9\n",
       "8sTyBQxsG1hdmR0YuBm4LnAoMLAxcAowgADzAjB1VoEhgYH1wFoGrgSG3gBhhlMMDImrs3cFMAAA\n",
       "t0YN+iTRa+sAAAAASUVORK5CYII=\n",
       "\" style=\"display:inline;vertical-align:middle;\" /></a>, <a class=\"ProveItLink\" href=\"../../../../../__pv_it/abeee18594afe51bfb1be95d9591fbba24ac53f30/expr.ipynb\"><img src=\"data:image/png;base64,iVBORw0KGgoAAAANSUhEUgAAAA0AAAAOBAMAAAAGUYvhAAAAMFBMVEX///8iIiIQEBCIiIjMzMzc\n",
       "3Nyqqqp2dnZEREQyMjK6urru7u5mZmZUVFSYmJgAAACI6eGPAAAAAXRSTlMAQObYZgAAAF1JREFU\n",
       "CNdjYGDgu3Nm3wIGBoZ5DNz9QIq3gIEhE0jHOzAwOAPp9QkMDC4g/megABAw///fCmbEXfq0Acxg\n",
       "qH8ANAVI7wfSe0BKAyBGnAXigwYMzA1A+sLau31ACgAz0hhbkhGHbwAAAABJRU5ErkJggg==\n",
       "\" style=\"display:inline;vertical-align:middle;\" /></a> : <a class=\"ProveItLink\" href=\"../../../../../__pv_it/abeee18594afe51bfb1be95d9591fbba24ac53f30/expr.ipynb\"><img src=\"data:image/png;base64,iVBORw0KGgoAAAANSUhEUgAAAA0AAAAOBAMAAAAGUYvhAAAAMFBMVEX///8iIiIQEBCIiIjMzMzc\n",
       "3Nyqqqp2dnZEREQyMjK6urru7u5mZmZUVFSYmJgAAACI6eGPAAAAAXRSTlMAQObYZgAAAF1JREFU\n",
       "CNdjYGDgu3Nm3wIGBoZ5DNz9QIq3gIEhE0jHOzAwOAPp9QkMDC4g/megABAw///fCmbEXfq0Acxg\n",
       "qH8ANAVI7wfSe0BKAyBGnAXigwYMzA1A+sLau31ACgAz0hhbkhGHbwAAAABJRU5ErkJggg==\n",
       "\" style=\"display:inline;vertical-align:middle;\" /></a></span></td></tr><tr><td>1</td><td>theorem</td><td></td><td><span style=\"font-size:20px;\"> <a class=\"ProveItLink\" href=\"../../_proofs_/foldNotInSet.ipynb\" style=\"text-decoration: none\">&#x22A2;&nbsp;</a><a class=\"ProveItLink\" href=\"../cc89d3a349f1988024d3af48d40aff2abaeba1330/expr.ipynb\"><img src=\"data:image/png;base64,iVBORw0KGgoAAAANSUhEUgAAALwAAAAXCAMAAACGTNW0AAAAQlBMVEX///9bW1sNDQ0JCQkdHR0P\n",
       "Dw8WFhYQEBC6urrMzMxUVFRmZmZERETc3NwyMjKqqqp2dnaIiIiYmJgiIiLu7u4AAAAq2h4+AAAA\n",
       "AXRSTlMAQObYZgAAArVJREFUWMPNV4mS5CAIzZ7eF+L//+qqicaQmHTXbk2vVTMdD/ABD9Rl+a8b\n",
       "x9tp/DC6cDsdZ/CA1+m9H74eu5DvTYNUSmFBrkTuetcm7AeC8LCn4mQ5FK7oVL/zn9HbRP/4whYe\n",
       "gh2PXenrj7M1CH4wXrmvB8/mjsdg4+9f0Q5DJomVTNVkZNUCU1v8QLbaOdst4KLNcXla/StWG3Tp\n",
       "JV1a9H8Dw4jnNefIqran8UEaF1RnkdE5JkhsMymFYR+vCpPqALGyOUB5H6BL8Bn2G8u7CnFaVPOv\n",
       "MCDPQISF9ehXNKeMCCm3DrRSn5d6hJcR5KpGq/dnOX2T64MKT21n24CvwDKc5iXU16XIgGSpJQpn\n",
       "LacDzLNdP4F04ZxuuR4DUXFyUOL7QSlH3ZzFGH/+yP/OPvVpgyqqRwrwy6MMUx2FJ/AnygXNDSJS\n",
       "FVJcg69RCPRw8iRJGseO4LNH2lGWE4eHfY/IjqGegGdEGNQQvEEFJTFzpAw2D2I8F3lUbaUZaZM9\n",
       "J9cNPJbw7TpRsZTcE3hhibA97Lmr4OS015sPwVTKL6GHX8KaLCM3N62qKYF1wKnYq4kl5DeSXYL3\n",
       "em22Y+rCtKx0FYIw2K/4XCaCzkvMHhiMnHJMxbAykkiPhEs7f5GvHLv1fB5y8igs4mpXoCooeB63\n",
       "2hI8lno6Gmy/E/AyO0lKvS+yGx2hx0tkDzQpV6Mt9BN4ro/CuLPjqIJTeWamJRa+SXtZbbprGSFv\n",
       "WrytZdfYrFZpWkquwdf0GoQX2UWOKoAeUzA/3LR5OLA9yf4cP6dyCAsSKFfmXKyVua82oj0ZduH8\n",
       "2QrMUYXiL1+JH++4aG8m4Y2TNJyuLX7jPIF6xjh7jFwfmmMK3ERGmDfA42tPAXdxezfh7QvHapx4\n",
       "1/FTlQ5eAS8/+1yebg8vXIn9P39m/gECKiPG9Qg3JQAAAABJRU5ErkJggg==\n",
       "\" style=\"display:inline;vertical-align:middle;\" /></a></span></td></tr>\n",
       "<tr><td>&nbsp;</td><td colspan=4 style-\"text-align:left\"><a class=\"ProveItLink\" href=\"../../_proofs_/foldNotInSet.ipynb\">proveit.logic.set_theory.membership.foldNotInSet</a></td></tr><tr><td>2</td><td>assumption</td><td></td><td><span style=\"font-size:20px;\"><a class=\"ProveItLink\" href=\"../80a1cfc731bbd73c48f9075da55f553bacb77adc0/expr.ipynb\"><img src=\"data:image/png;base64,iVBORw0KGgoAAAANSUhEUgAAAGcAAAAVBAMAAACphe0AAAAAMFBMVEX////c3NxERESqqqpUVFS6\n",
       "urrMzMwyMjIQEBCIiIh2dnYiIiLu7u5mZmaYmJgAAABXZE4RAAAAAXRSTlMAQObYZgAAAZ9JREFU\n",
       "OMtjYGDgu8dAPGBbJQCieHahiEbi1sAXANLVDGJyfkAxyQG7hid37zxluAZiXQcRXA3IkuwHsOph\n",
       "f8Bw6AMDO4i5AlPTTOwWeTEwMBcw8C3ArqkHmXOyevd2MIPxG9DhExh4GrBqYi1A9l8dzK2sn4G8\n",
       "BAYGZayaeIEOYFzpaHkTxBGC+4/x/zQwvRamibcA1cMMpxheP+gGcRQR4vP/fwLFjzkQvwfxM4Ch\n",
       "f3s3EIDiiwPIWcAwn8EMFIEKCE2MT/pBvo0AmXuBgSGlDSaRAsT8QE0HGJwgHukGmrQdJsv1D0jk\n",
       "g1jqQNdEJKBpYmDoRI9noDIemCZuULizFCBp4jCABDAPyHkbYHp4gC5i/Ah1HthPXBuQNDEBzXwI\n",
       "TFhzQAJ+ME3AeGXgBdn7HCPI2UCcCwzM/5gaGCeABE4HwCJiJwPDJJQgR43cDQw8mmtWzYMEWS3U\n",
       "uyysLk4PQIxS7MmoEZnD7I4IPbDfsCcjhlf4ciDXBJgmPmKyBgQch+cnnp3I4owOeDQ5goKrFZKL\n",
       "FyNLSOLWw5kALSMAsO5tEQZEFc4AAAAASUVORK5CYII=\n",
       "\" style=\"display:inline;vertical-align:middle;\" /></a> <a class=\"ProveItLink\" href=\"../185df0522dbd2b42205d449e86cc7c61d1ead81d0/proof.ipynb\" style=\"text-decoration: none\">&#x22A2;&nbsp;</a><a class=\"ProveItLink\" href=\"../48c335c446b0ba530a3872178982bb5601e356af0/expr.ipynb\"><img src=\"data:image/png;base64,iVBORw0KGgoAAAANSUhEUgAAAFIAAAAVBAMAAAAnX6R8AAAAMFBMVEX////c3NxERESqqqqYmJgQ\n",
       "EBDu7u4yMjKIiIi6urpUVFTMzMx2dnYiIiJmZmYAAABjE816AAAAAXRSTlMAQObYZgAAAUlJREFU\n",
       "KM9jYCAHzMAtxTIBmce9ALsqr3fPPBleI4uwJ2BVyO7AkPSBgR1ZqAO7kWsYGJgLGFgOIAmFIctn\n",
       "1N69DmYw/ga6q4GBLQAhx1mA7OYSmFM4PwN5GxgYlBGSfEDzGU8stHgB4gjB3cz4vxtMn0NxOUMO\n",
       "g69DLIijiBDv//9JAEiZM7y9CwR3gExWYJAdYOhnsAay2RQQKhm94kE+mArh7QJifqDKBIZFEMfF\n",
       "ArVfh6nl+QIk9qOqZGCIQI8EoJvY0FSyGkDChA1k+wWYQrYHQMGPqLYzAXU7cnxgaAMJLIGpBAY6\n",
       "Ax/IBndo8IFc84CB+QtTAGMDSCAXliL4bjAwNKGFEucFBjaNY2daIB6u2wAR5eJctcgBxKhEipdA\n",
       "5NhkXo7wO9i9SLHJ4IMv7fI0EE51EJCOzGFcgEflQhSeBG6FHBsYABC2Tqwmj+voAAAAAElFTkSu\n",
       "QmCC\n",
       "\" style=\"display:inline;vertical-align:middle;\" /></a></span></td></tr>\n",
       "</table>"
      ],
      "text/plain": [
       "<proveit._core_.proof._ShowProof at 0x7f94eae41198>"
      ]
     },
     "execution_count": 1,
     "metadata": {},
     "output_type": "execute_result"
    }
   ],
   "source": [
    "import proveit\n",
    "%show_proof"
   ]
  },
  {
   "cell_type": "code",
   "execution_count": null,
   "metadata": {},
   "outputs": [],
   "source": []
  }
 ],
 "metadata": {
  "kernelspec": {
   "display_name": "Python 3",
   "language": "python",
   "name": "python3"
  }
 },
 "nbformat": 4,
 "nbformat_minor": 0
}
