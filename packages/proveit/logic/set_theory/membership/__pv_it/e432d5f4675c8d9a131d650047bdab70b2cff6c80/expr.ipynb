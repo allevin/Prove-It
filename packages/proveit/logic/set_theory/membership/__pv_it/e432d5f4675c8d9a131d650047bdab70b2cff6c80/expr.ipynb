{
 "cells": [
  {
   "cell_type": "markdown",
   "metadata": {},
   "source": [
    "Expression of type <a class=\"ProveItLink\" href=\"../../../../../../../doc/html/api/proveit.logic.Set.html\">Set</a>\n",
    "=======================\n",
    "# from context <a class=\"ProveItLink\" href=\"../../_context_.ipynb\">proveit.logic.set_theory.membership</a>"
   ]
  },
  {
   "cell_type": "code",
   "execution_count": 1,
   "metadata": {},
   "outputs": [],
   "source": [
    "# import Expression classes needed to build the expression\n",
    "from proveit._common_ import H, S\n",
    "from proveit.logic import InSet, Set"
   ]
  },
  {
   "cell_type": "code",
   "execution_count": 2,
   "metadata": {},
   "outputs": [
    {
     "data": {
      "text/html": [
       "<strong id=\"expr\">expr:</strong> <a class=\"ProveItLink\" href=\"expr.ipynb\"><img src=\"data:image/png;base64,iVBORw0KGgoAAAANSUhEUgAAAE0AAAAVBAMAAADx+n4ZAAAAMFBMVEX////c3NxERESqqqpUVFS6\n",
       "urrMzMwyMjIQEBCIiIh2dnYiIiLu7u5mZmaYmJgAAABXZE4RAAAAAXRSTlMAQObYZgAAAVdJREFU\n",
       "KM9jYGDgu8eAF7CtEgBRPLsYCAC2ZhDJ+QFETvmve+DJf10BNCVP7t55ysBwHcTkagCLfAfi3+gm\n",
       "sT9gOAQ0ZgVCHetPoPl/0dV5MTAwF6Co4/oGdMFniOzJ6t3bwQxGoCDbBBR17EDjmf5AnF13AGoc\n",
       "K1AjWwKKOn4FIN4AlhWCKWNg/D8NTIPV8RaAyPgSFxf9C2BRRYT75v//BAqB9yB2RgCIXA80fr4B\n",
       "ODwVEOoYn/T3gBwFNCClDSxSD8T6YAtZu3fvhvoD5Kp/IFL9AQNDRAKI9QkahECHO8CNA8rygNRx\n",
       "LwASLAWw4PsFluTZAFPGA7SO8SPMfVwbYMH3FSLtB1MHCmJeBwbkcEEKPobTAVB1vDsZGCYxIKs7\n",
       "q/9lAq//lwUQT9YmQNSxsLo4PUBRhwqY3RH+ZcCjDgOA1fERVgdOfzw7CabnVjDFt5iI/AEAr25i\n",
       "AJSAb00AAAAASUVORK5CYII=\n",
       "\" style=\"display:inline;vertical-align:middle;\" /></a><br>"
      ],
      "text/plain": [
       "expr: {H in S}"
      ]
     },
     "execution_count": 2,
     "metadata": {},
     "output_type": "execute_result"
    }
   ],
   "source": [
    "# build up the expression from sub-expressions\n",
    "expr = Set(InSet(H, S))"
   ]
  },
  {
   "cell_type": "code",
   "execution_count": 3,
   "metadata": {},
   "outputs": [
    {
     "name": "stdout",
     "output_type": "stream",
     "text": [
      "Passed sanity check: built 'expr' is the same as the stored Expression.\n"
     ]
    }
   ],
   "source": [
    "# check that the built expression is the same as the stored expression\n",
    "%check_expr"
   ]
  },
  {
   "cell_type": "code",
   "execution_count": 4,
   "metadata": {},
   "outputs": [
    {
     "data": {
      "text/html": [
       "<table><tr><th>&nbsp;</th><th>core type</th><th>sub-expressions</th><th>expression</th></tr>\n",
       "<tr><td>0</td><td>Operation</td><td>operator:&nbsp;1<br>operands:&nbsp;2<br></td><td><a class=\"ProveItLink\" href=\"expr.ipynb\"><img src=\"data:image/png;base64,iVBORw0KGgoAAAANSUhEUgAAAE0AAAAVBAMAAADx+n4ZAAAAMFBMVEX////c3NxERESqqqpUVFS6\n",
       "urrMzMwyMjIQEBCIiIh2dnYiIiLu7u5mZmaYmJgAAABXZE4RAAAAAXRSTlMAQObYZgAAAVdJREFU\n",
       "KM9jYGDgu8eAF7CtEgBRPLsYCAC2ZhDJ+QFETvmve+DJf10BNCVP7t55ysBwHcTkagCLfAfi3+gm\n",
       "sT9gOAQ0ZgVCHetPoPl/0dV5MTAwF6Co4/oGdMFniOzJ6t3bwQxGoCDbBBR17EDjmf5AnF13AGoc\n",
       "K1AjWwKKOn4FIN4AlhWCKWNg/D8NTIPV8RaAyPgSFxf9C2BRRYT75v//BAqB9yB2RgCIXA80fr4B\n",
       "ODwVEOoYn/T3gBwFNCClDSxSD8T6YAtZu3fvhvoD5Kp/IFL9AQNDRAKI9QkahECHO8CNA8rygNRx\n",
       "LwASLAWw4PsFluTZAFPGA7SO8SPMfVwbYMH3FSLtB1MHCmJeBwbkcEEKPobTAVB1vDsZGCYxIKs7\n",
       "q/9lAq//lwUQT9YmQNSxsLo4PUBRhwqY3RH+ZcCjDgOA1fERVgdOfzw7CabnVjDFt5iI/AEAr25i\n",
       "AJSAb00AAAAASUVORK5CYII=\n",
       "\" style=\"display:inline;vertical-align:middle;\" /></a></td></tr>\n",
       "<tr><td>1</td><td>Literal</td><td></td><td><a class=\"ProveItLink\" href=\"../../../enumeration/__pv_it/07381ed5b23806e8d7914b78cb6667769e3708dd0/expr.ipynb\"><img src=\"data:image/png;base64,iVBORw0KGgoAAAANSUhEUgAAAB4AAAAOBAMAAADKyLEKAAAAMFBMVEX///8iIiIQEBCIiIjMzMzc\n",
       "3Nyqqqp2dnZEREQyMjK6urru7u5mZmZUVFSYmJgAAACI6eGPAAAAAXRSTlMAQObYZgAAALRJREFU\n",
       "CNdjYGDgu3Nm3wIGBJjHwN0PZW5yYGDgLWBgyITy8zcwMMQDxZyh/INAvD6BgcEFypcB4vjPDiBm\n",
       "TPFRrhs/LjMwMP//38rAwCbKEMPA9gEkE3fp0waG+AUMRxh4JkC01T9guPTOOICBEWgVH5C//wHD\n",
       "H5D4fqCz9oCMDGD4DLaegRXslLMMDMpAgxlOMmQxHDRgYG5gYLBk4D7KcIe7gOHC2rt9QCXsh40Z\n",
       "GCKMGQDRkC8N/Ph1XAAAAABJRU5ErkJggg==\n",
       "\" style=\"display:inline;vertical-align:middle;\" /></a></td></tr>\n",
       "<tr><td>2</td><td>ExprTuple</td><td>3</td><td><a class=\"ProveItLink\" href=\"../dd5b35dde4bacdcab5fa3e96c1f6ef41c24e069f0/expr.ipynb\"><img src=\"data:image/png;base64,iVBORw0KGgoAAAANSUhEUgAAAEYAAAAVBAMAAAAJGoXuAAAAMFBMVEX////c3NwiIiJERESqqqqY\n",
       "mJh2dnZmZmYQEBDu7u4yMjJUVFTMzMyIiIi6uroAAAAs73DqAAAAAXRSTlMAQObYZgAAAVpJREFU\n",
       "KM9jYCAG8F3AK836AEicBuLb/80nRP83F0CTjy6vjGOoATJWgni/gPgTuhFcAQyTPzBwMTDwgqzi\n",
       "+8vAwPMdXc02BgaWBQysCQwcE4A8tj9AxV8gMnMXKWmBGYxAQZ4LDJwNDK/Apn5gYGD+CZbhWToB\n",
       "5hmgJp4DDAwmDGUgLr8BECuAZYRhShgY/98B0+kMS0HU+9W7d9sXgEUMEe65//8zyKdeDH0gXj7Q\n",
       "yPsOIBanAUINY3R/J5B6wfAPxFsPxPZgS/ialJSgbgb55SuQOA9R8xkaREBHboAbEwA0FaKmBRY8\n",
       "38ASnAowJZxA9zF+BNtlCguefxCprTA1wOBjYAeZGgX0GUrwMEx6AFXDrsvAcBni90cMDNPtf19g\n",
       "3/87AeKZ5Qcgarj5dm8OADHWMXCgRzbLLoS/wO5qAEUZfsB2AZo28IBZQCxNQM1GkCPxp1XeAwwA\n",
       "R3haBtyBeOYAAAAASUVORK5CYII=\n",
       "\" style=\"display:inline;vertical-align:middle;\" /></a></td></tr>\n",
       "<tr><td>3</td><td>Operation</td><td>operator:&nbsp;4<br>operands:&nbsp;5<br></td><td><a class=\"ProveItLink\" href=\"../9b8286f524e828b3bec53bceff12a9d2f88bd2a50/expr.ipynb\"><img src=\"data:image/png;base64,iVBORw0KGgoAAAANSUhEUgAAADoAAAAPBAMAAABHIsEFAAAAMFBMVEX///8QEBCqqqp2dnbMzMy6\n",
       "uroiIiIyMjLc3NyYmJju7u5mZmZERERUVFSIiIgAAADpO3mLAAAAAXRSTlMAQObYZgAAAPdJREFU\n",
       "GNNjYGB4+//0grn/TzcwoIK5u3dNBdHfgfgbmhwD+wSGNR+ANOs/BgaW3+iylxkYmAqANPMXBga+\n",
       "TxCxdWVp6WAGB1CQ5QHIDKABPL/AYiyVC6BaWYHKWRyADP4DQJwAFuuBSTJw/H8CYcTX3r17fgOY\n",
       "eQJh7/v/f8C+sAca8F4BxOI6gJDlmCsvBaLrgfg82EhWsbQ0qKtArv0JIv9AvQx0xgW41glAk37C\n",
       "vPsZLMSVAJPkArqD4wfMu18hgjdhsqCA4L6A6l2GZQFQWe48BoY3QHr1+b8PuO//NYA4tNoBIsvL\n",
       "evfOBPTAZWC6jnAzEAAAvjhJ/Ln5CocAAAAASUVORK5CYII=\n",
       "\" style=\"display:inline;vertical-align:middle;\" /></a></td></tr>\n",
       "<tr><td>4</td><td>Literal</td><td></td><td><a class=\"ProveItLink\" href=\"../088cbc857536a28d4119ad9639a84270ccb0545d0/expr.ipynb\"><img src=\"data:image/png;base64,iVBORw0KGgoAAAANSUhEUgAAAAwAAAAMBAMAAACkW0HUAAAALVBMVEX///+qqqpmZmZUVFQQEBC6\n",
       "urpERETc3NyYmJjMzMwiIiIyMjKIiIju7u4AAACYsrA9AAAAAXRSTlMAQObYZgAAADxJREFUCNdj\n",
       "YOA9vWrVBgaG2b0MQMCeCyIZ2ArA1DUwyRCyahVIyWQI7xaEYm4AU7xLIdxqTQgtvGvVBgCkcQ7e\n",
       "geM/tQAAAABJRU5ErkJggg==\n",
       "\" style=\"display:inline;vertical-align:middle;\" /></a></td></tr>\n",
       "<tr><td>5</td><td>ExprTuple</td><td>6, 7</td><td><a class=\"ProveItLink\" href=\"../90b4d789d2e9d97b97f3fdec748513bc17e71f5d0/expr.ipynb\"><img src=\"data:image/png;base64,iVBORw0KGgoAAAANSUhEUgAAADUAAAAVBAMAAAAUZLt1AAAAMFBMVEX////c3NwiIiJERESqqqqY\n",
       "mJh2dnZmZmYQEBDu7u4yMjJUVFTMzMyIiIi6uroAAAAs73DqAAAAAXRSTlMAQObYZgAAATZJREFU\n",
       "KM9jYMAH+C5gFY4DEaeB+PZ/8wnR/80FIMKs28unPmA/AGStBHF/AfEnmJalDJz2DAwLGBh4QUby\n",
       "/WVg4PkOleJOYGDwYmAIY2DgmADksv0BKvoClZMHmnaWgWEGA8MrEJfrAwMD80+o3HsHBoYzQL4D\n",
       "QxmIy28AxAowfX9BzmBgKwBaDFK6evdu+wKoHO///4ZAimUBQx+Imw9Ued8B5k7RHT+AjuBrYPgH\n",
       "4q0HYvsJCI/nBwDd/QEi9xnqRbDPgXg+RK4F5r1vULnpIOcIgM00hXkPZADIWKC3GapB+hcwpCN5\n",
       "jxMUbEUXGHgNIH54BDTF/vcF9v2/Exg4+4FmbXi92xQcHg8YOASQ4wuJAwwz1gQkOVYkdi4sjjDl\n",
       "OIFxxCCNJIeUBLhBxjNiTxN3GBgATrlR90OLEwMAAAAASUVORK5CYII=\n",
       "\" style=\"display:inline;vertical-align:middle;\" /></a></td></tr>\n",
       "<tr><td>6</td><td>Variable</td><td></td><td><a class=\"ProveItLink\" href=\"../../../../../__pv_it/fabf74ac81cd36aa91075816201d2b14195a56e60/expr.ipynb\"><img src=\"data:image/png;base64,iVBORw0KGgoAAAANSUhEUgAAABMAAAAOBAMAAAA/Njq6AAAALVBMVEX///+qqqp2dnbMzMy6uroi\n",
       "IiIyMjLc3NyYmJju7u5mZmZERERUVFSIiIgAAABaGT/LAAAAAXRSTlMAQObYZgAAAGhJREFUCNdj\n",
       "YGC4827XhJ53uwoYgOAZED8FMRhY3jIwML8CM5keMzDwPgQz2R4wMHC/BDP5NgBxAJjpl3PmzL4F\n",
       "YKaeAQPDPQEwMw+I900AM19DjYYa+whh7BM0Y2fte3OB69wbBQYGADOSITJjbaXUAAAAAElFTkSu\n",
       "QmCC\n",
       "\" style=\"display:inline;vertical-align:middle;\" /></a></td></tr>\n",
       "<tr><td>7</td><td>Variable</td><td></td><td><a class=\"ProveItLink\" href=\"../../../../../__pv_it/abeee18594afe51bfb1be95d9591fbba24ac53f30/expr.ipynb\"><img src=\"data:image/png;base64,iVBORw0KGgoAAAANSUhEUgAAAA0AAAAOBAMAAAAGUYvhAAAAMFBMVEX///8iIiIQEBCIiIjMzMzc\n",
       "3Nyqqqp2dnZEREQyMjK6urru7u5mZmZUVFSYmJgAAACI6eGPAAAAAXRSTlMAQObYZgAAAF1JREFU\n",
       "CNdjYGDgu3Nm3wIGBoZ5DNz9QIq3gIEhE0jHOzAwOAPp9QkMDC4g/megABAw///fCmbEXfq0Acxg\n",
       "qH8ANAVI7wfSe0BKAyBGnAXigwYMzA1A+sLau31ACgAz0hhbkhGHbwAAAABJRU5ErkJggg==\n",
       "\" style=\"display:inline;vertical-align:middle;\" /></a></td></tr>\n",
       "</table>\n"
      ],
      "text/plain": [
       "0. {H in S}\n",
       "   core type: Operation\n",
       "   operator: 1\n",
       "   operands: 2\n",
       "1. Set\n",
       "   core type: Literal\n",
       "   sub-expressions: \n",
       "2. (H in S)\n",
       "   core type: ExprTuple\n",
       "   sub-expressions: 3\n",
       "3. H in S\n",
       "   core type: Operation\n",
       "   operator: 4\n",
       "   operands: 5\n",
       "4. in\n",
       "   core type: Literal\n",
       "   sub-expressions: \n",
       "5. (H , S)\n",
       "   core type: ExprTuple\n",
       "   sub-expressions: 6, 7\n",
       "6. H\n",
       "   core type: Variable\n",
       "   sub-expressions: \n",
       "7. S\n",
       "   core type: Variable\n",
       "   sub-expressions: "
      ]
     },
     "execution_count": 4,
     "metadata": {},
     "output_type": "execute_result"
    }
   ],
   "source": [
    "# display the expression information\n",
    "expr.exprInfo()"
   ]
  },
  {
   "cell_type": "code",
   "execution_count": null,
   "metadata": {},
   "outputs": [],
   "source": []
  }
 ],
 "metadata": {
  "kernelspec": {
   "display_name": "Python 3",
   "language": "python",
   "name": "python3"
  }
 },
 "nbformat": 4,
 "nbformat_minor": 0
}
