{
 "cells": [
  {
   "cell_type": "markdown",
   "metadata": {
    "collapsed": true
   },
   "source": [
    "Theorems for context <a href=\"_context_.ipynb\" class=\"ProveItLink\">proveit.logic.set_theory.membership</a>\n",
    "========"
   ]
  },
  {
   "cell_type": "code",
   "execution_count": 1,
   "metadata": {},
   "outputs": [
    {
     "name": "stdout",
     "output_type": "stream",
     "text": [
      "Defining theorems for context 'proveit.logic.set_theory.membership'\n",
      "Subsequent end-of-cell assignments will define theorems\n",
      "'%end theorems' will finalize the definitions\n"
     ]
    }
   ],
   "source": [
    "from proveit import ExprList, Indexed\n",
    "from proveit.logic import Forall, Not, Equals, InSet, NotInSet, EmptySet\n",
    "import proveit._common_\n",
    "from proveit._common_ import i, m, n, x, S\n",
    "from proveit.number import zero, num, Naturals, Len, Exp, Interval\n",
    "%begin theorems"
   ]
  },
  {
   "cell_type": "code",
   "execution_count": 2,
   "metadata": {},
   "outputs": [
    {
     "data": {
      "text/html": [
       "<strong id=\"exp_set_0\"><a class=\"ProveItLink\" href=\"_proofs_/exp_set_0.ipynb\">exp_set_0</a>:</strong> <a class=\"ProveItLink\" href=\"__pv_it/f96b42982943c9b9cb27fd0985ee8fe4235d65d30/expr.ipynb\"><img src=\"__pv_it/f96b42982943c9b9cb27fd0985ee8fe4235d65d30/expr.png\" style=\"display:inline;vertical-align:middle;\" /></a><br>"
      ],
      "text/plain": [
       "exp_set_0: forall_{x, S | |x| = 0} (x in S^{0})"
      ]
     },
     "execution_count": 2,
     "metadata": {},
     "output_type": "execute_result"
    }
   ],
   "source": [
    "exp_set_0 = Forall((x, S), InSet(x, Exp(S, zero)), conditions=[Equals(Len(x), zero)])"
   ]
  },
  {
   "cell_type": "code",
   "execution_count": 3,
   "metadata": {},
   "outputs": [
    {
     "data": {
      "text/html": [
       "<strong id=\"exp_set_1\"><a class=\"ProveItLink\" href=\"_proofs_/exp_set_1.ipynb\">exp_set_1</a>:</strong> <a class=\"ProveItLink\" href=\"__pv_it/2fd01e9dcec2beac2e2b13b9e038066596f5567d0/expr.ipynb\"><img src=\"__pv_it/2fd01e9dcec2beac2e2b13b9e038066596f5567d0/expr.png\" style=\"display:inline;vertical-align:middle;\" /></a><br>\n",
       "<strong id=\"exp_set_2\"><a class=\"ProveItLink\" href=\"_proofs_/exp_set_2.ipynb\">exp_set_2</a>:</strong> <a class=\"ProveItLink\" href=\"__pv_it/9ac424c71798aca56b25ebe33a7a41dbaa332c490/expr.ipynb\"><img src=\"__pv_it/9ac424c71798aca56b25ebe33a7a41dbaa332c490/expr.png\" style=\"display:inline;vertical-align:middle;\" /></a><br>\n",
       "<strong id=\"exp_set_3\"><a class=\"ProveItLink\" href=\"_proofs_/exp_set_3.ipynb\">exp_set_3</a>:</strong> <a class=\"ProveItLink\" href=\"__pv_it/a49ce01e1a7921a9d6b58e9c03dee6f569af69c80/expr.ipynb\"><img src=\"__pv_it/a49ce01e1a7921a9d6b58e9c03dee6f569af69c80/expr.png\" style=\"display:inline;vertical-align:middle;\" /></a><br>\n",
       "<strong id=\"exp_set_4\"><a class=\"ProveItLink\" href=\"_proofs_/exp_set_4.ipynb\">exp_set_4</a>:</strong> <a class=\"ProveItLink\" href=\"__pv_it/f8871096ab31a54eeeb7d5201addc96bdbcd44530/expr.ipynb\"><img src=\"__pv_it/f8871096ab31a54eeeb7d5201addc96bdbcd44530/expr.png\" style=\"display:inline;vertical-align:middle;\" /></a><br>\n",
       "<strong id=\"exp_set_5\"><a class=\"ProveItLink\" href=\"_proofs_/exp_set_5.ipynb\">exp_set_5</a>:</strong> <a class=\"ProveItLink\" href=\"__pv_it/51a013fc29190f4a50141968026b0dc6a9c3a38b0/expr.ipynb\"><img src=\"__pv_it/51a013fc29190f4a50141968026b0dc6a9c3a38b0/expr.png\" style=\"display:inline;vertical-align:middle;\" /></a><br>\n",
       "<strong id=\"exp_set_6\"><a class=\"ProveItLink\" href=\"_proofs_/exp_set_6.ipynb\">exp_set_6</a>:</strong> <a class=\"ProveItLink\" href=\"__pv_it/7f7287e84f0e62d7fcc3b726658572fe638676350/expr.ipynb\"><img src=\"__pv_it/7f7287e84f0e62d7fcc3b726658572fe638676350/expr.png\" style=\"display:inline;vertical-align:middle;\" /></a><br>\n",
       "<strong id=\"exp_set_7\"><a class=\"ProveItLink\" href=\"_proofs_/exp_set_7.ipynb\">exp_set_7</a>:</strong> <a class=\"ProveItLink\" href=\"__pv_it/9c43bcf609c6ffda96bc2fbf766e82e071ce4d9f0/expr.ipynb\"><img src=\"__pv_it/9c43bcf609c6ffda96bc2fbf766e82e071ce4d9f0/expr.png\" style=\"display:inline;vertical-align:middle;\" /></a><br>\n",
       "<strong id=\"exp_set_8\"><a class=\"ProveItLink\" href=\"_proofs_/exp_set_8.ipynb\">exp_set_8</a>:</strong> <a class=\"ProveItLink\" href=\"__pv_it/0cd6f627c1e438f9180c6b8a4e26a00a5b6c49270/expr.ipynb\"><img src=\"__pv_it/0cd6f627c1e438f9180c6b8a4e26a00a5b6c49270/expr.png\" style=\"display:inline;vertical-align:middle;\" /></a><br>\n",
       "<strong id=\"exp_set_9\"><a class=\"ProveItLink\" href=\"_proofs_/exp_set_9.ipynb\">exp_set_9</a>:</strong> <a class=\"ProveItLink\" href=\"__pv_it/89231cc78a2930e1a69aadda0d78d86a70eabbc80/expr.ipynb\"><img src=\"__pv_it/89231cc78a2930e1a69aadda0d78d86a70eabbc80/expr.png\" style=\"display:inline;vertical-align:middle;\" /></a><br>"
      ],
      "text/plain": [
       "exp_set_1: forall_{S} [forall_{a in S} ((a) in S^{1})]\n",
       "exp_set_2: forall_{S} [forall_{a, b in S} ((a , b) in S^{2})]\n",
       "exp_set_3: forall_{S} [forall_{a, b, c in S} ((a , b , c) in S^{3})]\n",
       "exp_set_4: forall_{S} [forall_{a, b, c, d in S} ((a , b , c , d) in S^{4})]\n",
       "exp_set_5: forall_{S} [forall_{a, b, c, d, e in S} ((a , b , c , d , e) in S^{5})]\n",
       "exp_set_6: forall_{S} [forall_{a, b, c, d, e, f in S} ((a , b , c , d , e , f) in S^{6})]\n",
       "exp_set_7: forall_{S} [forall_{a, b, c, d, e, f, g in S} ((a , b , c , d , e , f , g) in S^{7})]\n",
       "exp_set_8: forall_{S} [forall_{a, b, c, d, e, f, g, h in S} ((a , b , c , d , e , f , g , h) in S^{8})]\n",
       "exp_set_9: forall_{S} [forall_{a, b, c, d, e, f, g, h, i in S} ((a , b , c , d , e , f , g , h , i) in S^{9})]"
      ]
     },
     "execution_count": 3,
     "metadata": {},
     "output_type": "execute_result"
    }
   ],
   "source": [
    "def nvars(n):\n",
    "    return [proveit._common_.__getattr__(chr(ord('a')+k)) for k in range(n)]\n",
    "exp_set_1, exp_set_2, exp_set_3, exp_set_4, exp_set_5, exp_set_6, exp_set_7, exp_set_8, exp_set_9 = \\\n",
    "    [Forall(S, Forall(nvars(n), InSet(ExprList(*nvars(n)), Exp(S, num(n))), domain=S)) for n in range(1, 10)]"
   ]
  },
  {
   "cell_type": "code",
   "execution_count": 4,
   "metadata": {},
   "outputs": [
    {
     "data": {
      "text/html": [
       "<strong id=\"mem_exp_set_length\"><a class=\"ProveItLink\" href=\"_proofs_/mem_exp_set_length.ipynb\">mem_exp_set_length</a>:</strong> <a class=\"ProveItLink\" href=\"__pv_it/06ab7ecf1ef20b5158376338b7d9013ed9c822bb0/expr.ipynb\"><img src=\"__pv_it/06ab7ecf1ef20b5158376338b7d9013ed9c822bb0/expr.png\" style=\"display:inline;vertical-align:middle;\" /></a><br>"
      ],
      "text/plain": [
       "mem_exp_set_length: forall_{m} [forall_{S in Naturals} [forall_{x in S^{m}} (|x| = m)]]"
      ]
     },
     "execution_count": 4,
     "metadata": {},
     "output_type": "execute_result"
    }
   ],
   "source": [
    "mem_exp_set_length = Forall(m, Forall(S, Forall(x, Equals(Len(x), m), domain = Exp(S, m)),\n",
    "                                         domain = Naturals))"
   ]
  },
  {
   "cell_type": "code",
   "execution_count": 5,
   "metadata": {},
   "outputs": [
    {
     "ename": "NameError",
     "evalue": "name 'ExpSet' is not defined",
     "output_type": "error",
     "traceback": [
      "\u001b[0;31m---------------------------------------------------------------------------\u001b[0m",
      "\u001b[0;31mNameError\u001b[0m                                 Traceback (most recent call last)",
      "\u001b[0;32m<ipython-input-5-6a469a0bcae3>\u001b[0m in \u001b[0;36m<module>\u001b[0;34m\u001b[0m\n\u001b[1;32m      1\u001b[0m mem_exp_set_item_set = Forall(m, Forall(S, Forall(x, Forall(i, InSet(Indexed(x,i),S),\n\u001b[1;32m      2\u001b[0m                                                             domain = Interval(num(1),m)),\n\u001b[0;32m----> 3\u001b[0;31m                                                  domain = ExpSet(S, m))),\n\u001b[0m\u001b[1;32m      4\u001b[0m                               domain = Naturals)\n\u001b[1;32m      5\u001b[0m \u001b[0mAssignments\u001b[0m\u001b[0;34m(\u001b[0m\u001b[0;34m[\u001b[0m\u001b[0;34m'mem_exp_set_item_set'\u001b[0m\u001b[0;34m]\u001b[0m\u001b[0;34m,\u001b[0m \u001b[0;34m[\u001b[0m\u001b[0mmem_exp_set_item_set\u001b[0m\u001b[0;34m]\u001b[0m\u001b[0;34m)\u001b[0m\u001b[0;34m\u001b[0m\u001b[0;34m\u001b[0m\u001b[0m\n",
      "\u001b[0;31mNameError\u001b[0m: name 'ExpSet' is not defined"
     ]
    }
   ],
   "source": [
    "mem_exp_set_item_set = Forall(m, Forall(S, Forall(x, Forall(i, InSet(Indexed(x,i),S),\n",
    "                                                            domain = Interval(num(1),m)),\n",
    "                                                 domain = Exp(S, m))),\n",
    "                              domain = Naturals)"
   ]
  },
  {
   "cell_type": "code",
   "execution_count": null,
   "metadata": {},
   "outputs": [],
   "source": [
    "unfoldNotInSet = Forall((x, S), Not(InSet(x, S)), conditions=[NotInSet(x, S)])"
   ]
  },
  {
   "cell_type": "code",
   "execution_count": null,
   "metadata": {},
   "outputs": [],
   "source": [
    "foldNotInSet = Forall((x, S), NotInSet(x, S), conditions=[Not(InSet(x, S))])"
   ]
  },
  {
   "cell_type": "code",
   "execution_count": null,
   "metadata": {},
   "outputs": [],
   "source": [
    "%end theorems"
   ]
  },
  {
   "cell_type": "code",
   "execution_count": null,
   "metadata": {},
   "outputs": [],
   "source": []
  }
 ],
 "metadata": {
  "kernelspec": {
   "display_name": "Python 3",
   "language": "python",
   "name": "python3"
  },
  "language_info": {
   "codemirror_mode": {
    "name": "ipython",
    "version": 3
   },
   "file_extension": ".py",
   "mimetype": "text/x-python",
   "name": "python",
   "nbconvert_exporter": "python",
   "pygments_lexer": "ipython3",
   "version": "3.7.3"
  }
 },
 "nbformat": 4,
 "nbformat_minor": 1
}
