{
 "cells": [
  {
   "cell_type": "markdown",
   "metadata": {},
   "source": [
    "Theorems for context <a href=\"_context_.ipynb\" class=\"ProveItLink\">proveit.logic.set_theory.membership</a>\n",
    "========"
   ]
  },
  {
   "cell_type": "code",
   "execution_count": 1,
   "metadata": {},
   "outputs": [
    {
     "name": "stdout",
     "output_type": "stream",
     "text": [
      "Defining theorems for context 'proveit.logic.set_theory.membership'\n",
      "Subsequent end-of-cell assignments will define theorems\n",
      "'%end theorems' will finalize the definitions\n"
     ]
    }
   ],
   "source": [
    "from proveit import ExprTuple\n",
    "from proveit.logic import Forall, Not, Equals, InSet, NotInSet, EmptySet, inBool\n",
    "import proveit._common_\n",
    "from proveit._common_ import i, x, S\n",
    "from proveit.number import zero, num, Len, Exp\n",
    "%begin theorems"
   ]
  },
  {
   "cell_type": "code",
   "execution_count": 2,
   "metadata": {},
   "outputs": [
    {
     "data": {
      "text/html": [
       "<strong id=\"exp_set_0\"><a class=\"ProveItLink\" href=\"_proofs_/exp_set_0.ipynb\">exp_set_0</a>:</strong> <a class=\"ProveItLink\" href=\"__pv_it/c36d0cbfb5d1d5f5c85086d7c2d17f1d8ab33f760/expr.ipynb\"><img src=\"data:image/png;base64,iVBORw0KGgoAAAANSUhEUgAAALkAAAAcBAMAAADPUgMyAAAAMFBMVEX///8QEBC6urrMzMxUVFRm\n",
       "ZmZERETc3NwyMjKqqqp2dnaIiIiYmJgiIiLu7u4AAAAU9Wx4AAAAAXRSTlMAQObYZgAAAsVJREFU\n",
       "SMe1VktoE1EUPclkMs1nxuCuihrBnYtEsOBGElqJ4ioi0UVBsmqFgkQQ2404S0EtAe1GN91ZUwgB\n",
       "W1FbbJCKC1GLOz+BWWUhSAOFFiE03vdmMp8045iEXsi8d++bnLnvvnPPDLAfVlrG/llk3p8eEMIf\n",
       "d12Sk9hFeCD00+5Lmxq+QRgkfWXWfS2l4QewQjOtT/RA1X0twdHlArDB3I+9o990ia/nrr3Tc49Q\n",
       "aZ6z0Gzv6Lnu4aEq6o3NAoapdrvAbQpJ+d7RD3YPXwRCqi+JHZr/pIdR4cViz+BCw3HEr2o1lU2k\n",
       "LVqqEN9ZvleA6LPp6Tt9NEzM7p353G6CP4SexMoyI8sX+m1PTHzvgzKUqrR4/uk4z/hGOyy1Xjio\n",
       "gzFg0oqMlFaTbNQb0WjH+F79CBIhfuFT9Qh3Cub/11rbppMipBNQVKu9s0jwSd52bQ92/RjKAvNY\n",
       "wyPm1K3spPVjR9vzu5SVjIjVGDIl4o7O9cOYZlkjZnTneK1mnCpZuGkKApElUpU1u0JE3dG5fljo\n",
       "wOFOyaE8laY9d0Vli4ujS6ze8qE4HOjhpZNjJrreg3pl0jr/FOb8NplJz5R2THSGODlK29EyPkZ6\n",
       "5VKr6EAvB/LDNFy4R1ZJWOgBuuFDpIG3Ds0JUXlEUxsT7HznSGr8eGCEbsUc6HFq7W65RzYQagZj\n",
       "UoWn/NWIirT80iwT4zt8/A6+HyUOpeGs+4GCre5cP3RyNaBMlUurujdz2diR/1zGosgCu0TZoQox\n",
       "ge2sCCHvRD+FJA3XeWUM/eC25Wiuxw9r6p6Ou28SP6yGMVMQ8+3OMNCFxgLR2sb3vE2uvN4vZib1\n",
       "1+NlpKriSO6qgzPK1NwbzUQ39IPbWU/0aIfy2l43Xflut6CnrspJp6oWekCXVC/09x1bQQ/oeOIB\n",
       "/q9XUtp2Rddvh6hHacR+vwf+2/4CT52+tsPanZ8AAAAASUVORK5CYII=\n",
       "\" style=\"display:inline;vertical-align:middle;\" /></a><br>"
      ],
      "text/plain": [
       "exp_set_0: forall_{x, S | |x| = 0} (x in S^{0})"
      ]
     },
     "execution_count": 2,
     "metadata": {},
     "output_type": "execute_result"
    }
   ],
   "source": [
    "exp_set_0 = Forall((x, S), InSet(x, Exp(S, zero)), conditions=[Equals(Len(x), zero)])"
   ]
  },
  {
   "cell_type": "code",
   "execution_count": 3,
   "metadata": {},
   "outputs": [
    {
     "data": {
      "text/html": [
       "<strong id=\"exp_set_1\"><a class=\"ProveItLink\" href=\"_proofs_/exp_set_1.ipynb\">exp_set_1</a>:</strong> <a class=\"ProveItLink\" href=\"__pv_it/dcfa4fdd70bffa1907322ba165f1a9632c59c1070/expr.ipynb\"><img src=\"data:image/png;base64,iVBORw0KGgoAAAANSUhEUgAAAMQAAAAcBAMAAADM5Q0aAAAAMFBMVEX///8QEBC6urrMzMxUVFRm\n",
       "ZmZERETc3NwyMjKqqqp2dnaIiIiYmJgiIiLu7u4AAAAU9Wx4AAAAAXRSTlMAQObYZgAAAyBJREFU\n",
       "SMe1lk1oE0EUx1/ztfnY3RYvogdNQdCLdA9WRCwtKiL1EtEoqEhQSC9VVqjWi5i7WnLQixdFEKte\n",
       "QosiKhhKvVioQRShurCC9KYJFluE0vrezO7OdLNsQqEPsuy8/0x+M+/NvFmAjbFoATbYoidrofol\n",
       "ywzVI9nWjBQi0tTXmguSay2G74H2ENEBehtZB0IfaxMBbzjCDkLYYaNjVQpAhTemwhCayRBsyjM+\n",
       "RIBT2BU5WHGjSZ/On5/iiMwAQzwl75gPEeAUll8jlvxysgrzDY7QVxjiGj6Vgg8R4BS2ieZXcVsf\n",
       "/PIgRqnEEfCdIZIY93jZhwhwii3fwEeHl60fzh54ZVlsQcoCdqk4iFMMoT4ZHb3hT3eA07NMFz52\n",
       "ec0En8m+WffQ/EOEoYz/pXV+5Jt2sVica9q0zU6xoWiyZ2i+xx5txvOVY3O/7MrK6qTo22MzxCGA\n",
       "IWz1PntrCITjFCbkBG2T2/jrNhMNFndyinrwbnXRa/QbDLEDdOwVyUGPtArulGqGkJM5nnJlGeK4\n",
       "IyIUN5gXXZXp7dvc95tZhtAgU6UnJCQEd/JEvshXZVkjxB8MWAO0ipN96LYsJ91o6WX3n+plhshU\n",
       "NYxY3QZVQnAns5c7f9uy7CI6C1A3XIQoWzgzfdm3Cr1EurY1K6ebO6++vggqS6ckJykXW3B4BR5g\n",
       "peGB+uUVMOyuLHkIngsYOkjS8dWyXAbJqX9VViDJRwo5RkdymAXhaMoAteTVLVabsBkf8HaUyRH3\n",
       "eGUd6ZIR5IzlojXY7zg9OUPyYyoUqS9pd9Pqn9ya9Q1D68XDORfQgUnTs6A3ZAQ5O7NYx/qKxWJF\n",
       "liP0spuOxcTeCSTxCF4/4awxcvhI1UOMOwgVE5sqS7dtzXHW7cSs+ZMtX5YXaAamr4DA3TtWU0WE\n",
       "W9KVhDtcnB73Suqw+w/YMdMvD9IMHrqt52GX15KM6M2fbrr1ImdnzoF+wS/3ycVcL4Ug1EJ7F2sa\n",
       "c7HGwQqfOzAW9iWhGeu8uxWauOJgJ8N6vl/v5wHcb/Njil9qgQirxXeUWm4PEbfpO+ozbLz9ByvB\n",
       "6Gh44qK9AAAAAElFTkSuQmCC\n",
       "\" style=\"display:inline;vertical-align:middle;\" /></a><br>\n",
       "<strong id=\"exp_set_2\"><a class=\"ProveItLink\" href=\"_proofs_/exp_set_2.ipynb\">exp_set_2</a>:</strong> <a class=\"ProveItLink\" href=\"__pv_it/72e9b35b84fea46f3f97e4ed03abac36dccdf2640/expr.ipynb\"><img src=\"data:image/png;base64,iVBORw0KGgoAAAANSUhEUgAAAOMAAAAcBAMAAABhZBWzAAAAMFBMVEX///8QEBC6urrMzMxUVFRm\n",
       "ZmZERETc3NwyMjKqqqp2dnaIiIiYmJgiIiLu7u4AAAAU9Wx4AAAAAXRSTlMAQObYZgAAA+VJREFU\n",
       "SMe9Vl1IFFEUPs64juvujkIPkqFuP0IQ4T6kPUX2Z7/Uhq39i0SsiEk+iBtEuUQShMVCBfUQLUFF\n",
       "9WL086BGQ1mUkRjRD9XGEmaCmItLimRu59z52dlZHXZ7cGDvnrn33Pvd+53vnLkAc/LkVG+HOX5q\n",
       "YI/peGOoKZVlFqUB+RFaXRBEY3koONN4f0qr8BVpQM6HUSesIEuo+H/IoXBa1F4Lg61DhgzPBCmm\n",
       "sMY2apYZOu3O2dzPMnoZJDvSawOkg03vMEMU8ozkDhRiU5Xs2eOpeQo55PlAhrxNvecNkDkB/Ms2\n",
       "Zc7iTnI5TT1JjtkSDEagl8zRMINsIeRaAyTraDHlNYMo7EromiRqkgS5BcDq54K8C8AhMUjaqCVg\n",
       "lA8de68p5GpqivQ93DQ2Yp78Mnwu9EkOQBT57yi/cpFwahmk/ZbPdyJJsb0+n89cuPcIxJ9QYdiE\n",
       "ejmD2lXKOTw77yqOxYiCiJwk417v5yTIXK+3MWgKuYniSS7NnQvlypG99QESd4PZLVqQhdj9BB4I\n",
       "ch1AHb6W3el2xSEzXZCllaCl2mH4fXefKeZhWRnA5cNRuWe0FpDEy8yui+/tSWxcXYmPypBLQMQl\n",
       "OTeU6k7JVcBQnDG3apUAF1HMNkVCrRJUa8leALCQTFGnR6GnWA25MCZDOsAmUQtZ+urTD91xmZO6\n",
       "hj0H2Ii62Hv85SLkDoAvcg8W7t+KrLjCUEiRD215SjHESRnSJjnCLGXseshu+KZB5iIxtkMnf4GI\n",
       "sZAMkOMgRtUebkqB1JUI9BenDKcU/VRuHQXOhBo7RLOE/TcpvqVd2+E5G3l7PSHvMwIg/AFrRFTS\n",
       "0jKtEqupXcSgCBMqpBJLqFtLQztjAT1kVjNuYaSplZT3GHpAVtCP4knVqZKcJOIq03+BVeooZKCC\n",
       "X8YLMD1WnGhRz8xNKJCX5C015+khrQex2QCr6L0B3vBKxghrVKfHiq7a4ao7KP7Ft82wC9QkGVE5\n",
       "s2CgH2lFX8lLyMDyLTpBjCR8vBbgb4wVYpgH1fwHr7cBvmPMVSfSN4eezV2LG5xiMYZ74CHF+ZS8\n",
       "tTYl4zK59ZWSpiO/AmlHVqwB4GsTIPuA1HLkJ5oR+Coybq4AlGuaojXztSRXU08teNZNccXGpd+h\n",
       "+0Rj9Yunvhb7Ij7aJ5yBfgzIRnqv1uV4JlHdq1GmHcTsizfapIcs8+xOvhWUdD+U+Cko6QQYpOBU\n",
       "eTzavvh+/cdLgxwyK5IvUryIKKvdxFgmPPX6+drZNppBvksRcuUs849Rc9zQaXOZINrdKUJKsyxg\n",
       "DaZ7mW2Z/YYXSu0e+yr9+zPdYytg7p9/ajsM3M+WFooAAAAASUVORK5CYII=\n",
       "\" style=\"display:inline;vertical-align:middle;\" /></a><br>\n",
       "<strong id=\"exp_set_3\"><a class=\"ProveItLink\" href=\"_proofs_/exp_set_3.ipynb\">exp_set_3</a>:</strong> <a class=\"ProveItLink\" href=\"__pv_it/2c5aa9004647ab9e19ba104d76c0ff2305aa54870/expr.ipynb\"><img src=\"data:image/png;base64,iVBORw0KGgoAAAANSUhEUgAAAQIAAAAcBAMAAAB4yqw8AAAAMFBMVEX///8QEBC6urrMzMxUVFRm\n",
       "ZmZERETc3NwyMjKqqqp2dnaIiIiYmJgiIiLu7u4AAAAU9Wx4AAAAAXRSTlMAQObYZgAABEdJREFU\n",
       "SMfFV11oHFUU/jKzm8n+TYJ9KFSabNVAwYfsg22fxKr98we7UrfaqiWIbLBpcR+WrCCaRSy+tLIg\n",
       "gj6Ii9aKBmSlrQ/dFIcapa1YUlp/qK6s9i+0xCxdTAlG47n3zs+dmWSdxodc2DNn7t9895zvnHMX\n",
       "WIqmjxysY0lb2AgXW43vreWCb3bHYhCE0vEGyqQotQvzjY/fwl7q+sVZIVrEPVzJ/18EE4v0529J\n",
       "xCoCQX0+BHrgnR5l4u6FRuPJBQau7ybxo0DAD/ytB0GCL6/8NwCty+uJSyvl8W3+JWOZXSeIi/3A\n",
       "EYHgE/Z404MgWqJHRwADh9O+ia/LLx2+FR0GrjQI+gwwVecIhthJ+j0IeMdQACe0MTNXXV0zLjeU\n",
       "vSseBiLF4aQ2CyQMjoAdIFzyMpEZZUcABPcx0S33KP+4Uk+X6fcDtZ+E25rktcpkLt4tPEEI4h8X\n",
       "Cq/4YuF0oVAIEhKfs2+6kkvUvewFEbP7LUcpZCI1pVYPUsqhnMCjcTqbveBD0JnN7i0HQLCFcYFN\n",
       "zB9bJdJYxyNHDDF2beQw8BFXh2ymaHOH3eYiBA8CA6St+XQ05SAIpdBuJ8bVngyq7hz5ylSfF9yC\n",
       "shwvip6pfjTFrNtwAHiH6wPO4i/npq2N1aZAcBd0+oKSRp9kA2U9JhzDpt0IeqE0THWfycZhA9tF\n",
       "z/t1rBA5p4I9wCrOBonp2liPxRvthkCQQMxgEu1yThzHqBNADlGvZ57h49aW39OvkxBsBX4WPU8B\n",
       "f3Jlq0NVZWWtZjKRHWjWoumMQBAzEnUem3EZwSh+tT/bafsj9tyrf0An9xkeBNPQm1aPIr4w7SCQ\n",
       "UhYt1Gc9NtCLrEQkViRddWGCrdKePsS40Vd9jCHeWcXXfPzsB67001aC9hciDd1MB2Eej9TFmvCC\n",
       "HR86OVS7aSEweYCBB9jQ43MlGUF7nhBN5oYZiY9jjORkqg+Ckpd77KyziU01mD1Dxbd4jWmircwV\n",
       "OilZ9aRTPViL0A5hyyLKTRPB2wJhvktGEHmWxEbcy94H8R3JDbiomgGq3W9NPW4SdT/eS5f1v+nt\n",
       "ITwBrmwEPrSicdIycJjY8oWdMM18gDaqQHoSesNVnW+n3w1RPJZxnpPT1B+y2UH8TqyxprL4UWh+\n",
       "vnrnYFLvIcJcOkomYUp4pEqmeE1A3mdGekjZsMmQ7ggCQZwmRkpQ+10IzoBRbs9VUhv4hV7IZDq3\n",
       "37vAWpukbOfldorJeRUrK0e2OLHgxFhFuqFQinYykM2bbrV5RnsD45EiyXOI1jez3u1Shgkxv5y2\n",
       "zepToq0q/FRORrAm86T/jtQ7etRQZ9F7DCTz1c9whflzWyZjg1XH5ersRzDRKqV/E/CWFpf3PEQ8\n",
       "8FUezSK3fWBb2dwKwbmACNZJ0t9eYuLlhb4RS7UAEE8HRGBI0t8iQSro/G1o4bty7Vb+L5xaNIJd\n",
       "/P/CeSx5+xdsfi301H2MXgAAAABJRU5ErkJggg==\n",
       "\" style=\"display:inline;vertical-align:middle;\" /></a><br>\n",
       "<strong id=\"exp_set_4\"><a class=\"ProveItLink\" href=\"_proofs_/exp_set_4.ipynb\">exp_set_4</a>:</strong> <a class=\"ProveItLink\" href=\"__pv_it/cb8b5b8e643e98474f691f6de455e22287663bbf0/expr.ipynb\"><img src=\"data:image/png;base64,iVBORw0KGgoAAAANSUhEUgAAASMAAAAcBAMAAADYVcTSAAAAMFBMVEX///8QEBC6urrMzMxUVFRm\n",
       "ZmZERETc3NwyMjKqqqp2dnaIiIiYmJgiIiLu7u4AAAAU9Wx4AAAAAXRSTlMAQObYZgAABJBJREFU\n",
       "WMPNV29oW1UU//Wl6Wua5LUoMphs7dSKINIITvGDWHWbm4qNzEzd5iwiKaMb5kNoBNEFcezLJgEZ\n",
       "6AcxKM4/Ba3sz4emw4dW0YmjMvzDNBJ1bsVSGxrsGFbrOfe++/LyXhITuw+98O47757753fP+Z1z\n",
       "7wNWSGnHiiuvF+pp9+YTTc94zTIRGR8UkKX3TflsNfVU8zP6+pcJKThXwC0s6P2XCdJ0YZmQbidI\n",
       "wTEJqVANktHsjA9wdeN/9wv11FBkCRK+k5CESb50QQqL4WMNI9K73M47t6ZKt+uvwlZv62Rs18eh\n",
       "BEM6JiG9y60vuSB1ZDgsG3eGP+rp/2K1fpeqxHq7ifPFGTAkfgjSCCMbdEESDSON+62F/ZFzre4t\n",
       "2j8IeQLqPiCQPhx7YicQNgUk3ps/46Y3m+2xxiHdydVa1+re0kEs7ZLizKH899LnJXI5UWQf4xgU\n",
       "kEJvp1LPeSLuVCqVaiLwPmQQadfqVTI0+Xe3TBoHlZc1MqcvgtDAFmJvUSaBhXj8rAdSZzy+N9s4\n",
       "pM3MJ+6fHF8n02z7/cdMqft99KgUkuN95I23hDxi805fOlphWoZ0DzBEn+vfm4iUIbVG0Gan8Bsq\n",
       "9u+fV+lx++gnlviUpCm0VXhatswNoiR7XYFDcj3SEZBXxMdQeb6PlhbUSr6ShHQdDFpSi6LPYSWt\n",
       "H9NlJ0QrUn/REnqhKXG/RfF9JrbZR9ZqIfw8hj1CIN2j9Fon5nDEkz7ZrVioz0tIYQRNrtHmzN5T\n",
       "mChToIL9AdrATGyn6KZm/oaeToI0APwgW2j1P4UwoMaRcFZFgrYmn7fozVteVLu9JCEFzbBMCSEn\n",
       "pAn8ZIPorDiFyWbBJ5//AwY53nRBWoBRUi2aXGhBjSPdvILkyKo0hbHospKR5uMuvLqn4oyb5lH6\n",
       "jiPMr77cg7yF7Zx49B3vZPCp6Pb1GxV5sSUD/S8EioaVlvwiDVCTtZylk46z49EgUugXVR+LSxi6\n",
       "m1UPLWWckNqSBHE2wdkCJzFJ9WyEySaaJN1/67bT4SYeYbLhW9Mvi2OzhJasEMgCIRYsHT4vn4mK\n",
       "Bn5lM+2iBemwhJzsckIKPE7VRtzB38P4iuoN+FU03QyflR70u9SIk1YQHMRr0azxN31twcMQwkbg\n",
       "TSEInUoCs8onfuLeCftQtvISWih3Gj3lSJIn8dX0zIuDEFeKMJKxz02+b+PxYfxCBFQj2H4aDUvm\n",
       "rh3uMbqJe+eOk9FY8I/mCkIQOuAFuZv9VsZp1TZsMm2api1IITJrIAPfYAWk02AC77lAYhE/0odw\n",
       "uGgyhKFfBW61A4AXWGVnvERNwT5QApvLEVcO7THHFY5Ol3JqtLm31lc6rR/AVCBN9Rl0XDggmnAv\n",
       "K7c5El4ru/KUbf/aAjrq3XjmEk5I62OPeG+VvRPHTd8iesdBdTL3PsvUhPPMhK2xmL0J35TzclIP\n",
       "0nS9c+mzBi+6IU8NHCEuVZTdzslsQ3gFaeBa5UyDkG7z1FXKM1w928CtP1LvFhxtEJLpqauUQBPX\n",
       "hpplpPYfSv5//Md9cRkg7RL/cf1YeeVfvudXPbWsbVEAAAAASUVORK5CYII=\n",
       "\" style=\"display:inline;vertical-align:middle;\" /></a><br>\n",
       "<strong id=\"exp_set_5\"><a class=\"ProveItLink\" href=\"_proofs_/exp_set_5.ipynb\">exp_set_5</a>:</strong> <a class=\"ProveItLink\" href=\"__pv_it/33e1239b24fc3b12ed1cd6b36f195b91d67524ea0/expr.ipynb\"><img src=\"data:image/png;base64,iVBORw0KGgoAAAANSUhEUgAAAUIAAAAcBAMAAADmcKucAAAAMFBMVEX///8QEBC6urrMzMxUVFRm\n",
       "ZmZERETc3NwyMjKqqqp2dnaIiIiYmJgiIiLu7u4AAAAU9Wx4AAAAAXRSTlMAQObYZgAABMZJREFU\n",
       "WMPNV11oXEUUPnv352azdydFkEJFs/XvxYfcBys+CEn9qT8RuhLXSFN0UUmRit6HxAZEsw8KirYs\n",
       "qKAP4qL41wVZSSsla3Gp7YNWavwNVBeu0gapPwmNJpTWxnNm5s7O3rsbbsM+5MDOPfOduWe/OXPm\n",
       "zFyA9SjG8J8VWNdirPyzmjlRn12r56s7xfCIA9BNSv1kC3N6zY6jA51imFHexjrK8He3UwxHDqKr\n",
       "qmDotmK4xn+6l5obLuWNI61h00kWkIjDGc4QctzHMAiGEXODf6VPXdli2PWXN/S4HTAfzT2EvNki\n",
       "QGqAM/yI0H0+hkEwjMSz2HQ1xf/5VuPOaXrBb+yqwdxClw1nkeVFzvBpmnzexzAIhpEI5Xe1LRmV\n",
       "ZBe1zld+6z0AyULENpdR/4UzpDnHiz6GQTCM9FNzVVsynnTPaJ1fxYMdqtd5OE1c3Wil2+Ur/ABn\n",
       "aH2wZ8+z/p0SBMPIJ8Sp0JaMWsesXnxFHG4+4c0Jox61Yf8O6nwjqs3S6OjJQLUJgGHkLsrFEnmd\n",
       "3uwIMoMHasJ2pjwllLHpPrk44+VhnAOnaz6pdtvKVMNhn8sZ3gawC3tb9n9mNxhKUEzrxSYeD2ea\n",
       "q/SO8hdSfUwkOhgb4SmBzOdhUYy6DPYKZ2gTeyk5C+OUczySjvL3+cqS6vTbnOG1wHCUkYU+LYYC\n",
       "lPJeE6X55sBdB8aCVF+Qu2WyxjMI5W0XNol0q8ATXEHbg8I2mYEh/F+qUDCnlayjvSqVcQgxTEOq\n",
       "xmklNIYClPJSE6U3lPZHbicvnd6m/xF/Peh0O8DPAkEy/3Jlu/cOKjJ9tn5dxWBF+fQ21+typ1Dy\n",
       "XlDBKHKGqVoawz7vgqUxFKCU5SaGKqKpR577m9esmo/hEq+3AjHE3y15L6HtrNAEdcHwRuUdfbEL\n",
       "vhiyAtnTmzL6ThHg+PSjlDrnDxDb0+UKh3hEz1QrcIyP/vadpvIcKYJ5HpILTJbDOK83CMk1bNgE\n",
       "JFb5L88Fw41jqohMijyEXbeS6b6Von5zIJDNmuQ/NWNhcWLfU75JyNzHBuRxcLpXVeVtlPM1YOcg\n",
       "VniVn+2LEClxBcNikaLZrkDPiHIvMW8ZaOPE1bnZ5wiGr4uiNbZBZ0hgLBslU6JiUWeA2RyiYYnB\n",
       "qhstybBs9RweBlE9XoG3siX2H/buhvuBK3cAvMuVhu0QMFVt2HfewYkJ/KlaFFkPIYKrxzLAFnSG\n",
       "BPZkeGWP2PG8SDAF9SDZ6E+jo7vhN21zUzEwcDJj1Wt2Z1gvBuDUQQwpKfFy1eVKw9Y9Qgdkl0iu\n",
       "iSHhImbcvq2xRT+UDC2MebII0bzO0OK7J3ECXfVAGl+a51XKgxxwGV+MNwFu8hwSb9ioyqjTVtE0\n",
       "eerBa3vrgUsEvKzdYDFKqmqqG2zE7b/FnXDSWGCwteHjCUdCiSKm9J0gjk5V2mMl/SpgtVc0rbzK\n",
       "GcWWdYZbcsOBO7Yxcnwn9NeMkRK25uC0SzqHGOYhzNECDeVyKh48a9XtKxRDVliFoZUP9xVQC7Te\n",
       "433MwyZ5nDaOtxPV52RQaWgxZxWGaTsUw6jjb71HUCaoeeZSLhtTqxmPhfuSsgKttlo+SZY6+dEs\n",
       "rtAtGa79e/nLTjKMu/S9/AOse/kf9XFhIkBtg8EAAAAASUVORK5CYII=\n",
       "\" style=\"display:inline;vertical-align:middle;\" /></a><br>\n",
       "<strong id=\"exp_set_6\"><a class=\"ProveItLink\" href=\"_proofs_/exp_set_6.ipynb\">exp_set_6</a>:</strong> <a class=\"ProveItLink\" href=\"__pv_it/c15c6ad1772d05d23824d396c3415362a330b76a0/expr.ipynb\"><img src=\"data:image/png;base64,iVBORw0KGgoAAAANSUhEUgAAAWcAAAAcBAMAAABPBGMIAAAAMFBMVEX///8QEBC6urrMzMxUVFRm\n",
       "ZmZERETc3NwyMjKqqqp2dnaIiIiYmJgiIiLu7u4AAAAU9Wx4AAAAAXRSTlMAQObYZgAABV5JREFU\n",
       "WMPVWG9oW1UUP82fJi99eS0TGW50y9S5fZmN4BSE0ajrVq1oRGt1xVFEUsY2lg9Z2y/SoI596UZA\n",
       "BEHEoFSdBYnbOkbT6UOq+HcUxpiokQw7V5SZ0LCW0rp67rn3vXdfXmxL2n3og3tz3nn33Pu755x7\n",
       "zrkBWCvPtSEd1tzzhru42OfDufgKF7h79TEHoloa0kjsyKUrfR9f6QLuyOqDrklh9yCjfJHbAnoy\n",
       "v/qg+98djkNdhoPOVwKtrWyBp7C5MtXJqqHK/Oa0G5V5hYMmtf5QBjpI4lUuC74Gw5LGM9FYYdh9\n",
       "dzpYWtteeM45cqx9/1f9IZgFOMtBn2Lck2WgA8yB/NUa2Rt1TPlmpXGzDk7tqXnwO7h+Hf4s1odh\n",
       "DqCQJ9A9DHtXGWhi9FR9ZtDCdZkl8KED3XKwCvenQHUEhycBlKQ/BVMAQZ1AM316U+UHkenppWpB\n",
       "NzPg+SXwYRBzHvj3mYs0cPrvE7mfubeVMB5llIgLx3u7CLT6cW/va47o8X1vb2/VQeRzbNuXwodW\n",
       "jzpYL7PuAA+bA8a2XWgmdxi+HkSGWuQhbzoW+8UBuj4WO5yuFnQrtn1MRW0frBf42s6KHPzX0BlO\n",
       "JEaahH2PDnUYB66xBftBontMU/kWzthMxkA/DtCNrzs/HQ1boD1hqDXT4vak7ZhNyce9xfBdSf5V\n",
       "bAPYtsRrReYtdEGJ628dnOCrr4cjHJZyBY4a082x7h0iu61FvlyYNrC4Sxz0vaAhKFcUmiRNuyIw\n",
       "KWVQW1iSSwDviPgmyx/Dtg4nnycXJF/NwwYirmbgEM8VOrwoskbIjHI+2tkWWkWKDb6xzZsMcoqD\n",
       "DkKdznqolTPiOIxazmc7p4qs9yAGCm24XbfJX8aGk3uKEBR2QHw3iXjGGIOEcMpHf8waelSKxjkG\n",
       "V2MuJw4iU9u8obFZDrpOD+YpAKoy6FH43URWH7dXLtJLPYqe2/ZP3iYvQNd3QSFscFx82WljzDRo\n",
       "ws1ulp/X5rLyBVWqzZdpWkuy5BXcELLVHpNMytf5EVu1Kfs02+S+LJPq/ITpXRvKUtI80gkqbUKW\n",
       "Z5nkLrR7BkNYXoRpLwU935yx+ByqVbP8WOSWiOUeZrzRcH7fjORAVDB1P8Y+PbuQkkHXJhDEjXg/\n",
       "W/QCjGF/I8ycVrD68hM09FsQGUyW34MNPbeQglYlTMhKUJMm/KgxlRFoZk/yLWJtRGOLYqcmI+YU\n",
       "9Yvpjl5D764ZAfptvqlEgwxaYSGzBXax94PwE/a74Q9iPUABIvsFDcXw9IiQsuQv8A9+XbkcgAKb\n",
       "7Ql4HrR/SRw+JGIA3oumiToPWgcfBYUQmCHvhmE576/ogWY5JeI07U8LSVGBJthIjskKFLgDXuBe\n",
       "arFKYigqdFcsFsvY5JlFdrAwffqh03CVWXZiWAdtMx4N71A2T0Qie8/BEFGBTvQ0GgVN5Eyvc0c4\n",
       "Js6Dx7V7j3nRCiQFaBWHKilwd9lAX8Sd3IJD15Eswm/4QtMarBlhUIxs5Cc2eaxtoMY8vNvMxBAv\n",
       "JySKRp0HKY0rrVb0sAJZRroEYEC1kol5Bja5Sxd9x2FcSWJ/CQLXjxusA3AN+uJsD+CJl8t7MJda\n",
       "ZY+pJdVBSBSOUiMUwgOLVcSFuAx6Z3uH8+aydXRYd8/D1hHAPpH9jNGcNYE+3ayDG7WivVIuz6p1\n",
       "qzRdNuiak7Tw5GIVwjfLvG6pjt740Xm4C6BP2ydgJU9C0HUmN+MgLIqNUgfJVnsXA31pmaAfdvTi\n",
       "xx33j4UrTt3Hpq7y3lMXXuwuFl0maN3Rix8VY0HluZWqC8Qlnp7/v43nVvy/x3e3CfR++t8jAmvx\n",
       "+Q+Uh5OQ1fMN5AAAAABJRU5ErkJggg==\n",
       "\" style=\"display:inline;vertical-align:middle;\" /></a><br>\n",
       "<strong id=\"exp_set_7\"><a class=\"ProveItLink\" href=\"_proofs_/exp_set_7.ipynb\">exp_set_7</a>:</strong> <a class=\"ProveItLink\" href=\"__pv_it/8533bc02bfc5cdc98ab71ba5eae2dc1876683fe00/expr.ipynb\"><img src=\"data:image/png;base64,iVBORw0KGgoAAAANSUhEUgAAAYYAAAAcBAMAAACXJAVHAAAAMFBMVEX///8QEBC6urrMzMxUVFRm\n",
       "ZmZERETc3NwyMjKqqqp2dnaIiIiYmJgiIiLu7u4AAAAU9Wx4AAAAAXRSTlMAQObYZgAABaZJREFU\n",
       "WMPdWGtoHFUUPvt+zc6WqhQr2m0sxj+aLVgVUZLaWospdEVipIlm8ZEixjo/EhsQyf6oqDQNCz7w\n",
       "j7ooRWuwrI2VsKu4lKaglTaopVBdmEItUtBdWpIQGhPPuffO7J2HIUuTH/XCnTn3nDvnznde984A\n",
       "XJ8t+tHfOlznzb+wML2Y/OWKtizrNK0khqamPRBFwls55yafXJ5lfG0riCECkaRYoX8FMfy5sgH7\n",
       "GvYSx6C7YViW1XeQpwvXquXYfwnIB3GNYWBGP2nD4MJsuIVW4eUeiaFudnPwHTc5WGr7o/VBIOWQ\n",
       "H+945hiPo1gbw3CIuCM2DC7MhlsgbdcRdk2QWQcneGhOGmXt4nAZLtYgkCe08wzDq2SyjA2DC7Ph\n",
       "5kminSyhlMi5TPPOO1jVu+WJP9rFj2FGZyFeJvp3hiGMsR/I2TC4MBturYTDklgtbmkWdQbYx5bR\n",
       "eRFg45UKc0noCpa8AiQYhicZBuWzvXtft+e0C7Ph9hX2Oy2cL92mhdMO1tPWyOK2vP+U4TgMPl+K\n",
       "uRngNK+t07295xy11clsuG3Hvovs1v7JGs7ZV9ohZJdGxzjRX2wR7h4Y7TRS9tZHBDVRPIGOYiBD\n",
       "e8xasTBmdS1i2AKwG0ebvvg2VccgmBz4W5Z360lKgwtd1heXtDyPfRj7ei1Y49EwDQku9K2GA1z1\n",
       "GniFB1jkLAwYSq4aVaEtNMVin7xRPzp8vzBtDlpTDMMGUHGWNw0tkh84U7SD1oyTB11WmazlDeyr\n",
       "0WxzEODVITIPnjwP8QL0MWKoDE/x2UNJeMIw9BVBnNapaHmpRsNFqWgfX3ebQeNjhCEOsTJdIShh\n",
       "4EzR3ra85wfy4Od6UT/aUbZoOYP9Mh5sahDn1SmQhQQP/p3GHCREyG7+qWQYN1ITxI3gm0GnseH6\n",
       "SkXkNNUBs/ZWcwxDrBxHd1Z1UCQMnCnajAWDxfL1wvhNMx6GZS0CQyIDVR5BcXQSN4x54pwG9TKn\n",
       "ppyVKjILsUkDQ32zRBXqnM0Papbk8bVJOac5c6D4HAXI1a8Jzx+jBcZiXrlUYrY9McVuxWJGYRaW\n",
       "tezDfjOuUsBaqYvtoYcRISPgkYjUVEsOUOiLrTA2A8G0EUt/mf5GVsi06hDPB9j9MIkeX8jJZz5i\n",
       "qmdDZOfYpIJa1V+8NZMVGlHZQgrzbjTtT4f5ApKWbdj7mLe3R1L0opjQa4G9MZpRIVzqLPiz7zCE\n",
       "t+A6XAgetAtRSo3tinwNvxHalOIBc8Nv0TiG97jv+lfJGIjpT/uIDBYUGrSpKcaiacH2ks7fnhlD\n",
       "D+YeEM/WtXzH4y5cjpyJQpU05HBtIgBr56fqP6xufZjOM2oc1E4uhCr6kig8SOzUjDVUI/MCv2Hc\n",
       "mj4T+wPHnQS1JmMgZiLJzlSeFBWWBIsSwRI1EoLMOuOQ0B/q7e0tWLRQgbqLtocj9x6B8zN0lOsG\n",
       "RkBgtKSr68iEpdtfSjIq2lUSQlbzGbWhRLtdmIfnoChbfu/WbfVy87nAoOAzkRz4MjIGheV58BSq\n",
       "T7CzSZWVDYOl8RDnm2UHbIQLzM+yFsLpMQt5s4Pwak6qmZvEnPZC/awB7x6oOI5/sF/6BkJL13cR\n",
       "4wTj0Vsf1Ae1OJZTvKbg8KAmWMGcmg69yaoZ3iZgK/g1uxY/7gVKXqomNsIsYBKFQqWtT1BeyheA\n",
       "0UXOAuqMjGFTR6fjO87bdbIbWsverjxeQ+1FnWjGUjEffJiZG7H04R5WHAb1WbsWlksjDWPwjEwK\n",
       "qkfzUy3JLoJBySztW7TsuIobLj0h3uAGDGjMB6uaFyX9MbATUHBSJFQOaoJ6v9RN7lzs/0Q8tSQM\n",
       "Ps1+NW73wfAWuoUyXtcv8EEqwtf8LTq2mHBiaf8EFMfVuJVhF71h2bf/qOv3dyS/0j+Z+GeaK4bK\n",
       "Mv1f+mGlMQR0+r/0K/wP2r+BJbeE7u1GbwAAAABJRU5ErkJggg==\n",
       "\" style=\"display:inline;vertical-align:middle;\" /></a><br>\n",
       "<strong id=\"exp_set_8\"><a class=\"ProveItLink\" href=\"_proofs_/exp_set_8.ipynb\">exp_set_8</a>:</strong> <a class=\"ProveItLink\" href=\"__pv_it/38f908ff8adb905fc17ff1854568668f58a5fac30/expr.ipynb\"><img src=\"data:image/png;base64,iVBORw0KGgoAAAANSUhEUgAAAaoAAAAcBAMAAADCReYZAAAAMFBMVEX///8QEBC6urrMzMxUVFRm\n",
       "ZmZERETc3NwyMjKqqqp2dnaIiIiYmJgiIiLu7u4AAAAU9Wx4AAAAAXRSTlMAQObYZgAABjNJREFU\n",
       "WMPdWFtsFFUY/vc63e50lugDCRG7eIkPRlkTQB80XQQRXSNrcNG0iOutREGdhwpNjHYfJEIoZBM1\n",
       "0QfCiqKBIlmBImkhTLCQaBOsIpJgNhkMEILRbdzQSrj5n/+cMzuX3aZpah84DzP/fufsnPP9l++c\n",
       "GYCbpg326nDTtaiuZcfqf7M0qaTvmBpWYRNyUEDDXzpdq39oUmcLJKeGVfCEkoQ5ZHb8/6wumFPD\n",
       "SmnOmBAtclZmLVaTuZCn2OXeSXzgkTr4/msJgFOcFQVm0MWqBjhhF05zZ+HZmTWG+V9KuyEt9bgb\n",
       "mc8WFkp4/j2QWXEklH/kOsA+zmoHu212saoBTrSF2GobHMH/oNa4WN5T/juuuqEGop7zwAacH74A\n",
       "0A1QNonVGubPrItVDXCizRfHS78Dulxr3GxP1pfvz9em/qMbfhIgksM1HwRoMogVc2Mo72JVA5xo\n",
       "a2GX2x3Jdr3WuG88yNZ61M+IfDxQKlHYlArmeLFBh6dx1VlipX69du17brWoAU60fct4OHKmsabG\n",
       "rvMgL9SjHub+fui4dBMGP5DQWnfiNqsOc2UfaW8/7VF2LzjRtpjVFtscO/pm8c29IbXP4H0Xe/YK\n",
       "SUltE2mptMpzz8DMx8Qj1LZdohrWDe7H3kaqLuUtS5Bu7HUmArJaALASrbk7DyaqrATIB653LPPF\n",
       "uF3P2mxRKVR33tae74X5Kq9m8E+Ht0W9ZKHCR90Cmzg0Sw+LtNyiK1IMr8inPQtdHNP+1UNJVkMU\n",
       "seoB6PCNEfkjUOGs7gINR/nTMNsWKw6Ktt1ZxPYfbba+pirdu8E/bMssphhdBiwT9WLCDDLOFGE1\n",
       "d/ZVCPHplH8s4VYqMlTXpUBGKhDEqPnZZgHnbbvHQLOsXHwAsWqCqMGuELax4qBoGxysPrX/+MVO\n",
       "l0r5z8xyeoJU0JNMupDVEoDfOfI8wCUylliHnWFo4oEO3jb4nQAj0i++JLTwUISGaFyAemaVSkIt\n",
       "WK3KTUC7zFlFjSaTlqTaWHFQtFEHK0fk7HJ2H52cX37/b9AQNlysRkCrSMTP1zBiCXYWyjzQsbRX\n",
       "VLbm4ZDIhgJ0xSWrOdZInEq76oqVlmP9TTPidrXg4Dt9r7C6urKPMTzXUySIInexnw5cxy7Rra+P\n",
       "RebLfhx9lJ7w8zbHluvLg3IFna+J7SpEzlCswukqooyTF2PF6iYszyOHdXhNZEMcPsdxPAP/sk4c\n",
       "6AlFel4RdQUrH2Vdz9zI20+3DNROKWz66JCKE2gnWKkISNms0ZwqZUBjOshcvB4G5L5/rtnaaRex\n",
       "BRosM4K5j2jpFfAVyED/qmSU87A4kmCcfciqyAkyk6yfaN8W1gxVF7MGZTYw8QhJF/hHBatPeKg7\n",
       "ptlZMTCYDjAzXFTZj6SWIIgNC6f6Tc6HXG3SDlLB5AwIHVTmy4cdEsO6YUu6oF3DX0+gqJGByv0F\n",
       "GQ1G5GQjlFnm5+CcThjlJFllMzjKrcWYxY1yVk3WdAjrdb+cTu5X5BQtDtqwnRUDY/Eoc4EvwTbs\n",
       "GGWogGJCp8LkrwMQQ45IdwMEfmtvXwV/2JSSKasfn9jRf+equNaMZX+2F0PHjFBPv0mGktozbw+c\n",
       "YW7ejqlNGJ0jyPKneoe4tRGgdTc6gRdL51KhNf6Fiyxpa8wJVir+PZKHQNbOSiUFCR/HZ8XocFXW\n",
       "uc5xSBdZQs/PwAMsUbPKcJwn5mcA8ywlYA6Ybu19el0D4B7HqAPV3nDaMU6cmODjTSXvQbdoe2vE\n",
       "aFR3NSk+PrPlYbNTb0Ixx2sCdnfqAgrntbTyISkn3o7CQhyAiZosAL08LLPt4cGC/Tyq1jeqsskw\n",
       "Nbla9sZZ3dnH9YxxlCHnW6zmZp7zvAv72waXQ4vhbyvgVUn1mcwmSMO6CmCxY4zwFurrRqxBD7yh\n",
       "w3kWvaWZjOUiKk3rTWTcrHybh4QVGkWn2cdpuTFYHRvnG77huYqbynWcTXdrdUlfYV052utMPKRE\n",
       "WcLtNSAKNkzdrgsrsqrXcIwLjvWt6MT4WAV091XeHoTuBeymZFENAnWn6mSXdyfxDX/vGH1qenys\n",
       "VM9V3gxoZQ40Aht7TXsiuVqkMIUfBdfU/8ZUmtzvgT9MIasV9D3wV7gp23+NPe76BxGV/wAAAABJ\n",
       "RU5ErkJggg==\n",
       "\" style=\"display:inline;vertical-align:middle;\" /></a><br>\n",
       "<strong id=\"exp_set_9\"><a class=\"ProveItLink\" href=\"_proofs_/exp_set_9.ipynb\">exp_set_9</a>:</strong> <a class=\"ProveItLink\" href=\"__pv_it/1d4498cad70331a3a670bac26f615c3169052e250/expr.ipynb\"><img src=\"data:image/png;base64,iVBORw0KGgoAAAANSUhEUgAAAcYAAAAcBAMAAAAJngLnAAAAMFBMVEX///8QEBC6urrMzMxUVFRm\n",
       "ZmZERETc3NwyMjKqqqp2dnaIiIiYmJgiIiLu7u4AAAAU9Wx4AAAAAXRSTlMAQObYZgAABplJREFU\n",
       "WMPlWFtsFGUUPp3Z3dnZmZ02qCFCgEVBSIx2Sbg8GYpyixCpwYJSLo3RElII+1BaXqQbA+mDQDYx\n",
       "Gn0gbDCA0GgWkEp2i0604B2riBi0ZlEujQR3A6Gbhgqe/zaXnaX0YakJTjL/nDn/9Tv3GYD79Erv\n",
       "hfv90mr12qH6N/TGyr/pIyOLsTJq3IIkElLvuVL9PfdgT7lmZDHOjsEATKdk80hh7MuOLMa2GAyC\n",
       "lmIYs6UwGmXfczExm1T5seiR0vyKiHIT4CzDSJX2TRHGMJ1exiMpVdhMdzCMOaWs5bGHPCxj0YIi\n",
       "zoVxFhmIw1LvKt11qz9TG7RBgI8YxgPksbMIYyiBj2AZzctfW7xLsKSDDng4gQODxaxtdmcKgp4Z\n",
       "QRMu5eHxjwsAuSzF2EKk3FCEkTJaymhSFWhSmssuKhMlhkm3PKzck4khBaEni7ufBVDjBkhxgLBJ\n",
       "MRJt+RPFMYeI/KVyhjmC02UX1aWsJOQ14N13EYRRxZ5XdvT+wtziOkbxVDAViCKwBopR39/a+pon\n",
       "rn7d2tpazvB6CO+pLs4HpYYFvXl71d0EsY7lpu1CZhKqWY6qB4mj6nmWO/obG895MFY2Nm5IlhHj\n",
       "QrxXECEv2jOacbZmFvO+vzqOMKI5Xc0NalPHchE/xs3j1In0SS6IlZm1fCZZktVsLZZZKLePuFWO\n",
       "GJ8BIFNmHOyK2hh9UQhYxc7UuCt8XHNayjzbybQxXM5CGfKKjs85+Qre2/GeGAvk2cR+LEXYqFGw\n",
       "gx1oNGxkJ1XPwiax6k2xbY1yg3toO7zAqGQ1Nu9Qcq19pk9v94ujy9cZxklgIAapFqodepRqoM82\n",
       "DpcFGXkn4LSj70cuPLHDZJDyjlA4CmU8yFwEYdyCCmYo51OwnqVtE17kCTxipQTiXfT6Pitize4o\n",
       "zGcIEsSQJ9JDOaKm0j1hvCCvMYxh0EzSQsBZ5/RAl+0lrpCkOrUadqRgwxELrtStpOuIrc/gjfv5\n",
       "8hBmivfHoZKJZ4mYgwR3mjnfZoScVCGlB0EuWB7KxhkwloczkMb19vKYQ5Qi0o0xwDBqZjhLM4nu\n",
       "xNgFv9th3lWiu7Ra6YiOkh0LtJe3/E0xm26MlQ2QYxYaRrthnf1iUj8Y3A1ueAOMOgAaJ88x9TBj\n",
       "4Bgd5TCuagwW6dGIk/ojPCbiqlf7yCylfh85UXXmOSKTFRkyq/59olWjI0OT08Z6+q2WJvoKLeok\n",
       "o6VOjA90nR/2WEtuxfthNMIU5oIsT49rKKEIh0NCzRsuHyRZnh9eK0CACRcFEaoyeB2RFbZqydfA\n",
       "UUrBaemkJl/7NOl6/nbCiTHQjJivxtrIOY5DN7ZXo8RhOWtz9gId+iXTrI9sH4zr5EBXUO3MnC9O\n",
       "sLI1cSD0ulwCFqpRg377wBhWFqPMdYIb7coXf5NKAE1Q4zVzRQoohVkAxcKpiuQXdFxbJMmPAIud\n",
       "ruQXWpUKHONbTAbNVU6MKnHnefAUeW+C77CdC39S1jQaJzOf0KE0cLdlAwl6bGrGW3aBzNOOMkcs\n",
       "eZyNDZrqmRDkSOBO4EEIgSvCe8Y/NO7uqk1S6hgYy1kn5FDUhELDXxJjM+No72zcbsUUueOqMEP/\n",
       "rwCdVhHE8yMTVcQRL+niY6kH0aL2AVjG3MlmiWhHI+Ix5pbTeHBqAvnnxsYm+ANPZ1U1eD9B0uPh\n",
       "mYfhfIGU2hiUCAH+jkzWmIAu35x5tClCqVB9hnfScohSkzKrGBVMgf8gmxEgDvM6E+c2nvl80tz5\n",
       "puXNcY5Rx2XUBMgNLoynqOzWX0YyD7/hS4HHTsoqcFMaRZo6pttOaJPokKhBbeVdgJn2ZznK0gpd\n",
       "UzyElW8c1BQmP2vYq84J1jhRy6kL7bhqZ4SU4xsZs5ad8y3/HS9fP6W0Q48ax/Y0hC63C9Y6uAib\n",
       "YwQyvpxAO8ZHE3SHkKnGk0A/h5Y5MrMv6ayeTQ+hg5fCTr1mPacklgdMz7jQUF+AuZgT44y65d7/\n",
       "AJO7jpryIExOA7bNmQ8JzVgX0B9nmyBXkR5/ejt5tMPM/chUmmJwiXjH0ro6S2xyj/PbatgYK3b2\n",
       "cGpNzFdTEmPfUCXkyWH+69A9rXiYQP596dRjrT3ZKfahP3oqZ7GZBsUEpLwU6dT3xjj1dmala4I1\n",
       "bsFQGE8PE+MsT8sfcizYjW42S2kg2Z93yXf4pbeZxIV78K9Diw71I6R2mBhNT8sfOoZE8iK/cTRr\n",
       "del32E5NwshfLXf+L9d7L/6vfvUfYFxN/6/+BP+D61+/uPqL7c61FAAAAABJRU5ErkJggg==\n",
       "\" style=\"display:inline;vertical-align:middle;\" /></a><br>"
      ],
      "text/plain": [
       "exp_set_1: forall_{S} [forall_{a in S} ((a) in S^{1})]\n",
       "exp_set_2: forall_{S} [forall_{a, b in S} ((a , b) in S^{2})]\n",
       "exp_set_3: forall_{S} [forall_{a, b, c in S} ((a , b , c) in S^{3})]\n",
       "exp_set_4: forall_{S} [forall_{a, b, c, d in S} ((a , b , c , d) in S^{4})]\n",
       "exp_set_5: forall_{S} [forall_{a, b, c, d, e in S} ((a , b , c , d , e) in S^{5})]\n",
       "exp_set_6: forall_{S} [forall_{a, b, c, d, e, f in S} ((a , b , c , d , e , f) in S^{6})]\n",
       "exp_set_7: forall_{S} [forall_{a, b, c, d, e, f, g in S} ((a , b , c , d , e , f , g) in S^{7})]\n",
       "exp_set_8: forall_{S} [forall_{a, b, c, d, e, f, g, h in S} ((a , b , c , d , e , f , g , h) in S^{8})]\n",
       "exp_set_9: forall_{S} [forall_{a, b, c, d, e, f, g, h, i in S} ((a , b , c , d , e , f , g , h , i) in S^{9})]"
      ]
     },
     "execution_count": 3,
     "metadata": {},
     "output_type": "execute_result"
    }
   ],
   "source": [
    "def nvars(n):\n",
    "    return [proveit._common_.__getattr__(chr(ord('a')+k)) for k in range(n)]\n",
    "exp_set_1, exp_set_2, exp_set_3, exp_set_4, exp_set_5, exp_set_6, exp_set_7, exp_set_8, exp_set_9 = \\\n",
    "    [Forall(S, Forall(nvars(n), InSet(ExprTuple(*nvars(n)), Exp(S, num(n))), domain=S)) for n in range(1, 10)]"
   ]
  },
  {
   "cell_type": "code",
   "execution_count": 4,
   "metadata": {},
   "outputs": [
    {
     "data": {
      "text/html": [
       "<strong id=\"notInSetInBool\"><a class=\"ProveItLink\" href=\"_proofs_/notInSetInBool.ipynb\">notInSetInBool</a>:</strong> <a class=\"ProveItLink\" href=\"__pv_it/4bee646dd0c136f8501ac7a786b22e9824f0f88f0/expr.ipynb\"><img src=\"data:image/png;base64,iVBORw0KGgoAAAANSUhEUgAAAP0AAAAXCAMAAAD3NLkqAAAARVBMVEX///8sLCxlZWUbGxsJCQkd\n",
       "HR0PDw8WFhYQEBC6urrMzMxUVFRmZmZERETc3NwyMjKqqqp2dnaIiIiYmJgiIiLu7u4AAAA/PWo8\n",
       "AAAAAXRSTlMAQObYZgAAA5BJREFUWMPdWNmy3CoMJMtNMDsI+P9PvYDNIoztmVSqJgnnQeNDa6wW\n",
       "UgNDyN82tvAbvyz8ObQcthfDX0QM21tv2+G+P7uPkmcc2wdYi5oLIULmItito9VR6qipl6Y8F7g1\n",
       "dVp/tgzq6x/CEHiJNeT6lbF8fniDzGUVdLCWVLiSx1z78JnhHLaXhY+e+E7EFOJgX2BP3HakqcBr\n",
       "roX5KHsasF0olNPe//wxrrCKe7WzkrJAz3jv9cTeAOGhwcGqMvxnJU9ju2h4DSloqZBX3JeM7UmQ\n",
       "5oRfrX2t8gKPMg9v3w9ZsUfIqwUlLLbKOq6ME60PlMxcAk6OitENMVgxTMmwrHzmoc4UOC/+OKkt\n",
       "gcJaB/0FSHLUdcKaH3sxqUW9ug3JDTwQ2ipyj29WBRfTaKGbITcLPom99zFSN8I3fk5qJStKeY1f\n",
       "QC4ervws1mjQNv0JOLX9hqwtzFKANfFBrjcEBZzGqhVbb/wgL1XPGTnCc34dXAusXBM27iRLaeuF\n",
       "ya+mtU66xCy4bT6axA3ZTIePL9toVrD/vo8q1go+HsGzOOFXqpeNHeCZ+fIEFWL5L6zZz7Xl5KZC\n",
       "CLPf3lhtMrMnNsA9+1IG7nTIsVhGoIZ5Zr86MzX2B40dnpangpPWbI63Pvd0KtyRPcUeMEjO6Fda\n",
       "tU9m9psTc7KpwbbuZhUX/HmzD6Ii1bny/TP7Ay4VP9ot5HrrEQRBYzRr9kxjD43i6n5FVvqkI0JQ\n",
       "f+ozCciCKm1PXMsSh0NOhtY7vlXwJirDOQiu2R+Vf8CN8E3S9eSlOF2zL6y6xyzuzS9naZgslS/Y\n",
       "rBl1s9qtSbUsk79yw2JuhOMdVni3N9Vqx8v4JXsQ1aHChxaLvZvDtnfVmr3hyIP5cmyQbvYr7Pvk\n",
       "3vdk3gg3P9ognQ15zxzTqcU37MPTCnAuO0hvGM/OtxzpKTcTvJ+KWMp4dTIFxuTF2kvkEbrMYL+M\n",
       "GyYv2BOqsF2Mr1+0X2l+Wy06nbT4LX6GJxG0umy2SqcghDxJuyRYV7oH4Q2H/QBP7pWvTneZekW5\n",
       "uapIdX9isu9d0Wd4KjgjUs1lVpC7M23RQl1pft4ku0f6WOsO+5UraZsspx0p4RduuE+X0KDfIn8L\n",
       "h4tL4rC/z2d4e7T2xOpuEskktuc7MNzT4eot9ndwph7Zh5d+EDAvl2PtBuXI47tXyWFvkb+FwwsR\n",
       "GHglxeTfGZgLPKfbhj+Zzv8V5TkK2cdIzgAAAABJRU5ErkJggg==\n",
       "\" style=\"display:inline;vertical-align:middle;\" /></a><br>"
      ],
      "text/plain": [
       "notInSetInBool: forall_{x, S | (x in S) in BOOLEANS} ((x not-in S) in BOOLEANS)"
      ]
     },
     "execution_count": 4,
     "metadata": {},
     "output_type": "execute_result"
    }
   ],
   "source": [
    "# Proven. Used by the NotInSet class's deduceInBool() method\n",
    "notInSetInBool = Forall( (x, S), inBool(NotInSet(x, S)), conditions=[inBool(InSet(x, S))] )"
   ]
  },
  {
   "cell_type": "code",
   "execution_count": 5,
   "metadata": {},
   "outputs": [
    {
     "data": {
      "text/html": [
       "<strong id=\"unfoldNotInSet\"><a class=\"ProveItLink\" href=\"_proofs_/unfoldNotInSet.ipynb\">unfoldNotInSet</a>:</strong> <a class=\"ProveItLink\" href=\"__pv_it/6525bbeef2cb10318de7964d1aaabdb4a41b438c0/expr.ipynb\"><img src=\"data:image/png;base64,iVBORw0KGgoAAAANSUhEUgAAAMIAAAAXCAMAAABuzGCfAAAAQlBMVEX///8SEhIoKCgtLS0/Pz96\n",
       "enovLy8QEBC6urrMzMxUVFRmZmZERETc3NwyMjKqqqp2dnaIiIiYmJgiIiLu7u4AAABYADVeAAAA\n",
       "AXRSTlMAQObYZgAAAp5JREFUWMPVWImO4yAMZU8OY27+/1eXI4SkMRNFM11pLFVOMSZ+vnDL2Pen\n",
       "9B/eIfxTwQ0FceRxrvs3IZDqqWBluQKAVO0G2Vcad3ZsMO8KyPLgh280oWaNzu15rJUP6u3L/vDV\n",
       "5P1TAU3KNWab9cFtgXEHV4B9EwSengqKr72JhcxhCXNPHtmAJ75t5A0HNorvqmXzVFDMNOECT+Tu\n",
       "Y9mR6M3jjWddKbpPmjq6xCvB6uAhQOcVWg8zrVAT8cGcvZxfHRy4agKNpDvAOR+mplhD0LRGL8Jl\n",
       "dZZUKEhCDIzPNKBt8bnQLrLmwEVtbYmMqoAWwYudBCHQGox32BB3cieBa9YVW3bYafEWDIrnUUCC\n",
       "H3mF70lfxVe79aL4AP7+oTVYFovbYBNUk9TpXMEH2KtfXd4MlfnIq/mR6g4pt9VwA8Frgel3ojVu\n",
       "IbSA+NsbLwyTSAgliYZWqSzh1R7SyJ2gEv60NdTckW6hwbhdQJiC3i93JyaiOSYYW5FKpFI+asvL\n",
       "VGM6z07Ac7YkhLm1RRtwocF0WEDYBAFbKTA/80Bds3pUL4wIBXPiFuLecF4bCCpOQti3dv/rlcbe\n",
       "/Q4YjgJbMkMXBTzkUoqXzgfR95wlm+o5F/NsaEn07GOLWuhbZSy3yq+f2tMaTKzuzC5I2rtU+/DJ\n",
       "bwbky3RRGqdSh4gacebzLpR89xKzLSGkXkDYtqYaWpVWGsU/uBowcH3LWGXIjrS7l5/5blRmzrRO\n",
       "jaYcD/pyz+jrVqaww2CkxpzIrk3mEwOB82c+7xRvocS1WhjqMF7Gc0CyI82t5VEEO8b3i8YXDttH\n",
       "S82Z0y76aIp4dcmPUg7ryRnVU8H94I1nTg5H+AACwscvRP9UcPcTRJ75gyCsoiC+0Z8F6sHq/6J/\n",
       "UNYkubwxWM4AAAAASUVORK5CYII=\n",
       "\" style=\"display:inline;vertical-align:middle;\" /></a><br>"
      ],
      "text/plain": [
       "unfoldNotInSet: forall_{x, S | x not-in S} [not](x in S)"
      ]
     },
     "execution_count": 5,
     "metadata": {},
     "output_type": "execute_result"
    }
   ],
   "source": [
    "unfoldNotInSet = Forall((x, S), Not(InSet(x, S)), conditions=[NotInSet(x, S)])"
   ]
  },
  {
   "cell_type": "code",
   "execution_count": 6,
   "metadata": {},
   "outputs": [
    {
     "data": {
      "text/html": [
       "<strong id=\"foldNotInSet\"><a class=\"ProveItLink\" href=\"_proofs_/foldNotInSet.ipynb\">foldNotInSet</a>:</strong> <a class=\"ProveItLink\" href=\"__pv_it/cc89d3a349f1988024d3af48d40aff2abaeba1330/expr.ipynb\"><img src=\"data:image/png;base64,iVBORw0KGgoAAAANSUhEUgAAALwAAAAXCAMAAACGTNW0AAAAQlBMVEX///9bW1sNDQ0JCQkdHR0P\n",
       "Dw8WFhYQEBC6urrMzMxUVFRmZmZERETc3NwyMjKqqqp2dnaIiIiYmJgiIiLu7u4AAAAq2h4+AAAA\n",
       "AXRSTlMAQObYZgAAArVJREFUWMPNV4mS5CAIzZ7eF+L//+qqicaQmHTXbk2vVTMdD/ABD9Rl+a8b\n",
       "x9tp/DC6cDsdZ/CA1+m9H74eu5DvTYNUSmFBrkTuetcm7AeC8LCn4mQ5FK7oVL/zn9HbRP/4whYe\n",
       "gh2PXenrj7M1CH4wXrmvB8/mjsdg4+9f0Q5DJomVTNVkZNUCU1v8QLbaOdst4KLNcXla/StWG3Tp\n",
       "JV1a9H8Dw4jnNefIqran8UEaF1RnkdE5JkhsMymFYR+vCpPqALGyOUB5H6BL8Bn2G8u7CnFaVPOv\n",
       "MCDPQISF9ehXNKeMCCm3DrRSn5d6hJcR5KpGq/dnOX2T64MKT21n24CvwDKc5iXU16XIgGSpJQpn\n",
       "LacDzLNdP4F04ZxuuR4DUXFyUOL7QSlH3ZzFGH/+yP/OPvVpgyqqRwrwy6MMUx2FJ/AnygXNDSJS\n",
       "FVJcg69RCPRw8iRJGseO4LNH2lGWE4eHfY/IjqGegGdEGNQQvEEFJTFzpAw2D2I8F3lUbaUZaZM9\n",
       "J9cNPJbw7TpRsZTcE3hhibA97Lmr4OS015sPwVTKL6GHX8KaLCM3N62qKYF1wKnYq4kl5DeSXYL3\n",
       "em22Y+rCtKx0FYIw2K/4XCaCzkvMHhiMnHJMxbAykkiPhEs7f5GvHLv1fB5y8igs4mpXoCooeB63\n",
       "2hI8lno6Gmy/E/AyO0lKvS+yGx2hx0tkDzQpV6Mt9BN4ro/CuLPjqIJTeWamJRa+SXtZbbprGSFv\n",
       "WrytZdfYrFZpWkquwdf0GoQX2UWOKoAeUzA/3LR5OLA9yf4cP6dyCAsSKFfmXKyVua82oj0ZduH8\n",
       "2QrMUYXiL1+JH++4aG8m4Y2TNJyuLX7jPIF6xjh7jFwfmmMK3ERGmDfA42tPAXdxezfh7QvHapx4\n",
       "1/FTlQ5eAS8/+1yebg8vXIn9P39m/gECKiPG9Qg3JQAAAABJRU5ErkJggg==\n",
       "\" style=\"display:inline;vertical-align:middle;\" /></a><br>"
      ],
      "text/plain": [
       "foldNotInSet: forall_{x, S | [not](x in S)} (x not-in S)"
      ]
     },
     "execution_count": 6,
     "metadata": {},
     "output_type": "execute_result"
    }
   ],
   "source": [
    "foldNotInSet = Forall((x, S), NotInSet(x, S), conditions=[Not(InSet(x, S))])"
   ]
  },
  {
   "cell_type": "code",
   "execution_count": 7,
   "metadata": {},
   "outputs": [
    {
     "name": "stdout",
     "output_type": "stream",
     "text": [
      "Theorems may be imported from autogenerated _theorems_.py\n"
     ]
    }
   ],
   "source": [
    "%end theorems"
   ]
  },
  {
   "cell_type": "code",
   "execution_count": null,
   "metadata": {},
   "outputs": [],
   "source": []
  }
 ],
 "metadata": {
  "kernelspec": {
   "display_name": "Python 3",
   "language": "python",
   "name": "python3"
  }
 },
 "nbformat": 4,
 "nbformat_minor": 0
}
