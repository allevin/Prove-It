{
 "cells": [
  {
   "cell_type": "markdown",
   "metadata": {
    "collapsed": true
   },
   "source": [
    "Demonstrations for context <a class=\"ProveItLink\" href=\"_context_.ipynb\">proveit.logic.set_theory.membership</a>\n",
    "========"
   ]
  },
  {
   "cell_type": "code",
   "execution_count": 1,
   "metadata": {},
   "outputs": [],
   "source": [
    "import proveit\n",
    "from proveit import ExprList\n",
    "from proveit.logic import Forall, Not, Equals, InSet, NotInSet, EmptySet\n",
    "import proveit._common_\n",
    "from proveit._common_ import i, x, A,B,C,D,E,F,G,H,I,S\n",
    "from proveit.number import zero, one, two, three, four, five, six, seven, eight, nine,num, Len, Exp\n",
    "%begin demonstrations"
   ]
  },
  {
   "cell_type": "code",
   "execution_count": 2,
   "metadata": {},
   "outputs": [
    {
     "name": "stdout",
     "output_type": "stream",
     "text": [
      "0 S 0 (x) S^{0} 1\n"
     ]
    },
    {
     "data": {
      "text/html": [
       "<table><tr><th>&nbsp;</th><th>step type</th><th>requirements</th><th>statement</th></tr>\n",
       "<tr><td>0</td><td>specialization</td><td>1, 2</td><td><span style=\"font-size:20px;\"><a class=\"ProveItLink\" href=\"__pv_it/23755b032ba83fe6b1a19f82fc549bb59e71cbfa0/expr.ipynb\"><img src=\"__pv_it/23755b032ba83fe6b1a19f82fc549bb59e71cbfa0/expr.png\" style=\"display:inline;vertical-align:middle;\" /></a> &#x22A2;&nbsp;<a class=\"ProveItLink\" href=\"__pv_it/8fc86a8289f9ebdbce6d36aa4df15de8d39bfabb0/expr.ipynb\"><img src=\"__pv_it/8fc86a8289f9ebdbce6d36aa4df15de8d39bfabb0/expr.png\" style=\"display:inline;vertical-align:middle;\" /></a></span></td></tr>\n",
       "<tr><td>&nbsp;</td><td colspan=4 style=\"text-align:left\"><span style=\"font-size:20px;\"><a class=\"ProveItLink\" href=\"../../../__pv_it/530be409e3083890784cf1d7b28c9e67e90af9360/expr.ipynb\"><img src=\"../../../__pv_it/530be409e3083890784cf1d7b28c9e67e90af9360/expr.png\" style=\"display:inline;vertical-align:middle;\" /></a> : <a class=\"ProveItLink\" href=\"__pv_it/1259beaa2045d2a0acbc82c87734ac2007f6dc7b0/expr.ipynb\"><img src=\"__pv_it/1259beaa2045d2a0acbc82c87734ac2007f6dc7b0/expr.png\" style=\"display:inline;vertical-align:middle;\" /></a>, <a class=\"ProveItLink\" href=\"../../../__pv_it/abeee18594afe51bfb1be95d9591fbba24ac53f30/expr.ipynb\"><img src=\"../../../__pv_it/abeee18594afe51bfb1be95d9591fbba24ac53f30/expr.png\" style=\"display:inline;vertical-align:middle;\" /></a> : <a class=\"ProveItLink\" href=\"../../../__pv_it/abeee18594afe51bfb1be95d9591fbba24ac53f30/expr.ipynb\"><img src=\"../../../__pv_it/abeee18594afe51bfb1be95d9591fbba24ac53f30/expr.png\" style=\"display:inline;vertical-align:middle;\" /></a></span></td></tr><tr><td>1</td><td>theorem</td><td></td><td><span style=\"font-size:20px;\"> &#x22A2;&nbsp;<a class=\"ProveItLink\" href=\"__pv_it/f96b42982943c9b9cb27fd0985ee8fe4235d65d30/expr.ipynb\"><img src=\"__pv_it/f96b42982943c9b9cb27fd0985ee8fe4235d65d30/expr.png\" style=\"display:inline;vertical-align:middle;\" /></a></span></td></tr>\n",
       "<tr><td>&nbsp;</td><td colspan=4 style-\"text-align:left\"><a class=\"ProveItLink\" href=\"_proofs_/exp_set_0.ipynb\">proveit.logic.set_theory.membership.exp_set_0</a></td></tr><tr><td>2</td><td>assumption</td><td></td><td><span style=\"font-size:20px;\"><a class=\"ProveItLink\" href=\"__pv_it/23755b032ba83fe6b1a19f82fc549bb59e71cbfa0/expr.ipynb\"><img src=\"__pv_it/23755b032ba83fe6b1a19f82fc549bb59e71cbfa0/expr.png\" style=\"display:inline;vertical-align:middle;\" /></a> &#x22A2;&nbsp;<a class=\"ProveItLink\" href=\"__pv_it/bb4d007667b731d1dea5cbe1263ecc30c0e1e7600/expr.ipynb\"><img src=\"__pv_it/bb4d007667b731d1dea5cbe1263ecc30c0e1e7600/expr.png\" style=\"display:inline;vertical-align:middle;\" /></a></span></td></tr>\n",
       "</table>"
      ],
      "text/plain": [
       "\tstep type\trequirements\tstatement\n",
       "0\tspecialization\t1, 2\t{|(x)| = 0} |= (x) in S^{0}\n",
       "\tx : (x), S : S\n",
       "1\ttheorem\t\t|= forall_{x, S | |x| = 0} (x in S^{0})\n",
       "\tproveit.logic.set_theory.membership.exp_set_0\n",
       "2\tassumption\t\t{|(x)| = 0} |= |(x)| = 0"
      ]
     },
     "execution_count": 2,
     "metadata": {},
     "output_type": "execute_result"
    }
   ],
   "source": [
    "InSet(ExprList(x), Exp(S, zero)).prove([Equals(Len(ExprList(x)),zero)]).proof()"
   ]
  },
  {
   "cell_type": "code",
   "execution_count": 3,
   "metadata": {},
   "outputs": [
    {
     "name": "stdout",
     "output_type": "stream",
     "text": [
      "1 S 1 (A) S^{1} 1\n"
     ]
    },
    {
     "data": {
      "text/html": [
       "<table><tr><th>&nbsp;</th><th>step type</th><th>requirements</th><th>statement</th></tr>\n",
       "<tr><td>0</td><td>specialization</td><td>1, 2</td><td><span style=\"font-size:20px;\"><a class=\"ProveItLink\" href=\"__pv_it/4d1c435471d957ab67943df8d1b16cdd2e8cdeb30/expr.ipynb\"><img src=\"__pv_it/4d1c435471d957ab67943df8d1b16cdd2e8cdeb30/expr.png\" style=\"display:inline;vertical-align:middle;\" /></a> &#x22A2;&nbsp;<a class=\"ProveItLink\" href=\"__pv_it/79a919b9a69e2881e51edabd13f2296f2330edfa0/expr.ipynb\"><img src=\"__pv_it/79a919b9a69e2881e51edabd13f2296f2330edfa0/expr.png\" style=\"display:inline;vertical-align:middle;\" /></a></span></td></tr>\n",
       "<tr><td>&nbsp;</td><td colspan=4 style=\"text-align:left\"><span style=\"font-size:20px;\"><a class=\"ProveItLink\" href=\"../../../__pv_it/abeee18594afe51bfb1be95d9591fbba24ac53f30/expr.ipynb\"><img src=\"../../../__pv_it/abeee18594afe51bfb1be95d9591fbba24ac53f30/expr.png\" style=\"display:inline;vertical-align:middle;\" /></a> : <a class=\"ProveItLink\" href=\"../../../__pv_it/abeee18594afe51bfb1be95d9591fbba24ac53f30/expr.ipynb\"><img src=\"../../../__pv_it/abeee18594afe51bfb1be95d9591fbba24ac53f30/expr.png\" style=\"display:inline;vertical-align:middle;\" /></a>, <a class=\"ProveItLink\" href=\"../../../__pv_it/07527342713064c87612d00d8557c53d53d5324a0/expr.ipynb\"><img src=\"../../../__pv_it/07527342713064c87612d00d8557c53d53d5324a0/expr.png\" style=\"display:inline;vertical-align:middle;\" /></a> : <a class=\"ProveItLink\" href=\"../../../__pv_it/2cbe72a7ad6f655694dd697106680215e8489b600/expr.ipynb\"><img src=\"../../../__pv_it/2cbe72a7ad6f655694dd697106680215e8489b600/expr.png\" style=\"display:inline;vertical-align:middle;\" /></a></span></td></tr><tr><td>1</td><td>theorem</td><td></td><td><span style=\"font-size:20px;\"> &#x22A2;&nbsp;<a class=\"ProveItLink\" href=\"__pv_it/2fd01e9dcec2beac2e2b13b9e038066596f5567d0/expr.ipynb\"><img src=\"__pv_it/2fd01e9dcec2beac2e2b13b9e038066596f5567d0/expr.png\" style=\"display:inline;vertical-align:middle;\" /></a></span></td></tr>\n",
       "<tr><td>&nbsp;</td><td colspan=4 style-\"text-align:left\"><a class=\"ProveItLink\" href=\"_proofs_/exp_set_1.ipynb\">proveit.logic.set_theory.membership.exp_set_1</a></td></tr><tr><td>2</td><td>assumption</td><td></td><td><span style=\"font-size:20px;\"><a class=\"ProveItLink\" href=\"__pv_it/4d1c435471d957ab67943df8d1b16cdd2e8cdeb30/expr.ipynb\"><img src=\"__pv_it/4d1c435471d957ab67943df8d1b16cdd2e8cdeb30/expr.png\" style=\"display:inline;vertical-align:middle;\" /></a> &#x22A2;&nbsp;<a class=\"ProveItLink\" href=\"__pv_it/9b8b3b636a16b61e9b135ce1006238a0873e42b30/expr.ipynb\"><img src=\"__pv_it/9b8b3b636a16b61e9b135ce1006238a0873e42b30/expr.png\" style=\"display:inline;vertical-align:middle;\" /></a></span></td></tr>\n",
       "</table>"
      ],
      "text/plain": [
       "\tstep type\trequirements\tstatement\n",
       "0\tspecialization\t1, 2\t{A in S} |= (A) in S^{1}\n",
       "\tS : S, a : A\n",
       "1\ttheorem\t\t|= forall_{S} [forall_{a in S} ((a) in S^{1})]\n",
       "\tproveit.logic.set_theory.membership.exp_set_1\n",
       "2\tassumption\t\t{A in S} |= A in S"
      ]
     },
     "execution_count": 3,
     "metadata": {},
     "output_type": "execute_result"
    }
   ],
   "source": [
    "InSet(ExprList(A),Exp(S,one)).prove([InSet(A,S)]).proof()"
   ]
  },
  {
   "cell_type": "code",
   "execution_count": 4,
   "metadata": {},
   "outputs": [
    {
     "name": "stdout",
     "output_type": "stream",
     "text": [
      "2 S 2 (A , B) S^{2} 2\n"
     ]
    },
    {
     "data": {
      "text/html": [
       "<table><tr><th>&nbsp;</th><th>step type</th><th>requirements</th><th>statement</th></tr>\n",
       "<tr><td>0</td><td>specialization</td><td>1, 2, 3</td><td><span style=\"font-size:20px;\"><a class=\"ProveItLink\" href=\"__pv_it/828c14f2a554211a2962c75ff123ce2e9ed631250/expr.ipynb\"><img src=\"__pv_it/828c14f2a554211a2962c75ff123ce2e9ed631250/expr.png\" style=\"display:inline;vertical-align:middle;\" /></a> &#x22A2;&nbsp;<a class=\"ProveItLink\" href=\"__pv_it/38646b3bb035f0b694822ff04f19c3400b9af2c60/expr.ipynb\"><img src=\"__pv_it/38646b3bb035f0b694822ff04f19c3400b9af2c60/expr.png\" style=\"display:inline;vertical-align:middle;\" /></a></span></td></tr>\n",
       "<tr><td>&nbsp;</td><td colspan=4 style=\"text-align:left\"><span style=\"font-size:20px;\"><a class=\"ProveItLink\" href=\"../../../__pv_it/abeee18594afe51bfb1be95d9591fbba24ac53f30/expr.ipynb\"><img src=\"../../../__pv_it/abeee18594afe51bfb1be95d9591fbba24ac53f30/expr.png\" style=\"display:inline;vertical-align:middle;\" /></a> : <a class=\"ProveItLink\" href=\"../../../__pv_it/abeee18594afe51bfb1be95d9591fbba24ac53f30/expr.ipynb\"><img src=\"../../../__pv_it/abeee18594afe51bfb1be95d9591fbba24ac53f30/expr.png\" style=\"display:inline;vertical-align:middle;\" /></a>, <a class=\"ProveItLink\" href=\"../../../__pv_it/07527342713064c87612d00d8557c53d53d5324a0/expr.ipynb\"><img src=\"../../../__pv_it/07527342713064c87612d00d8557c53d53d5324a0/expr.png\" style=\"display:inline;vertical-align:middle;\" /></a> : <a class=\"ProveItLink\" href=\"../../../__pv_it/2cbe72a7ad6f655694dd697106680215e8489b600/expr.ipynb\"><img src=\"../../../__pv_it/2cbe72a7ad6f655694dd697106680215e8489b600/expr.png\" style=\"display:inline;vertical-align:middle;\" /></a>, <a class=\"ProveItLink\" href=\"../../../__pv_it/6840a4fa6c106149dc16a131294d0c5e44f1b0480/expr.ipynb\"><img src=\"../../../__pv_it/6840a4fa6c106149dc16a131294d0c5e44f1b0480/expr.png\" style=\"display:inline;vertical-align:middle;\" /></a> : <a class=\"ProveItLink\" href=\"../../../__pv_it/077b2ff79244fb4582cbe22c6e3356fa92a52f2f0/expr.ipynb\"><img src=\"../../../__pv_it/077b2ff79244fb4582cbe22c6e3356fa92a52f2f0/expr.png\" style=\"display:inline;vertical-align:middle;\" /></a></span></td></tr><tr><td>1</td><td>theorem</td><td></td><td><span style=\"font-size:20px;\"> &#x22A2;&nbsp;<a class=\"ProveItLink\" href=\"__pv_it/9ac424c71798aca56b25ebe33a7a41dbaa332c490/expr.ipynb\"><img src=\"__pv_it/9ac424c71798aca56b25ebe33a7a41dbaa332c490/expr.png\" style=\"display:inline;vertical-align:middle;\" /></a></span></td></tr>\n",
       "<tr><td>&nbsp;</td><td colspan=4 style-\"text-align:left\"><a class=\"ProveItLink\" href=\"_proofs_/exp_set_2.ipynb\">proveit.logic.set_theory.membership.exp_set_2</a></td></tr><tr><td>2</td><td>assumption</td><td></td><td><span style=\"font-size:20px;\"><a class=\"ProveItLink\" href=\"__pv_it/4d1c435471d957ab67943df8d1b16cdd2e8cdeb30/expr.ipynb\"><img src=\"__pv_it/4d1c435471d957ab67943df8d1b16cdd2e8cdeb30/expr.png\" style=\"display:inline;vertical-align:middle;\" /></a> &#x22A2;&nbsp;<a class=\"ProveItLink\" href=\"__pv_it/9b8b3b636a16b61e9b135ce1006238a0873e42b30/expr.ipynb\"><img src=\"__pv_it/9b8b3b636a16b61e9b135ce1006238a0873e42b30/expr.png\" style=\"display:inline;vertical-align:middle;\" /></a></span></td></tr>\n",
       "<tr><td>3</td><td>assumption</td><td></td><td><span style=\"font-size:20px;\"><a class=\"ProveItLink\" href=\"__pv_it/897a6e39dede04d579c54f9681f5fe367586c13a0/expr.ipynb\"><img src=\"__pv_it/897a6e39dede04d579c54f9681f5fe367586c13a0/expr.png\" style=\"display:inline;vertical-align:middle;\" /></a> &#x22A2;&nbsp;<a class=\"ProveItLink\" href=\"__pv_it/5544901634368d8354c065fb1a8da92b4b12ec050/expr.ipynb\"><img src=\"__pv_it/5544901634368d8354c065fb1a8da92b4b12ec050/expr.png\" style=\"display:inline;vertical-align:middle;\" /></a></span></td></tr>\n",
       "</table>"
      ],
      "text/plain": [
       "\tstep type\trequirements\tstatement\n",
       "0\tspecialization\t1, 2, 3\t{A in S , B in S} |= (A , B) in S^{2}\n",
       "\tS : S, a : A, b : B\n",
       "1\ttheorem\t\t|= forall_{S} [forall_{a, b in S} ((a , b) in S^{2})]\n",
       "\tproveit.logic.set_theory.membership.exp_set_2\n",
       "2\tassumption\t\t{A in S} |= A in S\n",
       "3\tassumption\t\t{B in S} |= B in S"
      ]
     },
     "execution_count": 4,
     "metadata": {},
     "output_type": "execute_result"
    }
   ],
   "source": [
    "InSet(ExprList(A,B),Exp(S,two)).prove([InSet(A,S), InSet(B,S)]).proof()"
   ]
  },
  {
   "cell_type": "code",
   "execution_count": 5,
   "metadata": {},
   "outputs": [
    {
     "name": "stdout",
     "output_type": "stream",
     "text": [
      "3 S 3 (A , B , C) S^{3} 3\n"
     ]
    },
    {
     "data": {
      "text/html": [
       "<table><tr><th>&nbsp;</th><th>step type</th><th>requirements</th><th>statement</th></tr>\n",
       "<tr><td>0</td><td>specialization</td><td>1, 2, 3, 4</td><td><span style=\"font-size:20px;\"><a class=\"ProveItLink\" href=\"__pv_it/89962c12923a32971a4374e91b778d04c51080ae0/expr.ipynb\"><img src=\"__pv_it/89962c12923a32971a4374e91b778d04c51080ae0/expr.png\" style=\"display:inline;vertical-align:middle;\" /></a> &#x22A2;&nbsp;<a class=\"ProveItLink\" href=\"__pv_it/93d67f78c9ad4e2bd596684fe4cfeaa20b83aaa50/expr.ipynb\"><img src=\"__pv_it/93d67f78c9ad4e2bd596684fe4cfeaa20b83aaa50/expr.png\" style=\"display:inline;vertical-align:middle;\" /></a></span></td></tr>\n",
       "<tr><td>&nbsp;</td><td colspan=4 style=\"text-align:left\"><span style=\"font-size:20px;\"><a class=\"ProveItLink\" href=\"../../../__pv_it/abeee18594afe51bfb1be95d9591fbba24ac53f30/expr.ipynb\"><img src=\"../../../__pv_it/abeee18594afe51bfb1be95d9591fbba24ac53f30/expr.png\" style=\"display:inline;vertical-align:middle;\" /></a> : <a class=\"ProveItLink\" href=\"../../../__pv_it/abeee18594afe51bfb1be95d9591fbba24ac53f30/expr.ipynb\"><img src=\"../../../__pv_it/abeee18594afe51bfb1be95d9591fbba24ac53f30/expr.png\" style=\"display:inline;vertical-align:middle;\" /></a>, <a class=\"ProveItLink\" href=\"../../../__pv_it/07527342713064c87612d00d8557c53d53d5324a0/expr.ipynb\"><img src=\"../../../__pv_it/07527342713064c87612d00d8557c53d53d5324a0/expr.png\" style=\"display:inline;vertical-align:middle;\" /></a> : <a class=\"ProveItLink\" href=\"../../../__pv_it/2cbe72a7ad6f655694dd697106680215e8489b600/expr.ipynb\"><img src=\"../../../__pv_it/2cbe72a7ad6f655694dd697106680215e8489b600/expr.png\" style=\"display:inline;vertical-align:middle;\" /></a>, <a class=\"ProveItLink\" href=\"../../../__pv_it/6840a4fa6c106149dc16a131294d0c5e44f1b0480/expr.ipynb\"><img src=\"../../../__pv_it/6840a4fa6c106149dc16a131294d0c5e44f1b0480/expr.png\" style=\"display:inline;vertical-align:middle;\" /></a> : <a class=\"ProveItLink\" href=\"../../../__pv_it/077b2ff79244fb4582cbe22c6e3356fa92a52f2f0/expr.ipynb\"><img src=\"../../../__pv_it/077b2ff79244fb4582cbe22c6e3356fa92a52f2f0/expr.png\" style=\"display:inline;vertical-align:middle;\" /></a>, <a class=\"ProveItLink\" href=\"../../../__pv_it/cbdfda466482236edba0ce44ac7ef39cda0af7a40/expr.ipynb\"><img src=\"../../../__pv_it/cbdfda466482236edba0ce44ac7ef39cda0af7a40/expr.png\" style=\"display:inline;vertical-align:middle;\" /></a> : <a class=\"ProveItLink\" href=\"../../../__pv_it/985a1bdf1540838275dec15f4ad6de261cca93ce0/expr.ipynb\"><img src=\"../../../__pv_it/985a1bdf1540838275dec15f4ad6de261cca93ce0/expr.png\" style=\"display:inline;vertical-align:middle;\" /></a></span></td></tr><tr><td>1</td><td>theorem</td><td></td><td><span style=\"font-size:20px;\"> &#x22A2;&nbsp;<a class=\"ProveItLink\" href=\"__pv_it/a49ce01e1a7921a9d6b58e9c03dee6f569af69c80/expr.ipynb\"><img src=\"__pv_it/a49ce01e1a7921a9d6b58e9c03dee6f569af69c80/expr.png\" style=\"display:inline;vertical-align:middle;\" /></a></span></td></tr>\n",
       "<tr><td>&nbsp;</td><td colspan=4 style-\"text-align:left\"><a class=\"ProveItLink\" href=\"_proofs_/exp_set_3.ipynb\">proveit.logic.set_theory.membership.exp_set_3</a></td></tr><tr><td>2</td><td>assumption</td><td></td><td><span style=\"font-size:20px;\"><a class=\"ProveItLink\" href=\"__pv_it/4d1c435471d957ab67943df8d1b16cdd2e8cdeb30/expr.ipynb\"><img src=\"__pv_it/4d1c435471d957ab67943df8d1b16cdd2e8cdeb30/expr.png\" style=\"display:inline;vertical-align:middle;\" /></a> &#x22A2;&nbsp;<a class=\"ProveItLink\" href=\"__pv_it/9b8b3b636a16b61e9b135ce1006238a0873e42b30/expr.ipynb\"><img src=\"__pv_it/9b8b3b636a16b61e9b135ce1006238a0873e42b30/expr.png\" style=\"display:inline;vertical-align:middle;\" /></a></span></td></tr>\n",
       "<tr><td>3</td><td>assumption</td><td></td><td><span style=\"font-size:20px;\"><a class=\"ProveItLink\" href=\"__pv_it/897a6e39dede04d579c54f9681f5fe367586c13a0/expr.ipynb\"><img src=\"__pv_it/897a6e39dede04d579c54f9681f5fe367586c13a0/expr.png\" style=\"display:inline;vertical-align:middle;\" /></a> &#x22A2;&nbsp;<a class=\"ProveItLink\" href=\"__pv_it/5544901634368d8354c065fb1a8da92b4b12ec050/expr.ipynb\"><img src=\"__pv_it/5544901634368d8354c065fb1a8da92b4b12ec050/expr.png\" style=\"display:inline;vertical-align:middle;\" /></a></span></td></tr>\n",
       "<tr><td>4</td><td>assumption</td><td></td><td><span style=\"font-size:20px;\"><a class=\"ProveItLink\" href=\"__pv_it/d2c1cf223135f04f6b9e4af4daa990e67ba15def0/expr.ipynb\"><img src=\"__pv_it/d2c1cf223135f04f6b9e4af4daa990e67ba15def0/expr.png\" style=\"display:inline;vertical-align:middle;\" /></a> &#x22A2;&nbsp;<a class=\"ProveItLink\" href=\"__pv_it/5fa2ac4f6a581acdb8de502fb442d339f25977570/expr.ipynb\"><img src=\"__pv_it/5fa2ac4f6a581acdb8de502fb442d339f25977570/expr.png\" style=\"display:inline;vertical-align:middle;\" /></a></span></td></tr>\n",
       "</table>"
      ],
      "text/plain": [
       "\tstep type\trequirements\tstatement\n",
       "0\tspecialization\t1, 2, 3, 4\t{A in S , B in S , C in S} |= (A , B , C) in S^{3}\n",
       "\tS : S, a : A, b : B, c : C\n",
       "1\ttheorem\t\t|= forall_{S} [forall_{a, b, c in S} ((a , b , c) in S^{3})]\n",
       "\tproveit.logic.set_theory.membership.exp_set_3\n",
       "2\tassumption\t\t{A in S} |= A in S\n",
       "3\tassumption\t\t{B in S} |= B in S\n",
       "4\tassumption\t\t{C in S} |= C in S"
      ]
     },
     "execution_count": 5,
     "metadata": {},
     "output_type": "execute_result"
    }
   ],
   "source": [
    "InSet(ExprList(A,B,C),Exp(S,three)).prove([InSet(A,S), InSet(B,S),InSet(C,S)]).proof()"
   ]
  },
  {
   "cell_type": "code",
   "execution_count": 6,
   "metadata": {},
   "outputs": [
    {
     "name": "stdout",
     "output_type": "stream",
     "text": [
      "4 S 4 (A , B , C , D) S^{4} 4\n"
     ]
    },
    {
     "data": {
      "text/html": [
       "<table><tr><th>&nbsp;</th><th>step type</th><th>requirements</th><th>statement</th></tr>\n",
       "<tr><td>0</td><td>specialization</td><td>1, 2, 3, 4, 5</td><td><span style=\"font-size:20px;\"><a class=\"ProveItLink\" href=\"__pv_it/e8d057bc2198a38e2121e1cd694f8babe706ca7f0/expr.ipynb\"><img src=\"__pv_it/e8d057bc2198a38e2121e1cd694f8babe706ca7f0/expr.png\" style=\"display:inline;vertical-align:middle;\" /></a> &#x22A2;&nbsp;<a class=\"ProveItLink\" href=\"__pv_it/f13eb4b70344614306c8a5911af891cf38de2c430/expr.ipynb\"><img src=\"__pv_it/f13eb4b70344614306c8a5911af891cf38de2c430/expr.png\" style=\"display:inline;vertical-align:middle;\" /></a></span></td></tr>\n",
       "<tr><td>&nbsp;</td><td colspan=4 style=\"text-align:left\"><span style=\"font-size:20px;\"><a class=\"ProveItLink\" href=\"../../../__pv_it/abeee18594afe51bfb1be95d9591fbba24ac53f30/expr.ipynb\"><img src=\"../../../__pv_it/abeee18594afe51bfb1be95d9591fbba24ac53f30/expr.png\" style=\"display:inline;vertical-align:middle;\" /></a> : <a class=\"ProveItLink\" href=\"../../../__pv_it/abeee18594afe51bfb1be95d9591fbba24ac53f30/expr.ipynb\"><img src=\"../../../__pv_it/abeee18594afe51bfb1be95d9591fbba24ac53f30/expr.png\" style=\"display:inline;vertical-align:middle;\" /></a>, <a class=\"ProveItLink\" href=\"../../../__pv_it/07527342713064c87612d00d8557c53d53d5324a0/expr.ipynb\"><img src=\"../../../__pv_it/07527342713064c87612d00d8557c53d53d5324a0/expr.png\" style=\"display:inline;vertical-align:middle;\" /></a> : <a class=\"ProveItLink\" href=\"../../../__pv_it/2cbe72a7ad6f655694dd697106680215e8489b600/expr.ipynb\"><img src=\"../../../__pv_it/2cbe72a7ad6f655694dd697106680215e8489b600/expr.png\" style=\"display:inline;vertical-align:middle;\" /></a>, <a class=\"ProveItLink\" href=\"../../../__pv_it/6840a4fa6c106149dc16a131294d0c5e44f1b0480/expr.ipynb\"><img src=\"../../../__pv_it/6840a4fa6c106149dc16a131294d0c5e44f1b0480/expr.png\" style=\"display:inline;vertical-align:middle;\" /></a> : <a class=\"ProveItLink\" href=\"../../../__pv_it/077b2ff79244fb4582cbe22c6e3356fa92a52f2f0/expr.ipynb\"><img src=\"../../../__pv_it/077b2ff79244fb4582cbe22c6e3356fa92a52f2f0/expr.png\" style=\"display:inline;vertical-align:middle;\" /></a>, <a class=\"ProveItLink\" href=\"../../../__pv_it/cbdfda466482236edba0ce44ac7ef39cda0af7a40/expr.ipynb\"><img src=\"../../../__pv_it/cbdfda466482236edba0ce44ac7ef39cda0af7a40/expr.png\" style=\"display:inline;vertical-align:middle;\" /></a> : <a class=\"ProveItLink\" href=\"../../../__pv_it/985a1bdf1540838275dec15f4ad6de261cca93ce0/expr.ipynb\"><img src=\"../../../__pv_it/985a1bdf1540838275dec15f4ad6de261cca93ce0/expr.png\" style=\"display:inline;vertical-align:middle;\" /></a>, <a class=\"ProveItLink\" href=\"../../../__pv_it/3a5de44ed6135dbbdbbeec6704c741e238f127300/expr.ipynb\"><img src=\"../../../__pv_it/3a5de44ed6135dbbdbbeec6704c741e238f127300/expr.png\" style=\"display:inline;vertical-align:middle;\" /></a> : <a class=\"ProveItLink\" href=\"../../../__pv_it/185e6d30f167ee2ee5ef3321098dc98e0d77bc590/expr.ipynb\"><img src=\"../../../__pv_it/185e6d30f167ee2ee5ef3321098dc98e0d77bc590/expr.png\" style=\"display:inline;vertical-align:middle;\" /></a></span></td></tr><tr><td>1</td><td>theorem</td><td></td><td><span style=\"font-size:20px;\"> &#x22A2;&nbsp;<a class=\"ProveItLink\" href=\"__pv_it/f8871096ab31a54eeeb7d5201addc96bdbcd44530/expr.ipynb\"><img src=\"__pv_it/f8871096ab31a54eeeb7d5201addc96bdbcd44530/expr.png\" style=\"display:inline;vertical-align:middle;\" /></a></span></td></tr>\n",
       "<tr><td>&nbsp;</td><td colspan=4 style-\"text-align:left\"><a class=\"ProveItLink\" href=\"_proofs_/exp_set_4.ipynb\">proveit.logic.set_theory.membership.exp_set_4</a></td></tr><tr><td>2</td><td>assumption</td><td></td><td><span style=\"font-size:20px;\"><a class=\"ProveItLink\" href=\"__pv_it/4d1c435471d957ab67943df8d1b16cdd2e8cdeb30/expr.ipynb\"><img src=\"__pv_it/4d1c435471d957ab67943df8d1b16cdd2e8cdeb30/expr.png\" style=\"display:inline;vertical-align:middle;\" /></a> &#x22A2;&nbsp;<a class=\"ProveItLink\" href=\"__pv_it/9b8b3b636a16b61e9b135ce1006238a0873e42b30/expr.ipynb\"><img src=\"__pv_it/9b8b3b636a16b61e9b135ce1006238a0873e42b30/expr.png\" style=\"display:inline;vertical-align:middle;\" /></a></span></td></tr>\n",
       "<tr><td>3</td><td>assumption</td><td></td><td><span style=\"font-size:20px;\"><a class=\"ProveItLink\" href=\"__pv_it/897a6e39dede04d579c54f9681f5fe367586c13a0/expr.ipynb\"><img src=\"__pv_it/897a6e39dede04d579c54f9681f5fe367586c13a0/expr.png\" style=\"display:inline;vertical-align:middle;\" /></a> &#x22A2;&nbsp;<a class=\"ProveItLink\" href=\"__pv_it/5544901634368d8354c065fb1a8da92b4b12ec050/expr.ipynb\"><img src=\"__pv_it/5544901634368d8354c065fb1a8da92b4b12ec050/expr.png\" style=\"display:inline;vertical-align:middle;\" /></a></span></td></tr>\n",
       "<tr><td>4</td><td>assumption</td><td></td><td><span style=\"font-size:20px;\"><a class=\"ProveItLink\" href=\"__pv_it/d2c1cf223135f04f6b9e4af4daa990e67ba15def0/expr.ipynb\"><img src=\"__pv_it/d2c1cf223135f04f6b9e4af4daa990e67ba15def0/expr.png\" style=\"display:inline;vertical-align:middle;\" /></a> &#x22A2;&nbsp;<a class=\"ProveItLink\" href=\"__pv_it/5fa2ac4f6a581acdb8de502fb442d339f25977570/expr.ipynb\"><img src=\"__pv_it/5fa2ac4f6a581acdb8de502fb442d339f25977570/expr.png\" style=\"display:inline;vertical-align:middle;\" /></a></span></td></tr>\n",
       "<tr><td>5</td><td>assumption</td><td></td><td><span style=\"font-size:20px;\"><a class=\"ProveItLink\" href=\"__pv_it/53436136476e567af9d28427f9f8bb1525d1b9210/expr.ipynb\"><img src=\"__pv_it/53436136476e567af9d28427f9f8bb1525d1b9210/expr.png\" style=\"display:inline;vertical-align:middle;\" /></a> &#x22A2;&nbsp;<a class=\"ProveItLink\" href=\"__pv_it/4ed22a20510b00fcfdf77798d6e4402e206ac18f0/expr.ipynb\"><img src=\"__pv_it/4ed22a20510b00fcfdf77798d6e4402e206ac18f0/expr.png\" style=\"display:inline;vertical-align:middle;\" /></a></span></td></tr>\n",
       "</table>"
      ],
      "text/plain": [
       "\tstep type\trequirements\tstatement\n",
       "0\tspecialization\t1, 2, 3, 4, 5\t{A in S , B in S , C in S , D in S} |= (A , B , C , D) in S^{4}\n",
       "\tS : S, a : A, b : B, c : C, d : D\n",
       "1\ttheorem\t\t|= forall_{S} [forall_{a, b, c, d in S} ((a , b , c , d) in S^{4})]\n",
       "\tproveit.logic.set_theory.membership.exp_set_4\n",
       "2\tassumption\t\t{A in S} |= A in S\n",
       "3\tassumption\t\t{B in S} |= B in S\n",
       "4\tassumption\t\t{C in S} |= C in S\n",
       "5\tassumption\t\t{D in S} |= D in S"
      ]
     },
     "execution_count": 6,
     "metadata": {},
     "output_type": "execute_result"
    }
   ],
   "source": [
    "InSet(ExprList(A,B,C, D),Exp(S,four)).prove([InSet(A,S), InSet(B,S),InSet(C,S), InSet(D,S)]).proof()"
   ]
  },
  {
   "cell_type": "code",
   "execution_count": 7,
   "metadata": {},
   "outputs": [
    {
     "name": "stdout",
     "output_type": "stream",
     "text": [
      "5 S 5 (A , B , C , D , E) S^{5} 5\n"
     ]
    },
    {
     "data": {
      "text/html": [
       "<table><tr><th>&nbsp;</th><th>step type</th><th>requirements</th><th>statement</th></tr>\n",
       "<tr><td>0</td><td>specialization</td><td>1, 2, 3, 4, 5, 6</td><td><span style=\"font-size:20px;\"><a class=\"ProveItLink\" href=\"__pv_it/977244f1d531fc2c416d7dfccf5fb30b50f3000b0/expr.ipynb\"><img src=\"__pv_it/977244f1d531fc2c416d7dfccf5fb30b50f3000b0/expr.png\" style=\"display:inline;vertical-align:middle;\" /></a> &#x22A2;&nbsp;<a class=\"ProveItLink\" href=\"__pv_it/d586c079bf51d464166214fbc8a42c66627521310/expr.ipynb\"><img src=\"__pv_it/d586c079bf51d464166214fbc8a42c66627521310/expr.png\" style=\"display:inline;vertical-align:middle;\" /></a></span></td></tr>\n",
       "<tr><td>&nbsp;</td><td colspan=4 style=\"text-align:left\"><span style=\"font-size:20px;\"><a class=\"ProveItLink\" href=\"../../../__pv_it/abeee18594afe51bfb1be95d9591fbba24ac53f30/expr.ipynb\"><img src=\"../../../__pv_it/abeee18594afe51bfb1be95d9591fbba24ac53f30/expr.png\" style=\"display:inline;vertical-align:middle;\" /></a> : <a class=\"ProveItLink\" href=\"../../../__pv_it/abeee18594afe51bfb1be95d9591fbba24ac53f30/expr.ipynb\"><img src=\"../../../__pv_it/abeee18594afe51bfb1be95d9591fbba24ac53f30/expr.png\" style=\"display:inline;vertical-align:middle;\" /></a>, <a class=\"ProveItLink\" href=\"../../../__pv_it/07527342713064c87612d00d8557c53d53d5324a0/expr.ipynb\"><img src=\"../../../__pv_it/07527342713064c87612d00d8557c53d53d5324a0/expr.png\" style=\"display:inline;vertical-align:middle;\" /></a> : <a class=\"ProveItLink\" href=\"../../../__pv_it/2cbe72a7ad6f655694dd697106680215e8489b600/expr.ipynb\"><img src=\"../../../__pv_it/2cbe72a7ad6f655694dd697106680215e8489b600/expr.png\" style=\"display:inline;vertical-align:middle;\" /></a>, <a class=\"ProveItLink\" href=\"../../../__pv_it/6840a4fa6c106149dc16a131294d0c5e44f1b0480/expr.ipynb\"><img src=\"../../../__pv_it/6840a4fa6c106149dc16a131294d0c5e44f1b0480/expr.png\" style=\"display:inline;vertical-align:middle;\" /></a> : <a class=\"ProveItLink\" href=\"../../../__pv_it/077b2ff79244fb4582cbe22c6e3356fa92a52f2f0/expr.ipynb\"><img src=\"../../../__pv_it/077b2ff79244fb4582cbe22c6e3356fa92a52f2f0/expr.png\" style=\"display:inline;vertical-align:middle;\" /></a>, <a class=\"ProveItLink\" href=\"../../../__pv_it/cbdfda466482236edba0ce44ac7ef39cda0af7a40/expr.ipynb\"><img src=\"../../../__pv_it/cbdfda466482236edba0ce44ac7ef39cda0af7a40/expr.png\" style=\"display:inline;vertical-align:middle;\" /></a> : <a class=\"ProveItLink\" href=\"../../../__pv_it/985a1bdf1540838275dec15f4ad6de261cca93ce0/expr.ipynb\"><img src=\"../../../__pv_it/985a1bdf1540838275dec15f4ad6de261cca93ce0/expr.png\" style=\"display:inline;vertical-align:middle;\" /></a>, <a class=\"ProveItLink\" href=\"../../../__pv_it/3a5de44ed6135dbbdbbeec6704c741e238f127300/expr.ipynb\"><img src=\"../../../__pv_it/3a5de44ed6135dbbdbbeec6704c741e238f127300/expr.png\" style=\"display:inline;vertical-align:middle;\" /></a> : <a class=\"ProveItLink\" href=\"../../../__pv_it/185e6d30f167ee2ee5ef3321098dc98e0d77bc590/expr.ipynb\"><img src=\"../../../__pv_it/185e6d30f167ee2ee5ef3321098dc98e0d77bc590/expr.png\" style=\"display:inline;vertical-align:middle;\" /></a>, <a class=\"ProveItLink\" href=\"../../../__pv_it/0bc0f4a545336331111a0b22c4f05a0627b57b8f0/expr.ipynb\"><img src=\"../../../__pv_it/0bc0f4a545336331111a0b22c4f05a0627b57b8f0/expr.png\" style=\"display:inline;vertical-align:middle;\" /></a> : <a class=\"ProveItLink\" href=\"../../../__pv_it/9995c55100c62d7d8a012a35bafc852acbe03cf00/expr.ipynb\"><img src=\"../../../__pv_it/9995c55100c62d7d8a012a35bafc852acbe03cf00/expr.png\" style=\"display:inline;vertical-align:middle;\" /></a></span></td></tr><tr><td>1</td><td>theorem</td><td></td><td><span style=\"font-size:20px;\"> &#x22A2;&nbsp;<a class=\"ProveItLink\" href=\"__pv_it/51a013fc29190f4a50141968026b0dc6a9c3a38b0/expr.ipynb\"><img src=\"__pv_it/51a013fc29190f4a50141968026b0dc6a9c3a38b0/expr.png\" style=\"display:inline;vertical-align:middle;\" /></a></span></td></tr>\n",
       "<tr><td>&nbsp;</td><td colspan=4 style-\"text-align:left\"><a class=\"ProveItLink\" href=\"_proofs_/exp_set_5.ipynb\">proveit.logic.set_theory.membership.exp_set_5</a></td></tr><tr><td>2</td><td>assumption</td><td></td><td><span style=\"font-size:20px;\"><a class=\"ProveItLink\" href=\"__pv_it/4d1c435471d957ab67943df8d1b16cdd2e8cdeb30/expr.ipynb\"><img src=\"__pv_it/4d1c435471d957ab67943df8d1b16cdd2e8cdeb30/expr.png\" style=\"display:inline;vertical-align:middle;\" /></a> &#x22A2;&nbsp;<a class=\"ProveItLink\" href=\"__pv_it/9b8b3b636a16b61e9b135ce1006238a0873e42b30/expr.ipynb\"><img src=\"__pv_it/9b8b3b636a16b61e9b135ce1006238a0873e42b30/expr.png\" style=\"display:inline;vertical-align:middle;\" /></a></span></td></tr>\n",
       "<tr><td>3</td><td>assumption</td><td></td><td><span style=\"font-size:20px;\"><a class=\"ProveItLink\" href=\"__pv_it/897a6e39dede04d579c54f9681f5fe367586c13a0/expr.ipynb\"><img src=\"__pv_it/897a6e39dede04d579c54f9681f5fe367586c13a0/expr.png\" style=\"display:inline;vertical-align:middle;\" /></a> &#x22A2;&nbsp;<a class=\"ProveItLink\" href=\"__pv_it/5544901634368d8354c065fb1a8da92b4b12ec050/expr.ipynb\"><img src=\"__pv_it/5544901634368d8354c065fb1a8da92b4b12ec050/expr.png\" style=\"display:inline;vertical-align:middle;\" /></a></span></td></tr>\n",
       "<tr><td>4</td><td>assumption</td><td></td><td><span style=\"font-size:20px;\"><a class=\"ProveItLink\" href=\"__pv_it/d2c1cf223135f04f6b9e4af4daa990e67ba15def0/expr.ipynb\"><img src=\"__pv_it/d2c1cf223135f04f6b9e4af4daa990e67ba15def0/expr.png\" style=\"display:inline;vertical-align:middle;\" /></a> &#x22A2;&nbsp;<a class=\"ProveItLink\" href=\"__pv_it/5fa2ac4f6a581acdb8de502fb442d339f25977570/expr.ipynb\"><img src=\"__pv_it/5fa2ac4f6a581acdb8de502fb442d339f25977570/expr.png\" style=\"display:inline;vertical-align:middle;\" /></a></span></td></tr>\n",
       "<tr><td>5</td><td>assumption</td><td></td><td><span style=\"font-size:20px;\"><a class=\"ProveItLink\" href=\"__pv_it/53436136476e567af9d28427f9f8bb1525d1b9210/expr.ipynb\"><img src=\"__pv_it/53436136476e567af9d28427f9f8bb1525d1b9210/expr.png\" style=\"display:inline;vertical-align:middle;\" /></a> &#x22A2;&nbsp;<a class=\"ProveItLink\" href=\"__pv_it/4ed22a20510b00fcfdf77798d6e4402e206ac18f0/expr.ipynb\"><img src=\"__pv_it/4ed22a20510b00fcfdf77798d6e4402e206ac18f0/expr.png\" style=\"display:inline;vertical-align:middle;\" /></a></span></td></tr>\n",
       "<tr><td>6</td><td>assumption</td><td></td><td><span style=\"font-size:20px;\"><a class=\"ProveItLink\" href=\"__pv_it/f4a3ee9c84e2ce33b239d1e2d7f963c470d7553f0/expr.ipynb\"><img src=\"__pv_it/f4a3ee9c84e2ce33b239d1e2d7f963c470d7553f0/expr.png\" style=\"display:inline;vertical-align:middle;\" /></a> &#x22A2;&nbsp;<a class=\"ProveItLink\" href=\"__pv_it/0425bb40311e551d584dd6b415d766dae1efd99d0/expr.ipynb\"><img src=\"__pv_it/0425bb40311e551d584dd6b415d766dae1efd99d0/expr.png\" style=\"display:inline;vertical-align:middle;\" /></a></span></td></tr>\n",
       "</table>"
      ],
      "text/plain": [
       "\tstep type\trequirements\tstatement\n",
       "0\tspecialization\t1, 2, 3, 4, 5, 6\t{A in S , B in S , C in S , D in S , E in S} |= (A , B , C , D , E) in S^{5}\n",
       "\tS : S, a : A, b : B, c : C, d : D, e : E\n",
       "1\ttheorem\t\t|= forall_{S} [forall_{a, b, c, d, e in S} ((a , b , c , d , e) in S^{5})]\n",
       "\tproveit.logic.set_theory.membership.exp_set_5\n",
       "2\tassumption\t\t{A in S} |= A in S\n",
       "3\tassumption\t\t{B in S} |= B in S\n",
       "4\tassumption\t\t{C in S} |= C in S\n",
       "5\tassumption\t\t{D in S} |= D in S\n",
       "6\tassumption\t\t{E in S} |= E in S"
      ]
     },
     "execution_count": 7,
     "metadata": {},
     "output_type": "execute_result"
    }
   ],
   "source": [
    "InSet(ExprList(A,B,C, D, E),Exp(S,five)).prove([InSet(A,S), InSet(B,S),InSet(C,S), InSet(D,S), InSet(E,S)]).proof()"
   ]
  },
  {
   "cell_type": "code",
   "execution_count": 8,
   "metadata": {},
   "outputs": [
    {
     "name": "stdout",
     "output_type": "stream",
     "text": [
      "6 S 6 (A , B , C , D , E , F) S^{6} 6\n"
     ]
    },
    {
     "data": {
      "text/html": [
       "<table><tr><th>&nbsp;</th><th>step type</th><th>requirements</th><th>statement</th></tr>\n",
       "<tr><td>0</td><td>specialization</td><td>1, 2, 3, 4, 5, 6, 7</td><td><span style=\"font-size:20px;\"><a class=\"ProveItLink\" href=\"__pv_it/151a172b14ffb42ee45eaa9df84223c035fc006b0/expr.ipynb\"><img src=\"__pv_it/151a172b14ffb42ee45eaa9df84223c035fc006b0/expr.png\" style=\"display:inline;vertical-align:middle;\" /></a> &#x22A2;&nbsp;<a class=\"ProveItLink\" href=\"__pv_it/8678c43c8e571b18fa736066ebcfaadfa925420c0/expr.ipynb\"><img src=\"__pv_it/8678c43c8e571b18fa736066ebcfaadfa925420c0/expr.png\" style=\"display:inline;vertical-align:middle;\" /></a></span></td></tr>\n",
       "<tr><td>&nbsp;</td><td colspan=4 style=\"text-align:left\"><span style=\"font-size:20px;\"><a class=\"ProveItLink\" href=\"../../../__pv_it/abeee18594afe51bfb1be95d9591fbba24ac53f30/expr.ipynb\"><img src=\"../../../__pv_it/abeee18594afe51bfb1be95d9591fbba24ac53f30/expr.png\" style=\"display:inline;vertical-align:middle;\" /></a> : <a class=\"ProveItLink\" href=\"../../../__pv_it/abeee18594afe51bfb1be95d9591fbba24ac53f30/expr.ipynb\"><img src=\"../../../__pv_it/abeee18594afe51bfb1be95d9591fbba24ac53f30/expr.png\" style=\"display:inline;vertical-align:middle;\" /></a>, <a class=\"ProveItLink\" href=\"../../../__pv_it/07527342713064c87612d00d8557c53d53d5324a0/expr.ipynb\"><img src=\"../../../__pv_it/07527342713064c87612d00d8557c53d53d5324a0/expr.png\" style=\"display:inline;vertical-align:middle;\" /></a> : <a class=\"ProveItLink\" href=\"../../../__pv_it/2cbe72a7ad6f655694dd697106680215e8489b600/expr.ipynb\"><img src=\"../../../__pv_it/2cbe72a7ad6f655694dd697106680215e8489b600/expr.png\" style=\"display:inline;vertical-align:middle;\" /></a>, <a class=\"ProveItLink\" href=\"../../../__pv_it/6840a4fa6c106149dc16a131294d0c5e44f1b0480/expr.ipynb\"><img src=\"../../../__pv_it/6840a4fa6c106149dc16a131294d0c5e44f1b0480/expr.png\" style=\"display:inline;vertical-align:middle;\" /></a> : <a class=\"ProveItLink\" href=\"../../../__pv_it/077b2ff79244fb4582cbe22c6e3356fa92a52f2f0/expr.ipynb\"><img src=\"../../../__pv_it/077b2ff79244fb4582cbe22c6e3356fa92a52f2f0/expr.png\" style=\"display:inline;vertical-align:middle;\" /></a>, <a class=\"ProveItLink\" href=\"../../../__pv_it/cbdfda466482236edba0ce44ac7ef39cda0af7a40/expr.ipynb\"><img src=\"../../../__pv_it/cbdfda466482236edba0ce44ac7ef39cda0af7a40/expr.png\" style=\"display:inline;vertical-align:middle;\" /></a> : <a class=\"ProveItLink\" href=\"../../../__pv_it/985a1bdf1540838275dec15f4ad6de261cca93ce0/expr.ipynb\"><img src=\"../../../__pv_it/985a1bdf1540838275dec15f4ad6de261cca93ce0/expr.png\" style=\"display:inline;vertical-align:middle;\" /></a>, <a class=\"ProveItLink\" href=\"../../../__pv_it/3a5de44ed6135dbbdbbeec6704c741e238f127300/expr.ipynb\"><img src=\"../../../__pv_it/3a5de44ed6135dbbdbbeec6704c741e238f127300/expr.png\" style=\"display:inline;vertical-align:middle;\" /></a> : <a class=\"ProveItLink\" href=\"../../../__pv_it/185e6d30f167ee2ee5ef3321098dc98e0d77bc590/expr.ipynb\"><img src=\"../../../__pv_it/185e6d30f167ee2ee5ef3321098dc98e0d77bc590/expr.png\" style=\"display:inline;vertical-align:middle;\" /></a>, <a class=\"ProveItLink\" href=\"../../../__pv_it/0bc0f4a545336331111a0b22c4f05a0627b57b8f0/expr.ipynb\"><img src=\"../../../__pv_it/0bc0f4a545336331111a0b22c4f05a0627b57b8f0/expr.png\" style=\"display:inline;vertical-align:middle;\" /></a> : <a class=\"ProveItLink\" href=\"../../../__pv_it/9995c55100c62d7d8a012a35bafc852acbe03cf00/expr.ipynb\"><img src=\"../../../__pv_it/9995c55100c62d7d8a012a35bafc852acbe03cf00/expr.png\" style=\"display:inline;vertical-align:middle;\" /></a>, <a class=\"ProveItLink\" href=\"../../../__pv_it/4d51ee1e62d011d06d4528b97697bf3da60c9de60/expr.ipynb\"><img src=\"../../../__pv_it/4d51ee1e62d011d06d4528b97697bf3da60c9de60/expr.png\" style=\"display:inline;vertical-align:middle;\" /></a> : <a class=\"ProveItLink\" href=\"../../../__pv_it/6d1586c49fb5fd7602fde2bbc54560e7304e8ccf0/expr.ipynb\"><img src=\"../../../__pv_it/6d1586c49fb5fd7602fde2bbc54560e7304e8ccf0/expr.png\" style=\"display:inline;vertical-align:middle;\" /></a></span></td></tr><tr><td>1</td><td>theorem</td><td></td><td><span style=\"font-size:20px;\"> &#x22A2;&nbsp;<a class=\"ProveItLink\" href=\"__pv_it/7f7287e84f0e62d7fcc3b726658572fe638676350/expr.ipynb\"><img src=\"__pv_it/7f7287e84f0e62d7fcc3b726658572fe638676350/expr.png\" style=\"display:inline;vertical-align:middle;\" /></a></span></td></tr>\n",
       "<tr><td>&nbsp;</td><td colspan=4 style-\"text-align:left\"><a class=\"ProveItLink\" href=\"_proofs_/exp_set_6.ipynb\">proveit.logic.set_theory.membership.exp_set_6</a></td></tr><tr><td>2</td><td>assumption</td><td></td><td><span style=\"font-size:20px;\"><a class=\"ProveItLink\" href=\"__pv_it/4d1c435471d957ab67943df8d1b16cdd2e8cdeb30/expr.ipynb\"><img src=\"__pv_it/4d1c435471d957ab67943df8d1b16cdd2e8cdeb30/expr.png\" style=\"display:inline;vertical-align:middle;\" /></a> &#x22A2;&nbsp;<a class=\"ProveItLink\" href=\"__pv_it/9b8b3b636a16b61e9b135ce1006238a0873e42b30/expr.ipynb\"><img src=\"__pv_it/9b8b3b636a16b61e9b135ce1006238a0873e42b30/expr.png\" style=\"display:inline;vertical-align:middle;\" /></a></span></td></tr>\n",
       "<tr><td>3</td><td>assumption</td><td></td><td><span style=\"font-size:20px;\"><a class=\"ProveItLink\" href=\"__pv_it/897a6e39dede04d579c54f9681f5fe367586c13a0/expr.ipynb\"><img src=\"__pv_it/897a6e39dede04d579c54f9681f5fe367586c13a0/expr.png\" style=\"display:inline;vertical-align:middle;\" /></a> &#x22A2;&nbsp;<a class=\"ProveItLink\" href=\"__pv_it/5544901634368d8354c065fb1a8da92b4b12ec050/expr.ipynb\"><img src=\"__pv_it/5544901634368d8354c065fb1a8da92b4b12ec050/expr.png\" style=\"display:inline;vertical-align:middle;\" /></a></span></td></tr>\n",
       "<tr><td>4</td><td>assumption</td><td></td><td><span style=\"font-size:20px;\"><a class=\"ProveItLink\" href=\"__pv_it/d2c1cf223135f04f6b9e4af4daa990e67ba15def0/expr.ipynb\"><img src=\"__pv_it/d2c1cf223135f04f6b9e4af4daa990e67ba15def0/expr.png\" style=\"display:inline;vertical-align:middle;\" /></a> &#x22A2;&nbsp;<a class=\"ProveItLink\" href=\"__pv_it/5fa2ac4f6a581acdb8de502fb442d339f25977570/expr.ipynb\"><img src=\"__pv_it/5fa2ac4f6a581acdb8de502fb442d339f25977570/expr.png\" style=\"display:inline;vertical-align:middle;\" /></a></span></td></tr>\n",
       "<tr><td>5</td><td>assumption</td><td></td><td><span style=\"font-size:20px;\"><a class=\"ProveItLink\" href=\"__pv_it/53436136476e567af9d28427f9f8bb1525d1b9210/expr.ipynb\"><img src=\"__pv_it/53436136476e567af9d28427f9f8bb1525d1b9210/expr.png\" style=\"display:inline;vertical-align:middle;\" /></a> &#x22A2;&nbsp;<a class=\"ProveItLink\" href=\"__pv_it/4ed22a20510b00fcfdf77798d6e4402e206ac18f0/expr.ipynb\"><img src=\"__pv_it/4ed22a20510b00fcfdf77798d6e4402e206ac18f0/expr.png\" style=\"display:inline;vertical-align:middle;\" /></a></span></td></tr>\n",
       "<tr><td>6</td><td>assumption</td><td></td><td><span style=\"font-size:20px;\"><a class=\"ProveItLink\" href=\"__pv_it/f4a3ee9c84e2ce33b239d1e2d7f963c470d7553f0/expr.ipynb\"><img src=\"__pv_it/f4a3ee9c84e2ce33b239d1e2d7f963c470d7553f0/expr.png\" style=\"display:inline;vertical-align:middle;\" /></a> &#x22A2;&nbsp;<a class=\"ProveItLink\" href=\"__pv_it/0425bb40311e551d584dd6b415d766dae1efd99d0/expr.ipynb\"><img src=\"__pv_it/0425bb40311e551d584dd6b415d766dae1efd99d0/expr.png\" style=\"display:inline;vertical-align:middle;\" /></a></span></td></tr>\n",
       "<tr><td>7</td><td>assumption</td><td></td><td><span style=\"font-size:20px;\"><a class=\"ProveItLink\" href=\"__pv_it/b15bfe6ea952e86910dfb3a75d7f3cc9da2a1cb40/expr.ipynb\"><img src=\"__pv_it/b15bfe6ea952e86910dfb3a75d7f3cc9da2a1cb40/expr.png\" style=\"display:inline;vertical-align:middle;\" /></a> &#x22A2;&nbsp;<a class=\"ProveItLink\" href=\"__pv_it/e01103c5cc2c26bc20aa152f57ecbb2208705b3f0/expr.ipynb\"><img src=\"__pv_it/e01103c5cc2c26bc20aa152f57ecbb2208705b3f0/expr.png\" style=\"display:inline;vertical-align:middle;\" /></a></span></td></tr>\n",
       "</table>"
      ],
      "text/plain": [
       "\tstep type\trequirements\tstatement\n",
       "0\tspecialization\t1, 2, 3, 4, 5, 6, 7\t{A in S , B in S , C in S , D in S , E in S , F in S} |= (A , B , C , D , E , F) in S^{6}\n",
       "\tS : S, a : A, b : B, c : C, d : D, e : E, f : F\n",
       "1\ttheorem\t\t|= forall_{S} [forall_{a, b, c, d, e, f in S} ((a , b , c , d , e , f) in S^{6})]\n",
       "\tproveit.logic.set_theory.membership.exp_set_6\n",
       "2\tassumption\t\t{A in S} |= A in S\n",
       "3\tassumption\t\t{B in S} |= B in S\n",
       "4\tassumption\t\t{C in S} |= C in S\n",
       "5\tassumption\t\t{D in S} |= D in S\n",
       "6\tassumption\t\t{E in S} |= E in S\n",
       "7\tassumption\t\t{F in S} |= F in S"
      ]
     },
     "execution_count": 8,
     "metadata": {},
     "output_type": "execute_result"
    }
   ],
   "source": [
    "InSet(ExprList(A,B,C, D, E, F),Exp(S,six)).prove([InSet(A,S), InSet(B,S),InSet(C,S), InSet(D,S), InSet(E,S), InSet(F,S)]).proof()"
   ]
  },
  {
   "cell_type": "code",
   "execution_count": 9,
   "metadata": {},
   "outputs": [
    {
     "name": "stdout",
     "output_type": "stream",
     "text": [
      "7 S 7 (A , B , C , D , E , F , G) S^{7} 7\n"
     ]
    },
    {
     "data": {
      "text/html": [
       "<table><tr><th>&nbsp;</th><th>step type</th><th>requirements</th><th>statement</th></tr>\n",
       "<tr><td>0</td><td>specialization</td><td>1, 2, 3, 4, 5, 6, 7, 8</td><td><span style=\"font-size:20px;\"><a class=\"ProveItLink\" href=\"__pv_it/27742866f973fd2e69df5f05ade6935791f4859e0/expr.ipynb\"><img src=\"__pv_it/27742866f973fd2e69df5f05ade6935791f4859e0/expr.png\" style=\"display:inline;vertical-align:middle;\" /></a> &#x22A2;&nbsp;<a class=\"ProveItLink\" href=\"__pv_it/5cb6dc1aeee1612ec3dd042cd37bb9f49ecf57cf0/expr.ipynb\"><img src=\"__pv_it/5cb6dc1aeee1612ec3dd042cd37bb9f49ecf57cf0/expr.png\" style=\"display:inline;vertical-align:middle;\" /></a></span></td></tr>\n",
       "<tr><td>&nbsp;</td><td colspan=4 style=\"text-align:left\"><span style=\"font-size:20px;\"><a class=\"ProveItLink\" href=\"../../../__pv_it/abeee18594afe51bfb1be95d9591fbba24ac53f30/expr.ipynb\"><img src=\"../../../__pv_it/abeee18594afe51bfb1be95d9591fbba24ac53f30/expr.png\" style=\"display:inline;vertical-align:middle;\" /></a> : <a class=\"ProveItLink\" href=\"../../../__pv_it/abeee18594afe51bfb1be95d9591fbba24ac53f30/expr.ipynb\"><img src=\"../../../__pv_it/abeee18594afe51bfb1be95d9591fbba24ac53f30/expr.png\" style=\"display:inline;vertical-align:middle;\" /></a>, <a class=\"ProveItLink\" href=\"../../../__pv_it/07527342713064c87612d00d8557c53d53d5324a0/expr.ipynb\"><img src=\"../../../__pv_it/07527342713064c87612d00d8557c53d53d5324a0/expr.png\" style=\"display:inline;vertical-align:middle;\" /></a> : <a class=\"ProveItLink\" href=\"../../../__pv_it/2cbe72a7ad6f655694dd697106680215e8489b600/expr.ipynb\"><img src=\"../../../__pv_it/2cbe72a7ad6f655694dd697106680215e8489b600/expr.png\" style=\"display:inline;vertical-align:middle;\" /></a>, <a class=\"ProveItLink\" href=\"../../../__pv_it/6840a4fa6c106149dc16a131294d0c5e44f1b0480/expr.ipynb\"><img src=\"../../../__pv_it/6840a4fa6c106149dc16a131294d0c5e44f1b0480/expr.png\" style=\"display:inline;vertical-align:middle;\" /></a> : <a class=\"ProveItLink\" href=\"../../../__pv_it/077b2ff79244fb4582cbe22c6e3356fa92a52f2f0/expr.ipynb\"><img src=\"../../../__pv_it/077b2ff79244fb4582cbe22c6e3356fa92a52f2f0/expr.png\" style=\"display:inline;vertical-align:middle;\" /></a>, <a class=\"ProveItLink\" href=\"../../../__pv_it/cbdfda466482236edba0ce44ac7ef39cda0af7a40/expr.ipynb\"><img src=\"../../../__pv_it/cbdfda466482236edba0ce44ac7ef39cda0af7a40/expr.png\" style=\"display:inline;vertical-align:middle;\" /></a> : <a class=\"ProveItLink\" href=\"../../../__pv_it/985a1bdf1540838275dec15f4ad6de261cca93ce0/expr.ipynb\"><img src=\"../../../__pv_it/985a1bdf1540838275dec15f4ad6de261cca93ce0/expr.png\" style=\"display:inline;vertical-align:middle;\" /></a>, <a class=\"ProveItLink\" href=\"../../../__pv_it/3a5de44ed6135dbbdbbeec6704c741e238f127300/expr.ipynb\"><img src=\"../../../__pv_it/3a5de44ed6135dbbdbbeec6704c741e238f127300/expr.png\" style=\"display:inline;vertical-align:middle;\" /></a> : <a class=\"ProveItLink\" href=\"../../../__pv_it/185e6d30f167ee2ee5ef3321098dc98e0d77bc590/expr.ipynb\"><img src=\"../../../__pv_it/185e6d30f167ee2ee5ef3321098dc98e0d77bc590/expr.png\" style=\"display:inline;vertical-align:middle;\" /></a>, <a class=\"ProveItLink\" href=\"../../../__pv_it/0bc0f4a545336331111a0b22c4f05a0627b57b8f0/expr.ipynb\"><img src=\"../../../__pv_it/0bc0f4a545336331111a0b22c4f05a0627b57b8f0/expr.png\" style=\"display:inline;vertical-align:middle;\" /></a> : <a class=\"ProveItLink\" href=\"../../../__pv_it/9995c55100c62d7d8a012a35bafc852acbe03cf00/expr.ipynb\"><img src=\"../../../__pv_it/9995c55100c62d7d8a012a35bafc852acbe03cf00/expr.png\" style=\"display:inline;vertical-align:middle;\" /></a>, <a class=\"ProveItLink\" href=\"../../../__pv_it/4d51ee1e62d011d06d4528b97697bf3da60c9de60/expr.ipynb\"><img src=\"../../../__pv_it/4d51ee1e62d011d06d4528b97697bf3da60c9de60/expr.png\" style=\"display:inline;vertical-align:middle;\" /></a> : <a class=\"ProveItLink\" href=\"../../../__pv_it/6d1586c49fb5fd7602fde2bbc54560e7304e8ccf0/expr.ipynb\"><img src=\"../../../__pv_it/6d1586c49fb5fd7602fde2bbc54560e7304e8ccf0/expr.png\" style=\"display:inline;vertical-align:middle;\" /></a>, <a class=\"ProveItLink\" href=\"../../../__pv_it/b5004dd09038f1a7d88dab9010b943185ce1d3ea0/expr.ipynb\"><img src=\"../../../__pv_it/b5004dd09038f1a7d88dab9010b943185ce1d3ea0/expr.png\" style=\"display:inline;vertical-align:middle;\" /></a> : <a class=\"ProveItLink\" href=\"../../../__pv_it/994260d00d104a1ab9cf940a007fb6a4ff36f79e0/expr.ipynb\"><img src=\"../../../__pv_it/994260d00d104a1ab9cf940a007fb6a4ff36f79e0/expr.png\" style=\"display:inline;vertical-align:middle;\" /></a></span></td></tr><tr><td>1</td><td>theorem</td><td></td><td><span style=\"font-size:20px;\"> &#x22A2;&nbsp;<a class=\"ProveItLink\" href=\"__pv_it/9c43bcf609c6ffda96bc2fbf766e82e071ce4d9f0/expr.ipynb\"><img src=\"__pv_it/9c43bcf609c6ffda96bc2fbf766e82e071ce4d9f0/expr.png\" style=\"display:inline;vertical-align:middle;\" /></a></span></td></tr>\n",
       "<tr><td>&nbsp;</td><td colspan=4 style-\"text-align:left\"><a class=\"ProveItLink\" href=\"_proofs_/exp_set_7.ipynb\">proveit.logic.set_theory.membership.exp_set_7</a></td></tr><tr><td>2</td><td>assumption</td><td></td><td><span style=\"font-size:20px;\"><a class=\"ProveItLink\" href=\"__pv_it/4d1c435471d957ab67943df8d1b16cdd2e8cdeb30/expr.ipynb\"><img src=\"__pv_it/4d1c435471d957ab67943df8d1b16cdd2e8cdeb30/expr.png\" style=\"display:inline;vertical-align:middle;\" /></a> &#x22A2;&nbsp;<a class=\"ProveItLink\" href=\"__pv_it/9b8b3b636a16b61e9b135ce1006238a0873e42b30/expr.ipynb\"><img src=\"__pv_it/9b8b3b636a16b61e9b135ce1006238a0873e42b30/expr.png\" style=\"display:inline;vertical-align:middle;\" /></a></span></td></tr>\n",
       "<tr><td>3</td><td>assumption</td><td></td><td><span style=\"font-size:20px;\"><a class=\"ProveItLink\" href=\"__pv_it/897a6e39dede04d579c54f9681f5fe367586c13a0/expr.ipynb\"><img src=\"__pv_it/897a6e39dede04d579c54f9681f5fe367586c13a0/expr.png\" style=\"display:inline;vertical-align:middle;\" /></a> &#x22A2;&nbsp;<a class=\"ProveItLink\" href=\"__pv_it/5544901634368d8354c065fb1a8da92b4b12ec050/expr.ipynb\"><img src=\"__pv_it/5544901634368d8354c065fb1a8da92b4b12ec050/expr.png\" style=\"display:inline;vertical-align:middle;\" /></a></span></td></tr>\n",
       "<tr><td>4</td><td>assumption</td><td></td><td><span style=\"font-size:20px;\"><a class=\"ProveItLink\" href=\"__pv_it/d2c1cf223135f04f6b9e4af4daa990e67ba15def0/expr.ipynb\"><img src=\"__pv_it/d2c1cf223135f04f6b9e4af4daa990e67ba15def0/expr.png\" style=\"display:inline;vertical-align:middle;\" /></a> &#x22A2;&nbsp;<a class=\"ProveItLink\" href=\"__pv_it/5fa2ac4f6a581acdb8de502fb442d339f25977570/expr.ipynb\"><img src=\"__pv_it/5fa2ac4f6a581acdb8de502fb442d339f25977570/expr.png\" style=\"display:inline;vertical-align:middle;\" /></a></span></td></tr>\n",
       "<tr><td>5</td><td>assumption</td><td></td><td><span style=\"font-size:20px;\"><a class=\"ProveItLink\" href=\"__pv_it/53436136476e567af9d28427f9f8bb1525d1b9210/expr.ipynb\"><img src=\"__pv_it/53436136476e567af9d28427f9f8bb1525d1b9210/expr.png\" style=\"display:inline;vertical-align:middle;\" /></a> &#x22A2;&nbsp;<a class=\"ProveItLink\" href=\"__pv_it/4ed22a20510b00fcfdf77798d6e4402e206ac18f0/expr.ipynb\"><img src=\"__pv_it/4ed22a20510b00fcfdf77798d6e4402e206ac18f0/expr.png\" style=\"display:inline;vertical-align:middle;\" /></a></span></td></tr>\n",
       "<tr><td>6</td><td>assumption</td><td></td><td><span style=\"font-size:20px;\"><a class=\"ProveItLink\" href=\"__pv_it/f4a3ee9c84e2ce33b239d1e2d7f963c470d7553f0/expr.ipynb\"><img src=\"__pv_it/f4a3ee9c84e2ce33b239d1e2d7f963c470d7553f0/expr.png\" style=\"display:inline;vertical-align:middle;\" /></a> &#x22A2;&nbsp;<a class=\"ProveItLink\" href=\"__pv_it/0425bb40311e551d584dd6b415d766dae1efd99d0/expr.ipynb\"><img src=\"__pv_it/0425bb40311e551d584dd6b415d766dae1efd99d0/expr.png\" style=\"display:inline;vertical-align:middle;\" /></a></span></td></tr>\n",
       "<tr><td>7</td><td>assumption</td><td></td><td><span style=\"font-size:20px;\"><a class=\"ProveItLink\" href=\"__pv_it/b15bfe6ea952e86910dfb3a75d7f3cc9da2a1cb40/expr.ipynb\"><img src=\"__pv_it/b15bfe6ea952e86910dfb3a75d7f3cc9da2a1cb40/expr.png\" style=\"display:inline;vertical-align:middle;\" /></a> &#x22A2;&nbsp;<a class=\"ProveItLink\" href=\"__pv_it/e01103c5cc2c26bc20aa152f57ecbb2208705b3f0/expr.ipynb\"><img src=\"__pv_it/e01103c5cc2c26bc20aa152f57ecbb2208705b3f0/expr.png\" style=\"display:inline;vertical-align:middle;\" /></a></span></td></tr>\n",
       "<tr><td>8</td><td>assumption</td><td></td><td><span style=\"font-size:20px;\"><a class=\"ProveItLink\" href=\"__pv_it/7830a645b424cf85101e8a228da749aeb74b1bf90/expr.ipynb\"><img src=\"__pv_it/7830a645b424cf85101e8a228da749aeb74b1bf90/expr.png\" style=\"display:inline;vertical-align:middle;\" /></a> &#x22A2;&nbsp;<a class=\"ProveItLink\" href=\"__pv_it/a165ad1652a7805d5cf22601242154ce12b661320/expr.ipynb\"><img src=\"__pv_it/a165ad1652a7805d5cf22601242154ce12b661320/expr.png\" style=\"display:inline;vertical-align:middle;\" /></a></span></td></tr>\n",
       "</table>"
      ],
      "text/plain": [
       "\tstep type\trequirements\tstatement\n",
       "0\tspecialization\t1, 2, 3, 4, 5, 6, 7, 8\t{A in S , B in S , C in S , D in S , E in S , F in S , G in S} |= (A , B , C , D , E , F , G) in S^{7}\n",
       "\tS : S, a : A, b : B, c : C, d : D, e : E, f : F, g : G\n",
       "1\ttheorem\t\t|= forall_{S} [forall_{a, b, c, d, e, f, g in S} ((a , b , c , d , e , f , g) in S^{7})]\n",
       "\tproveit.logic.set_theory.membership.exp_set_7\n",
       "2\tassumption\t\t{A in S} |= A in S\n",
       "3\tassumption\t\t{B in S} |= B in S\n",
       "4\tassumption\t\t{C in S} |= C in S\n",
       "5\tassumption\t\t{D in S} |= D in S\n",
       "6\tassumption\t\t{E in S} |= E in S\n",
       "7\tassumption\t\t{F in S} |= F in S\n",
       "8\tassumption\t\t{G in S} |= G in S"
      ]
     },
     "execution_count": 9,
     "metadata": {},
     "output_type": "execute_result"
    }
   ],
   "source": [
    "InSet(ExprList(A,B,C, D, E, F, G),Exp(S,seven)).prove([InSet(A,S), InSet(B,S),InSet(C,S), InSet(D,S), InSet(E,S), InSet(F,S), InSet(G,S)]).proof()"
   ]
  },
  {
   "cell_type": "code",
   "execution_count": 10,
   "metadata": {},
   "outputs": [
    {
     "name": "stdout",
     "output_type": "stream",
     "text": [
      "8 S 8 (A , B , C , D , E , F , G , H) S^{8} 8\n"
     ]
    },
    {
     "data": {
      "text/html": [
       "<table><tr><th>&nbsp;</th><th>step type</th><th>requirements</th><th>statement</th></tr>\n",
       "<tr><td>0</td><td>specialization</td><td>1, 2, 3, 4, 5, 6, 7, 8, 9</td><td><span style=\"font-size:20px;\"><a class=\"ProveItLink\" href=\"__pv_it/4b0c47e1312f03a86abbab7f3423515774c61dcc0/expr.ipynb\"><img src=\"__pv_it/4b0c47e1312f03a86abbab7f3423515774c61dcc0/expr.png\" style=\"display:inline;vertical-align:middle;\" /></a> &#x22A2;&nbsp;<a class=\"ProveItLink\" href=\"__pv_it/2680eb0d60d7ef371d3f046e0ddf99d6e28d396d0/expr.ipynb\"><img src=\"__pv_it/2680eb0d60d7ef371d3f046e0ddf99d6e28d396d0/expr.png\" style=\"display:inline;vertical-align:middle;\" /></a></span></td></tr>\n",
       "<tr><td>&nbsp;</td><td colspan=4 style=\"text-align:left\"><span style=\"font-size:20px;\"><a class=\"ProveItLink\" href=\"../../../__pv_it/abeee18594afe51bfb1be95d9591fbba24ac53f30/expr.ipynb\"><img src=\"../../../__pv_it/abeee18594afe51bfb1be95d9591fbba24ac53f30/expr.png\" style=\"display:inline;vertical-align:middle;\" /></a> : <a class=\"ProveItLink\" href=\"../../../__pv_it/abeee18594afe51bfb1be95d9591fbba24ac53f30/expr.ipynb\"><img src=\"../../../__pv_it/abeee18594afe51bfb1be95d9591fbba24ac53f30/expr.png\" style=\"display:inline;vertical-align:middle;\" /></a>, <a class=\"ProveItLink\" href=\"../../../__pv_it/07527342713064c87612d00d8557c53d53d5324a0/expr.ipynb\"><img src=\"../../../__pv_it/07527342713064c87612d00d8557c53d53d5324a0/expr.png\" style=\"display:inline;vertical-align:middle;\" /></a> : <a class=\"ProveItLink\" href=\"../../../__pv_it/2cbe72a7ad6f655694dd697106680215e8489b600/expr.ipynb\"><img src=\"../../../__pv_it/2cbe72a7ad6f655694dd697106680215e8489b600/expr.png\" style=\"display:inline;vertical-align:middle;\" /></a>, <a class=\"ProveItLink\" href=\"../../../__pv_it/6840a4fa6c106149dc16a131294d0c5e44f1b0480/expr.ipynb\"><img src=\"../../../__pv_it/6840a4fa6c106149dc16a131294d0c5e44f1b0480/expr.png\" style=\"display:inline;vertical-align:middle;\" /></a> : <a class=\"ProveItLink\" href=\"../../../__pv_it/077b2ff79244fb4582cbe22c6e3356fa92a52f2f0/expr.ipynb\"><img src=\"../../../__pv_it/077b2ff79244fb4582cbe22c6e3356fa92a52f2f0/expr.png\" style=\"display:inline;vertical-align:middle;\" /></a>, <a class=\"ProveItLink\" href=\"../../../__pv_it/cbdfda466482236edba0ce44ac7ef39cda0af7a40/expr.ipynb\"><img src=\"../../../__pv_it/cbdfda466482236edba0ce44ac7ef39cda0af7a40/expr.png\" style=\"display:inline;vertical-align:middle;\" /></a> : <a class=\"ProveItLink\" href=\"../../../__pv_it/985a1bdf1540838275dec15f4ad6de261cca93ce0/expr.ipynb\"><img src=\"../../../__pv_it/985a1bdf1540838275dec15f4ad6de261cca93ce0/expr.png\" style=\"display:inline;vertical-align:middle;\" /></a>, <a class=\"ProveItLink\" href=\"../../../__pv_it/3a5de44ed6135dbbdbbeec6704c741e238f127300/expr.ipynb\"><img src=\"../../../__pv_it/3a5de44ed6135dbbdbbeec6704c741e238f127300/expr.png\" style=\"display:inline;vertical-align:middle;\" /></a> : <a class=\"ProveItLink\" href=\"../../../__pv_it/185e6d30f167ee2ee5ef3321098dc98e0d77bc590/expr.ipynb\"><img src=\"../../../__pv_it/185e6d30f167ee2ee5ef3321098dc98e0d77bc590/expr.png\" style=\"display:inline;vertical-align:middle;\" /></a>, <a class=\"ProveItLink\" href=\"../../../__pv_it/0bc0f4a545336331111a0b22c4f05a0627b57b8f0/expr.ipynb\"><img src=\"../../../__pv_it/0bc0f4a545336331111a0b22c4f05a0627b57b8f0/expr.png\" style=\"display:inline;vertical-align:middle;\" /></a> : <a class=\"ProveItLink\" href=\"../../../__pv_it/9995c55100c62d7d8a012a35bafc852acbe03cf00/expr.ipynb\"><img src=\"../../../__pv_it/9995c55100c62d7d8a012a35bafc852acbe03cf00/expr.png\" style=\"display:inline;vertical-align:middle;\" /></a>, <a class=\"ProveItLink\" href=\"../../../__pv_it/4d51ee1e62d011d06d4528b97697bf3da60c9de60/expr.ipynb\"><img src=\"../../../__pv_it/4d51ee1e62d011d06d4528b97697bf3da60c9de60/expr.png\" style=\"display:inline;vertical-align:middle;\" /></a> : <a class=\"ProveItLink\" href=\"../../../__pv_it/6d1586c49fb5fd7602fde2bbc54560e7304e8ccf0/expr.ipynb\"><img src=\"../../../__pv_it/6d1586c49fb5fd7602fde2bbc54560e7304e8ccf0/expr.png\" style=\"display:inline;vertical-align:middle;\" /></a>, <a class=\"ProveItLink\" href=\"../../../__pv_it/b5004dd09038f1a7d88dab9010b943185ce1d3ea0/expr.ipynb\"><img src=\"../../../__pv_it/b5004dd09038f1a7d88dab9010b943185ce1d3ea0/expr.png\" style=\"display:inline;vertical-align:middle;\" /></a> : <a class=\"ProveItLink\" href=\"../../../__pv_it/994260d00d104a1ab9cf940a007fb6a4ff36f79e0/expr.ipynb\"><img src=\"../../../__pv_it/994260d00d104a1ab9cf940a007fb6a4ff36f79e0/expr.png\" style=\"display:inline;vertical-align:middle;\" /></a>, <a class=\"ProveItLink\" href=\"../../../__pv_it/3b5a3cc74431604b3beba568cf7dfeb60b1886650/expr.ipynb\"><img src=\"../../../__pv_it/3b5a3cc74431604b3beba568cf7dfeb60b1886650/expr.png\" style=\"display:inline;vertical-align:middle;\" /></a> : <a class=\"ProveItLink\" href=\"../../../__pv_it/fabf74ac81cd36aa91075816201d2b14195a56e60/expr.ipynb\"><img src=\"../../../__pv_it/fabf74ac81cd36aa91075816201d2b14195a56e60/expr.png\" style=\"display:inline;vertical-align:middle;\" /></a></span></td></tr><tr><td>1</td><td>theorem</td><td></td><td><span style=\"font-size:20px;\"> &#x22A2;&nbsp;<a class=\"ProveItLink\" href=\"__pv_it/0cd6f627c1e438f9180c6b8a4e26a00a5b6c49270/expr.ipynb\"><img src=\"__pv_it/0cd6f627c1e438f9180c6b8a4e26a00a5b6c49270/expr.png\" style=\"display:inline;vertical-align:middle;\" /></a></span></td></tr>\n",
       "<tr><td>&nbsp;</td><td colspan=4 style-\"text-align:left\"><a class=\"ProveItLink\" href=\"_proofs_/exp_set_8.ipynb\">proveit.logic.set_theory.membership.exp_set_8</a></td></tr><tr><td>2</td><td>assumption</td><td></td><td><span style=\"font-size:20px;\"><a class=\"ProveItLink\" href=\"__pv_it/4d1c435471d957ab67943df8d1b16cdd2e8cdeb30/expr.ipynb\"><img src=\"__pv_it/4d1c435471d957ab67943df8d1b16cdd2e8cdeb30/expr.png\" style=\"display:inline;vertical-align:middle;\" /></a> &#x22A2;&nbsp;<a class=\"ProveItLink\" href=\"__pv_it/9b8b3b636a16b61e9b135ce1006238a0873e42b30/expr.ipynb\"><img src=\"__pv_it/9b8b3b636a16b61e9b135ce1006238a0873e42b30/expr.png\" style=\"display:inline;vertical-align:middle;\" /></a></span></td></tr>\n",
       "<tr><td>3</td><td>assumption</td><td></td><td><span style=\"font-size:20px;\"><a class=\"ProveItLink\" href=\"__pv_it/897a6e39dede04d579c54f9681f5fe367586c13a0/expr.ipynb\"><img src=\"__pv_it/897a6e39dede04d579c54f9681f5fe367586c13a0/expr.png\" style=\"display:inline;vertical-align:middle;\" /></a> &#x22A2;&nbsp;<a class=\"ProveItLink\" href=\"__pv_it/5544901634368d8354c065fb1a8da92b4b12ec050/expr.ipynb\"><img src=\"__pv_it/5544901634368d8354c065fb1a8da92b4b12ec050/expr.png\" style=\"display:inline;vertical-align:middle;\" /></a></span></td></tr>\n",
       "<tr><td>4</td><td>assumption</td><td></td><td><span style=\"font-size:20px;\"><a class=\"ProveItLink\" href=\"__pv_it/d2c1cf223135f04f6b9e4af4daa990e67ba15def0/expr.ipynb\"><img src=\"__pv_it/d2c1cf223135f04f6b9e4af4daa990e67ba15def0/expr.png\" style=\"display:inline;vertical-align:middle;\" /></a> &#x22A2;&nbsp;<a class=\"ProveItLink\" href=\"__pv_it/5fa2ac4f6a581acdb8de502fb442d339f25977570/expr.ipynb\"><img src=\"__pv_it/5fa2ac4f6a581acdb8de502fb442d339f25977570/expr.png\" style=\"display:inline;vertical-align:middle;\" /></a></span></td></tr>\n",
       "<tr><td>5</td><td>assumption</td><td></td><td><span style=\"font-size:20px;\"><a class=\"ProveItLink\" href=\"__pv_it/53436136476e567af9d28427f9f8bb1525d1b9210/expr.ipynb\"><img src=\"__pv_it/53436136476e567af9d28427f9f8bb1525d1b9210/expr.png\" style=\"display:inline;vertical-align:middle;\" /></a> &#x22A2;&nbsp;<a class=\"ProveItLink\" href=\"__pv_it/4ed22a20510b00fcfdf77798d6e4402e206ac18f0/expr.ipynb\"><img src=\"__pv_it/4ed22a20510b00fcfdf77798d6e4402e206ac18f0/expr.png\" style=\"display:inline;vertical-align:middle;\" /></a></span></td></tr>\n",
       "<tr><td>6</td><td>assumption</td><td></td><td><span style=\"font-size:20px;\"><a class=\"ProveItLink\" href=\"__pv_it/f4a3ee9c84e2ce33b239d1e2d7f963c470d7553f0/expr.ipynb\"><img src=\"__pv_it/f4a3ee9c84e2ce33b239d1e2d7f963c470d7553f0/expr.png\" style=\"display:inline;vertical-align:middle;\" /></a> &#x22A2;&nbsp;<a class=\"ProveItLink\" href=\"__pv_it/0425bb40311e551d584dd6b415d766dae1efd99d0/expr.ipynb\"><img src=\"__pv_it/0425bb40311e551d584dd6b415d766dae1efd99d0/expr.png\" style=\"display:inline;vertical-align:middle;\" /></a></span></td></tr>\n",
       "<tr><td>7</td><td>assumption</td><td></td><td><span style=\"font-size:20px;\"><a class=\"ProveItLink\" href=\"__pv_it/b15bfe6ea952e86910dfb3a75d7f3cc9da2a1cb40/expr.ipynb\"><img src=\"__pv_it/b15bfe6ea952e86910dfb3a75d7f3cc9da2a1cb40/expr.png\" style=\"display:inline;vertical-align:middle;\" /></a> &#x22A2;&nbsp;<a class=\"ProveItLink\" href=\"__pv_it/e01103c5cc2c26bc20aa152f57ecbb2208705b3f0/expr.ipynb\"><img src=\"__pv_it/e01103c5cc2c26bc20aa152f57ecbb2208705b3f0/expr.png\" style=\"display:inline;vertical-align:middle;\" /></a></span></td></tr>\n",
       "<tr><td>8</td><td>assumption</td><td></td><td><span style=\"font-size:20px;\"><a class=\"ProveItLink\" href=\"__pv_it/7830a645b424cf85101e8a228da749aeb74b1bf90/expr.ipynb\"><img src=\"__pv_it/7830a645b424cf85101e8a228da749aeb74b1bf90/expr.png\" style=\"display:inline;vertical-align:middle;\" /></a> &#x22A2;&nbsp;<a class=\"ProveItLink\" href=\"__pv_it/a165ad1652a7805d5cf22601242154ce12b661320/expr.ipynb\"><img src=\"__pv_it/a165ad1652a7805d5cf22601242154ce12b661320/expr.png\" style=\"display:inline;vertical-align:middle;\" /></a></span></td></tr>\n",
       "<tr><td>9</td><td>assumption</td><td></td><td><span style=\"font-size:20px;\"><a class=\"ProveItLink\" href=\"__pv_it/6e4eaa11086a9b336d84eeb7ea3b827e4e74e1290/expr.ipynb\"><img src=\"__pv_it/6e4eaa11086a9b336d84eeb7ea3b827e4e74e1290/expr.png\" style=\"display:inline;vertical-align:middle;\" /></a> &#x22A2;&nbsp;<a class=\"ProveItLink\" href=\"__pv_it/96e6abdb1d9bd4dea8b8d5957575580a09f9759b0/expr.ipynb\"><img src=\"__pv_it/96e6abdb1d9bd4dea8b8d5957575580a09f9759b0/expr.png\" style=\"display:inline;vertical-align:middle;\" /></a></span></td></tr>\n",
       "</table>"
      ],
      "text/plain": [
       "\tstep type\trequirements\tstatement\n",
       "0\tspecialization\t1, 2, 3, 4, 5, 6, 7, 8, 9\t{A in S , B in S , C in S , D in S , E in S , F in S , G in S , H in S} |= (A , B , C , D , E , F , G , H) in S^{8}\n",
       "\tS : S, a : A, b : B, c : C, d : D, e : E, f : F, g : G, h : H\n",
       "1\ttheorem\t\t|= forall_{S} [forall_{a, b, c, d, e, f, g, h in S} ((a , b , c , d , e , f , g , h) in S^{8})]\n",
       "\tproveit.logic.set_theory.membership.exp_set_8\n",
       "2\tassumption\t\t{A in S} |= A in S\n",
       "3\tassumption\t\t{B in S} |= B in S\n",
       "4\tassumption\t\t{C in S} |= C in S\n",
       "5\tassumption\t\t{D in S} |= D in S\n",
       "6\tassumption\t\t{E in S} |= E in S\n",
       "7\tassumption\t\t{F in S} |= F in S\n",
       "8\tassumption\t\t{G in S} |= G in S\n",
       "9\tassumption\t\t{H in S} |= H in S"
      ]
     },
     "execution_count": 10,
     "metadata": {},
     "output_type": "execute_result"
    }
   ],
   "source": [
    "InSet(ExprList(A,B,C, D, E, F, G, H),Exp(S,eight)).prove([InSet(A,S), InSet(B,S),InSet(C,S), InSet(D,S), InSet(E,S), InSet(F,S), InSet(G,S), InSet(H,S)]).proof()"
   ]
  },
  {
   "cell_type": "code",
   "execution_count": 11,
   "metadata": {
    "scrolled": true
   },
   "outputs": [
    {
     "name": "stdout",
     "output_type": "stream",
     "text": [
      "9 S 9 (A , B , C , D , E , F , G , H , I) S^{9} 9\n"
     ]
    },
    {
     "data": {
      "text/html": [
       "<table><tr><th>&nbsp;</th><th>step type</th><th>requirements</th><th>statement</th></tr>\n",
       "<tr><td>0</td><td>specialization</td><td>1, 2, 3, 4, 5, 6, 7, 8, 9, 10</td><td><span style=\"font-size:20px;\"><a class=\"ProveItLink\" href=\"__pv_it/c673e8361bec21d24b46fe7aa8b4f6fbc5be1e450/expr.ipynb\"><img src=\"__pv_it/c673e8361bec21d24b46fe7aa8b4f6fbc5be1e450/expr.png\" style=\"display:inline;vertical-align:middle;\" /></a> &#x22A2;&nbsp;<a class=\"ProveItLink\" href=\"__pv_it/68b9aaf9e9dc186697cacab0fd5dc7fd68c779df0/expr.ipynb\"><img src=\"__pv_it/68b9aaf9e9dc186697cacab0fd5dc7fd68c779df0/expr.png\" style=\"display:inline;vertical-align:middle;\" /></a></span></td></tr>\n",
       "<tr><td>&nbsp;</td><td colspan=4 style=\"text-align:left\"><span style=\"font-size:20px;\"><a class=\"ProveItLink\" href=\"../../../__pv_it/abeee18594afe51bfb1be95d9591fbba24ac53f30/expr.ipynb\"><img src=\"../../../__pv_it/abeee18594afe51bfb1be95d9591fbba24ac53f30/expr.png\" style=\"display:inline;vertical-align:middle;\" /></a> : <a class=\"ProveItLink\" href=\"../../../__pv_it/abeee18594afe51bfb1be95d9591fbba24ac53f30/expr.ipynb\"><img src=\"../../../__pv_it/abeee18594afe51bfb1be95d9591fbba24ac53f30/expr.png\" style=\"display:inline;vertical-align:middle;\" /></a>, <a class=\"ProveItLink\" href=\"../../../__pv_it/07527342713064c87612d00d8557c53d53d5324a0/expr.ipynb\"><img src=\"../../../__pv_it/07527342713064c87612d00d8557c53d53d5324a0/expr.png\" style=\"display:inline;vertical-align:middle;\" /></a> : <a class=\"ProveItLink\" href=\"../../../__pv_it/2cbe72a7ad6f655694dd697106680215e8489b600/expr.ipynb\"><img src=\"../../../__pv_it/2cbe72a7ad6f655694dd697106680215e8489b600/expr.png\" style=\"display:inline;vertical-align:middle;\" /></a>, <a class=\"ProveItLink\" href=\"../../../__pv_it/6840a4fa6c106149dc16a131294d0c5e44f1b0480/expr.ipynb\"><img src=\"../../../__pv_it/6840a4fa6c106149dc16a131294d0c5e44f1b0480/expr.png\" style=\"display:inline;vertical-align:middle;\" /></a> : <a class=\"ProveItLink\" href=\"../../../__pv_it/077b2ff79244fb4582cbe22c6e3356fa92a52f2f0/expr.ipynb\"><img src=\"../../../__pv_it/077b2ff79244fb4582cbe22c6e3356fa92a52f2f0/expr.png\" style=\"display:inline;vertical-align:middle;\" /></a>, <a class=\"ProveItLink\" href=\"../../../__pv_it/cbdfda466482236edba0ce44ac7ef39cda0af7a40/expr.ipynb\"><img src=\"../../../__pv_it/cbdfda466482236edba0ce44ac7ef39cda0af7a40/expr.png\" style=\"display:inline;vertical-align:middle;\" /></a> : <a class=\"ProveItLink\" href=\"../../../__pv_it/985a1bdf1540838275dec15f4ad6de261cca93ce0/expr.ipynb\"><img src=\"../../../__pv_it/985a1bdf1540838275dec15f4ad6de261cca93ce0/expr.png\" style=\"display:inline;vertical-align:middle;\" /></a>, <a class=\"ProveItLink\" href=\"../../../__pv_it/3a5de44ed6135dbbdbbeec6704c741e238f127300/expr.ipynb\"><img src=\"../../../__pv_it/3a5de44ed6135dbbdbbeec6704c741e238f127300/expr.png\" style=\"display:inline;vertical-align:middle;\" /></a> : <a class=\"ProveItLink\" href=\"../../../__pv_it/185e6d30f167ee2ee5ef3321098dc98e0d77bc590/expr.ipynb\"><img src=\"../../../__pv_it/185e6d30f167ee2ee5ef3321098dc98e0d77bc590/expr.png\" style=\"display:inline;vertical-align:middle;\" /></a>, <a class=\"ProveItLink\" href=\"../../../__pv_it/0bc0f4a545336331111a0b22c4f05a0627b57b8f0/expr.ipynb\"><img src=\"../../../__pv_it/0bc0f4a545336331111a0b22c4f05a0627b57b8f0/expr.png\" style=\"display:inline;vertical-align:middle;\" /></a> : <a class=\"ProveItLink\" href=\"../../../__pv_it/9995c55100c62d7d8a012a35bafc852acbe03cf00/expr.ipynb\"><img src=\"../../../__pv_it/9995c55100c62d7d8a012a35bafc852acbe03cf00/expr.png\" style=\"display:inline;vertical-align:middle;\" /></a>, <a class=\"ProveItLink\" href=\"../../../__pv_it/4d51ee1e62d011d06d4528b97697bf3da60c9de60/expr.ipynb\"><img src=\"../../../__pv_it/4d51ee1e62d011d06d4528b97697bf3da60c9de60/expr.png\" style=\"display:inline;vertical-align:middle;\" /></a> : <a class=\"ProveItLink\" href=\"../../../__pv_it/6d1586c49fb5fd7602fde2bbc54560e7304e8ccf0/expr.ipynb\"><img src=\"../../../__pv_it/6d1586c49fb5fd7602fde2bbc54560e7304e8ccf0/expr.png\" style=\"display:inline;vertical-align:middle;\" /></a>, <a class=\"ProveItLink\" href=\"../../../__pv_it/b5004dd09038f1a7d88dab9010b943185ce1d3ea0/expr.ipynb\"><img src=\"../../../__pv_it/b5004dd09038f1a7d88dab9010b943185ce1d3ea0/expr.png\" style=\"display:inline;vertical-align:middle;\" /></a> : <a class=\"ProveItLink\" href=\"../../../__pv_it/994260d00d104a1ab9cf940a007fb6a4ff36f79e0/expr.ipynb\"><img src=\"../../../__pv_it/994260d00d104a1ab9cf940a007fb6a4ff36f79e0/expr.png\" style=\"display:inline;vertical-align:middle;\" /></a>, <a class=\"ProveItLink\" href=\"../../../__pv_it/3b5a3cc74431604b3beba568cf7dfeb60b1886650/expr.ipynb\"><img src=\"../../../__pv_it/3b5a3cc74431604b3beba568cf7dfeb60b1886650/expr.png\" style=\"display:inline;vertical-align:middle;\" /></a> : <a class=\"ProveItLink\" href=\"../../../__pv_it/fabf74ac81cd36aa91075816201d2b14195a56e60/expr.ipynb\"><img src=\"../../../__pv_it/fabf74ac81cd36aa91075816201d2b14195a56e60/expr.png\" style=\"display:inline;vertical-align:middle;\" /></a>, <a class=\"ProveItLink\" href=\"../../../__pv_it/4cc43b4ba7e5ae9f0f864f240ab9735c1604d8200/expr.ipynb\"><img src=\"../../../__pv_it/4cc43b4ba7e5ae9f0f864f240ab9735c1604d8200/expr.png\" style=\"display:inline;vertical-align:middle;\" /></a> : <a class=\"ProveItLink\" href=\"../../../__pv_it/485fbf85ade6e4660c176b077846a05437e7af3e0/expr.ipynb\"><img src=\"../../../__pv_it/485fbf85ade6e4660c176b077846a05437e7af3e0/expr.png\" style=\"display:inline;vertical-align:middle;\" /></a></span></td></tr><tr><td>1</td><td>theorem</td><td></td><td><span style=\"font-size:20px;\"> &#x22A2;&nbsp;<a class=\"ProveItLink\" href=\"__pv_it/89231cc78a2930e1a69aadda0d78d86a70eabbc80/expr.ipynb\"><img src=\"__pv_it/89231cc78a2930e1a69aadda0d78d86a70eabbc80/expr.png\" style=\"display:inline;vertical-align:middle;\" /></a></span></td></tr>\n",
       "<tr><td>&nbsp;</td><td colspan=4 style-\"text-align:left\"><a class=\"ProveItLink\" href=\"_proofs_/exp_set_9.ipynb\">proveit.logic.set_theory.membership.exp_set_9</a></td></tr><tr><td>2</td><td>assumption</td><td></td><td><span style=\"font-size:20px;\"><a class=\"ProveItLink\" href=\"__pv_it/4d1c435471d957ab67943df8d1b16cdd2e8cdeb30/expr.ipynb\"><img src=\"__pv_it/4d1c435471d957ab67943df8d1b16cdd2e8cdeb30/expr.png\" style=\"display:inline;vertical-align:middle;\" /></a> &#x22A2;&nbsp;<a class=\"ProveItLink\" href=\"__pv_it/9b8b3b636a16b61e9b135ce1006238a0873e42b30/expr.ipynb\"><img src=\"__pv_it/9b8b3b636a16b61e9b135ce1006238a0873e42b30/expr.png\" style=\"display:inline;vertical-align:middle;\" /></a></span></td></tr>\n",
       "<tr><td>3</td><td>assumption</td><td></td><td><span style=\"font-size:20px;\"><a class=\"ProveItLink\" href=\"__pv_it/897a6e39dede04d579c54f9681f5fe367586c13a0/expr.ipynb\"><img src=\"__pv_it/897a6e39dede04d579c54f9681f5fe367586c13a0/expr.png\" style=\"display:inline;vertical-align:middle;\" /></a> &#x22A2;&nbsp;<a class=\"ProveItLink\" href=\"__pv_it/5544901634368d8354c065fb1a8da92b4b12ec050/expr.ipynb\"><img src=\"__pv_it/5544901634368d8354c065fb1a8da92b4b12ec050/expr.png\" style=\"display:inline;vertical-align:middle;\" /></a></span></td></tr>\n",
       "<tr><td>4</td><td>assumption</td><td></td><td><span style=\"font-size:20px;\"><a class=\"ProveItLink\" href=\"__pv_it/d2c1cf223135f04f6b9e4af4daa990e67ba15def0/expr.ipynb\"><img src=\"__pv_it/d2c1cf223135f04f6b9e4af4daa990e67ba15def0/expr.png\" style=\"display:inline;vertical-align:middle;\" /></a> &#x22A2;&nbsp;<a class=\"ProveItLink\" href=\"__pv_it/5fa2ac4f6a581acdb8de502fb442d339f25977570/expr.ipynb\"><img src=\"__pv_it/5fa2ac4f6a581acdb8de502fb442d339f25977570/expr.png\" style=\"display:inline;vertical-align:middle;\" /></a></span></td></tr>\n",
       "<tr><td>5</td><td>assumption</td><td></td><td><span style=\"font-size:20px;\"><a class=\"ProveItLink\" href=\"__pv_it/53436136476e567af9d28427f9f8bb1525d1b9210/expr.ipynb\"><img src=\"__pv_it/53436136476e567af9d28427f9f8bb1525d1b9210/expr.png\" style=\"display:inline;vertical-align:middle;\" /></a> &#x22A2;&nbsp;<a class=\"ProveItLink\" href=\"__pv_it/4ed22a20510b00fcfdf77798d6e4402e206ac18f0/expr.ipynb\"><img src=\"__pv_it/4ed22a20510b00fcfdf77798d6e4402e206ac18f0/expr.png\" style=\"display:inline;vertical-align:middle;\" /></a></span></td></tr>\n",
       "<tr><td>6</td><td>assumption</td><td></td><td><span style=\"font-size:20px;\"><a class=\"ProveItLink\" href=\"__pv_it/f4a3ee9c84e2ce33b239d1e2d7f963c470d7553f0/expr.ipynb\"><img src=\"__pv_it/f4a3ee9c84e2ce33b239d1e2d7f963c470d7553f0/expr.png\" style=\"display:inline;vertical-align:middle;\" /></a> &#x22A2;&nbsp;<a class=\"ProveItLink\" href=\"__pv_it/0425bb40311e551d584dd6b415d766dae1efd99d0/expr.ipynb\"><img src=\"__pv_it/0425bb40311e551d584dd6b415d766dae1efd99d0/expr.png\" style=\"display:inline;vertical-align:middle;\" /></a></span></td></tr>\n",
       "<tr><td>7</td><td>assumption</td><td></td><td><span style=\"font-size:20px;\"><a class=\"ProveItLink\" href=\"__pv_it/b15bfe6ea952e86910dfb3a75d7f3cc9da2a1cb40/expr.ipynb\"><img src=\"__pv_it/b15bfe6ea952e86910dfb3a75d7f3cc9da2a1cb40/expr.png\" style=\"display:inline;vertical-align:middle;\" /></a> &#x22A2;&nbsp;<a class=\"ProveItLink\" href=\"__pv_it/e01103c5cc2c26bc20aa152f57ecbb2208705b3f0/expr.ipynb\"><img src=\"__pv_it/e01103c5cc2c26bc20aa152f57ecbb2208705b3f0/expr.png\" style=\"display:inline;vertical-align:middle;\" /></a></span></td></tr>\n",
       "<tr><td>8</td><td>assumption</td><td></td><td><span style=\"font-size:20px;\"><a class=\"ProveItLink\" href=\"__pv_it/7830a645b424cf85101e8a228da749aeb74b1bf90/expr.ipynb\"><img src=\"__pv_it/7830a645b424cf85101e8a228da749aeb74b1bf90/expr.png\" style=\"display:inline;vertical-align:middle;\" /></a> &#x22A2;&nbsp;<a class=\"ProveItLink\" href=\"__pv_it/a165ad1652a7805d5cf22601242154ce12b661320/expr.ipynb\"><img src=\"__pv_it/a165ad1652a7805d5cf22601242154ce12b661320/expr.png\" style=\"display:inline;vertical-align:middle;\" /></a></span></td></tr>\n",
       "<tr><td>9</td><td>assumption</td><td></td><td><span style=\"font-size:20px;\"><a class=\"ProveItLink\" href=\"__pv_it/6e4eaa11086a9b336d84eeb7ea3b827e4e74e1290/expr.ipynb\"><img src=\"__pv_it/6e4eaa11086a9b336d84eeb7ea3b827e4e74e1290/expr.png\" style=\"display:inline;vertical-align:middle;\" /></a> &#x22A2;&nbsp;<a class=\"ProveItLink\" href=\"__pv_it/96e6abdb1d9bd4dea8b8d5957575580a09f9759b0/expr.ipynb\"><img src=\"__pv_it/96e6abdb1d9bd4dea8b8d5957575580a09f9759b0/expr.png\" style=\"display:inline;vertical-align:middle;\" /></a></span></td></tr>\n",
       "<tr><td>10</td><td>assumption</td><td></td><td><span style=\"font-size:20px;\"><a class=\"ProveItLink\" href=\"__pv_it/b0532026e2333064a35bd7e5d882c1bcdcfebdd90/expr.ipynb\"><img src=\"__pv_it/b0532026e2333064a35bd7e5d882c1bcdcfebdd90/expr.png\" style=\"display:inline;vertical-align:middle;\" /></a> &#x22A2;&nbsp;<a class=\"ProveItLink\" href=\"__pv_it/1741f9d26455423c598be01e1f0aa839bdf0291a0/expr.ipynb\"><img src=\"__pv_it/1741f9d26455423c598be01e1f0aa839bdf0291a0/expr.png\" style=\"display:inline;vertical-align:middle;\" /></a></span></td></tr>\n",
       "</table>"
      ],
      "text/plain": [
       "\tstep type\trequirements\tstatement\n",
       "0\tspecialization\t1, 2, 3, 4, 5, 6, 7, 8, 9, 10\t{A in S , B in S , C in S , D in S , E in S , F in S , G in S , H in S , I in S} |= (A , B , C , D , E , F , G , H , I) in S^{9}\n",
       "\tS : S, a : A, b : B, c : C, d : D, e : E, f : F, g : G, h : H, i : I\n",
       "1\ttheorem\t\t|= forall_{S} [forall_{a, b, c, d, e, f, g, h, i in S} ((a , b , c , d , e , f , g , h , i) in S^{9})]\n",
       "\tproveit.logic.set_theory.membership.exp_set_9\n",
       "2\tassumption\t\t{A in S} |= A in S\n",
       "3\tassumption\t\t{B in S} |= B in S\n",
       "4\tassumption\t\t{C in S} |= C in S\n",
       "5\tassumption\t\t{D in S} |= D in S\n",
       "6\tassumption\t\t{E in S} |= E in S\n",
       "7\tassumption\t\t{F in S} |= F in S\n",
       "8\tassumption\t\t{G in S} |= G in S\n",
       "9\tassumption\t\t{H in S} |= H in S\n",
       "10\tassumption\t\t{I in S} |= I in S"
      ]
     },
     "execution_count": 11,
     "metadata": {},
     "output_type": "execute_result"
    }
   ],
   "source": [
    "InSet(ExprList(A,B,C, D, E, F, G, H, I),Exp(S,nine)).prove([InSet(A,S), InSet(B,S),InSet(C,S), InSet(D,S), InSet(E,S), InSet(F,S), InSet(G,S), InSet(H,S), InSet(I,S)]).proof()"
   ]
  },
  {
   "cell_type": "code",
   "execution_count": 12,
   "metadata": {},
   "outputs": [
    {
     "data": {
      "text/html": [
       "<table><tr><th>&nbsp;</th><th>step type</th><th>requirements</th><th>statement</th></tr>\n",
       "<tr><td>0</td><td>specialization</td><td>1, 2</td><td><span style=\"font-size:20px;\"><a class=\"ProveItLink\" href=\"__pv_it/1d64389c3ac32ad5d31c8dca3a7431e1033f727a0/expr.ipynb\"><img src=\"__pv_it/1d64389c3ac32ad5d31c8dca3a7431e1033f727a0/expr.png\" style=\"display:inline;vertical-align:middle;\" /></a> &#x22A2;&nbsp;<a class=\"ProveItLink\" href=\"__pv_it/bc3353a22e35577bcc1b24e0ddd29d96cdd8ba000/expr.ipynb\"><img src=\"__pv_it/bc3353a22e35577bcc1b24e0ddd29d96cdd8ba000/expr.png\" style=\"display:inline;vertical-align:middle;\" /></a></span></td></tr>\n",
       "<tr><td>&nbsp;</td><td colspan=4 style=\"text-align:left\"><span style=\"font-size:20px;\"><a class=\"ProveItLink\" href=\"../../../__pv_it/530be409e3083890784cf1d7b28c9e67e90af9360/expr.ipynb\"><img src=\"../../../__pv_it/530be409e3083890784cf1d7b28c9e67e90af9360/expr.png\" style=\"display:inline;vertical-align:middle;\" /></a> : <a class=\"ProveItLink\" href=\"../../../__pv_it/530be409e3083890784cf1d7b28c9e67e90af9360/expr.ipynb\"><img src=\"../../../__pv_it/530be409e3083890784cf1d7b28c9e67e90af9360/expr.png\" style=\"display:inline;vertical-align:middle;\" /></a>, <a class=\"ProveItLink\" href=\"../../../__pv_it/abeee18594afe51bfb1be95d9591fbba24ac53f30/expr.ipynb\"><img src=\"../../../__pv_it/abeee18594afe51bfb1be95d9591fbba24ac53f30/expr.png\" style=\"display:inline;vertical-align:middle;\" /></a> : <a class=\"ProveItLink\" href=\"../../../__pv_it/abeee18594afe51bfb1be95d9591fbba24ac53f30/expr.ipynb\"><img src=\"../../../__pv_it/abeee18594afe51bfb1be95d9591fbba24ac53f30/expr.png\" style=\"display:inline;vertical-align:middle;\" /></a></span></td></tr><tr><td>1</td><td>theorem</td><td></td><td><span style=\"font-size:20px;\"> &#x22A2;&nbsp;<a class=\"ProveItLink\" href=\"__pv_it/d10f3be06608f5f735045a265bd9e698647c10e70/expr.ipynb\"><img src=\"__pv_it/d10f3be06608f5f735045a265bd9e698647c10e70/expr.png\" style=\"display:inline;vertical-align:middle;\" /></a></span></td></tr>\n",
       "<tr><td>&nbsp;</td><td colspan=4 style-\"text-align:left\"><a class=\"ProveItLink\" href=\"_proofs_/unfoldNotInSet.ipynb\">proveit.logic.set_theory.membership.unfoldNotInSet</a></td></tr><tr><td>2</td><td>assumption</td><td></td><td><span style=\"font-size:20px;\"><a class=\"ProveItLink\" href=\"__pv_it/1d64389c3ac32ad5d31c8dca3a7431e1033f727a0/expr.ipynb\"><img src=\"__pv_it/1d64389c3ac32ad5d31c8dca3a7431e1033f727a0/expr.png\" style=\"display:inline;vertical-align:middle;\" /></a> &#x22A2;&nbsp;<a class=\"ProveItLink\" href=\"__pv_it/fbd721818b5589580889295ce23b9aeec6bb71b10/expr.ipynb\"><img src=\"__pv_it/fbd721818b5589580889295ce23b9aeec6bb71b10/expr.png\" style=\"display:inline;vertical-align:middle;\" /></a></span></td></tr>\n",
       "</table>"
      ],
      "text/plain": [
       "\tstep type\trequirements\tstatement\n",
       "0\tspecialization\t1, 2\t{x not-in S} |= [not](x in S)\n",
       "\tx : x, S : S\n",
       "1\ttheorem\t\t|= forall_{x, S | x not-in S} [not](x in S)\n",
       "\tproveit.logic.set_theory.membership.unfoldNotInSet\n",
       "2\tassumption\t\t{x not-in S} |= x not-in S"
      ]
     },
     "execution_count": 12,
     "metadata": {},
     "output_type": "execute_result"
    }
   ],
   "source": [
    "Not(InSet(x,S)).prove([NotInSet(x,S)]).proof()"
   ]
  },
  {
   "cell_type": "code",
   "execution_count": 13,
   "metadata": {},
   "outputs": [
    {
     "data": {
      "text/html": [
       "<table><tr><th>&nbsp;</th><th>step type</th><th>requirements</th><th>statement</th></tr>\n",
       "<tr><td>0</td><td>specialization</td><td>1, 2</td><td><span style=\"font-size:20px;\"><a class=\"ProveItLink\" href=\"__pv_it/e4d9a26a9659914291d1e9631990f7961be228bc0/expr.ipynb\"><img src=\"__pv_it/e4d9a26a9659914291d1e9631990f7961be228bc0/expr.png\" style=\"display:inline;vertical-align:middle;\" /></a> &#x22A2;&nbsp;<a class=\"ProveItLink\" href=\"__pv_it/fbd721818b5589580889295ce23b9aeec6bb71b10/expr.ipynb\"><img src=\"__pv_it/fbd721818b5589580889295ce23b9aeec6bb71b10/expr.png\" style=\"display:inline;vertical-align:middle;\" /></a></span></td></tr>\n",
       "<tr><td>&nbsp;</td><td colspan=4 style=\"text-align:left\"><span style=\"font-size:20px;\"><a class=\"ProveItLink\" href=\"../../../__pv_it/530be409e3083890784cf1d7b28c9e67e90af9360/expr.ipynb\"><img src=\"../../../__pv_it/530be409e3083890784cf1d7b28c9e67e90af9360/expr.png\" style=\"display:inline;vertical-align:middle;\" /></a> : <a class=\"ProveItLink\" href=\"../../../__pv_it/530be409e3083890784cf1d7b28c9e67e90af9360/expr.ipynb\"><img src=\"../../../__pv_it/530be409e3083890784cf1d7b28c9e67e90af9360/expr.png\" style=\"display:inline;vertical-align:middle;\" /></a>, <a class=\"ProveItLink\" href=\"../../../__pv_it/abeee18594afe51bfb1be95d9591fbba24ac53f30/expr.ipynb\"><img src=\"../../../__pv_it/abeee18594afe51bfb1be95d9591fbba24ac53f30/expr.png\" style=\"display:inline;vertical-align:middle;\" /></a> : <a class=\"ProveItLink\" href=\"../../../__pv_it/abeee18594afe51bfb1be95d9591fbba24ac53f30/expr.ipynb\"><img src=\"../../../__pv_it/abeee18594afe51bfb1be95d9591fbba24ac53f30/expr.png\" style=\"display:inline;vertical-align:middle;\" /></a></span></td></tr><tr><td>1</td><td>theorem</td><td></td><td><span style=\"font-size:20px;\"> &#x22A2;&nbsp;<a class=\"ProveItLink\" href=\"__pv_it/8a72132f051a6ad2b86ee018550985800cafbabf0/expr.ipynb\"><img src=\"__pv_it/8a72132f051a6ad2b86ee018550985800cafbabf0/expr.png\" style=\"display:inline;vertical-align:middle;\" /></a></span></td></tr>\n",
       "<tr><td>&nbsp;</td><td colspan=4 style-\"text-align:left\"><a class=\"ProveItLink\" href=\"_proofs_/foldNotInSet.ipynb\">proveit.logic.set_theory.membership.foldNotInSet</a></td></tr><tr><td>2</td><td>assumption</td><td></td><td><span style=\"font-size:20px;\"><a class=\"ProveItLink\" href=\"__pv_it/e4d9a26a9659914291d1e9631990f7961be228bc0/expr.ipynb\"><img src=\"__pv_it/e4d9a26a9659914291d1e9631990f7961be228bc0/expr.png\" style=\"display:inline;vertical-align:middle;\" /></a> &#x22A2;&nbsp;<a class=\"ProveItLink\" href=\"__pv_it/bc3353a22e35577bcc1b24e0ddd29d96cdd8ba000/expr.ipynb\"><img src=\"__pv_it/bc3353a22e35577bcc1b24e0ddd29d96cdd8ba000/expr.png\" style=\"display:inline;vertical-align:middle;\" /></a></span></td></tr>\n",
       "</table>"
      ],
      "text/plain": [
       "\tstep type\trequirements\tstatement\n",
       "0\tspecialization\t1, 2\t{[not](x in S)} |= x not-in S\n",
       "\tx : x, S : S\n",
       "1\ttheorem\t\t|= forall_{x, S | [not](x in S)} (x not-in S)\n",
       "\tproveit.logic.set_theory.membership.foldNotInSet\n",
       "2\tassumption\t\t{[not](x in S)} |= [not](x in S)"
      ]
     },
     "execution_count": 13,
     "metadata": {},
     "output_type": "execute_result"
    }
   ],
   "source": [
    "NotInSet(x,S).prove([Not(InSet(x,S))]).proof()"
   ]
  },
  {
   "cell_type": "code",
   "execution_count": 14,
   "metadata": {},
   "outputs": [],
   "source": [
    "%end demonstrations"
   ]
  }
 ],
 "metadata": {
  "kernelspec": {
   "display_name": "Python 3",
   "language": "python",
   "name": "python3"
  },
  "language_info": {
   "codemirror_mode": {
    "name": "ipython",
    "version": 3
   },
   "file_extension": ".py",
   "mimetype": "text/x-python",
   "name": "python",
   "nbconvert_exporter": "python",
   "pygments_lexer": "ipython3",
   "version": "3.7.3"
  }
 },
 "nbformat": 4,
 "nbformat_minor": 1
}
