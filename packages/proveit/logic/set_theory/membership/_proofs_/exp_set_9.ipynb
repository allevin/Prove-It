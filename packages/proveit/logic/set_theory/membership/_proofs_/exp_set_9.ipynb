{
 "cells": [
  {
   "cell_type": "markdown",
   "metadata": {},
   "source": [
    "Proof of <a class=\"ProveItLink\" href=\"../../../../_context_.ipynb\">proveit</a>.<a class=\"ProveItLink\" href=\"../../../_context_.ipynb\">logic</a>.<a class=\"ProveItLink\" href=\"../../_context_.ipynb\">set_theory</a>.<a class=\"ProveItLink\" href=\"../_context_.ipynb\">membership</a>.<a class=\"ProveItLink\" href=\"../_theorems_.ipynb#exp_set_9\">exp_set_9</a> theorem\n",
    "========"
   ]
  },
  {
   "cell_type": "code",
   "execution_count": 1,
   "metadata": {},
   "outputs": [],
   "source": [
    "import proveit\n",
    "context = proveit.Context('..') # the theorem's context is in the parent directory"
   ]
  },
  {
   "cell_type": "code",
   "execution_count": 2,
   "metadata": {},
   "outputs": [
    {
     "name": "stdout",
     "output_type": "stream",
     "text": [
      "Beginning proof of exp_set_9\n",
      "Recorded 'presuming' information\n",
      "Presuming previous theorems (applied transitively).\n"
     ]
    },
    {
     "data": {
      "text/html": [
       "<strong id=\"exp_set_9\">exp_set_9:</strong> <a class=\"ProveItLink\" href=\"../__pv_it/1d4498cad70331a3a670bac26f615c3169052e250/expr.ipynb\"><img src=\"data:image/png;base64,iVBORw0KGgoAAAANSUhEUgAAAcYAAAAcBAMAAAAJngLnAAAAMFBMVEX///8QEBC6urrMzMxUVFRm\n",
       "ZmZERETc3NwyMjKqqqp2dnaIiIiYmJgiIiLu7u4AAAAU9Wx4AAAAAXRSTlMAQObYZgAABplJREFU\n",
       "WMPlWFtsFGUUPp3Z3dnZmZ02qCFCgEVBSIx2Sbg8GYpyixCpwYJSLo3RElII+1BaXqQbA+mDQDYx\n",
       "Gn0gbDCA0GgWkEp2i0604B2riBi0ZlEujQR3A6Gbhgqe/zaXnaX0YakJTjL/nDn/9Tv3GYD79Erv\n",
       "hfv90mr12qH6N/TGyr/pIyOLsTJq3IIkElLvuVL9PfdgT7lmZDHOjsEATKdk80hh7MuOLMa2GAyC\n",
       "lmIYs6UwGmXfczExm1T5seiR0vyKiHIT4CzDSJX2TRHGMJ1exiMpVdhMdzCMOaWs5bGHPCxj0YIi\n",
       "zoVxFhmIw1LvKt11qz9TG7RBgI8YxgPksbMIYyiBj2AZzctfW7xLsKSDDng4gQODxaxtdmcKgp4Z\n",
       "QRMu5eHxjwsAuSzF2EKk3FCEkTJaymhSFWhSmssuKhMlhkm3PKzck4khBaEni7ufBVDjBkhxgLBJ\n",
       "MRJt+RPFMYeI/KVyhjmC02UX1aWsJOQ14N13EYRRxZ5XdvT+wtziOkbxVDAViCKwBopR39/a+pon\n",
       "rn7d2tpazvB6CO+pLs4HpYYFvXl71d0EsY7lpu1CZhKqWY6qB4mj6nmWO/obG895MFY2Nm5IlhHj\n",
       "QrxXECEv2jOacbZmFvO+vzqOMKI5Xc0NalPHchE/xs3j1In0SS6IlZm1fCZZktVsLZZZKLePuFWO\n",
       "GJ8BIFNmHOyK2hh9UQhYxc7UuCt8XHNayjzbybQxXM5CGfKKjs85+Qre2/GeGAvk2cR+LEXYqFGw\n",
       "gx1oNGxkJ1XPwiax6k2xbY1yg3toO7zAqGQ1Nu9Qcq19pk9v94ujy9cZxklgIAapFqodepRqoM82\n",
       "DpcFGXkn4LSj70cuPLHDZJDyjlA4CmU8yFwEYdyCCmYo51OwnqVtE17kCTxipQTiXfT6Pitize4o\n",
       "zGcIEsSQJ9JDOaKm0j1hvCCvMYxh0EzSQsBZ5/RAl+0lrpCkOrUadqRgwxELrtStpOuIrc/gjfv5\n",
       "8hBmivfHoZKJZ4mYgwR3mjnfZoScVCGlB0EuWB7KxhkwloczkMb19vKYQ5Qi0o0xwDBqZjhLM4nu\n",
       "xNgFv9th3lWiu7Ra6YiOkh0LtJe3/E0xm26MlQ2QYxYaRrthnf1iUj8Y3A1ueAOMOgAaJ88x9TBj\n",
       "4Bgd5TCuagwW6dGIk/ojPCbiqlf7yCylfh85UXXmOSKTFRkyq/59olWjI0OT08Z6+q2WJvoKLeok\n",
       "o6VOjA90nR/2WEtuxfthNMIU5oIsT49rKKEIh0NCzRsuHyRZnh9eK0CACRcFEaoyeB2RFbZqydfA\n",
       "UUrBaemkJl/7NOl6/nbCiTHQjJivxtrIOY5DN7ZXo8RhOWtz9gId+iXTrI9sH4zr5EBXUO3MnC9O\n",
       "sLI1cSD0ulwCFqpRg377wBhWFqPMdYIb7coXf5NKAE1Q4zVzRQoohVkAxcKpiuQXdFxbJMmPAIud\n",
       "ruQXWpUKHONbTAbNVU6MKnHnefAUeW+C77CdC39S1jQaJzOf0KE0cLdlAwl6bGrGW3aBzNOOMkcs\n",
       "eZyNDZrqmRDkSOBO4EEIgSvCe8Y/NO7uqk1S6hgYy1kn5FDUhELDXxJjM+No72zcbsUUueOqMEP/\n",
       "rwCdVhHE8yMTVcQRL+niY6kH0aL2AVjG3MlmiWhHI+Ix5pbTeHBqAvnnxsYm+ANPZ1U1eD9B0uPh\n",
       "mYfhfIGU2hiUCAH+jkzWmIAu35x5tClCqVB9hnfScohSkzKrGBVMgf8gmxEgDvM6E+c2nvl80tz5\n",
       "puXNcY5Rx2XUBMgNLoynqOzWX0YyD7/hS4HHTsoqcFMaRZo6pttOaJPokKhBbeVdgJn2ZznK0gpd\n",
       "UzyElW8c1BQmP2vYq84J1jhRy6kL7bhqZ4SU4xsZs5ad8y3/HS9fP6W0Q48ax/Y0hC63C9Y6uAib\n",
       "YwQyvpxAO8ZHE3SHkKnGk0A/h5Y5MrMv6ayeTQ+hg5fCTr1mPacklgdMz7jQUF+AuZgT44y65d7/\n",
       "AJO7jpryIExOA7bNmQ8JzVgX0B9nmyBXkR5/ejt5tMPM/chUmmJwiXjH0ro6S2xyj/PbatgYK3b2\n",
       "cGpNzFdTEmPfUCXkyWH+69A9rXiYQP596dRjrT3ZKfahP3oqZ7GZBsUEpLwU6dT3xjj1dmala4I1\n",
       "bsFQGE8PE+MsT8sfcizYjW42S2kg2Z93yXf4pbeZxIV78K9Diw71I6R2mBhNT8sfOoZE8iK/cTRr\n",
       "del32E5NwshfLXf+L9d7L/6vfvUfYFxN/6/+BP+D61+/uPqL7c61FAAAAABJRU5ErkJggg==\n",
       "\" style=\"display:inline;vertical-align:middle;\" /></a><br>(see <a class=\"ProveItLink\" href=\"../__pv_it/1d4498cad70331a3a670bac26f615c3169052e250/dependencies.ipynb\">dependencies</a>)<br>"
      ],
      "text/plain": [
       "exp_set_9: forall_{S} [forall_{a, b, c, d, e, f, g, h, i in S} ((a , b , c , d , e , f , g , h , i) in S^{9})]"
      ]
     },
     "execution_count": 2,
     "metadata": {},
     "output_type": "execute_result"
    }
   ],
   "source": [
    "%proving exp_set_9 presuming []"
   ]
  },
  {
   "cell_type": "code",
   "execution_count": null,
   "metadata": {},
   "outputs": [],
   "source": []
  }
 ],
 "metadata": {
  "kernelspec": {
   "display_name": "Python 3",
   "language": "python",
   "name": "python3"
  }
 },
 "nbformat": 4,
 "nbformat_minor": 0
}
