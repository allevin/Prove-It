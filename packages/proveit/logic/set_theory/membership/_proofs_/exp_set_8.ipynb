{
 "cells": [
  {
   "cell_type": "markdown",
   "metadata": {},
   "source": [
    "Proof of <a class=\"ProveItLink\" href=\"../../../../_context_.ipynb\">proveit</a>.<a class=\"ProveItLink\" href=\"../../../_context_.ipynb\">logic</a>.<a class=\"ProveItLink\" href=\"../../_context_.ipynb\">set_theory</a>.<a class=\"ProveItLink\" href=\"../_context_.ipynb\">membership</a>.<a class=\"ProveItLink\" href=\"../_theorems_.ipynb#exp_set_8\">exp_set_8</a> theorem\n",
    "========"
   ]
  },
  {
   "cell_type": "code",
   "execution_count": 1,
   "metadata": {},
   "outputs": [],
   "source": [
    "import proveit\n",
    "context = proveit.Context('..') # the theorem's context is in the parent directory"
   ]
  },
  {
   "cell_type": "code",
   "execution_count": 2,
   "metadata": {},
   "outputs": [
    {
     "name": "stdout",
     "output_type": "stream",
     "text": [
      "Beginning proof of exp_set_8\n",
      "Recorded 'presuming' information\n",
      "Presuming previous theorems (applied transitively).\n"
     ]
    },
    {
     "data": {
      "text/html": [
       "<strong id=\"exp_set_8\">exp_set_8:</strong> <a class=\"ProveItLink\" href=\"../__pv_it/38f908ff8adb905fc17ff1854568668f58a5fac30/expr.ipynb\"><img src=\"data:image/png;base64,iVBORw0KGgoAAAANSUhEUgAAAaoAAAAcBAMAAADCReYZAAAAMFBMVEX///8QEBC6urrMzMxUVFRm\n",
       "ZmZERETc3NwyMjKqqqp2dnaIiIiYmJgiIiLu7u4AAAAU9Wx4AAAAAXRSTlMAQObYZgAABjNJREFU\n",
       "WMPdWFtsFFUY/vc63e50lugDCRG7eIkPRlkTQB80XQQRXSNrcNG0iOutREGdhwpNjHYfJEIoZBM1\n",
       "0QfCiqKBIlmBImkhTLCQaBOsIpJgNhkMEILRbdzQSrj5n/+cMzuX3aZpah84DzP/fufsnPP9l++c\n",
       "GYCbpg326nDTtaiuZcfqf7M0qaTvmBpWYRNyUEDDXzpdq39oUmcLJKeGVfCEkoQ5ZHb8/6wumFPD\n",
       "SmnOmBAtclZmLVaTuZCn2OXeSXzgkTr4/msJgFOcFQVm0MWqBjhhF05zZ+HZmTWG+V9KuyEt9bgb\n",
       "mc8WFkp4/j2QWXEklH/kOsA+zmoHu212saoBTrSF2GobHMH/oNa4WN5T/juuuqEGop7zwAacH74A\n",
       "0A1QNonVGubPrItVDXCizRfHS78Dulxr3GxP1pfvz9em/qMbfhIgksM1HwRoMogVc2Mo72JVA5xo\n",
       "a2GX2x3Jdr3WuG88yNZ61M+IfDxQKlHYlArmeLFBh6dx1VlipX69du17brWoAU60fct4OHKmsabG\n",
       "rvMgL9SjHub+fui4dBMGP5DQWnfiNqsOc2UfaW8/7VF2LzjRtpjVFtscO/pm8c29IbXP4H0Xe/YK\n",
       "SUltE2mptMpzz8DMx8Qj1LZdohrWDe7H3kaqLuUtS5Bu7HUmArJaALASrbk7DyaqrATIB653LPPF\n",
       "uF3P2mxRKVR33tae74X5Kq9m8E+Ht0W9ZKHCR90Cmzg0Sw+LtNyiK1IMr8inPQtdHNP+1UNJVkMU\n",
       "seoB6PCNEfkjUOGs7gINR/nTMNsWKw6Ktt1ZxPYfbba+pirdu8E/bMssphhdBiwT9WLCDDLOFGE1\n",
       "d/ZVCPHplH8s4VYqMlTXpUBGKhDEqPnZZgHnbbvHQLOsXHwAsWqCqMGuELax4qBoGxysPrX/+MVO\n",
       "l0r5z8xyeoJU0JNMupDVEoDfOfI8wCUylliHnWFo4oEO3jb4nQAj0i++JLTwUISGaFyAemaVSkIt\n",
       "WK3KTUC7zFlFjSaTlqTaWHFQtFEHK0fk7HJ2H52cX37/b9AQNlysRkCrSMTP1zBiCXYWyjzQsbRX\n",
       "VLbm4ZDIhgJ0xSWrOdZInEq76oqVlmP9TTPidrXg4Dt9r7C6urKPMTzXUySIInexnw5cxy7Rra+P\n",
       "RebLfhx9lJ7w8zbHluvLg3IFna+J7SpEzlCswukqooyTF2PF6iYszyOHdXhNZEMcPsdxPAP/sk4c\n",
       "6AlFel4RdQUrH2Vdz9zI20+3DNROKWz66JCKE2gnWKkISNms0ZwqZUBjOshcvB4G5L5/rtnaaRex\n",
       "BRosM4K5j2jpFfAVyED/qmSU87A4kmCcfciqyAkyk6yfaN8W1gxVF7MGZTYw8QhJF/hHBatPeKg7\n",
       "ptlZMTCYDjAzXFTZj6SWIIgNC6f6Tc6HXG3SDlLB5AwIHVTmy4cdEsO6YUu6oF3DX0+gqJGByv0F\n",
       "GQ1G5GQjlFnm5+CcThjlJFllMzjKrcWYxY1yVk3WdAjrdb+cTu5X5BQtDtqwnRUDY/Eoc4EvwTbs\n",
       "GGWogGJCp8LkrwMQQ45IdwMEfmtvXwV/2JSSKasfn9jRf+equNaMZX+2F0PHjFBPv0mGktozbw+c\n",
       "YW7ejqlNGJ0jyPKneoe4tRGgdTc6gRdL51KhNf6Fiyxpa8wJVir+PZKHQNbOSiUFCR/HZ8XocFXW\n",
       "uc5xSBdZQs/PwAMsUbPKcJwn5mcA8ywlYA6Ybu19el0D4B7HqAPV3nDaMU6cmODjTSXvQbdoe2vE\n",
       "aFR3NSk+PrPlYbNTb0Ixx2sCdnfqAgrntbTyISkn3o7CQhyAiZosAL08LLPt4cGC/Tyq1jeqsskw\n",
       "Nbla9sZZ3dnH9YxxlCHnW6zmZp7zvAv72waXQ4vhbyvgVUn1mcwmSMO6CmCxY4zwFurrRqxBD7yh\n",
       "w3kWvaWZjOUiKk3rTWTcrHybh4QVGkWn2cdpuTFYHRvnG77huYqbynWcTXdrdUlfYV052utMPKRE\n",
       "WcLtNSAKNkzdrgsrsqrXcIwLjvWt6MT4WAV091XeHoTuBeymZFENAnWn6mSXdyfxDX/vGH1qenys\n",
       "VM9V3gxoZQ40Aht7TXsiuVqkMIUfBdfU/8ZUmtzvgT9MIasV9D3wV7gp23+NPe76BxGV/wAAAABJ\n",
       "RU5ErkJggg==\n",
       "\" style=\"display:inline;vertical-align:middle;\" /></a><br>(see <a class=\"ProveItLink\" href=\"../__pv_it/38f908ff8adb905fc17ff1854568668f58a5fac30/dependencies.ipynb\">dependencies</a>)<br>"
      ],
      "text/plain": [
       "exp_set_8: forall_{S} [forall_{a, b, c, d, e, f, g, h in S} ((a , b , c , d , e , f , g , h) in S^{8})]"
      ]
     },
     "execution_count": 2,
     "metadata": {},
     "output_type": "execute_result"
    }
   ],
   "source": [
    "%proving exp_set_8 presuming []"
   ]
  },
  {
   "cell_type": "code",
   "execution_count": null,
   "metadata": {},
   "outputs": [],
   "source": []
  }
 ],
 "metadata": {
  "kernelspec": {
   "display_name": "Python 3",
   "language": "python",
   "name": "python3"
  }
 },
 "nbformat": 4,
 "nbformat_minor": 0
}
