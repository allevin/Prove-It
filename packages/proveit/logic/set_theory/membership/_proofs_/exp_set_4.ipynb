{
 "cells": [
  {
   "cell_type": "markdown",
   "metadata": {},
   "source": [
    "Proof of <a class=\"ProveItLink\" href=\"../../../../_context_.ipynb\">proveit</a>.<a class=\"ProveItLink\" href=\"../../../_context_.ipynb\">logic</a>.<a class=\"ProveItLink\" href=\"../../_context_.ipynb\">set_theory</a>.<a class=\"ProveItLink\" href=\"../_context_.ipynb\">membership</a>.<a class=\"ProveItLink\" href=\"../_theorems_.ipynb#exp_set_4\">exp_set_4</a> theorem\n",
    "========"
   ]
  },
  {
   "cell_type": "code",
   "execution_count": 1,
   "metadata": {},
   "outputs": [],
   "source": [
    "import proveit\n",
    "context = proveit.Context('..') # the theorem's context is in the parent directory"
   ]
  },
  {
   "cell_type": "code",
   "execution_count": 2,
   "metadata": {},
   "outputs": [
    {
     "name": "stdout",
     "output_type": "stream",
     "text": [
      "Beginning proof of exp_set_4\n",
      "Recorded 'presuming' information\n",
      "Presuming previous theorems (applied transitively).\n"
     ]
    },
    {
     "data": {
      "text/html": [
       "<strong id=\"exp_set_4\">exp_set_4:</strong> <a class=\"ProveItLink\" href=\"../__pv_it/cb8b5b8e643e98474f691f6de455e22287663bbf0/expr.ipynb\"><img src=\"data:image/png;base64,iVBORw0KGgoAAAANSUhEUgAAASMAAAAcBAMAAADYVcTSAAAAMFBMVEX///8QEBC6urrMzMxUVFRm\n",
       "ZmZERETc3NwyMjKqqqp2dnaIiIiYmJgiIiLu7u4AAAAU9Wx4AAAAAXRSTlMAQObYZgAABJBJREFU\n",
       "WMPNV29oW1UU//Wl6Wua5LUoMphs7dSKINIITvGDWHWbm4qNzEzd5iwiKaMb5kNoBNEFcezLJgEZ\n",
       "6AcxKM4/Ba3sz4emw4dW0YmjMvzDNBJ1bsVSGxrsGFbrOfe++/LyXhITuw+98O47757753fP+Z1z\n",
       "7wNWSGnHiiuvF+pp9+YTTc94zTIRGR8UkKX3TflsNfVU8zP6+pcJKThXwC0s6P2XCdJ0YZmQbidI\n",
       "wTEJqVANktHsjA9wdeN/9wv11FBkCRK+k5CESb50QQqL4WMNI9K73M47t6ZKt+uvwlZv62Rs18eh\n",
       "BEM6JiG9y60vuSB1ZDgsG3eGP+rp/2K1fpeqxHq7ifPFGTAkfgjSCCMbdEESDSON+62F/ZFzre4t\n",
       "2j8IeQLqPiCQPhx7YicQNgUk3ps/46Y3m+2xxiHdydVa1+re0kEs7ZLizKH899LnJXI5UWQf4xgU\n",
       "kEJvp1LPeSLuVCqVaiLwPmQQadfqVTI0+Xe3TBoHlZc1MqcvgtDAFmJvUSaBhXj8rAdSZzy+N9s4\n",
       "pM3MJ+6fHF8n02z7/cdMqft99KgUkuN95I23hDxi805fOlphWoZ0DzBEn+vfm4iUIbVG0Gan8Bsq\n",
       "9u+fV+lx++gnlviUpCm0VXhatswNoiR7XYFDcj3SEZBXxMdQeb6PlhbUSr6ShHQdDFpSi6LPYSWt\n",
       "H9NlJ0QrUn/REnqhKXG/RfF9JrbZR9ZqIfw8hj1CIN2j9Fon5nDEkz7ZrVioz0tIYQRNrtHmzN5T\n",
       "mChToIL9AdrATGyn6KZm/oaeToI0APwgW2j1P4UwoMaRcFZFgrYmn7fozVteVLu9JCEFzbBMCSEn\n",
       "pAn8ZIPorDiFyWbBJ5//AwY53nRBWoBRUi2aXGhBjSPdvILkyKo0hbHospKR5uMuvLqn4oyb5lH6\n",
       "jiPMr77cg7yF7Zx49B3vZPCp6Pb1GxV5sSUD/S8EioaVlvwiDVCTtZylk46z49EgUugXVR+LSxi6\n",
       "m1UPLWWckNqSBHE2wdkCJzFJ9WyEySaaJN1/67bT4SYeYbLhW9Mvi2OzhJasEMgCIRYsHT4vn4mK\n",
       "Bn5lM+2iBemwhJzsckIKPE7VRtzB38P4iuoN+FU03QyflR70u9SIk1YQHMRr0azxN31twcMQwkbg\n",
       "TSEInUoCs8onfuLeCftQtvISWih3Gj3lSJIn8dX0zIuDEFeKMJKxz02+b+PxYfxCBFQj2H4aDUvm\n",
       "rh3uMbqJe+eOk9FY8I/mCkIQOuAFuZv9VsZp1TZsMm2api1IITJrIAPfYAWk02AC77lAYhE/0odw\n",
       "uGgyhKFfBW61A4AXWGVnvERNwT5QApvLEVcO7THHFY5Ol3JqtLm31lc6rR/AVCBN9Rl0XDggmnAv\n",
       "K7c5El4ru/KUbf/aAjrq3XjmEk5I62OPeG+VvRPHTd8iesdBdTL3PsvUhPPMhK2xmL0J35TzclIP\n",
       "0nS9c+mzBi+6IU8NHCEuVZTdzslsQ3gFaeBa5UyDkG7z1FXKM1w928CtP1LvFhxtEJLpqauUQBPX\n",
       "hpplpPYfSv5//Md9cRkg7RL/cf1YeeVfvudXPbWsbVEAAAAASUVORK5CYII=\n",
       "\" style=\"display:inline;vertical-align:middle;\" /></a><br>(see <a class=\"ProveItLink\" href=\"../__pv_it/cb8b5b8e643e98474f691f6de455e22287663bbf0/dependencies.ipynb\">dependencies</a>)<br>"
      ],
      "text/plain": [
       "exp_set_4: forall_{S} [forall_{a, b, c, d in S} ((a , b , c , d) in S^{4})]"
      ]
     },
     "execution_count": 2,
     "metadata": {},
     "output_type": "execute_result"
    }
   ],
   "source": [
    "%proving exp_set_4 presuming []"
   ]
  },
  {
   "cell_type": "code",
   "execution_count": null,
   "metadata": {},
   "outputs": [],
   "source": []
  }
 ],
 "metadata": {
  "kernelspec": {
   "display_name": "Python 3",
   "language": "python",
   "name": "python3"
  }
 },
 "nbformat": 4,
 "nbformat_minor": 0
}
