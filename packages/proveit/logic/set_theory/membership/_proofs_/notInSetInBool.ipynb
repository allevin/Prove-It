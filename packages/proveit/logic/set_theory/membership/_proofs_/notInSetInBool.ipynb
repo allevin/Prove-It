{
 "cells": [
  {
   "cell_type": "markdown",
   "metadata": {},
   "source": [
    "Proof of <a class=\"ProveItLink\" href=\"../../../../_context_.ipynb\">proveit</a>.<a class=\"ProveItLink\" href=\"../../../_context_.ipynb\">logic</a>.<a class=\"ProveItLink\" href=\"../../_context_.ipynb\">set_theory</a>.<a class=\"ProveItLink\" href=\"../_context_.ipynb\">membership</a>.<a class=\"ProveItLink\" href=\"../_theorems_.ipynb#notInSetInBool\">notInSetInBool</a> theorem\n",
    "========"
   ]
  },
  {
   "cell_type": "code",
   "execution_count": 1,
   "metadata": {},
   "outputs": [],
   "source": [
    "import proveit\n",
    "from proveit import defaults\n",
    "from proveit._common_ import x, A, S\n",
    "from proveit.logic import InSet\n",
    "from proveit.logic.boolean.negation._theorems_ import closure\n",
    "from proveit.logic.set_theory.membership._axioms_ import notInSetDef\n",
    "context = proveit.Context('..') # the theorem's context is in the parent directory"
   ]
  },
  {
   "cell_type": "code",
   "execution_count": 2,
   "metadata": {},
   "outputs": [
    {
     "name": "stdout",
     "output_type": "stream",
     "text": [
      "Beginning proof of notInSetInBool\n",
      "Recorded 'presuming' information\n"
     ]
    },
    {
     "name": "stdout",
     "output_type": "stream",
     "text": [
      "Presuming theorems in proveit.logic (except any that presume this theorem).\n",
      "Presuming previous theorems (applied transitively).\n"
     ]
    },
    {
     "data": {
      "text/html": [
       "<strong id=\"notInSetInBool\">notInSetInBool:</strong> <a class=\"ProveItLink\" href=\"../__pv_it/4bee646dd0c136f8501ac7a786b22e9824f0f88f0/expr.ipynb\"><img src=\"data:image/png;base64,iVBORw0KGgoAAAANSUhEUgAAAP0AAAAXCAMAAAD3NLkqAAAARVBMVEX///8sLCxlZWUbGxsJCQkd\n",
       "HR0PDw8WFhYQEBC6urrMzMxUVFRmZmZERETc3NwyMjKqqqp2dnaIiIiYmJgiIiLu7u4AAAA/PWo8\n",
       "AAAAAXRSTlMAQObYZgAAA5BJREFUWMPdWNmy3CoMJMtNMDsI+P9PvYDNIoztmVSqJgnnQeNDa6wW\n",
       "UgNDyN82tvAbvyz8ObQcthfDX0QM21tv2+G+P7uPkmcc2wdYi5oLIULmItito9VR6qipl6Y8F7g1\n",
       "dVp/tgzq6x/CEHiJNeT6lbF8fniDzGUVdLCWVLiSx1z78JnhHLaXhY+e+E7EFOJgX2BP3HakqcBr\n",
       "roX5KHsasF0olNPe//wxrrCKe7WzkrJAz3jv9cTeAOGhwcGqMvxnJU9ju2h4DSloqZBX3JeM7UmQ\n",
       "5oRfrX2t8gKPMg9v3w9ZsUfIqwUlLLbKOq6ME60PlMxcAk6OitENMVgxTMmwrHzmoc4UOC/+OKkt\n",
       "gcJaB/0FSHLUdcKaH3sxqUW9ug3JDTwQ2ipyj29WBRfTaKGbITcLPom99zFSN8I3fk5qJStKeY1f\n",
       "QC4ervws1mjQNv0JOLX9hqwtzFKANfFBrjcEBZzGqhVbb/wgL1XPGTnCc34dXAusXBM27iRLaeuF\n",
       "ya+mtU66xCy4bT6axA3ZTIePL9toVrD/vo8q1go+HsGzOOFXqpeNHeCZ+fIEFWL5L6zZz7Xl5KZC\n",
       "CLPf3lhtMrMnNsA9+1IG7nTIsVhGoIZ5Zr86MzX2B40dnpangpPWbI63Pvd0KtyRPcUeMEjO6Fda\n",
       "tU9m9psTc7KpwbbuZhUX/HmzD6Ii1bny/TP7Ay4VP9ot5HrrEQRBYzRr9kxjD43i6n5FVvqkI0JQ\n",
       "f+ozCciCKm1PXMsSh0NOhtY7vlXwJirDOQiu2R+Vf8CN8E3S9eSlOF2zL6y6xyzuzS9naZgslS/Y\n",
       "rBl1s9qtSbUsk79yw2JuhOMdVni3N9Vqx8v4JXsQ1aHChxaLvZvDtnfVmr3hyIP5cmyQbvYr7Pvk\n",
       "3vdk3gg3P9ognQ15zxzTqcU37MPTCnAuO0hvGM/OtxzpKTcTvJ+KWMp4dTIFxuTF2kvkEbrMYL+M\n",
       "GyYv2BOqsF2Mr1+0X2l+Wy06nbT4LX6GJxG0umy2SqcghDxJuyRYV7oH4Q2H/QBP7pWvTneZekW5\n",
       "uapIdX9isu9d0Wd4KjgjUs1lVpC7M23RQl1pft4ku0f6WOsO+5UraZsspx0p4RduuE+X0KDfIn8L\n",
       "h4tL4rC/z2d4e7T2xOpuEskktuc7MNzT4eot9ndwph7Zh5d+EDAvl2PtBuXI47tXyWFvkb+FwwsR\n",
       "GHglxeTfGZgLPKfbhj+Zzv8V5TkK2cdIzgAAAABJRU5ErkJggg==\n",
       "\" style=\"display:inline;vertical-align:middle;\" /></a><br>(see <a class=\"ProveItLink\" href=\"../__pv_it/4bee646dd0c136f8501ac7a786b22e9824f0f88f0/dependencies.ipynb\">dependencies</a>)<br>"
      ],
      "text/plain": [
       "notInSetInBool: forall_{x, S | (x in S) in BOOLEANS} ((x not-in S) in BOOLEANS)"
      ]
     },
     "execution_count": 2,
     "metadata": {},
     "output_type": "execute_result"
    }
   ],
   "source": [
    "%proving notInSetInBool presuming [proveit.logic]"
   ]
  },
  {
   "cell_type": "code",
   "execution_count": 3,
   "metadata": {},
   "outputs": [
    {
     "data": {
      "text/html": [
       "<strong id=\"defaults.assumptions\">defaults.assumptions:</strong> <a class=\"ProveItLink\" href=\"../__pv_it/530f2dfd929fcafd1dd05d1f519b834262df443b0/expr.ipynb\"><img src=\"data:image/png;base64,iVBORw0KGgoAAAANSUhEUgAAAHcAAAAVBAMAAACOK2zoAAAAMFBMVEX////c3NwiIiJERESqqqqY\n",
       "mJh2dnZmZmYQEBDu7u4yMjJUVFTMzMyIiIi6uroAAAAs73DqAAAAAXRSTlMAQObYZgAAAetJREFU\n",
       "OMulVD1IW1EU/h5JjE+TR8HRJWQSQUghXQoF51LhVcHBgGRSOghOLYUKIbh0sBULUgQhCFJcbCUq\n",
       "qEtwdTCgHQoFYweRTik2SxHT79z7frjpi0sPfO+889335Z57zj0B/sucukY3SzSi+Wl5nHiIssKr\n",
       "19N4Y3I9nx//KeeBZI3BlocI63PxoYm+Djbm1NdWi0AFSNc1omwfiFeQKP4jTjeonAR6lzVCW9/I\n",
       "DqsX6xZI1WGXTJ7iuHsAfAR+QiOw1Kb/U85vRjxZ3uRl58sc/SheMhRYcztjC7I2EKRhtb8rPwuD\n",
       "p/h4gkHPPDYZClYx7pZl7WGYxEX75gHdUxh8zMm2l6DK8Y5OUMQFntHbuVBsFd6/pbuGwUva54yc\n",
       "Eu4YCpZR1QctZ7NewaSpLT5OTZ5i5K5YhGYgBpZ0Xb4EG7vcLxCHvBLHlHiR4aLXGFvSy/gf2fMk\n",
       "fwVpZzrFTPsRQ8HzdBPfZG3P/4gFQVL2m4LB+2knKqoPRLwVK1nqoq34g5AcAc7CVgU8xYmFnGrV\n",
       "D4aE/eTFzFdd4k81/VG/c1R15WXb4DkYN0O7cvMb6GUnBaHFD8Nqq9OWonleT7n2nVe/Ywa7jM3c\n",
       "/SOpbS2atllPDHroajvRdL+cVWps3fM3lK5F8xyav4wKhjOx2xZYAAAAAElFTkSuQmCC\n",
       "\" style=\"display:inline;vertical-align:middle;\" /></a><br>"
      ],
      "text/plain": [
       "defaults.assumptions: ((x in S) in BOOLEANS)"
      ]
     },
     "execution_count": 3,
     "metadata": {},
     "output_type": "execute_result"
    }
   ],
   "source": [
    "defaults.assumptions = notInSetInBool.allConditions()"
   ]
  },
  {
   "cell_type": "code",
   "execution_count": 4,
   "metadata": {},
   "outputs": [
    {
     "data": {
      "text/html": [
       "<span style=\"font-size:20px;\"> <a class=\"ProveItLink\" href=\"../../../boolean/negation/_proofs_/closure.ipynb\" style=\"text-decoration: none\">&#x22A2;&nbsp;</a><a class=\"ProveItLink\" href=\"../../../boolean/negation/__pv_it/72b98988c14db13303ee78323c7b5433c84d23350/expr.ipynb\"><img src=\"data:image/png;base64,iVBORw0KGgoAAAANSUhEUgAAAJsAAAAVBAMAAACj9YEXAAAAMFBMVEX///8QEBC6urrMzMxUVFRm\n",
       "ZmZERETc3NwyMjKqqqp2dnaIiIiYmJgiIiLu7u4AAAAU9Wx4AAAAAXRSTlMAQObYZgAAAnlJREFU\n",
       "OMutVEtoE0EY/pI0SZNs1uJNJBhFUHxADt6kpGihCmIFycXn4mFjUWgOkiKiBqEUSm29CN7cSxUR\n",
       "ZMGTpy6C4uNSDxURg1tRCVZFegg9iPr/M7O7ea1e/OBj55/559v/MTPA/4X719WoLdkGLd/b+TFx\n",
       "kQcvw+T2KAYYJB5td0rPnV3LjQHxAnCPJ2bD5Ga7FueI/R1eiajd+GIBNaBKZtIIUcvYki2Jvqfq\n",
       "aFaXXCZPWi/oT7QcvxEiF3ElA1w8XQH0AWmsXK+/UXIp5zCwTH+6OzFxOSzX7YoB7AXuw5gYx2bc\n",
       "ILptlGGCwmqa5tswuWOKQafd2w595oVRdYNkB5+SkT4C7AfKYnKqW25G0ccHFLmUt4RRDmpX/72R\n",
       "vimq31boNVHkVVXs6elJR/mtl4zXGVz/PK5SBNjMi7rR2opHZEWppllkxO5PP7m4pROwrZUtym9V\n",
       "UVRqiDg8PMoiRZF4jv7htQLGDlr+QQfByYoaPFii8Zkr30ku/TVELkqNrnlyPOFHByMh5fSaOPYx\n",
       "2wSeiOZZO08pvw2K3m7qXHbAT3axU46TRXkfT/XhpDjWJFfKebU7r6jkkiTXTxHgmZg51CZHyWq8\n",
       "/6b4y3MsIGbJ6OJ7ld+8fygIBTR46y9/7ls+kNOOG/KgIMKt15dK427stWme49qlld9uRYnqpilo\n",
       "42u055qwk5MF7wlovjrId5n1Ne5EvIJiQR+S0flykYpkB7xLljogO+th2R/tAtY5GFHJXvIuvNV9\n",
       "3zkcu/cluu8NPjaRHH2Hz3lxjE0n/IFiNHqryevQijtUu1ZcUGzHSG+5vsq/nv6kLdn+ChZ6Oz8E\n",
       "/gA3Vqps4Em40QAAAABJRU5ErkJggg==\n",
       "\" style=\"display:inline;vertical-align:middle;\" /></a></span>"
      ],
      "text/plain": [
       "|- forall_{A in BOOLEANS} ([not](A) in BOOLEANS)"
      ]
     },
     "execution_count": 4,
     "metadata": {},
     "output_type": "execute_result"
    }
   ],
   "source": [
    "closure"
   ]
  },
  {
   "cell_type": "code",
   "execution_count": 5,
   "metadata": {},
   "outputs": [
    {
     "data": {
      "text/html": [
       "<strong id=\"closureSpec\">closureSpec:</strong> <span style=\"font-size:20px;\"><a class=\"ProveItLink\" href=\"../__pv_it/0bdcf5b1be86a64613b85fb333664ba60799088c0/expr.ipynb\"><img src=\"data:image/png;base64,iVBORw0KGgoAAAANSUhEUgAAAH0AAAAVBAMAAACZCfwhAAAAMFBMVEX////c3NxERESqqqpUVFS6\n",
       "urrMzMwyMjIQEBCIiIh2dnYiIiLu7u5mZmaYmJgAAABXZE4RAAAAAXRSTlMAQObYZgAAAf1JREFU\n",
       "OMtjYGDgu8dAFmBbJQCieHaByEg8Cp/iMqAZRHJ+ADEdsCvh8717LoA3AVVw+af6ik0GQMZ1EI+r\n",
       "AUiwH8Cuv46BR5+BoQBNVCGSp2YVkF4B1z8Tu3aWBQwM5gwMrzD0M0xlR9HfgyzNM333boiV8kCX\n",
       "ZzIwnEATB+q3YzmApJ8VxYXpb2CseKAv0xgYmAxQxUH2CyHbzwt0J4PUFOG5E4A0ow7cJPmf4KDj\n",
       "usCAIq4QybZPB6afF2g3+wOg6xbw7ePYABRgEoDr5/z/XxFIMYOdhxBXiN7/A2TTexAnI4CBgQOI\n",
       "uYAxyQyy7hCSV+Q8fgD9yQoKIiRxoPtnGoFiDeiulDYggx+on4eBRQEsG7F7Nyz8gGA90GlsH1DF\n",
       "gfqZWEFeVgdKRiRA9ANdMQGsIwWReoD4PFx/CrL9TAxAy7hBZrAAjeQwgMYWKBmdhqs7CxIUgLn/\n",
       "NIZ+sP+5gGHGBLSET2A+AydIP8sDmDpg0mG4AnIH2NUIcZj74fEHiiD7BxoMkuBkshWm7vYEBk4F\n",
       "ePwhxIH6305Cjn9WoBsOzTq1EmKD+DWoOocQFz0QzR6AIg7MP9otBijptxElfZtU70ZJkCdwiCP0\n",
       "v8JbUqzEIQ7Wz4cv/0LyTQEOCXD+59kJStsOePSzCOAof1ohqWQxkJDEo38anvIPABDqiGG8tGR0\n",
       "AAAAAElFTkSuQmCC\n",
       "\" style=\"display:inline;vertical-align:middle;\" /></a> <a class=\"ProveItLink\" href=\"../__pv_it/2f845bc19bd42b6a5d4d8ee06e28981a25a8c9d70/proof.ipynb\" style=\"text-decoration: none\">&#x22A2;&nbsp;</a><a class=\"ProveItLink\" href=\"../__pv_it/1269eafcbe06f887fca50f65df47c21195d81e1f0/expr.ipynb\"><img src=\"data:image/png;base64,iVBORw0KGgoAAAANSUhEUgAAAIkAAAAVBAMAAACArtDCAAAAMFBMVEX////c3NwiIiJERESqqqqY\n",
       "mJh2dnZmZmYQEBDu7u4yMjJUVFTMzMyIiIi6uroAAAAs73DqAAAAAXRSTlMAQObYZgAAAg9JREFU\n",
       "OMtjYKAO4LuAxHmLWx3rAwjGDk4jsXk2YFcTXV4Zx1ADZNSgSWR9Xr9C2QHIWIkkyDUBqyFcAQyT\n",
       "PzBwgVjoUgZvOVemMTDwInvoLnanbGNgYFnAwJrAAMZopjDcAxrNgWx9J7ICzltKSgtADMY/QL9e\n",
       "YOBsYABjEJi7SEkLZoor9wSGV8gBvQDZlFORMOEvQFMOMDCYMEAwkLd0ApJbhBkYypD0sQPdy5i7\n",
       "0bcW7AJLmDDj/ztgOh2KGRiEJyB8xKMKVLgUNRQZpjEEBTSBOMwCcPH7/z+DOF5QzMBgiAiXR/o/\n",
       "gCHbB3SCEggA3cEBTA4JDPcZfEDykxGmM0b3g0LsBRQzcBogh+5dZwaGf0hJhR9oygSGzRCBFyCj\n",
       "YQHF9hVInIdiBr4moBQ8dJn5EjBMYWDoRU+NQH9yopiClDhBpjAYMLQgmcLhAIlXTpDAJHiMFwAF\n",
       "P6L4SAHdFFMkU5iBtgbyfmC4CRLgDoDKABMcAzvI9igoZmDYimIK0EfpMD4wQbAVMLB8ZW5gBCdn\n",
       "Tj1Y/OsyMFxGjelJD5BMCQdKPkJOdQoMnLaZaVchPClo1uPm270Z7K51UAz04PID8Nxo1A0MBw4B\n",
       "JGMaUfKI9yIl5MSMnANYdkHjCFZsIOevMHwFEdsFCMYKiCgZIGAWFGMF0khsxg14TNkIxVgBI7Ij\n",
       "ZXEbwnsAgrEBAEV1im3XEPk7AAAAAElFTkSuQmCC\n",
       "\" style=\"display:inline;vertical-align:middle;\" /></a></span><br>"
      ],
      "text/plain": [
       "closureSpec: {(x in S) in BOOLEANS} |- [not](x in S) in BOOLEANS"
      ]
     },
     "execution_count": 5,
     "metadata": {},
     "output_type": "execute_result"
    }
   ],
   "source": [
    "closureSpec = closure.specialize({A:InSet(x, S)})"
   ]
  },
  {
   "cell_type": "code",
   "execution_count": 6,
   "metadata": {},
   "outputs": [
    {
     "data": {
      "text/html": [
       "<span style=\"font-size:20px;\"> <a class=\"ProveItLink\" href=\"../_axioms_.ipynb#notInSetDef\" style=\"text-decoration: none\">&#x22A2;&nbsp;</a><a class=\"ProveItLink\" href=\"../__pv_it/9675a23e9adc2c0ebe46a1cf8c695c3db677fec90/expr.ipynb\"><img src=\"data:image/png;base64,iVBORw0KGgoAAAANSUhEUgAAAQIAAAAWCAMAAAAcoWJbAAAAQlBMVEX///9bW1sNDQ0JCQkdHR0P\n",
       "Dw8WFhYQEBC6urrMzMxUVFRmZmZERETc3NwyMjKqqqp2dnaIiIiYmJgiIiLu7u4AAAAq2h4+AAAA\n",
       "AXRSTlMAQObYZgAAAu9JREFUWMPdV+nWnCAMtavIoqzv/6oFFDWQCM5pe06bP/ebL0xuJmRjmv6g\n",
       "MD/9C/KRl8xAJMQRxi17RzOu6Eghhugu/bDdhUPsHDsJuBDCJ1qxvKEZV1C/vCEGqLdycB1OiHKy\n",
       "8w0BL3u1KelkyH+/oRlXEMcR4jsqeXw4/+iKMRDJOgCfuM6wZXKrx2nGFbigxABLSMU2anP2ELEO\n",
       "Y1b384e7XbYKe+4t2X8/j9OMK3beKPckw4kBWq2yuOFeuELEinW1fpIKfCvsIV52h+Q2SjOuOHjr\n",
       "4zgxwCCTOD0aAqEhKm242oy40lPJ6IiHnqoQzK0JajFKQyoI3loIYoA8H4B3doZVaG3s0naXC330\n",
       "yDo7zVcaZVt1xZoQ5WTZrgCJ9Sa8ocG7G83btg6UGCBLtB7NLiZyJlWlyADqzBJtnYHyEm3byvI5\n",
       "lDpm3WZwmBfuFD3Ei+QBRgwxhdFYuqdXlgMDmExzcITN0d/v36q2tPsdDp4l9EIQGLENPPM6h/G2\n",
       "xBDTz0cXOR/yf+1jCPLFmMZXDfudLRZ/WwgI3mYtIoghxiIo344dhhl+ppabdbvLzhvEMnfOIHrX\n",
       "LAVelJOqKYRbqjsnG5rmFz7z1rdIEVcoFT/qy6fcuji8mEOoXZEWoFW5JCdz5RG3exe5pDQfUS7K\n",
       "dvdDaYkQPPLWQhJXuIkjfqxtxIrXjQuOlS1mmIxH1C0nvWMcThHhstrI8aHYnlgGeJsJShHXeKup\n",
       "cA0Wz/YqqseEu6OXRvs0OUHc1q8wBDzOHc5vF7t2H4vMPSoI3voBRhLXeO1Uy3xGe9pyCSzNqJkV\n",
       "RKwJfeEr2pknuJ8+TkX1VpF8fubFF+R7poVJr3niqjXSCInvG/VTAytk1cnygZcOad4OL7I0cY3X\n",
       "bmE2EfMrBcOmx3R8Zgv1wWO59+r0f/WxjBDXiIf6Qac4xHYntZ33qxrxlzSv+KchKMQ1oo+DRydL\n",
       "G1ZEPneSwCxjDlPmacU0Rlzj6yT4z+QX8HMygUNBMOAAAAAASUVORK5CYII=\n",
       "\" style=\"display:inline;vertical-align:middle;\" /></a></span>"
      ],
      "text/plain": [
       "|- forall_{x, S} ((x not-in S) = [not](x in S))"
      ]
     },
     "execution_count": 6,
     "metadata": {},
     "output_type": "execute_result"
    }
   ],
   "source": [
    "notInSetDef"
   ]
  },
  {
   "cell_type": "code",
   "execution_count": 7,
   "metadata": {},
   "outputs": [
    {
     "data": {
      "text/html": [
       "<strong id=\"notInSetDefSpec\">notInSetDefSpec:</strong> <span style=\"font-size:20px;\"> <a class=\"ProveItLink\" href=\"../__pv_it/b105f799ec5e0ac4d9704deef597aff5504af0db0/proof.ipynb\" style=\"text-decoration: none\">&#x22A2;&nbsp;</a><a class=\"ProveItLink\" href=\"../__pv_it/d5b313b7e2c4485d716e9c45c12c3dd69736fce80/expr.ipynb\"><img src=\"data:image/png;base64,iVBORw0KGgoAAAANSUhEUgAAAL8AAAAVCAMAAAAgs8+8AAAAQlBMVEX///9bW1sNDQ0JCQkdHR0P\n",
       "Dw8WFhbc3NwiIiJERESqqqqYmJh2dnZmZmYQEBDu7u4yMjJUVFTMzMyIiIi6uroAAAASwAKsAAAA\n",
       "AXRSTlMAQObYZgAAAihJREFUSMfNl9uW3SAIhtMjGs9R3/9VSzQnkyDutqurXsy/ZzB8RIHNTBO7\n",
       "kpv+75Vi1yyI+FX6Q/cMl1o7d9cldLffzSoYY9z6sFlGcKR7hvsI+8Hd1Pfzw7TH7BX+cDKXzyNc\n",
       "0r3/KC/fuEUjc4ui+S3oInN5VGmeS7qPH2XPK7eopY/BRS9+/hCXY4Zc72wpcGd5MOme4eJiuasm\n",
       "OgkWr9wkoSm5PFdTdSdntnj9p4aNe9v9zkU1212AjgHmaM5bBYleXIuBnOOlarXh4jeaMRDc2yK4\n",
       "qKUuME50p4Sa7Jnu5eTvWRozruNO5vPtjL+s0JYdWY8091Etr1xUW9uLLnvwL8dbOvnaJEAFm/fc\n",
       "TWwBbO6NOJZuDBT3eQNvXNRc/ayG0DyZLMK+f2vraLu2vJ3qkrn4cyK6fp8rxBAX9QKw8QHSbYFu\n",
       "j7u/Fz/BvX93EVxUO7c96sgXJx7N35l9Jzzy55IhQpwHamci/j53GuOiyvpKCkoaTvHM96Cm1PaX\n",
       "vWzMfkSK/QaWioi/y70tkotaW9GMNyPxpeBylU6k0E44RhRzlOP987ljuRoI7r3XUlzUJGrRR+20\n",
       "js2rg//axh+mFEK4HKlnR9AkugaCawa5q1qgR74vwb/1geOkRuYH+NSwXssYt2hnCJPAJMfACEa6\n",
       "Hxn+GG5Vco4F2Xfj/uX8/MLdFKj/I6JiZloYoZHuIfxm/Dt3VyDSgDn+uIzhKPe0YYxb9BejASTg\n",
       "Cm3XTwAAAABJRU5ErkJggg==\n",
       "\" style=\"display:inline;vertical-align:middle;\" /></a></span><br>"
      ],
      "text/plain": [
       "notInSetDefSpec: |- (x not-in S) = [not](x in S)"
      ]
     },
     "execution_count": 7,
     "metadata": {},
     "output_type": "execute_result"
    }
   ],
   "source": [
    "notInSetDefSpec = notInSetDef.specialize()"
   ]
  },
  {
   "cell_type": "code",
   "execution_count": 8,
   "metadata": {},
   "outputs": [
    {
     "data": {
      "text/html": [
       "<span style=\"font-size:20px;\"><a class=\"ProveItLink\" href=\"../__pv_it/0bdcf5b1be86a64613b85fb333664ba60799088c0/expr.ipynb\"><img src=\"data:image/png;base64,iVBORw0KGgoAAAANSUhEUgAAAH0AAAAVBAMAAACZCfwhAAAAMFBMVEX////c3NxERESqqqpUVFS6\n",
       "urrMzMwyMjIQEBCIiIh2dnYiIiLu7u5mZmaYmJgAAABXZE4RAAAAAXRSTlMAQObYZgAAAf1JREFU\n",
       "OMtjYGDgu8dAFmBbJQCieHaByEg8Cp/iMqAZRHJ+ADEdsCvh8717LoA3AVVw+af6ik0GQMZ1EI+r\n",
       "AUiwH8Cuv46BR5+BoQBNVCGSp2YVkF4B1z8Tu3aWBQwM5gwMrzD0M0xlR9HfgyzNM333boiV8kCX\n",
       "ZzIwnEATB+q3YzmApJ8VxYXpb2CseKAv0xgYmAxQxUH2CyHbzwt0J4PUFOG5E4A0ow7cJPmf4KDj\n",
       "usCAIq4QybZPB6afF2g3+wOg6xbw7ePYABRgEoDr5/z/XxFIMYOdhxBXiN7/A2TTexAnI4CBgQOI\n",
       "uYAxyQyy7hCSV+Q8fgD9yQoKIiRxoPtnGoFiDeiulDYggx+on4eBRQEsG7F7Nyz8gGA90GlsH1DF\n",
       "gfqZWEFeVgdKRiRA9ANdMQGsIwWReoD4PFx/CrL9TAxAy7hBZrAAjeQwgMYWKBmdhqs7CxIUgLn/\n",
       "NIZ+sP+5gGHGBLSET2A+AydIP8sDmDpg0mG4AnIH2NUIcZj74fEHiiD7BxoMkuBkshWm7vYEBk4F\n",
       "ePwhxIH6305Cjn9WoBsOzTq1EmKD+DWoOocQFz0QzR6AIg7MP9otBijptxElfZtU70ZJkCdwiCP0\n",
       "v8JbUqzEIQ7Wz4cv/0LyTQEOCXD+59kJStsOePSzCOAof1ohqWQxkJDEo38anvIPABDqiGG8tGR0\n",
       "AAAAAElFTkSuQmCC\n",
       "\" style=\"display:inline;vertical-align:middle;\" /></a> <a class=\"ProveItLink\" href=\"../__pv_it/700a57ab2a4bf27eb9ded8d445503ada1eee48460/proof.ipynb\" style=\"text-decoration: none\">&#x22A2;&nbsp;</a><a class=\"ProveItLink\" href=\"../__pv_it/b2c1f1065041f301f723bd9c4d55eea3d3615b160/expr.ipynb\"><img src=\"data:image/png;base64,iVBORw0KGgoAAAANSUhEUgAAAGgAAAAVCAMAAACdfluMAAAAQlBMVEX///9bW1sNDQ0JCQkdHR0P\n",
       "Dw8WFhbc3NwiIiJERESqqqqYmJh2dnZmZmYQEBDu7u4yMjJUVFTMzMyIiIi6uroAAAASwAKsAAAA\n",
       "AXRSTlMAQObYZgAAAcBJREFUSMetVYuOxCAI9J6o+KLo///qqbU969r2mhzZbLcBdoYBUYhbi178\n",
       "k0W+dMszIIzPcBZ65kay1vqCYpfLTBOSCik4qXR9D9fS2IF3wPzlVaq/b2pQRS0fvDH5ha+FE/L4\n",
       "SqY+dMVA8wcgwbEycucFeQ7y+0v2vCGtci2Vnncv8dnCAKRRkBfxvPwloBcKjoOTVr2XFa+p38VP\n",
       "KwKVW7BVD4YJNNtdSVA5zQ88ICXuRsDYzqX8VLpFYvHU3payMyBKFG7vSa3lpYOcsu1l6o7HUHsD\n",
       "kjIlV/7EtaGqc5FHSW98vZqPJCC5tDU2/jZpjZ9Kxzr7UgMqmdTHRpf7+vlxaO6uWGo6LOkYL2fD\n",
       "UB5mByrmeDyoRg+HtbGaAM3O/Q6UP04Po7tp5eXrIfJ2i4RX6eQ1kGrcEGqLBO9NIRTRHhO33tuN\n",
       "PXayEp4DZenagOoshsr0gDuKkYZlZmV1s5qNd46fA6EtCVG2mWGTVxL3rCC8D0AkIhGp36AQD/HH\n",
       "LbsuVSUd1fY4OF0N+EZhOnV7EW6Q9ir+YjEquNnOhp/cR6fXBKibTB+e4Ag4u/gYbzIJxDMkPrtN\n",
       "ro2XByA/H6YX3H5QkBEAAAAASUVORK5CYII=\n",
       "\" style=\"display:inline;vertical-align:middle;\" /></a></span>"
      ],
      "text/plain": [
       "{(x in S) in BOOLEANS} |- (x not-in S) in BOOLEANS"
      ]
     },
     "execution_count": 8,
     "metadata": {},
     "output_type": "execute_result"
    }
   ],
   "source": [
    "notInSetDefSpec.subLeftSideInto(closureSpec)"
   ]
  },
  {
   "cell_type": "code",
   "execution_count": 9,
   "metadata": {},
   "outputs": [
    {
     "data": {
      "text/html": [
       "<table><tr><th>&nbsp;</th><th>step type</th><th>requirements</th><th>statement</th></tr>\n",
       "<tr><td>0</td><td>generalizaton</td><td>1</td><td><span style=\"font-size:20px;\"> <a class=\"ProveItLink\" href=\"../__pv_it/1c014a815e23a10f657f00db5ec41bb9be0f4d4c0/proof.ipynb\" style=\"text-decoration: none\">&#x22A2;&nbsp;</a><a class=\"ProveItLink\" href=\"../__pv_it/4bee646dd0c136f8501ac7a786b22e9824f0f88f0/expr.ipynb\"><img src=\"data:image/png;base64,iVBORw0KGgoAAAANSUhEUgAAAP0AAAAXCAMAAAD3NLkqAAAARVBMVEX///8sLCxlZWUbGxsJCQkd\n",
       "HR0PDw8WFhYQEBC6urrMzMxUVFRmZmZERETc3NwyMjKqqqp2dnaIiIiYmJgiIiLu7u4AAAA/PWo8\n",
       "AAAAAXRSTlMAQObYZgAAA5BJREFUWMPdWNmy3CoMJMtNMDsI+P9PvYDNIoztmVSqJgnnQeNDa6wW\n",
       "UgNDyN82tvAbvyz8ObQcthfDX0QM21tv2+G+P7uPkmcc2wdYi5oLIULmItito9VR6qipl6Y8F7g1\n",
       "dVp/tgzq6x/CEHiJNeT6lbF8fniDzGUVdLCWVLiSx1z78JnhHLaXhY+e+E7EFOJgX2BP3HakqcBr\n",
       "roX5KHsasF0olNPe//wxrrCKe7WzkrJAz3jv9cTeAOGhwcGqMvxnJU9ju2h4DSloqZBX3JeM7UmQ\n",
       "5oRfrX2t8gKPMg9v3w9ZsUfIqwUlLLbKOq6ME60PlMxcAk6OitENMVgxTMmwrHzmoc4UOC/+OKkt\n",
       "gcJaB/0FSHLUdcKaH3sxqUW9ug3JDTwQ2ipyj29WBRfTaKGbITcLPom99zFSN8I3fk5qJStKeY1f\n",
       "QC4ervws1mjQNv0JOLX9hqwtzFKANfFBrjcEBZzGqhVbb/wgL1XPGTnCc34dXAusXBM27iRLaeuF\n",
       "ya+mtU66xCy4bT6axA3ZTIePL9toVrD/vo8q1go+HsGzOOFXqpeNHeCZ+fIEFWL5L6zZz7Xl5KZC\n",
       "CLPf3lhtMrMnNsA9+1IG7nTIsVhGoIZ5Zr86MzX2B40dnpangpPWbI63Pvd0KtyRPcUeMEjO6Fda\n",
       "tU9m9psTc7KpwbbuZhUX/HmzD6Ii1bny/TP7Ay4VP9ot5HrrEQRBYzRr9kxjD43i6n5FVvqkI0JQ\n",
       "f+ozCciCKm1PXMsSh0NOhtY7vlXwJirDOQiu2R+Vf8CN8E3S9eSlOF2zL6y6xyzuzS9naZgslS/Y\n",
       "rBl1s9qtSbUsk79yw2JuhOMdVni3N9Vqx8v4JXsQ1aHChxaLvZvDtnfVmr3hyIP5cmyQbvYr7Pvk\n",
       "3vdk3gg3P9ognQ15zxzTqcU37MPTCnAuO0hvGM/OtxzpKTcTvJ+KWMp4dTIFxuTF2kvkEbrMYL+M\n",
       "GyYv2BOqsF2Mr1+0X2l+Wy06nbT4LX6GJxG0umy2SqcghDxJuyRYV7oH4Q2H/QBP7pWvTneZekW5\n",
       "uapIdX9isu9d0Wd4KjgjUs1lVpC7M23RQl1pft4ku0f6WOsO+5UraZsspx0p4RduuE+X0KDfIn8L\n",
       "h4tL4rC/z2d4e7T2xOpuEskktuc7MNzT4eot9ndwph7Zh5d+EDAvl2PtBuXI47tXyWFvkb+FwwsR\n",
       "GHglxeTfGZgLPKfbhj+Zzv8V5TkK2cdIzgAAAABJRU5ErkJggg==\n",
       "\" style=\"display:inline;vertical-align:middle;\" /></a></span></td></tr>\n",
       "<tr><td>1</td><td>specialization</td><td>2, 3, 4</td><td><span style=\"font-size:20px;\"><a class=\"ProveItLink\" href=\"../__pv_it/0bdcf5b1be86a64613b85fb333664ba60799088c0/expr.ipynb\"><img src=\"data:image/png;base64,iVBORw0KGgoAAAANSUhEUgAAAH0AAAAVBAMAAACZCfwhAAAAMFBMVEX////c3NxERESqqqpUVFS6\n",
       "urrMzMwyMjIQEBCIiIh2dnYiIiLu7u5mZmaYmJgAAABXZE4RAAAAAXRSTlMAQObYZgAAAf1JREFU\n",
       "OMtjYGDgu8dAFmBbJQCieHaByEg8Cp/iMqAZRHJ+ADEdsCvh8717LoA3AVVw+af6ik0GQMZ1EI+r\n",
       "AUiwH8Cuv46BR5+BoQBNVCGSp2YVkF4B1z8Tu3aWBQwM5gwMrzD0M0xlR9HfgyzNM333boiV8kCX\n",
       "ZzIwnEATB+q3YzmApJ8VxYXpb2CseKAv0xgYmAxQxUH2CyHbzwt0J4PUFOG5E4A0ow7cJPmf4KDj\n",
       "usCAIq4QybZPB6afF2g3+wOg6xbw7ePYABRgEoDr5/z/XxFIMYOdhxBXiN7/A2TTexAnI4CBgQOI\n",
       "uYAxyQyy7hCSV+Q8fgD9yQoKIiRxoPtnGoFiDeiulDYggx+on4eBRQEsG7F7Nyz8gGA90GlsH1DF\n",
       "gfqZWEFeVgdKRiRA9ANdMQGsIwWReoD4PFx/CrL9TAxAy7hBZrAAjeQwgMYWKBmdhqs7CxIUgLn/\n",
       "NIZ+sP+5gGHGBLSET2A+AydIP8sDmDpg0mG4AnIH2NUIcZj74fEHiiD7BxoMkuBkshWm7vYEBk4F\n",
       "ePwhxIH6305Cjn9WoBsOzTq1EmKD+DWoOocQFz0QzR6AIg7MP9otBijptxElfZtU70ZJkCdwiCP0\n",
       "v8JbUqzEIQ7Wz4cv/0LyTQEOCXD+59kJStsOePSzCOAof1ohqWQxkJDEo38anvIPABDqiGG8tGR0\n",
       "AAAAAElFTkSuQmCC\n",
       "\" style=\"display:inline;vertical-align:middle;\" /></a> <a class=\"ProveItLink\" href=\"../__pv_it/700a57ab2a4bf27eb9ded8d445503ada1eee48460/proof.ipynb\" style=\"text-decoration: none\">&#x22A2;&nbsp;</a><a class=\"ProveItLink\" href=\"../__pv_it/b2c1f1065041f301f723bd9c4d55eea3d3615b160/expr.ipynb\"><img src=\"data:image/png;base64,iVBORw0KGgoAAAANSUhEUgAAAGgAAAAVCAMAAACdfluMAAAAQlBMVEX///9bW1sNDQ0JCQkdHR0P\n",
       "Dw8WFhbc3NwiIiJERESqqqqYmJh2dnZmZmYQEBDu7u4yMjJUVFTMzMyIiIi6uroAAAASwAKsAAAA\n",
       "AXRSTlMAQObYZgAAAcBJREFUSMetVYuOxCAI9J6o+KLo///qqbU969r2mhzZbLcBdoYBUYhbi178\n",
       "k0W+dMszIIzPcBZ65kay1vqCYpfLTBOSCik4qXR9D9fS2IF3wPzlVaq/b2pQRS0fvDH5ha+FE/L4\n",
       "SqY+dMVA8wcgwbEycucFeQ7y+0v2vCGtci2Vnncv8dnCAKRRkBfxvPwloBcKjoOTVr2XFa+p38VP\n",
       "KwKVW7BVD4YJNNtdSVA5zQ88ICXuRsDYzqX8VLpFYvHU3payMyBKFG7vSa3lpYOcsu1l6o7HUHsD\n",
       "kjIlV/7EtaGqc5FHSW98vZqPJCC5tDU2/jZpjZ9Kxzr7UgMqmdTHRpf7+vlxaO6uWGo6LOkYL2fD\n",
       "UB5mByrmeDyoRg+HtbGaAM3O/Q6UP04Po7tp5eXrIfJ2i4RX6eQ1kGrcEGqLBO9NIRTRHhO33tuN\n",
       "PXayEp4DZenagOoshsr0gDuKkYZlZmV1s5qNd46fA6EtCVG2mWGTVxL3rCC8D0AkIhGp36AQD/HH\n",
       "LbsuVSUd1fY4OF0N+EZhOnV7EW6Q9ir+YjEquNnOhp/cR6fXBKibTB+e4Ag4u/gYbzIJxDMkPrtN\n",
       "ro2XByA/H6YX3H5QkBEAAAAASUVORK5CYII=\n",
       "\" style=\"display:inline;vertical-align:middle;\" /></a></span></td></tr>\n",
       "<tr><td>&nbsp;</td><td colspan=4 style=\"text-align:left\"><span style=\"font-size:20px;\"><a class=\"ProveItLink\" href=\"../__pv_it/59054e3b170c2edab43c1eaadffb56823fb303bf0/expr.ipynb\"><img src=\"data:image/png;base64,iVBORw0KGgoAAAANSUhEUgAAAEkAAAAVBAMAAAD4Ed5jAAAAMFBMVEX////u7u5mZmaYmJi6urqq\n",
       "qqp2dnbMzMwQEBBEREQyMjLc3NwiIiJUVFSIiIgAAAAeC3ydAAAAAXRSTlMAQObYZgAAAR1JREFU\n",
       "KM9jYCAZsDzAJmoCJt/+v3v37AYQqxarXqYCMPWLgYGzG8RYiN2KBSCC/RsDAysQM/A9wK7KDETw\n",
       "fWFgYP4EZHAIYFclASI4PzAw8H4FMrxweIozAEjwA+2VnwBkqCEktr3d+ghuP5sCkKhPYGA/BOIt\n",
       "hitiTGA+zHEAxmMFOf/9tTQ1cEC0wFWxMfB9YC2AB2MDkJgPc/QXhFkMvBMQ1rMDHc7whwFDFdC/\n",
       "D1BVsX+C8VqRVO0vYBBAtpEPbsRkuBrmDe8Z+OCqmIGu5/wI4yXBVcUbzGDYx4AUEkLz/8Kc4AP0\n",
       "9EwgmMgg+UwszwDGYeByQA5jjg14YgjhmgTsqvJQudhTDuMCVP5erKp40RzCjTWBPWdgAADdXkSh\n",
       "Sa6TGQAAAABJRU5ErkJggg==\n",
       "\" style=\"display:inline;vertical-align:middle;\" /></a> : <a class=\"ProveItLink\" href=\"../__pv_it/f4789945dfc8823a621a3967e1c58c2b0adbb3ee0/expr.ipynb\"><img src=\"data:image/png;base64,iVBORw0KGgoAAAANSUhEUgAAAE0AAAAPBAMAAABTt1/kAAAAMFBMVEX///+6uroyMjLMzMwQEBAi\n",
       "IiKYmJhmZmZUVFSIiIh2dnbc3Nzu7u5ERESqqqoAAABZrPngAAAAAXRSTlMAQObYZgAAAMVJREFU\n",
       "KM9jYCAAFv3VV4l9wEAYXJDk0VlFlDqGiUy4pXkmhYYqQNU94ziAU51RDpJ5e+HC3Cu7X1YiKeO+\n",
       "g7CXOQzOYTjFkJrgiqSOdwNcnWj8lwlw8QUM8xkeI6k7i+yPmW/hvAMMvSjOEwkNRfiDl3EBQsYT\n",
       "RZ0Fsnm8DBcQDv/MwIOk7igOddmcHxjmIKnjSEBWB7eX7xuvA/cE5GAORFKXPpeB4e1dIDjAc3PN\n",
       "qmkwDlh6UzE8HVz1wJcOXqhC/AsBAIb+Q6rQzm52AAAAAElFTkSuQmCC\n",
       "\" style=\"display:inline;vertical-align:middle;\" /></a>, <a class=\"ProveItLink\" href=\"../../../../__pv_it/530be409e3083890784cf1d7b28c9e67e90af9360/expr.ipynb\"><img src=\"data:image/png;base64,iVBORw0KGgoAAAANSUhEUgAAAAsAAAAJBAMAAAAWSsseAAAAKlBMVEX///9ERETMzMwQEBAiIiKY\n",
       "mJju7u5mZmaqqqpUVFSIiIh2dnbc3NwAAAA/vyDhAAAAAXRSTlMAQObYZgAAAENJREFUCNdjYDi9\n",
       "8sTyBQxsG1hdmR0YuBm4LnAoMLAxcAowgADzAjB1VoEhgYH1wFoGrgSG3gBhhlMMDImrs3cFMAAA\n",
       "t0YN+iTRa+sAAAAASUVORK5CYII=\n",
       "\" style=\"display:inline;vertical-align:middle;\" /></a> : <a class=\"ProveItLink\" href=\"../__pv_it/6187b8ed581c17da632c95901a8880721b78f39a0/expr.ipynb\"><img src=\"data:image/png;base64,iVBORw0KGgoAAAANSUhEUgAAADMAAAAVCAMAAADciiYzAAAAQlBMVEX///9bW1sNDQ0JCQkdHR0P\n",
       "Dw8WFhYyMjK6urpERETMzMwQEBAiIiKYmJju7u5mZmaqqqpUVFSIiIh2dnbc3NwAAADXC9tbAAAA\n",
       "AXRSTlMAQObYZgAAAPVJREFUOMuVU9t2xCAItFc1Agrq//9qLbktm66n4cGE4MAwEOcmFsjdNriP\n",
       "Wdj6yDlnwjDDZBv1OA6KfU7NeFz1Ufyr6yQevr/gId76shKWV514JBeb0bCXNaTQVoVbkXwmaHEI\n",
       "RpZE612Wg8bgiYAunfS1gjyRkD5sq13VH82dWaLK9Dychpx60q+/B0dDPQHA58c4LhrVjvtrksss\n",
       "a7Hz3CgcmFXHgwvBZTiU95vaEDZtx8nJn9GFbDD7JLOuUxnVYhoZHugRBF7sGoGGJW4iSaVaBY1E\n",
       "/t1i2AVmjjhbNXxj/5duM7N78y9r8f4PKngfMy/zAx2GC3mVEDiLAAAAAElFTkSuQmCC\n",
       "\" style=\"display:inline;vertical-align:middle;\" /></a>, <a class=\"ProveItLink\" href=\"../../../../__pv_it/f8b9edf8e16034727f0aad55bb83e392c3db40d40/expr.ipynb\"><img src=\"data:image/png;base64,iVBORw0KGgoAAAANSUhEUgAAAAsAAAANBAMAAACN24kIAAAAMFBMVEX///+YmJhUVFQyMjIQEBBE\n",
       "REQiIiKqqqrMzMyIiIi6urrc3NxmZmZ2dnbu7u4AAADXeCicAAAAAXRSTlMAQObYZgAAAFhJREFU\n",
       "CNdj4LtzgWH/AwZerg8M8xkY2nkSGEIZGB6wTGD4ycDAUP+A4weQOszA6QCkbBhYFYDUIYb1AkDq\n",
       "6czzGxhA4BoQMyXwuQMptgusF4AU+8xTQBIAUqMVoSp/SLMAAAAASUVORK5CYII=\n",
       "\" style=\"display:inline;vertical-align:middle;\" /></a> : <a class=\"ProveItLink\" href=\"../__pv_it/48c335c446b0ba530a3872178982bb5601e356af0/expr.ipynb\"><img src=\"data:image/png;base64,iVBORw0KGgoAAAANSUhEUgAAAFIAAAAVBAMAAAAnX6R8AAAAMFBMVEX////c3NxERESqqqqYmJgQ\n",
       "EBDu7u4yMjKIiIi6urpUVFTMzMx2dnYiIiJmZmYAAABjE816AAAAAXRSTlMAQObYZgAAAUlJREFU\n",
       "KM9jYCAHzMAtxTIBmce9ALsqr3fPPBleI4uwJ2BVyO7AkPSBgR1ZqAO7kWsYGJgLGFgOIAmFIctn\n",
       "1N69DmYw/ga6q4GBLQAhx1mA7OYSmFM4PwN5GxgYlBGSfEDzGU8stHgB4gjB3cz4vxtMn0NxOUMO\n",
       "g69DLIijiBDv//9JAEiZM7y9CwR3gExWYJAdYOhnsAay2RQQKhm94kE+mArh7QJifqDKBIZFEMfF\n",
       "ArVfh6nl+QIk9qOqZGCIQI8EoJvY0FSyGkDChA1k+wWYQrYHQMGPqLYzAXU7cnxgaAMJLIGpBAY6\n",
       "Ax/IBndo8IFc84CB+QtTAGMDSCAXliL4bjAwNKGFEucFBjaNY2daIB6u2wAR5eJctcgBxKhEipdA\n",
       "5NhkXo7wO9i9SLHJ4IMv7fI0EE51EJCOzGFcgEflQhSeBG6FHBsYABC2Tqwmj+voAAAAAElFTkSu\n",
       "QmCC\n",
       "\" style=\"display:inline;vertical-align:middle;\" /></a></span></td></tr><tr><td>2</td><td>theorem</td><td></td><td><span style=\"font-size:20px;\"> <a class=\"ProveItLink\" href=\"../../../equality/_proofs_/subLeftSideInto.ipynb\" style=\"text-decoration: none\">&#x22A2;&nbsp;</a><a class=\"ProveItLink\" href=\"../../../equality/__pv_it/3ec60be0054bb218e4347eeddae1ab877388efa90/expr.ipynb\"><img src=\"data:image/png;base64,iVBORw0KGgoAAAANSUhEUgAAAMIAAAAXBAMAAACrPI2eAAAAMFBMVEX///8QEBC6urrMzMxUVFRm\n",
       "ZmZERETc3NwyMjKqqqp2dnaIiIiYmJgiIiLu7u4AAAAU9Wx4AAAAAXRSTlMAQObYZgAAAsZJREFU\n",
       "SMe1Vk1oE1EQ/pLd5m832+BFvEgED0KRRhA8NmhRsRdBeyke1oOtf5CAYlARFy8VFPVSEXJwEYq1\n",
       "ouRQD/bSFS+CiDkoghQpgkW8NKixttTqvL/ta8OCSjqwmdlvv51v38y8R4B1t5l1yRqvCW/ngToL\n",
       "XrYn78Tv3t43ZRbtVNAh4AHzN9r06T+BxMZVCVPAOXJJtz0CxiKQpgtWTUG2jxQ1ouNWexSsr5Sy\n",
       "SUEs7K6Tg32/UrnUpiIlGoC5QMG2FewE8GNw8P3fJTjDf9PRhE4PmGMVH6DrwsT5J1SsUWAPMETv\n",
       "lfoPD7UOnXC3m/17y0j6oth+pEKPD+MtC65TeXx7OkaDegfYCoek8Qx41Lps2a4cMnV1g3uRClMH\n",
       "xgf4sG4AMrAa6QKwBcjCCgjsBV7PRCiYRdjLqErwc6RCSSWgjjsw+YT20AAEWfZgGtgftYZsANOD\n",
       "KqJZiFL4hRUFGqiaVHA8tgGdb7Df0domuqgv6HKxWVOYK+BVGTmJ82GXRGhkGE2lsIn9XC6wI4mq\n",
       "hKHdrKeL40fIPTZdeurU5o2cptA9PhrA8CQeL0qieZXsWkjm20HYaepdeQoWKbyg2xF2NGU8/iif\n",
       "Yj1JfqxbrqYwxueqKHHDC4nQyUgsKwUa0bvBUVwUoahX4qAcaT4Lpm/WNIVjfB8UJc4VJFEnfyp9\n",
       "V4fFdmB28stD9hFX2CyyRnfKg2MHWB9j+VhBU1jga3AlHnclMcGrFJI1i5W1U0NtFsKSw0ZjDH5y\n",
       "GLFCtzZLxjznUjE5bvuSqNJJsmZ2uCszalmZm3SQG0vOqZHJGWMJ6b7jmsJYk3/jBwi8Iy+J8l1F\n",
       "1i08vddsHlu5Cvr0/SDsKQSeConCFFm3syrYtxrfpdzJuNeqMAuBV0OiMEXWLSmLY63pUKBcdRKt\n",
       "CmmJF0OiMEX+LzNX3T0XLfvH/w5/AOrJuu1B3OWnAAAAAElFTkSuQmCC\n",
       "\" style=\"display:inline;vertical-align:middle;\" /></a></span></td></tr>\n",
       "<tr><td>&nbsp;</td><td colspan=4 style-\"text-align:left\"><a class=\"ProveItLink\" href=\"../../../equality/_proofs_/subLeftSideInto.ipynb\">proveit.logic.equality.subLeftSideInto</a></td></tr><tr><td>3</td><td>specialization</td><td>5, 6</td><td><span style=\"font-size:20px;\"><a class=\"ProveItLink\" href=\"../__pv_it/0bdcf5b1be86a64613b85fb333664ba60799088c0/expr.ipynb\"><img src=\"data:image/png;base64,iVBORw0KGgoAAAANSUhEUgAAAH0AAAAVBAMAAACZCfwhAAAAMFBMVEX////c3NxERESqqqpUVFS6\n",
       "urrMzMwyMjIQEBCIiIh2dnYiIiLu7u5mZmaYmJgAAABXZE4RAAAAAXRSTlMAQObYZgAAAf1JREFU\n",
       "OMtjYGDgu8dAFmBbJQCieHaByEg8Cp/iMqAZRHJ+ADEdsCvh8717LoA3AVVw+af6ik0GQMZ1EI+r\n",
       "AUiwH8Cuv46BR5+BoQBNVCGSp2YVkF4B1z8Tu3aWBQwM5gwMrzD0M0xlR9HfgyzNM333boiV8kCX\n",
       "ZzIwnEATB+q3YzmApJ8VxYXpb2CseKAv0xgYmAxQxUH2CyHbzwt0J4PUFOG5E4A0ow7cJPmf4KDj\n",
       "usCAIq4QybZPB6afF2g3+wOg6xbw7ePYABRgEoDr5/z/XxFIMYOdhxBXiN7/A2TTexAnI4CBgQOI\n",
       "uYAxyQyy7hCSV+Q8fgD9yQoKIiRxoPtnGoFiDeiulDYggx+on4eBRQEsG7F7Nyz8gGA90GlsH1DF\n",
       "gfqZWEFeVgdKRiRA9ANdMQGsIwWReoD4PFx/CrL9TAxAy7hBZrAAjeQwgMYWKBmdhqs7CxIUgLn/\n",
       "NIZ+sP+5gGHGBLSET2A+AydIP8sDmDpg0mG4AnIH2NUIcZj74fEHiiD7BxoMkuBkshWm7vYEBk4F\n",
       "ePwhxIH6305Cjn9WoBsOzTq1EmKD+DWoOocQFz0QzR6AIg7MP9otBijptxElfZtU70ZJkCdwiCP0\n",
       "v8JbUqzEIQ7Wz4cv/0LyTQEOCXD+59kJStsOePSzCOAof1ohqWQxkJDEo38anvIPABDqiGG8tGR0\n",
       "AAAAAElFTkSuQmCC\n",
       "\" style=\"display:inline;vertical-align:middle;\" /></a> <a class=\"ProveItLink\" href=\"../__pv_it/2f845bc19bd42b6a5d4d8ee06e28981a25a8c9d70/proof.ipynb\" style=\"text-decoration: none\">&#x22A2;&nbsp;</a><a class=\"ProveItLink\" href=\"../__pv_it/1269eafcbe06f887fca50f65df47c21195d81e1f0/expr.ipynb\"><img src=\"data:image/png;base64,iVBORw0KGgoAAAANSUhEUgAAAIkAAAAVBAMAAACArtDCAAAAMFBMVEX////c3NwiIiJERESqqqqY\n",
       "mJh2dnZmZmYQEBDu7u4yMjJUVFTMzMyIiIi6uroAAAAs73DqAAAAAXRSTlMAQObYZgAAAg9JREFU\n",
       "OMtjYKAO4LuAxHmLWx3rAwjGDk4jsXk2YFcTXV4Zx1ADZNSgSWR9Xr9C2QHIWIkkyDUBqyFcAQyT\n",
       "PzBwgVjoUgZvOVemMTDwInvoLnanbGNgYFnAwJrAAMZopjDcAxrNgWx9J7ICzltKSgtADMY/QL9e\n",
       "YOBsYABjEJi7SEkLZoor9wSGV8gBvQDZlFORMOEvQFMOMDCYMEAwkLd0ApJbhBkYypD0sQPdy5i7\n",
       "0bcW7AJLmDDj/ztgOh2KGRiEJyB8xKMKVLgUNRQZpjEEBTSBOMwCcPH7/z+DOF5QzMBgiAiXR/o/\n",
       "gCHbB3SCEggA3cEBTA4JDPcZfEDykxGmM0b3g0LsBRQzcBogh+5dZwaGf0hJhR9oygSGzRCBFyCj\n",
       "YQHF9hVInIdiBr4moBQ8dJn5EjBMYWDoRU+NQH9yopiClDhBpjAYMLQgmcLhAIlXTpDAJHiMFwAF\n",
       "P6L4SAHdFFMkU5iBtgbyfmC4CRLgDoDKABMcAzvI9igoZmDYimIK0EfpMD4wQbAVMLB8ZW5gBCdn\n",
       "Tj1Y/OsyMFxGjelJD5BMCQdKPkJOdQoMnLaZaVchPClo1uPm270Z7K51UAz04PID8Nxo1A0MBw4B\n",
       "JGMaUfKI9yIl5MSMnANYdkHjCFZsIOevMHwFEdsFCMYKiCgZIGAWFGMF0khsxg14TNkIxVgBI7Ij\n",
       "ZXEbwnsAgrEBAEV1im3XEPk7AAAAAElFTkSuQmCC\n",
       "\" style=\"display:inline;vertical-align:middle;\" /></a></span></td></tr>\n",
       "<tr><td>&nbsp;</td><td colspan=4 style=\"text-align:left\"><span style=\"font-size:20px;\"><a class=\"ProveItLink\" href=\"../../../../__pv_it/2cbe72a7ad6f655694dd697106680215e8489b600/expr.ipynb\"><img src=\"data:image/png;base64,iVBORw0KGgoAAAANSUhEUgAAAA8AAAAOBAMAAAACpFvcAAAALVBMVEX///8QEBBERERUVFS6urqI\n",
       "iIhmZmaqqqrc3Nzu7u6YmJgyMjIiIiLMzMwAAADtIaYWAAAAAXRSTlMAQObYZgAAAFtJREFUCNdj\n",
       "YACBOwxQsA9Kc52bAGG05zVAGAFxDmCaZULdAjBjCsO9ADDDgaEvAUTzGhvbKYCVMDAwbgAxChgY\n",
       "eASANAeQwf0AyJgNxEwvGRia5HYwcOm9TgAA6BoR3jrzwFcAAAAASUVORK5CYII=\n",
       "\" style=\"display:inline;vertical-align:middle;\" /></a> : <a class=\"ProveItLink\" href=\"../__pv_it/269dcb9abf61389766c1a70edd07ce806798e9270/expr.ipynb\"><img src=\"data:image/png;base64,iVBORw0KGgoAAAANSUhEUgAAADMAAAAPBAMAAAC7N+rPAAAAMFBMVEX///+6uroyMjJERETMzMwQ\n",
       "EBAiIiKYmJju7u5mZmaqqqpUVFSIiIh2dnbc3NwAAAAWgogoAAAAAXRSTlMAQObYZgAAAM1JREFU\n",
       "GNNjYMAG2HfObBfAKsOgzsBhj12G+wIDwyIUkR61tCQw470DA4MPsgyLegOUJb+AgcEFSL89/erk\n",
       "AZDAY5gMw/s/DiCK4wJ7OmsCiGUH18/z/z+Iw8vA84ELpIjDAGH2861fgUZwMHBDxBjD0tKgzgCC\n",
       "+wUgkvUAxBUb4B4G4v4CqFNBDuBIgEl1ggQfAJU8OM/AA3bbdpgUyLezgXh9gSnDG7BIGyzUph1g\n",
       "4AHZ33y29w7YXAY+TQeI1Abp3eZoQce1CeFCIAAAnqEy768c/WoAAAAASUVORK5CYII=\n",
       "\" style=\"display:inline;vertical-align:middle;\" /></a></span></td></tr><tr><td>4</td><td>specialization</td><td>7</td><td><span style=\"font-size:20px;\"> <a class=\"ProveItLink\" href=\"../__pv_it/b105f799ec5e0ac4d9704deef597aff5504af0db0/proof.ipynb\" style=\"text-decoration: none\">&#x22A2;&nbsp;</a><a class=\"ProveItLink\" href=\"../__pv_it/d5b313b7e2c4485d716e9c45c12c3dd69736fce80/expr.ipynb\"><img src=\"data:image/png;base64,iVBORw0KGgoAAAANSUhEUgAAAL8AAAAVCAMAAAAgs8+8AAAAQlBMVEX///9bW1sNDQ0JCQkdHR0P\n",
       "Dw8WFhbc3NwiIiJERESqqqqYmJh2dnZmZmYQEBDu7u4yMjJUVFTMzMyIiIi6uroAAAASwAKsAAAA\n",
       "AXRSTlMAQObYZgAAAihJREFUSMfNl9uW3SAIhtMjGs9R3/9VSzQnkyDutqurXsy/ZzB8RIHNTBO7\n",
       "kpv+75Vi1yyI+FX6Q/cMl1o7d9cldLffzSoYY9z6sFlGcKR7hvsI+8Hd1Pfzw7TH7BX+cDKXzyNc\n",
       "0r3/KC/fuEUjc4ui+S3oInN5VGmeS7qPH2XPK7eopY/BRS9+/hCXY4Zc72wpcGd5MOme4eJiuasm\n",
       "OgkWr9wkoSm5PFdTdSdntnj9p4aNe9v9zkU1212AjgHmaM5bBYleXIuBnOOlarXh4jeaMRDc2yK4\n",
       "qKUuME50p4Sa7Jnu5eTvWRozruNO5vPtjL+s0JYdWY8091Etr1xUW9uLLnvwL8dbOvnaJEAFm/fc\n",
       "TWwBbO6NOJZuDBT3eQNvXNRc/ayG0DyZLMK+f2vraLu2vJ3qkrn4cyK6fp8rxBAX9QKw8QHSbYFu\n",
       "j7u/Fz/BvX93EVxUO7c96sgXJx7N35l9Jzzy55IhQpwHamci/j53GuOiyvpKCkoaTvHM96Cm1PaX\n",
       "vWzMfkSK/QaWioi/y70tkotaW9GMNyPxpeBylU6k0E44RhRzlOP987ljuRoI7r3XUlzUJGrRR+20\n",
       "js2rg//axh+mFEK4HKlnR9AkugaCawa5q1qgR74vwb/1geOkRuYH+NSwXssYt2hnCJPAJMfACEa6\n",
       "Hxn+GG5Vco4F2Xfj/uX8/MLdFKj/I6JiZloYoZHuIfxm/Dt3VyDSgDn+uIzhKPe0YYxb9BejASTg\n",
       "Cm3XTwAAAABJRU5ErkJggg==\n",
       "\" style=\"display:inline;vertical-align:middle;\" /></a></span></td></tr>\n",
       "<tr><td>&nbsp;</td><td colspan=4 style=\"text-align:left\"><span style=\"font-size:20px;\"><a class=\"ProveItLink\" href=\"../../../../__pv_it/530be409e3083890784cf1d7b28c9e67e90af9360/expr.ipynb\"><img src=\"data:image/png;base64,iVBORw0KGgoAAAANSUhEUgAAAAsAAAAJBAMAAAAWSsseAAAAKlBMVEX///9ERETMzMwQEBAiIiKY\n",
       "mJju7u5mZmaqqqpUVFSIiIh2dnbc3NwAAAA/vyDhAAAAAXRSTlMAQObYZgAAAENJREFUCNdjYDi9\n",
       "8sTyBQxsG1hdmR0YuBm4LnAoMLAxcAowgADzAjB1VoEhgYH1wFoGrgSG3gBhhlMMDImrs3cFMAAA\n",
       "t0YN+iTRa+sAAAAASUVORK5CYII=\n",
       "\" style=\"display:inline;vertical-align:middle;\" /></a> : <a class=\"ProveItLink\" href=\"../../../../__pv_it/530be409e3083890784cf1d7b28c9e67e90af9360/expr.ipynb\"><img src=\"data:image/png;base64,iVBORw0KGgoAAAANSUhEUgAAAAsAAAAJBAMAAAAWSsseAAAAKlBMVEX///9ERETMzMwQEBAiIiKY\n",
       "mJju7u5mZmaqqqpUVFSIiIh2dnbc3NwAAAA/vyDhAAAAAXRSTlMAQObYZgAAAENJREFUCNdjYDi9\n",
       "8sTyBQxsG1hdmR0YuBm4LnAoMLAxcAowgADzAjB1VoEhgYH1wFoGrgSG3gBhhlMMDImrs3cFMAAA\n",
       "t0YN+iTRa+sAAAAASUVORK5CYII=\n",
       "\" style=\"display:inline;vertical-align:middle;\" /></a>, <a class=\"ProveItLink\" href=\"../../../../__pv_it/abeee18594afe51bfb1be95d9591fbba24ac53f30/expr.ipynb\"><img src=\"data:image/png;base64,iVBORw0KGgoAAAANSUhEUgAAAA0AAAAOBAMAAAAGUYvhAAAAMFBMVEX///8iIiIQEBCIiIjMzMzc\n",
       "3Nyqqqp2dnZEREQyMjK6urru7u5mZmZUVFSYmJgAAACI6eGPAAAAAXRSTlMAQObYZgAAAF1JREFU\n",
       "CNdjYGDgu3Nm3wIGBoZ5DNz9QIq3gIEhE0jHOzAwOAPp9QkMDC4g/megABAw///fCmbEXfq0Acxg\n",
       "qH8ANAVI7wfSe0BKAyBGnAXigwYMzA1A+sLau31ACgAz0hhbkhGHbwAAAABJRU5ErkJggg==\n",
       "\" style=\"display:inline;vertical-align:middle;\" /></a> : <a class=\"ProveItLink\" href=\"../../../../__pv_it/abeee18594afe51bfb1be95d9591fbba24ac53f30/expr.ipynb\"><img src=\"data:image/png;base64,iVBORw0KGgoAAAANSUhEUgAAAA0AAAAOBAMAAAAGUYvhAAAAMFBMVEX///8iIiIQEBCIiIjMzMzc\n",
       "3Nyqqqp2dnZEREQyMjK6urru7u5mZmZUVFSYmJgAAACI6eGPAAAAAXRSTlMAQObYZgAAAF1JREFU\n",
       "CNdjYGDgu3Nm3wIGBoZ5DNz9QIq3gIEhE0jHOzAwOAPp9QkMDC4g/megABAw///fCmbEXfq0Acxg\n",
       "qH8ANAVI7wfSe0BKAyBGnAXigwYMzA1A+sLau31ACgAz0hhbkhGHbwAAAABJRU5ErkJggg==\n",
       "\" style=\"display:inline;vertical-align:middle;\" /></a></span></td></tr><tr><td>5</td><td>theorem</td><td></td><td><span style=\"font-size:20px;\"> <a class=\"ProveItLink\" href=\"../../../boolean/negation/_proofs_/closure.ipynb\" style=\"text-decoration: none\">&#x22A2;&nbsp;</a><a class=\"ProveItLink\" href=\"../../../boolean/negation/__pv_it/72b98988c14db13303ee78323c7b5433c84d23350/expr.ipynb\"><img src=\"data:image/png;base64,iVBORw0KGgoAAAANSUhEUgAAAJsAAAAVBAMAAACj9YEXAAAAMFBMVEX///8QEBC6urrMzMxUVFRm\n",
       "ZmZERETc3NwyMjKqqqp2dnaIiIiYmJgiIiLu7u4AAAAU9Wx4AAAAAXRSTlMAQObYZgAAAnlJREFU\n",
       "OMutVEtoE0EY/pI0SZNs1uJNJBhFUHxADt6kpGihCmIFycXn4mFjUWgOkiKiBqEUSm29CN7cSxUR\n",
       "ZMGTpy6C4uNSDxURg1tRCVZFegg9iPr/M7O7ea1e/OBj55/559v/MTPA/4X719WoLdkGLd/b+TFx\n",
       "kQcvw+T2KAYYJB5td0rPnV3LjQHxAnCPJ2bD5Ga7FueI/R1eiajd+GIBNaBKZtIIUcvYki2Jvqfq\n",
       "aFaXXCZPWi/oT7QcvxEiF3ElA1w8XQH0AWmsXK+/UXIp5zCwTH+6OzFxOSzX7YoB7AXuw5gYx2bc\n",
       "ILptlGGCwmqa5tswuWOKQafd2w595oVRdYNkB5+SkT4C7AfKYnKqW25G0ccHFLmUt4RRDmpX/72R\n",
       "vimq31boNVHkVVXs6elJR/mtl4zXGVz/PK5SBNjMi7rR2opHZEWppllkxO5PP7m4pROwrZUtym9V\n",
       "UVRqiDg8PMoiRZF4jv7htQLGDlr+QQfByYoaPFii8Zkr30ku/TVELkqNrnlyPOFHByMh5fSaOPYx\n",
       "2wSeiOZZO08pvw2K3m7qXHbAT3axU46TRXkfT/XhpDjWJFfKebU7r6jkkiTXTxHgmZg51CZHyWq8\n",
       "/6b4y3MsIGbJ6OJ7ld+8fygIBTR46y9/7ls+kNOOG/KgIMKt15dK427stWme49qlld9uRYnqpilo\n",
       "42u055qwk5MF7wlovjrId5n1Ne5EvIJiQR+S0flykYpkB7xLljogO+th2R/tAtY5GFHJXvIuvNV9\n",
       "3zkcu/cluu8NPjaRHH2Hz3lxjE0n/IFiNHqryevQijtUu1ZcUGzHSG+5vsq/nv6kLdn+ChZ6Oz8E\n",
       "/gA3Vqps4Em40QAAAABJRU5ErkJggg==\n",
       "\" style=\"display:inline;vertical-align:middle;\" /></a></span></td></tr>\n",
       "<tr><td>&nbsp;</td><td colspan=4 style-\"text-align:left\"><a class=\"ProveItLink\" href=\"../../../boolean/negation/_proofs_/closure.ipynb\">proveit.logic.boolean.negation.closure</a></td></tr><tr><td>6</td><td>assumption</td><td></td><td><span style=\"font-size:20px;\"><a class=\"ProveItLink\" href=\"../__pv_it/0bdcf5b1be86a64613b85fb333664ba60799088c0/expr.ipynb\"><img src=\"data:image/png;base64,iVBORw0KGgoAAAANSUhEUgAAAH0AAAAVBAMAAACZCfwhAAAAMFBMVEX////c3NxERESqqqpUVFS6\n",
       "urrMzMwyMjIQEBCIiIh2dnYiIiLu7u5mZmaYmJgAAABXZE4RAAAAAXRSTlMAQObYZgAAAf1JREFU\n",
       "OMtjYGDgu8dAFmBbJQCieHaByEg8Cp/iMqAZRHJ+ADEdsCvh8717LoA3AVVw+af6ik0GQMZ1EI+r\n",
       "AUiwH8Cuv46BR5+BoQBNVCGSp2YVkF4B1z8Tu3aWBQwM5gwMrzD0M0xlR9HfgyzNM333boiV8kCX\n",
       "ZzIwnEATB+q3YzmApJ8VxYXpb2CseKAv0xgYmAxQxUH2CyHbzwt0J4PUFOG5E4A0ow7cJPmf4KDj\n",
       "usCAIq4QybZPB6afF2g3+wOg6xbw7ePYABRgEoDr5/z/XxFIMYOdhxBXiN7/A2TTexAnI4CBgQOI\n",
       "uYAxyQyy7hCSV+Q8fgD9yQoKIiRxoPtnGoFiDeiulDYggx+on4eBRQEsG7F7Nyz8gGA90GlsH1DF\n",
       "gfqZWEFeVgdKRiRA9ANdMQGsIwWReoD4PFx/CrL9TAxAy7hBZrAAjeQwgMYWKBmdhqs7CxIUgLn/\n",
       "NIZ+sP+5gGHGBLSET2A+AydIP8sDmDpg0mG4AnIH2NUIcZj74fEHiiD7BxoMkuBkshWm7vYEBk4F\n",
       "ePwhxIH6305Cjn9WoBsOzTq1EmKD+DWoOocQFz0QzR6AIg7MP9otBijptxElfZtU70ZJkCdwiCP0\n",
       "v8JbUqzEIQ7Wz4cv/0LyTQEOCXD+59kJStsOePSzCOAof1ohqWQxkJDEo38anvIPABDqiGG8tGR0\n",
       "AAAAAElFTkSuQmCC\n",
       "\" style=\"display:inline;vertical-align:middle;\" /></a> <a class=\"ProveItLink\" href=\"../__pv_it/212342dd33da80f6af954b6561c2b62338917e470/proof.ipynb\" style=\"text-decoration: none\">&#x22A2;&nbsp;</a><a class=\"ProveItLink\" href=\"../__pv_it/95857e7f538d672d83b67a71660ff5163f3647690/expr.ipynb\"><img src=\"data:image/png;base64,iVBORw0KGgoAAAANSUhEUgAAAGgAAAAVBAMAAABYjraNAAAAMFBMVEX////c3NwiIiJERESqqqqY\n",
       "mJh2dnZmZmYQEBDu7u4yMjJUVFTMzMyIiIi6uroAAAAs73DqAAAAAXRSTlMAQObYZgAAAZxJREFU\n",
       "OMtjYCAL8F3ALcf6AIfEaRzi0eWVcQw1qGJs661+NZkAGSux6+EKYJj8gYELTZSZ78KsaQkMvDhc\n",
       "t42BgWUBA2sChibeBwsYOCYgC85dpKQFZjD+YWDgucDA2YAqDtTEErCT4RWyHp6lMCP4vgB5BxgY\n",
       "TFDFQTY9NGAoAxmbu9G3FiQmDLeW8f8dMJ3OgCIO1HQoeALDUiBzGkNQQBNIzBBh6f3/nwWAlBcD\n",
       "ijgzn9L/XgaGPiAzgeE+gw+Q5jRAaGKM7u8EUi8YUMRBzrtiwPAPyJzAsBnikSYlJWhAgCLlK5A4\n",
       "jyoO1MRg8AysiYGhF+LfDXCLAoDmwzUhxMGamBlaoAHMCXKGAkySswAo+BHuPAU0TaZAZiDvB4ab\n",
       "ILGtMElgvDKwg8yPYkARhzoPGKYsX5kbGMEJYxIsgbLrMjBcRgQ5XByoibXWgOER0HbbzLSrkCBb\n",
       "fgAiyc23e3MAiLEORRyYYD9rbGFg4BBAThIsuxChB/ZNA1Zx9CSJlhdwJOeV+DTNwiEujU/TRhzi\n",
       "jHiyO+8BrMIATOVt+0dxm7sAAAAASUVORK5CYII=\n",
       "\" style=\"display:inline;vertical-align:middle;\" /></a></span></td></tr>\n",
       "<tr><td>7</td><td>axiom</td><td></td><td><span style=\"font-size:20px;\"> <a class=\"ProveItLink\" href=\"../_axioms_.ipynb#notInSetDef\" style=\"text-decoration: none\">&#x22A2;&nbsp;</a><a class=\"ProveItLink\" href=\"../__pv_it/9675a23e9adc2c0ebe46a1cf8c695c3db677fec90/expr.ipynb\"><img src=\"data:image/png;base64,iVBORw0KGgoAAAANSUhEUgAAAQIAAAAWCAMAAAAcoWJbAAAAQlBMVEX///9bW1sNDQ0JCQkdHR0P\n",
       "Dw8WFhYQEBC6urrMzMxUVFRmZmZERETc3NwyMjKqqqp2dnaIiIiYmJgiIiLu7u4AAAAq2h4+AAAA\n",
       "AXRSTlMAQObYZgAAAu9JREFUWMPdV+nWnCAMtavIoqzv/6oFFDWQCM5pe06bP/ebL0xuJmRjmv6g\n",
       "MD/9C/KRl8xAJMQRxi17RzOu6Eghhugu/bDdhUPsHDsJuBDCJ1qxvKEZV1C/vCEGqLdycB1OiHKy\n",
       "8w0BL3u1KelkyH+/oRlXEMcR4jsqeXw4/+iKMRDJOgCfuM6wZXKrx2nGFbigxABLSMU2anP2ELEO\n",
       "Y1b384e7XbYKe+4t2X8/j9OMK3beKPckw4kBWq2yuOFeuELEinW1fpIKfCvsIV52h+Q2SjOuOHjr\n",
       "4zgxwCCTOD0aAqEhKm242oy40lPJ6IiHnqoQzK0JajFKQyoI3loIYoA8H4B3doZVaG3s0naXC330\n",
       "yDo7zVcaZVt1xZoQ5WTZrgCJ9Sa8ocG7G83btg6UGCBLtB7NLiZyJlWlyADqzBJtnYHyEm3byvI5\n",
       "lDpm3WZwmBfuFD3Ei+QBRgwxhdFYuqdXlgMDmExzcITN0d/v36q2tPsdDp4l9EIQGLENPPM6h/G2\n",
       "xBDTz0cXOR/yf+1jCPLFmMZXDfudLRZ/WwgI3mYtIoghxiIo344dhhl+ppabdbvLzhvEMnfOIHrX\n",
       "LAVelJOqKYRbqjsnG5rmFz7z1rdIEVcoFT/qy6fcuji8mEOoXZEWoFW5JCdz5RG3exe5pDQfUS7K\n",
       "dvdDaYkQPPLWQhJXuIkjfqxtxIrXjQuOlS1mmIxH1C0nvWMcThHhstrI8aHYnlgGeJsJShHXeKup\n",
       "cA0Wz/YqqseEu6OXRvs0OUHc1q8wBDzOHc5vF7t2H4vMPSoI3voBRhLXeO1Uy3xGe9pyCSzNqJkV\n",
       "RKwJfeEr2pknuJ8+TkX1VpF8fubFF+R7poVJr3niqjXSCInvG/VTAytk1cnygZcOad4OL7I0cY3X\n",
       "bmE2EfMrBcOmx3R8Zgv1wWO59+r0f/WxjBDXiIf6Qac4xHYntZ33qxrxlzSv+KchKMQ1oo+DRydL\n",
       "G1ZEPneSwCxjDlPmacU0Rlzj6yT4z+QX8HMygUNBMOAAAAAASUVORK5CYII=\n",
       "\" style=\"display:inline;vertical-align:middle;\" /></a></span></td></tr>\n",
       "<tr><td>&nbsp;</td><td colspan=4 style-\"text-align:left\"><a class=\"ProveItLink\" href=\"../_axioms_.ipynb#notInSetDef\">proveit.logic.set_theory.membership.notInSetDef</a></td></tr></table>"
      ],
      "text/plain": [
       "\tstep type\trequirements\tstatement\n",
       "0\tgeneralizaton\t1\t|- forall_{x, S | (x in S) in BOOLEANS} ((x not-in S) in BOOLEANS)\n",
       "1\tspecialization\t2, 3, 4\t{(x in S) in BOOLEANS} |- (x not-in S) in BOOLEANS\n",
       "\tP(_x_) : _x_ in BOOLEANS, x : x not-in S, y : [not](x in S)\n",
       "2\ttheorem\t\t|- forall_{P, x, y | P(y) , x = y} P(x)\n",
       "\tproveit.logic.equality.subLeftSideInto\n",
       "3\tspecialization\t5, 6\t{(x in S) in BOOLEANS} |- [not](x in S) in BOOLEANS\n",
       "\tA : x in S\n",
       "4\tspecialization\t7\t|- (x not-in S) = [not](x in S)\n",
       "\tx : x, S : S\n",
       "5\ttheorem\t\t|- forall_{A in BOOLEANS} ([not](A) in BOOLEANS)\n",
       "\tproveit.logic.boolean.negation.closure\n",
       "6\tassumption\t\t{(x in S) in BOOLEANS} |- (x in S) in BOOLEANS\n",
       "7\taxiom\t\t|- forall_{x, S} ((x not-in S) = [not](x in S))\n",
       "\tproveit.logic.set_theory.membership.notInSetDef"
      ]
     },
     "execution_count": 9,
     "metadata": {},
     "output_type": "execute_result"
    }
   ],
   "source": [
    "%qed"
   ]
  },
  {
   "cell_type": "code",
   "execution_count": null,
   "metadata": {},
   "outputs": [],
   "source": []
  }
 ],
 "metadata": {
  "kernelspec": {
   "display_name": "Python 3",
   "language": "python",
   "name": "python3"
  }
 },
 "nbformat": 4,
 "nbformat_minor": 0
}
