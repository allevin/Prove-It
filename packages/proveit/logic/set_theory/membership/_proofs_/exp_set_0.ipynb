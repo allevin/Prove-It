{
 "cells": [
  {
   "cell_type": "markdown",
   "metadata": {},
   "source": [
    "Proof of <a class=\"ProveItLink\" href=\"../../../../_context_.ipynb\">proveit</a>.<a class=\"ProveItLink\" href=\"../../../_context_.ipynb\">logic</a>.<a class=\"ProveItLink\" href=\"../../_context_.ipynb\">set_theory</a>.<a class=\"ProveItLink\" href=\"../_context_.ipynb\">membership</a>.<a class=\"ProveItLink\" href=\"../_theorems_.ipynb#exp_set_0\">exp_set_0</a> theorem\n",
    "========"
   ]
  },
  {
   "cell_type": "code",
   "execution_count": 1,
   "metadata": {},
   "outputs": [],
   "source": [
    "import proveit\n",
    "context = proveit.Context('..') # the theorem's context is in the parent directory"
   ]
  },
  {
   "cell_type": "code",
   "execution_count": 2,
   "metadata": {},
   "outputs": [
    {
     "name": "stdout",
     "output_type": "stream",
     "text": [
      "Beginning proof of exp_set_0\n",
      "Recorded 'presuming' information\n"
     ]
    },
    {
     "data": {
      "text/html": [
       "<strong id=\"exp_set_0\">exp_set_0:</strong> <a class=\"ProveItLink\" href=\"../__pv_it/c36d0cbfb5d1d5f5c85086d7c2d17f1d8ab33f760/expr.ipynb\"><img src=\"data:image/png;base64,iVBORw0KGgoAAAANSUhEUgAAALkAAAAcBAMAAADPUgMyAAAAMFBMVEX///8QEBC6urrMzMxUVFRm\n",
       "ZmZERETc3NwyMjKqqqp2dnaIiIiYmJgiIiLu7u4AAAAU9Wx4AAAAAXRSTlMAQObYZgAAAsVJREFU\n",
       "SMe1VktoE1EUPclkMs1nxuCuihrBnYtEsOBGElqJ4ioi0UVBsmqFgkQQ2404S0EtAe1GN91ZUwgB\n",
       "W1FbbJCKC1GLOz+BWWUhSAOFFiE03vdmMp8045iEXsi8d++bnLnvvnPPDLAfVlrG/llk3p8eEMIf\n",
       "d12Sk9hFeCD00+5Lmxq+QRgkfWXWfS2l4QewQjOtT/RA1X0twdHlArDB3I+9o990ia/nrr3Tc49Q\n",
       "aZ6z0Gzv6Lnu4aEq6o3NAoapdrvAbQpJ+d7RD3YPXwRCqi+JHZr/pIdR4cViz+BCw3HEr2o1lU2k\n",
       "LVqqEN9ZvleA6LPp6Tt9NEzM7p353G6CP4SexMoyI8sX+m1PTHzvgzKUqrR4/uk4z/hGOyy1Xjio\n",
       "gzFg0oqMlFaTbNQb0WjH+F79CBIhfuFT9Qh3Cub/11rbppMipBNQVKu9s0jwSd52bQ92/RjKAvNY\n",
       "wyPm1K3spPVjR9vzu5SVjIjVGDIl4o7O9cOYZlkjZnTneK1mnCpZuGkKApElUpU1u0JE3dG5fljo\n",
       "wOFOyaE8laY9d0Vli4ujS6ze8qE4HOjhpZNjJrreg3pl0jr/FOb8NplJz5R2THSGODlK29EyPkZ6\n",
       "5VKr6EAvB/LDNFy4R1ZJWOgBuuFDpIG3Ds0JUXlEUxsT7HznSGr8eGCEbsUc6HFq7W65RzYQagZj\n",
       "UoWn/NWIirT80iwT4zt8/A6+HyUOpeGs+4GCre5cP3RyNaBMlUurujdz2diR/1zGosgCu0TZoQox\n",
       "ge2sCCHvRD+FJA3XeWUM/eC25Wiuxw9r6p6Ou28SP6yGMVMQ8+3OMNCFxgLR2sb3vE2uvN4vZib1\n",
       "1+NlpKriSO6qgzPK1NwbzUQ39IPbWU/0aIfy2l43Xflut6CnrspJp6oWekCXVC/09x1bQQ/oeOIB\n",
       "/q9XUtp2Rddvh6hHacR+vwf+2/4CT52+tsPanZ8AAAAASUVORK5CYII=\n",
       "\" style=\"display:inline;vertical-align:middle;\" /></a><br>(see <a class=\"ProveItLink\" href=\"../__pv_it/c36d0cbfb5d1d5f5c85086d7c2d17f1d8ab33f760/dependencies.ipynb\">dependencies</a>)<br>"
      ],
      "text/plain": [
       "exp_set_0: forall_{x, S | |x| = 0} (x in S^{0})"
      ]
     },
     "execution_count": 2,
     "metadata": {},
     "output_type": "execute_result"
    }
   ],
   "source": [
    "%proving exp_set_0 presuming []"
   ]
  },
  {
   "cell_type": "code",
   "execution_count": null,
   "metadata": {},
   "outputs": [],
   "source": []
  }
 ],
 "metadata": {
  "kernelspec": {
   "display_name": "Python 3",
   "language": "python",
   "name": "python3"
  }
 },
 "nbformat": 4,
 "nbformat_minor": 0
}
