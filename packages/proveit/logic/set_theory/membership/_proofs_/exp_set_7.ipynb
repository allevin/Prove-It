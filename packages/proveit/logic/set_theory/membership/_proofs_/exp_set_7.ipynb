{
 "cells": [
  {
   "cell_type": "markdown",
   "metadata": {},
   "source": [
    "Proof of <a class=\"ProveItLink\" href=\"../../../../_context_.ipynb\">proveit</a>.<a class=\"ProveItLink\" href=\"../../../_context_.ipynb\">logic</a>.<a class=\"ProveItLink\" href=\"../../_context_.ipynb\">set_theory</a>.<a class=\"ProveItLink\" href=\"../_context_.ipynb\">membership</a>.<a class=\"ProveItLink\" href=\"../_theorems_.ipynb#exp_set_7\">exp_set_7</a> theorem\n",
    "========"
   ]
  },
  {
   "cell_type": "code",
   "execution_count": 1,
   "metadata": {},
   "outputs": [],
   "source": [
    "import proveit\n",
    "context = proveit.Context('..') # the theorem's context is in the parent directory"
   ]
  },
  {
   "cell_type": "code",
   "execution_count": 2,
   "metadata": {},
   "outputs": [
    {
     "name": "stdout",
     "output_type": "stream",
     "text": [
      "Beginning proof of exp_set_7\n",
      "Recorded 'presuming' information\n",
      "Presuming previous theorems (applied transitively).\n"
     ]
    },
    {
     "data": {
      "text/html": [
       "<strong id=\"exp_set_7\">exp_set_7:</strong> <a class=\"ProveItLink\" href=\"../__pv_it/8533bc02bfc5cdc98ab71ba5eae2dc1876683fe00/expr.ipynb\"><img src=\"data:image/png;base64,iVBORw0KGgoAAAANSUhEUgAAAYYAAAAcBAMAAACXJAVHAAAAMFBMVEX///8QEBC6urrMzMxUVFRm\n",
       "ZmZERETc3NwyMjKqqqp2dnaIiIiYmJgiIiLu7u4AAAAU9Wx4AAAAAXRSTlMAQObYZgAABaZJREFU\n",
       "WMPdWGtoHFUUPvt+zc6WqhQr2m0sxj+aLVgVUZLaWospdEVipIlm8ZEixjo/EhsQyf6oqDQNCz7w\n",
       "j7ooRWuwrI2VsKu4lKaglTaopVBdmEItUtBdWpIQGhPPuffO7J2HIUuTH/XCnTn3nDvnznde984A\n",
       "XJ8t+tHfOlznzb+wML2Y/OWKtizrNK0khqamPRBFwls55yafXJ5lfG0riCECkaRYoX8FMfy5sgH7\n",
       "GvYSx6C7YViW1XeQpwvXquXYfwnIB3GNYWBGP2nD4MJsuIVW4eUeiaFudnPwHTc5WGr7o/VBIOWQ\n",
       "H+945hiPo1gbw3CIuCM2DC7MhlsgbdcRdk2QWQcneGhOGmXt4nAZLtYgkCe08wzDq2SyjA2DC7Ph\n",
       "5kminSyhlMi5TPPOO1jVu+WJP9rFj2FGZyFeJvp3hiGMsR/I2TC4MBturYTDklgtbmkWdQbYx5bR\n",
       "eRFg45UKc0noCpa8AiQYhicZBuWzvXtft+e0C7Ph9hX2Oy2cL92mhdMO1tPWyOK2vP+U4TgMPl+K\n",
       "uRngNK+t07295xy11clsuG3Hvovs1v7JGs7ZV9ohZJdGxzjRX2wR7h4Y7TRS9tZHBDVRPIGOYiBD\n",
       "e8xasTBmdS1i2AKwG0ebvvg2VccgmBz4W5Z360lKgwtd1heXtDyPfRj7ei1Y49EwDQku9K2GA1z1\n",
       "GniFB1jkLAwYSq4aVaEtNMVin7xRPzp8vzBtDlpTDMMGUHGWNw0tkh84U7SD1oyTB11WmazlDeyr\n",
       "0WxzEODVITIPnjwP8QL0MWKoDE/x2UNJeMIw9BVBnNapaHmpRsNFqWgfX3ebQeNjhCEOsTJdIShh\n",
       "4EzR3ra85wfy4Od6UT/aUbZoOYP9Mh5sahDn1SmQhQQP/p3GHCREyG7+qWQYN1ITxI3gm0GnseH6\n",
       "SkXkNNUBs/ZWcwxDrBxHd1Z1UCQMnCnajAWDxfL1wvhNMx6GZS0CQyIDVR5BcXQSN4x54pwG9TKn\n",
       "ppyVKjILsUkDQ32zRBXqnM0Papbk8bVJOac5c6D4HAXI1a8Jzx+jBcZiXrlUYrY9McVuxWJGYRaW\n",
       "tezDfjOuUsBaqYvtoYcRISPgkYjUVEsOUOiLrTA2A8G0EUt/mf5GVsi06hDPB9j9MIkeX8jJZz5i\n",
       "qmdDZOfYpIJa1V+8NZMVGlHZQgrzbjTtT4f5ApKWbdj7mLe3R1L0opjQa4G9MZpRIVzqLPiz7zCE\n",
       "t+A6XAgetAtRSo3tinwNvxHalOIBc8Nv0TiG97jv+lfJGIjpT/uIDBYUGrSpKcaiacH2ks7fnhlD\n",
       "D+YeEM/WtXzH4y5cjpyJQpU05HBtIgBr56fqP6xufZjOM2oc1E4uhCr6kig8SOzUjDVUI/MCv2Hc\n",
       "mj4T+wPHnQS1JmMgZiLJzlSeFBWWBIsSwRI1EoLMOuOQ0B/q7e0tWLRQgbqLtocj9x6B8zN0lOsG\n",
       "RkBgtKSr68iEpdtfSjIq2lUSQlbzGbWhRLtdmIfnoChbfu/WbfVy87nAoOAzkRz4MjIGheV58BSq\n",
       "T7CzSZWVDYOl8RDnm2UHbIQLzM+yFsLpMQt5s4Pwak6qmZvEnPZC/awB7x6oOI5/sF/6BkJL13cR\n",
       "4wTj0Vsf1Ae1OJZTvKbg8KAmWMGcmg69yaoZ3iZgK/g1uxY/7gVKXqomNsIsYBKFQqWtT1BeyheA\n",
       "0UXOAuqMjGFTR6fjO87bdbIbWsverjxeQ+1FnWjGUjEffJiZG7H04R5WHAb1WbsWlksjDWPwjEwK\n",
       "qkfzUy3JLoJBySztW7TsuIobLj0h3uAGDGjMB6uaFyX9MbATUHBSJFQOaoJ6v9RN7lzs/0Q8tSQM\n",
       "Ps1+NW73wfAWuoUyXtcv8EEqwtf8LTq2mHBiaf8EFMfVuJVhF71h2bf/qOv3dyS/0j+Z+GeaK4bK\n",
       "Mv1f+mGlMQR0+r/0K/wP2r+BJbeE7u1GbwAAAABJRU5ErkJggg==\n",
       "\" style=\"display:inline;vertical-align:middle;\" /></a><br>(see <a class=\"ProveItLink\" href=\"../__pv_it/8533bc02bfc5cdc98ab71ba5eae2dc1876683fe00/dependencies.ipynb\">dependencies</a>)<br>"
      ],
      "text/plain": [
       "exp_set_7: forall_{S} [forall_{a, b, c, d, e, f, g in S} ((a , b , c , d , e , f , g) in S^{7})]"
      ]
     },
     "execution_count": 2,
     "metadata": {},
     "output_type": "execute_result"
    }
   ],
   "source": [
    "%proving exp_set_7 presuming []"
   ]
  },
  {
   "cell_type": "code",
   "execution_count": null,
   "metadata": {},
   "outputs": [],
   "source": []
  }
 ],
 "metadata": {
  "kernelspec": {
   "display_name": "Python 3",
   "language": "python",
   "name": "python3"
  }
 },
 "nbformat": 4,
 "nbformat_minor": 0
}
