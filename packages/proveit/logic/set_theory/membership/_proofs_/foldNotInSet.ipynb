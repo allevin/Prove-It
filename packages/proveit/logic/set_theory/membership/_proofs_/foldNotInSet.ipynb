{
 "cells": [
  {
   "cell_type": "markdown",
   "metadata": {
    "collapsed": true,
    "deletable": true,
    "editable": true
   },
   "source": [
    "Proof of <a class=\"ProveItLink\" href=\"../../../../_context_.ipynb\">proveit</a>.<a class=\"ProveItLink\" href=\"../../../_context_.ipynb\">logic</a>.<a class=\"ProveItLink\" href=\"../../_context_.ipynb\">set_theory</a>.<a class=\"ProveItLink\" href=\"../_context_.ipynb\">membership</a>.<a href=\"../_theorems_.ipynb#foldNotInSet\" class=\"ProveItLink\">foldNotInSet</a> theorem\n",
    "========\n",
    "*** see <a href=\"../__pv_it/37a0e0955551f7186966242f3c5b5edd6b57745c0/dependencies.ipynb\" class=\"ProveItLink\">dependencies</a> ***"
   ]
  },
  {
   "cell_type": "code",
   "execution_count": 1,
   "metadata": {
    "collapsed": true
   },
   "outputs": [],
   "source": [
    "import proveit\n",
    "from proveit.logic.set_theory.membership._axioms_ import notInSetDef\n",
    "context = proveit.Context('..') # the theorem's context is in the parent directory"
   ]
  },
  {
   "cell_type": "code",
   "execution_count": 2,
   "metadata": {
    "collapsed": false,
    "deletable": true,
    "editable": true
   },
   "outputs": [
    {
     "name": "stdout",
     "output_type": "stream",
     "text": [
      "Beginning proof of foldNotInSet\n",
      "Recorded 'presuming' information\n",
      "Presuming proveit.logic.equality.lhsViaEquivalence theorem (applied transitively).\n",
      "Presuming previous theorems (applied transitively).\n"
     ]
    },
    {
     "data": {
      "text/html": [
       "<strong id=\"foldNotInSet\">foldNotInSet:</strong> <a class=\"ProveItLink\" href=\"../__pv_it/8a72132f051a6ad2b86ee018550985800cafbabf0/expr.ipynb\"><img src=\"../__pv_it/8a72132f051a6ad2b86ee018550985800cafbabf0/expr.png\" style=\"display:inline;vertical-align:middle;\" /></a><br>(see <a class=\"ProveItLink\" href=\"../__pv_it/8a72132f051a6ad2b86ee018550985800cafbabf0/dependencies.ipynb\">dependencies</a>)<br>"
      ],
      "text/plain": [
       "foldNotInSet: forall_{x, S | [not](x in S)} (x not-in S)"
      ]
     },
     "execution_count": 2,
     "metadata": {},
     "output_type": "execute_result"
    }
   ],
   "source": [
    "%proving foldNotInSet presuming [proveit.logic.equality.lhsViaEquivalence]"
   ]
  },
  {
   "cell_type": "code",
   "execution_count": 3,
   "metadata": {
    "collapsed": false,
    "deletable": true,
    "editable": true
   },
   "outputs": [
    {
     "data": {
      "text/html": [
       "<span style=\"font-size:20px;\"> &#x22A2;&nbsp;<a class=\"ProveItLink\" href=\"../__pv_it/67819f53319f44311ab6b45c3b1888bd9b7ed0990/expr.ipynb\"><img src=\"../__pv_it/67819f53319f44311ab6b45c3b1888bd9b7ed0990/expr.png\" style=\"display:inline;vertical-align:middle;\" /></a></span>"
      ],
      "text/plain": [
       "|= forall_{x, S} ((x not-in S) = [not](x in S))"
      ]
     },
     "execution_count": 3,
     "metadata": {},
     "output_type": "execute_result"
    }
   ],
   "source": [
    "notInSetDef"
   ]
  },
  {
   "cell_type": "code",
   "execution_count": 4,
   "metadata": {
    "collapsed": false
   },
   "outputs": [
    {
     "data": {
      "text/html": [
       "<strong id=\"notInSetDefSpec\">notInSetDefSpec:</strong> <span style=\"font-size:20px;\"> &#x22A2;&nbsp;<a class=\"ProveItLink\" href=\"../__pv_it/acad11e4801a082dcd06984336e40c2f06136add0/expr.ipynb\"><img src=\"../__pv_it/acad11e4801a082dcd06984336e40c2f06136add0/expr.png\" style=\"display:inline;vertical-align:middle;\" /></a></span><br>"
      ],
      "text/plain": [
       "notInSetDefSpec: |= (x not-in S) = [not](x in S)"
      ]
     },
     "execution_count": 4,
     "metadata": {},
     "output_type": "execute_result"
    }
   ],
   "source": [
    "notInSetDefSpec = notInSetDef.specialize()"
   ]
  },
  {
   "cell_type": "code",
   "execution_count": 5,
   "metadata": {
    "collapsed": false
   },
   "outputs": [
    {
     "data": {
      "text/html": [
       "<span style=\"font-size:20px;\"><a class=\"ProveItLink\" href=\"../__pv_it/e4d9a26a9659914291d1e9631990f7961be228bc0/expr.ipynb\"><img src=\"../__pv_it/e4d9a26a9659914291d1e9631990f7961be228bc0/expr.png\" style=\"display:inline;vertical-align:middle;\" /></a> &#x22A2;&nbsp;<a class=\"ProveItLink\" href=\"../__pv_it/fbd721818b5589580889295ce23b9aeec6bb71b10/expr.ipynb\"><img src=\"../__pv_it/fbd721818b5589580889295ce23b9aeec6bb71b10/expr.png\" style=\"display:inline;vertical-align:middle;\" /></a></span>"
      ],
      "text/plain": [
       "{[not](x in S)} |= x not-in S"
      ]
     },
     "execution_count": 5,
     "metadata": {},
     "output_type": "execute_result"
    }
   ],
   "source": [
    "notInSetDefSpec.deriveLeftViaEquivalence([notInSetDefSpec.rhs])"
   ]
  },
  {
   "cell_type": "code",
   "execution_count": 6,
   "metadata": {
    "collapsed": false
   },
   "outputs": [
    {
     "data": {
      "text/html": [
       "<table><tr><th>&nbsp;</th><th>step type</th><th>requirements</th><th>statement</th></tr>\n",
       "<tr><td>0</td><td>generalizaton</td><td>1</td><td><span style=\"font-size:20px;\"> &#x22A2;&nbsp;<a class=\"ProveItLink\" href=\"../__pv_it/8a72132f051a6ad2b86ee018550985800cafbabf0/expr.ipynb\"><img src=\"../__pv_it/8a72132f051a6ad2b86ee018550985800cafbabf0/expr.png\" style=\"display:inline;vertical-align:middle;\" /></a></span></td></tr>\n",
       "<tr><td>1</td><td>specialization</td><td>2, 3, 4</td><td><span style=\"font-size:20px;\"><a class=\"ProveItLink\" href=\"../__pv_it/e4d9a26a9659914291d1e9631990f7961be228bc0/expr.ipynb\"><img src=\"../__pv_it/e4d9a26a9659914291d1e9631990f7961be228bc0/expr.png\" style=\"display:inline;vertical-align:middle;\" /></a> &#x22A2;&nbsp;<a class=\"ProveItLink\" href=\"../__pv_it/fbd721818b5589580889295ce23b9aeec6bb71b10/expr.ipynb\"><img src=\"../__pv_it/fbd721818b5589580889295ce23b9aeec6bb71b10/expr.png\" style=\"display:inline;vertical-align:middle;\" /></a></span></td></tr>\n",
       "<tr><td>&nbsp;</td><td colspan=4 style=\"text-align:left\"><span style=\"font-size:20px;\"><a class=\"ProveItLink\" href=\"../__pv_it/4ac19a4a476d2885739771c46b7a45fc2dfa322a0/expr.ipynb\"><img src=\"../__pv_it/4ac19a4a476d2885739771c46b7a45fc2dfa322a0/expr.png\" style=\"display:inline;vertical-align:middle;\" /></a>, <a class=\"ProveItLink\" href=\"../__pv_it/0f393902b8f53458791874938ed3f665178dc13b0/expr.ipynb\"><img src=\"../__pv_it/0f393902b8f53458791874938ed3f665178dc13b0/expr.png\" style=\"display:inline;vertical-align:middle;\" /></a></span></td></tr><tr><td>2</td><td>theorem</td><td></td><td><span style=\"font-size:20px;\"> &#x22A2;&nbsp;<a class=\"ProveItLink\" href=\"../../../equality/__pv_it/20e88ce75ad82ac426b1e24a0c22cab3a686b0da0/expr.ipynb\"><img src=\"../../../equality/__pv_it/20e88ce75ad82ac426b1e24a0c22cab3a686b0da0/expr.png\" style=\"display:inline;vertical-align:middle;\" /></a></span></td></tr>\n",
       "<tr><td>&nbsp;</td><td colspan=4 style-\"text-align:left\"><a class=\"ProveItLink\" href=\"../../../equality/_proofs_/lhsViaEquivalence.ipynb\">proveit.logic.equality.lhsViaEquivalence</a></td></tr><tr><td>3</td><td>assumption</td><td></td><td><span style=\"font-size:20px;\"><a class=\"ProveItLink\" href=\"../__pv_it/e4d9a26a9659914291d1e9631990f7961be228bc0/expr.ipynb\"><img src=\"../__pv_it/e4d9a26a9659914291d1e9631990f7961be228bc0/expr.png\" style=\"display:inline;vertical-align:middle;\" /></a> &#x22A2;&nbsp;<a class=\"ProveItLink\" href=\"../__pv_it/bc3353a22e35577bcc1b24e0ddd29d96cdd8ba000/expr.ipynb\"><img src=\"../__pv_it/bc3353a22e35577bcc1b24e0ddd29d96cdd8ba000/expr.png\" style=\"display:inline;vertical-align:middle;\" /></a></span></td></tr>\n",
       "<tr><td>4</td><td>specialization</td><td>5</td><td><span style=\"font-size:20px;\"> &#x22A2;&nbsp;<a class=\"ProveItLink\" href=\"../__pv_it/acad11e4801a082dcd06984336e40c2f06136add0/expr.ipynb\"><img src=\"../__pv_it/acad11e4801a082dcd06984336e40c2f06136add0/expr.png\" style=\"display:inline;vertical-align:middle;\" /></a></span></td></tr>\n",
       "<tr><td>&nbsp;</td><td colspan=4 style=\"text-align:left\"><span style=\"font-size:20px;\"><a class=\"ProveItLink\" href=\"../__pv_it/28827b442668a37c9b396d0be08fc0142c90740c0/expr.ipynb\"><img src=\"../__pv_it/28827b442668a37c9b396d0be08fc0142c90740c0/expr.png\" style=\"display:inline;vertical-align:middle;\" /></a>, <a class=\"ProveItLink\" href=\"../__pv_it/0c7f2a5b3692e5e7610b8c8cf6a2ee89fc54785a0/expr.ipynb\"><img src=\"../__pv_it/0c7f2a5b3692e5e7610b8c8cf6a2ee89fc54785a0/expr.png\" style=\"display:inline;vertical-align:middle;\" /></a></span></td></tr><tr><td>5</td><td>axiom</td><td></td><td><span style=\"font-size:20px;\"> &#x22A2;&nbsp;<a class=\"ProveItLink\" href=\"../__pv_it/67819f53319f44311ab6b45c3b1888bd9b7ed0990/expr.ipynb\"><img src=\"../__pv_it/67819f53319f44311ab6b45c3b1888bd9b7ed0990/expr.png\" style=\"display:inline;vertical-align:middle;\" /></a></span></td></tr>\n",
       "<tr><td>&nbsp;</td><td colspan=4 style-\"text-align:left\"><a class=\"ProveItLink\" href=\"../_axioms_.ipynb#notInSetDef\">proveit.logic.set_theory.membership.notInSetDef</a></td></tr></table>"
      ],
      "text/plain": [
       "\tstep type\trequirements\tstatement\n",
       "0\tgeneralizaton\t1\t|= forall_{x, S | [not](x in S)} (x not-in S)\n",
       "1\tspecialization\t2, 3, 4\t{[not](x in S)} |= x not-in S\n",
       "\t{P -> (x not-in S)}, {Q -> [not](x in S)}\n",
       "2\ttheorem\t\t|= forall_{P, Q | Q , P = Q} P\n",
       "\tproveit.logic.equality.lhsViaEquivalence\n",
       "3\tassumption\t\t{[not](x in S)} |= [not](x in S)\n",
       "4\tspecialization\t5\t|= (x not-in S) = [not](x in S)\n",
       "\t{x -> x}, {S -> S}\n",
       "5\taxiom\t\t|= forall_{x, S} ((x not-in S) = [not](x in S))\n",
       "\tproveit.logic.set_theory.membership.notInSetDef"
      ]
     },
     "execution_count": 6,
     "metadata": {},
     "output_type": "execute_result"
    }
   ],
   "source": [
    "%qed"
   ]
  },
  {
   "cell_type": "code",
   "execution_count": 7,
   "metadata": {
    "collapsed": true
   },
   "outputs": [],
   "source": []
  }
 ],
 "metadata": {
  "kernelspec": {
   "display_name": "Python 3",
   "language": "python",
   "name": "python3"
  },
  "language_info": {
   "codemirror_mode": {
    "name": "ipython",
    "version": 3
   },
   "file_extension": ".py",
   "mimetype": "text/x-python",
   "name": "python",
   "nbconvert_exporter": "python",
   "pygments_lexer": "ipython3",
   "version": "3.7.0"
  }
 },
 "nbformat": 4,
 "nbformat_minor": 0
}
