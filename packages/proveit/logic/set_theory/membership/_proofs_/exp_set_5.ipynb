{
 "cells": [
  {
   "cell_type": "markdown",
   "metadata": {},
   "source": [
    "Proof of <a class=\"ProveItLink\" href=\"../../../../_context_.ipynb\">proveit</a>.<a class=\"ProveItLink\" href=\"../../../_context_.ipynb\">logic</a>.<a class=\"ProveItLink\" href=\"../../_context_.ipynb\">set_theory</a>.<a class=\"ProveItLink\" href=\"../_context_.ipynb\">membership</a>.<a class=\"ProveItLink\" href=\"../_theorems_.ipynb#exp_set_5\">exp_set_5</a> theorem\n",
    "========"
   ]
  },
  {
   "cell_type": "code",
   "execution_count": 1,
   "metadata": {},
   "outputs": [],
   "source": [
    "import proveit\n",
    "context = proveit.Context('..') # the theorem's context is in the parent directory"
   ]
  },
  {
   "cell_type": "code",
   "execution_count": 2,
   "metadata": {},
   "outputs": [
    {
     "name": "stdout",
     "output_type": "stream",
     "text": [
      "Beginning proof of exp_set_5\n",
      "Recorded 'presuming' information\n",
      "Presuming previous theorems (applied transitively).\n"
     ]
    },
    {
     "data": {
      "text/html": [
       "<strong id=\"exp_set_5\">exp_set_5:</strong> <a class=\"ProveItLink\" href=\"../__pv_it/33e1239b24fc3b12ed1cd6b36f195b91d67524ea0/expr.ipynb\"><img src=\"data:image/png;base64,iVBORw0KGgoAAAANSUhEUgAAAUIAAAAcBAMAAADmcKucAAAAMFBMVEX///8QEBC6urrMzMxUVFRm\n",
       "ZmZERETc3NwyMjKqqqp2dnaIiIiYmJgiIiLu7u4AAAAU9Wx4AAAAAXRSTlMAQObYZgAABMZJREFU\n",
       "WMPNV11oXEUUPnv352azdydFkEJFs/XvxYfcBys+CEn9qT8RuhLXSFN0UUmRit6HxAZEsw8KirYs\n",
       "qKAP4qL41wVZSSsla3Gp7YNWavwNVBeu0gapPwmNJpTWxnNm5s7O3rsbbsM+5MDOPfOduWe/OXPm\n",
       "zFyA9SjG8J8VWNdirPyzmjlRn12r56s7xfCIA9BNSv1kC3N6zY6jA51imFHexjrK8He3UwxHDqKr\n",
       "qmDotmK4xn+6l5obLuWNI61h00kWkIjDGc4QctzHMAiGEXODf6VPXdli2PWXN/S4HTAfzT2EvNki\n",
       "QGqAM/yI0H0+hkEwjMSz2HQ1xf/5VuPOaXrBb+yqwdxClw1nkeVFzvBpmnzexzAIhpEI5Xe1LRmV\n",
       "ZBe1zld+6z0AyULENpdR/4UzpDnHiz6GQTCM9FNzVVsynnTPaJ1fxYMdqtd5OE1c3Wil2+Ur/ABn\n",
       "aH2wZ8+z/p0SBMPIJ8Sp0JaMWsesXnxFHG4+4c0Jox61Yf8O6nwjqs3S6OjJQLUJgGHkLsrFEnmd\n",
       "3uwIMoMHasJ2pjwllLHpPrk44+VhnAOnaz6pdtvKVMNhn8sZ3gawC3tb9n9mNxhKUEzrxSYeD2ea\n",
       "q/SO8hdSfUwkOhgb4SmBzOdhUYy6DPYKZ2gTeyk5C+OUczySjvL3+cqS6vTbnOG1wHCUkYU+LYYC\n",
       "lPJeE6X55sBdB8aCVF+Qu2WyxjMI5W0XNol0q8ATXEHbg8I2mYEh/F+qUDCnlayjvSqVcQgxTEOq\n",
       "xmklNIYClPJSE6U3lPZHbicvnd6m/xF/Peh0O8DPAkEy/3Jlu/cOKjJ9tn5dxWBF+fQ21+typ1Dy\n",
       "XlDBKHKGqVoawz7vgqUxFKCU5SaGKqKpR577m9esmo/hEq+3AjHE3y15L6HtrNAEdcHwRuUdfbEL\n",
       "vhiyAtnTmzL6ThHg+PSjlDrnDxDb0+UKh3hEz1QrcIyP/vadpvIcKYJ5HpILTJbDOK83CMk1bNgE\n",
       "JFb5L88Fw41jqohMijyEXbeS6b6Von5zIJDNmuQ/NWNhcWLfU75JyNzHBuRxcLpXVeVtlPM1YOcg\n",
       "VniVn+2LEClxBcNikaLZrkDPiHIvMW8ZaOPE1bnZ5wiGr4uiNbZBZ0hgLBslU6JiUWeA2RyiYYnB\n",
       "qhstybBs9RweBlE9XoG3siX2H/buhvuBK3cAvMuVhu0QMFVt2HfewYkJ/KlaFFkPIYKrxzLAFnSG\n",
       "BPZkeGWP2PG8SDAF9SDZ6E+jo7vhN21zUzEwcDJj1Wt2Z1gvBuDUQQwpKfFy1eVKw9Y9Qgdkl0iu\n",
       "iSHhImbcvq2xRT+UDC2MebII0bzO0OK7J3ECXfVAGl+a51XKgxxwGV+MNwFu8hwSb9ioyqjTVtE0\n",
       "eerBa3vrgUsEvKzdYDFKqmqqG2zE7b/FnXDSWGCwteHjCUdCiSKm9J0gjk5V2mMl/SpgtVc0rbzK\n",
       "GcWWdYZbcsOBO7Yxcnwn9NeMkRK25uC0SzqHGOYhzNECDeVyKh48a9XtKxRDVliFoZUP9xVQC7Te\n",
       "433MwyZ5nDaOtxPV52RQaWgxZxWGaTsUw6jjb71HUCaoeeZSLhtTqxmPhfuSsgKttlo+SZY6+dEs\n",
       "rtAtGa79e/nLTjKMu/S9/AOse/kf9XFhIkBtg8EAAAAASUVORK5CYII=\n",
       "\" style=\"display:inline;vertical-align:middle;\" /></a><br>(see <a class=\"ProveItLink\" href=\"../__pv_it/33e1239b24fc3b12ed1cd6b36f195b91d67524ea0/dependencies.ipynb\">dependencies</a>)<br>"
      ],
      "text/plain": [
       "exp_set_5: forall_{S} [forall_{a, b, c, d, e in S} ((a , b , c , d , e) in S^{5})]"
      ]
     },
     "execution_count": 2,
     "metadata": {},
     "output_type": "execute_result"
    }
   ],
   "source": [
    "%proving exp_set_5 presuming []"
   ]
  },
  {
   "cell_type": "code",
   "execution_count": null,
   "metadata": {},
   "outputs": [],
   "source": []
  }
 ],
 "metadata": {
  "kernelspec": {
   "display_name": "Python 3",
   "language": "python",
   "name": "python3"
  }
 },
 "nbformat": 4,
 "nbformat_minor": 0
}
