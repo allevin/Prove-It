{
 "cells": [
  {
   "cell_type": "markdown",
   "metadata": {},
   "source": [
    "Proof of <a class=\"ProveItLink\" href=\"../../../../_context_.ipynb\">proveit</a>.<a class=\"ProveItLink\" href=\"../../../_context_.ipynb\">logic</a>.<a class=\"ProveItLink\" href=\"../../_context_.ipynb\">set_theory</a>.<a class=\"ProveItLink\" href=\"../_context_.ipynb\">membership</a>.<a class=\"ProveItLink\" href=\"../_theorems_.ipynb#exp_set_6\">exp_set_6</a> theorem\n",
    "========"
   ]
  },
  {
   "cell_type": "code",
   "execution_count": 1,
   "metadata": {},
   "outputs": [],
   "source": [
    "import proveit\n",
    "context = proveit.Context('..') # the theorem's context is in the parent directory"
   ]
  },
  {
   "cell_type": "code",
   "execution_count": 2,
   "metadata": {},
   "outputs": [
    {
     "name": "stdout",
     "output_type": "stream",
     "text": [
      "Beginning proof of exp_set_6\n",
      "Recorded 'presuming' information\n",
      "Presuming previous theorems (applied transitively).\n"
     ]
    },
    {
     "data": {
      "text/html": [
       "<strong id=\"exp_set_6\">exp_set_6:</strong> <a class=\"ProveItLink\" href=\"../__pv_it/c15c6ad1772d05d23824d396c3415362a330b76a0/expr.ipynb\"><img src=\"data:image/png;base64,iVBORw0KGgoAAAANSUhEUgAAAWcAAAAcBAMAAABPBGMIAAAAMFBMVEX///8QEBC6urrMzMxUVFRm\n",
       "ZmZERETc3NwyMjKqqqp2dnaIiIiYmJgiIiLu7u4AAAAU9Wx4AAAAAXRSTlMAQObYZgAABV5JREFU\n",
       "WMPVWG9oW1UUP82fJi99eS0TGW50y9S5fZmN4BSE0ajrVq1oRGt1xVFEUsY2lg9Z2y/SoI596UZA\n",
       "BEHEoFSdBYnbOkbT6UOq+HcUxpiokQw7V5SZ0LCW0rp67rn3vXdfXmxL2n3og3tz3nn33Pu755x7\n",
       "zrkBWCvPtSEd1tzzhru42OfDufgKF7h79TEHoloa0kjsyKUrfR9f6QLuyOqDrklh9yCjfJHbAnoy\n",
       "v/qg+98djkNdhoPOVwKtrWyBp7C5MtXJqqHK/Oa0G5V5hYMmtf5QBjpI4lUuC74Gw5LGM9FYYdh9\n",
       "dzpYWtteeM45cqx9/1f9IZgFOMtBn2Lck2WgA8yB/NUa2Rt1TPlmpXGzDk7tqXnwO7h+Hf4s1odh\n",
       "DqCQJ9A9DHtXGWhi9FR9ZtDCdZkl8KED3XKwCvenQHUEhycBlKQ/BVMAQZ1AM316U+UHkenppWpB\n",
       "NzPg+SXwYRBzHvj3mYs0cPrvE7mfubeVMB5llIgLx3u7CLT6cW/va47o8X1vb2/VQeRzbNuXwodW\n",
       "jzpYL7PuAA+bA8a2XWgmdxi+HkSGWuQhbzoW+8UBuj4WO5yuFnQrtn1MRW0frBf42s6KHPzX0BlO\n",
       "JEaahH2PDnUYB66xBftBontMU/kWzthMxkA/DtCNrzs/HQ1boD1hqDXT4vak7ZhNyce9xfBdSf5V\n",
       "bAPYtsRrReYtdEGJ628dnOCrr4cjHJZyBY4a082x7h0iu61FvlyYNrC4Sxz0vaAhKFcUmiRNuyIw\n",
       "KWVQW1iSSwDviPgmyx/Dtg4nnycXJF/NwwYirmbgEM8VOrwoskbIjHI+2tkWWkWKDb6xzZsMcoqD\n",
       "DkKdznqolTPiOIxazmc7p4qs9yAGCm24XbfJX8aGk3uKEBR2QHw3iXjGGIOEcMpHf8waelSKxjkG\n",
       "V2MuJw4iU9u8obFZDrpOD+YpAKoy6FH43URWH7dXLtJLPYqe2/ZP3iYvQNd3QSFscFx82WljzDRo\n",
       "ws1ulp/X5rLyBVWqzZdpWkuy5BXcELLVHpNMytf5EVu1Kfs02+S+LJPq/ITpXRvKUtI80gkqbUKW\n",
       "Z5nkLrR7BkNYXoRpLwU935yx+ByqVbP8WOSWiOUeZrzRcH7fjORAVDB1P8Y+PbuQkkHXJhDEjXg/\n",
       "W/QCjGF/I8ycVrD68hM09FsQGUyW34MNPbeQglYlTMhKUJMm/KgxlRFoZk/yLWJtRGOLYqcmI+YU\n",
       "9Yvpjl5D764ZAfptvqlEgwxaYSGzBXax94PwE/a74Q9iPUABIvsFDcXw9IiQsuQv8A9+XbkcgAKb\n",
       "7Ql4HrR/SRw+JGIA3oumiToPWgcfBYUQmCHvhmE576/ogWY5JeI07U8LSVGBJthIjskKFLgDXuBe\n",
       "arFKYigqdFcsFsvY5JlFdrAwffqh03CVWXZiWAdtMx4N71A2T0Qie8/BEFGBTvQ0GgVN5Eyvc0c4\n",
       "Js6Dx7V7j3nRCiQFaBWHKilwd9lAX8Sd3IJD15Eswm/4QtMarBlhUIxs5Cc2eaxtoMY8vNvMxBAv\n",
       "JySKRp0HKY0rrVb0sAJZRroEYEC1kol5Bja5Sxd9x2FcSWJ/CQLXjxusA3AN+uJsD+CJl8t7MJda\n",
       "ZY+pJdVBSBSOUiMUwgOLVcSFuAx6Z3uH8+aydXRYd8/D1hHAPpH9jNGcNYE+3ayDG7WivVIuz6p1\n",
       "qzRdNuiak7Tw5GIVwjfLvG6pjt740Xm4C6BP2ydgJU9C0HUmN+MgLIqNUgfJVnsXA31pmaAfdvTi\n",
       "xx33j4UrTt3Hpq7y3lMXXuwuFl0maN3Rix8VY0HluZWqC8Qlnp7/v43nVvy/x3e3CfR++t8jAmvx\n",
       "+Q+Uh5OQ1fMN5AAAAABJRU5ErkJggg==\n",
       "\" style=\"display:inline;vertical-align:middle;\" /></a><br>(see <a class=\"ProveItLink\" href=\"../__pv_it/c15c6ad1772d05d23824d396c3415362a330b76a0/dependencies.ipynb\">dependencies</a>)<br>"
      ],
      "text/plain": [
       "exp_set_6: forall_{S} [forall_{a, b, c, d, e, f in S} ((a , b , c , d , e , f) in S^{6})]"
      ]
     },
     "execution_count": 2,
     "metadata": {},
     "output_type": "execute_result"
    }
   ],
   "source": [
    "%proving exp_set_6 presuming []"
   ]
  },
  {
   "cell_type": "code",
   "execution_count": null,
   "metadata": {},
   "outputs": [],
   "source": []
  }
 ],
 "metadata": {
  "kernelspec": {
   "display_name": "Python 3",
   "language": "python",
   "name": "python3"
  }
 },
 "nbformat": 4,
 "nbformat_minor": 0
}
