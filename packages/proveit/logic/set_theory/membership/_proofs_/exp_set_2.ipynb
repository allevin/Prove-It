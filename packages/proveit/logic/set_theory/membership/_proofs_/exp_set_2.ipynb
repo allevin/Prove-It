{
 "cells": [
  {
   "cell_type": "markdown",
   "metadata": {},
   "source": [
    "Proof of <a class=\"ProveItLink\" href=\"../../../../_context_.ipynb\">proveit</a>.<a class=\"ProveItLink\" href=\"../../../_context_.ipynb\">logic</a>.<a class=\"ProveItLink\" href=\"../../_context_.ipynb\">set_theory</a>.<a class=\"ProveItLink\" href=\"../_context_.ipynb\">membership</a>.<a class=\"ProveItLink\" href=\"../_theorems_.ipynb#exp_set_2\">exp_set_2</a> theorem\n",
    "========"
   ]
  },
  {
   "cell_type": "code",
   "execution_count": 1,
   "metadata": {},
   "outputs": [],
   "source": [
    "import proveit\n",
    "context = proveit.Context('..') # the theorem's context is in the parent directory"
   ]
  },
  {
   "cell_type": "code",
   "execution_count": 2,
   "metadata": {},
   "outputs": [
    {
     "name": "stdout",
     "output_type": "stream",
     "text": [
      "Beginning proof of exp_set_2\n",
      "Recorded 'presuming' information\n",
      "Presuming previous theorems (applied transitively).\n"
     ]
    },
    {
     "data": {
      "text/html": [
       "<strong id=\"exp_set_2\">exp_set_2:</strong> <a class=\"ProveItLink\" href=\"../__pv_it/72e9b35b84fea46f3f97e4ed03abac36dccdf2640/expr.ipynb\"><img src=\"data:image/png;base64,iVBORw0KGgoAAAANSUhEUgAAAOMAAAAcBAMAAABhZBWzAAAAMFBMVEX///8QEBC6urrMzMxUVFRm\n",
       "ZmZERETc3NwyMjKqqqp2dnaIiIiYmJgiIiLu7u4AAAAU9Wx4AAAAAXRSTlMAQObYZgAAA+VJREFU\n",
       "SMe9Vl1IFFEUPs64juvujkIPkqFuP0IQ4T6kPUX2Z7/Uhq39i0SsiEk+iBtEuUQShMVCBfUQLUFF\n",
       "9WL086BGQ1mUkRjRD9XGEmaCmItLimRu59z52dlZHXZ7cGDvnrn33Pvd+53vnLkAc/LkVG+HOX5q\n",
       "YI/peGOoKZVlFqUB+RFaXRBEY3koONN4f0qr8BVpQM6HUSesIEuo+H/IoXBa1F4Lg61DhgzPBCmm\n",
       "sMY2apYZOu3O2dzPMnoZJDvSawOkg03vMEMU8ozkDhRiU5Xs2eOpeQo55PlAhrxNvecNkDkB/Ms2\n",
       "Zc7iTnI5TT1JjtkSDEagl8zRMINsIeRaAyTraDHlNYMo7EromiRqkgS5BcDq54K8C8AhMUjaqCVg\n",
       "lA8de68p5GpqivQ93DQ2Yp78Mnwu9EkOQBT57yi/cpFwahmk/ZbPdyJJsb0+n89cuPcIxJ9QYdiE\n",
       "ejmD2lXKOTw77yqOxYiCiJwk417v5yTIXK+3MWgKuYniSS7NnQvlypG99QESd4PZLVqQhdj9BB4I\n",
       "ch1AHb6W3el2xSEzXZCllaCl2mH4fXefKeZhWRnA5cNRuWe0FpDEy8yui+/tSWxcXYmPypBLQMQl\n",
       "OTeU6k7JVcBQnDG3apUAF1HMNkVCrRJUa8leALCQTFGnR6GnWA25MCZDOsAmUQtZ+urTD91xmZO6\n",
       "hj0H2Ii62Hv85SLkDoAvcg8W7t+KrLjCUEiRD215SjHESRnSJjnCLGXseshu+KZB5iIxtkMnf4GI\n",
       "sZAMkOMgRtUebkqB1JUI9BenDKcU/VRuHQXOhBo7RLOE/TcpvqVd2+E5G3l7PSHvMwIg/AFrRFTS\n",
       "0jKtEqupXcSgCBMqpBJLqFtLQztjAT1kVjNuYaSplZT3GHpAVtCP4knVqZKcJOIq03+BVeooZKCC\n",
       "X8YLMD1WnGhRz8xNKJCX5C015+khrQex2QCr6L0B3vBKxghrVKfHiq7a4ao7KP7Ft82wC9QkGVE5\n",
       "s2CgH2lFX8lLyMDyLTpBjCR8vBbgb4wVYpgH1fwHr7cBvmPMVSfSN4eezV2LG5xiMYZ74CHF+ZS8\n",
       "tTYl4zK59ZWSpiO/AmlHVqwB4GsTIPuA1HLkJ5oR+Coybq4AlGuaojXztSRXU08teNZNccXGpd+h\n",
       "+0Rj9Yunvhb7Ij7aJ5yBfgzIRnqv1uV4JlHdq1GmHcTsizfapIcs8+xOvhWUdD+U+Cko6QQYpOBU\n",
       "eTzavvh+/cdLgxwyK5IvUryIKKvdxFgmPPX6+drZNppBvksRcuUs849Rc9zQaXOZINrdKUJKsyxg\n",
       "DaZ7mW2Z/YYXSu0e+yr9+zPdYytg7p9/ajsM3M+WFooAAAAASUVORK5CYII=\n",
       "\" style=\"display:inline;vertical-align:middle;\" /></a><br>(see <a class=\"ProveItLink\" href=\"../__pv_it/72e9b35b84fea46f3f97e4ed03abac36dccdf2640/dependencies.ipynb\">dependencies</a>)<br>"
      ],
      "text/plain": [
       "exp_set_2: forall_{S} [forall_{a, b in S} ((a , b) in S^{2})]"
      ]
     },
     "execution_count": 2,
     "metadata": {},
     "output_type": "execute_result"
    }
   ],
   "source": [
    "%proving exp_set_2 presuming []"
   ]
  },
  {
   "cell_type": "code",
   "execution_count": null,
   "metadata": {},
   "outputs": [],
   "source": []
  }
 ],
 "metadata": {
  "kernelspec": {
   "display_name": "Python 3",
   "language": "python",
   "name": "python3"
  }
 },
 "nbformat": 4,
 "nbformat_minor": 0
}
