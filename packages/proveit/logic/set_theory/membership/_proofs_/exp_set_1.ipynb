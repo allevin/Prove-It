{
 "cells": [
  {
   "cell_type": "markdown",
   "metadata": {},
   "source": [
    "Proof of <a class=\"ProveItLink\" href=\"../../../../_context_.ipynb\">proveit</a>.<a class=\"ProveItLink\" href=\"../../../_context_.ipynb\">logic</a>.<a class=\"ProveItLink\" href=\"../../_context_.ipynb\">set_theory</a>.<a class=\"ProveItLink\" href=\"../_context_.ipynb\">membership</a>.<a class=\"ProveItLink\" href=\"../_theorems_.ipynb#exp_set_1\">exp_set_1</a> theorem\n",
    "========"
   ]
  },
  {
   "cell_type": "code",
   "execution_count": 1,
   "metadata": {},
   "outputs": [],
   "source": [
    "import proveit\n",
    "context = proveit.Context('..') # the theorem's context is in the parent directory"
   ]
  },
  {
   "cell_type": "code",
   "execution_count": 2,
   "metadata": {},
   "outputs": [
    {
     "name": "stdout",
     "output_type": "stream",
     "text": [
      "Beginning proof of exp_set_1\n",
      "Recorded 'presuming' information\n",
      "Presuming previous theorem (applied transitively).\n"
     ]
    },
    {
     "data": {
      "text/html": [
       "<strong id=\"exp_set_1\">exp_set_1:</strong> <a class=\"ProveItLink\" href=\"../__pv_it/dcfa4fdd70bffa1907322ba165f1a9632c59c1070/expr.ipynb\"><img src=\"data:image/png;base64,iVBORw0KGgoAAAANSUhEUgAAAMQAAAAcBAMAAADM5Q0aAAAAMFBMVEX///8QEBC6urrMzMxUVFRm\n",
       "ZmZERETc3NwyMjKqqqp2dnaIiIiYmJgiIiLu7u4AAAAU9Wx4AAAAAXRSTlMAQObYZgAAAyBJREFU\n",
       "SMe1lk1oE0EUx1/ztfnY3RYvogdNQdCLdA9WRCwtKiL1EtEoqEhQSC9VVqjWi5i7WnLQixdFEKte\n",
       "QosiKhhKvVioQRShurCC9KYJFluE0vrezO7OdLNsQqEPsuy8/0x+M+/NvFmAjbFoATbYoidrofol\n",
       "ywzVI9nWjBQi0tTXmguSay2G74H2ENEBehtZB0IfaxMBbzjCDkLYYaNjVQpAhTemwhCayRBsyjM+\n",
       "RIBT2BU5WHGjSZ/On5/iiMwAQzwl75gPEeAUll8jlvxysgrzDY7QVxjiGj6Vgg8R4BS2ieZXcVsf\n",
       "/PIgRqnEEfCdIZIY93jZhwhwii3fwEeHl60fzh54ZVlsQcoCdqk4iFMMoT4ZHb3hT3eA07NMFz52\n",
       "ec0En8m+WffQ/EOEoYz/pXV+5Jt2sVica9q0zU6xoWiyZ2i+xx5txvOVY3O/7MrK6qTo22MzxCGA\n",
       "IWz1PntrCITjFCbkBG2T2/jrNhMNFndyinrwbnXRa/QbDLEDdOwVyUGPtArulGqGkJM5nnJlGeK4\n",
       "IyIUN5gXXZXp7dvc95tZhtAgU6UnJCQEd/JEvshXZVkjxB8MWAO0ipN96LYsJ91o6WX3n+plhshU\n",
       "NYxY3QZVQnAns5c7f9uy7CI6C1A3XIQoWzgzfdm3Cr1EurY1K6ebO6++vggqS6ckJykXW3B4BR5g\n",
       "peGB+uUVMOyuLHkIngsYOkjS8dWyXAbJqX9VViDJRwo5RkdymAXhaMoAteTVLVabsBkf8HaUyRH3\n",
       "eGUd6ZIR5IzlojXY7zg9OUPyYyoUqS9pd9Pqn9ya9Q1D68XDORfQgUnTs6A3ZAQ5O7NYx/qKxWJF\n",
       "liP0spuOxcTeCSTxCF4/4awxcvhI1UOMOwgVE5sqS7dtzXHW7cSs+ZMtX5YXaAamr4DA3TtWU0WE\n",
       "W9KVhDtcnB73Suqw+w/YMdMvD9IMHrqt52GX15KM6M2fbrr1ImdnzoF+wS/3ycVcL4Ug1EJ7F2sa\n",
       "c7HGwQqfOzAW9iWhGeu8uxWauOJgJ8N6vl/v5wHcb/Njil9qgQirxXeUWm4PEbfpO+ozbLz9ByvB\n",
       "6Gh44qK9AAAAAElFTkSuQmCC\n",
       "\" style=\"display:inline;vertical-align:middle;\" /></a><br>(see <a class=\"ProveItLink\" href=\"../__pv_it/dcfa4fdd70bffa1907322ba165f1a9632c59c1070/dependencies.ipynb\">dependencies</a>)<br>"
      ],
      "text/plain": [
       "exp_set_1: forall_{S} [forall_{a in S} ((a) in S^{1})]"
      ]
     },
     "execution_count": 2,
     "metadata": {},
     "output_type": "execute_result"
    }
   ],
   "source": [
    "%proving exp_set_1 presuming []"
   ]
  },
  {
   "cell_type": "code",
   "execution_count": null,
   "metadata": {},
   "outputs": [],
   "source": []
  }
 ],
 "metadata": {
  "kernelspec": {
   "display_name": "Python 3",
   "language": "python",
   "name": "python3"
  }
 },
 "nbformat": 4,
 "nbformat_minor": 0
}
