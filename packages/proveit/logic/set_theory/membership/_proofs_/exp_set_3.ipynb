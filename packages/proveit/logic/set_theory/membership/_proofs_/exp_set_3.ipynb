{
 "cells": [
  {
   "cell_type": "markdown",
   "metadata": {},
   "source": [
    "Proof of <a class=\"ProveItLink\" href=\"../../../../_context_.ipynb\">proveit</a>.<a class=\"ProveItLink\" href=\"../../../_context_.ipynb\">logic</a>.<a class=\"ProveItLink\" href=\"../../_context_.ipynb\">set_theory</a>.<a class=\"ProveItLink\" href=\"../_context_.ipynb\">membership</a>.<a class=\"ProveItLink\" href=\"../_theorems_.ipynb#exp_set_3\">exp_set_3</a> theorem\n",
    "========"
   ]
  },
  {
   "cell_type": "code",
   "execution_count": 1,
   "metadata": {},
   "outputs": [],
   "source": [
    "import proveit\n",
    "context = proveit.Context('..') # the theorem's context is in the parent directory"
   ]
  },
  {
   "cell_type": "code",
   "execution_count": 2,
   "metadata": {},
   "outputs": [
    {
     "name": "stdout",
     "output_type": "stream",
     "text": [
      "Beginning proof of exp_set_3\n",
      "Recorded 'presuming' information\n",
      "Presuming previous theorems (applied transitively).\n"
     ]
    },
    {
     "data": {
      "text/html": [
       "<strong id=\"exp_set_3\">exp_set_3:</strong> <a class=\"ProveItLink\" href=\"../__pv_it/2c5aa9004647ab9e19ba104d76c0ff2305aa54870/expr.ipynb\"><img src=\"data:image/png;base64,iVBORw0KGgoAAAANSUhEUgAAAQIAAAAcBAMAAAB4yqw8AAAAMFBMVEX///8QEBC6urrMzMxUVFRm\n",
       "ZmZERETc3NwyMjKqqqp2dnaIiIiYmJgiIiLu7u4AAAAU9Wx4AAAAAXRSTlMAQObYZgAABEdJREFU\n",
       "SMfFV11oHFUU/jKzm8n+TYJ9KFSabNVAwYfsg22fxKr98we7UrfaqiWIbLBpcR+WrCCaRSy+tLIg\n",
       "gj6Ii9aKBmSlrQ/dFIcapa1YUlp/qK6s9i+0xCxdTAlG47n3zs+dmWSdxodc2DNn7t9895zvnHMX\n",
       "WIqmjxysY0lb2AgXW43vreWCb3bHYhCE0vEGyqQotQvzjY/fwl7q+sVZIVrEPVzJ/18EE4v0529J\n",
       "xCoCQX0+BHrgnR5l4u6FRuPJBQau7ybxo0DAD/ytB0GCL6/8NwCty+uJSyvl8W3+JWOZXSeIi/3A\n",
       "EYHgE/Z404MgWqJHRwADh9O+ia/LLx2+FR0GrjQI+gwwVecIhthJ+j0IeMdQACe0MTNXXV0zLjeU\n",
       "vSseBiLF4aQ2CyQMjoAdIFzyMpEZZUcABPcx0S33KP+4Uk+X6fcDtZ+E25rktcpkLt4tPEEI4h8X\n",
       "Cq/4YuF0oVAIEhKfs2+6kkvUvewFEbP7LUcpZCI1pVYPUsqhnMCjcTqbveBD0JnN7i0HQLCFcYFN\n",
       "zB9bJdJYxyNHDDF2beQw8BFXh2ymaHOH3eYiBA8CA6St+XQ05SAIpdBuJ8bVngyq7hz5ylSfF9yC\n",
       "shwvip6pfjTFrNtwAHiH6wPO4i/npq2N1aZAcBd0+oKSRp9kA2U9JhzDpt0IeqE0THWfycZhA9tF\n",
       "z/t1rBA5p4I9wCrOBonp2liPxRvthkCQQMxgEu1yThzHqBNADlGvZ57h49aW39OvkxBsBX4WPU8B\n",
       "f3Jlq0NVZWWtZjKRHWjWoumMQBAzEnUem3EZwSh+tT/bafsj9tyrf0An9xkeBNPQm1aPIr4w7SCQ\n",
       "UhYt1Gc9NtCLrEQkViRddWGCrdKePsS40Vd9jCHeWcXXfPzsB67001aC9hciDd1MB2Eej9TFmvCC\n",
       "HR86OVS7aSEweYCBB9jQ43MlGUF7nhBN5oYZiY9jjORkqg+Ckpd77KyziU01mD1Dxbd4jWmircwV\n",
       "OilZ9aRTPViL0A5hyyLKTRPB2wJhvktGEHmWxEbcy94H8R3JDbiomgGq3W9NPW4SdT/eS5f1v+nt\n",
       "ITwBrmwEPrSicdIycJjY8oWdMM18gDaqQHoSesNVnW+n3w1RPJZxnpPT1B+y2UH8TqyxprL4UWh+\n",
       "vnrnYFLvIcJcOkomYUp4pEqmeE1A3mdGekjZsMmQ7ggCQZwmRkpQ+10IzoBRbs9VUhv4hV7IZDq3\n",
       "37vAWpukbOfldorJeRUrK0e2OLHgxFhFuqFQinYykM2bbrV5RnsD45EiyXOI1jez3u1Shgkxv5y2\n",
       "zepToq0q/FRORrAm86T/jtQ7etRQZ9F7DCTz1c9whflzWyZjg1XH5ersRzDRKqV/E/CWFpf3PEQ8\n",
       "8FUezSK3fWBb2dwKwbmACNZJ0t9eYuLlhb4RS7UAEE8HRGBI0t8iQSro/G1o4bty7Vb+L5xaNIJd\n",
       "/P/CeSx5+xdsfi301H2MXgAAAABJRU5ErkJggg==\n",
       "\" style=\"display:inline;vertical-align:middle;\" /></a><br>(see <a class=\"ProveItLink\" href=\"../__pv_it/2c5aa9004647ab9e19ba104d76c0ff2305aa54870/dependencies.ipynb\">dependencies</a>)<br>"
      ],
      "text/plain": [
       "exp_set_3: forall_{S} [forall_{a, b, c in S} ((a , b , c) in S^{3})]"
      ]
     },
     "execution_count": 2,
     "metadata": {},
     "output_type": "execute_result"
    }
   ],
   "source": [
    "%proving exp_set_3 presuming []"
   ]
  },
  {
   "cell_type": "code",
   "execution_count": null,
   "metadata": {},
   "outputs": [],
   "source": []
  }
 ],
 "metadata": {
  "kernelspec": {
   "display_name": "Python 3",
   "language": "python",
   "name": "python3"
  }
 },
 "nbformat": 4,
 "nbformat_minor": 0
}
