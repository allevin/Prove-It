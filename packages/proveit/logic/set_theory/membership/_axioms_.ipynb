{
 "cells": [
  {
   "cell_type": "markdown",
   "metadata": {},
   "source": [
    "Axioms for context <a href=\"_context_.ipynb\" class=\"ProveItLink\">proveit.logic.set_theory.membership</a>\n",
    "========"
   ]
  },
  {
   "cell_type": "code",
   "execution_count": 1,
   "metadata": {},
   "outputs": [
    {
     "name": "stdout",
     "output_type": "stream",
     "text": [
      "Defining axioms for context 'proveit.logic.set_theory.membership'\n",
      "Subsequent end-of-cell assignments will define axioms\n",
      "%end_axioms will finalize the definitions\n"
     ]
    }
   ],
   "source": [
    "from proveit.logic import Forall, And, Not, Equals, InSet, inBool, NotInSet, EmptySet\n",
    "from proveit.number import Exp, Len, Naturals, one\n",
    "from proveit import Lambda, Iter, Indexed\n",
    "from proveit._common_ import x, xx, S, f, i, n\n",
    "from proveit.logic.set_theory._common_ import each_x_in_S\n",
    "%begin axioms"
   ]
  },
  {
   "cell_type": "markdown",
   "metadata": {},
   "source": [
    "**Set membership should be either true or false (though one might not know which it is), and thus we might naively expect to include here an axiom for set membership being in the Booleans, something like**<br>\n",
    "> $\\text{membershipInBool} = \\forall_{x, S}\\;(x\\in S) \\in Booleans$\n",
    "\n",
    "**This would be problematic, however, and open up the system to Russell's paradox. Instead we use whether or not membership can be proven to be in Booleans to dictate whether something is a set or not.**"
   ]
  },
  {
   "cell_type": "markdown",
   "metadata": {},
   "source": [
    "**Define an exponentiated set.**"
   ]
  },
  {
   "cell_type": "markdown",
   "metadata": {},
   "source": [
    "Bob has a good suggestion to move this to a new context, proveit.logic.set_theory.cartesian_product, as a theorem.  The axioms would define S^n = S x S x ... S and the axiom would be a more general one about membership in a general cartesian product."
   ]
  },
  {
   "cell_type": "code",
   "execution_count": 2,
   "metadata": {},
   "outputs": [
    {
     "data": {
      "text/html": [
       "<strong id=\"expSetDef\">expSetDef:</strong> <a class=\"ProveItLink\" href=\"__pv_it/8befc189645bb22aa3a7bf062e2c23028269ae330/expr.ipynb\"><img src=\"data:image/png;base64,iVBORw0KGgoAAAANSUhEUgAAAkwAAAAXCAMAAADObODsAAAAM1BMVEX///+/v78QEBC6urrMzMxU\n",
       "VFRmZmZERETc3NwyMjKqqqp2dnaIiIiYmJgiIiLu7u4AAAB/uxFxAAAAAXRSTlMAQObYZgAABbpJ\n",
       "REFUaN7tWtmypCoQ9Mou6/9/7QVRm0JW9W1OxUyUcRo6s8oECuhl+Qdt42N/+7NJs087KiP+e9YT\n",
       "KeinTVOFlCT7I3qAKQudJJrAR+OAz02jr9/1e04JrcxrYdBifq3moOTTvphAPx4GoZRajfw/p5fF\n",
       "4PBHiucx34ppAHQ6uFuUo6HNJ/4jWrn3GZTb2VzYWTE963u2ncRbhA4TKXMLt0r4RxcXJjGP+VpM\n",
       "N1BuK4DTdkU5gtK2vPljThVamfcZ5OyEZsusmB71VQr6USMy1jaBOvF90XoMGTmN+V5MOaigZcBp\n",
       "S6PsovQEQL/hVKOV+ZDBU690mxbTo76rhb5YyClhvKUjk7s4m+KQktU/U7rs79+u05jvxZSBYmZs\n",
       "EbD9JZ0ouyidVS1rvg52HqaV+ZBBLfluZpkX04O+SEBvqTACI2GSBR0LfQscuShYjENsu6BQjJBt\n",
       "s5hROBB5TkwZKEFw2LeCG46yi9KbTWDzIU5ztKDfM+hYMCMfiOlBXyqBt8YTWZ2xyl2Rc1YYQ9w5\n",
       "dRakiO1foA8idBIzUs+Qe2JCinGuFJEFUOvfkykAloJbhqPsonQmmKz5CKdJWtDvGSR7M8afiGm+\n",
       "r9DAk+A8Vf9fX6O++HXKeSt9tP0mZCoSIzXMgzpE/omp/CVyIcJn3x4T/pauAkHWYKVvBLfMRNlG\n",
       "6byfrPkIp0la0O8ZROTQ8QMxtftiKqXScIO7IuBl1D1PDhdspZrnmqyusPCjbtGUYUbqGXJnZkJo\n",
       "MYGXdegOGiYALu6AeXA4iWwoyjZK2/Lm9YSD+WyGFvQxgwFW6WodJyj1zdRKbaFibfVFdF9u4R+P\n",
       "l3H5sBtwKxSHOeyeOVkYTtj18ppjXsJJkDtisoeMNmdvoPG1EHwHBBCYEjMZZRulvd/Mm9cTPp38\n",
       "kxb0MYNBDIV9glWUUv+RZov0n0pb2v5U+l5jw8+bXTERR7pna0cY9lsxJcjdAjzKiIg7aIw/pV0J\n",
       "bjOTUbZR2hNT3rye8Onkt8Tkl6nCdyiGuLWekvYipzUxlfse2DZhcs22G/CbDOVgGEXqXJFtocq0\n",
       "9KwEeWuZoyYxVsOM1DPkpGYqfwndZeTzaTPQ7eAmeA6YB5eKaSjKNkpT+rfm9YQDCjO0SsucL7rI\n",
       "ccGSXHpdGwmNN8xVRUy/vpYwQ6UQv4nVrIXhznTqrXPIr+C+Gf/ljehqkU0LwtXdOgJiRuo5cndm\n",
       "WuW+QNi96khBz/e10QzwFlwqpqEomyj29pA83ZsXOSUv/AEt6I8MbjRGmV56/cLwFbS0GlfEdPYN\n",
       "vZAjPJlBLV2dy7cfcDvJHVt8ZYd8qYiS0XF7sdSoOFuWdgLdo4HbVhbdkXti4vsyIdmyYQj6q6pN\n",
       "BngLDohpJMoWinUme0ieCqRKnMAt5zytwtFAGHWxsk8uvbBMxeRHoyRlMV19VdhAbtwA9XCSl3rI\n",
       "AK+MkZasQqQhcJHfcRK/bySEFSt90T1uzDAj9Qy5e860xlMYtWWgBN3vKyrBATGNRNlCsSvLHpKn\n",
       "AqkSJ3jLOU0L+jOD15nndemFzX4cyVQUE9fWVMSUnJcyl7Sxsaa6Vccrh7685BNR3FD0bzbKSxTE\n",
       "/PQ6JemHboBZVGYuyh5KQ/qFxyKn9JZzllbhOgVm/bz0sgTMTAvCyrazL+SymiC7k9KWH60cX5dd\n",
       "E741OXDFULiSfCemHmg5uM18H9q4FTmlt5yztDKfZzC59CIciMlTaYsJO4n8erzf0/BQ/lFWOVB9\n",
       "+hOU+q3BwLn7tz9B6YMWg5sU0/xB8jQneMs5Ryv3eQaTSy/Ljs+QiE+kk33CmDZMbLuwwlE+pt4K\n",
       "Uysn0L8zMrRVhpivxdQHLQTHpXBUfR7auBU4wVvOOVq5b2ZQHjVTxXwlV9dzkx1X0L8xNTimAKYq\n",
       "hK3Qt6Dvg1Mf/9Dym4RftDLv5fD5z4yPNe/v1/l/9lmt95eCf9H+B8EhS8tTEHCeAAAAAElFTkSu\n",
       "QmCC\n",
       "\" style=\"display:inline;vertical-align:middle;\" /></a><br>"
      ],
      "text/plain": [
       "expSetDef: forall_{n in Naturals} [forall_{x, S} ((x in S^{n}) = ((|x| = n) and (x_1 in S) and  ...  and (x_n in S)))]"
      ]
     },
     "execution_count": 2,
     "metadata": {},
     "output_type": "execute_result"
    }
   ],
   "source": [
    "expSetDef = Forall(n, Forall((xx, S), Equals(InSet(xx, Exp(S, n)), \n",
    "                                             And(Equals(Len(xx), n), \n",
    "                                                 each_x_in_S))),\n",
    "                   domain=Naturals)"
   ]
  },
  {
   "cell_type": "markdown",
   "metadata": {},
   "source": [
    "**$x \\notin S$ is defined as the negation of $x \\in S$ for all $x$ and $S$:**"
   ]
  },
  {
   "cell_type": "code",
   "execution_count": 3,
   "metadata": {},
   "outputs": [
    {
     "data": {
      "text/html": [
       "<strong id=\"notInSetDef\">notInSetDef:</strong> <a class=\"ProveItLink\" href=\"__pv_it/9675a23e9adc2c0ebe46a1cf8c695c3db677fec90/expr.ipynb\"><img src=\"data:image/png;base64,iVBORw0KGgoAAAANSUhEUgAAAQIAAAAWCAMAAAAcoWJbAAAAQlBMVEX///9bW1sNDQ0JCQkdHR0P\n",
       "Dw8WFhYQEBC6urrMzMxUVFRmZmZERETc3NwyMjKqqqp2dnaIiIiYmJgiIiLu7u4AAAAq2h4+AAAA\n",
       "AXRSTlMAQObYZgAAAu9JREFUWMPdV+nWnCAMtavIoqzv/6oFFDWQCM5pe06bP/ebL0xuJmRjmv6g\n",
       "MD/9C/KRl8xAJMQRxi17RzOu6Eghhugu/bDdhUPsHDsJuBDCJ1qxvKEZV1C/vCEGqLdycB1OiHKy\n",
       "8w0BL3u1KelkyH+/oRlXEMcR4jsqeXw4/+iKMRDJOgCfuM6wZXKrx2nGFbigxABLSMU2anP2ELEO\n",
       "Y1b384e7XbYKe+4t2X8/j9OMK3beKPckw4kBWq2yuOFeuELEinW1fpIKfCvsIV52h+Q2SjOuOHjr\n",
       "4zgxwCCTOD0aAqEhKm242oy40lPJ6IiHnqoQzK0JajFKQyoI3loIYoA8H4B3doZVaG3s0naXC330\n",
       "yDo7zVcaZVt1xZoQ5WTZrgCJ9Sa8ocG7G83btg6UGCBLtB7NLiZyJlWlyADqzBJtnYHyEm3byvI5\n",
       "lDpm3WZwmBfuFD3Ei+QBRgwxhdFYuqdXlgMDmExzcITN0d/v36q2tPsdDp4l9EIQGLENPPM6h/G2\n",
       "xBDTz0cXOR/yf+1jCPLFmMZXDfudLRZ/WwgI3mYtIoghxiIo344dhhl+ppabdbvLzhvEMnfOIHrX\n",
       "LAVelJOqKYRbqjsnG5rmFz7z1rdIEVcoFT/qy6fcuji8mEOoXZEWoFW5JCdz5RG3exe5pDQfUS7K\n",
       "dvdDaYkQPPLWQhJXuIkjfqxtxIrXjQuOlS1mmIxH1C0nvWMcThHhstrI8aHYnlgGeJsJShHXeKup\n",
       "cA0Wz/YqqseEu6OXRvs0OUHc1q8wBDzOHc5vF7t2H4vMPSoI3voBRhLXeO1Uy3xGe9pyCSzNqJkV\n",
       "RKwJfeEr2pknuJ8+TkX1VpF8fubFF+R7poVJr3niqjXSCInvG/VTAytk1cnygZcOad4OL7I0cY3X\n",
       "bmE2EfMrBcOmx3R8Zgv1wWO59+r0f/WxjBDXiIf6Qac4xHYntZ33qxrxlzSv+KchKMQ1oo+DRydL\n",
       "G1ZEPneSwCxjDlPmacU0Rlzj6yT4z+QX8HMygUNBMOAAAAAASUVORK5CYII=\n",
       "\" style=\"display:inline;vertical-align:middle;\" /></a><br>"
      ],
      "text/plain": [
       "notInSetDef: forall_{x, S} ((x not-in S) = [not](x in S))"
      ]
     },
     "execution_count": 3,
     "metadata": {},
     "output_type": "execute_result"
    }
   ],
   "source": [
    "notInSetDef = Forall((x, S), Equals(NotInSet(x, S), Not(InSet(x, S))))"
   ]
  },
  {
   "cell_type": "code",
   "execution_count": 4,
   "metadata": {},
   "outputs": [
    {
     "name": "stdout",
     "output_type": "stream",
     "text": [
      "Axioms may be imported from autogenerated _axioms_.py\n"
     ]
    }
   ],
   "source": [
    "%end axioms"
   ]
  },
  {
   "cell_type": "code",
   "execution_count": null,
   "metadata": {},
   "outputs": [],
   "source": []
  }
 ],
 "metadata": {
  "kernelspec": {
   "display_name": "Python 3",
   "language": "python",
   "name": "python3"
  }
 },
 "nbformat": 4,
 "nbformat_minor": 0
}
