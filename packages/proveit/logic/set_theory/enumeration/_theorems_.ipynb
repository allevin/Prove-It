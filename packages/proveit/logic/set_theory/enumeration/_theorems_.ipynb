{
 "cells": [
  {
   "cell_type": "markdown",
   "metadata": {},
   "source": [
    "Theorems for context <a href=\"_context_.ipynb\" class=\"ProveItLink\">proveit.logic.set_theory.enumeration</a>\n",
    "========"
   ]
  },
  {
   "cell_type": "code",
   "execution_count": 1,
   "metadata": {},
   "outputs": [
    {
     "name": "stdout",
     "output_type": "stream",
     "text": [
      "Defining theorems for context 'proveit.logic.set_theory.enumeration'\n",
      "Subsequent end-of-cell assignments will define theorems\n",
      "'%end theorems' will finalize the definitions\n"
     ]
    }
   ],
   "source": [
    "from proveit._common_ import f, l, x, y\n",
    "from proveit.logic import Booleans, TRUE, FALSE, Or, And, Forall\n",
    "from proveit.logic import Equals, NotEquals, InSet, NotInSet, Set\n",
    "from proveit.logic._common_ import yIter1l\n",
    "from proveit.logic.set_theory._common_ import x_equals_any_y, x_notequals_all_y\n",
    "from proveit.number import Naturals\n",
    "%begin theorems"
   ]
  },
  {
   "cell_type": "code",
   "execution_count": 2,
   "metadata": {},
   "outputs": [
    {
     "data": {
      "text/html": [
       "<strong id=\"unfold\"><a class=\"ProveItLink\" href=\"_proofs_/unfold.ipynb\">unfold</a>:</strong> <a class=\"ProveItLink\" href=\"__pv_it/d6ccd706055aab90c8562d500aca0f16055efbb80/expr.ipynb\"><img src=\"data:image/png;base64,iVBORw0KGgoAAAANSUhEUgAAAgAAAAAZBAMAAAC1EIuzAAAAMFBMVEX///8QEBC6urrMzMxUVFRm\n",
       "ZmZERETc3NwyMjKqqqp2dnaIiIiYmJgiIiLu7u4AAAAU9Wx4AAAAAXRSTlMAQObYZgAABbtJREFU\n",
       "WMPtWX1oG2UYf5JLcu3d9RaFOdTNRjZwOMSI2s5NTWlhBWHrQIofdTTsj0wpYycUV5XZTKbdH9oG\n",
       "pDiQsfjHdLMjZjgFP1gPRRSHtgOpUki9go6huGarNHOti+/XXS+X9y7JCCrDB34vl/e599d7f/e8\n",
       "z/u8VwB3253T4Po2f27ayz0J17/1/y+A4SWA8Q8+ygYGL1MitbB52OcMSADyms+4CODhrLcJbRTe\n",
       "9mgNbF4WjFIgAY7j38MuAng4620NBkWFu0hL4kAoT2mkjZpsnpZk6IfnUCvGXQTwcNbbPmWosAbS\n",
       "uO0A7s0BPHc5C9UwfcPQT7QKplwE8HDW225j8DY1jNsW3MyUxz1+VU0GVMM0y9APyrt79+5zS4Ie\n",
       "znrvyEkKnkn7dWhiW9IzJMBRfdK4vfzGIYRRk41nx1YD5MhVKEWBtsGFRGLadRt0d9bZgmkKcazz\n",
       "rR6H76ivAEfy7Bo3ePINnCJtlIngxiRtb9Yai+ySop8sqF2gdhlcAYizanNuUuKJCgPu1K3splP8\n",
       "Ct/qa3DH4wexHSBhP1iA3jgN/EPAwr+FQ4fCnyyDEqYgITqIt4VZsagFF8hcG5MUSIB1oKKLuyjF\n",
       "xu6IvNJYFoA6qzVnuny2YindbV74IhRpGIc3HEs7+34SfsrevxX/uN3MmO0cNpQAAxGTjcO0WboM\n",
       "TYtkrv4wBRKgCWSdhJb6YbeuxDOQsUUAdV6DAL91P2W+Li+z7lgRoTBgS/ldzVm1GIXD+DJGX7XL\n",
       "e5mE8xYbj8m3CHPzZBkJeQokgKzjxPkawEd3XDCUM8ESAaizdgHknS9duCYBAG4tz+5FzY9Wrk2A\n",
       "YErivpcn4ITFxmOKFeDuPJ6rXQA1eR/qKICC06ryQGvWLgB1jrWfQlusf2taXV3GuW4aZnW7ANKp\n",
       "DR3wpTU9u798kCWAL0UB4jyouGNHDtsU2fwvAopdKgBdAmKyiavnADu/2JmChChHnm0iDGg5FUqX\n",
       "AOxCy0kI0yJLiWa+sAtAnJKxBTP+3pBXliBQGhHq5AhMlAiQCcRvhqQpAPNvcxlkCRDSKb6S83Da\n",
       "Wf1choYrTICvaVcHrc9Vq6FPFXgwa7HxmCaSMJIWcC2hJCmwAKM41OOwiQogSdvsAmCnnwQNPD8Y\n",
       "DxSEt0sTm/jmAnRpG/VlASIoBQukYINHTP+mVS6DZjVrhyJoXAqFxaxzM7kI45eYAEdpVwstg+Ym\n",
       "WaP+RRfLbsNk4zINhuViRI6XboPgQ7eFsvBQIpHIKlHxuxm7AD7CUSC/x1O+MDQ5Mrv8J9wAoagt\n",
       "B6zQQJhKJPpgfZvphx9cBvlXmoXQJIHal3nvs7LIPrxmz1UmwMts16Rl0GycNepNtP8Vi43L1Hh2\n",
       "qmiE8JQaIhRYAAWp5rsXfqYRAGtP2wXATrRAyMljjzHXViZA6Kr6B/jsSfAeiKr0MPak6XcKYA2y\n",
       "IgBWMfCqxCguA4gAtBRGT+SSmh+2sXFsLQQX8FztpTC1ORkCGhVAyTg/iMSkpAQDGnRBbxYLIA7B\n",
       "gCEO42YIAvngIjk0MQGE/DG0BXdaSZD4sQADGh0ybB+0vux0wrEjeVTAUAGkbHX7EZ8JVYGopkJz\n",
       "RXmdwRQgcBzUnfiBUNPmFODcxz0ZiOkw8GNzFAsgLEFMEwq4WQLx9f3z5t/DAqh9o58YcC5iCkD8\n",
       "WICYTocU7IMOVXMcHk/vuxHghRFU2J6v4XDNKZSuiGcjeK6kjFCTjk9iEsoBHp/EdPUxvJrxElCW\n",
       "EzT8oqHE0F5WCL2DcgCZHvGTJaBzBi0LILZR8M4JuWlzPp1VCuDCtCPHwhuHOwn56r8JCpq8FLwE\n",
       "wkmkX6vV2wrjem8EZnRuKYynR/ybb0khAs4gW6n0IoOXydFqa7IKTB8w1CCAAuKrB9gclgsbtC6e\n",
       "Rm+lR3M9CxA/JeAM6v5PfxXO1fp/AWfciWOVPl3q/+70/bnv/wYKKvTuUvtnHwAAAABJRU5ErkJg\n",
       "gg==\n",
       "\" style=\"display:inline;vertical-align:middle;\" /></a><br>"
      ],
      "text/plain": [
       "unfold: forall_{l in Naturals} [forall_{x, y_1,...,y_l | x in {y_1 ,  ...  , y_l}} ((x = y_1) or  ...  or (x = y_l))]"
      ]
     },
     "execution_count": 2,
     "metadata": {},
     "output_type": "execute_result"
    }
   ],
   "source": [
    "unfold = Forall(l, Forall((x, yIter1l), \n",
    "                          x_equals_any_y, \n",
    "                          conditions=[InSet(x, Set(yIter1l))]),\n",
    "                domain=Naturals)"
   ]
  },
  {
   "cell_type": "code",
   "execution_count": 3,
   "metadata": {},
   "outputs": [
    {
     "data": {
      "text/html": [
       "<strong id=\"fold\"><a class=\"ProveItLink\" href=\"_proofs_/fold.ipynb\">fold</a>:</strong> <a class=\"ProveItLink\" href=\"__pv_it/917c879fe13deffdbaeec48e87471c86b3065a190/expr.ipynb\"><img src=\"data:image/png;base64,iVBORw0KGgoAAAANSUhEUgAAAeAAAAAZBAMAAAAbEODDAAAAMFBMVEX///8QEBC6urrMzMxUVFRm\n",
       "ZmZERETc3NwyMjKqqqp2dnaIiIiYmJgiIiLu7u4AAAAU9Wx4AAAAAXRSTlMAQObYZgAABXxJREFU\n",
       "WMPdmH9oG2UYx5/kklySu9yiojKdNLCBgogRhc0Naazg+oeu+8PhjzEWFdKCDg8cbadII/jrj67L\n",
       "P8M/9ofpYNhajBE7pWPYaPWfDtYNREcx5QpahlpbNm3UVuvzPu8l915yF3c4Ce6FXO597nt37+d9\n",
       "n/d5n3sB3MuBsg7XVvGXZ5tdPgfXXjn4fwX+suRBLL2nW8BGM2Ct9U5YdDQv5j09RdqIh885MA3j\n",
       "GRfgGPtTiy0Evs/ZPOnxMU/gL5gk4FFWH3IBjubwL2y0ENi5ZTDs8TGkzxJwLx7ltAswXehtIa9S\n",
       "vIrA0wTMxi+YcwtarIOfbCGwz+ZdPx4uX/gXwPMErL7b1/eKa5Se7uvra2WwvsMWegYNEWBkE0C5\n",
       "6d2WgoBDOVqWVjKZWVfgDZnMgbzXVr7oZIx4EFvap/D30vihk+TZvYY4YtHdbXpkvVk7BMUwrxPw\n",
       "QwDdoHUZjsCBJISuPN1K0FF27CHJud8cxZZ2EEDLq9/6yMu6bVF3Xl7XgysgpV2bwxWENkP9mCXg\n",
       "LaDhyV1cs21PQrnRsID9Kbh45UPL3x1yvnjc0Rpqrr0exwWU5QhbUTQLTUL7juhvEFuVHnOfcVxB\n",
       "aOHdbE2PE3AMFMxaTuADT+4pqekCFMRM6xyc9gp8zPkidhxzzFrY5ZVjblpeLmGzIMCf67+tXOZB\n",
       "S3qQdYBvFZYuQ6RJiOGKE+y0BxmlZQJWSjGDfOfj23821DNBO/BpmPMK3O18EWfHBLpwqlrnlW43\n",
       "bQ0Y2807SUpZ+dcNeGivwN3LTYG5AtEgxiaJCaxlWTZTAZWNunr/1qIN+CJ7TXT8TpzpsGUW5htS\n",
       "WNHIgdFxxjrGzSb7H81rm6pLKvpvQBecGSvO4tryy1JCGEhSAqwJaJ34m4nDB9mmwFxRAXMOmy4N\n",
       "3R0IH4cwpZHJwpQNOHQQI1EhkN7IXngEZkqwy/ZM0ygAS1mIGg/7cp1vYSkuhpfVNQgYFA6UhPC1\n",
       "QhUnMZCWl+exSfokKBRWHrFe+z6DyMKRPAem/oD6E65ANDNKqzxowVG8RUnDdg4cje4SgSP7WPQN\n",
       "MyT57RXo0rffbI+yZNxWsoCxsX5yIyqHBtKBijSsU0dg2NlpdRWrOIkHScsLzr93Sk/Dy/yLIWFL\n",
       "JAbiynqCgLU/sbrUcMIVSrpuWaIpEirCA5lMpqgm5bNzts/DW9lhAzmi8jtcB/BNXfLHjKGkBRxJ\n",
       "0Qyppfk5XxxiHBiOW1OYV5zEzwrAGGEXTv0wxvtTfj0pAkfOf71ucOA2fP48vl27CcwTZuGKULEK\n",
       "HE5wYBWH33cvfMdHGDZ/agM+yw73AHtV6C/tlwZgMvoEl/an2QyRoIe8FF4wllIEzOwLQWFRZxUn\n",
       "cZxreZy1JQGRTjG13Ay4DHOX9jfkCmQhBaLZUktelhQeThBYLdRvAEjLI5CX34TAcnCVAeNpvyEP\n",
       "sYNp7BWAMba0R7PR6kO6YH+RgFUMlNEvcJyG+N1UcRCzDxa1mnmoedfcGHOogYoJrDYImIUrEM0E\n",
       "HhOAA6OgPcNyVzyk6oG1546eMqQ1kA+/epkB42m7LlXYwTROi1F6DhYm9tZ6rf9CW5KAg+hQGt7P\n",
       "b6zwioOYMQYT//B5+BnOpT/k8wmQR34tugFzRWDU/B7WsnVbPFGcw022eFT4XscZxlxarTd2iMAT\n",
       "tij+OJv3DJhWAZvr6Y7iQMLUNtuDWsSW7isXxCTGXshSU7DMjLuwhz2trTBZ2p+AHbfk8LTOOCdE\n",
       "aViwxbS14CWQPhx1S8AaxbGfRK3s8kE8nfO8p/WRx028EvT37Kye1hn36gJwRExO5DdeM0c15fiO\n",
       "RnHwEzftf75rWfa6L222c8rxW81lo2jKg/Yq7Et/9TcQlOmHuk717gAAAABJRU5ErkJggg==\n",
       "\" style=\"display:inline;vertical-align:middle;\" /></a><br>"
      ],
      "text/plain": [
       "fold: forall_{l in Naturals} [forall_{x, y_1,...,y_l | (x = y_1) or  ...  or (x = y_l)} (x in {y_1 ,  ...  , y_l})]"
      ]
     },
     "execution_count": 3,
     "metadata": {},
     "output_type": "execute_result"
    }
   ],
   "source": [
    "fold = Forall(l, Forall((x, yIter1l), \n",
    "                          InSet(x, Set(yIter1l)), \n",
    "                          conditions=[x_equals_any_y]),\n",
    "                domain=Naturals)"
   ]
  },
  {
   "cell_type": "code",
   "execution_count": 4,
   "metadata": {},
   "outputs": [
    {
     "data": {
      "text/html": [
       "<strong id=\"nonmembershipEquiv\"><a class=\"ProveItLink\" href=\"_proofs_/nonmembershipEquiv.ipynb\">nonmembershipEquiv</a>:</strong> <a class=\"ProveItLink\" href=\"__pv_it/38a558f87d2cf4a6e7ef4bfe65a6355fba827bb60/expr.ipynb\"><img src=\"data:image/png;base64,iVBORw0KGgoAAAANSUhEUgAAAlYAAAAXCAMAAAD+4PHNAAAAS1BMVEX///8LCwsYGBgoKChbW1sN\n",
       "DQ0JCQkdHR0PDw8WFhYQEBC6urrMzMxUVFRmZmZERETc3NwyMjKqqqp2dnaIiIiYmJgiIiLu7u4A\n",
       "AAAbfmHDAAAAAXRSTlMAQObYZgAABmlJREFUaN7tW4uSpSgMZR+zs6sgIC///0sXkCAoD3G8M7Vb\n",
       "TVVf6NuBnIRDCGgj9N8vs8l/V4v6lCosBENfpV/Mgz5Sc2x+Bl9kXleKzrAYLT6JCU9rIO/8qhGo\n",
       "y9e7Csf9+wxTxAONUCuuZ6QPMXkXjrD9n/QbnUGS1x0x4Pz2Wa4vHBr4RSMQ433N+DP+fYop4oEG\n",
       "1JYfYgUpbkZo9aTfYIGBOwqWfBWL6bO0OsbnLxqByI1YdFbIxjx/Fu9OXA8TPzd45AejoJSiEVo9\n",
       "6Te41cq8ru6B6BfRSon3jGB3OHpWyJexZboUoT3HFPFAI9SOH8DZZR2i1ZN+Y2UyeV1KDCXX//yt\n",
       "+a+hlZleMeJ2sDorxFSPhKuz+PSjwerAA41QO34owXzRaIxWD/qN5ZM8r0uO4sogysrTLvjkD4T6\n",
       "BwCWxkhoS9cXjAhT3tV7VUhmOZLWnsR7kO5ginigsdeeHxt1ZeT85Ls96DeWGou8RkxIwla5RN8w\n",
       "ateb4eVoIhY0bZZx6/Y8hS+OkdBKLKNGXGyAacFdvReFzvKBJXMW70G6gynigcZee34Q352yUVqN\n",
       "9xvLBFReG+sGpRWaom+86suC3U9qNhyzzblh2R7nfuUx1OHWlSdak0JqRlxsCN3++JZ2q2Nf0zUk\n",
       "1FjmchKvQRrBFPFAY689P2aCYNEbspnbtEr6fSS1mvNahMuDFRaRoaXjDN7lsURic9j0Jq8B/WYy\n",
       "ko5xuObIfOdp0IiLDcXAUMeeKdR3M/2yeAdSC1P0RcQDjb3e+eEUyp27s85zl8Wd3uW0mAKt0n4f\n",
       "KNuc1w4CSdkxT1rr73/ZD55cxUzRG5ObFLNtGOGFPEywjjES11CIQXgbNOJiQ7CE1PVm2FOF+3Uh\n",
       "uXuXdRFvQ2piir6IeKCx1zs/HDXCISHskUYui3sCoigS9g/ClKJV2u8n0MpbJs+3eeK8C8zAK+xj\n",
       "9rynAuszWqVjxDziyCaHaXWxIcQ/1tCbYk8V7p7vXmlWxduQ2pjAF01a2Y0M1O3rUNKZGWNxKMvx\n",
       "pUqrpN8nNsE1r10MdyslPm4yGpVyVsIhB3IBeY/cT2mVjgEhKsmtkj1p0UmhDSNyG3y33387d6th\n",
       "TxSuS2X6y+UqXoN0BxP4orkJ2twXrigcIZGKyYPCK2ayRquknz1NzBIi7EzcgjZTf39sSVKV14rt\n",
       "z2VkBEMUmq9nMaHBDd4Bm8imJnZuNI5WOsbGLidB1c1sTkZcbSgzo4w9Uwid1uWORQXxJqQOJvBF\n",
       "xAMNxRN+rAvsld5lB3aFLaUUrtEq9rMCdn8O/LdRhG8OhsNNWptkIom5QuXDdKhXK0QtPCaT7nMh\n",
       "tYBpZ251yW2P9TA1Zus3klYyBp6eXDDkRhRsKGYxZeyZwiOPv6AuWFQQb0LqYDp80bhgSDZX6bRj\n",
       "kdLKHhUEqdAq9puPuGj1r8wdQomlNBZTK0YnkqeDR3J6CLWhUhghsiMC49/qtLLTMWm67WeWSKsp\n",
       "LDQzUVRpHELpGJJeacW7V+O5ESUbyttYCXum8LgBhxuWlkUF8SakDqboi4gHGnsN/FCBN9QfaLW/\n",
       "53RtRyumjK7RSh1/2BIgcrNxa/Lu1+2t/5C8ntWBkQ1mqj8Jz06CybTPjnFwy3JMzXwnFwGhZAwq\n",
       "L7S69fCma8RaCHkV7InChNB3HvuUxBt+7WCi8oSn8PAmcwLG7vIqi1Z2PFmjVXpdZH/itm0pbTZy\n",
       "g1ZRsvDA+vT8sti9MHqYdn8bvN/gZVNz60IkCKVjeNfktBI3Hp30jSicpWvYxauvIDX82sEEvoh4\n",
       "oBHqEz/Mhtz3hGW0svo7tLLHSsH9zRrz0ZNsjtcy0sp/y9zFZfqRSZZs7L5TUnx5Qk0hDgrENFxH\n",
       "PqNVMkZwDUretzKvvBhTCgwV7G9fPVf92sEEvjBnTxhe5gfx10CGhq9nvrcIatPKbtDrIh35sM/T\n",
       "Gdd88qfWnVb+W+yInn5kkqWn5Yzk9dVUVTwHyHhODuuBCb6FZ1631rtMz9phDBJuyDDMdrL6WqVn\n",
       "RPHir4ydvPycrOrXHqbgi4gHGlCLyr4sQm5Vc7vWuLHQzcIgtYJNUPUktSmIwPGEVaDQWnT/1Ls6\n",
       "6bvs8ub9dseI+28SS/y2NTW/zmN4oBFqy47XX4/GzMVLZXc2NzSWk59izHqSi/z614Ov0sxKGKc8\n",
       "D9jqtuRX+V+UfwFplJINb5DlSgAAAABJRU5ErkJggg==\n",
       "\" style=\"display:inline;vertical-align:middle;\" /></a><br>"
      ],
      "text/plain": [
       "nonmembershipEquiv: forall_{l in Naturals} [forall_{x, y_1,...,y_l} ((x not-in {y_1 ,  ...  , y_l}) = ((x != y_1) and  ...  and (x != y_l)))]"
      ]
     },
     "execution_count": 4,
     "metadata": {},
     "output_type": "execute_result"
    }
   ],
   "source": [
    "nonmembershipEquiv = Forall(l, Forall((x, yIter1l), \n",
    "                                      Equals(NotInSet(x, Set(yIter1l)), \n",
    "                                             x_notequals_all_y)),\n",
    "                           domain=Naturals)"
   ]
  },
  {
   "cell_type": "code",
   "execution_count": 5,
   "metadata": {},
   "outputs": [
    {
     "data": {
      "text/html": [
       "<strong id=\"singletonDef\"><a class=\"ProveItLink\" href=\"_proofs_/singletonDef.ipynb\">singletonDef</a>:</strong> <a class=\"ProveItLink\" href=\"__pv_it/923a7dc38b83be31d38162c00e9400f6b23f2e3b0/expr.ipynb\"><img src=\"data:image/png;base64,iVBORw0KGgoAAAANSUhEUgAAAO8AAAAWBAMAAADaw9ZbAAAAMFBMVEX///8QEBC6urrMzMxUVFRm\n",
       "ZmZERETc3NwyMjKqqqp2dnaIiIiYmJgiIiLu7u4AAAAU9Wx4AAAAAXRSTlMAQObYZgAAAxhJREFU\n",
       "SMe9VkFoE0EU/dmk2SbZboM9SJFKBA+CFFPoRS8tFaqohyIeilXUS3LQwx6kVYt2DxY81FJQTx66\n",
       "l1JqaAm0BrRil16EipCTSDWwveTQIhQLetCD8+dPstnd2Vh68MMjk5n39s/++f/PAhzAtGticGYe\n",
       "DmxO2IJSJARN36wPe2YA1iWUk+EO1wXK+OejhNArELTUbn3YYjJkA4xof7hjpCMW8M+0hDAdMg+Q\n",
       "THuHZoDR6jSJsUkYZT/qTclrFQn7cLwRYKw2O9wNAm6uZSa4HHEIru08rXyROt4KiI82c7xF0ObH\n",
       "xh5Klk8IuOc25YS8cdy/b8Vs5hjpiJ+53KZk+arAg5X7r3nER51Gb/qcBRMOOU4O+fPHYsdXOPdy\n",
       "xFcNQjNEkrMAeYnjKYJuad8iPPPznlROKruwxuKFCZ7gLzj8BO0xzy0bYBs+2V3eeaFBOuI46LLI\n",
       "HCIkWfEksF50NwF7MgCnW8qQY+NJjGzanx+MYDEfz7zTQoN0RBukbInjHwQdYuRR6apUKLl6O7Dv\n",
       "RIrwGw+MRSW669O2Z7AxDQZ6FWmQjkjZbU64Y7b9or8nHMMIzDrRPfaD6SF1DHAk8EzS1BzrJvan\n",
       "wsAKe5xSqpdQpwBMZHlb1ct1fQyPZhhSaXHGFOrrFbTPfK+Y5uoeC5d3njS1UEN+gB2lM4jsnXaj\n",
       "Rzz9DkEz1iDF93LJraEyP9x4vygnzZ8jcXZ2H1hjfe+bJw3SueQFe47CsxgedUNJkOYIs/YtGOcT\n",
       "3zOe4r0Cp2wIKSc2kfgTT6v+xic0opzEIf7iSxfgoiB1E6pvtwuUe+pkttFxdfWGIYatGX8DKYN+\n",
       "e+nVO/8ZkwbpXKJhJKPpKBVRR60kDIJrifPelrkY3jIPh3WtRbdlkvUlzSTcM6BDqWWoZhFCLolY\n",
       "We+sOS5I74GgCU2hUVJ9M7IEfTY8L5n/vhY1rH4rbokmpu/3WiSNLpHYqhGrJ8RdAckXyFcW99XL\n",
       "tSYWMwIMVfohQBqk+yRRI265FxLmpCq/kLWFxm+uZQljPPxyWg5KNLYnC/6T/QXx5OS3NLO31gAA\n",
       "AABJRU5ErkJggg==\n",
       "\" style=\"display:inline;vertical-align:middle;\" /></a><br>"
      ],
      "text/plain": [
       "singletonDef: forall_{x, y} ((x in {y}) = (x = y))"
      ]
     },
     "execution_count": 5,
     "metadata": {},
     "output_type": "execute_result"
    }
   ],
   "source": [
    "singletonDef = Forall((x, y), Equals(InSet(x, Set(y)), Equals(x, y)))"
   ]
  },
  {
   "cell_type": "code",
   "execution_count": 6,
   "metadata": {},
   "outputs": [
    {
     "data": {
      "text/html": [
       "<strong id=\"unfoldSingleton\"><a class=\"ProveItLink\" href=\"_proofs_/unfoldSingleton.ipynb\">unfoldSingleton</a>:</strong> <a class=\"ProveItLink\" href=\"__pv_it/d0667f5ae2be119b57eabf63801a79c2081644b60/expr.ipynb\"><img src=\"data:image/png;base64,iVBORw0KGgoAAAANSUhEUgAAALAAAAAXBAMAAABZgNg7AAAAMFBMVEX///8QEBC6urrMzMxUVFRm\n",
       "ZmZERETc3NwyMjKqqqp2dnaIiIiYmJgiIiLu7u4AAAAU9Wx4AAAAAXRSTlMAQObYZgAAAmtJREFU\n",
       "OMu1lU1o02AYx/9NumRNu7Q4RESUCh6KQ+zAe8sGKyjCQAqyORgiHdpLvGyCOIJ48CAy0MFgl1z8\n",
       "rJQKW0EnmosoitDTDgOhuwzZQAqCXsbwed806Zo0USI+0L5vnn/z65vnK8D/smboO4f8pUQaaLDN\n",
       "5xBcMR8gXgCesfV+CHB/0LP2A7O0yNMhwGtBYsLgf9y3EAJ8LEhUU0g8mZu7FYIr6IHyVeBnqbQR\n",
       "AtxnUAgrheVJl397AvIe8AgYBWY8x3E75BfWetJ00kO7bXwxj7KLi3eZ3WFb4zTiLWAJOAHV81SS\n",
       "23Fda2+KtidCpWrgHR64inBhChLVwnFgAHEzCLxTvMQPYJmzSaZZc415soYjSNaAHAg70AwAxy/P\n",
       "f/cDgyhui+0hl+VgVT9D15WRFboU6og0HbCyMjSK9zbP0hxwhJWo/IOOSDb1ldk6T6qOl+ChwMwI\n",
       "MZpj7Jc7SW24c+JqdPowdBtsaQ5Yovh9oDS9dffcOK7Q8pE+iw1WBveYd/4U6h1wmjIvGnx71tY2\n",
       "7Swq44jtSim55i7DvLALXm6IcO1XG3BuX4yTGsT1UqmMTN7WhIN2RTaglqvP33iyV15lqNusr1lU\n",
       "xZTI3AcwuA88jKxqzbAJW3NOjEN+raM0eEtbllN0BTc0DAotByy2nlKlFpxi4FrGuf9Tb+x5bFKy\n",
       "FDtCW68mq8iZeFjXHbBaXnzdxFbaBnNt6U9jcwPX6Ptbt9OUtWjN3SCPKcaMZ2kdsNx70C+vspMU\n",
       "uttRk4xM75YmnqV1wLjpP6Hi2e7pjNia4TsrLK34b2/YqGe6VdovUPNvEb8BxyuY2fZL6h4AAAAA\n",
       "SUVORK5CYII=\n",
       "\" style=\"display:inline;vertical-align:middle;\" /></a><br>"
      ],
      "text/plain": [
       "unfoldSingleton: forall_{x, y | x in {y}} (x = y)"
      ]
     },
     "execution_count": 6,
     "metadata": {},
     "output_type": "execute_result"
    }
   ],
   "source": [
    "unfoldSingleton = Forall((x, y), Equals(x, y), conditions=[InSet(x, Set(y))])"
   ]
  },
  {
   "cell_type": "code",
   "execution_count": 7,
   "metadata": {},
   "outputs": [
    {
     "data": {
      "text/html": [
       "<strong id=\"foldSingleton\"><a class=\"ProveItLink\" href=\"_proofs_/foldSingleton.ipynb\">foldSingleton</a>:</strong> <a class=\"ProveItLink\" href=\"__pv_it/404daaa6d1a27f4b8d6bcbbf71ab2ba1fff4f9c10/expr.ipynb\"><img src=\"data:image/png;base64,iVBORw0KGgoAAAANSUhEUgAAALMAAAAXBAMAAACyt2M4AAAAMFBMVEX///8QEBC6urrMzMxUVFRm\n",
       "ZmZERETc3NwyMjKqqqp2dnaIiIiYmJgiIiLu7u4AAAAU9Wx4AAAAAXRSTlMAQObYZgAAAoJJREFU\n",
       "SMetlT1oFEEUx/+3ex+52816eFUKIYVFmuAFbLTJJYIcaiFiIVqozcXCYgtJ/MBkm0CKKFdo7VqE\n",
       "IEdkwXigKbIKNrG5UsSDtbnCEDgUTGHjm4/9MrviYgZ2Z+a9md+bfR+zwKG1D67oT69LgZcZoTiJ\n",
       "4j3bH021gffU99jkYxb0yWTxdjAqWPTUgRds8jgLOmXx82BUqdKL8PPUlW5kIGvOP6F3gBFydqGd\n",
       "AZ2LRWf3Uf9TIvoroK8vLDzM4o+J6ERd9VJOXaTj/my1PmdBX6Xn/ua919wv817UIcaajSVPoCsX\n",
       "gTPA3IH94+noVULY+pccT63IziuEU4YsUfQhTcsUx+MwrAP7/xLXo4SANixTdsEI16kkP1XooUXj\n",
       "ZZb9dPRRaG4W9HciIi8WKMf6fRFGdYZMeTkHv5if6ctUOrrmjnoZ0ZQmIgPVRlijNXo989Qf1LHY\n",
       "MbRhsfLqzG6SWaUrc0ughZBv7AZJN8ZeS3V+Qxi90GST+1urSl8zh2Bulrznnc1RtuweMafCU3Nh\n",
       "c4WaEyiA27TX3IbGLV0I0RvcycWGTD6dBfApmVZY4IHFSXRDtBTGFMAafbd7Ew/EnTQeq8bLOOEi\n",
       "TD7pt32uP4fzUV/vBxt9BTAJDN5+64jQl5brUfRg67op0SPMqM4+Ta2qIrNqETQT3uIOCRR0EjMa\n",
       "1HIzXugbkUIXbbpiVXDXRE0ZhmgulM1X0Ens1Osp3zPGfHTHlw/eXHuJaRdPulaI5kLZfEX6pfqO\n",
       "SsQu2vK+/rMM3ZKZdxLzOlBQu5OM3nNQ3rrE/zLk5nzMbVDNoj2RXDKBgplJubB32pF/46u4Tiez\n",
       "djI6UPx/axwC4zcvUqxnuHemCwAAAABJRU5ErkJggg==\n",
       "\" style=\"display:inline;vertical-align:middle;\" /></a><br>"
      ],
      "text/plain": [
       "foldSingleton: forall_{x, y | x = y} (x in {y})"
      ]
     },
     "execution_count": 7,
     "metadata": {},
     "output_type": "execute_result"
    }
   ],
   "source": [
    "foldSingleton = Forall((x, y), InSet(x, Set(y)), conditions=[Equals(x, y)])"
   ]
  },
  {
   "cell_type": "code",
   "execution_count": 8,
   "metadata": {},
   "outputs": [
    {
     "data": {
      "text/html": [
       "<strong id=\"notInSingletonEquiv\"><a class=\"ProveItLink\" href=\"_proofs_/notInSingletonEquiv.ipynb\">notInSingletonEquiv</a>:</strong> <a class=\"ProveItLink\" href=\"__pv_it/421ab0f0ce466bdb825cb7c6fe06cf2c4b8723ce0/expr.ipynb\"><img src=\"data:image/png;base64,iVBORw0KGgoAAAANSUhEUgAAAO8AAAAWCAMAAAAfMztaAAAAS1BMVEX///8LCwsYGBgoKChbW1sN\n",
       "DQ0JCQkdHR0PDw8WFhYQEBC6urrMzMxUVFRmZmZERETc3NwyMjKqqqp2dnaIiIiYmJgiIiLu7u4A\n",
       "AAAbfmHDAAAAAXRSTlMAQObYZgAAAzRJREFUWMPVWImO3CAMpXcbwn3l/7+0QHCCOWbIVq1UpN2n\n",
       "yXj94tssIX/t0IA+Ou7w97sxkvzzEz5giMU4Ob5WHbzpJfZNn66gz4inZ+hA0H6iv5/bNdadYXwj\n",
       "dh57jGS4Krg/IZ4eqYaPQXtGo+GxWgw1yL2R5yhoZhvGA56qJ8TTwyZ5oiqUApwj1sy1FuM0nckD\n",
       "e51ZJ34a3lt7RvAa12v2bgHjqCdY5X/99Grd3rCtEz8O76U9ozMyH7/YMxTGUZ0pF4iQT+JLhF4l\n",
       "ntPOExS0ZzxEOt6s2csNRmksk9ryO9mkiIEIamxZMPkP5RGwvYavEveEYFTd9BoeXrGwLCcWZ6Fy\n",
       "CEPU6rwj250eWVNbbNCJDaHH3a7d1bW1qkSrw1rinrDIf/lWy2Me0J6RJpmgyGL5UoSmKNWXc4MY\n",
       "9NK9iO+a8PSiouSegrDSbZG4JxyFt+EB7SemL6xbtPegCJNZDBUO3bz3P77HX+oenNt+bTdbivwB\n",
       "4RclbPuxSNwTFlrWbFE1D2g/Mdnqw8fszZ633VZgmvZDwWCiU0XtR/l4dY1le3vCkilNPSIebG/M\n",
       "ZVhdYi+glu2wvol+DJQV8MLUE/Z6Lw2+G74pJKouZFvy667fKp+5r47oiDvCLP/5UyOPeHA+xw5T\n",
       "RpcJKVeK5mDJIWPlNWXiEDp59gR7e4U5Qrtua8ADuWIFa+eRe9s/5oSj8GIe0F5Q8/I29O6/0Y2B\n",
       "xse2qRXU2mPWOCLiS0tbXw0o26eTlsdXoIdr7X0/j+aEXfX2PBxjVRBH5SgWq4s1tUJ9jUFYE4zB\n",
       "3U6qb3N7419YDiS3vertFekF4SC8mAe0A7pwD474U4+ArX31TWIc7atfmar7c7tfXcn9bJ+cE+px\n",
       "dgAP2ifr1noQo/KIk9lh0VZ6vFy+J6Ump5sj84lWt/aahbvoC8J+uiAe0N6yxBzQPOZLsjwljGZW\n",
       "qOf3wdFNy233ABKm3brCn90HB+GtecIKS7RXyr58kzkMY39xG+wuwZ+KdKwq2m5dhC0ts1PCwfJQ\n",
       "84D2Vyy7zP4ZXkqgN8pJEopJOurZ/6/s0r835oSvex1of8niTh8tXpr+n/MbFN87hOM4RKoAAAAA\n",
       "SUVORK5CYII=\n",
       "\" style=\"display:inline;vertical-align:middle;\" /></a><br>"
      ],
      "text/plain": [
       "notInSingletonEquiv: forall_{x, y} ((x not-in {y}) = (x != y))"
      ]
     },
     "execution_count": 8,
     "metadata": {},
     "output_type": "execute_result"
    }
   ],
   "source": [
    "notInSingletonEquiv = Forall((x, y), Equals(NotInSet(x, Set(y)), NotEquals(x, y)))"
   ]
  },
  {
   "cell_type": "code",
   "execution_count": 9,
   "metadata": {},
   "outputs": [
    {
     "data": {
      "text/html": [
       "<strong id=\"inSingletonIsBool\"><a class=\"ProveItLink\" href=\"_proofs_/inSingletonIsBool.ipynb\">inSingletonIsBool</a>:</strong> <a class=\"ProveItLink\" href=\"__pv_it/e90c6ef7d6127b97b117164a829423fd9032750d0/expr.ipynb\"><img src=\"data:image/png;base64,iVBORw0KGgoAAAANSUhEUgAAALkAAAAWBAMAAABuySBUAAAAMFBMVEX///8QEBC6urrMzMxUVFRm\n",
       "ZmZERETc3NwyMjKqqqp2dnaIiIiYmJgiIiLu7u4AAAAU9Wx4AAAAAXRSTlMAQObYZgAAAtVJREFU\n",
       "SMetVU1oE0EUftlNdk12uw3NQaREIgiKIqbgRUESK7T1BynqQcjBnFJLL3tqBVEXobeqARUED66H\n",
       "UjS0BJRAiegq+ENFiDcRAttLKS1CoFAFBX2zs7ObSadWxAffzsybb7+ZeW9+AP7F3ji0PDKzBdHd\n",
       "tGe/j4321Wa1vjKAnhH//xrRIJUPgk45TyGwl0EtZuHnHN+buH3pe3oU+7IAj4njlkBim0shsEeh\n",
       "UpIwO7oVqbq8gsvDkcexqRYFEnUfW6vr9gZ1LYPSC3R6sbJAYqePwFZvNj8L1Y0kT0D1uHMGYBEH\n",
       "npmYuCoQlyyKMA9T7iZzh1GeQOa+B8Oh4KTXS6UvAvWYTaFWBh8UiGPcbY+MMW3DdddXnwaOgOpH\n",
       "32IjMQxwHGBElFSHYgU+OmniaCNdwD+lFtk6eou07wNHUKTmr14s47j03WBYAvVIhsJGkTskuGHm\n",
       "5R6Aw7EGlLA+SRy7gCOQyMxjS8KFdYHmCNS7MxQuDNA8pJtNmjT5GG5kN1KFH0RpCj85noDqUNyH\n",
       "RFyY5nS5f1AH6A0OF0t4Cj8PXXkNCy9lOZ7gqStU3bAOoafS/wxnJNUg4g8VKVOAugYGWXgjHHnI\n",
       "i72WZHGnkWl0qpPIwEg/JskdIFKr3WYfozgU77QWvCCO06H6rBdwJc925HvgCCwyOsnnPRxUAhI/\n",
       "uHYAamwnD3uI/1SSatW7ujLcWT0PBx3gdmRAQHW9UKQSEPF+/uZ1nIRTLLgND8bY3JPnnkOdzLar\n",
       "L9Uvmkz9BkfAW2z90wmyqclwOom0nJRJTw+kmMR2H4HFh/ibYLbzJggJ1BZZJZewEnDZhJTUYq4F\n",
       "H+JbLNowdjD1RFVMq7DK0nxhDnIO3K1Zf3EDv8JTYis2u9+XxeKdh9RRzWgwDzVPIXqbqhCvn/Xe\n",
       "JhLaQbF61ORfI1Ox94bNKz4EtlBue1e1rJj0lG/qOCMb/qf9BiPCxRFmW4Z0AAAAAElFTkSuQmCC\n",
       "\" style=\"display:inline;vertical-align:middle;\" /></a><br>"
      ],
      "text/plain": [
       "inSingletonIsBool: forall_{x, y} ((x in {y}) in BOOLEANS)"
      ]
     },
     "execution_count": 9,
     "metadata": {},
     "output_type": "execute_result"
    }
   ],
   "source": [
    "inSingletonIsBool = Forall((x, y), InSet(InSet(x, Set(y)), Booleans))"
   ]
  },
  {
   "cell_type": "code",
   "execution_count": 10,
   "metadata": {},
   "outputs": [
    {
     "data": {
      "text/html": [
       "<strong id=\"inSingletonEvalTrue\"><a class=\"ProveItLink\" href=\"_proofs_/inSingletonEvalTrue.ipynb\">inSingletonEvalTrue</a>:</strong> <a class=\"ProveItLink\" href=\"__pv_it/5c943204ca821c7e80d6f1d2902a4670a4b656e80/expr.ipynb\"><img src=\"data:image/png;base64,iVBORw0KGgoAAAANSUhEUgAAAO8AAAAXBAMAAAARnwX+AAAAMFBMVEX///8QEBC6urrMzMxUVFRm\n",
       "ZmZERETc3NwyMjKqqqp2dnaIiIiYmJgiIiLu7u4AAAAU9Wx4AAAAAXRSTlMAQObYZgAAAtNJREFU\n",
       "SMe1Vj9oE1EY/3KXpE3uegYzdRA6OHQppqCDXRorSFAHEYeiiLqkDg43SKsW7Q0WHGrJoHPPoRQJ\n",
       "lQNrQDv0FFzqkkmkWDiXDBYhKNjBxe+9792fpPfSntgPfncv3+/l/d69788dwH+1jy7dx1b2neol\n",
       "XlxxCDH2w/ZHozWAD9IlGNNkg09JhE8KxNhGMMpYiFI3f32b2WfOvGSOxSTCi/I/vAhG+QJerJgp\n",
       "p/gVmWm89d1MoKs5hAMIb0qFkenHIGdqCYRTHiG0nafbX2KFv0mFkdFXZmYeJjnpYYHA1AVP8sTZ\n",
       "mkyYMb+r1a0kwlcFHqzdf8NPfNqLHrWxbMOcR8L5SzJhxpwFmNpDD8mFFwiGrX9N8ZKI/HsSl1Ta\n",
       "LLn1Nv7M8eyafMLscYcwY46DsTf7emTbUUIetHaO1YsRzlXRfzrThCqO51nFF2RPzJgB0Nwkwj8J\n",
       "BqRpknIMS5Mnl3oGN+KlHPjDooinorZlwozR3AHvH4Qxtamm1HLY04p4WfLUX3jbgv2EDYu1ofrE\n",
       "Gm5XaYhKIWFy8iUbQQkNCsBcifdboxmuWuFx1goixnTUfrvqPmqYmsCIeedSmOE7R8zR8Im5s8Iy\n",
       "wwkIgDsE3dwAje/lYii8yoObLYty0i3ZE3PmOW5Z4ckKj0agEQoLZwcBsExYcm/BLL0Zhjo61xU4\n",
       "4cJByknEapc7zsOFaIx3g/k+ATBCaL37Xqek7JsvRYVb6zdMIdwfU5Vj/MoZnR2YWlCpVooRYea8\n",
       "zY86IHCfJiG0XKWzZa72apngt0yy8byVh3smFJV2KMydwnwC92kTJC+JdNMY9IXrUuGAab299grG\n",
       "XXjWsEJh7hTmE71fi++xLdhZW7yPDUum2824fWbaia3jgEC7KxD3BeJAbv0y/wLBIKZNmXAXo5pZ\n",
       "ezi+gQQE24RDiLPNWuSb67X0pLsYHbdrxwsHxGFb+dAV/gLda9LehX/xHAAAAABJRU5ErkJggg==\n",
       "\" style=\"display:inline;vertical-align:middle;\" /></a><br>"
      ],
      "text/plain": [
       "inSingletonEvalTrue: forall_{x, y | x = y} ((x in {y}) = TRUE)"
      ]
     },
     "execution_count": 10,
     "metadata": {},
     "output_type": "execute_result"
    }
   ],
   "source": [
    "inSingletonEvalTrue = Forall((x, y), Equals(InSet(x, Set(y)), TRUE), conditions=[Equals(x, y)])"
   ]
  },
  {
   "cell_type": "code",
   "execution_count": 11,
   "metadata": {},
   "outputs": [
    {
     "data": {
      "text/html": [
       "<strong id=\"inSingletonEvalFalse\"><a class=\"ProveItLink\" href=\"_proofs_/inSingletonEvalFalse.ipynb\">inSingletonEvalFalse</a>:</strong> <a class=\"ProveItLink\" href=\"__pv_it/cee10c06f4ef232a503a0ce0a2d30fe4a610033c0/expr.ipynb\"><img src=\"data:image/png;base64,iVBORw0KGgoAAAANSUhEUgAAAO8AAAAXCAMAAADUb+j/AAAAOVBMVEX///8oKCgUFBQJCQkQEBC6\n",
       "urrMzMxUVFRmZmZERETc3NwyMjKqqqp2dnaIiIiYmJgiIiLu7u4AAACP9cC6AAAAAXRSTlMAQObY\n",
       "ZgAAAupJREFUWMPVWImO2yAQdbvcN/z/xxYwGAZjr0maqosUjYzmwTyYi2zbfzwss+CbaC3eXdP/\n",
       "C8OxgfKZZU6f5ghS+0ngF04vY1z7Np+iSyiUz4YJk0kmiyQPVxGNVcZoVT/lx666rry2g0Z3k/Lp\n",
       "WbPOjsSf14Pgn6JrDJR/ha/V63wzph46U5/iizyUs1g10sUhn/P1aJ1vxlgt8nAfS1YSyplR0vrF\n",
       "+924Wua7YwJPw+lP8WUaSqENFcqw5t2C+2tqXmegCB7y1Wydb8bQnOr4g8p2VwT8JV5aIH203jq7\n",
       "oeZQ871LKtYbDi1b2yNpK9lpdoPe8M0YnDT8k3x3l9GuCwTCQOpivDoAfrou2fWJ2lg6GV6UZLUf\n",
       "o/X73TFpOWPf4yuuS2vAQCa3pGAljFwZsivZiFR1lDw/VPfnxU9IWOe7YxJX59/jexMOA9981WbW\n",
       "jgzBUwhvKkUuCeXryDOv842+XLeMqQQbSmr3x2EV6fkCzQ3rOSKTU1Cm3EP6TtbPSwOVXRyb4r0t\n",
       "fjt/Zq4b/Ft/jpdDS2z55GrFMG+2IGIYTe/30KQ5SXzFn5kgMsoCacWee0w7FToNJu26iOV0rEdW\n",
       "rt9vwSjmjgQsj72Fx3Ha8ClfoFmj/4zoC8cuVbAbR6CvjReMb0oti1RxsCPfl+sRjKfQBSKNXkrN\n",
       "Vfw2zZZgR0Q+GtdLz432WsP8KOQkvVdqEWFY3azxld89kYqXo87LK6Z1N8kZSV9JELngWzR59OTf\n",
       "v2T25zNiX0ZAORuKyrt+svr2ej8JeoQBE9OXlrlCCplsi5bjMM3PTRPWohEBWnu71sIVatQlQ9XI\n",
       "V7/weh0x0XMUi+6W+Nh86IbLKd+mmaZ9d00Q8c570KKjAHE9vn+9fOF67zCRrxBDMM7rr2rXdkLA\n",
       "ZkQsvfe9yyupGL14aLriLi/8sXOHISKfKnzTzPl2KifE8CeDWHNCq9XF/1eGrNO9xdj9ZPX3/ZXt\n",
       "bDohfvagP5/CH+EDIVfyVW8WAAAAAElFTkSuQmCC\n",
       "\" style=\"display:inline;vertical-align:middle;\" /></a><br>"
      ],
      "text/plain": [
       "inSingletonEvalFalse: forall_{x, y | x != y} ((x in {y}) = FALSE)"
      ]
     },
     "execution_count": 11,
     "metadata": {},
     "output_type": "execute_result"
    }
   ],
   "source": [
    "inSingletonEvalFalse = Forall((x, y), Equals(InSet(x, Set(y)), FALSE), conditions=[NotEquals(x, y)])"
   ]
  },
  {
   "cell_type": "code",
   "execution_count": 12,
   "metadata": {},
   "outputs": [
    {
     "name": "stdout",
     "output_type": "stream",
     "text": [
      "Theorems may be imported from autogenerated _theorems_.py\n"
     ]
    }
   ],
   "source": [
    "%end theorems"
   ]
  },
  {
   "cell_type": "code",
   "execution_count": null,
   "metadata": {},
   "outputs": [],
   "source": []
  }
 ],
 "metadata": {
  "kernelspec": {
   "display_name": "Python 3",
   "language": "python",
   "name": "python3"
  }
 },
 "nbformat": 4,
 "nbformat_minor": 0
}
