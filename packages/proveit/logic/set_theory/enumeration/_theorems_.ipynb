{
 "cells": [
  {
   "cell_type": "markdown",
   "metadata": {
    "collapsed": true
   },
   "source": [
    "Theorems for context <a href=\"_context_.ipynb\" class=\"ProveItLink\">proveit.logic.set_theory.enumeration</a>\n",
    "========"
   ]
  },
  {
   "cell_type": "code",
   "execution_count": 1,
   "metadata": {},
   "outputs": [
    {
     "name": "stdout",
     "output_type": "stream",
     "text": [
      "Defining theorems for context 'proveit.logic.set_theory.enumeration'\n",
      "Subsequent end-of-cell assignments will define theorems\n",
      "'%end theorems' will finalize the definitions\n"
     ]
    }
   ],
   "source": [
    "from proveit._common_ import f, l, x, y\n",
    "from proveit.logic import Booleans, TRUE, FALSE, Or, And, Forall\n",
    "from proveit.logic import Equals, NotEquals, InSet, NotInSet, Set\n",
    "from proveit.logic._common_ import yIter1l\n",
    "from proveit.logic.set_theory._common_ import x_equals_any_y, x_notequals_all_y\n",
    "from proveit.number import Naturals\n",
    "%begin theorems"
   ]
  },
  {
   "cell_type": "code",
   "execution_count": 2,
   "metadata": {},
   "outputs": [
    {
     "data": {
      "text/html": [
       "<strong id=\"unfold\"><a class=\"ProveItLink\" href=\"_proofs_/unfold.ipynb\">unfold</a>:</strong> <a class=\"ProveItLink\" href=\"__pv_it/b8f4eee85ab1f511d2628dc0233dda6c3ae2847a0/expr.ipynb\"><img src=\"__pv_it/b8f4eee85ab1f511d2628dc0233dda6c3ae2847a0/expr.png\" style=\"display:inline;vertical-align:middle;\" /></a><br>"
      ],
      "text/plain": [
       "unfold: forall_{l in Naturals} [forall_{x, y_(1),...,y_(l) | x in {y_(1) ,  ...  , y_(l)}} ((x = y_(1)) or  ...  or (x = y_(l)))]"
      ]
     },
     "execution_count": 2,
     "metadata": {},
     "output_type": "execute_result"
    }
   ],
   "source": [
    "unfold = Forall(l, Forall((x, yIter1l), \n",
    "                          x_equals_any_y, \n",
    "                          conditions=[InSet(x, Set(yIter1l))]),\n",
    "                domain=Naturals)"
   ]
  },
  {
   "cell_type": "code",
   "execution_count": 3,
   "metadata": {},
   "outputs": [
    {
     "data": {
      "text/html": [
       "<strong id=\"fold\"><a class=\"ProveItLink\" href=\"_proofs_/fold.ipynb\">fold</a>:</strong> <a class=\"ProveItLink\" href=\"__pv_it/5ea93a49b601ec1f00e68f074f218e558a82aa7c0/expr.ipynb\"><img src=\"__pv_it/5ea93a49b601ec1f00e68f074f218e558a82aa7c0/expr.png\" style=\"display:inline;vertical-align:middle;\" /></a><br>"
      ],
      "text/plain": [
       "fold: forall_{l in Naturals} [forall_{x, y_(1),...,y_(l) | (x = y_(1)) or  ...  or (x = y_(l))} (x in {y_(1) ,  ...  , y_(l)})]"
      ]
     },
     "execution_count": 3,
     "metadata": {},
     "output_type": "execute_result"
    }
   ],
   "source": [
    "fold = Forall(l, Forall((x, yIter1l), \n",
    "                          InSet(x, Set(yIter1l)), \n",
    "                          conditions=[x_equals_any_y]),\n",
    "                domain=Naturals)"
   ]
  },
  {
   "cell_type": "code",
   "execution_count": 4,
   "metadata": {},
   "outputs": [
    {
     "data": {
      "text/html": [
       "<strong id=\"nonmembershipEquiv\"><a class=\"ProveItLink\" href=\"_proofs_/nonmembershipEquiv.ipynb\">nonmembershipEquiv</a>:</strong> <a class=\"ProveItLink\" href=\"__pv_it/00df064a5b1b9fd052aa7116c698599b4690b55f0/expr.ipynb\"><img src=\"__pv_it/00df064a5b1b9fd052aa7116c698599b4690b55f0/expr.png\" style=\"display:inline;vertical-align:middle;\" /></a><br>"
      ],
      "text/plain": [
       "nonmembershipEquiv: forall_{l in Naturals} [forall_{x, y_(1),...,y_(l)} ((x not-in {y_(1) ,  ...  , y_(l)}) = ((x != y_(1)) and  ...  and (x != y_(l))))]"
      ]
     },
     "execution_count": 4,
     "metadata": {},
     "output_type": "execute_result"
    }
   ],
   "source": [
    "nonmembershipEquiv = Forall(l, Forall((x, yIter1l), \n",
    "                                      Equals(NotInSet(x, Set(yIter1l)), \n",
    "                                             x_notequals_all_y)),\n",
    "                           domain=Naturals)"
   ]
  },
  {
   "cell_type": "code",
   "execution_count": 5,
   "metadata": {},
   "outputs": [
    {
     "data": {
      "text/html": [
       "<strong id=\"singletonDef\"><a class=\"ProveItLink\" href=\"_proofs_/singletonDef.ipynb\">singletonDef</a>:</strong> <a class=\"ProveItLink\" href=\"__pv_it/0757ca7a1e2afb098357ada617cb72c2ce83de3c0/expr.ipynb\"><img src=\"__pv_it/0757ca7a1e2afb098357ada617cb72c2ce83de3c0/expr.png\" style=\"display:inline;vertical-align:middle;\" /></a><br>"
      ],
      "text/plain": [
       "singletonDef: forall_{x, y} ((x in {y}) = (x = y))"
      ]
     },
     "execution_count": 5,
     "metadata": {},
     "output_type": "execute_result"
    }
   ],
   "source": [
    "singletonDef = Forall((x, y), Equals(InSet(x, Set(y)), Equals(x, y)))"
   ]
  },
  {
   "cell_type": "code",
   "execution_count": 6,
   "metadata": {},
   "outputs": [
    {
     "data": {
      "text/html": [
       "<strong id=\"unfoldSingleton\"><a class=\"ProveItLink\" href=\"_proofs_/unfoldSingleton.ipynb\">unfoldSingleton</a>:</strong> <a class=\"ProveItLink\" href=\"__pv_it/50e32199ce76dcd24979b79c310f47ca30e7058c0/expr.ipynb\"><img src=\"__pv_it/50e32199ce76dcd24979b79c310f47ca30e7058c0/expr.png\" style=\"display:inline;vertical-align:middle;\" /></a><br>"
      ],
      "text/plain": [
       "unfoldSingleton: forall_{x, y | x in {y}} (x = y)"
      ]
     },
     "execution_count": 6,
     "metadata": {},
     "output_type": "execute_result"
    }
   ],
   "source": [
    "unfoldSingleton = Forall((x, y), Equals(x, y), conditions=[InSet(x, Set(y))])"
   ]
  },
  {
   "cell_type": "code",
   "execution_count": 7,
   "metadata": {},
   "outputs": [
    {
     "data": {
      "text/html": [
       "<strong id=\"foldSingleton\"><a class=\"ProveItLink\" href=\"_proofs_/foldSingleton.ipynb\">foldSingleton</a>:</strong> <a class=\"ProveItLink\" href=\"__pv_it/5656aeccae9978f2b79d09cef4a620d80b2026680/expr.ipynb\"><img src=\"__pv_it/5656aeccae9978f2b79d09cef4a620d80b2026680/expr.png\" style=\"display:inline;vertical-align:middle;\" /></a><br>"
      ],
      "text/plain": [
       "foldSingleton: forall_{x, y | x = y} (x in {y})"
      ]
     },
     "execution_count": 7,
     "metadata": {},
     "output_type": "execute_result"
    }
   ],
   "source": [
    "foldSingleton = Forall((x, y), InSet(x, Set(y)), conditions=[Equals(x, y)])"
   ]
  },
  {
   "cell_type": "code",
   "execution_count": 8,
   "metadata": {},
   "outputs": [
    {
     "data": {
      "text/html": [
       "<strong id=\"notInSingletonEquiv\"><a class=\"ProveItLink\" href=\"_proofs_/notInSingletonEquiv.ipynb\">notInSingletonEquiv</a>:</strong> <a class=\"ProveItLink\" href=\"__pv_it/7796e8005582ab3999b3fdadb761f18fac5da50c0/expr.ipynb\"><img src=\"__pv_it/7796e8005582ab3999b3fdadb761f18fac5da50c0/expr.png\" style=\"display:inline;vertical-align:middle;\" /></a><br>"
      ],
      "text/plain": [
       "notInSingletonEquiv: forall_{x, y} ((x not-in {y}) = (x != y))"
      ]
     },
     "execution_count": 8,
     "metadata": {},
     "output_type": "execute_result"
    }
   ],
   "source": [
    "notInSingletonEquiv = Forall((x, y), Equals(NotInSet(x, Set(y)), NotEquals(x, y)))"
   ]
  },
  {
   "cell_type": "code",
   "execution_count": 9,
   "metadata": {},
   "outputs": [
    {
     "data": {
      "text/html": [
       "<strong id=\"inSingletonIsBool\"><a class=\"ProveItLink\" href=\"_proofs_/inSingletonIsBool.ipynb\">inSingletonIsBool</a>:</strong> <a class=\"ProveItLink\" href=\"__pv_it/aac4937d69dd0f1751fc42d87068dcce9469ed4d0/expr.ipynb\"><img src=\"__pv_it/aac4937d69dd0f1751fc42d87068dcce9469ed4d0/expr.png\" style=\"display:inline;vertical-align:middle;\" /></a><br>"
      ],
      "text/plain": [
       "inSingletonIsBool: forall_{x, y} ((x in {y}) in BOOLEANS)"
      ]
     },
     "execution_count": 9,
     "metadata": {},
     "output_type": "execute_result"
    }
   ],
   "source": [
    "inSingletonIsBool = Forall((x, y), InSet(InSet(x, Set(y)), Booleans))"
   ]
  },
  {
   "cell_type": "code",
   "execution_count": 10,
   "metadata": {},
   "outputs": [
    {
     "data": {
      "text/html": [
       "<strong id=\"inSingletonEvalTrue\"><a class=\"ProveItLink\" href=\"_proofs_/inSingletonEvalTrue.ipynb\">inSingletonEvalTrue</a>:</strong> <a class=\"ProveItLink\" href=\"__pv_it/41bbf954716012ad73f6728019258134a94840590/expr.ipynb\"><img src=\"__pv_it/41bbf954716012ad73f6728019258134a94840590/expr.png\" style=\"display:inline;vertical-align:middle;\" /></a><br>"
      ],
      "text/plain": [
       "inSingletonEvalTrue: forall_{x, y | x = y} ((x in {y}) = TRUE)"
      ]
     },
     "execution_count": 10,
     "metadata": {},
     "output_type": "execute_result"
    }
   ],
   "source": [
    "inSingletonEvalTrue = Forall((x, y), Equals(InSet(x, Set(y)), TRUE), conditions=[Equals(x, y)])"
   ]
  },
  {
   "cell_type": "code",
   "execution_count": 11,
   "metadata": {},
   "outputs": [
    {
     "data": {
      "text/html": [
       "<strong id=\"inSingletonEvalFalse\"><a class=\"ProveItLink\" href=\"_proofs_/inSingletonEvalFalse.ipynb\">inSingletonEvalFalse</a>:</strong> <a class=\"ProveItLink\" href=\"__pv_it/9e44564bde093384d9495afd3be01e67fb49e3da0/expr.ipynb\"><img src=\"__pv_it/9e44564bde093384d9495afd3be01e67fb49e3da0/expr.png\" style=\"display:inline;vertical-align:middle;\" /></a><br>"
      ],
      "text/plain": [
       "inSingletonEvalFalse: forall_{x, y | x != y} ((x in {y}) = FALSE)"
      ]
     },
     "execution_count": 11,
     "metadata": {},
     "output_type": "execute_result"
    }
   ],
   "source": [
    "inSingletonEvalFalse = Forall((x, y), Equals(InSet(x, Set(y)), FALSE), conditions=[NotEquals(x, y)])"
   ]
  },
  {
   "cell_type": "code",
   "execution_count": 12,
   "metadata": {},
   "outputs": [
    {
     "name": "stdout",
     "output_type": "stream",
     "text": [
      "Theorems may be imported from autogenerated _theorems_.py\n"
     ]
    }
   ],
   "source": [
    "%end theorems"
   ]
  },
  {
   "cell_type": "code",
   "execution_count": 13,
   "metadata": {
    "collapsed": true
   },
   "outputs": [],
   "source": []
  }
 ],
 "metadata": {
  "kernelspec": {
   "display_name": "Python 3",
   "language": "python",
   "name": "python3"
  },
  "language_info": {
   "codemirror_mode": {
    "name": "ipython",
    "version": 3
   },
   "file_extension": ".py",
   "mimetype": "text/x-python",
   "name": "python",
   "nbconvert_exporter": "python",
   "pygments_lexer": "ipython3",
   "version": "3.7.0"
  }
 },
 "nbformat": 4,
 "nbformat_minor": 1
}
