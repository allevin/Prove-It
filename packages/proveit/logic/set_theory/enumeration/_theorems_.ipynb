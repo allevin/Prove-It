{
 "cells": [
  {
   "cell_type": "markdown",
   "metadata": {
    "collapsed": true,
    "deletable": true,
    "editable": true
   },
   "source": [
    "Theorems for context <a href=\"_context_.ipynb\" class=\"ProveItLink\">proveit.logic.set_theory.enumeration</a>\n",
    "========"
   ]
  },
  {
   "cell_type": "code",
   "execution_count": 1,
   "metadata": {
    "collapsed": false,
    "deletable": true,
    "editable": true
   },
   "outputs": [
    {
     "name": "stdout",
     "output_type": "stream",
     "text": [
      "Defining theorems for context 'proveit.logic.set_theory.enumeration'\n",
      "Subsequent end-of-cell assignments will define theorems\n",
      "'%end theorems' will finalize the definitions\n"
     ]
    }
   ],
   "source": [
    "from proveit._common_ import f, l, x, y\n",
    "from proveit.logic import Booleans, TRUE, FALSE, Or, And, Forall\n",
    "from proveit.logic import Equals, NotEquals, InSet, NotInSet, Set\n",
    "from proveit.logic._common_ import yIter1l\n",
    "from proveit.logic.set_theory._common_ import x_equals_any_y, x_notequals_all_y\n",
    "from proveit.number import Naturals\n",
    "%begin theorems"
   ]
  },
  {
   "cell_type": "code",
   "execution_count": 2,
   "metadata": {
    "collapsed": false,
    "deletable": true,
    "editable": true
   },
   "outputs": [
    {
     "data": {
      "text/html": [
       "<strong id=\"unfold\"><a class=\"ProveItLink\" href=\"_proofs_/unfold.ipynb\">unfold</a>:</strong> <a class=\"ProveItLink\" href=\"__pv_it/d6d26b8815ee6f633f1dbd5ea6355d6b467435160/expr.ipynb\"><img src=\"__pv_it/d6d26b8815ee6f633f1dbd5ea6355d6b467435160/expr.png\" style=\"display:inline;vertical-align:middle;\" /></a><br>"
      ],
      "text/plain": [
       "unfold: forall_{l in Naturals} [forall_{x, y_(1),...,y_(l) | x in {y_(1) ,  ...  , y_(l)}} ((x = y_(1)) or  ...  or (x = y_(l)))]"
      ]
     },
     "execution_count": 2,
     "metadata": {},
     "output_type": "execute_result"
    }
   ],
   "source": [
    "unfold = Forall(l, Forall((x, yIter1l), \n",
    "                          x_equals_any_y, \n",
    "                          conditions=[InSet(x, Set(yIter1l))]),\n",
    "                domain=Naturals)"
   ]
  },
  {
   "cell_type": "code",
   "execution_count": 3,
   "metadata": {
    "collapsed": false,
    "deletable": true,
    "editable": true
   },
   "outputs": [
    {
     "data": {
      "text/html": [
       "<strong id=\"fold\"><a class=\"ProveItLink\" href=\"_proofs_/fold.ipynb\">fold</a>:</strong> <a class=\"ProveItLink\" href=\"__pv_it/205754aeea3dfe8800573959b761753165bab5cc0/expr.ipynb\"><img src=\"__pv_it/205754aeea3dfe8800573959b761753165bab5cc0/expr.png\" style=\"display:inline;vertical-align:middle;\" /></a><br>"
      ],
      "text/plain": [
       "fold: forall_{l in Naturals} [forall_{x, y_(1),...,y_(l) | (x = y_(1)) or  ...  or (x = y_(l))} (x in {y_(1) ,  ...  , y_(l)})]"
      ]
     },
     "execution_count": 3,
     "metadata": {},
     "output_type": "execute_result"
    }
   ],
   "source": [
    "fold = Forall(l, Forall((x, yIter1l), \n",
    "                          InSet(x, Set(yIter1l)), \n",
    "                          conditions=[x_equals_any_y]),\n",
    "                domain=Naturals)"
   ]
  },
  {
   "cell_type": "code",
   "execution_count": 4,
   "metadata": {
    "collapsed": false,
    "deletable": true,
    "editable": true
   },
   "outputs": [
    {
     "data": {
      "text/html": [
       "<strong id=\"nonmembershipEquiv\"><a class=\"ProveItLink\" href=\"_proofs_/nonmembershipEquiv.ipynb\">nonmembershipEquiv</a>:</strong> <a class=\"ProveItLink\" href=\"__pv_it/c29f5af935e4be5447db906ea72f27f131c418390/expr.ipynb\"><img src=\"__pv_it/c29f5af935e4be5447db906ea72f27f131c418390/expr.png\" style=\"display:inline;vertical-align:middle;\" /></a><br>"
      ],
      "text/plain": [
       "nonmembershipEquiv: forall_{l in Naturals} [forall_{x, y_(1),...,y_(l)} ((x not-in {y_(1) ,  ...  , y_(l)}) = ((x != y_(1)) and  ...  and (x != y_(l))))]"
      ]
     },
     "execution_count": 4,
     "metadata": {},
     "output_type": "execute_result"
    }
   ],
   "source": [
    "nonmembershipEquiv = Forall(l, Forall((x, yIter1l), \n",
    "                                      Equals(NotInSet(x, Set(yIter1l)), \n",
    "                                             x_notequals_all_y)),\n",
    "                           domain=Naturals)"
   ]
  },
  {
   "cell_type": "code",
   "execution_count": 5,
   "metadata": {
    "collapsed": false,
    "deletable": true,
    "editable": true
   },
   "outputs": [
    {
     "data": {
      "text/html": [
       "<strong id=\"singletonDef\"><a class=\"ProveItLink\" href=\"_proofs_/singletonDef.ipynb\">singletonDef</a>:</strong> <a class=\"ProveItLink\" href=\"__pv_it/0a0281e04ef29e52ff90cce38d49c4677a6363120/expr.ipynb\"><img src=\"__pv_it/0a0281e04ef29e52ff90cce38d49c4677a6363120/expr.png\" style=\"display:inline;vertical-align:middle;\" /></a><br>"
      ],
      "text/plain": [
       "singletonDef: forall_{x, y} ((x in {y}) = (x = y))"
      ]
     },
     "execution_count": 5,
     "metadata": {},
     "output_type": "execute_result"
    }
   ],
   "source": [
    "singletonDef = Forall((x, y), Equals(InSet(x, Set(y)), Equals(x, y)))"
   ]
  },
  {
   "cell_type": "code",
   "execution_count": 6,
   "metadata": {
    "collapsed": false,
    "deletable": true,
    "editable": true
   },
   "outputs": [
    {
     "data": {
      "text/html": [
       "<strong id=\"unfoldSingleton\"><a class=\"ProveItLink\" href=\"_proofs_/unfoldSingleton.ipynb\">unfoldSingleton</a>:</strong> <a class=\"ProveItLink\" href=\"__pv_it/29d13b9dcd8017c74735e2239f667f9d01c338030/expr.ipynb\"><img src=\"__pv_it/29d13b9dcd8017c74735e2239f667f9d01c338030/expr.png\" style=\"display:inline;vertical-align:middle;\" /></a><br>"
      ],
      "text/plain": [
       "unfoldSingleton: forall_{x, y | x in {y}} (x = y)"
      ]
     },
     "execution_count": 6,
     "metadata": {},
     "output_type": "execute_result"
    }
   ],
   "source": [
    "unfoldSingleton = Forall((x, y), Equals(x, y), conditions=[InSet(x, Set(y))])"
   ]
  },
  {
   "cell_type": "code",
   "execution_count": 7,
   "metadata": {
    "collapsed": false,
    "deletable": true,
    "editable": true
   },
   "outputs": [
    {
     "data": {
      "text/html": [
       "<strong id=\"foldSingleton\"><a class=\"ProveItLink\" href=\"_proofs_/foldSingleton.ipynb\">foldSingleton</a>:</strong> <a class=\"ProveItLink\" href=\"__pv_it/ea9673a38b11780d28747d1409dd000e7bf379a60/expr.ipynb\"><img src=\"__pv_it/ea9673a38b11780d28747d1409dd000e7bf379a60/expr.png\" style=\"display:inline;vertical-align:middle;\" /></a><br>"
      ],
      "text/plain": [
       "foldSingleton: forall_{x, y | x = y} (x in {y})"
      ]
     },
     "execution_count": 7,
     "metadata": {},
     "output_type": "execute_result"
    }
   ],
   "source": [
    "foldSingleton = Forall((x, y), InSet(x, Set(y)), conditions=[Equals(x, y)])"
   ]
  },
  {
   "cell_type": "code",
   "execution_count": 8,
   "metadata": {
    "collapsed": false,
    "deletable": true,
    "editable": true
   },
   "outputs": [
    {
     "data": {
      "text/html": [
       "<strong id=\"notInSingletonEquiv\"><a class=\"ProveItLink\" href=\"_proofs_/notInSingletonEquiv.ipynb\">notInSingletonEquiv</a>:</strong> <a class=\"ProveItLink\" href=\"__pv_it/fc35c0ab117c8df81e24b7cb4660d2d1f15470860/expr.ipynb\"><img src=\"__pv_it/fc35c0ab117c8df81e24b7cb4660d2d1f15470860/expr.png\" style=\"display:inline;vertical-align:middle;\" /></a><br>"
      ],
      "text/plain": [
       "notInSingletonEquiv: forall_{x, y} ((x not-in {y}) = (x != y))"
      ]
     },
     "execution_count": 8,
     "metadata": {},
     "output_type": "execute_result"
    }
   ],
   "source": [
    "notInSingletonEquiv = Forall((x, y), Equals(NotInSet(x, Set(y)), NotEquals(x, y)))"
   ]
  },
  {
   "cell_type": "code",
   "execution_count": 9,
   "metadata": {
    "collapsed": false,
    "deletable": true,
    "editable": true
   },
   "outputs": [
    {
     "data": {
      "text/html": [
       "<strong id=\"inSingletonIsBool\"><a class=\"ProveItLink\" href=\"_proofs_/inSingletonIsBool.ipynb\">inSingletonIsBool</a>:</strong> <a class=\"ProveItLink\" href=\"__pv_it/a33c44b020a138b868af9b46164ae780a3093f260/expr.ipynb\"><img src=\"__pv_it/a33c44b020a138b868af9b46164ae780a3093f260/expr.png\" style=\"display:inline;vertical-align:middle;\" /></a><br>"
      ],
      "text/plain": [
       "inSingletonIsBool: forall_{x, y} ((x in {y}) in BOOLEANS)"
      ]
     },
     "execution_count": 9,
     "metadata": {},
     "output_type": "execute_result"
    }
   ],
   "source": [
    "inSingletonIsBool = Forall((x, y), InSet(InSet(x, Set(y)), Booleans))"
   ]
  },
  {
   "cell_type": "code",
   "execution_count": 10,
   "metadata": {
    "collapsed": false,
    "deletable": true,
    "editable": true
   },
   "outputs": [
    {
     "data": {
      "text/html": [
       "<strong id=\"inSingletonEvalTrue\"><a class=\"ProveItLink\" href=\"_proofs_/inSingletonEvalTrue.ipynb\">inSingletonEvalTrue</a>:</strong> <a class=\"ProveItLink\" href=\"__pv_it/6b1fc392ef1d9fc19fd0beb1cadbdfedc371da530/expr.ipynb\"><img src=\"__pv_it/6b1fc392ef1d9fc19fd0beb1cadbdfedc371da530/expr.png\" style=\"display:inline;vertical-align:middle;\" /></a><br>"
      ],
      "text/plain": [
       "inSingletonEvalTrue: forall_{x, y | x = y} ((x in {y}) = TRUE)"
      ]
     },
     "execution_count": 10,
     "metadata": {},
     "output_type": "execute_result"
    }
   ],
   "source": [
    "inSingletonEvalTrue = Forall((x, y), Equals(InSet(x, Set(y)), TRUE), conditions=[Equals(x, y)])"
   ]
  },
  {
   "cell_type": "code",
   "execution_count": 11,
   "metadata": {
    "collapsed": false,
    "deletable": true,
    "editable": true
   },
   "outputs": [
    {
     "data": {
      "text/html": [
       "<strong id=\"inSingletonEvalFalse\"><a class=\"ProveItLink\" href=\"_proofs_/inSingletonEvalFalse.ipynb\">inSingletonEvalFalse</a>:</strong> <a class=\"ProveItLink\" href=\"__pv_it/4fbbcfa667acae634e839f54cf0d38ac68281bc10/expr.ipynb\"><img src=\"__pv_it/4fbbcfa667acae634e839f54cf0d38ac68281bc10/expr.png\" style=\"display:inline;vertical-align:middle;\" /></a><br>"
      ],
      "text/plain": [
       "inSingletonEvalFalse: forall_{x, y | x != y} ((x in {y}) = FALSE)"
      ]
     },
     "execution_count": 11,
     "metadata": {},
     "output_type": "execute_result"
    }
   ],
   "source": [
    "inSingletonEvalFalse = Forall((x, y), Equals(InSet(x, Set(y)), FALSE), conditions=[NotEquals(x, y)])"
   ]
  },
  {
   "cell_type": "code",
   "execution_count": 12,
   "metadata": {
    "collapsed": false,
    "deletable": true,
    "editable": true
   },
   "outputs": [
    {
     "name": "stdout",
     "output_type": "stream",
     "text": [
      "Theorems may be imported from autogenerated _theorems_.py\n"
     ]
    }
   ],
   "source": [
    "%end theorems"
   ]
  },
  {
   "cell_type": "code",
   "execution_count": 13,
   "metadata": {
    "collapsed": true,
    "deletable": true,
    "editable": true
   },
   "outputs": [],
   "source": []
  }
 ],
 "metadata": {
  "kernelspec": {
   "display_name": "Python 3",
   "language": "python",
   "name": "python3"
  },
  "language_info": {
   "codemirror_mode": {
    "name": "ipython",
    "version": 3
   },
   "file_extension": ".py",
   "mimetype": "text/x-python",
   "name": "python",
   "nbconvert_exporter": "python",
   "pygments_lexer": "ipython3",
   "version": "3.7.0"
  }
 },
 "nbformat": 4,
 "nbformat_minor": 0
}
