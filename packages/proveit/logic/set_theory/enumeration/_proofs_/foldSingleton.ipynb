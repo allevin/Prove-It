{
 "cells": [
  {
   "cell_type": "markdown",
   "metadata": {},
   "source": [
    "Proof of <a class=\"ProveItLink\" href=\"../../../../_context_.ipynb\">proveit</a>.<a class=\"ProveItLink\" href=\"../../../_context_.ipynb\">logic</a>.<a class=\"ProveItLink\" href=\"../../_context_.ipynb\">set_theory</a>.<a class=\"ProveItLink\" href=\"../_context_.ipynb\">enumeration</a>.<a href=\"../_theorems_.ipynb#foldSingleton\" class=\"ProveItLink\">foldSingleton</a> theorem\n",
    "========\n",
    "*** see <a href=\"../__pv_it/d7a9db2d1feeaa5118756db70085b31517897b790/dependencies.ipynb\" class=\"ProveItLink\">dependencies</a> ***"
   ]
  },
  {
   "cell_type": "code",
   "execution_count": 1,
   "metadata": {},
   "outputs": [
    {
     "name": "stdout",
     "output_type": "stream",
     "text": [
      "Beginning proof of foldSingleton\n",
      "Recorded 'presuming' information\n"
     ]
    },
    {
     "name": "stdout",
     "output_type": "stream",
     "text": [
      "Presuming previous theorems (applied transitively).\n"
     ]
    },
    {
     "data": {
      "text/html": [
       "<strong id=\"foldSingleton\">foldSingleton:</strong> <a class=\"ProveItLink\" href=\"../__pv_it/404daaa6d1a27f4b8d6bcbbf71ab2ba1fff4f9c10/expr.ipynb\"><img src=\"data:image/png;base64,iVBORw0KGgoAAAANSUhEUgAAALMAAAAXBAMAAACyt2M4AAAAMFBMVEX///8QEBC6urrMzMxUVFRm\n",
       "ZmZERETc3NwyMjKqqqp2dnaIiIiYmJgiIiLu7u4AAAAU9Wx4AAAAAXRSTlMAQObYZgAAAoJJREFU\n",
       "SMetlT1oFEEUx/+3ex+52816eFUKIYVFmuAFbLTJJYIcaiFiIVqozcXCYgtJ/MBkm0CKKFdo7VqE\n",
       "IEdkwXigKbIKNrG5UsSDtbnCEDgUTGHjm4/9MrviYgZ2Z+a9md+bfR+zwKG1D67oT69LgZcZoTiJ\n",
       "4j3bH021gffU99jkYxb0yWTxdjAqWPTUgRds8jgLOmXx82BUqdKL8PPUlW5kIGvOP6F3gBFydqGd\n",
       "AZ2LRWf3Uf9TIvoroK8vLDzM4o+J6ERd9VJOXaTj/my1PmdBX6Xn/ua919wv817UIcaajSVPoCsX\n",
       "gTPA3IH94+noVULY+pccT63IziuEU4YsUfQhTcsUx+MwrAP7/xLXo4SANixTdsEI16kkP1XooUXj\n",
       "ZZb9dPRRaG4W9HciIi8WKMf6fRFGdYZMeTkHv5if6ctUOrrmjnoZ0ZQmIgPVRlijNXo989Qf1LHY\n",
       "MbRhsfLqzG6SWaUrc0ughZBv7AZJN8ZeS3V+Qxi90GST+1urSl8zh2Bulrznnc1RtuweMafCU3Nh\n",
       "c4WaEyiA27TX3IbGLV0I0RvcycWGTD6dBfApmVZY4IHFSXRDtBTGFMAafbd7Ew/EnTQeq8bLOOEi\n",
       "TD7pt32uP4fzUV/vBxt9BTAJDN5+64jQl5brUfRg67op0SPMqM4+Ta2qIrNqETQT3uIOCRR0EjMa\n",
       "1HIzXugbkUIXbbpiVXDXRE0ZhmgulM1X0Ens1Osp3zPGfHTHlw/eXHuJaRdPulaI5kLZfEX6pfqO\n",
       "SsQu2vK+/rMM3ZKZdxLzOlBQu5OM3nNQ3rrE/zLk5nzMbVDNoj2RXDKBgplJubB32pF/46u4Tiez\n",
       "djI6UPx/axwC4zcvUqxnuHemCwAAAABJRU5ErkJggg==\n",
       "\" style=\"display:inline;vertical-align:middle;\" /></a><br>(see <a class=\"ProveItLink\" href=\"../__pv_it/404daaa6d1a27f4b8d6bcbbf71ab2ba1fff4f9c10/dependencies.ipynb\">dependencies</a>)<br>"
      ],
      "text/plain": [
       "foldSingleton: forall_{x, y | x = y} (x in {y})"
      ]
     },
     "execution_count": 1,
     "metadata": {},
     "output_type": "execute_result"
    }
   ],
   "source": [
    "import proveit\n",
    "%proving foldSingleton presuming []"
   ]
  },
  {
   "cell_type": "code",
   "execution_count": null,
   "metadata": {},
   "outputs": [],
   "source": []
  }
 ],
 "metadata": {
  "kernelspec": {
   "display_name": "Python 3",
   "language": "python",
   "name": "python3"
  }
 },
 "nbformat": 4,
 "nbformat_minor": 0
}
