{
 "cells": [
  {
   "cell_type": "markdown",
   "metadata": {},
   "source": [
    "Proof of <a class=\"ProveItLink\" href=\"../../../../_context_.ipynb\">proveit</a>.<a class=\"ProveItLink\" href=\"../../../_context_.ipynb\">logic</a>.<a class=\"ProveItLink\" href=\"../../_context_.ipynb\">set_theory</a>.<a class=\"ProveItLink\" href=\"../_context_.ipynb\">enumeration</a>.<a class=\"ProveItLink\" href=\"../_theorems_.ipynb#nonmembershipEquiv\">nonmembershipEquiv</a> theorem\n",
    "========"
   ]
  },
  {
   "cell_type": "code",
   "execution_count": 1,
   "metadata": {},
   "outputs": [],
   "source": [
    "import proveit\n",
    "context = proveit.Context('..') # the theorem's context is in the parent directory"
   ]
  },
  {
   "cell_type": "code",
   "execution_count": 2,
   "metadata": {},
   "outputs": [
    {
     "name": "stdout",
     "output_type": "stream",
     "text": [
      "Beginning proof of nonmembershipEquiv\n",
      "Recorded 'presuming' information\n",
      "Presuming previous theorems (applied transitively).\n"
     ]
    },
    {
     "data": {
      "text/html": [
       "<strong id=\"nonmembershipEquiv\">nonmembershipEquiv:</strong> <a class=\"ProveItLink\" href=\"../__pv_it/4704fd143f37194b75dbb105de7373c0545f230d0/expr.ipynb\"><img src=\"data:image/png;base64,iVBORw0KGgoAAAANSUhEUgAAAlYAAAAXCAMAAAD+4PHNAAAAS1BMVEX///8LCwsYGBgoKChbW1sN\n",
       "DQ0JCQkdHR0PDw8WFhYQEBC6urrMzMxUVFRmZmZERETc3NwyMjKqqqp2dnaIiIiYmJgiIiLu7u4A\n",
       "AAAbfmHDAAAAAXRSTlMAQObYZgAABmlJREFUaN7tW4uSpSgMZR+zs6sgIC///0sXkCAoD3G8M7Vb\n",
       "TVVf6NuBnIRDCGgj9N8vs8l/V4v6lCosBENfpV/Mgz5Sc2x+Bl9kXleKzrAYLT6JCU9rIO/8qhGo\n",
       "y9e7Csf9+wxTxAONUCuuZ6QPMXkXjrD9n/QbnUGS1x0x4Pz2Wa4vHBr4RSMQ433N+DP+fYop4oEG\n",
       "1JYfYgUpbkZo9aTfYIGBOwqWfBWL6bO0OsbnLxqByI1YdFbIxjx/Fu9OXA8TPzd45AejoJSiEVo9\n",
       "6Te41cq8ru6B6BfRSon3jGB3OHpWyJexZboUoT3HFPFAI9SOH8DZZR2i1ZN+Y2UyeV1KDCXX//yt\n",
       "+a+hlZleMeJ2sDorxFSPhKuz+PSjwerAA41QO34owXzRaIxWD/qN5ZM8r0uO4sogysrTLvjkD4T6\n",
       "BwCWxkhoS9cXjAhT3tV7VUhmOZLWnsR7kO5ginigsdeeHxt1ZeT85Ls96DeWGou8RkxIwla5RN8w\n",
       "ateb4eVoIhY0bZZx6/Y8hS+OkdBKLKNGXGyAacFdvReFzvKBJXMW70G6gynigcZee34Q352yUVqN\n",
       "9xvLBFReG+sGpRWaom+86suC3U9qNhyzzblh2R7nfuUx1OHWlSdak0JqRlxsCN3++JZ2q2Nf0zUk\n",
       "1FjmchKvQRrBFPFAY689P2aCYNEbspnbtEr6fSS1mvNahMuDFRaRoaXjDN7lsURic9j0Jq8B/WYy\n",
       "ko5xuObIfOdp0IiLDcXAUMeeKdR3M/2yeAdSC1P0RcQDjb3e+eEUyp27s85zl8Wd3uW0mAKt0n4f\n",
       "KNuc1w4CSdkxT1rr73/ZD55cxUzRG5ObFLNtGOGFPEywjjES11CIQXgbNOJiQ7CE1PVm2FOF+3Uh\n",
       "uXuXdRFvQ2piir6IeKCx1zs/HDXCISHskUYui3sCoigS9g/ClKJV2u8n0MpbJs+3eeK8C8zAK+xj\n",
       "9rynAuszWqVjxDziyCaHaXWxIcQ/1tCbYk8V7p7vXmlWxduQ2pjAF01a2Y0M1O3rUNKZGWNxKMvx\n",
       "pUqrpN8nNsE1r10MdyslPm4yGpVyVsIhB3IBeY/cT2mVjgEhKsmtkj1p0UmhDSNyG3y33387d6th\n",
       "TxSuS2X6y+UqXoN0BxP4orkJ2twXrigcIZGKyYPCK2ayRquknz1NzBIi7EzcgjZTf39sSVKV14rt\n",
       "z2VkBEMUmq9nMaHBDd4Bm8imJnZuNI5WOsbGLidB1c1sTkZcbSgzo4w9Uwid1uWORQXxJqQOJvBF\n",
       "xAMNxRN+rAvsld5lB3aFLaUUrtEq9rMCdn8O/LdRhG8OhsNNWptkIom5QuXDdKhXK0QtPCaT7nMh\n",
       "tYBpZ251yW2P9TA1Zus3klYyBp6eXDDkRhRsKGYxZeyZwiOPv6AuWFQQb0LqYDp80bhgSDZX6bRj\n",
       "kdLKHhUEqdAq9puPuGj1r8wdQomlNBZTK0YnkqeDR3J6CLWhUhghsiMC49/qtLLTMWm67WeWSKsp\n",
       "LDQzUVRpHELpGJJeacW7V+O5ESUbyttYCXum8LgBhxuWlkUF8SakDqboi4gHGnsN/FCBN9QfaLW/\n",
       "53RtRyumjK7RSh1/2BIgcrNxa/Lu1+2t/5C8ntWBkQ1mqj8Jz06CybTPjnFwy3JMzXwnFwGhZAwq\n",
       "L7S69fCma8RaCHkV7InChNB3HvuUxBt+7WCi8oSn8PAmcwLG7vIqi1Z2PFmjVXpdZH/itm0pbTZy\n",
       "g1ZRsvDA+vT8sti9MHqYdn8bvN/gZVNz60IkCKVjeNfktBI3Hp30jSicpWvYxauvIDX82sEEvoh4\n",
       "oBHqEz/Mhtz3hGW0svo7tLLHSsH9zRrz0ZNsjtcy0sp/y9zFZfqRSZZs7L5TUnx5Qk0hDgrENFxH\n",
       "PqNVMkZwDUretzKvvBhTCgwV7G9fPVf92sEEvjBnTxhe5gfx10CGhq9nvrcIatPKbtDrIh35sM/T\n",
       "Gdd88qfWnVb+W+yInn5kkqWn5Yzk9dVUVTwHyHhODuuBCb6FZ1631rtMz9phDBJuyDDMdrL6WqVn\n",
       "RPHir4ydvPycrOrXHqbgi4gHGlCLyr4sQm5Vc7vWuLHQzcIgtYJNUPUktSmIwPGEVaDQWnT/1Ls6\n",
       "6bvs8ub9dseI+28SS/y2NTW/zmN4oBFqy47XX4/GzMVLZXc2NzSWk59izHqSi/z614Ov0sxKGKc8\n",
       "D9jqtuRX+V+UfwFplJINb5DlSgAAAABJRU5ErkJggg==\n",
       "\" style=\"display:inline;vertical-align:middle;\" /></a><br>(see <a class=\"ProveItLink\" href=\"../__pv_it/4704fd143f37194b75dbb105de7373c0545f230d0/dependencies.ipynb\">dependencies</a>)<br>"
      ],
      "text/plain": [
       "nonmembershipEquiv: forall_{l in Naturals} [forall_{x, y_1,...,y_l} ((x not-in {y_1 ,  ...  , y_l}) = ((x != y_1) and  ...  and (x != y_l)))]"
      ]
     },
     "execution_count": 2,
     "metadata": {},
     "output_type": "execute_result"
    }
   ],
   "source": [
    "%proving nonmembershipEquiv presuming []"
   ]
  },
  {
   "cell_type": "code",
   "execution_count": null,
   "metadata": {},
   "outputs": [],
   "source": []
  }
 ],
 "metadata": {
  "kernelspec": {
   "display_name": "Python 3",
   "language": "python",
   "name": "python3"
  }
 },
 "nbformat": 4,
 "nbformat_minor": 0
}
