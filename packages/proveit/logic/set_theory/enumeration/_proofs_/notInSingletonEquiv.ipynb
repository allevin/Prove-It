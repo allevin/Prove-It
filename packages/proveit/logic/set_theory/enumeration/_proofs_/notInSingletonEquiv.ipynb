{
 "cells": [
  {
   "cell_type": "markdown",
   "metadata": {},
   "source": [
    "Proof of <a class=\"ProveItLink\" href=\"../../../../_context_.ipynb\">proveit</a>.<a class=\"ProveItLink\" href=\"../../../_context_.ipynb\">logic</a>.<a class=\"ProveItLink\" href=\"../../_context_.ipynb\">set_theory</a>.<a class=\"ProveItLink\" href=\"../_context_.ipynb\">enumeration</a>.<a href=\"../_theorems_.ipynb#notInSingletonEquiv\" class=\"ProveItLink\">notInSingletonEquiv</a> theorem\n",
    "========\n",
    "*** see <a href=\"../__pv_it/e01334021ef9c34218bff021a7505fe298f897910/dependencies.ipynb\" class=\"ProveItLink\">dependencies</a> ***"
   ]
  },
  {
   "cell_type": "code",
   "execution_count": 1,
   "metadata": {},
   "outputs": [
    {
     "name": "stdout",
     "output_type": "stream",
     "text": [
      "Beginning proof of notInSingletonEquiv\n",
      "Recorded 'presuming' information\n"
     ]
    },
    {
     "name": "stdout",
     "output_type": "stream",
     "text": [
      "Presuming previous theorems (applied transitively).\n"
     ]
    },
    {
     "data": {
      "text/html": [
       "<strong id=\"notInSingletonEquiv\">notInSingletonEquiv:</strong> <a class=\"ProveItLink\" href=\"../__pv_it/421ab0f0ce466bdb825cb7c6fe06cf2c4b8723ce0/expr.ipynb\"><img src=\"data:image/png;base64,iVBORw0KGgoAAAANSUhEUgAAAO8AAAAWCAMAAAAfMztaAAAAS1BMVEX///8LCwsYGBgoKChbW1sN\n",
       "DQ0JCQkdHR0PDw8WFhYQEBC6urrMzMxUVFRmZmZERETc3NwyMjKqqqp2dnaIiIiYmJgiIiLu7u4A\n",
       "AAAbfmHDAAAAAXRSTlMAQObYZgAAAzRJREFUWMPVWImO3CAMpXcbwn3l/7+0QHCCOWbIVq1UpN2n\n",
       "yXj94tssIX/t0IA+Ou7w97sxkvzzEz5giMU4Ob5WHbzpJfZNn66gz4inZ+hA0H6iv5/bNdadYXwj\n",
       "dh57jGS4Krg/IZ4eqYaPQXtGo+GxWgw1yL2R5yhoZhvGA56qJ8TTwyZ5oiqUApwj1sy1FuM0nckD\n",
       "e51ZJ34a3lt7RvAa12v2bgHjqCdY5X/99Grd3rCtEz8O76U9ozMyH7/YMxTGUZ0pF4iQT+JLhF4l\n",
       "ntPOExS0ZzxEOt6s2csNRmksk9ryO9mkiIEIamxZMPkP5RGwvYavEveEYFTd9BoeXrGwLCcWZ6Fy\n",
       "CEPU6rwj250eWVNbbNCJDaHH3a7d1bW1qkSrw1rinrDIf/lWy2Me0J6RJpmgyGL5UoSmKNWXc4MY\n",
       "9NK9iO+a8PSiouSegrDSbZG4JxyFt+EB7SemL6xbtPegCJNZDBUO3bz3P77HX+oenNt+bTdbivwB\n",
       "4RclbPuxSNwTFlrWbFE1D2g/Mdnqw8fszZ633VZgmvZDwWCiU0XtR/l4dY1le3vCkilNPSIebG/M\n",
       "ZVhdYi+glu2wvol+DJQV8MLUE/Z6Lw2+G74pJKouZFvy667fKp+5r47oiDvCLP/5UyOPeHA+xw5T\n",
       "RpcJKVeK5mDJIWPlNWXiEDp59gR7e4U5Qrtua8ADuWIFa+eRe9s/5oSj8GIe0F5Q8/I29O6/0Y2B\n",
       "xse2qRXU2mPWOCLiS0tbXw0o26eTlsdXoIdr7X0/j+aEXfX2PBxjVRBH5SgWq4s1tUJ9jUFYE4zB\n",
       "3U6qb3N7419YDiS3vertFekF4SC8mAe0A7pwD474U4+ArX31TWIc7atfmar7c7tfXcn9bJ+cE+px\n",
       "dgAP2ifr1noQo/KIk9lh0VZ6vFy+J6Ump5sj84lWt/aahbvoC8J+uiAe0N6yxBzQPOZLsjwljGZW\n",
       "qOf3wdFNy233ABKm3brCn90HB+GtecIKS7RXyr58kzkMY39xG+wuwZ+KdKwq2m5dhC0ts1PCwfJQ\n",
       "84D2Vyy7zP4ZXkqgN8pJEopJOurZ/6/s0r835oSvex1of8niTh8tXpr+n/MbFN87hOM4RKoAAAAA\n",
       "SUVORK5CYII=\n",
       "\" style=\"display:inline;vertical-align:middle;\" /></a><br>(see <a class=\"ProveItLink\" href=\"../__pv_it/421ab0f0ce466bdb825cb7c6fe06cf2c4b8723ce0/dependencies.ipynb\">dependencies</a>)<br>"
      ],
      "text/plain": [
       "notInSingletonEquiv: forall_{x, y} ((x not-in {y}) = (x != y))"
      ]
     },
     "execution_count": 1,
     "metadata": {},
     "output_type": "execute_result"
    }
   ],
   "source": [
    "import proveit\n",
    "%proving notInSingletonEquiv presuming []"
   ]
  },
  {
   "cell_type": "code",
   "execution_count": null,
   "metadata": {},
   "outputs": [],
   "source": []
  }
 ],
 "metadata": {
  "kernelspec": {
   "display_name": "Python 3",
   "language": "python",
   "name": "python3"
  }
 },
 "nbformat": 4,
 "nbformat_minor": 0
}
