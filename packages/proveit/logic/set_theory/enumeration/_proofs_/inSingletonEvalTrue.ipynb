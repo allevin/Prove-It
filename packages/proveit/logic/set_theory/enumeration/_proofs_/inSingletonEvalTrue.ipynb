{
 "cells": [
  {
   "cell_type": "markdown",
   "metadata": {
    "collapsed": true
   },
   "source": [
    "Proof of <a class=\"ProveItLink\" href=\"../../../../_context_.ipynb\">proveit</a>.<a class=\"ProveItLink\" href=\"../../../_context_.ipynb\">logic</a>.<a class=\"ProveItLink\" href=\"../../_context_.ipynb\">set_theory</a>.<a class=\"ProveItLink\" href=\"../_context_.ipynb\">enumeration</a>.<a href=\"../_theorems_.ipynb#inSingletonEvalTrue\" class=\"ProveItLink\">inSingletonEvalTrue</a> theorem\n",
    "========\n",
    "*** see <a href=\"../__pv_it/d54b0fde8b81d29e5cd335f6b161fc34b2a266ec0/dependencies.ipynb\" class=\"ProveItLink\">dependencies</a> ***"
   ]
  },
  {
   "cell_type": "code",
   "execution_count": 1,
   "metadata": {},
   "outputs": [
    {
     "name": "stdout",
     "output_type": "stream",
     "text": [
      "Beginning proof of inSingletonEvalTrue\n",
      "Recorded 'presuming' information\n",
      "Presuming previous theorems (applied transitively).\n"
     ]
    },
    {
     "data": {
      "text/html": [
       "<strong id=\"inSingletonEvalTrue\">inSingletonEvalTrue:</strong> <a class=\"ProveItLink\" href=\"../__pv_it/41bbf954716012ad73f6728019258134a94840590/expr.ipynb\"><img src=\"../__pv_it/41bbf954716012ad73f6728019258134a94840590/expr.png\" style=\"display:inline;vertical-align:middle;\" /></a><br>(see <a class=\"ProveItLink\" href=\"../__pv_it/41bbf954716012ad73f6728019258134a94840590/dependencies.ipynb\">dependencies</a>)<br>"
      ],
      "text/plain": [
       "inSingletonEvalTrue: forall_{x, y | x = y} ((x in {y}) = TRUE)"
      ]
     },
     "execution_count": 1,
     "metadata": {},
     "output_type": "execute_result"
    }
   ],
   "source": [
    "import proveit\n",
    "from proveit import defaults\n",
    "from proveit._common_ import x, y\n",
    "from proveit.logic import Equals, TRUE\n",
    "from proveit.logic.set_theory.enumeration._theorems_ import singletonDef\n",
    "%proving inSingletonEvalTrue presuming []"
   ]
  },
  {
   "cell_type": "code",
   "execution_count": 2,
   "metadata": {},
   "outputs": [
    {
     "data": {
      "text/html": [
       "<strong id=\"defaults.assumptions\">defaults.assumptions:</strong> <a class=\"ProveItLink\" href=\"../__pv_it/a03679ec046c4e5e53419595255c19bc2af4e71f0/expr.ipynb\"><img src=\"../__pv_it/a03679ec046c4e5e53419595255c19bc2af4e71f0/expr.png\" style=\"display:inline;vertical-align:middle;\" /></a><br>"
      ],
      "text/plain": [
       "defaults.assumptions: (x = y)"
      ]
     },
     "execution_count": 2,
     "metadata": {},
     "output_type": "execute_result"
    }
   ],
   "source": [
    "defaults.assumptions = inSingletonEvalTrue.instanceExpr.conditions"
   ]
  },
  {
   "cell_type": "code",
   "execution_count": 3,
   "metadata": {},
   "outputs": [
    {
     "data": {
      "text/html": [
       "<strong id=\"state1\">state1:</strong> <span style=\"font-size:20px;\"><a class=\"ProveItLink\" href=\"../__pv_it/9a197bc4371c6ab93a5a1f88b6e41cfc99b7e4450/expr.ipynb\"><img src=\"../__pv_it/9a197bc4371c6ab93a5a1f88b6e41cfc99b7e4450/expr.png\" style=\"display:inline;vertical-align:middle;\" /></a> &#x22A2;&nbsp;<a class=\"ProveItLink\" href=\"../__pv_it/db5eff946f92279e971ba2f435626897230034df0/expr.ipynb\"><img src=\"../__pv_it/db5eff946f92279e971ba2f435626897230034df0/expr.png\" style=\"display:inline;vertical-align:middle;\" /></a></span><br>"
      ],
      "text/plain": [
       "state1: {x = y} |= (x = y) = TRUE"
      ]
     },
     "execution_count": 3,
     "metadata": {},
     "output_type": "execute_result"
    }
   ],
   "source": [
    "state1 = Equals(Equals(x,y), TRUE).prove()"
   ]
  },
  {
   "cell_type": "code",
   "execution_count": 4,
   "metadata": {},
   "outputs": [
    {
     "data": {
      "text/html": [
       "<strong id=\"state2\">state2:</strong> <span style=\"font-size:20px;\"> &#x22A2;&nbsp;<a class=\"ProveItLink\" href=\"../__pv_it/7312af8e4de252623d99eea19463efb2769bf9f10/expr.ipynb\"><img src=\"../__pv_it/7312af8e4de252623d99eea19463efb2769bf9f10/expr.png\" style=\"display:inline;vertical-align:middle;\" /></a></span><br>"
      ],
      "text/plain": [
       "state2: |= (x in {y}) = (x = y)"
      ]
     },
     "execution_count": 4,
     "metadata": {},
     "output_type": "execute_result"
    }
   ],
   "source": [
    "state2 = singletonDef.specialize()"
   ]
  },
  {
   "cell_type": "code",
   "execution_count": 5,
   "metadata": {},
   "outputs": [
    {
     "data": {
      "text/html": [
       "<strong id=\"goal\">goal:</strong> <span style=\"font-size:20px;\"><a class=\"ProveItLink\" href=\"../__pv_it/9a197bc4371c6ab93a5a1f88b6e41cfc99b7e4450/expr.ipynb\"><img src=\"../__pv_it/9a197bc4371c6ab93a5a1f88b6e41cfc99b7e4450/expr.png\" style=\"display:inline;vertical-align:middle;\" /></a> &#x22A2;&nbsp;<a class=\"ProveItLink\" href=\"../__pv_it/af1bae78ec31b76e9b871a10ad7237c4fddb13b90/expr.ipynb\"><img src=\"../__pv_it/af1bae78ec31b76e9b871a10ad7237c4fddb13b90/expr.png\" style=\"display:inline;vertical-align:middle;\" /></a></span><br>"
      ],
      "text/plain": [
       "goal: {x = y} |= (x in {y}) = TRUE"
      ]
     },
     "execution_count": 5,
     "metadata": {},
     "output_type": "execute_result"
    }
   ],
   "source": [
    "goal = state2.subLeftSideInto(state1)"
   ]
  },
  {
   "cell_type": "code",
   "execution_count": 6,
   "metadata": {},
   "outputs": [
    {
     "name": "stdout",
     "output_type": "stream",
     "text": [
      "inSingletonEvalTrue has been proven.  Now simply execute \"%qed\".\n"
     ]
    },
    {
     "data": {
      "text/html": [
       "<span style=\"font-size:20px;\"> &#x22A2;&nbsp;<a class=\"ProveItLink\" href=\"../__pv_it/41bbf954716012ad73f6728019258134a94840590/expr.ipynb\"><img src=\"../__pv_it/41bbf954716012ad73f6728019258134a94840590/expr.png\" style=\"display:inline;vertical-align:middle;\" /></a></span>"
      ],
      "text/plain": [
       "|= forall_{x, y | x = y} ((x in {y}) = TRUE)"
      ]
     },
     "execution_count": 6,
     "metadata": {},
     "output_type": "execute_result"
    }
   ],
   "source": [
    "goal.generalize([x,y],  conditions = inSingletonEvalTrue.instanceExpr.conditions)"
   ]
  },
  {
   "cell_type": "code",
   "execution_count": 7,
   "metadata": {},
   "outputs": [
    {
     "data": {
      "text/html": [
       "<table><tr><th>&nbsp;</th><th>step type</th><th>requirements</th><th>statement</th></tr>\n",
       "<tr><td>0</td><td>generalizaton</td><td>1</td><td><span style=\"font-size:20px;\"> &#x22A2;&nbsp;<a class=\"ProveItLink\" href=\"../__pv_it/41bbf954716012ad73f6728019258134a94840590/expr.ipynb\"><img src=\"../__pv_it/41bbf954716012ad73f6728019258134a94840590/expr.png\" style=\"display:inline;vertical-align:middle;\" /></a></span></td></tr>\n",
       "<tr><td>1</td><td>specialization</td><td>2, 3, 4</td><td><span style=\"font-size:20px;\"><a class=\"ProveItLink\" href=\"../__pv_it/9a197bc4371c6ab93a5a1f88b6e41cfc99b7e4450/expr.ipynb\"><img src=\"../__pv_it/9a197bc4371c6ab93a5a1f88b6e41cfc99b7e4450/expr.png\" style=\"display:inline;vertical-align:middle;\" /></a> &#x22A2;&nbsp;<a class=\"ProveItLink\" href=\"../__pv_it/af1bae78ec31b76e9b871a10ad7237c4fddb13b90/expr.ipynb\"><img src=\"../__pv_it/af1bae78ec31b76e9b871a10ad7237c4fddb13b90/expr.png\" style=\"display:inline;vertical-align:middle;\" /></a></span></td></tr>\n",
       "<tr><td>&nbsp;</td><td colspan=4 style=\"text-align:left\"><span style=\"font-size:20px;\"><a class=\"ProveItLink\" href=\"../__pv_it/5b4ee7e0d05a6fadacd1dd051c11ca5fc51443e90/expr.ipynb\"><img src=\"../__pv_it/5b4ee7e0d05a6fadacd1dd051c11ca5fc51443e90/expr.png\" style=\"display:inline;vertical-align:middle;\" /></a>, <a class=\"ProveItLink\" href=\"../__pv_it/dbdeea6deee9c3eb018a7b7a3b4736d9ca8dbf440/expr.ipynb\"><img src=\"../__pv_it/dbdeea6deee9c3eb018a7b7a3b4736d9ca8dbf440/expr.png\" style=\"display:inline;vertical-align:middle;\" /></a>, <a class=\"ProveItLink\" href=\"../__pv_it/3b160a0b45110d44f661a37c0c776967deed5bf30/expr.ipynb\"><img src=\"../__pv_it/3b160a0b45110d44f661a37c0c776967deed5bf30/expr.png\" style=\"display:inline;vertical-align:middle;\" /></a></span></td></tr><tr><td>2</td><td>theorem</td><td></td><td><span style=\"font-size:20px;\"> &#x22A2;&nbsp;<a class=\"ProveItLink\" href=\"../../../equality/__pv_it/0ff28639b67648f982114c9abc0eb1af3cbddacb0/expr.ipynb\"><img src=\"../../../equality/__pv_it/0ff28639b67648f982114c9abc0eb1af3cbddacb0/expr.png\" style=\"display:inline;vertical-align:middle;\" /></a></span></td></tr>\n",
       "<tr><td>&nbsp;</td><td colspan=4 style-\"text-align:left\"><a class=\"ProveItLink\" href=\"../../../equality/_proofs_/subLeftSideInto.ipynb\">proveit.logic.equality.subLeftSideInto</a></td></tr><tr><td>3</td><td>specialization</td><td>5, 6</td><td><span style=\"font-size:20px;\"><a class=\"ProveItLink\" href=\"../__pv_it/9a197bc4371c6ab93a5a1f88b6e41cfc99b7e4450/expr.ipynb\"><img src=\"../__pv_it/9a197bc4371c6ab93a5a1f88b6e41cfc99b7e4450/expr.png\" style=\"display:inline;vertical-align:middle;\" /></a> &#x22A2;&nbsp;<a class=\"ProveItLink\" href=\"../__pv_it/db5eff946f92279e971ba2f435626897230034df0/expr.ipynb\"><img src=\"../__pv_it/db5eff946f92279e971ba2f435626897230034df0/expr.png\" style=\"display:inline;vertical-align:middle;\" /></a></span></td></tr>\n",
       "<tr><td>&nbsp;</td><td colspan=4 style=\"text-align:left\"><span style=\"font-size:20px;\"><a class=\"ProveItLink\" href=\"../__pv_it/dfa7224155aad017f1dd5a7198ae3e8eee17b1bf0/expr.ipynb\"><img src=\"../__pv_it/dfa7224155aad017f1dd5a7198ae3e8eee17b1bf0/expr.png\" style=\"display:inline;vertical-align:middle;\" /></a></span></td></tr><tr><td>4</td><td>specialization</td><td>7</td><td><span style=\"font-size:20px;\"> &#x22A2;&nbsp;<a class=\"ProveItLink\" href=\"../__pv_it/7312af8e4de252623d99eea19463efb2769bf9f10/expr.ipynb\"><img src=\"../__pv_it/7312af8e4de252623d99eea19463efb2769bf9f10/expr.png\" style=\"display:inline;vertical-align:middle;\" /></a></span></td></tr>\n",
       "<tr><td>&nbsp;</td><td colspan=4 style=\"text-align:left\"><span style=\"font-size:20px;\"><a class=\"ProveItLink\" href=\"../__pv_it/472989cad0ac90b12a4aabad5483bda5ebaf34e30/expr.ipynb\"><img src=\"../__pv_it/472989cad0ac90b12a4aabad5483bda5ebaf34e30/expr.png\" style=\"display:inline;vertical-align:middle;\" /></a>, <a class=\"ProveItLink\" href=\"../__pv_it/ed91a3f400c316f34ff1d1c304dd0f9b219363bd0/expr.ipynb\"><img src=\"../__pv_it/ed91a3f400c316f34ff1d1c304dd0f9b219363bd0/expr.png\" style=\"display:inline;vertical-align:middle;\" /></a></span></td></tr><tr><td>5</td><td>axiom</td><td></td><td><span style=\"font-size:20px;\"> &#x22A2;&nbsp;<a class=\"ProveItLink\" href=\"../../../boolean/__pv_it/04576f2f89fdf94b2e1520e8f4ab361286daf7f30/expr.ipynb\"><img src=\"../../../boolean/__pv_it/04576f2f89fdf94b2e1520e8f4ab361286daf7f30/expr.png\" style=\"display:inline;vertical-align:middle;\" /></a></span></td></tr>\n",
       "<tr><td>&nbsp;</td><td colspan=4 style-\"text-align:left\"><a class=\"ProveItLink\" href=\"../../../boolean/_axioms_.ipynb#eqTrueIntro\">proveit.logic.boolean.eqTrueIntro</a></td></tr><tr><td>6</td><td>assumption</td><td></td><td><span style=\"font-size:20px;\"><a class=\"ProveItLink\" href=\"../__pv_it/9a197bc4371c6ab93a5a1f88b6e41cfc99b7e4450/expr.ipynb\"><img src=\"../__pv_it/9a197bc4371c6ab93a5a1f88b6e41cfc99b7e4450/expr.png\" style=\"display:inline;vertical-align:middle;\" /></a> &#x22A2;&nbsp;<a class=\"ProveItLink\" href=\"../__pv_it/74ae967be5bd1c096ad29ed9e31ac59a533f07b30/expr.ipynb\"><img src=\"../__pv_it/74ae967be5bd1c096ad29ed9e31ac59a533f07b30/expr.png\" style=\"display:inline;vertical-align:middle;\" /></a></span></td></tr>\n",
       "<tr><td>7</td><td>theorem</td><td></td><td><span style=\"font-size:20px;\"> &#x22A2;&nbsp;<a class=\"ProveItLink\" href=\"../__pv_it/0757ca7a1e2afb098357ada617cb72c2ce83de3c0/expr.ipynb\"><img src=\"../__pv_it/0757ca7a1e2afb098357ada617cb72c2ce83de3c0/expr.png\" style=\"display:inline;vertical-align:middle;\" /></a></span></td></tr>\n",
       "<tr><td>&nbsp;</td><td colspan=4 style-\"text-align:left\"><a class=\"ProveItLink\" href=\"singletonDef.ipynb\">proveit.logic.set_theory.enumeration.singletonDef</a></td></tr></table>"
      ],
      "text/plain": [
       "\tstep type\trequirements\tstatement\n",
       "0\tgeneralizaton\t1\t|= forall_{x, y | x = y} ((x in {y}) = TRUE)\n",
       "1\tspecialization\t2, 3, 4\t{x = y} |= (x in {y}) = TRUE\n",
       "\t{P -> [_x_ -> (_x_ = TRUE)]}, {x -> (x in {y})}, {y -> (x = y)}\n",
       "2\ttheorem\t\t|= forall_{P, x, y | P(y) , x = y} P(x)\n",
       "\tproveit.logic.equality.subLeftSideInto\n",
       "3\tspecialization\t5, 6\t{x = y} |= (x = y) = TRUE\n",
       "\tA -> (x = y)\n",
       "4\tspecialization\t7\t|= (x in {y}) = (x = y)\n",
       "\t{x -> x}, {y -> y}\n",
       "5\taxiom\t\t|= forall_{A | A} (A = TRUE)\n",
       "\tproveit.logic.boolean.eqTrueIntro\n",
       "6\tassumption\t\t{x = y} |= x = y\n",
       "7\ttheorem\t\t|= forall_{x, y} ((x in {y}) = (x = y))\n",
       "\tproveit.logic.set_theory.enumeration.singletonDef"
      ]
     },
     "execution_count": 7,
     "metadata": {},
     "output_type": "execute_result"
    }
   ],
   "source": [
    "%qed"
   ]
  }
 ],
 "metadata": {
  "kernelspec": {
   "display_name": "Python 3",
   "language": "python",
   "name": "python3"
  },
  "language_info": {
   "codemirror_mode": {
    "name": "ipython",
    "version": 3
   },
   "file_extension": ".py",
   "mimetype": "text/x-python",
   "name": "python",
   "nbconvert_exporter": "python",
   "pygments_lexer": "ipython3",
   "version": "3.7.1"
  }
 },
 "nbformat": 4,
 "nbformat_minor": 1
}
