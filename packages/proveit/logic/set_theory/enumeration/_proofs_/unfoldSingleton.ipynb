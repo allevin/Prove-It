{
 "cells": [
  {
   "cell_type": "markdown",
   "metadata": {},
   "source": [
    "Proof of <a class=\"ProveItLink\" href=\"../../../../_context_.ipynb\">proveit</a>.<a class=\"ProveItLink\" href=\"../../../_context_.ipynb\">logic</a>.<a class=\"ProveItLink\" href=\"../../_context_.ipynb\">set_theory</a>.<a class=\"ProveItLink\" href=\"../_context_.ipynb\">enumeration</a>.<a href=\"../_theorems_.ipynb#unfoldSingleton\" class=\"ProveItLink\">unfoldSingleton</a> theorem\n",
    "========\n",
    "*** see <a href=\"../__pv_it/388ccdf8814b17c34471b9f6668be0ca49d21e5f0/dependencies.ipynb\" class=\"ProveItLink\">dependencies</a> ***"
   ]
  },
  {
   "cell_type": "code",
   "execution_count": 1,
   "metadata": {},
   "outputs": [
    {
     "name": "stdout",
     "output_type": "stream",
     "text": [
      "Beginning proof of unfoldSingleton\n",
      "Recorded 'presuming' information\n"
     ]
    },
    {
     "name": "stdout",
     "output_type": "stream",
     "text": [
      "Presuming previous theorems (applied transitively).\n"
     ]
    },
    {
     "data": {
      "text/html": [
       "<strong id=\"unfoldSingleton\">unfoldSingleton:</strong> <a class=\"ProveItLink\" href=\"../__pv_it/d0667f5ae2be119b57eabf63801a79c2081644b60/expr.ipynb\"><img src=\"data:image/png;base64,iVBORw0KGgoAAAANSUhEUgAAALAAAAAXBAMAAABZgNg7AAAAMFBMVEX///8QEBC6urrMzMxUVFRm\n",
       "ZmZERETc3NwyMjKqqqp2dnaIiIiYmJgiIiLu7u4AAAAU9Wx4AAAAAXRSTlMAQObYZgAAAmtJREFU\n",
       "OMu1lU1o02AYx/9NumRNu7Q4RESUCh6KQ+zAe8sGKyjCQAqyORgiHdpLvGyCOIJ48CAy0MFgl1z8\n",
       "rJQKW0EnmosoitDTDgOhuwzZQAqCXsbwed806Zo0USI+0L5vnn/z65vnK8D/smboO4f8pUQaaLDN\n",
       "5xBcMR8gXgCesfV+CHB/0LP2A7O0yNMhwGtBYsLgf9y3EAJ8LEhUU0g8mZu7FYIr6IHyVeBnqbQR\n",
       "AtxnUAgrheVJl397AvIe8AgYBWY8x3E75BfWetJ00kO7bXwxj7KLi3eZ3WFb4zTiLWAJOAHV81SS\n",
       "23Fda2+KtidCpWrgHR64inBhChLVwnFgAHEzCLxTvMQPYJmzSaZZc415soYjSNaAHAg70AwAxy/P\n",
       "f/cDgyhui+0hl+VgVT9D15WRFboU6og0HbCyMjSK9zbP0hxwhJWo/IOOSDb1ldk6T6qOl+ChwMwI\n",
       "MZpj7Jc7SW24c+JqdPowdBtsaQ5Yovh9oDS9dffcOK7Q8pE+iw1WBveYd/4U6h1wmjIvGnx71tY2\n",
       "7Swq44jtSim55i7DvLALXm6IcO1XG3BuX4yTGsT1UqmMTN7WhIN2RTaglqvP33iyV15lqNusr1lU\n",
       "xZTI3AcwuA88jKxqzbAJW3NOjEN+raM0eEtbllN0BTc0DAotByy2nlKlFpxi4FrGuf9Tb+x5bFKy\n",
       "FDtCW68mq8iZeFjXHbBaXnzdxFbaBnNt6U9jcwPX6Ptbt9OUtWjN3SCPKcaMZ2kdsNx70C+vspMU\n",
       "uttRk4xM75YmnqV1wLjpP6Hi2e7pjNia4TsrLK34b2/YqGe6VdovUPNvEb8BxyuY2fZL6h4AAAAA\n",
       "SUVORK5CYII=\n",
       "\" style=\"display:inline;vertical-align:middle;\" /></a><br>(see <a class=\"ProveItLink\" href=\"../__pv_it/d0667f5ae2be119b57eabf63801a79c2081644b60/dependencies.ipynb\">dependencies</a>)<br>"
      ],
      "text/plain": [
       "unfoldSingleton: forall_{x, y | x in {y}} (x = y)"
      ]
     },
     "execution_count": 1,
     "metadata": {},
     "output_type": "execute_result"
    }
   ],
   "source": [
    "import proveit\n",
    "%proving unfoldSingleton presuming []"
   ]
  },
  {
   "cell_type": "code",
   "execution_count": null,
   "metadata": {},
   "outputs": [],
   "source": []
  }
 ],
 "metadata": {
  "kernelspec": {
   "display_name": "Python 3",
   "language": "python",
   "name": "python3"
  }
 },
 "nbformat": 4,
 "nbformat_minor": 0
}
