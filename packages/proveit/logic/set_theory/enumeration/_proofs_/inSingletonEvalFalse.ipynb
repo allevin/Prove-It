{
 "cells": [
  {
   "cell_type": "markdown",
   "metadata": {
    "collapsed": true
   },
   "source": [
    "Proof of <a class=\"ProveItLink\" href=\"../../../../_context_.ipynb\">proveit</a>.<a class=\"ProveItLink\" href=\"../../../_context_.ipynb\">logic</a>.<a class=\"ProveItLink\" href=\"../../_context_.ipynb\">set_theory</a>.<a class=\"ProveItLink\" href=\"../_context_.ipynb\">enumeration</a>.<a href=\"../_theorems_.ipynb#inSingletonEvalFalse\" class=\"ProveItLink\">inSingletonEvalFalse</a> theorem\n",
    "========\n",
    "*** see <a href=\"../__pv_it/374d5ac709d899cb895d67c9e0faf41792c5dfa70/dependencies.ipynb\" class=\"ProveItLink\">dependencies</a> ***"
   ]
  },
  {
   "cell_type": "code",
   "execution_count": 1,
   "metadata": {},
   "outputs": [
    {
     "name": "stdout",
     "output_type": "stream",
     "text": [
      "Beginning proof of inSingletonEvalFalse\n"
     ]
    },
    {
     "name": "stdout",
     "output_type": "stream",
     "text": [
      "Recorded 'presuming' information\n"
     ]
    },
    {
     "name": "stdout",
     "output_type": "stream",
     "text": [
      "Presuming proveit.logic.equality.subRightSideInto theorem (applied transitively).\n",
      "Presuming previous theorems (applied transitively).\n"
     ]
    },
    {
     "data": {
      "text/html": [
       "<strong id=\"inSingletonEvalFalse\">inSingletonEvalFalse:</strong> <a class=\"ProveItLink\" href=\"../__pv_it/9e44564bde093384d9495afd3be01e67fb49e3da0/expr.ipynb\"><img src=\"../__pv_it/9e44564bde093384d9495afd3be01e67fb49e3da0/expr.png\" style=\"display:inline;vertical-align:middle;\" /></a><br>(see <a class=\"ProveItLink\" href=\"../__pv_it/9e44564bde093384d9495afd3be01e67fb49e3da0/dependencies.ipynb\">dependencies</a>)<br>"
      ],
      "text/plain": [
       "inSingletonEvalFalse: forall_{x, y | x != y} ((x in {y}) = FALSE)"
      ]
     },
     "execution_count": 1,
     "metadata": {},
     "output_type": "execute_result"
    }
   ],
   "source": [
    "import proveit\n",
    "from proveit import defaults\n",
    "from proveit._common_ import x, y\n",
    "from proveit.logic import NotEquals, Not, Equals, TRUE, FALSE, InSet, NotInSet, Set\n",
    "from proveit.logic.equality._axioms_ import notEqualsDef\n",
    "from proveit.logic.equality._theorems_ import subRightSideInto\n",
    "from proveit.logic.set_theory.enumeration._theorems_ import notInSingletonEquiv, inSingletonEvalTrue, singletonDef\n",
    "%proving inSingletonEvalFalse presuming [subRightSideInto]"
   ]
  },
  {
   "cell_type": "code",
   "execution_count": 2,
   "metadata": {},
   "outputs": [
    {
     "data": {
      "text/html": [
       "<strong id=\"defaults.assumptions\">defaults.assumptions:</strong> <a class=\"ProveItLink\" href=\"../__pv_it/b2d8b596f5c19b7f720f89424cf5a5ea4734c7740/expr.ipynb\"><img src=\"../__pv_it/b2d8b596f5c19b7f720f89424cf5a5ea4734c7740/expr.png\" style=\"display:inline;vertical-align:middle;\" /></a><br>"
      ],
      "text/plain": [
       "defaults.assumptions: (x != y)"
      ]
     },
     "execution_count": 2,
     "metadata": {},
     "output_type": "execute_result"
    }
   ],
   "source": [
    "defaults.assumptions = inSingletonEvalFalse.instanceExpr.conditions"
   ]
  },
  {
   "cell_type": "code",
   "execution_count": 3,
   "metadata": {},
   "outputs": [
    {
     "data": {
      "text/html": [
       "<strong id=\"step1\">step1:</strong> <span style=\"font-size:20px;\"> &#x22A2;&nbsp;<a class=\"ProveItLink\" href=\"../__pv_it/9642c5e8558de38c8d048cec4a9e6fc6b7d303250/expr.ipynb\"><img src=\"../__pv_it/9642c5e8558de38c8d048cec4a9e6fc6b7d303250/expr.png\" style=\"display:inline;vertical-align:middle;\" /></a></span><br>"
      ],
      "text/plain": [
       "step1: |= (x != y) = [not](x = y)"
      ]
     },
     "execution_count": 3,
     "metadata": {},
     "output_type": "execute_result"
    }
   ],
   "source": [
    "step1 = notEqualsDef.specialize()"
   ]
  },
  {
   "cell_type": "code",
   "execution_count": 4,
   "metadata": {},
   "outputs": [
    {
     "data": {
      "text/html": [
       "<strong id=\"state1\">state1:</strong> <span style=\"font-size:20px;\"><a class=\"ProveItLink\" href=\"../__pv_it/bdff9b0cb43d6ccad5096b9a3547299c166343f50/expr.ipynb\"><img src=\"../__pv_it/bdff9b0cb43d6ccad5096b9a3547299c166343f50/expr.png\" style=\"display:inline;vertical-align:middle;\" /></a> &#x22A2;&nbsp;<a class=\"ProveItLink\" href=\"../__pv_it/8a07d5de407be527fdc855a883cc0b8df05e38320/expr.ipynb\"><img src=\"../__pv_it/8a07d5de407be527fdc855a883cc0b8df05e38320/expr.png\" style=\"display:inline;vertical-align:middle;\" /></a></span><br>"
      ],
      "text/plain": [
       "state1: {x != y} |= (x != y) = TRUE"
      ]
     },
     "execution_count": 4,
     "metadata": {},
     "output_type": "execute_result"
    }
   ],
   "source": [
    "state1 = Equals(NotEquals(x,y), TRUE).prove()"
   ]
  },
  {
   "cell_type": "code",
   "execution_count": 5,
   "metadata": {},
   "outputs": [
    {
     "data": {
      "text/html": [
       "<span style=\"font-size:20px;\"><a class=\"ProveItLink\" href=\"../__pv_it/bdff9b0cb43d6ccad5096b9a3547299c166343f50/expr.ipynb\"><img src=\"../__pv_it/bdff9b0cb43d6ccad5096b9a3547299c166343f50/expr.png\" style=\"display:inline;vertical-align:middle;\" /></a> &#x22A2;&nbsp;<a class=\"ProveItLink\" href=\"../__pv_it/8e0a78b40d0902cfb2555a3693940f70e84da7de0/expr.ipynb\"><img src=\"../__pv_it/8e0a78b40d0902cfb2555a3693940f70e84da7de0/expr.png\" style=\"display:inline;vertical-align:middle;\" /></a></span>"
      ],
      "text/plain": [
       "{x != y} |= [not](x = y) = TRUE"
      ]
     },
     "execution_count": 5,
     "metadata": {},
     "output_type": "execute_result"
    }
   ],
   "source": [
    "step1.subRightSideInto(state1)"
   ]
  },
  {
   "cell_type": "code",
   "execution_count": 6,
   "metadata": {},
   "outputs": [
    {
     "data": {
      "text/html": [
       "<strong id=\"state2\">state2:</strong> <span style=\"font-size:20px;\"><a class=\"ProveItLink\" href=\"../__pv_it/bdff9b0cb43d6ccad5096b9a3547299c166343f50/expr.ipynb\"><img src=\"../__pv_it/bdff9b0cb43d6ccad5096b9a3547299c166343f50/expr.png\" style=\"display:inline;vertical-align:middle;\" /></a> &#x22A2;&nbsp;<a class=\"ProveItLink\" href=\"../__pv_it/baf94d196db5edef6e19215eea8dac9ec45793ef0/expr.ipynb\"><img src=\"../__pv_it/baf94d196db5edef6e19215eea8dac9ec45793ef0/expr.png\" style=\"display:inline;vertical-align:middle;\" /></a></span><br>"
      ],
      "text/plain": [
       "state2: {x != y} |= (x = y) = FALSE"
      ]
     },
     "execution_count": 6,
     "metadata": {},
     "output_type": "execute_result"
    }
   ],
   "source": [
    "state2 = Equals(Equals(x,y), FALSE).prove()"
   ]
  },
  {
   "cell_type": "code",
   "execution_count": 7,
   "metadata": {},
   "outputs": [
    {
     "data": {
      "text/html": [
       "<strong id=\"state3\">state3:</strong> <span style=\"font-size:20px;\"> &#x22A2;&nbsp;<a class=\"ProveItLink\" href=\"../__pv_it/7312af8e4de252623d99eea19463efb2769bf9f10/expr.ipynb\"><img src=\"../__pv_it/7312af8e4de252623d99eea19463efb2769bf9f10/expr.png\" style=\"display:inline;vertical-align:middle;\" /></a></span><br>"
      ],
      "text/plain": [
       "state3: |= (x in {y}) = (x = y)"
      ]
     },
     "execution_count": 7,
     "metadata": {},
     "output_type": "execute_result"
    }
   ],
   "source": [
    "state3 = singletonDef.specialize()"
   ]
  },
  {
   "cell_type": "code",
   "execution_count": 8,
   "metadata": {},
   "outputs": [
    {
     "data": {
      "text/html": [
       "<strong id=\"goal\">goal:</strong> <span style=\"font-size:20px;\"><a class=\"ProveItLink\" href=\"../__pv_it/bdff9b0cb43d6ccad5096b9a3547299c166343f50/expr.ipynb\"><img src=\"../__pv_it/bdff9b0cb43d6ccad5096b9a3547299c166343f50/expr.png\" style=\"display:inline;vertical-align:middle;\" /></a> &#x22A2;&nbsp;<a class=\"ProveItLink\" href=\"../__pv_it/d7bcff064a993abed55a8ed33d25c181b93d1dcb0/expr.ipynb\"><img src=\"../__pv_it/d7bcff064a993abed55a8ed33d25c181b93d1dcb0/expr.png\" style=\"display:inline;vertical-align:middle;\" /></a></span><br>"
      ],
      "text/plain": [
       "goal: {x != y} |= (x in {y}) = FALSE"
      ]
     },
     "execution_count": 8,
     "metadata": {},
     "output_type": "execute_result"
    }
   ],
   "source": [
    "goal = state3.subLeftSideInto(state2)"
   ]
  },
  {
   "cell_type": "code",
   "execution_count": 9,
   "metadata": {},
   "outputs": [
    {
     "name": "stdout",
     "output_type": "stream",
     "text": [
      "inSingletonEvalFalse has been proven.  Now simply execute \"%qed\".\n"
     ]
    },
    {
     "data": {
      "text/html": [
       "<span style=\"font-size:20px;\"> &#x22A2;&nbsp;<a class=\"ProveItLink\" href=\"../__pv_it/9e44564bde093384d9495afd3be01e67fb49e3da0/expr.ipynb\"><img src=\"../__pv_it/9e44564bde093384d9495afd3be01e67fb49e3da0/expr.png\" style=\"display:inline;vertical-align:middle;\" /></a></span>"
      ],
      "text/plain": [
       "|= forall_{x, y | x != y} ((x in {y}) = FALSE)"
      ]
     },
     "execution_count": 9,
     "metadata": {},
     "output_type": "execute_result"
    }
   ],
   "source": [
    "goal.generalize([x,y], conditions = inSingletonEvalFalse.instanceExpr.conditions)"
   ]
  },
  {
   "cell_type": "code",
   "execution_count": 10,
   "metadata": {},
   "outputs": [
    {
     "data": {
      "text/html": [
       "<table><tr><th>&nbsp;</th><th>step type</th><th>requirements</th><th>statement</th></tr>\n",
       "<tr><td>0</td><td>generalizaton</td><td>1</td><td><span style=\"font-size:20px;\"> &#x22A2;&nbsp;<a class=\"ProveItLink\" href=\"../__pv_it/9e44564bde093384d9495afd3be01e67fb49e3da0/expr.ipynb\"><img src=\"../__pv_it/9e44564bde093384d9495afd3be01e67fb49e3da0/expr.png\" style=\"display:inline;vertical-align:middle;\" /></a></span></td></tr>\n",
       "<tr><td>1</td><td>specialization</td><td>2, 3, 4</td><td><span style=\"font-size:20px;\"><a class=\"ProveItLink\" href=\"../__pv_it/bdff9b0cb43d6ccad5096b9a3547299c166343f50/expr.ipynb\"><img src=\"../__pv_it/bdff9b0cb43d6ccad5096b9a3547299c166343f50/expr.png\" style=\"display:inline;vertical-align:middle;\" /></a> &#x22A2;&nbsp;<a class=\"ProveItLink\" href=\"../__pv_it/d7bcff064a993abed55a8ed33d25c181b93d1dcb0/expr.ipynb\"><img src=\"../__pv_it/d7bcff064a993abed55a8ed33d25c181b93d1dcb0/expr.png\" style=\"display:inline;vertical-align:middle;\" /></a></span></td></tr>\n",
       "<tr><td>&nbsp;</td><td colspan=4 style=\"text-align:left\"><span style=\"font-size:20px;\"><a class=\"ProveItLink\" href=\"../__pv_it/bc54d3e7698455ca1548c87e60f847568b93f5a20/expr.ipynb\"><img src=\"../__pv_it/bc54d3e7698455ca1548c87e60f847568b93f5a20/expr.png\" style=\"display:inline;vertical-align:middle;\" /></a>, <a class=\"ProveItLink\" href=\"../__pv_it/dbdeea6deee9c3eb018a7b7a3b4736d9ca8dbf440/expr.ipynb\"><img src=\"../__pv_it/dbdeea6deee9c3eb018a7b7a3b4736d9ca8dbf440/expr.png\" style=\"display:inline;vertical-align:middle;\" /></a>, <a class=\"ProveItLink\" href=\"../__pv_it/3b160a0b45110d44f661a37c0c776967deed5bf30/expr.ipynb\"><img src=\"../__pv_it/3b160a0b45110d44f661a37c0c776967deed5bf30/expr.png\" style=\"display:inline;vertical-align:middle;\" /></a></span></td></tr><tr><td>2</td><td>theorem</td><td></td><td><span style=\"font-size:20px;\"> &#x22A2;&nbsp;<a class=\"ProveItLink\" href=\"../../../equality/__pv_it/0ff28639b67648f982114c9abc0eb1af3cbddacb0/expr.ipynb\"><img src=\"../../../equality/__pv_it/0ff28639b67648f982114c9abc0eb1af3cbddacb0/expr.png\" style=\"display:inline;vertical-align:middle;\" /></a></span></td></tr>\n",
       "<tr><td>&nbsp;</td><td colspan=4 style-\"text-align:left\"><a class=\"ProveItLink\" href=\"../../../equality/_proofs_/subLeftSideInto.ipynb\">proveit.logic.equality.subLeftSideInto</a></td></tr><tr><td>3</td><td>specialization</td><td>5, 6</td><td><span style=\"font-size:20px;\"><a class=\"ProveItLink\" href=\"../__pv_it/bdff9b0cb43d6ccad5096b9a3547299c166343f50/expr.ipynb\"><img src=\"../__pv_it/bdff9b0cb43d6ccad5096b9a3547299c166343f50/expr.png\" style=\"display:inline;vertical-align:middle;\" /></a> &#x22A2;&nbsp;<a class=\"ProveItLink\" href=\"../__pv_it/baf94d196db5edef6e19215eea8dac9ec45793ef0/expr.ipynb\"><img src=\"../__pv_it/baf94d196db5edef6e19215eea8dac9ec45793ef0/expr.png\" style=\"display:inline;vertical-align:middle;\" /></a></span></td></tr>\n",
       "<tr><td>&nbsp;</td><td colspan=4 style=\"text-align:left\"><span style=\"font-size:20px;\"><a class=\"ProveItLink\" href=\"../__pv_it/dfa7224155aad017f1dd5a7198ae3e8eee17b1bf0/expr.ipynb\"><img src=\"../__pv_it/dfa7224155aad017f1dd5a7198ae3e8eee17b1bf0/expr.png\" style=\"display:inline;vertical-align:middle;\" /></a></span></td></tr><tr><td>4</td><td>specialization</td><td>7</td><td><span style=\"font-size:20px;\"> &#x22A2;&nbsp;<a class=\"ProveItLink\" href=\"../__pv_it/7312af8e4de252623d99eea19463efb2769bf9f10/expr.ipynb\"><img src=\"../__pv_it/7312af8e4de252623d99eea19463efb2769bf9f10/expr.png\" style=\"display:inline;vertical-align:middle;\" /></a></span></td></tr>\n",
       "<tr><td>&nbsp;</td><td colspan=4 style=\"text-align:left\"><span style=\"font-size:20px;\"><a class=\"ProveItLink\" href=\"../__pv_it/472989cad0ac90b12a4aabad5483bda5ebaf34e30/expr.ipynb\"><img src=\"../__pv_it/472989cad0ac90b12a4aabad5483bda5ebaf34e30/expr.png\" style=\"display:inline;vertical-align:middle;\" /></a>, <a class=\"ProveItLink\" href=\"../__pv_it/ed91a3f400c316f34ff1d1c304dd0f9b219363bd0/expr.ipynb\"><img src=\"../__pv_it/ed91a3f400c316f34ff1d1c304dd0f9b219363bd0/expr.png\" style=\"display:inline;vertical-align:middle;\" /></a></span></td></tr><tr><td>5</td><td>axiom</td><td></td><td><span style=\"font-size:20px;\"> &#x22A2;&nbsp;<a class=\"ProveItLink\" href=\"../../../boolean/negation/__pv_it/ff54988b43a873b48cad467afd8955bd0735c0210/expr.ipynb\"><img src=\"../../../boolean/negation/__pv_it/ff54988b43a873b48cad467afd8955bd0735c0210/expr.png\" style=\"display:inline;vertical-align:middle;\" /></a></span></td></tr>\n",
       "<tr><td>&nbsp;</td><td colspan=4 style-\"text-align:left\"><a class=\"ProveItLink\" href=\"../../../boolean/negation/_axioms_.ipynb#negationElim\">proveit.logic.boolean.negation.negationElim</a></td></tr><tr><td>6</td><td>specialization</td><td>8, 9</td><td><span style=\"font-size:20px;\"><a class=\"ProveItLink\" href=\"../__pv_it/bdff9b0cb43d6ccad5096b9a3547299c166343f50/expr.ipynb\"><img src=\"../__pv_it/bdff9b0cb43d6ccad5096b9a3547299c166343f50/expr.png\" style=\"display:inline;vertical-align:middle;\" /></a> &#x22A2;&nbsp;<a class=\"ProveItLink\" href=\"../__pv_it/1cb4be877cabe516dd0f063dd291fedf878fab150/expr.ipynb\"><img src=\"../__pv_it/1cb4be877cabe516dd0f063dd291fedf878fab150/expr.png\" style=\"display:inline;vertical-align:middle;\" /></a></span></td></tr>\n",
       "<tr><td>&nbsp;</td><td colspan=4 style=\"text-align:left\"><span style=\"font-size:20px;\"><a class=\"ProveItLink\" href=\"../__pv_it/472989cad0ac90b12a4aabad5483bda5ebaf34e30/expr.ipynb\"><img src=\"../__pv_it/472989cad0ac90b12a4aabad5483bda5ebaf34e30/expr.png\" style=\"display:inline;vertical-align:middle;\" /></a>, <a class=\"ProveItLink\" href=\"../__pv_it/ed91a3f400c316f34ff1d1c304dd0f9b219363bd0/expr.ipynb\"><img src=\"../__pv_it/ed91a3f400c316f34ff1d1c304dd0f9b219363bd0/expr.png\" style=\"display:inline;vertical-align:middle;\" /></a></span></td></tr><tr><td>7</td><td>theorem</td><td></td><td><span style=\"font-size:20px;\"> &#x22A2;&nbsp;<a class=\"ProveItLink\" href=\"../__pv_it/0757ca7a1e2afb098357ada617cb72c2ce83de3c0/expr.ipynb\"><img src=\"../__pv_it/0757ca7a1e2afb098357ada617cb72c2ce83de3c0/expr.png\" style=\"display:inline;vertical-align:middle;\" /></a></span></td></tr>\n",
       "<tr><td>&nbsp;</td><td colspan=4 style-\"text-align:left\"><a class=\"ProveItLink\" href=\"singletonDef.ipynb\">proveit.logic.set_theory.enumeration.singletonDef</a></td></tr><tr><td>8</td><td>theorem</td><td></td><td><span style=\"font-size:20px;\"> &#x22A2;&nbsp;<a class=\"ProveItLink\" href=\"../../../equality/__pv_it/bcabcb85241bffa03b17eb193708721b3448e0000/expr.ipynb\"><img src=\"../../../equality/__pv_it/bcabcb85241bffa03b17eb193708721b3448e0000/expr.png\" style=\"display:inline;vertical-align:middle;\" /></a></span></td></tr>\n",
       "<tr><td>&nbsp;</td><td colspan=4 style-\"text-align:left\"><a class=\"ProveItLink\" href=\"../../../equality/_proofs_/unfoldNotEquals.ipynb\">proveit.logic.equality.unfoldNotEquals</a></td></tr><tr><td>9</td><td>assumption</td><td></td><td><span style=\"font-size:20px;\"><a class=\"ProveItLink\" href=\"../__pv_it/bdff9b0cb43d6ccad5096b9a3547299c166343f50/expr.ipynb\"><img src=\"../__pv_it/bdff9b0cb43d6ccad5096b9a3547299c166343f50/expr.png\" style=\"display:inline;vertical-align:middle;\" /></a> &#x22A2;&nbsp;<a class=\"ProveItLink\" href=\"../__pv_it/387ba6edc1f0b498632d204de8894b3f332f4e4a0/expr.ipynb\"><img src=\"../__pv_it/387ba6edc1f0b498632d204de8894b3f332f4e4a0/expr.png\" style=\"display:inline;vertical-align:middle;\" /></a></span></td></tr>\n",
       "</table>"
      ],
      "text/plain": [
       "\tstep type\trequirements\tstatement\n",
       "0\tgeneralizaton\t1\t|= forall_{x, y | x != y} ((x in {y}) = FALSE)\n",
       "1\tspecialization\t2, 3, 4\t{x != y} |= (x in {y}) = FALSE\n",
       "\t{P -> [_x_ -> (_x_ = FALSE)]}, {x -> (x in {y})}, {y -> (x = y)}\n",
       "2\ttheorem\t\t|= forall_{P, x, y | P(y) , x = y} P(x)\n",
       "\tproveit.logic.equality.subLeftSideInto\n",
       "3\tspecialization\t5, 6\t{x != y} |= (x = y) = FALSE\n",
       "\tA -> (x = y)\n",
       "4\tspecialization\t7\t|= (x in {y}) = (x = y)\n",
       "\t{x -> x}, {y -> y}\n",
       "5\taxiom\t\t|= forall_{A | [not](A)} (A = FALSE)\n",
       "\tproveit.logic.boolean.negation.negationElim\n",
       "6\tspecialization\t8, 9\t{x != y} |= [not](x = y)\n",
       "\t{x -> x}, {y -> y}\n",
       "7\ttheorem\t\t|= forall_{x, y} ((x in {y}) = (x = y))\n",
       "\tproveit.logic.set_theory.enumeration.singletonDef\n",
       "8\ttheorem\t\t|= forall_{x, y | x != y} [not](x = y)\n",
       "\tproveit.logic.equality.unfoldNotEquals\n",
       "9\tassumption\t\t{x != y} |= x != y"
      ]
     },
     "execution_count": 10,
     "metadata": {},
     "output_type": "execute_result"
    }
   ],
   "source": [
    "%qed"
   ]
  }
 ],
 "metadata": {
  "kernelspec": {
   "display_name": "Python 3",
   "language": "python",
   "name": "python3"
  },
  "language_info": {
   "codemirror_mode": {
    "name": "ipython",
    "version": 3
   },
   "file_extension": ".py",
   "mimetype": "text/x-python",
   "name": "python",
   "nbconvert_exporter": "python",
   "pygments_lexer": "ipython3",
   "version": "3.7.1"
  }
 },
 "nbformat": 4,
 "nbformat_minor": 1
}
