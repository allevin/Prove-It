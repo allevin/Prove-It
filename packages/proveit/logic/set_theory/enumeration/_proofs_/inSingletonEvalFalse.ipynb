{
 "cells": [
  {
   "cell_type": "markdown",
   "metadata": {},
   "source": [
    "Proof of <a class=\"ProveItLink\" href=\"../../../../_context_.ipynb\">proveit</a>.<a class=\"ProveItLink\" href=\"../../../_context_.ipynb\">logic</a>.<a class=\"ProveItLink\" href=\"../../_context_.ipynb\">set_theory</a>.<a class=\"ProveItLink\" href=\"../_context_.ipynb\">enumeration</a>.<a href=\"../_theorems_.ipynb#inSingletonEvalFalse\" class=\"ProveItLink\">inSingletonEvalFalse</a> theorem\n",
    "========\n",
    "*** see <a href=\"../__pv_it/374d5ac709d899cb895d67c9e0faf41792c5dfa70/dependencies.ipynb\" class=\"ProveItLink\">dependencies</a> ***"
   ]
  },
  {
   "cell_type": "code",
   "execution_count": 1,
   "metadata": {},
   "outputs": [
    {
     "name": "stdout",
     "output_type": "stream",
     "text": [
      "Beginning proof of inSingletonEvalFalse\n",
      "Recorded 'presuming' information\n"
     ]
    },
    {
     "name": "stdout",
     "output_type": "stream",
     "text": [
      "Presuming proveit.logic.equality.subRightSideInto theorem (applied transitively).\n",
      "Presuming previous theorems (applied transitively).\n"
     ]
    },
    {
     "data": {
      "text/html": [
       "<strong id=\"inSingletonEvalFalse\">inSingletonEvalFalse:</strong> <a class=\"ProveItLink\" href=\"../__pv_it/cee10c06f4ef232a503a0ce0a2d30fe4a610033c0/expr.ipynb\"><img src=\"data:image/png;base64,iVBORw0KGgoAAAANSUhEUgAAAO8AAAAXCAMAAADUb+j/AAAAOVBMVEX///8oKCgUFBQJCQkQEBC6\n",
       "urrMzMxUVFRmZmZERETc3NwyMjKqqqp2dnaIiIiYmJgiIiLu7u4AAACP9cC6AAAAAXRSTlMAQObY\n",
       "ZgAAAupJREFUWMPVWImO2yAQdbvcN/z/xxYwGAZjr0maqosUjYzmwTyYi2zbfzwss+CbaC3eXdP/\n",
       "C8OxgfKZZU6f5ghS+0ngF04vY1z7Np+iSyiUz4YJk0kmiyQPVxGNVcZoVT/lx666rry2g0Z3k/Lp\n",
       "WbPOjsSf14Pgn6JrDJR/ha/V63wzph46U5/iizyUs1g10sUhn/P1aJ1vxlgt8nAfS1YSyplR0vrF\n",
       "+924Wua7YwJPw+lP8WUaSqENFcqw5t2C+2tqXmegCB7y1Wydb8bQnOr4g8p2VwT8JV5aIH203jq7\n",
       "oeZQ871LKtYbDi1b2yNpK9lpdoPe8M0YnDT8k3x3l9GuCwTCQOpivDoAfrou2fWJ2lg6GV6UZLUf\n",
       "o/X73TFpOWPf4yuuS2vAQCa3pGAljFwZsivZiFR1lDw/VPfnxU9IWOe7YxJX59/jexMOA9981WbW\n",
       "jgzBUwhvKkUuCeXryDOv842+XLeMqQQbSmr3x2EV6fkCzQ3rOSKTU1Cm3EP6TtbPSwOVXRyb4r0t\n",
       "fjt/Zq4b/Ft/jpdDS2z55GrFMG+2IGIYTe/30KQ5SXzFn5kgMsoCacWee0w7FToNJu26iOV0rEdW\n",
       "rt9vwSjmjgQsj72Fx3Ha8ClfoFmj/4zoC8cuVbAbR6CvjReMb0oti1RxsCPfl+sRjKfQBSKNXkrN\n",
       "Vfw2zZZgR0Q+GtdLz432WsP8KOQkvVdqEWFY3azxld89kYqXo87LK6Z1N8kZSV9JELngWzR59OTf\n",
       "v2T25zNiX0ZAORuKyrt+svr2ej8JeoQBE9OXlrlCCplsi5bjMM3PTRPWohEBWnu71sIVatQlQ9XI\n",
       "V7/weh0x0XMUi+6W+Nh86IbLKd+mmaZ9d00Q8c570KKjAHE9vn+9fOF67zCRrxBDMM7rr2rXdkLA\n",
       "ZkQsvfe9yyupGL14aLriLi/8sXOHISKfKnzTzPl2KifE8CeDWHNCq9XF/1eGrNO9xdj9ZPX3/ZXt\n",
       "bDohfvagP5/CH+EDIVfyVW8WAAAAAElFTkSuQmCC\n",
       "\" style=\"display:inline;vertical-align:middle;\" /></a><br>(see <a class=\"ProveItLink\" href=\"../__pv_it/cee10c06f4ef232a503a0ce0a2d30fe4a610033c0/dependencies.ipynb\">dependencies</a>)<br>"
      ],
      "text/plain": [
       "inSingletonEvalFalse: forall_{x, y | x != y} ((x in {y}) = FALSE)"
      ]
     },
     "execution_count": 1,
     "metadata": {},
     "output_type": "execute_result"
    }
   ],
   "source": [
    "import proveit\n",
    "from proveit import defaults\n",
    "from proveit._common_ import x, y\n",
    "from proveit.logic import NotEquals, Not, Equals, TRUE, FALSE, InSet, NotInSet, Set\n",
    "from proveit.logic.equality._axioms_ import notEqualsDef\n",
    "from proveit.logic.equality._theorems_ import subRightSideInto\n",
    "from proveit.logic.set_theory.enumeration._theorems_ import notInSingletonEquiv, inSingletonEvalTrue, singletonDef\n",
    "%proving inSingletonEvalFalse presuming [subRightSideInto]"
   ]
  },
  {
   "cell_type": "code",
   "execution_count": 2,
   "metadata": {},
   "outputs": [
    {
     "data": {
      "text/html": [
       "<strong id=\"defaults.assumptions\">defaults.assumptions:</strong> <a class=\"ProveItLink\" href=\"../__pv_it/80aab29b33bd13bf249cf4a192c170b6d928ce6c0/expr.ipynb\"><img src=\"data:image/png;base64,iVBORw0KGgoAAAANSUhEUgAAAD8AAAAVCAMAAADGtsa9AAAAPFBMVEX///8LCwsYGBgNDQ0oKCjc\n",
       "3NwiIiJERESqqqqYmJh2dnZmZmYQEBDu7u4yMjJUVFTMzMyIiIi6uroAAACIMCsmAAAAAXRSTlMA\n",
       "QObYZgAAAS9JREFUOMulVNdyxCAMVAq9Cv7/XyMJ7JvLYZy56AHGgmW1Kgb4vzW8ueDVyuva2Gu5\n",
       "gau89ocqW043+NIuDuRdxDfpSYGnJb5NDylS8vINvJrrM2Mh+Bmlx6Ishhc1pj5RegGoLlH7ANlN\n",
       "P8nRDqI+s5vFvr94PUvkoXVOWpcvmyG26R9OW7f0lQJmBjNEtQh94DmcslDanpuDrkVW2IfM2g88\n",
       "W1xUMv9uPcvKa68HPtqzzuI8qxk02eeHFntEFrheGOGI34z8OTVygmlPDzmw/KnKZS6BROXA0KMK\n",
       "d+qFn1ytu1mNAE0Klgz65D26G/VyE0Of/kzJi+qyvWy4mGf96N8xBGvTr6NRNMNmzj1u53dFr4nN\n",
       "TMY0RkeVv9ODJfVHx5SpXF38Adp+MJHb5Qc6sww6JdlphwAAAABJRU5ErkJggg==\n",
       "\" style=\"display:inline;vertical-align:middle;\" /></a><br>"
      ],
      "text/plain": [
       "defaults.assumptions: (x != y)"
      ]
     },
     "execution_count": 2,
     "metadata": {},
     "output_type": "execute_result"
    }
   ],
   "source": [
    "defaults.assumptions = inSingletonEvalFalse.instanceExpr.conditions"
   ]
  },
  {
   "cell_type": "code",
   "execution_count": 3,
   "metadata": {},
   "outputs": [
    {
     "data": {
      "text/html": [
       "<strong id=\"step1\">step1:</strong> <span style=\"font-size:20px;\"> <a class=\"ProveItLink\" href=\"../__pv_it/27c1679161664f4d01732fe576a83cfeb91edd550/proof.ipynb\" style=\"text-decoration: none\">&#x22A2;&nbsp;</a><a class=\"ProveItLink\" href=\"../__pv_it/02e3fe137e78703463dcda5008146fd665f723300/expr.ipynb\"><img src=\"data:image/png;base64,iVBORw0KGgoAAAANSUhEUgAAAL4AAAAVCAMAAADPcaSCAAAAPFBMVEX///8LCwsYGBgNDQ0oKCjc\n",
       "3NwiIiJERESqqqqYmJh2dnZmZmYQEBDu7u4yMjJUVFTMzMyIiIi6uroAAACIMCsmAAAAAXRSTlMA\n",
       "QObYZgAAAgpJREFUSMfVltdy7CAMhkmhGmPK+79rqLbXloD1OZOZ6GL/iUX0edUWQv68edf3Kwo9\n",
       "lf4fo4+wiDVuU7v1z1MDP1/sDA2NPsKi1rhVzdo/vmFpNjMwNPoI2wl5VueeJT+WT41RaHTnHjd7\n",
       "42bVT5NPVj1GodH14+Tv3KR+0AKW4z4uhnNr3nXMWONGXWolqHIbFW651pS/DOiq8nkacu7UMhwz\n",
       "NXBg2GvCQW5UI6s/9hKTRLMW32T7/kqf+5JQxIfUuCH/JY4U1uPFjp1SowPjh2CRQDA3qvbVX5zC\n",
       "9pJvY7USiJeO8sPmr9EXtpt6cWDYawfD3KihxElF2e5t7l+XczylU5lDqbUNo9cPHtn2feytd2Bu\n",
       "1BNA3xvQXH9wReo+G+x/en0EezeQG1Xv24NmZ9tnud6fH6Xi/NTjqdxH8cj5eLPjuBbI62NYLBDI\n",
       "jcrLDEla5sKt3eQTk4ae13eQw+3HJfL6XSw06hA3allCIkjC43eirtP5OQvxkQ9yX1wDu5+wZweM\n",
       "BRctxI3q88pauVOrUk72Oz8fdEuoz83w0ulZ1wFjweGFuEk1RccFSa5ib1wa6LuOTinZ/dLQuXix\n",
       "e0NuLP1XHTs1sTLQ6DP3vQG3KHZzhZKffnV4Ba+/eGGGuFXpNp18ImIHtobfpsqPRccdYCoBblNk\n",
       "7gdz6ewcGd0q9NmNv3Gz/gCOxhz3DzxHggAAAABJRU5ErkJggg==\n",
       "\" style=\"display:inline;vertical-align:middle;\" /></a></span><br>"
      ],
      "text/plain": [
       "step1: |- (x != y) = [not](x = y)"
      ]
     },
     "execution_count": 3,
     "metadata": {},
     "output_type": "execute_result"
    }
   ],
   "source": [
    "step1 = notEqualsDef.specialize()"
   ]
  },
  {
   "cell_type": "code",
   "execution_count": 4,
   "metadata": {},
   "outputs": [
    {
     "data": {
      "text/html": [
       "<strong id=\"state1\">state1:</strong> <span style=\"font-size:20px;\"><a class=\"ProveItLink\" href=\"../__pv_it/d90514e8f27b408b4a0e96a799bee9b6d03269220/expr.ipynb\"><img src=\"data:image/png;base64,iVBORw0KGgoAAAANSUhEUgAAAEUAAAAVCAMAAAAn3dPsAAAAPFBMVEX///8LCwsYGBgNDQ0oKChE\n",
       "RETc3NyqqqpUVFS6urrMzMwyMjIQEBCIiIh2dnYiIiLu7u5mZmaYmJgAAADt+DP7AAAAAXRSTlMA\n",
       "QObYZgAAASJJREFUOMudVNl2xSAItL11jSDi//9rNdHY7LE8eFRwHAdEiGIcWfzHHKJqcwr4GN+j\n",
       "dzhe1xmkRxA1XXli86B/RDH2kqR/jXJNZQTlmsoAipPiPYpCMEpDhH2kdH9XhLHkVCXaoFSZKfs4\n",
       "sPCh6z/bz6eMZr1d2NQzy6ml3Fbv4tLulorTIpZ7ZH3mFMum8TWoEDQnClizWeYwX96c2sPlVArf\n",
       "+n6XhyPKtC9bXRRxqZ5qhW/WalCzi1ZdQrbvrzCb3JYrVFWbLgIXOVktigHdU1mUkOY00zqxkHmm\n",
       "4E6VmUvesolPUUgCEiLwgypzJMSkBmpXx4uSDSM/INDxU2UAWtvKepj9EJWSWomH/kIBBqgInVWx\n",
       "vdf1786oz1Hsu777CzvKDW1gBvfbAAAAAElFTkSuQmCC\n",
       "\" style=\"display:inline;vertical-align:middle;\" /></a> <a class=\"ProveItLink\" href=\"../__pv_it/b0d29fbd2061a286311567bd1a3dadf97e182d320/proof.ipynb\" style=\"text-decoration: none\">&#x22A2;&nbsp;</a><a class=\"ProveItLink\" href=\"../__pv_it/695fa1f0a67906e03ca682ee6e4d9b3b85fca7080/expr.ipynb\"><img src=\"data:image/png;base64,iVBORw0KGgoAAAANSUhEUgAAAGwAAAAVCAMAAACUlfv2AAAAPFBMVEX///8LCwsYGBgNDQ0oKCjc\n",
       "3NwiIiJERESqqqqYmJh2dnZmZmYQEBDu7u4yMjJUVFTMzMyIiIi6uroAAACIMCsmAAAAAXRSTlMA\n",
       "QObYZgAAAVxJREFUSMe9VcmWhCAMZJawb4H//9cBhNZuRYTDcOhnx0ClqkIk5J9XwEGChKuoCAtY\n",
       "3g0SwF7HlR+erehhsRSwZrDD9SjYp3RUe0JcJJaElLNgepkYMXoSLIy08Kz/jvE5MNWkAIkOOKpP\n",
       "VdlbGxhZNkAsekg1B2ZFOyV5QAXRtFVhy/r9yb+vhpUkxGx0LP/4LktN35brgOnQTtmO4P6OmOep\n",
       "m3N00zboOWaxgmVZ3Nme8F5kytJZ57iJ7eMaWGF5vgX2c3jw7JaPfglM7w0F5QhzvPzfX/vlb95k\n",
       "vat8BxlPs+IKjNUGEbC5juaWGLF5I6viCjvHrHYvj4KwVCfgjWOFQQqFKN42P7/UW6sbhtJIieLe\n",
       "sZKIKta4fTb4/Wusaegm8U7hks6Nq0fTlJ7HpqMZozaVxFmw/ifmihhNpbFanrHTWATcc2KEJ8ea\n",
       "UQ4WPtXQUWPgPvpZoD9AjA8O3wZzLwAAAABJRU5ErkJggg==\n",
       "\" style=\"display:inline;vertical-align:middle;\" /></a></span><br>"
      ],
      "text/plain": [
       "state1: {x != y} |- (x != y) = TRUE"
      ]
     },
     "execution_count": 4,
     "metadata": {},
     "output_type": "execute_result"
    }
   ],
   "source": [
    "state1 = Equals(NotEquals(x,y), TRUE).prove()"
   ]
  },
  {
   "cell_type": "code",
   "execution_count": 5,
   "metadata": {},
   "outputs": [
    {
     "data": {
      "text/html": [
       "<span style=\"font-size:20px;\"><a class=\"ProveItLink\" href=\"../__pv_it/d90514e8f27b408b4a0e96a799bee9b6d03269220/expr.ipynb\"><img src=\"data:image/png;base64,iVBORw0KGgoAAAANSUhEUgAAAEUAAAAVCAMAAAAn3dPsAAAAPFBMVEX///8LCwsYGBgNDQ0oKChE\n",
       "RETc3NyqqqpUVFS6urrMzMwyMjIQEBCIiIh2dnYiIiLu7u5mZmaYmJgAAADt+DP7AAAAAXRSTlMA\n",
       "QObYZgAAASJJREFUOMudVNl2xSAItL11jSDi//9rNdHY7LE8eFRwHAdEiGIcWfzHHKJqcwr4GN+j\n",
       "dzhe1xmkRxA1XXli86B/RDH2kqR/jXJNZQTlmsoAipPiPYpCMEpDhH2kdH9XhLHkVCXaoFSZKfs4\n",
       "sPCh6z/bz6eMZr1d2NQzy6ml3Fbv4tLulorTIpZ7ZH3mFMum8TWoEDQnClizWeYwX96c2sPlVArf\n",
       "+n6XhyPKtC9bXRRxqZ5qhW/WalCzi1ZdQrbvrzCb3JYrVFWbLgIXOVktigHdU1mUkOY00zqxkHmm\n",
       "4E6VmUvesolPUUgCEiLwgypzJMSkBmpXx4uSDSM/INDxU2UAWtvKepj9EJWSWomH/kIBBqgInVWx\n",
       "vdf1786oz1Hsu777CzvKDW1gBvfbAAAAAElFTkSuQmCC\n",
       "\" style=\"display:inline;vertical-align:middle;\" /></a> <a class=\"ProveItLink\" href=\"../__pv_it/bf10853b434bc4a7eb7f7d36ae72fd4b6f0be07b0/proof.ipynb\" style=\"text-decoration: none\">&#x22A2;&nbsp;</a><a class=\"ProveItLink\" href=\"../__pv_it/99867ecefa15aec2deede0e319d1ca254ce38e100/expr.ipynb\"><img src=\"data:image/png;base64,iVBORw0KGgoAAAANSUhEUgAAAIwAAAAVBAMAAABmhxuGAAAAMFBMVEX////c3NwiIiJERESqqqqY\n",
       "mJh2dnZmZmYQEBDu7u4yMjJUVFTMzMyIiIi6uroAAAAs73DqAAAAAXRSTlMAQObYZgAAAZFJREFU\n",
       "OMtjYKAS4LuAxHmLWx3rAwjGAU4jsXk24LGvBopRQJESCCgzMKxEEuSagMcYLihGB8dBBC+yn+7i\n",
       "8z1rAgRjNYYD2QGd+IzhbIBgrMa8Qg7tBXgjwwSKsRlThiTADnQyY+5G31o0hdPKGBh/MjCkM0Aw\n",
       "NmOWIgdiAFALQ1BAE4hTtQoEVoOYCe8ZeD8wMHgxQDADO1hq1QYkY/qAouBIA7qEA5gsEhjuM/ig\n",
       "WsfjUMTAbMDA8IIBgrG55h9SkuEHGjOBYTNG2DL0MvADI/Q8AwQTYwwDUA86YPnJcP4AfmNakIzh\n",
       "cAAyGP8ArUdOn0BfL2C4wYDkKUgoKBkgGWOKZAwzMIgDgYF5Ez39FjBYA6koKMbmGngMAl3NVsDA\n",
       "8pW5gfECmkL2DXxfGfBH+CPk5KfAwGmbmXYVI4xtr38EUuugGA0cA2cGASSRRlwJmE0Bd2aAZzg4\n",
       "CMOuZhPDDGDgs12AYOyAiIJCjcEMSM6CYuxAGonNiL3Y8r0OSlAboRg7QIkXWdz5m/cABGMFAOgt\n",
       "bCP8bvkQAAAAAElFTkSuQmCC\n",
       "\" style=\"display:inline;vertical-align:middle;\" /></a></span>"
      ],
      "text/plain": [
       "{x != y} |- [not](x = y) = TRUE"
      ]
     },
     "execution_count": 5,
     "metadata": {},
     "output_type": "execute_result"
    }
   ],
   "source": [
    "step1.subRightSideInto(state1)"
   ]
  },
  {
   "cell_type": "code",
   "execution_count": 6,
   "metadata": {},
   "outputs": [
    {
     "data": {
      "text/html": [
       "<strong id=\"state2\">state2:</strong> <span style=\"font-size:20px;\"><a class=\"ProveItLink\" href=\"../__pv_it/d90514e8f27b408b4a0e96a799bee9b6d03269220/expr.ipynb\"><img src=\"data:image/png;base64,iVBORw0KGgoAAAANSUhEUgAAAEUAAAAVCAMAAAAn3dPsAAAAPFBMVEX///8LCwsYGBgNDQ0oKChE\n",
       "RETc3NyqqqpUVFS6urrMzMwyMjIQEBCIiIh2dnYiIiLu7u5mZmaYmJgAAADt+DP7AAAAAXRSTlMA\n",
       "QObYZgAAASJJREFUOMudVNl2xSAItL11jSDi//9rNdHY7LE8eFRwHAdEiGIcWfzHHKJqcwr4GN+j\n",
       "dzhe1xmkRxA1XXli86B/RDH2kqR/jXJNZQTlmsoAipPiPYpCMEpDhH2kdH9XhLHkVCXaoFSZKfs4\n",
       "sPCh6z/bz6eMZr1d2NQzy6ml3Fbv4tLulorTIpZ7ZH3mFMum8TWoEDQnClizWeYwX96c2sPlVArf\n",
       "+n6XhyPKtC9bXRRxqZ5qhW/WalCzi1ZdQrbvrzCb3JYrVFWbLgIXOVktigHdU1mUkOY00zqxkHmm\n",
       "4E6VmUvesolPUUgCEiLwgypzJMSkBmpXx4uSDSM/INDxU2UAWtvKepj9EJWSWomH/kIBBqgInVWx\n",
       "vdf1786oz1Hsu777CzvKDW1gBvfbAAAAAElFTkSuQmCC\n",
       "\" style=\"display:inline;vertical-align:middle;\" /></a> <a class=\"ProveItLink\" href=\"../__pv_it/6a80302c954f0f710f1da18a104121818352d9510/proof.ipynb\" style=\"text-decoration: none\">&#x22A2;&nbsp;</a><a class=\"ProveItLink\" href=\"../__pv_it/f2dfecf083d5052f67b88c3da5d3953e61d39a8b0/expr.ipynb\"><img src=\"data:image/png;base64,iVBORw0KGgoAAAANSUhEUgAAAGwAAAAVBAMAAABRZRb3AAAAMFBMVEX////c3NwiIiJERESqqqqY\n",
       "mJh2dnZmZmYQEBDu7u4yMjJUVFTMzMyIiIi6uroAAAAs73DqAAAAAXRSTlMAQObYZgAAATZJREFU\n",
       "OMtjYCAT8F3ALReHW+o0HiPZD2ARlAWTK/E5ZQEWseMggvcCPm1huLRxTMCnbQYuba/whhezAw5t\n",
       "ZUDMmLvRtxZVjjM9gUF+AgNbAQ5tS4F4GkNQQBMo4FaBwQYgk43vA8N9BgYWcJhUgYVXI2vrA+IE\n",
       "oAofVCOPsCswGAMjtQGHbf+AeALDZnS5CRwXGP4yMPB8wKONgaEXQ9J/As8fPNpaQATjHwZOkN+U\n",
       "wMAA7B8G3gaYI4vAwsrI2kyBOJD3A8NNNDOXMzADg4Z1AQ7b0oHB9ZW5gRE9sVQzvA9gwB0Bj4Bx\n",
       "ZJuZdhVdcvLdegEGBq4HaMJA92qA3MshgCuFJOFIXGDAmoBVmFuBExRYuTiTHfaMw5TADDSPcwFO\n",
       "bdJYRVnu1oHsxOkDBkY8Ge4OLgkAQItO4e3NCuAAAAAASUVORK5CYII=\n",
       "\" style=\"display:inline;vertical-align:middle;\" /></a></span><br>"
      ],
      "text/plain": [
       "state2: {x != y} |- (x = y) = FALSE"
      ]
     },
     "execution_count": 6,
     "metadata": {},
     "output_type": "execute_result"
    }
   ],
   "source": [
    "state2 = Equals(Equals(x,y), FALSE).prove()"
   ]
  },
  {
   "cell_type": "code",
   "execution_count": 7,
   "metadata": {},
   "outputs": [
    {
     "data": {
      "text/html": [
       "<strong id=\"state3\">state3:</strong> <span style=\"font-size:20px;\"> <a class=\"ProveItLink\" href=\"../__pv_it/372a83d91e35ba0bc4d59f073e567fee67a045850/proof.ipynb\" style=\"text-decoration: none\">&#x22A2;&nbsp;</a><a class=\"ProveItLink\" href=\"../__pv_it/ba0046e87362250c63c09bfeaf1a30de9ab2754e0/expr.ipynb\"><img src=\"data:image/png;base64,iVBORw0KGgoAAAANSUhEUgAAAK8AAAAVBAMAAADC7aNVAAAAMFBMVEX////c3NwiIiJERESqqqqY\n",
       "mJh2dnZmZmYQEBDu7u4yMjJUVFTMzMyIiIi6uroAAAAs73DqAAAAAXRSTlMAQObYZgAAAlxJREFU\n",
       "OMudVc9LFFEc/06zs864P1wwvIQ4TNQhCAoRugT+AYZTh44xiSQdFhahDka1iZdAZUiQLsIiiKgX\n",
       "I7p02kNE4GUvFZGLS6cIor14M+nzfrjuvHlvkR7szpvvfD6fee/7/XzfEBmG80hOPt6n/xvFhi7q\n",
       "Xe5MP40T3dNAfps1OXxP+6jQ7kz7avjVU4j8rlmYw7e0j7LV5LSWQvTHPdIAeKFxJuG7KUSzV34B\n",
       "dxMvXlsPrmiFX6e4L3sJA/4rkbeN2LBie1ytea2XMOCPcRn6fv4rz8hg3K3mzUQ0EgvhbEWtT0Rk\n",
       "ld/ceqq4SXIqtIGbyLnk+ix8PWGFbLFNB3A0M0iGL3Bum40dXruQaJXuhPMMzMPbzCaSA/gybmCu\n",
       "DDOId+3UvC2iD30+jWK+yXZeVVbsAhBBYyIZlhzAj6FHOaFYnA8CUby9RfzFboP+soRhV/m2IjwA\n",
       "4ZjeqsmVHMCP+esbqud/sh1MxvkjXFgTaoWJllJlExzAF9jdSJ1Y2Ty/8zzHcjpHharMsUjFbMDG\n",
       "Rb4WZhPrCNtFjnk44NsWHMDHwCwdUIH74d2px3yeXHtX2s1R3WWjeLfR+N+UuOAAPoPVhzdomEdf\n",
       "tRLmfUJ/QjLYDYHMoV211MaVnAr9IFr5sloOedTarHcLrzSfl+S0v6U2iE/ezYcPPqs5FhzA3VJ3\n",
       "OPM+2dJT5pZ+Yeq6KQF3IuMhlPO9hRPhsu6c0QzJKRuPTQdq5yI7kk3onfXYFBwOv6AV9q4iL81n\n",
       "J02YK6UQlvagFxwOt/QHsjPd/c3b1yCGzYcb4P8AscihcIedxXgAAAAASUVORK5CYII=\n",
       "\" style=\"display:inline;vertical-align:middle;\" /></a></span><br>"
      ],
      "text/plain": [
       "state3: |- (x in {y}) = (x = y)"
      ]
     },
     "execution_count": 7,
     "metadata": {},
     "output_type": "execute_result"
    }
   ],
   "source": [
    "state3 = singletonDef.specialize()"
   ]
  },
  {
   "cell_type": "code",
   "execution_count": 8,
   "metadata": {},
   "outputs": [
    {
     "data": {
      "text/html": [
       "<strong id=\"goal\">goal:</strong> <span style=\"font-size:20px;\"><a class=\"ProveItLink\" href=\"../__pv_it/d90514e8f27b408b4a0e96a799bee9b6d03269220/expr.ipynb\"><img src=\"data:image/png;base64,iVBORw0KGgoAAAANSUhEUgAAAEUAAAAVCAMAAAAn3dPsAAAAPFBMVEX///8LCwsYGBgNDQ0oKChE\n",
       "RETc3NyqqqpUVFS6urrMzMwyMjIQEBCIiIh2dnYiIiLu7u5mZmaYmJgAAADt+DP7AAAAAXRSTlMA\n",
       "QObYZgAAASJJREFUOMudVNl2xSAItL11jSDi//9rNdHY7LE8eFRwHAdEiGIcWfzHHKJqcwr4GN+j\n",
       "dzhe1xmkRxA1XXli86B/RDH2kqR/jXJNZQTlmsoAipPiPYpCMEpDhH2kdH9XhLHkVCXaoFSZKfs4\n",
       "sPCh6z/bz6eMZr1d2NQzy6ml3Fbv4tLulorTIpZ7ZH3mFMum8TWoEDQnClizWeYwX96c2sPlVArf\n",
       "+n6XhyPKtC9bXRRxqZ5qhW/WalCzi1ZdQrbvrzCb3JYrVFWbLgIXOVktigHdU1mUkOY00zqxkHmm\n",
       "4E6VmUvesolPUUgCEiLwgypzJMSkBmpXx4uSDSM/INDxU2UAWtvKepj9EJWSWomH/kIBBqgInVWx\n",
       "vdf1786oz1Hsu777CzvKDW1gBvfbAAAAAElFTkSuQmCC\n",
       "\" style=\"display:inline;vertical-align:middle;\" /></a> <a class=\"ProveItLink\" href=\"../__pv_it/557a6e3203ee629a7d5de530a2ec7091620724480/proof.ipynb\" style=\"text-decoration: none\">&#x22A2;&nbsp;</a><a class=\"ProveItLink\" href=\"../__pv_it/92489220ab99427d44f7ba59ff9c266edca1a0730/expr.ipynb\"><img src=\"data:image/png;base64,iVBORw0KGgoAAAANSUhEUgAAAH4AAAAVBAMAAAByPkciAAAAMFBMVEX////c3NwiIiJERESqqqqY\n",
       "mJh2dnZmZmYQEBDu7u4yMjJUVFTMzMyIiIi6uroAAAAs73DqAAAAAXRSTlMAQObYZgAAAatJREFU\n",
       "OMtjYMAFwgMg9LFEBryA7wJW4UkJMNYJBwaGONz6T2MXvg9nsS8A4gNYlMiCyZXY9WfAWWwNQGIB\n",
       "FiXHQQTvBaL0h+HSzzEBWWjuIiUtrPpn4NL/ClmEZ+kEHPYzO+DQXwbEYrdFroO9ITwB2f2c6QkM\n",
       "8hMg+tkKcOhfClSXwKrKoQDiGCIkq4B6+D6AooH1A5DLAg7AqlUgsBpZfx9QHQPvBxZQBHEaIHwC\n",
       "FD/CrsBgDGQvB6WSBhz2/wNqY+CGaORrUlKChB/PDqB5EzguMPwF+R3oRp4PuPUDIwESiTwbEKmy\n",
       "B0j4T+D5A6TUGPDobwER8gcYQCHHqYCQ3AUOA94GqP8h7i9SAgFlZP2mQAUC9xl4wSG/FaE/Cexx\n",
       "5g3Q+GNdgMP+dKAzAyygaXnSA5T0V83wPoCBQPw9YmCYfG1aLiSzMi4/gKx/8t16Aah+rgdomoFe\n",
       "0QB5hUMAWZRlF2r6TcKXfsGANQFn/uFW4GyB6c/Fmf9x5N8IBgamBOYEaP7nXIBTvzR24UkXGFju\n",
       "1oHLH6DXuQVw6mfEUQCEOSCVf3dw6QYAxwNt3+67TkIAAAAASUVORK5CYII=\n",
       "\" style=\"display:inline;vertical-align:middle;\" /></a></span><br>"
      ],
      "text/plain": [
       "goal: {x != y} |- (x in {y}) = FALSE"
      ]
     },
     "execution_count": 8,
     "metadata": {},
     "output_type": "execute_result"
    }
   ],
   "source": [
    "goal = state3.subLeftSideInto(state2)"
   ]
  },
  {
   "cell_type": "code",
   "execution_count": 9,
   "metadata": {},
   "outputs": [
    {
     "name": "stdout",
     "output_type": "stream",
     "text": [
      "inSingletonEvalFalse has been proven.  Now simply execute \"%qed\".\n"
     ]
    },
    {
     "data": {
      "text/html": [
       "<span style=\"font-size:20px;\"> <a class=\"ProveItLink\" href=\"../__pv_it/25c378ad388baa2ec4ea68c9f82ca17946eb42e50/proof.ipynb\" style=\"text-decoration: none\">&#x22A2;&nbsp;</a><a class=\"ProveItLink\" href=\"../__pv_it/cee10c06f4ef232a503a0ce0a2d30fe4a610033c0/expr.ipynb\"><img src=\"data:image/png;base64,iVBORw0KGgoAAAANSUhEUgAAAO8AAAAXCAMAAADUb+j/AAAAOVBMVEX///8oKCgUFBQJCQkQEBC6\n",
       "urrMzMxUVFRmZmZERETc3NwyMjKqqqp2dnaIiIiYmJgiIiLu7u4AAACP9cC6AAAAAXRSTlMAQObY\n",
       "ZgAAAupJREFUWMPVWImO2yAQdbvcN/z/xxYwGAZjr0maqosUjYzmwTyYi2zbfzwss+CbaC3eXdP/\n",
       "C8OxgfKZZU6f5ghS+0ngF04vY1z7Np+iSyiUz4YJk0kmiyQPVxGNVcZoVT/lx666rry2g0Z3k/Lp\n",
       "WbPOjsSf14Pgn6JrDJR/ha/V63wzph46U5/iizyUs1g10sUhn/P1aJ1vxlgt8nAfS1YSyplR0vrF\n",
       "+924Wua7YwJPw+lP8WUaSqENFcqw5t2C+2tqXmegCB7y1Wydb8bQnOr4g8p2VwT8JV5aIH203jq7\n",
       "oeZQ871LKtYbDi1b2yNpK9lpdoPe8M0YnDT8k3x3l9GuCwTCQOpivDoAfrou2fWJ2lg6GV6UZLUf\n",
       "o/X73TFpOWPf4yuuS2vAQCa3pGAljFwZsivZiFR1lDw/VPfnxU9IWOe7YxJX59/jexMOA9981WbW\n",
       "jgzBUwhvKkUuCeXryDOv842+XLeMqQQbSmr3x2EV6fkCzQ3rOSKTU1Cm3EP6TtbPSwOVXRyb4r0t\n",
       "fjt/Zq4b/Ft/jpdDS2z55GrFMG+2IGIYTe/30KQ5SXzFn5kgMsoCacWee0w7FToNJu26iOV0rEdW\n",
       "rt9vwSjmjgQsj72Fx3Ha8ClfoFmj/4zoC8cuVbAbR6CvjReMb0oti1RxsCPfl+sRjKfQBSKNXkrN\n",
       "Vfw2zZZgR0Q+GtdLz432WsP8KOQkvVdqEWFY3azxld89kYqXo87LK6Z1N8kZSV9JELngWzR59OTf\n",
       "v2T25zNiX0ZAORuKyrt+svr2ej8JeoQBE9OXlrlCCplsi5bjMM3PTRPWohEBWnu71sIVatQlQ9XI\n",
       "V7/weh0x0XMUi+6W+Nh86IbLKd+mmaZ9d00Q8c570KKjAHE9vn+9fOF67zCRrxBDMM7rr2rXdkLA\n",
       "ZkQsvfe9yyupGL14aLriLi/8sXOHISKfKnzTzPl2KifE8CeDWHNCq9XF/1eGrNO9xdj9ZPX3/ZXt\n",
       "bDohfvagP5/CH+EDIVfyVW8WAAAAAElFTkSuQmCC\n",
       "\" style=\"display:inline;vertical-align:middle;\" /></a></span>"
      ],
      "text/plain": [
       "|- forall_{x, y | x != y} ((x in {y}) = FALSE)"
      ]
     },
     "execution_count": 9,
     "metadata": {},
     "output_type": "execute_result"
    }
   ],
   "source": [
    "goal.generalize([x,y], conditions = inSingletonEvalFalse.instanceExpr.conditions)"
   ]
  },
  {
   "cell_type": "code",
   "execution_count": 10,
   "metadata": {},
   "outputs": [
    {
     "data": {
      "text/html": [
       "<table><tr><th>&nbsp;</th><th>step type</th><th>requirements</th><th>statement</th></tr>\n",
       "<tr><td>0</td><td>generalizaton</td><td>1</td><td><span style=\"font-size:20px;\"> <a class=\"ProveItLink\" href=\"../__pv_it/25c378ad388baa2ec4ea68c9f82ca17946eb42e50/proof.ipynb\" style=\"text-decoration: none\">&#x22A2;&nbsp;</a><a class=\"ProveItLink\" href=\"../__pv_it/cee10c06f4ef232a503a0ce0a2d30fe4a610033c0/expr.ipynb\"><img src=\"data:image/png;base64,iVBORw0KGgoAAAANSUhEUgAAAO8AAAAXCAMAAADUb+j/AAAAOVBMVEX///8oKCgUFBQJCQkQEBC6\n",
       "urrMzMxUVFRmZmZERETc3NwyMjKqqqp2dnaIiIiYmJgiIiLu7u4AAACP9cC6AAAAAXRSTlMAQObY\n",
       "ZgAAAupJREFUWMPVWImO2yAQdbvcN/z/xxYwGAZjr0maqosUjYzmwTyYi2zbfzwss+CbaC3eXdP/\n",
       "C8OxgfKZZU6f5ghS+0ngF04vY1z7Np+iSyiUz4YJk0kmiyQPVxGNVcZoVT/lx666rry2g0Z3k/Lp\n",
       "WbPOjsSf14Pgn6JrDJR/ha/V63wzph46U5/iizyUs1g10sUhn/P1aJ1vxlgt8nAfS1YSyplR0vrF\n",
       "+924Wua7YwJPw+lP8WUaSqENFcqw5t2C+2tqXmegCB7y1Wydb8bQnOr4g8p2VwT8JV5aIH203jq7\n",
       "oeZQ871LKtYbDi1b2yNpK9lpdoPe8M0YnDT8k3x3l9GuCwTCQOpivDoAfrou2fWJ2lg6GV6UZLUf\n",
       "o/X73TFpOWPf4yuuS2vAQCa3pGAljFwZsivZiFR1lDw/VPfnxU9IWOe7YxJX59/jexMOA9981WbW\n",
       "jgzBUwhvKkUuCeXryDOv842+XLeMqQQbSmr3x2EV6fkCzQ3rOSKTU1Cm3EP6TtbPSwOVXRyb4r0t\n",
       "fjt/Zq4b/Ft/jpdDS2z55GrFMG+2IGIYTe/30KQ5SXzFn5kgMsoCacWee0w7FToNJu26iOV0rEdW\n",
       "rt9vwSjmjgQsj72Fx3Ha8ClfoFmj/4zoC8cuVbAbR6CvjReMb0oti1RxsCPfl+sRjKfQBSKNXkrN\n",
       "Vfw2zZZgR0Q+GtdLz432WsP8KOQkvVdqEWFY3azxld89kYqXo87LK6Z1N8kZSV9JELngWzR59OTf\n",
       "v2T25zNiX0ZAORuKyrt+svr2ej8JeoQBE9OXlrlCCplsi5bjMM3PTRPWohEBWnu71sIVatQlQ9XI\n",
       "V7/weh0x0XMUi+6W+Nh86IbLKd+mmaZ9d00Q8c570KKjAHE9vn+9fOF67zCRrxBDMM7rr2rXdkLA\n",
       "ZkQsvfe9yyupGL14aLriLi/8sXOHISKfKnzTzPl2KifE8CeDWHNCq9XF/1eGrNO9xdj9ZPX3/ZXt\n",
       "bDohfvagP5/CH+EDIVfyVW8WAAAAAElFTkSuQmCC\n",
       "\" style=\"display:inline;vertical-align:middle;\" /></a></span></td></tr>\n",
       "<tr><td>1</td><td>specialization</td><td>2, 3, 4</td><td><span style=\"font-size:20px;\"><a class=\"ProveItLink\" href=\"../__pv_it/d90514e8f27b408b4a0e96a799bee9b6d03269220/expr.ipynb\"><img src=\"data:image/png;base64,iVBORw0KGgoAAAANSUhEUgAAAEUAAAAVCAMAAAAn3dPsAAAAPFBMVEX///8LCwsYGBgNDQ0oKChE\n",
       "RETc3NyqqqpUVFS6urrMzMwyMjIQEBCIiIh2dnYiIiLu7u5mZmaYmJgAAADt+DP7AAAAAXRSTlMA\n",
       "QObYZgAAASJJREFUOMudVNl2xSAItL11jSDi//9rNdHY7LE8eFRwHAdEiGIcWfzHHKJqcwr4GN+j\n",
       "dzhe1xmkRxA1XXli86B/RDH2kqR/jXJNZQTlmsoAipPiPYpCMEpDhH2kdH9XhLHkVCXaoFSZKfs4\n",
       "sPCh6z/bz6eMZr1d2NQzy6ml3Fbv4tLulorTIpZ7ZH3mFMum8TWoEDQnClizWeYwX96c2sPlVArf\n",
       "+n6XhyPKtC9bXRRxqZ5qhW/WalCzi1ZdQrbvrzCb3JYrVFWbLgIXOVktigHdU1mUkOY00zqxkHmm\n",
       "4E6VmUvesolPUUgCEiLwgypzJMSkBmpXx4uSDSM/INDxU2UAWtvKepj9EJWSWomH/kIBBqgInVWx\n",
       "vdf1786oz1Hsu777CzvKDW1gBvfbAAAAAElFTkSuQmCC\n",
       "\" style=\"display:inline;vertical-align:middle;\" /></a> <a class=\"ProveItLink\" href=\"../__pv_it/557a6e3203ee629a7d5de530a2ec7091620724480/proof.ipynb\" style=\"text-decoration: none\">&#x22A2;&nbsp;</a><a class=\"ProveItLink\" href=\"../__pv_it/92489220ab99427d44f7ba59ff9c266edca1a0730/expr.ipynb\"><img src=\"data:image/png;base64,iVBORw0KGgoAAAANSUhEUgAAAH4AAAAVBAMAAAByPkciAAAAMFBMVEX////c3NwiIiJERESqqqqY\n",
       "mJh2dnZmZmYQEBDu7u4yMjJUVFTMzMyIiIi6uroAAAAs73DqAAAAAXRSTlMAQObYZgAAAatJREFU\n",
       "OMtjYMAFwgMg9LFEBryA7wJW4UkJMNYJBwaGONz6T2MXvg9nsS8A4gNYlMiCyZXY9WfAWWwNQGIB\n",
       "FiXHQQTvBaL0h+HSzzEBWWjuIiUtrPpn4NL/ClmEZ+kEHPYzO+DQXwbEYrdFroO9ITwB2f2c6QkM\n",
       "8hMg+tkKcOhfClSXwKrKoQDiGCIkq4B6+D6AooH1A5DLAg7AqlUgsBpZfx9QHQPvBxZQBHEaIHwC\n",
       "FD/CrsBgDGQvB6WSBhz2/wNqY+CGaORrUlKChB/PDqB5EzguMPwF+R3oRp4PuPUDIwESiTwbEKmy\n",
       "B0j4T+D5A6TUGPDobwER8gcYQCHHqYCQ3AUOA94GqP8h7i9SAgFlZP2mQAUC9xl4wSG/FaE/Cexx\n",
       "5g3Q+GNdgMP+dKAzAyygaXnSA5T0V83wPoCBQPw9YmCYfG1aLiSzMi4/gKx/8t16Aah+rgdomoFe\n",
       "0QB5hUMAWZRlF2r6TcKXfsGANQFn/uFW4GyB6c/Fmf9x5N8IBgamBOYEaP7nXIBTvzR24UkXGFju\n",
       "1oHLH6DXuQVw6mfEUQCEOSCVf3dw6QYAxwNt3+67TkIAAAAASUVORK5CYII=\n",
       "\" style=\"display:inline;vertical-align:middle;\" /></a></span></td></tr>\n",
       "<tr><td>&nbsp;</td><td colspan=4 style=\"text-align:left\"><span style=\"font-size:20px;\"><a class=\"ProveItLink\" href=\"../__pv_it/59054e3b170c2edab43c1eaadffb56823fb303bf0/expr.ipynb\"><img src=\"data:image/png;base64,iVBORw0KGgoAAAANSUhEUgAAAEkAAAAVBAMAAAD4Ed5jAAAAMFBMVEX////u7u5mZmaYmJi6urqq\n",
       "qqp2dnbMzMwQEBBEREQyMjLc3NwiIiJUVFSIiIgAAAAeC3ydAAAAAXRSTlMAQObYZgAAAR1JREFU\n",
       "KM9jYCAZsDzAJmoCJt/+v3v37AYQqxarXqYCMPWLgYGzG8RYiN2KBSCC/RsDAysQM/A9wK7KDETw\n",
       "fWFgYP4EZHAIYFclASI4PzAw8H4FMrxweIozAEjwA+2VnwBkqCEktr3d+ghuP5sCkKhPYGA/BOIt\n",
       "hitiTGA+zHEAxmMFOf/9tTQ1cEC0wFWxMfB9YC2AB2MDkJgPc/QXhFkMvBMQ1rMDHc7whwFDFdC/\n",
       "D1BVsX+C8VqRVO0vYBBAtpEPbsRkuBrmDe8Z+OCqmIGu5/wI4yXBVcUbzGDYx4AUEkLz/8Kc4AP0\n",
       "9EwgmMgg+UwszwDGYeByQA5jjg14YgjhmgTsqvJQudhTDuMCVP5erKp40RzCjTWBPWdgAADdXkSh\n",
       "Sa6TGQAAAABJRU5ErkJggg==\n",
       "\" style=\"display:inline;vertical-align:middle;\" /></a> : <a class=\"ProveItLink\" href=\"../__pv_it/e7cf8c781a7be80bb71483e046dfbb251e6d424c0/expr.ipynb\"><img src=\"data:image/png;base64,iVBORw0KGgoAAAANSUhEUgAAAFEAAAAOBAMAAAClee0nAAAALVBMVEX///8yMjLMzMwQEBAiIiKY\n",
       "mJhmZmZUVFSIiIh2dnbc3Nzu7u5ERESqqqoAAABdTVCLAAAAAXRSTlMAQObYZgAAAG5JREFUKM9j\n",
       "YCACcDUwEAmYEgaNSq4ZVTcyiFK5kyEkwASJnygIAuJYVE5g6GO4RJSZGxhqiPaRBbEquR4xcCNx\n",
       "U1xAwAeLyiiOBwzdxJjJ+5THAHfsQlTeOQMEG7hPzJ7ZCuOgKmMDusLExeUAAH6DIgMMCW+iAAAA\n",
       "AElFTkSuQmCC\n",
       "\" style=\"display:inline;vertical-align:middle;\" /></a>, <a class=\"ProveItLink\" href=\"../../../../__pv_it/530be409e3083890784cf1d7b28c9e67e90af9360/expr.ipynb\"><img src=\"data:image/png;base64,iVBORw0KGgoAAAANSUhEUgAAAAsAAAAJBAMAAAAWSsseAAAAKlBMVEX///9ERETMzMwQEBAiIiKY\n",
       "mJju7u5mZmaqqqpUVFSIiIh2dnbc3NwAAAA/vyDhAAAAAXRSTlMAQObYZgAAAENJREFUCNdjYDi9\n",
       "8sTyBQxsG1hdmR0YuBm4LnAoMLAxcAowgADzAjB1VoEhgYH1wFoGrgSG3gBhhlMMDImrs3cFMAAA\n",
       "t0YN+iTRa+sAAAAASUVORK5CYII=\n",
       "\" style=\"display:inline;vertical-align:middle;\" /></a> : <a class=\"ProveItLink\" href=\"../__pv_it/dfa7245ca3101bcab340dec960ee18f167b240720/expr.ipynb\"><img src=\"data:image/png;base64,iVBORw0KGgoAAAANSUhEUgAAAEQAAAAVBAMAAAAN71XTAAAAMFBMVEX///+6uroyMjJERETMzMwQ\n",
       "EBAiIiKYmJju7u5mZmaqqqpUVFSIiIh2dnbc3NwAAAAWgogoAAAAAXRSTlMAQObYZgAAARNJREFU\n",
       "KM9jYMAG2KdDGb73GLADjlw403UBdiU8H+BMTgXsSngDsDGJVNKjlpaEXwmLegMOU96efnXyAIj3\n",
       "uAFZnOPmBYb3DRDmBfZ01gSQhB2KN3gZPzCcB4YQ0HO8QC9yOYACwwARGAIMDF6cCQzGQLYmUIaB\n",
       "GyLHGJaWBnGudwiQaGA9wPAHSDOrAwnWAxDXboCbIgoydX0DyxcgBQ7o9w4MIIdyJMCVcIOCdBID\n",
       "TwDELewPzjPwgP2yHeHTBLAjmDdAPLe+wJThDViiTQAlMGYzyBdAmM1ne+8UgCX4NB2QlTSfmf8A\n",
       "IwK4NqFGwDUC0cidwBGFRwk7UJztAvMFPOmFIwdo65mJsIDGbswtpLQLAHbMQ8XDEKjoAAAAAElF\n",
       "TkSuQmCC\n",
       "\" style=\"display:inline;vertical-align:middle;\" /></a>, <a class=\"ProveItLink\" href=\"../../../../__pv_it/f8b9edf8e16034727f0aad55bb83e392c3db40d40/expr.ipynb\"><img src=\"data:image/png;base64,iVBORw0KGgoAAAANSUhEUgAAAAsAAAANBAMAAACN24kIAAAAMFBMVEX///+YmJhUVFQyMjIQEBBE\n",
       "REQiIiKqqqrMzMyIiIi6urrc3NxmZmZ2dnbu7u4AAADXeCicAAAAAXRSTlMAQObYZgAAAFhJREFU\n",
       "CNdj4LtzgWH/AwZerg8M8xkY2nkSGEIZGB6wTGD4ycDAUP+A4weQOszA6QCkbBhYFYDUIYb1AkDq\n",
       "6czzGxhA4BoQMyXwuQMptgusF4AU+8xTQBIAUqMVoSp/SLMAAAAASUVORK5CYII=\n",
       "\" style=\"display:inline;vertical-align:middle;\" /></a> : <a class=\"ProveItLink\" href=\"../__pv_it/11c10f4bba158f3c28c22f8b0eddbb73cf6480560/expr.ipynb\"><img src=\"data:image/png;base64,iVBORw0KGgoAAAANSUhEUgAAADMAAAANBAMAAAD2/0vEAAAAMFBMVEX///+6uroyMjJERETMzMwQ\n",
       "EBAiIiKYmJju7u5mZmaqqqpUVFSIiIh2dnbc3NwAAAAWgogoAAAAAXRSTlMAQObYZgAAAKRJREFU\n",
       "GNNjYHh7+tXJAwwogOPmBYb3DQwcF9jTWROAfE4lMNgAZPIyfmA4D6QYeD5wOaDq8uJMYDAGambg\n",
       "NmBAAw2sBxj+gBisB9ClGNY3sHwB0e8dGBpAdqWBAdiISQw8AQwM7A/OM/A0oOnSZGAGOmd9gSnD\n",
       "G3QDZzPIFzAwNJ/tvVOALtV8Zv4DBlzgGg5x7gSOKBxSbBeYL+CQ4jozEUgCABYeKl4jfnQmAAAA\n",
       "AElFTkSuQmCC\n",
       "\" style=\"display:inline;vertical-align:middle;\" /></a></span></td></tr><tr><td>2</td><td>theorem</td><td></td><td><span style=\"font-size:20px;\"> <a class=\"ProveItLink\" href=\"../../../equality/_proofs_/subLeftSideInto.ipynb\" style=\"text-decoration: none\">&#x22A2;&nbsp;</a><a class=\"ProveItLink\" href=\"../../../equality/__pv_it/3ec60be0054bb218e4347eeddae1ab877388efa90/expr.ipynb\"><img src=\"data:image/png;base64,iVBORw0KGgoAAAANSUhEUgAAAMIAAAAXBAMAAACrPI2eAAAAMFBMVEX///8QEBC6urrMzMxUVFRm\n",
       "ZmZERETc3NwyMjKqqqp2dnaIiIiYmJgiIiLu7u4AAAAU9Wx4AAAAAXRSTlMAQObYZgAAAsZJREFU\n",
       "SMe1Vk1oE1EQ/pLd5m832+BFvEgED0KRRhA8NmhRsRdBeyke1oOtf5CAYlARFy8VFPVSEXJwEYq1\n",
       "ouRQD/bSFS+CiDkoghQpgkW8NKixttTqvL/ta8OCSjqwmdlvv51v38y8R4B1t5l1yRqvCW/ngToL\n",
       "XrYn78Tv3t43ZRbtVNAh4AHzN9r06T+BxMZVCVPAOXJJtz0CxiKQpgtWTUG2jxQ1ouNWexSsr5Sy\n",
       "SUEs7K6Tg32/UrnUpiIlGoC5QMG2FewE8GNw8P3fJTjDf9PRhE4PmGMVH6DrwsT5J1SsUWAPMETv\n",
       "lfoPD7UOnXC3m/17y0j6oth+pEKPD+MtC65TeXx7OkaDegfYCoek8Qx41Lps2a4cMnV1g3uRClMH\n",
       "xgf4sG4AMrAa6QKwBcjCCgjsBV7PRCiYRdjLqErwc6RCSSWgjjsw+YT20AAEWfZgGtgftYZsANOD\n",
       "KqJZiFL4hRUFGqiaVHA8tgGdb7Df0domuqgv6HKxWVOYK+BVGTmJ82GXRGhkGE2lsIn9XC6wI4mq\n",
       "hKHdrKeL40fIPTZdeurU5o2cptA9PhrA8CQeL0qieZXsWkjm20HYaepdeQoWKbyg2xF2NGU8/iif\n",
       "Yj1JfqxbrqYwxueqKHHDC4nQyUgsKwUa0bvBUVwUoahX4qAcaT4Lpm/WNIVjfB8UJc4VJFEnfyp9\n",
       "V4fFdmB28stD9hFX2CyyRnfKg2MHWB9j+VhBU1jga3AlHnclMcGrFJI1i5W1U0NtFsKSw0ZjDH5y\n",
       "GLFCtzZLxjznUjE5bvuSqNJJsmZ2uCszalmZm3SQG0vOqZHJGWMJ6b7jmsJYk3/jBwi8Iy+J8l1F\n",
       "1i08vddsHlu5Cvr0/SDsKQSeConCFFm3syrYtxrfpdzJuNeqMAuBV0OiMEXWLSmLY63pUKBcdRKt\n",
       "CmmJF0OiMEX+LzNX3T0XLfvH/w5/AOrJuu1B3OWnAAAAAElFTkSuQmCC\n",
       "\" style=\"display:inline;vertical-align:middle;\" /></a></span></td></tr>\n",
       "<tr><td>&nbsp;</td><td colspan=4 style-\"text-align:left\"><a class=\"ProveItLink\" href=\"../../../equality/_proofs_/subLeftSideInto.ipynb\">proveit.logic.equality.subLeftSideInto</a></td></tr><tr><td>3</td><td>specialization</td><td>5, 6</td><td><span style=\"font-size:20px;\"><a class=\"ProveItLink\" href=\"../__pv_it/d90514e8f27b408b4a0e96a799bee9b6d03269220/expr.ipynb\"><img src=\"data:image/png;base64,iVBORw0KGgoAAAANSUhEUgAAAEUAAAAVCAMAAAAn3dPsAAAAPFBMVEX///8LCwsYGBgNDQ0oKChE\n",
       "RETc3NyqqqpUVFS6urrMzMwyMjIQEBCIiIh2dnYiIiLu7u5mZmaYmJgAAADt+DP7AAAAAXRSTlMA\n",
       "QObYZgAAASJJREFUOMudVNl2xSAItL11jSDi//9rNdHY7LE8eFRwHAdEiGIcWfzHHKJqcwr4GN+j\n",
       "dzhe1xmkRxA1XXli86B/RDH2kqR/jXJNZQTlmsoAipPiPYpCMEpDhH2kdH9XhLHkVCXaoFSZKfs4\n",
       "sPCh6z/bz6eMZr1d2NQzy6ml3Fbv4tLulorTIpZ7ZH3mFMum8TWoEDQnClizWeYwX96c2sPlVArf\n",
       "+n6XhyPKtC9bXRRxqZ5qhW/WalCzi1ZdQrbvrzCb3JYrVFWbLgIXOVktigHdU1mUkOY00zqxkHmm\n",
       "4E6VmUvesolPUUgCEiLwgypzJMSkBmpXx4uSDSM/INDxU2UAWtvKepj9EJWSWomH/kIBBqgInVWx\n",
       "vdf1786oz1Hsu777CzvKDW1gBvfbAAAAAElFTkSuQmCC\n",
       "\" style=\"display:inline;vertical-align:middle;\" /></a> <a class=\"ProveItLink\" href=\"../__pv_it/6a80302c954f0f710f1da18a104121818352d9510/proof.ipynb\" style=\"text-decoration: none\">&#x22A2;&nbsp;</a><a class=\"ProveItLink\" href=\"../__pv_it/f2dfecf083d5052f67b88c3da5d3953e61d39a8b0/expr.ipynb\"><img src=\"data:image/png;base64,iVBORw0KGgoAAAANSUhEUgAAAGwAAAAVBAMAAABRZRb3AAAAMFBMVEX////c3NwiIiJERESqqqqY\n",
       "mJh2dnZmZmYQEBDu7u4yMjJUVFTMzMyIiIi6uroAAAAs73DqAAAAAXRSTlMAQObYZgAAATZJREFU\n",
       "OMtjYCAT8F3ALReHW+o0HiPZD2ARlAWTK/E5ZQEWseMggvcCPm1huLRxTMCnbQYuba/whhezAw5t\n",
       "ZUDMmLvRtxZVjjM9gUF+AgNbAQ5tS4F4GkNQQBMo4FaBwQYgk43vA8N9BgYWcJhUgYVXI2vrA+IE\n",
       "oAofVCOPsCswGAMjtQGHbf+AeALDZnS5CRwXGP4yMPB8wKONgaEXQ9J/As8fPNpaQATjHwZOkN+U\n",
       "wMAA7B8G3gaYI4vAwsrI2kyBOJD3A8NNNDOXMzADg4Z1AQ7b0oHB9ZW5gRE9sVQzvA9gwB0Bj4Bx\n",
       "ZJuZdhVdcvLdegEGBq4HaMJA92qA3MshgCuFJOFIXGDAmoBVmFuBExRYuTiTHfaMw5TADDSPcwFO\n",
       "bdJYRVnu1oHsxOkDBkY8Ge4OLgkAQItO4e3NCuAAAAAASUVORK5CYII=\n",
       "\" style=\"display:inline;vertical-align:middle;\" /></a></span></td></tr>\n",
       "<tr><td>&nbsp;</td><td colspan=4 style=\"text-align:left\"><span style=\"font-size:20px;\"><a class=\"ProveItLink\" href=\"../../../../__pv_it/2cbe72a7ad6f655694dd697106680215e8489b600/expr.ipynb\"><img src=\"data:image/png;base64,iVBORw0KGgoAAAANSUhEUgAAAA8AAAAOBAMAAAACpFvcAAAALVBMVEX///8QEBBERERUVFS6urqI\n",
       "iIhmZmaqqqrc3Nzu7u6YmJgyMjIiIiLMzMwAAADtIaYWAAAAAXRSTlMAQObYZgAAAFtJREFUCNdj\n",
       "YACBOwxQsA9Kc52bAGG05zVAGAFxDmCaZULdAjBjCsO9ADDDgaEvAUTzGhvbKYCVMDAwbgAxChgY\n",
       "eASANAeQwf0AyJgNxEwvGRia5HYwcOm9TgAA6BoR3jrzwFcAAAAASUVORK5CYII=\n",
       "\" style=\"display:inline;vertical-align:middle;\" /></a> : <a class=\"ProveItLink\" href=\"../__pv_it/11c10f4bba158f3c28c22f8b0eddbb73cf6480560/expr.ipynb\"><img src=\"data:image/png;base64,iVBORw0KGgoAAAANSUhEUgAAADMAAAANBAMAAAD2/0vEAAAAMFBMVEX///+6uroyMjJERETMzMwQ\n",
       "EBAiIiKYmJju7u5mZmaqqqpUVFSIiIh2dnbc3NwAAAAWgogoAAAAAXRSTlMAQObYZgAAAKRJREFU\n",
       "GNNjYHh7+tXJAwwogOPmBYb3DQwcF9jTWROAfE4lMNgAZPIyfmA4D6QYeD5wOaDq8uJMYDAGambg\n",
       "NmBAAw2sBxj+gBisB9ClGNY3sHwB0e8dGBpAdqWBAdiISQw8AQwM7A/OM/A0oOnSZGAGOmd9gSnD\n",
       "G3QDZzPIFzAwNJ/tvVOALtV8Zv4DBlzgGg5x7gSOKBxSbBeYL+CQ4jozEUgCABYeKl4jfnQmAAAA\n",
       "AElFTkSuQmCC\n",
       "\" style=\"display:inline;vertical-align:middle;\" /></a></span></td></tr><tr><td>4</td><td>specialization</td><td>7</td><td><span style=\"font-size:20px;\"> <a class=\"ProveItLink\" href=\"../__pv_it/372a83d91e35ba0bc4d59f073e567fee67a045850/proof.ipynb\" style=\"text-decoration: none\">&#x22A2;&nbsp;</a><a class=\"ProveItLink\" href=\"../__pv_it/ba0046e87362250c63c09bfeaf1a30de9ab2754e0/expr.ipynb\"><img src=\"data:image/png;base64,iVBORw0KGgoAAAANSUhEUgAAAK8AAAAVBAMAAADC7aNVAAAAMFBMVEX////c3NwiIiJERESqqqqY\n",
       "mJh2dnZmZmYQEBDu7u4yMjJUVFTMzMyIiIi6uroAAAAs73DqAAAAAXRSTlMAQObYZgAAAlxJREFU\n",
       "OMudVc9LFFEc/06zs864P1wwvIQ4TNQhCAoRugT+AYZTh44xiSQdFhahDka1iZdAZUiQLsIiiKgX\n",
       "I7p02kNE4GUvFZGLS6cIor14M+nzfrjuvHlvkR7szpvvfD6fee/7/XzfEBmG80hOPt6n/xvFhi7q\n",
       "Xe5MP40T3dNAfps1OXxP+6jQ7kz7avjVU4j8rlmYw7e0j7LV5LSWQvTHPdIAeKFxJuG7KUSzV34B\n",
       "dxMvXlsPrmiFX6e4L3sJA/4rkbeN2LBie1ytea2XMOCPcRn6fv4rz8hg3K3mzUQ0EgvhbEWtT0Rk\n",
       "ld/ceqq4SXIqtIGbyLnk+ix8PWGFbLFNB3A0M0iGL3Bum40dXruQaJXuhPMMzMPbzCaSA/gybmCu\n",
       "DDOId+3UvC2iD30+jWK+yXZeVVbsAhBBYyIZlhzAj6FHOaFYnA8CUby9RfzFboP+soRhV/m2IjwA\n",
       "4ZjeqsmVHMCP+esbqud/sh1MxvkjXFgTaoWJllJlExzAF9jdSJ1Y2Ty/8zzHcjpHharMsUjFbMDG\n",
       "Rb4WZhPrCNtFjnk44NsWHMDHwCwdUIH74d2px3yeXHtX2s1R3WWjeLfR+N+UuOAAPoPVhzdomEdf\n",
       "tRLmfUJ/QjLYDYHMoV211MaVnAr9IFr5sloOedTarHcLrzSfl+S0v6U2iE/ezYcPPqs5FhzA3VJ3\n",
       "OPM+2dJT5pZ+Yeq6KQF3IuMhlPO9hRPhsu6c0QzJKRuPTQdq5yI7kk3onfXYFBwOv6AV9q4iL81n\n",
       "J02YK6UQlvagFxwOt/QHsjPd/c3b1yCGzYcb4P8AscihcIedxXgAAAAASUVORK5CYII=\n",
       "\" style=\"display:inline;vertical-align:middle;\" /></a></span></td></tr>\n",
       "<tr><td>&nbsp;</td><td colspan=4 style=\"text-align:left\"><span style=\"font-size:20px;\"><a class=\"ProveItLink\" href=\"../../../../__pv_it/530be409e3083890784cf1d7b28c9e67e90af9360/expr.ipynb\"><img src=\"data:image/png;base64,iVBORw0KGgoAAAANSUhEUgAAAAsAAAAJBAMAAAAWSsseAAAAKlBMVEX///9ERETMzMwQEBAiIiKY\n",
       "mJju7u5mZmaqqqpUVFSIiIh2dnbc3NwAAAA/vyDhAAAAAXRSTlMAQObYZgAAAENJREFUCNdjYDi9\n",
       "8sTyBQxsG1hdmR0YuBm4LnAoMLAxcAowgADzAjB1VoEhgYH1wFoGrgSG3gBhhlMMDImrs3cFMAAA\n",
       "t0YN+iTRa+sAAAAASUVORK5CYII=\n",
       "\" style=\"display:inline;vertical-align:middle;\" /></a> : <a class=\"ProveItLink\" href=\"../../../../__pv_it/530be409e3083890784cf1d7b28c9e67e90af9360/expr.ipynb\"><img src=\"data:image/png;base64,iVBORw0KGgoAAAANSUhEUgAAAAsAAAAJBAMAAAAWSsseAAAAKlBMVEX///9ERETMzMwQEBAiIiKY\n",
       "mJju7u5mZmaqqqpUVFSIiIh2dnbc3NwAAAA/vyDhAAAAAXRSTlMAQObYZgAAAENJREFUCNdjYDi9\n",
       "8sTyBQxsG1hdmR0YuBm4LnAoMLAxcAowgADzAjB1VoEhgYH1wFoGrgSG3gBhhlMMDImrs3cFMAAA\n",
       "t0YN+iTRa+sAAAAASUVORK5CYII=\n",
       "\" style=\"display:inline;vertical-align:middle;\" /></a>, <a class=\"ProveItLink\" href=\"../../../../__pv_it/f8b9edf8e16034727f0aad55bb83e392c3db40d40/expr.ipynb\"><img src=\"data:image/png;base64,iVBORw0KGgoAAAANSUhEUgAAAAsAAAANBAMAAACN24kIAAAAMFBMVEX///+YmJhUVFQyMjIQEBBE\n",
       "REQiIiKqqqrMzMyIiIi6urrc3NxmZmZ2dnbu7u4AAADXeCicAAAAAXRSTlMAQObYZgAAAFhJREFU\n",
       "CNdj4LtzgWH/AwZerg8M8xkY2nkSGEIZGB6wTGD4ycDAUP+A4weQOszA6QCkbBhYFYDUIYb1AkDq\n",
       "6czzGxhA4BoQMyXwuQMptgusF4AU+8xTQBIAUqMVoSp/SLMAAAAASUVORK5CYII=\n",
       "\" style=\"display:inline;vertical-align:middle;\" /></a> : <a class=\"ProveItLink\" href=\"../../../../__pv_it/f8b9edf8e16034727f0aad55bb83e392c3db40d40/expr.ipynb\"><img src=\"data:image/png;base64,iVBORw0KGgoAAAANSUhEUgAAAAsAAAANBAMAAACN24kIAAAAMFBMVEX///+YmJhUVFQyMjIQEBBE\n",
       "REQiIiKqqqrMzMyIiIi6urrc3NxmZmZ2dnbu7u4AAADXeCicAAAAAXRSTlMAQObYZgAAAFhJREFU\n",
       "CNdj4LtzgWH/AwZerg8M8xkY2nkSGEIZGB6wTGD4ycDAUP+A4weQOszA6QCkbBhYFYDUIYb1AkDq\n",
       "6czzGxhA4BoQMyXwuQMptgusF4AU+8xTQBIAUqMVoSp/SLMAAAAASUVORK5CYII=\n",
       "\" style=\"display:inline;vertical-align:middle;\" /></a></span></td></tr><tr><td>5</td><td>axiom</td><td></td><td><span style=\"font-size:20px;\"> <a class=\"ProveItLink\" href=\"../../../boolean/negation/_axioms_.ipynb#negationElim\" style=\"text-decoration: none\">&#x22A2;&nbsp;</a><a class=\"ProveItLink\" href=\"../../../boolean/negation/__pv_it/3b08940eb52ec7364a09d58733ea5eec05fbe9620/expr.ipynb\"><img src=\"data:image/png;base64,iVBORw0KGgoAAAANSUhEUgAAAJcAAAAXBAMAAAD0AcCSAAAAMFBMVEX///8QEBC6urrMzMxUVFRm\n",
       "ZmZERETc3NwyMjKqqqp2dnaIiIiYmJgiIiLu7u4AAAAU9Wx4AAAAAXRSTlMAQObYZgAAAbxJREFU\n",
       "OMtjYKAmeECsQqYN+OUPAfEFEOM0EYaZQChbLFLVIILVgIFhJYjRR4RhUDX9WKRMwWQDA0MZkGJP\n",
       "IGwWN8SXPPcf4DLsFAMDB1CSdQJhwxghhlTGF+Ay7CHQquXl5bVE+FIDQm3Yr4DLMDagk76lpd0i\n",
       "wrAoSJQ+mH8Al2FcAQwMzgwM6WBOO0Q5qrp2GKMHTD5isAeHXUQHCLSgGMYJjAEVBr4GcNB+gjgW\n",
       "xSyoIBAIgUkFhvoAXC5jEmBg4GXgBrv86R8shkEFgQBsKrOLi38CLsOYPwDj/AAvOKLWXcViGFQQ\n",
       "ZhgwDBgb8BnG1wBO28wb0jANgwkCgSSIAMYXrwCIEXsXBK5heJMh3QnEZGGIxTQMJggEOaDEDTSM\n",
       "4wMul/GA3DwVnD1PMuxHMmxZWlpaA0IQCJYC8QuQ/D98SYOBERTZfFdD8x+guiwBIQgEusCcJ9/O\n",
       "wJP/Ay06gT6+CPYxByg584DUsxYw2BugGwYXBFlZQChZP4SzdBgY+A+gGwYXBFm5gJBhq2GMJ98Y\n",
       "2P3voBpmgBAkppjiw5Jm2HApLiFgGEsBCYaxEyi2NzOQYBg5gIUCvQCemG+1sUJnVwAAAABJRU5E\n",
       "rkJggg==\n",
       "\" style=\"display:inline;vertical-align:middle;\" /></a></span></td></tr>\n",
       "<tr><td>&nbsp;</td><td colspan=4 style-\"text-align:left\"><a class=\"ProveItLink\" href=\"../../../boolean/negation/_axioms_.ipynb#negationElim\">proveit.logic.boolean.negation.negationElim</a></td></tr><tr><td>6</td><td>specialization</td><td>8, 9</td><td><span style=\"font-size:20px;\"><a class=\"ProveItLink\" href=\"../__pv_it/d90514e8f27b408b4a0e96a799bee9b6d03269220/expr.ipynb\"><img src=\"data:image/png;base64,iVBORw0KGgoAAAANSUhEUgAAAEUAAAAVCAMAAAAn3dPsAAAAPFBMVEX///8LCwsYGBgNDQ0oKChE\n",
       "RETc3NyqqqpUVFS6urrMzMwyMjIQEBCIiIh2dnYiIiLu7u5mZmaYmJgAAADt+DP7AAAAAXRSTlMA\n",
       "QObYZgAAASJJREFUOMudVNl2xSAItL11jSDi//9rNdHY7LE8eFRwHAdEiGIcWfzHHKJqcwr4GN+j\n",
       "dzhe1xmkRxA1XXli86B/RDH2kqR/jXJNZQTlmsoAipPiPYpCMEpDhH2kdH9XhLHkVCXaoFSZKfs4\n",
       "sPCh6z/bz6eMZr1d2NQzy6ml3Fbv4tLulorTIpZ7ZH3mFMum8TWoEDQnClizWeYwX96c2sPlVArf\n",
       "+n6XhyPKtC9bXRRxqZ5qhW/WalCzi1ZdQrbvrzCb3JYrVFWbLgIXOVktigHdU1mUkOY00zqxkHmm\n",
       "4E6VmUvesolPUUgCEiLwgypzJMSkBmpXx4uSDSM/INDxU2UAWtvKepj9EJWSWomH/kIBBqgInVWx\n",
       "vdf1786oz1Hsu777CzvKDW1gBvfbAAAAAElFTkSuQmCC\n",
       "\" style=\"display:inline;vertical-align:middle;\" /></a> <a class=\"ProveItLink\" href=\"../__pv_it/020137bd4bb1b39b3fbb76816d3e6db0f2838ead0/proof.ipynb\" style=\"text-decoration: none\">&#x22A2;&nbsp;</a><a class=\"ProveItLink\" href=\"../__pv_it/78a4f48057761bfb6adb7c94a82674d78ea096840/expr.ipynb\"><img src=\"data:image/png;base64,iVBORw0KGgoAAAANSUhEUgAAAFEAAAAVBAMAAADMaB9/AAAAMFBMVEX////c3NxERESqqqqYmJgQ\n",
       "EBDu7u4yMjKIiIi6urpUVFTMzMx2dnYiIiJmZmYAAABjE816AAAAAXRSTlMAQObYZgAAASBJREFU\n",
       "KM9jYCADcDbglvNE4e3CYwrfBmReGT4LC5DYHA34VPogsVkT8KlMRWJPx+tdJgME+w0Qy3QJ96E5\n",
       "gu3cAQb5BAaeBwihEqDoAZYrrBdAXi0HgwVAJg/nB4Z+BgbmAoa3d4HgDlAoEijKwPGBeQOqmZv5\n",
       "LjAoAQM7ABGUP4FmMnApoDswgbWB4QcDA/cHFJXAAMAMKvsE7t+oKoNBDPkNDKDA4rsLBmALnjNw\n",
       "BKDarsLAwCLQz8CBHqx1DExAn7FAI4kbiM8BLXJQZZBAt/0Vw3wHBpRQmsvAkNSTc8IBXWVSx3sB\n",
       "Bgb2CUixKYArfs6ixSbLAazKuC6wgfx6gnCq4z3ABDSCDTnVMUhhVcnc8RJkMorTGPEk0G4GBgDJ\n",
       "bUZHqfFSGQAAAABJRU5ErkJggg==\n",
       "\" style=\"display:inline;vertical-align:middle;\" /></a></span></td></tr>\n",
       "<tr><td>&nbsp;</td><td colspan=4 style=\"text-align:left\"><span style=\"font-size:20px;\"><a class=\"ProveItLink\" href=\"../../../../__pv_it/530be409e3083890784cf1d7b28c9e67e90af9360/expr.ipynb\"><img src=\"data:image/png;base64,iVBORw0KGgoAAAANSUhEUgAAAAsAAAAJBAMAAAAWSsseAAAAKlBMVEX///9ERETMzMwQEBAiIiKY\n",
       "mJju7u5mZmaqqqpUVFSIiIh2dnbc3NwAAAA/vyDhAAAAAXRSTlMAQObYZgAAAENJREFUCNdjYDi9\n",
       "8sTyBQxsG1hdmR0YuBm4LnAoMLAxcAowgADzAjB1VoEhgYH1wFoGrgSG3gBhhlMMDImrs3cFMAAA\n",
       "t0YN+iTRa+sAAAAASUVORK5CYII=\n",
       "\" style=\"display:inline;vertical-align:middle;\" /></a> : <a class=\"ProveItLink\" href=\"../../../../__pv_it/530be409e3083890784cf1d7b28c9e67e90af9360/expr.ipynb\"><img src=\"data:image/png;base64,iVBORw0KGgoAAAANSUhEUgAAAAsAAAAJBAMAAAAWSsseAAAAKlBMVEX///9ERETMzMwQEBAiIiKY\n",
       "mJju7u5mZmaqqqpUVFSIiIh2dnbc3NwAAAA/vyDhAAAAAXRSTlMAQObYZgAAAENJREFUCNdjYDi9\n",
       "8sTyBQxsG1hdmR0YuBm4LnAoMLAxcAowgADzAjB1VoEhgYH1wFoGrgSG3gBhhlMMDImrs3cFMAAA\n",
       "t0YN+iTRa+sAAAAASUVORK5CYII=\n",
       "\" style=\"display:inline;vertical-align:middle;\" /></a>, <a class=\"ProveItLink\" href=\"../../../../__pv_it/f8b9edf8e16034727f0aad55bb83e392c3db40d40/expr.ipynb\"><img src=\"data:image/png;base64,iVBORw0KGgoAAAANSUhEUgAAAAsAAAANBAMAAACN24kIAAAAMFBMVEX///+YmJhUVFQyMjIQEBBE\n",
       "REQiIiKqqqrMzMyIiIi6urrc3NxmZmZ2dnbu7u4AAADXeCicAAAAAXRSTlMAQObYZgAAAFhJREFU\n",
       "CNdj4LtzgWH/AwZerg8M8xkY2nkSGEIZGB6wTGD4ycDAUP+A4weQOszA6QCkbBhYFYDUIYb1AkDq\n",
       "6czzGxhA4BoQMyXwuQMptgusF4AU+8xTQBIAUqMVoSp/SLMAAAAASUVORK5CYII=\n",
       "\" style=\"display:inline;vertical-align:middle;\" /></a> : <a class=\"ProveItLink\" href=\"../../../../__pv_it/f8b9edf8e16034727f0aad55bb83e392c3db40d40/expr.ipynb\"><img src=\"data:image/png;base64,iVBORw0KGgoAAAANSUhEUgAAAAsAAAANBAMAAACN24kIAAAAMFBMVEX///+YmJhUVFQyMjIQEBBE\n",
       "REQiIiKqqqrMzMyIiIi6urrc3NxmZmZ2dnbu7u4AAADXeCicAAAAAXRSTlMAQObYZgAAAFhJREFU\n",
       "CNdj4LtzgWH/AwZerg8M8xkY2nkSGEIZGB6wTGD4ycDAUP+A4weQOszA6QCkbBhYFYDUIYb1AkDq\n",
       "6czzGxhA4BoQMyXwuQMptgusF4AU+8xTQBIAUqMVoSp/SLMAAAAASUVORK5CYII=\n",
       "\" style=\"display:inline;vertical-align:middle;\" /></a></span></td></tr><tr><td>7</td><td>theorem</td><td></td><td><span style=\"font-size:20px;\"> <a class=\"ProveItLink\" href=\"singletonDef.ipynb\" style=\"text-decoration: none\">&#x22A2;&nbsp;</a><a class=\"ProveItLink\" href=\"../__pv_it/923a7dc38b83be31d38162c00e9400f6b23f2e3b0/expr.ipynb\"><img src=\"data:image/png;base64,iVBORw0KGgoAAAANSUhEUgAAAO8AAAAWBAMAAADaw9ZbAAAAMFBMVEX///8QEBC6urrMzMxUVFRm\n",
       "ZmZERETc3NwyMjKqqqp2dnaIiIiYmJgiIiLu7u4AAAAU9Wx4AAAAAXRSTlMAQObYZgAAAxhJREFU\n",
       "SMe9VkFoE0EU/dmk2SbZboM9SJFKBA+CFFPoRS8tFaqohyIeilXUS3LQwx6kVYt2DxY81FJQTx66\n",
       "l1JqaAm0BrRil16EipCTSDWwveTQIhQLetCD8+dPstnd2Vh68MMjk5n39s/++f/PAhzAtGticGYe\n",
       "DmxO2IJSJARN36wPe2YA1iWUk+EO1wXK+OejhNArELTUbn3YYjJkA4xof7hjpCMW8M+0hDAdMg+Q\n",
       "THuHZoDR6jSJsUkYZT/qTclrFQn7cLwRYKw2O9wNAm6uZSa4HHEIru08rXyROt4KiI82c7xF0ObH\n",
       "xh5Klk8IuOc25YS8cdy/b8Vs5hjpiJ+53KZk+arAg5X7r3nER51Gb/qcBRMOOU4O+fPHYsdXOPdy\n",
       "xFcNQjNEkrMAeYnjKYJuad8iPPPznlROKruwxuKFCZ7gLzj8BO0xzy0bYBs+2V3eeaFBOuI46LLI\n",
       "HCIkWfEksF50NwF7MgCnW8qQY+NJjGzanx+MYDEfz7zTQoN0RBukbInjHwQdYuRR6apUKLl6O7Dv\n",
       "RIrwGw+MRSW669O2Z7AxDQZ6FWmQjkjZbU64Y7b9or8nHMMIzDrRPfaD6SF1DHAk8EzS1BzrJvan\n",
       "wsAKe5xSqpdQpwBMZHlb1ct1fQyPZhhSaXHGFOrrFbTPfK+Y5uoeC5d3njS1UEN+gB2lM4jsnXaj\n",
       "Rzz9DkEz1iDF93LJraEyP9x4vygnzZ8jcXZ2H1hjfe+bJw3SueQFe47CsxgedUNJkOYIs/YtGOcT\n",
       "3zOe4r0Cp2wIKSc2kfgTT6v+xic0opzEIf7iSxfgoiB1E6pvtwuUe+pkttFxdfWGIYatGX8DKYN+\n",
       "e+nVO/8ZkwbpXKJhJKPpKBVRR60kDIJrifPelrkY3jIPh3WtRbdlkvUlzSTcM6BDqWWoZhFCLolY\n",
       "We+sOS5I74GgCU2hUVJ9M7IEfTY8L5n/vhY1rH4rbokmpu/3WiSNLpHYqhGrJ8RdAckXyFcW99XL\n",
       "tSYWMwIMVfohQBqk+yRRI265FxLmpCq/kLWFxm+uZQljPPxyWg5KNLYnC/6T/QXx5OS3NLO31gAA\n",
       "AABJRU5ErkJggg==\n",
       "\" style=\"display:inline;vertical-align:middle;\" /></a></span></td></tr>\n",
       "<tr><td>&nbsp;</td><td colspan=4 style-\"text-align:left\"><a class=\"ProveItLink\" href=\"singletonDef.ipynb\">proveit.logic.set_theory.enumeration.singletonDef</a></td></tr><tr><td>8</td><td>theorem</td><td></td><td><span style=\"font-size:20px;\"> <a class=\"ProveItLink\" href=\"../../../equality/_proofs_/unfoldNotEquals.ipynb\" style=\"text-decoration: none\">&#x22A2;&nbsp;</a><a class=\"ProveItLink\" href=\"../../../equality/__pv_it/38779c63c7ca10709484d9771bf5465a3e774ee90/expr.ipynb\"><img src=\"data:image/png;base64,iVBORw0KGgoAAAANSUhEUgAAAL8AAAAXCAMAAABte263AAAAOVBMVEX///8oKCgUFBQJCQkQEBC6\n",
       "urrMzMxUVFRmZmZERETc3NwyMjKqqqp2dnaIiIiYmJgiIiLu7u4AAACP9cC6AAAAAXRSTlMAQObY\n",
       "ZgAAAmJJREFUWMPVV4lu5CAMZXfDffP/H7uYAIEZSEg7kVpLlRuM4YGfbQahXy7+8R2wuWs4F4tb\n",
       "7Y5x8wh8Qu8aroSRRmtVhuUzoZgu+/X9ZKMFzx/1n8+KMXcNCwzSjS7XwNQj+Dd/17CQs1ujrRZJ\n",
       "3DPJK+8aVoSrRgcO4vQj+Jm+MAhtqFCGXbDJ6+QgQoqaZvto0jSlMxcLl3m2wdhf2lkO2owrMsBZ\n",
       "tNXwM9lILVEa4QBJE9KXysFLGsMkvxJOvlDUXlm+n5m5Kroz6AxKkfMirOISgGCHgHMC7BoMxn4P\n",
       "v5gU84AnVT8bgA70uvLFaRswLOw0IwE1GrA7/z38M/pd4U+hWKmkCphPAhngj9wpq8ZkwoaS0t95\n",
       "X+da/N1MhPXYA21qgv8wiASq+jRUc+7YkQHBTcebqrmgmY0egpmX9gYFgcg2vP86k6Y8+xf/zMAD\n",
       "cTvBnw1W7DlpruIvodTw7GxlpxVztcAcBUN4HIcNH+LvZpbsefeola45QGtQwSIezysuKcQidBxs\n",
       "v2rRDQNDQ2QaWUHNjP/HTM9nHgjP2uJu8Nxor/VC9YgzDStbStxrW6MHwSdt8dvIBH+eySNz/v6R\n",
       "iT/vHvFr1le2hYbzItoN3g8tpIC0TDVZSFg9IsFhWH+OmX3tfPU43lrTR9iaUAdwVakdvW5ipFgM\n",
       "KOCDiCpquBziP2bC8JF7rx4fez9D2+P5xKXXnvbciF+IFzKP6786LvLN46SzzQ3DTSL7S8egotfD\n",
       "hi3SeftXIj/9NYEGHgnnrLaIr/0CMKTXs+uHM+vr/mtVd0vPPGM/I/TnQfoP0pMahBS79IEAAAAA\n",
       "SUVORK5CYII=\n",
       "\" style=\"display:inline;vertical-align:middle;\" /></a></span></td></tr>\n",
       "<tr><td>&nbsp;</td><td colspan=4 style-\"text-align:left\"><a class=\"ProveItLink\" href=\"../../../equality/_proofs_/unfoldNotEquals.ipynb\">proveit.logic.equality.unfoldNotEquals</a></td></tr><tr><td>9</td><td>assumption</td><td></td><td><span style=\"font-size:20px;\"><a class=\"ProveItLink\" href=\"../__pv_it/d90514e8f27b408b4a0e96a799bee9b6d03269220/expr.ipynb\"><img src=\"data:image/png;base64,iVBORw0KGgoAAAANSUhEUgAAAEUAAAAVCAMAAAAn3dPsAAAAPFBMVEX///8LCwsYGBgNDQ0oKChE\n",
       "RETc3NyqqqpUVFS6urrMzMwyMjIQEBCIiIh2dnYiIiLu7u5mZmaYmJgAAADt+DP7AAAAAXRSTlMA\n",
       "QObYZgAAASJJREFUOMudVNl2xSAItL11jSDi//9rNdHY7LE8eFRwHAdEiGIcWfzHHKJqcwr4GN+j\n",
       "dzhe1xmkRxA1XXli86B/RDH2kqR/jXJNZQTlmsoAipPiPYpCMEpDhH2kdH9XhLHkVCXaoFSZKfs4\n",
       "sPCh6z/bz6eMZr1d2NQzy6ml3Fbv4tLulorTIpZ7ZH3mFMum8TWoEDQnClizWeYwX96c2sPlVArf\n",
       "+n6XhyPKtC9bXRRxqZ5qhW/WalCzi1ZdQrbvrzCb3JYrVFWbLgIXOVktigHdU1mUkOY00zqxkHmm\n",
       "4E6VmUvesolPUUgCEiLwgypzJMSkBmpXx4uSDSM/INDxU2UAWtvKepj9EJWSWomH/kIBBqgInVWx\n",
       "vdf1786oz1Hsu777CzvKDW1gBvfbAAAAAElFTkSuQmCC\n",
       "\" style=\"display:inline;vertical-align:middle;\" /></a> <a class=\"ProveItLink\" href=\"../__pv_it/af62ff1df51526770b0a25fc948d4c793f8f4f600/proof.ipynb\" style=\"text-decoration: none\">&#x22A2;&nbsp;</a><a class=\"ProveItLink\" href=\"../__pv_it/b9d691cd69837b82095d22d2c08ed132738136330/expr.ipynb\"><img src=\"data:image/png;base64,iVBORw0KGgoAAAANSUhEUgAAADMAAAAUCAMAAAAX1vWWAAAAPFBMVEX///8LCwsYGBgNDQ0oKCi6\n",
       "uroyMjJERETMzMwQEBAiIiKYmJju7u5mZmaqqqpUVFSIiIh2dnbc3NwAAACyXdPkAAAAAXRSTlMA\n",
       "QObYZgAAANBJREFUOMvNU0sWwiAMjB/KNxDg/nc1obZqK/jYmQUdIGFmSgAYRi4wG2WZLoGk/pXG\n",
       "6L6CTKlEQjpuaPM+CxmzZNcgGMA7D9Ztu7i0uN9kTPtvB1X5Q7XhFUQzpDERUE7VIjiI2S/KVfqY\n",
       "cpoV9XWzYOlcsxxbIIoTU5/spYGw+3Ec14tr8VKAcltkBfqy+qIwpoEFxU5qjB40FxcauWk8vKQ4\n",
       "mxVpyiFn8j/ctEzC2m/0iJ234fpt48K5+Tg92DhF4/jydZ6igchuRn0+fgMPuMgIfJwzrpMAAAAA\n",
       "SUVORK5CYII=\n",
       "\" style=\"display:inline;vertical-align:middle;\" /></a></span></td></tr>\n",
       "</table>"
      ],
      "text/plain": [
       "\tstep type\trequirements\tstatement\n",
       "0\tgeneralizaton\t1\t|- forall_{x, y | x != y} ((x in {y}) = FALSE)\n",
       "1\tspecialization\t2, 3, 4\t{x != y} |- (x in {y}) = FALSE\n",
       "\tP(_x_) : _x_ = FALSE, x : x in {y}, y : x = y\n",
       "2\ttheorem\t\t|- forall_{P, x, y | P(y) , x = y} P(x)\n",
       "\tproveit.logic.equality.subLeftSideInto\n",
       "3\tspecialization\t5, 6\t{x != y} |- (x = y) = FALSE\n",
       "\tA : x = y\n",
       "4\tspecialization\t7\t|- (x in {y}) = (x = y)\n",
       "\tx : x, y : y\n",
       "5\taxiom\t\t|- forall_{A | [not](A)} (A = FALSE)\n",
       "\tproveit.logic.boolean.negation.negationElim\n",
       "6\tspecialization\t8, 9\t{x != y} |- [not](x = y)\n",
       "\tx : x, y : y\n",
       "7\ttheorem\t\t|- forall_{x, y} ((x in {y}) = (x = y))\n",
       "\tproveit.logic.set_theory.enumeration.singletonDef\n",
       "8\ttheorem\t\t|- forall_{x, y | x != y} [not](x = y)\n",
       "\tproveit.logic.equality.unfoldNotEquals\n",
       "9\tassumption\t\t{x != y} |- x != y"
      ]
     },
     "execution_count": 10,
     "metadata": {},
     "output_type": "execute_result"
    }
   ],
   "source": [
    "%qed"
   ]
  }
 ],
 "metadata": {
  "kernelspec": {
   "display_name": "Python 3",
   "language": "python",
   "name": "python3"
  }
 },
 "nbformat": 4,
 "nbformat_minor": 0
}
