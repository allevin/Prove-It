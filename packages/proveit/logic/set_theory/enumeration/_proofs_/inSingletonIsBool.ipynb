{
 "cells": [
  {
   "cell_type": "markdown",
   "metadata": {
    "collapsed": true,
    "deletable": true,
    "editable": true
   },
   "source": [
    "Proof of <a class=\"ProveItLink\" href=\"../../../../_context_.ipynb\">proveit</a>.<a class=\"ProveItLink\" href=\"../../../_context_.ipynb\">logic</a>.<a class=\"ProveItLink\" href=\"../../_context_.ipynb\">set_theory</a>.<a class=\"ProveItLink\" href=\"../_context_.ipynb\">enumeration</a>.<a href=\"../_theorems_.ipynb#inSingletonIsBool\" class=\"ProveItLink\">inSingletonIsBool</a> theorem\n",
    "========\n",
    "*** see <a href=\"../__pv_it/d5bb7f785830415e08d6beb17e355812e1b93b430/dependencies.ipynb\" class=\"ProveItLink\">dependencies</a> ***"
   ]
  },
  {
   "cell_type": "code",
   "execution_count": 1,
   "metadata": {
    "collapsed": true,
    "deletable": true,
    "editable": true
   },
   "outputs": [
    {
     "name": "stdout",
     "output_type": "stream",
     "text": [
      "Beginning proof of inSingletonIsBool\n"
     ]
    },
    {
     "name": "stdout",
     "output_type": "stream",
     "text": [
      "Recorded 'presuming' information\n",
      "Presuming previous theorems (applied transitively).\n"
     ]
    },
    {
     "data": {
      "text/html": [
       "<strong id=\"inSingletonIsBool\">inSingletonIsBool:</strong> <a class=\"ProveItLink\" href=\"../__pv_it/aac4937d69dd0f1751fc42d87068dcce9469ed4d0/expr.ipynb\"><img src=\"../__pv_it/aac4937d69dd0f1751fc42d87068dcce9469ed4d0/expr.png\" style=\"display:inline;vertical-align:middle;\" /></a><br>(see <a class=\"ProveItLink\" href=\"../__pv_it/aac4937d69dd0f1751fc42d87068dcce9469ed4d0/dependencies.ipynb\">dependencies</a>)<br>"
      ],
      "text/plain": [
       "inSingletonIsBool: forall_{x, y} ((x in {y}) in BOOLEANS)"
      ]
     },
     "execution_count": 1,
     "metadata": {},
     "output_type": "execute_result"
    }
   ],
   "source": [
    "import proveit\n",
    "%proving inSingletonIsBool presuming []"
   ]
  },
  {
   "cell_type": "code",
   "execution_count": 2,
   "metadata": {
    "collapsed": true,
    "deletable": true,
    "editable": true
   },
   "outputs": [],
   "source": []
  }
 ],
 "metadata": {
  "kernelspec": {
   "display_name": "Python 3",
   "language": "python",
   "name": "python3"
  },
  "language_info": {
   "codemirror_mode": {
    "name": "ipython",
    "version": 3
   },
   "file_extension": ".py",
   "mimetype": "text/x-python",
   "name": "python",
   "nbconvert_exporter": "python",
   "pygments_lexer": "ipython3",
   "version": "3.7.0"
  }
 },
 "nbformat": 4,
 "nbformat_minor": 0
}
