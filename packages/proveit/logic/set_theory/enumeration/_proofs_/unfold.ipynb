{
 "cells": [
  {
   "cell_type": "markdown",
   "metadata": {},
   "source": [
    "Proof of <a class=\"ProveItLink\" href=\"../../../../_context_.ipynb\">proveit</a>.<a class=\"ProveItLink\" href=\"../../../_context_.ipynb\">logic</a>.<a class=\"ProveItLink\" href=\"../../_context_.ipynb\">set_theory</a>.<a class=\"ProveItLink\" href=\"../_context_.ipynb\">enumeration</a>.<a href=\"../_theorems_.ipynb#unfold\" class=\"ProveItLink\">unfold</a> theorem\n",
    "========\n",
    "*** see <a href=\"../__pv_it/b4e0e013be878a4c77f8dbfff5095973b7bbdd180/dependencies.ipynb\" class=\"ProveItLink\">dependencies</a> ***"
   ]
  },
  {
   "cell_type": "code",
   "execution_count": 1,
   "metadata": {},
   "outputs": [],
   "source": [
    "import proveit\n",
    "from proveit import defaults\n",
    "from proveit._common_ import x, yy\n",
    "from proveit.logic.set_theory.enumeration._axioms_ import enumSetDef"
   ]
  },
  {
   "cell_type": "code",
   "execution_count": 2,
   "metadata": {},
   "outputs": [
    {
     "name": "stdout",
     "output_type": "stream",
     "text": [
      "Beginning proof of unfold\n",
      "Recorded 'presuming' information\n"
     ]
    },
    {
     "data": {
      "text/html": [
       "<strong id=\"unfold\">unfold:</strong> <a class=\"ProveItLink\" href=\"../__pv_it/602c0ffe74b2f7b1a62bdd6e6c39afe7a40ac0910/expr.ipynb\"><img src=\"data:image/png;base64,iVBORw0KGgoAAAANSUhEUgAAAgAAAAAZBAMAAAC1EIuzAAAAMFBMVEX///8QEBC6urrMzMxUVFRm\n",
       "ZmZERETc3NwyMjKqqqp2dnaIiIiYmJgiIiLu7u4AAAAU9Wx4AAAAAXRSTlMAQObYZgAABbtJREFU\n",
       "WMPtWX1oG2UYf5JLcu3d9RaFOdTNRjZwOMSI2s5NTWlhBWHrQIofdTTsj0wpYycUV5XZTKbdH9oG\n",
       "pDiQsfjHdLMjZjgFP1gPRRSHtgOpUki9go6huGarNHOti+/XXS+X9y7JCCrDB34vl/e599d7f/e8\n",
       "z/u8VwB3253T4Po2f27ayz0J17/1/y+A4SWA8Q8+ygYGL1MitbB52OcMSADyms+4CODhrLcJbRTe\n",
       "9mgNbF4WjFIgAY7j38MuAng4620NBkWFu0hL4kAoT2mkjZpsnpZk6IfnUCvGXQTwcNbbPmWosAbS\n",
       "uO0A7s0BPHc5C9UwfcPQT7QKplwE8HDW225j8DY1jNsW3MyUxz1+VU0GVMM0y9APyrt79+5zS4Ie\n",
       "znrvyEkKnkn7dWhiW9IzJMBRfdK4vfzGIYRRk41nx1YD5MhVKEWBtsGFRGLadRt0d9bZgmkKcazz\n",
       "rR6H76ivAEfy7Bo3ePINnCJtlIngxiRtb9Yai+ySop8sqF2gdhlcAYizanNuUuKJCgPu1K3splP8\n",
       "Ct/qa3DH4wexHSBhP1iA3jgN/EPAwr+FQ4fCnyyDEqYgITqIt4VZsagFF8hcG5MUSIB1oKKLuyjF\n",
       "xu6IvNJYFoA6qzVnuny2YindbV74IhRpGIc3HEs7+34SfsrevxX/uN3MmO0cNpQAAxGTjcO0WboM\n",
       "TYtkrv4wBRKgCWSdhJb6YbeuxDOQsUUAdV6DAL91P2W+Li+z7lgRoTBgS/ldzVm1GIXD+DJGX7XL\n",
       "e5mE8xYbj8m3CHPzZBkJeQokgKzjxPkawEd3XDCUM8ESAaizdgHknS9duCYBAG4tz+5FzY9Wrk2A\n",
       "YErivpcn4ITFxmOKFeDuPJ6rXQA1eR/qKICC06ryQGvWLgB1jrWfQlusf2taXV3GuW4aZnW7ANKp\n",
       "DR3wpTU9u798kCWAL0UB4jyouGNHDtsU2fwvAopdKgBdAmKyiavnADu/2JmChChHnm0iDGg5FUqX\n",
       "AOxCy0kI0yJLiWa+sAtAnJKxBTP+3pBXliBQGhHq5AhMlAiQCcRvhqQpAPNvcxlkCRDSKb6S83Da\n",
       "Wf1choYrTICvaVcHrc9Vq6FPFXgwa7HxmCaSMJIWcC2hJCmwAKM41OOwiQogSdvsAmCnnwQNPD8Y\n",
       "DxSEt0sTm/jmAnRpG/VlASIoBQukYINHTP+mVS6DZjVrhyJoXAqFxaxzM7kI45eYAEdpVwstg+Ym\n",
       "WaP+RRfLbsNk4zINhuViRI6XboPgQ7eFsvBQIpHIKlHxuxm7AD7CUSC/x1O+MDQ5Mrv8J9wAoagt\n",
       "B6zQQJhKJPpgfZvphx9cBvlXmoXQJIHal3nvs7LIPrxmz1UmwMts16Rl0GycNepNtP8Vi43L1Hh2\n",
       "qmiE8JQaIhRYAAWp5rsXfqYRAGtP2wXATrRAyMljjzHXViZA6Kr6B/jsSfAeiKr0MPak6XcKYA2y\n",
       "IgBWMfCqxCguA4gAtBRGT+SSmh+2sXFsLQQX8FztpTC1ORkCGhVAyTg/iMSkpAQDGnRBbxYLIA7B\n",
       "gCEO42YIAvngIjk0MQGE/DG0BXdaSZD4sQADGh0ybB+0vux0wrEjeVTAUAGkbHX7EZ8JVYGopkJz\n",
       "RXmdwRQgcBzUnfiBUNPmFODcxz0ZiOkw8GNzFAsgLEFMEwq4WQLx9f3z5t/DAqh9o58YcC5iCkD8\n",
       "WICYTocU7IMOVXMcHk/vuxHghRFU2J6v4XDNKZSuiGcjeK6kjFCTjk9iEsoBHp/EdPUxvJrxElCW\n",
       "EzT8oqHE0F5WCL2DcgCZHvGTJaBzBi0LILZR8M4JuWlzPp1VCuDCtCPHwhuHOwn56r8JCpq8FLwE\n",
       "wkmkX6vV2wrjem8EZnRuKYynR/ybb0khAs4gW6n0IoOXydFqa7IKTB8w1CCAAuKrB9gclgsbtC6e\n",
       "Rm+lR3M9CxA/JeAM6v5PfxXO1fp/AWfciWOVPl3q/+70/bnv/wYKKvTuUvtnHwAAAABJRU5ErkJg\n",
       "gg==\n",
       "\" style=\"display:inline;vertical-align:middle;\" /></a><br>(see <a class=\"ProveItLink\" href=\"../__pv_it/602c0ffe74b2f7b1a62bdd6e6c39afe7a40ac0910/dependencies.ipynb\">dependencies</a>)<br>"
      ],
      "text/plain": [
       "unfold: forall_{l in Naturals} [forall_{x, y_1,...,y_l | x in {y_1 ,  ...  , y_l}} ((x = y_1) or  ...  or (x = y_l))]"
      ]
     },
     "execution_count": 2,
     "metadata": {},
     "output_type": "execute_result"
    }
   ],
   "source": [
    "%proving unfold presuming []"
   ]
  },
  {
   "cell_type": "code",
   "execution_count": 3,
   "metadata": {},
   "outputs": [
    {
     "data": {
      "text/html": [
       "<strong id=\"defaults.assumptions\">defaults.assumptions:</strong> <a class=\"ProveItLink\" href=\"../__pv_it/56780be11e4ef02dfc341f02e883f3deb28a3dec0/expr.ipynb\"><img src=\"data:image/png;base64,iVBORw0KGgoAAAANSUhEUgAAANUAAAAVBAMAAAAjhrYEAAAAMFBMVEX////c3NwiIiJERESqqqqY\n",
       "mJh2dnZmZmYQEBDu7u4yMjJUVFTMzMyIiIi6uroAAAAs73DqAAAAAXRSTlMAQObYZgAAAtxJREFU\n",
       "SMetlk1oE0EUx/9rNmnW7KYBb3qorCDFg9RDDwpK7ipED1UvmhZRWyiWHnrwi1D1pnapIKEgCYVS\n",
       "ejIqgpSgAaFUo7gXD4pi6kmKYNriB5Ia38zsZiekG1h1YWfe7vzn/XbevJlZ4G+uY6kg6oV+14rb\n",
       "gVGT6WD6xSRwkhllYOB3U9PU2j4Lo6tJ374fA35bR57uEhlzQLja3Nar9wBV/77nArIiGSqIZ9iC\n",
       "K18PSh+AzH9m9QFRi24xZdo70+TUJ3OxUivr7rS56x9YWWCZqq4Sf/XihNNWLGtzLSx9xpLHNXQd\n",
       "MNsSPAVnhZIYo+oUf6PsdVVF1X7mspTh+4cvM2OLJccwMjKRUOttB+MpOCsyghmqHvI3oUSDhSth\n",
       "22HdwdHUODP2eG4uUESUeqJjDSyJfC6h0J5aTu6pedyi6iZvvA2PFbOKDitNGX6ITabnVac+ryK/\n",
       "sGldv7jdlyUU+MTsWbaOM6Clpdd442fTdHKjCK0w5bAsZ9TxcWrluaE/ZtMbXUeuBtWf5SjO8pBR\n",
       "9PQqYxnCbVkaFxb0Rm6IUeuFRnP8BhWvV/C12pYlFGyOsBOcdY2oBT7tkzIrnHRjptSgsRhKXudZ\n",
       "PmVwPt+WJRQrcOaLYtgLdKb4/hZLSSz093AEjhhVvGXGI8/LAPOUx720YLEv1SAbvOAKHh6eh+E8\n",
       "i2fnc76Wtd2urwNiD8uRI/VbKKPw5slK077RlTHqFc7SVukxJxui4AqjR8p5yhNjTCydrZeEq+Wf\n",
       "JNDyyNL4tf2DZ96IWM6WZJbavaNuCdYELZYs63IVwuA9hSJku6zNFUQTXmwOTptNO+NSU/zVeXmP\n",
       "+gJaXiKG8UTLXC25iuhLaY8KtzmLUv57L+0IXSsOK7xhT6HIGS5rWJwpQVnHKe7fle4KlKEfth9L\n",
       "KGKnnfNLYxHb5osyfM9lAoyag+6jvXFPT7FIaRVjgVaC/wOgLxn4f+M98Ad+ftxA8L4ozgAAAABJ\n",
       "RU5ErkJggg==\n",
       "\" style=\"display:inline;vertical-align:middle;\" /></a><br>"
      ],
      "text/plain": [
       "defaults.assumptions: (l in Naturals , x in {y_1 ,  ...  , y_l})"
      ]
     },
     "execution_count": 3,
     "metadata": {},
     "output_type": "execute_result"
    }
   ],
   "source": [
    "defaults.assumptions = unfold.allConditions()"
   ]
  },
  {
   "cell_type": "code",
   "execution_count": 4,
   "metadata": {},
   "outputs": [
    {
     "data": {
      "text/html": [
       "<span style=\"font-size:20px;\"> <a class=\"ProveItLink\" href=\"../_axioms_.ipynb#enumSetDef\" style=\"text-decoration: none\">&#x22A2;&nbsp;</a><a class=\"ProveItLink\" href=\"../__pv_it/2f301afc2ecec194458da93f1fe7422f48fb37bc0/expr.ipynb\"><img src=\"data:image/png;base64,iVBORw0KGgoAAAANSUhEUgAAAlYAAAAXBAMAAAA7EBzMAAAAMFBMVEX///8QEBC6urrMzMxUVFRm\n",
       "ZmZERETc3NwyMjKqqqp2dnaIiIiYmJgiIiLu7u4AAAAU9Wx4AAAAAXRSTlMAQObYZgAABitJREFU\n",
       "WMPtWH2IVFUUPzszu2+defOckoooc5cCgxBGsi+pdjFQCExBpA8Lt4IVsfL9Ebkq4mSa/WG2UIIQ\n",
       "4jYgsm1sL1L71B3qj8QlWQwirN1GEBHJXA2aiM3tnnPu+773zUxEBHXgd5m599xzf+/37se5D+Cf\n",
       "MvPJZrwXHoR/n1W1LUdfqTYd7Q6JuFmnm4s0v1/I2xGvTzmMRPuiGb514iAJxPFTMIZ1oyrHckKb\n",
       "xtLdDIXlJpvTqrUkihXx+gUSyZ2LjfOtG2eFRBkGsW63Wit9m8baqwyFZQvNaUX+7fH63Q1RKtEU\n",
       "pJ9x2Wi2pl2+deO0S5ThJVEaPWqt9G0a+0zi79LKHIhNT4dRx05gkSmC0vkhl6qOazgOkkCUSdrW\n",
       "frVW+jaN3SLh71Ifj4+X/rpWVqxTS5VRx87Q1MHXnI87343FBES56uIgCUQZzIMbNmwBtVb6NrWl\n",
       "Sgzf7j0ZfPbsyxXIjyUq5HmwtmujDrdLJPYFaKM3vFNgj2KnsAFmLIcoV1UkirOWUQb4tbf3tEYr\n",
       "fZtmKxxgwKZDGw/j3DdeCM2TAy012J+4x/serNWBqMMTEu4Iyr6iN0pBOu2MD4I6oV7E1Rha8vYq\n",
       "PYvlksQB0kOs3jU6rbRtmq29wrAGzB9a8L202cFzzSpsrcHqpP0v4GES173U9TUyOrN2MbwRHqOm\n",
       "7eG+Qg6aMWL9pVXDTch1iFwvwNeV2aCLRHH2MoQet4ElHmNZVaUVtTVuLR2MrMgQZuDGei6QL3VA\n",
       "2nm/BD86zFN9hrPH2avi9w6s6Ix6XMvwRoj15eipgjwIMh3qI2iRy3cARuBNLQuK08kQeuQhJ+Sd\n",
       "J/eXlR2566qeVtzWsM3sYFiQ4dfZOT4u9/YFs7Cc41jTxbuWJoQgjxTNSZxCXdH2KwxvhFhfjp7m\n",
       "tTgG51WD5OUUQK5VWJzAguJ0MYQeuQoeFWI9WodXVsyeYRj25xW3Na2VeGOOlzhK6xSzID1tp6YB\n",
       "9iUkh+RBuwRtlDqtvBFifTm61OpxeE+5r/ZnKy5fgJsSWES0skoLeA84MvfnqjnaGtSK2xpfg/0M\n",
       "gK1Fujxd9Nsy4k2alyH7W6JW7IH7CO9XtAZbx8loIt0o4Y7wFDV96/fl6LwGoQ+Up65Rynt8wfhF\n",
       "zFJVJGQRWYOwBtduDUx8meZ99zgBrbhtaNEhMSlSSwesm2NZQqiyrcIw7RHI4ZNk/BWcFaxNQeB3\n",
       "fhrLvYt6P6hgj5m2ew4ejw74HMMbIaizHx1M3mYz9zsQH0icWaMe36/E5esYqCIhC4pznIF67MF1\n",
       "WeD7hFkc/jKoFbZlq4vxBVxsnzSnIBMmSJXpXeCf1Ij9ladhM51rp0I5g3EZRq7w01wSga0/gj+o\n",
       "YI/5+pxBnt/eCMHZ4keXOQOknye64YEwG51w+c6YaisYjjLS/HjOQCs/1wMLWats9pGAVtiWooMa\n",
       "Nm7tydTS79ihqFQJz7qzbIxx7tMLQzyj+laE8vB9s9df5ac5UxPMr8cfPfKHNcd2PY54Wm2LajWP\n",
       "4Y8QMD86tMvjbwenIqGBsHm5y9daN/zu56CMdMSNs42BephC+zYHHujt7XXMonFyIqCVSe+lRv9H\n",
       "+lsKkA9rxZXeTeQGCd/eej1wx0kVKW2hp5kbz/pt12Ndwh3HZqhuDYHoZ2Tdg5ojpOrz1UZaF7vj\n",
       "SAp3wlmeV3DrsYBWHLlAl/L11UvdMa2w0r9en3Cvrer73f5JY9qWTxPPRUxwPWYVpVbZ2GHnXmQV\n",
       "Fow+1NhhpOHqsxiSJBCuHpdykLFZK3M4olVXtpSFPhuWwWoHteqzjd3QV8WCK33uCd9kTPHsIwNb\n",
       "MJdM0Io8rElHfr8638w3mUD0RjNoDVePheWSOB/QIzMI1jN4LRVFd0Src5+sGoauCvR9N6eIWnVV\n",
       "0jXosrHgSj83NroZquvL93j4nxbkNr0h7l+5uIcDrsfD/ZTnAyyJe70oocia/OgZuzGtNFw9FhRn\n",
       "iUQ5uErEfhX6hvxN8F/FehSuAVqDlUhl/ievYrOEamINNv29Paf4vImHllHvA9aHjQ6zuX4cJIE4\n",
       "eqrhr8N2bqr1CqQ/GBQ/I5WtH8H/FtpMjFe3296+Eqv8L9ifN0hHukKBZYgAAAAASUVORK5CYII=\n",
       "\" style=\"display:inline;vertical-align:middle;\" /></a></span>"
      ],
      "text/plain": [
       "|- forall_{l in Naturals} [forall_{x, y_1,...,y_l} ((x in {y_1 ,  ...  , y_l}) = ((x = y_1) or  ...  or (x = y_l)))]"
      ]
     },
     "execution_count": 4,
     "metadata": {},
     "output_type": "execute_result"
    }
   ],
   "source": [
    "enumSetDef"
   ]
  },
  {
   "cell_type": "code",
   "execution_count": 5,
   "metadata": {},
   "outputs": [],
   "source": [
    "#enumSetDef.specialize({x:x, yy:yy})"
   ]
  },
  {
   "cell_type": "code",
   "execution_count": null,
   "metadata": {},
   "outputs": [],
   "source": []
  },
  {
   "cell_type": "code",
   "execution_count": 6,
   "metadata": {},
   "outputs": [],
   "source": [
    "#%qed"
   ]
  },
  {
   "cell_type": "code",
   "execution_count": null,
   "metadata": {},
   "outputs": [],
   "source": []
  }
 ],
 "metadata": {
  "kernelspec": {
   "display_name": "Python 3",
   "language": "python",
   "name": "python3"
  }
 },
 "nbformat": 4,
 "nbformat_minor": 0
}
