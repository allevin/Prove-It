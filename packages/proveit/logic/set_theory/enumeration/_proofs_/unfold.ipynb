{
 "cells": [
  {
   "cell_type": "markdown",
   "metadata": {
    "collapsed": true
   },
   "source": [
    "Proof of <a class=\"ProveItLink\" href=\"../../../../_context_.ipynb\">proveit</a>.<a class=\"ProveItLink\" href=\"../../../_context_.ipynb\">logic</a>.<a class=\"ProveItLink\" href=\"../../_context_.ipynb\">set_theory</a>.<a class=\"ProveItLink\" href=\"../_context_.ipynb\">enumeration</a>.<a href=\"../_theorems_.ipynb#unfold\" class=\"ProveItLink\">unfold</a> theorem\n",
    "========\n",
    "*** see <a href=\"../__pv_it/b4e0e013be878a4c77f8dbfff5095973b7bbdd180/dependencies.ipynb\" class=\"ProveItLink\">dependencies</a> ***"
   ]
  },
  {
   "cell_type": "code",
   "execution_count": 1,
   "metadata": {},
   "outputs": [
    {
     "name": "stdout",
     "output_type": "stream",
     "text": [
      "Beginning proof of unfold\n",
      "Recorded 'presuming' information\n",
      "Presuming proveit.logic.equality.rhsViaEquivalence theorem (applied transitively).\n"
     ]
    },
    {
     "data": {
      "text/html": [
       "<strong id=\"unfold\">unfold:</strong> <a class=\"ProveItLink\" href=\"../__pv_it/26a32c277b286166c0647a4b5245bdc9e0f8cedc0/expr.ipynb\"><img src=\"../__pv_it/26a32c277b286166c0647a4b5245bdc9e0f8cedc0/expr.png\" style=\"display:inline;vertical-align:middle;\" /></a><br>(see <a class=\"ProveItLink\" href=\"../__pv_it/26a32c277b286166c0647a4b5245bdc9e0f8cedc0/dependencies.ipynb\">dependencies</a>)<br>"
      ],
      "text/plain": [
       "unfold: forall_{l in Naturals} [forall_{x, y_1,...,y_l | x in {y_1 ,  ...  , y_l}} ((x = y_1) or  ...  or (x = y_l))]"
      ]
     },
     "execution_count": 1,
     "metadata": {},
     "output_type": "execute_result"
    }
   ],
   "source": [
    "import proveit\n",
    "from proveit import defaults\n",
    "from proveit._common_ import x\n",
    "from proveit.logic.set_theory.enumeration._axioms_ import enumSetDef\n",
    "%proving unfold presuming [proveit.logic.equality.rhsViaEquivalence]"
   ]
  },
  {
   "cell_type": "code",
   "execution_count": 2,
   "metadata": {},
   "outputs": [
    {
     "data": {
      "text/html": [
       "<strong id=\"defaults.assumptions\">defaults.assumptions:</strong> <a class=\"ProveItLink\" href=\"../__pv_it/ab6c502f2118924077f59121a0ba6dde27929bf30/expr.ipynb\"><img src=\"../__pv_it/ab6c502f2118924077f59121a0ba6dde27929bf30/expr.png\" style=\"display:inline;vertical-align:middle;\" /></a><br>"
      ],
      "text/plain": [
       "defaults.assumptions: (l in Naturals , x in {y_1 ,  ...  , y_l})"
      ]
     },
     "execution_count": 2,
     "metadata": {},
     "output_type": "execute_result"
    }
   ],
   "source": [
    "defaults.assumptions = unfold.conditions + unfold.instanceExpr.conditions"
   ]
  },
  {
   "cell_type": "code",
   "execution_count": 3,
   "metadata": {},
   "outputs": [
    {
     "data": {
      "text/html": [
       "<span style=\"font-size:20px;\"> &#x22A2;&nbsp;<a class=\"ProveItLink\" href=\"../__pv_it/7fb8957fb3850f9c84beffbc8395876002e27f7f0/expr.ipynb\"><img src=\"../__pv_it/7fb8957fb3850f9c84beffbc8395876002e27f7f0/expr.png\" style=\"display:inline;vertical-align:middle;\" /></a></span>"
      ],
      "text/plain": [
       "|= forall_{l in Naturals} [forall_{x, y_1,...,y_l} ((x in {y_1 ,  ...  , y_l}) = ((x = y_1) or  ...  or (x = y_l)))]"
      ]
     },
     "execution_count": 3,
     "metadata": {},
     "output_type": "execute_result"
    }
   ],
   "source": [
    "enumSetDef"
   ]
  },
  {
   "cell_type": "code",
   "execution_count": 4,
   "metadata": {},
   "outputs": [
    {
     "data": {
      "text/html": [
       "<strong id=\"enumSetDefSpec\">enumSetDefSpec:</strong> <span style=\"font-size:20px;\"><a class=\"ProveItLink\" href=\"../__pv_it/b1067e3894f428f95253f7b7181709cc7ac5bb630/expr.ipynb\"><img src=\"../__pv_it/b1067e3894f428f95253f7b7181709cc7ac5bb630/expr.png\" style=\"display:inline;vertical-align:middle;\" /></a> &#x22A2;&nbsp;<a class=\"ProveItLink\" href=\"../__pv_it/52a3fbc4be45f1de0b18307ce1cd5c88aafed1550/expr.ipynb\"><img src=\"../__pv_it/52a3fbc4be45f1de0b18307ce1cd5c88aafed1550/expr.png\" style=\"display:inline;vertical-align:middle;\" /></a></span><br>"
      ],
      "text/plain": [
       "enumSetDefSpec: {l in Naturals} |= (x in {y_1 ,  ...  , y_l}) = ((x = y_1) or  ...  or (x = y_l))"
      ]
     },
     "execution_count": 4,
     "metadata": {},
     "output_type": "execute_result"
    }
   ],
   "source": [
    "enumSetDefSpec = enumSetDef.specialize({x:x})"
   ]
  },
  {
   "cell_type": "code",
   "execution_count": 5,
   "metadata": {},
   "outputs": [
    {
     "data": {
      "text/html": [
       "<span style=\"font-size:20px;\"><a class=\"ProveItLink\" href=\"../__pv_it/c4f00ccccf9bd2705bd8cfd4a750f6eafc98b25b0/expr.ipynb\"><img src=\"../__pv_it/c4f00ccccf9bd2705bd8cfd4a750f6eafc98b25b0/expr.png\" style=\"display:inline;vertical-align:middle;\" /></a> &#x22A2;&nbsp;<a class=\"ProveItLink\" href=\"../../__pv_it/1bdb71ef48b176f15b182c0858b70ab6d2eb77e90/expr.ipynb\"><img src=\"../../__pv_it/1bdb71ef48b176f15b182c0858b70ab6d2eb77e90/expr.png\" style=\"display:inline;vertical-align:middle;\" /></a></span>"
      ],
      "text/plain": [
       "{l in Naturals , x in {y_1 ,  ...  , y_l}} |= (x = y_1) or  ...  or (x = y_l)"
      ]
     },
     "execution_count": 5,
     "metadata": {},
     "output_type": "execute_result"
    }
   ],
   "source": [
    "enumSetDefSpec.deriveRightViaEquivalence()"
   ]
  },
  {
   "cell_type": "code",
   "execution_count": 6,
   "metadata": {},
   "outputs": [
    {
     "data": {
      "text/html": [
       "<table><tr><th>&nbsp;</th><th>step type</th><th>requirements</th><th>statement</th></tr>\n",
       "<tr><td>0</td><td>generalizaton</td><td>1</td><td><span style=\"font-size:20px;\"> &#x22A2;&nbsp;<a class=\"ProveItLink\" href=\"../__pv_it/26a32c277b286166c0647a4b5245bdc9e0f8cedc0/expr.ipynb\"><img src=\"../__pv_it/26a32c277b286166c0647a4b5245bdc9e0f8cedc0/expr.png\" style=\"display:inline;vertical-align:middle;\" /></a></span></td></tr>\n",
       "<tr><td>1</td><td>specialization</td><td>2, 3, 4</td><td><span style=\"font-size:20px;\"><a class=\"ProveItLink\" href=\"../__pv_it/c4f00ccccf9bd2705bd8cfd4a750f6eafc98b25b0/expr.ipynb\"><img src=\"../__pv_it/c4f00ccccf9bd2705bd8cfd4a750f6eafc98b25b0/expr.png\" style=\"display:inline;vertical-align:middle;\" /></a> &#x22A2;&nbsp;<a class=\"ProveItLink\" href=\"../../__pv_it/1bdb71ef48b176f15b182c0858b70ab6d2eb77e90/expr.ipynb\"><img src=\"../../__pv_it/1bdb71ef48b176f15b182c0858b70ab6d2eb77e90/expr.png\" style=\"display:inline;vertical-align:middle;\" /></a></span></td></tr>\n",
       "<tr><td>&nbsp;</td><td colspan=4 style=\"text-align:left\"><span style=\"font-size:20px;\"><a class=\"ProveItLink\" href=\"../__pv_it/cfabca9084c39e4eb784f225fc1855c2a41fae380/expr.ipynb\"><img src=\"../__pv_it/cfabca9084c39e4eb784f225fc1855c2a41fae380/expr.png\" style=\"display:inline;vertical-align:middle;\" /></a>, <a class=\"ProveItLink\" href=\"../__pv_it/7b02575400c6faef079f7f2726df5edffe794bdc0/expr.ipynb\"><img src=\"../__pv_it/7b02575400c6faef079f7f2726df5edffe794bdc0/expr.png\" style=\"display:inline;vertical-align:middle;\" /></a></span></td></tr><tr><td>2</td><td>theorem</td><td></td><td><span style=\"font-size:20px;\"> &#x22A2;&nbsp;<a class=\"ProveItLink\" href=\"../../../equality/__pv_it/20f6197d92a4d6f4184131bc4d9ee6adbfe00fd00/expr.ipynb\"><img src=\"../../../equality/__pv_it/20f6197d92a4d6f4184131bc4d9ee6adbfe00fd00/expr.png\" style=\"display:inline;vertical-align:middle;\" /></a></span></td></tr>\n",
       "<tr><td>&nbsp;</td><td colspan=4 style-\"text-align:left\"><a class=\"ProveItLink\" href=\"../../../equality/_proofs_/rhsViaEquivalence.ipynb\">proveit.logic.equality.rhsViaEquivalence</a></td></tr><tr><td>3</td><td>assumption</td><td></td><td><span style=\"font-size:20px;\"><a class=\"ProveItLink\" href=\"../__pv_it/518e0219b7bab498e91b0ff748c8206084aca5490/expr.ipynb\"><img src=\"../__pv_it/518e0219b7bab498e91b0ff748c8206084aca5490/expr.png\" style=\"display:inline;vertical-align:middle;\" /></a> &#x22A2;&nbsp;<a class=\"ProveItLink\" href=\"../__pv_it/8c74c19fa1e12e706c5d50593af82e2367d572240/expr.ipynb\"><img src=\"../__pv_it/8c74c19fa1e12e706c5d50593af82e2367d572240/expr.png\" style=\"display:inline;vertical-align:middle;\" /></a></span></td></tr>\n",
       "<tr><td>4</td><td>specialization</td><td>5, 6</td><td><span style=\"font-size:20px;\"><a class=\"ProveItLink\" href=\"../__pv_it/b1067e3894f428f95253f7b7181709cc7ac5bb630/expr.ipynb\"><img src=\"../__pv_it/b1067e3894f428f95253f7b7181709cc7ac5bb630/expr.png\" style=\"display:inline;vertical-align:middle;\" /></a> &#x22A2;&nbsp;<a class=\"ProveItLink\" href=\"../__pv_it/52a3fbc4be45f1de0b18307ce1cd5c88aafed1550/expr.ipynb\"><img src=\"../__pv_it/52a3fbc4be45f1de0b18307ce1cd5c88aafed1550/expr.png\" style=\"display:inline;vertical-align:middle;\" /></a></span></td></tr>\n",
       "<tr><td>&nbsp;</td><td colspan=4 style=\"text-align:left\"><span style=\"font-size:20px;\"><a class=\"ProveItLink\" href=\"../__pv_it/f03262fa9896055ce05b69924ca0751c893208090/expr.ipynb\"><img src=\"../__pv_it/f03262fa9896055ce05b69924ca0751c893208090/expr.png\" style=\"display:inline;vertical-align:middle;\" /></a>, <a class=\"ProveItLink\" href=\"../__pv_it/3cecf9784a312269cc7824e988a0e8de1fc7399b0/expr.ipynb\"><img src=\"../__pv_it/3cecf9784a312269cc7824e988a0e8de1fc7399b0/expr.png\" style=\"display:inline;vertical-align:middle;\" /></a></span></td></tr><tr><td>5</td><td>axiom</td><td></td><td><span style=\"font-size:20px;\"> &#x22A2;&nbsp;<a class=\"ProveItLink\" href=\"../__pv_it/7fb8957fb3850f9c84beffbc8395876002e27f7f0/expr.ipynb\"><img src=\"../__pv_it/7fb8957fb3850f9c84beffbc8395876002e27f7f0/expr.png\" style=\"display:inline;vertical-align:middle;\" /></a></span></td></tr>\n",
       "<tr><td>&nbsp;</td><td colspan=4 style-\"text-align:left\"><a class=\"ProveItLink\" href=\"../_axioms_.ipynb#enumSetDef\">proveit.logic.set_theory.enumeration.enumSetDef</a></td></tr><tr><td>6</td><td>assumption</td><td></td><td><span style=\"font-size:20px;\"><a class=\"ProveItLink\" href=\"../__pv_it/b1067e3894f428f95253f7b7181709cc7ac5bb630/expr.ipynb\"><img src=\"../__pv_it/b1067e3894f428f95253f7b7181709cc7ac5bb630/expr.png\" style=\"display:inline;vertical-align:middle;\" /></a> &#x22A2;&nbsp;<a class=\"ProveItLink\" href=\"../__pv_it/6873948e5a0eef0a76696ee7b77bdb2f9766932b0/expr.ipynb\"><img src=\"../__pv_it/6873948e5a0eef0a76696ee7b77bdb2f9766932b0/expr.png\" style=\"display:inline;vertical-align:middle;\" /></a></span></td></tr>\n",
       "</table>"
      ],
      "text/plain": [
       "\tstep type\trequirements\tstatement\n",
       "0\tgeneralizaton\t1\t|= forall_{l in Naturals} [forall_{x, y_1,...,y_l | x in {y_1 ,  ...  , y_l}} ((x = y_1) or  ...  or (x = y_l))]\n",
       "1\tspecialization\t2, 3, 4\t{l in Naturals , x in {y_1 ,  ...  , y_l}} |= (x = y_1) or  ...  or (x = y_l)\n",
       "\tP -> (x in {y_1 ,  ...  , y_l}), Q -> ((x = y_1) or  ...  or (x = y_l))\n",
       "2\ttheorem\t\t|= forall_{P, Q | P , P = Q} Q\n",
       "\tproveit.logic.equality.rhsViaEquivalence\n",
       "3\tassumption\t\t{x in {y_1 ,  ...  , y_l}} |= x in {y_1 ,  ...  , y_l}\n",
       "4\tspecialization\t5, 6\t{l in Naturals} |= (x in {y_1 ,  ...  , y_l}) = ((x = y_1) or  ...  or (x = y_l))\n",
       "\t{l -> l}, {x -> x , y -> y}\n",
       "5\taxiom\t\t|= forall_{l in Naturals} [forall_{x, y_1,...,y_l} ((x in {y_1 ,  ...  , y_l}) = ((x = y_1) or  ...  or (x = y_l)))]\n",
       "\tproveit.logic.set_theory.enumeration.enumSetDef\n",
       "6\tassumption\t\t{l in Naturals} |= l in Naturals"
      ]
     },
     "execution_count": 6,
     "metadata": {},
     "output_type": "execute_result"
    }
   ],
   "source": [
    "%qed"
   ]
  },
  {
   "cell_type": "code",
   "execution_count": null,
   "metadata": {},
   "outputs": [],
   "source": []
  }
 ],
 "metadata": {
  "kernelspec": {
   "display_name": "Python 3",
   "language": "python",
   "name": "python3"
  },
  "language_info": {
   "codemirror_mode": {
    "name": "ipython",
    "version": 3
   },
   "file_extension": ".py",
   "mimetype": "text/x-python",
   "name": "python",
   "nbconvert_exporter": "python",
   "pygments_lexer": "ipython3",
   "version": "3.7.0"
  }
 },
 "nbformat": 4,
 "nbformat_minor": 1
}
