{
 "cells": [
  {
   "cell_type": "markdown",
   "metadata": {},
   "source": [
    "Proof of <a class=\"ProveItLink\" href=\"../../../../_context_.ipynb\">proveit</a>.<a class=\"ProveItLink\" href=\"../../../_context_.ipynb\">logic</a>.<a class=\"ProveItLink\" href=\"../../_context_.ipynb\">set_theory</a>.<a class=\"ProveItLink\" href=\"../_context_.ipynb\">enumeration</a>.<a href=\"../_theorems_.ipynb#fold\" class=\"ProveItLink\">fold</a> theorem\n",
    "========\n",
    "*** see <a href=\"../__pv_it/70f837faf9d82074d76a0d975ccf34cb140bbf6c0/dependencies.ipynb\" class=\"ProveItLink\">dependencies</a> ***"
   ]
  },
  {
   "cell_type": "code",
   "execution_count": 1,
   "metadata": {},
   "outputs": [
    {
     "name": "stdout",
     "output_type": "stream",
     "text": [
      "Beginning proof of fold\n",
      "Recorded 'presuming' information\n",
      "Presuming previous theorem (applied transitively).\n"
     ]
    },
    {
     "data": {
      "text/html": [
       "<strong id=\"fold\">fold:</strong> <a class=\"ProveItLink\" href=\"../__pv_it/3aa8bf4e48526acf363e6a1116de77e021c48e6b0/expr.ipynb\"><img src=\"data:image/png;base64,iVBORw0KGgoAAAANSUhEUgAAAeAAAAAZBAMAAAAbEODDAAAAMFBMVEX///8QEBC6urrMzMxUVFRm\n",
       "ZmZERETc3NwyMjKqqqp2dnaIiIiYmJgiIiLu7u4AAAAU9Wx4AAAAAXRSTlMAQObYZgAABXxJREFU\n",
       "WMPdmH9oG2UYx5/kklySu9yiojKdNLCBgogRhc0Naazg+oeu+8PhjzEWFdKCDg8cbadII/jrj67L\n",
       "P8M/9ofpYNhajBE7pWPYaPWfDtYNREcx5QpahlpbNm3UVuvzPu8l915yF3c4Ce6FXO597nt37+d9\n",
       "n/d5n3sB3MuBsg7XVvGXZ5tdPgfXXjn4fwX+suRBLL2nW8BGM2Ct9U5YdDQv5j09RdqIh885MA3j\n",
       "GRfgGPtTiy0Evs/ZPOnxMU/gL5gk4FFWH3IBjubwL2y0ENi5ZTDs8TGkzxJwLx7ltAswXehtIa9S\n",
       "vIrA0wTMxi+YcwtarIOfbCGwz+ZdPx4uX/gXwPMErL7b1/eKa5Se7uvra2WwvsMWegYNEWBkE0C5\n",
       "6d2WgoBDOVqWVjKZWVfgDZnMgbzXVr7oZIx4EFvap/D30vihk+TZvYY4YtHdbXpkvVk7BMUwrxPw\n",
       "QwDdoHUZjsCBJISuPN1K0FF27CHJud8cxZZ2EEDLq9/6yMu6bVF3Xl7XgysgpV2bwxWENkP9mCXg\n",
       "LaDhyV1cs21PQrnRsID9Kbh45UPL3x1yvnjc0Rpqrr0exwWU5QhbUTQLTUL7juhvEFuVHnOfcVxB\n",
       "aOHdbE2PE3AMFMxaTuADT+4pqekCFMRM6xyc9gp8zPkidhxzzFrY5ZVjblpeLmGzIMCf67+tXOZB\n",
       "S3qQdYBvFZYuQ6RJiOGKE+y0BxmlZQJWSjGDfOfj23821DNBO/BpmPMK3O18EWfHBLpwqlrnlW43\n",
       "bQ0Y2807SUpZ+dcNeGivwN3LTYG5AtEgxiaJCaxlWTZTAZWNunr/1qIN+CJ7TXT8TpzpsGUW5htS\n",
       "WNHIgdFxxjrGzSb7H81rm6pLKvpvQBecGSvO4tryy1JCGEhSAqwJaJ34m4nDB9mmwFxRAXMOmy4N\n",
       "3R0IH4cwpZHJwpQNOHQQI1EhkN7IXngEZkqwy/ZM0ygAS1mIGg/7cp1vYSkuhpfVNQgYFA6UhPC1\n",
       "QhUnMZCWl+exSfokKBRWHrFe+z6DyMKRPAem/oD6E65ANDNKqzxowVG8RUnDdg4cje4SgSP7WPQN\n",
       "MyT57RXo0rffbI+yZNxWsoCxsX5yIyqHBtKBijSsU0dg2NlpdRWrOIkHScsLzr93Sk/Dy/yLIWFL\n",
       "JAbiynqCgLU/sbrUcMIVSrpuWaIpEirCA5lMpqgm5bNzts/DW9lhAzmi8jtcB/BNXfLHjKGkBRxJ\n",
       "0Qyppfk5XxxiHBiOW1OYV5zEzwrAGGEXTv0wxvtTfj0pAkfOf71ucOA2fP48vl27CcwTZuGKULEK\n",
       "HE5wYBWH33cvfMdHGDZ/agM+yw73AHtV6C/tlwZgMvoEl/an2QyRoIe8FF4wllIEzOwLQWFRZxUn\n",
       "cZxreZy1JQGRTjG13Ay4DHOX9jfkCmQhBaLZUktelhQeThBYLdRvAEjLI5CX34TAcnCVAeNpvyEP\n",
       "sYNp7BWAMba0R7PR6kO6YH+RgFUMlNEvcJyG+N1UcRCzDxa1mnmoedfcGHOogYoJrDYImIUrEM0E\n",
       "HhOAA6OgPcNyVzyk6oG1546eMqQ1kA+/epkB42m7LlXYwTROi1F6DhYm9tZ6rf9CW5KAg+hQGt7P\n",
       "b6zwioOYMQYT//B5+BnOpT/k8wmQR34tugFzRWDU/B7WsnVbPFGcw022eFT4XscZxlxarTd2iMAT\n",
       "tij+OJv3DJhWAZvr6Y7iQMLUNtuDWsSW7isXxCTGXshSU7DMjLuwhz2trTBZ2p+AHbfk8LTOOCdE\n",
       "aViwxbS14CWQPhx1S8AaxbGfRK3s8kE8nfO8p/WRx028EvT37Kye1hn36gJwRExO5DdeM0c15fiO\n",
       "RnHwEzftf75rWfa6L222c8rxW81lo2jKg/Yq7Et/9TcQlOmHuk717gAAAABJRU5ErkJggg==\n",
       "\" style=\"display:inline;vertical-align:middle;\" /></a><br>(see <a class=\"ProveItLink\" href=\"../__pv_it/3aa8bf4e48526acf363e6a1116de77e021c48e6b0/dependencies.ipynb\">dependencies</a>)<br>"
      ],
      "text/plain": [
       "fold: forall_{l in Naturals} [forall_{x, y_1,...,y_l | (x = y_1) or  ...  or (x = y_l)} (x in {y_1 ,  ...  , y_l})]"
      ]
     },
     "execution_count": 1,
     "metadata": {},
     "output_type": "execute_result"
    }
   ],
   "source": [
    "import proveit\n",
    "%proving fold presuming []"
   ]
  },
  {
   "cell_type": "code",
   "execution_count": null,
   "metadata": {},
   "outputs": [],
   "source": []
  }
 ],
 "metadata": {
  "kernelspec": {
   "display_name": "Python 3",
   "language": "python",
   "name": "python3"
  }
 },
 "nbformat": 4,
 "nbformat_minor": 0
}
