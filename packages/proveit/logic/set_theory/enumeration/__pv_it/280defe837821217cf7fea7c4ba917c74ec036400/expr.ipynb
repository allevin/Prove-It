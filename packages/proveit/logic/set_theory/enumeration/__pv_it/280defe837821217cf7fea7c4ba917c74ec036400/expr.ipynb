{
 "cells": [
  {
   "cell_type": "markdown",
   "metadata": {},
   "source": [
    "Expression of type <a class=\"ProveItLink\" href=\"../../../../../../../doc/html/api/proveit.logic.Equals.html\">Equals</a>\n",
    "=======================\n",
    "# from context <a class=\"ProveItLink\" href=\"../../_context_.ipynb\">proveit.logic.set_theory.enumeration</a>"
   ]
  },
  {
   "cell_type": "code",
   "execution_count": 1,
   "metadata": {},
   "outputs": [],
   "source": [
    "# import Expression classes needed to build the expression\n",
    "from proveit._common_ import x, y\n",
    "from proveit.logic import Equals, InSet, Set, TRUE"
   ]
  },
  {
   "cell_type": "code",
   "execution_count": 2,
   "metadata": {},
   "outputs": [
    {
     "data": {
      "text/html": [
       "<strong id=\"expr\">expr:</strong> <a class=\"ProveItLink\" href=\"expr.ipynb\"><img src=\"data:image/png;base64,iVBORw0KGgoAAAANSUhEUgAAAH4AAAAVBAMAAAByPkciAAAAMFBMVEX////c3NwiIiJERESqqqqY\n",
       "mJh2dnZmZmYQEBDu7u4yMjJUVFTMzMyIiIi6uroAAAAs73DqAAAAAXRSTlMAQObYZgAAAapJREFU\n",
       "OMtjYMAFwgMg9LFEBryA7wJW4UkJMNYJBwaGONz6T2MXvg9nsS8A4gPo8kVKIKDMwLASu/4MOIut\n",
       "AUgswKLkOIjgvUCU/jBc+jkmIAvNXaSkhVX/DFz6XyGL8CydgMN+Zgcc+suAWOy2yHWwN4QnILuf\n",
       "Mz2BQX4CRD9bAQ79S4HqElhVORRAHEOEZBVQD98HUDSwfgByWcABWLUKBFYj6+8DqmPg/cACiiBO\n",
       "A4RPgOJH2BUYjIHs5aBU0oDD/n9AbQzcEI18TcAoBYcfzw6geRM4LjD8Bfkd6EaeD7j1AyMBEok8\n",
       "GxCpsgdI+E/g+QOk1Bjw6G8BEfIHGEAhx6mAkNwFDgPeBqj/Ie6HJzqEflOgAoH7DLzgkN+K0J8E\n",
       "9jjzBmj8sS7AYX860JkBFgyykEzzACX9VTO8D2AgEH+PGBgmX5uWC8msjMsPIOuffLdeAKqf6wGm\n",
       "/mPgoBNAFmLZhZp+k/ClXzBgTcCZf7gVOFtg+nNx5n8c+TeCgYEpgTkBmv85F+DUL41deNIFBpa7\n",
       "deDyB+h1bgGc+hlxFABhDkjl3x1cugFEGm6CijI4TQAAAABJRU5ErkJggg==\n",
       "\" style=\"display:inline;vertical-align:middle;\" /></a><br>"
      ],
      "text/plain": [
       "expr: (x in {y}) = TRUE"
      ]
     },
     "execution_count": 2,
     "metadata": {},
     "output_type": "execute_result"
    }
   ],
   "source": [
    "# build up the expression from sub-expressions\n",
    "expr = Equals(InSet(x, Set(y)), TRUE)"
   ]
  },
  {
   "cell_type": "code",
   "execution_count": 3,
   "metadata": {},
   "outputs": [
    {
     "name": "stdout",
     "output_type": "stream",
     "text": [
      "Passed sanity check: built 'expr' is the same as the stored Expression.\n"
     ]
    }
   ],
   "source": [
    "# check that the built expression is the same as the stored expression\n",
    "%check_expr"
   ]
  },
  {
   "cell_type": "code",
   "execution_count": 4,
   "metadata": {},
   "outputs": [
    {
     "data": {
      "text/html": [
       "<table><tr><th>&nbsp;</th><th>core type</th><th>sub-expressions</th><th>expression</th></tr>\n",
       "<tr><td>0</td><td>Operation</td><td>operator:&nbsp;1<br>operands:&nbsp;2<br></td><td><a class=\"ProveItLink\" href=\"expr.ipynb\"><img src=\"data:image/png;base64,iVBORw0KGgoAAAANSUhEUgAAAH4AAAAVBAMAAAByPkciAAAAMFBMVEX////c3NwiIiJERESqqqqY\n",
       "mJh2dnZmZmYQEBDu7u4yMjJUVFTMzMyIiIi6uroAAAAs73DqAAAAAXRSTlMAQObYZgAAAapJREFU\n",
       "OMtjYMAFwgMg9LFEBryA7wJW4UkJMNYJBwaGONz6T2MXvg9nsS8A4gPo8kVKIKDMwLASu/4MOIut\n",
       "AUgswKLkOIjgvUCU/jBc+jkmIAvNXaSkhVX/DFz6XyGL8CydgMN+Zgcc+suAWOy2yHWwN4QnILuf\n",
       "Mz2BQX4CRD9bAQ79S4HqElhVORRAHEOEZBVQD98HUDSwfgByWcABWLUKBFYj6+8DqmPg/cACiiBO\n",
       "A4RPgOJH2BUYjIHs5aBU0oDD/n9AbQzcEI18TcAoBYcfzw6geRM4LjD8Bfkd6EaeD7j1AyMBEok8\n",
       "GxCpsgdI+E/g+QOk1Bjw6G8BEfIHGEAhx6mAkNwFDgPeBqj/Ie6HJzqEflOgAoH7DLzgkN+K0J8E\n",
       "9jjzBmj8sS7AYX860JkBFgyykEzzACX9VTO8D2AgEH+PGBgmX5uWC8msjMsPIOuffLdeAKqf6wGm\n",
       "/mPgoBNAFmLZhZp+k/ClXzBgTcCZf7gVOFtg+nNx5n8c+TeCgYEpgTkBmv85F+DUL41deNIFBpa7\n",
       "deDyB+h1bgGc+hlxFABhDkjl3x1cugFEGm6CijI4TQAAAABJRU5ErkJggg==\n",
       "\" style=\"display:inline;vertical-align:middle;\" /></a></td></tr>\n",
       "<tr><td>1</td><td>Literal</td><td></td><td><a class=\"ProveItLink\" href=\"../../../../equality/__pv_it/2fb26078095930560931daa0500ce419a39ea6cd0/expr.ipynb\"><img src=\"data:image/png;base64,iVBORw0KGgoAAAANSUhEUgAAAA4AAAAFBAMAAACHocAhAAAAFVBMVEX///9EREQiIiJUVFQyMjJm\n",
       "ZmYAAADubVkoAAAAAXRSTlMAQObYZgAAABRJREFUCNdjCHEBAWcGXCBICQQUAUpuAwlgGKrkAAAA\n",
       "AElFTkSuQmCC\n",
       "\" style=\"display:inline;vertical-align:middle;\" /></a></td></tr>\n",
       "<tr><td>2</td><td>ExprTuple</td><td>3, 4</td><td><a class=\"ProveItLink\" href=\"../2fdb32328bbf30b486dd1dc9e92a6105de3e15cd0/expr.ipynb\"><img src=\"data:image/png;base64,iVBORw0KGgoAAAANSUhEUgAAAG0AAAAVBAMAAAC+p33JAAAAMFBMVEX////c3NwiIiJERESqqqqY\n",
       "mJh2dnZmZmYQEBDu7u4yMjJUVFTMzMyIiIi6uroAAAAs73DqAAAAAXRSTlMAQObYZgAAAaZJREFU\n",
       "OMtjYMABWEshNE+aAHYFfBewiXKqwVg8LRiScSDiNFbTeD/AmVVwVpESCCgzsB8AclZi1cfWAGdm\n",
       "IIsfB5MLgAZfIENfGAMDxwRkX91SUlpAhL4ZDAyvkEVPRRJnH7MDQxmQErstch3kXEZLFHdOK2Ng\n",
       "/IlVH1sBw1Kg6xJYVTkUQMYgoood6NyE9+BgjcfUx7KAoQ+oGyjNAgrayQj5Ew8YeByKGJgNGBi4\n",
       "CjD08TUw/APax8BtAOa+AEUPOFxO94CEexn4Qc63CkDXx/MBpA8YqJDIQEoCL4D2s/xkOA+kmBIY\n",
       "sOgDpyL5Awyg6JiEkOdeAPbjDQas/gO60xSYhAXuM/CC9HEjHMSmAPaYNTweJiDrY13AkM7A4B9g\n",
       "wSALjnY9lHhg38D3FaaP8xNaPDwCBuO1abkQm6RqkPVx2l7/CNfXD4mjY2CS6wEDB0r28l6Eks5A\n",
       "roW6kw9ZHTCdsSbgTNebGGY4wPWxIsvm4sxHrEB9agxmiPyHrI8T5CZprPo4dRkYfK8/AMVVH1gA\n",
       "Obtxg9zMiD0DsqbgLl/uMDAAACcjaAq41bBmAAAAAElFTkSuQmCC\n",
       "\" style=\"display:inline;vertical-align:middle;\" /></a></td></tr>\n",
       "<tr><td>3</td><td>Operation</td><td>operator:&nbsp;5<br>operands:&nbsp;6<br></td><td><a class=\"ProveItLink\" href=\"../dfa7245ca3101bcab340dec960ee18f167b240720/expr.ipynb\"><img src=\"data:image/png;base64,iVBORw0KGgoAAAANSUhEUgAAAEQAAAAVBAMAAAAN71XTAAAAMFBMVEX///+6uroyMjJERETMzMwQ\n",
       "EBAiIiKYmJju7u5mZmaqqqpUVFSIiIh2dnbc3NwAAAAWgogoAAAAAXRSTlMAQObYZgAAARNJREFU\n",
       "KM9jYMAG2KdDGb73GLADjlw403UBdiU8H+BMTgXsSngDsDGJVNKjlpaEXwmLegMOU96efnXyAIj3\n",
       "uAFZnOPmBYb3DRDmBfZ01gSQhB2KN3gZPzCcB4YQ0HO8QC9yOYACwwARGAIMDF6cCQzGQLYmUIaB\n",
       "GyLHGJaWBnGudwiQaGA9wPAHSDOrAwnWAxDXboCbIgoydX0DyxcgBQ7o9w4MIIdyJMCVcIOCdBID\n",
       "TwDELewPzjPwgP2yHeHTBLAjmDdAPLe+wJThDViiTQAlMGYzyBdAmM1ne+8UgCX4NB2QlTSfmf8A\n",
       "IwK4NqFGwDUC0cidwBGFRwk7UJztAvMFPOmFIwdo65mJsIDGbswtpLQLAHbMQ8XDEKjoAAAAAElF\n",
       "TkSuQmCC\n",
       "\" style=\"display:inline;vertical-align:middle;\" /></a></td></tr>\n",
       "<tr><td>4</td><td>Literal</td><td></td><td><a class=\"ProveItLink\" href=\"../../../../boolean/__pv_it/68a87cc3370287d726c7086ace789e680e4461c30/expr.ipynb\"><img src=\"data:image/png;base64,iVBORw0KGgoAAAANSUhEUgAAAA4AAAAOBAMAAADtZjDiAAAAFVBMVEX///92dnbMzMxEREQiIiJm\n",
       "ZmYAAABAT6GXAAAAAXRSTlMAQObYZgAAABhJREFUCNdjCHEBAWcGIFBlgABa0YpADAAxegPJJk4d\n",
       "XAAAAABJRU5ErkJggg==\n",
       "\" style=\"display:inline;vertical-align:middle;\" /></a></td></tr>\n",
       "<tr><td>5</td><td>Literal</td><td></td><td><a class=\"ProveItLink\" href=\"../../../membership/__pv_it/088cbc857536a28d4119ad9639a84270ccb0545d0/expr.ipynb\"><img src=\"data:image/png;base64,iVBORw0KGgoAAAANSUhEUgAAAAwAAAAMBAMAAACkW0HUAAAALVBMVEX///+qqqpmZmZUVFQQEBC6\n",
       "urpERETc3NyYmJjMzMwiIiIyMjKIiIju7u4AAACYsrA9AAAAAXRSTlMAQObYZgAAADxJREFUCNdj\n",
       "YOA9vWrVBgaG2b0MQMCeCyIZ2ArA1DUwyRCyahVIyWQI7xaEYm4AU7xLIdxqTQgtvGvVBgCkcQ7e\n",
       "geM/tQAAAABJRU5ErkJggg==\n",
       "\" style=\"display:inline;vertical-align:middle;\" /></a></td></tr>\n",
       "<tr><td>6</td><td>ExprTuple</td><td>7, 8</td><td><a class=\"ProveItLink\" href=\"../091fae42a77b881f2cf7f95eb2cb22ff56aba1e70/expr.ipynb\"><img src=\"data:image/png;base64,iVBORw0KGgoAAAANSUhEUgAAAEEAAAAVBAMAAADrxp6XAAAAMFBMVEX////c3NwiIiJERESqqqqY\n",
       "mJh2dnZmZmYQEBDu7u4yMjJUVFTMzMyIiIi6uroAAAAs73DqAAAAAXRSTlMAQObYZgAAAVlJREFU\n",
       "KM99kjFLw1AUhY+mL80zTckgLiLNopsgiODYf2AmR4kidCq46KCgGTqKBgrimEXEzZ+QQYrQJZMO\n",
       "WlqcxMXgrOJ96ctL4pBA8g6Xj3vvOXnAv4cdSjHYzUrNuAjwFSUf28COEMNSCytRsh7SG5G4KxG6\n",
       "X5ZEWXElsQ0YQSVxDXygktDaOKJj4WX+Oc7LvOOhFUwJ/QA3VPHYsuHkBvRmgjElI2zVQlxQhTzW\n",
       "IhnCBHioO1gnfSvS8vFLPWCuydnDc/oERowfsQP1bySCIEPK8rvotRU0vukQ8RLRE/VWBGnapD1w\n",
       "DMuXe9CUDZL2GFYwZXQnXUC7l25ZiA41dTexBP6lQjjBpwvl9g3oP111XfBLOyP6ozNbyrkJDFtd\n",
       "AzvPdK+QOvPU3cmmmA7vZUS3+PdTglF51tM8GS8X1hYzIs2Er1LSo9MsXlNMnilfELZfvKevwB8r\n",
       "uFcIm8Mx/gAAAABJRU5ErkJggg==\n",
       "\" style=\"display:inline;vertical-align:middle;\" /></a></td></tr>\n",
       "<tr><td>7</td><td>Variable</td><td></td><td><a class=\"ProveItLink\" href=\"../../../../../__pv_it/530be409e3083890784cf1d7b28c9e67e90af9360/expr.ipynb\"><img src=\"data:image/png;base64,iVBORw0KGgoAAAANSUhEUgAAAAsAAAAJBAMAAAAWSsseAAAAKlBMVEX///9ERETMzMwQEBAiIiKY\n",
       "mJju7u5mZmaqqqpUVFSIiIh2dnbc3NwAAAA/vyDhAAAAAXRSTlMAQObYZgAAAENJREFUCNdjYDi9\n",
       "8sTyBQxsG1hdmR0YuBm4LnAoMLAxcAowgADzAjB1VoEhgYH1wFoGrgSG3gBhhlMMDImrs3cFMAAA\n",
       "t0YN+iTRa+sAAAAASUVORK5CYII=\n",
       "\" style=\"display:inline;vertical-align:middle;\" /></a></td></tr>\n",
       "<tr><td>8</td><td>Operation</td><td>operator:&nbsp;9<br>operands:&nbsp;10<br></td><td><a class=\"ProveItLink\" href=\"../0dd9e34527747e71f1c62f81d6036a14b016b7eb0/expr.ipynb\"><img src=\"data:image/png;base64,iVBORw0KGgoAAAANSUhEUgAAAB0AAAAVBAMAAABI7vhRAAAAMFBMVEX///9ERETc3NyqqqpUVFS6\n",
       "urrMzMwyMjIQEBCIiIh2dnYiIiLu7u5mZmaYmJgAAABJJ2g3AAAAAXRSTlMAQObYZgAAAKlJREFU\n",
       "GNNjYGDgu8cABmyrFEAUzy4GKGBrBpGcH2B8husggqsBzl9BLv/ULQamP1A+bwEDw4J4sDXvQfyM\n",
       "AAY2g9sMjAIMDOwXGBhS2oBOYuhk4J8AlBN/wMAQkcDAwPyHIR9IcS8AirEUgM2YwQDVz7UBrFEE\n",
       "2T5eB9Z/yHweybmfUN0H0oXgezOcMIDx+YD8XQxScP/z7GRgsJwbAAqfVrCv+BYjhR8AhFYukUvA\n",
       "dnQAAAAASUVORK5CYII=\n",
       "\" style=\"display:inline;vertical-align:middle;\" /></a></td></tr>\n",
       "<tr><td>9</td><td>Literal</td><td></td><td><a class=\"ProveItLink\" href=\"../07381ed5b23806e8d7914b78cb6667769e3708dd0/expr.ipynb\"><img src=\"data:image/png;base64,iVBORw0KGgoAAAANSUhEUgAAAB4AAAAOBAMAAADKyLEKAAAAMFBMVEX///8iIiIQEBCIiIjMzMzc\n",
       "3Nyqqqp2dnZEREQyMjK6urru7u5mZmZUVFSYmJgAAACI6eGPAAAAAXRSTlMAQObYZgAAALRJREFU\n",
       "CNdjYGDgu3Nm3wIGBJjHwN0PZW5yYGDgLWBgyITy8zcwMMQDxZyh/INAvD6BgcEFypcB4vjPDiBm\n",
       "TPFRrhs/LjMwMP//38rAwCbKEMPA9gEkE3fp0waG+AUMRxh4JkC01T9guPTOOICBEWgVH5C//wHD\n",
       "H5D4fqCz9oCMDGD4DLaegRXslLMMDMpAgxlOMmQxHDRgYG5gYLBk4D7KcIe7gOHC2rt9QCXsh40Z\n",
       "GCKMGQDRkC8N/Ph1XAAAAABJRU5ErkJggg==\n",
       "\" style=\"display:inline;vertical-align:middle;\" /></a></td></tr>\n",
       "<tr><td>10</td><td>ExprTuple</td><td>11</td><td><a class=\"ProveItLink\" href=\"../e4c9c31c4dd925da36852c7d3895fcaa012158bd0/expr.ipynb\"><img src=\"data:image/png;base64,iVBORw0KGgoAAAANSUhEUgAAABcAAAAVBAMAAABfzGiYAAAAMFBMVEX////c3NwiIiJERESqqqqY\n",
       "mJh2dnZmZmYQEBDu7u4yMjJUVFTMzMyIiIi6uroAAAAs73DqAAAAAXRSTlMAQObYZgAAAMFJREFU\n",
       "GNNVj7EOwXAQxn9UKUq6G3gHsXsDJqM0lk4Sk4GEDmZpYjF2EbF5BIPN0gfQEKNFHwBx/2olbrjL\n",
       "7/Llu/vgr6rBd/ZVOyXLwkHaLpX4UAlS6IHhpbCG+89JazOGomNT98iP2EC+GnGBnM8SjoUGTTno\n",
       "8gbPCHiBGSmg45nPGBYCEypuLGsJbNH2oPs4AlMeXZT1TWAVzi0oXTEsdX3wfUe3KTeKymYYR8ja\n",
       "mi1PSQRq5MKZzLLSZ5JAZ/gAdAsqXS4lbPIAAAAASUVORK5CYII=\n",
       "\" style=\"display:inline;vertical-align:middle;\" /></a></td></tr>\n",
       "<tr><td>11</td><td>Variable</td><td></td><td><a class=\"ProveItLink\" href=\"../../../../../__pv_it/f8b9edf8e16034727f0aad55bb83e392c3db40d40/expr.ipynb\"><img src=\"data:image/png;base64,iVBORw0KGgoAAAANSUhEUgAAAAsAAAANBAMAAACN24kIAAAAMFBMVEX///+YmJhUVFQyMjIQEBBE\n",
       "REQiIiKqqqrMzMyIiIi6urrc3NxmZmZ2dnbu7u4AAADXeCicAAAAAXRSTlMAQObYZgAAAFhJREFU\n",
       "CNdj4LtzgWH/AwZerg8M8xkY2nkSGEIZGB6wTGD4ycDAUP+A4weQOszA6QCkbBhYFYDUIYb1AkDq\n",
       "6czzGxhA4BoQMyXwuQMptgusF4AU+8xTQBIAUqMVoSp/SLMAAAAASUVORK5CYII=\n",
       "\" style=\"display:inline;vertical-align:middle;\" /></a></td></tr>\n",
       "</table>\n"
      ],
      "text/plain": [
       "0. (x in {y}) = TRUE\n",
       "   core type: Operation\n",
       "   operator: 1\n",
       "   operands: 2\n",
       "1. =\n",
       "   core type: Literal\n",
       "   sub-expressions: \n",
       "2. (x in {y} , TRUE)\n",
       "   core type: ExprTuple\n",
       "   sub-expressions: 3, 4\n",
       "3. x in {y}\n",
       "   core type: Operation\n",
       "   operator: 5\n",
       "   operands: 6\n",
       "4. TRUE\n",
       "   core type: Literal\n",
       "   sub-expressions: \n",
       "5. in\n",
       "   core type: Literal\n",
       "   sub-expressions: \n",
       "6. (x , {y})\n",
       "   core type: ExprTuple\n",
       "   sub-expressions: 7, 8\n",
       "7. x\n",
       "   core type: Variable\n",
       "   sub-expressions: \n",
       "8. {y}\n",
       "   core type: Operation\n",
       "   operator: 9\n",
       "   operands: 10\n",
       "9. Set\n",
       "   core type: Literal\n",
       "   sub-expressions: \n",
       "10. (y)\n",
       "    core type: ExprTuple\n",
       "    sub-expressions: 11\n",
       "11. y\n",
       "    core type: Variable\n",
       "    sub-expressions: "
      ]
     },
     "execution_count": 4,
     "metadata": {},
     "output_type": "execute_result"
    }
   ],
   "source": [
    "# display the expression information\n",
    "expr.exprInfo()"
   ]
  },
  {
   "cell_type": "code",
   "execution_count": null,
   "metadata": {},
   "outputs": [],
   "source": []
  }
 ],
 "metadata": {
  "kernelspec": {
   "display_name": "Python 3",
   "language": "python",
   "name": "python3"
  }
 },
 "nbformat": 4,
 "nbformat_minor": 0
}
