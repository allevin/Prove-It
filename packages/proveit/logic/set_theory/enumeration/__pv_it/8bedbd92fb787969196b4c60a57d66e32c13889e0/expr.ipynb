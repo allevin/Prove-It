{
 "cells": [
  {
   "cell_type": "markdown",
   "metadata": {},
   "source": [
    "Expression of type <a class=\"ProveItLink\" href=\"../../../../../../../doc/html/api/proveit.ExprTuple.html\">ExprTuple</a>\n",
    "=======================\n",
    "# from context <a class=\"ProveItLink\" href=\"../../_context_.ipynb\">proveit.logic.set_theory.enumeration</a>"
   ]
  },
  {
   "cell_type": "code",
   "execution_count": 1,
   "metadata": {},
   "outputs": [],
   "source": [
    "# import Expression classes needed to build the expression\n",
    "from proveit import ExprTuple\n",
    "from proveit._common_ import x, y\n",
    "from proveit.logic import NotEquals, NotInSet, Set"
   ]
  },
  {
   "cell_type": "code",
   "execution_count": 2,
   "metadata": {},
   "outputs": [
    {
     "data": {
      "text/html": [
       "<strong id=\"expr\">expr:</strong> <a class=\"ProveItLink\" href=\"expr.ipynb\"><img src=\"data:image/png;base64,iVBORw0KGgoAAAANSUhEUgAAALEAAAAVCAMAAAA+ev8PAAAAS1BMVEX///8LCwsYGBgoKChbW1sN\n",
       "DQ0JCQkdHR0PDw8WFhbc3NwiIiJERESqqqqYmJh2dnZmZmYQEBDu7u4yMjJUVFTMzMyIiIi6uroA\n",
       "AAAjZH1RAAAAAXRSTlMAQObYZgAAAn1JREFUSMe1V1mW4yAMZGa6ZwHMapb7n3QAI9uAIO2813xE\n",
       "TrBK5ZIsEUJermDa70KJ5f1OSkq+dwW/3GYNY8PkxE+Ek7PeHlLonnGCDNbta8nabR8nG4Qod17Z\n",
       "Z4SpXYW8kKu1ZommQquGhqvRz443fW3tbYw5crF+XROEEZwx4ifke4w7iRfIxeq5xMZb9u8vsyhj\n",
       "xM/o9xh3Ei+Qsw3zknNWGMIprjHqx7d3GDvevnYr5GQVZJJKv9PNqzMllKdnNb07kKl+RpYLGosu\n",
       "Ui0YDwFONq59cZbIitjaXE3aFkwQfdZtUXeoKWgD1U+SEK8OstVNEZESGwIoW9avz/x5tYclcrK6\n",
       "1pCsuxs8sOHYa+vg/sO6lKTMgB+JDaCtVWPL7QNMJF4jJxsrg8xsvxdU0IyxP7/Th701Sg3wh1/y\n",
       "0jkL8UiFO7Xlth+MQwCI0zffJXKy8faeat+3cdkPrwCUwW/Ldeaiaxlfg7GVD+mklqKMJ8jJ3gYq\n",
       "LbvmHMdjM84yVcXBr9S1v3I2reMhQMp6Wj9/sLIu9ZfIyfKaPUGPIvcn4C5IQMqxPgT4lYrlNbPC\n",
       "jr0C8MYAuMRr5GRr29iiIDzFof525gm7Gxnrs80cSiTIEEX7442xiWwWAK3iV8iKBFY7g5dGSi+a\n",
       "4fk5Z1z9sqNXsQplw8hYH5tYAFTiNXK2en6YFR+7bXpFM6XpUCn4lA6L0/KmsPdzjlyskFM8jsQ6\n",
       "yRx+O8swMJw9xlh8+ez9Gvmw09Mm5Rhce9rMbYzXZ74menM+Fg8lXiBXS2cneo/FMgyELH5bqjXo\n",
       "6DvtB2NBeSrxAhksnYDySXXDWOn8vHv8Py/MsosjF/sfTuowdG1yM5sAAAAASUVORK5CYII=\n",
       "\" style=\"display:inline;vertical-align:middle;\" /></a><br>"
      ],
      "text/plain": [
       "expr: (x not-in {(y)} , x != (y))"
      ]
     },
     "execution_count": 2,
     "metadata": {},
     "output_type": "execute_result"
    }
   ],
   "source": [
    "# build up the expression from sub-expressions\n",
    "subExpr1 = [y]\n",
    "expr = ExprTuple(NotInSet(x, Set(subExpr1)), NotEquals(x, subExpr1))"
   ]
  },
  {
   "cell_type": "code",
   "execution_count": 3,
   "metadata": {},
   "outputs": [
    {
     "name": "stdout",
     "output_type": "stream",
     "text": [
      "Passed sanity check: built 'expr' is the same as the stored Expression.\n"
     ]
    }
   ],
   "source": [
    "# check that the built expression is the same as the stored expression\n",
    "%check_expr"
   ]
  },
  {
   "cell_type": "code",
   "execution_count": 4,
   "metadata": {},
   "outputs": [
    {
     "data": {
      "text/html": [
       "<table><tr><th>&nbsp;</th><th>core type</th><th>sub-expressions</th><th>expression</th></tr>\n",
       "<tr><td>0</td><td>ExprTuple</td><td>1, 2</td><td><a class=\"ProveItLink\" href=\"expr.ipynb\"><img src=\"data:image/png;base64,iVBORw0KGgoAAAANSUhEUgAAALEAAAAVCAMAAAA+ev8PAAAAS1BMVEX///8LCwsYGBgoKChbW1sN\n",
       "DQ0JCQkdHR0PDw8WFhbc3NwiIiJERESqqqqYmJh2dnZmZmYQEBDu7u4yMjJUVFTMzMyIiIi6uroA\n",
       "AAAjZH1RAAAAAXRSTlMAQObYZgAAAn1JREFUSMe1V1mW4yAMZGa6ZwHMapb7n3QAI9uAIO2813xE\n",
       "TrBK5ZIsEUJermDa70KJ5f1OSkq+dwW/3GYNY8PkxE+Ek7PeHlLonnGCDNbta8nabR8nG4Qod17Z\n",
       "Z4SpXYW8kKu1ZommQquGhqvRz443fW3tbYw5crF+XROEEZwx4ifke4w7iRfIxeq5xMZb9u8vsyhj\n",
       "xM/o9xh3Ei+Qsw3zknNWGMIprjHqx7d3GDvevnYr5GQVZJJKv9PNqzMllKdnNb07kKl+RpYLGosu\n",
       "Ui0YDwFONq59cZbIitjaXE3aFkwQfdZtUXeoKWgD1U+SEK8OstVNEZESGwIoW9avz/x5tYclcrK6\n",
       "1pCsuxs8sOHYa+vg/sO6lKTMgB+JDaCtVWPL7QNMJF4jJxsrg8xsvxdU0IyxP7/Th701Sg3wh1/y\n",
       "0jkL8UiFO7Xlth+MQwCI0zffJXKy8faeat+3cdkPrwCUwW/Ldeaiaxlfg7GVD+mklqKMJ8jJ3gYq\n",
       "LbvmHMdjM84yVcXBr9S1v3I2reMhQMp6Wj9/sLIu9ZfIyfKaPUGPIvcn4C5IQMqxPgT4lYrlNbPC\n",
       "jr0C8MYAuMRr5GRr29iiIDzFof525gm7Gxnrs80cSiTIEEX7442xiWwWAK3iV8iKBFY7g5dGSi+a\n",
       "4fk5Z1z9sqNXsQplw8hYH5tYAFTiNXK2en6YFR+7bXpFM6XpUCn4lA6L0/KmsPdzjlyskFM8jsQ6\n",
       "yRx+O8swMJw9xlh8+ez9Gvmw09Mm5Rhce9rMbYzXZ74menM+Fg8lXiBXS2cneo/FMgyELH5bqjXo\n",
       "6DvtB2NBeSrxAhksnYDySXXDWOn8vHv8Py/MsosjF/sfTuowdG1yM5sAAAAASUVORK5CYII=\n",
       "\" style=\"display:inline;vertical-align:middle;\" /></a></td></tr>\n",
       "<tr><td>1</td><td>Operation</td><td>operator:&nbsp;3<br>operands:&nbsp;4<br></td><td><a class=\"ProveItLink\" href=\"../70d57922d52dd72a92f9b121fa3f417447cbd0d00/expr.ipynb\"><img src=\"data:image/png;base64,iVBORw0KGgoAAAANSUhEUgAAAFQAAAAVCAMAAADvsTk6AAAAQlBMVEX///9bW1sNDQ0JCQkdHR0P\n",
       "Dw8WFhYyMjK6urpERETMzMwQEBAiIiKYmJju7u5mZmaqqqpUVFSIiIh2dnbc3NwAAADXC9tbAAAA\n",
       "AXRSTlMAQObYZgAAAZhJREFUOMuNVVeWBCEIdKM5Id7/qqtttp3p9WOeDlhCQdGEvFnMLEdtNXm7\n",
       "RAhInpaaQY0K4zVYX2MdVroHTOHnE8QXhrSs6Dv6AGrZfAqyb6nZXenB60X25AwKcHPV4R+gBqj6\n",
       "/VH0CCrN3V8+gwqqDeF4jpSdaONu9cIAHh3YkRTyFIvZ7nZQW1I14dpgvOIOdvEyyaSVJnJQeMW4\n",
       "M9frSku3BsLiaApXrTpWY7G43haGH0osZOuFshGO2BwG54WTlge9Qs53PV+EJJVS31/ph47OlP3N\n",
       "yOo1mXOJJSHRu5jXTIp57e2wSYN11FhDdplNEcUK2nWHl8UMQd6aNGfTwm5KvEgGSZb0K6caC9kw\n",
       "OPSaMLuDhvYM1xN7vCpW07n6LmrC0w5hnh3Mixto7+/6nk14LOr1z+JlOAQTAixTDenna1CmWpMA\n",
       "2FgVQtmzTPWHp3P1V5nijZP/yHSX6OpepodXGaupE55BkR+C30Zf7h1e+2dI+s08hcN3w6heSswl\n",
       "d4nRJjKPN90dsj8T3QWB61wAsX6j/gBaMhRmzg5h2QAAAABJRU5ErkJggg==\n",
       "\" style=\"display:inline;vertical-align:middle;\" /></a></td></tr>\n",
       "<tr><td>2</td><td>Operation</td><td>operator:&nbsp;5<br>operands:&nbsp;6<br></td><td><a class=\"ProveItLink\" href=\"../336c700779f48973f2d3dd886d26efc8198ac2960/expr.ipynb\"><img src=\"data:image/png;base64,iVBORw0KGgoAAAANSUhEUgAAAEEAAAAVCAMAAAAuNnOWAAAAPFBMVEX///8LCwsYGBgNDQ0oKCi6\n",
       "uroyMjJERETMzMwQEBAiIiKYmJju7u5mZmaqqqpUVFSIiIh2dnbc3NwAAACyXdPkAAAAAXRSTlMA\n",
       "QObYZgAAATBJREFUOMu1U1uSxCAIdHZHfCvq/e+6oE6y5ln5GD5SAbTtblSIL0cuUypxSp28BSgw\n",
       "pTpt+kHfIaT5EPDbBfCMAuJuhcuPKJgdBeHNJYBWs41HlFVkrhlTiRh2HNXsU+iMfW4/pTZGOXCF\n",
       "5FgnjF2WQov3L39X+8H1AQtZ2ZTasghc6WnU1xSEaa7oKAKfpbpESUYwmaT2CuV2+LUh0HLDemsX\n",
       "reuA389JQDlEILLsgK76P0Jp6TKrYCl+XrbFys7Ej02se4yRVbjSXUF/TUEoNzqBk6HRAXFyQhFQ\n",
       "wWsX+uAaB2rJ6paiV5h9zuhuXKBdY9y0A0MdfTh7njEcFM2Kmu3drbb+oNifUbK8cbia8QmF8bot\n",
       "4ajxJD08okBus72RXPiIT+UM4cyezcCQr9EfTokL+WD4+V4AAAAASUVORK5CYII=\n",
       "\" style=\"display:inline;vertical-align:middle;\" /></a></td></tr>\n",
       "<tr><td>3</td><td>Literal</td><td></td><td><a class=\"ProveItLink\" href=\"../../../membership/__pv_it/cc61ce5cf0825a46fd70733410654132b7dd0e550/expr.ipynb\"><img src=\"data:image/png;base64,iVBORw0KGgoAAAANSUhEUgAAAAwAAAAVCAMAAABFcv+GAAAAQlBMVEX///9bW1sNDQ0JCQkdHR0Q\n",
       "EBAPDw8WFhaYmJiIiIgyMjLc3NxERER2dnaqqqpmZmZUVFTMzMwiIiLu7u66uroAAACAfls5AAAA\n",
       "AXRSTlMAQObYZgAAAGtJREFUGNNNTkkSwCAIo7sirQr8/621LhUOYQIhAWCUCsxiQ3Iyi6hW1bt4\n",
       "5OtkrGp0AhTqPFCxEWyiOvO+HdCH2EL0YOZ9K4A97H66L5sQSA40DiKsKf+PBFwnAbckbG4jdsjI\n",
       "PO+dIXPxAnRTBHGTKJqmAAAAAElFTkSuQmCC\n",
       "\" style=\"display:inline;vertical-align:middle;\" /></a></td></tr>\n",
       "<tr><td>4</td><td>ExprTuple</td><td>8, 7</td><td><a class=\"ProveItLink\" href=\"../6932b548a5d9dde31b4e747e620a2ac1dcd257380/expr.ipynb\"><img src=\"data:image/png;base64,iVBORw0KGgoAAAANSUhEUgAAAFEAAAAVBAMAAADMaB9/AAAAMFBMVEX////c3NwiIiJERESqqqqY\n",
       "mJh2dnZmZmYQEBDu7u4yMjJUVFTMzMyIiIi6uroAAAAs73DqAAAAAXRSTlMAQObYZgAAAYtJREFU\n",
       "KM9lk7FLw0AUxp+mSRPblAziItIuugmCFBz7H9jJUaIInQouOihoB0fRQEEcsxRx80/IIKXQJZMO\n",
       "WlqcxMXirMXvXe7SS5vh5cvvPt7de/dCNPOYJzOge6BUKda5s6GzfQ69mhT9TAZ3rLN8xCGU4jHj\n",
       "tFqks1AhCDeed07ZnkIQdjDvnLJ7hSC+aN45ZUZNIohTvFbell9jzQnmNHwqB2QdSwTRAfXNdbsi\n",
       "q+UawKzSmIZEOXya3A6IG1D0Jhclzt4IAew5X6FtNJbzPZAQE+SkwpY8V/+aI1hgx/RHVOR8RkeI\n",
       "CS/ZaVs+o8RJu0HxVzr52iCueL0ckWxMgc/J7IzcVrK7OCdEFdIbkhskXosrq4rDGU9YCmXtEA1s\n",
       "VN+hNXJ+0i6B0Tl91ynTpQ+i9stds07OraecYNQeXOJ7aSQRhO2l45c6E3Y4c5umn85wujtYoeJw\n",
       "XU2FmvqECacpp27RN5DCCeW1CbGqnKKnziYJlhtccM88eW1CLGQH1DzS2Lv6jyD+Aawhb0BmJGr3\n",
       "AAAAAElFTkSuQmCC\n",
       "\" style=\"display:inline;vertical-align:middle;\" /></a></td></tr>\n",
       "<tr><td>5</td><td>Literal</td><td></td><td><a class=\"ProveItLink\" href=\"../../../../equality/__pv_it/43637204f35b46c076ae787093288c6a879642310/expr.ipynb\"><img src=\"data:image/png;base64,iVBORw0KGgoAAAANSUhEUgAAAA4AAAAUCAMAAACK2/weAAAAM1BMVEX///8LCwsYGBgNDQ0oKCju\n",
       "7u4iIiJmZmaqqqpERETMzMy6urpUVFQyMjLc3Nx2dnYAAAB8DqOrAAAAAXRSTlMAQObYZgAAAE5J\n",
       "REFUGNNjYEAAfj4kDgMfLzKPgYebaEkuThRJTi4wxc4LBizMIJIHTRIKuHlQdPLCHMTOBgRMjGxg\n",
       "wIkmiVcnGHCwo0iysRItyYDsMQCO9QJkhxsUAQAAAABJRU5ErkJggg==\n",
       "\" style=\"display:inline;vertical-align:middle;\" /></a></td></tr>\n",
       "<tr><td>6</td><td>ExprTuple</td><td>8, 11</td><td><a class=\"ProveItLink\" href=\"../e254b78b3b14aa9fcbf8e4a4d1b887fc941a543e0/expr.ipynb\"><img src=\"data:image/png;base64,iVBORw0KGgoAAAANSUhEUgAAADwAAAAVBAMAAADocZC/AAAAMFBMVEX////c3NwiIiJERESqqqqY\n",
       "mJh2dnZmZmYQEBDu7u4yMjJUVFTMzMyIiIi6uroAAAAs73DqAAAAAXRSTlMAQObYZgAAAU5JREFU\n",
       "KM+Fkr9Lw0AUx7+hTbzUps0gLlLsonMHFUGEzoKYycEpm5NQHDo5KLg4qAGhiFMXhy4S+xdkd2gm\n",
       "I4gYnEQQf4BDl+K7X5GbDHzuvi/f3Lv37gL889RSI3yXk51LcGe41ViJA8XAsCuRFhLPzP2khR0K\n",
       "WGTYJ1q4h4I3s85+IZcEXRpnH2cyuccUpex1YY2BXXCuKUdoL7CmLCgAwg94n8AGOGeAQ2E5ETbL\n",
       "UW3vo9QCXsGZ0GpMt9SG9ZyiU9RpqxE4E7Eo/bNRHmOUaPuYv51PIPtjbSqvjwfo5MvUvf8MLxIf\n",
       "lKi0SgdrJHcEVP9WsIoG3G+KnQ6tjms/0I29ABf3vb0A7rlPx0L9uevZF1k3AuYXJ8bVEVdOszhU\n",
       "fvTqEviwDQxxSQU6qWRg2HShi1ghcaWY07bo3YqxmfG/5FZhmRfekJOXCH4BE4JSYMe58OwAAAAA\n",
       "SUVORK5CYII=\n",
       "\" style=\"display:inline;vertical-align:middle;\" /></a></td></tr>\n",
       "<tr><td>7</td><td>Operation</td><td>operator:&nbsp;9<br>operands:&nbsp;10<br></td><td><a class=\"ProveItLink\" href=\"../f8588a247fec21213b307328232be24363af148c0/expr.ipynb\"><img src=\"data:image/png;base64,iVBORw0KGgoAAAANSUhEUgAAAC0AAAAVBAMAAAAgHXppAAAAMFBMVEX////c3NxERESqqqpUVFS6\n",
       "urrMzMwyMjIQEBCIiIh2dnYiIiLu7u5mZmaYmJgAAABXZE4RAAAAAXRSTlMAQObYZgAAARhJREFU\n",
       "GNNjYGDgu8eAAthWCYAonl0gMhIixhcAkmgGMTk/gJgOUMXXQMR1EMHVACTYD0DF2UHECrj4TJjh\n",
       "fAtQxHtg4jwNyOKsBXDXKCOL8wJ1n7rFwPiHgWEtTJwXqJb9AQPDgniw08yBQu9B4hlAJ3MEMLAZ\n",
       "3GZgUmBgiAA56gIDQ0obkMEfwMDD0MnAP4GBIR+kVh2oPyIBLM7A/IchPwEizg1yLAvQfA4DsD0z\n",
       "GCDmgM3n2sDAwPQAbKgKkPsc2Z1cQIt4HVj/MSC5E+wvoB4ezbkfgdxSlHBohJmIGg4MrxgYvBlO\n",
       "AG3nmgAT54OG8y4GLSDjODz8eXYCCUYHBsu5oLhyBEVSKyTIFwMJSUhociZA4xcAt3RDSVd3B1gA\n",
       "AAAASUVORK5CYII=\n",
       "\" style=\"display:inline;vertical-align:middle;\" /></a></td></tr>\n",
       "<tr><td>8</td><td>Variable</td><td></td><td><a class=\"ProveItLink\" href=\"../../../../../__pv_it/530be409e3083890784cf1d7b28c9e67e90af9360/expr.ipynb\"><img src=\"data:image/png;base64,iVBORw0KGgoAAAANSUhEUgAAAAsAAAAJBAMAAAAWSsseAAAAKlBMVEX///9ERETMzMwQEBAiIiKY\n",
       "mJju7u5mZmaqqqpUVFSIiIh2dnbc3NwAAAA/vyDhAAAAAXRSTlMAQObYZgAAAENJREFUCNdjYDi9\n",
       "8sTyBQxsG1hdmR0YuBm4LnAoMLAxcAowgADzAjB1VoEhgYH1wFoGrgSG3gBhhlMMDImrs3cFMAAA\n",
       "t0YN+iTRa+sAAAAASUVORK5CYII=\n",
       "\" style=\"display:inline;vertical-align:middle;\" /></a></td></tr>\n",
       "<tr><td>9</td><td>Literal</td><td></td><td><a class=\"ProveItLink\" href=\"../07381ed5b23806e8d7914b78cb6667769e3708dd0/expr.ipynb\"><img src=\"data:image/png;base64,iVBORw0KGgoAAAANSUhEUgAAAB4AAAAOBAMAAADKyLEKAAAAMFBMVEX///8iIiIQEBCIiIjMzMzc\n",
       "3Nyqqqp2dnZEREQyMjK6urru7u5mZmZUVFSYmJgAAACI6eGPAAAAAXRSTlMAQObYZgAAALRJREFU\n",
       "CNdjYGDgu3Nm3wIGBJjHwN0PZW5yYGDgLWBgyITy8zcwMMQDxZyh/INAvD6BgcEFypcB4vjPDiBm\n",
       "TPFRrhs/LjMwMP//38rAwCbKEMPA9gEkE3fp0waG+AUMRxh4JkC01T9guPTOOICBEWgVH5C//wHD\n",
       "H5D4fqCz9oCMDGD4DLaegRXslLMMDMpAgxlOMmQxHDRgYG5gYLBk4D7KcIe7gOHC2rt9QCXsh40Z\n",
       "GCKMGQDRkC8N/Ph1XAAAAABJRU5ErkJggg==\n",
       "\" style=\"display:inline;vertical-align:middle;\" /></a></td></tr>\n",
       "<tr><td>10</td><td>ExprTuple</td><td>11</td><td><a class=\"ProveItLink\" href=\"../babf3c546b4e014d0b6d91a15e10878454ae8abf0/expr.ipynb\"><img src=\"data:image/png;base64,iVBORw0KGgoAAAANSUhEUgAAACcAAAAVBAMAAAA3P+qgAAAAMFBMVEX////c3NwiIiJERESqqqqY\n",
       "mJh2dnZmZmYQEBDu7u4yMjJUVFTMzMyIiIi6uroAAAAs73DqAAAAAXRSTlMAQObYZgAAANZJREFU\n",
       "GNNt0LsOAUEYBeDDLnbdsr2CdxC9N6BSykazlUSlIEGhlk00ym1EdB5BodPsAxCi1PAAiP8yaJzk\n",
       "y0zOZDIX4G+KseK0DewNTmarsDYkkSrEStNSTqg0C3WF0lh10acpcQMf5RDpHtiSSpIu3nEC7EjM\n",
       "qCS7TAVVuvBEvKgkoRPjCeTvwpRohPnHt5xSwQYoTL7ba1SwFawNkIpEQAUb4tbE50oXKtj8OPaA\n",
       "7Fk4NGVA5/fMlC9yFZeP6xr6dUnfolU3UigJ+ziiMecpJGLFOag3z6FCldrFW1sAAAAASUVORK5C\n",
       "YII=\n",
       "\" style=\"display:inline;vertical-align:middle;\" /></a></td></tr>\n",
       "<tr><td>11</td><td>ExprTuple</td><td>12</td><td><a class=\"ProveItLink\" href=\"../e4c9c31c4dd925da36852c7d3895fcaa012158bd0/expr.ipynb\"><img src=\"data:image/png;base64,iVBORw0KGgoAAAANSUhEUgAAABcAAAAVBAMAAABfzGiYAAAAMFBMVEX////c3NwiIiJERESqqqqY\n",
       "mJh2dnZmZmYQEBDu7u4yMjJUVFTMzMyIiIi6uroAAAAs73DqAAAAAXRSTlMAQObYZgAAAMFJREFU\n",
       "GNNVj7EOwXAQxn9UKUq6G3gHsXsDJqM0lk4Sk4GEDmZpYjF2EbF5BIPN0gfQEKNFHwBx/2olbrjL\n",
       "7/Llu/vgr6rBd/ZVOyXLwkHaLpX4UAlS6IHhpbCG+89JazOGomNT98iP2EC+GnGBnM8SjoUGTTno\n",
       "8gbPCHiBGSmg45nPGBYCEypuLGsJbNH2oPs4AlMeXZT1TWAVzi0oXTEsdX3wfUe3KTeKymYYR8ja\n",
       "mi1PSQRq5MKZzLLSZ5JAZ/gAdAsqXS4lbPIAAAAASUVORK5CYII=\n",
       "\" style=\"display:inline;vertical-align:middle;\" /></a></td></tr>\n",
       "<tr><td>12</td><td>Variable</td><td></td><td><a class=\"ProveItLink\" href=\"../../../../../__pv_it/f8b9edf8e16034727f0aad55bb83e392c3db40d40/expr.ipynb\"><img src=\"data:image/png;base64,iVBORw0KGgoAAAANSUhEUgAAAAsAAAANBAMAAACN24kIAAAAMFBMVEX///+YmJhUVFQyMjIQEBBE\n",
       "REQiIiKqqqrMzMyIiIi6urrc3NxmZmZ2dnbu7u4AAADXeCicAAAAAXRSTlMAQObYZgAAAFhJREFU\n",
       "CNdj4LtzgWH/AwZerg8M8xkY2nkSGEIZGB6wTGD4ycDAUP+A4weQOszA6QCkbBhYFYDUIYb1AkDq\n",
       "6czzGxhA4BoQMyXwuQMptgusF4AU+8xTQBIAUqMVoSp/SLMAAAAASUVORK5CYII=\n",
       "\" style=\"display:inline;vertical-align:middle;\" /></a></td></tr>\n",
       "</table>\n"
      ],
      "text/plain": [
       "0. (x not-in {(y)} , x != (y))\n",
       "   core type: ExprTuple\n",
       "   sub-expressions: 1, 2\n",
       "1. x not-in {(y)}\n",
       "   core type: Operation\n",
       "   operator: 3\n",
       "   operands: 4\n",
       "2. x != (y)\n",
       "   core type: Operation\n",
       "   operator: 5\n",
       "   operands: 6\n",
       "3. not-in\n",
       "   core type: Literal\n",
       "   sub-expressions: \n",
       "4. (x , {(y)})\n",
       "   core type: ExprTuple\n",
       "   sub-expressions: 8, 7\n",
       "5. !=\n",
       "   core type: Literal\n",
       "   sub-expressions: \n",
       "6. (x , (y))\n",
       "   core type: ExprTuple\n",
       "   sub-expressions: 8, 11\n",
       "7. {(y)}\n",
       "   core type: Operation\n",
       "   operator: 9\n",
       "   operands: 10\n",
       "8. x\n",
       "   core type: Variable\n",
       "   sub-expressions: \n",
       "9. Set\n",
       "   core type: Literal\n",
       "   sub-expressions: \n",
       "10. ((y))\n",
       "    core type: ExprTuple\n",
       "    sub-expressions: 11\n",
       "11. (y)\n",
       "    core type: ExprTuple\n",
       "    sub-expressions: 12\n",
       "12. y\n",
       "    core type: Variable\n",
       "    sub-expressions: "
      ]
     },
     "execution_count": 4,
     "metadata": {},
     "output_type": "execute_result"
    }
   ],
   "source": [
    "# display the expression information\n",
    "expr.exprInfo()"
   ]
  },
  {
   "cell_type": "code",
   "execution_count": null,
   "metadata": {},
   "outputs": [],
   "source": []
  }
 ],
 "metadata": {
  "kernelspec": {
   "display_name": "Python 3",
   "language": "python",
   "name": "python3"
  }
 },
 "nbformat": 4,
 "nbformat_minor": 0
}
