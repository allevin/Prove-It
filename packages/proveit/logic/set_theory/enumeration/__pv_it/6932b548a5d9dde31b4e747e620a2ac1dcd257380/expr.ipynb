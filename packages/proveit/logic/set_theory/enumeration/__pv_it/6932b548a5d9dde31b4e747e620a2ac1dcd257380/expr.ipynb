{
 "cells": [
  {
   "cell_type": "markdown",
   "metadata": {},
   "source": [
    "Expression of type <a class=\"ProveItLink\" href=\"../../../../../../../doc/html/api/proveit.ExprTuple.html\">ExprTuple</a>\n",
    "=======================\n",
    "# from context <a class=\"ProveItLink\" href=\"../../_context_.ipynb\">proveit.logic.set_theory.enumeration</a>"
   ]
  },
  {
   "cell_type": "code",
   "execution_count": 1,
   "metadata": {},
   "outputs": [],
   "source": [
    "# import Expression classes needed to build the expression\n",
    "from proveit import ExprTuple\n",
    "from proveit._common_ import x, y\n",
    "from proveit.logic import Set"
   ]
  },
  {
   "cell_type": "code",
   "execution_count": 2,
   "metadata": {},
   "outputs": [
    {
     "data": {
      "text/html": [
       "<strong id=\"expr\">expr:</strong> <a class=\"ProveItLink\" href=\"expr.ipynb\"><img src=\"data:image/png;base64,iVBORw0KGgoAAAANSUhEUgAAAFEAAAAVBAMAAADMaB9/AAAAMFBMVEX////c3NwiIiJERESqqqqY\n",
       "mJh2dnZmZmYQEBDu7u4yMjJUVFTMzMyIiIi6uroAAAAs73DqAAAAAXRSTlMAQObYZgAAAYtJREFU\n",
       "KM9lk7FLw0AUxp+mSRPblAziItIuugmCFBz7H9jJUaIInQouOihoB0fRQEEcsxRx80/IIKXQJZMO\n",
       "WlqcxMXirMXvXe7SS5vh5cvvPt7de/dCNPOYJzOge6BUKda5s6GzfQ69mhT9TAZ3rLN8xCGU4jHj\n",
       "tFqks1AhCDeed07ZnkIQdjDvnLJ7hSC+aN45ZUZNIohTvFbell9jzQnmNHwqB2QdSwTRAfXNdbsi\n",
       "q+UawKzSmIZEOXya3A6IG1D0Jhclzt4IAew5X6FtNJbzPZAQE+SkwpY8V/+aI1hgx/RHVOR8RkeI\n",
       "CS/ZaVs+o8RJu0HxVzr52iCueL0ckWxMgc/J7IzcVrK7OCdEFdIbkhskXosrq4rDGU9YCmXtEA1s\n",
       "VN+hNXJ+0i6B0Tl91ynTpQ+i9stds07OraecYNQeXOJ7aSQRhO2l45c6E3Y4c5umn85wujtYoeJw\n",
       "XU2FmvqECacpp27RN5DCCeW1CbGqnKKnziYJlhtccM88eW1CLGQH1DzS2Lv6jyD+Aawhb0BmJGr3\n",
       "AAAAAElFTkSuQmCC\n",
       "\" style=\"display:inline;vertical-align:middle;\" /></a><br>"
      ],
      "text/plain": [
       "expr: (x , {(y)})"
      ]
     },
     "execution_count": 2,
     "metadata": {},
     "output_type": "execute_result"
    }
   ],
   "source": [
    "# build up the expression from sub-expressions\n",
    "expr = ExprTuple(x, Set([y]))"
   ]
  },
  {
   "cell_type": "code",
   "execution_count": 3,
   "metadata": {},
   "outputs": [
    {
     "name": "stdout",
     "output_type": "stream",
     "text": [
      "Passed sanity check: built 'expr' is the same as the stored Expression.\n"
     ]
    }
   ],
   "source": [
    "# check that the built expression is the same as the stored expression\n",
    "%check_expr"
   ]
  },
  {
   "cell_type": "code",
   "execution_count": 4,
   "metadata": {},
   "outputs": [
    {
     "data": {
      "text/html": [
       "<table><tr><th>&nbsp;</th><th>core type</th><th>sub-expressions</th><th>expression</th></tr>\n",
       "<tr><td>0</td><td>ExprTuple</td><td>1, 2</td><td><a class=\"ProveItLink\" href=\"expr.ipynb\"><img src=\"data:image/png;base64,iVBORw0KGgoAAAANSUhEUgAAAFEAAAAVBAMAAADMaB9/AAAAMFBMVEX////c3NwiIiJERESqqqqY\n",
       "mJh2dnZmZmYQEBDu7u4yMjJUVFTMzMyIiIi6uroAAAAs73DqAAAAAXRSTlMAQObYZgAAAYtJREFU\n",
       "KM9lk7FLw0AUxp+mSRPblAziItIuugmCFBz7H9jJUaIInQouOihoB0fRQEEcsxRx80/IIKXQJZMO\n",
       "WlqcxMXirMXvXe7SS5vh5cvvPt7de/dCNPOYJzOge6BUKda5s6GzfQ69mhT9TAZ3rLN8xCGU4jHj\n",
       "tFqks1AhCDeed07ZnkIQdjDvnLJ7hSC+aN45ZUZNIohTvFbell9jzQnmNHwqB2QdSwTRAfXNdbsi\n",
       "q+UawKzSmIZEOXya3A6IG1D0Jhclzt4IAew5X6FtNJbzPZAQE+SkwpY8V/+aI1hgx/RHVOR8RkeI\n",
       "CS/ZaVs+o8RJu0HxVzr52iCueL0ckWxMgc/J7IzcVrK7OCdEFdIbkhskXosrq4rDGU9YCmXtEA1s\n",
       "VN+hNXJ+0i6B0Tl91ynTpQ+i9stds07OraecYNQeXOJ7aSQRhO2l45c6E3Y4c5umn85wujtYoeJw\n",
       "XU2FmvqECacpp27RN5DCCeW1CbGqnKKnziYJlhtccM88eW1CLGQH1DzS2Lv6jyD+Aawhb0BmJGr3\n",
       "AAAAAElFTkSuQmCC\n",
       "\" style=\"display:inline;vertical-align:middle;\" /></a></td></tr>\n",
       "<tr><td>1</td><td>Variable</td><td></td><td><a class=\"ProveItLink\" href=\"../../../../../__pv_it/530be409e3083890784cf1d7b28c9e67e90af9360/expr.ipynb\"><img src=\"data:image/png;base64,iVBORw0KGgoAAAANSUhEUgAAAAsAAAAJBAMAAAAWSsseAAAAKlBMVEX///9ERETMzMwQEBAiIiKY\n",
       "mJju7u5mZmaqqqpUVFSIiIh2dnbc3NwAAAA/vyDhAAAAAXRSTlMAQObYZgAAAENJREFUCNdjYDi9\n",
       "8sTyBQxsG1hdmR0YuBm4LnAoMLAxcAowgADzAjB1VoEhgYH1wFoGrgSG3gBhhlMMDImrs3cFMAAA\n",
       "t0YN+iTRa+sAAAAASUVORK5CYII=\n",
       "\" style=\"display:inline;vertical-align:middle;\" /></a></td></tr>\n",
       "<tr><td>2</td><td>Operation</td><td>operator:&nbsp;3<br>operands:&nbsp;4<br></td><td><a class=\"ProveItLink\" href=\"../f8588a247fec21213b307328232be24363af148c0/expr.ipynb\"><img src=\"data:image/png;base64,iVBORw0KGgoAAAANSUhEUgAAAC0AAAAVBAMAAAAgHXppAAAAMFBMVEX////c3NxERESqqqpUVFS6\n",
       "urrMzMwyMjIQEBCIiIh2dnYiIiLu7u5mZmaYmJgAAABXZE4RAAAAAXRSTlMAQObYZgAAARhJREFU\n",
       "GNNjYGDgu8eAAthWCYAonl0gMhIixhcAkmgGMTk/gJgOUMXXQMR1EMHVACTYD0DF2UHECrj4TJjh\n",
       "fAtQxHtg4jwNyOKsBXDXKCOL8wJ1n7rFwPiHgWEtTJwXqJb9AQPDgniw08yBQu9B4hlAJ3MEMLAZ\n",
       "3GZgUmBgiAA56gIDQ0obkMEfwMDD0MnAP4GBIR+kVh2oPyIBLM7A/IchPwEizg1yLAvQfA4DsD0z\n",
       "GCDmgM3n2sDAwPQAbKgKkPsc2Z1cQIt4HVj/MSC5E+wvoB4ezbkfgdxSlHBohJmIGg4MrxgYvBlO\n",
       "AG3nmgAT54OG8y4GLSDjODz8eXYCCUYHBsu5oLhyBEVSKyTIFwMJSUhociZA4xcAt3RDSVd3B1gA\n",
       "AAAASUVORK5CYII=\n",
       "\" style=\"display:inline;vertical-align:middle;\" /></a></td></tr>\n",
       "<tr><td>3</td><td>Literal</td><td></td><td><a class=\"ProveItLink\" href=\"../07381ed5b23806e8d7914b78cb6667769e3708dd0/expr.ipynb\"><img src=\"data:image/png;base64,iVBORw0KGgoAAAANSUhEUgAAAB4AAAAOBAMAAADKyLEKAAAAMFBMVEX///8iIiIQEBCIiIjMzMzc\n",
       "3Nyqqqp2dnZEREQyMjK6urru7u5mZmZUVFSYmJgAAACI6eGPAAAAAXRSTlMAQObYZgAAALRJREFU\n",
       "CNdjYGDgu3Nm3wIGBJjHwN0PZW5yYGDgLWBgyITy8zcwMMQDxZyh/INAvD6BgcEFypcB4vjPDiBm\n",
       "TPFRrhs/LjMwMP//38rAwCbKEMPA9gEkE3fp0waG+AUMRxh4JkC01T9guPTOOICBEWgVH5C//wHD\n",
       "H5D4fqCz9oCMDGD4DLaegRXslLMMDMpAgxlOMmQxHDRgYG5gYLBk4D7KcIe7gOHC2rt9QCXsh40Z\n",
       "GCKMGQDRkC8N/Ph1XAAAAABJRU5ErkJggg==\n",
       "\" style=\"display:inline;vertical-align:middle;\" /></a></td></tr>\n",
       "<tr><td>4</td><td>ExprTuple</td><td>5</td><td><a class=\"ProveItLink\" href=\"../babf3c546b4e014d0b6d91a15e10878454ae8abf0/expr.ipynb\"><img src=\"data:image/png;base64,iVBORw0KGgoAAAANSUhEUgAAACcAAAAVBAMAAAA3P+qgAAAAMFBMVEX////c3NwiIiJERESqqqqY\n",
       "mJh2dnZmZmYQEBDu7u4yMjJUVFTMzMyIiIi6uroAAAAs73DqAAAAAXRSTlMAQObYZgAAANZJREFU\n",
       "GNNt0LsOAUEYBeDDLnbdsr2CdxC9N6BSykazlUSlIEGhlk00ym1EdB5BodPsAxCi1PAAiP8yaJzk\n",
       "y0zOZDIX4G+KseK0DewNTmarsDYkkSrEStNSTqg0C3WF0lh10acpcQMf5RDpHtiSSpIu3nEC7EjM\n",
       "qCS7TAVVuvBEvKgkoRPjCeTvwpRohPnHt5xSwQYoTL7ba1SwFawNkIpEQAUb4tbE50oXKtj8OPaA\n",
       "7Fk4NGVA5/fMlC9yFZeP6xr6dUnfolU3UigJ+ziiMecpJGLFOag3z6FCldrFW1sAAAAASUVORK5C\n",
       "YII=\n",
       "\" style=\"display:inline;vertical-align:middle;\" /></a></td></tr>\n",
       "<tr><td>5</td><td>ExprTuple</td><td>6</td><td><a class=\"ProveItLink\" href=\"../e4c9c31c4dd925da36852c7d3895fcaa012158bd0/expr.ipynb\"><img src=\"data:image/png;base64,iVBORw0KGgoAAAANSUhEUgAAABcAAAAVBAMAAABfzGiYAAAAMFBMVEX////c3NwiIiJERESqqqqY\n",
       "mJh2dnZmZmYQEBDu7u4yMjJUVFTMzMyIiIi6uroAAAAs73DqAAAAAXRSTlMAQObYZgAAAMFJREFU\n",
       "GNNVj7EOwXAQxn9UKUq6G3gHsXsDJqM0lk4Sk4GEDmZpYjF2EbF5BIPN0gfQEKNFHwBx/2olbrjL\n",
       "7/Llu/vgr6rBd/ZVOyXLwkHaLpX4UAlS6IHhpbCG+89JazOGomNT98iP2EC+GnGBnM8SjoUGTTno\n",
       "8gbPCHiBGSmg45nPGBYCEypuLGsJbNH2oPs4AlMeXZT1TWAVzi0oXTEsdX3wfUe3KTeKymYYR8ja\n",
       "mi1PSQRq5MKZzLLSZ5JAZ/gAdAsqXS4lbPIAAAAASUVORK5CYII=\n",
       "\" style=\"display:inline;vertical-align:middle;\" /></a></td></tr>\n",
       "<tr><td>6</td><td>Variable</td><td></td><td><a class=\"ProveItLink\" href=\"../../../../../__pv_it/f8b9edf8e16034727f0aad55bb83e392c3db40d40/expr.ipynb\"><img src=\"data:image/png;base64,iVBORw0KGgoAAAANSUhEUgAAAAsAAAANBAMAAACN24kIAAAAMFBMVEX///+YmJhUVFQyMjIQEBBE\n",
       "REQiIiKqqqrMzMyIiIi6urrc3NxmZmZ2dnbu7u4AAADXeCicAAAAAXRSTlMAQObYZgAAAFhJREFU\n",
       "CNdj4LtzgWH/AwZerg8M8xkY2nkSGEIZGB6wTGD4ycDAUP+A4weQOszA6QCkbBhYFYDUIYb1AkDq\n",
       "6czzGxhA4BoQMyXwuQMptgusF4AU+8xTQBIAUqMVoSp/SLMAAAAASUVORK5CYII=\n",
       "\" style=\"display:inline;vertical-align:middle;\" /></a></td></tr>\n",
       "</table>\n"
      ],
      "text/plain": [
       "0. (x , {(y)})\n",
       "   core type: ExprTuple\n",
       "   sub-expressions: 1, 2\n",
       "1. x\n",
       "   core type: Variable\n",
       "   sub-expressions: \n",
       "2. {(y)}\n",
       "   core type: Operation\n",
       "   operator: 3\n",
       "   operands: 4\n",
       "3. Set\n",
       "   core type: Literal\n",
       "   sub-expressions: \n",
       "4. ((y))\n",
       "   core type: ExprTuple\n",
       "   sub-expressions: 5\n",
       "5. (y)\n",
       "   core type: ExprTuple\n",
       "   sub-expressions: 6\n",
       "6. y\n",
       "   core type: Variable\n",
       "   sub-expressions: "
      ]
     },
     "execution_count": 4,
     "metadata": {},
     "output_type": "execute_result"
    }
   ],
   "source": [
    "# display the expression information\n",
    "expr.exprInfo()"
   ]
  },
  {
   "cell_type": "code",
   "execution_count": null,
   "metadata": {},
   "outputs": [],
   "source": []
  }
 ],
 "metadata": {
  "kernelspec": {
   "display_name": "Python 3",
   "language": "python",
   "name": "python3"
  }
 },
 "nbformat": 4,
 "nbformat_minor": 0
}
