{
 "cells": [
  {
   "cell_type": "markdown",
   "metadata": {},
   "source": [
    "Show the Proof\n",
    "========"
   ]
  },
  {
   "cell_type": "code",
   "execution_count": 1,
   "metadata": {},
   "outputs": [
    {
     "data": {
      "text/html": [
       "<table><tr><th>&nbsp;</th><th>step type</th><th>requirements</th><th>statement</th></tr>\n",
       "<tr><td>0</td><td>assumption</td><td></td><td><span style=\"font-size:20px;\"><a class=\"ProveItLink\" href=\"../2eeee7d29f51b9e40425850b92d940a0b9963bca0/expr.ipynb\"><img src=\"data:image/png;base64,iVBORw0KGgoAAAANSUhEUgAAAJUAAAAVBAMAAAC9PLGkAAAAMFBMVEX///9ERETc3NyqqqpUVFS6\n",
       "urrMzMwyMjIQEBCIiIh2dnYiIiLu7u5mZmaYmJgAAABJJ2g3AAAAAXRSTlMAQObYZgAAAkpJREFU\n",
       "OMuVVL1PU1EUP6+0DwqvDyZhwPCIA5OhgzuYvITJlLELSQcSjA4lBKOJIhqjjq2TYSAlsBBjAgsJ\n",
       "UAJlQAYWXdQF2j/ApCpVoxLwfNzS+8q7Rm9yT849v/N+93y9CwDuERiWGdHWrUUU9iuPdGfT5GVG\n",
       "AutmksiekBr/rGy3m50YcVM1//qdc/oXN44ibwVFYOQSKolJOn4g0f5I+c02cwnS1gVQHlWm5QrE\n",
       "PlZE70SOoWTdbVnncndKoVzZPO5hsexvoVjx5JBdwJhOQrmulMXHeVksTmpcBTRXF8TnHl2XVlcV\n",
       "MFj7ZyhXviCJTHwKxtWDe11CThyTvKrgPtyRWhhXrDTEdYj0NuWI3gPKNsjxvlHwF2pfkEvaAHtc\n",
       "GADLO+dixK7NzW8rQ7miVZPSA/cXbh6EKo+HpDYKg9zrXW1wCIl/BThQpd/x9In5jiL6DcUMHVvx\n",
       "6/Fncovvp7pISReLqvaCWJhB/FQ+P2Op2m1ROG2Un/WQzt0YdDrD5UK7MDRuZqRzWDKhlSPRklHj\n",
       "RVdXKWv+PTqo1VGmwJnr4BoeNLgYyaJ39FgMKQopoVAu72MI1Kt9lbqHXK1sizbqywiNF/WvVP/8\n",
       "tcqygPFZD+DiTOxT2ic8qmvBmcDxsp+XwPlNEWB8Y57oNF72DFzk6s9Ngdv3gxs58F7nenfm+3cx\n",
       "VCdHPRyfPkyK7hBwORPCFVjX7gf+IbViXrj+d64mp/q7aNADXK6Ry/03Lu39cjaM76qO5A26+j3s\n",
       "p3LLkjGwpf967/8AcrSpaAKpn5UAAAAASUVORK5CYII=\n",
       "\" style=\"display:inline;vertical-align:middle;\" /></a> <a class=\"ProveItLink\" href=\"proof.ipynb\" style=\"text-decoration: none\">&#x22A2;&nbsp;</a><a class=\"ProveItLink\" href=\"../2b9453188663a7adc6206742c7a65bd5855cbb780/expr.ipynb\"><img src=\"data:image/png;base64,iVBORw0KGgoAAAANSUhEUgAAAIAAAAAVBAMAAAB8u/sIAAAAMFBMVEX///92dnYQEBBERERUVFS6\n",
       "urqIiIhmZmaqqqrc3Nzu7u6YmJgyMjIiIiLMzMwAAACFkkdwAAAAAXRSTlMAQObYZgAAAgpJREFU\n",
       "OMuNVDtIA0EQXb1LYu70FCu1UbAVIzaChQY8sBES0tgGBG2EiBYWgklh74GFFkICYmcktY0iivjD\n",
       "D2ihhESxVKIYxb/O7E5yl3jRDOwwu7P75s2HZcxe1Cn2v1w1lnQpJ6wcuY6QcVfscd4jC19W79vO\n",
       "Yw71T7nHhBccAz1guDbIeVQMUNGCurKDsbCfjuoTzDGeEHYtPJyN5K5BqFTMFiAThOUVJysXoJoN\n",
       "scnUQfQ3E2AhLBzKaDK5YQEIwfF6nbiziTEChB8CWtqzCRAMCZ63a4UMOmGdCnKuF9Tz5O6F5c7m\n",
       "ARyxWZ6bu7soBbiySGdRzmyV3I+wNBNgmSfLmGTkAXh5tezwyCUdhBOWCiF7pj7Auud7P4vy9ixZ\n",
       "Gow5OV8Zi1MNU4a1yV+g5CdQOxxP130daASSSSriTTtnBASd7+LNN9fULAkDVyJ9aR9LABvxzIwR\n",
       "SGO3vYIoigdVVZrGAOOtY1J8YGEgangx4iaAjIgZuCK/iAMfBneRl5eslVEN3ABQzYshm4WqOKYx\n",
       "wOrHcm+aKIkQMJH2cs1awVTe+BydFbYRxkBrizHlE2MBk0FD2DgG2k7u2pxnl6m9H7wNi9NWgIlv\n",
       "XT8AUooHO3CzNRkRtoKOrrQ5LhaZOSwYZRKHYW/bANh71BL2XwBqeQD5/+D3j3Ru2QRL2DSwJSg0\n",
       "lPkn/gAYoY/DzD5pJAAAAABJRU5ErkJggg==\n",
       "\" style=\"display:inline;vertical-align:middle;\" /></a></span></td></tr>\n",
       "</table>"
      ],
      "text/plain": [
       "<proveit._core_.proof._ShowProof at 0x7f94eada4550>"
      ]
     },
     "execution_count": 1,
     "metadata": {},
     "output_type": "execute_result"
    }
   ],
   "source": [
    "import proveit\n",
    "%show_proof"
   ]
  },
  {
   "cell_type": "code",
   "execution_count": null,
   "metadata": {},
   "outputs": [],
   "source": []
  }
 ],
 "metadata": {
  "kernelspec": {
   "display_name": "Python 3",
   "language": "python",
   "name": "python3"
  }
 },
 "nbformat": 4,
 "nbformat_minor": 0
}
