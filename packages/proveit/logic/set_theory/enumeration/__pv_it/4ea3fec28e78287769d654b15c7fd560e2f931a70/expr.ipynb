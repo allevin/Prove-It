{
 "cells": [
  {
   "cell_type": "markdown",
   "metadata": {},
   "source": [
    "Expression of type <a class=\"ProveItLink\" href=\"../../../../../../../doc/html/api/proveit.ExprTuple.html\">ExprTuple</a>\n",
    "=======================\n",
    "# from context <a class=\"ProveItLink\" href=\"../../_context_.ipynb\">proveit.logic.set_theory.enumeration</a>"
   ]
  },
  {
   "cell_type": "code",
   "execution_count": 1,
   "metadata": {},
   "outputs": [],
   "source": [
    "# import Expression classes needed to build the expression\n",
    "from proveit import ExprTuple\n",
    "from proveit._common_ import A, B, C, D\n",
    "from proveit.logic import NotEquals"
   ]
  },
  {
   "cell_type": "code",
   "execution_count": 2,
   "metadata": {},
   "outputs": [
    {
     "data": {
      "text/html": [
       "<strong id=\"expr\">expr:</strong> <a class=\"ProveItLink\" href=\"expr.ipynb\"><img src=\"data:image/png;base64,iVBORw0KGgoAAAANSUhEUgAAANIAAAAVCAMAAAAEqkB8AAAAPFBMVEX///8LCwsYGBgNDQ0oKCjc\n",
       "3NwiIiJERESqqqqYmJh2dnZmZmYQEBDu7u4yMjJUVFTMzMyIiIi6uroAAACIMCsmAAAAAXRSTlMA\n",
       "QObYZgAAAlxJREFUWMPdmNmapCAMhZmFTXby/u86sikqo8Gqby6Gi7arGn+Tw0nAJuS/HDE8z1no\n",
       "Fx70DcgtQ8Zy9a7/1rPRXGqPtzoAtw5u4xCNghBiAndKSULVW0aogVju82dVLtb0kyyMSO4cuuYF\n",
       "AcOccJBFy2wSVa6vGARKjgJEuSsnerCdZGAQ+noI9epG64+BGMvqpAXoS0YKYCFV3Dxdpo+6v5MK\n",
       "NeJftAl1lmxEMg2x24OjfstIgcSDyGZlxUPeYZ/TS8HP3/AaBdMDKVEQVZ2SwlcvGSmQZk9a/cIF\n",
       "Ub3M0aymvBq71l7vYFdswAcZoSAUdimNf8fIgfDNgSWlRRHb3WjiXiVZSZvH71/ppzs42IUQFBuV\n",
       "NQ6iQN4044lA2qRWAsIS3S1vzPKpZ21qKRk2aA44CIO7/WUikPaVqz5dC7NzrE8d3sHZr/Eadyul\n",
       "cNUaCYGuRZuXjL6UiNZt3fqUym/63CftVc/WugcNDwnRe0rCv2T0pSSbuGtKems8ojWx3cJsHT9/\n",
       "sDx472DZVlucnoGFuH3XufhrJpBw3Pqz8bjcdoLxrj3Qpu1KrW2ZbjtBQvZgFnMy31QgdYX5dgSS\n",
       "NjW9uplv9jQPBm6l5HUBGWBkGiLLAkdFj4i5QErW3u4rveYTM4tyDVkFyQGsutVG8XpUbP3f6LJq\n",
       "M5DUA+x6ZhVHxAzDtEC46qoxHaT17YlfKNTryf1bAwbygEAGkg9E5aD318EMBiTv/4yBPCCQgZAl\n",
       "XF8uXmkjPxdYfmeRSiFS96k24XOBw3cWyVX70nB7Mvn8HwH/jBFSn/gDBcYkjJNFCEsAAAAASUVO\n",
       "RK5CYII=\n",
       "\" style=\"display:inline;vertical-align:middle;\" /></a><br>"
      ],
      "text/plain": [
       "expr: (A != B , A != C , A != D)"
      ]
     },
     "execution_count": 2,
     "metadata": {},
     "output_type": "execute_result"
    }
   ],
   "source": [
    "# build up the expression from sub-expressions\n",
    "expr = ExprTuple(NotEquals(A, B), NotEquals(A, C), NotEquals(A, D))"
   ]
  },
  {
   "cell_type": "code",
   "execution_count": 3,
   "metadata": {},
   "outputs": [
    {
     "name": "stdout",
     "output_type": "stream",
     "text": [
      "Passed sanity check: built 'expr' is the same as the stored Expression.\n"
     ]
    }
   ],
   "source": [
    "# check that the built expression is the same as the stored expression\n",
    "%check_expr"
   ]
  },
  {
   "cell_type": "code",
   "execution_count": 4,
   "metadata": {},
   "outputs": [
    {
     "data": {
      "text/html": [
       "<table><tr><th>&nbsp;</th><th>core type</th><th>sub-expressions</th><th>expression</th></tr>\n",
       "<tr><td>0</td><td>ExprTuple</td><td>1, 2, 3</td><td><a class=\"ProveItLink\" href=\"expr.ipynb\"><img src=\"data:image/png;base64,iVBORw0KGgoAAAANSUhEUgAAANIAAAAVCAMAAAAEqkB8AAAAPFBMVEX///8LCwsYGBgNDQ0oKCjc\n",
       "3NwiIiJERESqqqqYmJh2dnZmZmYQEBDu7u4yMjJUVFTMzMyIiIi6uroAAACIMCsmAAAAAXRSTlMA\n",
       "QObYZgAAAlxJREFUWMPdmNmapCAMhZmFTXby/u86sikqo8Gqby6Gi7arGn+Tw0nAJuS/HDE8z1no\n",
       "Fx70DcgtQ8Zy9a7/1rPRXGqPtzoAtw5u4xCNghBiAndKSULVW0aogVju82dVLtb0kyyMSO4cuuYF\n",
       "AcOccJBFy2wSVa6vGARKjgJEuSsnerCdZGAQ+noI9epG64+BGMvqpAXoS0YKYCFV3Dxdpo+6v5MK\n",
       "NeJftAl1lmxEMg2x24OjfstIgcSDyGZlxUPeYZ/TS8HP3/AaBdMDKVEQVZ2SwlcvGSmQZk9a/cIF\n",
       "Ub3M0aymvBq71l7vYFdswAcZoSAUdimNf8fIgfDNgSWlRRHb3WjiXiVZSZvH71/ppzs42IUQFBuV\n",
       "NQ6iQN4044lA2qRWAsIS3S1vzPKpZ21qKRk2aA44CIO7/WUikPaVqz5dC7NzrE8d3sHZr/Eadyul\n",
       "cNUaCYGuRZuXjL6UiNZt3fqUym/63CftVc/WugcNDwnRe0rCv2T0pSSbuGtKems8ojWx3cJsHT9/\n",
       "sDx472DZVlucnoGFuH3XufhrJpBw3Pqz8bjcdoLxrj3Qpu1KrW2ZbjtBQvZgFnMy31QgdYX5dgSS\n",
       "NjW9uplv9jQPBm6l5HUBGWBkGiLLAkdFj4i5QErW3u4rveYTM4tyDVkFyQGsutVG8XpUbP3f6LJq\n",
       "M5DUA+x6ZhVHxAzDtEC46qoxHaT17YlfKNTryf1bAwbygEAGkg9E5aD318EMBiTv/4yBPCCQgZAl\n",
       "XF8uXmkjPxdYfmeRSiFS96k24XOBw3cWyVX70nB7Mvn8HwH/jBFSn/gDBcYkjJNFCEsAAAAASUVO\n",
       "RK5CYII=\n",
       "\" style=\"display:inline;vertical-align:middle;\" /></a></td></tr>\n",
       "<tr><td>1</td><td>Operation</td><td>operator:&nbsp;6<br>operands:&nbsp;4<br></td><td><a class=\"ProveItLink\" href=\"../10456b0ba0f4dd93afbc027ca6303bf38e6e17150/expr.ipynb\"><img src=\"data:image/png;base64,iVBORw0KGgoAAAANSUhEUgAAADsAAAAUCAMAAAAEAbViAAAAPFBMVEX///8LCwsYGBgNDQ0oKCh2\n",
       "dnYQEBBERERUVFS6urqIiIhmZmaqqqrc3Nzu7u6YmJgyMjIiIiLMzMwAAAAhTRy8AAAAAXRSTlMA\n",
       "QObYZgAAAOtJREFUOMvFU9m2gzAITLdAdiL//6/VbGrMbe7pS+dBjiM4DCRCzPByYo4ljlhHp9eA\n",
       "zLgCSB1p4lEtqo6QkILhw4cQ2U9l1+5Yl4h7kjXs/iGrS1bg186trLrOAHoGZI5Rti6VF5bDpRaW\n",
       "nsmtOoJW6tXuJE2CEp6P7Yknu6i1NvEgs3Xr2Mxli10f2w+XbWXIvTmF4i+7uhnMQ5L9Pug6+LqZ\n",
       "NmZbR7f7jSvut5gAR7tFDtmW1Y4P1kC2btdx7tHXVuF8sAZuq91F0pbqQHISCMBM5qOsgXwRiMLn\n",
       "a2WN+BrRf136I1mh5ilvFlkLMs2QV5IAAAAASUVORK5CYII=\n",
       "\" style=\"display:inline;vertical-align:middle;\" /></a></td></tr>\n",
       "<tr><td>2</td><td>Operation</td><td>operator:&nbsp;6<br>operands:&nbsp;5<br></td><td><a class=\"ProveItLink\" href=\"../c03fa1b547ae789928ff6421dd73acb977f1ba670/expr.ipynb\"><img src=\"data:image/png;base64,iVBORw0KGgoAAAANSUhEUgAAADsAAAAUCAMAAAAEAbViAAAAPFBMVEX///8LCwsYGBgNDQ0oKCh2\n",
       "dnYQEBBERERUVFS6urqIiIhmZmaqqqrc3Nzu7u6YmJgyMjIiIiLMzMwAAAAhTRy8AAAAAXRSTlMA\n",
       "QObYZgAAAOpJREFUOMvFU0kShCAMzCyyGAhL/v/XUVyiSEmVl+mDFJGkk6YB6GHw0EdOraiPVYBG\n",
       "bRADeDwEI7dyja3aUGFeLC7rgpCYurQU03poYJnFO2TfpY1qq2+VREcY2V410Kctstu5ZFxL4Dhc\n",
       "cnU+DcAyAe1/aKLMPApBLPh+5q8R2tBQ05aqeE8LqaVINjNY1xXNec+HW6QjLYCqbRArGiW5buto\n",
       "FS+J7JgmvF+pYG/HiANwv9q2sWrag5oDbV7ZlDkbq5529t5yvxaXql4rLgRBM0e8oy2ixukhuN6z\n",
       "cgiPkehx6p9owfaP/AD3DApETKVhmAAAAABJRU5ErkJggg==\n",
       "\" style=\"display:inline;vertical-align:middle;\" /></a></td></tr>\n",
       "<tr><td>3</td><td>Operation</td><td>operator:&nbsp;6<br>operands:&nbsp;7<br></td><td><a class=\"ProveItLink\" href=\"../17155a213dda4b194386553cc85df75d179c70ea0/expr.ipynb\"><img src=\"data:image/png;base64,iVBORw0KGgoAAAANSUhEUgAAADwAAAAUCAMAAADm3a4bAAAAPFBMVEX///8LCwsYGBgNDQ0oKCh2\n",
       "dnYQEBBERERUVFS6urqIiIhmZmaqqqrc3Nzu7u6YmJgyMjIiIiLMzMwAAAAhTRy8AAAAAXRSTlMA\n",
       "QObYZgAAAOhJREFUOMvFk8sSgyAMRdOHBEQgmP//16I0FFFLx02zcOROws0JANCNwfVzYI6HsqN6\n",
       "NWpmnYJw3mQRHxZrs11z3mziqRJDZN81Tv3xkH9sle4my+4H45GN7DJ+xI+8McJGQIFzrEUzPlGE\n",
       "fXEzl4SMpX8p9mbbB1ha4/lYvrpGlqQg8GDWPmzfeGRRdIFfjk5zywdGwxkyKFUZpyW1qbSbfzEI\n",
       "MqH3cUdVMccU91tcAw+QFcoRn1yxvXFBRspXxFPh8R1iQZ4pz9ah4tUhIDPZb8beYn4VaOfeK5ss\n",
       "XI/or9f+zRhMP+UFfJYLEqyyVh8AAAAASUVORK5CYII=\n",
       "\" style=\"display:inline;vertical-align:middle;\" /></a></td></tr>\n",
       "<tr><td>4</td><td>ExprTuple</td><td>10, 8</td><td><a class=\"ProveItLink\" href=\"../caee09fb4b5c95b986a9cee46a014afbad9bdc680/expr.ipynb\"><img src=\"data:image/png;base64,iVBORw0KGgoAAAANSUhEUgAAADUAAAAVBAMAAAAUZLt1AAAAMFBMVEX////c3NwiIiJERESqqqqY\n",
       "mJh2dnZmZmYQEBDu7u4yMjJUVFTMzMyIiIi6uroAAAAs73DqAAAAAXRSTlMAQObYZgAAATZJREFU\n",
       "KM9jYMAH+C5gFY4DEach7EMwQdb9v3dvXsfAfgDIXgkRWg/XwWHAwFD/gGEBAwMvxEhW/QkwufNA\n",
       "kfMbGMKAqiBiIvUCMLn7QFZ8AsMMBoZXEIEL9x/A5CyAWGMCA7MDQxnEsRP8A2ByvxkYpCwZGNgK\n",
       "GJaC+fPAtoABz++711WBNMsChj6wwAMG+QKoHO9HBoZJG4BGNTD8A6vdvXu/AVSOuQEo/xUo9gEi\n",
       "xwd07wKoHD9QD+s3sFwLiO/AwMDUAPMe0FHcX8BmmgK5jEA5rg8MDBNg3pMHGsK6gCEdyJ0FsuYn\n",
       "A+cnqPd4uiaA/fCIgUG4fyEDq/2vAs5+oJbi/7t3rwL5lesBA4cAUnQhsUFhxpqA4LIiR2AuIo7Q\n",
       "5ThBfpJG8JFTADfIfEbsaeIOAwMABOxNRsfkiy0AAAAASUVORK5CYII=\n",
       "\" style=\"display:inline;vertical-align:middle;\" /></a></td></tr>\n",
       "<tr><td>5</td><td>ExprTuple</td><td>10, 9</td><td><a class=\"ProveItLink\" href=\"../64d36ff9aa3116e2d1fb41c420506ad5fe919f950/expr.ipynb\"><img src=\"data:image/png;base64,iVBORw0KGgoAAAANSUhEUgAAADUAAAAVBAMAAAAUZLt1AAAAMFBMVEX////c3NwiIiJERESqqqqY\n",
       "mJh2dnZmZmYQEBDu7u4yMjJUVFTMzMyIiIi6uroAAAAs73DqAAAAAXRSTlMAQObYZgAAAS1JREFU\n",
       "KM9jYMAH+C5gFY4DEach7ENwUc7L20sZC9gPAJkrISLr4XIZAQx8FQEMCxgYeCFGsupPgErN0gQS\n",
       "+QIMYQwMHBAxkXoBqNwKkMALBoYZDAyvICIX7j+AMNi/gEhxBgZmB4YyiGMn+AdA5OQXgMg5DAxs\n",
       "BQxLwSLzGM5DvVIPVcPAsoChD8x4wCBfABHSh9nL18DwD0Tz7N693wAi9B9MAt3D8wEixwd07wKI\n",
       "XD/YvANguRYQ24GBgakBIrcf5AV2iJmmQIoRKMf1AWwSxE2ZoNBYwJAOCgogZv7JwPkJJAT033OQ\n",
       "e4B+eMTAINy/kIHV/lcBZz9I7PTqcgeQ4VwPGDgEkKILiQ0KM9YEBJcVOQJzEXGELscJ8pM0go+c\n",
       "ArhB5jNiTxN3GBgAYvhEoGDobKYAAAAASUVORK5CYII=\n",
       "\" style=\"display:inline;vertical-align:middle;\" /></a></td></tr>\n",
       "<tr><td>6</td><td>Literal</td><td></td><td><a class=\"ProveItLink\" href=\"../../../../equality/__pv_it/43637204f35b46c076ae787093288c6a879642310/expr.ipynb\"><img src=\"data:image/png;base64,iVBORw0KGgoAAAANSUhEUgAAAA4AAAAUCAMAAACK2/weAAAAM1BMVEX///8LCwsYGBgNDQ0oKCju\n",
       "7u4iIiJmZmaqqqpERETMzMy6urpUVFQyMjLc3Nx2dnYAAAB8DqOrAAAAAXRSTlMAQObYZgAAAE5J\n",
       "REFUGNNjYEAAfj4kDgMfLzKPgYebaEkuThRJTi4wxc4LBizMIJIHTRIKuHlQdPLCHMTOBgRMjGxg\n",
       "wIkmiVcnGHCwo0iysRItyYDsMQCO9QJkhxsUAQAAAABJRU5ErkJggg==\n",
       "\" style=\"display:inline;vertical-align:middle;\" /></a></td></tr>\n",
       "<tr><td>7</td><td>ExprTuple</td><td>10, 11</td><td><a class=\"ProveItLink\" href=\"../c3e1327e10e2efc10d065acd1ceea221bf0d8c7b0/expr.ipynb\"><img src=\"data:image/png;base64,iVBORw0KGgoAAAANSUhEUgAAADcAAAAVBAMAAAAQkWtIAAAAMFBMVEX////c3NwiIiJERESqqqqY\n",
       "mJh2dnZmZmYQEBDu7u4yMjJUVFTMzMyIiIi6uroAAAAs73DqAAAAAXRSTlMAQObYZgAAATxJREFU\n",
       "KM99Uj1LA0EQffFcvUsu8UA7C3+CNmIjJP8gqSw1nZVwINh6oLVJKRZyFiJW9l4RsbVIfkAgh6VV\n",
       "UBBiNPpmN+sl+LGwszvv7c7sm1ng31Hq/I5vi3kw+3sLFlvD5HYTmL+jc22wm+8rCzFQrQBciiaq\n",
       "Wm1asl3ntQGwBbgGXDoMLNlLAf8DOAWeDNIRyIwyZ24IOBUcmCc3qzVLvnD6JOdCXGrgHG2rSCJC\n",
       "vQKzMU40kmIltFLeaQojRosw0qeTpLU2Jp0+jRsR7BuyRDe2MuXUTk2TxwJQ8kxkZUryI+iw6/Jw\n",
       "knlG05J7LJsjZVMxdrmcSaoBvOexTP9KNpTyCCw2LqDKb6HXCODtfybJhtQc+RRuMNG9YLJnLJ+q\n",
       "Z66aauhe1rIfpCfaljN/6k8UJEfuj2/SBb4AksVMByFvzcoAAAAASUVORK5CYII=\n",
       "\" style=\"display:inline;vertical-align:middle;\" /></a></td></tr>\n",
       "<tr><td>8</td><td>Variable</td><td></td><td><a class=\"ProveItLink\" href=\"../../../../../__pv_it/077b2ff79244fb4582cbe22c6e3356fa92a52f2f0/expr.ipynb\"><img src=\"data:image/png;base64,iVBORw0KGgoAAAANSUhEUgAAABAAAAAOBAMAAADUAYG5AAAAMFBMVEX///+qqqru7u4iIiJ2dnbc\n",
       "3NyIiIjMzMxmZmYQEBC6uroyMjJERERUVFSYmJgAAADLUcuvAAAAAXRSTlMAQObYZgAAAGpJREFU\n",
       "CNdjYGB4+//u3dMLGIBgDgMDxy8gzf4NiP8CGWxfGRj4vgAZPBMYGJgnARn8FxhY9ygAGfXX0pof\n",
       "gDTlBzAw2YIYJ0EckBBI53sHoBH/gIz7AhBjWH9DjancBLTl/N+7t/cxMAAA3u4f/5xagjYAAAAA\n",
       "SUVORK5CYII=\n",
       "\" style=\"display:inline;vertical-align:middle;\" /></a></td></tr>\n",
       "<tr><td>9</td><td>Variable</td><td></td><td><a class=\"ProveItLink\" href=\"../../../../../__pv_it/985a1bdf1540838275dec15f4ad6de261cca93ce0/expr.ipynb\"><img src=\"data:image/png;base64,iVBORw0KGgoAAAANSUhEUgAAAA8AAAAOBAMAAAACpFvcAAAAMFBMVEX////MzMyqqqoiIiIyMjK6\n",
       "uroQEBB2dnbc3NyYmJhmZmZUVFRERESIiIju7u4AAAB204erAAAAAXRSTlMAQObYZgAAAGZJREFU\n",
       "CNdjYGDgu7NrJccCBgaGsgkMrMsmMDA8sQNy6hsYGNweABlhDAxcn4A0QxcDQ78DiPGQgWH9BAYI\n",
       "sG+AMv6DSaCGfBDNJMDAsB+kmwuI5S8AiTog5gSaEwXWIO29SgFIAQBC+RaDQlidVgAAAABJRU5E\n",
       "rkJggg==\n",
       "\" style=\"display:inline;vertical-align:middle;\" /></a></td></tr>\n",
       "<tr><td>10</td><td>Variable</td><td></td><td><a class=\"ProveItLink\" href=\"../../../../../__pv_it/2cbe72a7ad6f655694dd697106680215e8489b600/expr.ipynb\"><img src=\"data:image/png;base64,iVBORw0KGgoAAAANSUhEUgAAAA8AAAAOBAMAAAACpFvcAAAALVBMVEX///8QEBBERERUVFS6urqI\n",
       "iIhmZmaqqqrc3Nzu7u6YmJgyMjIiIiLMzMwAAADtIaYWAAAAAXRSTlMAQObYZgAAAFtJREFUCNdj\n",
       "YACBOwxQsA9Kc52bAGG05zVAGAFxDmCaZULdAjBjCsO9ADDDgaEvAUTzGhvbKYCVMDAwbgAxChgY\n",
       "eASANAeQwf0AyJgNxEwvGRia5HYwcOm9TgAA6BoR3jrzwFcAAAAASUVORK5CYII=\n",
       "\" style=\"display:inline;vertical-align:middle;\" /></a></td></tr>\n",
       "<tr><td>11</td><td>Variable</td><td></td><td><a class=\"ProveItLink\" href=\"../../../../../__pv_it/185e6d30f167ee2ee5ef3321098dc98e0d77bc590/expr.ipynb\"><img src=\"data:image/png;base64,iVBORw0KGgoAAAANSUhEUgAAABEAAAAOBAMAAAA7w+qHAAAALVBMVEX///8QEBCYmJjc3Ny6urru\n",
       "7u5mZmZ2dnaqqqrMzMxEREQyMjJUVFSIiIgAAABETr/8AAAAAXRSTlMAQObYZgAAAGpJREFUCNdj\n",
       "YGC48+7MmV0TGEDgNQMDxwsQg/M5kMgLABK8T4DEvAtAgusBkLA7ACT4FoDEDsAk9AqAxD2QCecc\n",
       "gMQ6kAGCIOIVEDM9Ahn3FkgwgnTxvgQSqwOgxs1OADLC1r05cyoTyAAAv4Qe+njAWvgAAAAASUVO\n",
       "RK5CYII=\n",
       "\" style=\"display:inline;vertical-align:middle;\" /></a></td></tr>\n",
       "</table>\n"
      ],
      "text/plain": [
       "0. (A != B , A != C , A != D)\n",
       "   core type: ExprTuple\n",
       "   sub-expressions: 1, 2, 3\n",
       "1. A != B\n",
       "   core type: Operation\n",
       "   operator: 6\n",
       "   operands: 4\n",
       "2. A != C\n",
       "   core type: Operation\n",
       "   operator: 6\n",
       "   operands: 5\n",
       "3. A != D\n",
       "   core type: Operation\n",
       "   operator: 6\n",
       "   operands: 7\n",
       "4. (A , B)\n",
       "   core type: ExprTuple\n",
       "   sub-expressions: 10, 8\n",
       "5. (A , C)\n",
       "   core type: ExprTuple\n",
       "   sub-expressions: 10, 9\n",
       "6. !=\n",
       "   core type: Literal\n",
       "   sub-expressions: \n",
       "7. (A , D)\n",
       "   core type: ExprTuple\n",
       "   sub-expressions: 10, 11\n",
       "8. B\n",
       "   core type: Variable\n",
       "   sub-expressions: \n",
       "9. C\n",
       "   core type: Variable\n",
       "   sub-expressions: \n",
       "10. A\n",
       "    core type: Variable\n",
       "    sub-expressions: \n",
       "11. D\n",
       "    core type: Variable\n",
       "    sub-expressions: "
      ]
     },
     "execution_count": 4,
     "metadata": {},
     "output_type": "execute_result"
    }
   ],
   "source": [
    "# display the expression information\n",
    "expr.exprInfo()"
   ]
  },
  {
   "cell_type": "code",
   "execution_count": null,
   "metadata": {},
   "outputs": [],
   "source": []
  }
 ],
 "metadata": {
  "kernelspec": {
   "display_name": "Python 3",
   "language": "python",
   "name": "python3"
  }
 },
 "nbformat": 4,
 "nbformat_minor": 0
}
