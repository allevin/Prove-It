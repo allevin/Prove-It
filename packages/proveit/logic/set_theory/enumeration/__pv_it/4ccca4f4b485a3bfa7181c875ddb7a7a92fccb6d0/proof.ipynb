{
 "cells": [
  {
   "cell_type": "markdown",
   "metadata": {},
   "source": [
    "Show the Proof\n",
    "========"
   ]
  },
  {
   "cell_type": "code",
   "execution_count": 1,
   "metadata": {},
   "outputs": [
    {
     "data": {
      "text/html": [
       "<table><tr><th>&nbsp;</th><th>step type</th><th>requirements</th><th>statement</th></tr>\n",
       "<tr><td>0</td><td>specialization</td><td>1</td><td><span style=\"font-size:20px;\"> <a class=\"ProveItLink\" href=\"proof.ipynb\" style=\"text-decoration: none\">&#x22A2;&nbsp;</a><a class=\"ProveItLink\" href=\"../8b4ff72780aaf0e2e6e137786862e1c42739a2bb0/expr.ipynb\"><img src=\"data:image/png;base64,iVBORw0KGgoAAAANSUhEUgAAAHkAAAAVBAMAAACQ4lxbAAAAMFBMVEX////c3NwiIiJERESqqqqY\n",
       "mJh2dnZmZmYQEBDu7u4yMjJUVFTMzMyIiIi6uroAAAAs73DqAAAAAXRSTlMAQObYZgAAAftJREFU\n",
       "OMtjYMABWEshNE+aAAMewHcBmyinGozF0wIk4nDpPo1VlPcDnFkFxOwHUKWzPq9foewAZKzEqput\n",
       "Ac7MABEL0OQN3nKuTANacoEo3WEYuhnucTEwcExA9u0tJaUFWHXPgLDnLlLSgul25Z7A8ArZxFOR\n",
       "uOxmdgCH4NIJSHYLMzCUAZlit0WugzzAaIni8mllDIw/obrZCkCk8ASEy3lUgaqXAt2bwKrKoQCy\n",
       "ABG17EAPJLwHB308iM8C9pAhwt+P9H8ALewDmgtUxAKKkskIP5x4wMDjUMTAbMDAwAWylg/kE04D\n",
       "5FC768zA8A8oyMANEX6hpAQNtdM9IOFeBn6Qh6wCgD4GxT9fE1AeHmrMfAkg3cCAv4CecF4A3cLy\n",
       "k+E8kGJKYIDq5tmAbDczgwEDKB0yyB9gAIXHJIRu7gVgv99ggPob4nIFdN2mwAwhcJ+BF6SbOwAR\n",
       "5gpgD1vDYowV7KGtKLqBLk9nYPAPsGCQBScWPZQYY9/A95UBJcYmPUDSHX6ZgeERMKivTcuF2CpV\n",
       "g6yb0/b6R5huLrA+xuUH4LnEqBuYgDhQsq/3IpSUCnI/Skpl2QUNc1gpkIAzl2ximOEA052LI39j\n",
       "z6GsQN1qDGaw/M25AIduaayinLoMDL7XQZ7l6QPFBq7iiRF7BmdNQS7X7mDXCwBJp4EyTEZ7/AAA\n",
       "AABJRU5ErkJggg==\n",
       "\" style=\"display:inline;vertical-align:middle;\" /></a></span></td></tr>\n",
       "<tr><td>&nbsp;</td><td colspan=4 style=\"text-align:left\"><span style=\"font-size:20px;\"><a class=\"ProveItLink\" href=\"../../../../../__pv_it/530be409e3083890784cf1d7b28c9e67e90af9360/expr.ipynb\"><img src=\"data:image/png;base64,iVBORw0KGgoAAAANSUhEUgAAAAsAAAAJBAMAAAAWSsseAAAAKlBMVEX///9ERETMzMwQEBAiIiKY\n",
       "mJju7u5mZmaqqqpUVFSIiIh2dnbc3NwAAAA/vyDhAAAAAXRSTlMAQObYZgAAAENJREFUCNdjYDi9\n",
       "8sTyBQxsG1hdmR0YuBm4LnAoMLAxcAowgADzAjB1VoEhgYH1wFoGrgSG3gBhhlMMDImrs3cFMAAA\n",
       "t0YN+iTRa+sAAAAASUVORK5CYII=\n",
       "\" style=\"display:inline;vertical-align:middle;\" /></a> : <a class=\"ProveItLink\" href=\"../../../../../__pv_it/530be409e3083890784cf1d7b28c9e67e90af9360/expr.ipynb\"><img src=\"data:image/png;base64,iVBORw0KGgoAAAANSUhEUgAAAAsAAAAJBAMAAAAWSsseAAAAKlBMVEX///9ERETMzMwQEBAiIiKY\n",
       "mJju7u5mZmaqqqpUVFSIiIh2dnbc3NwAAAA/vyDhAAAAAXRSTlMAQObYZgAAAENJREFUCNdjYDi9\n",
       "8sTyBQxsG1hdmR0YuBm4LnAoMLAxcAowgADzAjB1VoEhgYH1wFoGrgSG3gBhhlMMDImrs3cFMAAA\n",
       "t0YN+iTRa+sAAAAASUVORK5CYII=\n",
       "\" style=\"display:inline;vertical-align:middle;\" /></a>, <a class=\"ProveItLink\" href=\"../../../../../__pv_it/f8b9edf8e16034727f0aad55bb83e392c3db40d40/expr.ipynb\"><img src=\"data:image/png;base64,iVBORw0KGgoAAAANSUhEUgAAAAsAAAANBAMAAACN24kIAAAAMFBMVEX///+YmJhUVFQyMjIQEBBE\n",
       "REQiIiKqqqrMzMyIiIi6urrc3NxmZmZ2dnbu7u4AAADXeCicAAAAAXRSTlMAQObYZgAAAFhJREFU\n",
       "CNdj4LtzgWH/AwZerg8M8xkY2nkSGEIZGB6wTGD4ycDAUP+A4weQOszA6QCkbBhYFYDUIYb1AkDq\n",
       "6czzGxhA4BoQMyXwuQMptgusF4AU+8xTQBIAUqMVoSp/SLMAAAAASUVORK5CYII=\n",
       "\" style=\"display:inline;vertical-align:middle;\" /></a> : <a class=\"ProveItLink\" href=\"../../../../../__pv_it/f8b9edf8e16034727f0aad55bb83e392c3db40d40/expr.ipynb\"><img src=\"data:image/png;base64,iVBORw0KGgoAAAANSUhEUgAAAAsAAAANBAMAAACN24kIAAAAMFBMVEX///+YmJhUVFQyMjIQEBBE\n",
       "REQiIiKqqqrMzMyIiIi6urrc3NxmZmZ2dnbu7u4AAADXeCicAAAAAXRSTlMAQObYZgAAAFhJREFU\n",
       "CNdj4LtzgWH/AwZerg8M8xkY2nkSGEIZGB6wTGD4ycDAUP+A4weQOszA6QCkbBhYFYDUIYb1AkDq\n",
       "6czzGxhA4BoQMyXwuQMptgusF4AU+8xTQBIAUqMVoSp/SLMAAAAASUVORK5CYII=\n",
       "\" style=\"display:inline;vertical-align:middle;\" /></a></span></td></tr><tr><td>1</td><td>theorem</td><td></td><td><span style=\"font-size:20px;\"> <a class=\"ProveItLink\" href=\"../../_proofs_/inSingletonIsBool.ipynb\" style=\"text-decoration: none\">&#x22A2;&nbsp;</a><a class=\"ProveItLink\" href=\"../e90c6ef7d6127b97b117164a829423fd9032750d0/expr.ipynb\"><img src=\"data:image/png;base64,iVBORw0KGgoAAAANSUhEUgAAALkAAAAWBAMAAABuySBUAAAAMFBMVEX///8QEBC6urrMzMxUVFRm\n",
       "ZmZERETc3NwyMjKqqqp2dnaIiIiYmJgiIiLu7u4AAAAU9Wx4AAAAAXRSTlMAQObYZgAAAtVJREFU\n",
       "SMetVU1oE0EUftlNdk12uw3NQaREIgiKIqbgRUESK7T1BynqQcjBnFJLL3tqBVEXobeqARUED66H\n",
       "UjS0BJRAiegq+ENFiDcRAttLKS1CoFAFBX2zs7ObSadWxAffzsybb7+ZeW9+AP7F3ji0PDKzBdHd\n",
       "tGe/j4321Wa1vjKAnhH//xrRIJUPgk45TyGwl0EtZuHnHN+buH3pe3oU+7IAj4njlkBim0shsEeh\n",
       "UpIwO7oVqbq8gsvDkcexqRYFEnUfW6vr9gZ1LYPSC3R6sbJAYqePwFZvNj8L1Y0kT0D1uHMGYBEH\n",
       "npmYuCoQlyyKMA9T7iZzh1GeQOa+B8Oh4KTXS6UvAvWYTaFWBh8UiGPcbY+MMW3DdddXnwaOgOpH\n",
       "32IjMQxwHGBElFSHYgU+OmniaCNdwD+lFtk6eou07wNHUKTmr14s47j03WBYAvVIhsJGkTskuGHm\n",
       "5R6Aw7EGlLA+SRy7gCOQyMxjS8KFdYHmCNS7MxQuDNA8pJtNmjT5GG5kN1KFH0RpCj85noDqUNyH\n",
       "RFyY5nS5f1AH6A0OF0t4Cj8PXXkNCy9lOZ7gqStU3bAOoafS/wxnJNUg4g8VKVOAugYGWXgjHHnI\n",
       "i72WZHGnkWl0qpPIwEg/JskdIFKr3WYfozgU77QWvCCO06H6rBdwJc925HvgCCwyOsnnPRxUAhI/\n",
       "uHYAamwnD3uI/1SSatW7ujLcWT0PBx3gdmRAQHW9UKQSEPF+/uZ1nIRTLLgND8bY3JPnnkOdzLar\n",
       "L9Uvmkz9BkfAW2z90wmyqclwOom0nJRJTw+kmMR2H4HFh/ibYLbzJggJ1BZZJZewEnDZhJTUYq4F\n",
       "H+JbLNowdjD1RFVMq7DK0nxhDnIO3K1Zf3EDv8JTYis2u9+XxeKdh9RRzWgwDzVPIXqbqhCvn/Xe\n",
       "JhLaQbF61ORfI1Ox94bNKz4EtlBue1e1rJj0lG/qOCMb/qf9BiPCxRFmW4Z0AAAAAElFTkSuQmCC\n",
       "\" style=\"display:inline;vertical-align:middle;\" /></a></span></td></tr>\n",
       "<tr><td>&nbsp;</td><td colspan=4 style-\"text-align:left\"><a class=\"ProveItLink\" href=\"../../_proofs_/inSingletonIsBool.ipynb\">proveit.logic.set_theory.enumeration.inSingletonIsBool</a></td></tr></table>"
      ],
      "text/plain": [
       "<proveit._core_.proof._ShowProof at 0x7f94eb661f98>"
      ]
     },
     "execution_count": 1,
     "metadata": {},
     "output_type": "execute_result"
    }
   ],
   "source": [
    "import proveit\n",
    "%show_proof"
   ]
  },
  {
   "cell_type": "code",
   "execution_count": null,
   "metadata": {},
   "outputs": [],
   "source": []
  }
 ],
 "metadata": {
  "kernelspec": {
   "display_name": "Python 3",
   "language": "python",
   "name": "python3"
  }
 },
 "nbformat": 4,
 "nbformat_minor": 0
}
