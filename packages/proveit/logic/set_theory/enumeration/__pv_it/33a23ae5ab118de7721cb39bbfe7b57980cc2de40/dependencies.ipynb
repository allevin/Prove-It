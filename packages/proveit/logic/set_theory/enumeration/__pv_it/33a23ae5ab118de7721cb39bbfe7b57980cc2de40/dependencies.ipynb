{
 "cells": [
  {
   "cell_type": "markdown",
   "metadata": {},
   "source": [
    "Axiom Dependencies\n",
    "=======================\n",
    "\n",
    "## <a class=\"ProveItLink\" href=\"../../_context_.ipynb\">proveit.logic.set_theory.enumeration</a>.<a class=\"ProveItLink\" href=\"../../_axioms_.ipynb#enumSetDef\">enumSetDef</a> \n"
   ]
  },
  {
   "cell_type": "code",
   "execution_count": 1,
   "metadata": {},
   "outputs": [],
   "source": [
    "from proveit.logic.set_theory.enumeration._axioms_ import enumSetDef"
   ]
  },
  {
   "cell_type": "code",
   "execution_count": 2,
   "metadata": {},
   "outputs": [
    {
     "data": {
      "text/html": [
       "<h3>Theorems that depend directly on enumSetDef</h3>"
      ],
      "text/plain": [
       "<IPython.core.display.HTML object>"
      ]
     },
     "metadata": {},
     "output_type": "display_data"
    },
    {
     "data": {
      "text/html": [
       "<dl>"
      ],
      "text/plain": [
       "<IPython.core.display.HTML object>"
      ]
     },
     "metadata": {},
     "output_type": "display_data"
    },
    {
     "data": {
      "text/html": [
       "<dt><a class=\"ProveItLink\" href=\"../../../../boolean/_proofs_/inBoolDef.ipynb\">proveit.logic.boolean.inBoolDef</a></dt><dd><a class=\"ProveItLink\" href=\"../../../../boolean/__pv_it/e4b2da0c82a93edf3fb4a80ce58edbf8f34075a60/expr.ipynb\"><img src=\"data:image/png;base64,iVBORw0KGgoAAAANSUhEUgAAAVMAAAAVBAMAAAAJExCCAAAAMFBMVEX///8QEBC6urrMzMxUVFRm\n",
       "ZmZERETc3NwyMjKqqqp2dnaIiIiYmJgiIiLu7u4AAAAU9Wx4AAAAAXRSTlMAQObYZgAAA5FJREFU\n",
       "SMfVVk1oU0EQniRNnkleYvGiImoKguIfPWjxUlpsQLzYQBFEKcZLa0FsDtJaihhEaQ/a5mDBm70U\n",
       "kYIEvCgeGjwUbVFaoR7E1FS0FEGQgrGgWHdmd/P+dl/ODnybl939dr7dnZ1dgP/HKoq6YJFDby8V\n",
       "dYcEfMxMqUj1HEksYMW8s/2YALNWZ0ts/PLG7j6AcLNn0FA7B34uuNrCZbIsdClIKgLaMDGbLTzG\n",
       "ijFnpzGratzFjwSLa98mAfKekbdUOPDzh9dxKEMt9E1rG5IkDQGOU5m3MMB+jKyjT7zIgTv2qeKR\n",
       "Gk8x2pxn5BcCzN781Uk1J7HskP39CELqnAWcV7jg6BOocDAbupij3+SzcjkvpEZLZwBWPCPvEWAz\n",
       "n/ilk5psxLIFi2XwJwipKxbMR4ODN5x9DggwK87wg3DirW1V97NNiBTcRzHPgbsSX9dJhT7abzb/\n",
       "aAb8CUIqOpKo9vR8cPY5L8CGqjws0bSv2gKgdZateCzjPjmTHMyORv9opU5hgTJRri9BSEVHEixw\n",
       "eqlyRPa5KwDwGdooZiM5S2p5cxd6o/U4N4p2m1aqxME2ORX6TeKpcbTdIfUBiM1vkSSLYB+uJhUd\n",
       "SeyDJLk1a5uwTQCP6k3ysOo4Vs9ZAAQbXWsQSHGwJjB+ale1SR7Bk5KkIwip6EgiAXGa29faJqwL\n",
       "QCid7qTk0IRZUR4ryB5kTe70sjXFwTJyOl3VSm2jMiGWx48gpKIjiXgpQaf9yZJHapDNOw/WfSCl\n",
       "RnylsmJHHanhQqxkSVUTFFKTeRISKvbIPjsFgB26BG30d49UHgDddAm9p70scECUYdFxRXkDwMgn\n",
       "QJIsgn04ZQBAL4VNA3RLOVcEjIK8RxpKDqksAEz3dRUpccCQ4o6zpL7i/zrmayQdQUhFRxIwQRfw\n",
       "a5iRfaYE1nAwukeS72xSzQtZRbKSCYWCsL/im6zY+V+ukXQERbKCAOaj5NLZWvcjHAN7R8Ds3yAX\n",
       "17tqz5Xq4mlMM+43UnCBYFzayMHs5h2vVJ5Cb4kHQ0aSNAQWC4sUC+hIAkyUGM5Bm3wtBXIcdrt/\n",
       "r+zYcu/Ful3A15Iix4UqFsnfbBersMPsOMqAxDcFf1fobdpTI98VvhYrekn1HU3bHX6pgtH5UfEI\n",
       "1K2O7yNQb2sKUl1HEiq7JqC3hpynymjn8LVTClJdRxIqM4ocenuqebUP+zuONyuf+nUcCfwDov0k\n",
       "9Q88fGgAAAAASUVORK5CYII=\n",
       "\" style=\"display:inline;vertical-align:middle;\" /></a></dd>"
      ],
      "text/plain": [
       "<IPython.core.display.HTML object>"
      ]
     },
     "metadata": {},
     "output_type": "display_data"
    },
    {
     "data": {
      "text/html": [
       "<dt><a class=\"ProveItLink\" href=\"../../_proofs_/singletonDef.ipynb\">proveit.logic.set_theory.enumeration.singletonDef</a></dt><dd><a class=\"ProveItLink\" href=\"../923a7dc38b83be31d38162c00e9400f6b23f2e3b0/expr.ipynb\"><img src=\"data:image/png;base64,iVBORw0KGgoAAAANSUhEUgAAAO8AAAAWBAMAAADaw9ZbAAAAMFBMVEX///8QEBC6urrMzMxUVFRm\n",
       "ZmZERETc3NwyMjKqqqp2dnaIiIiYmJgiIiLu7u4AAAAU9Wx4AAAAAXRSTlMAQObYZgAAAxhJREFU\n",
       "SMe9VkFoE0EU/dmk2SbZboM9SJFKBA+CFFPoRS8tFaqohyIeilXUS3LQwx6kVYt2DxY81FJQTx66\n",
       "l1JqaAm0BrRil16EipCTSDWwveTQIhQLetCD8+dPstnd2Vh68MMjk5n39s/++f/PAhzAtGticGYe\n",
       "DmxO2IJSJARN36wPe2YA1iWUk+EO1wXK+OejhNArELTUbn3YYjJkA4xof7hjpCMW8M+0hDAdMg+Q\n",
       "THuHZoDR6jSJsUkYZT/qTclrFQn7cLwRYKw2O9wNAm6uZSa4HHEIru08rXyROt4KiI82c7xF0ObH\n",
       "xh5Klk8IuOc25YS8cdy/b8Vs5hjpiJ+53KZk+arAg5X7r3nER51Gb/qcBRMOOU4O+fPHYsdXOPdy\n",
       "xFcNQjNEkrMAeYnjKYJuad8iPPPznlROKruwxuKFCZ7gLzj8BO0xzy0bYBs+2V3eeaFBOuI46LLI\n",
       "HCIkWfEksF50NwF7MgCnW8qQY+NJjGzanx+MYDEfz7zTQoN0RBukbInjHwQdYuRR6apUKLl6O7Dv\n",
       "RIrwGw+MRSW669O2Z7AxDQZ6FWmQjkjZbU64Y7b9or8nHMMIzDrRPfaD6SF1DHAk8EzS1BzrJvan\n",
       "wsAKe5xSqpdQpwBMZHlb1ct1fQyPZhhSaXHGFOrrFbTPfK+Y5uoeC5d3njS1UEN+gB2lM4jsnXaj\n",
       "Rzz9DkEz1iDF93LJraEyP9x4vygnzZ8jcXZ2H1hjfe+bJw3SueQFe47CsxgedUNJkOYIs/YtGOcT\n",
       "3zOe4r0Cp2wIKSc2kfgTT6v+xic0opzEIf7iSxfgoiB1E6pvtwuUe+pkttFxdfWGIYatGX8DKYN+\n",
       "e+nVO/8ZkwbpXKJhJKPpKBVRR60kDIJrifPelrkY3jIPh3WtRbdlkvUlzSTcM6BDqWWoZhFCLolY\n",
       "We+sOS5I74GgCU2hUVJ9M7IEfTY8L5n/vhY1rH4rbokmpu/3WiSNLpHYqhGrJ8RdAckXyFcW99XL\n",
       "tSYWMwIMVfohQBqk+yRRI265FxLmpCq/kLWFxm+uZQljPPxyWg5KNLYnC/6T/QXx5OS3NLO31gAA\n",
       "AABJRU5ErkJggg==\n",
       "\" style=\"display:inline;vertical-align:middle;\" /></a></dd>"
      ],
      "text/plain": [
       "<IPython.core.display.HTML object>"
      ]
     },
     "metadata": {},
     "output_type": "display_data"
    },
    {
     "data": {
      "text/html": [
       "</dl>"
      ],
      "text/plain": [
       "<IPython.core.display.HTML object>"
      ]
     },
     "metadata": {},
     "output_type": "display_data"
    }
   ],
   "source": [
    "%dependencies enumSetDef"
   ]
  }
 ],
 "metadata": {
  "kernelspec": {
   "display_name": "Python 3",
   "language": "python",
   "name": "python3"
  }
 },
 "nbformat": 4,
 "nbformat_minor": 0
}
