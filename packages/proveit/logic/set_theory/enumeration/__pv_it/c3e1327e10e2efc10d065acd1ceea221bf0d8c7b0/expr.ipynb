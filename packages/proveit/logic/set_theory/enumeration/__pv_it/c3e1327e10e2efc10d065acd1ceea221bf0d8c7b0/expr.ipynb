{
 "cells": [
  {
   "cell_type": "markdown",
   "metadata": {},
   "source": [
    "Expression of type <a class=\"ProveItLink\" href=\"../../../../../../../doc/html/api/proveit.ExprTuple.html\">ExprTuple</a>\n",
    "=======================\n",
    "# from context <a class=\"ProveItLink\" href=\"../../_context_.ipynb\">proveit.logic.set_theory.enumeration</a>"
   ]
  },
  {
   "cell_type": "code",
   "execution_count": 1,
   "metadata": {},
   "outputs": [],
   "source": [
    "# import Expression classes needed to build the expression\n",
    "from proveit import ExprTuple\n",
    "from proveit._common_ import A, D"
   ]
  },
  {
   "cell_type": "code",
   "execution_count": 2,
   "metadata": {},
   "outputs": [
    {
     "data": {
      "text/html": [
       "<strong id=\"expr\">expr:</strong> <a class=\"ProveItLink\" href=\"expr.ipynb\"><img src=\"data:image/png;base64,iVBORw0KGgoAAAANSUhEUgAAADcAAAAVBAMAAAAQkWtIAAAAMFBMVEX////c3NwiIiJERESqqqqY\n",
       "mJh2dnZmZmYQEBDu7u4yMjJUVFTMzMyIiIi6uroAAAAs73DqAAAAAXRSTlMAQObYZgAAATxJREFU\n",
       "KM99Uj1LA0EQffFcvUsu8UA7C3+CNmIjJP8gqSw1nZVwINh6oLVJKRZyFiJW9l4RsbVIfkAgh6VV\n",
       "UBBiNPpmN+sl+LGwszvv7c7sm1ng31Hq/I5vi3kw+3sLFlvD5HYTmL+jc22wm+8rCzFQrQBciiaq\n",
       "Wm1asl3ntQGwBbgGXDoMLNlLAf8DOAWeDNIRyIwyZ24IOBUcmCc3qzVLvnD6JOdCXGrgHG2rSCJC\n",
       "vQKzMU40kmIltFLeaQojRosw0qeTpLU2Jp0+jRsR7BuyRDe2MuXUTk2TxwJQ8kxkZUryI+iw6/Jw\n",
       "knlG05J7LJsjZVMxdrmcSaoBvOexTP9KNpTyCCw2LqDKb6HXCODtfybJhtQc+RRuMNG9YLJnLJ+q\n",
       "Z66aauhe1rIfpCfaljN/6k8UJEfuj2/SBb4AksVMByFvzcoAAAAASUVORK5CYII=\n",
       "\" style=\"display:inline;vertical-align:middle;\" /></a><br>"
      ],
      "text/plain": [
       "expr: (A , D)"
      ]
     },
     "execution_count": 2,
     "metadata": {},
     "output_type": "execute_result"
    }
   ],
   "source": [
    "# build up the expression from sub-expressions\n",
    "expr = ExprTuple(A, D)"
   ]
  },
  {
   "cell_type": "code",
   "execution_count": 3,
   "metadata": {},
   "outputs": [
    {
     "name": "stdout",
     "output_type": "stream",
     "text": [
      "Passed sanity check: built 'expr' is the same as the stored Expression.\n"
     ]
    }
   ],
   "source": [
    "# check that the built expression is the same as the stored expression\n",
    "%check_expr"
   ]
  },
  {
   "cell_type": "code",
   "execution_count": 4,
   "metadata": {},
   "outputs": [
    {
     "data": {
      "text/html": [
       "<table><tr><th>&nbsp;</th><th>core type</th><th>sub-expressions</th><th>expression</th></tr>\n",
       "<tr><td>0</td><td>ExprTuple</td><td>1, 2</td><td><a class=\"ProveItLink\" href=\"expr.ipynb\"><img src=\"data:image/png;base64,iVBORw0KGgoAAAANSUhEUgAAADcAAAAVBAMAAAAQkWtIAAAAMFBMVEX////c3NwiIiJERESqqqqY\n",
       "mJh2dnZmZmYQEBDu7u4yMjJUVFTMzMyIiIi6uroAAAAs73DqAAAAAXRSTlMAQObYZgAAATxJREFU\n",
       "KM99Uj1LA0EQffFcvUsu8UA7C3+CNmIjJP8gqSw1nZVwINh6oLVJKRZyFiJW9l4RsbVIfkAgh6VV\n",
       "UBBiNPpmN+sl+LGwszvv7c7sm1ng31Hq/I5vi3kw+3sLFlvD5HYTmL+jc22wm+8rCzFQrQBciiaq\n",
       "Wm1asl3ntQGwBbgGXDoMLNlLAf8DOAWeDNIRyIwyZ24IOBUcmCc3qzVLvnD6JOdCXGrgHG2rSCJC\n",
       "vQKzMU40kmIltFLeaQojRosw0qeTpLU2Jp0+jRsR7BuyRDe2MuXUTk2TxwJQ8kxkZUryI+iw6/Jw\n",
       "knlG05J7LJsjZVMxdrmcSaoBvOexTP9KNpTyCCw2LqDKb6HXCODtfybJhtQc+RRuMNG9YLJnLJ+q\n",
       "Z66aauhe1rIfpCfaljN/6k8UJEfuj2/SBb4AksVMByFvzcoAAAAASUVORK5CYII=\n",
       "\" style=\"display:inline;vertical-align:middle;\" /></a></td></tr>\n",
       "<tr><td>1</td><td>Variable</td><td></td><td><a class=\"ProveItLink\" href=\"../../../../../__pv_it/2cbe72a7ad6f655694dd697106680215e8489b600/expr.ipynb\"><img src=\"data:image/png;base64,iVBORw0KGgoAAAANSUhEUgAAAA8AAAAOBAMAAAACpFvcAAAALVBMVEX///8QEBBERERUVFS6urqI\n",
       "iIhmZmaqqqrc3Nzu7u6YmJgyMjIiIiLMzMwAAADtIaYWAAAAAXRSTlMAQObYZgAAAFtJREFUCNdj\n",
       "YACBOwxQsA9Kc52bAGG05zVAGAFxDmCaZULdAjBjCsO9ADDDgaEvAUTzGhvbKYCVMDAwbgAxChgY\n",
       "eASANAeQwf0AyJgNxEwvGRia5HYwcOm9TgAA6BoR3jrzwFcAAAAASUVORK5CYII=\n",
       "\" style=\"display:inline;vertical-align:middle;\" /></a></td></tr>\n",
       "<tr><td>2</td><td>Variable</td><td></td><td><a class=\"ProveItLink\" href=\"../../../../../__pv_it/185e6d30f167ee2ee5ef3321098dc98e0d77bc590/expr.ipynb\"><img src=\"data:image/png;base64,iVBORw0KGgoAAAANSUhEUgAAABEAAAAOBAMAAAA7w+qHAAAALVBMVEX///8QEBCYmJjc3Ny6urru\n",
       "7u5mZmZ2dnaqqqrMzMxEREQyMjJUVFSIiIgAAABETr/8AAAAAXRSTlMAQObYZgAAAGpJREFUCNdj\n",
       "YGC48+7MmV0TGEDgNQMDxwsQg/M5kMgLABK8T4DEvAtAgusBkLA7ACT4FoDEDsAk9AqAxD2QCecc\n",
       "gMQ6kAGCIOIVEDM9Ahn3FkgwgnTxvgQSqwOgxs1OADLC1r05cyoTyAAAv4Qe+njAWvgAAAAASUVO\n",
       "RK5CYII=\n",
       "\" style=\"display:inline;vertical-align:middle;\" /></a></td></tr>\n",
       "</table>\n"
      ],
      "text/plain": [
       "0. (A , D)\n",
       "   core type: ExprTuple\n",
       "   sub-expressions: 1, 2\n",
       "1. A\n",
       "   core type: Variable\n",
       "   sub-expressions: \n",
       "2. D\n",
       "   core type: Variable\n",
       "   sub-expressions: "
      ]
     },
     "execution_count": 4,
     "metadata": {},
     "output_type": "execute_result"
    }
   ],
   "source": [
    "# display the expression information\n",
    "expr.exprInfo()"
   ]
  },
  {
   "cell_type": "code",
   "execution_count": null,
   "metadata": {},
   "outputs": [],
   "source": []
  }
 ],
 "metadata": {
  "kernelspec": {
   "display_name": "Python 3",
   "language": "python",
   "name": "python3"
  }
 },
 "nbformat": 4,
 "nbformat_minor": 0
}
