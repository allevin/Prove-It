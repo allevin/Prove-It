{
 "cells": [
  {
   "cell_type": "markdown",
   "metadata": {},
   "source": [
    "Expression of type <a class=\"ProveItLink\" href=\"../../../../../../../doc/html/api/proveit.logic.Set.html\">Set</a>\n",
    "=======================\n",
    "# from context <a class=\"ProveItLink\" href=\"../../_context_.ipynb\">proveit.logic.set_theory.enumeration</a>"
   ]
  },
  {
   "cell_type": "code",
   "execution_count": 1,
   "metadata": {},
   "outputs": [],
   "source": [
    "# import Expression classes needed to build the expression\n",
    "from proveit._common_ import x, y\n",
    "from proveit.logic import InSet, Set"
   ]
  },
  {
   "cell_type": "code",
   "execution_count": 2,
   "metadata": {},
   "outputs": [
    {
     "data": {
      "text/html": [
       "<strong id=\"expr\">expr:</strong> <a class=\"ProveItLink\" href=\"expr.ipynb\"><img src=\"data:image/png;base64,iVBORw0KGgoAAAANSUhEUgAAAFcAAAAVBAMAAADBdm84AAAAMFBMVEX///9ERETc3NyqqqpUVFS6\n",
       "urrMzMwyMjIQEBCIiIh2dnYiIiLu7u5mZmaYmJgAAABJJ2g3AAAAAXRSTlMAQObYZgAAAUdJREFU\n",
       "KM9jYGDgu8eAFbx9AKHZVilACQYGnl3Y1Z5eAGOxNcMIBs4P2BXPRzCvwwmuBuyKV6AxV1ComGf6\n",
       "7t0FxCpOf0PQZKaVTpY3QRwmGRQVp24xMP1BVswLtPUUw+sH3SAOowJKECyIBwfWexAfTGQEAAWB\n",
       "AWUG4hyEq2VrBWKD2wyMAgwM7BcYIERKG5BxgMERoiRi926IB9k8EoC+Zehk4J8A5Ik/gBIRCSBV\n",
       "nRDFKXCTWUGGMP9hyAdKc4MiE0ywgAxi+gY0BhTHiCBwh/hnBgOym7k2MDA8AnpjDojD8gCueDXE\n",
       "nSLoQcf8j7GBaQI4TraiBB2vA+s/dMU8kmtWzYMoUb+GrJhHcu4nfGnDpBolukGOJDIheTOcMEBR\n",
       "zIdD8Qsg3sUghZqeeXbiyClAH1vODYBGJoQAGr0Yu+pXBuh5EACpg2yELQvWZQAAAABJRU5ErkJg\n",
       "gg==\n",
       "\" style=\"display:inline;vertical-align:middle;\" /></a><br>"
      ],
      "text/plain": [
       "expr: {x in {y}}"
      ]
     },
     "execution_count": 2,
     "metadata": {},
     "output_type": "execute_result"
    }
   ],
   "source": [
    "# build up the expression from sub-expressions\n",
    "expr = Set(InSet(x, Set(y)))"
   ]
  },
  {
   "cell_type": "code",
   "execution_count": 3,
   "metadata": {},
   "outputs": [
    {
     "name": "stdout",
     "output_type": "stream",
     "text": [
      "Passed sanity check: built 'expr' is the same as the stored Expression.\n"
     ]
    }
   ],
   "source": [
    "# check that the built expression is the same as the stored expression\n",
    "%check_expr"
   ]
  },
  {
   "cell_type": "code",
   "execution_count": 4,
   "metadata": {},
   "outputs": [
    {
     "data": {
      "text/html": [
       "<table><tr><th>&nbsp;</th><th>core type</th><th>sub-expressions</th><th>expression</th></tr>\n",
       "<tr><td>0</td><td>Operation</td><td>operator:&nbsp;7<br>operands:&nbsp;1<br></td><td><a class=\"ProveItLink\" href=\"expr.ipynb\"><img src=\"data:image/png;base64,iVBORw0KGgoAAAANSUhEUgAAAFcAAAAVBAMAAADBdm84AAAAMFBMVEX///9ERETc3NyqqqpUVFS6\n",
       "urrMzMwyMjIQEBCIiIh2dnYiIiLu7u5mZmaYmJgAAABJJ2g3AAAAAXRSTlMAQObYZgAAAUdJREFU\n",
       "KM9jYGDgu8eAFbx9AKHZVilACQYGnl3Y1Z5eAGOxNcMIBs4P2BXPRzCvwwmuBuyKV6AxV1ComGf6\n",
       "7t0FxCpOf0PQZKaVTpY3QRwmGRQVp24xMP1BVswLtPUUw+sH3SAOowJKECyIBwfWexAfTGQEAAWB\n",
       "AWUG4hyEq2VrBWKD2wyMAgwM7BcYIERKG5BxgMERoiRi926IB9k8EoC+Zehk4J8A5Ik/gBIRCSBV\n",
       "nRDFKXCTWUGGMP9hyAdKc4MiE0ywgAxi+gY0BhTHiCBwh/hnBgOym7k2MDA8AnpjDojD8gCueDXE\n",
       "nSLoQcf8j7GBaQI4TraiBB2vA+s/dMU8kmtWzYMoUb+GrJhHcu4nfGnDpBolukGOJDIheTOcMEBR\n",
       "zIdD8Qsg3sUghZqeeXbiyClAH1vODYBGJoQAGr0Yu+pXBuh5EACpg2yELQvWZQAAAABJRU5ErkJg\n",
       "gg==\n",
       "\" style=\"display:inline;vertical-align:middle;\" /></a></td></tr>\n",
       "<tr><td>1</td><td>ExprTuple</td><td>2</td><td><a class=\"ProveItLink\" href=\"../45a30d30150c61e097eaacffd06c5a8458b374b40/expr.ipynb\"><img src=\"data:image/png;base64,iVBORw0KGgoAAAANSUhEUgAAAFEAAAAVBAMAAADMaB9/AAAAMFBMVEX////c3NwiIiJERESqqqqY\n",
       "mJh2dnZmZmYQEBDu7u4yMjJUVFTMzMyIiIi6uroAAAAs73DqAAAAAXRSTlMAQObYZgAAAYBJREFU\n",
       "KM9jYMABWEuhjGOJMCG+C9gUcqrBmSccGBjiQIzTWI3k/QBnsi8A4gNAxkqsKtkaUJlA1bwXiFIZ\n",
       "xsDAMQFZwdxFSlpYVc5gYHiFrJBn6QQcZjI7MJQBKbHbItfBjhCegCzNmZ7AID8BopKtgGEpUCSB\n",
       "VZVDASRviOJhNr4PDPeBIQsKBpYFDH1AEWCYsICCgdMAEYgPGBiOsCswGAPZy0Gh3sDwD6iAgRui\n",
       "hK9JSQnio9M9QGICxwWGvyA3Au3l+QBSCQwASFDxbICb+QJkh/8Enj9AChRdQJUtIHH5Awwgv3Aq\n",
       "wFVyA93JUMXA2wB1J9B2UyBT4D4DL9jXWxFBowB2IPMGaCixLmBIB1oSYMEgC5af9AAlEKsZ3gcw\n",
       "wEPpEQPD5GvTcgPA8ozLDyCrnHy3XgDK5HrAwCGAHEksu1BjMwkpNlkTcKYQbgXOFpjKXJypjhUo\n",
       "zZTAnACNLk5QUEhjVcmpC3TK3TpYdHGD3MiIPYGypiDnozsMDABP3l5Umcqp/QAAAABJRU5ErkJg\n",
       "gg==\n",
       "\" style=\"display:inline;vertical-align:middle;\" /></a></td></tr>\n",
       "<tr><td>2</td><td>Operation</td><td>operator:&nbsp;3<br>operands:&nbsp;4<br></td><td><a class=\"ProveItLink\" href=\"../dfa7245ca3101bcab340dec960ee18f167b240720/expr.ipynb\"><img src=\"data:image/png;base64,iVBORw0KGgoAAAANSUhEUgAAAEQAAAAVBAMAAAAN71XTAAAAMFBMVEX///+6uroyMjJERETMzMwQ\n",
       "EBAiIiKYmJju7u5mZmaqqqpUVFSIiIh2dnbc3NwAAAAWgogoAAAAAXRSTlMAQObYZgAAARNJREFU\n",
       "KM9jYMAG2KdDGb73GLADjlw403UBdiU8H+BMTgXsSngDsDGJVNKjlpaEXwmLegMOU96efnXyAIj3\n",
       "uAFZnOPmBYb3DRDmBfZ01gSQhB2KN3gZPzCcB4YQ0HO8QC9yOYACwwARGAIMDF6cCQzGQLYmUIaB\n",
       "GyLHGJaWBnGudwiQaGA9wPAHSDOrAwnWAxDXboCbIgoydX0DyxcgBQ7o9w4MIIdyJMCVcIOCdBID\n",
       "TwDELewPzjPwgP2yHeHTBLAjmDdAPLe+wJThDViiTQAlMGYzyBdAmM1ne+8UgCX4NB2QlTSfmf8A\n",
       "IwK4NqFGwDUC0cidwBGFRwk7UJztAvMFPOmFIwdo65mJsIDGbswtpLQLAHbMQ8XDEKjoAAAAAElF\n",
       "TkSuQmCC\n",
       "\" style=\"display:inline;vertical-align:middle;\" /></a></td></tr>\n",
       "<tr><td>3</td><td>Literal</td><td></td><td><a class=\"ProveItLink\" href=\"../../../membership/__pv_it/088cbc857536a28d4119ad9639a84270ccb0545d0/expr.ipynb\"><img src=\"data:image/png;base64,iVBORw0KGgoAAAANSUhEUgAAAAwAAAAMBAMAAACkW0HUAAAALVBMVEX///+qqqpmZmZUVFQQEBC6\n",
       "urpERETc3NyYmJjMzMwiIiIyMjKIiIju7u4AAACYsrA9AAAAAXRSTlMAQObYZgAAADxJREFUCNdj\n",
       "YOA9vWrVBgaG2b0MQMCeCyIZ2ArA1DUwyRCyahVIyWQI7xaEYm4AU7xLIdxqTQgtvGvVBgCkcQ7e\n",
       "geM/tQAAAABJRU5ErkJggg==\n",
       "\" style=\"display:inline;vertical-align:middle;\" /></a></td></tr>\n",
       "<tr><td>4</td><td>ExprTuple</td><td>5, 6</td><td><a class=\"ProveItLink\" href=\"../091fae42a77b881f2cf7f95eb2cb22ff56aba1e70/expr.ipynb\"><img src=\"data:image/png;base64,iVBORw0KGgoAAAANSUhEUgAAAEEAAAAVBAMAAADrxp6XAAAAMFBMVEX////c3NwiIiJERESqqqqY\n",
       "mJh2dnZmZmYQEBDu7u4yMjJUVFTMzMyIiIi6uroAAAAs73DqAAAAAXRSTlMAQObYZgAAAVlJREFU\n",
       "KM99kjFLw1AUhY+mL80zTckgLiLNopsgiODYf2AmR4kidCq46KCgGTqKBgrimEXEzZ+QQYrQJZMO\n",
       "WlqcxMXgrOJ96ctL4pBA8g6Xj3vvOXnAv4cdSjHYzUrNuAjwFSUf28COEMNSCytRsh7SG5G4KxG6\n",
       "X5ZEWXElsQ0YQSVxDXygktDaOKJj4WX+Oc7LvOOhFUwJ/QA3VPHYsuHkBvRmgjElI2zVQlxQhTzW\n",
       "IhnCBHioO1gnfSvS8vFLPWCuydnDc/oERowfsQP1bySCIEPK8rvotRU0vukQ8RLRE/VWBGnapD1w\n",
       "DMuXe9CUDZL2GFYwZXQnXUC7l25ZiA41dTexBP6lQjjBpwvl9g3oP111XfBLOyP6ozNbyrkJDFtd\n",
       "AzvPdK+QOvPU3cmmmA7vZUS3+PdTglF51tM8GS8X1hYzIs2Er1LSo9MsXlNMnilfELZfvKevwB8r\n",
       "uFcIm8Mx/gAAAABJRU5ErkJggg==\n",
       "\" style=\"display:inline;vertical-align:middle;\" /></a></td></tr>\n",
       "<tr><td>5</td><td>Variable</td><td></td><td><a class=\"ProveItLink\" href=\"../../../../../__pv_it/530be409e3083890784cf1d7b28c9e67e90af9360/expr.ipynb\"><img src=\"data:image/png;base64,iVBORw0KGgoAAAANSUhEUgAAAAsAAAAJBAMAAAAWSsseAAAAKlBMVEX///9ERETMzMwQEBAiIiKY\n",
       "mJju7u5mZmaqqqpUVFSIiIh2dnbc3NwAAAA/vyDhAAAAAXRSTlMAQObYZgAAAENJREFUCNdjYDi9\n",
       "8sTyBQxsG1hdmR0YuBm4LnAoMLAxcAowgADzAjB1VoEhgYH1wFoGrgSG3gBhhlMMDImrs3cFMAAA\n",
       "t0YN+iTRa+sAAAAASUVORK5CYII=\n",
       "\" style=\"display:inline;vertical-align:middle;\" /></a></td></tr>\n",
       "<tr><td>6</td><td>Operation</td><td>operator:&nbsp;7<br>operands:&nbsp;8<br></td><td><a class=\"ProveItLink\" href=\"../0dd9e34527747e71f1c62f81d6036a14b016b7eb0/expr.ipynb\"><img src=\"data:image/png;base64,iVBORw0KGgoAAAANSUhEUgAAAB0AAAAVBAMAAABI7vhRAAAAMFBMVEX///9ERETc3NyqqqpUVFS6\n",
       "urrMzMwyMjIQEBCIiIh2dnYiIiLu7u5mZmaYmJgAAABJJ2g3AAAAAXRSTlMAQObYZgAAAKlJREFU\n",
       "GNNjYGDgu8cABmyrFEAUzy4GKGBrBpGcH2B8husggqsBzl9BLv/ULQamP1A+bwEDw4J4sDXvQfyM\n",
       "AAY2g9sMjAIMDOwXGBhS2oBOYuhk4J8AlBN/wMAQkcDAwPyHIR9IcS8AirEUgM2YwQDVz7UBrFEE\n",
       "2T5eB9Z/yHweybmfUN0H0oXgezOcMIDx+YD8XQxScP/z7GRgsJwbAAqfVrCv+BYjhR8AhFYukUvA\n",
       "dnQAAAAASUVORK5CYII=\n",
       "\" style=\"display:inline;vertical-align:middle;\" /></a></td></tr>\n",
       "<tr><td>7</td><td>Literal</td><td></td><td><a class=\"ProveItLink\" href=\"../07381ed5b23806e8d7914b78cb6667769e3708dd0/expr.ipynb\"><img src=\"data:image/png;base64,iVBORw0KGgoAAAANSUhEUgAAAB4AAAAOBAMAAADKyLEKAAAAMFBMVEX///8iIiIQEBCIiIjMzMzc\n",
       "3Nyqqqp2dnZEREQyMjK6urru7u5mZmZUVFSYmJgAAACI6eGPAAAAAXRSTlMAQObYZgAAALRJREFU\n",
       "CNdjYGDgu3Nm3wIGBJjHwN0PZW5yYGDgLWBgyITy8zcwMMQDxZyh/INAvD6BgcEFypcB4vjPDiBm\n",
       "TPFRrhs/LjMwMP//38rAwCbKEMPA9gEkE3fp0waG+AUMRxh4JkC01T9guPTOOICBEWgVH5C//wHD\n",
       "H5D4fqCz9oCMDGD4DLaegRXslLMMDMpAgxlOMmQxHDRgYG5gYLBk4D7KcIe7gOHC2rt9QCXsh40Z\n",
       "GCKMGQDRkC8N/Ph1XAAAAABJRU5ErkJggg==\n",
       "\" style=\"display:inline;vertical-align:middle;\" /></a></td></tr>\n",
       "<tr><td>8</td><td>ExprTuple</td><td>9</td><td><a class=\"ProveItLink\" href=\"../e4c9c31c4dd925da36852c7d3895fcaa012158bd0/expr.ipynb\"><img src=\"data:image/png;base64,iVBORw0KGgoAAAANSUhEUgAAABcAAAAVBAMAAABfzGiYAAAAMFBMVEX////c3NwiIiJERESqqqqY\n",
       "mJh2dnZmZmYQEBDu7u4yMjJUVFTMzMyIiIi6uroAAAAs73DqAAAAAXRSTlMAQObYZgAAAMFJREFU\n",
       "GNNVj7EOwXAQxn9UKUq6G3gHsXsDJqM0lk4Sk4GEDmZpYjF2EbF5BIPN0gfQEKNFHwBx/2olbrjL\n",
       "7/Llu/vgr6rBd/ZVOyXLwkHaLpX4UAlS6IHhpbCG+89JazOGomNT98iP2EC+GnGBnM8SjoUGTTno\n",
       "8gbPCHiBGSmg45nPGBYCEypuLGsJbNH2oPs4AlMeXZT1TWAVzi0oXTEsdX3wfUe3KTeKymYYR8ja\n",
       "mi1PSQRq5MKZzLLSZ5JAZ/gAdAsqXS4lbPIAAAAASUVORK5CYII=\n",
       "\" style=\"display:inline;vertical-align:middle;\" /></a></td></tr>\n",
       "<tr><td>9</td><td>Variable</td><td></td><td><a class=\"ProveItLink\" href=\"../../../../../__pv_it/f8b9edf8e16034727f0aad55bb83e392c3db40d40/expr.ipynb\"><img src=\"data:image/png;base64,iVBORw0KGgoAAAANSUhEUgAAAAsAAAANBAMAAACN24kIAAAAMFBMVEX///+YmJhUVFQyMjIQEBBE\n",
       "REQiIiKqqqrMzMyIiIi6urrc3NxmZmZ2dnbu7u4AAADXeCicAAAAAXRSTlMAQObYZgAAAFhJREFU\n",
       "CNdj4LtzgWH/AwZerg8M8xkY2nkSGEIZGB6wTGD4ycDAUP+A4weQOszA6QCkbBhYFYDUIYb1AkDq\n",
       "6czzGxhA4BoQMyXwuQMptgusF4AU+8xTQBIAUqMVoSp/SLMAAAAASUVORK5CYII=\n",
       "\" style=\"display:inline;vertical-align:middle;\" /></a></td></tr>\n",
       "</table>\n"
      ],
      "text/plain": [
       "0. {x in {y}}\n",
       "   core type: Operation\n",
       "   operator: 7\n",
       "   operands: 1\n",
       "1. (x in {y})\n",
       "   core type: ExprTuple\n",
       "   sub-expressions: 2\n",
       "2. x in {y}\n",
       "   core type: Operation\n",
       "   operator: 3\n",
       "   operands: 4\n",
       "3. in\n",
       "   core type: Literal\n",
       "   sub-expressions: \n",
       "4. (x , {y})\n",
       "   core type: ExprTuple\n",
       "   sub-expressions: 5, 6\n",
       "5. x\n",
       "   core type: Variable\n",
       "   sub-expressions: \n",
       "6. {y}\n",
       "   core type: Operation\n",
       "   operator: 7\n",
       "   operands: 8\n",
       "7. Set\n",
       "   core type: Literal\n",
       "   sub-expressions: \n",
       "8. (y)\n",
       "   core type: ExprTuple\n",
       "   sub-expressions: 9\n",
       "9. y\n",
       "   core type: Variable\n",
       "   sub-expressions: "
      ]
     },
     "execution_count": 4,
     "metadata": {},
     "output_type": "execute_result"
    }
   ],
   "source": [
    "# display the expression information\n",
    "expr.exprInfo()"
   ]
  },
  {
   "cell_type": "code",
   "execution_count": null,
   "metadata": {},
   "outputs": [],
   "source": []
  }
 ],
 "metadata": {
  "kernelspec": {
   "display_name": "Python 3",
   "language": "python",
   "name": "python3"
  }
 },
 "nbformat": 4,
 "nbformat_minor": 0
}
