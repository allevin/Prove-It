{
 "cells": [
  {
   "cell_type": "markdown",
   "metadata": {},
   "source": [
    "Theorem Dependencies\n",
    "=======================\n",
    "\n",
    "## <a class=\"ProveItLink\" href=\"../../_context_.ipynb\">proveit.logic.set_theory.enumeration</a>.<a class=\"ProveItLink\" href=\"../../_theorems_.ipynb#unfold\">unfold</a> \n",
    "***see <a class=\"ProveItLink\" href=\"../../_proofs_/unfold.ipynb\">proof</a>***"
   ]
  },
  {
   "cell_type": "code",
   "execution_count": 1,
   "metadata": {},
   "outputs": [],
   "source": [
    "from proveit.logic.set_theory.enumeration._theorems_ import unfold"
   ]
  },
  {
   "cell_type": "code",
   "execution_count": 2,
   "metadata": {},
   "outputs": [
    {
     "data": {
      "text/html": [
       "<h3>This theorem has not been proven yet.</h3>"
      ],
      "text/plain": [
       "<IPython.core.display.HTML object>"
      ]
     },
     "metadata": {},
     "output_type": "display_data"
    },
    {
     "data": {
      "text/html": [
       "<h3>Theorems that depend directly on unfold</h3>"
      ],
      "text/plain": [
       "<IPython.core.display.HTML object>"
      ]
     },
     "metadata": {},
     "output_type": "display_data"
    },
    {
     "data": {
      "text/html": [
       "<dl>"
      ],
      "text/plain": [
       "<IPython.core.display.HTML object>"
      ]
     },
     "metadata": {},
     "output_type": "display_data"
    },
    {
     "data": {
      "text/html": [
       "<dt><a class=\"ProveItLink\" href=\"../../../../boolean/_proofs_/unfoldInBoolExplicit.ipynb\">proveit.logic.boolean.unfoldInBoolExplicit</a></dt><dd><a class=\"ProveItLink\" href=\"../../../../boolean/__pv_it/6e6206562fb05c01d70d4ee84ce9b743652a06ea0/expr.ipynb\"><img src=\"data:image/png;base64,iVBORw0KGgoAAAANSUhEUgAAAPUAAAAVBAMAAABs27XUAAAAMFBMVEX///8QEBC6urrMzMxUVFRm\n",
       "ZmZERETc3NwyMjKqqqp2dnaIiIiYmJgiIiLu7u4AAAAU9Wx4AAAAAXRSTlMAQObYZgAAAp9JREFU\n",
       "SMfFVkFoE0EU/e12u83uJvamF2UVbxXJofbiocEWejQgAQ9Wqoct4qE5WSQoi1gsPWguBY+5qIgg\n",
       "Cx49uAiKWoT00B5ESwQVoSJFMAqKOvP/n8QkO5NjH7zJTHYeb+bP/L8LsItomB+PMQ3wgzSRCU+Z\n",
       "dTlY082yCkTZrXc9s98h5uBUiihNIFFBZZ54Xw5u6rxHGkTZ3UlZWhGfYB93bymRRgDHsI2Il8SP\n",
       "M6fzfswUeP1H5+3XZDul5psE7P2KKBdpV3XeB5hifas/dN65UdlOyGYLzAL2fk/07y0uXtFZD0ZE\n",
       "Ac/7pvOGCxjiMkCmCGYBew9Xic0wfKPztmtEgaOZ31rvO7KRvtLfKGBvt0gU5zSPf9xIuWoJUcQ1\n",
       "sH7hapYRhQ7v28DxnlCitgBOo+B6h3cmIh6GHAbJ5xD5KytLCc8cCIgikOB81+77oLqXJ5RIJ2Dv\n",
       "wVFiFjy0+ihDtF06A3Ft+xDP3BMQAcanp5ta70lss7wJk4C9rR2il2QxHx9uiP75q1+Ft/ulx1s0\n",
       "+/p421U3aXunC7q8c9E4DuMQ4JnsxbWxsyrmVSJkBNc7illvzJ0o2xK1BTCLgs3UmMM8ntIQzFK9\n",
       "gbi0X533cEKEy4K3tPt+QaOptZZIJ2BvPyLCKtbdl/AErBrt2z7OM1Uu4EEuNIw5Jm75VkukE3Tl\n",
       "GAzEMiU2SgsNazMML8rzdlVtqSOdcz/L8PzvUq83pfI1zsiiEmkEIvzrGP6RgAi+XJ5dhsl8rkD7\n",
       "bnnDXqYRVFPFShptkRlcUxlHxP1MYIZjXlF/c9E3w407x30F8ICJ+NAE5+Rb+BRgbQmTlHeoHp9T\n",
       "XrzmQEV8IzpwV5z3/3AKRCNmusZ9BUNlYh9U1LeGHl4+9ePEgEfEfzxt0gwHCx74AAAAAElFTkSu\n",
       "QmCC\n",
       "\" style=\"display:inline;vertical-align:middle;\" /></a></dd>"
      ],
      "text/plain": [
       "<IPython.core.display.HTML object>"
      ]
     },
     "metadata": {},
     "output_type": "display_data"
    },
    {
     "data": {
      "text/html": [
       "</dl>"
      ],
      "text/plain": [
       "<IPython.core.display.HTML object>"
      ]
     },
     "metadata": {},
     "output_type": "display_data"
    }
   ],
   "source": [
    "%dependencies unfold"
   ]
  }
 ],
 "metadata": {
  "kernelspec": {
   "display_name": "Python 3",
   "language": "python",
   "name": "python3"
  }
 },
 "nbformat": 4,
 "nbformat_minor": 0
}
