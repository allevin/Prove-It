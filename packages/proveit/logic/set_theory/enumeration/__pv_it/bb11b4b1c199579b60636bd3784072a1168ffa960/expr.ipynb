{
 "cells": [
  {
   "cell_type": "markdown",
   "metadata": {},
   "source": [
    "Expression of type <a class=\"ProveItLink\" href=\"../../../../../../../doc/html/api/proveit.logic.NotInSet.html\">NotInSet</a>\n",
    "=======================\n",
    "# from context <a class=\"ProveItLink\" href=\"../../_context_.ipynb\">proveit.logic.set_theory.enumeration</a>"
   ]
  },
  {
   "cell_type": "code",
   "execution_count": 1,
   "metadata": {},
   "outputs": [],
   "source": [
    "# import Expression classes needed to build the expression\n",
    "from proveit._common_ import A, B, C, D\n",
    "from proveit.logic import NotInSet, Set"
   ]
  },
  {
   "cell_type": "code",
   "execution_count": 2,
   "metadata": {},
   "outputs": [
    {
     "data": {
      "text/html": [
       "<strong id=\"expr\">expr:</strong> <a class=\"ProveItLink\" href=\"expr.ipynb\"><img src=\"data:image/png;base64,iVBORw0KGgoAAAANSUhEUgAAAIAAAAAVCAMAAAC5SxYJAAAAQlBMVEX///9bW1sNDQ0JCQkdHR0P\n",
       "Dw8WFhZ2dnYQEBBERERUVFS6urqIiIhmZmaqqqrc3Nzu7u6YmJgyMjIiIiLMzMwAAAC7vTU2AAAA\n",
       "AXRSTlMAQObYZgAAAgxJREFUSMetVut6rCAMtKft4Q4hkPd/1erKxYC03a/Lj13FJEySyei2fb8M\n",
       "8Pvo4vaSlYUIv7FLDAAksb1sZemHjXRjpNmtpVYJTaT3pdBMTmCVdnulgmO+xQNVLjsOuR/SDMDx\n",
       "8EL2a6lOCxoRCPnoknFy6BadB3ryc7Qjp0Qwd2BbAchkyz8vEmDtmiDe5Eylf64cxAEE77gDWEz/\n",
       "PxMuANhiHYnTAmVNw/AEdw/DsXMAthucVhhhU2FZAVUuk2R1c9SYxSmwe9QWh1I0BmAfN0+XngUF\n",
       "Rzm3JYAzSEDFzg/UXSAPFFCtFzMAML0yJ9wjd2tHTmJvqLbWujTwzNFSJnr42rV4Yb15oO81gwda\n",
       "hHFyzUABSJyCiZbqYqlWRNdeo+vjfqxWo4NAKaWP9/0HL5og80QBy1OmS1KwoMAmW+kVxl6A/QFy\n",
       "ARJ+1OWOoA7fMASyA/ArCsSGuemqr4S+aO4sAkfxsDU01nIylLpriVtRQHYkTQJmKdRxl7IJgEiD\n",
       "ClTWw3SMAN6GRgHVmFWnoA2bukghJKPzDEByCmR5RgNKLSt/6nDg+5UCuROvRAtKEh7WURFdngb8\n",
       "twTgVHmvVA6BbOzPGvc3kef7UD2Uy/dvlpsV3zSyKfjWxYTn9n8BQIVnXOKT+z8DCOou3EsBjN8D\n",
       "g3DduUKyC+vtuf1BV287sMhoUqc/fhN+AX91HXKy4s1xAAAAAElFTkSuQmCC\n",
       "\" style=\"display:inline;vertical-align:middle;\" /></a><br>"
      ],
      "text/plain": [
       "expr: A not-in {B , C , D}"
      ]
     },
     "execution_count": 2,
     "metadata": {},
     "output_type": "execute_result"
    }
   ],
   "source": [
    "# build up the expression from sub-expressions\n",
    "expr = NotInSet(A, Set(B, C, D))"
   ]
  },
  {
   "cell_type": "code",
   "execution_count": 3,
   "metadata": {},
   "outputs": [
    {
     "name": "stdout",
     "output_type": "stream",
     "text": [
      "Passed sanity check: built 'expr' is the same as the stored Expression.\n"
     ]
    }
   ],
   "source": [
    "# check that the built expression is the same as the stored expression\n",
    "%check_expr"
   ]
  },
  {
   "cell_type": "code",
   "execution_count": 4,
   "metadata": {},
   "outputs": [
    {
     "data": {
      "text/html": [
       "<table><tr><th>&nbsp;</th><th>core type</th><th>sub-expressions</th><th>expression</th></tr>\n",
       "<tr><td>0</td><td>Operation</td><td>operator:&nbsp;1<br>operands:&nbsp;2<br></td><td><a class=\"ProveItLink\" href=\"expr.ipynb\"><img src=\"data:image/png;base64,iVBORw0KGgoAAAANSUhEUgAAAIAAAAAVCAMAAAC5SxYJAAAAQlBMVEX///9bW1sNDQ0JCQkdHR0P\n",
       "Dw8WFhZ2dnYQEBBERERUVFS6urqIiIhmZmaqqqrc3Nzu7u6YmJgyMjIiIiLMzMwAAAC7vTU2AAAA\n",
       "AXRSTlMAQObYZgAAAgxJREFUSMetVut6rCAMtKft4Q4hkPd/1erKxYC03a/Lj13FJEySyei2fb8M\n",
       "8Pvo4vaSlYUIv7FLDAAksb1sZemHjXRjpNmtpVYJTaT3pdBMTmCVdnulgmO+xQNVLjsOuR/SDMDx\n",
       "8EL2a6lOCxoRCPnoknFy6BadB3ryc7Qjp0Qwd2BbAchkyz8vEmDtmiDe5Eylf64cxAEE77gDWEz/\n",
       "PxMuANhiHYnTAmVNw/AEdw/DsXMAthucVhhhU2FZAVUuk2R1c9SYxSmwe9QWh1I0BmAfN0+XngUF\n",
       "Rzm3JYAzSEDFzg/UXSAPFFCtFzMAML0yJ9wjd2tHTmJvqLbWujTwzNFSJnr42rV4Yb15oO81gwda\n",
       "hHFyzUABSJyCiZbqYqlWRNdeo+vjfqxWo4NAKaWP9/0HL5og80QBy1OmS1KwoMAmW+kVxl6A/QFy\n",
       "ARJ+1OWOoA7fMASyA/ArCsSGuemqr4S+aO4sAkfxsDU01nIylLpriVtRQHYkTQJmKdRxl7IJgEiD\n",
       "ClTWw3SMAN6GRgHVmFWnoA2bukghJKPzDEByCmR5RgNKLSt/6nDg+5UCuROvRAtKEh7WURFdngb8\n",
       "twTgVHmvVA6BbOzPGvc3kef7UD2Uy/dvlpsV3zSyKfjWxYTn9n8BQIVnXOKT+z8DCOou3EsBjN8D\n",
       "g3DduUKyC+vtuf1BV287sMhoUqc/fhN+AX91HXKy4s1xAAAAAElFTkSuQmCC\n",
       "\" style=\"display:inline;vertical-align:middle;\" /></a></td></tr>\n",
       "<tr><td>1</td><td>Literal</td><td></td><td><a class=\"ProveItLink\" href=\"../../../membership/__pv_it/cc61ce5cf0825a46fd70733410654132b7dd0e550/expr.ipynb\"><img src=\"data:image/png;base64,iVBORw0KGgoAAAANSUhEUgAAAAwAAAAVCAMAAABFcv+GAAAAQlBMVEX///9bW1sNDQ0JCQkdHR0Q\n",
       "EBAPDw8WFhaYmJiIiIgyMjLc3NxERER2dnaqqqpmZmZUVFTMzMwiIiLu7u66uroAAACAfls5AAAA\n",
       "AXRSTlMAQObYZgAAAGtJREFUGNNNTkkSwCAIo7sirQr8/621LhUOYQIhAWCUCsxiQ3Iyi6hW1bt4\n",
       "5OtkrGp0AhTqPFCxEWyiOvO+HdCH2EL0YOZ9K4A97H66L5sQSA40DiKsKf+PBFwnAbckbG4jdsjI\n",
       "PO+dIXPxAnRTBHGTKJqmAAAAAElFTkSuQmCC\n",
       "\" style=\"display:inline;vertical-align:middle;\" /></a></td></tr>\n",
       "<tr><td>2</td><td>ExprTuple</td><td>3, 4</td><td><a class=\"ProveItLink\" href=\"../56035cc98711fe3197d566578d5e860a4c390f000/expr.ipynb\"><img src=\"data:image/png;base64,iVBORw0KGgoAAAANSUhEUgAAAH4AAAAVBAMAAAByPkciAAAAMFBMVEX////c3NwiIiJERESqqqqY\n",
       "mJh2dnZmZmYQEBDu7u4yMjJUVFTMzMyIiIi6uroAAAAs73DqAAAAAXRSTlMAQObYZgAAAkJJREFU\n",
       "OMuNVE1IG1EQHhtfkjXZuGBB0INeWuyh6KFFC4I5ezHnXowg2J4aKNoehATaUylN8Cgi8VCsLfhD\n",
       "D4XuIcGDCDlswIOnkuCloSfb2oK1amfezG52U0vz4E1mv5nvvXnvmzyAv4aah/+PvRnXS1SDEeMm\n",
       "tDP2k7hTHZ0Kf++6AfOYaiid2e83vSUPPsx3ZDiKgY/j6ESKaBZxbnDOlpsczpGNjgBk6wI9SEHi\n",
       "aYr9buRNJSWtCxfk8tVwIcB3EHa2GVm+heaRxR9OGvc+lTSVhijzrmetAL+Gn9NpRt5QSkPCNSwq\n",
       "fi5pRg6+MFyt1QP8MZxDvHTkhGyvhCdwdpy5aXdggUUoTKUCfMzou8fAAN0UrEj4O864x5+D1xpd\n",
       "1Qfm7Yo649PhDQGyKZ9sVDqonzhJJpiEVxquw0DGFZYOYn4FWJLrG7Z8fPM3mtgFmnXQt3KhV7Xt\n",
       "0ggnVF6SDWF15g9GLrUVeUK0bZRqD1HlDvMTiBVlh0aZVN7mKmnkyXSWRX7aZppOpNvUgef0g/1w\n",
       "LSf8GC3kYEbshIESbR2RqL6mZ+CevwF3SQ/kdx1LjeFBkZ/uveBSHkq0hnWENjyZ7qMC2GB0nFMw\n",
       "vnn6ofzxFwVGFNbx2ZIoyh9fb8o8B0cAPfk1UBO/MkbeksDjS9t+i0dgpPLuSZJ9gwKj5SZ/E6I+\n",
       "dRKWF/AjV/jN/lVp38sBrXz1D1/SwlXv/+tlqPb4uk3p4vqbmG5h4za0IFf40qY7JF619f2bbff9\n",
       "M8vwByZroc9/Ry4zAAAAAElFTkSuQmCC\n",
       "\" style=\"display:inline;vertical-align:middle;\" /></a></td></tr>\n",
       "<tr><td>3</td><td>Variable</td><td></td><td><a class=\"ProveItLink\" href=\"../../../../../__pv_it/2cbe72a7ad6f655694dd697106680215e8489b600/expr.ipynb\"><img src=\"data:image/png;base64,iVBORw0KGgoAAAANSUhEUgAAAA8AAAAOBAMAAAACpFvcAAAALVBMVEX///8QEBBERERUVFS6urqI\n",
       "iIhmZmaqqqrc3Nzu7u6YmJgyMjIiIiLMzMwAAADtIaYWAAAAAXRSTlMAQObYZgAAAFtJREFUCNdj\n",
       "YACBOwxQsA9Kc52bAGG05zVAGAFxDmCaZULdAjBjCsO9ADDDgaEvAUTzGhvbKYCVMDAwbgAxChgY\n",
       "eASANAeQwf0AyJgNxEwvGRia5HYwcOm9TgAA6BoR3jrzwFcAAAAASUVORK5CYII=\n",
       "\" style=\"display:inline;vertical-align:middle;\" /></a></td></tr>\n",
       "<tr><td>4</td><td>Operation</td><td>operator:&nbsp;5<br>operands:&nbsp;6<br></td><td><a class=\"ProveItLink\" href=\"../2c3e5cd30299904c2a15e4a89da7d971c6945a970/expr.ipynb\"><img src=\"data:image/png;base64,iVBORw0KGgoAAAANSUhEUgAAAFcAAAAVBAMAAADBdm84AAAAMFBMVEX////c3NxERESqqqpUVFS6\n",
       "urrMzMwyMjIQEBCIiIh2dnYiIiLu7u5mZmaYmJgAAABXZE4RAAAAAXRSTlMAQObYZgAAAZxJREFU\n",
       "KM+NUzFLQlEUPpY+fc/3nv6BqCGwTadmCUEawtpaAocgN8O1iCiKBjGHliaDlmhyaKnpjTVERVBD\n",
       "lA7tZlmSRXW+e6/1Hg554X73nvN93HPu9+4jIvuB/h/aYRSLeUL9DG0dqD8BH79Tqdh0lzkbva8P\n",
       "ye0OE4Usb24RGasiuUZkvSqtUSKaK6mgTTT4wuvBn1h759mStLnkcLqpyncYao5HrDNndyQfLDIE\n",
       "ZEHSUS5f9ogHGMNFydcSDL5LGQzgSsNJjziSJF/BEbSvLXrJSnFkBCd3xdYiMD+5e1eXtPXltgwd\n",
       "UGOPJ6KcMKwSJfNI0uGmW1xBhQxrgtzX/KbIjSEvj44I400ljgO2ADGmZ0VzLVWMR0iIx5X4maeN\n",
       "xsJg/ehZQ5hJCNr/CVRmwH8K4ZKiZ6OqbIYLTpc3HNmI/oYGHM8XhM25ZTI/kGkkKHBFdFFVNi+I\n",
       "Kr9iK95KpVf4Vtt4iFp66pqXU652zsTEDZH3bagRiLqCGc8b7RXbbrreK7b7FIv3bB67MmXXXvf+\n",
       "KRvytP1+/8Ef/x1xOYODywsAAAAASUVORK5CYII=\n",
       "\" style=\"display:inline;vertical-align:middle;\" /></a></td></tr>\n",
       "<tr><td>5</td><td>Literal</td><td></td><td><a class=\"ProveItLink\" href=\"../07381ed5b23806e8d7914b78cb6667769e3708dd0/expr.ipynb\"><img src=\"data:image/png;base64,iVBORw0KGgoAAAANSUhEUgAAAB4AAAAOBAMAAADKyLEKAAAAMFBMVEX///8iIiIQEBCIiIjMzMzc\n",
       "3Nyqqqp2dnZEREQyMjK6urru7u5mZmZUVFSYmJgAAACI6eGPAAAAAXRSTlMAQObYZgAAALRJREFU\n",
       "CNdjYGDgu3Nm3wIGBJjHwN0PZW5yYGDgLWBgyITy8zcwMMQDxZyh/INAvD6BgcEFypcB4vjPDiBm\n",
       "TPFRrhs/LjMwMP//38rAwCbKEMPA9gEkE3fp0waG+AUMRxh4JkC01T9guPTOOICBEWgVH5C//wHD\n",
       "H5D4fqCz9oCMDGD4DLaegRXslLMMDMpAgxlOMmQxHDRgYG5gYLBk4D7KcIe7gOHC2rt9QCXsh40Z\n",
       "GCKMGQDRkC8N/Ph1XAAAAABJRU5ErkJggg==\n",
       "\" style=\"display:inline;vertical-align:middle;\" /></a></td></tr>\n",
       "<tr><td>6</td><td>ExprTuple</td><td>7, 8, 9</td><td><a class=\"ProveItLink\" href=\"../3f0dd1e6224e4c04c563387f987819d46740eee70/expr.ipynb\"><img src=\"data:image/png;base64,iVBORw0KGgoAAAANSUhEUgAAAFAAAAAVBAMAAAAjqnRBAAAAMFBMVEX////c3NwiIiJERESqqqqY\n",
       "mJh2dnZmZmYQEBDu7u4yMjJUVFTMzMyIiIi6uroAAAAs73DqAAAAAXRSTlMAQObYZgAAAZtJREFU\n",
       "KM+NUz1IQlEU/tT8eeZTt4aG2lsaCsIGnaPBuQbdXCuiFkGhhFzqbUUQQdLgEkZDoISOUYPuEVpL\n",
       "0qSVQtrfOfde6TbZg3u83/k+znnne0fg34+/NlzjbFC4pbP8XSqFGoP00fxmdExe74jIVYAk3fOc\n",
       "2ALcX0rnygBPGQV6wMgb4AVM7uz7pNOXlHFikbgtga9LIWXBGYeH0jAp7+xKzpvlF09LYHKbag1G\n",
       "Gs+MHZS3ZyWXilCwrUjgaFGYKAAz2GAcKMCWswRl64n+FSkMTHNFEiZwyrh6db8WlZS7o/tS5Qli\n",
       "cWABu4zrQRhTkrK3dWGdK5fJuCaEKXOckyUDLdFaCcMcdri0FPZVA3o8QriohK/8WTpCuM1u8bUc\n",
       "EdToO0c1NPsLDw/UxKyykae1BpzLks3NDwohTi/R3NLG6zyMFyZjEfhXgeNJZeONqJ7AIzkS7peK\n",
       "ZJOxF+SSxct1+jmgLvtEXCTFS5zBE9Q2TrvjQbeJPqEzrq2dzkV14KqpNRsmPKQz/gv1XTf/rPg5\n",
       "b8E//gpmBT+RrXC3ZUAg3gAAAABJRU5ErkJggg==\n",
       "\" style=\"display:inline;vertical-align:middle;\" /></a></td></tr>\n",
       "<tr><td>7</td><td>Variable</td><td></td><td><a class=\"ProveItLink\" href=\"../../../../../__pv_it/077b2ff79244fb4582cbe22c6e3356fa92a52f2f0/expr.ipynb\"><img src=\"data:image/png;base64,iVBORw0KGgoAAAANSUhEUgAAABAAAAAOBAMAAADUAYG5AAAAMFBMVEX///+qqqru7u4iIiJ2dnbc\n",
       "3NyIiIjMzMxmZmYQEBC6uroyMjJERERUVFSYmJgAAADLUcuvAAAAAXRSTlMAQObYZgAAAGpJREFU\n",
       "CNdjYGB4+//u3dMLGIBgDgMDxy8gzf4NiP8CGWxfGRj4vgAZPBMYGJgnARn8FxhY9ygAGfXX0pof\n",
       "gDTlBzAw2YIYJ0EckBBI53sHoBH/gIz7AhBjWH9DjancBLTl/N+7t/cxMAAA3u4f/5xagjYAAAAA\n",
       "SUVORK5CYII=\n",
       "\" style=\"display:inline;vertical-align:middle;\" /></a></td></tr>\n",
       "<tr><td>8</td><td>Variable</td><td></td><td><a class=\"ProveItLink\" href=\"../../../../../__pv_it/985a1bdf1540838275dec15f4ad6de261cca93ce0/expr.ipynb\"><img src=\"data:image/png;base64,iVBORw0KGgoAAAANSUhEUgAAAA8AAAAOBAMAAAACpFvcAAAAMFBMVEX////MzMyqqqoiIiIyMjK6\n",
       "uroQEBB2dnbc3NyYmJhmZmZUVFRERESIiIju7u4AAAB204erAAAAAXRSTlMAQObYZgAAAGZJREFU\n",
       "CNdjYGDgu7NrJccCBgaGsgkMrMsmMDA8sQNy6hsYGNweABlhDAxcn4A0QxcDQ78DiPGQgWH9BAYI\n",
       "sG+AMv6DSaCGfBDNJMDAsB+kmwuI5S8AiTog5gSaEwXWIO29SgFIAQBC+RaDQlidVgAAAABJRU5E\n",
       "rkJggg==\n",
       "\" style=\"display:inline;vertical-align:middle;\" /></a></td></tr>\n",
       "<tr><td>9</td><td>Variable</td><td></td><td><a class=\"ProveItLink\" href=\"../../../../../__pv_it/185e6d30f167ee2ee5ef3321098dc98e0d77bc590/expr.ipynb\"><img src=\"data:image/png;base64,iVBORw0KGgoAAAANSUhEUgAAABEAAAAOBAMAAAA7w+qHAAAALVBMVEX///8QEBCYmJjc3Ny6urru\n",
       "7u5mZmZ2dnaqqqrMzMxEREQyMjJUVFSIiIgAAABETr/8AAAAAXRSTlMAQObYZgAAAGpJREFUCNdj\n",
       "YGC48+7MmV0TGEDgNQMDxwsQg/M5kMgLABK8T4DEvAtAgusBkLA7ACT4FoDEDsAk9AqAxD2QCecc\n",
       "gMQ6kAGCIOIVEDM9Ahn3FkgwgnTxvgQSqwOgxs1OADLC1r05cyoTyAAAv4Qe+njAWvgAAAAASUVO\n",
       "RK5CYII=\n",
       "\" style=\"display:inline;vertical-align:middle;\" /></a></td></tr>\n",
       "</table>\n"
      ],
      "text/plain": [
       "0. A not-in {B , C , D}\n",
       "   core type: Operation\n",
       "   operator: 1\n",
       "   operands: 2\n",
       "1. not-in\n",
       "   core type: Literal\n",
       "   sub-expressions: \n",
       "2. (A , {B , C , D})\n",
       "   core type: ExprTuple\n",
       "   sub-expressions: 3, 4\n",
       "3. A\n",
       "   core type: Variable\n",
       "   sub-expressions: \n",
       "4. {B , C , D}\n",
       "   core type: Operation\n",
       "   operator: 5\n",
       "   operands: 6\n",
       "5. Set\n",
       "   core type: Literal\n",
       "   sub-expressions: \n",
       "6. (B , C , D)\n",
       "   core type: ExprTuple\n",
       "   sub-expressions: 7, 8, 9\n",
       "7. B\n",
       "   core type: Variable\n",
       "   sub-expressions: \n",
       "8. C\n",
       "   core type: Variable\n",
       "   sub-expressions: \n",
       "9. D\n",
       "   core type: Variable\n",
       "   sub-expressions: "
      ]
     },
     "execution_count": 4,
     "metadata": {},
     "output_type": "execute_result"
    }
   ],
   "source": [
    "# display the expression information\n",
    "expr.exprInfo()"
   ]
  },
  {
   "cell_type": "code",
   "execution_count": null,
   "metadata": {},
   "outputs": [],
   "source": []
  }
 ],
 "metadata": {
  "kernelspec": {
   "display_name": "Python 3",
   "language": "python",
   "name": "python3"
  }
 },
 "nbformat": 4,
 "nbformat_minor": 0
}
