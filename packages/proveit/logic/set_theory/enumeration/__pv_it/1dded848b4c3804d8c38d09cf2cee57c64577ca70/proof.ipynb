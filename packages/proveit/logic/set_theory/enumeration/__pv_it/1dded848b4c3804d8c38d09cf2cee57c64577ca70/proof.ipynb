{
 "cells": [
  {
   "cell_type": "markdown",
   "metadata": {},
   "source": [
    "Show the Proof\n",
    "========"
   ]
  },
  {
   "cell_type": "code",
   "execution_count": 1,
   "metadata": {},
   "outputs": [
    {
     "data": {
      "text/html": [
       "<table><tr><th>&nbsp;</th><th>step type</th><th>requirements</th><th>statement</th></tr>\n",
       "<tr><td>0</td><td>specialization</td><td>1, 2</td><td><span style=\"font-size:20px;\"> <a class=\"ProveItLink\" href=\"proof.ipynb\" style=\"text-decoration: none\">&#x22A2;&nbsp;</a><a class=\"ProveItLink\" href=\"../0a767c5100fd9d74a060f2fab3d2a8f84931456b0/expr.ipynb\"><img src=\"data:image/png;base64,iVBORw0KGgoAAAANSUhEUgAAAMwAAAAVBAMAAAD4PRwmAAAAMFBMVEX////c3NwiIiJERESqqqqY\n",
       "mJh2dnZmZmYQEBDu7u4yMjJUVFTMzMyIiIi6uroAAAAs73DqAAAAAXRSTlMAQObYZgAAAsxJREFU\n",
       "SMetVs1rE1EQnzTZbJLdbHMQD5ViWLEnLUFU/EDITVCL0UPBHnQP2uohIqXtQSpE8SJoCQqleFoF\n",
       "ET+QVP+BXAS1hwRB4ycNnoIg1kMPBRFn3nub7MfbjQcf7HuTfbO/38ybeTMBCBnKLF/1yRz8j2E0\n",
       "ZW/TI46kX8fpdEDh7VMhTIyy5Uc4g9LGaUW6lV3ripfxUet+hYteSa9FeDKPzyPpTrLSFc/TZAdp\n",
       "DLbWOU2mGkGTQbOb/0QzHqTRyEP8nNF8jYqLYkHKbUb6k2naUpqlII1ewGWgymluRNGkK/Dd/fvN\n",
       "qTBv4sVgbO7hcpjHxrAj02w3zOG8+fOmFp1dbL/n0BbnILYhaJKXgjRIQVREo1r4dXl57IpPS0BM\n",
       "wQP0yVK2p/Jkcu+KqGie9ZMl3Bn6nSBz1cds1AQNHhgdHNFkSggJJ0vXWGoyrSckCogjsICWopig\n",
       "eN7pmfGqDXpxGuIIkyFHjErQGwy/1uY0KVwtWIVjXiUHogN/0BvQCuxtxzRFCqzcpNe3YJDO8gCa\n",
       "qq9J7k0e7gppEGmq8CIQewHRIBo0hme166Z20LvEBjRwGbAghGYGzrloADH9Q0A0gEoJbK0D5fXt\n",
       "3r5ms/h8ABEbdmiqyUbBoRmCvJBSlIix32g+jmmmtU2EmCA6sAdvT24VskSjlXqZlmdBOegktGJL\n",
       "vNFeNoUUxy9PYLA/+u8/h5jAXIPjpX0wzI5y1JPQas1Yh4iEBn1XVUi4nViPV2L+kiIgpuAbJtj7\n",
       "xTL3Y2jeTZM+1Prl0GTastL50JGMPGpfmHwXyAEO8QxSnnZy9L6n2NDRhRYbHK+70tWwAkAQWGwU\n",
       "K7R0PoelokNT7tMIxuUkHCLZDGsECtKMwF6n36TtPjQhjYBD0O3aIi+qOwHGWhQQfYFyKteHJiZv\n",
       "axximRTkDUc56/4v8CXYpHc4Ak/P4fD6nK3DX1s6vmNWZrV8AAAAAElFTkSuQmCC\n",
       "\" style=\"display:inline;vertical-align:middle;\" /></a></span></td></tr>\n",
       "<tr><td>&nbsp;</td><td colspan=4 style=\"text-align:left\"><span style=\"font-size:20px;\"><a class=\"ProveItLink\" href=\"../../../../../__pv_it/3e5d49a51123592869b160296a6e123a424e07a70/expr.ipynb\"><img src=\"data:image/png;base64,iVBORw0KGgoAAAANSUhEUgAAAAYAAAAOBAMAAAD+sXAWAAAALVBMVEX////u7u5ERERUVFTMzMzc\n",
       "3NyIiIgQEBAyMjJmZmaYmJi6uroiIiJ2dnYAAACuOh6BAAAAAXRSTlMAQObYZgAAAD9JREFUCNdj\n",
       "YLjzmoGB6wEDA2cDAwN7AgNDnAMDwzoGBgYjIC5jYGB5wsDAVsDAwGQgwMC34AIDn2MCA9tcAQAo\n",
       "GAoWIEgceAAAAABJRU5ErkJggg==\n",
       "\" style=\"display:inline;vertical-align:middle;\" /></a> : <a class=\"ProveItLink\" href=\"../../../../../number/numeral/__pv_it/9be8badea4c35b9724062cecc501d17a3158d1d20/expr.ipynb\"><img src=\"data:image/png;base64,iVBORw0KGgoAAAANSUhEUgAAAAgAAAAPBAMAAAArJJMAAAAAHlBMVEX///+YmJgyMjIQEBBmZmaI\n",
       "iIhUVFTu7u5EREQAAAAw+MI4AAAAAXRSTlMAQObYZgAAACFJREFUCNdjYGBoZ2BgqJjOwFCWBiQY\n",
       "WEklWJwnOTKAAACjEQo8HvEr3AAAAABJRU5ErkJggg==\n",
       "\" style=\"display:inline;vertical-align:middle;\" /></a>, <a class=\"ProveItLink\" href=\"../../../../../__pv_it/530be409e3083890784cf1d7b28c9e67e90af9360/expr.ipynb\"><img src=\"data:image/png;base64,iVBORw0KGgoAAAANSUhEUgAAAAsAAAAJBAMAAAAWSsseAAAAKlBMVEX///9ERETMzMwQEBAiIiKY\n",
       "mJju7u5mZmaqqqpUVFSIiIh2dnbc3NwAAAA/vyDhAAAAAXRSTlMAQObYZgAAAENJREFUCNdjYDi9\n",
       "8sTyBQxsG1hdmR0YuBm4LnAoMLAxcAowgADzAjB1VoEhgYH1wFoGrgSG3gBhhlMMDImrs3cFMAAA\n",
       "t0YN+iTRa+sAAAAASUVORK5CYII=\n",
       "\" style=\"display:inline;vertical-align:middle;\" /></a> : <a class=\"ProveItLink\" href=\"../../../../../__pv_it/530be409e3083890784cf1d7b28c9e67e90af9360/expr.ipynb\"><img src=\"data:image/png;base64,iVBORw0KGgoAAAANSUhEUgAAAAsAAAAJBAMAAAAWSsseAAAAKlBMVEX///9ERETMzMwQEBAiIiKY\n",
       "mJju7u5mZmaqqqpUVFSIiIh2dnbc3NwAAAA/vyDhAAAAAXRSTlMAQObYZgAAAENJREFUCNdjYDi9\n",
       "8sTyBQxsG1hdmR0YuBm4LnAoMLAxcAowgADzAjB1VoEhgYH1wFoGrgSG3gBhhlMMDImrs3cFMAAA\n",
       "t0YN+iTRa+sAAAAASUVORK5CYII=\n",
       "\" style=\"display:inline;vertical-align:middle;\" /></a>, <a class=\"ProveItLink\" href=\"../../../../../__pv_it/23a8703a0497efbbce779bb784cd8c2fbbfa1f580/expr.ipynb\"><img src=\"data:image/png;base64,iVBORw0KGgoAAAANSUhEUgAAAA0AAAAOBAMAAAAGUYvhAAAALVBMVEX///+6urqIiIjMzMxERETu\n",
       "7u6qqqrc3NxmZmYiIiKYmJgQEBAyMjJ2dnYAAAAI/qgrAAAAAXRSTlMAQObYZgAAAGpJREFUCNdj\n",
       "YLizi4FhJgMDb8O+ArZ3DAzR7O8KOJ4wMBjxvmHgfMTAwMD9iCHuMZC2e84g9wBIr9vAcO8AiD7A\n",
       "cO4CkK7bwPROAEizzZ7yLgBICzOAtDMAzap7DqSZ3rLPBkkzdM68CiQBR18fizMQCrQAAAAASUVO\n",
       "RK5CYII=\n",
       "\" style=\"display:inline;vertical-align:middle;\" /></a> : <a class=\"ProveItLink\" href=\"../e4c9c31c4dd925da36852c7d3895fcaa012158bd0/expr.ipynb\"><img src=\"data:image/png;base64,iVBORw0KGgoAAAANSUhEUgAAABcAAAAVBAMAAABfzGiYAAAAMFBMVEX////c3NwiIiJERESqqqqY\n",
       "mJh2dnZmZmYQEBDu7u4yMjJUVFTMzMyIiIi6uroAAAAs73DqAAAAAXRSTlMAQObYZgAAAMFJREFU\n",
       "GNNVj7EOwXAQxn9UKUq6G3gHsXsDJqM0lk4Sk4GEDmZpYjF2EbF5BIPN0gfQEKNFHwBx/2olbrjL\n",
       "7/Llu/vgr6rBd/ZVOyXLwkHaLpX4UAlS6IHhpbCG+89JazOGomNT98iP2EC+GnGBnM8SjoUGTTno\n",
       "8gbPCHiBGSmg45nPGBYCEypuLGsJbNH2oPs4AlMeXZT1TWAVzi0oXTEsdX3wfUe3KTeKymYYR8ja\n",
       "mi1PSQRq5MKZzLLSZ5JAZ/gAdAsqXS4lbPIAAAAASUVORK5CYII=\n",
       "\" style=\"display:inline;vertical-align:middle;\" /></a></span></td></tr><tr><td>1</td><td>axiom</td><td></td><td><span style=\"font-size:20px;\"> <a class=\"ProveItLink\" href=\"../../_axioms_.ipynb#enumSetDef\" style=\"text-decoration: none\">&#x22A2;&nbsp;</a><a class=\"ProveItLink\" href=\"../2f301afc2ecec194458da93f1fe7422f48fb37bc0/expr.ipynb\"><img src=\"data:image/png;base64,iVBORw0KGgoAAAANSUhEUgAAAlYAAAAXBAMAAAA7EBzMAAAAMFBMVEX///8QEBC6urrMzMxUVFRm\n",
       "ZmZERETc3NwyMjKqqqp2dnaIiIiYmJgiIiLu7u4AAAAU9Wx4AAAAAXRSTlMAQObYZgAABitJREFU\n",
       "WMPtWH2IVFUUPzszu2+defOckoooc5cCgxBGsi+pdjFQCExBpA8Lt4IVsfL9Ebkq4mSa/WG2UIIQ\n",
       "4jYgsm1sL1L71B3qj8QlWQwirN1GEBHJXA2aiM3tnnPu+773zUxEBHXgd5m599xzf+/37se5D+Cf\n",
       "MvPJZrwXHoR/n1W1LUdfqTYd7Q6JuFmnm4s0v1/I2xGvTzmMRPuiGb514iAJxPFTMIZ1oyrHckKb\n",
       "xtLdDIXlJpvTqrUkihXx+gUSyZ2LjfOtG2eFRBkGsW63Wit9m8baqwyFZQvNaUX+7fH63Q1RKtEU\n",
       "pJ9x2Wi2pl2+deO0S5ThJVEaPWqt9G0a+0zi79LKHIhNT4dRx05gkSmC0vkhl6qOazgOkkCUSdrW\n",
       "frVW+jaN3SLh71Ifj4+X/rpWVqxTS5VRx87Q1MHXnI87343FBES56uIgCUQZzIMbNmwBtVb6NrWl\n",
       "Sgzf7j0ZfPbsyxXIjyUq5HmwtmujDrdLJPYFaKM3vFNgj2KnsAFmLIcoV1UkirOWUQb4tbf3tEYr\n",
       "fZtmKxxgwKZDGw/j3DdeCM2TAy012J+4x/serNWBqMMTEu4Iyr6iN0pBOu2MD4I6oV7E1Rha8vYq\n",
       "PYvlksQB0kOs3jU6rbRtmq29wrAGzB9a8L202cFzzSpsrcHqpP0v4GES173U9TUyOrN2MbwRHqOm\n",
       "7eG+Qg6aMWL9pVXDTch1iFwvwNeV2aCLRHH2MoQet4ElHmNZVaUVtTVuLR2MrMgQZuDGei6QL3VA\n",
       "2nm/BD86zFN9hrPH2avi9w6s6Ix6XMvwRoj15eipgjwIMh3qI2iRy3cARuBNLQuK08kQeuQhJ+Sd\n",
       "J/eXlR2566qeVtzWsM3sYFiQ4dfZOT4u9/YFs7Cc41jTxbuWJoQgjxTNSZxCXdH2KwxvhFhfjp7m\n",
       "tTgG51WD5OUUQK5VWJzAguJ0MYQeuQoeFWI9WodXVsyeYRj25xW3Na2VeGOOlzhK6xSzID1tp6YB\n",
       "9iUkh+RBuwRtlDqtvBFifTm61OpxeE+5r/ZnKy5fgJsSWES0skoLeA84MvfnqjnaGtSK2xpfg/0M\n",
       "gK1Fujxd9Nsy4k2alyH7W6JW7IH7CO9XtAZbx8loIt0o4Y7wFDV96/fl6LwGoQ+Up65Rynt8wfhF\n",
       "zFJVJGQRWYOwBtduDUx8meZ99zgBrbhtaNEhMSlSSwesm2NZQqiyrcIw7RHI4ZNk/BWcFaxNQeB3\n",
       "fhrLvYt6P6hgj5m2ew4ejw74HMMbIaizHx1M3mYz9zsQH0icWaMe36/E5esYqCIhC4pznIF67MF1\n",
       "WeD7hFkc/jKoFbZlq4vxBVxsnzSnIBMmSJXpXeCf1Ij9ladhM51rp0I5g3EZRq7w01wSga0/gj+o\n",
       "YI/5+pxBnt/eCMHZ4keXOQOknye64YEwG51w+c6YaisYjjLS/HjOQCs/1wMLWats9pGAVtiWooMa\n",
       "Nm7tydTS79ihqFQJz7qzbIxx7tMLQzyj+laE8vB9s9df5ac5UxPMr8cfPfKHNcd2PY54Wm2LajWP\n",
       "4Y8QMD86tMvjbwenIqGBsHm5y9daN/zu56CMdMSNs42BephC+zYHHujt7XXMonFyIqCVSe+lRv9H\n",
       "+lsKkA9rxZXeTeQGCd/eej1wx0kVKW2hp5kbz/pt12Ndwh3HZqhuDYHoZ2Tdg5ojpOrz1UZaF7vj\n",
       "SAp3wlmeV3DrsYBWHLlAl/L11UvdMa2w0r9en3Cvrer73f5JY9qWTxPPRUxwPWYVpVbZ2GHnXmQV\n",
       "Fow+1NhhpOHqsxiSJBCuHpdykLFZK3M4olVXtpSFPhuWwWoHteqzjd3QV8WCK33uCd9kTPHsIwNb\n",
       "MJdM0Io8rElHfr8638w3mUD0RjNoDVePheWSOB/QIzMI1jN4LRVFd0Src5+sGoauCvR9N6eIWnVV\n",
       "0jXosrHgSj83NroZquvL93j4nxbkNr0h7l+5uIcDrsfD/ZTnAyyJe70oocia/OgZuzGtNFw9FhRn\n",
       "iUQ5uErEfhX6hvxN8F/FehSuAVqDlUhl/ievYrOEamINNv29Paf4vImHllHvA9aHjQ6zuX4cJIE4\n",
       "eqrhr8N2bqr1CqQ/GBQ/I5WtH8H/FtpMjFe3296+Eqv8L9ifN0hHukKBZYgAAAAASUVORK5CYII=\n",
       "\" style=\"display:inline;vertical-align:middle;\" /></a></span></td></tr>\n",
       "<tr><td>&nbsp;</td><td colspan=4 style-\"text-align:left\"><a class=\"ProveItLink\" href=\"../../_axioms_.ipynb#enumSetDef\">proveit.logic.set_theory.enumeration.enumSetDef</a></td></tr><tr><td>2</td><td>theorem</td><td></td><td><span style=\"font-size:20px;\"> <a class=\"ProveItLink\" href=\"../../../../../number/numeral/deci/_proofs_/nat1.ipynb\" style=\"text-decoration: none\">&#x22A2;&nbsp;</a><a class=\"ProveItLink\" href=\"../88af6ccad5ba3bfc3c4fbf1cf482ea4d887b56020/expr.ipynb\"><img src=\"data:image/png;base64,iVBORw0KGgoAAAANSUhEUgAAADIAAAAPBAMAAABU9YHxAAAAMFBMVEX///92dnaqqqq6urrc3NzM\n",
       "zMwiIiKYmJgyMjIQEBBmZmaIiIhUVFTu7u5EREQAAACNWUPNAAAAAXRSTlMAQObYZgAAAK9JREFU\n",
       "GNNjYGB4y4ACePvf9TJw5ScxMNz7iyrDwFcQx8DAz8Bw5wy6DE8q9wYGTiCDGyrDuyMtrQEsY3Hh\n",
       "KIpMRC1MT+iBGxeQZFjgDuEJ0GZ9gCTD54CQ4TKoRpK5h3BBAMNZnkiEjGVaGswFAQx3eDsRMjHI\n",
       "elgFkPRcQ5ZhKOJDyPAUIMsw+iFkeJPhoWMAJFYwMHCt/LEcLOCxFCLB3D8PSN5ADi+dNojboAAA\n",
       "fwYy90kRVyQAAAAASUVORK5CYII=\n",
       "\" style=\"display:inline;vertical-align:middle;\" /></a></span></td></tr>\n",
       "<tr><td>&nbsp;</td><td colspan=4 style-\"text-align:left\"><a class=\"ProveItLink\" href=\"../../../../../number/numeral/deci/_proofs_/nat1.ipynb\">proveit.number.numeral.deci.nat1</a></td></tr></table>"
      ],
      "text/plain": [
       "<proveit._core_.proof._ShowProof at 0x7f94ebf66978>"
      ]
     },
     "execution_count": 1,
     "metadata": {},
     "output_type": "execute_result"
    }
   ],
   "source": [
    "import proveit\n",
    "%show_proof"
   ]
  },
  {
   "cell_type": "code",
   "execution_count": null,
   "metadata": {},
   "outputs": [],
   "source": []
  }
 ],
 "metadata": {
  "kernelspec": {
   "display_name": "Python 3",
   "language": "python",
   "name": "python3"
  }
 },
 "nbformat": 4,
 "nbformat_minor": 0
}
