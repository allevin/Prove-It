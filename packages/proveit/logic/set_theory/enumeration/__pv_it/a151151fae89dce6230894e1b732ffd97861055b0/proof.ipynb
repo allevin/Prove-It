{
 "cells": [
  {
   "cell_type": "markdown",
   "metadata": {},
   "source": [
    "Show the Proof\n",
    "========"
   ]
  },
  {
   "cell_type": "code",
   "execution_count": 1,
   "metadata": {},
   "outputs": [
    {
     "data": {
      "text/html": [
       "<table><tr><th>&nbsp;</th><th>step type</th><th>requirements</th><th>statement</th></tr>\n",
       "<tr><td>0</td><td>specialization</td><td>1, 2</td><td><span style=\"font-size:20px;\"> <a class=\"ProveItLink\" href=\"proof.ipynb\" style=\"text-decoration: none\">&#x22A2;&nbsp;</a><a class=\"ProveItLink\" href=\"../10275b414cc9ec985ff0632e58d6098ea5a60b1d0/expr.ipynb\"><img src=\"data:image/png;base64,iVBORw0KGgoAAAANSUhEUgAAALkAAAAVBAMAAADoXVL6AAAAMFBMVEX///8QEBCYmJhmZmaqqqrc\n",
       "3Nzu7u5ERERUVFS6urp2dnbMzMwyMjIiIiKIiIgAAACFNc/vAAAAAXRSTlMAQObYZgAAAiVJREFU\n",
       "OMu1lcFr1EAUxr+aTbLZbLd7UG/KXjxYFHrwoGJ1waNQ+weIpidBPOytRbD0Ip6E/QtsUBAiWBYR\n",
       "r10ogqCH3ERFiBa8SNelYC8F8b2XpGwnM0kvziWTb3758vLm5Q3wX8fOh2xy7rNcnprRsxqtAo8O\n",
       "7mTmr5lxa1CQqvAInswHqXszKPnOYUGpwiPUOaRWkrqPyrI4W1Cq8Ah+j2bTQep+sgxfKihVOHm+\n",
       "o9n1NO/esAx3u4pQiUfizG9gdysE7I1HC1cPc87zEHcCNObUjdPjuHcZ9h7jkWSFs8PuzQ4t4Xzn\n",
       "FD/6UQZXRcMb4zdQk1CviPweCj6ph+tojRmPZEfr/dR9iq4hGd04HMsbK8YyJaKtxGjA/e483B7j\n",
       "7BnjflbvM4QHeKxmMJhK8JeeGiu6AXdwGjMJ4+x5Ac8m3EFr6rgZ+PsGdx1e28PmIHe/RdFnmeGq\n",
       "sPfp7ZT3bzJ6klO02nlm5kX+BAWf1K0hviPPTP11krm7tE1naEN+KsFswaXdPaYWoAlvzmFFcPb0\n",
       "HwaZOxVRbddt24mCX8R6B8WKNOHWmreLrCI5tMzdi+Gsvnj5Q03k3dG1RQqpr/5NBtxZ3f4juLi/\n",
       "PeiRJ0w/3ittJzDijTjvBJMdeFbL1mPnOF02jtDXZDzBUldwxV3fUqdDl/5558gd+AsepLjibmuP\n",
       "g9roEn/BYmFBj2Nhu5/iO1/zIzA9+W6be94vjVaO/wMaQrPpN0j9pgAAAABJRU5ErkJggg==\n",
       "\" style=\"display:inline;vertical-align:middle;\" /></a></span></td></tr>\n",
       "<tr><td>&nbsp;</td><td colspan=4 style=\"text-align:left\"><span style=\"font-size:20px;\"><a class=\"ProveItLink\" href=\"../../../../../__pv_it/2cbe72a7ad6f655694dd697106680215e8489b600/expr.ipynb\"><img src=\"data:image/png;base64,iVBORw0KGgoAAAANSUhEUgAAAA8AAAAOBAMAAAACpFvcAAAALVBMVEX///8QEBBERERUVFS6urqI\n",
       "iIhmZmaqqqrc3Nzu7u6YmJgyMjIiIiLMzMwAAADtIaYWAAAAAXRSTlMAQObYZgAAAFtJREFUCNdj\n",
       "YACBOwxQsA9Kc52bAGG05zVAGAFxDmCaZULdAjBjCsO9ADDDgaEvAUTzGhvbKYCVMDAwbgAxChgY\n",
       "eASANAeQwf0AyJgNxEwvGRia5HYwcOm9TgAA6BoR3jrzwFcAAAAASUVORK5CYII=\n",
       "\" style=\"display:inline;vertical-align:middle;\" /></a> : <a class=\"ProveItLink\" href=\"../11c10f4bba158f3c28c22f8b0eddbb73cf6480560/expr.ipynb\"><img src=\"data:image/png;base64,iVBORw0KGgoAAAANSUhEUgAAADMAAAANBAMAAAD2/0vEAAAAMFBMVEX///+6uroyMjJERETMzMwQ\n",
       "EBAiIiKYmJju7u5mZmaqqqpUVFSIiIh2dnbc3NwAAAAWgogoAAAAAXRSTlMAQObYZgAAAKRJREFU\n",
       "GNNjYHh7+tXJAwwogOPmBYb3DQwcF9jTWROAfE4lMNgAZPIyfmA4D6QYeD5wOaDq8uJMYDAGambg\n",
       "NmBAAw2sBxj+gBisB9ClGNY3sHwB0e8dGBpAdqWBAdiISQw8AQwM7A/OM/A0oOnSZGAGOmd9gSnD\n",
       "G3QDZzPIFzAwNJ/tvVOALtV8Zv4DBlzgGg5x7gSOKBxSbBeYL+CQ4jozEUgCABYeKl4jfnQmAAAA\n",
       "AElFTkSuQmCC\n",
       "\" style=\"display:inline;vertical-align:middle;\" /></a></span></td></tr><tr><td>1</td><td>theorem</td><td></td><td><span style=\"font-size:20px;\"> <a class=\"ProveItLink\" href=\"../../../../boolean/disjunction/_proofs_/unaryDisjunctionDef.ipynb\" style=\"text-decoration: none\">&#x22A2;&nbsp;</a><a class=\"ProveItLink\" href=\"../c8fde4b1f7fcb57751daa8d7c1bfc09ec80c27230/expr.ipynb\"><img src=\"data:image/png;base64,iVBORw0KGgoAAAANSUhEUgAAAK4AAAAVBAMAAAAtL8hrAAAAMFBMVEX///8QEBC6urrMzMxUVFRm\n",
       "ZmZERETc3NwyMjKqqqp2dnaIiIiYmJgiIiLu7u4AAAAU9Wx4AAAAAXRSTlMAQObYZgAAAspJREFU\n",
       "OMu1lU1oE0EUx//JZrtpPtbiRT2oq3gQqpJDb34kaKDHCpKD4vdhi6g0B2ktRQ1KqRSpvRS8uQhV\n",
       "RJEFj1IaBKUqQlTqQRS3olKoSClYC0r1vZnJmo9dPTmwM2/nzfzmzXtvZoD/VLy/aqMuJi4peeql\n",
       "aNp95cOwWSkLqLDwLGxEB3DD/xGSlhOyRvP0TNCUnfTtA26zPBLGHWFaVIgZyY3LDcbnqSoFTbnK\n",
       "WqCXGuNoCDbpMjeWkaLgPpCa58tUPQ3ywXtaOOWI9fXREG7EY67Gy6Y9yV0nFMbYd6pnAqb0HykC\n",
       "ZhtSt/r6zoW5YbP06hA1Y9K/Ubn3ZHKB6pYAe9xJChpOAIu2/SaMe0Byicls5uqOUGxr/Ul1Ym9z\n",
       "AnnXy9SMA3uAbtE11My9IrnkA/YFc+M8C6al/aCmlY3XL4si0wQfkKWY4BqwCabYW2pBOX54eLCs\n",
       "uCsll2IWsyQ3YgmrYHzjpq3JEgsXeBMbyBgkBeYT72yucBCuM7dRjVpQWVvBrJJWCG5HPr/ISTzf\n",
       "iNXy+S6OcpaMKadFSt6bJvn4+a/ETXxp4O7H3TouVasDuZTqkZLkmqUOsZJrA49ERJ32w2rYGkU7\n",
       "K46l8AOnQCt9L6p+0N+JIo8AadNt0g/o3s09MRxSB8gtrK3695SixXa4SmphVb86VqnGA2eMqpM4\n",
       "xZkprognmITmSHv17WrcuKJppz0lcWqJOPd4AXnGUWhZVhMjbIs5XejxtNe2fZL9m1DjtlZvm8Hq\n",
       "vROtwDi2VMTjX9QVt+qxveuHkOpZotUu8m7YFr2IbMbMSXt9bqSouLv8+2xVDWcm7DyZfgJuoVCX\n",
       "0an8MFC9RJyme7L2rrkTxk24Svi4CKPrLT5b4lzY5bp7so4b//MQmKUw7mxjx03yb20508Q1cv5/\n",
       "rBjG7fzXK2XQO/RKyRPyHRrwlffDZiUz+A1Rb8Ei/Oj95gAAAABJRU5ErkJggg==\n",
       "\" style=\"display:inline;vertical-align:middle;\" /></a></span></td></tr>\n",
       "<tr><td>&nbsp;</td><td colspan=4 style-\"text-align:left\"><a class=\"ProveItLink\" href=\"../../../../boolean/disjunction/_proofs_/unaryDisjunctionDef.ipynb\">proveit.logic.boolean.disjunction.unaryDisjunctionDef</a></td></tr><tr><td>2</td><td>specialization</td><td>3</td><td><span style=\"font-size:20px;\"> <a class=\"ProveItLink\" href=\"../f215a9b5914f62417a696b93663678c32bc920cd0/proof.ipynb\" style=\"text-decoration: none\">&#x22A2;&nbsp;</a><a class=\"ProveItLink\" href=\"../ee500ec7d0ef75ac561b0d9e764cd18d4efcb3940/expr.ipynb\"><img src=\"data:image/png;base64,iVBORw0KGgoAAAANSUhEUgAAAGcAAAAVBAMAAACphe0AAAAAMFBMVEX////c3NwiIiJERESqqqqY\n",
       "mJh2dnZmZmYQEBDu7u4yMjJUVFTMzMyIiIi6uroAAAAs73DqAAAAAXRSTlMAQObYZgAAAY1JREFU\n",
       "OMtjYCAL8F3AKcX6AJfMaTwG1qDxsz6vX6HsAGSsxKOJC13A4C3nyjQGBt4LeDSxJmBoYrgHNIlj\n",
       "Ah5NnA0Qeu4iJS2YJlfuCQyv8IaSCZjkWToBySZhBoYyIFPstsh1NFdOK2Ng/MnAkA7mCE9AOI9H\n",
       "1ZKBYSnQEQmsqhwKQCH2VWCwAchMeM/A+4GBwQus1BDhp0f6P4DG9zEwsAHlWQ6gWMTjUMTAbMDA\n",
       "8ALsMwPkgLjrzMDwDyjIwG2AHgIMvQz8QCPPg6O/SUkJERDMfAkgTcAgxAh3lp8M5w9ANfFsQLaJ\n",
       "mcGAoQXElj/AAPIruxIYgKxlX8BwgwHmPAV0TabAKBS4z8CLFl1cBQzWQCoKzNmKognoPGCg+gdY\n",
       "MMiiOY99A99XBliQT3qApCn8MgPDIwaGydem5Qagh4Tt9Y9Aah2Yw7j8ADzBGnUDEyyHAI7EwKaA\n",
       "SEYsu6ChhytNQsAmhhlAE9lwpWbsWUONwQxIzsKVJqWxivpeB3l+Iy5NjLgzFO8B7OIAf2dlqY6u\n",
       "74UAAAAASUVORK5CYII=\n",
       "\" style=\"display:inline;vertical-align:middle;\" /></a></span></td></tr>\n",
       "<tr><td>&nbsp;</td><td colspan=4 style=\"text-align:left\"><span style=\"font-size:20px;\"><a class=\"ProveItLink\" href=\"../../../../../__pv_it/530be409e3083890784cf1d7b28c9e67e90af9360/expr.ipynb\"><img src=\"data:image/png;base64,iVBORw0KGgoAAAANSUhEUgAAAAsAAAAJBAMAAAAWSsseAAAAKlBMVEX///9ERETMzMwQEBAiIiKY\n",
       "mJju7u5mZmaqqqpUVFSIiIh2dnbc3NwAAAA/vyDhAAAAAXRSTlMAQObYZgAAAENJREFUCNdjYDi9\n",
       "8sTyBQxsG1hdmR0YuBm4LnAoMLAxcAowgADzAjB1VoEhgYH1wFoGrgSG3gBhhlMMDImrs3cFMAAA\n",
       "t0YN+iTRa+sAAAAASUVORK5CYII=\n",
       "\" style=\"display:inline;vertical-align:middle;\" /></a> : <a class=\"ProveItLink\" href=\"../../../../../__pv_it/530be409e3083890784cf1d7b28c9e67e90af9360/expr.ipynb\"><img src=\"data:image/png;base64,iVBORw0KGgoAAAANSUhEUgAAAAsAAAAJBAMAAAAWSsseAAAAKlBMVEX///9ERETMzMwQEBAiIiKY\n",
       "mJju7u5mZmaqqqpUVFSIiIh2dnbc3NwAAAA/vyDhAAAAAXRSTlMAQObYZgAAAENJREFUCNdjYDi9\n",
       "8sTyBQxsG1hdmR0YuBm4LnAoMLAxcAowgADzAjB1VoEhgYH1wFoGrgSG3gBhhlMMDImrs3cFMAAA\n",
       "t0YN+iTRa+sAAAAASUVORK5CYII=\n",
       "\" style=\"display:inline;vertical-align:middle;\" /></a>, <a class=\"ProveItLink\" href=\"../../../../../__pv_it/f8b9edf8e16034727f0aad55bb83e392c3db40d40/expr.ipynb\"><img src=\"data:image/png;base64,iVBORw0KGgoAAAANSUhEUgAAAAsAAAANBAMAAACN24kIAAAAMFBMVEX///+YmJhUVFQyMjIQEBBE\n",
       "REQiIiKqqqrMzMyIiIi6urrc3NxmZmZ2dnbu7u4AAADXeCicAAAAAXRSTlMAQObYZgAAAFhJREFU\n",
       "CNdj4LtzgWH/AwZerg8M8xkY2nkSGEIZGB6wTGD4ycDAUP+A4weQOszA6QCkbBhYFYDUIYb1AkDq\n",
       "6czzGxhA4BoQMyXwuQMptgusF4AU+8xTQBIAUqMVoSp/SLMAAAAASUVORK5CYII=\n",
       "\" style=\"display:inline;vertical-align:middle;\" /></a> : <a class=\"ProveItLink\" href=\"../../../../../__pv_it/f8b9edf8e16034727f0aad55bb83e392c3db40d40/expr.ipynb\"><img src=\"data:image/png;base64,iVBORw0KGgoAAAANSUhEUgAAAAsAAAANBAMAAACN24kIAAAAMFBMVEX///+YmJhUVFQyMjIQEBBE\n",
       "REQiIiKqqqrMzMyIiIi6urrc3NxmZmZ2dnbu7u4AAADXeCicAAAAAXRSTlMAQObYZgAAAFhJREFU\n",
       "CNdj4LtzgWH/AwZerg8M8xkY2nkSGEIZGB6wTGD4ycDAUP+A4weQOszA6QCkbBhYFYDUIYb1AkDq\n",
       "6czzGxhA4BoQMyXwuQMptgusF4AU+8xTQBIAUqMVoSp/SLMAAAAASUVORK5CYII=\n",
       "\" style=\"display:inline;vertical-align:middle;\" /></a></span></td></tr><tr><td>3</td><td>axiom</td><td></td><td><span style=\"font-size:20px;\"> <a class=\"ProveItLink\" href=\"../../../../equality/_axioms_.ipynb#equalityInBool\" style=\"text-decoration: none\">&#x22A2;&nbsp;</a><a class=\"ProveItLink\" href=\"../531ea0fa7c94576460bc48a8be72271e50b3f5680/expr.ipynb\"><img src=\"data:image/png;base64,iVBORw0KGgoAAAANSUhEUgAAAKYAAAAWBAMAAAC4bPoxAAAAMFBMVEX///8QEBC6urrMzMxUVFRm\n",
       "ZmZERETc3NwyMjKqqqp2dnaIiIiYmJgiIiLu7u4AAAAU9Wx4AAAAAXRSTlMAQObYZgAAAmFJREFU\n",
       "OMu1VT2IE0EU/pJNNsnuZg2ejYVwgoUgwQg2VjlOUFErtRAtXJscgsoWkvMUvSgcWJzxChUL4bYJ\n",
       "/hxKkDOgKW4bQbBJJSIXnCqIh3AqnIWN85dssruDFvrg2535dt6befN+FvgPQlQfkk0BhVjjar7D\n",
       "Bu9iPu6VUMnx0Pzxxp0b7xc4/4TN6zE6dQXfl2yYcHbZ9aecr9JZxomqmE0BtfNexCZeZDmfpRea\n",
       "XoiqJIiAUuyCeK/d7n7o23yYIoy3Hk1PX4tR2SmhlnP8qc2ToXNWBb9RqXyM0TglcWV55mXoCuyG\n",
       "h1mCBp9USeC7tnqRvim/H5iKsTkvYHvWaoLlRvoWlwk6NJLrWAEe8HWBrlP89I3tTvkdsGsxNjcL\n",
       "GDDXc6XRT/vSHVSA7fzMznCM2vfB+TxMP8bmdwEbqUhSkEQTv4Ayr4xt3W4QIz3pcd7080RtkwY/\n",
       "mlCLRPshbWoTw+fU4XDerrFqWZpcph4mW4P82SqB2RKv33SXCz/0SZiFvu+diE3GT03SayMHEjRJ\n",
       "1za5e+SK8wKWuwIz7MccdHq8t3x8dMQm853x9+hWSR5nXC+iJVc0BBb9s7ga9v0EdvuQufR1fMjm\n",
       "m5bUFBf2k/OHcUSuKAr0Xn9ZioSw1z7jAjf5ODNXGvSQC1tYQTLeYq5pBU1k0Fi/Nl2BeHkW1Gbu\n",
       "kIx7qGZRNmoGLrsYo+kctIhImxCS6tg0eoaiwQz43qvTz1H2cbdV+3Ovy3s63eyzwoUQ72fc1GD3\n",
       "SxJRybWP0edBhc1RXnN1L2hFmaaAQszSX/EWPYH3D35xvwHMAqgmkf/s6AAAAABJRU5ErkJggg==\n",
       "\" style=\"display:inline;vertical-align:middle;\" /></a></span></td></tr>\n",
       "<tr><td>&nbsp;</td><td colspan=4 style-\"text-align:left\"><a class=\"ProveItLink\" href=\"../../../../equality/_axioms_.ipynb#equalityInBool\">proveit.logic.equality.equalityInBool</a></td></tr></table>"
      ],
      "text/plain": [
       "<proveit._core_.proof._ShowProof at 0x7f94ebe1a748>"
      ]
     },
     "execution_count": 1,
     "metadata": {},
     "output_type": "execute_result"
    }
   ],
   "source": [
    "import proveit\n",
    "%show_proof"
   ]
  },
  {
   "cell_type": "code",
   "execution_count": null,
   "metadata": {},
   "outputs": [],
   "source": []
  }
 ],
 "metadata": {
  "kernelspec": {
   "display_name": "Python 3",
   "language": "python",
   "name": "python3"
  }
 },
 "nbformat": 4,
 "nbformat_minor": 0
}
