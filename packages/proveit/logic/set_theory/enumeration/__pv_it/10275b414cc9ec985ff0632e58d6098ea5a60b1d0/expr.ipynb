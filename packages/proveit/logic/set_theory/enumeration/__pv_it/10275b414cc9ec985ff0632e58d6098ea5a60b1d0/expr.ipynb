{
 "cells": [
  {
   "cell_type": "markdown",
   "metadata": {},
   "source": [
    "Expression of type <a class=\"ProveItLink\" href=\"../../../../../../../doc/html/api/proveit.logic.Equals.html\">Equals</a>\n",
    "=======================\n",
    "# from context <a class=\"ProveItLink\" href=\"../../_context_.ipynb\">proveit.logic.set_theory.enumeration</a>"
   ]
  },
  {
   "cell_type": "code",
   "execution_count": 1,
   "metadata": {},
   "outputs": [],
   "source": [
    "# import Expression classes needed to build the expression\n",
    "from proveit._common_ import x, y\n",
    "from proveit.logic import Equals, Or"
   ]
  },
  {
   "cell_type": "code",
   "execution_count": 2,
   "metadata": {},
   "outputs": [
    {
     "data": {
      "text/html": [
       "<strong id=\"expr\">expr:</strong> <a class=\"ProveItLink\" href=\"expr.ipynb\"><img src=\"data:image/png;base64,iVBORw0KGgoAAAANSUhEUgAAALkAAAAVBAMAAADoXVL6AAAAMFBMVEX///8QEBCYmJhmZmaqqqrc\n",
       "3Nzu7u5ERERUVFS6urp2dnbMzMwyMjIiIiKIiIgAAACFNc/vAAAAAXRSTlMAQObYZgAAAiVJREFU\n",
       "OMu1lcFr1EAUxr+aTbLZbLd7UG/KXjxYFHrwoGJ1waNQ+weIpidBPOytRbD0Ip6E/QtsUBAiWBYR\n",
       "r10ogqCH3ERFiBa8SNelYC8F8b2XpGwnM0kvziWTb3758vLm5Q3wX8fOh2xy7rNcnprRsxqtAo8O\n",
       "7mTmr5lxa1CQqvAInswHqXszKPnOYUGpwiPUOaRWkrqPyrI4W1Cq8Ah+j2bTQep+sgxfKihVOHm+\n",
       "o9n1NO/esAx3u4pQiUfizG9gdysE7I1HC1cPc87zEHcCNObUjdPjuHcZ9h7jkWSFs8PuzQ4t4Xzn\n",
       "FD/6UQZXRcMb4zdQk1CviPweCj6ph+tojRmPZEfr/dR9iq4hGd04HMsbK8YyJaKtxGjA/e483B7j\n",
       "7BnjflbvM4QHeKxmMJhK8JeeGiu6AXdwGjMJ4+x5Ac8m3EFr6rgZ+PsGdx1e28PmIHe/RdFnmeGq\n",
       "sPfp7ZT3bzJ6klO02nlm5kX+BAWf1K0hviPPTP11krm7tE1naEN+KsFswaXdPaYWoAlvzmFFcPb0\n",
       "HwaZOxVRbddt24mCX8R6B8WKNOHWmreLrCI5tMzdi+Gsvnj5Q03k3dG1RQqpr/5NBtxZ3f4juLi/\n",
       "PeiRJ0w/3ittJzDijTjvBJMdeFbL1mPnOF02jtDXZDzBUldwxV3fUqdDl/5558gd+AsepLjibmuP\n",
       "g9roEn/BYmFBj2Nhu5/iO1/zIzA9+W6be94vjVaO/wMaQrPpN0j9pgAAAABJRU5ErkJggg==\n",
       "\" style=\"display:inline;vertical-align:middle;\" /></a><br>"
      ],
      "text/plain": [
       "expr: [or](x = y) = (x = y)"
      ]
     },
     "execution_count": 2,
     "metadata": {},
     "output_type": "execute_result"
    }
   ],
   "source": [
    "# build up the expression from sub-expressions\n",
    "subExpr1 = Equals(x, y)\n",
    "expr = Equals(Or(subExpr1), subExpr1)"
   ]
  },
  {
   "cell_type": "code",
   "execution_count": 3,
   "metadata": {},
   "outputs": [
    {
     "name": "stdout",
     "output_type": "stream",
     "text": [
      "Passed sanity check: built 'expr' is the same as the stored Expression.\n"
     ]
    }
   ],
   "source": [
    "# check that the built expression is the same as the stored expression\n",
    "%check_expr"
   ]
  },
  {
   "cell_type": "code",
   "execution_count": 4,
   "metadata": {},
   "outputs": [
    {
     "data": {
      "text/html": [
       "<table><tr><th>&nbsp;</th><th>core type</th><th>sub-expressions</th><th>expression</th></tr>\n",
       "<tr><td>0</td><td>Operation</td><td>operator:&nbsp;6<br>operands:&nbsp;1<br></td><td><a class=\"ProveItLink\" href=\"expr.ipynb\"><img src=\"data:image/png;base64,iVBORw0KGgoAAAANSUhEUgAAALkAAAAVBAMAAADoXVL6AAAAMFBMVEX///8QEBCYmJhmZmaqqqrc\n",
       "3Nzu7u5ERERUVFS6urp2dnbMzMwyMjIiIiKIiIgAAACFNc/vAAAAAXRSTlMAQObYZgAAAiVJREFU\n",
       "OMu1lcFr1EAUxr+aTbLZbLd7UG/KXjxYFHrwoGJ1waNQ+weIpidBPOytRbD0Ip6E/QtsUBAiWBYR\n",
       "r10ogqCH3ERFiBa8SNelYC8F8b2XpGwnM0kvziWTb3758vLm5Q3wX8fOh2xy7rNcnprRsxqtAo8O\n",
       "7mTmr5lxa1CQqvAInswHqXszKPnOYUGpwiPUOaRWkrqPyrI4W1Cq8Ah+j2bTQep+sgxfKihVOHm+\n",
       "o9n1NO/esAx3u4pQiUfizG9gdysE7I1HC1cPc87zEHcCNObUjdPjuHcZ9h7jkWSFs8PuzQ4t4Xzn\n",
       "FD/6UQZXRcMb4zdQk1CviPweCj6ph+tojRmPZEfr/dR9iq4hGd04HMsbK8YyJaKtxGjA/e483B7j\n",
       "7BnjflbvM4QHeKxmMJhK8JeeGiu6AXdwGjMJ4+x5Ac8m3EFr6rgZ+PsGdx1e28PmIHe/RdFnmeGq\n",
       "sPfp7ZT3bzJ6klO02nlm5kX+BAWf1K0hviPPTP11krm7tE1naEN+KsFswaXdPaYWoAlvzmFFcPb0\n",
       "HwaZOxVRbddt24mCX8R6B8WKNOHWmreLrCI5tMzdi+Gsvnj5Q03k3dG1RQqpr/5NBtxZ3f4juLi/\n",
       "PeiRJ0w/3ittJzDijTjvBJMdeFbL1mPnOF02jtDXZDzBUldwxV3fUqdDl/5558gd+AsepLjibmuP\n",
       "g9roEn/BYmFBj2Nhu5/iO1/zIzA9+W6be94vjVaO/wMaQrPpN0j9pgAAAABJRU5ErkJggg==\n",
       "\" style=\"display:inline;vertical-align:middle;\" /></a></td></tr>\n",
       "<tr><td>1</td><td>ExprTuple</td><td>2, 5</td><td><a class=\"ProveItLink\" href=\"../52926bbb38d756beedb7e385efea4c852e53c6700/expr.ipynb\"><img src=\"data:image/png;base64,iVBORw0KGgoAAAANSUhEUgAAAKsAAAAVBAMAAADLBgMvAAAAMFBMVEX////c3NwiIiJERESqqqqY\n",
       "mJh2dnZmZmYQEBDu7u4yMjJUVFTMzMyIiIi6uroAAAAs73DqAAAAAXRSTlMAQObYZgAAAmVJREFU\n",
       "OMu1lb1rFEEYxp/L3t3e3u1urlbEI4KVSPCrkcB1ghg8LVJYyCJosIiEICn8PMXGQlkQJKRxLSQY\n",
       "RRL9B67QQiyyBCQKHp5WIkguRYpAFN93Zva47M3u2jjFzrtzz/x25v064D8NN8TqS2WfOyimX8nq\n",
       "QiebeJ4fH4ArvRVh2Uspe25kY80WPZ4zzBXvLYkt+yl7yv/ggABwQsZW+ANkCmw7bUvBy8ZOACWf\n",
       "sfYovQ35Ens/bYvVzMbOAT+lR5/SdEL61g1S9xzJxhp1zEosIRnNWJOumZtaHr8ZEz+eRW4LmIze\n",
       "NRpr0sNeH8VpPJNYcgA7grHlBiFwtnGXhdcWebxg01uH0wVO9j6jNKaQLHL6FN0uvgL5AA8llsJV\n",
       "6UhsiWaPfj218yR2fQYGfflHtKDRvDVrOExubOKPytYa5pU1TFgfbwZihQcYprRZiRY0Gr8U4jed\n",
       "oNvDXsXFPiyIER/5Lay0+rA6zWnf3hbYewq2i86rnFDneGzT8WjMjPDYJ4onwCf0OSHSmEIyMipC\n",
       "AacpnHBUwSrvQmUZFLIzFJzP8fqaxnHuG8Ih0GsWYFDoCoHIF4bZh3xlUXrkN41mLoyX+pK7CZlg\n",
       "T+hmWs11rDcE4XvUYBaiVuPWYI1dvvRxIGZjaxs0veIy2oBe86h9u0r36qBUVdj3vQ52J6l6irWo\n",
       "eL8lVtgFWbzcOmKNcUK/4TXmKJhFce+GXlKpWZwCU1Fj3IFNaIz7cYye80jBDnkGndLiprJ7AJvT\n",
       "t/HxNU7oZTadBA/k27f4zFWG0J/OAbW8Kv909iQ3J6eV3cC+AH8BgV2he6iz+dsAAAAASUVORK5C\n",
       "YII=\n",
       "\" style=\"display:inline;vertical-align:middle;\" /></a></td></tr>\n",
       "<tr><td>2</td><td>Operation</td><td>operator:&nbsp;3<br>operands:&nbsp;4<br></td><td><a class=\"ProveItLink\" href=\"../f075b93ef4e9a4f4334443b33763e7b8b64fb4ee0/expr.ipynb\"><img src=\"data:image/png;base64,iVBORw0KGgoAAAANSUhEUgAAAFsAAAAVBAMAAADbSo+2AAAAMFBMVEX///8QEBCYmJhmZmaqqqrc\n",
       "3Nzu7u5ERERUVFS6urp2dnbMzMwyMjIiIiKIiIgAAACFNc/vAAAAAXRSTlMAQObYZgAAAYRJREFU\n",
       "KM+V0z1Lw0AYB/B/bfPWtLWDuildHCwKDg4KvhQcBfUDiMZJEAc3J8VFXPsJNCgUFCxFxDkggqBD\n",
       "NhERgoOLtBbXgvg8dzG0aRPwoL0r/d3lf5fngP+1+qM/GH8R3Uk0HaPPRfBLjMzDaJ6sMTLEuCZ5\n",
       "xopJ4jDXaRJynuSNuOBF5uYujbKW5ENxfFMkvqfRosxuOHFcKzEiylOYJ21AqR4tz3c69dzGhoX0\n",
       "JCMKwoGYZwrANiYKw4xmn7g90ChtNPEFpBxGtE29LHmCepv+Wepc/SbpYo+i5gVyseOfez9xC8fh\n",
       "0FbCww+9lKZAUzhr48BI1yZXLLMV8DVa3w9Toi+lBZXN3Bu3Z7EN5PJBGP3a87lGWx3NNfERWv0O\n",
       "GlVHn9gqzH3L53RUqW8tr3ghPo3TAvyD5Mk+N1yoB5XL93D2rcbCKh1zWfLboCIHo97oVVAE7QVc\n",
       "7Gl1Vx2grtrFexdw1taoOlSniys9r0eqMcPPoPj1179bKC/fenRBfgK/F1dqd9arb8gAAAAASUVO\n",
       "RK5CYII=\n",
       "\" style=\"display:inline;vertical-align:middle;\" /></a></td></tr>\n",
       "<tr><td>3</td><td>Literal</td><td></td><td><a class=\"ProveItLink\" href=\"../../../../boolean/disjunction/__pv_it/087d0b4ded7c7e5bf3bba05ecb616d7a8051ff650/expr.ipynb\"><img src=\"data:image/png;base64,iVBORw0KGgoAAAANSUhEUgAAAAwAAAAOBAMAAADpk+DfAAAALVBMVEX///+YmJh2dnZmZmaqqqrc\n",
       "3NwyMjLu7u4iIiJERESIiIhUVFTMzMy6uroAAAD0I/TTAAAAAXRSTlMAQObYZgAAAEtJREFUCNdj\n",
       "uMAABDwMe0DUKoaTIKqdgS2AgYHFAITAzHYGsMQqBoa9QIqDgT0BSDE7MAkAKdYEDpAehj1SYOpk\n",
       "O5hiMwBTPAUMDAB33Atnw8aG2QAAAABJRU5ErkJggg==\n",
       "\" style=\"display:inline;vertical-align:middle;\" /></a></td></tr>\n",
       "<tr><td>4</td><td>ExprTuple</td><td>5</td><td><a class=\"ProveItLink\" href=\"../82fb4307ca164a925e64306878b44eca13cccb360/expr.ipynb\"><img src=\"data:image/png;base64,iVBORw0KGgoAAAANSUhEUgAAAD8AAAAVBAMAAAADRiu8AAAAMFBMVEX////c3NwiIiJERESqqqqY\n",
       "mJh2dnZmZmYQEBDu7u4yMjJUVFTMzMyIiIi6uroAAAAs73DqAAAAAXRSTlMAQObYZgAAARFJREFU\n",
       "KM9jYCAI+C7glosDEafxaGY/ACRW4jN+AQMD7wV8CsIYGDgm4FMwg4HhFV4fMDswlAEpsdsi19Fs\n",
       "4kxPYJCfwMBWwLAUyElgVeVQADl6FRhsADLZ+D4w3GdgYFnA0AfkMPB+YDmAasIRdgUGY2AgNTD8\n",
       "A5rAwG2AbvkEjgsMfxkYeD6AFAC9gulX/wk8f8AKWkA8+QMMIN+yK4EB2LgqBt4GsBWmDAysAvcZ\n",
       "eNGDYzkDM9CxrAsY0oGmBVgwyKJbUc3wPoAB5M1HDAyTr03LDUBXMPluvQADA9cDBg4BXKGYBAlq\n",
       "1gSsstwKnCDn5+KMbqYEZqBOTmB0M0hjVcBytw5kDsh+RjwJ4g4DAwALUz0NBgexYgAAAABJRU5E\n",
       "rkJggg==\n",
       "\" style=\"display:inline;vertical-align:middle;\" /></a></td></tr>\n",
       "<tr><td>5</td><td>Operation</td><td>operator:&nbsp;6<br>operands:&nbsp;7<br></td><td><a class=\"ProveItLink\" href=\"../11c10f4bba158f3c28c22f8b0eddbb73cf6480560/expr.ipynb\"><img src=\"data:image/png;base64,iVBORw0KGgoAAAANSUhEUgAAADMAAAANBAMAAAD2/0vEAAAAMFBMVEX///+6uroyMjJERETMzMwQ\n",
       "EBAiIiKYmJju7u5mZmaqqqpUVFSIiIh2dnbc3NwAAAAWgogoAAAAAXRSTlMAQObYZgAAAKRJREFU\n",
       "GNNjYHh7+tXJAwwogOPmBYb3DQwcF9jTWROAfE4lMNgAZPIyfmA4D6QYeD5wOaDq8uJMYDAGambg\n",
       "NmBAAw2sBxj+gBisB9ClGNY3sHwB0e8dGBpAdqWBAdiISQw8AQwM7A/OM/A0oOnSZGAGOmd9gSnD\n",
       "G3QDZzPIFzAwNJ/tvVOALtV8Zv4DBlzgGg5x7gSOKBxSbBeYL+CQ4jozEUgCABYeKl4jfnQmAAAA\n",
       "AElFTkSuQmCC\n",
       "\" style=\"display:inline;vertical-align:middle;\" /></a></td></tr>\n",
       "<tr><td>6</td><td>Literal</td><td></td><td><a class=\"ProveItLink\" href=\"../../../../equality/__pv_it/2fb26078095930560931daa0500ce419a39ea6cd0/expr.ipynb\"><img src=\"data:image/png;base64,iVBORw0KGgoAAAANSUhEUgAAAA4AAAAFBAMAAACHocAhAAAAFVBMVEX///9EREQiIiJUVFQyMjJm\n",
       "ZmYAAADubVkoAAAAAXRSTlMAQObYZgAAABRJREFUCNdjCHEBAWcGXCBICQQUAUpuAwlgGKrkAAAA\n",
       "AElFTkSuQmCC\n",
       "\" style=\"display:inline;vertical-align:middle;\" /></a></td></tr>\n",
       "<tr><td>7</td><td>ExprTuple</td><td>8, 9</td><td><a class=\"ProveItLink\" href=\"../a6a2ac9310c73e21661c7634808321702fb219240/expr.ipynb\"><img src=\"data:image/png;base64,iVBORw0KGgoAAAANSUhEUgAAACwAAAAVBAMAAADP3xFXAAAAMFBMVEX////c3NwiIiJERESqqqqY\n",
       "mJh2dnZmZmYQEBDu7u4yMjJUVFTMzMyIiIi6uroAAAAs73DqAAAAAXRSTlMAQObYZgAAAQtJREFU\n",
       "GNNjYMAB+C6gi7A+ABKnMVXWAPFKTGEuBgbeC5jCrAkMHBMwhTkbGF5hc4YJQxmQFLstch1i1rQy\n",
       "BsafDAzpDEuBehJYVTkUwMIJ7xl4PzAweDH0MTCwAZksB0CiPA5FDMwGDAwvGP4BVTNwG0DtYuhl\n",
       "4Acadx4kzMDAAXMly0+G8wdAwi0gnvwBBog72Rcw3GAAGWIKdL3AfQbeCWAJrgIGayAVBXQLg3+A\n",
       "BYMsA+cnkOoNfF8ZQA58xMAw+dq03AAGzn4BoJ221z8ChdcxcAjAQxjMYlMAex4YLLAAAuJNDDMc\n",
       "gFIXkAIWJKzGYAYkZwGxNEwY5Hbf66CY2QjEjBgBznuAAQAt5DtyKXSr1gAAAABJRU5ErkJggg==\n",
       "\" style=\"display:inline;vertical-align:middle;\" /></a></td></tr>\n",
       "<tr><td>8</td><td>Variable</td><td></td><td><a class=\"ProveItLink\" href=\"../../../../../__pv_it/530be409e3083890784cf1d7b28c9e67e90af9360/expr.ipynb\"><img src=\"data:image/png;base64,iVBORw0KGgoAAAANSUhEUgAAAAsAAAAJBAMAAAAWSsseAAAAKlBMVEX///9ERETMzMwQEBAiIiKY\n",
       "mJju7u5mZmaqqqpUVFSIiIh2dnbc3NwAAAA/vyDhAAAAAXRSTlMAQObYZgAAAENJREFUCNdjYDi9\n",
       "8sTyBQxsG1hdmR0YuBm4LnAoMLAxcAowgADzAjB1VoEhgYH1wFoGrgSG3gBhhlMMDImrs3cFMAAA\n",
       "t0YN+iTRa+sAAAAASUVORK5CYII=\n",
       "\" style=\"display:inline;vertical-align:middle;\" /></a></td></tr>\n",
       "<tr><td>9</td><td>Variable</td><td></td><td><a class=\"ProveItLink\" href=\"../../../../../__pv_it/f8b9edf8e16034727f0aad55bb83e392c3db40d40/expr.ipynb\"><img src=\"data:image/png;base64,iVBORw0KGgoAAAANSUhEUgAAAAsAAAANBAMAAACN24kIAAAAMFBMVEX///+YmJhUVFQyMjIQEBBE\n",
       "REQiIiKqqqrMzMyIiIi6urrc3NxmZmZ2dnbu7u4AAADXeCicAAAAAXRSTlMAQObYZgAAAFhJREFU\n",
       "CNdj4LtzgWH/AwZerg8M8xkY2nkSGEIZGB6wTGD4ycDAUP+A4weQOszA6QCkbBhYFYDUIYb1AkDq\n",
       "6czzGxhA4BoQMyXwuQMptgusF4AU+8xTQBIAUqMVoSp/SLMAAAAASUVORK5CYII=\n",
       "\" style=\"display:inline;vertical-align:middle;\" /></a></td></tr>\n",
       "</table>\n"
      ],
      "text/plain": [
       "0. [or](x = y) = (x = y)\n",
       "   core type: Operation\n",
       "   operator: 6\n",
       "   operands: 1\n",
       "1. ([or](x = y) , x = y)\n",
       "   core type: ExprTuple\n",
       "   sub-expressions: 2, 5\n",
       "2. [or](x = y)\n",
       "   core type: Operation\n",
       "   operator: 3\n",
       "   operands: 4\n",
       "3. or\n",
       "   core type: Literal\n",
       "   sub-expressions: \n",
       "4. (x = y)\n",
       "   core type: ExprTuple\n",
       "   sub-expressions: 5\n",
       "5. x = y\n",
       "   core type: Operation\n",
       "   operator: 6\n",
       "   operands: 7\n",
       "6. =\n",
       "   core type: Literal\n",
       "   sub-expressions: \n",
       "7. (x , y)\n",
       "   core type: ExprTuple\n",
       "   sub-expressions: 8, 9\n",
       "8. x\n",
       "   core type: Variable\n",
       "   sub-expressions: \n",
       "9. y\n",
       "   core type: Variable\n",
       "   sub-expressions: "
      ]
     },
     "execution_count": 4,
     "metadata": {},
     "output_type": "execute_result"
    }
   ],
   "source": [
    "# display the expression information\n",
    "expr.exprInfo()"
   ]
  },
  {
   "cell_type": "code",
   "execution_count": null,
   "metadata": {},
   "outputs": [],
   "source": []
  }
 ],
 "metadata": {
  "kernelspec": {
   "display_name": "Python 3",
   "language": "python",
   "name": "python3"
  }
 },
 "nbformat": 4,
 "nbformat_minor": 0
}
