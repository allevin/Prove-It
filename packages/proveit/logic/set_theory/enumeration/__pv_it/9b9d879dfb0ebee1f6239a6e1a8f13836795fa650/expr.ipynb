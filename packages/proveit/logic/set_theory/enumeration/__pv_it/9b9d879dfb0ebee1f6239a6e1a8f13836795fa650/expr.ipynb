{
 "cells": [
  {
   "cell_type": "markdown",
   "metadata": {},
   "source": [
    "Expression of type <a class=\"ProveItLink\" href=\"../../../../../../../doc/html/api/proveit.logic.Forall.html\">Forall</a>\n",
    "=======================\n",
    "# from context <a class=\"ProveItLink\" href=\"../../_context_.ipynb\">proveit.logic.set_theory.enumeration</a>"
   ]
  },
  {
   "cell_type": "code",
   "execution_count": 1,
   "metadata": {},
   "outputs": [],
   "source": [
    "# import Expression classes needed to build the expression\n",
    "from proveit._common_ import x, y\n",
    "from proveit.logic import Booleans, Equals, Forall, InSet"
   ]
  },
  {
   "cell_type": "code",
   "execution_count": 2,
   "metadata": {},
   "outputs": [
    {
     "data": {
      "text/html": [
       "<strong id=\"expr\">expr:</strong> <a class=\"ProveItLink\" href=\"expr.ipynb\"><img src=\"data:image/png;base64,iVBORw0KGgoAAAANSUhEUgAAAJgAAAAWBAMAAADOVki6AAAAMFBMVEX///8QEBC6urrMzMxUVFRm\n",
       "ZmZERETc3NwyMjKqqqp2dnaIiIiYmJgiIiLu7u4AAAAU9Wx4AAAAAXRSTlMAQObYZgAAAjRJREFU\n",
       "OMtjYKAmeIAhwrQBgnEAHgXc4hdAjNPIoiZQjAsEo/FXfOtvvDYBLL4SxO9DluxDF0ADHOgCCdp8\n",
       "favA4mVAHnsCkhT3BgjG7c8FGIYxbOIAi3MAA411ApIU4wMIxgn4BCD06967N2CGzWF5ABLnWV5e\n",
       "XousVgOKcYNMMMnc8wDJZWUQ8W9pabeQlUZBcdWWyq1ovn0VxcD+j4FhKZhT9gDhTeY7eQxgcWcG\n",
       "hnRkHT0QzLeA5w4jKKojOkCgBSS1QJ+B+wMDwwywOoSmBN37H0HWAsVVGPgakA0TgmAuoD5OAxSH\n",
       "MU+IZWADxpUiOOQSkCNg9zQGsDgvA/cBZC2fIJiPgSUBPeQZpBn4gU6wBydt2bt3ERHAxrQALM59\n",
       "gPcBFsOAUYqRPjj/MdgbQA1jdkB2GRtDAlicrwGY3Jm2wZODJBQz1BuA81rsXRC4BhJhbWDYyADz\n",
       "5gUMw0Di6U7ANMNfYAiVyoFgnoL9DNxoyY0jgCEFSJ0Ac3xQDAN5EyQ+FWhHnS7DNqjUUgiefyCR\n",
       "oRrNm6wOTH8YYEnjrQKSYUe3QcXBYePF4A2V0oXgZ7terT6AHgPZW78DqSYwh73VAJ7Rc0UmQMV5\n",
       "HoATgzAsOxVAMFbAdQGRnTg9oLGJls0YGISZPiDlY4y8DAG+DA+BLuDCUQogxKdsayBcBN1iyAKS\n",
       "L3C4Gi7OXsACN7cEijHB7K2gQHfHYRhcnG0BoqBg3wDBOAC3ASFxzt0LqFCfAACI7prhgo4QXQAA\n",
       "AABJRU5ErkJggg==\n",
       "\" style=\"display:inline;vertical-align:middle;\" /></a><br>"
      ],
      "text/plain": [
       "expr: forall_{y} ((x = y) in BOOLEANS)"
      ]
     },
     "execution_count": 2,
     "metadata": {},
     "output_type": "execute_result"
    }
   ],
   "source": [
    "# build up the expression from sub-expressions\n",
    "expr = Forall([y], InSet(Equals(x, y), Booleans), conditions = [])"
   ]
  },
  {
   "cell_type": "code",
   "execution_count": 3,
   "metadata": {},
   "outputs": [
    {
     "name": "stdout",
     "output_type": "stream",
     "text": [
      "Passed sanity check: built 'expr' is the same as the stored Expression.\n"
     ]
    }
   ],
   "source": [
    "# check that the built expression is the same as the stored expression\n",
    "%check_expr"
   ]
  },
  {
   "cell_type": "code",
   "execution_count": 4,
   "metadata": {},
   "outputs": [
    {
     "data": {
      "text/html": [
       "<table><tr><th>&nbsp;</th><th>core type</th><th>sub-expressions</th><th>expression</th></tr>\n",
       "<tr><td>0</td><td>Operation</td><td>operator:&nbsp;1<br>operand:&nbsp;2<br></td><td><a class=\"ProveItLink\" href=\"expr.ipynb\"><img src=\"data:image/png;base64,iVBORw0KGgoAAAANSUhEUgAAAJgAAAAWBAMAAADOVki6AAAAMFBMVEX///8QEBC6urrMzMxUVFRm\n",
       "ZmZERETc3NwyMjKqqqp2dnaIiIiYmJgiIiLu7u4AAAAU9Wx4AAAAAXRSTlMAQObYZgAAAjRJREFU\n",
       "OMtjYKAmeIAhwrQBgnEAHgXc4hdAjNPIoiZQjAsEo/FXfOtvvDYBLL4SxO9DluxDF0ADHOgCCdp8\n",
       "favA4mVAHnsCkhT3BgjG7c8FGIYxbOIAi3MAA411ApIU4wMIxgn4BCD06967N2CGzWF5ABLnWV5e\n",
       "XousVgOKcYNMMMnc8wDJZWUQ8W9pabeQlUZBcdWWyq1ovn0VxcD+j4FhKZhT9gDhTeY7eQxgcWcG\n",
       "hnRkHT0QzLeA5w4jKKojOkCgBSS1QJ+B+wMDwwywOoSmBN37H0HWAsVVGPgakA0TgmAuoD5OAxSH\n",
       "MU+IZWADxpUiOOQSkCNg9zQGsDgvA/cBZC2fIJiPgSUBPeQZpBn4gU6wBydt2bt3ERHAxrQALM59\n",
       "gPcBFsOAUYqRPjj/MdgbQA1jdkB2GRtDAlicrwGY3Jm2wZODJBQz1BuA81rsXRC4BhJhbWDYyADz\n",
       "5gUMw0Di6U7ANMNfYAiVyoFgnoL9DNxoyY0jgCEFSJ0Ac3xQDAN5EyQ+FWhHnS7DNqjUUgiefyCR\n",
       "oRrNm6wOTH8YYEnjrQKSYUe3QcXBYePF4A2V0oXgZ7terT6AHgPZW78DqSYwh73VAJ7Rc0UmQMV5\n",
       "HoATgzAsOxVAMFbAdQGRnTg9oLGJls0YGISZPiDlY4y8DAG+DA+BLuDCUQogxKdsayBcBN1iyAKS\n",
       "L3C4Gi7OXsACN7cEijHB7K2gQHfHYRhcnG0BoqBg3wDBOAC3ASFxzt0LqFCfAACI7prhgo4QXQAA\n",
       "AABJRU5ErkJggg==\n",
       "\" style=\"display:inline;vertical-align:middle;\" /></a></td></tr>\n",
       "<tr><td>1</td><td>Literal</td><td></td><td><a class=\"ProveItLink\" href=\"../../../../boolean/quantification/universal/__pv_it/265f8c02ac1094d56e0e6410a1c1fd3500dc9f540/expr.ipynb\"><img src=\"data:image/png;base64,iVBORw0KGgoAAAANSUhEUgAAAAwAAAAQBAMAAADQT4M0AAAAMFBMVEX///8QEBC6urrMzMxUVFRm\n",
       "ZmZERETc3NwyMjKqqqp2dnaIiIiYmJgiIiLu7u4AAAAU9Wx4AAAAAXRSTlMAQObYZgAAAFhJREFU\n",
       "CNdjeMAABhdAxGmGlSCqj6EMSLInMHAAJVknMPAsLy+vBYp8S0u7BaScGRjSgZQKA18DkOJl4D4A\n",
       "pLgP8IJM4mswARuX7gSmpoKNZWDcAKZ4gCoAgTQTILaSE58AAAAASUVORK5CYII=\n",
       "\" style=\"display:inline;vertical-align:middle;\" /></a></td></tr>\n",
       "<tr><td>2</td><td>Lambda</td><td>parameter:&nbsp;11<br>body:&nbsp;3<br></td><td><a class=\"ProveItLink\" href=\"../da923097dd92a1fd0abd708919c91519e6b0eb7a0/expr.ipynb\"><img src=\"data:image/png;base64,iVBORw0KGgoAAAANSUhEUgAAAKMAAAAVCAMAAAAdIa7aAAAANlBMVEX///8UFBQNDQ2YmJhUVFQy\n",
       "MjIQEBBEREQiIiKqqqrMzMyIiIi6urrc3NxmZmZ2dnbu7u4AAACrLjZHAAAAAXRSTlMAQObYZgAA\n",
       "AfpJREFUSMfdVtdyxCAMJKGIYtr//2zADcnBZ/BMXqKXvRsWVlZBMPYPbXEUJ40vf0nfzAqK0xbs\n",
       "x+UoM8gslQYzQu+aTBRfnPCwDjVFSaYYh+i/zTmKb7IdB3xkbtm9e6L/NpUovrCk6F8ndTF58dFw\n",
       "JlKHPtAwkuIr2yttr2vJUz+OHho9xVDD6XPqFozBJ4ZI0UcnvHHhIfNUIoa24iF1c201P1YqPbIl\n",
       "1wrLB0nTPQKdIjnBVJS55kydW4JEdrY+lTAoCOB79ah1zur47kK3hoUqAXDjYxLtHLUQjLuw+XxB\n",
       "XCSWVmEJbnvGmX2t0EuUVpfzma/vL01M5fMiPX7tWCMs4LlLqITNrb7VIXLtmQqx0U0tE5vtTRyZ\n",
       "aHf9xcc1pCO3EJFAPvYmwekjg0YP9RtcS8DFx4BKRhmKtQ/sHtCNjBPQIkwkcK71s48rXdY+A3Hj\n",
       "o8VxAk6Q+60P3NNtSSQ46hnB733cc73SQ9m75EZ212JC0zRgNGUTlK/0j+kmEvjuSXrp+8iDA0RP\n",
       "4FzIfugO1xjLxljGquPPXYMlJHbLS/pq2N4UoJU4yumkRz04Cz3FCTskrsPNCEn6ujc6ha4/zNyD\n",
       "YG7SE4k49xxZ6brIwbDkq7cZlkhzo36jm1Iq469dLygOGZYQc1Ui5ouqNbF/94J0dp7+A9fQFhLi\n",
       "d3TEAAAAAElFTkSuQmCC\n",
       "\" style=\"display:inline;vertical-align:middle;\" /></a></td></tr>\n",
       "<tr><td>3</td><td>Operation</td><td>operator:&nbsp;4<br>operands:&nbsp;5<br></td><td><a class=\"ProveItLink\" href=\"../ee500ec7d0ef75ac561b0d9e764cd18d4efcb3940/expr.ipynb\"><img src=\"data:image/png;base64,iVBORw0KGgoAAAANSUhEUgAAAGcAAAAVBAMAAACphe0AAAAAMFBMVEX////c3NwiIiJERESqqqqY\n",
       "mJh2dnZmZmYQEBDu7u4yMjJUVFTMzMyIiIi6uroAAAAs73DqAAAAAXRSTlMAQObYZgAAAY1JREFU\n",
       "OMtjYCAL8F3AKcX6AJfMaTwG1qDxsz6vX6HsAGSsxKOJC13A4C3nyjQGBt4LeDSxJmBoYrgHNIlj\n",
       "Ah5NnA0Qeu4iJS2YJlfuCQyv8IaSCZjkWToBySZhBoYyIFPstsh1NFdOK2Ng/MnAkA7mCE9AOI9H\n",
       "1ZKBYSnQEQmsqhwKQCH2VWCwAchMeM/A+4GBwQus1BDhp0f6P4DG9zEwsAHlWQ6gWMTjUMTAbMDA\n",
       "8ALsMwPkgLjrzMDwDyjIwG2AHgIMvQz8QCPPg6O/SUkJERDMfAkgTcAgxAh3lp8M5w9ANfFsQLaJ\n",
       "mcGAoQXElj/AAPIruxIYgKxlX8BwgwHmPAV0TabAKBS4z8CLFl1cBQzWQCoKzNmKognoPGCg+gdY\n",
       "MMiiOY99A99XBliQT3qApCn8MgPDIwaGydem5Qagh4Tt9Y9Aah2Yw7j8ADzBGnUDEyyHAI7EwKaA\n",
       "SEYsu6ChhytNQsAmhhlAE9lwpWbsWUONwQxIzsKVJqWxivpeB3l+Iy5NjLgzFO8B7OIAf2dlqY6u\n",
       "74UAAAAASUVORK5CYII=\n",
       "\" style=\"display:inline;vertical-align:middle;\" /></a></td></tr>\n",
       "<tr><td>4</td><td>Literal</td><td></td><td><a class=\"ProveItLink\" href=\"../../../membership/__pv_it/088cbc857536a28d4119ad9639a84270ccb0545d0/expr.ipynb\"><img src=\"data:image/png;base64,iVBORw0KGgoAAAANSUhEUgAAAAwAAAAMBAMAAACkW0HUAAAALVBMVEX///+qqqpmZmZUVFQQEBC6\n",
       "urpERETc3NyYmJjMzMwiIiIyMjKIiIju7u4AAACYsrA9AAAAAXRSTlMAQObYZgAAADxJREFUCNdj\n",
       "YOA9vWrVBgaG2b0MQMCeCyIZ2ArA1DUwyRCyahVIyWQI7xaEYm4AU7xLIdxqTQgtvGvVBgCkcQ7e\n",
       "geM/tQAAAABJRU5ErkJggg==\n",
       "\" style=\"display:inline;vertical-align:middle;\" /></a></td></tr>\n",
       "<tr><td>5</td><td>ExprTuple</td><td>6, 7</td><td><a class=\"ProveItLink\" href=\"../a7edf7233c285dcbcfd0727e7ed50613b50aa8740/expr.ipynb\"><img src=\"data:image/png;base64,iVBORw0KGgoAAAANSUhEUgAAAFYAAAAVBAMAAAAutAQGAAAAMFBMVEX////c3NwiIiJERESqqqqY\n",
       "mJh2dnZmZmYQEBDu7u4yMjJUVFTMzMyIiIi6uroAAAAs73DqAAAAAXRSTlMAQObYZgAAAWVJREFU\n",
       "KM9jYCAF8F0gShnrAyBxmoCirM/rVyg7MDDUANkrCZlo8JZzZRoDAxcDA+8FwmoZ7gEVsiYwcEwg\n",
       "Qq0r9wQGzgaGVwzEmCsMpE0YyoCk2G2R62hOmVbGwPgTppZH1RJIpzMsZWDgTGBV5VAA8thXgcEG\n",
       "IDPhPQPvB6jaR/o/QCZ5MfQxMLABhVkOoBjL41DEwGwAd8NdZyD9guEf0FwGbgM0N3Iy9DLwX4Cr\n",
       "ZeZLYGA4D1LLwMCBEXAsPxnOH0CoZTAAqW0BceUPMICCjl0JDECWsC9guMGAqvYFgykwlAXuM/Ci\n",
       "BTNXAYM1A9gAuBuigCHB4B9gwSCL5gb2DXxfGTg/QdWGXwaH2SMGhsnXpuUGoHvO9vpHBs5+AXDa\n",
       "MeoGph2GdQwcAjiiiw0Y4nxIksA4BiYJbGATwwygWazIei/gSpNqDGYMqGpnAbE0VrW+10H5ADnY\n",
       "NwIxI3F5iPcAAwBHCF5dMUgEsQAAAABJRU5ErkJggg==\n",
       "\" style=\"display:inline;vertical-align:middle;\" /></a></td></tr>\n",
       "<tr><td>6</td><td>Operation</td><td>operator:&nbsp;8<br>operands:&nbsp;9<br></td><td><a class=\"ProveItLink\" href=\"../11c10f4bba158f3c28c22f8b0eddbb73cf6480560/expr.ipynb\"><img src=\"data:image/png;base64,iVBORw0KGgoAAAANSUhEUgAAADMAAAANBAMAAAD2/0vEAAAAMFBMVEX///+6uroyMjJERETMzMwQ\n",
       "EBAiIiKYmJju7u5mZmaqqqpUVFSIiIh2dnbc3NwAAAAWgogoAAAAAXRSTlMAQObYZgAAAKRJREFU\n",
       "GNNjYHh7+tXJAwwogOPmBYb3DQwcF9jTWROAfE4lMNgAZPIyfmA4D6QYeD5wOaDq8uJMYDAGambg\n",
       "NmBAAw2sBxj+gBisB9ClGNY3sHwB0e8dGBpAdqWBAdiISQw8AQwM7A/OM/A0oOnSZGAGOmd9gSnD\n",
       "G3QDZzPIFzAwNJ/tvVOALtV8Zv4DBlzgGg5x7gSOKBxSbBeYL+CQ4jozEUgCABYeKl4jfnQmAAAA\n",
       "AElFTkSuQmCC\n",
       "\" style=\"display:inline;vertical-align:middle;\" /></a></td></tr>\n",
       "<tr><td>7</td><td>Literal</td><td></td><td><a class=\"ProveItLink\" href=\"../../../../boolean/__pv_it/46271c8230be96415d662709611f4ed2279d702b0/expr.ipynb\"><img src=\"data:image/png;base64,iVBORw0KGgoAAAANSUhEUgAAAA0AAAAOBAMAAAAGUYvhAAAAMFBMVEX///9mZmbMzMzc3NxUVFSY\n",
       "mJju7u6IiIi6urqqqqoiIiIQEBBEREQyMjJ2dnYAAAAQvcRZAAAAAXRSTlMAQObYZgAAAElJREFU\n",
       "CNdjePvn/u01ExgYGA60s117B6YZKngh9FSWBAjfBsxnWnoMRHet/10AkS+fA6F5OB5AaIYDqDRU\n",
       "PLCGgQFoz6ktExgAgLIl8DFvGtkAAAAASUVORK5CYII=\n",
       "\" style=\"display:inline;vertical-align:middle;\" /></a></td></tr>\n",
       "<tr><td>8</td><td>Literal</td><td></td><td><a class=\"ProveItLink\" href=\"../../../../equality/__pv_it/2fb26078095930560931daa0500ce419a39ea6cd0/expr.ipynb\"><img src=\"data:image/png;base64,iVBORw0KGgoAAAANSUhEUgAAAA4AAAAFBAMAAACHocAhAAAAFVBMVEX///9EREQiIiJUVFQyMjJm\n",
       "ZmYAAADubVkoAAAAAXRSTlMAQObYZgAAABRJREFUCNdjCHEBAWcGXCBICQQUAUpuAwlgGKrkAAAA\n",
       "AElFTkSuQmCC\n",
       "\" style=\"display:inline;vertical-align:middle;\" /></a></td></tr>\n",
       "<tr><td>9</td><td>ExprTuple</td><td>10, 11</td><td><a class=\"ProveItLink\" href=\"../a6a2ac9310c73e21661c7634808321702fb219240/expr.ipynb\"><img src=\"data:image/png;base64,iVBORw0KGgoAAAANSUhEUgAAACwAAAAVBAMAAADP3xFXAAAAMFBMVEX////c3NwiIiJERESqqqqY\n",
       "mJh2dnZmZmYQEBDu7u4yMjJUVFTMzMyIiIi6uroAAAAs73DqAAAAAXRSTlMAQObYZgAAAQtJREFU\n",
       "GNNjYMAB+C6gi7A+ABKnMVXWAPFKTGEuBgbeC5jCrAkMHBMwhTkbGF5hc4YJQxmQFLstch1i1rQy\n",
       "BsafDAzpDEuBehJYVTkUwMIJ7xl4PzAweDH0MTCwAZksB0CiPA5FDMwGDAwvGP4BVTNwG0DtYuhl\n",
       "4Acadx4kzMDAAXMly0+G8wdAwi0gnvwBBog72Rcw3GAAGWIKdL3AfQbeCWAJrgIGayAVBXQLg3+A\n",
       "BYMsA+cnkOoNfF8ZQA58xMAw+dq03AAGzn4BoJ221z8ChdcxcAjAQxjMYlMAex4YLLAAAuJNDDMc\n",
       "gFIXkAIWJKzGYAYkZwGxNEwY5Hbf66CY2QjEjBgBznuAAQAt5DtyKXSr1gAAAABJRU5ErkJggg==\n",
       "\" style=\"display:inline;vertical-align:middle;\" /></a></td></tr>\n",
       "<tr><td>10</td><td>Variable</td><td></td><td><a class=\"ProveItLink\" href=\"../../../../../__pv_it/530be409e3083890784cf1d7b28c9e67e90af9360/expr.ipynb\"><img src=\"data:image/png;base64,iVBORw0KGgoAAAANSUhEUgAAAAsAAAAJBAMAAAAWSsseAAAAKlBMVEX///9ERETMzMwQEBAiIiKY\n",
       "mJju7u5mZmaqqqpUVFSIiIh2dnbc3NwAAAA/vyDhAAAAAXRSTlMAQObYZgAAAENJREFUCNdjYDi9\n",
       "8sTyBQxsG1hdmR0YuBm4LnAoMLAxcAowgADzAjB1VoEhgYH1wFoGrgSG3gBhhlMMDImrs3cFMAAA\n",
       "t0YN+iTRa+sAAAAASUVORK5CYII=\n",
       "\" style=\"display:inline;vertical-align:middle;\" /></a></td></tr>\n",
       "<tr><td>11</td><td>Variable</td><td></td><td><a class=\"ProveItLink\" href=\"../../../../../__pv_it/f8b9edf8e16034727f0aad55bb83e392c3db40d40/expr.ipynb\"><img src=\"data:image/png;base64,iVBORw0KGgoAAAANSUhEUgAAAAsAAAANBAMAAACN24kIAAAAMFBMVEX///+YmJhUVFQyMjIQEBBE\n",
       "REQiIiKqqqrMzMyIiIi6urrc3NxmZmZ2dnbu7u4AAADXeCicAAAAAXRSTlMAQObYZgAAAFhJREFU\n",
       "CNdj4LtzgWH/AwZerg8M8xkY2nkSGEIZGB6wTGD4ycDAUP+A4weQOszA6QCkbBhYFYDUIYb1AkDq\n",
       "6czzGxhA4BoQMyXwuQMptgusF4AU+8xTQBIAUqMVoSp/SLMAAAAASUVORK5CYII=\n",
       "\" style=\"display:inline;vertical-align:middle;\" /></a></td></tr>\n",
       "</table>\n"
      ],
      "text/plain": [
       "0. forall_{y} ((x = y) in BOOLEANS)\n",
       "   core type: Operation\n",
       "   operator: 1\n",
       "   operand: 2\n",
       "1. forall\n",
       "   core type: Literal\n",
       "   sub-expressions: \n",
       "2. y -> ((x = y) in BOOLEANS)\n",
       "   core type: Lambda\n",
       "   parameter: 11\n",
       "   body: 3\n",
       "3. (x = y) in BOOLEANS\n",
       "   core type: Operation\n",
       "   operator: 4\n",
       "   operands: 5\n",
       "4. in\n",
       "   core type: Literal\n",
       "   sub-expressions: \n",
       "5. (x = y , BOOLEANS)\n",
       "   core type: ExprTuple\n",
       "   sub-expressions: 6, 7\n",
       "6. x = y\n",
       "   core type: Operation\n",
       "   operator: 8\n",
       "   operands: 9\n",
       "7. BOOLEANS\n",
       "   core type: Literal\n",
       "   sub-expressions: \n",
       "8. =\n",
       "   core type: Literal\n",
       "   sub-expressions: \n",
       "9. (x , y)\n",
       "   core type: ExprTuple\n",
       "   sub-expressions: 10, 11\n",
       "10. x\n",
       "    core type: Variable\n",
       "    sub-expressions: \n",
       "11. y\n",
       "    core type: Variable\n",
       "    sub-expressions: "
      ]
     },
     "execution_count": 4,
     "metadata": {},
     "output_type": "execute_result"
    }
   ],
   "source": [
    "# display the expression information\n",
    "expr.exprInfo()"
   ]
  },
  {
   "cell_type": "code",
   "execution_count": null,
   "metadata": {},
   "outputs": [],
   "source": []
  }
 ],
 "metadata": {
  "kernelspec": {
   "display_name": "Python 3",
   "language": "python",
   "name": "python3"
  }
 },
 "nbformat": 4,
 "nbformat_minor": 0
}
