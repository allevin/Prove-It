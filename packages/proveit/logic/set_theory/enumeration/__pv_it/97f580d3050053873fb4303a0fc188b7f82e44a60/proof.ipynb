{
 "cells": [
  {
   "cell_type": "markdown",
   "metadata": {},
   "source": [
    "Show the Proof\n",
    "========"
   ]
  },
  {
   "cell_type": "code",
   "execution_count": 1,
   "metadata": {},
   "outputs": [
    {
     "data": {
      "text/html": [
       "<table><tr><th>&nbsp;</th><th>step type</th><th>requirements</th><th>statement</th></tr>\n",
       "<tr><td>0</td><td>specialization</td><td>1</td><td><span style=\"font-size:20px;\"> <a class=\"ProveItLink\" href=\"proof.ipynb\" style=\"text-decoration: none\">&#x22A2;&nbsp;</a><a class=\"ProveItLink\" href=\"../823b3043bd0aca8197a9a14046b9cfa4e56b65f00/expr.ipynb\"><img src=\"data:image/png;base64,iVBORw0KGgoAAAANSUhEUgAAAM8AAAAVCAMAAADW+kokAAAAS1BMVEX///8LCwsYGBgoKChbW1sN\n",
       "DQ0JCQkdHR0PDw8WFhbc3NwiIiJERESqqqqYmJh2dnZmZmYQEBDu7u4yMjJUVFTMzMyIiIi6uroA\n",
       "AAAjZH1RAAAAAXRSTlMAQObYZgAAArxJREFUWMPFWEeC3SAMJT2hd3z/kwabZgMCT2YRFiOPkdBT\n",
       "tfgIbVfQj3+55Gt+JwRG/3MFv9wmd3s0EZAcD9Uixbo3nwKAOv8Aegt1du3ux7Y/gI24pKtPpn/z\n",
       "XsO4sFmzFy2ZGr08TT6cLFR9HOXMwGXe2LMBgGzYsJs79ZtgEzS3ZyLHRc/Fxd6cHYAuPAu9F1Ww\n",
       "d7Q35M9vYqb2TOS06rm02tujPhaehd6TBjglnOEaUTyPz1SOst7q8mbRDDY56eievWiJVOZYYeEt\n",
       "Zl62aGIaPaE78Yo0y2lxPeDj8pqQvT3lzaI+QQAZo5uxA3olMjzvx/QjHKlWLldk+myVtfaSnEDh\n",
       "aG2P5V1euyAzN9Hbaj0KApDZv/2Yss/1RqpC3k+brHpD00kzcaokc3pwMcAnAJqSItS+VsIStgUE\n",
       "ApiGZ6030iMdd8K2j0wNihDy62f8Y1rnV/X0JBfF1BnBI4XR1bjQ7Mf2BloggITCTtkBvZEerXso\n",
       "P3y2RFfOoRpU5NiZwe5wT/R1inhtzwggBRoD7FO9kaqKGF+buk02w8fndGEJVpG7CsqrZ3a1+rnl\n",
       "myS31SIBAbjYv36B2Kd6I6UpLzhOteVbvViOwtCdRLEwy6VKoTkruOn7G99OCDCAWXjWeiNNrY4d\n",
       "HNEIAvv76BnsMH9VpKVFynhkOPjz5Uf6NQxgUj07vRIFkpqZF1oIz5+Dxg/YnkBKG/ReHtmNJvT2\n",
       "mO2IvQAwCc9a70kVfFnh362597fnvIOHJPzHeQcEwOSavdd70cXISEdNt8q45Cw5jyljjh+y0u/t\n",
       "gQEQDbJP9SYKjuuYTk7r7gtnY6YZUJuNyhShP3VfYBJmn+nNFEPXKT+5WGtSPX7JsZjFpUQs7qcI\n",
       "++riDQEgGmaf6S0UA0lBgfQoH4xOzrv+9wP/6noKAgjv2IuWi/4FZdM2ymJxp5IAAAAASUVORK5C\n",
       "YII=\n",
       "\" style=\"display:inline;vertical-align:middle;\" /></a></span></td></tr>\n",
       "<tr><td>&nbsp;</td><td colspan=4 style=\"text-align:left\"><span style=\"font-size:20px;\"><a class=\"ProveItLink\" href=\"../../../../../__pv_it/530be409e3083890784cf1d7b28c9e67e90af9360/expr.ipynb\"><img src=\"data:image/png;base64,iVBORw0KGgoAAAANSUhEUgAAAAsAAAAJBAMAAAAWSsseAAAAKlBMVEX///9ERETMzMwQEBAiIiKY\n",
       "mJju7u5mZmaqqqpUVFSIiIh2dnbc3NwAAAA/vyDhAAAAAXRSTlMAQObYZgAAAENJREFUCNdjYDi9\n",
       "8sTyBQxsG1hdmR0YuBm4LnAoMLAxcAowgADzAjB1VoEhgYH1wFoGrgSG3gBhhlMMDImrs3cFMAAA\n",
       "t0YN+iTRa+sAAAAASUVORK5CYII=\n",
       "\" style=\"display:inline;vertical-align:middle;\" /></a> : <a class=\"ProveItLink\" href=\"../../../../../__pv_it/530be409e3083890784cf1d7b28c9e67e90af9360/expr.ipynb\"><img src=\"data:image/png;base64,iVBORw0KGgoAAAANSUhEUgAAAAsAAAAJBAMAAAAWSsseAAAAKlBMVEX///9ERETMzMwQEBAiIiKY\n",
       "mJju7u5mZmaqqqpUVFSIiIh2dnbc3NwAAAA/vyDhAAAAAXRSTlMAQObYZgAAAENJREFUCNdjYDi9\n",
       "8sTyBQxsG1hdmR0YuBm4LnAoMLAxcAowgADzAjB1VoEhgYH1wFoGrgSG3gBhhlMMDImrs3cFMAAA\n",
       "t0YN+iTRa+sAAAAASUVORK5CYII=\n",
       "\" style=\"display:inline;vertical-align:middle;\" /></a>, <a class=\"ProveItLink\" href=\"../../../../../__pv_it/f8b9edf8e16034727f0aad55bb83e392c3db40d40/expr.ipynb\"><img src=\"data:image/png;base64,iVBORw0KGgoAAAANSUhEUgAAAAsAAAANBAMAAACN24kIAAAAMFBMVEX///+YmJhUVFQyMjIQEBBE\n",
       "REQiIiKqqqrMzMyIiIi6urrc3NxmZmZ2dnbu7u4AAADXeCicAAAAAXRSTlMAQObYZgAAAFhJREFU\n",
       "CNdj4LtzgWH/AwZerg8M8xkY2nkSGEIZGB6wTGD4ycDAUP+A4weQOszA6QCkbBhYFYDUIYb1AkDq\n",
       "6czzGxhA4BoQMyXwuQMptgusF4AU+8xTQBIAUqMVoSp/SLMAAAAASUVORK5CYII=\n",
       "\" style=\"display:inline;vertical-align:middle;\" /></a> : <a class=\"ProveItLink\" href=\"../e4c9c31c4dd925da36852c7d3895fcaa012158bd0/expr.ipynb\"><img src=\"data:image/png;base64,iVBORw0KGgoAAAANSUhEUgAAABcAAAAVBAMAAABfzGiYAAAAMFBMVEX////c3NwiIiJERESqqqqY\n",
       "mJh2dnZmZmYQEBDu7u4yMjJUVFTMzMyIiIi6uroAAAAs73DqAAAAAXRSTlMAQObYZgAAAMFJREFU\n",
       "GNNVj7EOwXAQxn9UKUq6G3gHsXsDJqM0lk4Sk4GEDmZpYjF2EbF5BIPN0gfQEKNFHwBx/2olbrjL\n",
       "7/Llu/vgr6rBd/ZVOyXLwkHaLpX4UAlS6IHhpbCG+89JazOGomNT98iP2EC+GnGBnM8SjoUGTTno\n",
       "8gbPCHiBGSmg45nPGBYCEypuLGsJbNH2oPs4AlMeXZT1TWAVzi0oXTEsdX3wfUe3KTeKymYYR8ja\n",
       "mi1PSQRq5MKZzLLSZ5JAZ/gAdAsqXS4lbPIAAAAASUVORK5CYII=\n",
       "\" style=\"display:inline;vertical-align:middle;\" /></a></span></td></tr><tr><td>1</td><td>theorem</td><td></td><td><span style=\"font-size:20px;\"> <a class=\"ProveItLink\" href=\"../../_proofs_/notInSingletonEquiv.ipynb\" style=\"text-decoration: none\">&#x22A2;&nbsp;</a><a class=\"ProveItLink\" href=\"../421ab0f0ce466bdb825cb7c6fe06cf2c4b8723ce0/expr.ipynb\"><img src=\"data:image/png;base64,iVBORw0KGgoAAAANSUhEUgAAAO8AAAAWCAMAAAAfMztaAAAAS1BMVEX///8LCwsYGBgoKChbW1sN\n",
       "DQ0JCQkdHR0PDw8WFhYQEBC6urrMzMxUVFRmZmZERETc3NwyMjKqqqp2dnaIiIiYmJgiIiLu7u4A\n",
       "AAAbfmHDAAAAAXRSTlMAQObYZgAAAzRJREFUWMPVWImO3CAMpXcbwn3l/7+0QHCCOWbIVq1UpN2n\n",
       "yXj94tssIX/t0IA+Ou7w97sxkvzzEz5giMU4Ob5WHbzpJfZNn66gz4inZ+hA0H6iv5/bNdadYXwj\n",
       "dh57jGS4Krg/IZ4eqYaPQXtGo+GxWgw1yL2R5yhoZhvGA56qJ8TTwyZ5oiqUApwj1sy1FuM0nckD\n",
       "e51ZJ34a3lt7RvAa12v2bgHjqCdY5X/99Grd3rCtEz8O76U9ozMyH7/YMxTGUZ0pF4iQT+JLhF4l\n",
       "ntPOExS0ZzxEOt6s2csNRmksk9ryO9mkiIEIamxZMPkP5RGwvYavEveEYFTd9BoeXrGwLCcWZ6Fy\n",
       "CEPU6rwj250eWVNbbNCJDaHH3a7d1bW1qkSrw1rinrDIf/lWy2Me0J6RJpmgyGL5UoSmKNWXc4MY\n",
       "9NK9iO+a8PSiouSegrDSbZG4JxyFt+EB7SemL6xbtPegCJNZDBUO3bz3P77HX+oenNt+bTdbivwB\n",
       "4RclbPuxSNwTFlrWbFE1D2g/Mdnqw8fszZ633VZgmvZDwWCiU0XtR/l4dY1le3vCkilNPSIebG/M\n",
       "ZVhdYi+glu2wvol+DJQV8MLUE/Z6Lw2+G74pJKouZFvy667fKp+5r47oiDvCLP/5UyOPeHA+xw5T\n",
       "RpcJKVeK5mDJIWPlNWXiEDp59gR7e4U5Qrtua8ADuWIFa+eRe9s/5oSj8GIe0F5Q8/I29O6/0Y2B\n",
       "xse2qRXU2mPWOCLiS0tbXw0o26eTlsdXoIdr7X0/j+aEXfX2PBxjVRBH5SgWq4s1tUJ9jUFYE4zB\n",
       "3U6qb3N7419YDiS3vertFekF4SC8mAe0A7pwD474U4+ArX31TWIc7atfmar7c7tfXcn9bJ+cE+px\n",
       "dgAP2ifr1noQo/KIk9lh0VZ6vFy+J6Ump5sj84lWt/aahbvoC8J+uiAe0N6yxBzQPOZLsjwljGZW\n",
       "qOf3wdFNy233ABKm3brCn90HB+GtecIKS7RXyr58kzkMY39xG+wuwZ+KdKwq2m5dhC0ts1PCwfJQ\n",
       "84D2Vyy7zP4ZXkqgN8pJEopJOurZ/6/s0r835oSvex1of8niTh8tXpr+n/MbFN87hOM4RKoAAAAA\n",
       "SUVORK5CYII=\n",
       "\" style=\"display:inline;vertical-align:middle;\" /></a></span></td></tr>\n",
       "<tr><td>&nbsp;</td><td colspan=4 style-\"text-align:left\"><a class=\"ProveItLink\" href=\"../../_proofs_/notInSingletonEquiv.ipynb\">proveit.logic.set_theory.enumeration.notInSingletonEquiv</a></td></tr></table>"
      ],
      "text/plain": [
       "<proveit._core_.proof._ShowProof at 0x7f94ebc842e8>"
      ]
     },
     "execution_count": 1,
     "metadata": {},
     "output_type": "execute_result"
    }
   ],
   "source": [
    "import proveit\n",
    "%show_proof"
   ]
  },
  {
   "cell_type": "code",
   "execution_count": null,
   "metadata": {},
   "outputs": [],
   "source": []
  }
 ],
 "metadata": {
  "kernelspec": {
   "display_name": "Python 3",
   "language": "python",
   "name": "python3"
  }
 },
 "nbformat": 4,
 "nbformat_minor": 0
}
