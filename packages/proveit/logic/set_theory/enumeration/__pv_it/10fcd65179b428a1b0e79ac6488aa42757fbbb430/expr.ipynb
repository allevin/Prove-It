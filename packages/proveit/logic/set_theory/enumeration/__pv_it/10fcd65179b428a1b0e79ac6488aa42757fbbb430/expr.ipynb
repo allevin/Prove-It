{
 "cells": [
  {
   "cell_type": "markdown",
   "metadata": {},
   "source": [
    "Expression of type <a class=\"ProveItLink\" href=\"../../../../../../../doc/html/api/proveit.ExprTuple.html\">ExprTuple</a>\n",
    "=======================\n",
    "# from context <a class=\"ProveItLink\" href=\"../../_context_.ipynb\">proveit.logic.set_theory.enumeration</a>"
   ]
  },
  {
   "cell_type": "code",
   "execution_count": 1,
   "metadata": {},
   "outputs": [],
   "source": [
    "# import Expression classes needed to build the expression\n",
    "from proveit import ExprTuple\n",
    "from proveit._common_ import A, B, C, D\n",
    "from proveit.logic import Equals"
   ]
  },
  {
   "cell_type": "code",
   "execution_count": 2,
   "metadata": {},
   "outputs": [
    {
     "data": {
      "text/html": [
       "<strong id=\"expr\">expr:</strong> <a class=\"ProveItLink\" href=\"expr.ipynb\"><img src=\"data:image/png;base64,iVBORw0KGgoAAAANSUhEUgAAANIAAAAVBAMAAADBWq19AAAAMFBMVEX////c3NwiIiJERESqqqqY\n",
       "mJh2dnZmZmYQEBDu7u4yMjJUVFTMzMyIiIi6uroAAAAs73DqAAAAAXRSTlMAQObYZgAAAnJJREFU\n",
       "SMe9VU1oE0EU/lKzadLuxoAFQQ8pFcGbOSi0ekhugggGvXlpbr3GHxSkkB4s2B5s8FIR/EfECFXx\n",
       "ILiHBI/20Nw8iHT14s/Jaltpotb33rRbMrPd9WIGMtk38+17O9/33jygeyPd7EIQy6NpXj2/Nnfr\n",
       "bffF3JZtD5oebh29VNwdhni37roPGsA4PT9WS09NN8kcUPF8s++bgUhMAp8mwxBoAfFl2gIcRZ51\n",
       "sGqAFmhr4ZlvnlrTAan79FJiKQQBe5WmShVWCUkVYaCSMVCLtDRa2rRix5Z0QN8U6zwRgoDzR31y\n",
       "agJf1Upz0TNQw/Q74B/VkZc6RqXA/sshCOxgQrNEzCFcVAlYPVk0UG1gz4hvfYmvaPuxllDY2B4B\n",
       "7MxBSTCGh7JwW0QBLtd4PFEUt9+/3b+liWf/5v9eQdRYvt5OxwEIpbVIcBzXZMFDtmxQTKxf9xMi\n",
       "jdhPDdDTKUsAgrTmE9dJmc8Qam3XrecMiklqx//sedf9oTMjSZ0KQQB5nq7y4VSkNBXPXYNiOo+1\n",
       "umnRZ03r9SaRToQgAI5trUikK2xTDvVIsp4b4rFPUUw50r+88Uac81BUEMQQM9Av5VMOQUCU4xuA\n",
       "2DvMSVQIqm8upyydVPJ8IOAaETeJ6gZ/QQg4v2g6wh7OUPYBN1mVtYBysqfJz3cWg7nN69fIaAHp\n",
       "s8CdwW0RXE5v5NRj+AjsmrkHK9/Sku883Y01IjA1k0FsuJXB6fVH+qFevbxAfzcoB4MRs3m6pMfl\n",
       "cQ7JTGRbiUR8iG4bdBtZpcjeEummGB0p0fS7xn+OxKmwNwoU2ZOdf2i6zznFu9HdnQb+Ai4gvkL/\n",
       "sad8AAAAAElFTkSuQmCC\n",
       "\" style=\"display:inline;vertical-align:middle;\" /></a><br>"
      ],
      "text/plain": [
       "expr: (A = B , A = C , A = D)"
      ]
     },
     "execution_count": 2,
     "metadata": {},
     "output_type": "execute_result"
    }
   ],
   "source": [
    "# build up the expression from sub-expressions\n",
    "expr = ExprTuple(Equals(A, B), Equals(A, C), Equals(A, D))"
   ]
  },
  {
   "cell_type": "code",
   "execution_count": 3,
   "metadata": {},
   "outputs": [
    {
     "name": "stdout",
     "output_type": "stream",
     "text": [
      "Passed sanity check: built 'expr' is the same as the stored Expression.\n"
     ]
    }
   ],
   "source": [
    "# check that the built expression is the same as the stored expression\n",
    "%check_expr"
   ]
  },
  {
   "cell_type": "code",
   "execution_count": 4,
   "metadata": {},
   "outputs": [
    {
     "data": {
      "text/html": [
       "<table><tr><th>&nbsp;</th><th>core type</th><th>sub-expressions</th><th>expression</th></tr>\n",
       "<tr><td>0</td><td>ExprTuple</td><td>1, 2, 3</td><td><a class=\"ProveItLink\" href=\"expr.ipynb\"><img src=\"data:image/png;base64,iVBORw0KGgoAAAANSUhEUgAAANIAAAAVBAMAAADBWq19AAAAMFBMVEX////c3NwiIiJERESqqqqY\n",
       "mJh2dnZmZmYQEBDu7u4yMjJUVFTMzMyIiIi6uroAAAAs73DqAAAAAXRSTlMAQObYZgAAAnJJREFU\n",
       "SMe9VU1oE0EU/lKzadLuxoAFQQ8pFcGbOSi0ekhugggGvXlpbr3GHxSkkB4s2B5s8FIR/EfECFXx\n",
       "ILiHBI/20Nw8iHT14s/Jaltpotb33rRbMrPd9WIGMtk38+17O9/33jygeyPd7EIQy6NpXj2/Nnfr\n",
       "bffF3JZtD5oebh29VNwdhni37roPGsA4PT9WS09NN8kcUPF8s++bgUhMAp8mwxBoAfFl2gIcRZ51\n",
       "sGqAFmhr4ZlvnlrTAan79FJiKQQBe5WmShVWCUkVYaCSMVCLtDRa2rRix5Z0QN8U6zwRgoDzR31y\n",
       "agJf1Upz0TNQw/Q74B/VkZc6RqXA/sshCOxgQrNEzCFcVAlYPVk0UG1gz4hvfYmvaPuxllDY2B4B\n",
       "7MxBSTCGh7JwW0QBLtd4PFEUt9+/3b+liWf/5v9eQdRYvt5OxwEIpbVIcBzXZMFDtmxQTKxf9xMi\n",
       "jdhPDdDTKUsAgrTmE9dJmc8Qam3XrecMiklqx//sedf9oTMjSZ0KQQB5nq7y4VSkNBXPXYNiOo+1\n",
       "umnRZ03r9SaRToQgAI5trUikK2xTDvVIsp4b4rFPUUw50r+88Uac81BUEMQQM9Av5VMOQUCU4xuA\n",
       "2DvMSVQIqm8upyydVPJ8IOAaETeJ6gZ/QQg4v2g6wh7OUPYBN1mVtYBysqfJz3cWg7nN69fIaAHp\n",
       "s8CdwW0RXE5v5NRj+AjsmrkHK9/Sku883Y01IjA1k0FsuJXB6fVH+qFevbxAfzcoB4MRs3m6pMfl\n",
       "cQ7JTGRbiUR8iG4bdBtZpcjeEummGB0p0fS7xn+OxKmwNwoU2ZOdf2i6zznFu9HdnQb+Ai4gvkL/\n",
       "sad8AAAAAElFTkSuQmCC\n",
       "\" style=\"display:inline;vertical-align:middle;\" /></a></td></tr>\n",
       "<tr><td>1</td><td>Operation</td><td>operator:&nbsp;6<br>operands:&nbsp;4<br></td><td><a class=\"ProveItLink\" href=\"../e37aba740d9eb156e9678bb9d0a8e3cf433a13c30/expr.ipynb\"><img src=\"data:image/png;base64,iVBORw0KGgoAAAANSUhEUgAAADsAAAAOBAMAAABjvHmeAAAAMFBMVEX///92dnYQEBBERERUVFS6\n",
       "urqIiIhmZmaqqqrc3Nzu7u6YmJgyMjIiIiLMzMwAAACFkkdwAAAAAXRSTlMAQObYZgAAAMhJREFU\n",
       "GNNjYACBtwzogNv/i4vzUSjnPIY0A5MBA0N9AETp/QUY0u8TgNgBzJxRPwFDOh8otF8AzEzID8CQ\n",
       "NgLiS2BDWRf0b8CQ/sLAMMcKzFoKtoiBoeYMCBwBi/F9SUu/DVEYwDC/AF0z208GhrVgl/G5uPgb\n",
       "oEszKwCV/AZbDfTkAXRpfqBO7o8gVgMDA68CiFF7FwQuQ7wNdCzLDyCDEyjN8wGbt+eDzFwDsukX\n",
       "Fm/z6QC9PVn/JAO3/R80pxf/d3E5AzQfAA2VOu5n+dVqAAAAAElFTkSuQmCC\n",
       "\" style=\"display:inline;vertical-align:middle;\" /></a></td></tr>\n",
       "<tr><td>2</td><td>Operation</td><td>operator:&nbsp;6<br>operands:&nbsp;5<br></td><td><a class=\"ProveItLink\" href=\"../802a85a3deb29a14e84e95e4878249bc3e5fae130/expr.ipynb\"><img src=\"data:image/png;base64,iVBORw0KGgoAAAANSUhEUgAAADsAAAAOBAMAAABjvHmeAAAAMFBMVEX///92dnYQEBBERERUVFS6\n",
       "urqIiIhmZmaqqqrc3Nzu7u6YmJgyMjIiIiLMzMwAAACFkkdwAAAAAXRSTlMAQObYZgAAAMFJREFU\n",
       "GNNjYACBtwwYgCvZvZqzAMI+jykttIGBtWgDmMl9fwG67JpbQEJ+Apg9o34CuvQhkIYgCDshPwBN\n",
       "lv0HiJwOZrMu6N+AJj3/AIhcB2YvZXifAKJrzoDAERCzHkl9AMP8AjTd9xGO4XNx8TdAk/4PJsH+\n",
       "YWVgYDqAJq0PIjgegMgGBgZeBRCj9i4IXAYx/UEa2UEsTqA0zwc03WC3SoHDB4iZf6FJcwP9HQ5y\n",
       "3mT9kwzc9n/Qnf7kSDnQVAYAe0g2cluHVKsAAAAASUVORK5CYII=\n",
       "\" style=\"display:inline;vertical-align:middle;\" /></a></td></tr>\n",
       "<tr><td>3</td><td>Operation</td><td>operator:&nbsp;6<br>operands:&nbsp;7<br></td><td><a class=\"ProveItLink\" href=\"../e915e3162db32592a41b0a136496e035e8f476fd0/expr.ipynb\"><img src=\"data:image/png;base64,iVBORw0KGgoAAAANSUhEUgAAADwAAAAOBAMAAACBYGLnAAAAMFBMVEX///92dnYQEBBERERUVFS6\n",
       "urqIiIhmZmaqqqrc3Nzu7u6YmJgyMjIiIiLMzMwAAACFkkdwAAAAAXRSTlMAQObYZgAAAMVJREFU\n",
       "GNNjYACBtwzogM3/i4uPHZRzHkOagf8AA0N/A5jJfX8BhvR7AQYG9l9g5oz6CRjS+QEMDHzfwMwE\n",
       "EBsN2AMx5xcQi3VB/wYM6c9AzAeWXsrwPgFEs58BAwcQG2wu90cQM4BhfgGGx/4BCZavIIUuLv4G\n",
       "6NLMH4AEkwLIaiB9AMPbIA37QU4C+p1XAWz3XTAAmwR2jTLI9UBpng8Y3n4AtOAUkLEGZNMvLN7m\n",
       "Ow6kJ+ufZOC2/4PqdK7i/y4u5kADAFifOBa+9Qg/AAAAAElFTkSuQmCC\n",
       "\" style=\"display:inline;vertical-align:middle;\" /></a></td></tr>\n",
       "<tr><td>4</td><td>ExprTuple</td><td>10, 8</td><td><a class=\"ProveItLink\" href=\"../caee09fb4b5c95b986a9cee46a014afbad9bdc680/expr.ipynb\"><img src=\"data:image/png;base64,iVBORw0KGgoAAAANSUhEUgAAADUAAAAVBAMAAAAUZLt1AAAAMFBMVEX////c3NwiIiJERESqqqqY\n",
       "mJh2dnZmZmYQEBDu7u4yMjJUVFTMzMyIiIi6uroAAAAs73DqAAAAAXRSTlMAQObYZgAAATZJREFU\n",
       "KM9jYMAH+C5gFY4DEach7EMwQdb9v3dvXsfAfgDIXgkRWg/XwWHAwFD/gGEBAwMvxEhW/QkwufNA\n",
       "kfMbGMKAqiBiIvUCMLn7QFZ8AsMMBoZXEIEL9x/A5CyAWGMCA7MDQxnEsRP8A2ByvxkYpCwZGNgK\n",
       "GJaC+fPAtoABz++711WBNMsChj6wwAMG+QKoHO9HBoZJG4BGNTD8A6vdvXu/AVSOuQEo/xUo9gEi\n",
       "xwd07wKoHD9QD+s3sFwLiO/AwMDUAPMe0FHcX8BmmgK5jEA5rg8MDBNg3pMHGsK6gCEdyJ0FsuYn\n",
       "A+cnqPd4uiaA/fCIgUG4fyEDq/2vAs5+oJbi/7t3rwL5lesBA4cAUnQhsUFhxpqA4LIiR2AuIo7Q\n",
       "5ThBfpJG8JFTADfIfEbsaeIOAwMABOxNRsfkiy0AAAAASUVORK5CYII=\n",
       "\" style=\"display:inline;vertical-align:middle;\" /></a></td></tr>\n",
       "<tr><td>5</td><td>ExprTuple</td><td>10, 9</td><td><a class=\"ProveItLink\" href=\"../64d36ff9aa3116e2d1fb41c420506ad5fe919f950/expr.ipynb\"><img src=\"data:image/png;base64,iVBORw0KGgoAAAANSUhEUgAAADUAAAAVBAMAAAAUZLt1AAAAMFBMVEX////c3NwiIiJERESqqqqY\n",
       "mJh2dnZmZmYQEBDu7u4yMjJUVFTMzMyIiIi6uroAAAAs73DqAAAAAXRSTlMAQObYZgAAAS1JREFU\n",
       "KM9jYMAH+C5gFY4DEach7ENwUc7L20sZC9gPAJkrISLr4XIZAQx8FQEMCxgYeCFGsupPgErN0gQS\n",
       "+QIMYQwMHBAxkXoBqNwKkMALBoYZDAyvICIX7j+AMNi/gEhxBgZmB4YyiGMn+AdA5OQXgMg5DAxs\n",
       "BQxLwSLzGM5DvVIPVcPAsoChD8x4wCBfABHSh9nL18DwD0Tz7N693wAi9B9MAt3D8wEixwd07wKI\n",
       "XD/YvANguRYQ24GBgakBIrcf5AV2iJmmQIoRKMf1AWwSxE2ZoNBYwJAOCgogZv7JwPkJJAT033OQ\n",
       "e4B+eMTAINy/kIHV/lcBZz9I7PTqcgeQ4VwPGDgEkKILiQ0KM9YEBJcVOQJzEXGELscJ8pM0go+c\n",
       "ArhB5jNiTxN3GBgAYvhEoGDobKYAAAAASUVORK5CYII=\n",
       "\" style=\"display:inline;vertical-align:middle;\" /></a></td></tr>\n",
       "<tr><td>6</td><td>Literal</td><td></td><td><a class=\"ProveItLink\" href=\"../../../../equality/__pv_it/2fb26078095930560931daa0500ce419a39ea6cd0/expr.ipynb\"><img src=\"data:image/png;base64,iVBORw0KGgoAAAANSUhEUgAAAA4AAAAFBAMAAACHocAhAAAAFVBMVEX///9EREQiIiJUVFQyMjJm\n",
       "ZmYAAADubVkoAAAAAXRSTlMAQObYZgAAABRJREFUCNdjCHEBAWcGXCBICQQUAUpuAwlgGKrkAAAA\n",
       "AElFTkSuQmCC\n",
       "\" style=\"display:inline;vertical-align:middle;\" /></a></td></tr>\n",
       "<tr><td>7</td><td>ExprTuple</td><td>10, 11</td><td><a class=\"ProveItLink\" href=\"../c3e1327e10e2efc10d065acd1ceea221bf0d8c7b0/expr.ipynb\"><img src=\"data:image/png;base64,iVBORw0KGgoAAAANSUhEUgAAADcAAAAVBAMAAAAQkWtIAAAAMFBMVEX////c3NwiIiJERESqqqqY\n",
       "mJh2dnZmZmYQEBDu7u4yMjJUVFTMzMyIiIi6uroAAAAs73DqAAAAAXRSTlMAQObYZgAAATxJREFU\n",
       "KM99Uj1LA0EQffFcvUsu8UA7C3+CNmIjJP8gqSw1nZVwINh6oLVJKRZyFiJW9l4RsbVIfkAgh6VV\n",
       "UBBiNPpmN+sl+LGwszvv7c7sm1ng31Hq/I5vi3kw+3sLFlvD5HYTmL+jc22wm+8rCzFQrQBciiaq\n",
       "Wm1asl3ntQGwBbgGXDoMLNlLAf8DOAWeDNIRyIwyZ24IOBUcmCc3qzVLvnD6JOdCXGrgHG2rSCJC\n",
       "vQKzMU40kmIltFLeaQojRosw0qeTpLU2Jp0+jRsR7BuyRDe2MuXUTk2TxwJQ8kxkZUryI+iw6/Jw\n",
       "knlG05J7LJsjZVMxdrmcSaoBvOexTP9KNpTyCCw2LqDKb6HXCODtfybJhtQc+RRuMNG9YLJnLJ+q\n",
       "Z66aauhe1rIfpCfaljN/6k8UJEfuj2/SBb4AksVMByFvzcoAAAAASUVORK5CYII=\n",
       "\" style=\"display:inline;vertical-align:middle;\" /></a></td></tr>\n",
       "<tr><td>8</td><td>Variable</td><td></td><td><a class=\"ProveItLink\" href=\"../../../../../__pv_it/077b2ff79244fb4582cbe22c6e3356fa92a52f2f0/expr.ipynb\"><img src=\"data:image/png;base64,iVBORw0KGgoAAAANSUhEUgAAABAAAAAOBAMAAADUAYG5AAAAMFBMVEX///+qqqru7u4iIiJ2dnbc\n",
       "3NyIiIjMzMxmZmYQEBC6uroyMjJERERUVFSYmJgAAADLUcuvAAAAAXRSTlMAQObYZgAAAGpJREFU\n",
       "CNdjYGB4+//u3dMLGIBgDgMDxy8gzf4NiP8CGWxfGRj4vgAZPBMYGJgnARn8FxhY9ygAGfXX0pof\n",
       "gDTlBzAw2YIYJ0EckBBI53sHoBH/gIz7AhBjWH9DjancBLTl/N+7t/cxMAAA3u4f/5xagjYAAAAA\n",
       "SUVORK5CYII=\n",
       "\" style=\"display:inline;vertical-align:middle;\" /></a></td></tr>\n",
       "<tr><td>9</td><td>Variable</td><td></td><td><a class=\"ProveItLink\" href=\"../../../../../__pv_it/985a1bdf1540838275dec15f4ad6de261cca93ce0/expr.ipynb\"><img src=\"data:image/png;base64,iVBORw0KGgoAAAANSUhEUgAAAA8AAAAOBAMAAAACpFvcAAAAMFBMVEX////MzMyqqqoiIiIyMjK6\n",
       "uroQEBB2dnbc3NyYmJhmZmZUVFRERESIiIju7u4AAAB204erAAAAAXRSTlMAQObYZgAAAGZJREFU\n",
       "CNdjYGDgu7NrJccCBgaGsgkMrMsmMDA8sQNy6hsYGNweABlhDAxcn4A0QxcDQ78DiPGQgWH9BAYI\n",
       "sG+AMv6DSaCGfBDNJMDAsB+kmwuI5S8AiTog5gSaEwXWIO29SgFIAQBC+RaDQlidVgAAAABJRU5E\n",
       "rkJggg==\n",
       "\" style=\"display:inline;vertical-align:middle;\" /></a></td></tr>\n",
       "<tr><td>10</td><td>Variable</td><td></td><td><a class=\"ProveItLink\" href=\"../../../../../__pv_it/2cbe72a7ad6f655694dd697106680215e8489b600/expr.ipynb\"><img src=\"data:image/png;base64,iVBORw0KGgoAAAANSUhEUgAAAA8AAAAOBAMAAAACpFvcAAAALVBMVEX///8QEBBERERUVFS6urqI\n",
       "iIhmZmaqqqrc3Nzu7u6YmJgyMjIiIiLMzMwAAADtIaYWAAAAAXRSTlMAQObYZgAAAFtJREFUCNdj\n",
       "YACBOwxQsA9Kc52bAGG05zVAGAFxDmCaZULdAjBjCsO9ADDDgaEvAUTzGhvbKYCVMDAwbgAxChgY\n",
       "eASANAeQwf0AyJgNxEwvGRia5HYwcOm9TgAA6BoR3jrzwFcAAAAASUVORK5CYII=\n",
       "\" style=\"display:inline;vertical-align:middle;\" /></a></td></tr>\n",
       "<tr><td>11</td><td>Variable</td><td></td><td><a class=\"ProveItLink\" href=\"../../../../../__pv_it/185e6d30f167ee2ee5ef3321098dc98e0d77bc590/expr.ipynb\"><img src=\"data:image/png;base64,iVBORw0KGgoAAAANSUhEUgAAABEAAAAOBAMAAAA7w+qHAAAALVBMVEX///8QEBCYmJjc3Ny6urru\n",
       "7u5mZmZ2dnaqqqrMzMxEREQyMjJUVFSIiIgAAABETr/8AAAAAXRSTlMAQObYZgAAAGpJREFUCNdj\n",
       "YGC48+7MmV0TGEDgNQMDxwsQg/M5kMgLABK8T4DEvAtAgusBkLA7ACT4FoDEDsAk9AqAxD2QCecc\n",
       "gMQ6kAGCIOIVEDM9Ahn3FkgwgnTxvgQSqwOgxs1OADLC1r05cyoTyAAAv4Qe+njAWvgAAAAASUVO\n",
       "RK5CYII=\n",
       "\" style=\"display:inline;vertical-align:middle;\" /></a></td></tr>\n",
       "</table>\n"
      ],
      "text/plain": [
       "0. (A = B , A = C , A = D)\n",
       "   core type: ExprTuple\n",
       "   sub-expressions: 1, 2, 3\n",
       "1. A = B\n",
       "   core type: Operation\n",
       "   operator: 6\n",
       "   operands: 4\n",
       "2. A = C\n",
       "   core type: Operation\n",
       "   operator: 6\n",
       "   operands: 5\n",
       "3. A = D\n",
       "   core type: Operation\n",
       "   operator: 6\n",
       "   operands: 7\n",
       "4. (A , B)\n",
       "   core type: ExprTuple\n",
       "   sub-expressions: 10, 8\n",
       "5. (A , C)\n",
       "   core type: ExprTuple\n",
       "   sub-expressions: 10, 9\n",
       "6. =\n",
       "   core type: Literal\n",
       "   sub-expressions: \n",
       "7. (A , D)\n",
       "   core type: ExprTuple\n",
       "   sub-expressions: 10, 11\n",
       "8. B\n",
       "   core type: Variable\n",
       "   sub-expressions: \n",
       "9. C\n",
       "   core type: Variable\n",
       "   sub-expressions: \n",
       "10. A\n",
       "    core type: Variable\n",
       "    sub-expressions: \n",
       "11. D\n",
       "    core type: Variable\n",
       "    sub-expressions: "
      ]
     },
     "execution_count": 4,
     "metadata": {},
     "output_type": "execute_result"
    }
   ],
   "source": [
    "# display the expression information\n",
    "expr.exprInfo()"
   ]
  },
  {
   "cell_type": "code",
   "execution_count": null,
   "metadata": {},
   "outputs": [],
   "source": []
  }
 ],
 "metadata": {
  "kernelspec": {
   "display_name": "Python 3",
   "language": "python",
   "name": "python3"
  }
 },
 "nbformat": 4,
 "nbformat_minor": 0
}
