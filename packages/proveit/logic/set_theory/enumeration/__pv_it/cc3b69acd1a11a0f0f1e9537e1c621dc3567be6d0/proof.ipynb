{
 "cells": [
  {
   "cell_type": "markdown",
   "metadata": {},
   "source": [
    "Show the Proof\n",
    "========"
   ]
  },
  {
   "cell_type": "code",
   "execution_count": 1,
   "metadata": {},
   "outputs": [
    {
     "data": {
      "text/html": [
       "<table><tr><th>&nbsp;</th><th>step type</th><th>requirements</th><th>statement</th></tr>\n",
       "<tr><td>0</td><td>specialization</td><td>1, 2</td><td><span style=\"font-size:20px;\"><a class=\"ProveItLink\" href=\"../a111a5ab1ed5722604a8af0bf91b26c546b78ad30/expr.ipynb\"><img src=\"data:image/png;base64,iVBORw0KGgoAAAANSUhEUgAAAFcAAAAVBAMAAADBdm84AAAAMFBMVEX///9ERETc3NyqqqpUVFS6\n",
       "urrMzMwyMjIQEBCIiIh2dnYiIiLu7u5mZmaYmJgAAABJJ2g3AAAAAXRSTlMAQObYZgAAAUdJREFU\n",
       "KM9jYGDgu8eAFbx9AKHZVilACQYGnl3Y1Z5eAGOxNcMIBs4P2BXPRzCvwwmuBuyKV6AxV1ComGf6\n",
       "7t0FxCpOf0PQZKaVTpY3QRwmGRQVp24xMP1BVswLtPUUw+sH3SAOowJKECyIBwfWexAfTGQEAAWB\n",
       "AWUG4hyEq2VrBWKD2wyMAgwM7BcYIERKG5BxgMERoiRi926IB9k8EoC+Zehk4J8A5Ik/gBIRCSBV\n",
       "nRDFKXCTWUGGMP9hyAdKc4MiE0ywgAxi+gY0BhTHiCBwh/hnBgOym7k2MDA8AnpjDojD8gCueDXE\n",
       "nSLoQcf8j7GBaQI4TraiBB2vA+s/dMU8kmtWzYMoUb+GrJhHcu4nfGnDpBolukGOJDIheTOcMEBR\n",
       "zIdD8Qsg3sUghZqeeXbiyClAH1vODYBGJoQAGr0Yu+pXBuh5EACpg2yELQvWZQAAAABJRU5ErkJg\n",
       "gg==\n",
       "\" style=\"display:inline;vertical-align:middle;\" /></a> <a class=\"ProveItLink\" href=\"proof.ipynb\" style=\"text-decoration: none\">&#x22A2;&nbsp;</a><a class=\"ProveItLink\" href=\"../11c10f4bba158f3c28c22f8b0eddbb73cf6480560/expr.ipynb\"><img src=\"data:image/png;base64,iVBORw0KGgoAAAANSUhEUgAAADMAAAANBAMAAAD2/0vEAAAAMFBMVEX///+6uroyMjJERETMzMwQ\n",
       "EBAiIiKYmJju7u5mZmaqqqpUVFSIiIh2dnbc3NwAAAAWgogoAAAAAXRSTlMAQObYZgAAAKRJREFU\n",
       "GNNjYHh7+tXJAwwogOPmBYb3DQwcF9jTWROAfE4lMNgAZPIyfmA4D6QYeD5wOaDq8uJMYDAGambg\n",
       "NmBAAw2sBxj+gBisB9ClGNY3sHwB0e8dGBpAdqWBAdiISQw8AQwM7A/OM/A0oOnSZGAGOmd9gSnD\n",
       "G3QDZzPIFzAwNJ/tvVOALtV8Zv4DBlzgGg5x7gSOKBxSbBeYL+CQ4jozEUgCABYeKl4jfnQmAAAA\n",
       "AElFTkSuQmCC\n",
       "\" style=\"display:inline;vertical-align:middle;\" /></a></span></td></tr>\n",
       "<tr><td>&nbsp;</td><td colspan=4 style=\"text-align:left\"><span style=\"font-size:20px;\"><a class=\"ProveItLink\" href=\"../../../../../__pv_it/530be409e3083890784cf1d7b28c9e67e90af9360/expr.ipynb\"><img src=\"data:image/png;base64,iVBORw0KGgoAAAANSUhEUgAAAAsAAAAJBAMAAAAWSsseAAAAKlBMVEX///9ERETMzMwQEBAiIiKY\n",
       "mJju7u5mZmaqqqpUVFSIiIh2dnbc3NwAAAA/vyDhAAAAAXRSTlMAQObYZgAAAENJREFUCNdjYDi9\n",
       "8sTyBQxsG1hdmR0YuBm4LnAoMLAxcAowgADzAjB1VoEhgYH1wFoGrgSG3gBhhlMMDImrs3cFMAAA\n",
       "t0YN+iTRa+sAAAAASUVORK5CYII=\n",
       "\" style=\"display:inline;vertical-align:middle;\" /></a> : <a class=\"ProveItLink\" href=\"../../../../../__pv_it/530be409e3083890784cf1d7b28c9e67e90af9360/expr.ipynb\"><img src=\"data:image/png;base64,iVBORw0KGgoAAAANSUhEUgAAAAsAAAAJBAMAAAAWSsseAAAAKlBMVEX///9ERETMzMwQEBAiIiKY\n",
       "mJju7u5mZmaqqqpUVFSIiIh2dnbc3NwAAAA/vyDhAAAAAXRSTlMAQObYZgAAAENJREFUCNdjYDi9\n",
       "8sTyBQxsG1hdmR0YuBm4LnAoMLAxcAowgADzAjB1VoEhgYH1wFoGrgSG3gBhhlMMDImrs3cFMAAA\n",
       "t0YN+iTRa+sAAAAASUVORK5CYII=\n",
       "\" style=\"display:inline;vertical-align:middle;\" /></a>, <a class=\"ProveItLink\" href=\"../../../../../__pv_it/f8b9edf8e16034727f0aad55bb83e392c3db40d40/expr.ipynb\"><img src=\"data:image/png;base64,iVBORw0KGgoAAAANSUhEUgAAAAsAAAANBAMAAACN24kIAAAAMFBMVEX///+YmJhUVFQyMjIQEBBE\n",
       "REQiIiKqqqrMzMyIiIi6urrc3NxmZmZ2dnbu7u4AAADXeCicAAAAAXRSTlMAQObYZgAAAFhJREFU\n",
       "CNdj4LtzgWH/AwZerg8M8xkY2nkSGEIZGB6wTGD4ycDAUP+A4weQOszA6QCkbBhYFYDUIYb1AkDq\n",
       "6czzGxhA4BoQMyXwuQMptgusF4AU+8xTQBIAUqMVoSp/SLMAAAAASUVORK5CYII=\n",
       "\" style=\"display:inline;vertical-align:middle;\" /></a> : <a class=\"ProveItLink\" href=\"../../../../../__pv_it/f8b9edf8e16034727f0aad55bb83e392c3db40d40/expr.ipynb\"><img src=\"data:image/png;base64,iVBORw0KGgoAAAANSUhEUgAAAAsAAAANBAMAAACN24kIAAAAMFBMVEX///+YmJhUVFQyMjIQEBBE\n",
       "REQiIiKqqqrMzMyIiIi6urrc3NxmZmZ2dnbu7u4AAADXeCicAAAAAXRSTlMAQObYZgAAAFhJREFU\n",
       "CNdj4LtzgWH/AwZerg8M8xkY2nkSGEIZGB6wTGD4ycDAUP+A4weQOszA6QCkbBhYFYDUIYb1AkDq\n",
       "6czzGxhA4BoQMyXwuQMptgusF4AU+8xTQBIAUqMVoSp/SLMAAAAASUVORK5CYII=\n",
       "\" style=\"display:inline;vertical-align:middle;\" /></a></span></td></tr><tr><td>1</td><td>theorem</td><td></td><td><span style=\"font-size:20px;\"> <a class=\"ProveItLink\" href=\"../../_proofs_/unfoldSingleton.ipynb\" style=\"text-decoration: none\">&#x22A2;&nbsp;</a><a class=\"ProveItLink\" href=\"../d0667f5ae2be119b57eabf63801a79c2081644b60/expr.ipynb\"><img src=\"data:image/png;base64,iVBORw0KGgoAAAANSUhEUgAAALAAAAAXBAMAAABZgNg7AAAAMFBMVEX///8QEBC6urrMzMxUVFRm\n",
       "ZmZERETc3NwyMjKqqqp2dnaIiIiYmJgiIiLu7u4AAAAU9Wx4AAAAAXRSTlMAQObYZgAAAmtJREFU\n",
       "OMu1lU1o02AYx/9NumRNu7Q4RESUCh6KQ+zAe8sGKyjCQAqyORgiHdpLvGyCOIJ48CAy0MFgl1z8\n",
       "rJQKW0EnmosoitDTDgOhuwzZQAqCXsbwed806Zo0USI+0L5vnn/z65vnK8D/smboO4f8pUQaaLDN\n",
       "5xBcMR8gXgCesfV+CHB/0LP2A7O0yNMhwGtBYsLgf9y3EAJ8LEhUU0g8mZu7FYIr6IHyVeBnqbQR\n",
       "AtxnUAgrheVJl397AvIe8AgYBWY8x3E75BfWetJ00kO7bXwxj7KLi3eZ3WFb4zTiLWAJOAHV81SS\n",
       "23Fda2+KtidCpWrgHR64inBhChLVwnFgAHEzCLxTvMQPYJmzSaZZc415soYjSNaAHAg70AwAxy/P\n",
       "f/cDgyhui+0hl+VgVT9D15WRFboU6og0HbCyMjSK9zbP0hxwhJWo/IOOSDb1ldk6T6qOl+ChwMwI\n",
       "MZpj7Jc7SW24c+JqdPowdBtsaQ5Yovh9oDS9dffcOK7Q8pE+iw1WBveYd/4U6h1wmjIvGnx71tY2\n",
       "7Swq44jtSim55i7DvLALXm6IcO1XG3BuX4yTGsT1UqmMTN7WhIN2RTaglqvP33iyV15lqNusr1lU\n",
       "xZTI3AcwuA88jKxqzbAJW3NOjEN+raM0eEtbllN0BTc0DAotByy2nlKlFpxi4FrGuf9Tb+x5bFKy\n",
       "FDtCW68mq8iZeFjXHbBaXnzdxFbaBnNt6U9jcwPX6Ptbt9OUtWjN3SCPKcaMZ2kdsNx70C+vspMU\n",
       "uttRk4xM75YmnqV1wLjpP6Hi2e7pjNia4TsrLK34b2/YqGe6VdovUPNvEb8BxyuY2fZL6h4AAAAA\n",
       "SUVORK5CYII=\n",
       "\" style=\"display:inline;vertical-align:middle;\" /></a></span></td></tr>\n",
       "<tr><td>&nbsp;</td><td colspan=4 style-\"text-align:left\"><a class=\"ProveItLink\" href=\"../../_proofs_/unfoldSingleton.ipynb\">proveit.logic.set_theory.enumeration.unfoldSingleton</a></td></tr><tr><td>2</td><td>assumption</td><td></td><td><span style=\"font-size:20px;\"><a class=\"ProveItLink\" href=\"../a111a5ab1ed5722604a8af0bf91b26c546b78ad30/expr.ipynb\"><img src=\"data:image/png;base64,iVBORw0KGgoAAAANSUhEUgAAAFcAAAAVBAMAAADBdm84AAAAMFBMVEX///9ERETc3NyqqqpUVFS6\n",
       "urrMzMwyMjIQEBCIiIh2dnYiIiLu7u5mZmaYmJgAAABJJ2g3AAAAAXRSTlMAQObYZgAAAUdJREFU\n",
       "KM9jYGDgu8eAFbx9AKHZVilACQYGnl3Y1Z5eAGOxNcMIBs4P2BXPRzCvwwmuBuyKV6AxV1ComGf6\n",
       "7t0FxCpOf0PQZKaVTpY3QRwmGRQVp24xMP1BVswLtPUUw+sH3SAOowJKECyIBwfWexAfTGQEAAWB\n",
       "AWUG4hyEq2VrBWKD2wyMAgwM7BcYIERKG5BxgMERoiRi926IB9k8EoC+Zehk4J8A5Ik/gBIRCSBV\n",
       "nRDFKXCTWUGGMP9hyAdKc4MiE0ywgAxi+gY0BhTHiCBwh/hnBgOym7k2MDA8AnpjDojD8gCueDXE\n",
       "nSLoQcf8j7GBaQI4TraiBB2vA+s/dMU8kmtWzYMoUb+GrJhHcu4nfGnDpBolukGOJDIheTOcMEBR\n",
       "zIdD8Qsg3sUghZqeeXbiyClAH1vODYBGJoQAGr0Yu+pXBuh5EACpg2yELQvWZQAAAABJRU5ErkJg\n",
       "gg==\n",
       "\" style=\"display:inline;vertical-align:middle;\" /></a> <a class=\"ProveItLink\" href=\"../34cf5194116adbf5936e05507a460668400c4f7d0/proof.ipynb\" style=\"text-decoration: none\">&#x22A2;&nbsp;</a><a class=\"ProveItLink\" href=\"../dfa7245ca3101bcab340dec960ee18f167b240720/expr.ipynb\"><img src=\"data:image/png;base64,iVBORw0KGgoAAAANSUhEUgAAAEQAAAAVBAMAAAAN71XTAAAAMFBMVEX///+6uroyMjJERETMzMwQ\n",
       "EBAiIiKYmJju7u5mZmaqqqpUVFSIiIh2dnbc3NwAAAAWgogoAAAAAXRSTlMAQObYZgAAARNJREFU\n",
       "KM9jYMAG2KdDGb73GLADjlw403UBdiU8H+BMTgXsSngDsDGJVNKjlpaEXwmLegMOU96efnXyAIj3\n",
       "uAFZnOPmBYb3DRDmBfZ01gSQhB2KN3gZPzCcB4YQ0HO8QC9yOYACwwARGAIMDF6cCQzGQLYmUIaB\n",
       "GyLHGJaWBnGudwiQaGA9wPAHSDOrAwnWAxDXboCbIgoydX0DyxcgBQ7o9w4MIIdyJMCVcIOCdBID\n",
       "TwDELewPzjPwgP2yHeHTBLAjmDdAPLe+wJThDViiTQAlMGYzyBdAmM1ne+8UgCX4NB2QlTSfmf8A\n",
       "IwK4NqFGwDUC0cidwBGFRwk7UJztAvMFPOmFIwdo65mJsIDGbswtpLQLAHbMQ8XDEKjoAAAAAElF\n",
       "TkSuQmCC\n",
       "\" style=\"display:inline;vertical-align:middle;\" /></a></span></td></tr>\n",
       "</table>"
      ],
      "text/plain": [
       "<proveit._core_.proof._ShowProof at 0x7f95000c1cf8>"
      ]
     },
     "execution_count": 1,
     "metadata": {},
     "output_type": "execute_result"
    }
   ],
   "source": [
    "import proveit\n",
    "%show_proof"
   ]
  },
  {
   "cell_type": "code",
   "execution_count": null,
   "metadata": {},
   "outputs": [],
   "source": []
  }
 ],
 "metadata": {
  "kernelspec": {
   "display_name": "Python 3",
   "language": "python",
   "name": "python3"
  }
 },
 "nbformat": 4,
 "nbformat_minor": 0
}
