{
 "cells": [
  {
   "cell_type": "markdown",
   "metadata": {},
   "source": [
    "Expression of type <a class=\"ProveItLink\" href=\"../../../../../../../doc/html/api/proveit.logic.NotEquals.html\">NotEquals</a>\n",
    "=======================\n",
    "# from context <a class=\"ProveItLink\" href=\"../../_context_.ipynb\">proveit.logic.set_theory.enumeration</a>"
   ]
  },
  {
   "cell_type": "code",
   "execution_count": 1,
   "metadata": {},
   "outputs": [],
   "source": [
    "# import Expression classes needed to build the expression\n",
    "from proveit._common_ import x, y\n",
    "from proveit.logic import NotEquals"
   ]
  },
  {
   "cell_type": "code",
   "execution_count": 2,
   "metadata": {},
   "outputs": [
    {
     "data": {
      "text/html": [
       "<strong id=\"expr\">expr:</strong> <a class=\"ProveItLink\" href=\"expr.ipynb\"><img src=\"data:image/png;base64,iVBORw0KGgoAAAANSUhEUgAAAEEAAAAVCAMAAAAuNnOWAAAAPFBMVEX///8LCwsYGBgNDQ0oKCi6\n",
       "uroyMjJERETMzMwQEBAiIiKYmJju7u5mZmaqqqpUVFSIiIh2dnbc3NwAAACyXdPkAAAAAXRSTlMA\n",
       "QObYZgAAATBJREFUOMu1U1uSxCAIdHZHfCvq/e+6oE6y5ln5GD5SAbTtblSIL0cuUypxSp28BSgw\n",
       "pTpt+kHfIaT5EPDbBfCMAuJuhcuPKJgdBeHNJYBWs41HlFVkrhlTiRh2HNXsU+iMfW4/pTZGOXCF\n",
       "5FgnjF2WQov3L39X+8H1AQtZ2ZTasghc6WnU1xSEaa7oKAKfpbpESUYwmaT2CuV2+LUh0HLDemsX\n",
       "reuA389JQDlEILLsgK76P0Jp6TKrYCl+XrbFys7Ej02se4yRVbjSXUF/TUEoNzqBk6HRAXFyQhFQ\n",
       "wWsX+uAaB2rJ6paiV5h9zuhuXKBdY9y0A0MdfTh7njEcFM2Kmu3drbb+oNifUbK8cbia8QmF8bot\n",
       "4ajxJD08okBus72RXPiIT+UM4cyezcCQr9EfTokL+WD4+V4AAAAASUVORK5CYII=\n",
       "\" style=\"display:inline;vertical-align:middle;\" /></a><br>"
      ],
      "text/plain": [
       "expr: x != (y)"
      ]
     },
     "execution_count": 2,
     "metadata": {},
     "output_type": "execute_result"
    }
   ],
   "source": [
    "# build up the expression from sub-expressions\n",
    "expr = NotEquals(x, [y])"
   ]
  },
  {
   "cell_type": "code",
   "execution_count": 3,
   "metadata": {},
   "outputs": [
    {
     "name": "stdout",
     "output_type": "stream",
     "text": [
      "Passed sanity check: built 'expr' is the same as the stored Expression.\n"
     ]
    }
   ],
   "source": [
    "# check that the built expression is the same as the stored expression\n",
    "%check_expr"
   ]
  },
  {
   "cell_type": "code",
   "execution_count": 4,
   "metadata": {},
   "outputs": [
    {
     "data": {
      "text/html": [
       "<table><tr><th>&nbsp;</th><th>core type</th><th>sub-expressions</th><th>expression</th></tr>\n",
       "<tr><td>0</td><td>Operation</td><td>operator:&nbsp;1<br>operands:&nbsp;2<br></td><td><a class=\"ProveItLink\" href=\"expr.ipynb\"><img src=\"data:image/png;base64,iVBORw0KGgoAAAANSUhEUgAAAEEAAAAVCAMAAAAuNnOWAAAAPFBMVEX///8LCwsYGBgNDQ0oKCi6\n",
       "uroyMjJERETMzMwQEBAiIiKYmJju7u5mZmaqqqpUVFSIiIh2dnbc3NwAAACyXdPkAAAAAXRSTlMA\n",
       "QObYZgAAATBJREFUOMu1U1uSxCAIdHZHfCvq/e+6oE6y5ln5GD5SAbTtblSIL0cuUypxSp28BSgw\n",
       "pTpt+kHfIaT5EPDbBfCMAuJuhcuPKJgdBeHNJYBWs41HlFVkrhlTiRh2HNXsU+iMfW4/pTZGOXCF\n",
       "5FgnjF2WQov3L39X+8H1AQtZ2ZTasghc6WnU1xSEaa7oKAKfpbpESUYwmaT2CuV2+LUh0HLDemsX\n",
       "reuA389JQDlEILLsgK76P0Jp6TKrYCl+XrbFys7Ej02se4yRVbjSXUF/TUEoNzqBk6HRAXFyQhFQ\n",
       "wWsX+uAaB2rJ6paiV5h9zuhuXKBdY9y0A0MdfTh7njEcFM2Kmu3drbb+oNifUbK8cbia8QmF8bot\n",
       "4ajxJD08okBus72RXPiIT+UM4cyezcCQr9EfTokL+WD4+V4AAAAASUVORK5CYII=\n",
       "\" style=\"display:inline;vertical-align:middle;\" /></a></td></tr>\n",
       "<tr><td>1</td><td>Literal</td><td></td><td><a class=\"ProveItLink\" href=\"../../../../equality/__pv_it/43637204f35b46c076ae787093288c6a879642310/expr.ipynb\"><img src=\"data:image/png;base64,iVBORw0KGgoAAAANSUhEUgAAAA4AAAAUCAMAAACK2/weAAAAM1BMVEX///8LCwsYGBgNDQ0oKCju\n",
       "7u4iIiJmZmaqqqpERETMzMy6urpUVFQyMjLc3Nx2dnYAAAB8DqOrAAAAAXRSTlMAQObYZgAAAE5J\n",
       "REFUGNNjYEAAfj4kDgMfLzKPgYebaEkuThRJTi4wxc4LBizMIJIHTRIKuHlQdPLCHMTOBgRMjGxg\n",
       "wIkmiVcnGHCwo0iysRItyYDsMQCO9QJkhxsUAQAAAABJRU5ErkJggg==\n",
       "\" style=\"display:inline;vertical-align:middle;\" /></a></td></tr>\n",
       "<tr><td>2</td><td>ExprTuple</td><td>3, 4</td><td><a class=\"ProveItLink\" href=\"../e254b78b3b14aa9fcbf8e4a4d1b887fc941a543e0/expr.ipynb\"><img src=\"data:image/png;base64,iVBORw0KGgoAAAANSUhEUgAAADwAAAAVBAMAAADocZC/AAAAMFBMVEX////c3NwiIiJERESqqqqY\n",
       "mJh2dnZmZmYQEBDu7u4yMjJUVFTMzMyIiIi6uroAAAAs73DqAAAAAXRSTlMAQObYZgAAAU5JREFU\n",
       "KM+Fkr9Lw0AUx7+hTbzUps0gLlLsonMHFUGEzoKYycEpm5NQHDo5KLg4qAGhiFMXhy4S+xdkd2gm\n",
       "I4gYnEQQf4BDl+K7X5GbDHzuvi/f3Lv37gL889RSI3yXk51LcGe41ViJA8XAsCuRFhLPzP2khR0K\n",
       "WGTYJ1q4h4I3s85+IZcEXRpnH2cyuccUpex1YY2BXXCuKUdoL7CmLCgAwg94n8AGOGeAQ2E5ETbL\n",
       "UW3vo9QCXsGZ0GpMt9SG9ZyiU9RpqxE4E7Eo/bNRHmOUaPuYv51PIPtjbSqvjwfo5MvUvf8MLxIf\n",
       "lKi0SgdrJHcEVP9WsIoG3G+KnQ6tjms/0I29ABf3vb0A7rlPx0L9uevZF1k3AuYXJ8bVEVdOszhU\n",
       "fvTqEviwDQxxSQU6qWRg2HShi1ghcaWY07bo3YqxmfG/5FZhmRfekJOXCH4BE4JSYMe58OwAAAAA\n",
       "SUVORK5CYII=\n",
       "\" style=\"display:inline;vertical-align:middle;\" /></a></td></tr>\n",
       "<tr><td>3</td><td>Variable</td><td></td><td><a class=\"ProveItLink\" href=\"../../../../../__pv_it/530be409e3083890784cf1d7b28c9e67e90af9360/expr.ipynb\"><img src=\"data:image/png;base64,iVBORw0KGgoAAAANSUhEUgAAAAsAAAAJBAMAAAAWSsseAAAAKlBMVEX///9ERETMzMwQEBAiIiKY\n",
       "mJju7u5mZmaqqqpUVFSIiIh2dnbc3NwAAAA/vyDhAAAAAXRSTlMAQObYZgAAAENJREFUCNdjYDi9\n",
       "8sTyBQxsG1hdmR0YuBm4LnAoMLAxcAowgADzAjB1VoEhgYH1wFoGrgSG3gBhhlMMDImrs3cFMAAA\n",
       "t0YN+iTRa+sAAAAASUVORK5CYII=\n",
       "\" style=\"display:inline;vertical-align:middle;\" /></a></td></tr>\n",
       "<tr><td>4</td><td>ExprTuple</td><td>5</td><td><a class=\"ProveItLink\" href=\"../e4c9c31c4dd925da36852c7d3895fcaa012158bd0/expr.ipynb\"><img src=\"data:image/png;base64,iVBORw0KGgoAAAANSUhEUgAAABcAAAAVBAMAAABfzGiYAAAAMFBMVEX////c3NwiIiJERESqqqqY\n",
       "mJh2dnZmZmYQEBDu7u4yMjJUVFTMzMyIiIi6uroAAAAs73DqAAAAAXRSTlMAQObYZgAAAMFJREFU\n",
       "GNNVj7EOwXAQxn9UKUq6G3gHsXsDJqM0lk4Sk4GEDmZpYjF2EbF5BIPN0gfQEKNFHwBx/2olbrjL\n",
       "7/Llu/vgr6rBd/ZVOyXLwkHaLpX4UAlS6IHhpbCG+89JazOGomNT98iP2EC+GnGBnM8SjoUGTTno\n",
       "8gbPCHiBGSmg45nPGBYCEypuLGsJbNH2oPs4AlMeXZT1TWAVzi0oXTEsdX3wfUe3KTeKymYYR8ja\n",
       "mi1PSQRq5MKZzLLSZ5JAZ/gAdAsqXS4lbPIAAAAASUVORK5CYII=\n",
       "\" style=\"display:inline;vertical-align:middle;\" /></a></td></tr>\n",
       "<tr><td>5</td><td>Variable</td><td></td><td><a class=\"ProveItLink\" href=\"../../../../../__pv_it/f8b9edf8e16034727f0aad55bb83e392c3db40d40/expr.ipynb\"><img src=\"data:image/png;base64,iVBORw0KGgoAAAANSUhEUgAAAAsAAAANBAMAAACN24kIAAAAMFBMVEX///+YmJhUVFQyMjIQEBBE\n",
       "REQiIiKqqqrMzMyIiIi6urrc3NxmZmZ2dnbu7u4AAADXeCicAAAAAXRSTlMAQObYZgAAAFhJREFU\n",
       "CNdj4LtzgWH/AwZerg8M8xkY2nkSGEIZGB6wTGD4ycDAUP+A4weQOszA6QCkbBhYFYDUIYb1AkDq\n",
       "6czzGxhA4BoQMyXwuQMptgusF4AU+8xTQBIAUqMVoSp/SLMAAAAASUVORK5CYII=\n",
       "\" style=\"display:inline;vertical-align:middle;\" /></a></td></tr>\n",
       "</table>\n"
      ],
      "text/plain": [
       "0. x != (y)\n",
       "   core type: Operation\n",
       "   operator: 1\n",
       "   operands: 2\n",
       "1. !=\n",
       "   core type: Literal\n",
       "   sub-expressions: \n",
       "2. (x , (y))\n",
       "   core type: ExprTuple\n",
       "   sub-expressions: 3, 4\n",
       "3. x\n",
       "   core type: Variable\n",
       "   sub-expressions: \n",
       "4. (y)\n",
       "   core type: ExprTuple\n",
       "   sub-expressions: 5\n",
       "5. y\n",
       "   core type: Variable\n",
       "   sub-expressions: "
      ]
     },
     "execution_count": 4,
     "metadata": {},
     "output_type": "execute_result"
    }
   ],
   "source": [
    "# display the expression information\n",
    "expr.exprInfo()"
   ]
  },
  {
   "cell_type": "code",
   "execution_count": null,
   "metadata": {},
   "outputs": [],
   "source": []
  }
 ],
 "metadata": {
  "kernelspec": {
   "display_name": "Python 3",
   "language": "python",
   "name": "python3"
  }
 },
 "nbformat": 4,
 "nbformat_minor": 0
}
