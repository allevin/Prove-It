{
 "cells": [
  {
   "cell_type": "markdown",
   "metadata": {},
   "source": [
    "Show the Proof\n",
    "========"
   ]
  },
  {
   "cell_type": "code",
   "execution_count": 1,
   "metadata": {},
   "outputs": [
    {
     "data": {
      "text/html": [
       "<table><tr><th>&nbsp;</th><th>step type</th><th>requirements</th><th>statement</th></tr>\n",
       "<tr><td>0</td><td>assumption</td><td></td><td><span style=\"font-size:20px;\"><a class=\"ProveItLink\" href=\"../8364c3de3c0c094f36848afcf88b3260bc768d900/expr.ipynb\"><img src=\"data:image/png;base64,iVBORw0KGgoAAAANSUhEUgAAASUAAAAVBAMAAADyROVdAAAAMFBMVEX////c3NxERESqqqpUVFS6\n",
       "urrMzMwyMjIQEBCIiIh2dnYiIiLu7u5mZmaYmJgAAABXZE4RAAAAAXRSTlMAQObYZgAAA6dJREFU\n",
       "SMfNVk1IFFEc/89+f8xOSwbRIRQKFIJ2T3WSttiUDuHeMiqQEBKKXKXwkJUVfRzC9hCBJ4UuFRQS\n",
       "HSqF9hLaIdgQDJJSoojqoJa1FKX9P2Zm883uTMcG5s2b9/6/9/u//9d7AGC8gf/mCd1J0kd/TO1+\n",
       "D+H36kCw4A4wcuqIFwUjQheoG12gbkbUHHVIvlvJZhtzkOhQxjvlc7TK4s82v57bCNOqCWpSXEeK\n",
       "XlyfES+piQ1gEy7ybHjByXAeIPENIM/G4RFWr19mzzoBsUGAQ4MQ5h+2VgjcKcoA/q8giFu2TkMy\n",
       "+fmX08M/8F0C+EQ/AVInWrAatPeTogrQT+FQbBGMEfprAWt1F4qf2MwWBVHR6SpPas2LDkAUhwwE\n",
       "TTK6AZs4qRERXepmkyogTGsFB0CndeEwNePgToFugO6CIGydgnmZ5NnVjw+n47ieL01/Pfg2U2ef\n",
       "zBaGHaE8S4JaCWATa4g6+0vgTkHurM8IwtYpwXaGg/5lB2BNBrRe8gYtzPqQXvBKkq+4Y06R18rs\n",
       "QHTyXeqQPqSXKwVZvzsjCNYpgRsI88p6joKHYr+PnhPc794zNEOzft4n+o39B2d48imZnNZgQB9l\n",
       "VsLm3A6m39h/bhS0xvyIIOZppAutH8lJVmm/HZsYToL+QCJEQjvAshfNrKovKfJxO17awQzt3fR1\n",
       "o6DMacsJIowLdl4i6zGgM5v94gA0EQj3GJIcHoUJ/nJUhLLZtgbVESyn0/ZFR9DZwi4UKWquWIhG\n",
       "JGvvsADYXHYAlky7mjpNwb2KTliuInlFPsJy22ydEunYXEWnqhSkpbFsIuIUdwFcNUK54sf3IQvN\n",
       "jNFzn01Bsm1py3ewHqQO8xGAw3EeTjBgjGwW4PpTsn2n5eOia20KirBIg4ngeIohiY+2UletLFN5\n",
       "4lQyxCCB41IstxJdukpZZoYYVa8PMtDyURK+NsV38piFsGsBJTq7PVWsUp666ByRWgChLSJBaUuR\n",
       "5XOU5fk0BF9YIlQ1x+XEqU2B2zpSshCVmjkKWlM5CW9XTq+WT6SWsq2c92GzOJoCBwDWXusBI1VW\n",
       "Ey/UuneKOyfNui4CNSmeI8WuaRtROVvOed5sJs3vMTOUk14AOVtQR9Mu3hSrzxY5YV2f28plZ8QL\n",
       "EFMuWN4UjGCdjL/uKi57UHO+34thQj2bi/+E4PuT/ohSKOMhH1B9tc6LYad6EGb+BRGSA8K4ic0G\n",
       "D/kb6oDmcfeNqhdTTwpC8H38D404EUzcZFrQAAAAAElFTkSuQmCC\n",
       "\" style=\"display:inline;vertical-align:middle;\" /></a> <a class=\"ProveItLink\" href=\"proof.ipynb\" style=\"text-decoration: none\">&#x22A2;&nbsp;</a><a class=\"ProveItLink\" href=\"../200c4fe99481e8ed121227398938f9cee901e2ab0/expr.ipynb\"><img src=\"data:image/png;base64,iVBORw0KGgoAAAANSUhEUgAAAQ8AAAAVBAMAAACqO3ZEAAAAMFBMVEX////c3NwiIiJERESqqqqY\n",
       "mJh2dnZmZmYQEBDu7u4yMjJUVFTMzMyIiIi6uroAAAAs73DqAAAAAXRSTlMAQObYZgAAA09JREFU\n",
       "SMfNVk9IFGEUf7N/nN3Z2XUhITBCKYI6KVFkELg3oYtLgYeg9BLVIZL+E4FGXfKQSyeRiPUQpoJt\n",
       "dAgaSSk6hIcVOnRJXLr0B4JCK3RLe+/3zW7wze6M3RrYb77vzfu935v3b4fov7lSC/7PoyVd8iXA\n",
       "4ol/pVCIebV/4fVgtuw8mSa6rsntgrq1eg3G3zy9ZPSbc5q4LkWSKZ4dIgJiQskeec3G2okGSmTh\n",
       "gLjYslg5CKyvXsTpLKWuZimPMEACn+pTNLJqd4YEkVRhi7blPFpFflQsULRPDjOyLFYXoiOrHsDo\n",
       "Hl7OpalHDgnxAdb9KNi2yYYYEVNPmwbSHq0lFvX2UXxQDi9lESK6jYdG1zcP4KHY+kg0guhxPCkk\n",
       "Ej8KDrT9G4jPSrKw5KlJ6uDfbjayD5lgK5F+CXlepTe5ruubK7JuJQpnZDPGvy7Z+FB0yiuVgbis\n",
       "6jrXnfVosULzQb6fkoM4Ic6QiUzRp8h3Xb8FLt4jahCH4YQ440exLKErA/EAgvsoCGaZxIW+sMuL\n",
       "b3fJ5jC5aUF6LJiLlySifF0DYEq2AxWiCDzitCA9fhRiI/oDiDtuT7T0e3qLi+BuQWVd1ehz9FJJ\n",
       "9YTxUwe0VWoghariGk1A14fil1T1OhDItO04s+26VpjNJSX+RRxDFMeLNsL4vOMs64ANrFxUturs\n",
       "VhrF3YdCFGODQKy7PR/Le3q8oMLmOmJmGrJ/HeFlSAcMIy1zVUcu0sm/jtSmENd6s0DcEgFXeQjh\n",
       "NHfggutFVkisVFNj5ENqzElLRKShcDwPwE7ZzkqbmtXUUDOp4etDIVVzUyH2C0em1qCUMYJGOKbO\n",
       "M8dVOCUuTbUGJcyekfJTr554pSaZDwWHLzyhENKbksrwao0xYg/lKu3LPYNxht5EtXTqgzLK4fuQ\n",
       "pkr7kr1XadSn4DFij7tG3xNtGR6jaOeaVtMXNhxnElUxrQSWUki1ktGxlqajG+O63fmpKxhllju5\n",
       "XIV6FHGhODDnImLpoO8ENeLZdzcCNwK/LEbc+2v3zzO9GYT6S/O7GrSviZ5As2e1lPVtCjERpDSq\n",
       "na1cUAj1Ng2kAGJbkNZj7WwUAgAJPRWBFEAYAd9xSf17i7YHmH2nC4IoBPEH3wX9k9aHBPcAAAAA\n",
       "SUVORK5CYII=\n",
       "\" style=\"display:inline;vertical-align:middle;\" /></a></span></td></tr>\n",
       "</table>"
      ],
      "text/plain": [
       "<proveit._core_.proof._ShowProof at 0x7f94eaea7390>"
      ]
     },
     "execution_count": 1,
     "metadata": {},
     "output_type": "execute_result"
    }
   ],
   "source": [
    "import proveit\n",
    "%show_proof"
   ]
  },
  {
   "cell_type": "code",
   "execution_count": null,
   "metadata": {},
   "outputs": [],
   "source": []
  }
 ],
 "metadata": {
  "kernelspec": {
   "display_name": "Python 3",
   "language": "python",
   "name": "python3"
  }
 },
 "nbformat": 4,
 "nbformat_minor": 0
}
