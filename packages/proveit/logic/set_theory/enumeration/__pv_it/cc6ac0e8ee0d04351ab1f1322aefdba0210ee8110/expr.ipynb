{
 "cells": [
  {
   "cell_type": "markdown",
   "metadata": {},
   "source": [
    "Expression of type <a class=\"ProveItLink\" href=\"../../../../../../../doc/html/api/proveit.Lambda.html\">Lambda</a>\n",
    "=======================\n",
    "# from context <a class=\"ProveItLink\" href=\"../../_context_.ipynb\">proveit.logic.set_theory.enumeration</a>"
   ]
  },
  {
   "cell_type": "code",
   "execution_count": 1,
   "metadata": {},
   "outputs": [],
   "source": [
    "# import Expression classes needed to build the expression\n",
    "from proveit import Lambda\n",
    "from proveit._common_ import x, y\n",
    "from proveit.logic import Equals, InSet, Set"
   ]
  },
  {
   "cell_type": "code",
   "execution_count": 2,
   "metadata": {},
   "outputs": [
    {
     "data": {
      "text/html": [
       "<strong id=\"expr\">expr:</strong> <a class=\"ProveItLink\" href=\"expr.ipynb\"><img src=\"data:image/png;base64,iVBORw0KGgoAAAANSUhEUgAAAO0AAAAVCAMAAACdUpnJAAAANlBMVEX///8UFBQNDQ2YmJhUVFQy\n",
       "MjIQEBBEREQiIiKqqqrMzMyIiIi6urrc3NxmZmZ2dnbu7u4AAACrLjZHAAAAAXRSTlMAQObYZgAA\n",
       "AodJREFUWMPVmNuypCAMRZ3hJnf8/589aBtMEFqwTk3V5GV3W5pFJITgsvwbY4GR/yZGv/wH5izV\n",
       "EUtrvF0zUp8vwk1xZ1+zm6LUg+RUh8xujYtBwA8zwZ028D5EqU0kqkMW5deLYoL7YsQTlHqWLNVf\n",
       "iZbFYe6bXI7DlNpkotpYo1as2cREtEkOc18YeB+g1KVCUG2sL8HS7NwuSg9yXxl43zXFsE+x31Iz\n",
       "vzUZSIhUfbTcaxtKnnmV+oFRFIo2hqdS0+N1ppOCwkWJi9tI2VzpkxwPXzCiKftkK1tkeUY1d9Gz\n",
       "/FIUuwq1FtedyHjNvfPa91MQeM9q9BL2Z5XqRJs4CkA6ovF0qaG6J9XM7s/tNUqUGXVPS6rH66wm\n",
       "CgLvWfPMyT0vtpIcf/+sxOR2bczw89R92jkO0El4SqCdUhq4m6IUpIrZHqLt8TqJTEHg/VC9Z7fZ\n",
       "TGduF+6WXrTHa7ePPYA7w61QV4M1Gu2N1zMCItEei8peuVRFG/BKhG5PltrlD5eptIhNOBdo/QIK\n",
       "rdsrkwPOKnXj1rze/QTksB7LR/FOtIa8SsWIMv+pBLbQOWt2FytaqYBCNZk9bTBdXq9/wiDwfmjI\n",
       "F912jdLWawAPO2DV+SmVx+wt6v/dl62VoGZ2oC6vt2MREB50UtaGbez85Vas+cmYYrR4Pr1otN8Q\n",
       "GEGhaIUb4rZ4nTqFQeC9UOI62jl6qq0KwcW3zrGg5jrH+dMwgEjnyNf9hx508a7FPgOjqCvaaIe5\n",
       "Y0ZA4P3QfR9Q475enfiYLFvOhSrn2/TrJz4MAu8f1TnDJ871nlMd/HZhbygDfdnC/QR3yDAIvPNX\n",
       "X4agIPqpEyeLuvddypop7uyB3CD9AaIZHwr9JPKhAAAAAElFTkSuQmCC\n",
       "\" style=\"display:inline;vertical-align:middle;\" /></a><br>"
      ],
      "text/plain": [
       "expr: y -> ((x in {y}) = (x = y))"
      ]
     },
     "execution_count": 2,
     "metadata": {},
     "output_type": "execute_result"
    }
   ],
   "source": [
    "# build up the expression from sub-expressions\n",
    "expr = Lambda(y, Equals(InSet(x, Set(y)), Equals(x, y)))"
   ]
  },
  {
   "cell_type": "code",
   "execution_count": 3,
   "metadata": {},
   "outputs": [
    {
     "name": "stdout",
     "output_type": "stream",
     "text": [
      "Passed sanity check: built 'expr' is the same as the stored Expression.\n"
     ]
    }
   ],
   "source": [
    "# check that the built expression is the same as the stored expression\n",
    "%check_expr"
   ]
  },
  {
   "cell_type": "code",
   "execution_count": 4,
   "metadata": {},
   "outputs": [
    {
     "data": {
      "text/html": [
       "<table><tr><th>&nbsp;</th><th>core type</th><th>sub-expressions</th><th>expression</th></tr>\n",
       "<tr><td>0</td><td>Lambda</td><td>parameter:&nbsp;13<br>body:&nbsp;1<br></td><td><a class=\"ProveItLink\" href=\"expr.ipynb\"><img src=\"data:image/png;base64,iVBORw0KGgoAAAANSUhEUgAAAO0AAAAVCAMAAACdUpnJAAAANlBMVEX///8UFBQNDQ2YmJhUVFQy\n",
       "MjIQEBBEREQiIiKqqqrMzMyIiIi6urrc3NxmZmZ2dnbu7u4AAACrLjZHAAAAAXRSTlMAQObYZgAA\n",
       "AodJREFUWMPVmNuypCAMRZ3hJnf8/589aBtMEFqwTk3V5GV3W5pFJITgsvwbY4GR/yZGv/wH5izV\n",
       "EUtrvF0zUp8vwk1xZ1+zm6LUg+RUh8xujYtBwA8zwZ028D5EqU0kqkMW5deLYoL7YsQTlHqWLNVf\n",
       "iZbFYe6bXI7DlNpkotpYo1as2cREtEkOc18YeB+g1KVCUG2sL8HS7NwuSg9yXxl43zXFsE+x31Iz\n",
       "vzUZSIhUfbTcaxtKnnmV+oFRFIo2hqdS0+N1ppOCwkWJi9tI2VzpkxwPXzCiKftkK1tkeUY1d9Gz\n",
       "/FIUuwq1FtedyHjNvfPa91MQeM9q9BL2Z5XqRJs4CkA6ovF0qaG6J9XM7s/tNUqUGXVPS6rH66wm\n",
       "CgLvWfPMyT0vtpIcf/+sxOR2bczw89R92jkO0El4SqCdUhq4m6IUpIrZHqLt8TqJTEHg/VC9Z7fZ\n",
       "TGduF+6WXrTHa7ePPYA7w61QV4M1Gu2N1zMCItEei8peuVRFG/BKhG5PltrlD5eptIhNOBdo/QIK\n",
       "rdsrkwPOKnXj1rze/QTksB7LR/FOtIa8SsWIMv+pBLbQOWt2FytaqYBCNZk9bTBdXq9/wiDwfmjI\n",
       "F912jdLWawAPO2DV+SmVx+wt6v/dl62VoGZ2oC6vt2MREB50UtaGbez85Vas+cmYYrR4Pr1otN8Q\n",
       "GEGhaIUb4rZ4nTqFQeC9UOI62jl6qq0KwcW3zrGg5jrH+dMwgEjnyNf9hx508a7FPgOjqCvaaIe5\n",
       "Y0ZA4P3QfR9Q475enfiYLFvOhSrn2/TrJz4MAu8f1TnDJ871nlMd/HZhbygDfdnC/QR3yDAIvPNX\n",
       "X4agIPqpEyeLuvddypop7uyB3CD9AaIZHwr9JPKhAAAAAElFTkSuQmCC\n",
       "\" style=\"display:inline;vertical-align:middle;\" /></a></td></tr>\n",
       "<tr><td>1</td><td>Operation</td><td>operator:&nbsp;7<br>operands:&nbsp;2<br></td><td><a class=\"ProveItLink\" href=\"../ba0046e87362250c63c09bfeaf1a30de9ab2754e0/expr.ipynb\"><img src=\"data:image/png;base64,iVBORw0KGgoAAAANSUhEUgAAAK8AAAAVBAMAAADC7aNVAAAAMFBMVEX////c3NwiIiJERESqqqqY\n",
       "mJh2dnZmZmYQEBDu7u4yMjJUVFTMzMyIiIi6uroAAAAs73DqAAAAAXRSTlMAQObYZgAAAlxJREFU\n",
       "OMudVc9LFFEc/06zs864P1wwvIQ4TNQhCAoRugT+AYZTh44xiSQdFhahDka1iZdAZUiQLsIiiKgX\n",
       "I7p02kNE4GUvFZGLS6cIor14M+nzfrjuvHlvkR7szpvvfD6fee/7/XzfEBmG80hOPt6n/xvFhi7q\n",
       "Xe5MP40T3dNAfps1OXxP+6jQ7kz7avjVU4j8rlmYw7e0j7LV5LSWQvTHPdIAeKFxJuG7KUSzV34B\n",
       "dxMvXlsPrmiFX6e4L3sJA/4rkbeN2LBie1ytea2XMOCPcRn6fv4rz8hg3K3mzUQ0EgvhbEWtT0Rk\n",
       "ld/ceqq4SXIqtIGbyLnk+ix8PWGFbLFNB3A0M0iGL3Bum40dXruQaJXuhPMMzMPbzCaSA/gybmCu\n",
       "DDOId+3UvC2iD30+jWK+yXZeVVbsAhBBYyIZlhzAj6FHOaFYnA8CUby9RfzFboP+soRhV/m2IjwA\n",
       "4ZjeqsmVHMCP+esbqud/sh1MxvkjXFgTaoWJllJlExzAF9jdSJ1Y2Ty/8zzHcjpHharMsUjFbMDG\n",
       "Rb4WZhPrCNtFjnk44NsWHMDHwCwdUIH74d2px3yeXHtX2s1R3WWjeLfR+N+UuOAAPoPVhzdomEdf\n",
       "tRLmfUJ/QjLYDYHMoV211MaVnAr9IFr5sloOedTarHcLrzSfl+S0v6U2iE/ezYcPPqs5FhzA3VJ3\n",
       "OPM+2dJT5pZ+Yeq6KQF3IuMhlPO9hRPhsu6c0QzJKRuPTQdq5yI7kk3onfXYFBwOv6AV9q4iL81n\n",
       "J02YK6UQlvagFxwOt/QHsjPd/c3b1yCGzYcb4P8AscihcIedxXgAAAAASUVORK5CYII=\n",
       "\" style=\"display:inline;vertical-align:middle;\" /></a></td></tr>\n",
       "<tr><td>2</td><td>ExprTuple</td><td>3, 4</td><td><a class=\"ProveItLink\" href=\"../7f4934644fb8b70eef077c2974f2b592178135270/expr.ipynb\"><img src=\"data:image/png;base64,iVBORw0KGgoAAAANSUhEUgAAAJAAAAAVBAMAAABbFXrgAAAAMFBMVEX////c3NwiIiJERESqqqqY\n",
       "mJh2dnZmZmYQEBDu7u4yMjJUVFTMzMyIiIi6uroAAAAs73DqAAAAAXRSTlMAQObYZgAAAfxJREFU\n",
       "OMtjYMABWEshNE+aAANxgO8CNlFONRiLp4WwGawPgMRprFK8H+DMKiJcUwPEK7HKsDXAmRlEGMQF\n",
       "tPoCNQxiTWDgmIAcMreUlBaQYxBnA8MrZP6pSDJdxGDCUAYkxW6LXAf5kNESxWvTyhgYfyIbxJi7\n",
       "0bcWzQSoonSGpUB3JbCqcigABZkRSYYd6MOE9+DIi0doYggKaAJH5CoQWA1iQhV5MfQBbQcyWQ4A\n",
       "BScjLDrxgIHHoYiB2QAYIwUwwQSG+ww+qA6CKXrB8A/oIgZuA7DoCyUlaGCf7gEJ9zLwg3xsFQDV\n",
       "NYFhM0YoQxWdBxnEwMABSQNIafMF0IUsPxnOAymmBIRwL0YoQxWdZwBnAPkDDKBUMAkhz70AHE43\n",
       "GJDDiIHxD9AJQFAEcrqSMjQwQYpeMJgCU5PAfQZekEHcAYhYUwAHjjU8+kHygcBgvYmepiGKooDx\n",
       "xuAfYMEgC/awHkr0s2/g+woziPMT0BdfmRsY0TMCVFE6wyNgZF2blgtxi1QNskGcttc/wg3qFwDy\n",
       "M9OuYoQ2RNE6Bg6U4sZ7EUoWAXkQ6jU+nMUSSBEwi7Am4My0mxhmOMANYsVhDEQR2wVcxQgr0CA1\n",
       "BjNEeYTLIIiiWUAsjT076zIw+F4HFXw8fWCBCzgMgijaCEob2JWwppBQZvMeYAAAM0aD3UyDuo8A\n",
       "AAAASUVORK5CYII=\n",
       "\" style=\"display:inline;vertical-align:middle;\" /></a></td></tr>\n",
       "<tr><td>3</td><td>Operation</td><td>operator:&nbsp;5<br>operands:&nbsp;6<br></td><td><a class=\"ProveItLink\" href=\"../dfa7245ca3101bcab340dec960ee18f167b240720/expr.ipynb\"><img src=\"data:image/png;base64,iVBORw0KGgoAAAANSUhEUgAAAEQAAAAVBAMAAAAN71XTAAAAMFBMVEX///+6uroyMjJERETMzMwQ\n",
       "EBAiIiKYmJju7u5mZmaqqqpUVFSIiIh2dnbc3NwAAAAWgogoAAAAAXRSTlMAQObYZgAAARNJREFU\n",
       "KM9jYMAG2KdDGb73GLADjlw403UBdiU8H+BMTgXsSngDsDGJVNKjlpaEXwmLegMOU96efnXyAIj3\n",
       "uAFZnOPmBYb3DRDmBfZ01gSQhB2KN3gZPzCcB4YQ0HO8QC9yOYACwwARGAIMDF6cCQzGQLYmUIaB\n",
       "GyLHGJaWBnGudwiQaGA9wPAHSDOrAwnWAxDXboCbIgoydX0DyxcgBQ7o9w4MIIdyJMCVcIOCdBID\n",
       "TwDELewPzjPwgP2yHeHTBLAjmDdAPLe+wJThDViiTQAlMGYzyBdAmM1ne+8UgCX4NB2QlTSfmf8A\n",
       "IwK4NqFGwDUC0cidwBGFRwk7UJztAvMFPOmFIwdo65mJsIDGbswtpLQLAHbMQ8XDEKjoAAAAAElF\n",
       "TkSuQmCC\n",
       "\" style=\"display:inline;vertical-align:middle;\" /></a></td></tr>\n",
       "<tr><td>4</td><td>Operation</td><td>operator:&nbsp;7<br>operands:&nbsp;8<br></td><td><a class=\"ProveItLink\" href=\"../11c10f4bba158f3c28c22f8b0eddbb73cf6480560/expr.ipynb\"><img src=\"data:image/png;base64,iVBORw0KGgoAAAANSUhEUgAAADMAAAANBAMAAAD2/0vEAAAAMFBMVEX///+6uroyMjJERETMzMwQ\n",
       "EBAiIiKYmJju7u5mZmaqqqpUVFSIiIh2dnbc3NwAAAAWgogoAAAAAXRSTlMAQObYZgAAAKRJREFU\n",
       "GNNjYHh7+tXJAwwogOPmBYb3DQwcF9jTWROAfE4lMNgAZPIyfmA4D6QYeD5wOaDq8uJMYDAGambg\n",
       "NmBAAw2sBxj+gBisB9ClGNY3sHwB0e8dGBpAdqWBAdiISQw8AQwM7A/OM/A0oOnSZGAGOmd9gSnD\n",
       "G3QDZzPIFzAwNJ/tvVOALtV8Zv4DBlzgGg5x7gSOKBxSbBeYL+CQ4jozEUgCABYeKl4jfnQmAAAA\n",
       "AElFTkSuQmCC\n",
       "\" style=\"display:inline;vertical-align:middle;\" /></a></td></tr>\n",
       "<tr><td>5</td><td>Literal</td><td></td><td><a class=\"ProveItLink\" href=\"../../../membership/__pv_it/088cbc857536a28d4119ad9639a84270ccb0545d0/expr.ipynb\"><img src=\"data:image/png;base64,iVBORw0KGgoAAAANSUhEUgAAAAwAAAAMBAMAAACkW0HUAAAALVBMVEX///+qqqpmZmZUVFQQEBC6\n",
       "urpERETc3NyYmJjMzMwiIiIyMjKIiIju7u4AAACYsrA9AAAAAXRSTlMAQObYZgAAADxJREFUCNdj\n",
       "YOA9vWrVBgaG2b0MQMCeCyIZ2ArA1DUwyRCyahVIyWQI7xaEYm4AU7xLIdxqTQgtvGvVBgCkcQ7e\n",
       "geM/tQAAAABJRU5ErkJggg==\n",
       "\" style=\"display:inline;vertical-align:middle;\" /></a></td></tr>\n",
       "<tr><td>6</td><td>ExprTuple</td><td>10, 9</td><td><a class=\"ProveItLink\" href=\"../091fae42a77b881f2cf7f95eb2cb22ff56aba1e70/expr.ipynb\"><img src=\"data:image/png;base64,iVBORw0KGgoAAAANSUhEUgAAAEEAAAAVBAMAAADrxp6XAAAAMFBMVEX////c3NwiIiJERESqqqqY\n",
       "mJh2dnZmZmYQEBDu7u4yMjJUVFTMzMyIiIi6uroAAAAs73DqAAAAAXRSTlMAQObYZgAAAVlJREFU\n",
       "KM99kjFLw1AUhY+mL80zTckgLiLNopsgiODYf2AmR4kidCq46KCgGTqKBgrimEXEzZ+QQYrQJZMO\n",
       "WlqcxMXgrOJ96ctL4pBA8g6Xj3vvOXnAv4cdSjHYzUrNuAjwFSUf28COEMNSCytRsh7SG5G4KxG6\n",
       "X5ZEWXElsQ0YQSVxDXygktDaOKJj4WX+Oc7LvOOhFUwJ/QA3VPHYsuHkBvRmgjElI2zVQlxQhTzW\n",
       "IhnCBHioO1gnfSvS8vFLPWCuydnDc/oERowfsQP1bySCIEPK8rvotRU0vukQ8RLRE/VWBGnapD1w\n",
       "DMuXe9CUDZL2GFYwZXQnXUC7l25ZiA41dTexBP6lQjjBpwvl9g3oP111XfBLOyP6ozNbyrkJDFtd\n",
       "AzvPdK+QOvPU3cmmmA7vZUS3+PdTglF51tM8GS8X1hYzIs2Er1LSo9MsXlNMnilfELZfvKevwB8r\n",
       "uFcIm8Mx/gAAAABJRU5ErkJggg==\n",
       "\" style=\"display:inline;vertical-align:middle;\" /></a></td></tr>\n",
       "<tr><td>7</td><td>Literal</td><td></td><td><a class=\"ProveItLink\" href=\"../../../../equality/__pv_it/2fb26078095930560931daa0500ce419a39ea6cd0/expr.ipynb\"><img src=\"data:image/png;base64,iVBORw0KGgoAAAANSUhEUgAAAA4AAAAFBAMAAACHocAhAAAAFVBMVEX///9EREQiIiJUVFQyMjJm\n",
       "ZmYAAADubVkoAAAAAXRSTlMAQObYZgAAABRJREFUCNdjCHEBAWcGXCBICQQUAUpuAwlgGKrkAAAA\n",
       "AElFTkSuQmCC\n",
       "\" style=\"display:inline;vertical-align:middle;\" /></a></td></tr>\n",
       "<tr><td>8</td><td>ExprTuple</td><td>10, 13</td><td><a class=\"ProveItLink\" href=\"../a6a2ac9310c73e21661c7634808321702fb219240/expr.ipynb\"><img src=\"data:image/png;base64,iVBORw0KGgoAAAANSUhEUgAAACwAAAAVBAMAAADP3xFXAAAAMFBMVEX////c3NwiIiJERESqqqqY\n",
       "mJh2dnZmZmYQEBDu7u4yMjJUVFTMzMyIiIi6uroAAAAs73DqAAAAAXRSTlMAQObYZgAAAQtJREFU\n",
       "GNNjYMAB+C6gi7A+ABKnMVXWAPFKTGEuBgbeC5jCrAkMHBMwhTkbGF5hc4YJQxmQFLstch1i1rQy\n",
       "BsafDAzpDEuBehJYVTkUwMIJ7xl4PzAweDH0MTCwAZksB0CiPA5FDMwGDAwvGP4BVTNwG0DtYuhl\n",
       "4Acadx4kzMDAAXMly0+G8wdAwi0gnvwBBog72Rcw3GAAGWIKdL3AfQbeCWAJrgIGayAVBXQLg3+A\n",
       "BYMsA+cnkOoNfF8ZQA58xMAw+dq03AAGzn4BoJ221z8ChdcxcAjAQxjMYlMAex4YLLAAAuJNDDMc\n",
       "gFIXkAIWJKzGYAYkZwGxNEwY5Hbf66CY2QjEjBgBznuAAQAt5DtyKXSr1gAAAABJRU5ErkJggg==\n",
       "\" style=\"display:inline;vertical-align:middle;\" /></a></td></tr>\n",
       "<tr><td>9</td><td>Operation</td><td>operator:&nbsp;11<br>operands:&nbsp;12<br></td><td><a class=\"ProveItLink\" href=\"../0dd9e34527747e71f1c62f81d6036a14b016b7eb0/expr.ipynb\"><img src=\"data:image/png;base64,iVBORw0KGgoAAAANSUhEUgAAAB0AAAAVBAMAAABI7vhRAAAAMFBMVEX///9ERETc3NyqqqpUVFS6\n",
       "urrMzMwyMjIQEBCIiIh2dnYiIiLu7u5mZmaYmJgAAABJJ2g3AAAAAXRSTlMAQObYZgAAAKlJREFU\n",
       "GNNjYGDgu8cABmyrFEAUzy4GKGBrBpGcH2B8husggqsBzl9BLv/ULQamP1A+bwEDw4J4sDXvQfyM\n",
       "AAY2g9sMjAIMDOwXGBhS2oBOYuhk4J8AlBN/wMAQkcDAwPyHIR9IcS8AirEUgM2YwQDVz7UBrFEE\n",
       "2T5eB9Z/yHweybmfUN0H0oXgezOcMIDx+YD8XQxScP/z7GRgsJwbAAqfVrCv+BYjhR8AhFYukUvA\n",
       "dnQAAAAASUVORK5CYII=\n",
       "\" style=\"display:inline;vertical-align:middle;\" /></a></td></tr>\n",
       "<tr><td>10</td><td>Variable</td><td></td><td><a class=\"ProveItLink\" href=\"../../../../../__pv_it/530be409e3083890784cf1d7b28c9e67e90af9360/expr.ipynb\"><img src=\"data:image/png;base64,iVBORw0KGgoAAAANSUhEUgAAAAsAAAAJBAMAAAAWSsseAAAAKlBMVEX///9ERETMzMwQEBAiIiKY\n",
       "mJju7u5mZmaqqqpUVFSIiIh2dnbc3NwAAAA/vyDhAAAAAXRSTlMAQObYZgAAAENJREFUCNdjYDi9\n",
       "8sTyBQxsG1hdmR0YuBm4LnAoMLAxcAowgADzAjB1VoEhgYH1wFoGrgSG3gBhhlMMDImrs3cFMAAA\n",
       "t0YN+iTRa+sAAAAASUVORK5CYII=\n",
       "\" style=\"display:inline;vertical-align:middle;\" /></a></td></tr>\n",
       "<tr><td>11</td><td>Literal</td><td></td><td><a class=\"ProveItLink\" href=\"../07381ed5b23806e8d7914b78cb6667769e3708dd0/expr.ipynb\"><img src=\"data:image/png;base64,iVBORw0KGgoAAAANSUhEUgAAAB4AAAAOBAMAAADKyLEKAAAAMFBMVEX///8iIiIQEBCIiIjMzMzc\n",
       "3Nyqqqp2dnZEREQyMjK6urru7u5mZmZUVFSYmJgAAACI6eGPAAAAAXRSTlMAQObYZgAAALRJREFU\n",
       "CNdjYGDgu3Nm3wIGBJjHwN0PZW5yYGDgLWBgyITy8zcwMMQDxZyh/INAvD6BgcEFypcB4vjPDiBm\n",
       "TPFRrhs/LjMwMP//38rAwCbKEMPA9gEkE3fp0waG+AUMRxh4JkC01T9guPTOOICBEWgVH5C//wHD\n",
       "H5D4fqCz9oCMDGD4DLaegRXslLMMDMpAgxlOMmQxHDRgYG5gYLBk4D7KcIe7gOHC2rt9QCXsh40Z\n",
       "GCKMGQDRkC8N/Ph1XAAAAABJRU5ErkJggg==\n",
       "\" style=\"display:inline;vertical-align:middle;\" /></a></td></tr>\n",
       "<tr><td>12</td><td>ExprTuple</td><td>13</td><td><a class=\"ProveItLink\" href=\"../e4c9c31c4dd925da36852c7d3895fcaa012158bd0/expr.ipynb\"><img src=\"data:image/png;base64,iVBORw0KGgoAAAANSUhEUgAAABcAAAAVBAMAAABfzGiYAAAAMFBMVEX////c3NwiIiJERESqqqqY\n",
       "mJh2dnZmZmYQEBDu7u4yMjJUVFTMzMyIiIi6uroAAAAs73DqAAAAAXRSTlMAQObYZgAAAMFJREFU\n",
       "GNNVj7EOwXAQxn9UKUq6G3gHsXsDJqM0lk4Sk4GEDmZpYjF2EbF5BIPN0gfQEKNFHwBx/2olbrjL\n",
       "7/Llu/vgr6rBd/ZVOyXLwkHaLpX4UAlS6IHhpbCG+89JazOGomNT98iP2EC+GnGBnM8SjoUGTTno\n",
       "8gbPCHiBGSmg45nPGBYCEypuLGsJbNH2oPs4AlMeXZT1TWAVzi0oXTEsdX3wfUe3KTeKymYYR8ja\n",
       "mi1PSQRq5MKZzLLSZ5JAZ/gAdAsqXS4lbPIAAAAASUVORK5CYII=\n",
       "\" style=\"display:inline;vertical-align:middle;\" /></a></td></tr>\n",
       "<tr><td>13</td><td>Variable</td><td></td><td><a class=\"ProveItLink\" href=\"../../../../../__pv_it/f8b9edf8e16034727f0aad55bb83e392c3db40d40/expr.ipynb\"><img src=\"data:image/png;base64,iVBORw0KGgoAAAANSUhEUgAAAAsAAAANBAMAAACN24kIAAAAMFBMVEX///+YmJhUVFQyMjIQEBBE\n",
       "REQiIiKqqqrMzMyIiIi6urrc3NxmZmZ2dnbu7u4AAADXeCicAAAAAXRSTlMAQObYZgAAAFhJREFU\n",
       "CNdj4LtzgWH/AwZerg8M8xkY2nkSGEIZGB6wTGD4ycDAUP+A4weQOszA6QCkbBhYFYDUIYb1AkDq\n",
       "6czzGxhA4BoQMyXwuQMptgusF4AU+8xTQBIAUqMVoSp/SLMAAAAASUVORK5CYII=\n",
       "\" style=\"display:inline;vertical-align:middle;\" /></a></td></tr>\n",
       "</table>\n"
      ],
      "text/plain": [
       "0. y -> ((x in {y}) = (x = y))\n",
       "   core type: Lambda\n",
       "   parameter: 13\n",
       "   body: 1\n",
       "1. (x in {y}) = (x = y)\n",
       "   core type: Operation\n",
       "   operator: 7\n",
       "   operands: 2\n",
       "2. (x in {y} , x = y)\n",
       "   core type: ExprTuple\n",
       "   sub-expressions: 3, 4\n",
       "3. x in {y}\n",
       "   core type: Operation\n",
       "   operator: 5\n",
       "   operands: 6\n",
       "4. x = y\n",
       "   core type: Operation\n",
       "   operator: 7\n",
       "   operands: 8\n",
       "5. in\n",
       "   core type: Literal\n",
       "   sub-expressions: \n",
       "6. (x , {y})\n",
       "   core type: ExprTuple\n",
       "   sub-expressions: 10, 9\n",
       "7. =\n",
       "   core type: Literal\n",
       "   sub-expressions: \n",
       "8. (x , y)\n",
       "   core type: ExprTuple\n",
       "   sub-expressions: 10, 13\n",
       "9. {y}\n",
       "   core type: Operation\n",
       "   operator: 11\n",
       "   operands: 12\n",
       "10. x\n",
       "    core type: Variable\n",
       "    sub-expressions: \n",
       "11. Set\n",
       "    core type: Literal\n",
       "    sub-expressions: \n",
       "12. (y)\n",
       "    core type: ExprTuple\n",
       "    sub-expressions: 13\n",
       "13. y\n",
       "    core type: Variable\n",
       "    sub-expressions: "
      ]
     },
     "execution_count": 4,
     "metadata": {},
     "output_type": "execute_result"
    }
   ],
   "source": [
    "# display the expression information\n",
    "expr.exprInfo()"
   ]
  },
  {
   "cell_type": "code",
   "execution_count": null,
   "metadata": {},
   "outputs": [],
   "source": []
  }
 ],
 "metadata": {
  "kernelspec": {
   "display_name": "Python 3",
   "language": "python",
   "name": "python3"
  }
 },
 "nbformat": 4,
 "nbformat_minor": 0
}
