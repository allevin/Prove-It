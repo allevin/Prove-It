{
 "cells": [
  {
   "cell_type": "markdown",
   "metadata": {},
   "source": [
    "Context: <a href=\"../../_context_.ipynb\" class=\"ProveItLink\">proveit</a>.<a href=\"../_context_.ipynb\" class=\"ProveItLink\">logic</a>.set_theory\n",
    "========\n",
    "\n",
    "Basic set theory context dealing with membership (e.g., $x \\in S$), enumeration (e.g., $\\{e_1, e_2, e_3\\}$), containment (e.g., $A \\subseteq B$), unification (e.g., $A \\cup B \\cup C$), intersection (e.g., $A \\cap B \\cap C$), subtraction (e.g., $A - B$), comprehension (e.g., $\\{f(x)~|~Q(x)\\}_{x \\in S}$), and cardinatly (e.g., $|S|$)."
   ]
  },
  {
   "cell_type": "code",
   "execution_count": null,
   "metadata": {},
   "outputs": [],
   "source": [
    "import proveit\n",
    "%context"
   ]
  },
  {
   "cell_type": "code",
   "execution_count": null,
   "metadata": {},
   "outputs": [],
   "source": []
  }
 ],
 "metadata": {
  "kernelspec": {
   "display_name": "Python 3",
   "language": "python",
   "name": "python3"
  }
 },
 "nbformat": 4,
 "nbformat_minor": 0
}
