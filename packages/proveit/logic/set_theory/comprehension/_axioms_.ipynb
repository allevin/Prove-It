{
 "cells": [
  {
   "cell_type": "markdown",
   "metadata": {},
   "source": [
    "Axioms for context <a href=\"_context_.ipynb\" class=\"ProveItLink\">proveit.logic.set_theory.comprehension</a>\n",
    "========"
   ]
  },
  {
   "cell_type": "code",
   "execution_count": 1,
   "metadata": {},
   "outputs": [
    {
     "name": "stdout",
     "output_type": "stream",
     "text": [
      "Defining axioms for context 'proveit.logic.set_theory.comprehension'\n",
      "Subsequent end-of-cell assignments will define axioms\n",
      "%end_axioms will finalize the definitions\n"
     ]
    }
   ],
   "source": [
    "from proveit.logic import Forall, And, Equals, InSet, SetOfAll, Exists\n",
    "from proveit._common_ import k, l, x, S, f, y, fy\n",
    "from proveit.logic._common_ import yIter1l, f_yIter1l, iterQ1k, iterQ1k_y\n",
    "from proveit.logic.set_theory._common_ import generalComprehension_fy\n",
    "from proveit.number import Exp, Naturals, NaturalsPos\n",
    "%begin axioms"
   ]
  },
  {
   "cell_type": "markdown",
   "metadata": {},
   "source": [
    "**Define general set comprehension as any mapping $(x_1, \\ldots, x_l) \\mapsto f(x_1, \\ldots, x_l)$ of the elements of a subset of any set $S$ where the subset is defined by any number of conditions $Q_1, \\ldots, Q_k$:**"
   ]
  },
  {
   "cell_type": "code",
   "execution_count": 2,
   "metadata": {},
   "outputs": [
    {
     "data": {
      "text/html": [
       "<strong id=\"comprehensionDef\">comprehensionDef:</strong> <a class=\"ProveItLink\" href=\"__pv_it/07c85cc485cb3afaa795ff934025fb2c189998d40/expr.ipynb\"><img src=\"data:image/png;base64,iVBORw0KGgoAAAANSUhEUgAAAnYAAABABAMAAABlxidTAAAAMFBMVEX///8QEBC6urrMzMxUVFRm\n",
       "ZmZERETc3NwyMjKqqqp2dnaIiIiYmJgiIiLu7u4AAAAU9Wx4AAAAAXRSTlMAQObYZgAADTNJREFU\n",
       "eNrVnA+MFNUdx3/7///coq2IIrekWkkMuSUBRRq7q7bS1CgoohYlLLQ9RGlZU1qoBtmY/k2BWy2m\n",
       "XKi5qwk19CIsFoiKKeuftkYTOVrRhnrcQiihKt5xKAcCt32/N+/NvJl5M7fQY/b2JTs7s+/3dt98\n",
       "5v35/b7v3QHUJ8XK0DjpcOUCCnmr1VMjCaykne5sIHTgLWinV7P3YLV6ephCp9ufHsE6bNDOIt2N\n",
       "xE540v7ZjEx7+3Ds+keyBr6x2unBdEOxC+sjzIfa2Tg32SX0Gny/odBBaFA7zeTrwu5+/XuHGosd\n",
       "3KOdBQr1YOc7ofeB2Q3GbrXW2pQr68EunJU0/EYZ8PSHvbtSB3YdOrD5djbxB52+IXLxkc94Xl4v\n",
       "HYSnsw7s3tdPr7QxUfaLV9exeqf4B9GUIetvY87dJ9SVOY+vO9civrB5X15eipacUpRWTHdIokPu\n",
       "s/MOyEY+k/Os/t7h7Xh3Pt7H51jY0azXxkOkqk/dU/lg7uj+xMeUoeMsSEvRkvpcYEj7dIxn3GcX\n",
       "TJoRWVNUtXm4A5GE+cAStrDDLP8pcujQn8I6flJwqsUsYhappuWlCnoVzOkO/XSh++z69OE22O3I\n",
       "Thn4L77t0tpKp5kdZi2YQA5Nn1vjvbcdKhE4jg+kOlte6m17druFcTvlOrs9+sNO5IyDyUs9PQWB\n",
       "XUT91QlaftLMbgKw7uo5pw3hWrx+0Gm+ot21uVte6qA9uxa99n1Z19kt00+bjO7d9HeN7S7QbQrA\n",
       "l5jYYVbiOP2m49xmkt6qi/aV6KU/UE3KS+HLhl1G/9Jw0m12ykmh+9Ke8tj2n+7Ak9APjX02fvN7\n",
       "yDZAeupH8yBEprVNJnaY1UJ7a5/W7uaRn9jUCasrEJ3toAthnlLtlpeiLzm7Pl0Cig24zc57RvDS\n",
       "sbspnfEPPXgTwbwp4Gkq8fi7s4XOKxtM7DBrAb2DFm28W0OySXXJuBSxnywC1ZRGUFIKX3H5LTd1\n",
       "6l7CF26zCwh+SQbZRQmWCI4iR/SMKRTOajq2eFLgK86HIBkbJ5rYkSzopW7WAuJ3XU8/uwTgRtLZ\n",
       "W0mlk/ZqRLVCCRZhW6ekFC35czk7oTGfcptduN80eCjgV6eMiT09bK6Yeqk6oKu1TRGTK2kjzJjY\n",
       "kSxopoTIcZrqPpBmWPGUgLRun32lPcf5MZGSlKIlg2uGY9frNrumbsvA6ykZ3FPESFvcCxqgyBBk\n",
       "0nJ2vfh9cdKC4FlOAToq6HU7sEvQ4XEPaax9FUkpWnL/sO1uVtpldqtzpj5L+ybewTE9w0+b3/dU\n",
       "skU6/m0DSZ8lWbP6I79I930GnN04KnLFko591l+FDd9VqsTJmAySUvgyjXe+eV1vmNntLrvMrqNT\n",
       "4IgNLp7fDTFk59fjqmi3Hu0Gy1S+QJBvmdhhVub09coHvVmN3VI6VAXJB3F8ABU6KvADv/JVf5s7\n",
       "tgqBb/LurFhK4cs0z17DGAhzBb+VcVAZjl1lZNjtLpsmrY7yQnic3t0/jD6KovoA6DAEsl50Zs0+\n",
       "CmbFq0ugeTxo7DZRhbKlrOYq2Dn7utlBv9pzsug5jjVZ83Rf3lLK6KN8PPdBAFIop7kGvNvkGDv6\n",
       "pN9xYOdoUHualRKGbOwAR175qEut0Mo5BnZMVPbiTT+yA9XuJ82+Mdbpx3vXniKTNWeHnfDIrgUE\n",
       "SJhYKc3k5CDeIx6Uy/AEvyk0//LeApBH93laUgpfGrvYoic+BYXUpWzyjdWngOw2GyJiCTtHg/MI\n",
       "KwR5I2yMyWD9WjEmizH/bCzvxdaYjC0atb1+r8bOk+fTDI3JvFap71r242evyYFv/BpJKR6TeXeS\n",
       "YO2v1GDvcxbxEZqSjN1P8GnkHNg5GtSeeoUfDyQdtIA3g2UtOr8DDmKYVDKzY+F+G10jfZYLBv5u\n",
       "BcfvLnpp/XL2teEqmZxjuSk+a6kuVoWPm/JTmBzzn2ZVudsqejr9jB3KOYGiAztHg9pTszBuRuyW\n",
       "euKk4pcf04Wm/fAwOTkq1aDQM67mNHakayQ6g6Q3KgVndoEqiQ6DpZtillK0JIY2T0yGnT42OYRu\n",
       "pm8PiZ7OEGMXf37FilVOc4WjQe2pKldhTUHvv0mb4lpwKAsbdyCtmRZ2IVXKWIUR2WNtD9CL5RDZ\n",
       "dTdO27SBl6y6Ki/bS0bbcD74oqUULUlDm2/D7b73W1sfgUNkdKN2Z0Q3f5D7KCdbW/c7+ihOBhfG\n",
       "zibuweayWbh4nN20NlLGUqYsMYUYrj+fV7XEUvhS1ysugUsV+njaWcjnGxTZneDsbgVYDDy+k7FT\n",
       "DWDan15Nq2Lbl2Sq9sdr994qNKBvmh68YmD3GozudCm5cdra71XvnTmeXK4a4Oyupv08wR/p9Lmp\n",
       "2JcrIjvVwDsbWvCjpxbDkQHrr0UuyyvLdDck8IpJCFKOGxSd1Ohmt35nAY5gHefMnUuHAE9Zyi5B\n",
       "93PR+E7ZMbccz22BLYZ2pxokSBlkRAba0DlJ2EBG7dX6w0mY4RjZRXOjGl0o7yfd5o9kvOPpKZCy\n",
       "i5UTFRbf7bz200r8nYCJnWpA4OLc1YdzTNUSayj4UZM+fTZVHNkpJ0Y1u2DnJNMnHxqyT3N2SmEq\n",
       "i+/i2M/iN95QMrJTDRJX0Ka0FYfQqsXxjGKM2KQNqPFldO7rumV7WsoOXhrV7CK7TKN/vFve7mDx\n",
       "LSy+o2t58fSWN4zsVAPlLtR7oLmIETXAnSZhDB9Fph++xa5p9B6t3OYpytmFy9BI6dG8DbtnECrG\n",
       "dzNUdtHonUZ2z6jUlydZkyONbMZYk7w1qLbJZ9g1jd69sMbGRwHlnw3F7tfGB6+zQwmSxnc3tba2\n",
       "luLp0LsHjOzQQEmB0s+GOg8ZrT4wscOhrjkN32HXS9W3QTt2sLKRdvP4jQ6X7t9BnOCg8d1htd3B\n",
       "V/5iZIcGkSL4cHJs+/ptqQUlC7vwicOLAsT3PnBdlq8DoEeZ9NmxC6UaiN0hk/o8aNA+aXxHYxLC\n",
       "Lr7Fqn0GchDMh34JmX2p91BS+wCbTmgdrKzgIe87d3diFhnDxj9RxiaF0s3KfCZaiOpawLA64A96\n",
       "RllbnNwjDRjAM2RgR+M7ZRE5m0QOWQm7aXPvA99ZEhr/61SlSNllyiRSyeTxUIblV7Wti4D3N1mq\n",
       "qPuS+Hbk5Qe0pwBtw4IZfdu3Q1npx039BnbM0yDjnTUmE+dqqmLuyKp9tmyQKPxn7iGu4LoyXlFv\n",
       "p2yrfTY4u76khJ08nhXSDXjYTebar11Bxj+tJdGzWHWQ9PquFLkKv5kGIVsVwIo1sFtB0kXsuN6S\n",
       "c76w4Y9u+rNht7pwIexoU3p0nNAI9bPQmCK/CnRZFbQ9pRrYfYOkCReP3VS7DMmGvzn27FqyF8Lu\n",
       "/0gt2Rr77OKLx8525UCy4S9sz441A/fY9RXqzi5m1/RlG/7wZcNuQcpldp7+urPz2LlJsg1/+LJh\n",
       "t6ziMjv/YN3ZTbLLkG74W2LLbgy4zC5+emTZhahCE3Ey+REYTeaBvunPUDXphr9NduxCn7nNLvS5\n",
       "7IH/iqYsZ/dCT0+PoX0yoR+86qUg7D+mekdmz19YEgh1mkzWCJv+7qc//DPm7Mo2/G2wY8dbgYt7\n",
       "Zq+6gHbHhX4qWRuF/Zz69pzpS4QlgSCYTC4RNv0ZHTbZhr+Jduz8Q66z21o5L3ao/3Ohnx8FYT/C\n",
       "Ot5R06gvLAlsBJPJgLDpz5CkG/4yduw8BdfZZcrnxQ71fy70M3aisM832vqNjUhcEuANWDMZ4IKa\n",
       "OUk3/Nmyy5RcZ5eQOHiBHppyRnbX5WACjYi50M/YicK+B6iZ2WcTlwSSZpNxrH8i2vn0h9mfaUk3\n",
       "/Nn2Wd6BXGQXG6yx3SmlQV9S/VseJvQzdlzY95PKTwdqBl7j7fElAZwjCmaTpcKmP0OSbvh7y47d\n",
       "ZeA6O+WLGtmFDnXHcjPYh8uTOjsm7Pv+kMdFY2qGhMTElgT85FOCzGSySdj0ZwwrVBXJuOHPzkeJ\n",
       "nHCfHdw1PLu1pB8Ngb/TX6L6Pxf6OTsm7CcIoPVAzSzsKnRJIEIwRLJmk8nipj/xLqUb/p60YRcs\n",
       "1IFdX7lG/c6T8qSp/s+FfsaOC/vI7quqGXiN0yZbEsB9W5hjNPHYyFvSDX+2MVkmVQd20WSt7NIt\n",
       "qv5PhX6dHRf2kd0x1QxDdk3715cEEoe2g9Ktm+ghviTJN/zhS8quFerADvbXyC5y+0Oq/k+FfsG/\n",
       "U4V9yi5RoWYQSOnav74k4Pn7JwAHQDNx1KDkG/6O2mhQ3sG6sGvJ18ZuBdxu1v95jIDCPmUXK6pm\n",
       "YRDEfW1JYNJ2cvIy6CZs4pH+rnzD30wbdvo/KnGVXbRQG7uHvRZDzg6Ffd+2zWQ4yqlmG0VxX1sS\n",
       "eDX8Cf1bK27C4QyjXQsb/uimPxm7e6Eu7Gh/qIHdxlfAjp0m7MPvVbOsKO7TJoFLAjOjL5IOW9ZM\n",
       "LlS/sBb1HqiZ3cj+L61jKafcHof1Wb9VzaCRVtQpSH4DhjVxTJN7rOxWsToO/7+0lPYR/V9aSmP9\n",
       "FyhZWsFbVXv77/4Hkb9+3pP+Wd0AAAAASUVORK5CYII=\n",
       "\" style=\"display:inline;vertical-align:middle;\" /></a><br>"
      ],
      "text/plain": [
       "comprehensionDef: forall_{k in Naturals} [forall_{S, Q_1,...,Q_k, f, x} ((x in {f(y) s.t. (Q_1(y) ,  ...  , Q_k(y))}_{y in S}) \\\\  = [exists_{y in S | Q_1(y) ,  ...  , Q_k(y)} (x = f(y))])]"
      ]
     },
     "execution_count": 2,
     "metadata": {},
     "output_type": "execute_result"
    }
   ],
   "source": [
    "comprehensionDef = Forall(k, Forall((S, iterQ1k, f, x), \n",
    "                                         Equals(InSet(x, generalComprehension_fy),\n",
    "                                                Exists(y, Equals(x, fy), \n",
    "                                                       domain=S, \n",
    "                                                       conditions=[iterQ1k_y])).withWrapBeforeOperator()),\n",
    "                          domain=Naturals)"
   ]
  },
  {
   "cell_type": "markdown",
   "metadata": {},
   "source": [
    "NOTE: Comprehension defines a subset of some set $S$, and a \"universal\" set must not be allowed.  Otherwise you could define Russel's set,  $R = \\{x~|~x \\notin x\\}_x$, which results in paradox upon asking whether or not $R \\in R$ (if it is, then it cannot be; if it is not, then it must be).  But if $x \\in S$ can only be true if $S$ is a \"proper\" set (the universal set is not a proper set), then this can be avoided.  Comprehension can then only be used to define a subset of a \"proper\" set and Russel's set cannot be defined without additional axioms making improper definitions."
   ]
  },
  {
   "cell_type": "code",
   "execution_count": 3,
   "metadata": {},
   "outputs": [
    {
     "name": "stdout",
     "output_type": "stream",
     "text": [
      "Axioms may be imported from autogenerated _axioms_.py\n"
     ]
    }
   ],
   "source": [
    "%end axioms"
   ]
  },
  {
   "cell_type": "code",
   "execution_count": null,
   "metadata": {},
   "outputs": [],
   "source": []
  }
 ],
 "metadata": {
  "kernelspec": {
   "display_name": "Python 3",
   "language": "python",
   "name": "python3"
  }
 },
 "nbformat": 4,
 "nbformat_minor": 0
}
