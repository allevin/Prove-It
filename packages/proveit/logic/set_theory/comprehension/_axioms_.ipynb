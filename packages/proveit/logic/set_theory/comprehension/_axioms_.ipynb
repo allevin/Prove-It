{
 "cells": [
  {
   "cell_type": "markdown",
   "metadata": {},
   "source": [
    "Axioms for context <a href=\"_context_.ipynb\" class=\"ProveItLink\">proveit.logic.set_theory.comprehension</a>\n",
    "========"
   ]
  },
  {
   "cell_type": "code",
   "execution_count": null,
   "metadata": {},
   "outputs": [],
   "source": [
    "from proveit.logic import Forall, And, Equals, InSet, SetOfAll, Exists\n",
    "from proveit._common_ import k, l, x, S, f, y, fy\n",
    "from proveit.logic._common_ import yIter1l, f_yIter1l, iterQ1k, iterQ1k_y\n",
    "from proveit.logic.set_theory._common_ import generalComprehension_fy\n",
    "from proveit.number import Exp, Naturals, NaturalsPos\n",
    "%begin axioms"
   ]
  },
  {
   "cell_type": "markdown",
   "metadata": {},
   "source": [
    "**Define general set comprehension as any mapping $(x_1, \\ldots, x_l) \\mapsto f(x_1, \\ldots, x_l)$ of the elements of a subset of any set $S$ where the subset is defined by any number of conditions $Q_1, \\ldots, Q_k$:**"
   ]
  },
  {
   "cell_type": "code",
   "execution_count": null,
   "metadata": {},
   "outputs": [],
   "source": [
    "comprehensionDef = Forall(k, Forall((S, iterQ1k, f, x), \n",
    "                                         Equals(InSet(x, generalComprehension_fy),\n",
    "                                                Exists(y, Equals(x, fy), \n",
    "                                                       domain=S, \n",
    "                                                       conditions=[iterQ1k_y])).withWrapBeforeOperator()),\n",
    "                          domain=Naturals)"
   ]
  },
  {
   "cell_type": "markdown",
   "metadata": {},
   "source": [
    "NOTE: Comprehension defines a subset of some set $S$, and a \"universal\" set must not be allowed.  Otherwise you could define Russel's set,  $R = \\{x~|~x \\notin x\\}_x$, which results in paradox upon asking whether or not $R \\in R$ (if it is, then it cannot be; if it is not, then it must be).  But if $x \\in S$ can only be true if $S$ is a \"proper\" set (the universal set is not a proper set), then this can be avoided.  Comprehension can then only be used to define a subset of a \"proper\" set and Russel's set cannot be defined without additional axioms making improper definitions."
   ]
  },
  {
   "cell_type": "code",
   "execution_count": null,
   "metadata": {},
   "outputs": [],
   "source": [
    "%end axioms"
   ]
  },
  {
   "cell_type": "code",
   "execution_count": null,
   "metadata": {},
   "outputs": [],
   "source": []
  }
 ],
 "metadata": {
  "kernelspec": {
   "display_name": "Python 3",
   "language": "python",
   "name": "python3"
  }
 },
 "nbformat": 4,
 "nbformat_minor": 0
}
