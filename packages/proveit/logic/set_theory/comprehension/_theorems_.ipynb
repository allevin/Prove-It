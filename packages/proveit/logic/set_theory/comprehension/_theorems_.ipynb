{
 "cells": [
  {
   "cell_type": "markdown",
   "metadata": {},
   "source": [
    "Theorems for context <a href=\"_context_.ipynb\" class=\"ProveItLink\">proveit.logic.set_theory.comprehension</a>\n",
    "========"
   ]
  },
  {
   "cell_type": "code",
   "execution_count": 1,
   "metadata": {},
   "outputs": [
    {
     "name": "stdout",
     "output_type": "stream",
     "text": [
      "Defining theorems for context 'proveit.logic.set_theory.comprehension'\n",
      "Subsequent end-of-cell assignments will define theorems\n",
      "'%end theorems' will finalize the definitions\n"
     ]
    }
   ],
   "source": [
    "from proveit.logic import And, Implies, Forall, Equals, InSet, SetOfAll, Exists, SubsetEq\n",
    "from proveit.logic._common_ import iterQ1k, iterQ1k_yIter1l\n",
    "from proveit._common_ import k, l, x, y, S, f, yy\n",
    "from proveit.logic._common_ import yIter1l, f_yIter1l, iterQ1k, iterQ1k_x, iterQ1k_yIter1l\n",
    "from proveit.logic.set_theory._common_ import generalComprehension_fy, basicComprehension_y\n",
    "from proveit.number import Exp, Naturals, NaturalsPos\n",
    "%begin theorems"
   ]
  },
  {
   "cell_type": "code",
   "execution_count": 2,
   "metadata": {},
   "outputs": [
    {
     "data": {
      "text/html": [
       "<strong id=\"unfold\"><a class=\"ProveItLink\" href=\"_proofs_/unfold.ipynb\">unfold</a>:</strong> <a class=\"ProveItLink\" href=\"__pv_it/cfe9bb95f1be582954d15cea4fbd6f028484c3ff0/expr.ipynb\"><img src=\"data:image/png;base64,iVBORw0KGgoAAAANSUhEUgAAAz0AAABABAMAAADCEgTEAAAAMFBMVEX///8QEBC6urrMzMxUVFRm\n",
       "ZmZERETc3NwyMjKqqqp2dnaIiIiYmJgiIiLu7u4AAAAU9Wx4AAAAAXRSTlMAQObYZgAAD9ZJREFU\n",
       "eNrlnXuQFMUZwL/d2d3Z57CaxCd6a/kuKnVLRSNimVsikaQsPILiA0JYNTmMpGQtqUBCyK0pH/kD\n",
       "4eKjlCLWrVaIKOWxKBhf5a0SNIXRO4yvojwYDFJGwT04ZHmct+mvex49r72b3dPMlV01uzM9/c3N\n",
       "fL/p7q+//noPYGymWGns3Kt05f/jr/qr1cOjeLkX3RV/diy9TOe5K36W8r2wWu1ogM+RVfeN3iNE\n",
       "8u6K946pyp51VTwwg32fv6qzET79o/kIE3Ouiu9Kj6nWeLm74h+qOz7P8PnQXfFfjq3est3d29eS\n",
       "8xqfoLvmzT80tvgEM/VpwzN8Wty1V+EZY4uPWHFn8J3qNT53Qn0NwFhJd7kr3i17i0/E3fsFc51O\n",
       "bKk5LHroqwcx+XHb7B53V/EVvMUn4c4AhVMd8vcV+KMJ7CueUjMe0+69iPk3NL2bq1HaPtWQepUa\n",
       "orYqLbtTdHTIW3yaU66KCwNO7QL72r0RNSionfJVFj4XoEqPK0HnoH5NS2l7PDWkgmlHSyfhrsOU\n",
       "jnmLzw0ux3tOf/pR9nVLJzZzYVm1Jix8VpCtlXxEqppdYi1tm2pKIZpo0nbI2VuXQjzCR/rCXflQ\n",
       "b00+0oH/4pfmMYoXTHxipHkL7kfVVrX32lra1vKtKbXVkU/MpbI6U17iEx9oqLuSnuvry3N8IuzO\n",
       "TtfOJ018fETJrJFq0khbS9vqrabULkc+fpdPWM54iU/I5aXGGVvzSW8Z60+Qqs+vdwS/MvFBf+VO\n",
       "qseqqk2b0naptlSow4mPcMTdE4aTXuJTdmm+ldH8EtdNWz2HDv5uNbZv8SnvIL8gaXE+nQ0iMYXW\n",
       "mPjMRu87lpGqak2wKW33zDZS0poCtMtUKjrDiY/a4Y+4hz3gJT7NRXfl27H7/xTeLJ1Ga59u7l7H\n",
       "qhe9XJgUKjTTlv9hE5/lRLPVlKZvh9J23Y+NVJQooptJoRM+bq+Wo+6eUDjqJT7zXHqjW5BPgWjl\n",
       "fjzaoz/V8QwfvZwvBULHXAiRunmGiQ8plqjKVN8dIGQdStt1fJrUhoIiBReT5rSNSfmTjq4ClxYQ\n",
       "HPYSn5Uuy7fgbctwOTs6o6+P2QfCFMa5k9WiFEhkIIuVqcXEhzQevv30+feDcHWvQ2m7cb0qBYmU\n",
       "IgWyrwjHmJSAKgktHw0+O73E58t6+GhehAv0W/oW/XpK5QORIep5teGToH+z54g61WdT2q7+aFJl\n",
       "WZWCThnHyxqf7aNSf1rT3uEjHoI62jcQB8grj04d/cSP6ecvtHePDOY3gLV9O5kMGKvw8E1SNaPy\n",
       "sSltN8zUpL6rv9/XQSypt2+m/keYvW5zPXy6S97hE3HZeUI7GgCvk778Zaq0knbiKa5ehUp0HgJh\n",
       "/dPE59dEb9X7s/uWHQSVj7k0Vg/JsIMfutQa/7MykyIdTijDpOJ5i/12tqInt4/YWVD4yI3wkUeF\n",
       "T2zQpcA4cvORwVBSpIaa9LbRvpaYbYrGbjDjx2ub7Ws87jnU4dtf0viYSkvYkJV7uR32oUktv6+c\n",
       "Y1JwNTSXwMa+/mzWzwCIENofottHbMkqfOjdvVEnn7qFja3GAZcCPqIHaUHXky+xwyVXGfgok6t+\n",
       "1O6CTThz8UcTH2ycxLkn7cxDQeVjKi01Ee3vIjqSTgC2A7sqvNQXaVUK9rw4L8ekwimOT+zGP3wO\n",
       "ErmXUh3jU/Y2IJ8nVH9hPXzqFja6D1w6PyBsGs8+cC/v34kpg/oTab3otfPvsBFTePDsrBYKZCrt\n",
       "t84Angu6lDB+uS6FzarBvzMhC6fDFnpqG/ubbie4YFxS4fMbfCuydfKpW9hoFbm9+WCyhn/0HyGl\n",
       "P9oKMB12oculaOKjuEDDNL5M4WMqHbdeXLkslYplJwqKVKBXOlmRWsf4SMWKkAT2lnzcRGtO1G1n\n",
       "7etX+KCHPNhRJ5+6hY334jbaI+Ik8ArZTlLtOXJz2+EWsvMJmPgoVT5YPaT1P+bSznyoVKh4aUyR\n",
       "ShRCBSYlIRJiBIof9cayQkExTqfQJiLv9p0dUvjEH1+8eFm99kHdwsa67Pblkpxa833kLd56rWq2\n",
       "Z2D1JhygTLPwWcQK7CT9mLj2i6JNaavHKaZeFqXCudDTilTkxZmKVADbxInkGoFCoCi819a2AD4i\n",
       "PYnucnLThFdU+/pQW9v2uu3reoUb4+McbrGVr8xLFcVq3qOntRGXjbospUeUeKlnQIk/8KV8aSmD\n",
       "+asAvk/NMbcBLeEBlc9lAPPJ7u36uRoNVtTERxG+8MmX8AY/u3fbZXav+3N93+aeevccs63ims8r\n",
       "4OnkSzcr9fAaph9lYObGZjqg8jmLtptiQXH5Sa3y5Bo9s4kPE/bPgGZsyU/ISQtTVqE/z4c9nAk9\n",
       "x+zALyfd3n055Wk+kStuJmY33uNVs2bRmjO+fj4JulYjpLr8yOAgqjz9pFmp2HfYEFS4ayZs+LmV\n",
       "DxNOUHnoJJZcu3XqOUL6U5Fzsb0NDfOJZj3NZzFcQT7/RvofVQXJ+vnESgnCYLXq8iMDYawS0qZZ\n",
       "pXi2C7qU8q9F5ahs5cOEiWQcp63I7jiraVXGrKruahhqnI804Gk+t/hN5lqi5JrPEZWPlEcH8HzV\n",
       "5YeTV6QTefbcz+X4G0HC53xipqXhX8UZUTk4dfrUnxj4MOHEKVjjouiXGmcdy6zHnrKqdZCvUXsp\n",
       "unHCZfXzgec8zWf1C6aMN6H++gPzf0g+kqrLDyoYlRJHx1L84ouKXTi+IUPhzfcvtas/TFj6KQ70\n",
       "fIi8pR8CJq9cUwc6FrXDOH23ugLZkxvgEy7BGEriiY3weZB0GUJedfmRkS/p9Wk4VzzdtZm0b9cj\n",
       "rM3RvZPt+DzI+ptFSaXqrM8Ij5psSaw6pG4FlDpPfYqQ4jTs3r4G6d9jiU/Y/RA+rPPxkfbGn1Fd\n",
       "frjWaxJMZnyi0SsJkx+R/c1Q+KsdHxSWUiD1K11PUxoSZj5EzjcAEWXSXnG/jMs1wgeWjKUI+Svq\n",
       "QKqNfyBO9BfJqC6/UBH5XNrW1laMp8W3dhBiH1I+v99nx4cKs0n88MDuG4PHwMJn5Q8uT80ran4g\n",
       "H7MOJ0K6ET5iauzgkeq414TmP2DKzqouP9/3AM6B3az+wJkvA2wJdCAf/yUEhWjmQwdFWQjlluSE\n",
       "L2cmWkuUj3gPLJHFFfhxD7S8m3pnkGR/tBHz0dgT7xH610LB6GuybYX73odvSvL3bbf4JDU+Ui9z\n",
       "+S3JlWPolaWuJMIn3oWmwvXIB7bKVv8O43PhrGtxznnRaStXRCgfYRBackIFPwZBnPLBYbkDfK/v\n",
       "xXxScciXtODBF2Sjr8n2LYJvUlpk8Xnp89s7mMuvpRR4AmAmSDeSvPPIRwbOxsB8/90pCIADH5aw\n",
       "Wwkcu5q1b7r7l+61bsrAeRvZ0RYwe4ed5+e+uXzKSSOf5zkt49RFlPQ/w9RHUyAE1rhYtQLCBkL4\n",
       "Ii2f7nUTG+6l8F48Wn4Z8KepRXekBh9xMUle0+SEBs8b0qvKZuDTnjfy2cNpOTIiZ7iJD60S4nEd\n",
       "HGZ97zYy1pkWfRqPZhcNp6nosRp8AlOnTp0iewuPturHkkwrj0aUcNkQXTrE82nOGPlESrqWA1AH\n",
       "n0Z6xoPDtG8hjxnTYcf3xbTyaGQpr2w8n56ikQ9s1s91fc18JPPvxEge5+P4WzTmlUcjS1uVjecz\n",
       "L2Xi4/6tH7340San99OjfE53OmFeeTSytEvZeD4LZQ/xaTXp35/xNB+zd5rrSrSVR9E7SpCouahx\n",
       "7XiAPvZ4HWzj+RwHHuLTY76NdZ7mEyxwq48Mho6+8miNrwKdtTQUndGUi1SVXbZxfMSDXuLTrq+H\n",
       "m4uLEfp2ztD4RPHQwkdw+sUhsXb4QKTWydtr36WmK3TtaquPrvsTJuX3NbSVR1KyvQLzsiz4wL5R\n",
       "E6u54CGpVWbLhnDj+MSPeImPz9IQPJxyrj805Pwmdg9Kt6wHOPxuGMu4YO7RdVGxUFtWm/b3pbjV\n",
       "R8YXTVt5VFyfh53FC6c7Xu2S6GFIHKOTbhhWjxvHJzDkJT5RiwNOuiPlyIeGnLMpoxDL4QIcssP8\n",
       "qcdMx5xoaLi7TKm+lxS3+siQtJVHxOYpStU0PFLjpTwG5QEato3LUnDj+PjyXuIjWKLHJ3XZ1h8t\n",
       "5FwJWmUq5QIchh1af2Jq77jYiNXDDQPyHB/73zDRVx4J1Zyf9C41+LRUoLmf/jKcDZ+Wopf4wAem\n",
       "/qfvVlv7QA85VyJ0GR8uwGFYSyJg7J/42Ij5w92lOiFPtaauPmI3/B47o688iu8H0oDV4tOTBNIG\n",
       "Vuzbt/Wyp/h0m9T6gNl+808vSOO5kPNAiuPDBTj4AM7aDrtKlpul8sB+moJLfGxE0kFWy1SHnaES\n",
       "t/rIkPSVR/HDED7K+MjArSDSj3rysLKAs9V0xj9utA9OAE/xKRu7ZjFv5rMv3B8f5ELOE3s5PmqA\n",
       "w5U4syj1roSeEph+MpfKo9HnN7rGFNFAnk7x28qyzEkl/XdbiS2srz4yug80e1ncD90HKB/jCiL9\n",
       "qD0Zq6boL5Na7evIgLf4mBYkaK0U4RNG+1r+bXs2UOFCzoN/5/goAQ6TT0QVig8dIuPdyaaIDCqP\n",
       "Rp9gHFsqojj3TsjZyrLMUBrhK0/ey68+4lWirzyCR05bOMT4qEuJuPVE2KpFtr1XlXG2mi4bwk3n\n",
       "o4bTe4WPZDQQBJP/DVvADl/SGHLO8ZFpgAO8TxvG2BEcfJvnXVEeWzAzHyaKc++RjIMszfSBzgec\n",
       "wnG4lUf+NA5/aPvmsJToTAgeorPVNv6dlpS3+Kg/PGVOCc4fVc4YQ851PkqAA+r1HJI3JB208kF5\n",
       "NPr8RgNcEcW5dzxjK0szcaXTObxD0ybxK486+0Wsm8jHfqlKpApkCIuz1dRbss7Apw08xidRGIZP\n",
       "KxA1GkLOdT5KgAPqdR8xHfoxSOV9DPFhERArMNgH5dHoixfsYiNw7l3qtZMlZWjmVh6Lw/wBv/Ko\n",
       "u7DseDJaXjnHiU/sqLgtBThbTcN18zwff8VrfPyVYfgs+aApbQw51/koAQ6o14QM4r13sLaupcQi\n",
       "ICoYG4HyaPQFU3axEXTufQfYyGIZzMQwzJlal5SxvVt+5VGwb7sK0WEp0dw+ZR4HYz1ovIfGRwsH\n",
       "9s7vX6+tzUe6lnp0uZBz45AfAxxQr7EO+DhHehraRumWconKo9EXto2NoHPvz4OdbJxl7igB6F3X\n",
       "0mGeZqmbR39G2XQ+14Dn+IQKNfnEBoN2QSQaHwxwuOSUDpCy0F2al6L7glbNhByVR6NvtW1sBJ17\n",
       "3wN2shexzDm5EU77N5BUPv4do8JnVP8/hvS2LR81/k28+85cLT63qcHcf4ElN0/jaoeyp8lnbGMj\n",
       "2KCjZCerZwa+Wjr+vneUvWXKozb2/zGkVaP5/zHgP/UIWVUWrz2/EJVrnNxc+491wdeU1HCl81et\n",
       "yv0PlKqgKQrk/iMAAAAASUVORK5CYII=\n",
       "\" style=\"display:inline;vertical-align:middle;\" /></a><br>"
      ],
      "text/plain": [
       "unfold: forall_{(k, l) in Naturals * NaturalsPos} [forall_{S, Q_1,...,Q_k, f, x} ((x in {f(y) s.t. (Q_1(y) ,  ...  , Q_k(y))}_{y in S}) \\\\  => [exists_{y in S^{l} | Q_1(y_1,...,y_l) ,  ...  , Q_k(y_1,...,y_l)} (x = f(y_1,...,y_l))])]"
      ]
     },
     "execution_count": 2,
     "metadata": {},
     "output_type": "execute_result"
    }
   ],
   "source": [
    "unfold = Forall((k, l), Forall((S, iterQ1k, f, x), \n",
    "                               Implies(InSet(x, generalComprehension_fy),\n",
    "                                       Exists(yy, Equals(x, f_yIter1l),\n",
    "                                              domain=Exp(S, l),\n",
    "                                              conditions=[iterQ1k_yIter1l])).withWrapBeforeOperator()),\n",
    "                domains=(Naturals, NaturalsPos))"
   ]
  },
  {
   "cell_type": "code",
   "execution_count": 3,
   "metadata": {},
   "outputs": [
    {
     "data": {
      "text/html": [
       "<strong id=\"fold\"><a class=\"ProveItLink\" href=\"_proofs_/fold.ipynb\">fold</a>:</strong> <a class=\"ProveItLink\" href=\"__pv_it/d15585ae654180e33e7dc1431f023e9c1959fe300/expr.ipynb\"><img src=\"data:image/png;base64,iVBORw0KGgoAAAANSUhEUgAAAz0AAABABAMAAADCEgTEAAAAMFBMVEX///8QEBC6urrMzMxUVFRm\n",
       "ZmZERETc3NwyMjKqqqp2dnaIiIiYmJgiIiLu7u4AAAAU9Wx4AAAAAXRSTlMAQObYZgAAD7VJREFU\n",
       "eNrtnXuQFMUZwL99zj6HxSQ+0VtLVCzL3FKJEbHMHUElKUqPgPjAEFZMDhVLJhVKLmXMnZaP/MHj\n",
       "4qOE4o9brRBRinMxYFQsbw0arTPKYXyV5cFilEoUvIMDlpe36a+7Z7bntVzvHam50q6anbnd7+ud\n",
       "6d/0119/3/QegMdKuPdD+KYUf+/HJ7DycvnQCFa3me+T8E0qi53eHM/3i8rl9mHwObzq4ZE70Wjb\n",
       "t3z0EpzB9hes6hgOn/6RPNGJWoXPElI0r7XkhcdpjbxEXYk021z4wCf6gc8zfIxTInyuIOUsj+EJ\n",
       "NLp8oE6fhrsfStU2i28ufBo0r/EJtYHZvi3wGJ9I0c2fefoY7pbL1cY3Fz5Ga3iGT0PG43w2u33Q\n",
       "931sw3heqrZEjm0iH1U4PMNrfO4Hj/NxtbcdrCGLUrWpKbaJfMQe2lX0Fp9oyeN8/G1un8ylrxPI\n",
       "tnYcQG/VWioSt/FN4OMXRjhfzlt8klmP8wmRBlPWTVt9k/WD1868EndzAGIz6rRouVolgsQavonj\n",
       "zzpBctBbfOrTIp/1vb29JZvMpIKL8m+r1131EoeqGyFf/gW8XTgTWf2RFn67H6WvSwF2KmUtdBAC\n",
       "WdfamITaRIzXSmAb4zO3F8uOGRX7d9RbfG6G6v3n4mdezoSZC8FJfrls21R2pOSq1z3ZZvxf6P1u\n",
       "RlLXR742B13wiFVCGaC7kwAuix2C5NHAtT2utTEJuIgcns03k/+2Mm1tEI/wUQ9U5+OfAfXgY8fs\n",
       "9oyerKmL2OWEj1N5LG15408LYNc+kNMdQw6KcJXDyMlaAevzHYW+AYi68+ESaNca+Gbio95rnGpH\n",
       "2kt8EgOufNRNswv4XhjuEvl0kF0ra4nVx4NvGdqjB8ld/zXI6Y6h7XWGA8Eeg09DCer7q/JhEkvd\n",
       "+EzqrHjtjV7iE+535fP8+V8Voa8ICegW+KhlYsPHDA7Nk5hqmbCgWrkop0sbitgynKSE6GjRy26U\n",
       "MGvI08i2NQXPtlXlwyRKNvvGxp/eOwVnO+UlPn1ZBz7jP4adhQQdM5Onk9v3JwKf2H68p5kPQa6E\n",
       "itrO7+qcOs5havkstmhZ47qGlKkYFeq6YfLXG/F+eMVmstjE9A5s/TZYkWN8ivp80zigL1QigE3/\n",
       "Jt/E/vOocBzf5yU+9Xk7H7VnBWwtRJiZ+Xm5HbYXKnx8h9E+0BMItAETtVa6J9KfoKGX8eb368g1\n",
       "B5iXS3QNKZNZMyocb7jGED0WTim2MEFf2vCXW1PxcpryUdF89okH7IVKxLPO/rUi2uHAES/xmZcx\n",
       "8VlG+vqg8vhBaNJ0B2pxCm7SKnxo1yEdIVjEaR0ThWvMlf6uNRssBYixn2R+H7sO6X/BNjolpFJY\n",
       "j8kpoxWiQ6/r+ntAXdj5zMv2W4tpok8W3fYBMZuUTx35jp3kTNWTgR3AzpIuEUbG9/FN4BM2hewP\n",
       "eYnPCrD1H9LFD8NYuLy5uTmvpkE1vozxwTGkLhN4QoNoIxedfIql1q52XwpusfMhLeojfhaxnKiL\n",
       "UliPqdAK0aE3dE9xOfUXuJkjFZwDZPrD7Jvfnh45H7iE7wfO8Z2ASXyHl/h87cQnPKjuh8+ox9Uu\n",
       "zProQWTgs/khModLauDPclGw5sUXFYkXRBrhPMvN8OOr0vPyECKXjrpUKmlpT1ohOvSGbrez49l4\n",
       "hxHwjJahtcT5JOyipDMyib446b95trnEr0lpyniHj3LQiU+wnxAIYsOFskLnp3wCX89MNhUoH7WH\n",
       "iyKfFk1ZDi1FfNGgCebllSw2rfIQf7NIjhreT79HRpzkpxupLkphPSYZWuFdIhbn/IJvue6tLYf4\n",
       "EWVbGpS1B/JufJhE8GmA/wDb3Pl0FbzDJ3rEiY+y7F7iz85HPhfPvh5MfGDxmSuWRykf2M5FkU9D\n",
       "IVCCBg1fCtDyUV0Gg/gzIXCMv6mRI2XKR4eK7eB7YzfVRSmsxyyDFSKbmcbZNDr2nzX6fbMYvWRj\n",
       "/mLPNsSZH80lpvHNnU9HjvMpDodPcUT4xI858flcI8MHxMj4YxLWDV3w6LWMz4u66IfsLtXvV/V6\n",
       "MoYEiXvVJt7P9KhpUyNM2AioS6VoPaIMrRAd+opPdfdxbIBMAiieYVsVPg1Zzod20Ldq5FOzsqkE\n",
       "9znx6SrMSzsI63zi5RJr1126KOETMMxgQIsfC+2D5G6Ikpa7xFCnR13Eh3s5sht1qRStR5ShFRKH\n",
       "PpqHE1tc+VB/HPk8zaxnbXxqVjaPxgMiH/35t5Zbp0EVPspY4jVsICcQLTDRy05vN/UB5cH7NQj9\n",
       "DYLmboUvvyHT/Wmx51CXStF6RBlaIXHogyeWjr/3PbePxqQ4HxwFlWyNfGpWNpVkSULYPg5sqa7Q\n",
       "We3D4eie0OLr53zQMQm118inZmXzuQzWMGYVYNQU9Zoa7tlBzifx1JIl99TqH9SsbO7LNXiCz8Mo\n",
       "KhPkVSIl3b8+2Nz8ca18alYeLp9qUWLvlbj8EBAZ0PlMZWF2IdNbxWDFLHy4MuY3QUxqmvt3JWGJ\n",
       "5TNrEr9Pns/OzGjiQ1M+kj7TPp3PeJqFUnKwgU6J1KbiZHe1kIUPU6b5TVNS01SEhCWWm9ZY+aSk\n",
       "T//XowoPtGq180nSsTZMDljTXmRkdSfNTse/x6aggQdmwoZf2vkw5STLFAtJTZMtEhKWWN6FYfPx\n",
       "D44uPqHG2vnEC8kizfT2MRRraJfAvHIi22l4mP+IFWNFOx+mTPObpqSmqfmFhCWWweHzicwYXXyU\n",
       "kjSfwzoftQ2f7V7AchjMVk5leeXEWyHC5wLipmXgn/kZsWLoiquv+JmJD1Om+U1TUlMsYsISSWMA\n",
       "EWIbL5xaO58GbXTxgQdq7z+wAANNpInW+J/Hm7yEWV2aV05cekm+E+c3r5OJ3CN3O/Ufpkzzm0ZS\n",
       "05LsEhOWdGZPY1qdwexptfOZ6/bB61WnRY+feBCTn3J8e+sw+DzWQzO9sPThPnJbYnp8PHu4PpHp\n",
       "3ELs240Ia0ts92QnPo+x8WZxykhq2pJdQsKSuoDUNqUjhWH412e4vL8nJ/7Fl+wkDJflSePcsQsn\n",
       "bq57X6si7VyqaP0djyY6er99spP4SIUPPuLgJzboQEb31SexB/MSmViMTH1DV9JASO7PTnxQmec3\n",
       "eVLTluwSEpb0zmBgxmi18wkMuHzQxT34jVi5sWRnlo0PGuXE2AJ0VCLndmlnPFW0QtiAlZUypnCA\n",
       "7IBZmf9AokgzvYFx1EvH9PgklldOZJR3thNin1A+v9/jxIcqs/ymkNQ0FSFhSb+T3aATIVMzn7ib\n",
       "whNsd3sH3gNGSi1i44Mh3ablmNE0TsIu7ViqaiGamKOxDsrOp5NG/IA1dpZ0nImYAsf0+Hksr0zc\n",
       "gnNeITY92I58/JeRc1GsfKj3iPnNFk1IarolLMlf6OwpDwX610LOHGuSMc49Vfmo+/6LO+O5qkTO\n",
       "wgdX64T2YtOWjfvaLu3oKFfV6nblE5e9BX2DJj5qD+k4l8ehRcP0eDfLKxM+iU50FW6kgd7uoj2+\n",
       "w04a85sNBSGp6ZawJH+RjkN26sLHXiqaY00yN1fWGp/obRP48GdujSU7asrCB1frMCNVZ5C2SzuV\n",
       "6lo7Xfn4B2qKeVXy29shooWfI62M6fGZLK88YT6G889Fw+p/MG1Nhljz22hSjKSmW8KS/PU6WPPz\n",
       "pvzckE7ebM0nvWPuPyHafMKSndssfDBeuYO2Y1lvTQdpp1JdK9zuxidwWPIS+1JmPi8KrYx21JZX\n",
       "do6PCmeAPQ6TmjTZ5ZawvASWTgXxY+rRSZ88npqxHEe502zfElPeQ34hYnG+mAPKIHsSUOQzB3+9\n",
       "AWXUst4THKSdrtlBS12Tg9Yi1ULX1JmPvmBk6BGhNjOfXUIrDy2ra+FDuwQmNSuYK0dGwrIAc/Km\n",
       "j6mq9Mmjvr4cR3yw7wbWvej5owOfq6eWf6WFD3GEQuU0b+9A1kXaafgxtFiwErVipCG6mBb+iEPC\n",
       "eaQ5InmJ9Y1mPtFCpZWHltUdued3/Ptlwwd4ssZynF2VPnwSw5fhfmKgfS6Es+xJdJEPEUvSgFOo\n",
       "3M4X7DhIOw18uhYPVqIveikxp81My59yDRUckLzErXkzHzHT2/l/5qPK/k5MA562sRznbHz2H81B\n",
       "YArze9mS3TFkVkYmstiZGix8yHjn20uvf6+eSnKQdvKqDC0WrKTLgsgU8CjTCmCThJeOBB/2bIxH\n",
       "nh+tq4WPEUWo/DSE/zt0t17nA9FBunLfgU+SBtS3Hhb4WKWd+o+hdZHxHdBRxPmywcecrwzMWbel\n",
       "Fj6Lih7i06TVYN/05Tiwp/LBT+nrr0C/NjKZ3wB2+0ZGw2AZVt6ilht1Pg7STtNMQ4sFK2n73QDx\n",
       "VMW+Wcafc3k7yfIZCx7is1XyNFrROBvLcYIVb2O90K8wjhSZQWG9aeFzBwZsH8nuuQcHPsbHKo23\n",
       "r30FT0WLBStprOoBukjrTR76rfhvX87+BX1CMFuDf6Ds9xKfVsno1BjiPFWW46jvmv1rdZ8Rhw01\n",
       "+nFCafWv8e+tB9t9ewsGH4u02woeQ4sFK2ms91qoL4Ddv47P/8NXoA4yZ1U5JneFicNe4uOTjE75\n",
       "SDsIy3FaZpn48OSqH1t34SaMTdxn4YODhzL31B1tGGNifCzSbit4dC0erEQt2LV5nsa0ImnG58Is\n",
       "nEXn4QDbnqxpfhoc9BKfmGQALmKO78Cjy8T4TpxP6umSHVy/a4/vsPEucuzcrPEokEXaZQWPrsWD\n",
       "lXxZ0HpzfEfNlwIp/uj253WUTFQyhOVr8xKfgGTvD6WqxEdfC/PxqBvgatjZzlfaiHx4CDRCf5+Q\n",
       "87FIO68QMbRosJJpBXvU07jWOsZH+bQnng3wMKsyhYKXbKyGvJf4wEdy4lG3/vYq2U7V/blIkfi6\n",
       "twNfaSPy4Y+Mh8r45ApdsGOTdudDtWiwkmklc+Ec06Kr8TH/E8wF84EPmpsXwqdk3KLuR5vcFT5b\n",
       "9BSfLjkHW3Wz5ntIU3fra4WURli9CSco02x82LIBRfhFFau0ywoeB63o5plciwb9J6YxrODLqDRA\n",
       "swrgR5WQ09DLyeApPn05OXnXxy26xQviS3biRjbtOaNZHZrLJj2kImr9FfjzB75MPed8Hf+NBckH\n",
       "WqID3uITknxC5FXwdIlOv5W4ddgZZ82erVUmZkMuujn0Ch9V0kHgvzrg1bIEppPXv5DxRy/jJN2D\n",
       "tLf46A8ODNkhz3qaz+3Wn/OLStqHZvAYn6TcAKQOeJrP6pesl1eQa9qS1/j4JedvL8CoKm9L3q0F\n",
       "r/GBtZIRhMJowqOcIid/HXiOT1jSwP1rNPGJyDWzf/uI8BnR/4+hvisn3zKanpCfLid+D7+24f1/\n",
       "DHXVSP5/DPi3pMlIjx48quS5LuH7C1at0v4HDmiYx5DeldYAAAAASUVORK5CYII=\n",
       "\" style=\"display:inline;vertical-align:middle;\" /></a><br>"
      ],
      "text/plain": [
       "fold: forall_{(k, l) in Naturals * NaturalsPos} [forall_{S, Q_1,...,Q_k, f, x} ([exists_{y in S^{l} | Q_1(y_1,...,y_l) ,  ...  , Q_k(y_1,...,y_l)} (x = f(y_1,...,y_l))] =>  \\\\ (x in {f(y) s.t. (Q_1(y) ,  ...  , Q_k(y))}_{y in S}))]"
      ]
     },
     "execution_count": 3,
     "metadata": {},
     "output_type": "execute_result"
    }
   ],
   "source": [
    "fold = Forall((k, l), Forall((S, iterQ1k, f, x), \n",
    "                             Implies(Exists(yy, Equals(x, f_yIter1l),\n",
    "                                            domain=Exp(S, l),\n",
    "                                            conditions=[iterQ1k_yIter1l]),\n",
    "                                     InSet(x, generalComprehension_fy)).withWrapAfterOperator()),\n",
    "              domains=(Naturals, NaturalsPos))"
   ]
  },
  {
   "cell_type": "code",
   "execution_count": 4,
   "metadata": {},
   "outputs": [
    {
     "data": {
      "text/html": [
       "<strong id=\"basicComprehension\"><a class=\"ProveItLink\" href=\"_proofs_/basicComprehension.ipynb\">basicComprehension</a>:</strong> <a class=\"ProveItLink\" href=\"__pv_it/10137b2e473672bc1092a2ddcc8ee30d04132b400/expr.ipynb\"><img src=\"data:image/png;base64,iVBORw0KGgoAAAANSUhEUgAAAn4AAAA/BAMAAACMZdizAAAAMFBMVEX///8QEBC6urrMzMxUVFRm\n",
       "ZmZERETc3NwyMjKqqqp2dnaIiIiYmJgiIiLu7u4AAAAU9Wx4AAAAAXRSTlMAQObYZgAADWhJREFU\n",
       "eNrVnA+MHFUZwL/d2f87O3eA8qcUbxtFapp62wgFSnBXQEAU72ipQhG6oLYgCEtEqGC5lQSqEe6W\n",
       "f5GGkFsTGwPV61bopVhj1xYIgqELipDCtVtDGgLW7V1pr6Xtje97783Me29n9ui22ulL3ty7mfd9\n",
       "O/Pb9+f7vvnuANouQdPcC0egJCtOswp+Le/VnQfPsZ8R09x3GBqD+5Y/ciTu7AmnOexbfBAsOu2v\n",
       "8lPLlx8Wv51H5Ma0k+xmvOZffuJ3m7KnySlHn59zM7At42N+Mec+tXEf8bvKaX7fx/ggOu5yz0ef\n",
       "n7bLUTjhZ35wpdPcVvENv1jOafb6ml9fwbETJnzDb9C5q2zB1/zEr3eKb/j902le69VH/47Tjv/v\n",
       "IWvPuH6GLjzvqrpP+AXHnPapHn2MzcIvibTVmoGHl447+G1BG1+XNkzyqbIU00QApVkFzRWLIRh7\n",
       "jYpP+EU63XYSxUHZ6cZPw4XzL1MhbjqGxZn8Z7i1IaRIadYSPI9X0SYQypvNt33U+TV63TGJJdHp\n",
       "xi9GplBoLzkMOtz7rUax1WeqUjHLNYvxCr92lbtcWEXGfMJvkzNSIrVD4reO1IWfIYeO3c2e9Cut\n",
       "PlORoprYBC6z6sFvvTCXP/IJv9sERyQvLzdrR0aKLfgRCGwSBg5a1wK2j7+txUeqUqiJf2Qnqx78\n",
       "uoVV4Wf+4Gfscdodsvl3zmstxx/686lRKjdqXZvujOVSC4dRkRIiAzfx6s4vKyhdn/YFv+B+dU+7\n",
       "+7mfrMFG9FZp/n6wAKITIr8wmWfddA427JG0gHwhK8rQV4dEC1NclUJNXP0KYNWdX6MisCz7gl9Y\n",
       "2HP7cFoZZf3dAC6EEccGC5MBUu7m+4vFD935hWMODywPksvkrsg6FW+xgahSqImrx1Aa1k2ugh1l\n",
       "oV30Bb+YoCOL/BLkOeK4zmx3LsxKg1a6FiJ5kV+A/NxKR+RCYpfNpueOBzg3XINF5N46vT/TlkpO\n",
       "sTRZ6qcBq+6epLjApHb6gl9HTVleDAixbWTayAjfP848AU+fCh0VkV8H+dlFKZHjWcy0IAOrHqgA\n",
       "WRO0FvdmS8EbliZLfRZYhRurk/AL7fIFv7580/IcqEimMKIk4zE+AdmMym8r0tdNIveUxQ8G62iH\n",
       "t+JnSxkTtiau3uKXKk82/pIHfMFvsKzMX4I0A2iG7BC+6yJdA1dL+2+AUOvZGX8g00BT7Cn7aa6C\n",
       "ZGfr+WtLBWu2Jq7emr/K+nfWM3/KKPziH/uC33phnvThwNML6yGJ/ELOlUSNrkjfk/hFyPXsvtnG\n",
       "W1tzNr9bSL0fIuSEXqRrASl1sUEPtlSid8atXBNX/zKv8v4b7IVudf/Q9nB+9cPiVz9Mfj1pZXsb\n",
       "rF4P91DL8A3Jfgnnggckfmih6OZN0DUVbH4raJSzu8quQoNwNw6KDXqwpWJ//eI418TVN9kvxpr5\n",
       "VUgRxraBYF04yPnRMfxqu/zal+buh2DSB/CZt//xg5XsNpfME/kZN68Zl+1n/Ogfv/7QXrJlW/xm\n",
       "ooJ1C4nlE8Ne24iEcSI28rxhdBUEqY55tiau/j5ebX7DZ/ynDo066Kr9DKOc39OS332o/NqX5mu5\n",
       "EGmLyf4bPPaQ5L8larL/xl/bDWz4ls0vQLX93vbfzmi+54IgNevlqqMJ1Yv+W3CYuIM6XfFSU9Jq\n",
       "qJfs35zfnWjr59vl1740vwthAQh3togfXA7bSjI/HiIYoO+wn7L8/1DNwDV9Jf292QjRQZAa1joz\n",
       "XBNTn6iwivw+7CjMYsEYMK4w6Wevkr75OuOHwZtwqV1+7UuzYop+vdfrI53w2ww/cIlfoR1s5m1+\n",
       "ZCakyhGyjBrFSfhRqZu1WoVrYurf5xXjf/fOhGGYw7vfQb/aG0VNAwXGT//tXXctbXv/aF+6mZ/h\n",
       "9TLfeAfgyTVphV+URT2Xoh9298A17Dkhvm4ubt704ZLNqiwPlkotg5vTXBNTfwmvGnFk4DL4Opy/\n",
       "aNGiikHsa2pq7Jf4Zbj9smfRos3t2y9tSzMyIj9iengNwKcFw9Xese9p7hjlfJ49tNvgmpIZVtn7\n",
       "j+PhBHiPzosSaDjGtXFp50tzfhcCLCatHzmXWszHhMqPS3ML01g78im30PmHD71+oSu/USmsDn4q\n",
       "J5Dno+M4nGfBjETNld/n6GoRLcNqah4aPfU5LeIlKj8mbVmYDy+G7WMuEcsTC8Zt6Un5NdJ+4vfY\n",
       "cBGMG/CZz5pPXzYFqq78UjRrjBiIqTQ3oqwl5pz56eSn2Sqt3T8XVl/nwo9JcwszTozy6EEXL40M\n",
       "/77apPwSeR/hixZCuBuT9c8687BsuZY4v2Q1RRg9CWgmMiMeRxQa3np+CIZ495cS9UTdhR+T5hZm\n",
       "A3dQs968ypFTHROT8jN2+YhfpDxdOfMuuI4/o4ihjsXMemdByAuZ4a2/Gib8vkDW7wz8rdKbqIcv\n",
       "uvyir8n8mDS3MFfhlmg2vXxOoIffYa++Ky94LuPKD9b6iF98nRKD0Wvu/GDxBeRADJwVwWEcOuP4\n",
       "Qooa3vq5Z1eG0Lx7EWDjo/e4jj8mzS3MLnLQyJb6TfmTA2iYZHfCpYxm/eJAyc1+kVLE/Fdul8fF\n",
       "gM3vcQJWI1P2wUcapIvWiZsCNbz1zNBGMn+vRpgbE/+e48rv8ZpjYeLQI4NtzklK3Gycjc3HmRiO\n",
       "cHd+xt99zO8X8q+2/UcDlkEy83bTM0myiJ/DDG89k0iQoRTGdNWNUP6NKz+UtixMXOcCZBF7S+GH\n",
       "S19XBq7mv4978YMl/s0gClXcPHfkp5OnjudAm0rHRaSC/KjhrWeir20hRN+l/H66w5UfleYW5sCX\n",
       "L04vrDTxi+1674YwMd63zKAug9apKV6ks+mlfcvvX66euxU/DebJwJuFzxX4EsDnmeFNto3P/hng\n",
       "xVAJ+QXPIxJR1/gptTCjyyD7ZvofGEZ7C0dStB+W1PFQ0A7OTfWQpW3qvVXyWzZRTChe5LFYTCn+\n",
       "bNTIwDs/SR6vkcSABDW8CT99CLeSq5EfvFL3ij9TC1M7ANGvvL23XqL8slXi7mQLeKjCHacN9Mch\n",
       "+Mscnt/+/DVDrvHTY6oYoxI/2AKxQuQP5PFCxNecywzv6eSQg9MxnSn4QBpCk8TvaWyjZ02OzV9n\n",
       "K8VWaP+VxFTsr6oxkVXeviLmogUr3k+gN6N3T2bTP/F3pF/f9WbBXYGqJLpX5ve88LCYvSQa3q3i\n",
       "B0I5Gw/ryR583hSyHtr3QVtJc5yM6ZVp4Twtm7w/5EyQXsJJ5YX5122AeepZj2S25o5e+I6rwuAB\n",
       "cFegKAl+JPPbLjxsvPKJPk7lR+/89lPkQBtvRY8rqedp6c55qu/3jmwTO3H7Th7cBLjX2iG9ktnU\n",
       "jqqnZq1LPf2YXJRxVxBTWO+X+cWrzuOFoC1+7ZRG0esK5qIlPb7Iy2iChl6Ww16eyWxqR/Xb4K8l\n",
       "w6MI0ux1V6DL7kh4TOaHG4RVhv5//AKeOjAXLVCXg2Ajb7MBgy/IK+xNBWn9kPXyTmZTOqpl9hYe\n",
       "5aBTt6vmrsCQ3y5EJhR+bcZPD9cqHfe6Mh3EfDR8/Aet5wkSf1DLsEwzomIGGyfeyWxKR7VcwPMn\n",
       "t1JCZqeHgpvkr7fTF/x0zz/AW8Crlc8Gd9rDIWo+yyNFWN5nL1HdktksYbmjaokUU+xx6Mw1zJqH\n",
       "ghWSVF/OF/yiu6VF5ee05HgYCKudz0bD3LysN/fgPsf+cPN33C900tJmW3EkS1juqEaHquwFWNhM\n",
       "c4oskKwqeEI2HEq+4AeneV04nlU7n80QgqvRF7pwr5hGf6nBEjb9rLQ0nowlCMsdlZKCKN3EUjRw\n",
       "GTZLViBZUTBNkuqp+4PfqrrHhTFW7Xy24GkjI3z/wEGDaz3NNNMrEKImh5OWZidjWcJyR6W8SuOd\n",
       "ZEUbtY48kKwoyEpSJ4M/+GWrrfnZ+WxaTjQ0DZtfqs4vuSWzcWG5o1K2cEM5RVfOTfvsQLKiQOKn\n",
       "7fcJv5RoAIZHaMlbd0bvjuezGfa6bvTyPyalMwqDisvojHJJZuPCckclzky0xXA1DZnwxHcNM2cH\n",
       "khUF0vxNTPiEX9LLgLmFVTufDb5hP3ER86WAZZpRJDQw65LMZgnLHeW0NmSHDEEzH83vWIr8WSBZ\n",
       "VfCyZL7kfcLP+NjjAjcZ7Hw22GF58OF3+B/TYxcad6QGiEsymyUsd5TS2thmTcf2pj2lwCguJyyQ\n",
       "rCqQ7JfBjE/4wRUe52ey6uSzRe/n9xwKXnQxPYWZZqG07Wk1J7NZwnJHO5sNG4Cvb9hfIEWvPXlr\n",
       "EcpWIFlVcJ94d1YqzNHn1/DYQDAXLSAFa+KXOvuv7ZYFadMams3JbB4dnULPBC1X+MDpdiBZUSD5\n",
       "b9qYb/glPLLWXHx2VbLZHVOS2bw7epSYSfZvGkhuUiApieR9ww82H3r8Crg/1lRoWpqVjNXfoqNH\n",
       "CZt7gAWSmxRISroL/uHX7fEK5A5ePcslzaeW7lYUeHX0cie39nopkJTYqQg+4JfwCAFiLlq0xcxL\n",
       "TvbPYizhZLv/VUZUICkJ533Ez0osPYbKzPoR4XeE/n/YjvQxhi/K328f5v8PM5Yfmf8fZmSONX58\n",
       "xQ4uX/6r/wLPFYFUmjSnSwAAAABJRU5ErkJggg==\n",
       "\" style=\"display:inline;vertical-align:middle;\" /></a><br>"
      ],
      "text/plain": [
       "basicComprehension: forall_{(k, l) in Naturals * NaturalsPos} [forall_{S, Q_1,...,Q_k, x} ((x in {y s.t. (Q_1(y) ,  ...  , Q_k(y))}_{y in S}) \\\\  = ((x in S) and Q_1(x) and  ...  and Q_k(x)))]"
      ]
     },
     "execution_count": 4,
     "metadata": {},
     "output_type": "execute_result"
    }
   ],
   "source": [
    "basicComprehension = Forall((k, l), Forall((S, iterQ1k, x),\n",
    "                                           Equals(InSet(x, basicComprehension_y),\n",
    "                                                  And(InSet(x, S), iterQ1k_x)).withWrapBeforeOperator()),\n",
    "                          domains=(Naturals, NaturalsPos))"
   ]
  },
  {
   "cell_type": "code",
   "execution_count": 5,
   "metadata": {},
   "outputs": [
    {
     "data": {
      "text/html": [
       "<strong id=\"unfoldBasicComprehension\"><a class=\"ProveItLink\" href=\"_proofs_/unfoldBasicComprehension.ipynb\">unfoldBasicComprehension</a>:</strong> <a class=\"ProveItLink\" href=\"__pv_it/90ed0ccd2650548bbf9d6f6bf57084f1940a78820/expr.ipynb\"><img src=\"data:image/png;base64,iVBORw0KGgoAAAANSUhEUgAAAukAAAAmBAMAAACLyxhwAAAAMFBMVEX///8QEBC6urrMzMxUVFRm\n",
       "ZmZERETc3NwyMjKqqqp2dnaIiIiYmJgiIiLu7u4AAAAU9Wx4AAAAAXRSTlMAQObYZgAACWJJREFU\n",
       "aN7tWn+MFFcd/+7O3s7N/pi7s6ZIhd5KgJBcsEs01ED0thyWpjVCKKexFtnWeKjXyjQiR6HAxoTy\n",
       "h8exCiQoTbjYVmuP4GLbi94RWblY9VrtYlrbGOGWRgkpxTug3EH4MX6/783vH3vncCpe9pt5b3Zm\n",
       "vt/Pm/m873zf971ZgPFEbmhYAcHkJkynpNQ0NJR5NT519YFbuQnTKSqhsl5VWa+yXmW9ynqV9Srr\n",
       "VdarrFdZr7I+EdbLE6BODs66/D98xHCBFz855jqTeKTxLcU8bPJV9JNXG65/EbwBjllZL9HBa5Wp\n",
       "S7I7KgRhPajpZMgnteIhic+2vp+qSTvPNhThwDXjUMjoc8r0BFv8zQyQ1KI3AAPRWf8Zne2qTF0s\n",
       "j/vachDWg5pOhnT5P1knyOsActrRVm2/HLUl1aDYvG2nokNETTFyGX8cuAjeADkL6xvIKluZOnZ9\n",
       "Q6AIE9R0EiRe4MVDIt0A+wAGtcPtmkeeJ05UY+mo39B3KDqlVjNZcydWdZfAG2DQwjr1R01+nCGR\n",
       "POZLwUbTgKaTNHLZ04WzO0+8w35sQ39eDHBKCwSPcy0eXBpLuvqdhqFD0SkLT7IdDy6h6+ANcMrC\n",
       "euKnHR1bxqNusKOjoxSM9YCmkyDztGKG2U6dtLvQzT4BEOXeFmnib8QQS7lUPfEK5wxLh6JTlnCn\n",
       "Tp6nuu48eANQMTLH0ba2v45HXV1b2+PdwVgPaDoJ8pBWNr385CuMrQ2Gp267yoJ3jEeGMzylCLPY\n",
       "Iqu6j9TgbYs9y/Z/2anoesxckvcliy3Dhq87AKgYrLcArHUjdduoi6QhqgRjfQKmoj1F+Dar8+Mb\n",
       "5CtrdfIidyf+FmJsmY8ZV1U6kLgzHuQhsEZNGdyzaI3x4j34Y3GmU9EpsSIP0WsumNx7AFAxWJ+N\n",
       "fQVw2OGPK2zUhTPYz/iKPtQzQGd+eeLDXrnU2Z3HW1ysa6YWyg6aCTXfbbJBivxOFlVA3wS6Cm7h\n",
       "gz6sf4iXGMRHJMKWLTnDU/fQyBnmwaQEG1mAUMuM+zwITDOUIuc7Crudik5Jgsh6ZegG4/4KxO8A\n",
       "DwAqButJiGOfJFNa7Nu+Eg5/xck6tncE6zkQHsHd99fC6QvuxqXbFXldyjU35aamPGF6fpTvsjZI\n",
       "7WQs5Y+eNVRIq8bne9UFXmSIcP3wzBMntNEU5ef40MKINpuIsFyaBWSshVXs1ahD7DLcy1ixKTrl\n",
       "NRYwcByu1+s/gwcAFYP1eDGJ9TAdnm19GF6NlWNlF+tH4CQjkB5YGkWHvO5u/ABe21Zysc5Nubsi\n",
       "PmVsdtalgg1yvx4sfdGlgqEi54zX3491fMqCfc4CCQq/Buv4+OxSkt3AG1cQ0WAd4KMm67qiU05q\n",
       "k7EhMkvguyLfAA8AG+tyjkzmU7R7dOs/4fXCilh51dI3l+at1J2h5ggM73WYMFVXDiXTqbobLtbP\n",
       "GHfK8N2sY9i3QurRt8UX3RgnWtjmx/p0rVCeSNCy4RH/oJOKHjj2YtlBGYoK+74qqxmd9RAxIF6k\n",
       "RQ27ovMdRw+tpVtaPiI9nR7+ANV5Sw4AW4SBtUuwej7cW/4tqQ7s3uzh69H11G/Hf8zeTWJRdY2Q\n",
       "sQ+oe8dcrDPT2MtNLcDwifWmLE9lOeshO2Q9hHvpxvp90dHAUOn3Z/0xXhLKUYizDv2cfoU6fhX5\n",
       "JbPcoREqqLuz57ZQO5z1KHrY7+Ij8GunIu9D0CtinJiH5isL5beHMpStNH3LDZCwjqawl9ro/MGw\n",
       "wqAHYu8vcrMurWY+0niFAlee7hDg845JCV1rHoH7wMP0UCQ7XZtX7wO5MCbUm6x/ygYp5OBsnbKA\n",
       "Rnk/dDQwVGb7s/48LweKj8BmduKcPlSsLkA8q2eObOhkqd8bo/nQ+aLBOl6VrkXrxYJTUaZQNFzS\n",
       "q4V8oKXg8g1onEH98IePj7kBbJkjD3uX0iCw5GEAup9zs86jE4j3aD6Jrrdomv0hmSOi0+4FD9MU\n",
       "ZlEcH+4H8d0Se2iN9dk2SMx5ts6HXsatDzoaGCq4ydO8WZ/Py+m+93r4gpS4XRsLM7OXPsa8lLoh\n",
       "ktJWD0Bc/ZGhHOXMnHWME3L7oRePuBTl22mmmdWrJcbk/zvHd17GnAnqHgQPACom6wmshBmdIPyl\n",
       "ra0dWX/qnAfrf8LyLnauFn9DFwHedrBOQbcxbU1pTVOoUzT8eRlaBokUTNb32CClDHXMAy7WLeh7\n",
       "wFQhrY95JzEhhRdLBL7PzGGMiT5PX7XXoPbanKzOOkyroGiRlCUJhl3HvgCw4PdFD4BTrq8a8ewC\n",
       "Qc5wXw8vxrOKx6eJH/K3addn7k2tKbhYr73490drruKI3pTx+KqxANIcn6aLoVQobbI+1wYZzlKW\n",
       "fRs77YM+F0yVuQ5fD/f06GlAopsXf+lxr2OpmILorA9WUPSTXSqGwl6hPu0G6HGxHi18Og7LOOsw\n",
       "WPb+IIS9uFbcAc1vpd6kdSKkaKMidsHGMlWKcH1lcjn28YytRZepMPICvrnL9KEslL7LksOcAysk\n",
       "ZRq30bRgELAtjl22o6OBrkJb2BrXN0FEmcBKr2dyyuZIo0ZcNxdq5dyEWV+jote0C6WCC0DOuViv\n",
       "VaK/gNP4roSfTkEEvFl/sLVVEa5hcH/ncjnPKGouCmPQrFBVhPUzd3VJEP5exm0qt+/tKzN8xrr0\n",
       "wNctrGMabIGk7HdPL97hSsC2OLZiR6f5haZCmz6aJlpbAV4HyWh+vVb8JOJeqRCHMFqJL1xipIkZ\n",
       "f0U/2XKJJTvtKRcAA/H6bvoTjLueiynW7y1s+f+VDKfI/G5CvyJXV+Gkq6voY8rxkfUOCsoG6/G8\n",
       "DfJXICoU9nNaW250NDBU+CxJ6sMfz7IFqnZz9kjJg1jhM9ZL41G4eaKKEwF4CSD41+q7qTqKScfi\n",
       "O/IgGE7AfsXVMezSnpQf63qE+aYWFDjrfH1Eh4TTEO2exyegd3ujo4GuQlrIemKOkBF5Zz/5XbiF\n",
       "JSjr7NmemG5xfPOX2JCvZGqsw+zvsy25PGOFBKko9eMYGLG+SQ70Z0BXIS1ah2mJF6WvYYQRFX1p\n",
       "bGqx/u+u9LpDp5kQaANIwr6kNMDqQxVwNYNDbAtTPlyKplksSeSDh4Mpzfp/RPoPs4EVYn0vpqqs\n",
       "/5ceRiz+COM+5TC3uEwp1oWHC/B/IdV/3N3arI+2BXWkmzCdkhJvW1fm1fgya5YStJmbMJ2KIs6a\n",
       "xat/AVNhSq7wpt0IAAAAAElFTkSuQmCC\n",
       "\" style=\"display:inline;vertical-align:middle;\" /></a><br>"
      ],
      "text/plain": [
       "unfoldBasicComprehension: forall_{k in NaturalsPos} [forall_{S, Q_1,...,Q_k} [forall_{x in {y s.t. (Q_1(y) ,  ...  , Q_k(y))}_{y in S}} ((x in S) and Q_1(x) and  ...  and Q_k(x))]]"
      ]
     },
     "execution_count": 5,
     "metadata": {},
     "output_type": "execute_result"
    }
   ],
   "source": [
    "unfoldBasicComprehension = Forall(k, Forall((S, iterQ1k), \n",
    "                                            Forall(x, And(InSet(x, S), iterQ1k_x),\n",
    "                                                   domain=basicComprehension_y)),\n",
    "                                  domain=NaturalsPos)"
   ]
  },
  {
   "cell_type": "code",
   "execution_count": 6,
   "metadata": {},
   "outputs": [
    {
     "data": {
      "text/html": [
       "<strong id=\"inSupersetIfInComprehension\"><a class=\"ProveItLink\" href=\"_proofs_/inSupersetIfInComprehension.ipynb\">inSupersetIfInComprehension</a>:</strong> <a class=\"ProveItLink\" href=\"__pv_it/e25c9e39e9db8a1cb040de4e8886b3d9945f16830/expr.ipynb\"><img src=\"data:image/png;base64,iVBORw0KGgoAAAANSUhEUgAAAggAAAAmBAMAAABT634/AAAAMFBMVEX///8QEBC6urrMzMxUVFRm\n",
       "ZmZERETc3NwyMjKqqqp2dnaIiIiYmJgiIiLu7u4AAAAU9Wx4AAAAAXRSTlMAQObYZgAABrFJREFU\n",
       "aN7tmntsFEUcx393e3d7e49tKz5CFHogaiMhHgkKmmBPS6iKSgXPRHw1mFxVYlyUUBIRLybKPwj1\n",
       "gcH0D08SH1ByHK9GoIELj6AQSUnUEE3JhWDTCEIj2koo1N9vdu929na3h9umGrhJOjez+/t9Z+ez\n",
       "M7+ZmytAySRXVTWAszQM19FIT1SN17LSPal03MowXEcnjS9kZQhlCGUIZQhlCGUIZQhmCLkr6Yns\n",
       "HIL8X/Zxsv2tUISD0EkfR0r0JMzcMk4gOHUdiSTErK8fiD+/D+ZzEDbQx+oSPQm04Kc/5wSCU9eR\n",
       "SDbN+rPQ3Qt+DsJSzMXGEj1hBksdTQenriORdltffgRASkIopUMgWt6WUtGNhsrTzgKjQ9cRC3v5\n",
       "dPr9ruOsIJ7HiZJRg7YGIfRVc/NbJXtyuLm5udMZBIeuI5DcST4+rMrPDfcFrEUBXuaWyL5E4mez\n",
       "QMDYk4pE4tWUMwhX4vqGRU0q7dAytJUXmxXb6lufocrSQnwQB7exzy84CHUATRYCxp54ouBTEOCC\n",
       "tv3q0DpWZ9Xnb7qujxZD0Fz1JG7SyxH1SoqXFFVkQspeXTO5j1m5N9nFxSzAb/B9dhxVuD7uHeyj\n",
       "B1rHQZgEMg6bLakhIbhj0IPF28DdSy/pRkV+LWJu9YMm6P6jGILmqqfFHBI1IvsMkj7t3np7dc0k\n",
       "EGFWXpuDGxfeTsFe+IiehIv94oFq6vwEDkIYgkgsnO/TjHgkeEOuGAJuJzpYzh77M8zeNs9zqQ8b\n",
       "uGTaMaquanCKP6u+ASOEVoNkq3avx15dM6G318NCvWWqwD7lYLYaCMZ1dWmBkegNYFbLQQhmwzhd\n",
       "ztGUkXfEs6HGNKS9sx6b9bChJx1wAkuXARCYPIjGFZdNjZ6jS4O5YgjMlaXgwhVnrSA0GSTzA9cT\n",
       "tVXPm9Qxq6EgANxcvG+iHhRDkJPTsDCFau13nM2FjnghbZoO0MNUjrEhGviTWug3NbqZTAYVsHIN\n",
       "bJ9cBwfZRYTgbgdXTodQaZBEn8mN+GTBjK16paaAGwG0soPgalEXRNq5y4WBK+PkEfuLpgM0PUih\n",
       "0t2eC9HcCt07PWMBwbeEsP5afYHEKavtBU/RhqwaGxUGwZO0cE17GsdCMg/hdIUyVR8JQpKXxJqc\n",
       "6RcqKZhYqGsOqsIkFnLsIPjwnR8K9sIeqjxamFZo7SXpb3kIawnSqg/PKWwjGYqm91tAkJ5TY8oD\n",
       "+Te2OSZ8rhgbpdeEr1RqsHCNYKjW4j1u2FZMgXYdAvaDk8SaeLIz2EhdtVAnxGiiKsxgQOSbrCEE\n",
       "GkAa8FWKbET9ng963l9AbZxfIsFFRn9F2YpDEAKBx80Q2NQ6iTMTtLlbHYVwMQQcGa7z/P5Td4UK\n",
       "BYSfEolFUBNjIOboEKQYL4k18KQ8GRMEVZ0QkwlTUCHABOvlwd0J8qL0RjUsi+9qIcbjnjU7S4V3\n",
       "eAghVBduWQUwM5FIZEJR8SgGMrEYwlH8+xTgHlp/z59a6L0IJghr7p8deSED4ZPbza4wFaKyOr4X\n",
       "4N91MIYbCY28JNZwcXNFWcGsTojpDlO4nZWNI+HOXTvzRcN16SF9dSg8m+FQJdg4VYBT6kiAW/fY\n",
       "nIw8RXF5mSJcmheem2VPLK6EZTlxNWUrofbHyA8Ydl2Hzphchd6vccmuz8cEGMP2GxoEDFqcJIUw\n",
       "V/QufJKUlTohJhOmcJisjNtjMd8MsNv2KZAphuDLzAyCR1EhhNI2EObH4wrUZmHJuDWrJfbEwgDU\n",
       "KkI/ZQMYMI7/nWuBmu1mV3nR2l056I7kIXzcnuSWSBx5uiTVpDkv4YyMWKkzxCc0hXlkpQfGg/EG\n",
       "CGWhpcRXaW4bYoDgV3xbQV6IpRrMYkOekdGE8lx8Un3ikH5UQ9ncHTHo8J+xc/0SYwJBEBVPhoPA\n",
       "xm9BEmvNNOH9luoM8U5NIcmsCEJryg8BmvXye9v0UREbAkK9zRljAGNCyYNCgcZLcLAfhC0bAKYX\n",
       "rk9Xt+UK1Ae2DnnGiBB8qRp+s9QNvCTWXqER3mqpzhB3qwpShlkRhH0N02C52vN1+ob+TXsGwehw\n",
       "DlrZOxGrWvRhwZUWjy190IrfHaTdKR6ClOUlsda6C9h4tFBniKUsU/CoVvTdwRPtgE/iOB2a89+u\n",
       "/t+nzWKbXtbG636DgVoLDDWhVZM0s3LTGhiGF9X3/p32jq/FI/fg7kqKkQBtG9dfs787LJdwEuyI\n",
       "/9v/hri6INx9ZDg/vlwlEIZzFFuGcKUQ+hJOf0AahutopPbEZS0rnSZOVJw2MwzXUUivT4yw7B8w\n",
       "Awz/heKeXQAAAABJRU5ErkJggg==\n",
       "\" style=\"display:inline;vertical-align:middle;\" /></a><br>"
      ],
      "text/plain": [
       "inSupersetIfInComprehension: forall_{k in NaturalsPos} [forall_{S, Q_1,...,Q_k} [forall_{x in {y s.t. (Q_1(y) ,  ...  , Q_k(y))}_{y in S}} (x in S)]]"
      ]
     },
     "execution_count": 6,
     "metadata": {},
     "output_type": "execute_result"
    }
   ],
   "source": [
    "inSupersetIfInComprehension = Forall(k, Forall((S, iterQ1k), \n",
    "                                               Forall(x, InSet(x, S), \n",
    "                                                      domain=basicComprehension_y)),\n",
    "                                    domain=NaturalsPos)"
   ]
  },
  {
   "cell_type": "code",
   "execution_count": 7,
   "metadata": {},
   "outputs": [
    {
     "data": {
      "text/html": [
       "<strong id=\"comprehensionIsSubset\"><a class=\"ProveItLink\" href=\"_proofs_/comprehensionIsSubset.ipynb\">comprehensionIsSubset</a>:</strong> <a class=\"ProveItLink\" href=\"__pv_it/5004a53c20ad812a20a353d465329cbb024960450/expr.ipynb\"><img src=\"data:image/png;base64,iVBORw0KGgoAAAANSUhEUgAAAg0AAAAmBAMAAAC1wrV7AAAAMFBMVEX///8QEBC6urrMzMxUVFRm\n",
       "ZmZERETc3NwyMjKqqqp2dnaIiIiYmJgiIiLu7u4AAAAU9Wx4AAAAAXRSTlMAQObYZgAACA9JREFU\n",
       "aN7NmX1sFEUUwN/d3vftba8qKIr0RAgkxPSIgILBHoJfIUD5qJoqaUVzCGI4DYpRkYuJ8k+hp8aI\n",
       "MYaTpBIkLVekhAjRE+NHIMpBBI1J7ZUAIUJtSy2lQrvOm5nd273b+xDD9SaZudndmbezv3nvzZs5\n",
       "gPyps3wUXHs6CKWbpIVYWsvLk4W07vw/r3LXlzAHmMx+TNefwyeljEGZpevPQbqxpDlAQ5E42KpL\n",
       "m8PGUHE4VCZLm4M1UBwOb5c2BrAPFIWDMFDiHNhEXXcO1gT9+S6euvXh9f+2WTsKb3uUc0gWxOFa\n",
       "rdwUw7Irqrm1XamY6bPvy4ceTz2cwn5EX26x4tMVJ0KpSyYJ4BDPMDVS8Ai7I4wDnbAj+TgU0Mow\n",
       "Vfmx/BqMOEzD4pux4JRVbRECvLI0N4byOGy7mrqepmifn2WwhvMPTXyw5gLB7almHHbivS35OBTQ\n",
       "yjAxAp8ackBxlstE07b1Kbccit45ckpdRLo6ZT9oJdEU5tnlzdJzf3t7+3ElcpDW4ggSjMMr6DTr\n",
       "83EooJVheiE7Bzcqc904UpT1K88OqJMVzeV0ehGXrEYm7phSO8xzNg6zv1KrFvKGrdi5h3HAKbBG\n",
       "8nEooJVhOpmdA/poZhKmIeXZODUM9eYQykyiIgGQvjvo5DkLB/uvmgCKqNN96Fv6mARxx/r1G/L6\n",
       "yQJaGab+7Bxwi+PpxVpZr+LvUma9KofQDvqVsjdts4TRa4TlLBwsGvdbSZrdjS5pkJO8FAz+ntnF\n",
       "lbZuGrfKu7u4onCQmqKwManlUIuDoZy6FX2wEl39sxbswwBN2YWaqUVIsqoPtap4F3lCszGHc9qA\n",
       "+oo/NUTkMBdgpYENpnHgraZ/fhC7n998bK7RZ+9vv8mvU0Tm1J8gIzP3cKe5XbPDqbsInMYM6h2J\n",
       "lUQrqcluzeEeZB+n0RpVJHHxzjDLYo9hz2nanaYss8/+h3OYABLp2RrNzYG1MldDJblwjg5Jaw2W\n",
       "+HdXwtmLunCSchBuAJhJIqqgjsMNqOHDWKsbhOkLqKH7QIgsBxtxyHdk5+CRk5RGBDw+RRIXb/ay\n",
       "nCWc13KAN+ZQd0tNFzl4wE2mwaN81r01PveoZAYH3oqYHzoqMtCNiYzXOC8RDRjScUDjE+YQHUmS\n",
       "iOqKjgMCq6D6iyU9pijzgQS3QRnx/1U5YrNepexOKpK4eKGHZbA1GBLUX+6Oazm4454kFym11cTF\n",
       "+hZosc5bMO9RHQe1lYimSaplw5mhGd6Sk+kcwIxnENuSQl8Ghw6EKZKZVTmAc5gGXzk4eCjqo0T0\n",
       "XSlJTLzKQe/LhNpd31IlT614Io5Xx0EKo7pQkfsm/ZUUj1ihJdMuWCvPrag2rr9xzJk7qN0YDcqh\n",
       "DLuAR6iPcHt1HMZgQNTjfMff/bdybGWK0FCwFXLahUWGrc9IMnlZk3lfkkti4hW7SPMPE8FMb0jH\n",
       "1Vtn1LMHhQOsfACYSBH9sDjznpgBB9ZKWoxzZ8JZruoBS9quo4I8E2SwpFY/OzOFZmqxtoCOwxoU\n",
       "MjhD+rUjoHCwkQlyVMOzpPojXlMdVSrqlSC/X9+1AeE1vNcd4pKYeDHMcmq9OF/zFN0VsBjwnBqv\n",
       "ox9epvOT8EGCi6TBrOhv+daIwwfMH6zzclXYHRA+Dek5oCoQXXFqjqD+UeOHZVAZ13FooiaxCirG\n",
       "qseYuORZA+ar/KmEBtCd4BX1Co5eiph6UVi/X5XExGesm+4Vb/4FErFXvoWZsJnH1ctj/GySLmmU\n",
       "A90ToshZjIPLtdCAA7aSiB/r4a6hwg+edA5EmqlPF3eOUjmcPVAX0nGglvjysc2XaaxCOZjxm59v\n",
       "Q8xv4ZdXkB6dZLTSaOBFJz6zL7+lIwxREMY2qJKYeIePZeQwpZ6Ep9/RBse2ZxhXYMK8NSkXRjmI\n",
       "pKAiZweDwZjot//8B3lXOgds5YyAQIbl6Du9wko0Pp1D4/0P+epi4Dm1V731jiaebE6Lq3nvxkOP\n",
       "qcfaN1OtSChxtTmUMf5JfB92dWI9mdCpQkpSsz6ulmIDgheYiZ6pGMzqbZwD2sicijzN9AHu/CrL\n",
       "OYy1HmyhV0PC0BLPojjlYN8ErybtW7DYBFUnfL8QLTP9cEHtuljhYElIY/QclK1UozyociB7pAXQ\n",
       "iYFxTHHqaYnrt0MmjsoWm+3mkrj4XTwTDvZTCXe9wN9hn5OVg6tHy4GKtIQYB7ElG4fpNY9DVRzW\n",
       "3d64xUk5kAWhKiQMYHGVvO23y8kITN6r2RLRF3xD2kZtUYN9N0ZRMlGx1xqf5Pvu32G1GgFn52CV\n",
       "SaziCNn2cElMPIZ6mOn5gyVqiQkng8Hn4RTxK6xXe3tq3618eVjLgYqUVuCmhRSBnOdyOBTLlWXM\n",
       "LkTdigyL2gJw0HFBf9oDXTFwHliSfv6wjv1s6NfE4QH4uA2X5ofpZSwDg1tp2KH9P2AdF48TSSdz\n",
       "qg+DU5Nfol/yEQ/bDRMGbennky7iH/KeTwohGp0PgNC6E+Ae9T6tfU3WjIdde9SbDjbcwxrXqT60\n",
       "G7zrdf65/v926MwlfcEzPZ80+Ss5z8cMd1DKiVnoGs9p6bzbyyM6PVVqL45JO/zyjthBtHP+c2QZ\n",
       "QeVaWlMTytqsuSjn1dLFEeOwHuaT8jPiH3KmscX5H+ezEeOw2hwuRGu8xeHQ7R8pDh9/WUgrT7w4\n",
       "HNxhKOn0ExSHAzSUNAb7zcXi0OUvZQ6OyH/g0J3P5+YkvqmUOcynthtcWxAH8/hJ/+NVL5UwBome\n",
       "RtrHj4d/AWHKlXUNC2vDAAAAAElFTkSuQmCC\n",
       "\" style=\"display:inline;vertical-align:middle;\" /></a><br>"
      ],
      "text/plain": [
       "comprehensionIsSubset: forall_{k in NaturalsPos} [forall_{S, Q_1,...,Q_k} ({y s.t. (Q_1(y) ,  ...  , Q_k(y))}_{y in S} subseteq S)]"
      ]
     },
     "execution_count": 7,
     "metadata": {},
     "output_type": "execute_result"
    }
   ],
   "source": [
    "comprehensionIsSubset = Forall(k, Forall((S, iterQ1k), \n",
    "                                         SubsetEq(basicComprehension_y, S)),\n",
    "                               domain=NaturalsPos)"
   ]
  },
  {
   "cell_type": "code",
   "execution_count": 8,
   "metadata": {},
   "outputs": [
    {
     "data": {
      "text/html": [
       "<strong id=\"foldBasicComprehension\"><a class=\"ProveItLink\" href=\"_proofs_/foldBasicComprehension.ipynb\">foldBasicComprehension</a>:</strong> <a class=\"ProveItLink\" href=\"__pv_it/2ad12f6d0a5e52eac1b8c48615b7ed64c89d6ed10/expr.ipynb\"><img src=\"data:image/png;base64,iVBORw0KGgoAAAANSUhEUgAAArcAAAAmBAMAAAAsFq6LAAAAMFBMVEX///8QEBC6urrMzMxUVFRm\n",
       "ZmZERETc3NwyMjKqqqp2dnaIiIiYmJgiIiLu7u4AAAAU9Wx4AAAAAXRSTlMAQObYZgAACQ1JREFU\n",
       "aN7Vmn+MVNUVx8/Mm5k3P3Yes/0hxQI7JTWYkGaHpLYpjd1BEjChlUVZtVjjlDZDK22cWiImjbJp\n",
       "Yv2jK05rSG1I42hC/bGBLgqmCqmjxtjQGNakWkOCvCWWGBF3kcK2BXd6zv3x3n3vvnnMjLWducm+\n",
       "uXPf/Z775nPPPffHWwAtTfV/FjpMH0PaRjoE3Zqs69jH+v7FEO/vt4MIdW586n/xCzKlroULV4rP\n",
       "xfgX6UW4v+tetk7H9ypc69NdDBfGehtuYrib4W6v9DTcQbub4caLPQ33vm5mC+ZsL8M1Zrsaruj7\n",
       "HoUbn2x255W6m//NJ/8gKx4PLD6iwrWDCNmdw/2kI2JkosmN0zXly2MyE6Xqfd8deKPi3lzGP/ry\n",
       "4S2FqF6i3PJqkGq6qsBljvAXHyG9sGW4nUpbTUOFJjdegCC4XyYe/XV45KIbWIoic0M42xBVnB4i\n",
       "Phokyw4rcJ+k/A4fIb2wZbidSltNLzS78WggXHqSdXhJNZxOScrBlQxtKFRFXNO5IFlsUoF7F01x\n",
       "JR8hvbBluJ1KW00/bgtuBqNC/AxxaTjL44OOb9bCYnuo6nBTuJkZBS71SLzqI6QXtgy3U2mr6U3v\n",
       "11MPHHsrBC7N2HxsDzgT4WJnr5cLaSdcNdUUbvSsArfv8W3b7vET0gtbhtuptNV0zrswG7NDPZcO\n",
       "Uo4zCA2JIuqGyh+GtBOuSlSbwTX+pS7FzpfLR7X1lFbY+lKsQ2mrJwsX2FJ9fM2uWyhzl62GBWt3\n",
       "DbbbKtyNiIUNbashfTCOw/q9jWDOAexu3k6QSpgnVXq4GVz+gBLuKoDNGiGtsHW4bUh/yq6pdqqY\n",
       "bLS+B6/VF1FGaelm/LnRGTHhPeaeo8QbeQcWm5BwOVwbZLHx4ZCQG6AS5kmVQkfumwlU/luF+0Ww\n",
       "sOa+mocQL4SrnjpE06X1x2OfCVoBnXrg9VUaXCF1kzACeb/I5G0a/nlFaU6rYjC4NfyRD1FNd+Y0\n",
       "PgXwNdxhlD1wsTDbsBmsKhisdiQPRvVWSOCXLzSH66o4GVRJ86SK5ppuxM+pcLOQwV7J5j2EeGF0\n",
       "GAap5Feb4eSHupnUZRXrjrwfLpcqA0wYgZJflPCvm0RSmtOq8JBmw2pue9GxY3xCM1Zid9i4w7jg\n",
       "qY9mImcYnDNgbGBjfF4eLPg8zMN1xFDIXkWqBBlUSfOkMshrE2OXhJupZ/E6bXsI8cIs/3Wp8+hC\n",
       "HwVMqIhr+6QfLpdyFzwwUpdGJFxFtEtUe9fXZ0pzWhUOF5COZ2WPnOmY9xHbOOuHm2WmjqAuJeFC\n",
       "ao5tRkLguipOhlTCvAP36KU91xqlXcyXvIR4Idrto485mje1fa1FRfPm/HC5lKVnl35gSyMCriqS\n",
       "ATPmDTlqc1oVHhbAPIvuh9aUrr2Wxd1MzgN3AUob8PD3rEZRwo1U2eZqH4SGBVfFyZBKmJdhwRdz\n",
       "jY3jL2twYfM1eNkdfdZWT19YYfZyNiT+QP7RqPjbT/+DenRWO7hh0vFr9hf62GwgjAi4qggfML1/\n",
       "2Sq20leS2pxWxWTD/lWcjv5EmW+6sj0sCiaKHrg/wh/deKh0+h5qlsNNYNBKDsP3MftnHmKAdZSb\n",
       "oYur4mRIJcyTqm9UWy1cAdEZbUKDndTm2K+nKyohVmitb1CHDVSpMYDrfGGJRujQDHMZvzRtr45U\n",
       "+fZSGBFwpShmg4EPuDdWWgDRoseuaC6GtwOq0LOnLiZyJsN9Ou/ZoW2AwboHLi2bjpyvRs7UHbi0\n",
       "iooXoxfFXYvG//SkkuEXR8XJkEqY15dip0a+ww5VSs5yxoHLzpnOFbyExOHT1pzwIvS4FfO9cJn/\n",
       "oZvtBF0apUXQClG6NefCFSLj0QoDlqcljuFdXYjmUvj8AVXo3b21Ze9T/P26eV9BhXvy4G0VD1wa\n",
       "0+atnzs+igsMATdKILccoOf4OdkaQMUUPpt1GfAMTM2qKk6GVMI8qZJ5BW5m070fgIXBrK5tIqAP\n",
       "L8bCMS8hKrRwXp0R8S+CkfxvPrgUGwcK8G3QpQD4gFeXy+UJaUTCFaJsBVLkjfMqOlzeHO2hA6r8\n",
       "wjf7Xevd/u7xbX856+TFK0oSLjAfSU/K7W9Ui3ewFFyVJDNfmvdsf5eVkOMr7NbrvM3UrHZYnikt\n",
       "N7QT75RYGj74jdX52yY0uMmz72yKYwh8e1lRPyw3cga8oxoRcKUI4UapYDkUeMZNornsif1BVdaH\n",
       "HNzEJq0FXrjibCbZoNAk4B4G+BZM0f6Vjc4+3ZRYSjKVJHNYmmeqcQ7Xmpg1csA7/u8DzGfTMxrc\n",
       "xMTVGY1QvASJink/DL2R/ytFEoR7d8XcAXfbdKkYH12fXYfPsfDeuiYdSo+mIVaRRly4UoRwcao3\n",
       "Zp7AkYcEHLtuc5FX3/dUkeu/ZqfxL6LRWqIWcORIm4HzTsylo6WjcLuzvmsOl6kkGVRx8++yFRE/\n",
       "zzVPTGZKcodjrmQkRzW4yUriaR3uVSM30drHXPnWP+0qgztUN2ZhqEKXOmxd9OCOFER/WdRf85x8\n",
       "7pa9YG2SRpR1LhcRXHgbY9/O522I5127bnNX7gdPFc9Jf9CbiAlIHbzev+nYyn/3cQzg5hPnmKua\n",
       "Rdh1gOytYff0NxvSzZhKkkEVN08q5jbL0UasFpsw3iyXt8AJfDQW9ybaeYfGenbdgSIPC3VP98Yu\n",
       "bMBNw456E2kaY677TY5sEjG4zynHz3WtuUPJ971VRK7pvy0cVrA7nmIGvBX6mWBYaOvcRFU9I9+h\n",
       "RfKRgsWc67cAX2FjttIO3K+y83+cwr9+OYZPJ/qzXKYxi704nm8i9SYJl0TGvifRvcHZhrl2nebW\n",
       "pJ/2VJHwc9BFKVIYFCPgRrHj2QPtwGU+9ZMF4AtQLGf2V8OkwXAdUUq4a1G162lOrSL3hR92E9zU\n",
       "2h+gB5Bz3TAywhxkYVtw2z1ybJqKWsnLPHjYISK9yu+7Ce42WEuPhDFX0s79f+D+l9J0oYvg3h4d\n",
       "9R341Hsabma0i+Duet5X8Br0NFwYg+5N5vweh3u60L1wk9VLwJ12w3Pb8bBzaRvecX/3wl3Lz7HL\n",
       "c5Ap3xEEN7pkaae2P4a0jXRn17K1+Ir/ziV5MJcsgf8AS3NdsVDaIt8AAAAASUVORK5CYII=\n",
       "\" style=\"display:inline;vertical-align:middle;\" /></a><br>"
      ],
      "text/plain": [
       "foldBasicComprehension: forall_{k} [forall_{S, Q_1,...,Q_k} [forall_{x in S | Q_1(x) ,  ...  , Q_k(x)} (x in {y s.t. (Q_1(y) ,  ...  , Q_k(y))}_{y in S})]]"
      ]
     },
     "execution_count": 8,
     "metadata": {},
     "output_type": "execute_result"
    }
   ],
   "source": [
    "foldBasicComprehension = Forall(k, Forall((S, iterQ1k), \n",
    "                                          Forall(x, InSet(x, basicComprehension_y),\n",
    "                                                 domain=S, conditions=[iterQ1k_x])))"
   ]
  },
  {
   "cell_type": "code",
   "execution_count": 9,
   "metadata": {},
   "outputs": [
    {
     "name": "stdout",
     "output_type": "stream",
     "text": [
      "Theorems may be imported from autogenerated _theorems_.py\n"
     ]
    }
   ],
   "source": [
    "%end theorems"
   ]
  },
  {
   "cell_type": "code",
   "execution_count": null,
   "metadata": {},
   "outputs": [],
   "source": []
  }
 ],
 "metadata": {
  "kernelspec": {
   "display_name": "Python 3",
   "language": "python",
   "name": "python3"
  }
 },
 "nbformat": 4,
 "nbformat_minor": 0
}
