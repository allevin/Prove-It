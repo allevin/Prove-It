{
 "cells": [
  {
   "cell_type": "markdown",
   "metadata": {
    "collapsed": true,
    "deletable": true,
    "editable": true
   },
   "source": [
    "Theorems for context <a href=\"_context_.ipynb\" class=\"ProveItLink\">proveit.logic.set_theory.comprehension</a>\n",
    "========"
   ]
  },
  {
   "cell_type": "code",
   "execution_count": 1,
   "metadata": {
    "collapsed": false,
    "deletable": true,
    "editable": true
   },
   "outputs": [
    {
     "name": "stdout",
     "output_type": "stream",
     "text": [
      "Defining theorems for context 'proveit.logic.set_theory.comprehension'\n",
      "Subsequent end-of-cell assignments will define theorems\n",
      "'%end theorems' will finalize the definitions\n"
     ]
    }
   ],
   "source": [
    "from proveit.logic import And, Implies, Forall, Equals, InSet, SetOfAll, Exists, SubsetEq\n",
    "from proveit.logic._common_ import iterQ1k, iterQ1k_yIter1l\n",
    "from proveit._common_ import k, l, x, y, S, f, yy\n",
    "from proveit.logic._common_ import yIter1l, f_yIter1l, iterQ1k, iterQ1k_x, iterQ1k_yIter1l\n",
    "from proveit.logic.set_theory._common_ import generalComprehension_fy, basicComprehension_y\n",
    "from proveit.number import Exp, Naturals, NaturalsPos\n",
    "%begin theorems"
   ]
  },
  {
   "cell_type": "code",
   "execution_count": 2,
   "metadata": {
    "collapsed": false,
    "deletable": true,
    "editable": true
   },
   "outputs": [
    {
     "data": {
      "text/html": [
       "<strong id=\"unfold\"><a class=\"ProveItLink\" href=\"_proofs_/unfold.ipynb\">unfold</a>:</strong> <a class=\"ProveItLink\" href=\"__pv_it/4ed60355e552454bb6a00f48586aab730a3f1a7b0/expr.ipynb\"><img src=\"__pv_it/4ed60355e552454bb6a00f48586aab730a3f1a7b0/expr.png\" style=\"display:inline;vertical-align:middle;\" /></a><br>"
      ],
      "text/plain": [
       "unfold: forall_{(k, l) in Naturals * NaturalsPos} [forall_{S, Q_(1),...,Q_(k), f, x} ((x in {f(y) s.t. Q_(1)(y) ,  ...  , Q_(k)(y)}_{y in S}) \\\\  => [exists_{y in S^{l} | Q_(1)(y_(1),...,y_(l)) ,  ...  , Q_(k)(y_(1),...,y_(l))} (x = f(y_(1),...,y_(l)))])]"
      ]
     },
     "execution_count": 2,
     "metadata": {},
     "output_type": "execute_result"
    }
   ],
   "source": [
    "unfold = Forall((k, l), Forall((S, iterQ1k, f, x), \n",
    "                               Implies(InSet(x, generalComprehension_fy),\n",
    "                                       Exists(yy, Equals(x, f_yIter1l),\n",
    "                                              domain=Exp(S, l),\n",
    "                                              conditions=[iterQ1k_yIter1l])).withWrapBeforeOperator()),\n",
    "                domains=(Naturals, NaturalsPos))"
   ]
  },
  {
   "cell_type": "code",
   "execution_count": 3,
   "metadata": {
    "collapsed": false,
    "deletable": true,
    "editable": true
   },
   "outputs": [
    {
     "data": {
      "text/html": [
       "<strong id=\"fold\"><a class=\"ProveItLink\" href=\"_proofs_/fold.ipynb\">fold</a>:</strong> <a class=\"ProveItLink\" href=\"__pv_it/941b8ef2e1ef9e616096c9e982b1b63939570f3d0/expr.ipynb\"><img src=\"__pv_it/941b8ef2e1ef9e616096c9e982b1b63939570f3d0/expr.png\" style=\"display:inline;vertical-align:middle;\" /></a><br>"
      ],
      "text/plain": [
       "fold: forall_{(k, l) in Naturals * NaturalsPos} [forall_{S, Q_(1),...,Q_(k), f, x} ([exists_{y in S^{l} | Q_(1)(y_(1),...,y_(l)) ,  ...  , Q_(k)(y_(1),...,y_(l))} (x = f(y_(1),...,y_(l)))] =>  \\\\ (x in {f(y) s.t. Q_(1)(y) ,  ...  , Q_(k)(y)}_{y in S}))]"
      ]
     },
     "execution_count": 3,
     "metadata": {},
     "output_type": "execute_result"
    }
   ],
   "source": [
    "fold = Forall((k, l), Forall((S, iterQ1k, f, x), \n",
    "                             Implies(Exists(yy, Equals(x, f_yIter1l),\n",
    "                                            domain=Exp(S, l),\n",
    "                                            conditions=[iterQ1k_yIter1l]),\n",
    "                                     InSet(x, generalComprehension_fy)).withWrapAfterOperator()),\n",
    "              domains=(Naturals, NaturalsPos))"
   ]
  },
  {
   "cell_type": "code",
   "execution_count": 4,
   "metadata": {
    "collapsed": false,
    "deletable": true,
    "editable": true
   },
   "outputs": [
    {
     "data": {
      "text/html": [
       "<strong id=\"basicComprehension\"><a class=\"ProveItLink\" href=\"_proofs_/basicComprehension.ipynb\">basicComprehension</a>:</strong> <a class=\"ProveItLink\" href=\"__pv_it/cbe6926b92887eb8ac1d4d80dfd91725dc0fa2500/expr.ipynb\"><img src=\"__pv_it/cbe6926b92887eb8ac1d4d80dfd91725dc0fa2500/expr.png\" style=\"display:inline;vertical-align:middle;\" /></a><br>"
      ],
      "text/plain": [
       "basicComprehension: forall_{(k, l) in Naturals * NaturalsPos} [forall_{S, Q_(1),...,Q_(k), x} ((x in {y s.t. Q_(1)(y) ,  ...  , Q_(k)(y)}_{y in S}) \\\\  = ((x in S) and Q_(1)(x) and  ...  and Q_(k)(x)))]"
      ]
     },
     "execution_count": 4,
     "metadata": {},
     "output_type": "execute_result"
    }
   ],
   "source": [
    "basicComprehension = Forall((k, l), Forall((S, iterQ1k, x),\n",
    "                                           Equals(InSet(x, basicComprehension_y),\n",
    "                                                  And(InSet(x, S), iterQ1k_x)).withWrapBeforeOperator()),\n",
    "                          domains=(Naturals, NaturalsPos))"
   ]
  },
  {
   "cell_type": "code",
   "execution_count": 5,
   "metadata": {
    "collapsed": false,
    "deletable": true,
    "editable": true
   },
   "outputs": [
    {
     "data": {
      "text/html": [
       "<strong id=\"unfoldBasicComprehension\"><a class=\"ProveItLink\" href=\"_proofs_/unfoldBasicComprehension.ipynb\">unfoldBasicComprehension</a>:</strong> <a class=\"ProveItLink\" href=\"__pv_it/9ce86e6a64112f99ad7f444579392dcc8a6cf5a80/expr.ipynb\"><img src=\"__pv_it/9ce86e6a64112f99ad7f444579392dcc8a6cf5a80/expr.png\" style=\"display:inline;vertical-align:middle;\" /></a><br>"
      ],
      "text/plain": [
       "unfoldBasicComprehension: forall_{k in NaturalsPos} [forall_{S, Q_(1),...,Q_(k)} [forall_{x in {y s.t. Q_(1)(y) ,  ...  , Q_(k)(y)}_{y in S}} ((x in S) and Q_(1)(x) and  ...  and Q_(k)(x))]]"
      ]
     },
     "execution_count": 5,
     "metadata": {},
     "output_type": "execute_result"
    }
   ],
   "source": [
    "unfoldBasicComprehension = Forall(k, Forall((S, iterQ1k), \n",
    "                                            Forall(x, And(InSet(x, S), iterQ1k_x),\n",
    "                                                   domain=basicComprehension_y)),\n",
    "                                  domain=NaturalsPos)"
   ]
  },
  {
   "cell_type": "code",
   "execution_count": 6,
   "metadata": {
    "collapsed": false,
    "deletable": true,
    "editable": true
   },
   "outputs": [
    {
     "data": {
      "text/html": [
       "<strong id=\"inSupersetIfInComprehension\"><a class=\"ProveItLink\" href=\"_proofs_/inSupersetIfInComprehension.ipynb\">inSupersetIfInComprehension</a>:</strong> <a class=\"ProveItLink\" href=\"__pv_it/f416657373485ff5ed97af98cf9a9392723f04360/expr.ipynb\"><img src=\"__pv_it/f416657373485ff5ed97af98cf9a9392723f04360/expr.png\" style=\"display:inline;vertical-align:middle;\" /></a><br>"
      ],
      "text/plain": [
       "inSupersetIfInComprehension: forall_{k in NaturalsPos} [forall_{S, Q_(1),...,Q_(k)} [forall_{x in {y s.t. Q_(1)(y) ,  ...  , Q_(k)(y)}_{y in S}} (x in S)]]"
      ]
     },
     "execution_count": 6,
     "metadata": {},
     "output_type": "execute_result"
    }
   ],
   "source": [
    "inSupersetIfInComprehension = Forall(k, Forall((S, iterQ1k), \n",
    "                                               Forall(x, InSet(x, S), \n",
    "                                                      domain=basicComprehension_y)),\n",
    "                                    domain=NaturalsPos)"
   ]
  },
  {
   "cell_type": "code",
   "execution_count": 7,
   "metadata": {
    "collapsed": false,
    "deletable": true,
    "editable": true
   },
   "outputs": [
    {
     "data": {
      "text/html": [
       "<strong id=\"comprehensionIsSubset\"><a class=\"ProveItLink\" href=\"_proofs_/comprehensionIsSubset.ipynb\">comprehensionIsSubset</a>:</strong> <a class=\"ProveItLink\" href=\"__pv_it/9024956920972bfe6d3bce3e135512788d5007c20/expr.ipynb\"><img src=\"__pv_it/9024956920972bfe6d3bce3e135512788d5007c20/expr.png\" style=\"display:inline;vertical-align:middle;\" /></a><br>"
      ],
      "text/plain": [
       "comprehensionIsSubset: forall_{k in NaturalsPos} [forall_{S, Q_(1),...,Q_(k)} ({y s.t. Q_(1)(y) ,  ...  , Q_(k)(y)}_{y in S} subseteq S)]"
      ]
     },
     "execution_count": 7,
     "metadata": {},
     "output_type": "execute_result"
    }
   ],
   "source": [
    "comprehensionIsSubset = Forall(k, Forall((S, iterQ1k), \n",
    "                                         SubsetEq(basicComprehension_y, S)),\n",
    "                               domain=NaturalsPos)"
   ]
  },
  {
   "cell_type": "code",
   "execution_count": 8,
   "metadata": {
    "collapsed": false,
    "deletable": true,
    "editable": true
   },
   "outputs": [
    {
     "data": {
      "text/html": [
       "<strong id=\"foldBasicComprehension\"><a class=\"ProveItLink\" href=\"_proofs_/foldBasicComprehension.ipynb\">foldBasicComprehension</a>:</strong> <a class=\"ProveItLink\" href=\"__pv_it/69d2e258caf35fa5233629b7477e15c2b79a317d0/expr.ipynb\"><img src=\"__pv_it/69d2e258caf35fa5233629b7477e15c2b79a317d0/expr.png\" style=\"display:inline;vertical-align:middle;\" /></a><br>"
      ],
      "text/plain": [
       "foldBasicComprehension: forall_{k} [forall_{S, Q_(1),...,Q_(k)} [forall_{x in S | Q_(1)(x) ,  ...  , Q_(k)(x)} (x in {y s.t. Q_(1)(y) ,  ...  , Q_(k)(y)}_{y in S})]]"
      ]
     },
     "execution_count": 8,
     "metadata": {},
     "output_type": "execute_result"
    }
   ],
   "source": [
    "foldBasicComprehension = Forall(k, Forall((S, iterQ1k), \n",
    "                                          Forall(x, InSet(x, basicComprehension_y),\n",
    "                                                 domain=S, conditions=[iterQ1k_x])))"
   ]
  },
  {
   "cell_type": "code",
   "execution_count": 9,
   "metadata": {
    "collapsed": false,
    "deletable": true,
    "editable": true
   },
   "outputs": [
    {
     "name": "stdout",
     "output_type": "stream",
     "text": [
      "Theorems may be imported from autogenerated _theorems_.py\n"
     ]
    }
   ],
   "source": [
    "%end theorems"
   ]
  },
  {
   "cell_type": "code",
   "execution_count": 10,
   "metadata": {
    "collapsed": true,
    "deletable": true,
    "editable": true
   },
   "outputs": [],
   "source": []
  }
 ],
 "metadata": {
  "kernelspec": {
   "display_name": "Python 3",
   "language": "python",
   "name": "python3"
  },
  "language_info": {
   "codemirror_mode": {
    "name": "ipython",
    "version": 3
   },
   "file_extension": ".py",
   "mimetype": "text/x-python",
   "name": "python",
   "nbconvert_exporter": "python",
   "pygments_lexer": "ipython3",
   "version": "3.7.0"
  }
 },
 "nbformat": 4,
 "nbformat_minor": 0
}
