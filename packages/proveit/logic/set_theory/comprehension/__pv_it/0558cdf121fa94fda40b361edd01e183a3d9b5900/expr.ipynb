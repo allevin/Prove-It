{
 "cells": [
  {
   "cell_type": "markdown",
   "metadata": {},
   "source": [
    "Expression of type <a class=\"ProveItLink\" href=\"../../../../../../../doc/html/api/proveit.ExprTuple.html\">ExprTuple</a>\n",
    "=======================\n",
    "# from context <a class=\"ProveItLink\" href=\"../../_context_.ipynb\">proveit.logic.set_theory.comprehension</a>"
   ]
  },
  {
   "cell_type": "code",
   "execution_count": 1,
   "metadata": {},
   "outputs": [],
   "source": [
    "# import Expression classes needed to build the expression\n",
    "from proveit import ExprTuple\n",
    "from proveit._common_ import S, l, yy\n",
    "from proveit.number import Exp"
   ]
  },
  {
   "cell_type": "code",
   "execution_count": 2,
   "metadata": {},
   "outputs": [
    {
     "data": {
      "text/html": [
       "<strong id=\"expr\">expr:</strong> <a class=\"ProveItLink\" href=\"expr.ipynb\"><img src=\"data:image/png;base64,iVBORw0KGgoAAAANSUhEUgAAADgAAAAcBAMAAADGlWENAAAAMFBMVEX///+qqqp2dnYiIiJERESI\n",
       "iIhmZmYQEBDc3NyYmJgyMjLu7u5UVFTMzMy6uroAAACGxKilAAAAAXRSTlMAQObYZgAAAXpJREFU\n",
       "KM99kj1Iw1AQx/9tSZsYa507ZdahhYp1EeogKAgWFFwcCoKLDl0dxAwuujSCu50EQTCTRRFSRBTF\n",
       "oYu4KM3ooDaKxWKp8V4+kMZXH9y7437vuK8HcM9ZG73PQNozXjkwXIDCdLzKgX0aHpg+1TkwoULI\n",
       "k77m5bwnGQPEYsAvXS6fmPNkLALRQgAeQJ7FJBmGjpjZzfqpyiTWa0BEQz0QWCL3nWxRNdEcFsgx\n",
       "tAZkPNgYBB5xTrdk4YZ1vKGGbD+yWfOn1MYMUBFtNfrhuQTbnnKteAf7lCL8hUjTT7p19emORfzG\n",
       "KKlYE0bnt6aU5ij5zYH1FhqWNwLWoOZHHpLaKyJVduExq0l1YQcXDJZxpEBmniTJqldtC3PsaVGw\n",
       "TRhswUt5CDkvg4UGqVB2xNZRaZFZfb6d9hdeRoJ6foHT5lNg4Xk2aJpOiUVp3dBQEU9DeBez5l+4\n",
       "SzJBVWSG2eAC+xkn2e7xOyX2C0IKH2469w4fruD/8wOteGTvtH8y1wAAAABJRU5ErkJggg==\n",
       "\" style=\"display:inline;vertical-align:middle;\" /></a><br>"
      ],
      "text/plain": [
       "expr: (y , S^{l})"
      ]
     },
     "execution_count": 2,
     "metadata": {},
     "output_type": "execute_result"
    }
   ],
   "source": [
    "# build up the expression from sub-expressions\n",
    "expr = ExprTuple(yy, Exp(S, l))"
   ]
  },
  {
   "cell_type": "code",
   "execution_count": 3,
   "metadata": {},
   "outputs": [
    {
     "name": "stdout",
     "output_type": "stream",
     "text": [
      "Passed sanity check: built 'expr' is the same as the stored Expression.\n"
     ]
    }
   ],
   "source": [
    "# check that the built expression is the same as the stored expression\n",
    "%check_expr"
   ]
  },
  {
   "cell_type": "code",
   "execution_count": 4,
   "metadata": {},
   "outputs": [
    {
     "data": {
      "text/html": [
       "<table><tr><th>&nbsp;</th><th>core type</th><th>sub-expressions</th><th>expression</th></tr>\n",
       "<tr><td>0</td><td>ExprTuple</td><td>1, 2</td><td><a class=\"ProveItLink\" href=\"expr.ipynb\"><img src=\"data:image/png;base64,iVBORw0KGgoAAAANSUhEUgAAADgAAAAcBAMAAADGlWENAAAAMFBMVEX///+qqqp2dnYiIiJERESI\n",
       "iIhmZmYQEBDc3NyYmJgyMjLu7u5UVFTMzMy6uroAAACGxKilAAAAAXRSTlMAQObYZgAAAXpJREFU\n",
       "KM99kj1Iw1AQx/9tSZsYa507ZdahhYp1EeogKAgWFFwcCoKLDl0dxAwuujSCu50EQTCTRRFSRBTF\n",
       "oYu4KM3ooDaKxWKp8V4+kMZXH9y7437vuK8HcM9ZG73PQNozXjkwXIDCdLzKgX0aHpg+1TkwoULI\n",
       "k77m5bwnGQPEYsAvXS6fmPNkLALRQgAeQJ7FJBmGjpjZzfqpyiTWa0BEQz0QWCL3nWxRNdEcFsgx\n",
       "tAZkPNgYBB5xTrdk4YZ1vKGGbD+yWfOn1MYMUBFtNfrhuQTbnnKteAf7lCL8hUjTT7p19emORfzG\n",
       "KKlYE0bnt6aU5ij5zYH1FhqWNwLWoOZHHpLaKyJVduExq0l1YQcXDJZxpEBmniTJqldtC3PsaVGw\n",
       "TRhswUt5CDkvg4UGqVB2xNZRaZFZfb6d9hdeRoJ6foHT5lNg4Xk2aJpOiUVp3dBQEU9DeBez5l+4\n",
       "SzJBVWSG2eAC+xkn2e7xOyX2C0IKH2469w4fruD/8wOteGTvtH8y1wAAAABJRU5ErkJggg==\n",
       "\" style=\"display:inline;vertical-align:middle;\" /></a></td></tr>\n",
       "<tr><td>1</td><td>Variable</td><td></td><td><a class=\"ProveItLink\" href=\"../../../../../__pv_it/23a8703a0497efbbce779bb784cd8c2fbbfa1f580/expr.ipynb\"><img src=\"data:image/png;base64,iVBORw0KGgoAAAANSUhEUgAAAA0AAAAOBAMAAAAGUYvhAAAALVBMVEX///+6urqIiIjMzMxERETu\n",
       "7u6qqqrc3NxmZmYiIiKYmJgQEBAyMjJ2dnYAAAAI/qgrAAAAAXRSTlMAQObYZgAAAGpJREFUCNdj\n",
       "YLizi4FhJgMDb8O+ArZ3DAzR7O8KOJ4wMBjxvmHgfMTAwMD9iCHuMZC2e84g9wBIr9vAcO8AiD7A\n",
       "cO4CkK7bwPROAEizzZ7yLgBICzOAtDMAzap7DqSZ3rLPBkkzdM68CiQBR18fizMQCrQAAAAASUVO\n",
       "RK5CYII=\n",
       "\" style=\"display:inline;vertical-align:middle;\" /></a></td></tr>\n",
       "<tr><td>2</td><td>Operation</td><td>operator:&nbsp;3<br>operands:&nbsp;4<br></td><td><a class=\"ProveItLink\" href=\"../bcd0b30ef6e449637fd0ebe22c3f7ba5f5f8e9e90/expr.ipynb\"><img src=\"data:image/png;base64,iVBORw0KGgoAAAANSUhEUgAAABEAAAAUBAMAAACZjst6AAAAMFBMVEX///8iIiIQEBCIiIjMzMzc\n",
       "3Nyqqqp2dnZEREQyMjK6urru7u5mZmZUVFSYmJgAAACI6eGPAAAAAXRSTlMAQObYZgAAAHtJREFU\n",
       "CNdjYAAD7vsbGKBgIYzBUANnzYOzvsIYLAogku/OmX2LGyBKuPs5DIAM3gIGhkwmFyAr3oGBwXk/\n",
       "M5C1PoGBwYW3DCT22QFqAPP//61QZtylT3Dr6x+AzQXi/WDWHpCmABArE4jPgtUcNGBgBlvKcGHt\n",
       "3T4wAwCVhR8P75a8SgAAAABJRU5ErkJggg==\n",
       "\" style=\"display:inline;vertical-align:middle;\" /></a></td></tr>\n",
       "<tr><td>3</td><td>Literal</td><td></td><td><a class=\"ProveItLink\" href=\"../../../../../number/exponentiation/__pv_it/deb2bf23cbccdd6e6791e1b35b5b9794ce12dbd50/expr.ipynb\"><img src=\"data:image/png;base64,iVBORw0KGgoAAAANSUhEUgAAACgAAAASBAMAAADbMYGVAAAAMFBMVEX///8QEBAiIiKYmJjc3Nzu\n",
       "7u7MzMx2dnZmZma6urpERESqqqoyMjJUVFSIiIgAAAAoDOMTAAAAAXRSTlMAQObYZgAAAOBJREFU\n",
       "GNNjYGB4+//u3Tt/GNAASGAXmhjnPyDBgSbI/g1IxKEJ8nxgYGdgQRPkX8BgDKRY6q7s62OYvmze\n",
       "2wAgb/7ZO1+AVDiDkYEQQ0HTBr4DQF59AgOIKmB4z7CNbcNZBu6vQN55kEACQwDDLQYGVobfDHwg\n",
       "fb8YGBxYHwAZciD3fWXg+gB1JjvQcJZvQIXsCgz8F6DO9GBgMOH7wPCUgaeBwd4B7EwGNjUG7s9c\n",
       "AiwPgO5jkWRgiF3/9+5dfQUG1nWl5Y+B7pv+1gE9bBhqGLCAE1jEWH9jEbT5A3IwAC4sP/1L6Qlu\n",
       "AAAAAElFTkSuQmCC\n",
       "\" style=\"display:inline;vertical-align:middle;\" /></a></td></tr>\n",
       "<tr><td>4</td><td>ExprTuple</td><td>5, 6</td><td><a class=\"ProveItLink\" href=\"../42cfb5556fde8c316a23f3f3cc9d1049021cc1b00/expr.ipynb\"><img src=\"data:image/png;base64,iVBORw0KGgoAAAANSUhEUgAAACkAAAAVBAMAAAAp9toTAAAAMFBMVEX////c3NwiIiJERESqqqqY\n",
       "mJh2dnZmZmYQEBDu7u4yMjJUVFTMzMyIiIi6uroAAAAs73DqAAAAAXRSTlMAQObYZgAAAQtJREFU\n",
       "GNNtkS9vAkEQxd+FP3cHHOAr4AtU1vMRTmFIWlJTRYKiqUNgELQkNTjOVNSRkGBqsARDUktCi0Qd\n",
       "gToCfTN7kEDYZObN/MTbnVng+snOLsC9pKmkyvOLNnjcwx5TPxkpH++h0gQlADwxGAHxQKlNKQNO\n",
       "F7B2QMbYO5QesJILt6RjpQVKrIQGS+swPz7ggZGs40PqxWGTN3QIveJVaqvy1ja0I4ZN7E2X/FPJ\n",
       "7CSFSn3ANdRrGtoiqdNjrTQ26KrDnRnAHsAlzflVzhfgieQW+Ab6RdLJTF+2BNLZryGtezTxGnRI\n",
       "/cDJn1b4GyknTlRP1I+0Fm3yjLqyvZsj9CJNi6d1+UPc1D87yT9hpoCmnAAAAABJRU5ErkJggg==\n",
       "\" style=\"display:inline;vertical-align:middle;\" /></a></td></tr>\n",
       "<tr><td>5</td><td>Variable</td><td></td><td><a class=\"ProveItLink\" href=\"../../../../../__pv_it/abeee18594afe51bfb1be95d9591fbba24ac53f30/expr.ipynb\"><img src=\"data:image/png;base64,iVBORw0KGgoAAAANSUhEUgAAAA0AAAAOBAMAAAAGUYvhAAAAMFBMVEX///8iIiIQEBCIiIjMzMzc\n",
       "3Nyqqqp2dnZEREQyMjK6urru7u5mZmZUVFSYmJgAAACI6eGPAAAAAXRSTlMAQObYZgAAAF1JREFU\n",
       "CNdjYGDgu3Nm3wIGBoZ5DNz9QIq3gIEhE0jHOzAwOAPp9QkMDC4g/megABAw///fCmbEXfq0Acxg\n",
       "qH8ANAVI7wfSe0BKAyBGnAXigwYMzA1A+sLau31ACgAz0hhbkhGHbwAAAABJRU5ErkJggg==\n",
       "\" style=\"display:inline;vertical-align:middle;\" /></a></td></tr>\n",
       "<tr><td>6</td><td>Variable</td><td></td><td><a class=\"ProveItLink\" href=\"../../../../../__pv_it/3e5d49a51123592869b160296a6e123a424e07a70/expr.ipynb\"><img src=\"data:image/png;base64,iVBORw0KGgoAAAANSUhEUgAAAAYAAAAOBAMAAAD+sXAWAAAALVBMVEX////u7u5ERERUVFTMzMzc\n",
       "3NyIiIgQEBAyMjJmZmaYmJi6uroiIiJ2dnYAAACuOh6BAAAAAXRSTlMAQObYZgAAAD9JREFUCNdj\n",
       "YLjzmoGB6wEDA2cDAwN7AgNDnAMDwzoGBgYjIC5jYGB5wsDAVsDAwGQgwMC34AIDn2MCA9tcAQAo\n",
       "GAoWIEgceAAAAABJRU5ErkJggg==\n",
       "\" style=\"display:inline;vertical-align:middle;\" /></a></td></tr>\n",
       "</table>\n"
      ],
      "text/plain": [
       "0. (y , S^{l})\n",
       "   core type: ExprTuple\n",
       "   sub-expressions: 1, 2\n",
       "1. y\n",
       "   core type: Variable\n",
       "   sub-expressions: \n",
       "2. S^{l}\n",
       "   core type: Operation\n",
       "   operator: 3\n",
       "   operands: 4\n",
       "3. Exp\n",
       "   core type: Literal\n",
       "   sub-expressions: \n",
       "4. (S , l)\n",
       "   core type: ExprTuple\n",
       "   sub-expressions: 5, 6\n",
       "5. S\n",
       "   core type: Variable\n",
       "   sub-expressions: \n",
       "6. l\n",
       "   core type: Variable\n",
       "   sub-expressions: "
      ]
     },
     "execution_count": 4,
     "metadata": {},
     "output_type": "execute_result"
    }
   ],
   "source": [
    "# display the expression information\n",
    "expr.exprInfo()"
   ]
  },
  {
   "cell_type": "code",
   "execution_count": null,
   "metadata": {},
   "outputs": [],
   "source": []
  }
 ],
 "metadata": {
  "kernelspec": {
   "display_name": "Python 3",
   "language": "python",
   "name": "python3"
  }
 },
 "nbformat": 4,
 "nbformat_minor": 0
}
