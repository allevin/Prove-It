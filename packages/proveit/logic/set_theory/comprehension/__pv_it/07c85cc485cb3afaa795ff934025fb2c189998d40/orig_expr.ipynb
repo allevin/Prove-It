{
 "cells": [
  {
   "cell_type": "markdown",
   "metadata": {},
   "source": [
    "Temporary notebook for <a class=\"ProveItLink\" href=\"../../_axioms_.ipynb#comprehensionDef\">comprehensionDef</a> of type <a href=\"../../../../../../../doc/html/api/proveit.logic.Forall.html\">Forall</a>\n",
    "=======================\n",
    "# a not-yet-official Axiom from context <a class=\"ProveItLink\" href=\"../../_context_.ipynb\">proveit.logic.set_theory.comprehension</a>"
   ]
  },
  {
   "cell_type": "code",
   "execution_count": null,
   "metadata": {},
   "outputs": [],
   "source": [
    "# import Expression classes needed to build the expression\n",
    "from proveit._common_ import S, f, fy, k, x, y\n",
	"from proveit.logic import Equals, Exists, Forall, InSet\n",
	"from proveit.logic._common_ import iterQ1k, iterQ1k_y\n",
	"from proveit.logic.set_theory._common_ import generalComprehension_fy\n",
	"from proveit.number import Naturals"
   ]
  },
  {
   "cell_type": "code",
   "execution_count": null,
   "metadata": {},
   "outputs": [],
   "source": [
    "# build up the expression from sub-expressions\n",
    "subExpr1 = []\n",
	"expr = Forall([k], Forall([S, iterQ1k, f, x], Equals(InSet(x, generalComprehension_fy), Exists([y], Equals(x, fy), domain = S, conditions = [iterQ1k_y])).withWrappingAt(1), conditions = subExpr1), domain = Naturals, conditions = subExpr1)"
   ]
  },
  {
   "cell_type": "code",
   "execution_count": null,
   "metadata": {},
   "outputs": [],
   "source": [
    "# check that the built expression is the same as the stored expression\n",
    "%check_expr"
   ]
  },
  {
   "cell_type": "code",
   "execution_count": null,
   "metadata": {},
   "outputs": [],
   "source": [
    "# display the expression information\n",
    "expr.exprInfo()"
   ]
  },
  {
   "cell_type": "code",
   "execution_count": null,
   "metadata": {},
   "outputs": [],
   "source": []
  }
 ],
 "metadata": {
  "kernelspec": {
   "display_name": "Python 3",
   "language": "python",
   "name": "python3"
  }
 },
 "nbformat": 4,
 "nbformat_minor": 0
}
