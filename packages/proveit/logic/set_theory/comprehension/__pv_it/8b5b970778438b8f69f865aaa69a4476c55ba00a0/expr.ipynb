{
 "cells": [
  {
   "cell_type": "markdown",
   "metadata": {},
   "source": [
    "Expression of type <a class=\"ProveItLink\" href=\"../../../../../../../doc/html/api/proveit.logic.Equals.html\">Equals</a>\n",
    "=======================\n",
    "# from context <a class=\"ProveItLink\" href=\"../../_context_.ipynb\">proveit.logic.set_theory.comprehension</a>"
   ]
  },
  {
   "cell_type": "code",
   "execution_count": 1,
   "metadata": {},
   "outputs": [],
   "source": [
    "# import Expression classes needed to build the expression\n",
    "from proveit._common_ import fy, x\n",
    "from proveit.logic import Equals"
   ]
  },
  {
   "cell_type": "code",
   "execution_count": 2,
   "metadata": {},
   "outputs": [
    {
     "data": {
      "text/html": [
       "<strong id=\"expr\">expr:</strong> <a class=\"ProveItLink\" href=\"expr.ipynb\"><img src=\"data:image/png;base64,iVBORw0KGgoAAAANSUhEUgAAAFEAAAAVBAMAAADMaB9/AAAAMFBMVEX///+6uroyMjJERETMzMwQ\n",
       "EBAiIiKYmJju7u5mZmaqqqpUVFSIiIh2dnbc3NwAAAAWgogoAAAAAXRSTlMAQObYZgAAAVNJREFU\n",
       "KM9jYKASYDwAoQtxK+HYsw9EeUO5nA44VTLf+g6iNGB8BZwq+yUWAEmeAzB+LU6V68EkawOM34pT\n",
       "5TQwKYRwDdCKt6dfnTyArrA6bCeImgv02s0LDO8bGHgnMHBcYE9nTQB5TwkMNkCU/gGT6gwMvIwf\n",
       "GM4zMHApMPAy8HzgwggDvi9gKpCBwYszgcEYGLABDBwM3AaYzuT6AKY+MjA0sB4AWcACEmA9gKmS\n",
       "NwGmkmF9A8sXqMr3DgygwOBMAwOIBcwQ50YB8SQGngCw7ewPzjPwNKCbCbXHHIg1wdrYFRjWF5gy\n",
       "vMGMIgEwdROIZzPIFzCAQqn5bO+dAgyV8hBbxIC4+cz8BwwMTAI4ougQ1BEPQOQ13LHJvsEcyrjA\n",
       "wJ3AAfLXHewqWTUSoCwNBrYLzBeAcYoj1bHffABlvWbgOjMRSHM/IJQ7+KCxcoSBAQBNFlBrpqZM\n",
       "xwAAAABJRU5ErkJggg==\n",
       "\" style=\"display:inline;vertical-align:middle;\" /></a><br>"
      ],
      "text/plain": [
       "expr: x = f(y)"
      ]
     },
     "execution_count": 2,
     "metadata": {},
     "output_type": "execute_result"
    }
   ],
   "source": [
    "# build up the expression from sub-expressions\n",
    "expr = Equals(x, fy)"
   ]
  },
  {
   "cell_type": "code",
   "execution_count": 3,
   "metadata": {},
   "outputs": [
    {
     "name": "stdout",
     "output_type": "stream",
     "text": [
      "Passed sanity check: built 'expr' is the same as the stored Expression.\n"
     ]
    }
   ],
   "source": [
    "# check that the built expression is the same as the stored expression\n",
    "%check_expr"
   ]
  },
  {
   "cell_type": "code",
   "execution_count": 4,
   "metadata": {},
   "outputs": [
    {
     "data": {
      "text/html": [
       "<table><tr><th>&nbsp;</th><th>core type</th><th>sub-expressions</th><th>expression</th></tr>\n",
       "<tr><td>0</td><td>Operation</td><td>operator:&nbsp;1<br>operands:&nbsp;2<br></td><td><a class=\"ProveItLink\" href=\"expr.ipynb\"><img src=\"data:image/png;base64,iVBORw0KGgoAAAANSUhEUgAAAFEAAAAVBAMAAADMaB9/AAAAMFBMVEX///+6uroyMjJERETMzMwQ\n",
       "EBAiIiKYmJju7u5mZmaqqqpUVFSIiIh2dnbc3NwAAAAWgogoAAAAAXRSTlMAQObYZgAAAVNJREFU\n",
       "KM9jYKASYDwAoQtxK+HYsw9EeUO5nA44VTLf+g6iNGB8BZwq+yUWAEmeAzB+LU6V68EkawOM34pT\n",
       "5TQwKYRwDdCKt6dfnTyArrA6bCeImgv02s0LDO8bGHgnMHBcYE9nTQB5TwkMNkCU/gGT6gwMvIwf\n",
       "GM4zMHApMPAy8HzgwggDvi9gKpCBwYszgcEYGLABDBwM3AaYzuT6AKY+MjA0sB4AWcACEmA9gKmS\n",
       "NwGmkmF9A8sXqMr3DgygwOBMAwOIBcwQ50YB8SQGngCw7ewPzjPwNKCbCbXHHIg1wdrYFRjWF5gy\n",
       "vMGMIgEwdROIZzPIFzCAQqn5bO+dAgyV8hBbxIC4+cz8BwwMTAI4ougQ1BEPQOQ13LHJvsEcyrjA\n",
       "wJ3AAfLXHewqWTUSoCwNBrYLzBeAcYoj1bHffABlvWbgOjMRSHM/IJQ7+KCxcoSBAQBNFlBrpqZM\n",
       "xwAAAABJRU5ErkJggg==\n",
       "\" style=\"display:inline;vertical-align:middle;\" /></a></td></tr>\n",
       "<tr><td>1</td><td>Literal</td><td></td><td><a class=\"ProveItLink\" href=\"../../../../equality/__pv_it/2fb26078095930560931daa0500ce419a39ea6cd0/expr.ipynb\"><img src=\"data:image/png;base64,iVBORw0KGgoAAAANSUhEUgAAAA4AAAAFBAMAAACHocAhAAAAFVBMVEX///9EREQiIiJUVFQyMjJm\n",
       "ZmYAAADubVkoAAAAAXRSTlMAQObYZgAAABRJREFUCNdjCHEBAWcGXCBICQQUAUpuAwlgGKrkAAAA\n",
       "AElFTkSuQmCC\n",
       "\" style=\"display:inline;vertical-align:middle;\" /></a></td></tr>\n",
       "<tr><td>2</td><td>ExprTuple</td><td>3, 4</td><td><a class=\"ProveItLink\" href=\"../f523e65079d5ae2451b9bf26a4bcc43fe2a4090b0/expr.ipynb\"><img src=\"data:image/png;base64,iVBORw0KGgoAAAANSUhEUgAAAEwAAAAVBAMAAAAeOBUnAAAAMFBMVEX////c3NwiIiJERESqqqqY\n",
       "mJh2dnZmZmYQEBDu7u4yMjJUVFTMzMyIiIi6uroAAAAs73DqAAAAAXRSTlMAQObYZgAAAYpJREFU\n",
       "KM+NUj1IQlEU/kSfvvfymUO0hORSS4tDSRCBcxA6OdQiLU2BNTg1FLQUWI8KCVtcGlzCmhrdG3TK\n",
       "QCJpiiD6gQYX6dxz733Vw6EH3zn33Pedc+75Af75xdpDr1+lMnoSuPX9P+/GSUYbytxWqPto6WyO\n",
       "pO0q05ZwfDmtwalQD9o2CgzT/UsLvbPa99x2GC++nJEk11XzLmYZJZLj3bGOym3czBQFmVJVSgj0\n",
       "gXUIXFDMgjFlJpXzKPNtKqPwBodesASBQyBMZqipaJN8MHuIZrYQTAHPEBhQNIykvKdkZcwe3ZY5\n",
       "dAsCA3b+6cqapiHUR6upaXsqk+7LAkszQ2XUcA+ddI6qiz/CcRWxzDJIJdhF9llhUL3Z3DwSsD7l\n",
       "EJgWpq5EGrEv6IY8ASd3lY0crCMx8lhfrg31x1rsfNDxkmHGvY0SJ0e1f5djJr1hidGqARBWxaPE\n",
       "lweucUaFhNsS9d+0g2O9Py6mkaZDVWFC00Tv8pvKCDSw3BFbe6UQGL7kCamcJuMbSdRhTJ2e3Q4A\n",
       "AAAASUVORK5CYII=\n",
       "\" style=\"display:inline;vertical-align:middle;\" /></a></td></tr>\n",
       "<tr><td>3</td><td>Variable</td><td></td><td><a class=\"ProveItLink\" href=\"../../../../../__pv_it/530be409e3083890784cf1d7b28c9e67e90af9360/expr.ipynb\"><img src=\"data:image/png;base64,iVBORw0KGgoAAAANSUhEUgAAAAsAAAAJBAMAAAAWSsseAAAAKlBMVEX///9ERETMzMwQEBAiIiKY\n",
       "mJju7u5mZmaqqqpUVFSIiIh2dnbc3NwAAAA/vyDhAAAAAXRSTlMAQObYZgAAAENJREFUCNdjYDi9\n",
       "8sTyBQxsG1hdmR0YuBm4LnAoMLAxcAowgADzAjB1VoEhgYH1wFoGrgSG3gBhhlMMDImrs3cFMAAA\n",
       "t0YN+iTRa+sAAAAASUVORK5CYII=\n",
       "\" style=\"display:inline;vertical-align:middle;\" /></a></td></tr>\n",
       "<tr><td>4</td><td>Operation</td><td>operator:&nbsp;5<br>operand:&nbsp;6<br></td><td><a class=\"ProveItLink\" href=\"../../../../../__pv_it/e4f99fbf53c5e24e1c1e622903a7736f418f26ef0/expr.ipynb\"><img src=\"data:image/png;base64,iVBORw0KGgoAAAANSUhEUgAAACgAAAAVBAMAAADGNLEtAAAAMFBMVEX///8yMjLMzMwQEBAiIiJm\n",
       "Zma6urqYmJiqqqp2dnZERETc3NyIiIhUVFTu7u4AAAAe+HC4AAAAAXRSTlMAQObYZgAAAQlJREFU\n",
       "GNNjYMAPciAUewKYent2A5BkugCVDAKTK/sLgCTjA6ggI4jg+/YCRJ2BGcM+AUhwfACz7WCCfAZA\n",
       "gtUBxGQTgNu4Aqj6sm8ASAqo6WUkA/c/BoapQC7/AbDxQMsm5DPwAM1qBHL3K4AEmRMYmBpCGLgW\n",
       "MDAkA7n9YIP4Exj4GGzA2vSB3CkwQQaOfwz6ChDBtWBB5gagZQIMhxkg2m3AglxAixgDwCoKQR4C\n",
       "C3IC3cV6ge07A9hJbP/AgmxAL/CtOfobyBRjYOCBesUarN4B7M1akGEgUMnAcIXhMdA6zgMMhk9g\n",
       "IfaAwZNhJZDxEKggGirIfYGh5ygo1G8jR8ceCMWjwAAAl6o3tGQ/mUwAAAAASUVORK5CYII=\n",
       "\" style=\"display:inline;vertical-align:middle;\" /></a></td></tr>\n",
       "<tr><td>5</td><td>Variable</td><td></td><td><a class=\"ProveItLink\" href=\"../../../../../__pv_it/4d51ee1e62d011d06d4528b97697bf3da60c9de60/expr.ipynb\"><img src=\"data:image/png;base64,iVBORw0KGgoAAAANSUhEUgAAAAsAAAASBAMAAAB/WzlGAAAAMFBMVEX///8yMjLMzMwQEBAiIiJm\n",
       "Zma6urqYmJiqqqp2dnZERETc3NyIiIhUVFTu7u4AAAAe+HC4AAAAAXRSTlMAQObYZgAAAFVJREFU\n",
       "CNdjYGBgeHt2A5BkWNlfACT5vr0AcTg+gEgGVgcQyX7ZNwBE8x8AC+5XAFP9YJJhCoRaC6FswCTf\n",
       "NzDF9g9M8QiAyFoukPEMhk/AYpXRIBIAEwsRcZ82juYAAAAASUVORK5CYII=\n",
       "\" style=\"display:inline;vertical-align:middle;\" /></a></td></tr>\n",
       "<tr><td>6</td><td>Variable</td><td></td><td><a class=\"ProveItLink\" href=\"../../../../../__pv_it/f8b9edf8e16034727f0aad55bb83e392c3db40d40/expr.ipynb\"><img src=\"data:image/png;base64,iVBORw0KGgoAAAANSUhEUgAAAAsAAAANBAMAAACN24kIAAAAMFBMVEX///+YmJhUVFQyMjIQEBBE\n",
       "REQiIiKqqqrMzMyIiIi6urrc3NxmZmZ2dnbu7u4AAADXeCicAAAAAXRSTlMAQObYZgAAAFhJREFU\n",
       "CNdj4LtzgWH/AwZerg8M8xkY2nkSGEIZGB6wTGD4ycDAUP+A4weQOszA6QCkbBhYFYDUIYb1AkDq\n",
       "6czzGxhA4BoQMyXwuQMptgusF4AU+8xTQBIAUqMVoSp/SLMAAAAASUVORK5CYII=\n",
       "\" style=\"display:inline;vertical-align:middle;\" /></a></td></tr>\n",
       "</table>\n"
      ],
      "text/plain": [
       "0. x = f(y)\n",
       "   core type: Operation\n",
       "   operator: 1\n",
       "   operands: 2\n",
       "1. =\n",
       "   core type: Literal\n",
       "   sub-expressions: \n",
       "2. (x , f(y))\n",
       "   core type: ExprTuple\n",
       "   sub-expressions: 3, 4\n",
       "3. x\n",
       "   core type: Variable\n",
       "   sub-expressions: \n",
       "4. f(y)\n",
       "   core type: Operation\n",
       "   operator: 5\n",
       "   operand: 6\n",
       "5. f\n",
       "   core type: Variable\n",
       "   sub-expressions: \n",
       "6. y\n",
       "   core type: Variable\n",
       "   sub-expressions: "
      ]
     },
     "execution_count": 4,
     "metadata": {},
     "output_type": "execute_result"
    }
   ],
   "source": [
    "# display the expression information\n",
    "expr.exprInfo()"
   ]
  },
  {
   "cell_type": "code",
   "execution_count": null,
   "metadata": {},
   "outputs": [],
   "source": []
  }
 ],
 "metadata": {
  "kernelspec": {
   "display_name": "Python 3",
   "language": "python",
   "name": "python3"
  }
 },
 "nbformat": 4,
 "nbformat_minor": 0
}
