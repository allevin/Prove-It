{
 "cells": [
  {
   "cell_type": "markdown",
   "metadata": {},
   "source": [
    "Proof of <a class=\"ProveItLink\" href=\"../../../../_context_.ipynb\">proveit</a>.<a class=\"ProveItLink\" href=\"../../../_context_.ipynb\">logic</a>.<a class=\"ProveItLink\" href=\"../../_context_.ipynb\">set_theory</a>.<a class=\"ProveItLink\" href=\"../_context_.ipynb\">comprehension</a>.<a href=\"../_theorems_.ipynb#inSupersetIfInComprehension\" class=\"ProveItLink\">inSupersetIfInComprehension</a> theorem\n",
    "========\n",
    "*** see <a href=\"../__pv_it/30b26353cad019d5e3fa042a74847c015692f9b90/dependencies.ipynb\" class=\"ProveItLink\">dependencies</a> ***"
   ]
  },
  {
   "cell_type": "code",
   "execution_count": 1,
   "metadata": {},
   "outputs": [
    {
     "name": "stdout",
     "output_type": "stream",
     "text": [
      "Beginning proof of inSupersetIfInComprehension\n",
      "Recorded 'presuming' information\n",
      "Presuming previous theorems (applied transitively).\n"
     ]
    },
    {
     "data": {
      "text/html": [
       "<strong id=\"inSupersetIfInComprehension\">inSupersetIfInComprehension:</strong> <a class=\"ProveItLink\" href=\"../__pv_it/e25c9e39e9db8a1cb040de4e8886b3d9945f16830/expr.ipynb\"><img src=\"data:image/png;base64,iVBORw0KGgoAAAANSUhEUgAAAggAAAAmBAMAAABT634/AAAAMFBMVEX///8QEBC6urrMzMxUVFRm\n",
       "ZmZERETc3NwyMjKqqqp2dnaIiIiYmJgiIiLu7u4AAAAU9Wx4AAAAAXRSTlMAQObYZgAABrFJREFU\n",
       "aN7tmntsFEUcx393e3d7e49tKz5CFHogaiMhHgkKmmBPS6iKSgXPRHw1mFxVYlyUUBIRLybKPwj1\n",
       "gcH0D08SH1ByHK9GoIELj6AQSUnUEE3JhWDTCEIj2koo1N9vdu929na3h9umGrhJOjez+/t9Z+ez\n",
       "M7+ZmytAySRXVTWAszQM19FIT1SN17LSPal03MowXEcnjS9kZQhlCGUIZQhlCGUIZQhmCLkr6Yns\n",
       "HIL8X/Zxsv2tUISD0EkfR0r0JMzcMk4gOHUdiSTErK8fiD+/D+ZzEDbQx+oSPQm04Kc/5wSCU9eR\n",
       "SDbN+rPQ3Qt+DsJSzMXGEj1hBksdTQenriORdltffgRASkIopUMgWt6WUtGNhsrTzgKjQ9cRC3v5\n",
       "dPr9ruOsIJ7HiZJRg7YGIfRVc/NbJXtyuLm5udMZBIeuI5DcST4+rMrPDfcFrEUBXuaWyL5E4mez\n",
       "QMDYk4pE4tWUMwhX4vqGRU0q7dAytJUXmxXb6lufocrSQnwQB7exzy84CHUATRYCxp54ouBTEOCC\n",
       "tv3q0DpWZ9Xnb7qujxZD0Fz1JG7SyxH1SoqXFFVkQspeXTO5j1m5N9nFxSzAb/B9dhxVuD7uHeyj\n",
       "B1rHQZgEMg6bLakhIbhj0IPF28DdSy/pRkV+LWJu9YMm6P6jGILmqqfFHBI1IvsMkj7t3np7dc0k\n",
       "EGFWXpuDGxfeTsFe+IiehIv94oFq6vwEDkIYgkgsnO/TjHgkeEOuGAJuJzpYzh77M8zeNs9zqQ8b\n",
       "uGTaMaquanCKP6u+ASOEVoNkq3avx15dM6G318NCvWWqwD7lYLYaCMZ1dWmBkegNYFbLQQhmwzhd\n",
       "ztGUkXfEs6HGNKS9sx6b9bChJx1wAkuXARCYPIjGFZdNjZ6jS4O5YgjMlaXgwhVnrSA0GSTzA9cT\n",
       "tVXPm9Qxq6EgANxcvG+iHhRDkJPTsDCFau13nM2FjnghbZoO0MNUjrEhGviTWug3NbqZTAYVsHIN\n",
       "bJ9cBwfZRYTgbgdXTodQaZBEn8mN+GTBjK16paaAGwG0soPgalEXRNq5y4WBK+PkEfuLpgM0PUih\n",
       "0t2eC9HcCt07PWMBwbeEsP5afYHEKavtBU/RhqwaGxUGwZO0cE17GsdCMg/hdIUyVR8JQpKXxJqc\n",
       "6RcqKZhYqGsOqsIkFnLsIPjwnR8K9sIeqjxamFZo7SXpb3kIawnSqg/PKWwjGYqm91tAkJ5TY8oD\n",
       "+Te2OSZ8rhgbpdeEr1RqsHCNYKjW4j1u2FZMgXYdAvaDk8SaeLIz2EhdtVAnxGiiKsxgQOSbrCEE\n",
       "GkAa8FWKbET9ng963l9AbZxfIsFFRn9F2YpDEAKBx80Q2NQ6iTMTtLlbHYVwMQQcGa7z/P5Td4UK\n",
       "BYSfEolFUBNjIOboEKQYL4k18KQ8GRMEVZ0QkwlTUCHABOvlwd0J8qL0RjUsi+9qIcbjnjU7S4V3\n",
       "eAghVBduWQUwM5FIZEJR8SgGMrEYwlH8+xTgHlp/z59a6L0IJghr7p8deSED4ZPbza4wFaKyOr4X\n",
       "4N91MIYbCY28JNZwcXNFWcGsTojpDlO4nZWNI+HOXTvzRcN16SF9dSg8m+FQJdg4VYBT6kiAW/fY\n",
       "nIw8RXF5mSJcmheem2VPLK6EZTlxNWUrofbHyA8Ydl2Hzphchd6vccmuz8cEGMP2GxoEDFqcJIUw\n",
       "V/QufJKUlTohJhOmcJisjNtjMd8MsNv2KZAphuDLzAyCR1EhhNI2EObH4wrUZmHJuDWrJfbEwgDU\n",
       "KkI/ZQMYMI7/nWuBmu1mV3nR2l056I7kIXzcnuSWSBx5uiTVpDkv4YyMWKkzxCc0hXlkpQfGg/EG\n",
       "CGWhpcRXaW4bYoDgV3xbQV6IpRrMYkOekdGE8lx8Un3ikH5UQ9ncHTHo8J+xc/0SYwJBEBVPhoPA\n",
       "xm9BEmvNNOH9luoM8U5NIcmsCEJryg8BmvXye9v0UREbAkK9zRljAGNCyYNCgcZLcLAfhC0bAKYX\n",
       "rk9Xt+UK1Ae2DnnGiBB8qRp+s9QNvCTWXqER3mqpzhB3qwpShlkRhH0N02C52vN1+ob+TXsGwehw\n",
       "DlrZOxGrWvRhwZUWjy190IrfHaTdKR6ClOUlsda6C9h4tFBniKUsU/CoVvTdwRPtgE/iOB2a89+u\n",
       "/t+nzWKbXtbG636DgVoLDDWhVZM0s3LTGhiGF9X3/p32jq/FI/fg7kqKkQBtG9dfs787LJdwEuyI\n",
       "/9v/hri6INx9ZDg/vlwlEIZzFFuGcKUQ+hJOf0AahutopPbEZS0rnSZOVJw2MwzXUUivT4yw7B8w\n",
       "Awz/heKeXQAAAABJRU5ErkJggg==\n",
       "\" style=\"display:inline;vertical-align:middle;\" /></a><br>(see <a class=\"ProveItLink\" href=\"../__pv_it/e25c9e39e9db8a1cb040de4e8886b3d9945f16830/dependencies.ipynb\">dependencies</a>)<br>"
      ],
      "text/plain": [
       "inSupersetIfInComprehension: forall_{k in NaturalsPos} [forall_{S, Q_1,...,Q_k} [forall_{x in {y s.t. (Q_1(y) ,  ...  , Q_k(y))}_{y in S}} (x in S)]]"
      ]
     },
     "execution_count": 1,
     "metadata": {},
     "output_type": "execute_result"
    }
   ],
   "source": [
    "import proveit\n",
    "%proving inSupersetIfInComprehension presuming []"
   ]
  },
  {
   "cell_type": "code",
   "execution_count": null,
   "metadata": {},
   "outputs": [],
   "source": []
  }
 ],
 "metadata": {
  "kernelspec": {
   "display_name": "Python 3",
   "language": "python",
   "name": "python3"
  }
 },
 "nbformat": 4,
 "nbformat_minor": 0
}
