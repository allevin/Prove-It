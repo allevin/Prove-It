{
 "cells": [
  {
   "cell_type": "markdown",
   "metadata": {},
   "source": [
    "Proof of <a class=\"ProveItLink\" href=\"../../../../_context_.ipynb\">proveit</a>.<a class=\"ProveItLink\" href=\"../../../_context_.ipynb\">logic</a>.<a class=\"ProveItLink\" href=\"../../_context_.ipynb\">set_theory</a>.<a class=\"ProveItLink\" href=\"../_context_.ipynb\">comprehension</a>.<a href=\"../_theorems_.ipynb#basicComprehension\" class=\"ProveItLink\">basicComprehension</a> theorem\n",
    "========\n",
    "*** see <a href=\"../__pv_it/af965531058f8ce696fabfbbe8b63a4ea74c10570/dependencies.ipynb\" class=\"ProveItLink\">dependencies</a> ***"
   ]
  },
  {
   "cell_type": "code",
   "execution_count": 1,
   "metadata": {},
   "outputs": [
    {
     "name": "stdout",
     "output_type": "stream",
     "text": [
      "Beginning proof of basicComprehension\n",
      "Recorded 'presuming' information\n",
      "Presuming previous theorems (applied transitively).\n"
     ]
    },
    {
     "data": {
      "text/html": [
       "<strong id=\"basicComprehension\">basicComprehension:</strong> <a class=\"ProveItLink\" href=\"../__pv_it/10137b2e473672bc1092a2ddcc8ee30d04132b400/expr.ipynb\"><img src=\"data:image/png;base64,iVBORw0KGgoAAAANSUhEUgAAAn4AAAA/BAMAAACMZdizAAAAMFBMVEX///8QEBC6urrMzMxUVFRm\n",
       "ZmZERETc3NwyMjKqqqp2dnaIiIiYmJgiIiLu7u4AAAAU9Wx4AAAAAXRSTlMAQObYZgAADWhJREFU\n",
       "eNrVnA+MHFUZwL/d2f87O3eA8qcUbxtFapp62wgFSnBXQEAU72ipQhG6oLYgCEtEqGC5lQSqEe6W\n",
       "f5GGkFsTGwPV61bopVhj1xYIgqELipDCtVtDGgLW7V1pr6Xtje97783Me29n9ui22ulL3ty7mfd9\n",
       "O/Pb9+f7vvnuANouQdPcC0egJCtOswp+Le/VnQfPsZ8R09x3GBqD+5Y/ciTu7AmnOexbfBAsOu2v\n",
       "8lPLlx8Wv51H5Ma0k+xmvOZffuJ3m7KnySlHn59zM7At42N+Mec+tXEf8bvKaX7fx/ggOu5yz0ef\n",
       "n7bLUTjhZ35wpdPcVvENv1jOafb6ml9fwbETJnzDb9C5q2zB1/zEr3eKb/j902le69VH/47Tjv/v\n",
       "IWvPuH6GLjzvqrpP+AXHnPapHn2MzcIvibTVmoGHl447+G1BG1+XNkzyqbIU00QApVkFzRWLIRh7\n",
       "jYpP+EU63XYSxUHZ6cZPw4XzL1MhbjqGxZn8Z7i1IaRIadYSPI9X0SYQypvNt33U+TV63TGJJdHp\n",
       "xi9GplBoLzkMOtz7rUax1WeqUjHLNYvxCr92lbtcWEXGfMJvkzNSIrVD4reO1IWfIYeO3c2e9Cut\n",
       "PlORoprYBC6z6sFvvTCXP/IJv9sERyQvLzdrR0aKLfgRCGwSBg5a1wK2j7+txUeqUqiJf2Qnqx78\n",
       "uoVV4Wf+4Gfscdodsvl3zmstxx/686lRKjdqXZvujOVSC4dRkRIiAzfx6s4vKyhdn/YFv+B+dU+7\n",
       "+7mfrMFG9FZp/n6wAKITIr8wmWfddA427JG0gHwhK8rQV4dEC1NclUJNXP0KYNWdX6MisCz7gl9Y\n",
       "2HP7cFoZZf3dAC6EEccGC5MBUu7m+4vFD935hWMODywPksvkrsg6FW+xgahSqImrx1Aa1k2ugh1l\n",
       "oV30Bb+YoCOL/BLkOeK4zmx3LsxKg1a6FiJ5kV+A/NxKR+RCYpfNpueOBzg3XINF5N46vT/TlkpO\n",
       "sTRZ6qcBq+6epLjApHb6gl9HTVleDAixbWTayAjfP848AU+fCh0VkV8H+dlFKZHjWcy0IAOrHqgA\n",
       "WRO0FvdmS8EbliZLfRZYhRurk/AL7fIFv7580/IcqEimMKIk4zE+AdmMym8r0tdNIveUxQ8G62iH\n",
       "t+JnSxkTtiau3uKXKk82/pIHfMFvsKzMX4I0A2iG7BC+6yJdA1dL+2+AUOvZGX8g00BT7Cn7aa6C\n",
       "ZGfr+WtLBWu2Jq7emr/K+nfWM3/KKPziH/uC33phnvThwNML6yGJ/ELOlUSNrkjfk/hFyPXsvtnG\n",
       "W1tzNr9bSL0fIuSEXqRrASl1sUEPtlSid8atXBNX/zKv8v4b7IVudf/Q9nB+9cPiVz9Mfj1pZXsb\n",
       "rF4P91DL8A3Jfgnnggckfmih6OZN0DUVbH4raJSzu8quQoNwNw6KDXqwpWJ//eI418TVN9kvxpr5\n",
       "VUgRxraBYF04yPnRMfxqu/zal+buh2DSB/CZt//xg5XsNpfME/kZN68Zl+1n/Ogfv/7QXrJlW/xm\n",
       "ooJ1C4nlE8Ne24iEcSI28rxhdBUEqY55tiau/j5ebX7DZ/ynDo066Kr9DKOc39OS332o/NqX5mu5\n",
       "EGmLyf4bPPaQ5L8larL/xl/bDWz4ls0vQLX93vbfzmi+54IgNevlqqMJ1Yv+W3CYuIM6XfFSU9Jq\n",
       "qJfs35zfnWjr59vl1740vwthAQh3togfXA7bSjI/HiIYoO+wn7L8/1DNwDV9Jf292QjRQZAa1joz\n",
       "XBNTn6iwivw+7CjMYsEYMK4w6Wevkr75OuOHwZtwqV1+7UuzYop+vdfrI53w2ww/cIlfoR1s5m1+\n",
       "ZCakyhGyjBrFSfhRqZu1WoVrYurf5xXjf/fOhGGYw7vfQb/aG0VNAwXGT//tXXctbXv/aF+6mZ/h\n",
       "9TLfeAfgyTVphV+URT2Xoh9298A17Dkhvm4ubt704ZLNqiwPlkotg5vTXBNTfwmvGnFk4DL4Opy/\n",
       "aNGiikHsa2pq7Jf4Zbj9smfRos3t2y9tSzMyIj9iengNwKcFw9Xese9p7hjlfJ49tNvgmpIZVtn7\n",
       "j+PhBHiPzosSaDjGtXFp50tzfhcCLCatHzmXWszHhMqPS3ML01g78im30PmHD71+oSu/USmsDn4q\n",
       "J5Dno+M4nGfBjETNld/n6GoRLcNqah4aPfU5LeIlKj8mbVmYDy+G7WMuEcsTC8Zt6Un5NdJ+4vfY\n",
       "cBGMG/CZz5pPXzYFqq78UjRrjBiIqTQ3oqwl5pz56eSn2Sqt3T8XVl/nwo9JcwszTozy6EEXL40M\n",
       "/77apPwSeR/hixZCuBuT9c8687BsuZY4v2Q1RRg9CWgmMiMeRxQa3np+CIZ495cS9UTdhR+T5hZm\n",
       "A3dQs968ypFTHROT8jN2+YhfpDxdOfMuuI4/o4ihjsXMemdByAuZ4a2/Gib8vkDW7wz8rdKbqIcv\n",
       "uvyir8n8mDS3MFfhlmg2vXxOoIffYa++Ky94LuPKD9b6iF98nRKD0Wvu/GDxBeRADJwVwWEcOuP4\n",
       "Qooa3vq5Z1eG0Lx7EWDjo/e4jj8mzS3MLnLQyJb6TfmTA2iYZHfCpYxm/eJAyc1+kVLE/Fdul8fF\n",
       "gM3vcQJWI1P2wUcapIvWiZsCNbz1zNBGMn+vRpgbE/+e48rv8ZpjYeLQI4NtzklK3Gycjc3HmRiO\n",
       "cHd+xt99zO8X8q+2/UcDlkEy83bTM0myiJ/DDG89k0iQoRTGdNWNUP6NKz+UtixMXOcCZBF7S+GH\n",
       "S19XBq7mv4978YMl/s0gClXcPHfkp5OnjudAm0rHRaSC/KjhrWeir20hRN+l/H66w5UfleYW5sCX\n",
       "L04vrDTxi+1674YwMd63zKAug9apKV6ks+mlfcvvX66euxU/DebJwJuFzxX4EsDnmeFNto3P/hng\n",
       "xVAJ+QXPIxJR1/gptTCjyyD7ZvofGEZ7C0dStB+W1PFQ0A7OTfWQpW3qvVXyWzZRTChe5LFYTCn+\n",
       "bNTIwDs/SR6vkcSABDW8CT99CLeSq5EfvFL3ij9TC1M7ANGvvL23XqL8slXi7mQLeKjCHacN9Mch\n",
       "+Mscnt/+/DVDrvHTY6oYoxI/2AKxQuQP5PFCxNecywzv6eSQg9MxnSn4QBpCk8TvaWyjZ02OzV9n\n",
       "K8VWaP+VxFTsr6oxkVXeviLmogUr3k+gN6N3T2bTP/F3pF/f9WbBXYGqJLpX5ve88LCYvSQa3q3i\n",
       "B0I5Gw/ryR583hSyHtr3QVtJc5yM6ZVp4Twtm7w/5EyQXsJJ5YX5122AeepZj2S25o5e+I6rwuAB\n",
       "cFegKAl+JPPbLjxsvPKJPk7lR+/89lPkQBtvRY8rqedp6c55qu/3jmwTO3H7Th7cBLjX2iG9ktnU\n",
       "jqqnZq1LPf2YXJRxVxBTWO+X+cWrzuOFoC1+7ZRG0esK5qIlPb7Iy2iChl6Ww16eyWxqR/Xb4K8l\n",
       "w6MI0ux1V6DL7kh4TOaHG4RVhv5//AKeOjAXLVCXg2Ajb7MBgy/IK+xNBWn9kPXyTmZTOqpl9hYe\n",
       "5aBTt6vmrsCQ3y5EJhR+bcZPD9cqHfe6Mh3EfDR8/Aet5wkSf1DLsEwzomIGGyfeyWxKR7VcwPMn\n",
       "t1JCZqeHgpvkr7fTF/x0zz/AW8Crlc8Gd9rDIWo+yyNFWN5nL1HdktksYbmjaokUU+xx6Mw1zJqH\n",
       "ghWSVF/OF/yiu6VF5ee05HgYCKudz0bD3LysN/fgPsf+cPN33C900tJmW3EkS1juqEaHquwFWNhM\n",
       "c4oskKwqeEI2HEq+4AeneV04nlU7n80QgqvRF7pwr5hGf6nBEjb9rLQ0nowlCMsdlZKCKN3EUjRw\n",
       "GTZLViBZUTBNkuqp+4PfqrrHhTFW7Xy24GkjI3z/wEGDaz3NNNMrEKImh5OWZidjWcJyR6W8SuOd\n",
       "ZEUbtY48kKwoyEpSJ4M/+GWrrfnZ+WxaTjQ0DZtfqs4vuSWzcWG5o1K2cEM5RVfOTfvsQLKiQOKn\n",
       "7fcJv5RoAIZHaMlbd0bvjuezGfa6bvTyPyalMwqDisvojHJJZuPCckclzky0xXA1DZnwxHcNM2cH\n",
       "khUF0vxNTPiEX9LLgLmFVTufDb5hP3ER86WAZZpRJDQw65LMZgnLHeW0NmSHDEEzH83vWIr8WSBZ\n",
       "VfCyZL7kfcLP+NjjAjcZ7Hw22GF58OF3+B/TYxcad6QGiEsymyUsd5TS2thmTcf2pj2lwCguJyyQ\n",
       "rCqQ7JfBjE/4wRUe52ey6uSzRe/n9xwKXnQxPYWZZqG07Wk1J7NZwnJHO5sNG4Cvb9hfIEWvPXlr\n",
       "EcpWIFlVcJ94d1YqzNHn1/DYQDAXLSAFa+KXOvuv7ZYFadMams3JbB4dnULPBC1X+MDpdiBZUSD5\n",
       "b9qYb/glPLLWXHx2VbLZHVOS2bw7epSYSfZvGkhuUiApieR9ww82H3r8Crg/1lRoWpqVjNXfoqNH\n",
       "CZt7gAWSmxRISroL/uHX7fEK5A5ePcslzaeW7lYUeHX0cie39nopkJTYqQg+4JfwCAFiLlq0xcxL\n",
       "TvbPYizhZLv/VUZUICkJ533Ez0osPYbKzPoR4XeE/n/YjvQxhi/K328f5v8PM5Yfmf8fZmSONX58\n",
       "xQ4uX/6r/wLPFYFUmjSnSwAAAABJRU5ErkJggg==\n",
       "\" style=\"display:inline;vertical-align:middle;\" /></a><br>(see <a class=\"ProveItLink\" href=\"../__pv_it/10137b2e473672bc1092a2ddcc8ee30d04132b400/dependencies.ipynb\">dependencies</a>)<br>"
      ],
      "text/plain": [
       "basicComprehension: forall_{(k, l) in Naturals * NaturalsPos} [forall_{S, Q_1,...,Q_k, x} ((x in {y s.t. (Q_1(y) ,  ...  , Q_k(y))}_{y in S}) \\\\  = ((x in S) and Q_1(x) and  ...  and Q_k(x)))]"
      ]
     },
     "execution_count": 1,
     "metadata": {},
     "output_type": "execute_result"
    }
   ],
   "source": [
    "import proveit\n",
    "%proving basicComprehension presuming []"
   ]
  },
  {
   "cell_type": "code",
   "execution_count": null,
   "metadata": {},
   "outputs": [],
   "source": []
  }
 ],
 "metadata": {
  "kernelspec": {
   "display_name": "Python 3",
   "language": "python",
   "name": "python3"
  }
 },
 "nbformat": 4,
 "nbformat_minor": 0
}
