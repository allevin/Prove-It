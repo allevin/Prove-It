{
 "cells": [
  {
   "cell_type": "markdown",
   "metadata": {},
   "source": [
    "Proof of <a class=\"ProveItLink\" href=\"../../../../_context_.ipynb\">proveit</a>.<a class=\"ProveItLink\" href=\"../../../_context_.ipynb\">logic</a>.<a class=\"ProveItLink\" href=\"../../_context_.ipynb\">set_theory</a>.<a class=\"ProveItLink\" href=\"../_context_.ipynb\">comprehension</a>.<a class=\"ProveItLink\" href=\"../_theorems_.ipynb#fold\">fold</a> theorem\n",
    "========"
   ]
  },
  {
   "cell_type": "code",
   "execution_count": 1,
   "metadata": {},
   "outputs": [],
   "source": [
    "import proveit\n",
    "context = proveit.Context('..') # the theorem's context is in the parent directory"
   ]
  },
  {
   "cell_type": "code",
   "execution_count": 2,
   "metadata": {},
   "outputs": [
    {
     "name": "stdout",
     "output_type": "stream",
     "text": [
      "Beginning proof of fold\n",
      "Recorded 'presuming' information\n",
      "Presuming previous theorem (applied transitively).\n"
     ]
    },
    {
     "data": {
      "text/html": [
       "<strong id=\"fold\">fold:</strong> <a class=\"ProveItLink\" href=\"../__pv_it/d15585ae654180e33e7dc1431f023e9c1959fe300/expr.ipynb\"><img src=\"data:image/png;base64,iVBORw0KGgoAAAANSUhEUgAAAz0AAABABAMAAADCEgTEAAAAMFBMVEX///8QEBC6urrMzMxUVFRm\n",
       "ZmZERETc3NwyMjKqqqp2dnaIiIiYmJgiIiLu7u4AAAAU9Wx4AAAAAXRSTlMAQObYZgAAD7VJREFU\n",
       "eNrtnXuQFMUZwL99zj6HxSQ+0VtLVCzL3FKJEbHMHUElKUqPgPjAEFZMDhVLJhVKLmXMnZaP/MHj\n",
       "4qOE4o9brRBRinMxYFQsbw0arTPKYXyV5cFilEoUvIMDlpe36a+7Z7bntVzvHam50q6anbnd7+ud\n",
       "6d/0119/3/QegMdKuPdD+KYUf+/HJ7DycvnQCFa3me+T8E0qi53eHM/3i8rl9mHwObzq4ZE70Wjb\n",
       "t3z0EpzB9hes6hgOn/6RPNGJWoXPElI0r7XkhcdpjbxEXYk021z4wCf6gc8zfIxTInyuIOUsj+EJ\n",
       "NLp8oE6fhrsfStU2i28ufBo0r/EJtYHZvi3wGJ9I0c2fefoY7pbL1cY3Fz5Ga3iGT0PG43w2u33Q\n",
       "931sw3heqrZEjm0iH1U4PMNrfO4Hj/NxtbcdrCGLUrWpKbaJfMQe2lX0Fp9oyeN8/G1un8ylrxPI\n",
       "tnYcQG/VWioSt/FN4OMXRjhfzlt8klmP8wmRBlPWTVt9k/WD1868EndzAGIz6rRouVolgsQavonj\n",
       "zzpBctBbfOrTIp/1vb29JZvMpIKL8m+r1131EoeqGyFf/gW8XTgTWf2RFn67H6WvSwF2KmUtdBAC\n",
       "WdfamITaRIzXSmAb4zO3F8uOGRX7d9RbfG6G6v3n4mdezoSZC8FJfrls21R2pOSq1z3ZZvxf6P1u\n",
       "RlLXR742B13wiFVCGaC7kwAuix2C5NHAtT2utTEJuIgcns03k/+2Mm1tEI/wUQ9U5+OfAfXgY8fs\n",
       "9oyerKmL2OWEj1N5LG15408LYNc+kNMdQw6KcJXDyMlaAevzHYW+AYi68+ESaNca+Gbio95rnGpH\n",
       "2kt8EgOufNRNswv4XhjuEvl0kF0ra4nVx4NvGdqjB8ld/zXI6Y6h7XWGA8Eeg09DCer7q/JhEkvd\n",
       "+EzqrHjtjV7iE+535fP8+V8Voa8ICegW+KhlYsPHDA7Nk5hqmbCgWrkop0sbitgynKSE6GjRy26U\n",
       "MGvI08i2NQXPtlXlwyRKNvvGxp/eOwVnO+UlPn1ZBz7jP4adhQQdM5Onk9v3JwKf2H68p5kPQa6E\n",
       "itrO7+qcOs5havkstmhZ47qGlKkYFeq6YfLXG/F+eMVmstjE9A5s/TZYkWN8ivp80zigL1QigE3/\n",
       "Jt/E/vOocBzf5yU+9Xk7H7VnBWwtRJiZ+Xm5HbYXKnx8h9E+0BMItAETtVa6J9KfoKGX8eb368g1\n",
       "B5iXS3QNKZNZMyocb7jGED0WTim2MEFf2vCXW1PxcpryUdF89okH7IVKxLPO/rUi2uHAES/xmZcx\n",
       "8VlG+vqg8vhBaNJ0B2pxCm7SKnxo1yEdIVjEaR0ThWvMlf6uNRssBYixn2R+H7sO6X/BNjolpFJY\n",
       "j8kpoxWiQ6/r+ntAXdj5zMv2W4tpok8W3fYBMZuUTx35jp3kTNWTgR3AzpIuEUbG9/FN4BM2hewP\n",
       "eYnPCrD1H9LFD8NYuLy5uTmvpkE1vozxwTGkLhN4QoNoIxedfIql1q52XwpusfMhLeojfhaxnKiL\n",
       "UliPqdAK0aE3dE9xOfUXuJkjFZwDZPrD7Jvfnh45H7iE7wfO8Z2ASXyHl/h87cQnPKjuh8+ox9Uu\n",
       "zProQWTgs/khModLauDPclGw5sUXFYkXRBrhPMvN8OOr0vPyECKXjrpUKmlpT1ohOvSGbrez49l4\n",
       "hxHwjJahtcT5JOyipDMyib446b95trnEr0lpyniHj3LQiU+wnxAIYsOFskLnp3wCX89MNhUoH7WH\n",
       "iyKfFk1ZDi1FfNGgCebllSw2rfIQf7NIjhreT79HRpzkpxupLkphPSYZWuFdIhbn/IJvue6tLYf4\n",
       "EWVbGpS1B/JufJhE8GmA/wDb3Pl0FbzDJ3rEiY+y7F7iz85HPhfPvh5MfGDxmSuWRykf2M5FkU9D\n",
       "IVCCBg1fCtDyUV0Gg/gzIXCMv6mRI2XKR4eK7eB7YzfVRSmsxyyDFSKbmcbZNDr2nzX6fbMYvWRj\n",
       "/mLPNsSZH80lpvHNnU9HjvMpDodPcUT4xI858flcI8MHxMj4YxLWDV3w6LWMz4u66IfsLtXvV/V6\n",
       "MoYEiXvVJt7P9KhpUyNM2AioS6VoPaIMrRAd+opPdfdxbIBMAiieYVsVPg1Zzod20Ldq5FOzsqkE\n",
       "9znx6SrMSzsI63zi5RJr1126KOETMMxgQIsfC+2D5G6Ikpa7xFCnR13Eh3s5sht1qRStR5ShFRKH\n",
       "PpqHE1tc+VB/HPk8zaxnbXxqVjaPxgMiH/35t5Zbp0EVPspY4jVsICcQLTDRy05vN/UB5cH7NQj9\n",
       "DYLmboUvvyHT/Wmx51CXStF6RBlaIXHogyeWjr/3PbePxqQ4HxwFlWyNfGpWNpVkSULYPg5sqa7Q\n",
       "We3D4eie0OLr53zQMQm118inZmXzuQzWMGYVYNQU9Zoa7tlBzifx1JIl99TqH9SsbO7LNXiCz8Mo\n",
       "KhPkVSIl3b8+2Nz8ca18alYeLp9qUWLvlbj8EBAZ0PlMZWF2IdNbxWDFLHy4MuY3QUxqmvt3JWGJ\n",
       "5TNrEr9Pns/OzGjiQ1M+kj7TPp3PeJqFUnKwgU6J1KbiZHe1kIUPU6b5TVNS01SEhCWWm9ZY+aSk\n",
       "T//XowoPtGq180nSsTZMDljTXmRkdSfNTse/x6aggQdmwoZf2vkw5STLFAtJTZMtEhKWWN6FYfPx\n",
       "D44uPqHG2vnEC8kizfT2MRRraJfAvHIi22l4mP+IFWNFOx+mTPObpqSmqfmFhCWWweHzicwYXXyU\n",
       "kjSfwzoftQ2f7V7AchjMVk5leeXEWyHC5wLipmXgn/kZsWLoiquv+JmJD1Om+U1TUlMsYsISSWMA\n",
       "EWIbL5xaO58GbXTxgQdq7z+wAANNpInW+J/Hm7yEWV2aV05cekm+E+c3r5OJ3CN3O/Ufpkzzm0ZS\n",
       "05LsEhOWdGZPY1qdwexptfOZ6/bB61WnRY+feBCTn3J8e+sw+DzWQzO9sPThPnJbYnp8PHu4PpHp\n",
       "3ELs240Ia0ts92QnPo+x8WZxykhq2pJdQsKSuoDUNqUjhWH412e4vL8nJ/7Fl+wkDJflSePcsQsn\n",
       "bq57X6si7VyqaP0djyY6er99spP4SIUPPuLgJzboQEb31SexB/MSmViMTH1DV9JASO7PTnxQmec3\n",
       "eVLTluwSEpb0zmBgxmi18wkMuHzQxT34jVi5sWRnlo0PGuXE2AJ0VCLndmlnPFW0QtiAlZUypnCA\n",
       "7IBZmf9AokgzvYFx1EvH9PgklldOZJR3thNin1A+v9/jxIcqs/ymkNQ0FSFhSb+T3aATIVMzn7ib\n",
       "whNsd3sH3gNGSi1i44Mh3ablmNE0TsIu7ViqaiGamKOxDsrOp5NG/IA1dpZ0nImYAsf0+Hksr0zc\n",
       "gnNeITY92I58/JeRc1GsfKj3iPnNFk1IarolLMlf6OwpDwX610LOHGuSMc49Vfmo+/6LO+O5qkTO\n",
       "wgdX64T2YtOWjfvaLu3oKFfV6nblE5e9BX2DJj5qD+k4l8ehRcP0eDfLKxM+iU50FW6kgd7uoj2+\n",
       "w04a85sNBSGp6ZawJH+RjkN26sLHXiqaY00yN1fWGp/obRP48GdujSU7asrCB1frMCNVZ5C2SzuV\n",
       "6lo7Xfn4B2qKeVXy29shooWfI62M6fGZLK88YT6G889Fw+p/MG1Nhljz22hSjKSmW8KS/PU6WPPz\n",
       "pvzckE7ebM0nvWPuPyHafMKSndssfDBeuYO2Y1lvTQdpp1JdK9zuxidwWPIS+1JmPi8KrYx21JZX\n",
       "do6PCmeAPQ6TmjTZ5ZawvASWTgXxY+rRSZ88npqxHEe502zfElPeQ34hYnG+mAPKIHsSUOQzB3+9\n",
       "AWXUst4THKSdrtlBS12Tg9Yi1ULX1JmPvmBk6BGhNjOfXUIrDy2ra+FDuwQmNSuYK0dGwrIAc/Km\n",
       "j6mq9Mmjvr4cR3yw7wbWvej5owOfq6eWf6WFD3GEQuU0b+9A1kXaafgxtFiwErVipCG6mBb+iEPC\n",
       "eaQ5InmJ9Y1mPtFCpZWHltUdued3/Ptlwwd4ssZynF2VPnwSw5fhfmKgfS6Es+xJdJEPEUvSgFOo\n",
       "3M4X7DhIOw18uhYPVqIveikxp81My59yDRUckLzErXkzHzHT2/l/5qPK/k5MA562sRznbHz2H81B\n",
       "YArze9mS3TFkVkYmstiZGix8yHjn20uvf6+eSnKQdvKqDC0WrKTLgsgU8CjTCmCThJeOBB/2bIxH\n",
       "nh+tq4WPEUWo/DSE/zt0t17nA9FBunLfgU+SBtS3Hhb4WKWd+o+hdZHxHdBRxPmywcecrwzMWbel\n",
       "Fj6Lih7i06TVYN/05Tiwp/LBT+nrr0C/NjKZ3wB2+0ZGw2AZVt6ilht1Pg7STtNMQ4sFK2n73QDx\n",
       "VMW+Wcafc3k7yfIZCx7is1XyNFrROBvLcYIVb2O90K8wjhSZQWG9aeFzBwZsH8nuuQcHPsbHKo23\n",
       "r30FT0WLBStprOoBukjrTR76rfhvX87+BX1CMFuDf6Ds9xKfVsno1BjiPFWW46jvmv1rdZ8Rhw01\n",
       "+nFCafWv8e+tB9t9ewsGH4u02woeQ4sFK2ms91qoL4Ddv47P/8NXoA4yZ1U5JneFicNe4uOTjE75\n",
       "SDsIy3FaZpn48OSqH1t34SaMTdxn4YODhzL31B1tGGNifCzSbit4dC0erEQt2LV5nsa0ImnG58Is\n",
       "nEXn4QDbnqxpfhoc9BKfmGQALmKO78Cjy8T4TpxP6umSHVy/a4/vsPEucuzcrPEokEXaZQWPrsWD\n",
       "lXxZ0HpzfEfNlwIp/uj253WUTFQyhOVr8xKfgGTvD6WqxEdfC/PxqBvgatjZzlfaiHx4CDRCf5+Q\n",
       "87FIO68QMbRosJJpBXvU07jWOsZH+bQnng3wMKsyhYKXbKyGvJf4wEdy4lG3/vYq2U7V/blIkfi6\n",
       "twNfaSPy4Y+Mh8r45ApdsGOTdudDtWiwkmklc+Ec06Kr8TH/E8wF84EPmpsXwqdk3KLuR5vcFT5b\n",
       "9BSfLjkHW3Wz5ntIU3fra4WURli9CSco02x82LIBRfhFFau0ywoeB63o5plciwb9J6YxrODLqDRA\n",
       "swrgR5WQ09DLyeApPn05OXnXxy26xQviS3biRjbtOaNZHZrLJj2kImr9FfjzB75MPed8Hf+NBckH\n",
       "WqID3uITknxC5FXwdIlOv5W4ddgZZ82erVUmZkMuujn0Ch9V0kHgvzrg1bIEppPXv5DxRy/jJN2D\n",
       "tLf46A8ODNkhz3qaz+3Wn/OLStqHZvAYn6TcAKQOeJrP6pesl1eQa9qS1/j4JedvL8CoKm9L3q0F\n",
       "r/GBtZIRhMJowqOcIid/HXiOT1jSwP1rNPGJyDWzf/uI8BnR/4+hvisn3zKanpCfLid+D7+24f1/\n",
       "DHXVSP5/DPi3pMlIjx48quS5LuH7C1at0v4HDmiYx5DeldYAAAAASUVORK5CYII=\n",
       "\" style=\"display:inline;vertical-align:middle;\" /></a><br>(see <a class=\"ProveItLink\" href=\"../__pv_it/d15585ae654180e33e7dc1431f023e9c1959fe300/dependencies.ipynb\">dependencies</a>)<br>"
      ],
      "text/plain": [
       "fold: forall_{(k, l) in Naturals * NaturalsPos} [forall_{S, Q_1,...,Q_k, f, x} ([exists_{y in S^{l} | Q_1(y_1,...,y_l) ,  ...  , Q_k(y_1,...,y_l)} (x = f(y_1,...,y_l))] =>  \\\\ (x in {f(y) s.t. (Q_1(y) ,  ...  , Q_k(y))}_{y in S}))]"
      ]
     },
     "execution_count": 2,
     "metadata": {},
     "output_type": "execute_result"
    }
   ],
   "source": [
    "%proving fold presuming []"
   ]
  },
  {
   "cell_type": "code",
   "execution_count": null,
   "metadata": {},
   "outputs": [],
   "source": []
  }
 ],
 "metadata": {
  "kernelspec": {
   "display_name": "Python 3",
   "language": "python",
   "name": "python3"
  }
 },
 "nbformat": 4,
 "nbformat_minor": 0
}
