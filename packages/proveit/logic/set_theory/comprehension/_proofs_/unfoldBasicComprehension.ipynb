{
 "cells": [
  {
   "cell_type": "markdown",
   "metadata": {},
   "source": [
    "Proof of <a class=\"ProveItLink\" href=\"../../../../_context_.ipynb\">proveit</a>.<a class=\"ProveItLink\" href=\"../../../_context_.ipynb\">logic</a>.<a class=\"ProveItLink\" href=\"../../_context_.ipynb\">set_theory</a>.<a class=\"ProveItLink\" href=\"../_context_.ipynb\">comprehension</a>.<a href=\"../_theorems_.ipynb#unfoldBasicComprehension\" class=\"ProveItLink\">unfoldBasicComprehension</a> theorem\n",
    "========\n",
    "*** see <a href=\"../__pv_it/ca7a29990deb11e5671c678be8e749d09ef208110/dependencies.ipynb\" class=\"ProveItLink\">dependencies</a> ***"
   ]
  },
  {
   "cell_type": "code",
   "execution_count": 1,
   "metadata": {},
   "outputs": [],
   "source": [
    "import proveit"
   ]
  },
  {
   "cell_type": "code",
   "execution_count": 2,
   "metadata": {},
   "outputs": [
    {
     "name": "stdout",
     "output_type": "stream",
     "text": [
      "Beginning proof of unfoldBasicComprehension\n",
      "Recorded 'presuming' information\n",
      "Presuming previous theorems (applied transitively).\n"
     ]
    },
    {
     "data": {
      "text/html": [
       "<strong id=\"unfoldBasicComprehension\">unfoldBasicComprehension:</strong> <a class=\"ProveItLink\" href=\"../__pv_it/90ed0ccd2650548bbf9d6f6bf57084f1940a78820/expr.ipynb\"><img src=\"data:image/png;base64,iVBORw0KGgoAAAANSUhEUgAAAukAAAAmBAMAAACLyxhwAAAAMFBMVEX///8QEBC6urrMzMxUVFRm\n",
       "ZmZERETc3NwyMjKqqqp2dnaIiIiYmJgiIiLu7u4AAAAU9Wx4AAAAAXRSTlMAQObYZgAACWJJREFU\n",
       "aN7tWn+MFFcd/+7O3s7N/pi7s6ZIhd5KgJBcsEs01ED0thyWpjVCKKexFtnWeKjXyjQiR6HAxoTy\n",
       "h8exCiQoTbjYVmuP4GLbi94RWblY9VrtYlrbGOGWRgkpxTug3EH4MX6/783vH3vncCpe9pt5b3Zm\n",
       "vt/Pm/m873zf971ZgPFEbmhYAcHkJkynpNQ0NJR5NT519YFbuQnTKSqhsl5VWa+yXmW9ynqV9Srr\n",
       "VdarrFdZr7I+EdbLE6BODs66/D98xHCBFz855jqTeKTxLcU8bPJV9JNXG65/EbwBjllZL9HBa5Wp\n",
       "S7I7KgRhPajpZMgnteIhic+2vp+qSTvPNhThwDXjUMjoc8r0BFv8zQyQ1KI3AAPRWf8Zne2qTF0s\n",
       "j/vachDWg5pOhnT5P1knyOsActrRVm2/HLUl1aDYvG2nokNETTFyGX8cuAjeADkL6xvIKluZOnZ9\n",
       "Q6AIE9R0EiRe4MVDIt0A+wAGtcPtmkeeJ05UY+mo39B3KDqlVjNZcydWdZfAG2DQwjr1R01+nCGR\n",
       "POZLwUbTgKaTNHLZ04WzO0+8w35sQ39eDHBKCwSPcy0eXBpLuvqdhqFD0SkLT7IdDy6h6+ANcMrC\n",
       "euKnHR1bxqNusKOjoxSM9YCmkyDztGKG2U6dtLvQzT4BEOXeFmnib8QQS7lUPfEK5wxLh6JTlnCn\n",
       "Tp6nuu48eANQMTLH0ba2v45HXV1b2+PdwVgPaDoJ8pBWNr385CuMrQ2Gp267yoJ3jEeGMzylCLPY\n",
       "Iqu6j9TgbYs9y/Z/2anoesxckvcliy3Dhq87AKgYrLcArHUjdduoi6QhqgRjfQKmoj1F+Dar8+Mb\n",
       "5CtrdfIidyf+FmJsmY8ZV1U6kLgzHuQhsEZNGdyzaI3x4j34Y3GmU9EpsSIP0WsumNx7AFAxWJ+N\n",
       "fQVw2OGPK2zUhTPYz/iKPtQzQGd+eeLDXrnU2Z3HW1ysa6YWyg6aCTXfbbJBivxOFlVA3wS6Cm7h\n",
       "gz6sf4iXGMRHJMKWLTnDU/fQyBnmwaQEG1mAUMuM+zwITDOUIuc7Crudik5Jgsh6ZegG4/4KxO8A\n",
       "DwAqButJiGOfJFNa7Nu+Eg5/xck6tncE6zkQHsHd99fC6QvuxqXbFXldyjU35aamPGF6fpTvsjZI\n",
       "7WQs5Y+eNVRIq8bne9UFXmSIcP3wzBMntNEU5ef40MKINpuIsFyaBWSshVXs1ahD7DLcy1ixKTrl\n",
       "NRYwcByu1+s/gwcAFYP1eDGJ9TAdnm19GF6NlWNlF+tH4CQjkB5YGkWHvO5u/ABe21Zysc5Nubsi\n",
       "PmVsdtalgg1yvx4sfdGlgqEi54zX3491fMqCfc4CCQq/Buv4+OxSkt3AG1cQ0WAd4KMm67qiU05q\n",
       "k7EhMkvguyLfAA8AG+tyjkzmU7R7dOs/4fXCilh51dI3l+at1J2h5ggM73WYMFVXDiXTqbobLtbP\n",
       "GHfK8N2sY9i3QurRt8UX3RgnWtjmx/p0rVCeSNCy4RH/oJOKHjj2YtlBGYoK+74qqxmd9RAxIF6k\n",
       "RQ27ovMdRw+tpVtaPiI9nR7+ANV5Sw4AW4SBtUuwej7cW/4tqQ7s3uzh69H11G/Hf8zeTWJRdY2Q\n",
       "sQ+oe8dcrDPT2MtNLcDwifWmLE9lOeshO2Q9hHvpxvp90dHAUOn3Z/0xXhLKUYizDv2cfoU6fhX5\n",
       "JbPcoREqqLuz57ZQO5z1KHrY7+Ij8GunIu9D0CtinJiH5isL5beHMpStNH3LDZCwjqawl9ro/MGw\n",
       "wqAHYu8vcrMurWY+0niFAlee7hDg845JCV1rHoH7wMP0UCQ7XZtX7wO5MCbUm6x/ygYp5OBsnbKA\n",
       "Rnk/dDQwVGb7s/48LweKj8BmduKcPlSsLkA8q2eObOhkqd8bo/nQ+aLBOl6VrkXrxYJTUaZQNFzS\n",
       "q4V8oKXg8g1onEH98IePj7kBbJkjD3uX0iCw5GEAup9zs86jE4j3aD6Jrrdomv0hmSOi0+4FD9MU\n",
       "ZlEcH+4H8d0Se2iN9dk2SMx5ts6HXsatDzoaGCq4ydO8WZ/Py+m+93r4gpS4XRsLM7OXPsa8lLoh\n",
       "ktJWD0Bc/ZGhHOXMnHWME3L7oRePuBTl22mmmdWrJcbk/zvHd17GnAnqHgQPACom6wmshBmdIPyl\n",
       "ra0dWX/qnAfrf8LyLnauFn9DFwHedrBOQbcxbU1pTVOoUzT8eRlaBokUTNb32CClDHXMAy7WLeh7\n",
       "wFQhrY95JzEhhRdLBL7PzGGMiT5PX7XXoPbanKzOOkyroGiRlCUJhl3HvgCw4PdFD4BTrq8a8ewC\n",
       "Qc5wXw8vxrOKx6eJH/K3addn7k2tKbhYr73490drruKI3pTx+KqxANIcn6aLoVQobbI+1wYZzlKW\n",
       "fRs77YM+F0yVuQ5fD/f06GlAopsXf+lxr2OpmILorA9WUPSTXSqGwl6hPu0G6HGxHi18Og7LOOsw\n",
       "WPb+IIS9uFbcAc1vpd6kdSKkaKMidsHGMlWKcH1lcjn28YytRZepMPICvrnL9KEslL7LksOcAysk\n",
       "ZRq30bRgELAtjl22o6OBrkJb2BrXN0FEmcBKr2dyyuZIo0ZcNxdq5dyEWV+jote0C6WCC0DOuViv\n",
       "VaK/gNP4roSfTkEEvFl/sLVVEa5hcH/ncjnPKGouCmPQrFBVhPUzd3VJEP5exm0qt+/tKzN8xrr0\n",
       "wNctrGMabIGk7HdPL97hSsC2OLZiR6f5haZCmz6aJlpbAV4HyWh+vVb8JOJeqRCHMFqJL1xipIkZ\n",
       "f0U/2XKJJTvtKRcAA/H6bvoTjLueiynW7y1s+f+VDKfI/G5CvyJXV+Gkq6voY8rxkfUOCsoG6/G8\n",
       "DfJXICoU9nNaW250NDBU+CxJ6sMfz7IFqnZz9kjJg1jhM9ZL41G4eaKKEwF4CSD41+q7qTqKScfi\n",
       "O/IgGE7AfsXVMezSnpQf63qE+aYWFDjrfH1Eh4TTEO2exyegd3ujo4GuQlrIemKOkBF5Zz/5XbiF\n",
       "JSjr7NmemG5xfPOX2JCvZGqsw+zvsy25PGOFBKko9eMYGLG+SQ70Z0BXIS1ah2mJF6WvYYQRFX1p\n",
       "bGqx/u+u9LpDp5kQaANIwr6kNMDqQxVwNYNDbAtTPlyKplksSeSDh4Mpzfp/RPoPs4EVYn0vpqqs\n",
       "/5ceRiz+COM+5TC3uEwp1oWHC/B/IdV/3N3arI+2BXWkmzCdkhJvW1fm1fgya5YStJmbMJ2KIs6a\n",
       "xat/AVNhSq7wpt0IAAAAAElFTkSuQmCC\n",
       "\" style=\"display:inline;vertical-align:middle;\" /></a><br>(see <a class=\"ProveItLink\" href=\"../__pv_it/90ed0ccd2650548bbf9d6f6bf57084f1940a78820/dependencies.ipynb\">dependencies</a>)<br>"
      ],
      "text/plain": [
       "unfoldBasicComprehension: forall_{k in NaturalsPos} [forall_{S, Q_1,...,Q_k} [forall_{x in {y s.t. (Q_1(y) ,  ...  , Q_k(y))}_{y in S}} ((x in S) and Q_1(x) and  ...  and Q_k(x))]]"
      ]
     },
     "execution_count": 2,
     "metadata": {},
     "output_type": "execute_result"
    }
   ],
   "source": [
    "%proving unfoldBasicComprehension presuming []"
   ]
  },
  {
   "cell_type": "code",
   "execution_count": null,
   "metadata": {},
   "outputs": [],
   "source": []
  }
 ],
 "metadata": {
  "kernelspec": {
   "display_name": "Python 3",
   "language": "python",
   "name": "python3"
  }
 },
 "nbformat": 4,
 "nbformat_minor": 0
}
