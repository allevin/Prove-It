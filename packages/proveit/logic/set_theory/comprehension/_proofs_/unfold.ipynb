{
 "cells": [
  {
   "cell_type": "markdown",
   "metadata": {},
   "source": [
    "Proof of <a class=\"ProveItLink\" href=\"../../../../_context_.ipynb\">proveit</a>.<a class=\"ProveItLink\" href=\"../../../_context_.ipynb\">logic</a>.<a class=\"ProveItLink\" href=\"../../_context_.ipynb\">set_theory</a>.<a class=\"ProveItLink\" href=\"../_context_.ipynb\">comprehension</a>.<a class=\"ProveItLink\" href=\"../_theorems_.ipynb#unfold\">unfold</a> theorem\n",
    "========"
   ]
  },
  {
   "cell_type": "code",
   "execution_count": 1,
   "metadata": {},
   "outputs": [],
   "source": [
    "import proveit\n",
    "context = proveit.Context('..') # the theorem's context is in the parent directory"
   ]
  },
  {
   "cell_type": "code",
   "execution_count": 2,
   "metadata": {},
   "outputs": [
    {
     "name": "stdout",
     "output_type": "stream",
     "text": [
      "Beginning proof of unfold\n",
      "Recorded 'presuming' information\n"
     ]
    },
    {
     "data": {
      "text/html": [
       "<strong id=\"unfold\">unfold:</strong> <a class=\"ProveItLink\" href=\"../__pv_it/cfe9bb95f1be582954d15cea4fbd6f028484c3ff0/expr.ipynb\"><img src=\"data:image/png;base64,iVBORw0KGgoAAAANSUhEUgAAAz0AAABABAMAAADCEgTEAAAAMFBMVEX///8QEBC6urrMzMxUVFRm\n",
       "ZmZERETc3NwyMjKqqqp2dnaIiIiYmJgiIiLu7u4AAAAU9Wx4AAAAAXRSTlMAQObYZgAAD9ZJREFU\n",
       "eNrlnXuQFMUZwL/d2d3Z57CaxCd6a/kuKnVLRSNimVsikaQsPILiA0JYNTmMpGQtqUBCyK0pH/kD\n",
       "4eKjlCLWrVaIKOWxKBhf5a0SNIXRO4yvojwYDFJGwT04ZHmct+mvex49r72b3dPMlV01uzM9/c3N\n",
       "fL/p7q+//noPYGymWGns3Kt05f/jr/qr1cOjeLkX3RV/diy9TOe5K36W8r2wWu1ogM+RVfeN3iNE\n",
       "8u6K946pyp51VTwwg32fv6qzET79o/kIE3Ouiu9Kj6nWeLm74h+qOz7P8PnQXfFfjq3est3d29eS\n",
       "8xqfoLvmzT80tvgEM/VpwzN8Wty1V+EZY4uPWHFn8J3qNT53Qn0NwFhJd7kr3i17i0/E3fsFc51O\n",
       "bKk5LHroqwcx+XHb7B53V/EVvMUn4c4AhVMd8vcV+KMJ7CueUjMe0+69iPk3NL2bq1HaPtWQepUa\n",
       "orYqLbtTdHTIW3yaU66KCwNO7QL72r0RNSionfJVFj4XoEqPK0HnoH5NS2l7PDWkgmlHSyfhrsOU\n",
       "jnmLzw0ux3tOf/pR9nVLJzZzYVm1Jix8VpCtlXxEqppdYi1tm2pKIZpo0nbI2VuXQjzCR/rCXflQ\n",
       "b00+0oH/4pfmMYoXTHxipHkL7kfVVrX32lra1vKtKbXVkU/MpbI6U17iEx9oqLuSnuvry3N8IuzO\n",
       "TtfOJ018fETJrJFq0khbS9vqrabULkc+fpdPWM54iU/I5aXGGVvzSW8Z60+Qqs+vdwS/MvFBf+VO\n",
       "qseqqk2b0naptlSow4mPcMTdE4aTXuJTdmm+ldH8EtdNWz2HDv5uNbZv8SnvIL8gaXE+nQ0iMYXW\n",
       "mPjMRu87lpGqak2wKW33zDZS0poCtMtUKjrDiY/a4Y+4hz3gJT7NRXfl27H7/xTeLJ1Ga59u7l7H\n",
       "qhe9XJgUKjTTlv9hE5/lRLPVlKZvh9J23Y+NVJQooptJoRM+bq+Wo+6eUDjqJT7zXHqjW5BPgWjl\n",
       "fjzaoz/V8QwfvZwvBULHXAiRunmGiQ8plqjKVN8dIGQdStt1fJrUhoIiBReT5rSNSfmTjq4ClxYQ\n",
       "HPYSn5Uuy7fgbctwOTs6o6+P2QfCFMa5k9WiFEhkIIuVqcXEhzQevv30+feDcHWvQ2m7cb0qBYmU\n",
       "IgWyrwjHmJSAKgktHw0+O73E58t6+GhehAv0W/oW/XpK5QORIep5teGToH+z54g61WdT2q7+aFJl\n",
       "WZWCThnHyxqf7aNSf1rT3uEjHoI62jcQB8grj04d/cSP6ecvtHePDOY3gLV9O5kMGKvw8E1SNaPy\n",
       "sSltN8zUpL6rv9/XQSypt2+m/keYvW5zPXy6S97hE3HZeUI7GgCvk778Zaq0knbiKa5ehUp0HgJh\n",
       "/dPE59dEb9X7s/uWHQSVj7k0Vg/JsIMfutQa/7MykyIdTijDpOJ5i/12tqInt4/YWVD4yI3wkUeF\n",
       "T2zQpcA4cvORwVBSpIaa9LbRvpaYbYrGbjDjx2ub7Ws87jnU4dtf0viYSkvYkJV7uR32oUktv6+c\n",
       "Y1JwNTSXwMa+/mzWzwCIENofottHbMkqfOjdvVEnn7qFja3GAZcCPqIHaUHXky+xwyVXGfgok6t+\n",
       "1O6CTThz8UcTH2ycxLkn7cxDQeVjKi01Ee3vIjqSTgC2A7sqvNQXaVUK9rw4L8ekwimOT+zGP3wO\n",
       "ErmXUh3jU/Y2IJ8nVH9hPXzqFja6D1w6PyBsGs8+cC/v34kpg/oTab3otfPvsBFTePDsrBYKZCrt\n",
       "t84Angu6lDB+uS6FzarBvzMhC6fDFnpqG/ubbie4YFxS4fMbfCuydfKpW9hoFbm9+WCyhn/0HyGl\n",
       "P9oKMB12oculaOKjuEDDNL5M4WMqHbdeXLkslYplJwqKVKBXOlmRWsf4SMWKkAT2lnzcRGtO1G1n\n",
       "7etX+KCHPNhRJ5+6hY334jbaI+Ik8ArZTlLtOXJz2+EWsvMJmPgoVT5YPaT1P+bSznyoVKh4aUyR\n",
       "ShRCBSYlIRJiBIof9cayQkExTqfQJiLv9p0dUvjEH1+8eFm99kHdwsa67Pblkpxa833kLd56rWq2\n",
       "Z2D1JhygTLPwWcQK7CT9mLj2i6JNaavHKaZeFqXCudDTilTkxZmKVADbxInkGoFCoCi819a2AD4i\n",
       "PYnucnLThFdU+/pQW9v2uu3reoUb4+McbrGVr8xLFcVq3qOntRGXjbospUeUeKlnQIk/8KV8aSmD\n",
       "+asAvk/NMbcBLeEBlc9lAPPJ7u36uRoNVtTERxG+8MmX8AY/u3fbZXav+3N93+aeevccs63ims8r\n",
       "4OnkSzcr9fAaph9lYObGZjqg8jmLtptiQXH5Sa3y5Bo9s4kPE/bPgGZsyU/ISQtTVqE/z4c9nAk9\n",
       "x+zALyfd3n055Wk+kStuJmY33uNVs2bRmjO+fj4JulYjpLr8yOAgqjz9pFmp2HfYEFS4ayZs+LmV\n",
       "DxNOUHnoJJZcu3XqOUL6U5Fzsb0NDfOJZj3NZzFcQT7/RvofVQXJ+vnESgnCYLXq8iMDYawS0qZZ\n",
       "pXi2C7qU8q9F5ahs5cOEiWQcp63I7jiraVXGrKruahhqnI804Gk+t/hN5lqi5JrPEZWPlEcH8HzV\n",
       "5YeTV6QTefbcz+X4G0HC53xipqXhX8UZUTk4dfrUnxj4MOHEKVjjouiXGmcdy6zHnrKqdZCvUXsp\n",
       "unHCZfXzgec8zWf1C6aMN6H++gPzf0g+kqrLDyoYlRJHx1L84ouKXTi+IUPhzfcvtas/TFj6KQ70\n",
       "fIi8pR8CJq9cUwc6FrXDOH23ugLZkxvgEy7BGEriiY3weZB0GUJedfmRkS/p9Wk4VzzdtZm0b9cj\n",
       "rM3RvZPt+DzI+ptFSaXqrM8Ij5psSaw6pG4FlDpPfYqQ4jTs3r4G6d9jiU/Y/RA+rPPxkfbGn1Fd\n",
       "frjWaxJMZnyi0SsJkx+R/c1Q+KsdHxSWUiD1K11PUxoSZj5EzjcAEWXSXnG/jMs1wgeWjKUI+Svq\n",
       "QKqNfyBO9BfJqC6/UBH5XNrW1laMp8W3dhBiH1I+v99nx4cKs0n88MDuG4PHwMJn5Q8uT80ran4g\n",
       "H7MOJ0K6ET5iauzgkeq414TmP2DKzqouP9/3AM6B3az+wJkvA2wJdCAf/yUEhWjmQwdFWQjlluSE\n",
       "L2cmWkuUj3gPLJHFFfhxD7S8m3pnkGR/tBHz0dgT7xH610LB6GuybYX73odvSvL3bbf4JDU+Ui9z\n",
       "+S3JlWPolaWuJMIn3oWmwvXIB7bKVv8O43PhrGtxznnRaStXRCgfYRBackIFPwZBnPLBYbkDfK/v\n",
       "xXxScciXtODBF2Sjr8n2LYJvUlpk8Xnp89s7mMuvpRR4AmAmSDeSvPPIRwbOxsB8/90pCIADH5aw\n",
       "Wwkcu5q1b7r7l+61bsrAeRvZ0RYwe4ed5+e+uXzKSSOf5zkt49RFlPQ/w9RHUyAE1rhYtQLCBkL4\n",
       "Ii2f7nUTG+6l8F48Wn4Z8KepRXekBh9xMUle0+SEBs8b0qvKZuDTnjfy2cNpOTIiZ7iJD60S4nEd\n",
       "HGZ97zYy1pkWfRqPZhcNp6nosRp8AlOnTp0iewuPturHkkwrj0aUcNkQXTrE82nOGPlESrqWA1AH\n",
       "n0Z6xoPDtG8hjxnTYcf3xbTyaGQpr2w8n56ikQ9s1s91fc18JPPvxEge5+P4WzTmlUcjS1uVjecz\n",
       "L2Xi4/6tH7340San99OjfE53OmFeeTSytEvZeD4LZQ/xaTXp35/xNB+zd5rrSrSVR9E7SpCouahx\n",
       "7XiAPvZ4HWzj+RwHHuLTY76NdZ7mEyxwq48Mho6+8miNrwKdtTQUndGUi1SVXbZxfMSDXuLTrq+H\n",
       "m4uLEfp2ztD4RPHQwkdw+sUhsXb4QKTWydtr36WmK3TtaquPrvsTJuX3NbSVR1KyvQLzsiz4wL5R\n",
       "E6u54CGpVWbLhnDj+MSPeImPz9IQPJxyrj805Pwmdg9Kt6wHOPxuGMu4YO7RdVGxUFtWm/b3pbjV\n",
       "R8YXTVt5VFyfh53FC6c7Xu2S6GFIHKOTbhhWjxvHJzDkJT5RiwNOuiPlyIeGnLMpoxDL4QIcssP8\n",
       "qcdMx5xoaLi7TKm+lxS3+siQtJVHxOYpStU0PFLjpTwG5QEato3LUnDj+PjyXuIjWKLHJ3XZ1h8t\n",
       "5FwJWmUq5QIchh1af2Jq77jYiNXDDQPyHB/73zDRVx4J1Zyf9C41+LRUoLmf/jKcDZ+Wopf4wAem\n",
       "/qfvVlv7QA85VyJ0GR8uwGFYSyJg7J/42Ij5w92lOiFPtaauPmI3/B47o688iu8H0oDV4tOTBNIG\n",
       "Vuzbt/Wyp/h0m9T6gNl+808vSOO5kPNAiuPDBTj4AM7aDrtKlpul8sB+moJLfGxE0kFWy1SHnaES\n",
       "t/rIkPSVR/HDED7K+MjArSDSj3rysLKAs9V0xj9utA9OAE/xKRu7ZjFv5rMv3B8f5ELOE3s5PmqA\n",
       "w5U4syj1roSeEph+MpfKo9HnN7rGFNFAnk7x28qyzEkl/XdbiS2srz4yug80e1ncD90HKB/jCiL9\n",
       "qD0Zq6boL5Na7evIgLf4mBYkaK0U4RNG+1r+bXs2UOFCzoN/5/goAQ6TT0QVig8dIuPdyaaIDCqP\n",
       "Rp9gHFsqojj3TsjZyrLMUBrhK0/ey68+4lWirzyCR05bOMT4qEuJuPVE2KpFtr1XlXG2mi4bwk3n\n",
       "o4bTe4WPZDQQBJP/DVvADl/SGHLO8ZFpgAO8TxvG2BEcfJvnXVEeWzAzHyaKc++RjIMszfSBzgec\n",
       "wnG4lUf+NA5/aPvmsJToTAgeorPVNv6dlpS3+Kg/PGVOCc4fVc4YQ851PkqAA+r1HJI3JB208kF5\n",
       "NPr8RgNcEcW5dzxjK0szcaXTObxD0ybxK486+0Wsm8jHfqlKpApkCIuz1dRbss7Apw08xidRGIZP\n",
       "KxA1GkLOdT5KgAPqdR8xHfoxSOV9DPFhERArMNgH5dHoixfsYiNw7l3qtZMlZWjmVh6Lw/wBv/Ko\n",
       "u7DseDJaXjnHiU/sqLgtBThbTcN18zwff8VrfPyVYfgs+aApbQw51/koAQ6o14QM4r13sLaupcQi\n",
       "ICoYG4HyaPQFU3axEXTufQfYyGIZzMQwzJlal5SxvVt+5VGwb7sK0WEp0dw+ZR4HYz1ovIfGRwsH\n",
       "9s7vX6+tzUe6lnp0uZBz45AfAxxQr7EO+DhHehraRumWconKo9EXto2NoHPvz4OdbJxl7igB6F3X\n",
       "0mGeZqmbR39G2XQ+14Dn+IQKNfnEBoN2QSQaHwxwuOSUDpCy0F2al6L7glbNhByVR6NvtW1sBJ17\n",
       "3wN2shexzDm5EU77N5BUPv4do8JnVP8/hvS2LR81/k28+85cLT63qcHcf4ElN0/jaoeyp8lnbGMj\n",
       "2KCjZCerZwa+Wjr+vneUvWXKozb2/zGkVaP5/zHgP/UIWVUWrz2/EJVrnNxc+491wdeU1HCl81et\n",
       "yv0PlKqgKQrk/iMAAAAASUVORK5CYII=\n",
       "\" style=\"display:inline;vertical-align:middle;\" /></a><br>(see <a class=\"ProveItLink\" href=\"../__pv_it/cfe9bb95f1be582954d15cea4fbd6f028484c3ff0/dependencies.ipynb\">dependencies</a>)<br>"
      ],
      "text/plain": [
       "unfold: forall_{(k, l) in Naturals * NaturalsPos} [forall_{S, Q_1,...,Q_k, f, x} ((x in {f(y) s.t. (Q_1(y) ,  ...  , Q_k(y))}_{y in S}) \\\\  => [exists_{y in S^{l} | Q_1(y_1,...,y_l) ,  ...  , Q_k(y_1,...,y_l)} (x = f(y_1,...,y_l))])]"
      ]
     },
     "execution_count": 2,
     "metadata": {},
     "output_type": "execute_result"
    }
   ],
   "source": [
    "%proving unfold presuming []"
   ]
  },
  {
   "cell_type": "code",
   "execution_count": null,
   "metadata": {},
   "outputs": [],
   "source": []
  }
 ],
 "metadata": {
  "kernelspec": {
   "display_name": "Python 3",
   "language": "python",
   "name": "python3"
  }
 },
 "nbformat": 4,
 "nbformat_minor": 0
}
