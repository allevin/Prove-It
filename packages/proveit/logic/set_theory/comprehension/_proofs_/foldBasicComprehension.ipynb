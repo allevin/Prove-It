{
 "cells": [
  {
   "cell_type": "markdown",
   "metadata": {},
   "source": [
    "Proof of <a class=\"ProveItLink\" href=\"../../../../_context_.ipynb\">proveit</a>.<a class=\"ProveItLink\" href=\"../../../_context_.ipynb\">logic</a>.<a class=\"ProveItLink\" href=\"../../_context_.ipynb\">set_theory</a>.<a class=\"ProveItLink\" href=\"../_context_.ipynb\">comprehension</a>.<a href=\"../_theorems_.ipynb#foldBasicComprehension\" class=\"ProveItLink\">foldBasicComprehension</a> theorem\n",
    "========\n",
    "*** see <a href=\"../__pv_it/975f6aeb886115b8aea1b557e02cb54df466e49b0/dependencies.ipynb\" class=\"ProveItLink\">dependencies</a> ***"
   ]
  },
  {
   "cell_type": "code",
   "execution_count": 1,
   "metadata": {},
   "outputs": [
    {
     "name": "stdout",
     "output_type": "stream",
     "text": [
      "Beginning proof of foldBasicComprehension\n",
      "Recorded 'presuming' information\n",
      "Presuming previous theorems (applied transitively).\n"
     ]
    },
    {
     "data": {
      "text/html": [
       "<strong id=\"foldBasicComprehension\">foldBasicComprehension:</strong> <a class=\"ProveItLink\" href=\"../__pv_it/2ad12f6d0a5e52eac1b8c48615b7ed64c89d6ed10/expr.ipynb\"><img src=\"data:image/png;base64,iVBORw0KGgoAAAANSUhEUgAAArcAAAAmBAMAAAAsFq6LAAAAMFBMVEX///8QEBC6urrMzMxUVFRm\n",
       "ZmZERETc3NwyMjKqqqp2dnaIiIiYmJgiIiLu7u4AAAAU9Wx4AAAAAXRSTlMAQObYZgAACQ1JREFU\n",
       "aN7Vmn+MVNUVx8/Mm5k3P3Yes/0hxQI7JTWYkGaHpLYpjd1BEjChlUVZtVjjlDZDK22cWiImjbJp\n",
       "Yv2jK05rSG1I42hC/bGBLgqmCqmjxtjQGNakWkOCvCWWGBF3kcK2BXd6zv3x3n3vvnnMjLWducm+\n",
       "uXPf/Z775nPPPffHWwAtTfV/FjpMH0PaRjoE3Zqs69jH+v7FEO/vt4MIdW586n/xCzKlroULV4rP\n",
       "xfgX6UW4v+tetk7H9ypc69NdDBfGehtuYrib4W6v9DTcQbub4caLPQ33vm5mC+ZsL8M1Zrsaruj7\n",
       "HoUbn2x255W6m//NJ/8gKx4PLD6iwrWDCNmdw/2kI2JkosmN0zXly2MyE6Xqfd8deKPi3lzGP/ry\n",
       "4S2FqF6i3PJqkGq6qsBljvAXHyG9sGW4nUpbTUOFJjdegCC4XyYe/XV45KIbWIoic0M42xBVnB4i\n",
       "Phokyw4rcJ+k/A4fIb2wZbidSltNLzS78WggXHqSdXhJNZxOScrBlQxtKFRFXNO5IFlsUoF7F01x\n",
       "JR8hvbBluJ1KW00/bgtuBqNC/AxxaTjL44OOb9bCYnuo6nBTuJkZBS71SLzqI6QXtgy3U2mr6U3v\n",
       "11MPHHsrBC7N2HxsDzgT4WJnr5cLaSdcNdUUbvSsArfv8W3b7vET0gtbhtuptNV0zrswG7NDPZcO\n",
       "Uo4zCA2JIuqGyh+GtBOuSlSbwTX+pS7FzpfLR7X1lFbY+lKsQ2mrJwsX2FJ9fM2uWyhzl62GBWt3\n",
       "DbbbKtyNiIUNbashfTCOw/q9jWDOAexu3k6QSpgnVXq4GVz+gBLuKoDNGiGtsHW4bUh/yq6pdqqY\n",
       "bLS+B6/VF1FGaelm/LnRGTHhPeaeo8QbeQcWm5BwOVwbZLHx4ZCQG6AS5kmVQkfumwlU/luF+0Ww\n",
       "sOa+mocQL4SrnjpE06X1x2OfCVoBnXrg9VUaXCF1kzACeb/I5G0a/nlFaU6rYjC4NfyRD1FNd+Y0\n",
       "PgXwNdxhlD1wsTDbsBmsKhisdiQPRvVWSOCXLzSH66o4GVRJ86SK5ppuxM+pcLOQwV7J5j2EeGF0\n",
       "GAap5Feb4eSHupnUZRXrjrwfLpcqA0wYgZJflPCvm0RSmtOq8JBmw2pue9GxY3xCM1Zid9i4w7jg\n",
       "qY9mImcYnDNgbGBjfF4eLPg8zMN1xFDIXkWqBBlUSfOkMshrE2OXhJupZ/E6bXsI8cIs/3Wp8+hC\n",
       "HwVMqIhr+6QfLpdyFzwwUpdGJFxFtEtUe9fXZ0pzWhUOF5COZ2WPnOmY9xHbOOuHm2WmjqAuJeFC\n",
       "ao5tRkLguipOhlTCvAP36KU91xqlXcyXvIR4Idrto485mje1fa1FRfPm/HC5lKVnl35gSyMCriqS\n",
       "ATPmDTlqc1oVHhbAPIvuh9aUrr2Wxd1MzgN3AUob8PD3rEZRwo1U2eZqH4SGBVfFyZBKmJdhwRdz\n",
       "jY3jL2twYfM1eNkdfdZWT19YYfZyNiT+QP7RqPjbT/+DenRWO7hh0vFr9hf62GwgjAi4qggfML1/\n",
       "2Sq20leS2pxWxWTD/lWcjv5EmW+6sj0sCiaKHrg/wh/deKh0+h5qlsNNYNBKDsP3MftnHmKAdZSb\n",
       "oYur4mRIJcyTqm9UWy1cAdEZbUKDndTm2K+nKyohVmitb1CHDVSpMYDrfGGJRujQDHMZvzRtr45U\n",
       "+fZSGBFwpShmg4EPuDdWWgDRoseuaC6GtwOq0LOnLiZyJsN9Ou/ZoW2AwboHLi2bjpyvRs7UHbi0\n",
       "iooXoxfFXYvG//SkkuEXR8XJkEqY15dip0a+ww5VSs5yxoHLzpnOFbyExOHT1pzwIvS4FfO9cJn/\n",
       "oZvtBF0apUXQClG6NefCFSLj0QoDlqcljuFdXYjmUvj8AVXo3b21Ze9T/P26eV9BhXvy4G0VD1wa\n",
       "0+atnzs+igsMATdKILccoOf4OdkaQMUUPpt1GfAMTM2qKk6GVMI8qZJ5BW5m070fgIXBrK5tIqAP\n",
       "L8bCMS8hKrRwXp0R8S+CkfxvPrgUGwcK8G3QpQD4gFeXy+UJaUTCFaJsBVLkjfMqOlzeHO2hA6r8\n",
       "wjf7Xevd/u7xbX856+TFK0oSLjAfSU/K7W9Ui3ewFFyVJDNfmvdsf5eVkOMr7NbrvM3UrHZYnikt\n",
       "N7QT75RYGj74jdX52yY0uMmz72yKYwh8e1lRPyw3cga8oxoRcKUI4UapYDkUeMZNornsif1BVdaH\n",
       "HNzEJq0FXrjibCbZoNAk4B4G+BZM0f6Vjc4+3ZRYSjKVJHNYmmeqcQ7Xmpg1csA7/u8DzGfTMxrc\n",
       "xMTVGY1QvASJink/DL2R/ytFEoR7d8XcAXfbdKkYH12fXYfPsfDeuiYdSo+mIVaRRly4UoRwcao3\n",
       "Zp7AkYcEHLtuc5FX3/dUkeu/ZqfxL6LRWqIWcORIm4HzTsylo6WjcLuzvmsOl6kkGVRx8++yFRE/\n",
       "zzVPTGZKcodjrmQkRzW4yUriaR3uVSM30drHXPnWP+0qgztUN2ZhqEKXOmxd9OCOFER/WdRf85x8\n",
       "7pa9YG2SRpR1LhcRXHgbY9/O522I5127bnNX7gdPFc9Jf9CbiAlIHbzev+nYyn/3cQzg5hPnmKua\n",
       "Rdh1gOytYff0NxvSzZhKkkEVN08q5jbL0UasFpsw3iyXt8AJfDQW9ybaeYfGenbdgSIPC3VP98Yu\n",
       "bMBNw456E2kaY677TY5sEjG4zynHz3WtuUPJ971VRK7pvy0cVrA7nmIGvBX6mWBYaOvcRFU9I9+h\n",
       "RfKRgsWc67cAX2FjttIO3K+y83+cwr9+OYZPJ/qzXKYxi704nm8i9SYJl0TGvifRvcHZhrl2nebW\n",
       "pJ/2VJHwc9BFKVIYFCPgRrHj2QPtwGU+9ZMF4AtQLGf2V8OkwXAdUUq4a1G162lOrSL3hR92E9zU\n",
       "2h+gB5Bz3TAywhxkYVtw2z1ybJqKWsnLPHjYISK9yu+7Ce42WEuPhDFX0s79f+D+l9J0oYvg3h4d\n",
       "9R341Hsabma0i+Duet5X8Br0NFwYg+5N5vweh3u60L1wk9VLwJ12w3Pb8bBzaRvecX/3wl3Lz7HL\n",
       "c5Ap3xEEN7pkaae2P4a0jXRn17K1+Ir/ziV5MJcsgf8AS3NdsVDaIt8AAAAASUVORK5CYII=\n",
       "\" style=\"display:inline;vertical-align:middle;\" /></a><br>(see <a class=\"ProveItLink\" href=\"../__pv_it/2ad12f6d0a5e52eac1b8c48615b7ed64c89d6ed10/dependencies.ipynb\">dependencies</a>)<br>"
      ],
      "text/plain": [
       "foldBasicComprehension: forall_{k} [forall_{S, Q_1,...,Q_k} [forall_{x in S | Q_1(x) ,  ...  , Q_k(x)} (x in {y s.t. (Q_1(y) ,  ...  , Q_k(y))}_{y in S})]]"
      ]
     },
     "execution_count": 1,
     "metadata": {},
     "output_type": "execute_result"
    }
   ],
   "source": [
    "import proveit\n",
    "%proving foldBasicComprehension presuming []"
   ]
  },
  {
   "cell_type": "code",
   "execution_count": null,
   "metadata": {},
   "outputs": [],
   "source": []
  }
 ],
 "metadata": {
  "kernelspec": {
   "display_name": "Python 3",
   "language": "python",
   "name": "python3"
  }
 },
 "nbformat": 4,
 "nbformat_minor": 0
}
