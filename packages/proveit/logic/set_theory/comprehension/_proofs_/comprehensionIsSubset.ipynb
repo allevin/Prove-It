{
 "cells": [
  {
   "cell_type": "markdown",
   "metadata": {
    "collapsed": true,
    "deletable": true,
    "editable": true
   },
   "source": [
    "Proof of <a class=\"ProveItLink\" href=\"../../../../_context_.ipynb\">proveit</a>.<a class=\"ProveItLink\" href=\"../../../_context_.ipynb\">logic</a>.<a class=\"ProveItLink\" href=\"../../_context_.ipynb\">set_theory</a>.<a class=\"ProveItLink\" href=\"../_context_.ipynb\">comprehension</a>.<a href=\"../_theorems_.ipynb#comprehensionIsSubset\" class=\"ProveItLink\">comprehensionIsSubset</a> theorem\n",
    "========\n",
    "*** see <a href=\"../__pv_it/6d21dc2ded591fa796ffdb8aa25d2b8744a6903f0/dependencies.ipynb\" class=\"ProveItLink\">dependencies</a> ***"
   ]
  },
  {
   "cell_type": "code",
   "execution_count": 1,
   "metadata": {
    "collapsed": true,
    "deletable": true,
    "editable": true
   },
   "outputs": [
    {
     "name": "stdout",
     "output_type": "stream",
     "text": [
      "Beginning proof of comprehensionIsSubset\n",
      "Recorded 'presuming' information\n"
     ]
    },
    {
     "name": "stdout",
     "output_type": "stream",
     "text": [
      "Presuming previous theorem(s) in this context (and any of their dependencies).\n"
     ]
    },
    {
     "data": {
      "text/html": [
       "<strong id=\"comprehensionIsSubset\">comprehensionIsSubset:</strong> <a class=\"ProveItLink\" href=\"../__pv_it/9024956920972bfe6d3bce3e135512788d5007c20/expr.ipynb\"><img src=\"../__pv_it/9024956920972bfe6d3bce3e135512788d5007c20/expr.png\" style=\"display:inline;vertical-align:middle;\" /></a><br>(see <a class=\"ProveItLink\" href=\"../__pv_it/9024956920972bfe6d3bce3e135512788d5007c20/dependencies.ipynb\">dependencies</a>)<br>"
      ],
      "text/plain": [
       "comprehensionIsSubset: forall_{k in NaturalsPos} [forall_{S, Q_(1),...,Q_(k)} ({y s.t. Q_(1)(y) ,  ...  , Q_(k)(y)}_{y in S} subseteq S)]"
      ]
     },
     "execution_count": 1,
     "metadata": {},
     "output_type": "execute_result"
    }
   ],
   "source": [
    "import proveit\n",
    "%proving comprehensionIsSubset presuming []"
   ]
  },
  {
   "cell_type": "code",
   "execution_count": 2,
   "metadata": {
    "collapsed": true,
    "deletable": true,
    "editable": true
   },
   "outputs": [],
   "source": []
  }
 ],
 "metadata": {
  "kernelspec": {
   "display_name": "Python 2",
   "language": "python",
   "name": "python2"
  },
  "language_info": {
   "codemirror_mode": {
    "name": "ipython",
    "version": 2
   },
   "file_extension": ".py",
   "mimetype": "text/x-python",
   "name": "python",
   "nbconvert_exporter": "python",
   "pygments_lexer": "ipython2",
   "version": "2.7.11"
  }
 },
 "nbformat": 4,
 "nbformat_minor": 0
}
