{
 "cells": [
  {
   "cell_type": "markdown",
   "metadata": {},
   "source": [
    "Proof of <a class=\"ProveItLink\" href=\"../../../../_context_.ipynb\">proveit</a>.<a class=\"ProveItLink\" href=\"../../../_context_.ipynb\">logic</a>.<a class=\"ProveItLink\" href=\"../../_context_.ipynb\">set_theory</a>.<a class=\"ProveItLink\" href=\"../_context_.ipynb\">comprehension</a>.<a href=\"../_theorems_.ipynb#comprehensionIsSubset\" class=\"ProveItLink\">comprehensionIsSubset</a> theorem\n",
    "========\n",
    "*** see <a href=\"../__pv_it/6d21dc2ded591fa796ffdb8aa25d2b8744a6903f0/dependencies.ipynb\" class=\"ProveItLink\">dependencies</a> ***"
   ]
  },
  {
   "cell_type": "code",
   "execution_count": 1,
   "metadata": {},
   "outputs": [
    {
     "name": "stdout",
     "output_type": "stream",
     "text": [
      "Beginning proof of comprehensionIsSubset\n",
      "Recorded 'presuming' information\n",
      "Presuming previous theorems (applied transitively).\n"
     ]
    },
    {
     "data": {
      "text/html": [
       "<strong id=\"comprehensionIsSubset\">comprehensionIsSubset:</strong> <a class=\"ProveItLink\" href=\"../__pv_it/5004a53c20ad812a20a353d465329cbb024960450/expr.ipynb\"><img src=\"data:image/png;base64,iVBORw0KGgoAAAANSUhEUgAAAg0AAAAmBAMAAAC1wrV7AAAAMFBMVEX///8QEBC6urrMzMxUVFRm\n",
       "ZmZERETc3NwyMjKqqqp2dnaIiIiYmJgiIiLu7u4AAAAU9Wx4AAAAAXRSTlMAQObYZgAACA9JREFU\n",
       "aN7NmX1sFEUUwN/d3vftba8qKIr0RAgkxPSIgILBHoJfIUD5qJoqaUVzCGI4DYpRkYuJ8k+hp8aI\n",
       "MYaTpBIkLVekhAjRE+NHIMpBBI1J7ZUAIUJtSy2lQrvOm5nd273b+xDD9SaZudndmbezv3nvzZs5\n",
       "gPyps3wUXHs6CKWbpIVYWsvLk4W07vw/r3LXlzAHmMx+TNefwyeljEGZpevPQbqxpDlAQ5E42KpL\n",
       "m8PGUHE4VCZLm4M1UBwOb5c2BrAPFIWDMFDiHNhEXXcO1gT9+S6euvXh9f+2WTsKb3uUc0gWxOFa\n",
       "rdwUw7Irqrm1XamY6bPvy4ceTz2cwn5EX26x4tMVJ0KpSyYJ4BDPMDVS8Ai7I4wDnbAj+TgU0Mow\n",
       "Vfmx/BqMOEzD4pux4JRVbRECvLI0N4byOGy7mrqepmifn2WwhvMPTXyw5gLB7almHHbivS35OBTQ\n",
       "yjAxAp8ackBxlstE07b1Kbccit45ckpdRLo6ZT9oJdEU5tnlzdJzf3t7+3ElcpDW4ggSjMMr6DTr\n",
       "83EooJVheiE7Bzcqc904UpT1K88OqJMVzeV0ehGXrEYm7phSO8xzNg6zv1KrFvKGrdi5h3HAKbBG\n",
       "8nEooJVhOpmdA/poZhKmIeXZODUM9eYQykyiIgGQvjvo5DkLB/uvmgCKqNN96Fv6mARxx/r1G/L6\n",
       "yQJaGab+7Bxwi+PpxVpZr+LvUma9KofQDvqVsjdts4TRa4TlLBwsGvdbSZrdjS5pkJO8FAz+ntnF\n",
       "lbZuGrfKu7u4onCQmqKwManlUIuDoZy6FX2wEl39sxbswwBN2YWaqUVIsqoPtap4F3lCszGHc9qA\n",
       "+oo/NUTkMBdgpYENpnHgraZ/fhC7n998bK7RZ+9vv8mvU0Tm1J8gIzP3cKe5XbPDqbsInMYM6h2J\n",
       "lUQrqcluzeEeZB+n0RpVJHHxzjDLYo9hz2nanaYss8/+h3OYABLp2RrNzYG1MldDJblwjg5Jaw2W\n",
       "+HdXwtmLunCSchBuAJhJIqqgjsMNqOHDWKsbhOkLqKH7QIgsBxtxyHdk5+CRk5RGBDw+RRIXb/ay\n",
       "nCWc13KAN+ZQd0tNFzl4wE2mwaN81r01PveoZAYH3oqYHzoqMtCNiYzXOC8RDRjScUDjE+YQHUmS\n",
       "iOqKjgMCq6D6iyU9pijzgQS3QRnx/1U5YrNepexOKpK4eKGHZbA1GBLUX+6Oazm4454kFym11cTF\n",
       "+hZosc5bMO9RHQe1lYimSaplw5mhGd6Sk+kcwIxnENuSQl8Ghw6EKZKZVTmAc5gGXzk4eCjqo0T0\n",
       "XSlJTLzKQe/LhNpd31IlT614Io5Xx0EKo7pQkfsm/ZUUj1ihJdMuWCvPrag2rr9xzJk7qN0YDcqh\n",
       "DLuAR6iPcHt1HMZgQNTjfMff/bdybGWK0FCwFXLahUWGrc9IMnlZk3lfkkti4hW7SPMPE8FMb0jH\n",
       "1Vtn1LMHhQOsfACYSBH9sDjznpgBB9ZKWoxzZ8JZruoBS9quo4I8E2SwpFY/OzOFZmqxtoCOwxoU\n",
       "MjhD+rUjoHCwkQlyVMOzpPojXlMdVSrqlSC/X9+1AeE1vNcd4pKYeDHMcmq9OF/zFN0VsBjwnBqv\n",
       "ox9epvOT8EGCi6TBrOhv+daIwwfMH6zzclXYHRA+Dek5oCoQXXFqjqD+UeOHZVAZ13FooiaxCirG\n",
       "qseYuORZA+ar/KmEBtCd4BX1Co5eiph6UVi/X5XExGesm+4Vb/4FErFXvoWZsJnH1ctj/GySLmmU\n",
       "A90ToshZjIPLtdCAA7aSiB/r4a6hwg+edA5EmqlPF3eOUjmcPVAX0nGglvjysc2XaaxCOZjxm59v\n",
       "Q8xv4ZdXkB6dZLTSaOBFJz6zL7+lIwxREMY2qJKYeIePZeQwpZ6Ep9/RBse2ZxhXYMK8NSkXRjmI\n",
       "pKAiZweDwZjot//8B3lXOgds5YyAQIbl6Du9wko0Pp1D4/0P+epi4Dm1V731jiaebE6Lq3nvxkOP\n",
       "qcfaN1OtSChxtTmUMf5JfB92dWI9mdCpQkpSsz6ulmIDgheYiZ6pGMzqbZwD2sicijzN9AHu/CrL\n",
       "OYy1HmyhV0PC0BLPojjlYN8ErybtW7DYBFUnfL8QLTP9cEHtuljhYElIY/QclK1UozyociB7pAXQ\n",
       "iYFxTHHqaYnrt0MmjsoWm+3mkrj4XTwTDvZTCXe9wN9hn5OVg6tHy4GKtIQYB7ElG4fpNY9DVRzW\n",
       "3d64xUk5kAWhKiQMYHGVvO23y8kITN6r2RLRF3xD2kZtUYN9N0ZRMlGx1xqf5Pvu32G1GgFn52CV\n",
       "SaziCNn2cElMPIZ6mOn5gyVqiQkng8Hn4RTxK6xXe3tq3618eVjLgYqUVuCmhRSBnOdyOBTLlWXM\n",
       "LkTdigyL2gJw0HFBf9oDXTFwHliSfv6wjv1s6NfE4QH4uA2X5ofpZSwDg1tp2KH9P2AdF48TSSdz\n",
       "qg+DU5Nfol/yEQ/bDRMGbennky7iH/KeTwohGp0PgNC6E+Ae9T6tfU3WjIdde9SbDjbcwxrXqT60\n",
       "G7zrdf65/v926MwlfcEzPZ80+Ss5z8cMd1DKiVnoGs9p6bzbyyM6PVVqL45JO/zyjthBtHP+c2QZ\n",
       "QeVaWlMTytqsuSjn1dLFEeOwHuaT8jPiH3KmscX5H+ezEeOw2hwuRGu8xeHQ7R8pDh9/WUgrT7w4\n",
       "HNxhKOn0ExSHAzSUNAb7zcXi0OUvZQ6OyH/g0J3P5+YkvqmUOcynthtcWxAH8/hJ/+NVL5UwBome\n",
       "RtrHj4d/AWHKlXUNC2vDAAAAAElFTkSuQmCC\n",
       "\" style=\"display:inline;vertical-align:middle;\" /></a><br>(see <a class=\"ProveItLink\" href=\"../__pv_it/5004a53c20ad812a20a353d465329cbb024960450/dependencies.ipynb\">dependencies</a>)<br>"
      ],
      "text/plain": [
       "comprehensionIsSubset: forall_{k in NaturalsPos} [forall_{S, Q_1,...,Q_k} ({y s.t. (Q_1(y) ,  ...  , Q_k(y))}_{y in S} subseteq S)]"
      ]
     },
     "execution_count": 1,
     "metadata": {},
     "output_type": "execute_result"
    }
   ],
   "source": [
    "import proveit\n",
    "%proving comprehensionIsSubset presuming []"
   ]
  },
  {
   "cell_type": "code",
   "execution_count": null,
   "metadata": {},
   "outputs": [],
   "source": []
  }
 ],
 "metadata": {
  "kernelspec": {
   "display_name": "Python 3",
   "language": "python",
   "name": "python3"
  }
 },
 "nbformat": 4,
 "nbformat_minor": 0
}
