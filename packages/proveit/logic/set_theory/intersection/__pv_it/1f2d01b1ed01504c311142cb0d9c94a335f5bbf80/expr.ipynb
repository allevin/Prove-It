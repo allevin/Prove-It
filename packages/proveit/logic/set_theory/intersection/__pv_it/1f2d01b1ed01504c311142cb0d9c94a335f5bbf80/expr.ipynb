{
 "cells": [
  {
   "cell_type": "markdown",
   "metadata": {},
   "source": [
    "Expression of type <a class=\"ProveItLink\" href=\"../../../../../../../doc/html/api/proveit.logic.Forall.html\">Forall</a>\n",
    "=======================\n",
    "# from context <a class=\"ProveItLink\" href=\"../../_context_.ipynb\">proveit.logic.set_theory.intersection</a>"
   ]
  },
  {
   "cell_type": "code",
   "execution_count": 1,
   "metadata": {},
   "outputs": [],
   "source": [
    "# import Expression classes needed to build the expression\n",
    "from proveit._common_ import S\n",
    "from proveit.logic import Forall, Intersect, SubsetEq"
   ]
  },
  {
   "cell_type": "code",
   "execution_count": 2,
   "metadata": {},
   "outputs": [
    {
     "data": {
      "text/html": [
       "<strong id=\"expr\">expr:</strong> <a class=\"ProveItLink\" href=\"expr.ipynb\"><img src=\"data:image/png;base64,iVBORw0KGgoAAAANSUhEUgAAAJ0AAAAVBAMAAACu6/FQAAAAMFBMVEX///8QEBC6urrMzMxUVFRm\n",
       "ZmZERETc3NwyMjKqqqp2dnaIiIiYmJgiIiLu7u4AAAAU9Wx4AAAAAXRSTlMAQObYZgAAAkBJREFU\n",
       "OMutVD1oFEEU/u53L9m9JdhpoVuksJEcaECwSWIiYiERPEQhciAkTcQtDtMYPFC7RK4RJFUaEbUw\n",
       "ELASPEJstEltWDgLrSI5FSKisL43szs3k+yk8sE3e+99876beTPzgP9s3YOh/JplrpUg20iwxc5H\n",
       "gzrDw2b95sb+HAvhTdV3glINYLzgyGODZ6/Swdee8NzlKIqCDMIJk/lL8O8ALQjcZaahy7m8q0vA\n",
       "AM9AYbubTTx9ePuWCBdXyQE+QKBC00ttXS9HEecnKYlqLYbZRPEycFbMuE+7PAd8hoD3fGFh0dju\n",
       "Sa78b0qrsTdhId5z5AEPI7Sa00C5LbE3O/vJ0LvBFYjXpeO3LIQo+YpY3x/xx4PTEueBOXJHX76t\n",
       "peUlexfviY0Wxvp6BrGlDtyNYxbgqjKGxRry0xhJ0o6Iw9s8cXy/nkH09XBv/DtVNj8kUYXb4RHl\n",
       "JO2H/Az+hcrLIDQ94DUpFHoSbqdK6rtdeFoa8b7Uu27qKULpcdqupue3OFo9FqRpRylGdXV+Ce+b\n",
       "ipuE0vvCRxL294s5vhL+lTi9hPOyriVZOf9RDVmE0qOrjKu8zpYEnsgSNYeStGeUsg28SZvAxfS9\n",
       "GYTSm1mD29DuC3J0y/0Afi8ROEWXPz95oXOghRiE0hsbnpzn35VAAh4dx0AbhfQR50JLSzII8dR2\n",
       "tEDy3qSVGiins71Vi56VEPYqgdQbrV8z+pWymSgy+pXN+FHoj1Ozpi2neYheMZTIMMfW1p1D+v26\n",
       "xD+2VKvMwefJFAAAAABJRU5ErkJggg==\n",
       "\" style=\"display:inline;vertical-align:middle;\" /></a><br>"
      ],
      "text/plain": [
       "expr: forall_{S} (S subseteq (S intersect S))"
      ]
     },
     "execution_count": 2,
     "metadata": {},
     "output_type": "execute_result"
    }
   ],
   "source": [
    "# build up the expression from sub-expressions\n",
    "expr = Forall([S], SubsetEq(S, Intersect(S, S)), conditions = [])"
   ]
  },
  {
   "cell_type": "code",
   "execution_count": 3,
   "metadata": {},
   "outputs": [
    {
     "name": "stdout",
     "output_type": "stream",
     "text": [
      "Passed sanity check: built 'expr' is the same as the stored Expression.\n"
     ]
    }
   ],
   "source": [
    "# check that the built expression is the same as the stored expression\n",
    "%check_expr"
   ]
  },
  {
   "cell_type": "code",
   "execution_count": 4,
   "metadata": {},
   "outputs": [
    {
     "data": {
      "text/html": [
       "<table><tr><th>&nbsp;</th><th>core type</th><th>sub-expressions</th><th>expression</th></tr>\n",
       "<tr><td>0</td><td>Operation</td><td>operator:&nbsp;1<br>operand:&nbsp;2<br></td><td><a class=\"ProveItLink\" href=\"expr.ipynb\"><img src=\"data:image/png;base64,iVBORw0KGgoAAAANSUhEUgAAAJ0AAAAVBAMAAACu6/FQAAAAMFBMVEX///8QEBC6urrMzMxUVFRm\n",
       "ZmZERETc3NwyMjKqqqp2dnaIiIiYmJgiIiLu7u4AAAAU9Wx4AAAAAXRSTlMAQObYZgAAAkBJREFU\n",
       "OMutVD1oFEEU/u53L9m9JdhpoVuksJEcaECwSWIiYiERPEQhciAkTcQtDtMYPFC7RK4RJFUaEbUw\n",
       "ELASPEJstEltWDgLrSI5FSKisL43szs3k+yk8sE3e+99876beTPzgP9s3YOh/JplrpUg20iwxc5H\n",
       "gzrDw2b95sb+HAvhTdV3glINYLzgyGODZ6/Swdee8NzlKIqCDMIJk/lL8O8ALQjcZaahy7m8q0vA\n",
       "AM9AYbubTTx9ePuWCBdXyQE+QKBC00ttXS9HEecnKYlqLYbZRPEycFbMuE+7PAd8hoD3fGFh0dju\n",
       "Sa78b0qrsTdhId5z5AEPI7Sa00C5LbE3O/vJ0LvBFYjXpeO3LIQo+YpY3x/xx4PTEueBOXJHX76t\n",
       "peUlexfviY0Wxvp6BrGlDtyNYxbgqjKGxRry0xhJ0o6Iw9s8cXy/nkH09XBv/DtVNj8kUYXb4RHl\n",
       "JO2H/Az+hcrLIDQ94DUpFHoSbqdK6rtdeFoa8b7Uu27qKULpcdqupue3OFo9FqRpRylGdXV+Ce+b\n",
       "ipuE0vvCRxL294s5vhL+lTi9hPOyriVZOf9RDVmE0qOrjKu8zpYEnsgSNYeStGeUsg28SZvAxfS9\n",
       "GYTSm1mD29DuC3J0y/0Afi8ROEWXPz95oXOghRiE0hsbnpzn35VAAh4dx0AbhfQR50JLSzII8dR2\n",
       "tEDy3qSVGiins71Vi56VEPYqgdQbrV8z+pWymSgy+pXN+FHoj1Ozpi2neYheMZTIMMfW1p1D+v26\n",
       "xD+2VKvMwefJFAAAAABJRU5ErkJggg==\n",
       "\" style=\"display:inline;vertical-align:middle;\" /></a></td></tr>\n",
       "<tr><td>1</td><td>Literal</td><td></td><td><a class=\"ProveItLink\" href=\"../../../../boolean/quantification/universal/__pv_it/265f8c02ac1094d56e0e6410a1c1fd3500dc9f540/expr.ipynb\"><img src=\"data:image/png;base64,iVBORw0KGgoAAAANSUhEUgAAAAwAAAAQBAMAAADQT4M0AAAAMFBMVEX///8QEBC6urrMzMxUVFRm\n",
       "ZmZERETc3NwyMjKqqqp2dnaIiIiYmJgiIiLu7u4AAAAU9Wx4AAAAAXRSTlMAQObYZgAAAFhJREFU\n",
       "CNdjeMAABhdAxGmGlSCqj6EMSLInMHAAJVknMPAsLy+vBYp8S0u7BaScGRjSgZQKA18DkOJl4D4A\n",
       "pLgP8IJM4mswARuX7gSmpoKNZWDcAKZ4gCoAgTQTILaSE58AAAAASUVORK5CYII=\n",
       "\" style=\"display:inline;vertical-align:middle;\" /></a></td></tr>\n",
       "<tr><td>2</td><td>Lambda</td><td>parameter:&nbsp;9<br>body:&nbsp;3<br></td><td><a class=\"ProveItLink\" href=\"../701315d1c170df568d78be706ab656ec1114f5ae0/expr.ipynb\"><img src=\"data:image/png;base64,iVBORw0KGgoAAAANSUhEUgAAAKgAAAAVCAMAAADlwVUtAAAANlBMVEX///8UFBQNDQ0iIiIQEBCI\n",
       "iIjMzMzc3Nyqqqp2dnZEREQyMjK6urru7u5mZmZUVFSYmJgAAAD0v/9UAAAAAXRSTlMAQObYZgAA\n",
       "AchJREFUSMfdltl6gyAQhWnZlG3g/V+2iQScYUmkX73pXOREPD8MMqCM/d9w8n7iiOioPv9CCMGj\n",
       "hjehYJVaJE5TULmlKLPx8eNNujRP699Q0vIc7iqhdds/MtnSlgX2QzZ7JU9ZlnFAKS79ErFZC4Yb\n",
       "hdzEFPfXQz5Up2xUlypJvFIZUJrrNQLguKUs6oOYvMitWV3a8j11ZV+UxzGgwK0RMdTlrp00JpOv\n",
       "suqUJM2R1sC2oYuw16m3lB+Xzpyotcu2nY1Ne8Aq0yMMWjZOhwLflDobUufm7jfHkOAjlJpKPb9U\n",
       "RxBJ+FmiHs7Oxbm8LTVJdE4ME6UmJ6g+H26qM2ffX5yESHWwROsQU+38PhJ8OsdqUunUV5NHQ7Yj\n",
       "ol1Shh1QLGzvEu2JQaKtCSXqQ6liPUs0oEIUOZkRxTwfbfs50SfamdDSl3INMFtDcr6aSIo8AN33\n",
       "oT/i5kSfaGeKtmrgRx7S4HcJ3UukevKcR9Qxc7DtK3RO9Il2JnQ8waNzABOvfgjl3heoOdEn2pms\n",
       "o7oQQv8ZcS6cn8yYvkIXPxL3+4mzbCTVpbB+diego9ddIj5EeSl7+xtaw/1EOb811dVx5f1ErmGF\n",
       "9Af21hhycIvQkAAAAABJRU5ErkJggg==\n",
       "\" style=\"display:inline;vertical-align:middle;\" /></a></td></tr>\n",
       "<tr><td>3</td><td>Operation</td><td>operator:&nbsp;4<br>operands:&nbsp;5<br></td><td><a class=\"ProveItLink\" href=\"../4c3958da54fd4144f51302f39953a9e6a0bfe0f40/expr.ipynb\"><img src=\"data:image/png;base64,iVBORw0KGgoAAAANSUhEUgAAAGoAAAAVBAMAAABce2awAAAAMFBMVEX///8iIiIQEBCIiIjMzMzc\n",
       "3Nyqqqp2dnZEREQyMjK6urru7u5mZmZUVFSYmJgAAACI6eGPAAAAAXRSTlMAQObYZgAAAZxJREFU\n",
       "OMutkz1LA0EQhl+9nDG5y+khgqSysbIwoIViYURbURBbTWuXHyBoo6VGrLSQoHUwpQHxA9IZIQhi\n",
       "CgPpRCEgfmHlOTt37l5iLpVbLLPz7Ds7M7sL/Oc4DkZWlueH0nm2iYTKrUG9dP2MorAOYey4vgnb\n",
       "tuNsRfINYMkTRWo4fUGErFgaWGXf9KSMOeoHXfuVgSS772mRgUVghRwzwqX3q0yG4QPVPEJ7vOOd\n",
       "ck/AGAROUsCs8MVUDdEMFLAuRW7isOgnqcjYopBv7ukoqKPMNBTgGruER3fG2LMGaI6zyfacUlHV\n",
       "CnTIpmLK+VqAW+3y7Wu+SdXJyXrAp9LrI6LiI960XpMx3dHjlcjApwLC3zTNw6L5glVmqkElgVLR\n",
       "ynBVZ6JukSyMuMqQAkggVQY1U//gDEVlN14Ti7+q7hoUkCq6YJjizCdcJaBteJtzu96LClNUCaTK\n",
       "7APG3c6Xc9XtP8862gsFpCoWrVa4AwcBv2HIZ2tcdE05xItqOR7b/b1wwrcwbbvxpwSNQhDQy21U\n",
       "d4FkMVikJfEDLF9zUArlwVEAAAAASUVORK5CYII=\n",
       "\" style=\"display:inline;vertical-align:middle;\" /></a></td></tr>\n",
       "<tr><td>4</td><td>Literal</td><td></td><td><a class=\"ProveItLink\" href=\"../../../containment/__pv_it/e2e953faef156628f98c5cddef8a5f8ea43a24550/expr.ipynb\"><img src=\"data:image/png;base64,iVBORw0KGgoAAAANSUhEUgAAAA4AAAAQBAMAAADUulMJAAAAJFBMVEX///+qqqpmZmZUVFTc3Nzu\n",
       "7u7MzMy6uroiIiIyMjKIiIgAAABMlAC/AAAAAXRSTlMAQObYZgAAAD1JREFUCNdjYGBY2dHR0c7A\n",
       "kLGUAQRYWsAUA3MBhI6EUAzJaDQHlGYSgNCs7VCBSDUoo3gG2FwcgKkDBNoBPfYM6Npt1O0AAAAA\n",
       "SUVORK5CYII=\n",
       "\" style=\"display:inline;vertical-align:middle;\" /></a></td></tr>\n",
       "<tr><td>5</td><td>ExprTuple</td><td>9, 6</td><td><a class=\"ProveItLink\" href=\"../f1eda8fd5275a694aa93f0383015a108647610d10/expr.ipynb\"><img src=\"data:image/png;base64,iVBORw0KGgoAAAANSUhEUgAAAFUAAAAVBAMAAADFg78FAAAAMFBMVEX////c3NwiIiJERESqqqqY\n",
       "mJh2dnZmZmYQEBDu7u4yMjJUVFTMzMyIiIi6uroAAAAs73DqAAAAAXRSTlMAQObYZgAAAXpJREFU\n",
       "KM+VUz1LA0EQfUEvyXnekcbKwvwBQYV0gqksrK7SIhDSWYnBwiA2FjY2KkgwnddYiBYBwQ/SpPYD\n",
       "AraC0VILE1SwUM/Z3du5rWJcuOXNzGN23swc8J/jtfqiFcV1La5CZa0YOQ0YHeu8Um2nmoSO6Bvy\n",
       "sddRgRgmMhH3EPYMEACuKOEMGAxUgOHc8dS09DglMoB5IL1LGb6AYVU2Q+cSuJK+MXr9FqgBz0Le\n",
       "OxGaSqmGC8I6EddrHrgBBvJYFcnCe62DoZCBWZn3W6ZJlqlwOg/hmxaiYZZ75IbhJKSKbZmtsLOl\n",
       "E0cw5mLk4pNEeRv4UZTkB7dTQYMLLPukoiO5hOyIy5C5Fn0HirtJwTI93ZXUGDJ3X8jLyBpyqvep\n",
       "OmwwNLk0BqyL/AEWKTgO3NFDWYYmd6UFd0L17IlG5DVOqaBal6HJrb80cnJR2khnuAGP5nLJ8VYN\n",
       "B83YKrHl91zgJT3Mv7m2WL5Rbbk90zqi1kR//xCt1C9IrG2JPzlX/QAAAABJRU5ErkJggg==\n",
       "\" style=\"display:inline;vertical-align:middle;\" /></a></td></tr>\n",
       "<tr><td>6</td><td>Operation</td><td>operator:&nbsp;7<br>operands:&nbsp;8<br></td><td><a class=\"ProveItLink\" href=\"../67ab27a4d51497134688a7f7718f285e233e49c80/expr.ipynb\"><img src=\"data:image/png;base64,iVBORw0KGgoAAAANSUhEUgAAADIAAAAPBAMAAABU9YHxAAAAMFBMVEX///8iIiIQEBCIiIjMzMzc\n",
       "3Nyqqqp2dnZEREQyMjK6urru7u5mZmZUVFSYmJgAAACI6eGPAAAAAXRSTlMAQObYZgAAAOBJREFU\n",
       "GNNjYGDgu3Nm3wIGFPD2zOlXQGoeA3c/RCAUKsH5gGHHBwYG3gIGhkwQn23mDQkHsMx1IGcCA0M8\n",
       "kOcM4t/dwMAyGcRg/cLAwGLAwLA+gYHBBcjnOwAyB6SJ6xtQBsiI/wwxgnMDyMQCkJ7/JmAR5v//\n",
       "W0E0I4hguQAi7f//CADRcZc+bUCVYX2rrw1xZf0DVBkGBvZ/QIuB9H5UGSCPGyizB8iMD0CW4QY6\n",
       "kvUrxJNnUVwA8iQPkD5owMDcgCLDI8zAYAFkX1h7t48BRYaX6+6NB8jhywwiuBFCAD8FPo6MP7rU\n",
       "AAAAAElFTkSuQmCC\n",
       "\" style=\"display:inline;vertical-align:middle;\" /></a></td></tr>\n",
       "<tr><td>7</td><td>Literal</td><td></td><td><a class=\"ProveItLink\" href=\"../b92f67f0486746ea0d6b21767755d70bf02e0a1a0/expr.ipynb\"><img src=\"data:image/png;base64,iVBORw0KGgoAAAANSUhEUgAAAAwAAAAOBAMAAADpk+DfAAAAKlBMVEX///92dnZmZmaYmJiIiIju\n",
       "7u7MzMwiIiJERERUVFQyMjKqqqrc3NwAAABI3Db5AAAAAXRSTlMAQObYZgAAADBJREFUCNdjYGDg\n",
       "OcAABLtWtrcxMHBOZWDIcmAwAoksY1gKojYyFICoTNIpBxAVDAANVw4O+bd0jgAAAABJRU5ErkJg\n",
       "gg==\n",
       "\" style=\"display:inline;vertical-align:middle;\" /></a></td></tr>\n",
       "<tr><td>8</td><td>ExprTuple</td><td>9, 9</td><td><a class=\"ProveItLink\" href=\"../27adfca80b2060421c1304707532f69ff29fae6f0/expr.ipynb\"><img src=\"data:image/png;base64,iVBORw0KGgoAAAANSUhEUgAAADAAAAAVBAMAAADyTXAxAAAAMFBMVEX////c3NwiIiJERESqqqqY\n",
       "mJh2dnZmZmYQEBDu7u4yMjJUVFTMzMyIiIi6uroAAAAs73DqAAAAAXRSTlMAQObYZgAAAPtJREFU\n",
       "KM9jYMAJ+C5girE+ABKnQazo8so4qCCYWQNkrARirgCGyR8g4hAmFwMDL8ikbQwMLAsgEhAmawID\n",
       "xwQGBsY/DAw8EKugTM4Ghlcg+78AeQcgToEyTRjKQMr+34G5B8ZMZ1gKou7//ywAlYEyvRj6wOqi\n",
       "+zthWiDMFwz/IHy2r3DfgZnnwRIBDAycUAkY8zxDC5BVADThI1gcznzBYArxG/sGBk4GOJOBIQro\n",
       "LgZ2XQaGywwM8xXgTJBzHzEwcPPt3gw0e8ZHOJOBYR0DhwDcOQ8R4Q4MEmBwwUAAQoLtAiTYMSRm\n",
       "AbE0jMOLFIUbQWGAJWp5DzAAAETNSSaojuC/AAAAAElFTkSuQmCC\n",
       "\" style=\"display:inline;vertical-align:middle;\" /></a></td></tr>\n",
       "<tr><td>9</td><td>Variable</td><td></td><td><a class=\"ProveItLink\" href=\"../../../../../__pv_it/abeee18594afe51bfb1be95d9591fbba24ac53f30/expr.ipynb\"><img src=\"data:image/png;base64,iVBORw0KGgoAAAANSUhEUgAAAA0AAAAOBAMAAAAGUYvhAAAAMFBMVEX///8iIiIQEBCIiIjMzMzc\n",
       "3Nyqqqp2dnZEREQyMjK6urru7u5mZmZUVFSYmJgAAACI6eGPAAAAAXRSTlMAQObYZgAAAF1JREFU\n",
       "CNdjYGDgu3Nm3wIGBoZ5DNz9QIq3gIEhE0jHOzAwOAPp9QkMDC4g/megABAw///fCmbEXfq0Acxg\n",
       "qH8ANAVI7wfSe0BKAyBGnAXigwYMzA1A+sLau31ACgAz0hhbkhGHbwAAAABJRU5ErkJggg==\n",
       "\" style=\"display:inline;vertical-align:middle;\" /></a></td></tr>\n",
       "</table>\n"
      ],
      "text/plain": [
       "0. forall_{S} (S subseteq (S intersect S))\n",
       "   core type: Operation\n",
       "   operator: 1\n",
       "   operand: 2\n",
       "1. forall\n",
       "   core type: Literal\n",
       "   sub-expressions: \n",
       "2. S -> (S subseteq (S intersect S))\n",
       "   core type: Lambda\n",
       "   parameter: 9\n",
       "   body: 3\n",
       "3. S subseteq (S intersect S)\n",
       "   core type: Operation\n",
       "   operator: 4\n",
       "   operands: 5\n",
       "4. subseteq\n",
       "   core type: Literal\n",
       "   sub-expressions: \n",
       "5. (S , S intersect S)\n",
       "   core type: ExprTuple\n",
       "   sub-expressions: 9, 6\n",
       "6. S intersect S\n",
       "   core type: Operation\n",
       "   operator: 7\n",
       "   operands: 8\n",
       "7. intersect\n",
       "   core type: Literal\n",
       "   sub-expressions: \n",
       "8. (S , S)\n",
       "   core type: ExprTuple\n",
       "   sub-expressions: 9, 9\n",
       "9. S\n",
       "   core type: Variable\n",
       "   sub-expressions: "
      ]
     },
     "execution_count": 4,
     "metadata": {},
     "output_type": "execute_result"
    }
   ],
   "source": [
    "# display the expression information\n",
    "expr.exprInfo()"
   ]
  },
  {
   "cell_type": "code",
   "execution_count": null,
   "metadata": {},
   "outputs": [],
   "source": []
  }
 ],
 "metadata": {
  "kernelspec": {
   "display_name": "Python 3",
   "language": "python",
   "name": "python3"
  }
 },
 "nbformat": 4,
 "nbformat_minor": 0
}
