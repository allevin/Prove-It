{
 "cells": [
  {
   "cell_type": "markdown",
   "metadata": {},
   "source": [
    "Expression of type <a class=\"ProveItLink\" href=\"../../../../../../../doc/html/api/proveit.logic.NotInSet.html\">NotInSet</a>\n",
    "=======================\n",
    "# from context <a class=\"ProveItLink\" href=\"../../_context_.ipynb\">proveit.logic.set_theory.intersection</a>"
   ]
  },
  {
   "cell_type": "code",
   "execution_count": 1,
   "metadata": {},
   "outputs": [],
   "source": [
    "# import Expression classes needed to build the expression\n",
    "from proveit._common_ import C, x\n",
    "from proveit.logic import NotInSet"
   ]
  },
  {
   "cell_type": "code",
   "execution_count": 2,
   "metadata": {},
   "outputs": [
    {
     "data": {
      "text/html": [
       "<strong id=\"expr\">expr:</strong> <a class=\"ProveItLink\" href=\"expr.ipynb\"><img src=\"data:image/png;base64,iVBORw0KGgoAAAANSUhEUgAAADUAAAAVCAMAAADRlFZ0AAAAQlBMVEX///9bW1sNDQ0JCQkdHR0P\n",
       "Dw8WFhYyMjK6urpERETMzMwQEBAiIiKYmJju7u5mZmaqqqpUVFSIiIh2dnbc3NwAAADXC9tbAAAA\n",
       "AXRSTlMAQObYZgAAAP1JREFUOMudU9l2xSAIpKsrLoD//6s1pjGae5L2yIOJysAMIMCD6QAL5ldQ\n",
       "Ns/7QCbHiCDxCRX1tGWHjXbcv7cEp0Tq4MtFbgCBlP/+8uo8Ue4Qqd2dIoUBzBgylnT87rKEKUui\n",
       "SN1FTNgoDSAp5y7YbWEA9AjulNGyEE2pLhXgzaMAJNuDmSZkbJa/VmC7zGYaCee9//yoS6dVygxo\n",
       "5uilu5zGI3eiOicpdowR/LVZkEu/3QcDpckCOnVkrBMwt6IcbLi5pVodU/smA8ngdbazetz7paP8\n",
       "Fow4MNNUWVHv9mWUVR3d9Dju+JbVWMP/mZGFlyVm5RETrqD+SvUDB1sLVfEf4bUAAAAASUVORK5C\n",
       "YII=\n",
       "\" style=\"display:inline;vertical-align:middle;\" /></a><br>"
      ],
      "text/plain": [
       "expr: x not-in C"
      ]
     },
     "execution_count": 2,
     "metadata": {},
     "output_type": "execute_result"
    }
   ],
   "source": [
    "# build up the expression from sub-expressions\n",
    "expr = NotInSet(x, C)"
   ]
  },
  {
   "cell_type": "code",
   "execution_count": 3,
   "metadata": {},
   "outputs": [
    {
     "name": "stdout",
     "output_type": "stream",
     "text": [
      "Passed sanity check: built 'expr' is the same as the stored Expression.\n"
     ]
    }
   ],
   "source": [
    "# check that the built expression is the same as the stored expression\n",
    "%check_expr"
   ]
  },
  {
   "cell_type": "code",
   "execution_count": 4,
   "metadata": {},
   "outputs": [
    {
     "data": {
      "text/html": [
       "<table><tr><th>&nbsp;</th><th>core type</th><th>sub-expressions</th><th>expression</th></tr>\n",
       "<tr><td>0</td><td>Operation</td><td>operator:&nbsp;1<br>operands:&nbsp;2<br></td><td><a class=\"ProveItLink\" href=\"expr.ipynb\"><img src=\"data:image/png;base64,iVBORw0KGgoAAAANSUhEUgAAADUAAAAVCAMAAADRlFZ0AAAAQlBMVEX///9bW1sNDQ0JCQkdHR0P\n",
       "Dw8WFhYyMjK6urpERETMzMwQEBAiIiKYmJju7u5mZmaqqqpUVFSIiIh2dnbc3NwAAADXC9tbAAAA\n",
       "AXRSTlMAQObYZgAAAP1JREFUOMudU9l2xSAIpKsrLoD//6s1pjGae5L2yIOJysAMIMCD6QAL5ldQ\n",
       "Ns/7QCbHiCDxCRX1tGWHjXbcv7cEp0Tq4MtFbgCBlP/+8uo8Ue4Qqd2dIoUBzBgylnT87rKEKUui\n",
       "SN1FTNgoDSAp5y7YbWEA9AjulNGyEE2pLhXgzaMAJNuDmSZkbJa/VmC7zGYaCee9//yoS6dVygxo\n",
       "5uilu5zGI3eiOicpdowR/LVZkEu/3QcDpckCOnVkrBMwt6IcbLi5pVodU/smA8ngdbazetz7paP8\n",
       "Fow4MNNUWVHv9mWUVR3d9Dju+JbVWMP/mZGFlyVm5RETrqD+SvUDB1sLVfEf4bUAAAAASUVORK5C\n",
       "YII=\n",
       "\" style=\"display:inline;vertical-align:middle;\" /></a></td></tr>\n",
       "<tr><td>1</td><td>Literal</td><td></td><td><a class=\"ProveItLink\" href=\"../../../membership/__pv_it/cc61ce5cf0825a46fd70733410654132b7dd0e550/expr.ipynb\"><img src=\"data:image/png;base64,iVBORw0KGgoAAAANSUhEUgAAAAwAAAAVCAMAAABFcv+GAAAAQlBMVEX///9bW1sNDQ0JCQkdHR0Q\n",
       "EBAPDw8WFhaYmJiIiIgyMjLc3NxERER2dnaqqqpmZmZUVFTMzMwiIiLu7u66uroAAACAfls5AAAA\n",
       "AXRSTlMAQObYZgAAAGtJREFUGNNNTkkSwCAIo7sirQr8/621LhUOYQIhAWCUCsxiQ3Iyi6hW1bt4\n",
       "5OtkrGp0AhTqPFCxEWyiOvO+HdCH2EL0YOZ9K4A97H66L5sQSA40DiKsKf+PBFwnAbckbG4jdsjI\n",
       "PO+dIXPxAnRTBHGTKJqmAAAAAElFTkSuQmCC\n",
       "\" style=\"display:inline;vertical-align:middle;\" /></a></td></tr>\n",
       "<tr><td>2</td><td>ExprTuple</td><td>3, 4</td><td><a class=\"ProveItLink\" href=\"../b41c30b9cd3af2259cbd476247d0bacd30b3966f0/expr.ipynb\"><img src=\"data:image/png;base64,iVBORw0KGgoAAAANSUhEUgAAADEAAAAVBAMAAAAdjxsPAAAAMFBMVEX////c3NwiIiJERESqqqqY\n",
       "mJh2dnZmZmYQEBDu7u4yMjJUVFTMzMyIiIi6uroAAAAs73DqAAAAAXRSTlMAQObYZgAAARtJREFU\n",
       "KM9jYMAN+C5gEYwDEadRxTgvby9lLGA/AGSuRJXJCGDgqwhgWMDAwItq2CxNIJEvwBDGwMAxAUVm\n",
       "BYj7goFhBgPDKxQJ9i8gUpyBgdmBoQzIErstch1iqPwCEDmHgYGtgGEp0DkJrKocCmCZ+gCoZpYF\n",
       "DH1AeQbeDywHwAL6AjBfNjD8A+ph4DaACvwHk0BX8HwAyQAdCHN6P9ikA2CZFrDFBxggjt8Potgh\n",
       "ppkyMLAK3GfgnQCWOw/SnAnErAsY0hkY/AMsGGQZOD+BBID+eQ5yBdDVjxgYJl+blhvAwNkPEjm9\n",
       "utwBZCzXAwYOAXh0CCAFBjB0WBNgHFbkYMpFjgVkGU5QKEnDeMjRwQ0ymRFbbN9hYAAAbnM9n/4V\n",
       "dp0AAAAASUVORK5CYII=\n",
       "\" style=\"display:inline;vertical-align:middle;\" /></a></td></tr>\n",
       "<tr><td>3</td><td>Variable</td><td></td><td><a class=\"ProveItLink\" href=\"../../../../../__pv_it/530be409e3083890784cf1d7b28c9e67e90af9360/expr.ipynb\"><img src=\"data:image/png;base64,iVBORw0KGgoAAAANSUhEUgAAAAsAAAAJBAMAAAAWSsseAAAAKlBMVEX///9ERETMzMwQEBAiIiKY\n",
       "mJju7u5mZmaqqqpUVFSIiIh2dnbc3NwAAAA/vyDhAAAAAXRSTlMAQObYZgAAAENJREFUCNdjYDi9\n",
       "8sTyBQxsG1hdmR0YuBm4LnAoMLAxcAowgADzAjB1VoEhgYH1wFoGrgSG3gBhhlMMDImrs3cFMAAA\n",
       "t0YN+iTRa+sAAAAASUVORK5CYII=\n",
       "\" style=\"display:inline;vertical-align:middle;\" /></a></td></tr>\n",
       "<tr><td>4</td><td>Variable</td><td></td><td><a class=\"ProveItLink\" href=\"../../../../../__pv_it/985a1bdf1540838275dec15f4ad6de261cca93ce0/expr.ipynb\"><img src=\"data:image/png;base64,iVBORw0KGgoAAAANSUhEUgAAAA8AAAAOBAMAAAACpFvcAAAAMFBMVEX////MzMyqqqoiIiIyMjK6\n",
       "uroQEBB2dnbc3NyYmJhmZmZUVFRERESIiIju7u4AAAB204erAAAAAXRSTlMAQObYZgAAAGZJREFU\n",
       "CNdjYGDgu7NrJccCBgaGsgkMrMsmMDA8sQNy6hsYGNweABlhDAxcn4A0QxcDQ78DiPGQgWH9BAYI\n",
       "sG+AMv6DSaCGfBDNJMDAsB+kmwuI5S8AiTog5gSaEwXWIO29SgFIAQBC+RaDQlidVgAAAABJRU5E\n",
       "rkJggg==\n",
       "\" style=\"display:inline;vertical-align:middle;\" /></a></td></tr>\n",
       "</table>\n"
      ],
      "text/plain": [
       "0. x not-in C\n",
       "   core type: Operation\n",
       "   operator: 1\n",
       "   operands: 2\n",
       "1. not-in\n",
       "   core type: Literal\n",
       "   sub-expressions: \n",
       "2. (x , C)\n",
       "   core type: ExprTuple\n",
       "   sub-expressions: 3, 4\n",
       "3. x\n",
       "   core type: Variable\n",
       "   sub-expressions: \n",
       "4. C\n",
       "   core type: Variable\n",
       "   sub-expressions: "
      ]
     },
     "execution_count": 4,
     "metadata": {},
     "output_type": "execute_result"
    }
   ],
   "source": [
    "# display the expression information\n",
    "expr.exprInfo()"
   ]
  },
  {
   "cell_type": "code",
   "execution_count": null,
   "metadata": {},
   "outputs": [],
   "source": []
  }
 ],
 "metadata": {
  "kernelspec": {
   "display_name": "Python 3",
   "language": "python",
   "name": "python3"
  }
 },
 "nbformat": 4,
 "nbformat_minor": 0
}
