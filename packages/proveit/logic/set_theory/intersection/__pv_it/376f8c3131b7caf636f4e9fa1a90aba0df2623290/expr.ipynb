{
 "cells": [
  {
   "cell_type": "markdown",
   "metadata": {},
   "source": [
    "Expression of type <a class=\"ProveItLink\" href=\"../../../../../../../doc/html/api/proveit.logic.InSet.html\">InSet</a>\n",
    "=======================\n",
    "# from context <a class=\"ProveItLink\" href=\"../../_context_.ipynb\">proveit.logic.set_theory.intersection</a>"
   ]
  },
  {
   "cell_type": "code",
   "execution_count": 1,
   "metadata": {},
   "outputs": [],
   "source": [
    "# import Expression classes needed to build the expression\n",
    "from proveit import Variable\n",
    "from proveit._common_ import S\n",
    "from proveit.logic import InSet, Intersect"
   ]
  },
  {
   "cell_type": "code",
   "execution_count": 2,
   "metadata": {},
   "outputs": [
    {
     "data": {
      "text/html": [
       "<strong id=\"expr\">expr:</strong> <a class=\"ProveItLink\" href=\"../f0e4ae44fc918729e5cee01398d2dea0050c670f0/expr.ipynb\"><img src=\"data:image/png;base64,iVBORw0KGgoAAAANSUhEUgAAAIEAAAAVBAMAAACTeZA2AAAAMFBMVEX///+6uroyMjLMzMwQEBAi\n",
       "IiKYmJhmZmZUVFSIiIh2dnbc3Nzu7u5ERESqqqoAAABZrPngAAAAAXRSTlMAQObYZgAAAc5JREFU\n",
       "OMtjYKADYJyAWy6RKBMsQERGeQ2aarb28mMC7AbEmKADxEwJDGc/gHm7YcJqDDz3GRgUiDCAE+SJ\n",
       "LgYGPpBiPqXeWIi1HAsYGB4xMGTh1nhSNTQIzGA5wMDA/ZmBgRlkUscBBmZNsPB+oEGWDAxHcBrA\n",
       "rHYAyhICBeY/oAhQC1sByEdgR8g/YGAwZmDgfQDTwb2y+2Ulkgl7YQYwVIFk/08Gs5lAonwLwG74\n",
       "CTaIqwCm7hRDaoIrkgm3GRAhBgTz///dAKRYwc5rAAfP//8gNXzwoFzAMJ/hMcIAngtwpiPYiRn+\n",
       "PqgmMGxr+QJ0EaMDTN0Bhl6UVOQaGgoNyY8QEa5vaCYwMKxPAHI+IDR5ogRkA5wJMgGolAfVBDYg\n",
       "Po9qAjDCeJB8EQBn+gF5wODi/o1iwnFQYG5A9kU25weGOUiOaIOzrkGCi70BxQRgYmKoALkFFpJ8\n",
       "33gduJFz0FEBGGs5UHckA8NcBhQTSicwcF6AxObbu0BwgOfmmlXTGKAcsKfUYXlGFJiCGTt6E1BN\n",
       "aJDouAZOIQI4EyVfEyxVb0DKI+AwSkBSdoSInMW2AJ/sSmJzNy7AQ0zuZtiBR45jAzEmcOMp5YAZ\n",
       "DgA/IW+BtvS//QAAAABJRU5ErkJggg==\n",
       "\" style=\"display:inline;vertical-align:middle;\" /></a><br>"
      ],
      "text/plain": [
       "expr: _x_ in (S intersect S)"
      ]
     },
     "execution_count": 2,
     "metadata": {},
     "output_type": "execute_result"
    }
   ],
   "source": [
    "# build up the expression from sub-expressions\n",
    "expr = InSet(Variable(\"_x_\", latexFormat = r\"{_{-}x_{-}}\"), Intersect(S, S))"
   ]
  },
  {
   "cell_type": "code",
   "execution_count": 3,
   "metadata": {},
   "outputs": [
    {
     "name": "stdout",
     "output_type": "stream",
     "text": [
      "Passed sanity check: built 'expr' is the same as the stored Expression.\n"
     ]
    }
   ],
   "source": [
    "# check that the built expression is the same as the stored expression\n",
    "%check_expr"
   ]
  },
  {
   "cell_type": "code",
   "execution_count": 4,
   "metadata": {},
   "outputs": [
    {
     "data": {
      "text/html": [
       "<table><tr><th>&nbsp;</th><th>core type</th><th>sub-expressions</th><th>expression</th></tr>\n",
       "<tr><td>0</td><td>Operation</td><td>operator:&nbsp;1<br>operands:&nbsp;2<br></td><td><a class=\"ProveItLink\" href=\"../f0e4ae44fc918729e5cee01398d2dea0050c670f0/expr.ipynb\"><img src=\"data:image/png;base64,iVBORw0KGgoAAAANSUhEUgAAAIEAAAAVBAMAAACTeZA2AAAAMFBMVEX///+6uroyMjLMzMwQEBAi\n",
       "IiKYmJhmZmZUVFSIiIh2dnbc3Nzu7u5ERESqqqoAAABZrPngAAAAAXRSTlMAQObYZgAAAc5JREFU\n",
       "OMtjYKADYJyAWy6RKBMsQERGeQ2aarb28mMC7AbEmKADxEwJDGc/gHm7YcJqDDz3GRgUiDCAE+SJ\n",
       "LgYGPpBiPqXeWIi1HAsYGB4xMGTh1nhSNTQIzGA5wMDA/ZmBgRlkUscBBmZNsPB+oEGWDAxHcBrA\n",
       "rHYAyhICBeY/oAhQC1sByEdgR8g/YGAwZmDgfQDTwb2y+2Ulkgl7YQYwVIFk/08Gs5lAonwLwG74\n",
       "CTaIqwCm7hRDaoIrkgm3GRAhBgTz///dAKRYwc5rAAfP//8gNXzwoFzAMJ/hMcIAngtwpiPYiRn+\n",
       "PqgmMGxr+QJ0EaMDTN0Bhl6UVOQaGgoNyY8QEa5vaCYwMKxPAHI+IDR5ogRkA5wJMgGolAfVBDYg\n",
       "Po9qAjDCeJB8EQBn+gF5wODi/o1iwnFQYG5A9kU25weGOUiOaIOzrkGCi70BxQRgYmKoALkFFpJ8\n",
       "33gduJFz0FEBGGs5UHckA8NcBhQTSicwcF6AxObbu0BwgOfmmlXTGKAcsKfUYXlGFJiCGTt6E1BN\n",
       "aJDouAZOIQI4EyVfEyxVb0DKI+AwSkBSdoSInMW2AJ/sSmJzNy7AQ0zuZtiBR45jAzEmcOMp5YAZ\n",
       "DgA/IW+BtvS//QAAAABJRU5ErkJggg==\n",
       "\" style=\"display:inline;vertical-align:middle;\" /></a></td></tr>\n",
       "<tr><td>1</td><td>Literal</td><td></td><td><a class=\"ProveItLink\" href=\"../../../membership/__pv_it/088cbc857536a28d4119ad9639a84270ccb0545d0/expr.ipynb\"><img src=\"data:image/png;base64,iVBORw0KGgoAAAANSUhEUgAAAAwAAAAMBAMAAACkW0HUAAAALVBMVEX///+qqqpmZmZUVFQQEBC6\n",
       "urpERETc3NyYmJjMzMwiIiIyMjKIiIju7u4AAACYsrA9AAAAAXRSTlMAQObYZgAAADxJREFUCNdj\n",
       "YOA9vWrVBgaG2b0MQMCeCyIZ2ArA1DUwyRCyahVIyWQI7xaEYm4AU7xLIdxqTQgtvGvVBgCkcQ7e\n",
       "geM/tQAAAABJRU5ErkJggg==\n",
       "\" style=\"display:inline;vertical-align:middle;\" /></a></td></tr>\n",
       "<tr><td>2</td><td>ExprTuple</td><td>3, 4</td><td><a class=\"ProveItLink\" href=\"../c6d6c32381c09d3dc27c7d49aba8abb1cb8580490/expr.ipynb\"><img src=\"data:image/png;base64,iVBORw0KGgoAAAANSUhEUgAAAHAAAAAVBAMAAABs93eRAAAAMFBMVEX////c3NwiIiJERESqqqqY\n",
       "mJh2dnZmZmYQEBDu7u4yMjJUVFTMzMyIiIi6uroAAAAs73DqAAAAAXRSTlMAQObYZgAAAZ5JREFU\n",
       "OMtjYCAb8F0gXQ/rAyBxGq+K7eVTH6AKRZdXxjHUABkr8WlcysBpD2YwCkBFuAIYJn9g4GJg4MXn\n",
       "Uu4EBgYvEMNrtZENRGgbAwPLAgbWBAaOCXg0yh9gYDgLMmAnA8MpsA2MfxgYeC4wcDYwvMLn0vcO\n",
       "DAxngHQ4iLMGHJRfgBqBxpkwlCGUid0WuY7qcPm/B8A0OBzcwDb+vwMWSQd6HwY4E1hVORRQNPL+\n",
       "/28IosGikOC///8zKJy8GPrgqtgYeD+wHEB1q+iOHxNQNTJG93cCqRcM/xA2MnAbYHozPwBVI9CC\n",
       "r0DiPJJGBgYOtKhhBeL5qBqBPE6IxhbU0EeJnOkgMQFkjZwFQMd+BDvVFGG+wH0GXrjGCQyQuK9G\n",
       "CRxg3DOwbwAyooDhCgP+ARYMsnAPfwISRRcYeA1QNLLrMjBchkTHI6AxxkBgyTD52rTcABiHsx/o\n",
       "xA2vd0McBNfIzbd7M8jTDOsYOARw5DZkcXCgTUUSACY5YHLFnqHwZki2CzizFX6Ns4BYGrsU/nJh\n",
       "IygNkVF08B5gAABVHmUANjDvVQAAAABJRU5ErkJggg==\n",
       "\" style=\"display:inline;vertical-align:middle;\" /></a></td></tr>\n",
       "<tr><td>3</td><td>Variable</td><td></td><td><a class=\"ProveItLink\" href=\"../../../../__pv_it/5144cf74ae6a683b49b974f1b9302b432abf7e930/expr.ipynb\"><img src=\"data:image/png;base64,iVBORw0KGgoAAAANSUhEUgAAACUAAAAJBAMAAABH3vh9AAAAKlBMVEX////MzMwQEBAiIiKYmJhm\n",
       "ZmZUVFSIiIh2dnbc3Nzu7u5ERESqqqoAAABwkVEpAAAAAXRSTlMAQObYZgAAAEtJREFUCNdjYIAA\n",
       "zvbM4+EMqGAFg7ODMppYA0Mtw0E0sQUM2QyYQB1TiPMiAxeakCf7BYYqVCGeK9wKnAUw3undQLCA\n",
       "a3tXRwmMAwC3+RVNp6j0GAAAAABJRU5ErkJggg==\n",
       "\" style=\"display:inline;vertical-align:middle;\" /></a></td></tr>\n",
       "<tr><td>4</td><td>Operation</td><td>operator:&nbsp;5<br>operands:&nbsp;6<br></td><td><a class=\"ProveItLink\" href=\"../67ab27a4d51497134688a7f7718f285e233e49c80/expr.ipynb\"><img src=\"data:image/png;base64,iVBORw0KGgoAAAANSUhEUgAAADIAAAAPBAMAAABU9YHxAAAAMFBMVEX///8iIiIQEBCIiIjMzMzc\n",
       "3Nyqqqp2dnZEREQyMjK6urru7u5mZmZUVFSYmJgAAACI6eGPAAAAAXRSTlMAQObYZgAAAOBJREFU\n",
       "GNNjYGDgu3Nm3wIGFPD2zOlXQGoeA3c/RCAUKsH5gGHHBwYG3gIGhkwQn23mDQkHsMx1IGcCA0M8\n",
       "kOcM4t/dwMAyGcRg/cLAwGLAwLA+gYHBBcjnOwAyB6SJ6xtQBsiI/wwxgnMDyMQCkJ7/JmAR5v//\n",
       "W0E0I4hguQAi7f//CADRcZc+bUCVYX2rrw1xZf0DVBkGBvZ/QIuB9H5UGSCPGyizB8iMD0CW4QY6\n",
       "kvUrxJNnUVwA8iQPkD5owMDcgCLDI8zAYAFkX1h7t48BRYaX6+6NB8jhywwiuBFCAD8FPo6MP7rU\n",
       "AAAAAElFTkSuQmCC\n",
       "\" style=\"display:inline;vertical-align:middle;\" /></a></td></tr>\n",
       "<tr><td>5</td><td>Literal</td><td></td><td><a class=\"ProveItLink\" href=\"../b92f67f0486746ea0d6b21767755d70bf02e0a1a0/expr.ipynb\"><img src=\"data:image/png;base64,iVBORw0KGgoAAAANSUhEUgAAAAwAAAAOBAMAAADpk+DfAAAAKlBMVEX///92dnZmZmaYmJiIiIju\n",
       "7u7MzMwiIiJERERUVFQyMjKqqqrc3NwAAABI3Db5AAAAAXRSTlMAQObYZgAAADBJREFUCNdjYGDg\n",
       "OcAABLtWtrcxMHBOZWDIcmAwAoksY1gKojYyFICoTNIpBxAVDAANVw4O+bd0jgAAAABJRU5ErkJg\n",
       "gg==\n",
       "\" style=\"display:inline;vertical-align:middle;\" /></a></td></tr>\n",
       "<tr><td>6</td><td>ExprTuple</td><td>7, 7</td><td><a class=\"ProveItLink\" href=\"../27adfca80b2060421c1304707532f69ff29fae6f0/expr.ipynb\"><img src=\"data:image/png;base64,iVBORw0KGgoAAAANSUhEUgAAADAAAAAVBAMAAADyTXAxAAAAMFBMVEX////c3NwiIiJERESqqqqY\n",
       "mJh2dnZmZmYQEBDu7u4yMjJUVFTMzMyIiIi6uroAAAAs73DqAAAAAXRSTlMAQObYZgAAAPtJREFU\n",
       "KM9jYMAJ+C5girE+ABKnQazo8so4qCCYWQNkrARirgCGyR8g4hAmFwMDL8ikbQwMLAsgEhAmawID\n",
       "xwQGBsY/DAw8EKugTM4Ghlcg+78AeQcgToEyTRjKQMr+34G5B8ZMZ1gKou7//ywAlYEyvRj6wOqi\n",
       "+zthWiDMFwz/IHy2r3DfgZnnwRIBDAycUAkY8zxDC5BVADThI1gcznzBYArxG/sGBk4GOJOBIQro\n",
       "LgZ2XQaGywwM8xXgTJBzHzEwcPPt3gw0e8ZHOJOBYR0DhwDcOQ8R4Q4MEmBwwUAAQoLtAiTYMSRm\n",
       "AbE0jMOLFIUbQWGAJWp5DzAAAETNSSaojuC/AAAAAElFTkSuQmCC\n",
       "\" style=\"display:inline;vertical-align:middle;\" /></a></td></tr>\n",
       "<tr><td>7</td><td>Variable</td><td></td><td><a class=\"ProveItLink\" href=\"../../../../../__pv_it/abeee18594afe51bfb1be95d9591fbba24ac53f30/expr.ipynb\"><img src=\"data:image/png;base64,iVBORw0KGgoAAAANSUhEUgAAAA0AAAAOBAMAAAAGUYvhAAAAMFBMVEX///8iIiIQEBCIiIjMzMzc\n",
       "3Nyqqqp2dnZEREQyMjK6urru7u5mZmZUVFSYmJgAAACI6eGPAAAAAXRSTlMAQObYZgAAAF1JREFU\n",
       "CNdjYGDgu3Nm3wIGBoZ5DNz9QIq3gIEhE0jHOzAwOAPp9QkMDC4g/megABAw///fCmbEXfq0Acxg\n",
       "qH8ANAVI7wfSe0BKAyBGnAXigwYMzA1A+sLau31ACgAz0hhbkhGHbwAAAABJRU5ErkJggg==\n",
       "\" style=\"display:inline;vertical-align:middle;\" /></a></td></tr>\n",
       "</table>\n"
      ],
      "text/plain": [
       "0. _x_ in (S intersect S)\n",
       "   core type: Operation\n",
       "   operator: 1\n",
       "   operands: 2\n",
       "1. in\n",
       "   core type: Literal\n",
       "   sub-expressions: \n",
       "2. (_x_ , S intersect S)\n",
       "   core type: ExprTuple\n",
       "   sub-expressions: 3, 4\n",
       "3. _x_\n",
       "   core type: Variable\n",
       "   sub-expressions: \n",
       "4. S intersect S\n",
       "   core type: Operation\n",
       "   operator: 5\n",
       "   operands: 6\n",
       "5. intersect\n",
       "   core type: Literal\n",
       "   sub-expressions: \n",
       "6. (S , S)\n",
       "   core type: ExprTuple\n",
       "   sub-expressions: 7, 7\n",
       "7. S\n",
       "   core type: Variable\n",
       "   sub-expressions: "
      ]
     },
     "execution_count": 4,
     "metadata": {},
     "output_type": "execute_result"
    }
   ],
   "source": [
    "# display the expression information\n",
    "expr.exprInfo()"
   ]
  },
  {
   "cell_type": "code",
   "execution_count": null,
   "metadata": {},
   "outputs": [],
   "source": []
  }
 ],
 "metadata": {
  "kernelspec": {
   "display_name": "Python 3",
   "language": "python",
   "name": "python3"
  }
 },
 "nbformat": 4,
 "nbformat_minor": 0
}
