{
 "cells": [
  {
   "cell_type": "markdown",
   "metadata": {},
   "source": [
    "Show the Proof\n",
    "========"
   ]
  },
  {
   "cell_type": "code",
   "execution_count": 1,
   "metadata": {},
   "outputs": [
    {
     "data": {
      "text/html": [
       "<table><tr><th>&nbsp;</th><th>step type</th><th>requirements</th><th>statement</th></tr>\n",
       "<tr><td>0</td><td>specialization</td><td>1, 2</td><td><span style=\"font-size:20px;\"><a class=\"ProveItLink\" href=\"../647fd3b3da086a093faffbaaa6f3024d47c80a6f0/expr.ipynb\"><img src=\"data:image/png;base64,iVBORw0KGgoAAAANSUhEUgAAAGEAAAAVBAMAAACkm51HAAAAMFBMVEX////c3NxERESqqqpUVFS6\n",
       "urrMzMwyMjIQEBCIiIh2dnYiIiLu7u5mZmaYmJgAAABXZE4RAAAAAXRSTlMAQObYZgAAATtJREFU\n",
       "OMtjYGDgu8dAJGBbJQCieHYxEA3YmkEk5weiFD+5e+cpA8N1EJOrgRgN7A8YDgGNXkG8Di8GBuYC\n",
       "InTwTN+9uwDEYPwG9MQEInSkv4EyWD8DdSRg6mBc6Wh5E0kDow6c9X8amAbr4C2AqzjF8PpBN5IO\n",
       "JgE4c/7/TyDOexA7IwAuvIBhPoMZko5DSNY96e8BBdkFBoaUNoTwAQYnFG9E7N4N9TnI9f9ApPoD\n",
       "oHACkppOFB0pcBZQHQ9IB/cCIMFSgGT3NwYeJB2n4aEMdAzjR5g/uDbAVTwEppg5SDpYHkAZoMjj\n",
       "dWDACF3mf0wNjBOQI3ArlMG7k4FhEgOyDiMlIDjAo7lm1TwYB6xS/BrUMlYXpwcMDMSkK5Pq3QXI\n",
       "fBJSIrIOPlJ0gPMHz04S8mArmOJbTFI+BwBFYVX7gGsWyAAAAABJRU5ErkJggg==\n",
       "\" style=\"display:inline;vertical-align:middle;\" /></a> <a class=\"ProveItLink\" href=\"proof.ipynb\" style=\"text-decoration: none\">&#x22A2;&nbsp;</a><a class=\"ProveItLink\" href=\"../db61180bbc701c2aeb952ba2fd09dba8284f89640/expr.ipynb\"><img src=\"data:image/png;base64,iVBORw0KGgoAAAANSUhEUgAAANEAAAAVBAMAAAAqbRZ+AAAAMFBMVEX////c3NwiIiJERESqqqqY\n",
       "mJh2dnZmZmYQEBDu7u4yMjJUVFTMzMyIiIi6uroAAAAs73DqAAAAAXRSTlMAQObYZgAAAhxJREFU\n",
       "SMdjYKAf4LtArMo4CrWeJkYl6/byqQ/YD6CJEqWVIbq8Mg6sdSUxqpcycNozMCyA8iShNFFauQIY\n",
       "Jn8AaeUlJgS4ExgYvBgYwqDc5RCKKK0M2xgYWBaAtHJMwK1o7iIlLTBDHuj5swwMMyDCPEYQPURp\n",
       "ZfwD1HABpPUVbtU8S2FGvXdgYDjDwMDsAPHhW4hniNLK9wXIOwDSWoaQFrstch05QIThbpb/C04M\n",
       "bAVg3iwGBTBNlFbG/3egWpfCZTkTWFU5FJCUG8JZvP//gzgskCSRylACTSZEaGW4//+zAFhrH1yI\n",
       "jYH3AwtSQuY0QLBFd/wAupKvAcxRYJAC08RpZYzu7wRr/YeQZuA2QMmXTUpK0GgFgvwAYHh/AOet\n",
       "CwzcYFOJ1cr2Faz1H5ICDpRky7MBnm+BeD7cJqYJUClitDIAtXFCbGpBUgBMzEgJlxMe8NNBcgKw\n",
       "0HMH4oUgBjFaOYGJiPEjWKsposQRuM/Ai5xFtsIYwEzLUA1SAU4RC6G2EaUVlIjYN4C1psNl/QMs\n",
       "GGSRw2DSAyij6AIDrwEslfOAWEwgYWK0susyMFyGaH0EtNcYCCwZJl+blhsA44BTzXJoctrwejfY\n",
       "/Vwg/dwPYAURMVq5+XZvDoBo5RDAndNZdiESEAiASyM+MBNkHYlaWROIr8py0aoSErWuJFo15wI0\n",
       "ARK1ShOtnBs9tEjUykh0FX0HXYAkrQByK5yXvx9YqQAAAABJRU5ErkJggg==\n",
       "\" style=\"display:inline;vertical-align:middle;\" /></a></span></td></tr>\n",
       "<tr><td>&nbsp;</td><td colspan=4 style=\"text-align:left\"><span style=\"font-size:20px;\"><a class=\"ProveItLink\" href=\"../../../../../__pv_it/2cbe72a7ad6f655694dd697106680215e8489b600/expr.ipynb\"><img src=\"data:image/png;base64,iVBORw0KGgoAAAANSUhEUgAAAA8AAAAOBAMAAAACpFvcAAAALVBMVEX///8QEBBERERUVFS6urqI\n",
       "iIhmZmaqqqrc3Nzu7u6YmJgyMjIiIiLMzMwAAADtIaYWAAAAAXRSTlMAQObYZgAAAFtJREFUCNdj\n",
       "YACBOwxQsA9Kc52bAGG05zVAGAFxDmCaZULdAjBjCsO9ADDDgaEvAUTzGhvbKYCVMDAwbgAxChgY\n",
       "eASANAeQwf0AyJgNxEwvGRia5HYwcOm9TgAA6BoR3jrzwFcAAAAASUVORK5CYII=\n",
       "\" style=\"display:inline;vertical-align:middle;\" /></a> : <a class=\"ProveItLink\" href=\"../32ada6b89868931bc8ea7c9d857f7b2d0f47ba4c0/expr.ipynb\"><img src=\"data:image/png;base64,iVBORw0KGgoAAAANSUhEUgAAAE4AAAAPBAMAAAC4gOTnAAAAMFBMVEX///+6uroyMjLMzMwQEBAi\n",
       "IiKYmJhmZmZUVFSIiIh2dnbc3Nzu7u5ERESqqqoAAABZrPngAAAAAXRSTlMAQObYZgAAANVJREFU\n",
       "KM9jYCAMMsprEolQxpTAcPYDEeq6GBj4FHDK8kwKDQXLcn9mYGCegFOdUQ6UwfgPqM4AJsy9svtl\n",
       "JZIy7jtw1v/JSOKnGFITXJH4vBvgzPn//yI4CxjmMzxGUncWyegMfx845wBDL4rzREJDof4AAq5v\n",
       "SDKeKOos4KwEoN+R1AG9z4Ok7ig8fAqAcr/h4tmcHxjmIKnjSIAyQEHM3gAT5vvG68CNHJg8gVAG\n",
       "eyQDw1wg/fYuEBzgublm1TQYByy/qRhqMGNHbwK+aH2hGooUqwBY6Dj/clGjrgAAAABJRU5ErkJg\n",
       "gg==\n",
       "\" style=\"display:inline;vertical-align:middle;\" /></a>, <a class=\"ProveItLink\" href=\"../../../../../__pv_it/077b2ff79244fb4582cbe22c6e3356fa92a52f2f0/expr.ipynb\"><img src=\"data:image/png;base64,iVBORw0KGgoAAAANSUhEUgAAABAAAAAOBAMAAADUAYG5AAAAMFBMVEX///+qqqru7u4iIiJ2dnbc\n",
       "3NyIiIjMzMxmZmYQEBC6uroyMjJERERUVFSYmJgAAADLUcuvAAAAAXRSTlMAQObYZgAAAGpJREFU\n",
       "CNdjYGB4+//u3dMLGIBgDgMDxy8gzf4NiP8CGWxfGRj4vgAZPBMYGJgnARn8FxhY9ygAGfXX0pof\n",
       "gDTlBzAw2YIYJ0EckBBI53sHoBH/gIz7AhBjWH9DjancBLTl/N+7t/cxMAAA3u4f/5xagjYAAAAA\n",
       "SUVORK5CYII=\n",
       "\" style=\"display:inline;vertical-align:middle;\" /></a> : <a class=\"ProveItLink\" href=\"../32ada6b89868931bc8ea7c9d857f7b2d0f47ba4c0/expr.ipynb\"><img src=\"data:image/png;base64,iVBORw0KGgoAAAANSUhEUgAAAE4AAAAPBAMAAAC4gOTnAAAAMFBMVEX///+6uroyMjLMzMwQEBAi\n",
       "IiKYmJhmZmZUVFSIiIh2dnbc3Nzu7u5ERESqqqoAAABZrPngAAAAAXRSTlMAQObYZgAAANVJREFU\n",
       "KM9jYCAMMsprEolQxpTAcPYDEeq6GBj4FHDK8kwKDQXLcn9mYGCegFOdUQ6UwfgPqM4AJsy9svtl\n",
       "JZIy7jtw1v/JSOKnGFITXJH4vBvgzPn//yI4CxjmMzxGUncWyegMfx845wBDL4rzREJDof4AAq5v\n",
       "SDKeKOos4KwEoN+R1AG9z4Ok7ig8fAqAcr/h4tmcHxjmIKnjSIAyQEHM3gAT5vvG68CNHJg8gVAG\n",
       "eyQDw1wg/fYuEBzgublm1TQYByy/qRhqMGNHbwK+aH2hGooUqwBY6Dj/clGjrgAAAABJRU5ErkJg\n",
       "gg==\n",
       "\" style=\"display:inline;vertical-align:middle;\" /></a></span></td></tr><tr><td>1</td><td>theorem</td><td></td><td><span style=\"font-size:20px;\"> <a class=\"ProveItLink\" href=\"../../../../boolean/conjunction/_proofs_/andIfBoth.ipynb\" style=\"text-decoration: none\">&#x22A2;&nbsp;</a><a class=\"ProveItLink\" href=\"../dd160e6c9bd5daa357fe3966b2f6c71a4d341f390/expr.ipynb\"><img src=\"data:image/png;base64,iVBORw0KGgoAAAANSUhEUgAAAK0AAAAXBAMAAACL0NJjAAAAMFBMVEX///8QEBC6urrMzMxUVFRm\n",
       "ZmZERETc3NwyMjKqqqp2dnaIiIiYmJgiIiLu7u4AAAAU9Wx4AAAAAXRSTlMAQObYZgAAAsVJREFU\n",
       "OMu1lT9oE1Ecx79Ncrk2uZyZdNMMbhUaQXAQyaGhFByaoVEcShUxddHcIG1FarNoEKTNUle7WVEk\n",
       "oluGnOKgdbCDWVQwFQWXYmn6z7ZWf+/37uklkkr8c3B5v/d77/d5v3/vAvynp/pHVp3brj6hd1YI\n",
       "L1rE+i05Hm7QP/2WTJ6LQYsDd8R8vEVuuxvlhDu/ohZ2AtoikAOGaKafapFbkoPxzuVfVXFs0LsE\n",
       "zMijtUKL3N1yuDRgS9x5lx9epcPWgTkabg8Pj7aI9eXkWCzHeAx0FqUiGAUidGiQHF3JZF63yNWm\n",
       "JL56y2Hhk6w+sMOCfo18D6WAo8AgK/P8e3M53R1nKaaKxMF2ZNN9Z5RG4t4jIf28h5NyIXGs1C/W\n",
       "OiigvTA5LGNR1iKKcJQlVcyX8oDHwANX0xZzDx5LsTCLEblQtmG+EpGIfCDMx3/clDFa8K16ueaA\n",
       "9K4P6LLdcJnrTyZ7eY9RRECGeFqwabt/gWroRLia9yu8FClCm/VyQ/PSqTdAP7xcHznOkZK9e1GW\n",
       "RHhTkmvmDvDpxQwvfY7jme3lHgqyYNZg5FUeuC/pJ8IZm1TF8YuQewsyDxg8wr3ietNVenQBXq4l\n",
       "3fdtlLrVtyQoMqOTffuCKvikal99TWRGxDHJds9RZptpqlDVwzUKYTYO5WC414HbiJqLDtgSXoqN\n",
       "EdW++8fVhjbRLGYlnWXcWUpFwcOdTx/fYpsUzC/qXpAnQ3vyMLJrBAiIbIcJomWXkj03uBGFyhA8\n",
       "zUaCa0q2XXEP9wT8Na5VAb6auhi76m5fXbfzM/dD2keWjp6HvgW94smvj1K5iREbY1WMptTumd9c\n",
       "yLtK+LACvfct1XN6Od1T+Mk1qUMvfnUSTmgi3Xf9l+9kk8fMNSgM78T78XTq9+nWttyA3aA42ITr\n",
       "b9x4eVvuw0aF04Rr/Mt/VOtvjL8DRD+w3zAevUsAAAAASUVORK5CYII=\n",
       "\" style=\"display:inline;vertical-align:middle;\" /></a></span></td></tr>\n",
       "<tr><td>&nbsp;</td><td colspan=4 style-\"text-align:left\"><a class=\"ProveItLink\" href=\"../../../../boolean/conjunction/_proofs_/andIfBoth.ipynb\">proveit.logic.boolean.conjunction.andIfBoth</a></td></tr><tr><td>2</td><td>assumption</td><td></td><td><span style=\"font-size:20px;\"><a class=\"ProveItLink\" href=\"../647fd3b3da086a093faffbaaa6f3024d47c80a6f0/expr.ipynb\"><img src=\"data:image/png;base64,iVBORw0KGgoAAAANSUhEUgAAAGEAAAAVBAMAAACkm51HAAAAMFBMVEX////c3NxERESqqqpUVFS6\n",
       "urrMzMwyMjIQEBCIiIh2dnYiIiLu7u5mZmaYmJgAAABXZE4RAAAAAXRSTlMAQObYZgAAATtJREFU\n",
       "OMtjYGDgu8dAJGBbJQCieHYxEA3YmkEk5weiFD+5e+cpA8N1EJOrgRgN7A8YDgGNXkG8Di8GBuYC\n",
       "InTwTN+9uwDEYPwG9MQEInSkv4EyWD8DdSRg6mBc6Wh5E0kDow6c9X8amAbr4C2AqzjF8PpBN5IO\n",
       "JgE4c/7/TyDOexA7IwAuvIBhPoMZko5DSNY96e8BBdkFBoaUNoTwAQYnFG9E7N4N9TnI9f9ApPoD\n",
       "oHACkppOFB0pcBZQHQ9IB/cCIMFSgGT3NwYeJB2n4aEMdAzjR5g/uDbAVTwEppg5SDpYHkAZoMjj\n",
       "dWDACF3mf0wNjBOQI3ArlMG7k4FhEgOyDiMlIDjAo7lm1TwYB6xS/BrUMlYXpwcMDMSkK5Pq3QXI\n",
       "fBJSIrIOPlJ0gPMHz04S8mArmOJbTFI+BwBFYVX7gGsWyAAAAABJRU5ErkJggg==\n",
       "\" style=\"display:inline;vertical-align:middle;\" /></a> <a class=\"ProveItLink\" href=\"../77ed8da940747a98e088f0aa7765753b7f081b4e0/proof.ipynb\" style=\"text-decoration: none\">&#x22A2;&nbsp;</a><a class=\"ProveItLink\" href=\"../32ada6b89868931bc8ea7c9d857f7b2d0f47ba4c0/expr.ipynb\"><img src=\"data:image/png;base64,iVBORw0KGgoAAAANSUhEUgAAAE4AAAAPBAMAAAC4gOTnAAAAMFBMVEX///+6uroyMjLMzMwQEBAi\n",
       "IiKYmJhmZmZUVFSIiIh2dnbc3Nzu7u5ERESqqqoAAABZrPngAAAAAXRSTlMAQObYZgAAANVJREFU\n",
       "KM9jYCAMMsprEolQxpTAcPYDEeq6GBj4FHDK8kwKDQXLcn9mYGCegFOdUQ6UwfgPqM4AJsy9svtl\n",
       "JZIy7jtw1v/JSOKnGFITXJH4vBvgzPn//yI4CxjmMzxGUncWyegMfx845wBDL4rzREJDof4AAq5v\n",
       "SDKeKOos4KwEoN+R1AG9z4Ok7ig8fAqAcr/h4tmcHxjmIKnjSIAyQEHM3gAT5vvG68CNHJg8gVAG\n",
       "eyQDw1wg/fYuEBzgublm1TQYByy/qRhqMGNHbwK+aH2hGooUqwBY6Dj/clGjrgAAAABJRU5ErkJg\n",
       "gg==\n",
       "\" style=\"display:inline;vertical-align:middle;\" /></a></span></td></tr>\n",
       "</table>"
      ],
      "text/plain": [
       "<proveit._core_.proof._ShowProof at 0x7f94eba81d30>"
      ]
     },
     "execution_count": 1,
     "metadata": {},
     "output_type": "execute_result"
    }
   ],
   "source": [
    "import proveit\n",
    "%show_proof"
   ]
  },
  {
   "cell_type": "code",
   "execution_count": null,
   "metadata": {},
   "outputs": [],
   "source": []
  }
 ],
 "metadata": {
  "kernelspec": {
   "display_name": "Python 3",
   "language": "python",
   "name": "python3"
  }
 },
 "nbformat": 4,
 "nbformat_minor": 0
}
