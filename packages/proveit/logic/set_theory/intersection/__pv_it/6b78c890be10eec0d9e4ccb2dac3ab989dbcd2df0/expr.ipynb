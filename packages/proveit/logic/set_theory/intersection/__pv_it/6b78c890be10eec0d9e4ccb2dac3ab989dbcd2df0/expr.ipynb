{
 "cells": [
  {
   "cell_type": "markdown",
   "metadata": {},
   "source": [
    "Expression of type <a class=\"ProveItLink\" href=\"../../../../../../../doc/html/api/proveit.logic.NotInSet.html\">NotInSet</a>\n",
    "=======================\n",
    "# from context <a class=\"ProveItLink\" href=\"../../_context_.ipynb\">proveit.logic.set_theory.intersection</a>"
   ]
  },
  {
   "cell_type": "code",
   "execution_count": 1,
   "metadata": {},
   "outputs": [],
   "source": [
    "# import Expression classes needed to build the expression\n",
    "from proveit._common_ import A, B, C, D, x\n",
    "from proveit.logic import Intersect, NotInSet"
   ]
  },
  {
   "cell_type": "code",
   "execution_count": 2,
   "metadata": {},
   "outputs": [
    {
     "data": {
      "text/html": [
       "<strong id=\"expr\">expr:</strong> <a class=\"ProveItLink\" href=\"expr.ipynb\"><img src=\"data:image/png;base64,iVBORw0KGgoAAAANSUhEUgAAALsAAAAVCAMAAAApWG/GAAAAQlBMVEX///9bW1sNDQ0JCQkdHR0P\n",
       "Dw8WFhYyMjK6urpERETMzMwQEBAiIiKYmJju7u5mZmaqqqpUVFSIiIh2dnbc3NwAAADXC9tbAAAA\n",
       "AXRSTlMAQObYZgAAAodJREFUSMfVV0di3DAMpOM4IMTe/v/VqLBBBbu3bHSwLBsatMEQEoK5pBX/\n",
       "7aVJ7DJ+TmRGvjBYwvOTWPQL9FBKWC+EV25sxOCcEdkxRrHCAS77s1t4UEe8AiUQFGqc8/l1hQdK\n",
       "kaxdUmbvqjvuj3AF9psv/vD/gjIkccoYo8uUiwcIqJHUYimx3gNjZ6ERM5XMw6Va0cOxSc99BP3n\n",
       "R0/JKVL27N1wJULY/7nAnF+sBqYkxg46rlQv4CSpiVVPTAdjBc5tk7RHcWCt0XWiwlQqrOC6R3dj\n",
       "5yoDtnI4Hq5xNNc+4vZmTjFkH93IMqPdukm4n07i6Yu5ToKfrA4XGdA+2+UynNiFh8NOniP2tKZo\n",
       "08ZeI9Sg915xSnCYB8nKQWcyF5MWrS5ijE6bu/lpdq4YbswIXHPXOOjXtNNOpvX33iCLV11Rs1jI\n",
       "vWSOdVbpbnVggtIlvxl7LC28UMm6zccWYkDCCKW1/v29/hgdnYVu2YQ29CbeO2t0j6O0V7syCa3l\n",
       "4bqlUq0T9TleTqHkqbpKWvb1HWCdNWWcZOZqp0bso+33cNgpY0jseW9IT9zqs7ivXkYqvukH52xp\n",
       "LsJQkqtdGIeEEzxcpCfewRmTd7qLOPgdzHrM0djRDGk/H6x3zpq6z0pytRshJSt4uNoW7GNoYNe6\n",
       "jZt5oo3VMpz2heT6QdgZaBlnle6LAjYoc3RFuszPaqX7Am6OyGJMNqVIxCrDr1PsUlflVwU2PwZL\n",
       "aUA32od1cyLSekuGAOsi5lmdsQ0O5w3sccczXwGIzgiVn3e80TDD7Udv2r1n9rgT0H1A8LvPv7nS\n",
       "09dExuvf4KM+ouzjDhxvmpXDJ8UeHimMt834oG++uA3tX1Z7Jcl7C3lKAAAAAElFTkSuQmCC\n",
       "\" style=\"display:inline;vertical-align:middle;\" /></a><br>"
      ],
      "text/plain": [
       "expr: x not-in (A intersect B intersect C intersect D)"
      ]
     },
     "execution_count": 2,
     "metadata": {},
     "output_type": "execute_result"
    }
   ],
   "source": [
    "# build up the expression from sub-expressions\n",
    "expr = NotInSet(x, Intersect(A, B, C, D))"
   ]
  },
  {
   "cell_type": "code",
   "execution_count": 3,
   "metadata": {},
   "outputs": [
    {
     "name": "stdout",
     "output_type": "stream",
     "text": [
      "Passed sanity check: built 'expr' is the same as the stored Expression.\n"
     ]
    }
   ],
   "source": [
    "# check that the built expression is the same as the stored expression\n",
    "%check_expr"
   ]
  },
  {
   "cell_type": "code",
   "execution_count": 4,
   "metadata": {},
   "outputs": [
    {
     "data": {
      "text/html": [
       "<table><tr><th>&nbsp;</th><th>core type</th><th>sub-expressions</th><th>expression</th></tr>\n",
       "<tr><td>0</td><td>Operation</td><td>operator:&nbsp;1<br>operands:&nbsp;2<br></td><td><a class=\"ProveItLink\" href=\"expr.ipynb\"><img src=\"data:image/png;base64,iVBORw0KGgoAAAANSUhEUgAAALsAAAAVCAMAAAApWG/GAAAAQlBMVEX///9bW1sNDQ0JCQkdHR0P\n",
       "Dw8WFhYyMjK6urpERETMzMwQEBAiIiKYmJju7u5mZmaqqqpUVFSIiIh2dnbc3NwAAADXC9tbAAAA\n",
       "AXRSTlMAQObYZgAAAodJREFUSMfVV0di3DAMpOM4IMTe/v/VqLBBBbu3bHSwLBsatMEQEoK5pBX/\n",
       "7aVJ7DJ+TmRGvjBYwvOTWPQL9FBKWC+EV25sxOCcEdkxRrHCAS77s1t4UEe8AiUQFGqc8/l1hQdK\n",
       "kaxdUmbvqjvuj3AF9psv/vD/gjIkccoYo8uUiwcIqJHUYimx3gNjZ6ERM5XMw6Va0cOxSc99BP3n\n",
       "R0/JKVL27N1wJULY/7nAnF+sBqYkxg46rlQv4CSpiVVPTAdjBc5tk7RHcWCt0XWiwlQqrOC6R3dj\n",
       "5yoDtnI4Hq5xNNc+4vZmTjFkH93IMqPdukm4n07i6Yu5ToKfrA4XGdA+2+UynNiFh8NOniP2tKZo\n",
       "08ZeI9Sg915xSnCYB8nKQWcyF5MWrS5ijE6bu/lpdq4YbswIXHPXOOjXtNNOpvX33iCLV11Rs1jI\n",
       "vWSOdVbpbnVggtIlvxl7LC28UMm6zccWYkDCCKW1/v29/hgdnYVu2YQ29CbeO2t0j6O0V7syCa3l\n",
       "4bqlUq0T9TleTqHkqbpKWvb1HWCdNWWcZOZqp0bso+33cNgpY0jseW9IT9zqs7ivXkYqvukH52xp\n",
       "LsJQkqtdGIeEEzxcpCfewRmTd7qLOPgdzHrM0djRDGk/H6x3zpq6z0pytRshJSt4uNoW7GNoYNe6\n",
       "jZt5oo3VMpz2heT6QdgZaBlnle6LAjYoc3RFuszPaqX7Am6OyGJMNqVIxCrDr1PsUlflVwU2PwZL\n",
       "aUA32od1cyLSekuGAOsi5lmdsQ0O5w3sccczXwGIzgiVn3e80TDD7Udv2r1n9rgT0H1A8LvPv7nS\n",
       "09dExuvf4KM+ouzjDhxvmpXDJ8UeHimMt834oG++uA3tX1Z7Jcl7C3lKAAAAAElFTkSuQmCC\n",
       "\" style=\"display:inline;vertical-align:middle;\" /></a></td></tr>\n",
       "<tr><td>1</td><td>Literal</td><td></td><td><a class=\"ProveItLink\" href=\"../../../membership/__pv_it/cc61ce5cf0825a46fd70733410654132b7dd0e550/expr.ipynb\"><img src=\"data:image/png;base64,iVBORw0KGgoAAAANSUhEUgAAAAwAAAAVCAMAAABFcv+GAAAAQlBMVEX///9bW1sNDQ0JCQkdHR0Q\n",
       "EBAPDw8WFhaYmJiIiIgyMjLc3NxERER2dnaqqqpmZmZUVFTMzMwiIiLu7u66uroAAACAfls5AAAA\n",
       "AXRSTlMAQObYZgAAAGtJREFUGNNNTkkSwCAIo7sirQr8/621LhUOYQIhAWCUCsxiQ3Iyi6hW1bt4\n",
       "5OtkrGp0AhTqPFCxEWyiOvO+HdCH2EL0YOZ9K4A97H66L5sQSA40DiKsKf+PBFwnAbckbG4jdsjI\n",
       "PO+dIXPxAnRTBHGTKJqmAAAAAElFTkSuQmCC\n",
       "\" style=\"display:inline;vertical-align:middle;\" /></a></td></tr>\n",
       "<tr><td>2</td><td>ExprTuple</td><td>3, 4</td><td><a class=\"ProveItLink\" href=\"../142f40a86216678c4feb1e39a2adbe9976e3db790/expr.ipynb\"><img src=\"data:image/png;base64,iVBORw0KGgoAAAANSUhEUgAAAKkAAAAVBAMAAADP89MSAAAAMFBMVEX////c3NwiIiJERESqqqqY\n",
       "mJh2dnZmZmYQEBDu7u4yMjJUVFTMzMyIiIi6uroAAAAs73DqAAAAAXRSTlMAQObYZgAAAnRJREFU\n",
       "OMu1lU9o03AUx79ZkzZpmzXC0IOIAxEELyKIRQfrSUEEg4IeBNubp0H9gx4d6A56mAFRvAhFGWP+\n",
       "wYEHcUHWo7jDdtKDSosX0VPnmOKmm++9NDG/n8IuNZDkl2/z++S973u/X4H/c/Qv9Bh4hi9zuloc\n",
       "1ITT62F4oK2J9w5e9rcoiju7Gs4MAbkmPUzp1HynO9gUK1fp1TUZGV5Xyo4Bn8ZUrdQAjlUAurl/\n",
       "GXD8h9zMh892NKPgf9G5yqMjj/YOieTcD4i8qGiYr9HXafJJwA40qHFYXkYYoPgkSo0E6xsNCi+A\n",
       "1xJF/jpXZFTR0GpHEdwFvuihuq4ka9V5sgSbodl9jDnFT4/5cqXC368rGoZZo5wyFVyi4eZ3A28T\n",
       "Iz6byxIN52DWxK9pGA+CuASHeO6K2NBMa8ASIqeydUzQrzVrpx0X3mlzEhScODotfr38cN7nwWDc\n",
       "M7nlJLVEk+TFKbOBcWLD7ZjNuH1hfNeoLQ/OboXQt/gPqvuTbV4Tv+nqoLAneWsuDJc0apnJfppQ\n",
       "kuZzVGqGRZtqUOxASmP/aS+q4w2Nyk1VraUJtlCPqtQSh1b1hXqNhe1NdBvMpHOXSi2yibOVNKEg\n",
       "LV1XqfML0YJhB/aRw14LbhBxB+h8qlK5XaOiJwQpTDZQqS0qTYZbwmrgLK0yv4xtcL6yVQ3uu0Ch\n",
       "cru+mlIJ1Qr6z2nVonYtTspqruMjcOvNnREfzk0PRnnFw4n1yTQ1N0ybxoTeRTPPL6o94FygPWi/\n",
       "dFK+DdtLtkRPWWJSZV9ZdlLT29hIoxVr1eIHq1cb7Eh6J+wVVWqzVcmlB0eBnTR6/Q/zHvgNZDm0\n",
       "VcfASPEAAAAASUVORK5CYII=\n",
       "\" style=\"display:inline;vertical-align:middle;\" /></a></td></tr>\n",
       "<tr><td>3</td><td>Variable</td><td></td><td><a class=\"ProveItLink\" href=\"../../../../../__pv_it/530be409e3083890784cf1d7b28c9e67e90af9360/expr.ipynb\"><img src=\"data:image/png;base64,iVBORw0KGgoAAAANSUhEUgAAAAsAAAAJBAMAAAAWSsseAAAAKlBMVEX///9ERETMzMwQEBAiIiKY\n",
       "mJju7u5mZmaqqqpUVFSIiIh2dnbc3NwAAAA/vyDhAAAAAXRSTlMAQObYZgAAAENJREFUCNdjYDi9\n",
       "8sTyBQxsG1hdmR0YuBm4LnAoMLAxcAowgADzAjB1VoEhgYH1wFoGrgSG3gBhhlMMDImrs3cFMAAA\n",
       "t0YN+iTRa+sAAAAASUVORK5CYII=\n",
       "\" style=\"display:inline;vertical-align:middle;\" /></a></td></tr>\n",
       "<tr><td>4</td><td>Operation</td><td>operator:&nbsp;5<br>operands:&nbsp;6<br></td><td><a class=\"ProveItLink\" href=\"../ca05f1ae440ec2b2ba451031263c1d9ac79d89490/expr.ipynb\"><img src=\"data:image/png;base64,iVBORw0KGgoAAAANSUhEUgAAAIcAAAAPBAMAAAA8KsGMAAAAMFBMVEX///92dnYQEBBERERUVFS6\n",
       "urqIiIhmZmaqqqrc3Nzu7u6YmJgyMjIiIiLMzMwAAACFkkdwAAAAAXRSTlMAQObYZgAAAcdJREFU\n",
       "OMuFU01LAlEUvaZOmjr6E6RlBkm0ikrBgSAC3bV1EbVUaFFt0vZRQYsKAmdTLSpw19KgDyjsg1q2\n",
       "qEVLQyULv6juvTPKe0PQg7nvzXlnztx73n0ANN5BHp54TYtdWsCDkcX8tgzN/mja+av5cm/Ou53d\n",
       "njBAJiFhthDATIiX7s0Orw3gqps/ftFpchVjT6ZsOYlPVMT6bpFja9By7WJ8wqCpVQwZ/hh2Miyt\n",
       "6aBeGbspBAoBEfMOYHAGMTimAEpJpimf5g9xJFOUuSdNXCOVYXwedRHLZKkOej0lwh3T7BUMOcoY\n",
       "nPpGnriUlivAuzWAvVERc7e5JpK7odUq0/xhMMuGfSMjH1fJiFqbm38GEettdY/kgcJb1zqjbEhA\n",
       "Li2LKGjgSVTEfI2/RFKUWZy8UDUtHpZF7Gig0hIxf4XLsYhEKPSzJdgWZ7KIH6OnKmI9LLJuEfmg\n",
       "8+BC0XZfUBYpo9GOuog5mrRKyyLql9mX4EYRb0UWoTbJSdkx36bLIso3hjECj8mDpiyCbaIO6hJW\n",
       "yIJz2WIstUmJstsaugZPpJ0WP1jAe1XMS0cM6vTkkuV0DiN4TVfkK6mw//l/Me7yIxH5BZlGixUX\n",
       "EsWgAAAAAElFTkSuQmCC\n",
       "\" style=\"display:inline;vertical-align:middle;\" /></a></td></tr>\n",
       "<tr><td>5</td><td>Literal</td><td></td><td><a class=\"ProveItLink\" href=\"../b92f67f0486746ea0d6b21767755d70bf02e0a1a0/expr.ipynb\"><img src=\"data:image/png;base64,iVBORw0KGgoAAAANSUhEUgAAAAwAAAAOBAMAAADpk+DfAAAAKlBMVEX///92dnZmZmaYmJiIiIju\n",
       "7u7MzMwiIiJERERUVFQyMjKqqqrc3NwAAABI3Db5AAAAAXRSTlMAQObYZgAAADBJREFUCNdjYGDg\n",
       "OcAABLtWtrcxMHBOZWDIcmAwAoksY1gKojYyFICoTNIpBxAVDAANVw4O+bd0jgAAAABJRU5ErkJg\n",
       "gg==\n",
       "\" style=\"display:inline;vertical-align:middle;\" /></a></td></tr>\n",
       "<tr><td>6</td><td>ExprTuple</td><td>7, 8, 9, 10</td><td><a class=\"ProveItLink\" href=\"../8dc7b16fdb66b67ef402636d7d0da333f49c83890/expr.ipynb\"><img src=\"data:image/png;base64,iVBORw0KGgoAAAANSUhEUgAAAGkAAAAVBAMAAAC3TN2zAAAAMFBMVEX////c3NwiIiJERESqqqqY\n",
       "mJh2dnZmZmYQEBDu7u4yMjJUVFTMzMyIiIi6uroAAAAs73DqAAAAAXRSTlMAQObYZgAAAfBJREFU\n",
       "OMudVDFLW1EU/tJ4G595eQYUBB2cCu2kS6mCYP6Bb3LUbOogBkpbtwTaqUMTOomU8hxEW0EFB8E3\n",
       "JLhmMODgohhcWjpFawuaVnvOPfc2r0OgeuGe953z3XPv98657wH3G17tjglTbKqC921QlZvhzqb1\n",
       "nMPdF7Gchiki9saARIWcT0Jv/d2rcxjI140z68Nb9AV3B8BEBqBHSgSqoZLNOqDIwbbg5SdkFtKG\n",
       "yNJBV8Ak7Syre/Npm3VKaDoreJ3Zr5YgAe5vYAn4JpHaqdWEEZqPZa/EJds+Q4zTjDWBeAYvpZCl\n",
       "Cd9mUbx/VOBgwPaDIb7TdIl9mMOqDnzUb6OH2zw5emRw3o9UnMVB/QQ6ArzTkToGc4ZMnQPvTTGG\n",
       "0pGs1C8yyRsSVsCN3iYMy8OGjBdowQ/Bt9qa6sYb3BZi3YZkeeQGJqt7W3TwKLLpqBiC9532ddYb\n",
       "DlDrHhRsuyievBRc5mMSkT7iNbTCp1xOyupqGCncLq5dyS6cswSdGeebpALM8A1g1VdwLky73Lcl\n",
       "cRSd+SVtCGqXu8aAKn8G9BRXoMavc06Rjnl+G4afSaR2UN14lRHsMPFMv2JXHZ2R4nrRQnvtCL5R\n",
       "KttyVZRTbTAw3/pS/j/L4R4NtPx/vupaG4wky43d9Q9wDPwB+mqFhV2344EAAAAASUVORK5CYII=\n",
       "\" style=\"display:inline;vertical-align:middle;\" /></a></td></tr>\n",
       "<tr><td>7</td><td>Variable</td><td></td><td><a class=\"ProveItLink\" href=\"../../../../../__pv_it/2cbe72a7ad6f655694dd697106680215e8489b600/expr.ipynb\"><img src=\"data:image/png;base64,iVBORw0KGgoAAAANSUhEUgAAAA8AAAAOBAMAAAACpFvcAAAALVBMVEX///8QEBBERERUVFS6urqI\n",
       "iIhmZmaqqqrc3Nzu7u6YmJgyMjIiIiLMzMwAAADtIaYWAAAAAXRSTlMAQObYZgAAAFtJREFUCNdj\n",
       "YACBOwxQsA9Kc52bAGG05zVAGAFxDmCaZULdAjBjCsO9ADDDgaEvAUTzGhvbKYCVMDAwbgAxChgY\n",
       "eASANAeQwf0AyJgNxEwvGRia5HYwcOm9TgAA6BoR3jrzwFcAAAAASUVORK5CYII=\n",
       "\" style=\"display:inline;vertical-align:middle;\" /></a></td></tr>\n",
       "<tr><td>8</td><td>Variable</td><td></td><td><a class=\"ProveItLink\" href=\"../../../../../__pv_it/077b2ff79244fb4582cbe22c6e3356fa92a52f2f0/expr.ipynb\"><img src=\"data:image/png;base64,iVBORw0KGgoAAAANSUhEUgAAABAAAAAOBAMAAADUAYG5AAAAMFBMVEX///+qqqru7u4iIiJ2dnbc\n",
       "3NyIiIjMzMxmZmYQEBC6uroyMjJERERUVFSYmJgAAADLUcuvAAAAAXRSTlMAQObYZgAAAGpJREFU\n",
       "CNdjYGB4+//u3dMLGIBgDgMDxy8gzf4NiP8CGWxfGRj4vgAZPBMYGJgnARn8FxhY9ygAGfXX0pof\n",
       "gDTlBzAw2YIYJ0EckBBI53sHoBH/gIz7AhBjWH9DjancBLTl/N+7t/cxMAAA3u4f/5xagjYAAAAA\n",
       "SUVORK5CYII=\n",
       "\" style=\"display:inline;vertical-align:middle;\" /></a></td></tr>\n",
       "<tr><td>9</td><td>Variable</td><td></td><td><a class=\"ProveItLink\" href=\"../../../../../__pv_it/985a1bdf1540838275dec15f4ad6de261cca93ce0/expr.ipynb\"><img src=\"data:image/png;base64,iVBORw0KGgoAAAANSUhEUgAAAA8AAAAOBAMAAAACpFvcAAAAMFBMVEX////MzMyqqqoiIiIyMjK6\n",
       "uroQEBB2dnbc3NyYmJhmZmZUVFRERESIiIju7u4AAAB204erAAAAAXRSTlMAQObYZgAAAGZJREFU\n",
       "CNdjYGDgu7NrJccCBgaGsgkMrMsmMDA8sQNy6hsYGNweABlhDAxcn4A0QxcDQ78DiPGQgWH9BAYI\n",
       "sG+AMv6DSaCGfBDNJMDAsB+kmwuI5S8AiTog5gSaEwXWIO29SgFIAQBC+RaDQlidVgAAAABJRU5E\n",
       "rkJggg==\n",
       "\" style=\"display:inline;vertical-align:middle;\" /></a></td></tr>\n",
       "<tr><td>10</td><td>Variable</td><td></td><td><a class=\"ProveItLink\" href=\"../../../../../__pv_it/185e6d30f167ee2ee5ef3321098dc98e0d77bc590/expr.ipynb\"><img src=\"data:image/png;base64,iVBORw0KGgoAAAANSUhEUgAAABEAAAAOBAMAAAA7w+qHAAAALVBMVEX///8QEBCYmJjc3Ny6urru\n",
       "7u5mZmZ2dnaqqqrMzMxEREQyMjJUVFSIiIgAAABETr/8AAAAAXRSTlMAQObYZgAAAGpJREFUCNdj\n",
       "YGC48+7MmV0TGEDgNQMDxwsQg/M5kMgLABK8T4DEvAtAgusBkLA7ACT4FoDEDsAk9AqAxD2QCecc\n",
       "gMQ6kAGCIOIVEDM9Ahn3FkgwgnTxvgQSqwOgxs1OADLC1r05cyoTyAAAv4Qe+njAWvgAAAAASUVO\n",
       "RK5CYII=\n",
       "\" style=\"display:inline;vertical-align:middle;\" /></a></td></tr>\n",
       "</table>\n"
      ],
      "text/plain": [
       "0. x not-in (A intersect B intersect C intersect D)\n",
       "   core type: Operation\n",
       "   operator: 1\n",
       "   operands: 2\n",
       "1. not-in\n",
       "   core type: Literal\n",
       "   sub-expressions: \n",
       "2. (x , A intersect B intersect C intersect D)\n",
       "   core type: ExprTuple\n",
       "   sub-expressions: 3, 4\n",
       "3. x\n",
       "   core type: Variable\n",
       "   sub-expressions: \n",
       "4. A intersect B intersect C intersect D\n",
       "   core type: Operation\n",
       "   operator: 5\n",
       "   operands: 6\n",
       "5. intersect\n",
       "   core type: Literal\n",
       "   sub-expressions: \n",
       "6. (A , B , C , D)\n",
       "   core type: ExprTuple\n",
       "   sub-expressions: 7, 8, 9, 10\n",
       "7. A\n",
       "   core type: Variable\n",
       "   sub-expressions: \n",
       "8. B\n",
       "   core type: Variable\n",
       "   sub-expressions: \n",
       "9. C\n",
       "   core type: Variable\n",
       "   sub-expressions: \n",
       "10. D\n",
       "    core type: Variable\n",
       "    sub-expressions: "
      ]
     },
     "execution_count": 4,
     "metadata": {},
     "output_type": "execute_result"
    }
   ],
   "source": [
    "# display the expression information\n",
    "expr.exprInfo()"
   ]
  },
  {
   "cell_type": "code",
   "execution_count": null,
   "metadata": {},
   "outputs": [],
   "source": []
  }
 ],
 "metadata": {
  "kernelspec": {
   "display_name": "Python 3",
   "language": "python",
   "name": "python3"
  }
 },
 "nbformat": 4,
 "nbformat_minor": 0
}
