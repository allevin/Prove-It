{
 "cells": [
  {
   "cell_type": "markdown",
   "metadata": {},
   "source": [
    "Expression of type <a class=\"ProveItLink\" href=\"../../../../../../../doc/html/api/proveit.logic.Set.html\">Set</a>\n",
    "=======================\n",
    "# from context <a class=\"ProveItLink\" href=\"../../_context_.ipynb\">proveit.logic.set_theory.intersection</a>"
   ]
  },
  {
   "cell_type": "code",
   "execution_count": 1,
   "metadata": {},
   "outputs": [],
   "source": [
    "# import Expression classes needed to build the expression\n",
    "from proveit._common_ import A, B, C, x\n",
    "from proveit.logic import InSet, Intersect, Set"
   ]
  },
  {
   "cell_type": "code",
   "execution_count": 2,
   "metadata": {},
   "outputs": [
    {
     "data": {
      "text/html": [
       "<strong id=\"expr\">expr:</strong> <a class=\"ProveItLink\" href=\"expr.ipynb\"><img src=\"data:image/png;base64,iVBORw0KGgoAAAANSUhEUgAAAKcAAAAVBAMAAADROuOhAAAAMFBMVEX///9ERETc3NyqqqpUVFS6\n",
       "urrMzMwyMjIQEBCIiIh2dnYiIiLu7u5mZmaYmJgAAABJJ2g3AAAAAXRSTlMAQObYZgAAAnFJREFU\n",
       "OMtjYGDgu8dAPcC2SgFE8ezCIR9JqoF8ASBTm0FMzg847HSAUBvQxJ/8d3ERD0AV45noe4/pAsM1\n",
       "EPs6iOBqwG4o+wEIBbWTSQEm0cjAwPsVVWzFAwbWGw8Y2MFsfIbOhFCv/4Ap8xJpMagPfgLxFxSx\n",
       "43uAxHoFBr4F2A3lmb57dwGY1QNxjO0nEMXiw8CQPgEswgkU4PuFIlYB8lQEUHMDdkPT30AZrBCj\n",
       "OTnBPn0LIsrAIoxA9dw9yGK8n0EsXSAWRjFUa4ryXJClTDIw03kXgKkY5n8gqgZEWIFF+B0YmAoP\n",
       "IIvpg+0/BsRrYYbyAoV4FvDt4wBFMyM8OtgfgEMjABSEDAzgJJAClsj3nHn7AYrY/QcwTeZA/B7E\n",
       "yAAmDy5gwmJOAHIOwsOBA5xqWBmY/qIZOl+BgWcLith+uEsiQK65ABRtAzmIgUUAIrp7NzSi+MGG\n",
       "pri4fEQzVAJk8ANksf9gcVCI5IMY4kDJiASwwyBRmwJ3KcRQINGOZigoNb1fgCzWD2KAPQoylBsk\n",
       "xwJ2mH4C2KrTCO8bgFQC8Q5UQ9lAEedvgCzmD9LJC/M+OEy5gJJ8CvMZOEFSLPAwZwSxlIG4HtVQ\n",
       "UDJl+o4ilg/y5RoQ7zlykrJ/IMGgCY7trTBDuYDhzQPyhPwBFENByTSjBsVQPmA6jQVH1lpkQw/O\n",
       "OrUS4kb1a7DEv4GBSeK7AsPD/7XIBvDKf3Fxr2NAdX1KyV0DsFApjrxvUg3Npk3IouBoPIdaOGCK\n",
       "4cqmCPCK9BKaawLMUD78RR8p4Di8POXZiV0FkwPJhjqBklwrpBZYjF2JJqlmciZA6ygA7PSviAO1\n",
       "/UMAAAAASUVORK5CYII=\n",
       "\" style=\"display:inline;vertical-align:middle;\" /></a><br>"
      ],
      "text/plain": [
       "expr: {x in (A intersect B intersect C)}"
      ]
     },
     "execution_count": 2,
     "metadata": {},
     "output_type": "execute_result"
    }
   ],
   "source": [
    "# build up the expression from sub-expressions\n",
    "expr = Set(InSet(x, Intersect(A, B, C)))"
   ]
  },
  {
   "cell_type": "code",
   "execution_count": 3,
   "metadata": {},
   "outputs": [
    {
     "name": "stdout",
     "output_type": "stream",
     "text": [
      "Passed sanity check: built 'expr' is the same as the stored Expression.\n"
     ]
    }
   ],
   "source": [
    "# check that the built expression is the same as the stored expression\n",
    "%check_expr"
   ]
  },
  {
   "cell_type": "code",
   "execution_count": 4,
   "metadata": {},
   "outputs": [
    {
     "data": {
      "text/html": [
       "<table><tr><th>&nbsp;</th><th>core type</th><th>sub-expressions</th><th>expression</th></tr>\n",
       "<tr><td>0</td><td>Operation</td><td>operator:&nbsp;1<br>operands:&nbsp;2<br></td><td><a class=\"ProveItLink\" href=\"expr.ipynb\"><img src=\"data:image/png;base64,iVBORw0KGgoAAAANSUhEUgAAAKcAAAAVBAMAAADROuOhAAAAMFBMVEX///9ERETc3NyqqqpUVFS6\n",
       "urrMzMwyMjIQEBCIiIh2dnYiIiLu7u5mZmaYmJgAAABJJ2g3AAAAAXRSTlMAQObYZgAAAnFJREFU\n",
       "OMtjYGDgu8dAPcC2SgFE8ezCIR9JqoF8ASBTm0FMzg847HSAUBvQxJ/8d3ERD0AV45noe4/pAsM1\n",
       "EPs6iOBqwG4o+wEIBbWTSQEm0cjAwPsVVWzFAwbWGw8Y2MFsfIbOhFCv/4Ap8xJpMagPfgLxFxSx\n",
       "43uAxHoFBr4F2A3lmb57dwGY1QNxjO0nEMXiw8CQPgEswgkU4PuFIlYB8lQEUHMDdkPT30AZrBCj\n",
       "OTnBPn0LIsrAIoxA9dw9yGK8n0EsXSAWRjFUa4ryXJClTDIw03kXgKkY5n8gqgZEWIFF+B0YmAoP\n",
       "IIvpg+0/BsRrYYbyAoV4FvDt4wBFMyM8OtgfgEMjABSEDAzgJJAClsj3nHn7AYrY/QcwTeZA/B7E\n",
       "yAAmDy5gwmJOAHIOwsOBA5xqWBmY/qIZOl+BgWcLith+uEsiQK65ABRtAzmIgUUAIrp7NzSi+MGG\n",
       "pri4fEQzVAJk8ANksf9gcVCI5IMY4kDJiASwwyBRmwJ3KcRQINGOZigoNb1fgCzWD2KAPQoylBsk\n",
       "xwJ2mH4C2KrTCO8bgFQC8Q5UQ9lAEedvgCzmD9LJC/M+OEy5gJJ8CvMZOEFSLPAwZwSxlIG4HtVQ\n",
       "UDJl+o4ilg/y5RoQ7zlykrJ/IMGgCY7trTBDuYDhzQPyhPwBFENByTSjBsVQPmA6jQVH1lpkQw/O\n",
       "OrUS4kb1a7DEv4GBSeK7AsPD/7XIBvDKf3Fxr2NAdX1KyV0DsFApjrxvUg3Npk3IouBoPIdaOGCK\n",
       "4cqmCPCK9BKaawLMUD78RR8p4Di8POXZiV0FkwPJhjqBklwrpBZYjF2JJqlmciZA6ygA7PSviAO1\n",
       "/UMAAAAASUVORK5CYII=\n",
       "\" style=\"display:inline;vertical-align:middle;\" /></a></td></tr>\n",
       "<tr><td>1</td><td>Literal</td><td></td><td><a class=\"ProveItLink\" href=\"../../../enumeration/__pv_it/07381ed5b23806e8d7914b78cb6667769e3708dd0/expr.ipynb\"><img src=\"data:image/png;base64,iVBORw0KGgoAAAANSUhEUgAAAB4AAAAOBAMAAADKyLEKAAAAMFBMVEX///8iIiIQEBCIiIjMzMzc\n",
       "3Nyqqqp2dnZEREQyMjK6urru7u5mZmZUVFSYmJgAAACI6eGPAAAAAXRSTlMAQObYZgAAALRJREFU\n",
       "CNdjYGDgu3Nm3wIGBJjHwN0PZW5yYGDgLWBgyITy8zcwMMQDxZyh/INAvD6BgcEFypcB4vjPDiBm\n",
       "TPFRrhs/LjMwMP//38rAwCbKEMPA9gEkE3fp0waG+AUMRxh4JkC01T9guPTOOICBEWgVH5C//wHD\n",
       "H5D4fqCz9oCMDGD4DLaegRXslLMMDMpAgxlOMmQxHDRgYG5gYLBk4D7KcIe7gOHC2rt9QCXsh40Z\n",
       "GCKMGQDRkC8N/Ph1XAAAAABJRU5ErkJggg==\n",
       "\" style=\"display:inline;vertical-align:middle;\" /></a></td></tr>\n",
       "<tr><td>2</td><td>ExprTuple</td><td>3</td><td><a class=\"ProveItLink\" href=\"../570bca5331419a9df373b57cb6d9c5ac958f16600/expr.ipynb\"><img src=\"data:image/png;base64,iVBORw0KGgoAAAANSUhEUgAAAKAAAAAVBAMAAAAz5vjYAAAAMFBMVEX////c3NwiIiJERESqqqqY\n",
       "mJh2dnZmZmYQEBDu7u4yMjJUVFTMzMyIiIi6uroAAAAs73DqAAAAAXRSTlMAQObYZgAAAllJREFU\n",
       "OMutVE1oE0EUfmO62U3STfdQFJTSEhAUwUpRiCI0J4V6cFFQ1IN7Uw9iEWw9FFT0Ug8aWvRQPIhS\n",
       "tFQ0nkQXaY7SHFIQFJTS4MUqCBX/sKWm773ZTWbiIiy48M3PNzvfvL8ZgP/+Zeci6S9xdYyaBFQi\n",
       "l9tLsutp4U/UfX9PTedSr59dEIMwgkPCVKRguii7JTkVTrhwFcD8o3OnXchedCFN/wPY0R7Py+7Q\n",
       "b+4Gpvv2BpavIlY0bmIrNuccMDwgWEXV+He53F0ejUoj9n+lLvMcYFYebCNh/NS4h6SwiJsvMz6r\n",
       "ds0eCzMlZW2bvTtKzSNmErhr3ajKmd9ptAGxkzGE7fr3nW/pMLE7VDY97j61/YAwzPuY6SiBuF9U\n",
       "uW4++w7iFGMS7fSMzRalM9EIfdrlCNQoZACcalkN1Zfz512Nu+SGmwYYNwCSYC+1lXE23vDd4srI\n",
       "gvjVIrjgQGqbxvU2rFhkYJBSkNkhmVwuSEoHC1Z8/1uLYJ5EXZWrM09RqDI46pZMYbPGpSA211sE\n",
       "qWJOeip3kwbsoBS8RvPuMh8x1nS5QH8htuiC7ZSkmYLKzdBOs+nyLqwrZwFsojON+CZo1Il4ogtS\n",
       "GYpljauSd2dodpyBuT7o5qGLs7o9FEwO4oyi2V/UBKkMX01pggbW4UdOjCybD5jcN7fPSts2joSF\n",
       "3QMiv+zA4foDdbPZv+K/mATd6sr0cIGpxwzLUa/KgXvB1buispyyW/pl/5sLrp7hRT4OR+I/rMk5\n",
       "iX8+X3G+iQCbIldFKbbg0wAi+kHsiqtnlxlr/ImpRmL8fcQAAAAASUVORK5CYII=\n",
       "\" style=\"display:inline;vertical-align:middle;\" /></a></td></tr>\n",
       "<tr><td>3</td><td>Operation</td><td>operator:&nbsp;4<br>operands:&nbsp;5<br></td><td><a class=\"ProveItLink\" href=\"../cc2fc0cb82d6ee27427f71b420d3f43a8e9111de0/expr.ipynb\"><img src=\"data:image/png;base64,iVBORw0KGgoAAAANSUhEUgAAAJIAAAAVBAMAAABf4KrdAAAAMFBMVEX///+6uroyMjJERETMzMwQ\n",
       "EBAiIiKYmJju7u5mZmaqqqpUVFSIiIh2dnbc3NwAAAAWgogoAAAAAXRSTlMAQObYZgAAAhtJREFU\n",
       "OMtjYKAtkCFVA7sAdnGWDRAqAU28+v/u3UZoejgO75zON4FhCnaTmBog1AcIl+8BTCKYgYHzI6rY\n",
       "1QIGxqkFDEzYTToDocp+gKlF2mYmULf+AeLfKGJNGUDi/gMG9gvI7jyUlqYAZkVArF35D0Rx72Bg\n",
       "cDoAFuEBCrD/RRFTBTlfFKg5AMkkpwoogxFiHg8P2COVIEIFLMIMVM4WgSzG+QvEegnEVgwMb0+/\n",
       "Ogkyns8CZiQnxKUSXN9BlAaIWAsW4d/AwKfcgCz2HmxpCxDfZOC4wJ7OCookZni4MhWAPSsAChYG\n",
       "BnAEeoMl/PecmVaAIja/AKZpEQMvA88HLgcgsxnuTVZwRDMy8P1EM+n8AwaObBSxfLj1ogwcDNwG\n",
       "EGZaGjTE+cEmee/e/RnNJFOQaQXIYv/B4iAP+4OcAIkYb7ibICYBiSA0k0AJoP4Cslg8iAH2Esik\n",
       "9w5gQ9sQvlsAkgbiVFSTWEAxsH8Bsth+kE5OiO/YH5xn4AHxueGBxwxivQJifVSTQMmJ7xOKmD/I\n",
       "PzdAvCKG9QWmDG/AcZUIM4l3ApAHCjH7BhSTQMnJVQPFJHZgepIEh/pNhuazvXcgrnkEy4WMCQx8\n",
       "pp8eMBT/10TWxWn/e/cmdQZUd3prz1wAFlJEzm6r1aC5JQ5ZFBwf7agZE1MMJbcgQC3pJRrvAXyl\n",
       "CimgCbsw3waSTdqHQ/wNqQbxODAAAEVRik79DmyLAAAAAElFTkSuQmCC\n",
       "\" style=\"display:inline;vertical-align:middle;\" /></a></td></tr>\n",
       "<tr><td>4</td><td>Literal</td><td></td><td><a class=\"ProveItLink\" href=\"../../../membership/__pv_it/088cbc857536a28d4119ad9639a84270ccb0545d0/expr.ipynb\"><img src=\"data:image/png;base64,iVBORw0KGgoAAAANSUhEUgAAAAwAAAAMBAMAAACkW0HUAAAALVBMVEX///+qqqpmZmZUVFQQEBC6\n",
       "urpERETc3NyYmJjMzMwiIiIyMjKIiIju7u4AAACYsrA9AAAAAXRSTlMAQObYZgAAADxJREFUCNdj\n",
       "YOA9vWrVBgaG2b0MQMCeCyIZ2ArA1DUwyRCyahVIyWQI7xaEYm4AU7xLIdxqTQgtvGvVBgCkcQ7e\n",
       "geM/tQAAAABJRU5ErkJggg==\n",
       "\" style=\"display:inline;vertical-align:middle;\" /></a></td></tr>\n",
       "<tr><td>5</td><td>ExprTuple</td><td>6, 7</td><td><a class=\"ProveItLink\" href=\"../bd5616ccc56a67d0ebfc3aad0d858bce9803a9c80/expr.ipynb\"><img src=\"data:image/png;base64,iVBORw0KGgoAAAANSUhEUgAAAIAAAAAVBAMAAAB8u/sIAAAAMFBMVEX////c3NwiIiJERESqqqqY\n",
       "mJh2dnZmZmYQEBDu7u4yMjJUVFTMzMyIiIi6uroAAAAs73DqAAAAAXRSTlMAQObYZgAAAfxJREFU\n",
       "OMtjYKAY8F0gXy/rAyBxGl2URwFN1f7fuzevQ1PEeXl7KWMBQw2QuRLdAK4PEJpRACrAYcDAUP8A\n",
       "VSwjgIGvIoCBi4GBF8MHQT/BlNdqIxuIwHmgkvMbUMRmaQKJfAEG1gQGjglo+hndP4Io7p0MDKcg\n",
       "ht8HWhufgCK2AqTrBdAnDQyv0B3Ay/sPRIWDiDVgEQsg1piALMb+BcQSB2IThjIgKXZb5DrcJy9Z\n",
       "vjLAgsYNLPKbgUHKEkVMfgGINQeI0xmWAt2RwKrKAQt6zgc8f0E0mA+OIZ7fd6+rMqCI1QfArPNi\n",
       "6GNgYGPg/cByAJYsGBi/oxrACwyTSRtQxPRhkQEMB6CHORm4DeBBcHr37s+oBjA3AA35iiL2H6wU\n",
       "FCznGcAhxoGIS2B8d6EawA+0nfUbilg/iAF29HmGFhBb/gADNDZZQCGOasB5oIe5v6CI7QepZod4\n",
       "wRRovMB9Bt4JECNEgHg9qgGgZAAJdrgYKGkxZIJ4UcB4YPAPsGCQZeD8BIoDkEL7CSgGAJMBT9cE\n",
       "FANYgQ56Dg7IdIZHDAyTr03LDWDg7BdgYLT4JcAQ/H85suLi/7t3rwpAjUaG06vLHcBC6xg44DHC\n",
       "J4CcIMHBOhU1kWKKAZMyawI825JRILBdQMrO5BgwC4ilURxIItgIyr4UFGm8BxgA4JKMKT1wf9YA\n",
       "AAAASUVORK5CYII=\n",
       "\" style=\"display:inline;vertical-align:middle;\" /></a></td></tr>\n",
       "<tr><td>6</td><td>Variable</td><td></td><td><a class=\"ProveItLink\" href=\"../../../../../__pv_it/530be409e3083890784cf1d7b28c9e67e90af9360/expr.ipynb\"><img src=\"data:image/png;base64,iVBORw0KGgoAAAANSUhEUgAAAAsAAAAJBAMAAAAWSsseAAAAKlBMVEX///9ERETMzMwQEBAiIiKY\n",
       "mJju7u5mZmaqqqpUVFSIiIh2dnbc3NwAAAA/vyDhAAAAAXRSTlMAQObYZgAAAENJREFUCNdjYDi9\n",
       "8sTyBQxsG1hdmR0YuBm4LnAoMLAxcAowgADzAjB1VoEhgYH1wFoGrgSG3gBhhlMMDImrs3cFMAAA\n",
       "t0YN+iTRa+sAAAAASUVORK5CYII=\n",
       "\" style=\"display:inline;vertical-align:middle;\" /></a></td></tr>\n",
       "<tr><td>7</td><td>Operation</td><td>operator:&nbsp;8<br>operands:&nbsp;9<br></td><td><a class=\"ProveItLink\" href=\"../1314d1c3b378249e737b8a243df75b30831aa9020/expr.ipynb\"><img src=\"data:image/png;base64,iVBORw0KGgoAAAANSUhEUgAAAF8AAAAPBAMAAABw7A4xAAAAMFBMVEX///92dnYQEBBERERUVFS6\n",
       "urqIiIhmZmaqqqrc3Nzu7u6YmJgyMjIiIiLMzMwAAACFkkdwAAAAAXRSTlMAQObYZgAAAUVJREFU\n",
       "KM9jYACBtwyogNv/i4vzUTRBrmT3as4CCPs8VGwmTJLJgIGhPgBVTGgDA2vRBoiB9xeAKI4zzpcf\n",
       "QCTfJwCxA4rYmltAQn4CmD2jHky7LGDgOwbRkA8U2C+AInYIZGgQRDohH2Q7N8h9PBDjjID40gJk\n",
       "MfYfIPHpYFnWBf0gp/GAjOAQAAt9YWCYY4UiNv8ASHwdWHYp2MkMvCA2nwOY/JKWfpsBRax+AyK8\n",
       "AhjmF6BqYPvJwLDWAUXs/gS4ej4XF38DVA3MCkBNv1HE/oPVgkOTFRjsB1A18ANJ7o8oYvrggAcH\n",
       "SQNQXAFVw3ugg1l+oIj5gwxnB3E5gRp4PqBqAEXDfFRbweEiBY5BkJt/oWoARgOfzgIUMW6gheEg\n",
       "j0/WP8nAbf+nAFmy+L+Ly5kNqMHK8ORIeQNqamQDJ8kNBMQAlxRdJqp39+gAAAAASUVORK5CYII=\n",
       "\" style=\"display:inline;vertical-align:middle;\" /></a></td></tr>\n",
       "<tr><td>8</td><td>Literal</td><td></td><td><a class=\"ProveItLink\" href=\"../b92f67f0486746ea0d6b21767755d70bf02e0a1a0/expr.ipynb\"><img src=\"data:image/png;base64,iVBORw0KGgoAAAANSUhEUgAAAAwAAAAOBAMAAADpk+DfAAAAKlBMVEX///92dnZmZmaYmJiIiIju\n",
       "7u7MzMwiIiJERERUVFQyMjKqqqrc3NwAAABI3Db5AAAAAXRSTlMAQObYZgAAADBJREFUCNdjYGDg\n",
       "OcAABLtWtrcxMHBOZWDIcmAwAoksY1gKojYyFICoTNIpBxAVDAANVw4O+bd0jgAAAABJRU5ErkJg\n",
       "gg==\n",
       "\" style=\"display:inline;vertical-align:middle;\" /></a></td></tr>\n",
       "<tr><td>9</td><td>ExprTuple</td><td>10, 11, 12</td><td><a class=\"ProveItLink\" href=\"../3f290ae5514e8ababf154639022a3e6aa30f85750/expr.ipynb\"><img src=\"data:image/png;base64,iVBORw0KGgoAAAANSUhEUgAAAE8AAAAVBAMAAAD1D64kAAAAMFBMVEX////c3NwiIiJERESqqqqY\n",
       "mJh2dnZmZmYQEBDu7u4yMjJUVFTMzMyIiIi6uroAAAAs73DqAAAAAXRSTlMAQObYZgAAAZVJREFU\n",
       "KM+NUztLA0EQ/mI8k8vjDCgIWqQStEoaQSvzD0xlqenUQjwQH11SWFmYw0pE5CwEH6CChcUVCbYp\n",
       "ErCwURJsFKsoUdCAcXbn1iSFmoWb+765b3Yeuwd0vIzS/5oZYQqMr5VTy9WdyzPF9JurFY/pyxM8\n",
       "Zs/5T7g/DqQrLplPwlhPwgbCnFmLWUpYJE/xgvHuKJmlCKYpngX96YgSlgnNphgfia9PwA7wzJ5S\n",
       "WSXDOD0jHO6rCTsAeBNY5datqaQS1oHBCYZRW9g9oMfEofTsy8rkCtXvb4ddnFbR3Ta2JKggarq+\n",
       "8Auw7fYSU4UbGXzJXRwnF3d93gyJ3xg3pKV6Q1UWGtS97Qp7aTftnXFWps1L4YbACaAro8ZIdQVr\n",
       "jHOieR+nHqOXh4SBqszBYxTdWu7ssSDOw8acmL8o7QP6qzvG0KbFRKOdH0VDNJ4HoC97AG3y09Sz\n",
       "5FtuOM4JZZcEhdO1hIgOVOCPtNy4CH4hdIRaqkm11jvYRhab1+xPoS5mN9TkbXe9lQRFGZ4OfoU7\n",
       "4BvUnmWyIUTp6gAAAABJRU5ErkJggg==\n",
       "\" style=\"display:inline;vertical-align:middle;\" /></a></td></tr>\n",
       "<tr><td>10</td><td>Variable</td><td></td><td><a class=\"ProveItLink\" href=\"../../../../../__pv_it/2cbe72a7ad6f655694dd697106680215e8489b600/expr.ipynb\"><img src=\"data:image/png;base64,iVBORw0KGgoAAAANSUhEUgAAAA8AAAAOBAMAAAACpFvcAAAALVBMVEX///8QEBBERERUVFS6urqI\n",
       "iIhmZmaqqqrc3Nzu7u6YmJgyMjIiIiLMzMwAAADtIaYWAAAAAXRSTlMAQObYZgAAAFtJREFUCNdj\n",
       "YACBOwxQsA9Kc52bAGG05zVAGAFxDmCaZULdAjBjCsO9ADDDgaEvAUTzGhvbKYCVMDAwbgAxChgY\n",
       "eASANAeQwf0AyJgNxEwvGRia5HYwcOm9TgAA6BoR3jrzwFcAAAAASUVORK5CYII=\n",
       "\" style=\"display:inline;vertical-align:middle;\" /></a></td></tr>\n",
       "<tr><td>11</td><td>Variable</td><td></td><td><a class=\"ProveItLink\" href=\"../../../../../__pv_it/077b2ff79244fb4582cbe22c6e3356fa92a52f2f0/expr.ipynb\"><img src=\"data:image/png;base64,iVBORw0KGgoAAAANSUhEUgAAABAAAAAOBAMAAADUAYG5AAAAMFBMVEX///+qqqru7u4iIiJ2dnbc\n",
       "3NyIiIjMzMxmZmYQEBC6uroyMjJERERUVFSYmJgAAADLUcuvAAAAAXRSTlMAQObYZgAAAGpJREFU\n",
       "CNdjYGB4+//u3dMLGIBgDgMDxy8gzf4NiP8CGWxfGRj4vgAZPBMYGJgnARn8FxhY9ygAGfXX0pof\n",
       "gDTlBzAw2YIYJ0EckBBI53sHoBH/gIz7AhBjWH9DjancBLTl/N+7t/cxMAAA3u4f/5xagjYAAAAA\n",
       "SUVORK5CYII=\n",
       "\" style=\"display:inline;vertical-align:middle;\" /></a></td></tr>\n",
       "<tr><td>12</td><td>Variable</td><td></td><td><a class=\"ProveItLink\" href=\"../../../../../__pv_it/985a1bdf1540838275dec15f4ad6de261cca93ce0/expr.ipynb\"><img src=\"data:image/png;base64,iVBORw0KGgoAAAANSUhEUgAAAA8AAAAOBAMAAAACpFvcAAAAMFBMVEX////MzMyqqqoiIiIyMjK6\n",
       "uroQEBB2dnbc3NyYmJhmZmZUVFRERESIiIju7u4AAAB204erAAAAAXRSTlMAQObYZgAAAGZJREFU\n",
       "CNdjYGDgu7NrJccCBgaGsgkMrMsmMDA8sQNy6hsYGNweABlhDAxcn4A0QxcDQ78DiPGQgWH9BAYI\n",
       "sG+AMv6DSaCGfBDNJMDAsB+kmwuI5S8AiTog5gSaEwXWIO29SgFIAQBC+RaDQlidVgAAAABJRU5E\n",
       "rkJggg==\n",
       "\" style=\"display:inline;vertical-align:middle;\" /></a></td></tr>\n",
       "</table>\n"
      ],
      "text/plain": [
       "0. {x in (A intersect B intersect C)}\n",
       "   core type: Operation\n",
       "   operator: 1\n",
       "   operands: 2\n",
       "1. Set\n",
       "   core type: Literal\n",
       "   sub-expressions: \n",
       "2. (x in (A intersect B intersect C))\n",
       "   core type: ExprTuple\n",
       "   sub-expressions: 3\n",
       "3. x in (A intersect B intersect C)\n",
       "   core type: Operation\n",
       "   operator: 4\n",
       "   operands: 5\n",
       "4. in\n",
       "   core type: Literal\n",
       "   sub-expressions: \n",
       "5. (x , A intersect B intersect C)\n",
       "   core type: ExprTuple\n",
       "   sub-expressions: 6, 7\n",
       "6. x\n",
       "   core type: Variable\n",
       "   sub-expressions: \n",
       "7. A intersect B intersect C\n",
       "   core type: Operation\n",
       "   operator: 8\n",
       "   operands: 9\n",
       "8. intersect\n",
       "   core type: Literal\n",
       "   sub-expressions: \n",
       "9. (A , B , C)\n",
       "   core type: ExprTuple\n",
       "   sub-expressions: 10, 11, 12\n",
       "10. A\n",
       "    core type: Variable\n",
       "    sub-expressions: \n",
       "11. B\n",
       "    core type: Variable\n",
       "    sub-expressions: \n",
       "12. C\n",
       "    core type: Variable\n",
       "    sub-expressions: "
      ]
     },
     "execution_count": 4,
     "metadata": {},
     "output_type": "execute_result"
    }
   ],
   "source": [
    "# display the expression information\n",
    "expr.exprInfo()"
   ]
  },
  {
   "cell_type": "code",
   "execution_count": null,
   "metadata": {},
   "outputs": [],
   "source": []
  }
 ],
 "metadata": {
  "kernelspec": {
   "display_name": "Python 3",
   "language": "python",
   "name": "python3"
  }
 },
 "nbformat": 4,
 "nbformat_minor": 0
}
