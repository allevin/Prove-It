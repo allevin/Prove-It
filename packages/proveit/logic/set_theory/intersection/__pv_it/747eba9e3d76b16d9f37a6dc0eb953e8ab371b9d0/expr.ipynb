{
 "cells": [
  {
   "cell_type": "markdown",
   "metadata": {},
   "source": [
    "Expression of type <a class=\"ProveItLink\" href=\"../../../../../../../doc/html/api/proveit.logic.NotInSet.html\">NotInSet</a>\n",
    "=======================\n",
    "# from context <a class=\"ProveItLink\" href=\"../../_context_.ipynb\">proveit.logic.set_theory.intersection</a>"
   ]
  },
  {
   "cell_type": "code",
   "execution_count": 1,
   "metadata": {},
   "outputs": [],
   "source": [
    "# import Expression classes needed to build the expression\n",
    "from proveit._common_ import A, B, C, x\n",
    "from proveit.logic import Intersect, NotInSet"
   ]
  },
  {
   "cell_type": "code",
   "execution_count": 2,
   "metadata": {},
   "outputs": [
    {
     "data": {
      "text/html": [
       "<strong id=\"expr\">expr:</strong> <a class=\"ProveItLink\" href=\"expr.ipynb\"><img src=\"data:image/png;base64,iVBORw0KGgoAAAANSUhEUgAAAJIAAAAVCAMAAACaEEfcAAAARVBMVEX///8sLCxlZWUbGxsJCQkd\n",
       "HR0PDw8WFhYyMjK6urpERETMzMwQEBAiIiKYmJju7u5mZmaqqqpUVFSIiIh2dnbc3NwAAADC7K9Z\n",
       "AAAAAXRSTlMAQObYZgAAAjFJREFUSMfNVtuWpCAMdK8TEAIGyP9/6uIFDI3Q+7AzZ3npVktSVCqJ\n",
       "yzJZyi3/27INJRU+PSCqN4CVJlf23e7ETHlpeBPGBU3e45J8vvDrHOybzaCRDLjFptS9bvS5C6sZ\n",
       "Lho8UuDPX3iTN3kRmrShZcFwAyBtdXvClcP1S2Ocg2KOyAdZjEMxwdqP35KykSKlzfN9XKLj2QoN\n",
       "63AhkOMYB3VbZc7IZmAiwIzUUmPVKBpywJoO9DWA1Elfm9sS9QHneaunvJ7q/U6KgdIWfOWetDs0\n",
       "bXwV2+awMfYm2yTozFcC7Ya4xHcMd9GMmZqLuzVwMdU6pzyteQBFWtXtlMZysiizhUII3uIyxnnG\n",
       "LkNbZhmPvOf/RU2nHyrMiLJRxwH9nNJlJWdpjLPc1+nuqT0y6eamzevXT2tF6kQlr3u7IdZzSsVK\n",
       "oSrR41h0ElfVvTQIXU+MW0NeUDr/GZhTKqV/F1yPMzelmqOLUuJV8HS2a0r57cpwK4U0pbQWcagW\n",
       "VY+ju7l5mThMh5WWUB8T7t20paSxtqTX9v1IqXQlUVQ97q6RWIMjHNW85z3duXNWLfQybKIv7bZw\n",
       "rCd8pHRZaTV3lTzg8JRQ+SQDOR2iizHIckzgf7wWgj07lmHYX0fNDH4Yyutz5oLsHU/UV4I8c6Vt\n",
       "h1P6+7c8UWwzUNJoFAp5cTYy/wo3Gigvw2SZzsN/u+Looyzp/h58xSemG36chAdlE30BJRraQz9K\n",
       "9/kfumGv8z+P0yACRvTRLAAAAABJRU5ErkJggg==\n",
       "\" style=\"display:inline;vertical-align:middle;\" /></a><br>"
      ],
      "text/plain": [
       "expr: x not-in (A intersect B intersect C)"
      ]
     },
     "execution_count": 2,
     "metadata": {},
     "output_type": "execute_result"
    }
   ],
   "source": [
    "# build up the expression from sub-expressions\n",
    "expr = NotInSet(x, Intersect(A, B, C))"
   ]
  },
  {
   "cell_type": "code",
   "execution_count": 3,
   "metadata": {},
   "outputs": [
    {
     "name": "stdout",
     "output_type": "stream",
     "text": [
      "Passed sanity check: built 'expr' is the same as the stored Expression.\n"
     ]
    }
   ],
   "source": [
    "# check that the built expression is the same as the stored expression\n",
    "%check_expr"
   ]
  },
  {
   "cell_type": "code",
   "execution_count": 4,
   "metadata": {},
   "outputs": [
    {
     "data": {
      "text/html": [
       "<table><tr><th>&nbsp;</th><th>core type</th><th>sub-expressions</th><th>expression</th></tr>\n",
       "<tr><td>0</td><td>Operation</td><td>operator:&nbsp;1<br>operands:&nbsp;2<br></td><td><a class=\"ProveItLink\" href=\"expr.ipynb\"><img src=\"data:image/png;base64,iVBORw0KGgoAAAANSUhEUgAAAJIAAAAVCAMAAACaEEfcAAAARVBMVEX///8sLCxlZWUbGxsJCQkd\n",
       "HR0PDw8WFhYyMjK6urpERETMzMwQEBAiIiKYmJju7u5mZmaqqqpUVFSIiIh2dnbc3NwAAADC7K9Z\n",
       "AAAAAXRSTlMAQObYZgAAAjFJREFUSMfNVtuWpCAMdK8TEAIGyP9/6uIFDI3Q+7AzZ3npVktSVCqJ\n",
       "yzJZyi3/27INJRU+PSCqN4CVJlf23e7ETHlpeBPGBU3e45J8vvDrHOybzaCRDLjFptS9bvS5C6sZ\n",
       "Lho8UuDPX3iTN3kRmrShZcFwAyBtdXvClcP1S2Ocg2KOyAdZjEMxwdqP35KykSKlzfN9XKLj2QoN\n",
       "63AhkOMYB3VbZc7IZmAiwIzUUmPVKBpywJoO9DWA1Elfm9sS9QHneaunvJ7q/U6KgdIWfOWetDs0\n",
       "bXwV2+awMfYm2yTozFcC7Ya4xHcMd9GMmZqLuzVwMdU6pzyteQBFWtXtlMZysiizhUII3uIyxnnG\n",
       "LkNbZhmPvOf/RU2nHyrMiLJRxwH9nNJlJWdpjLPc1+nuqT0y6eamzevXT2tF6kQlr3u7IdZzSsVK\n",
       "oSrR41h0ElfVvTQIXU+MW0NeUDr/GZhTKqV/F1yPMzelmqOLUuJV8HS2a0r57cpwK4U0pbQWcagW\n",
       "VY+ju7l5mThMh5WWUB8T7t20paSxtqTX9v1IqXQlUVQ97q6RWIMjHNW85z3duXNWLfQybKIv7bZw\n",
       "rCd8pHRZaTV3lTzg8JRQ+SQDOR2iizHIckzgf7wWgj07lmHYX0fNDH4Yyutz5oLsHU/UV4I8c6Vt\n",
       "h1P6+7c8UWwzUNJoFAp5cTYy/wo3Gigvw2SZzsN/u+Looyzp/h58xSemG36chAdlE30BJRraQz9K\n",
       "9/kfumGv8z+P0yACRvTRLAAAAABJRU5ErkJggg==\n",
       "\" style=\"display:inline;vertical-align:middle;\" /></a></td></tr>\n",
       "<tr><td>1</td><td>Literal</td><td></td><td><a class=\"ProveItLink\" href=\"../../../membership/__pv_it/cc61ce5cf0825a46fd70733410654132b7dd0e550/expr.ipynb\"><img src=\"data:image/png;base64,iVBORw0KGgoAAAANSUhEUgAAAAwAAAAVCAMAAABFcv+GAAAAQlBMVEX///9bW1sNDQ0JCQkdHR0Q\n",
       "EBAPDw8WFhaYmJiIiIgyMjLc3NxERER2dnaqqqpmZmZUVFTMzMwiIiLu7u66uroAAACAfls5AAAA\n",
       "AXRSTlMAQObYZgAAAGtJREFUGNNNTkkSwCAIo7sirQr8/621LhUOYQIhAWCUCsxiQ3Iyi6hW1bt4\n",
       "5OtkrGp0AhTqPFCxEWyiOvO+HdCH2EL0YOZ9K4A97H66L5sQSA40DiKsKf+PBFwnAbckbG4jdsjI\n",
       "PO+dIXPxAnRTBHGTKJqmAAAAAElFTkSuQmCC\n",
       "\" style=\"display:inline;vertical-align:middle;\" /></a></td></tr>\n",
       "<tr><td>2</td><td>ExprTuple</td><td>3, 4</td><td><a class=\"ProveItLink\" href=\"../bd5616ccc56a67d0ebfc3aad0d858bce9803a9c80/expr.ipynb\"><img src=\"data:image/png;base64,iVBORw0KGgoAAAANSUhEUgAAAIAAAAAVBAMAAAB8u/sIAAAAMFBMVEX////c3NwiIiJERESqqqqY\n",
       "mJh2dnZmZmYQEBDu7u4yMjJUVFTMzMyIiIi6uroAAAAs73DqAAAAAXRSTlMAQObYZgAAAfxJREFU\n",
       "OMtjYKAY8F0gXy/rAyBxGl2URwFN1f7fuzevQ1PEeXl7KWMBQw2QuRLdAK4PEJpRACrAYcDAUP8A\n",
       "VSwjgIGvIoCBi4GBF8MHQT/BlNdqIxuIwHmgkvMbUMRmaQKJfAEG1gQGjglo+hndP4Io7p0MDKcg\n",
       "ht8HWhufgCK2AqTrBdAnDQyv0B3Ay/sPRIWDiDVgEQsg1piALMb+BcQSB2IThjIgKXZb5DrcJy9Z\n",
       "vjLAgsYNLPKbgUHKEkVMfgGINQeI0xmWAt2RwKrKAQt6zgc8f0E0mA+OIZ7fd6+rMqCI1QfArPNi\n",
       "6GNgYGPg/cByAJYsGBi/oxrACwyTSRtQxPRhkQEMB6CHORm4DeBBcHr37s+oBjA3AA35iiL2H6wU\n",
       "FCznGcAhxoGIS2B8d6EawA+0nfUbilg/iAF29HmGFhBb/gADNDZZQCGOasB5oIe5v6CI7QepZod4\n",
       "wRRovMB9Bt4JECNEgHg9qgGgZAAJdrgYKGkxZIJ4UcB4YPAPsGCQZeD8BIoDkEL7CSgGAJMBT9cE\n",
       "FANYgQ56Dg7IdIZHDAyTr03LDWDg7BdgYLT4JcAQ/H85suLi/7t3rwpAjUaG06vLHcBC6xg44DHC\n",
       "J4CcIMHBOhU1kWKKAZMyawI825JRILBdQMrO5BgwC4ilURxIItgIyr4UFGm8BxgA4JKMKT1wf9YA\n",
       "AAAASUVORK5CYII=\n",
       "\" style=\"display:inline;vertical-align:middle;\" /></a></td></tr>\n",
       "<tr><td>3</td><td>Variable</td><td></td><td><a class=\"ProveItLink\" href=\"../../../../../__pv_it/530be409e3083890784cf1d7b28c9e67e90af9360/expr.ipynb\"><img src=\"data:image/png;base64,iVBORw0KGgoAAAANSUhEUgAAAAsAAAAJBAMAAAAWSsseAAAAKlBMVEX///9ERETMzMwQEBAiIiKY\n",
       "mJju7u5mZmaqqqpUVFSIiIh2dnbc3NwAAAA/vyDhAAAAAXRSTlMAQObYZgAAAENJREFUCNdjYDi9\n",
       "8sTyBQxsG1hdmR0YuBm4LnAoMLAxcAowgADzAjB1VoEhgYH1wFoGrgSG3gBhhlMMDImrs3cFMAAA\n",
       "t0YN+iTRa+sAAAAASUVORK5CYII=\n",
       "\" style=\"display:inline;vertical-align:middle;\" /></a></td></tr>\n",
       "<tr><td>4</td><td>Operation</td><td>operator:&nbsp;5<br>operands:&nbsp;6<br></td><td><a class=\"ProveItLink\" href=\"../1314d1c3b378249e737b8a243df75b30831aa9020/expr.ipynb\"><img src=\"data:image/png;base64,iVBORw0KGgoAAAANSUhEUgAAAF8AAAAPBAMAAABw7A4xAAAAMFBMVEX///92dnYQEBBERERUVFS6\n",
       "urqIiIhmZmaqqqrc3Nzu7u6YmJgyMjIiIiLMzMwAAACFkkdwAAAAAXRSTlMAQObYZgAAAUVJREFU\n",
       "KM9jYACBtwyogNv/i4vzUTRBrmT3as4CCPs8VGwmTJLJgIGhPgBVTGgDA2vRBoiB9xeAKI4zzpcf\n",
       "QCTfJwCxA4rYmltAQn4CmD2jHky7LGDgOwbRkA8U2C+AInYIZGgQRDohH2Q7N8h9PBDjjID40gJk\n",
       "MfYfIPHpYFnWBf0gp/GAjOAQAAt9YWCYY4UiNv8ASHwdWHYp2MkMvCA2nwOY/JKWfpsBRax+AyK8\n",
       "AhjmF6BqYPvJwLDWAUXs/gS4ej4XF38DVA3MCkBNv1HE/oPVgkOTFRjsB1A18ANJ7o8oYvrggAcH\n",
       "SQNQXAFVw3ugg1l+oIj5gwxnB3E5gRp4PqBqAEXDfFRbweEiBY5BkJt/oWoARgOfzgIUMW6gheEg\n",
       "j0/WP8nAbf+nAFmy+L+Ly5kNqMHK8ORIeQNqamQDJ8kNBMQAlxRdJqp39+gAAAAASUVORK5CYII=\n",
       "\" style=\"display:inline;vertical-align:middle;\" /></a></td></tr>\n",
       "<tr><td>5</td><td>Literal</td><td></td><td><a class=\"ProveItLink\" href=\"../b92f67f0486746ea0d6b21767755d70bf02e0a1a0/expr.ipynb\"><img src=\"data:image/png;base64,iVBORw0KGgoAAAANSUhEUgAAAAwAAAAOBAMAAADpk+DfAAAAKlBMVEX///92dnZmZmaYmJiIiIju\n",
       "7u7MzMwiIiJERERUVFQyMjKqqqrc3NwAAABI3Db5AAAAAXRSTlMAQObYZgAAADBJREFUCNdjYGDg\n",
       "OcAABLtWtrcxMHBOZWDIcmAwAoksY1gKojYyFICoTNIpBxAVDAANVw4O+bd0jgAAAABJRU5ErkJg\n",
       "gg==\n",
       "\" style=\"display:inline;vertical-align:middle;\" /></a></td></tr>\n",
       "<tr><td>6</td><td>ExprTuple</td><td>7, 8, 9</td><td><a class=\"ProveItLink\" href=\"../3f290ae5514e8ababf154639022a3e6aa30f85750/expr.ipynb\"><img src=\"data:image/png;base64,iVBORw0KGgoAAAANSUhEUgAAAE8AAAAVBAMAAAD1D64kAAAAMFBMVEX////c3NwiIiJERESqqqqY\n",
       "mJh2dnZmZmYQEBDu7u4yMjJUVFTMzMyIiIi6uroAAAAs73DqAAAAAXRSTlMAQObYZgAAAZVJREFU\n",
       "KM+NUztLA0EQ/mI8k8vjDCgIWqQStEoaQSvzD0xlqenUQjwQH11SWFmYw0pE5CwEH6CChcUVCbYp\n",
       "ErCwURJsFKsoUdCAcXbn1iSFmoWb+765b3Yeuwd0vIzS/5oZYQqMr5VTy9WdyzPF9JurFY/pyxM8\n",
       "Zs/5T7g/DqQrLplPwlhPwgbCnFmLWUpYJE/xgvHuKJmlCKYpngX96YgSlgnNphgfia9PwA7wzJ5S\n",
       "WSXDOD0jHO6rCTsAeBNY5datqaQS1oHBCYZRW9g9oMfEofTsy8rkCtXvb4ddnFbR3Ta2JKggarq+\n",
       "8Auw7fYSU4UbGXzJXRwnF3d93gyJ3xg3pKV6Q1UWGtS97Qp7aTftnXFWps1L4YbACaAro8ZIdQVr\n",
       "jHOieR+nHqOXh4SBqszBYxTdWu7ssSDOw8acmL8o7QP6qzvG0KbFRKOdH0VDNJ4HoC97AG3y09Sz\n",
       "5FtuOM4JZZcEhdO1hIgOVOCPtNy4CH4hdIRaqkm11jvYRhab1+xPoS5mN9TkbXe9lQRFGZ4OfoU7\n",
       "4BvUnmWyIUTp6gAAAABJRU5ErkJggg==\n",
       "\" style=\"display:inline;vertical-align:middle;\" /></a></td></tr>\n",
       "<tr><td>7</td><td>Variable</td><td></td><td><a class=\"ProveItLink\" href=\"../../../../../__pv_it/2cbe72a7ad6f655694dd697106680215e8489b600/expr.ipynb\"><img src=\"data:image/png;base64,iVBORw0KGgoAAAANSUhEUgAAAA8AAAAOBAMAAAACpFvcAAAALVBMVEX///8QEBBERERUVFS6urqI\n",
       "iIhmZmaqqqrc3Nzu7u6YmJgyMjIiIiLMzMwAAADtIaYWAAAAAXRSTlMAQObYZgAAAFtJREFUCNdj\n",
       "YACBOwxQsA9Kc52bAGG05zVAGAFxDmCaZULdAjBjCsO9ADDDgaEvAUTzGhvbKYCVMDAwbgAxChgY\n",
       "eASANAeQwf0AyJgNxEwvGRia5HYwcOm9TgAA6BoR3jrzwFcAAAAASUVORK5CYII=\n",
       "\" style=\"display:inline;vertical-align:middle;\" /></a></td></tr>\n",
       "<tr><td>8</td><td>Variable</td><td></td><td><a class=\"ProveItLink\" href=\"../../../../../__pv_it/077b2ff79244fb4582cbe22c6e3356fa92a52f2f0/expr.ipynb\"><img src=\"data:image/png;base64,iVBORw0KGgoAAAANSUhEUgAAABAAAAAOBAMAAADUAYG5AAAAMFBMVEX///+qqqru7u4iIiJ2dnbc\n",
       "3NyIiIjMzMxmZmYQEBC6uroyMjJERERUVFSYmJgAAADLUcuvAAAAAXRSTlMAQObYZgAAAGpJREFU\n",
       "CNdjYGB4+//u3dMLGIBgDgMDxy8gzf4NiP8CGWxfGRj4vgAZPBMYGJgnARn8FxhY9ygAGfXX0pof\n",
       "gDTlBzAw2YIYJ0EckBBI53sHoBH/gIz7AhBjWH9DjancBLTl/N+7t/cxMAAA3u4f/5xagjYAAAAA\n",
       "SUVORK5CYII=\n",
       "\" style=\"display:inline;vertical-align:middle;\" /></a></td></tr>\n",
       "<tr><td>9</td><td>Variable</td><td></td><td><a class=\"ProveItLink\" href=\"../../../../../__pv_it/985a1bdf1540838275dec15f4ad6de261cca93ce0/expr.ipynb\"><img src=\"data:image/png;base64,iVBORw0KGgoAAAANSUhEUgAAAA8AAAAOBAMAAAACpFvcAAAAMFBMVEX////MzMyqqqoiIiIyMjK6\n",
       "uroQEBB2dnbc3NyYmJhmZmZUVFRERESIiIju7u4AAAB204erAAAAAXRSTlMAQObYZgAAAGZJREFU\n",
       "CNdjYGDgu7NrJccCBgaGsgkMrMsmMDA8sQNy6hsYGNweABlhDAxcn4A0QxcDQ78DiPGQgWH9BAYI\n",
       "sG+AMv6DSaCGfBDNJMDAsB+kmwuI5S8AiTog5gSaEwXWIO29SgFIAQBC+RaDQlidVgAAAABJRU5E\n",
       "rkJggg==\n",
       "\" style=\"display:inline;vertical-align:middle;\" /></a></td></tr>\n",
       "</table>\n"
      ],
      "text/plain": [
       "0. x not-in (A intersect B intersect C)\n",
       "   core type: Operation\n",
       "   operator: 1\n",
       "   operands: 2\n",
       "1. not-in\n",
       "   core type: Literal\n",
       "   sub-expressions: \n",
       "2. (x , A intersect B intersect C)\n",
       "   core type: ExprTuple\n",
       "   sub-expressions: 3, 4\n",
       "3. x\n",
       "   core type: Variable\n",
       "   sub-expressions: \n",
       "4. A intersect B intersect C\n",
       "   core type: Operation\n",
       "   operator: 5\n",
       "   operands: 6\n",
       "5. intersect\n",
       "   core type: Literal\n",
       "   sub-expressions: \n",
       "6. (A , B , C)\n",
       "   core type: ExprTuple\n",
       "   sub-expressions: 7, 8, 9\n",
       "7. A\n",
       "   core type: Variable\n",
       "   sub-expressions: \n",
       "8. B\n",
       "   core type: Variable\n",
       "   sub-expressions: \n",
       "9. C\n",
       "   core type: Variable\n",
       "   sub-expressions: "
      ]
     },
     "execution_count": 4,
     "metadata": {},
     "output_type": "execute_result"
    }
   ],
   "source": [
    "# display the expression information\n",
    "expr.exprInfo()"
   ]
  },
  {
   "cell_type": "code",
   "execution_count": null,
   "metadata": {},
   "outputs": [],
   "source": []
  }
 ],
 "metadata": {
  "kernelspec": {
   "display_name": "Python 3",
   "language": "python",
   "name": "python3"
  }
 },
 "nbformat": 4,
 "nbformat_minor": 0
}
