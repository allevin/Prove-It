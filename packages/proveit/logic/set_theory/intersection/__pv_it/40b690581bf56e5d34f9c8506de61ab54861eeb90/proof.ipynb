{
 "cells": [
  {
   "cell_type": "markdown",
   "metadata": {},
   "source": [
    "Show the Proof\n",
    "========"
   ]
  },
  {
   "cell_type": "code",
   "execution_count": 1,
   "metadata": {},
   "outputs": [
    {
     "data": {
      "text/html": [
       "<table><tr><th>&nbsp;</th><th>step type</th><th>requirements</th><th>statement</th></tr>\n",
       "<tr><td>0</td><td>assumption</td><td></td><td><span style=\"font-size:20px;\"><a class=\"ProveItLink\" href=\"../55f8d26040826f0182e47952faa33f1f0e49c5000/expr.ipynb\"><img src=\"data:image/png;base64,iVBORw0KGgoAAAANSUhEUgAAAKcAAAAVBAMAAADROuOhAAAAMFBMVEX///9ERETc3NyqqqpUVFS6\n",
       "urrMzMwyMjIQEBCIiIh2dnYiIiLu7u5mZmaYmJgAAABJJ2g3AAAAAXRSTlMAQObYZgAAAnFJREFU\n",
       "OMtjYGDgu8dAPcC2SgFE8ezCIR9JqoF8ASBTm0FMzg847HSAUBvQxJ/8d3ERD0AV45noe4/pAsM1\n",
       "EPs6iOBqwG4o+wEIBbWTSQEm0cjAwPsVVWzFAwbWGw8Y2MFsfIbOhFCv/4Ap8xJpMagPfgLxFxSx\n",
       "43uAxHoFBr4F2A3lmb57dwGY1QNxjO0nEMXiw8CQPgEswgkU4PuFIlYB8lQEUHMDdkPT30AZrBCj\n",
       "OTnBPn0LIsrAIoxA9dw9yGK8n0EsXSAWRjFUa4ryXJClTDIw03kXgKkY5n8gqgZEWIFF+B0YmAoP\n",
       "IIvpg+0/BsRrYYbyAoV4FvDt4wBFMyM8OtgfgEMjABSEDAzgJJAClsj3nHn7AYrY/QcwTeZA/B7E\n",
       "yAAmDy5gwmJOAHIOwsOBA5xqWBmY/qIZOl+BgWcLith+uEsiQK65ABRtAzmIgUUAIrp7NzSi+MGG\n",
       "pri4fEQzVAJk8ANksf9gcVCI5IMY4kDJiASwwyBRmwJ3KcRQINGOZigoNb1fgCzWD2KAPQoylBsk\n",
       "xwJ2mH4C2KrTCO8bgFQC8Q5UQ9lAEedvgCzmD9LJC/M+OEy5gJJ8CvMZOEFSLPAwZwSxlIG4HtVQ\n",
       "UDJl+o4ilg/y5RoQ7zlykrJ/IMGgCY7trTBDuYDhzQPyhPwBFENByTSjBsVQPmA6jQVH1lpkQw/O\n",
       "OrUS4kb1a7DEv4GBSeK7AsPD/7XIBvDKf3Fxr2NAdX1KyV0DsFApjrxvUg3Npk3IouBoPIdaOGCK\n",
       "4cqmCPCK9BKaawLMUD78RR8p4Di8POXZiV0FkwPJhjqBklwrpBZYjF2JJqlmciZA6ygA7PSviAO1\n",
       "/UMAAAAASUVORK5CYII=\n",
       "\" style=\"display:inline;vertical-align:middle;\" /></a> <a class=\"ProveItLink\" href=\"proof.ipynb\" style=\"text-decoration: none\">&#x22A2;&nbsp;</a><a class=\"ProveItLink\" href=\"../cc2fc0cb82d6ee27427f71b420d3f43a8e9111de0/expr.ipynb\"><img src=\"data:image/png;base64,iVBORw0KGgoAAAANSUhEUgAAAJIAAAAVBAMAAABf4KrdAAAAMFBMVEX///+6uroyMjJERETMzMwQ\n",
       "EBAiIiKYmJju7u5mZmaqqqpUVFSIiIh2dnbc3NwAAAAWgogoAAAAAXRSTlMAQObYZgAAAhtJREFU\n",
       "OMtjYKAtkCFVA7sAdnGWDRAqAU28+v/u3UZoejgO75zON4FhCnaTmBog1AcIl+8BTCKYgYHzI6rY\n",
       "1QIGxqkFDEzYTToDocp+gKlF2mYmULf+AeLfKGJNGUDi/gMG9gvI7jyUlqYAZkVArF35D0Rx72Bg\n",
       "cDoAFuEBCrD/RRFTBTlfFKg5AMkkpwoogxFiHg8P2COVIEIFLMIMVM4WgSzG+QvEegnEVgwMb0+/\n",
       "Ogkyns8CZiQnxKUSXN9BlAaIWAsW4d/AwKfcgCz2HmxpCxDfZOC4wJ7OCookZni4MhWAPSsAChYG\n",
       "BnAEeoMl/PecmVaAIja/AKZpEQMvA88HLgcgsxnuTVZwRDMy8P1EM+n8AwaObBSxfLj1ogwcDNwG\n",
       "EGZaGjTE+cEmee/e/RnNJFOQaQXIYv/B4iAP+4OcAIkYb7ibICYBiSA0k0AJoP4Cslg8iAH2Esik\n",
       "9w5gQ9sQvlsAkgbiVFSTWEAxsH8Bsth+kE5OiO/YH5xn4AHxueGBxwxivQJifVSTQMmJ7xOKmD/I\n",
       "PzdAvCKG9QWmDG/AcZUIM4l3ApAHCjH7BhSTQMnJVQPFJHZgepIEh/pNhuazvXcgrnkEy4WMCQx8\n",
       "pp8eMBT/10TWxWn/e/cmdQZUd3prz1wAFlJEzm6r1aC5JQ5ZFBwf7agZE1MMJbcgQC3pJRrvAXyl\n",
       "CimgCbsw3waSTdqHQ/wNqQbxODAAAEVRik79DmyLAAAAAElFTkSuQmCC\n",
       "\" style=\"display:inline;vertical-align:middle;\" /></a></span></td></tr>\n",
       "</table>"
      ],
      "text/plain": [
       "<proveit._core_.proof._ShowProof at 0x7f94ebefd320>"
      ]
     },
     "execution_count": 1,
     "metadata": {},
     "output_type": "execute_result"
    }
   ],
   "source": [
    "import proveit\n",
    "%show_proof"
   ]
  },
  {
   "cell_type": "code",
   "execution_count": null,
   "metadata": {},
   "outputs": [],
   "source": []
  }
 ],
 "metadata": {
  "kernelspec": {
   "display_name": "Python 3",
   "language": "python",
   "name": "python3"
  }
 },
 "nbformat": 4,
 "nbformat_minor": 0
}
