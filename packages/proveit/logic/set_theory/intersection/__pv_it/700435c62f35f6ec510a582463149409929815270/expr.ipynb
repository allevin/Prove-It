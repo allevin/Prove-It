{
 "cells": [
  {
   "cell_type": "markdown",
   "metadata": {},
   "source": [
    "Expression of type <a class=\"ProveItLink\" href=\"../../../../../../../doc/html/api/proveit.logic.Set.html\">Set</a>\n",
    "=======================\n",
    "# from context <a class=\"ProveItLink\" href=\"../../_context_.ipynb\">proveit.logic.set_theory.intersection</a>"
   ]
  },
  {
   "cell_type": "code",
   "execution_count": 1,
   "metadata": {},
   "outputs": [],
   "source": [
    "# import Expression classes needed to build the expression\n",
    "from proveit import Variable\n",
    "from proveit._common_ import S\n",
    "from proveit.logic import InSet, Set"
   ]
  },
  {
   "cell_type": "code",
   "execution_count": 2,
   "metadata": {},
   "outputs": [
    {
     "data": {
      "text/html": [
       "<strong id=\"expr\">expr:</strong> <a class=\"ProveItLink\" href=\"expr.ipynb\"><img src=\"data:image/png;base64,iVBORw0KGgoAAAANSUhEUgAAAGEAAAAVBAMAAACkm51HAAAAMFBMVEX////c3NxERESqqqpUVFS6\n",
       "urrMzMwyMjIQEBCIiIh2dnYiIiLu7u5mZmaYmJgAAABXZE4RAAAAAXRSTlMAQObYZgAAATtJREFU\n",
       "OMtjYGDgu8dAJGBbJQCieHYxEA3YmkEk5weiFD+5e+cpA8N1EJOrgRgN7A8YDgGNXkG8Di8GBuYC\n",
       "InTwTN+9uwDEYPwG9MQEInSkv4EyWD8DdSRg6mBc6Wh5E0kDow6c9X8amAbr4C2AqzjF8PpBN5IO\n",
       "JgE4c/7/TyDOexA7IwAuvIBhPoMZko5DSNY96e8BBdkFBoaUNoTwAQYnFG9E7N4N9TnI9f9ApPoD\n",
       "oHACkppOFB0pcBZQHQ9IB/cCIMFSgGT3NwYeJB2n4aEMdAzjR5g/uDbAVTwEppg5SDpYHkAZoMjj\n",
       "dWDACF3mf0wNjBOQI3ArlMG7k4FhEgOyDiMlIDjAo7lm1TwYB6xS/BrUMlYXpwcMDMSkK5Pq3QXI\n",
       "fBJSIrIOPlJ0gPMHz04S8mArmOJbTFI+BwBFYVX7gGsWyAAAAABJRU5ErkJggg==\n",
       "\" style=\"display:inline;vertical-align:middle;\" /></a><br>"
      ],
      "text/plain": [
       "expr: {_x_ in S}"
      ]
     },
     "execution_count": 2,
     "metadata": {},
     "output_type": "execute_result"
    }
   ],
   "source": [
    "# build up the expression from sub-expressions\n",
    "expr = Set(InSet(Variable(\"_x_\", latexFormat = r\"{_{-}x_{-}}\"), S))"
   ]
  },
  {
   "cell_type": "code",
   "execution_count": 3,
   "metadata": {},
   "outputs": [
    {
     "name": "stdout",
     "output_type": "stream",
     "text": [
      "Passed sanity check: built 'expr' is the same as the stored Expression.\n"
     ]
    }
   ],
   "source": [
    "# check that the built expression is the same as the stored expression\n",
    "%check_expr"
   ]
  },
  {
   "cell_type": "code",
   "execution_count": 4,
   "metadata": {},
   "outputs": [
    {
     "data": {
      "text/html": [
       "<table><tr><th>&nbsp;</th><th>core type</th><th>sub-expressions</th><th>expression</th></tr>\n",
       "<tr><td>0</td><td>Operation</td><td>operator:&nbsp;1<br>operands:&nbsp;2<br></td><td><a class=\"ProveItLink\" href=\"expr.ipynb\"><img src=\"data:image/png;base64,iVBORw0KGgoAAAANSUhEUgAAAGEAAAAVBAMAAACkm51HAAAAMFBMVEX////c3NxERESqqqpUVFS6\n",
       "urrMzMwyMjIQEBCIiIh2dnYiIiLu7u5mZmaYmJgAAABXZE4RAAAAAXRSTlMAQObYZgAAATtJREFU\n",
       "OMtjYGDgu8dAJGBbJQCieHYxEA3YmkEk5weiFD+5e+cpA8N1EJOrgRgN7A8YDgGNXkG8Di8GBuYC\n",
       "InTwTN+9uwDEYPwG9MQEInSkv4EyWD8DdSRg6mBc6Wh5E0kDow6c9X8amAbr4C2AqzjF8PpBN5IO\n",
       "JgE4c/7/TyDOexA7IwAuvIBhPoMZko5DSNY96e8BBdkFBoaUNoTwAQYnFG9E7N4N9TnI9f9ApPoD\n",
       "oHACkppOFB0pcBZQHQ9IB/cCIMFSgGT3NwYeJB2n4aEMdAzjR5g/uDbAVTwEppg5SDpYHkAZoMjj\n",
       "dWDACF3mf0wNjBOQI3ArlMG7k4FhEgOyDiMlIDjAo7lm1TwYB6xS/BrUMlYXpwcMDMSkK5Pq3QXI\n",
       "fBJSIrIOPlJ0gPMHz04S8mArmOJbTFI+BwBFYVX7gGsWyAAAAABJRU5ErkJggg==\n",
       "\" style=\"display:inline;vertical-align:middle;\" /></a></td></tr>\n",
       "<tr><td>1</td><td>Literal</td><td></td><td><a class=\"ProveItLink\" href=\"../../../enumeration/__pv_it/07381ed5b23806e8d7914b78cb6667769e3708dd0/expr.ipynb\"><img src=\"data:image/png;base64,iVBORw0KGgoAAAANSUhEUgAAAB4AAAAOBAMAAADKyLEKAAAAMFBMVEX///8iIiIQEBCIiIjMzMzc\n",
       "3Nyqqqp2dnZEREQyMjK6urru7u5mZmZUVFSYmJgAAACI6eGPAAAAAXRSTlMAQObYZgAAALRJREFU\n",
       "CNdjYGDgu3Nm3wIGBJjHwN0PZW5yYGDgLWBgyITy8zcwMMQDxZyh/INAvD6BgcEFypcB4vjPDiBm\n",
       "TPFRrhs/LjMwMP//38rAwCbKEMPA9gEkE3fp0waG+AUMRxh4JkC01T9guPTOOICBEWgVH5C//wHD\n",
       "H5D4fqCz9oCMDGD4DLaegRXslLMMDMpAgxlOMmQxHDRgYG5gYLBk4D7KcIe7gOHC2rt9QCXsh40Z\n",
       "GCKMGQDRkC8N/Ph1XAAAAABJRU5ErkJggg==\n",
       "\" style=\"display:inline;vertical-align:middle;\" /></a></td></tr>\n",
       "<tr><td>2</td><td>ExprTuple</td><td>3</td><td><a class=\"ProveItLink\" href=\"../b7a58a2dd5e00e282cb88b2531953923bb6520360/expr.ipynb\"><img src=\"data:image/png;base64,iVBORw0KGgoAAAANSUhEUgAAAFsAAAAVBAMAAADbSo+2AAAAMFBMVEX////c3NwiIiJERESqqqqY\n",
       "mJh2dnZmZmYQEBDu7u4yMjJUVFTMzMyIiIi6uroAAAAs73DqAAAAAXRSTlMAQObYZgAAAUpJREFU\n",
       "KM9jYCAR8F0gVmUciDhNjErW7eVTH7AfALJWEqN8KQOnPQPDAgYGXmLcwp3AwODFwBDGwMAxAbeq\n",
       "uYuUtMAMeaAzzjIwzGBgeIVbNc9SmFHvHRgYzjAwMDswlCGkxW6LXEd2mjDcYvm/IF8ysBUAPQED\n",
       "nAmsqhwKSMoN4Sze//9BHJYFDH1wMTYG3g8sBxCqOQ0QbNEdP4BW8TUw/ENIM3AboMRfk5IS1KtA\n",
       "kB8A9MwHJOXAUEIJVJ4N8EgC4vkQ5S1ICoDhhRSsnHB/TAfJCYAdY4qIaIH7DLzIsbAVxgDGEEM1\n",
       "SMUChnS4rH+ABYMssmsmPYAyii4w8BpAAvIRMHyMgcCSYfK1abkBMA4IMC6HhtOG17vBjuB6wMAh\n",
       "gDtaWXYhQgYEgImANYH4rJFLbAKGBBUwATNIE62cG+RuRqIz3x0GBgBfI0diRZhbNwAAAABJRU5E\n",
       "rkJggg==\n",
       "\" style=\"display:inline;vertical-align:middle;\" /></a></td></tr>\n",
       "<tr><td>3</td><td>Operation</td><td>operator:&nbsp;4<br>operands:&nbsp;5<br></td><td><a class=\"ProveItLink\" href=\"../6d032ba85a18acea57dd4da6ae3af2fc1a8f96860/expr.ipynb\"><img src=\"data:image/png;base64,iVBORw0KGgoAAAANSUhEUgAAAE4AAAAPBAMAAAC4gOTnAAAAMFBMVEX///+6uroyMjLMzMwQEBAi\n",
       "IiKYmJhmZmZUVFSIiIh2dnbc3Nzu7u5ERESqqqoAAABZrPngAAAAAXRSTlMAQObYZgAAANVJREFU\n",
       "KM9jYCAMMsprEolQxpTAcPYDEeq6GBj4FHDK8kwKDQXLcn9mYGCegFOdUQ6UwfgPqM4AJsy9svtl\n",
       "JZIy7jtw1v/JSOKnGFITXJH4vBvgzPn//yI4CxjmMzxGUncWyegMfx845wBDL4rzREJDof4AAq5v\n",
       "SDKeKOos4KwEoN+R1AG9z4Ok7ig8fAqAcr/h4tmcHxjmIKnjSIAyQEHM3gAT5vvG68CNHJg8gVAG\n",
       "eyQDw1wg/fYuEBzgublm1TQYByy/qRhqMGNHbwK+aH2hGooUqwBY6Dj/clGjrgAAAABJRU5ErkJg\n",
       "gg==\n",
       "\" style=\"display:inline;vertical-align:middle;\" /></a></td></tr>\n",
       "<tr><td>4</td><td>Literal</td><td></td><td><a class=\"ProveItLink\" href=\"../../../membership/__pv_it/088cbc857536a28d4119ad9639a84270ccb0545d0/expr.ipynb\"><img src=\"data:image/png;base64,iVBORw0KGgoAAAANSUhEUgAAAAwAAAAMBAMAAACkW0HUAAAALVBMVEX///+qqqpmZmZUVFQQEBC6\n",
       "urpERETc3NyYmJjMzMwiIiIyMjKIiIju7u4AAACYsrA9AAAAAXRSTlMAQObYZgAAADxJREFUCNdj\n",
       "YOA9vWrVBgaG2b0MQMCeCyIZ2ArA1DUwyRCyahVIyWQI7xaEYm4AU7xLIdxqTQgtvGvVBgCkcQ7e\n",
       "geM/tQAAAABJRU5ErkJggg==\n",
       "\" style=\"display:inline;vertical-align:middle;\" /></a></td></tr>\n",
       "<tr><td>5</td><td>ExprTuple</td><td>6, 7</td><td><a class=\"ProveItLink\" href=\"../d8a3bf42d0af1beb25e143ff8ddaae61955e3e4a0/expr.ipynb\"><img src=\"data:image/png;base64,iVBORw0KGgoAAAANSUhEUgAAAEsAAAAVBAMAAAD85A5eAAAAMFBMVEX////c3NwiIiJERESqqqqY\n",
       "mJh2dnZmZmYQEBDu7u4yMjJUVFTMzMyIiIi6uroAAAAs73DqAAAAAXRSTlMAQObYZgAAASNJREFU\n",
       "KM9jYCAS8F0gpCIORJzGp4J1e/nUB+wHgKyV+JQtZeC0Z2BYwMDAi89O7gQGBi8GhjAGBo4JeJTJ\n",
       "A607y8Awg4HhFT473zswMJxhYGB2YChDCIrdFrmO6gT5vyDXM7AVAB0JA5wJrKocCijKeP//NwRS\n",
       "LAsY+uBibAy8H1gOoNoquuMH0O18DQz/EKYxcBtgOi8/gIGB5wOSMqCv0QKHFYjnQ5S1oPofJXim\n",
       "g8QEwJaaIvQK3GfghSsDMYAhy1ANklnAkA5X5h9gwSALd+gnIFF0gYHXABIgj4D+NQYCS4bJ16bl\n",
       "BsA4nP1Ayza83g22jOsBA4cAjvSFJA6MLNYEHEkIiZ2LOyEhKeMEJiQGaezKkIKQG2Q/I8FEfoeB\n",
       "AQDYIUAWEANP6QAAAABJRU5ErkJggg==\n",
       "\" style=\"display:inline;vertical-align:middle;\" /></a></td></tr>\n",
       "<tr><td>6</td><td>Variable</td><td></td><td><a class=\"ProveItLink\" href=\"../5144cf74ae6a683b49b974f1b9302b432abf7e930/expr.ipynb\"><img src=\"data:image/png;base64,iVBORw0KGgoAAAANSUhEUgAAACUAAAAJBAMAAABH3vh9AAAAKlBMVEX////MzMwQEBAiIiKYmJhm\n",
       "ZmZUVFSIiIh2dnbc3Nzu7u5ERESqqqoAAABwkVEpAAAAAXRSTlMAQObYZgAAAEtJREFUCNdjYIAA\n",
       "zvbM4+EMqGAFg7ODMppYA0Mtw0E0sQUM2QyYQB1TiPMiAxeakCf7BYYqVCGeK9wKnAUw3undQLCA\n",
       "a3tXRwmMAwC3+RVNp6j0GAAAAABJRU5ErkJggg==\n",
       "\" style=\"display:inline;vertical-align:middle;\" /></a></td></tr>\n",
       "<tr><td>7</td><td>Variable</td><td></td><td><a class=\"ProveItLink\" href=\"../../../../../__pv_it/abeee18594afe51bfb1be95d9591fbba24ac53f30/expr.ipynb\"><img src=\"data:image/png;base64,iVBORw0KGgoAAAANSUhEUgAAAA0AAAAOBAMAAAAGUYvhAAAAMFBMVEX///8iIiIQEBCIiIjMzMzc\n",
       "3Nyqqqp2dnZEREQyMjK6urru7u5mZmZUVFSYmJgAAACI6eGPAAAAAXRSTlMAQObYZgAAAF1JREFU\n",
       "CNdjYGDgu3Nm3wIGBoZ5DNz9QIq3gIEhE0jHOzAwOAPp9QkMDC4g/megABAw///fCmbEXfq0Acxg\n",
       "qH8ANAVI7wfSe0BKAyBGnAXigwYMzA1A+sLau31ACgAz0hhbkhGHbwAAAABJRU5ErkJggg==\n",
       "\" style=\"display:inline;vertical-align:middle;\" /></a></td></tr>\n",
       "</table>\n"
      ],
      "text/plain": [
       "0. {_x_ in S}\n",
       "   core type: Operation\n",
       "   operator: 1\n",
       "   operands: 2\n",
       "1. Set\n",
       "   core type: Literal\n",
       "   sub-expressions: \n",
       "2. (_x_ in S)\n",
       "   core type: ExprTuple\n",
       "   sub-expressions: 3\n",
       "3. _x_ in S\n",
       "   core type: Operation\n",
       "   operator: 4\n",
       "   operands: 5\n",
       "4. in\n",
       "   core type: Literal\n",
       "   sub-expressions: \n",
       "5. (_x_ , S)\n",
       "   core type: ExprTuple\n",
       "   sub-expressions: 6, 7\n",
       "6. _x_\n",
       "   core type: Variable\n",
       "   sub-expressions: \n",
       "7. S\n",
       "   core type: Variable\n",
       "   sub-expressions: "
      ]
     },
     "execution_count": 4,
     "metadata": {},
     "output_type": "execute_result"
    }
   ],
   "source": [
    "# display the expression information\n",
    "expr.exprInfo()"
   ]
  },
  {
   "cell_type": "code",
   "execution_count": null,
   "metadata": {},
   "outputs": [],
   "source": []
  }
 ],
 "metadata": {
  "kernelspec": {
   "display_name": "Python 3",
   "language": "python",
   "name": "python3"
  }
 },
 "nbformat": 4,
 "nbformat_minor": 0
}
