{
 "cells": [
  {
   "cell_type": "markdown",
   "metadata": {},
   "source": [
    "Show the Proof\n",
    "========"
   ]
  },
  {
   "cell_type": "code",
   "execution_count": 1,
   "metadata": {},
   "outputs": [
    {
     "data": {
      "text/html": [
       "<table><tr><th>&nbsp;</th><th>step type</th><th>requirements</th><th>statement</th></tr>\n",
       "<tr><td>0</td><td>specialization</td><td>1</td><td><span style=\"font-size:20px;\"> <a class=\"ProveItLink\" href=\"proof.ipynb\" style=\"text-decoration: none\">&#x22A2;&nbsp;</a><a class=\"ProveItLink\" href=\"../af4bf7a74cce7ed297352089e4bc403e981cb1b60/expr.ipynb\"><img src=\"data:image/png;base64,iVBORw0KGgoAAAANSUhEUgAAAYwAAAAZBAMAAADQywQ9AAAAMFBMVEX///8QEBC6urrMzMxUVFRm\n",
       "ZmYyMjKqqqp2dnaIiIiYmJju7u7c3NwiIiJEREQAAACUT5mwAAAAAXRSTlMAQObYZgAAA8RJREFU\n",
       "WMPtWE1oE0EUfs1Pk91NtXhVaAv10IMYsBQ8aNNaQbCUQlz8QwnVg1gKHrR6swgiQdGA9Q/BBq1S\n",
       "8RKEFq0Yc1Kr1a49qZhS9SDaNFZEiloaZ2Z3JzPNbjIhxYK48JLJm/f3zbx5bzYwnUzA337WJHsW\n",
       "26QGS/D4Av9h2MCICcvWlSgkV+tkA6OuBJOavh+3BQJ0BkSF5M3qcDXP71d3X4cgGgTtYNhpCpnU\n",
       "4BRmdQpEWB4TFToIylc9e8z6UR6F+AyU45EdDF4TLiaTyXFhkxq8xHOTAhFeAUEhFypE3fhH9/7p\n",
       "jzp7C4AnBDKawMTCiFlqwoarRZnUCFj3IYEIV9pPKWjtQlRozA+wHvveCtAQIUv4HeVGBJRKIMTC\n",
       "6GTNm5rge8f7LWRSA/nM6OgLARSOkP1cwx1WaC1alHXo+ybm7CPsWeQTRfIJCLEwaq00wVXN+y1k\n",
       "Eh3w+XT6tQAMN9OznvY+uRBhCugUJzT2059d6GNEIHOecE7qxMLwRiw0YWiB30ImEYxNACn7yrMj\n",
       "fIMeKZpDPfLbMqbjLKM3ASIkZTIp2pPqCb8vM49lunXSYbiT5PlhoWloiZvU8LYq9vmyGhwz+qgs\n",
       "u89ekGY8/qxQnI50oWdN32K8T19/FU7xGp24SuXpyNVkYQiZRPwKkKJWCO6ru4ieUcWWZ2Eo4OJK\n",
       "Ww1e1RArdC7K+0TQf6GPRp34gju0IkcTxUQfIZOIL0UrrDqC9OH5A1B+A0RzYKAlirCi9ZxPGX0/\n",
       "4n2iX4odDOeBWI4mWzqFTCK+EsqGEW7uNZOFFAV4dYJGzhZlVAAZ6A+BFRrE8wnWp9KOQp9bmFTG\n",
       "2ZiI5WqCMl6cScxPNdOkj7XRaPXzMlg1a57jbObJiT6QGBguOoWF8KHbxp1H1KbAjUO/pRO7G56A\n",
       "hSbKtGBRJjH/CC06DtT0zb026quvyYTYTl0fj76HEbb70bXDQnsiIE1yPt1vAK7ZFNzHVpq4n3QZ\n",
       "lxEhk9qCRJ+jMCbS6c9wF+WkCRGJetLomYL45XvhqPmDxBJkhAK1LV+A8+lytLSRDevQiYWRstLk\n",
       "2q6IScyXs/nhrHSaK0xcHQXYaM6tytMbD3cZlxFWiKzOMLtrFpcRf0HzIib516ZGb8hrjlvxx16m\n",
       "NQ6IXA3zCuGOjcnyhjtQikkThqKq6naIX9p5GgbREJ3zOC6wQVVNFH9Rt3uGDLK/qNMbCCli48Im\n",
       "87zEnkVno+hXz7xCrQZZCtlqipgs5l18pEQhya+TTWAjJZj8R/5SSC7J/1SLDeMPndB6GlUX+1QA\n",
       "AAAASUVORK5CYII=\n",
       "\" style=\"display:inline;vertical-align:middle;\" /></a></span></td></tr>\n",
       "<tr><td>&nbsp;</td><td colspan=4 style=\"text-align:left\"><span style=\"font-size:20px;\"><a class=\"ProveItLink\" href=\"../../../../../__pv_it/2cbe72a7ad6f655694dd697106680215e8489b600/expr.ipynb\"><img src=\"data:image/png;base64,iVBORw0KGgoAAAANSUhEUgAAAA8AAAAOBAMAAAACpFvcAAAALVBMVEX///8QEBBERERUVFS6urqI\n",
       "iIhmZmaqqqrc3Nzu7u6YmJgyMjIiIiLMzMwAAADtIaYWAAAAAXRSTlMAQObYZgAAAFtJREFUCNdj\n",
       "YACBOwxQsA9Kc52bAGG05zVAGAFxDmCaZULdAjBjCsO9ADDDgaEvAUTzGhvbKYCVMDAwbgAxChgY\n",
       "eASANAeQwf0AyJgNxEwvGRia5HYwcOm9TgAA6BoR3jrzwFcAAAAASUVORK5CYII=\n",
       "\" style=\"display:inline;vertical-align:middle;\" /></a> : <a class=\"ProveItLink\" href=\"../../../../../__pv_it/abeee18594afe51bfb1be95d9591fbba24ac53f30/expr.ipynb\"><img src=\"data:image/png;base64,iVBORw0KGgoAAAANSUhEUgAAAA0AAAAOBAMAAAAGUYvhAAAAMFBMVEX///8iIiIQEBCIiIjMzMzc\n",
       "3Nyqqqp2dnZEREQyMjK6urru7u5mZmZUVFSYmJgAAACI6eGPAAAAAXRSTlMAQObYZgAAAF1JREFU\n",
       "CNdjYGDgu3Nm3wIGBoZ5DNz9QIq3gIEhE0jHOzAwOAPp9QkMDC4g/megABAw///fCmbEXfq0Acxg\n",
       "qH8ANAVI7wfSe0BKAyBGnAXigwYMzA1A+sLau31ACgAz0hhbkhGHbwAAAABJRU5ErkJggg==\n",
       "\" style=\"display:inline;vertical-align:middle;\" /></a>, <a class=\"ProveItLink\" href=\"../../../../../__pv_it/077b2ff79244fb4582cbe22c6e3356fa92a52f2f0/expr.ipynb\"><img src=\"data:image/png;base64,iVBORw0KGgoAAAANSUhEUgAAABAAAAAOBAMAAADUAYG5AAAAMFBMVEX///+qqqru7u4iIiJ2dnbc\n",
       "3NyIiIjMzMxmZmYQEBC6uroyMjJERERUVFSYmJgAAADLUcuvAAAAAXRSTlMAQObYZgAAAGpJREFU\n",
       "CNdjYGB4+//u3dMLGIBgDgMDxy8gzf4NiP8CGWxfGRj4vgAZPBMYGJgnARn8FxhY9ygAGfXX0pof\n",
       "gDTlBzAw2YIYJ0EckBBI53sHoBH/gIz7AhBjWH9DjancBLTl/N+7t/cxMAAA3u4f/5xagjYAAAAA\n",
       "SUVORK5CYII=\n",
       "\" style=\"display:inline;vertical-align:middle;\" /></a> : <a class=\"ProveItLink\" href=\"../67ab27a4d51497134688a7f7718f285e233e49c80/expr.ipynb\"><img src=\"data:image/png;base64,iVBORw0KGgoAAAANSUhEUgAAADIAAAAPBAMAAABU9YHxAAAAMFBMVEX///8iIiIQEBCIiIjMzMzc\n",
       "3Nyqqqp2dnZEREQyMjK6urru7u5mZmZUVFSYmJgAAACI6eGPAAAAAXRSTlMAQObYZgAAAOBJREFU\n",
       "GNNjYGDgu3Nm3wIGFPD2zOlXQGoeA3c/RCAUKsH5gGHHBwYG3gIGhkwQn23mDQkHsMx1IGcCA0M8\n",
       "kOcM4t/dwMAyGcRg/cLAwGLAwLA+gYHBBcjnOwAyB6SJ6xtQBsiI/wwxgnMDyMQCkJ7/JmAR5v//\n",
       "W0E0I4hguQAi7f//CADRcZc+bUCVYX2rrw1xZf0DVBkGBvZ/QIuB9H5UGSCPGyizB8iMD0CW4QY6\n",
       "kvUrxJNnUVwA8iQPkD5owMDcgCLDI8zAYAFkX1h7t48BRYaX6+6NB8jhywwiuBFCAD8FPo6MP7rU\n",
       "AAAAAElFTkSuQmCC\n",
       "\" style=\"display:inline;vertical-align:middle;\" /></a>, <a class=\"ProveItLink\" href=\"../../../../../__pv_it/530be409e3083890784cf1d7b28c9e67e90af9360/expr.ipynb\"><img src=\"data:image/png;base64,iVBORw0KGgoAAAANSUhEUgAAAAsAAAAJBAMAAAAWSsseAAAAKlBMVEX///9ERETMzMwQEBAiIiKY\n",
       "mJju7u5mZmaqqqpUVFSIiIh2dnbc3NwAAAA/vyDhAAAAAXRSTlMAQObYZgAAAENJREFUCNdjYDi9\n",
       "8sTyBQxsG1hdmR0YuBm4LnAoMLAxcAowgADzAjB1VoEhgYH1wFoGrgSG3gBhhlMMDImrs3cFMAAA\n",
       "t0YN+iTRa+sAAAAASUVORK5CYII=\n",
       "\" style=\"display:inline;vertical-align:middle;\" /></a> : <a class=\"ProveItLink\" href=\"../../../../__pv_it/5144cf74ae6a683b49b974f1b9302b432abf7e930/expr.ipynb\"><img src=\"data:image/png;base64,iVBORw0KGgoAAAANSUhEUgAAACUAAAAJBAMAAABH3vh9AAAAKlBMVEX////MzMwQEBAiIiKYmJhm\n",
       "ZmZUVFSIiIh2dnbc3Nzu7u5ERESqqqoAAABwkVEpAAAAAXRSTlMAQObYZgAAAEtJREFUCNdjYIAA\n",
       "zvbM4+EMqGAFg7ODMppYA0Mtw0E0sQUM2QyYQB1TiPMiAxeakCf7BYYqVCGeK9wKnAUw3undQLCA\n",
       "a3tXRwmMAwC3+RVNp6j0GAAAAABJRU5ErkJggg==\n",
       "\" style=\"display:inline;vertical-align:middle;\" /></a></span></td></tr><tr><td>1</td><td>theorem</td><td></td><td><span style=\"font-size:20px;\"> <a class=\"ProveItLink\" href=\"../../../containment/_proofs_/foldSubsetEq.ipynb\" style=\"text-decoration: none\">&#x22A2;&nbsp;</a><a class=\"ProveItLink\" href=\"../e18a985e61701eeea9f05b9748d25418578b2e570/expr.ipynb\"><img src=\"data:image/png;base64,iVBORw0KGgoAAAANSUhEUgAAAToAAAAWBAMAAACidU2WAAAAMFBMVEX///8QEBC6urrMzMxUVFRm\n",
       "ZmZERETc3NwyMjKqqqp2dnaIiIiYmJgiIiLu7u4AAAAU9Wx4AAAAAXRSTlMAQObYZgAABEVJREFU\n",
       "SMfNV19oW2UU/zU3yW1yb2/z5kQcd7C3istg4GBogwutby2MTETHOsEMKc48jGUy1DiQ+VINuMrA\n",
       "l7yo1UIJOEHscFFQZ2UuK9TJWDSCjuCoFtfWf7XzfP9y/+TeO/a2AyffPfc7v/Od75zvnO8GuKup\n",
       "HTU5BOP7R6LxQ1GTnwPmlH2nKCLTFtxkwjfBOloOaXuAa9cRqhJofWw1P3ISiSzIQihKa4YBsQ+c\n",
       "32fvXg9eur9NttNV8RSqEkh9E8BBG5Vg7ySqf0XKH7darUUPsJ9NA8do0CeCl5hntvnksbAUzIe8\n",
       "H6ZgD+ew4PHO8qEuborx4U97gGYNjNk2EtXgJbZy2yywT4R5t9UtWBSDing8XwIu1fCTx7tuoAVK\n",
       "n/5TjFdcNiTQyoCx+V65/GLwyjGRl4VyudxEuIpDu7/tPh4ivtxGsur2LpbzoAzjDz7G3bmXQDwL\n",
       "zuvF4tXgpRM17t1gsfhcDeEq+uzo20/yGBxxJlaB4ySmxz3nbtZBET2Y2uBjx21RAvGO4L3AYf7+\n",
       "FP99a60wkpWJaHDv4lkkS75TrWSm8isuNu5ngktLW53/6BqNqYr07kCL0Y/jXRQlztb+5eIudzVL\n",
       "IM4I3g6LB9oUYTYzMDKyfGzuHeWj4wvZJRUPplLDebzJhOuOgkEnapnyGMt4a/aMrVA0B32txzsF\n",
       "xDbBAzD4Vn4RYU7kEBOHFYPCO2qJ5xT4RuEptuuDDTgqbYwIYRsLjzhSSdqgQQa1Fa931iu2RJFT\n",
       "+fw6fzngUlBADAs2GgO8lOaWhGodiabXu3P4Qe3s6Zd+oyG9PO7yDrgP/hgM0vbNf3q92z3noOhn\n",
       "iwhItReovLMq3KpWL/Lp37O4IM9PX1V412GtPX12aC++EBN7kqpBMhXoN0UnW3Z1LQpu/G9XZsW5\n",
       "ax1xUClWnCKgi71AlVkcfpSXNQ7w6R3zZ1XpJUVVIHmUfubiE/dC9o+cii5X+cpYAW+n8Yana71M\n",
       "2mbFE7vTDgovEL8h5M6+HiAuSJ7mS31NZ5vRDPCZbJrUDrjtFPPbpkLTRCcwq4a6gkgltZHM6HVf\n",
       "DKhraVva/o6iVxzDvBSflyttn1I3mQKqjoI+ZtpaKgjVZyi58hzEmrLT83M1WIL2XbE4SRks7N9E\n",
       "V8WanPtAVs1xFYP9t/L511iA+m23d6rlEEo/9FcJX9561dcMukCclGwyrxIlDPM2RznfIfsd7pHe\n",
       "8StgJ7KW6PWPQ7sJR8VFp6dansvDd5NpwaggkjeZpAcoOA39FPRN6EvqpesO11ZmqLGN8p3T3jZc\n",
       "KlE0G/yNsnBb79J1wZx+Xoc+dk3bwMxa4bGq5wtK7mVy+pM2rpNkjU3g6H+N23xBSVT0F5S6Dnk5\n",
       "L3o0Ov4bjiXZK+o5v+132bnzqURQvBTsXTSK0ahkNz3kk0/AaGWjzZyImvyQGnjLvlMUa/tZwR5q\n",
       "3GV/ev4H9PU9haV18voAAAAASUVORK5CYII=\n",
       "\" style=\"display:inline;vertical-align:middle;\" /></a></span></td></tr>\n",
       "<tr><td>&nbsp;</td><td colspan=4 style-\"text-align:left\"><a class=\"ProveItLink\" href=\"../../../containment/_proofs_/foldSubsetEq.ipynb\">proveit.logic.set_theory.containment.foldSubsetEq</a></td></tr></table>"
      ],
      "text/plain": [
       "<proveit._core_.proof._ShowProof at 0x7f94eaf3fdd8>"
      ]
     },
     "execution_count": 1,
     "metadata": {},
     "output_type": "execute_result"
    }
   ],
   "source": [
    "import proveit\n",
    "%show_proof"
   ]
  },
  {
   "cell_type": "code",
   "execution_count": null,
   "metadata": {},
   "outputs": [],
   "source": []
  }
 ],
 "metadata": {
  "kernelspec": {
   "display_name": "Python 3",
   "language": "python",
   "name": "python3"
  }
 },
 "nbformat": 4,
 "nbformat_minor": 0
}
