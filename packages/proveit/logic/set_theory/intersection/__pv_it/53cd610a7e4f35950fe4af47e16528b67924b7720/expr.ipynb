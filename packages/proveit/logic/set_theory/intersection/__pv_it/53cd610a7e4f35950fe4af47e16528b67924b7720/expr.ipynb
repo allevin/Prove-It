{
 "cells": [
  {
   "cell_type": "markdown",
   "metadata": {},
   "source": [
    "Expression of type <a class=\"ProveItLink\" href=\"../../../../../../../doc/html/api/proveit.logic.Or.html\">Or</a>\n",
    "=======================\n",
    "# from context <a class=\"ProveItLink\" href=\"../../_context_.ipynb\">proveit.logic.set_theory.intersection</a>"
   ]
  },
  {
   "cell_type": "code",
   "execution_count": 1,
   "metadata": {},
   "outputs": [],
   "source": [
    "# import Expression classes needed to build the expression\n",
    "from proveit._common_ import A, B, C, x\n",
    "from proveit.logic import NotInSet, Or"
   ]
  },
  {
   "cell_type": "code",
   "execution_count": 2,
   "metadata": {},
   "outputs": [
    {
     "data": {
      "text/html": [
       "<strong id=\"expr\">expr:</strong> <a class=\"ProveItLink\" href=\"expr.ipynb\"><img src=\"data:image/png;base64,iVBORw0KGgoAAAANSUhEUgAAAPsAAAAVCAMAAAC34mhmAAAAQlBMVEX///9bW1sNDQ0JCQkdHR0P\n",
       "Dw8WFhbc3NwiIiJERESqqqqYmJh2dnZmZmYQEBDu7u4yMjJUVFTMzMyIiIi6uroAAAASwAKsAAAA\n",
       "AXRSTlMAQObYZgAAAstJREFUWMPFmNuWnCAQRUkyCSC3QuD/f3VQ5CagzRpd8aHtFtyUcE6VNEK3\n",
       "h1XoteNN9kdway6byRjB7P9kPwBf9SWh27yScBYrmr952My0c9ofFOwH7OnAlaFaCIawSHC4lobo\n",
       "zT+4+CUvQjFq7jfJljRcd7ZiPwLnku0osZ93uLkWDiI9yRB3jMt4vKZTUJk4y16dOc66Yj8AVxAt\n",
       "wB2OcDmePWWA/PtL4HwdL2K/f+siU9y09dks2xxY5njFfgAOqbuVMXALY8MAU4jitsH4IKOg6JLo\n",
       "R89FJKXOsunxtCQEmtk/hguXWFjEwMUhLMyNxosRWUiYqk0q3dqxOBZdlIKJYUEadJq9Sx1hoOrE\n",
       "voC39A4cu/xTrREO4SEU31zMkMwu2SeuYyplszF9UHCqKVme02xvc2OMIKxlD+Edegcu0lrl2QQk\n",
       "g3j57jZ/JSUVRQe51O7zKCr3FMlH5/Q6yz7srohu2EN4S+/BiWus6+GHcbeemtZthJCvP/4DTmVz\n",
       "OxxNa1Vn1lJrs+xod3OsUskewVt6D+4KkkqBu2ImTfNqwJfusvu+0Hl24Xtz1ob3Kdsd6x3S/OnZ\n",
       "L+A1vQeXmRT14eEy5z+35lnZlNct7kvMxK3mfZKq75hkr9GU+kjKJfsCfqL34NqlsQuz0jAew7tp\n",
       "kMk20cy/A7Wl/fRix0rV6pWVKzDJjtU9JeWKPYB36B14zs1c5cBDHdlq1uY2XNAVsfr8Sp0MR+NE\n",
       "8nKUlVb7hzl2tPsqocfuw3v0HpwFKVmBi/stCbnRcMW5qSoBht81AlPp9gLLqHMQxobqrRmqaGfY\n",
       "SNCwkQFIHWt2F96lt/AtC4DfyBRZYINLPN7p/dLQ5PmTEGQ9Ql22HmW/AC92DI0I8e0Wml9uKN5k\n",
       "PwIfbgUxvSUouG5/k/0EHI/+AjDsFqFvJvhN9iNwPNDW/eyZu79WXmX/FP4NSyw1Fki6zREAAAAA\n",
       "SUVORK5CYII=\n",
       "\" style=\"display:inline;vertical-align:middle;\" /></a><br>"
      ],
      "text/plain": [
       "expr: (x not-in A) or (x not-in B) or (x not-in C)"
      ]
     },
     "execution_count": 2,
     "metadata": {},
     "output_type": "execute_result"
    }
   ],
   "source": [
    "# build up the expression from sub-expressions\n",
    "expr = Or(NotInSet(x, A), NotInSet(x, B), NotInSet(x, C))"
   ]
  },
  {
   "cell_type": "code",
   "execution_count": 3,
   "metadata": {},
   "outputs": [
    {
     "name": "stdout",
     "output_type": "stream",
     "text": [
      "Passed sanity check: built 'expr' is the same as the stored Expression.\n"
     ]
    }
   ],
   "source": [
    "# check that the built expression is the same as the stored expression\n",
    "%check_expr"
   ]
  },
  {
   "cell_type": "code",
   "execution_count": 4,
   "metadata": {},
   "outputs": [
    {
     "data": {
      "text/html": [
       "<table><tr><th>&nbsp;</th><th>core type</th><th>sub-expressions</th><th>expression</th></tr>\n",
       "<tr><td>0</td><td>Operation</td><td>operator:&nbsp;1<br>operands:&nbsp;2<br></td><td><a class=\"ProveItLink\" href=\"expr.ipynb\"><img src=\"data:image/png;base64,iVBORw0KGgoAAAANSUhEUgAAAPsAAAAVCAMAAAC34mhmAAAAQlBMVEX///9bW1sNDQ0JCQkdHR0P\n",
       "Dw8WFhbc3NwiIiJERESqqqqYmJh2dnZmZmYQEBDu7u4yMjJUVFTMzMyIiIi6uroAAAASwAKsAAAA\n",
       "AXRSTlMAQObYZgAAAstJREFUWMPFmNuWnCAQRUkyCSC3QuD/f3VQ5CagzRpd8aHtFtyUcE6VNEK3\n",
       "h1XoteNN9kdway6byRjB7P9kPwBf9SWh27yScBYrmr952My0c9ofFOwH7OnAlaFaCIawSHC4lobo\n",
       "zT+4+CUvQjFq7jfJljRcd7ZiPwLnku0osZ93uLkWDiI9yRB3jMt4vKZTUJk4y16dOc66Yj8AVxAt\n",
       "wB2OcDmePWWA/PtL4HwdL2K/f+siU9y09dks2xxY5njFfgAOqbuVMXALY8MAU4jitsH4IKOg6JLo\n",
       "R89FJKXOsunxtCQEmtk/hguXWFjEwMUhLMyNxosRWUiYqk0q3dqxOBZdlIKJYUEadJq9Sx1hoOrE\n",
       "voC39A4cu/xTrREO4SEU31zMkMwu2SeuYyplszF9UHCqKVme02xvc2OMIKxlD+Edegcu0lrl2QQk\n",
       "g3j57jZ/JSUVRQe51O7zKCr3FMlH5/Q6yz7srohu2EN4S+/BiWus6+GHcbeemtZthJCvP/4DTmVz\n",
       "OxxNa1Vn1lJrs+xod3OsUskewVt6D+4KkkqBu2ImTfNqwJfusvu+0Hl24Xtz1ob3Kdsd6x3S/OnZ\n",
       "L+A1vQeXmRT14eEy5z+35lnZlNct7kvMxK3mfZKq75hkr9GU+kjKJfsCfqL34NqlsQuz0jAew7tp\n",
       "kMk20cy/A7Wl/fRix0rV6pWVKzDJjtU9JeWKPYB36B14zs1c5cBDHdlq1uY2XNAVsfr8Sp0MR+NE\n",
       "8nKUlVb7hzl2tPsqocfuw3v0HpwFKVmBi/stCbnRcMW5qSoBht81AlPp9gLLqHMQxobqrRmqaGfY\n",
       "SNCwkQFIHWt2F96lt/AtC4DfyBRZYINLPN7p/dLQ5PmTEGQ9Ql22HmW/AC92DI0I8e0Wml9uKN5k\n",
       "PwIfbgUxvSUouG5/k/0EHI/+AjDsFqFvJvhN9iNwPNDW/eyZu79WXmX/FP4NSyw1Fki6zREAAAAA\n",
       "SUVORK5CYII=\n",
       "\" style=\"display:inline;vertical-align:middle;\" /></a></td></tr>\n",
       "<tr><td>1</td><td>Literal</td><td></td><td><a class=\"ProveItLink\" href=\"../../../../boolean/disjunction/__pv_it/087d0b4ded7c7e5bf3bba05ecb616d7a8051ff650/expr.ipynb\"><img src=\"data:image/png;base64,iVBORw0KGgoAAAANSUhEUgAAAAwAAAAOBAMAAADpk+DfAAAALVBMVEX///+YmJh2dnZmZmaqqqrc\n",
       "3NwyMjLu7u4iIiJERESIiIhUVFTMzMy6uroAAAD0I/TTAAAAAXRSTlMAQObYZgAAAEtJREFUCNdj\n",
       "uMAABDwMe0DUKoaTIKqdgS2AgYHFAITAzHYGsMQqBoa9QIqDgT0BSDE7MAkAKdYEDpAehj1SYOpk\n",
       "O5hiMwBTPAUMDAB33Atnw8aG2QAAAABJRU5ErkJggg==\n",
       "\" style=\"display:inline;vertical-align:middle;\" /></a></td></tr>\n",
       "<tr><td>2</td><td>ExprTuple</td><td>3, 4, 5</td><td><a class=\"ProveItLink\" href=\"../cc3482db5e5d204b5493d27e1fa91fd035ae36500/expr.ipynb\"><img src=\"data:image/png;base64,iVBORw0KGgoAAAANSUhEUgAAAL8AAAAVCAMAAAAgs8+8AAAAQlBMVEX///9bW1sNDQ0JCQkdHR0P\n",
       "Dw8WFhbc3NwiIiJERESqqqqYmJh2dnZmZmYQEBDu7u4yMjJUVFTMzMyIiIi6uroAAAASwAKsAAAA\n",
       "AXRSTlMAQObYZgAAAmJJREFUSMe1luuaoyAMhpmdnQXkFATu/1aXYykSLR2f8kNb5MWYfAkh5OXw\n",
       "htwY9+gl3LvLx+yWBffoK1z4ct/t5Q7o450tvv9ACxuCjYOD/w1OiHHcKiUIVYSoPU/BtYcU9iYI\n",
       "i/ZPtOZlPvjf4FKLrBiV75B+O/cigljoWFiUxZHeg6t3+z5uoMlJBprMkMkh55YYB+zfD4PjPN1U\n",
       "5q8HSrsKiiDfx+Fhq9d5Sbx6OBcfCEM4YqiLZrwMP05zXR2rzdu4CtvDg6rsthFV/UCls3RzqquJ\n",
       "cpNChta0LYgxIqt0kQ0Fbq55BKeh/zUldaUiUAwxMqlaEN0Vlz8eyQ7ju4zb1CodZe+cU0wctpx4\n",
       "BFcHn8WxAdFFCDJrM87sjz35SXHy2RdqKAurdJW/YWP2TjyGsznnYhpUIaeVlo/PGGN/v+MFDiU5\n",
       "jTCsXaab/N3oy4nH8BBGIIeTPCWidtPRITfU/XHtpOwlulVNpPwMPIbrbn+LU7Rf95wOe/+yFGO0\n",
       "+G+tfhxr6gq9N7fbsF3yGG77maO6fnjZUdAsQOK65KyI59xc+ocDuK5epVv1r6XksXrmEbzXDNmW\n",
       "CUglKHk1OiZpkz4F0TBv92PtabLh2RkmsHfoJv9dwxON8hguStC8euRxNN6zku9OGindkFUU/oxb\n",
       "UK4D5IObhwAqHYDZoWs0Ubw0b9Bqtq7hwPgZT1kBsXl7Ul7qAvV5JyC+LEz155DNn6JX8NQ/lCYI\n",
       "H/x1kyPIh+gVXLrL/plycsOCe/QKXpORnnWyTrzc4qL3vkev4LZGiJ7ss+DAq/iTD+Mu5fd/+VUo\n",
       "CBXC21wAAAAASUVORK5CYII=\n",
       "\" style=\"display:inline;vertical-align:middle;\" /></a></td></tr>\n",
       "<tr><td>3</td><td>Operation</td><td>operator:&nbsp;8<br>operands:&nbsp;6<br></td><td><a class=\"ProveItLink\" href=\"../377fe4877c2bcc8d0d73ca80bc1a060233e6326d0/expr.ipynb\"><img src=\"data:image/png;base64,iVBORw0KGgoAAAANSUhEUgAAADUAAAAVCAMAAADRlFZ0AAAAQlBMVEX///9bW1sNDQ0JCQkdHR0P\n",
       "Dw8WFhYyMjK6urpERETMzMwQEBAiIiKYmJju7u5mZmaqqqpUVFSIiIh2dnbc3NwAAADXC9tbAAAA\n",
       "AXRSTlMAQObYZgAAAPFJREFUOMudU9mSxCAIdE+C4oXw/7+66hyZRDPZClXJA2c3jca8sSWYC0ZX\n",
       "qmyeOemkKi4TJ+gZwInPkx7DDgz0+0Ow90uKKoeMwAeDkzAb1htuKZwlceS1I1YUAaZSJPUdTGlo\n",
       "vXErjT6FecRdx1jt/tIy6mKSfQaxL2tk3bCJxp5Tv4yboCOi76/6g51+zfSZ63hQt6TpqJr7aCVq\n",
       "70NvCGkq1r0Nua6bdFqGVx7ZmyWOUr0cR9sk1nJ5ARloyXa/vwcwbMcRkEsohf2mL3xuqwSdQtPD\n",
       "oyrEg+PwHxmGHZ4ayoWXJXjlEW9Z/hvgSfwPk8EK0ui2cTwAAAAASUVORK5CYII=\n",
       "\" style=\"display:inline;vertical-align:middle;\" /></a></td></tr>\n",
       "<tr><td>4</td><td>Operation</td><td>operator:&nbsp;8<br>operands:&nbsp;7<br></td><td><a class=\"ProveItLink\" href=\"../273da7ffba443a4b19c48223f479c1ad3469c2df0/expr.ipynb\"><img src=\"data:image/png;base64,iVBORw0KGgoAAAANSUhEUgAAADUAAAAVCAMAAADRlFZ0AAAARVBMVEX///8sLCxlZWUbGxsJCQkd\n",
       "HR0PDw8WFhYyMjK6urpERETMzMwQEBAiIiKYmJju7u5mZmaqqqpUVFSIiIh2dnbc3NwAAADC7K9Z\n",
       "AAAAAXRSTlMAQObYZgAAAQJJREFUOMudU9t2xCAIpN1eiIoaEf//U4vR7GatJ9uGl5xwmxlAgBNb\n",
       "AlwwulJl0/HPp1KSmsHltCoOYWeau5yW0QBduH/TPD8wEn1/4ZOTizSqJc8Fodc5GHn2GtcpuDok\n",
       "yZxk5ch7WEx1Bxx6NWKCLap4njy4u4wGwjzKSswcNbNa3igDrHYX1UaFw7K6rEAbZA0mc7wIR2qf\n",
       "H0Q4k8XF75vgX8vN61TWYYRSbAdtHCbLUlkdIpXaz8smC/iuI2l8iTCVpQiV96o9KmV5kAy0QLIw\n",
       "3ZZ125SC4RxyZn/IEIy34SRNO11Ef3KC7296UoT/fCTjNf3JxFx5xOyvVL2C+gGrMQ1d8FD+mAAA\n",
       "AABJRU5ErkJggg==\n",
       "\" style=\"display:inline;vertical-align:middle;\" /></a></td></tr>\n",
       "<tr><td>5</td><td>Operation</td><td>operator:&nbsp;8<br>operands:&nbsp;9<br></td><td><a class=\"ProveItLink\" href=\"../3aeca989840c49fac6b7d7235001bd6fb934ddf70/expr.ipynb\"><img src=\"data:image/png;base64,iVBORw0KGgoAAAANSUhEUgAAADUAAAAVCAMAAADRlFZ0AAAAQlBMVEX///9bW1sNDQ0JCQkdHR0P\n",
       "Dw8WFhYyMjK6urpERETMzMwQEBAiIiKYmJju7u5mZmaqqqpUVFSIiIh2dnbc3NwAAADXC9tbAAAA\n",
       "AXRSTlMAQObYZgAAAP1JREFUOMudU9l2xSAIpKsrLoD//6s1pjGae5L2yIOJysAMIMCD6QAL5ldQ\n",
       "Ns/7QCbHiCDxCRX1tGWHjXbcv7cEp0Tq4MtFbgCBlP/+8uo8Ue4Qqd2dIoUBzBgylnT87rKEKUui\n",
       "SN1FTNgoDSAp5y7YbWEA9AjulNGyEE2pLhXgzaMAJNuDmSZkbJa/VmC7zGYaCee9//yoS6dVygxo\n",
       "5uilu5zGI3eiOicpdowR/LVZkEu/3QcDpckCOnVkrBMwt6IcbLi5pVodU/smA8ngdbazetz7paP8\n",
       "Fow4MNNUWVHv9mWUVR3d9Dju+JbVWMP/mZGFlyVm5RETrqD+SvUDB1sLVfEf4bUAAAAASUVORK5C\n",
       "YII=\n",
       "\" style=\"display:inline;vertical-align:middle;\" /></a></td></tr>\n",
       "<tr><td>6</td><td>ExprTuple</td><td>12, 10</td><td><a class=\"ProveItLink\" href=\"../06706af7e4d9309974f9792530dc1cae39ec95130/expr.ipynb\"><img src=\"data:image/png;base64,iVBORw0KGgoAAAANSUhEUgAAADEAAAAVBAMAAAAdjxsPAAAAMFBMVEX////c3NwiIiJERESqqqqY\n",
       "mJh2dnZmZmYQEBDu7u4yMjJUVFTMzMyIiIi6uroAAAAs73DqAAAAAXRSTlMAQObYZgAAARRJREFU\n",
       "KM9jYMAN+C5gEYwDEafRRXkUGBjYDwAZK9FluD4AiQUMDLwYhgX9BBJhDAwcE9AkGN0/AskZDAyv\n",
       "0LXw8v4DkswODGVASuy2yHW4oS9ZvgJJtgKGpQwMnAmsqhwKUAnOBzx/gRTLAoY+oDwD7weWAzDv\n",
       "MTB+B1ENDEBDORm4DeDWnN69+zPIUx9AMkAHIpz+gIGhCyLTAuLKH2CAOp4FiDUgppkyMLAK3Gfg\n",
       "nQCREwHi9UDMuoAhnYHBP8CCQZaB8xPIZcBQYbCfAHb1IwaGydem5QYwcPYLMDBa/BJgCP6/HBh4\n",
       "Dxg4BODRIYAUEsDQYU2AcViRwygXORaQZcD2ScN4yNHBDTKZEVts32FgAADlCTw7rUcUdAAAAABJ\n",
       "RU5ErkJggg==\n",
       "\" style=\"display:inline;vertical-align:middle;\" /></a></td></tr>\n",
       "<tr><td>7</td><td>ExprTuple</td><td>12, 11</td><td><a class=\"ProveItLink\" href=\"../ff099d1a0bb94c854b040e46fe675692626106110/expr.ipynb\"><img src=\"data:image/png;base64,iVBORw0KGgoAAAANSUhEUgAAADIAAAAVBAMAAAD2uKAMAAAAMFBMVEX////c3NwiIiJERESqqqqY\n",
       "mJh2dnZmZmYQEBDu7u4yMjJUVFTMzMyIiIi6uroAAAAs73DqAAAAAXRSTlMAQObYZgAAASJJREFU\n",
       "KM9jYMAN+C5gEWR9ACROowrt/7178zoGhhogeyWqag4DBob6BwxcDAy8aIadB/LPb2BgTWDgmIAq\n",
       "c1+AgSE+gYGzgeEVmt0WQKwBVG3CUAZkid0WuQ4z9DcDg5QlkE5nWMrAwJnAqsqhAJHg+X33uiqI\n",
       "4cXQx8DAxsD7geUARIb3IwPDpA1AxguGf0A9DNwGMGuYG4CyX0FuBMkAPQF3Oj9QPes3sEwLiC9/\n",
       "gAHq+PMBDAzcX8CmmQLVCNxn4J0AkQN5R34BkBEFdB2Df4AFgywD5yeod3i6JoBd/YiBYfK1abkB\n",
       "DJz9QOXF/3fvXhUAUrKOgUMAHh0CSEEBDB1g0MEiADmQ2C4gxQKKzCwgloZxUKJjIxAzYott3gMM\n",
       "AD3SRglZIJ+2AAAAAElFTkSuQmCC\n",
       "\" style=\"display:inline;vertical-align:middle;\" /></a></td></tr>\n",
       "<tr><td>8</td><td>Literal</td><td></td><td><a class=\"ProveItLink\" href=\"../../../membership/__pv_it/cc61ce5cf0825a46fd70733410654132b7dd0e550/expr.ipynb\"><img src=\"data:image/png;base64,iVBORw0KGgoAAAANSUhEUgAAAAwAAAAVCAMAAABFcv+GAAAAQlBMVEX///9bW1sNDQ0JCQkdHR0Q\n",
       "EBAPDw8WFhaYmJiIiIgyMjLc3NxERER2dnaqqqpmZmZUVFTMzMwiIiLu7u66uroAAACAfls5AAAA\n",
       "AXRSTlMAQObYZgAAAGtJREFUGNNNTkkSwCAIo7sirQr8/621LhUOYQIhAWCUCsxiQ3Iyi6hW1bt4\n",
       "5OtkrGp0AhTqPFCxEWyiOvO+HdCH2EL0YOZ9K4A97H66L5sQSA40DiKsKf+PBFwnAbckbG4jdsjI\n",
       "PO+dIXPxAnRTBHGTKJqmAAAAAElFTkSuQmCC\n",
       "\" style=\"display:inline;vertical-align:middle;\" /></a></td></tr>\n",
       "<tr><td>9</td><td>ExprTuple</td><td>12, 13</td><td><a class=\"ProveItLink\" href=\"../b41c30b9cd3af2259cbd476247d0bacd30b3966f0/expr.ipynb\"><img src=\"data:image/png;base64,iVBORw0KGgoAAAANSUhEUgAAADEAAAAVBAMAAAAdjxsPAAAAMFBMVEX////c3NwiIiJERESqqqqY\n",
       "mJh2dnZmZmYQEBDu7u4yMjJUVFTMzMyIiIi6uroAAAAs73DqAAAAAXRSTlMAQObYZgAAARtJREFU\n",
       "KM9jYMAN+C5gEYwDEadRxTgvby9lLGA/AGSuRJXJCGDgqwhgWMDAwItq2CxNIJEvwBDGwMAxAUVm\n",
       "BYj7goFhBgPDKxQJ9i8gUpyBgdmBoQzIErstch1iqPwCEDmHgYGtgGEp0DkJrKocCmCZ+gCoZpYF\n",
       "DH1AeQbeDywHwAL6AjBfNjD8A+ph4DaACvwHk0BX8HwAyQAdCHN6P9ikA2CZFrDFBxggjt8Potgh\n",
       "ppkyMLAK3GfgnQCWOw/SnAnErAsY0hkY/AMsGGQZOD+BBID+eQ5yBdDVjxgYJl+blhvAwNkPEjm9\n",
       "utwBZCzXAwYOAXh0CCAFBjB0WBNgHFbkYMpFjgVkGU5QKEnDeMjRwQ0ymRFbbN9hYAAAbnM9n/4V\n",
       "dp0AAAAASUVORK5CYII=\n",
       "\" style=\"display:inline;vertical-align:middle;\" /></a></td></tr>\n",
       "<tr><td>10</td><td>Variable</td><td></td><td><a class=\"ProveItLink\" href=\"../../../../../__pv_it/2cbe72a7ad6f655694dd697106680215e8489b600/expr.ipynb\"><img src=\"data:image/png;base64,iVBORw0KGgoAAAANSUhEUgAAAA8AAAAOBAMAAAACpFvcAAAALVBMVEX///8QEBBERERUVFS6urqI\n",
       "iIhmZmaqqqrc3Nzu7u6YmJgyMjIiIiLMzMwAAADtIaYWAAAAAXRSTlMAQObYZgAAAFtJREFUCNdj\n",
       "YACBOwxQsA9Kc52bAGG05zVAGAFxDmCaZULdAjBjCsO9ADDDgaEvAUTzGhvbKYCVMDAwbgAxChgY\n",
       "eASANAeQwf0AyJgNxEwvGRia5HYwcOm9TgAA6BoR3jrzwFcAAAAASUVORK5CYII=\n",
       "\" style=\"display:inline;vertical-align:middle;\" /></a></td></tr>\n",
       "<tr><td>11</td><td>Variable</td><td></td><td><a class=\"ProveItLink\" href=\"../../../../../__pv_it/077b2ff79244fb4582cbe22c6e3356fa92a52f2f0/expr.ipynb\"><img src=\"data:image/png;base64,iVBORw0KGgoAAAANSUhEUgAAABAAAAAOBAMAAADUAYG5AAAAMFBMVEX///+qqqru7u4iIiJ2dnbc\n",
       "3NyIiIjMzMxmZmYQEBC6uroyMjJERERUVFSYmJgAAADLUcuvAAAAAXRSTlMAQObYZgAAAGpJREFU\n",
       "CNdjYGB4+//u3dMLGIBgDgMDxy8gzf4NiP8CGWxfGRj4vgAZPBMYGJgnARn8FxhY9ygAGfXX0pof\n",
       "gDTlBzAw2YIYJ0EckBBI53sHoBH/gIz7AhBjWH9DjancBLTl/N+7t/cxMAAA3u4f/5xagjYAAAAA\n",
       "SUVORK5CYII=\n",
       "\" style=\"display:inline;vertical-align:middle;\" /></a></td></tr>\n",
       "<tr><td>12</td><td>Variable</td><td></td><td><a class=\"ProveItLink\" href=\"../../../../../__pv_it/530be409e3083890784cf1d7b28c9e67e90af9360/expr.ipynb\"><img src=\"data:image/png;base64,iVBORw0KGgoAAAANSUhEUgAAAAsAAAAJBAMAAAAWSsseAAAAKlBMVEX///9ERETMzMwQEBAiIiKY\n",
       "mJju7u5mZmaqqqpUVFSIiIh2dnbc3NwAAAA/vyDhAAAAAXRSTlMAQObYZgAAAENJREFUCNdjYDi9\n",
       "8sTyBQxsG1hdmR0YuBm4LnAoMLAxcAowgADzAjB1VoEhgYH1wFoGrgSG3gBhhlMMDImrs3cFMAAA\n",
       "t0YN+iTRa+sAAAAASUVORK5CYII=\n",
       "\" style=\"display:inline;vertical-align:middle;\" /></a></td></tr>\n",
       "<tr><td>13</td><td>Variable</td><td></td><td><a class=\"ProveItLink\" href=\"../../../../../__pv_it/985a1bdf1540838275dec15f4ad6de261cca93ce0/expr.ipynb\"><img src=\"data:image/png;base64,iVBORw0KGgoAAAANSUhEUgAAAA8AAAAOBAMAAAACpFvcAAAAMFBMVEX////MzMyqqqoiIiIyMjK6\n",
       "uroQEBB2dnbc3NyYmJhmZmZUVFRERESIiIju7u4AAAB204erAAAAAXRSTlMAQObYZgAAAGZJREFU\n",
       "CNdjYGDgu7NrJccCBgaGsgkMrMsmMDA8sQNy6hsYGNweABlhDAxcn4A0QxcDQ78DiPGQgWH9BAYI\n",
       "sG+AMv6DSaCGfBDNJMDAsB+kmwuI5S8AiTog5gSaEwXWIO29SgFIAQBC+RaDQlidVgAAAABJRU5E\n",
       "rkJggg==\n",
       "\" style=\"display:inline;vertical-align:middle;\" /></a></td></tr>\n",
       "</table>\n"
      ],
      "text/plain": [
       "0. (x not-in A) or (x not-in B) or (x not-in C)\n",
       "   core type: Operation\n",
       "   operator: 1\n",
       "   operands: 2\n",
       "1. or\n",
       "   core type: Literal\n",
       "   sub-expressions: \n",
       "2. (x not-in A , x not-in B , x not-in C)\n",
       "   core type: ExprTuple\n",
       "   sub-expressions: 3, 4, 5\n",
       "3. x not-in A\n",
       "   core type: Operation\n",
       "   operator: 8\n",
       "   operands: 6\n",
       "4. x not-in B\n",
       "   core type: Operation\n",
       "   operator: 8\n",
       "   operands: 7\n",
       "5. x not-in C\n",
       "   core type: Operation\n",
       "   operator: 8\n",
       "   operands: 9\n",
       "6. (x , A)\n",
       "   core type: ExprTuple\n",
       "   sub-expressions: 12, 10\n",
       "7. (x , B)\n",
       "   core type: ExprTuple\n",
       "   sub-expressions: 12, 11\n",
       "8. not-in\n",
       "   core type: Literal\n",
       "   sub-expressions: \n",
       "9. (x , C)\n",
       "   core type: ExprTuple\n",
       "   sub-expressions: 12, 13\n",
       "10. A\n",
       "    core type: Variable\n",
       "    sub-expressions: \n",
       "11. B\n",
       "    core type: Variable\n",
       "    sub-expressions: \n",
       "12. x\n",
       "    core type: Variable\n",
       "    sub-expressions: \n",
       "13. C\n",
       "    core type: Variable\n",
       "    sub-expressions: "
      ]
     },
     "execution_count": 4,
     "metadata": {},
     "output_type": "execute_result"
    }
   ],
   "source": [
    "# display the expression information\n",
    "expr.exprInfo()"
   ]
  },
  {
   "cell_type": "code",
   "execution_count": null,
   "metadata": {},
   "outputs": [],
   "source": []
  }
 ],
 "metadata": {
  "kernelspec": {
   "display_name": "Python 3",
   "language": "python",
   "name": "python3"
  }
 },
 "nbformat": 4,
 "nbformat_minor": 0
}
