{
 "cells": [
  {
   "cell_type": "markdown",
   "metadata": {},
   "source": [
    "Show the Proof\n",
    "========"
   ]
  },
  {
   "cell_type": "code",
   "execution_count": 1,
   "metadata": {},
   "outputs": [
    {
     "data": {
      "text/html": [
       "<table><tr><th>&nbsp;</th><th>step type</th><th>requirements</th><th>statement</th></tr>\n",
       "<tr><td>0</td><td>assumption</td><td></td><td><span style=\"font-size:20px;\"><a class=\"ProveItLink\" href=\"../7db2a778c579f8b9620b36429eb2349edbc8b36b0/expr.ipynb\"><img src=\"data:image/png;base64,iVBORw0KGgoAAAANSUhEUgAAAREAAAAVBAMAAACTXMcfAAAAMFBMVEX////c3NxERESqqqpUVFS6\n",
       "urrMzMwyMjIQEBCIiIh2dnYiIiLu7u5mZmaYmJgAAABXZE4RAAAAAXRSTlMAQObYZgAAA4VJREFU\n",
       "SMfFlk1IVFEUx8+b73nzZhwqkKDIKMhIykUYLYRRxlxVs0upQESo3UwLaWHaRJiEIa4KoVJok1Ix\n",
       "m+hjJIY2Zm6swCgopyCiDMzSpKixc+7Hm/d07qNZ9eDde959v7nzv+eec94FgMhb+M+XbyxKnfGQ\n",
       "2lYn8sPqgfJo76ADHUmQlPNkBr+SGVPqzQCE21aNlaYjhxfjjZ1raOhQTD25/U1+M8yQ+ZIaPY2N\n",
       "P6dS4iehKW5rglLRgSqA2YSkYZPoz5Sm9QGA4wPgJ/umqWRI6b2539h8Fgqmea+ik7gNyZikoZt3\n",
       "wdKbY3ThevQFiIzYlFyyMVeyWbkurX4B2yf8oX2c9yp6GANvfkTSvl3cdQGbBye7svf4smgWbxqM\n",
       "tFWJN2WFT3wp2sHgErauWvbQxJ2hpKvxvp+TtKeVO+OILcR6pK5ZojT08jarkjB6SBtt2P+KuaHG\n",
       "8stj7gIxbFuMVIiNKelFgMoaScMEZFj/Giz4OilEW2ZTYnTflkrCuEJ/HuApzOX7acAVtbg+4fuJ\n",
       "nZt5Qc+H2WpVtG9x6Nojk4Y78IL1PWDBt0o4XJDWPrznyTiJCR3AewSGoY4GHltLAWh/+HbiFQKN\n",
       "/YeKDmJITcUkjR6pZH0vFHGjSsKhBWm1iFzouIBGBc6dg0bxJps1Y7AjHv9Gq6VUhk8AB8CBdqGC\n",
       "YEHSkUHwsMpCgSZxbz/SLGIrGGRQxpGxA/3c0sbnBri4thDheJ+pZFy8U9EV6I/IL0mHcqICLkER\n",
       "L9bEAIPqhJIQpbIHFxRgcfyDSYSp4txuSga5O270oJ+iQkUncV2e73J36vE+RQar5AI3MhL2UJ2C\n",
       "abE7LE50fOnCOd5h2b/KmLw593q8z5Knyf2kgtQoaSonW1KCZipIDewGC37IDG/KBJ0y6aM1izHv\n",
       "3AVXWmMFwLhrZg5NuScn8rKdh6GSpnLi65O0r4rFOLAsLeJTCUnP14L3mXhvqWwZMHbeGrvOmcoZ\n",
       "kfLVy1F4v4JF20+/b5KFvjQNz1fi8dPkIUZ7ErLQHwULrnXL76Ov+SDP8k5btT9n+yTs7crayiiv\n",
       "3wme1v9Ie2XEQyBqfeluFtXedLyt2psfLcU1an8sj2afOPWlD0olEedTgRkv1pNCWbTqVCCuCfN8\n",
       "Yjyg7Ys5wZ6o/bk8GjY4KmmgmOnl3ruBzUYn+PLqgfJozen0GGwT59i/9eQTWx4sSlMAAAAASUVO\n",
       "RK5CYII=\n",
       "\" style=\"display:inline;vertical-align:middle;\" /></a> <a class=\"ProveItLink\" href=\"proof.ipynb\" style=\"text-decoration: none\">&#x22A2;&nbsp;</a><a class=\"ProveItLink\" href=\"../d1f53ea075c760a60dac891532226b0c93fd89600/expr.ipynb\"><img src=\"data:image/png;base64,iVBORw0KGgoAAAANSUhEUgAAAPsAAAAVBAMAAAByEoVnAAAAMFBMVEX////c3NwiIiJERESqqqqY\n",
       "mJh2dnZmZmYQEBDu7u4yMjJUVFTMzMyIiIi6uroAAAAs73DqAAAAAXRSTlMAQObYZgAAAzNJREFU\n",
       "SMfFlk1oE0EUgN+mSfO/XWhRrEhDwEMVbBWF6qW5CXrongQVNRdRD8Ug/h2Exp9LLzZUECkq20qp\n",
       "RajxIEKjNtiL2EMDgoJaunixCIUKKthi63szO5tJmlkMHhzYnZnMN++9ffPemwD856aXPBYD9j/R\n",
       "sOil+Ti9ZpTLr/C5UvWbgj66Vijss9fRsXxtPPz22QUtEyzicFyp/jE+EWe8yelV9HWA4KpLazne\n",
       "R3K16dMm6JdNsADiSm8GOnBzIM0nY7xT0bHf+Ky4dCTD+7na9FA7vs4acAggVGHgvZHkNjFu6TPQ\n",
       "TVkufhfHVHT8G1r6U9Aw3c77/gqPf0gmLTZ6SFIWAO4AfK34iFFJfGmeImk3G0cX+Wer6AbU6+sX\n",
       "NLzkn61bMv7msDMIfqf3RtyVgos42vCx5T0T3yxp13M9JnanuLsgwXoV3ZQH7UFO0GHLx/WkJVzb\n",
       "K+A2ZtVdgMYMjCKdDmwNMfE7JWPvwyztOsAmJ+E861X07Iu5c6ZLN5rBFAsBU8IbDAH3mc7Ab8FN\n",
       "pCG+5KckCHdK6m1oy/AjwpaAVtar6HkDwttd2gca+8CQLeG3XLhDGKJnYRXlQJRL0q8lkyKYYoXC\n",
       "FP06y5KgBFESoaS7yATToeEYwHN2JLaELyDNQ2+NzfGoYkskEM0srasSOv5qCfW+nLOmolfwOZEW\n",
       "6tud8tRkS3i5YA0wxxeZ+hssGIpkDIQTZYF4eL6scOd+fIZpoKBjP/A1lXJoPx5ahBwcSkn4oEtP\n",
       "0TTInb8HXWvMQ5xF8VMX0XBnZAkHR8BRTSaoaEp7bVnQpJpMgAZTwqOmG6fkjjN0phalSo/ZBVvY\n",
       "wqB7ZwzR7l9O4sU6WTzxWS2a0v71uEjTaR6sLLHKeHiHW04x778YfP0zxuS7273cNG2syInmgWEI\n",
       "dC/j9gky3Bb1tjYd7F4pTI7SaIIVHVFv9YSMt7oX0syjSzwxbQgZcmXyT5aLLq8gWR6GLBPhr2gG\n",
       "8j1XK1YPjiQryiAVXXFLKFpj5R1TH013ilfr9bxwRQzIrT5adeE6viJfbPYU+KRqXh+t5b3oKJ2k\n",
       "5vX3KV6sFlgX7aSIon0C+APyO+xjE7osPgAAAABJRU5ErkJggg==\n",
       "\" style=\"display:inline;vertical-align:middle;\" /></a></span></td></tr>\n",
       "</table>"
      ],
      "text/plain": [
       "<proveit._core_.proof._ShowProof at 0x7f94ebaabe48>"
      ]
     },
     "execution_count": 1,
     "metadata": {},
     "output_type": "execute_result"
    }
   ],
   "source": [
    "import proveit\n",
    "%show_proof"
   ]
  },
  {
   "cell_type": "code",
   "execution_count": null,
   "metadata": {},
   "outputs": [],
   "source": []
  }
 ],
 "metadata": {
  "kernelspec": {
   "display_name": "Python 3",
   "language": "python",
   "name": "python3"
  }
 },
 "nbformat": 4,
 "nbformat_minor": 0
}
