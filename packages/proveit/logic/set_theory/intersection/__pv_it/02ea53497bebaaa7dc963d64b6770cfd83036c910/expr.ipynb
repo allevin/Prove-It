{
 "cells": [
  {
   "cell_type": "markdown",
   "metadata": {},
   "source": [
    "Expression of type <a class=\"ProveItLink\" href=\"../../../../../../../doc/html/api/proveit.ExprTuple.html\">ExprTuple</a>\n",
    "=======================\n",
    "# from context <a class=\"ProveItLink\" href=\"../../_context_.ipynb\">proveit.logic.set_theory.intersection</a>"
   ]
  },
  {
   "cell_type": "code",
   "execution_count": 1,
   "metadata": {},
   "outputs": [],
   "source": [
    "# import Expression classes needed to build the expression\n",
    "from proveit import ExprTuple, Variable\n",
    "from proveit._common_ import S\n",
    "from proveit.logic import InSet"
   ]
  },
  {
   "cell_type": "code",
   "execution_count": 2,
   "metadata": {},
   "outputs": [
    {
     "data": {
      "text/html": [
       "<strong id=\"expr\">expr:</strong> <a class=\"ProveItLink\" href=\"expr.ipynb\"><img src=\"data:image/png;base64,iVBORw0KGgoAAAANSUhEUgAAALMAAAAVBAMAAAD/f8IzAAAAMFBMVEX////c3NwiIiJERESqqqqY\n",
       "mJh2dnZmZmYQEBDu7u4yMjJUVFTMzMyIiIi6uroAAAAs73DqAAAAAXRSTlMAQObYZgAAAihJREFU\n",
       "OMtjYKAh4LtAC1PjQMRpopRGl1fGEWkq6/byqQ/YDwBZK4lRzhXAMPkDkUYvZeC0Z2BYwMDAS1R4\n",
       "bGNgYFlAnMncCQwMXgwMYQwMHBNwq5q7SEkLzGD8w8DAg9cNnLeUlCB2ywOD4iwDwwwGhle4lfMs\n",
       "hVnL9wXIO4DP6FORMNZ7BwaGMwwMzA4MZQhpxtyNvrVIyoXhHmL8fwfNKLHbIteRvMFoCWfK/wW7\n",
       "ga0AGOhwMI0hKKAJSbshgnn//2cBFP8nsKpyKCD4zAhZ3v//QRqBUdOHkE9guM/gg6TdAMlV0f2d\n",
       "yEazMfB+YEEKoclIcqI7fgC9y9fA8A8hNoFhM0pealJSgkYjyLCvKK5m4DZA5r8AKlWCJ6H8AGDU\n",
       "fEA2moGhFyUWN8CZQKWcX1EDmwMlwSDyHSsQz4cY3YKkAJjGOJFcBg9LzgKg3EdUo4FpDCnZToKz\n",
       "poPkBMABYoqQD+T9wHATSfdWGAOUW9g3IFvLKnCfgRfJaO4AGAuYWxiqQSoWMKTDpVm+MjcwIntz\n",
       "0gMog12XgeEy0J+IJOEfYMEgixz2ejBW0QUGXgNI4nsENNMYCCwZOG0z064yMDiDeGAHMS6HpgFu\n",
       "vt2bgc6a8RGudvK1abkBMA4ISNVAjd7wejc4ILgeMHAI4M5iLLsQKQQEHuLJjt6LlFAKGWBGZ00g\n",
       "vhAOIKHAziW2UCXZaE6QF6SJVs5LgqO5QeHMSJMKDFicAQA1LXz+EzPMgwAAAABJRU5ErkJggg==\n",
       "\" style=\"display:inline;vertical-align:middle;\" /></a><br>"
      ],
      "text/plain": [
       "expr: (_x_ in S , _x_ in S)"
      ]
     },
     "execution_count": 2,
     "metadata": {},
     "output_type": "execute_result"
    }
   ],
   "source": [
    "# build up the expression from sub-expressions\n",
    "subExpr1 = InSet(Variable(\"_x_\", latexFormat = r\"{_{-}x_{-}}\"), S)\n",
    "expr = ExprTuple(subExpr1, subExpr1)"
   ]
  },
  {
   "cell_type": "code",
   "execution_count": 3,
   "metadata": {},
   "outputs": [
    {
     "name": "stdout",
     "output_type": "stream",
     "text": [
      "Passed sanity check: built 'expr' is the same as the stored Expression.\n"
     ]
    }
   ],
   "source": [
    "# check that the built expression is the same as the stored expression\n",
    "%check_expr"
   ]
  },
  {
   "cell_type": "code",
   "execution_count": 4,
   "metadata": {},
   "outputs": [
    {
     "data": {
      "text/html": [
       "<table><tr><th>&nbsp;</th><th>core type</th><th>sub-expressions</th><th>expression</th></tr>\n",
       "<tr><td>0</td><td>ExprTuple</td><td>1, 1</td><td><a class=\"ProveItLink\" href=\"expr.ipynb\"><img src=\"data:image/png;base64,iVBORw0KGgoAAAANSUhEUgAAALMAAAAVBAMAAAD/f8IzAAAAMFBMVEX////c3NwiIiJERESqqqqY\n",
       "mJh2dnZmZmYQEBDu7u4yMjJUVFTMzMyIiIi6uroAAAAs73DqAAAAAXRSTlMAQObYZgAAAihJREFU\n",
       "OMtjYKAh4LtAC1PjQMRpopRGl1fGEWkq6/byqQ/YDwBZK4lRzhXAMPkDkUYvZeC0Z2BYwMDAS1R4\n",
       "bGNgYFlAnMncCQwMXgwMYQwMHBNwq5q7SEkLzGD8w8DAg9cNnLeUlCB2ywOD4iwDwwwGhle4lfMs\n",
       "hVnL9wXIO4DP6FORMNZ7BwaGMwwMzA4MZQhpxtyNvrVIyoXhHmL8fwfNKLHbIteRvMFoCWfK/wW7\n",
       "ga0AGOhwMI0hKKAJSbshgnn//2cBFP8nsKpyKCD4zAhZ3v//QRqBUdOHkE9guM/gg6TdAMlV0f2d\n",
       "yEazMfB+YEEKoclIcqI7fgC9y9fA8A8hNoFhM0pealJSgkYjyLCvKK5m4DZA5r8AKlWCJ6H8AGDU\n",
       "fEA2moGhFyUWN8CZQKWcX1EDmwMlwSDyHSsQz4cY3YKkAJjGOJFcBg9LzgKg3EdUo4FpDCnZToKz\n",
       "poPkBMABYoqQD+T9wHATSfdWGAOUW9g3IFvLKnCfgRfJaO4AGAuYWxiqQSoWMKTDpVm+MjcwIntz\n",
       "0gMog12XgeEy0J+IJOEfYMEgixz2ejBW0QUGXgNI4nsENNMYCCwZOG0z064yMDiDeGAHMS6HpgFu\n",
       "vt2bgc6a8RGudvK1abkBMA4ISNVAjd7wejc4ILgeMHAI4M5iLLsQKQQEHuLJjt6LlFAKGWBGZ00g\n",
       "vhAOIKHAziW2UCXZaE6QF6SJVs5LgqO5QeHMSJMKDFicAQA1LXz+EzPMgwAAAABJRU5ErkJggg==\n",
       "\" style=\"display:inline;vertical-align:middle;\" /></a></td></tr>\n",
       "<tr><td>1</td><td>Operation</td><td>operator:&nbsp;2<br>operands:&nbsp;3<br></td><td><a class=\"ProveItLink\" href=\"../6d032ba85a18acea57dd4da6ae3af2fc1a8f96860/expr.ipynb\"><img src=\"data:image/png;base64,iVBORw0KGgoAAAANSUhEUgAAAE4AAAAPBAMAAAC4gOTnAAAAMFBMVEX///+6uroyMjLMzMwQEBAi\n",
       "IiKYmJhmZmZUVFSIiIh2dnbc3Nzu7u5ERESqqqoAAABZrPngAAAAAXRSTlMAQObYZgAAANVJREFU\n",
       "KM9jYCAMMsprEolQxpTAcPYDEeq6GBj4FHDK8kwKDQXLcn9mYGCegFOdUQ6UwfgPqM4AJsy9svtl\n",
       "JZIy7jtw1v/JSOKnGFITXJH4vBvgzPn//yI4CxjmMzxGUncWyegMfx845wBDL4rzREJDof4AAq5v\n",
       "SDKeKOos4KwEoN+R1AG9z4Ok7ig8fAqAcr/h4tmcHxjmIKnjSIAyQEHM3gAT5vvG68CNHJg8gVAG\n",
       "eyQDw1wg/fYuEBzgublm1TQYByy/qRhqMGNHbwK+aH2hGooUqwBY6Dj/clGjrgAAAABJRU5ErkJg\n",
       "gg==\n",
       "\" style=\"display:inline;vertical-align:middle;\" /></a></td></tr>\n",
       "<tr><td>2</td><td>Literal</td><td></td><td><a class=\"ProveItLink\" href=\"../../../membership/__pv_it/088cbc857536a28d4119ad9639a84270ccb0545d0/expr.ipynb\"><img src=\"data:image/png;base64,iVBORw0KGgoAAAANSUhEUgAAAAwAAAAMBAMAAACkW0HUAAAALVBMVEX///+qqqpmZmZUVFQQEBC6\n",
       "urpERETc3NyYmJjMzMwiIiIyMjKIiIju7u4AAACYsrA9AAAAAXRSTlMAQObYZgAAADxJREFUCNdj\n",
       "YOA9vWrVBgaG2b0MQMCeCyIZ2ArA1DUwyRCyahVIyWQI7xaEYm4AU7xLIdxqTQgtvGvVBgCkcQ7e\n",
       "geM/tQAAAABJRU5ErkJggg==\n",
       "\" style=\"display:inline;vertical-align:middle;\" /></a></td></tr>\n",
       "<tr><td>3</td><td>ExprTuple</td><td>4, 5</td><td><a class=\"ProveItLink\" href=\"../d8a3bf42d0af1beb25e143ff8ddaae61955e3e4a0/expr.ipynb\"><img src=\"data:image/png;base64,iVBORw0KGgoAAAANSUhEUgAAAEsAAAAVBAMAAAD85A5eAAAAMFBMVEX////c3NwiIiJERESqqqqY\n",
       "mJh2dnZmZmYQEBDu7u4yMjJUVFTMzMyIiIi6uroAAAAs73DqAAAAAXRSTlMAQObYZgAAASNJREFU\n",
       "KM9jYCAS8F0gpCIORJzGp4J1e/nUB+wHgKyV+JQtZeC0Z2BYwMDAi89O7gQGBi8GhjAGBo4JeJTJ\n",
       "A607y8Awg4HhFT473zswMJxhYGB2YChDCIrdFrmO6gT5vyDXM7AVAB0JA5wJrKocCijKeP//NwRS\n",
       "LAsY+uBibAy8H1gOoNoquuMH0O18DQz/EKYxcBtgOi8/gIGB5wOSMqCv0QKHFYjnQ5S1oPofJXim\n",
       "g8QEwJaaIvQK3GfghSsDMYAhy1ANklnAkA5X5h9gwSALd+gnIFF0gYHXABIgj4D+NQYCS4bJ16bl\n",
       "BsA4nP1Ayza83g22jOsBA4cAjvSFJA6MLNYEHEkIiZ2LOyEhKeMEJiQGaezKkIKQG2Q/I8FEfoeB\n",
       "AQDYIUAWEANP6QAAAABJRU5ErkJggg==\n",
       "\" style=\"display:inline;vertical-align:middle;\" /></a></td></tr>\n",
       "<tr><td>4</td><td>Variable</td><td></td><td><a class=\"ProveItLink\" href=\"../5144cf74ae6a683b49b974f1b9302b432abf7e930/expr.ipynb\"><img src=\"data:image/png;base64,iVBORw0KGgoAAAANSUhEUgAAACUAAAAJBAMAAABH3vh9AAAAKlBMVEX////MzMwQEBAiIiKYmJhm\n",
       "ZmZUVFSIiIh2dnbc3Nzu7u5ERESqqqoAAABwkVEpAAAAAXRSTlMAQObYZgAAAEtJREFUCNdjYIAA\n",
       "zvbM4+EMqGAFg7ODMppYA0Mtw0E0sQUM2QyYQB1TiPMiAxeakCf7BYYqVCGeK9wKnAUw3undQLCA\n",
       "a3tXRwmMAwC3+RVNp6j0GAAAAABJRU5ErkJggg==\n",
       "\" style=\"display:inline;vertical-align:middle;\" /></a></td></tr>\n",
       "<tr><td>5</td><td>Variable</td><td></td><td><a class=\"ProveItLink\" href=\"../../../../../__pv_it/abeee18594afe51bfb1be95d9591fbba24ac53f30/expr.ipynb\"><img src=\"data:image/png;base64,iVBORw0KGgoAAAANSUhEUgAAAA0AAAAOBAMAAAAGUYvhAAAAMFBMVEX///8iIiIQEBCIiIjMzMzc\n",
       "3Nyqqqp2dnZEREQyMjK6urru7u5mZmZUVFSYmJgAAACI6eGPAAAAAXRSTlMAQObYZgAAAF1JREFU\n",
       "CNdjYGDgu3Nm3wIGBoZ5DNz9QIq3gIEhE0jHOzAwOAPp9QkMDC4g/megABAw///fCmbEXfq0Acxg\n",
       "qH8ANAVI7wfSe0BKAyBGnAXigwYMzA1A+sLau31ACgAz0hhbkhGHbwAAAABJRU5ErkJggg==\n",
       "\" style=\"display:inline;vertical-align:middle;\" /></a></td></tr>\n",
       "</table>\n"
      ],
      "text/plain": [
       "0. (_x_ in S , _x_ in S)\n",
       "   core type: ExprTuple\n",
       "   sub-expressions: 1, 1\n",
       "1. _x_ in S\n",
       "   core type: Operation\n",
       "   operator: 2\n",
       "   operands: 3\n",
       "2. in\n",
       "   core type: Literal\n",
       "   sub-expressions: \n",
       "3. (_x_ , S)\n",
       "   core type: ExprTuple\n",
       "   sub-expressions: 4, 5\n",
       "4. _x_\n",
       "   core type: Variable\n",
       "   sub-expressions: \n",
       "5. S\n",
       "   core type: Variable\n",
       "   sub-expressions: "
      ]
     },
     "execution_count": 4,
     "metadata": {},
     "output_type": "execute_result"
    }
   ],
   "source": [
    "# display the expression information\n",
    "expr.exprInfo()"
   ]
  },
  {
   "cell_type": "code",
   "execution_count": null,
   "metadata": {},
   "outputs": [],
   "source": []
  }
 ],
 "metadata": {
  "kernelspec": {
   "display_name": "Python 3",
   "language": "python",
   "name": "python3"
  }
 },
 "nbformat": 4,
 "nbformat_minor": 0
}
