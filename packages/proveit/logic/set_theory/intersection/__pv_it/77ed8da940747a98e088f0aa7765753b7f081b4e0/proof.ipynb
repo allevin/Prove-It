{
 "cells": [
  {
   "cell_type": "markdown",
   "metadata": {},
   "source": [
    "Show the Proof\n",
    "========"
   ]
  },
  {
   "cell_type": "code",
   "execution_count": 1,
   "metadata": {},
   "outputs": [
    {
     "data": {
      "text/html": [
       "<table><tr><th>&nbsp;</th><th>step type</th><th>requirements</th><th>statement</th></tr>\n",
       "<tr><td>0</td><td>assumption</td><td></td><td><span style=\"font-size:20px;\"><a class=\"ProveItLink\" href=\"../647fd3b3da086a093faffbaaa6f3024d47c80a6f0/expr.ipynb\"><img src=\"data:image/png;base64,iVBORw0KGgoAAAANSUhEUgAAAGEAAAAVBAMAAACkm51HAAAAMFBMVEX////c3NxERESqqqpUVFS6\n",
       "urrMzMwyMjIQEBCIiIh2dnYiIiLu7u5mZmaYmJgAAABXZE4RAAAAAXRSTlMAQObYZgAAATtJREFU\n",
       "OMtjYGDgu8dAJGBbJQCieHYxEA3YmkEk5weiFD+5e+cpA8N1EJOrgRgN7A8YDgGNXkG8Di8GBuYC\n",
       "InTwTN+9uwDEYPwG9MQEInSkv4EyWD8DdSRg6mBc6Wh5E0kDow6c9X8amAbr4C2AqzjF8PpBN5IO\n",
       "JgE4c/7/TyDOexA7IwAuvIBhPoMZko5DSNY96e8BBdkFBoaUNoTwAQYnFG9E7N4N9TnI9f9ApPoD\n",
       "oHACkppOFB0pcBZQHQ9IB/cCIMFSgGT3NwYeJB2n4aEMdAzjR5g/uDbAVTwEppg5SDpYHkAZoMjj\n",
       "dWDACF3mf0wNjBOQI3ArlMG7k4FhEgOyDiMlIDjAo7lm1TwYB6xS/BrUMlYXpwcMDMSkK5Pq3QXI\n",
       "fBJSIrIOPlJ0gPMHz04S8mArmOJbTFI+BwBFYVX7gGsWyAAAAABJRU5ErkJggg==\n",
       "\" style=\"display:inline;vertical-align:middle;\" /></a> <a class=\"ProveItLink\" href=\"proof.ipynb\" style=\"text-decoration: none\">&#x22A2;&nbsp;</a><a class=\"ProveItLink\" href=\"../32ada6b89868931bc8ea7c9d857f7b2d0f47ba4c0/expr.ipynb\"><img src=\"data:image/png;base64,iVBORw0KGgoAAAANSUhEUgAAAE4AAAAPBAMAAAC4gOTnAAAAMFBMVEX///+6uroyMjLMzMwQEBAi\n",
       "IiKYmJhmZmZUVFSIiIh2dnbc3Nzu7u5ERESqqqoAAABZrPngAAAAAXRSTlMAQObYZgAAANVJREFU\n",
       "KM9jYCAMMsprEolQxpTAcPYDEeq6GBj4FHDK8kwKDQXLcn9mYGCegFOdUQ6UwfgPqM4AJsy9svtl\n",
       "JZIy7jtw1v/JSOKnGFITXJH4vBvgzPn//yI4CxjmMzxGUncWyegMfx845wBDL4rzREJDof4AAq5v\n",
       "SDKeKOos4KwEoN+R1AG9z4Ok7ig8fAqAcr/h4tmcHxjmIKnjSIAyQEHM3gAT5vvG68CNHJg8gVAG\n",
       "eyQDw1wg/fYuEBzgublm1TQYByy/qRhqMGNHbwK+aH2hGooUqwBY6Dj/clGjrgAAAABJRU5ErkJg\n",
       "gg==\n",
       "\" style=\"display:inline;vertical-align:middle;\" /></a></span></td></tr>\n",
       "</table>"
      ],
      "text/plain": [
       "<proveit._core_.proof._ShowProof at 0x7f94dbac8940>"
      ]
     },
     "execution_count": 1,
     "metadata": {},
     "output_type": "execute_result"
    }
   ],
   "source": [
    "import proveit\n",
    "%show_proof"
   ]
  },
  {
   "cell_type": "code",
   "execution_count": null,
   "metadata": {},
   "outputs": [],
   "source": []
  }
 ],
 "metadata": {
  "kernelspec": {
   "display_name": "Python 3",
   "language": "python",
   "name": "python3"
  }
 },
 "nbformat": 4,
 "nbformat_minor": 0
}
