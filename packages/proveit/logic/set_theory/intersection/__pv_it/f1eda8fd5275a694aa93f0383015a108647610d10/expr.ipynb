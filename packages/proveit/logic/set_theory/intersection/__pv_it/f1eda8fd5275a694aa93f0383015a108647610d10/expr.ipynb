{
 "cells": [
  {
   "cell_type": "markdown",
   "metadata": {},
   "source": [
    "Expression of type <a class=\"ProveItLink\" href=\"../../../../../../../doc/html/api/proveit.ExprTuple.html\">ExprTuple</a>\n",
    "=======================\n",
    "# from context <a class=\"ProveItLink\" href=\"../../_context_.ipynb\">proveit.logic.set_theory.intersection</a>"
   ]
  },
  {
   "cell_type": "code",
   "execution_count": 1,
   "metadata": {},
   "outputs": [],
   "source": [
    "# import Expression classes needed to build the expression\n",
    "from proveit import ExprTuple\n",
    "from proveit._common_ import S\n",
    "from proveit.logic import Intersect"
   ]
  },
  {
   "cell_type": "code",
   "execution_count": 2,
   "metadata": {},
   "outputs": [
    {
     "data": {
      "text/html": [
       "<strong id=\"expr\">expr:</strong> <a class=\"ProveItLink\" href=\"expr.ipynb\"><img src=\"data:image/png;base64,iVBORw0KGgoAAAANSUhEUgAAAFUAAAAVBAMAAADFg78FAAAAMFBMVEX////c3NwiIiJERESqqqqY\n",
       "mJh2dnZmZmYQEBDu7u4yMjJUVFTMzMyIiIi6uroAAAAs73DqAAAAAXRSTlMAQObYZgAAAXpJREFU\n",
       "KM+VUz1LA0EQfUEvyXnekcbKwvwBQYV0gqksrK7SIhDSWYnBwiA2FjY2KkgwnddYiBYBwQ/SpPYD\n",
       "AraC0VILE1SwUM/Z3du5rWJcuOXNzGN23swc8J/jtfqiFcV1La5CZa0YOQ0YHeu8Um2nmoSO6Bvy\n",
       "sddRgRgmMhH3EPYMEACuKOEMGAxUgOHc8dS09DglMoB5IL1LGb6AYVU2Q+cSuJK+MXr9FqgBz0Le\n",
       "OxGaSqmGC8I6EddrHrgBBvJYFcnCe62DoZCBWZn3W6ZJlqlwOg/hmxaiYZZ75IbhJKSKbZmtsLOl\n",
       "E0cw5mLk4pNEeRv4UZTkB7dTQYMLLPukoiO5hOyIy5C5Fn0HirtJwTI93ZXUGDJ3X8jLyBpyqvep\n",
       "OmwwNLk0BqyL/AEWKTgO3NFDWYYmd6UFd0L17IlG5DVOqaBal6HJrb80cnJR2khnuAGP5nLJ8VYN\n",
       "B83YKrHl91zgJT3Mv7m2WL5Rbbk90zqi1kR//xCt1C9IrG2JPzlX/QAAAABJRU5ErkJggg==\n",
       "\" style=\"display:inline;vertical-align:middle;\" /></a><br>"
      ],
      "text/plain": [
       "expr: (S , S intersect S)"
      ]
     },
     "execution_count": 2,
     "metadata": {},
     "output_type": "execute_result"
    }
   ],
   "source": [
    "# build up the expression from sub-expressions\n",
    "expr = ExprTuple(S, Intersect(S, S))"
   ]
  },
  {
   "cell_type": "code",
   "execution_count": 3,
   "metadata": {},
   "outputs": [
    {
     "name": "stdout",
     "output_type": "stream",
     "text": [
      "Passed sanity check: built 'expr' is the same as the stored Expression.\n"
     ]
    }
   ],
   "source": [
    "# check that the built expression is the same as the stored expression\n",
    "%check_expr"
   ]
  },
  {
   "cell_type": "code",
   "execution_count": 4,
   "metadata": {},
   "outputs": [
    {
     "data": {
      "text/html": [
       "<table><tr><th>&nbsp;</th><th>core type</th><th>sub-expressions</th><th>expression</th></tr>\n",
       "<tr><td>0</td><td>ExprTuple</td><td>4, 1</td><td><a class=\"ProveItLink\" href=\"expr.ipynb\"><img src=\"data:image/png;base64,iVBORw0KGgoAAAANSUhEUgAAAFUAAAAVBAMAAADFg78FAAAAMFBMVEX////c3NwiIiJERESqqqqY\n",
       "mJh2dnZmZmYQEBDu7u4yMjJUVFTMzMyIiIi6uroAAAAs73DqAAAAAXRSTlMAQObYZgAAAXpJREFU\n",
       "KM+VUz1LA0EQfUEvyXnekcbKwvwBQYV0gqksrK7SIhDSWYnBwiA2FjY2KkgwnddYiBYBwQ/SpPYD\n",
       "AraC0VILE1SwUM/Z3du5rWJcuOXNzGN23swc8J/jtfqiFcV1La5CZa0YOQ0YHeu8Um2nmoSO6Bvy\n",
       "sddRgRgmMhH3EPYMEACuKOEMGAxUgOHc8dS09DglMoB5IL1LGb6AYVU2Q+cSuJK+MXr9FqgBz0Le\n",
       "OxGaSqmGC8I6EddrHrgBBvJYFcnCe62DoZCBWZn3W6ZJlqlwOg/hmxaiYZZ75IbhJKSKbZmtsLOl\n",
       "E0cw5mLk4pNEeRv4UZTkB7dTQYMLLPukoiO5hOyIy5C5Fn0HirtJwTI93ZXUGDJ3X8jLyBpyqvep\n",
       "OmwwNLk0BqyL/AEWKTgO3NFDWYYmd6UFd0L17IlG5DVOqaBal6HJrb80cnJR2khnuAGP5nLJ8VYN\n",
       "B83YKrHl91zgJT3Mv7m2WL5Rbbk90zqi1kR//xCt1C9IrG2JPzlX/QAAAABJRU5ErkJggg==\n",
       "\" style=\"display:inline;vertical-align:middle;\" /></a></td></tr>\n",
       "<tr><td>1</td><td>Operation</td><td>operator:&nbsp;2<br>operands:&nbsp;3<br></td><td><a class=\"ProveItLink\" href=\"../67ab27a4d51497134688a7f7718f285e233e49c80/expr.ipynb\"><img src=\"data:image/png;base64,iVBORw0KGgoAAAANSUhEUgAAADIAAAAPBAMAAABU9YHxAAAAMFBMVEX///8iIiIQEBCIiIjMzMzc\n",
       "3Nyqqqp2dnZEREQyMjK6urru7u5mZmZUVFSYmJgAAACI6eGPAAAAAXRSTlMAQObYZgAAAOBJREFU\n",
       "GNNjYGDgu3Nm3wIGFPD2zOlXQGoeA3c/RCAUKsH5gGHHBwYG3gIGhkwQn23mDQkHsMx1IGcCA0M8\n",
       "kOcM4t/dwMAyGcRg/cLAwGLAwLA+gYHBBcjnOwAyB6SJ6xtQBsiI/wwxgnMDyMQCkJ7/JmAR5v//\n",
       "W0E0I4hguQAi7f//CADRcZc+bUCVYX2rrw1xZf0DVBkGBvZ/QIuB9H5UGSCPGyizB8iMD0CW4QY6\n",
       "kvUrxJNnUVwA8iQPkD5owMDcgCLDI8zAYAFkX1h7t48BRYaX6+6NB8jhywwiuBFCAD8FPo6MP7rU\n",
       "AAAAAElFTkSuQmCC\n",
       "\" style=\"display:inline;vertical-align:middle;\" /></a></td></tr>\n",
       "<tr><td>2</td><td>Literal</td><td></td><td><a class=\"ProveItLink\" href=\"../b92f67f0486746ea0d6b21767755d70bf02e0a1a0/expr.ipynb\"><img src=\"data:image/png;base64,iVBORw0KGgoAAAANSUhEUgAAAAwAAAAOBAMAAADpk+DfAAAAKlBMVEX///92dnZmZmaYmJiIiIju\n",
       "7u7MzMwiIiJERERUVFQyMjKqqqrc3NwAAABI3Db5AAAAAXRSTlMAQObYZgAAADBJREFUCNdjYGDg\n",
       "OcAABLtWtrcxMHBOZWDIcmAwAoksY1gKojYyFICoTNIpBxAVDAANVw4O+bd0jgAAAABJRU5ErkJg\n",
       "gg==\n",
       "\" style=\"display:inline;vertical-align:middle;\" /></a></td></tr>\n",
       "<tr><td>3</td><td>ExprTuple</td><td>4, 4</td><td><a class=\"ProveItLink\" href=\"../27adfca80b2060421c1304707532f69ff29fae6f0/expr.ipynb\"><img src=\"data:image/png;base64,iVBORw0KGgoAAAANSUhEUgAAADAAAAAVBAMAAADyTXAxAAAAMFBMVEX////c3NwiIiJERESqqqqY\n",
       "mJh2dnZmZmYQEBDu7u4yMjJUVFTMzMyIiIi6uroAAAAs73DqAAAAAXRSTlMAQObYZgAAAPtJREFU\n",
       "KM9jYMAJ+C5girE+ABKnQazo8so4qCCYWQNkrARirgCGyR8g4hAmFwMDL8ikbQwMLAsgEhAmawID\n",
       "xwQGBsY/DAw8EKugTM4Ghlcg+78AeQcgToEyTRjKQMr+34G5B8ZMZ1gKou7//ywAlYEyvRj6wOqi\n",
       "+zthWiDMFwz/IHy2r3DfgZnnwRIBDAycUAkY8zxDC5BVADThI1gcznzBYArxG/sGBk4GOJOBIQro\n",
       "LgZ2XQaGywwM8xXgTJBzHzEwcPPt3gw0e8ZHOJOBYR0DhwDcOQ8R4Q4MEmBwwUAAQoLtAiTYMSRm\n",
       "AbE0jMOLFIUbQWGAJWp5DzAAAETNSSaojuC/AAAAAElFTkSuQmCC\n",
       "\" style=\"display:inline;vertical-align:middle;\" /></a></td></tr>\n",
       "<tr><td>4</td><td>Variable</td><td></td><td><a class=\"ProveItLink\" href=\"../../../../../__pv_it/abeee18594afe51bfb1be95d9591fbba24ac53f30/expr.ipynb\"><img src=\"data:image/png;base64,iVBORw0KGgoAAAANSUhEUgAAAA0AAAAOBAMAAAAGUYvhAAAAMFBMVEX///8iIiIQEBCIiIjMzMzc\n",
       "3Nyqqqp2dnZEREQyMjK6urru7u5mZmZUVFSYmJgAAACI6eGPAAAAAXRSTlMAQObYZgAAAF1JREFU\n",
       "CNdjYGDgu3Nm3wIGBoZ5DNz9QIq3gIEhE0jHOzAwOAPp9QkMDC4g/megABAw///fCmbEXfq0Acxg\n",
       "qH8ANAVI7wfSe0BKAyBGnAXigwYMzA1A+sLau31ACgAz0hhbkhGHbwAAAABJRU5ErkJggg==\n",
       "\" style=\"display:inline;vertical-align:middle;\" /></a></td></tr>\n",
       "</table>\n"
      ],
      "text/plain": [
       "0. (S , S intersect S)\n",
       "   core type: ExprTuple\n",
       "   sub-expressions: 4, 1\n",
       "1. S intersect S\n",
       "   core type: Operation\n",
       "   operator: 2\n",
       "   operands: 3\n",
       "2. intersect\n",
       "   core type: Literal\n",
       "   sub-expressions: \n",
       "3. (S , S)\n",
       "   core type: ExprTuple\n",
       "   sub-expressions: 4, 4\n",
       "4. S\n",
       "   core type: Variable\n",
       "   sub-expressions: "
      ]
     },
     "execution_count": 4,
     "metadata": {},
     "output_type": "execute_result"
    }
   ],
   "source": [
    "# display the expression information\n",
    "expr.exprInfo()"
   ]
  },
  {
   "cell_type": "code",
   "execution_count": null,
   "metadata": {},
   "outputs": [],
   "source": []
  }
 ],
 "metadata": {
  "kernelspec": {
   "display_name": "Python 3",
   "language": "python",
   "name": "python3"
  }
 },
 "nbformat": 4,
 "nbformat_minor": 0
}
