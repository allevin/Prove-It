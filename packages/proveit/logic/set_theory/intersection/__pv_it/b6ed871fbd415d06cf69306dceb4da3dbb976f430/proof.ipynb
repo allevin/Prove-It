{
 "cells": [
  {
   "cell_type": "markdown",
   "metadata": {},
   "source": [
    "Show the Proof\n",
    "========"
   ]
  },
  {
   "cell_type": "code",
   "execution_count": 1,
   "metadata": {},
   "outputs": [
    {
     "data": {
      "text/html": [
       "<table><tr><th>&nbsp;</th><th>step type</th><th>requirements</th><th>statement</th></tr>\n",
       "<tr><td>0</td><td>assumption</td><td></td><td><span style=\"font-size:20px;\"><a class=\"ProveItLink\" href=\"../834fba1327439290e76d025b74f1c70617cc22b20/expr.ipynb\"><img src=\"data:image/png;base64,iVBORw0KGgoAAAANSUhEUgAAAREAAAAVCAMAAABWrCoeAAAAQlBMVEX///9bW1sNDQ0JCQkdHR0P\n",
       "Dw8WFhbc3NxERESqqqpUVFS6urrMzMwyMjIQEBCIiIh2dnYiIiLu7u5mZmaYmJgAAABpSzxXAAAA\n",
       "AXRSTlMAQObYZgAAAyZJREFUWMO1mNmCnSAMhplOpyAadt7/VevCTtRDq16MjspnTvizACHb4awj\n",
       "nxyzIa8db7I/gS9K0XhttEoj5eUofQ52861VL7IfgS9iClfSp3v82o3Y40UfZ7uQ8cGnjx33nq8H\n",
       "g/kD9rDhRjJu18CgtoRbCBdKxFtwLS6LzRVEf0KesMIW8q9swY77fq7Yj8CV2LPEbPczkNYR6UJe\n",
       "S49oTHTaB2tcij2eTM3EUfbiZTjziv0A3EAMIuVpCe89Is49bSToPz8a2vt0sj4kJJOktrA+fkfZ\n",
       "MmCdVxX7ATik12dRGd55ZIbzQARnCKP9A7maHiXJpvTN8OZkk9ZH2SwYpQ/zM/u/4dYnFrWV4Z1H\n",
       "bFAPVZLTSdosRcrMJja0qk0+Vm6VTIzGQjJlmL0HC6HATMO+gPd0BE59/tcsFTx5JKZYOH6aUVt2\n",
       "cETk6NudjASrmXPAr6ZCU+2ywIfZa/qQUlrtevYpHKEjcOu73ivCnY9lOMg+nFUoyFNKYYad5PN5\n",
       "97mtorJIdTyn+FF2SCNG8459Cu/pGFz7LvgTHOxeqkUcHxLCNp6zeoTW+vf3+geaMr8dnqV5rbN7\n",
       "qdZRdkwjMsxoyT6D93QM7guSaQ1nu9zm6BJfeF12DY6aUIms7wLiEbu+rVxv9Kdsz0lRahqPXMBr\n",
       "OgYXmRS1lOCxeefhJ4mcg/2SPbhpF21GplgN+qhZU2I9YpC9xGDnoTCU7At4Q8fg3Kdvt+Ee8whR\n",
       "YQw7rHD06OtlDj/u1v6ub0WaptWVuueLK2drkB27kVQYKvYJHKEj8FwJlGkM76rvUYS2arpFMS2+\n",
       "afTM26VFCmQWna7Kby+sWl2NsWMaWQRgbByO0TG4O2Q3W9qMRzo0feRnqYxSsqpRFH7VYMqE3xsC\n",
       "x7yHgwjV6gGq3zDCJpYdyzyA9GLNRuEovYdv2QXWZV6RXSIc6eLp+Zr5i0NXaxrRiPq7dUF9lP0S\n",
       "vPdIsZ7qZExvtyjU5XLrTfZT8OyI+90Aym65Bq6fv8l+CJ72R4yOTqJnGy/yfteR30zGm+xn4Kl5\n",
       "31UX8gw9Uee9p+XdNter7AfgcZ/1L/bsOwJp1R58AAAAAElFTkSuQmCC\n",
       "\" style=\"display:inline;vertical-align:middle;\" /></a> <a class=\"ProveItLink\" href=\"proof.ipynb\" style=\"text-decoration: none\">&#x22A2;&nbsp;</a><a class=\"ProveItLink\" href=\"../53cd610a7e4f35950fe4af47e16528b67924b7720/expr.ipynb\"><img src=\"data:image/png;base64,iVBORw0KGgoAAAANSUhEUgAAAPsAAAAVCAMAAAC34mhmAAAAQlBMVEX///9bW1sNDQ0JCQkdHR0P\n",
       "Dw8WFhbc3NwiIiJERESqqqqYmJh2dnZmZmYQEBDu7u4yMjJUVFTMzMyIiIi6uroAAAASwAKsAAAA\n",
       "AXRSTlMAQObYZgAAAstJREFUWMPFmNuWnCAQRUkyCSC3QuD/f3VQ5CagzRpd8aHtFtyUcE6VNEK3\n",
       "h1XoteNN9kdway6byRjB7P9kPwBf9SWh27yScBYrmr952My0c9ofFOwH7OnAlaFaCIawSHC4lobo\n",
       "zT+4+CUvQjFq7jfJljRcd7ZiPwLnku0osZ93uLkWDiI9yRB3jMt4vKZTUJk4y16dOc66Yj8AVxAt\n",
       "wB2OcDmePWWA/PtL4HwdL2K/f+siU9y09dks2xxY5njFfgAOqbuVMXALY8MAU4jitsH4IKOg6JLo\n",
       "R89FJKXOsunxtCQEmtk/hguXWFjEwMUhLMyNxosRWUiYqk0q3dqxOBZdlIKJYUEadJq9Sx1hoOrE\n",
       "voC39A4cu/xTrREO4SEU31zMkMwu2SeuYyplszF9UHCqKVme02xvc2OMIKxlD+Edegcu0lrl2QQk\n",
       "g3j57jZ/JSUVRQe51O7zKCr3FMlH5/Q6yz7srohu2EN4S+/BiWus6+GHcbeemtZthJCvP/4DTmVz\n",
       "OxxNa1Vn1lJrs+xod3OsUskewVt6D+4KkkqBu2ImTfNqwJfusvu+0Hl24Xtz1ob3Kdsd6x3S/OnZ\n",
       "L+A1vQeXmRT14eEy5z+35lnZlNct7kvMxK3mfZKq75hkr9GU+kjKJfsCfqL34NqlsQuz0jAew7tp\n",
       "kMk20cy/A7Wl/fRix0rV6pWVKzDJjtU9JeWKPYB36B14zs1c5cBDHdlq1uY2XNAVsfr8Sp0MR+NE\n",
       "8nKUlVb7hzl2tPsqocfuw3v0HpwFKVmBi/stCbnRcMW5qSoBht81AlPp9gLLqHMQxobqrRmqaGfY\n",
       "SNCwkQFIHWt2F96lt/AtC4DfyBRZYINLPN7p/dLQ5PmTEGQ9Ql22HmW/AC92DI0I8e0Wml9uKN5k\n",
       "PwIfbgUxvSUouG5/k/0EHI/+AjDsFqFvJvhN9iNwPNDW/eyZu79WXmX/FP4NSyw1Fki6zREAAAAA\n",
       "SUVORK5CYII=\n",
       "\" style=\"display:inline;vertical-align:middle;\" /></a></span></td></tr>\n",
       "</table>"
      ],
      "text/plain": [
       "<proveit._core_.proof._ShowProof at 0x7f94e5f751d0>"
      ]
     },
     "execution_count": 1,
     "metadata": {},
     "output_type": "execute_result"
    }
   ],
   "source": [
    "import proveit\n",
    "%show_proof"
   ]
  },
  {
   "cell_type": "code",
   "execution_count": null,
   "metadata": {},
   "outputs": [],
   "source": []
  }
 ],
 "metadata": {
  "kernelspec": {
   "display_name": "Python 3",
   "language": "python",
   "name": "python3"
  }
 },
 "nbformat": 4,
 "nbformat_minor": 0
}
