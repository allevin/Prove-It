{
 "cells": [
  {
   "cell_type": "markdown",
   "metadata": {},
   "source": [
    "Axioms for context <a href=\"_context_.ipynb\" class=\"ProveItLink\">proveit.logic.set_theory.intersection</a>\n",
    "========"
   ]
  },
  {
   "cell_type": "code",
   "execution_count": 1,
   "metadata": {},
   "outputs": [
    {
     "name": "stdout",
     "output_type": "stream",
     "text": [
      "Defining axioms for context 'proveit.logic.set_theory.intersection'\n",
      "Subsequent end-of-cell assignments will define axioms\n",
      "%end_axioms will finalize the definitions\n"
     ]
    }
   ],
   "source": [
    "from proveit.logic import Forall, And, Equals, InSet, Intersect\n",
    "from proveit._common_ import m, x\n",
    "from proveit.logic._common_ import iterA1m\n",
    "from proveit.logic.set_theory._common_ import x_in_every_A\n",
    "from proveit.number import NaturalsPos\n",
    "%begin axioms"
   ]
  },
  {
   "cell_type": "markdown",
   "metadata": {},
   "source": [
    "**Membership in the intersection of sets is the same as having membership in *all* of the sets being intersected:**"
   ]
  },
  {
   "cell_type": "code",
   "execution_count": 2,
   "metadata": {},
   "outputs": [
    {
     "data": {
      "text/html": [
       "<strong id=\"intersectionDef\">intersectionDef:</strong> <a class=\"ProveItLink\" href=\"__pv_it/11d28644b3ba647361a79df8be2221a4fe30a3310/expr.ipynb\"><img src=\"data:image/png;base64,iVBORw0KGgoAAAANSUhEUgAAArQAAAAXBAMAAAAIB8GAAAAAMFBMVEX///8QEBC6urrMzMxUVFRm\n",
       "ZmZERETc3NwyMjKqqqp2dnaIiIiYmJgiIiLu7u4AAAAU9Wx4AAAAAXRSTlMAQObYZgAABuNJREFU\n",
       "WMPtWX2IVFUUP/O18/XmrSYlFupIhcEWPqHUjNzBRIvyI8o/SqKpaETMmj/E3VxyF0uU8mOiFiSR\n",
       "BlG0jHH+UBHLnChLVrLBoCwaHSFsMV3X/MJQX/fzvfvevc+dN9B/Hjhv3p6Z8/V755177l2A2/R/\n",
       "Ub2B3ySPT2veQRtjmYJl8hG65tOiqKClKau8MvsKai/Y2o1n0XAwmA8fgyqWHbm13UQ6RTTLTSAb\n",
       "ylBW0MP0I/WvT5MOhecYy165fQWdLArajWbhIxjMW+AzLFo/FLQJ/Jhj9SagxUoeiszrrkuisENt\n",
       "Jpq37x0KMcayV++sEmZG0CbmPVJbIdpTkjKYGIF2GTacHQpa8otlzfSDLxkr2gzrB+YNWxZfM/MX\n",
       "Q/Hbje8tec2qIFEBtCJl2WvSux+YVUGbYDJP/ctVgj11OSuDwbyFPI9IYShoSQW80Ay0Yxhb9Pe6\n",
       "2nFyE6CVENtl2l/OqEPoA9lIeA7AFI6UQwH0YZRlrwGx0vR9tVoP/+N9c1DQxjTphBq4JXXbnpyB\n",
       "ZzCYt4C2vaPjHRgS2r6Ojo5qE8gGeyjb0a7lGT9APw4ETAsDDRdPTC7bQ/jyLsgKiBYxdnvl9ilN\n",
       "OSq8LtWxN0VtRNPVZRluK9v25Ay8g1mEoYUrudzvQ0PbmsstKTYBbaRIObpz1qYFWLDMiuRF2uUu\n",
       "xsy0o0XGi+qu/AnICoi2MXZ7JfaX7357D0Yn+qbwbbex4R9RG1VZT0oZfT9d5b0y8A5mG4H2CYCF\n",
       "akBFaMMGtOSbWcUqlM/Aj5XRWGD7WkuuLfMiZsVabj1W46owUDgUcBtmDJE1hDLMK7avF7U/AljZ\n",
       "Efvr8PJ1URslWFH3xC9YE/TIwDuYjQTa+9AzUxecCG0wgx6h+Mqph1FJHEhTLsJB+AjXh71i3kGu\n",
       "30DSRG0glG0UWqZg0TjGbq/YfgKSg3HcX06La80wOHgZ91ewNFMQVWJQhU7LniID72DGEWhTkKw4\n",
       "DU6Zn07eWXdCi7x85QhePYxK4tY05TrMpNiPrtXYIkBeSv0aBM0shJ6vNggtUxCWe8Zur9i+DmH6\n",
       "03HIK1/GzhdgwhWAR2aDpXmEvLwSoUE+bHB7igy8g2kn0CYrKaF56HvmV7RsCUquqkXAOhbRZ68o\n",
       "oZXEHFqAe9yzN4E2fGH4WDwKxRuFlis0BC161mVxd0Jo7vDhZGLabEN7Qr2/QMDQYDwy8A6GQqv3\n",
       "iFb3jh+oa0ciUIrMmD3jKQHafkfGwd8uKPuBJA4UKKOGj2oIebMDGYUvH04b+AuPQg1DyxXkhhCp\n",
       "Ecoyr9R+t0G28ueE0XnEwEC3yaElmnH0TscUK0kv4tU8C0UG3sHQhgALp6PSX9C2NbnXoNOP9ujk\n",
       "slS1LUvRJbG7jb44qfGman8ii1sqlH9IDsLXWPCM9dUbOE6c/8mrMrQ6P9/QndByBR4w2qwzdnvF\n",
       "9rX8QUhiK2G7551CMKXMPIOWaGJYMbzUmeWawNrL7Sky8A7mMIW2FwV+dkIlldEydOOnGaVvJWjj\n",
       "L6GbUjg7ig0ZeOaY44aWih1jxjzC8estw6Lk3TyXFgeVpbjG3romQ3se/a3fYDcCtFyBB6wevrBX\n",
       "LPy08gp0ERCOWeMS7pgtZoFBSzQn8cd3viq6JktritlTZeAdDB2+SDtasQ9aDWRgKoU2kZjjhpZ0\n",
       "mnSMPv3QGNhQhqkj3ZsXIna2iCphfXHpc7oMRlfxHcFDqIeZqMrnmuZFCdpTKGr9LnZjQ2sp8IAB\n",
       "VjJ2e8X2T+8/s5NG3MkPYkzzJoRN0zQotERzOt/LEmeW63Cab5fVGdwimJUUWg0X/9MwEWIFeDyX\n",
       "y5U1I3r0hAQt2c600o6UQisBAuBXdz+gYgeNZGz3uif5RlfsbhTaJKmwitRoyPM66xCxgD02uiPd\n",
       "9uHjdTXXfLXZ2uiSMgzKKwdYX6oz8AyGbnQZjYC90B2EP2nVwr2oq0Sd0BKaCOSJbQX4qSpDS8WH\n",
       "Nn33oH3c0MdYMdoUJWh9EAsYEmXKTuoD1aGNDG2iwXPSPn/BYObQRgcR8t8nIJyn0Gol10aXvvCD\n",
       "O6AYXY1ffGgfJNB25qProbMeXW+LN2UD6ft9HCo2BS0PmGxk+n0eKtrQ9vs4GvURTD/Y0Aaz8DNM\n",
       "2g76q/hcA10yKmj1xb3766HrcPISaGMvFDC07ZXQVWjPh67a4rBxjp4CU7cZygpaKgS347K/c3Ye\n",
       "MMwCyq5kM077Clq+YYFK0wO8jK9gZgnQ2iiiXiufrNbEwyjNusMNoSKJU2hgqdr9souxIt5m/mvh\n",
       "Ds2g7KauhuyrNNXU5ScYzAeONZHNZH7z2N0FCOUl8WlUs4sNuE3+ybGAa2rxbQL4D6lzfgAp+9y/\n",
       "AAAAAElFTkSuQmCC\n",
       "\" style=\"display:inline;vertical-align:middle;\" /></a><br>"
      ],
      "text/plain": [
       "intersectionDef: forall_{m in NaturalsPos} [forall_{x, A_1,...,A_m} ((x in (A_1 intersect  ...  intersect A_m)) = ((x in A_1) and  ...  and (x in A_m)))]"
      ]
     },
     "execution_count": 2,
     "metadata": {},
     "output_type": "execute_result"
    }
   ],
   "source": [
    "intersectionDef = Forall(m, Forall((x, iterA1m), \n",
    "                                   Equals(InSet(x, Intersect(iterA1m)),\n",
    "                                          x_in_every_A)), \n",
    "                         domain=NaturalsPos)"
   ]
  },
  {
   "cell_type": "code",
   "execution_count": 3,
   "metadata": {},
   "outputs": [
    {
     "name": "stdout",
     "output_type": "stream",
     "text": [
      "Axioms may be imported from autogenerated _axioms_.py\n"
     ]
    }
   ],
   "source": [
    "%end axioms"
   ]
  },
  {
   "cell_type": "code",
   "execution_count": null,
   "metadata": {},
   "outputs": [],
   "source": []
  }
 ],
 "metadata": {
  "kernelspec": {
   "display_name": "Python 3",
   "language": "python",
   "name": "python3"
  }
 },
 "nbformat": 4,
 "nbformat_minor": 0
}
