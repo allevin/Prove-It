{
 "cells": [
  {
   "cell_type": "markdown",
   "metadata": {},
   "source": [
    "Common expressions for context <a href=\"_context_.ipynb\" class=\"ProveItLink\">proveit.logic.set_theory.intersection</a>\n",
    "========"
   ]
  },
  {
   "cell_type": "code",
   "execution_count": 1,
   "metadata": {},
   "outputs": [
    {
     "name": "stdout",
     "output_type": "stream",
     "text": [
      "Defining common sub-expressions for context 'proveit.logic.set_theory.intersection'\n",
      "Subsequent end-of-cell assignments will define common sub-expressions\n",
      "%end_common will finalize the definitions\n"
     ]
    }
   ],
   "source": [
    "import proveit\n",
    "from proveit import Lambda, Iter, Indexed\n",
    "from proveit.logic import And, Or, InSet, NotInSet, Intersect\n",
    "from proveit._common_ import AA, x, i, n\n",
    "from proveit.number import one\n",
    "%begin common"
   ]
  },
  {
   "cell_type": "code",
   "execution_count": 2,
   "metadata": {},
   "outputs": [
    {
     "data": {
      "text/html": [
       "<strong id=\"intersectedAs\">intersectedAs:</strong> <a class=\"ProveItLink\" href=\"__pv_it/64f00bfc628640fcad73f097457595b1bc27d80f0/expr.ipynb\"><img src=\"data:image/png;base64,iVBORw0KGgoAAAANSUhEUgAAAH4AAAASBAMAAABvO3eaAAAAMFBMVEX///+YmJhmZmZERES6urrc\n",
       "3Nzu7u4QEBCIiIgyMjJUVFR2dnYiIiKqqqrMzMwAAAD8et6HAAAAAXRSTlMAQObYZgAAAT9JREFU\n",
       "OMtjYAABvr8MpAE0DTy/SdSPpmH/L2ReKHY9rAG4NPD9/4Pg8M5cfPgBFu03Z9nYYdXAwMC5/z+C\n",
       "syqBgW8GpnauZQwMLxuwaWBg6GH/nwBjMyqA5DEdIAQi5mHRAPTYP87/DnC3gCR4N2DonwYibmPR\n",
       "wMDArMD0XwDoKQNwyIL9twBD/wEQ8QpFAwyIM3D8V2Dg0zpArH6IBhhg+8vA8h9oNy+x+mEaYCH7\n",
       "vbz+/wES9MM0QMH1Z2mp/z+QoB+qgVHDYxfINbVA4vxXTP1sIFYCjIHQD9OQ6C/AA4znKJBP7P9i\n",
       "6s8H8tn+QBlI+mEawjoZ+AMY+P8Dk8L6////YehPB6pjK4YyEPoRGlYwuCP7EKKfA+xEAQz/g5Nu\n",
       "IopQHYMSC4Z+4gHrB4Y6PyTuzk8NJOlnMWDQFgAAU95+eqRSmEYAAAAASUVORK5CYII=\n",
       "\" style=\"display:inline;vertical-align:middle;\" /></a><br>"
      ],
      "text/plain": [
       "intersectedAs: A_1 intersect  ...  intersect A_n"
      ]
     },
     "execution_count": 2,
     "metadata": {},
     "output_type": "execute_result"
    }
   ],
   "source": [
    "intersectedAs = Intersect(Iter(i, Indexed(AA, i), one, n))"
   ]
  },
  {
   "cell_type": "code",
   "execution_count": 3,
   "metadata": {},
   "outputs": [
    {
     "data": {
      "text/html": [
       "<strong id=\"x_in_each_A\">x_in_each_A:</strong> <a class=\"ProveItLink\" href=\"__pv_it/9474dec1324c7a2abd0ebe2699a7c0cc5b2a80d40/expr.ipynb\"><img src=\"data:image/png;base64,iVBORw0KGgoAAAANSUhEUgAAANEAAAAVBAMAAAAqbRZ+AAAAMFBMVEX////c3NwiIiJERESqqqqY\n",
       "mJh2dnZmZmYQEBDu7u4yMjJUVFTMzMyIiIi6uroAAAAs73DqAAAAAXRSTlMAQObYZgAAAqVJREFU\n",
       "SMe9lU9oE0EUxr/NH7ObdJOAUpBSGgJevDQeRC9i6MmD4upBPElOikhoT/VUjK2HCNFExWIO0iBU\n",
       "6alV8SJIAx5EPBgEFf8R9SRi6VZTtVgcZ2azm90sM8nJHHZfeG9/3+z33swC/+8Xb4gyz7Pt4ISc\n",
       "sCJKDLTgJjwTEkZz7SBSlwkNLIkygZ9wExZEdVuIg6jJlKIVUWb8D1wEXWweSdnhMZnSB+HLku9w\n",
       "EVTPim7eSu+049vEtMMbMqWLIkB0nMBF+OpZxXxHV0+VN+w4mJVMVE0AwAuVVFyESXobfLftNTdx\n",
       "q6tupL7412nZhFgpQudGyd89NNUNUDaj5KOLMA9oufAOlfdkl4uwB+fW6e0xi0OSkYgawCyOGtPd\n",
       "gOBEhBj2H0q4TPWgmyE2hlqmUxcuoPkLeHKPO1QQK6l03Tk0cbALgOPQieMFJVCHNMSsivh0Om03\n",
       "dC6L1R/0PsbtN8VKCapUwX0fQGshThxlSuC9UBu+PbhcLPIh7UsJuOQDxH4Xy519QgkXrO6DtVJz\n",
       "EgiVqtURYitJ3cvy7lNnPAAceFq9QvdJeGrljEXYTVuSbELnQ/OgM//0+QBJtpXCbCJ4BV+QJwjS\n",
       "rh/RTbzxAjT2CqNruL5qBOqccAo4bOzFME9ftadSYb4HSbatxKZcY17yy1zKFbBcaD1YUBoeAIZY\n",
       "i/a3sP0tEkle9Rm49mo2b42jcqd9lhKygRghpG4pRSlAK9MHtBn2vhk7WGO+pKDtO33ypReQIHTX\n",
       "LhOyiUf4YhHUpNv00MPOYWL9xpzTKJ709egTu5yXA0o4G+eEcE7+8eFKed4sf9LoefxCMVH6ZhEW\n",
       "pIWDi/SU0WoyJfFXgzuRwaRhEYZ6f5Zj3Df/50W3Vr3UJ0Fp9Kx7L08Pox/CP8BxxKVPns5PAAAA\n",
       "AElFTkSuQmCC\n",
       "\" style=\"display:inline;vertical-align:middle;\" /></a><br>"
      ],
      "text/plain": [
       "x_in_each_A: (x in A_1),...,(x in A_n)"
      ]
     },
     "execution_count": 3,
     "metadata": {},
     "output_type": "execute_result"
    }
   ],
   "source": [
    "x_in_each_A = Iter(i, InSet(x, Indexed(AA, i)), one, n)"
   ]
  },
  {
   "cell_type": "code",
   "execution_count": 4,
   "metadata": {},
   "outputs": [
    {
     "data": {
      "text/html": [
       "<strong id=\"x_in_each_A_conjunction\">x_in_each_A_conjunction:</strong> <a class=\"ProveItLink\" href=\"__pv_it/4d3de99411492eed97062fc36878b8dc11b3cf670/expr.ipynb\"><img src=\"data:image/png;base64,iVBORw0KGgoAAAANSUhEUgAAAOYAAAAVBAMAAACgQo8/AAAAMFBMVEX////c3NwiIiJERESqqqqY\n",
       "mJh2dnZmZmYQEBDu7u4yMjJUVFTMzMyIiIi6uroAAAAs73DqAAAAAXRSTlMAQObYZgAAAzNJREFU\n",
       "SMfFVk9IVEEY/97+0X27vrcLhaAiLgsd7JBbGNUhWrwYVvTqEBUEXkoiRA9hl6TNOhhYbkaSQbgJ\n",
       "Jl78U3SJygUPUR1cgoqMMDpJJG6llSRNM9/MvPcW38t3a0DnezPf/H7zfd9vZhbgfzQ97zYzk+J9\n",
       "8KNXrAW3ibIlaSHYS1eEumZhnPdIWTbhNuP7YZoMbNTNr4RIiLDolYyzZ4X0y7hhtf02TQqmuaeW\n",
       "xGU+RMDhdmfPEdF/cE0A+WbaFCxUtLc7Q4nN0r5HCsJS07yfrnVG3CYwrthH1dlEIitjayPWeBo+\n",
       "F60etnagxXtXpF3Pu6fOgUQWeK70rH30xTHLfhUiFnA9dND/5e83vsVlG2xB1+TG/0i7he8w63Pk\n",
       "vA28CKW0BErr5IFOrP0uy0FZDRNL+y0wTLGag5tCuGyrDWkHXFhm+WR2ExeVUZpy4jwJZ3kGDYB+\n",
       "OGx0sQ9/zHLwt5cSw/xqgmsUC7RCIMcCSVp+wTTM/QR4dp99zHPBg5J14oxDJfYhGkszzMF+9nHD\n",
       "5nAUNGLJbx5o/lSIcDK9K5GQGhpMweJ32jeghHHoBMBjB8pgHiJsxxClnBl4IJAplNCQugQ6scKZ\n",
       "AaxZKL/mTE91d6PAbZy1zheILyMWRrFmV/mozTPyq7vXPHcM7DLXCzD1qNZEoGdgoIZITsxtgKYn\n",
       "HFvL2Uj/7uLOU6gXmjfa+iyHvc8HrtNzF+xcOMPBttPkxOZAQ8U+NP1u0fU+EhOcx1EiMc4LfH/S\n",
       "QL5GlArVySGtAO8wOFM0Kgur7ivcXDR8OQSjx+CgsROqcbpPKlphVfGTlODEszLN9UJBWM4H48Io\n",
       "S6K8mK7bIbDsTytYKHWL5KxiDnuWoGIWojEE+0Ql9qa/le9KGclxP0JWIEIIyXHOMbwR5PWmXmKJ\n",
       "SAojwvaJN6geB3X36VOvOUSleBmihN4HU4SswhNeozEIFVUo8Mi6+3hrMO8+zIG+9i0Ec/Ji0cS+\n",
       "oUTx0eqBczqCyfvbrTHOkry3t+zIP2eVAvR84WCj/3QsH+9kl5u35v6WYUKS0GFwsKr1sSY9cioT\n",
       "4A1MWTdxWs7rb5Pq9V0o2F8YH9WhQwg/qAAAAABJRU5ErkJggg==\n",
       "\" style=\"display:inline;vertical-align:middle;\" /></a><br>"
      ],
      "text/plain": [
       "x_in_each_A_conjunction: (x in A_1) and  ...  and (x in A_n)"
      ]
     },
     "execution_count": 4,
     "metadata": {},
     "output_type": "execute_result"
    }
   ],
   "source": [
    "x_in_each_A_conjunction = And(Iter(i, InSet(x, Indexed(AA, i)), one, n))"
   ]
  },
  {
   "cell_type": "code",
   "execution_count": 5,
   "metadata": {},
   "outputs": [
    {
     "data": {
      "text/html": [
       "<strong id=\"x_not_in_any_A\">x_not_in_any_A:</strong> <a class=\"ProveItLink\" href=\"__pv_it/7ff687e21beb72d3039f35d2a2ce60566b88081c0/expr.ipynb\"><img src=\"data:image/png;base64,iVBORw0KGgoAAAANSUhEUgAAAOYAAAAVCAMAAABlsmI+AAAAQlBMVEX///9bW1sNDQ0JCQkdHR0P\n",
       "Dw8WFhbc3NwiIiJERESqqqqYmJh2dnZmZmYQEBDu7u4yMjJUVFTMzMyIiIi6uroAAAASwAKsAAAA\n",
       "AXRSTlMAQObYZgAAAnZJREFUWMPNmMcSpCAQQNlITkL//68ugookxyk4LIcpS1t4ndtB6OPyGv2P\n",
       "62ss7x4fk85+G7DyBvfr9ViAdSPb7ON23ccERHVHbou1XIOVycyz92XHTwKgOcXc/HCjeeO2rvgi\n",
       "rJPMPccGIr3YAGhu82xIe9F+2nwsvgrrJFNjq2lnyN8/xDTmCWaDRljl8+hTArV4PfFVWAeZN+Pj\n",
       "DdeI4ua+I0gBNBg0p785XmLyVRp2xNdhJTJ5xBoWzmLmZI4VTMMruj0Ow4YMQJMbIkOevAa/UrMj\n",
       "vg4rkRmeHBu25YQjlYM7GqyTIjRASQBeRxwzdbXPzz6sVnwWqzSjQSqpvxvPhcBmVznQtF/vuIqi\n",
       "ED2wSXsBeIWqAmLfNtNWfA6rLuUKHV7eX7O0fEYI+f0r/BQBomMH9gCHMCO50FWFUJvXTbIRn8Wq\n",
       "SjC6BbNyTf8VzVRhQYWVS/dATRleFPy1mo34LFatpmL3HE72S/Yhve7E1KbDwlfpZt2gRdh0W9to\n",
       "NeJzWFw674S9kdFkQ45jDiCXg95y5GXTgtg5VgGu1OSm7Pm88IIeX/TEp7A093spIlsmS22Ahds0\n",
       "eAPfztLE22pWw1eeUDim5KymkGXPL0YDfUZTe9ETn8PCYYDYAx/nzTxJ9csJLYTjZST9LPeDfcWq\n",
       "EK9iNGU1TVlXjSztTUcXPfFZLOvuSbSTqXEL5z+sqUtakxWkHfaSf777HqzF57BUUFXK46MgknEx\n",
       "FKYvhphLTeHQyjWFhSGq6rcb2fCLB38eYrAwkAaxL5rkuzWD5WmcF49JyhwJPJpN+BdUFi9Wcw3W\n",
       "jQwPwo1+sZdb/efBGqyT7B9rqi3Y9Huw7gAAAABJRU5ErkJggg==\n",
       "\" style=\"display:inline;vertical-align:middle;\" /></a><br>"
      ],
      "text/plain": [
       "x_not_in_any_A: (x not-in A_1) or  ...  or (x not-in A_n)"
      ]
     },
     "execution_count": 5,
     "metadata": {},
     "output_type": "execute_result"
    }
   ],
   "source": [
    "x_not_in_any_A = Or(Iter(i, NotInSet(x, Indexed(AA, i)), one, n))"
   ]
  },
  {
   "cell_type": "code",
   "execution_count": 6,
   "metadata": {},
   "outputs": [
    {
     "name": "stdout",
     "output_type": "stream",
     "text": [
      "Common expressions may be imported from autogenerated _common_.py\n"
     ]
    }
   ],
   "source": [
    "%end common"
   ]
  },
  {
   "cell_type": "code",
   "execution_count": null,
   "metadata": {},
   "outputs": [],
   "source": []
  }
 ],
 "metadata": {
  "kernelspec": {
   "display_name": "Python 3",
   "language": "python",
   "name": "python3"
  }
 },
 "nbformat": 4,
 "nbformat_minor": 0
}
