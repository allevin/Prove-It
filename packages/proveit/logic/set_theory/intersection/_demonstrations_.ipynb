{
 "cells": [
  {
   "cell_type": "markdown",
   "metadata": {
    "collapsed": true
   },
   "source": [
    "Demonstrations for context <a class=\"ProveItLink\" href=\"_context_.ipynb\">proveit.logic.set_theory.intersection</a>\n",
    "========"
   ]
  },
  {
   "cell_type": "code",
   "execution_count": 1,
   "metadata": {},
   "outputs": [],
   "source": [
    "import proveit\n",
    "from proveit.logic import Forall, Intersect, SubsetEq \n",
    "from proveit._common_ import S\n",
    "%begin demonstrations"
   ]
  },
  {
   "cell_type": "code",
   "execution_count": 2,
   "metadata": {},
   "outputs": [
    {
     "data": {
      "text/html": [
       "<strong id=\"selfIntersectionContainment\">selfIntersectionContainment:</strong> <span style=\"font-size:20px;\"> &#x22A2;&nbsp;<a class=\"ProveItLink\" href=\"__pv_it/b6c74c0c0fb2bbec151169ef1f477db09bd1a6d90/expr.ipynb\"><img src=\"__pv_it/b6c74c0c0fb2bbec151169ef1f477db09bd1a6d90/expr.png\" style=\"display:inline;vertical-align:middle;\" /></a></span><br>"
      ],
      "text/plain": [
       "selfIntersectionContainment: |= forall_{S} (S subseteq (S intersect S))"
      ]
     },
     "execution_count": 2,
     "metadata": {},
     "output_type": "execute_result"
    }
   ],
   "source": [
    "selfIntersectionContainment = Forall(S, SubsetEq(S, Intersect(S, S))).prove()"
   ]
  },
  {
   "cell_type": "code",
   "execution_count": 3,
   "metadata": {
    "scrolled": true
   },
   "outputs": [
    {
     "data": {
      "text/html": [
       "<table><tr><th>&nbsp;</th><th>step type</th><th>requirements</th><th>statement</th></tr>\n",
       "<tr><td>0</td><td>generalizaton</td><td>1</td><td><span style=\"font-size:20px;\"> &#x22A2;&nbsp;<a class=\"ProveItLink\" href=\"__pv_it/b6c74c0c0fb2bbec151169ef1f477db09bd1a6d90/expr.ipynb\"><img src=\"__pv_it/b6c74c0c0fb2bbec151169ef1f477db09bd1a6d90/expr.png\" style=\"display:inline;vertical-align:middle;\" /></a></span></td></tr>\n",
       "<tr><td>1</td><td>modus ponens</td><td>2, 3</td><td><span style=\"font-size:20px;\"> &#x22A2;&nbsp;<a class=\"ProveItLink\" href=\"__pv_it/266cb102954aaae576def140e892a6dec803defc0/expr.ipynb\"><img src=\"__pv_it/266cb102954aaae576def140e892a6dec803defc0/expr.png\" style=\"display:inline;vertical-align:middle;\" /></a></span></td></tr>\n",
       "<tr><td>2</td><td>specialization</td><td>4</td><td><span style=\"font-size:20px;\"> &#x22A2;&nbsp;<a class=\"ProveItLink\" href=\"__pv_it/aade97524e23799ae31de54fb1651f4b2029fb070/expr.ipynb\"><img src=\"__pv_it/aade97524e23799ae31de54fb1651f4b2029fb070/expr.png\" style=\"display:inline;vertical-align:middle;\" /></a></span></td></tr>\n",
       "<tr><td>&nbsp;</td><td colspan=4 style=\"text-align:left\"><span style=\"font-size:20px;\"><a class=\"ProveItLink\" href=\"../../../__pv_it/2cbe72a7ad6f655694dd697106680215e8489b600/expr.ipynb\"><img src=\"../../../__pv_it/2cbe72a7ad6f655694dd697106680215e8489b600/expr.png\" style=\"display:inline;vertical-align:middle;\" /></a> : <a class=\"ProveItLink\" href=\"../../../__pv_it/abeee18594afe51bfb1be95d9591fbba24ac53f30/expr.ipynb\"><img src=\"../../../__pv_it/abeee18594afe51bfb1be95d9591fbba24ac53f30/expr.png\" style=\"display:inline;vertical-align:middle;\" /></a>, <a class=\"ProveItLink\" href=\"../../../__pv_it/077b2ff79244fb4582cbe22c6e3356fa92a52f2f0/expr.ipynb\"><img src=\"../../../__pv_it/077b2ff79244fb4582cbe22c6e3356fa92a52f2f0/expr.png\" style=\"display:inline;vertical-align:middle;\" /></a> : <a class=\"ProveItLink\" href=\"__pv_it/eb58abeea1c5fcb15424235b2b1d5bef9e2e54790/expr.ipynb\"><img src=\"__pv_it/eb58abeea1c5fcb15424235b2b1d5bef9e2e54790/expr.png\" style=\"display:inline;vertical-align:middle;\" /></a>, relabeling <a class=\"ProveItLink\" href=\"../../../__pv_it/530be409e3083890784cf1d7b28c9e67e90af9360/expr.ipynb\"><img src=\"../../../__pv_it/530be409e3083890784cf1d7b28c9e67e90af9360/expr.png\" style=\"display:inline;vertical-align:middle;\" /></a> : <a class=\"ProveItLink\" href=\"../../__pv_it/5144cf74ae6a683b49b974f1b9302b432abf7e930/expr.ipynb\"><img src=\"../../__pv_it/5144cf74ae6a683b49b974f1b9302b432abf7e930/expr.png\" style=\"display:inline;vertical-align:middle;\" /></a></span></td></tr><tr><td>3</td><td>generalizaton</td><td>5</td><td><span style=\"font-size:20px;\"> &#x22A2;&nbsp;<a class=\"ProveItLink\" href=\"__pv_it/e1037001908fa62eac44a73e55a37295f3c532eb0/expr.ipynb\"><img src=\"__pv_it/e1037001908fa62eac44a73e55a37295f3c532eb0/expr.png\" style=\"display:inline;vertical-align:middle;\" /></a></span></td></tr>\n",
       "<tr><td>4</td><td>theorem</td><td></td><td><span style=\"font-size:20px;\"> &#x22A2;&nbsp;<a class=\"ProveItLink\" href=\"../containment/__pv_it/1b221ee8f010aecab914fad97f4a0f75795c964f0/expr.ipynb\"><img src=\"../containment/__pv_it/1b221ee8f010aecab914fad97f4a0f75795c964f0/expr.png\" style=\"display:inline;vertical-align:middle;\" /></a></span></td></tr>\n",
       "<tr><td>&nbsp;</td><td colspan=4 style-\"text-align:left\"><a class=\"ProveItLink\" href=\"../containment/_proofs_/foldSubsetEq.ipynb\">proveit.logic.set_theory.containment.foldSubsetEq</a></td></tr><tr><td>5</td><td>specialization</td><td>6, 7, 8, 9</td><td><span style=\"font-size:20px;\"><a class=\"ProveItLink\" href=\"__pv_it/5142080cc5614a346bd6f27756fb977a82885b5b0/expr.ipynb\"><img src=\"__pv_it/5142080cc5614a346bd6f27756fb977a82885b5b0/expr.png\" style=\"display:inline;vertical-align:middle;\" /></a> &#x22A2;&nbsp;<a class=\"ProveItLink\" href=\"__pv_it/0cf8ad6dc6e6190e896a8dc1373bb5a58295b9ac0/expr.ipynb\"><img src=\"__pv_it/0cf8ad6dc6e6190e896a8dc1373bb5a58295b9ac0/expr.png\" style=\"display:inline;vertical-align:middle;\" /></a></span></td></tr>\n",
       "<tr><td>&nbsp;</td><td colspan=4 style=\"text-align:left\"><span style=\"font-size:20px;\"><a class=\"ProveItLink\" href=\"../../../__pv_it/78af03acba5349fd70398a32ce59bae1da52f0870/expr.ipynb\"><img src=\"../../../__pv_it/78af03acba5349fd70398a32ce59bae1da52f0870/expr.png\" style=\"display:inline;vertical-align:middle;\" /></a> : <a class=\"ProveItLink\" href=\"../../../number/numeral/__pv_it/77d407a64829263cdc16415becd4c2293f77a4bf0/expr.ipynb\"><img src=\"../../../number/numeral/__pv_it/77d407a64829263cdc16415becd4c2293f77a4bf0/expr.png\" style=\"display:inline;vertical-align:middle;\" /></a>, <a class=\"ProveItLink\" href=\"../../../__pv_it/530be409e3083890784cf1d7b28c9e67e90af9360/expr.ipynb\"><img src=\"../../../__pv_it/530be409e3083890784cf1d7b28c9e67e90af9360/expr.png\" style=\"display:inline;vertical-align:middle;\" /></a> : <a class=\"ProveItLink\" href=\"../../__pv_it/5144cf74ae6a683b49b974f1b9302b432abf7e930/expr.ipynb\"><img src=\"../../__pv_it/5144cf74ae6a683b49b974f1b9302b432abf7e930/expr.png\" style=\"display:inline;vertical-align:middle;\" /></a>, <a class=\"ProveItLink\" href=\"../../../__pv_it/eb438fefc4bd0ac977777d6dfd3e8a72dfbedbd50/expr.ipynb\"><img src=\"../../../__pv_it/eb438fefc4bd0ac977777d6dfd3e8a72dfbedbd50/expr.png\" style=\"display:inline;vertical-align:middle;\" /></a> : <a class=\"ProveItLink\" href=\"__pv_it/e0600a678f412355e4703a11bc79fd4527a552910/expr.ipynb\"><img src=\"__pv_it/e0600a678f412355e4703a11bc79fd4527a552910/expr.png\" style=\"display:inline;vertical-align:middle;\" /></a></span></td></tr><tr><td>6</td><td>theorem</td><td></td><td><span style=\"font-size:20px;\"> &#x22A2;&nbsp;<a class=\"ProveItLink\" href=\"__pv_it/e72fa7e4c68d2e890608b7f859ed8552b7399a4f0/expr.ipynb\"><img src=\"__pv_it/e72fa7e4c68d2e890608b7f859ed8552b7399a4f0/expr.png\" style=\"display:inline;vertical-align:middle;\" /></a></span></td></tr>\n",
       "<tr><td>&nbsp;</td><td colspan=4 style-\"text-align:left\"><a class=\"ProveItLink\" href=\"_proofs_/membershipFolding.ipynb\">proveit.logic.set_theory.intersection.membershipFolding</a></td></tr><tr><td>7</td><td>theorem</td><td></td><td><span style=\"font-size:20px;\"> &#x22A2;&nbsp;<a class=\"ProveItLink\" href=\"../../../number/numeral/deci/__pv_it/cc8f030bf3f8fa8886abea87852067059d7e0b5a0/expr.ipynb\"><img src=\"../../../number/numeral/deci/__pv_it/cc8f030bf3f8fa8886abea87852067059d7e0b5a0/expr.png\" style=\"display:inline;vertical-align:middle;\" /></a></span></td></tr>\n",
       "<tr><td>&nbsp;</td><td colspan=4 style-\"text-align:left\"><a class=\"ProveItLink\" href=\"../../../number/numeral/deci/_proofs_/posnat2.ipynb\">proveit.number.numeral.deci.posnat2</a></td></tr><tr><td>8</td><td>specialization</td><td>10, 11</td><td><span style=\"font-size:20px;\"><a class=\"ProveItLink\" href=\"__pv_it/5142080cc5614a346bd6f27756fb977a82885b5b0/expr.ipynb\"><img src=\"__pv_it/5142080cc5614a346bd6f27756fb977a82885b5b0/expr.png\" style=\"display:inline;vertical-align:middle;\" /></a> &#x22A2;&nbsp;<a class=\"ProveItLink\" href=\"__pv_it/1bfb35152fe7f85292828df08a5dfe082150a24c0/expr.ipynb\"><img src=\"__pv_it/1bfb35152fe7f85292828df08a5dfe082150a24c0/expr.png\" style=\"display:inline;vertical-align:middle;\" /></a></span></td></tr>\n",
       "<tr><td>&nbsp;</td><td colspan=4 style=\"text-align:left\"><span style=\"font-size:20px;\"><a class=\"ProveItLink\" href=\"../../../__pv_it/2cbe72a7ad6f655694dd697106680215e8489b600/expr.ipynb\"><img src=\"../../../__pv_it/2cbe72a7ad6f655694dd697106680215e8489b600/expr.png\" style=\"display:inline;vertical-align:middle;\" /></a> : <a class=\"ProveItLink\" href=\"__pv_it/b0393b8e81a82b50e47d1dba3d88bb9e9b5a00cf0/expr.ipynb\"><img src=\"__pv_it/b0393b8e81a82b50e47d1dba3d88bb9e9b5a00cf0/expr.png\" style=\"display:inline;vertical-align:middle;\" /></a>, <a class=\"ProveItLink\" href=\"../../../__pv_it/077b2ff79244fb4582cbe22c6e3356fa92a52f2f0/expr.ipynb\"><img src=\"../../../__pv_it/077b2ff79244fb4582cbe22c6e3356fa92a52f2f0/expr.png\" style=\"display:inline;vertical-align:middle;\" /></a> : <a class=\"ProveItLink\" href=\"__pv_it/b0393b8e81a82b50e47d1dba3d88bb9e9b5a00cf0/expr.ipynb\"><img src=\"__pv_it/b0393b8e81a82b50e47d1dba3d88bb9e9b5a00cf0/expr.png\" style=\"display:inline;vertical-align:middle;\" /></a></span></td></tr><tr><td>9</td><td>theorem</td><td></td><td><span style=\"font-size:20px;\"> &#x22A2;&nbsp;<a class=\"ProveItLink\" href=\"../../../number/numeral/deci/__pv_it/c5d3f2ba07647aec518bec1929b16561d1a340400/expr.ipynb\"><img src=\"../../../number/numeral/deci/__pv_it/c5d3f2ba07647aec518bec1929b16561d1a340400/expr.png\" style=\"display:inline;vertical-align:middle;\" /></a></span></td></tr>\n",
       "<tr><td>&nbsp;</td><td colspan=4 style-\"text-align:left\"><a class=\"ProveItLink\" href=\"../../../number/numeral/deci/_proofs_/add_1_1.ipynb\">proveit.number.numeral.deci.add_1_1</a></td></tr><tr><td>10</td><td>theorem</td><td></td><td><span style=\"font-size:20px;\"> &#x22A2;&nbsp;<a class=\"ProveItLink\" href=\"../../boolean/conjunction/__pv_it/6397fc86901c06478c078bb796d806f963b300270/expr.ipynb\"><img src=\"../../boolean/conjunction/__pv_it/6397fc86901c06478c078bb796d806f963b300270/expr.png\" style=\"display:inline;vertical-align:middle;\" /></a></span></td></tr>\n",
       "<tr><td>&nbsp;</td><td colspan=4 style-\"text-align:left\"><a class=\"ProveItLink\" href=\"../../boolean/conjunction/_proofs_/andIfBoth.ipynb\">proveit.logic.boolean.conjunction.andIfBoth</a></td></tr><tr><td>11</td><td>assumption</td><td></td><td><span style=\"font-size:20px;\"><a class=\"ProveItLink\" href=\"__pv_it/5142080cc5614a346bd6f27756fb977a82885b5b0/expr.ipynb\"><img src=\"__pv_it/5142080cc5614a346bd6f27756fb977a82885b5b0/expr.png\" style=\"display:inline;vertical-align:middle;\" /></a> &#x22A2;&nbsp;<a class=\"ProveItLink\" href=\"__pv_it/b0393b8e81a82b50e47d1dba3d88bb9e9b5a00cf0/expr.ipynb\"><img src=\"__pv_it/b0393b8e81a82b50e47d1dba3d88bb9e9b5a00cf0/expr.png\" style=\"display:inline;vertical-align:middle;\" /></a></span></td></tr>\n",
       "</table>"
      ],
      "text/plain": [
       "\tstep type\trequirements\tstatement\n",
       "0\tgeneralizaton\t1\t|= forall_{S} (S subseteq (S intersect S))\n",
       "1\tmodus ponens\t2, 3\t|= S subseteq (S intersect S)\n",
       "2\tspecialization\t4\t|= [forall_{_x_ in S} (_x_ in (S intersect S))] => (S subseteq (S intersect S))\n",
       "\tA : S, B : S intersect S, relabeling x : _x_\n",
       "3\tgeneralizaton\t5\t|= forall_{_x_ in S} (_x_ in (S intersect S))\n",
       "4\ttheorem\t\t|= forall_{A, B} ([forall_{x in A} (x in B)] => (A subseteq B))\n",
       "\tproveit.logic.set_theory.containment.foldSubsetEq\n",
       "5\tspecialization\t6, 7, 8, 9\t{_x_ in S} |= _x_ in (S intersect S)\n",
       "\tm : 2, x : _x_, A : (S , S)\n",
       "6\ttheorem\t\t|= forall_{m in NaturalsPos} [forall_{x, A_1,...,A_m | (x in A_1) and  ...  and (x in A_m)} (x in (A_1 intersect  ...  intersect A_m))]\n",
       "\tproveit.logic.set_theory.intersection.membershipFolding\n",
       "7\ttheorem\t\t|= 2 in NaturalsPos\n",
       "\tproveit.number.numeral.deci.posnat2\n",
       "8\tspecialization\t10, 11\t{_x_ in S} |= (_x_ in S) and (_x_ in S)\n",
       "\tA : _x_ in S, B : _x_ in S\n",
       "9\ttheorem\t\t|= (1 + 1) = 2\n",
       "\tproveit.number.numeral.deci.add_1_1\n",
       "10\ttheorem\t\t|= forall_{A, B | A , B} (A and B)\n",
       "\tproveit.logic.boolean.conjunction.andIfBoth\n",
       "11\tassumption\t\t{_x_ in S} |= _x_ in S"
      ]
     },
     "execution_count": 3,
     "metadata": {},
     "output_type": "execute_result"
    }
   ],
   "source": [
    "selfIntersectionContainment.proof()"
   ]
  },
  {
   "cell_type": "code",
   "execution_count": 4,
   "metadata": {},
   "outputs": [],
   "source": [
    "%end demonstrations"
   ]
  },
  {
   "cell_type": "code",
   "execution_count": 5,
   "metadata": {
    "collapsed": true
   },
   "outputs": [],
   "source": []
  }
 ],
 "metadata": {
  "kernelspec": {
   "display_name": "Python 3",
   "language": "python",
   "name": "python3"
  },
  "language_info": {
   "codemirror_mode": {
    "name": "ipython",
    "version": 3
   },
   "file_extension": ".py",
   "mimetype": "text/x-python",
   "name": "python",
   "nbconvert_exporter": "python",
   "pygments_lexer": "ipython3",
   "version": "3.7.0"
  }
 },
 "nbformat": 4,
 "nbformat_minor": 1
}
