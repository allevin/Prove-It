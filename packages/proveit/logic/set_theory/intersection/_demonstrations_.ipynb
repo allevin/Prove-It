{
 "cells": [
  {
   "cell_type": "markdown",
   "metadata": {
    "collapsed": true,
    "deletable": true,
    "editable": true
   },
   "source": [
    "Demonstrations for context <a class=\"ProveItLink\" href=\"_context_.ipynb\">proveit.logic.set_theory.intersection</a>\n",
    "========"
   ]
  },
  {
   "cell_type": "code",
   "execution_count": 1,
   "metadata": {
    "collapsed": false,
    "deletable": true,
    "editable": true
   },
   "outputs": [],
   "source": [
    "import proveit\n",
    "from proveit.logic import Forall, Intersect, SubsetEq \n",
    "from proveit._common_ import S\n",
    "%begin demonstrations"
   ]
  },
  {
   "cell_type": "code",
   "execution_count": 2,
   "metadata": {
    "collapsed": false,
    "deletable": true,
    "editable": true
   },
   "outputs": [
    {
     "data": {
      "text/html": [
       "<strong id=\"selfIntersectionContainment\">selfIntersectionContainment:</strong> <span style=\"font-size:20px;\"> &#x22A2;&nbsp;<a class=\"ProveItLink\" href=\"__pv_it/b8e32000697054a5d0ebe845eab0a61c201561d90/expr.ipynb\"><img src=\"__pv_it/b8e32000697054a5d0ebe845eab0a61c201561d90/expr.png\" style=\"display:inline;vertical-align:middle;\" /></a></span><br>"
      ],
      "text/plain": [
       "selfIntersectionContainment: |= forall_{S} (S subseteq (S intersect S))"
      ]
     },
     "execution_count": 2,
     "metadata": {},
     "output_type": "execute_result"
    }
   ],
   "source": [
    "selfIntersectionContainment = Forall(S, SubsetEq(S, Intersect(S, S))).prove()"
   ]
  },
  {
   "cell_type": "code",
   "execution_count": 3,
   "metadata": {
    "collapsed": false,
    "deletable": true,
    "editable": true,
    "scrolled": false
   },
   "outputs": [
    {
     "data": {
      "text/html": [
       "<table><tr><th>&nbsp;</th><th>step type</th><th>requirements</th><th>statement</th></tr>\n",
       "<tr><td>0</td><td>generalizaton</td><td>1</td><td><span style=\"font-size:20px;\"> &#x22A2;&nbsp;<a class=\"ProveItLink\" href=\"__pv_it/b8e32000697054a5d0ebe845eab0a61c201561d90/expr.ipynb\"><img src=\"__pv_it/b8e32000697054a5d0ebe845eab0a61c201561d90/expr.png\" style=\"display:inline;vertical-align:middle;\" /></a></span></td></tr>\n",
       "<tr><td>1</td><td>modus ponens</td><td>2, 3</td><td><span style=\"font-size:20px;\"> &#x22A2;&nbsp;<a class=\"ProveItLink\" href=\"__pv_it/266cb102954aaae576def140e892a6dec803defc0/expr.ipynb\"><img src=\"__pv_it/266cb102954aaae576def140e892a6dec803defc0/expr.png\" style=\"display:inline;vertical-align:middle;\" /></a></span></td></tr>\n",
       "<tr><td>2</td><td>specialization</td><td>4</td><td><span style=\"font-size:20px;\"> &#x22A2;&nbsp;<a class=\"ProveItLink\" href=\"__pv_it/5a8f31e5ce32f9102443486b029c734353dd03e80/expr.ipynb\"><img src=\"__pv_it/5a8f31e5ce32f9102443486b029c734353dd03e80/expr.png\" style=\"display:inline;vertical-align:middle;\" /></a></span></td></tr>\n",
       "<tr><td>&nbsp;</td><td colspan=4 style=\"text-align:left\"><span style=\"font-size:20px;\"><a class=\"ProveItLink\" href=\"__pv_it/6cae2912054a08f030bf2dea6a2931d4f0f7513e0/expr.ipynb\"><img src=\"__pv_it/6cae2912054a08f030bf2dea6a2931d4f0f7513e0/expr.png\" style=\"display:inline;vertical-align:middle;\" /></a>, relabeling <a class=\"ProveItLink\" href=\"__pv_it/9da02a6dd116b0c4312df45e0354f33595e07dc80/expr.ipynb\"><img src=\"__pv_it/9da02a6dd116b0c4312df45e0354f33595e07dc80/expr.png\" style=\"display:inline;vertical-align:middle;\" /></a></span></td></tr><tr><td>3</td><td>generalizaton</td><td>5</td><td><span style=\"font-size:20px;\"> &#x22A2;&nbsp;<a class=\"ProveItLink\" href=\"__pv_it/46de7868e0ce3184e02c2a0df2763de9d85ae7cc0/expr.ipynb\"><img src=\"__pv_it/46de7868e0ce3184e02c2a0df2763de9d85ae7cc0/expr.png\" style=\"display:inline;vertical-align:middle;\" /></a></span></td></tr>\n",
       "<tr><td>4</td><td>theorem</td><td></td><td><span style=\"font-size:20px;\"> &#x22A2;&nbsp;<a class=\"ProveItLink\" href=\"../containment/__pv_it/8668b7e78be1ec1155d0dcbf43e45999e8665ca80/expr.ipynb\"><img src=\"../containment/__pv_it/8668b7e78be1ec1155d0dcbf43e45999e8665ca80/expr.png\" style=\"display:inline;vertical-align:middle;\" /></a></span></td></tr>\n",
       "<tr><td>&nbsp;</td><td colspan=4 style-\"text-align:left\"><a class=\"ProveItLink\" href=\"../containment/_proofs_/foldSubsetEq.ipynb\">proveit.logic.set_theory.containment.foldSubsetEq</a></td></tr><tr><td>5</td><td>specialization</td><td>6, 7, 8, 9</td><td><span style=\"font-size:20px;\"><a class=\"ProveItLink\" href=\"__pv_it/5142080cc5614a346bd6f27756fb977a82885b5b0/expr.ipynb\"><img src=\"__pv_it/5142080cc5614a346bd6f27756fb977a82885b5b0/expr.png\" style=\"display:inline;vertical-align:middle;\" /></a> &#x22A2;&nbsp;<a class=\"ProveItLink\" href=\"__pv_it/0cf8ad6dc6e6190e896a8dc1373bb5a58295b9ac0/expr.ipynb\"><img src=\"__pv_it/0cf8ad6dc6e6190e896a8dc1373bb5a58295b9ac0/expr.png\" style=\"display:inline;vertical-align:middle;\" /></a></span></td></tr>\n",
       "<tr><td>&nbsp;</td><td colspan=4 style=\"text-align:left\"><span style=\"font-size:20px;\"><a class=\"ProveItLink\" href=\"__pv_it/70b832c45338ae00c087f745aca552af1628b23f0/expr.ipynb\"><img src=\"__pv_it/70b832c45338ae00c087f745aca552af1628b23f0/expr.png\" style=\"display:inline;vertical-align:middle;\" /></a>, <a class=\"ProveItLink\" href=\"__pv_it/824c5121181a191bf06ee643b1f896453b9a019f0/expr.ipynb\"><img src=\"__pv_it/824c5121181a191bf06ee643b1f896453b9a019f0/expr.png\" style=\"display:inline;vertical-align:middle;\" /></a></span></td></tr><tr><td>6</td><td>theorem</td><td></td><td><span style=\"font-size:20px;\"> &#x22A2;&nbsp;<a class=\"ProveItLink\" href=\"__pv_it/e393c3c49e28d6bd1bcb897834ce02b78c4f25270/expr.ipynb\"><img src=\"__pv_it/e393c3c49e28d6bd1bcb897834ce02b78c4f25270/expr.png\" style=\"display:inline;vertical-align:middle;\" /></a></span></td></tr>\n",
       "<tr><td>&nbsp;</td><td colspan=4 style-\"text-align:left\"><a class=\"ProveItLink\" href=\"_proofs_/membershipFolding.ipynb\">proveit.logic.set_theory.intersection.membershipFolding</a></td></tr><tr><td>7</td><td>theorem</td><td></td><td><span style=\"font-size:20px;\"> &#x22A2;&nbsp;<a class=\"ProveItLink\" href=\"../../../number/numeral/deci/__pv_it/cc8f030bf3f8fa8886abea87852067059d7e0b5a0/expr.ipynb\"><img src=\"../../../number/numeral/deci/__pv_it/cc8f030bf3f8fa8886abea87852067059d7e0b5a0/expr.png\" style=\"display:inline;vertical-align:middle;\" /></a></span></td></tr>\n",
       "<tr><td>&nbsp;</td><td colspan=4 style-\"text-align:left\"><a class=\"ProveItLink\" href=\"../../../number/numeral/deci/_proofs_/posnat2.ipynb\">proveit.number.numeral.deci.posnat2</a></td></tr><tr><td>8</td><td>specialization</td><td>10, 11</td><td><span style=\"font-size:20px;\"><a class=\"ProveItLink\" href=\"__pv_it/5142080cc5614a346bd6f27756fb977a82885b5b0/expr.ipynb\"><img src=\"__pv_it/5142080cc5614a346bd6f27756fb977a82885b5b0/expr.png\" style=\"display:inline;vertical-align:middle;\" /></a> &#x22A2;&nbsp;<a class=\"ProveItLink\" href=\"__pv_it/1bfb35152fe7f85292828df08a5dfe082150a24c0/expr.ipynb\"><img src=\"__pv_it/1bfb35152fe7f85292828df08a5dfe082150a24c0/expr.png\" style=\"display:inline;vertical-align:middle;\" /></a></span></td></tr>\n",
       "<tr><td>&nbsp;</td><td colspan=4 style=\"text-align:left\"><span style=\"font-size:20px;\"><a class=\"ProveItLink\" href=\"__pv_it/a2ba2a1093e5aa1ff20927b08b81a87de058a5180/expr.ipynb\"><img src=\"__pv_it/a2ba2a1093e5aa1ff20927b08b81a87de058a5180/expr.png\" style=\"display:inline;vertical-align:middle;\" /></a>, <a class=\"ProveItLink\" href=\"__pv_it/92e73ddb3c9b9556473b387f7f778a64c9acfa040/expr.ipynb\"><img src=\"__pv_it/92e73ddb3c9b9556473b387f7f778a64c9acfa040/expr.png\" style=\"display:inline;vertical-align:middle;\" /></a></span></td></tr><tr><td>9</td><td>theorem</td><td></td><td><span style=\"font-size:20px;\"> &#x22A2;&nbsp;<a class=\"ProveItLink\" href=\"../../../number/numeral/deci/__pv_it/c5d3f2ba07647aec518bec1929b16561d1a340400/expr.ipynb\"><img src=\"../../../number/numeral/deci/__pv_it/c5d3f2ba07647aec518bec1929b16561d1a340400/expr.png\" style=\"display:inline;vertical-align:middle;\" /></a></span></td></tr>\n",
       "<tr><td>&nbsp;</td><td colspan=4 style-\"text-align:left\"><a class=\"ProveItLink\" href=\"../../../number/numeral/deci/_proofs_/add_1_1.ipynb\">proveit.number.numeral.deci.add_1_1</a></td></tr><tr><td>10</td><td>theorem</td><td></td><td><span style=\"font-size:20px;\"> &#x22A2;&nbsp;<a class=\"ProveItLink\" href=\"../../boolean/conjunction/__pv_it/75b95a60b89ba91524c4552093030c827fffaab20/expr.ipynb\"><img src=\"../../boolean/conjunction/__pv_it/75b95a60b89ba91524c4552093030c827fffaab20/expr.png\" style=\"display:inline;vertical-align:middle;\" /></a></span></td></tr>\n",
       "<tr><td>&nbsp;</td><td colspan=4 style-\"text-align:left\"><a class=\"ProveItLink\" href=\"../../boolean/conjunction/_proofs_/andIfBoth.ipynb\">proveit.logic.boolean.conjunction.andIfBoth</a></td></tr><tr><td>11</td><td>assumption</td><td></td><td><span style=\"font-size:20px;\"><a class=\"ProveItLink\" href=\"__pv_it/5142080cc5614a346bd6f27756fb977a82885b5b0/expr.ipynb\"><img src=\"__pv_it/5142080cc5614a346bd6f27756fb977a82885b5b0/expr.png\" style=\"display:inline;vertical-align:middle;\" /></a> &#x22A2;&nbsp;<a class=\"ProveItLink\" href=\"__pv_it/b0393b8e81a82b50e47d1dba3d88bb9e9b5a00cf0/expr.ipynb\"><img src=\"__pv_it/b0393b8e81a82b50e47d1dba3d88bb9e9b5a00cf0/expr.png\" style=\"display:inline;vertical-align:middle;\" /></a></span></td></tr>\n",
       "</table>"
      ],
      "text/plain": [
       "\tstep type\trequirements\tstatement\n",
       "0\tgeneralizaton\t1\t|= forall_{S} (S subseteq (S intersect S))\n",
       "1\tmodus ponens\t2, 3\t|= S subseteq (S intersect S)\n",
       "2\tspecialization\t4\t|= [forall_{_x_ in S} (_x_ in (S intersect S))] => (S subseteq (S intersect S))\n",
       "\t{A -> S , B -> (S intersect S)}, relabeling {x -> _x_}\n",
       "3\tgeneralizaton\t5\t|= forall_{_x_ in S} (_x_ in (S intersect S))\n",
       "4\ttheorem\t\t|= forall_{A, B} ([forall_{x in A} (x in B)] => (A subseteq B))\n",
       "\tproveit.logic.set_theory.containment.foldSubsetEq\n",
       "5\tspecialization\t6, 7, 8, 9\t{_x_ in S} |= _x_ in (S intersect S)\n",
       "\t{m -> 2}, {x -> _x_ , A -> (S , S)}\n",
       "6\ttheorem\t\t|= forall_{m in NaturalsPos} [forall_{x, A_(1),...,A_(m) | (x in A_(1)) and  ...  and (x in A_(m))} (x in (A_(1) intersect  ...  intersect A_(m)))]\n",
       "\tproveit.logic.set_theory.intersection.membershipFolding\n",
       "7\ttheorem\t\t|= 2 in NaturalsPos\n",
       "\tproveit.number.numeral.deci.posnat2\n",
       "8\tspecialization\t10, 11\t{_x_ in S} |= (_x_ in S) and (_x_ in S)\n",
       "\tA -> (_x_ in S), B -> (_x_ in S)\n",
       "9\ttheorem\t\t|= (1 + 1) = 2\n",
       "\tproveit.number.numeral.deci.add_1_1\n",
       "10\ttheorem\t\t|= forall_{A, B | A , B} (A and B)\n",
       "\tproveit.logic.boolean.conjunction.andIfBoth\n",
       "11\tassumption\t\t{_x_ in S} |= _x_ in S"
      ]
     },
     "execution_count": 3,
     "metadata": {},
     "output_type": "execute_result"
    }
   ],
   "source": [
    "selfIntersectionContainment.proof()"
   ]
  },
  {
   "cell_type": "code",
   "execution_count": 4,
   "metadata": {
    "collapsed": false,
    "deletable": true,
    "editable": true
   },
   "outputs": [],
   "source": [
    "%end demonstrations"
   ]
  },
  {
   "cell_type": "code",
   "execution_count": 5,
   "metadata": {
    "collapsed": true
   },
   "outputs": [],
   "source": []
  }
 ],
 "metadata": {
  "kernelspec": {
   "display_name": "Python 3",
   "language": "python",
   "name": "python3"
  },
  "language_info": {
   "codemirror_mode": {
    "name": "ipython",
    "version": 3
   },
   "file_extension": ".py",
   "mimetype": "text/x-python",
   "name": "python",
   "nbconvert_exporter": "python",
   "pygments_lexer": "ipython3",
   "version": "3.7.0"
  }
 },
 "nbformat": 4,
 "nbformat_minor": 0
}
