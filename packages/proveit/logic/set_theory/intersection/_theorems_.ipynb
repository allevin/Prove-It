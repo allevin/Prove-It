{
 "cells": [
  {
   "cell_type": "markdown",
   "metadata": {},
   "source": [
    "Theorems for context <a href=\"_context_.ipynb\" class=\"ProveItLink\">proveit.logic.set_theory.intersection</a>\n",
    "========"
   ]
  },
  {
   "cell_type": "code",
   "execution_count": 1,
   "metadata": {},
   "outputs": [
    {
     "name": "stdout",
     "output_type": "stream",
     "text": [
      "Defining theorems for context 'proveit.logic.set_theory.intersection'\n",
      "Subsequent end-of-cell assignments will define theorems\n",
      "'%end theorems' will finalize the definitions\n"
     ]
    }
   ],
   "source": [
    "from proveit.logic import Forall, And, Equals, InSet, NotInSet, Intersect\n",
    "from proveit._common_ import m, x\n",
    "from proveit.logic._common_ import iterA1m\n",
    "from proveit.logic.set_theory._common_ import x_in_every_A, x_notin_some_A\n",
    "from proveit.number import NaturalsPos\n",
    "%begin theorems"
   ]
  },
  {
   "cell_type": "code",
   "execution_count": 2,
   "metadata": {},
   "outputs": [
    {
     "data": {
      "text/html": [
       "<strong id=\"membershipUnfolding\"><a class=\"ProveItLink\" href=\"_proofs_/membershipUnfolding.ipynb\">membershipUnfolding</a>:</strong> <a class=\"ProveItLink\" href=\"__pv_it/33372da25320427a0327a6738ef926549e610cfd0/expr.ipynb\"><img src=\"data:image/png;base64,iVBORw0KGgoAAAANSUhEUgAAAk8AAAAZBAMAAADaodeeAAAAMFBMVEX///8QEBC6urrMzMxUVFRm\n",
       "ZmZERETc3NwyMjKqqqp2dnaIiIiYmJgiIiLu7u4AAAAU9Wx4AAAAAXRSTlMAQObYZgAABptJREFU\n",
       "WMPlWX2IVFUUP/O1M/PmzdtZpcRCd6LCwBZHKDWjdtgVLUrdEP8w/2iKWgmjBhI1pXYIQgjdnShB\n",
       "WMQtFKmFcSRdtCyfmRVKNtkfVjQ6Qmxiua4fuaytvu7ne/e9uW/nrbBkeODM3HveuWfe/d1zzj33\n",
       "DoAXqiufhNuZmso93hTjcJtTOA0Vj0BV/uNX9Rcpy6k5zxpfebU33e1BYNhqq0nKGKgSFhyrDZQn\n",
       "vXGkhxjL6TQPjVDKm7lA2nWu14TOEsYIqI9xv7M2UJ70xpE6R/t5xTDnnWOx4hIBXB5xjZBdV4RO\n",
       "hDECajX+ytQGypPe+FGsSNkl8owSbx5lM2yTa3L5566uZlwXemoPZQQUhjaUrw2UJ73xI1+FskV/\n",
       "bir/zNvvGoO8eYZ+zTolt8PlU0Whtq9cznEkdxnikwRlBJS6c82aNz0kc09640cPMLZWfqMFW6zU\n",
       "eMOsZOhitri4DJP7c6JwznGr/YXPENfjZcoIKLja3v6rl/LAi9740bOM1+15Yy+JwNXCdDpSXZfM\n",
       "dEViS8vJKxouD+Fw6l3QvZzkrVeFHHY5YiSFATsoY6BaAVbIM6QdKFe9sdHrY1GOmq2NlLUe9Tcf\n",
       "yUfiu7wEz42YQ4ivKLo8TXB5RAc4B9/rU4gTZoXSui1k6MKALZQxUPchmKVvGbID5dSbIU9Y/mFb\n",
       "N+ncdXokSg6yLAfMgngCZQVig1FcAWjCvqIm4ODfOP8Q0wn6wuGcPDSo3IfeqwcOwvu40y8oHIKY\n",
       "Ie4D91DGQMUhptutzVmajN1RcQLl1GuUV/W+a7auc5+skyk5SLD8EW9coqxBkFr0TymXeTK/kIcZ\n",
       "VwEeXkiwHWQFX6vMNJfXJ3EJPZ+BgUyxZK4Ng98Q37mZMgYqpseFcNf2LtXVTAEKVR5l14NQo7xW\n",
       "eOaqG1DYNHTblY68KORR1hEtn3UAhTAuVhWMixsayJ6+1QLqlEt1yuX1xNPvtmpZRsGLDY1WqWEH\n",
       "SsuJJvumDVTUYyEohOYtnPekCJRdD5q2JaSR98tFN6CwaZpaTKW1x7UtZinNO6LlIH86mTFK3OQ0\n",
       "pVmziU4cGOgwOFAk9KIoeiJZSc7jcl+eJG7koYjOWwrvPT7wh1Vq2EMPVrSgMF8+fXusLwUqjk/1\n",
       "kdnFao8ietDbsoe++4mOG9IkMM22uzKg8ChiGhI2pQVisuEd0bJZY75CWc0ehBgZ+7SpcwZNOm5k\n",
       "GVAqjiEMRpT8HgGVNyx5Hcoi38YG4UuyGmZK0fBanB4y4QD4jjIBajNanL9m6PG0miblOqipwmEJ\n",
       "UFhPqcwni4F24XoUCcGqg8AOsO2uFCgyipgO5CylRfRpRlTNcMvcQdP2bXqb/jysJ4Lz/GfCONPU\n",
       "GXkGFCkPSFrHPqfhkLxQYg1LjrSiI3WJMFkH7QT/uVX4HV4bNuGwlQck6t/aB/UpNHouBUpRFlUD\n",
       "hfX8ZJ9GNLMS+QcCHzrdOzAVuopVQJFRc82JU6W5k+RAEcumPb53NVHu/+xcL13/8DssKg3jBgQN\n",
       "w0hRoCIYwBZ+StHuxC6XYQ1L7i+BtrLwyQEW9Evod72BPH2xYVzmcAC8TZkApWK3eApmQiQPj7W3\n",
       "txfVVPj4qWqgiB4MUcmPDY3o8Bh3AhVHeTUtyVFoFDEdTVtKJ+VAUctOoHxZykK+ecI6wlDaah5h\n",
       "knR5qsiST7LJP9hUtlcTDA7xCMNoIvRBhx9+px4F96LgDcsu7gKJAHFwdPa5LgFqO8APJTjS/fWD\n",
       "y0Sg8Chi2p8xlVyAopbVZQdajuSZvng6HY0IUL3eStmjoz9mcIBSpGwCFR5EIH6jQDBLgVIL8hvO\n",
       "ZiWnwNosig90zCZAhTfA2kq4E39swEEFzYPQnfEl7xeAIqOIabxZMSUTKDq4kwFFLUf7YIK/TcSm\n",
       "s/Ytz1ayN3sDKjLqRSSHg5QnZ0EACq3cTzBrJ2gv4MMn+kjLgerfv7wAzXochc4hYzIGKjACzdnA\n",
       "EP4YgdNXQG28mA+mztP7KwYUGUVM40KGKZlA0cFDtMMtt2olBXlUyNwZVjF2p3Vd6OQWzHq+2x3t\n",
       "OpXBgXdiwtXqCkokNe/Mze0Uh55qHSUs9c1Q0p11FDG93+ojoPCszJnZOqVoW1yll2ZsZkXKNehT\n",
       "r8fI9Z5uwVKUa+DqBlSATyewG/nNbFNutvqRP61MSY8w1rnq0btGud3SMkq+Dk26+9b5c+EmgFLl\n",
       "7gW6ZKQTqKg+phdM/9+Auun/9ap+4PBYRiuVWwOnpnL6X0EuDoVJnfQrAAAAAElFTkSuQmCC\n",
       "\" style=\"display:inline;vertical-align:middle;\" /></a><br>"
      ],
      "text/plain": [
       "membershipUnfolding: forall_{m in NaturalsPos} [forall_{x, A_1,...,A_m | x in (A_1 intersect  ...  intersect A_m)} ((x in A_1) and  ...  and (x in A_m))]"
      ]
     },
     "execution_count": 2,
     "metadata": {},
     "output_type": "execute_result"
    }
   ],
   "source": [
    "membershipUnfolding = Forall(m, Forall((x, iterA1m), x_in_every_A,\n",
    "                                       conditions=[InSet(x, Intersect(iterA1m))]),\n",
    "                             domain=NaturalsPos)"
   ]
  },
  {
   "cell_type": "code",
   "execution_count": 3,
   "metadata": {},
   "outputs": [
    {
     "data": {
      "text/html": [
       "<strong id=\"membershipFolding\"><a class=\"ProveItLink\" href=\"_proofs_/membershipFolding.ipynb\">membershipFolding</a>:</strong> <a class=\"ProveItLink\" href=\"__pv_it/8359f065130ef15923f4261f9ea0dad1f9180d150/expr.ipynb\"><img src=\"data:image/png;base64,iVBORw0KGgoAAAANSUhEUgAAAjsAAAAZBAMAAAAlA/J8AAAAMFBMVEX///8QEBC6urrMzMxUVFRm\n",
       "ZmZERETc3NwyMjKqqqp2dnaIiIiYmJgiIiLu7u4AAAAU9Wx4AAAAAXRSTlMAQObYZgAABjJJREFU\n",
       "WMPlWX1oHEUUf3d7yeX29jYJRaX/NFesrRBDtmCbGJAcbUgRaYyW/CERPCte0GA5EExssDlUqJ/J\n",
       "/WFADNJTWqsUjihpaFOwp2lEW6ixSkXJtVsoR7BtmmpNUNOs87Efs7uTZBPhKHRgdm/evt/bnd/M\n",
       "e29mDsBLKc3/AndeqclnvClG4I4swRioHulRb7dvr15S3JheoTkGIEVpxfRMYMGZ5enxpFfEIsSW\n",
       "FF/MrNAeC9ilV0TP57jdtzw9nvSKWMrUpcSixrIXTPJtdFk/bYAyvSJ6Xsa3+PL0eNIrYjmxpLhR\n",
       "m7BkH7zx4rMc1dCbzecV07dYgJShFdGD6S5JL0+PJ70ilnVsQz6Wz6dY8dvajPkw0AJQP+S20KSC\n",
       "8I7RYAEgV9CK6JEOd3W96iE0e9IrXvGn2Fb9Wbs4PFG1YD4cx5fXXRakVuxC+vSxAQCepxXRA7OJ\n",
       "xG9eErsXveKVEhxJ9w6/chRPi+AemxigV+n/w1QlAfNDfpQK6QHZBgA4RCumZztAB/cLRDs9i+p5\n",
       "KS/xxekVaePumJ3LofmfkSZ9OGSUJlkxKs/B0/MmhgSVB/lrOSPR2QAoWtGK6dkAcoo/QHZTTr1a\n",
       "ft/8f9uaUZo6HGnWwDbwV2OZRU0KxiNfFI9feCaEvaNgPveR90kVcPIvdN/qlR4DYJT1tGJ6IhDO\n",
       "2YH1bdHwXaqTHqdeFX9l4fvH1qS5rtShZGDFKHcLs4TJT/R7OULKEKDm1+fzemguJwavp6F2FmDL\n",
       "Tq/06ABrjUgrpiecizBLCPloW06KZyHrmj12PSip4mf5x2c59Awy1lksmY82mjOMNlxpe8ppcoqh\n",
       "BxFHE5LVdyp+rLJSu4XuH3mlxwBw6JFTLHRk07QqnSmBbEnTzqZHWFN2Pag5UMH1rV9vcOjpYKzb\n",
       "sCigCZPsoneS0Q7v3jftNBnQU40vTSMq2excsyYaFofWTE/3aiugxwRwnAs6tiHna68+GB5RaLaT\n",
       "Hqobcs8eogdHtg3TDzzXu8DNcZs01U1PBQUS6zYsWsWVTrF+NUW1xeHq7TQjO0yG9QVMKZqFUvIk\n",
       "hPGjgOn1WAyXEEcRLemiR8Y/VOPC0GMAxr8cjZ3AK8jvaCX0DCD81dpcJCbFyFIaJCU7xqEH64lq\n",
       "Mx03sbUcZcKAa2V/CLSoix4hRYFlesSxsBtQeJaYkIYbSBuygfhaSHFM+mOGDYADuWegh/joOTPb\n",
       "InGwGfOkpV30XEe/ZOxD5GLRYwDkb+bhZzhlT+zEgfcdg3IF2W6g9Ihii5serOeHd6lks1r2Lwgf\n",
       "OzczwjroH3LRg/pEgA0ubD3AHmASIm5gBqIoQ+tZym5S0JX9qKuF0d+PUGq7d4El1rQFCGiapjjp\n",
       "uYQ+Rr4b9ItFjwGou5KCPwk1r9FK6JHwMD4Km6EsDQ8nEokhSQmeveCmh+jBHJX8WFl1E8md9ERQ\n",
       "jIu56AnFKJBYt2HrQWiF763O4wbRLk+CcD6R6HSaNOiBe2zvff89fVNhE1N6CLdXXWEgTOadLRkH\n",
       "hoQKeMu2qdDLGhiBXj9cprMH7v0KPeQdhwkVApnEaDdyi0PPQYAfJmB88NQDT7KzJ06Bl8GJ3Yh9\n",
       "zErkpIG10WApcoxj0m/ky9P8deNpNz3ei08Jx4MzURARo7ia9ARn0Pz5VoRAktIjZfmnhY1iSoTu\n",
       "JPIPEDTSxeB+6FaDffiyHzsCNM7AYNwXvY+hR56gQGKdweLebEHjmKb4PtpA2sLMZyjF79B9izUp\n",
       "ZTwdaKyOnl40f6R4hqwepoChBw3KT7D1MMi7UeN+dInx6Skcb89CYy6CpvvX2lrcRWEeGpPCHL7M\n",
       "w8WbIFXdSAeUa/R8yMhcFyiQWGewAE9AC1ai+DnaQNpy58CoCgUckR0mS6LWQeci559m2dvfvjJ6\n",
       "NkJEEV5IknHZwX2HSKLDMmfNpsPiLkrWHthSH4CJHEPPcY51Qk8K8NV0UdowtOFTHHvsJsvMt/Xw\n",
       "u9jz/7e7YYXWxYZgGXoEozvCF2hA60y5+auABrpTYegpcE49MTY0xHtbgSujJgeLfBS/Cnok/lSC\n",
       "HAdJ6Qnl+HYD/G15bvEvid2W9Kz6fy79BWP8p1m+eGxRc6JaRHZq8rH/ADwX/pSFOEozAAAAAElF\n",
       "TkSuQmCC\n",
       "\" style=\"display:inline;vertical-align:middle;\" /></a><br>"
      ],
      "text/plain": [
       "membershipFolding: forall_{m in NaturalsPos} [forall_{x, A_1,...,A_m | (x in A_1) and  ...  and (x in A_m)} (x in (A_1 intersect  ...  intersect A_m))]"
      ]
     },
     "execution_count": 3,
     "metadata": {},
     "output_type": "execute_result"
    }
   ],
   "source": [
    "membershipFolding = Forall(m, Forall((x, iterA1m), InSet(x, Intersect(iterA1m)),\n",
    "                                     conditions=[x_in_every_A]),\n",
    "                           domain=NaturalsPos)"
   ]
  },
  {
   "cell_type": "code",
   "execution_count": 4,
   "metadata": {},
   "outputs": [
    {
     "data": {
      "text/html": [
       "<strong id=\"nonmembershipEquiv\"><a class=\"ProveItLink\" href=\"_proofs_/nonmembershipEquiv.ipynb\">nonmembershipEquiv</a>:</strong> <a class=\"ProveItLink\" href=\"__pv_it/80ff81454308486e68d989c331db7c21eb8eef0b0/expr.ipynb\"><img src=\"data:image/png;base64,iVBORw0KGgoAAAANSUhEUgAAArQAAAAXCAMAAADN9yyBAAAARVBMVEX///8sLCxlZWUbGxsJCQkd\n",
       "HR0PDw8WFhYQEBC6urrMzMxUVFRmZmZERETc3NwyMjKqqqp2dnaIiIiYmJgiIiLu7u4AAAA/PWo8\n",
       "AAAAAXRSTlMAQObYZgAABmpJREFUaN7tW4ey7CYMJd0Ug6n//6mhuIBNXbPJTHKZeVeetUA68gEL\n",
       "4QfA/6VBDcAP2P+GW9PQCcXQvxIqKFJZaErnOoWGzPZlJ0sWJExlJ9YxsAUXOm1+8izeuFWIzC4l\n",
       "UxCoS0u88pfbQacNNkIHnMqGWlZZGf5lL4sWCEplH4ghsEUXumx+8izeuVWIzCEt0fjJc6Zfk3ba\n",
       "YAPtsNSwSGCu0+66McVoUzrkTUG9YoHdZA/WMbBlFyKbUY8eKufVJ7lViAw7iUbXI9wreE3aaYMN\n",
       "ZCUilcWlLtfpeEEZo7KdNsbwqtbeBamoXrZg30k8lR1Yx8BWXIhsYgQ6By+rz3KrEJldOqIds4Ns\n",
       "70k7bbD+tuhUZrJ2wZT660+W6bTPYDvbTfbJYK+HWF+uU1YvWnDuLanswDoGtuJCZBOttcTzSbac\n",
       "+iy3CpHZpSOa5NQ3BSaQdtZg/Zk/S2UmvEzaWK400+nYQYLFmEy8JTlD27PWltWLFnxbt1Q2sY6B\n",
       "rboQ2WR7p430ZWVP9XluFSITpCeaWV1TfAZpZw3W3QhPJeUC002Qc7GjqwuJZrlOQcEgwIyBlQwS\n",
       "bD14iuplCyFwJJVNrGNgqy5ENg/2sb4kPqM+z61CZIL0RAvpyTqy4eBF0n4w2LttmEyktp5JJcFy\n",
       "LvXBlTTbOjoFBRsJYoyspWCNXXFDvWxhz4RT6R4/ixp+uD0EtupCZHN/z6Pe3chTfZ5bhcgE6YkG\n",
       "cX4a1OZ8kbStweBQRbStvcBEutkkbI60HS9ovWa2tUs0teXiuxhyz9WmkfZm4QlySWUT6xjYKsjY\n",
       "ZiAV7i3ePtXfutWMTJCBaC7aQtbzbkZcvUIsRNdJ2xpsGaqItrWPV8sunXd4TXAr2/74XSn27OQ6\n",
       "+GkBjfGdEMFqNmlTC7nYmlQ2sY6BrYJMbKqxxeuh/s6tjsgEGYjmOFbaMmpBCLH35Qq4VeG6sdJW\n",
       "B7MdFzNQDOvQvpHWMz1+DQX+8C3/9G10zWLbVXfZppP2bmEeafvAVkEmNl3Jh8v+p3NXf+vWEGnt\n",
       "dCk9FbFCqrXloJTCUdWSlmCMlf235UlbGczOKrWZpTsqPdrLlsqQ3F+n01plCoSX8rYgC0/Ts+4y\n",
       "nbQPCz3pAVFRWx9uD4GtgkxSEsqypdRSe6i/dWsoPbCJ8p6aSCKg4NjmK6FCflVxJNoQFR0r7TUY\n",
       "sJtIKHBc/lGQlgscTxZ0aK8ykZL6dAqIsxu2NyDJdwL6iLMyhnaRVpcvsqS9W7hH2P3EUtnEOga2\n",
       "CjK1iVFy+q5BGWxG/aVbHZGRLCLaRgIKLaHbySkbc+njfkGSyBJWog7SHoM5gtvUZtnSEsZR4MBN\n",
       "7sbaVaVLbtb91U5HegVTKwgwyneiZ+q1mn3L1yCtPl5lz4ssae8WHhEeKXmdCkNgqyBTm2iNE7sL\n",
       "WQbsU/2lWz2RiUpeVwpCtXA0dWu7v494TFq7LeS4Tdozn4G32hJA7sSEGeFHXlpVsUi7mkLEUq+C\n",
       "a86TjSBl5Ld8J+Oa3zb4K/9Ka5F2WUsXOfWHhXuE/coAU9nEOgS2DvJmk5FkKVyLqDPqL93qiUyQ\n",
       "B9HkMWOwcGxx992cRMofFawikJZKrTpIK6/pZxJmqpB3hyeqWqRNtCtJLU1lpv36C1PpzrWsHJM2\n",
       "Wip6tid96mmEwdgxLgUfgK2AvNsc/Lb0rv7OrWZkomPc1Cxymy+XSbuFUuNkpQUQ7XkKrZE2Xizj\n",
       "b4C4H03ub5gWaWNtSTYhMZS5Lxo6vjd5HnWUlbdvH0CnEfaZP0hkpZ1uD4GtgORzPyB951YzMru8\n",
       "E42anfGuwuUuaUJa61V5Kt7HQgZw5kvN1B/1ofA5Bdr3ioG0/hZ1ZefzT0Z7c1gW+Ezm45p18bO4\n",
       "3BdnReVvk/Ye4bPSqed8mtj1ed0BcuxEacS/D9xqRkazPNGgG1shl2Nz6vOTXQGycFV5Wd/HsrnN\n",
       "RoRjOfIZdnjTS/vG93uzQFp/C7ks4vyT07ZZvKub8Nz5GMWpfL62ZbnT/WfODPnq5+v3CJ/rAu45\n",
       "+T7dHgJbBIlnn7a/casZmUPy5pkd33PajpROqeK3ULmDfVq8JXMlUPeBhsppn9tUWnAzO8npP/Y/\n",
       "KxpRQ6lssUKAD8A2bM9k7QS3CpHZpaUZ/EeeDHrMaCSWsGw+b2V+cofXTn39Qph/2k/rXWgrt+RP\n",
       "wH5atf0NmNeP6wUI/JQAAAAASUVORK5CYII=\n",
       "\" style=\"display:inline;vertical-align:middle;\" /></a><br>"
      ],
      "text/plain": [
       "nonmembershipEquiv: forall_{m in NaturalsPos} [forall_{x, A_1,...,A_m} ((x not-in (A_1 intersect  ...  intersect A_m)) = ((x not-in A_1) or  ...  or (x not-in A_m)))]"
      ]
     },
     "execution_count": 4,
     "metadata": {},
     "output_type": "execute_result"
    }
   ],
   "source": [
    "nonmembershipEquiv = Forall(m, Forall((x, iterA1m), \n",
    "                                      Equals(NotInSet(x, Intersect(iterA1m)), \n",
    "                                             x_notin_some_A)),\n",
    "                           domain=NaturalsPos)"
   ]
  },
  {
   "cell_type": "code",
   "execution_count": 5,
   "metadata": {},
   "outputs": [
    {
     "data": {
      "text/html": [
       "<strong id=\"nonmembershipFolding\"><a class=\"ProveItLink\" href=\"_proofs_/nonmembershipFolding.ipynb\">nonmembershipFolding</a>:</strong> <a class=\"ProveItLink\" href=\"__pv_it/fa1344347cb6e2187bd461765a0a28a5447104db0/expr.ipynb\"><img src=\"data:image/png;base64,iVBORw0KGgoAAAANSUhEUgAAAjsAAAAZCAMAAADg8x99AAAAV1BMVEX///9bW1sNDQ0JCQkdHR0P\n",
       "Dw8WFhYfHx9vb28oKCgtLS0/Pz9RUVEvLy8QEBC6urrMzMxUVFRmZmZERETc3NwyMjKqqqp2dnaI\n",
       "iIiYmJgiIiLu7u4AAAAH8NkCAAAAAXRSTlMAQObYZgAABjNJREFUaN7tW4mS5CYMZbOb7OYyYO7j\n",
       "/78zgC/ACOOse6rSGaqm8Qzykxo9hIQ9CD3XmLWWo8/2P2g4uFo9CWg/5/QJt7j/hp2cIvcwd9yn\n",
       "96/Iofuz6DrSxMsXWwdoMLjsE3eOYGH0E9x5EO89G6F3hqtfrVcvNg/SMJOyj9xRO82Ee4I7D+K9\n",
       "Z7uYlhl3pJX3IPP4vVQTEIc1iKoP3OFsu2aP7FkP4r1l0/pO0qirHcv7dlIphaDMMjJoBCgOa0BG\n",
       "lX3gzs7sWT7CnQfx3rJNcNhxWtjffrUClBYhKvjWnZQmOSLG0gRYHNQQrJvKPnLHKJ7az1dJduXl\n",
       "U3hvmSgLONMRxiHGYWlt0eR9g3tm3n0/EnlgcVBDOoKRRR+5gzyL7YFyfWXLY3jv2OZtWrjSlEs9\n",
       "70ufs+AzJ9rSScATJLzHvRRKjsw6KA5rSKnQXPSJOzSRj91JtVSPO/8C76kjBwLWlq1N/2exe+CQ\n",
       "CmHWyB+m0FiDpj08pwmrsqFNehEIPpu9N70c6aKIuxCHNSxJUtEn7uD44cSt1dOz6QoP3zuj6IoX\n",
       "zuMNSjMYidyJjC3sHjikYsLH6tMhs5AbJR1rFGFT9v3MlG7x69wT9jh3Kg2nuZ6KPnEnYWnTP3UQ\n",
       "cywe9TS7S+5c4U33zii64gz8ZXX53EFSeNyKVtHYBQdUbBtCnEZacG+y1n77Gj7EWTrekLiJvU83\n",
       "kZnap7lTamhwwBf9wp3oZ+ug3H+e5zBuGFJBRLnruNPFC/dO/k713hfPh6Q+2/73XwZGSrFxu+lc\n",
       "oeQjJ+xL8ExFizuJbjlocqOSoDT1U2hHCS0f506tYYg74QtCOjXD3LnAA2N0ZEzgzkwpteFHgjZ1\n",
       "8OJTNOmnGztWXzz3V51hRdv/dK6DFDMznVUN1f3ZyCl7uwbPk7+ML7LITI9nOM6i8xPBQ1pOJPjB\n",
       "8b2Efpw7Jw1De1aYGYrX6k1jrWhI2ZZzo6OaM0QSrsfizoGHQjGBdTF/FnOwCmxh9sVz7kylxmh7\n",
       "nm80kFJmukBQDoGnkQndBm8fBbI1VBme0h2k95uoQbie100auY1F1ns+wp0d9jDKdblTa6ipEP4i\n",
       "in7ljpwXOGdwTLJtPPVJI0fENSTwxpAx7mx4kWphU8/WWirwtiqQXlMoF7/gDhGlxvjrzLuKU1av\n",
       "cTvs5CML9hh4tVhps9CVYZ5ZICQ/qOUsroPUXhbzPTVifs3J+9xx28azX2RXLe7UGk5UaNfox87L\n",
       "nY6TEmNpEshWlol/Q4oOcWffyXFVZiISD0qF1wl8uizjM/FL7ixe2jUm21lfcaJEKnBaYScbWRkw\n",
       "AH4uMuo9eIXWyilVVBRc/EJQU9rHlrLrdJX2ugvuTKy6yK4a3DlpqKkQAwku+o07ZosAVMeZiAKR\n",
       "3cSmYz6mF+5w4+wYd8wRUXzhFbukY4va6xfFCvEL7khaaIy2//F7sh1UvIYq3A472ciOPQDe5w7q\n",
       "LBjzhYqyzupI59zJgpcZyAPGxEsqtJ9JlN8sZo8s5nFxkTlaxB2Eybo98wvu5JEj/BzOSIBmjZ6X\n",
       "3MnFzSy1odiUj8nyuMMKjdH2Y1NsK15uCeFlbluyj2zY1+C1mbiuvgx84tA4ToWl5auf+ZRUiLne\n",
       "lvO1ucP9SrhYkheh3Cy5s3JD+ftR1SmRzsG44FtsTw9rMxemIR4PxfKPk7iM32PCVT6ZeSYVKofG\n",
       "YPtB/abi3TNq3dErI7KRhD0EXpt5dj74DkbzxQNQ+tXcqamwnTa47B2Mcn+N5lsSTy0VTwtv3eOw\n",
       "WK4ousOdsKvLWUe+kZR4LWHdhPCe0ufFhWmIxL0g/ziLh0QyulBBcScdKR0aw+WPTbSteH9Xxnmy\n",
       "Ur0wIhtZjquGwCsz51MCzaE5bB6nAtJcCT+/9N26mgpbGNnDCb88DlBrvjNUT/cGW49hODjU+JuN\n",
       "9VvsDMAdXZ84fYds3xTvSwhefRA2CF6Z2Xg0w/X40TUs/cFNk7If4c6d1uMOOfmH6GlZnISPiMei\n",
       "J8ozTYD5dqzzyKClWI67pcYGwSsz5fu+d/tx3DH3hsygysKl0tRVUr/d+fIV9uizMIo+uTPGnY//\n",
       "/6zSfkPu+E3dep+6xB4khXrXV7bj/2fRfwA5IaFRD+Hx5QAAAABJRU5ErkJggg==\n",
       "\" style=\"display:inline;vertical-align:middle;\" /></a><br>"
      ],
      "text/plain": [
       "nonmembershipFolding: forall_{m in NaturalsPos} [forall_{x, A_1,...,A_m | (x not-in A_1) or  ...  or (x not-in A_m)} (x not-in (A_1 intersect  ...  intersect A_m))]"
      ]
     },
     "execution_count": 5,
     "metadata": {},
     "output_type": "execute_result"
    }
   ],
   "source": [
    "nonmembershipFolding = Forall(m, Forall((x, iterA1m), \n",
    "                                        NotInSet(x, Intersect(iterA1m)), \n",
    "                                        conditions=[x_notin_some_A]),\n",
    "                              domain=NaturalsPos)"
   ]
  },
  {
   "cell_type": "code",
   "execution_count": 6,
   "metadata": {},
   "outputs": [
    {
     "name": "stdout",
     "output_type": "stream",
     "text": [
      "Theorems may be imported from autogenerated _theorems_.py\n"
     ]
    }
   ],
   "source": [
    "%end theorems"
   ]
  },
  {
   "cell_type": "code",
   "execution_count": null,
   "metadata": {},
   "outputs": [],
   "source": []
  }
 ],
 "metadata": {
  "kernelspec": {
   "display_name": "Python 3",
   "language": "python",
   "name": "python3"
  }
 },
 "nbformat": 4,
 "nbformat_minor": 0
}
