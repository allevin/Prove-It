{
 "cells": [
  {
   "cell_type": "markdown",
   "metadata": {},
   "source": [
    "Proof of <a class=\"ProveItLink\" href=\"../../../../_context_.ipynb\">proveit</a>.<a class=\"ProveItLink\" href=\"../../../_context_.ipynb\">logic</a>.<a class=\"ProveItLink\" href=\"../../_context_.ipynb\">set_theory</a>.<a class=\"ProveItLink\" href=\"../_context_.ipynb\">intersection</a>.<a href=\"../_theorems_.ipynb#nonmembershipEquiv\" class=\"ProveItLink\">nonmembershipEquiv</a> theorem\n",
    "========\n",
    "*** see <a href=\"../__pv_it/017557b03e19e86b76498fc09b1f9642a6828b810/dependencies.ipynb\" class=\"ProveItLink\">dependencies</a> ***"
   ]
  },
  {
   "cell_type": "code",
   "execution_count": 1,
   "metadata": {},
   "outputs": [
    {
     "name": "stdout",
     "output_type": "stream",
     "text": [
      "Beginning proof of nonmembershipEquiv\n",
      "Recorded 'presuming' information\n",
      "Presuming previous theorems (applied transitively).\n"
     ]
    },
    {
     "data": {
      "text/html": [
       "<strong id=\"nonmembershipEquiv\">nonmembershipEquiv:</strong> <a class=\"ProveItLink\" href=\"../__pv_it/74b0f7c4375a30ca6b6c142cb08db30e459c02680/expr.ipynb\"><img src=\"data:image/png;base64,iVBORw0KGgoAAAANSUhEUgAAArQAAAAXCAMAAADN9yyBAAAARVBMVEX///8sLCxlZWUbGxsJCQkd\n",
       "HR0PDw8WFhYQEBC6urrMzMxUVFRmZmZERETc3NwyMjKqqqp2dnaIiIiYmJgiIiLu7u4AAAA/PWo8\n",
       "AAAAAXRSTlMAQObYZgAABmpJREFUaN7tW4ey7CYMJd0Ug6n//6mhuIBNXbPJTHKZeVeetUA68gEL\n",
       "4QfA/6VBDcAP2P+GW9PQCcXQvxIqKFJZaErnOoWGzPZlJ0sWJExlJ9YxsAUXOm1+8izeuFWIzC4l\n",
       "UxCoS0u88pfbQacNNkIHnMqGWlZZGf5lL4sWCEplH4ghsEUXumx+8izeuVWIzCEt0fjJc6Zfk3ba\n",
       "YAPtsNSwSGCu0+66McVoUzrkTUG9YoHdZA/WMbBlFyKbUY8eKufVJ7lViAw7iUbXI9wreE3aaYMN\n",
       "ZCUilcWlLtfpeEEZo7KdNsbwqtbeBamoXrZg30k8lR1Yx8BWXIhsYgQ6By+rz3KrEJldOqIds4Ns\n",
       "70k7bbD+tuhUZrJ2wZT660+W6bTPYDvbTfbJYK+HWF+uU1YvWnDuLanswDoGtuJCZBOttcTzSbac\n",
       "+iy3CpHZpSOa5NQ3BSaQdtZg/Zk/S2UmvEzaWK400+nYQYLFmEy8JTlD27PWltWLFnxbt1Q2sY6B\n",
       "rboQ2WR7p430ZWVP9XluFSITpCeaWV1TfAZpZw3W3QhPJeUC002Qc7GjqwuJZrlOQcEgwIyBlQwS\n",
       "bD14iuplCyFwJJVNrGNgqy5ENg/2sb4kPqM+z61CZIL0RAvpyTqy4eBF0n4w2LttmEyktp5JJcFy\n",
       "LvXBlTTbOjoFBRsJYoyspWCNXXFDvWxhz4RT6R4/ixp+uD0EtupCZHN/z6Pe3chTfZ5bhcgE6YkG\n",
       "cX4a1OZ8kbStweBQRbStvcBEutkkbI60HS9ovWa2tUs0teXiuxhyz9WmkfZm4QlySWUT6xjYKsjY\n",
       "ZiAV7i3ePtXfutWMTJCBaC7aQtbzbkZcvUIsRNdJ2xpsGaqItrWPV8sunXd4TXAr2/74XSn27OQ6\n",
       "+GkBjfGdEMFqNmlTC7nYmlQ2sY6BrYJMbKqxxeuh/s6tjsgEGYjmOFbaMmpBCLH35Qq4VeG6sdJW\n",
       "B7MdFzNQDOvQvpHWMz1+DQX+8C3/9G10zWLbVXfZppP2bmEeafvAVkEmNl3Jh8v+p3NXf+vWEGnt\n",
       "dCk9FbFCqrXloJTCUdWSlmCMlf235UlbGczOKrWZpTsqPdrLlsqQ3F+n01plCoSX8rYgC0/Ts+4y\n",
       "nbQPCz3pAVFRWx9uD4GtgkxSEsqypdRSe6i/dWsoPbCJ8p6aSCKg4NjmK6FCflVxJNoQFR0r7TUY\n",
       "sJtIKHBc/lGQlgscTxZ0aK8ykZL6dAqIsxu2NyDJdwL6iLMyhnaRVpcvsqS9W7hH2P3EUtnEOga2\n",
       "CjK1iVFy+q5BGWxG/aVbHZGRLCLaRgIKLaHbySkbc+njfkGSyBJWog7SHoM5gtvUZtnSEsZR4MBN\n",
       "7sbaVaVLbtb91U5HegVTKwgwyneiZ+q1mn3L1yCtPl5lz4ssae8WHhEeKXmdCkNgqyBTm2iNE7sL\n",
       "WQbsU/2lWz2RiUpeVwpCtXA0dWu7v494TFq7LeS4Tdozn4G32hJA7sSEGeFHXlpVsUi7mkLEUq+C\n",
       "a86TjSBl5Ld8J+Oa3zb4K/9Ka5F2WUsXOfWHhXuE/coAU9nEOgS2DvJmk5FkKVyLqDPqL93qiUyQ\n",
       "B9HkMWOwcGxx992cRMofFawikJZKrTpIK6/pZxJmqpB3hyeqWqRNtCtJLU1lpv36C1PpzrWsHJM2\n",
       "Wip6tid96mmEwdgxLgUfgK2AvNsc/Lb0rv7OrWZkomPc1Cxymy+XSbuFUuNkpQUQ7XkKrZE2Xizj\n",
       "b4C4H03ub5gWaWNtSTYhMZS5Lxo6vjd5HnWUlbdvH0CnEfaZP0hkpZ1uD4GtgORzPyB951YzMru8\n",
       "E42anfGuwuUuaUJa61V5Kt7HQgZw5kvN1B/1ofA5Bdr3ioG0/hZ1ZefzT0Z7c1gW+Ezm45p18bO4\n",
       "3BdnReVvk/Ye4bPSqed8mtj1ed0BcuxEacS/D9xqRkazPNGgG1shl2Nz6vOTXQGycFV5Wd/HsrnN\n",
       "RoRjOfIZdnjTS/vG93uzQFp/C7ks4vyT07ZZvKub8Nz5GMWpfL62ZbnT/WfODPnq5+v3CJ/rAu45\n",
       "+T7dHgJbBIlnn7a/casZmUPy5pkd33PajpROqeK3ULmDfVq8JXMlUPeBhsppn9tUWnAzO8npP/Y/\n",
       "KxpRQ6lssUKAD8A2bM9k7QS3CpHZpaUZ/EeeDHrMaCSWsGw+b2V+cofXTn39Qph/2k/rXWgrt+RP\n",
       "wH5atf0NmNeP6wUI/JQAAAAASUVORK5CYII=\n",
       "\" style=\"display:inline;vertical-align:middle;\" /></a><br>(see <a class=\"ProveItLink\" href=\"../__pv_it/74b0f7c4375a30ca6b6c142cb08db30e459c02680/dependencies.ipynb\">dependencies</a>)<br>"
      ],
      "text/plain": [
       "nonmembershipEquiv: forall_{m in NaturalsPos} [forall_{x, A_1,...,A_m} ((x not-in (A_1 intersect  ...  intersect A_m)) = ((x not-in A_1) or  ...  or (x not-in A_m)))]"
      ]
     },
     "execution_count": 1,
     "metadata": {},
     "output_type": "execute_result"
    }
   ],
   "source": [
    "import proveit\n",
    "%proving nonmembershipEquiv presuming []"
   ]
  },
  {
   "cell_type": "code",
   "execution_count": null,
   "metadata": {},
   "outputs": [],
   "source": []
  }
 ],
 "metadata": {
  "kernelspec": {
   "display_name": "Python 3",
   "language": "python",
   "name": "python3"
  }
 },
 "nbformat": 4,
 "nbformat_minor": 0
}
