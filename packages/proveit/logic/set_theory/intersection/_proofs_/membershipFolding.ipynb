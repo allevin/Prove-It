{
 "cells": [
  {
   "cell_type": "markdown",
   "metadata": {},
   "source": [
    "Proof of <a class=\"ProveItLink\" href=\"../../../../_context_.ipynb\">proveit</a>.<a class=\"ProveItLink\" href=\"../../../_context_.ipynb\">logic</a>.<a class=\"ProveItLink\" href=\"../../_context_.ipynb\">set_theory</a>.<a class=\"ProveItLink\" href=\"../_context_.ipynb\">intersection</a>.<a href=\"../_theorems_.ipynb#membershipFolding\" class=\"ProveItLink\">membershipFolding</a> theorem\n",
    "========\n",
    "*** see <a href=\"../__pv_it/cb139a3405b1d5851337d8322a9fde40e93b3eee0/dependencies.ipynb\" class=\"ProveItLink\">dependencies</a> ***"
   ]
  },
  {
   "cell_type": "code",
   "execution_count": 1,
   "metadata": {},
   "outputs": [
    {
     "name": "stdout",
     "output_type": "stream",
     "text": [
      "Beginning proof of membershipFolding\n",
      "Recorded 'presuming' information\n",
      "Presuming previous theorem (applied transitively).\n"
     ]
    },
    {
     "data": {
      "text/html": [
       "<strong id=\"membershipFolding\">membershipFolding:</strong> <a class=\"ProveItLink\" href=\"../__pv_it/a31deecb22c077551c33de47b846f5d7fa87d68e0/expr.ipynb\"><img src=\"data:image/png;base64,iVBORw0KGgoAAAANSUhEUgAAAjsAAAAZBAMAAAAlA/J8AAAAMFBMVEX///8QEBC6urrMzMxUVFRm\n",
       "ZmZERETc3NwyMjKqqqp2dnaIiIiYmJgiIiLu7u4AAAAU9Wx4AAAAAXRSTlMAQObYZgAABjJJREFU\n",
       "WMPlWX1oHEUUf3d7yeX29jYJRaX/NFesrRBDtmCbGJAcbUgRaYyW/CERPCte0GA5EExssDlUqJ/J\n",
       "/WFADNJTWqsUjihpaFOwp2lEW6ixSkXJtVsoR7BtmmpNUNOs87Efs7uTZBPhKHRgdm/evt/bnd/M\n",
       "e29mDsBLKc3/AndeqclnvClG4I4swRioHulRb7dvr15S3JheoTkGIEVpxfRMYMGZ5enxpFfEIsSW\n",
       "FF/MrNAeC9ilV0TP57jdtzw9nvSKWMrUpcSixrIXTPJtdFk/bYAyvSJ6Xsa3+PL0eNIrYjmxpLhR\n",
       "m7BkH7zx4rMc1dCbzecV07dYgJShFdGD6S5JL0+PJ70ilnVsQz6Wz6dY8dvajPkw0AJQP+S20KSC\n",
       "8I7RYAEgV9CK6JEOd3W96iE0e9IrXvGn2Fb9Wbs4PFG1YD4cx5fXXRakVuxC+vSxAQCepxXRA7OJ\n",
       "xG9eErsXveKVEhxJ9w6/chRPi+AemxigV+n/w1QlAfNDfpQK6QHZBgA4RCumZztAB/cLRDs9i+p5\n",
       "KS/xxekVaePumJ3LofmfkSZ9OGSUJlkxKs/B0/MmhgSVB/lrOSPR2QAoWtGK6dkAcoo/QHZTTr1a\n",
       "ft/8f9uaUZo6HGnWwDbwV2OZRU0KxiNfFI9feCaEvaNgPveR90kVcPIvdN/qlR4DYJT1tGJ6IhDO\n",
       "2YH1bdHwXaqTHqdeFX9l4fvH1qS5rtShZGDFKHcLs4TJT/R7OULKEKDm1+fzemguJwavp6F2FmDL\n",
       "Tq/06ABrjUgrpiecizBLCPloW06KZyHrmj12PSip4mf5x2c59Awy1lksmY82mjOMNlxpe8ppcoqh\n",
       "BxFHE5LVdyp+rLJSu4XuH3mlxwBw6JFTLHRk07QqnSmBbEnTzqZHWFN2Pag5UMH1rV9vcOjpYKzb\n",
       "sCigCZPsoneS0Q7v3jftNBnQU40vTSMq2excsyYaFofWTE/3aiugxwRwnAs6tiHna68+GB5RaLaT\n",
       "Hqobcs8eogdHtg3TDzzXu8DNcZs01U1PBQUS6zYsWsWVTrF+NUW1xeHq7TQjO0yG9QVMKZqFUvIk\n",
       "hPGjgOn1WAyXEEcRLemiR8Y/VOPC0GMAxr8cjZ3AK8jvaCX0DCD81dpcJCbFyFIaJCU7xqEH64lq\n",
       "Mx03sbUcZcKAa2V/CLSoix4hRYFlesSxsBtQeJaYkIYbSBuygfhaSHFM+mOGDYADuWegh/joOTPb\n",
       "InGwGfOkpV30XEe/ZOxD5GLRYwDkb+bhZzhlT+zEgfcdg3IF2W6g9Ihii5serOeHd6lks1r2Lwgf\n",
       "OzczwjroH3LRg/pEgA0ubD3AHmASIm5gBqIoQ+tZym5S0JX9qKuF0d+PUGq7d4El1rQFCGiapjjp\n",
       "uYQ+Rr4b9ItFjwGou5KCPwk1r9FK6JHwMD4Km6EsDQ8nEokhSQmeveCmh+jBHJX8WFl1E8md9ERQ\n",
       "jIu56AnFKJBYt2HrQWiF763O4wbRLk+CcD6R6HSaNOiBe2zvff89fVNhE1N6CLdXXWEgTOadLRkH\n",
       "hoQKeMu2qdDLGhiBXj9cprMH7v0KPeQdhwkVApnEaDdyi0PPQYAfJmB88NQDT7KzJ06Bl8GJ3Yh9\n",
       "zErkpIG10WApcoxj0m/ky9P8deNpNz3ei08Jx4MzURARo7ia9ARn0Pz5VoRAktIjZfmnhY1iSoTu\n",
       "JPIPEDTSxeB+6FaDffiyHzsCNM7AYNwXvY+hR56gQGKdweLebEHjmKb4PtpA2sLMZyjF79B9izUp\n",
       "ZTwdaKyOnl40f6R4hqwepoChBw3KT7D1MMi7UeN+dInx6Skcb89CYy6CpvvX2lrcRWEeGpPCHL7M\n",
       "w8WbIFXdSAeUa/R8yMhcFyiQWGewAE9AC1ai+DnaQNpy58CoCgUckR0mS6LWQeci559m2dvfvjJ6\n",
       "NkJEEV5IknHZwX2HSKLDMmfNpsPiLkrWHthSH4CJHEPPcY51Qk8K8NV0UdowtOFTHHvsJsvMt/Xw\n",
       "u9jz/7e7YYXWxYZgGXoEozvCF2hA60y5+auABrpTYegpcE49MTY0xHtbgSujJgeLfBS/Cnok/lSC\n",
       "HAdJ6Qnl+HYD/G15bvEvid2W9Kz6fy79BWP8p1m+eGxRc6JaRHZq8rH/ADwX/pSFOEozAAAAAElF\n",
       "TkSuQmCC\n",
       "\" style=\"display:inline;vertical-align:middle;\" /></a><br>(see <a class=\"ProveItLink\" href=\"../__pv_it/a31deecb22c077551c33de47b846f5d7fa87d68e0/dependencies.ipynb\">dependencies</a>)<br>"
      ],
      "text/plain": [
       "membershipFolding: forall_{m in NaturalsPos} [forall_{x, A_1,...,A_m | (x in A_1) and  ...  and (x in A_m)} (x in (A_1 intersect  ...  intersect A_m))]"
      ]
     },
     "execution_count": 1,
     "metadata": {},
     "output_type": "execute_result"
    }
   ],
   "source": [
    "import proveit\n",
    "%proving membershipFolding presuming []"
   ]
  },
  {
   "cell_type": "code",
   "execution_count": null,
   "metadata": {},
   "outputs": [],
   "source": []
  }
 ],
 "metadata": {
  "kernelspec": {
   "display_name": "Python 3",
   "language": "python",
   "name": "python3"
  }
 },
 "nbformat": 4,
 "nbformat_minor": 0
}
