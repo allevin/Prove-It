{
 "cells": [
  {
   "cell_type": "markdown",
   "metadata": {},
   "source": [
    "Proof of <a class=\"ProveItLink\" href=\"../../../../_context_.ipynb\">proveit</a>.<a class=\"ProveItLink\" href=\"../../../_context_.ipynb\">logic</a>.<a class=\"ProveItLink\" href=\"../../_context_.ipynb\">set_theory</a>.<a class=\"ProveItLink\" href=\"../_context_.ipynb\">intersection</a>.<a href=\"../_theorems_.ipynb#membershipUnfolding\" class=\"ProveItLink\">membershipUnfolding</a> theorem\n",
    "========\n",
    "*** see <a href=\"../__pv_it/da98d65b02a111e5db3da601a6a74d714cb6cd920/dependencies.ipynb\" class=\"ProveItLink\">dependencies</a> ***"
   ]
  },
  {
   "cell_type": "code",
   "execution_count": 1,
   "metadata": {},
   "outputs": [
    {
     "name": "stdout",
     "output_type": "stream",
     "text": [
      "Beginning proof of membershipUnfolding\n",
      "Recorded 'presuming' information\n"
     ]
    },
    {
     "data": {
      "text/html": [
       "<strong id=\"membershipUnfolding\">membershipUnfolding:</strong> <a class=\"ProveItLink\" href=\"../__pv_it/d6e2c55804a05b11b13010f6a52cfc6622911c350/expr.ipynb\"><img src=\"data:image/png;base64,iVBORw0KGgoAAAANSUhEUgAAAk8AAAAZBAMAAADaodeeAAAAMFBMVEX///8QEBC6urrMzMxUVFRm\n",
       "ZmZERETc3NwyMjKqqqp2dnaIiIiYmJgiIiLu7u4AAAAU9Wx4AAAAAXRSTlMAQObYZgAABptJREFU\n",
       "WMPlWX2IVFUUP/O1M/PmzdtZpcRCd6LCwBZHKDWjdtgVLUrdEP8w/2iKWgmjBhI1pXYIQgjdnShB\n",
       "WMQtFKmFcSRdtCyfmRVKNtkfVjQ6Qmxiua4fuaytvu7ne/e9uW/nrbBkeODM3HveuWfe/d1zzj33\n",
       "DoAXqiufhNuZmso93hTjcJtTOA0Vj0BV/uNX9Rcpy6k5zxpfebU33e1BYNhqq0nKGKgSFhyrDZQn\n",
       "vXGkhxjL6TQPjVDKm7lA2nWu14TOEsYIqI9xv7M2UJ70xpE6R/t5xTDnnWOx4hIBXB5xjZBdV4RO\n",
       "hDECajX+ytQGypPe+FGsSNkl8owSbx5lM2yTa3L5566uZlwXemoPZQQUhjaUrw2UJ73xI1+FskV/\n",
       "bir/zNvvGoO8eYZ+zTolt8PlU0Whtq9cznEkdxnikwRlBJS6c82aNz0kc09640cPMLZWfqMFW6zU\n",
       "eMOsZOhitri4DJP7c6JwznGr/YXPENfjZcoIKLja3v6rl/LAi9740bOM1+15Yy+JwNXCdDpSXZfM\n",
       "dEViS8vJKxouD+Fw6l3QvZzkrVeFHHY5YiSFATsoY6BaAVbIM6QdKFe9sdHrY1GOmq2NlLUe9Tcf\n",
       "yUfiu7wEz42YQ4ivKLo8TXB5RAc4B9/rU4gTZoXSui1k6MKALZQxUPchmKVvGbID5dSbIU9Y/mFb\n",
       "N+ncdXokSg6yLAfMgngCZQVig1FcAWjCvqIm4ODfOP8Q0wn6wuGcPDSo3IfeqwcOwvu40y8oHIKY\n",
       "Ie4D91DGQMUhptutzVmajN1RcQLl1GuUV/W+a7auc5+skyk5SLD8EW9coqxBkFr0TymXeTK/kIcZ\n",
       "VwEeXkiwHWQFX6vMNJfXJ3EJPZ+BgUyxZK4Ng98Q37mZMgYqpseFcNf2LtXVTAEKVR5l14NQo7xW\n",
       "eOaqG1DYNHTblY68KORR1hEtn3UAhTAuVhWMixsayJ6+1QLqlEt1yuX1xNPvtmpZRsGLDY1WqWEH\n",
       "SsuJJvumDVTUYyEohOYtnPekCJRdD5q2JaSR98tFN6CwaZpaTKW1x7UtZinNO6LlIH86mTFK3OQ0\n",
       "pVmziU4cGOgwOFAk9KIoeiJZSc7jcl+eJG7koYjOWwrvPT7wh1Vq2EMPVrSgMF8+fXusLwUqjk/1\n",
       "kdnFao8ietDbsoe++4mOG9IkMM22uzKg8ChiGhI2pQVisuEd0bJZY75CWc0ehBgZ+7SpcwZNOm5k\n",
       "GVAqjiEMRpT8HgGVNyx5Hcoi38YG4UuyGmZK0fBanB4y4QD4jjIBajNanL9m6PG0miblOqipwmEJ\n",
       "UFhPqcwni4F24XoUCcGqg8AOsO2uFCgyipgO5CylRfRpRlTNcMvcQdP2bXqb/jysJ4Lz/GfCONPU\n",
       "GXkGFCkPSFrHPqfhkLxQYg1LjrSiI3WJMFkH7QT/uVX4HV4bNuGwlQck6t/aB/UpNHouBUpRFlUD\n",
       "hfX8ZJ9GNLMS+QcCHzrdOzAVuopVQJFRc82JU6W5k+RAEcumPb53NVHu/+xcL13/8DssKg3jBgQN\n",
       "w0hRoCIYwBZ+StHuxC6XYQ1L7i+BtrLwyQEW9Evod72BPH2xYVzmcAC8TZkApWK3eApmQiQPj7W3\n",
       "txfVVPj4qWqgiB4MUcmPDY3o8Bh3AhVHeTUtyVFoFDEdTVtKJ+VAUctOoHxZykK+ecI6wlDaah5h\n",
       "knR5qsiST7LJP9hUtlcTDA7xCMNoIvRBhx9+px4F96LgDcsu7gKJAHFwdPa5LgFqO8APJTjS/fWD\n",
       "y0Sg8Chi2p8xlVyAopbVZQdajuSZvng6HY0IUL3eStmjoz9mcIBSpGwCFR5EIH6jQDBLgVIL8hvO\n",
       "ZiWnwNosig90zCZAhTfA2kq4E39swEEFzYPQnfEl7xeAIqOIabxZMSUTKDq4kwFFLUf7YIK/TcSm\n",
       "s/Ytz1ayN3sDKjLqRSSHg5QnZ0EACq3cTzBrJ2gv4MMn+kjLgerfv7wAzXochc4hYzIGKjACzdnA\n",
       "EP4YgdNXQG28mA+mztP7KwYUGUVM40KGKZlA0cFDtMMtt2olBXlUyNwZVjF2p3Vd6OQWzHq+2x3t\n",
       "OpXBgXdiwtXqCkokNe/Mze0Uh55qHSUs9c1Q0p11FDG93+ojoPCszJnZOqVoW1yll2ZsZkXKNehT\n",
       "r8fI9Z5uwVKUa+DqBlSATyewG/nNbFNutvqRP61MSY8w1rnq0btGud3SMkq+Dk26+9b5c+EmgFLl\n",
       "7gW6ZKQTqKg+phdM/9+Auun/9ap+4PBYRiuVWwOnpnL6X0EuDoVJnfQrAAAAAElFTkSuQmCC\n",
       "\" style=\"display:inline;vertical-align:middle;\" /></a><br>(see <a class=\"ProveItLink\" href=\"../__pv_it/d6e2c55804a05b11b13010f6a52cfc6622911c350/dependencies.ipynb\">dependencies</a>)<br>"
      ],
      "text/plain": [
       "membershipUnfolding: forall_{m in NaturalsPos} [forall_{x, A_1,...,A_m | x in (A_1 intersect  ...  intersect A_m)} ((x in A_1) and  ...  and (x in A_m))]"
      ]
     },
     "execution_count": 1,
     "metadata": {},
     "output_type": "execute_result"
    }
   ],
   "source": [
    "import proveit\n",
    "%proving membershipUnfolding presuming []"
   ]
  },
  {
   "cell_type": "code",
   "execution_count": null,
   "metadata": {},
   "outputs": [],
   "source": []
  }
 ],
 "metadata": {
  "kernelspec": {
   "display_name": "Python 3",
   "language": "python",
   "name": "python3"
  }
 },
 "nbformat": 4,
 "nbformat_minor": 0
}
