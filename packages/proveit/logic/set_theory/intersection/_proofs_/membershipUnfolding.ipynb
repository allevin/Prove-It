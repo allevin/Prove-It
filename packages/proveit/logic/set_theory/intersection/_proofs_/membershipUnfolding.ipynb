{
 "cells": [
  {
   "cell_type": "markdown",
   "metadata": {
    "collapsed": true,
    "deletable": true,
    "editable": true
   },
   "source": [
    "Proof of <a class=\"ProveItLink\" href=\"../../../../_context_.ipynb\">proveit</a>.<a class=\"ProveItLink\" href=\"../../../_context_.ipynb\">logic</a>.<a class=\"ProveItLink\" href=\"../../_context_.ipynb\">set_theory</a>.<a class=\"ProveItLink\" href=\"../_context_.ipynb\">intersection</a>.<a href=\"../_theorems_.ipynb#membershipUnfolding\" class=\"ProveItLink\">membershipUnfolding</a> theorem\n",
    "========\n",
    "*** see <a href=\"../__pv_it/da98d65b02a111e5db3da601a6a74d714cb6cd920/dependencies.ipynb\" class=\"ProveItLink\">dependencies</a> ***"
   ]
  },
  {
   "cell_type": "code",
   "execution_count": 1,
   "metadata": {
    "collapsed": true,
    "deletable": true,
    "editable": true
   },
   "outputs": [
    {
     "name": "stdout",
     "output_type": "stream",
     "text": [
      "Beginning proof of membershipUnfolding\n",
      "Recorded 'presuming' information\n"
     ]
    },
    {
     "data": {
      "text/html": [
       "<strong id=\"membershipUnfolding\">membershipUnfolding:</strong> <a class=\"ProveItLink\" href=\"../__pv_it/5cbbcd289f6a74d96649dbae2f2fe4665d47bdf10/expr.ipynb\"><img src=\"../__pv_it/5cbbcd289f6a74d96649dbae2f2fe4665d47bdf10/expr.png\" style=\"display:inline;vertical-align:middle;\" /></a><br>(see <a class=\"ProveItLink\" href=\"../__pv_it/5cbbcd289f6a74d96649dbae2f2fe4665d47bdf10/dependencies.ipynb\">dependencies</a>)<br>"
      ],
      "text/plain": [
       "membershipUnfolding: forall_{m in NaturalsPos} [forall_{x, A_(1),...,A_(m) | x in (A_(1) intersect  ...  intersect A_(m))} ((x in A_(1)) and  ...  and (x in A_(m)))]"
      ]
     },
     "execution_count": 1,
     "metadata": {},
     "output_type": "execute_result"
    }
   ],
   "source": [
    "import proveit\n",
    "%proving membershipUnfolding presuming []"
   ]
  },
  {
   "cell_type": "code",
   "execution_count": 2,
   "metadata": {
    "collapsed": true,
    "deletable": true,
    "editable": true
   },
   "outputs": [],
   "source": []
  }
 ],
 "metadata": {
  "kernelspec": {
   "display_name": "Python 2",
   "language": "python",
   "name": "python2"
  },
  "language_info": {
   "codemirror_mode": {
    "name": "ipython",
    "version": 2
   },
   "file_extension": ".py",
   "mimetype": "text/x-python",
   "name": "python",
   "nbconvert_exporter": "python",
   "pygments_lexer": "ipython2",
   "version": "2.7.11"
  }
 },
 "nbformat": 4,
 "nbformat_minor": 0
}
