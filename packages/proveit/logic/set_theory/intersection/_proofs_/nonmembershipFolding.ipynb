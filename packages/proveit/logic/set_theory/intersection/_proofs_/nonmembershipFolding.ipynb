{
 "cells": [
  {
   "cell_type": "markdown",
   "metadata": {},
   "source": [
    "Proof of <a class=\"ProveItLink\" href=\"../../../../_context_.ipynb\">proveit</a>.<a class=\"ProveItLink\" href=\"../../../_context_.ipynb\">logic</a>.<a class=\"ProveItLink\" href=\"../../_context_.ipynb\">set_theory</a>.<a class=\"ProveItLink\" href=\"../_context_.ipynb\">intersection</a>.<a href=\"../_theorems_.ipynb#nonmembershipFolding\" class=\"ProveItLink\">nonmembershipFolding</a> theorem\n",
    "========\n",
    "*** see <a href=\"../__pv_it/285d62d054ff693628af052fb7e55b5cbf2c04f40/dependencies.ipynb\" class=\"ProveItLink\">dependencies</a> ***"
   ]
  },
  {
   "cell_type": "code",
   "execution_count": 1,
   "metadata": {},
   "outputs": [
    {
     "name": "stdout",
     "output_type": "stream",
     "text": [
      "Beginning proof of nonmembershipFolding\n",
      "Recorded 'presuming' information\n",
      "Presuming previous theorems (applied transitively).\n"
     ]
    },
    {
     "data": {
      "text/html": [
       "<strong id=\"nonmembershipFolding\">nonmembershipFolding:</strong> <a class=\"ProveItLink\" href=\"../__pv_it/59deb37245fc3c7e52a1d91b5243a4921e2f08890/expr.ipynb\"><img src=\"data:image/png;base64,iVBORw0KGgoAAAANSUhEUgAAAjsAAAAZCAMAAADg8x99AAAAV1BMVEX///9bW1sNDQ0JCQkdHR0P\n",
       "Dw8WFhYfHx9vb28oKCgtLS0/Pz9RUVEvLy8QEBC6urrMzMxUVFRmZmZERETc3NwyMjKqqqp2dnaI\n",
       "iIiYmJgiIiLu7u4AAAAH8NkCAAAAAXRSTlMAQObYZgAABjNJREFUaN7tW4mS5CYMZbOb7OYyYO7j\n",
       "/78zgC/ACOOse6rSGaqm8Qzykxo9hIQ9CD3XmLWWo8/2P2g4uFo9CWg/5/QJt7j/hp2cIvcwd9yn\n",
       "96/Iofuz6DrSxMsXWwdoMLjsE3eOYGH0E9x5EO89G6F3hqtfrVcvNg/SMJOyj9xRO82Ee4I7D+K9\n",
       "Z7uYlhl3pJX3IPP4vVQTEIc1iKoP3OFsu2aP7FkP4r1l0/pO0qirHcv7dlIphaDMMjJoBCgOa0BG\n",
       "lX3gzs7sWT7CnQfx3rJNcNhxWtjffrUClBYhKvjWnZQmOSLG0gRYHNQQrJvKPnLHKJ7az1dJduXl\n",
       "U3hvmSgLONMRxiHGYWlt0eR9g3tm3n0/EnlgcVBDOoKRRR+5gzyL7YFyfWXLY3jv2OZtWrjSlEs9\n",
       "70ufs+AzJ9rSScATJLzHvRRKjsw6KA5rSKnQXPSJOzSRj91JtVSPO/8C76kjBwLWlq1N/2exe+CQ\n",
       "CmHWyB+m0FiDpj08pwmrsqFNehEIPpu9N70c6aKIuxCHNSxJUtEn7uD44cSt1dOz6QoP3zuj6IoX\n",
       "zuMNSjMYidyJjC3sHjikYsLH6tMhs5AbJR1rFGFT9v3MlG7x69wT9jh3Kg2nuZ6KPnEnYWnTP3UQ\n",
       "cywe9TS7S+5c4U33zii64gz8ZXX53EFSeNyKVtHYBQdUbBtCnEZacG+y1n77Gj7EWTrekLiJvU83\n",
       "kZnap7lTamhwwBf9wp3oZ+ug3H+e5zBuGFJBRLnruNPFC/dO/k713hfPh6Q+2/73XwZGSrFxu+lc\n",
       "oeQjJ+xL8ExFizuJbjlocqOSoDT1U2hHCS0f506tYYg74QtCOjXD3LnAA2N0ZEzgzkwpteFHgjZ1\n",
       "8OJTNOmnGztWXzz3V51hRdv/dK6DFDMznVUN1f3ZyCl7uwbPk7+ML7LITI9nOM6i8xPBQ1pOJPjB\n",
       "8b2Efpw7Jw1De1aYGYrX6k1jrWhI2ZZzo6OaM0QSrsfizoGHQjGBdTF/FnOwCmxh9sVz7kylxmh7\n",
       "nm80kFJmukBQDoGnkQndBm8fBbI1VBme0h2k95uoQbie100auY1F1ns+wp0d9jDKdblTa6ipEP4i\n",
       "in7ljpwXOGdwTLJtPPVJI0fENSTwxpAx7mx4kWphU8/WWirwtiqQXlMoF7/gDhGlxvjrzLuKU1av\n",
       "cTvs5CML9hh4tVhps9CVYZ5ZICQ/qOUsroPUXhbzPTVifs3J+9xx28azX2RXLe7UGk5UaNfox87L\n",
       "nY6TEmNpEshWlol/Q4oOcWffyXFVZiISD0qF1wl8uizjM/FL7ixe2jUm21lfcaJEKnBaYScbWRkw\n",
       "AH4uMuo9eIXWyilVVBRc/EJQU9rHlrLrdJX2ugvuTKy6yK4a3DlpqKkQAwku+o07ZosAVMeZiAKR\n",
       "3cSmYz6mF+5w4+wYd8wRUXzhFbukY4va6xfFCvEL7khaaIy2//F7sh1UvIYq3A472ciOPQDe5w7q\n",
       "LBjzhYqyzupI59zJgpcZyAPGxEsqtJ9JlN8sZo8s5nFxkTlaxB2Eybo98wvu5JEj/BzOSIBmjZ6X\n",
       "3MnFzSy1odiUj8nyuMMKjdH2Y1NsK15uCeFlbluyj2zY1+C1mbiuvgx84tA4ToWl5auf+ZRUiLne\n",
       "lvO1ucP9SrhYkheh3Cy5s3JD+ftR1SmRzsG44FtsTw9rMxemIR4PxfKPk7iM32PCVT6ZeSYVKofG\n",
       "YPtB/abi3TNq3dErI7KRhD0EXpt5dj74DkbzxQNQ+tXcqamwnTa47B2Mcn+N5lsSTy0VTwtv3eOw\n",
       "WK4ousOdsKvLWUe+kZR4LWHdhPCe0ufFhWmIxL0g/ziLh0QyulBBcScdKR0aw+WPTbSteH9Xxnmy\n",
       "Ur0wIhtZjquGwCsz51MCzaE5bB6nAtJcCT+/9N26mgpbGNnDCb88DlBrvjNUT/cGW49hODjU+JuN\n",
       "9VvsDMAdXZ84fYds3xTvSwhefRA2CF6Z2Xg0w/X40TUs/cFNk7If4c6d1uMOOfmH6GlZnISPiMei\n",
       "J8ozTYD5dqzzyKClWI67pcYGwSsz5fu+d/tx3DH3hsygysKl0tRVUr/d+fIV9uizMIo+uTPGnY//\n",
       "/6zSfkPu+E3dep+6xB4khXrXV7bj/2fRfwA5IaFRD+Hx5QAAAABJRU5ErkJggg==\n",
       "\" style=\"display:inline;vertical-align:middle;\" /></a><br>(see <a class=\"ProveItLink\" href=\"../__pv_it/59deb37245fc3c7e52a1d91b5243a4921e2f08890/dependencies.ipynb\">dependencies</a>)<br>"
      ],
      "text/plain": [
       "nonmembershipFolding: forall_{m in NaturalsPos} [forall_{x, A_1,...,A_m | (x not-in A_1) or  ...  or (x not-in A_m)} (x not-in (A_1 intersect  ...  intersect A_m))]"
      ]
     },
     "execution_count": 1,
     "metadata": {},
     "output_type": "execute_result"
    }
   ],
   "source": [
    "import proveit\n",
    "%proving nonmembershipFolding presuming []"
   ]
  },
  {
   "cell_type": "code",
   "execution_count": null,
   "metadata": {},
   "outputs": [],
   "source": []
  }
 ],
 "metadata": {
  "kernelspec": {
   "display_name": "Python 3",
   "language": "python",
   "name": "python3"
  }
 },
 "nbformat": 4,
 "nbformat_minor": 0
}
