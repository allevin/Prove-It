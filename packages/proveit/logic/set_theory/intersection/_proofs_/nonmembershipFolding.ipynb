{
 "cells": [
  {
   "cell_type": "markdown",
   "metadata": {
    "collapsed": true,
    "deletable": true,
    "editable": true
   },
   "source": [
    "Proof of <a class=\"ProveItLink\" href=\"../../../../_context_.ipynb\">proveit</a>.<a class=\"ProveItLink\" href=\"../../../_context_.ipynb\">logic</a>.<a class=\"ProveItLink\" href=\"../../_context_.ipynb\">set_theory</a>.<a class=\"ProveItLink\" href=\"../_context_.ipynb\">intersection</a>.<a href=\"../_theorems_.ipynb#nonmembershipFolding\" class=\"ProveItLink\">nonmembershipFolding</a> theorem\n",
    "========\n",
    "*** see <a href=\"../__pv_it/285d62d054ff693628af052fb7e55b5cbf2c04f40/dependencies.ipynb\" class=\"ProveItLink\">dependencies</a> ***"
   ]
  },
  {
   "cell_type": "code",
   "execution_count": 1,
   "metadata": {
    "collapsed": true,
    "deletable": true,
    "editable": true
   },
   "outputs": [
    {
     "name": "stdout",
     "output_type": "stream",
     "text": [
      "Beginning proof of nonmembershipFolding\n",
      "Recorded 'presuming' information\n",
      "Presuming previous theorems (applied transitively).\n"
     ]
    },
    {
     "data": {
      "text/html": [
       "<strong id=\"nonmembershipFolding\">nonmembershipFolding:</strong> <a class=\"ProveItLink\" href=\"../__pv_it/0fa88512f4a963d010912b75d4d833159cb980cb0/expr.ipynb\"><img src=\"../__pv_it/0fa88512f4a963d010912b75d4d833159cb980cb0/expr.png\" style=\"display:inline;vertical-align:middle;\" /></a><br>(see <a class=\"ProveItLink\" href=\"../__pv_it/0fa88512f4a963d010912b75d4d833159cb980cb0/dependencies.ipynb\">dependencies</a>)<br>"
      ],
      "text/plain": [
       "nonmembershipFolding: forall_{m in NaturalsPos} [forall_{x, A_(1),...,A_(m) | (x not-in A_(1)) or  ...  or (x not-in A_(m))} (x not-in (A_(1) intersect  ...  intersect A_(m)))]"
      ]
     },
     "execution_count": 1,
     "metadata": {},
     "output_type": "execute_result"
    }
   ],
   "source": [
    "import proveit\n",
    "%proving nonmembershipFolding presuming []"
   ]
  },
  {
   "cell_type": "code",
   "execution_count": 2,
   "metadata": {
    "collapsed": true,
    "deletable": true,
    "editable": true
   },
   "outputs": [],
   "source": []
  }
 ],
 "metadata": {
  "kernelspec": {
   "display_name": "Python 3",
   "language": "python",
   "name": "python3"
  },
  "language_info": {
   "codemirror_mode": {
    "name": "ipython",
    "version": 3
   },
   "file_extension": ".py",
   "mimetype": "text/x-python",
   "name": "python",
   "nbconvert_exporter": "python",
   "pygments_lexer": "ipython3",
   "version": "3.7.0"
  }
 },
 "nbformat": 4,
 "nbformat_minor": 0
}
