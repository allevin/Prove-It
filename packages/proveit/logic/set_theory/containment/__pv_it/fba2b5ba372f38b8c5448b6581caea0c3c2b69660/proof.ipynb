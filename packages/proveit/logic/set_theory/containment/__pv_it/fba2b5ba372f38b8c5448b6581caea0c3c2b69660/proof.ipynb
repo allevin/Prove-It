{
 "cells": [
  {
   "cell_type": "markdown",
   "metadata": {},
   "source": [
    "Show the Proof\n",
    "========"
   ]
  },
  {
   "cell_type": "code",
   "execution_count": 1,
   "metadata": {},
   "outputs": [
    {
     "data": {
      "text/html": [
       "<table><tr><th>&nbsp;</th><th>step type</th><th>requirements</th><th>statement</th></tr>\n",
       "<tr><td>0</td><td>assumption</td><td></td><td><span style=\"font-size:20px;\"><a class=\"ProveItLink\" href=\"../92082b1f864c41fb521d0e19b100316dc873f7000/expr.ipynb\"><img src=\"data:image/png;base64,iVBORw0KGgoAAAANSUhEUgAAAE8AAAAVBAMAAAD1D64kAAAAMFBMVEX///9ERETc3NyqqqpUVFS6\n",
       "urrMzMwyMjIQEBCIiIh2dnYiIiLu7u5mZmaYmJgAAABJJ2g3AAAAAXRSTlMAQObYZgAAAUhJREFU\n",
       "KM9jYGDgu8eAH7CtUgBRPLsYCAG2ZhDJ+QHKzcZQwOf/xcWxFMi4DuJxNUCF6zGN4hBgYLgfwMCw\n",
       "Alkh3/4DGArzJwCxA5pC5ftgJ0fv3r27EqZwPlDo/QI0hRPmB8DkT26DMiSAeMcBVIWsB+wfwK3U\n",
       "VoDQXxgY1GUYoAp5C8BiR8EOggJWB0iwfJk5dx+I8R5EZEBsDGDQv4DwxQYwyfmJgeE0SA87UCql\n",
       "DaLZxcVfAKHQDUwyAl3F+Q/EEgc6KyIBbBkw0ArQFfIDTeP7BWRwA33OwAKWNwDyGtCtzgeaw/IZ\n",
       "5kYukCATUCH7B7g65gvwYNQvYEAOnuMgF/2BK4w+AAtGtvYDyAoV+4sY+OS/w7ydWwOmLv53cSkH\n",
       "By5KzMAM2717uyt6nGNTiBWAFfIRoRCcHnl2Ek7hrZCEuJiYPAMApJlWk7k5358AAAAASUVORK5C\n",
       "YII=\n",
       "\" style=\"display:inline;vertical-align:middle;\" /></a> <a class=\"ProveItLink\" href=\"proof.ipynb\" style=\"text-decoration: none\">&#x22A2;&nbsp;</a><a class=\"ProveItLink\" href=\"../113f37a984480f946e743e317867bb10f7bce0800/expr.ipynb\"><img src=\"data:image/png;base64,iVBORw0KGgoAAAANSUhEUgAAADsAAAAPBAMAAACo4Ko7AAAAMFBMVEX///92dnYQEBBERERUVFS6\n",
       "urqIiIhmZmaqqqrc3Nzu7u6YmJgyMjIiIiLMzMwAAACFkkdwAAAAAXRSTlMAQObYZgAAAOVJREFU\n",
       "GNNjYACBtwzogNv/i4vzUSjnPIY0A5MBA0N9AETp/QUY0u8TgNgBzJxRPwFExd69e/cYTDofKLRf\n",
       "AMxMyA+AiS67B2UYAfElsKGsC/o3wA2dOwFCf2FgmGMFZi0FWwQFrBD7+L6kpd+GiAQwzC9AuOkC\n",
       "mGT7ycCwFqySz8XF3wAh7QcmmRWASn6DjQN68gC6ND9QJ/dHEKuBgYFXAd3w90DHsvwAMjiB0jwf\n",
       "4LIcBXBvzweZuQZk0y+4dOwCmLf5dIDMyfonGbjt/8Cc/vwUmCr+7+JyZgNqMAMD9Y4rqhAAEl0/\n",
       "W0VPoRUAAAAASUVORK5CYII=\n",
       "\" style=\"display:inline;vertical-align:middle;\" /></a></span></td></tr>\n",
       "</table>"
      ],
      "text/plain": [
       "<proveit._core_.proof._ShowProof at 0x7f94eb66b940>"
      ]
     },
     "execution_count": 1,
     "metadata": {},
     "output_type": "execute_result"
    }
   ],
   "source": [
    "import proveit\n",
    "%show_proof"
   ]
  },
  {
   "cell_type": "code",
   "execution_count": null,
   "metadata": {},
   "outputs": [],
   "source": []
  }
 ],
 "metadata": {
  "kernelspec": {
   "display_name": "Python 3",
   "language": "python",
   "name": "python3"
  }
 },
 "nbformat": 4,
 "nbformat_minor": 0
}
