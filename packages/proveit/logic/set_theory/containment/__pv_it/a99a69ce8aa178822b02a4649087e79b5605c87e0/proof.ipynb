{
 "cells": [
  {
   "cell_type": "markdown",
   "metadata": {},
   "source": [
    "Show the Proof\n",
    "========"
   ]
  },
  {
   "cell_type": "code",
   "execution_count": 1,
   "metadata": {},
   "outputs": [
    {
     "data": {
      "text/html": [
       "<table><tr><th>&nbsp;</th><th>step type</th><th>requirements</th><th>statement</th></tr>\n",
       "<tr><td>0</td><td>assumption</td><td></td><td><span style=\"font-size:20px;\"><a class=\"ProveItLink\" href=\"../c4cd21df068c4758fc88d0fdc9cc48e765d7c6090/expr.ipynb\"><img src=\"data:image/png;base64,iVBORw0KGgoAAAANSUhEUgAAAG8AAAAVBAMAAAC6Uq30AAAAMFBMVEX////c3NxERESqqqpUVFS6\n",
       "urrMzMwyMjIQEBCIiIh2dnYiIiLu7u5mZmaYmJgAAABXZE4RAAAAAXRSTlMAQObYZgAAAbtJREFU\n",
       "OMtjYGDgu8dAGmBbJQCieHYhC7JOwK+JLwCksxnE5PyALJECobIxtTz57+KiHsBwDcS+DiK4GpCl\n",
       "ayBUPZTLWb179+4ACLuJgYH3KwM7iLkCQyMnxKV8+w9AfLPzAMJnP4H4CwPfAqwaOSAKhe+Dvc8g\n",
       "LYBk5keggb8YeBqwagyHUBPmQ5zniiTFBFTH3cPAoIxV4y1I0B6wfwAO8AIkKX4HBsYioIPWwjTy\n",
       "IsvWgcmjDPlgv7I5IEnle868DTLOHIjfgwQygK66DQy73aD4bAWrCWCQv4Chcb4AA88WIB0BxOxA\n",
       "6ZQ25Cj8Clbv4uKvABbagKRRA6QZaGU+iKMOZEQkoGtkBYYuxP2XkTR+ATlxAUQjNyhOWAqQNILT\n",
       "kgFQBhJipwMQ0fgPSPgbQJwK9iPXBiSNekDMCJRlh6RDntoE5Ghk/A5kPMeIDjYGSFgfB0XaH2ia\n",
       "d4clOVA0ZtQwIEUHSjxGMzAI9Rcy8Ol/v4CaxHn1v7i4gyOrFHuSEyCUGXEkOXASxgu4JsA08mHL\n",
       "VlAAThi7A5CFjsPzI89OZHERQjY6goIRksD4FiOJMxIoOjgToGUOAJ4VdQvz7BVWAAAAAElFTkSu\n",
       "QmCC\n",
       "\" style=\"display:inline;vertical-align:middle;\" /></a> <a class=\"ProveItLink\" href=\"proof.ipynb\" style=\"text-decoration: none\">&#x22A2;&nbsp;</a><a class=\"ProveItLink\" href=\"../3c5d6d50e9c9e97b9eb92ef76f9eb7d3c9e8d02a0/expr.ipynb\"><img src=\"data:image/png;base64,iVBORw0KGgoAAAANSUhEUgAAAFoAAAAVBAMAAAA0iOSIAAAAMFBMVEX////c3NxERESqqqqYmJgQ\n",
       "EBDu7u4yMjKIiIi6urpUVFTMzMx2dnYiIiJmZmYAAABjE816AAAAAXRSTlMAQObYZgAAAWVJREFU\n",
       "KM9jYCATcDbgl2eZgMzbBaH2Yqrz+r9qlfoEhtfIYmUQqh7K5ai9e/cu1LggBga+nwzsSIo5IA5h\n",
       "uZ8AprlvJMCluH8A8S8GlgMI1awQWeH3AmBaVgDJoI9AU/4wsAUghKZDqIZ+iO0rkaxlAirjDWNg\n",
       "UEYIvYEETIK9A4hmK0BSzb+AgbEIaPU5hFAJmMxk2A92P/cCJNX7V3S8BZlhzvAW6PO7d4DMSLDE\n",
       "BAb5Bxiq+wUY2G4B6amIoP4JVrRq1XoFsNAFJNWqIB1Aw/ejqeYEhg3ExY+RVP8CYv8DKKqDQQwD\n",
       "oOch4ZSLiGfuL0BivQGKS1SAmBEoxP4BLMRWtwE5uBm/AxnuUN0MkOBJBwXuN2giWw6LeVBwby1j\n",
       "QAnBuQwMQvGFDCz63x+gpik+/V+rloPDtxIp5gUIJWnkmEdOM9gBTwNmioUCcKzdRckA6cgcKUJm\n",
       "L0TmMBLIaRwbGADis19fw20chAAAAABJRU5ErkJggg==\n",
       "\" style=\"display:inline;vertical-align:middle;\" /></a></span></td></tr>\n",
       "</table>"
      ],
      "text/plain": [
       "<proveit._core_.proof._ShowProof at 0x7f9500056828>"
      ]
     },
     "execution_count": 1,
     "metadata": {},
     "output_type": "execute_result"
    }
   ],
   "source": [
    "import proveit\n",
    "%show_proof"
   ]
  },
  {
   "cell_type": "code",
   "execution_count": null,
   "metadata": {},
   "outputs": [],
   "source": []
  }
 ],
 "metadata": {
  "kernelspec": {
   "display_name": "Python 3",
   "language": "python",
   "name": "python3"
  }
 },
 "nbformat": 4,
 "nbformat_minor": 0
}
