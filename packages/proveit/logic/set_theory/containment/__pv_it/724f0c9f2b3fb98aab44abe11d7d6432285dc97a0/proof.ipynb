{
 "cells": [
  {
   "cell_type": "markdown",
   "metadata": {},
   "source": [
    "Show the Proof\n",
    "========"
   ]
  },
  {
   "cell_type": "code",
   "execution_count": 1,
   "metadata": {},
   "outputs": [
    {
     "data": {
      "text/html": [
       "<table><tr><th>&nbsp;</th><th>step type</th><th>requirements</th><th>statement</th></tr>\n",
       "<tr><td>0</td><td>specialization</td><td>1, 2</td><td><span style=\"font-size:20px;\"><a class=\"ProveItLink\" href=\"../a794eb6038acfb57825b4506bc0c3a9106fba8880/expr.ipynb\"><img src=\"data:image/png;base64,iVBORw0KGgoAAAANSUhEUgAAAE8AAAAVBAMAAAD1D64kAAAAMFBMVEX///9ERETc3NyqqqpUVFS6\n",
       "urrMzMwyMjIQEBCIiIh2dnYiIiLu7u5mZmaYmJgAAABJJ2g3AAAAAXRSTlMAQObYZgAAAUpJREFU\n",
       "KM9jYGDgu8eAH7CtUgBRPLsYCAG2ZhDJ+QHKzcZQwOf/xcWxFMi4DuJxNUCF6zGN4hBgYLgfwMCw\n",
       "Alkh3/4DGArzJwCxA5pC5fsKEMb03bt3b4Uw5wOF3i9AUzhhfgDEqXMQJkoA8Y4DqApZD9g/ANFM\n",
       "m5Cs/sLAoC7DAFXIWwAWOwp2EAMDSwBSsHyZOXcfiPEeRGRAZAIY9C+A6ONIBnJ+YmA4DfQLAztQ\n",
       "KqUNotnFxV8AxEhBUsgIdBXnPxBLHOisiASwE4GBVoCukB9oGt8vIIN7AchRYHkDIA/sK27kYASa\n",
       "w/IZ5kauDSC/AhWyg+OS1wChEBSM+gUMyMED8gLjH3Aa2YoSjGztB5AVKvYXMfDJf4d4+xpM3cX/\n",
       "Li7l4MBFiRk4CKmGRyEMYFeIBYAV8hGhEJweeXYSTuGtkIS4mJg8AwAfi1aqwlAj9wAAAABJRU5E\n",
       "rkJggg==\n",
       "\" style=\"display:inline;vertical-align:middle;\" /></a> <a class=\"ProveItLink\" href=\"proof.ipynb\" style=\"text-decoration: none\">&#x22A2;&nbsp;</a><a class=\"ProveItLink\" href=\"../09dc33acf7802475e9ccf28f5d4f1877476a16bb0/expr.ipynb\"><img src=\"data:image/png;base64,iVBORw0KGgoAAAANSUhEUgAAADsAAAAPBAMAAACo4Ko7AAAAMFBMVEX///+qqqru7u4iIiJ2dnbc\n",
       "3NyIiIjMzMxmZmYQEBC6uroyMjJERERUVFSYmJgAAADLUcuvAAAAAXRSTlMAQObYZgAAAORJREFU\n",
       "GNNjYGB4+//u3dMLGDBBMYSaw8DA8QuL9H4wyf4NiP9iyvLZK4Aotq9A5hcgg8vY2Ng6AS4d2B8A\n",
       "ongmMDAwT4KKMSUXwKQT8sEO4r/AwLpHASbIagplcCnIPwDR9dfSmh8grFwLpbUY6sEW5QcwMNki\n",
       "pJmh9AKG+AYQfRKkBKGdF2I5+9279w+AGCA/vXdAl+ZiYODcAFL2D0jcF0A3HCjAPAHqbdbfCLsl\n",
       "IB4ASnN/gHq7chNclssITGmDZD4BQ/v837u398Fl2bvBIRAzfysD3/nfDciBDArUvahRBwBpOzn1\n",
       "mcm+TgAAAABJRU5ErkJggg==\n",
       "\" style=\"display:inline;vertical-align:middle;\" /></a></span></td></tr>\n",
       "<tr><td>&nbsp;</td><td colspan=4 style=\"text-align:left\"><span style=\"font-size:20px;\"><a class=\"ProveItLink\" href=\"../../../../../__pv_it/2cbe72a7ad6f655694dd697106680215e8489b600/expr.ipynb\"><img src=\"data:image/png;base64,iVBORw0KGgoAAAANSUhEUgAAAA8AAAAOBAMAAAACpFvcAAAALVBMVEX///8QEBBERERUVFS6urqI\n",
       "iIhmZmaqqqrc3Nzu7u6YmJgyMjIiIiLMzMwAAADtIaYWAAAAAXRSTlMAQObYZgAAAFtJREFUCNdj\n",
       "YACBOwxQsA9Kc52bAGG05zVAGAFxDmCaZULdAjBjCsO9ADDDgaEvAUTzGhvbKYCVMDAwbgAxChgY\n",
       "eASANAeQwf0AyJgNxEwvGRia5HYwcOm9TgAA6BoR3jrzwFcAAAAASUVORK5CYII=\n",
       "\" style=\"display:inline;vertical-align:middle;\" /></a> : <a class=\"ProveItLink\" href=\"../../../../../__pv_it/2cbe72a7ad6f655694dd697106680215e8489b600/expr.ipynb\"><img src=\"data:image/png;base64,iVBORw0KGgoAAAANSUhEUgAAAA8AAAAOBAMAAAACpFvcAAAALVBMVEX///8QEBBERERUVFS6urqI\n",
       "iIhmZmaqqqrc3Nzu7u6YmJgyMjIiIiLMzMwAAADtIaYWAAAAAXRSTlMAQObYZgAAAFtJREFUCNdj\n",
       "YACBOwxQsA9Kc52bAGG05zVAGAFxDmCaZULdAjBjCsO9ADDDgaEvAUTzGhvbKYCVMDAwbgAxChgY\n",
       "eASANAeQwf0AyJgNxEwvGRia5HYwcOm9TgAA6BoR3jrzwFcAAAAASUVORK5CYII=\n",
       "\" style=\"display:inline;vertical-align:middle;\" /></a>, <a class=\"ProveItLink\" href=\"../../../../../__pv_it/077b2ff79244fb4582cbe22c6e3356fa92a52f2f0/expr.ipynb\"><img src=\"data:image/png;base64,iVBORw0KGgoAAAANSUhEUgAAABAAAAAOBAMAAADUAYG5AAAAMFBMVEX///+qqqru7u4iIiJ2dnbc\n",
       "3NyIiIjMzMxmZmYQEBC6uroyMjJERERUVFSYmJgAAADLUcuvAAAAAXRSTlMAQObYZgAAAGpJREFU\n",
       "CNdjYGB4+//u3dMLGIBgDgMDxy8gzf4NiP8CGWxfGRj4vgAZPBMYGJgnARn8FxhY9ygAGfXX0pof\n",
       "gDTlBzAw2YIYJ0EckBBI53sHoBH/gIz7AhBjWH9DjancBLTl/N+7t/cxMAAA3u4f/5xagjYAAAAA\n",
       "SUVORK5CYII=\n",
       "\" style=\"display:inline;vertical-align:middle;\" /></a> : <a class=\"ProveItLink\" href=\"../../../../../__pv_it/077b2ff79244fb4582cbe22c6e3356fa92a52f2f0/expr.ipynb\"><img src=\"data:image/png;base64,iVBORw0KGgoAAAANSUhEUgAAABAAAAAOBAMAAADUAYG5AAAAMFBMVEX///+qqqru7u4iIiJ2dnbc\n",
       "3NyIiIjMzMxmZmYQEBC6uroyMjJERERUVFSYmJgAAADLUcuvAAAAAXRSTlMAQObYZgAAAGpJREFU\n",
       "CNdjYGB4+//u3dMLGIBgDgMDxy8gzf4NiP8CGWxfGRj4vgAZPBMYGJgnARn8FxhY9ygAGfXX0pof\n",
       "gDTlBzAw2YIYJ0EckBBI53sHoBH/gIz7AhBjWH9DjancBLTl/N+7t/cxMAAA3u4f/5xagjYAAAAA\n",
       "SUVORK5CYII=\n",
       "\" style=\"display:inline;vertical-align:middle;\" /></a></span></td></tr><tr><td>1</td><td>theorem</td><td></td><td><span style=\"font-size:20px;\"> <a class=\"ProveItLink\" href=\"../../_proofs_/reverseSubset.ipynb\" style=\"text-decoration: none\">&#x22A2;&nbsp;</a><a class=\"ProveItLink\" href=\"../f60c9f9417e5360ae159b2573a9af94b2f93d6c60/expr.ipynb\"><img src=\"data:image/png;base64,iVBORw0KGgoAAAANSUhEUgAAALoAAAAXBAMAAABOokjyAAAAMFBMVEX///8QEBC6urrMzMxUVFRm\n",
       "ZmZERETc3NwyMjKqqqp2dnaIiIiYmJgiIiLu7u4AAAAU9Wx4AAAAAXRSTlMAQObYZgAAAtdJREFU\n",
       "SMe1VE1oE1EQ/rL52TbZbHPTU43gTSE5FDyIJmiInkzAbOtFWhFT9GBzkFaR0iBC9GJzUQQP9lKs\n",
       "F4mipyBdb1UPrYegaKNBVHppLf31J1bnvd3XbNNocNUH+97szM43876ZHeC/roptz51N7EoQmGLC\n",
       "MxvgzigBJJZi8YuNrHvpOQLcYfJVG+gt7NaOHqA72MA6zL4A+umQe2ygF9kWKdATbcDKW4qtjPAU\n",
       "3Hkb6O1sG88AkyMkSOVy+WVh3Xi+mwxqAMrtgYFBG+BSlu3H6XkuGkN9FBbWwjij6xSwkk6/soHu\n",
       "ZhljCTh3Zl0nvxChK7d0OkaBA0AvV+X4fn1Zi/MUpPXyZYTU2qelTggtc3cuFR9OW0LuMM93vCC4\n",
       "wTQqv6SyYNQjAF+ACR7hMlnricfAPVN0MK1vFZi1FNVvnkEMJenYzjQ+lgY+VI0bRyGtWtHVbjJL\n",
       "o5pG9KaAkHmTNobuoTx81Rq6yyDeGYslWBtGyKr7eVnulozwBbinrOje2STU0/vm5kh+DRyDBb2N\n",
       "/VFfN6ETqY6sga5mO3i8QppbPoUxkbGi7/H0wGN4qYtQcoIZ1sURupbryyZmyOQPGMygdz8Pa2YV\n",
       "Kj4wmkCgR+kqN81W+FaMi/bz6Ga7D2Vr6NeM1iH0lnkSJpiKE/EE49w0RrWrWNCVvG8eXSZJWSjt\n",
       "grCk0e7OrbU5KL3hxwzzXjM6Eg7WPGpJ6+OfnSRy8hb0Wa1zDYfNfKkCggeJcur8EYtd1mtz7ShH\n",
       "6N+Wg9L3maKz+aYwnTuDCCeXvENhC3oXnIu4b1YyD2lRYG3Z+OvSJLhUN87UgJB2ka8u5yCvQS5Z\n",
       "eJcotSo+Gh8NVTCYFB5Pm/7OXjF33q9ATkw7qxhb1g7la+gq9e3Z73orL7R3WEtd2TiBf7tm6gen\n",
       "RfZYDR3pdLoOTY42Qz9Y9777V+iN1oUmdl+4TqH/CfpfLdc/wPgJy26x2mlsjCgAAAAASUVORK5C\n",
       "YII=\n",
       "\" style=\"display:inline;vertical-align:middle;\" /></a></span></td></tr>\n",
       "<tr><td>&nbsp;</td><td colspan=4 style-\"text-align:left\"><a class=\"ProveItLink\" href=\"../../_proofs_/reverseSubset.ipynb\">proveit.logic.set_theory.containment.reverseSubset</a></td></tr><tr><td>2</td><td>assumption</td><td></td><td><span style=\"font-size:20px;\"><a class=\"ProveItLink\" href=\"../a794eb6038acfb57825b4506bc0c3a9106fba8880/expr.ipynb\"><img src=\"data:image/png;base64,iVBORw0KGgoAAAANSUhEUgAAAE8AAAAVBAMAAAD1D64kAAAAMFBMVEX///9ERETc3NyqqqpUVFS6\n",
       "urrMzMwyMjIQEBCIiIh2dnYiIiLu7u5mZmaYmJgAAABJJ2g3AAAAAXRSTlMAQObYZgAAAUpJREFU\n",
       "KM9jYGDgu8eAH7CtUgBRPLsYCAG2ZhDJ+QHKzcZQwOf/xcWxFMi4DuJxNUCF6zGN4hBgYLgfwMCw\n",
       "Alkh3/4DGArzJwCxA5pC5fsKEMb03bt3b4Uw5wOF3i9AUzhhfgDEqXMQJkoA8Y4DqApZD9g/ANFM\n",
       "m5Cs/sLAoC7DAFXIWwAWOwp2EAMDSwBSsHyZOXcfiPEeRGRAZAIY9C+A6ONIBnJ+YmA4DfQLAztQ\n",
       "KqUNotnFxV8AxEhBUsgIdBXnPxBLHOisiASwE4GBVoCukB9oGt8vIIN7AchRYHkDIA/sK27kYASa\n",
       "w/IZ5kauDSC/AhWyg+OS1wChEBSM+gUMyMED8gLjH3Aa2YoSjGztB5AVKvYXMfDJf4d4+xpM3cX/\n",
       "Li7l4MBFiRk4CKmGRyEMYFeIBYAV8hGhEJweeXYSTuGtkIS4mJg8AwAfi1aqwlAj9wAAAABJRU5E\n",
       "rkJggg==\n",
       "\" style=\"display:inline;vertical-align:middle;\" /></a> <a class=\"ProveItLink\" href=\"../1bf061d9cc5d24a4aac787e32bb0654865df71ca0/proof.ipynb\" style=\"text-decoration: none\">&#x22A2;&nbsp;</a><a class=\"ProveItLink\" href=\"../320fc424ef9505cffd54c61a94bba7892bc442520/expr.ipynb\"><img src=\"data:image/png;base64,iVBORw0KGgoAAAANSUhEUgAAADsAAAAPBAMAAACo4Ko7AAAAMFBMVEX///92dnYQEBBERERUVFS6\n",
       "urqIiIhmZmaqqqrc3Nzu7u6YmJgyMjIiIiLMzMwAAACFkkdwAAAAAXRSTlMAQObYZgAAAOdJREFU\n",
       "GNNjYACBtwzogNv/i4vzUSjnPIY0A5MBA0N9AETp/QUY0u8TgNgBzJxRPwEilnP37t2rEGY+UGi/\n",
       "AJiZkA8x5W0WQrcREF8CG8q6oH8DiOa8iWT4FwaGOVZg1lKwRQwMLAEIWb4vaem3IcwAhvkFIHoN\n",
       "kma2nwwMa8Eu43Nx8TcAMZ4gSTMrAJX8BlsN9OQBdGl+oE7ujyBWAwMDrwKIwYvsbaBjWX6A3AuU\n",
       "5vkAEmJvQEiDvD3/ANRBzL9AQlxXUbzNpwP09mT9kwzc9n8gTq+DyRb/d3E5swE9oEPOwgMVAgAL\n",
       "gT83trTuuAAAAABJRU5ErkJggg==\n",
       "\" style=\"display:inline;vertical-align:middle;\" /></a></span></td></tr>\n",
       "</table>"
      ],
      "text/plain": [
       "<proveit._core_.proof._ShowProof at 0x7f94ebb1d198>"
      ]
     },
     "execution_count": 1,
     "metadata": {},
     "output_type": "execute_result"
    }
   ],
   "source": [
    "import proveit\n",
    "%show_proof"
   ]
  },
  {
   "cell_type": "code",
   "execution_count": null,
   "metadata": {},
   "outputs": [],
   "source": []
  }
 ],
 "metadata": {
  "kernelspec": {
   "display_name": "Python 3",
   "language": "python",
   "name": "python3"
  }
 },
 "nbformat": 4,
 "nbformat_minor": 0
}
