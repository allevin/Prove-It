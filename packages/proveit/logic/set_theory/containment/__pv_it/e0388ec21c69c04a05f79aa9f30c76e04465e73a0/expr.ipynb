{
 "cells": [
  {
   "cell_type": "markdown",
   "metadata": {},
   "source": [
    "Expression of type <a class=\"ProveItLink\" href=\"../../../../../../../doc/html/api/proveit.ExprTuple.html\">ExprTuple</a>\n",
    "=======================\n",
    "# from context <a class=\"ProveItLink\" href=\"../../_context_.ipynb\">proveit.logic.set_theory.containment</a>"
   ]
  },
  {
   "cell_type": "code",
   "execution_count": 1,
   "metadata": {},
   "outputs": [],
   "source": [
    "# import Expression classes needed to build the expression\n",
    "from proveit import ExprTuple, Variable\n",
    "from proveit._common_ import B\n",
    "from proveit.logic import InSet"
   ]
  },
  {
   "cell_type": "code",
   "execution_count": 2,
   "metadata": {},
   "outputs": [
    {
     "data": {
      "text/html": [
       "<strong id=\"expr\">expr:</strong> <a class=\"ProveItLink\" href=\"expr.ipynb\"><img src=\"data:image/png;base64,iVBORw0KGgoAAAANSUhEUgAAAF4AAAAVBAMAAAA9Y0TyAAAAMFBMVEX////c3NwiIiJERESqqqqY\n",
       "mJh2dnZmZmYQEBDu7u4yMjJUVFTMzMyIiIi6uroAAAAs73DqAAAAAXRSTlMAQObYZgAAAU5JREFU\n",
       "KM9jYCAV8F0gWinrAyBxmhiF+3/v3ryOgaEGyF5JjMkcBgwM9Q8YuBgYeIlyznmgqvMbGFgTGDgm\n",
       "4FTEeUtJaQGEeV+AgSE+gYGzgeEVbkNPRcKZFkCsATTZhKEMIS92W+Q6kusYLRHs3wwMUiBuOsNS\n",
       "hPUJrKocCgg1zAJwJs/vu9dVQQwvhj64IBsD7weWAwj1kxFM3o8MDJM2ABkvGP4hzGfgNkB2/gsl\n",
       "JZh/mRuAer6CwglJPTCUUcIWKSL5gWazfgOrb0FSIX+AASl0JyEFfwADA/cXsHtMEZEucJ+BF0k9\n",
       "dwCcCQp+eZDTooAhBAP+ARYMssjRpYcc/DxdE8Dh+YiBgcUYCCwZJl+blhsA44CAVA1UefH/3btX\n",
       "gW1bx8AhgDuCvRfB0gPMygZQEiIesF0gMj1DwSwgliZB/UZQsiI+P/IeYAAAiFdO/kIQt0EAAAAA\n",
       "SUVORK5CYII=\n",
       "\" style=\"display:inline;vertical-align:middle;\" /></a><br>"
      ],
      "text/plain": [
       "expr: (_x_ in B)"
      ]
     },
     "execution_count": 2,
     "metadata": {},
     "output_type": "execute_result"
    }
   ],
   "source": [
    "# build up the expression from sub-expressions\n",
    "expr = ExprTuple(InSet(Variable(\"_x_\", latexFormat = r\"{_{-}x_{-}}\"), B))"
   ]
  },
  {
   "cell_type": "code",
   "execution_count": 3,
   "metadata": {},
   "outputs": [
    {
     "name": "stdout",
     "output_type": "stream",
     "text": [
      "Passed sanity check: built 'expr' is the same as the stored Expression.\n"
     ]
    }
   ],
   "source": [
    "# check that the built expression is the same as the stored expression\n",
    "%check_expr"
   ]
  },
  {
   "cell_type": "code",
   "execution_count": 4,
   "metadata": {},
   "outputs": [
    {
     "data": {
      "text/html": [
       "<table><tr><th>&nbsp;</th><th>core type</th><th>sub-expressions</th><th>expression</th></tr>\n",
       "<tr><td>0</td><td>ExprTuple</td><td>1</td><td><a class=\"ProveItLink\" href=\"expr.ipynb\"><img src=\"data:image/png;base64,iVBORw0KGgoAAAANSUhEUgAAAF4AAAAVBAMAAAA9Y0TyAAAAMFBMVEX////c3NwiIiJERESqqqqY\n",
       "mJh2dnZmZmYQEBDu7u4yMjJUVFTMzMyIiIi6uroAAAAs73DqAAAAAXRSTlMAQObYZgAAAU5JREFU\n",
       "KM9jYCAV8F0gWinrAyBxmhiF+3/v3ryOgaEGyF5JjMkcBgwM9Q8YuBgYeIlyznmgqvMbGFgTGDgm\n",
       "4FTEeUtJaQGEeV+AgSE+gYGzgeEVbkNPRcKZFkCsATTZhKEMIS92W+Q6kusYLRHs3wwMUiBuOsNS\n",
       "hPUJrKocCgg1zAJwJs/vu9dVQQwvhj64IBsD7weWAwj1kxFM3o8MDJM2ABkvGP4hzGfgNkB2/gsl\n",
       "JZh/mRuAer6CwglJPTCUUcIWKSL5gWazfgOrb0FSIX+AASl0JyEFfwADA/cXsHtMEZEucJ+BF0k9\n",
       "dwCcCQp+eZDTooAhBAP+ARYMssjRpYcc/DxdE8Dh+YiBgcUYCCwZJl+blhsA44CAVA1UefH/3btX\n",
       "gW1bx8AhgDuCvRfB0gPMygZQEiIesF0gMj1DwSwgliZB/UZQsiI+P/IeYAAAiFdO/kIQt0EAAAAA\n",
       "SUVORK5CYII=\n",
       "\" style=\"display:inline;vertical-align:middle;\" /></a></td></tr>\n",
       "<tr><td>1</td><td>Operation</td><td>operator:&nbsp;2<br>operands:&nbsp;3<br></td><td><a class=\"ProveItLink\" href=\"../47297b4e8b7541298f3f6f6f81bf455b8f53930b0/expr.ipynb\"><img src=\"data:image/png;base64,iVBORw0KGgoAAAANSUhEUgAAAFAAAAAPBAMAAACB51W8AAAAMFBMVEX///+6uroyMjLMzMwQEBAi\n",
       "IiKYmJhmZmZUVFSIiIh2dnbc3Nzu7u5ERESqqqoAAABZrPngAAAAAXRSTlMAQObYZgAAAONJREFU\n",
       "KM9jYCAIMv53dFwSYCAC+DIwsH8kQh3zTyD+gVP6pGpoEITF+ZuBge0XTmPUDsCYvA4MDKw+MB73\n",
       "yu6XlUgK98LVMfA3MHDrwrmnGFITXJEU3kYw7TtnlibAeQsY5jM8RkjyXECw529g4ImA8w4w9CI7\n",
       "kdE1NBTmmSsgxQgjGTxR/NKAYINCJn8BnMv9mYEHyeoAhJ5vQKL/AYybzfmBYQ6SkW1wFigYuT/B\n",
       "eHzfeB24JyApPCqAHIwmOgwMb+8CwQGem2tWTYNxwC5RN4CoY7//o6NJDU8M8zXBfA0BANCdP/hH\n",
       "ZIY4AAAAAElFTkSuQmCC\n",
       "\" style=\"display:inline;vertical-align:middle;\" /></a></td></tr>\n",
       "<tr><td>2</td><td>Literal</td><td></td><td><a class=\"ProveItLink\" href=\"../../../membership/__pv_it/088cbc857536a28d4119ad9639a84270ccb0545d0/expr.ipynb\"><img src=\"data:image/png;base64,iVBORw0KGgoAAAANSUhEUgAAAAwAAAAMBAMAAACkW0HUAAAALVBMVEX///+qqqpmZmZUVFQQEBC6\n",
       "urpERETc3NyYmJjMzMwiIiIyMjKIiIju7u4AAACYsrA9AAAAAXRSTlMAQObYZgAAADxJREFUCNdj\n",
       "YOA9vWrVBgaG2b0MQMCeCyIZ2ArA1DUwyRCyahVIyWQI7xaEYm4AU7xLIdxqTQgtvGvVBgCkcQ7e\n",
       "geM/tQAAAABJRU5ErkJggg==\n",
       "\" style=\"display:inline;vertical-align:middle;\" /></a></td></tr>\n",
       "<tr><td>3</td><td>ExprTuple</td><td>4, 5</td><td><a class=\"ProveItLink\" href=\"../23c53093396252c389f57d1209d46d61c3debcfa0/expr.ipynb\"><img src=\"data:image/png;base64,iVBORw0KGgoAAAANSUhEUgAAAE4AAAAVBAMAAAAazcUaAAAAMFBMVEX////c3NwiIiJERESqqqqY\n",
       "mJh2dnZmZmYQEBDu7u4yMjJUVFTMzMyIiIi6uroAAAAs73DqAAAAAXRSTlMAQObYZgAAAS5JREFU\n",
       "KM9jYCAW8F0gqIT1AZA4jU/B/t+7N69jYKgBslfiM4nDgIGh/gEDFwMDL15rzwNlz29gYE1g4JiA\n",
       "T919AQaG+AQGzgaGV3h9YAHEGkCTTBjKEIJit0Wuo7niNwODlCWQTmdYChfjTGBV5VBAUcbz++51\n",
       "VRDDi6EPLsjGwPuB5QCKOt6PDAyTNgAZLxj+Icxj4DZAcx5zA1DtV5C/kdQBQws9jPiBZrF+A6tr\n",
       "QRKWP8CAGkrnAxgYuL+A7TVFRJLAfQZeuLoJsOCTXwBkRAF9DAP+ARYMsnDHfoIGH0/XBHC4PGJg\n",
       "YDEGAkuGydem5QbAOJz9QKOK/+/evSoApGEdA4cAjuSGLA6MN2AUY09SyBy2CzjTFYq6WUAsjV0d\n",
       "SlBuBGJGwume9wADAOC4SBsAwTlPAAAAAElFTkSuQmCC\n",
       "\" style=\"display:inline;vertical-align:middle;\" /></a></td></tr>\n",
       "<tr><td>4</td><td>Variable</td><td></td><td><a class=\"ProveItLink\" href=\"../5144cf74ae6a683b49b974f1b9302b432abf7e930/expr.ipynb\"><img src=\"data:image/png;base64,iVBORw0KGgoAAAANSUhEUgAAACUAAAAJBAMAAABH3vh9AAAAKlBMVEX////MzMwQEBAiIiKYmJhm\n",
       "ZmZUVFSIiIh2dnbc3Nzu7u5ERESqqqoAAABwkVEpAAAAAXRSTlMAQObYZgAAAEtJREFUCNdjYIAA\n",
       "zvbM4+EMqGAFg7ODMppYA0Mtw0E0sQUM2QyYQB1TiPMiAxeakCf7BYYqVCGeK9wKnAUw3undQLCA\n",
       "a3tXRwmMAwC3+RVNp6j0GAAAAABJRU5ErkJggg==\n",
       "\" style=\"display:inline;vertical-align:middle;\" /></a></td></tr>\n",
       "<tr><td>5</td><td>Variable</td><td></td><td><a class=\"ProveItLink\" href=\"../../../../../__pv_it/077b2ff79244fb4582cbe22c6e3356fa92a52f2f0/expr.ipynb\"><img src=\"data:image/png;base64,iVBORw0KGgoAAAANSUhEUgAAABAAAAAOBAMAAADUAYG5AAAAMFBMVEX///+qqqru7u4iIiJ2dnbc\n",
       "3NyIiIjMzMxmZmYQEBC6uroyMjJERERUVFSYmJgAAADLUcuvAAAAAXRSTlMAQObYZgAAAGpJREFU\n",
       "CNdjYGB4+//u3dMLGIBgDgMDxy8gzf4NiP8CGWxfGRj4vgAZPBMYGJgnARn8FxhY9ygAGfXX0pof\n",
       "gDTlBzAw2YIYJ0EckBBI53sHoBH/gIz7AhBjWH9DjancBLTl/N+7t/cxMAAA3u4f/5xagjYAAAAA\n",
       "SUVORK5CYII=\n",
       "\" style=\"display:inline;vertical-align:middle;\" /></a></td></tr>\n",
       "</table>\n"
      ],
      "text/plain": [
       "0. (_x_ in B)\n",
       "   core type: ExprTuple\n",
       "   sub-expressions: 1\n",
       "1. _x_ in B\n",
       "   core type: Operation\n",
       "   operator: 2\n",
       "   operands: 3\n",
       "2. in\n",
       "   core type: Literal\n",
       "   sub-expressions: \n",
       "3. (_x_ , B)\n",
       "   core type: ExprTuple\n",
       "   sub-expressions: 4, 5\n",
       "4. _x_\n",
       "   core type: Variable\n",
       "   sub-expressions: \n",
       "5. B\n",
       "   core type: Variable\n",
       "   sub-expressions: "
      ]
     },
     "execution_count": 4,
     "metadata": {},
     "output_type": "execute_result"
    }
   ],
   "source": [
    "# display the expression information\n",
    "expr.exprInfo()"
   ]
  },
  {
   "cell_type": "code",
   "execution_count": null,
   "metadata": {},
   "outputs": [],
   "source": []
  }
 ],
 "metadata": {
  "kernelspec": {
   "display_name": "Python 3",
   "language": "python",
   "name": "python3"
  }
 },
 "nbformat": 4,
 "nbformat_minor": 0
}
