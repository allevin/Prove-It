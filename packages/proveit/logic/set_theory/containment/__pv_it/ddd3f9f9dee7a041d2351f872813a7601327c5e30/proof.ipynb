{
 "cells": [
  {
   "cell_type": "markdown",
   "metadata": {},
   "source": [
    "Show the Proof\n",
    "========"
   ]
  },
  {
   "cell_type": "code",
   "execution_count": 1,
   "metadata": {},
   "outputs": [
    {
     "data": {
      "text/html": [
       "<table><tr><th>&nbsp;</th><th>step type</th><th>requirements</th><th>statement</th></tr>\n",
       "<tr><td>0</td><td>assumption</td><td></td><td><span style=\"font-size:20px;\"><a class=\"ProveItLink\" href=\"../efa116c288d914620ed4b5a20fb22ba48f960f300/expr.ipynb\"><img src=\"data:image/png;base64,iVBORw0KGgoAAAANSUhEUgAAAE8AAAAVBAMAAAD1D64kAAAAMFBMVEX////c3NxERESqqqpUVFS6\n",
       "urrMzMwyMjIQEBCIiIh2dnYiIiLu7u5mZmaYmJgAAABXZE4RAAAAAXRSTlMAQObYZgAAAU5JREFU\n",
       "KM9jYGDgu8eAH7CtEgBRPLsYCAG2ZhDJ+QFI8Pl/cXEqxVRyUuXuA1kGhusgNlcDiORQYGC4H4Cu\n",
       "jquPgSEWiFcgFOZPAGIHNHU81QeA8h9RFM4Huvf9AiCDdffu3dsnQBSy94AEGlAUagDxjgMwk2Yn\n",
       "gOn7BkCC8QKKwi8MDOI6cDsZN4LJ72BdCVCFvAWgAPgyc+4+JNeFgGX+wbjvQUQGyK+cQBefRvIL\n",
       "N5j4COOyA61PaQOxmID2c/5DKGQBOZL/A9hqEKH+gIEhAiwGNI3vF5pCDrBCM5DZoPBgAbkxH6iD\n",
       "5TOa1Sx/QOQFmBu5NkCDUb4AodAWHMU/QdKgMEMEDzAY2doPwNWx7oF41oCB9SIDssJL/11cyh8g\n",
       "Ust1iB42d9/LDCgKkQAoCkvQUwc2hVgBWCEfEQrB6ZFnJ+EU3gqm+BYTk2cA7WBZynrG4qcAAAAA\n",
       "SUVORK5CYII=\n",
       "\" style=\"display:inline;vertical-align:middle;\" /></a> <a class=\"ProveItLink\" href=\"proof.ipynb\" style=\"text-decoration: none\">&#x22A2;&nbsp;</a><a class=\"ProveItLink\" href=\"../49335067c8050f61704643300068902d53451afa0/expr.ipynb\"><img src=\"data:image/png;base64,iVBORw0KGgoAAAANSUhEUgAAAD0AAAAPBAMAAACl/tp8AAAAMFBMVEX///+qqqru7u4iIiJ2dnbc\n",
       "3NyIiIjMzMxmZmYQEBC6uroyMjJERERUVFSYmJgAAADLUcuvAAAAAXRSTlMAQObYZgAAAO5JREFU\n",
       "GNNjYGB4+//u3dMLGNABU86NPtYGEGsOAwPHLwx5zwcMXJ0PgAz2b0D8F11a2whI+AcACbavDAx8\n",
       "X0Bii42NjbdB5XcqAImVIBbPBAYG5kkwfWrmYIrjI4iMABH8FxhY9yjADQ4GmckQvwFEqoOI+mtp\n",
       "zQ8QFnNdAJH9CJH8AAYmWySXGYAI+wA4/yRIDZIB10HEfzATbCvIa+8d0OTngwjGApD3/wGJ+wJo\n",
       "5t8HaeVggHqf9TdCmhEcpvUJQMIJ5v3KTQj5xWBL+YD+XwFyI8f5v3dv70NIV0CV1u7tEEAPc2D4\n",
       "Wt9CFQIAUEI+fb5rRGkAAAAASUVORK5CYII=\n",
       "\" style=\"display:inline;vertical-align:middle;\" /></a></span></td></tr>\n",
       "</table>"
      ],
      "text/plain": [
       "<proveit._core_.proof._ShowProof at 0x7f94ea9f0198>"
      ]
     },
     "execution_count": 1,
     "metadata": {},
     "output_type": "execute_result"
    }
   ],
   "source": [
    "import proveit\n",
    "%show_proof"
   ]
  },
  {
   "cell_type": "code",
   "execution_count": null,
   "metadata": {},
   "outputs": [],
   "source": []
  }
 ],
 "metadata": {
  "kernelspec": {
   "display_name": "Python 3",
   "language": "python",
   "name": "python3"
  }
 },
 "nbformat": 4,
 "nbformat_minor": 0
}
