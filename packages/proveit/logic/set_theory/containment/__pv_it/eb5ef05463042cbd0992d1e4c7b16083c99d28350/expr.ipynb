{
 "cells": [
  {
   "cell_type": "markdown",
   "metadata": {},
   "source": [
    "Expression of type <a class=\"ProveItLink\" href=\"../../../../../../../doc/html/api/proveit.logic.Forall.html\">Forall</a>\n",
    "=======================\n",
    "# from context <a class=\"ProveItLink\" href=\"../../_context_.ipynb\">proveit.logic.set_theory.containment</a>"
   ]
  },
  {
   "cell_type": "code",
   "execution_count": 1,
   "metadata": {},
   "outputs": [],
   "source": [
    "# import Expression classes needed to build the expression\n",
    "from proveit._common_ import A, B\n",
    "from proveit.logic import Forall, Subset, Superset"
   ]
  },
  {
   "cell_type": "code",
   "execution_count": 2,
   "metadata": {},
   "outputs": [
    {
     "data": {
      "text/html": [
       "<strong id=\"expr\">expr:</strong> <a class=\"ProveItLink\" href=\"expr.ipynb\"><img src=\"data:image/png;base64,iVBORw0KGgoAAAANSUhEUgAAAKgAAAAXBAMAAABt+RknAAAAMFBMVEX///8QEBC6urrMzMxUVFRm\n",
       "ZmZERETc3NwyMjKqqqp2dnaIiIiYmJgiIiLu7u4AAAAU9Wx4AAAAAXRSTlMAQObYZgAAAnZJREFU\n",
       "OMu1lE9oE0EUxr8kJluTzTYnvdUI3jxYQTwokqCLFgQbMFE8lPqPVE/Zg7SIhIaCFkFtLoI3AyLi\n",
       "LZ5z6AoeRA/twZMlGASll5RiilZba9+bye4OMTTbog925mW+md/Me/MmwP+wxnYXHOyh60lgnp33\n",
       "/pmhNDVv/pjmjWQX9QR954GX7D/yD+0Toe0Bwt+6qDM8AxinTrvsH1oTx12jb6VL6J9oS70idg6X\n",
       "/UMHuIn9oLW/xO/Yw3q97mTi9qgFGAnoLyYmiv6ZwRK3kQQQF/jQgnrT1VnG3wS+5/Mf/UPDFW77\n",
       "09DuCVrRUndsPLWpew6cAsaA3YVc9poQ3Btxp7saj/IqpM7WRoSDk+qOn5GqUvcEOACDQ3oNvBKR\n",
       "OTPmvJJxNLKAGJ21YHxgRyx1LYnJDHX7KTeI8aZZ4JClQI1RG19yuWdQNA5cQK8w2Haq1i1h0xzm\n",
       "OkrR9dlxzs4CMKKeNNrMwFhaOnZO0VwoV9NcpRNKmQuUJNQoHeGDtaBPq9DjEVm8RxWNw+fqC61T\n",
       "MyzqcF6B0kA8IcPHGCc7uFY73VCh6bCcH016Gst2u0y1VfH7ksfUCNq3TM5b+h7z6mgJ+oAC1cux\n",
       "ZZmoiqfxvEy7TA/Lp930rnORlQ1ZUghwGUQogz8VaDN3YUPun/E0johOEC6smEMP2vd5d7CtjO+b\n",
       "hl5YpU2n+FAcWn8ZwZYCvYhQSxap7Wlsezuf2JDyTOU+CcebbKCY8aBBSt26TGLD09je9Xx00arj\n",
       "zOSy9+FCDaq3W7/5TrSriub99W1li38PRRT/az5/3erQtXQv6JmtoV3tTg89NrgD6E5s1z9gbAIi\n",
       "4pv5gpDfRgAAAABJRU5ErkJggg==\n",
       "\" style=\"display:inline;vertical-align:middle;\" /></a><br>"
      ],
      "text/plain": [
       "expr: forall_{B | A supset B} (B subset A)"
      ]
     },
     "execution_count": 2,
     "metadata": {},
     "output_type": "execute_result"
    }
   ],
   "source": [
    "# build up the expression from sub-expressions\n",
    "expr = Forall([B], Subset(B, A), conditions = [Superset(A, B)])"
   ]
  },
  {
   "cell_type": "code",
   "execution_count": 3,
   "metadata": {},
   "outputs": [
    {
     "name": "stdout",
     "output_type": "stream",
     "text": [
      "Passed sanity check: built 'expr' is the same as the stored Expression.\n"
     ]
    }
   ],
   "source": [
    "# check that the built expression is the same as the stored expression\n",
    "%check_expr"
   ]
  },
  {
   "cell_type": "code",
   "execution_count": 4,
   "metadata": {},
   "outputs": [
    {
     "data": {
      "text/html": [
       "<table><tr><th>&nbsp;</th><th>core type</th><th>sub-expressions</th><th>expression</th></tr>\n",
       "<tr><td>0</td><td>Operation</td><td>operator:&nbsp;1<br>operand:&nbsp;2<br></td><td><a class=\"ProveItLink\" href=\"expr.ipynb\"><img src=\"data:image/png;base64,iVBORw0KGgoAAAANSUhEUgAAAKgAAAAXBAMAAABt+RknAAAAMFBMVEX///8QEBC6urrMzMxUVFRm\n",
       "ZmZERETc3NwyMjKqqqp2dnaIiIiYmJgiIiLu7u4AAAAU9Wx4AAAAAXRSTlMAQObYZgAAAnZJREFU\n",
       "OMu1lE9oE0EUxr8kJluTzTYnvdUI3jxYQTwokqCLFgQbMFE8lPqPVE/Zg7SIhIaCFkFtLoI3AyLi\n",
       "LZ5z6AoeRA/twZMlGASll5RiilZba9+bye4OMTTbog925mW+md/Me/MmwP+wxnYXHOyh60lgnp33\n",
       "/pmhNDVv/pjmjWQX9QR954GX7D/yD+0Toe0Bwt+6qDM8AxinTrvsH1oTx12jb6VL6J9oS70idg6X\n",
       "/UMHuIn9oLW/xO/Yw3q97mTi9qgFGAnoLyYmiv6ZwRK3kQQQF/jQgnrT1VnG3wS+5/Mf/UPDFW77\n",
       "09DuCVrRUndsPLWpew6cAsaA3YVc9poQ3Btxp7saj/IqpM7WRoSDk+qOn5GqUvcEOACDQ3oNvBKR\n",
       "OTPmvJJxNLKAGJ21YHxgRyx1LYnJDHX7KTeI8aZZ4JClQI1RG19yuWdQNA5cQK8w2Haq1i1h0xzm\n",
       "OkrR9dlxzs4CMKKeNNrMwFhaOnZO0VwoV9NcpRNKmQuUJNQoHeGDtaBPq9DjEVm8RxWNw+fqC61T\n",
       "MyzqcF6B0kA8IcPHGCc7uFY73VCh6bCcH016Gst2u0y1VfH7ksfUCNq3TM5b+h7z6mgJ+oAC1cux\n",
       "ZZmoiqfxvEy7TA/Lp930rnORlQ1ZUghwGUQogz8VaDN3YUPun/E0johOEC6smEMP2vd5d7CtjO+b\n",
       "hl5YpU2n+FAcWn8ZwZYCvYhQSxap7Wlsezuf2JDyTOU+CcebbKCY8aBBSt26TGLD09je9Xx00arj\n",
       "zOSy9+FCDaq3W7/5TrSriub99W1li38PRRT/az5/3erQtXQv6JmtoV3tTg89NrgD6E5s1z9gbAIi\n",
       "4pv5gpDfRgAAAABJRU5ErkJggg==\n",
       "\" style=\"display:inline;vertical-align:middle;\" /></a></td></tr>\n",
       "<tr><td>1</td><td>Literal</td><td></td><td><a class=\"ProveItLink\" href=\"../../../../boolean/quantification/universal/__pv_it/265f8c02ac1094d56e0e6410a1c1fd3500dc9f540/expr.ipynb\"><img src=\"data:image/png;base64,iVBORw0KGgoAAAANSUhEUgAAAAwAAAAQBAMAAADQT4M0AAAAMFBMVEX///8QEBC6urrMzMxUVFRm\n",
       "ZmZERETc3NwyMjKqqqp2dnaIiIiYmJgiIiLu7u4AAAAU9Wx4AAAAAXRSTlMAQObYZgAAAFhJREFU\n",
       "CNdjeMAABhdAxGmGlSCqj6EMSLInMHAAJVknMPAsLy+vBYp8S0u7BaScGRjSgZQKA18DkOJl4D4A\n",
       "pLgP8IJM4mswARuX7gSmpoKNZWDcAKZ4gCoAgTQTILaSE58AAAAASUVORK5CYII=\n",
       "\" style=\"display:inline;vertical-align:middle;\" /></a></td></tr>\n",
       "<tr><td>2</td><td>Lambda</td><td>parameter:&nbsp;11<br>body:&nbsp;3<br>conditions:&nbsp;4<br></td><td><a class=\"ProveItLink\" href=\"../ad8023c4d6f83e0a69895f0f40fdc3a61ff767fa0/expr.ipynb\"><img src=\"data:image/png;base64,iVBORw0KGgoAAAANSUhEUgAAAM8AAAAVCAMAAADW+kokAAAANlBMVEX///8UFBQNDQ2qqqru7u4i\n",
       "IiJ2dnbc3NyIiIjMzMxmZmYQEBC6uroyMjJERERUVFSYmJgAAAC3B9V0AAAAAXRSTlMAQObYZgAA\n",
       "AilJREFUWMPNV+nS2yAMpAXCKY73f9k6g7kE2ORo++lPMh4t7ApJCEJ+ilHxHze38jN8sMOnh/0a\n",
       "u+Bj9Ic52FxT+TeBRPH0q9WWnuz+Kn3j0i5xjxewN4EEYv6zpae4XxtmoaI8f/0OXJZsexFIAo9n\n",
       "KMJjQ091vz50zELGVIwhPrbCUTaZAyXwZJiioPoEEGbu9TTuz5o9F4WhdgcW7lycm51w2JorM6Di\n",
       "crWKPLbOtB291dO6V2OSo+IbWKRzEuAKkT69abe3rmcxAongy8ZrGaExZP76Tk/n3p0b2gKzOPJO\n",
       "Sql5g0V9xbcRh1ATdwASv+wMzNZUP2IEN3p6916p78sHsTjzj3G/0sN8ExFjL4AM1nn6DGLMx2LN\n",
       "jZ7evTc+KZ/KIuefrKf7+xfvzDSJXP9OgMqvL62nRVeieq0HuaN8UZPyKSxym2u6FL7H2iyqeibA\n",
       "tZ6EMrCpB7lf6MEsVNblI13o0W0BGloojUCyutFp7kF7+Ybd1/k2sMjtW0RYsFJdVbqA+n4LJJpO\n",
       "GQiKbvxw2Q8G916sntw+hcWZf8rUMYb0baW/T0qnnQGPspw1uNImXL7xL/v16N6lImdj+WQW2qVp\n",
       "DiDsDtfp8FZABsOwKZyJ8IxiODCQhOARttEzc2+SRbfhe53+ZN65eapYD/N5p1W9Me/gMKZxx3/v\n",
       "YUEWs+Qb9pB/7/3zsgH7dAW29174Ryb8pyt48ZP0EPHhe1uq8dNX9PwBOb0btUGsJP0AAAAASUVO\n",
       "RK5CYII=\n",
       "\" style=\"display:inline;vertical-align:middle;\" /></a></td></tr>\n",
       "<tr><td>3</td><td>Operation</td><td>operator:&nbsp;5<br>operands:&nbsp;6<br></td><td><a class=\"ProveItLink\" href=\"../6b463c6d625eb79d8b9011da6994376e9ebeda580/expr.ipynb\"><img src=\"data:image/png;base64,iVBORw0KGgoAAAANSUhEUgAAADsAAAAPBAMAAACo4Ko7AAAAMFBMVEX///+qqqru7u4iIiJ2dnbc\n",
       "3NyIiIjMzMxmZmYQEBC6uroyMjJERERUVFSYmJgAAADLUcuvAAAAAXRSTlMAQObYZgAAAOhJREFU\n",
       "GNNjYGB4+//u3dMLGDBBMYSaw8DA8QuL9H4wyf4NiP9iyvLZK4Aotq9A5hewCNtmY2NjmD2B/QEg\n",
       "imcCAwPzJLA5ZgpIuhPywQr5LzCw7gGLBwcgyXIpyD8A0fXX0prBDIZbyFZrMdQngOj8AAYmWxCD\n",
       "aQOy9AKG+AYQfRKkBKSd/QKSLPvdu/cPgBggP713QJfmYmDgBJnG/g9I3BcACRkgSQMFmCdAvc36\n",
       "GyzUiJBlBUpzf4B6u3ITWEwZEfLaIJlPwNA+//fu7X0QMaYdBVDZmPlbGfjO/25ADWau20iBCgIA\n",
       "K9Y93UOz/gQAAAAASUVORK5CYII=\n",
       "\" style=\"display:inline;vertical-align:middle;\" /></a></td></tr>\n",
       "<tr><td>4</td><td>ExprTuple</td><td>7</td><td><a class=\"ProveItLink\" href=\"../e0edde64b58496d55fd52d09fdedcf4eba2cbf110/expr.ipynb\"><img src=\"data:image/png;base64,iVBORw0KGgoAAAANSUhEUgAAAEgAAAAVBAMAAAAX07VdAAAAMFBMVEX////c3NwiIiJERESqqqqY\n",
       "mJh2dnZmZmYQEBDu7u4yMjJUVFTMzMyIiIi6uroAAAAs73DqAAAAAXRSTlMAQObYZgAAAU5JREFU\n",
       "KM9jYCAK8F3AL8/6AEichrAPYcru/7178zoGhhogeyVEaD2mGRwGDAz1Dxi4GBh4Ibax6k/AUHQe\n",
       "KHV+AwNrAgMHRFKkXgBEPVJSUloLU3QfKBSfwMDZwPAKInDh/gOY3FwdKMMCiDWAZpgwlEG8OME/\n",
       "AG6NkACE/s3AIGUJpNMZloL588AOgAXKBjDF8/vudVUQw4uhDyzwgEG+AOFiBTDJ+5GBYRJI/QuG\n",
       "f2BNu3fvN0Ao2gMmmRuACr+CfAlRxAcMlAXoiviBprB+AytqAfEdGBiYGtCtOw/0CvcXsHWmQJIR\n",
       "qIjrA1wNSwE8mORB5kcB/cfAMAvkgp9wRY8mwIKJp2sCOAgeMTAI9y9kYLX/BfPecUhsFv/fvXsV\n",
       "OPDWMXAIIEcXMFq09qFFITBagNFHALBdgCcV3ADkYmlCijaC/E8g+fIeYAAAiBxUmQYZAC8AAAAA\n",
       "SUVORK5CYII=\n",
       "\" style=\"display:inline;vertical-align:middle;\" /></a></td></tr>\n",
       "<tr><td>5</td><td>Literal</td><td></td><td><a class=\"ProveItLink\" href=\"../8abd5f716af72ef69ffdc0b40f17a6fa6115e4300/expr.ipynb\"><img src=\"data:image/png;base64,iVBORw0KGgoAAAANSUhEUgAAAA4AAAAMBAMAAACgrpHpAAAAJFBMVEX///+qqqpmZmZUVFTc3Nzu\n",
       "7u7MzMy6uroiIiIyMjKIiIgAAABMlAC/AAAAAXRSTlMAQObYZgAAADdJREFUCNdjYGBY2dHR0c7A\n",
       "kLGUAQRYWsAUA3MBhI6EUAzJaDQHlGYSgNCs7VCBSDUoo3gG0FwA+8MJt4mISzAAAAAASUVORK5C\n",
       "YII=\n",
       "\" style=\"display:inline;vertical-align:middle;\" /></a></td></tr>\n",
       "<tr><td>6</td><td>ExprTuple</td><td>11, 10</td><td><a class=\"ProveItLink\" href=\"../1d9a4008d5668a743cd8f9a815871ca1c5e3cf130/expr.ipynb\"><img src=\"data:image/png;base64,iVBORw0KGgoAAAANSUhEUgAAADYAAAAVBAMAAAD/UwB2AAAAMFBMVEX////c3NwiIiJERESqqqqY\n",
       "mJh2dnZmZmYQEBDu7u4yMjJUVFTMzMyIiIi6uroAAAAs73DqAAAAAXRSTlMAQObYZgAAAS5JREFU\n",
       "KM9jYMAH+C5gFWZ9ACROA3H0/927rR4gJA4BcQ0QrwRxmhkY2P8h5NYDMRcDAy/ISJ6/QPwbYZ7+\n",
       "BCCRwMABpBh4PwLZ3+ByIvUCDAycDQyvQBzmBgYGpk643IX7ILtNGMpAHP4NDIyLJ8BdPsE/AEil\n",
       "MywF8c7vvVsUANc2j+E8yBFeDH0g3n0BBk5tuNwDBvkCIPWCAexyC5A8TCPP7t37DUCGQeRAzo9P\n",
       "gFnHwMCxACzXAlL5FUjsd4DKAWmmBrCZplDvMf4CegkkxQiU4/oAZEQBXQrx3glg2M1XAHJmgQR+\n",
       "gv3wCBiS9r937wL5ZQZQv3D/QgZW+19Ah65j4BBAipiHSGxgmLEmIPEDkNhsF6BxhEUOZK80gsuL\n",
       "HPEbQW7GniZ4DzAAAJGlTQr2mfDRAAAAAElFTkSuQmCC\n",
       "\" style=\"display:inline;vertical-align:middle;\" /></a></td></tr>\n",
       "<tr><td>7</td><td>Operation</td><td>operator:&nbsp;8<br>operands:&nbsp;9<br></td><td><a class=\"ProveItLink\" href=\"../113f37a984480f946e743e317867bb10f7bce0800/expr.ipynb\"><img src=\"data:image/png;base64,iVBORw0KGgoAAAANSUhEUgAAADsAAAAPBAMAAACo4Ko7AAAAMFBMVEX///92dnYQEBBERERUVFS6\n",
       "urqIiIhmZmaqqqrc3Nzu7u6YmJgyMjIiIiLMzMwAAACFkkdwAAAAAXRSTlMAQObYZgAAAOVJREFU\n",
       "GNNjYACBtwzogNv/i4vzUSjnPIY0A5MBA0N9AETp/QUY0u8TgNgBzJxRPwFExd69e/cYTDofKLRf\n",
       "AMxMyA+AiS67B2UYAfElsKGsC/o3wA2dOwFCf2FgmGMFZi0FWwQFrBD7+L6kpd+GiAQwzC9AuOkC\n",
       "mGT7ycCwFqySz8XF3wAh7QcmmRWASn6DjQN68gC6ND9QJ/dHEKuBgYFXAd3w90DHsvwAMjiB0jwf\n",
       "4LIcBXBvzweZuQZk0y+4dOwCmLf5dIDMyfonGbjt/8Cc/vwUmCr+7+JyZgNqMAMD9Y4rqhAAEl0/\n",
       "W0VPoRUAAAAASUVORK5CYII=\n",
       "\" style=\"display:inline;vertical-align:middle;\" /></a></td></tr>\n",
       "<tr><td>8</td><td>Literal</td><td></td><td><a class=\"ProveItLink\" href=\"../40f138ebd64e8eadfde7d93b284d70a37652c25c0/expr.ipynb\"><img src=\"data:image/png;base64,iVBORw0KGgoAAAANSUhEUgAAAA4AAAAMBAMAAACgrpHpAAAAJFBMVEX///9mZmaqqqpUVFTc3NzM\n",
       "zMzu7u6IiIgyMjIiIiK6uroAAABMu5rKAAAAAXRSTlMAQObYZgAAADVJREFUCNdjWDlz5sx2BghI\n",
       "nwpleDpAaC4DqMAEKG2KRkPFmQQg9MoEMBXYBmTOnDnDioEBAA1tCuR6TpI/AAAAAElFTkSuQmCC\n",
       "\" style=\"display:inline;vertical-align:middle;\" /></a></td></tr>\n",
       "<tr><td>9</td><td>ExprTuple</td><td>10, 11</td><td><a class=\"ProveItLink\" href=\"../caee09fb4b5c95b986a9cee46a014afbad9bdc680/expr.ipynb\"><img src=\"data:image/png;base64,iVBORw0KGgoAAAANSUhEUgAAADUAAAAVBAMAAAAUZLt1AAAAMFBMVEX////c3NwiIiJERESqqqqY\n",
       "mJh2dnZmZmYQEBDu7u4yMjJUVFTMzMyIiIi6uroAAAAs73DqAAAAAXRSTlMAQObYZgAAATZJREFU\n",
       "KM9jYMAH+C5gFY4DEach7EMwQdb9v3dvXsfAfgDIXgkRWg/XwWHAwFD/gGEBAwMvxEhW/QkwufNA\n",
       "kfMbGMKAqiBiIvUCMLn7QFZ8AsMMBoZXEIEL9x/A5CyAWGMCA7MDQxnEsRP8A2ByvxkYpCwZGNgK\n",
       "GJaC+fPAtoABz++711WBNMsChj6wwAMG+QKoHO9HBoZJG4BGNTD8A6vdvXu/AVSOuQEo/xUo9gEi\n",
       "xwd07wKoHD9QD+s3sFwLiO/AwMDUAPMe0FHcX8BmmgK5jEA5rg8MDBNg3pMHGsK6gCEdyJ0FsuYn\n",
       "A+cnqPd4uiaA/fCIgUG4fyEDq/2vAs5+oJbi/7t3rwL5lesBA4cAUnQhsUFhxpqA4LIiR2AuIo7Q\n",
       "5ThBfpJG8JFTADfIfEbsaeIOAwMABOxNRsfkiy0AAAAASUVORK5CYII=\n",
       "\" style=\"display:inline;vertical-align:middle;\" /></a></td></tr>\n",
       "<tr><td>10</td><td>Variable</td><td></td><td><a class=\"ProveItLink\" href=\"../../../../../__pv_it/2cbe72a7ad6f655694dd697106680215e8489b600/expr.ipynb\"><img src=\"data:image/png;base64,iVBORw0KGgoAAAANSUhEUgAAAA8AAAAOBAMAAAACpFvcAAAALVBMVEX///8QEBBERERUVFS6urqI\n",
       "iIhmZmaqqqrc3Nzu7u6YmJgyMjIiIiLMzMwAAADtIaYWAAAAAXRSTlMAQObYZgAAAFtJREFUCNdj\n",
       "YACBOwxQsA9Kc52bAGG05zVAGAFxDmCaZULdAjBjCsO9ADDDgaEvAUTzGhvbKYCVMDAwbgAxChgY\n",
       "eASANAeQwf0AyJgNxEwvGRia5HYwcOm9TgAA6BoR3jrzwFcAAAAASUVORK5CYII=\n",
       "\" style=\"display:inline;vertical-align:middle;\" /></a></td></tr>\n",
       "<tr><td>11</td><td>Variable</td><td></td><td><a class=\"ProveItLink\" href=\"../../../../../__pv_it/077b2ff79244fb4582cbe22c6e3356fa92a52f2f0/expr.ipynb\"><img src=\"data:image/png;base64,iVBORw0KGgoAAAANSUhEUgAAABAAAAAOBAMAAADUAYG5AAAAMFBMVEX///+qqqru7u4iIiJ2dnbc\n",
       "3NyIiIjMzMxmZmYQEBC6uroyMjJERERUVFSYmJgAAADLUcuvAAAAAXRSTlMAQObYZgAAAGpJREFU\n",
       "CNdjYGB4+//u3dMLGIBgDgMDxy8gzf4NiP8CGWxfGRj4vgAZPBMYGJgnARn8FxhY9ygAGfXX0pof\n",
       "gDTlBzAw2YIYJ0EckBBI53sHoBH/gIz7AhBjWH9DjancBLTl/N+7t/cxMAAA3u4f/5xagjYAAAAA\n",
       "SUVORK5CYII=\n",
       "\" style=\"display:inline;vertical-align:middle;\" /></a></td></tr>\n",
       "</table>\n"
      ],
      "text/plain": [
       "0. forall_{B | A supset B} (B subset A)\n",
       "   core type: Operation\n",
       "   operator: 1\n",
       "   operand: 2\n",
       "1. forall\n",
       "   core type: Literal\n",
       "   sub-expressions: \n",
       "2. B -> (B subset A) | A supset B\n",
       "   core type: Lambda\n",
       "   parameter: 11\n",
       "   body: 3\n",
       "   conditions: 4\\n3. B subset A\n",
       "   core type: Operation\n",
       "   operator: 5\n",
       "   operands: 6\n",
       "4. (A supset B)\n",
       "   core type: ExprTuple\n",
       "   sub-expressions: 7\n",
       "5. subset\n",
       "   core type: Literal\n",
       "   sub-expressions: \n",
       "6. (B , A)\n",
       "   core type: ExprTuple\n",
       "   sub-expressions: 11, 10\n",
       "7. A supset B\n",
       "   core type: Operation\n",
       "   operator: 8\n",
       "   operands: 9\n",
       "8. supset\n",
       "   core type: Literal\n",
       "   sub-expressions: \n",
       "9. (A , B)\n",
       "   core type: ExprTuple\n",
       "   sub-expressions: 10, 11\n",
       "10. A\n",
       "    core type: Variable\n",
       "    sub-expressions: \n",
       "11. B\n",
       "    core type: Variable\n",
       "    sub-expressions: "
      ]
     },
     "execution_count": 4,
     "metadata": {},
     "output_type": "execute_result"
    }
   ],
   "source": [
    "# display the expression information\n",
    "expr.exprInfo()"
   ]
  },
  {
   "cell_type": "code",
   "execution_count": null,
   "metadata": {},
   "outputs": [],
   "source": []
  }
 ],
 "metadata": {
  "kernelspec": {
   "display_name": "Python 3",
   "language": "python",
   "name": "python3"
  }
 },
 "nbformat": 4,
 "nbformat_minor": 0
}
