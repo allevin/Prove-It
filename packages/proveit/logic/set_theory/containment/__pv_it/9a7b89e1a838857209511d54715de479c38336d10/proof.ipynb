{
 "cells": [
  {
   "cell_type": "markdown",
   "metadata": {},
   "source": [
    "Show the Proof\n",
    "========"
   ]
  },
  {
   "cell_type": "code",
   "execution_count": 1,
   "metadata": {},
   "outputs": [
    {
     "data": {
      "text/html": [
       "<table><tr><th>&nbsp;</th><th>step type</th><th>requirements</th><th>statement</th></tr>\n",
       "<tr><td>0</td><td>specialization</td><td>1, 2</td><td><span style=\"font-size:20px;\"><a class=\"ProveItLink\" href=\"../161812d09d6f5f0f76532c395be2049c60a0194b0/expr.ipynb\"><img src=\"data:image/png;base64,iVBORw0KGgoAAAANSUhEUgAAAE8AAAAYBAMAAABJkb36AAAAMFBMVEX///9ERETc3NyqqqpUVFS6\n",
       "urrMzMwyMjIQEBCIiIh2dnYiIiLu7u5mZmaYmJgAAABJJ2g3AAAAAXRSTlMAQObYZgAAAYRJREFU\n",
       "KM9jYMAGOLGK8t3DEEpB4bGtUgBRPLsw9V5F5bI1g635AOVmI2Q2QO3y/+LiWApkXAfxuBqgsvVg\n",
       "Unv37t0lC6BCHAIMDPcDGBhWICvk238AZuCJbVBG/gQgdkBTqHxfAe4XbShzPpB+vwBN4YT5ATCF\n",
       "bqwOEIYEEO84gKqQ9YD9A6g6ngKGAgjrCwODugwDVCEvRPAo2EGQ4H7A4AYJli8z5+4DMd6DiAyI\n",
       "jQEM+hegCrkZoAo5PzEwnAa5gh0oldIG0ezi4i8AVWgLC0hGoKs4/4FY4kBnRSSAnQgMNKjDGIQY\n",
       "mCGG8wNN4/sFsgMUsCxgeQMgD+p9JgGGaEiQ5gPNYfkMcyMXyBomoEJ2aFzyGuTWIIJRv4ABOXiO\n",
       "g1z0BxKF+7c7M8CDka39ALJCxf4iBj757xCXvYKF+8X/Li7l4MBFiRk4qMFMdlgVsjngUMiHqlB7\n",
       "PzCd7RZAVQhOjzw7UQVPYxrI1gpJiItRRGdiqlulgC2v7WEgEihgFwYAYh9jC+reZq0AAAAASUVO\n",
       "RK5CYII=\n",
       "\" style=\"display:inline;vertical-align:middle;\" /></a> <a class=\"ProveItLink\" href=\"proof.ipynb\" style=\"text-decoration: none\">&#x22A2;&nbsp;</a><a class=\"ProveItLink\" href=\"../83db08eed61502eac30a181ad08f92051e60d40b0/expr.ipynb\"><img src=\"data:image/png;base64,iVBORw0KGgoAAAANSUhEUgAAAFoAAAAVBAMAAAA0iOSIAAAAMFBMVEX////c3NxERESqqqqYmJgQ\n",
       "EBDu7u4yMjKIiIi6urpUVFTMzMx2dnYiIiJmZmYAAABjE816AAAAAXRSTlMAQObYZgAAAWNJREFU\n",
       "KM9jYCATcDbgl2eZgMzbBaH2Yqrz+r9qlfoEhtfIYmUQqh5MMt69e/d6G0wqiIGB7ycDO5JiDohD\n",
       "WO4nwETYfDdAGNw/gPgXA8sBhGpWiCrh9wJwIcaLUIM+Ak35w8AWgFA9HUI19CN5ZhaEYgIq4w1j\n",
       "YFBGyLyBBEyCvQNCDOpS/gUMjEVAq88hZErAZCbDfqSA5II4fP+KjrcgM8wZ3gI9f/cOkBkJlpjA\n",
       "IP8AQ3W/AAPbLSA9FRHUP8G+X7VqvQJCNS+EUgXpABq+H001JzBsChCq7SDULyD2P4CiOhjEMACa\n",
       "hwgnzmuQ4P4CJNYboLhEBRTAQCH2DzDF3M8T4MHN+B3IcIeKM0CCJx0UuN9gMV9lgAjurWUMKCE4\n",
       "l4FBKL6QgUX/+wPUNMWn/2vVcnD4ViLFvAChJI0c88hpBjvgacBMsQzwFHv37iUU1enIHClCZi9E\n",
       "MY5ATuPYwAAAVwxdBnsjd+4AAAAASUVORK5CYII=\n",
       "\" style=\"display:inline;vertical-align:middle;\" /></a></span></td></tr>\n",
       "<tr><td>&nbsp;</td><td colspan=4 style=\"text-align:left\"><span style=\"font-size:20px;\"><a class=\"ProveItLink\" href=\"../../../../../__pv_it/2cbe72a7ad6f655694dd697106680215e8489b600/expr.ipynb\"><img src=\"data:image/png;base64,iVBORw0KGgoAAAANSUhEUgAAAA8AAAAOBAMAAAACpFvcAAAALVBMVEX///8QEBBERERUVFS6urqI\n",
       "iIhmZmaqqqrc3Nzu7u6YmJgyMjIiIiLMzMwAAADtIaYWAAAAAXRSTlMAQObYZgAAAFtJREFUCNdj\n",
       "YACBOwxQsA9Kc52bAGG05zVAGAFxDmCaZULdAjBjCsO9ADDDgaEvAUTzGhvbKYCVMDAwbgAxChgY\n",
       "eASANAeQwf0AyJgNxEwvGRia5HYwcOm9TgAA6BoR3jrzwFcAAAAASUVORK5CYII=\n",
       "\" style=\"display:inline;vertical-align:middle;\" /></a> : <a class=\"ProveItLink\" href=\"../../../../../__pv_it/2cbe72a7ad6f655694dd697106680215e8489b600/expr.ipynb\"><img src=\"data:image/png;base64,iVBORw0KGgoAAAANSUhEUgAAAA8AAAAOBAMAAAACpFvcAAAALVBMVEX///8QEBBERERUVFS6urqI\n",
       "iIhmZmaqqqrc3Nzu7u6YmJgyMjIiIiLMzMwAAADtIaYWAAAAAXRSTlMAQObYZgAAAFtJREFUCNdj\n",
       "YACBOwxQsA9Kc52bAGG05zVAGAFxDmCaZULdAjBjCsO9ADDDgaEvAUTzGhvbKYCVMDAwbgAxChgY\n",
       "eASANAeQwf0AyJgNxEwvGRia5HYwcOm9TgAA6BoR3jrzwFcAAAAASUVORK5CYII=\n",
       "\" style=\"display:inline;vertical-align:middle;\" /></a>, <a class=\"ProveItLink\" href=\"../../../../../__pv_it/077b2ff79244fb4582cbe22c6e3356fa92a52f2f0/expr.ipynb\"><img src=\"data:image/png;base64,iVBORw0KGgoAAAANSUhEUgAAABAAAAAOBAMAAADUAYG5AAAAMFBMVEX///+qqqru7u4iIiJ2dnbc\n",
       "3NyIiIjMzMxmZmYQEBC6uroyMjJERERUVFSYmJgAAADLUcuvAAAAAXRSTlMAQObYZgAAAGpJREFU\n",
       "CNdjYGB4+//u3dMLGIBgDgMDxy8gzf4NiP8CGWxfGRj4vgAZPBMYGJgnARn8FxhY9ygAGfXX0pof\n",
       "gDTlBzAw2YIYJ0EckBBI53sHoBH/gIz7AhBjWH9DjancBLTl/N+7t/cxMAAA3u4f/5xagjYAAAAA\n",
       "SUVORK5CYII=\n",
       "\" style=\"display:inline;vertical-align:middle;\" /></a> : <a class=\"ProveItLink\" href=\"../../../../../__pv_it/077b2ff79244fb4582cbe22c6e3356fa92a52f2f0/expr.ipynb\"><img src=\"data:image/png;base64,iVBORw0KGgoAAAANSUhEUgAAABAAAAAOBAMAAADUAYG5AAAAMFBMVEX///+qqqru7u4iIiJ2dnbc\n",
       "3NyIiIjMzMxmZmYQEBC6uroyMjJERERUVFSYmJgAAADLUcuvAAAAAXRSTlMAQObYZgAAAGpJREFU\n",
       "CNdjYGB4+//u3dMLGIBgDgMDxy8gzf4NiP8CGWxfGRj4vgAZPBMYGJgnARn8FxhY9ygAGfXX0pof\n",
       "gDTlBzAw2YIYJ0EckBBI53sHoBH/gIz7AhBjWH9DjancBLTl/N+7t/cxMAAA3u4f/5xagjYAAAAA\n",
       "SUVORK5CYII=\n",
       "\" style=\"display:inline;vertical-align:middle;\" /></a></span></td></tr><tr><td>1</td><td>theorem</td><td></td><td><span style=\"font-size:20px;\"> <a class=\"ProveItLink\" href=\"../../_proofs_/unfoldNotSupsetEq.ipynb\" style=\"text-decoration: none\">&#x22A2;&nbsp;</a><a class=\"ProveItLink\" href=\"../3f98800ad1b053419a309a1da18a1555647df9f70/expr.ipynb\"><img src=\"data:image/png;base64,iVBORw0KGgoAAAANSUhEUgAAANcAAAAbBAMAAAAdeQdJAAAAMFBMVEX///8QEBC6urrMzMxUVFRm\n",
       "ZmZERETc3NwyMjKqqqp2dnaIiIiYmJgiIiLu7u4AAAAU9Wx4AAAAAXRSTlMAQObYZgAAA1JJREFU\n",
       "SMe9VktoE0EY/vLcpNlsg4daLyWHUgQfjVDx4KFBQy14aMDGFxRbtNsexOZQLCLFBR9FELuXes5F\n",
       "rAhS0YsEbBQRrRQjWBU1JYKCIsXSt1Zb57GbnVBCGmk78M2/M7Pzf/PP/9gFNrJl/3OffUgYbCvy\n",
       "8hMDaTp4WTpZnfDsCHORXvHW0+VIpDMIVwgMt+nc9dLJxC0efj2eSdpLmUzm/SNzqYKwTAEaGM7S\n",
       "9daSuXziLSa5GF0yJ5TRkGHzIsEMMAIGeiqXXjKZTfR1FeulgfncjPTOOBOZkn8Dn8Eg3+rp6S39\n",
       "FreKsaJxxb4pa66aC3cA8JOzuHWOOVX9UDrZceHZlWBip/eP4EYuysOQrpBLKIty7Ac6VqP+e97o\n",
       "mhgfKeanIHWQ2ZzcafUHky101atxVEPRVkP2MG+0iRiUoY1YZQuyy4Q0u4JsOA7lDV0McPjhYydD\n",
       "H+tvzMYaQnyzefA4EyRivV2x5pN8ckpIsXJGVheJzFlkfi7aKCFR75jk8KX8LLJkvl8OwBdgvjX3\n",
       "vQqiRlXbqWMeA/cKkZGu0iIb4GKG7k9YZIrGi8FX7l5XGPZ5kUw5wQz3XCRdM1DL7dwikNlo5ngJ\n",
       "XlsBOs5Xqc4m3bpGdOxjC3fHuP1DcKVFsrKJKBXd30j3EWjhs6cFMjc9zTmC/lz9OprNpZm0QO9L\n",
       "48AA0+0YUtn6zxCex0WyvW5WXw7JKSjTkLlncdPUG+IxzYKsK2uUq0u6lWa7aGEzQx82Vnmcxplr\n",
       "kw/OQCQLc0M1KQr7YrLBqBw7xKROQ2pbiOPZ8uX8AHZ1zUQaWZJ4ghyQ2f4XGGYvDJIwyApksu6j\n",
       "9VVOSQmUaZCrjHIVF5RuLpo3Rrkyw2Asxi4B7eQmdYFsInZ4iVUEXxDuKJRfxhkSgqqRomR3DBgW\n",
       "x1HP0osoqw0JZEfgmCZiN/08lOuwTxf+xBg1mOX62zwu6lGhdGwnqlJSH6QlSGOCz+wk0mj8HvhB\n",
       "PHkhi96osaFb1B8uYpgzzsHblzlITZ9IWgzOxhp1i0xpakX331RNZ8UxEk79searOQLxg3a+CNl9\n",
       "A3lNFp7ded/K4Nr//ewpROZZh1+tVAGymkpVPbWe/3hOcaBh45ojsYFkUnZN1PwDgePaD339vswA\n",
       "AAAASUVORK5CYII=\n",
       "\" style=\"display:inline;vertical-align:middle;\" /></a></span></td></tr>\n",
       "<tr><td>&nbsp;</td><td colspan=4 style-\"text-align:left\"><a class=\"ProveItLink\" href=\"../../_proofs_/unfoldNotSupsetEq.ipynb\">proveit.logic.set_theory.containment.unfoldNotSupsetEq</a></td></tr><tr><td>2</td><td>assumption</td><td></td><td><span style=\"font-size:20px;\"><a class=\"ProveItLink\" href=\"../161812d09d6f5f0f76532c395be2049c60a0194b0/expr.ipynb\"><img src=\"data:image/png;base64,iVBORw0KGgoAAAANSUhEUgAAAE8AAAAYBAMAAABJkb36AAAAMFBMVEX///9ERETc3NyqqqpUVFS6\n",
       "urrMzMwyMjIQEBCIiIh2dnYiIiLu7u5mZmaYmJgAAABJJ2g3AAAAAXRSTlMAQObYZgAAAYRJREFU\n",
       "KM9jYMAGOLGK8t3DEEpB4bGtUgBRPLsw9V5F5bI1g635AOVmI2Q2QO3y/+LiWApkXAfxuBqgsvVg\n",
       "Unv37t0lC6BCHAIMDPcDGBhWICvk238AZuCJbVBG/gQgdkBTqHxfAe4XbShzPpB+vwBN4YT5ATCF\n",
       "bqwOEIYEEO84gKqQ9YD9A6g6ngKGAgjrCwODugwDVCEvRPAo2EGQ4H7A4AYJli8z5+4DMd6DiAyI\n",
       "jQEM+hegCrkZoAo5PzEwnAa5gh0oldIG0ezi4i8AVWgLC0hGoKs4/4FY4kBnRSSAnQgMNKjDGIQY\n",
       "mCGG8wNN4/sFsgMUsCxgeQMgD+p9JgGGaEiQ5gPNYfkMcyMXyBomoEJ2aFzyGuTWIIJRv4ABOXiO\n",
       "g1z0BxKF+7c7M8CDka39ALJCxf4iBj757xCXvYKF+8X/Li7l4MBFiRk4qMFMdlgVsjngUMiHqlB7\n",
       "PzCd7RZAVQhOjzw7UQVPYxrI1gpJiItRRGdiqlulgC2v7WEgEihgFwYAYh9jC+reZq0AAAAASUVO\n",
       "RK5CYII=\n",
       "\" style=\"display:inline;vertical-align:middle;\" /></a> <a class=\"ProveItLink\" href=\"../88227ea252a73a51b32fd7118e58906630caf1930/proof.ipynb\" style=\"text-decoration: none\">&#x22A2;&nbsp;</a><a class=\"ProveItLink\" href=\"../e93b75139355971858a3a0fcf004e7fb734402600/expr.ipynb\"><img src=\"data:image/png;base64,iVBORw0KGgoAAAANSUhEUgAAADsAAAAYBAMAAAC2M5gYAAAAMFBMVEX///92dnYQEBBERERUVFS6\n",
       "urqIiIhmZmaqqqrc3Nzu7u6YmJgyMjIiIiLMzMwAAACFkkdwAAAAAXRSTlMAQObYZgAAASRJREFU\n",
       "KM9jYEADbAx4wRP80qVYxN4imBcgFLf/Fxfno1Cx82By7t27d48IQIWYDBgY6gMgSu8vgGledA/K\n",
       "eJ8AxA5g5oz6CXCXzYUy84H0fohRCfkBMGk/VogOBiMgvgQ2lHVB/waoLNcBhgMQ1hcGhjlWYNZS\n",
       "sEWQQNnA4Adm8H1JS78NEQtgmF8AleZlgEqz/WRgWAu2h8/Fxd8AKt0O8zizAlDJb7DVQE9CLWSw\n",
       "ZOCAGMQP1Mn9EcRqAJqpAJHlNGCIhQTBe6BjWX6AhIDSPB8g0uwNz08hvD0fZOYakE2/IIF6/44H\n",
       "A9zbfDpAgybrn2Tgtv8DsXEjLHSK/7u4nNmAHnOn8MY1nwM+2bn3gTF61wCn/Fr8CSkNv/Qt/NIT\n",
       "MEQAjr9Prm7ut9AAAAAASUVORK5CYII=\n",
       "\" style=\"display:inline;vertical-align:middle;\" /></a></span></td></tr>\n",
       "</table>"
      ],
      "text/plain": [
       "<proveit._core_.proof._ShowProof at 0x7f95000354a8>"
      ]
     },
     "execution_count": 1,
     "metadata": {},
     "output_type": "execute_result"
    }
   ],
   "source": [
    "import proveit\n",
    "%show_proof"
   ]
  },
  {
   "cell_type": "code",
   "execution_count": null,
   "metadata": {},
   "outputs": [],
   "source": []
  }
 ],
 "metadata": {
  "kernelspec": {
   "display_name": "Python 3",
   "language": "python",
   "name": "python3"
  }
 },
 "nbformat": 4,
 "nbformat_minor": 0
}
