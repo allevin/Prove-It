{
 "cells": [
  {
   "cell_type": "markdown",
   "metadata": {},
   "source": [
    "Expression of type <a class=\"ProveItLink\" href=\"../../../../../../../doc/html/api/proveit.Lambda.html\">Lambda</a>\n",
    "=======================\n",
    "# from context <a class=\"ProveItLink\" href=\"../../_context_.ipynb\">proveit.logic.set_theory.containment</a>"
   ]
  },
  {
   "cell_type": "code",
   "execution_count": 1,
   "metadata": {},
   "outputs": [],
   "source": [
    "# import Expression classes needed to build the expression\n",
    "from proveit import Lambda\n",
    "from proveit._common_ import A, B\n",
    "from proveit.logic import Not, NotSupersetEq, SupersetEq"
   ]
  },
  {
   "cell_type": "code",
   "execution_count": 2,
   "metadata": {},
   "outputs": [
    {
     "data": {
      "text/html": [
       "<strong id=\"expr\">expr:</strong> <a class=\"ProveItLink\" href=\"expr.ipynb\"><img src=\"data:image/png;base64,iVBORw0KGgoAAAANSUhEUgAAAO0AAAAYCAMAAAAhzIoXAAAANlBMVEX///8UFBQNDQ2qqqru7u4i\n",
       "IiJ2dnbc3NyIiIjMzMxmZmYQEBC6uroyMjJERERUVFSYmJgAAAC3B9V0AAAAAXRSTlMAQObYZgAA\n",
       "AmlJREFUWMPlWNu2nCAMteUOcvv/n62zlJEImYSe04e2ecmM0b3ZmARw2/49s3+9AmHYt7r83eS7\n",
       "XQ0wrezQN9M7G8ITt5Zcaz4sxf2L0wcDTnH0QXLvrjE7Wu0cX5HiQjopKk9ulKxArPdvo06LdngW\n",
       "ksf2MK12ip/1Z/xjkqq9PCvnrWUFiqrjrMii3OMNQfJyjbZoSu0cPxD4xyjr2QRK1Ry1QXICRvg6\n",
       "6y1GwasPchnasAm1c3yXCfxtSxeyQnWAThRZAXvwTAtjhwn0JE9iAx5TO8fPjsLfzndsYnqLhYKE\n",
       "AE0PSwAQ2OUmaplXN/j3JNceekTtHF9GEv/IaGutVwVtbLl/57FgPaoLyP2umMn892X1IBcR+rla\n",
       "BN8WEv/KbKkyplbmrhbCyezV2zQInFP/ms/qabUD+R6gn6tF8BWN3zLb3pnx84cCFroSGaqlrbJd\n",
       "wL2WuFzTRq6IA7mr0E/VIvjC0/itNXct+blu546No/b8Fab9TPixrDpylloEPxkS3zXVuQpEre+b\n",
       "ehCI2jsgWhuctWQlQVk9yTmZjOCbROO3BcnUiNStA90gFUTtO2DEuNlp93q43xrJS4R+ohbD94LG\n",
       "vzLbhe4+2OzgKqyH3uBgQLZxpnuzY9rG7pEYIzm9AqH4lcT36dw1R3RhGVPxY8CkUONrQsuBHP3n\n",
       "88qEvO3ewRGlU4vjF83BX7VgVgMLxt45LhxWvnYI1auBBdMWer7a7z/GL5344FngtvTp1cZHbTLV\n",
       "mlfVMvB/w0xeDbCtbdqyWf12IdX2h8zY1QD3C5qD/n2dVmv//q9vC6bk/6SWsR78AjgKIXwO9CVm\n",
       "AAAAAElFTkSuQmCC\n",
       "\" style=\"display:inline;vertical-align:middle;\" /></a><br>"
      ],
      "text/plain": [
       "expr: B -> [not](A supseteq B) | A nsupseteq B"
      ]
     },
     "execution_count": 2,
     "metadata": {},
     "output_type": "execute_result"
    }
   ],
   "source": [
    "# build up the expression from sub-expressions\n",
    "expr = Lambda(B, Not(SupersetEq(A, B)), conditions = [NotSupersetEq(A, B)])"
   ]
  },
  {
   "cell_type": "code",
   "execution_count": 3,
   "metadata": {},
   "outputs": [
    {
     "name": "stdout",
     "output_type": "stream",
     "text": [
      "Passed sanity check: built 'expr' is the same as the stored Expression.\n"
     ]
    }
   ],
   "source": [
    "# check that the built expression is the same as the stored expression\n",
    "%check_expr"
   ]
  },
  {
   "cell_type": "code",
   "execution_count": 4,
   "metadata": {},
   "outputs": [
    {
     "data": {
      "text/html": [
       "<table><tr><th>&nbsp;</th><th>core type</th><th>sub-expressions</th><th>expression</th></tr>\n",
       "<tr><td>0</td><td>Lambda</td><td>parameter:&nbsp;10<br>body:&nbsp;1<br>conditions:&nbsp;2<br></td><td><a class=\"ProveItLink\" href=\"expr.ipynb\"><img src=\"data:image/png;base64,iVBORw0KGgoAAAANSUhEUgAAAO0AAAAYCAMAAAAhzIoXAAAANlBMVEX///8UFBQNDQ2qqqru7u4i\n",
       "IiJ2dnbc3NyIiIjMzMxmZmYQEBC6uroyMjJERERUVFSYmJgAAAC3B9V0AAAAAXRSTlMAQObYZgAA\n",
       "AmlJREFUWMPlWNu2nCAMteUOcvv/n62zlJEImYSe04e2ecmM0b3ZmARw2/49s3+9AmHYt7r83eS7\n",
       "XQ0wrezQN9M7G8ITt5Zcaz4sxf2L0wcDTnH0QXLvrjE7Wu0cX5HiQjopKk9ulKxArPdvo06LdngW\n",
       "ksf2MK12ip/1Z/xjkqq9PCvnrWUFiqrjrMii3OMNQfJyjbZoSu0cPxD4xyjr2QRK1Ry1QXICRvg6\n",
       "6y1GwasPchnasAm1c3yXCfxtSxeyQnWAThRZAXvwTAtjhwn0JE9iAx5TO8fPjsLfzndsYnqLhYKE\n",
       "AE0PSwAQ2OUmaplXN/j3JNceekTtHF9GEv/IaGutVwVtbLl/57FgPaoLyP2umMn892X1IBcR+rla\n",
       "BN8WEv/KbKkyplbmrhbCyezV2zQInFP/ms/qabUD+R6gn6tF8BWN3zLb3pnx84cCFroSGaqlrbJd\n",
       "wL2WuFzTRq6IA7mr0E/VIvjC0/itNXct+blu546No/b8Fab9TPixrDpylloEPxkS3zXVuQpEre+b\n",
       "ehCI2jsgWhuctWQlQVk9yTmZjOCbROO3BcnUiNStA90gFUTtO2DEuNlp93q43xrJS4R+ohbD94LG\n",
       "vzLbhe4+2OzgKqyH3uBgQLZxpnuzY9rG7pEYIzm9AqH4lcT36dw1R3RhGVPxY8CkUONrQsuBHP3n\n",
       "88qEvO3ewRGlU4vjF83BX7VgVgMLxt45LhxWvnYI1auBBdMWer7a7z/GL5344FngtvTp1cZHbTLV\n",
       "mlfVMvB/w0xeDbCtbdqyWf12IdX2h8zY1QD3C5qD/n2dVmv//q9vC6bk/6SWsR78AjgKIXwO9CVm\n",
       "AAAAAElFTkSuQmCC\n",
       "\" style=\"display:inline;vertical-align:middle;\" /></a></td></tr>\n",
       "<tr><td>1</td><td>Operation</td><td>operator:&nbsp;3<br>operand:&nbsp;4<br></td><td><a class=\"ProveItLink\" href=\"../83db08eed61502eac30a181ad08f92051e60d40b0/expr.ipynb\"><img src=\"data:image/png;base64,iVBORw0KGgoAAAANSUhEUgAAAFoAAAAVBAMAAAA0iOSIAAAAMFBMVEX////c3NxERESqqqqYmJgQ\n",
       "EBDu7u4yMjKIiIi6urpUVFTMzMx2dnYiIiJmZmYAAABjE816AAAAAXRSTlMAQObYZgAAAWNJREFU\n",
       "KM9jYCATcDbgl2eZgMzbBaH2Yqrz+r9qlfoEhtfIYmUQqh5MMt69e/d6G0wqiIGB7ycDO5JiDohD\n",
       "WO4nwETYfDdAGNw/gPgXA8sBhGpWiCrh9wJwIcaLUIM+Ak35w8AWgFA9HUI19CN5ZhaEYgIq4w1j\n",
       "YFBGyLyBBEyCvQNCDOpS/gUMjEVAq88hZErAZCbDfqSA5II4fP+KjrcgM8wZ3gI9f/cOkBkJlpjA\n",
       "IP8AQ3W/AAPbLSA9FRHUP8G+X7VqvQJCNS+EUgXpABq+H001JzBsChCq7SDULyD2P4CiOhjEMACa\n",
       "hwgnzmuQ4P4CJNYboLhEBRTAQCH2DzDF3M8T4MHN+B3IcIeKM0CCJx0UuN9gMV9lgAjurWUMKCE4\n",
       "l4FBKL6QgUX/+wPUNMWn/2vVcnD4ViLFvAChJI0c88hpBjvgacBMsQzwFHv37iUU1enIHClCZi9E\n",
       "MY5ATuPYwAAAVwxdBnsjd+4AAAAASUVORK5CYII=\n",
       "\" style=\"display:inline;vertical-align:middle;\" /></a></td></tr>\n",
       "<tr><td>2</td><td>ExprTuple</td><td>5</td><td><a class=\"ProveItLink\" href=\"../008d9bfd7b425571dc5b2e9ca59c0833ab4d2e2f0/expr.ipynb\"><img src=\"data:image/png;base64,iVBORw0KGgoAAAANSUhEUgAAAEgAAAAYBAMAAACrTaaDAAAAMFBMVEX////c3NwiIiJERESqqqqY\n",
       "mJh2dnZmZmYQEBDu7u4yMjJUVFTMzMyIiIi6uroAAAAs73DqAAAAAXRSTlMAQObYZgAAAYlJREFU\n",
       "KM9jYMAEvAxEgNOYQnwX0EXqUHisDxD6DiGEFaCy+3/v3ryOgaEGyF4JEVoPJoWUlJRWJ0AVcxgw\n",
       "MNQ/YOACuhJiG6v+BJhBM3SgjPNAqfMbGFgTGDggkiL1AnB3C0GZ94F0fAIDZwPDK4jAhfsPYIr2\n",
       "8G2AMCyAWANohglDGcSLE/wDoGo4FzAsgLB+MzBIWQLpdIalYP48sAMgQRnAsAfM4Pl997oqiOHF\n",
       "0AcWeMAgXwBVxMQAVcT7kYFhEsjmFwz/wJp2795vAFXkDgso5gagwq8gX0IU8QEDBeoQBkMGFoih\n",
       "/EBTWL+BFbWA+A5AWxogahgNGB5BQuU80CvcX8DWmYIkgIq4PkAUsTscX4kIJnmQ+VFA/zEwzAK5\n",
       "4CckWvS1tjDAg4mnawI4CB4xMAj3L2Rgtf8FcUkYLEyL/+/evQoceOsYOARQ08lKjLQEjBbWBBQR\n",
       "ng0YitguoGkV0gemFSUDFEUgF0ujiEzCTLobQf5HSb53MbPFAQwhTWJyigA2QQDoLV0mEclXbgAA\n",
       "AABJRU5ErkJggg==\n",
       "\" style=\"display:inline;vertical-align:middle;\" /></a></td></tr>\n",
       "<tr><td>3</td><td>Literal</td><td></td><td><a class=\"ProveItLink\" href=\"../../../../boolean/negation/__pv_it/7bea79645543c2413aa17e787cca04e21046fde60/expr.ipynb\"><img src=\"data:image/png;base64,iVBORw0KGgoAAAANSUhEUgAAAAwAAAAGBAMAAAAFwGKyAAAAFVBMVEX///9UVFTMzMx2dnYiIiJm\n",
       "ZmYAAACWz4ZEAAAAAXRSTlMAQObYZgAAABRJREFUCNdjCHEBAmcGMFDEQzEBAEl+Ai6uYJv/AAAA\n",
       "AElFTkSuQmCC\n",
       "\" style=\"display:inline;vertical-align:middle;\" /></a></td></tr>\n",
       "<tr><td>4</td><td>Operation</td><td>operator:&nbsp;6<br>operands:&nbsp;8<br></td><td><a class=\"ProveItLink\" href=\"../5e6face9deb8f4990d49930649fd84e604ecfa3c0/expr.ipynb\"><img src=\"data:image/png;base64,iVBORw0KGgoAAAANSUhEUgAAADsAAAARBAMAAACRPMnQAAAAMFBMVEX///92dnYQEBBERERUVFS6\n",
       "urqIiIhmZmaqqqrc3Nzu7u6YmJgyMjIiIiLMzMwAAACFkkdwAAAAAXRSTlMAQObYZgAAAO9JREFU\n",
       "KM9jYACBtwzogNv/i4vzUSjnPJice/fu3WMLoEJMBgwM9QEQpfdhggyr70EZ7xOA2AHMnFE/AW7q\n",
       "XCgzH0jvFwAzE/ID4NKsEB0MRkB8CWwo64L+DQhHHYBQXxgY5liBWUvBFsGAH5jk+5KWfhsiEMAw\n",
       "vwBdmu0nA8NasD18Li7+BgjpC2CSWQGo5DfYaqAnD8BlOSAG8QN1cn8EsRoYGHgV4NKxkCB4D3Qs\n",
       "yw8ggxMozfMBJvv8FMLb80FmrgHZ9AsaqHc8GODe5tMBGjRZ/yQDt/2fAtQYKf7v4nJmAwMVAShC\n",
       "7941QBYCAC8bRZFIybTAAAAAAElFTkSuQmCC\n",
       "\" style=\"display:inline;vertical-align:middle;\" /></a></td></tr>\n",
       "<tr><td>5</td><td>Operation</td><td>operator:&nbsp;7<br>operands:&nbsp;8<br></td><td><a class=\"ProveItLink\" href=\"../e93b75139355971858a3a0fcf004e7fb734402600/expr.ipynb\"><img src=\"data:image/png;base64,iVBORw0KGgoAAAANSUhEUgAAADsAAAAYBAMAAAC2M5gYAAAAMFBMVEX///92dnYQEBBERERUVFS6\n",
       "urqIiIhmZmaqqqrc3Nzu7u6YmJgyMjIiIiLMzMwAAACFkkdwAAAAAXRSTlMAQObYZgAAASRJREFU\n",
       "KM9jYEADbAx4wRP80qVYxN4imBcgFLf/Fxfno1Cx82By7t27d48IQIWYDBgY6gMgSu8vgGledA/K\n",
       "eJ8AxA5g5oz6CXCXzYUy84H0fohRCfkBMGk/VogOBiMgvgQ2lHVB/waoLNcBhgMQ1hcGhjlWYNZS\n",
       "sEWQQNnA4Adm8H1JS78NEQtgmF8AleZlgEqz/WRgWAu2h8/Fxd8AKt0O8zizAlDJb7DVQE9CLWSw\n",
       "ZOCAGMQP1Mn9EcRqAJqpAJHlNGCIhQTBe6BjWX6AhIDSPB8g0uwNz08hvD0fZOYakE2/IIF6/44H\n",
       "A9zbfDpAgybrn2Tgtv8DsXEjLHSK/7u4nNmAHnOn8MY1nwM+2bn3gTF61wCn/Fr8CSkNv/Qt/NIT\n",
       "MEQAjr9Prm7ut9AAAAAASUVORK5CYII=\n",
       "\" style=\"display:inline;vertical-align:middle;\" /></a></td></tr>\n",
       "<tr><td>6</td><td>Literal</td><td></td><td><a class=\"ProveItLink\" href=\"../bc0f4f75fcd25c7f3c501d50b7b90e3eb0564d7a0/expr.ipynb\"><img src=\"data:image/png;base64,iVBORw0KGgoAAAANSUhEUgAAAA4AAAAQBAMAAADUulMJAAAAKlBMVEX///9ERERmZmaqqqpUVFS6\n",
       "urrMzMyYmJju7u6IiIgyMjIiIiLc3NwAAAAAfF0EAAAAAXRSTlMAQObYZgAAAD5JREFUCNdjOL17\n",
       "9+6VDQxg0L4NQjOcPgChWR2gAgugtBsavQFCMStA6GiIQUkrgEbs3r3LmQE3ANm7e7cAAMoAEtfi\n",
       "lGxPAAAAAElFTkSuQmCC\n",
       "\" style=\"display:inline;vertical-align:middle;\" /></a></td></tr>\n",
       "<tr><td>7</td><td>Literal</td><td></td><td><a class=\"ProveItLink\" href=\"../750db171b2e8e944a2b1f3dc5b825c00ed5badfe0/expr.ipynb\"><img src=\"data:image/png;base64,iVBORw0KGgoAAAANSUhEUgAAAA4AAAAYBAMAAAA46dFkAAAAMFBMVEX///9ERESqqqqYmJgQEBDu\n",
       "7u52dnYyMjLc3NwiIiK6urpmZmZUVFTMzMyIiIgAAADs5GwKAAAAAXRSTlMAQObYZgAAAHVJREFU\n",
       "CNdjYAABPgYIuAOld0HpCQwMnTNnzqxJgHBD5kKVdTaA6bNcB0AUawFDAdgUA4azIJqTAUJrgw1g\n",
       "YJBgYNoApDgEGFYGAGluhdulIHPnTz8ENsUMalkphOIFm8nQOR9o8UwBBoZIqPQ7KD0VSkOcAAAo\n",
       "exszS18ZhgAAAABJRU5ErkJggg==\n",
       "\" style=\"display:inline;vertical-align:middle;\" /></a></td></tr>\n",
       "<tr><td>8</td><td>ExprTuple</td><td>9, 10</td><td><a class=\"ProveItLink\" href=\"../caee09fb4b5c95b986a9cee46a014afbad9bdc680/expr.ipynb\"><img src=\"data:image/png;base64,iVBORw0KGgoAAAANSUhEUgAAADUAAAAVBAMAAAAUZLt1AAAAMFBMVEX////c3NwiIiJERESqqqqY\n",
       "mJh2dnZmZmYQEBDu7u4yMjJUVFTMzMyIiIi6uroAAAAs73DqAAAAAXRSTlMAQObYZgAAATZJREFU\n",
       "KM9jYMAH+C5gFY4DEach7EMwQdb9v3dvXsfAfgDIXgkRWg/XwWHAwFD/gGEBAwMvxEhW/QkwufNA\n",
       "kfMbGMKAqiBiIvUCMLn7QFZ8AsMMBoZXEIEL9x/A5CyAWGMCA7MDQxnEsRP8A2ByvxkYpCwZGNgK\n",
       "GJaC+fPAtoABz++711WBNMsChj6wwAMG+QKoHO9HBoZJG4BGNTD8A6vdvXu/AVSOuQEo/xUo9gEi\n",
       "xwd07wKoHD9QD+s3sFwLiO/AwMDUAPMe0FHcX8BmmgK5jEA5rg8MDBNg3pMHGsK6gCEdyJ0FsuYn\n",
       "A+cnqPd4uiaA/fCIgUG4fyEDq/2vAs5+oJbi/7t3rwL5lesBA4cAUnQhsUFhxpqA4LIiR2AuIo7Q\n",
       "5ThBfpJG8JFTADfIfEbsaeIOAwMABOxNRsfkiy0AAAAASUVORK5CYII=\n",
       "\" style=\"display:inline;vertical-align:middle;\" /></a></td></tr>\n",
       "<tr><td>9</td><td>Variable</td><td></td><td><a class=\"ProveItLink\" href=\"../../../../../__pv_it/2cbe72a7ad6f655694dd697106680215e8489b600/expr.ipynb\"><img src=\"data:image/png;base64,iVBORw0KGgoAAAANSUhEUgAAAA8AAAAOBAMAAAACpFvcAAAALVBMVEX///8QEBBERERUVFS6urqI\n",
       "iIhmZmaqqqrc3Nzu7u6YmJgyMjIiIiLMzMwAAADtIaYWAAAAAXRSTlMAQObYZgAAAFtJREFUCNdj\n",
       "YACBOwxQsA9Kc52bAGG05zVAGAFxDmCaZULdAjBjCsO9ADDDgaEvAUTzGhvbKYCVMDAwbgAxChgY\n",
       "eASANAeQwf0AyJgNxEwvGRia5HYwcOm9TgAA6BoR3jrzwFcAAAAASUVORK5CYII=\n",
       "\" style=\"display:inline;vertical-align:middle;\" /></a></td></tr>\n",
       "<tr><td>10</td><td>Variable</td><td></td><td><a class=\"ProveItLink\" href=\"../../../../../__pv_it/077b2ff79244fb4582cbe22c6e3356fa92a52f2f0/expr.ipynb\"><img src=\"data:image/png;base64,iVBORw0KGgoAAAANSUhEUgAAABAAAAAOBAMAAADUAYG5AAAAMFBMVEX///+qqqru7u4iIiJ2dnbc\n",
       "3NyIiIjMzMxmZmYQEBC6uroyMjJERERUVFSYmJgAAADLUcuvAAAAAXRSTlMAQObYZgAAAGpJREFU\n",
       "CNdjYGB4+//u3dMLGIBgDgMDxy8gzf4NiP8CGWxfGRj4vgAZPBMYGJgnARn8FxhY9ygAGfXX0pof\n",
       "gDTlBzAw2YIYJ0EckBBI53sHoBH/gIz7AhBjWH9DjancBLTl/N+7t/cxMAAA3u4f/5xagjYAAAAA\n",
       "SUVORK5CYII=\n",
       "\" style=\"display:inline;vertical-align:middle;\" /></a></td></tr>\n",
       "</table>\n"
      ],
      "text/plain": [
       "0. B -> [not](A supseteq B) | A nsupseteq B\n",
       "   core type: Lambda\n",
       "   parameter: 10\n",
       "   body: 1\n",
       "   conditions: 2\\n1. [not](A supseteq B)\n",
       "   core type: Operation\n",
       "   operator: 3\n",
       "   operand: 4\n",
       "2. (A nsupseteq B)\n",
       "   core type: ExprTuple\n",
       "   sub-expressions: 5\n",
       "3. not\n",
       "   core type: Literal\n",
       "   sub-expressions: \n",
       "4. A supseteq B\n",
       "   core type: Operation\n",
       "   operator: 6\n",
       "   operands: 8\n",
       "5. A nsupseteq B\n",
       "   core type: Operation\n",
       "   operator: 7\n",
       "   operands: 8\n",
       "6. supseteq\n",
       "   core type: Literal\n",
       "   sub-expressions: \n",
       "7. nsupseteq\n",
       "   core type: Literal\n",
       "   sub-expressions: \n",
       "8. (A , B)\n",
       "   core type: ExprTuple\n",
       "   sub-expressions: 9, 10\n",
       "9. A\n",
       "   core type: Variable\n",
       "   sub-expressions: \n",
       "10. B\n",
       "    core type: Variable\n",
       "    sub-expressions: "
      ]
     },
     "execution_count": 4,
     "metadata": {},
     "output_type": "execute_result"
    }
   ],
   "source": [
    "# display the expression information\n",
    "expr.exprInfo()"
   ]
  },
  {
   "cell_type": "code",
   "execution_count": null,
   "metadata": {},
   "outputs": [],
   "source": []
  }
 ],
 "metadata": {
  "kernelspec": {
   "display_name": "Python 3",
   "language": "python",
   "name": "python3"
  }
 },
 "nbformat": 4,
 "nbformat_minor": 0
}
