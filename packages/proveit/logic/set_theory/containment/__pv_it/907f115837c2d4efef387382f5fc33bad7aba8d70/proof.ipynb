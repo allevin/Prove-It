{
 "cells": [
  {
   "cell_type": "markdown",
   "metadata": {},
   "source": [
    "Show the Proof\n",
    "========"
   ]
  },
  {
   "cell_type": "code",
   "execution_count": 1,
   "metadata": {},
   "outputs": [
    {
     "data": {
      "text/html": [
       "<table><tr><th>&nbsp;</th><th>step type</th><th>requirements</th><th>statement</th></tr>\n",
       "<tr><td>0</td><td>specialization</td><td>1, 2</td><td><span style=\"font-size:20px;\"><a class=\"ProveItLink\" href=\"../d5a59d12851d6fa6fe210b6f6d9e5e32ce8c31c20/expr.ipynb\"><img src=\"data:image/png;base64,iVBORw0KGgoAAAANSUhEUgAAAE8AAAAVBAMAAAD1D64kAAAAMFBMVEX///9ERETc3NyqqqpUVFS6\n",
       "urrMzMwyMjIQEBCIiIh2dnYiIiLu7u5mZmaYmJgAAABJJ2g3AAAAAXRSTlMAQObYZgAAAU1JREFU\n",
       "KM9jYGDgu8eAH7CtUgBRPLsYCAG2ZhDJ+QHKzcZQwOf/xcWxFMi4DuJxNUCF66H09N27d2+FMDkE\n",
       "GBjuBzAwrEBWyLf/AMTgOQgj8ycAsQOaQuX7YCczbUKyez5Q6P0CNIUT5geAKJYAJIUSQLzjAKpC\n",
       "1gP2D0D0cWTffGFgUJdhgCrkLQCLHQU7iIEhBTlYvsycuw/EeA8iMiB2BTDoX0BXyPmJgeE00C8M\n",
       "7ECplDaIZhcXfwEQgxtJISPQVZz/QCxxoLMiEsBOBAYa2A28BgiF/EDT+H6BdC8AeRMsD5TmBvuK\n",
       "ZytSMALNYfkMcyPXBlDoARWyQ+Ly+DWUYNQvYEAOHlCgMP6BSIdUw6IQGIxs7QeQFSr2FzHwyX+/\n",
       "gJomLv53cSkHBy5KzOADpCnkQ1XIu3s3IpnBADg98uwknMJbIQlxMTF5BgD4A1sTOTjIzwAAAABJ\n",
       "RU5ErkJggg==\n",
       "\" style=\"display:inline;vertical-align:middle;\" /></a> <a class=\"ProveItLink\" href=\"proof.ipynb\" style=\"text-decoration: none\">&#x22A2;&nbsp;</a><a class=\"ProveItLink\" href=\"../435ff703bb5adb5252c949c6bdcd6eaa9df308800/expr.ipynb\"><img src=\"data:image/png;base64,iVBORw0KGgoAAAANSUhEUgAAADsAAAARBAMAAACRPMnQAAAAMFBMVEX///+qqqru7u4iIiJ2dnbc\n",
       "3NyIiIjMzMxmZmYQEBC6uroyMjJERERUVFSYmJgAAADLUcuvAAAAAXRSTlMAQObYZgAAAO1JREFU\n",
       "KM9jYGB4+//u3dMLGDBBMYSaw8DA8QtIsxobG1snIaT3g0n2b0D8FyrE9LgAJstnrwCi2L4CmV9g\n",
       "gqymMFZgfwCI4pnAwMA8CW7kWhgjIR/sIP4LDKx7FODS3FCaS0H+AYiuv5bW/ADhIF6o5VoM9Qkg\n",
       "Oj+AgckWU3oBQ3wDiD4JUoLQzgyh2O/evX8AxAD56b0DXFoCajUDA+cGkLJ/QOK+AEyWywhCAwWY\n",
       "J0C9zfobJsveDfEDK1Ca+wPU25WbGKCBuhdqjDZI5hMwtM//vXt7H3psxMzfysB3/ncDA9UAyG5j\n",
       "YxtkIQDNyzslyjO8yQAAAABJRU5ErkJggg==\n",
       "\" style=\"display:inline;vertical-align:middle;\" /></a></span></td></tr>\n",
       "<tr><td>&nbsp;</td><td colspan=4 style=\"text-align:left\"><span style=\"font-size:20px;\"><a class=\"ProveItLink\" href=\"../../../../../__pv_it/2cbe72a7ad6f655694dd697106680215e8489b600/expr.ipynb\"><img src=\"data:image/png;base64,iVBORw0KGgoAAAANSUhEUgAAAA8AAAAOBAMAAAACpFvcAAAALVBMVEX///8QEBBERERUVFS6urqI\n",
       "iIhmZmaqqqrc3Nzu7u6YmJgyMjIiIiLMzMwAAADtIaYWAAAAAXRSTlMAQObYZgAAAFtJREFUCNdj\n",
       "YACBOwxQsA9Kc52bAGG05zVAGAFxDmCaZULdAjBjCsO9ADDDgaEvAUTzGhvbKYCVMDAwbgAxChgY\n",
       "eASANAeQwf0AyJgNxEwvGRia5HYwcOm9TgAA6BoR3jrzwFcAAAAASUVORK5CYII=\n",
       "\" style=\"display:inline;vertical-align:middle;\" /></a> : <a class=\"ProveItLink\" href=\"../../../../../__pv_it/2cbe72a7ad6f655694dd697106680215e8489b600/expr.ipynb\"><img src=\"data:image/png;base64,iVBORw0KGgoAAAANSUhEUgAAAA8AAAAOBAMAAAACpFvcAAAALVBMVEX///8QEBBERERUVFS6urqI\n",
       "iIhmZmaqqqrc3Nzu7u6YmJgyMjIiIiLMzMwAAADtIaYWAAAAAXRSTlMAQObYZgAAAFtJREFUCNdj\n",
       "YACBOwxQsA9Kc52bAGG05zVAGAFxDmCaZULdAjBjCsO9ADDDgaEvAUTzGhvbKYCVMDAwbgAxChgY\n",
       "eASANAeQwf0AyJgNxEwvGRia5HYwcOm9TgAA6BoR3jrzwFcAAAAASUVORK5CYII=\n",
       "\" style=\"display:inline;vertical-align:middle;\" /></a>, <a class=\"ProveItLink\" href=\"../../../../../__pv_it/077b2ff79244fb4582cbe22c6e3356fa92a52f2f0/expr.ipynb\"><img src=\"data:image/png;base64,iVBORw0KGgoAAAANSUhEUgAAABAAAAAOBAMAAADUAYG5AAAAMFBMVEX///+qqqru7u4iIiJ2dnbc\n",
       "3NyIiIjMzMxmZmYQEBC6uroyMjJERERUVFSYmJgAAADLUcuvAAAAAXRSTlMAQObYZgAAAGpJREFU\n",
       "CNdjYGB4+//u3dMLGIBgDgMDxy8gzf4NiP8CGWxfGRj4vgAZPBMYGJgnARn8FxhY9ygAGfXX0pof\n",
       "gDTlBzAw2YIYJ0EckBBI53sHoBH/gIz7AhBjWH9DjancBLTl/N+7t/cxMAAA3u4f/5xagjYAAAAA\n",
       "SUVORK5CYII=\n",
       "\" style=\"display:inline;vertical-align:middle;\" /></a> : <a class=\"ProveItLink\" href=\"../../../../../__pv_it/077b2ff79244fb4582cbe22c6e3356fa92a52f2f0/expr.ipynb\"><img src=\"data:image/png;base64,iVBORw0KGgoAAAANSUhEUgAAABAAAAAOBAMAAADUAYG5AAAAMFBMVEX///+qqqru7u4iIiJ2dnbc\n",
       "3NyIiIjMzMxmZmYQEBC6uroyMjJERERUVFSYmJgAAADLUcuvAAAAAXRSTlMAQObYZgAAAGpJREFU\n",
       "CNdjYGB4+//u3dMLGIBgDgMDxy8gzf4NiP8CGWxfGRj4vgAZPBMYGJgnARn8FxhY9ygAGfXX0pof\n",
       "gDTlBzAw2YIYJ0EckBBI53sHoBH/gIz7AhBjWH9DjancBLTl/N+7t/cxMAAA3u4f/5xagjYAAAAA\n",
       "SUVORK5CYII=\n",
       "\" style=\"display:inline;vertical-align:middle;\" /></a></span></td></tr><tr><td>1</td><td>theorem</td><td></td><td><span style=\"font-size:20px;\"> <a class=\"ProveItLink\" href=\"../../_proofs_/reverseSubsetEq.ipynb\" style=\"text-decoration: none\">&#x22A2;&nbsp;</a><a class=\"ProveItLink\" href=\"../c2f735335775f63f918216f067080f6e43401ce70/expr.ipynb\"><img src=\"data:image/png;base64,iVBORw0KGgoAAAANSUhEUgAAALoAAAAXBAMAAABOokjyAAAAMFBMVEX///8QEBC6urrMzMxUVFRm\n",
       "ZmZERETc3NwyMjKqqqp2dnaIiIiYmJgiIiLu7u4AAAAU9Wx4AAAAAXRSTlMAQObYZgAAAtxJREFU\n",
       "SMe1lU1oE1EQx//dNNnabLa56alW8KbQHAQPIgkaoicbsGm9SCviFkFsDtoqUhpEiF40F8WDYC9i\n",
       "vUgEPUjArreqSOuhKtpoEJVeisV++RGrM2/fS7ZRCS51YXcnb3Z+b+b/5r0A//UqeY7cUsdvtAGT\n",
       "bDzxAPfFCNCxEE+c/ZN3J937gVtsX/RAb+KqG3qBHsoRerFYfPmg6r3EXwAD7Or1QC/wI5qnOyZH\n",
       "zKeRiipvaW5jRKTgz3mgt/JjLA1MjKgh/YWyTveQwwzDuDk4OOQBrmX4eYjuZ9XG2KyM/BjLdRRY\n",
       "sqxXHuh+kfECcOq4ay3U1KXrNr1uALuBPjGUFc8ri6mEkE+rhKSVta4/1XlYjXK4b6Fwb9o1ZaMU\n",
       "/p1YEFzlakxRpPHZWY8wgmE2Aipkgoo8aVkWCfAQuCNHG7j04DIwG/ud3obhJL02ASEEOQ18KDsV\n",
       "x6Atu+lmjw3NqQ6dQLuspIXpAcojWK7SQ3IrxOMd3IZR8tohsSy3p5wP8vBPuunNs0l8lPZr4CBc\n",
       "9BbeUd+q9MtSdiot49DNzDYxX94Snk8RjKfd9B2BXtyXZczDyCpluIujVHXj12ofvXHe5AqFHWXQ\n",
       "t0tIJrNqL9x1mkDRY1TKPhn9vZBQ7RewZbsPZypnwwHHqRO9aY6McS5HCPEIY8I1SmtXctGNXHAO\n",
       "3VKkDIxWJVjSaXffBvE1nwTn5Kac4egVpyPRwM1jTqX6xWdHSJyciz6b6lrBNZlvEqbSQaOcun7G\n",
       "4+ft2p0wsDELo/8Lzc7nm8FUfxpR0U4U3R5x0bvhm1ct35KDNq8g6+tuODOsrK0Ua+tZ6CvQp1y6\n",
       "a5RaGfoxUddwCUNJFfG4Lr05L433S9A7pn1ljC6m9uaqdJP69sQPG0aCdlPzpVTnhdUncOVi3YvF\n",
       "56voM7V/Jy47UCczPVYv9z01v7f/Ax1n6viDkZoB+y/0Acs5Z9bualwDxi/ZnrmU9okiYgAAAABJ\n",
       "RU5ErkJggg==\n",
       "\" style=\"display:inline;vertical-align:middle;\" /></a></span></td></tr>\n",
       "<tr><td>&nbsp;</td><td colspan=4 style-\"text-align:left\"><a class=\"ProveItLink\" href=\"../../_proofs_/reverseSubsetEq.ipynb\">proveit.logic.set_theory.containment.reverseSubsetEq</a></td></tr><tr><td>2</td><td>assumption</td><td></td><td><span style=\"font-size:20px;\"><a class=\"ProveItLink\" href=\"../d5a59d12851d6fa6fe210b6f6d9e5e32ce8c31c20/expr.ipynb\"><img src=\"data:image/png;base64,iVBORw0KGgoAAAANSUhEUgAAAE8AAAAVBAMAAAD1D64kAAAAMFBMVEX///9ERETc3NyqqqpUVFS6\n",
       "urrMzMwyMjIQEBCIiIh2dnYiIiLu7u5mZmaYmJgAAABJJ2g3AAAAAXRSTlMAQObYZgAAAU1JREFU\n",
       "KM9jYGDgu8eAH7CtUgBRPLsYCAG2ZhDJ+QHKzcZQwOf/xcWxFMi4DuJxNUCF66H09N27d2+FMDkE\n",
       "GBjuBzAwrEBWyLf/AMTgOQgj8ycAsQOaQuX7YCczbUKyez5Q6P0CNIUT5geAKJYAJIUSQLzjAKpC\n",
       "1gP2D0D0cWTffGFgUJdhgCrkLQCLHQU7iIEhBTlYvsycuw/EeA8iMiB2BTDoX0BXyPmJgeE00C8M\n",
       "7ECplDaIZhcXfwEQgxtJISPQVZz/QCxxoLMiEsBOBAYa2A28BgiF/EDT+H6BdC8AeRMsD5TmBvuK\n",
       "ZytSMALNYfkMcyPXBlDoARWyQ+Ly+DWUYNQvYEAOHlCgMP6BSIdUw6IQGIxs7QeQFSr2FzHwyX+/\n",
       "gJomLv53cSkHBy5KzOADpCnkQ1XIu3s3IpnBADg98uwknMJbIQlxMTF5BgD4A1sTOTjIzwAAAABJ\n",
       "RU5ErkJggg==\n",
       "\" style=\"display:inline;vertical-align:middle;\" /></a> <a class=\"ProveItLink\" href=\"../f238eafe61a0ee1b6b54721b539470353bb487f60/proof.ipynb\" style=\"text-decoration: none\">&#x22A2;&nbsp;</a><a class=\"ProveItLink\" href=\"../586c891807183c577ae8a72ee7e3b9f21144c4d50/expr.ipynb\"><img src=\"data:image/png;base64,iVBORw0KGgoAAAANSUhEUgAAADsAAAARBAMAAACRPMnQAAAAMFBMVEX///92dnYQEBBERERUVFS6\n",
       "urqIiIhmZmaqqqrc3Nzu7u6YmJgyMjIiIiLMzMwAAACFkkdwAAAAAXRSTlMAQObYZgAAAO1JREFU\n",
       "KM9jYACBtwzogNv/i4vzUSjnPJTOuXv37lUIk8mAgaE+AKL0/gKIIVkI7e8TgNgBzJxRPwFEcd5E\n",
       "Mj0fKLRfAMxMyAebwhKAJG0ExJfAhrIu6N8Aotcgu+0LA8McKzBrKdgiBoYnSLJ8X9LSb0OYAQzz\n",
       "C9Cl2X4yMKwFu4zPxcXfAMTgRZJmVgAq+Q22GujJAyAGewNCmh+ok/sjiAUU5FUAMbiuInkb6FiW\n",
       "HyDfAqV5PoDF1tSheHv+Aah3mH9BBEPOwgIV6G0+HaC3J+ufZOC2/1OAGiPF/11czmxgoCJgv3sX\n",
       "EaEQAABXikRkFnmHwgAAAABJRU5ErkJggg==\n",
       "\" style=\"display:inline;vertical-align:middle;\" /></a></span></td></tr>\n",
       "</table>"
      ],
      "text/plain": [
       "<proveit._core_.proof._ShowProof at 0x7f94eb2ed128>"
      ]
     },
     "execution_count": 1,
     "metadata": {},
     "output_type": "execute_result"
    }
   ],
   "source": [
    "import proveit\n",
    "%show_proof"
   ]
  },
  {
   "cell_type": "code",
   "execution_count": null,
   "metadata": {},
   "outputs": [],
   "source": []
  }
 ],
 "metadata": {
  "kernelspec": {
   "display_name": "Python 3",
   "language": "python",
   "name": "python3"
  }
 },
 "nbformat": 4,
 "nbformat_minor": 0
}
