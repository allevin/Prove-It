{
 "cells": [
  {
   "cell_type": "markdown",
   "metadata": {},
   "source": [
    "Show the Proof\n",
    "========"
   ]
  },
  {
   "cell_type": "code",
   "execution_count": 1,
   "metadata": {},
   "outputs": [
    {
     "data": {
      "text/html": [
       "<table><tr><th>&nbsp;</th><th>step type</th><th>requirements</th><th>statement</th></tr>\n",
       "<tr><td>0</td><td>specialization</td><td>1, 2</td><td><span style=\"font-size:20px;\"><a class=\"ProveItLink\" href=\"../c4cd21df068c4758fc88d0fdc9cc48e765d7c6090/expr.ipynb\"><img src=\"data:image/png;base64,iVBORw0KGgoAAAANSUhEUgAAAG8AAAAVBAMAAAC6Uq30AAAAMFBMVEX////c3NxERESqqqpUVFS6\n",
       "urrMzMwyMjIQEBCIiIh2dnYiIiLu7u5mZmaYmJgAAABXZE4RAAAAAXRSTlMAQObYZgAAAbtJREFU\n",
       "OMtjYGDgu8dAGmBbJQCieHYhC7JOwK+JLwCksxnE5PyALJECobIxtTz57+KiHsBwDcS+DiK4GpCl\n",
       "ayBUPZTLWb179+4ACLuJgYH3KwM7iLkCQyMnxKV8+w9AfLPzAMJnP4H4CwPfAqwaOSAKhe+Dvc8g\n",
       "LYBk5keggb8YeBqwagyHUBPmQ5zniiTFBFTH3cPAoIxV4y1I0B6wfwAO8AIkKX4HBsYioIPWwjTy\n",
       "IsvWgcmjDPlgv7I5IEnle868DTLOHIjfgwQygK66DQy73aD4bAWrCWCQv4Chcb4AA88WIB0BxOxA\n",
       "6ZQ25Cj8Clbv4uKvABbagKRRA6QZaGU+iKMOZEQkoGtkBYYuxP2XkTR+ATlxAUQjNyhOWAqQNILT\n",
       "kgFQBhJipwMQ0fgPSPgbQJwK9iPXBiSNekDMCJRlh6RDntoE5Ghk/A5kPMeIDjYGSFgfB0XaH2ia\n",
       "d4clOVA0ZtQwIEUHSjxGMzAI9Rcy8Ol/v4CaxHn1v7i4gyOrFHuSEyCUGXEkOXASxgu4JsA08mHL\n",
       "VlAAThi7A5CFjsPzI89OZHERQjY6goIRksD4FiOJMxIoOjgToGUOAJ4VdQvz7BVWAAAAAElFTkSu\n",
       "QmCC\n",
       "\" style=\"display:inline;vertical-align:middle;\" /></a> <a class=\"ProveItLink\" href=\"proof.ipynb\" style=\"text-decoration: none\">&#x22A2;&nbsp;</a><a class=\"ProveItLink\" href=\"../9de9c2208e8b5dbd6462366802372807db98e34b0/expr.ipynb\"><img src=\"data:image/png;base64,iVBORw0KGgoAAAANSUhEUgAAADsAAAAYBAMAAAC2M5gYAAAAMFBMVEX///92dnYQEBBERERUVFS6\n",
       "urqIiIhmZmaqqqrc3Nzu7u6YmJgyMjIiIiLMzMwAAACFkkdwAAAAAXRSTlMAQObYZgAAASVJREFU\n",
       "KM9jYEADrAx4AS9+6Y1YxN4imKcgFLf/Fxfno1Cx81A65+4l3asQJpMBA0N9AETp/QUQQ7IYWB5A\n",
       "Vb5PAGIHMHNG/QQQxXmTgWENzJJ8oNB+ATAzIR9sCguQzIZJGwHxJbChrAv6N4BokM4LMOkvDAxz\n",
       "rMCspWCLGBieMDBwCEBl+b6kpd+GMAMY5hdApXkmQKXZfjIwrAW7jM/Fxd8AGmCPYWYzKwCV/IaG\n",
       "MtMBEIN9A0MpTJofqJP7I4jVANSnAGJwXeWCu+w90LEsP0C+BUrzfACLrXFPQPb2/ANQ7zD/ggjG\n",
       "n7179yrM23w6QG9P1j/JwG3/B+x0hnCY5uL/Li5nNqDHnB3euOY8gE+W/f7duzC7qZSQGDASEi4w\n",
       "AUMEAKd1TsMuccRHAAAAAElFTkSuQmCC\n",
       "\" style=\"display:inline;vertical-align:middle;\" /></a></span></td></tr>\n",
       "<tr><td>&nbsp;</td><td colspan=4 style=\"text-align:left\"><span style=\"font-size:20px;\"><a class=\"ProveItLink\" href=\"../../../../../__pv_it/2cbe72a7ad6f655694dd697106680215e8489b600/expr.ipynb\"><img src=\"data:image/png;base64,iVBORw0KGgoAAAANSUhEUgAAAA8AAAAOBAMAAAACpFvcAAAALVBMVEX///8QEBBERERUVFS6urqI\n",
       "iIhmZmaqqqrc3Nzu7u6YmJgyMjIiIiLMzMwAAADtIaYWAAAAAXRSTlMAQObYZgAAAFtJREFUCNdj\n",
       "YACBOwxQsA9Kc52bAGG05zVAGAFxDmCaZULdAjBjCsO9ADDDgaEvAUTzGhvbKYCVMDAwbgAxChgY\n",
       "eASANAeQwf0AyJgNxEwvGRia5HYwcOm9TgAA6BoR3jrzwFcAAAAASUVORK5CYII=\n",
       "\" style=\"display:inline;vertical-align:middle;\" /></a> : <a class=\"ProveItLink\" href=\"../../../../../__pv_it/2cbe72a7ad6f655694dd697106680215e8489b600/expr.ipynb\"><img src=\"data:image/png;base64,iVBORw0KGgoAAAANSUhEUgAAAA8AAAAOBAMAAAACpFvcAAAALVBMVEX///8QEBBERERUVFS6urqI\n",
       "iIhmZmaqqqrc3Nzu7u6YmJgyMjIiIiLMzMwAAADtIaYWAAAAAXRSTlMAQObYZgAAAFtJREFUCNdj\n",
       "YACBOwxQsA9Kc52bAGG05zVAGAFxDmCaZULdAjBjCsO9ADDDgaEvAUTzGhvbKYCVMDAwbgAxChgY\n",
       "eASANAeQwf0AyJgNxEwvGRia5HYwcOm9TgAA6BoR3jrzwFcAAAAASUVORK5CYII=\n",
       "\" style=\"display:inline;vertical-align:middle;\" /></a>, <a class=\"ProveItLink\" href=\"../../../../../__pv_it/077b2ff79244fb4582cbe22c6e3356fa92a52f2f0/expr.ipynb\"><img src=\"data:image/png;base64,iVBORw0KGgoAAAANSUhEUgAAABAAAAAOBAMAAADUAYG5AAAAMFBMVEX///+qqqru7u4iIiJ2dnbc\n",
       "3NyIiIjMzMxmZmYQEBC6uroyMjJERERUVFSYmJgAAADLUcuvAAAAAXRSTlMAQObYZgAAAGpJREFU\n",
       "CNdjYGB4+//u3dMLGIBgDgMDxy8gzf4NiP8CGWxfGRj4vgAZPBMYGJgnARn8FxhY9ygAGfXX0pof\n",
       "gDTlBzAw2YIYJ0EckBBI53sHoBH/gIz7AhBjWH9DjancBLTl/N+7t/cxMAAA3u4f/5xagjYAAAAA\n",
       "SUVORK5CYII=\n",
       "\" style=\"display:inline;vertical-align:middle;\" /></a> : <a class=\"ProveItLink\" href=\"../../../../../__pv_it/077b2ff79244fb4582cbe22c6e3356fa92a52f2f0/expr.ipynb\"><img src=\"data:image/png;base64,iVBORw0KGgoAAAANSUhEUgAAABAAAAAOBAMAAADUAYG5AAAAMFBMVEX///+qqqru7u4iIiJ2dnbc\n",
       "3NyIiIjMzMxmZmYQEBC6uroyMjJERERUVFSYmJgAAADLUcuvAAAAAXRSTlMAQObYZgAAAGpJREFU\n",
       "CNdjYGB4+//u3dMLGIBgDgMDxy8gzf4NiP8CGWxfGRj4vgAZPBMYGJgnARn8FxhY9ygAGfXX0pof\n",
       "gDTlBzAw2YIYJ0EckBBI53sHoBH/gIz7AhBjWH9DjancBLTl/N+7t/cxMAAA3u4f/5xagjYAAAAA\n",
       "SUVORK5CYII=\n",
       "\" style=\"display:inline;vertical-align:middle;\" /></a></span></td></tr><tr><td>1</td><td>theorem</td><td></td><td><span style=\"font-size:20px;\"> <a class=\"ProveItLink\" href=\"../../_proofs_/foldNotSubsetEq.ipynb\" style=\"text-decoration: none\">&#x22A2;&nbsp;</a><a class=\"ProveItLink\" href=\"../f6025974729349439c7f86b49b82d3c8da80ffb30/expr.ipynb\"><img src=\"data:image/png;base64,iVBORw0KGgoAAAANSUhEUgAAANEAAAAYBAMAAACW8wWgAAAAMFBMVEX///8QEBC6urrMzMxUVFRm\n",
       "ZmZERETc3NwyMjKqqqp2dnaIiIiYmJgiIiLu7u4AAAAU9Wx4AAAAAXRSTlMAQObYZgAAA11JREFU\n",
       "SMe9VV1IU1Ec/+1u826716tv+VLsoXop2h6koghHrdFTDnH6FE6k+RJ5odIixBGE9VDuxV7qwacy\n",
       "AllUkCxyFUQfhFOQoFxNKPFFkvzKNO183Hvd7rakVv3h3nPO/5zz//2/D/CPSMD/ovI8TuavyN2R\n",
       "x3mVs3pKvhSdvC4RyOrjQ2qddZUPcu2cP3ABdi9wO4v9x+TgnnHMaOuH6ZHNo3xqCQNNbkSBdrIS\n",
       "wyUiJfjwZpWPBx7D5tW2auLk81FnUnXssRKRtrC/2LvIx7fAlL41pALDfZggjrzV0dFZakZH2SBJ\n",
       "X9locwOP9L1m8o1kUEaMWYhE3m0o61QhpuEJex8bdjlX2DilJxqlOeDsScAVBA4BrYzXzf7X5kMB\n",
       "r7n0RCbKoeprZ1uovgX7jIRI0r/iti6zZTU50Kdn5VziwTi9QczeCoUZL3PT5UpIlXRSloXE58PE\n",
       "K2cikQiJ7BPgLlxubdvi5qqJ8zqSoZREQjdNakCopMUsMZU+c9PtPgiLZqTrTOemJARuPuoBj8o1\n",
       "JFTBkKr9/gW9Pew2dCQIEpFsJQUgJctZNQyM8WNx2FNmJCbfNR3EpMZ4Dxxjjs9CIr8qrmwSdfrN\n",
       "CmKP/J0jKdFq5tB4hG198eKFakZi7txfFsYgXyuzkLuNMoKF5oaTJhnfHVWMhKgh/rItce+h9SBL\n",
       "TaokIU/i/kmYkKzMTT5i61EtrZcTgQwNseYi6v5z5Ovh66nD8exy6iLXZSqilynwEkNsq5+EO7OO\n",
       "dJNkQFSgbU2OSTNo5PddUcikWvdq4mgKs6C1af3acyWdHtXLyVqV4UdgoQooYyF+7DhxYCzXprCT\n",
       "Ik2HGlZxQzMiCGVpHUlIQWz+puL52kXO2KZfbVjz+y9Rix00lDJFsKuoYWVEBHi8JiSB9sVGWGf1\n",
       "7K2IQZgFtusnNplquiWvyieM2U5yPSl2Q1yFOGaKU5gGWCCarUA8wQzvyqAzmPUG5T5GEKN5SHf0\n",
       "yacFiLXj1hX0z4eOxExIXnyAUhvG6R9JyAFSua6eUP1lslFnejX05vQxndbjpJFixpbz+gKnwcLd\n",
       "0Lgu+jZ42W2qibGnCNJkQSCnkcs4/4uXndI9MyNZBMmpb7RHeN/jihbr/L/5hOfIeVboxECxq2oh\n",
       "5k9t/tj/zLYlMwAAAABJRU5ErkJggg==\n",
       "\" style=\"display:inline;vertical-align:middle;\" /></a></span></td></tr>\n",
       "<tr><td>&nbsp;</td><td colspan=4 style-\"text-align:left\"><a class=\"ProveItLink\" href=\"../../_proofs_/foldNotSubsetEq.ipynb\">proveit.logic.set_theory.containment.foldNotSubsetEq</a></td></tr><tr><td>2</td><td>assumption</td><td></td><td><span style=\"font-size:20px;\"><a class=\"ProveItLink\" href=\"../c4cd21df068c4758fc88d0fdc9cc48e765d7c6090/expr.ipynb\"><img src=\"data:image/png;base64,iVBORw0KGgoAAAANSUhEUgAAAG8AAAAVBAMAAAC6Uq30AAAAMFBMVEX////c3NxERESqqqpUVFS6\n",
       "urrMzMwyMjIQEBCIiIh2dnYiIiLu7u5mZmaYmJgAAABXZE4RAAAAAXRSTlMAQObYZgAAAbtJREFU\n",
       "OMtjYGDgu8dAGmBbJQCieHYhC7JOwK+JLwCksxnE5PyALJECobIxtTz57+KiHsBwDcS+DiK4GpCl\n",
       "ayBUPZTLWb179+4ACLuJgYH3KwM7iLkCQyMnxKV8+w9AfLPzAMJnP4H4CwPfAqwaOSAKhe+Dvc8g\n",
       "LYBk5keggb8YeBqwagyHUBPmQ5zniiTFBFTH3cPAoIxV4y1I0B6wfwAO8AIkKX4HBsYioIPWwjTy\n",
       "IsvWgcmjDPlgv7I5IEnle868DTLOHIjfgwQygK66DQy73aD4bAWrCWCQv4Chcb4AA88WIB0BxOxA\n",
       "6ZQ25Cj8Clbv4uKvABbagKRRA6QZaGU+iKMOZEQkoGtkBYYuxP2XkTR+ATlxAUQjNyhOWAqQNILT\n",
       "kgFQBhJipwMQ0fgPSPgbQJwK9iPXBiSNekDMCJRlh6RDntoE5Ghk/A5kPMeIDjYGSFgfB0XaH2ia\n",
       "d4clOVA0ZtQwIEUHSjxGMzAI9Rcy8Ol/v4CaxHn1v7i4gyOrFHuSEyCUGXEkOXASxgu4JsA08mHL\n",
       "VlAAThi7A5CFjsPzI89OZHERQjY6goIRksD4FiOJMxIoOjgToGUOAJ4VdQvz7BVWAAAAAElFTkSu\n",
       "QmCC\n",
       "\" style=\"display:inline;vertical-align:middle;\" /></a> <a class=\"ProveItLink\" href=\"../a99a69ce8aa178822b02a4649087e79b5605c87e0/proof.ipynb\" style=\"text-decoration: none\">&#x22A2;&nbsp;</a><a class=\"ProveItLink\" href=\"../3c5d6d50e9c9e97b9eb92ef76f9eb7d3c9e8d02a0/expr.ipynb\"><img src=\"data:image/png;base64,iVBORw0KGgoAAAANSUhEUgAAAFoAAAAVBAMAAAA0iOSIAAAAMFBMVEX////c3NxERESqqqqYmJgQ\n",
       "EBDu7u4yMjKIiIi6urpUVFTMzMx2dnYiIiJmZmYAAABjE816AAAAAXRSTlMAQObYZgAAAWVJREFU\n",
       "KM9jYCATcDbgl2eZgMzbBaH2Yqrz+r9qlfoEhtfIYmUQqh7K5ai9e/cu1LggBga+nwzsSIo5IA5h\n",
       "uZ8AprlvJMCluH8A8S8GlgMI1awQWeH3AmBaVgDJoI9AU/4wsAUghKZDqIZ+iO0rkaxlAirjDWNg\n",
       "UEYIvYEETIK9A4hmK0BSzb+AgbEIaPU5hFAJmMxk2A92P/cCJNX7V3S8BZlhzvAW6PO7d4DMSLDE\n",
       "BAb5Bxiq+wUY2G4B6amIoP4JVrRq1XoFsNAFJNWqIB1Aw/ejqeYEhg3ExY+RVP8CYv8DKKqDQQwD\n",
       "oOch4ZSLiGfuL0BivQGKS1SAmBEoxP4BLMRWtwE5uBm/AxnuUN0MkOBJBwXuN2giWw6LeVBwby1j\n",
       "QAnBuQwMQvGFDCz63x+gpik+/V+rloPDtxIp5gUIJWnkmEdOM9gBTwNmioUCcKzdRckA6cgcKUJm\n",
       "L0TmMBLIaRwbGADis19fw20chAAAAABJRU5ErkJggg==\n",
       "\" style=\"display:inline;vertical-align:middle;\" /></a></span></td></tr>\n",
       "</table>"
      ],
      "text/plain": [
       "<proveit._core_.proof._ShowProof at 0x7f94ebe99860>"
      ]
     },
     "execution_count": 1,
     "metadata": {},
     "output_type": "execute_result"
    }
   ],
   "source": [
    "import proveit\n",
    "%show_proof"
   ]
  },
  {
   "cell_type": "code",
   "execution_count": null,
   "metadata": {},
   "outputs": [],
   "source": []
  }
 ],
 "metadata": {
  "kernelspec": {
   "display_name": "Python 3",
   "language": "python",
   "name": "python3"
  }
 },
 "nbformat": 4,
 "nbformat_minor": 0
}
