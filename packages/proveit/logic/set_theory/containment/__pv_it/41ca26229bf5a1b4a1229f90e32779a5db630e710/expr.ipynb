{
 "cells": [
  {
   "cell_type": "markdown",
   "metadata": {},
   "source": [
    "Expression of type <a class=\"ProveItLink\" href=\"../../../../../../../doc/html/api/proveit.Lambda.html\">Lambda</a>\n",
    "=======================\n",
    "# from context <a class=\"ProveItLink\" href=\"../../_context_.ipynb\">proveit.logic.set_theory.containment</a>"
   ]
  },
  {
   "cell_type": "code",
   "execution_count": 1,
   "metadata": {},
   "outputs": [],
   "source": [
    "# import Expression classes needed to build the expression\n",
    "from proveit import Lambda\n",
    "from proveit._common_ import A, B\n",
    "from proveit.logic import Subset, Superset"
   ]
  },
  {
   "cell_type": "code",
   "execution_count": 2,
   "metadata": {},
   "outputs": [
    {
     "data": {
      "text/html": [
       "<strong id=\"expr\">expr:</strong> <a class=\"ProveItLink\" href=\"expr.ipynb\"><img src=\"data:image/png;base64,iVBORw0KGgoAAAANSUhEUgAAAM8AAAAVCAMAAADW+kokAAAANlBMVEX///8UFBQNDQ2qqqru7u4i\n",
       "IiJ2dnbc3NyIiIjMzMxmZmYQEBC6uroyMjJERERUVFSYmJgAAAC3B9V0AAAAAXRSTlMAQObYZgAA\n",
       "AiFJREFUWMPNV9d2hSAQNAGkt///2WgQWKrcmMaLHs8OzCzb3Lb/shD9w8MVe4Z3qvm0q29j56z3\n",
       "9lhGL+7J7ReBGyfhKfiSnmj+Kn1pwil+jZfGXwRu2seXJT3JfL5qFtyz62lX4CxF24vAzRF/ucLt\n",
       "C3qy+fzSaxbMh2R0fl9yRzqkBSoSlu5lGEXiAmxY3usB5vE8fW1fGDcszLU5kSvuUDlWxkDMCG8v\n",
       "9jg6MjHoVg80D9nEuvwaFuGeqDbJvAxvVJwt8iW2QOBdUldghTfkXeQv7vQU5t0NByyOuGOMCQKw\n",
       "VV2xkK92OXAbIORT5RRWOdQPH+kbPaX5SUKN0qdiccUfJnakB1vgGqkmQLiqTU4Y9fFalLzRU5of\n",
       "p+hReapZxPhj+Xbf30ixJAjk/NoBFrfKy6Z1Lm+SV+d6KvPc9Ibpk1jEMgfKW93H4F1nPR3gWE9A\n",
       "Sb2opzKf6KlZ8KjLejTQI2AmSpQotcBhvKFYg9birTbv+HjEIpZv6vUAy4tmYlxV9yEQUhJFL6k6\n",
       "vpvWg8b8dCqapU9mccUfl3mM2cpuWFbjVGl7QBAwBHxNyWxix5/W69b8M+HVJH0iC2HCNKe1Wx2u\n",
       "w+XNgVwAkdRIr08vugOjg5B6hAV6euZBZTvGvk6/M+/Qmdgw7tibAXVl3um1NN2Zdx7/X+zP99jZ\n",
       "z/3/vLw0froDXvtf+KVF7dMdLP1Pejb68H+bdWbvb9HzATWFG7WyHxTWAAAAAElFTkSuQmCC\n",
       "\" style=\"display:inline;vertical-align:middle;\" /></a><br>"
      ],
      "text/plain": [
       "expr: B -> (B supset A) | A subset B"
      ]
     },
     "execution_count": 2,
     "metadata": {},
     "output_type": "execute_result"
    }
   ],
   "source": [
    "# build up the expression from sub-expressions\n",
    "expr = Lambda(B, Superset(B, A), conditions = [Subset(A, B)])"
   ]
  },
  {
   "cell_type": "code",
   "execution_count": 3,
   "metadata": {},
   "outputs": [
    {
     "name": "stdout",
     "output_type": "stream",
     "text": [
      "Passed sanity check: built 'expr' is the same as the stored Expression.\n"
     ]
    }
   ],
   "source": [
    "# check that the built expression is the same as the stored expression\n",
    "%check_expr"
   ]
  },
  {
   "cell_type": "code",
   "execution_count": 4,
   "metadata": {},
   "outputs": [
    {
     "data": {
      "text/html": [
       "<table><tr><th>&nbsp;</th><th>core type</th><th>sub-expressions</th><th>expression</th></tr>\n",
       "<tr><td>0</td><td>Lambda</td><td>parameter:&nbsp;9<br>body:&nbsp;1<br>conditions:&nbsp;2<br></td><td><a class=\"ProveItLink\" href=\"expr.ipynb\"><img src=\"data:image/png;base64,iVBORw0KGgoAAAANSUhEUgAAAM8AAAAVCAMAAADW+kokAAAANlBMVEX///8UFBQNDQ2qqqru7u4i\n",
       "IiJ2dnbc3NyIiIjMzMxmZmYQEBC6uroyMjJERERUVFSYmJgAAAC3B9V0AAAAAXRSTlMAQObYZgAA\n",
       "AiFJREFUWMPNV9d2hSAQNAGkt///2WgQWKrcmMaLHs8OzCzb3Lb/shD9w8MVe4Z3qvm0q29j56z3\n",
       "9lhGL+7J7ReBGyfhKfiSnmj+Kn1pwil+jZfGXwRu2seXJT3JfL5qFtyz62lX4CxF24vAzRF/ucLt\n",
       "C3qy+fzSaxbMh2R0fl9yRzqkBSoSlu5lGEXiAmxY3usB5vE8fW1fGDcszLU5kSvuUDlWxkDMCG8v\n",
       "9jg6MjHoVg80D9nEuvwaFuGeqDbJvAxvVJwt8iW2QOBdUldghTfkXeQv7vQU5t0NByyOuGOMCQKw\n",
       "VV2xkK92OXAbIORT5RRWOdQPH+kbPaX5SUKN0qdiccUfJnakB1vgGqkmQLiqTU4Y9fFalLzRU5of\n",
       "p+hReapZxPhj+Xbf30ixJAjk/NoBFrfKy6Z1Lm+SV+d6KvPc9Ibpk1jEMgfKW93H4F1nPR3gWE9A\n",
       "Sb2opzKf6KlZ8KjLejTQI2AmSpQotcBhvKFYg9birTbv+HjEIpZv6vUAy4tmYlxV9yEQUhJFL6k6\n",
       "vpvWg8b8dCqapU9mccUfl3mM2cpuWFbjVGl7QBAwBHxNyWxix5/W69b8M+HVJH0iC2HCNKe1Wx2u\n",
       "w+XNgVwAkdRIr08vugOjg5B6hAV6euZBZTvGvk6/M+/Qmdgw7tibAXVl3um1NN2Zdx7/X+zP99jZ\n",
       "z/3/vLw0froDXvtf+KVF7dMdLP1Pejb68H+bdWbvb9HzATWFG7WyHxTWAAAAAElFTkSuQmCC\n",
       "\" style=\"display:inline;vertical-align:middle;\" /></a></td></tr>\n",
       "<tr><td>1</td><td>Operation</td><td>operator:&nbsp;3<br>operands:&nbsp;4<br></td><td><a class=\"ProveItLink\" href=\"../09dc33acf7802475e9ccf28f5d4f1877476a16bb0/expr.ipynb\"><img src=\"data:image/png;base64,iVBORw0KGgoAAAANSUhEUgAAADsAAAAPBAMAAACo4Ko7AAAAMFBMVEX///+qqqru7u4iIiJ2dnbc\n",
       "3NyIiIjMzMxmZmYQEBC6uroyMjJERERUVFSYmJgAAADLUcuvAAAAAXRSTlMAQObYZgAAAORJREFU\n",
       "GNNjYGB4+//u3dMLGDBBMYSaw8DA8QuL9H4wyf4NiP9iyvLZK4Aotq9A5hcgg8vY2Ng6AS4d2B8A\n",
       "ongmMDAwT4KKMSUXwKQT8sEO4r/AwLpHASbIagplcCnIPwDR9dfSmh8grFwLpbUY6sEW5QcwMNki\n",
       "pJmh9AKG+AYQfRKkBKGdF2I5+9279w+AGCA/vXdAl+ZiYODcAFL2D0jcF0A3HCjAPAHqbdbfCLsl\n",
       "IB4ASnN/gHq7chNclssITGmDZD4BQ/v837u398Fl2bvBIRAzfysD3/nfDciBDArUvahRBwBpOzn1\n",
       "mcm+TgAAAABJRU5ErkJggg==\n",
       "\" style=\"display:inline;vertical-align:middle;\" /></a></td></tr>\n",
       "<tr><td>2</td><td>ExprTuple</td><td>5</td><td><a class=\"ProveItLink\" href=\"../395ca0ddc90cb4eef4362c606ce285d865a5c7ce0/expr.ipynb\"><img src=\"data:image/png;base64,iVBORw0KGgoAAAANSUhEUgAAAEgAAAAVBAMAAAAX07VdAAAAMFBMVEX////c3NwiIiJERESqqqqY\n",
       "mJh2dnZmZmYQEBDu7u4yMjJUVFTMzMyIiIi6uroAAAAs73DqAAAAAXRSTlMAQObYZgAAAU9JREFU\n",
       "KM9jYCAK8F3AL8/6AEichrAPYcru/7178zoGhhogeyVEaD2mGRwGDAz1Dxi4GBh4Ibax6k/AUHQe\n",
       "KHV+AwNrAgMHRFKkXgAic0tJSUkPwrwPFIpPYOBsYHgFEbhw/wHEaTcRJlkAsQbQDBOGMogXJ/gH\n",
       "gGhGRSTrfjMwSFkC6XSGpWD+PLADGBi4HyDU8Py+e10VxPBi6AMLPGCQLwDRs5AM4v3IwDBpA5Dx\n",
       "guEfWNPu3fsNGBCBBgbMDUCFX0G+hCjiAwbKAnRF/EBTWL+BFbWA+A4MDEwNIAYTcjABvcL9BWyd\n",
       "KchPQEVcH0AS7A4IRaBgkgeZHwX0H8S5zD9BEpx6KMHE0zUBHASPGBiE+xcysNr/gnivBqam+P/u\n",
       "3avAgbeOgUMANcJeL4JHCxQAowUYfQQA2wV4UsENQC6WJqRoI8j/BJIv7wEGAKJ5U7o2ptQ8AAAA\n",
       "AElFTkSuQmCC\n",
       "\" style=\"display:inline;vertical-align:middle;\" /></a></td></tr>\n",
       "<tr><td>3</td><td>Literal</td><td></td><td><a class=\"ProveItLink\" href=\"../40f138ebd64e8eadfde7d93b284d70a37652c25c0/expr.ipynb\"><img src=\"data:image/png;base64,iVBORw0KGgoAAAANSUhEUgAAAA4AAAAMBAMAAACgrpHpAAAAJFBMVEX///9mZmaqqqpUVFTc3NzM\n",
       "zMzu7u6IiIgyMjIiIiK6uroAAABMu5rKAAAAAXRSTlMAQObYZgAAADVJREFUCNdjWDlz5sx2BghI\n",
       "nwpleDpAaC4DqMAEKG2KRkPFmQQg9MoEMBXYBmTOnDnDioEBAA1tCuR6TpI/AAAAAElFTkSuQmCC\n",
       "\" style=\"display:inline;vertical-align:middle;\" /></a></td></tr>\n",
       "<tr><td>4</td><td>ExprTuple</td><td>9, 8</td><td><a class=\"ProveItLink\" href=\"../1d9a4008d5668a743cd8f9a815871ca1c5e3cf130/expr.ipynb\"><img src=\"data:image/png;base64,iVBORw0KGgoAAAANSUhEUgAAADYAAAAVBAMAAAD/UwB2AAAAMFBMVEX////c3NwiIiJERESqqqqY\n",
       "mJh2dnZmZmYQEBDu7u4yMjJUVFTMzMyIiIi6uroAAAAs73DqAAAAAXRSTlMAQObYZgAAAS5JREFU\n",
       "KM9jYMAH+C5gFWZ9ACROA3H0/927rR4gJA4BcQ0QrwRxmhkY2P8h5NYDMRcDAy/ISJ6/QPwbYZ7+\n",
       "BCCRwMABpBh4PwLZ3+ByIvUCDAycDQyvQBzmBgYGpk643IX7ILtNGMpAHP4NDIyLJ8BdPsE/AEil\n",
       "MywF8c7vvVsUANc2j+E8yBFeDH0g3n0BBk5tuNwDBvkCIPWCAexyC5A8TCPP7t37DUCGQeRAzo9P\n",
       "gFnHwMCxACzXAlL5FUjsd4DKAWmmBrCZplDvMf4CegkkxQiU4/oAZEQBXQrx3glg2M1XAHJmgQR+\n",
       "gv3wCBiS9r937wL5ZQZQv3D/QgZW+19Ah65j4BBAipiHSGxgmLEmIPEDkNhsF6BxhEUOZK80gsuL\n",
       "HPEbQW7GniZ4DzAAAJGlTQr2mfDRAAAAAElFTkSuQmCC\n",
       "\" style=\"display:inline;vertical-align:middle;\" /></a></td></tr>\n",
       "<tr><td>5</td><td>Operation</td><td>operator:&nbsp;6<br>operands:&nbsp;7<br></td><td><a class=\"ProveItLink\" href=\"../320fc424ef9505cffd54c61a94bba7892bc442520/expr.ipynb\"><img src=\"data:image/png;base64,iVBORw0KGgoAAAANSUhEUgAAADsAAAAPBAMAAACo4Ko7AAAAMFBMVEX///92dnYQEBBERERUVFS6\n",
       "urqIiIhmZmaqqqrc3Nzu7u6YmJgyMjIiIiLMzMwAAACFkkdwAAAAAXRSTlMAQObYZgAAAOdJREFU\n",
       "GNNjYACBtwzogNv/i4vzUSjnPIY0A5MBA0N9AETp/QUY0u8TgNgBzJxRPwEilnP37t2rEGY+UGi/\n",
       "AJiZkA8x5W0WQrcREF8CG8q6oH8DiOa8iWT4FwaGOVZg1lKwRQwMLAEIWb4vaem3IcwAhvkFIHoN\n",
       "kma2nwwMa8Eu43Nx8TcAMZ4gSTMrAJX8BlsN9OQBdGl+oE7ujyBWAwMDrwKIwYvsbaBjWX6A3AuU\n",
       "5vkAEmJvQEiDvD3/ANRBzL9AQlxXUbzNpwP09mT9kwzc9n8gTq+DyRb/d3E5swE9oEPOwgMVAgAL\n",
       "gT83trTuuAAAAABJRU5ErkJggg==\n",
       "\" style=\"display:inline;vertical-align:middle;\" /></a></td></tr>\n",
       "<tr><td>6</td><td>Literal</td><td></td><td><a class=\"ProveItLink\" href=\"../8abd5f716af72ef69ffdc0b40f17a6fa6115e4300/expr.ipynb\"><img src=\"data:image/png;base64,iVBORw0KGgoAAAANSUhEUgAAAA4AAAAMBAMAAACgrpHpAAAAJFBMVEX///+qqqpmZmZUVFTc3Nzu\n",
       "7u7MzMy6uroiIiIyMjKIiIgAAABMlAC/AAAAAXRSTlMAQObYZgAAADdJREFUCNdjYGBY2dHR0c7A\n",
       "kLGUAQRYWsAUA3MBhI6EUAzJaDQHlGYSgNCs7VCBSDUoo3gG0FwA+8MJt4mISzAAAAAASUVORK5C\n",
       "YII=\n",
       "\" style=\"display:inline;vertical-align:middle;\" /></a></td></tr>\n",
       "<tr><td>7</td><td>ExprTuple</td><td>8, 9</td><td><a class=\"ProveItLink\" href=\"../caee09fb4b5c95b986a9cee46a014afbad9bdc680/expr.ipynb\"><img src=\"data:image/png;base64,iVBORw0KGgoAAAANSUhEUgAAADUAAAAVBAMAAAAUZLt1AAAAMFBMVEX////c3NwiIiJERESqqqqY\n",
       "mJh2dnZmZmYQEBDu7u4yMjJUVFTMzMyIiIi6uroAAAAs73DqAAAAAXRSTlMAQObYZgAAATZJREFU\n",
       "KM9jYMAH+C5gFY4DEach7EMwQdb9v3dvXsfAfgDIXgkRWg/XwWHAwFD/gGEBAwMvxEhW/QkwufNA\n",
       "kfMbGMKAqiBiIvUCMLn7QFZ8AsMMBoZXEIEL9x/A5CyAWGMCA7MDQxnEsRP8A2ByvxkYpCwZGNgK\n",
       "GJaC+fPAtoABz++711WBNMsChj6wwAMG+QKoHO9HBoZJG4BGNTD8A6vdvXu/AVSOuQEo/xUo9gEi\n",
       "xwd07wKoHD9QD+s3sFwLiO/AwMDUAPMe0FHcX8BmmgK5jEA5rg8MDBNg3pMHGsK6gCEdyJ0FsuYn\n",
       "A+cnqPd4uiaA/fCIgUG4fyEDq/2vAs5+oJbi/7t3rwL5lesBA4cAUnQhsUFhxpqA4LIiR2AuIo7Q\n",
       "5ThBfpJG8JFTADfIfEbsaeIOAwMABOxNRsfkiy0AAAAASUVORK5CYII=\n",
       "\" style=\"display:inline;vertical-align:middle;\" /></a></td></tr>\n",
       "<tr><td>8</td><td>Variable</td><td></td><td><a class=\"ProveItLink\" href=\"../../../../../__pv_it/2cbe72a7ad6f655694dd697106680215e8489b600/expr.ipynb\"><img src=\"data:image/png;base64,iVBORw0KGgoAAAANSUhEUgAAAA8AAAAOBAMAAAACpFvcAAAALVBMVEX///8QEBBERERUVFS6urqI\n",
       "iIhmZmaqqqrc3Nzu7u6YmJgyMjIiIiLMzMwAAADtIaYWAAAAAXRSTlMAQObYZgAAAFtJREFUCNdj\n",
       "YACBOwxQsA9Kc52bAGG05zVAGAFxDmCaZULdAjBjCsO9ADDDgaEvAUTzGhvbKYCVMDAwbgAxChgY\n",
       "eASANAeQwf0AyJgNxEwvGRia5HYwcOm9TgAA6BoR3jrzwFcAAAAASUVORK5CYII=\n",
       "\" style=\"display:inline;vertical-align:middle;\" /></a></td></tr>\n",
       "<tr><td>9</td><td>Variable</td><td></td><td><a class=\"ProveItLink\" href=\"../../../../../__pv_it/077b2ff79244fb4582cbe22c6e3356fa92a52f2f0/expr.ipynb\"><img src=\"data:image/png;base64,iVBORw0KGgoAAAANSUhEUgAAABAAAAAOBAMAAADUAYG5AAAAMFBMVEX///+qqqru7u4iIiJ2dnbc\n",
       "3NyIiIjMzMxmZmYQEBC6uroyMjJERERUVFSYmJgAAADLUcuvAAAAAXRSTlMAQObYZgAAAGpJREFU\n",
       "CNdjYGB4+//u3dMLGIBgDgMDxy8gzf4NiP8CGWxfGRj4vgAZPBMYGJgnARn8FxhY9ygAGfXX0pof\n",
       "gDTlBzAw2YIYJ0EckBBI53sHoBH/gIz7AhBjWH9DjancBLTl/N+7t/cxMAAA3u4f/5xagjYAAAAA\n",
       "SUVORK5CYII=\n",
       "\" style=\"display:inline;vertical-align:middle;\" /></a></td></tr>\n",
       "</table>\n"
      ],
      "text/plain": [
       "0. B -> (B supset A) | A subset B\n",
       "   core type: Lambda\n",
       "   parameter: 9\n",
       "   body: 1\n",
       "   conditions: 2\\n1. B supset A\n",
       "   core type: Operation\n",
       "   operator: 3\n",
       "   operands: 4\n",
       "2. (A subset B)\n",
       "   core type: ExprTuple\n",
       "   sub-expressions: 5\n",
       "3. supset\n",
       "   core type: Literal\n",
       "   sub-expressions: \n",
       "4. (B , A)\n",
       "   core type: ExprTuple\n",
       "   sub-expressions: 9, 8\n",
       "5. A subset B\n",
       "   core type: Operation\n",
       "   operator: 6\n",
       "   operands: 7\n",
       "6. subset\n",
       "   core type: Literal\n",
       "   sub-expressions: \n",
       "7. (A , B)\n",
       "   core type: ExprTuple\n",
       "   sub-expressions: 8, 9\n",
       "8. A\n",
       "   core type: Variable\n",
       "   sub-expressions: \n",
       "9. B\n",
       "   core type: Variable\n",
       "   sub-expressions: "
      ]
     },
     "execution_count": 4,
     "metadata": {},
     "output_type": "execute_result"
    }
   ],
   "source": [
    "# display the expression information\n",
    "expr.exprInfo()"
   ]
  },
  {
   "cell_type": "code",
   "execution_count": null,
   "metadata": {},
   "outputs": [],
   "source": []
  }
 ],
 "metadata": {
  "kernelspec": {
   "display_name": "Python 3",
   "language": "python",
   "name": "python3"
  }
 },
 "nbformat": 4,
 "nbformat_minor": 0
}
