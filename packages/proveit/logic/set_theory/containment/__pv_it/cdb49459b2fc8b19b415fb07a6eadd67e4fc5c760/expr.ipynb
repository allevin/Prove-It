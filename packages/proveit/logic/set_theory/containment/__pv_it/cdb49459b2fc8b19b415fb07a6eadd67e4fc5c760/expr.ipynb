{
 "cells": [
  {
   "cell_type": "markdown",
   "metadata": {},
   "source": [
    "Expression of type <a class=\"ProveItLink\" href=\"../../../../../../../doc/html/api/proveit.logic.Forall.html\">Forall</a>\n",
    "=======================\n",
    "# from context <a class=\"ProveItLink\" href=\"../../_context_.ipynb\">proveit.logic.set_theory.containment</a>"
   ]
  },
  {
   "cell_type": "code",
   "execution_count": 1,
   "metadata": {},
   "outputs": [],
   "source": [
    "# import Expression classes needed to build the expression\n",
    "from proveit._common_ import A, B\n",
    "from proveit.logic import Forall, Not, NotSubsetEq, SubsetEq"
   ]
  },
  {
   "cell_type": "code",
   "execution_count": 2,
   "metadata": {},
   "outputs": [
    {
     "data": {
      "text/html": [
       "<strong id=\"expr\">expr:</strong> <a class=\"ProveItLink\" href=\"expr.ipynb\"><img src=\"data:image/png;base64,iVBORw0KGgoAAAANSUhEUgAAAMAAAAAYBAMAAABen+92AAAAMFBMVEX///8QEBC6urrMzMxUVFRm\n",
       "ZmZERETc3NwyMjKqqqp2dnaIiIiYmJgiIiLu7u4AAAAU9Wx4AAAAAXRSTlMAQObYZgAAAwFJREFU\n",
       "SMe1VktoU0EUPXn5J6+vwZUu1AgKbqRdiBspCRrrzgbtBwRppJAiFBuwtrooDd1UQW03glDBIKi4\n",
       "iwvBUrERN6KLfjaCGvtwUboplCao1VqdO5/X5CVtMepAZu7ce2fOnft7Af7t0PCfR10Fx/wre7N2\n",
       "zpuynR4GZoh4WyPAYbE0bXBuyZtbirHmYeAM8LiE/cdDnhuV22f52d1zgnQkgM4wfEA/23kTtd0f\n",
       "FB7S54Wfm17A1ShFESaKRKFn4GNC91htAA5x8dXOFC3ed8CiEk0x1nQGRgj6o4GBwRo9dFAs2akw\n",
       "LS42P1ei8+w3y/AvAF+Syfeb3XCpGtNvUWdFKpn3crSS9TNKVASuXGTrA+A40M1O9ba1dtkrxZuh\n",
       "2ZeyruZKzoza3+DzZ+5wnlJ+JXIWJ59+JOIOsB9GmlEvgSfE8ZQACHqaPf1yMpk0ldJ9Jd/B5zCG\n",
       "4hLAsiX4FViKMmIf1V6QXtgKNKRsAOM0GZ05aN2CIZSsSK5wY2OxloQs4iOWaSEGskbZxNZcHSXD\n",
       "B+Cc/QX82sBSHAuSIZSsXFyRPnWQC+DO4bQ6Wc+s178LACNN9WgUoI/YAUI0HfUkMCH2UimoGsQu\n",
       "mliK13FFY86wYhxhTnGtCheh+xjZ8WOy2bQBOLlhUfcMTsnWI5S0qFTooURgAL5lvl08kS0tgyE6\n",
       "/pr9bhNuIA19zwbAQxbUNL9IHwsuo0Mck0oCWOQgD4hnXewbbubzc6oMnDtNqeIgXE8cxmr5CxJ+\n",
       "Alhqa1/HXRk6oWQBHGKdZu8I9N5vPI1wQB1t/xWLXePFMUw2ElL9GLSCDUCj5OiAs6DSTyppqnU5\n",
       "UuUl2FVRlEZIUUMmBuM2AIqZxuxYg7fHLFHSVTlZhKzLdAVAQEUlMNrWeh3lAI34BIOleN/PHPRm\n",
       "VmhKyR22tWsx3PP5vIqBGouVnaY0TSeqdyifRfVt87nEya0BFqoDjG84Jbv555J3jMatAfw5SfQn\n",
       "RS8SI7r1922b4SrdvKqmEdjsf0KqGvM3CbjC6cVocXwAAAAASUVORK5CYII=\n",
       "\" style=\"display:inline;vertical-align:middle;\" /></a><br>"
      ],
      "text/plain": [
       "expr: forall_{B | [not](A subseteq B)} (A nsubseteq B)"
      ]
     },
     "execution_count": 2,
     "metadata": {},
     "output_type": "execute_result"
    }
   ],
   "source": [
    "# build up the expression from sub-expressions\n",
    "expr = Forall([B], NotSubsetEq(A, B), conditions = [Not(SubsetEq(A, B))])"
   ]
  },
  {
   "cell_type": "code",
   "execution_count": 3,
   "metadata": {},
   "outputs": [
    {
     "name": "stdout",
     "output_type": "stream",
     "text": [
      "Passed sanity check: built 'expr' is the same as the stored Expression.\n"
     ]
    }
   ],
   "source": [
    "# check that the built expression is the same as the stored expression\n",
    "%check_expr"
   ]
  },
  {
   "cell_type": "code",
   "execution_count": 4,
   "metadata": {},
   "outputs": [
    {
     "data": {
      "text/html": [
       "<table><tr><th>&nbsp;</th><th>core type</th><th>sub-expressions</th><th>expression</th></tr>\n",
       "<tr><td>0</td><td>Operation</td><td>operator:&nbsp;1<br>operand:&nbsp;2<br></td><td><a class=\"ProveItLink\" href=\"expr.ipynb\"><img src=\"data:image/png;base64,iVBORw0KGgoAAAANSUhEUgAAAMAAAAAYBAMAAABen+92AAAAMFBMVEX///8QEBC6urrMzMxUVFRm\n",
       "ZmZERETc3NwyMjKqqqp2dnaIiIiYmJgiIiLu7u4AAAAU9Wx4AAAAAXRSTlMAQObYZgAAAwFJREFU\n",
       "SMe1VktoU0EUPXn5J6+vwZUu1AgKbqRdiBspCRrrzgbtBwRppJAiFBuwtrooDd1UQW03glDBIKi4\n",
       "iwvBUrERN6KLfjaCGvtwUboplCao1VqdO5/X5CVtMepAZu7ce2fOnft7Af7t0PCfR10Fx/wre7N2\n",
       "zpuynR4GZoh4WyPAYbE0bXBuyZtbirHmYeAM8LiE/cdDnhuV22f52d1zgnQkgM4wfEA/23kTtd0f\n",
       "FB7S54Wfm17A1ShFESaKRKFn4GNC91htAA5x8dXOFC3ed8CiEk0x1nQGRgj6o4GBwRo9dFAs2akw\n",
       "LS42P1ei8+w3y/AvAF+Syfeb3XCpGtNvUWdFKpn3crSS9TNKVASuXGTrA+A40M1O9ba1dtkrxZuh\n",
       "2ZeyruZKzoza3+DzZ+5wnlJ+JXIWJ59+JOIOsB9GmlEvgSfE8ZQACHqaPf1yMpk0ldJ9Jd/B5zCG\n",
       "4hLAsiX4FViKMmIf1V6QXtgKNKRsAOM0GZ05aN2CIZSsSK5wY2OxloQs4iOWaSEGskbZxNZcHSXD\n",
       "B+Cc/QX82sBSHAuSIZSsXFyRPnWQC+DO4bQ6Wc+s178LACNN9WgUoI/YAUI0HfUkMCH2UimoGsQu\n",
       "mliK13FFY86wYhxhTnGtCheh+xjZ8WOy2bQBOLlhUfcMTsnWI5S0qFTooURgAL5lvl08kS0tgyE6\n",
       "/pr9bhNuIA19zwbAQxbUNL9IHwsuo0Mck0oCWOQgD4hnXewbbubzc6oMnDtNqeIgXE8cxmr5CxJ+\n",
       "Alhqa1/HXRk6oWQBHGKdZu8I9N5vPI1wQB1t/xWLXePFMUw2ElL9GLSCDUCj5OiAs6DSTyppqnU5\n",
       "UuUl2FVRlEZIUUMmBuM2AIqZxuxYg7fHLFHSVTlZhKzLdAVAQEUlMNrWeh3lAI34BIOleN/PHPRm\n",
       "VmhKyR22tWsx3PP5vIqBGouVnaY0TSeqdyifRfVt87nEya0BFqoDjG84Jbv555J3jMatAfw5SfQn\n",
       "RS8SI7r1922b4SrdvKqmEdjsf0KqGvM3CbjC6cVocXwAAAAASUVORK5CYII=\n",
       "\" style=\"display:inline;vertical-align:middle;\" /></a></td></tr>\n",
       "<tr><td>1</td><td>Literal</td><td></td><td><a class=\"ProveItLink\" href=\"../../../../boolean/quantification/universal/__pv_it/265f8c02ac1094d56e0e6410a1c1fd3500dc9f540/expr.ipynb\"><img src=\"data:image/png;base64,iVBORw0KGgoAAAANSUhEUgAAAAwAAAAQBAMAAADQT4M0AAAAMFBMVEX///8QEBC6urrMzMxUVFRm\n",
       "ZmZERETc3NwyMjKqqqp2dnaIiIiYmJgiIiLu7u4AAAAU9Wx4AAAAAXRSTlMAQObYZgAAAFhJREFU\n",
       "CNdjeMAABhdAxGmGlSCqj6EMSLInMHAAJVknMPAsLy+vBYp8S0u7BaScGRjSgZQKA18DkOJl4D4A\n",
       "pLgP8IJM4mswARuX7gSmpoKNZWDcAKZ4gCoAgTQTILaSE58AAAAASUVORK5CYII=\n",
       "\" style=\"display:inline;vertical-align:middle;\" /></a></td></tr>\n",
       "<tr><td>2</td><td>Lambda</td><td>parameter:&nbsp;12<br>body:&nbsp;3<br>conditions:&nbsp;4<br></td><td><a class=\"ProveItLink\" href=\"../98e285f9271cdb9fc1eb58fd11e4c230f829444d0/expr.ipynb\"><img src=\"data:image/png;base64,iVBORw0KGgoAAAANSUhEUgAAAPAAAAAYCAMAAADznIBPAAAANlBMVEX///8UFBQNDQ2qqqru7u4i\n",
       "IiJ2dnbc3NyIiIjMzMxmZmYQEBC6uroyMjJERERUVFSYmJgAAAC3B9V0AAAAAXRSTlMAQObYZgAA\n",
       "AnRJREFUWMPlmNtygyAQhm0BOZ/e/2VrNOgCgoumM53p3kRHw8efPZJp+jUz0z8zNvY64X9ZjBGX\n",
       "r4S597B2/2yeMy92tBOCj9Ev5iwyDKXP7k59aWlOyxlKjgrGMCuJTah264eKOMW5GBvzp8IyxrRm\n",
       "LF8sZ9hRwX3mBn0ZCiqjeH96jF6RBVdgkWa/vXjd+tKFBaOK+AvBXWaC1mHRgIq4VYwQZ4xgDRfn\n",
       "REVQbzhbb2jlwYJB9ZjgHjNBT36mBtS9L5immIqViRHLqmCvfrsWofxWyXBkRHCXmaC1taCbw7l1\n",
       "u97cQSTbnIJhYOhE4qEuebauKSVjViOCe8yTcLqALhEuhFAsNJuoh563kGWORAG1lMx1NhUMYkcE\n",
       "95hFAUdA35FOmW8Jph4kiTb5OMWjKtmWN7LpYBjdFqzYbvM1sy24BU2RLo44+f5imWmQM+BSvrqc\n",
       "j64IDema2bQzZMR4OGnpMptDXQuamhEo0uUSsCwA+HalQXSq19LKNLIJMG4LrpmTIr0UrqAy6feR\n",
       "NAQrGKJ6f4ukGgiCf+n8lJ1kU8nohXQtuMtcoacpfA5NzYpH2wgSmXV9F/Z2eDL2UOuVaDbEgxHs\n",
       "iOA+c4HWs2ob+o50qcH0lm85786poezdwOVjj4m2mvJqBrItSRxzMh4LVW4bsK0N2KPS6n7udFyL\n",
       "cVgWsHD3RlVd9IRRHlQuBo8L5lnrRkCRpvtHVycRawyPlp84LldQ7MGyO3Fzi1ljFmOCw/wBwfPd\n",
       "I7Vtj9yKxb15dyTQh8fDEsruQbHG/dO/djwfFcz9Ywf7+2nBxbPYE3WaC3OfiTMhp98wS6f/Zfxv\n",
       "b+8HxFIhrVvuwyUAAAAASUVORK5CYII=\n",
       "\" style=\"display:inline;vertical-align:middle;\" /></a></td></tr>\n",
       "<tr><td>3</td><td>Operation</td><td>operator:&nbsp;5<br>operands:&nbsp;10<br></td><td><a class=\"ProveItLink\" href=\"../9de9c2208e8b5dbd6462366802372807db98e34b0/expr.ipynb\"><img src=\"data:image/png;base64,iVBORw0KGgoAAAANSUhEUgAAADsAAAAYBAMAAAC2M5gYAAAAMFBMVEX///92dnYQEBBERERUVFS6\n",
       "urqIiIhmZmaqqqrc3Nzu7u6YmJgyMjIiIiLMzMwAAACFkkdwAAAAAXRSTlMAQObYZgAAASVJREFU\n",
       "KM9jYEADrAx4AS9+6Y1YxN4imKcgFLf/Fxfno1Cx81A65+4l3asQJpMBA0N9AETp/QUQQ7IYWB5A\n",
       "Vb5PAGIHMHNG/QQQxXmTgWENzJJ8oNB+ATAzIR9sCguQzIZJGwHxJbChrAv6N4BokM4LMOkvDAxz\n",
       "rMCspWCLGBieMDBwCEBl+b6kpd+GMAMY5hdApXkmQKXZfjIwrAW7jM/Fxd8AGmCPYWYzKwCV/IaG\n",
       "MtMBEIN9A0MpTJofqJP7I4jVANSnAGJwXeWCu+w90LEsP0C+BUrzfACLrXFPQPb2/ANQ7zD/ggjG\n",
       "n7179yrM23w6QG9P1j/JwG3/B+x0hnCY5uL/Li5nNqDHnB3euOY8gE+W/f7duzC7qZSQGDASEi4w\n",
       "AUMEAKd1TsMuccRHAAAAAElFTkSuQmCC\n",
       "\" style=\"display:inline;vertical-align:middle;\" /></a></td></tr>\n",
       "<tr><td>4</td><td>ExprTuple</td><td>6</td><td><a class=\"ProveItLink\" href=\"../edcacf8f841b80710339aaa966d6ed031a90c31b0/expr.ipynb\"><img src=\"data:image/png;base64,iVBORw0KGgoAAAANSUhEUgAAAGkAAAAVBAMAAAC3TN2zAAAAMFBMVEX////c3NwiIiJERESqqqqY\n",
       "mJh2dnZmZmYQEBDu7u4yMjJUVFTMzMyIiIi6uroAAAAs73DqAAAAAXRSTlMAQObYZgAAAahJREFU\n",
       "OMudUz1Iw1AQvtjGpm3SZnBSxBoQnIqLoJPdXEWho3ZzEgTBSVDBxQ4SnKRTEUR00IJjBotrh7qJ\n",
       "YjG4qQgV/9Bi6717aXtaIWDge9/L3X28+3kP4H9f7Jz9PPoEz3qAEjPqBUmJjnD1tOacHEGoCAQ4\n",
       "YL6ILanq/V9ZlpWUW20EYNWFPG4RBk+wImn6Q/LZZdtVxrhyAdK4RWg2U23Sqkw+SR5krhsTYC4D\n",
       "O7hF3PPG5IkMo04cdZlvDDFsQyAFAsvME8oQ3QVfiXO8HTWA3nGA7kXCHm/GlFjDrv4FHd2tVS6G\n",
       "kIN5whYeYYkPz9EopRgo7x0qA0vdxrnE1gh1Nqo4qUqO80ymLqYKYLSBietVQqcKl6wsM9VWxdGt\n",
       "vrVUG0ylibCgaBaZwkk2Liw5+tLKcJSpAqIbPYhjacut/BjXAHZClZhv2ouyrWExswlv9A+7zRuF\n",
       "49Kzdqvzt3zKCVDGPk2Yaez/urxLDcc5FJlEXIJmMue677vybpSaYba0r2rBwx8vpXnBaPpJbhJV\n",
       "U+V9zKgUfI6KmhKg8AfW76O6lvgGCeFwohZKWb0AAAAASUVORK5CYII=\n",
       "\" style=\"display:inline;vertical-align:middle;\" /></a></td></tr>\n",
       "<tr><td>5</td><td>Literal</td><td></td><td><a class=\"ProveItLink\" href=\"../cdabae2cfd2d5cc37cb8344ff36c341d3e7aa01f0/expr.ipynb\"><img src=\"data:image/png;base64,iVBORw0KGgoAAAANSUhEUgAAAA4AAAAYBAMAAAA46dFkAAAAMFBMVEX///9mZmZERESqqqrc3NxU\n",
       "VFTMzMwQEBCIiIju7u4yMjJ2dnaYmJgiIiK6uroAAABa5MLrAAAAAXRSTlMAQObYZgAAAHRJREFU\n",
       "CNdjYAABPgYI4IXSp6H0ShDRdfd67T0GhtxOBtYEBgaWKwwMs4CirA8YGHoYIOwLQJzKwMC8AUJz\n",
       "OUCMSgLpZjzAIAeiOe9xXgCbOSuwAWL4+7V37wLNZXgItUwNQrEsAFOM9+/eBctjdRMQOIBJAMux\n",
       "HePokPHDAAAAAElFTkSuQmCC\n",
       "\" style=\"display:inline;vertical-align:middle;\" /></a></td></tr>\n",
       "<tr><td>6</td><td>Operation</td><td>operator:&nbsp;7<br>operand:&nbsp;8<br></td><td><a class=\"ProveItLink\" href=\"../3c5d6d50e9c9e97b9eb92ef76f9eb7d3c9e8d02a0/expr.ipynb\"><img src=\"data:image/png;base64,iVBORw0KGgoAAAANSUhEUgAAAFoAAAAVBAMAAAA0iOSIAAAAMFBMVEX////c3NxERESqqqqYmJgQ\n",
       "EBDu7u4yMjKIiIi6urpUVFTMzMx2dnYiIiJmZmYAAABjE816AAAAAXRSTlMAQObYZgAAAWVJREFU\n",
       "KM9jYCATcDbgl2eZgMzbBaH2Yqrz+r9qlfoEhtfIYmUQqh7K5ai9e/cu1LggBga+nwzsSIo5IA5h\n",
       "uZ8AprlvJMCluH8A8S8GlgMI1awQWeH3AmBaVgDJoI9AU/4wsAUghKZDqIZ+iO0rkaxlAirjDWNg\n",
       "UEYIvYEETIK9A4hmK0BSzb+AgbEIaPU5hFAJmMxk2A92P/cCJNX7V3S8BZlhzvAW6PO7d4DMSLDE\n",
       "BAb5Bxiq+wUY2G4B6amIoP4JVrRq1XoFsNAFJNWqIB1Aw/ejqeYEhg3ExY+RVP8CYv8DKKqDQQwD\n",
       "oOch4ZSLiGfuL0BivQGKS1SAmBEoxP4BLMRWtwE5uBm/AxnuUN0MkOBJBwXuN2giWw6LeVBwby1j\n",
       "QAnBuQwMQvGFDCz63x+gpik+/V+rloPDtxIp5gUIJWnkmEdOM9gBTwNmioUCcKzdRckA6cgcKUJm\n",
       "L0TmMBLIaRwbGADis19fw20chAAAAABJRU5ErkJggg==\n",
       "\" style=\"display:inline;vertical-align:middle;\" /></a></td></tr>\n",
       "<tr><td>7</td><td>Literal</td><td></td><td><a class=\"ProveItLink\" href=\"../../../../boolean/negation/__pv_it/7bea79645543c2413aa17e787cca04e21046fde60/expr.ipynb\"><img src=\"data:image/png;base64,iVBORw0KGgoAAAANSUhEUgAAAAwAAAAGBAMAAAAFwGKyAAAAFVBMVEX///9UVFTMzMx2dnYiIiJm\n",
       "ZmYAAACWz4ZEAAAAAXRSTlMAQObYZgAAABRJREFUCNdjCHEBAmcGMFDEQzEBAEl+Ai6uYJv/AAAA\n",
       "AElFTkSuQmCC\n",
       "\" style=\"display:inline;vertical-align:middle;\" /></a></td></tr>\n",
       "<tr><td>8</td><td>Operation</td><td>operator:&nbsp;9<br>operands:&nbsp;10<br></td><td><a class=\"ProveItLink\" href=\"../586c891807183c577ae8a72ee7e3b9f21144c4d50/expr.ipynb\"><img src=\"data:image/png;base64,iVBORw0KGgoAAAANSUhEUgAAADsAAAARBAMAAACRPMnQAAAAMFBMVEX///92dnYQEBBERERUVFS6\n",
       "urqIiIhmZmaqqqrc3Nzu7u6YmJgyMjIiIiLMzMwAAACFkkdwAAAAAXRSTlMAQObYZgAAAO1JREFU\n",
       "KM9jYACBtwzogNv/i4vzUSjnPJTOuXv37lUIk8mAgaE+AKL0/gKIIVkI7e8TgNgBzJxRPwFEcd5E\n",
       "Mj0fKLRfAMxMyAebwhKAJG0ExJfAhrIu6N8Aotcgu+0LA8McKzBrKdgiBoYnSLJ8X9LSb0OYAQzz\n",
       "C9Cl2X4yMKwFu4zPxcXfAMTgRZJmVgAq+Q22GujJAyAGewNCmh+ok/sjiAUU5FUAMbiuInkb6FiW\n",
       "HyDfAqV5PoDF1tSheHv+Aah3mH9BBEPOwgIV6G0+HaC3J+ufZOC2/1OAGiPF/11czmxgoCJgv3sX\n",
       "EaEQAABXikRkFnmHwgAAAABJRU5ErkJggg==\n",
       "\" style=\"display:inline;vertical-align:middle;\" /></a></td></tr>\n",
       "<tr><td>9</td><td>Literal</td><td></td><td><a class=\"ProveItLink\" href=\"../e2e953faef156628f98c5cddef8a5f8ea43a24550/expr.ipynb\"><img src=\"data:image/png;base64,iVBORw0KGgoAAAANSUhEUgAAAA4AAAAQBAMAAADUulMJAAAAJFBMVEX///+qqqpmZmZUVFTc3Nzu\n",
       "7u7MzMy6uroiIiIyMjKIiIgAAABMlAC/AAAAAXRSTlMAQObYZgAAAD1JREFUCNdjYGBY2dHR0c7A\n",
       "kLGUAQRYWsAUA3MBhI6EUAzJaDQHlGYSgNCs7VCBSDUoo3gG2FwcgKkDBNoBPfYM6Npt1O0AAAAA\n",
       "SUVORK5CYII=\n",
       "\" style=\"display:inline;vertical-align:middle;\" /></a></td></tr>\n",
       "<tr><td>10</td><td>ExprTuple</td><td>11, 12</td><td><a class=\"ProveItLink\" href=\"../caee09fb4b5c95b986a9cee46a014afbad9bdc680/expr.ipynb\"><img src=\"data:image/png;base64,iVBORw0KGgoAAAANSUhEUgAAADUAAAAVBAMAAAAUZLt1AAAAMFBMVEX////c3NwiIiJERESqqqqY\n",
       "mJh2dnZmZmYQEBDu7u4yMjJUVFTMzMyIiIi6uroAAAAs73DqAAAAAXRSTlMAQObYZgAAATZJREFU\n",
       "KM9jYMAH+C5gFY4DEach7EMwQdb9v3dvXsfAfgDIXgkRWg/XwWHAwFD/gGEBAwMvxEhW/QkwufNA\n",
       "kfMbGMKAqiBiIvUCMLn7QFZ8AsMMBoZXEIEL9x/A5CyAWGMCA7MDQxnEsRP8A2ByvxkYpCwZGNgK\n",
       "GJaC+fPAtoABz++711WBNMsChj6wwAMG+QKoHO9HBoZJG4BGNTD8A6vdvXu/AVSOuQEo/xUo9gEi\n",
       "xwd07wKoHD9QD+s3sFwLiO/AwMDUAPMe0FHcX8BmmgK5jEA5rg8MDBNg3pMHGsK6gCEdyJ0FsuYn\n",
       "A+cnqPd4uiaA/fCIgUG4fyEDq/2vAs5+oJbi/7t3rwL5lesBA4cAUnQhsUFhxpqA4LIiR2AuIo7Q\n",
       "5ThBfpJG8JFTADfIfEbsaeIOAwMABOxNRsfkiy0AAAAASUVORK5CYII=\n",
       "\" style=\"display:inline;vertical-align:middle;\" /></a></td></tr>\n",
       "<tr><td>11</td><td>Variable</td><td></td><td><a class=\"ProveItLink\" href=\"../../../../../__pv_it/2cbe72a7ad6f655694dd697106680215e8489b600/expr.ipynb\"><img src=\"data:image/png;base64,iVBORw0KGgoAAAANSUhEUgAAAA8AAAAOBAMAAAACpFvcAAAALVBMVEX///8QEBBERERUVFS6urqI\n",
       "iIhmZmaqqqrc3Nzu7u6YmJgyMjIiIiLMzMwAAADtIaYWAAAAAXRSTlMAQObYZgAAAFtJREFUCNdj\n",
       "YACBOwxQsA9Kc52bAGG05zVAGAFxDmCaZULdAjBjCsO9ADDDgaEvAUTzGhvbKYCVMDAwbgAxChgY\n",
       "eASANAeQwf0AyJgNxEwvGRia5HYwcOm9TgAA6BoR3jrzwFcAAAAASUVORK5CYII=\n",
       "\" style=\"display:inline;vertical-align:middle;\" /></a></td></tr>\n",
       "<tr><td>12</td><td>Variable</td><td></td><td><a class=\"ProveItLink\" href=\"../../../../../__pv_it/077b2ff79244fb4582cbe22c6e3356fa92a52f2f0/expr.ipynb\"><img src=\"data:image/png;base64,iVBORw0KGgoAAAANSUhEUgAAABAAAAAOBAMAAADUAYG5AAAAMFBMVEX///+qqqru7u4iIiJ2dnbc\n",
       "3NyIiIjMzMxmZmYQEBC6uroyMjJERERUVFSYmJgAAADLUcuvAAAAAXRSTlMAQObYZgAAAGpJREFU\n",
       "CNdjYGB4+//u3dMLGIBgDgMDxy8gzf4NiP8CGWxfGRj4vgAZPBMYGJgnARn8FxhY9ygAGfXX0pof\n",
       "gDTlBzAw2YIYJ0EckBBI53sHoBH/gIz7AhBjWH9DjancBLTl/N+7t/cxMAAA3u4f/5xagjYAAAAA\n",
       "SUVORK5CYII=\n",
       "\" style=\"display:inline;vertical-align:middle;\" /></a></td></tr>\n",
       "</table>\n"
      ],
      "text/plain": [
       "0. forall_{B | [not](A subseteq B)} (A nsubseteq B)\n",
       "   core type: Operation\n",
       "   operator: 1\n",
       "   operand: 2\n",
       "1. forall\n",
       "   core type: Literal\n",
       "   sub-expressions: \n",
       "2. B -> (A nsubseteq B) | [not](A subseteq B)\n",
       "   core type: Lambda\n",
       "   parameter: 12\n",
       "   body: 3\n",
       "   conditions: 4\\n3. A nsubseteq B\n",
       "   core type: Operation\n",
       "   operator: 5\n",
       "   operands: 10\n",
       "4. ([not](A subseteq B))\n",
       "   core type: ExprTuple\n",
       "   sub-expressions: 6\n",
       "5. nsubseteq\n",
       "   core type: Literal\n",
       "   sub-expressions: \n",
       "6. [not](A subseteq B)\n",
       "   core type: Operation\n",
       "   operator: 7\n",
       "   operand: 8\n",
       "7. not\n",
       "   core type: Literal\n",
       "   sub-expressions: \n",
       "8. A subseteq B\n",
       "   core type: Operation\n",
       "   operator: 9\n",
       "   operands: 10\n",
       "9. subseteq\n",
       "   core type: Literal\n",
       "   sub-expressions: \n",
       "10. (A , B)\n",
       "    core type: ExprTuple\n",
       "    sub-expressions: 11, 12\n",
       "11. A\n",
       "    core type: Variable\n",
       "    sub-expressions: \n",
       "12. B\n",
       "    core type: Variable\n",
       "    sub-expressions: "
      ]
     },
     "execution_count": 4,
     "metadata": {},
     "output_type": "execute_result"
    }
   ],
   "source": [
    "# display the expression information\n",
    "expr.exprInfo()"
   ]
  },
  {
   "cell_type": "code",
   "execution_count": null,
   "metadata": {},
   "outputs": [],
   "source": []
  }
 ],
 "metadata": {
  "kernelspec": {
   "display_name": "Python 3",
   "language": "python",
   "name": "python3"
  }
 },
 "nbformat": 4,
 "nbformat_minor": 0
}
