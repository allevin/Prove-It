{
 "cells": [
  {
   "cell_type": "markdown",
   "metadata": {},
   "source": [
    "Expression of type <a class=\"ProveItLink\" href=\"../../../../../../../doc/html/api/proveit.Lambda.html\">Lambda</a>\n",
    "=======================\n",
    "# from context <a class=\"ProveItLink\" href=\"../../_context_.ipynb\">proveit.logic.set_theory.containment</a>"
   ]
  },
  {
   "cell_type": "code",
   "execution_count": 1,
   "metadata": {},
   "outputs": [],
   "source": [
    "# import Expression classes needed to build the expression\n",
    "from proveit import Lambda\n",
    "from proveit._common_ import A, B\n",
    "from proveit.logic import Equals, Not, NotSupersetEq, SupersetEq"
   ]
  },
  {
   "cell_type": "code",
   "execution_count": 2,
   "metadata": {},
   "outputs": [
    {
     "data": {
      "text/html": [
       "<strong id=\"expr\">expr:</strong> <a class=\"ProveItLink\" href=\"expr.ipynb\"><img src=\"data:image/png;base64,iVBORw0KGgoAAAANSUhEUgAAARUAAAAYCAMAAADj2Zm6AAAANlBMVEX///8UFBQNDQ2qqqru7u4i\n",
       "IiJ2dnbc3NyIiIjMzMxmZmYQEBC6uroyMjJERERUVFSYmJgAAAC3B9V0AAAAAXRSTlMAQObYZgAA\n",
       "Ar9JREFUWMPtWNt6pCAMZheQ8+n9X3Z1FIUAQ+i2F/3a3CRjHP/fkJAIIV8vkvxKIyr8lDe1Ehpj\n",
       "0faNM9o1vAUPTjIBqHcrpBR28c4uLn+dB4r3bgYXAZhW/5VuGAIERQDqXYw/ryRcWByDxvkrPbbg\n",
       "p7iwwX/XYG4Fb+LpEpAMRwBqopK8NGoPkBIa5yLw1LJnhoNsAGBxw+NNPH0CEUkAaiKTOC+kDRMV\n",
       "w6DxWhyqr8fUKS54fRWAMYPHe+/pEziyBkUAauIvg4/xyw3OQeNqwLJTgEERWycgBPMUizfx9Akc\n",
       "t+EIQH2mknD+CUrNhJbM9QaNFzQjNMUmf13zLAi26VkT21CePoHOy4wIAL0XmJRS8zjuHKFIIheh\n",
       "cby+fQq2XL945ktZ1QCM3py1KyS0eO3bzgnkhEUQAPoqNMbDMCosPLVpLDSOlTrCn3S3LVekGjA7\n",
       "21guGM1v2fAECJ4A0LnQZJGAf//wSsxTsrdVVLE6JoCQPKBDdRPhBkylSVSazeIeUuYEOks8JAB0\n",
       "7sdlC4LzULDkXVROy8B90Ys7NHVVF2CfE5UBgWJtpgRqrXLQQqKjqOiiuRkKDULzrg564rF0lrOq\n",
       "qiHYU0G6TE7f4jVRmRI4AZAEap37t0hutK+ochfzERqCtrPl6zUpUboeP1uwOJtufRxFZUrguBlN\n",
       "oNZXoSlT/r3ezKvn3q00Gyw/3z+z5WvgTvvADxa6BZt25vYGhSXAVwiUWvvzY8mNG2CTkZUhvEnu\n",
       "iH/cn+TKN2iH+R7Y9JPU8veeMYHOhPOGANSLYgQ0Vj/qqg8lPN6CBy/DiX/1TGIbJsP6cdMm8XgL\n",
       "HrxkAlAvy+Akof4k23eVpp10VuozTxIAAb5CAOp1EQEaPTjMERAJYgVvwYOVTADqj4RFQmPlVKS8\n",
       "Sa3hLXhwkglA/VXCGfmVdhW/L/V/yhgna/lvof8AAAAASUVORK5CYII=\n",
       "\" style=\"display:inline;vertical-align:middle;\" /></a><br>"
      ],
      "text/plain": [
       "expr: B -> ((A nsupseteq B) = [not](A supseteq B))"
      ]
     },
     "execution_count": 2,
     "metadata": {},
     "output_type": "execute_result"
    }
   ],
   "source": [
    "# build up the expression from sub-expressions\n",
    "expr = Lambda(B, Equals(NotSupersetEq(A, B), Not(SupersetEq(A, B))))"
   ]
  },
  {
   "cell_type": "code",
   "execution_count": 3,
   "metadata": {},
   "outputs": [
    {
     "name": "stdout",
     "output_type": "stream",
     "text": [
      "Passed sanity check: built 'expr' is the same as the stored Expression.\n"
     ]
    }
   ],
   "source": [
    "# check that the built expression is the same as the stored expression\n",
    "%check_expr"
   ]
  },
  {
   "cell_type": "code",
   "execution_count": 4,
   "metadata": {},
   "outputs": [
    {
     "data": {
      "text/html": [
       "<table><tr><th>&nbsp;</th><th>core type</th><th>sub-expressions</th><th>expression</th></tr>\n",
       "<tr><td>0</td><td>Lambda</td><td>parameter:&nbsp;12<br>body:&nbsp;1<br></td><td><a class=\"ProveItLink\" href=\"expr.ipynb\"><img src=\"data:image/png;base64,iVBORw0KGgoAAAANSUhEUgAAARUAAAAYCAMAAADj2Zm6AAAANlBMVEX///8UFBQNDQ2qqqru7u4i\n",
       "IiJ2dnbc3NyIiIjMzMxmZmYQEBC6uroyMjJERERUVFSYmJgAAAC3B9V0AAAAAXRSTlMAQObYZgAA\n",
       "Ar9JREFUWMPtWNt6pCAMZheQ8+n9X3Z1FIUAQ+i2F/3a3CRjHP/fkJAIIV8vkvxKIyr8lDe1Ehpj\n",
       "0faNM9o1vAUPTjIBqHcrpBR28c4uLn+dB4r3bgYXAZhW/5VuGAIERQDqXYw/ryRcWByDxvkrPbbg\n",
       "p7iwwX/XYG4Fb+LpEpAMRwBqopK8NGoPkBIa5yLw1LJnhoNsAGBxw+NNPH0CEUkAaiKTOC+kDRMV\n",
       "w6DxWhyqr8fUKS54fRWAMYPHe+/pEziyBkUAauIvg4/xyw3OQeNqwLJTgEERWycgBPMUizfx9Akc\n",
       "t+EIQH2mknD+CUrNhJbM9QaNFzQjNMUmf13zLAi26VkT21CePoHOy4wIAL0XmJRS8zjuHKFIIheh\n",
       "cby+fQq2XL945ktZ1QCM3py1KyS0eO3bzgnkhEUQAPoqNMbDMCosPLVpLDSOlTrCn3S3LVekGjA7\n",
       "21guGM1v2fAECJ4A0LnQZJGAf//wSsxTsrdVVLE6JoCQPKBDdRPhBkylSVSazeIeUuYEOks8JAB0\n",
       "7sdlC4LzULDkXVROy8B90Ys7NHVVF2CfE5UBgWJtpgRqrXLQQqKjqOiiuRkKDULzrg564rF0lrOq\n",
       "qiHYU0G6TE7f4jVRmRI4AZAEap37t0hutK+ochfzERqCtrPl6zUpUboeP1uwOJtufRxFZUrguBlN\n",
       "oNZXoSlT/r3ezKvn3q00Gyw/3z+z5WvgTvvADxa6BZt25vYGhSXAVwiUWvvzY8mNG2CTkZUhvEnu\n",
       "iH/cn+TKN2iH+R7Y9JPU8veeMYHOhPOGANSLYgQ0Vj/qqg8lPN6CBy/DiX/1TGIbJsP6cdMm8XgL\n",
       "HrxkAlAvy+Akof4k23eVpp10VuozTxIAAb5CAOp1EQEaPTjMERAJYgVvwYOVTADqj4RFQmPlVKS8\n",
       "Sa3hLXhwkglA/VXCGfmVdhW/L/V/yhgna/lvof8AAAAASUVORK5CYII=\n",
       "\" style=\"display:inline;vertical-align:middle;\" /></a></td></tr>\n",
       "<tr><td>1</td><td>Operation</td><td>operator:&nbsp;2<br>operands:&nbsp;3<br></td><td><a class=\"ProveItLink\" href=\"../768b82f1beca2fc57460d651fd3fbb95fbd87ddd0/expr.ipynb\"><img src=\"data:image/png;base64,iVBORw0KGgoAAAANSUhEUgAAANEAAAAYBAMAAACW8wWgAAAAMFBMVEX////c3NwiIiJERESqqqqY\n",
       "mJh2dnZmZmYQEBDu7u4yMjJUVFTMzMyIiIi6uroAAAAs73DqAAAAAXRSTlMAQObYZgAAAsdJREFU\n",
       "SMe9Vk1oE0EUfttkm02aTZfYkyINC4KKkAgW6qm5FbxYFHLwoLl5EgpCT2Ir9GIPuhSE0oPEQ5FU\n",
       "rBG9baHBi4ce0psXQ5ectCBU/KMNps7Mm53MzqjbSzvwdmbfzHzfvG/ezC6AXmw4rrJ5RLi5LdVz\n",
       "P/JmBjFzvsQQ3OQWRvCu31XgFBtd/80awL3/R51tYFXQRnGAVBOYQR3dr9gz77ruiyofaZUAZgPI\n",
       "6Ex1qZ3xsNoVAC+9KECNNInZKIRZDLth6QJvtEhXqwFmVUsZWbw2Vtf2hOeJAlAhTWIWMozMOkKa\n",
       "PG9uk/pWFdJzKpPlSS8P2dOY/Np3KQBLdPkAO+jc2hYbv55D5WGc2FkCekll2pGTo4Zh2j3JFwVI\n",
       "lIHaDPZ5V6f4sHQNcDJ0AU5eJvVtlWlGaqdQ28/JH5IzCjA4zWyF+Z4yTXF1U7CO2dRtfzhDG1cY\n",
       "4iorbLUrckKwFaaD7G/JGQVI1pg9Ys4ARqf5qIFwoE2UX6TIn9SYyJyUSwuJx2Kq58D4pTGFALk5\n",
       "ZkzerO9vlPioyfBAJcgAm2rSUpl60lEaZkybvv8N1BMZAmR3mfVwSWBxbeEiJDG8YYJj/jwcE3ks\n",
       "9PsVAM40T30kOQZ4Lhsl6GASt8gODH0P1UO5XBb5vMRklSk0TbI+kwLA1Ruj6GVxxiFVfl/vn4ZR\n",
       "GukNNaYxiSlBM2JEXDK0qAAmGk3hZSrqHl4mxfNvQZyG7IL3tywXjiamcJquZ8Ljt5EGwLO8A3Di\n",
       "8TMwJ/ZR3EqIcvfA91dZCq+pTB355BbAGN934PrBc2WUAMgEzCzn35cnP8r6bSTPeRD7XeK3kXJ/\n",
       "8m+AXAa1D1hkTiWW6Q63SBD5okgwUZYP9dUIAVwNgO4i28lTEYxFHfa17pLnGI2YkIYcNDAi4rT1\n",
       "/5emPjky53QM00duSjl3bP9FzpEh/wF3MdPHEIOc7AAAAABJRU5ErkJggg==\n",
       "\" style=\"display:inline;vertical-align:middle;\" /></a></td></tr>\n",
       "<tr><td>2</td><td>Literal</td><td></td><td><a class=\"ProveItLink\" href=\"../../../../equality/__pv_it/2fb26078095930560931daa0500ce419a39ea6cd0/expr.ipynb\"><img src=\"data:image/png;base64,iVBORw0KGgoAAAANSUhEUgAAAA4AAAAFBAMAAACHocAhAAAAFVBMVEX///9EREQiIiJUVFQyMjJm\n",
       "ZmYAAADubVkoAAAAAXRSTlMAQObYZgAAABRJREFUCNdjCHEBAWcGXCBICQQUAUpuAwlgGKrkAAAA\n",
       "AElFTkSuQmCC\n",
       "\" style=\"display:inline;vertical-align:middle;\" /></a></td></tr>\n",
       "<tr><td>3</td><td>ExprTuple</td><td>4, 5</td><td><a class=\"ProveItLink\" href=\"../81555409caae7dffc08b70e64c32b5b01bef1d0a0/expr.ipynb\"><img src=\"data:image/png;base64,iVBORw0KGgoAAAANSUhEUgAAAK8AAAAYBAMAAAB+c7CLAAAAMFBMVEX////c3NwiIiJERESqqqqY\n",
       "mJh2dnZmZmYQEBDu7u4yMjJUVFTMzMyIiIi6uroAAAAs73DqAAAAAXRSTlMAQObYZgAAAm9JREFU\n",
       "SMe1VT1oFEEUfnN36+0me5cF04l4ro0/hWkCweauS+kRIY2g11kJh4iFjedPEwuzpViEFRE5LEya\n",
       "FC6Sw0q4IjYWgiGLnYqQnKjkgokzb352Z/bINsnAtzP79ttvZ958bwdgRPsIR9Pc5UORqWbmV44P\n",
       "4v/M0bsmAH1+/z55VBD91f0ouhSPXo5byygKerkHCOjy8Bu8Et/3z69K6kNK2TNeHwt4t6Xonw16\n",
       "CIgKz4R1MZDPnQc9Mbl/FLuG8Abv5nYUfc6gzwPC5oKT9zy12JXTfFDZph/8Ywgv8JXNbqsIMehP\n",
       "AfFdOGxTJXO894MPih2a7wVjq0MuUkmlyKAXG4g7nB9cbkreMxjjg4llIC8CwzEt7L6VfqfSrtOP\n",
       "tREvMbgE68p1n+iccbD+buNW09w7DDgxS2iyRI1eChFPMBjDqbbk1SRz0wPngpiozxqdrY0ZqwL5\n",
       "mxGW9GoHgblyo2htStBKbWnkGcZu6haeQOF+FP3K+F7S3S3EHp8B2KGgFT2Y5SPmtOutUcL08jiJ\n",
       "G3Qh/IjF6D4WOoJ2HKrnuA7bn7WGLmyz+xLF2cQoBl2kYpo5sSFLibbb7t1A+ZIMAYK0cJGlZlJV\n",
       "KosadLBCxA00GH1jR9To4HUj8eWHLjgDNbce95LDslYPREkbdGW3r3Txi8/Bqg+5LSyZ1HJ9N3pL\n",
       "zegseukCqQGZGXpwZf+VYXBBp2uPEbY38ieT1tIY93P/w6KkrZYe7meIlnY3nyt8U6CbDhJ/QNN2\n",
       "5gBhbUUE60ansx3AXTihh2s5JyDJO7fGPQ4g2ouV3IP0ZM7zLwJGKwRHdEKTwxL6D9PltwbaZ0n9\n",
       "AAAAAElFTkSuQmCC\n",
       "\" style=\"display:inline;vertical-align:middle;\" /></a></td></tr>\n",
       "<tr><td>4</td><td>Operation</td><td>operator:&nbsp;6<br>operands:&nbsp;10<br></td><td><a class=\"ProveItLink\" href=\"../e93b75139355971858a3a0fcf004e7fb734402600/expr.ipynb\"><img src=\"data:image/png;base64,iVBORw0KGgoAAAANSUhEUgAAADsAAAAYBAMAAAC2M5gYAAAAMFBMVEX///92dnYQEBBERERUVFS6\n",
       "urqIiIhmZmaqqqrc3Nzu7u6YmJgyMjIiIiLMzMwAAACFkkdwAAAAAXRSTlMAQObYZgAAASRJREFU\n",
       "KM9jYEADbAx4wRP80qVYxN4imBcgFLf/Fxfno1Cx82By7t27d48IQIWYDBgY6gMgSu8vgGledA/K\n",
       "eJ8AxA5g5oz6CXCXzYUy84H0fohRCfkBMGk/VogOBiMgvgQ2lHVB/waoLNcBhgMQ1hcGhjlWYNZS\n",
       "sEWQQNnA4Adm8H1JS78NEQtgmF8AleZlgEqz/WRgWAu2h8/Fxd8AKt0O8zizAlDJb7DVQE9CLWSw\n",
       "ZOCAGMQP1Mn9EcRqAJqpAJHlNGCIhQTBe6BjWX6AhIDSPB8g0uwNz08hvD0fZOYakE2/IIF6/44H\n",
       "A9zbfDpAgybrn2Tgtv8DsXEjLHSK/7u4nNmAHnOn8MY1nwM+2bn3gTF61wCn/Fr8CSkNv/Qt/NIT\n",
       "MEQAjr9Prm7ut9AAAAAASUVORK5CYII=\n",
       "\" style=\"display:inline;vertical-align:middle;\" /></a></td></tr>\n",
       "<tr><td>5</td><td>Operation</td><td>operator:&nbsp;7<br>operand:&nbsp;8<br></td><td><a class=\"ProveItLink\" href=\"../83db08eed61502eac30a181ad08f92051e60d40b0/expr.ipynb\"><img src=\"data:image/png;base64,iVBORw0KGgoAAAANSUhEUgAAAFoAAAAVBAMAAAA0iOSIAAAAMFBMVEX////c3NxERESqqqqYmJgQ\n",
       "EBDu7u4yMjKIiIi6urpUVFTMzMx2dnYiIiJmZmYAAABjE816AAAAAXRSTlMAQObYZgAAAWNJREFU\n",
       "KM9jYCATcDbgl2eZgMzbBaH2Yqrz+r9qlfoEhtfIYmUQqh5MMt69e/d6G0wqiIGB7ycDO5JiDohD\n",
       "WO4nwETYfDdAGNw/gPgXA8sBhGpWiCrh9wJwIcaLUIM+Ak35w8AWgFA9HUI19CN5ZhaEYgIq4w1j\n",
       "YFBGyLyBBEyCvQNCDOpS/gUMjEVAq88hZErAZCbDfqSA5II4fP+KjrcgM8wZ3gI9f/cOkBkJlpjA\n",
       "IP8AQ3W/AAPbLSA9FRHUP8G+X7VqvQJCNS+EUgXpABq+H001JzBsChCq7SDULyD2P4CiOhjEMACa\n",
       "hwgnzmuQ4P4CJNYboLhEBRTAQCH2DzDF3M8T4MHN+B3IcIeKM0CCJx0UuN9gMV9lgAjurWUMKCE4\n",
       "l4FBKL6QgUX/+wPUNMWn/2vVcnD4ViLFvAChJI0c88hpBjvgacBMsQzwFHv37iUU1enIHClCZi9E\n",
       "MY5ATuPYwAAAVwxdBnsjd+4AAAAASUVORK5CYII=\n",
       "\" style=\"display:inline;vertical-align:middle;\" /></a></td></tr>\n",
       "<tr><td>6</td><td>Literal</td><td></td><td><a class=\"ProveItLink\" href=\"../750db171b2e8e944a2b1f3dc5b825c00ed5badfe0/expr.ipynb\"><img src=\"data:image/png;base64,iVBORw0KGgoAAAANSUhEUgAAAA4AAAAYBAMAAAA46dFkAAAAMFBMVEX///9ERESqqqqYmJgQEBDu\n",
       "7u52dnYyMjLc3NwiIiK6urpmZmZUVFTMzMyIiIgAAADs5GwKAAAAAXRSTlMAQObYZgAAAHVJREFU\n",
       "CNdjYAABPgYIuAOld0HpCQwMnTNnzqxJgHBD5kKVdTaA6bNcB0AUawFDAdgUA4azIJqTAUJrgw1g\n",
       "YJBgYNoApDgEGFYGAGluhdulIHPnTz8ENsUMalkphOIFm8nQOR9o8UwBBoZIqPQ7KD0VSkOcAAAo\n",
       "exszS18ZhgAAAABJRU5ErkJggg==\n",
       "\" style=\"display:inline;vertical-align:middle;\" /></a></td></tr>\n",
       "<tr><td>7</td><td>Literal</td><td></td><td><a class=\"ProveItLink\" href=\"../../../../boolean/negation/__pv_it/7bea79645543c2413aa17e787cca04e21046fde60/expr.ipynb\"><img src=\"data:image/png;base64,iVBORw0KGgoAAAANSUhEUgAAAAwAAAAGBAMAAAAFwGKyAAAAFVBMVEX///9UVFTMzMx2dnYiIiJm\n",
       "ZmYAAACWz4ZEAAAAAXRSTlMAQObYZgAAABRJREFUCNdjCHEBAmcGMFDEQzEBAEl+Ai6uYJv/AAAA\n",
       "AElFTkSuQmCC\n",
       "\" style=\"display:inline;vertical-align:middle;\" /></a></td></tr>\n",
       "<tr><td>8</td><td>Operation</td><td>operator:&nbsp;9<br>operands:&nbsp;10<br></td><td><a class=\"ProveItLink\" href=\"../5e6face9deb8f4990d49930649fd84e604ecfa3c0/expr.ipynb\"><img src=\"data:image/png;base64,iVBORw0KGgoAAAANSUhEUgAAADsAAAARBAMAAACRPMnQAAAAMFBMVEX///92dnYQEBBERERUVFS6\n",
       "urqIiIhmZmaqqqrc3Nzu7u6YmJgyMjIiIiLMzMwAAACFkkdwAAAAAXRSTlMAQObYZgAAAO9JREFU\n",
       "KM9jYACBtwzogNv/i4vzUSjnPJice/fu3WMLoEJMBgwM9QEQpfdhggyr70EZ7xOA2AHMnFE/AW7q\n",
       "XCgzH0jvFwAzE/ID4NKsEB0MRkB8CWwo64L+DQhHHYBQXxgY5liBWUvBFsGAH5jk+5KWfhsiEMAw\n",
       "vwBdmu0nA8NasD18Li7+BgjpC2CSWQGo5DfYaqAnD8BlOSAG8QN1cn8EsRoYGHgV4NKxkCB4D3Qs\n",
       "yw8ggxMozfMBJvv8FMLb80FmrgHZ9AsaqHc8GODe5tMBGjRZ/yQDt/2fAtQYKf7v4nJmAwMVAShC\n",
       "7941QBYCAC8bRZFIybTAAAAAAElFTkSuQmCC\n",
       "\" style=\"display:inline;vertical-align:middle;\" /></a></td></tr>\n",
       "<tr><td>9</td><td>Literal</td><td></td><td><a class=\"ProveItLink\" href=\"../bc0f4f75fcd25c7f3c501d50b7b90e3eb0564d7a0/expr.ipynb\"><img src=\"data:image/png;base64,iVBORw0KGgoAAAANSUhEUgAAAA4AAAAQBAMAAADUulMJAAAAKlBMVEX///9ERERmZmaqqqpUVFS6\n",
       "urrMzMyYmJju7u6IiIgyMjIiIiLc3NwAAAAAfF0EAAAAAXRSTlMAQObYZgAAAD5JREFUCNdjOL17\n",
       "9+6VDQxg0L4NQjOcPgChWR2gAgugtBsavQFCMStA6GiIQUkrgEbs3r3LmQE3ANm7e7cAAMoAEtfi\n",
       "lGxPAAAAAElFTkSuQmCC\n",
       "\" style=\"display:inline;vertical-align:middle;\" /></a></td></tr>\n",
       "<tr><td>10</td><td>ExprTuple</td><td>11, 12</td><td><a class=\"ProveItLink\" href=\"../caee09fb4b5c95b986a9cee46a014afbad9bdc680/expr.ipynb\"><img src=\"data:image/png;base64,iVBORw0KGgoAAAANSUhEUgAAADUAAAAVBAMAAAAUZLt1AAAAMFBMVEX////c3NwiIiJERESqqqqY\n",
       "mJh2dnZmZmYQEBDu7u4yMjJUVFTMzMyIiIi6uroAAAAs73DqAAAAAXRSTlMAQObYZgAAATZJREFU\n",
       "KM9jYMAH+C5gFY4DEach7EMwQdb9v3dvXsfAfgDIXgkRWg/XwWHAwFD/gGEBAwMvxEhW/QkwufNA\n",
       "kfMbGMKAqiBiIvUCMLn7QFZ8AsMMBoZXEIEL9x/A5CyAWGMCA7MDQxnEsRP8A2ByvxkYpCwZGNgK\n",
       "GJaC+fPAtoABz++711WBNMsChj6wwAMG+QKoHO9HBoZJG4BGNTD8A6vdvXu/AVSOuQEo/xUo9gEi\n",
       "xwd07wKoHD9QD+s3sFwLiO/AwMDUAPMe0FHcX8BmmgK5jEA5rg8MDBNg3pMHGsK6gCEdyJ0FsuYn\n",
       "A+cnqPd4uiaA/fCIgUG4fyEDq/2vAs5+oJbi/7t3rwL5lesBA4cAUnQhsUFhxpqA4LIiR2AuIo7Q\n",
       "5ThBfpJG8JFTADfIfEbsaeIOAwMABOxNRsfkiy0AAAAASUVORK5CYII=\n",
       "\" style=\"display:inline;vertical-align:middle;\" /></a></td></tr>\n",
       "<tr><td>11</td><td>Variable</td><td></td><td><a class=\"ProveItLink\" href=\"../../../../../__pv_it/2cbe72a7ad6f655694dd697106680215e8489b600/expr.ipynb\"><img src=\"data:image/png;base64,iVBORw0KGgoAAAANSUhEUgAAAA8AAAAOBAMAAAACpFvcAAAALVBMVEX///8QEBBERERUVFS6urqI\n",
       "iIhmZmaqqqrc3Nzu7u6YmJgyMjIiIiLMzMwAAADtIaYWAAAAAXRSTlMAQObYZgAAAFtJREFUCNdj\n",
       "YACBOwxQsA9Kc52bAGG05zVAGAFxDmCaZULdAjBjCsO9ADDDgaEvAUTzGhvbKYCVMDAwbgAxChgY\n",
       "eASANAeQwf0AyJgNxEwvGRia5HYwcOm9TgAA6BoR3jrzwFcAAAAASUVORK5CYII=\n",
       "\" style=\"display:inline;vertical-align:middle;\" /></a></td></tr>\n",
       "<tr><td>12</td><td>Variable</td><td></td><td><a class=\"ProveItLink\" href=\"../../../../../__pv_it/077b2ff79244fb4582cbe22c6e3356fa92a52f2f0/expr.ipynb\"><img src=\"data:image/png;base64,iVBORw0KGgoAAAANSUhEUgAAABAAAAAOBAMAAADUAYG5AAAAMFBMVEX///+qqqru7u4iIiJ2dnbc\n",
       "3NyIiIjMzMxmZmYQEBC6uroyMjJERERUVFSYmJgAAADLUcuvAAAAAXRSTlMAQObYZgAAAGpJREFU\n",
       "CNdjYGB4+//u3dMLGIBgDgMDxy8gzf4NiP8CGWxfGRj4vgAZPBMYGJgnARn8FxhY9ygAGfXX0pof\n",
       "gDTlBzAw2YIYJ0EckBBI53sHoBH/gIz7AhBjWH9DjancBLTl/N+7t/cxMAAA3u4f/5xagjYAAAAA\n",
       "SUVORK5CYII=\n",
       "\" style=\"display:inline;vertical-align:middle;\" /></a></td></tr>\n",
       "</table>\n"
      ],
      "text/plain": [
       "0. B -> ((A nsupseteq B) = [not](A supseteq B))\n",
       "   core type: Lambda\n",
       "   parameter: 12\n",
       "   body: 1\n",
       "1. (A nsupseteq B) = [not](A supseteq B)\n",
       "   core type: Operation\n",
       "   operator: 2\n",
       "   operands: 3\n",
       "2. =\n",
       "   core type: Literal\n",
       "   sub-expressions: \n",
       "3. (A nsupseteq B , [not](A supseteq B))\n",
       "   core type: ExprTuple\n",
       "   sub-expressions: 4, 5\n",
       "4. A nsupseteq B\n",
       "   core type: Operation\n",
       "   operator: 6\n",
       "   operands: 10\n",
       "5. [not](A supseteq B)\n",
       "   core type: Operation\n",
       "   operator: 7\n",
       "   operand: 8\n",
       "6. nsupseteq\n",
       "   core type: Literal\n",
       "   sub-expressions: \n",
       "7. not\n",
       "   core type: Literal\n",
       "   sub-expressions: \n",
       "8. A supseteq B\n",
       "   core type: Operation\n",
       "   operator: 9\n",
       "   operands: 10\n",
       "9. supseteq\n",
       "   core type: Literal\n",
       "   sub-expressions: \n",
       "10. (A , B)\n",
       "    core type: ExprTuple\n",
       "    sub-expressions: 11, 12\n",
       "11. A\n",
       "    core type: Variable\n",
       "    sub-expressions: \n",
       "12. B\n",
       "    core type: Variable\n",
       "    sub-expressions: "
      ]
     },
     "execution_count": 4,
     "metadata": {},
     "output_type": "execute_result"
    }
   ],
   "source": [
    "# display the expression information\n",
    "expr.exprInfo()"
   ]
  },
  {
   "cell_type": "code",
   "execution_count": null,
   "metadata": {},
   "outputs": [],
   "source": []
  }
 ],
 "metadata": {
  "kernelspec": {
   "display_name": "Python 3",
   "language": "python",
   "name": "python3"
  }
 },
 "nbformat": 4,
 "nbformat_minor": 0
}
