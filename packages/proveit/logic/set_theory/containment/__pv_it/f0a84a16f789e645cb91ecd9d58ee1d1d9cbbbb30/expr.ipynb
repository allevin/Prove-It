{
 "cells": [
  {
   "cell_type": "markdown",
   "metadata": {},
   "source": [
    "Expression of type <a class=\"ProveItLink\" href=\"../../../../../../../doc/html/api/proveit.logic.Set.html\">Set</a>\n",
    "=======================\n",
    "# from context <a class=\"ProveItLink\" href=\"../../_context_.ipynb\">proveit.logic.set_theory.containment</a>"
   ]
  },
  {
   "cell_type": "code",
   "execution_count": 1,
   "metadata": {},
   "outputs": [],
   "source": [
    "# import Expression classes needed to build the expression\n",
    "from proveit._common_ import A, B, C\n",
    "from proveit.logic import Set, SubsetEq"
   ]
  },
  {
   "cell_type": "code",
   "execution_count": 2,
   "metadata": {},
   "outputs": [
    {
     "data": {
      "text/html": [
       "<strong id=\"expr\">expr:</strong> <a class=\"ProveItLink\" href=\"expr.ipynb\"><img src=\"data:image/png;base64,iVBORw0KGgoAAAANSUhEUgAAAJUAAAAVBAMAAAC9PLGkAAAAMFBMVEX///9ERETc3NyqqqpUVFS6\n",
       "urrMzMwyMjIQEBCIiIh2dnYiIiLu7u5mZmaYmJgAAABJJ2g3AAAAAXRSTlMAQObYZgAAAd5JREFU\n",
       "OMtjYGDgu8dAMWBbpQCieHYxUAGwNYNIzg9QbjaGAj7/Ly6Opdg4CMAz0fce0wUGhusgDlcDVLQe\n",
       "Sk/fvXv3VgiTQ4CB4X4AAwYHScmKBwysNx4AaWSz+PYfgDhvDsLS/AlA7IDBQVJyfA+QWK+AZpby\n",
       "fXDwMW1C8sB8oND7BegcZCUVIAdEMKCZNWE+2P0sAUhmSQDxjgPoHCQlvJ9BpC6aWawH7B+AHY0c\n",
       "sF8YGNRlMDhISvQLQOQxmFm8YC7DUXB4MDCkIEf0l5lz92FykJTcfwBjvQcRGRAXBzDoX0A3i/MT\n",
       "A8NpBwwOkpL9CjAWO1B3ShvEVhcXfwEQgxvJLEag9zn/YXCQlPwHk+AQFQc6MSIBHFzA9AP2LK8B\n",
       "QiU/0Bl8vzA4SEr6QQQzyARuUAyzgI0ASnODI4FnK1LyAlrF8hmDg6TEH+QkXnh4cW0AJRmgWeyQ\n",
       "zHT8GkryAsXUAWQOihJwfK1hQEkToGhm/AORD6mGZRBgimJrP8DA8xuJg6qED+jQWAUUsxT7ixj4\n",
       "5L9fQM22F/+7uJQDfcbTr4DgoIGUkruQ0ENJ93gAqwLhQodYs/gYiDSLD9Us3t27EQUKdrOwKYGU\n",
       "Xzw7Cdo5gYhytRVi62IqlfcAfcSiNgewPMsAAAAASUVORK5CYII=\n",
       "\" style=\"display:inline;vertical-align:middle;\" /></a><br>"
      ],
      "text/plain": [
       "expr: {A subseteq B , B subseteq C}"
      ]
     },
     "execution_count": 2,
     "metadata": {},
     "output_type": "execute_result"
    }
   ],
   "source": [
    "# build up the expression from sub-expressions\n",
    "expr = Set(SubsetEq(A, B), SubsetEq(B, C))"
   ]
  },
  {
   "cell_type": "code",
   "execution_count": 3,
   "metadata": {},
   "outputs": [
    {
     "name": "stdout",
     "output_type": "stream",
     "text": [
      "Passed sanity check: built 'expr' is the same as the stored Expression.\n"
     ]
    }
   ],
   "source": [
    "# check that the built expression is the same as the stored expression\n",
    "%check_expr"
   ]
  },
  {
   "cell_type": "code",
   "execution_count": 4,
   "metadata": {},
   "outputs": [
    {
     "data": {
      "text/html": [
       "<table><tr><th>&nbsp;</th><th>core type</th><th>sub-expressions</th><th>expression</th></tr>\n",
       "<tr><td>0</td><td>Operation</td><td>operator:&nbsp;1<br>operands:&nbsp;2<br></td><td><a class=\"ProveItLink\" href=\"expr.ipynb\"><img src=\"data:image/png;base64,iVBORw0KGgoAAAANSUhEUgAAAJUAAAAVBAMAAAC9PLGkAAAAMFBMVEX///9ERETc3NyqqqpUVFS6\n",
       "urrMzMwyMjIQEBCIiIh2dnYiIiLu7u5mZmaYmJgAAABJJ2g3AAAAAXRSTlMAQObYZgAAAd5JREFU\n",
       "OMtjYGDgu8dAMWBbpQCieHYxUAGwNYNIzg9QbjaGAj7/Ly6Opdg4CMAz0fce0wUGhusgDlcDVLQe\n",
       "Sk/fvXv3VgiTQ4CB4X4AAwYHScmKBwysNx4AaWSz+PYfgDhvDsLS/AlA7IDBQVJyfA+QWK+AZpby\n",
       "fXDwMW1C8sB8oND7BegcZCUVIAdEMKCZNWE+2P0sAUhmSQDxjgPoHCQlvJ9BpC6aWawH7B+AHY0c\n",
       "sF8YGNRlMDhISvQLQOQxmFm8YC7DUXB4MDCkIEf0l5lz92FykJTcfwBjvQcRGRAXBzDoX0A3i/MT\n",
       "A8NpBwwOkpL9CjAWO1B3ShvEVhcXfwEQgxvJLEag9zn/YXCQlPwHk+AQFQc6MSIBHFzA9AP2LK8B\n",
       "QiU/0Bl8vzA4SEr6QQQzyARuUAyzgI0ASnODI4FnK1LyAlrF8hmDg6TEH+QkXnh4cW0AJRmgWeyQ\n",
       "zHT8GkryAsXUAWQOihJwfK1hQEkToGhm/AORD6mGZRBgimJrP8DA8xuJg6qED+jQWAUUsxT7ixj4\n",
       "5L9fQM22F/+7uJQDfcbTr4DgoIGUkruQ0ENJ93gAqwLhQodYs/gYiDSLD9Us3t27EQUKdrOwKYGU\n",
       "Xzw7Cdo5gYhytRVi62IqlfcAfcSiNgewPMsAAAAASUVORK5CYII=\n",
       "\" style=\"display:inline;vertical-align:middle;\" /></a></td></tr>\n",
       "<tr><td>1</td><td>Literal</td><td></td><td><a class=\"ProveItLink\" href=\"../../../enumeration/__pv_it/07381ed5b23806e8d7914b78cb6667769e3708dd0/expr.ipynb\"><img src=\"data:image/png;base64,iVBORw0KGgoAAAANSUhEUgAAAB4AAAAOBAMAAADKyLEKAAAAMFBMVEX///8iIiIQEBCIiIjMzMzc\n",
       "3Nyqqqp2dnZEREQyMjK6urru7u5mZmZUVFSYmJgAAACI6eGPAAAAAXRSTlMAQObYZgAAALRJREFU\n",
       "CNdjYGDgu3Nm3wIGBJjHwN0PZW5yYGDgLWBgyITy8zcwMMQDxZyh/INAvD6BgcEFypcB4vjPDiBm\n",
       "TPFRrhs/LjMwMP//38rAwCbKEMPA9gEkE3fp0waG+AUMRxh4JkC01T9guPTOOICBEWgVH5C//wHD\n",
       "H5D4fqCz9oCMDGD4DLaegRXslLMMDMpAgxlOMmQxHDRgYG5gYLBk4D7KcIe7gOHC2rt9QCXsh40Z\n",
       "GCKMGQDRkC8N/Ph1XAAAAABJRU5ErkJggg==\n",
       "\" style=\"display:inline;vertical-align:middle;\" /></a></td></tr>\n",
       "<tr><td>2</td><td>ExprTuple</td><td>3, 4</td><td><a class=\"ProveItLink\" href=\"../d1dc965770314d9e47cad9e635ce1f9b82312d830/expr.ipynb\"><img src=\"data:image/png;base64,iVBORw0KGgoAAAANSUhEUgAAAI4AAAAVBAMAAABicsu7AAAAMFBMVEX////c3NwiIiJERESqqqqY\n",
       "mJh2dnZmZmYQEBDu7u4yMjJUVFTMzMyIiIi6uroAAAAs73DqAAAAAXRSTlMAQObYZgAAAeJJREFU\n",
       "OMtjYKAW4LtAsRGsD4DEaQj7EKbs/t+7N6/DxkEAzsvbSxkLGGqAzJUQkfVQmVtKSkp6ECaHAQND\n",
       "/QMGDA6SkowABr6KAAYuBgZeiLdY9SdAnHUTYdl5oNT5DRgcJCWzNIFEvgADawIDB0S/SL0AiGJU\n",
       "RHL0faBQfAI6B1nJCpDmF0DvNTC8gohcuA92M/cDJHMsgFhjAjoHSQn7FxApDsQmDGWQSJvgHwB2\n",
       "KHIg/mZgkLLE4CApkV8AIucAcTrDUrDIPLD/4ZEHBjy/715XxeQgKakPgLG8GPrA9AMG+QJ0c3g/\n",
       "MjBM2oDBQVKiLwBjvWD4B7Zt9+79BiAGE5I5zA1A7V8xOEhK/oNJUKCdh5jDB0wfYL+yOyBU8QOt\n",
       "Z/2GwUFS0g8iWA6AzWkBsYFSTA3g9KmHlHyAvuf+gsFBUrIf5BR2iL9MQUkCaA7XB0jKqkFJPqAY\n",
       "mYDMQVECjptMECsKGGOQqGT+CZF7vQiW6IEphqdrAgPnJyQOqhJWoAOfg8M6neERA4Nw/0IGVvtf\n",
       "BahZsPj/7t2rgL7h7BdAcNDA6dXlkNBax8AhQLBgIagClC9YEwiWLoQLILYL8HIDmmOUlBCFAnZz\n",
       "sCkBBbA0IcuIKC83giKd8nKV9wADAEL0labnbftTAAAAAElFTkSuQmCC\n",
       "\" style=\"display:inline;vertical-align:middle;\" /></a></td></tr>\n",
       "<tr><td>3</td><td>Operation</td><td>operator:&nbsp;6<br>operands:&nbsp;5<br></td><td><a class=\"ProveItLink\" href=\"../586c891807183c577ae8a72ee7e3b9f21144c4d50/expr.ipynb\"><img src=\"data:image/png;base64,iVBORw0KGgoAAAANSUhEUgAAADsAAAARBAMAAACRPMnQAAAAMFBMVEX///92dnYQEBBERERUVFS6\n",
       "urqIiIhmZmaqqqrc3Nzu7u6YmJgyMjIiIiLMzMwAAACFkkdwAAAAAXRSTlMAQObYZgAAAO1JREFU\n",
       "KM9jYACBtwzogNv/i4vzUSjnPJTOuXv37lUIk8mAgaE+AKL0/gKIIVkI7e8TgNgBzJxRPwFEcd5E\n",
       "Mj0fKLRfAMxMyAebwhKAJG0ExJfAhrIu6N8Aotcgu+0LA8McKzBrKdgiBoYnSLJ8X9LSb0OYAQzz\n",
       "C9Cl2X4yMKwFu4zPxcXfAMTgRZJmVgAq+Q22GujJAyAGewNCmh+ok/sjiAUU5FUAMbiuInkb6FiW\n",
       "HyDfAqV5PoDF1tSheHv+Aah3mH9BBEPOwgIV6G0+HaC3J+ufZOC2/1OAGiPF/11czmxgoCJgv3sX\n",
       "EaEQAABXikRkFnmHwgAAAABJRU5ErkJggg==\n",
       "\" style=\"display:inline;vertical-align:middle;\" /></a></td></tr>\n",
       "<tr><td>4</td><td>Operation</td><td>operator:&nbsp;6<br>operands:&nbsp;7<br></td><td><a class=\"ProveItLink\" href=\"../687a49c142268529cbd1eb03bfc2582c30ffab140/expr.ipynb\"><img src=\"data:image/png;base64,iVBORw0KGgoAAAANSUhEUgAAAD0AAAARBAMAAACcIrmXAAAAMFBMVEX///+qqqru7u4iIiJ2dnbc\n",
       "3NyIiIjMzMxmZmYQEBC6uroyMjJERERUVFSYmJgAAADLUcuvAAAAAXRSTlMAQObYZgAAAPZJREFU\n",
       "KM9jYGB4+//u3dMLGNABU86NPtYGEGsOAwPHL4hgtrGxsRWE6fmAgavzAZDB/g2I/4LFipPg2rWN\n",
       "gIR/AJBg+8rAwPcFJMZqijB+pwKQWAli8UxgYGCeBGLxIlzB8RFERoAI/gsMrHsUwGYitMdvAJHq\n",
       "IKL+WlrzA7BgLUK+/wGcmR/AwGSLLm8fAGeeBKkBK2dGyP8Hk2BbQV577wB2lABcfj6IYCwAef8f\n",
       "kLgPlmGygsvfB2nlYIB6n/U3NFDaYfL1CUDCCeb9yk1Q4bWboeHLB/T/CpAbOc7/vXt7H0bsMNTu\n",
       "7RBgoDLgMDZGxC8EAADqLzyAOaIz4QAAAABJRU5ErkJggg==\n",
       "\" style=\"display:inline;vertical-align:middle;\" /></a></td></tr>\n",
       "<tr><td>5</td><td>ExprTuple</td><td>8, 9</td><td><a class=\"ProveItLink\" href=\"../caee09fb4b5c95b986a9cee46a014afbad9bdc680/expr.ipynb\"><img src=\"data:image/png;base64,iVBORw0KGgoAAAANSUhEUgAAADUAAAAVBAMAAAAUZLt1AAAAMFBMVEX////c3NwiIiJERESqqqqY\n",
       "mJh2dnZmZmYQEBDu7u4yMjJUVFTMzMyIiIi6uroAAAAs73DqAAAAAXRSTlMAQObYZgAAATZJREFU\n",
       "KM9jYMAH+C5gFY4DEach7EMwQdb9v3dvXsfAfgDIXgkRWg/XwWHAwFD/gGEBAwMvxEhW/QkwufNA\n",
       "kfMbGMKAqiBiIvUCMLn7QFZ8AsMMBoZXEIEL9x/A5CyAWGMCA7MDQxnEsRP8A2ByvxkYpCwZGNgK\n",
       "GJaC+fPAtoABz++711WBNMsChj6wwAMG+QKoHO9HBoZJG4BGNTD8A6vdvXu/AVSOuQEo/xUo9gEi\n",
       "xwd07wKoHD9QD+s3sFwLiO/AwMDUAPMe0FHcX8BmmgK5jEA5rg8MDBNg3pMHGsK6gCEdyJ0FsuYn\n",
       "A+cnqPd4uiaA/fCIgUG4fyEDq/2vAs5+oJbi/7t3rwL5lesBA4cAUnQhsUFhxpqA4LIiR2AuIo7Q\n",
       "5ThBfpJG8JFTADfIfEbsaeIOAwMABOxNRsfkiy0AAAAASUVORK5CYII=\n",
       "\" style=\"display:inline;vertical-align:middle;\" /></a></td></tr>\n",
       "<tr><td>6</td><td>Literal</td><td></td><td><a class=\"ProveItLink\" href=\"../e2e953faef156628f98c5cddef8a5f8ea43a24550/expr.ipynb\"><img src=\"data:image/png;base64,iVBORw0KGgoAAAANSUhEUgAAAA4AAAAQBAMAAADUulMJAAAAJFBMVEX///+qqqpmZmZUVFTc3Nzu\n",
       "7u7MzMy6uroiIiIyMjKIiIgAAABMlAC/AAAAAXRSTlMAQObYZgAAAD1JREFUCNdjYGBY2dHR0c7A\n",
       "kLGUAQRYWsAUA3MBhI6EUAzJaDQHlGYSgNCs7VCBSDUoo3gG2FwcgKkDBNoBPfYM6Npt1O0AAAAA\n",
       "SUVORK5CYII=\n",
       "\" style=\"display:inline;vertical-align:middle;\" /></a></td></tr>\n",
       "<tr><td>7</td><td>ExprTuple</td><td>9, 10</td><td><a class=\"ProveItLink\" href=\"../dad23c4ce051fb8a92f116e8b4d54eeb5e4476f70/expr.ipynb\"><img src=\"data:image/png;base64,iVBORw0KGgoAAAANSUhEUgAAADcAAAAVBAMAAAAQkWtIAAAAMFBMVEX////c3NwiIiJERESqqqqY\n",
       "mJh2dnZmZmYQEBDu7u4yMjJUVFTMzMyIiIi6uroAAAAs73DqAAAAAXRSTlMAQObYZgAAAUFJREFU\n",
       "KM9jYMAL+C5gF48DEaeBmHX/792b18GEOS9vL2UsYD8AZK4E8TkMGBjqH0AlMwIY+CoCGBYwMPCC\n",
       "TT0PJM9vgMjN0gQS+QIMYUA9E0AC9wUYGOITIJIrQCIvGBhmMDC8AgtYALEGWBkD+xcQKc7AwOzA\n",
       "UAYW+c3AIGUJ0Si/AETOYWBgK2BYCmLy/L57XRXqnPoAKINlAUMfiOb9yMAwCeoefQFYADQw/APR\n",
       "zA1ABV8hYv/BJNB+ng8QSX6gLtZvEMl+sJEHwJItYG8C7eH+ApHcD3I0O8RYU5g3ga7khIUHQyYo\n",
       "TBcwpEO9ydM1gWG+AkgMaMJzkKOAXnkEpIr/7969CmjyjI/gmFhd7gCiuR4wcAggRdND5DgDBh9r\n",
       "AhI/AFkyFxZlWCQ5QcEojeDzImvkBtnHiCOZ3GFgAADrEU9ADAe1sgAAAABJRU5ErkJggg==\n",
       "\" style=\"display:inline;vertical-align:middle;\" /></a></td></tr>\n",
       "<tr><td>8</td><td>Variable</td><td></td><td><a class=\"ProveItLink\" href=\"../../../../../__pv_it/2cbe72a7ad6f655694dd697106680215e8489b600/expr.ipynb\"><img src=\"data:image/png;base64,iVBORw0KGgoAAAANSUhEUgAAAA8AAAAOBAMAAAACpFvcAAAALVBMVEX///8QEBBERERUVFS6urqI\n",
       "iIhmZmaqqqrc3Nzu7u6YmJgyMjIiIiLMzMwAAADtIaYWAAAAAXRSTlMAQObYZgAAAFtJREFUCNdj\n",
       "YACBOwxQsA9Kc52bAGG05zVAGAFxDmCaZULdAjBjCsO9ADDDgaEvAUTzGhvbKYCVMDAwbgAxChgY\n",
       "eASANAeQwf0AyJgNxEwvGRia5HYwcOm9TgAA6BoR3jrzwFcAAAAASUVORK5CYII=\n",
       "\" style=\"display:inline;vertical-align:middle;\" /></a></td></tr>\n",
       "<tr><td>9</td><td>Variable</td><td></td><td><a class=\"ProveItLink\" href=\"../../../../../__pv_it/077b2ff79244fb4582cbe22c6e3356fa92a52f2f0/expr.ipynb\"><img src=\"data:image/png;base64,iVBORw0KGgoAAAANSUhEUgAAABAAAAAOBAMAAADUAYG5AAAAMFBMVEX///+qqqru7u4iIiJ2dnbc\n",
       "3NyIiIjMzMxmZmYQEBC6uroyMjJERERUVFSYmJgAAADLUcuvAAAAAXRSTlMAQObYZgAAAGpJREFU\n",
       "CNdjYGB4+//u3dMLGIBgDgMDxy8gzf4NiP8CGWxfGRj4vgAZPBMYGJgnARn8FxhY9ygAGfXX0pof\n",
       "gDTlBzAw2YIYJ0EckBBI53sHoBH/gIz7AhBjWH9DjancBLTl/N+7t/cxMAAA3u4f/5xagjYAAAAA\n",
       "SUVORK5CYII=\n",
       "\" style=\"display:inline;vertical-align:middle;\" /></a></td></tr>\n",
       "<tr><td>10</td><td>Variable</td><td></td><td><a class=\"ProveItLink\" href=\"../../../../../__pv_it/985a1bdf1540838275dec15f4ad6de261cca93ce0/expr.ipynb\"><img src=\"data:image/png;base64,iVBORw0KGgoAAAANSUhEUgAAAA8AAAAOBAMAAAACpFvcAAAAMFBMVEX////MzMyqqqoiIiIyMjK6\n",
       "uroQEBB2dnbc3NyYmJhmZmZUVFRERESIiIju7u4AAAB204erAAAAAXRSTlMAQObYZgAAAGZJREFU\n",
       "CNdjYGDgu7NrJccCBgaGsgkMrMsmMDA8sQNy6hsYGNweABlhDAxcn4A0QxcDQ78DiPGQgWH9BAYI\n",
       "sG+AMv6DSaCGfBDNJMDAsB+kmwuI5S8AiTog5gSaEwXWIO29SgFIAQBC+RaDQlidVgAAAABJRU5E\n",
       "rkJggg==\n",
       "\" style=\"display:inline;vertical-align:middle;\" /></a></td></tr>\n",
       "</table>\n"
      ],
      "text/plain": [
       "0. {A subseteq B , B subseteq C}\n",
       "   core type: Operation\n",
       "   operator: 1\n",
       "   operands: 2\n",
       "1. Set\n",
       "   core type: Literal\n",
       "   sub-expressions: \n",
       "2. (A subseteq B , B subseteq C)\n",
       "   core type: ExprTuple\n",
       "   sub-expressions: 3, 4\n",
       "3. A subseteq B\n",
       "   core type: Operation\n",
       "   operator: 6\n",
       "   operands: 5\n",
       "4. B subseteq C\n",
       "   core type: Operation\n",
       "   operator: 6\n",
       "   operands: 7\n",
       "5. (A , B)\n",
       "   core type: ExprTuple\n",
       "   sub-expressions: 8, 9\n",
       "6. subseteq\n",
       "   core type: Literal\n",
       "   sub-expressions: \n",
       "7. (B , C)\n",
       "   core type: ExprTuple\n",
       "   sub-expressions: 9, 10\n",
       "8. A\n",
       "   core type: Variable\n",
       "   sub-expressions: \n",
       "9. B\n",
       "   core type: Variable\n",
       "   sub-expressions: \n",
       "10. C\n",
       "    core type: Variable\n",
       "    sub-expressions: "
      ]
     },
     "execution_count": 4,
     "metadata": {},
     "output_type": "execute_result"
    }
   ],
   "source": [
    "# display the expression information\n",
    "expr.exprInfo()"
   ]
  },
  {
   "cell_type": "code",
   "execution_count": null,
   "metadata": {},
   "outputs": [],
   "source": []
  }
 ],
 "metadata": {
  "kernelspec": {
   "display_name": "Python 3",
   "language": "python",
   "name": "python3"
  }
 },
 "nbformat": 4,
 "nbformat_minor": 0
}
