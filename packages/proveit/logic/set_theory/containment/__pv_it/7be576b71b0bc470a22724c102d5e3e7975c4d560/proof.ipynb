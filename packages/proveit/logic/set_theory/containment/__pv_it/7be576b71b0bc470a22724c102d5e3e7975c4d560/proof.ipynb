{
 "cells": [
  {
   "cell_type": "markdown",
   "metadata": {},
   "source": [
    "Show the Proof\n",
    "========"
   ]
  },
  {
   "cell_type": "code",
   "execution_count": 1,
   "metadata": {},
   "outputs": [
    {
     "data": {
      "text/html": [
       "<table><tr><th>&nbsp;</th><th>step type</th><th>requirements</th><th>statement</th></tr>\n",
       "<tr><td>0</td><td>assumption</td><td></td><td><span style=\"font-size:20px;\"><a class=\"ProveItLink\" href=\"../e6825e18c1f0f68ac1df2d2dbc59de3fc4e217180/expr.ipynb\"><img src=\"data:image/png;base64,iVBORw0KGgoAAAANSUhEUgAAAE8AAAAYBAMAAABJkb36AAAAMFBMVEX///9ERETc3NyqqqpUVFS6\n",
       "urrMzMwyMjIQEBCIiIh2dnYiIiLu7u5mZmaYmJgAAABJJ2g3AAAAAXRSTlMAQObYZgAAAYZJREFU\n",
       "KM9jYMAGWLGK8t3DEOJG4bGtUgBRPLsw9b5C5bI1g0jOD1BuNkKmBmqX/xcXx1Ig4zqIx9UAla2H\n",
       "0tN37+jeCmFyCDAw3A9gYFiBrJBv/wGIwXMYWBKgevInALEDmkLl+2AnM21iYDgOc8J8oND7BWgK\n",
       "J8wPAFEsQHIeTKEEEO84gKqQ9YD9AxANMm0DTOEXBgZ1GQaoQt4CsNhRsIMYGFIYGJgXwILly8y5\n",
       "+0CM9yAiA2wjQwCD/gWoQnYFqELOTwwMp4F+YWAHSqW0QTS7uPgLQCMlEWYzI9BVnP9ALHGgsyIS\n",
       "oLHLAXYD7wOGqzCF/EDT+H6BdIMcwwKWNwDywL7i2coD90s+0ByWzzA3coHEmYAK2SFxedx3AnIw\n",
       "6hcwIAcPKFAY/0Ck46t3794KC0a29gPIChX7ixj45L+Dvc0QCzPw4n8Xl3Jw4KLEDByIYSY7rAqZ\n",
       "CnAo5ENVyLt/926YG+EAnB55duLLBpDYaIUkxMX4sgEiz6CDGgYigQJ2YQBUwGTHm00ZxwAAAABJ\n",
       "RU5ErkJggg==\n",
       "\" style=\"display:inline;vertical-align:middle;\" /></a> <a class=\"ProveItLink\" href=\"proof.ipynb\" style=\"text-decoration: none\">&#x22A2;&nbsp;</a><a class=\"ProveItLink\" href=\"../9de9c2208e8b5dbd6462366802372807db98e34b0/expr.ipynb\"><img src=\"data:image/png;base64,iVBORw0KGgoAAAANSUhEUgAAADsAAAAYBAMAAAC2M5gYAAAAMFBMVEX///92dnYQEBBERERUVFS6\n",
       "urqIiIhmZmaqqqrc3Nzu7u6YmJgyMjIiIiLMzMwAAACFkkdwAAAAAXRSTlMAQObYZgAAASVJREFU\n",
       "KM9jYEADrAx4AS9+6Y1YxN4imKcgFLf/Fxfno1Cx81A65+4l3asQJpMBA0N9AETp/QUQQ7IYWB5A\n",
       "Vb5PAGIHMHNG/QQQxXmTgWENzJJ8oNB+ATAzIR9sCguQzIZJGwHxJbChrAv6N4BokM4LMOkvDAxz\n",
       "rMCspWCLGBieMDBwCEBl+b6kpd+GMAMY5hdApXkmQKXZfjIwrAW7jM/Fxd8AGmCPYWYzKwCV/IaG\n",
       "MtMBEIN9A0MpTJofqJP7I4jVANSnAGJwXeWCu+w90LEsP0C+BUrzfACLrXFPQPb2/ANQ7zD/ggjG\n",
       "n7179yrM23w6QG9P1j/JwG3/B+x0hnCY5uL/Li5nNqDHnB3euOY8gE+W/f7duzC7qZSQGDASEi4w\n",
       "AUMEAKd1TsMuccRHAAAAAElFTkSuQmCC\n",
       "\" style=\"display:inline;vertical-align:middle;\" /></a></span></td></tr>\n",
       "</table>"
      ],
      "text/plain": [
       "<proveit._core_.proof._ShowProof at 0x7f94eaff3ac8>"
      ]
     },
     "execution_count": 1,
     "metadata": {},
     "output_type": "execute_result"
    }
   ],
   "source": [
    "import proveit\n",
    "%show_proof"
   ]
  },
  {
   "cell_type": "code",
   "execution_count": null,
   "metadata": {},
   "outputs": [],
   "source": []
  }
 ],
 "metadata": {
  "kernelspec": {
   "display_name": "Python 3",
   "language": "python",
   "name": "python3"
  }
 },
 "nbformat": 4,
 "nbformat_minor": 0
}
