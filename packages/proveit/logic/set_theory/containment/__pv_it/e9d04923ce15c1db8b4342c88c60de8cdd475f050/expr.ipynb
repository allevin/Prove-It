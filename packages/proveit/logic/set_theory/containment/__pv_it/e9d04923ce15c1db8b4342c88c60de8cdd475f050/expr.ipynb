{
 "cells": [
  {
   "cell_type": "markdown",
   "metadata": {},
   "source": [
    "Expression of type <a class=\"ProveItLink\" href=\"../../../../../../../doc/html/api/proveit.Lambda.html\">Lambda</a>\n",
    "=======================\n",
    "# from context <a class=\"ProveItLink\" href=\"../../_context_.ipynb\">proveit.logic.set_theory.containment</a>"
   ]
  },
  {
   "cell_type": "code",
   "execution_count": 1,
   "metadata": {},
   "outputs": [],
   "source": [
    "# import Expression classes needed to build the expression\n",
    "from proveit import Lambda\n",
    "from proveit._common_ import A, B, C\n",
    "from proveit.logic import Superset"
   ]
  },
  {
   "cell_type": "code",
   "execution_count": 2,
   "metadata": {},
   "outputs": [
    {
     "data": {
      "text/html": [
       "<strong id=\"expr\">expr:</strong> <a class=\"ProveItLink\" href=\"expr.ipynb\"><img src=\"data:image/png;base64,iVBORw0KGgoAAAANSUhEUgAAAM4AAAAVCAMAAAA5OCEaAAAANlBMVEX///8UFBQNDQ3MzMyqqqoi\n",
       "IiIyMjK6uroQEBB2dnbc3NyYmJhmZmZUVFRERESIiIju7u4AAAAKhZlwAAAAAXRSTlMAQObYZgAA\n",
       "AidJREFUWMPNV9d27CAMdEIvAvT/P5uNyyKKwT7OvQkvXvuwMxo1xLL8jcXt73Gr+Oz/TjWfjPpB\n",
       "+1IM4L1brL+ym0HxJu5zeDaR4wARXitIdd98o93qdL89Z0um4g0vqSk55DQ6OqwPj+omdJJit8/g\n",
       "lQyORao5gemC/yoOZyZyGMb9CTehpT7sUfqKnzU133JPfaDEtmRVXTVH0hM5cUd1aCbYFbRH/rbt\n",
       "SumoIlHii1j1slnQ8mg5Ah/LCbteodMYu4K2mM1L721lbnPK7WmeqLRw7BacFTloHQ7jx3K2HLMy\n",
       "pDF2De271lTdCgioJPuTylneRBGIBxsOLodyXiUTY/TipDVl7BpadMu/kpMgb9KEWK3+OUlRMeKo\n",
       "y7SSs5dOEjDBrqGR9Nkcg88PUSydC4SUCvs+GgBDnxLYgIPhUM5ROrGfyRm7htb5nbOz6CyQ2Yic\n",
       "7ZeWMzkdjomcoz2TxtbHrqEhHxv+NNk8iah+9wV+NJ9ZsnU4xsnGjqAA8jF2DZ0r2aQzOYwWe3Dv\n",
       "I2c4FnDfnImEww1bwXHq0L7Vx26g3eYARSOwlM2qaJZHi00HU+iOBUqQry3HuFHvpcO07E4cFLuB\n",
       "ZiBfAxy/PE6vkbNBo1zHlYAom97GfGlIw1GPllSOD9v8KWW3D1TYN81vhxw70rrNITAZHKdDzgPs\n",
       "u7cV8xzDxH9537m3ZHqKkOYXhP+3LDxFAPuH5Cz24eU6svbTz8j5AptPGMycKW4gAAAAAElFTkSu\n",
       "QmCC\n",
       "\" style=\"display:inline;vertical-align:middle;\" /></a><br>"
      ],
      "text/plain": [
       "expr: C -> (A supset C) | B supset C"
      ]
     },
     "execution_count": 2,
     "metadata": {},
     "output_type": "execute_result"
    }
   ],
   "source": [
    "# build up the expression from sub-expressions\n",
    "expr = Lambda(C, Superset(A, C), conditions = [Superset(B, C)])"
   ]
  },
  {
   "cell_type": "code",
   "execution_count": 3,
   "metadata": {},
   "outputs": [
    {
     "name": "stdout",
     "output_type": "stream",
     "text": [
      "Passed sanity check: built 'expr' is the same as the stored Expression.\n"
     ]
    }
   ],
   "source": [
    "# check that the built expression is the same as the stored expression\n",
    "%check_expr"
   ]
  },
  {
   "cell_type": "code",
   "execution_count": 4,
   "metadata": {},
   "outputs": [
    {
     "data": {
      "text/html": [
       "<table><tr><th>&nbsp;</th><th>core type</th><th>sub-expressions</th><th>expression</th></tr>\n",
       "<tr><td>0</td><td>Lambda</td><td>parameter:&nbsp;9<br>body:&nbsp;1<br>conditions:&nbsp;2<br></td><td><a class=\"ProveItLink\" href=\"expr.ipynb\"><img src=\"data:image/png;base64,iVBORw0KGgoAAAANSUhEUgAAAM4AAAAVCAMAAAA5OCEaAAAANlBMVEX///8UFBQNDQ3MzMyqqqoi\n",
       "IiIyMjK6uroQEBB2dnbc3NyYmJhmZmZUVFRERESIiIju7u4AAAAKhZlwAAAAAXRSTlMAQObYZgAA\n",
       "AidJREFUWMPNV9d27CAMdEIvAvT/P5uNyyKKwT7OvQkvXvuwMxo1xLL8jcXt73Gr+Oz/TjWfjPpB\n",
       "+1IM4L1brL+ym0HxJu5zeDaR4wARXitIdd98o93qdL89Z0um4g0vqSk55DQ6OqwPj+omdJJit8/g\n",
       "lQyORao5gemC/yoOZyZyGMb9CTehpT7sUfqKnzU133JPfaDEtmRVXTVH0hM5cUd1aCbYFbRH/rbt\n",
       "SumoIlHii1j1slnQ8mg5Ah/LCbteodMYu4K2mM1L721lbnPK7WmeqLRw7BacFTloHQ7jx3K2HLMy\n",
       "pDF2De271lTdCgioJPuTylneRBGIBxsOLodyXiUTY/TipDVl7BpadMu/kpMgb9KEWK3+OUlRMeKo\n",
       "y7SSs5dOEjDBrqGR9Nkcg88PUSydC4SUCvs+GgBDnxLYgIPhUM5ROrGfyRm7htb5nbOz6CyQ2Yic\n",
       "7ZeWMzkdjomcoz2TxtbHrqEhHxv+NNk8iah+9wV+NJ9ZsnU4xsnGjqAA8jF2DZ0r2aQzOYwWe3Dv\n",
       "I2c4FnDfnImEww1bwXHq0L7Vx26g3eYARSOwlM2qaJZHi00HU+iOBUqQry3HuFHvpcO07E4cFLuB\n",
       "ZiBfAxy/PE6vkbNBo1zHlYAom97GfGlIw1GPllSOD9v8KWW3D1TYN81vhxw70rrNITAZHKdDzgPs\n",
       "u7cV8xzDxH9537m3ZHqKkOYXhP+3LDxFAPuH5Cz24eU6svbTz8j5AptPGMycKW4gAAAAAElFTkSu\n",
       "QmCC\n",
       "\" style=\"display:inline;vertical-align:middle;\" /></a></td></tr>\n",
       "<tr><td>1</td><td>Operation</td><td>operator:&nbsp;6<br>operands:&nbsp;3<br></td><td><a class=\"ProveItLink\" href=\"../bd401c272d0d18bf3d3bedec4b26b8a022bd40a60/expr.ipynb\"><img src=\"data:image/png;base64,iVBORw0KGgoAAAANSUhEUgAAADsAAAAPBAMAAACo4Ko7AAAAMFBMVEX///92dnYQEBBERERUVFS6\n",
       "urqIiIhmZmaqqqrc3Nzu7u6YmJgyMjIiIiLMzMwAAACFkkdwAAAAAXRSTlMAQObYZgAAAN1JREFU\n",
       "GNNjYACBtwwYgCvZvZqzAMI+jykttIGBtWgDmMl9fwG67JpbQEJ+Apg9ox5Mx969e/cYVPoQSEMQ\n",
       "hJ2QHwDTtewemGL/ASKng9msC/o3wE2dCzZo/gEQuQ4sspThfQJcmtUBRNYj1DMEMMwvQPAugIj7\n",
       "E+B8PhcXfwOEtB+I+A9mgv3DysDAdABNWh9EcDwAkQ0MDLwKaIb7gzSyg1icQGmeD3BZDrAzwG6V\n",
       "AocPEDP/gkvHgi3kBvo7HOS8yfonGbjt/8Cc/vwUhH5ypLwBLZyBgXrHFVUIAPT9Ot9TQHbPAAAA\n",
       "AElFTkSuQmCC\n",
       "\" style=\"display:inline;vertical-align:middle;\" /></a></td></tr>\n",
       "<tr><td>2</td><td>ExprTuple</td><td>4</td><td><a class=\"ProveItLink\" href=\"../52f5f93bf95276718c0cb409ec74c846be17f82e0/expr.ipynb\"><img src=\"data:image/png;base64,iVBORw0KGgoAAAANSUhEUgAAAEkAAAAVBAMAAAD4Ed5jAAAAMFBMVEX////c3NwiIiJERESqqqqY\n",
       "mJh2dnZmZmYQEBDu7u4yMjJUVFTMzMyIiIi6uroAAAAs73DqAAAAAXRSTlMAQObYZgAAAVtJREFU\n",
       "KM9jYCAO8F0goCAORJwG4uj/u3dbPcCQ57y8vZSxgP0AkLkSxG9mYGD/h6EqI4CBryKAYQEDAy/I\n",
       "Qp6/QPwbXdEsTSCRL8AQxsDAMQHI5P3IwMD6DSTzSElJaS1U1QqQ1AsGhhkMDK9AfOYGBgamTpgZ\n",
       "c3XAFPsXECkOlHVgKAMx+TcwMC6eALdKSABEyi8AkXMYGNgKGJaCmOf33i0KQAqcDSCyHibCsoCh\n",
       "D0TfF2Dg1EZytwKI0BeAaWpgAPvfAqQSybA9IOI/mAl0B88HiCpQIMQnoKnqB9t2AKyqBRRcX4HE\n",
       "fgc0G/eDvMMOsdEUGlyMvxCKWArAXgKFdyYQsy5gSIcG14mVCFWPwIHCCgyv5yAfAEPiEdBU+9+7\n",
       "dy1FKDoO1XB6dTnYFVwPGDgEUOIOGENa+9DiExhDrAkEU2AuLOXgA5ygmJImpIob5CZGQin6DgMD\n",
       "AKz+VWdt3vMlAAAAAElFTkSuQmCC\n",
       "\" style=\"display:inline;vertical-align:middle;\" /></a></td></tr>\n",
       "<tr><td>3</td><td>ExprTuple</td><td>5, 9</td><td><a class=\"ProveItLink\" href=\"../64d36ff9aa3116e2d1fb41c420506ad5fe919f950/expr.ipynb\"><img src=\"data:image/png;base64,iVBORw0KGgoAAAANSUhEUgAAADUAAAAVBAMAAAAUZLt1AAAAMFBMVEX////c3NwiIiJERESqqqqY\n",
       "mJh2dnZmZmYQEBDu7u4yMjJUVFTMzMyIiIi6uroAAAAs73DqAAAAAXRSTlMAQObYZgAAAS1JREFU\n",
       "KM9jYMAH+C5gFY4DEach7ENwUc7L20sZC9gPAJkrISLr4XIZAQx8FQEMCxgYeCFGsupPgErN0gQS\n",
       "+QIMYQwMHBAxkXoBqNwKkMALBoYZDAyvICIX7j+AMNi/gEhxBgZmB4YyiGMn+AdA5OQXgMg5DAxs\n",
       "BQxLwSLzGM5DvVIPVcPAsoChD8x4wCBfABHSh9nL18DwD0Tz7N693wAi9B9MAt3D8wEixwd07wKI\n",
       "XD/YvANguRYQ24GBgakBIrcf5AV2iJmmQIoRKMf1AWwSxE2ZoNBYwJAOCgogZv7JwPkJJAT033OQ\n",
       "e4B+eMTAINy/kIHV/lcBZz9I7PTqcgeQ4VwPGDgEkKILiQ0KM9YEBJcVOQJzEXGELscJ8pM0go+c\n",
       "ArhB5jNiTxN3GBgAYvhEoGDobKYAAAAASUVORK5CYII=\n",
       "\" style=\"display:inline;vertical-align:middle;\" /></a></td></tr>\n",
       "<tr><td>4</td><td>Operation</td><td>operator:&nbsp;6<br>operands:&nbsp;7<br></td><td><a class=\"ProveItLink\" href=\"../49335067c8050f61704643300068902d53451afa0/expr.ipynb\"><img src=\"data:image/png;base64,iVBORw0KGgoAAAANSUhEUgAAAD0AAAAPBAMAAACl/tp8AAAAMFBMVEX///+qqqru7u4iIiJ2dnbc\n",
       "3NyIiIjMzMxmZmYQEBC6uroyMjJERERUVFSYmJgAAADLUcuvAAAAAXRSTlMAQObYZgAAAO5JREFU\n",
       "GNNjYGB4+//u3dMLGNABU86NPtYGEGsOAwPHLwx5zwcMXJ0PgAz2b0D8F11a2whI+AcACbavDAx8\n",
       "X0Bii42NjbdB5XcqAImVIBbPBAYG5kkwfWrmYIrjI4iMABH8FxhY9yjADQ4GmckQvwFEqoOI+mtp\n",
       "zQ8QFnNdAJH9CJH8AAYmWySXGYAI+wA4/yRIDZIB10HEfzATbCvIa+8d0OTngwjGApD3/wGJ+wJo\n",
       "5t8HaeVggHqf9TdCmhEcpvUJQMIJ5v3KTQj5xWBL+YD+XwFyI8f5v3dv70NIV0CV1u7tEEAPc2D4\n",
       "Wt9CFQIAUEI+fb5rRGkAAAAASUVORK5CYII=\n",
       "\" style=\"display:inline;vertical-align:middle;\" /></a></td></tr>\n",
       "<tr><td>5</td><td>Variable</td><td></td><td><a class=\"ProveItLink\" href=\"../../../../../__pv_it/2cbe72a7ad6f655694dd697106680215e8489b600/expr.ipynb\"><img src=\"data:image/png;base64,iVBORw0KGgoAAAANSUhEUgAAAA8AAAAOBAMAAAACpFvcAAAALVBMVEX///8QEBBERERUVFS6urqI\n",
       "iIhmZmaqqqrc3Nzu7u6YmJgyMjIiIiLMzMwAAADtIaYWAAAAAXRSTlMAQObYZgAAAFtJREFUCNdj\n",
       "YACBOwxQsA9Kc52bAGG05zVAGAFxDmCaZULdAjBjCsO9ADDDgaEvAUTzGhvbKYCVMDAwbgAxChgY\n",
       "eASANAeQwf0AyJgNxEwvGRia5HYwcOm9TgAA6BoR3jrzwFcAAAAASUVORK5CYII=\n",
       "\" style=\"display:inline;vertical-align:middle;\" /></a></td></tr>\n",
       "<tr><td>6</td><td>Literal</td><td></td><td><a class=\"ProveItLink\" href=\"../40f138ebd64e8eadfde7d93b284d70a37652c25c0/expr.ipynb\"><img src=\"data:image/png;base64,iVBORw0KGgoAAAANSUhEUgAAAA4AAAAMBAMAAACgrpHpAAAAJFBMVEX///9mZmaqqqpUVFTc3NzM\n",
       "zMzu7u6IiIgyMjIiIiK6uroAAABMu5rKAAAAAXRSTlMAQObYZgAAADVJREFUCNdjWDlz5sx2BghI\n",
       "nwpleDpAaC4DqMAEKG2KRkPFmQQg9MoEMBXYBmTOnDnDioEBAA1tCuR6TpI/AAAAAElFTkSuQmCC\n",
       "\" style=\"display:inline;vertical-align:middle;\" /></a></td></tr>\n",
       "<tr><td>7</td><td>ExprTuple</td><td>8, 9</td><td><a class=\"ProveItLink\" href=\"../dad23c4ce051fb8a92f116e8b4d54eeb5e4476f70/expr.ipynb\"><img src=\"data:image/png;base64,iVBORw0KGgoAAAANSUhEUgAAADcAAAAVBAMAAAAQkWtIAAAAMFBMVEX////c3NwiIiJERESqqqqY\n",
       "mJh2dnZmZmYQEBDu7u4yMjJUVFTMzMyIiIi6uroAAAAs73DqAAAAAXRSTlMAQObYZgAAAUFJREFU\n",
       "KM9jYMAL+C5gF48DEaeBmHX/792b18GEOS9vL2UsYD8AZK4E8TkMGBjqH0AlMwIY+CoCGBYwMPCC\n",
       "TT0PJM9vgMjN0gQS+QIMYUA9E0AC9wUYGOITIJIrQCIvGBhmMDC8AgtYALEGWBkD+xcQKc7AwOzA\n",
       "UAYW+c3AIGUJ0Si/AETOYWBgK2BYCmLy/L57XRXqnPoAKINlAUMfiOb9yMAwCeoefQFYADQw/APR\n",
       "zA1ABV8hYv/BJNB+ng8QSX6gLtZvEMl+sJEHwJItYG8C7eH+ApHcD3I0O8RYU5g3ga7khIUHQyYo\n",
       "TBcwpEO9ydM1gWG+AkgMaMJzkKOAXnkEpIr/7969CmjyjI/gmFhd7gCiuR4wcAggRdND5DgDBh9r\n",
       "AhI/AFkyFxZlWCQ5QcEojeDzImvkBtnHiCOZ3GFgAADrEU9ADAe1sgAAAABJRU5ErkJggg==\n",
       "\" style=\"display:inline;vertical-align:middle;\" /></a></td></tr>\n",
       "<tr><td>8</td><td>Variable</td><td></td><td><a class=\"ProveItLink\" href=\"../../../../../__pv_it/077b2ff79244fb4582cbe22c6e3356fa92a52f2f0/expr.ipynb\"><img src=\"data:image/png;base64,iVBORw0KGgoAAAANSUhEUgAAABAAAAAOBAMAAADUAYG5AAAAMFBMVEX///+qqqru7u4iIiJ2dnbc\n",
       "3NyIiIjMzMxmZmYQEBC6uroyMjJERERUVFSYmJgAAADLUcuvAAAAAXRSTlMAQObYZgAAAGpJREFU\n",
       "CNdjYGB4+//u3dMLGIBgDgMDxy8gzf4NiP8CGWxfGRj4vgAZPBMYGJgnARn8FxhY9ygAGfXX0pof\n",
       "gDTlBzAw2YIYJ0EckBBI53sHoBH/gIz7AhBjWH9DjancBLTl/N+7t/cxMAAA3u4f/5xagjYAAAAA\n",
       "SUVORK5CYII=\n",
       "\" style=\"display:inline;vertical-align:middle;\" /></a></td></tr>\n",
       "<tr><td>9</td><td>Variable</td><td></td><td><a class=\"ProveItLink\" href=\"../../../../../__pv_it/985a1bdf1540838275dec15f4ad6de261cca93ce0/expr.ipynb\"><img src=\"data:image/png;base64,iVBORw0KGgoAAAANSUhEUgAAAA8AAAAOBAMAAAACpFvcAAAAMFBMVEX////MzMyqqqoiIiIyMjK6\n",
       "uroQEBB2dnbc3NyYmJhmZmZUVFRERESIiIju7u4AAAB204erAAAAAXRSTlMAQObYZgAAAGZJREFU\n",
       "CNdjYGDgu7NrJccCBgaGsgkMrMsmMDA8sQNy6hsYGNweABlhDAxcn4A0QxcDQ78DiPGQgWH9BAYI\n",
       "sG+AMv6DSaCGfBDNJMDAsB+kmwuI5S8AiTog5gSaEwXWIO29SgFIAQBC+RaDQlidVgAAAABJRU5E\n",
       "rkJggg==\n",
       "\" style=\"display:inline;vertical-align:middle;\" /></a></td></tr>\n",
       "</table>\n"
      ],
      "text/plain": [
       "0. C -> (A supset C) | B supset C\n",
       "   core type: Lambda\n",
       "   parameter: 9\n",
       "   body: 1\n",
       "   conditions: 2\\n1. A supset C\n",
       "   core type: Operation\n",
       "   operator: 6\n",
       "   operands: 3\n",
       "2. (B supset C)\n",
       "   core type: ExprTuple\n",
       "   sub-expressions: 4\n",
       "3. (A , C)\n",
       "   core type: ExprTuple\n",
       "   sub-expressions: 5, 9\n",
       "4. B supset C\n",
       "   core type: Operation\n",
       "   operator: 6\n",
       "   operands: 7\n",
       "5. A\n",
       "   core type: Variable\n",
       "   sub-expressions: \n",
       "6. supset\n",
       "   core type: Literal\n",
       "   sub-expressions: \n",
       "7. (B , C)\n",
       "   core type: ExprTuple\n",
       "   sub-expressions: 8, 9\n",
       "8. B\n",
       "   core type: Variable\n",
       "   sub-expressions: \n",
       "9. C\n",
       "   core type: Variable\n",
       "   sub-expressions: "
      ]
     },
     "execution_count": 4,
     "metadata": {},
     "output_type": "execute_result"
    }
   ],
   "source": [
    "# display the expression information\n",
    "expr.exprInfo()"
   ]
  },
  {
   "cell_type": "code",
   "execution_count": null,
   "metadata": {},
   "outputs": [],
   "source": []
  }
 ],
 "metadata": {
  "kernelspec": {
   "display_name": "Python 3",
   "language": "python",
   "name": "python3"
  }
 },
 "nbformat": 4,
 "nbformat_minor": 0
}
