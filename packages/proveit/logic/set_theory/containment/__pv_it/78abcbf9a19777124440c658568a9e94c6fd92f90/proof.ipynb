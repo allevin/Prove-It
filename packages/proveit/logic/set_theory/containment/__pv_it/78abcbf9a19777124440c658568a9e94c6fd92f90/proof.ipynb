{
 "cells": [
  {
   "cell_type": "markdown",
   "metadata": {},
   "source": [
    "Show the Proof\n",
    "========"
   ]
  },
  {
   "cell_type": "code",
   "execution_count": 1,
   "metadata": {},
   "outputs": [
    {
     "data": {
      "text/html": [
       "<table><tr><th>&nbsp;</th><th>step type</th><th>requirements</th><th>statement</th></tr>\n",
       "<tr><td>0</td><td>assumption</td><td></td><td><span style=\"font-size:20px;\"><a class=\"ProveItLink\" href=\"../ce9cf4427d40092e6903da272864dff6d66285670/expr.ipynb\"><img src=\"data:image/png;base64,iVBORw0KGgoAAAANSUhEUgAAAE8AAAAVBAMAAAD1D64kAAAAMFBMVEX////c3NxERESqqqpUVFS6\n",
       "urrMzMwyMjIQEBCIiIh2dnYiIiLu7u5mZmaYmJgAAABXZE4RAAAAAXRSTlMAQObYZgAAAVRJREFU\n",
       "KM9jYGDgu8eAH7CtEgBRPLsYCAG2ZhDJ+QFI8Pl/cXEqxVRyUuXuA1kGhusgNlcDiORQYGC4H4Cu\n",
       "jquPgSEWiFcgFOZPAGIHNHU81QeA8h9RFM4Huvf9ArA0Z/Xu3bvBhrP3AAnWBhSFGkC84wDY5TsP\n",
       "wEy8bwAkGC+gKPzCwCCuA5aVFoCpY/wOtj8BqpC3AGTMl5lz90GkXeFO5P0HY70HERkg53ACXXwa\n",
       "7BeeArhC7o8wFjvQ+pQ2EIsJaD8n2AA2hNf5P4B1ggj1BwwMEQkgMaA03y80hRxghWYgs0HhwQKy\n",
       "Kx+og+UzWHoDXCHLHxB5AeZGrg3QYJSHuO4yIop/gqRBgYUIHmAwsrVDwu80IiLfGzCwXmRAVnjp\n",
       "v4tL+QNovNUmwI1094WYjxTgSIDVHRaFcIBdIRYAVshHhEJweuTZSTiFt4IpvsXE5BkASCdaHRBl\n",
       "WQ4AAAAASUVORK5CYII=\n",
       "\" style=\"display:inline;vertical-align:middle;\" /></a> <a class=\"ProveItLink\" href=\"proof.ipynb\" style=\"text-decoration: none\">&#x22A2;&nbsp;</a><a class=\"ProveItLink\" href=\"../adb6aa3bc7d218a039a8e57542e2d208165a1e740/expr.ipynb\"><img src=\"data:image/png;base64,iVBORw0KGgoAAAANSUhEUgAAAD0AAAAPBAMAAACl/tp8AAAAMFBMVEX///+qqqru7u4iIiJ2dnbc\n",
       "3NyIiIjMzMxmZmYQEBC6uroyMjJERERUVFSYmJgAAADLUcuvAAAAAXRSTlMAQObYZgAAAPBJREFU\n",
       "GNNjYGB4+//u3dMLGNABU86NPtYGEGsOAwPHLwx5zwcMXJ0PgAz2b0D8F11a2whI+AcACbavDAx8\n",
       "XyCi2cbGxlZg1k4FILESxOKZwMDAPAksWJwE087xEURGgAj+Cwyse0CqGVhN4cbHbwCR6iCi/lpa\n",
       "8wOwIC/CF/0P4Mz8AAYmW4ibEM6zD4AzT4LUgJXXIuT/g0mwrSCvvXdAk58PIhgLQN7/ByTuC4D4\n",
       "zAj5+yCtHAxQ77P+hnhKAC5fnwAknGDer9wECXIruDwf0P8rQG7kOP/37u19sEBthyuo3dshgBEn\n",
       "DGs3w8IXCgA8BTs/1F8sPwAAAABJRU5ErkJggg==\n",
       "\" style=\"display:inline;vertical-align:middle;\" /></a></span></td></tr>\n",
       "</table>"
      ],
      "text/plain": [
       "<proveit._core_.proof._ShowProof at 0x7f94eba5ceb8>"
      ]
     },
     "execution_count": 1,
     "metadata": {},
     "output_type": "execute_result"
    }
   ],
   "source": [
    "import proveit\n",
    "%show_proof"
   ]
  },
  {
   "cell_type": "code",
   "execution_count": null,
   "metadata": {},
   "outputs": [],
   "source": []
  }
 ],
 "metadata": {
  "kernelspec": {
   "display_name": "Python 3",
   "language": "python",
   "name": "python3"
  }
 },
 "nbformat": 4,
 "nbformat_minor": 0
}
