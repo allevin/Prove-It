{
 "cells": [
  {
   "cell_type": "markdown",
   "metadata": {},
   "source": [
    "Show the Proof\n",
    "========"
   ]
  },
  {
   "cell_type": "code",
   "execution_count": 1,
   "metadata": {},
   "outputs": [
    {
     "data": {
      "text/html": [
       "<table><tr><th>&nbsp;</th><th>step type</th><th>requirements</th><th>statement</th></tr>\n",
       "<tr><td>0</td><td>assumption</td><td></td><td><span style=\"font-size:20px;\"><a class=\"ProveItLink\" href=\"../b4680a4e61bcfe9717e4a7089519b17d8aaa79650/expr.ipynb\"><img src=\"data:image/png;base64,iVBORw0KGgoAAAANSUhEUgAAAJEAAAAVBAMAAAC01xHeAAAAMFBMVEX///9ERETc3NyqqqpUVFS6\n",
       "urrMzMwyMjIQEBCIiIh2dnYiIiLu7u5mZmaYmJgAAABJJ2g3AAAAAXRSTlMAQObYZgAAAmpJREFU\n",
       "OMulVD1oFEEU/m6T+9ubW92IilVysZIUuSpiIeZCop0eYhErr0ghWtwSsYomi6IgETzRwoCaYBoT\n",
       "IlwnyRWeoIg/xRaHEuT0sPGv8A9OBJG8t3uTm1V2FRzYnffmvfnem2/ePADGK/zniC328CRWgGq4\n",
       "5+EQm5FnqLMsJj8DZRbeB4YcDLIcp+85Cy/4p9vAPAungvzjgSlPsZWF2xIpQ7O2Mch/JvBk9yiG\n",
       "MacicdR0NmjDRVV5PFG5K+Xtr4lpYatIxq3e3r4goKilcjapHLU0y3RvUpHwxTRXgpDSlL62MLRr\n",
       "lZWMAhSt7mnQdEcipTnkXqBL3d3RXa9tkYST+xN8bEyzono9RLFE0076PrF+lDM8BGH5EnkHXGuJ\n",
       "CXKYwywGuPjUa8mj36FplKORMHaeF1NINlp2caNOYg040uMtbMhz6ea8A01XKpLx2PDwAQYusrKV\n",
       "9owWuDwbKUnA5YPPSFwGXqKNBFz4o0ijlK7VQkpxKXSyJqwx+i+MXC0YjptYE8a4PB2Xh9aE4PVy\n",
       "G4mWU3brdC5PumvsGiGpmktk4168HzM5mWSEEn9Db+o6K/vXgTRCitNLw1tfFWB3mdOdBI65broF\n",
       "Qxak7qDjV8TW+J7wNC+RHnGQn2oVeEgJ1+8rPUrTNEuIOBDfJB9liG1Lize9TE4XvNXMpXEY3d+J\n",
       "i5N+JIPPErNjeOCxnEW0KaOf8VXavvZr8e7a9iPxKOqWjk737vur6HPk+ofQ5qWXJJKxjnT/yuoS\n",
       "xGa2TtVrJ/6hq0i+vP4kln+LwTz5hjYYhjTEtJzzusz83/r0jhBbstDq42tlD5UEaExjkwAAAABJ\n",
       "RU5ErkJggg==\n",
       "\" style=\"display:inline;vertical-align:middle;\" /></a> <a class=\"ProveItLink\" href=\"proof.ipynb\" style=\"text-decoration: none\">&#x22A2;&nbsp;</a><a class=\"ProveItLink\" href=\"../4a5c5463eb1419c088f5e27a309394c534d817730/expr.ipynb\"><img src=\"data:image/png;base64,iVBORw0KGgoAAAANSUhEUgAAAHwAAAAVBAMAAAB2y5cfAAAAMFBMVEX///8QEBC6urrMzMxUVFRm\n",
       "ZmZERETc3NwyMjKqqqp2dnaIiIiYmJgiIiLu7u4AAAAU9Wx4AAAAAXRSTlMAQObYZgAAAhdJREFU\n",
       "OMulVEFoE1EQfUlsNt1svnvzINUIQg89NAdPgqTUknoQXDA5FalY2FJ6aE8pIqWLIEWoNiCC4MFc\n",
       "RLRQIqggFRtPFUXIsSihoZQiFqUQaBVFnNmfbzbIXwUXlv/+zLz5b+bPLvB/TyPc3Rfis9JAjcFb\n",
       "XURsQOc5Re954CHjm7qghFbcInuBIi3GRV3Qilb4BiW2yn7+rpIu6khws3Ojvq7w5dFpQNiwHszM\n",
       "zOrYUS/Yh4VAJZVV6hsmgD3Xfa+jd5WpsqXhuyO8KQbY0ca9Ki33gdPAeJDSPVXIj6nOUcwnvKv2\n",
       "8CYYtYlshZY7wHEIr+PIV8DjFoyQwjJWcYuwCPY3jTmHlmNACslqyyieFgjmgf5paTiY5rnKSb09\n",
       "9bpqXWxo6Bxny4LIKVXUs94vBD8AF9CmA4f/mKAoCfMkXXgnCCwNPslYji+hCWteiecbNZoQbK+1\n",
       "6WRO2VI8xgcBs5GLlBIy8/eVnJITp1rWkrt4yZuzv9kG0RO7BF7Te7vGahaAk77P9GCpaTEddP+I\n",
       "2wZ3GZ/Tiv6RM/+UF4eI79ynr8B13QriDsQ3VWMNYnL50Qt55rWMtBaPzsOa+kqlXuXxZakxO4Yt\n",
       "2a4Sok11zqGOiTjTHlp5U3YLZE3PxAH/uuYamHVUwJvQn4FZaYHt5yPLEJfYtFjIX/+HD1b1IJiN\n",
       "a+94jIEw+vBf/2VXQnzJDH4BUxZ7eVP/VIMAAAAASUVORK5CYII=\n",
       "\" style=\"display:inline;vertical-align:middle;\" /></a></span></td></tr>\n",
       "</table>"
      ],
      "text/plain": [
       "<proveit._core_.proof._ShowProof at 0x7f94eb0be400>"
      ]
     },
     "execution_count": 1,
     "metadata": {},
     "output_type": "execute_result"
    }
   ],
   "source": [
    "import proveit\n",
    "%show_proof"
   ]
  },
  {
   "cell_type": "code",
   "execution_count": null,
   "metadata": {},
   "outputs": [],
   "source": []
  }
 ],
 "metadata": {
  "kernelspec": {
   "display_name": "Python 3",
   "language": "python",
   "name": "python3"
  }
 },
 "nbformat": 4,
 "nbformat_minor": 0
}
