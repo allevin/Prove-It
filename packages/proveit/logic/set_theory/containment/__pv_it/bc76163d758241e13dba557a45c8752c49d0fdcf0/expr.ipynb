{
 "cells": [
  {
   "cell_type": "markdown",
   "metadata": {},
   "source": [
    "Expression of type <a class=\"ProveItLink\" href=\"../../../../../../../doc/html/api/proveit.logic.Forall.html\">Forall</a>\n",
    "=======================\n",
    "# from context <a class=\"ProveItLink\" href=\"../../_context_.ipynb\">proveit.logic.set_theory.containment</a>"
   ]
  },
  {
   "cell_type": "code",
   "execution_count": 1,
   "metadata": {},
   "outputs": [],
   "source": [
    "# import Expression classes needed to build the expression\n",
    "from proveit._common_ import A, B, C\n",
    "from proveit.logic import Forall, SubsetEq"
   ]
  },
  {
   "cell_type": "code",
   "execution_count": 2,
   "metadata": {},
   "outputs": [
    {
     "data": {
      "text/html": [
       "<strong id=\"expr\">expr:</strong> <a class=\"ProveItLink\" href=\"expr.ipynb\"><img src=\"data:image/png;base64,iVBORw0KGgoAAAANSUhEUgAAAKcAAAAXBAMAAACc8kKqAAAAMFBMVEX///8QEBC6urrMzMxUVFRm\n",
       "ZmZERETc3NwyMjKqqqp2dnaIiIiYmJgiIiLu7u4AAAAU9Wx4AAAAAXRSTlMAQObYZgAAApdJREFU\n",
       "OMu1lU1oE1EQx//52GyabNbgTS+NUMWLNAdvUhRtxFsjmh6CUD24vUjdg1o8SCMIvfiRi70aEbEq\n",
       "pAsWFQRdxYMoSCmoIMZuFEEoaFGq1kN15r3dzZJA0/ixkHkfM+/33sybeQH+x+d0uiBsrax/RL8Z\n",
       "7jzrALpVNn2tGv127oCaV7LAdR6e7wDq2l5wh3drtdqs7F62Ed5rowScoJF6cPXMpPRem5Nx67vv\n",
       "az6+JTFl4ikQJ6VSXj00JGEnh0xu1FcNzWnWbADqtOW10dFTHXi/WTbWgww30YyvUJZYHgdidMRv\n",
       "hvG6A2hRpoBzyRYuNxRjJZbvgUQe2AUMc6xyxXn2KCxNJhYLu7P+gulC9Y7bPSvkO2y3AqnA35Dt\n",
       "drqI3gOdZOQNcIinYlKjpZFMQx00jBG6DRuxtLtkrZAZjOWboHOml8hkmkKS9uilY00EoMoOhL9j\n",
       "kzAMf6XtvQT5wiLS3z8gJlIN6C+vliIL5LedcqCvp4ltAWjKgjKjS1K9QpZWEEoxCokQBvKmW7ie\n",
       "lVC9RD4kqINPAejnLJ6YSblkiqvFK+d1LGg+JeKhz/rQAbZQXPcxvJNM/PR3ob33pkcQlaSXwds/\n",
       "wtlJ0PiCzPh9nkLcXJWvg324SOW/ptIEnQQeOoqM/c8g9KqbSLFlOe4555apRnm6kRdwSiFEW4QI\n",
       "qlsB6GGKQLlLZgnHe96DbqHK7h6HdvRHvvmlOVMQ4YpzQWhcqOR+wglAl0RCjIv+oOuXLFOzXXnU\n",
       "/VeL4n8l4L66DPUFnem5sCoj4ReCVmkHven3PuRuOAHo5GJhD/vymJNf31+stjx9bjrXao2nzz1f\n",
       "qXWfWLuDHGujj5p/AFXb/J3cwspQ1TBE7f/1F/0HjN+qu6GO3pWjWwAAAABJRU5ErkJggg==\n",
       "\" style=\"display:inline;vertical-align:middle;\" /></a><br>"
      ],
      "text/plain": [
       "expr: forall_{C | B subseteq C} (A subseteq C)"
      ]
     },
     "execution_count": 2,
     "metadata": {},
     "output_type": "execute_result"
    }
   ],
   "source": [
    "# build up the expression from sub-expressions\n",
    "expr = Forall([C], SubsetEq(A, C), conditions = [SubsetEq(B, C)])"
   ]
  },
  {
   "cell_type": "code",
   "execution_count": 3,
   "metadata": {},
   "outputs": [
    {
     "name": "stdout",
     "output_type": "stream",
     "text": [
      "Passed sanity check: built 'expr' is the same as the stored Expression.\n"
     ]
    }
   ],
   "source": [
    "# check that the built expression is the same as the stored expression\n",
    "%check_expr"
   ]
  },
  {
   "cell_type": "code",
   "execution_count": 4,
   "metadata": {},
   "outputs": [
    {
     "data": {
      "text/html": [
       "<table><tr><th>&nbsp;</th><th>core type</th><th>sub-expressions</th><th>expression</th></tr>\n",
       "<tr><td>0</td><td>Operation</td><td>operator:&nbsp;1<br>operand:&nbsp;2<br></td><td><a class=\"ProveItLink\" href=\"expr.ipynb\"><img src=\"data:image/png;base64,iVBORw0KGgoAAAANSUhEUgAAAKcAAAAXBAMAAACc8kKqAAAAMFBMVEX///8QEBC6urrMzMxUVFRm\n",
       "ZmZERETc3NwyMjKqqqp2dnaIiIiYmJgiIiLu7u4AAAAU9Wx4AAAAAXRSTlMAQObYZgAAApdJREFU\n",
       "OMu1lU1oE1EQx//52GyabNbgTS+NUMWLNAdvUhRtxFsjmh6CUD24vUjdg1o8SCMIvfiRi70aEbEq\n",
       "pAsWFQRdxYMoSCmoIMZuFEEoaFGq1kN15r3dzZJA0/ixkHkfM+/33sybeQH+x+d0uiBsrax/RL8Z\n",
       "7jzrALpVNn2tGv127oCaV7LAdR6e7wDq2l5wh3drtdqs7F62Ed5rowScoJF6cPXMpPRem5Nx67vv\n",
       "az6+JTFl4ikQJ6VSXj00JGEnh0xu1FcNzWnWbADqtOW10dFTHXi/WTbWgww30YyvUJZYHgdidMRv\n",
       "hvG6A2hRpoBzyRYuNxRjJZbvgUQe2AUMc6xyxXn2KCxNJhYLu7P+gulC9Y7bPSvkO2y3AqnA35Dt\n",
       "drqI3gOdZOQNcIinYlKjpZFMQx00jBG6DRuxtLtkrZAZjOWboHOml8hkmkKS9uilY00EoMoOhL9j\n",
       "kzAMf6XtvQT5wiLS3z8gJlIN6C+vliIL5LedcqCvp4ltAWjKgjKjS1K9QpZWEEoxCokQBvKmW7ie\n",
       "lVC9RD4kqINPAejnLJ6YSblkiqvFK+d1LGg+JeKhz/rQAbZQXPcxvJNM/PR3ob33pkcQlaSXwds/\n",
       "wtlJ0PiCzPh9nkLcXJWvg324SOW/ptIEnQQeOoqM/c8g9KqbSLFlOe4555apRnm6kRdwSiFEW4QI\n",
       "qlsB6GGKQLlLZgnHe96DbqHK7h6HdvRHvvmlOVMQ4YpzQWhcqOR+wglAl0RCjIv+oOuXLFOzXXnU\n",
       "/VeL4n8l4L66DPUFnem5sCoj4ReCVmkHven3PuRuOAHo5GJhD/vymJNf31+stjx9bjrXao2nzz1f\n",
       "qXWfWLuDHGujj5p/AFXb/J3cwspQ1TBE7f/1F/0HjN+qu6GO3pWjWwAAAABJRU5ErkJggg==\n",
       "\" style=\"display:inline;vertical-align:middle;\" /></a></td></tr>\n",
       "<tr><td>1</td><td>Literal</td><td></td><td><a class=\"ProveItLink\" href=\"../../../../boolean/quantification/universal/__pv_it/265f8c02ac1094d56e0e6410a1c1fd3500dc9f540/expr.ipynb\"><img src=\"data:image/png;base64,iVBORw0KGgoAAAANSUhEUgAAAAwAAAAQBAMAAADQT4M0AAAAMFBMVEX///8QEBC6urrMzMxUVFRm\n",
       "ZmZERETc3NwyMjKqqqp2dnaIiIiYmJgiIiLu7u4AAAAU9Wx4AAAAAXRSTlMAQObYZgAAAFhJREFU\n",
       "CNdjeMAABhdAxGmGlSCqj6EMSLInMHAAJVknMPAsLy+vBYp8S0u7BaScGRjSgZQKA18DkOJl4D4A\n",
       "pLgP8IJM4mswARuX7gSmpoKNZWDcAKZ4gCoAgTQTILaSE58AAAAASUVORK5CYII=\n",
       "\" style=\"display:inline;vertical-align:middle;\" /></a></td></tr>\n",
       "<tr><td>2</td><td>Lambda</td><td>parameter:&nbsp;11<br>body:&nbsp;3<br>conditions:&nbsp;4<br></td><td><a class=\"ProveItLink\" href=\"../b39d3b9f1d5180ad76206fce7b375c0c3641f04a0/expr.ipynb\"><img src=\"data:image/png;base64,iVBORw0KGgoAAAANSUhEUgAAAM4AAAAVCAMAAAA5OCEaAAAANlBMVEX///8UFBQNDQ3MzMyqqqoi\n",
       "IiIyMjK6uroQEBB2dnbc3NyYmJhmZmZUVFRERESIiIju7u4AAAAKhZlwAAAAAXRSTlMAQObYZgAA\n",
       "Ai5JREFUWMPNV9e24yAMZJdqEEX//7M364YoBqecu+HFsYNnNGrIjH3HEvb/cev43vtON48W/UH7\n",
       "UgwewDELd3ZzX9zJ5zmAT+Q4j+gfKyj9vPmLcavTYbvOlkrFHVZ/RyW3VVhScqhpdExYL4B6il1C\n",
       "JyV3+xa8k8GxSDUnMZXBiqnjv4rDLRM5HON+9RPsGlqZY482d4JjKKQVUPjAyq5Hao5kJnLijupw\n",
       "mWBX0IDi3H+ndHSRKPFBTC3x3VxvOYIYywm7Xkmc18WuoC1m89JZoWVuC8oNNE90YgIdjXxPTYdj\n",
       "gbGcLcesCmmMXUMD9sq/6lae5Jei1uuc5Z2mlz3YcAg1lPMomRgjSMcm2DW07JZ/JSf5vMkQYr36\n",
       "B2ZyOhx1mVZy9tJJ0k+wa2gkfTbH4O8fWSyTC4SUCv93NHgM13645OA4lHOUTqTOlzegTb4X/PJN\n",
       "UoVEzvbL0LwB0euFLcdEztGeaWPrYtfQPh8bcOkIIBE1J6g4mg9NS9lpPx2OcbLxIygexRi7hs6V\n",
       "vKQrOZwenMGdR05vLEiqnWA6HG7YCo5Th/atPnYD7TYHaBoBVs6YxVF8tNizb4ZyLGDaq3oQaTnG\n",
       "jXovHW5UNQW02A009+oxwInb4/QaORsMqnVcCYhqevw2HPVoSeVA2OZPpe6MkE+a31bfBz5NpkPO\n",
       "761mfHxhLfFr5DCVrv8DclhdW5jmHwgvYz+9rH8XwVv2PdFh9s2P68jbR5+R8wNnEhmCnqKaUgAA\n",
       "AABJRU5ErkJggg==\n",
       "\" style=\"display:inline;vertical-align:middle;\" /></a></td></tr>\n",
       "<tr><td>3</td><td>Operation</td><td>operator:&nbsp;8<br>operands:&nbsp;5<br></td><td><a class=\"ProveItLink\" href=\"../27117f0c275afe39a98419cc385632e722b65ac10/expr.ipynb\"><img src=\"data:image/png;base64,iVBORw0KGgoAAAANSUhEUgAAADsAAAARBAMAAACRPMnQAAAAMFBMVEX///92dnYQEBBERERUVFS6\n",
       "urqIiIhmZmaqqqrc3Nzu7u6YmJgyMjIiIiLMzMwAAACFkkdwAAAAAXRSTlMAQObYZgAAAOJJREFU\n",
       "KM9jYACBtwwYgCvZvZqzAMI+DxXLuXv37lUIU2gDA2vRBjCT+/4CiCFZcM1rbgEJ+Qlg9ox6MM15\n",
       "E2H2IZCGIAg7IT8ARLEEwGXZf4DI6WA264J+sCVrEJrnHwCR68DspQzvE0D0E4R0/QYEO4BhfgGa\n",
       "9P0JcCafi4u/AYjBi5D+DybB/mFlYGACW8XeAJfWBxEcD0AkUJBXARxQV+HS/iCN7GDfAqV5PkDC\n",
       "og4mDXarFMw7zL8goiFnoYHKDfR3OMh5k/VPMnDb/ylAi5EnR8obGKgJ2O/eRUQoBAAAJCI/6LRb\n",
       "9QIAAAAASUVORK5CYII=\n",
       "\" style=\"display:inline;vertical-align:middle;\" /></a></td></tr>\n",
       "<tr><td>4</td><td>ExprTuple</td><td>6</td><td><a class=\"ProveItLink\" href=\"../c7e283dada24f439e5a8fb93c16419c1f801c9f60/expr.ipynb\"><img src=\"data:image/png;base64,iVBORw0KGgoAAAANSUhEUgAAAEkAAAAVBAMAAAD4Ed5jAAAAMFBMVEX////c3NwiIiJERESqqqqY\n",
       "mJh2dnZmZmYQEBDu7u4yMjJUVFTMzMyIiIi6uroAAAAs73DqAAAAAXRSTlMAQObYZgAAAWJJREFU\n",
       "KM9jYCAO8F0goCAORJwG4uj/u3dbPcCQ57y8vZSxgP0AkLkSxG9mYGD/B5G6paSkpAdhZgQw8FUE\n",
       "MCxgYOAFWcjzF4h/g2UO3YQbNUsTSOQLMIQxMHBMADJ5PzIwsH4DyTAqIixcAZJ6wcAwg4HhFYjP\n",
       "3MDAwNQJYnEjXMf+BUSKA2UdGMpATP4NDIyLJ4BtQRglvwBEzmFgYCtgWApint97tyiAAeZjKKgP\n",
       "gDJYFjD0gej7Agyc2uiq9AVgIdrAAPa/BUglWCsTQtV/MAl0B88HiCpQIMQngJ3sAFfVD7btAFhV\n",
       "Cyi4vgKJ/WB5Tj24qv0g77BDbDSFBhfjL2hQ1sBUnQeFdyYQsy5gSIcG14mVUMnXi6AxxAoMr+cg\n",
       "HwBD4hHQVPvfu3ctxUwMp1eXg13B9YCBQ4Bg2gLGEGsCQVW5sJSDiDwlJUTKgaYyUExJEzKKG+Qm\n",
       "RkIp+g4DAwAHZlVnt3IYoQAAAABJRU5ErkJggg==\n",
       "\" style=\"display:inline;vertical-align:middle;\" /></a></td></tr>\n",
       "<tr><td>5</td><td>ExprTuple</td><td>7, 11</td><td><a class=\"ProveItLink\" href=\"../64d36ff9aa3116e2d1fb41c420506ad5fe919f950/expr.ipynb\"><img src=\"data:image/png;base64,iVBORw0KGgoAAAANSUhEUgAAADUAAAAVBAMAAAAUZLt1AAAAMFBMVEX////c3NwiIiJERESqqqqY\n",
       "mJh2dnZmZmYQEBDu7u4yMjJUVFTMzMyIiIi6uroAAAAs73DqAAAAAXRSTlMAQObYZgAAAS1JREFU\n",
       "KM9jYMAH+C5gFY4DEach7ENwUc7L20sZC9gPAJkrISLr4XIZAQx8FQEMCxgYeCFGsupPgErN0gQS\n",
       "+QIMYQwMHBAxkXoBqNwKkMALBoYZDAyvICIX7j+AMNi/gEhxBgZmB4YyiGMn+AdA5OQXgMg5DAxs\n",
       "BQxLwSLzGM5DvVIPVcPAsoChD8x4wCBfABHSh9nL18DwD0Tz7N693wAi9B9MAt3D8wEixwd07wKI\n",
       "XD/YvANguRYQ24GBgakBIrcf5AV2iJmmQIoRKMf1AWwSxE2ZoNBYwJAOCgogZv7JwPkJJAT033OQ\n",
       "e4B+eMTAINy/kIHV/lcBZz9I7PTqcgeQ4VwPGDgEkKILiQ0KM9YEBJcVOQJzEXGELscJ8pM0go+c\n",
       "ArhB5jNiTxN3GBgAYvhEoGDobKYAAAAASUVORK5CYII=\n",
       "\" style=\"display:inline;vertical-align:middle;\" /></a></td></tr>\n",
       "<tr><td>6</td><td>Operation</td><td>operator:&nbsp;8<br>operands:&nbsp;9<br></td><td><a class=\"ProveItLink\" href=\"../687a49c142268529cbd1eb03bfc2582c30ffab140/expr.ipynb\"><img src=\"data:image/png;base64,iVBORw0KGgoAAAANSUhEUgAAAD0AAAARBAMAAACcIrmXAAAAMFBMVEX///+qqqru7u4iIiJ2dnbc\n",
       "3NyIiIjMzMxmZmYQEBC6uroyMjJERERUVFSYmJgAAADLUcuvAAAAAXRSTlMAQObYZgAAAPZJREFU\n",
       "KM9jYGB4+//u3dMLGNABU86NPtYGEGsOAwPHL4hgtrGxsRWE6fmAgavzAZDB/g2I/4LFipPg2rWN\n",
       "gIR/AJBg+8rAwPcFJMZqijB+pwKQWAli8UxgYGCeBGLxIlzB8RFERoAI/gsMrHsUwGYitMdvAJHq\n",
       "IKL+WlrzA7BgLUK+/wGcmR/AwGSLLm8fAGeeBKkBK2dGyP8Hk2BbQV577wB2lABcfj6IYCwAef8f\n",
       "kLgPlmGygsvfB2nlYIB6n/U3NFDaYfL1CUDCCeb9yk1Q4bWboeHLB/T/CpAbOc7/vXt7H0bsMNTu\n",
       "7RBgoDLgMDZGxC8EAADqLzyAOaIz4QAAAABJRU5ErkJggg==\n",
       "\" style=\"display:inline;vertical-align:middle;\" /></a></td></tr>\n",
       "<tr><td>7</td><td>Variable</td><td></td><td><a class=\"ProveItLink\" href=\"../../../../../__pv_it/2cbe72a7ad6f655694dd697106680215e8489b600/expr.ipynb\"><img src=\"data:image/png;base64,iVBORw0KGgoAAAANSUhEUgAAAA8AAAAOBAMAAAACpFvcAAAALVBMVEX///8QEBBERERUVFS6urqI\n",
       "iIhmZmaqqqrc3Nzu7u6YmJgyMjIiIiLMzMwAAADtIaYWAAAAAXRSTlMAQObYZgAAAFtJREFUCNdj\n",
       "YACBOwxQsA9Kc52bAGG05zVAGAFxDmCaZULdAjBjCsO9ADDDgaEvAUTzGhvbKYCVMDAwbgAxChgY\n",
       "eASANAeQwf0AyJgNxEwvGRia5HYwcOm9TgAA6BoR3jrzwFcAAAAASUVORK5CYII=\n",
       "\" style=\"display:inline;vertical-align:middle;\" /></a></td></tr>\n",
       "<tr><td>8</td><td>Literal</td><td></td><td><a class=\"ProveItLink\" href=\"../e2e953faef156628f98c5cddef8a5f8ea43a24550/expr.ipynb\"><img src=\"data:image/png;base64,iVBORw0KGgoAAAANSUhEUgAAAA4AAAAQBAMAAADUulMJAAAAJFBMVEX///+qqqpmZmZUVFTc3Nzu\n",
       "7u7MzMy6uroiIiIyMjKIiIgAAABMlAC/AAAAAXRSTlMAQObYZgAAAD1JREFUCNdjYGBY2dHR0c7A\n",
       "kLGUAQRYWsAUA3MBhI6EUAzJaDQHlGYSgNCs7VCBSDUoo3gG2FwcgKkDBNoBPfYM6Npt1O0AAAAA\n",
       "SUVORK5CYII=\n",
       "\" style=\"display:inline;vertical-align:middle;\" /></a></td></tr>\n",
       "<tr><td>9</td><td>ExprTuple</td><td>10, 11</td><td><a class=\"ProveItLink\" href=\"../dad23c4ce051fb8a92f116e8b4d54eeb5e4476f70/expr.ipynb\"><img src=\"data:image/png;base64,iVBORw0KGgoAAAANSUhEUgAAADcAAAAVBAMAAAAQkWtIAAAAMFBMVEX////c3NwiIiJERESqqqqY\n",
       "mJh2dnZmZmYQEBDu7u4yMjJUVFTMzMyIiIi6uroAAAAs73DqAAAAAXRSTlMAQObYZgAAAUFJREFU\n",
       "KM9jYMAL+C5gF48DEaeBmHX/792b18GEOS9vL2UsYD8AZK4E8TkMGBjqH0AlMwIY+CoCGBYwMPCC\n",
       "TT0PJM9vgMjN0gQS+QIMYUA9E0AC9wUYGOITIJIrQCIvGBhmMDC8AgtYALEGWBkD+xcQKc7AwOzA\n",
       "UAYW+c3AIGUJ0Si/AETOYWBgK2BYCmLy/L57XRXqnPoAKINlAUMfiOb9yMAwCeoefQFYADQw/APR\n",
       "zA1ABV8hYv/BJNB+ng8QSX6gLtZvEMl+sJEHwJItYG8C7eH+ApHcD3I0O8RYU5g3ga7khIUHQyYo\n",
       "TBcwpEO9ydM1gWG+AkgMaMJzkKOAXnkEpIr/7969CmjyjI/gmFhd7gCiuR4wcAggRdND5DgDBh9r\n",
       "AhI/AFkyFxZlWCQ5QcEojeDzImvkBtnHiCOZ3GFgAADrEU9ADAe1sgAAAABJRU5ErkJggg==\n",
       "\" style=\"display:inline;vertical-align:middle;\" /></a></td></tr>\n",
       "<tr><td>10</td><td>Variable</td><td></td><td><a class=\"ProveItLink\" href=\"../../../../../__pv_it/077b2ff79244fb4582cbe22c6e3356fa92a52f2f0/expr.ipynb\"><img src=\"data:image/png;base64,iVBORw0KGgoAAAANSUhEUgAAABAAAAAOBAMAAADUAYG5AAAAMFBMVEX///+qqqru7u4iIiJ2dnbc\n",
       "3NyIiIjMzMxmZmYQEBC6uroyMjJERERUVFSYmJgAAADLUcuvAAAAAXRSTlMAQObYZgAAAGpJREFU\n",
       "CNdjYGB4+//u3dMLGIBgDgMDxy8gzf4NiP8CGWxfGRj4vgAZPBMYGJgnARn8FxhY9ygAGfXX0pof\n",
       "gDTlBzAw2YIYJ0EckBBI53sHoBH/gIz7AhBjWH9DjancBLTl/N+7t/cxMAAA3u4f/5xagjYAAAAA\n",
       "SUVORK5CYII=\n",
       "\" style=\"display:inline;vertical-align:middle;\" /></a></td></tr>\n",
       "<tr><td>11</td><td>Variable</td><td></td><td><a class=\"ProveItLink\" href=\"../../../../../__pv_it/985a1bdf1540838275dec15f4ad6de261cca93ce0/expr.ipynb\"><img src=\"data:image/png;base64,iVBORw0KGgoAAAANSUhEUgAAAA8AAAAOBAMAAAACpFvcAAAAMFBMVEX////MzMyqqqoiIiIyMjK6\n",
       "uroQEBB2dnbc3NyYmJhmZmZUVFRERESIiIju7u4AAAB204erAAAAAXRSTlMAQObYZgAAAGZJREFU\n",
       "CNdjYGDgu7NrJccCBgaGsgkMrMsmMDA8sQNy6hsYGNweABlhDAxcn4A0QxcDQ78DiPGQgWH9BAYI\n",
       "sG+AMv6DSaCGfBDNJMDAsB+kmwuI5S8AiTog5gSaEwXWIO29SgFIAQBC+RaDQlidVgAAAABJRU5E\n",
       "rkJggg==\n",
       "\" style=\"display:inline;vertical-align:middle;\" /></a></td></tr>\n",
       "</table>\n"
      ],
      "text/plain": [
       "0. forall_{C | B subseteq C} (A subseteq C)\n",
       "   core type: Operation\n",
       "   operator: 1\n",
       "   operand: 2\n",
       "1. forall\n",
       "   core type: Literal\n",
       "   sub-expressions: \n",
       "2. C -> (A subseteq C) | B subseteq C\n",
       "   core type: Lambda\n",
       "   parameter: 11\n",
       "   body: 3\n",
       "   conditions: 4\\n3. A subseteq C\n",
       "   core type: Operation\n",
       "   operator: 8\n",
       "   operands: 5\n",
       "4. (B subseteq C)\n",
       "   core type: ExprTuple\n",
       "   sub-expressions: 6\n",
       "5. (A , C)\n",
       "   core type: ExprTuple\n",
       "   sub-expressions: 7, 11\n",
       "6. B subseteq C\n",
       "   core type: Operation\n",
       "   operator: 8\n",
       "   operands: 9\n",
       "7. A\n",
       "   core type: Variable\n",
       "   sub-expressions: \n",
       "8. subseteq\n",
       "   core type: Literal\n",
       "   sub-expressions: \n",
       "9. (B , C)\n",
       "   core type: ExprTuple\n",
       "   sub-expressions: 10, 11\n",
       "10. B\n",
       "    core type: Variable\n",
       "    sub-expressions: \n",
       "11. C\n",
       "    core type: Variable\n",
       "    sub-expressions: "
      ]
     },
     "execution_count": 4,
     "metadata": {},
     "output_type": "execute_result"
    }
   ],
   "source": [
    "# display the expression information\n",
    "expr.exprInfo()"
   ]
  },
  {
   "cell_type": "code",
   "execution_count": null,
   "metadata": {},
   "outputs": [],
   "source": []
  }
 ],
 "metadata": {
  "kernelspec": {
   "display_name": "Python 3",
   "language": "python",
   "name": "python3"
  }
 },
 "nbformat": 4,
 "nbformat_minor": 0
}
