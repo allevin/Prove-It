{
 "cells": [
  {
   "cell_type": "markdown",
   "metadata": {},
   "source": [
    "Show the Proof\n",
    "========"
   ]
  },
  {
   "cell_type": "code",
   "execution_count": 1,
   "metadata": {},
   "outputs": [
    {
     "data": {
      "text/html": [
       "<table><tr><th>&nbsp;</th><th>step type</th><th>requirements</th><th>statement</th></tr>\n",
       "<tr><td>0</td><td>specialization</td><td>1, 2</td><td><span style=\"font-size:20px;\"><a class=\"ProveItLink\" href=\"../d7aa74e9f98a870a4baea1f9d4ecffeb5ecae4830/expr.ipynb\"><img src=\"data:image/png;base64,iVBORw0KGgoAAAANSUhEUgAAAG8AAAAVBAMAAAC6Uq30AAAAMFBMVEX////c3NxERESqqqpUVFS6\n",
       "urrMzMwyMjIQEBCIiIh2dnYiIiLu7u5mZmaYmJgAAABXZE4RAAAAAXRSTlMAQObYZgAAAblJREFU\n",
       "OMtjYGDgu8dAGmBbJQCieHYhC7JOwK+JLwCksxnE5PyALJECobIxtTz57+KiHsBwDcS+DiK4GpCl\n",
       "ayBUPZhk3L179/Y5MKkmBgberwzsIOYKDI2cEJfy7T8AE+F5nQD12U8g/sLAtwCrRg6IBuH7AnAh\n",
       "xo1QMz8CDfzFwNOAVWM4hJowPwAhFgKhmIDquHsYGJSxarwFCdoD9g8QYuwQit+BgbEI6KC1MI28\n",
       "BUga68DkUYZ8pFhhgXgy33PmbZBx5kD8HiSQAXTVbWDw7QbFZytYTQCD/AUMjfMFGHi2AOkIkCOA\n",
       "0iltyFH4FRx+Li7+CgiN3BBKA6QZaGU+iKMOZEQkoGtkBYYukvttIdQXkBMXQDRyg+KEpQBJIzgt\n",
       "GQBlECHGugcSjf+AhL8BxKlgP3JtQNKoB4o4oCw7PB2yXT8Aj0bG70DGc4zoYGOAhPVxUKT9gSW5\n",
       "EgNENGbUMCBFB0o8RjMwCPUXMvDpf7+AmsR59b+4uIMjqxR7khMglBlxJDlwEsYLuCbANPJhy1YM\n",
       "8Gy1e/cmFI3H4fmRZyeyuAghGx1BwQhJYHyLkS0hUHRwJkDLHADE2XRwrcuLAQAAAABJRU5ErkJg\n",
       "gg==\n",
       "\" style=\"display:inline;vertical-align:middle;\" /></a> <a class=\"ProveItLink\" href=\"proof.ipynb\" style=\"text-decoration: none\">&#x22A2;&nbsp;</a><a class=\"ProveItLink\" href=\"../e93b75139355971858a3a0fcf004e7fb734402600/expr.ipynb\"><img src=\"data:image/png;base64,iVBORw0KGgoAAAANSUhEUgAAADsAAAAYBAMAAAC2M5gYAAAAMFBMVEX///92dnYQEBBERERUVFS6\n",
       "urqIiIhmZmaqqqrc3Nzu7u6YmJgyMjIiIiLMzMwAAACFkkdwAAAAAXRSTlMAQObYZgAAASRJREFU\n",
       "KM9jYEADbAx4wRP80qVYxN4imBcgFLf/Fxfno1Cx82By7t27d48IQIWYDBgY6gMgSu8vgGledA/K\n",
       "eJ8AxA5g5oz6CXCXzYUy84H0fohRCfkBMGk/VogOBiMgvgQ2lHVB/waoLNcBhgMQ1hcGhjlWYNZS\n",
       "sEWQQNnA4Adm8H1JS78NEQtgmF8AleZlgEqz/WRgWAu2h8/Fxd8AKt0O8zizAlDJb7DVQE9CLWSw\n",
       "ZOCAGMQP1Mn9EcRqAJqpAJHlNGCIhQTBe6BjWX6AhIDSPB8g0uwNz08hvD0fZOYakE2/IIF6/44H\n",
       "A9zbfDpAgybrn2Tgtv8DsXEjLHSK/7u4nNmAHnOn8MY1nwM+2bn3gTF61wCn/Fr8CSkNv/Qt/NIT\n",
       "MEQAjr9Prm7ut9AAAAAASUVORK5CYII=\n",
       "\" style=\"display:inline;vertical-align:middle;\" /></a></span></td></tr>\n",
       "<tr><td>&nbsp;</td><td colspan=4 style=\"text-align:left\"><span style=\"font-size:20px;\"><a class=\"ProveItLink\" href=\"../../../../../__pv_it/2cbe72a7ad6f655694dd697106680215e8489b600/expr.ipynb\"><img src=\"data:image/png;base64,iVBORw0KGgoAAAANSUhEUgAAAA8AAAAOBAMAAAACpFvcAAAALVBMVEX///8QEBBERERUVFS6urqI\n",
       "iIhmZmaqqqrc3Nzu7u6YmJgyMjIiIiLMzMwAAADtIaYWAAAAAXRSTlMAQObYZgAAAFtJREFUCNdj\n",
       "YACBOwxQsA9Kc52bAGG05zVAGAFxDmCaZULdAjBjCsO9ADDDgaEvAUTzGhvbKYCVMDAwbgAxChgY\n",
       "eASANAeQwf0AyJgNxEwvGRia5HYwcOm9TgAA6BoR3jrzwFcAAAAASUVORK5CYII=\n",
       "\" style=\"display:inline;vertical-align:middle;\" /></a> : <a class=\"ProveItLink\" href=\"../../../../../__pv_it/2cbe72a7ad6f655694dd697106680215e8489b600/expr.ipynb\"><img src=\"data:image/png;base64,iVBORw0KGgoAAAANSUhEUgAAAA8AAAAOBAMAAAACpFvcAAAALVBMVEX///8QEBBERERUVFS6urqI\n",
       "iIhmZmaqqqrc3Nzu7u6YmJgyMjIiIiLMzMwAAADtIaYWAAAAAXRSTlMAQObYZgAAAFtJREFUCNdj\n",
       "YACBOwxQsA9Kc52bAGG05zVAGAFxDmCaZULdAjBjCsO9ADDDgaEvAUTzGhvbKYCVMDAwbgAxChgY\n",
       "eASANAeQwf0AyJgNxEwvGRia5HYwcOm9TgAA6BoR3jrzwFcAAAAASUVORK5CYII=\n",
       "\" style=\"display:inline;vertical-align:middle;\" /></a>, <a class=\"ProveItLink\" href=\"../../../../../__pv_it/077b2ff79244fb4582cbe22c6e3356fa92a52f2f0/expr.ipynb\"><img src=\"data:image/png;base64,iVBORw0KGgoAAAANSUhEUgAAABAAAAAOBAMAAADUAYG5AAAAMFBMVEX///+qqqru7u4iIiJ2dnbc\n",
       "3NyIiIjMzMxmZmYQEBC6uroyMjJERERUVFSYmJgAAADLUcuvAAAAAXRSTlMAQObYZgAAAGpJREFU\n",
       "CNdjYGB4+//u3dMLGIBgDgMDxy8gzf4NiP8CGWxfGRj4vgAZPBMYGJgnARn8FxhY9ygAGfXX0pof\n",
       "gDTlBzAw2YIYJ0EckBBI53sHoBH/gIz7AhBjWH9DjancBLTl/N+7t/cxMAAA3u4f/5xagjYAAAAA\n",
       "SUVORK5CYII=\n",
       "\" style=\"display:inline;vertical-align:middle;\" /></a> : <a class=\"ProveItLink\" href=\"../../../../../__pv_it/077b2ff79244fb4582cbe22c6e3356fa92a52f2f0/expr.ipynb\"><img src=\"data:image/png;base64,iVBORw0KGgoAAAANSUhEUgAAABAAAAAOBAMAAADUAYG5AAAAMFBMVEX///+qqqru7u4iIiJ2dnbc\n",
       "3NyIiIjMzMxmZmYQEBC6uroyMjJERERUVFSYmJgAAADLUcuvAAAAAXRSTlMAQObYZgAAAGpJREFU\n",
       "CNdjYGB4+//u3dMLGIBgDgMDxy8gzf4NiP8CGWxfGRj4vgAZPBMYGJgnARn8FxhY9ygAGfXX0pof\n",
       "gDTlBzAw2YIYJ0EckBBI53sHoBH/gIz7AhBjWH9DjancBLTl/N+7t/cxMAAA3u4f/5xagjYAAAAA\n",
       "SUVORK5CYII=\n",
       "\" style=\"display:inline;vertical-align:middle;\" /></a></span></td></tr><tr><td>1</td><td>theorem</td><td></td><td><span style=\"font-size:20px;\"> <a class=\"ProveItLink\" href=\"../../_proofs_/foldNotSupsetEq.ipynb\" style=\"text-decoration: none\">&#x22A2;&nbsp;</a><a class=\"ProveItLink\" href=\"../1db8cefc2c6c508d8ec7277eecece7d48c206b250/expr.ipynb\"><img src=\"data:image/png;base64,iVBORw0KGgoAAAANSUhEUgAAANEAAAAYBAMAAACW8wWgAAAAMFBMVEX///8QEBC6urrMzMxUVFRm\n",
       "ZmZERETc3NwyMjKqqqp2dnaIiIiYmJgiIiLu7u4AAAAU9Wx4AAAAAXRSTlMAQObYZgAAA1xJREFU\n",
       "SMe9VU1oE0EU/rrbZJPsNu3NniQH6cWf5lBR9NCgoeipQZqKB2lKdQse2oBiFQkNolQvbS714qUn\n",
       "rQgloh4kh0YF0Yo0IgXRpk1BRZBisX/W1tY3M9lNskkQiTowu2/ezHvf+50B/tFQ8b9GUxEn81f0\n",
       "7iziHCtYPaGZYsTLCoFkn/ilcqwsqbUu+Vsuw+YF7rD1YIVIDhEZxwL/RdLp9JWR7FZVCOjwIAqc\n",
       "p5USqhApIX6vNk3O3Jss0Ryn6cOEMMcWqxBpO/8qw6u5goiEBTFO/8kRzFEgb/f1RSoEkqKisNVv\n",
       "JuuwJFKHTpqvM7CTMyu6/u63us6WYpqRsImk7HFuGBx3FAIdS8CFHsAVIHSgm/MG+PfGcrDFyw3N\n",
       "06lwVY6wsXb2Btu6cMAsiCTX7pHXzb5NMr2sHJcSD6eZBAHvYAawehSua3VQ6xhhz0MS9KQHDbp+\n",
       "htXZY+AeXB6jvjzCNGXZEKhBFkml1M1TIKU6xlS5SR+F6zYfpFUr0k1ucwc/J3fRpw1oDLuzAUIt\n",
       "R2ry+1cMgWGjoeyEoJJmeYE5WsO7YWxKWBOHLWVF4uF1zQf44jPN98BJw2wDiT71OQGnOFxL/mg/\n",
       "BJI7yq8oOa7zra9ePA9bkXg4D9pF22kxuBehDZhthCpWG05WZEZeQ9gtmrmZ4lC9JqKH7kOMVc2M\n",
       "pNGYeNADC5LMw+QTvkIJQFpPtGRYirNpZGG9SHPIKMbY3sFcO/WTuMZUDHMFLzDOt0Yp3Zkc0i1d\n",
       "16O8N7SYumAUoisKjbp1f1YxK2GetN6MuI1m3x6F2U5yfUYcQVWcpXsqKI6dpgDGCn0KORnSfLBd\n",
       "XDaqB/YA3Gs5JCkFpfN7GM+2rgrGhCHavuX3X2MeO1gqNYZgC6OZtxEpaPRakCSWoOOQF/mSbsra\n",
       "GCRaNBgntll6uvjGnjOpXSSeVAagbEKZsuQp5Kb4SmQZ74MvlMb+DCKBPNMnSj4i+eOuQXxYgdI6\n",
       "LW9gdDl4JGZB8mIG7tYQzv1MUueeoKAPBduu5792joL3NDJLz0a64H0wW88YWtG9IMaj0rehKa4U\n",
       "OjFfdLI6bGHsK4P0qSSQM26Sl0o9V3njvpWRLIPkNDYoevop09ByN//Mnz06BXqeljoxVk40XIr5\n",
       "Cwih1+vl41zyAAAAAElFTkSuQmCC\n",
       "\" style=\"display:inline;vertical-align:middle;\" /></a></span></td></tr>\n",
       "<tr><td>&nbsp;</td><td colspan=4 style-\"text-align:left\"><a class=\"ProveItLink\" href=\"../../_proofs_/foldNotSupsetEq.ipynb\">proveit.logic.set_theory.containment.foldNotSupsetEq</a></td></tr><tr><td>2</td><td>assumption</td><td></td><td><span style=\"font-size:20px;\"><a class=\"ProveItLink\" href=\"../d7aa74e9f98a870a4baea1f9d4ecffeb5ecae4830/expr.ipynb\"><img src=\"data:image/png;base64,iVBORw0KGgoAAAANSUhEUgAAAG8AAAAVBAMAAAC6Uq30AAAAMFBMVEX////c3NxERESqqqpUVFS6\n",
       "urrMzMwyMjIQEBCIiIh2dnYiIiLu7u5mZmaYmJgAAABXZE4RAAAAAXRSTlMAQObYZgAAAblJREFU\n",
       "OMtjYGDgu8dAGmBbJQCieHYhC7JOwK+JLwCksxnE5PyALJECobIxtTz57+KiHsBwDcS+DiK4GpCl\n",
       "ayBUPZhk3L179/Y5MKkmBgberwzsIOYKDI2cEJfy7T8AE+F5nQD12U8g/sLAtwCrRg6IBuH7AnAh\n",
       "xo1QMz8CDfzFwNOAVWM4hJowPwAhFgKhmIDquHsYGJSxarwFCdoD9g8QYuwQit+BgbEI6KC1MI28\n",
       "BUga68DkUYZ8pFhhgXgy33PmbZBx5kD8HiSQAXTVbWDw7QbFZytYTQCD/AUMjfMFGHi2AOkIkCOA\n",
       "0iltyFH4FRx+Li7+CgiN3BBKA6QZaGU+iKMOZEQkoGtkBYYukvttIdQXkBMXQDRyg+KEpQBJIzgt\n",
       "GQBlECHGugcSjf+AhL8BxKlgP3JtQNKoB4o4oCw7PB2yXT8Aj0bG70DGc4zoYGOAhPVxUKT9gSW5\n",
       "EgNENGbUMCBFB0o8RjMwCPUXMvDpf7+AmsR59b+4uIMjqxR7khMglBlxJDlwEsYLuCbANPJhy1YM\n",
       "8Gy1e/cmFI3H4fmRZyeyuAghGx1BwQhJYHyLkS0hUHRwJkDLHADE2XRwrcuLAQAAAABJRU5ErkJg\n",
       "gg==\n",
       "\" style=\"display:inline;vertical-align:middle;\" /></a> <a class=\"ProveItLink\" href=\"../f6484a66b1aa51c9a71a37c785f62c96cf581d560/proof.ipynb\" style=\"text-decoration: none\">&#x22A2;&nbsp;</a><a class=\"ProveItLink\" href=\"../83db08eed61502eac30a181ad08f92051e60d40b0/expr.ipynb\"><img src=\"data:image/png;base64,iVBORw0KGgoAAAANSUhEUgAAAFoAAAAVBAMAAAA0iOSIAAAAMFBMVEX////c3NxERESqqqqYmJgQ\n",
       "EBDu7u4yMjKIiIi6urpUVFTMzMx2dnYiIiJmZmYAAABjE816AAAAAXRSTlMAQObYZgAAAWNJREFU\n",
       "KM9jYCATcDbgl2eZgMzbBaH2Yqrz+r9qlfoEhtfIYmUQqh5MMt69e/d6G0wqiIGB7ycDO5JiDohD\n",
       "WO4nwETYfDdAGNw/gPgXA8sBhGpWiCrh9wJwIcaLUIM+Ak35w8AWgFA9HUI19CN5ZhaEYgIq4w1j\n",
       "YFBGyLyBBEyCvQNCDOpS/gUMjEVAq88hZErAZCbDfqSA5II4fP+KjrcgM8wZ3gI9f/cOkBkJlpjA\n",
       "IP8AQ3W/AAPbLSA9FRHUP8G+X7VqvQJCNS+EUgXpABq+H001JzBsChCq7SDULyD2P4CiOhjEMACa\n",
       "hwgnzmuQ4P4CJNYboLhEBRTAQCH2DzDF3M8T4MHN+B3IcIeKM0CCJx0UuN9gMV9lgAjurWUMKCE4\n",
       "l4FBKL6QgUX/+wPUNMWn/2vVcnD4ViLFvAChJI0c88hpBjvgacBMsQzwFHv37iUU1enIHClCZi9E\n",
       "MY5ATuPYwAAAVwxdBnsjd+4AAAAASUVORK5CYII=\n",
       "\" style=\"display:inline;vertical-align:middle;\" /></a></span></td></tr>\n",
       "</table>"
      ],
      "text/plain": [
       "<proveit._core_.proof._ShowProof at 0x7f94eaa0cba8>"
      ]
     },
     "execution_count": 1,
     "metadata": {},
     "output_type": "execute_result"
    }
   ],
   "source": [
    "import proveit\n",
    "%show_proof"
   ]
  },
  {
   "cell_type": "code",
   "execution_count": null,
   "metadata": {},
   "outputs": [],
   "source": []
  }
 ],
 "metadata": {
  "kernelspec": {
   "display_name": "Python 3",
   "language": "python",
   "name": "python3"
  }
 },
 "nbformat": 4,
 "nbformat_minor": 0
}
