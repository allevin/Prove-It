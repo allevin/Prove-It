{
 "cells": [
  {
   "cell_type": "markdown",
   "metadata": {},
   "source": [
    "Show the Proof\n",
    "========"
   ]
  },
  {
   "cell_type": "code",
   "execution_count": 1,
   "metadata": {},
   "outputs": [
    {
     "data": {
      "text/html": [
       "<table><tr><th>&nbsp;</th><th>step type</th><th>requirements</th><th>statement</th></tr>\n",
       "<tr><td>0</td><td>specialization</td><td>1</td><td><span style=\"font-size:20px;\"> <a class=\"ProveItLink\" href=\"proof.ipynb\" style=\"text-decoration: none\">&#x22A2;&nbsp;</a><a class=\"ProveItLink\" href=\"../b52d2e5f9d0819216227835f0c5064d5492bb67b0/expr.ipynb\"><img src=\"data:image/png;base64,iVBORw0KGgoAAAANSUhEUgAAASoAAAAZBAMAAAB0jX6rAAAAMFBMVEX///8QEBC6urrMzMxUVFRm\n",
       "ZmYyMjKqqqp2dnaIiIiYmJju7u7c3NwiIiJEREQAAACUT5mwAAAAAXRSTlMAQObYZgAAA6xJREFU\n",
       "SMfdV1tIFFEY/veiu3PRlh7ssRGilxD3wXyLFV3qRXRBli5QTkJBWbQP6mPui8ZixEJa+eQWJEVU\n",
       "W5B0wW0fRItctSshTGoQUdoqonZRtP/MznXXcWcFITqwZ/6dc+b7v/lv5x/4IcRhi4ZV+LjZR8dg\n",
       "C8fA/8YqmoNPwqa33jBklQ2E5ggr0Vq3TakqM8fIhpB5biNWEsi+TDq1C96aBoA6wuoCudNoSp25\n",
       "XZA/hxNvxEoCOSfOCUEQTsneskwC1HOQT1iN4H920ow2yqQD7y7jdEvPikkDoSeUyHn6VhI8uOSp\n",
       "ADqIrPJxOS9gRpvFOASZK4LASzLbvILzAz2r/KgeZKherUgJSezB6/0gMC5kRV8cHk6YssFu46Xy\n",
       "OxqTUvM4FwZ0rKwVepBwD5exNoW/10j6K4n11WTSXLk7pIovOoe6NP5kpzXb9jj+4Oz06eMqpAOx\n",
       "Rlsj6ppk5QWAQQLURlhVAcwYMjm/6K9xS/Jp1WFBetyiKXWFmgOC4Wy/8eLgZVZHBTImfFqQh2IQ\n",
       "yaMqlboL3V3jRGghrHYBwxtXDxdQLknertx1AjXncKu7Ytp6BOwiubjScrCF04BwMOpLZ0VhOPYT\n",
       "ZxYTVgVARdYj9MR/BPOgAqwr0o15TUbZdVlbTKwhvVqZ17tK3nwujRVznFNAbF5v7WT6AVOI70ER\n",
       "53vIDSpSsF5yUZ9fPUPKYcgby2CFqRQ2Kq+ou2g9VuUdKogVAVT/OFJm24Z2on/JrBheBQ1VdsqO\n",
       "uSnOz93QKwfNDo2OUbf2qOpXRQdJJJ0HU3ElTGtAMD8LXMojJSkkD3rM/lP2IMxUKvESrbEEdIlR\n",
       "2t2p5Nd3NdriPUBpWNnVEBiS6jbN623VpAFhA9IBII69jWq5GiVae0VWzWNqpCp5ZguKl3aA67L6\n",
       "NkVFa2QKXmpj5o0iEdjZaEZlYHkNSB+JomXpxPlwAJRyZSuKypVBFyMrCqtPyeQ3gC/oRNl6Jeif\n",
       "JI5piF17HIrIf8gYrJOUTy3F4d7aCbQFp2Ol1A4EGdl5BujZJZ8+jo+teb0nRZs3iKxo1Rc2l01+\n",
       "6VTBRT+XypFm2aBtbTor6MtL2oljAxMgkmZXWtfncfJOWa4W330Z2PdKNAVzaNxCBj1DdhBnWGHF\n",
       "+P3+gxC7ergDHqGITouR8tK+6N8fyLWTUeJrIGs7lBDTU9+x9G3YIV8icbXZjtceN9qfFaQ6x76d\n",
       "Nd8hXzYkkA2Ecv+rXxPCVn4Pvtvkk38BjSsoTjtLkqUAAAAASUVORK5CYII=\n",
       "\" style=\"display:inline;vertical-align:middle;\" /></a></span></td></tr>\n",
       "<tr><td>&nbsp;</td><td colspan=4 style=\"text-align:left\"><span style=\"font-size:20px;\"><a class=\"ProveItLink\" href=\"../../../../../__pv_it/2cbe72a7ad6f655694dd697106680215e8489b600/expr.ipynb\"><img src=\"data:image/png;base64,iVBORw0KGgoAAAANSUhEUgAAAA8AAAAOBAMAAAACpFvcAAAALVBMVEX///8QEBBERERUVFS6urqI\n",
       "iIhmZmaqqqrc3Nzu7u6YmJgyMjIiIiLMzMwAAADtIaYWAAAAAXRSTlMAQObYZgAAAFtJREFUCNdj\n",
       "YACBOwxQsA9Kc52bAGG05zVAGAFxDmCaZULdAjBjCsO9ADDDgaEvAUTzGhvbKYCVMDAwbgAxChgY\n",
       "eASANAeQwf0AyJgNxEwvGRia5HYwcOm9TgAA6BoR3jrzwFcAAAAASUVORK5CYII=\n",
       "\" style=\"display:inline;vertical-align:middle;\" /></a> : <a class=\"ProveItLink\" href=\"../../../../../__pv_it/2cbe72a7ad6f655694dd697106680215e8489b600/expr.ipynb\"><img src=\"data:image/png;base64,iVBORw0KGgoAAAANSUhEUgAAAA8AAAAOBAMAAAACpFvcAAAALVBMVEX///8QEBBERERUVFS6urqI\n",
       "iIhmZmaqqqrc3Nzu7u6YmJgyMjIiIiLMzMwAAADtIaYWAAAAAXRSTlMAQObYZgAAAFtJREFUCNdj\n",
       "YACBOwxQsA9Kc52bAGG05zVAGAFxDmCaZULdAjBjCsO9ADDDgaEvAUTzGhvbKYCVMDAwbgAxChgY\n",
       "eASANAeQwf0AyJgNxEwvGRia5HYwcOm9TgAA6BoR3jrzwFcAAAAASUVORK5CYII=\n",
       "\" style=\"display:inline;vertical-align:middle;\" /></a>, <a class=\"ProveItLink\" href=\"../../../../../__pv_it/077b2ff79244fb4582cbe22c6e3356fa92a52f2f0/expr.ipynb\"><img src=\"data:image/png;base64,iVBORw0KGgoAAAANSUhEUgAAABAAAAAOBAMAAADUAYG5AAAAMFBMVEX///+qqqru7u4iIiJ2dnbc\n",
       "3NyIiIjMzMxmZmYQEBC6uroyMjJERERUVFSYmJgAAADLUcuvAAAAAXRSTlMAQObYZgAAAGpJREFU\n",
       "CNdjYGB4+//u3dMLGIBgDgMDxy8gzf4NiP8CGWxfGRj4vgAZPBMYGJgnARn8FxhY9ygAGfXX0pof\n",
       "gDTlBzAw2YIYJ0EckBBI53sHoBH/gIz7AhBjWH9DjancBLTl/N+7t/cxMAAA3u4f/5xagjYAAAAA\n",
       "SUVORK5CYII=\n",
       "\" style=\"display:inline;vertical-align:middle;\" /></a> : <a class=\"ProveItLink\" href=\"../../../../../__pv_it/077b2ff79244fb4582cbe22c6e3356fa92a52f2f0/expr.ipynb\"><img src=\"data:image/png;base64,iVBORw0KGgoAAAANSUhEUgAAABAAAAAOBAMAAADUAYG5AAAAMFBMVEX///+qqqru7u4iIiJ2dnbc\n",
       "3NyIiIjMzMxmZmYQEBC6uroyMjJERERUVFSYmJgAAADLUcuvAAAAAXRSTlMAQObYZgAAAGpJREFU\n",
       "CNdjYGB4+//u3dMLGIBgDgMDxy8gzf4NiP8CGWxfGRj4vgAZPBMYGJgnARn8FxhY9ygAGfXX0pof\n",
       "gDTlBzAw2YIYJ0EckBBI53sHoBH/gIz7AhBjWH9DjancBLTl/N+7t/cxMAAA3u4f/5xagjYAAAAA\n",
       "SUVORK5CYII=\n",
       "\" style=\"display:inline;vertical-align:middle;\" /></a>, <a class=\"ProveItLink\" href=\"../../../../../__pv_it/530be409e3083890784cf1d7b28c9e67e90af9360/expr.ipynb\"><img src=\"data:image/png;base64,iVBORw0KGgoAAAANSUhEUgAAAAsAAAAJBAMAAAAWSsseAAAAKlBMVEX///9ERETMzMwQEBAiIiKY\n",
       "mJju7u5mZmaqqqpUVFSIiIh2dnbc3NwAAAA/vyDhAAAAAXRSTlMAQObYZgAAAENJREFUCNdjYDi9\n",
       "8sTyBQxsG1hdmR0YuBm4LnAoMLAxcAowgADzAjB1VoEhgYH1wFoGrgSG3gBhhlMMDImrs3cFMAAA\n",
       "t0YN+iTRa+sAAAAASUVORK5CYII=\n",
       "\" style=\"display:inline;vertical-align:middle;\" /></a> : <a class=\"ProveItLink\" href=\"../5144cf74ae6a683b49b974f1b9302b432abf7e930/expr.ipynb\"><img src=\"data:image/png;base64,iVBORw0KGgoAAAANSUhEUgAAACUAAAAJBAMAAABH3vh9AAAAKlBMVEX////MzMwQEBAiIiKYmJhm\n",
       "ZmZUVFSIiIh2dnbc3Nzu7u5ERESqqqoAAABwkVEpAAAAAXRSTlMAQObYZgAAAEtJREFUCNdjYIAA\n",
       "zvbM4+EMqGAFg7ODMppYA0Mtw0E0sQUM2QyYQB1TiPMiAxeakCf7BYYqVCGeK9wKnAUw3undQLCA\n",
       "a3tXRwmMAwC3+RVNp6j0GAAAAABJRU5ErkJggg==\n",
       "\" style=\"display:inline;vertical-align:middle;\" /></a></span></td></tr><tr><td>1</td><td>theorem</td><td></td><td><span style=\"font-size:20px;\"> <a class=\"ProveItLink\" href=\"../../_proofs_/foldSupsetEq.ipynb\" style=\"text-decoration: none\">&#x22A2;&nbsp;</a><a class=\"ProveItLink\" href=\"../4f09e9b8f26155df003eb6c5f88a0f7c83c10cd40/expr.ipynb\"><img src=\"data:image/png;base64,iVBORw0KGgoAAAANSUhEUgAAATkAAAAWCAMAAACMshuUAAAAM1BMVEX///+/v78QEBC6urrMzMxU\n",
       "VFRmZmZERETc3NwyMjKqqqp2dnaIiIiYmJgiIiLu7u4AAAB/uxFxAAAAAXRSTlMAQObYZgAAA/FJ\n",
       "REFUWMPtWNe25CgM9Jic+f+vXaIRwbHPPO3w0PTta6qEkErC2/ZvfBzu+1Kkw4e24s9PBiSUT8Og\n",
       "9Cks+utUkLDOtv3+EheT+KnQDxAHyss1hZHirZjwgQrbR84i3pMwmECNMM9K1ofEy/DLzwezv0N8\n",
       "W7IJX7+88lxPdYDEwW0eQk/m7Cw7y6ODMM+c1cXsnflaV7M/QzSUd0ljfdmfUeeec9dUDaRbZCwe\n",
       "AtXrMpODsMz1JKh8Z//ujgP/CtFQllvXIoXB+DuX1PPyyH7uuSmYOyoAMqDb/mddHjNeHYRlNoqn\n",
       "Yd9tGZUdRbM/QgCUlSoJs/aqDrupvmLy1HOIXFFBkMt1rPjKZsczCYg9i8Oqd3umqnnuIwRA4UoT\n",
       "LjVtCcXZSTQit0lvyh+Knuuc0kuqGWQM1u6vlKQbF8WcRFhnkjKbgSAV4LtknlJKGB7xDfDcDDGM\n",
       "GxSnovCYbW9RewbmUNOegCt6z1ELhqcrg2eQYRDcyRzRWlNrIGGdU3g64GnTxbFJ4ar3UTUQ8NwE\n",
       "Mav6JYpKghLsOYx2Z8UmLuCHT9B+VVulQLPBM8iV54rMOUsA4THHg9btRBzt4pimNWjUUw89N0Ic\n",
       "Gh8CzTxAiZlAOl+hvUaOGHqyODw7QuKyK3Gi+QuEwwAyDLuSOV18gj0gTlu2TVWUs/A0rM5psF15\n",
       "boAobAxx59wTlBgT+kmDnJ/fxSPPYaHcimoAGQKVzjJXS+vouZBmwFCsNwZOw3mcrjij7OwSeg5A\n",
       "BK1HOka8oc9RYvJg2IS5dZ2WtdCdZGunc7YrMo1qBOmPpgsAXNOPeLnI1qDGpJGTPjSQDwpJ5kLH\n",
       "YIUAEOGUQ95FM+GR3qAYnmRuAx08WVU+Lof+34jzmJNkafAMAj1F+zawdnPcC0DYZglcZWQW6yN3\n",
       "RRb4cdNHeUY9BKpVDMMu4BolNghRUDhIWLe4xx81iNX+/6Ir4WJt8AzSbl+CDL18kTm8C7fNXUmn\n",
       "MUHjKIWYjOZsk1NUd56DMpXPCdvU5DF9j+KYVk6pvsRwQfsehrPdp3Q3zHuRLU/Fc+25sa3JVCuQ\n",
       "826T5eu+aB1NrdZ1bt065Sm7m815s8jj6d7EO881CBzOKTztYLLcoZykm1jdvmAQXty+XlE9fie3\n",
       "9zM4mOzcqIs8HQ1P4cftfDrl8juYHWpOzMz4P9IsvUX5OPI14eG7kt+o+nvJcD8JYZJ6HE586JlT\n",
       "WVEi9f5CXr1l6iCYllSnZsAxdKjcHcrHCPjlLdNwzwcV+ZbwuumPh3T9b07uzFaHzt2hfBuEv/Lc\n",
       "L1QdIUynpVDc6QLPb9Mt/ska/vkVt07EwQD016kgYZs/htz/ffwHy0Mqk242/rAAAAAASUVORK5C\n",
       "YII=\n",
       "\" style=\"display:inline;vertical-align:middle;\" /></a></span></td></tr>\n",
       "<tr><td>&nbsp;</td><td colspan=4 style-\"text-align:left\"><a class=\"ProveItLink\" href=\"../../_proofs_/foldSupsetEq.ipynb\">proveit.logic.set_theory.containment.foldSupsetEq</a></td></tr></table>"
      ],
      "text/plain": [
       "<proveit._core_.proof._ShowProof at 0x7f94eb4ac1d0>"
      ]
     },
     "execution_count": 1,
     "metadata": {},
     "output_type": "execute_result"
    }
   ],
   "source": [
    "import proveit\n",
    "%show_proof"
   ]
  },
  {
   "cell_type": "code",
   "execution_count": null,
   "metadata": {},
   "outputs": [],
   "source": []
  }
 ],
 "metadata": {
  "kernelspec": {
   "display_name": "Python 3",
   "language": "python",
   "name": "python3"
  }
 },
 "nbformat": 4,
 "nbformat_minor": 0
}
