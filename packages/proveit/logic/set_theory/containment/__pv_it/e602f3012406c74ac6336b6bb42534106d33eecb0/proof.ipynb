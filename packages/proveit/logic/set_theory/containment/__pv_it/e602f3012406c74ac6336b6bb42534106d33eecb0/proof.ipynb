{
 "cells": [
  {
   "cell_type": "markdown",
   "metadata": {},
   "source": [
    "Show the Proof\n",
    "========"
   ]
  },
  {
   "cell_type": "code",
   "execution_count": 1,
   "metadata": {},
   "outputs": [
    {
     "data": {
      "text/html": [
       "<table><tr><th>&nbsp;</th><th>step type</th><th>requirements</th><th>statement</th></tr>\n",
       "<tr><td>0</td><td>specialization</td><td>1</td><td><span style=\"font-size:20px;\"> <a class=\"ProveItLink\" href=\"proof.ipynb\" style=\"text-decoration: none\">&#x22A2;&nbsp;</a><a class=\"ProveItLink\" href=\"../443b6af3d0fa500b26e859eaa98836b839f65b670/expr.ipynb\"><img src=\"data:image/png;base64,iVBORw0KGgoAAAANSUhEUgAAASsAAAAZBAMAAACbTxWVAAAAMFBMVEX///8QEBC6urrMzMxUVFRm\n",
       "ZmYyMjKqqqp2dnaIiIiYmJju7u7c3NwiIiJEREQAAACUT5mwAAAAAXRSTlMAQObYZgAAA8RJREFU\n",
       "SMfdV19IU1EY//Z/d5tTejCiiCtEYCVMkOglNmoIQaQgo16sIRiRWXvIXtuLgfgySEN9aCOihKgm\n",
       "pASh7EE0wdIiHzJuaA9FmXOMaWWhnT/33Hvu5rY7QYgu3N1zz/nOOb/v+37f757BspSAnbpqpPB2\n",
       "p87CDl4u338Hy6nf2BjRbeoQ88KqLjL1HoFVRlbRtWGdHjwNGf+ZFoCmfLBMtNOUm6f7m37/ZxEs\n",
       "HgzLHkI91rgeWG16jAwLABdEsOaDJW9lTdFXoV2SJJG29wNY0gBBDMuFloHXejYUdIXUi6y8PnCE\n",
       "tbAUv/vp4/FvGrT3akBMv9CdARgklMcxOKsrDvlD6rwjSUHajCLFeRoGZ4UWlhLpvbQaOv6Q5ytO\n",
       "nwTU5fgJMERgDU5PT+sqyIP5h44+UpqL6H6DHPiihXWAlQ1FLwhp8jzBLeJGnpQh1O4QhlWeTC7r\n",
       "0r1zavNlz2Qvl1LXktpGWZjAr51aWHbZ3EK3OmxbJ1EOcuuX+8B1FTlkb8SwzB5wF5L6K6xxWc1Z\n",
       "2DFv4CLMzTdl+nvnceMGg2WRyLUqMz5GFhAxkZSylFl5qr8Zj9qCGJbRByOFKj7NWrtU10FI2Tyq\n",
       "zZiWIKN4s6qsSrS1UIKSqjOCazUHFmKl8x0erCAqPwsDW9K4N4CxD6+zjrQ6BOYF3rQKhyOoEETA\n",
       "U7zZAjFC3ConsOr8/o2crwxmZRRtaUqR7gH4sBWsu0de4NLrnsuFhZyO5NFZRBBSTjmwTJfiKiz0\n",
       "U0l6eQlArMQ1zGCNqKG091SfZMlrpKtFkmxwN7fEjAc4uRjlCILcNf/gkyhz6yO1N2D1tuFqpTNF\n",
       "FTeOcUNISaJ7XBnrNi+wza30YYZmNvhN5VsiCgIHyxzjCQIzOJ8PtNGyyW03Np1E9zVKh1YPz0rX\n",
       "Gl6dUB5sysYgWpUNjtHHQ4iynk7F7GZsEaZ4Gr7lCWKqjOcKxATLR6MsCyvULWM9+/hgVta2ARMI\n",
       "gD0cNZRSP55MJiPgnAussLDUIA9QZ3IJxvqed8XYC9m0SbY5jz63F4lrLVpY35mcos/d4loCnmy2\n",
       "aqlsWcn464kGWUUKS5VoqAUW1GfUOAFe1mMooG7X26Wgto6zPj5KrvYVle2h7GOgKXULmOCbCYhD\n",
       "KIAsr45SzsBY1bc8QQwWndrFwRoOBAIh59eOvrgTtVDdOj/hkG2Aq2G+pIMNU6kiBxv5aiZVKmri\n",
       "HCx4aLZjbmmu8RJgnc4Hq+hJGqeppLO8S/+hWfDkRTBVZOrtf/cvhrSj/xO3C+sv+wUc4XfSQUUA\n",
       "AAAASUVORK5CYII=\n",
       "\" style=\"display:inline;vertical-align:middle;\" /></a></span></td></tr>\n",
       "<tr><td>&nbsp;</td><td colspan=4 style=\"text-align:left\"><span style=\"font-size:20px;\"><a class=\"ProveItLink\" href=\"../../../../../__pv_it/2cbe72a7ad6f655694dd697106680215e8489b600/expr.ipynb\"><img src=\"data:image/png;base64,iVBORw0KGgoAAAANSUhEUgAAAA8AAAAOBAMAAAACpFvcAAAALVBMVEX///8QEBBERERUVFS6urqI\n",
       "iIhmZmaqqqrc3Nzu7u6YmJgyMjIiIiLMzMwAAADtIaYWAAAAAXRSTlMAQObYZgAAAFtJREFUCNdj\n",
       "YACBOwxQsA9Kc52bAGG05zVAGAFxDmCaZULdAjBjCsO9ADDDgaEvAUTzGhvbKYCVMDAwbgAxChgY\n",
       "eASANAeQwf0AyJgNxEwvGRia5HYwcOm9TgAA6BoR3jrzwFcAAAAASUVORK5CYII=\n",
       "\" style=\"display:inline;vertical-align:middle;\" /></a> : <a class=\"ProveItLink\" href=\"../../../../../__pv_it/2cbe72a7ad6f655694dd697106680215e8489b600/expr.ipynb\"><img src=\"data:image/png;base64,iVBORw0KGgoAAAANSUhEUgAAAA8AAAAOBAMAAAACpFvcAAAALVBMVEX///8QEBBERERUVFS6urqI\n",
       "iIhmZmaqqqrc3Nzu7u6YmJgyMjIiIiLMzMwAAADtIaYWAAAAAXRSTlMAQObYZgAAAFtJREFUCNdj\n",
       "YACBOwxQsA9Kc52bAGG05zVAGAFxDmCaZULdAjBjCsO9ADDDgaEvAUTzGhvbKYCVMDAwbgAxChgY\n",
       "eASANAeQwf0AyJgNxEwvGRia5HYwcOm9TgAA6BoR3jrzwFcAAAAASUVORK5CYII=\n",
       "\" style=\"display:inline;vertical-align:middle;\" /></a>, <a class=\"ProveItLink\" href=\"../../../../../__pv_it/077b2ff79244fb4582cbe22c6e3356fa92a52f2f0/expr.ipynb\"><img src=\"data:image/png;base64,iVBORw0KGgoAAAANSUhEUgAAABAAAAAOBAMAAADUAYG5AAAAMFBMVEX///+qqqru7u4iIiJ2dnbc\n",
       "3NyIiIjMzMxmZmYQEBC6uroyMjJERERUVFSYmJgAAADLUcuvAAAAAXRSTlMAQObYZgAAAGpJREFU\n",
       "CNdjYGB4+//u3dMLGIBgDgMDxy8gzf4NiP8CGWxfGRj4vgAZPBMYGJgnARn8FxhY9ygAGfXX0pof\n",
       "gDTlBzAw2YIYJ0EckBBI53sHoBH/gIz7AhBjWH9DjancBLTl/N+7t/cxMAAA3u4f/5xagjYAAAAA\n",
       "SUVORK5CYII=\n",
       "\" style=\"display:inline;vertical-align:middle;\" /></a> : <a class=\"ProveItLink\" href=\"../../../../../__pv_it/077b2ff79244fb4582cbe22c6e3356fa92a52f2f0/expr.ipynb\"><img src=\"data:image/png;base64,iVBORw0KGgoAAAANSUhEUgAAABAAAAAOBAMAAADUAYG5AAAAMFBMVEX///+qqqru7u4iIiJ2dnbc\n",
       "3NyIiIjMzMxmZmYQEBC6uroyMjJERERUVFSYmJgAAADLUcuvAAAAAXRSTlMAQObYZgAAAGpJREFU\n",
       "CNdjYGB4+//u3dMLGIBgDgMDxy8gzf4NiP8CGWxfGRj4vgAZPBMYGJgnARn8FxhY9ygAGfXX0pof\n",
       "gDTlBzAw2YIYJ0EckBBI53sHoBH/gIz7AhBjWH9DjancBLTl/N+7t/cxMAAA3u4f/5xagjYAAAAA\n",
       "SUVORK5CYII=\n",
       "\" style=\"display:inline;vertical-align:middle;\" /></a>, <a class=\"ProveItLink\" href=\"../../../../../__pv_it/530be409e3083890784cf1d7b28c9e67e90af9360/expr.ipynb\"><img src=\"data:image/png;base64,iVBORw0KGgoAAAANSUhEUgAAAAsAAAAJBAMAAAAWSsseAAAAKlBMVEX///9ERETMzMwQEBAiIiKY\n",
       "mJju7u5mZmaqqqpUVFSIiIh2dnbc3NwAAAA/vyDhAAAAAXRSTlMAQObYZgAAAENJREFUCNdjYDi9\n",
       "8sTyBQxsG1hdmR0YuBm4LnAoMLAxcAowgADzAjB1VoEhgYH1wFoGrgSG3gBhhlMMDImrs3cFMAAA\n",
       "t0YN+iTRa+sAAAAASUVORK5CYII=\n",
       "\" style=\"display:inline;vertical-align:middle;\" /></a> : <a class=\"ProveItLink\" href=\"../5144cf74ae6a683b49b974f1b9302b432abf7e930/expr.ipynb\"><img src=\"data:image/png;base64,iVBORw0KGgoAAAANSUhEUgAAACUAAAAJBAMAAABH3vh9AAAAKlBMVEX////MzMwQEBAiIiKYmJhm\n",
       "ZmZUVFSIiIh2dnbc3Nzu7u5ERESqqqoAAABwkVEpAAAAAXRSTlMAQObYZgAAAEtJREFUCNdjYIAA\n",
       "zvbM4+EMqGAFg7ODMppYA0Mtw0E0sQUM2QyYQB1TiPMiAxeakCf7BYYqVCGeK9wKnAUw3undQLCA\n",
       "a3tXRwmMAwC3+RVNp6j0GAAAAABJRU5ErkJggg==\n",
       "\" style=\"display:inline;vertical-align:middle;\" /></a></span></td></tr><tr><td>1</td><td>theorem</td><td></td><td><span style=\"font-size:20px;\"> <a class=\"ProveItLink\" href=\"../../_proofs_/foldSubsetEq.ipynb\" style=\"text-decoration: none\">&#x22A2;&nbsp;</a><a class=\"ProveItLink\" href=\"../3906c67533c5cfa9e02db4d7179366413696a2c50/expr.ipynb\"><img src=\"data:image/png;base64,iVBORw0KGgoAAAANSUhEUgAAAToAAAAWBAMAAACidU2WAAAAMFBMVEX///8QEBC6urrMzMxUVFRm\n",
       "ZmZERETc3NwyMjKqqqp2dnaIiIiYmJgiIiLu7u4AAAAU9Wx4AAAAAXRSTlMAQObYZgAABEVJREFU\n",
       "SMfNV19oW2UU/zU3yW1yb2/z5kQcd7C3istg4GBogwutby2MTETHOsEMKc48jGUy1DiQ+VINuMrA\n",
       "l7yo1UIJOEHscFFQZ2UuK9TJWDSCjuCoFtfWf7XzfP9y/+TeO/a2AyffPfc7v/Od75zvnO8GuKup\n",
       "HTU5BOP7R6LxQ1GTnwPmlH2nKCLTFtxkwjfBOloOaXuAa9cRqhJofWw1P3ISiSzIQihKa4YBsQ+c\n",
       "32fvXg9eur9NttNV8RSqEkh9E8BBG5Vg7ySqf0XKH7darUUPsJ9NA8do0CeCl5hntvnksbAUzIe8\n",
       "H6ZgD+ew4PHO8qEuborx4U97gGYNjNk2EtXgJbZy2yywT4R5t9UtWBSDing8XwIu1fCTx7tuoAVK\n",
       "n/5TjFdcNiTQyoCx+V65/GLwyjGRl4VyudxEuIpDu7/tPh4ivtxGsur2LpbzoAzjDz7G3bmXQDwL\n",
       "zuvF4tXgpRM17t1gsfhcDeEq+uzo20/yGBxxJlaB4ySmxz3nbtZBET2Y2uBjx21RAvGO4L3AYf7+\n",
       "FP99a60wkpWJaHDv4lkkS75TrWSm8isuNu5ngktLW53/6BqNqYr07kCL0Y/jXRQlztb+5eIudzVL\n",
       "IM4I3g6LB9oUYTYzMDKyfGzuHeWj4wvZJRUPplLDebzJhOuOgkEnapnyGMt4a/aMrVA0B32txzsF\n",
       "xDbBAzD4Vn4RYU7kEBOHFYPCO2qJ5xT4RuEptuuDDTgqbYwIYRsLjzhSSdqgQQa1Fa931iu2RJFT\n",
       "+fw6fzngUlBADAs2GgO8lOaWhGodiabXu3P4Qe3s6Zd+oyG9PO7yDrgP/hgM0vbNf3q92z3noOhn\n",
       "iwhItReovLMq3KpWL/Lp37O4IM9PX1V412GtPX12aC++EBN7kqpBMhXoN0UnW3Z1LQpu/G9XZsW5\n",
       "ax1xUClWnCKgi71AlVkcfpSXNQ7w6R3zZ1XpJUVVIHmUfubiE/dC9o+cii5X+cpYAW+n8Yana71M\n",
       "2mbFE7vTDgovEL8h5M6+HiAuSJ7mS31NZ5vRDPCZbJrUDrjtFPPbpkLTRCcwq4a6gkgltZHM6HVf\n",
       "DKhraVva/o6iVxzDvBSflyttn1I3mQKqjoI+ZtpaKgjVZyi58hzEmrLT83M1WIL2XbE4SRks7N9E\n",
       "V8WanPtAVs1xFYP9t/L511iA+m23d6rlEEo/9FcJX9561dcMukCclGwyrxIlDPM2RznfIfsd7pHe\n",
       "8StgJ7KW6PWPQ7sJR8VFp6dansvDd5NpwaggkjeZpAcoOA39FPRN6EvqpesO11ZmqLGN8p3T3jZc\n",
       "KlE0G/yNsnBb79J1wZx+Xoc+dk3bwMxa4bGq5wtK7mVy+pM2rpNkjU3g6H+N23xBSVT0F5S6Dnk5\n",
       "L3o0Ov4bjiXZK+o5v+132bnzqURQvBTsXTSK0ahkNz3kk0/AaGWjzZyImvyQGnjLvlMUa/tZwR5q\n",
       "3GV/ev4H9PU9haV18voAAAAASUVORK5CYII=\n",
       "\" style=\"display:inline;vertical-align:middle;\" /></a></span></td></tr>\n",
       "<tr><td>&nbsp;</td><td colspan=4 style-\"text-align:left\"><a class=\"ProveItLink\" href=\"../../_proofs_/foldSubsetEq.ipynb\">proveit.logic.set_theory.containment.foldSubsetEq</a></td></tr></table>"
      ],
      "text/plain": [
       "<proveit._core_.proof._ShowProof at 0x7f94ea9e7080>"
      ]
     },
     "execution_count": 1,
     "metadata": {},
     "output_type": "execute_result"
    }
   ],
   "source": [
    "import proveit\n",
    "%show_proof"
   ]
  },
  {
   "cell_type": "code",
   "execution_count": null,
   "metadata": {},
   "outputs": [],
   "source": []
  }
 ],
 "metadata": {
  "kernelspec": {
   "display_name": "Python 3",
   "language": "python",
   "name": "python3"
  }
 },
 "nbformat": 4,
 "nbformat_minor": 0
}
