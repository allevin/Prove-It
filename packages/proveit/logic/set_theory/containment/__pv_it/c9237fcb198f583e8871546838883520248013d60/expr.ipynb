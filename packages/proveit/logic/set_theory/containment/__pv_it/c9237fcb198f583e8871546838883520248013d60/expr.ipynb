{
 "cells": [
  {
   "cell_type": "markdown",
   "metadata": {},
   "source": [
    "Expression of type <a class=\"ProveItLink\" href=\"../../../../../../../doc/html/api/proveit.logic.Forall.html\">Forall</a>\n",
    "=======================\n",
    "# from context <a class=\"ProveItLink\" href=\"../../_context_.ipynb\">proveit.logic.set_theory.containment</a>"
   ]
  },
  {
   "cell_type": "code",
   "execution_count": 1,
   "metadata": {},
   "outputs": [],
   "source": [
    "# import Expression classes needed to build the expression\n",
    "from proveit._common_ import A, B\n",
    "from proveit.logic import Forall, Not, NotSubsetEq, SubsetEq"
   ]
  },
  {
   "cell_type": "code",
   "execution_count": 2,
   "metadata": {},
   "outputs": [
    {
     "data": {
      "text/html": [
       "<strong id=\"expr\">expr:</strong> <a class=\"ProveItLink\" href=\"expr.ipynb\"><img src=\"data:image/png;base64,iVBORw0KGgoAAAANSUhEUgAAAMYAAAAbBAMAAADVFe2fAAAAMFBMVEX///8QEBC6urrMzMxUVFRm\n",
       "ZmZERETc3NwyMjKqqqp2dnaIiIiYmJgiIiLu7u4AAAAU9Wx4AAAAAXRSTlMAQObYZgAAAv1JREFU\n",
       "SMe9VU1IVFEU/ubNnzPv+ZQ22UYmcBFE5cJVEQ412C4H/IMgHAmeBJKzmLQIcRD6g0o3QosIKSKi\n",
       "TRFBIdTUIsIIJzdBNfDauRFEzTJNO/deZ955jTkTaBfeO/fe777z3fP7gP8w7H87rj1ii70lDr+m\n",
       "x4gAWbF4VzZHA5t7o0pki04ZzQuxpiH462neAjwQezfK5uAnK5QPKmbX189yudyUmnoSQGcEaQED\n",
       "fSSCiXIpdO6qcSXeryp5+IUDNdK5xigmhE1j8jL+kXI5PDx8tfIdHP2u5EcGvUwCk2P4SlOzGsb9\n",
       "/v6Bsl21h4c/rUzT56T0RRjWRc8HGwFx+dPAomV9KpvjBJv7x6TYH1qRcpqfWwDOnQHCcZrfA44C\n",
       "3Ztove1aXeMhz4i3GfEuF2fcwvjTLyRDwtSbQB3M9CYcbmwHXT8nBtngkc7REPxWxKFTiGYos7Vq\n",
       "WuwGKqHThUK9ba2n1Df5aybzNVfAgDlWGlWSoyEWW5RblYwjQLp1cqFXpHUjzTOVIlleAY8lnD83\n",
       "SSrOWl2W7WAbcdCrRoWHJWcVwcZPh8NMSytbgQNJxmF2ZqB1I8UxYBfj8AilIZFA6oMpVh7kGd+S\n",
       "4yt0HxHbn4GT3I7wTFykyh2OAT2MIyBifp6eYbU33eIqj0GKpCGi+ZaeUdFvzHkYlznHoUACz1XI\n",
       "C5jMQzXqVWLKdOldL8y66/leQuXhrbGd3IVH9AdtebzJ5hxRfxbHEXJhwD5eg1kEu34k8Wbt4h+5\n",
       "2L4Wi10RVlaIkA2JhiK+D6dh1DIOY0SfRQcCLozuk2SqdpYs2fVeks+2OMwlxjHT1r6KWyrkBUw2\n",
       "OGdMlOR4KG5YaKNVI9DmGUcHvPMIJO+6sI17e761yNqc4lsyWk6PGbQxEHc4NPLmCoI9aRdGI8VU\n",
       "BKMlzPAJzx7Lr8LDba1XUeAwmxNI/crAf8mybAcTevkP5EIJjieirdQX7wf+uti64VJ7cPs5+ujf\n",
       "Ytlbz+HjeZHAtg89sv0c3q1R8xskr8gJZCvzVAAAAABJRU5ErkJggg==\n",
       "\" style=\"display:inline;vertical-align:middle;\" /></a><br>"
      ],
      "text/plain": [
       "expr: forall_{B | A nsubseteq B} [not](A subseteq B)"
      ]
     },
     "execution_count": 2,
     "metadata": {},
     "output_type": "execute_result"
    }
   ],
   "source": [
    "# build up the expression from sub-expressions\n",
    "expr = Forall([B], Not(SubsetEq(A, B)), conditions = [NotSubsetEq(A, B)])"
   ]
  },
  {
   "cell_type": "code",
   "execution_count": 3,
   "metadata": {},
   "outputs": [
    {
     "name": "stdout",
     "output_type": "stream",
     "text": [
      "Passed sanity check: built 'expr' is the same as the stored Expression.\n"
     ]
    }
   ],
   "source": [
    "# check that the built expression is the same as the stored expression\n",
    "%check_expr"
   ]
  },
  {
   "cell_type": "code",
   "execution_count": 4,
   "metadata": {},
   "outputs": [
    {
     "data": {
      "text/html": [
       "<table><tr><th>&nbsp;</th><th>core type</th><th>sub-expressions</th><th>expression</th></tr>\n",
       "<tr><td>0</td><td>Operation</td><td>operator:&nbsp;1<br>operand:&nbsp;2<br></td><td><a class=\"ProveItLink\" href=\"expr.ipynb\"><img src=\"data:image/png;base64,iVBORw0KGgoAAAANSUhEUgAAAMYAAAAbBAMAAADVFe2fAAAAMFBMVEX///8QEBC6urrMzMxUVFRm\n",
       "ZmZERETc3NwyMjKqqqp2dnaIiIiYmJgiIiLu7u4AAAAU9Wx4AAAAAXRSTlMAQObYZgAAAv1JREFU\n",
       "SMe9VU1IVFEU/ubNnzPv+ZQ22UYmcBFE5cJVEQ412C4H/IMgHAmeBJKzmLQIcRD6g0o3QosIKSKi\n",
       "TRFBIdTUIsIIJzdBNfDauRFEzTJNO/deZ955jTkTaBfeO/fe777z3fP7gP8w7H87rj1ii70lDr+m\n",
       "x4gAWbF4VzZHA5t7o0pki04ZzQuxpiH462neAjwQezfK5uAnK5QPKmbX189yudyUmnoSQGcEaQED\n",
       "fSSCiXIpdO6qcSXeryp5+IUDNdK5xigmhE1j8jL+kXI5PDx8tfIdHP2u5EcGvUwCk2P4SlOzGsb9\n",
       "/v6Bsl21h4c/rUzT56T0RRjWRc8HGwFx+dPAomV9KpvjBJv7x6TYH1qRcpqfWwDOnQHCcZrfA44C\n",
       "3Ztove1aXeMhz4i3GfEuF2fcwvjTLyRDwtSbQB3M9CYcbmwHXT8nBtngkc7REPxWxKFTiGYos7Vq\n",
       "WuwGKqHThUK9ba2n1Df5aybzNVfAgDlWGlWSoyEWW5RblYwjQLp1cqFXpHUjzTOVIlleAY8lnD83\n",
       "SSrOWl2W7WAbcdCrRoWHJWcVwcZPh8NMSytbgQNJxmF2ZqB1I8UxYBfj8AilIZFA6oMpVh7kGd+S\n",
       "4yt0HxHbn4GT3I7wTFykyh2OAT2MIyBifp6eYbU33eIqj0GKpCGi+ZaeUdFvzHkYlznHoUACz1XI\n",
       "C5jMQzXqVWLKdOldL8y66/leQuXhrbGd3IVH9AdtebzJ5hxRfxbHEXJhwD5eg1kEu34k8Wbt4h+5\n",
       "2L4Wi10RVlaIkA2JhiK+D6dh1DIOY0SfRQcCLozuk2SqdpYs2fVeks+2OMwlxjHT1r6KWyrkBUw2\n",
       "OGdMlOR4KG5YaKNVI9DmGUcHvPMIJO+6sI17e761yNqc4lsyWk6PGbQxEHc4NPLmCoI9aRdGI8VU\n",
       "BKMlzPAJzx7Lr8LDba1XUeAwmxNI/crAf8mybAcTevkP5EIJjieirdQX7wf+uti64VJ7cPs5+ujf\n",
       "Ytlbz+HjeZHAtg89sv0c3q1R8xskr8gJZCvzVAAAAABJRU5ErkJggg==\n",
       "\" style=\"display:inline;vertical-align:middle;\" /></a></td></tr>\n",
       "<tr><td>1</td><td>Literal</td><td></td><td><a class=\"ProveItLink\" href=\"../../../../boolean/quantification/universal/__pv_it/265f8c02ac1094d56e0e6410a1c1fd3500dc9f540/expr.ipynb\"><img src=\"data:image/png;base64,iVBORw0KGgoAAAANSUhEUgAAAAwAAAAQBAMAAADQT4M0AAAAMFBMVEX///8QEBC6urrMzMxUVFRm\n",
       "ZmZERETc3NwyMjKqqqp2dnaIiIiYmJgiIiLu7u4AAAAU9Wx4AAAAAXRSTlMAQObYZgAAAFhJREFU\n",
       "CNdjeMAABhdAxGmGlSCqj6EMSLInMHAAJVknMPAsLy+vBYp8S0u7BaScGRjSgZQKA18DkOJl4D4A\n",
       "pLgP8IJM4mswARuX7gSmpoKNZWDcAKZ4gCoAgTQTILaSE58AAAAASUVORK5CYII=\n",
       "\" style=\"display:inline;vertical-align:middle;\" /></a></td></tr>\n",
       "<tr><td>2</td><td>Lambda</td><td>parameter:&nbsp;12<br>body:&nbsp;3<br>conditions:&nbsp;4<br></td><td><a class=\"ProveItLink\" href=\"../b06b5e59b11ebfbdb05edf368ff5a36c32ff205b0/expr.ipynb\"><img src=\"data:image/png;base64,iVBORw0KGgoAAAANSUhEUgAAAO0AAAAYCAMAAAAhzIoXAAAANlBMVEX///8UFBQNDQ2qqqru7u4i\n",
       "IiJ2dnbc3NyIiIjMzMxmZmYQEBC6uroyMjJERERUVFSYmJgAAAC3B9V0AAAAAXRSTlMAQObYZgAA\n",
       "AmdJREFUWMPlWNuWpCAMZBeQ++3/f3adpVGCROLs9MPM5iV9TFtlYUiCjP08899eAVf0/8ovXz79\n",
       "NEC07KFvttFfWN4W8VRK2i0GIqZJpIChrPJAbk293Pyd2jl+ECtxLlaKQpM7AGKBUGBUB1kNskDy\n",
       "0G5eq53iO3ePvy9S0S+fKGK1JgWyLAK8CT1dpIG8JSJMyJnaOX4y9/j7U5ZaBHLZKGqdoAQUt6Wr\n",
       "LUoihWYgF65ebh5VO8cXYYHPWHwhS1QHqESBFNA7T/eMCdskI3nkDHhM7Rxf5xU+q+9YhXiIhYJ4\n",
       "T8wslgAg4AXj5aQW2BJdyDcLPaIWwZdL/D2jtdZWZrRnpf6dh4zVqC4g/Llj7sv4SM4D9HO1CD7f\n",
       "lvivzBYyYWpF6naIq8xWHraBwDHQqGLXai/k3kE/V4vgB7XEb5mtz8z4/UsCc90WubSppqQLmI8W\n",
       "l0pcTzgXclOgn6pF8E1c47fS3JXk8dn6GkNRW3+5Lhktv9u2HTlJ7QT/Q4z1S3zTVKfCEbW2TxDH\n",
       "EbVngLcy2G0G6efbdiSnZDKCL+QavzUkVQKSdwZMDTEjao+A4pNhRwRr8G57kucA/UQtgp+sXuO/\n",
       "Mtu4bu6Dt8EuDFpDvRUGjm4TwbDDfAqXyfFKvu5AKH5Z4ttYp+aANpZLp5O3ARVd+Vsa844c7C3U\n",
       "jLxN7+CI0qnF8b2l4D81p54GHhh5cpyUd/OOozV6gszbv4NvGnq6WhXe8yWBeOKDSdV175tHb3tS\n",
       "EE58A36h4H/CVHoaIFsb2pJ6/O1CsjeZ0k8DRNMG+uO6//z++pEWxP+kltAP/gC2wSGtOhvw2QAA\n",
       "AABJRU5ErkJggg==\n",
       "\" style=\"display:inline;vertical-align:middle;\" /></a></td></tr>\n",
       "<tr><td>3</td><td>Operation</td><td>operator:&nbsp;5<br>operand:&nbsp;6<br></td><td><a class=\"ProveItLink\" href=\"../3c5d6d50e9c9e97b9eb92ef76f9eb7d3c9e8d02a0/expr.ipynb\"><img src=\"data:image/png;base64,iVBORw0KGgoAAAANSUhEUgAAAFoAAAAVBAMAAAA0iOSIAAAAMFBMVEX////c3NxERESqqqqYmJgQ\n",
       "EBDu7u4yMjKIiIi6urpUVFTMzMx2dnYiIiJmZmYAAABjE816AAAAAXRSTlMAQObYZgAAAWVJREFU\n",
       "KM9jYCATcDbgl2eZgMzbBaH2Yqrz+r9qlfoEhtfIYmUQqh7K5ai9e/cu1LggBga+nwzsSIo5IA5h\n",
       "uZ8AprlvJMCluH8A8S8GlgMI1awQWeH3AmBaVgDJoI9AU/4wsAUghKZDqIZ+iO0rkaxlAirjDWNg\n",
       "UEYIvYEETIK9A4hmK0BSzb+AgbEIaPU5hFAJmMxk2A92P/cCJNX7V3S8BZlhzvAW6PO7d4DMSLDE\n",
       "BAb5Bxiq+wUY2G4B6amIoP4JVrRq1XoFsNAFJNWqIB1Aw/ejqeYEhg3ExY+RVP8CYv8DKKqDQQwD\n",
       "oOch4ZSLiGfuL0BivQGKS1SAmBEoxP4BLMRWtwE5uBm/AxnuUN0MkOBJBwXuN2giWw6LeVBwby1j\n",
       "QAnBuQwMQvGFDCz63x+gpik+/V+rloPDtxIp5gUIJWnkmEdOM9gBTwNmioUCcKzdRckA6cgcKUJm\n",
       "L0TmMBLIaRwbGADis19fw20chAAAAABJRU5ErkJggg==\n",
       "\" style=\"display:inline;vertical-align:middle;\" /></a></td></tr>\n",
       "<tr><td>4</td><td>ExprTuple</td><td>7</td><td><a class=\"ProveItLink\" href=\"../1af66ab161ff1ac95eac37a50b2aed0b58302a9e0/expr.ipynb\"><img src=\"data:image/png;base64,iVBORw0KGgoAAAANSUhEUgAAAEgAAAAYBAMAAACrTaaDAAAAMFBMVEX////c3NwiIiJERESqqqqY\n",
       "mJh2dnZmZmYQEBDu7u4yMjJUVFTMzMyIiIi6uroAAAAs73DqAAAAAXRSTlMAQObYZgAAAYpJREFU\n",
       "KM9jYMAEfAxEACYs+i6gi4Sh8FgfAInTEPYhhPBKqOz+37s3r2NgqEEIrYequKWk0aQHYXIYMDDU\n",
       "P2DgYmDghdjGqj8BYuBNBu4DUPXngVLnNzCwJjBwQCRF6gVAFKMiA8MsmLX3gULxCQycDQyvIAIX\n",
       "7oPcx8ANJK/CFFkAsQbQDBOGMogXJ/gHgGiQKQowRb8ZGKQsgXQ6w1Iwfx7YAWCvsiRA1fD8vntd\n",
       "FcTwYugDCzxgkC+AKuISgCri/cjAMGkDkPGC4R9Y0+7d+w2ggX0YZhtzA1DhV5AvIYqAscWxAMRg\n",
       "D2CogyniB5rC+g2sqAXEdwCa0QBicOpxwt19HugV7i9g60xBoQNUxPUBLDNr+wXkYJIHmR8F9B/E\n",
       "48w/IVLvFykp6cGCiadrAjgIHjEwCPcvZGC1/wX2HsNzmEHF/3fvXgUOvHUMHAKo6cQGIy0Bo4U1\n",
       "AUWEcQGGIrYL8KQCAez6SkowN8EAyMXShJLuRpAFF3AnXXDsHMAQWklMThHAJggAhw5eURVH0QwA\n",
       "AAAASUVORK5CYII=\n",
       "\" style=\"display:inline;vertical-align:middle;\" /></a></td></tr>\n",
       "<tr><td>5</td><td>Literal</td><td></td><td><a class=\"ProveItLink\" href=\"../../../../boolean/negation/__pv_it/7bea79645543c2413aa17e787cca04e21046fde60/expr.ipynb\"><img src=\"data:image/png;base64,iVBORw0KGgoAAAANSUhEUgAAAAwAAAAGBAMAAAAFwGKyAAAAFVBMVEX///9UVFTMzMx2dnYiIiJm\n",
       "ZmYAAACWz4ZEAAAAAXRSTlMAQObYZgAAABRJREFUCNdjCHEBAmcGMFDEQzEBAEl+Ai6uYJv/AAAA\n",
       "AElFTkSuQmCC\n",
       "\" style=\"display:inline;vertical-align:middle;\" /></a></td></tr>\n",
       "<tr><td>6</td><td>Operation</td><td>operator:&nbsp;8<br>operands:&nbsp;10<br></td><td><a class=\"ProveItLink\" href=\"../586c891807183c577ae8a72ee7e3b9f21144c4d50/expr.ipynb\"><img src=\"data:image/png;base64,iVBORw0KGgoAAAANSUhEUgAAADsAAAARBAMAAACRPMnQAAAAMFBMVEX///92dnYQEBBERERUVFS6\n",
       "urqIiIhmZmaqqqrc3Nzu7u6YmJgyMjIiIiLMzMwAAACFkkdwAAAAAXRSTlMAQObYZgAAAO1JREFU\n",
       "KM9jYACBtwzogNv/i4vzUSjnPJTOuXv37lUIk8mAgaE+AKL0/gKIIVkI7e8TgNgBzJxRPwFEcd5E\n",
       "Mj0fKLRfAMxMyAebwhKAJG0ExJfAhrIu6N8Aotcgu+0LA8McKzBrKdgiBoYnSLJ8X9LSb0OYAQzz\n",
       "C9Cl2X4yMKwFu4zPxcXfAMTgRZJmVgAq+Q22GujJAyAGewNCmh+ok/sjiAUU5FUAMbiuInkb6FiW\n",
       "HyDfAqV5PoDF1tSheHv+Aah3mH9BBEPOwgIV6G0+HaC3J+ufZOC2/1OAGiPF/11czmxgoCJgv3sX\n",
       "EaEQAABXikRkFnmHwgAAAABJRU5ErkJggg==\n",
       "\" style=\"display:inline;vertical-align:middle;\" /></a></td></tr>\n",
       "<tr><td>7</td><td>Operation</td><td>operator:&nbsp;9<br>operands:&nbsp;10<br></td><td><a class=\"ProveItLink\" href=\"../9de9c2208e8b5dbd6462366802372807db98e34b0/expr.ipynb\"><img src=\"data:image/png;base64,iVBORw0KGgoAAAANSUhEUgAAADsAAAAYBAMAAAC2M5gYAAAAMFBMVEX///92dnYQEBBERERUVFS6\n",
       "urqIiIhmZmaqqqrc3Nzu7u6YmJgyMjIiIiLMzMwAAACFkkdwAAAAAXRSTlMAQObYZgAAASVJREFU\n",
       "KM9jYEADrAx4AS9+6Y1YxN4imKcgFLf/Fxfno1Cx81A65+4l3asQJpMBA0N9AETp/QUQQ7IYWB5A\n",
       "Vb5PAGIHMHNG/QQQxXmTgWENzJJ8oNB+ATAzIR9sCguQzIZJGwHxJbChrAv6N4BokM4LMOkvDAxz\n",
       "rMCspWCLGBieMDBwCEBl+b6kpd+GMAMY5hdApXkmQKXZfjIwrAW7jM/Fxd8AGmCPYWYzKwCV/IaG\n",
       "MtMBEIN9A0MpTJofqJP7I4jVANSnAGJwXeWCu+w90LEsP0C+BUrzfACLrXFPQPb2/ANQ7zD/ggjG\n",
       "n7179yrM23w6QG9P1j/JwG3/B+x0hnCY5uL/Li5nNqDHnB3euOY8gE+W/f7duzC7qZSQGDASEi4w\n",
       "AUMEAKd1TsMuccRHAAAAAElFTkSuQmCC\n",
       "\" style=\"display:inline;vertical-align:middle;\" /></a></td></tr>\n",
       "<tr><td>8</td><td>Literal</td><td></td><td><a class=\"ProveItLink\" href=\"../e2e953faef156628f98c5cddef8a5f8ea43a24550/expr.ipynb\"><img src=\"data:image/png;base64,iVBORw0KGgoAAAANSUhEUgAAAA4AAAAQBAMAAADUulMJAAAAJFBMVEX///+qqqpmZmZUVFTc3Nzu\n",
       "7u7MzMy6uroiIiIyMjKIiIgAAABMlAC/AAAAAXRSTlMAQObYZgAAAD1JREFUCNdjYGBY2dHR0c7A\n",
       "kLGUAQRYWsAUA3MBhI6EUAzJaDQHlGYSgNCs7VCBSDUoo3gG2FwcgKkDBNoBPfYM6Npt1O0AAAAA\n",
       "SUVORK5CYII=\n",
       "\" style=\"display:inline;vertical-align:middle;\" /></a></td></tr>\n",
       "<tr><td>9</td><td>Literal</td><td></td><td><a class=\"ProveItLink\" href=\"../cdabae2cfd2d5cc37cb8344ff36c341d3e7aa01f0/expr.ipynb\"><img src=\"data:image/png;base64,iVBORw0KGgoAAAANSUhEUgAAAA4AAAAYBAMAAAA46dFkAAAAMFBMVEX///9mZmZERESqqqrc3NxU\n",
       "VFTMzMwQEBCIiIju7u4yMjJ2dnaYmJgiIiK6uroAAABa5MLrAAAAAXRSTlMAQObYZgAAAHRJREFU\n",
       "CNdjYAABPgYI4IXSp6H0ShDRdfd67T0GhtxOBtYEBgaWKwwMs4CirA8YGHoYIOwLQJzKwMC8AUJz\n",
       "OUCMSgLpZjzAIAeiOe9xXgCbOSuwAWL4+7V37wLNZXgItUwNQrEsAFOM9+/eBctjdRMQOIBJAMux\n",
       "HePokPHDAAAAAElFTkSuQmCC\n",
       "\" style=\"display:inline;vertical-align:middle;\" /></a></td></tr>\n",
       "<tr><td>10</td><td>ExprTuple</td><td>11, 12</td><td><a class=\"ProveItLink\" href=\"../caee09fb4b5c95b986a9cee46a014afbad9bdc680/expr.ipynb\"><img src=\"data:image/png;base64,iVBORw0KGgoAAAANSUhEUgAAADUAAAAVBAMAAAAUZLt1AAAAMFBMVEX////c3NwiIiJERESqqqqY\n",
       "mJh2dnZmZmYQEBDu7u4yMjJUVFTMzMyIiIi6uroAAAAs73DqAAAAAXRSTlMAQObYZgAAATZJREFU\n",
       "KM9jYMAH+C5gFY4DEach7EMwQdb9v3dvXsfAfgDIXgkRWg/XwWHAwFD/gGEBAwMvxEhW/QkwufNA\n",
       "kfMbGMKAqiBiIvUCMLn7QFZ8AsMMBoZXEIEL9x/A5CyAWGMCA7MDQxnEsRP8A2ByvxkYpCwZGNgK\n",
       "GJaC+fPAtoABz++711WBNMsChj6wwAMG+QKoHO9HBoZJG4BGNTD8A6vdvXu/AVSOuQEo/xUo9gEi\n",
       "xwd07wKoHD9QD+s3sFwLiO/AwMDUAPMe0FHcX8BmmgK5jEA5rg8MDBNg3pMHGsK6gCEdyJ0FsuYn\n",
       "A+cnqPd4uiaA/fCIgUG4fyEDq/2vAs5+oJbi/7t3rwL5lesBA4cAUnQhsUFhxpqA4LIiR2AuIo7Q\n",
       "5ThBfpJG8JFTADfIfEbsaeIOAwMABOxNRsfkiy0AAAAASUVORK5CYII=\n",
       "\" style=\"display:inline;vertical-align:middle;\" /></a></td></tr>\n",
       "<tr><td>11</td><td>Variable</td><td></td><td><a class=\"ProveItLink\" href=\"../../../../../__pv_it/2cbe72a7ad6f655694dd697106680215e8489b600/expr.ipynb\"><img src=\"data:image/png;base64,iVBORw0KGgoAAAANSUhEUgAAAA8AAAAOBAMAAAACpFvcAAAALVBMVEX///8QEBBERERUVFS6urqI\n",
       "iIhmZmaqqqrc3Nzu7u6YmJgyMjIiIiLMzMwAAADtIaYWAAAAAXRSTlMAQObYZgAAAFtJREFUCNdj\n",
       "YACBOwxQsA9Kc52bAGG05zVAGAFxDmCaZULdAjBjCsO9ADDDgaEvAUTzGhvbKYCVMDAwbgAxChgY\n",
       "eASANAeQwf0AyJgNxEwvGRia5HYwcOm9TgAA6BoR3jrzwFcAAAAASUVORK5CYII=\n",
       "\" style=\"display:inline;vertical-align:middle;\" /></a></td></tr>\n",
       "<tr><td>12</td><td>Variable</td><td></td><td><a class=\"ProveItLink\" href=\"../../../../../__pv_it/077b2ff79244fb4582cbe22c6e3356fa92a52f2f0/expr.ipynb\"><img src=\"data:image/png;base64,iVBORw0KGgoAAAANSUhEUgAAABAAAAAOBAMAAADUAYG5AAAAMFBMVEX///+qqqru7u4iIiJ2dnbc\n",
       "3NyIiIjMzMxmZmYQEBC6uroyMjJERERUVFSYmJgAAADLUcuvAAAAAXRSTlMAQObYZgAAAGpJREFU\n",
       "CNdjYGB4+//u3dMLGIBgDgMDxy8gzf4NiP8CGWxfGRj4vgAZPBMYGJgnARn8FxhY9ygAGfXX0pof\n",
       "gDTlBzAw2YIYJ0EckBBI53sHoBH/gIz7AhBjWH9DjancBLTl/N+7t/cxMAAA3u4f/5xagjYAAAAA\n",
       "SUVORK5CYII=\n",
       "\" style=\"display:inline;vertical-align:middle;\" /></a></td></tr>\n",
       "</table>\n"
      ],
      "text/plain": [
       "0. forall_{B | A nsubseteq B} [not](A subseteq B)\n",
       "   core type: Operation\n",
       "   operator: 1\n",
       "   operand: 2\n",
       "1. forall\n",
       "   core type: Literal\n",
       "   sub-expressions: \n",
       "2. B -> [not](A subseteq B) | A nsubseteq B\n",
       "   core type: Lambda\n",
       "   parameter: 12\n",
       "   body: 3\n",
       "   conditions: 4\\n3. [not](A subseteq B)\n",
       "   core type: Operation\n",
       "   operator: 5\n",
       "   operand: 6\n",
       "4. (A nsubseteq B)\n",
       "   core type: ExprTuple\n",
       "   sub-expressions: 7\n",
       "5. not\n",
       "   core type: Literal\n",
       "   sub-expressions: \n",
       "6. A subseteq B\n",
       "   core type: Operation\n",
       "   operator: 8\n",
       "   operands: 10\n",
       "7. A nsubseteq B\n",
       "   core type: Operation\n",
       "   operator: 9\n",
       "   operands: 10\n",
       "8. subseteq\n",
       "   core type: Literal\n",
       "   sub-expressions: \n",
       "9. nsubseteq\n",
       "   core type: Literal\n",
       "   sub-expressions: \n",
       "10. (A , B)\n",
       "    core type: ExprTuple\n",
       "    sub-expressions: 11, 12\n",
       "11. A\n",
       "    core type: Variable\n",
       "    sub-expressions: \n",
       "12. B\n",
       "    core type: Variable\n",
       "    sub-expressions: "
      ]
     },
     "execution_count": 4,
     "metadata": {},
     "output_type": "execute_result"
    }
   ],
   "source": [
    "# display the expression information\n",
    "expr.exprInfo()"
   ]
  },
  {
   "cell_type": "code",
   "execution_count": null,
   "metadata": {},
   "outputs": [],
   "source": []
  }
 ],
 "metadata": {
  "kernelspec": {
   "display_name": "Python 3",
   "language": "python",
   "name": "python3"
  }
 },
 "nbformat": 4,
 "nbformat_minor": 0
}
