{
 "cells": [
  {
   "cell_type": "markdown",
   "metadata": {},
   "source": [
    "Expression of type <a class=\"ProveItLink\" href=\"../../../../../../../doc/html/api/proveit.Lambda.html\">Lambda</a>\n",
    "=======================\n",
    "# from context <a class=\"ProveItLink\" href=\"../../_context_.ipynb\">proveit.logic.set_theory.containment</a>"
   ]
  },
  {
   "cell_type": "code",
   "execution_count": 1,
   "metadata": {},
   "outputs": [],
   "source": [
    "# import Expression classes needed to build the expression\n",
    "from proveit import Lambda\n",
    "from proveit._common_ import A, B, C\n",
    "from proveit.logic import Subset, SubsetEq"
   ]
  },
  {
   "cell_type": "code",
   "execution_count": 2,
   "metadata": {},
   "outputs": [
    {
     "data": {
      "text/html": [
       "<strong id=\"expr\">expr:</strong> <a class=\"ProveItLink\" href=\"expr.ipynb\"><img src=\"data:image/png;base64,iVBORw0KGgoAAAANSUhEUgAAAM4AAAAVCAMAAAA5OCEaAAAANlBMVEX///8UFBQNDQ3MzMyqqqoi\n",
       "IiIyMjK6uroQEBB2dnbc3NyYmJhmZmZUVFRERESIiIju7u4AAAAKhZlwAAAAAXRSTlMAQObYZgAA\n",
       "AixJREFUWMPNV9l26yAMpGU1u/7/Z2/qVYAMpMm5DS+uU6JhBo2kMPYZS9i/w9bpte873Xy06Dee\n",
       "L6cYvHfM+pndPBRv8nkMzwd0XAAIjxWVfv74i3Gr6H57jpbKxRtMsSkx1PB2TFwfHop/JCW3pW9D\n",
       "ZyX38y0wk8GpSDUnIU/oV2G4ZUCHQ9qfASdCysPQyhx7tJnR2eCQVvhaA0rBGiObAZ20R3VwEbeS\n",
       "UrsK7UGc+2eso4tESQ9gXVqJULDFiKJPJ+58JRIvUD6qQlu4jpdPh5a5LTC2x3miMxOADUcqSGAs\n",
       "vk9nyzGrYkZZxcahPVD2r6pVQIIrtD/rK8u7CjYYQnXpPCyTUvLS3RbUm9CStH9FJ4drk0HAetXH\n",
       "s76CFEZt04rObp0sw4BOHRpQnb3u4PtLFstcBkFW4T+tIUAcQFIYHLp0DuskLL6cCG2ud8Fvv4ly\n",
       "CNHZ/jJqRIfAGNA5yjMubMyLcehwtQ1/K4RHN2rOoOIoPqyvIIXRTzZ+XEoARCFLPQx9OXnJd6fi\n",
       "2OzRnS2HGAsoBSkM1y0FR9fBdWt1ZjMdNaHdJoDGN8DKGbNoJEeJPV0f8VhAKUhh9Av1bh1uVNXD\n",
       "dFBVi25C86AeA5yYHqfXm7PRgFrHlQigfFdBCqMeLTEdH7f5U6mZEfLJ47fuGwx2rYLEDDcacv7f\n",
       "asbHX6wlfQwdpvKrEfL4BwI1AaBG+Eb2NrwaIVj2ObfD7Is/rlNbLNJ76PwDlh0ZOOQ3a9wAAAAA\n",
       "SUVORK5CYII=\n",
       "\" style=\"display:inline;vertical-align:middle;\" /></a><br>"
      ],
      "text/plain": [
       "expr: C -> (A subset C) | B subseteq C"
      ]
     },
     "execution_count": 2,
     "metadata": {},
     "output_type": "execute_result"
    }
   ],
   "source": [
    "# build up the expression from sub-expressions\n",
    "expr = Lambda(C, Subset(A, C), conditions = [SubsetEq(B, C)])"
   ]
  },
  {
   "cell_type": "code",
   "execution_count": 3,
   "metadata": {},
   "outputs": [
    {
     "name": "stdout",
     "output_type": "stream",
     "text": [
      "Passed sanity check: built 'expr' is the same as the stored Expression.\n"
     ]
    }
   ],
   "source": [
    "# check that the built expression is the same as the stored expression\n",
    "%check_expr"
   ]
  },
  {
   "cell_type": "code",
   "execution_count": 4,
   "metadata": {},
   "outputs": [
    {
     "data": {
      "text/html": [
       "<table><tr><th>&nbsp;</th><th>core type</th><th>sub-expressions</th><th>expression</th></tr>\n",
       "<tr><td>0</td><td>Lambda</td><td>parameter:&nbsp;10<br>body:&nbsp;1<br>conditions:&nbsp;2<br></td><td><a class=\"ProveItLink\" href=\"expr.ipynb\"><img src=\"data:image/png;base64,iVBORw0KGgoAAAANSUhEUgAAAM4AAAAVCAMAAAA5OCEaAAAANlBMVEX///8UFBQNDQ3MzMyqqqoi\n",
       "IiIyMjK6uroQEBB2dnbc3NyYmJhmZmZUVFRERESIiIju7u4AAAAKhZlwAAAAAXRSTlMAQObYZgAA\n",
       "AixJREFUWMPNV9l26yAMpGU1u/7/Z2/qVYAMpMm5DS+uU6JhBo2kMPYZS9i/w9bpte873Xy06Dee\n",
       "L6cYvHfM+pndPBRv8nkMzwd0XAAIjxWVfv74i3Gr6H57jpbKxRtMsSkx1PB2TFwfHop/JCW3pW9D\n",
       "ZyX38y0wk8GpSDUnIU/oV2G4ZUCHQ9qfASdCysPQyhx7tJnR2eCQVvhaA0rBGiObAZ20R3VwEbeS\n",
       "UrsK7UGc+2eso4tESQ9gXVqJULDFiKJPJ+58JRIvUD6qQlu4jpdPh5a5LTC2x3miMxOADUcqSGAs\n",
       "vk9nyzGrYkZZxcahPVD2r6pVQIIrtD/rK8u7CjYYQnXpPCyTUvLS3RbUm9CStH9FJ4drk0HAetXH\n",
       "s76CFEZt04rObp0sw4BOHRpQnb3u4PtLFstcBkFW4T+tIUAcQFIYHLp0DuskLL6cCG2ud8Fvv4ly\n",
       "CNHZ/jJqRIfAGNA5yjMubMyLcehwtQ1/K4RHN2rOoOIoPqyvIIXRTzZ+XEoARCFLPQx9OXnJd6fi\n",
       "2OzRnS2HGAsoBSkM1y0FR9fBdWt1ZjMdNaHdJoDGN8DKGbNoJEeJPV0f8VhAKUhh9Av1bh1uVNXD\n",
       "dFBVi25C86AeA5yYHqfXm7PRgFrHlQigfFdBCqMeLTEdH7f5U6mZEfLJ47fuGwx2rYLEDDcacv7f\n",
       "asbHX6wlfQwdpvKrEfL4BwI1AaBG+Eb2NrwaIVj2ObfD7Is/rlNbLNJ76PwDlh0ZOOQ3a9wAAAAA\n",
       "SUVORK5CYII=\n",
       "\" style=\"display:inline;vertical-align:middle;\" /></a></td></tr>\n",
       "<tr><td>1</td><td>Operation</td><td>operator:&nbsp;3<br>operands:&nbsp;4<br></td><td><a class=\"ProveItLink\" href=\"../151deee7e7da20e3407de7803b9ee3c55b238d630/expr.ipynb\"><img src=\"data:image/png;base64,iVBORw0KGgoAAAANSUhEUgAAADsAAAAPBAMAAACo4Ko7AAAAMFBMVEX///92dnYQEBBERERUVFS6\n",
       "urqIiIhmZmaqqqrc3Nzu7u6YmJgyMjIiIiLMzMwAAACFkkdwAAAAAXRSTlMAQObYZgAAANxJREFU\n",
       "GNNjYACBtwwYgCvZvZqzAMI+jykttIGBtWgDmMl9fwG67JpbQEJ+Apg9ox5CM+TcvXv3Kph1CKQh\n",
       "CCKakB8AcUIWTDP7DxA5HcxmXdAPtoTzJtzs+QdA5DoweynD+wQQzRIAl67fgHBGAMN8sA/WIITu\n",
       "T4Az+Vxc/A1AjCcI6f9gEuwfVgYGpgNo0vogguMBiGxgYOBVADF4EdL+II3sYPcCpXk+gH3TAJcG\n",
       "u1UK5iDmX+BgvgqX5gb6OxzkvMn6Jxm47f9AnF4Hl39ypLwBIx5CzsICFQoA7iE6u84KEG0AAAAA\n",
       "SUVORK5CYII=\n",
       "\" style=\"display:inline;vertical-align:middle;\" /></a></td></tr>\n",
       "<tr><td>2</td><td>ExprTuple</td><td>5</td><td><a class=\"ProveItLink\" href=\"../c7e283dada24f439e5a8fb93c16419c1f801c9f60/expr.ipynb\"><img src=\"data:image/png;base64,iVBORw0KGgoAAAANSUhEUgAAAEkAAAAVBAMAAAD4Ed5jAAAAMFBMVEX////c3NwiIiJERESqqqqY\n",
       "mJh2dnZmZmYQEBDu7u4yMjJUVFTMzMyIiIi6uroAAAAs73DqAAAAAXRSTlMAQObYZgAAAWJJREFU\n",
       "KM9jYCAO8F0goCAORJwG4uj/u3dbPcCQ57y8vZSxgP0AkLkSxG9mYGD/B5G6paSkpAdhZgQw8FUE\n",
       "MCxgYOAFWcjzF4h/g2UO3YQbNUsTSOQLMIQxMHBMADJ5PzIwsH4DyTAqIixcAZJ6wcAwg4HhFYjP\n",
       "3MDAwNQJYnEjXMf+BUSKA2UdGMpATP4NDIyLJ4BtQRglvwBEzmFgYCtgWApint97tyiAAeZjKKgP\n",
       "gDJYFjD0gej7Agyc2uiq9AVgIdrAAPa/BUglWCsTQtV/MAl0B88HiCpQIMQngJ3sAFfVD7btAFhV\n",
       "Cyi4vgKJ/WB5Tj24qv0g77BDbDSFBhfjL2hQ1sBUnQeFdyYQsy5gSIcG14mVUMnXi6AxxAoMr+cg\n",
       "HwBD4hHQVPvfu3ctxUwMp1eXg13B9YCBQ4Bg2gLGEGsCQVW5sJSDiDwlJUTKgaYyUExJEzKKG+Qm\n",
       "RkIp+g4DAwAHZlVnt3IYoQAAAABJRU5ErkJggg==\n",
       "\" style=\"display:inline;vertical-align:middle;\" /></a></td></tr>\n",
       "<tr><td>3</td><td>Literal</td><td></td><td><a class=\"ProveItLink\" href=\"../8abd5f716af72ef69ffdc0b40f17a6fa6115e4300/expr.ipynb\"><img src=\"data:image/png;base64,iVBORw0KGgoAAAANSUhEUgAAAA4AAAAMBAMAAACgrpHpAAAAJFBMVEX///+qqqpmZmZUVFTc3Nzu\n",
       "7u7MzMy6uroiIiIyMjKIiIgAAABMlAC/AAAAAXRSTlMAQObYZgAAADdJREFUCNdjYGBY2dHR0c7A\n",
       "kLGUAQRYWsAUA3MBhI6EUAzJaDQHlGYSgNCs7VCBSDUoo3gG0FwA+8MJt4mISzAAAAAASUVORK5C\n",
       "YII=\n",
       "\" style=\"display:inline;vertical-align:middle;\" /></a></td></tr>\n",
       "<tr><td>4</td><td>ExprTuple</td><td>6, 10</td><td><a class=\"ProveItLink\" href=\"../64d36ff9aa3116e2d1fb41c420506ad5fe919f950/expr.ipynb\"><img src=\"data:image/png;base64,iVBORw0KGgoAAAANSUhEUgAAADUAAAAVBAMAAAAUZLt1AAAAMFBMVEX////c3NwiIiJERESqqqqY\n",
       "mJh2dnZmZmYQEBDu7u4yMjJUVFTMzMyIiIi6uroAAAAs73DqAAAAAXRSTlMAQObYZgAAAS1JREFU\n",
       "KM9jYMAH+C5gFY4DEach7ENwUc7L20sZC9gPAJkrISLr4XIZAQx8FQEMCxgYeCFGsupPgErN0gQS\n",
       "+QIMYQwMHBAxkXoBqNwKkMALBoYZDAyvICIX7j+AMNi/gEhxBgZmB4YyiGMn+AdA5OQXgMg5DAxs\n",
       "BQxLwSLzGM5DvVIPVcPAsoChD8x4wCBfABHSh9nL18DwD0Tz7N693wAi9B9MAt3D8wEixwd07wKI\n",
       "XD/YvANguRYQ24GBgakBIrcf5AV2iJmmQIoRKMf1AWwSxE2ZoNBYwJAOCgogZv7JwPkJJAT033OQ\n",
       "e4B+eMTAINy/kIHV/lcBZz9I7PTqcgeQ4VwPGDgEkKILiQ0KM9YEBJcVOQJzEXGELscJ8pM0go+c\n",
       "ArhB5jNiTxN3GBgAYvhEoGDobKYAAAAASUVORK5CYII=\n",
       "\" style=\"display:inline;vertical-align:middle;\" /></a></td></tr>\n",
       "<tr><td>5</td><td>Operation</td><td>operator:&nbsp;7<br>operands:&nbsp;8<br></td><td><a class=\"ProveItLink\" href=\"../687a49c142268529cbd1eb03bfc2582c30ffab140/expr.ipynb\"><img src=\"data:image/png;base64,iVBORw0KGgoAAAANSUhEUgAAAD0AAAARBAMAAACcIrmXAAAAMFBMVEX///+qqqru7u4iIiJ2dnbc\n",
       "3NyIiIjMzMxmZmYQEBC6uroyMjJERERUVFSYmJgAAADLUcuvAAAAAXRSTlMAQObYZgAAAPZJREFU\n",
       "KM9jYGB4+//u3dMLGNABU86NPtYGEGsOAwPHL4hgtrGxsRWE6fmAgavzAZDB/g2I/4LFipPg2rWN\n",
       "gIR/AJBg+8rAwPcFJMZqijB+pwKQWAli8UxgYGCeBGLxIlzB8RFERoAI/gsMrHsUwGYitMdvAJHq\n",
       "IKL+WlrzA7BgLUK+/wGcmR/AwGSLLm8fAGeeBKkBK2dGyP8Hk2BbQV577wB2lABcfj6IYCwAef8f\n",
       "kLgPlmGygsvfB2nlYIB6n/U3NFDaYfL1CUDCCeb9yk1Q4bWboeHLB/T/CpAbOc7/vXt7H0bsMNTu\n",
       "7RBgoDLgMDZGxC8EAADqLzyAOaIz4QAAAABJRU5ErkJggg==\n",
       "\" style=\"display:inline;vertical-align:middle;\" /></a></td></tr>\n",
       "<tr><td>6</td><td>Variable</td><td></td><td><a class=\"ProveItLink\" href=\"../../../../../__pv_it/2cbe72a7ad6f655694dd697106680215e8489b600/expr.ipynb\"><img src=\"data:image/png;base64,iVBORw0KGgoAAAANSUhEUgAAAA8AAAAOBAMAAAACpFvcAAAALVBMVEX///8QEBBERERUVFS6urqI\n",
       "iIhmZmaqqqrc3Nzu7u6YmJgyMjIiIiLMzMwAAADtIaYWAAAAAXRSTlMAQObYZgAAAFtJREFUCNdj\n",
       "YACBOwxQsA9Kc52bAGG05zVAGAFxDmCaZULdAjBjCsO9ADDDgaEvAUTzGhvbKYCVMDAwbgAxChgY\n",
       "eASANAeQwf0AyJgNxEwvGRia5HYwcOm9TgAA6BoR3jrzwFcAAAAASUVORK5CYII=\n",
       "\" style=\"display:inline;vertical-align:middle;\" /></a></td></tr>\n",
       "<tr><td>7</td><td>Literal</td><td></td><td><a class=\"ProveItLink\" href=\"../e2e953faef156628f98c5cddef8a5f8ea43a24550/expr.ipynb\"><img src=\"data:image/png;base64,iVBORw0KGgoAAAANSUhEUgAAAA4AAAAQBAMAAADUulMJAAAAJFBMVEX///+qqqpmZmZUVFTc3Nzu\n",
       "7u7MzMy6uroiIiIyMjKIiIgAAABMlAC/AAAAAXRSTlMAQObYZgAAAD1JREFUCNdjYGBY2dHR0c7A\n",
       "kLGUAQRYWsAUA3MBhI6EUAzJaDQHlGYSgNCs7VCBSDUoo3gG2FwcgKkDBNoBPfYM6Npt1O0AAAAA\n",
       "SUVORK5CYII=\n",
       "\" style=\"display:inline;vertical-align:middle;\" /></a></td></tr>\n",
       "<tr><td>8</td><td>ExprTuple</td><td>9, 10</td><td><a class=\"ProveItLink\" href=\"../dad23c4ce051fb8a92f116e8b4d54eeb5e4476f70/expr.ipynb\"><img src=\"data:image/png;base64,iVBORw0KGgoAAAANSUhEUgAAADcAAAAVBAMAAAAQkWtIAAAAMFBMVEX////c3NwiIiJERESqqqqY\n",
       "mJh2dnZmZmYQEBDu7u4yMjJUVFTMzMyIiIi6uroAAAAs73DqAAAAAXRSTlMAQObYZgAAAUFJREFU\n",
       "KM9jYMAL+C5gF48DEaeBmHX/792b18GEOS9vL2UsYD8AZK4E8TkMGBjqH0AlMwIY+CoCGBYwMPCC\n",
       "TT0PJM9vgMjN0gQS+QIMYUA9E0AC9wUYGOITIJIrQCIvGBhmMDC8AgtYALEGWBkD+xcQKc7AwOzA\n",
       "UAYW+c3AIGUJ0Si/AETOYWBgK2BYCmLy/L57XRXqnPoAKINlAUMfiOb9yMAwCeoefQFYADQw/APR\n",
       "zA1ABV8hYv/BJNB+ng8QSX6gLtZvEMl+sJEHwJItYG8C7eH+ApHcD3I0O8RYU5g3ga7khIUHQyYo\n",
       "TBcwpEO9ydM1gWG+AkgMaMJzkKOAXnkEpIr/7969CmjyjI/gmFhd7gCiuR4wcAggRdND5DgDBh9r\n",
       "AhI/AFkyFxZlWCQ5QcEojeDzImvkBtnHiCOZ3GFgAADrEU9ADAe1sgAAAABJRU5ErkJggg==\n",
       "\" style=\"display:inline;vertical-align:middle;\" /></a></td></tr>\n",
       "<tr><td>9</td><td>Variable</td><td></td><td><a class=\"ProveItLink\" href=\"../../../../../__pv_it/077b2ff79244fb4582cbe22c6e3356fa92a52f2f0/expr.ipynb\"><img src=\"data:image/png;base64,iVBORw0KGgoAAAANSUhEUgAAABAAAAAOBAMAAADUAYG5AAAAMFBMVEX///+qqqru7u4iIiJ2dnbc\n",
       "3NyIiIjMzMxmZmYQEBC6uroyMjJERERUVFSYmJgAAADLUcuvAAAAAXRSTlMAQObYZgAAAGpJREFU\n",
       "CNdjYGB4+//u3dMLGIBgDgMDxy8gzf4NiP8CGWxfGRj4vgAZPBMYGJgnARn8FxhY9ygAGfXX0pof\n",
       "gDTlBzAw2YIYJ0EckBBI53sHoBH/gIz7AhBjWH9DjancBLTl/N+7t/cxMAAA3u4f/5xagjYAAAAA\n",
       "SUVORK5CYII=\n",
       "\" style=\"display:inline;vertical-align:middle;\" /></a></td></tr>\n",
       "<tr><td>10</td><td>Variable</td><td></td><td><a class=\"ProveItLink\" href=\"../../../../../__pv_it/985a1bdf1540838275dec15f4ad6de261cca93ce0/expr.ipynb\"><img src=\"data:image/png;base64,iVBORw0KGgoAAAANSUhEUgAAAA8AAAAOBAMAAAACpFvcAAAAMFBMVEX////MzMyqqqoiIiIyMjK6\n",
       "uroQEBB2dnbc3NyYmJhmZmZUVFRERESIiIju7u4AAAB204erAAAAAXRSTlMAQObYZgAAAGZJREFU\n",
       "CNdjYGDgu7NrJccCBgaGsgkMrMsmMDA8sQNy6hsYGNweABlhDAxcn4A0QxcDQ78DiPGQgWH9BAYI\n",
       "sG+AMv6DSaCGfBDNJMDAsB+kmwuI5S8AiTog5gSaEwXWIO29SgFIAQBC+RaDQlidVgAAAABJRU5E\n",
       "rkJggg==\n",
       "\" style=\"display:inline;vertical-align:middle;\" /></a></td></tr>\n",
       "</table>\n"
      ],
      "text/plain": [
       "0. C -> (A subset C) | B subseteq C\n",
       "   core type: Lambda\n",
       "   parameter: 10\n",
       "   body: 1\n",
       "   conditions: 2\\n1. A subset C\n",
       "   core type: Operation\n",
       "   operator: 3\n",
       "   operands: 4\n",
       "2. (B subseteq C)\n",
       "   core type: ExprTuple\n",
       "   sub-expressions: 5\n",
       "3. subset\n",
       "   core type: Literal\n",
       "   sub-expressions: \n",
       "4. (A , C)\n",
       "   core type: ExprTuple\n",
       "   sub-expressions: 6, 10\n",
       "5. B subseteq C\n",
       "   core type: Operation\n",
       "   operator: 7\n",
       "   operands: 8\n",
       "6. A\n",
       "   core type: Variable\n",
       "   sub-expressions: \n",
       "7. subseteq\n",
       "   core type: Literal\n",
       "   sub-expressions: \n",
       "8. (B , C)\n",
       "   core type: ExprTuple\n",
       "   sub-expressions: 9, 10\n",
       "9. B\n",
       "   core type: Variable\n",
       "   sub-expressions: \n",
       "10. C\n",
       "    core type: Variable\n",
       "    sub-expressions: "
      ]
     },
     "execution_count": 4,
     "metadata": {},
     "output_type": "execute_result"
    }
   ],
   "source": [
    "# display the expression information\n",
    "expr.exprInfo()"
   ]
  },
  {
   "cell_type": "code",
   "execution_count": null,
   "metadata": {},
   "outputs": [],
   "source": []
  }
 ],
 "metadata": {
  "kernelspec": {
   "display_name": "Python 3",
   "language": "python",
   "name": "python3"
  }
 },
 "nbformat": 4,
 "nbformat_minor": 0
}
