{
 "cells": [
  {
   "cell_type": "markdown",
   "metadata": {},
   "source": [
    "Show the Proof\n",
    "========"
   ]
  },
  {
   "cell_type": "code",
   "execution_count": 1,
   "metadata": {},
   "outputs": [
    {
     "data": {
      "text/html": [
       "<table><tr><th>&nbsp;</th><th>step type</th><th>requirements</th><th>statement</th></tr>\n",
       "<tr><td>0</td><td>specialization</td><td>1, 2</td><td><span style=\"font-size:20px;\"><a class=\"ProveItLink\" href=\"../e6825e18c1f0f68ac1df2d2dbc59de3fc4e217180/expr.ipynb\"><img src=\"data:image/png;base64,iVBORw0KGgoAAAANSUhEUgAAAE8AAAAYBAMAAABJkb36AAAAMFBMVEX///9ERETc3NyqqqpUVFS6\n",
       "urrMzMwyMjIQEBCIiIh2dnYiIiLu7u5mZmaYmJgAAABJJ2g3AAAAAXRSTlMAQObYZgAAAYZJREFU\n",
       "KM9jYMAGWLGK8t3DEOJG4bGtUgBRPLsw9b5C5bI1g0jOD1BuNkKmBmqX/xcXx1Ig4zqIx9UAla2H\n",
       "0tN37+jeCmFyCDAw3A9gYFiBrJBv/wGIwXMYWBKgevInALEDmkLl+2AnM21iYDgOc8J8oND7BWgK\n",
       "J8wPAFEsQHIeTKEEEO84gKqQ9YD9AxANMm0DTOEXBgZ1GQaoQt4CsNhRsIMYGFIYGJgXwILly8y5\n",
       "+0CM9yAiA2wjQwCD/gWoQnYFqELOTwwMp4F+YWAHSqW0QTS7uPgLQCMlEWYzI9BVnP9ALHGgsyIS\n",
       "oLHLAXYD7wOGqzCF/EDT+H6BdIMcwwKWNwDywL7i2coD90s+0ByWzzA3coHEmYAK2SFxedx3AnIw\n",
       "6hcwIAcPKFAY/0Ck46t3794KC0a29gPIChX7ixj45L+Dvc0QCzPw4n8Xl3Jw4KLEDByIYSY7rAqZ\n",
       "CnAo5ENVyLt/926YG+EAnB55duLLBpDYaIUkxMX4sgEiz6CDGgYigQJ2YQBUwGTHm00ZxwAAAABJ\n",
       "RU5ErkJggg==\n",
       "\" style=\"display:inline;vertical-align:middle;\" /></a> <a class=\"ProveItLink\" href=\"proof.ipynb\" style=\"text-decoration: none\">&#x22A2;&nbsp;</a><a class=\"ProveItLink\" href=\"../3c5d6d50e9c9e97b9eb92ef76f9eb7d3c9e8d02a0/expr.ipynb\"><img src=\"data:image/png;base64,iVBORw0KGgoAAAANSUhEUgAAAFoAAAAVBAMAAAA0iOSIAAAAMFBMVEX////c3NxERESqqqqYmJgQ\n",
       "EBDu7u4yMjKIiIi6urpUVFTMzMx2dnYiIiJmZmYAAABjE816AAAAAXRSTlMAQObYZgAAAWVJREFU\n",
       "KM9jYCATcDbgl2eZgMzbBaH2Yqrz+r9qlfoEhtfIYmUQqh7K5ai9e/cu1LggBga+nwzsSIo5IA5h\n",
       "uZ8AprlvJMCluH8A8S8GlgMI1awQWeH3AmBaVgDJoI9AU/4wsAUghKZDqIZ+iO0rkaxlAirjDWNg\n",
       "UEYIvYEETIK9A4hmK0BSzb+AgbEIaPU5hFAJmMxk2A92P/cCJNX7V3S8BZlhzvAW6PO7d4DMSLDE\n",
       "BAb5Bxiq+wUY2G4B6amIoP4JVrRq1XoFsNAFJNWqIB1Aw/ejqeYEhg3ExY+RVP8CYv8DKKqDQQwD\n",
       "oOch4ZSLiGfuL0BivQGKS1SAmBEoxP4BLMRWtwE5uBm/AxnuUN0MkOBJBwXuN2giWw6LeVBwby1j\n",
       "QAnBuQwMQvGFDCz63x+gpik+/V+rloPDtxIp5gUIJWnkmEdOM9gBTwNmioUCcKzdRckA6cgcKUJm\n",
       "L0TmMBLIaRwbGADis19fw20chAAAAABJRU5ErkJggg==\n",
       "\" style=\"display:inline;vertical-align:middle;\" /></a></span></td></tr>\n",
       "<tr><td>&nbsp;</td><td colspan=4 style=\"text-align:left\"><span style=\"font-size:20px;\"><a class=\"ProveItLink\" href=\"../../../../../__pv_it/2cbe72a7ad6f655694dd697106680215e8489b600/expr.ipynb\"><img src=\"data:image/png;base64,iVBORw0KGgoAAAANSUhEUgAAAA8AAAAOBAMAAAACpFvcAAAALVBMVEX///8QEBBERERUVFS6urqI\n",
       "iIhmZmaqqqrc3Nzu7u6YmJgyMjIiIiLMzMwAAADtIaYWAAAAAXRSTlMAQObYZgAAAFtJREFUCNdj\n",
       "YACBOwxQsA9Kc52bAGG05zVAGAFxDmCaZULdAjBjCsO9ADDDgaEvAUTzGhvbKYCVMDAwbgAxChgY\n",
       "eASANAeQwf0AyJgNxEwvGRia5HYwcOm9TgAA6BoR3jrzwFcAAAAASUVORK5CYII=\n",
       "\" style=\"display:inline;vertical-align:middle;\" /></a> : <a class=\"ProveItLink\" href=\"../../../../../__pv_it/2cbe72a7ad6f655694dd697106680215e8489b600/expr.ipynb\"><img src=\"data:image/png;base64,iVBORw0KGgoAAAANSUhEUgAAAA8AAAAOBAMAAAACpFvcAAAALVBMVEX///8QEBBERERUVFS6urqI\n",
       "iIhmZmaqqqrc3Nzu7u6YmJgyMjIiIiLMzMwAAADtIaYWAAAAAXRSTlMAQObYZgAAAFtJREFUCNdj\n",
       "YACBOwxQsA9Kc52bAGG05zVAGAFxDmCaZULdAjBjCsO9ADDDgaEvAUTzGhvbKYCVMDAwbgAxChgY\n",
       "eASANAeQwf0AyJgNxEwvGRia5HYwcOm9TgAA6BoR3jrzwFcAAAAASUVORK5CYII=\n",
       "\" style=\"display:inline;vertical-align:middle;\" /></a>, <a class=\"ProveItLink\" href=\"../../../../../__pv_it/077b2ff79244fb4582cbe22c6e3356fa92a52f2f0/expr.ipynb\"><img src=\"data:image/png;base64,iVBORw0KGgoAAAANSUhEUgAAABAAAAAOBAMAAADUAYG5AAAAMFBMVEX///+qqqru7u4iIiJ2dnbc\n",
       "3NyIiIjMzMxmZmYQEBC6uroyMjJERERUVFSYmJgAAADLUcuvAAAAAXRSTlMAQObYZgAAAGpJREFU\n",
       "CNdjYGB4+//u3dMLGIBgDgMDxy8gzf4NiP8CGWxfGRj4vgAZPBMYGJgnARn8FxhY9ygAGfXX0pof\n",
       "gDTlBzAw2YIYJ0EckBBI53sHoBH/gIz7AhBjWH9DjancBLTl/N+7t/cxMAAA3u4f/5xagjYAAAAA\n",
       "SUVORK5CYII=\n",
       "\" style=\"display:inline;vertical-align:middle;\" /></a> : <a class=\"ProveItLink\" href=\"../../../../../__pv_it/077b2ff79244fb4582cbe22c6e3356fa92a52f2f0/expr.ipynb\"><img src=\"data:image/png;base64,iVBORw0KGgoAAAANSUhEUgAAABAAAAAOBAMAAADUAYG5AAAAMFBMVEX///+qqqru7u4iIiJ2dnbc\n",
       "3NyIiIjMzMxmZmYQEBC6uroyMjJERERUVFSYmJgAAADLUcuvAAAAAXRSTlMAQObYZgAAAGpJREFU\n",
       "CNdjYGB4+//u3dMLGIBgDgMDxy8gzf4NiP8CGWxfGRj4vgAZPBMYGJgnARn8FxhY9ygAGfXX0pof\n",
       "gDTlBzAw2YIYJ0EckBBI53sHoBH/gIz7AhBjWH9DjancBLTl/N+7t/cxMAAA3u4f/5xagjYAAAAA\n",
       "SUVORK5CYII=\n",
       "\" style=\"display:inline;vertical-align:middle;\" /></a></span></td></tr><tr><td>1</td><td>theorem</td><td></td><td><span style=\"font-size:20px;\"> <a class=\"ProveItLink\" href=\"../../_proofs_/unfoldNotSubsetEq.ipynb\" style=\"text-decoration: none\">&#x22A2;&nbsp;</a><a class=\"ProveItLink\" href=\"../f6ae68cc9067edbfd52ff650cf88076360f2fb650/expr.ipynb\"><img src=\"data:image/png;base64,iVBORw0KGgoAAAANSUhEUgAAANcAAAAbBAMAAAAdeQdJAAAAMFBMVEX///8QEBC6urrMzMxUVFRm\n",
       "ZmZERETc3NwyMjKqqqp2dnaIiIiYmJgiIiLu7u4AAAAU9Wx4AAAAAXRSTlMAQObYZgAAA0VJREFU\n",
       "SMe9VV1IU2EYfnbmdtzO2Rxd9HMju+gi6McFQlAXjhoiBLkLlxRIk2h2IbkLUyKk3agElbuxqwgp\n",
       "IiMIo25iF66IKCMyyJtssKCgG0n8L037vu89c++QsRbmC8/5/t/n/b735wBbKdl/PKeNsMHeEptf\n",
       "WBiXg7flk9Wyvj1IzfiGXS/XQqHzfjgCUHgg526UT8aPVNLzVE7T0LieyWT81N8uWGaABBS6RKNH\n",
       "y+Yy+CumqHm3SheczLvGviwwB4xBQVrlSJZNZuO+rlZffXBRtT1xZpOYMn8BX6Bg3u/u7in/Fffw\n",
       "WEmQYmNGtUfZktMHeIQtziRhIRb7VD7ZadZ3DKnmgGtFNt4EW6oKQu8Tj+AOE44BbX+j/nbB6BqP\n",
       "j7Qi8UsHrYcmSd3xVItcdSUIuwttKSqFm7aJC2WkiFvZVORp0Oc3kI3G4f0oF30EDwxlGfrV9+Z8\n",
       "pD5Ah3OGx3NJ7OqINJ2lyRmWYlWKrDYUWlBTPNtaJaFQb58mGGmPiiyTzps+GD7l29yB90LXxVhr\n",
       "TOx6DjwuRiY+O9XUKUY2J88P5cm8CSoG31bI20Foi5zMeyYNrQ2dst8E1FBg72JkNpk5LoEPamrK\n",
       "n08zqbMxmX9GtFGsPppQjWcEjnFO5p4K4ztwR/YngRaabWdkTumGSwIDZF1vgKeZviTfK0HAoNJt\n",
       "H4mp9R8BvI5zsiPOKJ5RfHhnYZJncS+nL0AxrYKsgzJda8iVK5lmB2Vhy4U+bKryVFg216SeXgAn\n",
       "C4qLnoBLbtKWU/VW5djPk3oceutSHK/WegsD2NExF2pQSVLpJ8BU599gVG0YFmGQZWRm0phGM5xy\n",
       "zp2AWW2VK1aTsKNk3ljlKhcGExF6hHPiJZOMbCpychW3KD6cYXh/WjYMMVVjJckeWrBuHEed8qtQ\n",
       "VhNgZM2wz8IZv6uKTxLabPFfjCUtKtn9fEp6lJWOfUJVWu+Hvgp9gvlME5G2Ar1d7bySRU/YOtDJ\n",
       "dOnBEheriBNIvi5Ab/ws0mJ4PtKQzJN5G6Po/J2Goy8Wy7oHIk1X1wn4D+1yCbInFgrE5H8HFBts\n",
       "khwqpv/wfyBLFyHrEj+9WBb/Typ4NEWxdWL4t5DMvjlq/gC9Fd1NJFwlPAAAAABJRU5ErkJggg==\n",
       "\" style=\"display:inline;vertical-align:middle;\" /></a></span></td></tr>\n",
       "<tr><td>&nbsp;</td><td colspan=4 style-\"text-align:left\"><a class=\"ProveItLink\" href=\"../../_proofs_/unfoldNotSubsetEq.ipynb\">proveit.logic.set_theory.containment.unfoldNotSubsetEq</a></td></tr><tr><td>2</td><td>assumption</td><td></td><td><span style=\"font-size:20px;\"><a class=\"ProveItLink\" href=\"../e6825e18c1f0f68ac1df2d2dbc59de3fc4e217180/expr.ipynb\"><img src=\"data:image/png;base64,iVBORw0KGgoAAAANSUhEUgAAAE8AAAAYBAMAAABJkb36AAAAMFBMVEX///9ERETc3NyqqqpUVFS6\n",
       "urrMzMwyMjIQEBCIiIh2dnYiIiLu7u5mZmaYmJgAAABJJ2g3AAAAAXRSTlMAQObYZgAAAYZJREFU\n",
       "KM9jYMAGWLGK8t3DEOJG4bGtUgBRPLsw9b5C5bI1g0jOD1BuNkKmBmqX/xcXx1Ig4zqIx9UAla2H\n",
       "0tN37+jeCmFyCDAw3A9gYFiBrJBv/wGIwXMYWBKgevInALEDmkLl+2AnM21iYDgOc8J8oND7BWgK\n",
       "J8wPAFEsQHIeTKEEEO84gKqQ9YD9AxANMm0DTOEXBgZ1GQaoQt4CsNhRsIMYGFIYGJgXwILly8y5\n",
       "+0CM9yAiA2wjQwCD/gWoQnYFqELOTwwMp4F+YWAHSqW0QTS7uPgLQCMlEWYzI9BVnP9ALHGgsyIS\n",
       "oLHLAXYD7wOGqzCF/EDT+H6BdIMcwwKWNwDywL7i2coD90s+0ByWzzA3coHEmYAK2SFxedx3AnIw\n",
       "6hcwIAcPKFAY/0Ck46t3794KC0a29gPIChX7ixj45L+Dvc0QCzPw4n8Xl3Jw4KLEDByIYSY7rAqZ\n",
       "CnAo5ENVyLt/926YG+EAnB55duLLBpDYaIUkxMX4sgEiz6CDGgYigQJ2YQBUwGTHm00ZxwAAAABJ\n",
       "RU5ErkJggg==\n",
       "\" style=\"display:inline;vertical-align:middle;\" /></a> <a class=\"ProveItLink\" href=\"../7be576b71b0bc470a22724c102d5e3e7975c4d560/proof.ipynb\" style=\"text-decoration: none\">&#x22A2;&nbsp;</a><a class=\"ProveItLink\" href=\"../9de9c2208e8b5dbd6462366802372807db98e34b0/expr.ipynb\"><img src=\"data:image/png;base64,iVBORw0KGgoAAAANSUhEUgAAADsAAAAYBAMAAAC2M5gYAAAAMFBMVEX///92dnYQEBBERERUVFS6\n",
       "urqIiIhmZmaqqqrc3Nzu7u6YmJgyMjIiIiLMzMwAAACFkkdwAAAAAXRSTlMAQObYZgAAASVJREFU\n",
       "KM9jYEADrAx4AS9+6Y1YxN4imKcgFLf/Fxfno1Cx81A65+4l3asQJpMBA0N9AETp/QUQQ7IYWB5A\n",
       "Vb5PAGIHMHNG/QQQxXmTgWENzJJ8oNB+ATAzIR9sCguQzIZJGwHxJbChrAv6N4BokM4LMOkvDAxz\n",
       "rMCspWCLGBieMDBwCEBl+b6kpd+GMAMY5hdApXkmQKXZfjIwrAW7jM/Fxd8AGmCPYWYzKwCV/IaG\n",
       "MtMBEIN9A0MpTJofqJP7I4jVANSnAGJwXeWCu+w90LEsP0C+BUrzfACLrXFPQPb2/ANQ7zD/ggjG\n",
       "n7179yrM23w6QG9P1j/JwG3/B+x0hnCY5uL/Li5nNqDHnB3euOY8gE+W/f7duzC7qZSQGDASEi4w\n",
       "AUMEAKd1TsMuccRHAAAAAElFTkSuQmCC\n",
       "\" style=\"display:inline;vertical-align:middle;\" /></a></span></td></tr>\n",
       "</table>"
      ],
      "text/plain": [
       "<proveit._core_.proof._ShowProof at 0x7f94eaefdbe0>"
      ]
     },
     "execution_count": 1,
     "metadata": {},
     "output_type": "execute_result"
    }
   ],
   "source": [
    "import proveit\n",
    "%show_proof"
   ]
  },
  {
   "cell_type": "code",
   "execution_count": null,
   "metadata": {},
   "outputs": [],
   "source": []
  }
 ],
 "metadata": {
  "kernelspec": {
   "display_name": "Python 3",
   "language": "python",
   "name": "python3"
  }
 },
 "nbformat": 4,
 "nbformat_minor": 0
}
