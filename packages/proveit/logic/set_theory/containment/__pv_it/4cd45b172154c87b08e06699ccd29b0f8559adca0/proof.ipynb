{
 "cells": [
  {
   "cell_type": "markdown",
   "metadata": {},
   "source": [
    "Show the Proof\n",
    "========"
   ]
  },
  {
   "cell_type": "code",
   "execution_count": 1,
   "metadata": {},
   "outputs": [
    {
     "data": {
      "text/html": [
       "<table><tr><th>&nbsp;</th><th>step type</th><th>requirements</th><th>statement</th></tr>\n",
       "<tr><td>0</td><td>assumption</td><td></td><td><span style=\"font-size:20px;\"><a class=\"ProveItLink\" href=\"../e35ef377584f9663205e692e10a797b06d7996380/expr.ipynb\"><img src=\"data:image/png;base64,iVBORw0KGgoAAAANSUhEUgAAAEgAAAAVBAMAAAAX07VdAAAAMFBMVEX///9ERETc3NyqqqpUVFS6\n",
       "urrMzMwyMjIQEBCIiIh2dnYiIiLu7u5mZmaYmJgAAABJJ2g3AAAAAXRSTlMAQObYZgAAARlJREFU\n",
       "KM9jYGDgu8eAB2QtApE8uxjwggwDIMH5Aac82wYgwVsAJLgacCpi/wCTx6Po9R/sinim795dAGUz\n",
       "2X7Crij9DYLNyfkVWRHTSifLm2DNMkgaYpj/wRSBXH+K4fWDbpA4owKSzQFsP4EUH8j1GQEMDAsY\n",
       "5jOYgSQOIhnEysD0F0TXMjCktAHpAwyOEImI3bvhDk9xcfkINr0OKJ4AYnVCJZBMAtrQDqJBMcIC\n",
       "0sj0jYEHJHAaoYYZiHfA3MQFDPtHwLiZA5JheQBXpAzE9UhBwPyPsYFpAthHW+F+A1kgfwChiEdy\n",
       "zap5EDn1a9DQlviuwPDwfy32uDOphkcLBBCKYIQiPgKKwOmJZyeBlBkAIvkWE0rjAGfmS4rohq8W\n",
       "AAAAAElFTkSuQmCC\n",
       "\" style=\"display:inline;vertical-align:middle;\" /></a> <a class=\"ProveItLink\" href=\"proof.ipynb\" style=\"text-decoration: none\">&#x22A2;&nbsp;</a><a class=\"ProveItLink\" href=\"../d22ddc5a10eb975511dd53c73f90645ec65bd9fe0/expr.ipynb\"><img src=\"data:image/png;base64,iVBORw0KGgoAAAANSUhEUgAAADUAAAAPBAMAAAC2KZqIAAAAMFBMVEX///+6uroyMjJERETMzMwQ\n",
       "EBAiIiKYmJju7u5mZmaqqqpUVFSIiIh2dnbc3NwAAAAWgogoAAAAAXRSTlMAQObYZgAAAMlJREFU\n",
       "GNNjYMAB3BhwA33cUuz5DSj8HrW0JBj71fwHyFIs6khKD5wXAJJvT786eQDEfYwkxdiwvoCBgeMC\n",
       "ezprAohvh2RGI4M/UD0vA88HLgcgl8MASU6A4f0EoBADN0SQMSwtDeYWlt2794NFWQ9A+BuQrAOK\n",
       "KoAY7x0YQK7gSEDILWBgYAsAevLBeQYesAu3w6X4gHJMHxgY1heYMrwBi7QJwOSagJj5BwND89ne\n",
       "OwUQ1ZoOEKnH8XoM7PafJiAHDNcmRJiBAACh/y/lW8971AAAAABJRU5ErkJggg==\n",
       "\" style=\"display:inline;vertical-align:middle;\" /></a></span></td></tr>\n",
       "</table>"
      ],
      "text/plain": [
       "<proveit._core_.proof._ShowProof at 0x7f94ea690dd8>"
      ]
     },
     "execution_count": 1,
     "metadata": {},
     "output_type": "execute_result"
    }
   ],
   "source": [
    "import proveit\n",
    "%show_proof"
   ]
  },
  {
   "cell_type": "code",
   "execution_count": null,
   "metadata": {},
   "outputs": [],
   "source": []
  }
 ],
 "metadata": {
  "kernelspec": {
   "display_name": "Python 3",
   "language": "python",
   "name": "python3"
  }
 },
 "nbformat": 4,
 "nbformat_minor": 0
}
