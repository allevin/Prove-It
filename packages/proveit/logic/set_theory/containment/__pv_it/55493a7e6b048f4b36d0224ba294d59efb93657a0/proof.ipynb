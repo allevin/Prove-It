{
 "cells": [
  {
   "cell_type": "markdown",
   "metadata": {},
   "source": [
    "Show the Proof\n",
    "========"
   ]
  },
  {
   "cell_type": "code",
   "execution_count": 1,
   "metadata": {},
   "outputs": [
    {
     "data": {
      "text/html": [
       "<table><tr><th>&nbsp;</th><th>step type</th><th>requirements</th><th>statement</th></tr>\n",
       "<tr><td>0</td><td>specialization</td><td>1, 2</td><td><span style=\"font-size:20px;\"><a class=\"ProveItLink\" href=\"../92082b1f864c41fb521d0e19b100316dc873f7000/expr.ipynb\"><img src=\"data:image/png;base64,iVBORw0KGgoAAAANSUhEUgAAAE8AAAAVBAMAAAD1D64kAAAAMFBMVEX///9ERETc3NyqqqpUVFS6\n",
       "urrMzMwyMjIQEBCIiIh2dnYiIiLu7u5mZmaYmJgAAABJJ2g3AAAAAXRSTlMAQObYZgAAAUhJREFU\n",
       "KM9jYGDgu8eAH7CtUgBRPLsYCAG2ZhDJ+QHKzcZQwOf/xcWxFMi4DuJxNUCF6zGN4hBgYLgfwMCw\n",
       "Alkh3/4DGArzJwCxA5pC5ftgJ0fv3r27EqZwPlDo/QI0hRPmB8DkT26DMiSAeMcBVIWsB+wfwK3U\n",
       "VoDQXxgY1GUYoAp5C8BiR8EOggJWB0iwfJk5dx+I8R5EZEBsDGDQv4DwxQYwyfmJgeE0SA87UCql\n",
       "DaLZxcVfAKHQDUwyAl3F+Q/EEgc6KyIBbBkw0ArQFfIDTeP7BWRwA33OwAKWNwDyGtCtzgeaw/IZ\n",
       "5kYukCATUCH7B7g65gvwYNQvYEAOnuMgF/2BK4w+AAtGtvYDyAoV+4sY+OS/w7ydWwOmLv53cSkH\n",
       "By5KzMAM2717uyt6nGNTiBWAFfIRoRCcHnl2Ek7hrZCEuJiYPAMApJlWk7k5358AAAAASUVORK5C\n",
       "YII=\n",
       "\" style=\"display:inline;vertical-align:middle;\" /></a> <a class=\"ProveItLink\" href=\"proof.ipynb\" style=\"text-decoration: none\">&#x22A2;&nbsp;</a><a class=\"ProveItLink\" href=\"../6b463c6d625eb79d8b9011da6994376e9ebeda580/expr.ipynb\"><img src=\"data:image/png;base64,iVBORw0KGgoAAAANSUhEUgAAADsAAAAPBAMAAACo4Ko7AAAAMFBMVEX///+qqqru7u4iIiJ2dnbc\n",
       "3NyIiIjMzMxmZmYQEBC6uroyMjJERERUVFSYmJgAAADLUcuvAAAAAXRSTlMAQObYZgAAAOhJREFU\n",
       "GNNjYGB4+//u3dMLGDBBMYSaw8DA8QuL9H4wyf4NiP9iyvLZK4Aotq9A5hewCNtmY2NjmD2B/QEg\n",
       "imcCAwPzJLA5ZgpIuhPywQr5LzCw7gGLBwcgyXIpyD8A0fXX0prBDIZbyFZrMdQngOj8AAYmWxCD\n",
       "aQOy9AKG+AYQfRKkBKSd/QKSLPvdu/cPgBggP713QJfmYmDgBJnG/g9I3BcACRkgSQMFmCdAvc36\n",
       "GyzUiJBlBUpzf4B6u3ITWEwZEfLaIJlPwNA+//fu7X0QMaYdBVDZmPlbGfjO/25ADWau20iBCgIA\n",
       "K9Y93UOz/gQAAAAASUVORK5CYII=\n",
       "\" style=\"display:inline;vertical-align:middle;\" /></a></span></td></tr>\n",
       "<tr><td>&nbsp;</td><td colspan=4 style=\"text-align:left\"><span style=\"font-size:20px;\"><a class=\"ProveItLink\" href=\"../../../../../__pv_it/2cbe72a7ad6f655694dd697106680215e8489b600/expr.ipynb\"><img src=\"data:image/png;base64,iVBORw0KGgoAAAANSUhEUgAAAA8AAAAOBAMAAAACpFvcAAAALVBMVEX///8QEBBERERUVFS6urqI\n",
       "iIhmZmaqqqrc3Nzu7u6YmJgyMjIiIiLMzMwAAADtIaYWAAAAAXRSTlMAQObYZgAAAFtJREFUCNdj\n",
       "YACBOwxQsA9Kc52bAGG05zVAGAFxDmCaZULdAjBjCsO9ADDDgaEvAUTzGhvbKYCVMDAwbgAxChgY\n",
       "eASANAeQwf0AyJgNxEwvGRia5HYwcOm9TgAA6BoR3jrzwFcAAAAASUVORK5CYII=\n",
       "\" style=\"display:inline;vertical-align:middle;\" /></a> : <a class=\"ProveItLink\" href=\"../../../../../__pv_it/2cbe72a7ad6f655694dd697106680215e8489b600/expr.ipynb\"><img src=\"data:image/png;base64,iVBORw0KGgoAAAANSUhEUgAAAA8AAAAOBAMAAAACpFvcAAAALVBMVEX///8QEBBERERUVFS6urqI\n",
       "iIhmZmaqqqrc3Nzu7u6YmJgyMjIiIiLMzMwAAADtIaYWAAAAAXRSTlMAQObYZgAAAFtJREFUCNdj\n",
       "YACBOwxQsA9Kc52bAGG05zVAGAFxDmCaZULdAjBjCsO9ADDDgaEvAUTzGhvbKYCVMDAwbgAxChgY\n",
       "eASANAeQwf0AyJgNxEwvGRia5HYwcOm9TgAA6BoR3jrzwFcAAAAASUVORK5CYII=\n",
       "\" style=\"display:inline;vertical-align:middle;\" /></a>, <a class=\"ProveItLink\" href=\"../../../../../__pv_it/077b2ff79244fb4582cbe22c6e3356fa92a52f2f0/expr.ipynb\"><img src=\"data:image/png;base64,iVBORw0KGgoAAAANSUhEUgAAABAAAAAOBAMAAADUAYG5AAAAMFBMVEX///+qqqru7u4iIiJ2dnbc\n",
       "3NyIiIjMzMxmZmYQEBC6uroyMjJERERUVFSYmJgAAADLUcuvAAAAAXRSTlMAQObYZgAAAGpJREFU\n",
       "CNdjYGB4+//u3dMLGIBgDgMDxy8gzf4NiP8CGWxfGRj4vgAZPBMYGJgnARn8FxhY9ygAGfXX0pof\n",
       "gDTlBzAw2YIYJ0EckBBI53sHoBH/gIz7AhBjWH9DjancBLTl/N+7t/cxMAAA3u4f/5xagjYAAAAA\n",
       "SUVORK5CYII=\n",
       "\" style=\"display:inline;vertical-align:middle;\" /></a> : <a class=\"ProveItLink\" href=\"../../../../../__pv_it/077b2ff79244fb4582cbe22c6e3356fa92a52f2f0/expr.ipynb\"><img src=\"data:image/png;base64,iVBORw0KGgoAAAANSUhEUgAAABAAAAAOBAMAAADUAYG5AAAAMFBMVEX///+qqqru7u4iIiJ2dnbc\n",
       "3NyIiIjMzMxmZmYQEBC6uroyMjJERERUVFSYmJgAAADLUcuvAAAAAXRSTlMAQObYZgAAAGpJREFU\n",
       "CNdjYGB4+//u3dMLGIBgDgMDxy8gzf4NiP8CGWxfGRj4vgAZPBMYGJgnARn8FxhY9ygAGfXX0pof\n",
       "gDTlBzAw2YIYJ0EckBBI53sHoBH/gIz7AhBjWH9DjancBLTl/N+7t/cxMAAA3u4f/5xagjYAAAAA\n",
       "SUVORK5CYII=\n",
       "\" style=\"display:inline;vertical-align:middle;\" /></a></span></td></tr><tr><td>1</td><td>theorem</td><td></td><td><span style=\"font-size:20px;\"> <a class=\"ProveItLink\" href=\"../../_proofs_/reverseSupset.ipynb\" style=\"text-decoration: none\">&#x22A2;&nbsp;</a><a class=\"ProveItLink\" href=\"../3cfc3018e63d557045a72bb1dc29d9da86475e990/expr.ipynb\"><img src=\"data:image/png;base64,iVBORw0KGgoAAAANSUhEUgAAALoAAAAXBAMAAABOokjyAAAAMFBMVEX///8QEBC6urrMzMxUVFRm\n",
       "ZmZERETc3NwyMjKqqqp2dnaIiIiYmJgiIiLu7u4AAAAU9Wx4AAAAAXRSTlMAQObYZgAAAthJREFU\n",
       "SMe1VE1oE0EU/pI0uzW72eampxrBm0JzEAVFEjTUnmzAbsWDtP6leLE5SKtIaRAketDmonizIGK9\n",
       "SAQ95dD1VvXQeujFthjESi+pYv+s1uqbmZ1mjNHgqgMz82bevG/ezzcD/NdW8my5o47ejAITTHjh\n",
       "ATyQIID2xWTr5Vra/dSPAA+YfMMDeiOL2tcNdEVraIfYCaCPJr3bA3qRDfEC9USNrLymu81h7kIw\n",
       "7wG9mQ2jGWB8mK+N6zMzMzKMi12ksCIw7/f3D3gA92fZeIL6S06MwJTKj8Iou+cssJxOv/KAHuQe\n",
       "LwIXzvH1QEa9unTHoekecBDo4Vs5Pt5asltj/MRG+TbsNvXaHafkLjMPLBafTIv1AfXqN7wguA1s\n",
       "h8WDND+KekRgRJigyaPjFU48BR65oo/tGitAmRdVYMgWxWCKpm1AGAZzA7NrIuIE/CsqutXlYNa2\n",
       "7zK5A2hxI2li6Br5YaxJ9leeQjLZzmgYJ60T5vV4OMk14QKCEyp6qJyCNT+/9zDJU8BxKOhN7EV9\n",
       "/gmdkurLCnQru4urC2mueR/DWEZF36eJ17Cbji7AzMnMMBbHKeqGVb6eUNBJFY6IzKCHF6TB9aql\n",
       "+FiQQKInRCgIReH/UmyVvNMcl+6DIuPHKuA6oTd+IGGM+k1u/QyjXDVCtSsp6Gbe+CCSOYxQFmaz\n",
       "TFhK0D2wRdxXrtR+jlmvC0bCx8hjTdq9/NgZSk5eQS/bnevCoxQ0qsCqzC351PktmbzquMW/EnM1\n",
       "fVtzMHs/0e3sfzMZajCDOFeTdUtMQT+KwIIgu4OmPPwL0sPN1Y+3TfkJxIURKe0kAjh6Dvo69Ekl\n",
       "735yTVBVK2GwhIGUtHhe9zmHCq7wdhl6+3RgDSNLdlu+gm4Rb89/ZcHrJxEasjuu/fgD/7bNVX+c\n",
       "iqwp8rt0+nSm6qyeqId+qGq95xfoNdulOnojVrXh/An6X7WGf4DxHUvzsqWmWoAEAAAAAElFTkSu\n",
       "QmCC\n",
       "\" style=\"display:inline;vertical-align:middle;\" /></a></span></td></tr>\n",
       "<tr><td>&nbsp;</td><td colspan=4 style-\"text-align:left\"><a class=\"ProveItLink\" href=\"../../_proofs_/reverseSupset.ipynb\">proveit.logic.set_theory.containment.reverseSupset</a></td></tr><tr><td>2</td><td>assumption</td><td></td><td><span style=\"font-size:20px;\"><a class=\"ProveItLink\" href=\"../92082b1f864c41fb521d0e19b100316dc873f7000/expr.ipynb\"><img src=\"data:image/png;base64,iVBORw0KGgoAAAANSUhEUgAAAE8AAAAVBAMAAAD1D64kAAAAMFBMVEX///9ERETc3NyqqqpUVFS6\n",
       "urrMzMwyMjIQEBCIiIh2dnYiIiLu7u5mZmaYmJgAAABJJ2g3AAAAAXRSTlMAQObYZgAAAUhJREFU\n",
       "KM9jYGDgu8eAH7CtUgBRPLsYCAG2ZhDJ+QHKzcZQwOf/xcWxFMi4DuJxNUCF6zGN4hBgYLgfwMCw\n",
       "Alkh3/4DGArzJwCxA5pC5ftgJ0fv3r27EqZwPlDo/QI0hRPmB8DkT26DMiSAeMcBVIWsB+wfwK3U\n",
       "VoDQXxgY1GUYoAp5C8BiR8EOggJWB0iwfJk5dx+I8R5EZEBsDGDQv4DwxQYwyfmJgeE0SA87UCql\n",
       "DaLZxcVfAKHQDUwyAl3F+Q/EEgc6KyIBbBkw0ArQFfIDTeP7BWRwA33OwAKWNwDyGtCtzgeaw/IZ\n",
       "5kYukCATUCH7B7g65gvwYNQvYEAOnuMgF/2BK4w+AAtGtvYDyAoV+4sY+OS/w7ydWwOmLv53cSkH\n",
       "By5KzMAM2717uyt6nGNTiBWAFfIRoRCcHnl2Ek7hrZCEuJiYPAMApJlWk7k5358AAAAASUVORK5C\n",
       "YII=\n",
       "\" style=\"display:inline;vertical-align:middle;\" /></a> <a class=\"ProveItLink\" href=\"../fba2b5ba372f38b8c5448b6581caea0c3c2b69660/proof.ipynb\" style=\"text-decoration: none\">&#x22A2;&nbsp;</a><a class=\"ProveItLink\" href=\"../113f37a984480f946e743e317867bb10f7bce0800/expr.ipynb\"><img src=\"data:image/png;base64,iVBORw0KGgoAAAANSUhEUgAAADsAAAAPBAMAAACo4Ko7AAAAMFBMVEX///92dnYQEBBERERUVFS6\n",
       "urqIiIhmZmaqqqrc3Nzu7u6YmJgyMjIiIiLMzMwAAACFkkdwAAAAAXRSTlMAQObYZgAAAOVJREFU\n",
       "GNNjYACBtwzogNv/i4vzUSjnPIY0A5MBA0N9AETp/QUY0u8TgNgBzJxRPwFExd69e/cYTDofKLRf\n",
       "AMxMyA+AiS67B2UYAfElsKGsC/o3wA2dOwFCf2FgmGMFZi0FWwQFrBD7+L6kpd+GiAQwzC9AuOkC\n",
       "mGT7ycCwFqySz8XF3wAh7QcmmRWASn6DjQN68gC6ND9QJ/dHEKuBgYFXAd3w90DHsvwAMjiB0jwf\n",
       "4LIcBXBvzweZuQZk0y+4dOwCmLf5dIDMyfonGbjt/8Cc/vwUmCr+7+JyZgNqMAMD9Y4rqhAAEl0/\n",
       "W0VPoRUAAAAASUVORK5CYII=\n",
       "\" style=\"display:inline;vertical-align:middle;\" /></a></span></td></tr>\n",
       "</table>"
      ],
      "text/plain": [
       "<proveit._core_.proof._ShowProof at 0x7f950c630dd8>"
      ]
     },
     "execution_count": 1,
     "metadata": {},
     "output_type": "execute_result"
    }
   ],
   "source": [
    "import proveit\n",
    "%show_proof"
   ]
  },
  {
   "cell_type": "code",
   "execution_count": null,
   "metadata": {},
   "outputs": [],
   "source": []
  }
 ],
 "metadata": {
  "kernelspec": {
   "display_name": "Python 3",
   "language": "python",
   "name": "python3"
  }
 },
 "nbformat": 4,
 "nbformat_minor": 0
}
