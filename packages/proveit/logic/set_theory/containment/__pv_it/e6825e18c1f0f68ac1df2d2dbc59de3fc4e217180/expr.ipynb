{
 "cells": [
  {
   "cell_type": "markdown",
   "metadata": {},
   "source": [
    "Expression of type <a class=\"ProveItLink\" href=\"../../../../../../../doc/html/api/proveit.logic.Set.html\">Set</a>\n",
    "=======================\n",
    "# from context <a class=\"ProveItLink\" href=\"../../_context_.ipynb\">proveit.logic.set_theory.containment</a>"
   ]
  },
  {
   "cell_type": "code",
   "execution_count": 1,
   "metadata": {},
   "outputs": [],
   "source": [
    "# import Expression classes needed to build the expression\n",
    "from proveit._common_ import A, B\n",
    "from proveit.logic import NotSubsetEq, Set"
   ]
  },
  {
   "cell_type": "code",
   "execution_count": 2,
   "metadata": {},
   "outputs": [
    {
     "data": {
      "text/html": [
       "<strong id=\"expr\">expr:</strong> <a class=\"ProveItLink\" href=\"expr.ipynb\"><img src=\"data:image/png;base64,iVBORw0KGgoAAAANSUhEUgAAAE8AAAAYBAMAAABJkb36AAAAMFBMVEX///9ERETc3NyqqqpUVFS6\n",
       "urrMzMwyMjIQEBCIiIh2dnYiIiLu7u5mZmaYmJgAAABJJ2g3AAAAAXRSTlMAQObYZgAAAYZJREFU\n",
       "KM9jYMAGWLGK8t3DEOJG4bGtUgBRPLsw9b5C5bI1g0jOD1BuNkKmBmqX/xcXx1Ig4zqIx9UAla2H\n",
       "0tN37+jeCmFyCDAw3A9gYFiBrJBv/wGIwXMYWBKgevInALEDmkLl+2AnM21iYDgOc8J8oND7BWgK\n",
       "J8wPAFEsQHIeTKEEEO84gKqQ9YD9AxANMm0DTOEXBgZ1GQaoQt4CsNhRsIMYGFIYGJgXwILly8y5\n",
       "+0CM9yAiA2wjQwCD/gWoQnYFqELOTwwMp4F+YWAHSqW0QTS7uPgLQCMlEWYzI9BVnP9ALHGgsyIS\n",
       "oLHLAXYD7wOGqzCF/EDT+H6BdIMcwwKWNwDywL7i2coD90s+0ByWzzA3coHEmYAK2SFxedx3AnIw\n",
       "6hcwIAcPKFAY/0Ck46t3794KC0a29gPIChX7ixj45L+Dvc0QCzPw4n8Xl3Jw4KLEDByIYSY7rAqZ\n",
       "CnAo5ENVyLt/926YG+EAnB55duLLBpDYaIUkxMX4sgEiz6CDGgYigQJ2YQBUwGTHm00ZxwAAAABJ\n",
       "RU5ErkJggg==\n",
       "\" style=\"display:inline;vertical-align:middle;\" /></a><br>"
      ],
      "text/plain": [
       "expr: {A nsubseteq B}"
      ]
     },
     "execution_count": 2,
     "metadata": {},
     "output_type": "execute_result"
    }
   ],
   "source": [
    "# build up the expression from sub-expressions\n",
    "expr = Set(NotSubsetEq(A, B))"
   ]
  },
  {
   "cell_type": "code",
   "execution_count": 3,
   "metadata": {},
   "outputs": [
    {
     "name": "stdout",
     "output_type": "stream",
     "text": [
      "Passed sanity check: built 'expr' is the same as the stored Expression.\n"
     ]
    }
   ],
   "source": [
    "# check that the built expression is the same as the stored expression\n",
    "%check_expr"
   ]
  },
  {
   "cell_type": "code",
   "execution_count": 4,
   "metadata": {},
   "outputs": [
    {
     "data": {
      "text/html": [
       "<table><tr><th>&nbsp;</th><th>core type</th><th>sub-expressions</th><th>expression</th></tr>\n",
       "<tr><td>0</td><td>Operation</td><td>operator:&nbsp;1<br>operands:&nbsp;2<br></td><td><a class=\"ProveItLink\" href=\"expr.ipynb\"><img src=\"data:image/png;base64,iVBORw0KGgoAAAANSUhEUgAAAE8AAAAYBAMAAABJkb36AAAAMFBMVEX///9ERETc3NyqqqpUVFS6\n",
       "urrMzMwyMjIQEBCIiIh2dnYiIiLu7u5mZmaYmJgAAABJJ2g3AAAAAXRSTlMAQObYZgAAAYZJREFU\n",
       "KM9jYMAGWLGK8t3DEOJG4bGtUgBRPLsw9b5C5bI1g0jOD1BuNkKmBmqX/xcXx1Ig4zqIx9UAla2H\n",
       "0tN37+jeCmFyCDAw3A9gYFiBrJBv/wGIwXMYWBKgevInALEDmkLl+2AnM21iYDgOc8J8oND7BWgK\n",
       "J8wPAFEsQHIeTKEEEO84gKqQ9YD9AxANMm0DTOEXBgZ1GQaoQt4CsNhRsIMYGFIYGJgXwILly8y5\n",
       "+0CM9yAiA2wjQwCD/gWoQnYFqELOTwwMp4F+YWAHSqW0QTS7uPgLQCMlEWYzI9BVnP9ALHGgsyIS\n",
       "oLHLAXYD7wOGqzCF/EDT+H6BdIMcwwKWNwDywL7i2coD90s+0ByWzzA3coHEmYAK2SFxedx3AnIw\n",
       "6hcwIAcPKFAY/0Ck46t3794KC0a29gPIChX7ixj45L+Dvc0QCzPw4n8Xl3Jw4KLEDByIYSY7rAqZ\n",
       "CnAo5ENVyLt/926YG+EAnB55duLLBpDYaIUkxMX4sgEiz6CDGgYigQJ2YQBUwGTHm00ZxwAAAABJ\n",
       "RU5ErkJggg==\n",
       "\" style=\"display:inline;vertical-align:middle;\" /></a></td></tr>\n",
       "<tr><td>1</td><td>Literal</td><td></td><td><a class=\"ProveItLink\" href=\"../../../enumeration/__pv_it/07381ed5b23806e8d7914b78cb6667769e3708dd0/expr.ipynb\"><img src=\"data:image/png;base64,iVBORw0KGgoAAAANSUhEUgAAAB4AAAAOBAMAAADKyLEKAAAAMFBMVEX///8iIiIQEBCIiIjMzMzc\n",
       "3Nyqqqp2dnZEREQyMjK6urru7u5mZmZUVFSYmJgAAACI6eGPAAAAAXRSTlMAQObYZgAAALRJREFU\n",
       "CNdjYGDgu3Nm3wIGBJjHwN0PZW5yYGDgLWBgyITy8zcwMMQDxZyh/INAvD6BgcEFypcB4vjPDiBm\n",
       "TPFRrhs/LjMwMP//38rAwCbKEMPA9gEkE3fp0waG+AUMRxh4JkC01T9guPTOOICBEWgVH5C//wHD\n",
       "H5D4fqCz9oCMDGD4DLaegRXslLMMDMpAgxlOMmQxHDRgYG5gYLBk4D7KcIe7gOHC2rt9QCXsh40Z\n",
       "GCKMGQDRkC8N/Ph1XAAAAABJRU5ErkJggg==\n",
       "\" style=\"display:inline;vertical-align:middle;\" /></a></td></tr>\n",
       "<tr><td>2</td><td>ExprTuple</td><td>3</td><td><a class=\"ProveItLink\" href=\"../1af66ab161ff1ac95eac37a50b2aed0b58302a9e0/expr.ipynb\"><img src=\"data:image/png;base64,iVBORw0KGgoAAAANSUhEUgAAAEgAAAAYBAMAAACrTaaDAAAAMFBMVEX////c3NwiIiJERESqqqqY\n",
       "mJh2dnZmZmYQEBDu7u4yMjJUVFTMzMyIiIi6uroAAAAs73DqAAAAAXRSTlMAQObYZgAAAYpJREFU\n",
       "KM9jYMAEfAxEACYs+i6gi4Sh8FgfAInTEPYhhPBKqOz+37s3r2NgqEEIrYequKWk0aQHYXIYMDDU\n",
       "P2DgYmDghdjGqj8BYuBNBu4DUPXngVLnNzCwJjBwQCRF6gVAFKMiA8MsmLX3gULxCQycDQyvIAIX\n",
       "7oPcx8ANJK/CFFkAsQbQDBOGMogXJ/gHgGiQKQowRb8ZGKQsgXQ6w1Iwfx7YAWCvsiRA1fD8vntd\n",
       "FcTwYugDCzxgkC+AKuISgCri/cjAMGkDkPGC4R9Y0+7d+w2ggX0YZhtzA1DhV5AvIYqAscWxAMRg\n",
       "D2CogyniB5rC+g2sqAXEdwCa0QBicOpxwt19HugV7i9g60xBoQNUxPUBLDNr+wXkYJIHmR8F9B/E\n",
       "48w/IVLvFykp6cGCiadrAjgIHjEwCPcvZGC1/wX2HsNzmEHF/3fvXgUOvHUMHAKo6cQGIy0Bo4U1\n",
       "AUWEcQGGIrYL8KQCAez6SkowN8EAyMXShJLuRpAFF3AnXXDsHMAQWklMThHAJggAhw5eURVH0QwA\n",
       "AAAASUVORK5CYII=\n",
       "\" style=\"display:inline;vertical-align:middle;\" /></a></td></tr>\n",
       "<tr><td>3</td><td>Operation</td><td>operator:&nbsp;4<br>operands:&nbsp;5<br></td><td><a class=\"ProveItLink\" href=\"../9de9c2208e8b5dbd6462366802372807db98e34b0/expr.ipynb\"><img src=\"data:image/png;base64,iVBORw0KGgoAAAANSUhEUgAAADsAAAAYBAMAAAC2M5gYAAAAMFBMVEX///92dnYQEBBERERUVFS6\n",
       "urqIiIhmZmaqqqrc3Nzu7u6YmJgyMjIiIiLMzMwAAACFkkdwAAAAAXRSTlMAQObYZgAAASVJREFU\n",
       "KM9jYEADrAx4AS9+6Y1YxN4imKcgFLf/Fxfno1Cx81A65+4l3asQJpMBA0N9AETp/QUQQ7IYWB5A\n",
       "Vb5PAGIHMHNG/QQQxXmTgWENzJJ8oNB+ATAzIR9sCguQzIZJGwHxJbChrAv6N4BokM4LMOkvDAxz\n",
       "rMCspWCLGBieMDBwCEBl+b6kpd+GMAMY5hdApXkmQKXZfjIwrAW7jM/Fxd8AGmCPYWYzKwCV/IaG\n",
       "MtMBEIN9A0MpTJofqJP7I4jVANSnAGJwXeWCu+w90LEsP0C+BUrzfACLrXFPQPb2/ANQ7zD/ggjG\n",
       "n7179yrM23w6QG9P1j/JwG3/B+x0hnCY5uL/Li5nNqDHnB3euOY8gE+W/f7duzC7qZSQGDASEi4w\n",
       "AUMEAKd1TsMuccRHAAAAAElFTkSuQmCC\n",
       "\" style=\"display:inline;vertical-align:middle;\" /></a></td></tr>\n",
       "<tr><td>4</td><td>Literal</td><td></td><td><a class=\"ProveItLink\" href=\"../cdabae2cfd2d5cc37cb8344ff36c341d3e7aa01f0/expr.ipynb\"><img src=\"data:image/png;base64,iVBORw0KGgoAAAANSUhEUgAAAA4AAAAYBAMAAAA46dFkAAAAMFBMVEX///9mZmZERESqqqrc3NxU\n",
       "VFTMzMwQEBCIiIju7u4yMjJ2dnaYmJgiIiK6uroAAABa5MLrAAAAAXRSTlMAQObYZgAAAHRJREFU\n",
       "CNdjYAABPgYI4IXSp6H0ShDRdfd67T0GhtxOBtYEBgaWKwwMs4CirA8YGHoYIOwLQJzKwMC8AUJz\n",
       "OUCMSgLpZjzAIAeiOe9xXgCbOSuwAWL4+7V37wLNZXgItUwNQrEsAFOM9+/eBctjdRMQOIBJAMux\n",
       "HePokPHDAAAAAElFTkSuQmCC\n",
       "\" style=\"display:inline;vertical-align:middle;\" /></a></td></tr>\n",
       "<tr><td>5</td><td>ExprTuple</td><td>6, 7</td><td><a class=\"ProveItLink\" href=\"../caee09fb4b5c95b986a9cee46a014afbad9bdc680/expr.ipynb\"><img src=\"data:image/png;base64,iVBORw0KGgoAAAANSUhEUgAAADUAAAAVBAMAAAAUZLt1AAAAMFBMVEX////c3NwiIiJERESqqqqY\n",
       "mJh2dnZmZmYQEBDu7u4yMjJUVFTMzMyIiIi6uroAAAAs73DqAAAAAXRSTlMAQObYZgAAATZJREFU\n",
       "KM9jYMAH+C5gFY4DEach7EMwQdb9v3dvXsfAfgDIXgkRWg/XwWHAwFD/gGEBAwMvxEhW/QkwufNA\n",
       "kfMbGMKAqiBiIvUCMLn7QFZ8AsMMBoZXEIEL9x/A5CyAWGMCA7MDQxnEsRP8A2ByvxkYpCwZGNgK\n",
       "GJaC+fPAtoABz++711WBNMsChj6wwAMG+QKoHO9HBoZJG4BGNTD8A6vdvXu/AVSOuQEo/xUo9gEi\n",
       "xwd07wKoHD9QD+s3sFwLiO/AwMDUAPMe0FHcX8BmmgK5jEA5rg8MDBNg3pMHGsK6gCEdyJ0FsuYn\n",
       "A+cnqPd4uiaA/fCIgUG4fyEDq/2vAs5+oJbi/7t3rwL5lesBA4cAUnQhsUFhxpqA4LIiR2AuIo7Q\n",
       "5ThBfpJG8JFTADfIfEbsaeIOAwMABOxNRsfkiy0AAAAASUVORK5CYII=\n",
       "\" style=\"display:inline;vertical-align:middle;\" /></a></td></tr>\n",
       "<tr><td>6</td><td>Variable</td><td></td><td><a class=\"ProveItLink\" href=\"../../../../../__pv_it/2cbe72a7ad6f655694dd697106680215e8489b600/expr.ipynb\"><img src=\"data:image/png;base64,iVBORw0KGgoAAAANSUhEUgAAAA8AAAAOBAMAAAACpFvcAAAALVBMVEX///8QEBBERERUVFS6urqI\n",
       "iIhmZmaqqqrc3Nzu7u6YmJgyMjIiIiLMzMwAAADtIaYWAAAAAXRSTlMAQObYZgAAAFtJREFUCNdj\n",
       "YACBOwxQsA9Kc52bAGG05zVAGAFxDmCaZULdAjBjCsO9ADDDgaEvAUTzGhvbKYCVMDAwbgAxChgY\n",
       "eASANAeQwf0AyJgNxEwvGRia5HYwcOm9TgAA6BoR3jrzwFcAAAAASUVORK5CYII=\n",
       "\" style=\"display:inline;vertical-align:middle;\" /></a></td></tr>\n",
       "<tr><td>7</td><td>Variable</td><td></td><td><a class=\"ProveItLink\" href=\"../../../../../__pv_it/077b2ff79244fb4582cbe22c6e3356fa92a52f2f0/expr.ipynb\"><img src=\"data:image/png;base64,iVBORw0KGgoAAAANSUhEUgAAABAAAAAOBAMAAADUAYG5AAAAMFBMVEX///+qqqru7u4iIiJ2dnbc\n",
       "3NyIiIjMzMxmZmYQEBC6uroyMjJERERUVFSYmJgAAADLUcuvAAAAAXRSTlMAQObYZgAAAGpJREFU\n",
       "CNdjYGB4+//u3dMLGIBgDgMDxy8gzf4NiP8CGWxfGRj4vgAZPBMYGJgnARn8FxhY9ygAGfXX0pof\n",
       "gDTlBzAw2YIYJ0EckBBI53sHoBH/gIz7AhBjWH9DjancBLTl/N+7t/cxMAAA3u4f/5xagjYAAAAA\n",
       "SUVORK5CYII=\n",
       "\" style=\"display:inline;vertical-align:middle;\" /></a></td></tr>\n",
       "</table>\n"
      ],
      "text/plain": [
       "0. {A nsubseteq B}\n",
       "   core type: Operation\n",
       "   operator: 1\n",
       "   operands: 2\n",
       "1. Set\n",
       "   core type: Literal\n",
       "   sub-expressions: \n",
       "2. (A nsubseteq B)\n",
       "   core type: ExprTuple\n",
       "   sub-expressions: 3\n",
       "3. A nsubseteq B\n",
       "   core type: Operation\n",
       "   operator: 4\n",
       "   operands: 5\n",
       "4. nsubseteq\n",
       "   core type: Literal\n",
       "   sub-expressions: \n",
       "5. (A , B)\n",
       "   core type: ExprTuple\n",
       "   sub-expressions: 6, 7\n",
       "6. A\n",
       "   core type: Variable\n",
       "   sub-expressions: \n",
       "7. B\n",
       "   core type: Variable\n",
       "   sub-expressions: "
      ]
     },
     "execution_count": 4,
     "metadata": {},
     "output_type": "execute_result"
    }
   ],
   "source": [
    "# display the expression information\n",
    "expr.exprInfo()"
   ]
  },
  {
   "cell_type": "code",
   "execution_count": null,
   "metadata": {},
   "outputs": [],
   "source": []
  }
 ],
 "metadata": {
  "kernelspec": {
   "display_name": "Python 3",
   "language": "python",
   "name": "python3"
  }
 },
 "nbformat": 4,
 "nbformat_minor": 0
}
