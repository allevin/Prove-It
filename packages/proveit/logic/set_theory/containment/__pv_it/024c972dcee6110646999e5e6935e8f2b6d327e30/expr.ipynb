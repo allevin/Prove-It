{
 "cells": [
  {
   "cell_type": "markdown",
   "metadata": {},
   "source": [
    "Expression of type <a class=\"ProveItLink\" href=\"../../../../../../../doc/html/api/proveit.Lambda.html\">Lambda</a>\n",
    "=======================\n",
    "# from context <a class=\"ProveItLink\" href=\"../../_context_.ipynb\">proveit.logic.set_theory.containment</a>"
   ]
  },
  {
   "cell_type": "code",
   "execution_count": 1,
   "metadata": {},
   "outputs": [],
   "source": [
    "# import Expression classes needed to build the expression\n",
    "from proveit import Lambda\n",
    "from proveit._common_ import A, B, C\n",
    "from proveit.logic import Superset, SupersetEq"
   ]
  },
  {
   "cell_type": "code",
   "execution_count": 2,
   "metadata": {},
   "outputs": [
    {
     "data": {
      "text/html": [
       "<strong id=\"expr\">expr:</strong> <a class=\"ProveItLink\" href=\"expr.ipynb\"><img src=\"data:image/png;base64,iVBORw0KGgoAAAANSUhEUgAAAM4AAAAVCAMAAAA5OCEaAAAANlBMVEX///8UFBQNDQ3MzMyqqqoi\n",
       "IiIyMjK6uroQEBB2dnbc3NyYmJhmZmZUVFRERESIiIju7u4AAAAKhZlwAAAAAXRSTlMAQObYZgAA\n",
       "AjFJREFUWMPNV9m22yAMdMu+o///2breEFiAc5PThhfHS2Y02hDL8h2L2//HrdJ7/3fq9sioD9qX\n",
       "Uwzeu8X6J1+zUN2J1zk8m8hxASCsK0r1uvlGu83pfr/OlszVHTxSU3PIaXR03C4erhdW7EumPILO\n",
       "UhzvDTzJ4FSlmhOQH/iv4XBmIodBOq7hhuUEG0BLfdqj9BM/a2y+5R77QF0ebALacGQ9kZMOVAfm\n",
       "boEVtgvtgV+fPSkdVSVKWokVlc2VB+8ckY/lxEOv0FTsVehBWyjm5cuEOrc55vbYXSovHMiCwx4k\n",
       "OIwfy9lzzMpIZ7LsQXvSmqZbBQQq0fdZlSwfevDGweVQzloyKSUveq0psA60IMu/kZND+UgjYrX5\n",
       "p5OiYsTRlmkj5yidLMJETgsNqM+WGPz+JaqlS4GgUmF/t4YAcUJJcTAYyjlLJ9GZXFzVQutyz1kv\n",
       "OksobEjO/kvLmRyCYyLnbM9kY1tRfA86lG3Dd5PNo4jqqy/ws/nMko3gGCcbO4MSgFNlKXIPulSy\n",
       "yT05DBd7dNeWMxwLigcpDjdsBeeug/tWQfNoLLlBu90BCkdgqZtV1SzPFptPpkiOBciDFMe4UR+l\n",
       "wzSep44hR4YqYDdoFuQ6wPHH4/QWORs1yG1ciQDSDz1IcbSjJZbj4z5/SvlkhHzR/PuQY0daDw9O\n",
       "BuHpkPPvljPvY5j0NXKaA8KPzlfzAwI1NpUVPyjHhncRgl2+JzqLffNwndj90Wfk/AEcwBkrQ//z\n",
       "AgAAAABJRU5ErkJggg==\n",
       "\" style=\"display:inline;vertical-align:middle;\" /></a><br>"
      ],
      "text/plain": [
       "expr: C -> (A supset C) | B supseteq C"
      ]
     },
     "execution_count": 2,
     "metadata": {},
     "output_type": "execute_result"
    }
   ],
   "source": [
    "# build up the expression from sub-expressions\n",
    "expr = Lambda(C, Superset(A, C), conditions = [SupersetEq(B, C)])"
   ]
  },
  {
   "cell_type": "code",
   "execution_count": 3,
   "metadata": {},
   "outputs": [
    {
     "name": "stdout",
     "output_type": "stream",
     "text": [
      "Passed sanity check: built 'expr' is the same as the stored Expression.\n"
     ]
    }
   ],
   "source": [
    "# check that the built expression is the same as the stored expression\n",
    "%check_expr"
   ]
  },
  {
   "cell_type": "code",
   "execution_count": 4,
   "metadata": {},
   "outputs": [
    {
     "data": {
      "text/html": [
       "<table><tr><th>&nbsp;</th><th>core type</th><th>sub-expressions</th><th>expression</th></tr>\n",
       "<tr><td>0</td><td>Lambda</td><td>parameter:&nbsp;10<br>body:&nbsp;1<br>conditions:&nbsp;2<br></td><td><a class=\"ProveItLink\" href=\"expr.ipynb\"><img src=\"data:image/png;base64,iVBORw0KGgoAAAANSUhEUgAAAM4AAAAVCAMAAAA5OCEaAAAANlBMVEX///8UFBQNDQ3MzMyqqqoi\n",
       "IiIyMjK6uroQEBB2dnbc3NyYmJhmZmZUVFRERESIiIju7u4AAAAKhZlwAAAAAXRSTlMAQObYZgAA\n",
       "AjFJREFUWMPNV9m22yAMdMu+o///2breEFiAc5PThhfHS2Y02hDL8h2L2//HrdJ7/3fq9sioD9qX\n",
       "Uwzeu8X6J1+zUN2J1zk8m8hxASCsK0r1uvlGu83pfr/OlszVHTxSU3PIaXR03C4erhdW7EumPILO\n",
       "UhzvDTzJ4FSlmhOQH/iv4XBmIodBOq7hhuUEG0BLfdqj9BM/a2y+5R77QF0ebALacGQ9kZMOVAfm\n",
       "boEVtgvtgV+fPSkdVSVKWokVlc2VB+8ckY/lxEOv0FTsVehBWyjm5cuEOrc55vbYXSovHMiCwx4k\n",
       "OIwfy9lzzMpIZ7LsQXvSmqZbBQQq0fdZlSwfevDGweVQzloyKSUveq0psA60IMu/kZND+UgjYrX5\n",
       "p5OiYsTRlmkj5yidLMJETgsNqM+WGPz+JaqlS4GgUmF/t4YAcUJJcTAYyjlLJ9GZXFzVQutyz1kv\n",
       "OksobEjO/kvLmRyCYyLnbM9kY1tRfA86lG3Dd5PNo4jqqy/ws/nMko3gGCcbO4MSgFNlKXIPulSy\n",
       "yT05DBd7dNeWMxwLigcpDjdsBeeug/tWQfNoLLlBu90BCkdgqZtV1SzPFptPpkiOBciDFMe4UR+l\n",
       "wzSep44hR4YqYDdoFuQ6wPHH4/QWORs1yG1ciQDSDz1IcbSjJZbj4z5/SvlkhHzR/PuQY0daDw9O\n",
       "BuHpkPPvljPvY5j0NXKaA8KPzlfzAwI1NpUVPyjHhncRgl2+JzqLffNwndj90Wfk/AEcwBkrQ//z\n",
       "AgAAAABJRU5ErkJggg==\n",
       "\" style=\"display:inline;vertical-align:middle;\" /></a></td></tr>\n",
       "<tr><td>1</td><td>Operation</td><td>operator:&nbsp;3<br>operands:&nbsp;4<br></td><td><a class=\"ProveItLink\" href=\"../bd401c272d0d18bf3d3bedec4b26b8a022bd40a60/expr.ipynb\"><img src=\"data:image/png;base64,iVBORw0KGgoAAAANSUhEUgAAADsAAAAPBAMAAACo4Ko7AAAAMFBMVEX///92dnYQEBBERERUVFS6\n",
       "urqIiIhmZmaqqqrc3Nzu7u6YmJgyMjIiIiLMzMwAAACFkkdwAAAAAXRSTlMAQObYZgAAAN1JREFU\n",
       "GNNjYACBtwwYgCvZvZqzAMI+jykttIGBtWgDmMl9fwG67JpbQEJ+Apg9ox5Mx969e/cYVPoQSEMQ\n",
       "hJ2QHwDTtewemGL/ASKng9msC/o3wE2dCzZo/gEQuQ4sspThfQJcmtUBRNYj1DMEMMwvQPAugIj7\n",
       "E+B8PhcXfwOEtB+I+A9mgv3DysDAdABNWh9EcDwAkQ0MDLwKaIb7gzSyg1icQGmeD3BZDrAzwG6V\n",
       "AocPEDP/gkvHgi3kBvo7HOS8yfonGbjt/8Cc/vwUhH5ypLwBLZyBgXrHFVUIAPT9Ot9TQHbPAAAA\n",
       "AElFTkSuQmCC\n",
       "\" style=\"display:inline;vertical-align:middle;\" /></a></td></tr>\n",
       "<tr><td>2</td><td>ExprTuple</td><td>5</td><td><a class=\"ProveItLink\" href=\"../0a09f5c5deaed205be3a97e326d14138b3a60b3a0/expr.ipynb\"><img src=\"data:image/png;base64,iVBORw0KGgoAAAANSUhEUgAAAEkAAAAVBAMAAAD4Ed5jAAAAMFBMVEX////c3NwiIiJERESqqqqY\n",
       "mJh2dnZmZmYQEBDu7u4yMjJUVFTMzMyIiIi6uroAAAAs73DqAAAAAXRSTlMAQObYZgAAAWJJREFU\n",
       "KM9jYCAO8F0goCAORJwG4uj/u3dbPcCQ57y8vZSxgP0AkLkSxG9mYGD/B2IIKSkprZ0AVZURwMBX\n",
       "EcCwgIGBF2Qhz18g/g0zYqoOhJ6lCSTyBRjCGBg4QBp5PzIwsH6D2yQkAKZWgKReMDDMYGB4BeIz\n",
       "NzAwMHUiPLQBRLJ/AZHiQFkHhjIQk38DA+PiCQhnLwAR8mByDgMDWwHDUhDz/N67RQFIntsDIuph\n",
       "IiwLGPpA9H0BBk5tdFX6AjAHNDCA/W8BUolkmAKI+A9mAt3B8wGiChQI8QlwRSwFILIfzDwAVtUC\n",
       "Cq6vQGK/A1zVI7BH9oNIdoiNptDgYvwFV3QcHB0M50HhnQnErAsY0qHBdQIiBYwhrS0QxazA8HoO\n",
       "8gEwJB4BTbX/vXvXUszEcHp1OdgVXA8YOAQIpi1gDLEmEFSVC0s5iIhWAgEDlFQGiilpQkZxg9zE\n",
       "SChF32FgAACggVWx3sIOPAAAAABJRU5ErkJggg==\n",
       "\" style=\"display:inline;vertical-align:middle;\" /></a></td></tr>\n",
       "<tr><td>3</td><td>Literal</td><td></td><td><a class=\"ProveItLink\" href=\"../40f138ebd64e8eadfde7d93b284d70a37652c25c0/expr.ipynb\"><img src=\"data:image/png;base64,iVBORw0KGgoAAAANSUhEUgAAAA4AAAAMBAMAAACgrpHpAAAAJFBMVEX///9mZmaqqqpUVFTc3NzM\n",
       "zMzu7u6IiIgyMjIiIiK6uroAAABMu5rKAAAAAXRSTlMAQObYZgAAADVJREFUCNdjWDlz5sx2BghI\n",
       "nwpleDpAaC4DqMAEKG2KRkPFmQQg9MoEMBXYBmTOnDnDioEBAA1tCuR6TpI/AAAAAElFTkSuQmCC\n",
       "\" style=\"display:inline;vertical-align:middle;\" /></a></td></tr>\n",
       "<tr><td>4</td><td>ExprTuple</td><td>6, 10</td><td><a class=\"ProveItLink\" href=\"../64d36ff9aa3116e2d1fb41c420506ad5fe919f950/expr.ipynb\"><img src=\"data:image/png;base64,iVBORw0KGgoAAAANSUhEUgAAADUAAAAVBAMAAAAUZLt1AAAAMFBMVEX////c3NwiIiJERESqqqqY\n",
       "mJh2dnZmZmYQEBDu7u4yMjJUVFTMzMyIiIi6uroAAAAs73DqAAAAAXRSTlMAQObYZgAAAS1JREFU\n",
       "KM9jYMAH+C5gFY4DEach7ENwUc7L20sZC9gPAJkrISLr4XIZAQx8FQEMCxgYeCFGsupPgErN0gQS\n",
       "+QIMYQwMHBAxkXoBqNwKkMALBoYZDAyvICIX7j+AMNi/gEhxBgZmB4YyiGMn+AdA5OQXgMg5DAxs\n",
       "BQxLwSLzGM5DvVIPVcPAsoChD8x4wCBfABHSh9nL18DwD0Tz7N693wAi9B9MAt3D8wEixwd07wKI\n",
       "XD/YvANguRYQ24GBgakBIrcf5AV2iJmmQIoRKMf1AWwSxE2ZoNBYwJAOCgogZv7JwPkJJAT033OQ\n",
       "e4B+eMTAINy/kIHV/lcBZz9I7PTqcgeQ4VwPGDgEkKILiQ0KM9YEBJcVOQJzEXGELscJ8pM0go+c\n",
       "ArhB5jNiTxN3GBgAYvhEoGDobKYAAAAASUVORK5CYII=\n",
       "\" style=\"display:inline;vertical-align:middle;\" /></a></td></tr>\n",
       "<tr><td>5</td><td>Operation</td><td>operator:&nbsp;7<br>operands:&nbsp;8<br></td><td><a class=\"ProveItLink\" href=\"../9fa0986d44a40be7a36fcaa39c88406188341b020/expr.ipynb\"><img src=\"data:image/png;base64,iVBORw0KGgoAAAANSUhEUgAAAD0AAAARBAMAAACcIrmXAAAAMFBMVEX///+qqqru7u4iIiJ2dnbc\n",
       "3NyIiIjMzMxmZmYQEBC6uroyMjJERERUVFSYmJgAAADLUcuvAAAAAXRSTlMAQObYZgAAAPZJREFU\n",
       "KM9jYGB4+//u3dMLGNABU86NPtYGEGsOAwPHLxAj2NjYeJsCVN7zAQNX5wMgg/0bEP+FadMzh9Da\n",
       "RkDCPwBIsH1lYOD7Ajc3OABM7QSZsxLE4pnAwMA8CS7PdQFEcnwEkREggv8CA+seBYTDNoCIeDCp\n",
       "DiLqr6U1P0By+HUQ0Y8QyQ9gYLJFl7cPgPNPgtQgGWAAIv6DmWBbQV577wCXZgSHyXwwswDk/X9A\n",
       "4r4AXH4xWNN9EMnBAPU+62+4dMUmMFWfACScYN6vhAgCw9f6IkQZH9D/K0Bu5Dj/9+7tfRixw1C7\n",
       "t0OAgcoAFL/GxgeQhQDdukCOD7RCOgAAAABJRU5ErkJggg==\n",
       "\" style=\"display:inline;vertical-align:middle;\" /></a></td></tr>\n",
       "<tr><td>6</td><td>Variable</td><td></td><td><a class=\"ProveItLink\" href=\"../../../../../__pv_it/2cbe72a7ad6f655694dd697106680215e8489b600/expr.ipynb\"><img src=\"data:image/png;base64,iVBORw0KGgoAAAANSUhEUgAAAA8AAAAOBAMAAAACpFvcAAAALVBMVEX///8QEBBERERUVFS6urqI\n",
       "iIhmZmaqqqrc3Nzu7u6YmJgyMjIiIiLMzMwAAADtIaYWAAAAAXRSTlMAQObYZgAAAFtJREFUCNdj\n",
       "YACBOwxQsA9Kc52bAGG05zVAGAFxDmCaZULdAjBjCsO9ADDDgaEvAUTzGhvbKYCVMDAwbgAxChgY\n",
       "eASANAeQwf0AyJgNxEwvGRia5HYwcOm9TgAA6BoR3jrzwFcAAAAASUVORK5CYII=\n",
       "\" style=\"display:inline;vertical-align:middle;\" /></a></td></tr>\n",
       "<tr><td>7</td><td>Literal</td><td></td><td><a class=\"ProveItLink\" href=\"../bc0f4f75fcd25c7f3c501d50b7b90e3eb0564d7a0/expr.ipynb\"><img src=\"data:image/png;base64,iVBORw0KGgoAAAANSUhEUgAAAA4AAAAQBAMAAADUulMJAAAAKlBMVEX///9ERERmZmaqqqpUVFS6\n",
       "urrMzMyYmJju7u6IiIgyMjIiIiLc3NwAAAAAfF0EAAAAAXRSTlMAQObYZgAAAD5JREFUCNdjOL17\n",
       "9+6VDQxg0L4NQjOcPgChWR2gAgugtBsavQFCMStA6GiIQUkrgEbs3r3LmQE3ANm7e7cAAMoAEtfi\n",
       "lGxPAAAAAElFTkSuQmCC\n",
       "\" style=\"display:inline;vertical-align:middle;\" /></a></td></tr>\n",
       "<tr><td>8</td><td>ExprTuple</td><td>9, 10</td><td><a class=\"ProveItLink\" href=\"../dad23c4ce051fb8a92f116e8b4d54eeb5e4476f70/expr.ipynb\"><img src=\"data:image/png;base64,iVBORw0KGgoAAAANSUhEUgAAADcAAAAVBAMAAAAQkWtIAAAAMFBMVEX////c3NwiIiJERESqqqqY\n",
       "mJh2dnZmZmYQEBDu7u4yMjJUVFTMzMyIiIi6uroAAAAs73DqAAAAAXRSTlMAQObYZgAAAUFJREFU\n",
       "KM9jYMAL+C5gF48DEaeBmHX/792b18GEOS9vL2UsYD8AZK4E8TkMGBjqH0AlMwIY+CoCGBYwMPCC\n",
       "TT0PJM9vgMjN0gQS+QIMYUA9E0AC9wUYGOITIJIrQCIvGBhmMDC8AgtYALEGWBkD+xcQKc7AwOzA\n",
       "UAYW+c3AIGUJ0Si/AETOYWBgK2BYCmLy/L57XRXqnPoAKINlAUMfiOb9yMAwCeoefQFYADQw/APR\n",
       "zA1ABV8hYv/BJNB+ng8QSX6gLtZvEMl+sJEHwJItYG8C7eH+ApHcD3I0O8RYU5g3ga7khIUHQyYo\n",
       "TBcwpEO9ydM1gWG+AkgMaMJzkKOAXnkEpIr/7969CmjyjI/gmFhd7gCiuR4wcAggRdND5DgDBh9r\n",
       "AhI/AFkyFxZlWCQ5QcEojeDzImvkBtnHiCOZ3GFgAADrEU9ADAe1sgAAAABJRU5ErkJggg==\n",
       "\" style=\"display:inline;vertical-align:middle;\" /></a></td></tr>\n",
       "<tr><td>9</td><td>Variable</td><td></td><td><a class=\"ProveItLink\" href=\"../../../../../__pv_it/077b2ff79244fb4582cbe22c6e3356fa92a52f2f0/expr.ipynb\"><img src=\"data:image/png;base64,iVBORw0KGgoAAAANSUhEUgAAABAAAAAOBAMAAADUAYG5AAAAMFBMVEX///+qqqru7u4iIiJ2dnbc\n",
       "3NyIiIjMzMxmZmYQEBC6uroyMjJERERUVFSYmJgAAADLUcuvAAAAAXRSTlMAQObYZgAAAGpJREFU\n",
       "CNdjYGB4+//u3dMLGIBgDgMDxy8gzf4NiP8CGWxfGRj4vgAZPBMYGJgnARn8FxhY9ygAGfXX0pof\n",
       "gDTlBzAw2YIYJ0EckBBI53sHoBH/gIz7AhBjWH9DjancBLTl/N+7t/cxMAAA3u4f/5xagjYAAAAA\n",
       "SUVORK5CYII=\n",
       "\" style=\"display:inline;vertical-align:middle;\" /></a></td></tr>\n",
       "<tr><td>10</td><td>Variable</td><td></td><td><a class=\"ProveItLink\" href=\"../../../../../__pv_it/985a1bdf1540838275dec15f4ad6de261cca93ce0/expr.ipynb\"><img src=\"data:image/png;base64,iVBORw0KGgoAAAANSUhEUgAAAA8AAAAOBAMAAAACpFvcAAAAMFBMVEX////MzMyqqqoiIiIyMjK6\n",
       "uroQEBB2dnbc3NyYmJhmZmZUVFRERESIiIju7u4AAAB204erAAAAAXRSTlMAQObYZgAAAGZJREFU\n",
       "CNdjYGDgu7NrJccCBgaGsgkMrMsmMDA8sQNy6hsYGNweABlhDAxcn4A0QxcDQ78DiPGQgWH9BAYI\n",
       "sG+AMv6DSaCGfBDNJMDAsB+kmwuI5S8AiTog5gSaEwXWIO29SgFIAQBC+RaDQlidVgAAAABJRU5E\n",
       "rkJggg==\n",
       "\" style=\"display:inline;vertical-align:middle;\" /></a></td></tr>\n",
       "</table>\n"
      ],
      "text/plain": [
       "0. C -> (A supset C) | B supseteq C\n",
       "   core type: Lambda\n",
       "   parameter: 10\n",
       "   body: 1\n",
       "   conditions: 2\\n1. A supset C\n",
       "   core type: Operation\n",
       "   operator: 3\n",
       "   operands: 4\n",
       "2. (B supseteq C)\n",
       "   core type: ExprTuple\n",
       "   sub-expressions: 5\n",
       "3. supset\n",
       "   core type: Literal\n",
       "   sub-expressions: \n",
       "4. (A , C)\n",
       "   core type: ExprTuple\n",
       "   sub-expressions: 6, 10\n",
       "5. B supseteq C\n",
       "   core type: Operation\n",
       "   operator: 7\n",
       "   operands: 8\n",
       "6. A\n",
       "   core type: Variable\n",
       "   sub-expressions: \n",
       "7. supseteq\n",
       "   core type: Literal\n",
       "   sub-expressions: \n",
       "8. (B , C)\n",
       "   core type: ExprTuple\n",
       "   sub-expressions: 9, 10\n",
       "9. B\n",
       "   core type: Variable\n",
       "   sub-expressions: \n",
       "10. C\n",
       "    core type: Variable\n",
       "    sub-expressions: "
      ]
     },
     "execution_count": 4,
     "metadata": {},
     "output_type": "execute_result"
    }
   ],
   "source": [
    "# display the expression information\n",
    "expr.exprInfo()"
   ]
  },
  {
   "cell_type": "code",
   "execution_count": null,
   "metadata": {},
   "outputs": [],
   "source": []
  }
 ],
 "metadata": {
  "kernelspec": {
   "display_name": "Python 3",
   "language": "python",
   "name": "python3"
  }
 },
 "nbformat": 4,
 "nbformat_minor": 0
}
