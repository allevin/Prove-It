{
 "cells": [
  {
   "cell_type": "markdown",
   "metadata": {},
   "source": [
    "Expression of type <a class=\"ProveItLink\" href=\"../../../../../../../doc/html/api/proveit.Lambda.html\">Lambda</a>\n",
    "=======================\n",
    "# from context <a class=\"ProveItLink\" href=\"../../_context_.ipynb\">proveit.logic.set_theory.containment</a>"
   ]
  },
  {
   "cell_type": "code",
   "execution_count": 1,
   "metadata": {},
   "outputs": [],
   "source": [
    "# import Expression classes needed to build the expression\n",
    "from proveit import Lambda\n",
    "from proveit._common_ import A, B\n",
    "from proveit.logic import SubsetEq, SupersetEq"
   ]
  },
  {
   "cell_type": "code",
   "execution_count": 2,
   "metadata": {},
   "outputs": [
    {
     "data": {
      "text/html": [
       "<strong id=\"expr\">expr:</strong> <a class=\"ProveItLink\" href=\"expr.ipynb\"><img src=\"data:image/png;base64,iVBORw0KGgoAAAANSUhEUgAAAM8AAAAVCAMAAADW+kokAAAANlBMVEX///8UFBQNDQ2qqqru7u4i\n",
       "IiJ2dnbc3NyIiIjMzMxmZmYQEBC6uroyMjJERERUVFSYmJgAAAC3B9V0AAAAAXRSTlMAQObYZgAA\n",
       "AipJREFUWMPNV9ly4yAQJAEEAg3H///syuE+hSPVxvMil2sadc/FCKFPMcz+8OUHv4c3R/PXdjzG\n",
       "zmhr9WkKFs/c9S+BaKfuKfYlPcH9XfpSubfYNV5AhkBGnQEnXaQNP5b0RHdvHPzxpXPNYrfcP/WK\n",
       "HB6rbQwkhu6dUFLrZZptQU9y99nqB6lhwa1rRmO3FT0ynjoDMtp0OMPCAxCR13oy98GBAxbKH04l\n",
       "WRkGqVamwKNJNj9fHWgrfKkndz9Nj5qhYeHyxEBFVmV54+LdIuWiBRbVXwskCFsT+IsrPYX7mVEY\n",
       "BbhmcdYd51zQhEXVXNE5XzCpcBtggSo7iByp1M8YwYWe0j0N1U77VCx8/RGqR3qIzkpXHhPgRM8L\n",
       "xmxIyyEv9JTuEz0Ni1B/PGX3+4sWJrNCTj87wNxodWm9zKoY1bmeyr2NMRqyCGMum1I1Nu/FpKcD\n",
       "zLtONPE+kwuLeir3V9/iWfskFnvQpS0e6BH5pJQ4UmqBGSFaDAkcZtBavdXuPwV19NunYhHGN7Mw\n",
       "KpViXVOmmvs5MEIEkPIuqW58M50HjbubcGIf3z6Rha+/XWYMyn2znMZx0vaAft8BXWYsDlsVbvzp\n",
       "vG7dw5UGzb5TsRDKbXMAZnW5dsl7A8iUtPCKojkx4ITUK2ymp+c+svfpd/adBz5VVvad/2Vmu3/G\n",
       "xj9HD4LxmseyS0tN0rP2vVCWVnb0s+KZvnuCZuiD8oPYze9t3s5d/oief0qrHE9uM+jjAAAAAElF\n",
       "TkSuQmCC\n",
       "\" style=\"display:inline;vertical-align:middle;\" /></a><br>"
      ],
      "text/plain": [
       "expr: B -> (B supseteq A) | A subseteq B"
      ]
     },
     "execution_count": 2,
     "metadata": {},
     "output_type": "execute_result"
    }
   ],
   "source": [
    "# build up the expression from sub-expressions\n",
    "expr = Lambda(B, SupersetEq(B, A), conditions = [SubsetEq(A, B)])"
   ]
  },
  {
   "cell_type": "code",
   "execution_count": 3,
   "metadata": {},
   "outputs": [
    {
     "name": "stdout",
     "output_type": "stream",
     "text": [
      "Passed sanity check: built 'expr' is the same as the stored Expression.\n"
     ]
    }
   ],
   "source": [
    "# check that the built expression is the same as the stored expression\n",
    "%check_expr"
   ]
  },
  {
   "cell_type": "code",
   "execution_count": 4,
   "metadata": {},
   "outputs": [
    {
     "data": {
      "text/html": [
       "<table><tr><th>&nbsp;</th><th>core type</th><th>sub-expressions</th><th>expression</th></tr>\n",
       "<tr><td>0</td><td>Lambda</td><td>parameter:&nbsp;9<br>body:&nbsp;1<br>conditions:&nbsp;2<br></td><td><a class=\"ProveItLink\" href=\"expr.ipynb\"><img src=\"data:image/png;base64,iVBORw0KGgoAAAANSUhEUgAAAM8AAAAVCAMAAADW+kokAAAANlBMVEX///8UFBQNDQ2qqqru7u4i\n",
       "IiJ2dnbc3NyIiIjMzMxmZmYQEBC6uroyMjJERERUVFSYmJgAAAC3B9V0AAAAAXRSTlMAQObYZgAA\n",
       "AipJREFUWMPNV9ly4yAQJAEEAg3H///syuE+hSPVxvMil2sadc/FCKFPMcz+8OUHv4c3R/PXdjzG\n",
       "zmhr9WkKFs/c9S+BaKfuKfYlPcH9XfpSubfYNV5AhkBGnQEnXaQNP5b0RHdvHPzxpXPNYrfcP/WK\n",
       "HB6rbQwkhu6dUFLrZZptQU9y99nqB6lhwa1rRmO3FT0ynjoDMtp0OMPCAxCR13oy98GBAxbKH04l\n",
       "WRkGqVamwKNJNj9fHWgrfKkndz9Nj5qhYeHyxEBFVmV54+LdIuWiBRbVXwskCFsT+IsrPYX7mVEY\n",
       "BbhmcdYd51zQhEXVXNE5XzCpcBtggSo7iByp1M8YwYWe0j0N1U77VCx8/RGqR3qIzkpXHhPgRM8L\n",
       "xmxIyyEv9JTuEz0Ni1B/PGX3+4sWJrNCTj87wNxodWm9zKoY1bmeyr2NMRqyCGMum1I1Nu/FpKcD\n",
       "zLtONPE+kwuLeir3V9/iWfskFnvQpS0e6BH5pJQ4UmqBGSFaDAkcZtBavdXuPwV19NunYhHGN7Mw\n",
       "KpViXVOmmvs5MEIEkPIuqW58M50HjbubcGIf3z6Rha+/XWYMyn2znMZx0vaAft8BXWYsDlsVbvzp\n",
       "vG7dw5UGzb5TsRDKbXMAZnW5dsl7A8iUtPCKojkx4ITUK2ymp+c+svfpd/adBz5VVvad/2Vmu3/G\n",
       "xj9HD4LxmseyS0tN0rP2vVCWVnb0s+KZvnuCZuiD8oPYze9t3s5d/oief0qrHE9uM+jjAAAAAElF\n",
       "TkSuQmCC\n",
       "\" style=\"display:inline;vertical-align:middle;\" /></a></td></tr>\n",
       "<tr><td>1</td><td>Operation</td><td>operator:&nbsp;3<br>operands:&nbsp;4<br></td><td><a class=\"ProveItLink\" href=\"../435ff703bb5adb5252c949c6bdcd6eaa9df308800/expr.ipynb\"><img src=\"data:image/png;base64,iVBORw0KGgoAAAANSUhEUgAAADsAAAARBAMAAACRPMnQAAAAMFBMVEX///+qqqru7u4iIiJ2dnbc\n",
       "3NyIiIjMzMxmZmYQEBC6uroyMjJERERUVFSYmJgAAADLUcuvAAAAAXRSTlMAQObYZgAAAO1JREFU\n",
       "KM9jYGB4+//u3dMLGDBBMYSaw8DA8QtIsxobG1snIaT3g0n2b0D8FyrE9LgAJstnrwCi2L4CmV9g\n",
       "gqymMFZgfwCI4pnAwMA8CW7kWhgjIR/sIP4LDKx7FODS3FCaS0H+AYiuv5bW/ADhIF6o5VoM9Qkg\n",
       "Oj+AgckWU3oBQ3wDiD4JUoLQzgyh2O/evX8AxAD56b0DXFoCajUDA+cGkLJ/QOK+AEyWywhCAwWY\n",
       "J0C9zfobJsveDfEDK1Ca+wPU25WbGKCBuhdqjDZI5hMwtM//vXt7H3psxMzfysB3/ncDA9UAyG5j\n",
       "YxtkIQDNyzslyjO8yQAAAABJRU5ErkJggg==\n",
       "\" style=\"display:inline;vertical-align:middle;\" /></a></td></tr>\n",
       "<tr><td>2</td><td>ExprTuple</td><td>5</td><td><a class=\"ProveItLink\" href=\"../803a39ff7439fc3be10554d6684c9c292eb5b0cd0/expr.ipynb\"><img src=\"data:image/png;base64,iVBORw0KGgoAAAANSUhEUgAAAEgAAAAVBAMAAAAX07VdAAAAMFBMVEX////c3NwiIiJERESqqqqY\n",
       "mJh2dnZmZmYQEBDu7u4yMjJUVFTMzMyIiIi6uroAAAAs73DqAAAAAXRSTlMAQObYZgAAAVVJREFU\n",
       "KM9jYCAK8F3AL8/6AEichrAPYcru/7178zoGhhogeyVEaD1U6paSkpIehMlhwMBQ/4CBi4GBF2Ib\n",
       "q/4EiIE3EUadB0qd38DAmsDAAZEUqRcAUYyKSPbdBwrFJzBwNjC8gghcuA9yHwP3AyRFFkCsATTD\n",
       "hKEM4sUJ/gEgehayy38zMEhZAul0hqVg/jywA+BeBQOe33evq4IYXgx9YIEHDPIF6Ip4PzIwTNoA\n",
       "ZLxg+AfWtHv3fgMQgwlJEXMDUOFXkC8hiviAgbIAxGB3QCjiB5rC+g2sqAXEB0oxNYAYnHpIwQT0\n",
       "CvcXsHWmoNABKuL6AJaZVYMSTPIg86OA/oN4nPknROr1Ili0AIOJp2sCOAgeMTAI9y9kYLX/VYAa\n",
       "v8X/d+9eBQ68dQwcAoTSEjBagNFHALBdgCcVCGBXUkIkFSgAuViakEkbQf4nkHx5DzAAAMyCVJnU\n",
       "JQT+AAAAAElFTkSuQmCC\n",
       "\" style=\"display:inline;vertical-align:middle;\" /></a></td></tr>\n",
       "<tr><td>3</td><td>Literal</td><td></td><td><a class=\"ProveItLink\" href=\"../bc0f4f75fcd25c7f3c501d50b7b90e3eb0564d7a0/expr.ipynb\"><img src=\"data:image/png;base64,iVBORw0KGgoAAAANSUhEUgAAAA4AAAAQBAMAAADUulMJAAAAKlBMVEX///9ERERmZmaqqqpUVFS6\n",
       "urrMzMyYmJju7u6IiIgyMjIiIiLc3NwAAAAAfF0EAAAAAXRSTlMAQObYZgAAAD5JREFUCNdjOL17\n",
       "9+6VDQxg0L4NQjOcPgChWR2gAgugtBsavQFCMStA6GiIQUkrgEbs3r3LmQE3ANm7e7cAAMoAEtfi\n",
       "lGxPAAAAAElFTkSuQmCC\n",
       "\" style=\"display:inline;vertical-align:middle;\" /></a></td></tr>\n",
       "<tr><td>4</td><td>ExprTuple</td><td>9, 8</td><td><a class=\"ProveItLink\" href=\"../1d9a4008d5668a743cd8f9a815871ca1c5e3cf130/expr.ipynb\"><img src=\"data:image/png;base64,iVBORw0KGgoAAAANSUhEUgAAADYAAAAVBAMAAAD/UwB2AAAAMFBMVEX////c3NwiIiJERESqqqqY\n",
       "mJh2dnZmZmYQEBDu7u4yMjJUVFTMzMyIiIi6uroAAAAs73DqAAAAAXRSTlMAQObYZgAAAS5JREFU\n",
       "KM9jYMAH+C5gFWZ9ACROA3H0/927rR4gJA4BcQ0QrwRxmhkY2P8h5NYDMRcDAy/ISJ6/QPwbYZ7+\n",
       "BCCRwMABpBh4PwLZ3+ByIvUCDAycDQyvQBzmBgYGpk643IX7ILtNGMpAHP4NDIyLJ8BdPsE/AEil\n",
       "MywF8c7vvVsUANc2j+E8yBFeDH0g3n0BBk5tuNwDBvkCIPWCAexyC5A8TCPP7t37DUCGQeRAzo9P\n",
       "gFnHwMCxACzXAlL5FUjsd4DKAWmmBrCZplDvMf4CegkkxQiU4/oAZEQBXQrx3glg2M1XAHJmgQR+\n",
       "gv3wCBiS9r937wL5ZQZQv3D/QgZW+19Ah65j4BBAipiHSGxgmLEmIPEDkNhsF6BxhEUOZK80gsuL\n",
       "HPEbQW7GniZ4DzAAAJGlTQr2mfDRAAAAAElFTkSuQmCC\n",
       "\" style=\"display:inline;vertical-align:middle;\" /></a></td></tr>\n",
       "<tr><td>5</td><td>Operation</td><td>operator:&nbsp;6<br>operands:&nbsp;7<br></td><td><a class=\"ProveItLink\" href=\"../586c891807183c577ae8a72ee7e3b9f21144c4d50/expr.ipynb\"><img src=\"data:image/png;base64,iVBORw0KGgoAAAANSUhEUgAAADsAAAARBAMAAACRPMnQAAAAMFBMVEX///92dnYQEBBERERUVFS6\n",
       "urqIiIhmZmaqqqrc3Nzu7u6YmJgyMjIiIiLMzMwAAACFkkdwAAAAAXRSTlMAQObYZgAAAO1JREFU\n",
       "KM9jYACBtwzogNv/i4vzUSjnPJTOuXv37lUIk8mAgaE+AKL0/gKIIVkI7e8TgNgBzJxRPwFEcd5E\n",
       "Mj0fKLRfAMxMyAebwhKAJG0ExJfAhrIu6N8Aotcgu+0LA8McKzBrKdgiBoYnSLJ8X9LSb0OYAQzz\n",
       "C9Cl2X4yMKwFu4zPxcXfAMTgRZJmVgAq+Q22GujJAyAGewNCmh+ok/sjiAUU5FUAMbiuInkb6FiW\n",
       "HyDfAqV5PoDF1tSheHv+Aah3mH9BBEPOwgIV6G0+HaC3J+ufZOC2/1OAGiPF/11czmxgoCJgv3sX\n",
       "EaEQAABXikRkFnmHwgAAAABJRU5ErkJggg==\n",
       "\" style=\"display:inline;vertical-align:middle;\" /></a></td></tr>\n",
       "<tr><td>6</td><td>Literal</td><td></td><td><a class=\"ProveItLink\" href=\"../e2e953faef156628f98c5cddef8a5f8ea43a24550/expr.ipynb\"><img src=\"data:image/png;base64,iVBORw0KGgoAAAANSUhEUgAAAA4AAAAQBAMAAADUulMJAAAAJFBMVEX///+qqqpmZmZUVFTc3Nzu\n",
       "7u7MzMy6uroiIiIyMjKIiIgAAABMlAC/AAAAAXRSTlMAQObYZgAAAD1JREFUCNdjYGBY2dHR0c7A\n",
       "kLGUAQRYWsAUA3MBhI6EUAzJaDQHlGYSgNCs7VCBSDUoo3gG2FwcgKkDBNoBPfYM6Npt1O0AAAAA\n",
       "SUVORK5CYII=\n",
       "\" style=\"display:inline;vertical-align:middle;\" /></a></td></tr>\n",
       "<tr><td>7</td><td>ExprTuple</td><td>8, 9</td><td><a class=\"ProveItLink\" href=\"../caee09fb4b5c95b986a9cee46a014afbad9bdc680/expr.ipynb\"><img src=\"data:image/png;base64,iVBORw0KGgoAAAANSUhEUgAAADUAAAAVBAMAAAAUZLt1AAAAMFBMVEX////c3NwiIiJERESqqqqY\n",
       "mJh2dnZmZmYQEBDu7u4yMjJUVFTMzMyIiIi6uroAAAAs73DqAAAAAXRSTlMAQObYZgAAATZJREFU\n",
       "KM9jYMAH+C5gFY4DEach7EMwQdb9v3dvXsfAfgDIXgkRWg/XwWHAwFD/gGEBAwMvxEhW/QkwufNA\n",
       "kfMbGMKAqiBiIvUCMLn7QFZ8AsMMBoZXEIEL9x/A5CyAWGMCA7MDQxnEsRP8A2ByvxkYpCwZGNgK\n",
       "GJaC+fPAtoABz++711WBNMsChj6wwAMG+QKoHO9HBoZJG4BGNTD8A6vdvXu/AVSOuQEo/xUo9gEi\n",
       "xwd07wKoHD9QD+s3sFwLiO/AwMDUAPMe0FHcX8BmmgK5jEA5rg8MDBNg3pMHGsK6gCEdyJ0FsuYn\n",
       "A+cnqPd4uiaA/fCIgUG4fyEDq/2vAs5+oJbi/7t3rwL5lesBA4cAUnQhsUFhxpqA4LIiR2AuIo7Q\n",
       "5ThBfpJG8JFTADfIfEbsaeIOAwMABOxNRsfkiy0AAAAASUVORK5CYII=\n",
       "\" style=\"display:inline;vertical-align:middle;\" /></a></td></tr>\n",
       "<tr><td>8</td><td>Variable</td><td></td><td><a class=\"ProveItLink\" href=\"../../../../../__pv_it/2cbe72a7ad6f655694dd697106680215e8489b600/expr.ipynb\"><img src=\"data:image/png;base64,iVBORw0KGgoAAAANSUhEUgAAAA8AAAAOBAMAAAACpFvcAAAALVBMVEX///8QEBBERERUVFS6urqI\n",
       "iIhmZmaqqqrc3Nzu7u6YmJgyMjIiIiLMzMwAAADtIaYWAAAAAXRSTlMAQObYZgAAAFtJREFUCNdj\n",
       "YACBOwxQsA9Kc52bAGG05zVAGAFxDmCaZULdAjBjCsO9ADDDgaEvAUTzGhvbKYCVMDAwbgAxChgY\n",
       "eASANAeQwf0AyJgNxEwvGRia5HYwcOm9TgAA6BoR3jrzwFcAAAAASUVORK5CYII=\n",
       "\" style=\"display:inline;vertical-align:middle;\" /></a></td></tr>\n",
       "<tr><td>9</td><td>Variable</td><td></td><td><a class=\"ProveItLink\" href=\"../../../../../__pv_it/077b2ff79244fb4582cbe22c6e3356fa92a52f2f0/expr.ipynb\"><img src=\"data:image/png;base64,iVBORw0KGgoAAAANSUhEUgAAABAAAAAOBAMAAADUAYG5AAAAMFBMVEX///+qqqru7u4iIiJ2dnbc\n",
       "3NyIiIjMzMxmZmYQEBC6uroyMjJERERUVFSYmJgAAADLUcuvAAAAAXRSTlMAQObYZgAAAGpJREFU\n",
       "CNdjYGB4+//u3dMLGIBgDgMDxy8gzf4NiP8CGWxfGRj4vgAZPBMYGJgnARn8FxhY9ygAGfXX0pof\n",
       "gDTlBzAw2YIYJ0EckBBI53sHoBH/gIz7AhBjWH9DjancBLTl/N+7t/cxMAAA3u4f/5xagjYAAAAA\n",
       "SUVORK5CYII=\n",
       "\" style=\"display:inline;vertical-align:middle;\" /></a></td></tr>\n",
       "</table>\n"
      ],
      "text/plain": [
       "0. B -> (B supseteq A) | A subseteq B\n",
       "   core type: Lambda\n",
       "   parameter: 9\n",
       "   body: 1\n",
       "   conditions: 2\\n1. B supseteq A\n",
       "   core type: Operation\n",
       "   operator: 3\n",
       "   operands: 4\n",
       "2. (A subseteq B)\n",
       "   core type: ExprTuple\n",
       "   sub-expressions: 5\n",
       "3. supseteq\n",
       "   core type: Literal\n",
       "   sub-expressions: \n",
       "4. (B , A)\n",
       "   core type: ExprTuple\n",
       "   sub-expressions: 9, 8\n",
       "5. A subseteq B\n",
       "   core type: Operation\n",
       "   operator: 6\n",
       "   operands: 7\n",
       "6. subseteq\n",
       "   core type: Literal\n",
       "   sub-expressions: \n",
       "7. (A , B)\n",
       "   core type: ExprTuple\n",
       "   sub-expressions: 8, 9\n",
       "8. A\n",
       "   core type: Variable\n",
       "   sub-expressions: \n",
       "9. B\n",
       "   core type: Variable\n",
       "   sub-expressions: "
      ]
     },
     "execution_count": 4,
     "metadata": {},
     "output_type": "execute_result"
    }
   ],
   "source": [
    "# display the expression information\n",
    "expr.exprInfo()"
   ]
  },
  {
   "cell_type": "code",
   "execution_count": null,
   "metadata": {},
   "outputs": [],
   "source": []
  }
 ],
 "metadata": {
  "kernelspec": {
   "display_name": "Python 3",
   "language": "python",
   "name": "python3"
  }
 },
 "nbformat": 4,
 "nbformat_minor": 0
}
