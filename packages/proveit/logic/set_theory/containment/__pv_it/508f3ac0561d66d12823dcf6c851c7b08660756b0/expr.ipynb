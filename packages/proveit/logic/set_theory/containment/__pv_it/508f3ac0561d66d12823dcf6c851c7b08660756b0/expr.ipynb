{
 "cells": [
  {
   "cell_type": "markdown",
   "metadata": {},
   "source": [
    "Expression of type <a class=\"ProveItLink\" href=\"../../../../../../../doc/html/api/proveit.logic.Forall.html\">Forall</a>\n",
    "=======================\n",
    "# from context <a class=\"ProveItLink\" href=\"../../_context_.ipynb\">proveit.logic.set_theory.containment</a>"
   ]
  },
  {
   "cell_type": "code",
   "execution_count": 1,
   "metadata": {},
   "outputs": [],
   "source": [
    "# import Expression classes needed to build the expression\n",
    "from proveit._common_ import A, B\n",
    "from proveit.logic import Forall, Not, NotSupersetEq, SupersetEq"
   ]
  },
  {
   "cell_type": "code",
   "execution_count": 2,
   "metadata": {},
   "outputs": [
    {
     "data": {
      "text/html": [
       "<strong id=\"expr\">expr:</strong> <a class=\"ProveItLink\" href=\"expr.ipynb\"><img src=\"data:image/png;base64,iVBORw0KGgoAAAANSUhEUgAAAMAAAAAYBAMAAABen+92AAAAMFBMVEX///8QEBC6urrMzMxUVFRm\n",
       "ZmZERETc3NwyMjKqqqp2dnaIiIiYmJgiIiLu7u4AAAAU9Wx4AAAAAXRSTlMAQObYZgAAAvhJREFU\n",
       "SMe1Vk1IVFEU/maeM87P8zm0qk29IKKN5KJWEQ41GK0cSo2CcMJ4UoQOJFmLwUECC0JnEwQuksCi\n",
       "nS1ahAuNNlELjTZRjU4tQogBSbHsx7rn/s3Mm6fEWA/mvnPPPfd853z33PMG+LdPFP/5OVClKWzF\n",
       "nX/SrTlRMTNtYI6El1uL93BJMyc9t60kWoeAk8BDmo/UCCD3jfIxk8/nr4/LFV8K6LIRAq6wWX2q\n",
       "xhMVDJkLmucPr6XQwpZa4jDHEWKLgVxtAD7h+FpXWnOWkeI0e8+Ow4rBfDAwkKmRoX3iNTltK81R\n",
       "f1wI59jvFcO/AKw6ztuNPFz2Uoa1dEaUUuHujFRYWWSFtAJc7WXvCQYK9LBdfR3t3dy8zFU9P7KQ\n",
       "JkAYGeogcYuPHznh4lBmyB17jJWpx+9JuAPsIVzgKfCINMEyACHP2tjrOBcL2uieWt/GRxuDSalo\n",
       "gASIfgWKxNZuUkYpw3Zgf9oFMMbT7uIEGN3aaFGtf+ELiUSbqsLb6iIEYwzkJ1UTpdVAwb0Dzroz\n",
       "6KEhUhTxLWqjuuZyAMapL6s3hIVxI4ve/C4ArCzdR2sZ5rAbIEbDoaCIz8wpo6iifAcNrMQbYvLM\n",
       "UmgSldvCsq5bExSh5wjF8WOqteACMHhg8YDIuj6pjFQp4hKpGUBoScwDuYMjpWswSNufE3HkIJKF\n",
       "ubMEcN9xnCx3ZOaiS6qkpJGhGJmQzAXXRatYeHMc+hoY2wvSxEcZB5Ow1iozSIUJoNjRuS4Kw1ZG\n",
       "GqCJdZpdwzD7vgnmX6itnb8TiRu8NoYoRkJqzMG/7ALwE/mnYHA9NS1p5FdF40t79r6yx4opabCA\n",
       "TNIFYDHu/CwOKjd87tVGprppWpBnFq8CiKh6iIx2tN9EJUAz5mGxEu//NcMu2umSUcD2DDmzwPp1\n",
       "vrIxL1Z3mvIyfeLdoUJa6q/QF6tNj20O8MkbYKzUrCo+mVPVH4zmzQHCqksyipzzWh3foPfO/1WP\n",
       "ryufPPOyiGz0PyHtpfwDt73B1VwkeiQAAAAASUVORK5CYII=\n",
       "\" style=\"display:inline;vertical-align:middle;\" /></a><br>"
      ],
      "text/plain": [
       "expr: forall_{B | [not](A supseteq B)} (A nsupseteq B)"
      ]
     },
     "execution_count": 2,
     "metadata": {},
     "output_type": "execute_result"
    }
   ],
   "source": [
    "# build up the expression from sub-expressions\n",
    "expr = Forall([B], NotSupersetEq(A, B), conditions = [Not(SupersetEq(A, B))])"
   ]
  },
  {
   "cell_type": "code",
   "execution_count": 3,
   "metadata": {},
   "outputs": [
    {
     "name": "stdout",
     "output_type": "stream",
     "text": [
      "Passed sanity check: built 'expr' is the same as the stored Expression.\n"
     ]
    }
   ],
   "source": [
    "# check that the built expression is the same as the stored expression\n",
    "%check_expr"
   ]
  },
  {
   "cell_type": "code",
   "execution_count": 4,
   "metadata": {},
   "outputs": [
    {
     "data": {
      "text/html": [
       "<table><tr><th>&nbsp;</th><th>core type</th><th>sub-expressions</th><th>expression</th></tr>\n",
       "<tr><td>0</td><td>Operation</td><td>operator:&nbsp;1<br>operand:&nbsp;2<br></td><td><a class=\"ProveItLink\" href=\"expr.ipynb\"><img src=\"data:image/png;base64,iVBORw0KGgoAAAANSUhEUgAAAMAAAAAYBAMAAABen+92AAAAMFBMVEX///8QEBC6urrMzMxUVFRm\n",
       "ZmZERETc3NwyMjKqqqp2dnaIiIiYmJgiIiLu7u4AAAAU9Wx4AAAAAXRSTlMAQObYZgAAAvhJREFU\n",
       "SMe1Vk1IVFEU/maeM87P8zm0qk29IKKN5KJWEQ41GK0cSo2CcMJ4UoQOJFmLwUECC0JnEwQuksCi\n",
       "nS1ahAuNNlELjTZRjU4tQogBSbHsx7rn/s3Mm6fEWA/mvnPPPfd853z33PMG+LdPFP/5OVClKWzF\n",
       "nX/SrTlRMTNtYI6El1uL93BJMyc9t60kWoeAk8BDmo/UCCD3jfIxk8/nr4/LFV8K6LIRAq6wWX2q\n",
       "xhMVDJkLmucPr6XQwpZa4jDHEWKLgVxtAD7h+FpXWnOWkeI0e8+Ow4rBfDAwkKmRoX3iNTltK81R\n",
       "f1wI59jvFcO/AKw6ztuNPFz2Uoa1dEaUUuHujFRYWWSFtAJc7WXvCQYK9LBdfR3t3dy8zFU9P7KQ\n",
       "JkAYGeogcYuPHznh4lBmyB17jJWpx+9JuAPsIVzgKfCINMEyACHP2tjrOBcL2uieWt/GRxuDSalo\n",
       "gASIfgWKxNZuUkYpw3Zgf9oFMMbT7uIEGN3aaFGtf+ELiUSbqsLb6iIEYwzkJ1UTpdVAwb0Dzroz\n",
       "6KEhUhTxLWqjuuZyAMapL6s3hIVxI4ve/C4ArCzdR2sZ5rAbIEbDoaCIz8wpo6iifAcNrMQbYvLM\n",
       "UmgSldvCsq5bExSh5wjF8WOqteACMHhg8YDIuj6pjFQp4hKpGUBoScwDuYMjpWswSNufE3HkIJKF\n",
       "ubMEcN9xnCx3ZOaiS6qkpJGhGJmQzAXXRatYeHMc+hoY2wvSxEcZB5Ow1iozSIUJoNjRuS4Kw1ZG\n",
       "GqCJdZpdwzD7vgnmX6itnb8TiRu8NoYoRkJqzMG/7ALwE/mnYHA9NS1p5FdF40t79r6yx4opabCA\n",
       "TNIFYDHu/CwOKjd87tVGprppWpBnFq8CiKh6iIx2tN9EJUAz5mGxEu//NcMu2umSUcD2DDmzwPp1\n",
       "vrIxL1Z3mvIyfeLdoUJa6q/QF6tNj20O8MkbYKzUrCo+mVPVH4zmzQHCqksyipzzWh3foPfO/1WP\n",
       "ryufPPOyiGz0PyHtpfwDt73B1VwkeiQAAAAASUVORK5CYII=\n",
       "\" style=\"display:inline;vertical-align:middle;\" /></a></td></tr>\n",
       "<tr><td>1</td><td>Literal</td><td></td><td><a class=\"ProveItLink\" href=\"../../../../boolean/quantification/universal/__pv_it/265f8c02ac1094d56e0e6410a1c1fd3500dc9f540/expr.ipynb\"><img src=\"data:image/png;base64,iVBORw0KGgoAAAANSUhEUgAAAAwAAAAQBAMAAADQT4M0AAAAMFBMVEX///8QEBC6urrMzMxUVFRm\n",
       "ZmZERETc3NwyMjKqqqp2dnaIiIiYmJgiIiLu7u4AAAAU9Wx4AAAAAXRSTlMAQObYZgAAAFhJREFU\n",
       "CNdjeMAABhdAxGmGlSCqj6EMSLInMHAAJVknMPAsLy+vBYp8S0u7BaScGRjSgZQKA18DkOJl4D4A\n",
       "pLgP8IJM4mswARuX7gSmpoKNZWDcAKZ4gCoAgTQTILaSE58AAAAASUVORK5CYII=\n",
       "\" style=\"display:inline;vertical-align:middle;\" /></a></td></tr>\n",
       "<tr><td>2</td><td>Lambda</td><td>parameter:&nbsp;12<br>body:&nbsp;3<br>conditions:&nbsp;4<br></td><td><a class=\"ProveItLink\" href=\"../7c7e4a7a4704af37e3d57dacdc0b8d3939a765710/expr.ipynb\"><img src=\"data:image/png;base64,iVBORw0KGgoAAAANSUhEUgAAAPAAAAAYCAMAAADznIBPAAAANlBMVEX///8UFBQNDQ2qqqru7u4i\n",
       "IiJ2dnbc3NyIiIjMzMxmZmYQEBC6uroyMjJERERUVFSYmJgAAAC3B9V0AAAAAXRSTlMAQObYZgAA\n",
       "AmZJREFUWMPlmNly6yAMhjmHfYf3f9nGsbFZjXDamc5UN6UO8cePJCSC0I+ZQH/LpF+bj/lvVmPm\n",
       "7lPm5sPQfsjM58x7u6DBx+hf5qx54j1Je3OqhxVDyVXBEGYjcQjVbvdKhCm2pPgvXmNOd7Oe1V8q\n",
       "GXZV8Jh5QQUBQmUUx19Q4okiuAKNDQcRTSsfVozA1gQDmIgEKFTE/cQIkUEE6xzGsYq8E4Cclk8r\n",
       "BtFrggHMt69hUHcMqCaQE8uW1Ud0EsFLZMpoqRkOrwiGMN/zYNDd4dy6U2+ZYrhYnMrDwBCEY2iC\n",
       "yzbvqBlMrQgGMHsLH0BfES6EUDQMz1ife95m84i5EiV3Qdi9nGdTxcB2RTCAeYbWHHpEOqF+JJj4\n",
       "LDd0trRtyKPq1qSC3TCMHgtW9DQGZnYEj6Ap0sUVJ///0cJ0ljPZUG5VzkdXd02q2bSGISPEw6n6\n",
       "zpk9T42gqRhlh3Rd1322nAy+j3RdVB0/VZfZlDEeCx4w862eQGXS7yMeCFb5aa/PWTidgVVx2Hbf\n",
       "UFJkU824C+lW8JR5vBQETcWKRzvIYVmcEC6c5bDT9mzbg5FUZWfUMoJdETxlvicDoUekS51NL8/A\n",
       "sjqngkLSa9zV9ry7vPjqLKsq2zKAZUnOmam1BEKV2xtsawP0qkT3uNXRbjsYXi+w+eqbrrHLqC8q\n",
       "k8ZjwuyVbgAUaJovtPkDW24tv+O6TPTDiyX7/ObPxJrgwL5BMHt6pR77kG8ZfJi72+sPr4c1lD6D\n",
       "Qo3fOJGAruaerwrm/mMH++dpwQXw4jqaJNtH5jkT+Kui/JGfuyhBf8v4717eFzNPIXzzprBpAAAA\n",
       "AElFTkSuQmCC\n",
       "\" style=\"display:inline;vertical-align:middle;\" /></a></td></tr>\n",
       "<tr><td>3</td><td>Operation</td><td>operator:&nbsp;5<br>operands:&nbsp;10<br></td><td><a class=\"ProveItLink\" href=\"../e93b75139355971858a3a0fcf004e7fb734402600/expr.ipynb\"><img src=\"data:image/png;base64,iVBORw0KGgoAAAANSUhEUgAAADsAAAAYBAMAAAC2M5gYAAAAMFBMVEX///92dnYQEBBERERUVFS6\n",
       "urqIiIhmZmaqqqrc3Nzu7u6YmJgyMjIiIiLMzMwAAACFkkdwAAAAAXRSTlMAQObYZgAAASRJREFU\n",
       "KM9jYEADbAx4wRP80qVYxN4imBcgFLf/Fxfno1Cx82By7t27d48IQIWYDBgY6gMgSu8vgGledA/K\n",
       "eJ8AxA5g5oz6CXCXzYUy84H0fohRCfkBMGk/VogOBiMgvgQ2lHVB/waoLNcBhgMQ1hcGhjlWYNZS\n",
       "sEWQQNnA4Adm8H1JS78NEQtgmF8AleZlgEqz/WRgWAu2h8/Fxd8AKt0O8zizAlDJb7DVQE9CLWSw\n",
       "ZOCAGMQP1Mn9EcRqAJqpAJHlNGCIhQTBe6BjWX6AhIDSPB8g0uwNz08hvD0fZOYakE2/IIF6/44H\n",
       "A9zbfDpAgybrn2Tgtv8DsXEjLHSK/7u4nNmAHnOn8MY1nwM+2bn3gTF61wCn/Fr8CSkNv/Qt/NIT\n",
       "MEQAjr9Prm7ut9AAAAAASUVORK5CYII=\n",
       "\" style=\"display:inline;vertical-align:middle;\" /></a></td></tr>\n",
       "<tr><td>4</td><td>ExprTuple</td><td>6</td><td><a class=\"ProveItLink\" href=\"../04e1a9cbcb3804127ea39b91e9e70a2dc001b8260/expr.ipynb\"><img src=\"data:image/png;base64,iVBORw0KGgoAAAANSUhEUgAAAGkAAAAVBAMAAAC3TN2zAAAAMFBMVEX////c3NwiIiJERESqqqqY\n",
       "mJh2dnZmZmYQEBDu7u4yMjJUVFTMzMyIiIi6uroAAAAs73DqAAAAAXRSTlMAQObYZgAAAalJREFU\n",
       "OMudUz9IAmEUf4dennpnIk1FJAdBRINLYFNurVHgWG5NgRC0VtCSQxxB0OgSYVAJtV2QW4ODbS1J\n",
       "4lYQGP2jJO197zvvHhkcdPD7fp/vvZ/f+/N9AP/7Yjfsx5NP8JIDqDKjXpaU7AtXr9r2+SmEKkCA\n",
       "EvNFLEktooRpmieW49JSABsNKOIWYfAE65IWPl3L/pSzqWFcrQxZ3CI0i6l2aFXmnj1TIi75Hnk5\n",
       "Bwe4RTzyxhSJDKPDbLJUSCMmLAhkQGCdqUI5oofgGzPKf4I2wPAMwECecMibMS/WcEP/ZsZL2dZ2\n",
       "/XYcOVgk7OIRpvjwHK1BOYHy0acysNQ9TDa2SeiwUQ2SqmrbL0wlZxfAaAMT11uEfhUuBU8UzBMN\n",
       "olt9d1XbTKVlRJholqdqysnUsOToq5vhNFMFRDeGEGeu6LrkjWsMO6FKrPT8FdnWsOj0rOXcqMkL\n",
       "cMelFyy3800+5SQo6a84LHaPfl3eta5tH4tMIg2CFmfOLd935dwoNcdsWV/VqoM/Xkrv4tL0U9wk\n",
       "qqbKR5hRKfscFY1LgMIf2KiP6k7iB4P0cOwkdM9YAAAAAElFTkSuQmCC\n",
       "\" style=\"display:inline;vertical-align:middle;\" /></a></td></tr>\n",
       "<tr><td>5</td><td>Literal</td><td></td><td><a class=\"ProveItLink\" href=\"../750db171b2e8e944a2b1f3dc5b825c00ed5badfe0/expr.ipynb\"><img src=\"data:image/png;base64,iVBORw0KGgoAAAANSUhEUgAAAA4AAAAYBAMAAAA46dFkAAAAMFBMVEX///9ERESqqqqYmJgQEBDu\n",
       "7u52dnYyMjLc3NwiIiK6urpmZmZUVFTMzMyIiIgAAADs5GwKAAAAAXRSTlMAQObYZgAAAHVJREFU\n",
       "CNdjYAABPgYIuAOld0HpCQwMnTNnzqxJgHBD5kKVdTaA6bNcB0AUawFDAdgUA4azIJqTAUJrgw1g\n",
       "YJBgYNoApDgEGFYGAGluhdulIHPnTz8ENsUMalkphOIFm8nQOR9o8UwBBoZIqPQ7KD0VSkOcAAAo\n",
       "exszS18ZhgAAAABJRU5ErkJggg==\n",
       "\" style=\"display:inline;vertical-align:middle;\" /></a></td></tr>\n",
       "<tr><td>6</td><td>Operation</td><td>operator:&nbsp;7<br>operand:&nbsp;8<br></td><td><a class=\"ProveItLink\" href=\"../83db08eed61502eac30a181ad08f92051e60d40b0/expr.ipynb\"><img src=\"data:image/png;base64,iVBORw0KGgoAAAANSUhEUgAAAFoAAAAVBAMAAAA0iOSIAAAAMFBMVEX////c3NxERESqqqqYmJgQ\n",
       "EBDu7u4yMjKIiIi6urpUVFTMzMx2dnYiIiJmZmYAAABjE816AAAAAXRSTlMAQObYZgAAAWNJREFU\n",
       "KM9jYCATcDbgl2eZgMzbBaH2Yqrz+r9qlfoEhtfIYmUQqh5MMt69e/d6G0wqiIGB7ycDO5JiDohD\n",
       "WO4nwETYfDdAGNw/gPgXA8sBhGpWiCrh9wJwIcaLUIM+Ak35w8AWgFA9HUI19CN5ZhaEYgIq4w1j\n",
       "YFBGyLyBBEyCvQNCDOpS/gUMjEVAq88hZErAZCbDfqSA5II4fP+KjrcgM8wZ3gI9f/cOkBkJlpjA\n",
       "IP8AQ3W/AAPbLSA9FRHUP8G+X7VqvQJCNS+EUgXpABq+H001JzBsChCq7SDULyD2P4CiOhjEMACa\n",
       "hwgnzmuQ4P4CJNYboLhEBRTAQCH2DzDF3M8T4MHN+B3IcIeKM0CCJx0UuN9gMV9lgAjurWUMKCE4\n",
       "l4FBKL6QgUX/+wPUNMWn/2vVcnD4ViLFvAChJI0c88hpBjvgacBMsQzwFHv37iUU1enIHClCZi9E\n",
       "MY5ATuPYwAAAVwxdBnsjd+4AAAAASUVORK5CYII=\n",
       "\" style=\"display:inline;vertical-align:middle;\" /></a></td></tr>\n",
       "<tr><td>7</td><td>Literal</td><td></td><td><a class=\"ProveItLink\" href=\"../../../../boolean/negation/__pv_it/7bea79645543c2413aa17e787cca04e21046fde60/expr.ipynb\"><img src=\"data:image/png;base64,iVBORw0KGgoAAAANSUhEUgAAAAwAAAAGBAMAAAAFwGKyAAAAFVBMVEX///9UVFTMzMx2dnYiIiJm\n",
       "ZmYAAACWz4ZEAAAAAXRSTlMAQObYZgAAABRJREFUCNdjCHEBAmcGMFDEQzEBAEl+Ai6uYJv/AAAA\n",
       "AElFTkSuQmCC\n",
       "\" style=\"display:inline;vertical-align:middle;\" /></a></td></tr>\n",
       "<tr><td>8</td><td>Operation</td><td>operator:&nbsp;9<br>operands:&nbsp;10<br></td><td><a class=\"ProveItLink\" href=\"../5e6face9deb8f4990d49930649fd84e604ecfa3c0/expr.ipynb\"><img src=\"data:image/png;base64,iVBORw0KGgoAAAANSUhEUgAAADsAAAARBAMAAACRPMnQAAAAMFBMVEX///92dnYQEBBERERUVFS6\n",
       "urqIiIhmZmaqqqrc3Nzu7u6YmJgyMjIiIiLMzMwAAACFkkdwAAAAAXRSTlMAQObYZgAAAO9JREFU\n",
       "KM9jYACBtwzogNv/i4vzUSjnPJice/fu3WMLoEJMBgwM9QEQpfdhggyr70EZ7xOA2AHMnFE/AW7q\n",
       "XCgzH0jvFwAzE/ID4NKsEB0MRkB8CWwo64L+DQhHHYBQXxgY5liBWUvBFsGAH5jk+5KWfhsiEMAw\n",
       "vwBdmu0nA8NasD18Li7+BgjpC2CSWQGo5DfYaqAnD8BlOSAG8QN1cn8EsRoYGHgV4NKxkCB4D3Qs\n",
       "yw8ggxMozfMBJvv8FMLb80FmrgHZ9AsaqHc8GODe5tMBGjRZ/yQDt/2fAtQYKf7v4nJmAwMVAShC\n",
       "7941QBYCAC8bRZFIybTAAAAAAElFTkSuQmCC\n",
       "\" style=\"display:inline;vertical-align:middle;\" /></a></td></tr>\n",
       "<tr><td>9</td><td>Literal</td><td></td><td><a class=\"ProveItLink\" href=\"../bc0f4f75fcd25c7f3c501d50b7b90e3eb0564d7a0/expr.ipynb\"><img src=\"data:image/png;base64,iVBORw0KGgoAAAANSUhEUgAAAA4AAAAQBAMAAADUulMJAAAAKlBMVEX///9ERERmZmaqqqpUVFS6\n",
       "urrMzMyYmJju7u6IiIgyMjIiIiLc3NwAAAAAfF0EAAAAAXRSTlMAQObYZgAAAD5JREFUCNdjOL17\n",
       "9+6VDQxg0L4NQjOcPgChWR2gAgugtBsavQFCMStA6GiIQUkrgEbs3r3LmQE3ANm7e7cAAMoAEtfi\n",
       "lGxPAAAAAElFTkSuQmCC\n",
       "\" style=\"display:inline;vertical-align:middle;\" /></a></td></tr>\n",
       "<tr><td>10</td><td>ExprTuple</td><td>11, 12</td><td><a class=\"ProveItLink\" href=\"../caee09fb4b5c95b986a9cee46a014afbad9bdc680/expr.ipynb\"><img src=\"data:image/png;base64,iVBORw0KGgoAAAANSUhEUgAAADUAAAAVBAMAAAAUZLt1AAAAMFBMVEX////c3NwiIiJERESqqqqY\n",
       "mJh2dnZmZmYQEBDu7u4yMjJUVFTMzMyIiIi6uroAAAAs73DqAAAAAXRSTlMAQObYZgAAATZJREFU\n",
       "KM9jYMAH+C5gFY4DEach7EMwQdb9v3dvXsfAfgDIXgkRWg/XwWHAwFD/gGEBAwMvxEhW/QkwufNA\n",
       "kfMbGMKAqiBiIvUCMLn7QFZ8AsMMBoZXEIEL9x/A5CyAWGMCA7MDQxnEsRP8A2ByvxkYpCwZGNgK\n",
       "GJaC+fPAtoABz++711WBNMsChj6wwAMG+QKoHO9HBoZJG4BGNTD8A6vdvXu/AVSOuQEo/xUo9gEi\n",
       "xwd07wKoHD9QD+s3sFwLiO/AwMDUAPMe0FHcX8BmmgK5jEA5rg8MDBNg3pMHGsK6gCEdyJ0FsuYn\n",
       "A+cnqPd4uiaA/fCIgUG4fyEDq/2vAs5+oJbi/7t3rwL5lesBA4cAUnQhsUFhxpqA4LIiR2AuIo7Q\n",
       "5ThBfpJG8JFTADfIfEbsaeIOAwMABOxNRsfkiy0AAAAASUVORK5CYII=\n",
       "\" style=\"display:inline;vertical-align:middle;\" /></a></td></tr>\n",
       "<tr><td>11</td><td>Variable</td><td></td><td><a class=\"ProveItLink\" href=\"../../../../../__pv_it/2cbe72a7ad6f655694dd697106680215e8489b600/expr.ipynb\"><img src=\"data:image/png;base64,iVBORw0KGgoAAAANSUhEUgAAAA8AAAAOBAMAAAACpFvcAAAALVBMVEX///8QEBBERERUVFS6urqI\n",
       "iIhmZmaqqqrc3Nzu7u6YmJgyMjIiIiLMzMwAAADtIaYWAAAAAXRSTlMAQObYZgAAAFtJREFUCNdj\n",
       "YACBOwxQsA9Kc52bAGG05zVAGAFxDmCaZULdAjBjCsO9ADDDgaEvAUTzGhvbKYCVMDAwbgAxChgY\n",
       "eASANAeQwf0AyJgNxEwvGRia5HYwcOm9TgAA6BoR3jrzwFcAAAAASUVORK5CYII=\n",
       "\" style=\"display:inline;vertical-align:middle;\" /></a></td></tr>\n",
       "<tr><td>12</td><td>Variable</td><td></td><td><a class=\"ProveItLink\" href=\"../../../../../__pv_it/077b2ff79244fb4582cbe22c6e3356fa92a52f2f0/expr.ipynb\"><img src=\"data:image/png;base64,iVBORw0KGgoAAAANSUhEUgAAABAAAAAOBAMAAADUAYG5AAAAMFBMVEX///+qqqru7u4iIiJ2dnbc\n",
       "3NyIiIjMzMxmZmYQEBC6uroyMjJERERUVFSYmJgAAADLUcuvAAAAAXRSTlMAQObYZgAAAGpJREFU\n",
       "CNdjYGB4+//u3dMLGIBgDgMDxy8gzf4NiP8CGWxfGRj4vgAZPBMYGJgnARn8FxhY9ygAGfXX0pof\n",
       "gDTlBzAw2YIYJ0EckBBI53sHoBH/gIz7AhBjWH9DjancBLTl/N+7t/cxMAAA3u4f/5xagjYAAAAA\n",
       "SUVORK5CYII=\n",
       "\" style=\"display:inline;vertical-align:middle;\" /></a></td></tr>\n",
       "</table>\n"
      ],
      "text/plain": [
       "0. forall_{B | [not](A supseteq B)} (A nsupseteq B)\n",
       "   core type: Operation\n",
       "   operator: 1\n",
       "   operand: 2\n",
       "1. forall\n",
       "   core type: Literal\n",
       "   sub-expressions: \n",
       "2. B -> (A nsupseteq B) | [not](A supseteq B)\n",
       "   core type: Lambda\n",
       "   parameter: 12\n",
       "   body: 3\n",
       "   conditions: 4\\n3. A nsupseteq B\n",
       "   core type: Operation\n",
       "   operator: 5\n",
       "   operands: 10\n",
       "4. ([not](A supseteq B))\n",
       "   core type: ExprTuple\n",
       "   sub-expressions: 6\n",
       "5. nsupseteq\n",
       "   core type: Literal\n",
       "   sub-expressions: \n",
       "6. [not](A supseteq B)\n",
       "   core type: Operation\n",
       "   operator: 7\n",
       "   operand: 8\n",
       "7. not\n",
       "   core type: Literal\n",
       "   sub-expressions: \n",
       "8. A supseteq B\n",
       "   core type: Operation\n",
       "   operator: 9\n",
       "   operands: 10\n",
       "9. supseteq\n",
       "   core type: Literal\n",
       "   sub-expressions: \n",
       "10. (A , B)\n",
       "    core type: ExprTuple\n",
       "    sub-expressions: 11, 12\n",
       "11. A\n",
       "    core type: Variable\n",
       "    sub-expressions: \n",
       "12. B\n",
       "    core type: Variable\n",
       "    sub-expressions: "
      ]
     },
     "execution_count": 4,
     "metadata": {},
     "output_type": "execute_result"
    }
   ],
   "source": [
    "# display the expression information\n",
    "expr.exprInfo()"
   ]
  },
  {
   "cell_type": "code",
   "execution_count": null,
   "metadata": {},
   "outputs": [],
   "source": []
  }
 ],
 "metadata": {
  "kernelspec": {
   "display_name": "Python 3",
   "language": "python",
   "name": "python3"
  }
 },
 "nbformat": 4,
 "nbformat_minor": 0
}
