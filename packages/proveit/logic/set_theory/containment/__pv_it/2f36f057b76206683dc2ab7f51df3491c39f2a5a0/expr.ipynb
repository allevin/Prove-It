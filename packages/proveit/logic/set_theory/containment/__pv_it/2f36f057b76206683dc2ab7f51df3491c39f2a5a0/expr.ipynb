{
 "cells": [
  {
   "cell_type": "markdown",
   "metadata": {},
   "source": [
    "Expression of type <a class=\"ProveItLink\" href=\"../../../../../../../doc/html/api/proveit.logic.And.html\">And</a>\n",
    "=======================\n",
    "# from context <a class=\"ProveItLink\" href=\"../../_context_.ipynb\">proveit.logic.set_theory.containment</a>"
   ]
  },
  {
   "cell_type": "code",
   "execution_count": 1,
   "metadata": {},
   "outputs": [],
   "source": [
    "# import Expression classes needed to build the expression\n",
    "from proveit._common_ import A, B\n",
    "from proveit.logic import And, NotSupersetEq, SubsetEq"
   ]
  },
  {
   "cell_type": "code",
   "execution_count": 2,
   "metadata": {},
   "outputs": [
    {
     "data": {
      "text/html": [
       "<strong id=\"expr\">expr:</strong> <a class=\"ProveItLink\" href=\"expr.ipynb\"><img src=\"data:image/png;base64,iVBORw0KGgoAAAANSUhEUgAAAKsAAAAYBAMAAAB3mBDxAAAAMFBMVEX////c3NwiIiJERESqqqqY\n",
       "mJh2dnZmZmYQEBDu7u4yMjJUVFTMzMyIiIi6uroAAAAs73DqAAAAAXRSTlMAQObYZgAAArhJREFU\n",
       "SMe1VU1oE1EQnvxsfjabbYg9KdIYEIxIE0GhnppbwYtBIQdB7c2TEBA8FduCF3vQ0FPJQVZBJAo1\n",
       "orcNtrQHDz2kN1EMDT35g1DxDxu0zpvZl+zbrebSDiSzMzvfvHnzvnkLsBeShH2RNb/LXP8/ROt4\n",
       "PZ99MTcV67JrpRV/vqWu/XwRYMrjNxqsMn1XRkFEl/G5zq6nTsTbbDY7yo+xAsB0B3TnTaDKWmet\n",
       "b5FKY/yTSVAQFnabe6DlOXjlTb+GFr5qNUBzQHqFdZvV+V+9wIUTKqKMC3C64ekUVXTEtdsNdF2Z\n",
       "hPgMm6s51re59okv/RNLpxTEAsBHdqxv0Mkk3Oczhr9juOopNl9ymabFnEr+6QU2zYaCCBXhBsdW\n",
       "z5WErrnPpgtw8Azqq2TFrSDpKPfkQ/i7jItbYCmISAUekn2P2qIS0Oi2Xx8VD2fJjJSiRWoxrR/v\n",
       "GL97w1CCpoIIW3CHHB0YqXjTJrF582J378kMQoBqilGfTAj8lIG4i6aCMGeAOmTY9lLBiehJCI8q\n",
       "KXbaIvOSAx6itGu2/VUGTkjiSoSxxWlNLIJK4X2yDOG62o9e2pyzF06Lf3My8CSEKwoC094SNiYL\n",
       "Eo3ioy7aYhMT32QTBFIXPIqJlcPiyOWYFGCzqiCwCafFi2JvaGpTCm1HxB4u0kmlODWExJENu+Yy\n",
       "WnxVVxGaRewRtAo5Q/PpgRxeJKExV5UEW5Wzj+wRlAIYr/Lw5o+/6BOdEBiyCXDg7n3Qxrcr6o1y\n",
       "fce2HxOZFmkY5NyaGQiMbafgws4jDiz7EHoHYqlBlykPr0MrlFnP+7oPgcMrL5J/S8RzIZd3vSfd\n",
       "cs27WDSb7V+MjtQ8IOdidCSdF4iCsj3R+UODqn3msQNqefM+QEL0NTDgo5Nc9noOK1bbh3i3F5/H\n",
       "3P58dXdl0l9vlrzgExBZvwAAAABJRU5ErkJggg==\n",
       "\" style=\"display:inline;vertical-align:middle;\" /></a><br>"
      ],
      "text/plain": [
       "expr: (A subseteq B) and (A nsupseteq B)"
      ]
     },
     "execution_count": 2,
     "metadata": {},
     "output_type": "execute_result"
    }
   ],
   "source": [
    "# build up the expression from sub-expressions\n",
    "expr = And(SubsetEq(A, B), NotSupersetEq(A, B))"
   ]
  },
  {
   "cell_type": "code",
   "execution_count": 3,
   "metadata": {},
   "outputs": [
    {
     "name": "stdout",
     "output_type": "stream",
     "text": [
      "Passed sanity check: built 'expr' is the same as the stored Expression.\n"
     ]
    }
   ],
   "source": [
    "# check that the built expression is the same as the stored expression\n",
    "%check_expr"
   ]
  },
  {
   "cell_type": "code",
   "execution_count": 4,
   "metadata": {},
   "outputs": [
    {
     "data": {
      "text/html": [
       "<table><tr><th>&nbsp;</th><th>core type</th><th>sub-expressions</th><th>expression</th></tr>\n",
       "<tr><td>0</td><td>Operation</td><td>operator:&nbsp;1<br>operands:&nbsp;2<br></td><td><a class=\"ProveItLink\" href=\"expr.ipynb\"><img src=\"data:image/png;base64,iVBORw0KGgoAAAANSUhEUgAAAKsAAAAYBAMAAAB3mBDxAAAAMFBMVEX////c3NwiIiJERESqqqqY\n",
       "mJh2dnZmZmYQEBDu7u4yMjJUVFTMzMyIiIi6uroAAAAs73DqAAAAAXRSTlMAQObYZgAAArhJREFU\n",
       "SMe1VU1oE1EQnvxsfjabbYg9KdIYEIxIE0GhnppbwYtBIQdB7c2TEBA8FduCF3vQ0FPJQVZBJAo1\n",
       "orcNtrQHDz2kN1EMDT35g1DxDxu0zpvZl+zbrebSDiSzMzvfvHnzvnkLsBeShH2RNb/LXP8/ROt4\n",
       "PZ99MTcV67JrpRV/vqWu/XwRYMrjNxqsMn1XRkFEl/G5zq6nTsTbbDY7yo+xAsB0B3TnTaDKWmet\n",
       "b5FKY/yTSVAQFnabe6DlOXjlTb+GFr5qNUBzQHqFdZvV+V+9wIUTKqKMC3C64ekUVXTEtdsNdF2Z\n",
       "hPgMm6s51re59okv/RNLpxTEAsBHdqxv0Mkk3Oczhr9juOopNl9ymabFnEr+6QU2zYaCCBXhBsdW\n",
       "z5WErrnPpgtw8Azqq2TFrSDpKPfkQ/i7jItbYCmISAUekn2P2qIS0Oi2Xx8VD2fJjJSiRWoxrR/v\n",
       "GL97w1CCpoIIW3CHHB0YqXjTJrF582J378kMQoBqilGfTAj8lIG4i6aCMGeAOmTY9lLBiehJCI8q\n",
       "KXbaIvOSAx6itGu2/VUGTkjiSoSxxWlNLIJK4X2yDOG62o9e2pyzF06Lf3My8CSEKwoC094SNiYL\n",
       "Eo3ioy7aYhMT32QTBFIXPIqJlcPiyOWYFGCzqiCwCafFi2JvaGpTCm1HxB4u0kmlODWExJENu+Yy\n",
       "WnxVVxGaRewRtAo5Q/PpgRxeJKExV5UEW5Wzj+wRlAIYr/Lw5o+/6BOdEBiyCXDg7n3Qxrcr6o1y\n",
       "fce2HxOZFmkY5NyaGQiMbafgws4jDiz7EHoHYqlBlykPr0MrlFnP+7oPgcMrL5J/S8RzIZd3vSfd\n",
       "cs27WDSb7V+MjtQ8IOdidCSdF4iCsj3R+UODqn3msQNqefM+QEL0NTDgo5Nc9noOK1bbh3i3F5/H\n",
       "3P58dXdl0l9vlrzgExBZvwAAAABJRU5ErkJggg==\n",
       "\" style=\"display:inline;vertical-align:middle;\" /></a></td></tr>\n",
       "<tr><td>1</td><td>Literal</td><td></td><td><a class=\"ProveItLink\" href=\"../../../../boolean/conjunction/__pv_it/76b5f4f4c45c0b6a9b59b297fc07dfa9555698f50/expr.ipynb\"><img src=\"data:image/png;base64,iVBORw0KGgoAAAANSUhEUgAAAAwAAAAOBAMAAADpk+DfAAAALVBMVEX///+qqqqYmJh2dnaIiIi6\n",
       "urpUVFQiIiJERETMzMxmZmYyMjLu7u7c3NwAAABvwqPxAAAAAXRSTlMAQObYZgAAAEtJREFUCNdj\n",
       "YGDgPcAAAtwLwNSMGjCV6gIieTawgyhmBS4BIMXOwLsBSKkwMGQCKaC6aQwMjEBd3BdACMScAVJd\n",
       "wJAKolwYAkAUKwAk0guX6efcigAAAABJRU5ErkJggg==\n",
       "\" style=\"display:inline;vertical-align:middle;\" /></a></td></tr>\n",
       "<tr><td>2</td><td>ExprTuple</td><td>3, 4</td><td><a class=\"ProveItLink\" href=\"../ee0ee179e57baf64081ef38f19e4a7980ea57b5b0/expr.ipynb\"><img src=\"data:image/png;base64,iVBORw0KGgoAAAANSUhEUgAAAI0AAAAYBAMAAAA122NmAAAAMFBMVEX////c3NwiIiJERESqqqqY\n",
       "mJh2dnZmZmYQEBDu7u4yMjJUVFTMzMyIiIi6uroAAAAs73DqAAAAAXRSTlMAQObYZgAAAjFJREFU\n",
       "OMtjYCAL8DJQB5zGFOK7QIY5dSi8OCSjD2GoZd3/e/fmdQg+jwKCrYCihP0AkL0SIrQequKWkpKS\n",
       "HoTJYcDAUP8ArpfrA5gSAipYncCAomQBMMQg3mLVnwBx1k2EpeeBUuc3wLlBP+HMGTqoSsKAJkL0\n",
       "i9QLgChGRSSP3QcKxcNsZmB0/4gIZiEBFCUzGBheQQQu3Ad7gPsBkjkWQKwxAR7VvP/gMnv4NqAo\n",
       "YXZgKINE2gT/ABA9CzmgfzMwSFnCeS9ZvsKYnAtAIYKkhK2AYSmYPw/sU9R0wfP77nVVOI/zAc9f\n",
       "uNMCGPagKGFZwNAHFnjAIF+Abg4vMDwmwYOZj4HxO4zNxAA1B6aEr4EB7Gme3bv3G0BVwAFzA1Ah\n",
       "3C+nd+/+DGO7wxIQTAnPB4g5fMB4A/uY3QFhDj/QItZvMB4wArpgbEMGlgIUJUBzWkB8oG6mBnAo\n",
       "6CElH2DIc3+BclhAEQNLAQYMjyagKAH6yxQk4QBPrbNqUJKPPNCVYC0iSEme3eH4SlQlrAsY0qGx\n",
       "zQxNra8XwfIFMG3wdE1g4PwEiWkGBvsJkHyhr7UFkcJASkDx/oiBQbh/IQOr/a8C1Gxa/H/37lVA\n",
       "d3P2CzAwWvwSYAj+vxwiE4auhIHrAQOHAKEygg9dxUoMJcB8wZpAyBxWND7PBgwlueimsyspIcoN\n",
       "7OYI6YOUGCALgUNPmpB70MvLSRgquEE+ZyS1XL2LIXKHrDJek0p1BdYIBgA/dJ0La4apPwAAAABJ\n",
       "RU5ErkJggg==\n",
       "\" style=\"display:inline;vertical-align:middle;\" /></a></td></tr>\n",
       "<tr><td>3</td><td>Operation</td><td>operator:&nbsp;5<br>operands:&nbsp;7<br></td><td><a class=\"ProveItLink\" href=\"../586c891807183c577ae8a72ee7e3b9f21144c4d50/expr.ipynb\"><img src=\"data:image/png;base64,iVBORw0KGgoAAAANSUhEUgAAADsAAAARBAMAAACRPMnQAAAAMFBMVEX///92dnYQEBBERERUVFS6\n",
       "urqIiIhmZmaqqqrc3Nzu7u6YmJgyMjIiIiLMzMwAAACFkkdwAAAAAXRSTlMAQObYZgAAAO1JREFU\n",
       "KM9jYACBtwzogNv/i4vzUSjnPJTOuXv37lUIk8mAgaE+AKL0/gKIIVkI7e8TgNgBzJxRPwFEcd5E\n",
       "Mj0fKLRfAMxMyAebwhKAJG0ExJfAhrIu6N8Aotcgu+0LA8McKzBrKdgiBoYnSLJ8X9LSb0OYAQzz\n",
       "C9Cl2X4yMKwFu4zPxcXfAMTgRZJmVgAq+Q22GujJAyAGewNCmh+ok/sjiAUU5FUAMbiuInkb6FiW\n",
       "HyDfAqV5PoDF1tSheHv+Aah3mH9BBEPOwgIV6G0+HaC3J+ufZOC2/1OAGiPF/11czmxgoCJgv3sX\n",
       "EaEQAABXikRkFnmHwgAAAABJRU5ErkJggg==\n",
       "\" style=\"display:inline;vertical-align:middle;\" /></a></td></tr>\n",
       "<tr><td>4</td><td>Operation</td><td>operator:&nbsp;6<br>operands:&nbsp;7<br></td><td><a class=\"ProveItLink\" href=\"../e93b75139355971858a3a0fcf004e7fb734402600/expr.ipynb\"><img src=\"data:image/png;base64,iVBORw0KGgoAAAANSUhEUgAAADsAAAAYBAMAAAC2M5gYAAAAMFBMVEX///92dnYQEBBERERUVFS6\n",
       "urqIiIhmZmaqqqrc3Nzu7u6YmJgyMjIiIiLMzMwAAACFkkdwAAAAAXRSTlMAQObYZgAAASRJREFU\n",
       "KM9jYEADbAx4wRP80qVYxN4imBcgFLf/Fxfno1Cx82By7t27d48IQIWYDBgY6gMgSu8vgGledA/K\n",
       "eJ8AxA5g5oz6CXCXzYUy84H0fohRCfkBMGk/VogOBiMgvgQ2lHVB/waoLNcBhgMQ1hcGhjlWYNZS\n",
       "sEWQQNnA4Adm8H1JS78NEQtgmF8AleZlgEqz/WRgWAu2h8/Fxd8AKt0O8zizAlDJb7DVQE9CLWSw\n",
       "ZOCAGMQP1Mn9EcRqAJqpAJHlNGCIhQTBe6BjWX6AhIDSPB8g0uwNz08hvD0fZOYakE2/IIF6/44H\n",
       "A9zbfDpAgybrn2Tgtv8DsXEjLHSK/7u4nNmAHnOn8MY1nwM+2bn3gTF61wCn/Fr8CSkNv/Qt/NIT\n",
       "MEQAjr9Prm7ut9AAAAAASUVORK5CYII=\n",
       "\" style=\"display:inline;vertical-align:middle;\" /></a></td></tr>\n",
       "<tr><td>5</td><td>Literal</td><td></td><td><a class=\"ProveItLink\" href=\"../e2e953faef156628f98c5cddef8a5f8ea43a24550/expr.ipynb\"><img src=\"data:image/png;base64,iVBORw0KGgoAAAANSUhEUgAAAA4AAAAQBAMAAADUulMJAAAAJFBMVEX///+qqqpmZmZUVFTc3Nzu\n",
       "7u7MzMy6uroiIiIyMjKIiIgAAABMlAC/AAAAAXRSTlMAQObYZgAAAD1JREFUCNdjYGBY2dHR0c7A\n",
       "kLGUAQRYWsAUA3MBhI6EUAzJaDQHlGYSgNCs7VCBSDUoo3gG2FwcgKkDBNoBPfYM6Npt1O0AAAAA\n",
       "SUVORK5CYII=\n",
       "\" style=\"display:inline;vertical-align:middle;\" /></a></td></tr>\n",
       "<tr><td>6</td><td>Literal</td><td></td><td><a class=\"ProveItLink\" href=\"../750db171b2e8e944a2b1f3dc5b825c00ed5badfe0/expr.ipynb\"><img src=\"data:image/png;base64,iVBORw0KGgoAAAANSUhEUgAAAA4AAAAYBAMAAAA46dFkAAAAMFBMVEX///9ERESqqqqYmJgQEBDu\n",
       "7u52dnYyMjLc3NwiIiK6urpmZmZUVFTMzMyIiIgAAADs5GwKAAAAAXRSTlMAQObYZgAAAHVJREFU\n",
       "CNdjYAABPgYIuAOld0HpCQwMnTNnzqxJgHBD5kKVdTaA6bNcB0AUawFDAdgUA4azIJqTAUJrgw1g\n",
       "YJBgYNoApDgEGFYGAGluhdulIHPnTz8ENsUMalkphOIFm8nQOR9o8UwBBoZIqPQ7KD0VSkOcAAAo\n",
       "exszS18ZhgAAAABJRU5ErkJggg==\n",
       "\" style=\"display:inline;vertical-align:middle;\" /></a></td></tr>\n",
       "<tr><td>7</td><td>ExprTuple</td><td>8, 9</td><td><a class=\"ProveItLink\" href=\"../caee09fb4b5c95b986a9cee46a014afbad9bdc680/expr.ipynb\"><img src=\"data:image/png;base64,iVBORw0KGgoAAAANSUhEUgAAADUAAAAVBAMAAAAUZLt1AAAAMFBMVEX////c3NwiIiJERESqqqqY\n",
       "mJh2dnZmZmYQEBDu7u4yMjJUVFTMzMyIiIi6uroAAAAs73DqAAAAAXRSTlMAQObYZgAAATZJREFU\n",
       "KM9jYMAH+C5gFY4DEach7EMwQdb9v3dvXsfAfgDIXgkRWg/XwWHAwFD/gGEBAwMvxEhW/QkwufNA\n",
       "kfMbGMKAqiBiIvUCMLn7QFZ8AsMMBoZXEIEL9x/A5CyAWGMCA7MDQxnEsRP8A2ByvxkYpCwZGNgK\n",
       "GJaC+fPAtoABz++711WBNMsChj6wwAMG+QKoHO9HBoZJG4BGNTD8A6vdvXu/AVSOuQEo/xUo9gEi\n",
       "xwd07wKoHD9QD+s3sFwLiO/AwMDUAPMe0FHcX8BmmgK5jEA5rg8MDBNg3pMHGsK6gCEdyJ0FsuYn\n",
       "A+cnqPd4uiaA/fCIgUG4fyEDq/2vAs5+oJbi/7t3rwL5lesBA4cAUnQhsUFhxpqA4LIiR2AuIo7Q\n",
       "5ThBfpJG8JFTADfIfEbsaeIOAwMABOxNRsfkiy0AAAAASUVORK5CYII=\n",
       "\" style=\"display:inline;vertical-align:middle;\" /></a></td></tr>\n",
       "<tr><td>8</td><td>Variable</td><td></td><td><a class=\"ProveItLink\" href=\"../../../../../__pv_it/2cbe72a7ad6f655694dd697106680215e8489b600/expr.ipynb\"><img src=\"data:image/png;base64,iVBORw0KGgoAAAANSUhEUgAAAA8AAAAOBAMAAAACpFvcAAAALVBMVEX///8QEBBERERUVFS6urqI\n",
       "iIhmZmaqqqrc3Nzu7u6YmJgyMjIiIiLMzMwAAADtIaYWAAAAAXRSTlMAQObYZgAAAFtJREFUCNdj\n",
       "YACBOwxQsA9Kc52bAGG05zVAGAFxDmCaZULdAjBjCsO9ADDDgaEvAUTzGhvbKYCVMDAwbgAxChgY\n",
       "eASANAeQwf0AyJgNxEwvGRia5HYwcOm9TgAA6BoR3jrzwFcAAAAASUVORK5CYII=\n",
       "\" style=\"display:inline;vertical-align:middle;\" /></a></td></tr>\n",
       "<tr><td>9</td><td>Variable</td><td></td><td><a class=\"ProveItLink\" href=\"../../../../../__pv_it/077b2ff79244fb4582cbe22c6e3356fa92a52f2f0/expr.ipynb\"><img src=\"data:image/png;base64,iVBORw0KGgoAAAANSUhEUgAAABAAAAAOBAMAAADUAYG5AAAAMFBMVEX///+qqqru7u4iIiJ2dnbc\n",
       "3NyIiIjMzMxmZmYQEBC6uroyMjJERERUVFSYmJgAAADLUcuvAAAAAXRSTlMAQObYZgAAAGpJREFU\n",
       "CNdjYGB4+//u3dMLGIBgDgMDxy8gzf4NiP8CGWxfGRj4vgAZPBMYGJgnARn8FxhY9ygAGfXX0pof\n",
       "gDTlBzAw2YIYJ0EckBBI53sHoBH/gIz7AhBjWH9DjancBLTl/N+7t/cxMAAA3u4f/5xagjYAAAAA\n",
       "SUVORK5CYII=\n",
       "\" style=\"display:inline;vertical-align:middle;\" /></a></td></tr>\n",
       "</table>\n"
      ],
      "text/plain": [
       "0. (A subseteq B) and (A nsupseteq B)\n",
       "   core type: Operation\n",
       "   operator: 1\n",
       "   operands: 2\n",
       "1. and\n",
       "   core type: Literal\n",
       "   sub-expressions: \n",
       "2. (A subseteq B , A nsupseteq B)\n",
       "   core type: ExprTuple\n",
       "   sub-expressions: 3, 4\n",
       "3. A subseteq B\n",
       "   core type: Operation\n",
       "   operator: 5\n",
       "   operands: 7\n",
       "4. A nsupseteq B\n",
       "   core type: Operation\n",
       "   operator: 6\n",
       "   operands: 7\n",
       "5. subseteq\n",
       "   core type: Literal\n",
       "   sub-expressions: \n",
       "6. nsupseteq\n",
       "   core type: Literal\n",
       "   sub-expressions: \n",
       "7. (A , B)\n",
       "   core type: ExprTuple\n",
       "   sub-expressions: 8, 9\n",
       "8. A\n",
       "   core type: Variable\n",
       "   sub-expressions: \n",
       "9. B\n",
       "   core type: Variable\n",
       "   sub-expressions: "
      ]
     },
     "execution_count": 4,
     "metadata": {},
     "output_type": "execute_result"
    }
   ],
   "source": [
    "# display the expression information\n",
    "expr.exprInfo()"
   ]
  },
  {
   "cell_type": "code",
   "execution_count": null,
   "metadata": {},
   "outputs": [],
   "source": []
  }
 ],
 "metadata": {
  "kernelspec": {
   "display_name": "Python 3",
   "language": "python",
   "name": "python3"
  }
 },
 "nbformat": 4,
 "nbformat_minor": 0
}
