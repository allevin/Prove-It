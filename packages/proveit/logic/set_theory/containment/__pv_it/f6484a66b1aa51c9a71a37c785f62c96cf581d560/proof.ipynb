{
 "cells": [
  {
   "cell_type": "markdown",
   "metadata": {},
   "source": [
    "Show the Proof\n",
    "========"
   ]
  },
  {
   "cell_type": "code",
   "execution_count": 1,
   "metadata": {},
   "outputs": [
    {
     "data": {
      "text/html": [
       "<table><tr><th>&nbsp;</th><th>step type</th><th>requirements</th><th>statement</th></tr>\n",
       "<tr><td>0</td><td>assumption</td><td></td><td><span style=\"font-size:20px;\"><a class=\"ProveItLink\" href=\"../d7aa74e9f98a870a4baea1f9d4ecffeb5ecae4830/expr.ipynb\"><img src=\"data:image/png;base64,iVBORw0KGgoAAAANSUhEUgAAAG8AAAAVBAMAAAC6Uq30AAAAMFBMVEX////c3NxERESqqqpUVFS6\n",
       "urrMzMwyMjIQEBCIiIh2dnYiIiLu7u5mZmaYmJgAAABXZE4RAAAAAXRSTlMAQObYZgAAAblJREFU\n",
       "OMtjYGDgu8dAGmBbJQCieHYhC7JOwK+JLwCksxnE5PyALJECobIxtTz57+KiHsBwDcS+DiK4GpCl\n",
       "ayBUPZhk3L179/Y5MKkmBgberwzsIOYKDI2cEJfy7T8AE+F5nQD12U8g/sLAtwCrRg6IBuH7AnAh\n",
       "xo1QMz8CDfzFwNOAVWM4hJowPwAhFgKhmIDquHsYGJSxarwFCdoD9g8QYuwQit+BgbEI6KC1MI28\n",
       "BUga68DkUYZ8pFhhgXgy33PmbZBx5kD8HiSQAXTVbWDw7QbFZytYTQCD/AUMjfMFGHi2AOkIkCOA\n",
       "0iltyFH4FRx+Li7+CgiN3BBKA6QZaGU+iKMOZEQkoGtkBYYukvttIdQXkBMXQDRyg+KEpQBJIzgt\n",
       "GQBlECHGugcSjf+AhL8BxKlgP3JtQNKoB4o4oCw7PB2yXT8Aj0bG70DGc4zoYGOAhPVxUKT9gSW5\n",
       "EgNENGbUMCBFB0o8RjMwCPUXMvDpf7+AmsR59b+4uIMjqxR7khMglBlxJDlwEsYLuCbANPJhy1YM\n",
       "8Gy1e/cmFI3H4fmRZyeyuAghGx1BwQhJYHyLkS0hUHRwJkDLHADE2XRwrcuLAQAAAABJRU5ErkJg\n",
       "gg==\n",
       "\" style=\"display:inline;vertical-align:middle;\" /></a> <a class=\"ProveItLink\" href=\"proof.ipynb\" style=\"text-decoration: none\">&#x22A2;&nbsp;</a><a class=\"ProveItLink\" href=\"../83db08eed61502eac30a181ad08f92051e60d40b0/expr.ipynb\"><img src=\"data:image/png;base64,iVBORw0KGgoAAAANSUhEUgAAAFoAAAAVBAMAAAA0iOSIAAAAMFBMVEX////c3NxERESqqqqYmJgQ\n",
       "EBDu7u4yMjKIiIi6urpUVFTMzMx2dnYiIiJmZmYAAABjE816AAAAAXRSTlMAQObYZgAAAWNJREFU\n",
       "KM9jYCATcDbgl2eZgMzbBaH2Yqrz+r9qlfoEhtfIYmUQqh5MMt69e/d6G0wqiIGB7ycDO5JiDohD\n",
       "WO4nwETYfDdAGNw/gPgXA8sBhGpWiCrh9wJwIcaLUIM+Ak35w8AWgFA9HUI19CN5ZhaEYgIq4w1j\n",
       "YFBGyLyBBEyCvQNCDOpS/gUMjEVAq88hZErAZCbDfqSA5II4fP+KjrcgM8wZ3gI9f/cOkBkJlpjA\n",
       "IP8AQ3W/AAPbLSA9FRHUP8G+X7VqvQJCNS+EUgXpABq+H001JzBsChCq7SDULyD2P4CiOhjEMACa\n",
       "hwgnzmuQ4P4CJNYboLhEBRTAQCH2DzDF3M8T4MHN+B3IcIeKM0CCJx0UuN9gMV9lgAjurWUMKCE4\n",
       "l4FBKL6QgUX/+wPUNMWn/2vVcnD4ViLFvAChJI0c88hpBjvgacBMsQzwFHv37iUU1enIHClCZi9E\n",
       "MY5ATuPYwAAAVwxdBnsjd+4AAAAASUVORK5CYII=\n",
       "\" style=\"display:inline;vertical-align:middle;\" /></a></span></td></tr>\n",
       "</table>"
      ],
      "text/plain": [
       "<proveit._core_.proof._ShowProof at 0x7f94ebe146d8>"
      ]
     },
     "execution_count": 1,
     "metadata": {},
     "output_type": "execute_result"
    }
   ],
   "source": [
    "import proveit\n",
    "%show_proof"
   ]
  },
  {
   "cell_type": "code",
   "execution_count": null,
   "metadata": {},
   "outputs": [],
   "source": []
  }
 ],
 "metadata": {
  "kernelspec": {
   "display_name": "Python 3",
   "language": "python",
   "name": "python3"
  }
 },
 "nbformat": 4,
 "nbformat_minor": 0
}
