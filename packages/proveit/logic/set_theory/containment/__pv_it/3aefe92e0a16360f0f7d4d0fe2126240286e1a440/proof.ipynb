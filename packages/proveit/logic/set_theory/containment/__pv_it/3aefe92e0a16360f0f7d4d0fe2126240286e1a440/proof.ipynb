{
 "cells": [
  {
   "cell_type": "markdown",
   "metadata": {},
   "source": [
    "Show the Proof\n",
    "========"
   ]
  },
  {
   "cell_type": "code",
   "execution_count": 1,
   "metadata": {},
   "outputs": [
    {
     "data": {
      "text/html": [
       "<table><tr><th>&nbsp;</th><th>step type</th><th>requirements</th><th>statement</th></tr>\n",
       "<tr><td>0</td><td>specialization</td><td>1, 2</td><td><span style=\"font-size:20px;\"><a class=\"ProveItLink\" href=\"../e2f315eca95ec781621cadd057af6a4726c23a750/expr.ipynb\"><img src=\"data:image/png;base64,iVBORw0KGgoAAAANSUhEUgAAAE8AAAAVBAMAAAD1D64kAAAAMFBMVEX///9ERETc3NyqqqpUVFS6\n",
       "urrMzMwyMjIQEBCIiIh2dnYiIiLu7u5mZmaYmJgAAABJJ2g3AAAAAXRSTlMAQObYZgAAAUxJREFU\n",
       "KM9jYGDgu8eAH7CtUgBRPLsYCAG2ZhDJ+QHKzcZQwOf/xcWxFMi4DuJxNUCF68Gk9u7duysPQIU4\n",
       "BBgY7gcwMKxAVsi3HybNcG4blJE/AYgd0BQq31eA26kNZc4H0u8XoCmcMD8ArpDVAUJLAPGOA6gK\n",
       "WQ/YP0B4owBCfWFgUJdhgCrkhQgeBTsIBtwgwfJl5tx9IMZ7EJEBsTGAQf8CukLOTwwMp0GuYAdK\n",
       "pbRBNLu4+AsgFG4Ak4xAV3H+A7HEgc6KSAA7ERhoBXB1zBDD+YGm8f0CMriBPmdgAcsbAHkNcIXR\n",
       "kCDNB5rD8hnmRi6QNUxAheywuGTIrUEEo34BA3LwHAe56A80Crc7M8CDka39ALJCxf4iBj757xdQ\n",
       "08TF/y4u5eDARYkZfIA0hXyoCkHJbPduAVSF4PTIs5NwCm+FJMTFxOQZACJZWpjyeXr8AAAAAElF\n",
       "TkSuQmCC\n",
       "\" style=\"display:inline;vertical-align:middle;\" /></a> <a class=\"ProveItLink\" href=\"proof.ipynb\" style=\"text-decoration: none\">&#x22A2;&nbsp;</a><a class=\"ProveItLink\" href=\"../40908107362d41a9b0054973c1b801d402a94b310/expr.ipynb\"><img src=\"data:image/png;base64,iVBORw0KGgoAAAANSUhEUgAAADsAAAARBAMAAACRPMnQAAAAMFBMVEX///+qqqru7u4iIiJ2dnbc\n",
       "3NyIiIjMzMxmZmYQEBC6uroyMjJERERUVFSYmJgAAADLUcuvAAAAAXRSTlMAQObYZgAAAOpJREFU\n",
       "KM9jYGB4+//u3dMLGDBBMYSaw8DA8QvMYttsbGwMV7kfTLJ/A+K/YJaZApJmPnswj+0rkPkFxAoO\n",
       "QDY7sB/M5ZnAwMA8CcS6hWJ1Qj7YGv4LDKx7QOYwbUCW5VKQfwCi66+lNYMZ7BeQpbUY6hNAdH4A\n",
       "A5MtpvQChvgGEH0SpASs3QBJlv3u3fsHQAyQn947gFiNyFYzMHCC3ML+D0jcFwAJKSOFHVCAeQLU\n",
       "26y/wUJMOwpgsqxAae4PUG9XboKaeBsWqNogmU/A0D7/9+7tfeixETN/KwPf+d8NDNQDzcbGyBEK\n",
       "BADsMj//Im/7mAAAAABJRU5ErkJggg==\n",
       "\" style=\"display:inline;vertical-align:middle;\" /></a></span></td></tr>\n",
       "<tr><td>&nbsp;</td><td colspan=4 style=\"text-align:left\"><span style=\"font-size:20px;\"><a class=\"ProveItLink\" href=\"../../../../../__pv_it/2cbe72a7ad6f655694dd697106680215e8489b600/expr.ipynb\"><img src=\"data:image/png;base64,iVBORw0KGgoAAAANSUhEUgAAAA8AAAAOBAMAAAACpFvcAAAALVBMVEX///8QEBBERERUVFS6urqI\n",
       "iIhmZmaqqqrc3Nzu7u6YmJgyMjIiIiLMzMwAAADtIaYWAAAAAXRSTlMAQObYZgAAAFtJREFUCNdj\n",
       "YACBOwxQsA9Kc52bAGG05zVAGAFxDmCaZULdAjBjCsO9ADDDgaEvAUTzGhvbKYCVMDAwbgAxChgY\n",
       "eASANAeQwf0AyJgNxEwvGRia5HYwcOm9TgAA6BoR3jrzwFcAAAAASUVORK5CYII=\n",
       "\" style=\"display:inline;vertical-align:middle;\" /></a> : <a class=\"ProveItLink\" href=\"../../../../../__pv_it/2cbe72a7ad6f655694dd697106680215e8489b600/expr.ipynb\"><img src=\"data:image/png;base64,iVBORw0KGgoAAAANSUhEUgAAAA8AAAAOBAMAAAACpFvcAAAALVBMVEX///8QEBBERERUVFS6urqI\n",
       "iIhmZmaqqqrc3Nzu7u6YmJgyMjIiIiLMzMwAAADtIaYWAAAAAXRSTlMAQObYZgAAAFtJREFUCNdj\n",
       "YACBOwxQsA9Kc52bAGG05zVAGAFxDmCaZULdAjBjCsO9ADDDgaEvAUTzGhvbKYCVMDAwbgAxChgY\n",
       "eASANAeQwf0AyJgNxEwvGRia5HYwcOm9TgAA6BoR3jrzwFcAAAAASUVORK5CYII=\n",
       "\" style=\"display:inline;vertical-align:middle;\" /></a>, <a class=\"ProveItLink\" href=\"../../../../../__pv_it/077b2ff79244fb4582cbe22c6e3356fa92a52f2f0/expr.ipynb\"><img src=\"data:image/png;base64,iVBORw0KGgoAAAANSUhEUgAAABAAAAAOBAMAAADUAYG5AAAAMFBMVEX///+qqqru7u4iIiJ2dnbc\n",
       "3NyIiIjMzMxmZmYQEBC6uroyMjJERERUVFSYmJgAAADLUcuvAAAAAXRSTlMAQObYZgAAAGpJREFU\n",
       "CNdjYGB4+//u3dMLGIBgDgMDxy8gzf4NiP8CGWxfGRj4vgAZPBMYGJgnARn8FxhY9ygAGfXX0pof\n",
       "gDTlBzAw2YIYJ0EckBBI53sHoBH/gIz7AhBjWH9DjancBLTl/N+7t/cxMAAA3u4f/5xagjYAAAAA\n",
       "SUVORK5CYII=\n",
       "\" style=\"display:inline;vertical-align:middle;\" /></a> : <a class=\"ProveItLink\" href=\"../../../../../__pv_it/077b2ff79244fb4582cbe22c6e3356fa92a52f2f0/expr.ipynb\"><img src=\"data:image/png;base64,iVBORw0KGgoAAAANSUhEUgAAABAAAAAOBAMAAADUAYG5AAAAMFBMVEX///+qqqru7u4iIiJ2dnbc\n",
       "3NyIiIjMzMxmZmYQEBC6uroyMjJERERUVFSYmJgAAADLUcuvAAAAAXRSTlMAQObYZgAAAGpJREFU\n",
       "CNdjYGB4+//u3dMLGIBgDgMDxy8gzf4NiP8CGWxfGRj4vgAZPBMYGJgnARn8FxhY9ygAGfXX0pof\n",
       "gDTlBzAw2YIYJ0EckBBI53sHoBH/gIz7AhBjWH9DjancBLTl/N+7t/cxMAAA3u4f/5xagjYAAAAA\n",
       "SUVORK5CYII=\n",
       "\" style=\"display:inline;vertical-align:middle;\" /></a></span></td></tr><tr><td>1</td><td>theorem</td><td></td><td><span style=\"font-size:20px;\"> <a class=\"ProveItLink\" href=\"../../_proofs_/reverseSupsetEq.ipynb\" style=\"text-decoration: none\">&#x22A2;&nbsp;</a><a class=\"ProveItLink\" href=\"../f900d6e35ed96f5b240f39addabce07e8d8c28d90/expr.ipynb\"><img src=\"data:image/png;base64,iVBORw0KGgoAAAANSUhEUgAAALoAAAAXBAMAAABOokjyAAAAMFBMVEX///8QEBC6urrMzMxUVFRm\n",
       "ZmZERETc3NwyMjKqqqp2dnaIiIiYmJgiIiLu7u4AAAAU9Wx4AAAAAXRSTlMAQObYZgAAAtxJREFU\n",
       "SMe1VU1oE0EU/po0uzW72eamp7qCeFFoDoIHkQQNtbcEbCoeSitqih5sDtIqUhoEiR60uSjezEWs\n",
       "F4mgpxy63qoeWg+92AaDKAgSLDZtrdbqm5mdZFKV4FIXZua9efO+eb+zwH/9Kp4197eQmzYwx4hX\n",
       "HsD9MQJI1OI91/4kPULjBPCI0bc9oHcwr9uGgEGb88atcrlsS+kkOwGM0qIPeUAvsSlapBHjriyo\n",
       "MTbfEmcWuAmBvAf0LjZNZ4DZAqPGM6rwyiCxVhjmw7GxcQ/gviybT9N4zY0+2iQtTrMYnQdW0+k3\n",
       "HtAD3OIacPkiI6xs09WV+w4tD4BjwDDfyvH57kqqJ8JP1NNX93nHSKrvjNxl6v5a6dlivYIa3zue\n",
       "ENwD9rr3ml9EPsIwwozQ5NFZG/vS6QvM/+fAE3e3jblurAHV2O/oNiaStOwBQjCYGfiwITyOwbem\n",
       "oluDXOxnRvcB3a4nnQxdIzsMoTentkI8nmBlGCWpE+JpeTzPJaEiAnMqerCa5OtHGgvAABT0TtZR\n",
       "3zh/Sg07uZYV6Fb2IL+vmOaSzxHMZFT0w5roBjMPaxlmTkaGVXGU3Gpf53zVbqCTKBQWkcEwL6Z2\n",
       "16ru0lNeBHX0mHAFehK+76Ue2TOa45b7hKgW63pEguuE3rFExAyNO1z7Baa5aIpyV1HQzbyxJHQK\n",
       "CGZhdsmAJUW5+3e59/l65UvAYqhtiopEGyseaz41wo+do+DkFfRqqn9TvCM2tCSsdRlbsqn/Zzx+\n",
       "w9naCaO7czBHvtLt7H0zGWoggyh3jbS7Iwr6SfiXhRIlMQ/fsgTZ2bLhrLCkDpCuo+egb0KfV+Lu\n",
       "I9N4yX2ibExUMJ6UGi9bogeLLvF+FXpi0b+BqZVUb76BblHdXvrhUDdRxQUnU303m1/gxjdQLqsv\n",
       "sIx/0+9EobUWlumxVrYf38If+gd0XG0hNyJbNpy/oFNk0me39Xfevg0YvwDIULb8gbLMeAAAAABJ\n",
       "RU5ErkJggg==\n",
       "\" style=\"display:inline;vertical-align:middle;\" /></a></span></td></tr>\n",
       "<tr><td>&nbsp;</td><td colspan=4 style-\"text-align:left\"><a class=\"ProveItLink\" href=\"../../_proofs_/reverseSupsetEq.ipynb\">proveit.logic.set_theory.containment.reverseSupsetEq</a></td></tr><tr><td>2</td><td>assumption</td><td></td><td><span style=\"font-size:20px;\"><a class=\"ProveItLink\" href=\"../e2f315eca95ec781621cadd057af6a4726c23a750/expr.ipynb\"><img src=\"data:image/png;base64,iVBORw0KGgoAAAANSUhEUgAAAE8AAAAVBAMAAAD1D64kAAAAMFBMVEX///9ERETc3NyqqqpUVFS6\n",
       "urrMzMwyMjIQEBCIiIh2dnYiIiLu7u5mZmaYmJgAAABJJ2g3AAAAAXRSTlMAQObYZgAAAUxJREFU\n",
       "KM9jYGDgu8eAH7CtUgBRPLsYCAG2ZhDJ+QHKzcZQwOf/xcWxFMi4DuJxNUCF68Gk9u7duysPQIU4\n",
       "BBgY7gcwMKxAVsi3HybNcG4blJE/AYgd0BQq31eA26kNZc4H0u8XoCmcMD8ArpDVAUJLAPGOA6gK\n",
       "WQ/YP0B4owBCfWFgUJdhgCrkhQgeBTsIBtwgwfJl5tx9IMZ7EJEBsTGAQf8CukLOTwwMp0GuYAdK\n",
       "pbRBNLu4+AsgFG4Ak4xAV3H+A7HEgc6KSAA7ERhoBXB1zBDD+YGm8f0CMriBPmdgAcsbAHkNcIXR\n",
       "kCDNB5rD8hnmRi6QNUxAheywuGTIrUEEo34BA3LwHAe56A80Crc7M8CDka39ALJCxf4iBj757xdQ\n",
       "08TF/y4u5eDARYkZfIA0hXyoCkHJbPduAVSF4PTIs5NwCm+FJMTFxOQZACJZWpjyeXr8AAAAAElF\n",
       "TkSuQmCC\n",
       "\" style=\"display:inline;vertical-align:middle;\" /></a> <a class=\"ProveItLink\" href=\"../934aef3ad3adf3e3d786c7be8f4832e920885e580/proof.ipynb\" style=\"text-decoration: none\">&#x22A2;&nbsp;</a><a class=\"ProveItLink\" href=\"../5e6face9deb8f4990d49930649fd84e604ecfa3c0/expr.ipynb\"><img src=\"data:image/png;base64,iVBORw0KGgoAAAANSUhEUgAAADsAAAARBAMAAACRPMnQAAAAMFBMVEX///92dnYQEBBERERUVFS6\n",
       "urqIiIhmZmaqqqrc3Nzu7u6YmJgyMjIiIiLMzMwAAACFkkdwAAAAAXRSTlMAQObYZgAAAO9JREFU\n",
       "KM9jYACBtwzogNv/i4vzUSjnPJice/fu3WMLoEJMBgwM9QEQpfdhggyr70EZ7xOA2AHMnFE/AW7q\n",
       "XCgzH0jvFwAzE/ID4NKsEB0MRkB8CWwo64L+DQhHHYBQXxgY5liBWUvBFsGAH5jk+5KWfhsiEMAw\n",
       "vwBdmu0nA8NasD18Li7+BgjpC2CSWQGo5DfYaqAnD8BlOSAG8QN1cn8EsRoYGHgV4NKxkCB4D3Qs\n",
       "yw8ggxMozfMBJvv8FMLb80FmrgHZ9AsaqHc8GODe5tMBGjRZ/yQDt/2fAtQYKf7v4nJmAwMVAShC\n",
       "7941QBYCAC8bRZFIybTAAAAAAElFTkSuQmCC\n",
       "\" style=\"display:inline;vertical-align:middle;\" /></a></span></td></tr>\n",
       "</table>"
      ],
      "text/plain": [
       "<proveit._core_.proof._ShowProof at 0x7f94eb32f128>"
      ]
     },
     "execution_count": 1,
     "metadata": {},
     "output_type": "execute_result"
    }
   ],
   "source": [
    "import proveit\n",
    "%show_proof"
   ]
  },
  {
   "cell_type": "code",
   "execution_count": null,
   "metadata": {},
   "outputs": [],
   "source": []
  }
 ],
 "metadata": {
  "kernelspec": {
   "display_name": "Python 3",
   "language": "python",
   "name": "python3"
  }
 },
 "nbformat": 4,
 "nbformat_minor": 0
}
