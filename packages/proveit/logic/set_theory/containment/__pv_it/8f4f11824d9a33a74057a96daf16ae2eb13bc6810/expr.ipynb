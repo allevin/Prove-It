{
 "cells": [
  {
   "cell_type": "markdown",
   "metadata": {},
   "source": [
    "Expression of type <a class=\"ProveItLink\" href=\"../../../../../../../doc/html/api/proveit.Lambda.html\">Lambda</a>\n",
    "=======================\n",
    "# from context <a class=\"ProveItLink\" href=\"../../_context_.ipynb\">proveit.logic.set_theory.containment</a>"
   ]
  },
  {
   "cell_type": "code",
   "execution_count": 1,
   "metadata": {},
   "outputs": [],
   "source": [
    "# import Expression classes needed to build the expression\n",
    "from proveit import Lambda, Variable\n",
    "from proveit._common_ import A, B\n",
    "from proveit.logic import InSet"
   ]
  },
  {
   "cell_type": "code",
   "execution_count": 2,
   "metadata": {},
   "outputs": [
    {
     "data": {
      "text/html": [
       "<strong id=\"expr\">expr:</strong> <a class=\"ProveItLink\" href=\"expr.ipynb\"><img src=\"data:image/png;base64,iVBORw0KGgoAAAANSUhEUgAAARAAAAAVCAMAAAC5bkEgAAAANlBMVEX///+6uroUFBQNDQ0yMjLM\n",
       "zMwQEBAiIiKYmJhmZmZUVFSIiIh2dnbc3Nzu7u5ERESqqqoAAADqmkP9AAAAAXRSTlMAQObYZgAA\n",
       "Ai1JREFUWMPVWNlyhCAQhGRAbpj//9mIR6LrILjBrZIXqzy6h54TGXviSv4ZdnJ7B6rih1uOP0IP\n",
       "YXpJYBDNuCJMG9fiM4KIoTMghG5QMk4XjdPO4TOCAPbFs/0SRqBdrlPQKfcJQdSAoSugfAsuWBjG\n",
       "tQ8Ci3PVVDhJEWRPQUhGxnzS2LVWc3grFkAROsZFgWEROaZ+gtCMoxNGNxCw3lnjk9V0+O/3nHZm\n",
       "akd9cY7HfCSNmzPFw/rU6WZBKoQlRsYDS6iO4eRyLikm6YL7ctdssUFR4XmOx6KnS4ix1urhFzFB\n",
       "qyA1wgIjC/yvcu2YpgQeLRAtggSzQZeUkRW8EOnyPCdzGNY+zmWrIBXCEiPLgB718f3s91iMx++v\n",
       "YbfkJuuoBKzhcbkiAVVC7BrDApsj5JywxCjy2GOQ/lCW2+drHJqNYVgy8gSvMMrhcntpMlcEqRCW\n",
       "GGc8SfYFj2JRuiqI3uajTIUqdoIXBrqELIFhMF1NmQphgTGtTe04nPgpA5ltEUTsPBGpolrBY0aV\n",
       "S8i4s9Vjqrmo1ghJRp9Ko2puPDmBfSHo7CFfN0ZqQvkK3ugwXpxChPw9CzS33SohxRhWuWMeVVNc\n",
       "V8g12LrgnJ1U3D1pGMzm8LmI5+H16KbjfLKDTR8HXhbk6gZeGX2UCDkk1UgMuufo/t7gmwwQg/Te\n",
       "hV1H9xbGPocjdxeys8/8HwLhHtzwoeN/9+XNPbjGP1SQk9r+r/8sxync3ifID3WBGg7XoMQwAAAA\n",
       "AElFTkSuQmCC\n",
       "\" style=\"display:inline;vertical-align:middle;\" /></a><br>"
      ],
      "text/plain": [
       "expr: _x_ -> (_x_ in B) | _x_ in A"
      ]
     },
     "execution_count": 2,
     "metadata": {},
     "output_type": "execute_result"
    }
   ],
   "source": [
    "# build up the expression from sub-expressions\n",
    "subExpr1 = Variable(\"_x_\", latexFormat = r\"{_{-}x_{-}}\")\n",
    "expr = Lambda(subExpr1, InSet(subExpr1, B), conditions = [InSet(subExpr1, A)])"
   ]
  },
  {
   "cell_type": "code",
   "execution_count": 3,
   "metadata": {},
   "outputs": [
    {
     "name": "stdout",
     "output_type": "stream",
     "text": [
      "Passed sanity check: built 'expr' is the same as the stored Expression.\n"
     ]
    }
   ],
   "source": [
    "# check that the built expression is the same as the stored expression\n",
    "%check_expr"
   ]
  },
  {
   "cell_type": "code",
   "execution_count": 4,
   "metadata": {},
   "outputs": [
    {
     "data": {
      "text/html": [
       "<table><tr><th>&nbsp;</th><th>core type</th><th>sub-expressions</th><th>expression</th></tr>\n",
       "<tr><td>0</td><td>Lambda</td><td>parameter:&nbsp;8<br>body:&nbsp;1<br>conditions:&nbsp;2<br></td><td><a class=\"ProveItLink\" href=\"expr.ipynb\"><img src=\"data:image/png;base64,iVBORw0KGgoAAAANSUhEUgAAARAAAAAVCAMAAAC5bkEgAAAANlBMVEX///+6uroUFBQNDQ0yMjLM\n",
       "zMwQEBAiIiKYmJhmZmZUVFSIiIh2dnbc3Nzu7u5ERESqqqoAAADqmkP9AAAAAXRSTlMAQObYZgAA\n",
       "Ai1JREFUWMPVWNlyhCAQhGRAbpj//9mIR6LrILjBrZIXqzy6h54TGXviSv4ZdnJ7B6rih1uOP0IP\n",
       "YXpJYBDNuCJMG9fiM4KIoTMghG5QMk4XjdPO4TOCAPbFs/0SRqBdrlPQKfcJQdSAoSugfAsuWBjG\n",
       "tQ8Ci3PVVDhJEWRPQUhGxnzS2LVWc3grFkAROsZFgWEROaZ+gtCMoxNGNxCw3lnjk9V0+O/3nHZm\n",
       "akd9cY7HfCSNmzPFw/rU6WZBKoQlRsYDS6iO4eRyLikm6YL7ctdssUFR4XmOx6KnS4ix1urhFzFB\n",
       "qyA1wgIjC/yvcu2YpgQeLRAtggSzQZeUkRW8EOnyPCdzGNY+zmWrIBXCEiPLgB718f3s91iMx++v\n",
       "YbfkJuuoBKzhcbkiAVVC7BrDApsj5JywxCjy2GOQ/lCW2+drHJqNYVgy8gSvMMrhcntpMlcEqRCW\n",
       "GGc8SfYFj2JRuiqI3uajTIUqdoIXBrqELIFhMF1NmQphgTGtTe04nPgpA5ltEUTsPBGpolrBY0aV\n",
       "S8i4s9Vjqrmo1ghJRp9Ko2puPDmBfSHo7CFfN0ZqQvkK3ugwXpxChPw9CzS33SohxRhWuWMeVVNc\n",
       "V8g12LrgnJ1U3D1pGMzm8LmI5+H16KbjfLKDTR8HXhbk6gZeGX2UCDkk1UgMuufo/t7gmwwQg/Te\n",
       "hV1H9xbGPocjdxeys8/8HwLhHtzwoeN/9+XNPbjGP1SQk9r+r/8sxync3ifID3WBGg7XoMQwAAAA\n",
       "AElFTkSuQmCC\n",
       "\" style=\"display:inline;vertical-align:middle;\" /></a></td></tr>\n",
       "<tr><td>1</td><td>Operation</td><td>operator:&nbsp;6<br>operands:&nbsp;3<br></td><td><a class=\"ProveItLink\" href=\"../47297b4e8b7541298f3f6f6f81bf455b8f53930b0/expr.ipynb\"><img src=\"data:image/png;base64,iVBORw0KGgoAAAANSUhEUgAAAFAAAAAPBAMAAACB51W8AAAAMFBMVEX///+6uroyMjLMzMwQEBAi\n",
       "IiKYmJhmZmZUVFSIiIh2dnbc3Nzu7u5ERESqqqoAAABZrPngAAAAAXRSTlMAQObYZgAAAONJREFU\n",
       "KM9jYCAIMv53dFwSYCAC+DIwsH8kQh3zTyD+gVP6pGpoEITF+ZuBge0XTmPUDsCYvA4MDKw+MB73\n",
       "yu6XlUgK98LVMfA3MHDrwrmnGFITXJEU3kYw7TtnlibAeQsY5jM8RkjyXECw529g4ImA8w4w9CI7\n",
       "kdE1NBTmmSsgxQgjGTxR/NKAYINCJn8BnMv9mYEHyeoAhJ5vQKL/AYybzfmBYQ6SkW1wFigYuT/B\n",
       "eHzfeB24JyApPCqAHIwmOgwMb+8CwQGem2tWTYNxwC5RN4CoY7//o6NJDU8M8zXBfA0BANCdP/hH\n",
       "ZIY4AAAAAElFTkSuQmCC\n",
       "\" style=\"display:inline;vertical-align:middle;\" /></a></td></tr>\n",
       "<tr><td>2</td><td>ExprTuple</td><td>4</td><td><a class=\"ProveItLink\" href=\"../890136e165d87ea2d54216c2992af22efc0462c80/expr.ipynb\"><img src=\"data:image/png;base64,iVBORw0KGgoAAAANSUhEUgAAAF4AAAAVBAMAAAA9Y0TyAAAAMFBMVEX////c3NwiIiJERESqqqqY\n",
       "mJh2dnZmZmYQEBDu7u4yMjJUVFTMzMyIiIi6uroAAAAs73DqAAAAAXRSTlMAQObYZgAAATxJREFU\n",
       "KM9jYCAV8F0gWinrAyBxmkjFh4C4BohXEql+PRBzMTDwEukcVv0JQCKBgWMCbjVzFylpwdgi9QIM\n",
       "DJwNDK9wK+dZimTWhfsgz5owlCGExG6LXEd2nTCScr4J/gFAKp1hKVyIM4FVlUMBSb0hEnsew3mQ\n",
       "UV4MfXAhNgbeDywHEEo4DZDUP2CQLwBSLxj+IeQZuA1QIrJJSQnmX57du/eDJM8jqWdg4EAJW54N\n",
       "SHqBkgvA6luQVMgfYEDyIieSXxwYGJgawO4xRcSIwH0GXuTY2ApnMQLVc30AMqKAIQQD/gEWDLLI\n",
       "Dpr0AMaaBcTMP8Hh+YiBgcUYCCwZJl+blhsA44BNXQ4NLeH+hQys9r+AAbSOgUMAdwSz7EKkB4iX\n",
       "GkBJiHjAdoH49AzzhzQJ6jeCfEV8fuQ9wAAAcvdFe5WMkQMAAAAASUVORK5CYII=\n",
       "\" style=\"display:inline;vertical-align:middle;\" /></a></td></tr>\n",
       "<tr><td>3</td><td>ExprTuple</td><td>8, 5</td><td><a class=\"ProveItLink\" href=\"../23c53093396252c389f57d1209d46d61c3debcfa0/expr.ipynb\"><img src=\"data:image/png;base64,iVBORw0KGgoAAAANSUhEUgAAAE4AAAAVBAMAAAAazcUaAAAAMFBMVEX////c3NwiIiJERESqqqqY\n",
       "mJh2dnZmZmYQEBDu7u4yMjJUVFTMzMyIiIi6uroAAAAs73DqAAAAAXRSTlMAQObYZgAAAS5JREFU\n",
       "KM9jYCAW8F0gqIT1AZA4jU/B/t+7N69jYKgBslfiM4nDgIGh/gEDFwMDL15rzwNlz29gYE1g4JiA\n",
       "T919AQaG+AQGzgaGV3h9YAHEGkCTTBjKEIJit0Wuo7niNwODlCWQTmdYChfjTGBV5VBAUcbz++51\n",
       "VRDDi6EPLsjGwPuB5QCKOt6PDAyTNgAZLxj+Icxj4DZAcx5zA1DtV5C/kdQBQws9jPiBZrF+A6tr\n",
       "QRKWP8CAGkrnAxgYuL+A7TVFRJLAfQZeuLoJsOCTXwBkRAF9DAP+ARYMsnDHfoIGH0/XBHC4PGJg\n",
       "YDEGAkuGydem5QbAOJz9QKOK/+/evSoApGEdA4cAjuSGLA6MN2AUY09SyBy2CzjTFYq6WUAsjV0d\n",
       "SlBuBGJGwume9wADAOC4SBsAwTlPAAAAAElFTkSuQmCC\n",
       "\" style=\"display:inline;vertical-align:middle;\" /></a></td></tr>\n",
       "<tr><td>4</td><td>Operation</td><td>operator:&nbsp;6<br>operands:&nbsp;7<br></td><td><a class=\"ProveItLink\" href=\"../7fec61f1ace9f9c910b3bc9c923777d3ed281f360/expr.ipynb\"><img src=\"data:image/png;base64,iVBORw0KGgoAAAANSUhEUgAAAFAAAAAPBAMAAACB51W8AAAAMFBMVEX///+6uroyMjLMzMwQEBAi\n",
       "IiKYmJhmZmZUVFSIiIh2dnbc3Nzu7u5ERESqqqoAAABZrPngAAAAAXRSTlMAQObYZgAAAM5JREFU\n",
       "KM9jYCAGMAcwEAeYPhCpMPUPbjmeSaGhClA29/PfuBUa5SDYnJwf4Wzuld0vK5HUcd9B4sjwfYOz\n",
       "TzGkJrgiyfFuQHKFAPNPOGcBw3yGx0gKzyKxGRm4v8M5Bxh6UZwoEhoK94xFR8dfJClPFIUWSGwB\n",
       "BgYnJNd/ZuBBkjyKYPIBcQicl835gWEOkkKOBDhzHxDrw3V943XgnoAc3oFwFsil9w8wvL0LBAd4\n",
       "bq5ZNY0BygHLbyqGOunKpw0Muf/VcUfNC1V4FIIAAIBtNzUGvhA2AAAAAElFTkSuQmCC\n",
       "\" style=\"display:inline;vertical-align:middle;\" /></a></td></tr>\n",
       "<tr><td>5</td><td>Variable</td><td></td><td><a class=\"ProveItLink\" href=\"../../../../../__pv_it/077b2ff79244fb4582cbe22c6e3356fa92a52f2f0/expr.ipynb\"><img src=\"data:image/png;base64,iVBORw0KGgoAAAANSUhEUgAAABAAAAAOBAMAAADUAYG5AAAAMFBMVEX///+qqqru7u4iIiJ2dnbc\n",
       "3NyIiIjMzMxmZmYQEBC6uroyMjJERERUVFSYmJgAAADLUcuvAAAAAXRSTlMAQObYZgAAAGpJREFU\n",
       "CNdjYGB4+//u3dMLGIBgDgMDxy8gzf4NiP8CGWxfGRj4vgAZPBMYGJgnARn8FxhY9ygAGfXX0pof\n",
       "gDTlBzAw2YIYJ0EckBBI53sHoBH/gIz7AhBjWH9DjancBLTl/N+7t/cxMAAA3u4f/5xagjYAAAAA\n",
       "SUVORK5CYII=\n",
       "\" style=\"display:inline;vertical-align:middle;\" /></a></td></tr>\n",
       "<tr><td>6</td><td>Literal</td><td></td><td><a class=\"ProveItLink\" href=\"../../../membership/__pv_it/088cbc857536a28d4119ad9639a84270ccb0545d0/expr.ipynb\"><img src=\"data:image/png;base64,iVBORw0KGgoAAAANSUhEUgAAAAwAAAAMBAMAAACkW0HUAAAALVBMVEX///+qqqpmZmZUVFQQEBC6\n",
       "urpERETc3NyYmJjMzMwiIiIyMjKIiIju7u4AAACYsrA9AAAAAXRSTlMAQObYZgAAADxJREFUCNdj\n",
       "YOA9vWrVBgaG2b0MQMCeCyIZ2ArA1DUwyRCyahVIyWQI7xaEYm4AU7xLIdxqTQgtvGvVBgCkcQ7e\n",
       "geM/tQAAAABJRU5ErkJggg==\n",
       "\" style=\"display:inline;vertical-align:middle;\" /></a></td></tr>\n",
       "<tr><td>7</td><td>ExprTuple</td><td>8, 9</td><td><a class=\"ProveItLink\" href=\"../e3e058d75a8d02117b8366ee45b4f81a2986618f0/expr.ipynb\"><img src=\"data:image/png;base64,iVBORw0KGgoAAAANSUhEUgAAAE0AAAAVBAMAAADx+n4ZAAAAMFBMVEX////c3NwiIiJERESqqqqY\n",
       "mJh2dnZmZmYQEBDu7u4yMjJUVFTMzMyIiIi6uroAAAAs73DqAAAAAXRSTlMAQObYZgAAAR5JREFU\n",
       "KM9jYCAW8F0gqCQORJzGr4ZHgYGB/QCQsRK/Oq4PQGIBAwMvAWuDfgKJMAYGjgl4lTG6fwSSMxgY\n",
       "XuE3jpf3H5BkdmAoQ4iJ3Ra5ju6KlyxfgSRbAcNSuBBnAqsqhwKqMs4HPH+BFMsChj64GBsD7weW\n",
       "A2iBy8D4HUQ1MPxD6GXgNkB33unduz+DAvEDkjqg3zHC6AEDQxdEXQuSqPwBBtRQYgFiDYi9pnBB\n",
       "VoH7DLxwdWCGCBCvB0ktYEiHq/MPsGCQhTv2E4gAxheD/QRwuDwCmm4MBJYMk69Nyw2AcTj7BRgY\n",
       "LX4JMAT/Xw6M5AcMHAI4khuyODDeWBOwq2NF5uTiTlfI6sDulMauDjkouUFuYCSc7u8wMAAAf1M+\n",
       "TbetYTsAAAAASUVORK5CYII=\n",
       "\" style=\"display:inline;vertical-align:middle;\" /></a></td></tr>\n",
       "<tr><td>8</td><td>Variable</td><td></td><td><a class=\"ProveItLink\" href=\"../5144cf74ae6a683b49b974f1b9302b432abf7e930/expr.ipynb\"><img src=\"data:image/png;base64,iVBORw0KGgoAAAANSUhEUgAAACUAAAAJBAMAAABH3vh9AAAAKlBMVEX////MzMwQEBAiIiKYmJhm\n",
       "ZmZUVFSIiIh2dnbc3Nzu7u5ERESqqqoAAABwkVEpAAAAAXRSTlMAQObYZgAAAEtJREFUCNdjYIAA\n",
       "zvbM4+EMqGAFg7ODMppYA0Mtw0E0sQUM2QyYQB1TiPMiAxeakCf7BYYqVCGeK9wKnAUw3undQLCA\n",
       "a3tXRwmMAwC3+RVNp6j0GAAAAABJRU5ErkJggg==\n",
       "\" style=\"display:inline;vertical-align:middle;\" /></a></td></tr>\n",
       "<tr><td>9</td><td>Variable</td><td></td><td><a class=\"ProveItLink\" href=\"../../../../../__pv_it/2cbe72a7ad6f655694dd697106680215e8489b600/expr.ipynb\"><img src=\"data:image/png;base64,iVBORw0KGgoAAAANSUhEUgAAAA8AAAAOBAMAAAACpFvcAAAALVBMVEX///8QEBBERERUVFS6urqI\n",
       "iIhmZmaqqqrc3Nzu7u6YmJgyMjIiIiLMzMwAAADtIaYWAAAAAXRSTlMAQObYZgAAAFtJREFUCNdj\n",
       "YACBOwxQsA9Kc52bAGG05zVAGAFxDmCaZULdAjBjCsO9ADDDgaEvAUTzGhvbKYCVMDAwbgAxChgY\n",
       "eASANAeQwf0AyJgNxEwvGRia5HYwcOm9TgAA6BoR3jrzwFcAAAAASUVORK5CYII=\n",
       "\" style=\"display:inline;vertical-align:middle;\" /></a></td></tr>\n",
       "</table>\n"
      ],
      "text/plain": [
       "0. _x_ -> (_x_ in B) | _x_ in A\n",
       "   core type: Lambda\n",
       "   parameter: 8\n",
       "   body: 1\n",
       "   conditions: 2\\n1. _x_ in B\n",
       "   core type: Operation\n",
       "   operator: 6\n",
       "   operands: 3\n",
       "2. (_x_ in A)\n",
       "   core type: ExprTuple\n",
       "   sub-expressions: 4\n",
       "3. (_x_ , B)\n",
       "   core type: ExprTuple\n",
       "   sub-expressions: 8, 5\n",
       "4. _x_ in A\n",
       "   core type: Operation\n",
       "   operator: 6\n",
       "   operands: 7\n",
       "5. B\n",
       "   core type: Variable\n",
       "   sub-expressions: \n",
       "6. in\n",
       "   core type: Literal\n",
       "   sub-expressions: \n",
       "7. (_x_ , A)\n",
       "   core type: ExprTuple\n",
       "   sub-expressions: 8, 9\n",
       "8. _x_\n",
       "   core type: Variable\n",
       "   sub-expressions: \n",
       "9. A\n",
       "   core type: Variable\n",
       "   sub-expressions: "
      ]
     },
     "execution_count": 4,
     "metadata": {},
     "output_type": "execute_result"
    }
   ],
   "source": [
    "# display the expression information\n",
    "expr.exprInfo()"
   ]
  },
  {
   "cell_type": "code",
   "execution_count": null,
   "metadata": {},
   "outputs": [],
   "source": []
  }
 ],
 "metadata": {
  "kernelspec": {
   "display_name": "Python 3",
   "language": "python",
   "name": "python3"
  }
 },
 "nbformat": 4,
 "nbformat_minor": 0
}
