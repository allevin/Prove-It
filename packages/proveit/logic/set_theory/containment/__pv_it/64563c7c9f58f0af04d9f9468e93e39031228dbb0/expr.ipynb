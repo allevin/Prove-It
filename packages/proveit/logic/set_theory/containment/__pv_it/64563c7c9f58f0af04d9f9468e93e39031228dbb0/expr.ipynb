{
 "cells": [
  {
   "cell_type": "markdown",
   "metadata": {},
   "source": [
    "Expression of type <a class=\"ProveItLink\" href=\"../../../../../../../doc/html/api/proveit.ExprTuple.html\">ExprTuple</a>\n",
    "=======================\n",
    "# from context <a class=\"ProveItLink\" href=\"../../_context_.ipynb\">proveit.logic.set_theory.containment</a>"
   ]
  },
  {
   "cell_type": "code",
   "execution_count": 1,
   "metadata": {},
   "outputs": [],
   "source": [
    "# import Expression classes needed to build the expression\n",
    "from proveit import ExprTuple\n",
    "from proveit._common_ import A, B\n",
    "from proveit.logic import And, NotSubsetEq, Superset, SupersetEq"
   ]
  },
  {
   "cell_type": "code",
   "execution_count": 2,
   "metadata": {},
   "outputs": [
    {
     "data": {
      "text/html": [
       "<strong id=\"expr\">expr:</strong> <a class=\"ProveItLink\" href=\"expr.ipynb\"><img src=\"data:image/png;base64,iVBORw0KGgoAAAANSUhEUgAAAQEAAAAYBAMAAAAIbFUpAAAAMFBMVEX////c3NwiIiJERESqqqqY\n",
       "mJh2dnZmZmYQEBDu7u4yMjJUVFTMzMyIiIi6uroAAAAs73DqAAAAAXRSTlMAQObYZgAAA4NJREFU\n",
       "SMfFVk1IVFEUPm9+nL83z6HcZIT2ICgrkiiwNrpKaJMUuChIN+EqEPtZRKFRi3KRgxCEixiLiEmy\n",
       "iVo1lkObAhcjbdokDq76IVD7wxnS7j3n3Pd8Pzau9MKZd++d73z33Pvde+4F2MBSgs0ujf7dxvS6\n",
       "vKvBwp4JfvdAuh3Ns2wwRe23XtIzK/n8UUW8Jiw8Wcm/GAe46urXc/SxJx5PO3gjBUCDLHU/85nX\n",
       "DQFZ5roDtsU0zafMB9FmgP4SxLm5zTlefJ6ayQfmLbPk4M0AWpJWN3wg7QlA/yuswgQe2N19XCmK\n",
       "v4o5a40fc/cMfU4uEdf+NEy4eDsBLUqUdf0pVFtMrkkpnlwQQ/7miTpgtBBcnRXfrm6IDRD9QY7x\n",
       "Nv5q7QsKHMu4eO8B2lfqnZ61dlLsQ4EqQcEZICIfGBgkNLQI2y2GPYStxHeagEHjJZMk4xtR7QAn\n",
       "b7AN7TLh0yc6LGptJ31rc6A95Bn5wIDnJNaz/oj49mBrhM9chET5EvqFsxLYgPJTvDW9aI+w8z6q\n",
       "qco3Fvj1TJ8a0A9GuuqVmY+7ZOU4Ns/BRdqB6BkrSdHpYBxTfoo3lEG7w9mqodemDlgCx/Zylx9s\n",
       "wlJ1WArymbNOPW0clMsA7Y+KYFT5KV5jAA1l0vP5yWabOlGwBJ7lRfCDNVqqJuVSF/GwTLN3LUYw\n",
       "lc//YKxueSpefR5tmUKFaMYTgTyIXd2rInDCQr1KVToxGEEgzamIIhA/g4i6BBFrDytejuCm7BOb\n",
       "MjDgVkGXE5tsoy4f2Bxt0qKYTeKnUqEdeLmj0jEkjwmihkvDVppRvKzCYbn52+zcpWhIYK0MgAN5\n",
       "Ye+ydjpokCtzGnh0dA9K+eqsLBobuwar0oHkhXAGrQdPkPBYsg/6Hkvg91mILQIfNRsmsnLTS1tV\n",
       "fTDNEBQbl1AeNcxBrbRURlkku9IqXus0zgFsHRqFcGtZ7XL9CvpEWiv5V+IQxoZk7vPCuFwQ18wT\n",
       "3K7jcgeVVAY3GkFrKafg1AqlaUP5KV6xniW0aMpxB4tAx1z3rCERTphfwaxs2C+R686/gwWPB2dl\n",
       "16Xtd/P73O0+pcb1gOh0Nuu9HufZsuuKwAmTt7NpNjtgIy63uOOy7Vs01T6wFi3DO2V7tQhoblVh\n",
       "z11tLVflhZZIkYG2vldaNVjSo/OO/7zQZPnEtkElnt7sZ7K25j//ANHZFyZf7B1hAAAAAElFTkSu\n",
       "QmCC\n",
       "\" style=\"display:inline;vertical-align:middle;\" /></a><br>"
      ],
      "text/plain": [
       "expr: (A supset B , (A supseteq B) and (A nsubseteq B))"
      ]
     },
     "execution_count": 2,
     "metadata": {},
     "output_type": "execute_result"
    }
   ],
   "source": [
    "# build up the expression from sub-expressions\n",
    "expr = ExprTuple(Superset(A, B), And(SupersetEq(A, B), NotSubsetEq(A, B)))"
   ]
  },
  {
   "cell_type": "code",
   "execution_count": 3,
   "metadata": {},
   "outputs": [
    {
     "name": "stdout",
     "output_type": "stream",
     "text": [
      "Passed sanity check: built 'expr' is the same as the stored Expression.\n"
     ]
    }
   ],
   "source": [
    "# check that the built expression is the same as the stored expression\n",
    "%check_expr"
   ]
  },
  {
   "cell_type": "code",
   "execution_count": 4,
   "metadata": {},
   "outputs": [
    {
     "data": {
      "text/html": [
       "<table><tr><th>&nbsp;</th><th>core type</th><th>sub-expressions</th><th>expression</th></tr>\n",
       "<tr><td>0</td><td>ExprTuple</td><td>1, 2</td><td><a class=\"ProveItLink\" href=\"expr.ipynb\"><img src=\"data:image/png;base64,iVBORw0KGgoAAAANSUhEUgAAAQEAAAAYBAMAAAAIbFUpAAAAMFBMVEX////c3NwiIiJERESqqqqY\n",
       "mJh2dnZmZmYQEBDu7u4yMjJUVFTMzMyIiIi6uroAAAAs73DqAAAAAXRSTlMAQObYZgAAA4NJREFU\n",
       "SMfFVk1IVFEUPm9+nL83z6HcZIT2ICgrkiiwNrpKaJMUuChIN+EqEPtZRKFRi3KRgxCEixiLiEmy\n",
       "iVo1lkObAhcjbdokDq76IVD7wxnS7j3n3Pd8Pzau9MKZd++d73z33Pvde+4F2MBSgs0ujf7dxvS6\n",
       "vKvBwp4JfvdAuh3Ns2wwRe23XtIzK/n8UUW8Jiw8Wcm/GAe46urXc/SxJx5PO3gjBUCDLHU/85nX\n",
       "DQFZ5roDtsU0zafMB9FmgP4SxLm5zTlefJ6ayQfmLbPk4M0AWpJWN3wg7QlA/yuswgQe2N19XCmK\n",
       "v4o5a40fc/cMfU4uEdf+NEy4eDsBLUqUdf0pVFtMrkkpnlwQQ/7miTpgtBBcnRXfrm6IDRD9QY7x\n",
       "Nv5q7QsKHMu4eO8B2lfqnZ61dlLsQ4EqQcEZICIfGBgkNLQI2y2GPYStxHeagEHjJZMk4xtR7QAn\n",
       "b7AN7TLh0yc6LGptJ31rc6A95Bn5wIDnJNaz/oj49mBrhM9chET5EvqFsxLYgPJTvDW9aI+w8z6q\n",
       "qco3Fvj1TJ8a0A9GuuqVmY+7ZOU4Ns/BRdqB6BkrSdHpYBxTfoo3lEG7w9mqodemDlgCx/Zylx9s\n",
       "wlJ1WArymbNOPW0clMsA7Y+KYFT5KV5jAA1l0vP5yWabOlGwBJ7lRfCDNVqqJuVSF/GwTLN3LUYw\n",
       "lc//YKxueSpefR5tmUKFaMYTgTyIXd2rInDCQr1KVToxGEEgzamIIhA/g4i6BBFrDytejuCm7BOb\n",
       "MjDgVkGXE5tsoy4f2Bxt0qKYTeKnUqEdeLmj0jEkjwmihkvDVppRvKzCYbn52+zcpWhIYK0MgAN5\n",
       "Ye+ydjpokCtzGnh0dA9K+eqsLBobuwar0oHkhXAGrQdPkPBYsg/6Hkvg91mILQIfNRsmsnLTS1tV\n",
       "fTDNEBQbl1AeNcxBrbRURlkku9IqXus0zgFsHRqFcGtZ7XL9CvpEWiv5V+IQxoZk7vPCuFwQ18wT\n",
       "3K7jcgeVVAY3GkFrKafg1AqlaUP5KV6xniW0aMpxB4tAx1z3rCERTphfwaxs2C+R686/gwWPB2dl\n",
       "16Xtd/P73O0+pcb1gOh0Nuu9HufZsuuKwAmTt7NpNjtgIy63uOOy7Vs01T6wFi3DO2V7tQhoblVh\n",
       "z11tLVflhZZIkYG2vldaNVjSo/OO/7zQZPnEtkElnt7sZ7K25j//ANHZFyZf7B1hAAAAAElFTkSu\n",
       "QmCC\n",
       "\" style=\"display:inline;vertical-align:middle;\" /></a></td></tr>\n",
       "<tr><td>1</td><td>Operation</td><td>operator:&nbsp;3<br>operands:&nbsp;10<br></td><td><a class=\"ProveItLink\" href=\"../113f37a984480f946e743e317867bb10f7bce0800/expr.ipynb\"><img src=\"data:image/png;base64,iVBORw0KGgoAAAANSUhEUgAAADsAAAAPBAMAAACo4Ko7AAAAMFBMVEX///92dnYQEBBERERUVFS6\n",
       "urqIiIhmZmaqqqrc3Nzu7u6YmJgyMjIiIiLMzMwAAACFkkdwAAAAAXRSTlMAQObYZgAAAOVJREFU\n",
       "GNNjYACBtwzogNv/i4vzUSjnPIY0A5MBA0N9AETp/QUY0u8TgNgBzJxRPwFExd69e/cYTDofKLRf\n",
       "AMxMyA+AiS67B2UYAfElsKGsC/o3wA2dOwFCf2FgmGMFZi0FWwQFrBD7+L6kpd+GiAQwzC9AuOkC\n",
       "mGT7ycCwFqySz8XF3wAh7QcmmRWASn6DjQN68gC6ND9QJ/dHEKuBgYFXAd3w90DHsvwAMjiB0jwf\n",
       "4LIcBXBvzweZuQZk0y+4dOwCmLf5dIDMyfonGbjt/8Cc/vwUmCr+7+JyZgNqMAMD9Y4rqhAAEl0/\n",
       "W0VPoRUAAAAASUVORK5CYII=\n",
       "\" style=\"display:inline;vertical-align:middle;\" /></a></td></tr>\n",
       "<tr><td>2</td><td>Operation</td><td>operator:&nbsp;4<br>operands:&nbsp;5<br></td><td><a class=\"ProveItLink\" href=\"../3e4779d53cb3b334770b47dee736d5c6bc32cc5d0/expr.ipynb\"><img src=\"data:image/png;base64,iVBORw0KGgoAAAANSUhEUgAAAKsAAAAYBAMAAAB3mBDxAAAAMFBMVEX////c3NwiIiJERESqqqqY\n",
       "mJh2dnZmZmYQEBDu7u4yMjJUVFTMzMyIiIi6uroAAAAs73DqAAAAAXRSTlMAQObYZgAAAsRJREFU\n",
       "SMe1VU1oE0EUfttkk80muw21J0VaF4RWJM1BoYLQ3AQvBgUPgpqbJyEgeBIbxYs92FAQJAdZBZEI\n",
       "1oiChxUbzMFDD8lFRLF06cUfECv+0Qatb+bN7GY3Nbm0A9k372W+N/O+994MwFYME7ZlDGyyU6s3\n",
       "RHXDli9da04GtDPss0jzl93+FtrOk3mASyF7qkZi1DdVA4h43Tc94t8hy7IelsViLQsw7YIuVEXY\n",
       "dZL6qrC/s8auZgIIG8AgDtQJ6Qxu7heTJv7VrIFaEO6KJJdIHF8TYb6FZD2IQE40cjc8nfZCGhLT\n",
       "ZZRnC5AokdoYJ3mdzn7kG8k9ABWJFIhbAJ/J0Fr2M2MSeTCJvzHc9QCpL+iYps2FYfzlMom41xIp\n",
       "EJEcXKS15WN5PwMEhDbAzkMoz3EtYVMZxYmTT9GfXLKTeskTiFgR7nH9NqdFjueU6vbSm71scpSr\n",
       "sXw8xynm+yfc1B8QhRQtyBoRiKgNN7jBhZFi2K2B5M0xPj6Kkld4FJpLfaX8lm51mRaJMEvAGUo5\n",
       "zkLWd0tBRTBVBou0ydXTYrtB7nbRcb7LBmtInESkVskt9rRme16jdPBB3Ff95bkdF51DbvEzQ1Tn\n",
       "4bIESgS6vcZ0JG2g5LldoZprIonJH5IEthePVmMMR1nKKZOZhJcxiUASDrLay3U0Dbyq+kU4wmI4\n",
       "xTOVFmFEWMqGvb6EyrNWZ9kyhGrz6mFFElkTzbvvqV+EqZmyLLCGJB2rB4sNJ1OiL7/etaxMAIFL\n",
       "VgB2zN4BdWq9GLxRLmw4zgNeTPO8GWTfmqOgTK6n4cTGfVr4oQuhu6Cl+12m1Lyud11fCf1/uAuB\n",
       "zSsvkv+PWKvX5SqqOTDO+xcjeBejZWUDiyohkF7u1OITDJEJhMc22tXvtI9DulLr8+AkGa9Kn0fH\n",
       "qIctu3txguP9VjyP1e15dTetpH8kRL5VMdsTRwAAAABJRU5ErkJggg==\n",
       "\" style=\"display:inline;vertical-align:middle;\" /></a></td></tr>\n",
       "<tr><td>3</td><td>Literal</td><td></td><td><a class=\"ProveItLink\" href=\"../40f138ebd64e8eadfde7d93b284d70a37652c25c0/expr.ipynb\"><img src=\"data:image/png;base64,iVBORw0KGgoAAAANSUhEUgAAAA4AAAAMBAMAAACgrpHpAAAAJFBMVEX///9mZmaqqqpUVFTc3NzM\n",
       "zMzu7u6IiIgyMjIiIiK6uroAAABMu5rKAAAAAXRSTlMAQObYZgAAADVJREFUCNdjWDlz5sx2BghI\n",
       "nwpleDpAaC4DqMAEKG2KRkPFmQQg9MoEMBXYBmTOnDnDioEBAA1tCuR6TpI/AAAAAElFTkSuQmCC\n",
       "\" style=\"display:inline;vertical-align:middle;\" /></a></td></tr>\n",
       "<tr><td>4</td><td>Literal</td><td></td><td><a class=\"ProveItLink\" href=\"../../../../boolean/conjunction/__pv_it/76b5f4f4c45c0b6a9b59b297fc07dfa9555698f50/expr.ipynb\"><img src=\"data:image/png;base64,iVBORw0KGgoAAAANSUhEUgAAAAwAAAAOBAMAAADpk+DfAAAALVBMVEX///+qqqqYmJh2dnaIiIi6\n",
       "urpUVFQiIiJERETMzMxmZmYyMjLu7u7c3NwAAABvwqPxAAAAAXRSTlMAQObYZgAAAEtJREFUCNdj\n",
       "YGDgPcAAAtwLwNSMGjCV6gIieTawgyhmBS4BIMXOwLsBSKkwMGQCKaC6aQwMjEBd3BdACMScAVJd\n",
       "wJAKolwYAkAUKwAk0guX6efcigAAAABJRU5ErkJggg==\n",
       "\" style=\"display:inline;vertical-align:middle;\" /></a></td></tr>\n",
       "<tr><td>5</td><td>ExprTuple</td><td>6, 7</td><td><a class=\"ProveItLink\" href=\"../0243428cba9efaaddb680394a388bf50346e09b90/expr.ipynb\"><img src=\"data:image/png;base64,iVBORw0KGgoAAAANSUhEUgAAAI0AAAAYBAMAAAA122NmAAAAMFBMVEX////c3NwiIiJERESqqqqY\n",
       "mJh2dnZmZmYQEBDu7u4yMjJUVFTMzMyIiIi6uroAAAAs73DqAAAAAXRSTlMAQObYZgAAAjtJREFU\n",
       "OMtjYCAL8DFQBzBhMfoCGeaEofDiQMRpCPsQhlrW/b93b16H4PMoINgrUZSwH0AIrQeTQkpKSmsn\n",
       "QBVzGDAw1D+A6+X6AGXcUtJo0kNRsoCBgRfiLVZ9mG6GqTpQxnmg1PkNcHOCfkJdfpOB+wCqEqA3\n",
       "OSD6ReoF4BqEoMz7QDo+ASbK6P4RQisyMMyCCUKVzGBgeAURuHAf4QE+qBssgFgD7kxe3n9gmhuo\n",
       "8CpMEKqE2YGhDKJ1gn8AIhQXQKjfDAxSlnDBlyxfwTTILfAQhyphK2BYCubPA/sUBvZA4uf33euq\n",
       "cDHOBzx/GaDxywLzLEwJywKGPrDAAwb5AnRzeIHhMWkDIgUzfoeZwwULS5gSvgYGsKd5du/eb4Aw\n",
       "B+Js5gagwq8wsdO7d3+GJeXDMEGYEp4PEHOA2YVjAdwYFojT+IEWsX6DCQJDtwvMYA9gqIMJwpQA\n",
       "zWkB8R2A1jTAzXkEiaPzwJDn/gIzGxQxkIDS44QHM0wJ0F+moCThgJRaGY6vRKQNeaArwaaKwJM8\n",
       "w6ztF5CTD0gJ6wKGdGhUMv+E5gutLYi0wdM1gYHzE8gRIF/bQ9PS+0VKSnrISkDx/oiBQbh/IQOr\n",
       "/a8C1Gxa/H/37lVAd3P2CzAwWvwSYAj+vxwi8xxdCQPXAwYOAYJlFroKGwwlwHzBmkDIHFY0PuMC\n",
       "DCW5iHKDAV5uKCkZ4DOHXR+kRA9ZCBx60oTcc4FgmcoN8jnjBYrKVBC4Q1YZv5JKdQXWCAYAooSe\n",
       "gL8NLDYAAAAASUVORK5CYII=\n",
       "\" style=\"display:inline;vertical-align:middle;\" /></a></td></tr>\n",
       "<tr><td>6</td><td>Operation</td><td>operator:&nbsp;8<br>operands:&nbsp;10<br></td><td><a class=\"ProveItLink\" href=\"../5e6face9deb8f4990d49930649fd84e604ecfa3c0/expr.ipynb\"><img src=\"data:image/png;base64,iVBORw0KGgoAAAANSUhEUgAAADsAAAARBAMAAACRPMnQAAAAMFBMVEX///92dnYQEBBERERUVFS6\n",
       "urqIiIhmZmaqqqrc3Nzu7u6YmJgyMjIiIiLMzMwAAACFkkdwAAAAAXRSTlMAQObYZgAAAO9JREFU\n",
       "KM9jYACBtwzogNv/i4vzUSjnPJice/fu3WMLoEJMBgwM9QEQpfdhggyr70EZ7xOA2AHMnFE/AW7q\n",
       "XCgzH0jvFwAzE/ID4NKsEB0MRkB8CWwo64L+DQhHHYBQXxgY5liBWUvBFsGAH5jk+5KWfhsiEMAw\n",
       "vwBdmu0nA8NasD18Li7+BgjpC2CSWQGo5DfYaqAnD8BlOSAG8QN1cn8EsRoYGHgV4NKxkCB4D3Qs\n",
       "yw8ggxMozfMBJvv8FMLb80FmrgHZ9AsaqHc8GODe5tMBGjRZ/yQDt/2fAtQYKf7v4nJmAwMVAShC\n",
       "7941QBYCAC8bRZFIybTAAAAAAElFTkSuQmCC\n",
       "\" style=\"display:inline;vertical-align:middle;\" /></a></td></tr>\n",
       "<tr><td>7</td><td>Operation</td><td>operator:&nbsp;9<br>operands:&nbsp;10<br></td><td><a class=\"ProveItLink\" href=\"../9de9c2208e8b5dbd6462366802372807db98e34b0/expr.ipynb\"><img src=\"data:image/png;base64,iVBORw0KGgoAAAANSUhEUgAAADsAAAAYBAMAAAC2M5gYAAAAMFBMVEX///92dnYQEBBERERUVFS6\n",
       "urqIiIhmZmaqqqrc3Nzu7u6YmJgyMjIiIiLMzMwAAACFkkdwAAAAAXRSTlMAQObYZgAAASVJREFU\n",
       "KM9jYEADrAx4AS9+6Y1YxN4imKcgFLf/Fxfno1Cx81A65+4l3asQJpMBA0N9AETp/QUQQ7IYWB5A\n",
       "Vb5PAGIHMHNG/QQQxXmTgWENzJJ8oNB+ATAzIR9sCguQzIZJGwHxJbChrAv6N4BokM4LMOkvDAxz\n",
       "rMCspWCLGBieMDBwCEBl+b6kpd+GMAMY5hdApXkmQKXZfjIwrAW7jM/Fxd8AGmCPYWYzKwCV/IaG\n",
       "MtMBEIN9A0MpTJofqJP7I4jVANSnAGJwXeWCu+w90LEsP0C+BUrzfACLrXFPQPb2/ANQ7zD/ggjG\n",
       "n7179yrM23w6QG9P1j/JwG3/B+x0hnCY5uL/Li5nNqDHnB3euOY8gE+W/f7duzC7qZSQGDASEi4w\n",
       "AUMEAKd1TsMuccRHAAAAAElFTkSuQmCC\n",
       "\" style=\"display:inline;vertical-align:middle;\" /></a></td></tr>\n",
       "<tr><td>8</td><td>Literal</td><td></td><td><a class=\"ProveItLink\" href=\"../bc0f4f75fcd25c7f3c501d50b7b90e3eb0564d7a0/expr.ipynb\"><img src=\"data:image/png;base64,iVBORw0KGgoAAAANSUhEUgAAAA4AAAAQBAMAAADUulMJAAAAKlBMVEX///9ERERmZmaqqqpUVFS6\n",
       "urrMzMyYmJju7u6IiIgyMjIiIiLc3NwAAAAAfF0EAAAAAXRSTlMAQObYZgAAAD5JREFUCNdjOL17\n",
       "9+6VDQxg0L4NQjOcPgChWR2gAgugtBsavQFCMStA6GiIQUkrgEbs3r3LmQE3ANm7e7cAAMoAEtfi\n",
       "lGxPAAAAAElFTkSuQmCC\n",
       "\" style=\"display:inline;vertical-align:middle;\" /></a></td></tr>\n",
       "<tr><td>9</td><td>Literal</td><td></td><td><a class=\"ProveItLink\" href=\"../cdabae2cfd2d5cc37cb8344ff36c341d3e7aa01f0/expr.ipynb\"><img src=\"data:image/png;base64,iVBORw0KGgoAAAANSUhEUgAAAA4AAAAYBAMAAAA46dFkAAAAMFBMVEX///9mZmZERESqqqrc3NxU\n",
       "VFTMzMwQEBCIiIju7u4yMjJ2dnaYmJgiIiK6uroAAABa5MLrAAAAAXRSTlMAQObYZgAAAHRJREFU\n",
       "CNdjYAABPgYI4IXSp6H0ShDRdfd67T0GhtxOBtYEBgaWKwwMs4CirA8YGHoYIOwLQJzKwMC8AUJz\n",
       "OUCMSgLpZjzAIAeiOe9xXgCbOSuwAWL4+7V37wLNZXgItUwNQrEsAFOM9+/eBctjdRMQOIBJAMux\n",
       "HePokPHDAAAAAElFTkSuQmCC\n",
       "\" style=\"display:inline;vertical-align:middle;\" /></a></td></tr>\n",
       "<tr><td>10</td><td>ExprTuple</td><td>11, 12</td><td><a class=\"ProveItLink\" href=\"../caee09fb4b5c95b986a9cee46a014afbad9bdc680/expr.ipynb\"><img src=\"data:image/png;base64,iVBORw0KGgoAAAANSUhEUgAAADUAAAAVBAMAAAAUZLt1AAAAMFBMVEX////c3NwiIiJERESqqqqY\n",
       "mJh2dnZmZmYQEBDu7u4yMjJUVFTMzMyIiIi6uroAAAAs73DqAAAAAXRSTlMAQObYZgAAATZJREFU\n",
       "KM9jYMAH+C5gFY4DEach7EMwQdb9v3dvXsfAfgDIXgkRWg/XwWHAwFD/gGEBAwMvxEhW/QkwufNA\n",
       "kfMbGMKAqiBiIvUCMLn7QFZ8AsMMBoZXEIEL9x/A5CyAWGMCA7MDQxnEsRP8A2ByvxkYpCwZGNgK\n",
       "GJaC+fPAtoABz++711WBNMsChj6wwAMG+QKoHO9HBoZJG4BGNTD8A6vdvXu/AVSOuQEo/xUo9gEi\n",
       "xwd07wKoHD9QD+s3sFwLiO/AwMDUAPMe0FHcX8BmmgK5jEA5rg8MDBNg3pMHGsK6gCEdyJ0FsuYn\n",
       "A+cnqPd4uiaA/fCIgUG4fyEDq/2vAs5+oJbi/7t3rwL5lesBA4cAUnQhsUFhxpqA4LIiR2AuIo7Q\n",
       "5ThBfpJG8JFTADfIfEbsaeIOAwMABOxNRsfkiy0AAAAASUVORK5CYII=\n",
       "\" style=\"display:inline;vertical-align:middle;\" /></a></td></tr>\n",
       "<tr><td>11</td><td>Variable</td><td></td><td><a class=\"ProveItLink\" href=\"../../../../../__pv_it/2cbe72a7ad6f655694dd697106680215e8489b600/expr.ipynb\"><img src=\"data:image/png;base64,iVBORw0KGgoAAAANSUhEUgAAAA8AAAAOBAMAAAACpFvcAAAALVBMVEX///8QEBBERERUVFS6urqI\n",
       "iIhmZmaqqqrc3Nzu7u6YmJgyMjIiIiLMzMwAAADtIaYWAAAAAXRSTlMAQObYZgAAAFtJREFUCNdj\n",
       "YACBOwxQsA9Kc52bAGG05zVAGAFxDmCaZULdAjBjCsO9ADDDgaEvAUTzGhvbKYCVMDAwbgAxChgY\n",
       "eASANAeQwf0AyJgNxEwvGRia5HYwcOm9TgAA6BoR3jrzwFcAAAAASUVORK5CYII=\n",
       "\" style=\"display:inline;vertical-align:middle;\" /></a></td></tr>\n",
       "<tr><td>12</td><td>Variable</td><td></td><td><a class=\"ProveItLink\" href=\"../../../../../__pv_it/077b2ff79244fb4582cbe22c6e3356fa92a52f2f0/expr.ipynb\"><img src=\"data:image/png;base64,iVBORw0KGgoAAAANSUhEUgAAABAAAAAOBAMAAADUAYG5AAAAMFBMVEX///+qqqru7u4iIiJ2dnbc\n",
       "3NyIiIjMzMxmZmYQEBC6uroyMjJERERUVFSYmJgAAADLUcuvAAAAAXRSTlMAQObYZgAAAGpJREFU\n",
       "CNdjYGB4+//u3dMLGIBgDgMDxy8gzf4NiP8CGWxfGRj4vgAZPBMYGJgnARn8FxhY9ygAGfXX0pof\n",
       "gDTlBzAw2YIYJ0EckBBI53sHoBH/gIz7AhBjWH9DjancBLTl/N+7t/cxMAAA3u4f/5xagjYAAAAA\n",
       "SUVORK5CYII=\n",
       "\" style=\"display:inline;vertical-align:middle;\" /></a></td></tr>\n",
       "</table>\n"
      ],
      "text/plain": [
       "0. (A supset B , (A supseteq B) and (A nsubseteq B))\n",
       "   core type: ExprTuple\n",
       "   sub-expressions: 1, 2\n",
       "1. A supset B\n",
       "   core type: Operation\n",
       "   operator: 3\n",
       "   operands: 10\n",
       "2. (A supseteq B) and (A nsubseteq B)\n",
       "   core type: Operation\n",
       "   operator: 4\n",
       "   operands: 5\n",
       "3. supset\n",
       "   core type: Literal\n",
       "   sub-expressions: \n",
       "4. and\n",
       "   core type: Literal\n",
       "   sub-expressions: \n",
       "5. (A supseteq B , A nsubseteq B)\n",
       "   core type: ExprTuple\n",
       "   sub-expressions: 6, 7\n",
       "6. A supseteq B\n",
       "   core type: Operation\n",
       "   operator: 8\n",
       "   operands: 10\n",
       "7. A nsubseteq B\n",
       "   core type: Operation\n",
       "   operator: 9\n",
       "   operands: 10\n",
       "8. supseteq\n",
       "   core type: Literal\n",
       "   sub-expressions: \n",
       "9. nsubseteq\n",
       "   core type: Literal\n",
       "   sub-expressions: \n",
       "10. (A , B)\n",
       "    core type: ExprTuple\n",
       "    sub-expressions: 11, 12\n",
       "11. A\n",
       "    core type: Variable\n",
       "    sub-expressions: \n",
       "12. B\n",
       "    core type: Variable\n",
       "    sub-expressions: "
      ]
     },
     "execution_count": 4,
     "metadata": {},
     "output_type": "execute_result"
    }
   ],
   "source": [
    "# display the expression information\n",
    "expr.exprInfo()"
   ]
  },
  {
   "cell_type": "code",
   "execution_count": null,
   "metadata": {},
   "outputs": [],
   "source": []
  }
 ],
 "metadata": {
  "kernelspec": {
   "display_name": "Python 3",
   "language": "python",
   "name": "python3"
  }
 },
 "nbformat": 4,
 "nbformat_minor": 0
}
