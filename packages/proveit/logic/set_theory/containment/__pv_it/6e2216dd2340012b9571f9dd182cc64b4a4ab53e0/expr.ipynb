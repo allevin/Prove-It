{
 "cells": [
  {
   "cell_type": "markdown",
   "metadata": {},
   "source": [
    "Expression of type <a class=\"ProveItLink\" href=\"../../../../../../../doc/html/api/proveit.Lambda.html\">Lambda</a>\n",
    "=======================\n",
    "# from context <a class=\"ProveItLink\" href=\"../../_context_.ipynb\">proveit.logic.set_theory.containment</a>"
   ]
  },
  {
   "cell_type": "code",
   "execution_count": 1,
   "metadata": {},
   "outputs": [],
   "source": [
    "# import Expression classes needed to build the expression\n",
    "from proveit import Lambda\n",
    "from proveit._common_ import A, B\n",
    "from proveit.logic import Equals, SupersetEq"
   ]
  },
  {
   "cell_type": "code",
   "execution_count": 2,
   "metadata": {},
   "outputs": [
    {
     "data": {
      "text/html": [
       "<strong id=\"expr\">expr:</strong> <a class=\"ProveItLink\" href=\"expr.ipynb\"><img src=\"data:image/png;base64,iVBORw0KGgoAAAANSUhEUgAAAM8AAAAVCAMAAADW+kokAAAANlBMVEX///8UFBQNDQ2qqqru7u4i\n",
       "IiJ2dnbc3NyIiIjMzMxmZmYQEBC6uroyMjJERERUVFSYmJgAAAC3B9V0AAAAAXRSTlMAQObYZgAA\n",
       "AghJREFUWMPNV9t2hCAMtAXkJrf//9muVTQJCGzds928iB6ZycAQYJo+JZj8R/JF3esfl+LTvLws\n",
       "uxhSCo/wbhBTB/QmnucwekjPX6DXsP73YdKYIMfRWzrbUmzhFKedMIcb0gOhG0HT10ntzzDSXSG3\n",
       "RZGK3CceBZkBwhHnAT1V6Mos0vRV2hZjTPPQcEASyUyqLWUp8FfCwW1fzxV0Mb40fb+DCzsyHAvy\n",
       "inrAVV264LmmHJ519VxCkyjS3+ZJOn/IwfZmiNvASVz4xFKsrzL0Rjlm09PTgJ6a0A/fKaWMAH1J\n",
       "XQlw3hz4jy+nfWkEjTxOOJjr6KHQxoEILejdf1yEKz08AB9bwLw2ZTJ9PQXHYjt6WtC15XNCZ/+p\n",
       "c3a/vwQKC4wMmnqt+yH5Ko+oefzg0Kmtpwk9NaFzmQPlje5jAbABPVvLuuoBxpQeBxw9PS3o2vI5\n",
       "oXXWFRK70GNg2bTHXyzXlVp5Exx5nHJ0/FZCG+gX34DO5Vsmd7F+NFrwPh77w+Uurg0+Q5QcsVkP\n",
       "GtBXu88BvftPW5ACrlh4V8qVlueM/LmL7+cdF1jV44CjWa9r0J3lk6GN305zzo2U+s1Jv5l7m9w6\n",
       "MvEB4NplqMZBz75Az13oZ8O+4Koyct55V8T5PsasPkcPuS/gU2i1BpXTM3ZfeFPIcBchyE/SM8mb\n",
       "922ly08v0fMDhDcboTlsr8cAAAAASUVORK5CYII=\n",
       "\" style=\"display:inline;vertical-align:middle;\" /></a><br>"
      ],
      "text/plain": [
       "expr: B -> (A supseteq B) | A = B"
      ]
     },
     "execution_count": 2,
     "metadata": {},
     "output_type": "execute_result"
    }
   ],
   "source": [
    "# build up the expression from sub-expressions\n",
    "expr = Lambda(B, SupersetEq(A, B), conditions = [Equals(A, B)])"
   ]
  },
  {
   "cell_type": "code",
   "execution_count": 3,
   "metadata": {},
   "outputs": [
    {
     "name": "stdout",
     "output_type": "stream",
     "text": [
      "Passed sanity check: built 'expr' is the same as the stored Expression.\n"
     ]
    }
   ],
   "source": [
    "# check that the built expression is the same as the stored expression\n",
    "%check_expr"
   ]
  },
  {
   "cell_type": "code",
   "execution_count": 4,
   "metadata": {},
   "outputs": [
    {
     "data": {
      "text/html": [
       "<table><tr><th>&nbsp;</th><th>core type</th><th>sub-expressions</th><th>expression</th></tr>\n",
       "<tr><td>0</td><td>Lambda</td><td>parameter:&nbsp;8<br>body:&nbsp;1<br>conditions:&nbsp;2<br></td><td><a class=\"ProveItLink\" href=\"expr.ipynb\"><img src=\"data:image/png;base64,iVBORw0KGgoAAAANSUhEUgAAAM8AAAAVCAMAAADW+kokAAAANlBMVEX///8UFBQNDQ2qqqru7u4i\n",
       "IiJ2dnbc3NyIiIjMzMxmZmYQEBC6uroyMjJERERUVFSYmJgAAAC3B9V0AAAAAXRSTlMAQObYZgAA\n",
       "AghJREFUWMPNV9t2hCAMtAXkJrf//9muVTQJCGzds928iB6ZycAQYJo+JZj8R/JF3esfl+LTvLws\n",
       "uxhSCo/wbhBTB/QmnucwekjPX6DXsP73YdKYIMfRWzrbUmzhFKedMIcb0gOhG0HT10ntzzDSXSG3\n",
       "RZGK3CceBZkBwhHnAT1V6Mos0vRV2hZjTPPQcEASyUyqLWUp8FfCwW1fzxV0Mb40fb+DCzsyHAvy\n",
       "inrAVV264LmmHJ519VxCkyjS3+ZJOn/IwfZmiNvASVz4xFKsrzL0Rjlm09PTgJ6a0A/fKaWMAH1J\n",
       "XQlw3hz4jy+nfWkEjTxOOJjr6KHQxoEILejdf1yEKz08AB9bwLw2ZTJ9PQXHYjt6WtC15XNCZ/+p\n",
       "c3a/vwQKC4wMmnqt+yH5Ko+oefzg0Kmtpwk9NaFzmQPlje5jAbABPVvLuuoBxpQeBxw9PS3o2vI5\n",
       "oXXWFRK70GNg2bTHXyzXlVp5Exx5nHJ0/FZCG+gX34DO5Vsmd7F+NFrwPh77w+Uurg0+Q5QcsVkP\n",
       "GtBXu88BvftPW5ACrlh4V8qVlueM/LmL7+cdF1jV44CjWa9r0J3lk6GN305zzo2U+s1Jv5l7m9w6\n",
       "MvEB4NplqMZBz75Az13oZ8O+4Koyct55V8T5PsasPkcPuS/gU2i1BpXTM3ZfeFPIcBchyE/SM8mb\n",
       "922ly08v0fMDhDcboTlsr8cAAAAASUVORK5CYII=\n",
       "\" style=\"display:inline;vertical-align:middle;\" /></a></td></tr>\n",
       "<tr><td>1</td><td>Operation</td><td>operator:&nbsp;3<br>operands:&nbsp;6<br></td><td><a class=\"ProveItLink\" href=\"../5e6face9deb8f4990d49930649fd84e604ecfa3c0/expr.ipynb\"><img src=\"data:image/png;base64,iVBORw0KGgoAAAANSUhEUgAAADsAAAARBAMAAACRPMnQAAAAMFBMVEX///92dnYQEBBERERUVFS6\n",
       "urqIiIhmZmaqqqrc3Nzu7u6YmJgyMjIiIiLMzMwAAACFkkdwAAAAAXRSTlMAQObYZgAAAO9JREFU\n",
       "KM9jYACBtwzogNv/i4vzUSjnPJice/fu3WMLoEJMBgwM9QEQpfdhggyr70EZ7xOA2AHMnFE/AW7q\n",
       "XCgzH0jvFwAzE/ID4NKsEB0MRkB8CWwo64L+DQhHHYBQXxgY5liBWUvBFsGAH5jk+5KWfhsiEMAw\n",
       "vwBdmu0nA8NasD18Li7+BgjpC2CSWQGo5DfYaqAnD8BlOSAG8QN1cn8EsRoYGHgV4NKxkCB4D3Qs\n",
       "yw8ggxMozfMBJvv8FMLb80FmrgHZ9AsaqHc8GODe5tMBGjRZ/yQDt/2fAtQYKf7v4nJmAwMVAShC\n",
       "7941QBYCAC8bRZFIybTAAAAAAElFTkSuQmCC\n",
       "\" style=\"display:inline;vertical-align:middle;\" /></a></td></tr>\n",
       "<tr><td>2</td><td>ExprTuple</td><td>4</td><td><a class=\"ProveItLink\" href=\"../a9094c41e5af3c2a596652839bfac5c5e4f6b38a0/expr.ipynb\"><img src=\"data:image/png;base64,iVBORw0KGgoAAAANSUhEUgAAAEgAAAAVBAMAAAAX07VdAAAAMFBMVEX////c3NwiIiJERESqqqqY\n",
       "mJh2dnZmZmYQEBDu7u4yMjJUVFTMzMyIiIi6uroAAAAs73DqAAAAAXRSTlMAQObYZgAAATJJREFU\n",
       "KM9jYCAK8F3AL8/6AEichrAPYcru/7178zoGhhogeyVEaD2mGRwGDAz1Dxi4GBh4Ibax6k/AUHQe\n",
       "KHV+AwNrAgMHRFKkXgBD0X2gUHwCA2cDwyuIwIX7DzAUWQCxBtAME4YyiBcn+AdgKPrNwCBlCaTT\n",
       "GZaC+fPADmBgqFoFAqvBYjy/715XBTG8GPrAAg8Y5AvQDeL9yMAwaQOQ8YLhH1jT7t37DdAVMTcA\n",
       "FX4F+RKiiA8YKAvQFfEDTWH9BlbUAuI7MDAwNYAYRUogoAwJJqBXuL+ArTMFkoxARVwfsAWTPMj8\n",
       "KKD/GBhmgVzwE0sw8XRNAAfBIwYG4f6FDKz2v9C8V/x/9+5V4MBbx8AhQCgtAaMFGH0EANsFeFLB\n",
       "DUAuliakaCPI/wSSL+8BBgC4RU+V4Oy4AgAAAABJRU5ErkJggg==\n",
       "\" style=\"display:inline;vertical-align:middle;\" /></a></td></tr>\n",
       "<tr><td>3</td><td>Literal</td><td></td><td><a class=\"ProveItLink\" href=\"../bc0f4f75fcd25c7f3c501d50b7b90e3eb0564d7a0/expr.ipynb\"><img src=\"data:image/png;base64,iVBORw0KGgoAAAANSUhEUgAAAA4AAAAQBAMAAADUulMJAAAAKlBMVEX///9ERERmZmaqqqpUVFS6\n",
       "urrMzMyYmJju7u6IiIgyMjIiIiLc3NwAAAAAfF0EAAAAAXRSTlMAQObYZgAAAD5JREFUCNdjOL17\n",
       "9+6VDQxg0L4NQjOcPgChWR2gAgugtBsavQFCMStA6GiIQUkrgEbs3r3LmQE3ANm7e7cAAMoAEtfi\n",
       "lGxPAAAAAElFTkSuQmCC\n",
       "\" style=\"display:inline;vertical-align:middle;\" /></a></td></tr>\n",
       "<tr><td>4</td><td>Operation</td><td>operator:&nbsp;5<br>operands:&nbsp;6<br></td><td><a class=\"ProveItLink\" href=\"../e37aba740d9eb156e9678bb9d0a8e3cf433a13c30/expr.ipynb\"><img src=\"data:image/png;base64,iVBORw0KGgoAAAANSUhEUgAAADsAAAAOBAMAAABjvHmeAAAAMFBMVEX///92dnYQEBBERERUVFS6\n",
       "urqIiIhmZmaqqqrc3Nzu7u6YmJgyMjIiIiLMzMwAAACFkkdwAAAAAXRSTlMAQObYZgAAAMhJREFU\n",
       "GNNjYACBtwzogNv/i4vzUSjnPIY0A5MBA0N9AETp/QUY0u8TgNgBzJxRPwFDOh8otF8AzEzID8CQ\n",
       "NgLiS2BDWRf0b8CQ/sLAMMcKzFoKtoiBoeYMCBwBi/F9SUu/DVEYwDC/AF0z208GhrVgl/G5uPgb\n",
       "oEszKwCV/AZbDfTkAXRpfqBO7o8gVgMDA68CiFF7FwQuQ7wNdCzLDyCDEyjN8wGbt+eDzFwDsukX\n",
       "Fm/z6QC9PVn/JAO3/R80pxf/d3E5AzQfAA2VOu5n+dVqAAAAAElFTkSuQmCC\n",
       "\" style=\"display:inline;vertical-align:middle;\" /></a></td></tr>\n",
       "<tr><td>5</td><td>Literal</td><td></td><td><a class=\"ProveItLink\" href=\"../../../../equality/__pv_it/2fb26078095930560931daa0500ce419a39ea6cd0/expr.ipynb\"><img src=\"data:image/png;base64,iVBORw0KGgoAAAANSUhEUgAAAA4AAAAFBAMAAACHocAhAAAAFVBMVEX///9EREQiIiJUVFQyMjJm\n",
       "ZmYAAADubVkoAAAAAXRSTlMAQObYZgAAABRJREFUCNdjCHEBAWcGXCBICQQUAUpuAwlgGKrkAAAA\n",
       "AElFTkSuQmCC\n",
       "\" style=\"display:inline;vertical-align:middle;\" /></a></td></tr>\n",
       "<tr><td>6</td><td>ExprTuple</td><td>7, 8</td><td><a class=\"ProveItLink\" href=\"../caee09fb4b5c95b986a9cee46a014afbad9bdc680/expr.ipynb\"><img src=\"data:image/png;base64,iVBORw0KGgoAAAANSUhEUgAAADUAAAAVBAMAAAAUZLt1AAAAMFBMVEX////c3NwiIiJERESqqqqY\n",
       "mJh2dnZmZmYQEBDu7u4yMjJUVFTMzMyIiIi6uroAAAAs73DqAAAAAXRSTlMAQObYZgAAATZJREFU\n",
       "KM9jYMAH+C5gFY4DEach7EMwQdb9v3dvXsfAfgDIXgkRWg/XwWHAwFD/gGEBAwMvxEhW/QkwufNA\n",
       "kfMbGMKAqiBiIvUCMLn7QFZ8AsMMBoZXEIEL9x/A5CyAWGMCA7MDQxnEsRP8A2ByvxkYpCwZGNgK\n",
       "GJaC+fPAtoABz++711WBNMsChj6wwAMG+QKoHO9HBoZJG4BGNTD8A6vdvXu/AVSOuQEo/xUo9gEi\n",
       "xwd07wKoHD9QD+s3sFwLiO/AwMDUAPMe0FHcX8BmmgK5jEA5rg8MDBNg3pMHGsK6gCEdyJ0FsuYn\n",
       "A+cnqPd4uiaA/fCIgUG4fyEDq/2vAs5+oJbi/7t3rwL5lesBA4cAUnQhsUFhxpqA4LIiR2AuIo7Q\n",
       "5ThBfpJG8JFTADfIfEbsaeIOAwMABOxNRsfkiy0AAAAASUVORK5CYII=\n",
       "\" style=\"display:inline;vertical-align:middle;\" /></a></td></tr>\n",
       "<tr><td>7</td><td>Variable</td><td></td><td><a class=\"ProveItLink\" href=\"../../../../../__pv_it/2cbe72a7ad6f655694dd697106680215e8489b600/expr.ipynb\"><img src=\"data:image/png;base64,iVBORw0KGgoAAAANSUhEUgAAAA8AAAAOBAMAAAACpFvcAAAALVBMVEX///8QEBBERERUVFS6urqI\n",
       "iIhmZmaqqqrc3Nzu7u6YmJgyMjIiIiLMzMwAAADtIaYWAAAAAXRSTlMAQObYZgAAAFtJREFUCNdj\n",
       "YACBOwxQsA9Kc52bAGG05zVAGAFxDmCaZULdAjBjCsO9ADDDgaEvAUTzGhvbKYCVMDAwbgAxChgY\n",
       "eASANAeQwf0AyJgNxEwvGRia5HYwcOm9TgAA6BoR3jrzwFcAAAAASUVORK5CYII=\n",
       "\" style=\"display:inline;vertical-align:middle;\" /></a></td></tr>\n",
       "<tr><td>8</td><td>Variable</td><td></td><td><a class=\"ProveItLink\" href=\"../../../../../__pv_it/077b2ff79244fb4582cbe22c6e3356fa92a52f2f0/expr.ipynb\"><img src=\"data:image/png;base64,iVBORw0KGgoAAAANSUhEUgAAABAAAAAOBAMAAADUAYG5AAAAMFBMVEX///+qqqru7u4iIiJ2dnbc\n",
       "3NyIiIjMzMxmZmYQEBC6uroyMjJERERUVFSYmJgAAADLUcuvAAAAAXRSTlMAQObYZgAAAGpJREFU\n",
       "CNdjYGB4+//u3dMLGIBgDgMDxy8gzf4NiP8CGWxfGRj4vgAZPBMYGJgnARn8FxhY9ygAGfXX0pof\n",
       "gDTlBzAw2YIYJ0EckBBI53sHoBH/gIz7AhBjWH9DjancBLTl/N+7t/cxMAAA3u4f/5xagjYAAAAA\n",
       "SUVORK5CYII=\n",
       "\" style=\"display:inline;vertical-align:middle;\" /></a></td></tr>\n",
       "</table>\n"
      ],
      "text/plain": [
       "0. B -> (A supseteq B) | A = B\n",
       "   core type: Lambda\n",
       "   parameter: 8\n",
       "   body: 1\n",
       "   conditions: 2\\n1. A supseteq B\n",
       "   core type: Operation\n",
       "   operator: 3\n",
       "   operands: 6\n",
       "2. (A = B)\n",
       "   core type: ExprTuple\n",
       "   sub-expressions: 4\n",
       "3. supseteq\n",
       "   core type: Literal\n",
       "   sub-expressions: \n",
       "4. A = B\n",
       "   core type: Operation\n",
       "   operator: 5\n",
       "   operands: 6\n",
       "5. =\n",
       "   core type: Literal\n",
       "   sub-expressions: \n",
       "6. (A , B)\n",
       "   core type: ExprTuple\n",
       "   sub-expressions: 7, 8\n",
       "7. A\n",
       "   core type: Variable\n",
       "   sub-expressions: \n",
       "8. B\n",
       "   core type: Variable\n",
       "   sub-expressions: "
      ]
     },
     "execution_count": 4,
     "metadata": {},
     "output_type": "execute_result"
    }
   ],
   "source": [
    "# display the expression information\n",
    "expr.exprInfo()"
   ]
  },
  {
   "cell_type": "code",
   "execution_count": null,
   "metadata": {},
   "outputs": [],
   "source": []
  }
 ],
 "metadata": {
  "kernelspec": {
   "display_name": "Python 3",
   "language": "python",
   "name": "python3"
  }
 },
 "nbformat": 4,
 "nbformat_minor": 0
}
