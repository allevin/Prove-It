{
 "cells": [
  {
   "cell_type": "markdown",
   "metadata": {},
   "source": [
    "Expression of type <a class=\"ProveItLink\" href=\"../../../../../../../doc/html/api/proveit.ExprTuple.html\">ExprTuple</a>\n",
    "=======================\n",
    "# from context <a class=\"ProveItLink\" href=\"../../_context_.ipynb\">proveit.logic.set_theory.containment</a>"
   ]
  },
  {
   "cell_type": "code",
   "execution_count": 1,
   "metadata": {},
   "outputs": [],
   "source": [
    "# import Expression classes needed to build the expression\n",
    "from proveit import ExprTuple\n",
    "from proveit._common_ import A, B, x\n",
    "from proveit.logic import InSet, SupersetEq"
   ]
  },
  {
   "cell_type": "code",
   "execution_count": 2,
   "metadata": {},
   "outputs": [
    {
     "data": {
      "text/html": [
       "<strong id=\"expr\">expr:</strong> <a class=\"ProveItLink\" href=\"expr.ipynb\"><img src=\"data:image/png;base64,iVBORw0KGgoAAAANSUhEUgAAAIcAAAAVBAMAAACeZ+BxAAAAMFBMVEX////c3NwiIiJERESqqqqY\n",
       "mJh2dnZmZmYQEBDu7u4yMjJUVFTMzMyIiIi6uroAAAAs73DqAAAAAXRSTlMAQObYZgAAAfVJREFU\n",
       "OMtjYKAK4LtAmf44EHEaqxTr/t+7N69D8HkUcClhPwBkr8RuAYcBA0P9AziX6wOYElJSUlo7AVXJ\n",
       "AgYGXhy+OQ8UP78Bzg36CWdO1UFVEgY0bgKy1rmLlLQgrPsCDAzxCTBxRvePCEVCAihKZjAwvEI2\n",
       "g2cp3EgLINaA83h5/yFFxQYUJcwODGVAlthtketgXwkjnPWbgUHKEs57yfIVya4FKErYChiWMjBw\n",
       "JrCqcoBD3xDhpt93r6vCeZwPeP4iGbIHRQnLAoY+oFEMvB9YQBHFaQBXxwsMg0nwcOVjYPyOYQhM\n",
       "CV8DA9CvnAzcEN18TcAYhAQscwNQFdwLp3fv/oxkiAKKEp4PDOAA44DEMw8iSvmBTNZvMB4wvXQh\n",
       "zGApQFECNKQFxJc/wAAKUk5EsjwfwMDA/QWmCxQNCEMeTUBRAvSOKdA4gfsMvGCJrXCFoDQgD4wF\n",
       "sLAIEK+HSx1fiaqEdQFDOgODf4AFgyxYfNIDpGTC0zWBgfMTyIGgKLWfAE32WltQlYCi+BEDw+Rr\n",
       "03IDIAlz+QGIguL/u3evAopx9gswMFr8EmAI/r8cLV/AlDBwPWDgEECWYdkFS/awyBUgWBYAkz1r\n",
       "Al4VrIQLlFzcRQF2Q0BFgZKSAbIQOMSk8RpCuNjjBnmYkcLi8Q4DAwAZsY2EVvP9mgAAAABJRU5E\n",
       "rkJggg==\n",
       "\" style=\"display:inline;vertical-align:middle;\" /></a><br>"
      ],
      "text/plain": [
       "expr: (x in B , A supseteq B)"
      ]
     },
     "execution_count": 2,
     "metadata": {},
     "output_type": "execute_result"
    }
   ],
   "source": [
    "# build up the expression from sub-expressions\n",
    "expr = ExprTuple(InSet(x, B), SupersetEq(A, B))"
   ]
  },
  {
   "cell_type": "code",
   "execution_count": 3,
   "metadata": {},
   "outputs": [
    {
     "name": "stdout",
     "output_type": "stream",
     "text": [
      "Passed sanity check: built 'expr' is the same as the stored Expression.\n"
     ]
    }
   ],
   "source": [
    "# check that the built expression is the same as the stored expression\n",
    "%check_expr"
   ]
  },
  {
   "cell_type": "code",
   "execution_count": 4,
   "metadata": {},
   "outputs": [
    {
     "data": {
      "text/html": [
       "<table><tr><th>&nbsp;</th><th>core type</th><th>sub-expressions</th><th>expression</th></tr>\n",
       "<tr><td>0</td><td>ExprTuple</td><td>1, 2</td><td><a class=\"ProveItLink\" href=\"expr.ipynb\"><img src=\"data:image/png;base64,iVBORw0KGgoAAAANSUhEUgAAAIcAAAAVBAMAAACeZ+BxAAAAMFBMVEX////c3NwiIiJERESqqqqY\n",
       "mJh2dnZmZmYQEBDu7u4yMjJUVFTMzMyIiIi6uroAAAAs73DqAAAAAXRSTlMAQObYZgAAAfVJREFU\n",
       "OMtjYKAK4LtAmf44EHEaqxTr/t+7N69D8HkUcClhPwBkr8RuAYcBA0P9AziX6wOYElJSUlo7AVXJ\n",
       "AgYGXhy+OQ8UP78Bzg36CWdO1UFVEgY0bgKy1rmLlLQgrPsCDAzxCTBxRvePCEVCAihKZjAwvEI2\n",
       "g2cp3EgLINaA83h5/yFFxQYUJcwODGVAlthtketgXwkjnPWbgUHKEs57yfIVya4FKErYChiWMjBw\n",
       "JrCqcoBD3xDhpt93r6vCeZwPeP4iGbIHRQnLAoY+oFEMvB9YQBHFaQBXxwsMg0nwcOVjYPyOYQhM\n",
       "CV8DA9CvnAzcEN18TcAYhAQscwNQFdwLp3fv/oxkiAKKEp4PDOAA44DEMw8iSvmBTNZvMB4wvXQh\n",
       "zGApQFECNKQFxJc/wAAKUk5EsjwfwMDA/QWmCxQNCEMeTUBRAvSOKdA4gfsMvGCJrXCFoDQgD4wF\n",
       "sLAIEK+HSx1fiaqEdQFDOgODf4AFgyxYfNIDpGTC0zWBgfMTyIGgKLWfAE32WltQlYCi+BEDw+Rr\n",
       "03IDIAlz+QGIguL/u3evAopx9gswMFr8EmAI/r8cLV/AlDBwPWDgEECWYdkFS/awyBUgWBYAkz1r\n",
       "Al4VrIQLlFzcRQF2Q0BFgZKSAbIQOMSk8RpCuNjjBnmYkcLi8Q4DAwAZsY2EVvP9mgAAAABJRU5E\n",
       "rkJggg==\n",
       "\" style=\"display:inline;vertical-align:middle;\" /></a></td></tr>\n",
       "<tr><td>1</td><td>Operation</td><td>operator:&nbsp;3<br>operands:&nbsp;4<br></td><td><a class=\"ProveItLink\" href=\"../7a806e44b554f7f0dde9918a38383961fdb3a7e90/expr.ipynb\"><img src=\"data:image/png;base64,iVBORw0KGgoAAAANSUhEUgAAADUAAAAPBAMAAAC2KZqIAAAAMFBMVEX///+6uroyMjJERETMzMwQ\n",
       "EBAiIiKYmJju7u5mZmaqqqpUVFSIiIh2dnbc3NwAAAAWgogoAAAAAXRSTlMAQObYZgAAANxJREFU\n",
       "GNNjYMAC2Pf/3r1ZkQE7YDVgYJgvgF3O/wAQb0AS4DiUlqYAYZ5/wMBQfwFJzqkCzjQF4tQGBoa3\n",
       "p1+dBBrBwGeBUPabgeERkMtxgT2dNQHIZ34Al2L5feZkOpDmZeD5wOUAZDQjtPH8Y2BoAzqFg4Hb\n",
       "ACwgmpYGcwtzAFD+O9gzB8AC3gh9/EA97H9BrPcODEAnMbQhea+AgYH7F1D+wXkGHpAcdwFcDuS9\n",
       "90Dj1xeYMrwBez0R2XssQUD1zWd770B0PJoClZr8f/dupQLUUFytBgszCAAA9AE54TfU44EAAAAA\n",
       "SUVORK5CYII=\n",
       "\" style=\"display:inline;vertical-align:middle;\" /></a></td></tr>\n",
       "<tr><td>2</td><td>Operation</td><td>operator:&nbsp;5<br>operands:&nbsp;6<br></td><td><a class=\"ProveItLink\" href=\"../5e6face9deb8f4990d49930649fd84e604ecfa3c0/expr.ipynb\"><img src=\"data:image/png;base64,iVBORw0KGgoAAAANSUhEUgAAADsAAAARBAMAAACRPMnQAAAAMFBMVEX///92dnYQEBBERERUVFS6\n",
       "urqIiIhmZmaqqqrc3Nzu7u6YmJgyMjIiIiLMzMwAAACFkkdwAAAAAXRSTlMAQObYZgAAAO9JREFU\n",
       "KM9jYACBtwzogNv/i4vzUSjnPJice/fu3WMLoEJMBgwM9QEQpfdhggyr70EZ7xOA2AHMnFE/AW7q\n",
       "XCgzH0jvFwAzE/ID4NKsEB0MRkB8CWwo64L+DQhHHYBQXxgY5liBWUvBFsGAH5jk+5KWfhsiEMAw\n",
       "vwBdmu0nA8NasD18Li7+BgjpC2CSWQGo5DfYaqAnD8BlOSAG8QN1cn8EsRoYGHgV4NKxkCB4D3Qs\n",
       "yw8ggxMozfMBJvv8FMLb80FmrgHZ9AsaqHc8GODe5tMBGjRZ/yQDt/2fAtQYKf7v4nJmAwMVAShC\n",
       "7941QBYCAC8bRZFIybTAAAAAAElFTkSuQmCC\n",
       "\" style=\"display:inline;vertical-align:middle;\" /></a></td></tr>\n",
       "<tr><td>3</td><td>Literal</td><td></td><td><a class=\"ProveItLink\" href=\"../../../membership/__pv_it/088cbc857536a28d4119ad9639a84270ccb0545d0/expr.ipynb\"><img src=\"data:image/png;base64,iVBORw0KGgoAAAANSUhEUgAAAAwAAAAMBAMAAACkW0HUAAAALVBMVEX///+qqqpmZmZUVFQQEBC6\n",
       "urpERETc3NyYmJjMzMwiIiIyMjKIiIju7u4AAACYsrA9AAAAAXRSTlMAQObYZgAAADxJREFUCNdj\n",
       "YOA9vWrVBgaG2b0MQMCeCyIZ2ArA1DUwyRCyahVIyWQI7xaEYm4AU7xLIdxqTQgtvGvVBgCkcQ7e\n",
       "geM/tQAAAABJRU5ErkJggg==\n",
       "\" style=\"display:inline;vertical-align:middle;\" /></a></td></tr>\n",
       "<tr><td>4</td><td>ExprTuple</td><td>7, 9</td><td><a class=\"ProveItLink\" href=\"../ff099d1a0bb94c854b040e46fe675692626106110/expr.ipynb\"><img src=\"data:image/png;base64,iVBORw0KGgoAAAANSUhEUgAAADIAAAAVBAMAAAD2uKAMAAAAMFBMVEX////c3NwiIiJERESqqqqY\n",
       "mJh2dnZmZmYQEBDu7u4yMjJUVFTMzMyIiIi6uroAAAAs73DqAAAAAXRSTlMAQObYZgAAASJJREFU\n",
       "KM9jYMAN+C5gEWR9ACROowrt/7178zoGhhogeyWqag4DBob6BwxcDAy8aIadB/LPb2BgTWDgmIAq\n",
       "c1+AgSE+gYGzgeEVmt0WQKwBVG3CUAZkid0WuQ4z9DcDg5QlkE5nWMrAwJnAqsqhAJHg+X33uiqI\n",
       "4cXQx8DAxsD7geUARIb3IwPDpA1AxguGf0A9DNwGMGuYG4CyX0FuBMkAPQF3Oj9QPes3sEwLiC9/\n",
       "gAHq+PMBDAzcX8CmmQLVCNxn4J0AkQN5R34BkBEFdB2Df4AFgywD5yeod3i6JoBd/YiBYfK1abkB\n",
       "DJz9QOXF/3fvXhUAUrKOgUMAHh0CSEEBDB1g0MEiADmQ2C4gxQKKzCwgloZxUKJjIxAzYott3gMM\n",
       "AD3SRglZIJ+2AAAAAElFTkSuQmCC\n",
       "\" style=\"display:inline;vertical-align:middle;\" /></a></td></tr>\n",
       "<tr><td>5</td><td>Literal</td><td></td><td><a class=\"ProveItLink\" href=\"../bc0f4f75fcd25c7f3c501d50b7b90e3eb0564d7a0/expr.ipynb\"><img src=\"data:image/png;base64,iVBORw0KGgoAAAANSUhEUgAAAA4AAAAQBAMAAADUulMJAAAAKlBMVEX///9ERERmZmaqqqpUVFS6\n",
       "urrMzMyYmJju7u6IiIgyMjIiIiLc3NwAAAAAfF0EAAAAAXRSTlMAQObYZgAAAD5JREFUCNdjOL17\n",
       "9+6VDQxg0L4NQjOcPgChWR2gAgugtBsavQFCMStA6GiIQUkrgEbs3r3LmQE3ANm7e7cAAMoAEtfi\n",
       "lGxPAAAAAElFTkSuQmCC\n",
       "\" style=\"display:inline;vertical-align:middle;\" /></a></td></tr>\n",
       "<tr><td>6</td><td>ExprTuple</td><td>8, 9</td><td><a class=\"ProveItLink\" href=\"../caee09fb4b5c95b986a9cee46a014afbad9bdc680/expr.ipynb\"><img src=\"data:image/png;base64,iVBORw0KGgoAAAANSUhEUgAAADUAAAAVBAMAAAAUZLt1AAAAMFBMVEX////c3NwiIiJERESqqqqY\n",
       "mJh2dnZmZmYQEBDu7u4yMjJUVFTMzMyIiIi6uroAAAAs73DqAAAAAXRSTlMAQObYZgAAATZJREFU\n",
       "KM9jYMAH+C5gFY4DEach7EMwQdb9v3dvXsfAfgDIXgkRWg/XwWHAwFD/gGEBAwMvxEhW/QkwufNA\n",
       "kfMbGMKAqiBiIvUCMLn7QFZ8AsMMBoZXEIEL9x/A5CyAWGMCA7MDQxnEsRP8A2ByvxkYpCwZGNgK\n",
       "GJaC+fPAtoABz++711WBNMsChj6wwAMG+QKoHO9HBoZJG4BGNTD8A6vdvXu/AVSOuQEo/xUo9gEi\n",
       "xwd07wKoHD9QD+s3sFwLiO/AwMDUAPMe0FHcX8BmmgK5jEA5rg8MDBNg3pMHGsK6gCEdyJ0FsuYn\n",
       "A+cnqPd4uiaA/fCIgUG4fyEDq/2vAs5+oJbi/7t3rwL5lesBA4cAUnQhsUFhxpqA4LIiR2AuIo7Q\n",
       "5ThBfpJG8JFTADfIfEbsaeIOAwMABOxNRsfkiy0AAAAASUVORK5CYII=\n",
       "\" style=\"display:inline;vertical-align:middle;\" /></a></td></tr>\n",
       "<tr><td>7</td><td>Variable</td><td></td><td><a class=\"ProveItLink\" href=\"../../../../../__pv_it/530be409e3083890784cf1d7b28c9e67e90af9360/expr.ipynb\"><img src=\"data:image/png;base64,iVBORw0KGgoAAAANSUhEUgAAAAsAAAAJBAMAAAAWSsseAAAAKlBMVEX///9ERETMzMwQEBAiIiKY\n",
       "mJju7u5mZmaqqqpUVFSIiIh2dnbc3NwAAAA/vyDhAAAAAXRSTlMAQObYZgAAAENJREFUCNdjYDi9\n",
       "8sTyBQxsG1hdmR0YuBm4LnAoMLAxcAowgADzAjB1VoEhgYH1wFoGrgSG3gBhhlMMDImrs3cFMAAA\n",
       "t0YN+iTRa+sAAAAASUVORK5CYII=\n",
       "\" style=\"display:inline;vertical-align:middle;\" /></a></td></tr>\n",
       "<tr><td>8</td><td>Variable</td><td></td><td><a class=\"ProveItLink\" href=\"../../../../../__pv_it/2cbe72a7ad6f655694dd697106680215e8489b600/expr.ipynb\"><img src=\"data:image/png;base64,iVBORw0KGgoAAAANSUhEUgAAAA8AAAAOBAMAAAACpFvcAAAALVBMVEX///8QEBBERERUVFS6urqI\n",
       "iIhmZmaqqqrc3Nzu7u6YmJgyMjIiIiLMzMwAAADtIaYWAAAAAXRSTlMAQObYZgAAAFtJREFUCNdj\n",
       "YACBOwxQsA9Kc52bAGG05zVAGAFxDmCaZULdAjBjCsO9ADDDgaEvAUTzGhvbKYCVMDAwbgAxChgY\n",
       "eASANAeQwf0AyJgNxEwvGRia5HYwcOm9TgAA6BoR3jrzwFcAAAAASUVORK5CYII=\n",
       "\" style=\"display:inline;vertical-align:middle;\" /></a></td></tr>\n",
       "<tr><td>9</td><td>Variable</td><td></td><td><a class=\"ProveItLink\" href=\"../../../../../__pv_it/077b2ff79244fb4582cbe22c6e3356fa92a52f2f0/expr.ipynb\"><img src=\"data:image/png;base64,iVBORw0KGgoAAAANSUhEUgAAABAAAAAOBAMAAADUAYG5AAAAMFBMVEX///+qqqru7u4iIiJ2dnbc\n",
       "3NyIiIjMzMxmZmYQEBC6uroyMjJERERUVFSYmJgAAADLUcuvAAAAAXRSTlMAQObYZgAAAGpJREFU\n",
       "CNdjYGB4+//u3dMLGIBgDgMDxy8gzf4NiP8CGWxfGRj4vgAZPBMYGJgnARn8FxhY9ygAGfXX0pof\n",
       "gDTlBzAw2YIYJ0EckBBI53sHoBH/gIz7AhBjWH9DjancBLTl/N+7t/cxMAAA3u4f/5xagjYAAAAA\n",
       "SUVORK5CYII=\n",
       "\" style=\"display:inline;vertical-align:middle;\" /></a></td></tr>\n",
       "</table>\n"
      ],
      "text/plain": [
       "0. (x in B , A supseteq B)\n",
       "   core type: ExprTuple\n",
       "   sub-expressions: 1, 2\n",
       "1. x in B\n",
       "   core type: Operation\n",
       "   operator: 3\n",
       "   operands: 4\n",
       "2. A supseteq B\n",
       "   core type: Operation\n",
       "   operator: 5\n",
       "   operands: 6\n",
       "3. in\n",
       "   core type: Literal\n",
       "   sub-expressions: \n",
       "4. (x , B)\n",
       "   core type: ExprTuple\n",
       "   sub-expressions: 7, 9\n",
       "5. supseteq\n",
       "   core type: Literal\n",
       "   sub-expressions: \n",
       "6. (A , B)\n",
       "   core type: ExprTuple\n",
       "   sub-expressions: 8, 9\n",
       "7. x\n",
       "   core type: Variable\n",
       "   sub-expressions: \n",
       "8. A\n",
       "   core type: Variable\n",
       "   sub-expressions: \n",
       "9. B\n",
       "   core type: Variable\n",
       "   sub-expressions: "
      ]
     },
     "execution_count": 4,
     "metadata": {},
     "output_type": "execute_result"
    }
   ],
   "source": [
    "# display the expression information\n",
    "expr.exprInfo()"
   ]
  },
  {
   "cell_type": "code",
   "execution_count": null,
   "metadata": {},
   "outputs": [],
   "source": []
  }
 ],
 "metadata": {
  "kernelspec": {
   "display_name": "Python 3",
   "language": "python",
   "name": "python3"
  }
 },
 "nbformat": 4,
 "nbformat_minor": 0
}
