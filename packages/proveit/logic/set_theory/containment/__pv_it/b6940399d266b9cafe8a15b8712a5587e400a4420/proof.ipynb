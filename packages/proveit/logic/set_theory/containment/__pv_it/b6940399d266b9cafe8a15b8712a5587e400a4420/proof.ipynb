{
 "cells": [
  {
   "cell_type": "markdown",
   "metadata": {},
   "source": [
    "Show the Proof\n",
    "========"
   ]
  },
  {
   "cell_type": "code",
   "execution_count": 1,
   "metadata": {},
   "outputs": [
    {
     "data": {
      "text/html": [
       "<table><tr><th>&nbsp;</th><th>step type</th><th>requirements</th><th>statement</th></tr>\n",
       "<tr><td>0</td><td>specialization</td><td>1, 2</td><td><span style=\"font-size:20px;\"><a class=\"ProveItLink\" href=\"../92082b1f864c41fb521d0e19b100316dc873f7000/expr.ipynb\"><img src=\"data:image/png;base64,iVBORw0KGgoAAAANSUhEUgAAAE8AAAAVBAMAAAD1D64kAAAAMFBMVEX///9ERETc3NyqqqpUVFS6\n",
       "urrMzMwyMjIQEBCIiIh2dnYiIiLu7u5mZmaYmJgAAABJJ2g3AAAAAXRSTlMAQObYZgAAAUhJREFU\n",
       "KM9jYGDgu8eAH7CtUgBRPLsYCAG2ZhDJ+QHKzcZQwOf/xcWxFMi4DuJxNUCF6zGN4hBgYLgfwMCw\n",
       "Alkh3/4DGArzJwCxA5pC5ftgJ0fv3r27EqZwPlDo/QI0hRPmB8DkT26DMiSAeMcBVIWsB+wfwK3U\n",
       "VoDQXxgY1GUYoAp5C8BiR8EOggJWB0iwfJk5dx+I8R5EZEBsDGDQv4DwxQYwyfmJgeE0SA87UCql\n",
       "DaLZxcVfAKHQDUwyAl3F+Q/EEgc6KyIBbBkw0ArQFfIDTeP7BWRwA33OwAKWNwDyGtCtzgeaw/IZ\n",
       "5kYukCATUCH7B7g65gvwYNQvYEAOnuMgF/2BK4w+AAtGtvYDyAoV+4sY+OS/w7ydWwOmLv53cSkH\n",
       "By5KzMAM2717uyt6nGNTiBWAFfIRoRCcHnl2Ek7hrZCEuJiYPAMApJlWk7k5358AAAAASUVORK5C\n",
       "YII=\n",
       "\" style=\"display:inline;vertical-align:middle;\" /></a> <a class=\"ProveItLink\" href=\"proof.ipynb\" style=\"text-decoration: none\">&#x22A2;&nbsp;</a><a class=\"ProveItLink\" href=\"../5e6face9deb8f4990d49930649fd84e604ecfa3c0/expr.ipynb\"><img src=\"data:image/png;base64,iVBORw0KGgoAAAANSUhEUgAAADsAAAARBAMAAACRPMnQAAAAMFBMVEX///92dnYQEBBERERUVFS6\n",
       "urqIiIhmZmaqqqrc3Nzu7u6YmJgyMjIiIiLMzMwAAACFkkdwAAAAAXRSTlMAQObYZgAAAO9JREFU\n",
       "KM9jYACBtwzogNv/i4vzUSjnPJice/fu3WMLoEJMBgwM9QEQpfdhggyr70EZ7xOA2AHMnFE/AW7q\n",
       "XCgzH0jvFwAzE/ID4NKsEB0MRkB8CWwo64L+DQhHHYBQXxgY5liBWUvBFsGAH5jk+5KWfhsiEMAw\n",
       "vwBdmu0nA8NasD18Li7+BgjpC2CSWQGo5DfYaqAnD8BlOSAG8QN1cn8EsRoYGHgV4NKxkCB4D3Qs\n",
       "yw8ggxMozfMBJvv8FMLb80FmrgHZ9AsaqHc8GODe5tMBGjRZ/yQDt/2fAtQYKf7v4nJmAwMVAShC\n",
       "7941QBYCAC8bRZFIybTAAAAAAElFTkSuQmCC\n",
       "\" style=\"display:inline;vertical-align:middle;\" /></a></span></td></tr>\n",
       "<tr><td>&nbsp;</td><td colspan=4 style=\"text-align:left\"><span style=\"font-size:20px;\"><a class=\"ProveItLink\" href=\"../../../../../__pv_it/2cbe72a7ad6f655694dd697106680215e8489b600/expr.ipynb\"><img src=\"data:image/png;base64,iVBORw0KGgoAAAANSUhEUgAAAA8AAAAOBAMAAAACpFvcAAAALVBMVEX///8QEBBERERUVFS6urqI\n",
       "iIhmZmaqqqrc3Nzu7u6YmJgyMjIiIiLMzMwAAADtIaYWAAAAAXRSTlMAQObYZgAAAFtJREFUCNdj\n",
       "YACBOwxQsA9Kc52bAGG05zVAGAFxDmCaZULdAjBjCsO9ADDDgaEvAUTzGhvbKYCVMDAwbgAxChgY\n",
       "eASANAeQwf0AyJgNxEwvGRia5HYwcOm9TgAA6BoR3jrzwFcAAAAASUVORK5CYII=\n",
       "\" style=\"display:inline;vertical-align:middle;\" /></a> : <a class=\"ProveItLink\" href=\"../../../../../__pv_it/2cbe72a7ad6f655694dd697106680215e8489b600/expr.ipynb\"><img src=\"data:image/png;base64,iVBORw0KGgoAAAANSUhEUgAAAA8AAAAOBAMAAAACpFvcAAAALVBMVEX///8QEBBERERUVFS6urqI\n",
       "iIhmZmaqqqrc3Nzu7u6YmJgyMjIiIiLMzMwAAADtIaYWAAAAAXRSTlMAQObYZgAAAFtJREFUCNdj\n",
       "YACBOwxQsA9Kc52bAGG05zVAGAFxDmCaZULdAjBjCsO9ADDDgaEvAUTzGhvbKYCVMDAwbgAxChgY\n",
       "eASANAeQwf0AyJgNxEwvGRia5HYwcOm9TgAA6BoR3jrzwFcAAAAASUVORK5CYII=\n",
       "\" style=\"display:inline;vertical-align:middle;\" /></a>, <a class=\"ProveItLink\" href=\"../../../../../__pv_it/077b2ff79244fb4582cbe22c6e3356fa92a52f2f0/expr.ipynb\"><img src=\"data:image/png;base64,iVBORw0KGgoAAAANSUhEUgAAABAAAAAOBAMAAADUAYG5AAAAMFBMVEX///+qqqru7u4iIiJ2dnbc\n",
       "3NyIiIjMzMxmZmYQEBC6uroyMjJERERUVFSYmJgAAADLUcuvAAAAAXRSTlMAQObYZgAAAGpJREFU\n",
       "CNdjYGB4+//u3dMLGIBgDgMDxy8gzf4NiP8CGWxfGRj4vgAZPBMYGJgnARn8FxhY9ygAGfXX0pof\n",
       "gDTlBzAw2YIYJ0EckBBI53sHoBH/gIz7AhBjWH9DjancBLTl/N+7t/cxMAAA3u4f/5xagjYAAAAA\n",
       "SUVORK5CYII=\n",
       "\" style=\"display:inline;vertical-align:middle;\" /></a> : <a class=\"ProveItLink\" href=\"../../../../../__pv_it/077b2ff79244fb4582cbe22c6e3356fa92a52f2f0/expr.ipynb\"><img src=\"data:image/png;base64,iVBORw0KGgoAAAANSUhEUgAAABAAAAAOBAMAAADUAYG5AAAAMFBMVEX///+qqqru7u4iIiJ2dnbc\n",
       "3NyIiIjMzMxmZmYQEBC6uroyMjJERERUVFSYmJgAAADLUcuvAAAAAXRSTlMAQObYZgAAAGpJREFU\n",
       "CNdjYGB4+//u3dMLGIBgDgMDxy8gzf4NiP8CGWxfGRj4vgAZPBMYGJgnARn8FxhY9ygAGfXX0pof\n",
       "gDTlBzAw2YIYJ0EckBBI53sHoBH/gIz7AhBjWH9DjancBLTl/N+7t/cxMAAA3u4f/5xagjYAAAAA\n",
       "SUVORK5CYII=\n",
       "\" style=\"display:inline;vertical-align:middle;\" /></a></span></td></tr><tr><td>1</td><td>theorem</td><td></td><td><span style=\"font-size:20px;\"> <a class=\"ProveItLink\" href=\"../../_proofs_/relaxSupset.ipynb\" style=\"text-decoration: none\">&#x22A2;&nbsp;</a><a class=\"ProveItLink\" href=\"../1c3a2980fa64d1f66ff39f82bc9d6a1c3e5d13f60/expr.ipynb\"><img src=\"data:image/png;base64,iVBORw0KGgoAAAANSUhEUgAAALkAAAAXBAMAAACllfPxAAAAMFBMVEX///8QEBC6urrMzMxUVFRm\n",
       "ZmZERETc3NwyMjKqqqp2dnaIiIiYmJgiIiLu7u4AAAAU9Wx4AAAAAXRSTlMAQObYZgAAAtlJREFU\n",
       "SMe1VE1oE0EU/ppkd5pku+1JPZUcvPnTCFVBDw02lIpgcujqqdj6k3oyexCLSDAXLaKkudRzwIMV\n",
       "QSp6y6FRRLQiRrQgaiAF68m20iRttdo6P9nNmCrBVQd23tv35n3zfgf4r6vo2HJbA/1D+uUZ88wB\n",
       "uDskSH6D5tF6OHw6ACUI3GL/KQfozSLq5s+cJAqFwlUrD5sAZRFIAufoHxlwgJ4V5PmaLfn0qhrV\n",
       "Kv3KwJRwQUk7QG/nOxlbrokSJid+KtK+AjOU3BweTjgAdyUFkn9RkolSqG1AC71cpU4vxWJvHaAr\n",
       "GU52er9JQnFjawjkMk2JLwp0A0NcOML36xWjJ8gdsctnWpw3bvSdsKQ5tusBlmR7dfO961C2n2m9\n",
       "9LKt0PmVmghRa4O/jcdnmbwI2NYPgLtVtikgXCCVDeiTJvTXTMkyBD93Y1aEqITgWpbR9WM5zBrG\n",
       "Dcb3AR3VSFo5emc4vCShi94fZDdQTDdtVn+uhffpnWmuapmAkpfRfXNR6PPz+w5T/h3QDxmdbltq\n",
       "4N4oJ2UWcEag68lO3qQTMa5aCOKJKaPvV8U07KFHS9BGrMywLvbS72UNfQd3082SEEmLzGDoAJN5\n",
       "ql51ZO+fgYweEqHAF4BrNdtjzaPK0nmefqM2+O6U3e5khZWQ1XOMWz/FJNeN09oVJXQt7Rez7s7A\n",
       "l4TWbiUsCtEO8WL1JXhzEHa770pVj6BpgtVu2hDHTtHkpCX0OeOImHUShUor8MWanDzI4IqJx+uX\n",
       "6gYhXg73XuNNy0qjMVTFRBdvc2rdEZTQj8JdEiXLoTUNV8lC2dxw4GZsbjvtghwZAVkDmZby7qLp\n",
       "Fa2qFnGxiETUsphqiH7bYj4sgUTe02qPV4zedA1djwzg7HdWQHIcvlGj70r9C2w9YAW2fnprxZBK\n",
       "S5N4VeI/xmInzbqzJNTAdU+9xd7foP9yXWigv1cvyP0J+l8tzz/A+AHe1bp5l8X/twAAAABJRU5E\n",
       "rkJggg==\n",
       "\" style=\"display:inline;vertical-align:middle;\" /></a></span></td></tr>\n",
       "<tr><td>&nbsp;</td><td colspan=4 style-\"text-align:left\"><a class=\"ProveItLink\" href=\"../../_proofs_/relaxSupset.ipynb\">proveit.logic.set_theory.containment.relaxSupset</a></td></tr><tr><td>2</td><td>assumption</td><td></td><td><span style=\"font-size:20px;\"><a class=\"ProveItLink\" href=\"../92082b1f864c41fb521d0e19b100316dc873f7000/expr.ipynb\"><img src=\"data:image/png;base64,iVBORw0KGgoAAAANSUhEUgAAAE8AAAAVBAMAAAD1D64kAAAAMFBMVEX///9ERETc3NyqqqpUVFS6\n",
       "urrMzMwyMjIQEBCIiIh2dnYiIiLu7u5mZmaYmJgAAABJJ2g3AAAAAXRSTlMAQObYZgAAAUhJREFU\n",
       "KM9jYGDgu8eAH7CtUgBRPLsYCAG2ZhDJ+QHKzcZQwOf/xcWxFMi4DuJxNUCF6zGN4hBgYLgfwMCw\n",
       "Alkh3/4DGArzJwCxA5pC5ftgJ0fv3r27EqZwPlDo/QI0hRPmB8DkT26DMiSAeMcBVIWsB+wfwK3U\n",
       "VoDQXxgY1GUYoAp5C8BiR8EOggJWB0iwfJk5dx+I8R5EZEBsDGDQv4DwxQYwyfmJgeE0SA87UCql\n",
       "DaLZxcVfAKHQDUwyAl3F+Q/EEgc6KyIBbBkw0ArQFfIDTeP7BWRwA33OwAKWNwDyGtCtzgeaw/IZ\n",
       "5kYukCATUCH7B7g65gvwYNQvYEAOnuMgF/2BK4w+AAtGtvYDyAoV+4sY+OS/w7ydWwOmLv53cSkH\n",
       "By5KzMAM2717uyt6nGNTiBWAFfIRoRCcHnl2Ek7hrZCEuJiYPAMApJlWk7k5358AAAAASUVORK5C\n",
       "YII=\n",
       "\" style=\"display:inline;vertical-align:middle;\" /></a> <a class=\"ProveItLink\" href=\"../fba2b5ba372f38b8c5448b6581caea0c3c2b69660/proof.ipynb\" style=\"text-decoration: none\">&#x22A2;&nbsp;</a><a class=\"ProveItLink\" href=\"../113f37a984480f946e743e317867bb10f7bce0800/expr.ipynb\"><img src=\"data:image/png;base64,iVBORw0KGgoAAAANSUhEUgAAADsAAAAPBAMAAACo4Ko7AAAAMFBMVEX///92dnYQEBBERERUVFS6\n",
       "urqIiIhmZmaqqqrc3Nzu7u6YmJgyMjIiIiLMzMwAAACFkkdwAAAAAXRSTlMAQObYZgAAAOVJREFU\n",
       "GNNjYACBtwzogNv/i4vzUSjnPIY0A5MBA0N9AETp/QUY0u8TgNgBzJxRPwFExd69e/cYTDofKLRf\n",
       "AMxMyA+AiS67B2UYAfElsKGsC/o3wA2dOwFCf2FgmGMFZi0FWwQFrBD7+L6kpd+GiAQwzC9AuOkC\n",
       "mGT7ycCwFqySz8XF3wAh7QcmmRWASn6DjQN68gC6ND9QJ/dHEKuBgYFXAd3w90DHsvwAMjiB0jwf\n",
       "4LIcBXBvzweZuQZk0y+4dOwCmLf5dIDMyfonGbjt/8Cc/vwUmCr+7+JyZgNqMAMD9Y4rqhAAEl0/\n",
       "W0VPoRUAAAAASUVORK5CYII=\n",
       "\" style=\"display:inline;vertical-align:middle;\" /></a></span></td></tr>\n",
       "</table>"
      ],
      "text/plain": [
       "<proveit._core_.proof._ShowProof at 0x7f94eaf10940>"
      ]
     },
     "execution_count": 1,
     "metadata": {},
     "output_type": "execute_result"
    }
   ],
   "source": [
    "import proveit\n",
    "%show_proof"
   ]
  },
  {
   "cell_type": "code",
   "execution_count": null,
   "metadata": {},
   "outputs": [],
   "source": []
  }
 ],
 "metadata": {
  "kernelspec": {
   "display_name": "Python 3",
   "language": "python",
   "name": "python3"
  }
 },
 "nbformat": 4,
 "nbformat_minor": 0
}
