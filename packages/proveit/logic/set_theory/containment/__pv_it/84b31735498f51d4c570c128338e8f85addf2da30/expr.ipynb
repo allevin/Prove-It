{
 "cells": [
  {
   "cell_type": "markdown",
   "metadata": {},
   "source": [
    "Expression of type <a class=\"ProveItLink\" href=\"../../../../../../../doc/html/api/proveit.logic.Set.html\">Set</a>\n",
    "=======================\n",
    "# from context <a class=\"ProveItLink\" href=\"../../_context_.ipynb\">proveit.logic.set_theory.containment</a>"
   ]
  },
  {
   "cell_type": "code",
   "execution_count": 1,
   "metadata": {},
   "outputs": [],
   "source": [
    "# import Expression classes needed to build the expression\n",
    "from proveit._common_ import A, B, x\n",
    "from proveit.logic import InSet, Set, SubsetEq"
   ]
  },
  {
   "cell_type": "code",
   "execution_count": 2,
   "metadata": {},
   "outputs": [
    {
     "data": {
      "text/html": [
       "<strong id=\"expr\">expr:</strong> <a class=\"ProveItLink\" href=\"expr.ipynb\"><img src=\"data:image/png;base64,iVBORw0KGgoAAAANSUhEUgAAAI0AAAAVBAMAAACJRXC4AAAAMFBMVEX///9ERETc3NyqqqpUVFS6\n",
       "urrMzMwyMjIQEBCIiIh2dnYiIiLu7u5mZmaYmJgAAABJJ2g3AAAAAXRSTlMAQObYZgAAAgtJREFU\n",
       "OMtjYGDgu8dAEWBbpQCieHYxUAjYmkEk5wfcCjYgcbIxpPn8v7g4lgIZ10E8rgac5rAjW1EPpafv\n",
       "3r17K4TJIcDAcD+AgWEFAXNe/0GyfP8BiLPmIMTyJwCxA1ZzeIDWFUDZTLafEBLK98GhybQJSfF8\n",
       "oND7BVjNSX+DYHNyfkVwJswPAFEsAUiKJYB4xwFkc7SmKM+dALJOBklZDPM/OJv1gP0DEH0c2dIv\n",
       "DAzqIA1gc3iB3uBZwLePAxQ5jApIXgxg+wnnHAUHBgNDCnJ0fpk5dx+I8R5EZABdygWMfeYEIOcg\n",
       "kjJWBqa/cE4Ag/4FdHM4gcF32gEUr0CplDaQ1QwsAmCpCGCkwsI5xcXlI9xqFxd/sApuJHMYgSHC\n",
       "Cfa6ONDPEQngpDCBAd06oDvbEW5j4AAbz2uAUMAPdAvfL5DhC0AxAJbXT2AApY/TCFXMoMiAcYC6\n",
       "ucHxyrMVKfkAXcHyGRY+XMDw5VOYz8AJMoflASLBQNIwDzjVGMAT9/FrKMlHv4ABKd7tH0gwaKJa\n",
       "xwNSIH+A4fwGaGwzQhN3SDUsXwCTD1v7AWRzDs46tRLiEnWodUwS3xUYHv6vZTgBjBTF/iIGPvnv\n",
       "F1BzzcX/Li7lYF3Y8pdJNTxfQEAQ4YKDUD4FgwdEmsNHkjm8oAS2eyuqEnD5w7MTrzGcRJSHrZCS\n",
       "ZTEVymcApbKPf/+DTBYAAAAASUVORK5CYII=\n",
       "\" style=\"display:inline;vertical-align:middle;\" /></a><br>"
      ],
      "text/plain": [
       "expr: {x in A , A subseteq B}"
      ]
     },
     "execution_count": 2,
     "metadata": {},
     "output_type": "execute_result"
    }
   ],
   "source": [
    "# build up the expression from sub-expressions\n",
    "expr = Set(InSet(x, A), SubsetEq(A, B))"
   ]
  },
  {
   "cell_type": "code",
   "execution_count": 3,
   "metadata": {},
   "outputs": [
    {
     "name": "stdout",
     "output_type": "stream",
     "text": [
      "Passed sanity check: built 'expr' is the same as the stored Expression.\n"
     ]
    }
   ],
   "source": [
    "# check that the built expression is the same as the stored expression\n",
    "%check_expr"
   ]
  },
  {
   "cell_type": "code",
   "execution_count": 4,
   "metadata": {},
   "outputs": [
    {
     "data": {
      "text/html": [
       "<table><tr><th>&nbsp;</th><th>core type</th><th>sub-expressions</th><th>expression</th></tr>\n",
       "<tr><td>0</td><td>Operation</td><td>operator:&nbsp;1<br>operands:&nbsp;2<br></td><td><a class=\"ProveItLink\" href=\"expr.ipynb\"><img src=\"data:image/png;base64,iVBORw0KGgoAAAANSUhEUgAAAI0AAAAVBAMAAACJRXC4AAAAMFBMVEX///9ERETc3NyqqqpUVFS6\n",
       "urrMzMwyMjIQEBCIiIh2dnYiIiLu7u5mZmaYmJgAAABJJ2g3AAAAAXRSTlMAQObYZgAAAgtJREFU\n",
       "OMtjYGDgu8dAEWBbpQCieHYxUAjYmkEk5wfcCjYgcbIxpPn8v7g4lgIZ10E8rgac5rAjW1EPpafv\n",
       "3r17K4TJIcDAcD+AgWEFAXNe/0GyfP8BiLPmIMTyJwCxA1ZzeIDWFUDZTLafEBLK98GhybQJSfF8\n",
       "oND7BVjNSX+DYHNyfkVwJswPAFEsAUiKJYB4xwFkc7SmKM+dALJOBklZDPM/OJv1gP0DEH0c2dIv\n",
       "DAzqIA1gc3iB3uBZwLePAxQ5jApIXgxg+wnnHAUHBgNDCnJ0fpk5dx+I8R5EZABdygWMfeYEIOcg\n",
       "kjJWBqa/cE4Ag/4FdHM4gcF32gEUr0CplDaQ1QwsAmCpCGCkwsI5xcXlI9xqFxd/sApuJHMYgSHC\n",
       "Cfa6ONDPEQngpDCBAd06oDvbEW5j4AAbz2uAUMAPdAvfL5DhC0AxAJbXT2AApY/TCFXMoMiAcYC6\n",
       "ucHxyrMVKfkAXcHyGRY+XMDw5VOYz8AJMoflASLBQNIwDzjVGMAT9/FrKMlHv4ABKd7tH0gwaKJa\n",
       "xwNSIH+A4fwGaGwzQhN3SDUsXwCTD1v7AWRzDs46tRLiEnWodUwS3xUYHv6vZTgBjBTF/iIGPvnv\n",
       "F1BzzcX/Li7lYF3Y8pdJNTxfQEAQ4YKDUD4FgwdEmsNHkjm8oAS2eyuqEnD5w7MTrzGcRJSHrZCS\n",
       "ZTEVymcApbKPf/+DTBYAAAAASUVORK5CYII=\n",
       "\" style=\"display:inline;vertical-align:middle;\" /></a></td></tr>\n",
       "<tr><td>1</td><td>Literal</td><td></td><td><a class=\"ProveItLink\" href=\"../../../enumeration/__pv_it/07381ed5b23806e8d7914b78cb6667769e3708dd0/expr.ipynb\"><img src=\"data:image/png;base64,iVBORw0KGgoAAAANSUhEUgAAAB4AAAAOBAMAAADKyLEKAAAAMFBMVEX///8iIiIQEBCIiIjMzMzc\n",
       "3Nyqqqp2dnZEREQyMjK6urru7u5mZmZUVFSYmJgAAACI6eGPAAAAAXRSTlMAQObYZgAAALRJREFU\n",
       "CNdjYGDgu3Nm3wIGBJjHwN0PZW5yYGDgLWBgyITy8zcwMMQDxZyh/INAvD6BgcEFypcB4vjPDiBm\n",
       "TPFRrhs/LjMwMP//38rAwCbKEMPA9gEkE3fp0waG+AUMRxh4JkC01T9guPTOOICBEWgVH5C//wHD\n",
       "H5D4fqCz9oCMDGD4DLaegRXslLMMDMpAgxlOMmQxHDRgYG5gYLBk4D7KcIe7gOHC2rt9QCXsh40Z\n",
       "GCKMGQDRkC8N/Ph1XAAAAABJRU5ErkJggg==\n",
       "\" style=\"display:inline;vertical-align:middle;\" /></a></td></tr>\n",
       "<tr><td>2</td><td>ExprTuple</td><td>3, 4</td><td><a class=\"ProveItLink\" href=\"../51c720bc2a811bc74aa6384a5404aa2a94d1790a0/expr.ipynb\"><img src=\"data:image/png;base64,iVBORw0KGgoAAAANSUhEUgAAAIYAAAAVBAMAAABxpYtPAAAAMFBMVEX////c3NwiIiJERESqqqqY\n",
       "mJh2dnZmZmYQEBDu7u4yMjJUVFTMzMyIiIi6uroAAAAs73DqAAAAAXRSTlMAQObYZgAAAhVJREFU\n",
       "OMtjYKAG4LtAkXbWB0DiNC5ZHgUkziFMzft/7968joGhBsheicsMrg9InPVQ+paSkpIehMlhwMBQ\n",
       "/4CBi4GBF6dXgn4iWao/AeKcmwix80Cd5zcwsCYwcExA0sYJtGYBlM3o/hEhIVIvABZTRFJ8HygU\n",
       "n8DA2cDwCtnqU5EINi/vPwTnwn1Q0DFwP0BSbAHEGkAXmDCUAVlit0Wug7zEaImk5CXLV0TcTfAP\n",
       "ANGzkC38zcAgBdKQzrAU6IMEVlUOUCQwCyB56wHPXzhnHtjzqHHI8/vudVUQw4uhj4GBjYH3A8sB\n",
       "IG8ycrJhYPwO5zxgkC9AN4MXGFyTNgAZLxiAnuZk4DYAC78ARhwsTE/v3v0ZbuXu3fvBKpiQzGBu\n",
       "AJoD8u55BnDAcUAiGNkaYOh1IdzEwAE2mt0BoYAf6AbWb2AzWkB8+QMMoCiehFDBAgp0GAeok6kB\n",
       "HEh6SMkDGMrcX8B+MQWaJnCfgRdkBncAIkFA0iYnOFU4wBPtrBqU5CEPcl0UMGYY/AMsGGRRreEE\n",
       "SdpPYJivAI1RZmiifb0IltaByYOnawI4bh8Bo+PatFyIC6Sg1jBa/BJgCP6/nGEGMPCF+xcysNr/\n",
       "KkDNCcX/d+9eBda1joFDAFnGexE8rUPAQ4KZH5jWgVkGHwggaAbbBTx5H4sZ7KAEpKSHIgYKLWl8\n",
       "RvASLsg2gsKPsrKQ9wADACn/g118Q9fiAAAAAElFTkSuQmCC\n",
       "\" style=\"display:inline;vertical-align:middle;\" /></a></td></tr>\n",
       "<tr><td>3</td><td>Operation</td><td>operator:&nbsp;5<br>operands:&nbsp;6<br></td><td><a class=\"ProveItLink\" href=\"../d22ddc5a10eb975511dd53c73f90645ec65bd9fe0/expr.ipynb\"><img src=\"data:image/png;base64,iVBORw0KGgoAAAANSUhEUgAAADUAAAAPBAMAAAC2KZqIAAAAMFBMVEX///+6uroyMjJERETMzMwQ\n",
       "EBAiIiKYmJju7u5mZmaqqqpUVFSIiIh2dnbc3NwAAAAWgogoAAAAAXRSTlMAQObYZgAAAMlJREFU\n",
       "GNNjYMAB3BhwA33cUuz5DSj8HrW0JBj71fwHyFIs6khKD5wXAJJvT786eQDEfYwkxdiwvoCBgeMC\n",
       "ezprAohvh2RGI4M/UD0vA88HLgcgl8MASU6A4f0EoBADN0SQMSwtDeYWlt2794NFWQ9A+BuQrAOK\n",
       "KoAY7x0YQK7gSEDILWBgYAsAevLBeQYesAu3w6X4gHJMHxgY1heYMrwBi7QJwOSagJj5BwND89ne\n",
       "OwUQ1ZoOEKnH8XoM7PafJiAHDNcmRJiBAACh/y/lW8971AAAAABJRU5ErkJggg==\n",
       "\" style=\"display:inline;vertical-align:middle;\" /></a></td></tr>\n",
       "<tr><td>4</td><td>Operation</td><td>operator:&nbsp;7<br>operands:&nbsp;8<br></td><td><a class=\"ProveItLink\" href=\"../586c891807183c577ae8a72ee7e3b9f21144c4d50/expr.ipynb\"><img src=\"data:image/png;base64,iVBORw0KGgoAAAANSUhEUgAAADsAAAARBAMAAACRPMnQAAAAMFBMVEX///92dnYQEBBERERUVFS6\n",
       "urqIiIhmZmaqqqrc3Nzu7u6YmJgyMjIiIiLMzMwAAACFkkdwAAAAAXRSTlMAQObYZgAAAO1JREFU\n",
       "KM9jYACBtwzogNv/i4vzUSjnPJTOuXv37lUIk8mAgaE+AKL0/gKIIVkI7e8TgNgBzJxRPwFEcd5E\n",
       "Mj0fKLRfAMxMyAebwhKAJG0ExJfAhrIu6N8Aotcgu+0LA8McKzBrKdgiBoYnSLJ8X9LSb0OYAQzz\n",
       "C9Cl2X4yMKwFu4zPxcXfAMTgRZJmVgAq+Q22GujJAyAGewNCmh+ok/sjiAUU5FUAMbiuInkb6FiW\n",
       "HyDfAqV5PoDF1tSheHv+Aah3mH9BBEPOwgIV6G0+HaC3J+ufZOC2/1OAGiPF/11czmxgoCJgv3sX\n",
       "EaEQAABXikRkFnmHwgAAAABJRU5ErkJggg==\n",
       "\" style=\"display:inline;vertical-align:middle;\" /></a></td></tr>\n",
       "<tr><td>5</td><td>Literal</td><td></td><td><a class=\"ProveItLink\" href=\"../../../membership/__pv_it/088cbc857536a28d4119ad9639a84270ccb0545d0/expr.ipynb\"><img src=\"data:image/png;base64,iVBORw0KGgoAAAANSUhEUgAAAAwAAAAMBAMAAACkW0HUAAAALVBMVEX///+qqqpmZmZUVFQQEBC6\n",
       "urpERETc3NyYmJjMzMwiIiIyMjKIiIju7u4AAACYsrA9AAAAAXRSTlMAQObYZgAAADxJREFUCNdj\n",
       "YOA9vWrVBgaG2b0MQMCeCyIZ2ArA1DUwyRCyahVIyWQI7xaEYm4AU7xLIdxqTQgtvGvVBgCkcQ7e\n",
       "geM/tQAAAABJRU5ErkJggg==\n",
       "\" style=\"display:inline;vertical-align:middle;\" /></a></td></tr>\n",
       "<tr><td>6</td><td>ExprTuple</td><td>9, 10</td><td><a class=\"ProveItLink\" href=\"../06706af7e4d9309974f9792530dc1cae39ec95130/expr.ipynb\"><img src=\"data:image/png;base64,iVBORw0KGgoAAAANSUhEUgAAADEAAAAVBAMAAAAdjxsPAAAAMFBMVEX////c3NwiIiJERESqqqqY\n",
       "mJh2dnZmZmYQEBDu7u4yMjJUVFTMzMyIiIi6uroAAAAs73DqAAAAAXRSTlMAQObYZgAAARRJREFU\n",
       "KM9jYMAN+C5gEYwDEafRRXkUGBjYDwAZK9FluD4AiQUMDLwYhgX9BBJhDAwcE9AkGN0/AskZDAyv\n",
       "0LXw8v4DkswODGVASuy2yHW4oS9ZvgJJtgKGpQwMnAmsqhwKUAnOBzx/gRTLAoY+oDwD7weWAzDv\n",
       "MTB+B1ENDEBDORm4DeDWnN69+zPIUx9AMkAHIpz+gIGhCyLTAuLKH2CAOp4FiDUgppkyMLAK3Gfg\n",
       "nQCREwHi9UDMuoAhnYHBP8CCQZaB8xPIZcBQYbCfAHb1IwaGydem5QYwcPYLMDBa/BJgCP6/HBh4\n",
       "Dxg4BODRIYAUEsDQYU2AcViRwygXORaQZcD2ScN4yNHBDTKZEVts32FgAADlCTw7rUcUdAAAAABJ\n",
       "RU5ErkJggg==\n",
       "\" style=\"display:inline;vertical-align:middle;\" /></a></td></tr>\n",
       "<tr><td>7</td><td>Literal</td><td></td><td><a class=\"ProveItLink\" href=\"../e2e953faef156628f98c5cddef8a5f8ea43a24550/expr.ipynb\"><img src=\"data:image/png;base64,iVBORw0KGgoAAAANSUhEUgAAAA4AAAAQBAMAAADUulMJAAAAJFBMVEX///+qqqpmZmZUVFTc3Nzu\n",
       "7u7MzMy6uroiIiIyMjKIiIgAAABMlAC/AAAAAXRSTlMAQObYZgAAAD1JREFUCNdjYGBY2dHR0c7A\n",
       "kLGUAQRYWsAUA3MBhI6EUAzJaDQHlGYSgNCs7VCBSDUoo3gG2FwcgKkDBNoBPfYM6Npt1O0AAAAA\n",
       "SUVORK5CYII=\n",
       "\" style=\"display:inline;vertical-align:middle;\" /></a></td></tr>\n",
       "<tr><td>8</td><td>ExprTuple</td><td>10, 11</td><td><a class=\"ProveItLink\" href=\"../caee09fb4b5c95b986a9cee46a014afbad9bdc680/expr.ipynb\"><img src=\"data:image/png;base64,iVBORw0KGgoAAAANSUhEUgAAADUAAAAVBAMAAAAUZLt1AAAAMFBMVEX////c3NwiIiJERESqqqqY\n",
       "mJh2dnZmZmYQEBDu7u4yMjJUVFTMzMyIiIi6uroAAAAs73DqAAAAAXRSTlMAQObYZgAAATZJREFU\n",
       "KM9jYMAH+C5gFY4DEach7EMwQdb9v3dvXsfAfgDIXgkRWg/XwWHAwFD/gGEBAwMvxEhW/QkwufNA\n",
       "kfMbGMKAqiBiIvUCMLn7QFZ8AsMMBoZXEIEL9x/A5CyAWGMCA7MDQxnEsRP8A2ByvxkYpCwZGNgK\n",
       "GJaC+fPAtoABz++711WBNMsChj6wwAMG+QKoHO9HBoZJG4BGNTD8A6vdvXu/AVSOuQEo/xUo9gEi\n",
       "xwd07wKoHD9QD+s3sFwLiO/AwMDUAPMe0FHcX8BmmgK5jEA5rg8MDBNg3pMHGsK6gCEdyJ0FsuYn\n",
       "A+cnqPd4uiaA/fCIgUG4fyEDq/2vAs5+oJbi/7t3rwL5lesBA4cAUnQhsUFhxpqA4LIiR2AuIo7Q\n",
       "5ThBfpJG8JFTADfIfEbsaeIOAwMABOxNRsfkiy0AAAAASUVORK5CYII=\n",
       "\" style=\"display:inline;vertical-align:middle;\" /></a></td></tr>\n",
       "<tr><td>9</td><td>Variable</td><td></td><td><a class=\"ProveItLink\" href=\"../../../../../__pv_it/530be409e3083890784cf1d7b28c9e67e90af9360/expr.ipynb\"><img src=\"data:image/png;base64,iVBORw0KGgoAAAANSUhEUgAAAAsAAAAJBAMAAAAWSsseAAAAKlBMVEX///9ERETMzMwQEBAiIiKY\n",
       "mJju7u5mZmaqqqpUVFSIiIh2dnbc3NwAAAA/vyDhAAAAAXRSTlMAQObYZgAAAENJREFUCNdjYDi9\n",
       "8sTyBQxsG1hdmR0YuBm4LnAoMLAxcAowgADzAjB1VoEhgYH1wFoGrgSG3gBhhlMMDImrs3cFMAAA\n",
       "t0YN+iTRa+sAAAAASUVORK5CYII=\n",
       "\" style=\"display:inline;vertical-align:middle;\" /></a></td></tr>\n",
       "<tr><td>10</td><td>Variable</td><td></td><td><a class=\"ProveItLink\" href=\"../../../../../__pv_it/2cbe72a7ad6f655694dd697106680215e8489b600/expr.ipynb\"><img src=\"data:image/png;base64,iVBORw0KGgoAAAANSUhEUgAAAA8AAAAOBAMAAAACpFvcAAAALVBMVEX///8QEBBERERUVFS6urqI\n",
       "iIhmZmaqqqrc3Nzu7u6YmJgyMjIiIiLMzMwAAADtIaYWAAAAAXRSTlMAQObYZgAAAFtJREFUCNdj\n",
       "YACBOwxQsA9Kc52bAGG05zVAGAFxDmCaZULdAjBjCsO9ADDDgaEvAUTzGhvbKYCVMDAwbgAxChgY\n",
       "eASANAeQwf0AyJgNxEwvGRia5HYwcOm9TgAA6BoR3jrzwFcAAAAASUVORK5CYII=\n",
       "\" style=\"display:inline;vertical-align:middle;\" /></a></td></tr>\n",
       "<tr><td>11</td><td>Variable</td><td></td><td><a class=\"ProveItLink\" href=\"../../../../../__pv_it/077b2ff79244fb4582cbe22c6e3356fa92a52f2f0/expr.ipynb\"><img src=\"data:image/png;base64,iVBORw0KGgoAAAANSUhEUgAAABAAAAAOBAMAAADUAYG5AAAAMFBMVEX///+qqqru7u4iIiJ2dnbc\n",
       "3NyIiIjMzMxmZmYQEBC6uroyMjJERERUVFSYmJgAAADLUcuvAAAAAXRSTlMAQObYZgAAAGpJREFU\n",
       "CNdjYGB4+//u3dMLGIBgDgMDxy8gzf4NiP8CGWxfGRj4vgAZPBMYGJgnARn8FxhY9ygAGfXX0pof\n",
       "gDTlBzAw2YIYJ0EckBBI53sHoBH/gIz7AhBjWH9DjancBLTl/N+7t/cxMAAA3u4f/5xagjYAAAAA\n",
       "SUVORK5CYII=\n",
       "\" style=\"display:inline;vertical-align:middle;\" /></a></td></tr>\n",
       "</table>\n"
      ],
      "text/plain": [
       "0. {x in A , A subseteq B}\n",
       "   core type: Operation\n",
       "   operator: 1\n",
       "   operands: 2\n",
       "1. Set\n",
       "   core type: Literal\n",
       "   sub-expressions: \n",
       "2. (x in A , A subseteq B)\n",
       "   core type: ExprTuple\n",
       "   sub-expressions: 3, 4\n",
       "3. x in A\n",
       "   core type: Operation\n",
       "   operator: 5\n",
       "   operands: 6\n",
       "4. A subseteq B\n",
       "   core type: Operation\n",
       "   operator: 7\n",
       "   operands: 8\n",
       "5. in\n",
       "   core type: Literal\n",
       "   sub-expressions: \n",
       "6. (x , A)\n",
       "   core type: ExprTuple\n",
       "   sub-expressions: 9, 10\n",
       "7. subseteq\n",
       "   core type: Literal\n",
       "   sub-expressions: \n",
       "8. (A , B)\n",
       "   core type: ExprTuple\n",
       "   sub-expressions: 10, 11\n",
       "9. x\n",
       "   core type: Variable\n",
       "   sub-expressions: \n",
       "10. A\n",
       "    core type: Variable\n",
       "    sub-expressions: \n",
       "11. B\n",
       "    core type: Variable\n",
       "    sub-expressions: "
      ]
     },
     "execution_count": 4,
     "metadata": {},
     "output_type": "execute_result"
    }
   ],
   "source": [
    "# display the expression information\n",
    "expr.exprInfo()"
   ]
  },
  {
   "cell_type": "code",
   "execution_count": null,
   "metadata": {},
   "outputs": [],
   "source": []
  }
 ],
 "metadata": {
  "kernelspec": {
   "display_name": "Python 3",
   "language": "python",
   "name": "python3"
  }
 },
 "nbformat": 4,
 "nbformat_minor": 0
}
