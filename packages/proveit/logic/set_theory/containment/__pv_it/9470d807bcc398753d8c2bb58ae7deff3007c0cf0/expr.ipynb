{
 "cells": [
  {
   "cell_type": "markdown",
   "metadata": {},
   "source": [
    "Expression of type <a class=\"ProveItLink\" href=\"../../../../../../../doc/html/api/proveit.Lambda.html\">Lambda</a>\n",
    "=======================\n",
    "# from context <a class=\"ProveItLink\" href=\"../../_context_.ipynb\">proveit.logic.set_theory.containment</a>"
   ]
  },
  {
   "cell_type": "code",
   "execution_count": 1,
   "metadata": {},
   "outputs": [],
   "source": [
    "# import Expression classes needed to build the expression\n",
    "from proveit import Lambda\n",
    "from proveit._common_ import A, B\n",
    "from proveit.logic import Subset, SubsetEq"
   ]
  },
  {
   "cell_type": "code",
   "execution_count": 2,
   "metadata": {},
   "outputs": [
    {
     "data": {
      "text/html": [
       "<strong id=\"expr\">expr:</strong> <a class=\"ProveItLink\" href=\"expr.ipynb\"><img src=\"data:image/png;base64,iVBORw0KGgoAAAANSUhEUgAAAM8AAAAVCAMAAADW+kokAAAANlBMVEX///8UFBQNDQ2qqqru7u4i\n",
       "IiJ2dnbc3NyIiIjMzMxmZmYQEBC6uroyMjJERERUVFSYmJgAAAC3B9V0AAAAAXRSTlMAQObYZgAA\n",
       "AhBJREFUWMPNV1tihCAM3BYQ5M39L1tdH00CUbbadvlZbWWGSYYQHo93GUL/I7k31+ZnX/1p8Let\n",
       "LqdS0jRi6MQcE3pTr3PYsUvPT6Dn4eLzx5Y+QUGit4L/a4JaBgbDHKFLD4VmBl3+WMz6m3qmG+S2\n",
       "rIpEITWymVPMkYcOPQSatQtdvinLZsxl6AoHJNHCFrCVtWL2NeGQ7lwPgWZTXy0/ruDK9YTDI6+Y\n",
       "CQ6gJ86xlCOKUz0Emk19tfwlTzrE/XNsb4G4LUyilw9R8v4qAxcFyjHYMz0Emk89hZ58Z4yxCswl\n",
       "dSXBuATwnfTf9q0rH/I44RDhRA+FZlNfQa/+kypxemQCoXEAd37UxZ7rqTi8O9FDodnUV9Cb/8x3\n",
       "dj8/FBoOGBk8jnPdTyWyia08vnOM5VhPBc2GqoLeyhwob3RZMNdAz/LkQOSsOPI44DjTU0Gzeij0\n",
       "uOlKRTB6LNyJbv9KbHUFOFP5tscpx4nfGtCK2z4EeivfugRm7ogO0Jj386FxistQ9zItjnxYD1rQ\n",
       "TOor6NV/owNtDO43cdXfKu2+QSM+xX0K1aFXcxzW6yY0k3oCbePSzQVYho/P02fydHQlzJHJE0Cw\n",
       "hzNaHLT3BXo46FbqX19+o9+54arS0+80QtlI/Q33i+E6xmB+7/7z8gh8m2fBoXWwQtl3X/ijodNV\n",
       "hKTfSc9DX7xvm7qkm1v0fAFaERwOnImg9gAAAABJRU5ErkJggg==\n",
       "\" style=\"display:inline;vertical-align:middle;\" /></a><br>"
      ],
      "text/plain": [
       "expr: B -> (A subseteq B) | A subset B"
      ]
     },
     "execution_count": 2,
     "metadata": {},
     "output_type": "execute_result"
    }
   ],
   "source": [
    "# build up the expression from sub-expressions\n",
    "expr = Lambda(B, SubsetEq(A, B), conditions = [Subset(A, B)])"
   ]
  },
  {
   "cell_type": "code",
   "execution_count": 3,
   "metadata": {},
   "outputs": [
    {
     "name": "stdout",
     "output_type": "stream",
     "text": [
      "Passed sanity check: built 'expr' is the same as the stored Expression.\n"
     ]
    }
   ],
   "source": [
    "# check that the built expression is the same as the stored expression\n",
    "%check_expr"
   ]
  },
  {
   "cell_type": "code",
   "execution_count": 4,
   "metadata": {},
   "outputs": [
    {
     "data": {
      "text/html": [
       "<table><tr><th>&nbsp;</th><th>core type</th><th>sub-expressions</th><th>expression</th></tr>\n",
       "<tr><td>0</td><td>Lambda</td><td>parameter:&nbsp;8<br>body:&nbsp;1<br>conditions:&nbsp;2<br></td><td><a class=\"ProveItLink\" href=\"expr.ipynb\"><img src=\"data:image/png;base64,iVBORw0KGgoAAAANSUhEUgAAAM8AAAAVCAMAAADW+kokAAAANlBMVEX///8UFBQNDQ2qqqru7u4i\n",
       "IiJ2dnbc3NyIiIjMzMxmZmYQEBC6uroyMjJERERUVFSYmJgAAAC3B9V0AAAAAXRSTlMAQObYZgAA\n",
       "AhBJREFUWMPNV1tihCAM3BYQ5M39L1tdH00CUbbadvlZbWWGSYYQHo93GUL/I7k31+ZnX/1p8Let\n",
       "LqdS0jRi6MQcE3pTr3PYsUvPT6Dn4eLzx5Y+QUGit4L/a4JaBgbDHKFLD4VmBl3+WMz6m3qmG+S2\n",
       "rIpEITWymVPMkYcOPQSatQtdvinLZsxl6AoHJNHCFrCVtWL2NeGQ7lwPgWZTXy0/ruDK9YTDI6+Y\n",
       "CQ6gJ86xlCOKUz0Emk19tfwlTzrE/XNsb4G4LUyilw9R8v4qAxcFyjHYMz0Emk89hZ58Z4yxCswl\n",
       "dSXBuATwnfTf9q0rH/I44RDhRA+FZlNfQa/+kypxemQCoXEAd37UxZ7rqTi8O9FDodnUV9Cb/8x3\n",
       "dj8/FBoOGBk8jnPdTyWyia08vnOM5VhPBc2GqoLeyhwob3RZMNdAz/LkQOSsOPI44DjTU0Gzeij0\n",
       "uOlKRTB6LNyJbv9KbHUFOFP5tscpx4nfGtCK2z4EeivfugRm7ogO0Jj386FxistQ9zItjnxYD1rQ\n",
       "TOor6NV/owNtDO43cdXfKu2+QSM+xX0K1aFXcxzW6yY0k3oCbePSzQVYho/P02fydHQlzJHJE0Cw\n",
       "hzNaHLT3BXo46FbqX19+o9+54arS0+80QtlI/Q33i+E6xmB+7/7z8gh8m2fBoXWwQtl3X/ijodNV\n",
       "hKTfSc9DX7xvm7qkm1v0fAFaERwOnImg9gAAAABJRU5ErkJggg==\n",
       "\" style=\"display:inline;vertical-align:middle;\" /></a></td></tr>\n",
       "<tr><td>1</td><td>Operation</td><td>operator:&nbsp;3<br>operands:&nbsp;6<br></td><td><a class=\"ProveItLink\" href=\"../586c891807183c577ae8a72ee7e3b9f21144c4d50/expr.ipynb\"><img src=\"data:image/png;base64,iVBORw0KGgoAAAANSUhEUgAAADsAAAARBAMAAACRPMnQAAAAMFBMVEX///92dnYQEBBERERUVFS6\n",
       "urqIiIhmZmaqqqrc3Nzu7u6YmJgyMjIiIiLMzMwAAACFkkdwAAAAAXRSTlMAQObYZgAAAO1JREFU\n",
       "KM9jYACBtwzogNv/i4vzUSjnPJTOuXv37lUIk8mAgaE+AKL0/gKIIVkI7e8TgNgBzJxRPwFEcd5E\n",
       "Mj0fKLRfAMxMyAebwhKAJG0ExJfAhrIu6N8Aotcgu+0LA8McKzBrKdgiBoYnSLJ8X9LSb0OYAQzz\n",
       "C9Cl2X4yMKwFu4zPxcXfAMTgRZJmVgAq+Q22GujJAyAGewNCmh+ok/sjiAUU5FUAMbiuInkb6FiW\n",
       "HyDfAqV5PoDF1tSheHv+Aah3mH9BBEPOwgIV6G0+HaC3J+ufZOC2/1OAGiPF/11czmxgoCJgv3sX\n",
       "EaEQAABXikRkFnmHwgAAAABJRU5ErkJggg==\n",
       "\" style=\"display:inline;vertical-align:middle;\" /></a></td></tr>\n",
       "<tr><td>2</td><td>ExprTuple</td><td>4</td><td><a class=\"ProveItLink\" href=\"../395ca0ddc90cb4eef4362c606ce285d865a5c7ce0/expr.ipynb\"><img src=\"data:image/png;base64,iVBORw0KGgoAAAANSUhEUgAAAEgAAAAVBAMAAAAX07VdAAAAMFBMVEX////c3NwiIiJERESqqqqY\n",
       "mJh2dnZmZmYQEBDu7u4yMjJUVFTMzMyIiIi6uroAAAAs73DqAAAAAXRSTlMAQObYZgAAAU9JREFU\n",
       "KM9jYCAK8F3AL8/6AEichrAPYcru/7178zoGhhogeyVEaD2mGRwGDAz1Dxi4GBh4Ibax6k/AUHQe\n",
       "KHV+AwNrAgMHRFKkXgAic0tJSUkPwrwPFIpPYOBsYHgFEbhw/wHEaTcRJlkAsQbQDBOGMogXJ/gH\n",
       "gGhGRSTrfjMwSFkC6XSGpWD+PLADGBi4HyDU8Py+e10VxPBi6AMLPGCQLwDRs5AM4v3IwDBpA5Dx\n",
       "guEfWNPu3fsNGBCBBgbMDUCFX0G+hCjiAwbKAnRF/EBTWL+BFbWA+A4MDEwNIAYTcjABvcL9BWyd\n",
       "KchPQEVcH0AS7A4IRaBgkgeZHwX0H8S5zD9BEpx6KMHE0zUBHASPGBiE+xcysNr/gnivBqam+P/u\n",
       "3avAgbeOgUMANcJeL4JHCxQAowUYfQQA2wV4UsENQC6WJqRoI8j/BJIv7wEGAKJ5U7o2ptQ8AAAA\n",
       "AElFTkSuQmCC\n",
       "\" style=\"display:inline;vertical-align:middle;\" /></a></td></tr>\n",
       "<tr><td>3</td><td>Literal</td><td></td><td><a class=\"ProveItLink\" href=\"../e2e953faef156628f98c5cddef8a5f8ea43a24550/expr.ipynb\"><img src=\"data:image/png;base64,iVBORw0KGgoAAAANSUhEUgAAAA4AAAAQBAMAAADUulMJAAAAJFBMVEX///+qqqpmZmZUVFTc3Nzu\n",
       "7u7MzMy6uroiIiIyMjKIiIgAAABMlAC/AAAAAXRSTlMAQObYZgAAAD1JREFUCNdjYGBY2dHR0c7A\n",
       "kLGUAQRYWsAUA3MBhI6EUAzJaDQHlGYSgNCs7VCBSDUoo3gG2FwcgKkDBNoBPfYM6Npt1O0AAAAA\n",
       "SUVORK5CYII=\n",
       "\" style=\"display:inline;vertical-align:middle;\" /></a></td></tr>\n",
       "<tr><td>4</td><td>Operation</td><td>operator:&nbsp;5<br>operands:&nbsp;6<br></td><td><a class=\"ProveItLink\" href=\"../320fc424ef9505cffd54c61a94bba7892bc442520/expr.ipynb\"><img src=\"data:image/png;base64,iVBORw0KGgoAAAANSUhEUgAAADsAAAAPBAMAAACo4Ko7AAAAMFBMVEX///92dnYQEBBERERUVFS6\n",
       "urqIiIhmZmaqqqrc3Nzu7u6YmJgyMjIiIiLMzMwAAACFkkdwAAAAAXRSTlMAQObYZgAAAOdJREFU\n",
       "GNNjYACBtwzogNv/i4vzUSjnPIY0A5MBA0N9AETp/QUY0u8TgNgBzJxRPwEilnP37t2rEGY+UGi/\n",
       "AJiZkA8x5W0WQrcREF8CG8q6oH8DiOa8iWT4FwaGOVZg1lKwRQwMLAEIWb4vaem3IcwAhvkFIHoN\n",
       "kma2nwwMa8Eu43Nx8TcAMZ4gSTMrAJX8BlsN9OQBdGl+oE7ujyBWAwMDrwKIwYvsbaBjWX6A3AuU\n",
       "5vkAEmJvQEiDvD3/ANRBzL9AQlxXUbzNpwP09mT9kwzc9n8gTq+DyRb/d3E5swE9oEPOwgMVAgAL\n",
       "gT83trTuuAAAAABJRU5ErkJggg==\n",
       "\" style=\"display:inline;vertical-align:middle;\" /></a></td></tr>\n",
       "<tr><td>5</td><td>Literal</td><td></td><td><a class=\"ProveItLink\" href=\"../8abd5f716af72ef69ffdc0b40f17a6fa6115e4300/expr.ipynb\"><img src=\"data:image/png;base64,iVBORw0KGgoAAAANSUhEUgAAAA4AAAAMBAMAAACgrpHpAAAAJFBMVEX///+qqqpmZmZUVFTc3Nzu\n",
       "7u7MzMy6uroiIiIyMjKIiIgAAABMlAC/AAAAAXRSTlMAQObYZgAAADdJREFUCNdjYGBY2dHR0c7A\n",
       "kLGUAQRYWsAUA3MBhI6EUAzJaDQHlGYSgNCs7VCBSDUoo3gG0FwA+8MJt4mISzAAAAAASUVORK5C\n",
       "YII=\n",
       "\" style=\"display:inline;vertical-align:middle;\" /></a></td></tr>\n",
       "<tr><td>6</td><td>ExprTuple</td><td>7, 8</td><td><a class=\"ProveItLink\" href=\"../caee09fb4b5c95b986a9cee46a014afbad9bdc680/expr.ipynb\"><img src=\"data:image/png;base64,iVBORw0KGgoAAAANSUhEUgAAADUAAAAVBAMAAAAUZLt1AAAAMFBMVEX////c3NwiIiJERESqqqqY\n",
       "mJh2dnZmZmYQEBDu7u4yMjJUVFTMzMyIiIi6uroAAAAs73DqAAAAAXRSTlMAQObYZgAAATZJREFU\n",
       "KM9jYMAH+C5gFY4DEach7EMwQdb9v3dvXsfAfgDIXgkRWg/XwWHAwFD/gGEBAwMvxEhW/QkwufNA\n",
       "kfMbGMKAqiBiIvUCMLn7QFZ8AsMMBoZXEIEL9x/A5CyAWGMCA7MDQxnEsRP8A2ByvxkYpCwZGNgK\n",
       "GJaC+fPAtoABz++711WBNMsChj6wwAMG+QKoHO9HBoZJG4BGNTD8A6vdvXu/AVSOuQEo/xUo9gEi\n",
       "xwd07wKoHD9QD+s3sFwLiO/AwMDUAPMe0FHcX8BmmgK5jEA5rg8MDBNg3pMHGsK6gCEdyJ0FsuYn\n",
       "A+cnqPd4uiaA/fCIgUG4fyEDq/2vAs5+oJbi/7t3rwL5lesBA4cAUnQhsUFhxpqA4LIiR2AuIo7Q\n",
       "5ThBfpJG8JFTADfIfEbsaeIOAwMABOxNRsfkiy0AAAAASUVORK5CYII=\n",
       "\" style=\"display:inline;vertical-align:middle;\" /></a></td></tr>\n",
       "<tr><td>7</td><td>Variable</td><td></td><td><a class=\"ProveItLink\" href=\"../../../../../__pv_it/2cbe72a7ad6f655694dd697106680215e8489b600/expr.ipynb\"><img src=\"data:image/png;base64,iVBORw0KGgoAAAANSUhEUgAAAA8AAAAOBAMAAAACpFvcAAAALVBMVEX///8QEBBERERUVFS6urqI\n",
       "iIhmZmaqqqrc3Nzu7u6YmJgyMjIiIiLMzMwAAADtIaYWAAAAAXRSTlMAQObYZgAAAFtJREFUCNdj\n",
       "YACBOwxQsA9Kc52bAGG05zVAGAFxDmCaZULdAjBjCsO9ADDDgaEvAUTzGhvbKYCVMDAwbgAxChgY\n",
       "eASANAeQwf0AyJgNxEwvGRia5HYwcOm9TgAA6BoR3jrzwFcAAAAASUVORK5CYII=\n",
       "\" style=\"display:inline;vertical-align:middle;\" /></a></td></tr>\n",
       "<tr><td>8</td><td>Variable</td><td></td><td><a class=\"ProveItLink\" href=\"../../../../../__pv_it/077b2ff79244fb4582cbe22c6e3356fa92a52f2f0/expr.ipynb\"><img src=\"data:image/png;base64,iVBORw0KGgoAAAANSUhEUgAAABAAAAAOBAMAAADUAYG5AAAAMFBMVEX///+qqqru7u4iIiJ2dnbc\n",
       "3NyIiIjMzMxmZmYQEBC6uroyMjJERERUVFSYmJgAAADLUcuvAAAAAXRSTlMAQObYZgAAAGpJREFU\n",
       "CNdjYGB4+//u3dMLGIBgDgMDxy8gzf4NiP8CGWxfGRj4vgAZPBMYGJgnARn8FxhY9ygAGfXX0pof\n",
       "gDTlBzAw2YIYJ0EckBBI53sHoBH/gIz7AhBjWH9DjancBLTl/N+7t/cxMAAA3u4f/5xagjYAAAAA\n",
       "SUVORK5CYII=\n",
       "\" style=\"display:inline;vertical-align:middle;\" /></a></td></tr>\n",
       "</table>\n"
      ],
      "text/plain": [
       "0. B -> (A subseteq B) | A subset B\n",
       "   core type: Lambda\n",
       "   parameter: 8\n",
       "   body: 1\n",
       "   conditions: 2\\n1. A subseteq B\n",
       "   core type: Operation\n",
       "   operator: 3\n",
       "   operands: 6\n",
       "2. (A subset B)\n",
       "   core type: ExprTuple\n",
       "   sub-expressions: 4\n",
       "3. subseteq\n",
       "   core type: Literal\n",
       "   sub-expressions: \n",
       "4. A subset B\n",
       "   core type: Operation\n",
       "   operator: 5\n",
       "   operands: 6\n",
       "5. subset\n",
       "   core type: Literal\n",
       "   sub-expressions: \n",
       "6. (A , B)\n",
       "   core type: ExprTuple\n",
       "   sub-expressions: 7, 8\n",
       "7. A\n",
       "   core type: Variable\n",
       "   sub-expressions: \n",
       "8. B\n",
       "   core type: Variable\n",
       "   sub-expressions: "
      ]
     },
     "execution_count": 4,
     "metadata": {},
     "output_type": "execute_result"
    }
   ],
   "source": [
    "# display the expression information\n",
    "expr.exprInfo()"
   ]
  },
  {
   "cell_type": "code",
   "execution_count": null,
   "metadata": {},
   "outputs": [],
   "source": []
  }
 ],
 "metadata": {
  "kernelspec": {
   "display_name": "Python 3",
   "language": "python",
   "name": "python3"
  }
 },
 "nbformat": 4,
 "nbformat_minor": 0
}
