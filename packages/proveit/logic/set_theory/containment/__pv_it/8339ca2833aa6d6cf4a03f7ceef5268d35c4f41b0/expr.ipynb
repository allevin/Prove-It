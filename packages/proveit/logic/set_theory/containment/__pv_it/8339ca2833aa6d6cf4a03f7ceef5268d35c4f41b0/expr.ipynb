{
 "cells": [
  {
   "cell_type": "markdown",
   "metadata": {},
   "source": [
    "Expression of type <a class=\"ProveItLink\" href=\"../../../../../../../doc/html/api/proveit.Lambda.html\">Lambda</a>\n",
    "=======================\n",
    "# from context <a class=\"ProveItLink\" href=\"../../_context_.ipynb\">proveit.logic.set_theory.containment</a>"
   ]
  },
  {
   "cell_type": "code",
   "execution_count": 1,
   "metadata": {},
   "outputs": [],
   "source": [
    "# import Expression classes needed to build the expression\n",
    "from proveit import Lambda\n",
    "from proveit._common_ import A, B\n",
    "from proveit.logic import Forall, Superset, SupersetEq"
   ]
  },
  {
   "cell_type": "code",
   "execution_count": 2,
   "metadata": {},
   "outputs": [
    {
     "data": {
      "text/html": [
       "<strong id=\"expr\">expr:</strong> <a class=\"ProveItLink\" href=\"expr.ipynb\"><img src=\"data:image/png;base64,iVBORw0KGgoAAAANSUhEUgAAAOgAAAAZCAMAAAAMuZL2AAAANlBMVEX///92dnYUFBQNDQ0QEBBE\n",
       "RERUVFS6urqIiIhmZmaqqqrc3Nzu7u6YmJgyMjIiIiLMzMwAAACuIkBbAAAAAXRSTlMAQObYZgAA\n",
       "AutJREFUWMPtmOuS2yAMhU1r7le9/8vWYLC5iE2cxO3uTPnj2R2LnA+OkMyyvDCo914vP2bwTS55\n",
       "KdIvP21o9h/0Iai533LivXjLcdDgL4Geb1txC2doduE5dZYBsG1QFyFlQEEdXAIl6gi8Z3PbaRt1\n",
       "2u/DieGnV5oeEiKpw0CtB3MFVNMyCb2FUzQ+wdUZ60NnAxD5GdEsGUG1kqAvHUZlxaW6BXStwabq\n",
       "dFfnRH7NQmQ06wgqtnf4JVBLdBr3nMHcNfqn6nh7ntKM5vd1oqoH5WZRYKuUaMKVwsoL0DherMWP\n",
       "hqyn7dU1ydv8lRy7aEd3PxDZgRp+2hsrlcwgoCzlB929oihIKRk9c2bcAYe4b4zL71Zcg7pGWmhS\n",
       "lAkhpC/BynWgUZQGOQU1TI+gyTWmrKhNphHr6aLh7EfdN8TlFK3eHdRNQXOKGp/B+NqChlh7GFTS\n",
       "fv/yzVhrkb56irJ4Ms3FzzOjBzUyuc/IOMghb4jLHuRVQe3VTdu0kqIiGz1AC7pPurp5l8c4MneE\n",
       "9MXUPllL+umOEuPTppg4AinZMMQNoKO62vpyTNFy6A6gqpxUU1CpsUXcbHu0LwbiHtkqDTvQIBZa\n",
       "/yvQSVy27nH+IerqLxPTpGj2FwOFWFersfnwvUjULVQfO81hOwUYrX62A2X9thGOx+Voe5TQeeMW\n",
       "ZNs+lSqqIW+/rQ+j4zihVfPRkplJWqhTOnH7yWImoFZFHY1KgsctTWFA1eUW0LGuV8kpGtbCX5UX\n",
       "TVdIvrEUwMmLn2nrsSB0zz9QOOiWn1LSpo3TEo8rntzbywvqtvlTR+/O0uT4h75H7aF8V8oh4KAp\n",
       "yQPUpUBZPK6s4QfuMLAW8M0Pb502S3uJ5yjf17jpblJeInFlDT/QcRHxaVDiUn/jagPSqt1IRVAz\n",
       "OFqWzZR8EvfE15+uKvwX307G/ZWrlIkCkzpkyh4680Vx9UGv/yXohYueN28uRFh+Bug3uBx76l6X\n",
       "fRfKeK/L/gC8GiEISH7OpAAAAABJRU5ErkJggg==\n",
       "\" style=\"display:inline;vertical-align:middle;\" /></a><br>"
      ],
      "text/plain": [
       "expr: A -> [forall_{B | A supset B} (A supseteq B)]"
      ]
     },
     "execution_count": 2,
     "metadata": {},
     "output_type": "execute_result"
    }
   ],
   "source": [
    "# build up the expression from sub-expressions\n",
    "expr = Lambda(A, Forall([B], SupersetEq(A, B), conditions = [Superset(A, B)]))"
   ]
  },
  {
   "cell_type": "code",
   "execution_count": 3,
   "metadata": {},
   "outputs": [
    {
     "name": "stdout",
     "output_type": "stream",
     "text": [
      "Passed sanity check: built 'expr' is the same as the stored Expression.\n"
     ]
    }
   ],
   "source": [
    "# check that the built expression is the same as the stored expression\n",
    "%check_expr"
   ]
  },
  {
   "cell_type": "code",
   "execution_count": 4,
   "metadata": {},
   "outputs": [
    {
     "data": {
      "text/html": [
       "<table><tr><th>&nbsp;</th><th>core type</th><th>sub-expressions</th><th>expression</th></tr>\n",
       "<tr><td>0</td><td>Lambda</td><td>parameter:&nbsp;10<br>body:&nbsp;1<br></td><td><a class=\"ProveItLink\" href=\"expr.ipynb\"><img src=\"data:image/png;base64,iVBORw0KGgoAAAANSUhEUgAAAOgAAAAZCAMAAAAMuZL2AAAANlBMVEX///92dnYUFBQNDQ0QEBBE\n",
       "RERUVFS6urqIiIhmZmaqqqrc3Nzu7u6YmJgyMjIiIiLMzMwAAACuIkBbAAAAAXRSTlMAQObYZgAA\n",
       "AutJREFUWMPtmOuS2yAMhU1r7le9/8vWYLC5iE2cxO3uTPnj2R2LnA+OkMyyvDCo914vP2bwTS55\n",
       "KdIvP21o9h/0Iai533LivXjLcdDgL4Geb1txC2doduE5dZYBsG1QFyFlQEEdXAIl6gi8Z3PbaRt1\n",
       "2u/DieGnV5oeEiKpw0CtB3MFVNMyCb2FUzQ+wdUZ60NnAxD5GdEsGUG1kqAvHUZlxaW6BXStwabq\n",
       "dFfnRH7NQmQ06wgqtnf4JVBLdBr3nMHcNfqn6nh7ntKM5vd1oqoH5WZRYKuUaMKVwsoL0DherMWP\n",
       "hqyn7dU1ydv8lRy7aEd3PxDZgRp+2hsrlcwgoCzlB929oihIKRk9c2bcAYe4b4zL71Zcg7pGWmhS\n",
       "lAkhpC/BynWgUZQGOQU1TI+gyTWmrKhNphHr6aLh7EfdN8TlFK3eHdRNQXOKGp/B+NqChlh7GFTS\n",
       "fv/yzVhrkb56irJ4Ms3FzzOjBzUyuc/IOMghb4jLHuRVQe3VTdu0kqIiGz1AC7pPurp5l8c4MneE\n",
       "9MXUPllL+umOEuPTppg4AinZMMQNoKO62vpyTNFy6A6gqpxUU1CpsUXcbHu0LwbiHtkqDTvQIBZa\n",
       "/yvQSVy27nH+IerqLxPTpGj2FwOFWFersfnwvUjULVQfO81hOwUYrX62A2X9thGOx+Voe5TQeeMW\n",
       "ZNs+lSqqIW+/rQ+j4zihVfPRkplJWqhTOnH7yWImoFZFHY1KgsctTWFA1eUW0LGuV8kpGtbCX5UX\n",
       "TVdIvrEUwMmLn2nrsSB0zz9QOOiWn1LSpo3TEo8rntzbywvqtvlTR+/O0uT4h75H7aF8V8oh4KAp\n",
       "yQPUpUBZPK6s4QfuMLAW8M0Pb502S3uJ5yjf17jpblJeInFlDT/QcRHxaVDiUn/jagPSqt1IRVAz\n",
       "OFqWzZR8EvfE15+uKvwX307G/ZWrlIkCkzpkyh4680Vx9UGv/yXohYueN28uRFh+Bug3uBx76l6X\n",
       "fRfKeK/L/gC8GiEISH7OpAAAAABJRU5ErkJggg==\n",
       "\" style=\"display:inline;vertical-align:middle;\" /></a></td></tr>\n",
       "<tr><td>1</td><td>Operation</td><td>operator:&nbsp;2<br>operand:&nbsp;3<br></td><td><a class=\"ProveItLink\" href=\"../c241a52be96cb61a9d92f23feec7430960a5a0250/expr.ipynb\"><img src=\"data:image/png;base64,iVBORw0KGgoAAAANSUhEUgAAAKgAAAAXBAMAAABt+RknAAAAMFBMVEX///8QEBC6urrMzMxUVFRm\n",
       "ZmZERETc3NwyMjKqqqp2dnaIiIiYmJgiIiLu7u4AAAAU9Wx4AAAAAXRSTlMAQObYZgAAAnpJREFU\n",
       "OMu1lE1oE0EYht9km0262Wxy01NdwZuIHtSDIg12qXixAZN6ktQfUrzYHEqrSEjopYrQ5iJ4MyAi\n",
       "3urBUw6NN9FDFS+iLi6C0oMpQoJarT/z7ezOTlsxa9GB3Zmdd+b5fuabBf5Hc/52w+4eum4CT2nw\n",
       "JDxTyfL+yGbaSNcangFOAvfoey48NOGFNu++K7ZtX/eDjYwBRRMJYIp9xcfCQ5ueW29E3j489waD\n",
       "C+zJQm+4lmP18NAB3l0ulsVUxRsusn6pASMD/e70dCU8M1rj/cKiGcx5aT7DnmfMxwvAp1LpZXho\n",
       "rME5zq1WMOkZ6gKXLrL+DjAEjAP9E4X8OXe5OBERn9BolrPeugn02xCvi27zwWsa3AR2wSBLD4H7\n",
       "NKP6K5eC+HyNTpjPmqjmNkKTn4E2ZWInkEKSrOeBvWUJahRbeFco3IaksZZ2oYpljUgV49Y61AwD\n",
       "r1EVsL6Voup4BZyWPdXaORgrK4dOSJqAshxFaoLZz51OMy/1rxxq1PaTYx3oszL0sMpdOShpFL5b\n",
       "feyVygjoHl6ygyzgvlUePsaPku1vzWFHhmZjPCjNDDSSKVVxBk189JkH5oIyrZL/j9hzg3ZrNegD\n",
       "ElSvJ/kupRFotI5CXaZ1P7xr+uI4RJkq2x1eUohQcagsg6sStF0YdXchngs0ioh5MLVjFvrEl9z6\n",
       "Ch79aVlX3YKbIaeInq4j2pGgp6B0+Cm0Ao3atp73wxDZrjqo5AJolJlc40l0Ao3a455Qzb8W2nwh\n",
       "fw0CarAqnPzunslZSZN/fRC/Ptte/5Nb3mxHlcbvS6Xz5Q16PNvL02N/hv62XemhJ/dtAbqV1vcP\n",
       "GL8ArRmkn0/eCP4AAAAASUVORK5CYII=\n",
       "\" style=\"display:inline;vertical-align:middle;\" /></a></td></tr>\n",
       "<tr><td>2</td><td>Literal</td><td></td><td><a class=\"ProveItLink\" href=\"../../../../boolean/quantification/universal/__pv_it/265f8c02ac1094d56e0e6410a1c1fd3500dc9f540/expr.ipynb\"><img src=\"data:image/png;base64,iVBORw0KGgoAAAANSUhEUgAAAAwAAAAQBAMAAADQT4M0AAAAMFBMVEX///8QEBC6urrMzMxUVFRm\n",
       "ZmZERETc3NwyMjKqqqp2dnaIiIiYmJgiIiLu7u4AAAAU9Wx4AAAAAXRSTlMAQObYZgAAAFhJREFU\n",
       "CNdjeMAABhdAxGmGlSCqj6EMSLInMHAAJVknMPAsLy+vBYp8S0u7BaScGRjSgZQKA18DkOJl4D4A\n",
       "pLgP8IJM4mswARuX7gSmpoKNZWDcAKZ4gCoAgTQTILaSE58AAAAASUVORK5CYII=\n",
       "\" style=\"display:inline;vertical-align:middle;\" /></a></td></tr>\n",
       "<tr><td>3</td><td>Lambda</td><td>parameter:&nbsp;11<br>body:&nbsp;4<br>conditions:&nbsp;5<br></td><td><a class=\"ProveItLink\" href=\"../ec2d5ff2834740b10e2d79ab7080ea79ff9a44370/expr.ipynb\"><img src=\"data:image/png;base64,iVBORw0KGgoAAAANSUhEUgAAAM8AAAAVCAMAAADW+kokAAAANlBMVEX///8UFBQNDQ2qqqru7u4i\n",
       "IiJ2dnbc3NyIiIjMzMxmZmYQEBC6uroyMjJERERUVFSYmJgAAAC3B9V0AAAAAXRSTlMAQObYZgAA\n",
       "AhRJREFUWMPNV9t2hCAMtAXkfvv/n61W3U0CAlttu3kRPTKTISGEaXoXY/IfyZ26Nj+54tPsbvMu\n",
       "xZzjYsEPYuqI3sTrHEYP6fkJ9Go2fD9MHhPkOXrLz7EUm3nF6STM4Yf0QOiGUfd1VvszjkxXKNuS\n",
       "yIXvE0+CRIBwpHlATxW6EkXqvsrbZkx5HloOSCKZybWtLAX+Sji47evB0O4R+mJ9qfthBxd2ZDkc\n",
       "yhW1wFWz1OFYU47Aunrq0FzR0Bfub3GSPjzk4PRmiNvAIDo+sZzquwy9UY7Z9PScQtPQU+gl75RS\n",
       "RoC5pK5EGDcP/uPumb7UokY5TjiY7+hpQOPQF9B7/nERz/TwCFbEAuZ1KLPp6yk4nO3oaUGLqQV9\n",
       "5J96RvfzQyCzIJHBUK91P+bQJy04dG7raUKjpSqgjzIHyhs9xyJgA3q2kfXVBsaUOQ44enpa0FgP\n",
       "hdaHrpjZiR4DN6B9/MWOulLLccFRjlOOTr61oLF7BfRRvmX2J/tHo10Z0uN8OD3FtcE9RMmRmvWg\n",
       "AU1DX0Dv+actcAGXFXwqHZWWHx6F5ym+9zs+suoRATia9boGfRZ6Am3C1s15n0ab6+/gyWCzX1cm\n",
       "LQDeNGfUOGjvC/S0oXHoX3e/0u/ccFUZ6XfoMu6hv+9icaT+fB1jVr93/3nZ/GmbJ8GZFVrhGbsv\n",
       "/JHJeBUhynfSM8mL922ly0+36PkCxngb9ptDG9kAAAAASUVORK5CYII=\n",
       "\" style=\"display:inline;vertical-align:middle;\" /></a></td></tr>\n",
       "<tr><td>4</td><td>Operation</td><td>operator:&nbsp;6<br>operands:&nbsp;9<br></td><td><a class=\"ProveItLink\" href=\"../5e6face9deb8f4990d49930649fd84e604ecfa3c0/expr.ipynb\"><img src=\"data:image/png;base64,iVBORw0KGgoAAAANSUhEUgAAADsAAAARBAMAAACRPMnQAAAAMFBMVEX///92dnYQEBBERERUVFS6\n",
       "urqIiIhmZmaqqqrc3Nzu7u6YmJgyMjIiIiLMzMwAAACFkkdwAAAAAXRSTlMAQObYZgAAAO9JREFU\n",
       "KM9jYACBtwzogNv/i4vzUSjnPJice/fu3WMLoEJMBgwM9QEQpfdhggyr70EZ7xOA2AHMnFE/AW7q\n",
       "XCgzH0jvFwAzE/ID4NKsEB0MRkB8CWwo64L+DQhHHYBQXxgY5liBWUvBFsGAH5jk+5KWfhsiEMAw\n",
       "vwBdmu0nA8NasD18Li7+BgjpC2CSWQGo5DfYaqAnD8BlOSAG8QN1cn8EsRoYGHgV4NKxkCB4D3Qs\n",
       "yw8ggxMozfMBJvv8FMLb80FmrgHZ9AsaqHc8GODe5tMBGjRZ/yQDt/2fAtQYKf7v4nJmAwMVAShC\n",
       "7941QBYCAC8bRZFIybTAAAAAAElFTkSuQmCC\n",
       "\" style=\"display:inline;vertical-align:middle;\" /></a></td></tr>\n",
       "<tr><td>5</td><td>ExprTuple</td><td>7</td><td><a class=\"ProveItLink\" href=\"../e0edde64b58496d55fd52d09fdedcf4eba2cbf110/expr.ipynb\"><img src=\"data:image/png;base64,iVBORw0KGgoAAAANSUhEUgAAAEgAAAAVBAMAAAAX07VdAAAAMFBMVEX////c3NwiIiJERESqqqqY\n",
       "mJh2dnZmZmYQEBDu7u4yMjJUVFTMzMyIiIi6uroAAAAs73DqAAAAAXRSTlMAQObYZgAAAU5JREFU\n",
       "KM9jYCAK8F3AL8/6AEichrAPYcru/7178zoGhhogeyVEaD2mGRwGDAz1Dxi4GBh4Ibax6k/AUHQe\n",
       "KHV+AwNrAgMHRFKkXgBEPVJSUloLU3QfKBSfwMDZwPAKInDh/gOY3FwdKMMCiDWAZpgwlEG8OME/\n",
       "AG6NkACE/s3AIGUJpNMZloL588AOgAXKBjDF8/vudVUQw4uhDyzwgEG+AOFiBTDJ+5GBYRJI/QuG\n",
       "f2BNu3fvN0Ao2gMmmRuACr+CfAlRxAcMlAXoiviBprB+AytqAfEdGBiYGtCtOw/0CvcXsHWmQJIR\n",
       "qIjrA1wNSwE8mORB5kcB/cfAMAvkgp9wRY8mwIKJp2sCOAgeMTAI9y9kYLX/BfPecUhsFv/fvXsV\n",
       "OPDWMXAIIEcXMFq09qFFITBagNFHALBdgCcV3ADkYmlCijaC/E8g+fIeYAAAiBxUmQYZAC8AAAAA\n",
       "SUVORK5CYII=\n",
       "\" style=\"display:inline;vertical-align:middle;\" /></a></td></tr>\n",
       "<tr><td>6</td><td>Literal</td><td></td><td><a class=\"ProveItLink\" href=\"../bc0f4f75fcd25c7f3c501d50b7b90e3eb0564d7a0/expr.ipynb\"><img src=\"data:image/png;base64,iVBORw0KGgoAAAANSUhEUgAAAA4AAAAQBAMAAADUulMJAAAAKlBMVEX///9ERERmZmaqqqpUVFS6\n",
       "urrMzMyYmJju7u6IiIgyMjIiIiLc3NwAAAAAfF0EAAAAAXRSTlMAQObYZgAAAD5JREFUCNdjOL17\n",
       "9+6VDQxg0L4NQjOcPgChWR2gAgugtBsavQFCMStA6GiIQUkrgEbs3r3LmQE3ANm7e7cAAMoAEtfi\n",
       "lGxPAAAAAElFTkSuQmCC\n",
       "\" style=\"display:inline;vertical-align:middle;\" /></a></td></tr>\n",
       "<tr><td>7</td><td>Operation</td><td>operator:&nbsp;8<br>operands:&nbsp;9<br></td><td><a class=\"ProveItLink\" href=\"../113f37a984480f946e743e317867bb10f7bce0800/expr.ipynb\"><img src=\"data:image/png;base64,iVBORw0KGgoAAAANSUhEUgAAADsAAAAPBAMAAACo4Ko7AAAAMFBMVEX///92dnYQEBBERERUVFS6\n",
       "urqIiIhmZmaqqqrc3Nzu7u6YmJgyMjIiIiLMzMwAAACFkkdwAAAAAXRSTlMAQObYZgAAAOVJREFU\n",
       "GNNjYACBtwzogNv/i4vzUSjnPIY0A5MBA0N9AETp/QUY0u8TgNgBzJxRPwFExd69e/cYTDofKLRf\n",
       "AMxMyA+AiS67B2UYAfElsKGsC/o3wA2dOwFCf2FgmGMFZi0FWwQFrBD7+L6kpd+GiAQwzC9AuOkC\n",
       "mGT7ycCwFqySz8XF3wAh7QcmmRWASn6DjQN68gC6ND9QJ/dHEKuBgYFXAd3w90DHsvwAMjiB0jwf\n",
       "4LIcBXBvzweZuQZk0y+4dOwCmLf5dIDMyfonGbjt/8Cc/vwUmCr+7+JyZgNqMAMD9Y4rqhAAEl0/\n",
       "W0VPoRUAAAAASUVORK5CYII=\n",
       "\" style=\"display:inline;vertical-align:middle;\" /></a></td></tr>\n",
       "<tr><td>8</td><td>Literal</td><td></td><td><a class=\"ProveItLink\" href=\"../40f138ebd64e8eadfde7d93b284d70a37652c25c0/expr.ipynb\"><img src=\"data:image/png;base64,iVBORw0KGgoAAAANSUhEUgAAAA4AAAAMBAMAAACgrpHpAAAAJFBMVEX///9mZmaqqqpUVFTc3NzM\n",
       "zMzu7u6IiIgyMjIiIiK6uroAAABMu5rKAAAAAXRSTlMAQObYZgAAADVJREFUCNdjWDlz5sx2BghI\n",
       "nwpleDpAaC4DqMAEKG2KRkPFmQQg9MoEMBXYBmTOnDnDioEBAA1tCuR6TpI/AAAAAElFTkSuQmCC\n",
       "\" style=\"display:inline;vertical-align:middle;\" /></a></td></tr>\n",
       "<tr><td>9</td><td>ExprTuple</td><td>10, 11</td><td><a class=\"ProveItLink\" href=\"../caee09fb4b5c95b986a9cee46a014afbad9bdc680/expr.ipynb\"><img src=\"data:image/png;base64,iVBORw0KGgoAAAANSUhEUgAAADUAAAAVBAMAAAAUZLt1AAAAMFBMVEX////c3NwiIiJERESqqqqY\n",
       "mJh2dnZmZmYQEBDu7u4yMjJUVFTMzMyIiIi6uroAAAAs73DqAAAAAXRSTlMAQObYZgAAATZJREFU\n",
       "KM9jYMAH+C5gFY4DEach7EMwQdb9v3dvXsfAfgDIXgkRWg/XwWHAwFD/gGEBAwMvxEhW/QkwufNA\n",
       "kfMbGMKAqiBiIvUCMLn7QFZ8AsMMBoZXEIEL9x/A5CyAWGMCA7MDQxnEsRP8A2ByvxkYpCwZGNgK\n",
       "GJaC+fPAtoABz++711WBNMsChj6wwAMG+QKoHO9HBoZJG4BGNTD8A6vdvXu/AVSOuQEo/xUo9gEi\n",
       "xwd07wKoHD9QD+s3sFwLiO/AwMDUAPMe0FHcX8BmmgK5jEA5rg8MDBNg3pMHGsK6gCEdyJ0FsuYn\n",
       "A+cnqPd4uiaA/fCIgUG4fyEDq/2vAs5+oJbi/7t3rwL5lesBA4cAUnQhsUFhxpqA4LIiR2AuIo7Q\n",
       "5ThBfpJG8JFTADfIfEbsaeIOAwMABOxNRsfkiy0AAAAASUVORK5CYII=\n",
       "\" style=\"display:inline;vertical-align:middle;\" /></a></td></tr>\n",
       "<tr><td>10</td><td>Variable</td><td></td><td><a class=\"ProveItLink\" href=\"../../../../../__pv_it/2cbe72a7ad6f655694dd697106680215e8489b600/expr.ipynb\"><img src=\"data:image/png;base64,iVBORw0KGgoAAAANSUhEUgAAAA8AAAAOBAMAAAACpFvcAAAALVBMVEX///8QEBBERERUVFS6urqI\n",
       "iIhmZmaqqqrc3Nzu7u6YmJgyMjIiIiLMzMwAAADtIaYWAAAAAXRSTlMAQObYZgAAAFtJREFUCNdj\n",
       "YACBOwxQsA9Kc52bAGG05zVAGAFxDmCaZULdAjBjCsO9ADDDgaEvAUTzGhvbKYCVMDAwbgAxChgY\n",
       "eASANAeQwf0AyJgNxEwvGRia5HYwcOm9TgAA6BoR3jrzwFcAAAAASUVORK5CYII=\n",
       "\" style=\"display:inline;vertical-align:middle;\" /></a></td></tr>\n",
       "<tr><td>11</td><td>Variable</td><td></td><td><a class=\"ProveItLink\" href=\"../../../../../__pv_it/077b2ff79244fb4582cbe22c6e3356fa92a52f2f0/expr.ipynb\"><img src=\"data:image/png;base64,iVBORw0KGgoAAAANSUhEUgAAABAAAAAOBAMAAADUAYG5AAAAMFBMVEX///+qqqru7u4iIiJ2dnbc\n",
       "3NyIiIjMzMxmZmYQEBC6uroyMjJERERUVFSYmJgAAADLUcuvAAAAAXRSTlMAQObYZgAAAGpJREFU\n",
       "CNdjYGB4+//u3dMLGIBgDgMDxy8gzf4NiP8CGWxfGRj4vgAZPBMYGJgnARn8FxhY9ygAGfXX0pof\n",
       "gDTlBzAw2YIYJ0EckBBI53sHoBH/gIz7AhBjWH9DjancBLTl/N+7t/cxMAAA3u4f/5xagjYAAAAA\n",
       "SUVORK5CYII=\n",
       "\" style=\"display:inline;vertical-align:middle;\" /></a></td></tr>\n",
       "</table>\n"
      ],
      "text/plain": [
       "0. A -> [forall_{B | A supset B} (A supseteq B)]\n",
       "   core type: Lambda\n",
       "   parameter: 10\n",
       "   body: 1\n",
       "1. forall_{B | A supset B} (A supseteq B)\n",
       "   core type: Operation\n",
       "   operator: 2\n",
       "   operand: 3\n",
       "2. forall\n",
       "   core type: Literal\n",
       "   sub-expressions: \n",
       "3. B -> (A supseteq B) | A supset B\n",
       "   core type: Lambda\n",
       "   parameter: 11\n",
       "   body: 4\n",
       "   conditions: 5\\n4. A supseteq B\n",
       "   core type: Operation\n",
       "   operator: 6\n",
       "   operands: 9\n",
       "5. (A supset B)\n",
       "   core type: ExprTuple\n",
       "   sub-expressions: 7\n",
       "6. supseteq\n",
       "   core type: Literal\n",
       "   sub-expressions: \n",
       "7. A supset B\n",
       "   core type: Operation\n",
       "   operator: 8\n",
       "   operands: 9\n",
       "8. supset\n",
       "   core type: Literal\n",
       "   sub-expressions: \n",
       "9. (A , B)\n",
       "   core type: ExprTuple\n",
       "   sub-expressions: 10, 11\n",
       "10. A\n",
       "    core type: Variable\n",
       "    sub-expressions: \n",
       "11. B\n",
       "    core type: Variable\n",
       "    sub-expressions: "
      ]
     },
     "execution_count": 4,
     "metadata": {},
     "output_type": "execute_result"
    }
   ],
   "source": [
    "# display the expression information\n",
    "expr.exprInfo()"
   ]
  },
  {
   "cell_type": "code",
   "execution_count": null,
   "metadata": {},
   "outputs": [],
   "source": []
  }
 ],
 "metadata": {
  "kernelspec": {
   "display_name": "Python 3",
   "language": "python",
   "name": "python3"
  }
 },
 "nbformat": 4,
 "nbformat_minor": 0
}
