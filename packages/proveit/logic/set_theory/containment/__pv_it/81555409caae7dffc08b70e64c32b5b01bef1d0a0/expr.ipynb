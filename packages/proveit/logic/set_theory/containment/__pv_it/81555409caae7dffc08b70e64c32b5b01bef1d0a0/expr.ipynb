{
 "cells": [
  {
   "cell_type": "markdown",
   "metadata": {},
   "source": [
    "Expression of type <a class=\"ProveItLink\" href=\"../../../../../../../doc/html/api/proveit.ExprTuple.html\">ExprTuple</a>\n",
    "=======================\n",
    "# from context <a class=\"ProveItLink\" href=\"../../_context_.ipynb\">proveit.logic.set_theory.containment</a>"
   ]
  },
  {
   "cell_type": "code",
   "execution_count": 1,
   "metadata": {},
   "outputs": [],
   "source": [
    "# import Expression classes needed to build the expression\n",
    "from proveit import ExprTuple\n",
    "from proveit._common_ import A, B\n",
    "from proveit.logic import Not, NotSupersetEq, SupersetEq"
   ]
  },
  {
   "cell_type": "code",
   "execution_count": 2,
   "metadata": {},
   "outputs": [
    {
     "data": {
      "text/html": [
       "<strong id=\"expr\">expr:</strong> <a class=\"ProveItLink\" href=\"expr.ipynb\"><img src=\"data:image/png;base64,iVBORw0KGgoAAAANSUhEUgAAAK8AAAAYBAMAAAB+c7CLAAAAMFBMVEX////c3NwiIiJERESqqqqY\n",
       "mJh2dnZmZmYQEBDu7u4yMjJUVFTMzMyIiIi6uroAAAAs73DqAAAAAXRSTlMAQObYZgAAAm9JREFU\n",
       "SMe1VT1oFEEUfnN36+0me5cF04l4ro0/hWkCweauS+kRIY2g11kJh4iFjedPEwuzpViEFRE5LEya\n",
       "FC6Sw0q4IjYWgiGLnYqQnKjkgokzb352Z/bINsnAtzP79ttvZ958bwdgRPsIR9Pc5UORqWbmV44P\n",
       "4v/M0bsmAH1+/z55VBD91f0ouhSPXo5byygKerkHCOjy8Bu8Et/3z69K6kNK2TNeHwt4t6Xonw16\n",
       "CIgKz4R1MZDPnQc9Mbl/FLuG8Abv5nYUfc6gzwPC5oKT9zy12JXTfFDZph/8Ywgv8JXNbqsIMehP\n",
       "AfFdOGxTJXO894MPih2a7wVjq0MuUkmlyKAXG4g7nB9cbkreMxjjg4llIC8CwzEt7L6VfqfSrtOP\n",
       "tREvMbgE68p1n+iccbD+buNW09w7DDgxS2iyRI1eChFPMBjDqbbk1SRz0wPngpiozxqdrY0ZqwL5\n",
       "mxGW9GoHgblyo2htStBKbWnkGcZu6haeQOF+FP3K+F7S3S3EHp8B2KGgFT2Y5SPmtOutUcL08jiJ\n",
       "G3Qh/IjF6D4WOoJ2HKrnuA7bn7WGLmyz+xLF2cQoBl2kYpo5sSFLibbb7t1A+ZIMAYK0cJGlZlJV\n",
       "KosadLBCxA00GH1jR9To4HUj8eWHLjgDNbce95LDslYPREkbdGW3r3Txi8/Bqg+5LSyZ1HJ9N3pL\n",
       "zegseukCqQGZGXpwZf+VYXBBp2uPEbY38ieT1tIY93P/w6KkrZYe7meIlnY3nyt8U6CbDhJ/QNN2\n",
       "5gBhbUUE60ansx3AXTihh2s5JyDJO7fGPQ4g2ouV3IP0ZM7zLwJGKwRHdEKTwxL6D9PltwbaZ0n9\n",
       "AAAAAElFTkSuQmCC\n",
       "\" style=\"display:inline;vertical-align:middle;\" /></a><br>"
      ],
      "text/plain": [
       "expr: (A nsupseteq B , [not](A supseteq B))"
      ]
     },
     "execution_count": 2,
     "metadata": {},
     "output_type": "execute_result"
    }
   ],
   "source": [
    "# build up the expression from sub-expressions\n",
    "expr = ExprTuple(NotSupersetEq(A, B), Not(SupersetEq(A, B)))"
   ]
  },
  {
   "cell_type": "code",
   "execution_count": 3,
   "metadata": {},
   "outputs": [
    {
     "name": "stdout",
     "output_type": "stream",
     "text": [
      "Passed sanity check: built 'expr' is the same as the stored Expression.\n"
     ]
    }
   ],
   "source": [
    "# check that the built expression is the same as the stored expression\n",
    "%check_expr"
   ]
  },
  {
   "cell_type": "code",
   "execution_count": 4,
   "metadata": {},
   "outputs": [
    {
     "data": {
      "text/html": [
       "<table><tr><th>&nbsp;</th><th>core type</th><th>sub-expressions</th><th>expression</th></tr>\n",
       "<tr><td>0</td><td>ExprTuple</td><td>1, 2</td><td><a class=\"ProveItLink\" href=\"expr.ipynb\"><img src=\"data:image/png;base64,iVBORw0KGgoAAAANSUhEUgAAAK8AAAAYBAMAAAB+c7CLAAAAMFBMVEX////c3NwiIiJERESqqqqY\n",
       "mJh2dnZmZmYQEBDu7u4yMjJUVFTMzMyIiIi6uroAAAAs73DqAAAAAXRSTlMAQObYZgAAAm9JREFU\n",
       "SMe1VT1oFEEUfnN36+0me5cF04l4ro0/hWkCweauS+kRIY2g11kJh4iFjedPEwuzpViEFRE5LEya\n",
       "FC6Sw0q4IjYWgiGLnYqQnKjkgokzb352Z/bINsnAtzP79ttvZ958bwdgRPsIR9Pc5UORqWbmV44P\n",
       "4v/M0bsmAH1+/z55VBD91f0ouhSPXo5byygKerkHCOjy8Bu8Et/3z69K6kNK2TNeHwt4t6Xonw16\n",
       "CIgKz4R1MZDPnQc9Mbl/FLuG8Abv5nYUfc6gzwPC5oKT9zy12JXTfFDZph/8Ywgv8JXNbqsIMehP\n",
       "AfFdOGxTJXO894MPih2a7wVjq0MuUkmlyKAXG4g7nB9cbkreMxjjg4llIC8CwzEt7L6VfqfSrtOP\n",
       "tREvMbgE68p1n+iccbD+buNW09w7DDgxS2iyRI1eChFPMBjDqbbk1SRz0wPngpiozxqdrY0ZqwL5\n",
       "mxGW9GoHgblyo2htStBKbWnkGcZu6haeQOF+FP3K+F7S3S3EHp8B2KGgFT2Y5SPmtOutUcL08jiJ\n",
       "G3Qh/IjF6D4WOoJ2HKrnuA7bn7WGLmyz+xLF2cQoBl2kYpo5sSFLibbb7t1A+ZIMAYK0cJGlZlJV\n",
       "KosadLBCxA00GH1jR9To4HUj8eWHLjgDNbce95LDslYPREkbdGW3r3Txi8/Bqg+5LSyZ1HJ9N3pL\n",
       "zegseukCqQGZGXpwZf+VYXBBp2uPEbY38ieT1tIY93P/w6KkrZYe7meIlnY3nyt8U6CbDhJ/QNN2\n",
       "5gBhbUUE60ansx3AXTihh2s5JyDJO7fGPQ4g2ouV3IP0ZM7zLwJGKwRHdEKTwxL6D9PltwbaZ0n9\n",
       "AAAAAElFTkSuQmCC\n",
       "\" style=\"display:inline;vertical-align:middle;\" /></a></td></tr>\n",
       "<tr><td>1</td><td>Operation</td><td>operator:&nbsp;3<br>operands:&nbsp;7<br></td><td><a class=\"ProveItLink\" href=\"../e93b75139355971858a3a0fcf004e7fb734402600/expr.ipynb\"><img src=\"data:image/png;base64,iVBORw0KGgoAAAANSUhEUgAAADsAAAAYBAMAAAC2M5gYAAAAMFBMVEX///92dnYQEBBERERUVFS6\n",
       "urqIiIhmZmaqqqrc3Nzu7u6YmJgyMjIiIiLMzMwAAACFkkdwAAAAAXRSTlMAQObYZgAAASRJREFU\n",
       "KM9jYEADbAx4wRP80qVYxN4imBcgFLf/Fxfno1Cx82By7t27d48IQIWYDBgY6gMgSu8vgGledA/K\n",
       "eJ8AxA5g5oz6CXCXzYUy84H0fohRCfkBMGk/VogOBiMgvgQ2lHVB/waoLNcBhgMQ1hcGhjlWYNZS\n",
       "sEWQQNnA4Adm8H1JS78NEQtgmF8AleZlgEqz/WRgWAu2h8/Fxd8AKt0O8zizAlDJb7DVQE9CLWSw\n",
       "ZOCAGMQP1Mn9EcRqAJqpAJHlNGCIhQTBe6BjWX6AhIDSPB8g0uwNz08hvD0fZOYakE2/IIF6/44H\n",
       "A9zbfDpAgybrn2Tgtv8DsXEjLHSK/7u4nNmAHnOn8MY1nwM+2bn3gTF61wCn/Fr8CSkNv/Qt/NIT\n",
       "MEQAjr9Prm7ut9AAAAAASUVORK5CYII=\n",
       "\" style=\"display:inline;vertical-align:middle;\" /></a></td></tr>\n",
       "<tr><td>2</td><td>Operation</td><td>operator:&nbsp;4<br>operand:&nbsp;5<br></td><td><a class=\"ProveItLink\" href=\"../83db08eed61502eac30a181ad08f92051e60d40b0/expr.ipynb\"><img src=\"data:image/png;base64,iVBORw0KGgoAAAANSUhEUgAAAFoAAAAVBAMAAAA0iOSIAAAAMFBMVEX////c3NxERESqqqqYmJgQ\n",
       "EBDu7u4yMjKIiIi6urpUVFTMzMx2dnYiIiJmZmYAAABjE816AAAAAXRSTlMAQObYZgAAAWNJREFU\n",
       "KM9jYCATcDbgl2eZgMzbBaH2Yqrz+r9qlfoEhtfIYmUQqh5MMt69e/d6G0wqiIGB7ycDO5JiDohD\n",
       "WO4nwETYfDdAGNw/gPgXA8sBhGpWiCrh9wJwIcaLUIM+Ak35w8AWgFA9HUI19CN5ZhaEYgIq4w1j\n",
       "YFBGyLyBBEyCvQNCDOpS/gUMjEVAq88hZErAZCbDfqSA5II4fP+KjrcgM8wZ3gI9f/cOkBkJlpjA\n",
       "IP8AQ3W/AAPbLSA9FRHUP8G+X7VqvQJCNS+EUgXpABq+H001JzBsChCq7SDULyD2P4CiOhjEMACa\n",
       "hwgnzmuQ4P4CJNYboLhEBRTAQCH2DzDF3M8T4MHN+B3IcIeKM0CCJx0UuN9gMV9lgAjurWUMKCE4\n",
       "l4FBKL6QgUX/+wPUNMWn/2vVcnD4ViLFvAChJI0c88hpBjvgacBMsQzwFHv37iUU1enIHClCZi9E\n",
       "MY5ATuPYwAAAVwxdBnsjd+4AAAAASUVORK5CYII=\n",
       "\" style=\"display:inline;vertical-align:middle;\" /></a></td></tr>\n",
       "<tr><td>3</td><td>Literal</td><td></td><td><a class=\"ProveItLink\" href=\"../750db171b2e8e944a2b1f3dc5b825c00ed5badfe0/expr.ipynb\"><img src=\"data:image/png;base64,iVBORw0KGgoAAAANSUhEUgAAAA4AAAAYBAMAAAA46dFkAAAAMFBMVEX///9ERESqqqqYmJgQEBDu\n",
       "7u52dnYyMjLc3NwiIiK6urpmZmZUVFTMzMyIiIgAAADs5GwKAAAAAXRSTlMAQObYZgAAAHVJREFU\n",
       "CNdjYAABPgYIuAOld0HpCQwMnTNnzqxJgHBD5kKVdTaA6bNcB0AUawFDAdgUA4azIJqTAUJrgw1g\n",
       "YJBgYNoApDgEGFYGAGluhdulIHPnTz8ENsUMalkphOIFm8nQOR9o8UwBBoZIqPQ7KD0VSkOcAAAo\n",
       "exszS18ZhgAAAABJRU5ErkJggg==\n",
       "\" style=\"display:inline;vertical-align:middle;\" /></a></td></tr>\n",
       "<tr><td>4</td><td>Literal</td><td></td><td><a class=\"ProveItLink\" href=\"../../../../boolean/negation/__pv_it/7bea79645543c2413aa17e787cca04e21046fde60/expr.ipynb\"><img src=\"data:image/png;base64,iVBORw0KGgoAAAANSUhEUgAAAAwAAAAGBAMAAAAFwGKyAAAAFVBMVEX///9UVFTMzMx2dnYiIiJm\n",
       "ZmYAAACWz4ZEAAAAAXRSTlMAQObYZgAAABRJREFUCNdjCHEBAmcGMFDEQzEBAEl+Ai6uYJv/AAAA\n",
       "AElFTkSuQmCC\n",
       "\" style=\"display:inline;vertical-align:middle;\" /></a></td></tr>\n",
       "<tr><td>5</td><td>Operation</td><td>operator:&nbsp;6<br>operands:&nbsp;7<br></td><td><a class=\"ProveItLink\" href=\"../5e6face9deb8f4990d49930649fd84e604ecfa3c0/expr.ipynb\"><img src=\"data:image/png;base64,iVBORw0KGgoAAAANSUhEUgAAADsAAAARBAMAAACRPMnQAAAAMFBMVEX///92dnYQEBBERERUVFS6\n",
       "urqIiIhmZmaqqqrc3Nzu7u6YmJgyMjIiIiLMzMwAAACFkkdwAAAAAXRSTlMAQObYZgAAAO9JREFU\n",
       "KM9jYACBtwzogNv/i4vzUSjnPJice/fu3WMLoEJMBgwM9QEQpfdhggyr70EZ7xOA2AHMnFE/AW7q\n",
       "XCgzH0jvFwAzE/ID4NKsEB0MRkB8CWwo64L+DQhHHYBQXxgY5liBWUvBFsGAH5jk+5KWfhsiEMAw\n",
       "vwBdmu0nA8NasD18Li7+BgjpC2CSWQGo5DfYaqAnD8BlOSAG8QN1cn8EsRoYGHgV4NKxkCB4D3Qs\n",
       "yw8ggxMozfMBJvv8FMLb80FmrgHZ9AsaqHc8GODe5tMBGjRZ/yQDt/2fAtQYKf7v4nJmAwMVAShC\n",
       "7941QBYCAC8bRZFIybTAAAAAAElFTkSuQmCC\n",
       "\" style=\"display:inline;vertical-align:middle;\" /></a></td></tr>\n",
       "<tr><td>6</td><td>Literal</td><td></td><td><a class=\"ProveItLink\" href=\"../bc0f4f75fcd25c7f3c501d50b7b90e3eb0564d7a0/expr.ipynb\"><img src=\"data:image/png;base64,iVBORw0KGgoAAAANSUhEUgAAAA4AAAAQBAMAAADUulMJAAAAKlBMVEX///9ERERmZmaqqqpUVFS6\n",
       "urrMzMyYmJju7u6IiIgyMjIiIiLc3NwAAAAAfF0EAAAAAXRSTlMAQObYZgAAAD5JREFUCNdjOL17\n",
       "9+6VDQxg0L4NQjOcPgChWR2gAgugtBsavQFCMStA6GiIQUkrgEbs3r3LmQE3ANm7e7cAAMoAEtfi\n",
       "lGxPAAAAAElFTkSuQmCC\n",
       "\" style=\"display:inline;vertical-align:middle;\" /></a></td></tr>\n",
       "<tr><td>7</td><td>ExprTuple</td><td>8, 9</td><td><a class=\"ProveItLink\" href=\"../caee09fb4b5c95b986a9cee46a014afbad9bdc680/expr.ipynb\"><img src=\"data:image/png;base64,iVBORw0KGgoAAAANSUhEUgAAADUAAAAVBAMAAAAUZLt1AAAAMFBMVEX////c3NwiIiJERESqqqqY\n",
       "mJh2dnZmZmYQEBDu7u4yMjJUVFTMzMyIiIi6uroAAAAs73DqAAAAAXRSTlMAQObYZgAAATZJREFU\n",
       "KM9jYMAH+C5gFY4DEach7EMwQdb9v3dvXsfAfgDIXgkRWg/XwWHAwFD/gGEBAwMvxEhW/QkwufNA\n",
       "kfMbGMKAqiBiIvUCMLn7QFZ8AsMMBoZXEIEL9x/A5CyAWGMCA7MDQxnEsRP8A2ByvxkYpCwZGNgK\n",
       "GJaC+fPAtoABz++711WBNMsChj6wwAMG+QKoHO9HBoZJG4BGNTD8A6vdvXu/AVSOuQEo/xUo9gEi\n",
       "xwd07wKoHD9QD+s3sFwLiO/AwMDUAPMe0FHcX8BmmgK5jEA5rg8MDBNg3pMHGsK6gCEdyJ0FsuYn\n",
       "A+cnqPd4uiaA/fCIgUG4fyEDq/2vAs5+oJbi/7t3rwL5lesBA4cAUnQhsUFhxpqA4LIiR2AuIo7Q\n",
       "5ThBfpJG8JFTADfIfEbsaeIOAwMABOxNRsfkiy0AAAAASUVORK5CYII=\n",
       "\" style=\"display:inline;vertical-align:middle;\" /></a></td></tr>\n",
       "<tr><td>8</td><td>Variable</td><td></td><td><a class=\"ProveItLink\" href=\"../../../../../__pv_it/2cbe72a7ad6f655694dd697106680215e8489b600/expr.ipynb\"><img src=\"data:image/png;base64,iVBORw0KGgoAAAANSUhEUgAAAA8AAAAOBAMAAAACpFvcAAAALVBMVEX///8QEBBERERUVFS6urqI\n",
       "iIhmZmaqqqrc3Nzu7u6YmJgyMjIiIiLMzMwAAADtIaYWAAAAAXRSTlMAQObYZgAAAFtJREFUCNdj\n",
       "YACBOwxQsA9Kc52bAGG05zVAGAFxDmCaZULdAjBjCsO9ADDDgaEvAUTzGhvbKYCVMDAwbgAxChgY\n",
       "eASANAeQwf0AyJgNxEwvGRia5HYwcOm9TgAA6BoR3jrzwFcAAAAASUVORK5CYII=\n",
       "\" style=\"display:inline;vertical-align:middle;\" /></a></td></tr>\n",
       "<tr><td>9</td><td>Variable</td><td></td><td><a class=\"ProveItLink\" href=\"../../../../../__pv_it/077b2ff79244fb4582cbe22c6e3356fa92a52f2f0/expr.ipynb\"><img src=\"data:image/png;base64,iVBORw0KGgoAAAANSUhEUgAAABAAAAAOBAMAAADUAYG5AAAAMFBMVEX///+qqqru7u4iIiJ2dnbc\n",
       "3NyIiIjMzMxmZmYQEBC6uroyMjJERERUVFSYmJgAAADLUcuvAAAAAXRSTlMAQObYZgAAAGpJREFU\n",
       "CNdjYGB4+//u3dMLGIBgDgMDxy8gzf4NiP8CGWxfGRj4vgAZPBMYGJgnARn8FxhY9ygAGfXX0pof\n",
       "gDTlBzAw2YIYJ0EckBBI53sHoBH/gIz7AhBjWH9DjancBLTl/N+7t/cxMAAA3u4f/5xagjYAAAAA\n",
       "SUVORK5CYII=\n",
       "\" style=\"display:inline;vertical-align:middle;\" /></a></td></tr>\n",
       "</table>\n"
      ],
      "text/plain": [
       "0. (A nsupseteq B , [not](A supseteq B))\n",
       "   core type: ExprTuple\n",
       "   sub-expressions: 1, 2\n",
       "1. A nsupseteq B\n",
       "   core type: Operation\n",
       "   operator: 3\n",
       "   operands: 7\n",
       "2. [not](A supseteq B)\n",
       "   core type: Operation\n",
       "   operator: 4\n",
       "   operand: 5\n",
       "3. nsupseteq\n",
       "   core type: Literal\n",
       "   sub-expressions: \n",
       "4. not\n",
       "   core type: Literal\n",
       "   sub-expressions: \n",
       "5. A supseteq B\n",
       "   core type: Operation\n",
       "   operator: 6\n",
       "   operands: 7\n",
       "6. supseteq\n",
       "   core type: Literal\n",
       "   sub-expressions: \n",
       "7. (A , B)\n",
       "   core type: ExprTuple\n",
       "   sub-expressions: 8, 9\n",
       "8. A\n",
       "   core type: Variable\n",
       "   sub-expressions: \n",
       "9. B\n",
       "   core type: Variable\n",
       "   sub-expressions: "
      ]
     },
     "execution_count": 4,
     "metadata": {},
     "output_type": "execute_result"
    }
   ],
   "source": [
    "# display the expression information\n",
    "expr.exprInfo()"
   ]
  },
  {
   "cell_type": "code",
   "execution_count": null,
   "metadata": {},
   "outputs": [],
   "source": []
  }
 ],
 "metadata": {
  "kernelspec": {
   "display_name": "Python 3",
   "language": "python",
   "name": "python3"
  }
 },
 "nbformat": 4,
 "nbformat_minor": 0
}
