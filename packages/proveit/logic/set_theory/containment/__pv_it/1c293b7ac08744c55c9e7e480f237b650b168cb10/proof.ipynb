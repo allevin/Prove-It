{
 "cells": [
  {
   "cell_type": "markdown",
   "metadata": {},
   "source": [
    "Show the Proof\n",
    "========"
   ]
  },
  {
   "cell_type": "code",
   "execution_count": 1,
   "metadata": {},
   "outputs": [
    {
     "data": {
      "text/html": [
       "<table><tr><th>&nbsp;</th><th>step type</th><th>requirements</th><th>statement</th></tr>\n",
       "<tr><td>0</td><td>assumption</td><td></td><td><span style=\"font-size:20px;\"><a class=\"ProveItLink\" href=\"../5263b62b0613faf54b54aa1fc33c5d620515a9c40/expr.ipynb\"><img src=\"data:image/png;base64,iVBORw0KGgoAAAANSUhEUgAAAJEAAAAVBAMAAAC01xHeAAAAMFBMVEX///9ERETc3NyqqqpUVFS6\n",
       "urrMzMwyMjIQEBCIiIh2dnYiIiLu7u5mZmaYmJgAAABJJ2g3AAAAAXRSTlMAQObYZgAAAmlJREFU\n",
       "OMulVEFoE0EUfY3bJLvZrN2K2IPoWoWiHtqD4ElsJfXaIoIBQfYgKHpIEIoHRQJSva5YEIWQYC9W\n",
       "KngRtEtDCgXBKtRLRaUa8CCCUKvx4kH9f3YnnQ1uenBgkjez/7/58/7/A8D6gP8cyYcO/5lzQL2j\n",
       "YbfX4aM1zlTXGerfgMcMvsQZn/03xVgzNzIBrPDiDf8YJWCawdU4ppgP6R7g4zhSjB9Ipj30n+iJ\n",
       "IdJjLleg/cIwrKrKlCKhskMxTGlVRfOO7xcDWCGZ16owSyqTdb+//2Dc5U6pi3NfW7CP5lM6ZZvK\n",
       "hHXbnotjekfzwNTeMl8ysXNjvwkM8PKRZMpysMeB3jaCSxJcoztVrVqaE9zlbBRR8265xuAwzTUG\n",
       "57kgTsIstiX5p0STFDfVyhaX8IKSiO/A0jCBPM3UMhXLDd7OQG9ITcurDF/9li5EaUILMpv3fal4\n",
       "F6mis1GBVzvIJ89n6Y2MzNCtEy8Zzs4rTJRAr71It1I81q+QKcOloPERZpFtZkanXGs5UMGzpYvo\n",
       "hEFXtNSSUk4UhfYjvJ3QyRCt0jtKqD6SHkoFdhreS5dddLZTgc5MWqPFxOU0yFF8jlQBjhBfN6fp\n",
       "QmD3CRXpQlk+2ujDfiHiE7WckjfrahUETIEOlI6Ltm17MOdXd0vhTlPK7r2YCaIZWAl3X//J5S6L\n",
       "vYkok8V+yVISi8Iu66Dgym5x1Oo4dMWP1ku0W0INjaIBTfidodxISUSLxg/Dk0xWi2nh9ttZmNsJ\n",
       "La4jMVbb5FUJx/PW+2Q+azuDdYqMfR2ZjrEsk0H005s804lOr6/uhu/4Xx4ZmMOoBy+fAAAAAElF\n",
       "TkSuQmCC\n",
       "\" style=\"display:inline;vertical-align:middle;\" /></a> <a class=\"ProveItLink\" href=\"proof.ipynb\" style=\"text-decoration: none\">&#x22A2;&nbsp;</a><a class=\"ProveItLink\" href=\"../156f7a1600797a481b9dc3cb7110482799d62c4e0/expr.ipynb\"><img src=\"data:image/png;base64,iVBORw0KGgoAAAANSUhEUgAAAHwAAAAVBAMAAAB2y5cfAAAAMFBMVEX///8QEBC6urrMzMxUVFRm\n",
       "ZmZERETc3NwyMjKqqqp2dnaIiIiYmJgiIiLu7u4AAAAU9Wx4AAAAAXRSTlMAQObYZgAAAhJJREFU\n",
       "OMtjYKAMPMAry7QBjySPAgPDBRDjNC4VJtj1+X9xcWtiYAhmYFgJ4vfh0o5DgjGBgSFegYGDgaEM\n",
       "yGNPwKGbG4fb7YHi9g4MPAsYOICeZ52AQzsjcsjw7bh7twHC3F/AwHB+AQOfAAPP8vLyWlxu10Dm\n",
       "WJyDMxOB+CLQ6EwGhm9pabdwaY8C4qotlVtBfmDPQ4h/YWCoAHGXMjA4MzCko+lqhzF6gE5ewHOH\n",
       "ERQ9bAVweeYvu7feATFmMDCoMPA1oMXLJxhLiIGBi4H7A6cBkP0MKUS/MzC8dQAyFBkYeBm4D8AC\n",
       "Z2soiPn0D0wd0Bw+BhZIvCjevQsLOjYBoBEgRfZA+gAvLHy3qb8DMdddRdIODP4N6CmIH2gzzy+I\n",
       "dr4GkMRqpy0GPAEQn21Ig6mTBBH1BuCU/RYp2oFuZPkJcTxDuhPQhw/cGCdwQCRZGGJh6nKAthTs\n",
       "Z+AGaWc5ANcOivZ6kD9OAPFUYLgygQLZCiJ5kmE/TB0wYuYfSGSoBgfMJeRoZ5Z4AJGH+g0YmLZp\n",
       "aWkbGPiuhubDAkMXGOC7Xq2G2FsRDBUN++/i0gEWawLFE0gxswAzwxOwJGsBg70BLNEWIEfolN67\n",
       "qFEMTLTQwOBq4GJgASvWAYYszJvAPIEPcMFy1LOd0esY+JKArCffGNj97xDIsFDwAs00kN9RQAle\n",
       "7e6EijJ2fIUVtwEDAL5ShVFhiTPKAAAAAElFTkSuQmCC\n",
       "\" style=\"display:inline;vertical-align:middle;\" /></a></span></td></tr>\n",
       "</table>"
      ],
      "text/plain": [
       "<proveit._core_.proof._ShowProof at 0x7f94ea9fcc18>"
      ]
     },
     "execution_count": 1,
     "metadata": {},
     "output_type": "execute_result"
    }
   ],
   "source": [
    "import proveit\n",
    "%show_proof"
   ]
  },
  {
   "cell_type": "code",
   "execution_count": null,
   "metadata": {},
   "outputs": [],
   "source": []
  }
 ],
 "metadata": {
  "kernelspec": {
   "display_name": "Python 3",
   "language": "python",
   "name": "python3"
  }
 },
 "nbformat": 4,
 "nbformat_minor": 0
}
