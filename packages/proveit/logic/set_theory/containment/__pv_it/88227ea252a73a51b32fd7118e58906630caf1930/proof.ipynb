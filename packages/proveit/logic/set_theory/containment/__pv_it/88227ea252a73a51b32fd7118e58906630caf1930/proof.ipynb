{
 "cells": [
  {
   "cell_type": "markdown",
   "metadata": {},
   "source": [
    "Show the Proof\n",
    "========"
   ]
  },
  {
   "cell_type": "code",
   "execution_count": 1,
   "metadata": {},
   "outputs": [
    {
     "data": {
      "text/html": [
       "<table><tr><th>&nbsp;</th><th>step type</th><th>requirements</th><th>statement</th></tr>\n",
       "<tr><td>0</td><td>assumption</td><td></td><td><span style=\"font-size:20px;\"><a class=\"ProveItLink\" href=\"../161812d09d6f5f0f76532c395be2049c60a0194b0/expr.ipynb\"><img src=\"data:image/png;base64,iVBORw0KGgoAAAANSUhEUgAAAE8AAAAYBAMAAABJkb36AAAAMFBMVEX///9ERETc3NyqqqpUVFS6\n",
       "urrMzMwyMjIQEBCIiIh2dnYiIiLu7u5mZmaYmJgAAABJJ2g3AAAAAXRSTlMAQObYZgAAAYRJREFU\n",
       "KM9jYMAGOLGK8t3DEEpB4bGtUgBRPLsw9V5F5bI1g635AOVmI2Q2QO3y/+LiWApkXAfxuBqgsvVg\n",
       "Unv37t0lC6BCHAIMDPcDGBhWICvk238AZuCJbVBG/gQgdkBTqHxfAe4XbShzPpB+vwBN4YT5ATCF\n",
       "bqwOEIYEEO84gKqQ9YD9A6g6ngKGAgjrCwODugwDVCEvRPAo2EGQ4H7A4AYJli8z5+4DMd6DiAyI\n",
       "jQEM+hegCrkZoAo5PzEwnAa5gh0oldIG0ezi4i8AVWgLC0hGoKs4/4FY4kBnRSSAnQgMNKjDGIQY\n",
       "mCGG8wNN4/sFsgMUsCxgeQMgD+p9JgGGaEiQ5gPNYfkMcyMXyBomoEJ2aFzyGuTWIIJRv4ABOXiO\n",
       "g1z0BxKF+7c7M8CDka39ALJCxf4iBj757xCXvYKF+8X/Li7l4MBFiRk4qMFMdlgVsjngUMiHqlB7\n",
       "PzCd7RZAVQhOjzw7UQVPYxrI1gpJiItRRGdiqlulgC2v7WEgEihgFwYAYh9jC+reZq0AAAAASUVO\n",
       "RK5CYII=\n",
       "\" style=\"display:inline;vertical-align:middle;\" /></a> <a class=\"ProveItLink\" href=\"proof.ipynb\" style=\"text-decoration: none\">&#x22A2;&nbsp;</a><a class=\"ProveItLink\" href=\"../e93b75139355971858a3a0fcf004e7fb734402600/expr.ipynb\"><img src=\"data:image/png;base64,iVBORw0KGgoAAAANSUhEUgAAADsAAAAYBAMAAAC2M5gYAAAAMFBMVEX///92dnYQEBBERERUVFS6\n",
       "urqIiIhmZmaqqqrc3Nzu7u6YmJgyMjIiIiLMzMwAAACFkkdwAAAAAXRSTlMAQObYZgAAASRJREFU\n",
       "KM9jYEADbAx4wRP80qVYxN4imBcgFLf/Fxfno1Cx82By7t27d48IQIWYDBgY6gMgSu8vgGledA/K\n",
       "eJ8AxA5g5oz6CXCXzYUy84H0fohRCfkBMGk/VogOBiMgvgQ2lHVB/waoLNcBhgMQ1hcGhjlWYNZS\n",
       "sEWQQNnA4Adm8H1JS78NEQtgmF8AleZlgEqz/WRgWAu2h8/Fxd8AKt0O8zizAlDJb7DVQE9CLWSw\n",
       "ZOCAGMQP1Mn9EcRqAJqpAJHlNGCIhQTBe6BjWX6AhIDSPB8g0uwNz08hvD0fZOYakE2/IIF6/44H\n",
       "A9zbfDpAgybrn2Tgtv8DsXEjLHSK/7u4nNmAHnOn8MY1nwM+2bn3gTF61wCn/Fr8CSkNv/Qt/NIT\n",
       "MEQAjr9Prm7ut9AAAAAASUVORK5CYII=\n",
       "\" style=\"display:inline;vertical-align:middle;\" /></a></span></td></tr>\n",
       "</table>"
      ],
      "text/plain": [
       "<proveit._core_.proof._ShowProof at 0x7f94ea9eb0f0>"
      ]
     },
     "execution_count": 1,
     "metadata": {},
     "output_type": "execute_result"
    }
   ],
   "source": [
    "import proveit\n",
    "%show_proof"
   ]
  },
  {
   "cell_type": "code",
   "execution_count": null,
   "metadata": {},
   "outputs": [],
   "source": []
  }
 ],
 "metadata": {
  "kernelspec": {
   "display_name": "Python 3",
   "language": "python",
   "name": "python3"
  }
 },
 "nbformat": 4,
 "nbformat_minor": 0
}
