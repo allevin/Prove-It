{
 "cells": [
  {
   "cell_type": "markdown",
   "metadata": {},
   "source": [
    "Show the Proof\n",
    "========"
   ]
  },
  {
   "cell_type": "code",
   "execution_count": 1,
   "metadata": {},
   "outputs": [
    {
     "data": {
      "text/html": [
       "<table><tr><th>&nbsp;</th><th>step type</th><th>requirements</th><th>statement</th></tr>\n",
       "<tr><td>0</td><td>specialization</td><td>1, 2</td><td><span style=\"font-size:20px;\"><a class=\"ProveItLink\" href=\"../4fd4318f3631c89f7df42ccaba90a351d139288b0/expr.ipynb\"><img src=\"data:image/png;base64,iVBORw0KGgoAAAANSUhEUgAAAE8AAAAVBAMAAAD1D64kAAAAMFBMVEX///9ERETc3NyqqqpUVFS6\n",
       "urrMzMwyMjIQEBCIiIh2dnYiIiLu7u5mZmaYmJgAAABJJ2g3AAAAAXRSTlMAQObYZgAAAShJREFU\n",
       "KM9jYGDgu8eAH7CtUgBRPLsYCAG2ZhDJ+QHKzcZQwOf/xcWxFMi4DuJxNUCF6zGN4hBgYLgfwMCw\n",
       "Alkh3/4DGArzJwCxA5pC5fsKGArnA4XeL0BTOGF+AIZCCSDecQBVIesB+wcYCr8wMKjLMEAV8haA\n",
       "xY6CHQT0YDkIlECC5cvMuftAjPcgIgNiYwCD/gV0Azk/MTCcBvqFgR0oldIG0ezi4i+ArpAR6CrO\n",
       "fyCWONBZEQlgJwIDrQBdIT/QNL5fQAY30OcMLGB5AyAP7Kvbu0FgIyQYgeawfIa5kWsDkGACKmT/\n",
       "gC0Y9QsYkIPnOMhFf7AEI1v7AWSFiv1FDHzy39G8ffG/i0s5OHBRYgYfIE0hHxEKwemRZyfhFN4K\n",
       "SYiLickzANGZUsCfCTn+AAAAAElFTkSuQmCC\n",
       "\" style=\"display:inline;vertical-align:middle;\" /></a> <a class=\"ProveItLink\" href=\"proof.ipynb\" style=\"text-decoration: none\">&#x22A2;&nbsp;</a><a class=\"ProveItLink\" href=\"../5e6face9deb8f4990d49930649fd84e604ecfa3c0/expr.ipynb\"><img src=\"data:image/png;base64,iVBORw0KGgoAAAANSUhEUgAAADsAAAARBAMAAACRPMnQAAAAMFBMVEX///92dnYQEBBERERUVFS6\n",
       "urqIiIhmZmaqqqrc3Nzu7u6YmJgyMjIiIiLMzMwAAACFkkdwAAAAAXRSTlMAQObYZgAAAO9JREFU\n",
       "KM9jYACBtwzogNv/i4vzUSjnPJice/fu3WMLoEJMBgwM9QEQpfdhggyr70EZ7xOA2AHMnFE/AW7q\n",
       "XCgzH0jvFwAzE/ID4NKsEB0MRkB8CWwo64L+DQhHHYBQXxgY5liBWUvBFsGAH5jk+5KWfhsiEMAw\n",
       "vwBdmu0nA8NasD18Li7+BgjpC2CSWQGo5DfYaqAnD8BlOSAG8QN1cn8EsRoYGHgV4NKxkCB4D3Qs\n",
       "yw8ggxMozfMBJvv8FMLb80FmrgHZ9AsaqHc8GODe5tMBGjRZ/yQDt/2fAtQYKf7v4nJmAwMVAShC\n",
       "7941QBYCAC8bRZFIybTAAAAAAElFTkSuQmCC\n",
       "\" style=\"display:inline;vertical-align:middle;\" /></a></span></td></tr>\n",
       "<tr><td>&nbsp;</td><td colspan=4 style=\"text-align:left\"><span style=\"font-size:20px;\"><a class=\"ProveItLink\" href=\"../../../../../__pv_it/2cbe72a7ad6f655694dd697106680215e8489b600/expr.ipynb\"><img src=\"data:image/png;base64,iVBORw0KGgoAAAANSUhEUgAAAA8AAAAOBAMAAAACpFvcAAAALVBMVEX///8QEBBERERUVFS6urqI\n",
       "iIhmZmaqqqrc3Nzu7u6YmJgyMjIiIiLMzMwAAADtIaYWAAAAAXRSTlMAQObYZgAAAFtJREFUCNdj\n",
       "YACBOwxQsA9Kc52bAGG05zVAGAFxDmCaZULdAjBjCsO9ADDDgaEvAUTzGhvbKYCVMDAwbgAxChgY\n",
       "eASANAeQwf0AyJgNxEwvGRia5HYwcOm9TgAA6BoR3jrzwFcAAAAASUVORK5CYII=\n",
       "\" style=\"display:inline;vertical-align:middle;\" /></a> : <a class=\"ProveItLink\" href=\"../../../../../__pv_it/2cbe72a7ad6f655694dd697106680215e8489b600/expr.ipynb\"><img src=\"data:image/png;base64,iVBORw0KGgoAAAANSUhEUgAAAA8AAAAOBAMAAAACpFvcAAAALVBMVEX///8QEBBERERUVFS6urqI\n",
       "iIhmZmaqqqrc3Nzu7u6YmJgyMjIiIiLMzMwAAADtIaYWAAAAAXRSTlMAQObYZgAAAFtJREFUCNdj\n",
       "YACBOwxQsA9Kc52bAGG05zVAGAFxDmCaZULdAjBjCsO9ADDDgaEvAUTzGhvbKYCVMDAwbgAxChgY\n",
       "eASANAeQwf0AyJgNxEwvGRia5HYwcOm9TgAA6BoR3jrzwFcAAAAASUVORK5CYII=\n",
       "\" style=\"display:inline;vertical-align:middle;\" /></a>, <a class=\"ProveItLink\" href=\"../../../../../__pv_it/077b2ff79244fb4582cbe22c6e3356fa92a52f2f0/expr.ipynb\"><img src=\"data:image/png;base64,iVBORw0KGgoAAAANSUhEUgAAABAAAAAOBAMAAADUAYG5AAAAMFBMVEX///+qqqru7u4iIiJ2dnbc\n",
       "3NyIiIjMzMxmZmYQEBC6uroyMjJERERUVFSYmJgAAADLUcuvAAAAAXRSTlMAQObYZgAAAGpJREFU\n",
       "CNdjYGB4+//u3dMLGIBgDgMDxy8gzf4NiP8CGWxfGRj4vgAZPBMYGJgnARn8FxhY9ygAGfXX0pof\n",
       "gDTlBzAw2YIYJ0EckBBI53sHoBH/gIz7AhBjWH9DjancBLTl/N+7t/cxMAAA3u4f/5xagjYAAAAA\n",
       "SUVORK5CYII=\n",
       "\" style=\"display:inline;vertical-align:middle;\" /></a> : <a class=\"ProveItLink\" href=\"../../../../../__pv_it/077b2ff79244fb4582cbe22c6e3356fa92a52f2f0/expr.ipynb\"><img src=\"data:image/png;base64,iVBORw0KGgoAAAANSUhEUgAAABAAAAAOBAMAAADUAYG5AAAAMFBMVEX///+qqqru7u4iIiJ2dnbc\n",
       "3NyIiIjMzMxmZmYQEBC6uroyMjJERERUVFSYmJgAAADLUcuvAAAAAXRSTlMAQObYZgAAAGpJREFU\n",
       "CNdjYGB4+//u3dMLGIBgDgMDxy8gzf4NiP8CGWxfGRj4vgAZPBMYGJgnARn8FxhY9ygAGfXX0pof\n",
       "gDTlBzAw2YIYJ0EckBBI53sHoBH/gIz7AhBjWH9DjancBLTl/N+7t/cxMAAA3u4f/5xagjYAAAAA\n",
       "SUVORK5CYII=\n",
       "\" style=\"display:inline;vertical-align:middle;\" /></a></span></td></tr><tr><td>1</td><td>theorem</td><td></td><td><span style=\"font-size:20px;\"> <a class=\"ProveItLink\" href=\"../../_proofs_/supersetEqViaEquality.ipynb\" style=\"text-decoration: none\">&#x22A2;&nbsp;</a><a class=\"ProveItLink\" href=\"../2c5cea7a91fe9ad0d7398993408c5b3f69829b470/expr.ipynb\"><img src=\"data:image/png;base64,iVBORw0KGgoAAAANSUhEUgAAALkAAAAXBAMAAACllfPxAAAAMFBMVEX///8QEBC6urrMzMxUVFRm\n",
       "ZmZERETc3NwyMjKqqqp2dnaIiIiYmJgiIiLu7u4AAAAU9Wx4AAAAAXRSTlMAQObYZgAAAr9JREFU\n",
       "SMe1VE1oE0EU/ppkd5tks8lJPZUcvCkmQsGDhwYNJeAhOSTqpdgipj2ZHMQipZiDGgVp9xLPvVkR\n",
       "JKK3gI0iopViBKOiRlLQY7E0P61WW+dnZ7Omh9BVB2be7Hvzvp33zTcD/NdWt515oEf8CekVOnlp\n",
       "A9wZ4aayI/J0OxqdCEIKA3fo94wN9H5edf8qHZVarfb+kQjtAaQ1IAdcpLFRG+glbpa2hENbChtV\n",
       "bZLeBBb5FiTdBvoAG5XCuulR3nHrJS71B7BMzO3JyWkb4I4cR/KudXz7uZEDgI/8XCabbqfTH2yg\n",
       "S3PMHHL/tBwFN/4IlGuEEk8COA6MM2eejbdaqWHGn8PMyYqZO5NKnhXeMuM6SEkWzcWJHzpRGqFR\n",
       "d46Wo7EiVV6iGoA3wOoTOa+CZvpj4L4x7QvyLSitHegLWWhvaJAyBC/bxldeohSBY92Krp0pm+lJ\n",
       "IGRU4mfog9Fou4Pu42aM/oEkOYlYvWUfU+69Kl9RhFSxontWEmb6R2AEVnQy7OugF7hp0oLnOLqW\n",
       "G2QiLaZZ6FsYz7NW9KOyeRu0BtS8YIaq2E36646MPnO5UxLiOmcG48cYZ8auQqWH52FFj5BSYtdJ\n",
       "K8KxWRoW75JM+bpE+qz5NJyum3JXNugR0vMsMCJeYIHF5snZ1S3oqu5dFfmeHNQBMU+AyyFTN16C\n",
       "K3pH7odnjCXoK9Kiqym2DOcIOboFfSV10rzrcgLad0FDBcrYRhbPtq92XYRMMxq7yURLj0alqFIW\n",
       "Q0xPJDsUtqCfgrOBCc6MX4ejIVD29rxwy+bsIFFBWclD2YJStfDuIPSat/FyHdOmgBZ7ot8Vky9t\n",
       "KPFP5LTnW6mY3kHX4qO48MsQvGc2lbzR/QIbD1iNtrd/gPNLammqZS732JkS6bHAle1yHNkFOqZ6\n",
       "xB90O8q7Qf+r5voHGL8BdSi0iY7JN3wAAAAASUVORK5CYII=\n",
       "\" style=\"display:inline;vertical-align:middle;\" /></a></span></td></tr>\n",
       "<tr><td>&nbsp;</td><td colspan=4 style-\"text-align:left\"><a class=\"ProveItLink\" href=\"../../_proofs_/supersetEqViaEquality.ipynb\">proveit.logic.set_theory.containment.supersetEqViaEquality</a></td></tr><tr><td>2</td><td>assumption</td><td></td><td><span style=\"font-size:20px;\"><a class=\"ProveItLink\" href=\"../4fd4318f3631c89f7df42ccaba90a351d139288b0/expr.ipynb\"><img src=\"data:image/png;base64,iVBORw0KGgoAAAANSUhEUgAAAE8AAAAVBAMAAAD1D64kAAAAMFBMVEX///9ERETc3NyqqqpUVFS6\n",
       "urrMzMwyMjIQEBCIiIh2dnYiIiLu7u5mZmaYmJgAAABJJ2g3AAAAAXRSTlMAQObYZgAAAShJREFU\n",
       "KM9jYGDgu8eAH7CtUgBRPLsYCAG2ZhDJ+QHKzcZQwOf/xcWxFMi4DuJxNUCF6zGN4hBgYLgfwMCw\n",
       "Alkh3/4DGArzJwCxA5pC5fsKGArnA4XeL0BTOGF+AIZCCSDecQBVIesB+wcYCr8wMKjLMEAV8haA\n",
       "xY6CHQT0YDkIlECC5cvMuftAjPcgIgNiYwCD/gV0Azk/MTCcBvqFgR0oldIG0ezi4i+ArpAR6CrO\n",
       "fyCWONBZEQlgJwIDrQBdIT/QNL5fQAY30OcMLGB5AyAP7Kvbu0FgIyQYgeawfIa5kWsDkGACKmT/\n",
       "gC0Y9QsYkIPnOMhFf7AEI1v7AWSFiv1FDHzy39G8ffG/i0s5OHBRYgYfIE0hHxEKwemRZyfhFN4K\n",
       "SYiLickzANGZUsCfCTn+AAAAAElFTkSuQmCC\n",
       "\" style=\"display:inline;vertical-align:middle;\" /></a> <a class=\"ProveItLink\" href=\"../76101ffae609f6533ff3ca979e14ffa0e2d95da90/proof.ipynb\" style=\"text-decoration: none\">&#x22A2;&nbsp;</a><a class=\"ProveItLink\" href=\"../e37aba740d9eb156e9678bb9d0a8e3cf433a13c30/expr.ipynb\"><img src=\"data:image/png;base64,iVBORw0KGgoAAAANSUhEUgAAADsAAAAOBAMAAABjvHmeAAAAMFBMVEX///92dnYQEBBERERUVFS6\n",
       "urqIiIhmZmaqqqrc3Nzu7u6YmJgyMjIiIiLMzMwAAACFkkdwAAAAAXRSTlMAQObYZgAAAMhJREFU\n",
       "GNNjYACBtwzogNv/i4vzUSjnPIY0A5MBA0N9AETp/QUY0u8TgNgBzJxRPwFDOh8otF8AzEzID8CQ\n",
       "NgLiS2BDWRf0b8CQ/sLAMMcKzFoKtoiBoeYMCBwBi/F9SUu/DVEYwDC/AF0z208GhrVgl/G5uPgb\n",
       "oEszKwCV/AZbDfTkAXRpfqBO7o8gVgMDA68CiFF7FwQuQ7wNdCzLDyCDEyjN8wGbt+eDzFwDsukX\n",
       "Fm/z6QC9PVn/JAO3/R80pxf/d3E5AzQfAA2VOu5n+dVqAAAAAElFTkSuQmCC\n",
       "\" style=\"display:inline;vertical-align:middle;\" /></a></span></td></tr>\n",
       "</table>"
      ],
      "text/plain": [
       "<proveit._core_.proof._ShowProof at 0x7f94ebaf79b0>"
      ]
     },
     "execution_count": 1,
     "metadata": {},
     "output_type": "execute_result"
    }
   ],
   "source": [
    "import proveit\n",
    "%show_proof"
   ]
  },
  {
   "cell_type": "code",
   "execution_count": null,
   "metadata": {},
   "outputs": [],
   "source": []
  }
 ],
 "metadata": {
  "kernelspec": {
   "display_name": "Python 3",
   "language": "python",
   "name": "python3"
  }
 },
 "nbformat": 4,
 "nbformat_minor": 0
}
