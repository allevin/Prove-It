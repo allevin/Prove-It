{
 "cells": [
  {
   "cell_type": "markdown",
   "metadata": {},
   "source": [
    "Expression of type <a class=\"ProveItLink\" href=\"../../../../../../../doc/html/api/proveit.ExprTuple.html\">ExprTuple</a>\n",
    "=======================\n",
    "# from context <a class=\"ProveItLink\" href=\"../../_context_.ipynb\">proveit.logic.set_theory.containment</a>"
   ]
  },
  {
   "cell_type": "code",
   "execution_count": 1,
   "metadata": {},
   "outputs": [],
   "source": [
    "# import Expression classes needed to build the expression\n",
    "from proveit import ExprTuple\n",
    "from proveit._common_ import A, x\n",
    "from proveit.logic import InSet"
   ]
  },
  {
   "cell_type": "code",
   "execution_count": 2,
   "metadata": {},
   "outputs": [
    {
     "data": {
      "text/html": [
       "<strong id=\"expr\">expr:</strong> <a class=\"ProveItLink\" href=\"expr.ipynb\"><img src=\"data:image/png;base64,iVBORw0KGgoAAAANSUhEUgAAAEIAAAAVBAMAAAAA8SWUAAAAMFBMVEX////c3NwiIiJERESqqqqY\n",
       "mJh2dnZmZmYQEBDu7u4yMjJUVFTMzMyIiIi6uroAAAAs73DqAAAAAXRSTlMAQObYZgAAATBJREFU\n",
       "KM9jYCAM+C7gkWR9ACRO45Q+BMQ1QLwSp4r1QMzFwMCL0xJW/QlAIoGBYwKy6NxFSlowtki9AAMD\n",
       "ZwPDK2QFPEuR1F+4D3KmCUMZkBS7LXIdbJkwkgK+Cf4BQCqdYSnQpARWVQ4FkKghknnzGM6DdHkx\n",
       "9DEwsDHwfmA5AORxGiCpeMAgXwCkXjD8A0owcEOk+JqUlGAu5dm9ez9I9DxIBQMDB8TLPBuQnAEU\n",
       "XQBW0QLiyh9gALmRUwGhwoGBgakBbIspMFQE7jPwgn2xFa6AEaiC6wOQEQX0DYN/gAWDLFh80gOY\n",
       "illAzPwT7NtHDAyTr03LDYDoXH4AokC4fyEDq/0voGfWMXAIIAcqyy5EqIMBMNSBUYMPsF3AF/sw\n",
       "90jjVbER5Dp8qZD3AAMAV/NDaTQjZOcAAAAASUVORK5CYII=\n",
       "\" style=\"display:inline;vertical-align:middle;\" /></a><br>"
      ],
      "text/plain": [
       "expr: (x in A)"
      ]
     },
     "execution_count": 2,
     "metadata": {},
     "output_type": "execute_result"
    }
   ],
   "source": [
    "# build up the expression from sub-expressions\n",
    "expr = ExprTuple(InSet(x, A))"
   ]
  },
  {
   "cell_type": "code",
   "execution_count": 3,
   "metadata": {},
   "outputs": [
    {
     "name": "stdout",
     "output_type": "stream",
     "text": [
      "Passed sanity check: built 'expr' is the same as the stored Expression.\n"
     ]
    }
   ],
   "source": [
    "# check that the built expression is the same as the stored expression\n",
    "%check_expr"
   ]
  },
  {
   "cell_type": "code",
   "execution_count": 4,
   "metadata": {},
   "outputs": [
    {
     "data": {
      "text/html": [
       "<table><tr><th>&nbsp;</th><th>core type</th><th>sub-expressions</th><th>expression</th></tr>\n",
       "<tr><td>0</td><td>ExprTuple</td><td>1</td><td><a class=\"ProveItLink\" href=\"expr.ipynb\"><img src=\"data:image/png;base64,iVBORw0KGgoAAAANSUhEUgAAAEIAAAAVBAMAAAAA8SWUAAAAMFBMVEX////c3NwiIiJERESqqqqY\n",
       "mJh2dnZmZmYQEBDu7u4yMjJUVFTMzMyIiIi6uroAAAAs73DqAAAAAXRSTlMAQObYZgAAATBJREFU\n",
       "KM9jYCAM+C7gkWR9ACRO45Q+BMQ1QLwSp4r1QMzFwMCL0xJW/QlAIoGBYwKy6NxFSlowtki9AAMD\n",
       "ZwPDK2QFPEuR1F+4D3KmCUMZkBS7LXIdbJkwkgK+Cf4BQCqdYSnQpARWVQ4FkKghknnzGM6DdHkx\n",
       "9DEwsDHwfmA5AORxGiCpeMAgXwCkXjD8A0owcEOk+JqUlGAu5dm9ez9I9DxIBQMDB8TLPBuQnAEU\n",
       "XQBW0QLiyh9gALmRUwGhwoGBgakBbIspMFQE7jPwgn2xFa6AEaiC6wOQEQX0DYN/gAWDLFh80gOY\n",
       "illAzPwT7NtHDAyTr03LDYDoXH4AokC4fyEDq/0voGfWMXAIIAcqyy5EqIMBMNSBUYMPsF3AF/sw\n",
       "90jjVbER5Dp8qZD3AAMAV/NDaTQjZOcAAAAASUVORK5CYII=\n",
       "\" style=\"display:inline;vertical-align:middle;\" /></a></td></tr>\n",
       "<tr><td>1</td><td>Operation</td><td>operator:&nbsp;2<br>operands:&nbsp;3<br></td><td><a class=\"ProveItLink\" href=\"../d22ddc5a10eb975511dd53c73f90645ec65bd9fe0/expr.ipynb\"><img src=\"data:image/png;base64,iVBORw0KGgoAAAANSUhEUgAAADUAAAAPBAMAAAC2KZqIAAAAMFBMVEX///+6uroyMjJERETMzMwQ\n",
       "EBAiIiKYmJju7u5mZmaqqqpUVFSIiIh2dnbc3NwAAAAWgogoAAAAAXRSTlMAQObYZgAAAMlJREFU\n",
       "GNNjYMAB3BhwA33cUuz5DSj8HrW0JBj71fwHyFIs6khKD5wXAJJvT786eQDEfYwkxdiwvoCBgeMC\n",
       "ezprAohvh2RGI4M/UD0vA88HLgcgl8MASU6A4f0EoBADN0SQMSwtDeYWlt2794NFWQ9A+BuQrAOK\n",
       "KoAY7x0YQK7gSEDILWBgYAsAevLBeQYesAu3w6X4gHJMHxgY1heYMrwBi7QJwOSagJj5BwND89ne\n",
       "OwUQ1ZoOEKnH8XoM7PafJiAHDNcmRJiBAACh/y/lW8971AAAAABJRU5ErkJggg==\n",
       "\" style=\"display:inline;vertical-align:middle;\" /></a></td></tr>\n",
       "<tr><td>2</td><td>Literal</td><td></td><td><a class=\"ProveItLink\" href=\"../../../membership/__pv_it/088cbc857536a28d4119ad9639a84270ccb0545d0/expr.ipynb\"><img src=\"data:image/png;base64,iVBORw0KGgoAAAANSUhEUgAAAAwAAAAMBAMAAACkW0HUAAAALVBMVEX///+qqqpmZmZUVFQQEBC6\n",
       "urpERETc3NyYmJjMzMwiIiIyMjKIiIju7u4AAACYsrA9AAAAAXRSTlMAQObYZgAAADxJREFUCNdj\n",
       "YOA9vWrVBgaG2b0MQMCeCyIZ2ArA1DUwyRCyahVIyWQI7xaEYm4AU7xLIdxqTQgtvGvVBgCkcQ7e\n",
       "geM/tQAAAABJRU5ErkJggg==\n",
       "\" style=\"display:inline;vertical-align:middle;\" /></a></td></tr>\n",
       "<tr><td>3</td><td>ExprTuple</td><td>4, 5</td><td><a class=\"ProveItLink\" href=\"../06706af7e4d9309974f9792530dc1cae39ec95130/expr.ipynb\"><img src=\"data:image/png;base64,iVBORw0KGgoAAAANSUhEUgAAADEAAAAVBAMAAAAdjxsPAAAAMFBMVEX////c3NwiIiJERESqqqqY\n",
       "mJh2dnZmZmYQEBDu7u4yMjJUVFTMzMyIiIi6uroAAAAs73DqAAAAAXRSTlMAQObYZgAAARRJREFU\n",
       "KM9jYMAN+C5gEYwDEafRRXkUGBjYDwAZK9FluD4AiQUMDLwYhgX9BBJhDAwcE9AkGN0/AskZDAyv\n",
       "0LXw8v4DkswODGVASuy2yHW4oS9ZvgJJtgKGpQwMnAmsqhwKUAnOBzx/gRTLAoY+oDwD7weWAzDv\n",
       "MTB+B1ENDEBDORm4DeDWnN69+zPIUx9AMkAHIpz+gIGhCyLTAuLKH2CAOp4FiDUgppkyMLAK3Gfg\n",
       "nQCREwHi9UDMuoAhnYHBP8CCQZaB8xPIZcBQYbCfAHb1IwaGydem5QYwcPYLMDBa/BJgCP6/HBh4\n",
       "Dxg4BODRIYAUEsDQYU2AcViRwygXORaQZcD2ScN4yNHBDTKZEVts32FgAADlCTw7rUcUdAAAAABJ\n",
       "RU5ErkJggg==\n",
       "\" style=\"display:inline;vertical-align:middle;\" /></a></td></tr>\n",
       "<tr><td>4</td><td>Variable</td><td></td><td><a class=\"ProveItLink\" href=\"../../../../../__pv_it/530be409e3083890784cf1d7b28c9e67e90af9360/expr.ipynb\"><img src=\"data:image/png;base64,iVBORw0KGgoAAAANSUhEUgAAAAsAAAAJBAMAAAAWSsseAAAAKlBMVEX///9ERETMzMwQEBAiIiKY\n",
       "mJju7u5mZmaqqqpUVFSIiIh2dnbc3NwAAAA/vyDhAAAAAXRSTlMAQObYZgAAAENJREFUCNdjYDi9\n",
       "8sTyBQxsG1hdmR0YuBm4LnAoMLAxcAowgADzAjB1VoEhgYH1wFoGrgSG3gBhhlMMDImrs3cFMAAA\n",
       "t0YN+iTRa+sAAAAASUVORK5CYII=\n",
       "\" style=\"display:inline;vertical-align:middle;\" /></a></td></tr>\n",
       "<tr><td>5</td><td>Variable</td><td></td><td><a class=\"ProveItLink\" href=\"../../../../../__pv_it/2cbe72a7ad6f655694dd697106680215e8489b600/expr.ipynb\"><img src=\"data:image/png;base64,iVBORw0KGgoAAAANSUhEUgAAAA8AAAAOBAMAAAACpFvcAAAALVBMVEX///8QEBBERERUVFS6urqI\n",
       "iIhmZmaqqqrc3Nzu7u6YmJgyMjIiIiLMzMwAAADtIaYWAAAAAXRSTlMAQObYZgAAAFtJREFUCNdj\n",
       "YACBOwxQsA9Kc52bAGG05zVAGAFxDmCaZULdAjBjCsO9ADDDgaEvAUTzGhvbKYCVMDAwbgAxChgY\n",
       "eASANAeQwf0AyJgNxEwvGRia5HYwcOm9TgAA6BoR3jrzwFcAAAAASUVORK5CYII=\n",
       "\" style=\"display:inline;vertical-align:middle;\" /></a></td></tr>\n",
       "</table>\n"
      ],
      "text/plain": [
       "0. (x in A)\n",
       "   core type: ExprTuple\n",
       "   sub-expressions: 1\n",
       "1. x in A\n",
       "   core type: Operation\n",
       "   operator: 2\n",
       "   operands: 3\n",
       "2. in\n",
       "   core type: Literal\n",
       "   sub-expressions: \n",
       "3. (x , A)\n",
       "   core type: ExprTuple\n",
       "   sub-expressions: 4, 5\n",
       "4. x\n",
       "   core type: Variable\n",
       "   sub-expressions: \n",
       "5. A\n",
       "   core type: Variable\n",
       "   sub-expressions: "
      ]
     },
     "execution_count": 4,
     "metadata": {},
     "output_type": "execute_result"
    }
   ],
   "source": [
    "# display the expression information\n",
    "expr.exprInfo()"
   ]
  },
  {
   "cell_type": "code",
   "execution_count": null,
   "metadata": {},
   "outputs": [],
   "source": []
  }
 ],
 "metadata": {
  "kernelspec": {
   "display_name": "Python 3",
   "language": "python",
   "name": "python3"
  }
 },
 "nbformat": 4,
 "nbformat_minor": 0
}
