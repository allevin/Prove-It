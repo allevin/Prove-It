{
 "cells": [
  {
   "cell_type": "markdown",
   "metadata": {},
   "source": [
    "Expression of type <a class=\"ProveItLink\" href=\"../../../../../../../doc/html/api/proveit.Lambda.html\">Lambda</a>\n",
    "=======================\n",
    "# from context <a class=\"ProveItLink\" href=\"../../_context_.ipynb\">proveit.logic.set_theory.containment</a>"
   ]
  },
  {
   "cell_type": "code",
   "execution_count": 1,
   "metadata": {},
   "outputs": [],
   "source": [
    "# import Expression classes needed to build the expression\n",
    "from proveit import Lambda\n",
    "from proveit._common_ import A, B\n",
    "from proveit.logic import Forall, SubsetEq, SupersetEq"
   ]
  },
  {
   "cell_type": "code",
   "execution_count": 2,
   "metadata": {},
   "outputs": [
    {
     "data": {
      "text/html": [
       "<strong id=\"expr\">expr:</strong> <a class=\"ProveItLink\" href=\"expr.ipynb\"><img src=\"data:image/png;base64,iVBORw0KGgoAAAANSUhEUgAAAOgAAAAZCAMAAAAMuZL2AAAANlBMVEX///92dnYUFBQNDQ0QEBBE\n",
       "RERUVFS6urqIiIhmZmaqqqrc3Nzu7u6YmJgyMjIiIiLMzMwAAACuIkBbAAAAAXRSTlMAQObYZgAA\n",
       "At1JREFUWMPtmOuyoyAMgGVX7te8/8seBZSA0NZ67E5nNn86Uxuaj9ydpjeEeu/19DXCF3PJW5p+\n",
       "+jbR7D/oU1Bzf8iJiwdY3gUN/hRo+bUVt3CGbJxlAGwR6vjLqtk4GXqgDk6BErUr3uPccuxMk9lQ\n",
       "kQrnkxz5dxTXAbUezBlQTbdD6C2cYo+TACJ/Muw0MTS3oFhyANVKgj5VjLYbl+oW0HnnENkwC6VJ\n",
       "6Af9DaGY+QAqlvP4KVBLdJR7ajB3pW1na31hn9gDWzEKVQ0oN5MCi6K8UlWq116ArvJmL34mshyb\n",
       "IlY7WjiNe3BFGIXIGtTwkgq9VslMB5TFmkZTlCgKUkpGQ/nDY43ohNtRL//WlhRlQgjpbacid6RG\n",
       "Ua4GXY3SIIeghukjKGf4bm0MMDGXiDvUiBhQPMYBJWakl1OUNylqPHsJtEbhcwUa1j7FAJn294+v\n",
       "ZMYJ7NGn2C5axrN4qWgtqJE4N8Lmw4NejlfepqjA6n7cfSuUABVoOnR244Oq5N8erpB+84yP0SL9\n",
       "0KPEeIm53UCvBd2aCi6641LfoNSgaqtqQ1Cpe7PuYuseQwZWD1mUhg1oEBOtvrKqr5dDV+2mZkcy\n",
       "QHDG98tui1KFrlbH0ci3RnaHeqp3T3NYKgZDhbEFZa3btOzrZW3bdFENVaU1ToZeC21QLCpGezmh\n",
       "aDSqycxge1HFdOJSZTED0NV/ohoyNenrVX1hT9Ewt5MmZ64dAY8opb1oOkOMG0sBnDy5ps37hVCZ\n",
       "AlH1QZf8lJJWQ6bgfb1tW045Q9NE75x9vot1UPIicHkftbvlyVIOoQ8akzygp9uIfNTb7vA33mF0\n",
       "RsCLi7eOztK4rmJQnvxRGoQRKS07elM9j18SIn4ZlLg43zgcgBSNG7GvaQbLeJMGhtweenovbX8S\n",
       "9fjx2GvcJ16lXN3e3jSuqvT6G0AnffXNhQjTPwTNsy6lbPqcvAv60nvdT4I8Xm0Xc9kPRNYg56Nb\n",
       "UB4AAAAASUVORK5CYII=\n",
       "\" style=\"display:inline;vertical-align:middle;\" /></a><br>"
      ],
      "text/plain": [
       "expr: A -> [forall_{B | A supseteq B} (B subseteq A)]"
      ]
     },
     "execution_count": 2,
     "metadata": {},
     "output_type": "execute_result"
    }
   ],
   "source": [
    "# build up the expression from sub-expressions\n",
    "expr = Lambda(A, Forall([B], SubsetEq(B, A), conditions = [SupersetEq(A, B)]))"
   ]
  },
  {
   "cell_type": "code",
   "execution_count": 3,
   "metadata": {},
   "outputs": [
    {
     "name": "stdout",
     "output_type": "stream",
     "text": [
      "Passed sanity check: built 'expr' is the same as the stored Expression.\n"
     ]
    }
   ],
   "source": [
    "# check that the built expression is the same as the stored expression\n",
    "%check_expr"
   ]
  },
  {
   "cell_type": "code",
   "execution_count": 4,
   "metadata": {},
   "outputs": [
    {
     "data": {
      "text/html": [
       "<table><tr><th>&nbsp;</th><th>core type</th><th>sub-expressions</th><th>expression</th></tr>\n",
       "<tr><td>0</td><td>Lambda</td><td>parameter:&nbsp;11<br>body:&nbsp;1<br></td><td><a class=\"ProveItLink\" href=\"expr.ipynb\"><img src=\"data:image/png;base64,iVBORw0KGgoAAAANSUhEUgAAAOgAAAAZCAMAAAAMuZL2AAAANlBMVEX///92dnYUFBQNDQ0QEBBE\n",
       "RERUVFS6urqIiIhmZmaqqqrc3Nzu7u6YmJgyMjIiIiLMzMwAAACuIkBbAAAAAXRSTlMAQObYZgAA\n",
       "At1JREFUWMPtmOuyoyAMgGVX7te8/8seBZSA0NZ67E5nNn86Uxuaj9ydpjeEeu/19DXCF3PJW5p+\n",
       "+jbR7D/oU1Bzf8iJiwdY3gUN/hRo+bUVt3CGbJxlAGwR6vjLqtk4GXqgDk6BErUr3uPccuxMk9lQ\n",
       "kQrnkxz5dxTXAbUezBlQTbdD6C2cYo+TACJ/Muw0MTS3oFhyANVKgj5VjLYbl+oW0HnnENkwC6VJ\n",
       "6Af9DaGY+QAqlvP4KVBLdJR7ajB3pW1na31hn9gDWzEKVQ0oN5MCi6K8UlWq116ArvJmL34mshyb\n",
       "IlY7WjiNe3BFGIXIGtTwkgq9VslMB5TFmkZTlCgKUkpGQ/nDY43ohNtRL//WlhRlQgjpbacid6RG\n",
       "Ua4GXY3SIIeghukjKGf4bm0MMDGXiDvUiBhQPMYBJWakl1OUNylqPHsJtEbhcwUa1j7FAJn294+v\n",
       "ZMYJ7NGn2C5axrN4qWgtqJE4N8Lmw4NejlfepqjA6n7cfSuUABVoOnR244Oq5N8erpB+84yP0SL9\n",
       "0KPEeIm53UCvBd2aCi6641LfoNSgaqtqQ1Cpe7PuYuseQwZWD1mUhg1oEBOtvrKqr5dDV+2mZkcy\n",
       "QHDG98tui1KFrlbH0ci3RnaHeqp3T3NYKgZDhbEFZa3btOzrZW3bdFENVaU1ToZeC21QLCpGezmh\n",
       "aDSqycxge1HFdOJSZTED0NV/ohoyNenrVX1hT9Ewt5MmZ64dAY8opb1oOkOMG0sBnDy5ps37hVCZ\n",
       "AlH1QZf8lJJWQ6bgfb1tW045Q9NE75x9vot1UPIicHkftbvlyVIOoQ8akzygp9uIfNTb7vA33mF0\n",
       "RsCLi7eOztK4rmJQnvxRGoQRKS07elM9j18SIn4ZlLg43zgcgBSNG7GvaQbLeJMGhtweenovbX8S\n",
       "9fjx2GvcJ16lXN3e3jSuqvT6G0AnffXNhQjTPwTNsy6lbPqcvAv60nvdT4I8Xm0Xc9kPRNYg56Nb\n",
       "UB4AAAAASUVORK5CYII=\n",
       "\" style=\"display:inline;vertical-align:middle;\" /></a></td></tr>\n",
       "<tr><td>1</td><td>Operation</td><td>operator:&nbsp;2<br>operand:&nbsp;3<br></td><td><a class=\"ProveItLink\" href=\"../1dfdbb61985a71f762d174dc208981e37c67ff860/expr.ipynb\"><img src=\"data:image/png;base64,iVBORw0KGgoAAAANSUhEUgAAAKgAAAAXBAMAAABt+RknAAAAMFBMVEX///8QEBC6urrMzMxUVFRm\n",
       "ZmZERETc3NwyMjKqqqp2dnaIiIiYmJgiIiLu7u4AAAAU9Wx4AAAAAXRSTlMAQObYZgAAAnNJREFU\n",
       "OMu1VUFoE0EUfU3c3ZpstjnprUYQLx6s4E0kQRcteOiCidJDqFJJ1YPJQVpEQoOgRVCbi+DNXES8\n",
       "xXMOjeBB9NAePFmCiydBAsUUrVar/89kd6dV3C3UDzPzd9/Mm///vNkF/oe5211wKAQ3M8ASO2+i\n",
       "c8Zz1L38ZduXM39Bj1M7Czxj/0F00kGR2h5A+yyek/c7nY7PP88zgGkajAvRSVsi3HVqq8JbVutn\n",
       "vqcnsyF21urRSYdFeF9p7Xf2qhUVvDFBj1Ya5tOZmWp0zliNez0NpAT9iU1oc4ELcQX4Uiq9i06q\n",
       "NbgfysG4w3lbtU07uo/bNDwBTgJTwO5yIT8pAP9E/MR8jN/yKmTPtIptXwu+fUC2ScMj4IDc7gXw\n",
       "XGTmzVjM4GCpdNVVMLIBcdALFVhv/yTNYNahYT/VBkneNA8criik1oQMZVLBOHFBepGJBb6kSti2\n",
       "x1hHWTrJdoqjWQaKaqSJriPGjwrmk7KaFkV1x9WSUiI1SWrVjnJgPZhzKukxXYrXrAcYp8/qi/+g\n",
       "bkzosKvcK3qRSsv0McWyiK23TrkqaU6TmRlOgDHc7svUWJNVuj3icRpEOrhCzitqD3l1ogZzWCE1\n",
       "68kVObURYDzP6cv0SP9qx0a9a8qF0jekpDDAMtAdWN8U0m7h3Ia825kAYw6KQCuv2qP3tip4et8c\n",
       "zPIabXqLg+LUhuqI9RTS84j35FwFY9sbej+stOfNuqg6AWmMSsengU/XFIztdShpouk584X8Xfik\n",
       "Funt+s82iX9cxYJPn2/FTkf99Hm13WJ6SBxGLizS09snxc0QPDnyb1JKv3RpJ36Eu3aA4zdBqqBQ\n",
       "m/zSugAAAABJRU5ErkJggg==\n",
       "\" style=\"display:inline;vertical-align:middle;\" /></a></td></tr>\n",
       "<tr><td>2</td><td>Literal</td><td></td><td><a class=\"ProveItLink\" href=\"../../../../boolean/quantification/universal/__pv_it/265f8c02ac1094d56e0e6410a1c1fd3500dc9f540/expr.ipynb\"><img src=\"data:image/png;base64,iVBORw0KGgoAAAANSUhEUgAAAAwAAAAQBAMAAADQT4M0AAAAMFBMVEX///8QEBC6urrMzMxUVFRm\n",
       "ZmZERETc3NwyMjKqqqp2dnaIiIiYmJgiIiLu7u4AAAAU9Wx4AAAAAXRSTlMAQObYZgAAAFhJREFU\n",
       "CNdjeMAABhdAxGmGlSCqj6EMSLInMHAAJVknMPAsLy+vBYp8S0u7BaScGRjSgZQKA18DkOJl4D4A\n",
       "pLgP8IJM4mswARuX7gSmpoKNZWDcAKZ4gCoAgTQTILaSE58AAAAASUVORK5CYII=\n",
       "\" style=\"display:inline;vertical-align:middle;\" /></a></td></tr>\n",
       "<tr><td>3</td><td>Lambda</td><td>parameter:&nbsp;12<br>body:&nbsp;4<br>conditions:&nbsp;5<br></td><td><a class=\"ProveItLink\" href=\"../a194f4766c9837eac17d96601abc2102804932270/expr.ipynb\"><img src=\"data:image/png;base64,iVBORw0KGgoAAAANSUhEUgAAAM8AAAAVCAMAAADW+kokAAAANlBMVEX///8UFBQNDQ2qqqru7u4i\n",
       "IiJ2dnbc3NyIiIjMzMxmZmYQEBC6uroyMjJERERUVFSYmJgAAAC3B9V0AAAAAXRSTlMAQObYZgAA\n",
       "Ai5JREFUWMPNV9m2pCAMZEaQzbD8/8+OHmVJQKSn+9zbebGXFFSRhcjYt9gif3HzTb2HD1vz07p9\n",
       "jF3wMfrdHEyuqf1/ApkW59PoKT3J/VX61p27xDlewIdABeK0djWI6cOUnuy+m7wWBcWpG2Who7qe\n",
       "fkaOytnWA2rRbpiPUsTrv7BO6CnulfEgSHAbFiqexRjiOqPH5k06QCnuC1su5gIwbp/1VO74d7JF\n",
       "w8JdiwvLZ5pByZUO0A9SVu1bp7/d8qindscMcBo1LM44SXCZFU7vBe1tShBbIIfBQXC2xJD4myc9\n",
       "yJ3UFfpGWex5p5QyosKSvuLruEEoidsA9X0F8q2k+n5G8KAHuxM+GpUPYXHlHxf+Tg/3VcbabQAc\n",
       "6DlgMqawbPZBD3Yf6GlYpPxTJbp//whktkrk8rEDZOL+0josunyqYz3EHZvolU9mkdpc1aUoq7rK\n",
       "i54OkJllEJ49uDCph7jjejZt+RQWOunycbnRY+oGaZdMqQXuYe83uCX1oLl8o+5IquCofAiL1L5l\n",
       "hJus0agqXSB9vwYeHa4dZo67hNz4YdgPGveKjAHeu30yiyv/tK38cFvBt1LutD3geT0AnXdyG3fp\n",
       "xh/269Y9zzvgSUITFsad0xxAmB2uz+C9AJTORjhOMewYOIXQEbbS03O/s9fpd+adD7yqzMw7P2Vh\n",
       "fX+NVX2PHgaDMc9Ut9Y9RT73voCn0GLus3qkf3cFL9kXxYfJN9+3VdvR1Uf0/ANO4xxPjgWC7AAA\n",
       "AABJRU5ErkJggg==\n",
       "\" style=\"display:inline;vertical-align:middle;\" /></a></td></tr>\n",
       "<tr><td>4</td><td>Operation</td><td>operator:&nbsp;6<br>operands:&nbsp;7<br></td><td><a class=\"ProveItLink\" href=\"../40908107362d41a9b0054973c1b801d402a94b310/expr.ipynb\"><img src=\"data:image/png;base64,iVBORw0KGgoAAAANSUhEUgAAADsAAAARBAMAAACRPMnQAAAAMFBMVEX///+qqqru7u4iIiJ2dnbc\n",
       "3NyIiIjMzMxmZmYQEBC6uroyMjJERERUVFSYmJgAAADLUcuvAAAAAXRSTlMAQObYZgAAAOpJREFU\n",
       "KM9jYGB4+//u3dMLGDBBMYSaw8DA8QvMYttsbGwMV7kfTLJ/A+K/YJaZApJmPnswj+0rkPkFxAoO\n",
       "QDY7sB/M5ZnAwMA8CcS6hWJ1Qj7YGv4LDKx7QOYwbUCW5VKQfwCi66+lNYMZ7BeQpbUY6hNAdH4A\n",
       "A5MtpvQChvgGEH0SpASs3QBJlv3u3fsHQAyQn947gFiNyFYzMHCC3ML+D0jcFwAJKSOFHVCAeQLU\n",
       "26y/wUJMOwpgsqxAae4PUG9XboKaeBsWqNogmU/A0D7/9+7tfeixETN/KwPf+d8NDNQDzcbGyBEK\n",
       "BADsMj//Im/7mAAAAABJRU5ErkJggg==\n",
       "\" style=\"display:inline;vertical-align:middle;\" /></a></td></tr>\n",
       "<tr><td>5</td><td>ExprTuple</td><td>8</td><td><a class=\"ProveItLink\" href=\"../994fb8bc685b19f12384deeb352db03c8b60da4c0/expr.ipynb\"><img src=\"data:image/png;base64,iVBORw0KGgoAAAANSUhEUgAAAEgAAAAVBAMAAAAX07VdAAAAMFBMVEX////c3NwiIiJERESqqqqY\n",
       "mJh2dnZmZmYQEBDu7u4yMjJUVFTMzMyIiIi6uroAAAAs73DqAAAAAXRSTlMAQObYZgAAAVVJREFU\n",
       "KM9jYCAK8F3AL8/6AEichrAPYcru/7178zoGhhogeyVEaD2YFFJSUlo7AaqKw4CBof4BAxcDAy/E\n",
       "NlZ9mBTDVB0o4zxQ6vwGBtYEBg6IpEi9ANweISjzPpCOT2DgbGB4BRG4cP8BwisbILQFEGsAzTBh\n",
       "KIOIT/APQDh5AYT6zcAgZQmk0xmWgvnzwA6AgT1gkuf33euqIIYXQx9Y4AGDfAG6It6PDAyTQDa/\n",
       "YPgH1rR7934DhCIFMMncAFT4FeRLiCI+YKAsgKthgRjKDzSF9RtYUQuI78DAwNQAV/QIEirngV7h\n",
       "/gK2zhRIMgIVcX2AqTm+EhFM8iDzo4D+Y2CYBXLBT2i0aG1hgAcTT9cEcBA8YmAQ7l/IwGr/qwA1\n",
       "fov/7969Chx46xg4BAilJWC0AKOPAGC7AE8qDPCkoqRkgKII5GJpQiZtBPmfQPLlPcAAAGevVOOf\n",
       "qS0cAAAAAElFTkSuQmCC\n",
       "\" style=\"display:inline;vertical-align:middle;\" /></a></td></tr>\n",
       "<tr><td>6</td><td>Literal</td><td></td><td><a class=\"ProveItLink\" href=\"../e2e953faef156628f98c5cddef8a5f8ea43a24550/expr.ipynb\"><img src=\"data:image/png;base64,iVBORw0KGgoAAAANSUhEUgAAAA4AAAAQBAMAAADUulMJAAAAJFBMVEX///+qqqpmZmZUVFTc3Nzu\n",
       "7u7MzMy6uroiIiIyMjKIiIgAAABMlAC/AAAAAXRSTlMAQObYZgAAAD1JREFUCNdjYGBY2dHR0c7A\n",
       "kLGUAQRYWsAUA3MBhI6EUAzJaDQHlGYSgNCs7VCBSDUoo3gG2FwcgKkDBNoBPfYM6Npt1O0AAAAA\n",
       "SUVORK5CYII=\n",
       "\" style=\"display:inline;vertical-align:middle;\" /></a></td></tr>\n",
       "<tr><td>7</td><td>ExprTuple</td><td>12, 11</td><td><a class=\"ProveItLink\" href=\"../1d9a4008d5668a743cd8f9a815871ca1c5e3cf130/expr.ipynb\"><img src=\"data:image/png;base64,iVBORw0KGgoAAAANSUhEUgAAADYAAAAVBAMAAAD/UwB2AAAAMFBMVEX////c3NwiIiJERESqqqqY\n",
       "mJh2dnZmZmYQEBDu7u4yMjJUVFTMzMyIiIi6uroAAAAs73DqAAAAAXRSTlMAQObYZgAAAS5JREFU\n",
       "KM9jYMAH+C5gFWZ9ACROA3H0/927rR4gJA4BcQ0QrwRxmhkY2P8h5NYDMRcDAy/ISJ6/QPwbYZ7+\n",
       "BCCRwMABpBh4PwLZ3+ByIvUCDAycDQyvQBzmBgYGpk643IX7ILtNGMpAHP4NDIyLJ8BdPsE/AEil\n",
       "MywF8c7vvVsUANc2j+E8yBFeDH0g3n0BBk5tuNwDBvkCIPWCAexyC5A8TCPP7t37DUCGQeRAzo9P\n",
       "gFnHwMCxACzXAlL5FUjsd4DKAWmmBrCZplDvMf4CegkkxQiU4/oAZEQBXQrx3glg2M1XAHJmgQR+\n",
       "gv3wCBiS9r937wL5ZQZQv3D/QgZW+19Ah65j4BBAipiHSGxgmLEmIPEDkNhsF6BxhEUOZK80gsuL\n",
       "HPEbQW7GniZ4DzAAAJGlTQr2mfDRAAAAAElFTkSuQmCC\n",
       "\" style=\"display:inline;vertical-align:middle;\" /></a></td></tr>\n",
       "<tr><td>8</td><td>Operation</td><td>operator:&nbsp;9<br>operands:&nbsp;10<br></td><td><a class=\"ProveItLink\" href=\"../5e6face9deb8f4990d49930649fd84e604ecfa3c0/expr.ipynb\"><img src=\"data:image/png;base64,iVBORw0KGgoAAAANSUhEUgAAADsAAAARBAMAAACRPMnQAAAAMFBMVEX///92dnYQEBBERERUVFS6\n",
       "urqIiIhmZmaqqqrc3Nzu7u6YmJgyMjIiIiLMzMwAAACFkkdwAAAAAXRSTlMAQObYZgAAAO9JREFU\n",
       "KM9jYACBtwzogNv/i4vzUSjnPJice/fu3WMLoEJMBgwM9QEQpfdhggyr70EZ7xOA2AHMnFE/AW7q\n",
       "XCgzH0jvFwAzE/ID4NKsEB0MRkB8CWwo64L+DQhHHYBQXxgY5liBWUvBFsGAH5jk+5KWfhsiEMAw\n",
       "vwBdmu0nA8NasD18Li7+BgjpC2CSWQGo5DfYaqAnD8BlOSAG8QN1cn8EsRoYGHgV4NKxkCB4D3Qs\n",
       "yw8ggxMozfMBJvv8FMLb80FmrgHZ9AsaqHc8GODe5tMBGjRZ/yQDt/2fAtQYKf7v4nJmAwMVAShC\n",
       "7941QBYCAC8bRZFIybTAAAAAAElFTkSuQmCC\n",
       "\" style=\"display:inline;vertical-align:middle;\" /></a></td></tr>\n",
       "<tr><td>9</td><td>Literal</td><td></td><td><a class=\"ProveItLink\" href=\"../bc0f4f75fcd25c7f3c501d50b7b90e3eb0564d7a0/expr.ipynb\"><img src=\"data:image/png;base64,iVBORw0KGgoAAAANSUhEUgAAAA4AAAAQBAMAAADUulMJAAAAKlBMVEX///9ERERmZmaqqqpUVFS6\n",
       "urrMzMyYmJju7u6IiIgyMjIiIiLc3NwAAAAAfF0EAAAAAXRSTlMAQObYZgAAAD5JREFUCNdjOL17\n",
       "9+6VDQxg0L4NQjOcPgChWR2gAgugtBsavQFCMStA6GiIQUkrgEbs3r3LmQE3ANm7e7cAAMoAEtfi\n",
       "lGxPAAAAAElFTkSuQmCC\n",
       "\" style=\"display:inline;vertical-align:middle;\" /></a></td></tr>\n",
       "<tr><td>10</td><td>ExprTuple</td><td>11, 12</td><td><a class=\"ProveItLink\" href=\"../caee09fb4b5c95b986a9cee46a014afbad9bdc680/expr.ipynb\"><img src=\"data:image/png;base64,iVBORw0KGgoAAAANSUhEUgAAADUAAAAVBAMAAAAUZLt1AAAAMFBMVEX////c3NwiIiJERESqqqqY\n",
       "mJh2dnZmZmYQEBDu7u4yMjJUVFTMzMyIiIi6uroAAAAs73DqAAAAAXRSTlMAQObYZgAAATZJREFU\n",
       "KM9jYMAH+C5gFY4DEach7EMwQdb9v3dvXsfAfgDIXgkRWg/XwWHAwFD/gGEBAwMvxEhW/QkwufNA\n",
       "kfMbGMKAqiBiIvUCMLn7QFZ8AsMMBoZXEIEL9x/A5CyAWGMCA7MDQxnEsRP8A2ByvxkYpCwZGNgK\n",
       "GJaC+fPAtoABz++711WBNMsChj6wwAMG+QKoHO9HBoZJG4BGNTD8A6vdvXu/AVSOuQEo/xUo9gEi\n",
       "xwd07wKoHD9QD+s3sFwLiO/AwMDUAPMe0FHcX8BmmgK5jEA5rg8MDBNg3pMHGsK6gCEdyJ0FsuYn\n",
       "A+cnqPd4uiaA/fCIgUG4fyEDq/2vAs5+oJbi/7t3rwL5lesBA4cAUnQhsUFhxpqA4LIiR2AuIo7Q\n",
       "5ThBfpJG8JFTADfIfEbsaeIOAwMABOxNRsfkiy0AAAAASUVORK5CYII=\n",
       "\" style=\"display:inline;vertical-align:middle;\" /></a></td></tr>\n",
       "<tr><td>11</td><td>Variable</td><td></td><td><a class=\"ProveItLink\" href=\"../../../../../__pv_it/2cbe72a7ad6f655694dd697106680215e8489b600/expr.ipynb\"><img src=\"data:image/png;base64,iVBORw0KGgoAAAANSUhEUgAAAA8AAAAOBAMAAAACpFvcAAAALVBMVEX///8QEBBERERUVFS6urqI\n",
       "iIhmZmaqqqrc3Nzu7u6YmJgyMjIiIiLMzMwAAADtIaYWAAAAAXRSTlMAQObYZgAAAFtJREFUCNdj\n",
       "YACBOwxQsA9Kc52bAGG05zVAGAFxDmCaZULdAjBjCsO9ADDDgaEvAUTzGhvbKYCVMDAwbgAxChgY\n",
       "eASANAeQwf0AyJgNxEwvGRia5HYwcOm9TgAA6BoR3jrzwFcAAAAASUVORK5CYII=\n",
       "\" style=\"display:inline;vertical-align:middle;\" /></a></td></tr>\n",
       "<tr><td>12</td><td>Variable</td><td></td><td><a class=\"ProveItLink\" href=\"../../../../../__pv_it/077b2ff79244fb4582cbe22c6e3356fa92a52f2f0/expr.ipynb\"><img src=\"data:image/png;base64,iVBORw0KGgoAAAANSUhEUgAAABAAAAAOBAMAAADUAYG5AAAAMFBMVEX///+qqqru7u4iIiJ2dnbc\n",
       "3NyIiIjMzMxmZmYQEBC6uroyMjJERERUVFSYmJgAAADLUcuvAAAAAXRSTlMAQObYZgAAAGpJREFU\n",
       "CNdjYGB4+//u3dMLGIBgDgMDxy8gzf4NiP8CGWxfGRj4vgAZPBMYGJgnARn8FxhY9ygAGfXX0pof\n",
       "gDTlBzAw2YIYJ0EckBBI53sHoBH/gIz7AhBjWH9DjancBLTl/N+7t/cxMAAA3u4f/5xagjYAAAAA\n",
       "SUVORK5CYII=\n",
       "\" style=\"display:inline;vertical-align:middle;\" /></a></td></tr>\n",
       "</table>\n"
      ],
      "text/plain": [
       "0. A -> [forall_{B | A supseteq B} (B subseteq A)]\n",
       "   core type: Lambda\n",
       "   parameter: 11\n",
       "   body: 1\n",
       "1. forall_{B | A supseteq B} (B subseteq A)\n",
       "   core type: Operation\n",
       "   operator: 2\n",
       "   operand: 3\n",
       "2. forall\n",
       "   core type: Literal\n",
       "   sub-expressions: \n",
       "3. B -> (B subseteq A) | A supseteq B\n",
       "   core type: Lambda\n",
       "   parameter: 12\n",
       "   body: 4\n",
       "   conditions: 5\\n4. B subseteq A\n",
       "   core type: Operation\n",
       "   operator: 6\n",
       "   operands: 7\n",
       "5. (A supseteq B)\n",
       "   core type: ExprTuple\n",
       "   sub-expressions: 8\n",
       "6. subseteq\n",
       "   core type: Literal\n",
       "   sub-expressions: \n",
       "7. (B , A)\n",
       "   core type: ExprTuple\n",
       "   sub-expressions: 12, 11\n",
       "8. A supseteq B\n",
       "   core type: Operation\n",
       "   operator: 9\n",
       "   operands: 10\n",
       "9. supseteq\n",
       "   core type: Literal\n",
       "   sub-expressions: \n",
       "10. (A , B)\n",
       "    core type: ExprTuple\n",
       "    sub-expressions: 11, 12\n",
       "11. A\n",
       "    core type: Variable\n",
       "    sub-expressions: \n",
       "12. B\n",
       "    core type: Variable\n",
       "    sub-expressions: "
      ]
     },
     "execution_count": 4,
     "metadata": {},
     "output_type": "execute_result"
    }
   ],
   "source": [
    "# display the expression information\n",
    "expr.exprInfo()"
   ]
  },
  {
   "cell_type": "code",
   "execution_count": null,
   "metadata": {},
   "outputs": [],
   "source": []
  }
 ],
 "metadata": {
  "kernelspec": {
   "display_name": "Python 3",
   "language": "python",
   "name": "python3"
  }
 },
 "nbformat": 4,
 "nbformat_minor": 0
}
