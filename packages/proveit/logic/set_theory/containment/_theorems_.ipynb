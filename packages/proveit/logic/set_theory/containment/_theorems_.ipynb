{
 "cells": [
  {
   "cell_type": "markdown",
   "metadata": {},
   "source": [
    "Theorems for context <a href=\"_context_.ipynb\" class=\"ProveItLink\">proveit.logic.set_theory.containment</a>\n",
    "========"
   ]
  },
  {
   "cell_type": "code",
   "execution_count": 1,
   "metadata": {},
   "outputs": [
    {
     "name": "stdout",
     "output_type": "stream",
     "text": [
      "Defining theorems for context 'proveit.logic.set_theory.containment'\n",
      "Subsequent end-of-cell assignments will define theorems\n",
      "'%end theorems' will finalize the definitions\n"
     ]
    }
   ],
   "source": [
    "from proveit.logic import Forall, Implies, InSet, Equals, Not\n",
    "from proveit.logic import SubsetEq, SupersetEq, Subset, Superset, NotSubsetEq, NotSupersetEq\n",
    "from proveit._common_ import A, B, C, x\n",
    "%begin theorems"
   ]
  },
  {
   "cell_type": "code",
   "execution_count": 2,
   "metadata": {},
   "outputs": [
    {
     "data": {
      "text/html": [
       "<strong id=\"unfoldSubsetEq\"><a class=\"ProveItLink\" href=\"_proofs_/unfoldSubsetEq.ipynb\">unfoldSubsetEq</a>:</strong> <a class=\"ProveItLink\" href=\"__pv_it/f3810bf13a0bf2b98d4f2066fd8a1a74e979a3380/expr.ipynb\"><img src=\"data:image/png;base64,iVBORw0KGgoAAAANSUhEUgAAAPcAAAAXBAMAAAAl5sTiAAAAMFBMVEX///8QEBC6urrMzMxUVFRm\n",
       "ZmZERETc3NwyMjKqqqp2dnaIiIiYmJgiIiLu7u4AAAAU9Wx4AAAAAXRSTlMAQObYZgAAA5BJREFU\n",
       "SMfFlV1IVEEUx//u19Xdu9d9KiKSDXozcIOgIMglRYUgF3KTKMmKroGV+2BuENY+JUHaQtlLPfhU\n",
       "liBGPlRG3qKojEoiI6qNDUqksMTPSrNm5s7dO1p3q4XqwO7OzDlzfjNnzjkL/E9JZrjP82xteoP8\n",
       "dMqbgNzsRz8d3/9zuNvvpT9yl4XeHvzp8q1vxcW7/XAGqAecp0stmcDdcfKTbRU5K8UCwDkKxBi8\n",
       "gSxI1ZnA2a4GK32PRUCmyWcc6GNwekJnPBM4i9dmK32eOFEuJxIxPVWmyFN9AV4zD/K5aLQRGcH7\n",
       "otFov4XaFhNnqx8aI5cP8JKDueLUAyZV9Xlm8FxV3dtmoXYShdRRenoLnUj7Uuu5QUhHSLDdIQYv\n",
       "AmrYehP7PjURLgmws6dSJ2KMcurCFTtNuCMAV2RemhnzbA14hwfaEnZd06pwfU+VRl3FGHwZFBYi\n",
       "eZRpZR88PrbDsH9EjParqkrOewO4aMJtQQzNuzC1ZZJFBm3oxQk6GTQNeiNQntCr+RjcCw89Ct7O\n",
       "6PEKwjYlwpVtGmx6bFABFERScNIjrhlO34e3clseXj/tXyX6ZGkiYSTcdnoAYmQfYR48mpeVZOcA\n",
       "03q74OwX4e7hUOroL4Aq8+YE/crodzsOfeC2JhxYrE9Wmjcfp+FpS8GVGNPZu1Sm/RjA3YgIX+Oq\n",
       "xhUehDHITQJ8iLYxd3d+EW6btjzstHqlMSh0MmyWOQ1veTwVdtSso8sOfqeCnm49Nw14kARiA6+f\n",
       "6Z6SpAB31ZOvTkf1IsRMW15SJLR3PCO4znxrqX8E8qLSJ5paesKhlW24R7KDSjtJq6QAl+PERSUH\n",
       "xiDnCfAcel4/SWx7m2nL1SHkzLh8Emv9ymOxzFe0IFVqyKIGykC4jjF3kcjHBfhweNMszvCtISif\n",
       "Bbj+prkR2J+qai235UHqh1LbeYEn5IGNvPrrxovLjrFS9OseZAp1RlDIyps4LwgI8ErYx4zyzY3D\n",
       "NibCWeNagYASNG25LJxTgiebE3NaHm+vXJYT15rUBGkW0oDw5jbyXDOQ9rCoHE6iMSTCaQqNtJOC\n",
       "LjVtufSlb5AdAvzNJKTylyQX2yfCZXETrpRXo/6rBrmENBn38XDFUcyDK7WtV5MY9Ju26f9S+a6Y\n",
       "eHOeXcLY9cveLspZ+uaiSMF0ux2RH+Grfh/uSQTSGxxMp7xEHcyDaxbwBlXv7f9MHH8f8R1lnvLW\n",
       "MpT1wwAAAABJRU5ErkJggg==\n",
       "\" style=\"display:inline;vertical-align:middle;\" /></a><br>"
      ],
      "text/plain": [
       "unfoldSubsetEq: forall_{A, B | A subseteq B} [forall_{x in A} (x in B)]"
      ]
     },
     "execution_count": 2,
     "metadata": {},
     "output_type": "execute_result"
    }
   ],
   "source": [
    "unfoldSubsetEq = Forall((A, B), Forall(x, InSet(x, B), A), conditions=SubsetEq(A, B))"
   ]
  },
  {
   "cell_type": "code",
   "execution_count": 3,
   "metadata": {},
   "outputs": [
    {
     "data": {
      "text/html": [
       "<strong id=\"foldSubsetEq\"><a class=\"ProveItLink\" href=\"_proofs_/foldSubsetEq.ipynb\">foldSubsetEq</a>:</strong> <a class=\"ProveItLink\" href=\"__pv_it/3906c67533c5cfa9e02db4d7179366413696a2c50/expr.ipynb\"><img src=\"data:image/png;base64,iVBORw0KGgoAAAANSUhEUgAAAToAAAAWBAMAAACidU2WAAAAMFBMVEX///8QEBC6urrMzMxUVFRm\n",
       "ZmZERETc3NwyMjKqqqp2dnaIiIiYmJgiIiLu7u4AAAAU9Wx4AAAAAXRSTlMAQObYZgAABEVJREFU\n",
       "SMfNV19oW2UU/zU3yW1yb2/z5kQcd7C3istg4GBogwutby2MTETHOsEMKc48jGUy1DiQ+VINuMrA\n",
       "l7yo1UIJOEHscFFQZ2UuK9TJWDSCjuCoFtfWf7XzfP9y/+TeO/a2AyffPfc7v/Od75zvnO8GuKup\n",
       "HTU5BOP7R6LxQ1GTnwPmlH2nKCLTFtxkwjfBOloOaXuAa9cRqhJofWw1P3ISiSzIQihKa4YBsQ+c\n",
       "32fvXg9eur9NttNV8RSqEkh9E8BBG5Vg7ySqf0XKH7darUUPsJ9NA8do0CeCl5hntvnksbAUzIe8\n",
       "H6ZgD+ew4PHO8qEuborx4U97gGYNjNk2EtXgJbZy2yywT4R5t9UtWBSDing8XwIu1fCTx7tuoAVK\n",
       "n/5TjFdcNiTQyoCx+V65/GLwyjGRl4VyudxEuIpDu7/tPh4ivtxGsur2LpbzoAzjDz7G3bmXQDwL\n",
       "zuvF4tXgpRM17t1gsfhcDeEq+uzo20/yGBxxJlaB4ySmxz3nbtZBET2Y2uBjx21RAvGO4L3AYf7+\n",
       "FP99a60wkpWJaHDv4lkkS75TrWSm8isuNu5ngktLW53/6BqNqYr07kCL0Y/jXRQlztb+5eIudzVL\n",
       "IM4I3g6LB9oUYTYzMDKyfGzuHeWj4wvZJRUPplLDebzJhOuOgkEnapnyGMt4a/aMrVA0B32txzsF\n",
       "xDbBAzD4Vn4RYU7kEBOHFYPCO2qJ5xT4RuEptuuDDTgqbYwIYRsLjzhSSdqgQQa1Fa931iu2RJFT\n",
       "+fw6fzngUlBADAs2GgO8lOaWhGodiabXu3P4Qe3s6Zd+oyG9PO7yDrgP/hgM0vbNf3q92z3noOhn\n",
       "iwhItReovLMq3KpWL/Lp37O4IM9PX1V412GtPX12aC++EBN7kqpBMhXoN0UnW3Z1LQpu/G9XZsW5\n",
       "ax1xUClWnCKgi71AlVkcfpSXNQ7w6R3zZ1XpJUVVIHmUfubiE/dC9o+cii5X+cpYAW+n8Yana71M\n",
       "2mbFE7vTDgovEL8h5M6+HiAuSJ7mS31NZ5vRDPCZbJrUDrjtFPPbpkLTRCcwq4a6gkgltZHM6HVf\n",
       "DKhraVva/o6iVxzDvBSflyttn1I3mQKqjoI+ZtpaKgjVZyi58hzEmrLT83M1WIL2XbE4SRks7N9E\n",
       "V8WanPtAVs1xFYP9t/L511iA+m23d6rlEEo/9FcJX9561dcMukCclGwyrxIlDPM2RznfIfsd7pHe\n",
       "8StgJ7KW6PWPQ7sJR8VFp6dansvDd5NpwaggkjeZpAcoOA39FPRN6EvqpesO11ZmqLGN8p3T3jZc\n",
       "KlE0G/yNsnBb79J1wZx+Xoc+dk3bwMxa4bGq5wtK7mVy+pM2rpNkjU3g6H+N23xBSVT0F5S6Dnk5\n",
       "L3o0Ov4bjiXZK+o5v+132bnzqURQvBTsXTSK0ahkNz3kk0/AaGWjzZyImvyQGnjLvlMUa/tZwR5q\n",
       "3GV/ev4H9PU9haV18voAAAAASUVORK5CYII=\n",
       "\" style=\"display:inline;vertical-align:middle;\" /></a><br>"
      ],
      "text/plain": [
       "foldSubsetEq: forall_{A, B} ([forall_{x in A} (x in B)] => (A subseteq B))"
      ]
     },
     "execution_count": 3,
     "metadata": {},
     "output_type": "execute_result"
    }
   ],
   "source": [
    "foldSubsetEq = Forall((A, B), Implies(Forall(x, InSet(x, B), A), SubsetEq(A, B)))"
   ]
  },
  {
   "cell_type": "code",
   "execution_count": 4,
   "metadata": {},
   "outputs": [
    {
     "data": {
      "text/html": [
       "<strong id=\"unfoldSupsetEq\"><a class=\"ProveItLink\" href=\"_proofs_/unfoldSupsetEq.ipynb\">unfoldSupsetEq</a>:</strong> <a class=\"ProveItLink\" href=\"__pv_it/891ae74f94ef6cb662c01bd11d4da4d56fa5377c0/expr.ipynb\"><img src=\"data:image/png;base64,iVBORw0KGgoAAAANSUhEUgAAAPYAAAAXCAMAAAAP1ELdAAAAM1BMVEX///+/v78QEBC6urrMzMxU\n",
       "VFRmZmZERETc3NwyMjKqqqp2dnaIiIiYmJgiIiLu7u4AAAB/uxFxAAAAAXRSTlMAQObYZgAAAxZJ\n",
       "REFUWMPlWEl25CAMpc0kZu5/2jAYEDbUS8ovtUiziUP0LX3NDiH/5wmfVmi9+vfoBdS+CXS0/lCe\n",
       "Ej9u7Udom4c6Gf855FQoWDfB6PZHFT5F+5HOdyCxPXQTQJ5X/eH3aT/RaX+eH87H01XONBO694T+\n",
       "GO0nOo99sINVPh11uQYtIpwSRzfBGSjHk8/Rfl8nVfsKVm7pEktspOez1M0EEmU+3nyQ9vs6xQkB\n",
       "YzloK0bKg1znAQ1ER9eUi24CL/1NAmoB6FnLKITgkqEX3VoG3LUtcIj2Xec34aoSCCaXrCPHyJfN\n",
       "y0JSx2LzjlbdBJonQkDJ4yIm5ko92GPcXPtQlaclgNKELQ7Rvum896E1/Kim5Zjb1J91d0vYdMcs\n",
       "D1G0345uQhmj1g3/iOhwWpU5SSPsaM/yrAXojkO0rzp7U0ohdq/gZ0Syb/lkBz38edQ85fOJTZTF\n",
       "YUJW70dhmOAFAvqSIMJvo32RbzG84zDti86z+UgKIYRXcJSIh/3GFlPFD7WgnQxFIGaJRMRCZGWh\n",
       "gx3ti3yS1Rscpo10puZEbS52J16qrQT6yIMi0T0XllPhlPbHIslTN+DDiXz2MY3WWj51yZk2v8YE\n",
       "xAaHaQ+dqRmkdM10cHbu4LKWgINS2sQOAe7urEFf1jSnkAka2Z1jZSOyUtUGEza0r/J5tmxwE+2u\n",
       "k7b2zPA428HrBMoTSabAAcrz4G8TpvdM2dY0NMCmMkl1KkSXyghRc06vad/kkxPoBjfRxqVZ+xbz\n",
       "dRbYV3Dqa9u2Jhgz90RQYhp3II9YisTJGFUtIEWxCWO9EVAKf+CrYopuJto3+bZnL3Az7aGTpbgl\n",
       "sYCb0hZ+7Gc90VwtllMcpGMyYTiz+i9PJCieghJImHq1XMq3EVTrcYUjK52pt+aEzgnOB6M93D3Z\n",
       "Jo1dmRDqgAMe0wLEMhejyrKkplyTS/m6rpwfF0vcknbKVy1sWXKCpL2yt/An38dBkXW0Z8du7p99\n",
       "ob7SaXpt7w/wt1W3dHpJm8Gv0Lbes0cvgHf/C2RZM4C+EewN7XMnl5KTv3n+AK8vOCMgvhKvecEA\n",
       "AAAASUVORK5CYII=\n",
       "\" style=\"display:inline;vertical-align:middle;\" /></a><br>"
      ],
      "text/plain": [
       "unfoldSupsetEq: forall_{A, B | A supseteq B} [forall_{x in B} (x in A)]"
      ]
     },
     "execution_count": 4,
     "metadata": {},
     "output_type": "execute_result"
    }
   ],
   "source": [
    "unfoldSupsetEq = Forall((A, B), Forall(x, InSet(x, A), B), conditions=SupersetEq(A, B))"
   ]
  },
  {
   "cell_type": "code",
   "execution_count": 5,
   "metadata": {},
   "outputs": [
    {
     "data": {
      "text/html": [
       "<strong id=\"foldSupsetEq\"><a class=\"ProveItLink\" href=\"_proofs_/foldSupsetEq.ipynb\">foldSupsetEq</a>:</strong> <a class=\"ProveItLink\" href=\"__pv_it/4f09e9b8f26155df003eb6c5f88a0f7c83c10cd40/expr.ipynb\"><img src=\"data:image/png;base64,iVBORw0KGgoAAAANSUhEUgAAATkAAAAWCAMAAACMshuUAAAAM1BMVEX///+/v78QEBC6urrMzMxU\n",
       "VFRmZmZERETc3NwyMjKqqqp2dnaIiIiYmJgiIiLu7u4AAAB/uxFxAAAAAXRSTlMAQObYZgAAA/FJ\n",
       "REFUWMPtWNe25CgM9Jic+f+vXaIRwbHPPO3w0PTta6qEkErC2/ZvfBzu+1Kkw4e24s9PBiSUT8Og\n",
       "9Cks+utUkLDOtv3+EheT+KnQDxAHyss1hZHirZjwgQrbR84i3pMwmECNMM9K1ofEy/DLzwezv0N8\n",
       "W7IJX7+88lxPdYDEwW0eQk/m7Cw7y6ODMM+c1cXsnflaV7M/QzSUd0ljfdmfUeeec9dUDaRbZCwe\n",
       "AtXrMpODsMz1JKh8Z//ujgP/CtFQllvXIoXB+DuX1PPyyH7uuSmYOyoAMqDb/mddHjNeHYRlNoqn\n",
       "Yd9tGZUdRbM/QgCUlSoJs/aqDrupvmLy1HOIXFFBkMt1rPjKZsczCYg9i8Oqd3umqnnuIwRA4UoT\n",
       "LjVtCcXZSTQit0lvyh+Knuuc0kuqGWQM1u6vlKQbF8WcRFhnkjKbgSAV4LtknlJKGB7xDfDcDDGM\n",
       "GxSnovCYbW9RewbmUNOegCt6z1ELhqcrg2eQYRDcyRzRWlNrIGGdU3g64GnTxbFJ4ar3UTUQ8NwE\n",
       "Mav6JYpKghLsOYx2Z8UmLuCHT9B+VVulQLPBM8iV54rMOUsA4THHg9btRBzt4pimNWjUUw89N0Ic\n",
       "Gh8CzTxAiZlAOl+hvUaOGHqyODw7QuKyK3Gi+QuEwwAyDLuSOV18gj0gTlu2TVWUs/A0rM5psF15\n",
       "boAobAxx59wTlBgT+kmDnJ/fxSPPYaHcimoAGQKVzjJXS+vouZBmwFCsNwZOw3mcrjij7OwSeg5A\n",
       "BK1HOka8oc9RYvJg2IS5dZ2WtdCdZGunc7YrMo1qBOmPpgsAXNOPeLnI1qDGpJGTPjSQDwpJ5kLH\n",
       "YIUAEOGUQ95FM+GR3qAYnmRuAx08WVU+Lof+34jzmJNkafAMAj1F+zawdnPcC0DYZglcZWQW6yN3\n",
       "RRb4cdNHeUY9BKpVDMMu4BolNghRUDhIWLe4xx81iNX+/6Ir4WJt8AzSbl+CDL18kTm8C7fNXUmn\n",
       "MUHjKIWYjOZsk1NUd56DMpXPCdvU5DF9j+KYVk6pvsRwQfsehrPdp3Q3zHuRLU/Fc+25sa3JVCuQ\n",
       "826T5eu+aB1NrdZ1bt065Sm7m815s8jj6d7EO881CBzOKTztYLLcoZykm1jdvmAQXty+XlE9fie3\n",
       "9zM4mOzcqIs8HQ1P4cftfDrl8juYHWpOzMz4P9IsvUX5OPI14eG7kt+o+nvJcD8JYZJ6HE586JlT\n",
       "WVEi9f5CXr1l6iCYllSnZsAxdKjcHcrHCPjlLdNwzwcV+ZbwuumPh3T9b07uzFaHzt2hfBuEv/Lc\n",
       "L1QdIUynpVDc6QLPb9Mt/ska/vkVt07EwQD016kgYZs/htz/ffwHy0Mqk242/rAAAAAASUVORK5C\n",
       "YII=\n",
       "\" style=\"display:inline;vertical-align:middle;\" /></a><br>"
      ],
      "text/plain": [
       "foldSupsetEq: forall_{A, B} ([forall_{x in B} (x in A)] => (A supseteq B))"
      ]
     },
     "execution_count": 5,
     "metadata": {},
     "output_type": "execute_result"
    }
   ],
   "source": [
    "foldSupsetEq = Forall((A, B), Implies(Forall(x, InSet(x, A), B), SupersetEq(A, B)))"
   ]
  },
  {
   "cell_type": "code",
   "execution_count": 6,
   "metadata": {},
   "outputs": [
    {
     "data": {
      "text/html": [
       "<strong id=\"unfoldNotSubsetEq\"><a class=\"ProveItLink\" href=\"_proofs_/unfoldNotSubsetEq.ipynb\">unfoldNotSubsetEq</a>:</strong> <a class=\"ProveItLink\" href=\"__pv_it/f6ae68cc9067edbfd52ff650cf88076360f2fb650/expr.ipynb\"><img src=\"data:image/png;base64,iVBORw0KGgoAAAANSUhEUgAAANcAAAAbBAMAAAAdeQdJAAAAMFBMVEX///8QEBC6urrMzMxUVFRm\n",
       "ZmZERETc3NwyMjKqqqp2dnaIiIiYmJgiIiLu7u4AAAAU9Wx4AAAAAXRSTlMAQObYZgAAA0VJREFU\n",
       "SMe9VV1IU2EYfnbmdtzO2Rxd9HMju+gi6McFQlAXjhoiBLkLlxRIk2h2IbkLUyKk3agElbuxqwgp\n",
       "IiMIo25iF66IKCMyyJtssKCgG0n8L037vu89c++QsRbmC8/5/t/n/b735wBbKdl/PKeNsMHeEptf\n",
       "WBiXg7flk9Wyvj1IzfiGXS/XQqHzfjgCUHgg526UT8aPVNLzVE7T0LieyWT81N8uWGaABBS6RKNH\n",
       "y+Yy+CumqHm3SheczLvGviwwB4xBQVrlSJZNZuO+rlZffXBRtT1xZpOYMn8BX6Bg3u/u7in/Fffw\n",
       "WEmQYmNGtUfZktMHeIQtziRhIRb7VD7ZadZ3DKnmgGtFNt4EW6oKQu8Tj+AOE44BbX+j/nbB6BqP\n",
       "j7Qi8UsHrYcmSd3xVItcdSUIuwttKSqFm7aJC2WkiFvZVORp0Oc3kI3G4f0oF30EDwxlGfrV9+Z8\n",
       "pD5Ah3OGx3NJ7OqINJ2lyRmWYlWKrDYUWlBTPNtaJaFQb58mGGmPiiyTzps+GD7l29yB90LXxVhr\n",
       "TOx6DjwuRiY+O9XUKUY2J88P5cm8CSoG31bI20Foi5zMeyYNrQ2dst8E1FBg72JkNpk5LoEPamrK\n",
       "n08zqbMxmX9GtFGsPppQjWcEjnFO5p4K4ztwR/YngRaabWdkTumGSwIDZF1vgKeZviTfK0HAoNJt\n",
       "H4mp9R8BvI5zsiPOKJ5RfHhnYZJncS+nL0AxrYKsgzJda8iVK5lmB2Vhy4U+bKryVFg216SeXgAn\n",
       "C4qLnoBLbtKWU/VW5djPk3oceutSHK/WegsD2NExF2pQSVLpJ8BU599gVG0YFmGQZWRm0phGM5xy\n",
       "zp2AWW2VK1aTsKNk3ljlKhcGExF6hHPiJZOMbCpychW3KD6cYXh/WjYMMVVjJckeWrBuHEed8qtQ\n",
       "VhNgZM2wz8IZv6uKTxLabPFfjCUtKtn9fEp6lJWOfUJVWu+Hvgp9gvlME5G2Ar1d7bySRU/YOtDJ\n",
       "dOnBEheriBNIvi5Ab/ws0mJ4PtKQzJN5G6Po/J2Goy8Wy7oHIk1X1wn4D+1yCbInFgrE5H8HFBts\n",
       "khwqpv/wfyBLFyHrEj+9WBb/Typ4NEWxdWL4t5DMvjlq/gC9Fd1NJFwlPAAAAABJRU5ErkJggg==\n",
       "\" style=\"display:inline;vertical-align:middle;\" /></a><br>"
      ],
      "text/plain": [
       "unfoldNotSubsetEq: forall_{A, B | A nsubseteq B} [not](A subseteq B)"
      ]
     },
     "execution_count": 6,
     "metadata": {},
     "output_type": "execute_result"
    }
   ],
   "source": [
    "unfoldNotSubsetEq = Forall((A, B), Not(SubsetEq(A, B)), conditions=[NotSubsetEq(A, B)])"
   ]
  },
  {
   "cell_type": "code",
   "execution_count": 7,
   "metadata": {},
   "outputs": [
    {
     "data": {
      "text/html": [
       "<strong id=\"foldNotSubsetEq\"><a class=\"ProveItLink\" href=\"_proofs_/foldNotSubsetEq.ipynb\">foldNotSubsetEq</a>:</strong> <a class=\"ProveItLink\" href=\"__pv_it/f6025974729349439c7f86b49b82d3c8da80ffb30/expr.ipynb\"><img src=\"data:image/png;base64,iVBORw0KGgoAAAANSUhEUgAAANEAAAAYBAMAAACW8wWgAAAAMFBMVEX///8QEBC6urrMzMxUVFRm\n",
       "ZmZERETc3NwyMjKqqqp2dnaIiIiYmJgiIiLu7u4AAAAU9Wx4AAAAAXRSTlMAQObYZgAAA11JREFU\n",
       "SMe9VV1IU1Ec/+1u826716tv+VLsoXop2h6koghHrdFTDnH6FE6k+RJ5odIixBGE9VDuxV7qwacy\n",
       "AllUkCxyFUQfhFOQoFxNKPFFkvzKNO183Hvd7rakVv3h3nPO/5zz//2/D/CPSMD/ovI8TuavyN2R\n",
       "x3mVs3pKvhSdvC4RyOrjQ2qddZUPcu2cP3ABdi9wO4v9x+TgnnHMaOuH6ZHNo3xqCQNNbkSBdrIS\n",
       "wyUiJfjwZpWPBx7D5tW2auLk81FnUnXssRKRtrC/2LvIx7fAlL41pALDfZggjrzV0dFZakZH2SBJ\n",
       "X9locwOP9L1m8o1kUEaMWYhE3m0o61QhpuEJex8bdjlX2DilJxqlOeDsScAVBA4BrYzXzf7X5kMB\n",
       "r7n0RCbKoeprZ1uovgX7jIRI0r/iti6zZTU50Kdn5VziwTi9QczeCoUZL3PT5UpIlXRSloXE58PE\n",
       "K2cikQiJ7BPgLlxubdvi5qqJ8zqSoZREQjdNakCopMUsMZU+c9PtPgiLZqTrTOemJARuPuoBj8o1\n",
       "JFTBkKr9/gW9Pew2dCQIEpFsJQUgJctZNQyM8WNx2FNmJCbfNR3EpMZ4Dxxjjs9CIr8qrmwSdfrN\n",
       "CmKP/J0jKdFq5tB4hG198eKFakZi7txfFsYgXyuzkLuNMoKF5oaTJhnfHVWMhKgh/rItce+h9SBL\n",
       "TaokIU/i/kmYkKzMTT5i61EtrZcTgQwNseYi6v5z5Ovh66nD8exy6iLXZSqilynwEkNsq5+EO7OO\n",
       "dJNkQFSgbU2OSTNo5PddUcikWvdq4mgKs6C1af3acyWdHtXLyVqV4UdgoQooYyF+7DhxYCzXprCT\n",
       "Ik2HGlZxQzMiCGVpHUlIQWz+puL52kXO2KZfbVjz+y9Rix00lDJFsKuoYWVEBHi8JiSB9sVGWGf1\n",
       "7K2IQZgFtusnNplquiWvyieM2U5yPSl2Q1yFOGaKU5gGWCCarUA8wQzvyqAzmPUG5T5GEKN5SHf0\n",
       "yacFiLXj1hX0z4eOxExIXnyAUhvG6R9JyAFSua6eUP1lslFnejX05vQxndbjpJFixpbz+gKnwcLd\n",
       "0Lgu+jZ42W2qibGnCNJkQSCnkcs4/4uXndI9MyNZBMmpb7RHeN/jihbr/L/5hOfIeVboxECxq2oh\n",
       "5k9t/tj/zLYlMwAAAABJRU5ErkJggg==\n",
       "\" style=\"display:inline;vertical-align:middle;\" /></a><br>"
      ],
      "text/plain": [
       "foldNotSubsetEq: forall_{A, B | [not](A subseteq B)} (A nsubseteq B)"
      ]
     },
     "execution_count": 7,
     "metadata": {},
     "output_type": "execute_result"
    }
   ],
   "source": [
    "foldNotSubsetEq = Forall((A, B), NotSubsetEq(A, B), conditions=[Not(SubsetEq(A, B))])"
   ]
  },
  {
   "cell_type": "code",
   "execution_count": 8,
   "metadata": {},
   "outputs": [
    {
     "data": {
      "text/html": [
       "<strong id=\"unfoldNotSupsetEq\"><a class=\"ProveItLink\" href=\"_proofs_/unfoldNotSupsetEq.ipynb\">unfoldNotSupsetEq</a>:</strong> <a class=\"ProveItLink\" href=\"__pv_it/3f98800ad1b053419a309a1da18a1555647df9f70/expr.ipynb\"><img src=\"data:image/png;base64,iVBORw0KGgoAAAANSUhEUgAAANcAAAAbBAMAAAAdeQdJAAAAMFBMVEX///8QEBC6urrMzMxUVFRm\n",
       "ZmZERETc3NwyMjKqqqp2dnaIiIiYmJgiIiLu7u4AAAAU9Wx4AAAAAXRSTlMAQObYZgAAA1JJREFU\n",
       "SMe9VktoE0EY/vLcpNlsg4daLyWHUgQfjVDx4KFBQy14aMDGFxRbtNsexOZQLCLFBR9FELuXes5F\n",
       "rAhS0YsEbBQRrRQjWBU1JYKCIsXSt1Zb57GbnVBCGmk78M2/M7Pzf/PP/9gFNrJl/3OffUgYbCvy\n",
       "8hMDaTp4WTpZnfDsCHORXvHW0+VIpDMIVwgMt+nc9dLJxC0efj2eSdpLmUzm/SNzqYKwTAEaGM7S\n",
       "9daSuXziLSa5GF0yJ5TRkGHzIsEMMAIGeiqXXjKZTfR1FeulgfncjPTOOBOZkn8Dn8Eg3+rp6S39\n",
       "FreKsaJxxb4pa66aC3cA8JOzuHWOOVX9UDrZceHZlWBip/eP4EYuysOQrpBLKIty7Ac6VqP+e97o\n",
       "mhgfKeanIHWQ2ZzcafUHky101atxVEPRVkP2MG+0iRiUoY1YZQuyy4Q0u4JsOA7lDV0McPjhYydD\n",
       "H+tvzMYaQnyzefA4EyRivV2x5pN8ckpIsXJGVheJzFlkfi7aKCFR75jk8KX8LLJkvl8OwBdgvjX3\n",
       "vQqiRlXbqWMeA/cKkZGu0iIb4GKG7k9YZIrGi8FX7l5XGPZ5kUw5wQz3XCRdM1DL7dwikNlo5ngJ\n",
       "XlsBOs5Xqc4m3bpGdOxjC3fHuP1DcKVFsrKJKBXd30j3EWjhs6cFMjc9zTmC/lz9OprNpZm0QO9L\n",
       "48AA0+0YUtn6zxCex0WyvW5WXw7JKSjTkLlncdPUG+IxzYKsK2uUq0u6lWa7aGEzQx82Vnmcxplr\n",
       "kw/OQCQLc0M1KQr7YrLBqBw7xKROQ2pbiOPZ8uX8AHZ1zUQaWZJ4ghyQ2f4XGGYvDJIwyApksu6j\n",
       "9VVOSQmUaZCrjHIVF5RuLpo3Rrkyw2Asxi4B7eQmdYFsInZ4iVUEXxDuKJRfxhkSgqqRomR3DBgW\n",
       "x1HP0osoqw0JZEfgmCZiN/08lOuwTxf+xBg1mOX62zwu6lGhdGwnqlJSH6QlSGOCz+wk0mj8HvhB\n",
       "PHkhi96osaFb1B8uYpgzzsHblzlITZ9IWgzOxhp1i0xpakX331RNZ8UxEk79searOQLxg3a+CNl9\n",
       "A3lNFp7ded/K4Nr//ewpROZZh1+tVAGymkpVPbWe/3hOcaBh45ojsYFkUnZN1PwDgePaD339vswA\n",
       "AAAASUVORK5CYII=\n",
       "\" style=\"display:inline;vertical-align:middle;\" /></a><br>"
      ],
      "text/plain": [
       "unfoldNotSupsetEq: forall_{A, B | A nsupseteq B} [not](A supseteq B)"
      ]
     },
     "execution_count": 8,
     "metadata": {},
     "output_type": "execute_result"
    }
   ],
   "source": [
    "unfoldNotSupsetEq = Forall((A, B), Not(SupersetEq(A, B)), conditions=[NotSupersetEq(A, B)])"
   ]
  },
  {
   "cell_type": "code",
   "execution_count": 9,
   "metadata": {},
   "outputs": [
    {
     "data": {
      "text/html": [
       "<strong id=\"foldNotSupsetEq\"><a class=\"ProveItLink\" href=\"_proofs_/foldNotSupsetEq.ipynb\">foldNotSupsetEq</a>:</strong> <a class=\"ProveItLink\" href=\"__pv_it/1db8cefc2c6c508d8ec7277eecece7d48c206b250/expr.ipynb\"><img src=\"data:image/png;base64,iVBORw0KGgoAAAANSUhEUgAAANEAAAAYBAMAAACW8wWgAAAAMFBMVEX///8QEBC6urrMzMxUVFRm\n",
       "ZmZERETc3NwyMjKqqqp2dnaIiIiYmJgiIiLu7u4AAAAU9Wx4AAAAAXRSTlMAQObYZgAAA1xJREFU\n",
       "SMe9VU1oE0EU/rrbZJPsNu3NniQH6cWf5lBR9NCgoeipQZqKB2lKdQse2oBiFQkNolQvbS714qUn\n",
       "rQgloh4kh0YF0Yo0IgXRpk1BRZBisX/W1tY3M9lNskkQiTowu2/ezHvf+50B/tFQ8b9GUxEn81f0\n",
       "7iziHCtYPaGZYsTLCoFkn/ilcqwsqbUu+Vsuw+YF7rD1YIVIDhEZxwL/RdLp9JWR7FZVCOjwIAqc\n",
       "p5USqhApIX6vNk3O3Jss0Ryn6cOEMMcWqxBpO/8qw6u5goiEBTFO/8kRzFEgb/f1RSoEkqKisNVv\n",
       "JuuwJFKHTpqvM7CTMyu6/u63us6WYpqRsImk7HFuGBx3FAIdS8CFHsAVIHSgm/MG+PfGcrDFyw3N\n",
       "06lwVY6wsXb2Btu6cMAsiCTX7pHXzb5NMr2sHJcSD6eZBAHvYAawehSua3VQ6xhhz0MS9KQHDbp+\n",
       "htXZY+AeXB6jvjzCNGXZEKhBFkml1M1TIKU6xlS5SR+F6zYfpFUr0k1ucwc/J3fRpw1oDLuzAUIt\n",
       "R2ry+1cMgWGjoeyEoJJmeYE5WsO7YWxKWBOHLWVF4uF1zQf44jPN98BJw2wDiT71OQGnOFxL/mg/\n",
       "BJI7yq8oOa7zra9ePA9bkXg4D9pF22kxuBehDZhthCpWG05WZEZeQ9gtmrmZ4lC9JqKH7kOMVc2M\n",
       "pNGYeNADC5LMw+QTvkIJQFpPtGRYirNpZGG9SHPIKMbY3sFcO/WTuMZUDHMFLzDOt0Yp3Zkc0i1d\n",
       "16O8N7SYumAUoisKjbp1f1YxK2GetN6MuI1m3x6F2U5yfUYcQVWcpXsqKI6dpgDGCn0KORnSfLBd\n",
       "XDaqB/YA3Gs5JCkFpfN7GM+2rgrGhCHavuX3X2MeO1gqNYZgC6OZtxEpaPRakCSWoOOQF/mSbsra\n",
       "GCRaNBgntll6uvjGnjOpXSSeVAagbEKZsuQp5Kb4SmQZ74MvlMb+DCKBPNMnSj4i+eOuQXxYgdI6\n",
       "LW9gdDl4JGZB8mIG7tYQzv1MUueeoKAPBduu5792joL3NDJLz0a64H0wW88YWtG9IMaj0rehKa4U\n",
       "OjFfdLI6bGHsK4P0qSSQM26Sl0o9V3njvpWRLIPkNDYoevop09ByN//Mnz06BXqeljoxVk40XIr5\n",
       "Cwih1+vl41zyAAAAAElFTkSuQmCC\n",
       "\" style=\"display:inline;vertical-align:middle;\" /></a><br>"
      ],
      "text/plain": [
       "foldNotSupsetEq: forall_{A, B | [not](A supseteq B)} (A nsupseteq B)"
      ]
     },
     "execution_count": 9,
     "metadata": {},
     "output_type": "execute_result"
    }
   ],
   "source": [
    "foldNotSupsetEq = Forall((A, B), NotSupersetEq(A, B), conditions=[Not(SupersetEq(A, B))])"
   ]
  },
  {
   "cell_type": "code",
   "execution_count": 10,
   "metadata": {},
   "outputs": [
    {
     "data": {
      "text/html": [
       "<strong id=\"reverseSubset\"><a class=\"ProveItLink\" href=\"_proofs_/reverseSubset.ipynb\">reverseSubset</a>:</strong> <a class=\"ProveItLink\" href=\"__pv_it/f60c9f9417e5360ae159b2573a9af94b2f93d6c60/expr.ipynb\"><img src=\"data:image/png;base64,iVBORw0KGgoAAAANSUhEUgAAALoAAAAXBAMAAABOokjyAAAAMFBMVEX///8QEBC6urrMzMxUVFRm\n",
       "ZmZERETc3NwyMjKqqqp2dnaIiIiYmJgiIiLu7u4AAAAU9Wx4AAAAAXRSTlMAQObYZgAAAtdJREFU\n",
       "SMe1VE1oE1EQ/rL52TbZbHPTU43gTSE5FDyIJmiInkzAbOtFWhFT9GBzkFaR0iBC9GJzUQQP9lKs\n",
       "F4mipyBdb1UPrYegaKNBVHppLf31J1bnvd3XbNNocNUH+97szM43876ZHeC/roptz51N7EoQmGLC\n",
       "MxvgzigBJJZi8YuNrHvpOQLcYfJVG+gt7NaOHqA72MA6zL4A+umQe2ygF9kWKdATbcDKW4qtjPAU\n",
       "3Hkb6O1sG88AkyMkSOVy+WVh3Xi+mwxqAMrtgYFBG+BSlu3H6XkuGkN9FBbWwjij6xSwkk6/soHu\n",
       "ZhljCTh3Zl0nvxChK7d0OkaBA0AvV+X4fn1Zi/MUpPXyZYTU2qelTggtc3cuFR9OW0LuMM93vCC4\n",
       "wTQqv6SyYNQjAF+ACR7hMlnricfAPVN0MK1vFZi1FNVvnkEMJenYzjQ+lgY+VI0bRyGtWtHVbjJL\n",
       "o5pG9KaAkHmTNobuoTx81Rq6yyDeGYslWBtGyKr7eVnulozwBbinrOje2STU0/vm5kh+DRyDBb2N\n",
       "/VFfN6ETqY6sga5mO3i8QppbPoUxkbGi7/H0wGN4qYtQcoIZ1sURupbryyZmyOQPGMygdz8Pa2YV\n",
       "Kj4wmkCgR+kqN81W+FaMi/bz6Ga7D2Vr6NeM1iH0lnkSJpiKE/EE49w0RrWrWNCVvG8eXSZJWSjt\n",
       "grCk0e7OrbU5KL3hxwzzXjM6Eg7WPGpJ6+OfnSRy8hb0Wa1zDYfNfKkCggeJcur8EYtd1mtz7ShH\n",
       "6N+Wg9L3maKz+aYwnTuDCCeXvENhC3oXnIu4b1YyD2lRYG3Z+OvSJLhUN87UgJB2ka8u5yCvQS5Z\n",
       "eJcotSo+Gh8NVTCYFB5Pm/7OXjF33q9ATkw7qxhb1g7la+gq9e3Z73orL7R3WEtd2TiBf7tm6gen\n",
       "RfZYDR3pdLoOTY42Qz9Y9777V+iN1oUmdl+4TqH/CfpfLdc/wPgJy26x2mlsjCgAAAAASUVORK5C\n",
       "YII=\n",
       "\" style=\"display:inline;vertical-align:middle;\" /></a><br>"
      ],
      "text/plain": [
       "reverseSubset: forall_{A, B | A subset B} (B supset A)"
      ]
     },
     "execution_count": 10,
     "metadata": {},
     "output_type": "execute_result"
    }
   ],
   "source": [
    "reverseSubset = Forall((A, B), Superset(B, A), conditions=[Subset(A, B)])"
   ]
  },
  {
   "cell_type": "code",
   "execution_count": 11,
   "metadata": {},
   "outputs": [
    {
     "data": {
      "text/html": [
       "<strong id=\"reverseSubsetEq\"><a class=\"ProveItLink\" href=\"_proofs_/reverseSubsetEq.ipynb\">reverseSubsetEq</a>:</strong> <a class=\"ProveItLink\" href=\"__pv_it/c2f735335775f63f918216f067080f6e43401ce70/expr.ipynb\"><img src=\"data:image/png;base64,iVBORw0KGgoAAAANSUhEUgAAALoAAAAXBAMAAABOokjyAAAAMFBMVEX///8QEBC6urrMzMxUVFRm\n",
       "ZmZERETc3NwyMjKqqqp2dnaIiIiYmJgiIiLu7u4AAAAU9Wx4AAAAAXRSTlMAQObYZgAAAtxJREFU\n",
       "SMe1lU1oE1EQx//dNNnabLa56alW8KbQHAQPIgkaoicbsGm9SCviFkFsDtoqUhpEiF40F8WDYC9i\n",
       "vUgEPUjArreqSOuhKtpoEJVeisV++RGrM2/fS7ZRCS51YXcnb3Z+b+b/5r0A//UqeY7cUsdvtAGT\n",
       "bDzxAPfFCNCxEE+c/ZN3J937gVtsX/RAb+KqG3qBHsoRerFYfPmg6r3EXwAD7Or1QC/wI5qnOyZH\n",
       "zKeRiipvaW5jRKTgz3mgt/JjLA1MjKgh/YWyTveQwwzDuDk4OOQBrmX4eYjuZ9XG2KyM/BjLdRRY\n",
       "sqxXHuh+kfECcOq4ay3U1KXrNr1uALuBPjGUFc8ri6mEkE+rhKSVta4/1XlYjXK4b6Fwb9o1ZaMU\n",
       "/p1YEFzlakxRpPHZWY8wgmE2Aipkgoo8aVkWCfAQuCNHG7j04DIwG/ud3obhJL02ASEEOQ18KDsV\n",
       "x6Atu+lmjw3NqQ6dQLuspIXpAcojWK7SQ3IrxOMd3IZR8tohsSy3p5wP8vBPuunNs0l8lPZr4CBc\n",
       "9BbeUd+q9MtSdiot49DNzDYxX94Snk8RjKfd9B2BXtyXZczDyCpluIujVHXj12ofvXHe5AqFHWXQ\n",
       "t0tIJrNqL9x1mkDRY1TKPhn9vZBQ7RewZbsPZypnwwHHqRO9aY6McS5HCPEIY8I1SmtXctGNXHAO\n",
       "3VKkDIxWJVjSaXffBvE1nwTn5Kac4egVpyPRwM1jTqX6xWdHSJyciz6b6lrBNZlvEqbSQaOcun7G\n",
       "4+ft2p0wsDELo/8Lzc7nm8FUfxpR0U4U3R5x0bvhm1ct35KDNq8g6+tuODOsrK0Ua+tZ6CvQp1y6\n",
       "a5RaGfoxUddwCUNJFfG4Lr05L433S9A7pn1ljC6m9uaqdJP69sQPG0aCdlPzpVTnhdUncOVi3YvF\n",
       "56voM7V/Jy47UCczPVYv9z01v7f/Ax1n6viDkZoB+y/0Acs5Z9bualwDxi/ZnrmU9okiYgAAAABJ\n",
       "RU5ErkJggg==\n",
       "\" style=\"display:inline;vertical-align:middle;\" /></a><br>"
      ],
      "text/plain": [
       "reverseSubsetEq: forall_{A, B | A subseteq B} (B supseteq A)"
      ]
     },
     "execution_count": 11,
     "metadata": {},
     "output_type": "execute_result"
    }
   ],
   "source": [
    "reverseSubsetEq = Forall((A, B), SupersetEq(B, A), conditions=[SubsetEq(A, B)])"
   ]
  },
  {
   "cell_type": "code",
   "execution_count": 12,
   "metadata": {},
   "outputs": [
    {
     "data": {
      "text/html": [
       "<strong id=\"reverseSupset\"><a class=\"ProveItLink\" href=\"_proofs_/reverseSupset.ipynb\">reverseSupset</a>:</strong> <a class=\"ProveItLink\" href=\"__pv_it/3cfc3018e63d557045a72bb1dc29d9da86475e990/expr.ipynb\"><img src=\"data:image/png;base64,iVBORw0KGgoAAAANSUhEUgAAALoAAAAXBAMAAABOokjyAAAAMFBMVEX///8QEBC6urrMzMxUVFRm\n",
       "ZmZERETc3NwyMjKqqqp2dnaIiIiYmJgiIiLu7u4AAAAU9Wx4AAAAAXRSTlMAQObYZgAAAthJREFU\n",
       "SMe1VE1oE0EU/pI0uzW72eampxrBm0JzEAVFEjTUnmzAbsWDtP6leLE5SKtIaRAketDmonizIGK9\n",
       "SAQ95dD1VvXQeujFthjESi+pYv+s1uqbmZ1mjNHgqgMz82bevG/ezzcD/NdW8my5o47ejAITTHjh\n",
       "ATyQIID2xWTr5Vra/dSPAA+YfMMDeiOL2tcNdEVraIfYCaCPJr3bA3qRDfEC9USNrLymu81h7kIw\n",
       "7wG9mQ2jGWB8mK+N6zMzMzKMi12ksCIw7/f3D3gA92fZeIL6S06MwJTKj8Iou+cssJxOv/KAHuQe\n",
       "LwIXzvH1QEa9unTHoekecBDo4Vs5Pt5asltj/MRG+TbsNvXaHafkLjMPLBafTIv1AfXqN7wguA1s\n",
       "h8WDND+KekRgRJigyaPjFU48BR65oo/tGitAmRdVYMgWxWCKpm1AGAZzA7NrIuIE/CsqutXlYNa2\n",
       "7zK5A2hxI2li6Br5YaxJ9leeQjLZzmgYJ60T5vV4OMk14QKCEyp6qJyCNT+/9zDJU8BxKOhN7EV9\n",
       "/gmdkurLCnQru4urC2mueR/DWEZF36eJ17Cbji7AzMnMMBbHKeqGVb6eUNBJFY6IzKCHF6TB9aql\n",
       "+FiQQKInRCgIReH/UmyVvNMcl+6DIuPHKuA6oTd+IGGM+k1u/QyjXDVCtSsp6Gbe+CCSOYxQFmaz\n",
       "TFhK0D2wRdxXrtR+jlmvC0bCx8hjTdq9/NgZSk5eQS/bnevCoxQ0qsCqzC351PktmbzquMW/EnM1\n",
       "fVtzMHs/0e3sfzMZajCDOFeTdUtMQT+KwIIgu4OmPPwL0sPN1Y+3TfkJxIURKe0kAjh6Dvo69Ekl\n",
       "735yTVBVK2GwhIGUtHhe9zmHCq7wdhl6+3RgDSNLdlu+gm4Rb89/ZcHrJxEasjuu/fgD/7bNVX+c\n",
       "iqwp8rt0+nSm6qyeqId+qGq95xfoNdulOnojVrXh/An6X7WGf4DxHUvzsqWmWoAEAAAAAElFTkSu\n",
       "QmCC\n",
       "\" style=\"display:inline;vertical-align:middle;\" /></a><br>"
      ],
      "text/plain": [
       "reverseSupset: forall_{A, B | A supset B} (B subset A)"
      ]
     },
     "execution_count": 12,
     "metadata": {},
     "output_type": "execute_result"
    }
   ],
   "source": [
    "reverseSupset = Forall((A, B), Subset(B, A), conditions=[Superset(A, B)])"
   ]
  },
  {
   "cell_type": "code",
   "execution_count": 13,
   "metadata": {},
   "outputs": [
    {
     "data": {
      "text/html": [
       "<strong id=\"reverseSupsetEq\"><a class=\"ProveItLink\" href=\"_proofs_/reverseSupsetEq.ipynb\">reverseSupsetEq</a>:</strong> <a class=\"ProveItLink\" href=\"__pv_it/f900d6e35ed96f5b240f39addabce07e8d8c28d90/expr.ipynb\"><img src=\"data:image/png;base64,iVBORw0KGgoAAAANSUhEUgAAALoAAAAXBAMAAABOokjyAAAAMFBMVEX///8QEBC6urrMzMxUVFRm\n",
       "ZmZERETc3NwyMjKqqqp2dnaIiIiYmJgiIiLu7u4AAAAU9Wx4AAAAAXRSTlMAQObYZgAAAtxJREFU\n",
       "SMe1VU1oE0EU/po0uzW72eamp7qCeFFoDoIHkQQNtbcEbCoeSitqih5sDtIqUhoEiR60uSjezEWs\n",
       "F4mgpxy63qoeWg+92AaDKAgSLDZtrdbqm5mdZFKV4FIXZua9efO+eb+zwH/9Kp4197eQmzYwx4hX\n",
       "HsD9MQJI1OI91/4kPULjBPCI0bc9oHcwr9uGgEGb88atcrlsS+kkOwGM0qIPeUAvsSlapBHjriyo\n",
       "MTbfEmcWuAmBvAf0LjZNZ4DZAqPGM6rwyiCxVhjmw7GxcQ/gviybT9N4zY0+2iQtTrMYnQdW0+k3\n",
       "HtAD3OIacPkiI6xs09WV+w4tD4BjwDDfyvH57kqqJ8JP1NNX93nHSKrvjNxl6v5a6dlivYIa3zue\n",
       "ENwD9rr3ml9EPsIwwozQ5NFZG/vS6QvM/+fAE3e3jblurAHV2O/oNiaStOwBQjCYGfiwITyOwbem\n",
       "oluDXOxnRvcB3a4nnQxdIzsMoTentkI8nmBlGCWpE+JpeTzPJaEiAnMqerCa5OtHGgvAABT0TtZR\n",
       "3zh/Sg07uZYV6Fb2IL+vmOaSzxHMZFT0w5roBjMPaxlmTkaGVXGU3Gpf53zVbqCTKBQWkcEwL6Z2\n",
       "16ru0lNeBHX0mHAFehK+76Ue2TOa45b7hKgW63pEguuE3rFExAyNO1z7Baa5aIpyV1HQzbyxJHQK\n",
       "CGZhdsmAJUW5+3e59/l65UvAYqhtiopEGyseaz41wo+do+DkFfRqqn9TvCM2tCSsdRlbsqn/Zzx+\n",
       "w9naCaO7czBHvtLt7H0zGWoggyh3jbS7Iwr6SfiXhRIlMQ/fsgTZ2bLhrLCkDpCuo+egb0KfV+Lu\n",
       "I9N4yX2ibExUMJ6UGi9bogeLLvF+FXpi0b+BqZVUb76BblHdXvrhUDdRxQUnU303m1/gxjdQLqsv\n",
       "sIx/0+9EobUWlumxVrYf38If+gd0XG0hNyJbNpy/oFNk0me39Xfevg0YvwDIULb8gbLMeAAAAABJ\n",
       "RU5ErkJggg==\n",
       "\" style=\"display:inline;vertical-align:middle;\" /></a><br>"
      ],
      "text/plain": [
       "reverseSupsetEq: forall_{A, B | A supseteq B} (B subseteq A)"
      ]
     },
     "execution_count": 13,
     "metadata": {},
     "output_type": "execute_result"
    }
   ],
   "source": [
    "reverseSupsetEq = Forall((A, B), SubsetEq(B, A), conditions=[SupersetEq(A, B)])"
   ]
  },
  {
   "cell_type": "code",
   "execution_count": 14,
   "metadata": {},
   "outputs": [
    {
     "data": {
      "text/html": [
       "<strong id=\"relaxSubset\"><a class=\"ProveItLink\" href=\"_proofs_/relaxSubset.ipynb\">relaxSubset</a>:</strong> <a class=\"ProveItLink\" href=\"__pv_it/22661b9d2146c6f839082ce4fba5b3001adb3f020/expr.ipynb\"><img src=\"data:image/png;base64,iVBORw0KGgoAAAANSUhEUgAAALkAAAAXBAMAAACllfPxAAAAMFBMVEX///8QEBC6urrMzMxUVFRm\n",
       "ZmZERETc3NwyMjKqqqp2dnaIiIiYmJgiIiLu7u4AAAAU9Wx4AAAAAXRSTlMAQObYZgAAAtpJREFU\n",
       "SMe1VU1oE0EU/pp0s02z2faknkoOvSkmQsCDaIOGUhBswK49FVPEVDzYHMQiUsxFi6BtLvXipRex\n",
       "Ikj9OQgBG0VEK2IsBkENpKDSS3/oT1ptTX0zs9sdUiW46sDsezNv5pv3vvdmFvivreh4584q9qfU\n",
       "c0x55QDcHREit8XybCMaPRWAEgJus/GgA/Q6EXXdvDl+VCgUJoW6DVAWgBRwjkZq3AF6RojXZSH3\n",
       "P7ajWqO+BEwIF5S0A/Qm/lWHV4R8b1t8NKV9B6ZI3Orr63cA7koJJN8Cl7UB2+RpBPx0uIecLiUS\n",
       "HxygKyNc7PauczktmRoiUC8TJfUx4BDQwycH+Pf6stEa4s5tpi9pad5eo+OENZtlXz3ASKYWltBb\n",
       "Dme6mNVL4TVD50FqIkStEb5GHp+1+I0d9BPgnqnWBIQL6vIW9PEk9HfMyBiCj7vxRYSoROBakdH1\n",
       "42R23TQMirUDCJqRNHD0cDRa4kO/hN7NTqBNbipWX9bPK/duXiwbg5KT0etnYtBPH5idJf0j0AUZ\n",
       "nT47hFNS2S2xgEcEup7iUbnHEtw0F8KLpIy+zxOHJyTCWIQ2YDHD4LzU3wrTpF3ujIT2tGAGPQd5\n",
       "SZleBTMPz0BGj1AoN8wqXMu0Wu+Sh9F5nvqQGE8flctdXWUpZPkc5kS8xDi3jVLuihK6lvbNo9Mk\n",
       "KQWtySIsBlEOveZ5zdfMl4CV+55BcwlqxlhkeUMsO0nkpCX0GeNYGUdMfykD36zblIPavZrE841L\n",
       "FRehdynadpUXLUuNxlCVJFo4ubQ7GJLQO+FexH0zk2m4Fi2U7VUv3NSmtov2ZtUBqGWoeYl3F9G7\n",
       "jq9i0cUi+mPWjomq6Hcs5XMJavsnyvbostGWttH19jjO/sh6eaLrh4yOK5UvsMVHoWC/wOZFSVWc\n",
       "pkm6RzaEE4lExV9MjVRxvTZZMbH3d+i/aheq2B9UTmT/BP2vWu0/wPgJiQC5CXpIO1gAAAAASUVO\n",
       "RK5CYII=\n",
       "\" style=\"display:inline;vertical-align:middle;\" /></a><br>"
      ],
      "text/plain": [
       "relaxSubset: forall_{A, B | A subset B} (A subseteq B)"
      ]
     },
     "execution_count": 14,
     "metadata": {},
     "output_type": "execute_result"
    }
   ],
   "source": [
    "relaxSubset = Forall((A, B), SubsetEq(A, B), conditions=[Subset(A, B)])"
   ]
  },
  {
   "cell_type": "code",
   "execution_count": 15,
   "metadata": {},
   "outputs": [
    {
     "data": {
      "text/html": [
       "<strong id=\"relaxSupset\"><a class=\"ProveItLink\" href=\"_proofs_/relaxSupset.ipynb\">relaxSupset</a>:</strong> <a class=\"ProveItLink\" href=\"__pv_it/1c3a2980fa64d1f66ff39f82bc9d6a1c3e5d13f60/expr.ipynb\"><img src=\"data:image/png;base64,iVBORw0KGgoAAAANSUhEUgAAALkAAAAXBAMAAACllfPxAAAAMFBMVEX///8QEBC6urrMzMxUVFRm\n",
       "ZmZERETc3NwyMjKqqqp2dnaIiIiYmJgiIiLu7u4AAAAU9Wx4AAAAAXRSTlMAQObYZgAAAtlJREFU\n",
       "SMe1VE1oE0EU/ppkd5pku+1JPZUcvPnTCFVBDw02lIpgcujqqdj6k3oyexCLSDAXLaKkudRzwIMV\n",
       "QSp6y6FRRLQiRrQgaiAF68m20iRttdo6P9nNmCrBVQd23tv35n3zfgf4r6vo2HJbA/1D+uUZ88wB\n",
       "uDskSH6D5tF6OHw6ACUI3GL/KQfozSLq5s+cJAqFwlUrD5sAZRFIAufoHxlwgJ4V5PmaLfn0qhrV\n",
       "Kv3KwJRwQUk7QG/nOxlbrokSJid+KtK+AjOU3BweTjgAdyUFkn9RkolSqG1AC71cpU4vxWJvHaAr\n",
       "GU52er9JQnFjawjkMk2JLwp0A0NcOML36xWjJ8gdsctnWpw3bvSdsKQ5tusBlmR7dfO961C2n2m9\n",
       "9LKt0PmVmghRa4O/jcdnmbwI2NYPgLtVtikgXCCVDeiTJvTXTMkyBD93Y1aEqITgWpbR9WM5zBrG\n",
       "Dcb3AR3VSFo5emc4vCShi94fZDdQTDdtVn+uhffpnWmuapmAkpfRfXNR6PPz+w5T/h3QDxmdbltq\n",
       "4N4oJ2UWcEag68lO3qQTMa5aCOKJKaPvV8U07KFHS9BGrMywLvbS72UNfQd3082SEEmLzGDoAJN5\n",
       "ql51ZO+fgYweEqHAF4BrNdtjzaPK0nmefqM2+O6U3e5khZWQ1XOMWz/FJNeN09oVJXQt7Rez7s7A\n",
       "l4TWbiUsCtEO8WL1JXhzEHa770pVj6BpgtVu2hDHTtHkpCX0OeOImHUShUor8MWanDzI4IqJx+uX\n",
       "6gYhXg73XuNNy0qjMVTFRBdvc2rdEZTQj8JdEiXLoTUNV8lC2dxw4GZsbjvtghwZAVkDmZby7qLp\n",
       "Fa2qFnGxiETUsphqiH7bYj4sgUTe02qPV4zedA1djwzg7HdWQHIcvlGj70r9C2w9YAW2fnprxZBK\n",
       "S5N4VeI/xmInzbqzJNTAdU+9xd7foP9yXWigv1cvyP0J+l8tzz/A+AHe1bp5l8X/twAAAABJRU5E\n",
       "rkJggg==\n",
       "\" style=\"display:inline;vertical-align:middle;\" /></a><br>"
      ],
      "text/plain": [
       "relaxSupset: forall_{A, B | A supset B} (A supseteq B)"
      ]
     },
     "execution_count": 15,
     "metadata": {},
     "output_type": "execute_result"
    }
   ],
   "source": [
    "relaxSupset = Forall((A, B), SupersetEq(A, B), conditions=[Superset(A, B)])"
   ]
  },
  {
   "cell_type": "code",
   "execution_count": 16,
   "metadata": {},
   "outputs": [
    {
     "data": {
      "text/html": [
       "<strong id=\"subsetEqViaEquality\"><a class=\"ProveItLink\" href=\"_proofs_/subsetEqViaEquality.ipynb\">subsetEqViaEquality</a>:</strong> <a class=\"ProveItLink\" href=\"__pv_it/c6cb613394c1f4d5dd0979f76d5f0f45028a33280/expr.ipynb\"><img src=\"data:image/png;base64,iVBORw0KGgoAAAANSUhEUgAAALkAAAAXBAMAAACllfPxAAAAMFBMVEX///8QEBC6urrMzMxUVFRm\n",
       "ZmZERETc3NwyMjKqqqp2dnaIiIiYmJgiIiLu7u4AAAAU9Wx4AAAAAXRSTlMAQObYZgAAAr5JREFU\n",
       "SMe1VEtoE0EY/rp5bJPdbHJSTyUHb4qJUPDgoUFDCXhIDoniIdgipj2ZHMQiJZhLjYK2udRzb1YE\n",
       "iegth0YR0YoYwVysgRT0GCzNo9XG1Hnsbob0ELrqwMw/M//83/+Ybwb4r61u2fLEEP0r0it08t4C\n",
       "uC3EReWA5vV+ODzrhyMIPKbrRQvoozzr0S2+VB7UajU/nx8BHNtADrhJVvKUBfQSFx96PIWNfolt\n",
       "e6S3gHUegqNgAX2MjfLyDpPZTF+jkC31F7BJxKO5uawFcCnHkZRtJs8JKqcP8BDnThJ0J5X6YgHd\n",
       "scLEKVeXCi0nqLwhyHdISdwx4DwwwzbzbHzYTkwGWXDm9ZlJu9KJ+FVjt8xQ/bTIJoF4m7hQSlKt\n",
       "i7g8rjtWeYqqD4qP5Wcc/ug37V4Cz/TpiJ+HILcPoK9loH2mSlohKCyM712ecQjSjoiuXSmbdnEg\n",
       "oGfiZejj4XCHLUXWT1MPxMhGyKqUPYxMT6tM5SnCURHR3Y2YabcBJCGik+EYW14W0Fs04RWOruXG\n",
       "WW7FFFP9COJtRkQ/6zRfg9aEmjcqQ1nsIv0TWzb65bPRIkQLvDKYYWyy61EFSi+uQ0QPkVQid0kr\n",
       "QtorTRqPxknrdYv0Je54ISjSXd6lV0jvc5kV4h3WmG6V3F1dQFcLypZh585BHTPmMZ2Hae5Pihg/\n",
       "AaX76UX9CEaK1Hc1wY9dI8UpCOiNxMWe+Uxi0H4ar6kCeXo3gzf7CwMPId0KR+4z0lJnKkV1ZDDB\n",
       "ciPWgaCAfgm2JmZ5ZbwFSE0D5ejQB7dpzk4SFpTlPOQe5KpQd4mUt2scul1H1iTQ+lD0J8bkWwdy\n",
       "9Cu57dV2IlLoo2vRKdz4rRPevZSI3xv8gfWWrNX6P7DOsNyAN1X8i4ZEJoeGHLBnBjbOHAId80P0\n",
       "zwc3yodB/6tm/wcYfwBOHbRT1wTXhAAAAABJRU5ErkJggg==\n",
       "\" style=\"display:inline;vertical-align:middle;\" /></a><br>"
      ],
      "text/plain": [
       "subsetEqViaEquality: forall_{A, B | A = B} (A subseteq B)"
      ]
     },
     "execution_count": 16,
     "metadata": {},
     "output_type": "execute_result"
    }
   ],
   "source": [
    "subsetEqViaEquality = Forall((A, B), SubsetEq(A, B), conditions=[Equals(A, B)])"
   ]
  },
  {
   "cell_type": "code",
   "execution_count": 17,
   "metadata": {},
   "outputs": [
    {
     "data": {
      "text/html": [
       "<strong id=\"supersetEqViaEquality\"><a class=\"ProveItLink\" href=\"_proofs_/supersetEqViaEquality.ipynb\">supersetEqViaEquality</a>:</strong> <a class=\"ProveItLink\" href=\"__pv_it/2c5cea7a91fe9ad0d7398993408c5b3f69829b470/expr.ipynb\"><img src=\"data:image/png;base64,iVBORw0KGgoAAAANSUhEUgAAALkAAAAXBAMAAACllfPxAAAAMFBMVEX///8QEBC6urrMzMxUVFRm\n",
       "ZmZERETc3NwyMjKqqqp2dnaIiIiYmJgiIiLu7u4AAAAU9Wx4AAAAAXRSTlMAQObYZgAAAr9JREFU\n",
       "SMe1VE1oE0EU/ppkd5tks8lJPZUcvCkmQsGDhwYNJeAhOSTqpdgipj2ZHMQipZiDGgVp9xLPvVkR\n",
       "JKK3gI0iopViBKOiRlLQY7E0P61WW+dnZ7Omh9BVB2be7Hvzvp33zTcD/NdWt515oEf8CekVOnlp\n",
       "A9wZ4aayI/J0OxqdCEIKA3fo94wN9H5edf8qHZVarfb+kQjtAaQ1IAdcpLFRG+glbpa2hENbChtV\n",
       "bZLeBBb5FiTdBvoAG5XCuulR3nHrJS71B7BMzO3JyWkb4I4cR/KudXz7uZEDgI/8XCabbqfTH2yg\n",
       "S3PMHHL/tBwFN/4IlGuEEk8COA6MM2eejbdaqWHGn8PMyYqZO5NKnhXeMuM6SEkWzcWJHzpRGqFR\n",
       "d46Wo7EiVV6iGoA3wOoTOa+CZvpj4L4x7QvyLSitHegLWWhvaJAyBC/bxldeohSBY92Krp0pm+lJ\n",
       "IGRU4mfog9Fou4Pu42aM/oEkOYlYvWUfU+69Kl9RhFSxontWEmb6R2AEVnQy7OugF7hp0oLnOLqW\n",
       "G2QiLaZZ6FsYz7NW9KOyeRu0BtS8YIaq2E36646MPnO5UxLiOmcG48cYZ8auQqWH52FFj5BSYtdJ\n",
       "K8KxWRoW75JM+bpE+qz5NJyum3JXNugR0vMsMCJeYIHF5snZ1S3oqu5dFfmeHNQBMU+AyyFTN16C\n",
       "K3pH7odnjCXoK9Kiqym2DOcIOboFfSV10rzrcgLad0FDBcrYRhbPtq92XYRMMxq7yURLj0alqFIW\n",
       "Q0xPJDsUtqCfgrOBCc6MX4ejIVD29rxwy+bsIFFBWclD2YJStfDuIPSat/FyHdOmgBZ7ot8Vky9t\n",
       "KPFP5LTnW6mY3kHX4qO48MsQvGc2lbzR/QIbD1iNtrd/gPNLammqZS732JkS6bHAle1yHNkFOqZ6\n",
       "xB90O8q7Qf+r5voHGL8BdSi0iY7JN3wAAAAASUVORK5CYII=\n",
       "\" style=\"display:inline;vertical-align:middle;\" /></a><br>"
      ],
      "text/plain": [
       "supersetEqViaEquality: forall_{A, B | A = B} (A supseteq B)"
      ]
     },
     "execution_count": 17,
     "metadata": {},
     "output_type": "execute_result"
    }
   ],
   "source": [
    "supersetEqViaEquality = Forall((A, B), SupersetEq(A, B), conditions=[Equals(A, B)])"
   ]
  },
  {
   "cell_type": "code",
   "execution_count": 18,
   "metadata": {},
   "outputs": [
    {
     "data": {
      "text/html": [
       "<strong id=\"transitivitySubsetSubset\"><a class=\"ProveItLink\" href=\"_proofs_/transitivitySubsetSubset.ipynb\">transitivitySubsetSubset</a>:</strong> <a class=\"ProveItLink\" href=\"__pv_it/6a08939be1ce608a1c0d163966a41b14a015810e0/expr.ipynb\"><img src=\"data:image/png;base64,iVBORw0KGgoAAAANSUhEUgAAAPcAAAAXBAMAAAAl5sTiAAAAMFBMVEX///8QEBC6urrMzMxUVFRm\n",
       "ZmZERETc3NwyMjKqqqp2dnaIiIiYmJgiIiLu7u4AAAAU9Wx4AAAAAXRSTlMAQObYZgAAA4JJREFU\n",
       "SMfFVk9IFFEY/3ZmZ8fdHUdv/TmYgV0qcg8LHaRcSqVTbrSjIP1RohE66Bwqi5A2KKRDuRe9dDEk\n",
       "soJ1K6lAqKlDlBGZYEFp7VJKIG6SaJmmvfe9mdlxV9vLSg/mzXvz/Xy/733f7/tWgP854mt18LYs\n",
       "9mfkGaSLV7nn5gPsNZhpkh9UHhKDgg/gFt1ezT15Hgtp3lSm6boO3AEdwgCnyU6szz15P3u9Xsyw\n",
       "fPtEpl4NBpiHQiT35EU4ix0/jf2j0dHRIVxdoDHZDJAAkG62tLTmnpsL48vr/cH2ux6bFmGOzqcA\n",
       "XOTKs6r6IffkQhe+drgXWATeW5bz6NYXAE8QYC9AI35tw7lzRqnyMa8r6yY0eglLQ5q5cjcroWNp\n",
       "cDr6lOhDA6ujrov5edw6iy3MUd08hHhRAjL6IrEASYXgLcQiGQFooAuX+WdvUic8Bbi7HI6x1cFl\n",
       "bByI5UCcYSJLxeSzeQWOQPPBi76MsQAJAeBQJKXkQp12cpn6zN1QFCKYELFrNvhWRTkC3DS5jlE4\n",
       "BUjur6iYxa0/Rb5k9jaeVKFXz8eSjA7j1/wYCLQxyBvJVGYn90wGQT6xO5kk648Ah23w8e5kMg4J\n",
       "kmc+Zicn0/p08k0Ych8jl8No4WMq2r774AW9k4d2h6SdvMxVDy6WX3kapDYbnOW/l1qMdu2g1esm\n",
       "z1vmY4q8miIEI+zQuAclYVyltL+vCeFW4zHJA+SK14x0zfdXxVNwN7vuO5vaXTSVZ8nTzpKZ6iTl\n",
       "FBylcqFS68D2+xKeoK2HqImeW9CVRi5FvFNQa2QgDFJRCi4wDf22kdM6QiE3o5PykGWRSJ1v0QwI\n",
       "OKgr8rDCYMdJKKmbDkIux2zkk0rNIuw3/CHZx17B4E4WBaqSCVPKgyA2/NLg+dIlJveDFrv/ooJx\n",
       "yKOykDAJGpRjPueYzkEgYffEbeS1wE/DPUNOEZS2CfeyGqwx4oljXVrXKblitldzJKzVdnKiLraB\n",
       "uAgikf0ZTd4A0G0LO0eSuADjRpeKQ2sQLLjM9JGIgMdqOANZm+Adc/F1FsTqEX4BemaUfSQo5TqM\n",
       "Vd6Op8jl6no4+Ud3oxg97UroMikQC97JEhuqi6b/pK4+WGuzDcla6Tbh2hF+VVXjGXC+SlWblh8l\n",
       "BrKQO7W0Dzut07RVyFeGrzTOZSG/n/5BzwzBv8j1tf8X07lmJ/8FBhrzRZ4FzYEAAAAASUVORK5C\n",
       "YII=\n",
       "\" style=\"display:inline;vertical-align:middle;\" /></a><br>"
      ],
      "text/plain": [
       "transitivitySubsetSubset: forall_{A, B, C | A subset B , B subset C} (A subset C)"
      ]
     },
     "execution_count": 18,
     "metadata": {},
     "output_type": "execute_result"
    }
   ],
   "source": [
    "transitivitySubsetSubset = Forall((A, B, C), Subset(A, C), conditions=[Subset(A, B), Subset(B, C)])"
   ]
  },
  {
   "cell_type": "code",
   "execution_count": 19,
   "metadata": {},
   "outputs": [
    {
     "data": {
      "text/html": [
       "<strong id=\"transitivitySubsetEqSubset\"><a class=\"ProveItLink\" href=\"_proofs_/transitivitySubsetEqSubset.ipynb\">transitivitySubsetEqSubset</a>:</strong> <a class=\"ProveItLink\" href=\"__pv_it/56c4b100c435d5189b9b247f5701dcef8ecc906c0/expr.ipynb\"><img src=\"data:image/png;base64,iVBORw0KGgoAAAANSUhEUgAAAPcAAAAXBAMAAAAl5sTiAAAAMFBMVEX///8QEBC6urrMzMxUVFRm\n",
       "ZmZERETc3NwyMjKqqqp2dnaIiIiYmJgiIiLu7u4AAAAU9Wx4AAAAAXRSTlMAQObYZgAAA4BJREFU\n",
       "SMfFVU1IVFEU/pzxzXNmnk93/SzMwDYV6UJoIaGUSqucaJ6C9KNE4yb0LVKLEA0KaVHORlctDBdZ\n",
       "gRpJPwj1ahFlRCZYUFojpQSiSaJlmnbvue+9ec5g02KkC+++e985c79zv/OdM8D/HJGNOnhXAvtT\n",
       "9gzxxcvkY7uLxGso3qTeKzkqB6Q84CbfXk0+eJqgNG023nTdgOuwgRagge3kquSDD4jXq5U4y9eP\n",
       "bOrVMSgilMLJB8+iWW7/Ye4fjI2NDdPqAudkOzAOKDcaG5uSj+1qoZff/13s9z2yLNIin+sBD7vy\n",
       "Qij0PvngUie99niXBQPvbEszhfUZ8AWAA0ANfW2luWNeK80TUZdUTun8EraGdGvlrdOCJ2Pc+ejX\n",
       "eu6bvgbpOtu9RNvUbNvnhGEdwqLIgUqxKIIgJRP+TCqSUaCaLzzWz16zE+pDoRDL2RPgzlp34taA\n",
       "x9ykEJoL8rwQWZSTT9YVXMw1HX6KZUIQJBXBRSLJZRfqcIKrLGaXIAlBZtcd7js17Thcc+w6ZuFk\n",
       "EHh+cfECbfOj4KtWb3OzKvQb6VSSPSP0Nb0PEm8M6lY2FTjBfdMBTJrrD8Axh/tk18xMBOMsz+4+\n",
       "JzibNseCbyPK8wS42kIWd1+IbN/y8Jzfyce7w4wTvMBThYcmCXNQWh3uIv+93GK26xRevV72vBEx\n",
       "RsHLuIdk0o6a/SQJ8yq5A/215G43Hgu8iF3xkJmupYHSSNTdK6771qF2D0/lOfa0iWRGO0khd+7h\n",
       "cuFSa6f2+wKPydbN1MTPzeiMAVfC/llUmBlogZIVdZeEhn45wHkdkZDrKEh12LYorM536KYLUngo\n",
       "6ogm3E4xKnmYKQxc7XOAT2vlK7hmxhOASr1CuKcKFrhKpiwpD0Gu/qnj2eolIfcjNnr+RY14SOOy\n",
       "UCgJOgqpXheFziEx2n0RB3gF3HNWqWeESdqWu19UcbnJJ41NMV0n54rVXq0xbq92sxMNuRXyCmQm\n",
       "+7O6ugXoctDuYklchnya4mmOoCkA210V+hgPw2c3nMGETfC2tfiyALls1L2M7nntICOl0MBEya1I\n",
       "FFwtq8KZ3waUUtZkfG1a8DIrENu9QyQ2WNkT+5e6/hCtzTEUe2U4hLvu7213Nwupdq1NLkoAnqrH\n",
       "fNhrn6b/C/jevx1+PgH43dgPRjwFa8EbQqK3x9GzUSN1w07+A+o+9T53eMyjAAAAAElFTkSuQmCC\n",
       "\" style=\"display:inline;vertical-align:middle;\" /></a><br>"
      ],
      "text/plain": [
       "transitivitySubsetEqSubset: forall_{A, B, C | A subseteq B , B subset C} (A subset C)"
      ]
     },
     "execution_count": 19,
     "metadata": {},
     "output_type": "execute_result"
    }
   ],
   "source": [
    "transitivitySubsetEqSubset = Forall((A, B, C), Subset(A, C), conditions=[SubsetEq(A, B), Subset(B, C)])"
   ]
  },
  {
   "cell_type": "code",
   "execution_count": 20,
   "metadata": {},
   "outputs": [
    {
     "data": {
      "text/html": [
       "<strong id=\"transitivitySubsetSubsetEq\"><a class=\"ProveItLink\" href=\"_proofs_/transitivitySubsetSubsetEq.ipynb\">transitivitySubsetSubsetEq</a>:</strong> <a class=\"ProveItLink\" href=\"__pv_it/04582ff054ca8c286118ae08497adff1dd0ec1bc0/expr.ipynb\"><img src=\"data:image/png;base64,iVBORw0KGgoAAAANSUhEUgAAAPcAAAAXBAMAAAAl5sTiAAAAMFBMVEX///8QEBC6urrMzMxUVFRm\n",
       "ZmZERETc3NwyMjKqqqp2dnaIiIiYmJgiIiLu7u4AAAAU9Wx4AAAAAXRSTlMAQObYZgAAA4NJREFU\n",
       "SMfFVk1IVFEUPvPGN8+ZeT7d9bMwA2tTpIuBFlIOpdIqJ/IpSJESPaGFvkVpEdIEhbQoZ2ObNkZE\n",
       "VjBaSQVCvSKijMoEC0prpIxANEm0TNPOPff9MaPMZqQL77577/nmfuee890zD+B/tsRqbbwljf0J\n",
       "PgNs8DLz3N4wfw2kmpR75QekiFgMcINNL2aePJuHNHsq1XTFAGGfAVGAZpxJdZkn7+OvV4splu+f\n",
       "sOvWoZ97KMYyT55PvdTxy5w/GBkZGaTRGRaTjQCjAPL1lpbWzHMLUXoFgz/5fMdDyyLOsf44gA+P\n",
       "PKtpHzJPLnbSa5t/gUfgvW05TW59AQhEAHYDNNBqG/WXZtSKYu51ee24zg5ha0i3Rv4mtepwEpy1\n",
       "XjV+38QapOsC7zxNswpszCHD2gS9KASFfJF5gOQ8CObRJRkGqGcDn/WzN84OjwFuu+BStaY1YmwN\n",
       "8OVxgIewAkgzXGROTD5bRxAQmgNB8mWMB0gMg0AiKcIDXXKTK8xn4ZqqomCq0K478M00FqbxOObF\n",
       "ySXyUFnZLE1DDvmSVdu8eAuDRg5dyfgQreb0gMgKg7IeuxI3eWAiAsrRnZOTOP4IcNCBK5xxFPPs\n",
       "7XGTY7c2mXwDhbyYkytRsnh7NLL9KIbn7BwBVh0m3eQlvjrw8fwq0yC3OfAgv6rdzGKWaw9b8uPz\n",
       "lvvokFcyhGiGHRp2kSTMoxT19TYS3C48FnkYI3LZTNd8X0XCgWfx8TuX2n0slSfxaefJdCpJKYtN\n",
       "nMmFSa2Dyu8LeES2LlQT2yu3M4lcjgWnoMbMQBTkfAcucg39cZGze0RCbiLHlEHbIuM936SbEPAw\n",
       "V5QhlcOOYCiZmx4kV3pc5BNq9SLsNf3B7FOt4HA/vz1MJeOWlAdAqv+tw7Olc1zu+2320FmV4pDN\n",
       "ZCFTEnQopXzOcZ2DiGEPJFzkNeCdhjumnGIkbRvO819txpPamqSqU3jBKq9WG7VHW3FHQ2oDaREk\n",
       "lP0JXVkHcNUVdgFPtwDfzCqVgNYIOPDm17RbDAJ2welPWwRvWYOvsyBVDnsXoGtG3YNBKTVgrPxm\n",
       "wiFXKuvg2F/DT2IMtKtV5/GC2HB4yoqMUlUbT/5LXbnx0uZqsj0yXMJ1I0KapiVS4alNCqchz9KT\n",
       "Frbb3yH6CuTLw5drp9KQ301eMJY708rkFlzCcGiNq/IlmLVqH6//ADpB8vVFLavxAAAAAElFTkSu\n",
       "QmCC\n",
       "\" style=\"display:inline;vertical-align:middle;\" /></a><br>"
      ],
      "text/plain": [
       "transitivitySubsetSubsetEq: forall_{A, B, C | A subset B , B subseteq C} (A subset C)"
      ]
     },
     "execution_count": 20,
     "metadata": {},
     "output_type": "execute_result"
    }
   ],
   "source": [
    "transitivitySubsetSubsetEq = Forall((A, B, C), Subset(A, C), conditions=[Subset(A, B), SubsetEq(B, C)])"
   ]
  },
  {
   "cell_type": "code",
   "execution_count": 21,
   "metadata": {},
   "outputs": [
    {
     "data": {
      "text/html": [
       "<strong id=\"transitivitySubsetEqSubsetEq\"><a class=\"ProveItLink\" href=\"_proofs_/transitivitySubsetEqSubsetEq.ipynb\">transitivitySubsetEqSubsetEq</a>:</strong> <a class=\"ProveItLink\" href=\"__pv_it/8cc4e87247c3c5949817b90911aaf301cb03e3e50/expr.ipynb\"><img src=\"data:image/png;base64,iVBORw0KGgoAAAANSUhEUgAAAPcAAAAXBAMAAAAl5sTiAAAAMFBMVEX///8QEBC6urrMzMxUVFRm\n",
       "ZmZERETc3NwyMjKqqqp2dnaIiIiYmJgiIiLu7u4AAAAU9Wx4AAAAAXRSTlMAQObYZgAAA4hJREFU\n",
       "SMfFVk1IVFEU/pzxzXNmnk93/SysoNoUNQvBhYRSKa1yohkDKVKi5ybsLVKLCCcopEU5m1q1MFpk\n",
       "BWYU/SDUKyLKqEywoJoaKSOQfki0TNPuPfe+n6ZyWoz04N177j1n7nfOd88584D/+aTn6uAVWfS3\n",
       "2dvPhQe5x/ZXiqn/d5V+pWqrGlUiwFm+PJZ78AJBacFnub6WSqUGhHjKgm+ThQTQwlZqfe7Be8X0\n",
       "cFrMa244mvev2HDBRJ/wUEnmHryERvX4VzE/czUHOSdLgCFAO9PaeiD32L4ETeHwF5rzFzsaZYKP\n",
       "zUCAhTxuGM9zD6500rQqOCWodjVt5NYbIBQF1gGNtNtO44mxeHVEeF1VN2LyIJwcMm0puDse25Fh\n",
       "zp/L8e6r0taivF7sn6RlqQu+3bIPYV4shU6+aIIgrRjhYiqSl0ADFwL2zx4z7poNw2B3dgu46DFX\n",
       "aw2jiWWVhUCxsM0jnn1QxzLBX9sh+JhpIcLky7AgSKmEj5JkNQvohBdcZz77BEmIMb3pmi8n2TfK\n",
       "wpGFU0TgpevXj9Oy0AWfsXubn1Vh2CqkkuweFGY9UHhj0BeyodwLHvoQxTspvwC2uea6QBxi9+zv\n",
       "8YKzYb4Iya2nRUR5RIDrCeLE32OQ7lME93gcId4dPnrBywP1uC5JGIXW7pqHxdEXuEa26zy+FWTv\n",
       "E/GDAQe8hlsoknY0rqVikKGs7r3cRCE5jccGr2SMbJTXNdlbnXbN84X81JPtAX6V+9jbITvLZltT\n",
       "wbnp5unCU+04td/7uEm6LpZN/KyizgxwLRn+jC3yBhLQSlxzReTQdw84ryNK5N2SiqVHZXvVWJ0v\n",
       "M6UJ8rgr+mBcmO1kVHLK8hi43uMB/xCvncZJ6U8UOvUKYR4U1cOzZMRO5X6oDd9M3J05nNkCSg/F\n",
       "6ZoKeFpodAkmKqheJ0SeQ2G0h9Ie8C3wj9qlXpSk1HbMxf3XSj7pmZe1Dw050kp2oqW2Q52GytJ+\n",
       "r6kvAE57aPex6Kag7iJ/2tI4EIVr3vKITksi5DScvqzg523h7TjUmpf+KXSNxTcwUiosDFedS7vg\n",
       "ek099vywoFWzJhPqiMeOsAJxzHGHNxk9Vted+Zdqd9tUyv1LlRWTyHBGcyTLk7h/9V2bJS61Mkvg\n",
       "+WbGRpnzHWL+C3jZbIfvzwJ+KXPD+lNMXvAWQ/T2X81Vvts0J1+C+XP28foTqQ76FqsjuQQAAAAA\n",
       "SUVORK5CYII=\n",
       "\" style=\"display:inline;vertical-align:middle;\" /></a><br>"
      ],
      "text/plain": [
       "transitivitySubsetEqSubsetEq: forall_{A, B, C | A subseteq B , B subseteq C} (A subseteq C)"
      ]
     },
     "execution_count": 21,
     "metadata": {},
     "output_type": "execute_result"
    }
   ],
   "source": [
    "transitivitySubsetEqSubsetEq = Forall((A, B, C), SubsetEq(A, C), conditions=[SubsetEq(A, B), SubsetEq(B, C)])"
   ]
  },
  {
   "cell_type": "code",
   "execution_count": 22,
   "metadata": {},
   "outputs": [
    {
     "data": {
      "text/html": [
       "<strong id=\"transitivitySupsetSupset\"><a class=\"ProveItLink\" href=\"_proofs_/transitivitySupsetSupset.ipynb\">transitivitySupsetSupset</a>:</strong> <a class=\"ProveItLink\" href=\"__pv_it/19d8e031e58ea3a131940139545bec2dabc335d60/expr.ipynb\"><img src=\"data:image/png;base64,iVBORw0KGgoAAAANSUhEUgAAAPcAAAAXBAMAAAAl5sTiAAAAMFBMVEX///8QEBC6urrMzMxUVFRm\n",
       "ZmZERETc3NwyMjKqqqp2dnaIiIiYmJgiIiLu7u4AAAAU9Wx4AAAAAXRSTlMAQObYZgAAA4VJREFU\n",
       "SMfFVkloFEEUfelJTycznY43l4NG0JNbDlEhIgnGqCczQjpCUIzbeNM+uCLBCEoQQXNJTh7iAm4Q\n",
       "I4oecrD1IC6IEVFEjU5wQQiOYkg0Gpdfv7p7anqMuUzwQ1fVVL2u9+vV/78H+J+WmqiN54yzfoue\n",
       "XjG4n3/uSLXsenOXrGu164yEXg6cFz+P5Z+8SEpa9Dl36aQLbY2LFmA3/TKa8k/eI7sHv3JWPryi\n",
       "5pKDe9JDvS3/5NO5Ndq/cj+vr6/vqLdyUGgyE+gHzLN79jTnn1tr4S4e/xJMDTzmTh8R7S4gSkce\n",
       "Tiaf559c7+RufvFoZq7ZEe0BdusNEEsANcA2XmvltmPIXlEuva5tHBBwLYghxx8V77DrN4fgwq7a\n",
       "Xdc9rMtxXRb5oajBCbDB9TchL2bBYl9MKZA5CfFJnCQvgY1iEPVfflgW7HMTuJwNF7bURdT7UcBY\n",
       "DcaQIgen3Wv/CBpBSxBnX95JgfRqaBwkC+hAHSq5RT6/s+3TYlxP604At2y7kdDaIB3HS5xSJq9Y\n",
       "vnxYIa8RzW+/tkUoC+NuCadk1xOeLemGLjy0plGzRCWPfUzASqcrV9P4BbBegafTb86k0E/3HOlW\n",
       "yamZEiafwZKXS3KrpYJV7k4y4FM57ogzxUR1SKvkS6LyVIvonUGYrVlwRJpwSfjslesCkb3F9DwK\n",
       "y14nELonO7YtE3OF3lEW9FzdzkcKCo9PXq3LUhkrg/ajZ0UqCw6cwlOFJyquch89xzNzxQnRVglt\n",
       "ukS4iFBr5z3v4gYjzlE0iX1LO0PkZltclspIJ2ItMKdnwYFKfFfIRR5xIO/IfLnm8dCkPJ/teBAU\n",
       "CFesJ7aEbSUphWQFRG51K+Qf7QZZKo0EonT7XCsCuCgbIkoG/FDuhbHxm4Pbvw/73Au9L0jFIZvf\n",
       "KBJhYfIlOKjifB2RcQ6dZI+lFPK1iAxK9VyUtnFoK3DgBBo8PdkmZ9UcKq/PloXqUH8wmktCu0Yr\n",
       "jF8wKOz3OtZU4LQiu0aXKJMxmsKBFJoTyMCFbUd/G2JBwbk3bhG86A/eDsOoexkZxbkhexWJUkUp\n",
       "XXshlSG36pqw86eIImMTYsft+iN0+QGcbHcZrPrGrvAndWyTpU0xMxi5SuAqgPfJ5BYnB24lk8mV\n",
       "oa2M6nHIC53QxOLgf4jzd/Ix4H+z/eOQXwlPuLkS/Ivcnfi/mIUTtvMfmITyWamZ550AAAAASUVO\n",
       "RK5CYII=\n",
       "\" style=\"display:inline;vertical-align:middle;\" /></a><br>"
      ],
      "text/plain": [
       "transitivitySupsetSupset: forall_{A, B, C | A supset B , B supset C} (A supset C)"
      ]
     },
     "execution_count": 22,
     "metadata": {},
     "output_type": "execute_result"
    }
   ],
   "source": [
    "transitivitySupsetSupset = Forall((A, B, C), Superset(A, C), conditions=[Superset(A, B), Superset(B, C)])"
   ]
  },
  {
   "cell_type": "code",
   "execution_count": 23,
   "metadata": {},
   "outputs": [
    {
     "data": {
      "text/html": [
       "<strong id=\"transitivitySupsetEqSupset\"><a class=\"ProveItLink\" href=\"_proofs_/transitivitySupsetEqSupset.ipynb\">transitivitySupsetEqSupset</a>:</strong> <a class=\"ProveItLink\" href=\"__pv_it/d555d81730b7feaebc927d7bcbbc6c30356460b40/expr.ipynb\"><img src=\"data:image/png;base64,iVBORw0KGgoAAAANSUhEUgAAAPcAAAAXBAMAAAAl5sTiAAAAMFBMVEX///8QEBC6urrMzMxUVFRm\n",
       "ZmZERETc3NwyMjKqqqp2dnaIiIiYmJgiIiLu7u4AAAAU9Wx4AAAAAXRSTlMAQObYZgAAA4VJREFU\n",
       "SMfFVktoE1EUPU06mSaZTt35WWgEdeOvi4qgSINaddcImYpFsaKO4EJn4RcpRlCKCJqNrlzUD/iD\n",
       "WLHoogtHF+IHsSIV0VZTVBCKVSyt/899981MJhO1LlJ8MO+9vHfmnXvPu/dOgP/Z8mN18MxR9m/S\n",
       "0y0m98rPHU7Kobt0S7/asEZNKbXAefHzSPnJq6SkVe9Lt07aCK20kQF20i+1pfzkXXK4/6Nk581z\n",
       "6i5ZuCstVLLlJ5/MvXrsI4+z+/r6Djs7+4UmU4F+QDu7a1dr+blDGR7i8Q/e0sAjHpTPot8BRMjl\n",
       "EdN8Wn5ypZ2HOdFvhbVWS/T72KyXQCwFLAE2814b98eHjWW10uqG5gEBD3kxZLmz6DYjvSEAF63T\n",
       "yF1zsDbHdSL81acGJ8A62z2ErJgGnW3RpEDaOMTHcZL0AuvFJOK+/CCBGaa5RVzZDeByMVy0RTYi\n",
       "zo+KBNNBHfbJwWn3wnUhRNBqxNmW11IgJYkQB8lccui4n1yXNoeFy2natzy4bhjNhA4NkTtO4tQw\n",
       "ed3SpSM+8iWi++nWtjBlYdyu5pTM9fBqdQcUYaE+ibqFfvLY25RMFXqeAWt98MHBl2fy6Kd7Dnf4\n",
       "yambECSfwpLXSnI9U8cOdZgMeFeL28KnmKgOg37yhRHplZaFPgStrQiOcAsuCZudcl0hsjdKz8Og\n",
       "7I0CoTiyY/NisVbpuDK3q3Mru+QVHpc8qchSqaYQ+tq1LF8EB07hsY8nIq5oDz1HC2tRVq5eaJMT\n",
       "TohQO8Zn3sF1RpyjaBLn1rQHyLVsXJZKtR2xDLTJRXBgAb74yEUecSBvK3y5ZvNUozyfbjkQVAhT\n",
       "9B5DwjaRlEKyCiLXO3zkb40mWSrjCURS0LlWeHBRNkSUDLih3A11/ScLt34edLnnOV+QugMGv1El\n",
       "wkLjS7BQz/n6WcY5FJI9lveRr0J4iCf0NajJcmj74MAJNDl6chtfVHOovD5ZHKhD/d5sFp1oq21Q\n",
       "f0ClsN9t6ROB0z7ZQ3SJnIwDdMf78mhNoQAXbSv6s4h5BefuqEXwojt5NQK1sTf8DeeGjRUkSr2N\n",
       "1w0X8gVyvbEF27/bVGRWkyJHjfQhCnAPLvRIQE8354Kf1D83Wdp8TfNmti9w//i+C9dN01we2FOT\n",
       "o5BXWoGF+d7/EOtfyOf/7fC9o5BfCS7YpRIUk5Ps5sbfyTNWrXLMTv4FCcPx4vdhEIcAAAAASUVO\n",
       "RK5CYII=\n",
       "\" style=\"display:inline;vertical-align:middle;\" /></a><br>"
      ],
      "text/plain": [
       "transitivitySupsetEqSupset: forall_{A, B, C | A supseteq B , B supset C} (A supset C)"
      ]
     },
     "execution_count": 23,
     "metadata": {},
     "output_type": "execute_result"
    }
   ],
   "source": [
    "transitivitySupsetEqSupset = Forall((A, B, C), Superset(A, C), conditions=[SupersetEq(A, B), Superset(B, C)])"
   ]
  },
  {
   "cell_type": "code",
   "execution_count": 24,
   "metadata": {},
   "outputs": [
    {
     "data": {
      "text/html": [
       "<strong id=\"transitivitySupsetSupsetEq\"><a class=\"ProveItLink\" href=\"_proofs_/transitivitySupsetSupsetEq.ipynb\">transitivitySupsetSupsetEq</a>:</strong> <a class=\"ProveItLink\" href=\"__pv_it/6d588616a974adf75c8190f16e101d9e897500fd0/expr.ipynb\"><img src=\"data:image/png;base64,iVBORw0KGgoAAAANSUhEUgAAAPcAAAAXBAMAAAAl5sTiAAAAMFBMVEX///8QEBC6urrMzMxUVFRm\n",
       "ZmZERETc3NwyMjKqqqp2dnaIiIiYmJgiIiLu7u4AAAAU9Wx4AAAAAXRSTlMAQObYZgAAA4RJREFU\n",
       "SMfFVk1IFVEU/pzne6PvjaO7fhZmUKsy38IMivBhKq3yBU5BFGk/0y5nUdkPkkEhEaQbXRsusgK1\n",
       "H2rhoqlF9ENkhBGl9aSMQLRItOz/nHtn5s17Km6edGHuvXPvN/Od891zzgzwP1tisV68ZoH9+3QN\n",
       "8ORJ5rkDMTkMzN7Sb1ftVuPBKHCFby9mnjxHSprzZfbWJRvKdhvNwDG6U+syT94vh6d/Zu18ektd\n",
       "r4XH0sJgW+bJC0Wvtn8TY/Hw8PAFZ+cMa7ISGAG0y42NTZnnVprFEIl89ZbGXoghOMP9USBELk+b\n",
       "5uvMkwc7xbAu91dyrcni/rQw6z0QjgNbgENir0X0HVNGdVRaXbVrjOGKF0OWO8ttMGr3p8G53TJ6\n",
       "7jhYW8R1UeCnTw2RAHtt9yVkxSrowhZNCqQVIFIgkmQIqOdJyH34WZH3nnvA9SRcMU2zh2422wgV\n",
       "SECWwCpQp3xyiLR757qgEDQPEWHLqBQoGIMigqSEHOrwk+tk86hhdPG8lvatFHhZFMokueMkTr4g\n",
       "L62snPaRb+Hur1vbApSFETtPpGTPoFjN60OQLdSXU7fJTx4ej0OfmNi4jeZvgD0pcJZvhM450Ocn\n",
       "p25pOvkKIXlUkuvNpULlPlMAPkfxkH0Kc3WY8JNvCkmvyuiZSWgtKXDgEXrZBqdcZ3H25tL1PF32\n",
       "GkYEHdlxqILXsh1XSvpvHRYueYXHJY9JFxEugvKzvzqRAufkeenjCfFRnqCrNbmWG+e+nLXhCNE4\n",
       "1NoHpOF3BaKboonfm9+ZRq61RWSpDHQi3AytMAUOnMQPHznnkQjkhuSXq1hMNcrz1ZYDQRabog8a\n",
       "EnaQpGTJsohc7/ORjxs7ZKlU4wjR6Yta4cGBG+AoGXNDeQBq/XcLD/6ec7nXO1+Q0rOGeCKHw0IT\n",
       "h2ChXOTrjIxzBEn2cMJHvhOBSamejfw2Edo+OH8fdjh6irYkpeZQeX1VkVaHRrzZWhLaVlug/oFK\n",
       "YX/c0pcBXT7ZFTpEmYyhBE4n0BRHEs6fyQRG2hD2Cs7jBYvgNXfyYRpqzVDgF7qnjK0kSjmldNXV\n",
       "RJJcr6nDkd8cReo+hFuN2vN0+C6cisxBekiv3dWT/kmdv8nS5muaN7N9gesDfDTNA9Yc8NlNjS1A\n",
       "nm2lLWzw/kOsucnngc/VTi1AfjN9wZ7Lp/nJXTjXdjOGxWjZi/bz+g/4E/LhXLlb7AAAAABJRU5E\n",
       "rkJggg==\n",
       "\" style=\"display:inline;vertical-align:middle;\" /></a><br>"
      ],
      "text/plain": [
       "transitivitySupsetSupsetEq: forall_{A, B, C | A supset B , B supseteq C} (A supset C)"
      ]
     },
     "execution_count": 24,
     "metadata": {},
     "output_type": "execute_result"
    }
   ],
   "source": [
    "transitivitySupsetSupsetEq = Forall((A, B, C), Superset(A, C), conditions=[Superset(A, B), SupersetEq(B, C)])"
   ]
  },
  {
   "cell_type": "code",
   "execution_count": 25,
   "metadata": {},
   "outputs": [
    {
     "data": {
      "text/html": [
       "<strong id=\"transitivitySupsetEqSupsetEq\"><a class=\"ProveItLink\" href=\"_proofs_/transitivitySupsetEqSupsetEq.ipynb\">transitivitySupsetEqSupsetEq</a>:</strong> <a class=\"ProveItLink\" href=\"__pv_it/4ed2efc8a98a7b4109ffccd148517cee3b19261c0/expr.ipynb\"><img src=\"data:image/png;base64,iVBORw0KGgoAAAANSUhEUgAAAPcAAAAXBAMAAAAl5sTiAAAAMFBMVEX///8QEBC6urrMzMxUVFRm\n",
       "ZmZERETc3NwyMjKqqqp2dnaIiIiYmJgiIiLu7u4AAAAU9Wx4AAAAAXRSTlMAQObYZgAAA4ZJREFU\n",
       "SMfFVk1IVFEU/nzjzNOZ59NdP4syqDb9zcJqIeFQGu2cwCmKoqJ6QYt8i8p+EA0KiaBmY2ujRVag\n",
       "9kMtXPRqEf0QGVFEZY2UEIgViZZZ1jnnvjfzZsxsMdKFd+99937vfvd895xzH/A/S2q6Fl40xfwd\n",
       "enq48zD/3IGYanomTpk3arbo8WAUuMivp/NPXqQkLfo8ceqcA229g2bgIL3p2/NP3q2aR+MTZj68\n",
       "oarTxgO1w2Ay/+RzpNZbv0q7pLe395Q7c4w1mQf0AcaFhobG/HNrzdJEIl/SQwNPpQmOcn0ACJHJ\n",
       "I5b1Mv/kwTZplhb/yIw12lw3ybbeAeE4sAbYI3MtUp8dTqyNql3XbB5guJb2IdvrFdcn6nbmwLlc\n",
       "T3TcdLGO+HV5YMynhgTANsdbhHYxH6bsxVACGWWIlEmQvAZ2cCfkffy4HAstay8f2W3gSgauWZbV\n",
       "QS+rHITKFLagXOigD/vkkLB765mgEbQEEdlLvxIoGIMmTrKMDDrrJzfVngNsch3N21nwFVFoQ2SO\n",
       "GzilQl5RXT3iI1/D1S8vtwUoCiNOiYRkxzMZLelCkHdozqaq0k8eHoyrUKHnFbA1C87y9dE5B7r8\n",
       "5FTNzCWfK5JHFbnZXCEGdVkC+BTFPbYpzNnho5+8MqSsMpIwh2C0ZMGB++jkPbjpuoCjt5ieJ7my\n",
       "1zIi6MqOPat5rNA1ZVn39X1iUjrxeOQxZSL0OLSx7rWpLDgHz3MfT4iP6DA9ZzJjxaJcFWvDHmKw\n",
       "q7X2qI3fEkQ7eROvW9qWQ24kIypV6m0IN8OYkwUHjuC7j5zjSBy5PnNzLZGuQXG+wHYhKOCtmM8S\n",
       "CrabpGTJCojc7PKRDyY2qFQZKUcoDlNyRRoOXAV7yYDnyj3Qd3yzcffXCY97uXuDVBxPyBdF7BaG\n",
       "HIKNKonXUeXnCJLs4ZSPfCMCQ9Kh26A0Ka7tg/P9sMHVU8qMrJxD6fXF6pw81JfuLaYVHb0F+jh0\n",
       "cvtDtjkLOO+TXaNDlGAcoDNuSqExjgycr8kU+pIIpxPOgymT4GWv834Eeu3rwA+0DyfWkShVDvpr\n",
       "LqUy5Gbtduz/6VCS2USKnEnUnaQA8eCUZHbTR2bd5o7cK3XyolKbrxjpnuNz3Em/N/6yth6bgrzQ\n",
       "zhlYmf4Psf+FfOXfFj86Bfm13AHnTzb5yUl2a9cEOOd2K4bpKIXT9vP6G2lS8mrAHQ2zAAAAAElF\n",
       "TkSuQmCC\n",
       "\" style=\"display:inline;vertical-align:middle;\" /></a><br>"
      ],
      "text/plain": [
       "transitivitySupsetEqSupsetEq: forall_{A, B, C | A supseteq B , B supseteq C} (A supset C)"
      ]
     },
     "execution_count": 25,
     "metadata": {},
     "output_type": "execute_result"
    }
   ],
   "source": [
    "transitivitySupsetEqSupsetEq = Forall((A, B, C), Superset(A, C), conditions=[SupersetEq(A, B), SupersetEq(B, C)])"
   ]
  },
  {
   "cell_type": "code",
   "execution_count": 26,
   "metadata": {},
   "outputs": [
    {
     "name": "stdout",
     "output_type": "stream",
     "text": [
      "Theorems may be imported from autogenerated _theorems_.py\n"
     ]
    }
   ],
   "source": [
    "%end theorems"
   ]
  },
  {
   "cell_type": "code",
   "execution_count": null,
   "metadata": {},
   "outputs": [],
   "source": []
  }
 ],
 "metadata": {
  "kernelspec": {
   "display_name": "Python 3",
   "language": "python",
   "name": "python3"
  }
 },
 "nbformat": 4,
 "nbformat_minor": 0
}
