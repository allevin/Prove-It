{
 "cells": [
  {
   "cell_type": "markdown",
   "metadata": {
    "collapsed": true,
    "deletable": true,
    "editable": true
   },
   "source": [
    "Theorems for context <a href=\"_context_.ipynb\" class=\"ProveItLink\">proveit.logic.set_theory.containment</a>\n",
    "========"
   ]
  },
  {
   "cell_type": "code",
   "execution_count": 1,
   "metadata": {
    "collapsed": false,
    "deletable": true,
    "editable": true
   },
   "outputs": [
    {
     "name": "stdout",
     "output_type": "stream",
     "text": [
      "Defining theorems for context 'proveit.logic.set_theory.containment'\n",
      "Subsequent end-of-cell assignments will define theorems\n",
      "'%end theorems' will finalize the definitions\n"
     ]
    }
   ],
   "source": [
    "from proveit.logic import Forall, Implies, InSet, Equals, Not\n",
    "from proveit.logic import SubsetEq, SupersetEq, Subset, Superset, NotSubsetEq, NotSupersetEq\n",
    "from proveit._common_ import A, B, C, x\n",
    "%begin theorems"
   ]
  },
  {
   "cell_type": "code",
   "execution_count": 2,
   "metadata": {
    "collapsed": false,
    "deletable": true,
    "editable": true
   },
   "outputs": [
    {
     "data": {
      "text/html": [
       "<strong id=\"unfoldSubsetEq\"><a class=\"ProveItLink\" href=\"_proofs_/unfoldSubsetEq.ipynb\">unfoldSubsetEq</a>:</strong> <a class=\"ProveItLink\" href=\"__pv_it/67342f0bef15059dc7c32a0510b549ef1bf01a1e0/expr.ipynb\"><img src=\"__pv_it/67342f0bef15059dc7c32a0510b549ef1bf01a1e0/expr.png\" style=\"display:inline;vertical-align:middle;\" /></a><br>"
      ],
      "text/plain": [
       "unfoldSubsetEq: forall_{A, B | A subseteq B} [forall_{x in A} (x in B)]"
      ]
     },
     "execution_count": 2,
     "metadata": {},
     "output_type": "execute_result"
    }
   ],
   "source": [
    "unfoldSubsetEq = Forall((A, B), Forall(x, InSet(x, B), A), conditions=SubsetEq(A, B))"
   ]
  },
  {
   "cell_type": "code",
   "execution_count": 3,
   "metadata": {
    "collapsed": false,
    "deletable": true,
    "editable": true
   },
   "outputs": [
    {
     "data": {
      "text/html": [
       "<strong id=\"foldSubsetEq\"><a class=\"ProveItLink\" href=\"_proofs_/foldSubsetEq.ipynb\">foldSubsetEq</a>:</strong> <a class=\"ProveItLink\" href=\"__pv_it/8668b7e78be1ec1155d0dcbf43e45999e8665ca80/expr.ipynb\"><img src=\"__pv_it/8668b7e78be1ec1155d0dcbf43e45999e8665ca80/expr.png\" style=\"display:inline;vertical-align:middle;\" /></a><br>"
      ],
      "text/plain": [
       "foldSubsetEq: forall_{A, B} ([forall_{x in A} (x in B)] => (A subseteq B))"
      ]
     },
     "execution_count": 3,
     "metadata": {},
     "output_type": "execute_result"
    }
   ],
   "source": [
    "foldSubsetEq = Forall((A, B), Implies(Forall(x, InSet(x, B), A), SubsetEq(A, B)))"
   ]
  },
  {
   "cell_type": "code",
   "execution_count": 4,
   "metadata": {
    "collapsed": false,
    "deletable": true,
    "editable": true
   },
   "outputs": [
    {
     "data": {
      "text/html": [
       "<strong id=\"unfoldSupsetEq\"><a class=\"ProveItLink\" href=\"_proofs_/unfoldSupsetEq.ipynb\">unfoldSupsetEq</a>:</strong> <a class=\"ProveItLink\" href=\"__pv_it/8e998c6107b9a78eda62bf83b80b02e2d0381cd80/expr.ipynb\"><img src=\"__pv_it/8e998c6107b9a78eda62bf83b80b02e2d0381cd80/expr.png\" style=\"display:inline;vertical-align:middle;\" /></a><br>"
      ],
      "text/plain": [
       "unfoldSupsetEq: forall_{A, B | A supseteq B} [forall_{x in B} (x in A)]"
      ]
     },
     "execution_count": 4,
     "metadata": {},
     "output_type": "execute_result"
    }
   ],
   "source": [
    "unfoldSupsetEq = Forall((A, B), Forall(x, InSet(x, A), B), conditions=SupersetEq(A, B))"
   ]
  },
  {
   "cell_type": "code",
   "execution_count": 5,
   "metadata": {
    "collapsed": false,
    "deletable": true,
    "editable": true
   },
   "outputs": [
    {
     "data": {
      "text/html": [
       "<strong id=\"foldSupsetEq\"><a class=\"ProveItLink\" href=\"_proofs_/foldSupsetEq.ipynb\">foldSupsetEq</a>:</strong> <a class=\"ProveItLink\" href=\"__pv_it/6a42906cbe3964572135229e90742a4df91c3c910/expr.ipynb\"><img src=\"__pv_it/6a42906cbe3964572135229e90742a4df91c3c910/expr.png\" style=\"display:inline;vertical-align:middle;\" /></a><br>"
      ],
      "text/plain": [
       "foldSupsetEq: forall_{A, B} ([forall_{x in B} (x in A)] => (A supseteq B))"
      ]
     },
     "execution_count": 5,
     "metadata": {},
     "output_type": "execute_result"
    }
   ],
   "source": [
    "foldSupsetEq = Forall((A, B), Implies(Forall(x, InSet(x, A), B), SupersetEq(A, B)))"
   ]
  },
  {
   "cell_type": "code",
   "execution_count": 6,
   "metadata": {
    "collapsed": false,
    "deletable": true,
    "editable": true
   },
   "outputs": [
    {
     "data": {
      "text/html": [
       "<strong id=\"unfoldNotSubsetEq\"><a class=\"ProveItLink\" href=\"_proofs_/unfoldNotSubsetEq.ipynb\">unfoldNotSubsetEq</a>:</strong> <a class=\"ProveItLink\" href=\"__pv_it/d22a790c40f83498f1e3b0452f24395660d4adeb0/expr.ipynb\"><img src=\"__pv_it/d22a790c40f83498f1e3b0452f24395660d4adeb0/expr.png\" style=\"display:inline;vertical-align:middle;\" /></a><br>"
      ],
      "text/plain": [
       "unfoldNotSubsetEq: forall_{A, B | A nsubseteq B} [not](A subseteq B)"
      ]
     },
     "execution_count": 6,
     "metadata": {},
     "output_type": "execute_result"
    }
   ],
   "source": [
    "unfoldNotSubsetEq = Forall((A, B), Not(SubsetEq(A, B)), conditions=[NotSubsetEq(A, B)])"
   ]
  },
  {
   "cell_type": "code",
   "execution_count": 7,
   "metadata": {
    "collapsed": false,
    "deletable": true,
    "editable": true
   },
   "outputs": [
    {
     "data": {
      "text/html": [
       "<strong id=\"foldNotSubsetEq\"><a class=\"ProveItLink\" href=\"_proofs_/foldNotSubsetEq.ipynb\">foldNotSubsetEq</a>:</strong> <a class=\"ProveItLink\" href=\"__pv_it/cac2856e4f12a102eb0c077582a6786ddeaea9b80/expr.ipynb\"><img src=\"__pv_it/cac2856e4f12a102eb0c077582a6786ddeaea9b80/expr.png\" style=\"display:inline;vertical-align:middle;\" /></a><br>"
      ],
      "text/plain": [
       "foldNotSubsetEq: forall_{A, B | [not](A subseteq B)} (A nsubseteq B)"
      ]
     },
     "execution_count": 7,
     "metadata": {},
     "output_type": "execute_result"
    }
   ],
   "source": [
    "foldNotSubsetEq = Forall((A, B), NotSubsetEq(A, B), conditions=[Not(SubsetEq(A, B))])"
   ]
  },
  {
   "cell_type": "code",
   "execution_count": 8,
   "metadata": {
    "collapsed": false,
    "deletable": true,
    "editable": true
   },
   "outputs": [
    {
     "data": {
      "text/html": [
       "<strong id=\"unfoldNotSupsetEq\"><a class=\"ProveItLink\" href=\"_proofs_/unfoldNotSupsetEq.ipynb\">unfoldNotSupsetEq</a>:</strong> <a class=\"ProveItLink\" href=\"__pv_it/a85abfa074b5bc7836fb4d4c604e27c21d8952430/expr.ipynb\"><img src=\"__pv_it/a85abfa074b5bc7836fb4d4c604e27c21d8952430/expr.png\" style=\"display:inline;vertical-align:middle;\" /></a><br>"
      ],
      "text/plain": [
       "unfoldNotSupsetEq: forall_{A, B | A nsupseteq B} [not](A supseteq B)"
      ]
     },
     "execution_count": 8,
     "metadata": {},
     "output_type": "execute_result"
    }
   ],
   "source": [
    "unfoldNotSupsetEq = Forall((A, B), Not(SupersetEq(A, B)), conditions=[NotSupersetEq(A, B)])"
   ]
  },
  {
   "cell_type": "code",
   "execution_count": 9,
   "metadata": {
    "collapsed": false,
    "deletable": true,
    "editable": true
   },
   "outputs": [
    {
     "data": {
      "text/html": [
       "<strong id=\"foldNotSupsetEq\"><a class=\"ProveItLink\" href=\"_proofs_/foldNotSupsetEq.ipynb\">foldNotSupsetEq</a>:</strong> <a class=\"ProveItLink\" href=\"__pv_it/b34189b02e6def79fb90a6c9e36c978e6d0c1fcd0/expr.ipynb\"><img src=\"__pv_it/b34189b02e6def79fb90a6c9e36c978e6d0c1fcd0/expr.png\" style=\"display:inline;vertical-align:middle;\" /></a><br>"
      ],
      "text/plain": [
       "foldNotSupsetEq: forall_{A, B | [not](A supseteq B)} (A nsupseteq B)"
      ]
     },
     "execution_count": 9,
     "metadata": {},
     "output_type": "execute_result"
    }
   ],
   "source": [
    "foldNotSupsetEq = Forall((A, B), NotSupersetEq(A, B), conditions=[Not(SupersetEq(A, B))])"
   ]
  },
  {
   "cell_type": "code",
   "execution_count": 10,
   "metadata": {
    "collapsed": false,
    "deletable": true,
    "editable": true
   },
   "outputs": [
    {
     "data": {
      "text/html": [
       "<strong id=\"reverseSubset\"><a class=\"ProveItLink\" href=\"_proofs_/reverseSubset.ipynb\">reverseSubset</a>:</strong> <a class=\"ProveItLink\" href=\"__pv_it/f624e1bac974a30109d71882520a0ec6cbc091280/expr.ipynb\"><img src=\"__pv_it/f624e1bac974a30109d71882520a0ec6cbc091280/expr.png\" style=\"display:inline;vertical-align:middle;\" /></a><br>"
      ],
      "text/plain": [
       "reverseSubset: forall_{A, B | A subset B} (B supset A)"
      ]
     },
     "execution_count": 10,
     "metadata": {},
     "output_type": "execute_result"
    }
   ],
   "source": [
    "reverseSubset = Forall((A, B), Superset(B, A), conditions=[Subset(A, B)])"
   ]
  },
  {
   "cell_type": "code",
   "execution_count": 11,
   "metadata": {
    "collapsed": false,
    "deletable": true,
    "editable": true
   },
   "outputs": [
    {
     "data": {
      "text/html": [
       "<strong id=\"reverseSubsetEq\"><a class=\"ProveItLink\" href=\"_proofs_/reverseSubsetEq.ipynb\">reverseSubsetEq</a>:</strong> <a class=\"ProveItLink\" href=\"__pv_it/b1b754ca68275b3f5002c074922c6a90c81e73310/expr.ipynb\"><img src=\"__pv_it/b1b754ca68275b3f5002c074922c6a90c81e73310/expr.png\" style=\"display:inline;vertical-align:middle;\" /></a><br>"
      ],
      "text/plain": [
       "reverseSubsetEq: forall_{A, B | A subseteq B} (B supseteq A)"
      ]
     },
     "execution_count": 11,
     "metadata": {},
     "output_type": "execute_result"
    }
   ],
   "source": [
    "reverseSubsetEq = Forall((A, B), SupersetEq(B, A), conditions=[SubsetEq(A, B)])"
   ]
  },
  {
   "cell_type": "code",
   "execution_count": 12,
   "metadata": {
    "collapsed": false,
    "deletable": true,
    "editable": true
   },
   "outputs": [
    {
     "data": {
      "text/html": [
       "<strong id=\"reverseSupset\"><a class=\"ProveItLink\" href=\"_proofs_/reverseSupset.ipynb\">reverseSupset</a>:</strong> <a class=\"ProveItLink\" href=\"__pv_it/78012df858b265f60d357407b728ae63d7f72c010/expr.ipynb\"><img src=\"__pv_it/78012df858b265f60d357407b728ae63d7f72c010/expr.png\" style=\"display:inline;vertical-align:middle;\" /></a><br>"
      ],
      "text/plain": [
       "reverseSupset: forall_{A, B | A supset B} (B subset A)"
      ]
     },
     "execution_count": 12,
     "metadata": {},
     "output_type": "execute_result"
    }
   ],
   "source": [
    "reverseSupset = Forall((A, B), Subset(B, A), conditions=[Superset(A, B)])"
   ]
  },
  {
   "cell_type": "code",
   "execution_count": 13,
   "metadata": {
    "collapsed": false,
    "deletable": true,
    "editable": true
   },
   "outputs": [
    {
     "data": {
      "text/html": [
       "<strong id=\"reverseSupsetEq\"><a class=\"ProveItLink\" href=\"_proofs_/reverseSupsetEq.ipynb\">reverseSupsetEq</a>:</strong> <a class=\"ProveItLink\" href=\"__pv_it/1c739db602352a9ad52c7eccda6544aad1a270660/expr.ipynb\"><img src=\"__pv_it/1c739db602352a9ad52c7eccda6544aad1a270660/expr.png\" style=\"display:inline;vertical-align:middle;\" /></a><br>"
      ],
      "text/plain": [
       "reverseSupsetEq: forall_{A, B | A supseteq B} (B subseteq A)"
      ]
     },
     "execution_count": 13,
     "metadata": {},
     "output_type": "execute_result"
    }
   ],
   "source": [
    "reverseSupsetEq = Forall((A, B), SubsetEq(B, A), conditions=[SupersetEq(A, B)])"
   ]
  },
  {
   "cell_type": "code",
   "execution_count": 14,
   "metadata": {
    "collapsed": false,
    "deletable": true,
    "editable": true
   },
   "outputs": [
    {
     "data": {
      "text/html": [
       "<strong id=\"relaxSubset\"><a class=\"ProveItLink\" href=\"_proofs_/relaxSubset.ipynb\">relaxSubset</a>:</strong> <a class=\"ProveItLink\" href=\"__pv_it/39f22bc845071a9a6c3f6c40fb370230473889bc0/expr.ipynb\"><img src=\"__pv_it/39f22bc845071a9a6c3f6c40fb370230473889bc0/expr.png\" style=\"display:inline;vertical-align:middle;\" /></a><br>"
      ],
      "text/plain": [
       "relaxSubset: forall_{A, B | A subset B} (A subseteq B)"
      ]
     },
     "execution_count": 14,
     "metadata": {},
     "output_type": "execute_result"
    }
   ],
   "source": [
    "relaxSubset = Forall((A, B), SubsetEq(A, B), conditions=[Subset(A, B)])"
   ]
  },
  {
   "cell_type": "code",
   "execution_count": 15,
   "metadata": {
    "collapsed": false,
    "deletable": true,
    "editable": true
   },
   "outputs": [
    {
     "data": {
      "text/html": [
       "<strong id=\"relaxSupset\"><a class=\"ProveItLink\" href=\"_proofs_/relaxSupset.ipynb\">relaxSupset</a>:</strong> <a class=\"ProveItLink\" href=\"__pv_it/487e8c4c78b26fa40b195c2d78611a65dcbe485b0/expr.ipynb\"><img src=\"__pv_it/487e8c4c78b26fa40b195c2d78611a65dcbe485b0/expr.png\" style=\"display:inline;vertical-align:middle;\" /></a><br>"
      ],
      "text/plain": [
       "relaxSupset: forall_{A, B | A supset B} (A supseteq B)"
      ]
     },
     "execution_count": 15,
     "metadata": {},
     "output_type": "execute_result"
    }
   ],
   "source": [
    "relaxSupset = Forall((A, B), SupersetEq(A, B), conditions=[Superset(A, B)])"
   ]
  },
  {
   "cell_type": "code",
   "execution_count": 16,
   "metadata": {
    "collapsed": false,
    "deletable": true,
    "editable": true
   },
   "outputs": [
    {
     "data": {
      "text/html": [
       "<strong id=\"subsetEqViaEquality\"><a class=\"ProveItLink\" href=\"_proofs_/subsetEqViaEquality.ipynb\">subsetEqViaEquality</a>:</strong> <a class=\"ProveItLink\" href=\"__pv_it/a652ba1039d3a3b798dfdc5bb5d236cbb480c3b90/expr.ipynb\"><img src=\"__pv_it/a652ba1039d3a3b798dfdc5bb5d236cbb480c3b90/expr.png\" style=\"display:inline;vertical-align:middle;\" /></a><br>"
      ],
      "text/plain": [
       "subsetEqViaEquality: forall_{A, B | A = B} (A subseteq B)"
      ]
     },
     "execution_count": 16,
     "metadata": {},
     "output_type": "execute_result"
    }
   ],
   "source": [
    "subsetEqViaEquality = Forall((A, B), SubsetEq(A, B), conditions=[Equals(A, B)])"
   ]
  },
  {
   "cell_type": "code",
   "execution_count": 17,
   "metadata": {
    "collapsed": false,
    "deletable": true,
    "editable": true
   },
   "outputs": [
    {
     "data": {
      "text/html": [
       "<strong id=\"supersetEqViaEquality\"><a class=\"ProveItLink\" href=\"_proofs_/supersetEqViaEquality.ipynb\">supersetEqViaEquality</a>:</strong> <a class=\"ProveItLink\" href=\"__pv_it/88b8ce1b675fd1f16d73c08ad74dac0c7d00c5300/expr.ipynb\"><img src=\"__pv_it/88b8ce1b675fd1f16d73c08ad74dac0c7d00c5300/expr.png\" style=\"display:inline;vertical-align:middle;\" /></a><br>"
      ],
      "text/plain": [
       "supersetEqViaEquality: forall_{A, B | A = B} (A supseteq B)"
      ]
     },
     "execution_count": 17,
     "metadata": {},
     "output_type": "execute_result"
    }
   ],
   "source": [
    "supersetEqViaEquality = Forall((A, B), SupersetEq(A, B), conditions=[Equals(A, B)])"
   ]
  },
  {
   "cell_type": "code",
   "execution_count": 18,
   "metadata": {
    "collapsed": false,
    "deletable": true,
    "editable": true
   },
   "outputs": [
    {
     "data": {
      "text/html": [
       "<strong id=\"transitivitySubsetSubset\"><a class=\"ProveItLink\" href=\"_proofs_/transitivitySubsetSubset.ipynb\">transitivitySubsetSubset</a>:</strong> <a class=\"ProveItLink\" href=\"__pv_it/8f97037c95a0821764027887325d3ad7e0396d560/expr.ipynb\"><img src=\"__pv_it/8f97037c95a0821764027887325d3ad7e0396d560/expr.png\" style=\"display:inline;vertical-align:middle;\" /></a><br>"
      ],
      "text/plain": [
       "transitivitySubsetSubset: forall_{A, B, C | A subset B , B subset C} (A subset C)"
      ]
     },
     "execution_count": 18,
     "metadata": {},
     "output_type": "execute_result"
    }
   ],
   "source": [
    "transitivitySubsetSubset = Forall((A, B, C), Subset(A, C), conditions=[Subset(A, B), Subset(B, C)])"
   ]
  },
  {
   "cell_type": "code",
   "execution_count": 19,
   "metadata": {
    "collapsed": false,
    "deletable": true,
    "editable": true
   },
   "outputs": [
    {
     "data": {
      "text/html": [
       "<strong id=\"transitivitySubsetEqSubset\"><a class=\"ProveItLink\" href=\"_proofs_/transitivitySubsetEqSubset.ipynb\">transitivitySubsetEqSubset</a>:</strong> <a class=\"ProveItLink\" href=\"__pv_it/53ce911b531f3fb6a0ff95b4d1841025e72461670/expr.ipynb\"><img src=\"__pv_it/53ce911b531f3fb6a0ff95b4d1841025e72461670/expr.png\" style=\"display:inline;vertical-align:middle;\" /></a><br>"
      ],
      "text/plain": [
       "transitivitySubsetEqSubset: forall_{A, B, C | A subseteq B , B subset C} (A subset C)"
      ]
     },
     "execution_count": 19,
     "metadata": {},
     "output_type": "execute_result"
    }
   ],
   "source": [
    "transitivitySubsetEqSubset = Forall((A, B, C), Subset(A, C), conditions=[SubsetEq(A, B), Subset(B, C)])"
   ]
  },
  {
   "cell_type": "code",
   "execution_count": 20,
   "metadata": {
    "collapsed": false,
    "deletable": true,
    "editable": true
   },
   "outputs": [
    {
     "data": {
      "text/html": [
       "<strong id=\"transitivitySubsetSubsetEq\"><a class=\"ProveItLink\" href=\"_proofs_/transitivitySubsetSubsetEq.ipynb\">transitivitySubsetSubsetEq</a>:</strong> <a class=\"ProveItLink\" href=\"__pv_it/46684eab7a9a1ba970b3e0d1a9576b93561096bd0/expr.ipynb\"><img src=\"__pv_it/46684eab7a9a1ba970b3e0d1a9576b93561096bd0/expr.png\" style=\"display:inline;vertical-align:middle;\" /></a><br>"
      ],
      "text/plain": [
       "transitivitySubsetSubsetEq: forall_{A, B, C | A subset B , B subseteq C} (A subset C)"
      ]
     },
     "execution_count": 20,
     "metadata": {},
     "output_type": "execute_result"
    }
   ],
   "source": [
    "transitivitySubsetSubsetEq = Forall((A, B, C), Subset(A, C), conditions=[Subset(A, B), SubsetEq(B, C)])"
   ]
  },
  {
   "cell_type": "code",
   "execution_count": 21,
   "metadata": {
    "collapsed": false,
    "deletable": true,
    "editable": true
   },
   "outputs": [
    {
     "data": {
      "text/html": [
       "<strong id=\"transitivitySubsetEqSubsetEq\"><a class=\"ProveItLink\" href=\"_proofs_/transitivitySubsetEqSubsetEq.ipynb\">transitivitySubsetEqSubsetEq</a>:</strong> <a class=\"ProveItLink\" href=\"__pv_it/b2dad618c7ee822d7bbb86ea0971b893af66afca0/expr.ipynb\"><img src=\"__pv_it/b2dad618c7ee822d7bbb86ea0971b893af66afca0/expr.png\" style=\"display:inline;vertical-align:middle;\" /></a><br>"
      ],
      "text/plain": [
       "transitivitySubsetEqSubsetEq: forall_{A, B, C | A subseteq B , B subseteq C} (A subseteq C)"
      ]
     },
     "execution_count": 21,
     "metadata": {},
     "output_type": "execute_result"
    }
   ],
   "source": [
    "transitivitySubsetEqSubsetEq = Forall((A, B, C), SubsetEq(A, C), conditions=[SubsetEq(A, B), SubsetEq(B, C)])"
   ]
  },
  {
   "cell_type": "code",
   "execution_count": 22,
   "metadata": {
    "collapsed": false,
    "deletable": true,
    "editable": true
   },
   "outputs": [
    {
     "data": {
      "text/html": [
       "<strong id=\"transitivitySupsetSupset\"><a class=\"ProveItLink\" href=\"_proofs_/transitivitySupsetSupset.ipynb\">transitivitySupsetSupset</a>:</strong> <a class=\"ProveItLink\" href=\"__pv_it/a45d281795c5b7c40c3621fbded57edd0a259be80/expr.ipynb\"><img src=\"__pv_it/a45d281795c5b7c40c3621fbded57edd0a259be80/expr.png\" style=\"display:inline;vertical-align:middle;\" /></a><br>"
      ],
      "text/plain": [
       "transitivitySupsetSupset: forall_{A, B, C | A supset B , B supset C} (A supset C)"
      ]
     },
     "execution_count": 22,
     "metadata": {},
     "output_type": "execute_result"
    }
   ],
   "source": [
    "transitivitySupsetSupset = Forall((A, B, C), Superset(A, C), conditions=[Superset(A, B), Superset(B, C)])"
   ]
  },
  {
   "cell_type": "code",
   "execution_count": 23,
   "metadata": {
    "collapsed": false,
    "deletable": true,
    "editable": true
   },
   "outputs": [
    {
     "data": {
      "text/html": [
       "<strong id=\"transitivitySupsetEqSupset\"><a class=\"ProveItLink\" href=\"_proofs_/transitivitySupsetEqSupset.ipynb\">transitivitySupsetEqSupset</a>:</strong> <a class=\"ProveItLink\" href=\"__pv_it/7569bcfe84b0ef255f1e03020bd639a84602c68d0/expr.ipynb\"><img src=\"__pv_it/7569bcfe84b0ef255f1e03020bd639a84602c68d0/expr.png\" style=\"display:inline;vertical-align:middle;\" /></a><br>"
      ],
      "text/plain": [
       "transitivitySupsetEqSupset: forall_{A, B, C | A supseteq B , B supset C} (A supset C)"
      ]
     },
     "execution_count": 23,
     "metadata": {},
     "output_type": "execute_result"
    }
   ],
   "source": [
    "transitivitySupsetEqSupset = Forall((A, B, C), Superset(A, C), conditions=[SupersetEq(A, B), Superset(B, C)])"
   ]
  },
  {
   "cell_type": "code",
   "execution_count": 24,
   "metadata": {
    "collapsed": false,
    "deletable": true,
    "editable": true
   },
   "outputs": [
    {
     "data": {
      "text/html": [
       "<strong id=\"transitivitySupsetSupsetEq\"><a class=\"ProveItLink\" href=\"_proofs_/transitivitySupsetSupsetEq.ipynb\">transitivitySupsetSupsetEq</a>:</strong> <a class=\"ProveItLink\" href=\"__pv_it/feef7558b1cbdc80aa80b53c77f932f66470a30f0/expr.ipynb\"><img src=\"__pv_it/feef7558b1cbdc80aa80b53c77f932f66470a30f0/expr.png\" style=\"display:inline;vertical-align:middle;\" /></a><br>"
      ],
      "text/plain": [
       "transitivitySupsetSupsetEq: forall_{A, B, C | A supset B , B supseteq C} (A supset C)"
      ]
     },
     "execution_count": 24,
     "metadata": {},
     "output_type": "execute_result"
    }
   ],
   "source": [
    "transitivitySupsetSupsetEq = Forall((A, B, C), Superset(A, C), conditions=[Superset(A, B), SupersetEq(B, C)])"
   ]
  },
  {
   "cell_type": "code",
   "execution_count": 25,
   "metadata": {
    "collapsed": false,
    "deletable": true,
    "editable": true
   },
   "outputs": [
    {
     "data": {
      "text/html": [
       "<strong id=\"transitivitySupsetEqSupsetEq\"><a class=\"ProveItLink\" href=\"_proofs_/transitivitySupsetEqSupsetEq.ipynb\">transitivitySupsetEqSupsetEq</a>:</strong> <a class=\"ProveItLink\" href=\"__pv_it/97efc863583bff6e3fab806245cfe17e79bfe5ab0/expr.ipynb\"><img src=\"__pv_it/97efc863583bff6e3fab806245cfe17e79bfe5ab0/expr.png\" style=\"display:inline;vertical-align:middle;\" /></a><br>"
      ],
      "text/plain": [
       "transitivitySupsetEqSupsetEq: forall_{A, B, C | A supseteq B , B supseteq C} (A supset C)"
      ]
     },
     "execution_count": 25,
     "metadata": {},
     "output_type": "execute_result"
    }
   ],
   "source": [
    "transitivitySupsetEqSupsetEq = Forall((A, B, C), Superset(A, C), conditions=[SupersetEq(A, B), SupersetEq(B, C)])"
   ]
  },
  {
   "cell_type": "code",
   "execution_count": 26,
   "metadata": {
    "collapsed": false,
    "deletable": true,
    "editable": true
   },
   "outputs": [
    {
     "name": "stdout",
     "output_type": "stream",
     "text": [
      "Theorems may be imported from autogenerated _theorems_.py\n"
     ]
    }
   ],
   "source": [
    "%end theorems"
   ]
  },
  {
   "cell_type": "code",
   "execution_count": 27,
   "metadata": {
    "collapsed": true,
    "deletable": true,
    "editable": true
   },
   "outputs": [],
   "source": []
  }
 ],
 "metadata": {
  "kernelspec": {
   "display_name": "Python 3",
   "language": "python",
   "name": "python3"
  },
  "language_info": {
   "codemirror_mode": {
    "name": "ipython",
    "version": 3
   },
   "file_extension": ".py",
   "mimetype": "text/x-python",
   "name": "python",
   "nbconvert_exporter": "python",
   "pygments_lexer": "ipython3",
   "version": "3.7.0"
  }
 },
 "nbformat": 4,
 "nbformat_minor": 0
}
