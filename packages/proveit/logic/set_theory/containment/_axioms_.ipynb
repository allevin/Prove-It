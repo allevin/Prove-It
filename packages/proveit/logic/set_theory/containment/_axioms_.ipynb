{
 "cells": [
  {
   "cell_type": "markdown",
   "metadata": {
    "collapsed": true
   },
   "source": [
    "Axioms for context <a href=\"_context_.ipynb\" class=\"ProveItLink\">proveit.logic.set_theory.containment</a>\n",
    "========"
   ]
  },
  {
   "cell_type": "code",
   "execution_count": 1,
   "metadata": {},
   "outputs": [
    {
     "name": "stdout",
     "output_type": "stream",
     "text": [
      "Defining axioms for context 'proveit.logic.set_theory.containment'\n",
      "Subsequent end-of-cell assignments will define axioms\n",
      "%end_axioms will finalize the definitions\n"
     ]
    }
   ],
   "source": [
    "from proveit.logic import SubsetEq, SupersetEq, Subset, Superset, NotSubset, NotSubsetEq, NotSupersetEq\n",
    "from proveit.logic import Forall, Equals, And, InSet, Not\n",
    "from proveit._common_ import A, B, x\n",
    "%begin axioms"
   ]
  },
  {
   "cell_type": "markdown",
   "metadata": {},
   "source": [
    "**$A \\subseteq B$ is equivalent to saying that every element in $A$ is also in $B$:**"
   ]
  },
  {
   "cell_type": "code",
   "execution_count": 2,
   "metadata": {},
   "outputs": [
    {
     "data": {
      "text/html": [
       "<strong id=\"subsetEqDef\">subsetEqDef:</strong> <a class=\"ProveItLink\" href=\"__pv_it/0892e071e1faecd5664a9756397a57a18abf432d0/expr.ipynb\"><img src=\"__pv_it/0892e071e1faecd5664a9756397a57a18abf432d0/expr.png\" style=\"display:inline;vertical-align:middle;\" /></a><br>"
      ],
      "text/plain": [
       "subsetEqDef: forall_{A, B} ((A subseteq B) = [forall_{x in A} (x in B)])"
      ]
     },
     "execution_count": 2,
     "metadata": {},
     "output_type": "execute_result"
    }
   ],
   "source": [
    "subsetEqDef = Forall((A, B), Equals(SubsetEq(A, B), Forall(x, InSet(x, B), A)))"
   ]
  },
  {
   "cell_type": "markdown",
   "metadata": {},
   "source": [
    "**$A \\supseteq B$ is equivalent to saying that every element in $B$ is also in $A$, which itself is often then simply written as $B \\subseteq A$:**"
   ]
  },
  {
   "cell_type": "code",
   "execution_count": 3,
   "metadata": {},
   "outputs": [
    {
     "data": {
      "text/html": [
       "<strong id=\"supersetEqDef\">supersetEqDef:</strong> <a class=\"ProveItLink\" href=\"__pv_it/6ae939437665b648975aec3a2e06383d663a5d6b0/expr.ipynb\"><img src=\"__pv_it/6ae939437665b648975aec3a2e06383d663a5d6b0/expr.png\" style=\"display:inline;vertical-align:middle;\" /></a><br>"
      ],
      "text/plain": [
       "supersetEqDef: forall_{A, B} ((A supseteq B) = [forall_{x in B} (x in A)])"
      ]
     },
     "execution_count": 3,
     "metadata": {},
     "output_type": "execute_result"
    }
   ],
   "source": [
    "supersetEqDef = Forall((A, B), Equals(SupersetEq(A, B), Forall(x, InSet(x, A), B)))"
   ]
  },
  {
   "cell_type": "markdown",
   "metadata": {},
   "source": [
    "**Define $A \\nsubseteq B$ as $\\lnot (A \\subseteq B)$:**"
   ]
  },
  {
   "cell_type": "code",
   "execution_count": 4,
   "metadata": {},
   "outputs": [
    {
     "data": {
      "text/html": [
       "<strong id=\"notSubsetEqDef\">notSubsetEqDef:</strong> <a class=\"ProveItLink\" href=\"__pv_it/bc36f14638f4f2985006c96eddea11e1eefb89530/expr.ipynb\"><img src=\"__pv_it/bc36f14638f4f2985006c96eddea11e1eefb89530/expr.png\" style=\"display:inline;vertical-align:middle;\" /></a><br>"
      ],
      "text/plain": [
       "notSubsetEqDef: forall_{A, B} ((A nsubseteq B) = [not](A subseteq B))"
      ]
     },
     "execution_count": 4,
     "metadata": {},
     "output_type": "execute_result"
    }
   ],
   "source": [
    "notSubsetEqDef = Forall((A, B), Equals(NotSubsetEq(A, B), Not(SubsetEq(A, B))))"
   ]
  },
  {
   "cell_type": "markdown",
   "metadata": {},
   "source": [
    "**Define $A \\nsupseteq B$ as $\\lnot (A \\supseteq B)$:**"
   ]
  },
  {
   "cell_type": "code",
   "execution_count": 5,
   "metadata": {},
   "outputs": [
    {
     "data": {
      "text/html": [
       "<strong id=\"notSupersetEqDef\">notSupersetEqDef:</strong> <a class=\"ProveItLink\" href=\"__pv_it/8f72992a1f48afd3592b306e8a5c50837c27729c0/expr.ipynb\"><img src=\"__pv_it/8f72992a1f48afd3592b306e8a5c50837c27729c0/expr.png\" style=\"display:inline;vertical-align:middle;\" /></a><br>"
      ],
      "text/plain": [
       "notSupersetEqDef: forall_{A, B} ((A nsupseteq B) = [not](A supseteq B))"
      ]
     },
     "execution_count": 5,
     "metadata": {},
     "output_type": "execute_result"
    }
   ],
   "source": [
    "notSupersetEqDef = Forall((A, B), Equals(NotSupersetEq(A, B), Not(SupersetEq(A, B))))"
   ]
  },
  {
   "cell_type": "markdown",
   "metadata": {},
   "source": [
    "**$A$ is a proper subset of $B$, $A \\subset B$, means that $A \\subseteq B$ but $A \\nsupseteq B$; that is, every element in $A$ is also in $B$ but not the other way around (i.e. there are elements in $B$ that are not in $A$):** "
   ]
  },
  {
   "cell_type": "markdown",
   "metadata": {},
   "source": [
    "<img src=\"_img_/containmentAsubsetProperOfB.png\" width=\"60\" height=\"60\">"
   ]
  },
  {
   "cell_type": "code",
   "execution_count": 6,
   "metadata": {},
   "outputs": [
    {
     "data": {
      "text/html": [
       "<strong id=\"subsetDef\">subsetDef:</strong> <a class=\"ProveItLink\" href=\"__pv_it/cbbb79efd8433ba081f6e08f971472434a6f823c0/expr.ipynb\"><img src=\"__pv_it/cbbb79efd8433ba081f6e08f971472434a6f823c0/expr.png\" style=\"display:inline;vertical-align:middle;\" /></a><br>"
      ],
      "text/plain": [
       "subsetDef: forall_{A, B} ((A subset B) = ((A subseteq B) and (A nsupseteq B)))"
      ]
     },
     "execution_count": 6,
     "metadata": {},
     "output_type": "execute_result"
    }
   ],
   "source": [
    "subsetDef = Forall((A, B), Equals(Subset(A, B), And(SubsetEq(A, B), NotSupersetEq(A, B))))"
   ]
  },
  {
   "cell_type": "code",
   "execution_count": 7,
   "metadata": {},
   "outputs": [
    {
     "data": {
      "text/html": [
       "<strong id=\"notSubsetDef\">notSubsetDef:</strong> <a class=\"ProveItLink\" href=\"__pv_it/abd22fb3a51dca29f200a82311fb70c579a60f120/expr.ipynb\"><img src=\"__pv_it/abd22fb3a51dca29f200a82311fb70c579a60f120/expr.png\" style=\"display:inline;vertical-align:middle;\" /></a><br>"
      ],
      "text/plain": [
       "notSubsetDef: forall_{A, B} ((A nsubset B) = [not](A subset B))"
      ]
     },
     "execution_count": 7,
     "metadata": {},
     "output_type": "execute_result"
    }
   ],
   "source": [
    "notSubsetDef = Forall((A, B), Equals(NotSubset(A, B), Not(Subset(A, B))))"
   ]
  },
  {
   "cell_type": "markdown",
   "metadata": {},
   "source": [
    "**$A$ is a proper superset of $B$, $A \\supset B$, means that $A \\supseteq B$ but $A \\nsubseteq B$; that is, $A$ contains all elements of $B$, but $A$ also has other elements not in $B$:**"
   ]
  },
  {
   "cell_type": "code",
   "execution_count": 8,
   "metadata": {},
   "outputs": [
    {
     "data": {
      "text/html": [
       "<strong id=\"supersetDef\">supersetDef:</strong> <a class=\"ProveItLink\" href=\"__pv_it/b20857d9cb5decd640fc173c05069592a0159d5b0/expr.ipynb\"><img src=\"__pv_it/b20857d9cb5decd640fc173c05069592a0159d5b0/expr.png\" style=\"display:inline;vertical-align:middle;\" /></a><br>"
      ],
      "text/plain": [
       "supersetDef: forall_{A, B} ((A supset B) = ((A supseteq B) and (A nsubseteq B)))"
      ]
     },
     "execution_count": 8,
     "metadata": {},
     "output_type": "execute_result"
    }
   ],
   "source": [
    "supersetDef = Forall((A, B), Equals(Superset(A, B), And(SupersetEq(A, B), NotSubsetEq(A, B))))"
   ]
  },
  {
   "cell_type": "code",
   "execution_count": 9,
   "metadata": {},
   "outputs": [
    {
     "name": "stdout",
     "output_type": "stream",
     "text": [
      "Adding axiom notSubsetDef to proveit.logic.set_theory.containment context\n",
      "notSubsetDef expression notebook is being updated\n",
      "Axioms may be imported from autogenerated _axioms_.py\n"
     ]
    }
   ],
   "source": [
    "%end axioms"
   ]
  },
  {
   "cell_type": "code",
   "execution_count": null,
   "metadata": {},
   "outputs": [],
   "source": []
  }
 ],
 "metadata": {
  "kernelspec": {
   "display_name": "Python 3",
   "language": "python",
   "name": "python3"
  },
  "language_info": {
   "codemirror_mode": {
    "name": "ipython",
    "version": 3
   },
   "file_extension": ".py",
   "mimetype": "text/x-python",
   "name": "python",
   "nbconvert_exporter": "python",
   "pygments_lexer": "ipython3",
   "version": "3.7.1"
  }
 },
 "nbformat": 4,
 "nbformat_minor": 1
}
