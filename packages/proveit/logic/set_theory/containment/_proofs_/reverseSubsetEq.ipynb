{
 "cells": [
  {
   "cell_type": "markdown",
   "metadata": {},
   "source": [
    "Proof of <a class=\"ProveItLink\" href=\"../../../../_context_.ipynb\">proveit</a>.<a class=\"ProveItLink\" href=\"../../../_context_.ipynb\">logic</a>.<a class=\"ProveItLink\" href=\"../../_context_.ipynb\">set_theory</a>.<a class=\"ProveItLink\" href=\"../_context_.ipynb\">containment</a>.<a href=\"../_theorems_.ipynb#reverseSubsetEq\" class=\"ProveItLink\">reverseSubsetEq</a> theorem\n",
    "========"
   ]
  },
  {
   "cell_type": "code",
   "execution_count": 1,
   "metadata": {},
   "outputs": [],
   "source": [
    "import sys\n",
    "sys.path.append('..') # allows access to modules in parent context\n",
    "import proveit"
   ]
  },
  {
   "cell_type": "code",
   "execution_count": 2,
   "metadata": {},
   "outputs": [
    {
     "name": "stdout",
     "output_type": "stream",
     "text": [
      "Beginning proof of reverseSubsetEq\n",
      "Recorded 'presuming' information\n",
      "Presuming previous theorems (applied transitively).\n"
     ]
    },
    {
     "data": {
      "text/html": [
       "<strong id=\"reverseSubsetEq\">reverseSubsetEq:</strong> <a class=\"ProveItLink\" href=\"../__pv_it/c2f735335775f63f918216f067080f6e43401ce70/expr.ipynb\"><img src=\"data:image/png;base64,iVBORw0KGgoAAAANSUhEUgAAALoAAAAXBAMAAABOokjyAAAAMFBMVEX///8QEBC6urrMzMxUVFRm\n",
       "ZmZERETc3NwyMjKqqqp2dnaIiIiYmJgiIiLu7u4AAAAU9Wx4AAAAAXRSTlMAQObYZgAAAtxJREFU\n",
       "SMe1lU1oE1EQx//dNNnabLa56alW8KbQHAQPIgkaoicbsGm9SCviFkFsDtoqUhpEiF40F8WDYC9i\n",
       "vUgEPUjArreqSOuhKtpoEJVeisV++RGrM2/fS7ZRCS51YXcnb3Z+b+b/5r0A//UqeY7cUsdvtAGT\n",
       "bDzxAPfFCNCxEE+c/ZN3J937gVtsX/RAb+KqG3qBHsoRerFYfPmg6r3EXwAD7Or1QC/wI5qnOyZH\n",
       "zKeRiipvaW5jRKTgz3mgt/JjLA1MjKgh/YWyTveQwwzDuDk4OOQBrmX4eYjuZ9XG2KyM/BjLdRRY\n",
       "sqxXHuh+kfECcOq4ay3U1KXrNr1uALuBPjGUFc8ri6mEkE+rhKSVta4/1XlYjXK4b6Fwb9o1ZaMU\n",
       "/p1YEFzlakxRpPHZWY8wgmE2Aipkgoo8aVkWCfAQuCNHG7j04DIwG/ud3obhJL02ASEEOQ18KDsV\n",
       "x6Atu+lmjw3NqQ6dQLuspIXpAcojWK7SQ3IrxOMd3IZR8tohsSy3p5wP8vBPuunNs0l8lPZr4CBc\n",
       "9BbeUd+q9MtSdiot49DNzDYxX94Snk8RjKfd9B2BXtyXZczDyCpluIujVHXj12ofvXHe5AqFHWXQ\n",
       "t0tIJrNqL9x1mkDRY1TKPhn9vZBQ7RewZbsPZypnwwHHqRO9aY6McS5HCPEIY8I1SmtXctGNXHAO\n",
       "3VKkDIxWJVjSaXffBvE1nwTn5Kac4egVpyPRwM1jTqX6xWdHSJyciz6b6lrBNZlvEqbSQaOcun7G\n",
       "4+ft2p0wsDELo/8Lzc7nm8FUfxpR0U4U3R5x0bvhm1ct35KDNq8g6+tuODOsrK0Ua+tZ6CvQp1y6\n",
       "a5RaGfoxUddwCUNJFfG4Lr05L433S9A7pn1ljC6m9uaqdJP69sQPG0aCdlPzpVTnhdUncOVi3YvF\n",
       "56voM7V/Jy47UCczPVYv9z01v7f/Ax1n6viDkZoB+y/0Acs5Z9bualwDxi/ZnrmU9okiYgAAAABJ\n",
       "RU5ErkJggg==\n",
       "\" style=\"display:inline;vertical-align:middle;\" /></a><br>(see <a class=\"ProveItLink\" href=\"../__pv_it/c2f735335775f63f918216f067080f6e43401ce70/dependencies.ipynb\">dependencies</a>)<br>"
      ],
      "text/plain": [
       "reverseSubsetEq: forall_{A, B | A subseteq B} (B supseteq A)"
      ]
     },
     "execution_count": 2,
     "metadata": {},
     "output_type": "execute_result"
    }
   ],
   "source": [
    "%proving reverseSubsetEq presuming []"
   ]
  },
  {
   "cell_type": "code",
   "execution_count": null,
   "metadata": {},
   "outputs": [],
   "source": []
  }
 ],
 "metadata": {
  "kernelspec": {
   "display_name": "Python 3",
   "language": "python",
   "name": "python3"
  }
 },
 "nbformat": 4,
 "nbformat_minor": 0
}
