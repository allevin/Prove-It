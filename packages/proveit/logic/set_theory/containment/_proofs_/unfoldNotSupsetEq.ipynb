{
 "cells": [
  {
   "cell_type": "markdown",
   "metadata": {},
   "source": [
    "Proof of <a class=\"ProveItLink\" href=\"../../../../_context_.ipynb\">proveit</a>.<a class=\"ProveItLink\" href=\"../../../_context_.ipynb\">logic</a>.<a class=\"ProveItLink\" href=\"../../_context_.ipynb\">set_theory</a>.<a class=\"ProveItLink\" href=\"../_context_.ipynb\">containment</a>.<a href=\"../_theorems_.ipynb#unfoldNotSupsetEq\" class=\"ProveItLink\">unfoldNotSupsetEq</a> theorem\n",
    "========"
   ]
  },
  {
   "cell_type": "code",
   "execution_count": 1,
   "metadata": {},
   "outputs": [],
   "source": [
    "import sys\n",
    "sys.path.append('..') # allows access to modules in parent context\n",
    "import proveit"
   ]
  },
  {
   "cell_type": "code",
   "execution_count": 2,
   "metadata": {},
   "outputs": [
    {
     "name": "stdout",
     "output_type": "stream",
     "text": [
      "Beginning proof of unfoldNotSupsetEq\n",
      "Recorded 'presuming' information\n",
      "Presuming previous theorems (applied transitively).\n"
     ]
    },
    {
     "data": {
      "text/html": [
       "<strong id=\"unfoldNotSupsetEq\">unfoldNotSupsetEq:</strong> <a class=\"ProveItLink\" href=\"../__pv_it/3f98800ad1b053419a309a1da18a1555647df9f70/expr.ipynb\"><img src=\"data:image/png;base64,iVBORw0KGgoAAAANSUhEUgAAANcAAAAbBAMAAAAdeQdJAAAAMFBMVEX///8QEBC6urrMzMxUVFRm\n",
       "ZmZERETc3NwyMjKqqqp2dnaIiIiYmJgiIiLu7u4AAAAU9Wx4AAAAAXRSTlMAQObYZgAAA1JJREFU\n",
       "SMe9VktoE0EY/vLcpNlsg4daLyWHUgQfjVDx4KFBQy14aMDGFxRbtNsexOZQLCLFBR9FELuXes5F\n",
       "rAhS0YsEbBQRrRQjWBU1JYKCIsXSt1Zb57GbnVBCGmk78M2/M7Pzf/PP/9gFNrJl/3OffUgYbCvy\n",
       "8hMDaTp4WTpZnfDsCHORXvHW0+VIpDMIVwgMt+nc9dLJxC0efj2eSdpLmUzm/SNzqYKwTAEaGM7S\n",
       "9daSuXziLSa5GF0yJ5TRkGHzIsEMMAIGeiqXXjKZTfR1FeulgfncjPTOOBOZkn8Dn8Eg3+rp6S39\n",
       "FreKsaJxxb4pa66aC3cA8JOzuHWOOVX9UDrZceHZlWBip/eP4EYuysOQrpBLKIty7Ac6VqP+e97o\n",
       "mhgfKeanIHWQ2ZzcafUHky101atxVEPRVkP2MG+0iRiUoY1YZQuyy4Q0u4JsOA7lDV0McPjhYydD\n",
       "H+tvzMYaQnyzefA4EyRivV2x5pN8ckpIsXJGVheJzFlkfi7aKCFR75jk8KX8LLJkvl8OwBdgvjX3\n",
       "vQqiRlXbqWMeA/cKkZGu0iIb4GKG7k9YZIrGi8FX7l5XGPZ5kUw5wQz3XCRdM1DL7dwikNlo5ngJ\n",
       "XlsBOs5Xqc4m3bpGdOxjC3fHuP1DcKVFsrKJKBXd30j3EWjhs6cFMjc9zTmC/lz9OprNpZm0QO9L\n",
       "48AA0+0YUtn6zxCex0WyvW5WXw7JKSjTkLlncdPUG+IxzYKsK2uUq0u6lWa7aGEzQx82Vnmcxplr\n",
       "kw/OQCQLc0M1KQr7YrLBqBw7xKROQ2pbiOPZ8uX8AHZ1zUQaWZJ4ghyQ2f4XGGYvDJIwyApksu6j\n",
       "9VVOSQmUaZCrjHIVF5RuLpo3Rrkyw2Asxi4B7eQmdYFsInZ4iVUEXxDuKJRfxhkSgqqRomR3DBgW\n",
       "x1HP0osoqw0JZEfgmCZiN/08lOuwTxf+xBg1mOX62zwu6lGhdGwnqlJSH6QlSGOCz+wk0mj8HvhB\n",
       "PHkhi96osaFb1B8uYpgzzsHblzlITZ9IWgzOxhp1i0xpakX331RNZ8UxEk79searOQLxg3a+CNl9\n",
       "A3lNFp7ded/K4Nr//ewpROZZh1+tVAGymkpVPbWe/3hOcaBh45ojsYFkUnZN1PwDgePaD339vswA\n",
       "AAAASUVORK5CYII=\n",
       "\" style=\"display:inline;vertical-align:middle;\" /></a><br>(see <a class=\"ProveItLink\" href=\"../__pv_it/3f98800ad1b053419a309a1da18a1555647df9f70/dependencies.ipynb\">dependencies</a>)<br>"
      ],
      "text/plain": [
       "unfoldNotSupsetEq: forall_{A, B | A nsupseteq B} [not](A supseteq B)"
      ]
     },
     "execution_count": 2,
     "metadata": {},
     "output_type": "execute_result"
    }
   ],
   "source": [
    "%proving unfoldNotSupsetEq presuming []"
   ]
  },
  {
   "cell_type": "code",
   "execution_count": null,
   "metadata": {},
   "outputs": [],
   "source": []
  }
 ],
 "metadata": {
  "kernelspec": {
   "display_name": "Python 3",
   "language": "python",
   "name": "python3"
  }
 },
 "nbformat": 4,
 "nbformat_minor": 0
}
