{
 "cells": [
  {
   "cell_type": "markdown",
   "metadata": {},
   "source": [
    "Proof of <a class=\"ProveItLink\" href=\"../../../../_context_.ipynb\">proveit</a>.<a class=\"ProveItLink\" href=\"../../../_context_.ipynb\">logic</a>.<a class=\"ProveItLink\" href=\"../../_context_.ipynb\">set_theory</a>.<a class=\"ProveItLink\" href=\"../_context_.ipynb\">containment</a>.<a href=\"../_theorems_.ipynb#unfoldSubsetEq\" class=\"ProveItLink\">unfoldSubsetEq</a> theorem\n",
    "========\n",
    "*** see <a href=\"../__pv_it/d521a5b1c24d27daae62adca805c8a8f7fc71ace0/dependencies.ipynb\" class=\"ProveItLink\">dependencies</a> ***"
   ]
  },
  {
   "cell_type": "code",
   "execution_count": 1,
   "metadata": {},
   "outputs": [
    {
     "name": "stdout",
     "output_type": "stream",
     "text": [
      "Beginning proof of unfoldSubsetEq\n",
      "Recorded 'presuming' information\n"
     ]
    },
    {
     "data": {
      "text/html": [
       "<strong id=\"unfoldSubsetEq\">unfoldSubsetEq:</strong> <a class=\"ProveItLink\" href=\"../__pv_it/f3810bf13a0bf2b98d4f2066fd8a1a74e979a3380/expr.ipynb\"><img src=\"data:image/png;base64,iVBORw0KGgoAAAANSUhEUgAAAPcAAAAXBAMAAAAl5sTiAAAAMFBMVEX///8QEBC6urrMzMxUVFRm\n",
       "ZmZERETc3NwyMjKqqqp2dnaIiIiYmJgiIiLu7u4AAAAU9Wx4AAAAAXRSTlMAQObYZgAAA5BJREFU\n",
       "SMfFlV1IVEEUx//u19Xdu9d9KiKSDXozcIOgIMglRYUgF3KTKMmKroGV+2BuENY+JUHaQtlLPfhU\n",
       "liBGPlRG3qKojEoiI6qNDUqksMTPSrNm5s7dO1p3q4XqwO7OzDlzfjNnzjkL/E9JZrjP82xteoP8\n",
       "dMqbgNzsRz8d3/9zuNvvpT9yl4XeHvzp8q1vxcW7/XAGqAecp0stmcDdcfKTbRU5K8UCwDkKxBi8\n",
       "gSxI1ZnA2a4GK32PRUCmyWcc6GNwekJnPBM4i9dmK32eOFEuJxIxPVWmyFN9AV4zD/K5aLQRGcH7\n",
       "otFov4XaFhNnqx8aI5cP8JKDueLUAyZV9Xlm8FxV3dtmoXYShdRRenoLnUj7Uuu5QUhHSLDdIQYv\n",
       "AmrYehP7PjURLgmws6dSJ2KMcurCFTtNuCMAV2RemhnzbA14hwfaEnZd06pwfU+VRl3FGHwZFBYi\n",
       "eZRpZR88PrbDsH9EjParqkrOewO4aMJtQQzNuzC1ZZJFBm3oxQk6GTQNeiNQntCr+RjcCw89Ct7O\n",
       "6PEKwjYlwpVtGmx6bFABFERScNIjrhlO34e3clseXj/tXyX6ZGkiYSTcdnoAYmQfYR48mpeVZOcA\n",
       "03q74OwX4e7hUOroL4Aq8+YE/crodzsOfeC2JhxYrE9Wmjcfp+FpS8GVGNPZu1Sm/RjA3YgIX+Oq\n",
       "xhUehDHITQJ8iLYxd3d+EW6btjzstHqlMSh0MmyWOQ1veTwVdtSso8sOfqeCnm49Nw14kARiA6+f\n",
       "6Z6SpAB31ZOvTkf1IsRMW15SJLR3PCO4znxrqX8E8qLSJ5paesKhlW24R7KDSjtJq6QAl+PERSUH\n",
       "xiDnCfAcel4/SWx7m2nL1SHkzLh8Emv9ymOxzFe0IFVqyKIGykC4jjF3kcjHBfhweNMszvCtISif\n",
       "Bbj+prkR2J+qai235UHqh1LbeYEn5IGNvPrrxovLjrFS9OseZAp1RlDIyps4LwgI8ErYx4zyzY3D\n",
       "NibCWeNagYASNG25LJxTgiebE3NaHm+vXJYT15rUBGkW0oDw5jbyXDOQ9rCoHE6iMSTCaQqNtJOC\n",
       "LjVtufSlb5AdAvzNJKTylyQX2yfCZXETrpRXo/6rBrmENBn38XDFUcyDK7WtV5MY9Ju26f9S+a6Y\n",
       "eHOeXcLY9cveLspZ+uaiSMF0ux2RH+Grfh/uSQTSGxxMp7xEHcyDaxbwBlXv7f9MHH8f8R1lnvLW\n",
       "MpT1wwAAAABJRU5ErkJggg==\n",
       "\" style=\"display:inline;vertical-align:middle;\" /></a><br>(see <a class=\"ProveItLink\" href=\"../__pv_it/f3810bf13a0bf2b98d4f2066fd8a1a74e979a3380/dependencies.ipynb\">dependencies</a>)<br>"
      ],
      "text/plain": [
       "unfoldSubsetEq: forall_{A, B | A subseteq B} [forall_{x in A} (x in B)]"
      ]
     },
     "execution_count": 1,
     "metadata": {},
     "output_type": "execute_result"
    }
   ],
   "source": [
    "import proveit\n",
    "%proving unfoldSubsetEq presuming []"
   ]
  },
  {
   "cell_type": "code",
   "execution_count": null,
   "metadata": {},
   "outputs": [],
   "source": []
  }
 ],
 "metadata": {
  "kernelspec": {
   "display_name": "Python 3",
   "language": "python",
   "name": "python3"
  }
 },
 "nbformat": 4,
 "nbformat_minor": 0
}
