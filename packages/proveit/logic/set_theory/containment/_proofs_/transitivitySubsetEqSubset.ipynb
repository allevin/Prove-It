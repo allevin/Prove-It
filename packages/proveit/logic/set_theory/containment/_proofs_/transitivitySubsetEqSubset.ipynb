{
 "cells": [
  {
   "cell_type": "markdown",
   "metadata": {},
   "source": [
    "Proof of <a class=\"ProveItLink\" href=\"../../../../_context_.ipynb\">proveit</a>.<a class=\"ProveItLink\" href=\"../../../_context_.ipynb\">logic</a>.<a class=\"ProveItLink\" href=\"../../_context_.ipynb\">set_theory</a>.<a class=\"ProveItLink\" href=\"../_context_.ipynb\">containment</a>.<a href=\"../_theorems_.ipynb#transitivitySubsetEqSubset\" class=\"ProveItLink\">transitivitySubsetEqSubset</a> theorem\n",
    "========"
   ]
  },
  {
   "cell_type": "code",
   "execution_count": 1,
   "metadata": {},
   "outputs": [],
   "source": [
    "import sys\n",
    "sys.path.append('..') # allows access to modules in parent context\n",
    "import proveit"
   ]
  },
  {
   "cell_type": "code",
   "execution_count": 2,
   "metadata": {},
   "outputs": [
    {
     "name": "stdout",
     "output_type": "stream",
     "text": [
      "Beginning proof of transitivitySubsetEqSubset\n",
      "Recorded 'presuming' information\n",
      "Presuming previous theorems (applied transitively).\n"
     ]
    },
    {
     "data": {
      "text/html": [
       "<strong id=\"transitivitySubsetEqSubset\">transitivitySubsetEqSubset:</strong> <a class=\"ProveItLink\" href=\"../__pv_it/56c4b100c435d5189b9b247f5701dcef8ecc906c0/expr.ipynb\"><img src=\"data:image/png;base64,iVBORw0KGgoAAAANSUhEUgAAAPcAAAAXBAMAAAAl5sTiAAAAMFBMVEX///8QEBC6urrMzMxUVFRm\n",
       "ZmZERETc3NwyMjKqqqp2dnaIiIiYmJgiIiLu7u4AAAAU9Wx4AAAAAXRSTlMAQObYZgAAA4BJREFU\n",
       "SMfFVU1IVFEU/pzxzXNmnk93/SzMwDYV6UJoIaGUSqucaJ6C9KNE4yb0LVKLEA0KaVHORlctDBdZ\n",
       "gRpJPwj1ahFlRCZYUFojpQSiSaJlmnbvue+9ec5g02KkC+++e985c79zv/OdM8D/HJGNOnhXAvtT\n",
       "9gzxxcvkY7uLxGso3qTeKzkqB6Q84CbfXk0+eJqgNG023nTdgOuwgRagge3kquSDD4jXq5U4y9eP\n",
       "bOrVMSgilMLJB8+iWW7/Ye4fjI2NDdPqAudkOzAOKDcaG5uSj+1qoZff/13s9z2yLNIin+sBD7vy\n",
       "Qij0PvngUie99niXBQPvbEszhfUZ8AWAA0ANfW2luWNeK80TUZdUTun8EraGdGvlrdOCJ2Pc+ejX\n",
       "eu6bvgbpOtu9RNvUbNvnhGEdwqLIgUqxKIIgJRP+TCqSUaCaLzzWz16zE+pDoRDL2RPgzlp34taA\n",
       "x9ykEJoL8rwQWZSTT9YVXMw1HX6KZUIQJBXBRSLJZRfqcIKrLGaXIAlBZtcd7js17Thcc+w6ZuFk\n",
       "EHh+cfECbfOj4KtWb3OzKvQb6VSSPSP0Nb0PEm8M6lY2FTjBfdMBTJrrD8Axh/tk18xMBOMsz+4+\n",
       "JzibNseCbyPK8wS42kIWd1+IbN/y8Jzfyce7w4wTvMBThYcmCXNQWh3uIv+93GK26xRevV72vBEx\n",
       "RsHLuIdk0o6a/SQJ8yq5A/215G43Hgu8iF3xkJmupYHSSNTdK6771qF2D0/lOfa0iWRGO0khd+7h\n",
       "cuFSa6f2+wKPydbN1MTPzeiMAVfC/llUmBlogZIVdZeEhn45wHkdkZDrKEh12LYorM536KYLUngo\n",
       "6ogm3E4xKnmYKQxc7XOAT2vlK7hmxhOASr1CuKcKFrhKpiwpD0Gu/qnj2eolIfcjNnr+RY14SOOy\n",
       "UCgJOgqpXheFziEx2n0RB3gF3HNWqWeESdqWu19UcbnJJ41NMV0n54rVXq0xbq92sxMNuRXyCmQm\n",
       "+7O6ugXoctDuYklchnya4mmOoCkA210V+hgPw2c3nMGETfC2tfiyALls1L2M7nntICOl0MBEya1I\n",
       "FFwtq8KZ3waUUtZkfG1a8DIrENu9QyQ2WNkT+5e6/hCtzTEUe2U4hLvu7213Nwupdq1NLkoAnqrH\n",
       "fNhrn6b/C/jevx1+PgH43dgPRjwFa8EbQqK3x9GzUSN1w07+A+o+9T53eMyjAAAAAElFTkSuQmCC\n",
       "\" style=\"display:inline;vertical-align:middle;\" /></a><br>(see <a class=\"ProveItLink\" href=\"../__pv_it/56c4b100c435d5189b9b247f5701dcef8ecc906c0/dependencies.ipynb\">dependencies</a>)<br>"
      ],
      "text/plain": [
       "transitivitySubsetEqSubset: forall_{A, B, C | A subseteq B , B subset C} (A subset C)"
      ]
     },
     "execution_count": 2,
     "metadata": {},
     "output_type": "execute_result"
    }
   ],
   "source": [
    "%proving transitivitySubsetEqSubset presuming []"
   ]
  },
  {
   "cell_type": "code",
   "execution_count": null,
   "metadata": {},
   "outputs": [],
   "source": []
  }
 ],
 "metadata": {
  "kernelspec": {
   "display_name": "Python 3",
   "language": "python",
   "name": "python3"
  }
 },
 "nbformat": 4,
 "nbformat_minor": 0
}
