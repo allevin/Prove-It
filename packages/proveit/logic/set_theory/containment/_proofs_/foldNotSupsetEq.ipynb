{
 "cells": [
  {
   "cell_type": "markdown",
   "metadata": {},
   "source": [
    "Proof of <a class=\"ProveItLink\" href=\"../../../../_context_.ipynb\">proveit</a>.<a class=\"ProveItLink\" href=\"../../../_context_.ipynb\">logic</a>.<a class=\"ProveItLink\" href=\"../../_context_.ipynb\">set_theory</a>.<a class=\"ProveItLink\" href=\"../_context_.ipynb\">containment</a>.<a href=\"../_theorems_.ipynb#foldNotSupsetEq\" class=\"ProveItLink\">foldNotSupsetEq</a> theorem\n",
    "========"
   ]
  },
  {
   "cell_type": "code",
   "execution_count": 1,
   "metadata": {},
   "outputs": [],
   "source": [
    "import sys\n",
    "sys.path.append('..') # allows access to modules in parent context\n",
    "import proveit"
   ]
  },
  {
   "cell_type": "code",
   "execution_count": 2,
   "metadata": {},
   "outputs": [
    {
     "name": "stdout",
     "output_type": "stream",
     "text": [
      "Beginning proof of foldNotSupsetEq\n",
      "Recorded 'presuming' information\n",
      "Presuming previous theorems (applied transitively).\n"
     ]
    },
    {
     "data": {
      "text/html": [
       "<strong id=\"foldNotSupsetEq\">foldNotSupsetEq:</strong> <a class=\"ProveItLink\" href=\"../__pv_it/1db8cefc2c6c508d8ec7277eecece7d48c206b250/expr.ipynb\"><img src=\"data:image/png;base64,iVBORw0KGgoAAAANSUhEUgAAANEAAAAYBAMAAACW8wWgAAAAMFBMVEX///8QEBC6urrMzMxUVFRm\n",
       "ZmZERETc3NwyMjKqqqp2dnaIiIiYmJgiIiLu7u4AAAAU9Wx4AAAAAXRSTlMAQObYZgAAA1xJREFU\n",
       "SMe9VU1oE0EU/rrbZJPsNu3NniQH6cWf5lBR9NCgoeipQZqKB2lKdQse2oBiFQkNolQvbS714qUn\n",
       "rQgloh4kh0YF0Yo0IgXRpk1BRZBisX/W1tY3M9lNskkQiTowu2/ezHvf+50B/tFQ8b9GUxEn81f0\n",
       "7iziHCtYPaGZYsTLCoFkn/ilcqwsqbUu+Vsuw+YF7rD1YIVIDhEZxwL/RdLp9JWR7FZVCOjwIAqc\n",
       "p5USqhApIX6vNk3O3Jss0Ryn6cOEMMcWqxBpO/8qw6u5goiEBTFO/8kRzFEgb/f1RSoEkqKisNVv\n",
       "JuuwJFKHTpqvM7CTMyu6/u63us6WYpqRsImk7HFuGBx3FAIdS8CFHsAVIHSgm/MG+PfGcrDFyw3N\n",
       "06lwVY6wsXb2Btu6cMAsiCTX7pHXzb5NMr2sHJcSD6eZBAHvYAawehSua3VQ6xhhz0MS9KQHDbp+\n",
       "htXZY+AeXB6jvjzCNGXZEKhBFkml1M1TIKU6xlS5SR+F6zYfpFUr0k1ucwc/J3fRpw1oDLuzAUIt\n",
       "R2ry+1cMgWGjoeyEoJJmeYE5WsO7YWxKWBOHLWVF4uF1zQf44jPN98BJw2wDiT71OQGnOFxL/mg/\n",
       "BJI7yq8oOa7zra9ePA9bkXg4D9pF22kxuBehDZhthCpWG05WZEZeQ9gtmrmZ4lC9JqKH7kOMVc2M\n",
       "pNGYeNADC5LMw+QTvkIJQFpPtGRYirNpZGG9SHPIKMbY3sFcO/WTuMZUDHMFLzDOt0Yp3Zkc0i1d\n",
       "16O8N7SYumAUoisKjbp1f1YxK2GetN6MuI1m3x6F2U5yfUYcQVWcpXsqKI6dpgDGCn0KORnSfLBd\n",
       "XDaqB/YA3Gs5JCkFpfN7GM+2rgrGhCHavuX3X2MeO1gqNYZgC6OZtxEpaPRakCSWoOOQF/mSbsra\n",
       "GCRaNBgntll6uvjGnjOpXSSeVAagbEKZsuQp5Kb4SmQZ74MvlMb+DCKBPNMnSj4i+eOuQXxYgdI6\n",
       "LW9gdDl4JGZB8mIG7tYQzv1MUueeoKAPBduu5792joL3NDJLz0a64H0wW88YWtG9IMaj0rehKa4U\n",
       "OjFfdLI6bGHsK4P0qSSQM26Sl0o9V3njvpWRLIPkNDYoevop09ByN//Mnz06BXqeljoxVk40XIr5\n",
       "Cwih1+vl41zyAAAAAElFTkSuQmCC\n",
       "\" style=\"display:inline;vertical-align:middle;\" /></a><br>(see <a class=\"ProveItLink\" href=\"../__pv_it/1db8cefc2c6c508d8ec7277eecece7d48c206b250/dependencies.ipynb\">dependencies</a>)<br>"
      ],
      "text/plain": [
       "foldNotSupsetEq: forall_{A, B | [not](A supseteq B)} (A nsupseteq B)"
      ]
     },
     "execution_count": 2,
     "metadata": {},
     "output_type": "execute_result"
    }
   ],
   "source": [
    "%proving foldNotSupsetEq presuming []"
   ]
  },
  {
   "cell_type": "code",
   "execution_count": null,
   "metadata": {},
   "outputs": [],
   "source": []
  }
 ],
 "metadata": {
  "kernelspec": {
   "display_name": "Python 3",
   "language": "python",
   "name": "python3"
  }
 },
 "nbformat": 4,
 "nbformat_minor": 0
}
