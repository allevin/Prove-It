{
 "cells": [
  {
   "cell_type": "markdown",
   "metadata": {
    "collapsed": true
   },
   "source": [
    "Proof of <a class=\"ProveItLink\" href=\"../../../../_context_.ipynb\">proveit</a>.<a class=\"ProveItLink\" href=\"../../../_context_.ipynb\">logic</a>.<a class=\"ProveItLink\" href=\"../../_context_.ipynb\">set_theory</a>.<a class=\"ProveItLink\" href=\"../_context_.ipynb\">containment</a>.<a href=\"../_theorems_.ipynb#foldNotSubsetEq\" class=\"ProveItLink\">foldNotSubsetEq</a> theorem\n",
    "========"
   ]
  },
  {
   "cell_type": "code",
   "execution_count": 1,
   "metadata": {},
   "outputs": [],
   "source": [
    "# import sys\n",
    "# sys.path.append('..') # allows access to modules in parent context\n",
    "import proveit\n",
    "from proveit.logic.set_theory.containment._axioms_ import notSubsetEqDef"
   ]
  },
  {
   "cell_type": "code",
   "execution_count": 2,
   "metadata": {},
   "outputs": [
    {
     "name": "stdout",
     "output_type": "stream",
     "text": [
      "Beginning proof of foldNotSubsetEq\n",
      "Recorded 'presuming' information\n",
      "Presuming theorems in proveit.logic (except any that presume this theorem).\n",
      "Presuming previous theorems (applied transitively).\n"
     ]
    },
    {
     "data": {
      "text/html": [
       "<strong id=\"foldNotSubsetEq\">foldNotSubsetEq:</strong> <a class=\"ProveItLink\" href=\"../__pv_it/d32c98c2092b0e2d81447558061cb2ebc7ba1fdf0/expr.ipynb\"><img src=\"../__pv_it/d32c98c2092b0e2d81447558061cb2ebc7ba1fdf0/expr.png\" style=\"display:inline;vertical-align:middle;\" /></a><br>(see <a class=\"ProveItLink\" href=\"../__pv_it/d32c98c2092b0e2d81447558061cb2ebc7ba1fdf0/dependencies.ipynb\">dependencies</a>)<br>"
      ],
      "text/plain": [
       "foldNotSubsetEq: forall_{A, B | [not](A subseteq B)} (A nsubseteq B)"
      ]
     },
     "execution_count": 2,
     "metadata": {},
     "output_type": "execute_result"
    }
   ],
   "source": [
    "%proving foldNotSubsetEq presuming [proveit.logic]"
   ]
  },
  {
   "cell_type": "code",
   "execution_count": 3,
   "metadata": {},
   "outputs": [
    {
     "data": {
      "text/html": [
       "<span style=\"font-size:20px;\"> &#x22A2;&nbsp;<a class=\"ProveItLink\" href=\"../__pv_it/bc36f14638f4f2985006c96eddea11e1eefb89530/expr.ipynb\"><img src=\"../__pv_it/bc36f14638f4f2985006c96eddea11e1eefb89530/expr.png\" style=\"display:inline;vertical-align:middle;\" /></a></span>"
      ],
      "text/plain": [
       "|- forall_{A, B} ((A nsubseteq B) = [not](A subseteq B))"
      ]
     },
     "execution_count": 3,
     "metadata": {},
     "output_type": "execute_result"
    }
   ],
   "source": [
    "# Pull in the definition of NotSubsetEq\n",
    "notSubsetEqDef"
   ]
  },
  {
   "cell_type": "code",
   "execution_count": 4,
   "metadata": {},
   "outputs": [
    {
     "data": {
      "text/html": [
       "<strong id=\"defSpecialization\">defSpecialization:</strong> <span style=\"font-size:20px;\"> &#x22A2;&nbsp;<a class=\"ProveItLink\" href=\"../__pv_it/8810ba5b4168c7c1946bc094a010cd921a048a140/expr.ipynb\"><img src=\"../__pv_it/8810ba5b4168c7c1946bc094a010cd921a048a140/expr.png\" style=\"display:inline;vertical-align:middle;\" /></a></span><br>"
      ],
      "text/plain": [
       "defSpecialization: |- (A nsubseteq B) = [not](A subseteq B)"
      ]
     },
     "execution_count": 4,
     "metadata": {},
     "output_type": "execute_result"
    }
   ],
   "source": [
    "defSpecialization = notSubsetEqDef.specialize()"
   ]
  },
  {
   "cell_type": "code",
   "execution_count": 5,
   "metadata": {},
   "outputs": [
    {
     "data": {
      "text/html": [
       "<span style=\"font-size:20px;\"><a class=\"ProveItLink\" href=\"../__pv_it/d9057372ca99baee917ddcd8e3823574cd52a06c0/expr.ipynb\"><img src=\"../__pv_it/d9057372ca99baee917ddcd8e3823574cd52a06c0/expr.png\" style=\"display:inline;vertical-align:middle;\" /></a> &#x22A2;&nbsp;<a class=\"ProveItLink\" href=\"../__pv_it/0686d441c3322f6a0aa4feeab621557f8e49cd230/expr.ipynb\"><img src=\"../__pv_it/0686d441c3322f6a0aa4feeab621557f8e49cd230/expr.png\" style=\"display:inline;vertical-align:middle;\" /></a></span>"
      ],
      "text/plain": [
       "{[not](A subseteq B)} |- A nsubseteq B"
      ]
     },
     "execution_count": 5,
     "metadata": {},
     "output_type": "execute_result"
    }
   ],
   "source": [
    "defSpecialization.deriveLeftViaEquivalence([defSpecialization.rhs])"
   ]
  },
  {
   "cell_type": "code",
   "execution_count": 6,
   "metadata": {},
   "outputs": [
    {
     "data": {
      "text/html": [
       "<table><tr><th>&nbsp;</th><th>step type</th><th>requirements</th><th>statement</th></tr>\n",
       "<tr><td>0</td><td>generalizaton</td><td>1</td><td><span style=\"font-size:20px;\"> &#x22A2;&nbsp;<a class=\"ProveItLink\" href=\"../__pv_it/d32c98c2092b0e2d81447558061cb2ebc7ba1fdf0/expr.ipynb\"><img src=\"../__pv_it/d32c98c2092b0e2d81447558061cb2ebc7ba1fdf0/expr.png\" style=\"display:inline;vertical-align:middle;\" /></a></span></td></tr>\n",
       "<tr><td>1</td><td>specialization</td><td>2, 3, 4</td><td><span style=\"font-size:20px;\"><a class=\"ProveItLink\" href=\"../__pv_it/d9057372ca99baee917ddcd8e3823574cd52a06c0/expr.ipynb\"><img src=\"../__pv_it/d9057372ca99baee917ddcd8e3823574cd52a06c0/expr.png\" style=\"display:inline;vertical-align:middle;\" /></a> &#x22A2;&nbsp;<a class=\"ProveItLink\" href=\"../__pv_it/0686d441c3322f6a0aa4feeab621557f8e49cd230/expr.ipynb\"><img src=\"../__pv_it/0686d441c3322f6a0aa4feeab621557f8e49cd230/expr.png\" style=\"display:inline;vertical-align:middle;\" /></a></span></td></tr>\n",
       "<tr><td>&nbsp;</td><td colspan=4 style=\"text-align:left\"><span style=\"font-size:20px;\"><a class=\"ProveItLink\" href=\"../../../../__pv_it/6369c6c8083c513ca7161ace249642d040f9327d0/expr.ipynb\"><img src=\"../../../../__pv_it/6369c6c8083c513ca7161ace249642d040f9327d0/expr.png\" style=\"display:inline;vertical-align:middle;\" /></a> : <a class=\"ProveItLink\" href=\"../__pv_it/0686d441c3322f6a0aa4feeab621557f8e49cd230/expr.ipynb\"><img src=\"../__pv_it/0686d441c3322f6a0aa4feeab621557f8e49cd230/expr.png\" style=\"display:inline;vertical-align:middle;\" /></a>, <a class=\"ProveItLink\" href=\"../../../../__pv_it/98124f92e6e1fc3772af50ac63eaa1f5624776f20/expr.ipynb\"><img src=\"../../../../__pv_it/98124f92e6e1fc3772af50ac63eaa1f5624776f20/expr.png\" style=\"display:inline;vertical-align:middle;\" /></a> : <a class=\"ProveItLink\" href=\"../__pv_it/8805b9db01aedb6a6d35f243ece2979cc7c511e20/expr.ipynb\"><img src=\"../__pv_it/8805b9db01aedb6a6d35f243ece2979cc7c511e20/expr.png\" style=\"display:inline;vertical-align:middle;\" /></a></span></td></tr><tr><td>2</td><td>theorem</td><td></td><td><span style=\"font-size:20px;\"> &#x22A2;&nbsp;<a class=\"ProveItLink\" href=\"../../../equality/__pv_it/20e88ce75ad82ac426b1e24a0c22cab3a686b0da0/expr.ipynb\"><img src=\"../../../equality/__pv_it/20e88ce75ad82ac426b1e24a0c22cab3a686b0da0/expr.png\" style=\"display:inline;vertical-align:middle;\" /></a></span></td></tr>\n",
       "<tr><td>&nbsp;</td><td colspan=4 style-\"text-align:left\"><a class=\"ProveItLink\" href=\"../../../equality/_proofs_/lhsViaEquivalence.ipynb\">proveit.logic.equality.lhsViaEquivalence</a></td></tr><tr><td>3</td><td>assumption</td><td></td><td><span style=\"font-size:20px;\"><a class=\"ProveItLink\" href=\"../__pv_it/d9057372ca99baee917ddcd8e3823574cd52a06c0/expr.ipynb\"><img src=\"../__pv_it/d9057372ca99baee917ddcd8e3823574cd52a06c0/expr.png\" style=\"display:inline;vertical-align:middle;\" /></a> &#x22A2;&nbsp;<a class=\"ProveItLink\" href=\"../__pv_it/8805b9db01aedb6a6d35f243ece2979cc7c511e20/expr.ipynb\"><img src=\"../__pv_it/8805b9db01aedb6a6d35f243ece2979cc7c511e20/expr.png\" style=\"display:inline;vertical-align:middle;\" /></a></span></td></tr>\n",
       "<tr><td>4</td><td>specialization</td><td>5</td><td><span style=\"font-size:20px;\"> &#x22A2;&nbsp;<a class=\"ProveItLink\" href=\"../__pv_it/8810ba5b4168c7c1946bc094a010cd921a048a140/expr.ipynb\"><img src=\"../__pv_it/8810ba5b4168c7c1946bc094a010cd921a048a140/expr.png\" style=\"display:inline;vertical-align:middle;\" /></a></span></td></tr>\n",
       "<tr><td>&nbsp;</td><td colspan=4 style=\"text-align:left\"><span style=\"font-size:20px;\"><a class=\"ProveItLink\" href=\"../../../../__pv_it/2cbe72a7ad6f655694dd697106680215e8489b600/expr.ipynb\"><img src=\"../../../../__pv_it/2cbe72a7ad6f655694dd697106680215e8489b600/expr.png\" style=\"display:inline;vertical-align:middle;\" /></a> : <a class=\"ProveItLink\" href=\"../../../../__pv_it/2cbe72a7ad6f655694dd697106680215e8489b600/expr.ipynb\"><img src=\"../../../../__pv_it/2cbe72a7ad6f655694dd697106680215e8489b600/expr.png\" style=\"display:inline;vertical-align:middle;\" /></a>, <a class=\"ProveItLink\" href=\"../../../../__pv_it/077b2ff79244fb4582cbe22c6e3356fa92a52f2f0/expr.ipynb\"><img src=\"../../../../__pv_it/077b2ff79244fb4582cbe22c6e3356fa92a52f2f0/expr.png\" style=\"display:inline;vertical-align:middle;\" /></a> : <a class=\"ProveItLink\" href=\"../../../../__pv_it/077b2ff79244fb4582cbe22c6e3356fa92a52f2f0/expr.ipynb\"><img src=\"../../../../__pv_it/077b2ff79244fb4582cbe22c6e3356fa92a52f2f0/expr.png\" style=\"display:inline;vertical-align:middle;\" /></a></span></td></tr><tr><td>5</td><td>axiom</td><td></td><td><span style=\"font-size:20px;\"> &#x22A2;&nbsp;<a class=\"ProveItLink\" href=\"../__pv_it/bc36f14638f4f2985006c96eddea11e1eefb89530/expr.ipynb\"><img src=\"../__pv_it/bc36f14638f4f2985006c96eddea11e1eefb89530/expr.png\" style=\"display:inline;vertical-align:middle;\" /></a></span></td></tr>\n",
       "<tr><td>&nbsp;</td><td colspan=4 style-\"text-align:left\"><a class=\"ProveItLink\" href=\"../_axioms_.ipynb#notSubsetEqDef\">proveit.logic.set_theory.containment.notSubsetEqDef</a></td></tr></table>"
      ],
      "text/plain": [
       "\tstep type\trequirements\tstatement\n",
       "0\tgeneralizaton\t1\t|- forall_{A, B | [not](A subseteq B)} (A nsubseteq B)\n",
       "1\tspecialization\t2, 3, 4\t{[not](A subseteq B)} |- A nsubseteq B\n",
       "\tP : A nsubseteq B, Q : [not](A subseteq B)\n",
       "2\ttheorem\t\t|- forall_{P, Q | Q , P = Q} P\n",
       "\tproveit.logic.equality.lhsViaEquivalence\n",
       "3\tassumption\t\t{[not](A subseteq B)} |- [not](A subseteq B)\n",
       "4\tspecialization\t5\t|- (A nsubseteq B) = [not](A subseteq B)\n",
       "\tA : A, B : B\n",
       "5\taxiom\t\t|- forall_{A, B} ((A nsubseteq B) = [not](A subseteq B))\n",
       "\tproveit.logic.set_theory.containment.notSubsetEqDef"
      ]
     },
     "execution_count": 6,
     "metadata": {},
     "output_type": "execute_result"
    }
   ],
   "source": [
    "%qed"
   ]
  },
  {
   "cell_type": "code",
   "execution_count": null,
   "metadata": {},
   "outputs": [],
   "source": []
  }
 ],
 "metadata": {
  "kernelspec": {
   "display_name": "Python 3",
   "language": "python",
   "name": "python3"
  },
  "language_info": {
   "codemirror_mode": {
    "name": "ipython",
    "version": 3
   },
   "file_extension": ".py",
   "mimetype": "text/x-python",
   "name": "python",
   "nbconvert_exporter": "python",
   "pygments_lexer": "ipython3",
   "version": "3.7.1"
  }
 },
 "nbformat": 4,
 "nbformat_minor": 1
}
