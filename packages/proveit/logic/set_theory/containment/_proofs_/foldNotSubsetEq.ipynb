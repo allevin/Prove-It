{
 "cells": [
  {
   "cell_type": "markdown",
   "metadata": {},
   "source": [
    "Proof of <a class=\"ProveItLink\" href=\"../../../../_context_.ipynb\">proveit</a>.<a class=\"ProveItLink\" href=\"../../../_context_.ipynb\">logic</a>.<a class=\"ProveItLink\" href=\"../../_context_.ipynb\">set_theory</a>.<a class=\"ProveItLink\" href=\"../_context_.ipynb\">containment</a>.<a href=\"../_theorems_.ipynb#foldNotSubsetEq\" class=\"ProveItLink\">foldNotSubsetEq</a> theorem\n",
    "========"
   ]
  },
  {
   "cell_type": "code",
   "execution_count": 1,
   "metadata": {},
   "outputs": [],
   "source": [
    "import sys\n",
    "sys.path.append('..') # allows access to modules in parent context\n",
    "import proveit"
   ]
  },
  {
   "cell_type": "code",
   "execution_count": 2,
   "metadata": {},
   "outputs": [
    {
     "name": "stdout",
     "output_type": "stream",
     "text": [
      "Beginning proof of foldNotSubsetEq\n",
      "Recorded 'presuming' information\n",
      "Presuming previous theorems (applied transitively).\n"
     ]
    },
    {
     "data": {
      "text/html": [
       "<strong id=\"foldNotSubsetEq\">foldNotSubsetEq:</strong> <a class=\"ProveItLink\" href=\"../__pv_it/f6025974729349439c7f86b49b82d3c8da80ffb30/expr.ipynb\"><img src=\"data:image/png;base64,iVBORw0KGgoAAAANSUhEUgAAANEAAAAYBAMAAACW8wWgAAAAMFBMVEX///8QEBC6urrMzMxUVFRm\n",
       "ZmZERETc3NwyMjKqqqp2dnaIiIiYmJgiIiLu7u4AAAAU9Wx4AAAAAXRSTlMAQObYZgAAA11JREFU\n",
       "SMe9VV1IU1Ec/+1u826716tv+VLsoXop2h6koghHrdFTDnH6FE6k+RJ5odIixBGE9VDuxV7qwacy\n",
       "AllUkCxyFUQfhFOQoFxNKPFFkvzKNO183Hvd7rakVv3h3nPO/5zz//2/D/CPSMD/ovI8TuavyN2R\n",
       "x3mVs3pKvhSdvC4RyOrjQ2qddZUPcu2cP3ABdi9wO4v9x+TgnnHMaOuH6ZHNo3xqCQNNbkSBdrIS\n",
       "wyUiJfjwZpWPBx7D5tW2auLk81FnUnXssRKRtrC/2LvIx7fAlL41pALDfZggjrzV0dFZakZH2SBJ\n",
       "X9locwOP9L1m8o1kUEaMWYhE3m0o61QhpuEJex8bdjlX2DilJxqlOeDsScAVBA4BrYzXzf7X5kMB\n",
       "r7n0RCbKoeprZ1uovgX7jIRI0r/iti6zZTU50Kdn5VziwTi9QczeCoUZL3PT5UpIlXRSloXE58PE\n",
       "K2cikQiJ7BPgLlxubdvi5qqJ8zqSoZREQjdNakCopMUsMZU+c9PtPgiLZqTrTOemJARuPuoBj8o1\n",
       "JFTBkKr9/gW9Pew2dCQIEpFsJQUgJctZNQyM8WNx2FNmJCbfNR3EpMZ4Dxxjjs9CIr8qrmwSdfrN\n",
       "CmKP/J0jKdFq5tB4hG198eKFakZi7txfFsYgXyuzkLuNMoKF5oaTJhnfHVWMhKgh/rItce+h9SBL\n",
       "TaokIU/i/kmYkKzMTT5i61EtrZcTgQwNseYi6v5z5Ovh66nD8exy6iLXZSqilynwEkNsq5+EO7OO\n",
       "dJNkQFSgbU2OSTNo5PddUcikWvdq4mgKs6C1af3acyWdHtXLyVqV4UdgoQooYyF+7DhxYCzXprCT\n",
       "Ik2HGlZxQzMiCGVpHUlIQWz+puL52kXO2KZfbVjz+y9Rix00lDJFsKuoYWVEBHi8JiSB9sVGWGf1\n",
       "7K2IQZgFtusnNplquiWvyieM2U5yPSl2Q1yFOGaKU5gGWCCarUA8wQzvyqAzmPUG5T5GEKN5SHf0\n",
       "yacFiLXj1hX0z4eOxExIXnyAUhvG6R9JyAFSua6eUP1lslFnejX05vQxndbjpJFixpbz+gKnwcLd\n",
       "0Lgu+jZ42W2qibGnCNJkQSCnkcs4/4uXndI9MyNZBMmpb7RHeN/jihbr/L/5hOfIeVboxECxq2oh\n",
       "5k9t/tj/zLYlMwAAAABJRU5ErkJggg==\n",
       "\" style=\"display:inline;vertical-align:middle;\" /></a><br>(see <a class=\"ProveItLink\" href=\"../__pv_it/f6025974729349439c7f86b49b82d3c8da80ffb30/dependencies.ipynb\">dependencies</a>)<br>"
      ],
      "text/plain": [
       "foldNotSubsetEq: forall_{A, B | [not](A subseteq B)} (A nsubseteq B)"
      ]
     },
     "execution_count": 2,
     "metadata": {},
     "output_type": "execute_result"
    }
   ],
   "source": [
    "%proving foldNotSubsetEq presuming []"
   ]
  },
  {
   "cell_type": "code",
   "execution_count": null,
   "metadata": {},
   "outputs": [],
   "source": []
  }
 ],
 "metadata": {
  "kernelspec": {
   "display_name": "Python 3",
   "language": "python",
   "name": "python3"
  }
 },
 "nbformat": 4,
 "nbformat_minor": 0
}
