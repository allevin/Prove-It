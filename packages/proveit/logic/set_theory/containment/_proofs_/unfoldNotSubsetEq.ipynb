{
 "cells": [
  {
   "cell_type": "markdown",
   "metadata": {},
   "source": [
    "Proof of <a class=\"ProveItLink\" href=\"../../../../_context_.ipynb\">proveit</a>.<a class=\"ProveItLink\" href=\"../../../_context_.ipynb\">logic</a>.<a class=\"ProveItLink\" href=\"../../_context_.ipynb\">set_theory</a>.<a class=\"ProveItLink\" href=\"../_context_.ipynb\">containment</a>.<a href=\"../_theorems_.ipynb#unfoldNotSubsetEq\" class=\"ProveItLink\">unfoldNotSubsetEq</a> theorem\n",
    "========"
   ]
  },
  {
   "cell_type": "code",
   "execution_count": 1,
   "metadata": {},
   "outputs": [],
   "source": [
    "import sys\n",
    "sys.path.append('..') # allows access to modules in parent context\n",
    "import proveit"
   ]
  },
  {
   "cell_type": "code",
   "execution_count": 2,
   "metadata": {},
   "outputs": [
    {
     "name": "stdout",
     "output_type": "stream",
     "text": [
      "Beginning proof of unfoldNotSubsetEq\n",
      "Recorded 'presuming' information\n",
      "Presuming previous theorems (applied transitively).\n"
     ]
    },
    {
     "data": {
      "text/html": [
       "<strong id=\"unfoldNotSubsetEq\">unfoldNotSubsetEq:</strong> <a class=\"ProveItLink\" href=\"../__pv_it/f6ae68cc9067edbfd52ff650cf88076360f2fb650/expr.ipynb\"><img src=\"data:image/png;base64,iVBORw0KGgoAAAANSUhEUgAAANcAAAAbBAMAAAAdeQdJAAAAMFBMVEX///8QEBC6urrMzMxUVFRm\n",
       "ZmZERETc3NwyMjKqqqp2dnaIiIiYmJgiIiLu7u4AAAAU9Wx4AAAAAXRSTlMAQObYZgAAA0VJREFU\n",
       "SMe9VV1IU2EYfnbmdtzO2Rxd9HMju+gi6McFQlAXjhoiBLkLlxRIk2h2IbkLUyKk3agElbuxqwgp\n",
       "IiMIo25iF66IKCMyyJtssKCgG0n8L037vu89c++QsRbmC8/5/t/n/b735wBbKdl/PKeNsMHeEptf\n",
       "WBiXg7flk9Wyvj1IzfiGXS/XQqHzfjgCUHgg526UT8aPVNLzVE7T0LieyWT81N8uWGaABBS6RKNH\n",
       "y+Yy+CumqHm3SheczLvGviwwB4xBQVrlSJZNZuO+rlZffXBRtT1xZpOYMn8BX6Bg3u/u7in/Fffw\n",
       "WEmQYmNGtUfZktMHeIQtziRhIRb7VD7ZadZ3DKnmgGtFNt4EW6oKQu8Tj+AOE44BbX+j/nbB6BqP\n",
       "j7Qi8UsHrYcmSd3xVItcdSUIuwttKSqFm7aJC2WkiFvZVORp0Oc3kI3G4f0oF30EDwxlGfrV9+Z8\n",
       "pD5Ah3OGx3NJ7OqINJ2lyRmWYlWKrDYUWlBTPNtaJaFQb58mGGmPiiyTzps+GD7l29yB90LXxVhr\n",
       "TOx6DjwuRiY+O9XUKUY2J88P5cm8CSoG31bI20Foi5zMeyYNrQ2dst8E1FBg72JkNpk5LoEPamrK\n",
       "n08zqbMxmX9GtFGsPppQjWcEjnFO5p4K4ztwR/YngRaabWdkTumGSwIDZF1vgKeZviTfK0HAoNJt\n",
       "H4mp9R8BvI5zsiPOKJ5RfHhnYZJncS+nL0AxrYKsgzJda8iVK5lmB2Vhy4U+bKryVFg216SeXgAn\n",
       "C4qLnoBLbtKWU/VW5djPk3oceutSHK/WegsD2NExF2pQSVLpJ8BU599gVG0YFmGQZWRm0phGM5xy\n",
       "zp2AWW2VK1aTsKNk3ljlKhcGExF6hHPiJZOMbCpychW3KD6cYXh/WjYMMVVjJckeWrBuHEed8qtQ\n",
       "VhNgZM2wz8IZv6uKTxLabPFfjCUtKtn9fEp6lJWOfUJVWu+Hvgp9gvlME5G2Ar1d7bySRU/YOtDJ\n",
       "dOnBEheriBNIvi5Ab/ws0mJ4PtKQzJN5G6Po/J2Goy8Wy7oHIk1X1wn4D+1yCbInFgrE5H8HFBts\n",
       "khwqpv/wfyBLFyHrEj+9WBb/Typ4NEWxdWL4t5DMvjlq/gC9Fd1NJFwlPAAAAABJRU5ErkJggg==\n",
       "\" style=\"display:inline;vertical-align:middle;\" /></a><br>(see <a class=\"ProveItLink\" href=\"../__pv_it/f6ae68cc9067edbfd52ff650cf88076360f2fb650/dependencies.ipynb\">dependencies</a>)<br>"
      ],
      "text/plain": [
       "unfoldNotSubsetEq: forall_{A, B | A nsubseteq B} [not](A subseteq B)"
      ]
     },
     "execution_count": 2,
     "metadata": {},
     "output_type": "execute_result"
    }
   ],
   "source": [
    "%proving unfoldNotSubsetEq presuming []"
   ]
  },
  {
   "cell_type": "code",
   "execution_count": null,
   "metadata": {},
   "outputs": [],
   "source": []
  }
 ],
 "metadata": {
  "kernelspec": {
   "display_name": "Python 3",
   "language": "python",
   "name": "python3"
  }
 },
 "nbformat": 4,
 "nbformat_minor": 0
}
