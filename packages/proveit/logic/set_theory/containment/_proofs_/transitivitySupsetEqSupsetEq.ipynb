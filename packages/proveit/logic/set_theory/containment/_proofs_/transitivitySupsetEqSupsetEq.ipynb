{
 "cells": [
  {
   "cell_type": "markdown",
   "metadata": {
    "collapsed": true
   },
   "source": [
    "Proof of <a class=\"ProveItLink\" href=\"../../../../_context_.ipynb\">proveit</a>.<a class=\"ProveItLink\" href=\"../../../_context_.ipynb\">logic</a>.<a class=\"ProveItLink\" href=\"../../_context_.ipynb\">set_theory</a>.<a class=\"ProveItLink\" href=\"../_context_.ipynb\">containment</a>.<a href=\"../_theorems_.ipynb#transitivitySupsetEqSupsetEq\" class=\"ProveItLink\">transitivitySupsetEqSupsetEq</a> theorem\n",
    "========"
   ]
  },
  {
   "cell_type": "code",
   "execution_count": 1,
   "metadata": {},
   "outputs": [],
   "source": [
    "import proveit\n",
    "from proveit._common_ import x, A, B, C\n",
    "from proveit.logic import InSet, SupersetEq\n",
    "from proveit.logic.set_theory.containment._axioms_ import supersetEqDef"
   ]
  },
  {
   "cell_type": "code",
   "execution_count": 2,
   "metadata": {},
   "outputs": [
    {
     "name": "stdout",
     "output_type": "stream",
     "text": [
      "Beginning proof of transitivitySupsetEqSupsetEq\n",
      "Recorded 'presuming' information\n",
      "Presuming theorems in proveit.logic (except any that presume this theorem).\n",
      "Presuming previous theorems (applied transitively).\n"
     ]
    },
    {
     "data": {
      "text/html": [
       "<strong id=\"transitivitySupsetEqSupsetEq\">transitivitySupsetEqSupsetEq:</strong> <a class=\"ProveItLink\" href=\"../__pv_it/0835d13c4e30d84d41a6a2b31ff4c6451cadab7f0/expr.ipynb\"><img src=\"../__pv_it/0835d13c4e30d84d41a6a2b31ff4c6451cadab7f0/expr.png\" style=\"display:inline;vertical-align:middle;\" /></a><br>(see <a class=\"ProveItLink\" href=\"../__pv_it/0835d13c4e30d84d41a6a2b31ff4c6451cadab7f0/dependencies.ipynb\">dependencies</a>)<br>"
      ],
      "text/plain": [
       "transitivitySupsetEqSupsetEq: forall_{A, B, C | A supseteq B , B supseteq C} (A supseteq C)"
      ]
     },
     "execution_count": 2,
     "metadata": {},
     "output_type": "execute_result"
    }
   ],
   "source": [
    "%proving transitivitySupsetEqSupsetEq presuming [proveit.logic]"
   ]
  },
  {
   "cell_type": "code",
   "execution_count": 3,
   "metadata": {},
   "outputs": [
    {
     "data": {
      "text/html": [
       "<span style=\"font-size:20px;\"> &#x22A2;&nbsp;<a class=\"ProveItLink\" href=\"../__pv_it/6ae939437665b648975aec3a2e06383d663a5d6b0/expr.ipynb\"><img src=\"../__pv_it/6ae939437665b648975aec3a2e06383d663a5d6b0/expr.png\" style=\"display:inline;vertical-align:middle;\" /></a></span>"
      ],
      "text/plain": [
       "|- forall_{A, B} ((A supseteq B) = [forall_{x in B} (x in A)])"
      ]
     },
     "execution_count": 3,
     "metadata": {},
     "output_type": "execute_result"
    }
   ],
   "source": [
    "supersetEqDef"
   ]
  },
  {
   "cell_type": "code",
   "execution_count": 4,
   "metadata": {},
   "outputs": [
    {
     "data": {
      "text/html": [
       "<strong id=\"supersetEqDefSpecAB\">supersetEqDefSpecAB:</strong> <span style=\"font-size:20px;\"> &#x22A2;&nbsp;<a class=\"ProveItLink\" href=\"../__pv_it/817b0e4fda4833096653d55889118e89e5267a6e0/expr.ipynb\"><img src=\"../__pv_it/817b0e4fda4833096653d55889118e89e5267a6e0/expr.png\" style=\"display:inline;vertical-align:middle;\" /></a></span><br>"
      ],
      "text/plain": [
       "supersetEqDefSpecAB: |- (A supseteq B) = [forall_{x in B} (x in A)]"
      ]
     },
     "execution_count": 4,
     "metadata": {},
     "output_type": "execute_result"
    }
   ],
   "source": [
    "supersetEqDefSpecAB = supersetEqDef.specialize()"
   ]
  },
  {
   "cell_type": "code",
   "execution_count": 5,
   "metadata": {},
   "outputs": [
    {
     "data": {
      "text/html": [
       "<strong id=\"supersetEqDefSpecBC\">supersetEqDefSpecBC:</strong> <span style=\"font-size:20px;\"> &#x22A2;&nbsp;<a class=\"ProveItLink\" href=\"../__pv_it/2a85d7d3d8480865f4701340a76185c34ed0e3450/expr.ipynb\"><img src=\"../__pv_it/2a85d7d3d8480865f4701340a76185c34ed0e3450/expr.png\" style=\"display:inline;vertical-align:middle;\" /></a></span><br>"
      ],
      "text/plain": [
       "supersetEqDefSpecBC: |- (B supseteq C) = [forall_{x in C} (x in B)]"
      ]
     },
     "execution_count": 5,
     "metadata": {},
     "output_type": "execute_result"
    }
   ],
   "source": [
    "supersetEqDefSpecBC = supersetEqDef.specialize({A:B, B:C})"
   ]
  },
  {
   "cell_type": "code",
   "execution_count": 6,
   "metadata": {},
   "outputs": [
    {
     "data": {
      "text/html": [
       "<strong id=\"supersetEqDefSpecAC\">supersetEqDefSpecAC:</strong> <span style=\"font-size:20px;\"> &#x22A2;&nbsp;<a class=\"ProveItLink\" href=\"../__pv_it/b0060faed227d76105da0496e38f986b60ccbd2c0/expr.ipynb\"><img src=\"../__pv_it/b0060faed227d76105da0496e38f986b60ccbd2c0/expr.png\" style=\"display:inline;vertical-align:middle;\" /></a></span><br>"
      ],
      "text/plain": [
       "supersetEqDefSpecAC: |- (A supseteq C) = [forall_{x in C} (x in A)]"
      ]
     },
     "execution_count": 6,
     "metadata": {},
     "output_type": "execute_result"
    }
   ],
   "source": [
    "supersetEqDefSpecAC = supersetEqDef.specialize({A:A, B:C})"
   ]
  },
  {
   "cell_type": "code",
   "execution_count": 7,
   "metadata": {},
   "outputs": [
    {
     "data": {
      "text/html": [
       "<span style=\"font-size:20px;\"><a class=\"ProveItLink\" href=\"../__pv_it/3a03d8ad7e9acfa22d6bc77c0ee260cdf0df31980/expr.ipynb\"><img src=\"../__pv_it/3a03d8ad7e9acfa22d6bc77c0ee260cdf0df31980/expr.png\" style=\"display:inline;vertical-align:middle;\" /></a> &#x22A2;&nbsp;<a class=\"ProveItLink\" href=\"../__pv_it/e3039446230fb9f6d03b1f4fb681c988dbb04e470/expr.ipynb\"><img src=\"../__pv_it/e3039446230fb9f6d03b1f4fb681c988dbb04e470/expr.png\" style=\"display:inline;vertical-align:middle;\" /></a></span>"
      ],
      "text/plain": [
       "{x in C , B supseteq C} |- x in B"
      ]
     },
     "execution_count": 7,
     "metadata": {},
     "output_type": "execute_result"
    }
   ],
   "source": [
    "# We work the opposite direction we worked for the Subset case\n",
    "supersetEqDefSpecBC.deriveRightViaEquivalence([supersetEqDefSpecBC.lhs]).specialize(assumptions=[InSet(x, C)])"
   ]
  },
  {
   "cell_type": "code",
   "execution_count": 8,
   "metadata": {},
   "outputs": [
    {
     "data": {
      "text/html": [
       "<span style=\"font-size:20px;\"><a class=\"ProveItLink\" href=\"../__pv_it/f7527eb579d35fdc5236d339dc96e839aea18eee0/expr.ipynb\"><img src=\"../__pv_it/f7527eb579d35fdc5236d339dc96e839aea18eee0/expr.png\" style=\"display:inline;vertical-align:middle;\" /></a> &#x22A2;&nbsp;<a class=\"ProveItLink\" href=\"../__pv_it/e05d3d69978a78d26fc94dfdf314e8417d5a3f950/expr.ipynb\"><img src=\"../__pv_it/e05d3d69978a78d26fc94dfdf314e8417d5a3f950/expr.png\" style=\"display:inline;vertical-align:middle;\" /></a></span>"
      ],
      "text/plain": [
       "{x in C , B supseteq C , A supseteq B} |- x in A"
      ]
     },
     "execution_count": 8,
     "metadata": {},
     "output_type": "execute_result"
    }
   ],
   "source": [
    "supersetEqDefSpecAB.deriveRightViaEquivalence([supersetEqDefSpecAB.lhs]).specialize(assumptions=[InSet(x, C), SupersetEq(B, C)])"
   ]
  },
  {
   "cell_type": "code",
   "execution_count": 9,
   "metadata": {},
   "outputs": [
    {
     "data": {
      "text/html": [
       "<span style=\"font-size:20px;\"><a class=\"ProveItLink\" href=\"../__pv_it/f76569aea7eb588acb95fb6113c273762fdcbe030/expr.ipynb\"><img src=\"../__pv_it/f76569aea7eb588acb95fb6113c273762fdcbe030/expr.png\" style=\"display:inline;vertical-align:middle;\" /></a> &#x22A2;&nbsp;<a class=\"ProveItLink\" href=\"../__pv_it/a0852f37fb67b0fa66a7a4eabfdbb9b6fb8a49850/expr.ipynb\"><img src=\"../__pv_it/a0852f37fb67b0fa66a7a4eabfdbb9b6fb8a49850/expr.png\" style=\"display:inline;vertical-align:middle;\" /></a></span>"
      ],
      "text/plain": [
       "{A supseteq B , B supseteq C} |- forall_{x in C} (x in A)"
      ]
     },
     "execution_count": 9,
     "metadata": {},
     "output_type": "execute_result"
    }
   ],
   "source": [
    "supersetEqDefSpecAC.rhs.prove(assumptions=[SupersetEq(A,B), SupersetEq(B,C)])"
   ]
  },
  {
   "cell_type": "code",
   "execution_count": 10,
   "metadata": {},
   "outputs": [
    {
     "data": {
      "text/html": [
       "<table><tr><th>&nbsp;</th><th>step type</th><th>requirements</th><th>statement</th></tr>\n",
       "<tr><td>0</td><td>generalizaton</td><td>1</td><td><span style=\"font-size:20px;\"> &#x22A2;&nbsp;<a class=\"ProveItLink\" href=\"../__pv_it/0835d13c4e30d84d41a6a2b31ff4c6451cadab7f0/expr.ipynb\"><img src=\"../__pv_it/0835d13c4e30d84d41a6a2b31ff4c6451cadab7f0/expr.png\" style=\"display:inline;vertical-align:middle;\" /></a></span></td></tr>\n",
       "<tr><td>1</td><td>modus ponens</td><td>2, 3</td><td><span style=\"font-size:20px;\"><a class=\"ProveItLink\" href=\"../__pv_it/f76569aea7eb588acb95fb6113c273762fdcbe030/expr.ipynb\"><img src=\"../__pv_it/f76569aea7eb588acb95fb6113c273762fdcbe030/expr.png\" style=\"display:inline;vertical-align:middle;\" /></a> &#x22A2;&nbsp;<a class=\"ProveItLink\" href=\"../__pv_it/5164afc8629fb8ba83d3f70679000b41a90c75300/expr.ipynb\"><img src=\"../__pv_it/5164afc8629fb8ba83d3f70679000b41a90c75300/expr.png\" style=\"display:inline;vertical-align:middle;\" /></a></span></td></tr>\n",
       "<tr><td>2</td><td>specialization</td><td>4</td><td><span style=\"font-size:20px;\"> &#x22A2;&nbsp;<a class=\"ProveItLink\" href=\"../__pv_it/9cb5e2560842f6be2e41a7ecdcd7861540f1ea8e0/expr.ipynb\"><img src=\"../__pv_it/9cb5e2560842f6be2e41a7ecdcd7861540f1ea8e0/expr.png\" style=\"display:inline;vertical-align:middle;\" /></a></span></td></tr>\n",
       "<tr><td>&nbsp;</td><td colspan=4 style=\"text-align:left\"><span style=\"font-size:20px;\"><a class=\"ProveItLink\" href=\"../../../../__pv_it/2cbe72a7ad6f655694dd697106680215e8489b600/expr.ipynb\"><img src=\"../../../../__pv_it/2cbe72a7ad6f655694dd697106680215e8489b600/expr.png\" style=\"display:inline;vertical-align:middle;\" /></a> : <a class=\"ProveItLink\" href=\"../../../../__pv_it/2cbe72a7ad6f655694dd697106680215e8489b600/expr.ipynb\"><img src=\"../../../../__pv_it/2cbe72a7ad6f655694dd697106680215e8489b600/expr.png\" style=\"display:inline;vertical-align:middle;\" /></a>, <a class=\"ProveItLink\" href=\"../../../../__pv_it/077b2ff79244fb4582cbe22c6e3356fa92a52f2f0/expr.ipynb\"><img src=\"../../../../__pv_it/077b2ff79244fb4582cbe22c6e3356fa92a52f2f0/expr.png\" style=\"display:inline;vertical-align:middle;\" /></a> : <a class=\"ProveItLink\" href=\"../../../../__pv_it/985a1bdf1540838275dec15f4ad6de261cca93ce0/expr.ipynb\"><img src=\"../../../../__pv_it/985a1bdf1540838275dec15f4ad6de261cca93ce0/expr.png\" style=\"display:inline;vertical-align:middle;\" /></a>, relabeling <a class=\"ProveItLink\" href=\"../../../../__pv_it/530be409e3083890784cf1d7b28c9e67e90af9360/expr.ipynb\"><img src=\"../../../../__pv_it/530be409e3083890784cf1d7b28c9e67e90af9360/expr.png\" style=\"display:inline;vertical-align:middle;\" /></a> : <a class=\"ProveItLink\" href=\"../__pv_it/5144cf74ae6a683b49b974f1b9302b432abf7e930/expr.ipynb\"><img src=\"../__pv_it/5144cf74ae6a683b49b974f1b9302b432abf7e930/expr.png\" style=\"display:inline;vertical-align:middle;\" /></a></span></td></tr><tr><td>3</td><td>generalizaton</td><td>5</td><td><span style=\"font-size:20px;\"><a class=\"ProveItLink\" href=\"../__pv_it/f76569aea7eb588acb95fb6113c273762fdcbe030/expr.ipynb\"><img src=\"../__pv_it/f76569aea7eb588acb95fb6113c273762fdcbe030/expr.png\" style=\"display:inline;vertical-align:middle;\" /></a> &#x22A2;&nbsp;<a class=\"ProveItLink\" href=\"../__pv_it/a0852f37fb67b0fa66a7a4eabfdbb9b6fb8a49850/expr.ipynb\"><img src=\"../__pv_it/a0852f37fb67b0fa66a7a4eabfdbb9b6fb8a49850/expr.png\" style=\"display:inline;vertical-align:middle;\" /></a></span></td></tr>\n",
       "<tr><td>4</td><td>theorem</td><td></td><td><span style=\"font-size:20px;\"> &#x22A2;&nbsp;<a class=\"ProveItLink\" href=\"../__pv_it/1fbadd58b961d5334bc842b973ef71022182a74b0/expr.ipynb\"><img src=\"../__pv_it/1fbadd58b961d5334bc842b973ef71022182a74b0/expr.png\" style=\"display:inline;vertical-align:middle;\" /></a></span></td></tr>\n",
       "<tr><td>&nbsp;</td><td colspan=4 style-\"text-align:left\"><a class=\"ProveItLink\" href=\"foldSupsetEq.ipynb\">proveit.logic.set_theory.containment.foldSupsetEq</a></td></tr><tr><td>5</td><td>specialization</td><td>6, 7</td><td><span style=\"font-size:20px;\"><a class=\"ProveItLink\" href=\"../__pv_it/f7527eb579d35fdc5236d339dc96e839aea18eee0/expr.ipynb\"><img src=\"../__pv_it/f7527eb579d35fdc5236d339dc96e839aea18eee0/expr.png\" style=\"display:inline;vertical-align:middle;\" /></a> &#x22A2;&nbsp;<a class=\"ProveItLink\" href=\"../__pv_it/e05d3d69978a78d26fc94dfdf314e8417d5a3f950/expr.ipynb\"><img src=\"../__pv_it/e05d3d69978a78d26fc94dfdf314e8417d5a3f950/expr.png\" style=\"display:inline;vertical-align:middle;\" /></a></span></td></tr>\n",
       "<tr><td>&nbsp;</td><td colspan=4 style=\"text-align:left\"><span style=\"font-size:20px;\"><a class=\"ProveItLink\" href=\"../../../../__pv_it/530be409e3083890784cf1d7b28c9e67e90af9360/expr.ipynb\"><img src=\"../../../../__pv_it/530be409e3083890784cf1d7b28c9e67e90af9360/expr.png\" style=\"display:inline;vertical-align:middle;\" /></a> : <a class=\"ProveItLink\" href=\"../../../../__pv_it/530be409e3083890784cf1d7b28c9e67e90af9360/expr.ipynb\"><img src=\"../../../../__pv_it/530be409e3083890784cf1d7b28c9e67e90af9360/expr.png\" style=\"display:inline;vertical-align:middle;\" /></a></span></td></tr><tr><td>6</td><td>specialization</td><td>12, 8, 9</td><td><span style=\"font-size:20px;\"><a class=\"ProveItLink\" href=\"../__pv_it/0d278ce4020beac975b6b7f21fa0c7888dba6bc60/expr.ipynb\"><img src=\"../__pv_it/0d278ce4020beac975b6b7f21fa0c7888dba6bc60/expr.png\" style=\"display:inline;vertical-align:middle;\" /></a> &#x22A2;&nbsp;<a class=\"ProveItLink\" href=\"../__pv_it/8f76ded78038b5b3c017c8e6fe2e9b4719327a110/expr.ipynb\"><img src=\"../__pv_it/8f76ded78038b5b3c017c8e6fe2e9b4719327a110/expr.png\" style=\"display:inline;vertical-align:middle;\" /></a></span></td></tr>\n",
       "<tr><td>&nbsp;</td><td colspan=4 style=\"text-align:left\"><span style=\"font-size:20px;\"><a class=\"ProveItLink\" href=\"../../../../__pv_it/6369c6c8083c513ca7161ace249642d040f9327d0/expr.ipynb\"><img src=\"../../../../__pv_it/6369c6c8083c513ca7161ace249642d040f9327d0/expr.png\" style=\"display:inline;vertical-align:middle;\" /></a> : <a class=\"ProveItLink\" href=\"../__pv_it/ef1a840a5f24fcc253d957fcfc8d0af00816fb5c0/expr.ipynb\"><img src=\"../__pv_it/ef1a840a5f24fcc253d957fcfc8d0af00816fb5c0/expr.png\" style=\"display:inline;vertical-align:middle;\" /></a>, <a class=\"ProveItLink\" href=\"../../../../__pv_it/98124f92e6e1fc3772af50ac63eaa1f5624776f20/expr.ipynb\"><img src=\"../../../../__pv_it/98124f92e6e1fc3772af50ac63eaa1f5624776f20/expr.png\" style=\"display:inline;vertical-align:middle;\" /></a> : <a class=\"ProveItLink\" href=\"../__pv_it/8f76ded78038b5b3c017c8e6fe2e9b4719327a110/expr.ipynb\"><img src=\"../__pv_it/8f76ded78038b5b3c017c8e6fe2e9b4719327a110/expr.png\" style=\"display:inline;vertical-align:middle;\" /></a></span></td></tr><tr><td>7</td><td>specialization</td><td>10, 11</td><td><span style=\"font-size:20px;\"><a class=\"ProveItLink\" href=\"../__pv_it/3a03d8ad7e9acfa22d6bc77c0ee260cdf0df31980/expr.ipynb\"><img src=\"../__pv_it/3a03d8ad7e9acfa22d6bc77c0ee260cdf0df31980/expr.png\" style=\"display:inline;vertical-align:middle;\" /></a> &#x22A2;&nbsp;<a class=\"ProveItLink\" href=\"../__pv_it/e3039446230fb9f6d03b1f4fb681c988dbb04e470/expr.ipynb\"><img src=\"../__pv_it/e3039446230fb9f6d03b1f4fb681c988dbb04e470/expr.png\" style=\"display:inline;vertical-align:middle;\" /></a></span></td></tr>\n",
       "<tr><td>&nbsp;</td><td colspan=4 style=\"text-align:left\"><span style=\"font-size:20px;\"><a class=\"ProveItLink\" href=\"../../../../__pv_it/530be409e3083890784cf1d7b28c9e67e90af9360/expr.ipynb\"><img src=\"../../../../__pv_it/530be409e3083890784cf1d7b28c9e67e90af9360/expr.png\" style=\"display:inline;vertical-align:middle;\" /></a> : <a class=\"ProveItLink\" href=\"../../../../__pv_it/530be409e3083890784cf1d7b28c9e67e90af9360/expr.ipynb\"><img src=\"../../../../__pv_it/530be409e3083890784cf1d7b28c9e67e90af9360/expr.png\" style=\"display:inline;vertical-align:middle;\" /></a></span></td></tr><tr><td>8</td><td>assumption</td><td></td><td><span style=\"font-size:20px;\"><a class=\"ProveItLink\" href=\"../__pv_it/0d278ce4020beac975b6b7f21fa0c7888dba6bc60/expr.ipynb\"><img src=\"../__pv_it/0d278ce4020beac975b6b7f21fa0c7888dba6bc60/expr.png\" style=\"display:inline;vertical-align:middle;\" /></a> &#x22A2;&nbsp;<a class=\"ProveItLink\" href=\"../__pv_it/ef1a840a5f24fcc253d957fcfc8d0af00816fb5c0/expr.ipynb\"><img src=\"../__pv_it/ef1a840a5f24fcc253d957fcfc8d0af00816fb5c0/expr.png\" style=\"display:inline;vertical-align:middle;\" /></a></span></td></tr>\n",
       "<tr><td>9</td><td>specialization</td><td>15</td><td><span style=\"font-size:20px;\"> &#x22A2;&nbsp;<a class=\"ProveItLink\" href=\"../__pv_it/817b0e4fda4833096653d55889118e89e5267a6e0/expr.ipynb\"><img src=\"../__pv_it/817b0e4fda4833096653d55889118e89e5267a6e0/expr.png\" style=\"display:inline;vertical-align:middle;\" /></a></span></td></tr>\n",
       "<tr><td>&nbsp;</td><td colspan=4 style=\"text-align:left\"><span style=\"font-size:20px;\"><a class=\"ProveItLink\" href=\"../../../../__pv_it/2cbe72a7ad6f655694dd697106680215e8489b600/expr.ipynb\"><img src=\"../../../../__pv_it/2cbe72a7ad6f655694dd697106680215e8489b600/expr.png\" style=\"display:inline;vertical-align:middle;\" /></a> : <a class=\"ProveItLink\" href=\"../../../../__pv_it/2cbe72a7ad6f655694dd697106680215e8489b600/expr.ipynb\"><img src=\"../../../../__pv_it/2cbe72a7ad6f655694dd697106680215e8489b600/expr.png\" style=\"display:inline;vertical-align:middle;\" /></a>, <a class=\"ProveItLink\" href=\"../../../../__pv_it/077b2ff79244fb4582cbe22c6e3356fa92a52f2f0/expr.ipynb\"><img src=\"../../../../__pv_it/077b2ff79244fb4582cbe22c6e3356fa92a52f2f0/expr.png\" style=\"display:inline;vertical-align:middle;\" /></a> : <a class=\"ProveItLink\" href=\"../../../../__pv_it/077b2ff79244fb4582cbe22c6e3356fa92a52f2f0/expr.ipynb\"><img src=\"../../../../__pv_it/077b2ff79244fb4582cbe22c6e3356fa92a52f2f0/expr.png\" style=\"display:inline;vertical-align:middle;\" /></a></span></td></tr><tr><td>10</td><td>specialization</td><td>12, 13, 14</td><td><span style=\"font-size:20px;\"><a class=\"ProveItLink\" href=\"../__pv_it/c287d28bffb3299521cdb6d6b4e2d6a3c431f8ea0/expr.ipynb\"><img src=\"../__pv_it/c287d28bffb3299521cdb6d6b4e2d6a3c431f8ea0/expr.png\" style=\"display:inline;vertical-align:middle;\" /></a> &#x22A2;&nbsp;<a class=\"ProveItLink\" href=\"../__pv_it/c4ef43bbd5cf6395b84a91c4d3883d6d1285fa1e0/expr.ipynb\"><img src=\"../__pv_it/c4ef43bbd5cf6395b84a91c4d3883d6d1285fa1e0/expr.png\" style=\"display:inline;vertical-align:middle;\" /></a></span></td></tr>\n",
       "<tr><td>&nbsp;</td><td colspan=4 style=\"text-align:left\"><span style=\"font-size:20px;\"><a class=\"ProveItLink\" href=\"../../../../__pv_it/6369c6c8083c513ca7161ace249642d040f9327d0/expr.ipynb\"><img src=\"../../../../__pv_it/6369c6c8083c513ca7161ace249642d040f9327d0/expr.png\" style=\"display:inline;vertical-align:middle;\" /></a> : <a class=\"ProveItLink\" href=\"../__pv_it/dbcad2e7b17d41ad62f88786f66d0a075c08fb400/expr.ipynb\"><img src=\"../__pv_it/dbcad2e7b17d41ad62f88786f66d0a075c08fb400/expr.png\" style=\"display:inline;vertical-align:middle;\" /></a>, <a class=\"ProveItLink\" href=\"../../../../__pv_it/98124f92e6e1fc3772af50ac63eaa1f5624776f20/expr.ipynb\"><img src=\"../../../../__pv_it/98124f92e6e1fc3772af50ac63eaa1f5624776f20/expr.png\" style=\"display:inline;vertical-align:middle;\" /></a> : <a class=\"ProveItLink\" href=\"../__pv_it/c4ef43bbd5cf6395b84a91c4d3883d6d1285fa1e0/expr.ipynb\"><img src=\"../__pv_it/c4ef43bbd5cf6395b84a91c4d3883d6d1285fa1e0/expr.png\" style=\"display:inline;vertical-align:middle;\" /></a></span></td></tr><tr><td>11</td><td>assumption</td><td></td><td><span style=\"font-size:20px;\"><a class=\"ProveItLink\" href=\"../__pv_it/e10cfa450c2845645e13e5fb58e846645b4ff2b90/expr.ipynb\"><img src=\"../__pv_it/e10cfa450c2845645e13e5fb58e846645b4ff2b90/expr.png\" style=\"display:inline;vertical-align:middle;\" /></a> &#x22A2;&nbsp;<a class=\"ProveItLink\" href=\"../__pv_it/b7bd3b6b18708b1c6c374042ff610be775740bc40/expr.ipynb\"><img src=\"../__pv_it/b7bd3b6b18708b1c6c374042ff610be775740bc40/expr.png\" style=\"display:inline;vertical-align:middle;\" /></a></span></td></tr>\n",
       "<tr><td>12</td><td>theorem</td><td></td><td><span style=\"font-size:20px;\"> &#x22A2;&nbsp;<a class=\"ProveItLink\" href=\"../../../equality/__pv_it/5519e736e5532a5ae5ff775c349b2696cf5476500/expr.ipynb\"><img src=\"../../../equality/__pv_it/5519e736e5532a5ae5ff775c349b2696cf5476500/expr.png\" style=\"display:inline;vertical-align:middle;\" /></a></span></td></tr>\n",
       "<tr><td>&nbsp;</td><td colspan=4 style-\"text-align:left\"><a class=\"ProveItLink\" href=\"../../../equality/_proofs_/rhsViaEquivalence.ipynb\">proveit.logic.equality.rhsViaEquivalence</a></td></tr><tr><td>13</td><td>assumption</td><td></td><td><span style=\"font-size:20px;\"><a class=\"ProveItLink\" href=\"../__pv_it/c287d28bffb3299521cdb6d6b4e2d6a3c431f8ea0/expr.ipynb\"><img src=\"../__pv_it/c287d28bffb3299521cdb6d6b4e2d6a3c431f8ea0/expr.png\" style=\"display:inline;vertical-align:middle;\" /></a> &#x22A2;&nbsp;<a class=\"ProveItLink\" href=\"../__pv_it/dbcad2e7b17d41ad62f88786f66d0a075c08fb400/expr.ipynb\"><img src=\"../__pv_it/dbcad2e7b17d41ad62f88786f66d0a075c08fb400/expr.png\" style=\"display:inline;vertical-align:middle;\" /></a></span></td></tr>\n",
       "<tr><td>14</td><td>specialization</td><td>15</td><td><span style=\"font-size:20px;\"> &#x22A2;&nbsp;<a class=\"ProveItLink\" href=\"../__pv_it/2a85d7d3d8480865f4701340a76185c34ed0e3450/expr.ipynb\"><img src=\"../__pv_it/2a85d7d3d8480865f4701340a76185c34ed0e3450/expr.png\" style=\"display:inline;vertical-align:middle;\" /></a></span></td></tr>\n",
       "<tr><td>&nbsp;</td><td colspan=4 style=\"text-align:left\"><span style=\"font-size:20px;\"><a class=\"ProveItLink\" href=\"../../../../__pv_it/2cbe72a7ad6f655694dd697106680215e8489b600/expr.ipynb\"><img src=\"../../../../__pv_it/2cbe72a7ad6f655694dd697106680215e8489b600/expr.png\" style=\"display:inline;vertical-align:middle;\" /></a> : <a class=\"ProveItLink\" href=\"../../../../__pv_it/077b2ff79244fb4582cbe22c6e3356fa92a52f2f0/expr.ipynb\"><img src=\"../../../../__pv_it/077b2ff79244fb4582cbe22c6e3356fa92a52f2f0/expr.png\" style=\"display:inline;vertical-align:middle;\" /></a>, <a class=\"ProveItLink\" href=\"../../../../__pv_it/077b2ff79244fb4582cbe22c6e3356fa92a52f2f0/expr.ipynb\"><img src=\"../../../../__pv_it/077b2ff79244fb4582cbe22c6e3356fa92a52f2f0/expr.png\" style=\"display:inline;vertical-align:middle;\" /></a> : <a class=\"ProveItLink\" href=\"../../../../__pv_it/985a1bdf1540838275dec15f4ad6de261cca93ce0/expr.ipynb\"><img src=\"../../../../__pv_it/985a1bdf1540838275dec15f4ad6de261cca93ce0/expr.png\" style=\"display:inline;vertical-align:middle;\" /></a></span></td></tr><tr><td>15</td><td>axiom</td><td></td><td><span style=\"font-size:20px;\"> &#x22A2;&nbsp;<a class=\"ProveItLink\" href=\"../__pv_it/6ae939437665b648975aec3a2e06383d663a5d6b0/expr.ipynb\"><img src=\"../__pv_it/6ae939437665b648975aec3a2e06383d663a5d6b0/expr.png\" style=\"display:inline;vertical-align:middle;\" /></a></span></td></tr>\n",
       "<tr><td>&nbsp;</td><td colspan=4 style-\"text-align:left\"><a class=\"ProveItLink\" href=\"../_axioms_.ipynb#supersetEqDef\">proveit.logic.set_theory.containment.supersetEqDef</a></td></tr></table>"
      ],
      "text/plain": [
       "\tstep type\trequirements\tstatement\n",
       "0\tgeneralizaton\t1\t|- forall_{A, B, C | A supseteq B , B supseteq C} (A supseteq C)\n",
       "1\tmodus ponens\t2, 3\t{A supseteq B , B supseteq C} |- A supseteq C\n",
       "2\tspecialization\t4\t|- [forall_{_x_ in C} (_x_ in A)] => (A supseteq C)\n",
       "\tA : A, B : C, relabeling x : _x_\n",
       "3\tgeneralizaton\t5\t{A supseteq B , B supseteq C} |- forall_{x in C} (x in A)\n",
       "4\ttheorem\t\t|- forall_{A, B} ([forall_{x in B} (x in A)] => (A supseteq B))\n",
       "\tproveit.logic.set_theory.containment.foldSupsetEq\n",
       "5\tspecialization\t6, 7\t{x in C , B supseteq C , A supseteq B} |- x in A\n",
       "\tx : x\n",
       "6\tspecialization\t12, 8, 9\t{A supseteq B} |- forall_{x in B} (x in A)\n",
       "\tP : A supseteq B, Q : forall_{x in B} (x in A)\n",
       "7\tspecialization\t10, 11\t{x in C , B supseteq C} |- x in B\n",
       "\tx : x\n",
       "8\tassumption\t\t{A supseteq B} |- A supseteq B\n",
       "9\tspecialization\t15\t|- (A supseteq B) = [forall_{x in B} (x in A)]\n",
       "\tA : A, B : B\n",
       "10\tspecialization\t12, 13, 14\t{B supseteq C} |- forall_{x in C} (x in B)\n",
       "\tP : B supseteq C, Q : forall_{x in C} (x in B)\n",
       "11\tassumption\t\t{x in C} |- x in C\n",
       "12\ttheorem\t\t|- forall_{P, Q | P , P = Q} Q\n",
       "\tproveit.logic.equality.rhsViaEquivalence\n",
       "13\tassumption\t\t{B supseteq C} |- B supseteq C\n",
       "14\tspecialization\t15\t|- (B supseteq C) = [forall_{x in C} (x in B)]\n",
       "\tA : B, B : C\n",
       "15\taxiom\t\t|- forall_{A, B} ((A supseteq B) = [forall_{x in B} (x in A)])\n",
       "\tproveit.logic.set_theory.containment.supersetEqDef"
      ]
     },
     "execution_count": 10,
     "metadata": {},
     "output_type": "execute_result"
    }
   ],
   "source": [
    "%qed"
   ]
  },
  {
   "cell_type": "code",
   "execution_count": null,
   "metadata": {},
   "outputs": [],
   "source": []
  }
 ],
 "metadata": {
  "kernelspec": {
   "display_name": "Python 3",
   "language": "python",
   "name": "python3"
  },
  "language_info": {
   "codemirror_mode": {
    "name": "ipython",
    "version": 3
   },
   "file_extension": ".py",
   "mimetype": "text/x-python",
   "name": "python",
   "nbconvert_exporter": "python",
   "pygments_lexer": "ipython3",
   "version": "3.7.1"
  }
 },
 "nbformat": 4,
 "nbformat_minor": 1
}
