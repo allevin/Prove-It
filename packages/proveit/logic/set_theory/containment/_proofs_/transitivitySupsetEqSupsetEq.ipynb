{
 "cells": [
  {
   "cell_type": "markdown",
   "metadata": {},
   "source": [
    "Proof of <a class=\"ProveItLink\" href=\"../../../../_context_.ipynb\">proveit</a>.<a class=\"ProveItLink\" href=\"../../../_context_.ipynb\">logic</a>.<a class=\"ProveItLink\" href=\"../../_context_.ipynb\">set_theory</a>.<a class=\"ProveItLink\" href=\"../_context_.ipynb\">containment</a>.<a href=\"../_theorems_.ipynb#transitivitySupsetEqSupsetEq\" class=\"ProveItLink\">transitivitySupsetEqSupsetEq</a> theorem\n",
    "========"
   ]
  },
  {
   "cell_type": "code",
   "execution_count": 1,
   "metadata": {},
   "outputs": [],
   "source": [
    "import sys\n",
    "sys.path.append('..') # allows access to modules in parent context\n",
    "import proveit"
   ]
  },
  {
   "cell_type": "code",
   "execution_count": 2,
   "metadata": {},
   "outputs": [
    {
     "name": "stdout",
     "output_type": "stream",
     "text": [
      "Beginning proof of transitivitySupsetEqSupsetEq\n",
      "Recorded 'presuming' information\n",
      "Presuming previous theorems (applied transitively).\n"
     ]
    },
    {
     "data": {
      "text/html": [
       "<strong id=\"transitivitySupsetEqSupsetEq\">transitivitySupsetEqSupsetEq:</strong> <a class=\"ProveItLink\" href=\"../__pv_it/4ed2efc8a98a7b4109ffccd148517cee3b19261c0/expr.ipynb\"><img src=\"data:image/png;base64,iVBORw0KGgoAAAANSUhEUgAAAPcAAAAXBAMAAAAl5sTiAAAAMFBMVEX///8QEBC6urrMzMxUVFRm\n",
       "ZmZERETc3NwyMjKqqqp2dnaIiIiYmJgiIiLu7u4AAAAU9Wx4AAAAAXRSTlMAQObYZgAAA4ZJREFU\n",
       "SMfFVk1IVFEU/nzjzNOZ59NdP4syqDb9zcJqIeFQGu2cwCmKoqJ6QYt8i8p+EA0KiaBmY2ujRVag\n",
       "9kMtXPRqEf0QGVFEZY2UEIgViZZZ1jnnvjfzZsxsMdKFd+99937vfvd895xzH/A/S2q6Fl40xfwd\n",
       "enq48zD/3IGYanomTpk3arbo8WAUuMivp/NPXqQkLfo8ceqcA229g2bgIL3p2/NP3q2aR+MTZj68\n",
       "oarTxgO1w2Ay/+RzpNZbv0q7pLe395Q7c4w1mQf0AcaFhobG/HNrzdJEIl/SQwNPpQmOcn0ACJHJ\n",
       "I5b1Mv/kwTZplhb/yIw12lw3ybbeAeE4sAbYI3MtUp8dTqyNql3XbB5guJb2IdvrFdcn6nbmwLlc\n",
       "T3TcdLGO+HV5YMynhgTANsdbhHYxH6bsxVACGWWIlEmQvAZ2cCfkffy4HAstay8f2W3gSgauWZbV\n",
       "QS+rHITKFLagXOigD/vkkLB765mgEbQEEdlLvxIoGIMmTrKMDDrrJzfVngNsch3N21nwFVFoQ2SO\n",
       "GzilQl5RXT3iI1/D1S8vtwUoCiNOiYRkxzMZLelCkHdozqaq0k8eHoyrUKHnFbA1C87y9dE5B7r8\n",
       "5FTNzCWfK5JHFbnZXCEGdVkC+BTFPbYpzNnho5+8MqSsMpIwh2C0ZMGB++jkPbjpuoCjt5ieJ7my\n",
       "1zIi6MqOPat5rNA1ZVn39X1iUjrxeOQxZSL0OLSx7rWpLDgHz3MfT4iP6DA9ZzJjxaJcFWvDHmKw\n",
       "q7X2qI3fEkQ7eROvW9qWQ24kIypV6m0IN8OYkwUHjuC7j5zjSBy5PnNzLZGuQXG+wHYhKOCtmM8S\n",
       "CrabpGTJCojc7PKRDyY2qFQZKUcoDlNyRRoOXAV7yYDnyj3Qd3yzcffXCY97uXuDVBxPyBdF7BaG\n",
       "HIKNKonXUeXnCJLs4ZSPfCMCQ9Kh26A0Ka7tg/P9sMHVU8qMrJxD6fXF6pw81JfuLaYVHb0F+jh0\n",
       "cvtDtjkLOO+TXaNDlGAcoDNuSqExjgycr8kU+pIIpxPOgymT4GWv834Eeu3rwA+0DyfWkShVDvpr\n",
       "LqUy5Gbtduz/6VCS2USKnEnUnaQA8eCUZHbTR2bd5o7cK3XyolKbrxjpnuNz3Em/N/6yth6bgrzQ\n",
       "zhlYmf4Psf+FfOXfFj86Bfm13AHnTzb5yUl2a9cEOOd2K4bpKIXT9vP6G2lS8mrAHQ2zAAAAAElF\n",
       "TkSuQmCC\n",
       "\" style=\"display:inline;vertical-align:middle;\" /></a><br>(see <a class=\"ProveItLink\" href=\"../__pv_it/4ed2efc8a98a7b4109ffccd148517cee3b19261c0/dependencies.ipynb\">dependencies</a>)<br>"
      ],
      "text/plain": [
       "transitivitySupsetEqSupsetEq: forall_{A, B, C | A supseteq B , B supseteq C} (A supset C)"
      ]
     },
     "execution_count": 2,
     "metadata": {},
     "output_type": "execute_result"
    }
   ],
   "source": [
    "%proving transitivitySupsetEqSupsetEq presuming []"
   ]
  },
  {
   "cell_type": "code",
   "execution_count": null,
   "metadata": {},
   "outputs": [],
   "source": []
  }
 ],
 "metadata": {
  "kernelspec": {
   "display_name": "Python 3",
   "language": "python",
   "name": "python3"
  }
 },
 "nbformat": 4,
 "nbformat_minor": 0
}
