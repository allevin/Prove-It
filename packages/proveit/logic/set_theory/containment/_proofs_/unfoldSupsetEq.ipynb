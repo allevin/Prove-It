{
 "cells": [
  {
   "cell_type": "markdown",
   "metadata": {},
   "source": [
    "Proof of <a class=\"ProveItLink\" href=\"../../../../_context_.ipynb\">proveit</a>.<a class=\"ProveItLink\" href=\"../../../_context_.ipynb\">logic</a>.<a class=\"ProveItLink\" href=\"../../_context_.ipynb\">set_theory</a>.<a class=\"ProveItLink\" href=\"../_context_.ipynb\">containment</a>.<a href=\"../_theorems_.ipynb#unfoldSupsetEq\" class=\"ProveItLink\">unfoldSupsetEq</a> theorem\n",
    "========"
   ]
  },
  {
   "cell_type": "code",
   "execution_count": 1,
   "metadata": {},
   "outputs": [],
   "source": [
    "import sys\n",
    "sys.path.append('..') # allows access to modules in parent context\n",
    "import proveit"
   ]
  },
  {
   "cell_type": "code",
   "execution_count": 2,
   "metadata": {},
   "outputs": [
    {
     "name": "stdout",
     "output_type": "stream",
     "text": [
      "Beginning proof of unfoldSupsetEq\n",
      "Recorded 'presuming' information\n",
      "Presuming previous theorems (applied transitively).\n"
     ]
    },
    {
     "data": {
      "text/html": [
       "<strong id=\"unfoldSupsetEq\">unfoldSupsetEq:</strong> <a class=\"ProveItLink\" href=\"../__pv_it/891ae74f94ef6cb662c01bd11d4da4d56fa5377c0/expr.ipynb\"><img src=\"data:image/png;base64,iVBORw0KGgoAAAANSUhEUgAAAPYAAAAXCAMAAAAP1ELdAAAAM1BMVEX///+/v78QEBC6urrMzMxU\n",
       "VFRmZmZERETc3NwyMjKqqqp2dnaIiIiYmJgiIiLu7u4AAAB/uxFxAAAAAXRSTlMAQObYZgAAAxZJ\n",
       "REFUWMPlWEl25CAMpc0kZu5/2jAYEDbUS8ovtUiziUP0LX3NDiH/5wmfVmi9+vfoBdS+CXS0/lCe\n",
       "Ej9u7Udom4c6Gf855FQoWDfB6PZHFT5F+5HOdyCxPXQTQJ5X/eH3aT/RaX+eH87H01XONBO694T+\n",
       "GO0nOo99sINVPh11uQYtIpwSRzfBGSjHk8/Rfl8nVfsKVm7pEktspOez1M0EEmU+3nyQ9vs6xQkB\n",
       "YzloK0bKg1znAQ1ER9eUi24CL/1NAmoB6FnLKITgkqEX3VoG3LUtcIj2Xec34aoSCCaXrCPHyJfN\n",
       "y0JSx2LzjlbdBJonQkDJ4yIm5ko92GPcXPtQlaclgNKELQ7Rvum896E1/Kim5Zjb1J91d0vYdMcs\n",
       "D1G0345uQhmj1g3/iOhwWpU5SSPsaM/yrAXojkO0rzp7U0ohdq/gZ0Syb/lkBz38edQ85fOJTZTF\n",
       "YUJW70dhmOAFAvqSIMJvo32RbzG84zDti86z+UgKIYRXcJSIh/3GFlPFD7WgnQxFIGaJRMRCZGWh\n",
       "gx3ti3yS1Rscpo10puZEbS52J16qrQT6yIMi0T0XllPhlPbHIslTN+DDiXz2MY3WWj51yZk2v8YE\n",
       "xAaHaQ+dqRmkdM10cHbu4LKWgINS2sQOAe7urEFf1jSnkAka2Z1jZSOyUtUGEza0r/J5tmxwE+2u\n",
       "k7b2zPA428HrBMoTSabAAcrz4G8TpvdM2dY0NMCmMkl1KkSXyghRc06vad/kkxPoBjfRxqVZ+xbz\n",
       "dRbYV3Dqa9u2Jhgz90RQYhp3II9YisTJGFUtIEWxCWO9EVAKf+CrYopuJto3+bZnL3Az7aGTpbgl\n",
       "sYCb0hZ+7Gc90VwtllMcpGMyYTiz+i9PJCieghJImHq1XMq3EVTrcYUjK52pt+aEzgnOB6M93D3Z\n",
       "Jo1dmRDqgAMe0wLEMhejyrKkplyTS/m6rpwfF0vcknbKVy1sWXKCpL2yt/An38dBkXW0Z8du7p99\n",
       "ob7SaXpt7w/wt1W3dHpJm8Gv0Lbes0cvgHf/C2RZM4C+EewN7XMnl5KTv3n+AK8vOCMgvhKvecEA\n",
       "AAAASUVORK5CYII=\n",
       "\" style=\"display:inline;vertical-align:middle;\" /></a><br>(see <a class=\"ProveItLink\" href=\"../__pv_it/891ae74f94ef6cb662c01bd11d4da4d56fa5377c0/dependencies.ipynb\">dependencies</a>)<br>"
      ],
      "text/plain": [
       "unfoldSupsetEq: forall_{A, B | A supseteq B} [forall_{x in B} (x in A)]"
      ]
     },
     "execution_count": 2,
     "metadata": {},
     "output_type": "execute_result"
    }
   ],
   "source": [
    "%proving unfoldSupsetEq presuming []"
   ]
  },
  {
   "cell_type": "code",
   "execution_count": null,
   "metadata": {},
   "outputs": [],
   "source": []
  }
 ],
 "metadata": {
  "kernelspec": {
   "display_name": "Python 3",
   "language": "python",
   "name": "python3"
  }
 },
 "nbformat": 4,
 "nbformat_minor": 0
}
