{
 "cells": [
  {
   "cell_type": "markdown",
   "metadata": {},
   "source": [
    "Proof of <a class=\"ProveItLink\" href=\"../../../../_context_.ipynb\">proveit</a>.<a class=\"ProveItLink\" href=\"../../../_context_.ipynb\">logic</a>.<a class=\"ProveItLink\" href=\"../../_context_.ipynb\">set_theory</a>.<a class=\"ProveItLink\" href=\"../_context_.ipynb\">containment</a>.<a href=\"../_theorems_.ipynb#transitivitySupsetSupset\" class=\"ProveItLink\">transitivitySupsetSupset</a> theorem\n",
    "========"
   ]
  },
  {
   "cell_type": "code",
   "execution_count": 1,
   "metadata": {},
   "outputs": [],
   "source": [
    "import sys\n",
    "sys.path.append('..') # allows access to modules in parent context\n",
    "import proveit"
   ]
  },
  {
   "cell_type": "code",
   "execution_count": 2,
   "metadata": {},
   "outputs": [
    {
     "name": "stdout",
     "output_type": "stream",
     "text": [
      "Beginning proof of transitivitySupsetSupset\n",
      "Recorded 'presuming' information\n",
      "Presuming previous theorems (applied transitively).\n"
     ]
    },
    {
     "data": {
      "text/html": [
       "<strong id=\"transitivitySupsetSupset\">transitivitySupsetSupset:</strong> <a class=\"ProveItLink\" href=\"../__pv_it/19d8e031e58ea3a131940139545bec2dabc335d60/expr.ipynb\"><img src=\"data:image/png;base64,iVBORw0KGgoAAAANSUhEUgAAAPcAAAAXBAMAAAAl5sTiAAAAMFBMVEX///8QEBC6urrMzMxUVFRm\n",
       "ZmZERETc3NwyMjKqqqp2dnaIiIiYmJgiIiLu7u4AAAAU9Wx4AAAAAXRSTlMAQObYZgAAA4VJREFU\n",
       "SMfFVkloFEEUfelJTycznY43l4NG0JNbDlEhIgnGqCczQjpCUIzbeNM+uCLBCEoQQXNJTh7iAm4Q\n",
       "I4oecrD1IC6IEVFEjU5wQQiOYkg0Gpdfv7p7anqMuUzwQ1fVVL2u9+vV/78H+J+WmqiN54yzfoue\n",
       "XjG4n3/uSLXsenOXrGu164yEXg6cFz+P5Z+8SEpa9Dl36aQLbY2LFmA3/TKa8k/eI7sHv3JWPryi\n",
       "5pKDe9JDvS3/5NO5Ndq/cj+vr6/vqLdyUGgyE+gHzLN79jTnn1tr4S4e/xJMDTzmTh8R7S4gSkce\n",
       "Tiaf559c7+RufvFoZq7ZEe0BdusNEEsANcA2XmvltmPIXlEuva5tHBBwLYghxx8V77DrN4fgwq7a\n",
       "Xdc9rMtxXRb5oajBCbDB9TchL2bBYl9MKZA5CfFJnCQvgY1iEPVfflgW7HMTuJwNF7bURdT7UcBY\n",
       "DcaQIgen3Wv/CBpBSxBnX95JgfRqaBwkC+hAHSq5RT6/s+3TYlxP604At2y7kdDaIB3HS5xSJq9Y\n",
       "vnxYIa8RzW+/tkUoC+NuCadk1xOeLemGLjy0plGzRCWPfUzASqcrV9P4BbBegafTb86k0E/3HOlW\n",
       "yamZEiafwZKXS3KrpYJV7k4y4FM57ogzxUR1SKvkS6LyVIvonUGYrVlwRJpwSfjslesCkb3F9DwK\n",
       "y14nELonO7YtE3OF3lEW9FzdzkcKCo9PXq3LUhkrg/ajZ0UqCw6cwlOFJyquch89xzNzxQnRVglt\n",
       "ukS4iFBr5z3v4gYjzlE0iX1LO0PkZltclspIJ2ItMKdnwYFKfFfIRR5xIO/IfLnm8dCkPJ/teBAU\n",
       "CFesJ7aEbSUphWQFRG51K+Qf7QZZKo0EonT7XCsCuCgbIkoG/FDuhbHxm4Pbvw/73Au9L0jFIZvf\n",
       "KBJhYfIlOKjifB2RcQ6dZI+lFPK1iAxK9VyUtnFoK3DgBBo8PdkmZ9UcKq/PloXqUH8wmktCu0Yr\n",
       "jF8wKOz3OtZU4LQiu0aXKJMxmsKBFJoTyMCFbUd/G2JBwbk3bhG86A/eDsOoexkZxbkhexWJUkUp\n",
       "XXshlSG36pqw86eIImMTYsft+iN0+QGcbHcZrPrGrvAndWyTpU0xMxi5SuAqgPfJ5BYnB24lk8mV\n",
       "oa2M6nHIC53QxOLgf4jzd/Ix4H+z/eOQXwlPuLkS/Ivcnfi/mIUTtvMfmITyWamZ550AAAAASUVO\n",
       "RK5CYII=\n",
       "\" style=\"display:inline;vertical-align:middle;\" /></a><br>(see <a class=\"ProveItLink\" href=\"../__pv_it/19d8e031e58ea3a131940139545bec2dabc335d60/dependencies.ipynb\">dependencies</a>)<br>"
      ],
      "text/plain": [
       "transitivitySupsetSupset: forall_{A, B, C | A supset B , B supset C} (A supset C)"
      ]
     },
     "execution_count": 2,
     "metadata": {},
     "output_type": "execute_result"
    }
   ],
   "source": [
    "%proving transitivitySupsetSupset presuming []"
   ]
  },
  {
   "cell_type": "code",
   "execution_count": null,
   "metadata": {},
   "outputs": [],
   "source": []
  }
 ],
 "metadata": {
  "kernelspec": {
   "display_name": "Python 3",
   "language": "python",
   "name": "python3"
  }
 },
 "nbformat": 4,
 "nbformat_minor": 0
}
