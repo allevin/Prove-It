{
 "cells": [
  {
   "cell_type": "markdown",
   "metadata": {},
   "source": [
    "Proof of <a class=\"ProveItLink\" href=\"../../../../_context_.ipynb\">proveit</a>.<a class=\"ProveItLink\" href=\"../../../_context_.ipynb\">logic</a>.<a class=\"ProveItLink\" href=\"../../_context_.ipynb\">set_theory</a>.<a class=\"ProveItLink\" href=\"../_context_.ipynb\">containment</a>.<a href=\"../_theorems_.ipynb#subsetEqViaEquality\" class=\"ProveItLink\">subsetEqViaEquality</a> theorem\n",
    "========\n",
    "*** see <a href=\"../__pv_it/25e91905b7f122ed31887b2ec5caefd3bc7bd0470/dependencies.ipynb\" class=\"ProveItLink\">dependencies</a> ***"
   ]
  },
  {
   "cell_type": "code",
   "execution_count": 1,
   "metadata": {},
   "outputs": [
    {
     "name": "stdout",
     "output_type": "stream",
     "text": [
      "Beginning proof of subsetEqViaEquality\n",
      "Recorded 'presuming' information\n",
      "Presuming previous theorems (applied transitively).\n"
     ]
    },
    {
     "data": {
      "text/html": [
       "<strong id=\"subsetEqViaEquality\">subsetEqViaEquality:</strong> <a class=\"ProveItLink\" href=\"../__pv_it/c6cb613394c1f4d5dd0979f76d5f0f45028a33280/expr.ipynb\"><img src=\"data:image/png;base64,iVBORw0KGgoAAAANSUhEUgAAALkAAAAXBAMAAACllfPxAAAAMFBMVEX///8QEBC6urrMzMxUVFRm\n",
       "ZmZERETc3NwyMjKqqqp2dnaIiIiYmJgiIiLu7u4AAAAU9Wx4AAAAAXRSTlMAQObYZgAAAr5JREFU\n",
       "SMe1VEtoE0EY/rp5bJPdbHJSTyUHb4qJUPDgoUFDCXhIDoniIdgipj2ZHMQiJZhLjYK2udRzb1YE\n",
       "iegth0YR0YoYwVysgRT0GCzNo9XG1Hnsbob0ELrqwMw/M//83/+Ybwb4r61u2fLEEP0r0it08t4C\n",
       "uC3EReWA5vV+ODzrhyMIPKbrRQvoozzr0S2+VB7UajU/nx8BHNtADrhJVvKUBfQSFx96PIWNfolt\n",
       "e6S3gHUegqNgAX2MjfLyDpPZTF+jkC31F7BJxKO5uawFcCnHkZRtJs8JKqcP8BDnThJ0J5X6YgHd\n",
       "scLEKVeXCi0nqLwhyHdISdwx4DwwwzbzbHzYTkwGWXDm9ZlJu9KJ+FVjt8xQ/bTIJoF4m7hQSlKt\n",
       "i7g8rjtWeYqqD4qP5Wcc/ug37V4Cz/TpiJ+HILcPoK9loH2mSlohKCyM712ecQjSjoiuXSmbdnEg\n",
       "oGfiZejj4XCHLUXWT1MPxMhGyKqUPYxMT6tM5SnCURHR3Y2YabcBJCGik+EYW14W0Fs04RWOruXG\n",
       "WW7FFFP9COJtRkQ/6zRfg9aEmjcqQ1nsIv0TWzb65bPRIkQLvDKYYWyy61EFSi+uQ0QPkVQid0kr\n",
       "QtorTRqPxknrdYv0Je54ISjSXd6lV0jvc5kV4h3WmG6V3F1dQFcLypZh585BHTPmMZ2Hae5Pihg/\n",
       "AaX76UX9CEaK1Hc1wY9dI8UpCOiNxMWe+Uxi0H4ar6kCeXo3gzf7CwMPId0KR+4z0lJnKkV1ZDDB\n",
       "ciPWgaCAfgm2JmZ5ZbwFSE0D5ejQB7dpzk4SFpTlPOQe5KpQd4mUt2scul1H1iTQ+lD0J8bkWwdy\n",
       "9Cu57dV2IlLoo2vRKdz4rRPevZSI3xv8gfWWrNX6P7DOsNyAN1X8i4ZEJoeGHLBnBjbOHAId80P0\n",
       "zwc3yodB/6tm/wcYfwBOHbRT1wTXhAAAAABJRU5ErkJggg==\n",
       "\" style=\"display:inline;vertical-align:middle;\" /></a><br>(see <a class=\"ProveItLink\" href=\"../__pv_it/c6cb613394c1f4d5dd0979f76d5f0f45028a33280/dependencies.ipynb\">dependencies</a>)<br>"
      ],
      "text/plain": [
       "subsetEqViaEquality: forall_{A, B | A = B} (A subseteq B)"
      ]
     },
     "execution_count": 1,
     "metadata": {},
     "output_type": "execute_result"
    }
   ],
   "source": [
    "import proveit\n",
    "%proving subsetEqViaEquality presuming []"
   ]
  },
  {
   "cell_type": "code",
   "execution_count": null,
   "metadata": {},
   "outputs": [],
   "source": []
  }
 ],
 "metadata": {
  "kernelspec": {
   "display_name": "Python 3",
   "language": "python",
   "name": "python3"
  }
 },
 "nbformat": 4,
 "nbformat_minor": 0
}
