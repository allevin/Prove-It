{
 "cells": [
  {
   "cell_type": "markdown",
   "metadata": {},
   "source": [
    "Proof of <a class=\"ProveItLink\" href=\"../../../../_context_.ipynb\">proveit</a>.<a class=\"ProveItLink\" href=\"../../../_context_.ipynb\">logic</a>.<a class=\"ProveItLink\" href=\"../../_context_.ipynb\">set_theory</a>.<a class=\"ProveItLink\" href=\"../_context_.ipynb\">containment</a>.<a href=\"../_theorems_.ipynb#transitivitySupsetEqSupset\" class=\"ProveItLink\">transitivitySupsetEqSupset</a> theorem\n",
    "========"
   ]
  },
  {
   "cell_type": "code",
   "execution_count": 1,
   "metadata": {},
   "outputs": [],
   "source": [
    "import sys\n",
    "sys.path.append('..') # allows access to modules in parent context\n",
    "import proveit"
   ]
  },
  {
   "cell_type": "code",
   "execution_count": 2,
   "metadata": {},
   "outputs": [
    {
     "name": "stdout",
     "output_type": "stream",
     "text": [
      "Beginning proof of transitivitySupsetEqSupset\n",
      "Recorded 'presuming' information\n",
      "Presuming previous theorems (applied transitively).\n"
     ]
    },
    {
     "data": {
      "text/html": [
       "<strong id=\"transitivitySupsetEqSupset\">transitivitySupsetEqSupset:</strong> <a class=\"ProveItLink\" href=\"../__pv_it/d555d81730b7feaebc927d7bcbbc6c30356460b40/expr.ipynb\"><img src=\"data:image/png;base64,iVBORw0KGgoAAAANSUhEUgAAAPcAAAAXBAMAAAAl5sTiAAAAMFBMVEX///8QEBC6urrMzMxUVFRm\n",
       "ZmZERETc3NwyMjKqqqp2dnaIiIiYmJgiIiLu7u4AAAAU9Wx4AAAAAXRSTlMAQObYZgAAA4VJREFU\n",
       "SMfFVktoE1EUPU06mSaZTt35WWgEdeOvi4qgSINaddcImYpFsaKO4EJn4RcpRlCKCJqNrlzUD/iD\n",
       "WLHoogtHF+IHsSIV0VZTVBCKVSyt/899981MJhO1LlJ8MO+9vHfmnXvPu/dOgP/Z8mN18MxR9m/S\n",
       "0y0m98rPHU7Kobt0S7/asEZNKbXAefHzSPnJq6SkVe9Lt07aCK20kQF20i+1pfzkXXK4/6Nk581z\n",
       "6i5ZuCstVLLlJ5/MvXrsI4+z+/r6Djs7+4UmU4F+QDu7a1dr+blDGR7i8Q/e0sAjHpTPot8BRMjl\n",
       "EdN8Wn5ypZ2HOdFvhbVWS/T72KyXQCwFLAE2814b98eHjWW10uqG5gEBD3kxZLmz6DYjvSEAF63T\n",
       "yF1zsDbHdSL81acGJ8A62z2ErJgGnW3RpEDaOMTHcZL0AuvFJOK+/CCBGaa5RVzZDeByMVy0RTYi\n",
       "zo+KBNNBHfbJwWn3wnUhRNBqxNmW11IgJYkQB8lccui4n1yXNoeFy2natzy4bhjNhA4NkTtO4tQw\n",
       "ed3SpSM+8iWi++nWtjBlYdyu5pTM9fBqdQcUYaE+ibqFfvLY25RMFXqeAWt98MHBl2fy6Kd7Dnf4\n",
       "yambECSfwpLXSnI9U8cOdZgMeFeL28KnmKgOg37yhRHplZaFPgStrQiOcAsuCZudcl0hsjdKz8Og\n",
       "7I0CoTiyY/NisVbpuDK3q3Mru+QVHpc8qchSqaYQ+tq1LF8EB07hsY8nIq5oDz1HC2tRVq5eaJMT\n",
       "TohQO8Zn3sF1RpyjaBLn1rQHyLVsXJZKtR2xDLTJRXBgAb74yEUecSBvK3y5ZvNUozyfbjkQVAhT\n",
       "9B5DwjaRlEKyCiLXO3zkb40mWSrjCURS0LlWeHBRNkSUDLih3A11/ScLt34edLnnOV+QugMGv1El\n",
       "wkLjS7BQz/n6WcY5FJI9lveRr0J4iCf0NajJcmj74MAJNDl6chtfVHOovD5ZHKhD/d5sFp1oq21Q\n",
       "f0ClsN9t6ROB0z7ZQ3SJnIwDdMf78mhNoQAXbSv6s4h5BefuqEXwojt5NQK1sTf8DeeGjRUkSr2N\n",
       "1w0X8gVyvbEF27/bVGRWkyJHjfQhCnAPLvRIQE8354Kf1D83Wdp8TfNmti9w//i+C9dN01we2FOT\n",
       "o5BXWoGF+d7/EOtfyOf/7fC9o5BfCS7YpRIUk5Ps5sbfyTNWrXLMTv4FCcPx4vdhEIcAAAAASUVO\n",
       "RK5CYII=\n",
       "\" style=\"display:inline;vertical-align:middle;\" /></a><br>(see <a class=\"ProveItLink\" href=\"../__pv_it/d555d81730b7feaebc927d7bcbbc6c30356460b40/dependencies.ipynb\">dependencies</a>)<br>"
      ],
      "text/plain": [
       "transitivitySupsetEqSupset: forall_{A, B, C | A supseteq B , B supset C} (A supset C)"
      ]
     },
     "execution_count": 2,
     "metadata": {},
     "output_type": "execute_result"
    }
   ],
   "source": [
    "%proving transitivitySupsetEqSupset presuming []"
   ]
  },
  {
   "cell_type": "code",
   "execution_count": null,
   "metadata": {},
   "outputs": [],
   "source": []
  }
 ],
 "metadata": {
  "kernelspec": {
   "display_name": "Python 3",
   "language": "python",
   "name": "python3"
  }
 },
 "nbformat": 4,
 "nbformat_minor": 0
}
