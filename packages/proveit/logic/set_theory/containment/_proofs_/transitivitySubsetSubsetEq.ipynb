{
 "cells": [
  {
   "cell_type": "markdown",
   "metadata": {},
   "source": [
    "Proof of <a class=\"ProveItLink\" href=\"../../../../_context_.ipynb\">proveit</a>.<a class=\"ProveItLink\" href=\"../../../_context_.ipynb\">logic</a>.<a class=\"ProveItLink\" href=\"../../_context_.ipynb\">set_theory</a>.<a class=\"ProveItLink\" href=\"../_context_.ipynb\">containment</a>.<a href=\"../_theorems_.ipynb#transitivitySubsetSubsetEq\" class=\"ProveItLink\">transitivitySubsetSubsetEq</a> theorem\n",
    "========"
   ]
  },
  {
   "cell_type": "code",
   "execution_count": 1,
   "metadata": {},
   "outputs": [],
   "source": [
    "import sys\n",
    "sys.path.append('..') # allows access to modules in parent context\n",
    "import proveit"
   ]
  },
  {
   "cell_type": "code",
   "execution_count": 2,
   "metadata": {},
   "outputs": [
    {
     "name": "stdout",
     "output_type": "stream",
     "text": [
      "Beginning proof of transitivitySubsetSubsetEq\n",
      "Recorded 'presuming' information\n",
      "Presuming previous theorems (applied transitively).\n"
     ]
    },
    {
     "data": {
      "text/html": [
       "<strong id=\"transitivitySubsetSubsetEq\">transitivitySubsetSubsetEq:</strong> <a class=\"ProveItLink\" href=\"../__pv_it/04582ff054ca8c286118ae08497adff1dd0ec1bc0/expr.ipynb\"><img src=\"data:image/png;base64,iVBORw0KGgoAAAANSUhEUgAAAPcAAAAXBAMAAAAl5sTiAAAAMFBMVEX///8QEBC6urrMzMxUVFRm\n",
       "ZmZERETc3NwyMjKqqqp2dnaIiIiYmJgiIiLu7u4AAAAU9Wx4AAAAAXRSTlMAQObYZgAAA4NJREFU\n",
       "SMfFVk1IVFEUPvPGN8+ZeT7d9bMwA2tTpIuBFlIOpdIqJ/IpSJESPaGFvkVpEdIEhbQoZ2ObNkZE\n",
       "VjBaSQVCvSKijMoEC0prpIxANEm0TNPOPff9MaPMZqQL77577/nmfuee890zD+B/tsRqbbwljf0J\n",
       "PgNs8DLz3N4wfw2kmpR75QekiFgMcINNL2aePJuHNHsq1XTFAGGfAVGAZpxJdZkn7+OvV4splu+f\n",
       "sOvWoZ97KMYyT55PvdTxy5w/GBkZGaTRGRaTjQCjAPL1lpbWzHMLUXoFgz/5fMdDyyLOsf44gA+P\n",
       "PKtpHzJPLnbSa5t/gUfgvW05TW59AQhEAHYDNNBqG/WXZtSKYu51ee24zg5ha0i3Rv4mtepwEpy1\n",
       "XjV+38QapOsC7zxNswpszCHD2gS9KASFfJF5gOQ8CObRJRkGqGcDn/WzN84OjwFuu+BStaY1YmwN\n",
       "8OVxgIewAkgzXGROTD5bRxAQmgNB8mWMB0gMg0AiKcIDXXKTK8xn4ZqqomCq0K478M00FqbxOObF\n",
       "ySXyUFnZLE1DDvmSVdu8eAuDRg5dyfgQreb0gMgKg7IeuxI3eWAiAsrRnZOTOP4IcNCBK5xxFPPs\n",
       "7XGTY7c2mXwDhbyYkytRsnh7NLL9KIbn7BwBVh0m3eQlvjrw8fwq0yC3OfAgv6rdzGKWaw9b8uPz\n",
       "lvvokFcyhGiGHRp2kSTMoxT19TYS3C48FnkYI3LZTNd8X0XCgWfx8TuX2n0slSfxaefJdCpJKYtN\n",
       "nMmFSa2Dyu8LeES2LlQT2yu3M4lcjgWnoMbMQBTkfAcucg39cZGze0RCbiLHlEHbIuM936SbEPAw\n",
       "V5QhlcOOYCiZmx4kV3pc5BNq9SLsNf3B7FOt4HA/vz1MJeOWlAdAqv+tw7Olc1zu+2320FmV4pDN\n",
       "ZCFTEnQopXzOcZ2DiGEPJFzkNeCdhjumnGIkbRvO819txpPamqSqU3jBKq9WG7VHW3FHQ2oDaREk\n",
       "lP0JXVkHcNUVdgFPtwDfzCqVgNYIOPDm17RbDAJ2welPWwRvWYOvsyBVDnsXoGtG3YNBKTVgrPxm\n",
       "wiFXKuvg2F/DT2IMtKtV5/GC2HB4yoqMUlUbT/5LXbnx0uZqsj0yXMJ1I0KapiVS4alNCqchz9KT\n",
       "Frbb3yH6CuTLw5drp9KQ301eMJY708rkFlzCcGiNq/IlmLVqH6//ADpB8vVFLavxAAAAAElFTkSu\n",
       "QmCC\n",
       "\" style=\"display:inline;vertical-align:middle;\" /></a><br>(see <a class=\"ProveItLink\" href=\"../__pv_it/04582ff054ca8c286118ae08497adff1dd0ec1bc0/dependencies.ipynb\">dependencies</a>)<br>"
      ],
      "text/plain": [
       "transitivitySubsetSubsetEq: forall_{A, B, C | A subset B , B subseteq C} (A subset C)"
      ]
     },
     "execution_count": 2,
     "metadata": {},
     "output_type": "execute_result"
    }
   ],
   "source": [
    "%proving transitivitySubsetSubsetEq presuming []"
   ]
  },
  {
   "cell_type": "code",
   "execution_count": null,
   "metadata": {},
   "outputs": [],
   "source": []
  }
 ],
 "metadata": {
  "kernelspec": {
   "display_name": "Python 3",
   "language": "python",
   "name": "python3"
  }
 },
 "nbformat": 4,
 "nbformat_minor": 0
}
