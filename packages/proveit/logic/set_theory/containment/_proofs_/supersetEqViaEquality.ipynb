{
 "cells": [
  {
   "cell_type": "markdown",
   "metadata": {},
   "source": [
    "Proof of <a class=\"ProveItLink\" href=\"../../../../_context_.ipynb\">proveit</a>.<a class=\"ProveItLink\" href=\"../../../_context_.ipynb\">logic</a>.<a class=\"ProveItLink\" href=\"../../_context_.ipynb\">set_theory</a>.<a class=\"ProveItLink\" href=\"../_context_.ipynb\">containment</a>.<a href=\"../_theorems_.ipynb#supersetEqViaEquality\" class=\"ProveItLink\">supersetEqViaEquality</a> theorem\n",
    "========\n",
    "*** see <a href=\"../__pv_it/47693a3681f83c1d3a81ca1cb74bc485125038e40/dependencies.ipynb\" class=\"ProveItLink\">dependencies</a> ***"
   ]
  },
  {
   "cell_type": "code",
   "execution_count": 1,
   "metadata": {},
   "outputs": [
    {
     "name": "stdout",
     "output_type": "stream",
     "text": [
      "Beginning proof of supersetEqViaEquality\n",
      "Recorded 'presuming' information\n",
      "Presuming previous theorems (applied transitively).\n"
     ]
    },
    {
     "data": {
      "text/html": [
       "<strong id=\"supersetEqViaEquality\">supersetEqViaEquality:</strong> <a class=\"ProveItLink\" href=\"../__pv_it/2c5cea7a91fe9ad0d7398993408c5b3f69829b470/expr.ipynb\"><img src=\"data:image/png;base64,iVBORw0KGgoAAAANSUhEUgAAALkAAAAXBAMAAACllfPxAAAAMFBMVEX///8QEBC6urrMzMxUVFRm\n",
       "ZmZERETc3NwyMjKqqqp2dnaIiIiYmJgiIiLu7u4AAAAU9Wx4AAAAAXRSTlMAQObYZgAAAr9JREFU\n",
       "SMe1VE1oE0EU/ppkd5tks8lJPZUcvCkmQsGDhwYNJeAhOSTqpdgipj2ZHMQipZiDGgVp9xLPvVkR\n",
       "JKK3gI0iopViBKOiRlLQY7E0P61WW+dnZ7Omh9BVB2be7Hvzvp33zTcD/NdWt515oEf8CekVOnlp\n",
       "A9wZ4aayI/J0OxqdCEIKA3fo94wN9H5edf8qHZVarfb+kQjtAaQ1IAdcpLFRG+glbpa2hENbChtV\n",
       "bZLeBBb5FiTdBvoAG5XCuulR3nHrJS71B7BMzO3JyWkb4I4cR/KudXz7uZEDgI/8XCabbqfTH2yg\n",
       "S3PMHHL/tBwFN/4IlGuEEk8COA6MM2eejbdaqWHGn8PMyYqZO5NKnhXeMuM6SEkWzcWJHzpRGqFR\n",
       "d46Wo7EiVV6iGoA3wOoTOa+CZvpj4L4x7QvyLSitHegLWWhvaJAyBC/bxldeohSBY92Krp0pm+lJ\n",
       "IGRU4mfog9Fou4Pu42aM/oEkOYlYvWUfU+69Kl9RhFSxontWEmb6R2AEVnQy7OugF7hp0oLnOLqW\n",
       "G2QiLaZZ6FsYz7NW9KOyeRu0BtS8YIaq2E36646MPnO5UxLiOmcG48cYZ8auQqWH52FFj5BSYtdJ\n",
       "K8KxWRoW75JM+bpE+qz5NJyum3JXNugR0vMsMCJeYIHF5snZ1S3oqu5dFfmeHNQBMU+AyyFTN16C\n",
       "K3pH7odnjCXoK9Kiqym2DOcIOboFfSV10rzrcgLad0FDBcrYRhbPtq92XYRMMxq7yURLj0alqFIW\n",
       "Q0xPJDsUtqCfgrOBCc6MX4ejIVD29rxwy+bsIFFBWclD2YJStfDuIPSat/FyHdOmgBZ7ot8Vky9t\n",
       "KPFP5LTnW6mY3kHX4qO48MsQvGc2lbzR/QIbD1iNtrd/gPNLammqZS732JkS6bHAle1yHNkFOqZ6\n",
       "xB90O8q7Qf+r5voHGL8BdSi0iY7JN3wAAAAASUVORK5CYII=\n",
       "\" style=\"display:inline;vertical-align:middle;\" /></a><br>(see <a class=\"ProveItLink\" href=\"../__pv_it/2c5cea7a91fe9ad0d7398993408c5b3f69829b470/dependencies.ipynb\">dependencies</a>)<br>"
      ],
      "text/plain": [
       "supersetEqViaEquality: forall_{A, B | A = B} (A supseteq B)"
      ]
     },
     "execution_count": 1,
     "metadata": {},
     "output_type": "execute_result"
    }
   ],
   "source": [
    "import proveit\n",
    "%proving supersetEqViaEquality presuming []"
   ]
  },
  {
   "cell_type": "code",
   "execution_count": null,
   "metadata": {},
   "outputs": [],
   "source": []
  }
 ],
 "metadata": {
  "kernelspec": {
   "display_name": "Python 3",
   "language": "python",
   "name": "python3"
  }
 },
 "nbformat": 4,
 "nbformat_minor": 0
}
