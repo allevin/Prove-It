{
 "cells": [
  {
   "cell_type": "markdown",
   "metadata": {},
   "source": [
    "Proof of <a class=\"ProveItLink\" href=\"../../../../_context_.ipynb\">proveit</a>.<a class=\"ProveItLink\" href=\"../../../_context_.ipynb\">logic</a>.<a class=\"ProveItLink\" href=\"../../_context_.ipynb\">set_theory</a>.<a class=\"ProveItLink\" href=\"../_context_.ipynb\">containment</a>.<a href=\"../_theorems_.ipynb#relaxSupset\" class=\"ProveItLink\">relaxSupset</a> theorem\n",
    "========"
   ]
  },
  {
   "cell_type": "code",
   "execution_count": 1,
   "metadata": {},
   "outputs": [],
   "source": [
    "import sys\n",
    "sys.path.append('..') # allows access to modules in parent context\n",
    "import proveit"
   ]
  },
  {
   "cell_type": "code",
   "execution_count": 2,
   "metadata": {},
   "outputs": [
    {
     "name": "stdout",
     "output_type": "stream",
     "text": [
      "Beginning proof of relaxSupset\n",
      "Recorded 'presuming' information\n",
      "Presuming previous theorems (applied transitively).\n"
     ]
    },
    {
     "data": {
      "text/html": [
       "<strong id=\"relaxSupset\">relaxSupset:</strong> <a class=\"ProveItLink\" href=\"../__pv_it/1c3a2980fa64d1f66ff39f82bc9d6a1c3e5d13f60/expr.ipynb\"><img src=\"data:image/png;base64,iVBORw0KGgoAAAANSUhEUgAAALkAAAAXBAMAAACllfPxAAAAMFBMVEX///8QEBC6urrMzMxUVFRm\n",
       "ZmZERETc3NwyMjKqqqp2dnaIiIiYmJgiIiLu7u4AAAAU9Wx4AAAAAXRSTlMAQObYZgAAAtlJREFU\n",
       "SMe1VE1oE0EU/ppkd5pku+1JPZUcvPnTCFVBDw02lIpgcujqqdj6k3oyexCLSDAXLaKkudRzwIMV\n",
       "QSp6y6FRRLQiRrQgaiAF68m20iRttdo6P9nNmCrBVQd23tv35n3zfgf4r6vo2HJbA/1D+uUZ88wB\n",
       "uDskSH6D5tF6OHw6ACUI3GL/KQfozSLq5s+cJAqFwlUrD5sAZRFIAufoHxlwgJ4V5PmaLfn0qhrV\n",
       "Kv3KwJRwQUk7QG/nOxlbrokSJid+KtK+AjOU3BweTjgAdyUFkn9RkolSqG1AC71cpU4vxWJvHaAr\n",
       "GU52er9JQnFjawjkMk2JLwp0A0NcOML36xWjJ8gdsctnWpw3bvSdsKQ5tusBlmR7dfO961C2n2m9\n",
       "9LKt0PmVmghRa4O/jcdnmbwI2NYPgLtVtikgXCCVDeiTJvTXTMkyBD93Y1aEqITgWpbR9WM5zBrG\n",
       "Dcb3AR3VSFo5emc4vCShi94fZDdQTDdtVn+uhffpnWmuapmAkpfRfXNR6PPz+w5T/h3QDxmdbltq\n",
       "4N4oJ2UWcEag68lO3qQTMa5aCOKJKaPvV8U07KFHS9BGrMywLvbS72UNfQd3082SEEmLzGDoAJN5\n",
       "ql51ZO+fgYweEqHAF4BrNdtjzaPK0nmefqM2+O6U3e5khZWQ1XOMWz/FJNeN09oVJXQt7Rez7s7A\n",
       "l4TWbiUsCtEO8WL1JXhzEHa770pVj6BpgtVu2hDHTtHkpCX0OeOImHUShUor8MWanDzI4IqJx+uX\n",
       "6gYhXg73XuNNy0qjMVTFRBdvc2rdEZTQj8JdEiXLoTUNV8lC2dxw4GZsbjvtghwZAVkDmZby7qLp\n",
       "Fa2qFnGxiETUsphqiH7bYj4sgUTe02qPV4zedA1djwzg7HdWQHIcvlGj70r9C2w9YAW2fnprxZBK\n",
       "S5N4VeI/xmInzbqzJNTAdU+9xd7foP9yXWigv1cvyP0J+l8tzz/A+AHe1bp5l8X/twAAAABJRU5E\n",
       "rkJggg==\n",
       "\" style=\"display:inline;vertical-align:middle;\" /></a><br>(see <a class=\"ProveItLink\" href=\"../__pv_it/1c3a2980fa64d1f66ff39f82bc9d6a1c3e5d13f60/dependencies.ipynb\">dependencies</a>)<br>"
      ],
      "text/plain": [
       "relaxSupset: forall_{A, B | A supset B} (A supseteq B)"
      ]
     },
     "execution_count": 2,
     "metadata": {},
     "output_type": "execute_result"
    }
   ],
   "source": [
    "%proving relaxSupset presuming []"
   ]
  },
  {
   "cell_type": "code",
   "execution_count": null,
   "metadata": {},
   "outputs": [],
   "source": []
  }
 ],
 "metadata": {
  "kernelspec": {
   "display_name": "Python 3",
   "language": "python",
   "name": "python3"
  }
 },
 "nbformat": 4,
 "nbformat_minor": 0
}
