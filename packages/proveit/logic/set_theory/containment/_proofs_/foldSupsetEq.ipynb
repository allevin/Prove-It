{
 "cells": [
  {
   "cell_type": "markdown",
   "metadata": {
    "collapsed": true
   },
   "source": [
    "Proof of <a class=\"ProveItLink\" href=\"../../../../_context_.ipynb\">proveit</a>.<a class=\"ProveItLink\" href=\"../../../_context_.ipynb\">logic</a>.<a class=\"ProveItLink\" href=\"../../_context_.ipynb\">set_theory</a>.<a class=\"ProveItLink\" href=\"../_context_.ipynb\">containment</a>.<a href=\"../_theorems_.ipynb#foldSupsetEq\" class=\"ProveItLink\">foldSupsetEq</a> theorem\n",
    "========"
   ]
  },
  {
   "cell_type": "code",
   "execution_count": 1,
   "metadata": {},
   "outputs": [],
   "source": [
    "import proveit\n",
    "from proveit.logic.set_theory.containment._axioms_ import SupersetEqDef"
   ]
  },
  {
   "cell_type": "code",
   "execution_count": 2,
   "metadata": {},
   "outputs": [
    {
     "name": "stdout",
     "output_type": "stream",
     "text": [
      "Beginning proof of foldSupsetEq\n",
      "Recorded 'presuming' information\n",
      "Presuming theorems in proveit.logic (except any that presume this theorem).\n",
      "Presuming previous theorems (applied transitively).\n"
     ]
    },
    {
     "data": {
      "text/html": [
       "<strong id=\"foldSupsetEq\">foldSupsetEq:</strong> <a class=\"ProveItLink\" href=\"../__pv_it/1fbadd58b961d5334bc842b973ef71022182a74b0/expr.ipynb\"><img src=\"../__pv_it/1fbadd58b961d5334bc842b973ef71022182a74b0/expr.png\" style=\"display:inline;vertical-align:middle;\" /></a><br>(see <a class=\"ProveItLink\" href=\"../__pv_it/1fbadd58b961d5334bc842b973ef71022182a74b0/dependencies.ipynb\">dependencies</a>)<br>"
      ],
      "text/plain": [
       "foldSupsetEq: forall_{A, B} ([forall_{x in B} (x in A)] => (A supseteq B))"
      ]
     },
     "execution_count": 2,
     "metadata": {},
     "output_type": "execute_result"
    }
   ],
   "source": [
    "%proving foldSupsetEq presuming [proveit.logic]"
   ]
  },
  {
   "cell_type": "code",
   "execution_count": 3,
   "metadata": {},
   "outputs": [
    {
     "data": {
      "text/html": [
       "<span style=\"font-size:20px;\"> &#x22A2;&nbsp;<a class=\"ProveItLink\" href=\"../__pv_it/6ae939437665b648975aec3a2e06383d663a5d6b0/expr.ipynb\"><img src=\"../__pv_it/6ae939437665b648975aec3a2e06383d663a5d6b0/expr.png\" style=\"display:inline;vertical-align:middle;\" /></a></span>"
      ],
      "text/plain": [
       "|- forall_{A, B} ((A supseteq B) = [forall_{x in B} (x in A)])"
      ]
     },
     "execution_count": 3,
     "metadata": {},
     "output_type": "execute_result"
    }
   ],
   "source": [
    "# pull in the definition of non-proper superset (SupersetEqDef)\n",
    "SupersetEqDef"
   ]
  },
  {
   "cell_type": "code",
   "execution_count": 4,
   "metadata": {},
   "outputs": [
    {
     "data": {
      "text/html": [
       "<strong id=\"defSpecialization\">defSpecialization:</strong> <span style=\"font-size:20px;\"> &#x22A2;&nbsp;<a class=\"ProveItLink\" href=\"../__pv_it/817b0e4fda4833096653d55889118e89e5267a6e0/expr.ipynb\"><img src=\"../__pv_it/817b0e4fda4833096653d55889118e89e5267a6e0/expr.png\" style=\"display:inline;vertical-align:middle;\" /></a></span><br>"
      ],
      "text/plain": [
       "defSpecialization: |- (A supseteq B) = [forall_{x in B} (x in A)]"
      ]
     },
     "execution_count": 4,
     "metadata": {},
     "output_type": "execute_result"
    }
   ],
   "source": [
    "defSpecialization = SupersetEqDef.specialize()"
   ]
  },
  {
   "cell_type": "code",
   "execution_count": 5,
   "metadata": {},
   "outputs": [
    {
     "data": {
      "text/html": [
       "<span style=\"font-size:20px;\"><a class=\"ProveItLink\" href=\"../__pv_it/4ce4d95776a5b4bf3a2369b433324f1f315655b40/expr.ipynb\"><img src=\"../__pv_it/4ce4d95776a5b4bf3a2369b433324f1f315655b40/expr.png\" style=\"display:inline;vertical-align:middle;\" /></a> &#x22A2;&nbsp;<a class=\"ProveItLink\" href=\"../__pv_it/ef1a840a5f24fcc253d957fcfc8d0af00816fb5c0/expr.ipynb\"><img src=\"../__pv_it/ef1a840a5f24fcc253d957fcfc8d0af00816fb5c0/expr.png\" style=\"display:inline;vertical-align:middle;\" /></a></span>"
      ],
      "text/plain": [
       "{forall_{x in B} (x in A)} |- A supseteq B"
      ]
     },
     "execution_count": 5,
     "metadata": {},
     "output_type": "execute_result"
    }
   ],
   "source": [
    "defSpecialization.deriveLeftViaEquivalence([defSpecialization.rhs])"
   ]
  },
  {
   "cell_type": "code",
   "execution_count": 6,
   "metadata": {},
   "outputs": [
    {
     "data": {
      "text/html": [
       "<table><tr><th>&nbsp;</th><th>step type</th><th>requirements</th><th>statement</th></tr>\n",
       "<tr><td>0</td><td>generalizaton</td><td>1</td><td><span style=\"font-size:20px;\"> &#x22A2;&nbsp;<a class=\"ProveItLink\" href=\"../__pv_it/1fbadd58b961d5334bc842b973ef71022182a74b0/expr.ipynb\"><img src=\"../__pv_it/1fbadd58b961d5334bc842b973ef71022182a74b0/expr.png\" style=\"display:inline;vertical-align:middle;\" /></a></span></td></tr>\n",
       "<tr><td>1</td><td>hypothetical reasoning</td><td>2</td><td><span style=\"font-size:20px;\"> &#x22A2;&nbsp;<a class=\"ProveItLink\" href=\"../__pv_it/2566b9df8615ebd70a3c629cb247c43bb1f9ca360/expr.ipynb\"><img src=\"../__pv_it/2566b9df8615ebd70a3c629cb247c43bb1f9ca360/expr.png\" style=\"display:inline;vertical-align:middle;\" /></a></span></td></tr>\n",
       "<tr><td>2</td><td>specialization</td><td>3, 4, 5</td><td><span style=\"font-size:20px;\"><a class=\"ProveItLink\" href=\"../__pv_it/4ce4d95776a5b4bf3a2369b433324f1f315655b40/expr.ipynb\"><img src=\"../__pv_it/4ce4d95776a5b4bf3a2369b433324f1f315655b40/expr.png\" style=\"display:inline;vertical-align:middle;\" /></a> &#x22A2;&nbsp;<a class=\"ProveItLink\" href=\"../__pv_it/ef1a840a5f24fcc253d957fcfc8d0af00816fb5c0/expr.ipynb\"><img src=\"../__pv_it/ef1a840a5f24fcc253d957fcfc8d0af00816fb5c0/expr.png\" style=\"display:inline;vertical-align:middle;\" /></a></span></td></tr>\n",
       "<tr><td>&nbsp;</td><td colspan=4 style=\"text-align:left\"><span style=\"font-size:20px;\"><a class=\"ProveItLink\" href=\"../../../../__pv_it/6369c6c8083c513ca7161ace249642d040f9327d0/expr.ipynb\"><img src=\"../../../../__pv_it/6369c6c8083c513ca7161ace249642d040f9327d0/expr.png\" style=\"display:inline;vertical-align:middle;\" /></a> : <a class=\"ProveItLink\" href=\"../__pv_it/ef1a840a5f24fcc253d957fcfc8d0af00816fb5c0/expr.ipynb\"><img src=\"../__pv_it/ef1a840a5f24fcc253d957fcfc8d0af00816fb5c0/expr.png\" style=\"display:inline;vertical-align:middle;\" /></a>, <a class=\"ProveItLink\" href=\"../../../../__pv_it/98124f92e6e1fc3772af50ac63eaa1f5624776f20/expr.ipynb\"><img src=\"../../../../__pv_it/98124f92e6e1fc3772af50ac63eaa1f5624776f20/expr.png\" style=\"display:inline;vertical-align:middle;\" /></a> : <a class=\"ProveItLink\" href=\"../__pv_it/8f76ded78038b5b3c017c8e6fe2e9b4719327a110/expr.ipynb\"><img src=\"../__pv_it/8f76ded78038b5b3c017c8e6fe2e9b4719327a110/expr.png\" style=\"display:inline;vertical-align:middle;\" /></a></span></td></tr><tr><td>3</td><td>theorem</td><td></td><td><span style=\"font-size:20px;\"> &#x22A2;&nbsp;<a class=\"ProveItLink\" href=\"../../../equality/__pv_it/20e88ce75ad82ac426b1e24a0c22cab3a686b0da0/expr.ipynb\"><img src=\"../../../equality/__pv_it/20e88ce75ad82ac426b1e24a0c22cab3a686b0da0/expr.png\" style=\"display:inline;vertical-align:middle;\" /></a></span></td></tr>\n",
       "<tr><td>&nbsp;</td><td colspan=4 style-\"text-align:left\"><a class=\"ProveItLink\" href=\"../../../equality/_proofs_/lhsViaEquivalence.ipynb\">proveit.logic.equality.lhsViaEquivalence</a></td></tr><tr><td>4</td><td>assumption</td><td></td><td><span style=\"font-size:20px;\"><a class=\"ProveItLink\" href=\"../__pv_it/4ce4d95776a5b4bf3a2369b433324f1f315655b40/expr.ipynb\"><img src=\"../__pv_it/4ce4d95776a5b4bf3a2369b433324f1f315655b40/expr.png\" style=\"display:inline;vertical-align:middle;\" /></a> &#x22A2;&nbsp;<a class=\"ProveItLink\" href=\"../__pv_it/8f76ded78038b5b3c017c8e6fe2e9b4719327a110/expr.ipynb\"><img src=\"../__pv_it/8f76ded78038b5b3c017c8e6fe2e9b4719327a110/expr.png\" style=\"display:inline;vertical-align:middle;\" /></a></span></td></tr>\n",
       "<tr><td>5</td><td>specialization</td><td>6</td><td><span style=\"font-size:20px;\"> &#x22A2;&nbsp;<a class=\"ProveItLink\" href=\"../__pv_it/817b0e4fda4833096653d55889118e89e5267a6e0/expr.ipynb\"><img src=\"../__pv_it/817b0e4fda4833096653d55889118e89e5267a6e0/expr.png\" style=\"display:inline;vertical-align:middle;\" /></a></span></td></tr>\n",
       "<tr><td>&nbsp;</td><td colspan=4 style=\"text-align:left\"><span style=\"font-size:20px;\"><a class=\"ProveItLink\" href=\"../../../../__pv_it/2cbe72a7ad6f655694dd697106680215e8489b600/expr.ipynb\"><img src=\"../../../../__pv_it/2cbe72a7ad6f655694dd697106680215e8489b600/expr.png\" style=\"display:inline;vertical-align:middle;\" /></a> : <a class=\"ProveItLink\" href=\"../../../../__pv_it/2cbe72a7ad6f655694dd697106680215e8489b600/expr.ipynb\"><img src=\"../../../../__pv_it/2cbe72a7ad6f655694dd697106680215e8489b600/expr.png\" style=\"display:inline;vertical-align:middle;\" /></a>, <a class=\"ProveItLink\" href=\"../../../../__pv_it/077b2ff79244fb4582cbe22c6e3356fa92a52f2f0/expr.ipynb\"><img src=\"../../../../__pv_it/077b2ff79244fb4582cbe22c6e3356fa92a52f2f0/expr.png\" style=\"display:inline;vertical-align:middle;\" /></a> : <a class=\"ProveItLink\" href=\"../../../../__pv_it/077b2ff79244fb4582cbe22c6e3356fa92a52f2f0/expr.ipynb\"><img src=\"../../../../__pv_it/077b2ff79244fb4582cbe22c6e3356fa92a52f2f0/expr.png\" style=\"display:inline;vertical-align:middle;\" /></a></span></td></tr><tr><td>6</td><td>axiom</td><td></td><td><span style=\"font-size:20px;\"> &#x22A2;&nbsp;<a class=\"ProveItLink\" href=\"../__pv_it/6ae939437665b648975aec3a2e06383d663a5d6b0/expr.ipynb\"><img src=\"../__pv_it/6ae939437665b648975aec3a2e06383d663a5d6b0/expr.png\" style=\"display:inline;vertical-align:middle;\" /></a></span></td></tr>\n",
       "<tr><td>&nbsp;</td><td colspan=4 style-\"text-align:left\"><a class=\"ProveItLink\" href=\"../_axioms_.ipynb#SupersetEqDef\">proveit.logic.set_theory.containment.SupersetEqDef</a></td></tr></table>"
      ],
      "text/plain": [
       "\tstep type\trequirements\tstatement\n",
       "0\tgeneralizaton\t1\t|- forall_{A, B} ([forall_{x in B} (x in A)] => (A supseteq B))\n",
       "1\thypothetical reasoning\t2\t|- [forall_{x in B} (x in A)] => (A supseteq B)\n",
       "2\tspecialization\t3, 4, 5\t{forall_{x in B} (x in A)} |- A supseteq B\n",
       "\tP : A supseteq B, Q : forall_{x in B} (x in A)\n",
       "3\ttheorem\t\t|- forall_{P, Q | Q , P = Q} P\n",
       "\tproveit.logic.equality.lhsViaEquivalence\n",
       "4\tassumption\t\t{forall_{x in B} (x in A)} |- forall_{x in B} (x in A)\n",
       "5\tspecialization\t6\t|- (A supseteq B) = [forall_{x in B} (x in A)]\n",
       "\tA : A, B : B\n",
       "6\taxiom\t\t|- forall_{A, B} ((A supseteq B) = [forall_{x in B} (x in A)])\n",
       "\tproveit.logic.set_theory.containment.SupersetEqDef"
      ]
     },
     "execution_count": 6,
     "metadata": {},
     "output_type": "execute_result"
    }
   ],
   "source": [
    "%qed"
   ]
  },
  {
   "cell_type": "code",
   "execution_count": null,
   "metadata": {},
   "outputs": [],
   "source": []
  }
 ],
 "metadata": {
  "kernelspec": {
   "display_name": "Python 3",
   "language": "python",
   "name": "python3"
  },
  "language_info": {
   "codemirror_mode": {
    "name": "ipython",
    "version": 3
   },
   "file_extension": ".py",
   "mimetype": "text/x-python",
   "name": "python",
   "nbconvert_exporter": "python",
   "pygments_lexer": "ipython3",
   "version": "3.7.1"
  }
 },
 "nbformat": 4,
 "nbformat_minor": 1
}
