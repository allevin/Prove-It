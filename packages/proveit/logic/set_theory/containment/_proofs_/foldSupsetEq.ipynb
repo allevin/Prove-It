{
 "cells": [
  {
   "cell_type": "markdown",
   "metadata": {},
   "source": [
    "Proof of <a class=\"ProveItLink\" href=\"../../../../_context_.ipynb\">proveit</a>.<a class=\"ProveItLink\" href=\"../../../_context_.ipynb\">logic</a>.<a class=\"ProveItLink\" href=\"../../_context_.ipynb\">set_theory</a>.<a class=\"ProveItLink\" href=\"../_context_.ipynb\">containment</a>.<a href=\"../_theorems_.ipynb#foldSupsetEq\" class=\"ProveItLink\">foldSupsetEq</a> theorem\n",
    "========"
   ]
  },
  {
   "cell_type": "code",
   "execution_count": 1,
   "metadata": {},
   "outputs": [],
   "source": [
    "import sys\n",
    "sys.path.append('..') # allows access to modules in parent context\n",
    "import proveit"
   ]
  },
  {
   "cell_type": "code",
   "execution_count": 2,
   "metadata": {},
   "outputs": [
    {
     "name": "stdout",
     "output_type": "stream",
     "text": [
      "Beginning proof of foldSupsetEq\n",
      "Recorded 'presuming' information\n",
      "Presuming previous theorems (applied transitively).\n"
     ]
    },
    {
     "data": {
      "text/html": [
       "<strong id=\"foldSupsetEq\">foldSupsetEq:</strong> <a class=\"ProveItLink\" href=\"../__pv_it/4f09e9b8f26155df003eb6c5f88a0f7c83c10cd40/expr.ipynb\"><img src=\"data:image/png;base64,iVBORw0KGgoAAAANSUhEUgAAATkAAAAWCAMAAACMshuUAAAAM1BMVEX///+/v78QEBC6urrMzMxU\n",
       "VFRmZmZERETc3NwyMjKqqqp2dnaIiIiYmJgiIiLu7u4AAAB/uxFxAAAAAXRSTlMAQObYZgAAA/FJ\n",
       "REFUWMPtWNe25CgM9Jic+f+vXaIRwbHPPO3w0PTta6qEkErC2/ZvfBzu+1Kkw4e24s9PBiSUT8Og\n",
       "9Cks+utUkLDOtv3+EheT+KnQDxAHyss1hZHirZjwgQrbR84i3pMwmECNMM9K1ofEy/DLzwezv0N8\n",
       "W7IJX7+88lxPdYDEwW0eQk/m7Cw7y6ODMM+c1cXsnflaV7M/QzSUd0ljfdmfUeeec9dUDaRbZCwe\n",
       "AtXrMpODsMz1JKh8Z//ujgP/CtFQllvXIoXB+DuX1PPyyH7uuSmYOyoAMqDb/mddHjNeHYRlNoqn\n",
       "Yd9tGZUdRbM/QgCUlSoJs/aqDrupvmLy1HOIXFFBkMt1rPjKZsczCYg9i8Oqd3umqnnuIwRA4UoT\n",
       "LjVtCcXZSTQit0lvyh+Knuuc0kuqGWQM1u6vlKQbF8WcRFhnkjKbgSAV4LtknlJKGB7xDfDcDDGM\n",
       "GxSnovCYbW9RewbmUNOegCt6z1ELhqcrg2eQYRDcyRzRWlNrIGGdU3g64GnTxbFJ4ar3UTUQ8NwE\n",
       "Mav6JYpKghLsOYx2Z8UmLuCHT9B+VVulQLPBM8iV54rMOUsA4THHg9btRBzt4pimNWjUUw89N0Ic\n",
       "Gh8CzTxAiZlAOl+hvUaOGHqyODw7QuKyK3Gi+QuEwwAyDLuSOV18gj0gTlu2TVWUs/A0rM5psF15\n",
       "boAobAxx59wTlBgT+kmDnJ/fxSPPYaHcimoAGQKVzjJXS+vouZBmwFCsNwZOw3mcrjij7OwSeg5A\n",
       "BK1HOka8oc9RYvJg2IS5dZ2WtdCdZGunc7YrMo1qBOmPpgsAXNOPeLnI1qDGpJGTPjSQDwpJ5kLH\n",
       "YIUAEOGUQ95FM+GR3qAYnmRuAx08WVU+Lof+34jzmJNkafAMAj1F+zawdnPcC0DYZglcZWQW6yN3\n",
       "RRb4cdNHeUY9BKpVDMMu4BolNghRUDhIWLe4xx81iNX+/6Ir4WJt8AzSbl+CDL18kTm8C7fNXUmn\n",
       "MUHjKIWYjOZsk1NUd56DMpXPCdvU5DF9j+KYVk6pvsRwQfsehrPdp3Q3zHuRLU/Fc+25sa3JVCuQ\n",
       "826T5eu+aB1NrdZ1bt065Sm7m815s8jj6d7EO881CBzOKTztYLLcoZykm1jdvmAQXty+XlE9fie3\n",
       "9zM4mOzcqIs8HQ1P4cftfDrl8juYHWpOzMz4P9IsvUX5OPI14eG7kt+o+nvJcD8JYZJ6HE586JlT\n",
       "WVEi9f5CXr1l6iCYllSnZsAxdKjcHcrHCPjlLdNwzwcV+ZbwuumPh3T9b07uzFaHzt2hfBuEv/Lc\n",
       "L1QdIUynpVDc6QLPb9Mt/ska/vkVt07EwQD016kgYZs/htz/ffwHy0Mqk242/rAAAAAASUVORK5C\n",
       "YII=\n",
       "\" style=\"display:inline;vertical-align:middle;\" /></a><br>(see <a class=\"ProveItLink\" href=\"../__pv_it/4f09e9b8f26155df003eb6c5f88a0f7c83c10cd40/dependencies.ipynb\">dependencies</a>)<br>"
      ],
      "text/plain": [
       "foldSupsetEq: forall_{A, B} ([forall_{x in B} (x in A)] => (A supseteq B))"
      ]
     },
     "execution_count": 2,
     "metadata": {},
     "output_type": "execute_result"
    }
   ],
   "source": [
    "%proving foldSupsetEq presuming []"
   ]
  },
  {
   "cell_type": "code",
   "execution_count": null,
   "metadata": {},
   "outputs": [],
   "source": []
  }
 ],
 "metadata": {
  "kernelspec": {
   "display_name": "Python 3",
   "language": "python",
   "name": "python3"
  }
 },
 "nbformat": 4,
 "nbformat_minor": 0
}
