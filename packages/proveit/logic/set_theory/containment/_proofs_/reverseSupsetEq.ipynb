{
 "cells": [
  {
   "cell_type": "markdown",
   "metadata": {},
   "source": [
    "Proof of <a class=\"ProveItLink\" href=\"../../../../_context_.ipynb\">proveit</a>.<a class=\"ProveItLink\" href=\"../../../_context_.ipynb\">logic</a>.<a class=\"ProveItLink\" href=\"../../_context_.ipynb\">set_theory</a>.<a class=\"ProveItLink\" href=\"../_context_.ipynb\">containment</a>.<a href=\"../_theorems_.ipynb#reverseSupsetEq\" class=\"ProveItLink\">reverseSupsetEq</a> theorem\n",
    "========"
   ]
  },
  {
   "cell_type": "code",
   "execution_count": 1,
   "metadata": {},
   "outputs": [],
   "source": [
    "import sys\n",
    "sys.path.append('..') # allows access to modules in parent context\n",
    "import proveit"
   ]
  },
  {
   "cell_type": "code",
   "execution_count": 2,
   "metadata": {},
   "outputs": [
    {
     "name": "stdout",
     "output_type": "stream",
     "text": [
      "Beginning proof of reverseSupsetEq\n",
      "Recorded 'presuming' information\n",
      "Presuming previous theorems (applied transitively).\n"
     ]
    },
    {
     "data": {
      "text/html": [
       "<strong id=\"reverseSupsetEq\">reverseSupsetEq:</strong> <a class=\"ProveItLink\" href=\"../__pv_it/f900d6e35ed96f5b240f39addabce07e8d8c28d90/expr.ipynb\"><img src=\"data:image/png;base64,iVBORw0KGgoAAAANSUhEUgAAALoAAAAXBAMAAABOokjyAAAAMFBMVEX///8QEBC6urrMzMxUVFRm\n",
       "ZmZERETc3NwyMjKqqqp2dnaIiIiYmJgiIiLu7u4AAAAU9Wx4AAAAAXRSTlMAQObYZgAAAtxJREFU\n",
       "SMe1VU1oE0EU/po0uzW72eamp7qCeFFoDoIHkQQNtbcEbCoeSitqih5sDtIqUhoEiR60uSjezEWs\n",
       "F4mgpxy63qoeWg+92AaDKAgSLDZtrdbqm5mdZFKV4FIXZua9efO+eb+zwH/9Kp4197eQmzYwx4hX\n",
       "HsD9MQJI1OI91/4kPULjBPCI0bc9oHcwr9uGgEGb88atcrlsS+kkOwGM0qIPeUAvsSlapBHjriyo\n",
       "MTbfEmcWuAmBvAf0LjZNZ4DZAqPGM6rwyiCxVhjmw7GxcQ/gviybT9N4zY0+2iQtTrMYnQdW0+k3\n",
       "HtAD3OIacPkiI6xs09WV+w4tD4BjwDDfyvH57kqqJ8JP1NNX93nHSKrvjNxl6v5a6dlivYIa3zue\n",
       "ENwD9rr3ml9EPsIwwozQ5NFZG/vS6QvM/+fAE3e3jblurAHV2O/oNiaStOwBQjCYGfiwITyOwbem\n",
       "oluDXOxnRvcB3a4nnQxdIzsMoTentkI8nmBlGCWpE+JpeTzPJaEiAnMqerCa5OtHGgvAABT0TtZR\n",
       "3zh/Sg07uZYV6Fb2IL+vmOaSzxHMZFT0w5roBjMPaxlmTkaGVXGU3Gpf53zVbqCTKBQWkcEwL6Z2\n",
       "16ru0lNeBHX0mHAFehK+76Ue2TOa45b7hKgW63pEguuE3rFExAyNO1z7Baa5aIpyV1HQzbyxJHQK\n",
       "CGZhdsmAJUW5+3e59/l65UvAYqhtiopEGyseaz41wo+do+DkFfRqqn9TvCM2tCSsdRlbsqn/Zzx+\n",
       "w9naCaO7czBHvtLt7H0zGWoggyh3jbS7Iwr6SfiXhRIlMQ/fsgTZ2bLhrLCkDpCuo+egb0KfV+Lu\n",
       "I9N4yX2ibExUMJ6UGi9bogeLLvF+FXpi0b+BqZVUb76BblHdXvrhUDdRxQUnU303m1/gxjdQLqsv\n",
       "sIx/0+9EobUWlumxVrYf38If+gd0XG0hNyJbNpy/oFNk0me39Xfevg0YvwDIULb8gbLMeAAAAABJ\n",
       "RU5ErkJggg==\n",
       "\" style=\"display:inline;vertical-align:middle;\" /></a><br>(see <a class=\"ProveItLink\" href=\"../__pv_it/f900d6e35ed96f5b240f39addabce07e8d8c28d90/dependencies.ipynb\">dependencies</a>)<br>"
      ],
      "text/plain": [
       "reverseSupsetEq: forall_{A, B | A supseteq B} (B subseteq A)"
      ]
     },
     "execution_count": 2,
     "metadata": {},
     "output_type": "execute_result"
    }
   ],
   "source": [
    "%proving reverseSupsetEq presuming []"
   ]
  },
  {
   "cell_type": "code",
   "execution_count": null,
   "metadata": {},
   "outputs": [],
   "source": []
  }
 ],
 "metadata": {
  "kernelspec": {
   "display_name": "Python 3",
   "language": "python",
   "name": "python3"
  }
 },
 "nbformat": 4,
 "nbformat_minor": 0
}
