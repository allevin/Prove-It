{
 "cells": [
  {
   "cell_type": "markdown",
   "metadata": {},
   "source": [
    "Proof of <a class=\"ProveItLink\" href=\"../../../../_context_.ipynb\">proveit</a>.<a class=\"ProveItLink\" href=\"../../../_context_.ipynb\">logic</a>.<a class=\"ProveItLink\" href=\"../../_context_.ipynb\">set_theory</a>.<a class=\"ProveItLink\" href=\"../_context_.ipynb\">containment</a>.<a href=\"../_theorems_.ipynb#reverseSubset\" class=\"ProveItLink\">reverseSubset</a> theorem\n",
    "========"
   ]
  },
  {
   "cell_type": "code",
   "execution_count": 1,
   "metadata": {},
   "outputs": [],
   "source": [
    "import sys\n",
    "sys.path.append('..') # allows access to modules in parent context\n",
    "import proveit"
   ]
  },
  {
   "cell_type": "code",
   "execution_count": 2,
   "metadata": {},
   "outputs": [
    {
     "name": "stdout",
     "output_type": "stream",
     "text": [
      "Beginning proof of reverseSubset\n",
      "Recorded 'presuming' information\n",
      "Presuming previous theorems (applied transitively).\n"
     ]
    },
    {
     "data": {
      "text/html": [
       "<strong id=\"reverseSubset\">reverseSubset:</strong> <a class=\"ProveItLink\" href=\"../__pv_it/f60c9f9417e5360ae159b2573a9af94b2f93d6c60/expr.ipynb\"><img src=\"data:image/png;base64,iVBORw0KGgoAAAANSUhEUgAAALoAAAAXBAMAAABOokjyAAAAMFBMVEX///8QEBC6urrMzMxUVFRm\n",
       "ZmZERETc3NwyMjKqqqp2dnaIiIiYmJgiIiLu7u4AAAAU9Wx4AAAAAXRSTlMAQObYZgAAAtdJREFU\n",
       "SMe1VE1oE1EQ/rL52TbZbHPTU43gTSE5FDyIJmiInkzAbOtFWhFT9GBzkFaR0iBC9GJzUQQP9lKs\n",
       "F4mipyBdb1UPrYegaKNBVHppLf31J1bnvd3XbNNocNUH+97szM43876ZHeC/roptz51N7EoQmGLC\n",
       "MxvgzigBJJZi8YuNrHvpOQLcYfJVG+gt7NaOHqA72MA6zL4A+umQe2ygF9kWKdATbcDKW4qtjPAU\n",
       "3Hkb6O1sG88AkyMkSOVy+WVh3Xi+mwxqAMrtgYFBG+BSlu3H6XkuGkN9FBbWwjij6xSwkk6/soHu\n",
       "ZhljCTh3Zl0nvxChK7d0OkaBA0AvV+X4fn1Zi/MUpPXyZYTU2qelTggtc3cuFR9OW0LuMM93vCC4\n",
       "wTQqv6SyYNQjAF+ACR7hMlnricfAPVN0MK1vFZi1FNVvnkEMJenYzjQ+lgY+VI0bRyGtWtHVbjJL\n",
       "o5pG9KaAkHmTNobuoTx81Rq6yyDeGYslWBtGyKr7eVnulozwBbinrOje2STU0/vm5kh+DRyDBb2N\n",
       "/VFfN6ETqY6sga5mO3i8QppbPoUxkbGi7/H0wGN4qYtQcoIZ1sURupbryyZmyOQPGMygdz8Pa2YV\n",
       "Kj4wmkCgR+kqN81W+FaMi/bz6Ga7D2Vr6NeM1iH0lnkSJpiKE/EE49w0RrWrWNCVvG8eXSZJWSjt\n",
       "grCk0e7OrbU5KL3hxwzzXjM6Eg7WPGpJ6+OfnSRy8hb0Wa1zDYfNfKkCggeJcur8EYtd1mtz7ShH\n",
       "6N+Wg9L3maKz+aYwnTuDCCeXvENhC3oXnIu4b1YyD2lRYG3Z+OvSJLhUN87UgJB2ka8u5yCvQS5Z\n",
       "eJcotSo+Gh8NVTCYFB5Pm/7OXjF33q9ATkw7qxhb1g7la+gq9e3Z73orL7R3WEtd2TiBf7tm6gen\n",
       "RfZYDR3pdLoOTY42Qz9Y9777V+iN1oUmdl+4TqH/CfpfLdc/wPgJy26x2mlsjCgAAAAASUVORK5C\n",
       "YII=\n",
       "\" style=\"display:inline;vertical-align:middle;\" /></a><br>(see <a class=\"ProveItLink\" href=\"../__pv_it/f60c9f9417e5360ae159b2573a9af94b2f93d6c60/dependencies.ipynb\">dependencies</a>)<br>"
      ],
      "text/plain": [
       "reverseSubset: forall_{A, B | A subset B} (B supset A)"
      ]
     },
     "execution_count": 2,
     "metadata": {},
     "output_type": "execute_result"
    }
   ],
   "source": [
    "%proving reverseSubset presuming []"
   ]
  },
  {
   "cell_type": "code",
   "execution_count": null,
   "metadata": {},
   "outputs": [],
   "source": []
  }
 ],
 "metadata": {
  "kernelspec": {
   "display_name": "Python 3",
   "language": "python",
   "name": "python3"
  }
 },
 "nbformat": 4,
 "nbformat_minor": 0
}
