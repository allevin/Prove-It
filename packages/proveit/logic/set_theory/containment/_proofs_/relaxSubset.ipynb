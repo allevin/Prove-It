{
 "cells": [
  {
   "cell_type": "markdown",
   "metadata": {},
   "source": [
    "Proof of <a class=\"ProveItLink\" href=\"../../../../_context_.ipynb\">proveit</a>.<a class=\"ProveItLink\" href=\"../../../_context_.ipynb\">logic</a>.<a class=\"ProveItLink\" href=\"../../_context_.ipynb\">set_theory</a>.<a class=\"ProveItLink\" href=\"../_context_.ipynb\">containment</a>.<a href=\"../_theorems_.ipynb#relaxSubset\" class=\"ProveItLink\">relaxSubset</a> theorem\n",
    "========"
   ]
  },
  {
   "cell_type": "code",
   "execution_count": 1,
   "metadata": {},
   "outputs": [],
   "source": [
    "import sys\n",
    "sys.path.append('..') # allows access to modules in parent context\n",
    "import proveit"
   ]
  },
  {
   "cell_type": "code",
   "execution_count": 2,
   "metadata": {},
   "outputs": [
    {
     "name": "stdout",
     "output_type": "stream",
     "text": [
      "Beginning proof of relaxSubset\n",
      "Recorded 'presuming' information\n",
      "Presuming previous theorems (applied transitively).\n"
     ]
    },
    {
     "data": {
      "text/html": [
       "<strong id=\"relaxSubset\">relaxSubset:</strong> <a class=\"ProveItLink\" href=\"../__pv_it/22661b9d2146c6f839082ce4fba5b3001adb3f020/expr.ipynb\"><img src=\"data:image/png;base64,iVBORw0KGgoAAAANSUhEUgAAALkAAAAXBAMAAACllfPxAAAAMFBMVEX///8QEBC6urrMzMxUVFRm\n",
       "ZmZERETc3NwyMjKqqqp2dnaIiIiYmJgiIiLu7u4AAAAU9Wx4AAAAAXRSTlMAQObYZgAAAtpJREFU\n",
       "SMe1VU1oE0EU/pp0s02z2faknkoOvSkmQsCDaIOGUhBswK49FVPEVDzYHMQiUsxFi6BtLvXipRex\n",
       "Ikj9OQgBG0VEK2IsBkENpKDSS3/oT1ptTX0zs9sdUiW46sDsezNv5pv3vvdmFvivreh4584q9qfU\n",
       "c0x55QDcHREit8XybCMaPRWAEgJus/GgA/Q6EXXdvDl+VCgUJoW6DVAWgBRwjkZq3AF6RojXZSH3\n",
       "P7ajWqO+BEwIF5S0A/Qm/lWHV4R8b1t8NKV9B6ZI3Orr63cA7koJJN8Cl7UB2+RpBPx0uIecLiUS\n",
       "HxygKyNc7PauczktmRoiUC8TJfUx4BDQwycH+Pf6stEa4s5tpi9pad5eo+OENZtlXz3ASKYWltBb\n",
       "Dme6mNVL4TVD50FqIkStEb5GHp+1+I0d9BPgnqnWBIQL6vIW9PEk9HfMyBiCj7vxRYSoROBakdH1\n",
       "42R23TQMirUDCJqRNHD0cDRa4kO/hN7NTqBNbipWX9bPK/duXiwbg5KT0etnYtBPH5idJf0j0AUZ\n",
       "nT47hFNS2S2xgEcEup7iUbnHEtw0F8KLpIy+zxOHJyTCWIQ2YDHD4LzU3wrTpF3ujIT2tGAGPQd5\n",
       "SZleBTMPz0BGj1AoN8wqXMu0Wu+Sh9F5nvqQGE8flctdXWUpZPkc5kS8xDi3jVLuihK6lvbNo9Mk\n",
       "KQWtySIsBlEOveZ5zdfMl4CV+55BcwlqxlhkeUMsO0nkpCX0GeNYGUdMfykD36zblIPavZrE841L\n",
       "FRehdynadpUXLUuNxlCVJFo4ubQ7GJLQO+FexH0zk2m4Fi2U7VUv3NSmtov2ZtUBqGWoeYl3F9G7\n",
       "jq9i0cUi+mPWjomq6Hcs5XMJavsnyvbostGWttH19jjO/sh6eaLrh4yOK5UvsMVHoWC/wOZFSVWc\n",
       "pkm6RzaEE4lExV9MjVRxvTZZMbH3d+i/aheq2B9UTmT/BP2vWu0/wPgJiQC5CXpIO1gAAAAASUVO\n",
       "RK5CYII=\n",
       "\" style=\"display:inline;vertical-align:middle;\" /></a><br>(see <a class=\"ProveItLink\" href=\"../__pv_it/22661b9d2146c6f839082ce4fba5b3001adb3f020/dependencies.ipynb\">dependencies</a>)<br>"
      ],
      "text/plain": [
       "relaxSubset: forall_{A, B | A subset B} (A subseteq B)"
      ]
     },
     "execution_count": 2,
     "metadata": {},
     "output_type": "execute_result"
    }
   ],
   "source": [
    "%proving relaxSubset presuming []"
   ]
  },
  {
   "cell_type": "code",
   "execution_count": null,
   "metadata": {},
   "outputs": [],
   "source": []
  }
 ],
 "metadata": {
  "kernelspec": {
   "display_name": "Python 3",
   "language": "python",
   "name": "python3"
  }
 },
 "nbformat": 4,
 "nbformat_minor": 0
}
