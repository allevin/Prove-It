{
 "cells": [
  {
   "cell_type": "markdown",
   "metadata": {},
   "source": [
    "Proof of <a class=\"ProveItLink\" href=\"../../../../_context_.ipynb\">proveit</a>.<a class=\"ProveItLink\" href=\"../../../_context_.ipynb\">logic</a>.<a class=\"ProveItLink\" href=\"../../_context_.ipynb\">set_theory</a>.<a class=\"ProveItLink\" href=\"../_context_.ipynb\">containment</a>.<a href=\"../_theorems_.ipynb#reverseSupset\" class=\"ProveItLink\">reverseSupset</a> theorem\n",
    "========"
   ]
  },
  {
   "cell_type": "code",
   "execution_count": 1,
   "metadata": {},
   "outputs": [],
   "source": [
    "import sys\n",
    "sys.path.append('..') # allows access to modules in parent context\n",
    "import proveit"
   ]
  },
  {
   "cell_type": "code",
   "execution_count": 2,
   "metadata": {},
   "outputs": [
    {
     "name": "stdout",
     "output_type": "stream",
     "text": [
      "Beginning proof of reverseSupset\n",
      "Recorded 'presuming' information\n",
      "Presuming previous theorems (applied transitively).\n"
     ]
    },
    {
     "data": {
      "text/html": [
       "<strong id=\"reverseSupset\">reverseSupset:</strong> <a class=\"ProveItLink\" href=\"../__pv_it/3cfc3018e63d557045a72bb1dc29d9da86475e990/expr.ipynb\"><img src=\"data:image/png;base64,iVBORw0KGgoAAAANSUhEUgAAALoAAAAXBAMAAABOokjyAAAAMFBMVEX///8QEBC6urrMzMxUVFRm\n",
       "ZmZERETc3NwyMjKqqqp2dnaIiIiYmJgiIiLu7u4AAAAU9Wx4AAAAAXRSTlMAQObYZgAAAthJREFU\n",
       "SMe1VE1oE0EU/pI0uzW72eampxrBm0JzEAVFEjTUnmzAbsWDtP6leLE5SKtIaRAketDmonizIGK9\n",
       "SAQ95dD1VvXQeujFthjESi+pYv+s1uqbmZ1mjNHgqgMz82bevG/ezzcD/NdW8my5o47ejAITTHjh\n",
       "ATyQIID2xWTr5Vra/dSPAA+YfMMDeiOL2tcNdEVraIfYCaCPJr3bA3qRDfEC9USNrLymu81h7kIw\n",
       "7wG9mQ2jGWB8mK+N6zMzMzKMi12ksCIw7/f3D3gA92fZeIL6S06MwJTKj8Iou+cssJxOv/KAHuQe\n",
       "LwIXzvH1QEa9unTHoekecBDo4Vs5Pt5asltj/MRG+TbsNvXaHafkLjMPLBafTIv1AfXqN7wguA1s\n",
       "h8WDND+KekRgRJigyaPjFU48BR65oo/tGitAmRdVYMgWxWCKpm1AGAZzA7NrIuIE/CsqutXlYNa2\n",
       "7zK5A2hxI2li6Br5YaxJ9leeQjLZzmgYJ60T5vV4OMk14QKCEyp6qJyCNT+/9zDJU8BxKOhN7EV9\n",
       "/gmdkurLCnQru4urC2mueR/DWEZF36eJ17Cbji7AzMnMMBbHKeqGVb6eUNBJFY6IzKCHF6TB9aql\n",
       "+FiQQKInRCgIReH/UmyVvNMcl+6DIuPHKuA6oTd+IGGM+k1u/QyjXDVCtSsp6Gbe+CCSOYxQFmaz\n",
       "TFhK0D2wRdxXrtR+jlmvC0bCx8hjTdq9/NgZSk5eQS/bnevCoxQ0qsCqzC351PktmbzquMW/EnM1\n",
       "fVtzMHs/0e3sfzMZajCDOFeTdUtMQT+KwIIgu4OmPPwL0sPN1Y+3TfkJxIURKe0kAjh6Dvo69Ekl\n",
       "735yTVBVK2GwhIGUtHhe9zmHCq7wdhl6+3RgDSNLdlu+gm4Rb89/ZcHrJxEasjuu/fgD/7bNVX+c\n",
       "iqwp8rt0+nSm6qyeqId+qGq95xfoNdulOnojVrXh/An6X7WGf4DxHUvzsqWmWoAEAAAAAElFTkSu\n",
       "QmCC\n",
       "\" style=\"display:inline;vertical-align:middle;\" /></a><br>(see <a class=\"ProveItLink\" href=\"../__pv_it/3cfc3018e63d557045a72bb1dc29d9da86475e990/dependencies.ipynb\">dependencies</a>)<br>"
      ],
      "text/plain": [
       "reverseSupset: forall_{A, B | A supset B} (B subset A)"
      ]
     },
     "execution_count": 2,
     "metadata": {},
     "output_type": "execute_result"
    }
   ],
   "source": [
    "%proving reverseSupset presuming []"
   ]
  },
  {
   "cell_type": "code",
   "execution_count": null,
   "metadata": {},
   "outputs": [],
   "source": []
  }
 ],
 "metadata": {
  "kernelspec": {
   "display_name": "Python 3",
   "language": "python",
   "name": "python3"
  }
 },
 "nbformat": 4,
 "nbformat_minor": 0
}
