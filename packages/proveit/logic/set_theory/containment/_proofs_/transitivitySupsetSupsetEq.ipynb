{
 "cells": [
  {
   "cell_type": "markdown",
   "metadata": {},
   "source": [
    "Proof of <a class=\"ProveItLink\" href=\"../../../../_context_.ipynb\">proveit</a>.<a class=\"ProveItLink\" href=\"../../../_context_.ipynb\">logic</a>.<a class=\"ProveItLink\" href=\"../../_context_.ipynb\">set_theory</a>.<a class=\"ProveItLink\" href=\"../_context_.ipynb\">containment</a>.<a href=\"../_theorems_.ipynb#transitivitySupsetSupsetEq\" class=\"ProveItLink\">transitivitySupsetSupsetEq</a> theorem\n",
    "========"
   ]
  },
  {
   "cell_type": "code",
   "execution_count": 1,
   "metadata": {},
   "outputs": [],
   "source": [
    "import sys\n",
    "sys.path.append('..') # allows access to modules in parent context\n",
    "import proveit"
   ]
  },
  {
   "cell_type": "code",
   "execution_count": 2,
   "metadata": {},
   "outputs": [
    {
     "name": "stdout",
     "output_type": "stream",
     "text": [
      "Beginning proof of transitivitySupsetSupsetEq\n",
      "Recorded 'presuming' information\n",
      "Presuming previous theorems (applied transitively).\n"
     ]
    },
    {
     "data": {
      "text/html": [
       "<strong id=\"transitivitySupsetSupsetEq\">transitivitySupsetSupsetEq:</strong> <a class=\"ProveItLink\" href=\"../__pv_it/6d588616a974adf75c8190f16e101d9e897500fd0/expr.ipynb\"><img src=\"data:image/png;base64,iVBORw0KGgoAAAANSUhEUgAAAPcAAAAXBAMAAAAl5sTiAAAAMFBMVEX///8QEBC6urrMzMxUVFRm\n",
       "ZmZERETc3NwyMjKqqqp2dnaIiIiYmJgiIiLu7u4AAAAU9Wx4AAAAAXRSTlMAQObYZgAAA4RJREFU\n",
       "SMfFVk1IFVEU/pzne6PvjaO7fhZmUKsy38IMivBhKq3yBU5BFGk/0y5nUdkPkkEhEaQbXRsusgK1\n",
       "H2rhoqlF9ENkhBGl9aSMQLRItOz/nHtn5s17Km6edGHuvXPvN/Od891zzgzwP1tisV68ZoH9+3QN\n",
       "8ORJ5rkDMTkMzN7Sb1ftVuPBKHCFby9mnjxHSprzZfbWJRvKdhvNwDG6U+syT94vh6d/Zu18ektd\n",
       "r4XH0sJgW+bJC0Wvtn8TY/Hw8PAFZ+cMa7ISGAG0y42NTZnnVprFEIl89ZbGXoghOMP9USBELk+b\n",
       "5uvMkwc7xbAu91dyrcni/rQw6z0QjgNbgENir0X0HVNGdVRaXbVrjOGKF0OWO8ttMGr3p8G53TJ6\n",
       "7jhYW8R1UeCnTw2RAHtt9yVkxSrowhZNCqQVIFIgkmQIqOdJyH34WZH3nnvA9SRcMU2zh2422wgV\n",
       "SECWwCpQp3xyiLR757qgEDQPEWHLqBQoGIMigqSEHOrwk+tk86hhdPG8lvatFHhZFMokueMkTr4g\n",
       "L62snPaRb+Hur1vbApSFETtPpGTPoFjN60OQLdSXU7fJTx4ej0OfmNi4jeZvgD0pcJZvhM450Ocn\n",
       "p25pOvkKIXlUkuvNpULlPlMAPkfxkH0Kc3WY8JNvCkmvyuiZSWgtKXDgEXrZBqdcZ3H25tL1PF32\n",
       "GkYEHdlxqILXsh1XSvpvHRYueYXHJY9JFxEugvKzvzqRAufkeenjCfFRnqCrNbmWG+e+nLXhCNE4\n",
       "1NoHpOF3BaKboonfm9+ZRq61RWSpDHQi3AytMAUOnMQPHznnkQjkhuSXq1hMNcrz1ZYDQRabog8a\n",
       "EnaQpGTJsohc7/ORjxs7ZKlU4wjR6Yta4cGBG+AoGXNDeQBq/XcLD/6ec7nXO1+Q0rOGeCKHw0IT\n",
       "h2ChXOTrjIxzBEn2cMJHvhOBSamejfw2Edo+OH8fdjh6irYkpeZQeX1VkVaHRrzZWhLaVlug/oFK\n",
       "YX/c0pcBXT7ZFTpEmYyhBE4n0BRHEs6fyQRG2hD2Cs7jBYvgNXfyYRpqzVDgF7qnjK0kSjmldNXV\n",
       "RJJcr6nDkd8cReo+hFuN2vN0+C6cisxBekiv3dWT/kmdv8nS5muaN7N9gesDfDTNA9Yc8NlNjS1A\n",
       "nm2lLWzw/kOsucnngc/VTi1AfjN9wZ7Lp/nJXTjXdjOGxWjZi/bz+g/4E/LhXLlb7AAAAABJRU5E\n",
       "rkJggg==\n",
       "\" style=\"display:inline;vertical-align:middle;\" /></a><br>(see <a class=\"ProveItLink\" href=\"../__pv_it/6d588616a974adf75c8190f16e101d9e897500fd0/dependencies.ipynb\">dependencies</a>)<br>"
      ],
      "text/plain": [
       "transitivitySupsetSupsetEq: forall_{A, B, C | A supset B , B supseteq C} (A supset C)"
      ]
     },
     "execution_count": 2,
     "metadata": {},
     "output_type": "execute_result"
    }
   ],
   "source": [
    "%proving transitivitySupsetSupsetEq presuming []"
   ]
  },
  {
   "cell_type": "code",
   "execution_count": null,
   "metadata": {},
   "outputs": [],
   "source": []
  }
 ],
 "metadata": {
  "kernelspec": {
   "display_name": "Python 3",
   "language": "python",
   "name": "python3"
  }
 },
 "nbformat": 4,
 "nbformat_minor": 0
}
