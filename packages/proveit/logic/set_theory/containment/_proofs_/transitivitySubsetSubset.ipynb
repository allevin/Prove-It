{
 "cells": [
  {
   "cell_type": "markdown",
   "metadata": {},
   "source": [
    "Proof of <a class=\"ProveItLink\" href=\"../../../../_context_.ipynb\">proveit</a>.<a class=\"ProveItLink\" href=\"../../../_context_.ipynb\">logic</a>.<a class=\"ProveItLink\" href=\"../../_context_.ipynb\">set_theory</a>.<a class=\"ProveItLink\" href=\"../_context_.ipynb\">containment</a>.<a href=\"../_theorems_.ipynb#transitivitySubsetSubset\" class=\"ProveItLink\">transitivitySubsetSubset</a> theorem\n",
    "========"
   ]
  },
  {
   "cell_type": "code",
   "execution_count": 1,
   "metadata": {},
   "outputs": [],
   "source": [
    "import sys\n",
    "sys.path.append('..') # allows access to modules in parent context\n",
    "import proveit"
   ]
  },
  {
   "cell_type": "code",
   "execution_count": 2,
   "metadata": {},
   "outputs": [
    {
     "name": "stdout",
     "output_type": "stream",
     "text": [
      "Beginning proof of transitivitySubsetSubset\n",
      "Recorded 'presuming' information\n",
      "Presuming previous theorems (applied transitively).\n"
     ]
    },
    {
     "data": {
      "text/html": [
       "<strong id=\"transitivitySubsetSubset\">transitivitySubsetSubset:</strong> <a class=\"ProveItLink\" href=\"../__pv_it/6a08939be1ce608a1c0d163966a41b14a015810e0/expr.ipynb\"><img src=\"data:image/png;base64,iVBORw0KGgoAAAANSUhEUgAAAPcAAAAXBAMAAAAl5sTiAAAAMFBMVEX///8QEBC6urrMzMxUVFRm\n",
       "ZmZERETc3NwyMjKqqqp2dnaIiIiYmJgiIiLu7u4AAAAU9Wx4AAAAAXRSTlMAQObYZgAAA4JJREFU\n",
       "SMfFVk9IFFEY/3ZmZ8fdHUdv/TmYgV0qcg8LHaRcSqVTbrSjIP1RohE66Bwqi5A2KKRDuRe9dDEk\n",
       "soJ1K6lAqKlDlBGZYEFp7VJKIG6SaJmmvfe9mdlxV9vLSg/mzXvz/Xy/733f7/tWgP854mt18LYs\n",
       "9mfkGaSLV7nn5gPsNZhpkh9UHhKDgg/gFt1ezT15Hgtp3lSm6boO3AEdwgCnyU6szz15P3u9Xsyw\n",
       "fPtEpl4NBpiHQiT35EU4ix0/jf2j0dHRIVxdoDHZDJAAkG62tLTmnpsL48vr/cH2ux6bFmGOzqcA\n",
       "XOTKs6r6IffkQhe+drgXWATeW5bz6NYXAE8QYC9AI35tw7lzRqnyMa8r6yY0eglLQ5q5cjcroWNp\n",
       "cDr6lOhDA6ujrov5edw6iy3MUd08hHhRAjL6IrEASYXgLcQiGQFooAuX+WdvUic8Bbi7HI6x1cFl\n",
       "bByI5UCcYSJLxeSzeQWOQPPBi76MsQAJAeBQJKXkQp12cpn6zN1QFCKYELFrNvhWRTkC3DS5jlE4\n",
       "BUjur6iYxa0/Rb5k9jaeVKFXz8eSjA7j1/wYCLQxyBvJVGYn90wGQT6xO5kk648Ah23w8e5kMg4J\n",
       "kmc+Zicn0/p08k0Ych8jl8No4WMq2r774AW9k4d2h6SdvMxVDy6WX3kapDYbnOW/l1qMdu2g1esm\n",
       "z1vmY4q8miIEI+zQuAclYVyltL+vCeFW4zHJA+SK14x0zfdXxVNwN7vuO5vaXTSVZ8nTzpKZ6iTl\n",
       "FBylcqFS68D2+xKeoK2HqImeW9CVRi5FvFNQa2QgDFJRCi4wDf22kdM6QiE3o5PykGWRSJ1v0QwI\n",
       "OKgr8rDCYMdJKKmbDkIux2zkk0rNIuw3/CHZx17B4E4WBaqSCVPKgyA2/NLg+dIlJveDFrv/ooJx\n",
       "yKOykDAJGpRjPueYzkEgYffEbeS1wE/DPUNOEZS2CfeyGqwx4oljXVrXKblitldzJKzVdnKiLraB\n",
       "uAgikf0ZTd4A0G0LO0eSuADjRpeKQ2sQLLjM9JGIgMdqOANZm+Adc/F1FsTqEX4BemaUfSQo5TqM\n",
       "Vd6Op8jl6no4+Ud3oxg97UroMikQC97JEhuqi6b/pK4+WGuzDcla6Tbh2hF+VVXjGXC+SlWblh8l\n",
       "BrKQO7W0Dzut07RVyFeGrzTOZSG/n/5BzwzBv8j1tf8X07lmJ/8FBhrzRZ4FzYEAAAAASUVORK5C\n",
       "YII=\n",
       "\" style=\"display:inline;vertical-align:middle;\" /></a><br>(see <a class=\"ProveItLink\" href=\"../__pv_it/6a08939be1ce608a1c0d163966a41b14a015810e0/dependencies.ipynb\">dependencies</a>)<br>"
      ],
      "text/plain": [
       "transitivitySubsetSubset: forall_{A, B, C | A subset B , B subset C} (A subset C)"
      ]
     },
     "execution_count": 2,
     "metadata": {},
     "output_type": "execute_result"
    }
   ],
   "source": [
    "%proving transitivitySubsetSubset presuming []"
   ]
  },
  {
   "cell_type": "code",
   "execution_count": null,
   "metadata": {},
   "outputs": [],
   "source": []
  }
 ],
 "metadata": {
  "kernelspec": {
   "display_name": "Python 3",
   "language": "python",
   "name": "python3"
  }
 },
 "nbformat": 4,
 "nbformat_minor": 0
}
