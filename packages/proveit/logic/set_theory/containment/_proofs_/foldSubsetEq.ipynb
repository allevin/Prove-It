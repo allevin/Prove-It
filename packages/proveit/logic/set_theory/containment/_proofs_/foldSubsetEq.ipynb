{
 "cells": [
  {
   "cell_type": "markdown",
   "metadata": {},
   "source": [
    "Proof of <a class=\"ProveItLink\" href=\"../../../../_context_.ipynb\">proveit</a>.<a class=\"ProveItLink\" href=\"../../../_context_.ipynb\">logic</a>.<a class=\"ProveItLink\" href=\"../../_context_.ipynb\">set_theory</a>.<a class=\"ProveItLink\" href=\"../_context_.ipynb\">containment</a>.<a href=\"../_theorems_.ipynb#foldSubsetEq\" class=\"ProveItLink\">foldSubsetEq</a> theorem\n",
    "========\n",
    "*** see <a href=\"../__pv_it/9e39e5069264337bcc9caf90d2c6140d2119a5b20/dependencies.ipynb\" class=\"ProveItLink\">dependencies</a> ***"
   ]
  },
  {
   "cell_type": "code",
   "execution_count": 1,
   "metadata": {},
   "outputs": [
    {
     "name": "stdout",
     "output_type": "stream",
     "text": [
      "Beginning proof of foldSubsetEq\n",
      "Recorded 'presuming' information\n",
      "Presuming previous theorem (applied transitively).\n"
     ]
    },
    {
     "data": {
      "text/html": [
       "<strong id=\"foldSubsetEq\">foldSubsetEq:</strong> <a class=\"ProveItLink\" href=\"../__pv_it/3906c67533c5cfa9e02db4d7179366413696a2c50/expr.ipynb\"><img src=\"data:image/png;base64,iVBORw0KGgoAAAANSUhEUgAAAToAAAAWBAMAAACidU2WAAAAMFBMVEX///8QEBC6urrMzMxUVFRm\n",
       "ZmZERETc3NwyMjKqqqp2dnaIiIiYmJgiIiLu7u4AAAAU9Wx4AAAAAXRSTlMAQObYZgAABEVJREFU\n",
       "SMfNV19oW2UU/zU3yW1yb2/z5kQcd7C3istg4GBogwutby2MTETHOsEMKc48jGUy1DiQ+VINuMrA\n",
       "l7yo1UIJOEHscFFQZ2UuK9TJWDSCjuCoFtfWf7XzfP9y/+TeO/a2AyffPfc7v/Od75zvnO8GuKup\n",
       "HTU5BOP7R6LxQ1GTnwPmlH2nKCLTFtxkwjfBOloOaXuAa9cRqhJofWw1P3ISiSzIQihKa4YBsQ+c\n",
       "32fvXg9eur9NttNV8RSqEkh9E8BBG5Vg7ySqf0XKH7darUUPsJ9NA8do0CeCl5hntvnksbAUzIe8\n",
       "H6ZgD+ew4PHO8qEuborx4U97gGYNjNk2EtXgJbZy2yywT4R5t9UtWBSDing8XwIu1fCTx7tuoAVK\n",
       "n/5TjFdcNiTQyoCx+V65/GLwyjGRl4VyudxEuIpDu7/tPh4ivtxGsur2LpbzoAzjDz7G3bmXQDwL\n",
       "zuvF4tXgpRM17t1gsfhcDeEq+uzo20/yGBxxJlaB4ySmxz3nbtZBET2Y2uBjx21RAvGO4L3AYf7+\n",
       "FP99a60wkpWJaHDv4lkkS75TrWSm8isuNu5ngktLW53/6BqNqYr07kCL0Y/jXRQlztb+5eIudzVL\n",
       "IM4I3g6LB9oUYTYzMDKyfGzuHeWj4wvZJRUPplLDebzJhOuOgkEnapnyGMt4a/aMrVA0B32txzsF\n",
       "xDbBAzD4Vn4RYU7kEBOHFYPCO2qJ5xT4RuEptuuDDTgqbYwIYRsLjzhSSdqgQQa1Fa931iu2RJFT\n",
       "+fw6fzngUlBADAs2GgO8lOaWhGodiabXu3P4Qe3s6Zd+oyG9PO7yDrgP/hgM0vbNf3q92z3noOhn\n",
       "iwhItReovLMq3KpWL/Lp37O4IM9PX1V412GtPX12aC++EBN7kqpBMhXoN0UnW3Z1LQpu/G9XZsW5\n",
       "ax1xUClWnCKgi71AlVkcfpSXNQ7w6R3zZ1XpJUVVIHmUfubiE/dC9o+cii5X+cpYAW+n8Yana71M\n",
       "2mbFE7vTDgovEL8h5M6+HiAuSJ7mS31NZ5vRDPCZbJrUDrjtFPPbpkLTRCcwq4a6gkgltZHM6HVf\n",
       "DKhraVva/o6iVxzDvBSflyttn1I3mQKqjoI+ZtpaKgjVZyi58hzEmrLT83M1WIL2XbE4SRks7N9E\n",
       "V8WanPtAVs1xFYP9t/L511iA+m23d6rlEEo/9FcJX9561dcMukCclGwyrxIlDPM2RznfIfsd7pHe\n",
       "8StgJ7KW6PWPQ7sJR8VFp6dansvDd5NpwaggkjeZpAcoOA39FPRN6EvqpesO11ZmqLGN8p3T3jZc\n",
       "KlE0G/yNsnBb79J1wZx+Xoc+dk3bwMxa4bGq5wtK7mVy+pM2rpNkjU3g6H+N23xBSVT0F5S6Dnk5\n",
       "L3o0Ov4bjiXZK+o5v+132bnzqURQvBTsXTSK0ahkNz3kk0/AaGWjzZyImvyQGnjLvlMUa/tZwR5q\n",
       "3GV/ev4H9PU9haV18voAAAAASUVORK5CYII=\n",
       "\" style=\"display:inline;vertical-align:middle;\" /></a><br>(see <a class=\"ProveItLink\" href=\"../__pv_it/3906c67533c5cfa9e02db4d7179366413696a2c50/dependencies.ipynb\">dependencies</a>)<br>"
      ],
      "text/plain": [
       "foldSubsetEq: forall_{A, B} ([forall_{x in A} (x in B)] => (A subseteq B))"
      ]
     },
     "execution_count": 1,
     "metadata": {},
     "output_type": "execute_result"
    }
   ],
   "source": [
    "import proveit\n",
    "%proving foldSubsetEq presuming []"
   ]
  },
  {
   "cell_type": "code",
   "execution_count": null,
   "metadata": {},
   "outputs": [],
   "source": []
  }
 ],
 "metadata": {
  "kernelspec": {
   "display_name": "Python 3",
   "language": "python",
   "name": "python3"
  }
 },
 "nbformat": 4,
 "nbformat_minor": 0
}
