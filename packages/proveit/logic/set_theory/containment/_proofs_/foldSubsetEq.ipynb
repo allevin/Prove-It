{
 "cells": [
  {
   "cell_type": "markdown",
   "metadata": {
    "collapsed": true
   },
   "source": [
    "Proof of <a class=\"ProveItLink\" href=\"../../../../_context_.ipynb\">proveit</a>.<a class=\"ProveItLink\" href=\"../../../_context_.ipynb\">logic</a>.<a class=\"ProveItLink\" href=\"../../_context_.ipynb\">set_theory</a>.<a class=\"ProveItLink\" href=\"../_context_.ipynb\">containment</a>.<a href=\"../_theorems_.ipynb#foldSubsetEq\" class=\"ProveItLink\">foldSubsetEq</a> theorem\n",
    "========\n",
    "*** see <a href=\"../__pv_it/9e39e5069264337bcc9caf90d2c6140d2119a5b20/dependencies.ipynb\" class=\"ProveItLink\">dependencies</a> ***"
   ]
  },
  {
   "cell_type": "code",
   "execution_count": 1,
   "metadata": {},
   "outputs": [
    {
     "name": "stdout",
     "output_type": "stream",
     "text": [
      "Beginning proof of foldSubsetEq\n",
      "Recorded 'presuming' information\n",
      "Presuming theorems in proveit.logic (except any that presume this theorem).\n",
      "Presuming previous theorem (applied transitively).\n"
     ]
    },
    {
     "data": {
      "text/html": [
       "<strong id=\"foldSubsetEq\">foldSubsetEq:</strong> <a class=\"ProveItLink\" href=\"../__pv_it/1b221ee8f010aecab914fad97f4a0f75795c964f0/expr.ipynb\"><img src=\"../__pv_it/1b221ee8f010aecab914fad97f4a0f75795c964f0/expr.png\" style=\"display:inline;vertical-align:middle;\" /></a><br>(see <a class=\"ProveItLink\" href=\"../__pv_it/1b221ee8f010aecab914fad97f4a0f75795c964f0/dependencies.ipynb\">dependencies</a>)<br>"
      ],
      "text/plain": [
       "foldSubsetEq: forall_{A, B} ([forall_{x in A} (x in B)] => (A subseteq B))"
      ]
     },
     "execution_count": 1,
     "metadata": {},
     "output_type": "execute_result"
    }
   ],
   "source": [
    "import proveit\n",
    "from proveit.logic.set_theory.containment._axioms_ import subsetEqDef\n",
    "%proving foldSubsetEq presuming [proveit.logic]"
   ]
  },
  {
   "cell_type": "code",
   "execution_count": 2,
   "metadata": {},
   "outputs": [
    {
     "data": {
      "text/html": [
       "<span style=\"font-size:20px;\"> &#x22A2;&nbsp;<a class=\"ProveItLink\" href=\"../__pv_it/0892e071e1faecd5664a9756397a57a18abf432d0/expr.ipynb\"><img src=\"../__pv_it/0892e071e1faecd5664a9756397a57a18abf432d0/expr.png\" style=\"display:inline;vertical-align:middle;\" /></a></span>"
      ],
      "text/plain": [
       "|- forall_{A, B} ((A subseteq B) = [forall_{x in A} (x in B)])"
      ]
     },
     "execution_count": 2,
     "metadata": {},
     "output_type": "execute_result"
    }
   ],
   "source": [
    "subsetEqDef"
   ]
  },
  {
   "cell_type": "code",
   "execution_count": 3,
   "metadata": {},
   "outputs": [
    {
     "data": {
      "text/html": [
       "<strong id=\"definitionSpecialized\">definitionSpecialized:</strong> <span style=\"font-size:20px;\"> &#x22A2;&nbsp;<a class=\"ProveItLink\" href=\"../__pv_it/cc7aa1a886af88dc46a7712c6f379aeca37ce0e80/expr.ipynb\"><img src=\"../__pv_it/cc7aa1a886af88dc46a7712c6f379aeca37ce0e80/expr.png\" style=\"display:inline;vertical-align:middle;\" /></a></span><br>"
      ],
      "text/plain": [
       "definitionSpecialized: |- (A subseteq B) = [forall_{x in A} (x in B)]"
      ]
     },
     "execution_count": 3,
     "metadata": {},
     "output_type": "execute_result"
    }
   ],
   "source": [
    "definitionSpecialized = subsetEqDef.specialize()"
   ]
  },
  {
   "cell_type": "code",
   "execution_count": 4,
   "metadata": {},
   "outputs": [
    {
     "data": {
      "text/html": [
       "<span style=\"font-size:20px;\"><a class=\"ProveItLink\" href=\"../__pv_it/d7b49726ddf33a84a9759568472e4f11ea860b6f0/expr.ipynb\"><img src=\"../__pv_it/d7b49726ddf33a84a9759568472e4f11ea860b6f0/expr.png\" style=\"display:inline;vertical-align:middle;\" /></a> &#x22A2;&nbsp;<a class=\"ProveItLink\" href=\"../__pv_it/1ceb86931a3d48f58a372b14119847d9d198629e0/expr.ipynb\"><img src=\"../__pv_it/1ceb86931a3d48f58a372b14119847d9d198629e0/expr.png\" style=\"display:inline;vertical-align:middle;\" /></a></span>"
      ],
      "text/plain": [
       "{forall_{x in A} (x in B)} |- A subseteq B"
      ]
     },
     "execution_count": 4,
     "metadata": {},
     "output_type": "execute_result"
    }
   ],
   "source": [
    "definitionSpecialized.deriveLeftViaEquivalence([definitionSpecialized.rhs])"
   ]
  },
  {
   "cell_type": "code",
   "execution_count": 5,
   "metadata": {},
   "outputs": [
    {
     "data": {
      "text/html": [
       "<table><tr><th>&nbsp;</th><th>step type</th><th>requirements</th><th>statement</th></tr>\n",
       "<tr><td>0</td><td>generalizaton</td><td>1</td><td><span style=\"font-size:20px;\"> &#x22A2;&nbsp;<a class=\"ProveItLink\" href=\"../__pv_it/1b221ee8f010aecab914fad97f4a0f75795c964f0/expr.ipynb\"><img src=\"../__pv_it/1b221ee8f010aecab914fad97f4a0f75795c964f0/expr.png\" style=\"display:inline;vertical-align:middle;\" /></a></span></td></tr>\n",
       "<tr><td>1</td><td>hypothetical reasoning</td><td>2</td><td><span style=\"font-size:20px;\"> &#x22A2;&nbsp;<a class=\"ProveItLink\" href=\"../__pv_it/dcbede567d6853f410cbc9ef99235b2b4f28cdcf0/expr.ipynb\"><img src=\"../__pv_it/dcbede567d6853f410cbc9ef99235b2b4f28cdcf0/expr.png\" style=\"display:inline;vertical-align:middle;\" /></a></span></td></tr>\n",
       "<tr><td>2</td><td>specialization</td><td>3, 4, 5</td><td><span style=\"font-size:20px;\"><a class=\"ProveItLink\" href=\"../__pv_it/d7b49726ddf33a84a9759568472e4f11ea860b6f0/expr.ipynb\"><img src=\"../__pv_it/d7b49726ddf33a84a9759568472e4f11ea860b6f0/expr.png\" style=\"display:inline;vertical-align:middle;\" /></a> &#x22A2;&nbsp;<a class=\"ProveItLink\" href=\"../__pv_it/1ceb86931a3d48f58a372b14119847d9d198629e0/expr.ipynb\"><img src=\"../__pv_it/1ceb86931a3d48f58a372b14119847d9d198629e0/expr.png\" style=\"display:inline;vertical-align:middle;\" /></a></span></td></tr>\n",
       "<tr><td>&nbsp;</td><td colspan=4 style=\"text-align:left\"><span style=\"font-size:20px;\"><a class=\"ProveItLink\" href=\"../../../../__pv_it/6369c6c8083c513ca7161ace249642d040f9327d0/expr.ipynb\"><img src=\"../../../../__pv_it/6369c6c8083c513ca7161ace249642d040f9327d0/expr.png\" style=\"display:inline;vertical-align:middle;\" /></a> : <a class=\"ProveItLink\" href=\"../__pv_it/1ceb86931a3d48f58a372b14119847d9d198629e0/expr.ipynb\"><img src=\"../__pv_it/1ceb86931a3d48f58a372b14119847d9d198629e0/expr.png\" style=\"display:inline;vertical-align:middle;\" /></a>, <a class=\"ProveItLink\" href=\"../../../../__pv_it/98124f92e6e1fc3772af50ac63eaa1f5624776f20/expr.ipynb\"><img src=\"../../../../__pv_it/98124f92e6e1fc3772af50ac63eaa1f5624776f20/expr.png\" style=\"display:inline;vertical-align:middle;\" /></a> : <a class=\"ProveItLink\" href=\"../__pv_it/dfb1c9a5ad76a7155fae3c0ee471e628d6ec664a0/expr.ipynb\"><img src=\"../__pv_it/dfb1c9a5ad76a7155fae3c0ee471e628d6ec664a0/expr.png\" style=\"display:inline;vertical-align:middle;\" /></a></span></td></tr><tr><td>3</td><td>theorem</td><td></td><td><span style=\"font-size:20px;\"> &#x22A2;&nbsp;<a class=\"ProveItLink\" href=\"../../../equality/__pv_it/20e88ce75ad82ac426b1e24a0c22cab3a686b0da0/expr.ipynb\"><img src=\"../../../equality/__pv_it/20e88ce75ad82ac426b1e24a0c22cab3a686b0da0/expr.png\" style=\"display:inline;vertical-align:middle;\" /></a></span></td></tr>\n",
       "<tr><td>&nbsp;</td><td colspan=4 style-\"text-align:left\"><a class=\"ProveItLink\" href=\"../../../equality/_proofs_/lhsViaEquivalence.ipynb\">proveit.logic.equality.lhsViaEquivalence</a></td></tr><tr><td>4</td><td>assumption</td><td></td><td><span style=\"font-size:20px;\"><a class=\"ProveItLink\" href=\"../__pv_it/d7b49726ddf33a84a9759568472e4f11ea860b6f0/expr.ipynb\"><img src=\"../__pv_it/d7b49726ddf33a84a9759568472e4f11ea860b6f0/expr.png\" style=\"display:inline;vertical-align:middle;\" /></a> &#x22A2;&nbsp;<a class=\"ProveItLink\" href=\"../__pv_it/dfb1c9a5ad76a7155fae3c0ee471e628d6ec664a0/expr.ipynb\"><img src=\"../__pv_it/dfb1c9a5ad76a7155fae3c0ee471e628d6ec664a0/expr.png\" style=\"display:inline;vertical-align:middle;\" /></a></span></td></tr>\n",
       "<tr><td>5</td><td>specialization</td><td>6</td><td><span style=\"font-size:20px;\"> &#x22A2;&nbsp;<a class=\"ProveItLink\" href=\"../__pv_it/cc7aa1a886af88dc46a7712c6f379aeca37ce0e80/expr.ipynb\"><img src=\"../__pv_it/cc7aa1a886af88dc46a7712c6f379aeca37ce0e80/expr.png\" style=\"display:inline;vertical-align:middle;\" /></a></span></td></tr>\n",
       "<tr><td>&nbsp;</td><td colspan=4 style=\"text-align:left\"><span style=\"font-size:20px;\"><a class=\"ProveItLink\" href=\"../../../../__pv_it/2cbe72a7ad6f655694dd697106680215e8489b600/expr.ipynb\"><img src=\"../../../../__pv_it/2cbe72a7ad6f655694dd697106680215e8489b600/expr.png\" style=\"display:inline;vertical-align:middle;\" /></a> : <a class=\"ProveItLink\" href=\"../../../../__pv_it/2cbe72a7ad6f655694dd697106680215e8489b600/expr.ipynb\"><img src=\"../../../../__pv_it/2cbe72a7ad6f655694dd697106680215e8489b600/expr.png\" style=\"display:inline;vertical-align:middle;\" /></a>, <a class=\"ProveItLink\" href=\"../../../../__pv_it/077b2ff79244fb4582cbe22c6e3356fa92a52f2f0/expr.ipynb\"><img src=\"../../../../__pv_it/077b2ff79244fb4582cbe22c6e3356fa92a52f2f0/expr.png\" style=\"display:inline;vertical-align:middle;\" /></a> : <a class=\"ProveItLink\" href=\"../../../../__pv_it/077b2ff79244fb4582cbe22c6e3356fa92a52f2f0/expr.ipynb\"><img src=\"../../../../__pv_it/077b2ff79244fb4582cbe22c6e3356fa92a52f2f0/expr.png\" style=\"display:inline;vertical-align:middle;\" /></a></span></td></tr><tr><td>6</td><td>axiom</td><td></td><td><span style=\"font-size:20px;\"> &#x22A2;&nbsp;<a class=\"ProveItLink\" href=\"../__pv_it/0892e071e1faecd5664a9756397a57a18abf432d0/expr.ipynb\"><img src=\"../__pv_it/0892e071e1faecd5664a9756397a57a18abf432d0/expr.png\" style=\"display:inline;vertical-align:middle;\" /></a></span></td></tr>\n",
       "<tr><td>&nbsp;</td><td colspan=4 style-\"text-align:left\"><a class=\"ProveItLink\" href=\"../_axioms_.ipynb#subsetEqDef\">proveit.logic.set_theory.containment.subsetEqDef</a></td></tr></table>"
      ],
      "text/plain": [
       "\tstep type\trequirements\tstatement\n",
       "0\tgeneralizaton\t1\t|- forall_{A, B} ([forall_{x in A} (x in B)] => (A subseteq B))\n",
       "1\thypothetical reasoning\t2\t|- [forall_{x in A} (x in B)] => (A subseteq B)\n",
       "2\tspecialization\t3, 4, 5\t{forall_{x in A} (x in B)} |- A subseteq B\n",
       "\tP : A subseteq B, Q : forall_{x in A} (x in B)\n",
       "3\ttheorem\t\t|- forall_{P, Q | Q , P = Q} P\n",
       "\tproveit.logic.equality.lhsViaEquivalence\n",
       "4\tassumption\t\t{forall_{x in A} (x in B)} |- forall_{x in A} (x in B)\n",
       "5\tspecialization\t6\t|- (A subseteq B) = [forall_{x in A} (x in B)]\n",
       "\tA : A, B : B\n",
       "6\taxiom\t\t|- forall_{A, B} ((A subseteq B) = [forall_{x in A} (x in B)])\n",
       "\tproveit.logic.set_theory.containment.subsetEqDef"
      ]
     },
     "execution_count": 5,
     "metadata": {},
     "output_type": "execute_result"
    }
   ],
   "source": [
    "%qed"
   ]
  },
  {
   "cell_type": "code",
   "execution_count": null,
   "metadata": {},
   "outputs": [],
   "source": []
  }
 ],
 "metadata": {
  "kernelspec": {
   "display_name": "Python 3",
   "language": "python",
   "name": "python3"
  },
  "language_info": {
   "codemirror_mode": {
    "name": "ipython",
    "version": 3
   },
   "file_extension": ".py",
   "mimetype": "text/x-python",
   "name": "python",
   "nbconvert_exporter": "python",
   "pygments_lexer": "ipython3",
   "version": "3.7.1"
  }
 },
 "nbformat": 4,
 "nbformat_minor": 1
}
