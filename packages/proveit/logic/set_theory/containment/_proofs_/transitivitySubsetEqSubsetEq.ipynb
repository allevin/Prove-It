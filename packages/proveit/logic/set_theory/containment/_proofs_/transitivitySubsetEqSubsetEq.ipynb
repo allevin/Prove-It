{
 "cells": [
  {
   "cell_type": "markdown",
   "metadata": {},
   "source": [
    "Proof of <a class=\"ProveItLink\" href=\"../../../../_context_.ipynb\">proveit</a>.<a class=\"ProveItLink\" href=\"../../../_context_.ipynb\">logic</a>.<a class=\"ProveItLink\" href=\"../../_context_.ipynb\">set_theory</a>.<a class=\"ProveItLink\" href=\"../_context_.ipynb\">containment</a>.<a href=\"../_theorems_.ipynb#transitivitySubsetEqSubsetEq\" class=\"ProveItLink\">transitivitySubsetEqSubsetEq</a> theorem\n",
    "========"
   ]
  },
  {
   "cell_type": "code",
   "execution_count": 1,
   "metadata": {},
   "outputs": [],
   "source": [
    "import sys\n",
    "sys.path.append('..') # allows access to modules in parent context\n",
    "import proveit"
   ]
  },
  {
   "cell_type": "code",
   "execution_count": 2,
   "metadata": {},
   "outputs": [
    {
     "name": "stdout",
     "output_type": "stream",
     "text": [
      "Beginning proof of transitivitySubsetEqSubsetEq\n",
      "Recorded 'presuming' information\n",
      "Presuming previous theorems (applied transitively).\n"
     ]
    },
    {
     "data": {
      "text/html": [
       "<strong id=\"transitivitySubsetEqSubsetEq\">transitivitySubsetEqSubsetEq:</strong> <a class=\"ProveItLink\" href=\"../__pv_it/8cc4e87247c3c5949817b90911aaf301cb03e3e50/expr.ipynb\"><img src=\"data:image/png;base64,iVBORw0KGgoAAAANSUhEUgAAAPcAAAAXBAMAAAAl5sTiAAAAMFBMVEX///8QEBC6urrMzMxUVFRm\n",
       "ZmZERETc3NwyMjKqqqp2dnaIiIiYmJgiIiLu7u4AAAAU9Wx4AAAAAXRSTlMAQObYZgAAA4hJREFU\n",
       "SMfFVk1IVFEU/pzxzXNmnk93/SysoNoUNQvBhYRSKa1yohkDKVKi5ybsLVKLCCcopEU5m1q1MFpk\n",
       "BWYU/SDUKyLKqEywoJoaKSOQfki0TNPuPfe+n6ZyWoz04N177j1n7nfOd88584D/+aTn6uAVWfS3\n",
       "2dvPhQe5x/ZXiqn/d5V+pWqrGlUiwFm+PJZ78AJBacFnub6WSqUGhHjKgm+ThQTQwlZqfe7Be8X0\n",
       "cFrMa244mvev2HDBRJ/wUEnmHryERvX4VzE/czUHOSdLgCFAO9PaeiD32L4ETeHwF5rzFzsaZYKP\n",
       "zUCAhTxuGM9zD6500rQqOCWodjVt5NYbIBQF1gGNtNtO44mxeHVEeF1VN2LyIJwcMm0puDse25Fh\n",
       "zp/L8e6r0taivF7sn6RlqQu+3bIPYV4shU6+aIIgrRjhYiqSl0ADFwL2zx4z7poNw2B3dgu46DFX\n",
       "aw2jiWWVhUCxsM0jnn1QxzLBX9sh+JhpIcLky7AgSKmEj5JkNQvohBdcZz77BEmIMb3pmi8n2TfK\n",
       "wpGFU0TgpevXj9Oy0AWfsXubn1Vh2CqkkuweFGY9UHhj0BeyodwLHvoQxTspvwC2uea6QBxi9+zv\n",
       "8YKzYb4Iya2nRUR5RIDrCeLE32OQ7lME93gcId4dPnrBywP1uC5JGIXW7pqHxdEXuEa26zy+FWTv\n",
       "E/GDAQe8hlsoknY0rqVikKGs7r3cRCE5jccGr2SMbJTXNdlbnXbN84X81JPtAX6V+9jbITvLZltT\n",
       "wbnp5unCU+04td/7uEm6LpZN/KyizgxwLRn+jC3yBhLQSlxzReTQdw84ryNK5N2SiqVHZXvVWJ0v\n",
       "M6UJ8rgr+mBcmO1kVHLK8hi43uMB/xCvncZJ6U8UOvUKYR4U1cOzZMRO5X6oDd9M3J05nNkCSg/F\n",
       "6ZoKeFpodAkmKqheJ0SeQ2G0h9Ie8C3wj9qlXpSk1HbMxf3XSj7pmZe1Dw050kp2oqW2Q52GytJ+\n",
       "r6kvAE57aPex6Kag7iJ/2tI4EIVr3vKITksi5DScvqzg523h7TjUmpf+KXSNxTcwUiosDFedS7vg\n",
       "ek099vywoFWzJhPqiMeOsAJxzHGHNxk9Vted+Zdqd9tUyv1LlRWTyHBGcyTLk7h/9V2bJS61Mkvg\n",
       "+WbGRpnzHWL+C3jZbIfvzwJ+KXPD+lNMXvAWQ/T2X81Vvts0J1+C+XP28foTqQ76FqsjuQQAAAAA\n",
       "SUVORK5CYII=\n",
       "\" style=\"display:inline;vertical-align:middle;\" /></a><br>(see <a class=\"ProveItLink\" href=\"../__pv_it/8cc4e87247c3c5949817b90911aaf301cb03e3e50/dependencies.ipynb\">dependencies</a>)<br>"
      ],
      "text/plain": [
       "transitivitySubsetEqSubsetEq: forall_{A, B, C | A subseteq B , B subseteq C} (A subseteq C)"
      ]
     },
     "execution_count": 2,
     "metadata": {},
     "output_type": "execute_result"
    }
   ],
   "source": [
    "%proving transitivitySubsetEqSubsetEq presuming []"
   ]
  },
  {
   "cell_type": "code",
   "execution_count": null,
   "metadata": {},
   "outputs": [],
   "source": []
  }
 ],
 "metadata": {
  "kernelspec": {
   "display_name": "Python 3",
   "language": "python",
   "name": "python3"
  }
 },
 "nbformat": 4,
 "nbformat_minor": 0
}
