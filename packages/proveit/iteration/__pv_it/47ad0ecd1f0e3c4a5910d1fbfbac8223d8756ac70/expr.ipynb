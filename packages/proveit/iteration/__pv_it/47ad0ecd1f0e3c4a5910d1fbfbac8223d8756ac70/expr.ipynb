{
 "cells": [
  {
   "cell_type": "markdown",
   "metadata": {},
   "source": [
    "Expression of type <a class=\"ProveItLink\" href=\"../../../../../doc/html/api/proveit.logic.Equals.html\">Equals</a>\n",
    "=======================\n",
    "# from context <a class=\"ProveItLink\" href=\"../../_context_.ipynb\">proveit.iteration</a>"
   ]
  },
  {
   "cell_type": "code",
   "execution_count": 1,
   "metadata": {},
   "outputs": [],
   "source": [
    "# import Expression classes needed to build the expression\n",
    "from proveit.logic import Equals\n",
    "from proveit.number import Add, one, three"
   ]
  },
  {
   "cell_type": "code",
   "execution_count": 2,
   "metadata": {},
   "outputs": [
    {
     "data": {
      "text/html": [
       "<strong id=\"expr\">expr:</strong> <a class=\"ProveItLink\" href=\"expr.ipynb\"><img src=\"data:image/png;base64,iVBORw0KGgoAAAANSUhEUgAAAJMAAAAVBAMAAACwIsHjAAAAMFBMVEX////c3NwiIiJERESqqqqY\n",
       "mJh2dnZmZmYQEBDu7u4yMjJUVFTMzMyIiIi6uroAAAAs73DqAAAAAXRSTlMAQObYZgAAAatJREFU\n",
       "OMutlD1MwkAUgB/yU6r8bQ46GCc3HWRwopsTkcnRkJhAYmJkEQyTAzPUuJg4yCAxlIWdQSYWFxYT\n",
       "BxOJo4lBjZpAInr3SkN7fa2YeEPb9953X++u1wP4xxbpOhR2/gzfAHQy62JpA0Bq23swGLyqNRfK\n",
       "7Co6XAdPDvrC204H7FK1q+oAckJQzUPkC+FwFwLvEF3S0yf67bzFVds2E4Pl1rWhGsMHCrwhHFTB\n",
       "N1EljT5cdWZTBbnlwVCN4S1UMfgJQ2OCFpVXEVUIiyrACTI4j0EDCFUgJ6rytGq2iXCNf4O9JqXy\n",
       "4bpLGjYkaqSq09DhMkZ3PUIVORZHVaZHFS4jPNLXc0CoQi+iakSroKJymFU9bfB+sERR01Y0rTGd\n",
       "agIvAiRSHC4BXAx0FT1BaRnbGn8uEaOSv1WuYnAcIFqFmVdC5bdt9zg1wSHAaozDWdYvBf30VJsh\n",
       "S6luIfKJ8CMLNguX1qp0NDxk26UnqjhcqFylLLCvUFQQDsbMbNIcED+OK+xPmxPP5mDfpvoFrjud\n",
       "iTJ9yLjAC07VuZg95w57nM7YeyLnBv8AKpWSPiFSw5oAAAAASUVORK5CYII=\n",
       "\" style=\"display:inline;vertical-align:middle;\" /></a><br>"
      ],
      "text/plain": [
       "expr: (3 + 1) = (1 + 3)"
      ]
     },
     "execution_count": 2,
     "metadata": {},
     "output_type": "execute_result"
    }
   ],
   "source": [
    "# build up the expression from sub-expressions\n",
    "expr = Equals(Add(three, one), Add(one, three))"
   ]
  },
  {
   "cell_type": "code",
   "execution_count": 3,
   "metadata": {},
   "outputs": [
    {
     "name": "stdout",
     "output_type": "stream",
     "text": [
      "Passed sanity check: built 'expr' is the same as the stored Expression.\n"
     ]
    }
   ],
   "source": [
    "# check that the built expression is the same as the stored expression\n",
    "%check_expr"
   ]
  },
  {
   "cell_type": "code",
   "execution_count": 4,
   "metadata": {},
   "outputs": [
    {
     "data": {
      "text/html": [
       "<table><tr><th>&nbsp;</th><th>core type</th><th>sub-expressions</th><th>expression</th></tr>\n",
       "<tr><td>0</td><td>Operation</td><td>operator:&nbsp;1<br>operands:&nbsp;2<br></td><td><a class=\"ProveItLink\" href=\"expr.ipynb\"><img src=\"data:image/png;base64,iVBORw0KGgoAAAANSUhEUgAAAJMAAAAVBAMAAACwIsHjAAAAMFBMVEX////c3NwiIiJERESqqqqY\n",
       "mJh2dnZmZmYQEBDu7u4yMjJUVFTMzMyIiIi6uroAAAAs73DqAAAAAXRSTlMAQObYZgAAAatJREFU\n",
       "OMutlD1MwkAUgB/yU6r8bQ46GCc3HWRwopsTkcnRkJhAYmJkEQyTAzPUuJg4yCAxlIWdQSYWFxYT\n",
       "BxOJo4lBjZpAInr3SkN7fa2YeEPb9953X++u1wP4xxbpOhR2/gzfAHQy62JpA0Bq23swGLyqNRfK\n",
       "7Co6XAdPDvrC204H7FK1q+oAckJQzUPkC+FwFwLvEF3S0yf67bzFVds2E4Pl1rWhGsMHCrwhHFTB\n",
       "N1EljT5cdWZTBbnlwVCN4S1UMfgJQ2OCFpVXEVUIiyrACTI4j0EDCFUgJ6rytGq2iXCNf4O9JqXy\n",
       "4bpLGjYkaqSq09DhMkZ3PUIVORZHVaZHFS4jPNLXc0CoQi+iakSroKJymFU9bfB+sERR01Y0rTGd\n",
       "agIvAiRSHC4BXAx0FT1BaRnbGn8uEaOSv1WuYnAcIFqFmVdC5bdt9zg1wSHAaozDWdYvBf30VJsh\n",
       "S6luIfKJ8CMLNguX1qp0NDxk26UnqjhcqFylLLCvUFQQDsbMbNIcED+OK+xPmxPP5mDfpvoFrjud\n",
       "iTJ9yLjAC07VuZg95w57nM7YeyLnBv8AKpWSPiFSw5oAAAAASUVORK5CYII=\n",
       "\" style=\"display:inline;vertical-align:middle;\" /></a></td></tr>\n",
       "<tr><td>1</td><td>Literal</td><td></td><td><a class=\"ProveItLink\" href=\"../../../logic/equality/__pv_it/2fb26078095930560931daa0500ce419a39ea6cd0/expr.ipynb\"><img src=\"data:image/png;base64,iVBORw0KGgoAAAANSUhEUgAAAA4AAAAFBAMAAACHocAhAAAAFVBMVEX///9EREQiIiJUVFQyMjJm\n",
       "ZmYAAADubVkoAAAAAXRSTlMAQObYZgAAABRJREFUCNdjCHEBAWcGXCBICQQUAUpuAwlgGKrkAAAA\n",
       "AElFTkSuQmCC\n",
       "\" style=\"display:inline;vertical-align:middle;\" /></a></td></tr>\n",
       "<tr><td>2</td><td>ExprTuple</td><td>3, 4</td><td><a class=\"ProveItLink\" href=\"../d278c529e0891099016e6643ceabe86876f96f530/expr.ipynb\"><img src=\"data:image/png;base64,iVBORw0KGgoAAAANSUhEUgAAAHEAAAAVBAMAAACDNRyvAAAAMFBMVEX////c3NwiIiJERESqqqqY\n",
       "mJh2dnZmZmYQEBDu7u4yMjJUVFTMzMyIiIi6uroAAAAs73DqAAAAAXRSTlMAQObYZgAAAX5JREFU\n",
       "OMudlD9Iw0AUxr+apG20Tbs56ODo5qKDU7M5FTs5SkGoIIhdNNLJwcnBRlwEB4Mo4nXp3sFOXVy6\n",
       "CA6CxVGQalGhBf/cXXrYxKQ0uSG59x6/vHd57zsg/NKaIaBV9rgFGoV5d0gyxW7RFUkU1nTE6nR3\n",
       "jUgRbVdiNSPI466LnIT2BVhAsonoO1IztvuoD9Zu+uRpTZBq2n5v6egAK0DchPxHZsWXH0XOpCDl\n",
       "flnLnDwBnrkpqh2BBK9W0rHDjQoCkONVIFrEJftdG9UAZIOlkS0ccuu+FSBnkjLaHr65Ee8GIFE2\n",
       "kXhlZKQO6YM6SoTMElLxImOEnB8Qwg41DWRyjNwHzro2OVJO9cdkJK12AUhZGHvzIE3PanvAXBqK\n",
       "hXUazKGd/0+qHU/yDton78oTNZaMC1dXjPJVTi3TeYvt9radpGyUdNrTFuLpwXHOOvTnCMkOUdDp\n",
       "U/KDjpdBQxmi402uMr+l+CtbpSrDlG94yGUxwQ4SCXObPAC/hH59V4rZ7JYAAAAASUVORK5CYII=\n",
       "\" style=\"display:inline;vertical-align:middle;\" /></a></td></tr>\n",
       "<tr><td>3</td><td>Operation</td><td>operator:&nbsp;6<br>operands:&nbsp;5<br></td><td><a class=\"ProveItLink\" href=\"../76bb06a9fa851302be805e86e0b3a2cf68bca2620/expr.ipynb\"><img src=\"data:image/png;base64,iVBORw0KGgoAAAANSUhEUgAAACwAAAAQBAMAAACfEoDkAAAAMFBMVEX///+YmJju7u4QEBBUVFQy\n",
       "MjIiIiKIiIi6urpmZmbc3NyqqqpERER2dnbMzMwAAAB0GlNiAAAAAXRSTlMAQObYZgAAAIRJREFU\n",
       "GNNjYHh79zQDGjjEwMA1gaG/AFVU5xMDA+9vBv4ECFcLQqm4AIW5EcLboarZP4EpmCFowiEMWIT5\n",
       "rjowYFVd3IBVmPkTpjDXAwaej0D21NDQ5NDQEJiw/ieIMJpq/gAGtl+YwuwCDP0XsFi5c2Y0qgM5\n",
       "J3+diBxE2xmwgnYEEwC7Ti5ENdECMgAAAABJRU5ErkJggg==\n",
       "\" style=\"display:inline;vertical-align:middle;\" /></a></td></tr>\n",
       "<tr><td>4</td><td>Operation</td><td>operator:&nbsp;6<br>operands:&nbsp;7<br></td><td><a class=\"ProveItLink\" href=\"../5bc72ea9d7c58094cf5366357e18a1279b8f3a020/expr.ipynb\"><img src=\"data:image/png;base64,iVBORw0KGgoAAAANSUhEUgAAACwAAAAQBAMAAACfEoDkAAAAMFBMVEX///92dnbMzMy6uroiIiKq\n",
       "qqrc3NyYmJgyMjIQEBBmZmaIiIhUVFTu7u5EREQAAADaqMZ6AAAAAXRSTlMAQObYZgAAAINJREFU\n",
       "GNNjYGB4y4AKFAWfAsl7f1FF2RYw2G9guHMGJsybAKYYvzLwOzAwcMOEWTdAKOzCQAA0BJtwDwMW\n",
       "YSaJAwxYVe80wCrM+RcmzNXR0TKjowOonU2Bge87pur7f7EK8zcwsHzDFOYuYLAXYOBa+WM5qpVR\n",
       "q1qRwwjhEhTAjCQMACDQMGMEWAixAAAAAElFTkSuQmCC\n",
       "\" style=\"display:inline;vertical-align:middle;\" /></a></td></tr>\n",
       "<tr><td>5</td><td>ExprTuple</td><td>9, 8</td><td><a class=\"ProveItLink\" href=\"../2762c488bdde45da450123d7901ebe0ce5f802080/expr.ipynb\"><img src=\"data:image/png;base64,iVBORw0KGgoAAAANSUhEUgAAACkAAAAVBAMAAAAp9toTAAAAMFBMVEX////c3NwiIiJERESqqqqY\n",
       "mJh2dnZmZmYQEBDu7u4yMjJUVFTMzMyIiIi6uroAAAAs73DqAAAAAXRSTlMAQObYZgAAAOpJREFU\n",
       "GNNjYMAO+C6gCcSBiNMMDMfSTGBClgwM7AeA9EoGxgKG91ANk38CiQUMDLwXGNi+MPArgAVn7waJ\n",
       "hjEwcExgYIGLMvCCRGcwMLwC82AmgEWZHRjKwLzVDEiibAUMS4EUT9YGZFGWBQx9YN6NB0iifA0M\n",
       "/8A8jp9IojwfQKKMBxiYv6KKtjAwzP+JKgo0wZSBgX8BA9NHhglwUdYFDOlAZgDD+wTOT8guewSk\n",
       "3MuXMHD2CwADpuJXKQMD1wMGDgFYiMIYIB+zJkDZrPAAzgWHJJooJzAkGaShHHiUcIOMYkSPoTsM\n",
       "DAAlWkDE/c04eAAAAABJRU5ErkJggg==\n",
       "\" style=\"display:inline;vertical-align:middle;\" /></a></td></tr>\n",
       "<tr><td>6</td><td>Literal</td><td></td><td><a class=\"ProveItLink\" href=\"../../../number/addition/__pv_it/3e6688136fa3c7aefbebe51301b7c3ebf0b69c440/expr.ipynb\"><img src=\"data:image/png;base64,iVBORw0KGgoAAAANSUhEUgAAAA4AAAAOBAMAAADtZjDiAAAAJFBMVEX///+6urpUVFQQEBAiIiIy\n",
       "MjJmZmaIiIiqqqrc3Nzu7u4AAACgHpL+AAAAAXRSTlMAQObYZgAAAB5JREFUCNdjYGBgWMkAAe2k\n",
       "0Kmhoc6hoUGk6BMHYgAHOwjcado9fwAAAABJRU5ErkJggg==\n",
       "\" style=\"display:inline;vertical-align:middle;\" /></a></td></tr>\n",
       "<tr><td>7</td><td>ExprTuple</td><td>8, 9</td><td><a class=\"ProveItLink\" href=\"../4a1e1fc4940fe3d4dea2df2e48254cb5d80bc01c0/expr.ipynb\"><img src=\"data:image/png;base64,iVBORw0KGgoAAAANSUhEUgAAACkAAAAVBAMAAAAp9toTAAAAMFBMVEX////c3NwiIiJERESqqqqY\n",
       "mJh2dnZmZmYQEBDu7u4yMjJUVFTMzMyIiIi6uroAAAAs73DqAAAAAXRSTlMAQObYZgAAAOpJREFU\n",
       "GNNjYMAO+C6gCcSBiNNAzDwBIsCTluzAwH4AyFrJwMBpDxUVZ+D7y8CwgIGB9wID5+79UNF8B4ZP\n",
       "DAxhDAwcIIH7UFF/sOgMBoZXDEiiDGATmB0YylBFuTYwMLAVMCxFET22GkiwLGDoQ1XLC+TzNTD8\n",
       "QxVl6J/AwPMBVVSGgcE+ACTagiTK+X8CSBRogilMFCTxi4FBX4CBdQFDOlSUE+h8hqsMfN/ALnsE\n",
       "5JT3Lw/g7BcAuqm8ygHo5gcMHAIwX8EYIB+zJkDZrHDH5UJCElWUExiSDNJQDjxKuEFGMaLH0B0G\n",
       "BgBc4kCXqUbjFQAAAABJRU5ErkJggg==\n",
       "\" style=\"display:inline;vertical-align:middle;\" /></a></td></tr>\n",
       "<tr><td>8</td><td>Literal</td><td></td><td><a class=\"ProveItLink\" href=\"../../../number/numeral/__pv_it/9be8badea4c35b9724062cecc501d17a3158d1d20/expr.ipynb\"><img src=\"data:image/png;base64,iVBORw0KGgoAAAANSUhEUgAAAAgAAAAPBAMAAAArJJMAAAAAHlBMVEX///+YmJgyMjIQEBBmZmaI\n",
       "iIhUVFTu7u5EREQAAAAw+MI4AAAAAXRSTlMAQObYZgAAACFJREFUCNdjYGBoZ2BgqJjOwFCWBiQY\n",
       "WEklWJwnOTKAAACjEQo8HvEr3AAAAABJRU5ErkJggg==\n",
       "\" style=\"display:inline;vertical-align:middle;\" /></a></td></tr>\n",
       "<tr><td>9</td><td>Literal</td><td></td><td><a class=\"ProveItLink\" href=\"../../../number/numeral/__pv_it/9176d93c83afa2c995b614976e3cb49207102fa70/expr.ipynb\"><img src=\"data:image/png;base64,iVBORw0KGgoAAAANSUhEUgAAAAoAAAAOBAMAAADkjZCYAAAAMFBMVEX///+YmJju7u4QEBBUVFQy\n",
       "MjIiIiKIiIi6urpmZmbc3NyqqqpERER2dnbMzMwAAAB0GlNiAAAAAXRSTlMAQObYZgAAAE1JREFU\n",
       "CNdjYHh79zQDA9cEhv4CBt7fDPwJDNxgEgiAIkAQAsR8Vx1ATIbiBhDJ/ImB6wEDz0cG/U8gkj+A\n",
       "ge0XA7sAQ/8FBoadM6MZAEflFACalZ/OAAAAAElFTkSuQmCC\n",
       "\" style=\"display:inline;vertical-align:middle;\" /></a></td></tr>\n",
       "</table>\n"
      ],
      "text/plain": [
       "0. (3 + 1) = (1 + 3)\n",
       "   core type: Operation\n",
       "   operator: 1\n",
       "   operands: 2\n",
       "1. =\n",
       "   core type: Literal\n",
       "   sub-expressions: \n",
       "2. (3 + 1 , 1 + 3)\n",
       "   core type: ExprTuple\n",
       "   sub-expressions: 3, 4\n",
       "3. 3 + 1\n",
       "   core type: Operation\n",
       "   operator: 6\n",
       "   operands: 5\n",
       "4. 1 + 3\n",
       "   core type: Operation\n",
       "   operator: 6\n",
       "   operands: 7\n",
       "5. (3 , 1)\n",
       "   core type: ExprTuple\n",
       "   sub-expressions: 9, 8\n",
       "6. +\n",
       "   core type: Literal\n",
       "   sub-expressions: \n",
       "7. (1 , 3)\n",
       "   core type: ExprTuple\n",
       "   sub-expressions: 8, 9\n",
       "8. 1\n",
       "   core type: Literal\n",
       "   sub-expressions: \n",
       "9. 3\n",
       "   core type: Literal\n",
       "   sub-expressions: "
      ]
     },
     "execution_count": 4,
     "metadata": {},
     "output_type": "execute_result"
    }
   ],
   "source": [
    "# display the expression information\n",
    "expr.exprInfo()"
   ]
  },
  {
   "cell_type": "code",
   "execution_count": null,
   "metadata": {},
   "outputs": [],
   "source": []
  }
 ],
 "metadata": {
  "kernelspec": {
   "display_name": "Python 3",
   "language": "python",
   "name": "python3"
  }
 },
 "nbformat": 4,
 "nbformat_minor": 0
}
