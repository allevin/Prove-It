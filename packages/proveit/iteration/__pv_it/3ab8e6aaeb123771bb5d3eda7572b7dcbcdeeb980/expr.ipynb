{
 "cells": [
  {
   "cell_type": "markdown",
   "metadata": {},
   "source": [
    "Expression of type <a class=\"ProveItLink\" href=\"../../../../../doc/html/api/proveit.ExprTuple.html\">ExprTuple</a>\n",
    "=======================\n",
    "# from context <a class=\"ProveItLink\" href=\"../../_context_.ipynb\">proveit.iteration</a>"
   ]
  },
  {
   "cell_type": "code",
   "execution_count": 1,
   "metadata": {},
   "outputs": [],
   "source": [
    "# import Expression classes needed to build the expression\n",
    "from proveit import ExprTuple\n",
    "from proveit._common_ import m\n",
    "from proveit.number import Add, four, one"
   ]
  },
  {
   "cell_type": "code",
   "execution_count": 2,
   "metadata": {},
   "outputs": [
    {
     "data": {
      "text/html": [
       "<strong id=\"expr\">expr:</strong> <a class=\"ProveItLink\" href=\"expr.ipynb\"><img src=\"data:image/png;base64,iVBORw0KGgoAAAANSUhEUgAAANkAAAAVBAMAAAA5ulaKAAAAMFBMVEX////c3NwiIiJERESqqqqY\n",
       "mJh2dnZmZmYQEBDu7u4yMjJUVFTMzMyIiIi6uroAAAAs73DqAAAAAXRSTlMAQObYZgAAAlNJREFU\n",
       "SMe9lk9oE0EYxV+a3ezOplnXQ09SLPSgxwh68GTuVRovPXjQBQ8eRCmCf+hJqQhasBGhCCJZFJGu\n",
       "FHLy0KUkdy8LvQg2uHgSIRo9qBWMzsxuqDOZSQ0UB95k9pvd99v5ZmcmwP8tbrx3Xh1dx9lMeK1/\n",
       "eKArXxsKG2/0K6EcB6xWKqzqn56WrsmJ4TSHdY+VpejDbVoFqUoDiXzQb5QWxQiJmkoa8bJGm1Vv\n",
       "ymL0ccRoc6nsAYNT/cbEMznyTkkz+i98lyp3pixFS4z2KNVHaGn+iDSXpavgKGn5Ctc1etfm/vYr\n",
       "t31U8jY9La1zZPKt39msiL6WT6vTalphnus5rYtrqF/GrOT9BFqavx6Tb4nRFX2dKp2tWE0zAq77\n",
       "wCf6GdXjAZqvpbnJNMgvyDQ7oW8ONc29ydUDavUEszUsiN5GS0sjpAdjG1Yg+u6jtJMa2niXi9IY\n",
       "6gpwh3UthOHhMHxJWytIaTuRnUwy1BRsNk9WGD69F4aNlEb8lPZXVKDdZobAIbhfiDCSmSj6saGZ\n",
       "NzqqsXl89mpiJiswoqi5FOszeQxsVDQ1xWBC8saiKpOMQEdFs7+eqwq+eX5pKzNpBlwX6ILswezC\n",
       "if1/oZGv9PdggnPAWkH0ZV+5jpatgPd8hIUyjI2W5H3x91Uxcn35RZUs0x3pA3Ce5npLWt1TzLb5\n",
       "XRyxdeMntXESLtvT7iXqiOtpd65byigv2c5l+rsfUkLE1J+Qc/pz81Km1RFPTHOXE0dZSJAKB0ak\n",
       "DTnqcw1dT9FLhdwe/lOY1HVspfoDeBvSQ2CRNKMAAAAASUVORK5CYII=\n",
       "\" style=\"display:inline;vertical-align:middle;\" /></a><br>"
      ],
      "text/plain": [
       "expr: (m + 4 + 1 , m + (4 + 1))"
      ]
     },
     "execution_count": 2,
     "metadata": {},
     "output_type": "execute_result"
    }
   ],
   "source": [
    "# build up the expression from sub-expressions\n",
    "expr = ExprTuple(Add(m, four, one), Add(m, Add(four, one)))"
   ]
  },
  {
   "cell_type": "code",
   "execution_count": 3,
   "metadata": {},
   "outputs": [
    {
     "name": "stdout",
     "output_type": "stream",
     "text": [
      "Passed sanity check: built 'expr' is the same as the stored Expression.\n"
     ]
    }
   ],
   "source": [
    "# check that the built expression is the same as the stored expression\n",
    "%check_expr"
   ]
  },
  {
   "cell_type": "code",
   "execution_count": 4,
   "metadata": {},
   "outputs": [
    {
     "data": {
      "text/html": [
       "<table><tr><th>&nbsp;</th><th>core type</th><th>sub-expressions</th><th>expression</th></tr>\n",
       "<tr><td>0</td><td>ExprTuple</td><td>1, 2</td><td><a class=\"ProveItLink\" href=\"expr.ipynb\"><img src=\"data:image/png;base64,iVBORw0KGgoAAAANSUhEUgAAANkAAAAVBAMAAAA5ulaKAAAAMFBMVEX////c3NwiIiJERESqqqqY\n",
       "mJh2dnZmZmYQEBDu7u4yMjJUVFTMzMyIiIi6uroAAAAs73DqAAAAAXRSTlMAQObYZgAAAlNJREFU\n",
       "SMe9lk9oE0EYxV+a3ezOplnXQ09SLPSgxwh68GTuVRovPXjQBQ8eRCmCf+hJqQhasBGhCCJZFJGu\n",
       "FHLy0KUkdy8LvQg2uHgSIRo9qBWMzsxuqDOZSQ0UB95k9pvd99v5ZmcmwP8tbrx3Xh1dx9lMeK1/\n",
       "eKArXxsKG2/0K6EcB6xWKqzqn56WrsmJ4TSHdY+VpejDbVoFqUoDiXzQb5QWxQiJmkoa8bJGm1Vv\n",
       "ymL0ccRoc6nsAYNT/cbEMznyTkkz+i98lyp3pixFS4z2KNVHaGn+iDSXpavgKGn5Ctc1etfm/vYr\n",
       "t31U8jY9La1zZPKt39msiL6WT6vTalphnus5rYtrqF/GrOT9BFqavx6Tb4nRFX2dKp2tWE0zAq77\n",
       "wCf6GdXjAZqvpbnJNMgvyDQ7oW8ONc29ydUDavUEszUsiN5GS0sjpAdjG1Yg+u6jtJMa2niXi9IY\n",
       "6gpwh3UthOHhMHxJWytIaTuRnUwy1BRsNk9WGD69F4aNlEb8lPZXVKDdZobAIbhfiDCSmSj6saGZ\n",
       "NzqqsXl89mpiJiswoqi5FOszeQxsVDQ1xWBC8saiKpOMQEdFs7+eqwq+eX5pKzNpBlwX6ILswezC\n",
       "if1/oZGv9PdggnPAWkH0ZV+5jpatgPd8hIUyjI2W5H3x91Uxcn35RZUs0x3pA3Ce5npLWt1TzLb5\n",
       "XRyxdeMntXESLtvT7iXqiOtpd65byigv2c5l+rsfUkLE1J+Qc/pz81Km1RFPTHOXE0dZSJAKB0ak\n",
       "DTnqcw1dT9FLhdwe/lOY1HVspfoDeBvSQ2CRNKMAAAAASUVORK5CYII=\n",
       "\" style=\"display:inline;vertical-align:middle;\" /></a></td></tr>\n",
       "<tr><td>1</td><td>Operation</td><td>operator:&nbsp;7<br>operands:&nbsp;3<br></td><td><a class=\"ProveItLink\" href=\"../f205ca7db05acf120e3fae3f9ef73c924afbaf200/expr.ipynb\"><img src=\"data:image/png;base64,iVBORw0KGgoAAAANSUhEUgAAAFgAAAAQBAMAAABgsKUGAAAAMFBMVEX////MzMyYmJgQEBBmZmYi\n",
       "IiLu7u4yMjKqqqp2dnZUVFTc3NxERESIiIi6uroAAABe5jFNAAAAAXRSTlMAQObYZgAAAOFJREFU\n",
       "KM9jYMABGBegixxjwAlYD6AJ5HzDUJMNY1yGKmbbAKGzVmEq7oXS3OpQxRwXoCK8uBVzsmNTzHdn\n",
       "992VfHdPoCnWxqqYk6uWIX8eQz+qYrYLWBW/A3o7/wK6Yk4GrIoT8h8w9CcwuKMqbsSuGKTSlYHB\n",
       "EsR3Ly8PLi+vArpiAkQxS3l5qXl5+QK4YqCZIQx8v9mQTeZYtWq91QUsJlsysP1j4CrYhBoaDMzY\n",
       "nMH9j4HpAwP7hQnEKOYzYOA8wMCxVgAtUtZ/UUBRzOL83QlXDMIB3GQs4C26AB+SYgCUbVF0YQIU\n",
       "BgAAAABJRU5ErkJggg==\n",
       "\" style=\"display:inline;vertical-align:middle;\" /></a></td></tr>\n",
       "<tr><td>2</td><td>Operation</td><td>operator:&nbsp;7<br>operands:&nbsp;4<br></td><td><a class=\"ProveItLink\" href=\"../0148dad9a2128fc6259a57a7ca1139c88ae2a4d50/expr.ipynb\"><img src=\"data:image/png;base64,iVBORw0KGgoAAAANSUhEUgAAAGcAAAAVBAMAAACphe0AAAAAMFBMVEX////MzMyYmJgQEBBmZmYi\n",
       "IiLu7u4yMjKqqqp2dnZUVFTc3NxERESIiIi6uroAAABe5jFNAAAAAXRSTlMAQObYZgAAAVBJREFU\n",
       "OMtjYKAmeItLQg+3HsYFMAIFHGNgYBHAqYk9AUiwHkATzfkGJAowFGdD6bsg4jJUE9sGCJ21CqRJ\n",
       "E0NTL5Q2A2JudagmjgtQUV6QpmRcmvhAbuBkx6qJp4GB787uuyv57p5A1cQyAUhoY9fE6cDAyVXL\n",
       "kD+PoR9VE7sC0CcXsGviKGB4Bwyi/AvompgfAE1kwK6Jz4AhIf8BQ38CgzuqJn6gpkYcmhg/MIB0\n",
       "uDIwWILE3MvLg8vLqyCa2CZANLGUl5eal5cvQNEEtCOEge83G6rzGhg4Vq1ab3UBu/OAdrD9Y+Aq\n",
       "2ISiiUcBrBWr85gKGLj/MTB9YGC/MAFFEzBYcWoCygEt4zzAwLFWADVyA0Cy678ooGhicf7uBIyO\n",
       "B7iSkTWyINwmMEjGmY1QUiUfiqa5+LMGVsBWgFMT9wJcMlwbcGfdvbgkLjIwAAAeXmWLoMdYjwAA\n",
       "AABJRU5ErkJggg==\n",
       "\" style=\"display:inline;vertical-align:middle;\" /></a></td></tr>\n",
       "<tr><td>3</td><td>ExprTuple</td><td>5, 9, 10</td><td><a class=\"ProveItLink\" href=\"../32edc7a15a43d37a73882bcf78376cc3c91d9ee50/expr.ipynb\"><img src=\"data:image/png;base64,iVBORw0KGgoAAAANSUhEUgAAAEUAAAAVBAMAAADiLT7tAAAAMFBMVEX////c3NwiIiJERESqqqqY\n",
       "mJh2dnZmZmYQEBDu7u4yMjJUVFTMzMyIiIi6uroAAAAs73DqAAAAAXRSTlMAQObYZgAAAT1JREFU\n",
       "KM9jYCAG8F3AKx0HIk5jCPNsgLEsGRjYDwDplRhqmAygjMk/gcQCBgZeTKtuQNXM3g1SE8bAwDEB\n",
       "XQljFMwcXpCaGQwMrzCMYeNCUcPswFAG9Nllwbvb+O6aQGUCUdWwFTAsBZLcaxnm5zH4QyQ4L6Cq\n",
       "YVnA0MfA8A7okfkXYGrYGFDV8DUw/GNgmDD/AYP/BIYqiIQPmhqeDyA1IAVFDAxtEKsSMNW0ACmg\n",
       "CeoMfB85QeIsu3fv776AapcpA8gEzn8M3AtEGSBhxWHAwIlQw7qAIR0YaP8YWD8wcF1I4PwEUzNf\n",
       "Adnvj8CmsRkwsOw9wNkvABLc/z1gxkcgg73iVykDA9cDBg4B5HQC5zyEiwHjgjUBSQ0rnBUAZ+Wi\n",
       "pQ0sajiBaYNBGkkNPJ3wwoW4QdYz4k+rdxgYAEXmUp0aRTLhAAAAAElFTkSuQmCC\n",
       "\" style=\"display:inline;vertical-align:middle;\" /></a></td></tr>\n",
       "<tr><td>4</td><td>ExprTuple</td><td>5, 6</td><td><a class=\"ProveItLink\" href=\"../168a085b40717fc91aaf898aaf6c0e89258ae87b0/expr.ipynb\"><img src=\"data:image/png;base64,iVBORw0KGgoAAAANSUhEUgAAAFUAAAAVBAMAAADFg78FAAAAMFBMVEX////c3NwiIiJERESqqqqY\n",
       "mJh2dnZmZmYQEBDu7u4yMjJUVFTMzMyIiIi6uroAAAAs73DqAAAAAXRSTlMAQObYZgAAAUdJREFU\n",
       "KM9jYCAF8F0gSlkciDiNIcyzAV3EkoGB/QCQXomhlskATWDyTyCxgIGBF9MJN6BqOQUg9OzdILVh\n",
       "DAwcE9CVMkZB1bLAjOEFqZ3BwPAKw1g2LqxqmR0YyoAhcVnw7ja+uyZQmUDsatkKGJYCSe61DPPz\n",
       "GPyhrryAXS3LAoY+BoZ3QI/PvwBTy8aAXS1fA8M/BoYJ8x8w+E9gqIJI+OBQy/MBpBaksIiBoQ3i\n",
       "hASIWvZVqxZ1rVq1AVltC5ACmqjOwPeRE2zY7t37uy9gd4MpA8hEzn8M3AtEGSBhzYHVDawLGNKB\n",
       "gf+PgfUDA9eFBM5PeNQCw+wR2HQ2AwaWvQc4+0Gxyrb/ewCKWvaKX6UMDFwPGDgEkNMnMgdhLhgA\n",
       "45g1AYnPiidl56KlSVbcaZ0TmCYZpJEE8GQRbpDzGInLQ3cYGAD2fl1ciNyrbwAAAABJRU5ErkJg\n",
       "gg==\n",
       "\" style=\"display:inline;vertical-align:middle;\" /></a></td></tr>\n",
       "<tr><td>5</td><td>Variable</td><td></td><td><a class=\"ProveItLink\" href=\"../../../__pv_it/78af03acba5349fd70398a32ce59bae1da52f0870/expr.ipynb\"><img src=\"data:image/png;base64,iVBORw0KGgoAAAANSUhEUgAAABIAAAAJBAMAAADN8WE8AAAAMFBMVEX////MzMyYmJgQEBBmZmYi\n",
       "IiLu7u4yMjKqqqp2dnZUVFTc3NxERESIiIi6uroAAABe5jFNAAAAAXRSTlMAQObYZgAAAFtJREFU\n",
       "CNdj4Luz++5KvrsnGBg4uWoZ8ucx9DMwvGM9wJB/AcRKyH/A0J/A4M7AAKJcGRgsgSwgL4SB7zcb\n",
       "iMf2j4GrYBMD9z8Gpg8M7BcmMPAZMHAeYOBYKwAAtXMYHwtZnY0AAAAASUVORK5CYII=\n",
       "\" style=\"display:inline;vertical-align:middle;\" /></a></td></tr>\n",
       "<tr><td>6</td><td>Operation</td><td>operator:&nbsp;7<br>operands:&nbsp;8<br></td><td><a class=\"ProveItLink\" href=\"../740c2287fe0f727beb5bcb53a581364f59e0e26e0/expr.ipynb\"><img src=\"data:image/png;base64,iVBORw0KGgoAAAANSUhEUgAAACwAAAAQBAMAAACfEoDkAAAAMFBMVEX///+6urpmZmaqqqru7u52\n",
       "dnYyMjKYmJjc3NwQEBCIiIhEREQiIiJUVFTMzMwAAACQ7J58AAAAAXRSTlMAQObYZgAAAGxJREFU\n",
       "GNNjYGBgeMuABraAydNoot5fQCTXbCjXA0L53gULt2dDha2gNBdYOACrMHsDVmEvBqzCAViFmR9g\n",
       "FXZlgAirpaWdTEvLhQnb3r378xY2BzLMZiBBOPa/Ooowk+Y3deQgsmLACqQQTAALqSQHK6OXNQAA\n",
       "AABJRU5ErkJggg==\n",
       "\" style=\"display:inline;vertical-align:middle;\" /></a></td></tr>\n",
       "<tr><td>7</td><td>Literal</td><td></td><td><a class=\"ProveItLink\" href=\"../../../number/addition/__pv_it/3e6688136fa3c7aefbebe51301b7c3ebf0b69c440/expr.ipynb\"><img src=\"data:image/png;base64,iVBORw0KGgoAAAANSUhEUgAAAA4AAAAOBAMAAADtZjDiAAAAJFBMVEX///+6urpUVFQQEBAiIiIy\n",
       "MjJmZmaIiIiqqqrc3Nzu7u4AAACgHpL+AAAAAXRSTlMAQObYZgAAAB5JREFUCNdjYGBgWMkAAe2k\n",
       "0Kmhoc6hoUGk6BMHYgAHOwjcado9fwAAAABJRU5ErkJggg==\n",
       "\" style=\"display:inline;vertical-align:middle;\" /></a></td></tr>\n",
       "<tr><td>8</td><td>ExprTuple</td><td>9, 10</td><td><a class=\"ProveItLink\" href=\"../7400382b44a7dab36babc73a403858512c8239a80/expr.ipynb\"><img src=\"data:image/png;base64,iVBORw0KGgoAAAANSUhEUgAAACkAAAAVBAMAAAAp9toTAAAAMFBMVEX////c3NwiIiJERESqqqqY\n",
       "mJh2dnZmZmYQEBDu7u4yMjJUVFTMzMyIiIi6uroAAAAs73DqAAAAAXRSTlMAQObYZgAAANJJREFU\n",
       "GNNjYMAO+C6gCcSBiNNwAgQsGRjYDwDplSCOMlRw8k8gsYCBgRdkAG8zRHD2bpBoGAMDxwQgLboY\n",
       "qpYXJDqDgeEViJOAIsrswFAGpFgFUETZChiWAqm5DCiiLAsY+kAGoIryNTD8A8odQBXl+QASncaA\n",
       "IdrCwOC9e/ePvagmmIJ5QF9MgIuyLmBIh4pyfkJ22SMQJ/t/KWe/ADBgKn6VMjBwPWDgEICFKIwB\n",
       "8jFrApTNCg/gXFhIIotyAkOSQRrKgUcJN8goRvQYusPAAACiyDrRkNW4KwAAAABJRU5ErkJggg==\n",
       "\" style=\"display:inline;vertical-align:middle;\" /></a></td></tr>\n",
       "<tr><td>9</td><td>Literal</td><td></td><td><a class=\"ProveItLink\" href=\"../../../number/numeral/__pv_it/23412ce59ea7e77353d2f9225e02248e73651ca00/expr.ipynb\"><img src=\"data:image/png;base64,iVBORw0KGgoAAAANSUhEUgAAAAoAAAAPBAMAAAAv0UM9AAAALVBMVEX///9mZmaqqqru7u52dnYy\n",
       "MjKYmJjc3NwQEBCIiIhEREQiIiJUVFTMzMwAAACUDTcXAAAAAXRSTlMAQObYZgAAAD5JREFUCNdj\n",
       "YGBguMMAArtABGcXiCyLApEOIJKtAERaMoBIBxDJdAFEmjCASJ0zZ16cBCkF64KQPu/EwBwGACv6\n",
       "DSRgin9qAAAAAElFTkSuQmCC\n",
       "\" style=\"display:inline;vertical-align:middle;\" /></a></td></tr>\n",
       "<tr><td>10</td><td>Literal</td><td></td><td><a class=\"ProveItLink\" href=\"../../../number/numeral/__pv_it/9be8badea4c35b9724062cecc501d17a3158d1d20/expr.ipynb\"><img src=\"data:image/png;base64,iVBORw0KGgoAAAANSUhEUgAAAAgAAAAPBAMAAAArJJMAAAAAHlBMVEX///+YmJgyMjIQEBBmZmaI\n",
       "iIhUVFTu7u5EREQAAAAw+MI4AAAAAXRSTlMAQObYZgAAACFJREFUCNdjYGBoZ2BgqJjOwFCWBiQY\n",
       "WEklWJwnOTKAAACjEQo8HvEr3AAAAABJRU5ErkJggg==\n",
       "\" style=\"display:inline;vertical-align:middle;\" /></a></td></tr>\n",
       "</table>\n"
      ],
      "text/plain": [
       "0. (m + 4 + 1 , m + (4 + 1))\n",
       "   core type: ExprTuple\n",
       "   sub-expressions: 1, 2\n",
       "1. m + 4 + 1\n",
       "   core type: Operation\n",
       "   operator: 7\n",
       "   operands: 3\n",
       "2. m + (4 + 1)\n",
       "   core type: Operation\n",
       "   operator: 7\n",
       "   operands: 4\n",
       "3. (m , 4 , 1)\n",
       "   core type: ExprTuple\n",
       "   sub-expressions: 5, 9, 10\n",
       "4. (m , 4 + 1)\n",
       "   core type: ExprTuple\n",
       "   sub-expressions: 5, 6\n",
       "5. m\n",
       "   core type: Variable\n",
       "   sub-expressions: \n",
       "6. 4 + 1\n",
       "   core type: Operation\n",
       "   operator: 7\n",
       "   operands: 8\n",
       "7. +\n",
       "   core type: Literal\n",
       "   sub-expressions: \n",
       "8. (4 , 1)\n",
       "   core type: ExprTuple\n",
       "   sub-expressions: 9, 10\n",
       "9. 4\n",
       "   core type: Literal\n",
       "   sub-expressions: \n",
       "10. 1\n",
       "    core type: Literal\n",
       "    sub-expressions: "
      ]
     },
     "execution_count": 4,
     "metadata": {},
     "output_type": "execute_result"
    }
   ],
   "source": [
    "# display the expression information\n",
    "expr.exprInfo()"
   ]
  },
  {
   "cell_type": "code",
   "execution_count": null,
   "metadata": {},
   "outputs": [],
   "source": []
  }
 ],
 "metadata": {
  "kernelspec": {
   "display_name": "Python 3",
   "language": "python",
   "name": "python3"
  }
 },
 "nbformat": 4,
 "nbformat_minor": 0
}
