{
 "cells": [
  {
   "cell_type": "markdown",
   "metadata": {},
   "source": [
    "Expression of type <a class=\"ProveItLink\" href=\"../../../../../doc/html/api/proveit.ExprTuple.html\">ExprTuple</a>\n",
    "=======================\n",
    "# from context <a class=\"ProveItLink\" href=\"../../_context_.ipynb\">proveit.iteration</a>"
   ]
  },
  {
   "cell_type": "code",
   "execution_count": 1,
   "metadata": {},
   "outputs": [],
   "source": [
    "# import Expression classes needed to build the expression\n",
    "from proveit import ExprTuple\n",
    "from proveit._common_ import j\n",
    "from proveit.number import Add, Neg, zero"
   ]
  },
  {
   "cell_type": "code",
   "execution_count": 2,
   "metadata": {},
   "outputs": [
    {
     "data": {
      "text/html": [
       "<strong id=\"expr\">expr:</strong> <a class=\"ProveItLink\" href=\"expr.ipynb\"><img src=\"data:image/png;base64,iVBORw0KGgoAAAANSUhEUgAAAE0AAAAVBAMAAADx+n4ZAAAAMFBMVEX////c3NwiIiJERESqqqqY\n",
       "mJh2dnZmZmYQEBDu7u4yMjJUVFTMzMyIiIi6uroAAAAs73DqAAAAAXRSTlMAQObYZgAAAU5JREFU\n",
       "KM9jYCAW8F0gqCQORJwGEfECqDLT79bAmKwfGdgPAOmVIE40mgl6DJMOwNRtYGBYwMDAi81aXgUG\n",
       "3gVI/DAGBo4JWNQxbWDg+4jEn8HA8Aqbw/kLGHi+IPGZHRjKgBTnXUtUdfIJDDx/Icy5l4EWshUw\n",
       "LAWy2RhUMdV9gzATmAIYGFgWMPQB2TcZvuJSxzuBH6iOr4HhH5AjAHG0lBII6KHYy8jwHhi0PB/A\n",
       "6hjYFDD9AbMiiQGsrgXE5irACBcWWLgsZwDbawpiz3fACGegFeCQ5QSFD+sChnQQxx89sFUYZhzg\n",
       "/ARisfxkAIfLIxCnCD2gp+fuYeDsByUOdpDTuR4wcIA46thTHEiKqQASb6wJDA8Z/2BVxwpSKg9K\n",
       "N7mgdMXznbkAl7rzBeYgv4DSjjSnWSn2ZAxMcZPTgbHBwA1yACPhdH+HgQEAyUxKOjhow7UAAAAA\n",
       "SUVORK5CYII=\n",
       "\" style=\"display:inline;vertical-align:middle;\" /></a><br>"
      ],
      "text/plain": [
       "expr: (j - 0 , j)"
      ]
     },
     "execution_count": 2,
     "metadata": {},
     "output_type": "execute_result"
    }
   ],
   "source": [
    "# build up the expression from sub-expressions\n",
    "expr = ExprTuple(Add(j, Neg(zero)), j)"
   ]
  },
  {
   "cell_type": "code",
   "execution_count": 3,
   "metadata": {},
   "outputs": [
    {
     "name": "stdout",
     "output_type": "stream",
     "text": [
      "Passed sanity check: built 'expr' is the same as the stored Expression.\n"
     ]
    }
   ],
   "source": [
    "# check that the built expression is the same as the stored expression\n",
    "%check_expr"
   ]
  },
  {
   "cell_type": "code",
   "execution_count": 4,
   "metadata": {},
   "outputs": [
    {
     "data": {
      "text/html": [
       "<table><tr><th>&nbsp;</th><th>core type</th><th>sub-expressions</th><th>expression</th></tr>\n",
       "<tr><td>0</td><td>ExprTuple</td><td>1, 4</td><td><a class=\"ProveItLink\" href=\"expr.ipynb\"><img src=\"data:image/png;base64,iVBORw0KGgoAAAANSUhEUgAAAE0AAAAVBAMAAADx+n4ZAAAAMFBMVEX////c3NwiIiJERESqqqqY\n",
       "mJh2dnZmZmYQEBDu7u4yMjJUVFTMzMyIiIi6uroAAAAs73DqAAAAAXRSTlMAQObYZgAAAU5JREFU\n",
       "KM9jYCAW8F0gqCQORJwGEfECqDLT79bAmKwfGdgPAOmVIE40mgl6DJMOwNRtYGBYwMDAi81aXgUG\n",
       "3gVI/DAGBo4JWNQxbWDg+4jEn8HA8Aqbw/kLGHi+IPGZHRjKgBTnXUtUdfIJDDx/Icy5l4EWshUw\n",
       "LAWy2RhUMdV9gzATmAIYGFgWMPQB2TcZvuJSxzuBH6iOr4HhH5AjAHG0lBII6KHYy8jwHhi0PB/A\n",
       "6hjYFDD9AbMiiQGsrgXE5irACBcWWLgsZwDbawpiz3fACGegFeCQ5QSFD+sChnQQxx89sFUYZhzg\n",
       "/ARisfxkAIfLIxCnCD2gp+fuYeDsByUOdpDTuR4wcIA46thTHEiKqQASb6wJDA8Z/2BVxwpSKg9K\n",
       "N7mgdMXznbkAl7rzBeYgv4DSjjSnWSn2ZAxMcZPTgbHBwA1yACPhdH+HgQEAyUxKOjhow7UAAAAA\n",
       "SUVORK5CYII=\n",
       "\" style=\"display:inline;vertical-align:middle;\" /></a></td></tr>\n",
       "<tr><td>1</td><td>Operation</td><td>operator:&nbsp;2<br>operands:&nbsp;3<br></td><td><a class=\"ProveItLink\" href=\"../f8c1d5083bfc79c3753dea2043a6fed003236e740/expr.ipynb\"><img src=\"data:image/png;base64,iVBORw0KGgoAAAANSUhEUgAAAC4AAAASBAMAAADWL/HSAAAAMFBMVEX///8QEBDMzMyqqqpmZmYy\n",
       "MjK6uroiIiJ2dnZERESIiIju7u5UVFTc3NyYmJgAAACtHSfyAAAAAXRSTlMAQObYZgAAAJtJREFU\n",
       "GNNjYGBg4PvLgAK2rHIC03wHUMXLGLYrMGACrgIGrgAs4uwHGNj+YhHnd2Bg+gykd63cgCJ+v4GB\n",
       "6ReQbmB/gCH+A2jNBn6s4rwM+ReAvKvlIFCGZA5DO6a9/0CMEAx3MoPcyf0Zw18cBUCa+TeaB4oZ\n",
       "NoLCgaUATXxL1yGweQ5YPM3AduE+tsBj0HeYgk2YYWfLA2zCAFP8K/GLlBlnAAAAAElFTkSuQmCC\n",
       "\" style=\"display:inline;vertical-align:middle;\" /></a></td></tr>\n",
       "<tr><td>2</td><td>Literal</td><td></td><td><a class=\"ProveItLink\" href=\"../../../number/addition/__pv_it/3e6688136fa3c7aefbebe51301b7c3ebf0b69c440/expr.ipynb\"><img src=\"data:image/png;base64,iVBORw0KGgoAAAANSUhEUgAAAA4AAAAOBAMAAADtZjDiAAAAJFBMVEX///+6urpUVFQQEBAiIiIy\n",
       "MjJmZmaIiIiqqqrc3Nzu7u4AAACgHpL+AAAAAXRSTlMAQObYZgAAAB5JREFUCNdjYGBgWMkAAe2k\n",
       "0Kmhoc6hoUGk6BMHYgAHOwjcado9fwAAAABJRU5ErkJggg==\n",
       "\" style=\"display:inline;vertical-align:middle;\" /></a></td></tr>\n",
       "<tr><td>3</td><td>ExprTuple</td><td>4, 5</td><td><a class=\"ProveItLink\" href=\"../342a239418302855292ca6e9e48ce25961d2b4140/expr.ipynb\"><img src=\"data:image/png;base64,iVBORw0KGgoAAAANSUhEUgAAADgAAAAVBAMAAADhmjDFAAAAMFBMVEX////c3NwiIiJERESqqqqY\n",
       "mJh2dnZmZmYQEBDu7u4yMjJUVFTMzMyIiIi6uroAAAAs73DqAAAAAXRSTlMAQObYZgAAAQxJREFU\n",
       "KM9jYMAL+C5gF2d9ACROg1kfUSSm361hYAAihpVgyQ0oknoMkw4wcDEw8GIxlVeBgXcBA2sCA8cE\n",
       "TEmmDQx8Hxk4GxheYXELfwEDzxcGBhOGMhBv7mUU/fIJDDx/GRjSGZaCeAlMAeiS3xgYvBj6QA6Y\n",
       "wI9N8gXDPyCHkeG9AEiQcZESCDyAGnseLMnAkIThoK8gyRYwdzm6V1g+gow1BfE4vzBwogYCmwID\n",
       "QxTQvUDA8pNhvgKSrArDjAMgrzwCcdgVGGYgB/303D1Ach0DB8idTAUMDA/RwwkYfMDg5ROQBxoS\n",
       "gC7JdgEUZecLzBmwSM4CYmmGyelACV6M4N8IChYcyYT3AAMA/c8//SDCPBcAAAAASUVORK5CYII=\n",
       "\" style=\"display:inline;vertical-align:middle;\" /></a></td></tr>\n",
       "<tr><td>4</td><td>Variable</td><td></td><td><a class=\"ProveItLink\" href=\"../../../__pv_it/612356038763a16ceac85a062629d016c986635c0/expr.ipynb\"><img src=\"data:image/png;base64,iVBORw0KGgoAAAANSUhEUgAAAAoAAAASBAMAAACQmVJ4AAAALVBMVEX////MzMyqqqpmZmYyMjK6\n",
       "uroiIiJ2dnZERESIiIju7u5UVFTc3NyYmJgAAAAeP2GyAAAAAXRSTlMAQObYZgAAAE1JREFUCNdj\n",
       "YGBg4H3DACI3MGADK2csAJIFbBcYGDgX8AFJHoa4AyCJMrC0M4jgegQimV6BSOYEEMlmwMDAeuCc\n",
       "AAODnEEzkL+iGKgTAMbaDxjCuhcwAAAAAElFTkSuQmCC\n",
       "\" style=\"display:inline;vertical-align:middle;\" /></a></td></tr>\n",
       "<tr><td>5</td><td>Operation</td><td>operator:&nbsp;6<br>operand:&nbsp;7<br></td><td><a class=\"ProveItLink\" href=\"../fc9b386b67e40bd88a348ec28dfc1239db2cd9060/expr.ipynb\"><img src=\"data:image/png;base64,iVBORw0KGgoAAAANSUhEUgAAABkAAAAOBAMAAAAoFKpzAAAALVBMVEX///8QEBCYmJh2dnaqqqpU\n",
       "VFTMzMyIiIhmZmbu7u66uroiIiIyMjLc3NwAAACHpao+AAAAAXRSTlMAQObYZgAAAFNJREFUCNdj\n",
       "YIACzvaKBAY44F7AuQ3Bq2ZgqEHwtjIwrLsA571gYMhzgHF4HwN5BSg8AzTend0gsAtVJdgUBWQb\n",
       "/C4g226N5DIHTjEEj7O5NIEBAIBQGVL88FXhAAAAAElFTkSuQmCC\n",
       "\" style=\"display:inline;vertical-align:middle;\" /></a></td></tr>\n",
       "<tr><td>6</td><td>Literal</td><td></td><td><a class=\"ProveItLink\" href=\"../../../number/negation/__pv_it/3fc7a08bb9735faa20ef8e175f6ea95511acc9c70/expr.ipynb\"><img src=\"data:image/png;base64,iVBORw0KGgoAAAANSUhEUgAAAA4AAAACBAMAAACapPCZAAAAElBMVEX///+6uroiIiIyMjLc3NwA\n",
       "AAA6l9OrAAAAAXRSTlMAQObYZgAAABBJREFUCNdjcFYCAUUGKAAADR4BD8/TF5gAAAAASUVORK5C\n",
       "YII=\n",
       "\" style=\"display:inline;vertical-align:middle;\" /></a></td></tr>\n",
       "<tr><td>7</td><td>Literal</td><td></td><td><a class=\"ProveItLink\" href=\"../../../number/numeral/__pv_it/ec23fc7a1b4222a5f4948b495002b97d6fa18c3c0/expr.ipynb\"><img src=\"data:image/png;base64,iVBORw0KGgoAAAANSUhEUgAAAAoAAAAOBAMAAADkjZCYAAAALVBMVEX///8QEBCYmJh2dnaqqqrc\n",
       "3NxUVFQyMjK6uroiIiLMzMyIiIhmZmbu7u4AAAAZjyHdAAAAAXRSTlMAQObYZgAAAEpJREFUCNdj\n",
       "YLiz+xQDA8MMhpsLGLgnMHAXMHAmMHA8ZeA7wMD1hCHOgIHrNZh8jES+Bss+AqlkeQrSxTyBgWEK\n",
       "w8UFDAx3rLMYAMCjFldHSx/9AAAAAElFTkSuQmCC\n",
       "\" style=\"display:inline;vertical-align:middle;\" /></a></td></tr>\n",
       "</table>\n"
      ],
      "text/plain": [
       "0. (j - 0 , j)\n",
       "   core type: ExprTuple\n",
       "   sub-expressions: 1, 4\n",
       "1. j - 0\n",
       "   core type: Operation\n",
       "   operator: 2\n",
       "   operands: 3\n",
       "2. +\n",
       "   core type: Literal\n",
       "   sub-expressions: \n",
       "3. (j , -0)\n",
       "   core type: ExprTuple\n",
       "   sub-expressions: 4, 5\n",
       "4. j\n",
       "   core type: Variable\n",
       "   sub-expressions: \n",
       "5. -0\n",
       "   core type: Operation\n",
       "   operator: 6\n",
       "   operand: 7\n",
       "6. -\n",
       "   core type: Literal\n",
       "   sub-expressions: \n",
       "7. 0\n",
       "   core type: Literal\n",
       "   sub-expressions: "
      ]
     },
     "execution_count": 4,
     "metadata": {},
     "output_type": "execute_result"
    }
   ],
   "source": [
    "# display the expression information\n",
    "expr.exprInfo()"
   ]
  },
  {
   "cell_type": "code",
   "execution_count": null,
   "metadata": {},
   "outputs": [],
   "source": []
  }
 ],
 "metadata": {
  "kernelspec": {
   "display_name": "Python 3",
   "language": "python",
   "name": "python3"
  }
 },
 "nbformat": 4,
 "nbformat_minor": 0
}
