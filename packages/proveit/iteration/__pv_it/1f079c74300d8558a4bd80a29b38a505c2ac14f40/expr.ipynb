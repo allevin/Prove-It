{
 "cells": [
  {
   "cell_type": "markdown",
   "metadata": {},
   "source": [
    "Expression of type <a class=\"ProveItLink\" href=\"../../../../../doc/html/api/proveit.ExprTuple.html\">ExprTuple</a>\n",
    "=======================\n",
    "# from context <a class=\"ProveItLink\" href=\"../../_context_.ipynb\">proveit.iteration</a>"
   ]
  },
  {
   "cell_type": "code",
   "execution_count": 1,
   "metadata": {},
   "outputs": [],
   "source": [
    "# import Expression classes needed to build the expression\n",
    "from proveit import ExprTuple, Variable\n",
    "from proveit._common_ import j\n",
    "from proveit.logic import InSet\n",
    "from proveit.number import Interval, one"
   ]
  },
  {
   "cell_type": "code",
   "execution_count": 2,
   "metadata": {},
   "outputs": [
    {
     "data": {
      "text/html": [
       "<strong id=\"expr\">expr:</strong> <a class=\"ProveItLink\" href=\"expr.ipynb\"><img src=\"data:image/png;base64,iVBORw0KGgoAAAANSUhEUgAAAJMAAAAVBAMAAACwIsHjAAAAMFBMVEX////c3NwiIiJERESqqqqY\n",
       "mJh2dnZmZmYQEBDu7u4yMjJUVFTMzMyIiIi6uroAAAAs73DqAAAAAXRSTlMAQObYZgAAAc9JREFU\n",
       "OMuNlL1Lw0AYxp9+N7aJBUeHhg4OglApIm79D+zkKFGETkIXRRS0aEeRYBdBikUoxa2Liy4dRIQO\n",
       "FlwtFidxaRWXiop3Nbk7JJf0IMebuze/3D3vBzDKCG24bN6u2JbW9iQpU67bd1lgmRot70OpfTov\n",
       "OJ73DYhUydMkLxfeqHCRTOWBI6phbROc2h4NdXo9cP3TEhA1pYTKeWqa+6ruqBPgVUqK10zR1wMV\n",
       "yGKTxylvICmcccKEJ6ryYFrb4QJqHK718SS4zTKLhsgZZfhzRHoa4GAVR2z5JqIjIyRTmidOV4JS\n",
       "zXGCQp2mZxE/bN2MtvHN3bT9VOpP9tYhJCgfegmqE7lavC+gsGjGvwTVG8x8aUplX6UTLQaCKvHl\n",
       "bahF4YI6M2NSrYZ3G2pFLjgnLgcagtclD4jOUTSsim1A+bADHKoiz7/dQS8noI67DsmgvJPpTLcM\n",
       "BAfgyfBM3jNkkGItd/YStk01rTcFVGTrk3Ya5YBmdtoyENFt1FgX0cR/EdkIXomF4zj8BaFwQgYT\n",
       "V1dKLpXhMLREsmlvr4tNxm8EDEkTlaDuC/N2MSg0yJPsPp1dWRedcV4v53N2McSoTr4RGlZozau3\n",
       "PwK/rbp3GhSXiEQAAAAASUVORK5CYII=\n",
       "\" style=\"display:inline;vertical-align:middle;\" /></a><br>"
      ],
      "text/plain": [
       "expr: (_y_ in {1...j})"
      ]
     },
     "execution_count": 2,
     "metadata": {},
     "output_type": "execute_result"
    }
   ],
   "source": [
    "# build up the expression from sub-expressions\n",
    "expr = ExprTuple(InSet(Variable(\"_y_\", latexFormat = r\"{_{-}y_{-}}\"), Interval(one, j)))"
   ]
  },
  {
   "cell_type": "code",
   "execution_count": 3,
   "metadata": {},
   "outputs": [
    {
     "name": "stdout",
     "output_type": "stream",
     "text": [
      "Passed sanity check: built 'expr' is the same as the stored Expression.\n"
     ]
    }
   ],
   "source": [
    "# check that the built expression is the same as the stored expression\n",
    "%check_expr"
   ]
  },
  {
   "cell_type": "code",
   "execution_count": 4,
   "metadata": {},
   "outputs": [
    {
     "data": {
      "text/html": [
       "<table><tr><th>&nbsp;</th><th>core type</th><th>sub-expressions</th><th>expression</th></tr>\n",
       "<tr><td>0</td><td>ExprTuple</td><td>1</td><td><a class=\"ProveItLink\" href=\"expr.ipynb\"><img src=\"data:image/png;base64,iVBORw0KGgoAAAANSUhEUgAAAJMAAAAVBAMAAACwIsHjAAAAMFBMVEX////c3NwiIiJERESqqqqY\n",
       "mJh2dnZmZmYQEBDu7u4yMjJUVFTMzMyIiIi6uroAAAAs73DqAAAAAXRSTlMAQObYZgAAAc9JREFU\n",
       "OMuNlL1Lw0AYxp9+N7aJBUeHhg4OglApIm79D+zkKFGETkIXRRS0aEeRYBdBikUoxa2Liy4dRIQO\n",
       "FlwtFidxaRWXiop3Nbk7JJf0IMebuze/3D3vBzDKCG24bN6u2JbW9iQpU67bd1lgmRot70OpfTov\n",
       "OJ73DYhUydMkLxfeqHCRTOWBI6phbROc2h4NdXo9cP3TEhA1pYTKeWqa+6ruqBPgVUqK10zR1wMV\n",
       "yGKTxylvICmcccKEJ6ryYFrb4QJqHK718SS4zTKLhsgZZfhzRHoa4GAVR2z5JqIjIyRTmidOV4JS\n",
       "zXGCQp2mZxE/bN2MtvHN3bT9VOpP9tYhJCgfegmqE7lavC+gsGjGvwTVG8x8aUplX6UTLQaCKvHl\n",
       "bahF4YI6M2NSrYZ3G2pFLjgnLgcagtclD4jOUTSsim1A+bADHKoiz7/dQS8noI67DsmgvJPpTLcM\n",
       "BAfgyfBM3jNkkGItd/YStk01rTcFVGTrk3Ya5YBmdtoyENFt1FgX0cR/EdkIXomF4zj8BaFwQgYT\n",
       "V1dKLpXhMLREsmlvr4tNxm8EDEkTlaDuC/N2MSg0yJPsPp1dWRedcV4v53N2McSoTr4RGlZozau3\n",
       "PwK/rbp3GhSXiEQAAAAASUVORK5CYII=\n",
       "\" style=\"display:inline;vertical-align:middle;\" /></a></td></tr>\n",
       "<tr><td>1</td><td>Operation</td><td>operator:&nbsp;2<br>operands:&nbsp;3<br></td><td><a class=\"ProveItLink\" href=\"../c53a2028c41921249d01b4921847f189b3254dc20/expr.ipynb\"><img src=\"data:image/png;base64,iVBORw0KGgoAAAANSUhEUgAAAIUAAAAVBAMAAACakjBMAAAAMFBMVEX///+YmJhUVFQyMjIQEBAi\n",
       "IiLMzMyIiIi6urrc3NxmZmZ2dnbu7u5ERESqqqoAAACio3w8AAAAAXRSTlMAQObYZgAAAWFJREFU\n",
       "OMtjYCAIpARwy7HtnsBABDi6AZ8smx8xZtSDCN4D2KTkgY5YTIwZW4CY5z5WM4Sg0sSYwaOkfwCf\n",
       "FTgAT3FoqAFCUT05ZiTLoCgiyozTqxk4/yC4nHcYCJrBU34H1YwN/QzsHxBcXkS0L8ZlBjdDIChu\n",
       "ENH8YCkD7wWE/FmEjAcuM2oYPgJJ5gVwdzG4M/AXIORbQkMhYcqmkoDLjAkcP0HUZXgy5vvDkJ+A\n",
       "kE+CszjccIYpdwCQYEUkYy4DhhLkBI5gKuM0A+wNeRT+JSRpJkQ+24owgwdEHIAxGM4/QI0XLgWO\n",
       "j8jxFoEtbs8DHc/zFcpgYHh/ACr99i4QHGDguV71E8YGgcnLkM1Y5W8FctgRYMzx+EIZDAxLMdIp\n",
       "OIQQ4JEpclrHCqLQpFUZjjwgLUN0cn5Dk45muI1DrQiOwucX7wJ4MoaA51UNuMqxAuwZ+/ZCRDIm\n",
       "CKQfEChPARpqbVmMT21/AAAAAElFTkSuQmCC\n",
       "\" style=\"display:inline;vertical-align:middle;\" /></a></td></tr>\n",
       "<tr><td>2</td><td>Literal</td><td></td><td><a class=\"ProveItLink\" href=\"../../../logic/set_theory/membership/__pv_it/088cbc857536a28d4119ad9639a84270ccb0545d0/expr.ipynb\"><img src=\"data:image/png;base64,iVBORw0KGgoAAAANSUhEUgAAAAwAAAAMBAMAAACkW0HUAAAALVBMVEX///+qqqpmZmZUVFQQEBC6\n",
       "urpERETc3NyYmJjMzMwiIiIyMjKIiIju7u4AAACYsrA9AAAAAXRSTlMAQObYZgAAADxJREFUCNdj\n",
       "YOA9vWrVBgaG2b0MQMCeCyIZ2ArA1DUwyRCyahVIyWQI7xaEYm4AU7xLIdxqTQgtvGvVBgCkcQ7e\n",
       "geM/tQAAAABJRU5ErkJggg==\n",
       "\" style=\"display:inline;vertical-align:middle;\" /></a></td></tr>\n",
       "<tr><td>3</td><td>ExprTuple</td><td>4, 5</td><td><a class=\"ProveItLink\" href=\"../cedcd2fb355aca7899bcaa855f3cb15954d2d6820/expr.ipynb\"><img src=\"data:image/png;base64,iVBORw0KGgoAAAANSUhEUgAAAIMAAAAVBAMAAACXjEALAAAAMFBMVEX////c3NwiIiJERESqqqqY\n",
       "mJh2dnZmZmYQEBDu7u4yMjJUVFTMzMyIiIi6uroAAAAs73DqAAAAAXRSTlMAQObYZgAAAalJREFU\n",
       "OMtjYMAHWEvxSB5LhLH4LuBUxKmG14ITDgwMcSDGadxqeD+ASEus7vvIwMC+AIgPADkrcRvB1gAk\n",
       "Jv/EasQGqDTQGN4L+I2YvfsnXhvCGBg4JhBwBS9+I2YwMLxioMwIZgeGMkT4pycwyE8gzoi5lydA\n",
       "pdkKGJYiNPB9YLiPohAU5NiNSGAKAAYpKMJYFjD0wYWPsCswGKNG/AMcRvBO4AcawbAclKwaGP7B\n",
       "xSdwXGD4i6zwdA8DDiMYGd4LgMIB6AWeD0hGMPhP4PmDovLFAZzBmQQiQIkXaEQLQriKgbcBRR03\n",
       "zrAA+wEcFkCPmCILM2+A+wocwAoII0ACnHAZzi+wCGNdwJCOMKKa4X0ALII/oUUqWGC+AkyG5ScD\n",
       "IlIfAfnGQADMTJPv1gtA2Zz9AlA17BW/QDmesxmUEg2gDAZ2BZgRXA8YOATQAwlSBMCMwA6YCpAS\n",
       "OGsCPPAUOBFhy8qAxwg+AfkDMOlc5MzOlMCcgGoEKw4jzheYwxIvJyjSpGESLHfrEKrARQCnLnYj\n",
       "JqcHwBIvN8jDjHgKDNYUQmXnHQYGANsOb847zEm5AAAAAElFTkSuQmCC\n",
       "\" style=\"display:inline;vertical-align:middle;\" /></a></td></tr>\n",
       "<tr><td>4</td><td>Variable</td><td></td><td><a class=\"ProveItLink\" href=\"../ca21bf52f8ec7f5496629bfb63241356f0872c150/expr.ipynb\"><img src=\"data:image/png;base64,iVBORw0KGgoAAAANSUhEUgAAACMAAAANBAMAAADRUcosAAAAMFBMVEX///+YmJhUVFQyMjIQEBAi\n",
       "IiLMzMyIiIi6urrc3NxmZmZ2dnbu7u5ERESqqqoAAACio3w8AAAAAXRSTlMAQObYZgAAAGhJREFU\n",
       "CNdjYICA06sZOP8woIAN/QzsH1BE2B4sZeC9gCLEw+DOwF+AqpHvD0N+AqoQlwFDCaoIA/MChkto\n",
       "QlwKHB9h7Ld3geAAA8/1qp8wNhxwB6BpVGU48gBNKJrhNpoIw/OqBhgTACmkHt67K+Q0AAAAAElF\n",
       "TkSuQmCC\n",
       "\" style=\"display:inline;vertical-align:middle;\" /></a></td></tr>\n",
       "<tr><td>5</td><td>Operation</td><td>operator:&nbsp;6<br>operands:&nbsp;7<br></td><td><a class=\"ProveItLink\" href=\"../83a2399bdb45427a9d97959658e3ff650546859f0/expr.ipynb\"><img src=\"data:image/png;base64,iVBORw0KGgoAAAANSUhEUgAAAEUAAAAVBAMAAADiLT7tAAAAMFBMVEX////c3NxERESqqqpUVFS6\n",
       "urrMzMwyMjIQEBCIiIh2dnYiIiLu7u5mZmaYmJgAAABXZE4RAAAAAXRSTlMAQObYZgAAANxJREFU\n",
       "KM9jYGDgu8eAE7CtEgBRPLsY8AC2ZhDJ+QFE6mBTwPeRgeE6iMHVACQO/cGqxoGBYQVMzRGXP7gs\n",
       "g6th4KSlmpOTDkDV8BbgUrOA+wEDw3sQKyMAhxrOA/xANewXGBhS2hhwqGFkiAcFsjpQYUQCTjev\n",
       "BmLuBUCCBad7GGoZoO7h2gBXwwMiDsAYDDyfsfj9PFA5z28og4GB+Q+yGt4b30EJ5IQCUE0TlAEU\n",
       "3YBiDlbAfYGQGlYB+QSYGj4cavIv6IIocPrh2YldzaG1D0DpsBWSkhYTSM8AKCNFBTMPcI4AAAAA\n",
       "SUVORK5CYII=\n",
       "\" style=\"display:inline;vertical-align:middle;\" /></a></td></tr>\n",
       "<tr><td>6</td><td>Literal</td><td></td><td><a class=\"ProveItLink\" href=\"../../../number/sets/integer/__pv_it/6e5362d7b256561b61a1b512bf7dc507dcde5dcf0/expr.ipynb\"><img src=\"data:image/png;base64,iVBORw0KGgoAAAANSUhEUgAAAE4AAAAOBAMAAABz3DdCAAAAMFBMVEX///8QEBCYmJiqqqoiIiLu\n",
       "7u7MzMyIiIi6uroyMjLc3NxmZmZERERUVFR2dnYAAAADo0JQAAAAAXRSTlMAQObYZgAAAWZJREFU\n",
       "KM99kL9LQlEUx7/2vL7XS9+LlqAh3Bp1kGhzLKjhCW1BvaX9UoPQD3ku1qb0D/S2ghTf4CKEuAU1\n",
       "6BaR1B3aKhIiNbAf56q8ybpwv3DO+XDOly+A158bF/+/p57UT79O2eO5iTaJ9u3XSWs8N1UgMXp+\n",
       "XfnjboCTTLb9evUPriz9mHXg6PrsUGit/i302r6rHZxnPGzWkOIoZbIuYhLO01Jxx1kHCm1OuLpn\n",
       "RFboiMhjvanNoQG0JPdmQ3PWwHrSrk5qHwebihOKV6B45SgugVnJnQKMIOUDQYHIzMIerC2HejQN\n",
       "xR+BZYQ6kuvTJyhSAI1Nb5APhj3V6oP8qNMyvu4wIDNqJaGbMgFUR6EZepdMs3CTcjXk0oBAzBJV\n",
       "LMmkOOYlF/aQY+90Z9GMilF8ZQcvin3PhFrAhqsPkjfqjOMECU+Y2xwXjS+Cs0BxF8U08Jzm0KQf\n",
       "sIcdoJTOXTlqzfoFcS9unliQnJ4AAAAASUVORK5CYII=\n",
       "\" style=\"display:inline;vertical-align:middle;\" /></a></td></tr>\n",
       "<tr><td>7</td><td>ExprTuple</td><td>8, 9</td><td><a class=\"ProveItLink\" href=\"../f213646c4260e126c48fd781da597d88dd03b64d0/expr.ipynb\"><img src=\"data:image/png;base64,iVBORw0KGgoAAAANSUhEUgAAACkAAAAVBAMAAAAp9toTAAAAMFBMVEX////c3NwiIiJERESqqqqY\n",
       "mJh2dnZmZmYQEBDu7u4yMjJUVFTMzMyIiIi6uroAAAAs73DqAAAAAXRSTlMAQObYZgAAAOJJREFU\n",
       "GNNjYMAO+C6gCcSBiNNAzDwBLhYvwH4ASK1kYOC0R4hGMzAsYGDgvcDAuXv/BGQjwhgYOEAC91FE\n",
       "ZzAwvGLAEGV2YChDEeW8a8nAwFbAsBRFlI1BlYGBZQFDH4roTYavQB80MPxDERXg+8jAwPMBTZSB\n",
       "TQEs2oIqylUANsEUJgqRmO/AwMC6gCEdKsr5CSzqPwHsskdAZnn/8gDOfgGQaBHIlAcMHAKwEAUz\n",
       "1CE+Zk2AirIC8UPGP0AyFxKSMFGe78xAJ3ACQ5JBGioKjBJOs1IggxtkFCN6DN1hYAAAH1M7JZoR\n",
       "oFMAAAAASUVORK5CYII=\n",
       "\" style=\"display:inline;vertical-align:middle;\" /></a></td></tr>\n",
       "<tr><td>8</td><td>Literal</td><td></td><td><a class=\"ProveItLink\" href=\"../../../number/numeral/__pv_it/9be8badea4c35b9724062cecc501d17a3158d1d20/expr.ipynb\"><img src=\"data:image/png;base64,iVBORw0KGgoAAAANSUhEUgAAAAgAAAAPBAMAAAArJJMAAAAAHlBMVEX///+YmJgyMjIQEBBmZmaI\n",
       "iIhUVFTu7u5EREQAAAAw+MI4AAAAAXRSTlMAQObYZgAAACFJREFUCNdjYGBoZ2BgqJjOwFCWBiQY\n",
       "WEklWJwnOTKAAACjEQo8HvEr3AAAAABJRU5ErkJggg==\n",
       "\" style=\"display:inline;vertical-align:middle;\" /></a></td></tr>\n",
       "<tr><td>9</td><td>Variable</td><td></td><td><a class=\"ProveItLink\" href=\"../../../__pv_it/612356038763a16ceac85a062629d016c986635c0/expr.ipynb\"><img src=\"data:image/png;base64,iVBORw0KGgoAAAANSUhEUgAAAAoAAAASBAMAAACQmVJ4AAAALVBMVEX////MzMyqqqpmZmYyMjK6\n",
       "uroiIiJ2dnZERESIiIju7u5UVFTc3NyYmJgAAAAeP2GyAAAAAXRSTlMAQObYZgAAAE1JREFUCNdj\n",
       "YGBg4H3DACI3MGADK2csAJIFbBcYGDgX8AFJHoa4AyCJMrC0M4jgegQimV6BSOYEEMlmwMDAeuCc\n",
       "AAODnEEzkL+iGKgTAMbaDxjCuhcwAAAAAElFTkSuQmCC\n",
       "\" style=\"display:inline;vertical-align:middle;\" /></a></td></tr>\n",
       "</table>\n"
      ],
      "text/plain": [
       "0. (_y_ in {1...j})\n",
       "   core type: ExprTuple\n",
       "   sub-expressions: 1\n",
       "1. _y_ in {1...j}\n",
       "   core type: Operation\n",
       "   operator: 2\n",
       "   operands: 3\n",
       "2. in\n",
       "   core type: Literal\n",
       "   sub-expressions: \n",
       "3. (_y_ , {1...j})\n",
       "   core type: ExprTuple\n",
       "   sub-expressions: 4, 5\n",
       "4. _y_\n",
       "   core type: Variable\n",
       "   sub-expressions: \n",
       "5. {1...j}\n",
       "   core type: Operation\n",
       "   operator: 6\n",
       "   operands: 7\n",
       "6. Interval\n",
       "   core type: Literal\n",
       "   sub-expressions: \n",
       "7. (1 , j)\n",
       "   core type: ExprTuple\n",
       "   sub-expressions: 8, 9\n",
       "8. 1\n",
       "   core type: Literal\n",
       "   sub-expressions: \n",
       "9. j\n",
       "   core type: Variable\n",
       "   sub-expressions: "
      ]
     },
     "execution_count": 4,
     "metadata": {},
     "output_type": "execute_result"
    }
   ],
   "source": [
    "# display the expression information\n",
    "expr.exprInfo()"
   ]
  },
  {
   "cell_type": "code",
   "execution_count": null,
   "metadata": {},
   "outputs": [],
   "source": []
  }
 ],
 "metadata": {
  "kernelspec": {
   "display_name": "Python 3",
   "language": "python",
   "name": "python3"
  }
 },
 "nbformat": 4,
 "nbformat_minor": 0
}
