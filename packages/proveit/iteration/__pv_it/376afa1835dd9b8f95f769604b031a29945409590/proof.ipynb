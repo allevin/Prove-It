{
 "cells": [
  {
   "cell_type": "markdown",
   "metadata": {},
   "source": [
    "Show the Proof\n",
    "========"
   ]
  },
  {
   "cell_type": "code",
   "execution_count": 1,
   "metadata": {},
   "outputs": [
    {
     "data": {
      "text/html": [
       "<table><tr><th>&nbsp;</th><th>step type</th><th>requirements</th><th>statement</th></tr>\n",
       "<tr><td>0</td><td>assumption</td><td></td><td><span style=\"font-size:20px;\"><a class=\"ProveItLink\" href=\"../4df2aa5cc30d9ad3211a417b520d59548d4d3e4e0/expr.ipynb\"><img src=\"data:image/png;base64,iVBORw0KGgoAAAANSUhEUgAAAdkAAAAWBAMAAAB+oPvkAAAAMFBMVEX///9ERETc3NyqqqpUVFS6\n",
       "urrMzMwyMjIQEBCIiIh2dnYiIiLu7u5mZmaYmJgAAABJJ2g3AAAAAXRSTlMAQObYZgAABaBJREFU\n",
       "WMPlWF1oHFUUPrvJ/szu7Oxui7QQsWsoiD+QvPUhiKFgQRpwFakpfejaRiqKZAloLC1uatsEQcn2\n",
       "wYqmtou1+ENqtmCrbQpZoZAUiwkolVZi96WWxkp+2iQmIVnvuffOnTt/m8mjeODLTObMOfd89557\n",
       "7pkFAO0P+B9I8JsUXtRLoFZ7re/tkqtuJ4cs8UqRzGDa/nIgz2ATakHltvfoHT0BVJb0OwxBx53z\n",
       "hO5hfKpMQZRqnc3hDNBY7jrNVzOD+WEOn1y3v93GYXeT033EMp7Ztjk/3vdA3F6XcIbgN3wY6YJI\n",
       "I7mGSm5sT+PloIMKTexmvWVU2d8+6OKFW1DJembr7AnCK0Z0EpDtV5ytP0Guj4IbW9TQV6zyCYdJ\n",
       "/BXcIFrB+lzJM9iFWVCZ4Fc15RKNrlBcMrFhRtxiCDpktnSifnFli8sXa3RQfcBhEu0fGlWXbdZL\n",
       "DHZhFlRG+LXGhYxQhF0ycdIYF0PQYWI7UV9fX3Rlq31eX/+kU6HIMoAyeLFOPK1d2nCEhLLe+vbL\n",
       "HNA3eMw8FrdA8TV6ZEs9mcZl8vy5d1r0+/UGTGzjyWRdwZUtTCeTlxw0sQKDOpQOGcsTnk+NEjZn\n",
       "rW/f5PhpFnLmhecWNJgxj2zRk3lcXgI6VFGVzxoQbGNkdWoz4Eu5s90GsM7IFVEHQmWORYhMyzsn\n",
       "eh9gC/XdSYWW3Hc5cgUYIEXgFbBYBLEy1GQ9skVP5nFFCRjSN90WA8h2Ep+9Rs6jQDMMm+r4eFr5\n",
       "sCTYvgSqUSxjc2JN0gyTMxBaoDsFTZ7pgjj5r9Ua51EGjcSTy8Ob28FsEfwVlzfQ5ZEtehPjMrmG\n",
       "arLWFd221QCyDZG8aetGRRFOis392XhZS/RDv7G2UVDEGQHRKdEVpBlyRYjTKaD5eCsBDWT5261x\n",
       "zjKESKJVyLHaBBaLGrwNTnlki97EuCxuzODYNFlePdZ2A8gWNhBFK57oJ+GybnXsxWsl7W5MZquU\n",
       "o0YJHM1a2VbGoJ1GOYLJOJTHSXdlG1+GYAV0tpKFwZbk/4Eenv/mQmEo0JsYl7E9hEuxQJPHkW0U\n",
       "K1MtRj+MLdHfH33aDBrWCW3vnrzEVs1i53LlXB3O2u6eTt7xhBsZyGSeyoqmrzcDm7I8k2ODVOhZ\n",
       "fZghvgLKPOnmmqTKQi1q1pTJ6I2Nq93Y+YVR8ObAN8+I2DKZ7tsIjuLbnAb19gpcYE2Qlun/U2IL\n",
       "654lBeAQDCDbgYKPh+QrM/SmYdNYhz5gLqVipt6xxvkIQ3gWfMuhlMyWWVC2mqVK0Q6+pN9ICvTG\n",
       "xv15dzkqGs7QDIzOMSIsBA7TCQQ1vxM6V7MwA68ztpFIi8T2aRKJbw5uYY7kSr4Z47hAnCpEKsdF\n",
       "fk+Wh++DwwnEzwJlEQYW9oHMlllQttYTCPc13ZD6EaUr0Bsb96mPIS7OE21FzTUyIs4nEGUL72NO\n",
       "50kivZFMJvNaxn/vssQ2TMYY7YIh/H8JwnyzBIoMyuD+H3uMAQeP4FS/ZWW7i6Pv+xMbO0xsmQVl\n",
       "G0qbSeG+phtyJGFW7AIx7nNy/f/rh22cCAuBw8L2HnLKxMbSV9jawo4TEluNJFNDQp2+SsZ+AO16\n",
       "z/weh1M/a+8cUwxcmmw7srimztHw1A3jActQSMS9c+SnPIRfzdSmGFtN3rfURSKyOOHvgO9gY0rq\n",
       "4Seco4rYwtUb9Kpsv67+9WooDE/+KejeYfk0QCI0BB2CrSbYvgCxb0F9CLtQ8qfZwjbYuX/7w8EV\n",
       "eOxAS/UvPirDq3zxPZG7YemCvlzOy02M5y++QAJuls06SoSGoEN836oXLatC9q2lc5RXyBRhM4OD\n",
       "bLU/2sxRRWpTntluXvWNrRIIieBRRuB0VaO+C/J/e0y6xzlsojj8COHPM1SR495/qVnFEwtBR995\n",
       "/XeptUn5P/1T3L/2J/kLBgNDEQAAAABJRU5ErkJggg==\n",
       "\" style=\"display:inline;vertical-align:middle;\" /></a> <a class=\"ProveItLink\" href=\"proof.ipynb\" style=\"text-decoration: none\">&#x22A2;&nbsp;</a><a class=\"ProveItLink\" href=\"../6ddd3491ea24f3a91081555c43fff05bec9790870/expr.ipynb\"><img src=\"data:image/png;base64,iVBORw0KGgoAAAANSUhEUgAAAcUAAAAWBAMAAABDMpqCAAAAMFBMVEX///8QEBC6urrMzMxUVFRm\n",
       "ZmZERETc3NwyMjKqqqp2dnaIiIiYmJgiIiLu7u4AAAAU9Wx4AAAAAXRSTlMAQObYZgAABV1JREFU\n",
       "WMPlmGtoXEUUx8/uZh+9e3c32JIqgllRpFDERVSCglnsh36QalAL2lq79cNW0ZoVSiNGk/WZgNpd\n",
       "EEEIwf1QX1jIaqSI9rEkVCQ+ukUJRV2z/dIG+sij5tEkdZ0zM3dm7mM3Nx/FA/+byZ07Z+Y398zM\n",
       "uQvwP7Bqg7rwmfvr1nmLTCarXSOXEYenN3PZjLZA0+Pux+zoCWK1slEckdLfiwO9/6OzLy0eod0X\n",
       "Heru4jJZ29/k4k/YHvYlmexGW1B71DWisyfw5cR9HIIhLQ6f472D9Ri1PPkTcnrXB52aeVbwmrU9\n",
       "jB4cvfAW9BnXjKE6sddaEsWsFGE8QErBVD1GWnPAKYyLTGbrXcDrmO3p77jsxlrQaCnwwvl6bOcV\n",
       "bw4WrGVEeUyKMOKk+PP1GOmresJp/qtMZjvVjNeztqdv4rIba4EWNUoD9RgHFG8Ops/I8lkpAqF/\n",
       "2tX1KtRlHOvq6io7VG3igmOVI7L+4fHXHgIIWKfMm2WCcOWPfeYq1oLasy4ZqSdzv9Sarj2zwZh1\n",
       "HAIXgYD5dPr3+oyxdHpfwaFqB9elWcg1yxXRFyX7pNZhedhfYIpOxEMzljVEW1D72CUjerL0y0Jr\n",
       "MTNlYOMQuJBxC8De+oxNCQiIMNdrYlW/y5UrwFBKXRETeVhHJ/rxfrQ36SZR4loCbZ5sgCmwtLgH\n",
       "yx+6ZERP5n7F0o5c5WUcAhcy3gpRdSP0vfUIfPmUYPQmYVJW7hbHwnVMOhljjm49l9EzeUm1Inib\n",
       "rYs3znRqAULL4HuMzbZscfc2/P9ml4zoSfbL1jLG6EfNEFs2VkezEDJGICzezoXtT8L3WlWrCkZy\n",
       "fh6VvUyI0ixTiARaDcFpxPnnyYspgW/aejrHmXJliF0hYJRRbTGIN9pdMqIn0S8zGqO7U9BrnEQ4\n",
       "BC6ECJcixkoNP91zGX4qdqiMR+EvOV2LVsbYHPhqtKqFXCLLdILrMtY6oH1aMCotJCOJ8NM8ws0m\n",
       "K6g3o1++jWLYThQxUBwZo1mSrug7Nx8COInVo+93q4yTmFVEt6X/xAiY6X+DO7mBKbYC4UWRhnmu\n",
       "QGAReKzuqqCN0/t5JvLGTmRHOKPaYnBNsZoX/Z786luZ87QmoDPLQKyxCnsfALh4RymSYAnKqHbx\n",
       "XoUxsJ9cXkxpGAXaEuzhDp9n8sxCYC5kbEqhBZgisahbE51Aiak1Dp0dfSojb0EZf7Aw4iCiako9\n",
       "IL2xfntGVuBX4SuXidYSDIQOgYsyfkC67PkGYhkfPSRGoXBIYVy3ixQ6E36MgtA/0JmRGz1ReAmG\n",
       "ltvEvrsSzeUdzg5jJz9R0GrDWZWRtxh0ODvoesWFJg6XAemN9Ru8kIUFmU6UJq8yENvZAR7cnx4k\n",
       "oeIbT6efI4yvXFIY4UbSywxEcI3FytDKHd7OdezM8T19opufT2/BqbB+QnjLTOHKO+euz6iMvAVl\n",
       "fN3C2MIXGi2oOUBZ9NtUVPZwvbIhwUDYELgohI5E62G7N5pk79F7n8r4CznF5mHqBTITU0nfvLGQ\n",
       "MkxOZs/lNnLxw8uWOA2uKZeTnjwJf4dlQhHEmsvxs3ga1t8CWxkjjKmMaC0wdLjwUiaSDGxUMmi9\n",
       "4DyWL2x3xkyZujOjVmz4dahUSE+94LnT/CXHQOgQuASENwU7SnCO/Ot9myQ3YGFs6/96vNpeCvb/\n",
       "Vm34bcWCbJVvq+Bnc5YPlpdzO0FNNVx/W90G/sOWZUFBcAiGNMuL/oSsR3Mup1pJ/Wc/l92a7CEc\n",
       "TDI1sq2uGVfzxIZgSGv8A0O4ogaCzzT2YJHJbsMO97q5GvSVcP9bR/dqDwxLhStr+BEF9P/qT1b/\n",
       "AibX2eVvp5WgAAAAAElFTkSuQmCC\n",
       "\" style=\"display:inline;vertical-align:middle;\" /></a></span></td></tr>\n",
       "</table>"
      ],
      "text/plain": [
       "<proveit._core_.proof._ShowProof at 0x7fe03f73e9b0>"
      ]
     },
     "execution_count": 1,
     "metadata": {},
     "output_type": "execute_result"
    }
   ],
   "source": [
    "import proveit\n",
    "%show_proof"
   ]
  },
  {
   "cell_type": "code",
   "execution_count": null,
   "metadata": {},
   "outputs": [],
   "source": []
  }
 ],
 "metadata": {
  "kernelspec": {
   "display_name": "Python 3",
   "language": "python",
   "name": "python3"
  }
 },
 "nbformat": 4,
 "nbformat_minor": 0
}
