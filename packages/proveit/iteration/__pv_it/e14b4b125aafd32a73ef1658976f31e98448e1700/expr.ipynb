{
 "cells": [
  {
   "cell_type": "markdown",
   "metadata": {},
   "source": [
    "Expression of type <a class=\"ProveItLink\" href=\"../../../../../doc/html/api/proveit.logic.Equals.html\">Equals</a>\n",
    "=======================\n",
    "# from context <a class=\"ProveItLink\" href=\"../../_context_.ipynb\">proveit.iteration</a>"
   ]
  },
  {
   "cell_type": "code",
   "execution_count": 1,
   "metadata": {},
   "outputs": [],
   "source": [
    "# import Expression classes needed to build the expression\n",
    "from proveit._common_ import m\n",
    "from proveit.logic import Equals\n",
    "from proveit.number import Add, four, one, three"
   ]
  },
  {
   "cell_type": "code",
   "execution_count": 2,
   "metadata": {},
   "outputs": [
    {
     "data": {
      "text/html": [
       "<strong id=\"expr\">expr:</strong> <a class=\"ProveItLink\" href=\"expr.ipynb\"><img src=\"data:image/png;base64,iVBORw0KGgoAAAANSUhEUgAAANcAAAAVBAMAAAAnc2Y5AAAAMFBMVEX////c3NwiIiJERESqqqqY\n",
       "mJh2dnZmZmYQEBDu7u4yMjJUVFTMzMyIiIi6uroAAAAs73DqAAAAAXRSTlMAQObYZgAAAmZJREFU\n",
       "SMe9lj+IE0EUxr+Yv7u5W2MhFiocNtq5xVlf6kNJbFJcIQFBq1Ox8CBYeCDCKXhrJ9ckCCLuoZyN\n",
       "TZCksrFwQQQLg8FKBOW0UBCMvjfsJM5knpLGgewOb/b3fTNv384E+K8tSKSRT9LAGfrlhzMAGsIL\n",
       "aXRuhy7ZyAqeO1tFsU+9q25A1FLQQ+kBn3y8JcvsAIKfQIeHnYDQ9oQKmp/K4p30PiCvbi8yoxer\n",
       "+Ao0OI9NGxzYAa+ie29CBZWmpnMqvW/w5V1kRmvK7C4rXbPBDTuQ0wvJrIQK+gjBLOi4zKDSmK1S\n",
       "Z9GutI5oVvBDBV2hp17tGzwNBoumbLHpNvOpDAqXqHPekmbAlBqbnWYzgu7TtfwI7QuombJ+3Wn2\n",
       "fJtVeBHLyiFWbScFTClt5iVsRtBt4DPVSjuxzUpD98rmiQj4fX2wVsaAKaXNCmAzgkZA1B6iFqFl\n",
       "yu4VzLAZYW6X7i8tMwZMKW12UpkRNOISi3AZuMHxVhwfi+Nty2wSPQQs1WWzP6QowfduqgR7TW12\n",
       "nbWAowi+eGYaq46Veb8iNpuksXhEtVADhlS6sly327uVMHQCPBFvhHJnv2GWdRbID+B4BXkukBVr\n",
       "ZQowpMbViBLNhiAq4MwI+V34SdOQVeU9ZfYawTeh9DloSplmNP5elUkhRO5Z3/yoF+iytvmgbkRz\n",
       "ay3Kls+v57H9US/YUpOPuve9zlCpIm1X686oau7tal3cQTQ0vZ/qU6khn1WrPNupHbzx96Ny9V9H\n",
       "jLt5XB9bsxwxGjoojWbEs7DMqX8yAzCGMuLfgsPSwFvetfozACn0G1IBy7ybWyBpAAAAAElFTkSu\n",
       "QmCC\n",
       "\" style=\"display:inline;vertical-align:middle;\" /></a><br>"
      ],
      "text/plain": [
       "expr: (m + (1 + 3)) = (m + 4)"
      ]
     },
     "execution_count": 2,
     "metadata": {},
     "output_type": "execute_result"
    }
   ],
   "source": [
    "# build up the expression from sub-expressions\n",
    "expr = Equals(Add(m, Add(one, three)), Add(m, four))"
   ]
  },
  {
   "cell_type": "code",
   "execution_count": 3,
   "metadata": {},
   "outputs": [
    {
     "name": "stdout",
     "output_type": "stream",
     "text": [
      "Passed sanity check: built 'expr' is the same as the stored Expression.\n"
     ]
    }
   ],
   "source": [
    "# check that the built expression is the same as the stored expression\n",
    "%check_expr"
   ]
  },
  {
   "cell_type": "code",
   "execution_count": 4,
   "metadata": {},
   "outputs": [
    {
     "data": {
      "text/html": [
       "<table><tr><th>&nbsp;</th><th>core type</th><th>sub-expressions</th><th>expression</th></tr>\n",
       "<tr><td>0</td><td>Operation</td><td>operator:&nbsp;1<br>operands:&nbsp;2<br></td><td><a class=\"ProveItLink\" href=\"expr.ipynb\"><img src=\"data:image/png;base64,iVBORw0KGgoAAAANSUhEUgAAANcAAAAVBAMAAAAnc2Y5AAAAMFBMVEX////c3NwiIiJERESqqqqY\n",
       "mJh2dnZmZmYQEBDu7u4yMjJUVFTMzMyIiIi6uroAAAAs73DqAAAAAXRSTlMAQObYZgAAAmZJREFU\n",
       "SMe9lj+IE0EUxr+Yv7u5W2MhFiocNtq5xVlf6kNJbFJcIQFBq1Ox8CBYeCDCKXhrJ9ckCCLuoZyN\n",
       "TZCksrFwQQQLg8FKBOW0UBCMvjfsJM5knpLGgewOb/b3fTNv384E+K8tSKSRT9LAGfrlhzMAGsIL\n",
       "aXRuhy7ZyAqeO1tFsU+9q25A1FLQQ+kBn3y8JcvsAIKfQIeHnYDQ9oQKmp/K4p30PiCvbi8yoxer\n",
       "+Ao0OI9NGxzYAa+ie29CBZWmpnMqvW/w5V1kRmvK7C4rXbPBDTuQ0wvJrIQK+gjBLOi4zKDSmK1S\n",
       "Z9GutI5oVvBDBV2hp17tGzwNBoumbLHpNvOpDAqXqHPekmbAlBqbnWYzgu7TtfwI7QuombJ+3Wn2\n",
       "fJtVeBHLyiFWbScFTClt5iVsRtBt4DPVSjuxzUpD98rmiQj4fX2wVsaAKaXNCmAzgkZA1B6iFqFl\n",
       "yu4VzLAZYW6X7i8tMwZMKW12UpkRNOISi3AZuMHxVhwfi+Nty2wSPQQs1WWzP6QowfduqgR7TW12\n",
       "nbWAowi+eGYaq46Veb8iNpuksXhEtVADhlS6sly327uVMHQCPBFvhHJnv2GWdRbID+B4BXkukBVr\n",
       "ZQowpMbViBLNhiAq4MwI+V34SdOQVeU9ZfYawTeh9DloSplmNP5elUkhRO5Z3/yoF+iytvmgbkRz\n",
       "ay3Kls+v57H9US/YUpOPuve9zlCpIm1X686oau7tal3cQTQ0vZ/qU6khn1WrPNupHbzx96Ny9V9H\n",
       "jLt5XB9bsxwxGjoojWbEs7DMqX8yAzCGMuLfgsPSwFvetfozACn0G1IBy7ybWyBpAAAAAElFTkSu\n",
       "QmCC\n",
       "\" style=\"display:inline;vertical-align:middle;\" /></a></td></tr>\n",
       "<tr><td>1</td><td>Literal</td><td></td><td><a class=\"ProveItLink\" href=\"../../../logic/equality/__pv_it/2fb26078095930560931daa0500ce419a39ea6cd0/expr.ipynb\"><img src=\"data:image/png;base64,iVBORw0KGgoAAAANSUhEUgAAAA4AAAAFBAMAAACHocAhAAAAFVBMVEX///9EREQiIiJUVFQyMjJm\n",
       "ZmYAAADubVkoAAAAAXRSTlMAQObYZgAAABRJREFUCNdjCHEBAWcGXCBICQQUAUpuAwlgGKrkAAAA\n",
       "AElFTkSuQmCC\n",
       "\" style=\"display:inline;vertical-align:middle;\" /></a></td></tr>\n",
       "<tr><td>2</td><td>ExprTuple</td><td>3, 4</td><td><a class=\"ProveItLink\" href=\"../d0374468ca57c769d143e1ac9a91dc615f7dde9f0/expr.ipynb\"><img src=\"data:image/png;base64,iVBORw0KGgoAAAANSUhEUgAAALkAAAAVBAMAAADoXVL6AAAAMFBMVEX////c3NwiIiJERESqqqqY\n",
       "mJh2dnZmZmYQEBDu7u4yMjJUVFTMzMyIiIi6uroAAAAs73DqAAAAAXRSTlMAQObYZgAAAlhJREFU\n",
       "OMu1lT1oFEEUx/+b293bua+shZWIAQstI1xq0wX8IGdjkUIXBAOCEiwSCBYpgoVCsnaS5hYxiBsi\n",
       "sbHIIXeVjYULaQIaXKxEOHMRP7jCwzdzWeLM7WRj4cC+2X3/3R9v3rx5C/zfUYn+WbHio4CvcfNW\n",
       "K3Ml5yvONzerwL1MdGkD+RbNz7VvkMLOK3RjBrsRCpn0oVEgAMoDy3+0P5PCGk1f9trfMTwCy0tn\n",
       "Mje52yb6VcBRl47L+7NQPvqy1xR0tpBON5NQjSmiPwa+QEcXikqnQZlBNYNuF4ieG8cs1cbWsZ1X\n",
       "lZ2qwpnV0Nfomk4e2udOvvfaW+MK/Qqn2zNYJVtcR/0OJhXOaiq9dGuD7IWE7m1G7GdsdmQ6izjd\n",
       "DLAEfKUNrkcD9CVN7NtU7Z+TIxGfBvsNlW6D0ysL6AF+Pcakj3mF09PQnS7wLikS1oPZRT6Q6ZcE\n",
       "vdQRDELfBe5z/3wYng3DNYV+4DVayP04oAv0CBxeofkwfPIgDClxzEvoi/xj4Awqe0yOcjEt9npX\n",
       "0JPM8KiH6IC5/t+xm41G82HEMzMGHjUtsBgcl+ljafRhou0BU/yeSxQ15XXTqMk1A4ditwJeW0YP\n",
       "VgeFyJPp02n0cg27Xl9j38icinEdWLeRQqeK/CT21h6F+bol00nB3PKzmuydmHtK9gWnL7siRTeA\n",
       "ix/U09T8VUMhhuNqO4Gb5u2XiugEFVd7VsWgTjDYkNpJF/fSvP3QBMXK+CPczurAmrGCdLrcMPkh\n",
       "OKGV9cpLYaPD6UWeOEP7klYpt47y56Od/gMb7Los+mN9qwAAAABJRU5ErkJggg==\n",
       "\" style=\"display:inline;vertical-align:middle;\" /></a></td></tr>\n",
       "<tr><td>3</td><td>Operation</td><td>operator:&nbsp;10<br>operands:&nbsp;5<br></td><td><a class=\"ProveItLink\" href=\"../4cdeeb48d71322170c524429519d3e9135684eb50/expr.ipynb\"><img src=\"data:image/png;base64,iVBORw0KGgoAAAANSUhEUgAAAGcAAAAVBAMAAACphe0AAAAAMFBMVEX////MzMyYmJgQEBBmZmYi\n",
       "IiLu7u4yMjKqqqp2dnZUVFTc3NxERESIiIi6uroAAABe5jFNAAAAAXRSTlMAQObYZgAAAV9JREFU\n",
       "OMut0z1Lw0AYB/B/a8xb27OrW1cXcVJEUPGFrILuBtxUSBY5KAj5ApKugi9dFYRU3EToJG5GZwP5\n",
       "AkoXLSJWL2kDvfTOyYPkyPPkx/Pkcgf853iVJablptBkt/t88PjEg1KVIs0G9j9ywRuQb8AdeXlv\n",
       "MEfA7mWG1KA/n3t4B6ZG0NFgnmVXJUN62J/9FO3IEHFFCGl7ZQ/k5Ta6INEDj5SGGGlsfYxlGOYh\n",
       "nDP4PNJqQjRZT55cvI234YR5NBaLK1UWWYszsJ0Yvg2LRxMShCUbhQ4SsQ7MJxGL0k1K6zxSKD2Y\n",
       "ozT52S3gsZYiVmML5Evl2/MEldQfO0GsPVZD7cF0rzlUFi5EF9gOUHRR6qHYgRY2OMSWVYCeQT7T\n",
       "HCtmtKFfVfmfu8E+ZrW7wiN9zWJta7FsGy0MB4dWD6JtlB0jblcSDp3+eTTEQ3WlqNSUZcxAfnTv\n",
       "ZIkn4Bf+uGgHWZBgEAAAAABJRU5ErkJggg==\n",
       "\" style=\"display:inline;vertical-align:middle;\" /></a></td></tr>\n",
       "<tr><td>4</td><td>Operation</td><td>operator:&nbsp;10<br>operands:&nbsp;6<br></td><td><a class=\"ProveItLink\" href=\"../a0c182930b8b75bdcc687e6ab07beaa9a04192ef0/expr.ipynb\"><img src=\"data:image/png;base64,iVBORw0KGgoAAAANSUhEUgAAADUAAAAQBAMAAABEqSrGAAAAMFBMVEX////MzMyYmJgQEBBmZmYi\n",
       "IiLu7u4yMjKqqqp2dnZUVFTc3NxERESIiIi6uroAAABe5jFNAAAAAXRSTlMAQObYZgAAAK1JREFU\n",
       "GNNjYMABGBcw4ASsBzCEsmGMy5hyvVCaWx23HCc7UI7vzu67K/nunkCT0wbJcXLVMuTPY+hHlWO7\n",
       "AJJ7B3RQ/gV0OU4GkFxC/gOG/gQGd1S5RrAcSMKVgcESJOJeXh5cXl4FNHICRA6oI4SB7zcbsj6O\n",
       "VavWW10A6WD7x8BVsAnVnQzMQH3c/xiYPjCwX5iARY7PgIHzAAPHWgE0v6//ooArXLCBt0hsAGFR\n",
       "M5y5v8BtAAAAAElFTkSuQmCC\n",
       "\" style=\"display:inline;vertical-align:middle;\" /></a></td></tr>\n",
       "<tr><td>5</td><td>ExprTuple</td><td>8, 7</td><td><a class=\"ProveItLink\" href=\"../575c2a1117366f4721fc362d05927aea25c378570/expr.ipynb\"><img src=\"data:image/png;base64,iVBORw0KGgoAAAANSUhEUgAAAFUAAAAVBAMAAADFg78FAAAAMFBMVEX////c3NwiIiJERESqqqqY\n",
       "mJh2dnZmZmYQEBDu7u4yMjJUVFTMzMyIiIi6uroAAAAs73DqAAAAAXRSTlMAQObYZgAAAVVJREFU\n",
       "KM+Vk71Lw0AYxn/VpOn1I8RBHHR3tIMOTuY/qJOjFASd/EDwg04O4uBgAy6CQ4PgYERwchGhk4tL\n",
       "QdwsFEcHqR0EC1bvooU0NrVmuNzz8uPlufeeg/98ZqUvbF4td7/K0yGdXlywMcpydxZGD99DhRHM\n",
       "D3AhE7ZwfN1mhfX9X7VpwBwknHDfTJvVftrkfPYInvmTxfcwaLMpd/dD1SuzOhnNJi8hvsapXFMX\n",
       "lFbIRbK350q5HMDLQJZSpQdLRlLmDi1wSjVyDoVolqJDuq5YBa7DXgdreN7JvudJo4zBzKxid6WQ\n",
       "HccxX0X3vuLTUaz0MIXqKFqk3GGcrh6aMGGhuyxBrIVeJ1nJi0ZX9gHzzZ/Zk3/CeBbtpiyK8laN\n",
       "7eZGJ6ttFWw54xoJK5jPoAjOAf+O9XxA6z2SvRzKpB6ddSEzyWig0OOJpJS9WH9v6BG+AGBEYuYo\n",
       "lb1tAAAAAElFTkSuQmCC\n",
       "\" style=\"display:inline;vertical-align:middle;\" /></a></td></tr>\n",
       "<tr><td>6</td><td>ExprTuple</td><td>8, 9</td><td><a class=\"ProveItLink\" href=\"../2b2a6e90a6531404844597a172cc7721c5f1e3720/expr.ipynb\"><img src=\"data:image/png;base64,iVBORw0KGgoAAAANSUhEUgAAADEAAAAVBAMAAAAdjxsPAAAAMFBMVEX////c3NwiIiJERESqqqqY\n",
       "mJh2dnZmZmYQEBDu7u4yMjJUVFTMzMyIiIi6uroAAAAs73DqAAAAAXRSTlMAQObYZgAAARNJREFU\n",
       "KM910SFPw0AUwPH/oC29djRDoPgA2AnwfACSgUEgSB0KQhAIFIJgSKAS1xoEggSFWcjmMZdgECxZ\n",
       "kAgyMLiG91bWNOs4cdd7v7uXd33w/4jsjOCeTs+1cPOBhb6sdzWZa0MGi/VkryI74CfT0NgVuYGP\n",
       "2hUvEJnf4ESqe1kaPEaDtT/ZVvGOuJU5vCc9pFOAsSpOxhV8SjGpnYiHSnRGDkk6pJNwWsjmWJoj\n",
       "FQ0fw0WRLJ7Iuezk9CrRl1Fxut3epdVs6+hpkxNmyxRv8+WOm7EvT8txRwQ2Nt+lSNXv4zq8Ns5T\n",
       "31y3tLjezxbBEL9V7Ui5kb/jxhVxy6+DqS6UYqQLrFSk7EioaRuzuv0Gv0MkPoDJBRxIAAAAAElF\n",
       "TkSuQmCC\n",
       "\" style=\"display:inline;vertical-align:middle;\" /></a></td></tr>\n",
       "<tr><td>7</td><td>Operation</td><td>operator:&nbsp;10<br>operands:&nbsp;11<br></td><td><a class=\"ProveItLink\" href=\"../5bc72ea9d7c58094cf5366357e18a1279b8f3a020/expr.ipynb\"><img src=\"data:image/png;base64,iVBORw0KGgoAAAANSUhEUgAAACwAAAAQBAMAAACfEoDkAAAAMFBMVEX///92dnbMzMy6uroiIiKq\n",
       "qqrc3NyYmJgyMjIQEBBmZmaIiIhUVFTu7u5EREQAAADaqMZ6AAAAAXRSTlMAQObYZgAAAINJREFU\n",
       "GNNjYGB4y4AKFAWfAsl7f1FF2RYw2G9guHMGJsybAKYYvzLwOzAwcMOEWTdAKOzCQAA0BJtwDwMW\n",
       "YSaJAwxYVe80wCrM+RcmzNXR0TKjowOonU2Bge87pur7f7EK8zcwsHzDFOYuYLAXYOBa+WM5qpVR\n",
       "q1qRwwjhEhTAjCQMACDQMGMEWAixAAAAAElFTkSuQmCC\n",
       "\" style=\"display:inline;vertical-align:middle;\" /></a></td></tr>\n",
       "<tr><td>8</td><td>Variable</td><td></td><td><a class=\"ProveItLink\" href=\"../../../__pv_it/78af03acba5349fd70398a32ce59bae1da52f0870/expr.ipynb\"><img src=\"data:image/png;base64,iVBORw0KGgoAAAANSUhEUgAAABIAAAAJBAMAAADN8WE8AAAAMFBMVEX////MzMyYmJgQEBBmZmYi\n",
       "IiLu7u4yMjKqqqp2dnZUVFTc3NxERESIiIi6uroAAABe5jFNAAAAAXRSTlMAQObYZgAAAFtJREFU\n",
       "CNdj4Luz++5KvrsnGBg4uWoZ8ucx9DMwvGM9wJB/AcRKyH/A0J/A4M7AAKJcGRgsgSwgL4SB7zcb\n",
       "iMf2j4GrYBMD9z8Gpg8M7BcmMPAZMHAeYOBYKwAAtXMYHwtZnY0AAAAASUVORK5CYII=\n",
       "\" style=\"display:inline;vertical-align:middle;\" /></a></td></tr>\n",
       "<tr><td>9</td><td>Literal</td><td></td><td><a class=\"ProveItLink\" href=\"../../../number/numeral/__pv_it/23412ce59ea7e77353d2f9225e02248e73651ca00/expr.ipynb\"><img src=\"data:image/png;base64,iVBORw0KGgoAAAANSUhEUgAAAAoAAAAPBAMAAAAv0UM9AAAALVBMVEX///9mZmaqqqru7u52dnYy\n",
       "MjKYmJjc3NwQEBCIiIhEREQiIiJUVFTMzMwAAACUDTcXAAAAAXRSTlMAQObYZgAAAD5JREFUCNdj\n",
       "YGBguMMAArtABGcXiCyLApEOIJKtAERaMoBIBxDJdAFEmjCASJ0zZ16cBCkF64KQPu/EwBwGACv6\n",
       "DSRgin9qAAAAAElFTkSuQmCC\n",
       "\" style=\"display:inline;vertical-align:middle;\" /></a></td></tr>\n",
       "<tr><td>10</td><td>Literal</td><td></td><td><a class=\"ProveItLink\" href=\"../../../number/addition/__pv_it/3e6688136fa3c7aefbebe51301b7c3ebf0b69c440/expr.ipynb\"><img src=\"data:image/png;base64,iVBORw0KGgoAAAANSUhEUgAAAA4AAAAOBAMAAADtZjDiAAAAJFBMVEX///+6urpUVFQQEBAiIiIy\n",
       "MjJmZmaIiIiqqqrc3Nzu7u4AAACgHpL+AAAAAXRSTlMAQObYZgAAAB5JREFUCNdjYGBgWMkAAe2k\n",
       "0Kmhoc6hoUGk6BMHYgAHOwjcado9fwAAAABJRU5ErkJggg==\n",
       "\" style=\"display:inline;vertical-align:middle;\" /></a></td></tr>\n",
       "<tr><td>11</td><td>ExprTuple</td><td>12, 13</td><td><a class=\"ProveItLink\" href=\"../4a1e1fc4940fe3d4dea2df2e48254cb5d80bc01c0/expr.ipynb\"><img src=\"data:image/png;base64,iVBORw0KGgoAAAANSUhEUgAAACkAAAAVBAMAAAAp9toTAAAAMFBMVEX////c3NwiIiJERESqqqqY\n",
       "mJh2dnZmZmYQEBDu7u4yMjJUVFTMzMyIiIi6uroAAAAs73DqAAAAAXRSTlMAQObYZgAAAOpJREFU\n",
       "GNNjYMAO+C6gCcSBiNNAzDwBIsCTluzAwH4AyFrJwMBpDxUVZ+D7y8CwgIGB9wID5+79UNF8B4ZP\n",
       "DAxhDAwcIIH7UFF/sOgMBoZXDEiiDGATmB0YylBFuTYwMLAVMCxFET22GkiwLGDoQ1XLC+TzNTD8\n",
       "QxVl6J/AwPMBVVSGgcE+ACTagiTK+X8CSBRogilMFCTxi4FBX4CBdQFDOlSUE+h8hqsMfN/ALnsE\n",
       "5JT3Lw/g7BcAuqm8ygHo5gcMHAIwX8EYIB+zJkDZrHDH5UJCElWUExiSDNJQDjxKuEFGMaLH0B0G\n",
       "BgBc4kCXqUbjFQAAAABJRU5ErkJggg==\n",
       "\" style=\"display:inline;vertical-align:middle;\" /></a></td></tr>\n",
       "<tr><td>12</td><td>Literal</td><td></td><td><a class=\"ProveItLink\" href=\"../../../number/numeral/__pv_it/9be8badea4c35b9724062cecc501d17a3158d1d20/expr.ipynb\"><img src=\"data:image/png;base64,iVBORw0KGgoAAAANSUhEUgAAAAgAAAAPBAMAAAArJJMAAAAAHlBMVEX///+YmJgyMjIQEBBmZmaI\n",
       "iIhUVFTu7u5EREQAAAAw+MI4AAAAAXRSTlMAQObYZgAAACFJREFUCNdjYGBoZ2BgqJjOwFCWBiQY\n",
       "WEklWJwnOTKAAACjEQo8HvEr3AAAAABJRU5ErkJggg==\n",
       "\" style=\"display:inline;vertical-align:middle;\" /></a></td></tr>\n",
       "<tr><td>13</td><td>Literal</td><td></td><td><a class=\"ProveItLink\" href=\"../../../number/numeral/__pv_it/9176d93c83afa2c995b614976e3cb49207102fa70/expr.ipynb\"><img src=\"data:image/png;base64,iVBORw0KGgoAAAANSUhEUgAAAAoAAAAOBAMAAADkjZCYAAAAMFBMVEX///+YmJju7u4QEBBUVFQy\n",
       "MjIiIiKIiIi6urpmZmbc3NyqqqpERER2dnbMzMwAAAB0GlNiAAAAAXRSTlMAQObYZgAAAE1JREFU\n",
       "CNdjYHh79zQDA9cEhv4CBt7fDPwJDNxgEgiAIkAQAsR8Vx1ATIbiBhDJ/ImB6wEDz0cG/U8gkj+A\n",
       "ge0XA7sAQ/8FBoadM6MZAEflFACalZ/OAAAAAElFTkSuQmCC\n",
       "\" style=\"display:inline;vertical-align:middle;\" /></a></td></tr>\n",
       "</table>\n"
      ],
      "text/plain": [
       "0. (m + (1 + 3)) = (m + 4)\n",
       "   core type: Operation\n",
       "   operator: 1\n",
       "   operands: 2\n",
       "1. =\n",
       "   core type: Literal\n",
       "   sub-expressions: \n",
       "2. (m + (1 + 3) , m + 4)\n",
       "   core type: ExprTuple\n",
       "   sub-expressions: 3, 4\n",
       "3. m + (1 + 3)\n",
       "   core type: Operation\n",
       "   operator: 10\n",
       "   operands: 5\n",
       "4. m + 4\n",
       "   core type: Operation\n",
       "   operator: 10\n",
       "   operands: 6\n",
       "5. (m , 1 + 3)\n",
       "   core type: ExprTuple\n",
       "   sub-expressions: 8, 7\n",
       "6. (m , 4)\n",
       "   core type: ExprTuple\n",
       "   sub-expressions: 8, 9\n",
       "7. 1 + 3\n",
       "   core type: Operation\n",
       "   operator: 10\n",
       "   operands: 11\n",
       "8. m\n",
       "   core type: Variable\n",
       "   sub-expressions: \n",
       "9. 4\n",
       "   core type: Literal\n",
       "   sub-expressions: \n",
       "10. +\n",
       "    core type: Literal\n",
       "    sub-expressions: \n",
       "11. (1 , 3)\n",
       "    core type: ExprTuple\n",
       "    sub-expressions: 12, 13\n",
       "12. 1\n",
       "    core type: Literal\n",
       "    sub-expressions: \n",
       "13. 3\n",
       "    core type: Literal\n",
       "    sub-expressions: "
      ]
     },
     "execution_count": 4,
     "metadata": {},
     "output_type": "execute_result"
    }
   ],
   "source": [
    "# display the expression information\n",
    "expr.exprInfo()"
   ]
  },
  {
   "cell_type": "code",
   "execution_count": null,
   "metadata": {},
   "outputs": [],
   "source": []
  }
 ],
 "metadata": {
  "kernelspec": {
   "display_name": "Python 3",
   "language": "python",
   "name": "python3"
  }
 },
 "nbformat": 4,
 "nbformat_minor": 0
}
