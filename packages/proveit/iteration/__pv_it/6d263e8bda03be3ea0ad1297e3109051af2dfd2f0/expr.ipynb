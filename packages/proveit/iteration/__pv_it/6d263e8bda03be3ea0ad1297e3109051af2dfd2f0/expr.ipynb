{
 "cells": [
  {
   "cell_type": "markdown",
   "metadata": {},
   "source": [
    "Expression of type <a class=\"ProveItLink\" href=\"../../../../../doc/html/api/proveit.ExprTuple.html\">ExprTuple</a>\n",
    "=======================\n",
    "# from context <a class=\"ProveItLink\" href=\"../../_context_.ipynb\">proveit.iteration</a>"
   ]
  },
  {
   "cell_type": "code",
   "execution_count": 1,
   "metadata": {},
   "outputs": [],
   "source": [
    "# import Expression classes needed to build the expression\n",
    "from proveit import ExprTuple\n",
    "from proveit._common_ import j, k\n",
    "from proveit.number import Add, Naturals"
   ]
  },
  {
   "cell_type": "code",
   "execution_count": 2,
   "metadata": {},
   "outputs": [
    {
     "data": {
      "text/html": [
       "<strong id=\"expr\">expr:</strong> <a class=\"ProveItLink\" href=\"expr.ipynb\"><img src=\"data:image/png;base64,iVBORw0KGgoAAAANSUhEUgAAAFMAAAAVBAMAAADInc9CAAAAMFBMVEX////c3NwiIiJERESqqqqY\n",
       "mJh2dnZmZmYQEBDu7u4yMjJUVFTMzMyIiIi6uroAAAAs73DqAAAAAXRSTlMAQObYZgAAAYNJREFU\n",
       "KM+V079LAmEYB/Cv6amnp97e0hI1uhjUEPcPRE01BGlTEAQi5NAQDs1xLSEOeYuB1xK2NBxxELS4\n",
       "3CokaKMQmRU1iPQ+53ndezjYO9w97/N+eO95fxzwj5a0ZlF79GjSIytzA+L9ghNVPtZUFAZKxGSd\n",
       "OmV2fZPE8pMoI6WBPqABCe77F847pUwyDbMNlIBtIKp66YbzfnOzD/W4SbQM9DCNHroZoynWiQYV\n",
       "FGkV7VUfvcbOyKEh65FoOI8a64axyFNxdHn16VCcChajIQ3nrNvCF09DQ3exBuKqwWiyBPqOnHzn\n",
       "aWTQ+aPibYVRqW9ThO0dP9H1ZV2/YdFcq6G6FE/SmJ5xO+7MWjVTiuxSQUnbBWTsIYWnWVQ7OYgO\n",
       "xT6jgoYD6m+qPL1DSrZQpbLWqXTN3qwXGir4jqCGRFFFmS2298NmFBmNdRClmpb8pzVuXU/MDlbI\n",
       "oRsYThKvHN3yxEd0CaXvYH76ffZQqgHz4srxdJnwxHGqMzDTD/MM/ALsF2bp9cvO2QAAAABJRU5E\n",
       "rkJggg==\n",
       "\" style=\"display:inline;vertical-align:middle;\" /></a><br>"
      ],
      "text/plain": [
       "expr: (j + k , Naturals)"
      ]
     },
     "execution_count": 2,
     "metadata": {},
     "output_type": "execute_result"
    }
   ],
   "source": [
    "# build up the expression from sub-expressions\n",
    "expr = ExprTuple(Add(j, k), Naturals)"
   ]
  },
  {
   "cell_type": "code",
   "execution_count": 3,
   "metadata": {},
   "outputs": [
    {
     "name": "stdout",
     "output_type": "stream",
     "text": [
      "Passed sanity check: built 'expr' is the same as the stored Expression.\n"
     ]
    }
   ],
   "source": [
    "# check that the built expression is the same as the stored expression\n",
    "%check_expr"
   ]
  },
  {
   "cell_type": "code",
   "execution_count": 4,
   "metadata": {},
   "outputs": [
    {
     "data": {
      "text/html": [
       "<table><tr><th>&nbsp;</th><th>core type</th><th>sub-expressions</th><th>expression</th></tr>\n",
       "<tr><td>0</td><td>ExprTuple</td><td>1, 2</td><td><a class=\"ProveItLink\" href=\"expr.ipynb\"><img src=\"data:image/png;base64,iVBORw0KGgoAAAANSUhEUgAAAFMAAAAVBAMAAADInc9CAAAAMFBMVEX////c3NwiIiJERESqqqqY\n",
       "mJh2dnZmZmYQEBDu7u4yMjJUVFTMzMyIiIi6uroAAAAs73DqAAAAAXRSTlMAQObYZgAAAYNJREFU\n",
       "KM+V079LAmEYB/Cv6amnp97e0hI1uhjUEPcPRE01BGlTEAQi5NAQDs1xLSEOeYuB1xK2NBxxELS4\n",
       "3CokaKMQmRU1iPQ+53ndezjYO9w97/N+eO95fxzwj5a0ZlF79GjSIytzA+L9ghNVPtZUFAZKxGSd\n",
       "OmV2fZPE8pMoI6WBPqABCe77F847pUwyDbMNlIBtIKp66YbzfnOzD/W4SbQM9DCNHroZoynWiQYV\n",
       "FGkV7VUfvcbOyKEh65FoOI8a64axyFNxdHn16VCcChajIQ3nrNvCF09DQ3exBuKqwWiyBPqOnHzn\n",
       "aWTQ+aPibYVRqW9ThO0dP9H1ZV2/YdFcq6G6FE/SmJ5xO+7MWjVTiuxSQUnbBWTsIYWnWVQ7OYgO\n",
       "xT6jgoYD6m+qPL1DSrZQpbLWqXTN3qwXGir4jqCGRFFFmS2298NmFBmNdRClmpb8pzVuXU/MDlbI\n",
       "oRsYThKvHN3yxEd0CaXvYH76ffZQqgHz4srxdJnwxHGqMzDTD/MM/ALsF2bp9cvO2QAAAABJRU5E\n",
       "rkJggg==\n",
       "\" style=\"display:inline;vertical-align:middle;\" /></a></td></tr>\n",
       "<tr><td>1</td><td>Operation</td><td>operator:&nbsp;3<br>operands:&nbsp;4<br></td><td><a class=\"ProveItLink\" href=\"../b71f772d994c94980d974a0bceca7b97241b18540/expr.ipynb\"><img src=\"data:image/png;base64,iVBORw0KGgoAAAANSUhEUgAAADAAAAASBAMAAADvSECJAAAAMFBMVEX///8QEBDMzMyqqqpmZmYy\n",
       "MjK6uroiIiJ2dnZERESIiIju7u5UVFTc3NyYmJgAAACtHSfyAAAAAXRSTlMAQObYZgAAAK5JREFU\n",
       "GNNjYGBg4PvLgAK4DxZAGHwHUCUYWB3QVF6AMvgNUCWYF0AZ+RtwSLRCqF0rN6BJRDA8+QakGtgf\n",
       "oEpwf9ux7TMDA9cGfjQJ5k9gBi9D/gVUCZbvCRBGO5gXGhouGhoK8hL76uMQW0PQXLVfgd8AZAj3\n",
       "ZzSJ9wz7ExpA/N9oEicZ+C+AmCwFaBJxDFweIEvYHdB9DgZsF+4rwJgoEvoOUxiwgp0tD7CKAwCZ\n",
       "hDILDlkdAQAAAABJRU5ErkJggg==\n",
       "\" style=\"display:inline;vertical-align:middle;\" /></a></td></tr>\n",
       "<tr><td>2</td><td>Literal</td><td></td><td><a class=\"ProveItLink\" href=\"../../../number/sets/integer/__pv_it/e5d9bd86b06b357eee742ad868997123619e09700/expr.ipynb\"><img src=\"data:image/png;base64,iVBORw0KGgoAAAANSUhEUgAAAA8AAAAOBAMAAAACpFvcAAAAMFBMVEX////c3Nx2dna6uroQEBCI\n",
       "iIhUVFTMzMyYmJiqqqoiIiJmZmZEREQyMjLu7u4AAADjlg78AAAAAXRSTlMAQObYZgAAAGBJREFU\n",
       "CNdjePvn7AOGXb8mMDCcYD/AwPCBgYEhqyCUgcEByEi+x1YAZqSX8d2DMDgDaiAMhs0cARAG24N0\n",
       "CIMv4S2EwVDEDmVwTDgAYTAoghiHgZj7AgOD7Rcgj+8CAwA9oh2B0HK+MAAAAABJRU5ErkJggg==\n",
       "\" style=\"display:inline;vertical-align:middle;\" /></a></td></tr>\n",
       "<tr><td>3</td><td>Literal</td><td></td><td><a class=\"ProveItLink\" href=\"../../../number/addition/__pv_it/3e6688136fa3c7aefbebe51301b7c3ebf0b69c440/expr.ipynb\"><img src=\"data:image/png;base64,iVBORw0KGgoAAAANSUhEUgAAAA4AAAAOBAMAAADtZjDiAAAAJFBMVEX///+6urpUVFQQEBAiIiIy\n",
       "MjJmZmaIiIiqqqrc3Nzu7u4AAACgHpL+AAAAAXRSTlMAQObYZgAAAB5JREFUCNdjYGBgWMkAAe2k\n",
       "0Kmhoc6hoUGk6BMHYgAHOwjcado9fwAAAABJRU5ErkJggg==\n",
       "\" style=\"display:inline;vertical-align:middle;\" /></a></td></tr>\n",
       "<tr><td>4</td><td>ExprTuple</td><td>5, 6</td><td><a class=\"ProveItLink\" href=\"../b913345561c55a019ccc63672757d0f12b9709f20/expr.ipynb\"><img src=\"data:image/png;base64,iVBORw0KGgoAAAANSUhEUgAAACkAAAAVBAMAAAAp9toTAAAAMFBMVEX////c3NwiIiJERESqqqqY\n",
       "mJh2dnZmZmYQEBDu7u4yMjJUVFTMzMyIiIi6uroAAAAs73DqAAAAAXRSTlMAQObYZgAAAQhJREFU\n",
       "GNNjYMAO+C6gCcSBiNMgIl4ALDC7CUiwHwASK0HcaKi65SBiAQMDL4oBX0BEGAMDxwRkO36CyBkM\n",
       "DK+QlbItAJHMDgxlQIrzriVElCuBtf4BA1sBw1KQEgZViOj8l5nvHRhYFjD0ATk3Gb5CRP3Pgk1v\n",
       "YPgHpAT4PkJE6/VAJM8HsCgDmwJEVHe2JkS0BWxLAViQ8w/DF0awCaZgWxwYOIEU6wfOf2xAagFD\n",
       "OtiWCQzzgYZwGzB85GUAuewRSLQI6CGghVwBDNczgdQDBg5QaKkD8UO4D4E+Zk1geMj4B8gOgIvm\n",
       "gkKS5ztzAbIoJygwpDnNSoEUL1wpN8hMRvQYusPAAAD6Jjrk3upVsAAAAABJRU5ErkJggg==\n",
       "\" style=\"display:inline;vertical-align:middle;\" /></a></td></tr>\n",
       "<tr><td>5</td><td>Variable</td><td></td><td><a class=\"ProveItLink\" href=\"../../../__pv_it/612356038763a16ceac85a062629d016c986635c0/expr.ipynb\"><img src=\"data:image/png;base64,iVBORw0KGgoAAAANSUhEUgAAAAoAAAASBAMAAACQmVJ4AAAALVBMVEX////MzMyqqqpmZmYyMjK6\n",
       "uroiIiJ2dnZERESIiIju7u5UVFTc3NyYmJgAAAAeP2GyAAAAAXRSTlMAQObYZgAAAE1JREFUCNdj\n",
       "YGBg4H3DACI3MGADK2csAJIFbBcYGDgX8AFJHoa4AyCJMrC0M4jgegQimV6BSOYEEMlmwMDAeuCc\n",
       "AAODnEEzkL+iGKgTAMbaDxjCuhcwAAAAAElFTkSuQmCC\n",
       "\" style=\"display:inline;vertical-align:middle;\" /></a></td></tr>\n",
       "<tr><td>6</td><td>Variable</td><td></td><td><a class=\"ProveItLink\" href=\"../../../__pv_it/1a7356cf6caf039e07a5436d90e972cbb5e92b0a0/expr.ipynb\"><img src=\"data:image/png;base64,iVBORw0KGgoAAAANSUhEUgAAAAoAAAAOBAMAAADkjZCYAAAAMFBMVEX///9ERETc3NyIiIjMzMyY\n",
       "mJh2dna6urqqqqpmZmYyMjIiIiIQEBBUVFTu7u4AAAD6+w4kAAAAAXRSTlMAQObYZgAAAFBJREFU\n",
       "CNdj4LuzgQEIuCaASP4GEFn/AERmgQiGZQyR3xn4vj97/oOB44sBUIDzdwGQ5La7DVT03oG/QYEh\n",
       "nuF9QQLDRQZ+BQOGpQzM0x4AAD+VFjuIiDKbAAAAAElFTkSuQmCC\n",
       "\" style=\"display:inline;vertical-align:middle;\" /></a></td></tr>\n",
       "</table>\n"
      ],
      "text/plain": [
       "0. (j + k , Naturals)\n",
       "   core type: ExprTuple\n",
       "   sub-expressions: 1, 2\n",
       "1. j + k\n",
       "   core type: Operation\n",
       "   operator: 3\n",
       "   operands: 4\n",
       "2. Naturals\n",
       "   core type: Literal\n",
       "   sub-expressions: \n",
       "3. +\n",
       "   core type: Literal\n",
       "   sub-expressions: \n",
       "4. (j , k)\n",
       "   core type: ExprTuple\n",
       "   sub-expressions: 5, 6\n",
       "5. j\n",
       "   core type: Variable\n",
       "   sub-expressions: \n",
       "6. k\n",
       "   core type: Variable\n",
       "   sub-expressions: "
      ]
     },
     "execution_count": 4,
     "metadata": {},
     "output_type": "execute_result"
    }
   ],
   "source": [
    "# display the expression information\n",
    "expr.exprInfo()"
   ]
  },
  {
   "cell_type": "code",
   "execution_count": null,
   "metadata": {},
   "outputs": [],
   "source": []
  }
 ],
 "metadata": {
  "kernelspec": {
   "display_name": "Python 3",
   "language": "python",
   "name": "python3"
  }
 },
 "nbformat": 4,
 "nbformat_minor": 0
}
