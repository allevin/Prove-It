{
 "cells": [
  {
   "cell_type": "markdown",
   "metadata": {},
   "source": [
    "Expression of type <a class=\"ProveItLink\" href=\"../../../../../doc/html/api/proveit.ExprTuple.html\">ExprTuple</a>\n",
    "=======================\n",
    "# from context <a class=\"ProveItLink\" href=\"../../_context_.ipynb\">proveit.iteration</a>"
   ]
  },
  {
   "cell_type": "code",
   "execution_count": 1,
   "metadata": {},
   "outputs": [],
   "source": [
    "# import Expression classes needed to build the expression\n",
    "from proveit import ExprTuple\n",
    "from proveit._common_ import k, l, m\n",
    "from proveit.number import Add, Neg, four, two"
   ]
  },
  {
   "cell_type": "code",
   "execution_count": 2,
   "metadata": {},
   "outputs": [
    {
     "data": {
      "text/html": [
       "<strong id=\"expr\">expr:</strong> <a class=\"ProveItLink\" href=\"expr.ipynb\"><img src=\"data:image/png;base64,iVBORw0KGgoAAAANSUhEUgAAAJsAAAAVBAMAAACj9YEXAAAAMFBMVEX////c3NwiIiJERESqqqqY\n",
       "mJh2dnZmZmYQEBDu7u4yMjJUVFTMzMyIiIi6uroAAAAs73DqAAAAAXRSTlMAQObYZgAAAh1JREFU\n",
       "OMutlDFoFEEUhv899/Z2Ltm7xVIRgzZWXiysbK6z0MDZKFjoghBREA6FCGm0sBAlsjaSRm9RIrgi\n",
       "Bm00KS69hQsWKlqMViIcOUOMCOfFN3O34Js7Nynuwe68mbfz7Xvz3htgxFJKRkU6o15vAPFqwrA4\n",
       "Fcnm1tVHMps1vojCCo1P6CnWTetZPt0Nbz0bl5sEIsBTsZar6erd/jjLP34NVIZBhJ9qHwh3EnBD\n",
       "0lfDdHWqP87xbTdDNIdFa6cHb50m3DzwXU0uwsBZHb7teYhrmTinSLgdVcyoyWOc6jJcvj2ws9KL\n",
       "oHVoz6eg9a5q4E4onFPHgjqB7r0H6ww3NjmQuY3eGCwlYkPabY4TicLZEe6oxU5iBOsOFGOx94OS\n",
       "3A/xBybO0fbSdaggC2vSwL1VJYRd+5Qc1CtX+m6ILuzfKEQcd1zjxtsal/v4Qh/MbBwfiOOnKu2m\n",
       "c95ievjEmoAbKC/i+OGtOCaLCFLcDVpvrJSrPvPuiDBwR2H1viC/cnWs+uG/3tnLy83biQr2sG6B\n",
       "hgwY7qdjJKKOvK9/QX41JJasGs8sXPIuH+E8qS9R9hOG69znuJ3T05fRUJ29V6oGfOZgCI4K5Sup\n",
       "C/BmQoZ7f8Eous3NNcz/IO0bcA449tks4+avGooSrs/2TWW1+Zf/d4UWarJ8wOytLFxti8vyUv+C\n",
       "2qbUss0i0lfZdsXbwj6mzs0a2eVO6fkLpKeOjFMC7t8AAAAASUVORK5CYII=\n",
       "\" style=\"display:inline;vertical-align:middle;\" /></a><br>"
      ],
      "text/plain": [
       "expr: (k + l - 2 , m + 4)"
      ]
     },
     "execution_count": 2,
     "metadata": {},
     "output_type": "execute_result"
    }
   ],
   "source": [
    "# build up the expression from sub-expressions\n",
    "expr = ExprTuple(Add(k, l, Neg(two)), Add(m, four))"
   ]
  },
  {
   "cell_type": "code",
   "execution_count": 3,
   "metadata": {},
   "outputs": [
    {
     "name": "stdout",
     "output_type": "stream",
     "text": [
      "Passed sanity check: built 'expr' is the same as the stored Expression.\n"
     ]
    }
   ],
   "source": [
    "# check that the built expression is the same as the stored expression\n",
    "%check_expr"
   ]
  },
  {
   "cell_type": "code",
   "execution_count": 4,
   "metadata": {},
   "outputs": [
    {
     "data": {
      "text/html": [
       "<table><tr><th>&nbsp;</th><th>core type</th><th>sub-expressions</th><th>expression</th></tr>\n",
       "<tr><td>0</td><td>ExprTuple</td><td>1, 2</td><td><a class=\"ProveItLink\" href=\"expr.ipynb\"><img src=\"data:image/png;base64,iVBORw0KGgoAAAANSUhEUgAAAJsAAAAVBAMAAACj9YEXAAAAMFBMVEX////c3NwiIiJERESqqqqY\n",
       "mJh2dnZmZmYQEBDu7u4yMjJUVFTMzMyIiIi6uroAAAAs73DqAAAAAXRSTlMAQObYZgAAAh1JREFU\n",
       "OMutlDFoFEEUhv899/Z2Ltm7xVIRgzZWXiysbK6z0MDZKFjoghBREA6FCGm0sBAlsjaSRm9RIrgi\n",
       "Bm00KS69hQsWKlqMViIcOUOMCOfFN3O34Js7Nynuwe68mbfz7Xvz3htgxFJKRkU6o15vAPFqwrA4\n",
       "Fcnm1tVHMps1vojCCo1P6CnWTetZPt0Nbz0bl5sEIsBTsZar6erd/jjLP34NVIZBhJ9qHwh3EnBD\n",
       "0lfDdHWqP87xbTdDNIdFa6cHb50m3DzwXU0uwsBZHb7teYhrmTinSLgdVcyoyWOc6jJcvj2ws9KL\n",
       "oHVoz6eg9a5q4E4onFPHgjqB7r0H6ww3NjmQuY3eGCwlYkPabY4TicLZEe6oxU5iBOsOFGOx94OS\n",
       "3A/xBybO0fbSdaggC2vSwL1VJYRd+5Qc1CtX+m6ILuzfKEQcd1zjxtsal/v4Qh/MbBwfiOOnKu2m\n",
       "c95ievjEmoAbKC/i+OGtOCaLCFLcDVpvrJSrPvPuiDBwR2H1viC/cnWs+uG/3tnLy83biQr2sG6B\n",
       "hgwY7qdjJKKOvK9/QX41JJasGs8sXPIuH+E8qS9R9hOG69znuJ3T05fRUJ29V6oGfOZgCI4K5Sup\n",
       "C/BmQoZ7f8Eous3NNcz/IO0bcA449tks4+avGooSrs/2TWW1+Zf/d4UWarJ8wOytLFxti8vyUv+C\n",
       "2qbUss0i0lfZdsXbwj6mzs0a2eVO6fkLpKeOjFMC7t8AAAAASUVORK5CYII=\n",
       "\" style=\"display:inline;vertical-align:middle;\" /></a></td></tr>\n",
       "<tr><td>1</td><td>Operation</td><td>operator:&nbsp;4<br>operands:&nbsp;3<br></td><td><a class=\"ProveItLink\" href=\"../9fb794f87945da6cb5ed5f7c3dcc47daac512a0f0/expr.ipynb\"><img src=\"data:image/png;base64,iVBORw0KGgoAAAANSUhEUgAAAE4AAAAQBAMAAABKAFSpAAAAMFBMVEX///9ERETc3NyIiIjMzMyY\n",
       "mJh2dna6urqqqqpmZmYyMjIiIiIQEBBUVFTu7u4AAAD6+w4kAAAAAXRSTlMAQObYZgAAAPFJREFU\n",
       "KM9j4LuzgQENZH9H5WvOEgeSXBPQ1bF+QOEyXWCwb2Bg4G+ACTyC0pwLUNTxPmDgBuqsfwATaIbS\n",
       "PAYo6njOMfACXZLFgK5O3wFFHdc/Bk6gumUMkd9R1cWjO5iB+x8D3/dnz3+gqruIoc4/gYHjiwG6\n",
       "vYcx1C0Eeu53AZo6li8gUms3CGyHBIAA0Gq722APz1q1as+qVWuBLOYD6MbZAvF7B/4GBRTzGC88\n",
       "QFXGMYFBCei59wUJKOr4AxJQ1XkyMAQBPcevYICqzg81nJm2pWVuYFjKwDztAYo6OB8WeP///0dJ\n",
       "K80MxIFiPHIAdBJEXw+WXgMAAAAASUVORK5CYII=\n",
       "\" style=\"display:inline;vertical-align:middle;\" /></a></td></tr>\n",
       "<tr><td>2</td><td>Operation</td><td>operator:&nbsp;4<br>operands:&nbsp;5<br></td><td><a class=\"ProveItLink\" href=\"../a0c182930b8b75bdcc687e6ab07beaa9a04192ef0/expr.ipynb\"><img src=\"data:image/png;base64,iVBORw0KGgoAAAANSUhEUgAAADUAAAAQBAMAAABEqSrGAAAAMFBMVEX////MzMyYmJgQEBBmZmYi\n",
       "IiLu7u4yMjKqqqp2dnZUVFTc3NxERESIiIi6uroAAABe5jFNAAAAAXRSTlMAQObYZgAAAK1JREFU\n",
       "GNNjYMABGBcw4ASsBzCEsmGMy5hyvVCaWx23HCc7UI7vzu67K/nunkCT0wbJcXLVMuTPY+hHlWO7\n",
       "AJJ7B3RQ/gV0OU4GkFxC/gOG/gQGd1S5RrAcSMKVgcESJOJeXh5cXl4FNHICRA6oI4SB7zcbsj6O\n",
       "VavWW10A6WD7x8BVsAnVnQzMQH3c/xiYPjCwX5iARY7PgIHzAAPHWgE0v6//ooArXLCBt0hsAGFR\n",
       "M5y5v8BtAAAAAElFTkSuQmCC\n",
       "\" style=\"display:inline;vertical-align:middle;\" /></a></td></tr>\n",
       "<tr><td>3</td><td>ExprTuple</td><td>6, 7, 8</td><td><a class=\"ProveItLink\" href=\"../89aeb57c45d7d0866f75d98b9d8ab3cea11a4ed20/expr.ipynb\"><img src=\"data:image/png;base64,iVBORw0KGgoAAAANSUhEUgAAAEsAAAAVBAMAAAD85A5eAAAAMFBMVEX////c3NwiIiJERESqqqqY\n",
       "mJh2dnZmZmYQEBDu7u4yMjJUVFTMzMyIiIi6uroAAAAs73DqAAAAAXRSTlMAQObYZgAAAWBJREFU\n",
       "KM+Nkj9Iw1AQxr+gLyZpU4KjLuLmoHFxcunmaCdH7VTpIBQFBZeIOLioGQtFGhARp7o62V1ENx0c\n",
       "opsuthIFIbTeyz/6ErA+SO7ex+/du7t3wD9X4WEYscp/t0BjP1Zk0xUIaefMxVibvEv6LhJ9TQw0\n",
       "Cd0DHEDnd3qJviti14AJrACKTen9JPqRiB3auHFRB955Rk6Siy9iLRuWi5EitmmjlZkVps46mTpN\n",
       "G3IN5+Q136ofxUDLzaep/Dcw6uCY3OW7WFQyTdToYGEPPXKtuVi8b4d2YpovLm/xiJ0Am23MRNhT\n",
       "Oph+FWIHgOrDk0J1UU1hS5AMfukCL0/tyQA1EF8yBDBfAzPAHKwH5XV1qJ8k+6doTg1g45XKJnhD\n",
       "XqmYEh6rUE8McFvvDjat36fTmgvFSCYq8l4yHabHYuV4wyJbymAb0SD9jalOMFLRih5AzwTL8Wyk\n",
       "oUP+DPwCgYVQ52JpMSQAAAAASUVORK5CYII=\n",
       "\" style=\"display:inline;vertical-align:middle;\" /></a></td></tr>\n",
       "<tr><td>4</td><td>Literal</td><td></td><td><a class=\"ProveItLink\" href=\"../../../number/addition/__pv_it/3e6688136fa3c7aefbebe51301b7c3ebf0b69c440/expr.ipynb\"><img src=\"data:image/png;base64,iVBORw0KGgoAAAANSUhEUgAAAA4AAAAOBAMAAADtZjDiAAAAJFBMVEX///+6urpUVFQQEBAiIiIy\n",
       "MjJmZmaIiIiqqqrc3Nzu7u4AAACgHpL+AAAAAXRSTlMAQObYZgAAAB5JREFUCNdjYGBgWMkAAe2k\n",
       "0Kmhoc6hoUGk6BMHYgAHOwjcado9fwAAAABJRU5ErkJggg==\n",
       "\" style=\"display:inline;vertical-align:middle;\" /></a></td></tr>\n",
       "<tr><td>5</td><td>ExprTuple</td><td>9, 10</td><td><a class=\"ProveItLink\" href=\"../2b2a6e90a6531404844597a172cc7721c5f1e3720/expr.ipynb\"><img src=\"data:image/png;base64,iVBORw0KGgoAAAANSUhEUgAAADEAAAAVBAMAAAAdjxsPAAAAMFBMVEX////c3NwiIiJERESqqqqY\n",
       "mJh2dnZmZmYQEBDu7u4yMjJUVFTMzMyIiIi6uroAAAAs73DqAAAAAXRSTlMAQObYZgAAARNJREFU\n",
       "KM910SFPw0AUwPH/oC29djRDoPgA2AnwfACSgUEgSB0KQhAIFIJgSKAS1xoEggSFWcjmMZdgECxZ\n",
       "kAgyMLiG91bWNOs4cdd7v7uXd33w/4jsjOCeTs+1cPOBhb6sdzWZa0MGi/VkryI74CfT0NgVuYGP\n",
       "2hUvEJnf4ESqe1kaPEaDtT/ZVvGOuJU5vCc9pFOAsSpOxhV8SjGpnYiHSnRGDkk6pJNwWsjmWJoj\n",
       "FQ0fw0WRLJ7Iuezk9CrRl1Fxut3epdVs6+hpkxNmyxRv8+WOm7EvT8txRwQ2Nt+lSNXv4zq8Ns5T\n",
       "31y3tLjezxbBEL9V7Ui5kb/jxhVxy6+DqS6UYqQLrFSk7EioaRuzuv0Gv0MkPoDJBRxIAAAAAElF\n",
       "TkSuQmCC\n",
       "\" style=\"display:inline;vertical-align:middle;\" /></a></td></tr>\n",
       "<tr><td>6</td><td>Variable</td><td></td><td><a class=\"ProveItLink\" href=\"../../../__pv_it/1a7356cf6caf039e07a5436d90e972cbb5e92b0a0/expr.ipynb\"><img src=\"data:image/png;base64,iVBORw0KGgoAAAANSUhEUgAAAAoAAAAOBAMAAADkjZCYAAAAMFBMVEX///9ERETc3NyIiIjMzMyY\n",
       "mJh2dna6urqqqqpmZmYyMjIiIiIQEBBUVFTu7u4AAAD6+w4kAAAAAXRSTlMAQObYZgAAAFBJREFU\n",
       "CNdj4LuzgQEIuCaASP4GEFn/AERmgQiGZQyR3xn4vj97/oOB44sBUIDzdwGQ5La7DVT03oG/QYEh\n",
       "nuF9QQLDRQZ+BQOGpQzM0x4AAD+VFjuIiDKbAAAAAElFTkSuQmCC\n",
       "\" style=\"display:inline;vertical-align:middle;\" /></a></td></tr>\n",
       "<tr><td>7</td><td>Variable</td><td></td><td><a class=\"ProveItLink\" href=\"../../../__pv_it/3e5d49a51123592869b160296a6e123a424e07a70/expr.ipynb\"><img src=\"data:image/png;base64,iVBORw0KGgoAAAANSUhEUgAAAAYAAAAOBAMAAAD+sXAWAAAALVBMVEX////u7u5ERERUVFTMzMzc\n",
       "3NyIiIgQEBAyMjJmZmaYmJi6uroiIiJ2dnYAAACuOh6BAAAAAXRSTlMAQObYZgAAAD9JREFUCNdj\n",
       "YLjzmoGB6wEDA2cDAwN7AgNDnAMDwzoGBgYjIC5jYGB5wsDAVsDAwGQgwMC34AIDn2MCA9tcAQAo\n",
       "GAoWIEgceAAAAABJRU5ErkJggg==\n",
       "\" style=\"display:inline;vertical-align:middle;\" /></a></td></tr>\n",
       "<tr><td>8</td><td>Operation</td><td>operator:&nbsp;11<br>operand:&nbsp;12<br></td><td><a class=\"ProveItLink\" href=\"../9cd64560928a3eea5b8bd346c0fe76e791b1ec050/expr.ipynb\"><img src=\"data:image/png;base64,iVBORw0KGgoAAAANSUhEUgAAABkAAAAOBAMAAAAoFKpzAAAAMFBMVEX///+YmJh2dnbMzMwQEBDu\n",
       "7u6qqqqIiIhUVFRERERmZma6uroiIiIyMjLc3NwAAABSazM2AAAAAXRSTlMAQObYZgAAAFtJREFU\n",
       "CNdjYIACvlU3NzDAwQsG9m8IXisDw3kEzyWAoR+h9H4Aw3okjUCVAUgc5k/IUrwTGBjengGB00De\n",
       "SmQp9gZkXhYD3wOEGQsYGBG8N0pKa5As+///DwMAyBMb8hv9jf4AAAAASUVORK5CYII=\n",
       "\" style=\"display:inline;vertical-align:middle;\" /></a></td></tr>\n",
       "<tr><td>9</td><td>Variable</td><td></td><td><a class=\"ProveItLink\" href=\"../../../__pv_it/78af03acba5349fd70398a32ce59bae1da52f0870/expr.ipynb\"><img src=\"data:image/png;base64,iVBORw0KGgoAAAANSUhEUgAAABIAAAAJBAMAAADN8WE8AAAAMFBMVEX////MzMyYmJgQEBBmZmYi\n",
       "IiLu7u4yMjKqqqp2dnZUVFTc3NxERESIiIi6uroAAABe5jFNAAAAAXRSTlMAQObYZgAAAFtJREFU\n",
       "CNdj4Luz++5KvrsnGBg4uWoZ8ucx9DMwvGM9wJB/AcRKyH/A0J/A4M7AAKJcGRgsgSwgL4SB7zcb\n",
       "iMf2j4GrYBMD9z8Gpg8M7BcmMPAZMHAeYOBYKwAAtXMYHwtZnY0AAAAASUVORK5CYII=\n",
       "\" style=\"display:inline;vertical-align:middle;\" /></a></td></tr>\n",
       "<tr><td>10</td><td>Literal</td><td></td><td><a class=\"ProveItLink\" href=\"../../../number/numeral/__pv_it/23412ce59ea7e77353d2f9225e02248e73651ca00/expr.ipynb\"><img src=\"data:image/png;base64,iVBORw0KGgoAAAANSUhEUgAAAAoAAAAPBAMAAAAv0UM9AAAALVBMVEX///9mZmaqqqru7u52dnYy\n",
       "MjKYmJjc3NwQEBCIiIhEREQiIiJUVFTMzMwAAACUDTcXAAAAAXRSTlMAQObYZgAAAD5JREFUCNdj\n",
       "YGBguMMAArtABGcXiCyLApEOIJKtAERaMoBIBxDJdAFEmjCASJ0zZ16cBCkF64KQPu/EwBwGACv6\n",
       "DSRgin9qAAAAAElFTkSuQmCC\n",
       "\" style=\"display:inline;vertical-align:middle;\" /></a></td></tr>\n",
       "<tr><td>11</td><td>Literal</td><td></td><td><a class=\"ProveItLink\" href=\"../../../number/negation/__pv_it/3fc7a08bb9735faa20ef8e175f6ea95511acc9c70/expr.ipynb\"><img src=\"data:image/png;base64,iVBORw0KGgoAAAANSUhEUgAAAA4AAAACBAMAAACapPCZAAAAElBMVEX///+6uroiIiIyMjLc3NwA\n",
       "AAA6l9OrAAAAAXRSTlMAQObYZgAAABBJREFUCNdjcFYCAUUGKAAADR4BD8/TF5gAAAAASUVORK5C\n",
       "YII=\n",
       "\" style=\"display:inline;vertical-align:middle;\" /></a></td></tr>\n",
       "<tr><td>12</td><td>Literal</td><td></td><td><a class=\"ProveItLink\" href=\"../../../number/numeral/__pv_it/77d407a64829263cdc16415becd4c2293f77a4bf0/expr.ipynb\"><img src=\"data:image/png;base64,iVBORw0KGgoAAAANSUhEUgAAAAkAAAAOBAMAAAAPuiubAAAAMFBMVEX///+YmJh2dnbMzMwQEBAi\n",
       "IiLu7u6qqqqIiIhUVFS6urpEREQyMjJmZmbc3NwAAACOMKdoAAAAAXRSTlMAQObYZgAAAFBJREFU\n",
       "CNdj4Lt7egEDw0sGju8MDNMYGOIZGFwSGOYvYDifwHAfKAEUSQASzJ9ATJ4NIPI2iOCYACJrGfge\n",
       "MDBfYGB8wPBUSekqUPH//18ZAIliFhc3zESNAAAAAElFTkSuQmCC\n",
       "\" style=\"display:inline;vertical-align:middle;\" /></a></td></tr>\n",
       "</table>\n"
      ],
      "text/plain": [
       "0. (k + l - 2 , m + 4)\n",
       "   core type: ExprTuple\n",
       "   sub-expressions: 1, 2\n",
       "1. k + l - 2\n",
       "   core type: Operation\n",
       "   operator: 4\n",
       "   operands: 3\n",
       "2. m + 4\n",
       "   core type: Operation\n",
       "   operator: 4\n",
       "   operands: 5\n",
       "3. (k , l , -2)\n",
       "   core type: ExprTuple\n",
       "   sub-expressions: 6, 7, 8\n",
       "4. +\n",
       "   core type: Literal\n",
       "   sub-expressions: \n",
       "5. (m , 4)\n",
       "   core type: ExprTuple\n",
       "   sub-expressions: 9, 10\n",
       "6. k\n",
       "   core type: Variable\n",
       "   sub-expressions: \n",
       "7. l\n",
       "   core type: Variable\n",
       "   sub-expressions: \n",
       "8. -2\n",
       "   core type: Operation\n",
       "   operator: 11\n",
       "   operand: 12\n",
       "9. m\n",
       "   core type: Variable\n",
       "   sub-expressions: \n",
       "10. 4\n",
       "    core type: Literal\n",
       "    sub-expressions: \n",
       "11. -\n",
       "    core type: Literal\n",
       "    sub-expressions: \n",
       "12. 2\n",
       "    core type: Literal\n",
       "    sub-expressions: "
      ]
     },
     "execution_count": 4,
     "metadata": {},
     "output_type": "execute_result"
    }
   ],
   "source": [
    "# display the expression information\n",
    "expr.exprInfo()"
   ]
  },
  {
   "cell_type": "code",
   "execution_count": null,
   "metadata": {},
   "outputs": [],
   "source": []
  }
 ],
 "metadata": {
  "kernelspec": {
   "display_name": "Python 3",
   "language": "python",
   "name": "python3"
  }
 },
 "nbformat": 4,
 "nbformat_minor": 0
}
