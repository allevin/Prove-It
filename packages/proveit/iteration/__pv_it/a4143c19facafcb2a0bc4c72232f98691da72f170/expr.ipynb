{
 "cells": [
  {
   "cell_type": "markdown",
   "metadata": {},
   "source": [
    "Expression of type <a class=\"ProveItLink\" href=\"../../../../../doc/html/api/proveit.ExprTuple.html\">ExprTuple</a>\n",
    "=======================\n",
    "# from context <a class=\"ProveItLink\" href=\"../../_context_.ipynb\">proveit.iteration</a>"
   ]
  },
  {
   "cell_type": "code",
   "execution_count": 1,
   "metadata": {},
   "outputs": [],
   "source": [
    "# import Expression classes needed to build the expression\n",
    "from proveit import ExprTuple\n",
    "from proveit._common_ import a, b\n",
    "from proveit.logic import InSet\n",
    "from proveit.number import GreaterEq, Reals"
   ]
  },
  {
   "cell_type": "code",
   "execution_count": 2,
   "metadata": {},
   "outputs": [
    {
     "data": {
      "text/html": [
       "<strong id=\"expr\">expr:</strong> <a class=\"ProveItLink\" href=\"expr.ipynb\"><img src=\"data:image/png;base64,iVBORw0KGgoAAAANSUhEUgAAAHYAAAAVBAMAAABh6QfWAAAAMFBMVEX////c3NwiIiJERESqqqqY\n",
       "mJh2dnZmZmYQEBDu7u4yMjJUVFTMzMyIiIi6uroAAAAs73DqAAAAAXRSTlMAQObYZgAAAf5JREFU\n",
       "OMulVD1II1EQ/mLibjYxRu4KDyyUbQSRYwXtRLe2MVimEhuxEe9AwR/QE7GwkNVKFIl4iOiBP6Bw\n",
       "BAMLKS0MgljIiaeFIoKKigREnNm/bBYNog923nszfPO+9828BT4zSjMfghWfkNmF9Lcq3x+/a16d\n",
       "KJBybpTMEH0rQGjDE1QqkG4py/dNd+XWf+gLARHKH1W92HL4pxSPs+WHs7xn0u0IasC1ZrrmF+Ua\n",
       "GyvoXizOdmyJsmSkEVzS1GG6Spa03LmvYJFuMmfB0KcefUz/3zZvvmouzmGbsy/V/cv2V6wZUyh1\n",
       "FAM6sUSn3yGqk6vOfd/TuKXVRZn/xgmU17JNKHii+2MSCGQRbKcUOZLKN7nG0s/3ADEXaOtn26ph\n",
       "nJLiGRAXEO0hBUZl2dHq3G9dIHyDIrvU0r5ZpwHgEdhjbFEProl/yYaLs3hl7aIKEroF7bCSVKP0\n",
       "gbFjRnmH6RSpyn3flQNzWZlBKwwOvp8xp7xiljk3gIUaZ9e2G7sb1iGxLiqSAT7Yl3Q66MnQJ05K\n",
       "I6yKBsHpExdWUOuQICahWKBaMCroRLGFQXCNTolsqteUdFl33kIjfq+rM7dc3uP0sfctHDL7NQRd\n",
       "LR9IWjrb43+BR0g9SS399ogViAkZ4w2+C/tF5vHd2c9yj74NjRT6cWyyQh/750R0vAApun0H33V+\n",
       "vQAAAABJRU5ErkJggg==\n",
       "\" style=\"display:inline;vertical-align:middle;\" /></a><br>"
      ],
      "text/plain": [
       "expr: (b in Reals , a >= b)"
      ]
     },
     "execution_count": 2,
     "metadata": {},
     "output_type": "execute_result"
    }
   ],
   "source": [
    "# build up the expression from sub-expressions\n",
    "expr = ExprTuple(InSet(b, Reals), GreaterEq(a, b))"
   ]
  },
  {
   "cell_type": "code",
   "execution_count": 3,
   "metadata": {},
   "outputs": [
    {
     "name": "stdout",
     "output_type": "stream",
     "text": [
      "Passed sanity check: built 'expr' is the same as the stored Expression.\n"
     ]
    }
   ],
   "source": [
    "# check that the built expression is the same as the stored expression\n",
    "%check_expr"
   ]
  },
  {
   "cell_type": "code",
   "execution_count": 4,
   "metadata": {},
   "outputs": [
    {
     "data": {
      "text/html": [
       "<table><tr><th>&nbsp;</th><th>core type</th><th>sub-expressions</th><th>expression</th></tr>\n",
       "<tr><td>0</td><td>ExprTuple</td><td>1, 2</td><td><a class=\"ProveItLink\" href=\"expr.ipynb\"><img src=\"data:image/png;base64,iVBORw0KGgoAAAANSUhEUgAAAHYAAAAVBAMAAABh6QfWAAAAMFBMVEX////c3NwiIiJERESqqqqY\n",
       "mJh2dnZmZmYQEBDu7u4yMjJUVFTMzMyIiIi6uroAAAAs73DqAAAAAXRSTlMAQObYZgAAAf5JREFU\n",
       "OMulVD1II1EQ/mLibjYxRu4KDyyUbQSRYwXtRLe2MVimEhuxEe9AwR/QE7GwkNVKFIl4iOiBP6Bw\n",
       "BAMLKS0MgljIiaeFIoKKigREnNm/bBYNog923nszfPO+9828BT4zSjMfghWfkNmF9Lcq3x+/a16d\n",
       "KJBybpTMEH0rQGjDE1QqkG4py/dNd+XWf+gLARHKH1W92HL4pxSPs+WHs7xn0u0IasC1ZrrmF+Ua\n",
       "GyvoXizOdmyJsmSkEVzS1GG6Spa03LmvYJFuMmfB0KcefUz/3zZvvmouzmGbsy/V/cv2V6wZUyh1\n",
       "FAM6sUSn3yGqk6vOfd/TuKXVRZn/xgmU17JNKHii+2MSCGQRbKcUOZLKN7nG0s/3ADEXaOtn26ph\n",
       "nJLiGRAXEO0hBUZl2dHq3G9dIHyDIrvU0r5ZpwHgEdhjbFEProl/yYaLs3hl7aIKEroF7bCSVKP0\n",
       "gbFjRnmH6RSpyn3flQNzWZlBKwwOvp8xp7xiljk3gIUaZ9e2G7sb1iGxLiqSAT7Yl3Q66MnQJ05K\n",
       "I6yKBsHpExdWUOuQICahWKBaMCroRLGFQXCNTolsqteUdFl33kIjfq+rM7dc3uP0sfctHDL7NQRd\n",
       "LR9IWjrb43+BR0g9SS399ogViAkZ4w2+C/tF5vHd2c9yj74NjRT6cWyyQh/750R0vAApun0H33V+\n",
       "vQAAAABJRU5ErkJggg==\n",
       "\" style=\"display:inline;vertical-align:middle;\" /></a></td></tr>\n",
       "<tr><td>1</td><td>Operation</td><td>operator:&nbsp;3<br>operands:&nbsp;4<br></td><td><a class=\"ProveItLink\" href=\"../15fb2bb12930eb9e83d19f307ca8613a31e6e8120/expr.ipynb\"><img src=\"data:image/png;base64,iVBORw0KGgoAAAANSUhEUgAAADEAAAAPBAMAAAC/wjryAAAAMFBMVEX////c3NxmZmbMzMxERESY\n",
       "mJiIiIh2dna6urqqqqoyMjIiIiIQEBBUVFTu7u4AAAAiO1wTAAAAAXRSTlMAQObYZgAAAM1JREFU\n",
       "GNNj4LuzgQEFRH3xX3UqAcTiuoAqw+Agy2AySwDI4J+ALiPEwPLQAcjofwAR4MvavXsBVIbdACRT\n",
       "DVVqFYfQA5FZm3YVxGf0QzKNF2Qa3xcGfgMgn0UASaY7Csjj/MfAUwDkP0G4QGb3LpCrmBYw8CsA\n",
       "6Z7du+EuaGIBuYpbgaE/AEjbIrmaqfkCxDv6IBWvkf2zLhUkY8BwHMTnDUCSseUFOop3AhM4ePh2\n",
       "IMmwT3AEilxThQhIKcND1JlhyXrkMJu7GuI2KAAAUFI1u0jGT1kAAAAASUVORK5CYII=\n",
       "\" style=\"display:inline;vertical-align:middle;\" /></a></td></tr>\n",
       "<tr><td>2</td><td>Operation</td><td>operator:&nbsp;5<br>operands:&nbsp;6<br></td><td><a class=\"ProveItLink\" href=\"../494dc445d79535c2602176767bff4301bac496fa0/expr.ipynb\"><img src=\"data:image/png;base64,iVBORw0KGgoAAAANSUhEUgAAADAAAAARBAMAAABp3DInAAAAMFBMVEX///8yMjKqqqrMzMzu7u4i\n",
       "IiJmZmaYmJhEREQQEBC6urp2dnaIiIhUVFTc3NwAAAD87Fq/AAAAAXRSTlMAQObYZgAAAL9JREFU\n",
       "GNNjYMACfKci81y3INiyKOoU8+DMT6gmrLgMZXB9QTPbogtCcweASL47u+bBZN5KgSnGO2cLGBhW\n",
       "PuD4ANfzLBhE+jcwfGbg+87A1gCXKE0BkfoODLMZeD8wsB6ACrMchTg5kYHhGwN/A4O/AVR8K1RF\n",
       "GAPXd4b3Bxj0GRzArkgtgHuD7QuDvwLDRSaQFr6LCjCbPjNwbmBgLGAK4wbxXiyAO+ESQy7IG6cs\n",
       "TqEH4rECBkrA01AQiIJxAblPMZchaPiwAAAAAElFTkSuQmCC\n",
       "\" style=\"display:inline;vertical-align:middle;\" /></a></td></tr>\n",
       "<tr><td>3</td><td>Literal</td><td></td><td><a class=\"ProveItLink\" href=\"../../../logic/set_theory/membership/__pv_it/088cbc857536a28d4119ad9639a84270ccb0545d0/expr.ipynb\"><img src=\"data:image/png;base64,iVBORw0KGgoAAAANSUhEUgAAAAwAAAAMBAMAAACkW0HUAAAALVBMVEX///+qqqpmZmZUVFQQEBC6\n",
       "urpERETc3NyYmJjMzMwiIiIyMjKIiIju7u4AAACYsrA9AAAAAXRSTlMAQObYZgAAADxJREFUCNdj\n",
       "YOA9vWrVBgaG2b0MQMCeCyIZ2ArA1DUwyRCyahVIyWQI7xaEYm4AU7xLIdxqTQgtvGvVBgCkcQ7e\n",
       "geM/tQAAAABJRU5ErkJggg==\n",
       "\" style=\"display:inline;vertical-align:middle;\" /></a></td></tr>\n",
       "<tr><td>4</td><td>ExprTuple</td><td>9, 7</td><td><a class=\"ProveItLink\" href=\"../0a147b031711051fe3792dda0aa2f38c2fa47ff90/expr.ipynb\"><img src=\"data:image/png;base64,iVBORw0KGgoAAAANSUhEUgAAAC0AAAAVBAMAAAAgHXppAAAAMFBMVEX////c3NwiIiJERESqqqqY\n",
       "mJh2dnZmZmYQEBDu7u4yMjJUVFTMzMyIiIi6uroAAAAs73DqAAAAAXRSTlMAQObYZgAAARxJREFU\n",
       "GNNjYMAF+C5gCMWBiNMMnDsUIPyoz/aruoDK2A8AOSsZGLg2QBUaSDMc9hJgYFjAwMALlOd3gImL\n",
       "MzBPNGBgCGNg4JjAwPB+AkKc7QBQfAYDwysgN4kBTZzZgaEMyF19dytcnBtkDlsBw1IGBs7PDPwH\n",
       "YOKPooD2sixg6AOSPxk4EiDiEkpaIDfwNTD8Azp3AQN/AVT9c2aQG3g+gMSZChjeB0DF2d9sgIi3\n",
       "gJ1fPwFm/sqrEHNMGUCWtjFwQsVPcwOdwLqAIZ2BgduBfQPDfAWo+x0Mwe58BHTn3lKgFz+Cw82G\n",
       "YfF6BwauBwwcAlC/PkQKaGA4sCZA2QFI4rmQcEYX5wSGM4M0hM2LpJwbZDYjZjzeYWAAANnCRHNE\n",
       "83/GAAAAAElFTkSuQmCC\n",
       "\" style=\"display:inline;vertical-align:middle;\" /></a></td></tr>\n",
       "<tr><td>5</td><td>Literal</td><td></td><td><a class=\"ProveItLink\" href=\"../../../number/ordering/__pv_it/96143560a3dbc26f943e0a126972c9bfadab3fc50/expr.ipynb\"><img src=\"data:image/png;base64,iVBORw0KGgoAAAANSUhEUgAAAA4AAAARBAMAAAAf5oCsAAAALVBMVEX///+IiIiYmJjMzMxUVFRE\n",
       "RES6urrc3NxmZmYyMjKqqqp2dnYiIiLu7u4AAACqGg1VAAAAAXRSTlMAQObYZgAAAEFJREFUCNdj\n",
       "YICCO3uhjJXtUEaqM5RhGgZllEyDMioOQ2idXhDJKwPWy7tHAESx9yiAKc8FYCWlCQx4Qc0ZEDgG\n",
       "ALzAEHC/pigGAAAAAElFTkSuQmCC\n",
       "\" style=\"display:inline;vertical-align:middle;\" /></a></td></tr>\n",
       "<tr><td>6</td><td>ExprTuple</td><td>8, 9</td><td><a class=\"ProveItLink\" href=\"../359d2ffcad0b096b85ece3bdabdf3ac9ad97321c0/expr.ipynb\"><img src=\"data:image/png;base64,iVBORw0KGgoAAAANSUhEUgAAACkAAAAVBAMAAAAp9toTAAAAMFBMVEX////c3NwiIiJERESqqqqY\n",
       "mJh2dnZmZmYQEBDu7u4yMjJUVFTMzMyIiIi6uroAAAAs73DqAAAAAXRSTlMAQObYZgAAAQxJREFU\n",
       "GNNtkSFPw1AQx3/burWlbJ1HgMPO4PsNqEKSBYOC1IAFEoIklXOtQRDMDAkhWdIEidkHgAVQBLOS\n",
       "ZQJDuGv3km7hiXv/+72Xe/+7B/+vzngF7Gt4rgD3YQvsTNRt9d7aUEIK7aUCfiBhD5y4SqeaDeBr\n",
       "6aUDDY2AU9lqo+OLkt693kMr4kb0Z7eRlx5m+BlWyrVcnWP3Cmr94PTpnPMLXk69dGKn+BHruVK/\n",
       "R5IVtB4xDZVewuaYXeKF3bNYK+xAEvBoZa7SjCtophxKm6G13SKREXiBPSycfajdydOEwbc4G53o\n",
       "MN5wuqavdyOk42bfJKERR9VJGurKJNlYJG1z6mnN2uoPvcAf68w9OrA141UAAAAASUVORK5CYII=\n",
       "\" style=\"display:inline;vertical-align:middle;\" /></a></td></tr>\n",
       "<tr><td>7</td><td>Literal</td><td></td><td><a class=\"ProveItLink\" href=\"../../../number/sets/real/__pv_it/9e7645ee1117062e179dd6264898f99ed95b157c0/expr.ipynb\"><img src=\"data:image/png;base64,iVBORw0KGgoAAAANSUhEUgAAAA8AAAAOBAMAAAACpFvcAAAAMFBMVEX///8iIiK6urp2dnbu7u5m\n",
       "ZmaqqqrMzMxUVFTc3NyIiIgQEBBEREQyMjKYmJgAAAA9nvXMAAAAAXRSTlMAQObYZgAAAFJJREFU\n",
       "CNdjePvn/N29CxiA4MAMhprcCSDGVAYezwMQBnMBOoMDJqX4Fqx4tqBsAlj7VFUeBwiDVb0BwmC4\n",
       "sg7KqOAogJqTcJKBAWjpcYY79xMAyqEnfsw4ApEAAAAASUVORK5CYII=\n",
       "\" style=\"display:inline;vertical-align:middle;\" /></a></td></tr>\n",
       "<tr><td>8</td><td>Variable</td><td></td><td><a class=\"ProveItLink\" href=\"../../../__pv_it/07527342713064c87612d00d8557c53d53d5324a0/expr.ipynb\"><img src=\"data:image/png;base64,iVBORw0KGgoAAAANSUhEUgAAAAsAAAAJBAMAAAAWSsseAAAAMFBMVEX///8yMjKqqqrMzMzu7u4i\n",
       "IiJmZmaYmJhEREQQEBC6urp2dnaIiIhUVFTc3NwAAAD87Fq/AAAAAXRSTlMAQObYZgAAAEhJREFU\n",
       "CNdjYOC7s2seAwPDygccHxgY+L4zsDUwMPB+YGA9wMDA38Dgb8DA8P4Agz6DA4O/AsNFJgMGxgKm\n",
       "MG6gyjunLE4xAAAZTBA5TB6DCwAAAABJRU5ErkJggg==\n",
       "\" style=\"display:inline;vertical-align:middle;\" /></a></td></tr>\n",
       "<tr><td>9</td><td>Variable</td><td></td><td><a class=\"ProveItLink\" href=\"../../../__pv_it/6840a4fa6c106149dc16a131294d0c5e44f1b0480/expr.ipynb\"><img src=\"data:image/png;base64,iVBORw0KGgoAAAANSUhEUgAAAAkAAAAOBAMAAAAPuiubAAAALVBMVEX///9mZmbMzMxERESYmJiI\n",
       "iIh2dna6urqqqqoyMjIiIiIQEBBUVFTu7u4AAAD9S1JeAAAAAXRSTlMAQObYZgAAAE1JREFUCNdj\n",
       "4D29gAEIOA+ASL4GEFl3AURmgQiGOaFHGBh4HzPwKTBwvGXgTmBgnMDAJ8DAJcBQ5wBSLncBJLWN\n",
       "gYGngRFoBO9REQYGAGrcDtUkVqASAAAAAElFTkSuQmCC\n",
       "\" style=\"display:inline;vertical-align:middle;\" /></a></td></tr>\n",
       "</table>\n"
      ],
      "text/plain": [
       "0. (b in Reals , a >= b)\n",
       "   core type: ExprTuple\n",
       "   sub-expressions: 1, 2\n",
       "1. b in Reals\n",
       "   core type: Operation\n",
       "   operator: 3\n",
       "   operands: 4\n",
       "2. a >= b\n",
       "   core type: Operation\n",
       "   operator: 5\n",
       "   operands: 6\n",
       "3. in\n",
       "   core type: Literal\n",
       "   sub-expressions: \n",
       "4. (b , Reals)\n",
       "   core type: ExprTuple\n",
       "   sub-expressions: 9, 7\n",
       "5. >=\n",
       "   core type: Literal\n",
       "   sub-expressions: \n",
       "6. (a , b)\n",
       "   core type: ExprTuple\n",
       "   sub-expressions: 8, 9\n",
       "7. Reals\n",
       "   core type: Literal\n",
       "   sub-expressions: \n",
       "8. a\n",
       "   core type: Variable\n",
       "   sub-expressions: \n",
       "9. b\n",
       "   core type: Variable\n",
       "   sub-expressions: "
      ]
     },
     "execution_count": 4,
     "metadata": {},
     "output_type": "execute_result"
    }
   ],
   "source": [
    "# display the expression information\n",
    "expr.exprInfo()"
   ]
  },
  {
   "cell_type": "code",
   "execution_count": null,
   "metadata": {},
   "outputs": [],
   "source": []
  }
 ],
 "metadata": {
  "kernelspec": {
   "display_name": "Python 3",
   "language": "python",
   "name": "python3"
  }
 },
 "nbformat": 4,
 "nbformat_minor": 0
}
