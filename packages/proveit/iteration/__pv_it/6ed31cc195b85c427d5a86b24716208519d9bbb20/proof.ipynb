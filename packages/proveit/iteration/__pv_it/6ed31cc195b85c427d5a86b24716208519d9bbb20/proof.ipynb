{
 "cells": [
  {
   "cell_type": "markdown",
   "metadata": {},
   "source": [
    "Show the Proof\n",
    "========"
   ]
  },
  {
   "cell_type": "code",
   "execution_count": 1,
   "metadata": {},
   "outputs": [
    {
     "data": {
      "text/html": [
       "<table><tr><th>&nbsp;</th><th>step type</th><th>requirements</th><th>statement</th></tr>\n",
       "<tr><td>0</td><td>assumption</td><td></td><td><span style=\"font-size:20px;\"><a class=\"ProveItLink\" href=\"../6004b2bc6c2892445723b9645cf3ad1ade16fc390/expr.ipynb\"><img src=\"data:image/png;base64,iVBORw0KGgoAAAANSUhEUgAAAEcAAAAVBAMAAADm2O7QAAAAMFBMVEX///9ERETc3NyqqqpUVFS6\n",
       "urrMzMwyMjIQEBCIiIh2dnYiIiLu7u5mZmaYmJgAAABJJ2g3AAAAAXRSTlMAQObYZgAAAT1JREFU\n",
       "KM9jYGDgu8eAG7CtUgBRPLsY8AG2ZhDJ+QFIHOlGk+OpF6xh4N2/mYHhOojL1QAia9FNYHyQyMDA\n",
       "D2SsQCj6jK6IZRvnBAYOFEWsf2DWTN+9uwCsKPyAG5oirgKoovQ3MJPSHI4fQFXEvoDvfgCQZpKB\n",
       "W5dgySYAV8QLMuR8zJp4A5BzFRCKeANeghS9B/EyQCbYZ0KkDiIcnsDgw5IBsuQCA0NKG0jo/laI\n",
       "VMTu3TCHJzAc4akAscQfAMUTgIydR/aAFaUgm8S2AGQS9wIQD6iR5xvDZyaQ1GlkRQyPGWFu4toA\n",
       "jOMPPF+5wFIPkBVxKSIHAYsAwydOcFhuhUcLyD/XkRWxP2CYuwYsp34Nooa1vhFIHkeNOzgwqd5d\n",
       "gCKATREGACviI6AInJ54duJPma1gim8xoTQOAJb3U6INmEa6AAAAAElFTkSuQmCC\n",
       "\" style=\"display:inline;vertical-align:middle;\" /></a> <a class=\"ProveItLink\" href=\"proof.ipynb\" style=\"text-decoration: none\">&#x22A2;&nbsp;</a><a class=\"ProveItLink\" href=\"../e09ca6f75e0c57b0dc94dcfcf473d980986784820/expr.ipynb\"><img src=\"data:image/png;base64,iVBORw0KGgoAAAANSUhEUgAAADMAAAAPBAMAAAC7N+rPAAAAMFBMVEX///9ERETc3NyIiIjMzMyY\n",
       "mJh2dna6urqqqqpmZmYyMjIiIiIQEBBUVFTu7u4AAAD6+w4kAAAAAXRSTlMAQObYZgAAAOhJREFU\n",
       "GNNj4LuzgQEVvPoo9YBh9u8GBgauCWhSDKIsAgwMH4AM/gZ0qdsOxgwMB4CM+gdQkcerd+8CM66v\n",
       "43UAS2VBZViWwtRc8eVbB5ZaxhD5HSSgCJNhuMJh4AiS4vv+7PkPkIAQ3K4rDNNZDYBSHF8MwHw+\n",
       "ASQp3gdXgFKcvwvAfPbTu3dDnXGFge/CK6AUt91tsCUsF5B0MbixAKXeO/A3KIAM3IAsxdoAND+e\n",
       "4X1BAkjgKrIUQxJQ6iIDvwLYIa8LYFLiQMy5gIFhKQPzNLBlTCsdIDJVf4A6+BYgBx3HLagLoQAA\n",
       "a0VGmR4qtXkAAAAASUVORK5CYII=\n",
       "\" style=\"display:inline;vertical-align:middle;\" /></a></span></td></tr>\n",
       "</table>"
      ],
      "text/plain": [
       "<proveit._core_.proof._ShowProof at 0x7fe03f84efd0>"
      ]
     },
     "execution_count": 1,
     "metadata": {},
     "output_type": "execute_result"
    }
   ],
   "source": [
    "import proveit\n",
    "%show_proof"
   ]
  },
  {
   "cell_type": "code",
   "execution_count": null,
   "metadata": {},
   "outputs": [],
   "source": []
  }
 ],
 "metadata": {
  "kernelspec": {
   "display_name": "Python 3",
   "language": "python",
   "name": "python3"
  }
 },
 "nbformat": 4,
 "nbformat_minor": 0
}
