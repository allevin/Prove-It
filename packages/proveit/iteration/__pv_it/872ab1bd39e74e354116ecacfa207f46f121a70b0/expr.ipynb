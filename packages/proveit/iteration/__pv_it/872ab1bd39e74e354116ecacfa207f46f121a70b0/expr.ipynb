{
 "cells": [
  {
   "cell_type": "markdown",
   "metadata": {},
   "source": [
    "Expression of type <a class=\"ProveItLink\" href=\"../../../../../doc/html/api/proveit.Lambda.html\">Lambda</a>\n",
    "=======================\n",
    "# from context <a class=\"ProveItLink\" href=\"../../_context_.ipynb\">proveit.iteration</a>"
   ]
  },
  {
   "cell_type": "code",
   "execution_count": 1,
   "metadata": {},
   "outputs": [],
   "source": [
    "# import Expression classes needed to build the expression\n",
    "from proveit import Lambda\n",
    "from proveit._common_ import a\n",
    "from proveit.logic import InSet\n",
    "from proveit.number import Complexes, Neg"
   ]
  },
  {
   "cell_type": "code",
   "execution_count": 2,
   "metadata": {},
   "outputs": [
    {
     "data": {
      "text/html": [
       "<strong id=\"expr\">expr:</strong> <a class=\"ProveItLink\" href=\"expr.ipynb\"><img src=\"data:image/png;base64,iVBORw0KGgoAAAANSUhEUgAAANkAAAAVCAMAAAD8SruLAAAANlBMVEX///8UFBQNDQ0yMjKqqqrM\n",
       "zMzu7u4iIiJmZmaYmJhEREQQEBC6urp2dnaIiIhUVFTc3NwAAACAukRkAAAAAXRSTlMAQObYZgAA\n",
       "Ai5JREFUWMPNl9mS4yAMRelmx6z//7PjZDq2Ni90plKjFyVV6FgXBAil/l8z/aOfyxX7A4t5kisE\n",
       "lPxJYbZhf2jB3qBVr/VYfApiwG+UQeKcaYf9ycjrWcpjzd2VUZsYMK+MEKempGJ/Vl7laoBq8e9+\n",
       "Gk0MmFZGiTO2OOxPzC34b9V+tX1holOvEaEJAdfKKJIRZ44Pjf2pJQPrREcyGUH1tqXIA66VMSQn\n",
       "9lZLXrq8QQz8XCjYM4OoAnZxT3SRXVCZUEo4U0ay5EhOfA5PY/vvcUADAB2xZ2sKUQZMUWJXky3K\n",
       "EIrRJ8polhzJiH08/oZ0pMy1HbFk7OmKIVTe941LSlCWI52XY2UsS45kxPacB78fdt9fHtkyti+8\n",
       "fv34rsGwTFF2gJxfozTIzJJqBAFMGcuSIxlxPMS7YY/WTLX9A0QZNYwCiUr3+nojtvvKWJYCkhD7\n",
       "qM8LYI2TlQVQz4vBnhYjQsFq9OJ9t+XhrqqRZykgCdGNR5ZNK2NFZRbeySliT3YkRkVwIDQhIMWt\n",
       "B/WOBhBlPEsJSYiPc874oLYSxe2Fk87lIrdlGAUHOS/Ub2upOuVy+jm/z059lqWIxMT1nqjZpnqn\n",
       "lckee36bAZSGxK6FFtkGP8ay7WOdT85GnqWEJMSZ7qpjf7+7UqZp1F1dBlz3jZfImZ6z3Gx317zq\n",
       "JJsFfPZ9dvsV42an0v2DV8w79uo5+1Uz3Waf+jzgs8pUr9gfPeTsJFcIqG8p+wOg3xq+XlsE0QAA\n",
       "AABJRU5ErkJggg==\n",
       "\" style=\"display:inline;vertical-align:middle;\" /></a><br>"
      ],
      "text/plain": [
       "expr: a -> ((-a) in Complexes) | a in Complexes"
      ]
     },
     "execution_count": 2,
     "metadata": {},
     "output_type": "execute_result"
    }
   ],
   "source": [
    "# build up the expression from sub-expressions\n",
    "expr = Lambda(a, InSet(Neg(a), Complexes), conditions = [InSet(a, Complexes)])"
   ]
  },
  {
   "cell_type": "code",
   "execution_count": 3,
   "metadata": {},
   "outputs": [
    {
     "name": "stdout",
     "output_type": "stream",
     "text": [
      "Passed sanity check: built 'expr' is the same as the stored Expression.\n"
     ]
    }
   ],
   "source": [
    "# check that the built expression is the same as the stored expression\n",
    "%check_expr"
   ]
  },
  {
   "cell_type": "code",
   "execution_count": 4,
   "metadata": {},
   "outputs": [
    {
     "data": {
      "text/html": [
       "<table><tr><th>&nbsp;</th><th>core type</th><th>sub-expressions</th><th>expression</th></tr>\n",
       "<tr><td>0</td><td>Lambda</td><td>parameter:&nbsp;9<br>body:&nbsp;1<br>conditions:&nbsp;2<br></td><td><a class=\"ProveItLink\" href=\"expr.ipynb\"><img src=\"data:image/png;base64,iVBORw0KGgoAAAANSUhEUgAAANkAAAAVCAMAAAD8SruLAAAANlBMVEX///8UFBQNDQ0yMjKqqqrM\n",
       "zMzu7u4iIiJmZmaYmJhEREQQEBC6urp2dnaIiIhUVFTc3NwAAACAukRkAAAAAXRSTlMAQObYZgAA\n",
       "Ai5JREFUWMPNl9mS4yAMRelmx6z//7PjZDq2Ni90plKjFyVV6FgXBAil/l8z/aOfyxX7A4t5kisE\n",
       "lPxJYbZhf2jB3qBVr/VYfApiwG+UQeKcaYf9ycjrWcpjzd2VUZsYMK+MEKempGJ/Vl7laoBq8e9+\n",
       "Gk0MmFZGiTO2OOxPzC34b9V+tX1holOvEaEJAdfKKJIRZ44Pjf2pJQPrREcyGUH1tqXIA66VMSQn\n",
       "9lZLXrq8QQz8XCjYM4OoAnZxT3SRXVCZUEo4U0ay5EhOfA5PY/vvcUADAB2xZ2sKUQZMUWJXky3K\n",
       "EIrRJ8polhzJiH08/oZ0pMy1HbFk7OmKIVTe941LSlCWI52XY2UsS45kxPacB78fdt9fHtkyti+8\n",
       "fv34rsGwTFF2gJxfozTIzJJqBAFMGcuSIxlxPMS7YY/WTLX9A0QZNYwCiUr3+nojtvvKWJYCkhD7\n",
       "qM8LYI2TlQVQz4vBnhYjQsFq9OJ9t+XhrqqRZykgCdGNR5ZNK2NFZRbeySliT3YkRkVwIDQhIMWt\n",
       "B/WOBhBlPEsJSYiPc874oLYSxe2Fk87lIrdlGAUHOS/Ub2upOuVy+jm/z059lqWIxMT1nqjZpnqn\n",
       "lckee36bAZSGxK6FFtkGP8ay7WOdT85GnqWEJMSZ7qpjf7+7UqZp1F1dBlz3jZfImZ6z3Gx317zq\n",
       "JJsFfPZ9dvsV42an0v2DV8w79uo5+1Uz3Waf+jzgs8pUr9gfPeTsJFcIqG8p+wOg3xq+XlsE0QAA\n",
       "AABJRU5ErkJggg==\n",
       "\" style=\"display:inline;vertical-align:middle;\" /></a></td></tr>\n",
       "<tr><td>1</td><td>Operation</td><td>operator:&nbsp;6<br>operands:&nbsp;3<br></td><td><a class=\"ProveItLink\" href=\"../e0a54f618354f85804b2df6f7d203561fae1a71f0/expr.ipynb\"><img src=\"data:image/png;base64,iVBORw0KGgoAAAANSUhEUgAAAFIAAAAVBAMAAAAnX6R8AAAAMFBMVEX////c3NwiIiJERESqqqqY\n",
       "mJh2dnZmZmYQEBDu7u4yMjJUVFTMzMyIiIi6uroAAAAs73DqAAAAAXRSTlMAQObYZgAAAUpJREFU\n",
       "KM9jYCAe8F1A5cfhVHkajc9+AEPJpVU/lAsYGFaiiy9AFzj3j2Ha3w0MvBfQJcLQ+KzcAQwM/hsY\n",
       "OCagq5wBoThvKSmBjY/kALlpA8MrDFcxO4CpU5FQfoE0SN8FhjIkNYx78xoZGNgKwGxLqCBnwTMI\n",
       "YymSyhcCzB8YGFjAdjILQAV5ElwhjD4kI78ysBsAA7gBxJnMAFf5FML4B1SxSAkEHnB/YGAChgTP\n",
       "B7D5ICGQ6ZwGx+AqYYDfgGH+AZhKRISs5IbQLQiV8hcY/BkmQG2fhAhfsMoJDKYIlfMdGHaxHGBg\n",
       "BfsIFNzQUIsDOolPkyEdoZIrgEWdDRZKnHpw8d22E+YZT2B4hByc9w7fA2p4AOZJ1cB9X/S/GyjG\n",
       "IYAjNhm8FymhJBbWBHSVubjSJ3qq41yAS6U0Gp9bAJdKRrQEegeHOgCQp0zG5qOoDAAAAABJRU5E\n",
       "rkJggg==\n",
       "\" style=\"display:inline;vertical-align:middle;\" /></a></td></tr>\n",
       "<tr><td>2</td><td>ExprTuple</td><td>4</td><td><a class=\"ProveItLink\" href=\"../afead37f272fc9265378b5f88330236b423dfc0e0/expr.ipynb\"><img src=\"data:image/png;base64,iVBORw0KGgoAAAANSUhEUgAAAD8AAAAVBAMAAAADRiu8AAAAMFBMVEX////c3NwiIiJERESqqqqY\n",
       "mJh2dnZmZmYQEBDu7u4yMjJUVFTMzMyIiIi6uroAAAAs73DqAAAAAXRSTlMAQObYZgAAAUJJREFU\n",
       "KM9jYCAI+C7glosDEaexSvFqrW8yZ2A/AGSuxCbP8/4BZ/5tBoYFQKVYbQjYysDA8puBIYyBgWMC\n",
       "kjjnLSUloCYG1gkNQLKagWEGA8MrZI2nIiE0O+MGIDmXgYHZgaEMyGLcm9cIEme0hCqczpcAYbAV\n",
       "MCwFUi8EmD+AuMwCUAXHWAIgDJYFDH1AjV8Z2A1A3Mkwq47xQRXwNTD8Y2Dg/sDABPbLCyUliCMn\n",
       "80Ct4PkAUsBvwDD/AEqYcU3YAFfQwsAgf4HBnwHk20kwBawJIAWcYCtMGRjmOzDsYgEZwR0AU2H6\n",
       "Fkg8msDAuoAhHWhgAIs6Gzic9GAKuDff5HxsCfbmI1Aw3Dt8DywuVQNTcVz/xz6QYx4wcAggB6X3\n",
       "IrAv4GAGyD34EksuruiGRR7IOGk8CrhB9jPiSXJ3GBgAGSxKxqwipJkAAAAASUVORK5CYII=\n",
       "\" style=\"display:inline;vertical-align:middle;\" /></a></td></tr>\n",
       "<tr><td>3</td><td>ExprTuple</td><td>5, 10</td><td><a class=\"ProveItLink\" href=\"../82a709ba92e2f193e74b167cf6879b91fea0fe080/expr.ipynb\"><img src=\"data:image/png;base64,iVBORw0KGgoAAAANSUhEUgAAAD8AAAAVBAMAAAADRiu8AAAAMFBMVEX////c3NwiIiJERESqqqqY\n",
       "mJh2dnZmZmYQEBDu7u4yMjJUVFTMzMyIiIi6uroAAAAs73DqAAAAAXRSTlMAQObYZgAAASpJREFU\n",
       "KM9jYCAI+C7glosDEaexSvFqrW8yZ2A/AGSuxCbP8/4BZ/5tBoYFQKVYbQjYysDA8puBIYyBgWMC\n",
       "FnnWCQ1AspqBYQYDwytsBrAzbgCScxkYmB0YypDEGffmNYIZ0/kSICJsBQxLkRS8EGD+AGYcYwmA\n",
       "iLAsYOhDMuArA7sBRAEfVAFfA8M/oMQiJRB4wP2BgQnip8k8UCt4PoAUwAC/AcP8A2AW14QNcAUt\n",
       "CAXyFxj8GcC+Zk0AKeAEW2GKUDDfgWEXywFOENP0LZB4NIGBdQFDOkIBVwCLOhvDfAUgk3vzTc7H\n",
       "lmBvPkIOhnuH7zHM+AhiH9f/sQ+k5wEDhwB6MD5EYs8AuQcjopDYudiiG0kBJzC6GaTRkwoSmxtk\n",
       "PyOeJHeHgQEArYZGxIUH4CAAAAAASUVORK5CYII=\n",
       "\" style=\"display:inline;vertical-align:middle;\" /></a></td></tr>\n",
       "<tr><td>4</td><td>Operation</td><td>operator:&nbsp;6<br>operands:&nbsp;7<br></td><td><a class=\"ProveItLink\" href=\"../cd457d59bfd8582be7220a7500a0989802bcb0120/expr.ipynb\"><img src=\"data:image/png;base64,iVBORw0KGgoAAAANSUhEUgAAADMAAAAPBAMAAAC7N+rPAAAAMFBMVEX///8yMjKqqqrMzMzu7u4i\n",
       "IiJmZmaYmJhEREQQEBC6urp2dnaIiIhUVFTc3NwAAAD87Fq/AAAAAXRSTlMAQObYZgAAANRJREFU\n",
       "GNNjYMACeALlp7Zhk2BgXr+AZf9ZrFIF1xkYmP4ii7AcDA0VANLsDhOAZC6ylGEJhGbjuwAkfYCY\n",
       "786ueSARvhaoEjeuDVDWygccH0A0xwOogDVTAYTB952BrQHE8IAZbM0FleL9wMB6AKw7NBTiDA9m\n",
       "qIH8DQz+BiCGLUwXo8MFCOP9AQZ9BgcgwxUmxb4BJMXCwOCvwHCRCaSNtwAm174GSCx1YGAsYArj\n",
       "Bvs4CibFe+MIy4oWkLdOWZwCizxMhsmZxf+8hRp2uqJgF8IAAH82L/mC9qalAAAAAElFTkSuQmCC\n",
       "\" style=\"display:inline;vertical-align:middle;\" /></a></td></tr>\n",
       "<tr><td>5</td><td>Operation</td><td>operator:&nbsp;8<br>operand:&nbsp;9<br></td><td><a class=\"ProveItLink\" href=\"../5bdd387ae2a10752c3ad16ba6b67c0e39d26b0ee0/expr.ipynb\"><img src=\"data:image/png;base64,iVBORw0KGgoAAAANSUhEUgAAABoAAAAJBAMAAADeJiHIAAAAMFBMVEX///+qqqrMzMzu7u5mZmaY\n",
       "mJhEREQQEBB2dnaIiIhUVFS6uroiIiIyMjLc3NwAAAAxFEmoAAAAAXRSTlMAQObYZgAAAExJREFU\n",
       "CNdjYICBVzO2P4BzuOsY8uEchvcBDG4MDG/PgMBphvUMDCcRct8YmD/BOXw/GRg/MMN4zB8ZuC4I\n",
       "wSWvMsg4NCCsm7kpcwMArzoXiK6Dv2MAAAAASUVORK5CYII=\n",
       "\" style=\"display:inline;vertical-align:middle;\" /></a></td></tr>\n",
       "<tr><td>6</td><td>Literal</td><td></td><td><a class=\"ProveItLink\" href=\"../../../logic/set_theory/membership/__pv_it/088cbc857536a28d4119ad9639a84270ccb0545d0/expr.ipynb\"><img src=\"data:image/png;base64,iVBORw0KGgoAAAANSUhEUgAAAAwAAAAMBAMAAACkW0HUAAAALVBMVEX///+qqqpmZmZUVFQQEBC6\n",
       "urpERETc3NyYmJjMzMwiIiIyMjKIiIju7u4AAACYsrA9AAAAAXRSTlMAQObYZgAAADxJREFUCNdj\n",
       "YOA9vWrVBgaG2b0MQMCeCyIZ2ArA1DUwyRCyahVIyWQI7xaEYm4AU7xLIdxqTQgtvGvVBgCkcQ7e\n",
       "geM/tQAAAABJRU5ErkJggg==\n",
       "\" style=\"display:inline;vertical-align:middle;\" /></a></td></tr>\n",
       "<tr><td>7</td><td>ExprTuple</td><td>9, 10</td><td><a class=\"ProveItLink\" href=\"../4d7c0ad813ab3197c922864bf572a2de9c4f2e7d0/expr.ipynb\"><img src=\"data:image/png;base64,iVBORw0KGgoAAAANSUhEUgAAAC8AAAAVBAMAAAAk6KpUAAAAMFBMVEX////c3NwiIiJERESqqqqY\n",
       "mJh2dnZmZmYQEBDu7u4yMjJUVFTMzMyIiIi6uroAAAAs73DqAAAAAXRSTlMAQObYZgAAASFJREFU\n",
       "KM9jYMAJ+C5gisWBiNMoQrxa65vMGdgPAJkrkcV53j/gzL/NwLAAqATFpICtDAwsvxkYwhgYOCYg\n",
       "ibNOaACS1QwMMxgYXiFrYGfcACTnMjAwOzCUAVmMe/MawRLT+RIgKtgKGJYCqRcCzB/A/GMsARAJ\n",
       "lgUMfUANXxnYDSASfFAJvgaGfwwM3B8YmCBum8wDNYrnA0iC34Bh/gEwn2vCBrhECwOD/AUGfwaw\n",
       "q1kTQBKcYKNMGRjmOzDsYjnACZIxfQskHk1gYF3AkA40IIBFnY1hvgJQjHvzTc7HlmDnPgJ5497h\n",
       "ewwzPoK0HNf/sQ9k2QMGDgGYtx8iBcEMkH3wAESSyEUOdiQJTmCwM0jDoghJAzfIfEYsUXuHgQEA\n",
       "M61El67l9nMAAAAASUVORK5CYII=\n",
       "\" style=\"display:inline;vertical-align:middle;\" /></a></td></tr>\n",
       "<tr><td>8</td><td>Literal</td><td></td><td><a class=\"ProveItLink\" href=\"../../../number/negation/__pv_it/3fc7a08bb9735faa20ef8e175f6ea95511acc9c70/expr.ipynb\"><img src=\"data:image/png;base64,iVBORw0KGgoAAAANSUhEUgAAAA4AAAACBAMAAACapPCZAAAAElBMVEX///+6uroiIiIyMjLc3NwA\n",
       "AAA6l9OrAAAAAXRSTlMAQObYZgAAABBJREFUCNdjcFYCAUUGKAAADR4BD8/TF5gAAAAASUVORK5C\n",
       "YII=\n",
       "\" style=\"display:inline;vertical-align:middle;\" /></a></td></tr>\n",
       "<tr><td>9</td><td>Variable</td><td></td><td><a class=\"ProveItLink\" href=\"../../../__pv_it/07527342713064c87612d00d8557c53d53d5324a0/expr.ipynb\"><img src=\"data:image/png;base64,iVBORw0KGgoAAAANSUhEUgAAAAsAAAAJBAMAAAAWSsseAAAAMFBMVEX///8yMjKqqqrMzMzu7u4i\n",
       "IiJmZmaYmJhEREQQEBC6urp2dnaIiIhUVFTc3NwAAAD87Fq/AAAAAXRSTlMAQObYZgAAAEhJREFU\n",
       "CNdjYOC7s2seAwPDygccHxgY+L4zsDUwMPB+YGA9wMDA38Dgb8DA8P4Agz6DA4O/AsNFJgMGxgKm\n",
       "MG6gyjunLE4xAAAZTBA5TB6DCwAAAABJRU5ErkJggg==\n",
       "\" style=\"display:inline;vertical-align:middle;\" /></a></td></tr>\n",
       "<tr><td>10</td><td>Literal</td><td></td><td><a class=\"ProveItLink\" href=\"../../../number/sets/complex/__pv_it/c357845f93a5a2d9f649129d299e7ec28dda4b960/expr.ipynb\"><img src=\"data:image/png;base64,iVBORw0KGgoAAAANSUhEUgAAAA8AAAAOBAMAAAACpFvcAAAAMFBMVEX////c3NyqqqqYmJhUVFR2\n",
       "dnbu7u66urrMzMxmZmZEREQQEBAyMjIiIiKIiIgAAAB7fvZ0AAAAAXRSTlMAQObYZgAAAGVJREFU\n",
       "CNdjYGDgu3N+70oGBgaO+gK2+CdAhoEzAwPTFwYG5oQNQN4UBgZORgcgI4+BIZM9gAEMWpkMoAx2\n",
       "KCOLAyrFk+AAYTAHgBhsQLy4DkjUJjAwsHg9Y6taBpLsvP/bnYEBACkBFGQfBv8RAAAAAElFTkSu\n",
       "QmCC\n",
       "\" style=\"display:inline;vertical-align:middle;\" /></a></td></tr>\n",
       "</table>\n"
      ],
      "text/plain": [
       "0. a -> ((-a) in Complexes) | a in Complexes\n",
       "   core type: Lambda\n",
       "   parameter: 9\n",
       "   body: 1\n",
       "   conditions: 2\\n1. (-a) in Complexes\n",
       "   core type: Operation\n",
       "   operator: 6\n",
       "   operands: 3\n",
       "2. (a in Complexes)\n",
       "   core type: ExprTuple\n",
       "   sub-expressions: 4\n",
       "3. (-a , Complexes)\n",
       "   core type: ExprTuple\n",
       "   sub-expressions: 5, 10\n",
       "4. a in Complexes\n",
       "   core type: Operation\n",
       "   operator: 6\n",
       "   operands: 7\n",
       "5. -a\n",
       "   core type: Operation\n",
       "   operator: 8\n",
       "   operand: 9\n",
       "6. in\n",
       "   core type: Literal\n",
       "   sub-expressions: \n",
       "7. (a , Complexes)\n",
       "   core type: ExprTuple\n",
       "   sub-expressions: 9, 10\n",
       "8. -\n",
       "   core type: Literal\n",
       "   sub-expressions: \n",
       "9. a\n",
       "   core type: Variable\n",
       "   sub-expressions: \n",
       "10. Complexes\n",
       "    core type: Literal\n",
       "    sub-expressions: "
      ]
     },
     "execution_count": 4,
     "metadata": {},
     "output_type": "execute_result"
    }
   ],
   "source": [
    "# display the expression information\n",
    "expr.exprInfo()"
   ]
  },
  {
   "cell_type": "code",
   "execution_count": null,
   "metadata": {},
   "outputs": [],
   "source": []
  }
 ],
 "metadata": {
  "kernelspec": {
   "display_name": "Python 3",
   "language": "python",
   "name": "python3"
  }
 },
 "nbformat": 4,
 "nbformat_minor": 0
}
