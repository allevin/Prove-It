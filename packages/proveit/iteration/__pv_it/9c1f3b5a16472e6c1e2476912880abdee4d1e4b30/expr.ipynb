{
 "cells": [
  {
   "cell_type": "markdown",
   "metadata": {},
   "source": [
    "Expression of type <a class=\"ProveItLink\" href=\"../../../../../doc/html/api/proveit.ExprTuple.html\">ExprTuple</a>\n",
    "=======================\n",
    "# from context <a class=\"ProveItLink\" href=\"../../_context_.ipynb\">proveit.iteration</a>"
   ]
  },
  {
   "cell_type": "code",
   "execution_count": 1,
   "metadata": {},
   "outputs": [],
   "source": [
    "# import Expression classes needed to build the expression\n",
    "from proveit import ExprTuple, Variable\n",
    "from proveit._common_ import m\n",
    "from proveit.number import Interval, five"
   ]
  },
  {
   "cell_type": "code",
   "execution_count": 2,
   "metadata": {},
   "outputs": [
    {
     "data": {
      "text/html": [
       "<strong id=\"expr\">expr:</strong> <a class=\"ProveItLink\" href=\"expr.ipynb\"><img src=\"data:image/png;base64,iVBORw0KGgoAAAANSUhEUgAAAI0AAAAVBAMAAACJRXC4AAAAMFBMVEX////c3NwiIiJERESqqqqY\n",
       "mJh2dnZmZmYQEBDu7u4yMjJUVFTMzMyIiIi6uroAAAAs73DqAAAAAXRSTlMAQObYZgAAAddJREFU\n",
       "OMutlD1Iw0AUx/+1Sc31iwyig5QWRDfBDwTdujvYSXDRigUXxS7q4GD9GEULgnRrFxEFd6lLJxG6\n",
       "FAQdqhicilAsDoKDH+/SpGmbNqngQS4vdy+/e/fe/w6wbOK69TxuFnXLX2jvxYZg127DwDw38hZO\n",
       "vgrgnnPELFy6M/TkyDi3cHIlAOnnJ2rjAmL5CjZO7q0V2HFmabmkjZPHOj8qJwW84h84zjA2jKHe\n",
       "Ys9Dwcx5Kiqmv8ujgWK0fBfWOK44To0iR8VBKWQqhjPJvk2caLbAPhSByinSAyGDQ2NxKrOQaxRH\n",
       "NZKrZoxfGQD7AufgjH8nYKzF4BlpdM8fVN9ruWZ9UojCpxounLQjbwX1MUvNGigRYIw4pgRxSAgS\n",
       "FxaXPHH262aDOTSqwEML7gLbcgsVd8XxJier+aF9TRhnUn6Gr8ZRDRelPQ5cqLvWB3lHkaQVZB2R\n",
       "ar3EDJZrnJnIJAK1DLzrde+DsENmOqQNql1QwQJw6TLq/kKbHac2heP7k9WI/sGOZI3j3bzmZopq\n",
       "wPagdSVgCZh+1DhuBZLcWqd+nYPOzoXY5jCL+ANntf29oXJEew7XEOM66m89r0qJDdvfh6QtD8+B\n",
       "w+oCEmOd3M+U7l//mXc+U6vGZQAAAABJRU5ErkJggg==\n",
       "\" style=\"display:inline;vertical-align:middle;\" /></a><br>"
      ],
      "text/plain": [
       "expr: (_x_ , {5...m})"
      ]
     },
     "execution_count": 2,
     "metadata": {},
     "output_type": "execute_result"
    }
   ],
   "source": [
    "# build up the expression from sub-expressions\n",
    "expr = ExprTuple(Variable(\"_x_\", latexFormat = r\"{_{-}x_{-}}\"), Interval(five, m))"
   ]
  },
  {
   "cell_type": "code",
   "execution_count": 3,
   "metadata": {},
   "outputs": [
    {
     "name": "stdout",
     "output_type": "stream",
     "text": [
      "Passed sanity check: built 'expr' is the same as the stored Expression.\n"
     ]
    }
   ],
   "source": [
    "# check that the built expression is the same as the stored expression\n",
    "%check_expr"
   ]
  },
  {
   "cell_type": "code",
   "execution_count": 4,
   "metadata": {},
   "outputs": [
    {
     "data": {
      "text/html": [
       "<table><tr><th>&nbsp;</th><th>core type</th><th>sub-expressions</th><th>expression</th></tr>\n",
       "<tr><td>0</td><td>ExprTuple</td><td>1, 2</td><td><a class=\"ProveItLink\" href=\"expr.ipynb\"><img src=\"data:image/png;base64,iVBORw0KGgoAAAANSUhEUgAAAI0AAAAVBAMAAACJRXC4AAAAMFBMVEX////c3NwiIiJERESqqqqY\n",
       "mJh2dnZmZmYQEBDu7u4yMjJUVFTMzMyIiIi6uroAAAAs73DqAAAAAXRSTlMAQObYZgAAAddJREFU\n",
       "OMutlD1Iw0AUx/+1Sc31iwyig5QWRDfBDwTdujvYSXDRigUXxS7q4GD9GEULgnRrFxEFd6lLJxG6\n",
       "FAQdqhicilAsDoKDH+/SpGmbNqngQS4vdy+/e/fe/w6wbOK69TxuFnXLX2jvxYZg127DwDw38hZO\n",
       "vgrgnnPELFy6M/TkyDi3cHIlAOnnJ2rjAmL5CjZO7q0V2HFmabmkjZPHOj8qJwW84h84zjA2jKHe\n",
       "Ys9Dwcx5Kiqmv8ujgWK0fBfWOK44To0iR8VBKWQqhjPJvk2caLbAPhSByinSAyGDQ2NxKrOQaxRH\n",
       "NZKrZoxfGQD7AufgjH8nYKzF4BlpdM8fVN9ruWZ9UojCpxounLQjbwX1MUvNGigRYIw4pgRxSAgS\n",
       "FxaXPHH262aDOTSqwEML7gLbcgsVd8XxJier+aF9TRhnUn6Gr8ZRDRelPQ5cqLvWB3lHkaQVZB2R\n",
       "ar3EDJZrnJnIJAK1DLzrde+DsENmOqQNql1QwQJw6TLq/kKbHac2heP7k9WI/sGOZI3j3bzmZopq\n",
       "wPagdSVgCZh+1DhuBZLcWqd+nYPOzoXY5jCL+ANntf29oXJEew7XEOM66m89r0qJDdvfh6QtD8+B\n",
       "w+oCEmOd3M+U7l//mXc+U6vGZQAAAABJRU5ErkJggg==\n",
       "\" style=\"display:inline;vertical-align:middle;\" /></a></td></tr>\n",
       "<tr><td>1</td><td>Variable</td><td></td><td><a class=\"ProveItLink\" href=\"../5144cf74ae6a683b49b974f1b9302b432abf7e930/expr.ipynb\"><img src=\"data:image/png;base64,iVBORw0KGgoAAAANSUhEUgAAACUAAAAJBAMAAABH3vh9AAAAKlBMVEX////MzMwQEBAiIiKYmJhm\n",
       "ZmZUVFSIiIh2dnbc3Nzu7u5ERESqqqoAAABwkVEpAAAAAXRSTlMAQObYZgAAAEtJREFUCNdjYIAA\n",
       "zvbM4+EMqGAFg7ODMppYA0Mtw0E0sQUM2QyYQB1TiPMiAxeakCf7BYYqVCGeK9wKnAUw3undQLCA\n",
       "a3tXRwmMAwC3+RVNp6j0GAAAAABJRU5ErkJggg==\n",
       "\" style=\"display:inline;vertical-align:middle;\" /></a></td></tr>\n",
       "<tr><td>2</td><td>Operation</td><td>operator:&nbsp;3<br>operands:&nbsp;4<br></td><td><a class=\"ProveItLink\" href=\"../5598076e771479671f8499728866632c87ad5cff0/expr.ipynb\"><img src=\"data:image/png;base64,iVBORw0KGgoAAAANSUhEUgAAAE4AAAAVBAMAAAAazcUaAAAAMFBMVEX///9ERETc3NyqqqpUVFS6\n",
       "urrMzMwyMjIQEBCIiIh2dnYiIiLu7u5mZmaYmJgAAABJJ2g3AAAAAXRSTlMAQObYZgAAARdJREFU\n",
       "KM9jYGDgu8eAH2QtApE8uxgIgQwDIMH5gYGB/Q3TYjzqeAuABFcDAwPH//8L8KgDKQET7FeWMRCj\n",
       "jgW/+0hXN3NKAIZspJDmlAWREw2g6kCeYTzA8xVD3QL3CTy/ApiBwcH3ARQ4EJM80JWxBmxk4PnJ\n",
       "AFLHUMvAkNIGEV6fgKaOB2gF8x9I2DHWMTBEABVIA9VhOBCkaAMDByhgQVHGAtTQzcBwXwFLLHBf\n",
       "YIhXOABxH9cGBoYLDAzlIKkDIPtgDKBJ5wMY3JkeIMJFl4G5CaTkN5A4vwHK0A9geM/AUMmFFH5s\n",
       "d11A1vI0AokTAlBGBAPDQgYGk2lI6hiIjA9i1PERVgcOQ56dhNMzOGz5FhORPwBSHUofNXD08QAA\n",
       "AABJRU5ErkJggg==\n",
       "\" style=\"display:inline;vertical-align:middle;\" /></a></td></tr>\n",
       "<tr><td>3</td><td>Literal</td><td></td><td><a class=\"ProveItLink\" href=\"../../../number/sets/integer/__pv_it/6e5362d7b256561b61a1b512bf7dc507dcde5dcf0/expr.ipynb\"><img src=\"data:image/png;base64,iVBORw0KGgoAAAANSUhEUgAAAE4AAAAOBAMAAABz3DdCAAAAMFBMVEX///8QEBCYmJiqqqoiIiLu\n",
       "7u7MzMyIiIi6uroyMjLc3NxmZmZERERUVFR2dnYAAAADo0JQAAAAAXRSTlMAQObYZgAAAWZJREFU\n",
       "KM99kL9LQlEUx7/2vL7XS9+LlqAh3Bp1kGhzLKjhCW1BvaX9UoPQD3ku1qb0D/S2ghTf4CKEuAU1\n",
       "6BaR1B3aKhIiNbAf56q8ybpwv3DO+XDOly+A158bF/+/p57UT79O2eO5iTaJ9u3XSWs8N1UgMXp+\n",
       "XfnjboCTTLb9evUPriz9mHXg6PrsUGit/i302r6rHZxnPGzWkOIoZbIuYhLO01Jxx1kHCm1OuLpn\n",
       "RFboiMhjvanNoQG0JPdmQ3PWwHrSrk5qHwebihOKV6B45SgugVnJnQKMIOUDQYHIzMIerC2HejQN\n",
       "xR+BZYQ6kuvTJyhSAI1Nb5APhj3V6oP8qNMyvu4wIDNqJaGbMgFUR6EZepdMs3CTcjXk0oBAzBJV\n",
       "LMmkOOYlF/aQY+90Z9GMilF8ZQcvin3PhFrAhqsPkjfqjOMECU+Y2xwXjS+Cs0BxF8U08Jzm0KQf\n",
       "sIcdoJTOXTlqzfoFcS9unliQnJ4AAAAASUVORK5CYII=\n",
       "\" style=\"display:inline;vertical-align:middle;\" /></a></td></tr>\n",
       "<tr><td>4</td><td>ExprTuple</td><td>5, 6</td><td><a class=\"ProveItLink\" href=\"../afe21f0edd115d5c08eb32550b7681e8e3fb01a90/expr.ipynb\"><img src=\"data:image/png;base64,iVBORw0KGgoAAAANSUhEUgAAADEAAAAVBAMAAAAdjxsPAAAAMFBMVEX////c3NwiIiJERESqqqqY\n",
       "mJh2dnZmZmYQEBDu7u4yMjJUVFTMzMyIiIi6uroAAAAs73DqAAAAAXRSTlMAQObYZgAAASVJREFU\n",
       "KM91kb9Lw0AUxz+x+XVWSyYXEQP+BQ4Obh0FFydHDTg4CZlcXDo424xuZiniIOjiUFC6ObgUHFUI\n",
       "TiIUq0NB0Oq7Sx2S1hve5X0/dy/fdw/+X7XuBHFLhztoJXP1IvE6Es6g+TMoX0phVoqdXnXKZBP8\n",
       "BC7Gf3QMr0wklTr7sl0/3eR5b3nhIerdix03piXCKieZIVG7qwaZ3Qc75chI1YZpLVtCfaNJrcHQ\n",
       "EPdLR6WG2J94Ynmmr0klxM0PaDnEjww5FOMh3nveespUzFuQ6GorksN0ivSlT4uXtrWBk7ILVsxa\n",
       "oD6ELGZsw7lrXD+LcHtwiWoG8AI7sP4oRTL84G8aQel1nGj07RReZy+fwjhR0hLzo6Qw2qoubU2a\n",
       "tnj4BRH8SNyczJceAAAAAElFTkSuQmCC\n",
       "\" style=\"display:inline;vertical-align:middle;\" /></a></td></tr>\n",
       "<tr><td>5</td><td>Literal</td><td></td><td><a class=\"ProveItLink\" href=\"../../../number/numeral/__pv_it/aaeeaca7d86eb2b7cdc49e25c3108b81b52ec5400/expr.ipynb\"><img src=\"data:image/png;base64,iVBORw0KGgoAAAANSUhEUgAAAAkAAAAOBAMAAAAPuiubAAAAMFBMVEX///8iIiJERES6urqIiIjM\n",
       "zMxUVFRmZmYQEBCqqqp2dnbc3Nzu7u6YmJgyMjIAAADYGhJvAAAAAXRSTlMAQObYZgAAAE1JREFU\n",
       "CNdj4LvDvZKBgeP//wUMDHxlSxkYGNgYGBCki5sBAwPTAZ7PYG4GmFwfwKAIJA0YGhkY6jcwFDAw\n",
       "vGNg2M7A2c3AwFqetoEBAKS8EE1WXEJLAAAAAElFTkSuQmCC\n",
       "\" style=\"display:inline;vertical-align:middle;\" /></a></td></tr>\n",
       "<tr><td>6</td><td>Variable</td><td></td><td><a class=\"ProveItLink\" href=\"../../../__pv_it/78af03acba5349fd70398a32ce59bae1da52f0870/expr.ipynb\"><img src=\"data:image/png;base64,iVBORw0KGgoAAAANSUhEUgAAABIAAAAJBAMAAADN8WE8AAAAMFBMVEX////MzMyYmJgQEBBmZmYi\n",
       "IiLu7u4yMjKqqqp2dnZUVFTc3NxERESIiIi6uroAAABe5jFNAAAAAXRSTlMAQObYZgAAAFtJREFU\n",
       "CNdj4Luz++5KvrsnGBg4uWoZ8ucx9DMwvGM9wJB/AcRKyH/A0J/A4M7AAKJcGRgsgSwgL4SB7zcb\n",
       "iMf2j4GrYBMD9z8Gpg8M7BcmMPAZMHAeYOBYKwAAtXMYHwtZnY0AAAAASUVORK5CYII=\n",
       "\" style=\"display:inline;vertical-align:middle;\" /></a></td></tr>\n",
       "</table>\n"
      ],
      "text/plain": [
       "0. (_x_ , {5...m})\n",
       "   core type: ExprTuple\n",
       "   sub-expressions: 1, 2\n",
       "1. _x_\n",
       "   core type: Variable\n",
       "   sub-expressions: \n",
       "2. {5...m}\n",
       "   core type: Operation\n",
       "   operator: 3\n",
       "   operands: 4\n",
       "3. Interval\n",
       "   core type: Literal\n",
       "   sub-expressions: \n",
       "4. (5 , m)\n",
       "   core type: ExprTuple\n",
       "   sub-expressions: 5, 6\n",
       "5. 5\n",
       "   core type: Literal\n",
       "   sub-expressions: \n",
       "6. m\n",
       "   core type: Variable\n",
       "   sub-expressions: "
      ]
     },
     "execution_count": 4,
     "metadata": {},
     "output_type": "execute_result"
    }
   ],
   "source": [
    "# display the expression information\n",
    "expr.exprInfo()"
   ]
  },
  {
   "cell_type": "code",
   "execution_count": null,
   "metadata": {},
   "outputs": [],
   "source": []
  }
 ],
 "metadata": {
  "kernelspec": {
   "display_name": "Python 3",
   "language": "python",
   "name": "python3"
  }
 },
 "nbformat": 4,
 "nbformat_minor": 0
}
