{
 "cells": [
  {
   "cell_type": "markdown",
   "metadata": {},
   "source": [
    "Expression of type <a class=\"ProveItLink\" href=\"../../../../../doc/html/api/proveit.ExprTuple.html\">ExprTuple</a>\n",
    "=======================\n",
    "# from context <a class=\"ProveItLink\" href=\"../../_context_.ipynb\">proveit.iteration</a>"
   ]
  },
  {
   "cell_type": "code",
   "execution_count": 1,
   "metadata": {},
   "outputs": [],
   "source": [
    "# import Expression classes needed to build the expression\n",
    "from proveit import ExprTuple\n",
    "from proveit._common_ import j, k\n",
    "from proveit.number import Add, one"
   ]
  },
  {
   "cell_type": "code",
   "execution_count": 2,
   "metadata": {},
   "outputs": [
    {
     "data": {
      "text/html": [
       "<strong id=\"expr\">expr:</strong> <a class=\"ProveItLink\" href=\"expr.ipynb\"><img src=\"data:image/png;base64,iVBORw0KGgoAAAANSUhEUgAAALkAAAAVBAMAAADoXVL6AAAAMFBMVEX////c3NwiIiJERESqqqqY\n",
       "mJh2dnZmZmYQEBDu7u4yMjJUVFTMzMyIiIi6uroAAAAs73DqAAAAAXRSTlMAQObYZgAAAepJREFU\n",
       "OMtjYKAt4LtAI4PjQMRpEBEvgCZlicbn3KEAZ7N+RJWb3YRpNFA/+wEgvRLEiUaTnPwTXTlXAcL0\n",
       "DWhyyzEMB+tfwMDAixwwnFAvzN79E02Egd8Bwwi43Bfs+sMYGDgmIKlngVnF+xNd5P0EDNNhcnw/\n",
       "seufwcDwioE407MYcJrOtgC7fmYHhjKQh+5aEjR9GUP4Pwhr7uUJqHJcCaz1D7DoZytgWAqiGFQJ\n",
       "mc75b9o8aPAmMAWgys1/mfneAYt+lgUMfUDqJsNXQqaz/IFLTeBHM93/LPaQ4WtgAHlXgO8jIdPZ\n",
       "Pz2AijAyvBdAlavXw246zwew6QxsoKzCvmrVoq5VqzYgTEcSYbq5CZ5oktDkdGdrMmDTDzS9BTmr\n",
       "4Hb7/AP8DgJomQcqx/mH4QsjjpAxBet1IGR6PMP8BwkMYOdzfkGVY/3A+Y8Nm37WBQzp4HiZQMj0\n",
       "zQz8Ahc4P4GF0OS4DRg+8jJgT5GPQJwi9Dis+FWKKrKUgbdsAmc/KHDYFVBVcwUwXM/Epp/rAQMH\n",
       "SIM6epxj5l5IngcpZiogUjWwJGBNYHjI+AdnWY8qwgqyQP4AkapzQSUwz3fmAiIrBKDp5wvMiVTM\n",
       "CSp+pDnNSomtboBOm5weQKRiblAwMtKq5rvDwAAALji4r9HyMxcAAAAASUVORK5CYII=\n",
       "\" style=\"display:inline;vertical-align:middle;\" /></a><br>"
      ],
      "text/plain": [
       "expr: (j + 1 + k , j + k + 1)"
      ]
     },
     "execution_count": 2,
     "metadata": {},
     "output_type": "execute_result"
    }
   ],
   "source": [
    "# build up the expression from sub-expressions\n",
    "expr = ExprTuple(Add(j, one, k), Add(j, k, one))"
   ]
  },
  {
   "cell_type": "code",
   "execution_count": 3,
   "metadata": {},
   "outputs": [
    {
     "name": "stdout",
     "output_type": "stream",
     "text": [
      "Passed sanity check: built 'expr' is the same as the stored Expression.\n"
     ]
    }
   ],
   "source": [
    "# check that the built expression is the same as the stored expression\n",
    "%check_expr"
   ]
  },
  {
   "cell_type": "code",
   "execution_count": 4,
   "metadata": {},
   "outputs": [
    {
     "data": {
      "text/html": [
       "<table><tr><th>&nbsp;</th><th>core type</th><th>sub-expressions</th><th>expression</th></tr>\n",
       "<tr><td>0</td><td>ExprTuple</td><td>1, 2</td><td><a class=\"ProveItLink\" href=\"expr.ipynb\"><img src=\"data:image/png;base64,iVBORw0KGgoAAAANSUhEUgAAALkAAAAVBAMAAADoXVL6AAAAMFBMVEX////c3NwiIiJERESqqqqY\n",
       "mJh2dnZmZmYQEBDu7u4yMjJUVFTMzMyIiIi6uroAAAAs73DqAAAAAXRSTlMAQObYZgAAAepJREFU\n",
       "OMtjYKAt4LtAI4PjQMRpEBEvgCZlicbn3KEAZ7N+RJWb3YRpNFA/+wEgvRLEiUaTnPwTXTlXAcL0\n",
       "DWhyyzEMB+tfwMDAixwwnFAvzN79E02Egd8Bwwi43Bfs+sMYGDgmIKlngVnF+xNd5P0EDNNhcnw/\n",
       "seufwcDwioE407MYcJrOtgC7fmYHhjKQh+5aEjR9GUP4Pwhr7uUJqHJcCaz1D7DoZytgWAqiGFQJ\n",
       "mc75b9o8aPAmMAWgys1/mfneAYt+lgUMfUDqJsNXQqaz/IFLTeBHM93/LPaQ4WtgAHlXgO8jIdPZ\n",
       "Pz2AijAyvBdAlavXw246zwew6QxsoKzCvmrVoq5VqzYgTEcSYbq5CZ5oktDkdGdrMmDTDzS9BTmr\n",
       "4Hb7/AP8DgJomQcqx/mH4QsjjpAxBet1IGR6PMP8BwkMYOdzfkGVY/3A+Y8Nm37WBQzp4HiZQMj0\n",
       "zQz8Ahc4P4GF0OS4DRg+8jJgT5GPQJwi9Dis+FWKKrKUgbdsAmc/KHDYFVBVcwUwXM/Epp/rAQMH\n",
       "SIM6epxj5l5IngcpZiogUjWwJGBNYHjI+AdnWY8qwgqyQP4AkapzQSUwz3fmAiIrBKDp5wvMiVTM\n",
       "CSp+pDnNSomtboBOm5weQKRiblAwMtKq5rvDwAAALji4r9HyMxcAAAAASUVORK5CYII=\n",
       "\" style=\"display:inline;vertical-align:middle;\" /></a></td></tr>\n",
       "<tr><td>1</td><td>Operation</td><td>operator:&nbsp;4<br>operands:&nbsp;3<br></td><td><a class=\"ProveItLink\" href=\"../3b38f85741fbd060adb1fb504e764e450a833d850/expr.ipynb\"><img src=\"data:image/png;base64,iVBORw0KGgoAAAANSUhEUgAAAFIAAAASBAMAAAA6WpTEAAAAMFBMVEX///8QEBDMzMyqqqpmZmYy\n",
       "MjK6uroiIiJ2dnZERESIiIju7u5UVFTc3NyYmJgAAACtHSfyAAAAAXRSTlMAQObYZgAAANBJREFU\n",
       "KM9jYGBg4PvLgAo4N6DyuQ8WQBh8B9Ak5qOpZGB1QOXvhSo8c34DqggDvwGqSisYY/0GNJH8DcSq\n",
       "bIVQu1ZuIKQyguHJNyDVwP6AgErubzu2fWZg4NrAT0gl86cFIIqXIf8CAZUs3xMgjHYQ4RoaWhga\n",
       "GoOkEiHCvvo4RG8IIb/vV+A3ANnL/ZmQyvcM+xMaQO79TUjlSQb+CyA/sRSgqXSRD0ENjTgGLg+Q\n",
       "ZnYHdDMxYw0E2C7cV4AyszBUoojoO0xhIA7sbHlAnEIAbZpG0T5dwEcAAAAASUVORK5CYII=\n",
       "\" style=\"display:inline;vertical-align:middle;\" /></a></td></tr>\n",
       "<tr><td>2</td><td>Operation</td><td>operator:&nbsp;4<br>operands:&nbsp;5<br></td><td><a class=\"ProveItLink\" href=\"../5209d380da87a3596fbd68de8df4af636b2e0c920/expr.ipynb\"><img src=\"data:image/png;base64,iVBORw0KGgoAAAANSUhEUgAAAFEAAAASBAMAAADRbS/HAAAAMFBMVEX///8QEBDMzMyqqqpmZmYy\n",
       "MjK6uroiIiJ2dnZERESIiIju7u5UVFTc3NyYmJgAAACtHSfyAAAAAXRSTlMAQObYZgAAAOFJREFU\n",
       "KM9jYGBg4PvLgAL2iDOgA84NYIrvAJp4CLpC7vkbUPh7YYzPcBUXINSZ86gqraA022+YCPMCKGM9\n",
       "dpUcAThU7lq5AVUlawOffwI2lQ3sD1BV7s/uzjfAopJrAz+aSnst7LbzMuRfQFXpX4bLR+0gwjU0\n",
       "tDA0NAbErNpTDaJYQkPDRUNDDyCpDEH1O/cnhs+8WM3k/oyqku8D9zcOrCqZf6Oq5JnA8JcLq0qW\n",
       "AlSVrA8YlnSjqnSRDwGFD7sDWhwhANxMcCRfuK8AZWZhqGRDVqnvMIWBOLCz5QFxCgGt4kc65LU/\n",
       "qQAAAABJRU5ErkJggg==\n",
       "\" style=\"display:inline;vertical-align:middle;\" /></a></td></tr>\n",
       "<tr><td>3</td><td>ExprTuple</td><td>6, 8, 7</td><td><a class=\"ProveItLink\" href=\"../678761903c43b5b963ca4dc234240d7de0d1daa60/expr.ipynb\"><img src=\"data:image/png;base64,iVBORw0KGgoAAAANSUhEUgAAAD0AAAAVBAMAAAAHs/uBAAAAMFBMVEX////c3NwiIiJERESqqqqY\n",
       "mJh2dnZmZmYQEBDu7u4yMjJUVFTMzMyIiIi6uroAAAAs73DqAAAAAXRSTlMAQObYZgAAATRJREFU\n",
       "KM9jYCAE+C7glIoDEadBRLwARIR5AlRqdhOQYD8AJFaCuNEQUU57mDzDchCxgIGBF8l4zt374fJf\n",
       "QEQYAwPHBGQb78N4fD9B5AwGhlcMWOXZFoCd48BQBjL3riW6PFcCa/0DBrYChqUgxQyq6PLzX2a+\n",
       "d2BgWcDQB+TcZPiKLu9/FuyKBoZ/QEqA7yO6fL0eiOT5AJZnYFNAl9edrQmRbwG7pgBNnvMPwxdG\n",
       "sPmmYNc4MHDC5UFKWD9w/mMDUgsY0sGumcAwXwEqz/kJSHMbMHzkZQD57xFIuAgYVCAnlvcvD+Ds\n",
       "B8YVVwDD9Uwg9YCBAxRz6kD8EB7hAvDgBIYvawLDQ8Y/QHYATJAVEdy5oPjl+c5cgF2eExQJ0pxm\n",
       "pUCKFy6KiHBukE2MuNPXHQYGADi4UeB7M7xEAAAAAElFTkSuQmCC\n",
       "\" style=\"display:inline;vertical-align:middle;\" /></a></td></tr>\n",
       "<tr><td>4</td><td>Literal</td><td></td><td><a class=\"ProveItLink\" href=\"../../../number/addition/__pv_it/3e6688136fa3c7aefbebe51301b7c3ebf0b69c440/expr.ipynb\"><img src=\"data:image/png;base64,iVBORw0KGgoAAAANSUhEUgAAAA4AAAAOBAMAAADtZjDiAAAAJFBMVEX///+6urpUVFQQEBAiIiIy\n",
       "MjJmZmaIiIiqqqrc3Nzu7u4AAACgHpL+AAAAAXRSTlMAQObYZgAAAB5JREFUCNdjYGBgWMkAAe2k\n",
       "0Kmhoc6hoUGk6BMHYgAHOwjcado9fwAAAABJRU5ErkJggg==\n",
       "\" style=\"display:inline;vertical-align:middle;\" /></a></td></tr>\n",
       "<tr><td>5</td><td>ExprTuple</td><td>6, 7, 8</td><td><a class=\"ProveItLink\" href=\"../8a7055213a51e6f98131e0db9915fd4edf99d8d00/expr.ipynb\"><img src=\"data:image/png;base64,iVBORw0KGgoAAAANSUhEUgAAAD0AAAAVBAMAAAAHs/uBAAAAMFBMVEX////c3NwiIiJERESqqqqY\n",
       "mJh2dnZmZmYQEBDu7u4yMjJUVFTMzMyIiIi6uroAAAAs73DqAAAAAXRSTlMAQObYZgAAATNJREFU\n",
       "KM9jYCAE+C7glIoDEadBRLwAWGB2E0LSkoGB/QCQXgniREMFl8OlJ/8EEgsYGHhRjP8CY8zeDZIP\n",
       "Y2DgmIDslp9wJi+IOYOB4RWydrYFqPLMDgxlQIrzriVEkCuBtf4BkjxbAcNSEMWgChGc/zLzvQOS\n",
       "PMsChj4gdZPhK0TQ/yyq+XwNDP+AlADfR4hgvR6qPM8HsDwDmwJEUHe2Jrp8C9hdBWAxzj8MXxjR\n",
       "zDcFu8uBgRNIsX7g/MfGwDABLs+6gCEd7K4JDPOBVnAbMHzkZeD8hOy/RyBOETCogE7kCmC4nsnA\n",
       "2Q+MLPaKX6VAgQcMHKCYUwfih4hQFoCxgOHLmsDwkPEPkB0Al2eFs3JB8cvznbkAuzwnKDqkOc1K\n",
       "Qe5BxBI8xrlBFjHiTl93GBgAzU5OTQiS3fgAAAAASUVORK5CYII=\n",
       "\" style=\"display:inline;vertical-align:middle;\" /></a></td></tr>\n",
       "<tr><td>6</td><td>Variable</td><td></td><td><a class=\"ProveItLink\" href=\"../../../__pv_it/612356038763a16ceac85a062629d016c986635c0/expr.ipynb\"><img src=\"data:image/png;base64,iVBORw0KGgoAAAANSUhEUgAAAAoAAAASBAMAAACQmVJ4AAAALVBMVEX////MzMyqqqpmZmYyMjK6\n",
       "uroiIiJ2dnZERESIiIju7u5UVFTc3NyYmJgAAAAeP2GyAAAAAXRSTlMAQObYZgAAAE1JREFUCNdj\n",
       "YGBg4H3DACI3MGADK2csAJIFbBcYGDgX8AFJHoa4AyCJMrC0M4jgegQimV6BSOYEEMlmwMDAeuCc\n",
       "AAODnEEzkL+iGKgTAMbaDxjCuhcwAAAAAElFTkSuQmCC\n",
       "\" style=\"display:inline;vertical-align:middle;\" /></a></td></tr>\n",
       "<tr><td>7</td><td>Variable</td><td></td><td><a class=\"ProveItLink\" href=\"../../../__pv_it/1a7356cf6caf039e07a5436d90e972cbb5e92b0a0/expr.ipynb\"><img src=\"data:image/png;base64,iVBORw0KGgoAAAANSUhEUgAAAAoAAAAOBAMAAADkjZCYAAAAMFBMVEX///9ERETc3NyIiIjMzMyY\n",
       "mJh2dna6urqqqqpmZmYyMjIiIiIQEBBUVFTu7u4AAAD6+w4kAAAAAXRSTlMAQObYZgAAAFBJREFU\n",
       "CNdj4LuzgQEIuCaASP4GEFn/AERmgQiGZQyR3xn4vj97/oOB44sBUIDzdwGQ5La7DVT03oG/QYEh\n",
       "nuF9QQLDRQZ+BQOGpQzM0x4AAD+VFjuIiDKbAAAAAElFTkSuQmCC\n",
       "\" style=\"display:inline;vertical-align:middle;\" /></a></td></tr>\n",
       "<tr><td>8</td><td>Literal</td><td></td><td><a class=\"ProveItLink\" href=\"../../../number/numeral/__pv_it/9be8badea4c35b9724062cecc501d17a3158d1d20/expr.ipynb\"><img src=\"data:image/png;base64,iVBORw0KGgoAAAANSUhEUgAAAAgAAAAPBAMAAAArJJMAAAAAHlBMVEX///+YmJgyMjIQEBBmZmaI\n",
       "iIhUVFTu7u5EREQAAAAw+MI4AAAAAXRSTlMAQObYZgAAACFJREFUCNdjYGBoZ2BgqJjOwFCWBiQY\n",
       "WEklWJwnOTKAAACjEQo8HvEr3AAAAABJRU5ErkJggg==\n",
       "\" style=\"display:inline;vertical-align:middle;\" /></a></td></tr>\n",
       "</table>\n"
      ],
      "text/plain": [
       "0. (j + 1 + k , j + k + 1)\n",
       "   core type: ExprTuple\n",
       "   sub-expressions: 1, 2\n",
       "1. j + 1 + k\n",
       "   core type: Operation\n",
       "   operator: 4\n",
       "   operands: 3\n",
       "2. j + k + 1\n",
       "   core type: Operation\n",
       "   operator: 4\n",
       "   operands: 5\n",
       "3. (j , 1 , k)\n",
       "   core type: ExprTuple\n",
       "   sub-expressions: 6, 8, 7\n",
       "4. +\n",
       "   core type: Literal\n",
       "   sub-expressions: \n",
       "5. (j , k , 1)\n",
       "   core type: ExprTuple\n",
       "   sub-expressions: 6, 7, 8\n",
       "6. j\n",
       "   core type: Variable\n",
       "   sub-expressions: \n",
       "7. k\n",
       "   core type: Variable\n",
       "   sub-expressions: \n",
       "8. 1\n",
       "   core type: Literal\n",
       "   sub-expressions: "
      ]
     },
     "execution_count": 4,
     "metadata": {},
     "output_type": "execute_result"
    }
   ],
   "source": [
    "# display the expression information\n",
    "expr.exprInfo()"
   ]
  },
  {
   "cell_type": "code",
   "execution_count": null,
   "metadata": {},
   "outputs": [],
   "source": []
  }
 ],
 "metadata": {
  "kernelspec": {
   "display_name": "Python 3",
   "language": "python",
   "name": "python3"
  }
 },
 "nbformat": 4,
 "nbformat_minor": 0
}
