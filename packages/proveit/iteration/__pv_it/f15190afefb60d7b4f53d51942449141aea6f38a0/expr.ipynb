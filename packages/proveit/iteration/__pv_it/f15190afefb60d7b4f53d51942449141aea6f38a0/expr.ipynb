{
 "cells": [
  {
   "cell_type": "markdown",
   "metadata": {},
   "source": [
    "Expression of type <a class=\"ProveItLink\" href=\"../../../../../doc/html/api/proveit.logic.Equals.html\">Equals</a>\n",
    "=======================\n",
    "# from context <a class=\"ProveItLink\" href=\"../../_context_.ipynb\">proveit.iteration</a>"
   ]
  },
  {
   "cell_type": "code",
   "execution_count": 1,
   "metadata": {},
   "outputs": [],
   "source": [
    "# import Expression classes needed to build the expression\n",
    "from proveit._common_ import m\n",
    "from proveit.logic import Equals\n",
    "from proveit.number import Add, five, four, one"
   ]
  },
  {
   "cell_type": "code",
   "execution_count": 2,
   "metadata": {},
   "outputs": [
    {
     "data": {
      "text/html": [
       "<strong id=\"expr\">expr:</strong> <a class=\"ProveItLink\" href=\"expr.ipynb\"><img src=\"data:image/png;base64,iVBORw0KGgoAAAANSUhEUgAAANcAAAAVBAMAAAAnc2Y5AAAAMFBMVEX////c3NwiIiJERESqqqqY\n",
       "mJh2dnZmZmYQEBDu7u4yMjJUVFTMzMyIiIi6uroAAAAs73DqAAAAAXRSTlMAQObYZgAAAl9JREFU\n",
       "SMe9ljFIG2EUx1+ai0kuyXkO4iCC1EHHIDp0c24RnQJ2kBsEB7UtBbVYoY0WQYeSIogokqA49ETR\n",
       "RYQg3O5goGN7cHSSgqKbdjB978td9PvyfZEs/cB38J6////u3bvvC8B/XUZJVblUFUbxL+I1AAQQ\n",
       "nKmqyUNp+QVA1MHrvAKQLH0kNFaBvqvM9BzFLiG7eoehQGUFIFmxctliUKqmi9/8q0shtchnN4tk\n",
       "lqE+WiLoiom46d/Fx8kKFKu5nUH/ukyhdUfIpshsnZQ+i+CymND8B0mwiNAfUJgZ1CuwpGbhAQx9\n",
       "4qQV6pshNIP/9aPFPTbcPl42Sm2KmFKzpncYxgVpAnipqpn702PQLsbEPuTfwBAvqw9j2AKpmUYP\n",
       "8ZI52Gwd+gAvFZiFc/F7Bn0FuHqWhnxJNIvRh2TJzQx6XxfizHmilPYwfCcMQstc3oOhHMzxss3I\n",
       "ao7cLHmN4VwwI4CXemT21iEIzaj8HmCJknO23WPbez67BhWzh+wTZo+ksMHbK5UG96KZR9AX0gLo\n",
       "BuMmzrcRJ+5VsXh7WreN0edspX2AlwqebAHgk0lQP9CN4AtMFFo52fAwuyzK2hihAXktPBkDOKnA\n",
       "DGfXZhAOcOgeIteglyxOlo23wkw6+pTkpQKzNtCyrP6bNaUpDdqpw3/UnRQnytP81/fhLyZ0ej0H\n",
       "4kfdKUoFZsnZosmgmKnarrLSbLDzSLarrGoHqUK1+2lwKmXUZ9UUda1mB8/UPyqnnj5iZCtO87HR\n",
       "AFCF2lXVkOoshAS1/qgBoAqFlD8LOlSFXzSVTgOAD/0DUrfKDaWRkqcAAAAASUVORK5CYII=\n",
       "\" style=\"display:inline;vertical-align:middle;\" /></a><br>"
      ],
      "text/plain": [
       "expr: (m + (4 + 1)) = (m + 5)"
      ]
     },
     "execution_count": 2,
     "metadata": {},
     "output_type": "execute_result"
    }
   ],
   "source": [
    "# build up the expression from sub-expressions\n",
    "expr = Equals(Add(m, Add(four, one)), Add(m, five))"
   ]
  },
  {
   "cell_type": "code",
   "execution_count": 3,
   "metadata": {},
   "outputs": [
    {
     "name": "stdout",
     "output_type": "stream",
     "text": [
      "Passed sanity check: built 'expr' is the same as the stored Expression.\n"
     ]
    }
   ],
   "source": [
    "# check that the built expression is the same as the stored expression\n",
    "%check_expr"
   ]
  },
  {
   "cell_type": "code",
   "execution_count": 4,
   "metadata": {},
   "outputs": [
    {
     "data": {
      "text/html": [
       "<table><tr><th>&nbsp;</th><th>core type</th><th>sub-expressions</th><th>expression</th></tr>\n",
       "<tr><td>0</td><td>Operation</td><td>operator:&nbsp;1<br>operands:&nbsp;2<br></td><td><a class=\"ProveItLink\" href=\"expr.ipynb\"><img src=\"data:image/png;base64,iVBORw0KGgoAAAANSUhEUgAAANcAAAAVBAMAAAAnc2Y5AAAAMFBMVEX////c3NwiIiJERESqqqqY\n",
       "mJh2dnZmZmYQEBDu7u4yMjJUVFTMzMyIiIi6uroAAAAs73DqAAAAAXRSTlMAQObYZgAAAl9JREFU\n",
       "SMe9ljFIG2EUx1+ai0kuyXkO4iCC1EHHIDp0c24RnQJ2kBsEB7UtBbVYoY0WQYeSIogokqA49ETR\n",
       "RYQg3O5goGN7cHSSgqKbdjB978td9PvyfZEs/cB38J6////u3bvvC8B/XUZJVblUFUbxL+I1AAQQ\n",
       "nKmqyUNp+QVA1MHrvAKQLH0kNFaBvqvM9BzFLiG7eoehQGUFIFmxctliUKqmi9/8q0shtchnN4tk\n",
       "lqE+WiLoiom46d/Fx8kKFKu5nUH/ukyhdUfIpshsnZQ+i+CymND8B0mwiNAfUJgZ1CuwpGbhAQx9\n",
       "4qQV6pshNIP/9aPFPTbcPl42Sm2KmFKzpncYxgVpAnipqpn702PQLsbEPuTfwBAvqw9j2AKpmUYP\n",
       "8ZI52Gwd+gAvFZiFc/F7Bn0FuHqWhnxJNIvRh2TJzQx6XxfizHmilPYwfCcMQstc3oOhHMzxss3I\n",
       "ao7cLHmN4VwwI4CXemT21iEIzaj8HmCJknO23WPbez67BhWzh+wTZo+ksMHbK5UG96KZR9AX0gLo\n",
       "BuMmzrcRJ+5VsXh7WreN0edspX2AlwqebAHgk0lQP9CN4AtMFFo52fAwuyzK2hihAXktPBkDOKnA\n",
       "DGfXZhAOcOgeIteglyxOlo23wkw6+pTkpQKzNtCyrP6bNaUpDdqpw3/UnRQnytP81/fhLyZ0ej0H\n",
       "4kfdKUoFZsnZosmgmKnarrLSbLDzSLarrGoHqUK1+2lwKmXUZ9UUda1mB8/UPyqnnj5iZCtO87HR\n",
       "AFCF2lXVkOoshAS1/qgBoAqFlD8LOlSFXzSVTgOAD/0DUrfKDaWRkqcAAAAASUVORK5CYII=\n",
       "\" style=\"display:inline;vertical-align:middle;\" /></a></td></tr>\n",
       "<tr><td>1</td><td>Literal</td><td></td><td><a class=\"ProveItLink\" href=\"../../../logic/equality/__pv_it/2fb26078095930560931daa0500ce419a39ea6cd0/expr.ipynb\"><img src=\"data:image/png;base64,iVBORw0KGgoAAAANSUhEUgAAAA4AAAAFBAMAAACHocAhAAAAFVBMVEX///9EREQiIiJUVFQyMjJm\n",
       "ZmYAAADubVkoAAAAAXRSTlMAQObYZgAAABRJREFUCNdjCHEBAWcGXCBICQQUAUpuAwlgGKrkAAAA\n",
       "AElFTkSuQmCC\n",
       "\" style=\"display:inline;vertical-align:middle;\" /></a></td></tr>\n",
       "<tr><td>2</td><td>ExprTuple</td><td>3, 4</td><td><a class=\"ProveItLink\" href=\"../c81daeea1c08106a2f4cb12f1584c7b1d6214ec00/expr.ipynb\"><img src=\"data:image/png;base64,iVBORw0KGgoAAAANSUhEUgAAALkAAAAVBAMAAADoXVL6AAAAMFBMVEX////c3NwiIiJERESqqqqY\n",
       "mJh2dnZmZmYQEBDu7u4yMjJUVFTMzMyIiIi6uroAAAAs73DqAAAAAXRSTlMAQObYZgAAAk1JREFU\n",
       "OMu1lT1oFEEUx/+X2/uYu9yxFsFCRCGFllGS2tSKJJWghS4opPDrEEwgCsZEUqRI1kZEkFsiIq5E\n",
       "tBHJEdw+hQsp4+GSSoTT00K0MOd7k1tw9mbuzsIp3s6+/+xv3r598xb4v6Mc/rOSifoBn2ezaZQ3\n",
       "tXLaBW73ABfOpi4hF9DsuXGNVIYTTnGC6IUe9Hyr5QAeUOp4/fvtq1RKC6pX1N4RPePoqcJux37r\n",
       "CtkztI2bXHI6DoCVoScJLz6SW8zp6VY71KK0D4HPMNGl4mjpGO2Hnh7HNNXG1r76m3J9NMGZ5uqw\n",
       "9fSp+K5x7OC209gaT9Dr21RW2Qqeki2uoXoNEwkOKXgMPf1kfOesh+JHZDVVetoVu3TnYRn4MjCC\n",
       "athBX+aHDfRP8ZGIhiF+I0mn8ZbEOdAebjXChIvZBId3Dwz093GRUIzWL+S8Dvr1AINNZjD6BrDI\n",
       "zlnfP+r7L9r0B9ij/+VV6RJ9GHmu0Jzvry75/iuaHid6xPR7/DBwBOVvQo2SlFO12s+NbpnhqAcq\n",
       "+Gq7SuzzwB2bMzMGjppesOgNqZwxaRe0mTnHM55Q1JTX9dSkQq8APhWcx7WV2kWmiULoqJypLnTW\n",
       "xHcyhyJcANayat73w7orK3JHftvsCKyNQOXssLncuql6Z1aeUZwvmb5iyxRdpAx+UOmDMzXSChHy\n",
       "trET2DrvXqnITlC2TWcVcSfobEiNuIs7Oq8cWUnJ9PgjXO3dgbXjEfR0tWHyIThglM3Ka2nD7vQi\n",
       "Jy5lXGRUSkE/fz760n8A5cK4UO5b/XMAAAAASUVORK5CYII=\n",
       "\" style=\"display:inline;vertical-align:middle;\" /></a></td></tr>\n",
       "<tr><td>3</td><td>Operation</td><td>operator:&nbsp;10<br>operands:&nbsp;5<br></td><td><a class=\"ProveItLink\" href=\"../0148dad9a2128fc6259a57a7ca1139c88ae2a4d50/expr.ipynb\"><img src=\"data:image/png;base64,iVBORw0KGgoAAAANSUhEUgAAAGcAAAAVBAMAAACphe0AAAAAMFBMVEX////MzMyYmJgQEBBmZmYi\n",
       "IiLu7u4yMjKqqqp2dnZUVFTc3NxERESIiIi6uroAAABe5jFNAAAAAXRSTlMAQObYZgAAAVBJREFU\n",
       "OMtjYKAmeItLQg+3HsYFMAIFHGNgYBHAqYk9AUiwHkATzfkGJAowFGdD6bsg4jJUE9sGCJ21CqRJ\n",
       "E0NTL5Q2A2JudagmjgtQUV6QpmRcmvhAbuBkx6qJp4GB787uuyv57p5A1cQyAUhoY9fE6cDAyVXL\n",
       "kD+PoR9VE7sC0CcXsGviKGB4Bwyi/AvompgfAE1kwK6Jz4AhIf8BQ38CgzuqJn6gpkYcmhg/MIB0\n",
       "uDIwWILE3MvLg8vLqyCa2CZANLGUl5eal5cvQNEEtCOEge83G6rzGhg4Vq1ab3UBu/OAdrD9Y+Aq\n",
       "2ISiiUcBrBWr85gKGLj/MTB9YGC/MAFFEzBYcWoCygEt4zzAwLFWADVyA0Cy678ooGhicf7uBIyO\n",
       "B7iSkTWyINwmMEjGmY1QUiUfiqa5+LMGVsBWgFMT9wJcMlwbcGfdvbgkLjIwAAAeXmWLoMdYjwAA\n",
       "AABJRU5ErkJggg==\n",
       "\" style=\"display:inline;vertical-align:middle;\" /></a></td></tr>\n",
       "<tr><td>4</td><td>Operation</td><td>operator:&nbsp;10<br>operands:&nbsp;6<br></td><td><a class=\"ProveItLink\" href=\"../3df01cdb37d0ec47a6df05b282ef25f2ea4763a10/expr.ipynb\"><img src=\"data:image/png;base64,iVBORw0KGgoAAAANSUhEUgAAADUAAAAQBAMAAABEqSrGAAAAMFBMVEX////MzMyYmJgQEBBmZmYi\n",
       "IiLu7u4yMjKqqqp2dnZUVFTc3NxERESIiIi6uroAAABe5jFNAAAAAXRSTlMAQObYZgAAAL1JREFU\n",
       "GNNjYMAK2NW4ZzDgAMz//0/AEMyG6vOaiKmhF0JxYTMMRY7vzu67K/nunkCTu3vrAQMDJ1ctQ/48\n",
       "hn5UOZ4Etn8MDO9YDzDkX0CXA4LFDAwJ+Q8Y+hMY3DHk5gswgCRcGRgsQVz38vLg8vIqIOsoUA5o\n",
       "IVBHCAPfbzYUfaYMDP4bQDqA1nIVbEKRc2BgKGdg4P7HwPSBgf3CBBS5LQwc1kD/GTBwHmDgWCuA\n",
       "IsfosmoDrnDBCt4isQH3ajL1H4bdbAAAAABJRU5ErkJggg==\n",
       "\" style=\"display:inline;vertical-align:middle;\" /></a></td></tr>\n",
       "<tr><td>5</td><td>ExprTuple</td><td>8, 7</td><td><a class=\"ProveItLink\" href=\"../168a085b40717fc91aaf898aaf6c0e89258ae87b0/expr.ipynb\"><img src=\"data:image/png;base64,iVBORw0KGgoAAAANSUhEUgAAAFUAAAAVBAMAAADFg78FAAAAMFBMVEX////c3NwiIiJERESqqqqY\n",
       "mJh2dnZmZmYQEBDu7u4yMjJUVFTMzMyIiIi6uroAAAAs73DqAAAAAXRSTlMAQObYZgAAAUdJREFU\n",
       "KM9jYCAF8F0gSlkciDiNIcyzAV3EkoGB/QCQXomhlskATWDyTyCxgIGBF9MJN6BqOQUg9OzdILVh\n",
       "DAwcE9CVMkZB1bLAjOEFqZ3BwPAKw1g2LqxqmR0YyoAhcVnw7ja+uyZQmUDsatkKGJYCSe61DPPz\n",
       "GPyhrryAXS3LAoY+BoZ3QI/PvwBTy8aAXS1fA8M/BoYJ8x8w+E9gqIJI+OBQy/MBpBaksIiBoQ3i\n",
       "hASIWvZVqxZ1rVq1AVltC5ACmqjOwPeRE2zY7t37uy9gd4MpA8hEzn8M3AtEGSBhzYHVDawLGNKB\n",
       "gf+PgfUDA9eFBM5PeNQCw+wR2HQ2AwaWvQc4+0Gxyrb/ewCKWvaKX6UMDFwPGDgEkNMnMgdhLhgA\n",
       "45g1AYnPiidl56KlSVbcaZ0TmCYZpJEE8GQRbpDzGInLQ3cYGAD2fl1ciNyrbwAAAABJRU5ErkJg\n",
       "gg==\n",
       "\" style=\"display:inline;vertical-align:middle;\" /></a></td></tr>\n",
       "<tr><td>6</td><td>ExprTuple</td><td>8, 9</td><td><a class=\"ProveItLink\" href=\"../b1abbbdf9d376c40030182623d3b2473e6c40e9d0/expr.ipynb\"><img src=\"data:image/png;base64,iVBORw0KGgoAAAANSUhEUgAAADEAAAAVBAMAAAAdjxsPAAAAMFBMVEX////c3NwiIiJERESqqqqY\n",
       "mJh2dnZmZmYQEBDu7u4yMjJUVFTMzMyIiIi6uroAAAAs73DqAAAAAXRSTlMAQObYZgAAARpJREFU\n",
       "KM91kT1LxEAQhp94yXlJzpArxMIfYHuI9v6D6wQbSSHYeHpYKGjhB2KpKe2SxkLBVgQR0tsELDUQ\n",
       "LC3k9AfcOZvTJYS4xcvMPMPs7L7w//HSmuK6kudK0VkzNphOJLqpkNZ4HEAMM9VhzuGW6Kq0hBXi\n",
       "FnoFH9SSxgp7st1LJ7v3sqVfkr3m0BxwLereEW3Tm5BGaI/AjLmAz6kuUfpH5DzInGOEh1FOL+RA\n",
       "k52E9lARVd6F80l5UUiuyJkk0r2A92UX5BSOfDVtGdUtl7rxLOptA7gFK2YTjBHWECcN7G8hc5gn\n",
       "xdbvxR7NLuZTYl/60N5/FHVyWn7ZEZ3I71hBiVg66ldc0MQWF5gvEe2Iq8YadW6/wQ/ihUKX+QuI\n",
       "hQAAAABJRU5ErkJggg==\n",
       "\" style=\"display:inline;vertical-align:middle;\" /></a></td></tr>\n",
       "<tr><td>7</td><td>Operation</td><td>operator:&nbsp;10<br>operands:&nbsp;11<br></td><td><a class=\"ProveItLink\" href=\"../740c2287fe0f727beb5bcb53a581364f59e0e26e0/expr.ipynb\"><img src=\"data:image/png;base64,iVBORw0KGgoAAAANSUhEUgAAACwAAAAQBAMAAACfEoDkAAAAMFBMVEX///+6urpmZmaqqqru7u52\n",
       "dnYyMjKYmJjc3NwQEBCIiIhEREQiIiJUVFTMzMwAAACQ7J58AAAAAXRSTlMAQObYZgAAAGxJREFU\n",
       "GNNjYGBgeMuABraAydNoot5fQCTXbCjXA0L53gULt2dDha2gNBdYOACrMHsDVmEvBqzCAViFmR9g\n",
       "FXZlgAirpaWdTEvLhQnb3r378xY2BzLMZiBBOPa/Ooowk+Y3deQgsmLACqQQTAALqSQHK6OXNQAA\n",
       "AABJRU5ErkJggg==\n",
       "\" style=\"display:inline;vertical-align:middle;\" /></a></td></tr>\n",
       "<tr><td>8</td><td>Variable</td><td></td><td><a class=\"ProveItLink\" href=\"../../../__pv_it/78af03acba5349fd70398a32ce59bae1da52f0870/expr.ipynb\"><img src=\"data:image/png;base64,iVBORw0KGgoAAAANSUhEUgAAABIAAAAJBAMAAADN8WE8AAAAMFBMVEX////MzMyYmJgQEBBmZmYi\n",
       "IiLu7u4yMjKqqqp2dnZUVFTc3NxERESIiIi6uroAAABe5jFNAAAAAXRSTlMAQObYZgAAAFtJREFU\n",
       "CNdj4Luz++5KvrsnGBg4uWoZ8ucx9DMwvGM9wJB/AcRKyH/A0J/A4M7AAKJcGRgsgSwgL4SB7zcb\n",
       "iMf2j4GrYBMD9z8Gpg8M7BcmMPAZMHAeYOBYKwAAtXMYHwtZnY0AAAAASUVORK5CYII=\n",
       "\" style=\"display:inline;vertical-align:middle;\" /></a></td></tr>\n",
       "<tr><td>9</td><td>Literal</td><td></td><td><a class=\"ProveItLink\" href=\"../../../number/numeral/__pv_it/aaeeaca7d86eb2b7cdc49e25c3108b81b52ec5400/expr.ipynb\"><img src=\"data:image/png;base64,iVBORw0KGgoAAAANSUhEUgAAAAkAAAAOBAMAAAAPuiubAAAAMFBMVEX///8iIiJERES6urqIiIjM\n",
       "zMxUVFRmZmYQEBCqqqp2dnbc3Nzu7u6YmJgyMjIAAADYGhJvAAAAAXRSTlMAQObYZgAAAE1JREFU\n",
       "CNdj4LvDvZKBgeP//wUMDHxlSxkYGNgYGBCki5sBAwPTAZ7PYG4GmFwfwKAIJA0YGhkY6jcwFDAw\n",
       "vGNg2M7A2c3AwFqetoEBAKS8EE1WXEJLAAAAAElFTkSuQmCC\n",
       "\" style=\"display:inline;vertical-align:middle;\" /></a></td></tr>\n",
       "<tr><td>10</td><td>Literal</td><td></td><td><a class=\"ProveItLink\" href=\"../../../number/addition/__pv_it/3e6688136fa3c7aefbebe51301b7c3ebf0b69c440/expr.ipynb\"><img src=\"data:image/png;base64,iVBORw0KGgoAAAANSUhEUgAAAA4AAAAOBAMAAADtZjDiAAAAJFBMVEX///+6urpUVFQQEBAiIiIy\n",
       "MjJmZmaIiIiqqqrc3Nzu7u4AAACgHpL+AAAAAXRSTlMAQObYZgAAAB5JREFUCNdjYGBgWMkAAe2k\n",
       "0Kmhoc6hoUGk6BMHYgAHOwjcado9fwAAAABJRU5ErkJggg==\n",
       "\" style=\"display:inline;vertical-align:middle;\" /></a></td></tr>\n",
       "<tr><td>11</td><td>ExprTuple</td><td>12, 13</td><td><a class=\"ProveItLink\" href=\"../7400382b44a7dab36babc73a403858512c8239a80/expr.ipynb\"><img src=\"data:image/png;base64,iVBORw0KGgoAAAANSUhEUgAAACkAAAAVBAMAAAAp9toTAAAAMFBMVEX////c3NwiIiJERESqqqqY\n",
       "mJh2dnZmZmYQEBDu7u4yMjJUVFTMzMyIiIi6uroAAAAs73DqAAAAAXRSTlMAQObYZgAAANJJREFU\n",
       "GNNjYMAO+C6gCcSBiNNwAgQsGRjYDwDplSCOMlRw8k8gsYCBgRdkAG8zRHD2bpBoGAMDxwQgLboY\n",
       "qpYXJDqDgeEViJOAIsrswFAGpFgFUETZChiWAqm5DCiiLAsY+kAGoIryNTD8A8odQBXl+QASncaA\n",
       "IdrCwOC9e/ePvagmmIJ5QF9MgIuyLmBIh4pyfkJ22SMQJ/t/KWe/ADBgKn6VMjBwPWDgEICFKIwB\n",
       "8jFrApTNCg/gXFhIIotyAkOSQRrKgUcJN8goRvQYusPAAACiyDrRkNW4KwAAAABJRU5ErkJggg==\n",
       "\" style=\"display:inline;vertical-align:middle;\" /></a></td></tr>\n",
       "<tr><td>12</td><td>Literal</td><td></td><td><a class=\"ProveItLink\" href=\"../../../number/numeral/__pv_it/23412ce59ea7e77353d2f9225e02248e73651ca00/expr.ipynb\"><img src=\"data:image/png;base64,iVBORw0KGgoAAAANSUhEUgAAAAoAAAAPBAMAAAAv0UM9AAAALVBMVEX///9mZmaqqqru7u52dnYy\n",
       "MjKYmJjc3NwQEBCIiIhEREQiIiJUVFTMzMwAAACUDTcXAAAAAXRSTlMAQObYZgAAAD5JREFUCNdj\n",
       "YGBguMMAArtABGcXiCyLApEOIJKtAERaMoBIBxDJdAFEmjCASJ0zZ16cBCkF64KQPu/EwBwGACv6\n",
       "DSRgin9qAAAAAElFTkSuQmCC\n",
       "\" style=\"display:inline;vertical-align:middle;\" /></a></td></tr>\n",
       "<tr><td>13</td><td>Literal</td><td></td><td><a class=\"ProveItLink\" href=\"../../../number/numeral/__pv_it/9be8badea4c35b9724062cecc501d17a3158d1d20/expr.ipynb\"><img src=\"data:image/png;base64,iVBORw0KGgoAAAANSUhEUgAAAAgAAAAPBAMAAAArJJMAAAAAHlBMVEX///+YmJgyMjIQEBBmZmaI\n",
       "iIhUVFTu7u5EREQAAAAw+MI4AAAAAXRSTlMAQObYZgAAACFJREFUCNdjYGBoZ2BgqJjOwFCWBiQY\n",
       "WEklWJwnOTKAAACjEQo8HvEr3AAAAABJRU5ErkJggg==\n",
       "\" style=\"display:inline;vertical-align:middle;\" /></a></td></tr>\n",
       "</table>\n"
      ],
      "text/plain": [
       "0. (m + (4 + 1)) = (m + 5)\n",
       "   core type: Operation\n",
       "   operator: 1\n",
       "   operands: 2\n",
       "1. =\n",
       "   core type: Literal\n",
       "   sub-expressions: \n",
       "2. (m + (4 + 1) , m + 5)\n",
       "   core type: ExprTuple\n",
       "   sub-expressions: 3, 4\n",
       "3. m + (4 + 1)\n",
       "   core type: Operation\n",
       "   operator: 10\n",
       "   operands: 5\n",
       "4. m + 5\n",
       "   core type: Operation\n",
       "   operator: 10\n",
       "   operands: 6\n",
       "5. (m , 4 + 1)\n",
       "   core type: ExprTuple\n",
       "   sub-expressions: 8, 7\n",
       "6. (m , 5)\n",
       "   core type: ExprTuple\n",
       "   sub-expressions: 8, 9\n",
       "7. 4 + 1\n",
       "   core type: Operation\n",
       "   operator: 10\n",
       "   operands: 11\n",
       "8. m\n",
       "   core type: Variable\n",
       "   sub-expressions: \n",
       "9. 5\n",
       "   core type: Literal\n",
       "   sub-expressions: \n",
       "10. +\n",
       "    core type: Literal\n",
       "    sub-expressions: \n",
       "11. (4 , 1)\n",
       "    core type: ExprTuple\n",
       "    sub-expressions: 12, 13\n",
       "12. 4\n",
       "    core type: Literal\n",
       "    sub-expressions: \n",
       "13. 1\n",
       "    core type: Literal\n",
       "    sub-expressions: "
      ]
     },
     "execution_count": 4,
     "metadata": {},
     "output_type": "execute_result"
    }
   ],
   "source": [
    "# display the expression information\n",
    "expr.exprInfo()"
   ]
  },
  {
   "cell_type": "code",
   "execution_count": null,
   "metadata": {},
   "outputs": [],
   "source": []
  }
 ],
 "metadata": {
  "kernelspec": {
   "display_name": "Python 3",
   "language": "python",
   "name": "python3"
  }
 },
 "nbformat": 4,
 "nbformat_minor": 0
}
