{
 "cells": [
  {
   "cell_type": "markdown",
   "metadata": {},
   "source": [
    "Expression of type <a class=\"ProveItLink\" href=\"../../../../../doc/html/api/proveit.logic.Equals.html\">Equals</a>\n",
    "=======================\n",
    "# from context <a class=\"ProveItLink\" href=\"../../_context_.ipynb\">proveit.iteration</a>"
   ]
  },
  {
   "cell_type": "code",
   "execution_count": 1,
   "metadata": {},
   "outputs": [],
   "source": [
    "# import Expression classes needed to build the expression\n",
    "from proveit._common_ import k\n",
    "from proveit.logic import Equals\n",
    "from proveit.number import Add, Neg, one"
   ]
  },
  {
   "cell_type": "code",
   "execution_count": 2,
   "metadata": {},
   "outputs": [
    {
     "data": {
      "text/html": [
       "<strong id=\"expr\">expr:</strong> <a class=\"ProveItLink\" href=\"expr.ipynb\"><img src=\"data:image/png;base64,iVBORw0KGgoAAAANSUhEUgAAAIcAAAAVBAMAAACeZ+BxAAAAMFBMVEX////c3NwiIiJERESqqqqY\n",
       "mJh2dnZmZmYQEBDu7u4yMjJUVFTMzMyIiIi6uroAAAAs73DqAAAAAXRSTlMAQObYZgAAATZJREFU\n",
       "OMtjYKAK4LtAtFLWB7hkTjMwzG7CEGWegE2kBkMdVOtKIF6OLsdpPwGbCBemG8BaeUG++QJXKgCh\n",
       "du9HMwQiwpqAYQhYKwdQju8nTIgFFkD3MbwDEuFswAhRsNZXQMy2gEhDGEzQRSFay4CYK4G1/gFR\n",
       "hqSji0K0LgWy5r/MfO9AlCFeIBb7KjDYwADX2gdk+Z8l1jsv0EUhWv8Bcb0eDkOklEBADyFyHt0Q\n",
       "iFaQIbqzNaHOXNQFdSYOl2AYAtHaAoy4PwxfGEnwDjvYfUoGDHCtpsAk9IHzHxtxhkSh5yaIVmCk\n",
       "cRswfORlICuKoVofAeM6gOF6Jqoh5f3LA1CVQ0TWoScTiFYOAWRBFvzlAmayh/oqgYTChQ2X9EoS\n",
       "CrBZuCSkSTBkIy4JRuKLR94D2MUB+yB6nVysx9cAAAAASUVORK5CYII=\n",
       "\" style=\"display:inline;vertical-align:middle;\" /></a><br>"
      ],
      "text/plain": [
       "expr: (k + 1 - 1) = k"
      ]
     },
     "execution_count": 2,
     "metadata": {},
     "output_type": "execute_result"
    }
   ],
   "source": [
    "# build up the expression from sub-expressions\n",
    "expr = Equals(Add(k, one, Neg(one)), k)"
   ]
  },
  {
   "cell_type": "code",
   "execution_count": 3,
   "metadata": {},
   "outputs": [
    {
     "name": "stdout",
     "output_type": "stream",
     "text": [
      "Passed sanity check: built 'expr' is the same as the stored Expression.\n"
     ]
    }
   ],
   "source": [
    "# check that the built expression is the same as the stored expression\n",
    "%check_expr"
   ]
  },
  {
   "cell_type": "code",
   "execution_count": 4,
   "metadata": {},
   "outputs": [
    {
     "data": {
      "text/html": [
       "<table><tr><th>&nbsp;</th><th>core type</th><th>sub-expressions</th><th>expression</th></tr>\n",
       "<tr><td>0</td><td>Operation</td><td>operator:&nbsp;1<br>operands:&nbsp;2<br></td><td><a class=\"ProveItLink\" href=\"expr.ipynb\"><img src=\"data:image/png;base64,iVBORw0KGgoAAAANSUhEUgAAAIcAAAAVBAMAAACeZ+BxAAAAMFBMVEX////c3NwiIiJERESqqqqY\n",
       "mJh2dnZmZmYQEBDu7u4yMjJUVFTMzMyIiIi6uroAAAAs73DqAAAAAXRSTlMAQObYZgAAATZJREFU\n",
       "OMtjYKAK4LtAtFLWB7hkTjMwzG7CEGWegE2kBkMdVOtKIF6OLsdpPwGbCBemG8BaeUG++QJXKgCh\n",
       "du9HMwQiwpqAYQhYKwdQju8nTIgFFkD3MbwDEuFswAhRsNZXQMy2gEhDGEzQRSFay4CYK4G1/gFR\n",
       "hqSji0K0LgWy5r/MfO9AlCFeIBb7KjDYwADX2gdk+Z8l1jsv0EUhWv8Bcb0eDkOklEBADyFyHt0Q\n",
       "iFaQIbqzNaHOXNQFdSYOl2AYAtHaAoy4PwxfGEnwDjvYfUoGDHCtpsAk9IHzHxtxhkSh5yaIVmCk\n",
       "cRswfORlICuKoVofAeM6gOF6Jqoh5f3LA1CVQ0TWoScTiFYOAWRBFvzlAmayh/oqgYTChQ2X9EoS\n",
       "CrBZuCSkSTBkIy4JRuKLR94D2MUB+yB6nVysx9cAAAAASUVORK5CYII=\n",
       "\" style=\"display:inline;vertical-align:middle;\" /></a></td></tr>\n",
       "<tr><td>1</td><td>Literal</td><td></td><td><a class=\"ProveItLink\" href=\"../../../logic/equality/__pv_it/2fb26078095930560931daa0500ce419a39ea6cd0/expr.ipynb\"><img src=\"data:image/png;base64,iVBORw0KGgoAAAANSUhEUgAAAA4AAAAFBAMAAACHocAhAAAAFVBMVEX///9EREQiIiJUVFQyMjJm\n",
       "ZmYAAADubVkoAAAAAXRSTlMAQObYZgAAABRJREFUCNdjCHEBAWcGXCBICQQUAUpuAwlgGKrkAAAA\n",
       "AElFTkSuQmCC\n",
       "\" style=\"display:inline;vertical-align:middle;\" /></a></td></tr>\n",
       "<tr><td>2</td><td>ExprTuple</td><td>3, 6</td><td><a class=\"ProveItLink\" href=\"../303f2bc6cb967ee438bcbdeaad0ad1ad0def1f2c0/expr.ipynb\"><img src=\"data:image/png;base64,iVBORw0KGgoAAAANSUhEUgAAAHQAAAAVBAMAAABlHNfrAAAAMFBMVEX////c3NwiIiJERESqqqqY\n",
       "mJh2dnZmZmYQEBDu7u4yMjJUVFTMzMyIiIi6uroAAAAs73DqAAAAAXRSTlMAQObYZgAAAT1JREFU\n",
       "OMtjYKAA8F0gRxfrAyBxmoFhdhOmnCW6APMEKAOiugaIVwLxcgydk3+iCXDaw7RCVHMxMPCC3PsF\n",
       "rkAAavJuNK2cu/fDtYJVsyYwcABF+ODqWGAe50W3leE+TCtENWcDwysgxbaAFK1Q1SYMZSB3J7DW\n",
       "PyBaK1R1OsNSIGf+y8z3DkRrhar2YugDcvzPkuJgqOoXDP+AZL0eDq2Mi5RA4AGKVqjq82CturM1\n",
       "QRz2VasWda1atYGArVDV5xlagOH8h+ELI9EOhql+wWAKjN0PnP/YiNIK0g1THQUMYwZuA4aPvMRo\n",
       "5fzEgFCdzvAIGFEBDNczUbWyV/wqRdVZ3r88gLNfAKF6HQOHALICFvw5kA+hGJgQgcmY+MzLimCy\n",
       "XYBkOqIzOII5C4ilSdCK5KaNoBRDVgHDe4ABALNGdboiAXMmAAAAAElFTkSuQmCC\n",
       "\" style=\"display:inline;vertical-align:middle;\" /></a></td></tr>\n",
       "<tr><td>3</td><td>Operation</td><td>operator:&nbsp;4<br>operands:&nbsp;5<br></td><td><a class=\"ProveItLink\" href=\"../ec6841fe736d575a4fe3028ecd47a205178d1d450/expr.ipynb\"><img src=\"data:image/png;base64,iVBORw0KGgoAAAANSUhEUgAAAFEAAAAQBAMAAACcpY7MAAAAMFBMVEX///9ERETc3NyIiIjMzMyY\n",
       "mJh2dna6urqqqqpmZmYyMjIiIiIQEBBUVFTu7u4AAAD6+w4kAAAAAXRSTlMAQObYZgAAAJVJREFU\n",
       "KM9j4LuzgQEdMD7AKsI1AV2YT/4BVhH+Bhj/EVT47n00lVCRerhwM4xhj2E7WCSLgViVyxgivxOl\n",
       "ku/7s+c/iFLJ8cWASNs5fxfgUKm1GwS2w0W47W6DxWetWrVn1aq1eMx878DfoECU7fEM7wsSiFJ5\n",
       "kYFfwYAolUsZmKc9QFU58/zKAFSF6CLNDMSCYryyACseSsKAnvm6AAAAAElFTkSuQmCC\n",
       "\" style=\"display:inline;vertical-align:middle;\" /></a></td></tr>\n",
       "<tr><td>4</td><td>Literal</td><td></td><td><a class=\"ProveItLink\" href=\"../../../number/addition/__pv_it/3e6688136fa3c7aefbebe51301b7c3ebf0b69c440/expr.ipynb\"><img src=\"data:image/png;base64,iVBORw0KGgoAAAANSUhEUgAAAA4AAAAOBAMAAADtZjDiAAAAJFBMVEX///+6urpUVFQQEBAiIiIy\n",
       "MjJmZmaIiIiqqqrc3Nzu7u4AAACgHpL+AAAAAXRSTlMAQObYZgAAAB5JREFUCNdjYGBgWMkAAe2k\n",
       "0Kmhoc6hoUGk6BMHYgAHOwjcado9fwAAAABJRU5ErkJggg==\n",
       "\" style=\"display:inline;vertical-align:middle;\" /></a></td></tr>\n",
       "<tr><td>5</td><td>ExprTuple</td><td>6, 9, 7</td><td><a class=\"ProveItLink\" href=\"../cc528b9234503f49766d4669fa45bcd69c7f9b100/expr.ipynb\"><img src=\"data:image/png;base64,iVBORw0KGgoAAAANSUhEUgAAAE8AAAAVBAMAAAD1D64kAAAAMFBMVEX////c3NwiIiJERESqqqqY\n",
       "mJh2dnZmZmYQEBDu7u4yMjJUVFTMzMyIiIi6uroAAAAs73DqAAAAAXRSTlMAQObYZgAAARZJREFU\n",
       "KM9jYCAa8F0grCYORJxmYJjdhBCzxFAFFGE/AKRXAvFyuOjkn+jqwCILGBh4QTZ/gYnO3o2uECIS\n",
       "xsDAMQHoTIQsL4aJYJEZDAyvgBTbAkIKmR0YyoAUVwJr/QO8CtkKGJYCqfkvM9874FXIsoChD0j5\n",
       "nyVkNV8Dwz8gVa+HqVBKCQT0oCI8H8AKdWdrEjARqLCFgYHzD8MXRoJWmzIwsH7g/MfGwDABJsyJ\n",
       "qZB1AUM6AwO3AcNHXgbOTzDh+QrYgucRMBgDGK5nMnD2CwBjv+JXKcOMj0jqwCIMXA8YOATg6Q3O\n",
       "eoiRgoBRyJoA47DChQMwFOZCkxkhhZygxCAN48FTOi+GgdwgVzESkRXuMDAAAENSU42Y8z+oAAAA\n",
       "AElFTkSuQmCC\n",
       "\" style=\"display:inline;vertical-align:middle;\" /></a></td></tr>\n",
       "<tr><td>6</td><td>Variable</td><td></td><td><a class=\"ProveItLink\" href=\"../../../__pv_it/1a7356cf6caf039e07a5436d90e972cbb5e92b0a0/expr.ipynb\"><img src=\"data:image/png;base64,iVBORw0KGgoAAAANSUhEUgAAAAoAAAAOBAMAAADkjZCYAAAAMFBMVEX///9ERETc3NyIiIjMzMyY\n",
       "mJh2dna6urqqqqpmZmYyMjIiIiIQEBBUVFTu7u4AAAD6+w4kAAAAAXRSTlMAQObYZgAAAFBJREFU\n",
       "CNdj4LuzgQEIuCaASP4GEFn/AERmgQiGZQyR3xn4vj97/oOB44sBUIDzdwGQ5La7DVT03oG/QYEh\n",
       "nuF9QQLDRQZ+BQOGpQzM0x4AAD+VFjuIiDKbAAAAAElFTkSuQmCC\n",
       "\" style=\"display:inline;vertical-align:middle;\" /></a></td></tr>\n",
       "<tr><td>7</td><td>Operation</td><td>operator:&nbsp;8<br>operand:&nbsp;9<br></td><td><a class=\"ProveItLink\" href=\"../27bb768acc4707a63c4de5a0b22e13dfe76b5c980/expr.ipynb\"><img src=\"data:image/png;base64,iVBORw0KGgoAAAANSUhEUgAAABgAAAAPBAMAAAAMihLoAAAAJ1BMVEX///+YmJgQEBBmZmaIiIhU\n",
       "VFTu7u5ERES6uroiIiIyMjLc3NwAAAAKCT4sAAAAAXRSTlMAQObYZgAAACpJREFUCNdjYICDMgST\n",
       "If0Ygp0aisRhYCGTs2smCMwg3wAYYDY6ZciADABBShCHMIgXsAAAAABJRU5ErkJggg==\n",
       "\" style=\"display:inline;vertical-align:middle;\" /></a></td></tr>\n",
       "<tr><td>8</td><td>Literal</td><td></td><td><a class=\"ProveItLink\" href=\"../../../number/negation/__pv_it/3fc7a08bb9735faa20ef8e175f6ea95511acc9c70/expr.ipynb\"><img src=\"data:image/png;base64,iVBORw0KGgoAAAANSUhEUgAAAA4AAAACBAMAAACapPCZAAAAElBMVEX///+6uroiIiIyMjLc3NwA\n",
       "AAA6l9OrAAAAAXRSTlMAQObYZgAAABBJREFUCNdjcFYCAUUGKAAADR4BD8/TF5gAAAAASUVORK5C\n",
       "YII=\n",
       "\" style=\"display:inline;vertical-align:middle;\" /></a></td></tr>\n",
       "<tr><td>9</td><td>Literal</td><td></td><td><a class=\"ProveItLink\" href=\"../../../number/numeral/__pv_it/9be8badea4c35b9724062cecc501d17a3158d1d20/expr.ipynb\"><img src=\"data:image/png;base64,iVBORw0KGgoAAAANSUhEUgAAAAgAAAAPBAMAAAArJJMAAAAAHlBMVEX///+YmJgyMjIQEBBmZmaI\n",
       "iIhUVFTu7u5EREQAAAAw+MI4AAAAAXRSTlMAQObYZgAAACFJREFUCNdjYGBoZ2BgqJjOwFCWBiQY\n",
       "WEklWJwnOTKAAACjEQo8HvEr3AAAAABJRU5ErkJggg==\n",
       "\" style=\"display:inline;vertical-align:middle;\" /></a></td></tr>\n",
       "</table>\n"
      ],
      "text/plain": [
       "0. (k + 1 - 1) = k\n",
       "   core type: Operation\n",
       "   operator: 1\n",
       "   operands: 2\n",
       "1. =\n",
       "   core type: Literal\n",
       "   sub-expressions: \n",
       "2. (k + 1 - 1 , k)\n",
       "   core type: ExprTuple\n",
       "   sub-expressions: 3, 6\n",
       "3. k + 1 - 1\n",
       "   core type: Operation\n",
       "   operator: 4\n",
       "   operands: 5\n",
       "4. +\n",
       "   core type: Literal\n",
       "   sub-expressions: \n",
       "5. (k , 1 , -1)\n",
       "   core type: ExprTuple\n",
       "   sub-expressions: 6, 9, 7\n",
       "6. k\n",
       "   core type: Variable\n",
       "   sub-expressions: \n",
       "7. -1\n",
       "   core type: Operation\n",
       "   operator: 8\n",
       "   operand: 9\n",
       "8. -\n",
       "   core type: Literal\n",
       "   sub-expressions: \n",
       "9. 1\n",
       "   core type: Literal\n",
       "   sub-expressions: "
      ]
     },
     "execution_count": 4,
     "metadata": {},
     "output_type": "execute_result"
    }
   ],
   "source": [
    "# display the expression information\n",
    "expr.exprInfo()"
   ]
  },
  {
   "cell_type": "code",
   "execution_count": null,
   "metadata": {},
   "outputs": [],
   "source": []
  }
 ],
 "metadata": {
  "kernelspec": {
   "display_name": "Python 3",
   "language": "python",
   "name": "python3"
  }
 },
 "nbformat": 4,
 "nbformat_minor": 0
}
