{
 "cells": [
  {
   "cell_type": "markdown",
   "metadata": {},
   "source": [
    "Expression of type <a class=\"ProveItLink\" href=\"../../../../../doc/html/api/proveit.logic.InSet.html\">InSet</a>\n",
    "=======================\n",
    "# from context <a class=\"ProveItLink\" href=\"../../_context_.ipynb\">proveit.iteration</a>"
   ]
  },
  {
   "cell_type": "code",
   "execution_count": 1,
   "metadata": {},
   "outputs": [],
   "source": [
    "# import Expression classes needed to build the expression\n",
    "from proveit import Variable\n",
    "from proveit._common_ import l\n",
    "from proveit.logic import InSet\n",
    "from proveit.number import DecimalSequence, Interval, one, zero"
   ]
  },
  {
   "cell_type": "code",
   "execution_count": 2,
   "metadata": {},
   "outputs": [
    {
     "data": {
      "text/html": [
       "<strong id=\"expr\">expr:</strong> <a class=\"ProveItLink\" href=\"expr.ipynb\"><img src=\"data:image/png;base64,iVBORw0KGgoAAAANSUhEUgAAAI4AAAAVBAMAAABicsu7AAAAMFBMVEX///+6uroyMjLMzMwQEBAi\n",
       "IiKYmJhmZmZUVFSIiIh2dnbc3Nzu7u5ERESqqqoAAABZrPngAAAAAXRSTlMAQObYZgAAAYZJREFU\n",
       "OMtjYCAM2Mrwy1utZiAG8EQRUmHygBhzOD8wMHDFC2BK3AHaUTndgIGBXYEYc7gcgEQ+pvjZPwwM\n",
       "rAI8wVAVxJlThCF8ogNozlQGhkn4zeGZFBqqgDDHE4t/geZEMDDIb8BrjlEOsnu4P2M35zsDg/0D\n",
       "ZHO4V3a/rERSxH0HxV9sH7Caw/0LaM4EZHNOMaQmuCIp4t0AZ4Jig+MCbnMWINuygGE+w2PkyEBK\n",
       "HcAoZ5mAzxwGdbjgAYZeFEUioaHQcLZwBhL2Bvj8xcCrhhBGjRELJCOBZkxhwB3OCQwMSCkeGCM8\n",
       "SIqOIpgcQGfd4MEZ7+83IIdPNjD1z0FSxJGAiK8ABoZvXKAkBQkAGMEJSYdLkdMh3zdeB27ksOQJ\n",
       "RIn3zyeBjPNAA3m+MkAJsDmsD3icISre3gWCAzw316yaBuOAdW8qRjZn+hog4wgw8nl8GaAEe8mn\n",
       "MgaeqhkGBPLXC1XkfEE4BzJQroo4c9gIqiKu/OGJJFgeChBVsLKtI1w+AwAJKmzSp1PIYgAAAABJ\n",
       "RU5ErkJggg==\n",
       "\" style=\"display:inline;vertical-align:middle;\" /></a><br>"
      ],
      "text/plain": [
       "expr: _x_ in {l...10}"
      ]
     },
     "execution_count": 2,
     "metadata": {},
     "output_type": "execute_result"
    }
   ],
   "source": [
    "# build up the expression from sub-expressions\n",
    "expr = InSet(Variable(\"_x_\", latexFormat = r\"{_{-}x_{-}}\"), Interval(l, DecimalSequence(one, zero)))"
   ]
  },
  {
   "cell_type": "code",
   "execution_count": 3,
   "metadata": {},
   "outputs": [
    {
     "name": "stdout",
     "output_type": "stream",
     "text": [
      "Passed sanity check: built 'expr' is the same as the stored Expression.\n"
     ]
    }
   ],
   "source": [
    "# check that the built expression is the same as the stored expression\n",
    "%check_expr"
   ]
  },
  {
   "cell_type": "code",
   "execution_count": 4,
   "metadata": {},
   "outputs": [
    {
     "data": {
      "text/html": [
       "<table><tr><th>&nbsp;</th><th>core type</th><th>sub-expressions</th><th>expression</th></tr>\n",
       "<tr><td>0</td><td>Operation</td><td>operator:&nbsp;1<br>operands:&nbsp;2<br></td><td><a class=\"ProveItLink\" href=\"expr.ipynb\"><img src=\"data:image/png;base64,iVBORw0KGgoAAAANSUhEUgAAAI4AAAAVBAMAAABicsu7AAAAMFBMVEX///+6uroyMjLMzMwQEBAi\n",
       "IiKYmJhmZmZUVFSIiIh2dnbc3Nzu7u5ERESqqqoAAABZrPngAAAAAXRSTlMAQObYZgAAAYZJREFU\n",
       "OMtjYCAM2Mrwy1utZiAG8EQRUmHygBhzOD8wMHDFC2BK3AHaUTndgIGBXYEYc7gcgEQ+pvjZPwwM\n",
       "rAI8wVAVxJlThCF8ogNozlQGhkn4zeGZFBqqgDDHE4t/geZEMDDIb8BrjlEOsnu4P2M35zsDg/0D\n",
       "ZHO4V3a/rERSxH0HxV9sH7Caw/0LaM4EZHNOMaQmuCIp4t0AZ4Jig+MCbnMWINuygGE+w2PkyEBK\n",
       "HcAoZ5mAzxwGdbjgAYZeFEUioaHQcLZwBhL2Bvj8xcCrhhBGjRELJCOBZkxhwB3OCQwMSCkeGCM8\n",
       "SIqOIpgcQGfd4MEZ7+83IIdPNjD1z0FSxJGAiK8ABoZvXKAkBQkAGMEJSYdLkdMh3zdeB27ksOQJ\n",
       "RIn3zyeBjPNAA3m+MkAJsDmsD3icISre3gWCAzw316yaBuOAdW8qRjZn+hog4wgw8nl8GaAEe8mn\n",
       "MgaeqhkGBPLXC1XkfEE4BzJQroo4c9gIqiKu/OGJJFgeChBVsLKtI1w+AwAJKmzSp1PIYgAAAABJ\n",
       "RU5ErkJggg==\n",
       "\" style=\"display:inline;vertical-align:middle;\" /></a></td></tr>\n",
       "<tr><td>1</td><td>Literal</td><td></td><td><a class=\"ProveItLink\" href=\"../../../logic/set_theory/membership/__pv_it/088cbc857536a28d4119ad9639a84270ccb0545d0/expr.ipynb\"><img src=\"data:image/png;base64,iVBORw0KGgoAAAANSUhEUgAAAAwAAAAMBAMAAACkW0HUAAAALVBMVEX///+qqqpmZmZUVFQQEBC6\n",
       "urpERETc3NyYmJjMzMwiIiIyMjKIiIju7u4AAACYsrA9AAAAAXRSTlMAQObYZgAAADxJREFUCNdj\n",
       "YOA9vWrVBgaG2b0MQMCeCyIZ2ArA1DUwyRCyahVIyWQI7xaEYm4AU7xLIdxqTQgtvGvVBgCkcQ7e\n",
       "geM/tQAAAABJRU5ErkJggg==\n",
       "\" style=\"display:inline;vertical-align:middle;\" /></a></td></tr>\n",
       "<tr><td>2</td><td>ExprTuple</td><td>3, 4</td><td><a class=\"ProveItLink\" href=\"../4ff1da562b2199df9052b2e5483166b8329f2df90/expr.ipynb\"><img src=\"data:image/png;base64,iVBORw0KGgoAAAANSUhEUgAAAIwAAAAVBAMAAABmhxuGAAAAMFBMVEX////c3NwiIiJERESqqqqY\n",
       "mJh2dnZmZmYQEBDu7u4yMjJUVFTMzMyIiIi6uroAAAAs73DqAAAAAXRSTlMAQObYZgAAAcVJREFU\n",
       "OMuNlD1Iw0AUx/+tRhtJ2u4O7eAsgroIouAmCtFBxcXQoepQ6KQgCkU7+hE62OKii4iLtLiICmYV\n",
       "B7M4OIjiJE5W1EnFd+ZijPnywV3u5b38HnfvnwOCbVwJDEvZJF/FjYC0khpSRioCwh0tLoKybmlk\n",
       "Pt3vGzSgfLNIqwUa7LkfhJmhITy5Xot9hGlHSTczWgDZCMM077goJ2ca5DTkHV5IRUwLw8Q8Ct1q\n",
       "iFYRr5sZYgGPCMOkdE9MIg/pxcxAF+bsWCRXG15yY6bgiUmpkD44Zhq7dmwTo8qyM5314dAf88aL\n",
       "DGLdjqnU3yGnKlh0LRDTkif3Ab9Eof0tLB3RsUjvgZtCD+n8Eg5t/S0cXyVFFOB7xK9AlOn8EsVf\n",
       "wcg7RGf6MQm2qvk1vLHOz+YB3XZsRH7Ctb1DZhkgoajc/S4hWhiSX1Oad2qSemVZ42tDIWJJTXy2\n",
       "Gp44N7i7nbYmhkEbKvpPw+9pHugk08Te2ezVj7OR5Bh5jj4RV8ipdFjT/MaegnLulCsLB4glvfUb\n",
       "tzAhxn8GwedGEfB/TJPhe1GYmIlQDNP5Fo1W77B51iUj7PZjOq8xsQRmjvWH38Wyji9aeHzKjiTt\n",
       "jQAAAABJRU5ErkJggg==\n",
       "\" style=\"display:inline;vertical-align:middle;\" /></a></td></tr>\n",
       "<tr><td>3</td><td>Variable</td><td></td><td><a class=\"ProveItLink\" href=\"../5144cf74ae6a683b49b974f1b9302b432abf7e930/expr.ipynb\"><img src=\"data:image/png;base64,iVBORw0KGgoAAAANSUhEUgAAACUAAAAJBAMAAABH3vh9AAAAKlBMVEX////MzMwQEBAiIiKYmJhm\n",
       "ZmZUVFSIiIh2dnbc3Nzu7u5ERESqqqoAAABwkVEpAAAAAXRSTlMAQObYZgAAAEtJREFUCNdjYIAA\n",
       "zvbM4+EMqGAFg7ODMppYA0Mtw0E0sQUM2QyYQB1TiPMiAxeakCf7BYYqVCGeK9wKnAUw3undQLCA\n",
       "a3tXRwmMAwC3+RVNp6j0GAAAAABJRU5ErkJggg==\n",
       "\" style=\"display:inline;vertical-align:middle;\" /></a></td></tr>\n",
       "<tr><td>4</td><td>Operation</td><td>operator:&nbsp;5<br>operands:&nbsp;6<br></td><td><a class=\"ProveItLink\" href=\"../ed6117fc850fded47ca7bb8c156d0f227eb58ab00/expr.ipynb\"><img src=\"data:image/png;base64,iVBORw0KGgoAAAANSUhEUgAAAEwAAAAVBAMAAAAeOBUnAAAAMFBMVEX///9ERETc3NyqqqpUVFS6\n",
       "urrMzMwyMjIQEBCIiIh2dnYiIiLu7u5mZmaYmJgAAABJJ2g3AAAAAXRSTlMAQObYZgAAAQhJREFU\n",
       "KM9jYGDgu8eAF2QtApE8uxgIgAwDIMH5gYGBa38ApqwM0IibcxMYGHgLgDyuBiDxHlPVwT8MDNwB\n",
       "PNugKsDEdQxVR1yAymYzMExHVtaJaRonUNkWBoZ4BYQypm/Ylf1lYMg3QCjj+4BVGdMvoLIJEGUg\n",
       "f7AI4Fa2AGJIBjAsOCbgU8ZQy8CQ0gYUyk/AZykDYx0DQwRQyQwG3F54wMAAiicWoNtEeHAGiL0C\n",
       "xG1cGxgY/nGBJA6AYhjGACsDBu9qpOD9dhKk4jeQOL8BygAr4zbgaUNSNncNSFkjkDghAGXw3vh+\n",
       "j4Hn1pQE5MjCC0hRxkdQGTi98ewkmHrBaZZvMeG8AADBKlTUrvPoLAAAAABJRU5ErkJggg==\n",
       "\" style=\"display:inline;vertical-align:middle;\" /></a></td></tr>\n",
       "<tr><td>5</td><td>Literal</td><td></td><td><a class=\"ProveItLink\" href=\"../../../number/sets/integer/__pv_it/6e5362d7b256561b61a1b512bf7dc507dcde5dcf0/expr.ipynb\"><img src=\"data:image/png;base64,iVBORw0KGgoAAAANSUhEUgAAAE4AAAAOBAMAAABz3DdCAAAAMFBMVEX///8QEBCYmJiqqqoiIiLu\n",
       "7u7MzMyIiIi6uroyMjLc3NxmZmZERERUVFR2dnYAAAADo0JQAAAAAXRSTlMAQObYZgAAAWZJREFU\n",
       "KM99kL9LQlEUx7/2vL7XS9+LlqAh3Bp1kGhzLKjhCW1BvaX9UoPQD3ku1qb0D/S2ghTf4CKEuAU1\n",
       "6BaR1B3aKhIiNbAf56q8ybpwv3DO+XDOly+A158bF/+/p57UT79O2eO5iTaJ9u3XSWs8N1UgMXp+\n",
       "XfnjboCTTLb9evUPriz9mHXg6PrsUGit/i302r6rHZxnPGzWkOIoZbIuYhLO01Jxx1kHCm1OuLpn\n",
       "RFboiMhjvanNoQG0JPdmQ3PWwHrSrk5qHwebihOKV6B45SgugVnJnQKMIOUDQYHIzMIerC2HejQN\n",
       "xR+BZYQ6kuvTJyhSAI1Nb5APhj3V6oP8qNMyvu4wIDNqJaGbMgFUR6EZepdMs3CTcjXk0oBAzBJV\n",
       "LMmkOOYlF/aQY+90Z9GMilF8ZQcvin3PhFrAhqsPkjfqjOMECU+Y2xwXjS+Cs0BxF8U08Jzm0KQf\n",
       "sIcdoJTOXTlqzfoFcS9unliQnJ4AAAAASUVORK5CYII=\n",
       "\" style=\"display:inline;vertical-align:middle;\" /></a></td></tr>\n",
       "<tr><td>6</td><td>ExprTuple</td><td>7, 8</td><td><a class=\"ProveItLink\" href=\"../928ae818b36601fb13ef08895e8fa2a949b0b7ad0/expr.ipynb\"><img src=\"data:image/png;base64,iVBORw0KGgoAAAANSUhEUgAAADAAAAAVBAMAAADyTXAxAAAAMFBMVEX////c3NwiIiJERESqqqqY\n",
       "mJh2dnZmZmYQEBDu7u4yMjJUVFTMzMyIiIi6uroAAAAs73DqAAAAAXRSTlMAQObYZgAAARBJREFU\n",
       "KM91ka9Pw0AUxz/82GhJb8UjVoFGgcajqjE0GBQJahjEBBa4YLZgmCEEQ0aQkFBLEPQfWPihCIol\n",
       "gALCt+2WpRRe7i7vvc/d+3Xwr9SSsq/yoOMW1r4HjgkLrd42aHGqC6+5310SmOcgZhqMIk11cv/l\n",
       "tcUEmA6VCEeXnGGae8t4l1oft8mL7Ho8Av4m3hss0JC9ygjUI7wvWOdY9sUv8AHL7MneLYNn1IL3\n",
       "WQ51lwLTpJj8PQU76rdrC+VO9tNQi+CHEe4QqMFqACuqC/8m4SgYAOZox2m5T8rRsLT1nK39k5DW\n",
       "xpXUM5yZPPxjYe4aicaVSVgA1SQbexkcas9mmil+4bn22B9fa2J+ADhxUJNXiJybAAAAAElFTkSu\n",
       "QmCC\n",
       "\" style=\"display:inline;vertical-align:middle;\" /></a></td></tr>\n",
       "<tr><td>7</td><td>Variable</td><td></td><td><a class=\"ProveItLink\" href=\"../../../__pv_it/3e5d49a51123592869b160296a6e123a424e07a70/expr.ipynb\"><img src=\"data:image/png;base64,iVBORw0KGgoAAAANSUhEUgAAAAYAAAAOBAMAAAD+sXAWAAAALVBMVEX////u7u5ERERUVFTMzMzc\n",
       "3NyIiIgQEBAyMjJmZmaYmJi6uroiIiJ2dnYAAACuOh6BAAAAAXRSTlMAQObYZgAAAD9JREFUCNdj\n",
       "YLjzmoGB6wEDA2cDAwN7AgNDnAMDwzoGBgYjIC5jYGB5wsDAVsDAwGQgwMC34AIDn2MCA9tcAQAo\n",
       "GAoWIEgceAAAAABJRU5ErkJggg==\n",
       "\" style=\"display:inline;vertical-align:middle;\" /></a></td></tr>\n",
       "<tr><td>8</td><td>Operation</td><td>operator:&nbsp;9<br>operands:&nbsp;10<br></td><td><a class=\"ProveItLink\" href=\"../3a48f131de7d102d9505c5d378fb4f4fa6620c350/expr.ipynb\"><img src=\"data:image/png;base64,iVBORw0KGgoAAAANSUhEUgAAABMAAAAPBAMAAAD0aukfAAAAMFBMVEX///92dnaqqqrc3Ny6uroi\n",
       "IiLMzMyYmJgyMjIQEBBmZmaIiIhUVFTu7u5EREQAAABoVq1WAAAAAXRSTlMAQObYZgAAAGVJREFU\n",
       "CNdjYGB4y8DAu3pXAgMDw72/DAysDrxhDAx3zgCZWxkYdgBFuYHMGAYGfwMI8xcDQ74CmMn8Ecjc\n",
       "gGAKYGVuQGgrgBumDzUMaIUo1ApWBd5pDAxcK38sZ+BduAfkHDgAABOZJVe5GJEqAAAAAElFTkSu\n",
       "QmCC\n",
       "\" style=\"display:inline;vertical-align:middle;\" /></a></td></tr>\n",
       "<tr><td>9</td><td>Literal</td><td></td><td><a class=\"ProveItLink\" href=\"../../../number/numeral/deci/__pv_it/b28e6317a1d330492d51cd67ccba81d4d210b8b30/expr.ipynb\"><img src=\"data:image/png;base64,iVBORw0KGgoAAAANSUhEUgAAAE8AAAAOBAMAAACcHlx8AAAAMFBMVEX///8iIiIQEBCYmJjc3Ny6\n",
       "urru7u5mZmZ2dnaqqqrMzMxEREQyMjJUVFSIiIgAAABUCcz6AAAAAXRSTlMAQObYZgAAAWhJREFU\n",
       "KM99kL9Lw3AQxV/bNE1s0rh1VNTBqWR2sAXdEwRns9XJtFsRwSxVx/oXNLgqNKugtLsgHQVtDWLt\n",
       "IEahVrT+vIsK1qEH+QS+PN67ewDuPlutExd/JtnA8EgTJv/eAPllSOj/EyLLGHsmbFoYNRuMVJ9Q\n",
       "80cKM2HQA8FojtIJA6bmsWMTQqmbg7gTuKslxG8Xg7N4cEiadnkGMfb6Ts062M0JBeyZyrizAkk9\n",
       "hV1GFVjKUaLKXrjnai5NoY+EK2aQnKsUsRzxYPskFHpIeIiGF9QZU1Cn56+hUoZIq1u2iapFx9JD\n",
       "xEctrPmVvlgPWuF3X/kJrCoCs/xgu7gKa/wgRD1obG8wlCZ7IY34o2hwvnUsco18+pEV7uFrOqAb\n",
       "pkNeYh9qY8Gu4EJ2e9JPjQcUm2ogn1MLkNyqoNNlVIniO4oupyUM1oB8/b11vs47bAfkWQpukAwQ\n",
       "n4TkQW67Qruz30F3C18Fz3drZAxLCAAAAABJRU5ErkJggg==\n",
       "\" style=\"display:inline;vertical-align:middle;\" /></a></td></tr>\n",
       "<tr><td>10</td><td>ExprTuple</td><td>11, 12</td><td><a class=\"ProveItLink\" href=\"../c36f3d09113341b3142bc662288ad6b85b3a940a0/expr.ipynb\"><img src=\"data:image/png;base64,iVBORw0KGgoAAAANSUhEUgAAACkAAAAVBAMAAAAp9toTAAAAMFBMVEX////c3NwiIiJERESqqqqY\n",
       "mJh2dnZmZmYQEBDu7u4yMjJUVFTMzMyIiIi6uroAAAAs73DqAAAAAXRSTlMAQObYZgAAAORJREFU\n",
       "GNNjYMAO+C6gCcSBiNNAzDwBIsBZe/0AA/sBIGslkGMPFWV6wKnDwLCAgYH3AgPn7v1Q0UsMDLcY\n",
       "GMIYGDhAAvehotoMDO8FGGYwMLxiQBL9zsBw3oGB2YGhDEmU8RtQ9AIDWwHDUnTRBAaWBQx9mKJ8\n",
       "DQz/ME3g+YAiCrYtACTawoDqMn8BkAmmMNEJEF8kMTCwLmBIh4pyfgL52IGzhwHkskdATnn/8gDO\n",
       "fgFggJTdBgYN1wMGDgFYiMIYIB+zJkDZrPAAzoWEJKooJzAkGaShHHiUcIOMYkSPoTsMDAA7aUeC\n",
       "nMq5UgAAAABJRU5ErkJggg==\n",
       "\" style=\"display:inline;vertical-align:middle;\" /></a></td></tr>\n",
       "<tr><td>11</td><td>Literal</td><td></td><td><a class=\"ProveItLink\" href=\"../../../number/numeral/__pv_it/9be8badea4c35b9724062cecc501d17a3158d1d20/expr.ipynb\"><img src=\"data:image/png;base64,iVBORw0KGgoAAAANSUhEUgAAAAgAAAAPBAMAAAArJJMAAAAAHlBMVEX///+YmJgyMjIQEBBmZmaI\n",
       "iIhUVFTu7u5EREQAAAAw+MI4AAAAAXRSTlMAQObYZgAAACFJREFUCNdjYGBoZ2BgqJjOwFCWBiQY\n",
       "WEklWJwnOTKAAACjEQo8HvEr3AAAAABJRU5ErkJggg==\n",
       "\" style=\"display:inline;vertical-align:middle;\" /></a></td></tr>\n",
       "<tr><td>12</td><td>Literal</td><td></td><td><a class=\"ProveItLink\" href=\"../../../number/numeral/__pv_it/ec23fc7a1b4222a5f4948b495002b97d6fa18c3c0/expr.ipynb\"><img src=\"data:image/png;base64,iVBORw0KGgoAAAANSUhEUgAAAAoAAAAOBAMAAADkjZCYAAAALVBMVEX///8QEBCYmJh2dnaqqqrc\n",
       "3NxUVFQyMjK6uroiIiLMzMyIiIhmZmbu7u4AAAAZjyHdAAAAAXRSTlMAQObYZgAAAEpJREFUCNdj\n",
       "YLiz+xQDA8MMhpsLGLgnMHAXMHAmMHA8ZeA7wMD1hCHOgIHrNZh8jES+Bss+AqlkeQrSxTyBgWEK\n",
       "w8UFDAx3rLMYAMCjFldHSx/9AAAAAElFTkSuQmCC\n",
       "\" style=\"display:inline;vertical-align:middle;\" /></a></td></tr>\n",
       "</table>\n"
      ],
      "text/plain": [
       "0. _x_ in {l...10}\n",
       "   core type: Operation\n",
       "   operator: 1\n",
       "   operands: 2\n",
       "1. in\n",
       "   core type: Literal\n",
       "   sub-expressions: \n",
       "2. (_x_ , {l...10})\n",
       "   core type: ExprTuple\n",
       "   sub-expressions: 3, 4\n",
       "3. _x_\n",
       "   core type: Variable\n",
       "   sub-expressions: \n",
       "4. {l...10}\n",
       "   core type: Operation\n",
       "   operator: 5\n",
       "   operands: 6\n",
       "5. Interval\n",
       "   core type: Literal\n",
       "   sub-expressions: \n",
       "6. (l , 10)\n",
       "   core type: ExprTuple\n",
       "   sub-expressions: 7, 8\n",
       "7. l\n",
       "   core type: Variable\n",
       "   sub-expressions: \n",
       "8. 10\n",
       "   core type: Operation\n",
       "   operator: 9\n",
       "   operands: 10\n",
       "9. Decimal\n",
       "   core type: Literal\n",
       "   sub-expressions: \n",
       "10. (1 , 0)\n",
       "    core type: ExprTuple\n",
       "    sub-expressions: 11, 12\n",
       "11. 1\n",
       "    core type: Literal\n",
       "    sub-expressions: \n",
       "12. 0\n",
       "    core type: Literal\n",
       "    sub-expressions: "
      ]
     },
     "execution_count": 4,
     "metadata": {},
     "output_type": "execute_result"
    }
   ],
   "source": [
    "# display the expression information\n",
    "expr.exprInfo()"
   ]
  },
  {
   "cell_type": "code",
   "execution_count": null,
   "metadata": {},
   "outputs": [],
   "source": []
  }
 ],
 "metadata": {
  "kernelspec": {
   "display_name": "Python 3",
   "language": "python",
   "name": "python3"
  }
 },
 "nbformat": 4,
 "nbformat_minor": 0
}
