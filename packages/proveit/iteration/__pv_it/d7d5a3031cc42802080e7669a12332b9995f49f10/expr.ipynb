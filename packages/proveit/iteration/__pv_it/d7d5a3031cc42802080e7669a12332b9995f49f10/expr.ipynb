{
 "cells": [
  {
   "cell_type": "markdown",
   "metadata": {},
   "source": [
    "Expression of type <a class=\"ProveItLink\" href=\"../../../../../doc/html/api/proveit.number.Add.html\">Add</a>\n",
    "=======================\n",
    "# from context <a class=\"ProveItLink\" href=\"../../_context_.ipynb\">proveit.iteration</a>"
   ]
  },
  {
   "cell_type": "code",
   "execution_count": 1,
   "metadata": {},
   "outputs": [],
   "source": [
    "# import Expression classes needed to build the expression\n",
    "from proveit._common_ import k, l\n",
    "from proveit.number import Add, Neg, one, two"
   ]
  },
  {
   "cell_type": "code",
   "execution_count": 2,
   "metadata": {},
   "outputs": [
    {
     "data": {
      "text/html": [
       "<strong id=\"expr\">expr:</strong> <a class=\"ProveItLink\" href=\"expr.ipynb\"><img src=\"data:image/png;base64,iVBORw0KGgoAAAANSUhEUgAAAJAAAAAVBAMAAABbFXrgAAAAMFBMVEX///9ERETc3NyIiIjMzMyY\n",
       "mJh2dna6urqqqqpmZmYyMjIiIiIQEBBUVFTu7u4AAAD6+w4kAAAAAXRSTlMAQObYZgAAAZlJREFU\n",
       "OMtjYKAnYDcgoIC1gIGB784GdOHs72gCvgim5ixxdOWMDxgYpgBprgkY5n9AE1gHZzFdYLBvQJXk\n",
       "kwcaxAVk8MMlHkFpzgWofGaEz3gfMHB/QJHlu3sfaBBrAgND/QOYqmYozWOAxoerYOA5x8D7HVWW\n",
       "wR4ozXeAgSGLAd0gfQdUfhXCH1z/GDixGcQgwcCwjCESTSoezeBpKGHC/Q+bQZkMfN+fPf+BKnUR\n",
       "zaClKAb5J2AzqIuB44sButcOo/GPoxi0kAGbQTUMnL8L0Axi+YKmFOhzptW7QQColFMAq0H+DNx2\n",
       "t8GRMmvVqj2rVq0FxfYBVD4DSvq0ZUCThRn03oG/QQHFDsYLD1DtPIFkDscEBiXsXotneF+AGnz8\n",
       "AWjBKYpkkCcDQxA2g6KAUcSvgJoA+f3QEmQmwhymbWmZG7BH/1IG5mmoXkHnM1QjJaL///+jGTTz\n",
       "/MoABoblyOHYjJZX4VlEAVvRgaKa7wAyrxhNKYzPmoDNIBTVbAZEFWzrCKp4RVwJqUtQxSXiDGIi\n",
       "5HBmBwYAvNiBerqmrXkAAAAASUVORK5CYII=\n",
       "\" style=\"display:inline;vertical-align:middle;\" /></a><br>"
      ],
      "text/plain": [
       "expr: k + l + (-2 + 1)"
      ]
     },
     "execution_count": 2,
     "metadata": {},
     "output_type": "execute_result"
    }
   ],
   "source": [
    "# build up the expression from sub-expressions\n",
    "expr = Add(k, l, Add(Neg(two), one))"
   ]
  },
  {
   "cell_type": "code",
   "execution_count": 3,
   "metadata": {},
   "outputs": [
    {
     "name": "stdout",
     "output_type": "stream",
     "text": [
      "Passed sanity check: built 'expr' is the same as the stored Expression.\n"
     ]
    }
   ],
   "source": [
    "# check that the built expression is the same as the stored expression\n",
    "%check_expr"
   ]
  },
  {
   "cell_type": "code",
   "execution_count": 4,
   "metadata": {},
   "outputs": [
    {
     "data": {
      "text/html": [
       "<table><tr><th>&nbsp;</th><th>core type</th><th>sub-expressions</th><th>expression</th></tr>\n",
       "<tr><td>0</td><td>Operation</td><td>operator:&nbsp;5<br>operands:&nbsp;1<br></td><td><a class=\"ProveItLink\" href=\"expr.ipynb\"><img src=\"data:image/png;base64,iVBORw0KGgoAAAANSUhEUgAAAJAAAAAVBAMAAABbFXrgAAAAMFBMVEX///9ERETc3NyIiIjMzMyY\n",
       "mJh2dna6urqqqqpmZmYyMjIiIiIQEBBUVFTu7u4AAAD6+w4kAAAAAXRSTlMAQObYZgAAAZlJREFU\n",
       "OMtjYKAnYDcgoIC1gIGB784GdOHs72gCvgim5ixxdOWMDxgYpgBprgkY5n9AE1gHZzFdYLBvQJXk\n",
       "kwcaxAVk8MMlHkFpzgWofGaEz3gfMHB/QJHlu3sfaBBrAgND/QOYqmYozWOAxoerYOA5x8D7HVWW\n",
       "wR4ozXeAgSGLAd0gfQdUfhXCH1z/GDixGcQgwcCwjCESTSoezeBpKGHC/Q+bQZkMfN+fPf+BKnUR\n",
       "zaClKAb5J2AzqIuB44sButcOo/GPoxi0kAGbQTUMnL8L0Axi+YKmFOhzptW7QQColFMAq0H+DNx2\n",
       "t8GRMmvVqj2rVq0FxfYBVD4DSvq0ZUCThRn03oG/QQHFDsYLD1DtPIFkDscEBiXsXotneF+AGnz8\n",
       "AWjBKYpkkCcDQxA2g6KAUcSvgJoA+f3QEmQmwhymbWmZG7BH/1IG5mmoXkHnM1QjJaL///+jGTTz\n",
       "/MoABoblyOHYjJZX4VlEAVvRgaKa7wAyrxhNKYzPmoDNIBTVbAZEFWzrCKp4RVwJqUtQxSXiDGIi\n",
       "5HBmBwYAvNiBerqmrXkAAAAASUVORK5CYII=\n",
       "\" style=\"display:inline;vertical-align:middle;\" /></a></td></tr>\n",
       "<tr><td>1</td><td>ExprTuple</td><td>2, 3, 4</td><td><a class=\"ProveItLink\" href=\"../d4fdda68e9265b6dbd6a2bdaecf87b6c6a1e5f020/expr.ipynb\"><img src=\"data:image/png;base64,iVBORw0KGgoAAAANSUhEUgAAAG8AAAAVBAMAAAC6Uq30AAAAMFBMVEX////c3NwiIiJERESqqqqY\n",
       "mJh2dnZmZmYQEBDu7u4yMjJUVFTMzMyIiIi6uroAAAAs73DqAAAAAXRSTlMAQObYZgAAAYtJREFU\n",
       "OMtjYCAb8F0gXU8ciDjNwDC7CSbCpv8ARQVj+eIH6LosGRjYDwDplUC8HC4aj6pImoH3C5q+yT+B\n",
       "xAIGBl6QSxGSVaiqdjIw6ENYnAIQevZukMYwBgaOCUBv/oSr7EXV2DGBYT/ErSywoOAFKZ7BwPAK\n",
       "5LMFcD/9QdW4fgJDPTaNzA4MZUCKK4EVKs36ASME9Sdg0chWwLAUSM1/mfneASzKbYCuj+cbAxaN\n",
       "LAsY+oCU/1mYMg6MSOUywKaRr4HhH5Cq14MpO38AQkspgQBIuJgBm0aeD2CNurM1oaI30C3k3QAi\n",
       "2VetWtS1atUGZI0twCj6w/CFEaLOmhNNozsDowB2p5qCgpLzHxsDAyj0vkJpeNAUMLBi08i6gCEd\n",
       "HJQfeRk4PwEF/syF0DAglJZWxIA9Oh4BAy6A4XomA2c/0GgYDY/E//8/oWpkr/hVCtTygIEDroxP\n",
       "AJVGBSwoEQVMcqwJMA4rGo0v2+ZCsxURGlEA5wJwloOCC2g0HsAN8g0jGUXHHQYGAHCpbw/Ntaut\n",
       "AAAAAElFTkSuQmCC\n",
       "\" style=\"display:inline;vertical-align:middle;\" /></a></td></tr>\n",
       "<tr><td>2</td><td>Variable</td><td></td><td><a class=\"ProveItLink\" href=\"../../../__pv_it/1a7356cf6caf039e07a5436d90e972cbb5e92b0a0/expr.ipynb\"><img src=\"data:image/png;base64,iVBORw0KGgoAAAANSUhEUgAAAAoAAAAOBAMAAADkjZCYAAAAMFBMVEX///9ERETc3NyIiIjMzMyY\n",
       "mJh2dna6urqqqqpmZmYyMjIiIiIQEBBUVFTu7u4AAAD6+w4kAAAAAXRSTlMAQObYZgAAAFBJREFU\n",
       "CNdj4LuzgQEIuCaASP4GEFn/AERmgQiGZQyR3xn4vj97/oOB44sBUIDzdwGQ5La7DVT03oG/QYEh\n",
       "nuF9QQLDRQZ+BQOGpQzM0x4AAD+VFjuIiDKbAAAAAElFTkSuQmCC\n",
       "\" style=\"display:inline;vertical-align:middle;\" /></a></td></tr>\n",
       "<tr><td>3</td><td>Variable</td><td></td><td><a class=\"ProveItLink\" href=\"../../../__pv_it/3e5d49a51123592869b160296a6e123a424e07a70/expr.ipynb\"><img src=\"data:image/png;base64,iVBORw0KGgoAAAANSUhEUgAAAAYAAAAOBAMAAAD+sXAWAAAALVBMVEX////u7u5ERERUVFTMzMzc\n",
       "3NyIiIgQEBAyMjJmZmaYmJi6uroiIiJ2dnYAAACuOh6BAAAAAXRSTlMAQObYZgAAAD9JREFUCNdj\n",
       "YLjzmoGB6wEDA2cDAwN7AgNDnAMDwzoGBgYjIC5jYGB5wsDAVsDAwGQgwMC34AIDn2MCA9tcAQAo\n",
       "GAoWIEgceAAAAABJRU5ErkJggg==\n",
       "\" style=\"display:inline;vertical-align:middle;\" /></a></td></tr>\n",
       "<tr><td>4</td><td>Operation</td><td>operator:&nbsp;5<br>operands:&nbsp;6<br></td><td><a class=\"ProveItLink\" href=\"../c635ab5bd78666db9769740f8ff7414c0805e84b0/expr.ipynb\"><img src=\"data:image/png;base64,iVBORw0KGgoAAAANSUhEUgAAADsAAAAQBAMAAABaYBp1AAAAMFBMVEX///+YmJh2dnbMzMwQEBDu\n",
       "7u6qqqqIiIhUVFRERERmZma6uroiIiIyMjLc3NwAAABSazM2AAAAAXRSTlMAQObYZgAAAJBJREFU\n",
       "GNNjYIACvlU3NzCgAs4ABPsFA/s3VFnW+UjSrQwM56HCDyBURz+StEsAQz/EdLYCqFA9kvT9AIb1\n",
       "eKSB4HwAPmnmTwz4pHknYJF+ewYETgN5Kxnw6WZvAJFcd+/e8b17twFDOouB7wFu3cwLGBjxSL9R\n",
       "UlqDx+7z////QZVe5X9LgAETwHVjB9xI0gDOtjQ98F9LdQAAAABJRU5ErkJggg==\n",
       "\" style=\"display:inline;vertical-align:middle;\" /></a></td></tr>\n",
       "<tr><td>5</td><td>Literal</td><td></td><td><a class=\"ProveItLink\" href=\"../../../number/addition/__pv_it/3e6688136fa3c7aefbebe51301b7c3ebf0b69c440/expr.ipynb\"><img src=\"data:image/png;base64,iVBORw0KGgoAAAANSUhEUgAAAA4AAAAOBAMAAADtZjDiAAAAJFBMVEX///+6urpUVFQQEBAiIiIy\n",
       "MjJmZmaIiIiqqqrc3Nzu7u4AAACgHpL+AAAAAXRSTlMAQObYZgAAAB5JREFUCNdjYGBgWMkAAe2k\n",
       "0Kmhoc6hoUGk6BMHYgAHOwjcado9fwAAAABJRU5ErkJggg==\n",
       "\" style=\"display:inline;vertical-align:middle;\" /></a></td></tr>\n",
       "<tr><td>6</td><td>ExprTuple</td><td>7, 8</td><td><a class=\"ProveItLink\" href=\"../4721fc95b53b6494f874f212d380378546af09cd0/expr.ipynb\"><img src=\"data:image/png;base64,iVBORw0KGgoAAAANSUhEUgAAADkAAAAVBAMAAAAOWFv7AAAAMFBMVEX////c3NwiIiJERESqqqqY\n",
       "mJh2dnZmZmYQEBDu7u4yMjJUVFTMzMyIiIi6uroAAAAs73DqAAAAAXRSTlMAQObYZgAAAPhJREFU\n",
       "KM9jYMAP+C7gkIgDEacRfPEqOxjTkoGB/QCQXgmXZNzAcN8Bwpz8E0gsYGDgRRjMPYGB6QOYNXs3\n",
       "SDaMgYFjAlyWo5OB+x+EyQuSncHA8AphLddPBnZkWWYHhjIUdzL9RJJlK2BYiiJ7PgFJlmUBQx+K\n",
       "7GIGJFm+BgagRYyLlEDgAdCLBsiyPB8Y/iFrvc2AJtuCJMlSwCCIarIpkuxxBoZAhglwWdYFDOkI\n",
       "SUa1tHQFzk/IPnqE5Nn///8rcPYLAF1X8asUGDoPGDgE0GMULgAMSdYENFlWOCsXJQbRZDmBMcgg\n",
       "jSYLj1FukBWMuFLOHQYGANJlP0xPeVw2AAAAAElFTkSuQmCC\n",
       "\" style=\"display:inline;vertical-align:middle;\" /></a></td></tr>\n",
       "<tr><td>7</td><td>Operation</td><td>operator:&nbsp;9<br>operand:&nbsp;10<br></td><td><a class=\"ProveItLink\" href=\"../9cd64560928a3eea5b8bd346c0fe76e791b1ec050/expr.ipynb\"><img src=\"data:image/png;base64,iVBORw0KGgoAAAANSUhEUgAAABkAAAAOBAMAAAAoFKpzAAAAMFBMVEX///+YmJh2dnbMzMwQEBDu\n",
       "7u6qqqqIiIhUVFRERERmZma6uroiIiIyMjLc3NwAAABSazM2AAAAAXRSTlMAQObYZgAAAFtJREFU\n",
       "CNdjYIACvlU3NzDAwQsG9m8IXisDw3kEzyWAoR+h9H4Aw3okjUCVAUgc5k/IUrwTGBjengGB00De\n",
       "SmQp9gZkXhYD3wOEGQsYGBG8N0pKa5As+///DwMAyBMb8hv9jf4AAAAASUVORK5CYII=\n",
       "\" style=\"display:inline;vertical-align:middle;\" /></a></td></tr>\n",
       "<tr><td>8</td><td>Literal</td><td></td><td><a class=\"ProveItLink\" href=\"../../../number/numeral/__pv_it/9be8badea4c35b9724062cecc501d17a3158d1d20/expr.ipynb\"><img src=\"data:image/png;base64,iVBORw0KGgoAAAANSUhEUgAAAAgAAAAPBAMAAAArJJMAAAAAHlBMVEX///+YmJgyMjIQEBBmZmaI\n",
       "iIhUVFTu7u5EREQAAAAw+MI4AAAAAXRSTlMAQObYZgAAACFJREFUCNdjYGBoZ2BgqJjOwFCWBiQY\n",
       "WEklWJwnOTKAAACjEQo8HvEr3AAAAABJRU5ErkJggg==\n",
       "\" style=\"display:inline;vertical-align:middle;\" /></a></td></tr>\n",
       "<tr><td>9</td><td>Literal</td><td></td><td><a class=\"ProveItLink\" href=\"../../../number/negation/__pv_it/3fc7a08bb9735faa20ef8e175f6ea95511acc9c70/expr.ipynb\"><img src=\"data:image/png;base64,iVBORw0KGgoAAAANSUhEUgAAAA4AAAACBAMAAACapPCZAAAAElBMVEX///+6uroiIiIyMjLc3NwA\n",
       "AAA6l9OrAAAAAXRSTlMAQObYZgAAABBJREFUCNdjcFYCAUUGKAAADR4BD8/TF5gAAAAASUVORK5C\n",
       "YII=\n",
       "\" style=\"display:inline;vertical-align:middle;\" /></a></td></tr>\n",
       "<tr><td>10</td><td>Literal</td><td></td><td><a class=\"ProveItLink\" href=\"../../../number/numeral/__pv_it/77d407a64829263cdc16415becd4c2293f77a4bf0/expr.ipynb\"><img src=\"data:image/png;base64,iVBORw0KGgoAAAANSUhEUgAAAAkAAAAOBAMAAAAPuiubAAAAMFBMVEX///+YmJh2dnbMzMwQEBAi\n",
       "IiLu7u6qqqqIiIhUVFS6urpEREQyMjJmZmbc3NwAAACOMKdoAAAAAXRSTlMAQObYZgAAAFBJREFU\n",
       "CNdj4Lt7egEDw0sGju8MDNMYGOIZGFwSGOYvYDifwHAfKAEUSQASzJ9ATJ4NIPI2iOCYACJrGfge\n",
       "MDBfYGB8wPBUSekqUPH//18ZAIliFhc3zESNAAAAAElFTkSuQmCC\n",
       "\" style=\"display:inline;vertical-align:middle;\" /></a></td></tr>\n",
       "</table>\n"
      ],
      "text/plain": [
       "0. k + l + (-2 + 1)\n",
       "   core type: Operation\n",
       "   operator: 5\n",
       "   operands: 1\n",
       "1. (k , l , -2 + 1)\n",
       "   core type: ExprTuple\n",
       "   sub-expressions: 2, 3, 4\n",
       "2. k\n",
       "   core type: Variable\n",
       "   sub-expressions: \n",
       "3. l\n",
       "   core type: Variable\n",
       "   sub-expressions: \n",
       "4. -2 + 1\n",
       "   core type: Operation\n",
       "   operator: 5\n",
       "   operands: 6\n",
       "5. +\n",
       "   core type: Literal\n",
       "   sub-expressions: \n",
       "6. (-2 , 1)\n",
       "   core type: ExprTuple\n",
       "   sub-expressions: 7, 8\n",
       "7. -2\n",
       "   core type: Operation\n",
       "   operator: 9\n",
       "   operand: 10\n",
       "8. 1\n",
       "   core type: Literal\n",
       "   sub-expressions: \n",
       "9. -\n",
       "   core type: Literal\n",
       "   sub-expressions: \n",
       "10. 2\n",
       "    core type: Literal\n",
       "    sub-expressions: "
      ]
     },
     "execution_count": 4,
     "metadata": {},
     "output_type": "execute_result"
    }
   ],
   "source": [
    "# display the expression information\n",
    "expr.exprInfo()"
   ]
  },
  {
   "cell_type": "code",
   "execution_count": null,
   "metadata": {},
   "outputs": [],
   "source": []
  }
 ],
 "metadata": {
  "kernelspec": {
   "display_name": "Python 3",
   "language": "python",
   "name": "python3"
  }
 },
 "nbformat": 4,
 "nbformat_minor": 0
}
