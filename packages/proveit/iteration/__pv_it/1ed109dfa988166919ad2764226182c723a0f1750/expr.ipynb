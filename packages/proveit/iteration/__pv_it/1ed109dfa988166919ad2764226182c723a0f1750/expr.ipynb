{
 "cells": [
  {
   "cell_type": "markdown",
   "metadata": {},
   "source": [
    "Expression of type <a class=\"ProveItLink\" href=\"../../../../../doc/html/api/proveit.ExprTuple.html\">ExprTuple</a>\n",
    "=======================\n",
    "# from context <a class=\"ProveItLink\" href=\"../../_context_.ipynb\">proveit.iteration</a>"
   ]
  },
  {
   "cell_type": "code",
   "execution_count": 1,
   "metadata": {},
   "outputs": [],
   "source": [
    "# import Expression classes needed to build the expression\n",
    "from proveit import ExprTuple\n",
    "from proveit._common_ import j, k\n",
    "from proveit.number import LessEq"
   ]
  },
  {
   "cell_type": "code",
   "execution_count": 2,
   "metadata": {},
   "outputs": [
    {
     "data": {
      "text/html": [
       "<strong id=\"expr\">expr:</strong> <a class=\"ProveItLink\" href=\"expr.ipynb\"><img src=\"data:image/png;base64,iVBORw0KGgoAAAANSUhEUgAAAD0AAAAVBAMAAAAHs/uBAAAAMFBMVEX////c3NwiIiJERESqqqqY\n",
       "mJh2dnZmZmYQEBDu7u4yMjJUVFTMzMyIiIi6uroAAAAs73DqAAAAAXRSTlMAQObYZgAAATBJREFU\n",
       "KM9jYCAE+C7glIoDEadBRLwAmtTsJiDBfgBIrARxoxEylx6AqeUgYgEDAy+q8ZxJUP4XEBHGwMAx\n",
       "AUW6KADqqp8gcgYDwytkacZdDlAW2wIQyezAUAbSddcSLMiz6wFMJVcCa/0DBrYChqUgxQyqYMON\n",
       "D8BNmv8y870DA8sChj4g5ybDV4jTb8Ll/c+CXdHA8A9ICfB9hIgGZcLk6/XAFn4AyzOwKUCFvQqh\n",
       "DN3ZmhD5FrBrCmD6Xu2B+PMPwxdGsPmmYNc4wC0+bAMiWT9w/mMDUgsY0sGuQQqk0yA/chswfORl\n",
       "APnvEUisCD3muAIYrgPdyvWAgQMUc+o4IhgYvqwJDA8Z/+CQzwXFL893ZojzGZXA4AEitkCRIM1p\n",
       "VopDOzfIbkbc6esOAwMAytRHeNb9zpAAAAAASUVORK5CYII=\n",
       "\" style=\"display:inline;vertical-align:middle;\" /></a><br>"
      ],
      "text/plain": [
       "expr: (j <= k)"
      ]
     },
     "execution_count": 2,
     "metadata": {},
     "output_type": "execute_result"
    }
   ],
   "source": [
    "# build up the expression from sub-expressions\n",
    "expr = ExprTuple(LessEq(j, k))"
   ]
  },
  {
   "cell_type": "code",
   "execution_count": 3,
   "metadata": {},
   "outputs": [
    {
     "name": "stdout",
     "output_type": "stream",
     "text": [
      "Passed sanity check: built 'expr' is the same as the stored Expression.\n"
     ]
    }
   ],
   "source": [
    "# check that the built expression is the same as the stored expression\n",
    "%check_expr"
   ]
  },
  {
   "cell_type": "code",
   "execution_count": 4,
   "metadata": {},
   "outputs": [
    {
     "data": {
      "text/html": [
       "<table><tr><th>&nbsp;</th><th>core type</th><th>sub-expressions</th><th>expression</th></tr>\n",
       "<tr><td>0</td><td>ExprTuple</td><td>1</td><td><a class=\"ProveItLink\" href=\"expr.ipynb\"><img src=\"data:image/png;base64,iVBORw0KGgoAAAANSUhEUgAAAD0AAAAVBAMAAAAHs/uBAAAAMFBMVEX////c3NwiIiJERESqqqqY\n",
       "mJh2dnZmZmYQEBDu7u4yMjJUVFTMzMyIiIi6uroAAAAs73DqAAAAAXRSTlMAQObYZgAAATBJREFU\n",
       "KM9jYCAE+C7glIoDEadBRLwAmtTsJiDBfgBIrARxoxEylx6AqeUgYgEDAy+q8ZxJUP4XEBHGwMAx\n",
       "AUW6KADqqp8gcgYDwytkacZdDlAW2wIQyezAUAbSddcSLMiz6wFMJVcCa/0DBrYChqUgxQyqYMON\n",
       "D8BNmv8y870DA8sChj4g5ybDV4jTb8Ll/c+CXdHA8A9ICfB9hIgGZcLk6/XAFn4AyzOwKUCFvQqh\n",
       "DN3ZmhD5FrBrCmD6Xu2B+PMPwxdGsPmmYNc4wC0+bAMiWT9w/mMDUgsY0sGuQQqk0yA/chswfORl\n",
       "APnvEUisCD3muAIYrgPdyvWAgQMUc+o4IhgYvqwJDA8Z/+CQzwXFL893ZojzGZXA4AEitkCRIM1p\n",
       "VopDOzfIbkbc6esOAwMAytRHeNb9zpAAAAAASUVORK5CYII=\n",
       "\" style=\"display:inline;vertical-align:middle;\" /></a></td></tr>\n",
       "<tr><td>1</td><td>Operation</td><td>operator:&nbsp;2<br>operands:&nbsp;3<br></td><td><a class=\"ProveItLink\" href=\"../24dd000d26c82338423550ea319d11d3731639be0/expr.ipynb\"><img src=\"data:image/png;base64,iVBORw0KGgoAAAANSUhEUgAAADIAAAASBAMAAADrvZC0AAAAMFBMVEX///8QEBDMzMyqqqpmZmYy\n",
       "MjK6uroiIiJ2dnZERESIiIju7u5UVFTc3NyYmJgAAACtHSfyAAAAAXRSTlMAQObYZgAAANBJREFU\n",
       "GNNjYGBg4PvLgAq4DxZAGHwH4GJcZWCK1QFNLcOOKgjNb4AmsaUOysjfgCpxJxjGaoVQu1ZCVOiE\n",
       "wdVEMDz5BqQa2B+AeDsnIdz2bce2z0DnbOAHy3BVwQ1n/rQARPEy5F+AOL4CJsXyPQHCaIcpDYEo\n",
       "YWBffRyiKARmCluMApjer8BvAFLE/RluNdNMsNR7hv0JDSBDfiO8xHQMRJ5k4L8AcgNLAXogxTFw\n",
       "eYAsYscIPqitF+4rYJfRd5gCYVwvB4EyhMzOlgfYtQAAz9I2G+72pVAAAAAASUVORK5CYII=\n",
       "\" style=\"display:inline;vertical-align:middle;\" /></a></td></tr>\n",
       "<tr><td>2</td><td>Literal</td><td></td><td><a class=\"ProveItLink\" href=\"../../../number/ordering/__pv_it/aa616d6a8fe3483e4e64187262e9c7dfe6a536a30/expr.ipynb\"><img src=\"data:image/png;base64,iVBORw0KGgoAAAANSUhEUgAAAA4AAAARBAMAAAAf5oCsAAAALVBMVEX///9ERETMzMyqqqoyMjJU\n",
       "VFTc3NyYmJhmZmZ2dnbu7u66uroiIiKIiIgAAAAFyQXGAAAAAXRSTlMAQObYZgAAAEBJREFUCNdj\n",
       "YEAGvKfB1MqzYGrFcTCV6gymVL3B1EIhqNKzCyAM9pNQBrNHAoTB7aoAYTAJwhjRDLhAzhkQOA0A\n",
       "iskPUSt9tJUAAAAASUVORK5CYII=\n",
       "\" style=\"display:inline;vertical-align:middle;\" /></a></td></tr>\n",
       "<tr><td>3</td><td>ExprTuple</td><td>4, 5</td><td><a class=\"ProveItLink\" href=\"../b913345561c55a019ccc63672757d0f12b9709f20/expr.ipynb\"><img src=\"data:image/png;base64,iVBORw0KGgoAAAANSUhEUgAAACkAAAAVBAMAAAAp9toTAAAAMFBMVEX////c3NwiIiJERESqqqqY\n",
       "mJh2dnZmZmYQEBDu7u4yMjJUVFTMzMyIiIi6uroAAAAs73DqAAAAAXRSTlMAQObYZgAAAQhJREFU\n",
       "GNNjYMAO+C6gCcSBiNMgIl4ALDC7CUiwHwASK0HcaKi65SBiAQMDL4oBX0BEGAMDxwRkO36CyBkM\n",
       "DK+QlbItAJHMDgxlQIrzriVElCuBtf4BA1sBw1KQEgZViOj8l5nvHRhYFjD0ATk3Gb5CRP3Pgk1v\n",
       "YPgHpAT4PkJE6/VAJM8HsCgDmwJEVHe2JkS0BWxLAViQ8w/DF0awCaZgWxwYOIEU6wfOf2xAagFD\n",
       "OtiWCQzzgYZwGzB85GUAuewRSLQI6CGghVwBDNczgdQDBg5QaKkD8UO4D4E+Zk1geMj4B8gOgIvm\n",
       "gkKS5ztzAbIoJygwpDnNSoEUL1wpN8hMRvQYusPAAAD6Jjrk3upVsAAAAABJRU5ErkJggg==\n",
       "\" style=\"display:inline;vertical-align:middle;\" /></a></td></tr>\n",
       "<tr><td>4</td><td>Variable</td><td></td><td><a class=\"ProveItLink\" href=\"../../../__pv_it/612356038763a16ceac85a062629d016c986635c0/expr.ipynb\"><img src=\"data:image/png;base64,iVBORw0KGgoAAAANSUhEUgAAAAoAAAASBAMAAACQmVJ4AAAALVBMVEX////MzMyqqqpmZmYyMjK6\n",
       "uroiIiJ2dnZERESIiIju7u5UVFTc3NyYmJgAAAAeP2GyAAAAAXRSTlMAQObYZgAAAE1JREFUCNdj\n",
       "YGBg4H3DACI3MGADK2csAJIFbBcYGDgX8AFJHoa4AyCJMrC0M4jgegQimV6BSOYEEMlmwMDAeuCc\n",
       "AAODnEEzkL+iGKgTAMbaDxjCuhcwAAAAAElFTkSuQmCC\n",
       "\" style=\"display:inline;vertical-align:middle;\" /></a></td></tr>\n",
       "<tr><td>5</td><td>Variable</td><td></td><td><a class=\"ProveItLink\" href=\"../../../__pv_it/1a7356cf6caf039e07a5436d90e972cbb5e92b0a0/expr.ipynb\"><img src=\"data:image/png;base64,iVBORw0KGgoAAAANSUhEUgAAAAoAAAAOBAMAAADkjZCYAAAAMFBMVEX///9ERETc3NyIiIjMzMyY\n",
       "mJh2dna6urqqqqpmZmYyMjIiIiIQEBBUVFTu7u4AAAD6+w4kAAAAAXRSTlMAQObYZgAAAFBJREFU\n",
       "CNdj4LuzgQEIuCaASP4GEFn/AERmgQiGZQyR3xn4vj97/oOB44sBUIDzdwGQ5La7DVT03oG/QYEh\n",
       "nuF9QQLDRQZ+BQOGpQzM0x4AAD+VFjuIiDKbAAAAAElFTkSuQmCC\n",
       "\" style=\"display:inline;vertical-align:middle;\" /></a></td></tr>\n",
       "</table>\n"
      ],
      "text/plain": [
       "0. (j <= k)\n",
       "   core type: ExprTuple\n",
       "   sub-expressions: 1\n",
       "1. j <= k\n",
       "   core type: Operation\n",
       "   operator: 2\n",
       "   operands: 3\n",
       "2. <=\n",
       "   core type: Literal\n",
       "   sub-expressions: \n",
       "3. (j , k)\n",
       "   core type: ExprTuple\n",
       "   sub-expressions: 4, 5\n",
       "4. j\n",
       "   core type: Variable\n",
       "   sub-expressions: \n",
       "5. k\n",
       "   core type: Variable\n",
       "   sub-expressions: "
      ]
     },
     "execution_count": 4,
     "metadata": {},
     "output_type": "execute_result"
    }
   ],
   "source": [
    "# display the expression information\n",
    "expr.exprInfo()"
   ]
  },
  {
   "cell_type": "code",
   "execution_count": null,
   "metadata": {},
   "outputs": [],
   "source": []
  }
 ],
 "metadata": {
  "kernelspec": {
   "display_name": "Python 3",
   "language": "python",
   "name": "python3"
  }
 },
 "nbformat": 4,
 "nbformat_minor": 0
}
