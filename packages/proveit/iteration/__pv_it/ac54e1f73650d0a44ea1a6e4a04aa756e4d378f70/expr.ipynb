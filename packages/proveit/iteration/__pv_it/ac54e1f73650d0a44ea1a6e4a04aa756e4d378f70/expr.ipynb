{
 "cells": [
  {
   "cell_type": "markdown",
   "metadata": {},
   "source": [
    "Expression of type <a class=\"ProveItLink\" href=\"../../../../../doc/html/api/proveit.logic.Equals.html\">Equals</a>\n",
    "=======================\n",
    "# from context <a class=\"ProveItLink\" href=\"../../_context_.ipynb\">proveit.iteration</a>"
   ]
  },
  {
   "cell_type": "code",
   "execution_count": 1,
   "metadata": {},
   "outputs": [],
   "source": [
    "# import Expression classes needed to build the expression\n",
    "from proveit._common_ import a, b\n",
    "from proveit.logic import Equals\n",
    "from proveit.number import Add, Neg"
   ]
  },
  {
   "cell_type": "code",
   "execution_count": 2,
   "metadata": {},
   "outputs": [
    {
     "data": {
      "text/html": [
       "<strong id=\"expr\">expr:</strong> <a class=\"ProveItLink\" href=\"expr.ipynb\"><img src=\"data:image/png;base64,iVBORw0KGgoAAAANSUhEUgAAAIQAAAAVBAMAAAB1UFtyAAAAMFBMVEX////c3NwiIiJERESqqqqY\n",
       "mJh2dnZmZmYQEBDu7u4yMjJUVFTMzMyIiIi6uroAAAAs73DqAAAAAXRSTlMAQObYZgAAAYdJREFU\n",
       "OMtjYKAC4LtAtNI4HOKnGTh3KBBnBPsBdJHZTSByJQMD1wYinbEAQ2Q1EPMC/cHvgFPTRBReGIb8\n",
       "FyDmmMDA8H4CTiN8UXgzMALyJ5B4BcRJDEQawYzuXDZQKJaBPHR3K6oM4968RlQjICJsBWhGcO29\n",
       "HcCwlIGB8zMDP2pYvxBg/oBqBESEBRyeVatAABSQDPMNGP4w9AElfjJwJKA44isDuwGKEVARvgY0\n",
       "V/hPYGhj+AeM7gUM/EAXSimBgB5QgvsDA9MFFCOgIjwf0IyoYmD4DjKCqYDhfQCyBL8Bw/wDEBdr\n",
       "QFwMFcEwQp2B7ytDCzhZ1KNEq/wFBn+GCciugIpAPFIEdq4yJFmw/2QwZQCFZRuK2fMdGHaxHEA2\n",
       "AirCip48/4BCMR3oUQd21BTOFcCizoYSFlARjEjdwlDNwPAIGKl7S9GTxb3D91BjBCLC9QA9m10H\n",
       "BiKHAN6MRSCBgwFrAl4j3qLwcrErWkl86cS5ALu4NPFGcOPwNCPxBd8drKIAAlZq1wzpNwgAAAAA\n",
       "SUVORK5CYII=\n",
       "\" style=\"display:inline;vertical-align:middle;\" /></a><br>"
      ],
      "text/plain": [
       "expr: (b - a + a) = b"
      ]
     },
     "execution_count": 2,
     "metadata": {},
     "output_type": "execute_result"
    }
   ],
   "source": [
    "# build up the expression from sub-expressions\n",
    "expr = Equals(Add(b, Neg(a), a), b)"
   ]
  },
  {
   "cell_type": "code",
   "execution_count": 3,
   "metadata": {},
   "outputs": [
    {
     "name": "stdout",
     "output_type": "stream",
     "text": [
      "Passed sanity check: built 'expr' is the same as the stored Expression.\n"
     ]
    }
   ],
   "source": [
    "# check that the built expression is the same as the stored expression\n",
    "%check_expr"
   ]
  },
  {
   "cell_type": "code",
   "execution_count": 4,
   "metadata": {},
   "outputs": [
    {
     "data": {
      "text/html": [
       "<table><tr><th>&nbsp;</th><th>core type</th><th>sub-expressions</th><th>expression</th></tr>\n",
       "<tr><td>0</td><td>Operation</td><td>operator:&nbsp;1<br>operands:&nbsp;2<br></td><td><a class=\"ProveItLink\" href=\"expr.ipynb\"><img src=\"data:image/png;base64,iVBORw0KGgoAAAANSUhEUgAAAIQAAAAVBAMAAAB1UFtyAAAAMFBMVEX////c3NwiIiJERESqqqqY\n",
       "mJh2dnZmZmYQEBDu7u4yMjJUVFTMzMyIiIi6uroAAAAs73DqAAAAAXRSTlMAQObYZgAAAYdJREFU\n",
       "OMtjYKAC4LtAtNI4HOKnGTh3KBBnBPsBdJHZTSByJQMD1wYinbEAQ2Q1EPMC/cHvgFPTRBReGIb8\n",
       "FyDmmMDA8H4CTiN8UXgzMALyJ5B4BcRJDEQawYzuXDZQKJaBPHR3K6oM4968RlQjICJsBWhGcO29\n",
       "HcCwlIGB8zMDP2pYvxBg/oBqBESEBRyeVatAABSQDPMNGP4w9AElfjJwJKA44isDuwGKEVARvgY0\n",
       "V/hPYGhj+AeM7gUM/EAXSimBgB5QgvsDA9MFFCOgIjwf0IyoYmD4DjKCqYDhfQCyBL8Bw/wDEBdr\n",
       "QFwMFcEwQp2B7ytDCzhZ1KNEq/wFBn+GCciugIpAPFIEdq4yJFmw/2QwZQCFZRuK2fMdGHaxHEA2\n",
       "AirCip48/4BCMR3oUQd21BTOFcCizoYSFlARjEjdwlDNwPAIGKl7S9GTxb3D91BjBCLC9QA9m10H\n",
       "BiKHAN6MRSCBgwFrAl4j3qLwcrErWkl86cS5ALu4NPFGcOPwNCPxBd8drKIAAlZq1wzpNwgAAAAA\n",
       "SUVORK5CYII=\n",
       "\" style=\"display:inline;vertical-align:middle;\" /></a></td></tr>\n",
       "<tr><td>1</td><td>Literal</td><td></td><td><a class=\"ProveItLink\" href=\"../../../logic/equality/__pv_it/2fb26078095930560931daa0500ce419a39ea6cd0/expr.ipynb\"><img src=\"data:image/png;base64,iVBORw0KGgoAAAANSUhEUgAAAA4AAAAFBAMAAACHocAhAAAAFVBMVEX///9EREQiIiJUVFQyMjJm\n",
       "ZmYAAADubVkoAAAAAXRSTlMAQObYZgAAABRJREFUCNdjCHEBAWcGXCBICQQUAUpuAwlgGKrkAAAA\n",
       "AElFTkSuQmCC\n",
       "\" style=\"display:inline;vertical-align:middle;\" /></a></td></tr>\n",
       "<tr><td>2</td><td>ExprTuple</td><td>3, 6</td><td><a class=\"ProveItLink\" href=\"../4759cac8883c1a9011b4f19ed33fb169ac66ec510/expr.ipynb\"><img src=\"data:image/png;base64,iVBORw0KGgoAAAANSUhEUgAAAHAAAAAVBAMAAABs93eRAAAAMFBMVEX////c3NwiIiJERESqqqqY\n",
       "mJh2dnZmZmYQEBDu7u4yMjJUVFTMzMyIiIi6uroAAAAs73DqAAAAAXRSTlMAQObYZgAAAX9JREFU\n",
       "OMudVDFIw1AQfdbatCltOuuguHSTDrp3dmlnp+LiJl10UMEq0sFBMooOEcHBCFKhggiFgqOD2RzE\n",
       "ok7i0ootEijiXQpJzlJpenA/n/f/+3f/3f0AI1vSCs6ZeKHhHrGbmQCk410atsjPAbUSJNwFuQok\n",
       "KFMtO3BXLNUHtTnXAqI60NQHEsN9CiRtPq+ED/osIwAx4ggyj3XO+vlaLo7VVnck0UPU2lMeWMEZ\n",
       "xf2CVhfE99R4SxI9xMigCyzigBZtRAsiYAdKRhB9SE5HmQ7CD6CcQCsCk7Nsc7QWbyFkCaIP2QC+\n",
       "gQcmhopo5v0RtQwMzl0xzdN906x4CFkayQ4T95wybouCTFvIQfdH9CFtKDanugBWpiy0MbK4Ddf9\n",
       "xB4S42nXEWSJdEU8q8ieU/PhdETcsYcYXMIqNsHleKNy1Nb+lrFx15CqOsjhJzf5I+txiWjq346W\n",
       "nfPqtnCJ23X41+pqH7GcZzW0ucQj8qnheQl3dsX3HuHXkajjFzOWbqAerx38AAAAAElFTkSuQmCC\n",
       "\" style=\"display:inline;vertical-align:middle;\" /></a></td></tr>\n",
       "<tr><td>3</td><td>Operation</td><td>operator:&nbsp;4<br>operands:&nbsp;5<br></td><td><a class=\"ProveItLink\" href=\"../4b409d168cda971ded7dea3c659321db7c4487070/expr.ipynb\"><img src=\"data:image/png;base64,iVBORw0KGgoAAAANSUhEUgAAAFIAAAAQBAMAAAB3kjXPAAAAMFBMVEX////c3NxmZmbMzMxERESY\n",
       "mJiIiIh2dna6urqqqqoyMjIiIiIQEBBUVFTu7u4AAAAiO1wTAAAAAXRSTlMAQObYZgAAAO1JREFU\n",
       "KM9j4LuzgYFIwHWBWJX8E3BK8QmgcPsf4FTJmYDCrWYgVuXatKuo8ozXKg6iqZRN7xFg4PvCwG+A\n",
       "orJHgOUDqkqOgwz+QN4/Bp4CFCO/MjA5oKqUD2BQYWBgWsDAr8DAILUbBHYAhXk/MHAnoKq8z8Cw\n",
       "jYGBW4GhPwAl1BwY3oOcw7Rq1epTq1aBQvsLA99ncHDqo4STfALDfIYHyGYyfmPg/MAH8s5xFA+9\n",
       "n8Bwi9MAWSXfTwbeBZMZeCcwoUYnVwDnJnZUdy5lmK1QwMB3TRU9ODNMMlBVyqY1uzXgTRJocYQH\n",
       "cCCrBABpqTyNUX87WgAAAABJRU5ErkJggg==\n",
       "\" style=\"display:inline;vertical-align:middle;\" /></a></td></tr>\n",
       "<tr><td>4</td><td>Literal</td><td></td><td><a class=\"ProveItLink\" href=\"../../../number/addition/__pv_it/3e6688136fa3c7aefbebe51301b7c3ebf0b69c440/expr.ipynb\"><img src=\"data:image/png;base64,iVBORw0KGgoAAAANSUhEUgAAAA4AAAAOBAMAAADtZjDiAAAAJFBMVEX///+6urpUVFQQEBAiIiIy\n",
       "MjJmZmaIiIiqqqrc3Nzu7u4AAACgHpL+AAAAAXRSTlMAQObYZgAAAB5JREFUCNdjYGBgWMkAAe2k\n",
       "0Kmhoc6hoUGk6BMHYgAHOwjcado9fwAAAABJRU5ErkJggg==\n",
       "\" style=\"display:inline;vertical-align:middle;\" /></a></td></tr>\n",
       "<tr><td>5</td><td>ExprTuple</td><td>6, 7, 9</td><td><a class=\"ProveItLink\" href=\"../5400ed25b74cbb4af63a0f977cd6948a0a1bf5060/expr.ipynb\"><img src=\"data:image/png;base64,iVBORw0KGgoAAAANSUhEUgAAAE0AAAAVBAMAAADx+n4ZAAAAMFBMVEX////c3NwiIiJERESqqqqY\n",
       "mJh2dnZmZmYQEBDu7u4yMjJUVFTMzMyIiIi6uroAAAAs73DqAAAAAXRSTlMAQObYZgAAAS5JREFU\n",
       "KM9jYCAW8F0gqCQORJxm4NyhgF8d+wEgsZKBgWsDAQMXMDDwAq3ldyCgLoyBgWMCA8P7CQTUzWBg\n",
       "eAWkkgh5hNmBoQxIrb67FVWccW9eIzKLrYBhKQMD52cG/gMo6l4IMH9AZrEsYOgDkj8ZOBJQjPvK\n",
       "wG6AzOJrYPgHDJ4FDPwFYNFFSiDwgPsDAxMk9KEsng8gdUwFDO8DkM3jN2CYfwCZBVTXAg6+epSQ\n",
       "kb/A4M8wAYkFtNeUAeSJNgZOJHXzHRh2sRzghLMYWBcwpAMd4cC+gWE+UhxzBbCos4FFICxQuDwC\n",
       "hsveUmCQf0QOvnuH74FFICwGrgcMHAJQyYcYsfAQOd5YYSEXgKEOIZILSVeE1HEC0xWDNITNi6EM\n",
       "IcINchsj4XR/h4EBABbwU2mKdTS7AAAAAElFTkSuQmCC\n",
       "\" style=\"display:inline;vertical-align:middle;\" /></a></td></tr>\n",
       "<tr><td>6</td><td>Variable</td><td></td><td><a class=\"ProveItLink\" href=\"../../../__pv_it/6840a4fa6c106149dc16a131294d0c5e44f1b0480/expr.ipynb\"><img src=\"data:image/png;base64,iVBORw0KGgoAAAANSUhEUgAAAAkAAAAOBAMAAAAPuiubAAAALVBMVEX///9mZmbMzMxERESYmJiI\n",
       "iIh2dna6urqqqqoyMjIiIiIQEBBUVFTu7u4AAAD9S1JeAAAAAXRSTlMAQObYZgAAAE1JREFUCNdj\n",
       "4D29gAEIOA+ASL4GEFl3AURmgQiGOaFHGBh4HzPwKTBwvGXgTmBgnMDAJ8DAJcBQ5wBSLncBJLWN\n",
       "gYGngRFoBO9REQYGAGrcDtUkVqASAAAAAElFTkSuQmCC\n",
       "\" style=\"display:inline;vertical-align:middle;\" /></a></td></tr>\n",
       "<tr><td>7</td><td>Operation</td><td>operator:&nbsp;8<br>operand:&nbsp;9<br></td><td><a class=\"ProveItLink\" href=\"../5bdd387ae2a10752c3ad16ba6b67c0e39d26b0ee0/expr.ipynb\"><img src=\"data:image/png;base64,iVBORw0KGgoAAAANSUhEUgAAABoAAAAJBAMAAADeJiHIAAAAMFBMVEX///+qqqrMzMzu7u5mZmaY\n",
       "mJhEREQQEBB2dnaIiIhUVFS6uroiIiIyMjLc3NwAAAAxFEmoAAAAAXRSTlMAQObYZgAAAExJREFU\n",
       "CNdjYICBVzO2P4BzuOsY8uEchvcBDG4MDG/PgMBphvUMDCcRct8YmD/BOXw/GRg/MMN4zB8ZuC4I\n",
       "wSWvMsg4NCCsm7kpcwMArzoXiK6Dv2MAAAAASUVORK5CYII=\n",
       "\" style=\"display:inline;vertical-align:middle;\" /></a></td></tr>\n",
       "<tr><td>8</td><td>Literal</td><td></td><td><a class=\"ProveItLink\" href=\"../../../number/negation/__pv_it/3fc7a08bb9735faa20ef8e175f6ea95511acc9c70/expr.ipynb\"><img src=\"data:image/png;base64,iVBORw0KGgoAAAANSUhEUgAAAA4AAAACBAMAAACapPCZAAAAElBMVEX///+6uroiIiIyMjLc3NwA\n",
       "AAA6l9OrAAAAAXRSTlMAQObYZgAAABBJREFUCNdjcFYCAUUGKAAADR4BD8/TF5gAAAAASUVORK5C\n",
       "YII=\n",
       "\" style=\"display:inline;vertical-align:middle;\" /></a></td></tr>\n",
       "<tr><td>9</td><td>Variable</td><td></td><td><a class=\"ProveItLink\" href=\"../../../__pv_it/07527342713064c87612d00d8557c53d53d5324a0/expr.ipynb\"><img src=\"data:image/png;base64,iVBORw0KGgoAAAANSUhEUgAAAAsAAAAJBAMAAAAWSsseAAAAMFBMVEX///8yMjKqqqrMzMzu7u4i\n",
       "IiJmZmaYmJhEREQQEBC6urp2dnaIiIhUVFTc3NwAAAD87Fq/AAAAAXRSTlMAQObYZgAAAEhJREFU\n",
       "CNdjYOC7s2seAwPDygccHxgY+L4zsDUwMPB+YGA9wMDA38Dgb8DA8P4Agz6DA4O/AsNFJgMGxgKm\n",
       "MG6gyjunLE4xAAAZTBA5TB6DCwAAAABJRU5ErkJggg==\n",
       "\" style=\"display:inline;vertical-align:middle;\" /></a></td></tr>\n",
       "</table>\n"
      ],
      "text/plain": [
       "0. (b - a + a) = b\n",
       "   core type: Operation\n",
       "   operator: 1\n",
       "   operands: 2\n",
       "1. =\n",
       "   core type: Literal\n",
       "   sub-expressions: \n",
       "2. (b - a + a , b)\n",
       "   core type: ExprTuple\n",
       "   sub-expressions: 3, 6\n",
       "3. b - a + a\n",
       "   core type: Operation\n",
       "   operator: 4\n",
       "   operands: 5\n",
       "4. +\n",
       "   core type: Literal\n",
       "   sub-expressions: \n",
       "5. (b , -a , a)\n",
       "   core type: ExprTuple\n",
       "   sub-expressions: 6, 7, 9\n",
       "6. b\n",
       "   core type: Variable\n",
       "   sub-expressions: \n",
       "7. -a\n",
       "   core type: Operation\n",
       "   operator: 8\n",
       "   operand: 9\n",
       "8. -\n",
       "   core type: Literal\n",
       "   sub-expressions: \n",
       "9. a\n",
       "   core type: Variable\n",
       "   sub-expressions: "
      ]
     },
     "execution_count": 4,
     "metadata": {},
     "output_type": "execute_result"
    }
   ],
   "source": [
    "# display the expression information\n",
    "expr.exprInfo()"
   ]
  },
  {
   "cell_type": "code",
   "execution_count": null,
   "metadata": {},
   "outputs": [],
   "source": []
  }
 ],
 "metadata": {
  "kernelspec": {
   "display_name": "Python 3",
   "language": "python",
   "name": "python3"
  }
 },
 "nbformat": 4,
 "nbformat_minor": 0
}
