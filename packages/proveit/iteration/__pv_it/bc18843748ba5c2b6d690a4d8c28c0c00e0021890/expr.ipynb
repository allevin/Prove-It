{
 "cells": [
  {
   "cell_type": "markdown",
   "metadata": {},
   "source": [
    "Expression of type <a class=\"ProveItLink\" href=\"../../../../../doc/html/api/proveit.logic.InSet.html\">InSet</a>\n",
    "=======================\n",
    "# from context <a class=\"ProveItLink\" href=\"../../_context_.ipynb\">proveit.iteration</a>"
   ]
  },
  {
   "cell_type": "code",
   "execution_count": 1,
   "metadata": {},
   "outputs": [],
   "source": [
    "# import Expression classes needed to build the expression\n",
    "from proveit._common_ import k, l\n",
    "from proveit.logic import InSet\n",
    "from proveit.number import Complexes, Exp, Neg, three, two"
   ]
  },
  {
   "cell_type": "code",
   "execution_count": 2,
   "metadata": {},
   "outputs": [
    {
     "data": {
      "text/html": [
       "<strong id=\"expr\">expr:</strong> <a class=\"ProveItLink\" href=\"expr.ipynb\"><img src=\"data:image/png;base64,iVBORw0KGgoAAAANSUhEUgAAAH4AAAAZBAMAAAAF/IdZAAAAMFBMVEX////c3NwiIiJERESqqqqY\n",
       "mJh2dnZmZmYQEBDu7u4yMjJUVFTMzMyIiIi6uroAAAAs73DqAAAAAXRSTlMAQObYZgAAAhBJREFU\n",
       "OMtjYCAfcOZmT6BAOwN7APsCSvRzF7B+YKAIsC2gTP+MBwwMfBcIqYrDJTHXDEicZmCY3QR3kP4D\n",
       "FBWM5YsfMLAfwNB5adUP5QJgCBowMKwEcpfDJeJR1Ukz8H5hYMDw5bl/DNP+bgAa/4WBF+T8L3CZ\n",
       "KlSFOxkY9BkYwtC0s3IHMDD4b5B/wPiVgQOYBPh+wqV6UVV2TGDY/4BhBjS93FJSAjslkgMU+xsm\n",
       "CbB2MrxCiQbGP6j6109gqH/AwOwA5pyKhIoWSINMu8BzN1uAoQzI5EpgrYeEG5YEoT+Bga0AbLYl\n",
       "LN0WPENILwXi+S8z30Os4DZA187zjYGBBew+ZgGYUIIrQr4PiP3PwngcGImBC2giXwOINRluZMJT\n",
       "hPw/IK7Xg/HOQ6NaSgkEQMLFIA1gX70ACYFcwmlwDFW/7mxNKO8GuvW8G+D6T8MFV3IjFLQAzfvD\n",
       "8IURwrPmRNPvzsAoAHX/JLhgGFg/JO+bggKd8x8bhP+VDSYO9WoBA6sAAys4/ECJBgKY44DBxAdx\n",
       "czo40D/yMnB+AvL+zIXQMCCUllbEAI0/TngoMey2nTDPGGLPI2AQBzBcz2Tg7AfGD4yGR/7//0Dj\n",
       "uCCJQ6oG7qyi/93QjMYBV80ngEojZXMo7b1ICSMrsSbAWWg0AuTiKx1WEtTPibeUkoYxLqDRiHJS\n",
       "AJ9+RoLl1x08cgCOTX71OqfHLQAAAABJRU5ErkJggg==\n",
       "\" style=\"display:inline;vertical-align:middle;\" /></a><br>"
      ],
      "text/plain": [
       "expr: (k , l , -2) in Complexes^{3}"
      ]
     },
     "execution_count": 2,
     "metadata": {},
     "output_type": "execute_result"
    }
   ],
   "source": [
    "# build up the expression from sub-expressions\n",
    "expr = InSet([k, l, Neg(two)], Exp(Complexes, three))"
   ]
  },
  {
   "cell_type": "code",
   "execution_count": 3,
   "metadata": {},
   "outputs": [
    {
     "name": "stdout",
     "output_type": "stream",
     "text": [
      "Passed sanity check: built 'expr' is the same as the stored Expression.\n"
     ]
    }
   ],
   "source": [
    "# check that the built expression is the same as the stored expression\n",
    "%check_expr"
   ]
  },
  {
   "cell_type": "code",
   "execution_count": 4,
   "metadata": {},
   "outputs": [
    {
     "data": {
      "text/html": [
       "<table><tr><th>&nbsp;</th><th>core type</th><th>sub-expressions</th><th>expression</th></tr>\n",
       "<tr><td>0</td><td>Operation</td><td>operator:&nbsp;1<br>operands:&nbsp;2<br></td><td><a class=\"ProveItLink\" href=\"expr.ipynb\"><img src=\"data:image/png;base64,iVBORw0KGgoAAAANSUhEUgAAAH4AAAAZBAMAAAAF/IdZAAAAMFBMVEX////c3NwiIiJERESqqqqY\n",
       "mJh2dnZmZmYQEBDu7u4yMjJUVFTMzMyIiIi6uroAAAAs73DqAAAAAXRSTlMAQObYZgAAAhBJREFU\n",
       "OMtjYCAfcOZmT6BAOwN7APsCSvRzF7B+YKAIsC2gTP+MBwwMfBcIqYrDJTHXDEicZmCY3QR3kP4D\n",
       "FBWM5YsfMLAfwNB5adUP5QJgCBowMKwEcpfDJeJR1Ukz8H5hYMDw5bl/DNP+bgAa/4WBF+T8L3CZ\n",
       "KlSFOxkY9BkYwtC0s3IHMDD4b5B/wPiVgQOYBPh+wqV6UVV2TGDY/4BhBjS93FJSAjslkgMU+xsm\n",
       "CbB2MrxCiQbGP6j6109gqH/AwOwA5pyKhIoWSINMu8BzN1uAoQzI5EpgrYeEG5YEoT+Bga0AbLYl\n",
       "LN0WPENILwXi+S8z30Os4DZA187zjYGBBew+ZgGYUIIrQr4PiP3PwngcGImBC2giXwOINRluZMJT\n",
       "hPw/IK7Xg/HOQ6NaSgkEQMLFIA1gX70ACYFcwmlwDFW/7mxNKO8GuvW8G+D6T8MFV3IjFLQAzfvD\n",
       "8IURwrPmRNPvzsAoAHX/JLhgGFg/JO+bggKd8x8bhP+VDSYO9WoBA6sAAys4/ECJBgKY44DBxAdx\n",
       "czo40D/yMnB+AvL+zIXQMCCUllbEAI0/TngoMey2nTDPGGLPI2AQBzBcz2Tg7AfGD4yGR/7//0Dj\n",
       "uCCJQ6oG7qyi/93QjMYBV80ngEojZXMo7b1ICSMrsSbAWWg0AuTiKx1WEtTPibeUkoYxLqDRiHJS\n",
       "AJ9+RoLl1x08cgCOTX71OqfHLQAAAABJRU5ErkJggg==\n",
       "\" style=\"display:inline;vertical-align:middle;\" /></a></td></tr>\n",
       "<tr><td>1</td><td>Literal</td><td></td><td><a class=\"ProveItLink\" href=\"../../../logic/set_theory/membership/__pv_it/088cbc857536a28d4119ad9639a84270ccb0545d0/expr.ipynb\"><img src=\"data:image/png;base64,iVBORw0KGgoAAAANSUhEUgAAAAwAAAAMBAMAAACkW0HUAAAALVBMVEX///+qqqpmZmZUVFQQEBC6\n",
       "urpERETc3NyYmJjMzMwiIiIyMjKIiIju7u4AAACYsrA9AAAAAXRSTlMAQObYZgAAADxJREFUCNdj\n",
       "YOA9vWrVBgaG2b0MQMCeCyIZ2ArA1DUwyRCyahVIyWQI7xaEYm4AU7xLIdxqTQgtvGvVBgCkcQ7e\n",
       "geM/tQAAAABJRU5ErkJggg==\n",
       "\" style=\"display:inline;vertical-align:middle;\" /></a></td></tr>\n",
       "<tr><td>2</td><td>ExprTuple</td><td>3, 4</td><td><a class=\"ProveItLink\" href=\"../4641d8dd5f1daf09c437fb51c0b096a97b4c7fbb0/expr.ipynb\"><img src=\"data:image/png;base64,iVBORw0KGgoAAAANSUhEUgAAAIIAAAAcBAMAAABfQXr9AAAAMFBMVEX///+qqqp2dnYiIiJERESI\n",
       "iIhmZmYQEBDc3NyYmJgyMjLu7u5UVFTMzMy6uroAAACGxKilAAAAAXRSTlMAQObYZgAAAnxJREFU\n",
       "OMutVU1oE1EQ/pJ202xedpOT51DwogcLghRBUy+C2MNSf3qoQlARrIIFEYWCLqgXERpF9GaDiCAI\n",
       "XYq14MEEDP6CFkFPQhdU8GRSe7CiSZ3Z3bfZ3RQLiQMv89689743M9/MBuhUZkfeoDs5gXE5/d4Z\n",
       "wnNMAzmeaZVOvdgEfGL9xOoQQFwAFIMmr3j1db3jd9oB9nMIg0Bywo1EvBjwtuJ5O3Q0efyejcRC\n",
       "y6Bsnzmzm/QxGoeARIF0iiJJFeSJ6fBj16AsASV/rdVssYVuYioLlC308YMHaGSy8sh4GIFozwM3\n",
       "/HWR4o79STYxVQR6ilhk4ySNmp/Rs2GEcxbe2ZiXS9XiuE+JQdymG4khjNJSL7nceHE3wggzFk7b\n",
       "6JUuJpJM/xw+jLxkvDpes5Gzehe3mu4j9ba85y3EZZoe67nAjv4bw5xICkg0Z58uOcb0UBRA+0GR\n",
       "y1S+jxWDWw3cJ8XZjDUMz9hnRBFShKlPSAQ9iEAJ3cY0EEJiWVbBokf91a0sOz3iNRnbIy0YhVjy\n",
       "EXrGnnlkjEZdUCpBhJRVCfvwkP3m0ljIZE3HOCwiCBuQNFtRqDlGEC3iqqR6i1yIZTsHduNXHAh2\n",
       "m1aAakItyXt7uIk+eyf0FezjTiCmqsiYhlimVWMOjpZyqb//qHsGZe6ddHVMfNkrPaqjxkC08QDK\n",
       "EUtcpEAOboaj/WJYXSXAFCd6foUNH/M/38rNeAkZzvx5v0DMsG6JW9Xf2og2kGZu/LZRI7olG92u\n",
       "iprLJrQBr7v/jSBKayPcpLGLOZEUGxHtS9oJS2lzbQeXHk+urPeVO7y2WWWGYrku/jQuO7/Xu0A4\n",
       "if8gfwGE8J33WPg9WwAAAABJRU5ErkJggg==\n",
       "\" style=\"display:inline;vertical-align:middle;\" /></a></td></tr>\n",
       "<tr><td>3</td><td>ExprTuple</td><td>5, 6, 7</td><td><a class=\"ProveItLink\" href=\"../89aeb57c45d7d0866f75d98b9d8ab3cea11a4ed20/expr.ipynb\"><img src=\"data:image/png;base64,iVBORw0KGgoAAAANSUhEUgAAAEsAAAAVBAMAAAD85A5eAAAAMFBMVEX////c3NwiIiJERESqqqqY\n",
       "mJh2dnZmZmYQEBDu7u4yMjJUVFTMzMyIiIi6uroAAAAs73DqAAAAAXRSTlMAQObYZgAAAWBJREFU\n",
       "KM+Nkj9Iw1AQxr+gLyZpU4KjLuLmoHFxcunmaCdH7VTpIBQFBZeIOLioGQtFGhARp7o62V1ENx0c\n",
       "opsuthIFIbTeyz/6ErA+SO7ex+/du7t3wD9X4WEYscp/t0BjP1Zk0xUIaefMxVibvEv6LhJ9TQw0\n",
       "Cd0DHEDnd3qJviti14AJrACKTen9JPqRiB3auHFRB955Rk6Siy9iLRuWi5EitmmjlZkVps46mTpN\n",
       "G3IN5+Q136ofxUDLzaep/Dcw6uCY3OW7WFQyTdToYGEPPXKtuVi8b4d2YpovLm/xiJ0Am23MRNhT\n",
       "Oph+FWIHgOrDk0J1UU1hS5AMfukCL0/tyQA1EF8yBDBfAzPAHKwH5XV1qJ8k+6doTg1g45XKJnhD\n",
       "XqmYEh6rUE8McFvvDjat36fTmgvFSCYq8l4yHabHYuV4wyJbymAb0SD9jalOMFLRih5AzwTL8Wyk\n",
       "oUP+DPwCgYVQ52JpMSQAAAAASUVORK5CYII=\n",
       "\" style=\"display:inline;vertical-align:middle;\" /></a></td></tr>\n",
       "<tr><td>4</td><td>Operation</td><td>operator:&nbsp;8<br>operands:&nbsp;9<br></td><td><a class=\"ProveItLink\" href=\"../7ef71547f87fa9cc26b3db442466b8307b39b2f00/expr.ipynb\"><img src=\"data:image/png;base64,iVBORw0KGgoAAAANSUhEUgAAABcAAAAUBAMAAACUkLs9AAAAMFBMVEX////c3NyqqqqYmJhUVFR2\n",
       "dnbu7u66urrMzMxmZmZEREQQEBAyMjIiIiKIiIgAAAB7fvZ0AAAAAXRSTlMAQObYZgAAAJJJREFU\n",
       "GNNjYICC1KduDHAwmWEOguPJYM+ABGKQ2GzbkdivAkAU353ze1cC6VlAzFFfwBb/BMiQV2BgMHBm\n",
       "YGD6wvidQd6AgTlhA1B0CttFBusEBk5GByAnj6HvqSMDQyZ7AMLIViYDJA47EieLA0kZT4IDgsMc\n",
       "AOKwQXmL64BEbQKEw+L1jK1qGUxh5/3f7hAWAEuSH0rgFzQbAAAAAElFTkSuQmCC\n",
       "\" style=\"display:inline;vertical-align:middle;\" /></a></td></tr>\n",
       "<tr><td>5</td><td>Variable</td><td></td><td><a class=\"ProveItLink\" href=\"../../../__pv_it/1a7356cf6caf039e07a5436d90e972cbb5e92b0a0/expr.ipynb\"><img src=\"data:image/png;base64,iVBORw0KGgoAAAANSUhEUgAAAAoAAAAOBAMAAADkjZCYAAAAMFBMVEX///9ERETc3NyIiIjMzMyY\n",
       "mJh2dna6urqqqqpmZmYyMjIiIiIQEBBUVFTu7u4AAAD6+w4kAAAAAXRSTlMAQObYZgAAAFBJREFU\n",
       "CNdj4LuzgQEIuCaASP4GEFn/AERmgQiGZQyR3xn4vj97/oOB44sBUIDzdwGQ5La7DVT03oG/QYEh\n",
       "nuF9QQLDRQZ+BQOGpQzM0x4AAD+VFjuIiDKbAAAAAElFTkSuQmCC\n",
       "\" style=\"display:inline;vertical-align:middle;\" /></a></td></tr>\n",
       "<tr><td>6</td><td>Variable</td><td></td><td><a class=\"ProveItLink\" href=\"../../../__pv_it/3e5d49a51123592869b160296a6e123a424e07a70/expr.ipynb\"><img src=\"data:image/png;base64,iVBORw0KGgoAAAANSUhEUgAAAAYAAAAOBAMAAAD+sXAWAAAALVBMVEX////u7u5ERERUVFTMzMzc\n",
       "3NyIiIgQEBAyMjJmZmaYmJi6uroiIiJ2dnYAAACuOh6BAAAAAXRSTlMAQObYZgAAAD9JREFUCNdj\n",
       "YLjzmoGB6wEDA2cDAwN7AgNDnAMDwzoGBgYjIC5jYGB5wsDAVsDAwGQgwMC34AIDn2MCA9tcAQAo\n",
       "GAoWIEgceAAAAABJRU5ErkJggg==\n",
       "\" style=\"display:inline;vertical-align:middle;\" /></a></td></tr>\n",
       "<tr><td>7</td><td>Operation</td><td>operator:&nbsp;10<br>operand:&nbsp;11<br></td><td><a class=\"ProveItLink\" href=\"../9cd64560928a3eea5b8bd346c0fe76e791b1ec050/expr.ipynb\"><img src=\"data:image/png;base64,iVBORw0KGgoAAAANSUhEUgAAABkAAAAOBAMAAAAoFKpzAAAAMFBMVEX///+YmJh2dnbMzMwQEBDu\n",
       "7u6qqqqIiIhUVFRERERmZma6uroiIiIyMjLc3NwAAABSazM2AAAAAXRSTlMAQObYZgAAAFtJREFU\n",
       "CNdjYIACvlU3NzDAwQsG9m8IXisDw3kEzyWAoR+h9H4Aw3okjUCVAUgc5k/IUrwTGBjengGB00De\n",
       "SmQp9gZkXhYD3wOEGQsYGBG8N0pKa5As+///DwMAyBMb8hv9jf4AAAAASUVORK5CYII=\n",
       "\" style=\"display:inline;vertical-align:middle;\" /></a></td></tr>\n",
       "<tr><td>8</td><td>Literal</td><td></td><td><a class=\"ProveItLink\" href=\"../../../number/exponentiation/__pv_it/deb2bf23cbccdd6e6791e1b35b5b9794ce12dbd50/expr.ipynb\"><img src=\"data:image/png;base64,iVBORw0KGgoAAAANSUhEUgAAACgAAAASBAMAAADbMYGVAAAAMFBMVEX///8QEBAiIiKYmJjc3Nzu\n",
       "7u7MzMx2dnZmZma6urpERESqqqoyMjJUVFSIiIgAAAAoDOMTAAAAAXRSTlMAQObYZgAAAOBJREFU\n",
       "GNNjYGB4+//u3Tt/GNAASGAXmhjnPyDBgSbI/g1IxKEJ8nxgYGdgQRPkX8BgDKRY6q7s62OYvmze\n",
       "2wAgb/7ZO1+AVDiDkYEQQ0HTBr4DQF59AgOIKmB4z7CNbcNZBu6vQN55kEACQwDDLQYGVobfDHwg\n",
       "fb8YGBxYHwAZciD3fWXg+gB1JjvQcJZvQIXsCgz8F6DO9GBgMOH7wPCUgaeBwd4B7EwGNjUG7s9c\n",
       "AiwPgO5jkWRgiF3/9+5dfQUG1nWl5Y+B7pv+1gE9bBhqGLCAE1jEWH9jEbT5A3IwAC4sP/1L6Qlu\n",
       "AAAAAElFTkSuQmCC\n",
       "\" style=\"display:inline;vertical-align:middle;\" /></a></td></tr>\n",
       "<tr><td>9</td><td>ExprTuple</td><td>12, 13</td><td><a class=\"ProveItLink\" href=\"../0736190636db428f8a7c6e653a85d0c03823a4f10/expr.ipynb\"><img src=\"data:image/png;base64,iVBORw0KGgoAAAANSUhEUgAAAC8AAAAVBAMAAAAk6KpUAAAAMFBMVEX////c3NwiIiJERESqqqqY\n",
       "mJh2dnZmZmYQEBDu7u4yMjJUVFTMzMyIiIi6uroAAAAs73DqAAAAAXRSTlMAQObYZgAAAShJREFU\n",
       "KM9jYMAJ+C5gisWBiNNAzKu1vskcIsaTluzAwH4AyFoJ5Lx/wJl/GyIhzsD3l4FhAVAx0KSArQwM\n",
       "LL8hEvkODJ8YGMIYGDgmMLBOaACKVEMk/MESMxgYXjEwsDNuAIrMhbsGaBSzA0MZA8N0vgRkJ3EB\n",
       "lbEVMCxlYDjGEoAkfmw1kGBZwNAHZPIhSzDwAoX4Ghj+MTBM5kExiqF/AgPPB5AE14QNCFEZBgb7\n",
       "AJBECwMDawJIghMszvl/AkgCaJQpkGf6Fkg8mgCW+sXAoC/AwLqAIR3I4d58k/OxJcN8BSD7KgPf\n",
       "N7BzH4GUHdf/sQ/o3Y8gh5ZXOQCtfcDAIYCw+CGcNQNkM0IC4Z1cSLBjSHACg51BGuFlOIsbZD4j\n",
       "lqi9w8AAALbHRdYWLCV8AAAAAElFTkSuQmCC\n",
       "\" style=\"display:inline;vertical-align:middle;\" /></a></td></tr>\n",
       "<tr><td>10</td><td>Literal</td><td></td><td><a class=\"ProveItLink\" href=\"../../../number/negation/__pv_it/3fc7a08bb9735faa20ef8e175f6ea95511acc9c70/expr.ipynb\"><img src=\"data:image/png;base64,iVBORw0KGgoAAAANSUhEUgAAAA4AAAACBAMAAACapPCZAAAAElBMVEX///+6uroiIiIyMjLc3NwA\n",
       "AAA6l9OrAAAAAXRSTlMAQObYZgAAABBJREFUCNdjcFYCAUUGKAAADR4BD8/TF5gAAAAASUVORK5C\n",
       "YII=\n",
       "\" style=\"display:inline;vertical-align:middle;\" /></a></td></tr>\n",
       "<tr><td>11</td><td>Literal</td><td></td><td><a class=\"ProveItLink\" href=\"../../../number/numeral/__pv_it/77d407a64829263cdc16415becd4c2293f77a4bf0/expr.ipynb\"><img src=\"data:image/png;base64,iVBORw0KGgoAAAANSUhEUgAAAAkAAAAOBAMAAAAPuiubAAAAMFBMVEX///+YmJh2dnbMzMwQEBAi\n",
       "IiLu7u6qqqqIiIhUVFS6urpEREQyMjJmZmbc3NwAAACOMKdoAAAAAXRSTlMAQObYZgAAAFBJREFU\n",
       "CNdj4Lt7egEDw0sGju8MDNMYGOIZGFwSGOYvYDifwHAfKAEUSQASzJ9ATJ4NIPI2iOCYACJrGfge\n",
       "MDBfYGB8wPBUSekqUPH//18ZAIliFhc3zESNAAAAAElFTkSuQmCC\n",
       "\" style=\"display:inline;vertical-align:middle;\" /></a></td></tr>\n",
       "<tr><td>12</td><td>Literal</td><td></td><td><a class=\"ProveItLink\" href=\"../../../number/sets/complex/__pv_it/c357845f93a5a2d9f649129d299e7ec28dda4b960/expr.ipynb\"><img src=\"data:image/png;base64,iVBORw0KGgoAAAANSUhEUgAAAA8AAAAOBAMAAAACpFvcAAAAMFBMVEX////c3NyqqqqYmJhUVFR2\n",
       "dnbu7u66urrMzMxmZmZEREQQEBAyMjIiIiKIiIgAAAB7fvZ0AAAAAXRSTlMAQObYZgAAAGVJREFU\n",
       "CNdjYGDgu3N+70oGBgaO+gK2+CdAhoEzAwPTFwYG5oQNQN4UBgZORgcgI4+BIZM9gAEMWpkMoAx2\n",
       "KCOLAyrFk+AAYTAHgBhsQLy4DkjUJjAwsHg9Y6taBpLsvP/bnYEBACkBFGQfBv8RAAAAAElFTkSu\n",
       "QmCC\n",
       "\" style=\"display:inline;vertical-align:middle;\" /></a></td></tr>\n",
       "<tr><td>13</td><td>Literal</td><td></td><td><a class=\"ProveItLink\" href=\"../../../number/numeral/__pv_it/9176d93c83afa2c995b614976e3cb49207102fa70/expr.ipynb\"><img src=\"data:image/png;base64,iVBORw0KGgoAAAANSUhEUgAAAAoAAAAOBAMAAADkjZCYAAAAMFBMVEX///+YmJju7u4QEBBUVFQy\n",
       "MjIiIiKIiIi6urpmZmbc3NyqqqpERER2dnbMzMwAAAB0GlNiAAAAAXRSTlMAQObYZgAAAE1JREFU\n",
       "CNdjYHh79zQDA9cEhv4CBt7fDPwJDNxgEgiAIkAQAsR8Vx1ATIbiBhDJ/ImB6wEDz0cG/U8gkj+A\n",
       "ge0XA7sAQ/8FBoadM6MZAEflFACalZ/OAAAAAElFTkSuQmCC\n",
       "\" style=\"display:inline;vertical-align:middle;\" /></a></td></tr>\n",
       "</table>\n"
      ],
      "text/plain": [
       "0. (k , l , -2) in Complexes^{3}\n",
       "   core type: Operation\n",
       "   operator: 1\n",
       "   operands: 2\n",
       "1. in\n",
       "   core type: Literal\n",
       "   sub-expressions: \n",
       "2. ((k , l , -2) , Complexes^{3})\n",
       "   core type: ExprTuple\n",
       "   sub-expressions: 3, 4\n",
       "3. (k , l , -2)\n",
       "   core type: ExprTuple\n",
       "   sub-expressions: 5, 6, 7\n",
       "4. Complexes^{3}\n",
       "   core type: Operation\n",
       "   operator: 8\n",
       "   operands: 9\n",
       "5. k\n",
       "   core type: Variable\n",
       "   sub-expressions: \n",
       "6. l\n",
       "   core type: Variable\n",
       "   sub-expressions: \n",
       "7. -2\n",
       "   core type: Operation\n",
       "   operator: 10\n",
       "   operand: 11\n",
       "8. Exp\n",
       "   core type: Literal\n",
       "   sub-expressions: \n",
       "9. (Complexes , 3)\n",
       "   core type: ExprTuple\n",
       "   sub-expressions: 12, 13\n",
       "10. -\n",
       "    core type: Literal\n",
       "    sub-expressions: \n",
       "11. 2\n",
       "    core type: Literal\n",
       "    sub-expressions: \n",
       "12. Complexes\n",
       "    core type: Literal\n",
       "    sub-expressions: \n",
       "13. 3\n",
       "    core type: Literal\n",
       "    sub-expressions: "
      ]
     },
     "execution_count": 4,
     "metadata": {},
     "output_type": "execute_result"
    }
   ],
   "source": [
    "# display the expression information\n",
    "expr.exprInfo()"
   ]
  },
  {
   "cell_type": "code",
   "execution_count": null,
   "metadata": {},
   "outputs": [],
   "source": []
  }
 ],
 "metadata": {
  "kernelspec": {
   "display_name": "Python 3",
   "language": "python",
   "name": "python3"
  }
 },
 "nbformat": 4,
 "nbformat_minor": 0
}
