{
 "cells": [
  {
   "cell_type": "markdown",
   "metadata": {},
   "source": [
    "Expression of type <a class=\"ProveItLink\" href=\"../../../../../doc/html/api/proveit.ExprTuple.html\">ExprTuple</a>\n",
    "=======================\n",
    "# from context <a class=\"ProveItLink\" href=\"../../_context_.ipynb\">proveit.iteration</a>"
   ]
  },
  {
   "cell_type": "code",
   "execution_count": 1,
   "metadata": {},
   "outputs": [],
   "source": [
    "# import Expression classes needed to build the expression\n",
    "from proveit import ExprTuple\n",
    "from proveit._common_ import k\n",
    "from proveit.number import Complexes, Exp, one"
   ]
  },
  {
   "cell_type": "code",
   "execution_count": 2,
   "metadata": {},
   "outputs": [
    {
     "data": {
      "text/html": [
       "<strong id=\"expr\">expr:</strong> <a class=\"ProveItLink\" href=\"expr.ipynb\"><img src=\"data:image/png;base64,iVBORw0KGgoAAAANSUhEUgAAAE4AAAAcBAMAAAA9wpTSAAAAMFBMVEX///+qqqp2dnYiIiJERESI\n",
       "iIhmZmYQEBDc3NyYmJgyMjLu7u5UVFTMzMy6uroAAACGxKilAAAAAXRSTlMAQObYZgAAAcpJREFU\n",
       "OMtjYCAAeB0YiAG8OQYw5ju8ChmB6hTAOg4QVHcHxNi1gaA61gAg4yQQ8wVABDkfYFXHYMHAwFHA\n",
       "ADZ4TzFINBdJRfCq7yYJEHUxDAxsCUB6NRAvA8lxIZTd+8ew6esBiLr9GxjYH0Dt/wi2WAGmjJNn\n",
       "AgODPFQd8wSG+0CKHegVvt8gWe4CmLrZ7ECCDaqOzYEhHEi9AmKmBWBpR5i6hB6QtgAOrW9Ayzg/\n",
       "MJwCcpNALlPgzAc6QQ2qjDvhEZKXgJb5AKmVIKe+1n4vwMAgBYsvBUnk2PsL9mYdEMtfBYs8h6t7\n",
       "iaSO4x+DGZD6B8T5dmCR+zB7HS4hqeP+CFdnuscaWR3Dah5U89YAqUKgjr8MHzmQ7GWYBFYHjXuO\n",
       "vwxHgJQnyOfc/5iAzFkgW0BSLPOA4cFnDfXvD4ZgBnBg8Dgw/GCFMBn2g5PmGdcN+1yg5gHD7z2Q\n",
       "egwMvgkMYdpA5jog3v4D7OPk/zWw5AOMBP4LwHhrgHsMHG8v0BMXVwADjwJy7DOBE+IEdHX7Gxh4\n",
       "DaDpCgx2MWBVNwUa8z0wgRMgghUjUdsCcRcofKDpnvUC1jzCCUrLjAoEM3ELmJxIUF02A9EAAOC8\n",
       "aSL9ezUTAAAAAElFTkSuQmCC\n",
       "\" style=\"display:inline;vertical-align:middle;\" /></a><br>"
      ],
      "text/plain": [
       "expr: ((k) , Complexes^{1})"
      ]
     },
     "execution_count": 2,
     "metadata": {},
     "output_type": "execute_result"
    }
   ],
   "source": [
    "# build up the expression from sub-expressions\n",
    "expr = ExprTuple([k], Exp(Complexes, one))"
   ]
  },
  {
   "cell_type": "code",
   "execution_count": 3,
   "metadata": {},
   "outputs": [
    {
     "name": "stdout",
     "output_type": "stream",
     "text": [
      "Passed sanity check: built 'expr' is the same as the stored Expression.\n"
     ]
    }
   ],
   "source": [
    "# check that the built expression is the same as the stored expression\n",
    "%check_expr"
   ]
  },
  {
   "cell_type": "code",
   "execution_count": 4,
   "metadata": {},
   "outputs": [
    {
     "data": {
      "text/html": [
       "<table><tr><th>&nbsp;</th><th>core type</th><th>sub-expressions</th><th>expression</th></tr>\n",
       "<tr><td>0</td><td>ExprTuple</td><td>1, 2</td><td><a class=\"ProveItLink\" href=\"expr.ipynb\"><img src=\"data:image/png;base64,iVBORw0KGgoAAAANSUhEUgAAAE4AAAAcBAMAAAA9wpTSAAAAMFBMVEX///+qqqp2dnYiIiJERESI\n",
       "iIhmZmYQEBDc3NyYmJgyMjLu7u5UVFTMzMy6uroAAACGxKilAAAAAXRSTlMAQObYZgAAAcpJREFU\n",
       "OMtjYCAAeB0YiAG8OQYw5ju8ChmB6hTAOg4QVHcHxNi1gaA61gAg4yQQ8wVABDkfYFXHYMHAwFHA\n",
       "ADZ4TzFINBdJRfCq7yYJEHUxDAxsCUB6NRAvA8lxIZTd+8ew6esBiLr9GxjYH0Dt/wi2WAGmjJNn\n",
       "AgODPFQd8wSG+0CKHegVvt8gWe4CmLrZ7ECCDaqOzYEhHEi9AmKmBWBpR5i6hB6QtgAOrW9Ayzg/\n",
       "MJwCcpNALlPgzAc6QQ2qjDvhEZKXgJb5AKmVIKe+1n4vwMAgBYsvBUnk2PsL9mYdEMtfBYs8h6t7\n",
       "iaSO4x+DGZD6B8T5dmCR+zB7HS4hqeP+CFdnuscaWR3Dah5U89YAqUKgjr8MHzmQ7GWYBFYHjXuO\n",
       "vwxHgJQnyOfc/5iAzFkgW0BSLPOA4cFnDfXvD4ZgBnBg8Dgw/GCFMBn2g5PmGdcN+1yg5gHD7z2Q\n",
       "egwMvgkMYdpA5jog3v4D7OPk/zWw5AOMBP4LwHhrgHsMHG8v0BMXVwADjwJy7DOBE+IEdHX7Gxh4\n",
       "DaDpCgx2MWBVNwUa8z0wgRMgghUjUdsCcRcofKDpnvUC1jzCCUrLjAoEM3ELmJxIUF02A9EAAOC8\n",
       "aSL9ezUTAAAAAElFTkSuQmCC\n",
       "\" style=\"display:inline;vertical-align:middle;\" /></a></td></tr>\n",
       "<tr><td>1</td><td>ExprTuple</td><td>3</td><td><a class=\"ProveItLink\" href=\"../d3584c62edd19d906e6ccc8716ef6f24517f486c0/expr.ipynb\"><img src=\"data:image/png;base64,iVBORw0KGgoAAAANSUhEUgAAABcAAAAVBAMAAABfzGiYAAAAMFBMVEX////c3NwiIiJERESqqqqY\n",
       "mJh2dnZmZmYQEBDu7u4yMjJUVFTMzMyIiIi6uroAAAAs73DqAAAAAXRSTlMAQObYZgAAAL1JREFU\n",
       "GNNjYEABfBcgdByIOM3AMLsJSLMfABIrgXg5SHQBAwMvSNUXECeMgYFjAlDbTxBnBgPDKyDFtgDE\n",
       "YXZgKANSXAms9Q8Y2AoYlgI5819mvndgYFnA0Afk+J8FW9jA8A9I1euBODwfwBzd2ZoQTgsDA+cf\n",
       "hi+MYGWmDAysHzj/sQGpBQzpDAzcBgwfeRlARj8CWhPAcD0TSD1g4BCA+QXoHNYEGCcX6gUQ4AQ5\n",
       "UBrK4QapZ4R6+w4DAwC+wCsVAtf3dQAAAABJRU5ErkJggg==\n",
       "\" style=\"display:inline;vertical-align:middle;\" /></a></td></tr>\n",
       "<tr><td>2</td><td>Operation</td><td>operator:&nbsp;4<br>operands:&nbsp;5<br></td><td><a class=\"ProveItLink\" href=\"../258bfe2c95b21fe7e6c974300f5eeb5e80b551a00/expr.ipynb\"><img src=\"data:image/png;base64,iVBORw0KGgoAAAANSUhEUgAAABYAAAAUBAMAAAB7UtADAAAAMFBMVEX////c3NyqqqqYmJhUVFR2\n",
       "dnbu7u66urrMzMxmZmZEREQQEBAyMjIiIiKIiIgAAAB7fvZ0AAAAAXRSTlMAQObYZgAAAHJJREFU\n",
       "CNdjYICBLjiLodMXwWbQJZbNd+f83pUQNkd9AVv8EwjbwJmBgekLmM2csAEoMAXM5mR0ALLzGETP\n",
       "z2PIZA+AG9XKZIBgsyPYWRwINTwJDnA2cwCIzQbhLK4DErUJYDaL1zO2qmUwH93/7Q5mAAC91Biu\n",
       "spEWKgAAAABJRU5ErkJggg==\n",
       "\" style=\"display:inline;vertical-align:middle;\" /></a></td></tr>\n",
       "<tr><td>3</td><td>Variable</td><td></td><td><a class=\"ProveItLink\" href=\"../../../__pv_it/1a7356cf6caf039e07a5436d90e972cbb5e92b0a0/expr.ipynb\"><img src=\"data:image/png;base64,iVBORw0KGgoAAAANSUhEUgAAAAoAAAAOBAMAAADkjZCYAAAAMFBMVEX///9ERETc3NyIiIjMzMyY\n",
       "mJh2dna6urqqqqpmZmYyMjIiIiIQEBBUVFTu7u4AAAD6+w4kAAAAAXRSTlMAQObYZgAAAFBJREFU\n",
       "CNdj4LuzgQEIuCaASP4GEFn/AERmgQiGZQyR3xn4vj97/oOB44sBUIDzdwGQ5La7DVT03oG/QYEh\n",
       "nuF9QQLDRQZ+BQOGpQzM0x4AAD+VFjuIiDKbAAAAAElFTkSuQmCC\n",
       "\" style=\"display:inline;vertical-align:middle;\" /></a></td></tr>\n",
       "<tr><td>4</td><td>Literal</td><td></td><td><a class=\"ProveItLink\" href=\"../../../number/exponentiation/__pv_it/deb2bf23cbccdd6e6791e1b35b5b9794ce12dbd50/expr.ipynb\"><img src=\"data:image/png;base64,iVBORw0KGgoAAAANSUhEUgAAACgAAAASBAMAAADbMYGVAAAAMFBMVEX///8QEBAiIiKYmJjc3Nzu\n",
       "7u7MzMx2dnZmZma6urpERESqqqoyMjJUVFSIiIgAAAAoDOMTAAAAAXRSTlMAQObYZgAAAOBJREFU\n",
       "GNNjYGB4+//u3Tt/GNAASGAXmhjnPyDBgSbI/g1IxKEJ8nxgYGdgQRPkX8BgDKRY6q7s62OYvmze\n",
       "2wAgb/7ZO1+AVDiDkYEQQ0HTBr4DQF59AgOIKmB4z7CNbcNZBu6vQN55kEACQwDDLQYGVobfDHwg\n",
       "fb8YGBxYHwAZciD3fWXg+gB1JjvQcJZvQIXsCgz8F6DO9GBgMOH7wPCUgaeBwd4B7EwGNjUG7s9c\n",
       "AiwPgO5jkWRgiF3/9+5dfQUG1nWl5Y+B7pv+1gE9bBhqGLCAE1jEWH9jEbT5A3IwAC4sP/1L6Qlu\n",
       "AAAAAElFTkSuQmCC\n",
       "\" style=\"display:inline;vertical-align:middle;\" /></a></td></tr>\n",
       "<tr><td>5</td><td>ExprTuple</td><td>6, 7</td><td><a class=\"ProveItLink\" href=\"../dc6a806b281884ba9cc862b3f30fd524bc9587a80/expr.ipynb\"><img src=\"data:image/png;base64,iVBORw0KGgoAAAANSUhEUgAAAC8AAAAVBAMAAAAk6KpUAAAAMFBMVEX////c3NwiIiJERESqqqqY\n",
       "mJh2dnZmZmYQEBDu7u4yMjJUVFTMzMyIiIi6uroAAAAs73DqAAAAAXRSTlMAQObYZgAAAPlJREFU\n",
       "KM9jYMAJ+C5gisWBiNNAzKu1vskcJmrJwMB+AEivZGDgef+AM/82VHzyTyCxAKgYaFLAVgYGlt8Q\n",
       "8dm7QRJhDAwcExhYJzQA2dVQHbwgiRkMDK+AJjJuALLnIkswOzCUMTBM50tAchFYgq2AYSkDwzGW\n",
       "AHQJlgUMfUAJPgwJvgaGf0AH8mAYxfMBJME1YQMWiRYGBtYEkAQnmlGmQMr0LZB4NIETIcG6gCEd\n",
       "SHFvvsn52JJhvgKycx+BOMf1f+wDevcjkMle8asUaO0DBg4BhL0P4awZIJsREgjv5EKCHUOCExjs\n",
       "DNIIH8BZ3CDzGbFE7R0GBgCcoESyRy4QrgAAAABJRU5ErkJggg==\n",
       "\" style=\"display:inline;vertical-align:middle;\" /></a></td></tr>\n",
       "<tr><td>6</td><td>Literal</td><td></td><td><a class=\"ProveItLink\" href=\"../../../number/sets/complex/__pv_it/c357845f93a5a2d9f649129d299e7ec28dda4b960/expr.ipynb\"><img src=\"data:image/png;base64,iVBORw0KGgoAAAANSUhEUgAAAA8AAAAOBAMAAAACpFvcAAAAMFBMVEX////c3NyqqqqYmJhUVFR2\n",
       "dnbu7u66urrMzMxmZmZEREQQEBAyMjIiIiKIiIgAAAB7fvZ0AAAAAXRSTlMAQObYZgAAAGVJREFU\n",
       "CNdjYGDgu3N+70oGBgaO+gK2+CdAhoEzAwPTFwYG5oQNQN4UBgZORgcgI4+BIZM9gAEMWpkMoAx2\n",
       "KCOLAyrFk+AAYTAHgBhsQLy4DkjUJjAwsHg9Y6taBpLsvP/bnYEBACkBFGQfBv8RAAAAAElFTkSu\n",
       "QmCC\n",
       "\" style=\"display:inline;vertical-align:middle;\" /></a></td></tr>\n",
       "<tr><td>7</td><td>Literal</td><td></td><td><a class=\"ProveItLink\" href=\"../../../number/numeral/__pv_it/9be8badea4c35b9724062cecc501d17a3158d1d20/expr.ipynb\"><img src=\"data:image/png;base64,iVBORw0KGgoAAAANSUhEUgAAAAgAAAAPBAMAAAArJJMAAAAAHlBMVEX///+YmJgyMjIQEBBmZmaI\n",
       "iIhUVFTu7u5EREQAAAAw+MI4AAAAAXRSTlMAQObYZgAAACFJREFUCNdjYGBoZ2BgqJjOwFCWBiQY\n",
       "WEklWJwnOTKAAACjEQo8HvEr3AAAAABJRU5ErkJggg==\n",
       "\" style=\"display:inline;vertical-align:middle;\" /></a></td></tr>\n",
       "</table>\n"
      ],
      "text/plain": [
       "0. ((k) , Complexes^{1})\n",
       "   core type: ExprTuple\n",
       "   sub-expressions: 1, 2\n",
       "1. (k)\n",
       "   core type: ExprTuple\n",
       "   sub-expressions: 3\n",
       "2. Complexes^{1}\n",
       "   core type: Operation\n",
       "   operator: 4\n",
       "   operands: 5\n",
       "3. k\n",
       "   core type: Variable\n",
       "   sub-expressions: \n",
       "4. Exp\n",
       "   core type: Literal\n",
       "   sub-expressions: \n",
       "5. (Complexes , 1)\n",
       "   core type: ExprTuple\n",
       "   sub-expressions: 6, 7\n",
       "6. Complexes\n",
       "   core type: Literal\n",
       "   sub-expressions: \n",
       "7. 1\n",
       "   core type: Literal\n",
       "   sub-expressions: "
      ]
     },
     "execution_count": 4,
     "metadata": {},
     "output_type": "execute_result"
    }
   ],
   "source": [
    "# display the expression information\n",
    "expr.exprInfo()"
   ]
  },
  {
   "cell_type": "code",
   "execution_count": null,
   "metadata": {},
   "outputs": [],
   "source": []
  }
 ],
 "metadata": {
  "kernelspec": {
   "display_name": "Python 3",
   "language": "python",
   "name": "python3"
  }
 },
 "nbformat": 4,
 "nbformat_minor": 0
}
