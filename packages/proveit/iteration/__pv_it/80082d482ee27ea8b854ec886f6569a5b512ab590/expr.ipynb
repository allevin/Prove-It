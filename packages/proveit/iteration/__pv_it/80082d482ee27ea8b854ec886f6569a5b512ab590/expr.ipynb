{
 "cells": [
  {
   "cell_type": "markdown",
   "metadata": {},
   "source": [
    "Expression of type <a class=\"ProveItLink\" href=\"../../../../../doc/html/api/proveit.ExprTuple.html\">ExprTuple</a>\n",
    "=======================\n",
    "# from context <a class=\"ProveItLink\" href=\"../../_context_.ipynb\">proveit.iteration</a>"
   ]
  },
  {
   "cell_type": "code",
   "execution_count": 1,
   "metadata": {},
   "outputs": [],
   "source": [
    "# import Expression classes needed to build the expression\n",
    "from proveit import ExprTuple\n",
    "from proveit._common_ import j, k\n",
    "from proveit.number import Add, one"
   ]
  },
  {
   "cell_type": "code",
   "execution_count": 2,
   "metadata": {},
   "outputs": [
    {
     "data": {
      "text/html": [
       "<strong id=\"expr\">expr:</strong> <a class=\"ProveItLink\" href=\"expr.ipynb\"><img src=\"data:image/png;base64,iVBORw0KGgoAAAANSUhEUgAAALkAAAAVBAMAAADoXVL6AAAAMFBMVEX////c3NwiIiJERESqqqqY\n",
       "mJh2dnZmZmYQEBDu7u4yMjJUVFTMzMyIiIi6uroAAAAs73DqAAAAAXRSTlMAQObYZgAAAbxJREFU\n",
       "OMu1lT9Lw0AYh9/axvS0TbO7uIh+AYVO5guITjoItpsgCEVoFScHJwd7Iogg2CJU8VxEF6GD3V26\n",
       "FhSroyBqUUQpxVxqQu7PC13a4S53T35PkpfeHUB/f1a9T+Il3tzxJmMLgNyMKjdHKc7kPEAawKy5\n",
       "/TkfLEpwKCfnyTRFmZrf/3GbMkAyXBjiv0LK8af2/kn1lmJMzR9VuX0eIE5DNOY/6i2YnfEvHinO\n",
       "lHyS2w8BXrR0BXC7huntUQcK/IMe0hI9hYUOZleZmvfsgzmo8A7GREo6B8efiF3DlHzXHivDrts1\n",
       "4EuksXYdrYyGKfmu3doC/pG29SFSs9VE7Rqm5Lv2xLtnh0G+QEzGTnYYu3QvBxpXnmuTsQnGLgS7\n",
       "jsn5wL4dXiD+s0u1lGMj765jcj6ozKSXcESagVIzq7FThMn5rt0owzIfzFKRXkPKrqt20kKYnA/+\n",
       "kc98sCathgokC1Q0rBfP5kjR1jIlb2785t16NSHOazgurzXQr0fL1jN93t0JjCw8Rdr4Xv8aHhha\n",
       "huVX+Q6c+I7mejwQDN0klifuDgwjZCrf63GjPcaw/DAvY6RfJ989wB+77LHFq1jfxAAAAABJRU5E\n",
       "rkJggg==\n",
       "\" style=\"display:inline;vertical-align:middle;\" /></a><br>"
      ],
      "text/plain": [
       "expr: (j + k + 1 , k + j + 1)"
      ]
     },
     "execution_count": 2,
     "metadata": {},
     "output_type": "execute_result"
    }
   ],
   "source": [
    "# build up the expression from sub-expressions\n",
    "expr = ExprTuple(Add(j, k, one), Add(k, j, one))"
   ]
  },
  {
   "cell_type": "code",
   "execution_count": 3,
   "metadata": {},
   "outputs": [
    {
     "name": "stdout",
     "output_type": "stream",
     "text": [
      "Passed sanity check: built 'expr' is the same as the stored Expression.\n"
     ]
    }
   ],
   "source": [
    "# check that the built expression is the same as the stored expression\n",
    "%check_expr"
   ]
  },
  {
   "cell_type": "code",
   "execution_count": 4,
   "metadata": {},
   "outputs": [
    {
     "data": {
      "text/html": [
       "<table><tr><th>&nbsp;</th><th>core type</th><th>sub-expressions</th><th>expression</th></tr>\n",
       "<tr><td>0</td><td>ExprTuple</td><td>1, 2</td><td><a class=\"ProveItLink\" href=\"expr.ipynb\"><img src=\"data:image/png;base64,iVBORw0KGgoAAAANSUhEUgAAALkAAAAVBAMAAADoXVL6AAAAMFBMVEX////c3NwiIiJERESqqqqY\n",
       "mJh2dnZmZmYQEBDu7u4yMjJUVFTMzMyIiIi6uroAAAAs73DqAAAAAXRSTlMAQObYZgAAAbxJREFU\n",
       "OMu1lT9Lw0AYh9/axvS0TbO7uIh+AYVO5guITjoItpsgCEVoFScHJwd7Iogg2CJU8VxEF6GD3V26\n",
       "FhSroyBqUUQpxVxqQu7PC13a4S53T35PkpfeHUB/f1a9T+Il3tzxJmMLgNyMKjdHKc7kPEAawKy5\n",
       "/TkfLEpwKCfnyTRFmZrf/3GbMkAyXBjiv0LK8af2/kn1lmJMzR9VuX0eIE5DNOY/6i2YnfEvHinO\n",
       "lHyS2w8BXrR0BXC7huntUQcK/IMe0hI9hYUOZleZmvfsgzmo8A7GREo6B8efiF3DlHzXHivDrts1\n",
       "4EuksXYdrYyGKfmu3doC/pG29SFSs9VE7Rqm5Lv2xLtnh0G+QEzGTnYYu3QvBxpXnmuTsQnGLgS7\n",
       "jsn5wL4dXiD+s0u1lGMj765jcj6ozKSXcESagVIzq7FThMn5rt0owzIfzFKRXkPKrqt20kKYnA/+\n",
       "kc98sCathgokC1Q0rBfP5kjR1jIlb2785t16NSHOazgurzXQr0fL1jN93t0JjCw8Rdr4Xv8aHhha\n",
       "huVX+Q6c+I7mejwQDN0klifuDgwjZCrf63GjPcaw/DAvY6RfJ989wB+77LHFq1jfxAAAAABJRU5E\n",
       "rkJggg==\n",
       "\" style=\"display:inline;vertical-align:middle;\" /></a></td></tr>\n",
       "<tr><td>1</td><td>Operation</td><td>operator:&nbsp;4<br>operands:&nbsp;3<br></td><td><a class=\"ProveItLink\" href=\"../5209d380da87a3596fbd68de8df4af636b2e0c920/expr.ipynb\"><img src=\"data:image/png;base64,iVBORw0KGgoAAAANSUhEUgAAAFEAAAASBAMAAADRbS/HAAAAMFBMVEX///8QEBDMzMyqqqpmZmYy\n",
       "MjK6uroiIiJ2dnZERESIiIju7u5UVFTc3NyYmJgAAACtHSfyAAAAAXRSTlMAQObYZgAAAOFJREFU\n",
       "KM9jYGBg4PvLgAL2iDOgA84NYIrvAJp4CLpC7vkbUPh7YYzPcBUXINSZ86gqraA022+YCPMCKGM9\n",
       "dpUcAThU7lq5AVUlawOffwI2lQ3sD1BV7s/uzjfAopJrAz+aSnst7LbzMuRfQFXpX4bLR+0gwjU0\n",
       "tDA0NAbErNpTDaJYQkPDRUNDDyCpDEH1O/cnhs+8WM3k/oyqku8D9zcOrCqZf6Oq5JnA8JcLq0qW\n",
       "AlSVrA8YlnSjqnSRDwGFD7sDWhwhANxMcCRfuK8AZWZhqGRDVqnvMIWBOLCz5QFxCgGt4kc65LU/\n",
       "qQAAAABJRU5ErkJggg==\n",
       "\" style=\"display:inline;vertical-align:middle;\" /></a></td></tr>\n",
       "<tr><td>2</td><td>Operation</td><td>operator:&nbsp;4<br>operands:&nbsp;5<br></td><td><a class=\"ProveItLink\" href=\"../7cdfdcfa3a45a2670adec158a64488ad526e39950/expr.ipynb\"><img src=\"data:image/png;base64,iVBORw0KGgoAAAANSUhEUgAAAE8AAAASBAMAAADoCp6cAAAAMFBMVEX///9ERETc3NyIiIjMzMyY\n",
       "mJh2dna6urqqqqpmZmYyMjIiIiIQEBBUVFTu7u4AAAD6+w4kAAAAAXRSTlMAQObYZgAAAORJREFU\n",
       "KM9j4LuzgQEdsH5CE2B8ACS4JmAqvIDK55MHKeRvgPEfoWvgU4BQd++DFNY/gIk3oyvkMIAy7EFq\n",
       "shiIVLiMIfI7qsLHhg+wKOT7/uz5D1SFCdwBWBRyfDFAs5r5AT82hZy/C9AUMjHUK2BRyG13G+yi\n",
       "WatW7Vm1ai1YPBtEcK5atfrUqlUXYArfO/A3KKD5eiU2X8czvC9IQFXI9wObwosM/AoGqAo5/mFT\n",
       "uJSBedoDVIWcG9AUzjy/MgA5ImAKuSegm4gGisEku4K+A1SAHYdCCPCfIMlAFHiYGYBNGADy/knI\n",
       "nDn0UwAAAABJRU5ErkJggg==\n",
       "\" style=\"display:inline;vertical-align:middle;\" /></a></td></tr>\n",
       "<tr><td>3</td><td>ExprTuple</td><td>7, 6, 8</td><td><a class=\"ProveItLink\" href=\"../8a7055213a51e6f98131e0db9915fd4edf99d8d00/expr.ipynb\"><img src=\"data:image/png;base64,iVBORw0KGgoAAAANSUhEUgAAAD0AAAAVBAMAAAAHs/uBAAAAMFBMVEX////c3NwiIiJERESqqqqY\n",
       "mJh2dnZmZmYQEBDu7u4yMjJUVFTMzMyIiIi6uroAAAAs73DqAAAAAXRSTlMAQObYZgAAATNJREFU\n",
       "KM9jYCAE+C7glIoDEadBRLwAWGB2E0LSkoGB/QCQXgniREMFl8OlJ/8EEgsYGHhRjP8CY8zeDZIP\n",
       "Y2DgmIDslp9wJi+IOYOB4RWydrYFqPLMDgxlQIrzriVEkCuBtf4BkjxbAcNSEMWgChGc/zLzvQOS\n",
       "PMsChj4gdZPhK0TQ/yyq+XwNDP+AlADfR4hgvR6qPM8HsDwDmwJEUHe2Jrp8C9hdBWAxzj8MXxjR\n",
       "zDcFu8uBgRNIsX7g/MfGwDABLs+6gCEd7K4JDPOBVnAbMHzkZeD8hOy/RyBOETCogE7kCmC4nsnA\n",
       "2Q+MLPaKX6VAgQcMHKCYUwfih4hQFoCxgOHLmsDwkPEPkB0Al2eFs3JB8cvznbkAuzwnKDqkOc1K\n",
       "Qe5BxBI8xrlBFjHiTl93GBgAzU5OTQiS3fgAAAAASUVORK5CYII=\n",
       "\" style=\"display:inline;vertical-align:middle;\" /></a></td></tr>\n",
       "<tr><td>4</td><td>Literal</td><td></td><td><a class=\"ProveItLink\" href=\"../../../number/addition/__pv_it/3e6688136fa3c7aefbebe51301b7c3ebf0b69c440/expr.ipynb\"><img src=\"data:image/png;base64,iVBORw0KGgoAAAANSUhEUgAAAA4AAAAOBAMAAADtZjDiAAAAJFBMVEX///+6urpUVFQQEBAiIiIy\n",
       "MjJmZmaIiIiqqqrc3Nzu7u4AAACgHpL+AAAAAXRSTlMAQObYZgAAAB5JREFUCNdjYGBgWMkAAe2k\n",
       "0Kmhoc6hoUGk6BMHYgAHOwjcado9fwAAAABJRU5ErkJggg==\n",
       "\" style=\"display:inline;vertical-align:middle;\" /></a></td></tr>\n",
       "<tr><td>5</td><td>ExprTuple</td><td>6, 7, 8</td><td><a class=\"ProveItLink\" href=\"../27ab781bd224216e58f435473057179f5d3ba1450/expr.ipynb\"><img src=\"data:image/png;base64,iVBORw0KGgoAAAANSUhEUgAAAD0AAAAVBAMAAAAHs/uBAAAAMFBMVEX////c3NwiIiJERESqqqqY\n",
       "mJh2dnZmZmYQEBDu7u4yMjJUVFTMzMyIiIi6uroAAAAs73DqAAAAAXRSTlMAQObYZgAAATJJREFU\n",
       "KM9jYCAE+C7glIoDEacZGGY3IcRYP0IZlgwM7AeA9EogXo4kvwFCT/4JJBYwMPCCjP+CYfTs3SD5\n",
       "MAYGjglAJ/zEtJsXJDaDgeEVkGJbgEOe2YGhDEhxJbDWP4AIz708AUmerYBhKZCa/zLzvQNEOIEp\n",
       "AEmeZQFDH5DyPws3dQI/sjxfA8M/IFWvB5NnZHgvgCTP8wEsrztbE+6uJAZU+RYGBs4/DF8YYfLL\n",
       "GVDNNwUG2QfOf2wMDGCHc36BMsDyrAsY0hkYuA0YPvIycH4CCbP8hDJg/nsE9H4Aw/VMBs5+kMvY\n",
       "FSAM9opfpUCZBwwcAvCIBrGYCqAMMACGL2sCPOZAMvIHwAwoyIXGL0z+fIE5A5I8JyhepGE8YERP\n",
       "Tg+AMCCAG2QRI+70dYeBAQDm+09boZWleAAAAABJRU5ErkJggg==\n",
       "\" style=\"display:inline;vertical-align:middle;\" /></a></td></tr>\n",
       "<tr><td>6</td><td>Variable</td><td></td><td><a class=\"ProveItLink\" href=\"../../../__pv_it/1a7356cf6caf039e07a5436d90e972cbb5e92b0a0/expr.ipynb\"><img src=\"data:image/png;base64,iVBORw0KGgoAAAANSUhEUgAAAAoAAAAOBAMAAADkjZCYAAAAMFBMVEX///9ERETc3NyIiIjMzMyY\n",
       "mJh2dna6urqqqqpmZmYyMjIiIiIQEBBUVFTu7u4AAAD6+w4kAAAAAXRSTlMAQObYZgAAAFBJREFU\n",
       "CNdj4LuzgQEIuCaASP4GEFn/AERmgQiGZQyR3xn4vj97/oOB44sBUIDzdwGQ5La7DVT03oG/QYEh\n",
       "nuF9QQLDRQZ+BQOGpQzM0x4AAD+VFjuIiDKbAAAAAElFTkSuQmCC\n",
       "\" style=\"display:inline;vertical-align:middle;\" /></a></td></tr>\n",
       "<tr><td>7</td><td>Variable</td><td></td><td><a class=\"ProveItLink\" href=\"../../../__pv_it/612356038763a16ceac85a062629d016c986635c0/expr.ipynb\"><img src=\"data:image/png;base64,iVBORw0KGgoAAAANSUhEUgAAAAoAAAASBAMAAACQmVJ4AAAALVBMVEX////MzMyqqqpmZmYyMjK6\n",
       "uroiIiJ2dnZERESIiIju7u5UVFTc3NyYmJgAAAAeP2GyAAAAAXRSTlMAQObYZgAAAE1JREFUCNdj\n",
       "YGBg4H3DACI3MGADK2csAJIFbBcYGDgX8AFJHoa4AyCJMrC0M4jgegQimV6BSOYEEMlmwMDAeuCc\n",
       "AAODnEEzkL+iGKgTAMbaDxjCuhcwAAAAAElFTkSuQmCC\n",
       "\" style=\"display:inline;vertical-align:middle;\" /></a></td></tr>\n",
       "<tr><td>8</td><td>Literal</td><td></td><td><a class=\"ProveItLink\" href=\"../../../number/numeral/__pv_it/9be8badea4c35b9724062cecc501d17a3158d1d20/expr.ipynb\"><img src=\"data:image/png;base64,iVBORw0KGgoAAAANSUhEUgAAAAgAAAAPBAMAAAArJJMAAAAAHlBMVEX///+YmJgyMjIQEBBmZmaI\n",
       "iIhUVFTu7u5EREQAAAAw+MI4AAAAAXRSTlMAQObYZgAAACFJREFUCNdjYGBoZ2BgqJjOwFCWBiQY\n",
       "WEklWJwnOTKAAACjEQo8HvEr3AAAAABJRU5ErkJggg==\n",
       "\" style=\"display:inline;vertical-align:middle;\" /></a></td></tr>\n",
       "</table>\n"
      ],
      "text/plain": [
       "0. (j + k + 1 , k + j + 1)\n",
       "   core type: ExprTuple\n",
       "   sub-expressions: 1, 2\n",
       "1. j + k + 1\n",
       "   core type: Operation\n",
       "   operator: 4\n",
       "   operands: 3\n",
       "2. k + j + 1\n",
       "   core type: Operation\n",
       "   operator: 4\n",
       "   operands: 5\n",
       "3. (j , k , 1)\n",
       "   core type: ExprTuple\n",
       "   sub-expressions: 7, 6, 8\n",
       "4. +\n",
       "   core type: Literal\n",
       "   sub-expressions: \n",
       "5. (k , j , 1)\n",
       "   core type: ExprTuple\n",
       "   sub-expressions: 6, 7, 8\n",
       "6. k\n",
       "   core type: Variable\n",
       "   sub-expressions: \n",
       "7. j\n",
       "   core type: Variable\n",
       "   sub-expressions: \n",
       "8. 1\n",
       "   core type: Literal\n",
       "   sub-expressions: "
      ]
     },
     "execution_count": 4,
     "metadata": {},
     "output_type": "execute_result"
    }
   ],
   "source": [
    "# display the expression information\n",
    "expr.exprInfo()"
   ]
  },
  {
   "cell_type": "code",
   "execution_count": null,
   "metadata": {},
   "outputs": [],
   "source": []
  }
 ],
 "metadata": {
  "kernelspec": {
   "display_name": "Python 3",
   "language": "python",
   "name": "python3"
  }
 },
 "nbformat": 4,
 "nbformat_minor": 0
}
