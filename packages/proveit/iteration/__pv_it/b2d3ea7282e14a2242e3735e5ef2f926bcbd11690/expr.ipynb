{
 "cells": [
  {
   "cell_type": "markdown",
   "metadata": {},
   "source": [
    "Expression of type <a class=\"ProveItLink\" href=\"../../../../../doc/html/api/proveit.ExprTuple.html\">ExprTuple</a>\n",
    "=======================\n",
    "# from context <a class=\"ProveItLink\" href=\"../../_context_.ipynb\">proveit.iteration</a>"
   ]
  },
  {
   "cell_type": "code",
   "execution_count": 1,
   "metadata": {},
   "outputs": [],
   "source": [
    "# import Expression classes needed to build the expression\n",
    "from proveit import ExprTuple, Variable\n",
    "from proveit._common_ import j\n",
    "from proveit.logic import InSet\n",
    "from proveit.number import Interval, one"
   ]
  },
  {
   "cell_type": "code",
   "execution_count": 2,
   "metadata": {},
   "outputs": [
    {
     "data": {
      "text/html": [
       "<strong id=\"expr\">expr:</strong> <a class=\"ProveItLink\" href=\"expr.ipynb\"><img src=\"data:image/png;base64,iVBORw0KGgoAAAANSUhEUgAAAJUAAAAVBAMAAAC9PLGkAAAAMFBMVEX////c3NwiIiJERESqqqqY\n",
       "mJh2dnZmZmYQEBDu7u4yMjJUVFTMzMyIiIi6uroAAAAs73DqAAAAAXRSTlMAQObYZgAAAcRJREFU\n",
       "OMtjYCAKsJbikTyWCGPxXSBsFKcaXukTDgwMcSDGaSKcxfsBRFpidfFHBgb2BUB8AMhZSYRZbA1A\n",
       "YvJPrGZtgEoDzeO9QKRZs3f/xGtVGAMDxwTcRsxdpKSFUMyL36wZDAyvcBvFs3QCsmICZjE7MJQh\n",
       "hMRui1xH9rHwBAaCZs29PAEqzVbAsBQR8QmsqhwKSOoM4SxQRGE3K4EpABj+oGhmWcDQh3ApMOpZ\n",
       "DiAlKgNEAnqAwyzeCfxAsxiWg9JpA8M/hF4GbgNkdXxNSkqQsD/dw4DDLEaG9wKgsAL6jucDklnA\n",
       "OEVJHzwb4MwXB3CGfRKIAGULoFktSOLyBxiQUggnIuy4cYYX2Hvg8AL60RSRggXuA/2PpGwrIigV\n",
       "EGZNAAcHlMHA+QUWzawLGNLhGvwDLBhkka2c9ABLmuD8BCTmK0AZDCw/GRBp4hGQbwwElgyTr03L\n",
       "DYBxwAG7/ACSWewVv0AFD2czKI0bQBkM7Aows7geMHAI4E74LLuQ8xBWwFSAlIdYE4gtJ7AAPgH5\n",
       "AzDpXCLLHFYcZp0vMIdlC05QVEsTYRanLnbxyekBsGzBDQorRmIKMNYUQuX9HQYGAHChcfBt9/R5\n",
       "AAAAAElFTkSuQmCC\n",
       "\" style=\"display:inline;vertical-align:middle;\" /></a><br>"
      ],
      "text/plain": [
       "expr: (_x_ in {1...j})"
      ]
     },
     "execution_count": 2,
     "metadata": {},
     "output_type": "execute_result"
    }
   ],
   "source": [
    "# build up the expression from sub-expressions\n",
    "expr = ExprTuple(InSet(Variable(\"_x_\", latexFormat = r\"{_{-}x_{-}}\"), Interval(one, j)))"
   ]
  },
  {
   "cell_type": "code",
   "execution_count": 3,
   "metadata": {},
   "outputs": [
    {
     "name": "stdout",
     "output_type": "stream",
     "text": [
      "Passed sanity check: built 'expr' is the same as the stored Expression.\n"
     ]
    }
   ],
   "source": [
    "# check that the built expression is the same as the stored expression\n",
    "%check_expr"
   ]
  },
  {
   "cell_type": "code",
   "execution_count": 4,
   "metadata": {},
   "outputs": [
    {
     "data": {
      "text/html": [
       "<table><tr><th>&nbsp;</th><th>core type</th><th>sub-expressions</th><th>expression</th></tr>\n",
       "<tr><td>0</td><td>ExprTuple</td><td>1</td><td><a class=\"ProveItLink\" href=\"expr.ipynb\"><img src=\"data:image/png;base64,iVBORw0KGgoAAAANSUhEUgAAAJUAAAAVBAMAAAC9PLGkAAAAMFBMVEX////c3NwiIiJERESqqqqY\n",
       "mJh2dnZmZmYQEBDu7u4yMjJUVFTMzMyIiIi6uroAAAAs73DqAAAAAXRSTlMAQObYZgAAAcRJREFU\n",
       "OMtjYCAKsJbikTyWCGPxXSBsFKcaXukTDgwMcSDGaSKcxfsBRFpidfFHBgb2BUB8AMhZSYRZbA1A\n",
       "YvJPrGZtgEoDzeO9QKRZs3f/xGtVGAMDxwTcRsxdpKSFUMyL36wZDAyvcBvFs3QCsmICZjE7MJQh\n",
       "hMRui1xH9rHwBAaCZs29PAEqzVbAsBQR8QmsqhwKSOoM4SxQRGE3K4EpABj+oGhmWcDQh3ApMOpZ\n",
       "DiAlKgNEAnqAwyzeCfxAsxiWg9JpA8M/hF4GbgNkdXxNSkqQsD/dw4DDLEaG9wKgsAL6jucDklnA\n",
       "OEVJHzwb4MwXB3CGfRKIAGULoFktSOLyBxiQUggnIuy4cYYX2Hvg8AL60RSRggXuA/2PpGwrIigV\n",
       "EGZNAAcHlMHA+QUWzawLGNLhGvwDLBhkka2c9ABLmuD8BCTmK0AZDCw/GRBp4hGQbwwElgyTr03L\n",
       "DYBxwAG7/ACSWewVv0AFD2czKI0bQBkM7Aows7geMHAI4E74LLuQ8xBWwFSAlIdYE4gtJ7AAPgH5\n",
       "AzDpXCLLHFYcZp0vMIdlC05QVEsTYRanLnbxyekBsGzBDQorRmIKMNYUQuX9HQYGAHChcfBt9/R5\n",
       "AAAAAElFTkSuQmCC\n",
       "\" style=\"display:inline;vertical-align:middle;\" /></a></td></tr>\n",
       "<tr><td>1</td><td>Operation</td><td>operator:&nbsp;2<br>operands:&nbsp;3<br></td><td><a class=\"ProveItLink\" href=\"../81eead62f4fd0da5c008f4182097d96eedb943730/expr.ipynb\"><img src=\"data:image/png;base64,iVBORw0KGgoAAAANSUhEUgAAAIcAAAAVBAMAAACeZ+BxAAAAMFBMVEX///+6uroyMjLMzMwQEBAi\n",
       "IiKYmJhmZmZUVFSIiIh2dnbc3Nzu7u5ERESqqqoAAABZrPngAAAAAXRSTlMAQObYZgAAAVJJREFU\n",
       "OMtjYCAM0hNwyzGv2sBADDi6AJ8ssx9RhswHEbwHsEnlA51RRJQhS4CY5z5WQzKg0kQZwtPRfwCf\n",
       "HbgAz6TQUAWEqvlkGWKUg6KKKEO4V3a/rESS4r7DQNAQnpl3UA05xZCa4IqkgBcR/UW4DOFiCAPF\n",
       "EEJgATAmHyMpOItICI64DJnD8A1IMhXABQ4w9KIoEAkNhQQsc4sBLkM2MP4GUZeQErQnigILOIvR\n",
       "GWfAcgUACVakBM39mYEHOa0jmE04DQH7BClMsjk/AP2IABwINy5FGMID8TmUwXD+AUrs8H3jdeCe\n",
       "gBx9gdii+DzQ/TxfoQwGhvcHoNJv7wLBAZ6ba1ZNg3HAWjcVIxtS7q8OctqRC0BDfKEMBoZSQimW\n",
       "4YUqcrLHCsIZSMmAWIE0MC6INiQFR2n0nbcAnqAJl2wTsGfzW2WIBE0YZD0gUMYCAP6Ra0nzv2Ft\n",
       "AAAAAElFTkSuQmCC\n",
       "\" style=\"display:inline;vertical-align:middle;\" /></a></td></tr>\n",
       "<tr><td>2</td><td>Literal</td><td></td><td><a class=\"ProveItLink\" href=\"../../../logic/set_theory/membership/__pv_it/088cbc857536a28d4119ad9639a84270ccb0545d0/expr.ipynb\"><img src=\"data:image/png;base64,iVBORw0KGgoAAAANSUhEUgAAAAwAAAAMBAMAAACkW0HUAAAALVBMVEX///+qqqpmZmZUVFQQEBC6\n",
       "urpERETc3NyYmJjMzMwiIiIyMjKIiIju7u4AAACYsrA9AAAAAXRSTlMAQObYZgAAADxJREFUCNdj\n",
       "YOA9vWrVBgaG2b0MQMCeCyIZ2ArA1DUwyRCyahVIyWQI7xaEYm4AU7xLIdxqTQgtvGvVBgCkcQ7e\n",
       "geM/tQAAAABJRU5ErkJggg==\n",
       "\" style=\"display:inline;vertical-align:middle;\" /></a></td></tr>\n",
       "<tr><td>3</td><td>ExprTuple</td><td>4, 5</td><td><a class=\"ProveItLink\" href=\"../37c18ce06c5ab2400f2ef2afeb4343e90d3b9b390/expr.ipynb\"><img src=\"data:image/png;base64,iVBORw0KGgoAAAANSUhEUgAAAIUAAAAVBAMAAACakjBMAAAAMFBMVEX////c3NwiIiJERESqqqqY\n",
       "mJh2dnZmZmYQEBDu7u4yMjJUVFTMzMyIiIi6uroAAAAs73DqAAAAAXRSTlMAQObYZgAAAZhJREFU\n",
       "OMtjYMALWEvxSB5LhLH4LuBWxamG14YTDgwMcSDGaTyKeD+ASEusLvzIwMC+AIgPADkr8ZjB1gAk\n",
       "Jv/EasYGqDTQHN4LBMyYvfsnXivCGBg4JhByBy9+M2YwMLxioNAMZgeGMoSQ2G2R6xeINGPu5QlQ\n",
       "abYChqWIiExgVeVQQFEJCnjsZiQwBQDDFRRtLAsY+hCWAqOS5QBqAniAwwzeCfxAMxiWg9JXA8M/\n",
       "hDsYuA1QVZ7uYcBhBiPDewFQWAB9wfMByQxgHKHH84sDOMM0CUSAkjHQjBYkcfkDDKgxzY0zPMDe\n",
       "AIcH0C+miJQncB/oTxgPzGBTgJvBCSfAMpxfYNHGuoAhHW6Gf4AFgyw8cD6hxe18BSgBkWH5yYCI\n",
       "20dAvjEQWDJMvjYtNwDG4ewXgCpir/gFKgBmGEAJzmZwrCvAzOB6wMAhgD0N8sHMwA6YCpDSOmsC\n",
       "jtKHAY8ZfALyB2DSubjzPtgMVhxmnC8whyVjTlDUSWNXBk4qnLrYJSenB8CSMTfIz4z4ChDWFELl\n",
       "6R0GBgAkGGodKPLW/gAAAABJRU5ErkJggg==\n",
       "\" style=\"display:inline;vertical-align:middle;\" /></a></td></tr>\n",
       "<tr><td>4</td><td>Variable</td><td></td><td><a class=\"ProveItLink\" href=\"../5144cf74ae6a683b49b974f1b9302b432abf7e930/expr.ipynb\"><img src=\"data:image/png;base64,iVBORw0KGgoAAAANSUhEUgAAACUAAAAJBAMAAABH3vh9AAAAKlBMVEX////MzMwQEBAiIiKYmJhm\n",
       "ZmZUVFSIiIh2dnbc3Nzu7u5ERESqqqoAAABwkVEpAAAAAXRSTlMAQObYZgAAAEtJREFUCNdjYIAA\n",
       "zvbM4+EMqGAFg7ODMppYA0Mtw0E0sQUM2QyYQB1TiPMiAxeakCf7BYYqVCGeK9wKnAUw3undQLCA\n",
       "a3tXRwmMAwC3+RVNp6j0GAAAAABJRU5ErkJggg==\n",
       "\" style=\"display:inline;vertical-align:middle;\" /></a></td></tr>\n",
       "<tr><td>5</td><td>Operation</td><td>operator:&nbsp;6<br>operands:&nbsp;7<br></td><td><a class=\"ProveItLink\" href=\"../83a2399bdb45427a9d97959658e3ff650546859f0/expr.ipynb\"><img src=\"data:image/png;base64,iVBORw0KGgoAAAANSUhEUgAAAEUAAAAVBAMAAADiLT7tAAAAMFBMVEX////c3NxERESqqqpUVFS6\n",
       "urrMzMwyMjIQEBCIiIh2dnYiIiLu7u5mZmaYmJgAAABXZE4RAAAAAXRSTlMAQObYZgAAANxJREFU\n",
       "KM9jYGDgu8eAE7CtEgBRPLsY8AC2ZhDJ+QFE6mBTwPeRgeE6iMHVACQO/cGqxoGBYQVMzRGXP7gs\n",
       "g6th4KSlmpOTDkDV8BbgUrOA+wEDw3sQKyMAhxrOA/xANewXGBhS2hhwqGFkiAcFsjpQYUQCTjev\n",
       "BmLuBUCCBad7GGoZoO7h2gBXwwMiDsAYDDyfsfj9PFA5z28og4GB+Q+yGt4b30EJ5IQCUE0TlAEU\n",
       "3YBiDlbAfYGQGlYB+QSYGj4cavIv6IIocPrh2YldzaG1D0DpsBWSkhYTSM8AKCNFBTMPcI4AAAAA\n",
       "SUVORK5CYII=\n",
       "\" style=\"display:inline;vertical-align:middle;\" /></a></td></tr>\n",
       "<tr><td>6</td><td>Literal</td><td></td><td><a class=\"ProveItLink\" href=\"../../../number/sets/integer/__pv_it/6e5362d7b256561b61a1b512bf7dc507dcde5dcf0/expr.ipynb\"><img src=\"data:image/png;base64,iVBORw0KGgoAAAANSUhEUgAAAE4AAAAOBAMAAABz3DdCAAAAMFBMVEX///8QEBCYmJiqqqoiIiLu\n",
       "7u7MzMyIiIi6uroyMjLc3NxmZmZERERUVFR2dnYAAAADo0JQAAAAAXRSTlMAQObYZgAAAWZJREFU\n",
       "KM99kL9LQlEUx7/2vL7XS9+LlqAh3Bp1kGhzLKjhCW1BvaX9UoPQD3ku1qb0D/S2ghTf4CKEuAU1\n",
       "6BaR1B3aKhIiNbAf56q8ybpwv3DO+XDOly+A158bF/+/p57UT79O2eO5iTaJ9u3XSWs8N1UgMXp+\n",
       "XfnjboCTTLb9evUPriz9mHXg6PrsUGit/i302r6rHZxnPGzWkOIoZbIuYhLO01Jxx1kHCm1OuLpn\n",
       "RFboiMhjvanNoQG0JPdmQ3PWwHrSrk5qHwebihOKV6B45SgugVnJnQKMIOUDQYHIzMIerC2HejQN\n",
       "xR+BZYQ6kuvTJyhSAI1Nb5APhj3V6oP8qNMyvu4wIDNqJaGbMgFUR6EZepdMs3CTcjXk0oBAzBJV\n",
       "LMmkOOYlF/aQY+90Z9GMilF8ZQcvin3PhFrAhqsPkjfqjOMECU+Y2xwXjS+Cs0BxF8U08Jzm0KQf\n",
       "sIcdoJTOXTlqzfoFcS9unliQnJ4AAAAASUVORK5CYII=\n",
       "\" style=\"display:inline;vertical-align:middle;\" /></a></td></tr>\n",
       "<tr><td>7</td><td>ExprTuple</td><td>8, 9</td><td><a class=\"ProveItLink\" href=\"../f213646c4260e126c48fd781da597d88dd03b64d0/expr.ipynb\"><img src=\"data:image/png;base64,iVBORw0KGgoAAAANSUhEUgAAACkAAAAVBAMAAAAp9toTAAAAMFBMVEX////c3NwiIiJERESqqqqY\n",
       "mJh2dnZmZmYQEBDu7u4yMjJUVFTMzMyIiIi6uroAAAAs73DqAAAAAXRSTlMAQObYZgAAAOJJREFU\n",
       "GNNjYMAO+C6gCcSBiNNAzDwBLhYvwH4ASK1kYOC0R4hGMzAsYGDgvcDAuXv/BGQjwhgYOEAC91FE\n",
       "ZzAwvGLAEGV2YChDEeW8a8nAwFbAsBRFlI1BlYGBZQFDH4roTYavQB80MPxDERXg+8jAwPMBTZSB\n",
       "TQEs2oIqylUANsEUJgqRmO/AwMC6gCEdKsr5CSzqPwHsskdAZnn/8gDOfgGQaBHIlAcMHAKwEAUz\n",
       "1CE+Zk2AirIC8UPGP0AyFxKSMFGe78xAJ3ACQ5JBGioKjBJOs1IggxtkFCN6DN1hYAAAH1M7JZoR\n",
       "oFMAAAAASUVORK5CYII=\n",
       "\" style=\"display:inline;vertical-align:middle;\" /></a></td></tr>\n",
       "<tr><td>8</td><td>Literal</td><td></td><td><a class=\"ProveItLink\" href=\"../../../number/numeral/__pv_it/9be8badea4c35b9724062cecc501d17a3158d1d20/expr.ipynb\"><img src=\"data:image/png;base64,iVBORw0KGgoAAAANSUhEUgAAAAgAAAAPBAMAAAArJJMAAAAAHlBMVEX///+YmJgyMjIQEBBmZmaI\n",
       "iIhUVFTu7u5EREQAAAAw+MI4AAAAAXRSTlMAQObYZgAAACFJREFUCNdjYGBoZ2BgqJjOwFCWBiQY\n",
       "WEklWJwnOTKAAACjEQo8HvEr3AAAAABJRU5ErkJggg==\n",
       "\" style=\"display:inline;vertical-align:middle;\" /></a></td></tr>\n",
       "<tr><td>9</td><td>Variable</td><td></td><td><a class=\"ProveItLink\" href=\"../../../__pv_it/612356038763a16ceac85a062629d016c986635c0/expr.ipynb\"><img src=\"data:image/png;base64,iVBORw0KGgoAAAANSUhEUgAAAAoAAAASBAMAAACQmVJ4AAAALVBMVEX////MzMyqqqpmZmYyMjK6\n",
       "uroiIiJ2dnZERESIiIju7u5UVFTc3NyYmJgAAAAeP2GyAAAAAXRSTlMAQObYZgAAAE1JREFUCNdj\n",
       "YGBg4H3DACI3MGADK2csAJIFbBcYGDgX8AFJHoa4AyCJMrC0M4jgegQimV6BSOYEEMlmwMDAeuCc\n",
       "AAODnEEzkL+iGKgTAMbaDxjCuhcwAAAAAElFTkSuQmCC\n",
       "\" style=\"display:inline;vertical-align:middle;\" /></a></td></tr>\n",
       "</table>\n"
      ],
      "text/plain": [
       "0. (_x_ in {1...j})\n",
       "   core type: ExprTuple\n",
       "   sub-expressions: 1\n",
       "1. _x_ in {1...j}\n",
       "   core type: Operation\n",
       "   operator: 2\n",
       "   operands: 3\n",
       "2. in\n",
       "   core type: Literal\n",
       "   sub-expressions: \n",
       "3. (_x_ , {1...j})\n",
       "   core type: ExprTuple\n",
       "   sub-expressions: 4, 5\n",
       "4. _x_\n",
       "   core type: Variable\n",
       "   sub-expressions: \n",
       "5. {1...j}\n",
       "   core type: Operation\n",
       "   operator: 6\n",
       "   operands: 7\n",
       "6. Interval\n",
       "   core type: Literal\n",
       "   sub-expressions: \n",
       "7. (1 , j)\n",
       "   core type: ExprTuple\n",
       "   sub-expressions: 8, 9\n",
       "8. 1\n",
       "   core type: Literal\n",
       "   sub-expressions: \n",
       "9. j\n",
       "   core type: Variable\n",
       "   sub-expressions: "
      ]
     },
     "execution_count": 4,
     "metadata": {},
     "output_type": "execute_result"
    }
   ],
   "source": [
    "# display the expression information\n",
    "expr.exprInfo()"
   ]
  },
  {
   "cell_type": "code",
   "execution_count": null,
   "metadata": {},
   "outputs": [],
   "source": []
  }
 ],
 "metadata": {
  "kernelspec": {
   "display_name": "Python 3",
   "language": "python",
   "name": "python3"
  }
 },
 "nbformat": 4,
 "nbformat_minor": 0
}
