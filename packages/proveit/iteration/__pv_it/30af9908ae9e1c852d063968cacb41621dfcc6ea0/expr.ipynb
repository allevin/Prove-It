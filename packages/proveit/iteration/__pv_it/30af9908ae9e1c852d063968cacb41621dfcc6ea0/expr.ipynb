{
 "cells": [
  {
   "cell_type": "markdown",
   "metadata": {},
   "source": [
    "Expression of type <a class=\"ProveItLink\" href=\"../../../../../doc/html/api/proveit.ExprTuple.html\">ExprTuple</a>\n",
    "=======================\n",
    "# from context <a class=\"ProveItLink\" href=\"../../_context_.ipynb\">proveit.iteration</a>"
   ]
  },
  {
   "cell_type": "code",
   "execution_count": 1,
   "metadata": {},
   "outputs": [],
   "source": [
    "# import Expression classes needed to build the expression\n",
    "from proveit import ExprTuple\n",
    "from proveit._common_ import j, k\n",
    "from proveit.number import Add, Neg"
   ]
  },
  {
   "cell_type": "code",
   "execution_count": 2,
   "metadata": {},
   "outputs": [
    {
     "data": {
      "text/html": [
       "<strong id=\"expr\">expr:</strong> <a class=\"ProveItLink\" href=\"expr.ipynb\"><img src=\"data:image/png;base64,iVBORw0KGgoAAAANSUhEUgAAAHMAAAAVBAMAAACHwMySAAAAMFBMVEX////c3NwiIiJERESqqqqY\n",
       "mJh2dnZmZmYQEBDu7u4yMjJUVFTMzMyIiIi6uroAAAAs73DqAAAAAXRSTlMAQObYZgAAAXRJREFU\n",
       "OMtjYKAA8F0gR1cciDgNIlg/osrMbkJXiywCVM1+AEivBHM2oKlcjmEPkghI9QIGBl4U906EMb5g\n",
       "aEUTCWNg4JiALOALC4CfGEGCJjKDgeEVAzatbAvQtaKLMDswlIHouZcnoGrlSmCtf4CiFEkErJqt\n",
       "gGEpiJPAFICqdf7LzPcOKFqRRMCqWRYw9AHZvBP40bT6n0V3MEIEopqvgeEfkMPI8F4AVWu9Hphi\n",
       "XKQEAg8QInDVPB/AWhkYkkBE1apVGqtWrQYxdWdrotmKLAJSDdTaghLfUFs5/zB8YUTRiSICUg10\n",
       "sClY4guqVtYPnP/YULRCRSbAVbMuYEgHcVh+omrlNmD4yIuiFSLC+QmuGhg5j0AcdgVUrVwBDNcz\n",
       "UaMVLMLZLwBTzfWAgQPEYSpAS004cyhcNTAhsiYA+fIHoFJvCWhlZYCpzgVnuvMF5sTmcKBWiGpO\n",
       "UJKWZpicHkCsVmAOhajmBrmckawC5g4DAwBnZWdvYowQogAAAABJRU5ErkJggg==\n",
       "\" style=\"display:inline;vertical-align:middle;\" /></a><br>"
      ],
      "text/plain": [
       "expr: (j + k - k , j)"
      ]
     },
     "execution_count": 2,
     "metadata": {},
     "output_type": "execute_result"
    }
   ],
   "source": [
    "# build up the expression from sub-expressions\n",
    "expr = ExprTuple(Add(j, k, Neg(k)), j)"
   ]
  },
  {
   "cell_type": "code",
   "execution_count": 3,
   "metadata": {},
   "outputs": [
    {
     "name": "stdout",
     "output_type": "stream",
     "text": [
      "Passed sanity check: built 'expr' is the same as the stored Expression.\n"
     ]
    }
   ],
   "source": [
    "# check that the built expression is the same as the stored expression\n",
    "%check_expr"
   ]
  },
  {
   "cell_type": "code",
   "execution_count": 4,
   "metadata": {},
   "outputs": [
    {
     "data": {
      "text/html": [
       "<table><tr><th>&nbsp;</th><th>core type</th><th>sub-expressions</th><th>expression</th></tr>\n",
       "<tr><td>0</td><td>ExprTuple</td><td>1, 4</td><td><a class=\"ProveItLink\" href=\"expr.ipynb\"><img src=\"data:image/png;base64,iVBORw0KGgoAAAANSUhEUgAAAHMAAAAVBAMAAACHwMySAAAAMFBMVEX////c3NwiIiJERESqqqqY\n",
       "mJh2dnZmZmYQEBDu7u4yMjJUVFTMzMyIiIi6uroAAAAs73DqAAAAAXRSTlMAQObYZgAAAXRJREFU\n",
       "OMtjYKAA8F0gR1cciDgNIlg/osrMbkJXiywCVM1+AEivBHM2oKlcjmEPkghI9QIGBl4U906EMb5g\n",
       "aEUTCWNg4JiALOALC4CfGEGCJjKDgeEVAzatbAvQtaKLMDswlIHouZcnoGrlSmCtf4CiFEkErJqt\n",
       "gGEpiJPAFICqdf7LzPcOKFqRRMCqWRYw9AHZvBP40bT6n0V3MEIEopqvgeEfkMPI8F4AVWu9Hphi\n",
       "XKQEAg8QInDVPB/AWhkYkkBE1apVGqtWrQYxdWdrotmKLAJSDdTaghLfUFs5/zB8YUTRiSICUg10\n",
       "sClY4guqVtYPnP/YULRCRSbAVbMuYEgHcVh+omrlNmD4yIuiFSLC+QmuGhg5j0AcdgVUrVwBDNcz\n",
       "UaMVLMLZLwBTzfWAgQPEYSpAS004cyhcNTAhsiYA+fIHoFJvCWhlZYCpzgVnuvMF5sTmcKBWiGpO\n",
       "UJKWZpicHkCsVmAOhajmBrmckawC5g4DAwBnZWdvYowQogAAAABJRU5ErkJggg==\n",
       "\" style=\"display:inline;vertical-align:middle;\" /></a></td></tr>\n",
       "<tr><td>1</td><td>Operation</td><td>operator:&nbsp;2<br>operands:&nbsp;3<br></td><td><a class=\"ProveItLink\" href=\"../48d1d961c39204432045ecb6fe0f12d6fa65712b0/expr.ipynb\"><img src=\"data:image/png;base64,iVBORw0KGgoAAAANSUhEUgAAAFQAAAASBAMAAAA3ROSDAAAAMFBMVEX///8QEBDMzMyqqqpmZmYy\n",
       "MjK6uroiIiJ2dnZERESIiIju7u5UVFTc3NyYmJgAAACtHSfyAAAAAXRSTlMAQObYZgAAAQNJREFU\n",
       "KM9jYGBg4PvLgAL2iDOgAe6DBRAG3wE0mRB0pQysDqj8vTDGZwyl/AaofCsozfYbQ2n+BuxKOQIw\n",
       "lLZCqF0rN6AqZW3g809AVRrB8OQbkGpgf4CqdH92dz6q27i/7dgG9ADXBn40pfZa6PYzf1oAongZ\n",
       "8i+gKvUvA1O84eUgAHIKy3eog9pBhGtoaGFoaAyIWbWnGs1U9tXHN6CEONRU7k8Mn3lRle5X4DcA\n",
       "Wc39GVUp3wfubxyoSt8z7E9oALn5N6pSngkMf7lQlZ5k4L8A8hhLAapS1gcMS7pRlcYxcHmAHMvu\n",
       "gBZbuADbhfsKUGYWAaX6DlMYiAQ7Wx4QqRIAAFZBytseBDAAAAAASUVORK5CYII=\n",
       "\" style=\"display:inline;vertical-align:middle;\" /></a></td></tr>\n",
       "<tr><td>2</td><td>Literal</td><td></td><td><a class=\"ProveItLink\" href=\"../../../number/addition/__pv_it/3e6688136fa3c7aefbebe51301b7c3ebf0b69c440/expr.ipynb\"><img src=\"data:image/png;base64,iVBORw0KGgoAAAANSUhEUgAAAA4AAAAOBAMAAADtZjDiAAAAJFBMVEX///+6urpUVFQQEBAiIiIy\n",
       "MjJmZmaIiIiqqqrc3Nzu7u4AAACgHpL+AAAAAXRSTlMAQObYZgAAAB5JREFUCNdjYGBgWMkAAe2k\n",
       "0Kmhoc6hoUGk6BMHYgAHOwjcado9fwAAAABJRU5ErkJggg==\n",
       "\" style=\"display:inline;vertical-align:middle;\" /></a></td></tr>\n",
       "<tr><td>3</td><td>ExprTuple</td><td>4, 7, 5</td><td><a class=\"ProveItLink\" href=\"../ded30d045aa41e716e6abcd69c55b2a44b6ebbcf0/expr.ipynb\"><img src=\"data:image/png;base64,iVBORw0KGgoAAAANSUhEUgAAAE4AAAAVBAMAAAAazcUaAAAAMFBMVEX////c3NwiIiJERESqqqqY\n",
       "mJh2dnZmZmYQEBDu7u4yMjJUVFTMzMyIiIi6uroAAAAs73DqAAAAAXRSTlMAQObYZgAAAWNJREFU\n",
       "KM9jYCAW8F0gqIT1AZA4DWLFC4BIzh0K6EpmN4HIGiBeCWJEQ0S5CjDMWg4WZ2DgRbaW3wFD3Rew\n",
       "xQkMHBOQBN9PwHD9T7CDGhheIYtmYRjHtgBMmTCUgZTftYSILmMI/4eqjiuBtR7o23SGpSBNDKpg\n",
       "Qc5/0+Z9QVU3/2Xme6CjvRj6gJybDF/Bgix/MMLS/yyYesEAskeA7yOYx/7pAVSacZESCDxgqNcD\n",
       "88+D1TGwQcKX6eYmdA/rztaEqGtBCt/5B/gdBFCUcf5h+MIIttcUrMCBAWRQPMP8BwkMnMgx+4Hz\n",
       "HxuQjgL6GOTaCZyfgNRmBn6BCwzzkSKZ24DhIy8DKFwegbhFDJz9QAuXMvCWTWCY8REp+AIYrmcC\n",
       "6XUMHCAHqQMjCOGwhxixAow3YBQ/ZPwDdAlCNAAz9oDhupLnO3MBAXWzgFia06wUSCFighczQW8E\n",
       "BT3hdM97gAEA0qtV2QM4+/cAAAAASUVORK5CYII=\n",
       "\" style=\"display:inline;vertical-align:middle;\" /></a></td></tr>\n",
       "<tr><td>4</td><td>Variable</td><td></td><td><a class=\"ProveItLink\" href=\"../../../__pv_it/612356038763a16ceac85a062629d016c986635c0/expr.ipynb\"><img src=\"data:image/png;base64,iVBORw0KGgoAAAANSUhEUgAAAAoAAAASBAMAAACQmVJ4AAAALVBMVEX////MzMyqqqpmZmYyMjK6\n",
       "uroiIiJ2dnZERESIiIju7u5UVFTc3NyYmJgAAAAeP2GyAAAAAXRSTlMAQObYZgAAAE1JREFUCNdj\n",
       "YGBg4H3DACI3MGADK2csAJIFbBcYGDgX8AFJHoa4AyCJMrC0M4jgegQimV6BSOYEEMlmwMDAeuCc\n",
       "AAODnEEzkL+iGKgTAMbaDxjCuhcwAAAAAElFTkSuQmCC\n",
       "\" style=\"display:inline;vertical-align:middle;\" /></a></td></tr>\n",
       "<tr><td>5</td><td>Operation</td><td>operator:&nbsp;6<br>operand:&nbsp;7<br></td><td><a class=\"ProveItLink\" href=\"../cc46d6b1804230958c60a82a348817a9551300580/expr.ipynb\"><img src=\"data:image/png;base64,iVBORw0KGgoAAAANSUhEUgAAABoAAAAOBAMAAADDIxFwAAAAMFBMVEX///9ERESIiIjMzMyYmJh2\n",
       "dnaqqqpmZmYQEBBUVFTu7u66uroiIiIyMjLc3NwAAAAyw82KAAAAAXRSTlMAQObYZgAAAF5JREFU\n",
       "CNdjYIACrhkHGJAAbwEyjz8Bmbd/ATIvFpnDcJXB/Tecw/V76epvcB7bZwUg+fYMCJxmYP+zAUkb\n",
       "j9YcJEPXG/AnPIDz/BnWbwiA8yYy8D9QgPOuMDCVLgAAgnkbFg85c1sAAAAASUVORK5CYII=\n",
       "\" style=\"display:inline;vertical-align:middle;\" /></a></td></tr>\n",
       "<tr><td>6</td><td>Literal</td><td></td><td><a class=\"ProveItLink\" href=\"../../../number/negation/__pv_it/3fc7a08bb9735faa20ef8e175f6ea95511acc9c70/expr.ipynb\"><img src=\"data:image/png;base64,iVBORw0KGgoAAAANSUhEUgAAAA4AAAACBAMAAACapPCZAAAAElBMVEX///+6uroiIiIyMjLc3NwA\n",
       "AAA6l9OrAAAAAXRSTlMAQObYZgAAABBJREFUCNdjcFYCAUUGKAAADR4BD8/TF5gAAAAASUVORK5C\n",
       "YII=\n",
       "\" style=\"display:inline;vertical-align:middle;\" /></a></td></tr>\n",
       "<tr><td>7</td><td>Variable</td><td></td><td><a class=\"ProveItLink\" href=\"../../../__pv_it/1a7356cf6caf039e07a5436d90e972cbb5e92b0a0/expr.ipynb\"><img src=\"data:image/png;base64,iVBORw0KGgoAAAANSUhEUgAAAAoAAAAOBAMAAADkjZCYAAAAMFBMVEX///9ERETc3NyIiIjMzMyY\n",
       "mJh2dna6urqqqqpmZmYyMjIiIiIQEBBUVFTu7u4AAAD6+w4kAAAAAXRSTlMAQObYZgAAAFBJREFU\n",
       "CNdj4LuzgQEIuCaASP4GEFn/AERmgQiGZQyR3xn4vj97/oOB44sBUIDzdwGQ5La7DVT03oG/QYEh\n",
       "nuF9QQLDRQZ+BQOGpQzM0x4AAD+VFjuIiDKbAAAAAElFTkSuQmCC\n",
       "\" style=\"display:inline;vertical-align:middle;\" /></a></td></tr>\n",
       "</table>\n"
      ],
      "text/plain": [
       "0. (j + k - k , j)\n",
       "   core type: ExprTuple\n",
       "   sub-expressions: 1, 4\n",
       "1. j + k - k\n",
       "   core type: Operation\n",
       "   operator: 2\n",
       "   operands: 3\n",
       "2. +\n",
       "   core type: Literal\n",
       "   sub-expressions: \n",
       "3. (j , k , -k)\n",
       "   core type: ExprTuple\n",
       "   sub-expressions: 4, 7, 5\n",
       "4. j\n",
       "   core type: Variable\n",
       "   sub-expressions: \n",
       "5. -k\n",
       "   core type: Operation\n",
       "   operator: 6\n",
       "   operand: 7\n",
       "6. -\n",
       "   core type: Literal\n",
       "   sub-expressions: \n",
       "7. k\n",
       "   core type: Variable\n",
       "   sub-expressions: "
      ]
     },
     "execution_count": 4,
     "metadata": {},
     "output_type": "execute_result"
    }
   ],
   "source": [
    "# display the expression information\n",
    "expr.exprInfo()"
   ]
  },
  {
   "cell_type": "code",
   "execution_count": null,
   "metadata": {},
   "outputs": [],
   "source": []
  }
 ],
 "metadata": {
  "kernelspec": {
   "display_name": "Python 3",
   "language": "python",
   "name": "python3"
  }
 },
 "nbformat": 4,
 "nbformat_minor": 0
}
