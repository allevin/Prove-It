{
 "cells": [
  {
   "cell_type": "markdown",
   "metadata": {},
   "source": [
    "Expression of type <a class=\"ProveItLink\" href=\"../../../../../doc/html/api/proveit.number.Mult.html\">Mult</a>\n",
    "=======================\n",
    "# from context <a class=\"ProveItLink\" href=\"../../_context_.ipynb\">proveit.iteration</a>"
   ]
  },
  {
   "cell_type": "code",
   "execution_count": 1,
   "metadata": {},
   "outputs": [],
   "source": [
    "# import Expression classes needed to build the expression\n",
    "from proveit import Indexed\n",
    "from proveit._common_ import q, xx, yy\n",
    "from proveit.number import Mult"
   ]
  },
  {
   "cell_type": "code",
   "execution_count": 2,
   "metadata": {},
   "outputs": [
    {
     "data": {
      "text/html": [
       "<strong id=\"expr\">expr:</strong> <a class=\"ProveItLink\" href=\"expr.ipynb\"><img src=\"data:image/png;base64,iVBORw0KGgoAAAANSUhEUgAAADoAAAAQBAMAAAC1onFLAAAAMFBMVEX///9ERETc3Nx2dnaYmJiI\n",
       "iIgQEBCqqqpUVFS6urrMzMwiIiIyMjJmZmbu7u4AAAAYebpBAAAAAXRSTlMAQObYZgAAAPZJREFU\n",
       "GNNjYHh7+tScHQwowCaFgWE3mMW3nSF/X3wAsiTzhXwF9v9gJocDw/+A/w7Iss+Y/ivwfoQoZACy\n",
       "XeEy74B4KfMfBu6vUAGWbwhtfL9BJNtXhve/oCIcP5BkE0Hk+k8M8z+A+ewGQJWsCgy6we5wNf4J\n",
       "DPYHwCLvf+r/ZFBj4NvE9Akhe4DhvAFYRF+g7SfTSQaOC1wJcFn9BNb/E8AirLvt2s5MYOCfwCoA\n",
       "l2XftvH/A2SR9w8YESEyiwHoXWQRtgf6C+Ba/zPof0IR4bx6H66V9TPTtgkoIgwMPgjm7d12aCIM\n",
       "lxnQAZII758FaJJAEQCFFlMiu3gxgQAAAABJRU5ErkJggg==\n",
       "\" style=\"display:inline;vertical-align:middle;\" /></a><br>"
      ],
      "text/plain": [
       "expr: x_q * y_q"
      ]
     },
     "execution_count": 2,
     "metadata": {},
     "output_type": "execute_result"
    }
   ],
   "source": [
    "# build up the expression from sub-expressions\n",
    "expr = Mult(Indexed(xx, q, base = 1), Indexed(yy, q, base = 1))"
   ]
  },
  {
   "cell_type": "code",
   "execution_count": 3,
   "metadata": {},
   "outputs": [
    {
     "name": "stdout",
     "output_type": "stream",
     "text": [
      "Passed sanity check: built 'expr' is the same as the stored Expression.\n"
     ]
    }
   ],
   "source": [
    "# check that the built expression is the same as the stored expression\n",
    "%check_expr"
   ]
  },
  {
   "cell_type": "code",
   "execution_count": 4,
   "metadata": {},
   "outputs": [
    {
     "data": {
      "text/html": [
       "<table><tr><th>&nbsp;</th><th>core type</th><th>sub-expressions</th><th>expression</th></tr>\n",
       "<tr><td>0</td><td>Operation</td><td>operator:&nbsp;1<br>operands:&nbsp;2<br></td><td><a class=\"ProveItLink\" href=\"expr.ipynb\"><img src=\"data:image/png;base64,iVBORw0KGgoAAAANSUhEUgAAADoAAAAQBAMAAAC1onFLAAAAMFBMVEX///9ERETc3Nx2dnaYmJiI\n",
       "iIgQEBCqqqpUVFS6urrMzMwiIiIyMjJmZmbu7u4AAAAYebpBAAAAAXRSTlMAQObYZgAAAPZJREFU\n",
       "GNNjYHh7+tScHQwowCaFgWE3mMW3nSF/X3wAsiTzhXwF9v9gJocDw/+A/w7Iss+Y/ivwfoQoZACy\n",
       "XeEy74B4KfMfBu6vUAGWbwhtfL9BJNtXhve/oCIcP5BkE0Hk+k8M8z+A+ewGQJWsCgy6we5wNf4J\n",
       "DPYHwCLvf+r/ZFBj4NvE9Akhe4DhvAFYRF+g7SfTSQaOC1wJcFn9BNb/E8AirLvt2s5MYOCfwCoA\n",
       "l2XftvH/A2SR9w8YESEyiwHoXWQRtgf6C+Ba/zPof0IR4bx6H66V9TPTtgkoIgwMPgjm7d12aCIM\n",
       "lxnQAZII758FaJJAEQCFFlMiu3gxgQAAAABJRU5ErkJggg==\n",
       "\" style=\"display:inline;vertical-align:middle;\" /></a></td></tr>\n",
       "<tr><td>1</td><td>Literal</td><td></td><td><a class=\"ProveItLink\" href=\"../../../number/multiplication/__pv_it/21fd2079611555ecce512d99547a00d551e6b86b0/expr.ipynb\"><img src=\"data:image/png;base64,iVBORw0KGgoAAAANSUhEUgAAAAMAAAADBAMAAACkBqiMAAAAElBMVEX///9EREQQEBAiIiLu7u4A\n",
       "AABGBidwAAAAAXRSTlMAQObYZgAAABFJREFUCNdjYHFgcDVgcBIAAASWAQx4jI0xAAAAAElFTkSu\n",
       "QmCC\n",
       "\" style=\"display:inline;vertical-align:middle;\" /></a></td></tr>\n",
       "<tr><td>2</td><td>ExprTuple</td><td>3, 4</td><td><a class=\"ProveItLink\" href=\"../d19e94c21e75f4a832c630247c0243b3a1c279ad0/expr.ipynb\"><img src=\"data:image/png;base64,iVBORw0KGgoAAAANSUhEUgAAAEEAAAAWBAMAAABtUuw5AAAAMFBMVEX////c3NwiIiJERESqqqqY\n",
       "mJh2dnZmZmYQEBDu7u4yMjJUVFTMzMyIiIi6uroAAAAs73DqAAAAAXRSTlMAQObYZgAAAWRJREFU\n",
       "KM+FUjFLw1AQ/mKbNjFNzabgEI0OFZcu7v6EDuIgqNmkglgcuokZdLXZ7JYgOFhE147dRczkJBgd\n",
       "i2CDIFJt4iWvbVqR+IZ399373ru77x7w/8o7CYdb4XabdD3bou0yMYMNyE4iYx0QzERGHWiTOTu/\n",
       "ai+PhHdPAI25qVVUAXERtaWnOFumUlPSwcDHBSCVEDhBKX6ZC5TsO/PTNk6JBwptxknuMl1M9Ppq\n",
       "GfBDy3+OlSf0YH0zN9dhDOlrjHHv4a0zZBxTLp0uyQqmH9ZYeNvAvs0gZVkBLF/1MQNxnvMgRgwb\n",
       "N3oEwdvYAdRi0+euIVVyBqw5YqiGHLgRDLt9IeG1crPhYsqVi6h7YYuFhcCMICZdCMqgPstMkWrP\n",
       "5L2C5GCQVOf1YY+mSrMm4UhP1evDvdHp5w+PEDHkD67gMijS9DEb67BBp6E90Mp9KIU1cPHIquOT\n",
       "J/j468t1W3/AH0LraABpzhqSAAAAAElFTkSuQmCC\n",
       "\" style=\"display:inline;vertical-align:middle;\" /></a></td></tr>\n",
       "<tr><td>3</td><td>Indexed</td><td>var:&nbsp;5<br>index:&nbsp;7<br>base:&nbsp;\"1\"<br></td><td><a class=\"ProveItLink\" href=\"../e9f526ccc97ed43d5ccd581c33d51d6a89e774db0/expr.ipynb\"><img src=\"data:image/png;base64,iVBORw0KGgoAAAANSUhEUgAAABYAAAAQBAMAAADgw5IVAAAAMFBMVEX///9ERETc3Nx2dnaYmJiI\n",
       "iIgQEBCqqqpUVFS6urrMzMwiIiIyMjJmZmbu7u4AAAAYebpBAAAAAXRSTlMAQObYZgAAAINJREFU\n",
       "CNdjYHh7+tScHQxgwLedIX9ffACYzeHA8D/gvwOYzczA9F/BlQEKWL4xwAHHDxiL3YDtKwOrAoNu\n",
       "sDvD+5/6PxnUGPg2MX1i0Bdo+8l0koHjAlcCA+tuu7YzExj4J7AKwLS9f8AYAGOzPdBfAGNzXr2P\n",
       "sIXBB4l9GcHk/bMAAN1XI3K0EXLQAAAAAElFTkSuQmCC\n",
       "\" style=\"display:inline;vertical-align:middle;\" /></a></td></tr>\n",
       "<tr><td>4</td><td>Indexed</td><td>var:&nbsp;6<br>index:&nbsp;7<br>base:&nbsp;\"1\"<br></td><td><a class=\"ProveItLink\" href=\"../051f6092027f920c26ed843aae627bd2329690010/expr.ipynb\"><img src=\"data:image/png;base64,iVBORw0KGgoAAAANSUhEUgAAABQAAAAQBAMAAADkNkIoAAAAMFBMVEX///9UVFS6urqIiIjMzMxE\n",
       "RETu7u6qqqrc3NxmZmYiIiKYmJgQEBAyMjJ2dnYAAACf7SmQAAAAAXRSTlMAQObYZgAAAJRJREFU\n",
       "CNdjYHh7moFhFQMI8E0438D+H8zM4fjfwPkVzHTm+8vA9RnMZOD5zJD/BcL0/8Gg/wHC3H+A4f0F\n",
       "hk677UDmBYb7D9hWcPxgYOg/wPxfgXECywEGBvY1S/8n8CswBzAwqDAAjc1PYDVgANrU/4OBJ6Hf\n",
       "gYH5H8caBQamyfOBhs1a9Qxk5l4GOJgHZ3H+dQAAo7Yt0zGHZbgAAAAASUVORK5CYII=\n",
       "\" style=\"display:inline;vertical-align:middle;\" /></a></td></tr>\n",
       "<tr><td>5</td><td>Variable</td><td></td><td><a class=\"ProveItLink\" href=\"../../../__pv_it/7a540faade4b95df4e25b93ec64921746d67c7a50/expr.ipynb\"><img src=\"data:image/png;base64,iVBORw0KGgoAAAANSUhEUgAAAA0AAAAKBAMAAACdwMn3AAAAMFBMVEX///9ERETc3Nx2dnaYmJiI\n",
       "iIgQEBCqqqpUVFS6urrMzMwiIiIyMjJmZmbu7u4AAAAYebpBAAAAAXRSTlMAQObYZgAAAFNJREFU\n",
       "CNdjYHh7+tScHQwMfNsZ8vfFBzBwODD8D/jvwMDMwPRfwZUBCFi+MYABxw8QyW7A9pWBVYHh/U/9\n",
       "nwxqDAz6Am0/mU4yMLDutms7M4EBAKnKFqcheKyGAAAAAElFTkSuQmCC\n",
       "\" style=\"display:inline;vertical-align:middle;\" /></a></td></tr>\n",
       "<tr><td>6</td><td>Variable</td><td></td><td><a class=\"ProveItLink\" href=\"../../../__pv_it/23a8703a0497efbbce779bb784cd8c2fbbfa1f580/expr.ipynb\"><img src=\"data:image/png;base64,iVBORw0KGgoAAAANSUhEUgAAAA0AAAAOBAMAAAAGUYvhAAAALVBMVEX///+6urqIiIjMzMxERETu\n",
       "7u6qqqrc3NxmZmYiIiKYmJgQEBAyMjJ2dnYAAAAI/qgrAAAAAXRSTlMAQObYZgAAAGpJREFUCNdj\n",
       "YLizi4FhJgMDb8O+ArZ3DAzR7O8KOJ4wMBjxvmHgfMTAwMD9iCHuMZC2e84g9wBIr9vAcO8AiD7A\n",
       "cO4CkK7bwPROAEizzZ7yLgBICzOAtDMAzap7DqSZ3rLPBkkzdM68CiQBR18fizMQCrQAAAAASUVO\n",
       "RK5CYII=\n",
       "\" style=\"display:inline;vertical-align:middle;\" /></a></td></tr>\n",
       "<tr><td>7</td><td>Variable</td><td></td><td><a class=\"ProveItLink\" href=\"../../../__pv_it/874553314f6d962851bc90a15187492caf5d49850/expr.ipynb\"><img src=\"data:image/png;base64,iVBORw0KGgoAAAANSUhEUgAAAAoAAAANBAMAAABiGeI2AAAAMFBMVEX///+qqqpEREQiIiIyMjKY\n",
       "mJjc3NxUVFTu7u4QEBC6urp2dnaIiIhmZmbMzMwAAADWMNsgAAAAAXRSTlMAQObYZgAAAFBJREFU\n",
       "CNdjYOC7s28XA8PKBvYfDGxfGXgdGNg/MDBvYOBXYOhfwJB/gCGegaFfgKGEgYElgPE3AwNbzdFf\n",
       "DEDA+gFEsjuASM4NQIJb35YBAC9REXkfHwxdAAAAAElFTkSuQmCC\n",
       "\" style=\"display:inline;vertical-align:middle;\" /></a></td></tr>\n",
       "</table>\n"
      ],
      "text/plain": [
       "0. x_q * y_q\n",
       "   core type: Operation\n",
       "   operator: 1\n",
       "   operands: 2\n",
       "1. *\n",
       "   core type: Literal\n",
       "   sub-expressions: \n",
       "2. (x_q , y_q)\n",
       "   core type: ExprTuple\n",
       "   sub-expressions: 3, 4\n",
       "3. x_q\n",
       "   core type: Indexed\n",
       "   var: 5\n",
       "   index: 7\n",
       "   base: \"1\"\n",
       "4. y_q\n",
       "   core type: Indexed\n",
       "   var: 6\n",
       "   index: 7\n",
       "   base: \"1\"\n",
       "5. x\n",
       "   core type: Variable\n",
       "   sub-expressions: \n",
       "6. y\n",
       "   core type: Variable\n",
       "   sub-expressions: \n",
       "7. q\n",
       "   core type: Variable\n",
       "   sub-expressions: "
      ]
     },
     "execution_count": 4,
     "metadata": {},
     "output_type": "execute_result"
    }
   ],
   "source": [
    "# display the expression information\n",
    "expr.exprInfo()"
   ]
  },
  {
   "cell_type": "code",
   "execution_count": null,
   "metadata": {},
   "outputs": [],
   "source": []
  }
 ],
 "metadata": {
  "kernelspec": {
   "display_name": "Python 3",
   "language": "python",
   "name": "python3"
  }
 },
 "nbformat": 4,
 "nbformat_minor": 0
}
