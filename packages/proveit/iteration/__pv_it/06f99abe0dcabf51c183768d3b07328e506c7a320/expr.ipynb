{
 "cells": [
  {
   "cell_type": "markdown",
   "metadata": {},
   "source": [
    "Expression of type <a class=\"ProveItLink\" href=\"../../../../../doc/html/api/proveit.logic.Equals.html\">Equals</a>\n",
    "=======================\n",
    "# from context <a class=\"ProveItLink\" href=\"../../_context_.ipynb\">proveit.iteration</a>"
   ]
  },
  {
   "cell_type": "code",
   "execution_count": 1,
   "metadata": {},
   "outputs": [],
   "source": [
    "# import Expression classes needed to build the expression\n",
    "from proveit._common_ import m\n",
    "from proveit.logic import Equals\n",
    "from proveit.number import Add, one, three"
   ]
  },
  {
   "cell_type": "code",
   "execution_count": 2,
   "metadata": {},
   "outputs": [
    {
     "data": {
      "text/html": [
       "<strong id=\"expr\">expr:</strong> <a class=\"ProveItLink\" href=\"expr.ipynb\"><img src=\"data:image/png;base64,iVBORw0KGgoAAAANSUhEUgAAAPsAAAAVBAMAAAByEoVnAAAAMFBMVEX////c3NwiIiJERESqqqqY\n",
       "mJh2dnZmZmYQEBDu7u4yMjJUVFTMzMyIiIi6uroAAAAs73DqAAAAAXRSTlMAQObYZgAAAkdJREFU\n",
       "SMfFlj9oFEEUxr8z92/vcstZiEWsbGLnFbGwytUBuVQWFhIQkioqgkYOiyskhYVZsZGkuCCIuEGJ\n",
       "jU0Qr0pj4YKkSzCkEiESLQQDnr6Z2du4M+9tvMoHHzfz7c7vu53dnVngP5cfGYlV2OXcqwJqiNKI\n",
       "97H4GgmAe5Y3OnutiVLPPVnGXBQRL2Kx5U1SfMUyT8P/Bay6Z4uYxz8lRC0yStejOH3jHcUXZtLu\n",
       "jSa+A5edEBGzsjGI9+oWohwYpevSoPGJDnmdtNvSY5848TKmNojPRxbiC4wy4jFhu2rmRpr2IBnj\n",
       "xCeIO9Qk+R9P7rzxdybY+DnbrawDxZt2mIxh4mPEM2qSitWX6F5Hi42fstzNNUXSz14p1LWOTIwb\n",
       "P0A8pB/S1xMNdCMh/rPt1miE37GvXsYwVx8j+tQkBd1dtAK02fgPtoulAKMHdryMYeJjRByvBt0C\n",
       "FtWBdhieC8M1K/7IPQNMTvPxAsbE0416+sDcqARxnzpK9IfH4X/zjp9873egxprJL53V1UAmxr76\n",
       "I8QF6iktwuujunqKi7+SnstD4HwdBWfZkzHO5CeIOfNi5fooHKASzfzDi7cF/wf34skYJz5B7FFn\n",
       "Tz+ExQbyb3vpcQtLz6eBV+n4/EKblpyKsxGKmNLdw9vp+ARRplW4XBdXPX2nOpzLLLrZGOvJNwi1\n",
       "nyR7SlL7f3eKEefOux8G2Rj3i2D+uA1X1zK7FQ+z4Qq7uUKMxZLrNWdW6643Nly8RuQiI7FqPc7d\n",
       "ZrzccB9bhPgD1ajsYhv5/cAAAAAASUVORK5CYII=\n",
       "\" style=\"display:inline;vertical-align:middle;\" /></a><br>"
      ],
      "text/plain": [
       "expr: ((m + 1) + 3) = (m + 1 + 3)"
      ]
     },
     "execution_count": 2,
     "metadata": {},
     "output_type": "execute_result"
    }
   ],
   "source": [
    "# build up the expression from sub-expressions\n",
    "expr = Equals(Add(Add(m, one), three), Add(m, one, three))"
   ]
  },
  {
   "cell_type": "code",
   "execution_count": 3,
   "metadata": {},
   "outputs": [
    {
     "name": "stdout",
     "output_type": "stream",
     "text": [
      "Passed sanity check: built 'expr' is the same as the stored Expression.\n"
     ]
    }
   ],
   "source": [
    "# check that the built expression is the same as the stored expression\n",
    "%check_expr"
   ]
  },
  {
   "cell_type": "code",
   "execution_count": 4,
   "metadata": {},
   "outputs": [
    {
     "data": {
      "text/html": [
       "<table><tr><th>&nbsp;</th><th>core type</th><th>sub-expressions</th><th>expression</th></tr>\n",
       "<tr><td>0</td><td>Operation</td><td>operator:&nbsp;1<br>operands:&nbsp;2<br></td><td><a class=\"ProveItLink\" href=\"expr.ipynb\"><img src=\"data:image/png;base64,iVBORw0KGgoAAAANSUhEUgAAAPsAAAAVBAMAAAByEoVnAAAAMFBMVEX////c3NwiIiJERESqqqqY\n",
       "mJh2dnZmZmYQEBDu7u4yMjJUVFTMzMyIiIi6uroAAAAs73DqAAAAAXRSTlMAQObYZgAAAkdJREFU\n",
       "SMfFlj9oFEEUxr8z92/vcstZiEWsbGLnFbGwytUBuVQWFhIQkioqgkYOiyskhYVZsZGkuCCIuEGJ\n",
       "jU0Qr0pj4YKkSzCkEiESLQQDnr6Z2du4M+9tvMoHHzfz7c7vu53dnVngP5cfGYlV2OXcqwJqiNKI\n",
       "97H4GgmAe5Y3OnutiVLPPVnGXBQRL2Kx5U1SfMUyT8P/Bay6Z4uYxz8lRC0yStejOH3jHcUXZtLu\n",
       "jSa+A5edEBGzsjGI9+oWohwYpevSoPGJDnmdtNvSY5848TKmNojPRxbiC4wy4jFhu2rmRpr2IBnj\n",
       "xCeIO9Qk+R9P7rzxdybY+DnbrawDxZt2mIxh4mPEM2qSitWX6F5Hi42fstzNNUXSz14p1LWOTIwb\n",
       "P0A8pB/S1xMNdCMh/rPt1miE37GvXsYwVx8j+tQkBd1dtAK02fgPtoulAKMHdryMYeJjRByvBt0C\n",
       "FtWBdhieC8M1K/7IPQNMTvPxAsbE0416+sDcqARxnzpK9IfH4X/zjp9873egxprJL53V1UAmxr76\n",
       "I8QF6iktwuujunqKi7+SnstD4HwdBWfZkzHO5CeIOfNi5fooHKASzfzDi7cF/wf34skYJz5B7FFn\n",
       "Tz+ExQbyb3vpcQtLz6eBV+n4/EKblpyKsxGKmNLdw9vp+ARRplW4XBdXPX2nOpzLLLrZGOvJNwi1\n",
       "nyR7SlL7f3eKEefOux8G2Rj3i2D+uA1X1zK7FQ+z4Qq7uUKMxZLrNWdW6643Nly8RuQiI7FqPc7d\n",
       "ZrzccB9bhPgD1ajsYhv5/cAAAAAASUVORK5CYII=\n",
       "\" style=\"display:inline;vertical-align:middle;\" /></a></td></tr>\n",
       "<tr><td>1</td><td>Literal</td><td></td><td><a class=\"ProveItLink\" href=\"../../../logic/equality/__pv_it/2fb26078095930560931daa0500ce419a39ea6cd0/expr.ipynb\"><img src=\"data:image/png;base64,iVBORw0KGgoAAAANSUhEUgAAAA4AAAAFBAMAAACHocAhAAAAFVBMVEX///9EREQiIiJUVFQyMjJm\n",
       "ZmYAAADubVkoAAAAAXRSTlMAQObYZgAAABRJREFUCNdjCHEBAWcGXCBICQQUAUpuAwlgGKrkAAAA\n",
       "AElFTkSuQmCC\n",
       "\" style=\"display:inline;vertical-align:middle;\" /></a></td></tr>\n",
       "<tr><td>2</td><td>ExprTuple</td><td>3, 4</td><td><a class=\"ProveItLink\" href=\"../fa1f5cadf0d5055f6bc772ba34ab4dfa1cb1668d0/expr.ipynb\"><img src=\"data:image/png;base64,iVBORw0KGgoAAAANSUhEUgAAANkAAAAVBAMAAAA5ulaKAAAAMFBMVEX////c3NwiIiJERESqqqqY\n",
       "mJh2dnZmZmYQEBDu7u4yMjJUVFTMzMyIiIi6uroAAAAs73DqAAAAAXRSTlMAQObYZgAAAnxJREFU\n",
       "SMe9lj9oE1Ecx7/XXP68JHc9B3FQseCgmxXi4NRsgiLJ5OCggUIFQS2CRoJDhtLBwVxxKTokiCJe\n",
       "qcTFoUXM1MXBgyIIWjw6iRCbihZSaPT37pK2d3l3l0LpD769975H3ue9373fewUONlTTkW9Erf0B\n",
       "XeN/PnYljogOPPSaSxOZ4IHPe/rpifEs4g1qve5KGGyMaEmPKU1iLSgZeNL2GEegbgE1QDEduWOm\n",
       "C1v8QLRowe3G/mB4RDQ1zXk+W2x7nDtZ/AauAAndkTsu9xrf6RUru13Zhyb3Jq20PU7Ops0CP+Eo\n",
       "gIaM1xVn0p8GO5ORLO5Tk6QuH1p5p65khLQbfbQ559E8e/xrobmcDacl6/QFJvGSmqRYah7V28gJ\n",
       "aRc9bvpm3WkUFky2YcmtUNoSn55cw2N6kH4NjaJq+tB+9K3ti12DqnUSbAsD0KAQQy2jQ02SXrWQ\n",
       "01ES0j710RL2eIx1ILcRr4XTUNGRbvVoHHUXmOYvSoZx2jDmPLQdV2og8tcZjVAjSPAKiRvG80eG\n",
       "Ud+h7XKOAWN5TpuiDhet6hTUdTZAJqvtHo1WNUSlrunBa2P/dE6jTJ6jHtc0KC2p2mER7aqbNkyM\n",
       "dfAXtCr6AgtSPiSTm8AZDdGavbtJUgfRFpJmYYAKUPJYKzAqV5ywcB2Yj4V9t89QN+wKWKXOqr1f\n",
       "YqOQ3zfctGLlFc37jWeXXCi+AKtodorHgUvf3GPHH2zecztysUQ1mbSQoB8lNN+zxE57WeSqmu9Z\n",
       "4uPMOkfu9rG7Hc3dnZgpcqPCmzLIuRV249jxVHzJ7vU2Zbwsj3blH2+FrrlXWoqnXjId+YbS2J//\n",
       "FGgv/QdvkN6SohczYwAAAABJRU5ErkJggg==\n",
       "\" style=\"display:inline;vertical-align:middle;\" /></a></td></tr>\n",
       "<tr><td>3</td><td>Operation</td><td>operator:&nbsp;9<br>operands:&nbsp;5<br></td><td><a class=\"ProveItLink\" href=\"../fdb678818f067e56c29f9af8339d8627fe758b490/expr.ipynb\"><img src=\"data:image/png;base64,iVBORw0KGgoAAAANSUhEUgAAAGcAAAAVBAMAAACphe0AAAAAMFBMVEX////c3NwiIiJERESqqqqY\n",
       "mJh2dnZmZmYQEBDu7u4yMjJUVFTMzMyIiIi6uroAAAAs73DqAAAAAXRSTlMAQObYZgAAAWNJREFU\n",
       "OMtjYCAL8F3AIxmHQ/w0Th2WDAzsB9DEeNKSHYDUSlx6Jv8EEgvQBMUZ+P4yMPBiuG4ihJq9G6Qp\n",
       "DCrIKQCh8x0YPjEwcExA1+QLpXlBmmZAOSxQs/3Bml4x4NXE7ICqiQHsvDIgdVnw7ja+uybYNLEV\n",
       "oGvi2sDAsBQowb2WYX4egz82TSwL0DQdWw0k+hgY3jEZMMy/gF0TXwO6TbxAHf8YGCbMf8DgP4Gh\n",
       "Cpsmng/omhj6J4A0gXQUMTC0gUSqVq3SWLVqNaom9lWrFnWtWgX0DIMMA4N9AEMLSCUDgzoD30dO\n",
       "ws7j/D8BpMmUAWQH5z8G7gWiWDSxogXELwYGfQGGdAYGxn8MrB8YuC4kEBHkVxn4vjEwPAI7gc2A\n",
       "gWXvARRN7BW/SoGx8gBVE0t5FTC6OQRwpQgwQE9GEMCagK7pLTInF3uuW4kvh3IuwC4ujU8TtwB2\n",
       "cUZ82f0OVlEA4S9ofe/OkdQAAAAASUVORK5CYII=\n",
       "\" style=\"display:inline;vertical-align:middle;\" /></a></td></tr>\n",
       "<tr><td>4</td><td>Operation</td><td>operator:&nbsp;9<br>operands:&nbsp;6<br></td><td><a class=\"ProveItLink\" href=\"../75ca9c5f89a96cd03f5db50c205c224c794986da0/expr.ipynb\"><img src=\"data:image/png;base64,iVBORw0KGgoAAAANSUhEUgAAAFkAAAAQBAMAAACPcs44AAAAMFBMVEX////MzMyYmJgQEBBmZmYi\n",
       "IiLu7u4yMjKqqqp2dnZUVFTc3NxERESIiIi6uroAAABe5jFNAAAAAXRSTlMAQObYZgAAAPFJREFU\n",
       "KM9jYMABjqHxGWfOacClliHnG5rAFga+vxiqsiFU1iqYarYNEHp+A8NXDNW9UJoXpprjAoTuJ0k1\n",
       "A9glfHd2313Jd/cEYdXsCxgYOLlqGfLnMfQTVC1ZBSTesR5gyL9AhGoGXjsGhoT8Bwz9CQzuhFUz\n",
       "2CcwgJS6MjBYgrju5eXB5eVVCNUs5eWl5uXlQAczbGRgOK/AADI1hIHvNxt+s9n+J4BVWzKw/WPg\n",
       "KthEwCXfGRjiNzBw/2Ng+sDAfmECAdWXGPh+AsPbgIHzAAPHWgEU1SzO351QVXO4uDfgjEs4QAoT\n",
       "TPAWXYAPWTUAfZxT8N0617cAAAAASUVORK5CYII=\n",
       "\" style=\"display:inline;vertical-align:middle;\" /></a></td></tr>\n",
       "<tr><td>5</td><td>ExprTuple</td><td>7, 8</td><td><a class=\"ProveItLink\" href=\"../5ea950ce3098dc5123e88df222ad042ca8ca53ee0/expr.ipynb\"><img src=\"data:image/png;base64,iVBORw0KGgoAAAANSUhEUgAAAFUAAAAVBAMAAADFg78FAAAAMFBMVEX////c3NwiIiJERESqqqqY\n",
       "mJh2dnZmZmYQEBDu7u4yMjJUVFTMzMyIiIi6uroAAAAs73DqAAAAAXRSTlMAQObYZgAAAVBJREFU\n",
       "KM+V0ztLw1AUwPF/bVN7+wh1EAfddbODzs0XkHZylIKgkw8cLGRyEEcbN7dmETFFcOoiYicXl4C4\n",
       "WSyOglIdHASr98ZY7CO1Zjg5yf1xObnnBP5z6e5QbEmF68DlsPV9T64sG4zWZHYSREXWtxPoH2BD\n",
       "qqeEA5+eX/p2w+AVFiFmdduFn+TeX8p59hAe+dPi1RA22JbZzVi9qtfngm38DKKbHMmYOKW8Ti7Q\n",
       "XlVkiNjsw/NIhrI7wJKSSt+hBVa5Qc7CDLaULJJNZRXcgj310nScGcepdNgpyOaV3VUAptFfRP99\n",
       "xaelrKxhHrWjaJGwx/tYxd9hNo1mswqhFlqTuFvotUI2gVv0N+/MHrwvjGaIXNQ6bbF0nBeltDyt\n",
       "omnIM24QSwf2zetYe1n2WCt026ffD1o7Wxs0k51WyJlkcqBtT2xCFRMa7h+6gy+PaWCd6nGFEQAA\n",
       "AABJRU5ErkJggg==\n",
       "\" style=\"display:inline;vertical-align:middle;\" /></a></td></tr>\n",
       "<tr><td>6</td><td>ExprTuple</td><td>11, 12, 8</td><td><a class=\"ProveItLink\" href=\"../3f8909016f21edfca94467dd11fc64e400d897270/expr.ipynb\"><img src=\"data:image/png;base64,iVBORw0KGgoAAAANSUhEUgAAAEUAAAAVBAMAAADiLT7tAAAAMFBMVEX////c3NwiIiJERESqqqqY\n",
       "mJh2dnZmZmYQEBDu7u4yMjJUVFTMzMyIiIi6uroAAAAs73DqAAAAAXRSTlMAQObYZgAAAUpJREFU\n",
       "KM+Nkj1Lw1AUhp9q0zZtE+IgDjq4OdpBByfzD9rJUQqCTn4g+EEnB3G0AZeCQ7I4iAidXETo5OIS\n",
       "EDcL1dFB2g6CBav3hibEpBbvcO57z30453688J+huyO3V2V4iKWXBnN+fc0k3RDqMoqcfQ7EFPoX\n",
       "OKBFW53f+sy2SRdWIGNF62g+U/SYGrzxJ4PXa9xkX6jHieaN3lyIM9k6pHa4EDF3jb1FMcbcX4mQ\n",
       "dDiF97ECtjuEQRO7+hF9sOwWRYtKnKFqkW9LRgK7cBJlZmC5JJljsRAV5tA76m9G/bYkI3otIiuo\n",
       "fXLOJJbPeHgP5g0Uhw1I9FHaZN2y2vUZe1aIJ/QP7+6v3slTBZJ3DbVqQPqwt0etI299UDHFG7XI\n",
       "GGGfBIuXICf+QimHGCVQpUBtRrwxhFGFN5gOMYFPtCCVk+0To736DD8w31gne0+0GAAAAABJRU5E\n",
       "rkJggg==\n",
       "\" style=\"display:inline;vertical-align:middle;\" /></a></td></tr>\n",
       "<tr><td>7</td><td>Operation</td><td>operator:&nbsp;9<br>operands:&nbsp;10<br></td><td><a class=\"ProveItLink\" href=\"../dc4fc328db6d0934b41f349bcbfcc1c9152c05f30/expr.ipynb\"><img src=\"data:image/png;base64,iVBORw0KGgoAAAANSUhEUgAAADQAAAAQBAMAAACra0H4AAAAMFBMVEX////MzMyYmJgQEBBmZmYi\n",
       "IiLu7u4yMjKqqqp2dnZUVFTc3NxERESIiIi6uroAAABe5jFNAAAAAXRSTlMAQObYZgAAAI5JREFU\n",
       "GNNjYMABjuGSYMj5hiGUDaGyVmFK9UJpXvxSfHd2313Jd/cEFilOrlqG/HkM/Vik3rEeYMi/gFUq\n",
       "If8BQ38Cgzs2ZwDFXRkYLEF89/Ly4PLyKrgUUH0IA99vNiy6LBnY/jFwFWzClOL+x8D0gYH9wgQs\n",
       "/jJg4DzAwLFWAEWKxfm7E67QwALeIpgAMDkyRlRPFPwAAAAASUVORK5CYII=\n",
       "\" style=\"display:inline;vertical-align:middle;\" /></a></td></tr>\n",
       "<tr><td>8</td><td>Literal</td><td></td><td><a class=\"ProveItLink\" href=\"../../../number/numeral/__pv_it/9176d93c83afa2c995b614976e3cb49207102fa70/expr.ipynb\"><img src=\"data:image/png;base64,iVBORw0KGgoAAAANSUhEUgAAAAoAAAAOBAMAAADkjZCYAAAAMFBMVEX///+YmJju7u4QEBBUVFQy\n",
       "MjIiIiKIiIi6urpmZmbc3NyqqqpERER2dnbMzMwAAAB0GlNiAAAAAXRSTlMAQObYZgAAAE1JREFU\n",
       "CNdjYHh79zQDA9cEhv4CBt7fDPwJDNxgEgiAIkAQAsR8Vx1ATIbiBhDJ/ImB6wEDz0cG/U8gkj+A\n",
       "ge0XA7sAQ/8FBoadM6MZAEflFACalZ/OAAAAAElFTkSuQmCC\n",
       "\" style=\"display:inline;vertical-align:middle;\" /></a></td></tr>\n",
       "<tr><td>9</td><td>Literal</td><td></td><td><a class=\"ProveItLink\" href=\"../../../number/addition/__pv_it/3e6688136fa3c7aefbebe51301b7c3ebf0b69c440/expr.ipynb\"><img src=\"data:image/png;base64,iVBORw0KGgoAAAANSUhEUgAAAA4AAAAOBAMAAADtZjDiAAAAJFBMVEX///+6urpUVFQQEBAiIiIy\n",
       "MjJmZmaIiIiqqqrc3Nzu7u4AAACgHpL+AAAAAXRSTlMAQObYZgAAAB5JREFUCNdjYGBgWMkAAe2k\n",
       "0Kmhoc6hoUGk6BMHYgAHOwjcado9fwAAAABJRU5ErkJggg==\n",
       "\" style=\"display:inline;vertical-align:middle;\" /></a></td></tr>\n",
       "<tr><td>10</td><td>ExprTuple</td><td>11, 12</td><td><a class=\"ProveItLink\" href=\"../05f49c26d95b23418b343f7f79274c4507cae0e60/expr.ipynb\"><img src=\"data:image/png;base64,iVBORw0KGgoAAAANSUhEUgAAADEAAAAVBAMAAAAdjxsPAAAAMFBMVEX////c3NwiIiJERESqqqqY\n",
       "mJh2dnZmZmYQEBDu7u4yMjJUVFTMzMyIiIi6uroAAAAs73DqAAAAAXRSTlMAQObYZgAAAPdJREFU\n",
       "KM9jYMAN+C5gEYwDEacxhC0ZGNgPAOmV6BKTfwKJBQwMvOiGzd4NkgljYOCYgK6HFyQzg4HhFQNW\n",
       "GWYHhjKg6y4L3t3Gd9cEWYatgGEpkOReyzA/j8EfWYZlAUMfA8M7JgOG+RdQZfgaGP4xMEyY/4DB\n",
       "fwJDFbIMzweQDEi4iIGhDU2mBUgBVasz8H3kRDXNlAGkmvMfA/cCUYYJcBnWBQzpDAyM/xhYPzBw\n",
       "XUjg/ITs6kdgnWwGDCx7D3D2CwADs+JXKQMD1wMGDgHkGIFzgKHDmoAkwwpn5aLFAlyGExgLDNJI\n",
       "MvAY4QYZy4gttu8wMAAA6lFC5ju7q+4AAAAASUVORK5CYII=\n",
       "\" style=\"display:inline;vertical-align:middle;\" /></a></td></tr>\n",
       "<tr><td>11</td><td>Variable</td><td></td><td><a class=\"ProveItLink\" href=\"../../../__pv_it/78af03acba5349fd70398a32ce59bae1da52f0870/expr.ipynb\"><img src=\"data:image/png;base64,iVBORw0KGgoAAAANSUhEUgAAABIAAAAJBAMAAADN8WE8AAAAMFBMVEX////MzMyYmJgQEBBmZmYi\n",
       "IiLu7u4yMjKqqqp2dnZUVFTc3NxERESIiIi6uroAAABe5jFNAAAAAXRSTlMAQObYZgAAAFtJREFU\n",
       "CNdj4Luz++5KvrsnGBg4uWoZ8ucx9DMwvGM9wJB/AcRKyH/A0J/A4M7AAKJcGRgsgSwgL4SB7zcb\n",
       "iMf2j4GrYBMD9z8Gpg8M7BcmMPAZMHAeYOBYKwAAtXMYHwtZnY0AAAAASUVORK5CYII=\n",
       "\" style=\"display:inline;vertical-align:middle;\" /></a></td></tr>\n",
       "<tr><td>12</td><td>Literal</td><td></td><td><a class=\"ProveItLink\" href=\"../../../number/numeral/__pv_it/9be8badea4c35b9724062cecc501d17a3158d1d20/expr.ipynb\"><img src=\"data:image/png;base64,iVBORw0KGgoAAAANSUhEUgAAAAgAAAAPBAMAAAArJJMAAAAAHlBMVEX///+YmJgyMjIQEBBmZmaI\n",
       "iIhUVFTu7u5EREQAAAAw+MI4AAAAAXRSTlMAQObYZgAAACFJREFUCNdjYGBoZ2BgqJjOwFCWBiQY\n",
       "WEklWJwnOTKAAACjEQo8HvEr3AAAAABJRU5ErkJggg==\n",
       "\" style=\"display:inline;vertical-align:middle;\" /></a></td></tr>\n",
       "</table>\n"
      ],
      "text/plain": [
       "0. ((m + 1) + 3) = (m + 1 + 3)\n",
       "   core type: Operation\n",
       "   operator: 1\n",
       "   operands: 2\n",
       "1. =\n",
       "   core type: Literal\n",
       "   sub-expressions: \n",
       "2. ((m + 1) + 3 , m + 1 + 3)\n",
       "   core type: ExprTuple\n",
       "   sub-expressions: 3, 4\n",
       "3. (m + 1) + 3\n",
       "   core type: Operation\n",
       "   operator: 9\n",
       "   operands: 5\n",
       "4. m + 1 + 3\n",
       "   core type: Operation\n",
       "   operator: 9\n",
       "   operands: 6\n",
       "5. (m + 1 , 3)\n",
       "   core type: ExprTuple\n",
       "   sub-expressions: 7, 8\n",
       "6. (m , 1 , 3)\n",
       "   core type: ExprTuple\n",
       "   sub-expressions: 11, 12, 8\n",
       "7. m + 1\n",
       "   core type: Operation\n",
       "   operator: 9\n",
       "   operands: 10\n",
       "8. 3\n",
       "   core type: Literal\n",
       "   sub-expressions: \n",
       "9. +\n",
       "   core type: Literal\n",
       "   sub-expressions: \n",
       "10. (m , 1)\n",
       "    core type: ExprTuple\n",
       "    sub-expressions: 11, 12\n",
       "11. m\n",
       "    core type: Variable\n",
       "    sub-expressions: \n",
       "12. 1\n",
       "    core type: Literal\n",
       "    sub-expressions: "
      ]
     },
     "execution_count": 4,
     "metadata": {},
     "output_type": "execute_result"
    }
   ],
   "source": [
    "# display the expression information\n",
    "expr.exprInfo()"
   ]
  },
  {
   "cell_type": "code",
   "execution_count": null,
   "metadata": {},
   "outputs": [],
   "source": []
  }
 ],
 "metadata": {
  "kernelspec": {
   "display_name": "Python 3",
   "language": "python",
   "name": "python3"
  }
 },
 "nbformat": 4,
 "nbformat_minor": 0
}
