{
 "cells": [
  {
   "cell_type": "markdown",
   "metadata": {},
   "source": [
    "Show the Proof\n",
    "========"
   ]
  },
  {
   "cell_type": "code",
   "execution_count": 1,
   "metadata": {},
   "outputs": [
    {
     "data": {
      "text/html": [
       "<table><tr><th>&nbsp;</th><th>step type</th><th>requirements</th><th>statement</th></tr>\n",
       "<tr><td>0</td><td>specialization</td><td>1, 2</td><td><span style=\"font-size:20px;\"> <a class=\"ProveItLink\" href=\"proof.ipynb\" style=\"text-decoration: none\">&#x22A2;&nbsp;</a><a class=\"ProveItLink\" href=\"../3709cec44541e56f6dce6abf87760adf6890d48b0/expr.ipynb\"><img src=\"data:image/png;base64,iVBORw0KGgoAAAANSUhEUgAAADEAAAARBAMAAACGHlkZAAAAMFBMVEX///+YmJju7u4QEBBUVFQy\n",
       "MjIiIiKIiIi6urpmZmbc3NyqqqpERER2dnbMzMwAAAB0GlNiAAAAAXRSTlMAQObYZgAAAMlJREFU\n",
       "GNNjYHh79zQDGmCaXvmAgYFrAkN/AYirdgkuw9bAlMfAwPubgT8BzN86CyZTxsBQysDADZdh6PGD\n",
       "yqQwMPQvADEgpgHBmxMQ+icDw/sNIEYI3IIlESCS6y9QBqia76oDwlUr82AyF0Dc4ga4jNgkFBnm\n",
       "TzB/lF1CMo3rAQPPR6jEtQKECwQY9D/BZLimCSBcvX8BA38AA9svsITrBiSfXmNgYBdg6Afbtgbh\n",
       "DrYNTHZAaufMaIwQnVvygIEysCwNBDLgfABTdj5PUSXLGwAAAABJRU5ErkJggg==\n",
       "\" style=\"display:inline;vertical-align:middle;\" /></a></span></td></tr>\n",
       "<tr><td>&nbsp;</td><td colspan=4 style=\"text-align:left\"><span style=\"font-size:20px;\"><a class=\"ProveItLink\" href=\"../../../__pv_it/39dbcd3ca0390345b51c6ef7785756419e2c14390/expr.ipynb\"><img src=\"data:image/png;base64,iVBORw0KGgoAAAANSUhEUgAAAAwAAAAJBAMAAAD0ltBnAAAAMFBMVEX///8QEBCYmJhmZmaqqqoi\n",
       "IiLMzMzu7u4yMjJ2dnZUVFTc3NxERESIiIi6uroAAABbPXqjAAAAAXRSTlMAQObYZgAAAERJREFU\n",
       "CNdj4Luz++5KBgZOrl6G+gSGd6wHGOofMBQAsX8BAwivYGBgsGBg+MTOwCDJwPSdk4H7HwPnATcG\n",
       "PgEG7rMOAGtQEUwHZIDZAAAAAElFTkSuQmCC\n",
       "\" style=\"display:inline;vertical-align:middle;\" /></a> : <a class=\"ProveItLink\" href=\"../../../number/numeral/__pv_it/9176d93c83afa2c995b614976e3cb49207102fa70/expr.ipynb\"><img src=\"data:image/png;base64,iVBORw0KGgoAAAANSUhEUgAAAAoAAAAOBAMAAADkjZCYAAAAMFBMVEX///+YmJju7u4QEBBUVFQy\n",
       "MjIiIiKIiIi6urpmZmbc3NyqqqpERER2dnbMzMwAAAB0GlNiAAAAAXRSTlMAQObYZgAAAE1JREFU\n",
       "CNdjYHh79zQDA9cEhv4CBt7fDPwJDNxgEgiAIkAQAsR8Vx1ATIbiBhDJ/ImB6wEDz0cG/U8gkj+A\n",
       "ge0XA7sAQ/8FBoadM6MZAEflFACalZ/OAAAAAElFTkSuQmCC\n",
       "\" style=\"display:inline;vertical-align:middle;\" /></a></span></td></tr><tr><td>1</td><td>theorem</td><td></td><td><span style=\"font-size:20px;\"> <a class=\"ProveItLink\" href=\"../../../number/sets/integer/_proofs_/naturalsLowerBound.ipynb\" style=\"text-decoration: none\">&#x22A2;&nbsp;</a><a class=\"ProveItLink\" href=\"../54f38846963929be5a528ea6b2013660e084499a0/expr.ipynb\"><img src=\"data:image/png;base64,iVBORw0KGgoAAAANSUhEUgAAAHcAAAAVBAMAAACOK2zoAAAAMFBMVEX///8QEBC6urrMzMxUVFRm\n",
       "ZmZERETc3NwyMjKqqqp2dnaIiIiYmJgiIiLu7u4AAAAU9Wx4AAAAAXRSTlMAQObYZgAAAg9JREFU\n",
       "OMullD1IHEEUx/+3e+d6pzcXuMIurChpLLwiWGiRIxYRbESQgEYRi7vC5go/ivPjELQMBxJI5xZi\n",
       "CEE5iQFDEJYcWpxKQhQLQTgbGz8QxRQW4pvdndtVbs7Cgd19b9785r15780CzxnFitYmuek3PX+5\n",
       "sC1ZoMbLTrO+HzEEYsBXrn2UwNWeuM5XSmJYZ3tABhgjRRuUwL+8yuf3QtoA1oGCvXkgK4FfPtBe\n",
       "tTvCPtCcwjFQ+2V8fFLCKpmHesuQ/b0B3mRRRS7/JxKHEjhgUL6T6TVDTIzM8Ld2S3AOoS6AYknK\n",
       "8mUCRkeOXZdmRvcEbCBIcTWCeaNTZ7uxOmDLPh2KfgB2VbLuDriw8oLyjhpT2E57PmArVAw5FYro\n",
       "YEQG70R9N1Y8YauXIDQsqlkzNHWBnVyXB+ak34mMLefchJkWzDKvKed9TYvAJrfk59MC9lE+AxlE\n",
       "TEvX+k23VAspK2wk3wJnzWY4BstDPnTW6sBVtNpn4E+Rp1vryHqaZJkc8uWfqL2n1hFJqVZJ8jAW\n",
       "HZgXY1rHUpDaGGO6255ZFrWt8PGTdKIe6kEiMUzwxLkDK7RtPWE/H1+M3jXarprvVsuXRtGjsLjt\n",
       "WWkTGayrdF2PhaBdItqAdzaMgoALleBvpS4eRK+JEwpEmdPhL3clJ4/4+OfG/qjxsURn9g4tLnfs\n",
       "Tz31k0rLTd+Be6fUjPtjtxU8AAAAAElFTkSuQmCC\n",
       "\" style=\"display:inline;vertical-align:middle;\" /></a></span></td></tr>\n",
       "<tr><td>&nbsp;</td><td colspan=4 style-\"text-align:left\"><a class=\"ProveItLink\" href=\"../../../number/sets/integer/_proofs_/naturalsLowerBound.ipynb\">proveit.number.sets.integer.naturalsLowerBound</a></td></tr><tr><td>2</td><td>theorem</td><td></td><td><span style=\"font-size:20px;\"> <a class=\"ProveItLink\" href=\"../../../number/numeral/deci/_proofs_/nat3.ipynb\" style=\"text-decoration: none\">&#x22A2;&nbsp;</a><a class=\"ProveItLink\" href=\"../f0e602e1bef1c73ebe83a9d751d7872acb80fd450/expr.ipynb\"><img src=\"data:image/png;base64,iVBORw0KGgoAAAANSUhEUgAAADMAAAAPBAMAAAC7N+rPAAAAMFBMVEX///+YmJju7u4QEBBUVFQy\n",
       "MjIiIiKIiIi6urpmZmbc3NyqqqpERER2dnbMzMwAAAB0GlNiAAAAAXRSTlMAQObYZgAAAOJJREFU\n",
       "GNNjYHh79zQDClD9c1SBYdq3DQxcExj6C1DlDvIdYGD4wMDA+5uBPwFVyu1BOQODAQMDN1xKPSwt\n",
       "FczwCGJ5AJICAoiBfIEKUF1+T5iCoFIhYHINTIbBj7vgDViK76oDWOAU3C4/hhmMBRBdxQ1AgukA\n",
       "khSLgh9EivkTkOAwS0uDOsOPgclBFSjF9YCB5yPIXAckXQxv+YBS+p8gUkwJyFKMG4Dm8wcwsP0C\n",
       "CTgiSzHcAkqxCzD0XwAJqDXApE4AMWcAkNg5MxoswBX5ACLT+hmogykAOei4XaEuhAIAcaI359oR\n",
       "WgoAAAAASUVORK5CYII=\n",
       "\" style=\"display:inline;vertical-align:middle;\" /></a></span></td></tr>\n",
       "<tr><td>&nbsp;</td><td colspan=4 style-\"text-align:left\"><a class=\"ProveItLink\" href=\"../../../number/numeral/deci/_proofs_/nat3.ipynb\">proveit.number.numeral.deci.nat3</a></td></tr></table>"
      ],
      "text/plain": [
       "<proveit._core_.proof._ShowProof at 0x7fe03f84eb70>"
      ]
     },
     "execution_count": 1,
     "metadata": {},
     "output_type": "execute_result"
    }
   ],
   "source": [
    "import proveit\n",
    "%show_proof"
   ]
  },
  {
   "cell_type": "code",
   "execution_count": null,
   "metadata": {},
   "outputs": [],
   "source": []
  }
 ],
 "metadata": {
  "kernelspec": {
   "display_name": "Python 3",
   "language": "python",
   "name": "python3"
  }
 },
 "nbformat": 4,
 "nbformat_minor": 0
}
