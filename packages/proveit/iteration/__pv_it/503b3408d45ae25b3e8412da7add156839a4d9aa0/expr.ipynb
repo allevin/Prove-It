{
 "cells": [
  {
   "cell_type": "markdown",
   "metadata": {},
   "source": [
    "Expression of type <a class=\"ProveItLink\" href=\"../../../../../doc/html/api/proveit.logic.InSet.html\">InSet</a>\n",
    "=======================\n",
    "# from context <a class=\"ProveItLink\" href=\"../../_context_.ipynb\">proveit.iteration</a>"
   ]
  },
  {
   "cell_type": "code",
   "execution_count": 1,
   "metadata": {},
   "outputs": [],
   "source": [
    "# import Expression classes needed to build the expression\n",
    "from proveit._common_ import m\n",
    "from proveit.logic import InSet\n",
    "from proveit.number import Add, Reals, one"
   ]
  },
  {
   "cell_type": "code",
   "execution_count": 2,
   "metadata": {},
   "outputs": [
    {
     "data": {
      "text/html": [
       "<strong id=\"expr\">expr:</strong> <a class=\"ProveItLink\" href=\"expr.ipynb\"><img src=\"data:image/png;base64,iVBORw0KGgoAAAANSUhEUgAAAG0AAAAVBAMAAAC+p33JAAAAMFBMVEX////c3NwiIiJERESqqqqY\n",
       "mJh2dnZmZmYQEBDu7u4yMjJUVFTMzMyIiIi6uroAAAAs73DqAAAAAXRSTlMAQObYZgAAAYRJREFU\n",
       "OMtjYCAX8F3AI8n6AKfUaZwyzBMYGGrQxKI+26/qAtu0Epc2TnugPi50UQNphsNeAgwMvBjOnAjV\n",
       "tns/UB9rAro+cQbmiQYMDBwT0PX5whj3gVKcDRD23EVKWjB9bAeA+l4x4NXHYAJm8iydgLAPrK8M\n",
       "yH5rKHs74e1lB2z60sFM4QlI7uQGuXMpkJ2w6wLntwcsH7Dp8wIzDZH99ygKGC59wBh8oMzA+ZcB\n",
       "u74X4DAyQOiTUNICOewfUJTzHwPLTwb2Bdj0nQenjSYlJXi4PAfFK0gfWJMCAwcoyKtWrdJYtWo1\n",
       "mj6eDUjuZH8D4rUAMdAmpgKG9wITcLpTAdl/K68CaVMgBto0/wHDLsYALPqiwMytyPpOcx+AhLP8\n",
       "A4Z4Boa1bLjjYdIDJH1sDsDgfQRxSzIDg/cdVH3l/cuBDlgHZjMuPwBP1zYMi9c7MHAI4EwvYJ9B\n",
       "0xnLLmh4wnMYesJleIvMYcOZO1fizdWzcMpI49W3EacMI75ygvcADgkANfNw/rsChNkAAAAASUVO\n",
       "RK5CYII=\n",
       "\" style=\"display:inline;vertical-align:middle;\" /></a><br>"
      ],
      "text/plain": [
       "expr: (m + 1) in Reals"
      ]
     },
     "execution_count": 2,
     "metadata": {},
     "output_type": "execute_result"
    }
   ],
   "source": [
    "# build up the expression from sub-expressions\n",
    "expr = InSet(Add(m, one), Reals)"
   ]
  },
  {
   "cell_type": "code",
   "execution_count": 3,
   "metadata": {},
   "outputs": [
    {
     "name": "stdout",
     "output_type": "stream",
     "text": [
      "Passed sanity check: built 'expr' is the same as the stored Expression.\n"
     ]
    }
   ],
   "source": [
    "# check that the built expression is the same as the stored expression\n",
    "%check_expr"
   ]
  },
  {
   "cell_type": "code",
   "execution_count": 4,
   "metadata": {},
   "outputs": [
    {
     "data": {
      "text/html": [
       "<table><tr><th>&nbsp;</th><th>core type</th><th>sub-expressions</th><th>expression</th></tr>\n",
       "<tr><td>0</td><td>Operation</td><td>operator:&nbsp;1<br>operands:&nbsp;2<br></td><td><a class=\"ProveItLink\" href=\"expr.ipynb\"><img src=\"data:image/png;base64,iVBORw0KGgoAAAANSUhEUgAAAG0AAAAVBAMAAAC+p33JAAAAMFBMVEX////c3NwiIiJERESqqqqY\n",
       "mJh2dnZmZmYQEBDu7u4yMjJUVFTMzMyIiIi6uroAAAAs73DqAAAAAXRSTlMAQObYZgAAAYRJREFU\n",
       "OMtjYCAX8F3AI8n6AKfUaZwyzBMYGGrQxKI+26/qAtu0Epc2TnugPi50UQNphsNeAgwMvBjOnAjV\n",
       "tns/UB9rAro+cQbmiQYMDBwT0PX5whj3gVKcDRD23EVKWjB9bAeA+l4x4NXHYAJm8iydgLAPrK8M\n",
       "yH5rKHs74e1lB2z60sFM4QlI7uQGuXMpkJ2w6wLntwcsH7Dp8wIzDZH99ygKGC59wBh8oMzA+ZcB\n",
       "u74X4DAyQOiTUNICOewfUJTzHwPLTwb2Bdj0nQenjSYlJXi4PAfFK0gfWJMCAwcoyKtWrdJYtWo1\n",
       "mj6eDUjuZH8D4rUAMdAmpgKG9wITcLpTAdl/K68CaVMgBto0/wHDLsYALPqiwMytyPpOcx+AhLP8\n",
       "A4Z4Boa1bLjjYdIDJH1sDsDgfQRxSzIDg/cdVH3l/cuBDlgHZjMuPwBP1zYMi9c7MHAI4EwvYJ9B\n",
       "0xnLLmh4wnMYesJleIvMYcOZO1fizdWzcMpI49W3EacMI75ygvcADgkANfNw/rsChNkAAAAASUVO\n",
       "RK5CYII=\n",
       "\" style=\"display:inline;vertical-align:middle;\" /></a></td></tr>\n",
       "<tr><td>1</td><td>Literal</td><td></td><td><a class=\"ProveItLink\" href=\"../../../logic/set_theory/membership/__pv_it/088cbc857536a28d4119ad9639a84270ccb0545d0/expr.ipynb\"><img src=\"data:image/png;base64,iVBORw0KGgoAAAANSUhEUgAAAAwAAAAMBAMAAACkW0HUAAAALVBMVEX///+qqqpmZmZUVFQQEBC6\n",
       "urpERETc3NyYmJjMzMwiIiIyMjKIiIju7u4AAACYsrA9AAAAAXRSTlMAQObYZgAAADxJREFUCNdj\n",
       "YOA9vWrVBgaG2b0MQMCeCyIZ2ArA1DUwyRCyahVIyWQI7xaEYm4AU7xLIdxqTQgtvGvVBgCkcQ7e\n",
       "geM/tQAAAABJRU5ErkJggg==\n",
       "\" style=\"display:inline;vertical-align:middle;\" /></a></td></tr>\n",
       "<tr><td>2</td><td>ExprTuple</td><td>3, 4</td><td><a class=\"ProveItLink\" href=\"../807100de8568c4a61dd25bb15e82c07f5520ceee0/expr.ipynb\"><img src=\"data:image/png;base64,iVBORw0KGgoAAAANSUhEUgAAAFoAAAAVBAMAAAA0iOSIAAAAMFBMVEX////c3NwiIiJERESqqqqY\n",
       "mJh2dnZmZmYQEBDu7u4yMjJUVFTMzMyIiIi6uroAAAAs73DqAAAAAXRSTlMAQObYZgAAAVdJREFU\n",
       "KM9jYCAN8F0gUiHrAyBxGqe0JVTVeuNfK9YCGTVAvBKX4sk/oQxmxg08JgsZGLgYGHjRHcIpAKFn\n",
       "70aoLmCwFAZaksDAMQFNNQtMOy+y6hxmoDkNDK8YiFbNYMJQBgyVy4J3t/HdNcGneifQJQzpDEsZ\n",
       "GNi41zLMz2Pwx6OaTxXoSwYvhj4GhndMBgzzL+BT3aS0BMR4wfCPgWHC/AcM/hMYqnCrrisAh/15\n",
       "kGqQ0iIGhjYgi33VqkVdq1ZtQHdJ3WmI6hYgCTRVnYHvIydud3PNDQC7xJQBZCrnPwbuBaKYqjmh\n",
       "qnk27AEyooChwsD4j4H1AwPXhQRM1fMVoCGYwiwACsFHwPBuYGAzYGDZewBFNXvFr1KGGR/Bqerz\n",
       "AS6rLwwM6xg4BHDFJRg8RE5BDaCkgi+9ByCx2S7gSbEYqmcBsTQ+xbzInI1AzEhsTuM9wAAAXAVo\n",
       "HX943LcAAAAASUVORK5CYII=\n",
       "\" style=\"display:inline;vertical-align:middle;\" /></a></td></tr>\n",
       "<tr><td>3</td><td>Operation</td><td>operator:&nbsp;5<br>operands:&nbsp;6<br></td><td><a class=\"ProveItLink\" href=\"../dc4fc328db6d0934b41f349bcbfcc1c9152c05f30/expr.ipynb\"><img src=\"data:image/png;base64,iVBORw0KGgoAAAANSUhEUgAAADQAAAAQBAMAAACra0H4AAAAMFBMVEX////MzMyYmJgQEBBmZmYi\n",
       "IiLu7u4yMjKqqqp2dnZUVFTc3NxERESIiIi6uroAAABe5jFNAAAAAXRSTlMAQObYZgAAAI5JREFU\n",
       "GNNjYMABjuGSYMj5hiGUDaGyVmFK9UJpXvxSfHd2313Jd/cEFilOrlqG/HkM/Vik3rEeYMi/gFUq\n",
       "If8BQ38Cgzs2ZwDFXRkYLEF89/Ly4PLyKrgUUH0IA99vNiy6LBnY/jFwFWzClOL+x8D0gYH9wgQs\n",
       "/jJg4DzAwLFWAEWKxfm7E67QwALeIpgAMDkyRlRPFPwAAAAASUVORK5CYII=\n",
       "\" style=\"display:inline;vertical-align:middle;\" /></a></td></tr>\n",
       "<tr><td>4</td><td>Literal</td><td></td><td><a class=\"ProveItLink\" href=\"../../../number/sets/real/__pv_it/9e7645ee1117062e179dd6264898f99ed95b157c0/expr.ipynb\"><img src=\"data:image/png;base64,iVBORw0KGgoAAAANSUhEUgAAAA8AAAAOBAMAAAACpFvcAAAAMFBMVEX///8iIiK6urp2dnbu7u5m\n",
       "ZmaqqqrMzMxUVFTc3NyIiIgQEBBEREQyMjKYmJgAAAA9nvXMAAAAAXRSTlMAQObYZgAAAFJJREFU\n",
       "CNdjePvn/N29CxiA4MAMhprcCSDGVAYezwMQBnMBOoMDJqX4Fqx4tqBsAlj7VFUeBwiDVb0BwmC4\n",
       "sg7KqOAogJqTcJKBAWjpcYY79xMAyqEnfsw4ApEAAAAASUVORK5CYII=\n",
       "\" style=\"display:inline;vertical-align:middle;\" /></a></td></tr>\n",
       "<tr><td>5</td><td>Literal</td><td></td><td><a class=\"ProveItLink\" href=\"../../../number/addition/__pv_it/3e6688136fa3c7aefbebe51301b7c3ebf0b69c440/expr.ipynb\"><img src=\"data:image/png;base64,iVBORw0KGgoAAAANSUhEUgAAAA4AAAAOBAMAAADtZjDiAAAAJFBMVEX///+6urpUVFQQEBAiIiIy\n",
       "MjJmZmaIiIiqqqrc3Nzu7u4AAACgHpL+AAAAAXRSTlMAQObYZgAAAB5JREFUCNdjYGBgWMkAAe2k\n",
       "0Kmhoc6hoUGk6BMHYgAHOwjcado9fwAAAABJRU5ErkJggg==\n",
       "\" style=\"display:inline;vertical-align:middle;\" /></a></td></tr>\n",
       "<tr><td>6</td><td>ExprTuple</td><td>7, 8</td><td><a class=\"ProveItLink\" href=\"../05f49c26d95b23418b343f7f79274c4507cae0e60/expr.ipynb\"><img src=\"data:image/png;base64,iVBORw0KGgoAAAANSUhEUgAAADEAAAAVBAMAAAAdjxsPAAAAMFBMVEX////c3NwiIiJERESqqqqY\n",
       "mJh2dnZmZmYQEBDu7u4yMjJUVFTMzMyIiIi6uroAAAAs73DqAAAAAXRSTlMAQObYZgAAAPdJREFU\n",
       "KM9jYMAN+C5gEYwDEacxhC0ZGNgPAOmV6BKTfwKJBQwMvOiGzd4NkgljYOCYgK6HFyQzg4HhFQNW\n",
       "GWYHhjKg6y4L3t3Gd9cEWYatgGEpkOReyzA/j8EfWYZlAUMfA8M7JgOG+RdQZfgaGP4xMEyY/4DB\n",
       "fwJDFbIMzweQDEi4iIGhDU2mBUgBVasz8H3kRDXNlAGkmvMfA/cCUYYJcBnWBQzpDAyM/xhYPzBw\n",
       "XUjg/ITs6kdgnWwGDCx7D3D2CwADs+JXKQMD1wMGDgHkGIFzgKHDmoAkwwpn5aLFAlyGExgLDNJI\n",
       "MvAY4QYZy4gttu8wMAAA6lFC5ju7q+4AAAAASUVORK5CYII=\n",
       "\" style=\"display:inline;vertical-align:middle;\" /></a></td></tr>\n",
       "<tr><td>7</td><td>Variable</td><td></td><td><a class=\"ProveItLink\" href=\"../../../__pv_it/78af03acba5349fd70398a32ce59bae1da52f0870/expr.ipynb\"><img src=\"data:image/png;base64,iVBORw0KGgoAAAANSUhEUgAAABIAAAAJBAMAAADN8WE8AAAAMFBMVEX////MzMyYmJgQEBBmZmYi\n",
       "IiLu7u4yMjKqqqp2dnZUVFTc3NxERESIiIi6uroAAABe5jFNAAAAAXRSTlMAQObYZgAAAFtJREFU\n",
       "CNdj4Luz++5KvrsnGBg4uWoZ8ucx9DMwvGM9wJB/AcRKyH/A0J/A4M7AAKJcGRgsgSwgL4SB7zcb\n",
       "iMf2j4GrYBMD9z8Gpg8M7BcmMPAZMHAeYOBYKwAAtXMYHwtZnY0AAAAASUVORK5CYII=\n",
       "\" style=\"display:inline;vertical-align:middle;\" /></a></td></tr>\n",
       "<tr><td>8</td><td>Literal</td><td></td><td><a class=\"ProveItLink\" href=\"../../../number/numeral/__pv_it/9be8badea4c35b9724062cecc501d17a3158d1d20/expr.ipynb\"><img src=\"data:image/png;base64,iVBORw0KGgoAAAANSUhEUgAAAAgAAAAPBAMAAAArJJMAAAAAHlBMVEX///+YmJgyMjIQEBBmZmaI\n",
       "iIhUVFTu7u5EREQAAAAw+MI4AAAAAXRSTlMAQObYZgAAACFJREFUCNdjYGBoZ2BgqJjOwFCWBiQY\n",
       "WEklWJwnOTKAAACjEQo8HvEr3AAAAABJRU5ErkJggg==\n",
       "\" style=\"display:inline;vertical-align:middle;\" /></a></td></tr>\n",
       "</table>\n"
      ],
      "text/plain": [
       "0. (m + 1) in Reals\n",
       "   core type: Operation\n",
       "   operator: 1\n",
       "   operands: 2\n",
       "1. in\n",
       "   core type: Literal\n",
       "   sub-expressions: \n",
       "2. (m + 1 , Reals)\n",
       "   core type: ExprTuple\n",
       "   sub-expressions: 3, 4\n",
       "3. m + 1\n",
       "   core type: Operation\n",
       "   operator: 5\n",
       "   operands: 6\n",
       "4. Reals\n",
       "   core type: Literal\n",
       "   sub-expressions: \n",
       "5. +\n",
       "   core type: Literal\n",
       "   sub-expressions: \n",
       "6. (m , 1)\n",
       "   core type: ExprTuple\n",
       "   sub-expressions: 7, 8\n",
       "7. m\n",
       "   core type: Variable\n",
       "   sub-expressions: \n",
       "8. 1\n",
       "   core type: Literal\n",
       "   sub-expressions: "
      ]
     },
     "execution_count": 4,
     "metadata": {},
     "output_type": "execute_result"
    }
   ],
   "source": [
    "# display the expression information\n",
    "expr.exprInfo()"
   ]
  },
  {
   "cell_type": "code",
   "execution_count": null,
   "metadata": {},
   "outputs": [],
   "source": []
  }
 ],
 "metadata": {
  "kernelspec": {
   "display_name": "Python 3",
   "language": "python",
   "name": "python3"
  }
 },
 "nbformat": 4,
 "nbformat_minor": 0
}
