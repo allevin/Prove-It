{
 "cells": [
  {
   "cell_type": "markdown",
   "metadata": {},
   "source": [
    "Expression of type <a class=\"ProveItLink\" href=\"../../../../../doc/html/api/proveit.number.Add.html\">Add</a>\n",
    "=======================\n",
    "# from context <a class=\"ProveItLink\" href=\"../../_context_.ipynb\">proveit.iteration</a>"
   ]
  },
  {
   "cell_type": "code",
   "execution_count": 1,
   "metadata": {},
   "outputs": [],
   "source": [
    "# import Expression classes needed to build the expression\n",
    "from proveit import Variable\n",
    "from proveit._common_ import j, k\n",
    "from proveit.number import Add, Neg"
   ]
  },
  {
   "cell_type": "code",
   "execution_count": 2,
   "metadata": {},
   "outputs": [
    {
     "data": {
      "text/html": [
       "<strong id=\"expr\">expr:</strong> <a class=\"ProveItLink\" href=\"expr.ipynb\"><img src=\"data:image/png;base64,iVBORw0KGgoAAAANSUhEUgAAAGwAAAASBAMAAABMYCZPAAAAMFBMVEX///+YmJhUVFQyMjIQEBAi\n",
       "IiLMzMyIiIi6urrc3NxmZmZ2dnbu7u5ERESqqqoAAACio3w8AAAAAXRSTlMAQObYZgAAARFJREFU\n",
       "KM9jYCAADrliijH+ZCAIrLBoU8Cp+iSM8Y+BFPAcSnP8IUsbtwE+VadXM3D+waaNeQPj+gZUtcdr\n",
       "D8CYG/oZ2D9g03a+Z0//A1RtG1gFoCy2B0sZeC9g0/Y+Hd1h7Af4Ydp4GNwZ+AuwaVsfAaY4TUNB\n",
       "AORcTob+CTBVfH8Y8hPgehYbG4cYGxuBmOGHYjACYiucxWXAUIItJHm+MfzjxJ0CmBcwXMKmjfED\n",
       "zw9uNF08iBTApcDxEZs2pgsMP9nRtAE9xPD2LhAcYOC5XvUTxkbWxizAULUHTRtXABKHOwBrKsEC\n",
       "WBfAmaoMR1AjtR2XJo4J8xFBHs1wm8jEmr/gFpKbqhqI1HZ2FzCNAABXuVFfTSls+QAAAABJRU5E\n",
       "rkJggg==\n",
       "\" style=\"display:inline;vertical-align:middle;\" /></a><br>"
      ],
      "text/plain": [
       "expr: _y_ + k - j"
      ]
     },
     "execution_count": 2,
     "metadata": {},
     "output_type": "execute_result"
    }
   ],
   "source": [
    "# build up the expression from sub-expressions\n",
    "expr = Add(Variable(\"_y_\", latexFormat = r\"{_{-}y_{-}}\"), k, Neg(j)).withSubtractionAt(2,2)"
   ]
  },
  {
   "cell_type": "code",
   "execution_count": 3,
   "metadata": {},
   "outputs": [
    {
     "name": "stdout",
     "output_type": "stream",
     "text": [
      "Passed sanity check: built 'expr' is the same as the stored Expression.\n"
     ]
    }
   ],
   "source": [
    "# check that the built expression is the same as the stored expression\n",
    "%check_expr"
   ]
  },
  {
   "cell_type": "code",
   "execution_count": 4,
   "metadata": {},
   "outputs": [
    {
     "data": {
      "text/html": [
       "<table><tr><th>&nbsp;</th><th>core type</th><th>sub-expressions</th><th>expression</th></tr>\n",
       "<tr><td>0</td><td>Operation</td><td>operator:&nbsp;1<br>operands:&nbsp;2<br></td><td><a class=\"ProveItLink\" href=\"expr.ipynb\"><img src=\"data:image/png;base64,iVBORw0KGgoAAAANSUhEUgAAAGwAAAASBAMAAABMYCZPAAAAMFBMVEX///+YmJhUVFQyMjIQEBAi\n",
       "IiLMzMyIiIi6urrc3NxmZmZ2dnbu7u5ERESqqqoAAACio3w8AAAAAXRSTlMAQObYZgAAARFJREFU\n",
       "KM9jYCAADrliijH+ZCAIrLBoU8Cp+iSM8Y+BFPAcSnP8IUsbtwE+VadXM3D+waaNeQPj+gZUtcdr\n",
       "D8CYG/oZ2D9g03a+Z0//A1RtG1gFoCy2B0sZeC9g0/Y+Hd1h7Af4Ydp4GNwZ+AuwaVsfAaY4TUNB\n",
       "AORcTob+CTBVfH8Y8hPgehYbG4cYGxuBmOGHYjACYiucxWXAUIItJHm+MfzjxJ0CmBcwXMKmjfED\n",
       "zw9uNF08iBTApcDxEZs2pgsMP9nRtAE9xPD2LhAcYOC5XvUTxkbWxizAULUHTRtXABKHOwBrKsEC\n",
       "WBfAmaoMR1AjtR2XJo4J8xFBHs1wm8jEmr/gFpKbqhqI1HZ2FzCNAABXuVFfTSls+QAAAABJRU5E\n",
       "rkJggg==\n",
       "\" style=\"display:inline;vertical-align:middle;\" /></a></td></tr>\n",
       "<tr><td>1</td><td>Literal</td><td></td><td><a class=\"ProveItLink\" href=\"../../../number/addition/__pv_it/3e6688136fa3c7aefbebe51301b7c3ebf0b69c440/expr.ipynb\"><img src=\"data:image/png;base64,iVBORw0KGgoAAAANSUhEUgAAAA4AAAAOBAMAAADtZjDiAAAAJFBMVEX///+6urpUVFQQEBAiIiIy\n",
       "MjJmZmaIiIiqqqrc3Nzu7u4AAACgHpL+AAAAAXRSTlMAQObYZgAAAB5JREFUCNdjYGBgWMkAAe2k\n",
       "0Kmhoc6hoUGk6BMHYgAHOwjcado9fwAAAABJRU5ErkJggg==\n",
       "\" style=\"display:inline;vertical-align:middle;\" /></a></td></tr>\n",
       "<tr><td>2</td><td>ExprTuple</td><td>3, 4, 5</td><td><a class=\"ProveItLink\" href=\"../c1fc4a6d8183f372fe2dd55eaec1a4685ea7ce8f0/expr.ipynb\"><img src=\"data:image/png;base64,iVBORw0KGgoAAAANSUhEUgAAAGoAAAAVBAMAAABce2awAAAAMFBMVEX////c3NwiIiJERESqqqqY\n",
       "mJh2dnZmZmYQEBDu7u4yMjJUVFTMzMyIiIi6uroAAAAs73DqAAAAAXRSTlMAQObYZgAAAXhJREFU\n",
       "OMtjYCAP8F0gUQPrAyBxGqc05w4FTMF4AYYaILUSt6lcBZhi0UBhBgZePA7kd8DuxAQGjgm4db3H\n",
       "LsfZwPAKj7+zcIibMJQhjEhPYJBHMX0ZQ/g/NGvuWgLJdIalcBE2vg8M91GU/Js27wuqLjYGVSDp\n",
       "xdAHFznCrsBgjKyE5Q9GSN1k+AokXzAgnDCB4wLDX2Ql7J8eQFmMi5RA4AGDAN9HIPc8ki4G/wk8\n",
       "f5B1Md3chBGIbApgXS0IkSoG3gZkFfMP8DsIYIv4FwymCJHlDMwb4M4FJR6G+Q8SGDhRdM0HRXwU\n",
       "MBThoJrhfQAs+D4Bic0M/AIXGOajJEb/CeCQfwQMK2MgAMbD5Lv1AlA2Zz/QaUsZeMsmMMz4iKyr\n",
       "CESsY+BAdnkSIv8ghB8i61KHpChgUoQCbgVORNCwIhQGIJgPGUGBzHYBKacwJTAn4NfF850ZFISz\n",
       "gFganhTu1iGUIlIFL1ISMysFURtB8U5qCcB7gAEAcstXM0BCvKIAAAAASUVORK5CYII=\n",
       "\" style=\"display:inline;vertical-align:middle;\" /></a></td></tr>\n",
       "<tr><td>3</td><td>Variable</td><td></td><td><a class=\"ProveItLink\" href=\"../ca21bf52f8ec7f5496629bfb63241356f0872c150/expr.ipynb\"><img src=\"data:image/png;base64,iVBORw0KGgoAAAANSUhEUgAAACMAAAANBAMAAADRUcosAAAAMFBMVEX///+YmJhUVFQyMjIQEBAi\n",
       "IiLMzMyIiIi6urrc3NxmZmZ2dnbu7u5ERESqqqoAAACio3w8AAAAAXRSTlMAQObYZgAAAGhJREFU\n",
       "CNdjYICA06sZOP8woIAN/QzsH1BE2B4sZeC9gCLEw+DOwF+AqpHvD0N+AqoQlwFDCaoIA/MChkto\n",
       "QlwKHB9h7Ld3geAAA8/1qp8wNhxwB6BpVGU48gBNKJrhNpoIw/OqBhgTACmkHt67K+Q0AAAAAElF\n",
       "TkSuQmCC\n",
       "\" style=\"display:inline;vertical-align:middle;\" /></a></td></tr>\n",
       "<tr><td>4</td><td>Variable</td><td></td><td><a class=\"ProveItLink\" href=\"../../../__pv_it/1a7356cf6caf039e07a5436d90e972cbb5e92b0a0/expr.ipynb\"><img src=\"data:image/png;base64,iVBORw0KGgoAAAANSUhEUgAAAAoAAAAOBAMAAADkjZCYAAAAMFBMVEX///9ERETc3NyIiIjMzMyY\n",
       "mJh2dna6urqqqqpmZmYyMjIiIiIQEBBUVFTu7u4AAAD6+w4kAAAAAXRSTlMAQObYZgAAAFBJREFU\n",
       "CNdj4LuzgQEIuCaASP4GEFn/AERmgQiGZQyR3xn4vj97/oOB44sBUIDzdwGQ5La7DVT03oG/QYEh\n",
       "nuF9QQLDRQZ+BQOGpQzM0x4AAD+VFjuIiDKbAAAAAElFTkSuQmCC\n",
       "\" style=\"display:inline;vertical-align:middle;\" /></a></td></tr>\n",
       "<tr><td>5</td><td>Operation</td><td>operator:&nbsp;6<br>operand:&nbsp;7<br></td><td><a class=\"ProveItLink\" href=\"../54bd455a3b87b328f63e73be03988fb44f1688450/expr.ipynb\"><img src=\"data:image/png;base64,iVBORw0KGgoAAAANSUhEUgAAABgAAAASBAMAAACzwgOtAAAALVBMVEX////MzMyqqqpmZmZ2dnZE\n",
       "RESIiIju7u5UVFSYmJi6uroiIiIyMjLc3NwAAABXLbUEAAAAAXRSTlMAQObYZgAAAFRJREFUCNdj\n",
       "YIADzrcMSJwGBlJBWWoBguPAPQHOZivgm8BwZzcI7GLgZVh3AUmTN7IJh5HY7I+QOEzPkTjMG5A4\n",
       "3AZwJteFewJwjpxBMEJRqTPQMQDHJRMBzCil9wAAAABJRU5ErkJggg==\n",
       "\" style=\"display:inline;vertical-align:middle;\" /></a></td></tr>\n",
       "<tr><td>6</td><td>Literal</td><td></td><td><a class=\"ProveItLink\" href=\"../../../number/negation/__pv_it/3fc7a08bb9735faa20ef8e175f6ea95511acc9c70/expr.ipynb\"><img src=\"data:image/png;base64,iVBORw0KGgoAAAANSUhEUgAAAA4AAAACBAMAAACapPCZAAAAElBMVEX///+6uroiIiIyMjLc3NwA\n",
       "AAA6l9OrAAAAAXRSTlMAQObYZgAAABBJREFUCNdjcFYCAUUGKAAADR4BD8/TF5gAAAAASUVORK5C\n",
       "YII=\n",
       "\" style=\"display:inline;vertical-align:middle;\" /></a></td></tr>\n",
       "<tr><td>7</td><td>Variable</td><td></td><td><a class=\"ProveItLink\" href=\"../../../__pv_it/612356038763a16ceac85a062629d016c986635c0/expr.ipynb\"><img src=\"data:image/png;base64,iVBORw0KGgoAAAANSUhEUgAAAAoAAAASBAMAAACQmVJ4AAAALVBMVEX////MzMyqqqpmZmYyMjK6\n",
       "uroiIiJ2dnZERESIiIju7u5UVFTc3NyYmJgAAAAeP2GyAAAAAXRSTlMAQObYZgAAAE1JREFUCNdj\n",
       "YGBg4H3DACI3MGADK2csAJIFbBcYGDgX8AFJHoa4AyCJMrC0M4jgegQimV6BSOYEEMlmwMDAeuCc\n",
       "AAODnEEzkL+iGKgTAMbaDxjCuhcwAAAAAElFTkSuQmCC\n",
       "\" style=\"display:inline;vertical-align:middle;\" /></a></td></tr>\n",
       "</table>\n"
      ],
      "text/plain": [
       "0. _y_ + k - j\n",
       "   core type: Operation\n",
       "   operator: 1\n",
       "   operands: 2\n",
       "1. +\n",
       "   core type: Literal\n",
       "   sub-expressions: \n",
       "2. (_y_ , k , -j)\n",
       "   core type: ExprTuple\n",
       "   sub-expressions: 3, 4, 5\n",
       "3. _y_\n",
       "   core type: Variable\n",
       "   sub-expressions: \n",
       "4. k\n",
       "   core type: Variable\n",
       "   sub-expressions: \n",
       "5. -j\n",
       "   core type: Operation\n",
       "   operator: 6\n",
       "   operand: 7\n",
       "6. -\n",
       "   core type: Literal\n",
       "   sub-expressions: \n",
       "7. j\n",
       "   core type: Variable\n",
       "   sub-expressions: "
      ]
     },
     "execution_count": 4,
     "metadata": {},
     "output_type": "execute_result"
    }
   ],
   "source": [
    "# display the expression information\n",
    "expr.exprInfo()"
   ]
  },
  {
   "cell_type": "code",
   "execution_count": null,
   "metadata": {},
   "outputs": [],
   "source": []
  }
 ],
 "metadata": {
  "kernelspec": {
   "display_name": "Python 3",
   "language": "python",
   "name": "python3"
  }
 },
 "nbformat": 4,
 "nbformat_minor": 0
}
