{
 "cells": [
  {
   "cell_type": "markdown",
   "metadata": {},
   "source": [
    "Expression of type <a class=\"ProveItLink\" href=\"../../../../../doc/html/api/proveit.logic.InSet.html\">InSet</a>\n",
    "=======================\n",
    "# from context <a class=\"ProveItLink\" href=\"../../_context_.ipynb\">proveit.iteration</a>"
   ]
  },
  {
   "cell_type": "code",
   "execution_count": 1,
   "metadata": {},
   "outputs": [],
   "source": [
    "# import Expression classes needed to build the expression\n",
    "from proveit._common_ import i, j, q\n",
    "from proveit.logic import InSet\n",
    "from proveit.number import Interval"
   ]
  },
  {
   "cell_type": "code",
   "execution_count": 2,
   "metadata": {},
   "outputs": [
    {
     "data": {
      "text/html": [
       "<strong id=\"expr\">expr:</strong> <a class=\"ProveItLink\" href=\"expr.ipynb\"><img src=\"data:image/png;base64,iVBORw0KGgoAAAANSUhEUgAAAGYAAAAVBAMAAABGR4Y+AAAAMFBMVEX///+qqqpEREQiIiIyMjKY\n",
       "mJjc3NxUVFTu7u4QEBC6urp2dnaIiIhmZmbMzMwAAADWMNsgAAAAAXRSTlMAQObYZgAAAVhJREFU\n",
       "OMtjYMACWK8y4AKvt2EX57BmwA1eCmAV5vkAJJgcsMjEJzDwOmDVwz0BpOcAFplwqCQOPbgAiiTH\n",
       "EWNjBxL1PIkg3h6+O/t2ASk2DRTh7ttYwvOMBlTPygb2HyA/J8DlQEGzYT0WKxhMgXEHDFS2r5Dg\n",
       "a0KKggUMfAKXMfWcYPgKJH0ZGNg/MDBvAFlnbAwNg+fzgM5gmIOpJ4HrG8hBrgz8Cgz9C0AqEXIr\n",
       "HzAwMP7A5n8DIAFMJPkHGOJB/GaEFDvQOpaCBkw9LBcg/ukXYCgBKwxAMS5/AcjBIH0cDFAGWC04\n",
       "3FgCGH+DA9IKJazl2YBmcHwGKTSAMoCCDRBJtpqjv8ACKfeQ9TCdAZkzCUh0KkAZDAyX4REOciEI\n",
       "iDsTSju2cEl2B+LS6DK2f3BJzg3o2RSrHr6/TBegiYSBW98WPV3ZYM292lehiQQrYN2ItzwAAMpw\n",
       "VehdH8fwAAAAAElFTkSuQmCC\n",
       "\" style=\"display:inline;vertical-align:middle;\" /></a><br>"
      ],
      "text/plain": [
       "expr: q in {i...j}"
      ]
     },
     "execution_count": 2,
     "metadata": {},
     "output_type": "execute_result"
    }
   ],
   "source": [
    "# build up the expression from sub-expressions\n",
    "expr = InSet(q, Interval(i, j))"
   ]
  },
  {
   "cell_type": "code",
   "execution_count": 3,
   "metadata": {},
   "outputs": [
    {
     "name": "stdout",
     "output_type": "stream",
     "text": [
      "Passed sanity check: built 'expr' is the same as the stored Expression.\n"
     ]
    }
   ],
   "source": [
    "# check that the built expression is the same as the stored expression\n",
    "%check_expr"
   ]
  },
  {
   "cell_type": "code",
   "execution_count": 4,
   "metadata": {},
   "outputs": [
    {
     "data": {
      "text/html": [
       "<table><tr><th>&nbsp;</th><th>core type</th><th>sub-expressions</th><th>expression</th></tr>\n",
       "<tr><td>0</td><td>Operation</td><td>operator:&nbsp;1<br>operands:&nbsp;2<br></td><td><a class=\"ProveItLink\" href=\"expr.ipynb\"><img src=\"data:image/png;base64,iVBORw0KGgoAAAANSUhEUgAAAGYAAAAVBAMAAABGR4Y+AAAAMFBMVEX///+qqqpEREQiIiIyMjKY\n",
       "mJjc3NxUVFTu7u4QEBC6urp2dnaIiIhmZmbMzMwAAADWMNsgAAAAAXRSTlMAQObYZgAAAVhJREFU\n",
       "OMtjYMACWK8y4AKvt2EX57BmwA1eCmAV5vkAJJgcsMjEJzDwOmDVwz0BpOcAFplwqCQOPbgAiiTH\n",
       "EWNjBxL1PIkg3h6+O/t2ASk2DRTh7ttYwvOMBlTPygb2HyA/J8DlQEGzYT0WKxhMgXEHDFS2r5Dg\n",
       "a0KKggUMfAKXMfWcYPgKJH0ZGNg/MDBvAFlnbAwNg+fzgM5gmIOpJ4HrG8hBrgz8Cgz9C0AqEXIr\n",
       "HzAwMP7A5n8DIAFMJPkHGOJB/GaEFDvQOpaCBkw9LBcg/ukXYCgBKwxAMS5/AcjBIH0cDFAGWC04\n",
       "3FgCGH+DA9IKJazl2YBmcHwGKTSAMoCCDRBJtpqjv8ACKfeQ9TCdAZkzCUh0KkAZDAyX4REOciEI\n",
       "iDsTSju2cEl2B+LS6DK2f3BJzg3o2RSrHr6/TBegiYSBW98WPV3ZYM292lehiQQrYN2ItzwAAMpw\n",
       "VehdH8fwAAAAAElFTkSuQmCC\n",
       "\" style=\"display:inline;vertical-align:middle;\" /></a></td></tr>\n",
       "<tr><td>1</td><td>Literal</td><td></td><td><a class=\"ProveItLink\" href=\"../../../logic/set_theory/membership/__pv_it/088cbc857536a28d4119ad9639a84270ccb0545d0/expr.ipynb\"><img src=\"data:image/png;base64,iVBORw0KGgoAAAANSUhEUgAAAAwAAAAMBAMAAACkW0HUAAAALVBMVEX///+qqqpmZmZUVFQQEBC6\n",
       "urpERETc3NyYmJjMzMwiIiIyMjKIiIju7u4AAACYsrA9AAAAAXRSTlMAQObYZgAAADxJREFUCNdj\n",
       "YOA9vWrVBgaG2b0MQMCeCyIZ2ArA1DUwyRCyahVIyWQI7xaEYm4AU7xLIdxqTQgtvGvVBgCkcQ7e\n",
       "geM/tQAAAABJRU5ErkJggg==\n",
       "\" style=\"display:inline;vertical-align:middle;\" /></a></td></tr>\n",
       "<tr><td>2</td><td>ExprTuple</td><td>3, 4</td><td><a class=\"ProveItLink\" href=\"../62987f0a243e7e83f78ff977232b33c1839d91780/expr.ipynb\"><img src=\"data:image/png;base64,iVBORw0KGgoAAAANSUhEUgAAAGMAAAAVBAMAAACgbk16AAAAMFBMVEX////c3NwiIiJERESqqqqY\n",
       "mJh2dnZmZmYQEBDu7u4yMjJUVFTMzMyIiIi6uroAAAAs73DqAAAAAXRSTlMAQObYZgAAAZtJREFU\n",
       "OMuVk79Lw1AQx78xTds0ac3u0C7qJHRRcLL/gZ1cBBtBcFEphXYTCjr6I5O4tYuIm7MgOInQJYuD\n",
       "YCE6FRerUKUgxbvkhaYkLfQN7927u8979+7uAaNDqWLceNz2pYwdUKsLGD+eCsAWC62gNt2lSW5G\n",
       "+JcMJEifeCD5JmiI1xmxI5BNYSQsbYeQccM1bgBJazrkEvjAdIhcQI0W/XDvYKi9qIW91faqQOJl\n",
       "XNHSsbS+Z+KkmJ8RF2CeasbpjDVxBkg919VNvQO9UAkjL+jRfM1lrGMAaF3MmK6ldUIx4DSMGJkv\n",
       "fgeFpHcZmc2j4XimDlUq1o96eo4mbg1CjoGsjZKwaBRg6tYKI6myeAsFtgw0CrgDLP+wrMNR8laF\n",
       "EFwfL2NKE7t0QjH2A/XbT/K6VIS3beSEQEprmOR3ytj98wDquSEQuc0XHHGl80IAKn4pUw6S7MlR\n",
       "ZoxJ1V8MNIxiilcrExrmTfrzjfui+ZOmQJRIRP+Vy6I1VK75HOFrdK/7CdSlKERdqYrWgMbhSyMf\n",
       "RtmZ/PdfgX+9lGW6IDTJewAAAABJRU5ErkJggg==\n",
       "\" style=\"display:inline;vertical-align:middle;\" /></a></td></tr>\n",
       "<tr><td>3</td><td>Variable</td><td></td><td><a class=\"ProveItLink\" href=\"../../../__pv_it/874553314f6d962851bc90a15187492caf5d49850/expr.ipynb\"><img src=\"data:image/png;base64,iVBORw0KGgoAAAANSUhEUgAAAAoAAAANBAMAAABiGeI2AAAAMFBMVEX///+qqqpEREQiIiIyMjKY\n",
       "mJjc3NxUVFTu7u4QEBC6urp2dnaIiIhmZmbMzMwAAADWMNsgAAAAAXRSTlMAQObYZgAAAFBJREFU\n",
       "CNdjYOC7s28XA8PKBvYfDGxfGXgdGNg/MDBvYOBXYOhfwJB/gCGegaFfgKGEgYElgPE3AwNbzdFf\n",
       "DEDA+gFEsjuASM4NQIJb35YBAC9REXkfHwxdAAAAAElFTkSuQmCC\n",
       "\" style=\"display:inline;vertical-align:middle;\" /></a></td></tr>\n",
       "<tr><td>4</td><td>Operation</td><td>operator:&nbsp;5<br>operands:&nbsp;6<br></td><td><a class=\"ProveItLink\" href=\"../e8ef1f3b3d39a4d6a35c16039ea81a145fbea3e00/expr.ipynb\"><img src=\"data:image/png;base64,iVBORw0KGgoAAAANSUhEUgAAAEMAAAAVBAMAAADvM06qAAAAMFBMVEX////c3NxERESqqqpUVFS6\n",
       "urrMzMwyMjIQEBCIiIh2dnYiIiLu7u5mZmaYmJgAAABXZE4RAAAAAXRSTlMAQObYZgAAAOpJREFU\n",
       "KM9jYGDgu8eAC7CtEgBRPLsYcAO2ZhDJ+QFIMBVgkX8PNOI6iMHVAFIyAYuSJ0C8Aq4EJ6CyklO3\n",
       "MCV5ZurAlPACPbMgHlMJF8M+kK9AzIwABjaD25hK5jD8A5LsFxgYUtqAZjJ0YioRYP0IotQfMDBE\n",
       "JDAwMP/B4lKuDUCCewGQYAG6hd3hAKYSkB0Qt4AUyweAFIOVgQgesJLzBsietmcE2sjzmwFKnAdZ\n",
       "wWB/AFkJ00yQbBOMOKEAkrhNOHT3ElISyPgNroQPqxK2v0wgD0HSC89ObEp4tMDJla0VzONbjD/t\n",
       "AgCyND12fPBhnQAAAABJRU5ErkJggg==\n",
       "\" style=\"display:inline;vertical-align:middle;\" /></a></td></tr>\n",
       "<tr><td>5</td><td>Literal</td><td></td><td><a class=\"ProveItLink\" href=\"../../../number/sets/integer/__pv_it/6e5362d7b256561b61a1b512bf7dc507dcde5dcf0/expr.ipynb\"><img src=\"data:image/png;base64,iVBORw0KGgoAAAANSUhEUgAAAE4AAAAOBAMAAABz3DdCAAAAMFBMVEX///8QEBCYmJiqqqoiIiLu\n",
       "7u7MzMyIiIi6uroyMjLc3NxmZmZERERUVFR2dnYAAAADo0JQAAAAAXRSTlMAQObYZgAAAWZJREFU\n",
       "KM99kL9LQlEUx7/2vL7XS9+LlqAh3Bp1kGhzLKjhCW1BvaX9UoPQD3ku1qb0D/S2ghTf4CKEuAU1\n",
       "6BaR1B3aKhIiNbAf56q8ybpwv3DO+XDOly+A158bF/+/p57UT79O2eO5iTaJ9u3XSWs8N1UgMXp+\n",
       "XfnjboCTTLb9evUPriz9mHXg6PrsUGit/i302r6rHZxnPGzWkOIoZbIuYhLO01Jxx1kHCm1OuLpn\n",
       "RFboiMhjvanNoQG0JPdmQ3PWwHrSrk5qHwebihOKV6B45SgugVnJnQKMIOUDQYHIzMIerC2HejQN\n",
       "xR+BZYQ6kuvTJyhSAI1Nb5APhj3V6oP8qNMyvu4wIDNqJaGbMgFUR6EZepdMs3CTcjXk0oBAzBJV\n",
       "LMmkOOYlF/aQY+90Z9GMilF8ZQcvin3PhFrAhqsPkjfqjOMECU+Y2xwXjS+Cs0BxF8U08Jzm0KQf\n",
       "sIcdoJTOXTlqzfoFcS9unliQnJ4AAAAASUVORK5CYII=\n",
       "\" style=\"display:inline;vertical-align:middle;\" /></a></td></tr>\n",
       "<tr><td>6</td><td>ExprTuple</td><td>7, 8</td><td><a class=\"ProveItLink\" href=\"../60d87812d295b9c0f4794e231b48771ad2e5a1770/expr.ipynb\"><img src=\"data:image/png;base64,iVBORw0KGgoAAAANSUhEUgAAACYAAAAVBAMAAADY/YGeAAAAMFBMVEX////c3NwiIiJERESqqqqY\n",
       "mJh2dnZmZmYQEBDu7u4yMjJUVFTMzMyIiIi6uroAAAAs73DqAAAAAXRSTlMAQObYZgAAAOlJREFU\n",
       "GNNjYMAG+C6gcFkfAInTQGwFE4kXYKgBUiuB2BYmFs3AwMXAwHsBzSzWBAaOCWhinA0MrzAsNWEo\n",
       "A8qkJ0CV3LUEkukMSxkY2Pg+QMTYGFSBpBdDHwPDEXYFiNhNhq9A8gXDPwaGCRxQuwX4PgLJ8yAx\n",
       "Bn+Y3WwKYLEWILmaEyrGVQDWa8rAwPiPjQEiOt8BSEQBbWZg+SDKMB9sDdiQdIZHIO9eYJgBMp2h\n",
       "CESsY+AQgBj1EESoQ/zGCvVDAFCY8Q/I7guQsAKL8XxnBlk7C4ilwUK8QE1mpSDWRiBmRA1A3gMM\n",
       "AC4VMRgFOpBsAAAAAElFTkSuQmCC\n",
       "\" style=\"display:inline;vertical-align:middle;\" /></a></td></tr>\n",
       "<tr><td>7</td><td>Variable</td><td></td><td><a class=\"ProveItLink\" href=\"../../../__pv_it/4cc43b4ba7e5ae9f0f864f240ab9735c1604d8200/expr.ipynb\"><img src=\"data:image/png;base64,iVBORw0KGgoAAAANSUhEUgAAAAcAAAAOBAMAAAARcxsoAAAAMFBMVEX///+YmJjc3NxUVFQQEBAi\n",
       "IiKqqqrMzMy6urpmZmZ2dnbu7u6IiIgyMjJEREQAAADwIkbYAAAAAXRSTlMAQObYZgAAADtJREFU\n",
       "CNdjYGB4ywAEbxjQAffKBQwMXBwfGBjKOAMYGDawHAAK5m8AEpe5GRiYfnAxMLB9UARpPcAAAFud\n",
       "DDeiFOVzAAAAAElFTkSuQmCC\n",
       "\" style=\"display:inline;vertical-align:middle;\" /></a></td></tr>\n",
       "<tr><td>8</td><td>Variable</td><td></td><td><a class=\"ProveItLink\" href=\"../../../__pv_it/612356038763a16ceac85a062629d016c986635c0/expr.ipynb\"><img src=\"data:image/png;base64,iVBORw0KGgoAAAANSUhEUgAAAAoAAAASBAMAAACQmVJ4AAAALVBMVEX////MzMyqqqpmZmYyMjK6\n",
       "uroiIiJ2dnZERESIiIju7u5UVFTc3NyYmJgAAAAeP2GyAAAAAXRSTlMAQObYZgAAAE1JREFUCNdj\n",
       "YGBg4H3DACI3MGADK2csAJIFbBcYGDgX8AFJHoa4AyCJMrC0M4jgegQimV6BSOYEEMlmwMDAeuCc\n",
       "AAODnEEzkL+iGKgTAMbaDxjCuhcwAAAAAElFTkSuQmCC\n",
       "\" style=\"display:inline;vertical-align:middle;\" /></a></td></tr>\n",
       "</table>\n"
      ],
      "text/plain": [
       "0. q in {i...j}\n",
       "   core type: Operation\n",
       "   operator: 1\n",
       "   operands: 2\n",
       "1. in\n",
       "   core type: Literal\n",
       "   sub-expressions: \n",
       "2. (q , {i...j})\n",
       "   core type: ExprTuple\n",
       "   sub-expressions: 3, 4\n",
       "3. q\n",
       "   core type: Variable\n",
       "   sub-expressions: \n",
       "4. {i...j}\n",
       "   core type: Operation\n",
       "   operator: 5\n",
       "   operands: 6\n",
       "5. Interval\n",
       "   core type: Literal\n",
       "   sub-expressions: \n",
       "6. (i , j)\n",
       "   core type: ExprTuple\n",
       "   sub-expressions: 7, 8\n",
       "7. i\n",
       "   core type: Variable\n",
       "   sub-expressions: \n",
       "8. j\n",
       "   core type: Variable\n",
       "   sub-expressions: "
      ]
     },
     "execution_count": 4,
     "metadata": {},
     "output_type": "execute_result"
    }
   ],
   "source": [
    "# display the expression information\n",
    "expr.exprInfo()"
   ]
  },
  {
   "cell_type": "code",
   "execution_count": null,
   "metadata": {},
   "outputs": [],
   "source": []
  }
 ],
 "metadata": {
  "kernelspec": {
   "display_name": "Python 3",
   "language": "python",
   "name": "python3"
  }
 },
 "nbformat": 4,
 "nbformat_minor": 0
}
