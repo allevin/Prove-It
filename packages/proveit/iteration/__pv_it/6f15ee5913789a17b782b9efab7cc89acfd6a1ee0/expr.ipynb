{
 "cells": [
  {
   "cell_type": "markdown",
   "metadata": {},
   "source": [
    "Expression of type <a class=\"ProveItLink\" href=\"../../../../../doc/html/api/proveit.ExprTuple.html\">ExprTuple</a>\n",
    "=======================\n",
    "# from context <a class=\"ProveItLink\" href=\"../../_context_.ipynb\">proveit.iteration</a>"
   ]
  },
  {
   "cell_type": "code",
   "execution_count": 1,
   "metadata": {},
   "outputs": [],
   "source": [
    "# import Expression classes needed to build the expression\n",
    "from proveit import ExprTuple\n",
    "from proveit._common_ import j, k\n",
    "from proveit.number import Add, Neg, one"
   ]
  },
  {
   "cell_type": "code",
   "execution_count": 2,
   "metadata": {},
   "outputs": [
    {
     "data": {
      "text/html": [
       "<strong id=\"expr\">expr:</strong> <a class=\"ProveItLink\" href=\"expr.ipynb\"><img src=\"data:image/png;base64,iVBORw0KGgoAAAANSUhEUgAAAQEAAAAVBAMAAAC08kb3AAAAMFBMVEX////c3NwiIiJERESqqqqY\n",
       "mJh2dnZmZmYQEBDu7u4yMjJUVFTMzMyIiIi6uroAAAAs73DqAAAAAXRSTlMAQObYZgAAAiJJREFU\n",
       "SMfFls8rRFEUx79jfrnD/FizkRIWZENZef+AzIqFYnai1KT8yIZkZcFISU2ZSSHPRmyUBXup2UmR\n",
       "x44So5Fomrz7eNO79747b9TU3MV9951z+p5P99x33gWqP0KZKiYfodMlnUYjjIOcNgnB7gRnSC6J\n",
       "ir3FFadodVks/gv9eUBfhjlnIM6Hkz6eAPuC5sZXcTksd1ktaSBoLQIxwcOKaVr/85ydCwQ53pA8\n",
       "E9KYiqLr1zII1FqFPSbOa9Haby7ueYKQkA5BwVRUFF2GZQt4to2fgDOBL10BAreCGbpVd71c/B6G\n",
       "Ck4EgZh3QZMQiIoSAl8cu/SBFjaeFDa3c04EqafxV0VCICjKCDxprOqPG3yw8Z58xrkKA1fyKgiK\n",
       "MoLQIuhmR0JZNt7/rkkIGprp6KTLBWOGa8cwaUwaQfHPJQTXvxkE8NEG5FfVnRVVPdKXNTfHRr55\n",
       "VW1T1UP7PehItstPIq8o2wOdYNnagEzi1EVYiThUgeSRc0kJeMUSVeg2Mips/ChSWsyBwPtGCj4b\n",
       "UQI7RRmBN40x41Al2PgThCMZB4K6LmSDNqKpJjvFEl/jI32Z4vrHLoIzCZZgdm0/yraDKK7HWU3/\n",
       "3Pc0trJ2ioZLDEZAQy2tdyvfwSD2xLLHA0orMkPvyt4YHlx5+V3h5d8E+laVVGTGJP0713+645W8\n",
       "dURRviKh/5ZG0jNdSQD9dJavWEfPgKuat7Rb4AehFsyChWdnYQAAAABJRU5ErkJggg==\n",
       "\" style=\"display:inline;vertical-align:middle;\" /></a><br>"
      ],
      "text/plain": [
       "expr: (j + k + 1 - k - 1 , j + 1 - 1)"
      ]
     },
     "execution_count": 2,
     "metadata": {},
     "output_type": "execute_result"
    }
   ],
   "source": [
    "# build up the expression from sub-expressions\n",
    "subExpr1 = Neg(one)\n",
    "expr = ExprTuple(Add(j, k, one, Neg(k), subExpr1), Add(j, one, subExpr1).withSubtractionAt(1,2))"
   ]
  },
  {
   "cell_type": "code",
   "execution_count": 3,
   "metadata": {},
   "outputs": [
    {
     "name": "stdout",
     "output_type": "stream",
     "text": [
      "Passed sanity check: built 'expr' is the same as the stored Expression.\n"
     ]
    }
   ],
   "source": [
    "# check that the built expression is the same as the stored expression\n",
    "%check_expr"
   ]
  },
  {
   "cell_type": "code",
   "execution_count": 4,
   "metadata": {},
   "outputs": [
    {
     "data": {
      "text/html": [
       "<table><tr><th>&nbsp;</th><th>core type</th><th>sub-expressions</th><th>expression</th></tr>\n",
       "<tr><td>0</td><td>ExprTuple</td><td>1, 2</td><td><a class=\"ProveItLink\" href=\"expr.ipynb\"><img src=\"data:image/png;base64,iVBORw0KGgoAAAANSUhEUgAAAQEAAAAVBAMAAAC08kb3AAAAMFBMVEX////c3NwiIiJERESqqqqY\n",
       "mJh2dnZmZmYQEBDu7u4yMjJUVFTMzMyIiIi6uroAAAAs73DqAAAAAXRSTlMAQObYZgAAAiJJREFU\n",
       "SMfFls8rRFEUx79jfrnD/FizkRIWZENZef+AzIqFYnai1KT8yIZkZcFISU2ZSSHPRmyUBXup2UmR\n",
       "x44So5Fomrz7eNO79747b9TU3MV9951z+p5P99x33gWqP0KZKiYfodMlnUYjjIOcNgnB7gRnSC6J\n",
       "ir3FFadodVks/gv9eUBfhjlnIM6Hkz6eAPuC5sZXcTksd1ktaSBoLQIxwcOKaVr/85ydCwQ53pA8\n",
       "E9KYiqLr1zII1FqFPSbOa9Haby7ueYKQkA5BwVRUFF2GZQt4to2fgDOBL10BAreCGbpVd71c/B6G\n",
       "Ck4EgZh3QZMQiIoSAl8cu/SBFjaeFDa3c04EqafxV0VCICjKCDxprOqPG3yw8Z58xrkKA1fyKgiK\n",
       "MoLQIuhmR0JZNt7/rkkIGprp6KTLBWOGa8cwaUwaQfHPJQTXvxkE8NEG5FfVnRVVPdKXNTfHRr55\n",
       "VW1T1UP7PehItstPIq8o2wOdYNnagEzi1EVYiThUgeSRc0kJeMUSVeg2Mips/ChSWsyBwPtGCj4b\n",
       "UQI7RRmBN40x41Al2PgThCMZB4K6LmSDNqKpJjvFEl/jI32Z4vrHLoIzCZZgdm0/yraDKK7HWU3/\n",
       "3Pc0trJ2ioZLDEZAQy2tdyvfwSD2xLLHA0orMkPvyt4YHlx5+V3h5d8E+laVVGTGJP0713+645W8\n",
       "dURRviKh/5ZG0jNdSQD9dJavWEfPgKuat7Rb4AehFsyChWdnYQAAAABJRU5ErkJggg==\n",
       "\" style=\"display:inline;vertical-align:middle;\" /></a></td></tr>\n",
       "<tr><td>1</td><td>Operation</td><td>operator:&nbsp;4<br>operands:&nbsp;3<br></td><td><a class=\"ProveItLink\" href=\"../f16664ef6779931585fa34bb4dad54b6cb9c46dc0/expr.ipynb\"><img src=\"data:image/png;base64,iVBORw0KGgoAAAANSUhEUgAAAJsAAAASBAMAAAC+8LGvAAAAMFBMVEX///8QEBDMzMyqqqpmZmYy\n",
       "MjK6uroiIiJ2dnZERESIiIju7u5UVFTc3NyYmJgAAACtHSfyAAAAAXRSTlMAQObYZgAAAU5JREFU\n",
       "OMtjYGBg4PvLgAL2iDNggNlofO6DBRhqODeAKb4DaOIhGCp3/kYXYXVAF+GevwGVfwHK+IwusucM\n",
       "hnH8BuimnTmPahzzAgjN9htdhIELw7j8DRheWI/dOI4AIoxrZcBh3K6VG1A1szbw+ScQMi6C4ck3\n",
       "rMY1sD9ANW5/dne+AQHjuL/t2PYZm3FcG/jRjLPXIuxZ5k8LsHuWlyH/Aqpm/zIcxvGGl4MAKCBY\n",
       "vkOC4ypYpAw5KtpBBEtoaLhoaCgoCVbtqUYTwXQd++rjG3DEbAiqW7g/MXzmJeTZ/Qr8BhewGsf9\n",
       "GdU4vg/c3zgIGfeeYX9CA1bjmH+jGsczgeEvFyHjTjLwX1iA1TiWAlTjWB8wLOlGNY7F8asfqtY4\n",
       "Bi4PtMBzkQ8BJRF2B/R4xMgnxAO2C/cVYEwMzWwkG6fvMIWBimBnywMqmgYAUGB5q5zgNOoAAAAA\n",
       "SUVORK5CYII=\n",
       "\" style=\"display:inline;vertical-align:middle;\" /></a></td></tr>\n",
       "<tr><td>2</td><td>Operation</td><td>operator:&nbsp;4<br>operands:&nbsp;5<br></td><td><a class=\"ProveItLink\" href=\"../cb301c91d7f9baf427963d63ea0cafc09b916f360/expr.ipynb\"><img src=\"data:image/png;base64,iVBORw0KGgoAAAANSUhEUgAAAFEAAAASBAMAAADRbS/HAAAAMFBMVEX///8QEBDMzMyqqqpmZmYy\n",
       "MjK6uroiIiJ2dnZERESIiIju7u5UVFTc3NyYmJgAAACtHSfyAAAAAXRSTlMAQObYZgAAAJFJREFU\n",
       "KM9jYGBg4PvLgAo4NzBgF+E7gCrMPR9dJbrIXqjwmfNoKjFErGCM9Ri2rydR5a6VG4hU2cD+gDiV\n",
       "XBv4iVTJy5B/AavKq+UgUIastx1EuIaGFoaGxuD3ewixfuf+TKxK5t/EqmQpQFPpIh/yAFUhVITd\n",
       "Ad1M7IDtwn0FKDMLv0p9hykMxIGdLQ+IUwgA7M9B5c+gSIsAAAAASUVORK5CYII=\n",
       "\" style=\"display:inline;vertical-align:middle;\" /></a></td></tr>\n",
       "<tr><td>3</td><td>ExprTuple</td><td>7, 9, 11, 6, 8</td><td><a class=\"ProveItLink\" href=\"../15a212d3fc57795b445c45654bb9a8242928696f0/expr.ipynb\"><img src=\"data:image/png;base64,iVBORw0KGgoAAAANSUhEUgAAAIUAAAAVBAMAAACakjBMAAAAMFBMVEX////c3NwiIiJERESqqqqY\n",
       "mJh2dnZmZmYQEBDu7u4yMjJUVFTMzMyIiIi6uroAAAAs73DqAAAAAXRSTlMAQObYZgAAAaZJREFU\n",
       "OMutlL9LAzEUx99R79r0x3GzLiKIOFhcFDrZ/8BOLoJ2kw5CEapuFXG2BRehQw9Bin9Dh7qL4CaC\n",
       "Yuumi61UpFKKeUmbvtx5izVwee++39yH5F0SgP9o9t1En29hd4PdtiOEyrHyQmXPYOKplgIIX/N4\n",
       "hS+bQ7E2ctmalzH2VDvr8c4FSGhL6Y4Q9YaP0fUKlToyNgAidKzdU+mzl0G8UUugdA7wRkXLDWYQ\n",
       "T2OE0rCPM39KSTGaNYvNAAbxNIaVh0sMMC/F6mvuPR3AIJ7GmHLhlIcH+JTi+m3wWoinMewjGPDg\n",
       "2B0pFpM+hnExh61JvGmhJIeMeFswwJqV7lJlMXAexNPmwRknol55uSv60DUCGNTzrmVF1CsNjAez\n",
       "zQaWyCSDYqSnSZJhurAj6lWGKl9ObBk6CZEJBvsg46WnSerfvuDLHt9uvKzRDNznRAYHpVqGlRyy\n",
       "PYSnSeHD7wI3mhBBcYE/LeWpzHb8N4VP4nvdzELL6PM8o1SVmf7T7pd28ezHv0L5vzMYHqMZtlrA\n",
       "+owrpbJfbjifFMPFGZPdhY8AP/bAfyOoUOs/AAAAAElFTkSuQmCC\n",
       "\" style=\"display:inline;vertical-align:middle;\" /></a></td></tr>\n",
       "<tr><td>4</td><td>Literal</td><td></td><td><a class=\"ProveItLink\" href=\"../../../number/addition/__pv_it/3e6688136fa3c7aefbebe51301b7c3ebf0b69c440/expr.ipynb\"><img src=\"data:image/png;base64,iVBORw0KGgoAAAANSUhEUgAAAA4AAAAOBAMAAADtZjDiAAAAJFBMVEX///+6urpUVFQQEBAiIiIy\n",
       "MjJmZmaIiIiqqqrc3Nzu7u4AAACgHpL+AAAAAXRSTlMAQObYZgAAAB5JREFUCNdjYGBgWMkAAe2k\n",
       "0Kmhoc6hoUGk6BMHYgAHOwjcado9fwAAAABJRU5ErkJggg==\n",
       "\" style=\"display:inline;vertical-align:middle;\" /></a></td></tr>\n",
       "<tr><td>5</td><td>ExprTuple</td><td>7, 11, 8</td><td><a class=\"ProveItLink\" href=\"../533658b1be19a620eabb9bd8a314d44d198f76660/expr.ipynb\"><img src=\"data:image/png;base64,iVBORw0KGgoAAAANSUhEUgAAAEsAAAAVBAMAAAD85A5eAAAAMFBMVEX////c3NwiIiJERESqqqqY\n",
       "mJh2dnZmZmYQEBDu7u4yMjJUVFTMzMyIiIi6uroAAAAs73DqAAAAAXRSTlMAQObYZgAAAQ9JREFU\n",
       "KM9jYCAS8F0gpCIORJwGEfECEBHmCehqLBkY2A8A6ZUgTjREjNMeXdnkn0BiAQMDL5KdnLv3oymb\n",
       "vRukLIyBgQNF4j66abwgZTMYGF4xEFbG7MBQBrLsriVeZWwFDEtBFIMqXmUsCxj6gNRNhq94lfE1\n",
       "MPwDUgJ8H9GUSSmBgB5UGc8HsDIGNgW8pgGVtYA4XAWELDUFceY7MEyAK5uAoYx1AUM6iOM/gfMT\n",
       "TBmUhRYgj0CcIgbOflDkl/cvD4CwoIC94lcp0E0PGDhAgupA++GSfALoqQQYWawJDA8Z/wBpuCAr\n",
       "RoLLBSUknu/MBXiVcQITEoM0pxnQegZEesJIzdwgVzASTOR3GBgA4rlPgK1cRekAAAAASUVORK5C\n",
       "YII=\n",
       "\" style=\"display:inline;vertical-align:middle;\" /></a></td></tr>\n",
       "<tr><td>6</td><td>Operation</td><td>operator:&nbsp;10<br>operand:&nbsp;9<br></td><td><a class=\"ProveItLink\" href=\"../cc46d6b1804230958c60a82a348817a9551300580/expr.ipynb\"><img src=\"data:image/png;base64,iVBORw0KGgoAAAANSUhEUgAAABoAAAAOBAMAAADDIxFwAAAAMFBMVEX///9ERESIiIjMzMyYmJh2\n",
       "dnaqqqpmZmYQEBBUVFTu7u66uroiIiIyMjLc3NwAAAAyw82KAAAAAXRSTlMAQObYZgAAAF5JREFU\n",
       "CNdjYIACrhkHGJAAbwEyjz8Bmbd/ATIvFpnDcJXB/Tecw/V76epvcB7bZwUg+fYMCJxmYP+zAUkb\n",
       "j9YcJEPXG/AnPIDz/BnWbwiA8yYy8D9QgPOuMDCVLgAAgnkbFg85c1sAAAAASUVORK5CYII=\n",
       "\" style=\"display:inline;vertical-align:middle;\" /></a></td></tr>\n",
       "<tr><td>7</td><td>Variable</td><td></td><td><a class=\"ProveItLink\" href=\"../../../__pv_it/612356038763a16ceac85a062629d016c986635c0/expr.ipynb\"><img src=\"data:image/png;base64,iVBORw0KGgoAAAANSUhEUgAAAAoAAAASBAMAAACQmVJ4AAAALVBMVEX////MzMyqqqpmZmYyMjK6\n",
       "uroiIiJ2dnZERESIiIju7u5UVFTc3NyYmJgAAAAeP2GyAAAAAXRSTlMAQObYZgAAAE1JREFUCNdj\n",
       "YGBg4H3DACI3MGADK2csAJIFbBcYGDgX8AFJHoa4AyCJMrC0M4jgegQimV6BSOYEEMlmwMDAeuCc\n",
       "AAODnEEzkL+iGKgTAMbaDxjCuhcwAAAAAElFTkSuQmCC\n",
       "\" style=\"display:inline;vertical-align:middle;\" /></a></td></tr>\n",
       "<tr><td>8</td><td>Operation</td><td>operator:&nbsp;10<br>operand:&nbsp;11<br></td><td><a class=\"ProveItLink\" href=\"../27bb768acc4707a63c4de5a0b22e13dfe76b5c980/expr.ipynb\"><img src=\"data:image/png;base64,iVBORw0KGgoAAAANSUhEUgAAABgAAAAPBAMAAAAMihLoAAAAJ1BMVEX///+YmJgQEBBmZmaIiIhU\n",
       "VFTu7u5ERES6uroiIiIyMjLc3NwAAAAKCT4sAAAAAXRSTlMAQObYZgAAACpJREFUCNdjYICDMgST\n",
       "If0Ygp0aisRhYCGTs2smCMwg3wAYYDY6ZciADABBShCHMIgXsAAAAABJRU5ErkJggg==\n",
       "\" style=\"display:inline;vertical-align:middle;\" /></a></td></tr>\n",
       "<tr><td>9</td><td>Variable</td><td></td><td><a class=\"ProveItLink\" href=\"../../../__pv_it/1a7356cf6caf039e07a5436d90e972cbb5e92b0a0/expr.ipynb\"><img src=\"data:image/png;base64,iVBORw0KGgoAAAANSUhEUgAAAAoAAAAOBAMAAADkjZCYAAAAMFBMVEX///9ERETc3NyIiIjMzMyY\n",
       "mJh2dna6urqqqqpmZmYyMjIiIiIQEBBUVFTu7u4AAAD6+w4kAAAAAXRSTlMAQObYZgAAAFBJREFU\n",
       "CNdj4LuzgQEIuCaASP4GEFn/AERmgQiGZQyR3xn4vj97/oOB44sBUIDzdwGQ5La7DVT03oG/QYEh\n",
       "nuF9QQLDRQZ+BQOGpQzM0x4AAD+VFjuIiDKbAAAAAElFTkSuQmCC\n",
       "\" style=\"display:inline;vertical-align:middle;\" /></a></td></tr>\n",
       "<tr><td>10</td><td>Literal</td><td></td><td><a class=\"ProveItLink\" href=\"../../../number/negation/__pv_it/3fc7a08bb9735faa20ef8e175f6ea95511acc9c70/expr.ipynb\"><img src=\"data:image/png;base64,iVBORw0KGgoAAAANSUhEUgAAAA4AAAACBAMAAACapPCZAAAAElBMVEX///+6uroiIiIyMjLc3NwA\n",
       "AAA6l9OrAAAAAXRSTlMAQObYZgAAABBJREFUCNdjcFYCAUUGKAAADR4BD8/TF5gAAAAASUVORK5C\n",
       "YII=\n",
       "\" style=\"display:inline;vertical-align:middle;\" /></a></td></tr>\n",
       "<tr><td>11</td><td>Literal</td><td></td><td><a class=\"ProveItLink\" href=\"../../../number/numeral/__pv_it/9be8badea4c35b9724062cecc501d17a3158d1d20/expr.ipynb\"><img src=\"data:image/png;base64,iVBORw0KGgoAAAANSUhEUgAAAAgAAAAPBAMAAAArJJMAAAAAHlBMVEX///+YmJgyMjIQEBBmZmaI\n",
       "iIhUVFTu7u5EREQAAAAw+MI4AAAAAXRSTlMAQObYZgAAACFJREFUCNdjYGBoZ2BgqJjOwFCWBiQY\n",
       "WEklWJwnOTKAAACjEQo8HvEr3AAAAABJRU5ErkJggg==\n",
       "\" style=\"display:inline;vertical-align:middle;\" /></a></td></tr>\n",
       "</table>\n"
      ],
      "text/plain": [
       "0. (j + k + 1 - k - 1 , j + 1 - 1)\n",
       "   core type: ExprTuple\n",
       "   sub-expressions: 1, 2\n",
       "1. j + k + 1 - k - 1\n",
       "   core type: Operation\n",
       "   operator: 4\n",
       "   operands: 3\n",
       "2. j + 1 - 1\n",
       "   core type: Operation\n",
       "   operator: 4\n",
       "   operands: 5\n",
       "3. (j , k , 1 , -k , -1)\n",
       "   core type: ExprTuple\n",
       "   sub-expressions: 7, 9, 11, 6, 8\n",
       "4. +\n",
       "   core type: Literal\n",
       "   sub-expressions: \n",
       "5. (j , 1 , -1)\n",
       "   core type: ExprTuple\n",
       "   sub-expressions: 7, 11, 8\n",
       "6. -k\n",
       "   core type: Operation\n",
       "   operator: 10\n",
       "   operand: 9\n",
       "7. j\n",
       "   core type: Variable\n",
       "   sub-expressions: \n",
       "8. -1\n",
       "   core type: Operation\n",
       "   operator: 10\n",
       "   operand: 11\n",
       "9. k\n",
       "   core type: Variable\n",
       "   sub-expressions: \n",
       "10. -\n",
       "    core type: Literal\n",
       "    sub-expressions: \n",
       "11. 1\n",
       "    core type: Literal\n",
       "    sub-expressions: "
      ]
     },
     "execution_count": 4,
     "metadata": {},
     "output_type": "execute_result"
    }
   ],
   "source": [
    "# display the expression information\n",
    "expr.exprInfo()"
   ]
  },
  {
   "cell_type": "code",
   "execution_count": null,
   "metadata": {},
   "outputs": [],
   "source": []
  }
 ],
 "metadata": {
  "kernelspec": {
   "display_name": "Python 3",
   "language": "python",
   "name": "python3"
  }
 },
 "nbformat": 4,
 "nbformat_minor": 0
}
