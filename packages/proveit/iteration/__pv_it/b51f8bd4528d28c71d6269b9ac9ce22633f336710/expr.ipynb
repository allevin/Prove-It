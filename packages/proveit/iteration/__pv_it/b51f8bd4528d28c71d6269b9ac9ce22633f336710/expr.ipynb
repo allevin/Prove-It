{
 "cells": [
  {
   "cell_type": "markdown",
   "metadata": {},
   "source": [
    "Expression of type <a class=\"ProveItLink\" href=\"../../../../../doc/html/api/proveit.number.Add.html\">Add</a>\n",
    "=======================\n",
    "# from context <a class=\"ProveItLink\" href=\"../../_context_.ipynb\">proveit.iteration</a>"
   ]
  },
  {
   "cell_type": "code",
   "execution_count": 1,
   "metadata": {},
   "outputs": [],
   "source": [
    "# import Expression classes needed to build the expression\n",
    "from proveit import Variable\n",
    "from proveit._common_ import j\n",
    "from proveit.number import Add"
   ]
  },
  {
   "cell_type": "code",
   "execution_count": 2,
   "metadata": {},
   "outputs": [
    {
     "data": {
      "text/html": [
       "<strong id=\"expr\">expr:</strong> <a class=\"ProveItLink\" href=\"expr.ipynb\"><img src=\"data:image/png;base64,iVBORw0KGgoAAAANSUhEUgAAAEgAAAASBAMAAAAK1oXlAAAAMFBMVEX///+YmJhUVFQyMjIQEBAi\n",
       "IiLMzMyIiIi6urrc3NxmZmZ2dnbu7u5ERESqqqoAAACio3w8AAAAAXRSTlMAQObYZgAAAL9JREFU\n",
       "KM9jYCAIGH8yEKFIAacUzwQi9PMVkKno9GoGzj9YFR2vPQAT29DPwP4Bq6INrAJQFtuDpQy8F7Ap\n",
       "Yj/AD1PEw+DOwF+ATREnQz/cn3x/GPIT4Cq4jI1NnY2NIQG0FSFswFCCw3dWcDHmBQyXsCvi+Ycw\n",
       "SYHjI3ZFQIcwvL0LBAcYeK5X/YSxURVxBSBp5Q7AbhLrAriYKsORByiKOCCKOCbMR3g6muE21ijM\n",
       "X3ALwXle1YBV0dldwPAGACJINdWBAhetAAAAAElFTkSuQmCC\n",
       "\" style=\"display:inline;vertical-align:middle;\" /></a><br>"
      ],
      "text/plain": [
       "expr: _y_ + j"
      ]
     },
     "execution_count": 2,
     "metadata": {},
     "output_type": "execute_result"
    }
   ],
   "source": [
    "# build up the expression from sub-expressions\n",
    "expr = Add(Variable(\"_y_\", latexFormat = r\"{_{-}y_{-}}\"), j).withSubtractionAt(1)"
   ]
  },
  {
   "cell_type": "code",
   "execution_count": 3,
   "metadata": {},
   "outputs": [
    {
     "name": "stdout",
     "output_type": "stream",
     "text": [
      "Passed sanity check: built 'expr' is the same as the stored Expression.\n"
     ]
    }
   ],
   "source": [
    "# check that the built expression is the same as the stored expression\n",
    "%check_expr"
   ]
  },
  {
   "cell_type": "code",
   "execution_count": 4,
   "metadata": {},
   "outputs": [
    {
     "data": {
      "text/html": [
       "<table><tr><th>&nbsp;</th><th>core type</th><th>sub-expressions</th><th>expression</th></tr>\n",
       "<tr><td>0</td><td>Operation</td><td>operator:&nbsp;1<br>operands:&nbsp;2<br></td><td><a class=\"ProveItLink\" href=\"expr.ipynb\"><img src=\"data:image/png;base64,iVBORw0KGgoAAAANSUhEUgAAAEgAAAASBAMAAAAK1oXlAAAAMFBMVEX///+YmJhUVFQyMjIQEBAi\n",
       "IiLMzMyIiIi6urrc3NxmZmZ2dnbu7u5ERESqqqoAAACio3w8AAAAAXRSTlMAQObYZgAAAL9JREFU\n",
       "KM9jYCAIGH8yEKFIAacUzwQi9PMVkKno9GoGzj9YFR2vPQAT29DPwP4Bq6INrAJQFtuDpQy8F7Ap\n",
       "Yj/AD1PEw+DOwF+ATREnQz/cn3x/GPIT4Cq4jI1NnY2NIQG0FSFswFCCw3dWcDHmBQyXsCvi+Ycw\n",
       "SYHjI3ZFQIcwvL0LBAcYeK5X/YSxURVxBSBp5Q7AbhLrAriYKsORByiKOCCKOCbMR3g6muE21ijM\n",
       "X3ALwXle1YBV0dldwPAGACJINdWBAhetAAAAAElFTkSuQmCC\n",
       "\" style=\"display:inline;vertical-align:middle;\" /></a></td></tr>\n",
       "<tr><td>1</td><td>Literal</td><td></td><td><a class=\"ProveItLink\" href=\"../../../number/addition/__pv_it/3e6688136fa3c7aefbebe51301b7c3ebf0b69c440/expr.ipynb\"><img src=\"data:image/png;base64,iVBORw0KGgoAAAANSUhEUgAAAA4AAAAOBAMAAADtZjDiAAAAJFBMVEX///+6urpUVFQQEBAiIiIy\n",
       "MjJmZmaIiIiqqqrc3Nzu7u4AAACgHpL+AAAAAXRSTlMAQObYZgAAAB5JREFUCNdjYGBgWMkAAe2k\n",
       "0Kmhoc6hoUGk6BMHYgAHOwjcado9fwAAAABJRU5ErkJggg==\n",
       "\" style=\"display:inline;vertical-align:middle;\" /></a></td></tr>\n",
       "<tr><td>2</td><td>ExprTuple</td><td>3, 4</td><td><a class=\"ProveItLink\" href=\"../911326708a92a90a2d0cddb384cdb4d614a3e1b10/expr.ipynb\"><img src=\"data:image/png;base64,iVBORw0KGgoAAAANSUhEUgAAAEUAAAAVBAMAAADiLT7tAAAAMFBMVEX////c3NwiIiJERESqqqqY\n",
       "mJh2dnZmZmYQEBDu7u4yMjJUVFTMzMyIiIi6uroAAAAs73DqAAAAAXRSTlMAQObYZgAAASFJREFU\n",
       "KM9jYCAG8F3AKx0HIk7jUxEvwH4ASK3EpyaagWEBAwPvBQJuCWNg4JhAQM0MBoZXhPzE7MBQBudw\n",
       "picwyKOYynnXkoGBrYBhKVyEje8Dw30UI9gYVBkYWBYw9MFFjrArMBijqLnJ8BUYfg0M/+AiEzgu\n",
       "MPxFUSPA95GBgecDkhoG/wk8f1Ddy6YAVtOCEKli4G1AVcNVALbLFCGynIF5A9xiMDnfgYGBdQFD\n",
       "OkJNNcP7AJivP0FtB/v9EdB3xkAADInJd+sFoGzOfgGQmiKQfQ8YOASQ7E9CpBiwsDokLlgTYMLc\n",
       "CpwID7AC8UNGkDdzkdMGUwJzArIanu/MQG9xAtMGgzRMmOVuHcJWYIrhNCsFmQ6ylBF/ArrDwAAA\n",
       "oyA7iiNIdsoAAAAASUVORK5CYII=\n",
       "\" style=\"display:inline;vertical-align:middle;\" /></a></td></tr>\n",
       "<tr><td>3</td><td>Variable</td><td></td><td><a class=\"ProveItLink\" href=\"../ca21bf52f8ec7f5496629bfb63241356f0872c150/expr.ipynb\"><img src=\"data:image/png;base64,iVBORw0KGgoAAAANSUhEUgAAACMAAAANBAMAAADRUcosAAAAMFBMVEX///+YmJhUVFQyMjIQEBAi\n",
       "IiLMzMyIiIi6urrc3NxmZmZ2dnbu7u5ERESqqqoAAACio3w8AAAAAXRSTlMAQObYZgAAAGhJREFU\n",
       "CNdjYICA06sZOP8woIAN/QzsH1BE2B4sZeC9gCLEw+DOwF+AqpHvD0N+AqoQlwFDCaoIA/MChkto\n",
       "QlwKHB9h7Ld3geAAA8/1qp8wNhxwB6BpVGU48gBNKJrhNpoIw/OqBhgTACmkHt67K+Q0AAAAAElF\n",
       "TkSuQmCC\n",
       "\" style=\"display:inline;vertical-align:middle;\" /></a></td></tr>\n",
       "<tr><td>4</td><td>Variable</td><td></td><td><a class=\"ProveItLink\" href=\"../../../__pv_it/612356038763a16ceac85a062629d016c986635c0/expr.ipynb\"><img src=\"data:image/png;base64,iVBORw0KGgoAAAANSUhEUgAAAAoAAAASBAMAAACQmVJ4AAAALVBMVEX////MzMyqqqpmZmYyMjK6\n",
       "uroiIiJ2dnZERESIiIju7u5UVFTc3NyYmJgAAAAeP2GyAAAAAXRSTlMAQObYZgAAAE1JREFUCNdj\n",
       "YGBg4H3DACI3MGADK2csAJIFbBcYGDgX8AFJHoa4AyCJMrC0M4jgegQimV6BSOYEEMlmwMDAeuCc\n",
       "AAODnEEzkL+iGKgTAMbaDxjCuhcwAAAAAElFTkSuQmCC\n",
       "\" style=\"display:inline;vertical-align:middle;\" /></a></td></tr>\n",
       "</table>\n"
      ],
      "text/plain": [
       "0. _y_ + j\n",
       "   core type: Operation\n",
       "   operator: 1\n",
       "   operands: 2\n",
       "1. +\n",
       "   core type: Literal\n",
       "   sub-expressions: \n",
       "2. (_y_ , j)\n",
       "   core type: ExprTuple\n",
       "   sub-expressions: 3, 4\n",
       "3. _y_\n",
       "   core type: Variable\n",
       "   sub-expressions: \n",
       "4. j\n",
       "   core type: Variable\n",
       "   sub-expressions: "
      ]
     },
     "execution_count": 4,
     "metadata": {},
     "output_type": "execute_result"
    }
   ],
   "source": [
    "# display the expression information\n",
    "expr.exprInfo()"
   ]
  },
  {
   "cell_type": "code",
   "execution_count": null,
   "metadata": {},
   "outputs": [],
   "source": []
  }
 ],
 "metadata": {
  "kernelspec": {
   "display_name": "Python 3",
   "language": "python",
   "name": "python3"
  }
 },
 "nbformat": 4,
 "nbformat_minor": 0
}
