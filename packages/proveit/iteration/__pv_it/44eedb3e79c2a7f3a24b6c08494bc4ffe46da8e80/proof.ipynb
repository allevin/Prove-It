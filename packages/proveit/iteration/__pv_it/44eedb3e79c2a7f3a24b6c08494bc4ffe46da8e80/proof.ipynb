{
 "cells": [
  {
   "cell_type": "markdown",
   "metadata": {},
   "source": [
    "Show the Proof\n",
    "========"
   ]
  },
  {
   "cell_type": "code",
   "execution_count": 1,
   "metadata": {},
   "outputs": [
    {
     "data": {
      "text/html": [
       "<table><tr><th>&nbsp;</th><th>step type</th><th>requirements</th><th>statement</th></tr>\n",
       "<tr><td>0</td><td>specialization</td><td>1, 2</td><td><span style=\"font-size:20px;\"> <a class=\"ProveItLink\" href=\"proof.ipynb\" style=\"text-decoration: none\">&#x22A2;&nbsp;</a><a class=\"ProveItLink\" href=\"../f15190afefb60d7b4f53d51942449141aea6f38a0/expr.ipynb\"><img src=\"data:image/png;base64,iVBORw0KGgoAAAANSUhEUgAAANcAAAAVBAMAAAAnc2Y5AAAAMFBMVEX////c3NwiIiJERESqqqqY\n",
       "mJh2dnZmZmYQEBDu7u4yMjJUVFTMzMyIiIi6uroAAAAs73DqAAAAAXRSTlMAQObYZgAAAl9JREFU\n",
       "SMe9ljFIG2EUx1+ai0kuyXkO4iCC1EHHIDp0c24RnQJ2kBsEB7UtBbVYoY0WQYeSIogokqA49ETR\n",
       "RYQg3O5goGN7cHSSgqKbdjB978td9PvyfZEs/cB38J6////u3bvvC8B/XUZJVblUFUbxL+I1AAQQ\n",
       "nKmqyUNp+QVA1MHrvAKQLH0kNFaBvqvM9BzFLiG7eoehQGUFIFmxctliUKqmi9/8q0shtchnN4tk\n",
       "lqE+WiLoiom46d/Fx8kKFKu5nUH/ukyhdUfIpshsnZQ+i+CymND8B0mwiNAfUJgZ1CuwpGbhAQx9\n",
       "4qQV6pshNIP/9aPFPTbcPl42Sm2KmFKzpncYxgVpAnipqpn702PQLsbEPuTfwBAvqw9j2AKpmUYP\n",
       "8ZI52Gwd+gAvFZiFc/F7Bn0FuHqWhnxJNIvRh2TJzQx6XxfizHmilPYwfCcMQstc3oOhHMzxss3I\n",
       "ao7cLHmN4VwwI4CXemT21iEIzaj8HmCJknO23WPbez67BhWzh+wTZo+ksMHbK5UG96KZR9AX0gLo\n",
       "BuMmzrcRJ+5VsXh7WreN0edspX2AlwqebAHgk0lQP9CN4AtMFFo52fAwuyzK2hihAXktPBkDOKnA\n",
       "DGfXZhAOcOgeIteglyxOlo23wkw6+pTkpQKzNtCyrP6bNaUpDdqpw3/UnRQnytP81/fhLyZ0ej0H\n",
       "4kfdKUoFZsnZosmgmKnarrLSbLDzSLarrGoHqUK1+2lwKmXUZ9UUda1mB8/UPyqnnj5iZCtO87HR\n",
       "AFCF2lXVkOoshAS1/qgBoAqFlD8LOlSFXzSVTgOAD/0DUrfKDaWRkqcAAAAASUVORK5CYII=\n",
       "\" style=\"display:inline;vertical-align:middle;\" /></a></span></td></tr>\n",
       "<tr><td>&nbsp;</td><td colspan=4 style=\"text-align:left\"><span style=\"font-size:20px;\"><a class=\"ProveItLink\" href=\"../bc97df5d11bc9ccb24649b0a71ed3c2b531aea9b0/expr.ipynb\"><img src=\"data:image/png;base64,iVBORw0KGgoAAAANSUhEUgAAAEUAAAAVBAMAAADiLT7tAAAAMFBMVEX///8yMjLMzMwQEBAiIiJm\n",
       "Zma6urqYmJiqqqp2dnZERETc3NyIiIhUVFTu7u4AAAAe+HC4AAAAAXRSTlMAQObYZgAAAQVJREFU\n",
       "KM9jYCAJ5GAVLYNQb89uAJJMF7CqYVUAUyv7C4Ak4wPsxguACL5vL0DUGRxOqAQRHB/AbDscah6D\n",
       "bXQAkWwCONRwNTAwsF/2DQCpnAAX5Z5zuycGzuMEyfIfADEZC+CiLxlKCkzgPA6QBfvBvmNOgItO\n",
       "YDjP0ATnsRkAiX4wkx+h5gHDLST3MIG8NAVdDQODDbqatWAmcwNCmPsTAx+qXRBNXAg3V/N8YDgH\n",
       "57ELgIIZ4UWIR75zGXAfQPE72z+IkcCQ7FoFBA/41sybeRzGAQYK0KE80AC2xh0XtTCHVOJQM4eB\n",
       "wfAJlI0jbfABramMhnkYexrj3YDM24NVzSEGBgDorz1wDkvJZwAAAABJRU5ErkJggg==\n",
       "\" style=\"display:inline;vertical-align:middle;\" /></a> : <a class=\"ProveItLink\" href=\"../469222a2696b10a371e6511150d4a29ed10d5cda0/expr.ipynb\"><img src=\"data:image/png;base64,iVBORw0KGgoAAAANSUhEUgAAAFIAAAAOBAMAAABOTlYkAAAAMFBMVEX////MzMyYmJgQEBBmZmYi\n",
       "IiLu7u4yMjKqqqp2dnZUVFTc3NxERESIiIi6uroAAABe5jFNAAAAAXRSTlMAQObYZgAAAL5JREFU\n",
       "KM9jYEAF2QzEgl5qqOS7s/vuSr67J7Cr3Hlrx5ULUDYnVy1D/jyGfqwq2SYwBTEHQDnvWA8w5F/A\n",
       "oZKTgfcDhwCUk5D/gKE/gcEdu5kMXAcQPKAyVwYGSxDTvbw8uLy8Clkt8wUEG2haCAPfbzbsft8v\n",
       "wJAAY1sysP1j4CrYhE0l04b7DLwwldz/GJg+MLBfmIBNZb/CYYa98PA0YOA8wMCxVgBFJccZIDjG\n",
       "kHMzc64CjEN2bL7FKQMAso46Juc5xF0AAAAASUVORK5CYII=\n",
       "\" style=\"display:inline;vertical-align:middle;\" /></a>, <a class=\"ProveItLink\" href=\"../../../__pv_it/530be409e3083890784cf1d7b28c9e67e90af9360/expr.ipynb\"><img src=\"data:image/png;base64,iVBORw0KGgoAAAANSUhEUgAAAAsAAAAJBAMAAAAWSsseAAAAKlBMVEX///9ERETMzMwQEBAiIiKY\n",
       "mJju7u5mZmaqqqpUVFSIiIh2dnbc3NwAAAA/vyDhAAAAAXRSTlMAQObYZgAAAENJREFUCNdjYDi9\n",
       "8sTyBQxsG1hdmR0YuBm4LnAoMLAxcAowgADzAjB1VoEhgYH1wFoGrgSG3gBhhlMMDImrs3cFMAAA\n",
       "t0YN+iTRa+sAAAAASUVORK5CYII=\n",
       "\" style=\"display:inline;vertical-align:middle;\" /></a> : <a class=\"ProveItLink\" href=\"../740c2287fe0f727beb5bcb53a581364f59e0e26e0/expr.ipynb\"><img src=\"data:image/png;base64,iVBORw0KGgoAAAANSUhEUgAAACwAAAAQBAMAAACfEoDkAAAAMFBMVEX///+6urpmZmaqqqru7u52\n",
       "dnYyMjKYmJjc3NwQEBCIiIhEREQiIiJUVFTMzMwAAACQ7J58AAAAAXRSTlMAQObYZgAAAGxJREFU\n",
       "GNNjYGBgeMuABraAydNoot5fQCTXbCjXA0L53gULt2dDha2gNBdYOACrMHsDVmEvBqzCAViFmR9g\n",
       "FXZlgAirpaWdTEvLhQnb3r378xY2BzLMZiBBOPa/Ooowk+Y3deQgsmLACqQQTAALqSQHK6OXNQAA\n",
       "AABJRU5ErkJggg==\n",
       "\" style=\"display:inline;vertical-align:middle;\" /></a>, <a class=\"ProveItLink\" href=\"../../../__pv_it/f8b9edf8e16034727f0aad55bb83e392c3db40d40/expr.ipynb\"><img src=\"data:image/png;base64,iVBORw0KGgoAAAANSUhEUgAAAAsAAAANBAMAAACN24kIAAAAMFBMVEX///+YmJhUVFQyMjIQEBBE\n",
       "REQiIiKqqqrMzMyIiIi6urrc3NxmZmZ2dnbu7u4AAADXeCicAAAAAXRSTlMAQObYZgAAAFhJREFU\n",
       "CNdj4LtzgWH/AwZerg8M8xkY2nkSGEIZGB6wTGD4ycDAUP+A4weQOszA6QCkbBhYFYDUIYb1AkDq\n",
       "6czzGxhA4BoQMyXwuQMptgusF4AU+8xTQBIAUqMVoSp/SLMAAAAASUVORK5CYII=\n",
       "\" style=\"display:inline;vertical-align:middle;\" /></a> : <a class=\"ProveItLink\" href=\"../../../number/numeral/__pv_it/aaeeaca7d86eb2b7cdc49e25c3108b81b52ec5400/expr.ipynb\"><img src=\"data:image/png;base64,iVBORw0KGgoAAAANSUhEUgAAAAkAAAAOBAMAAAAPuiubAAAAMFBMVEX///8iIiJERES6urqIiIjM\n",
       "zMxUVFRmZmYQEBCqqqp2dnbc3Nzu7u6YmJgyMjIAAADYGhJvAAAAAXRSTlMAQObYZgAAAE1JREFU\n",
       "CNdj4LvDvZKBgeP//wUMDHxlSxkYGNgYGBCki5sBAwPTAZ7PYG4GmFwfwKAIJA0YGhkY6jcwFDAw\n",
       "vGNg2M7A2c3AwFqetoEBAKS8EE1WXEJLAAAAAElFTkSuQmCC\n",
       "\" style=\"display:inline;vertical-align:middle;\" /></a></span></td></tr><tr><td>1</td><td>axiom</td><td></td><td><span style=\"font-size:20px;\"> <a class=\"ProveItLink\" href=\"../../../logic/equality/_axioms_.ipynb#substitution\" style=\"text-decoration: none\">&#x22A2;&nbsp;</a><a class=\"ProveItLink\" href=\"../398f54eae8bb3b5e6faf9c5a7a2ed97d055770700/expr.ipynb\"><img src=\"data:image/png;base64,iVBORw0KGgoAAAANSUhEUgAAAO8AAAAXBAMAAAARnwX+AAAAMFBMVEX///8QEBC6urrMzMxUVFRm\n",
       "ZmZERETc3NwyMjKqqqp2dnaIiIiYmJgiIiLu7u4AAAAU9Wx4AAAAAXRSTlMAQObYZgAAAvdJREFU\n",
       "SMfFVj1oFEEUfvef293bHKayECJYpIk5wcYqRyRGTBPUQgyiNonCgVuI8QfNIggWEq5QsLttDglB\n",
       "OTAemhRZJIVoc7UorE0QLXIYMIUiznszO7O3uznJQfDBm/123jfzZt+99+YA/pd4vS5MNqLYGPw3\n",
       "/63QFr586MHxURzMyQmJUc7EEEOcTInrIr4s9OCY1mQXf3es74shhjk21xvskbu0e786RW7zcFVi\n",
       "irUTZYY577n2sR85U9294wQlRy2AKazFKDPM+cLVeDY3d7eHSA/ReCGASa5GmWFOtsr158zMxx4c\n",
       "n8dh/cC4j28v33rFolmPEBXHrDsw74E2BaTHAWYxSOON6O5dquMRjb98bDrGpwSrkKeUuA9JytDJ\n",
       "0ZJtWAPI21wPgYl5llmZiu7eJen24ZDb8rEGejvPiuRghKg4xzItmGEFXeRaAN1lhkLc13Vx/AOH\n",
       "fNvHJqSJPBohKo6XaODnp9pcdbeACdfv9eBYaymcaMQ7DnBqXmpLOTZt7CnGtWk0L40ts3glmyL7\n",
       "uWM+SW2vKctiPyVoWeH5ErZfCnXmMwlfHeCcA72oQg2zY2h4R6fzTiRYon/vt46oL6bJk5gtDWkA\n",
       "qKivRGxYa6B7YpvOgpcceECnMGyu8IRiQXWQ5Ml6bxiayrGY7DAI/uagj2vuZbgDceWkOHAWRlyQ\n",
       "5SSOVOG0bRpPwWTwN96Wu/gGgGEcRjwfb6x8W8IcvR9xrDiwsXrRYr1ykCsYniwPSBVT/GUg4Bgn\n",
       "r1CopYEdl20BrwN4p5bZwXmuWqa/4g/ATWtUszX2gIFkWzmmSSG+ga4Do1wJXw1auAsFOemWiSm2\n",
       "JBTEVzEP7sab6RfsAY+btnJMk0J8A11ziYVW8IpE+RpJrQCn4GQdoHZl2upk+Gu7HLs5K92IrWNp\n",
       "YHIdjLolsZCJsOMgJ796mj3TFldxga+zSk3x15SVdYbiG4g04CECUfWxXtq54/icl0LF/xEMuiEO\n",
       "yY7mxDuWhr2W8t5t/RfNBeNeS11EOAAAAABJRU5ErkJggg==\n",
       "\" style=\"display:inline;vertical-align:middle;\" /></a></span></td></tr>\n",
       "<tr><td>&nbsp;</td><td colspan=4 style-\"text-align:left\"><a class=\"ProveItLink\" href=\"../../../logic/equality/_axioms_.ipynb#substitution\">proveit.logic.equality.substitution</a></td></tr><tr><td>2</td><td>theorem</td><td></td><td><span style=\"font-size:20px;\"> <a class=\"ProveItLink\" href=\"../../../number/numeral/deci/_proofs_/add_4_1.ipynb\" style=\"text-decoration: none\">&#x22A2;&nbsp;</a><a class=\"ProveItLink\" href=\"../4c9779cac6ecd6a779c4aa6c0773375681cd33dc0/expr.ipynb\"><img src=\"data:image/png;base64,iVBORw0KGgoAAAANSUhEUgAAAGEAAAAVBAMAAACkm51HAAAAMFBMVEX////c3NwiIiJERESqqqqY\n",
       "mJh2dnZmZmYQEBDu7u4yMjJUVFTMzMyIiIi6uroAAAAs73DqAAAAAXRSTlMAQObYZgAAATVJREFU\n",
       "OMtjYCAd8F3AIRGHS8dpOIEMLBkY2A+gC3JFMqYAqZUgtjKa3OSfQGIBug6O//8TGBh4QY7ibYaK\n",
       "TYRQs3eDdIRh2FGdA9I3AUiILoaK+UJpXpCOGeg6uMHkKxCRgFUHswNWHWVAzCqAVQdbAbqOu7cf\n",
       "MDAsBbLmMmDVwQL2OvsqMNgAsnQC5z8Ghj6Qo7Dr4GvAjIsdDAxATSwHsOvg+YCpI/8ASMc0BoiO\n",
       "qlWrNFatWo1bhxFQxwOGFgYG7927f+zF6Sp2JTAwADKbGBjqBRhMwSqasbmKFT3SgWG3ioEhHbcO\n",
       "jNAVZ2BpZGB4BGJm/y9F0cFe8QsowPUATQdP+W4BYCoRQBbzRebMwJ7YWROQeW+RObk48sdKXBmH\n",
       "cwEOCWlcOrgFcEgw4sq1d7ALAwCbklYNqRxF3gAAAABJRU5ErkJggg==\n",
       "\" style=\"display:inline;vertical-align:middle;\" /></a></span></td></tr>\n",
       "<tr><td>&nbsp;</td><td colspan=4 style-\"text-align:left\"><a class=\"ProveItLink\" href=\"../../../number/numeral/deci/_proofs_/add_4_1.ipynb\">proveit.number.numeral.deci.add_4_1</a></td></tr></table>"
      ],
      "text/plain": [
       "<proveit._core_.proof._ShowProof at 0x7fe03fb937f0>"
      ]
     },
     "execution_count": 1,
     "metadata": {},
     "output_type": "execute_result"
    }
   ],
   "source": [
    "import proveit\n",
    "%show_proof"
   ]
  },
  {
   "cell_type": "code",
   "execution_count": null,
   "metadata": {},
   "outputs": [],
   "source": []
  }
 ],
 "metadata": {
  "kernelspec": {
   "display_name": "Python 3",
   "language": "python",
   "name": "python3"
  }
 },
 "nbformat": 4,
 "nbformat_minor": 0
}
