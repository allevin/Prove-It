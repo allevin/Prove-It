{
 "cells": [
  {
   "cell_type": "markdown",
   "metadata": {},
   "source": [
    "Expression of type <a class=\"ProveItLink\" href=\"../../../../../doc/html/api/proveit.ExprTuple.html\">ExprTuple</a>\n",
    "=======================\n",
    "# from context <a class=\"ProveItLink\" href=\"../../_context_.ipynb\">proveit.iteration</a>"
   ]
  },
  {
   "cell_type": "code",
   "execution_count": 1,
   "metadata": {},
   "outputs": [],
   "source": [
    "# import Expression classes needed to build the expression\n",
    "from proveit import ExprTuple\n",
    "from proveit._common_ import j\n",
    "from proveit.number import Add, one"
   ]
  },
  {
   "cell_type": "code",
   "execution_count": 2,
   "metadata": {},
   "outputs": [
    {
     "data": {
      "text/html": [
       "<strong id=\"expr\">expr:</strong> <a class=\"ProveItLink\" href=\"expr.ipynb\"><img src=\"data:image/png;base64,iVBORw0KGgoAAAANSUhEUgAAAG8AAAAVBAMAAAC6Uq30AAAAMFBMVEX////c3NwiIiJERESqqqqY\n",
       "mJh2dnZmZmYQEBDu7u4yMjJUVFTMzMyIiIi6uroAAAAs73DqAAAAAXRSTlMAQObYZgAAAURJREFU\n",
       "OMtjYCAb8F0gXU8ciDgNxMwTMOTiBdAZMGDJwMB+AEivZGDgtMfUGI3BgILJP4HEAgYG3gsMnLv3\n",
       "wzROxOk6TqjFs3eDNIYxMHCA9NyHafTFqZEFFhS8II0zGBheMZCjkdmBoQyrRs67lmgMVI1sBQxL\n",
       "sWpkY1BFY6BqZFnA0IdV402Gr2gMVI18DQz/sGoU4PuIxkDVyPMBWWPVqlUaq1athjhRAeZoEIN9\n",
       "1apFXatWbUDW2II9VLkK0BgYTjXFrnG+AwMnjIFFI+sChnTsGv0nMMxXgDKwR8cjIFXevzwATWMR\n",
       "MHV8hDJQNLJX/CoFeuABAwdK4odrVAfihzAGio1gAExyrAnIAm8h1EPGP0AyAMbAzLa5kGyFDni+\n",
       "MxeANUIZmFkFmK0YpLGIm5WCQgHGwATcIP8xklF03GFgAACQ7W9nuLGOdwAAAABJRU5ErkJggg==\n",
       "\" style=\"display:inline;vertical-align:middle;\" /></a><br>"
      ],
      "text/plain": [
       "expr: (1 + j , j + 1)"
      ]
     },
     "execution_count": 2,
     "metadata": {},
     "output_type": "execute_result"
    }
   ],
   "source": [
    "# build up the expression from sub-expressions\n",
    "expr = ExprTuple(Add(one, j), Add(j, one))"
   ]
  },
  {
   "cell_type": "code",
   "execution_count": 3,
   "metadata": {},
   "outputs": [
    {
     "name": "stdout",
     "output_type": "stream",
     "text": [
      "Passed sanity check: built 'expr' is the same as the stored Expression.\n"
     ]
    }
   ],
   "source": [
    "# check that the built expression is the same as the stored expression\n",
    "%check_expr"
   ]
  },
  {
   "cell_type": "code",
   "execution_count": 4,
   "metadata": {},
   "outputs": [
    {
     "data": {
      "text/html": [
       "<table><tr><th>&nbsp;</th><th>core type</th><th>sub-expressions</th><th>expression</th></tr>\n",
       "<tr><td>0</td><td>ExprTuple</td><td>1, 2</td><td><a class=\"ProveItLink\" href=\"expr.ipynb\"><img src=\"data:image/png;base64,iVBORw0KGgoAAAANSUhEUgAAAG8AAAAVBAMAAAC6Uq30AAAAMFBMVEX////c3NwiIiJERESqqqqY\n",
       "mJh2dnZmZmYQEBDu7u4yMjJUVFTMzMyIiIi6uroAAAAs73DqAAAAAXRSTlMAQObYZgAAAURJREFU\n",
       "OMtjYCAb8F0gXU8ciDgNxMwTMOTiBdAZMGDJwMB+AEivZGDgtMfUGI3BgILJP4HEAgYG3gsMnLv3\n",
       "wzROxOk6TqjFs3eDNIYxMHCA9NyHafTFqZEFFhS8II0zGBheMZCjkdmBoQyrRs67lmgMVI1sBQxL\n",
       "sWpkY1BFY6BqZFnA0IdV402Gr2gMVI18DQz/sGoU4PuIxkDVyPMBWWPVqlUaq1athjhRAeZoEIN9\n",
       "1apFXatWbUDW2II9VLkK0BgYTjXFrnG+AwMnjIFFI+sChnTsGv0nMMxXgDKwR8cjIFXevzwATWMR\n",
       "MHV8hDJQNLJX/CoFeuABAwdK4odrVAfihzAGio1gAExyrAnIAm8h1EPGP0AyAMbAzLa5kGyFDni+\n",
       "MxeANUIZmFkFmK0YpLGIm5WCQgHGwATcIP8xklF03GFgAACQ7W9nuLGOdwAAAABJRU5ErkJggg==\n",
       "\" style=\"display:inline;vertical-align:middle;\" /></a></td></tr>\n",
       "<tr><td>1</td><td>Operation</td><td>operator:&nbsp;4<br>operands:&nbsp;3<br></td><td><a class=\"ProveItLink\" href=\"../4d3851db86b25034f4d7987f02d94407317e6c2f0/expr.ipynb\"><img src=\"data:image/png;base64,iVBORw0KGgoAAAANSUhEUgAAACwAAAASBAMAAADS2iHvAAAAMFBMVEX////MzMx2dna6uroiIiKq\n",
       "qqrc3NyYmJgyMjIQEBBmZmaIiIhUVFTu7u5EREQAAACN3imBAAAAAXRSTlMAQObYZgAAAHtJREFU\n",
       "GNNjYGB4y4AO2L8xMNz7iyl8gOHOGZgwbwKyFDdMmHUDWcK3913AJqzAUoBFmPsCPzZhNgb7BJgw\n",
       "V0dHy4yOjgNgCRXsLunCKsz7FaswK1CEa+WP5WjCXA7I/oILsyxAFmaGCDMn5AswYAL5Ba+wiDLc\n",
       "0wL6EQCGXC1gWFqCRwAAAABJRU5ErkJggg==\n",
       "\" style=\"display:inline;vertical-align:middle;\" /></a></td></tr>\n",
       "<tr><td>2</td><td>Operation</td><td>operator:&nbsp;4<br>operands:&nbsp;5<br></td><td><a class=\"ProveItLink\" href=\"../cdbd80afd2c6c46686a681eba53731dfe31233aa0/expr.ipynb\"><img src=\"data:image/png;base64,iVBORw0KGgoAAAANSUhEUgAAAC0AAAASBAMAAAA9GErRAAAAMFBMVEX///8QEBDMzMyqqqpmZmYy\n",
       "MjK6uroiIiJ2dnZERESIiIju7u5UVFTc3NyYmJgAAACtHSfyAAAAAXRSTlMAQObYZgAAAHxJREFU\n",
       "GNNjYGBg4PvLgAo4N4ApvgOowtzzN6Dw90KFz5xHFbeCMdbjFd+1cgNW8Qb2B9jEuTbwYxXnZci/\n",
       "gN3edhDhGhpaGBoagywegt093J+xizP/xi7OUoAm7iIfAnIhuwO6ehBgu3BfAcrMQhbXd5jCgA3s\n",
       "bHmATRgAoIYqkRdm8BoAAAAASUVORK5CYII=\n",
       "\" style=\"display:inline;vertical-align:middle;\" /></a></td></tr>\n",
       "<tr><td>3</td><td>ExprTuple</td><td>7, 6</td><td><a class=\"ProveItLink\" href=\"../f213646c4260e126c48fd781da597d88dd03b64d0/expr.ipynb\"><img src=\"data:image/png;base64,iVBORw0KGgoAAAANSUhEUgAAACkAAAAVBAMAAAAp9toTAAAAMFBMVEX////c3NwiIiJERESqqqqY\n",
       "mJh2dnZmZmYQEBDu7u4yMjJUVFTMzMyIiIi6uroAAAAs73DqAAAAAXRSTlMAQObYZgAAAOJJREFU\n",
       "GNNjYMAO+C6gCcSBiNNAzDwBLhYvwH4ASK1kYOC0R4hGMzAsYGDgvcDAuXv/BGQjwhgYOEAC91FE\n",
       "ZzAwvGLAEGV2YChDEeW8a8nAwFbAsBRFlI1BlYGBZQFDH4roTYavQB80MPxDERXg+8jAwPMBTZSB\n",
       "TQEs2oIqylUANsEUJgqRmO/AwMC6gCEdKsr5CSzqPwHsskdAZnn/8gDOfgGQaBHIlAcMHAKwEAUz\n",
       "1CE+Zk2AirIC8UPGP0AyFxKSMFGe78xAJ3ACQ5JBGioKjBJOs1IggxtkFCN6DN1hYAAAH1M7JZoR\n",
       "oFMAAAAASUVORK5CYII=\n",
       "\" style=\"display:inline;vertical-align:middle;\" /></a></td></tr>\n",
       "<tr><td>4</td><td>Literal</td><td></td><td><a class=\"ProveItLink\" href=\"../../../number/addition/__pv_it/3e6688136fa3c7aefbebe51301b7c3ebf0b69c440/expr.ipynb\"><img src=\"data:image/png;base64,iVBORw0KGgoAAAANSUhEUgAAAA4AAAAOBAMAAADtZjDiAAAAJFBMVEX///+6urpUVFQQEBAiIiIy\n",
       "MjJmZmaIiIiqqqrc3Nzu7u4AAACgHpL+AAAAAXRSTlMAQObYZgAAAB5JREFUCNdjYGBgWMkAAe2k\n",
       "0Kmhoc6hoUGk6BMHYgAHOwjcado9fwAAAABJRU5ErkJggg==\n",
       "\" style=\"display:inline;vertical-align:middle;\" /></a></td></tr>\n",
       "<tr><td>5</td><td>ExprTuple</td><td>6, 7</td><td><a class=\"ProveItLink\" href=\"../f3942352b5129835bdbb7296106bb14341010c620/expr.ipynb\"><img src=\"data:image/png;base64,iVBORw0KGgoAAAANSUhEUgAAACcAAAAVBAMAAAA3P+qgAAAAMFBMVEX////c3NwiIiJERESqqqqY\n",
       "mJh2dnZmZmYQEBDu7u4yMjJUVFTMzMyIiIi6uroAAAAs73DqAAAAAXRSTlMAQObYZgAAANxJREFU\n",
       "GNNjYMAK+C6g8uNAxGkQES8AEbFkYGA/AKRXgjjRELHJP4HEAgYGXiTds3eDBMMYGDgmIJnHCxKc\n",
       "wcDwigFdkNmBoQxIcd61RBJkK2BYCqIYVJEEWRYw9AGpmwxfkQT5Ghj+ASkBvo9IgjwfwIIMbAqo\n",
       "gi0gDlcBqnZTEGe+A8MEuCDrAoZ0EMd/AucnZCc9AnGKGDj7gUHCXvGrFGjWAwYOUPioA00SgHkL\n",
       "6E3WBIaHjH+ANNyvuaCg4/nOXIAkyAkMOgZpTjOgQQzwEOQGmcOIFh13GBgAr9g3kilCIHkAAAAA\n",
       "SUVORK5CYII=\n",
       "\" style=\"display:inline;vertical-align:middle;\" /></a></td></tr>\n",
       "<tr><td>6</td><td>Variable</td><td></td><td><a class=\"ProveItLink\" href=\"../../../__pv_it/612356038763a16ceac85a062629d016c986635c0/expr.ipynb\"><img src=\"data:image/png;base64,iVBORw0KGgoAAAANSUhEUgAAAAoAAAASBAMAAACQmVJ4AAAALVBMVEX////MzMyqqqpmZmYyMjK6\n",
       "uroiIiJ2dnZERESIiIju7u5UVFTc3NyYmJgAAAAeP2GyAAAAAXRSTlMAQObYZgAAAE1JREFUCNdj\n",
       "YGBg4H3DACI3MGADK2csAJIFbBcYGDgX8AFJHoa4AyCJMrC0M4jgegQimV6BSOYEEMlmwMDAeuCc\n",
       "AAODnEEzkL+iGKgTAMbaDxjCuhcwAAAAAElFTkSuQmCC\n",
       "\" style=\"display:inline;vertical-align:middle;\" /></a></td></tr>\n",
       "<tr><td>7</td><td>Literal</td><td></td><td><a class=\"ProveItLink\" href=\"../../../number/numeral/__pv_it/9be8badea4c35b9724062cecc501d17a3158d1d20/expr.ipynb\"><img src=\"data:image/png;base64,iVBORw0KGgoAAAANSUhEUgAAAAgAAAAPBAMAAAArJJMAAAAAHlBMVEX///+YmJgyMjIQEBBmZmaI\n",
       "iIhUVFTu7u5EREQAAAAw+MI4AAAAAXRSTlMAQObYZgAAACFJREFUCNdjYGBoZ2BgqJjOwFCWBiQY\n",
       "WEklWJwnOTKAAACjEQo8HvEr3AAAAABJRU5ErkJggg==\n",
       "\" style=\"display:inline;vertical-align:middle;\" /></a></td></tr>\n",
       "</table>\n"
      ],
      "text/plain": [
       "0. (1 + j , j + 1)\n",
       "   core type: ExprTuple\n",
       "   sub-expressions: 1, 2\n",
       "1. 1 + j\n",
       "   core type: Operation\n",
       "   operator: 4\n",
       "   operands: 3\n",
       "2. j + 1\n",
       "   core type: Operation\n",
       "   operator: 4\n",
       "   operands: 5\n",
       "3. (1 , j)\n",
       "   core type: ExprTuple\n",
       "   sub-expressions: 7, 6\n",
       "4. +\n",
       "   core type: Literal\n",
       "   sub-expressions: \n",
       "5. (j , 1)\n",
       "   core type: ExprTuple\n",
       "   sub-expressions: 6, 7\n",
       "6. j\n",
       "   core type: Variable\n",
       "   sub-expressions: \n",
       "7. 1\n",
       "   core type: Literal\n",
       "   sub-expressions: "
      ]
     },
     "execution_count": 4,
     "metadata": {},
     "output_type": "execute_result"
    }
   ],
   "source": [
    "# display the expression information\n",
    "expr.exprInfo()"
   ]
  },
  {
   "cell_type": "code",
   "execution_count": null,
   "metadata": {},
   "outputs": [],
   "source": []
  }
 ],
 "metadata": {
  "kernelspec": {
   "display_name": "Python 3",
   "language": "python",
   "name": "python3"
  }
 },
 "nbformat": 4,
 "nbformat_minor": 0
}
