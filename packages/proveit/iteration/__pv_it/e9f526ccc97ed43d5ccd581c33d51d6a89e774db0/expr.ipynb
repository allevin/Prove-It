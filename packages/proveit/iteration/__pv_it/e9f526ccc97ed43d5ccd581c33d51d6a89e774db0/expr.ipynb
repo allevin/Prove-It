{
 "cells": [
  {
   "cell_type": "markdown",
   "metadata": {},
   "source": [
    "Expression of type <a class=\"ProveItLink\" href=\"../../../../../doc/html/api/proveit.Indexed.html\">Indexed</a>\n",
    "=======================\n",
    "# from context <a class=\"ProveItLink\" href=\"../../_context_.ipynb\">proveit.iteration</a>"
   ]
  },
  {
   "cell_type": "code",
   "execution_count": 1,
   "metadata": {},
   "outputs": [],
   "source": [
    "# import Expression classes needed to build the expression\n",
    "from proveit import Indexed\n",
    "from proveit._common_ import q, xx"
   ]
  },
  {
   "cell_type": "code",
   "execution_count": 2,
   "metadata": {},
   "outputs": [
    {
     "data": {
      "text/html": [
       "<strong id=\"expr\">expr:</strong> <a class=\"ProveItLink\" href=\"expr.ipynb\"><img src=\"data:image/png;base64,iVBORw0KGgoAAAANSUhEUgAAABYAAAAQBAMAAADgw5IVAAAAMFBMVEX///9ERETc3Nx2dnaYmJiI\n",
       "iIgQEBCqqqpUVFS6urrMzMwiIiIyMjJmZmbu7u4AAAAYebpBAAAAAXRSTlMAQObYZgAAAINJREFU\n",
       "CNdjYHh7+tScHQxgwLedIX9ffACYzeHA8D/gvwOYzczA9F/BlQEKWL4xwAHHDxiL3YDtKwOrAoNu\n",
       "sDvD+5/6PxnUGPg2MX1i0Bdo+8l0koHjAlcCA+tuu7YzExj4J7AKwLS9f8AYAGOzPdBfAGNzXr2P\n",
       "sIXBB4l9GcHk/bMAAN1XI3K0EXLQAAAAAElFTkSuQmCC\n",
       "\" style=\"display:inline;vertical-align:middle;\" /></a><br>"
      ],
      "text/plain": [
       "expr: x_q"
      ]
     },
     "execution_count": 2,
     "metadata": {},
     "output_type": "execute_result"
    }
   ],
   "source": [
    "# build up the expression from sub-expressions\n",
    "expr = Indexed(xx, q, base = 1)"
   ]
  },
  {
   "cell_type": "code",
   "execution_count": 3,
   "metadata": {},
   "outputs": [
    {
     "name": "stdout",
     "output_type": "stream",
     "text": [
      "Passed sanity check: built 'expr' is the same as the stored Expression.\n"
     ]
    }
   ],
   "source": [
    "# check that the built expression is the same as the stored expression\n",
    "%check_expr"
   ]
  },
  {
   "cell_type": "code",
   "execution_count": 4,
   "metadata": {},
   "outputs": [
    {
     "data": {
      "text/html": [
       "<table><tr><th>&nbsp;</th><th>core type</th><th>sub-expressions</th><th>expression</th></tr>\n",
       "<tr><td>0</td><td>Indexed</td><td>var:&nbsp;1<br>index:&nbsp;2<br>base:&nbsp;\"1\"<br></td><td><a class=\"ProveItLink\" href=\"expr.ipynb\"><img src=\"data:image/png;base64,iVBORw0KGgoAAAANSUhEUgAAABYAAAAQBAMAAADgw5IVAAAAMFBMVEX///9ERETc3Nx2dnaYmJiI\n",
       "iIgQEBCqqqpUVFS6urrMzMwiIiIyMjJmZmbu7u4AAAAYebpBAAAAAXRSTlMAQObYZgAAAINJREFU\n",
       "CNdjYHh7+tScHQxgwLedIX9ffACYzeHA8D/gvwOYzczA9F/BlQEKWL4xwAHHDxiL3YDtKwOrAoNu\n",
       "sDvD+5/6PxnUGPg2MX1i0Bdo+8l0koHjAlcCA+tuu7YzExj4J7AKwLS9f8AYAGOzPdBfAGNzXr2P\n",
       "sIXBB4l9GcHk/bMAAN1XI3K0EXLQAAAAAElFTkSuQmCC\n",
       "\" style=\"display:inline;vertical-align:middle;\" /></a></td></tr>\n",
       "<tr><td>1</td><td>Variable</td><td></td><td><a class=\"ProveItLink\" href=\"../../../__pv_it/7a540faade4b95df4e25b93ec64921746d67c7a50/expr.ipynb\"><img src=\"data:image/png;base64,iVBORw0KGgoAAAANSUhEUgAAAA0AAAAKBAMAAACdwMn3AAAAMFBMVEX///9ERETc3Nx2dnaYmJiI\n",
       "iIgQEBCqqqpUVFS6urrMzMwiIiIyMjJmZmbu7u4AAAAYebpBAAAAAXRSTlMAQObYZgAAAFNJREFU\n",
       "CNdjYHh7+tScHQwMfNsZ8vfFBzBwODD8D/jvwMDMwPRfwZUBCFi+MYABxw8QyW7A9pWBVYHh/U/9\n",
       "nwxqDAz6Am0/mU4yMLDutms7M4EBAKnKFqcheKyGAAAAAElFTkSuQmCC\n",
       "\" style=\"display:inline;vertical-align:middle;\" /></a></td></tr>\n",
       "<tr><td>2</td><td>Variable</td><td></td><td><a class=\"ProveItLink\" href=\"../../../__pv_it/874553314f6d962851bc90a15187492caf5d49850/expr.ipynb\"><img src=\"data:image/png;base64,iVBORw0KGgoAAAANSUhEUgAAAAoAAAANBAMAAABiGeI2AAAAMFBMVEX///+qqqpEREQiIiIyMjKY\n",
       "mJjc3NxUVFTu7u4QEBC6urp2dnaIiIhmZmbMzMwAAADWMNsgAAAAAXRSTlMAQObYZgAAAFBJREFU\n",
       "CNdjYOC7s28XA8PKBvYfDGxfGXgdGNg/MDBvYOBXYOhfwJB/gCGegaFfgKGEgYElgPE3AwNbzdFf\n",
       "DEDA+gFEsjuASM4NQIJb35YBAC9REXkfHwxdAAAAAElFTkSuQmCC\n",
       "\" style=\"display:inline;vertical-align:middle;\" /></a></td></tr>\n",
       "</table>\n"
      ],
      "text/plain": [
       "0. x_q\n",
       "   core type: Indexed\n",
       "   var: 1\n",
       "   index: 2\n",
       "   base: \"1\"\n",
       "1. x\n",
       "   core type: Variable\n",
       "   sub-expressions: \n",
       "2. q\n",
       "   core type: Variable\n",
       "   sub-expressions: "
      ]
     },
     "execution_count": 4,
     "metadata": {},
     "output_type": "execute_result"
    }
   ],
   "source": [
    "# display the expression information\n",
    "expr.exprInfo()"
   ]
  },
  {
   "cell_type": "code",
   "execution_count": null,
   "metadata": {},
   "outputs": [],
   "source": []
  }
 ],
 "metadata": {
  "kernelspec": {
   "display_name": "Python 3",
   "language": "python",
   "name": "python3"
  }
 },
 "nbformat": 4,
 "nbformat_minor": 0
}
