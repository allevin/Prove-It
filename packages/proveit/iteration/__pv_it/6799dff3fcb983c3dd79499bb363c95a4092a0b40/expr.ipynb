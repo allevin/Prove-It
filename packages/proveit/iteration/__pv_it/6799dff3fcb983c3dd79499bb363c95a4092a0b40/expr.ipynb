{
 "cells": [
  {
   "cell_type": "markdown",
   "metadata": {},
   "source": [
    "Expression of type <a class=\"ProveItLink\" href=\"../../../../../doc/html/api/proveit.ExprTuple.html\">ExprTuple</a>\n",
    "=======================\n",
    "# from context <a class=\"ProveItLink\" href=\"../../_context_.ipynb\">proveit.iteration</a>"
   ]
  },
  {
   "cell_type": "code",
   "execution_count": 1,
   "metadata": {},
   "outputs": [],
   "source": [
    "# import Expression classes needed to build the expression\n",
    "from proveit import ExprTuple\n",
    "from proveit._common_ import j, k\n",
    "from proveit.logic import InSet, TRUE\n",
    "from proveit.number import Add, Naturals, Neg, one"
   ]
  },
  {
   "cell_type": "code",
   "execution_count": 2,
   "metadata": {},
   "outputs": [
    {
     "data": {
      "text/html": [
       "<strong id=\"expr\">expr:</strong> <a class=\"ProveItLink\" href=\"expr.ipynb\"><img src=\"data:image/png;base64,iVBORw0KGgoAAAANSUhEUgAAAPkAAAAVBAMAAAB251VaAAAAMFBMVEX////c3NwiIiJERESqqqqY\n",
       "mJh2dnZmZmYQEBDu7u4yMjJUVFTMzMyIiIi6uroAAAAs73DqAAAAAXRSTlMAQObYZgAAAo1JREFU\n",
       "SMfFlk1oE0EUx9+y2U2m+XDBW71IVFTQWpAKOZm7FHMQQUTNrfQgBKEqRahoTx7sqhdpDoaA1K6H\n",
       "9ioVDAharEJuoijGnrQgthKRSim+mdmveZuwKQR88ObNvv0nv53Hm9kF+L+Wa0rvp13sWbTiOlyy\n",
       "1LvVW5Ef6DbEaqAAkGyoKbZwfB6Sx/aLiyt5bvukaN51OE//Zo4m2Ek7VgMPNnGo0ccuvQTY5V++\n",
       "FiOKsk3pgd3zJm2fKqvCll5E6G2aqC5x+lmSTR9BRorQUZSypQc26jXEppdJeE/3hdIDjW9Znnro\n",
       "PvbHfF6UIb1mP4/QUbQG0qN0sxZPN2ud6XpRzN+c89b+dnHWpnQUXcXAnX0uEPpA2ZhqxdADjUo3\n",
       "K3yqFfzKN0Yzw5SOoscYuJtwgNAffR//WYyhBxqVnhA10a2AnmxdoHQU3cXA/QP8JvTT7+IrH2hU\n",
       "eu6maP+g6xrwLL1M6CjaxsDdym0Q+tRQF/qg2LBDIY1WF6mWT8+s8+k3nqy59Cp7Qugo8uhg7uXj\n",
       "pOMccpynfHq0epiHpOPU7zjOYse1u5rI2iV9Jbz2THk5Sp/GMC0aqKKunW1BW4upfEjTqfL3w3Q4\n",
       "o0crP4JhRDRQUaUb62zbjKGHNCrdkPUuhenmbgA7TEfRGIYx0UC2Sk8Pw0Y2hh7SdNpxzO8cnbfE\n",
       "JLBfZMetYlgVhz85bQZK8H5cpV+bmSup2z3QeJa8/ncCb8hDYPCGeyQu3MZxFtiM3IOv5K9bkMJr\n",
       "7nCQnnWBJXb8AnZPWjhVzyunYc5SRUZZ+Fdty0v+6PgJsDO73CVvUJF4w2b+6JU+fl2wWg90IdrD\n",
       "nZ2Y6Oe3TdrqcqNJRVpTej/tU4+if2m+0YdGs+CLAAAAAElFTkSuQmCC\n",
       "\" style=\"display:inline;vertical-align:middle;\" /></a><br>"
      ],
      "text/plain": [
       "expr: ((j + k + 1 - k - 1) in Naturals , TRUE)"
      ]
     },
     "execution_count": 2,
     "metadata": {},
     "output_type": "execute_result"
    }
   ],
   "source": [
    "# build up the expression from sub-expressions\n",
    "expr = ExprTuple(InSet(Add(j, k, one, Neg(k), Neg(one)), Naturals), TRUE)"
   ]
  },
  {
   "cell_type": "code",
   "execution_count": 3,
   "metadata": {},
   "outputs": [
    {
     "name": "stdout",
     "output_type": "stream",
     "text": [
      "Passed sanity check: built 'expr' is the same as the stored Expression.\n"
     ]
    }
   ],
   "source": [
    "# check that the built expression is the same as the stored expression\n",
    "%check_expr"
   ]
  },
  {
   "cell_type": "code",
   "execution_count": 4,
   "metadata": {},
   "outputs": [
    {
     "data": {
      "text/html": [
       "<table><tr><th>&nbsp;</th><th>core type</th><th>sub-expressions</th><th>expression</th></tr>\n",
       "<tr><td>0</td><td>ExprTuple</td><td>1, 2</td><td><a class=\"ProveItLink\" href=\"expr.ipynb\"><img src=\"data:image/png;base64,iVBORw0KGgoAAAANSUhEUgAAAPkAAAAVBAMAAAB251VaAAAAMFBMVEX////c3NwiIiJERESqqqqY\n",
       "mJh2dnZmZmYQEBDu7u4yMjJUVFTMzMyIiIi6uroAAAAs73DqAAAAAXRSTlMAQObYZgAAAo1JREFU\n",
       "SMfFlk1oE0EUx9+y2U2m+XDBW71IVFTQWpAKOZm7FHMQQUTNrfQgBKEqRahoTx7sqhdpDoaA1K6H\n",
       "9ioVDAharEJuoijGnrQgthKRSim+mdmveZuwKQR88ObNvv0nv53Hm9kF+L+Wa0rvp13sWbTiOlyy\n",
       "1LvVW5Ef6DbEaqAAkGyoKbZwfB6Sx/aLiyt5bvukaN51OE//Zo4m2Ek7VgMPNnGo0ccuvQTY5V++\n",
       "FiOKsk3pgd3zJm2fKqvCll5E6G2aqC5x+lmSTR9BRorQUZSypQc26jXEppdJeE/3hdIDjW9Znnro\n",
       "PvbHfF6UIb1mP4/QUbQG0qN0sxZPN2ud6XpRzN+c89b+dnHWpnQUXcXAnX0uEPpA2ZhqxdADjUo3\n",
       "K3yqFfzKN0Yzw5SOoscYuJtwgNAffR//WYyhBxqVnhA10a2AnmxdoHQU3cXA/QP8JvTT7+IrH2hU\n",
       "eu6maP+g6xrwLL1M6CjaxsDdym0Q+tRQF/qg2LBDIY1WF6mWT8+s8+k3nqy59Cp7Qugo8uhg7uXj\n",
       "pOMccpynfHq0epiHpOPU7zjOYse1u5rI2iV9Jbz2THk5Sp/GMC0aqKKunW1BW4upfEjTqfL3w3Q4\n",
       "o0crP4JhRDRQUaUb62zbjKGHNCrdkPUuhenmbgA7TEfRGIYx0UC2Sk8Pw0Y2hh7SdNpxzO8cnbfE\n",
       "JLBfZMetYlgVhz85bQZK8H5cpV+bmSup2z3QeJa8/ncCb8hDYPCGeyQu3MZxFtiM3IOv5K9bkMJr\n",
       "7nCQnnWBJXb8AnZPWjhVzyunYc5SRUZZ+Fdty0v+6PgJsDO73CVvUJF4w2b+6JU+fl2wWg90IdrD\n",
       "nZ2Y6Oe3TdrqcqNJRVpTej/tU4+if2m+0YdGs+CLAAAAAElFTkSuQmCC\n",
       "\" style=\"display:inline;vertical-align:middle;\" /></a></td></tr>\n",
       "<tr><td>1</td><td>Operation</td><td>operator:&nbsp;3<br>operands:&nbsp;4<br></td><td><a class=\"ProveItLink\" href=\"../2cdf902c1c651ab033d3106d8e411bbb99cb806d0/expr.ipynb\"><img src=\"data:image/png;base64,iVBORw0KGgoAAAANSUhEUgAAANEAAAAVBAMAAAAqbRZ+AAAAMFBMVEX////c3NwiIiJERESqqqqY\n",
       "mJh2dnZmZmYQEBDu7u4yMjJUVFTMzMyIiIi6uroAAAAs73DqAAAAAXRSTlMAQObYZgAAAldJREFU\n",
       "SMe9lU1oE0EUx9+abNLp5mPP9SIBUQ+WXirEg+5dxJwUEWw8SQWhFFpFxBbpyYOuCiINmBCoJeul\n",
       "1IvQoAHBg0HYm1QsRk9akKY1opUQnDe7G3dmd1iF4ByGt/+3+3773sybAfh/I2MPNt55qaeJ04TO\n",
       "aeTZvsB7MVMQSjeDwfIAyQYvLX47asL0jgFQw8dzwhfDU2IMclwkwXIAdH+XThVBHE+NAbQB0v7i\n",
       "ES+1rOFJd13P2osAqSMKpTUknRbU1cYGwDzAkD9A3MNu9dWTnvFBJGV2AzmlUXro/tu7XI6l97ym\n",
       "NZC0CWGkSxBNSlTCSTGnHq/PumK9SWpImkX8Rl4gPYYzvSjScFGda4WQEmyNlbwn1uP2SyQtoQ/2\n",
       "8yTSe/CoE0Uqf5ncMkJIcZZrrL+b63BDtSnpNrXX4TtPinft6OqdehNevcw824bwh6SZdaphkfTM\n",
       "Nk9K7rQkpJEcjlE059gMSpVJrT4p1UbzM4oVh0RWFl0SJLBRk5ZVvWVZK9Tcs77K4l6zrIOW9SQ8\n",
       "p8OlQ6E5OaSmLyd4laKkBX+jejmVG1lDj6ge6UJHkVfvnp+kGrR5x1lkgydNQLlVjCCpbdJLhJFU\n",
       "VjOt4CPBBUq6yBbX5ElPIavbESRtDLbTIN3lZNQTj+HKUPonfJgWOncJ0rMmT7pyZ7nAt1MB3k7y\n",
       "oOTVXzPU4eymkeuOuPmT5kMoaQjX44B4RkDwjPjr4Z5GcKKa404RtQgfla78rvr6z6TLMkct9SM2\n",
       "NcCbkFRknr3kyMwg71xNl3mUAd/u7yX6b3O/tcCAudNZAAAAAElFTkSuQmCC\n",
       "\" style=\"display:inline;vertical-align:middle;\" /></a></td></tr>\n",
       "<tr><td>2</td><td>Literal</td><td></td><td><a class=\"ProveItLink\" href=\"../../../logic/boolean/__pv_it/68a87cc3370287d726c7086ace789e680e4461c30/expr.ipynb\"><img src=\"data:image/png;base64,iVBORw0KGgoAAAANSUhEUgAAAA4AAAAOBAMAAADtZjDiAAAAFVBMVEX///92dnbMzMxEREQiIiJm\n",
       "ZmYAAABAT6GXAAAAAXRSTlMAQObYZgAAABhJREFUCNdjCHEBAWcGIFBlgABa0YpADAAxegPJJk4d\n",
       "XAAAAABJRU5ErkJggg==\n",
       "\" style=\"display:inline;vertical-align:middle;\" /></a></td></tr>\n",
       "<tr><td>3</td><td>Literal</td><td></td><td><a class=\"ProveItLink\" href=\"../../../logic/set_theory/membership/__pv_it/088cbc857536a28d4119ad9639a84270ccb0545d0/expr.ipynb\"><img src=\"data:image/png;base64,iVBORw0KGgoAAAANSUhEUgAAAAwAAAAMBAMAAACkW0HUAAAALVBMVEX///+qqqpmZmZUVFQQEBC6\n",
       "urpERETc3NyYmJjMzMwiIiIyMjKIiIju7u4AAACYsrA9AAAAAXRSTlMAQObYZgAAADxJREFUCNdj\n",
       "YOA9vWrVBgaG2b0MQMCeCyIZ2ArA1DUwyRCyahVIyWQI7xaEYm4AU7xLIdxqTQgtvGvVBgCkcQ7e\n",
       "geM/tQAAAABJRU5ErkJggg==\n",
       "\" style=\"display:inline;vertical-align:middle;\" /></a></td></tr>\n",
       "<tr><td>4</td><td>ExprTuple</td><td>5, 6</td><td><a class=\"ProveItLink\" href=\"../bbfda38e0d4e7161e3c154259ca3b560a85dc79d0/expr.ipynb\"><img src=\"data:image/png;base64,iVBORw0KGgoAAAANSUhEUgAAAL8AAAAVBAMAAADlQyK9AAAAMFBMVEX////c3NwiIiJERESqqqqY\n",
       "mJh2dnZmZmYQEBDu7u4yMjJUVFTMzMyIiIi6uroAAAAs73DqAAAAAXRSTlMAQObYZgAAAiBJREFU\n",
       "OMu1lc1LG0EYxp+YbOLk+6wXEUrroSUXC3rQ/QdET+1BqOlJFApB0JYeqojnulIQMWAWwUripehF\n",
       "UGqg0IsIeyuC0rU3BTHalNYSQuddN5CZzWYpmDnMzD47+/7mfeZjgZaXuNG62C+oOqRqLCm8YLtd\n",
       "jsF+TRKy886IfXfN6s9+DVM3aqjIH/KkjEoDwxn5UzYoA7DpiP/h1u70RlNACdCBmODQkt0mVElh\n",
       "ewcOQFkWsns1wHbxFJgDngHtwndDdnulyQq+y4D4rSODWE36nI8UCbACXKARYBLegKDuDtg/ZHkC\n",
       "+FXMUP6nfVK4j3he9QKE08qs6QYIGF8IEMxgg+aCByKAVZfXyl6A3PnEleoGwDvF4ICAjvf88Ri/\n",
       "RECgYnhbNHzUxCJEtH0OiM+BnEjGr8VwoRvTBdDRTeUJdWetGr51SzIlAPu0ygHRkgVA0DpXbwuF\n",
       "R4XCFu+1HW9rotIgg8fZniYZ4Gv0DrAgnCt7vrliQk16WMQqKPuaABQ1ZVnUawVURcAYcmbaA6CU\n",
       "WDXYAMBsAF5ygKJj3FovTQTsIJE0PACRFK5jDQA5snuAFlK3tukPejElLekGYjOaCHi9uDkiHoMR\n",
       "fJsQ44fe/J3GCt8wF3/47BkHhE20k9cPHXsG7opXOavr86tCSePMV6kJl47hl/8NqE/0FV3X0d/+\n",
       "zH3+ZeoA5BI62dPp+4xfv/AR8t/Xwl/mCfAPhEuptfMcbfIAAAAASUVORK5CYII=\n",
       "\" style=\"display:inline;vertical-align:middle;\" /></a></td></tr>\n",
       "<tr><td>5</td><td>Operation</td><td>operator:&nbsp;7<br>operands:&nbsp;8<br></td><td><a class=\"ProveItLink\" href=\"../f16664ef6779931585fa34bb4dad54b6cb9c46dc0/expr.ipynb\"><img src=\"data:image/png;base64,iVBORw0KGgoAAAANSUhEUgAAAJsAAAASBAMAAAC+8LGvAAAAMFBMVEX///8QEBDMzMyqqqpmZmYy\n",
       "MjK6uroiIiJ2dnZERESIiIju7u5UVFTc3NyYmJgAAACtHSfyAAAAAXRSTlMAQObYZgAAAU5JREFU\n",
       "OMtjYGBg4PvLgAL2iDNggNlofO6DBRhqODeAKb4DaOIhGCp3/kYXYXVAF+GevwGVfwHK+IwusucM\n",
       "hnH8BuimnTmPahzzAgjN9htdhIELw7j8DRheWI/dOI4AIoxrZcBh3K6VG1A1szbw+ScQMi6C4ck3\n",
       "rMY1sD9ANW5/dne+AQHjuL/t2PYZm3FcG/jRjLPXIuxZ5k8LsHuWlyH/Aqpm/zIcxvGGl4MAKCBY\n",
       "vkOC4ypYpAw5KtpBBEtoaLhoaCgoCVbtqUYTwXQd++rjG3DEbAiqW7g/MXzmJeTZ/Qr8BhewGsf9\n",
       "GdU4vg/c3zgIGfeeYX9CA1bjmH+jGsczgeEvFyHjTjLwX1iA1TiWAlTjWB8wLOlGNY7F8asfqtY4\n",
       "Bi4PtMBzkQ8BJRF2B/R4xMgnxAO2C/cVYEwMzWwkG6fvMIWBimBnywMqmgYAUGB5q5zgNOoAAAAA\n",
       "SUVORK5CYII=\n",
       "\" style=\"display:inline;vertical-align:middle;\" /></a></td></tr>\n",
       "<tr><td>6</td><td>Literal</td><td></td><td><a class=\"ProveItLink\" href=\"../../../number/sets/integer/__pv_it/e5d9bd86b06b357eee742ad868997123619e09700/expr.ipynb\"><img src=\"data:image/png;base64,iVBORw0KGgoAAAANSUhEUgAAAA8AAAAOBAMAAAACpFvcAAAAMFBMVEX////c3Nx2dna6uroQEBCI\n",
       "iIhUVFTMzMyYmJiqqqoiIiJmZmZEREQyMjLu7u4AAADjlg78AAAAAXRSTlMAQObYZgAAAGBJREFU\n",
       "CNdjePvn7AOGXb8mMDCcYD/AwPCBgYEhqyCUgcEByEi+x1YAZqSX8d2DMDgDaiAMhs0cARAG24N0\n",
       "CIMv4S2EwVDEDmVwTDgAYTAoghiHgZj7AgOD7Rcgj+8CAwA9oh2B0HK+MAAAAABJRU5ErkJggg==\n",
       "\" style=\"display:inline;vertical-align:middle;\" /></a></td></tr>\n",
       "<tr><td>7</td><td>Literal</td><td></td><td><a class=\"ProveItLink\" href=\"../../../number/addition/__pv_it/3e6688136fa3c7aefbebe51301b7c3ebf0b69c440/expr.ipynb\"><img src=\"data:image/png;base64,iVBORw0KGgoAAAANSUhEUgAAAA4AAAAOBAMAAADtZjDiAAAAJFBMVEX///+6urpUVFQQEBAiIiIy\n",
       "MjJmZmaIiIiqqqrc3Nzu7u4AAACgHpL+AAAAAXRSTlMAQObYZgAAAB5JREFUCNdjYGBgWMkAAe2k\n",
       "0Kmhoc6hoUGk6BMHYgAHOwjcado9fwAAAABJRU5ErkJggg==\n",
       "\" style=\"display:inline;vertical-align:middle;\" /></a></td></tr>\n",
       "<tr><td>8</td><td>ExprTuple</td><td>9, 12, 14, 10, 11</td><td><a class=\"ProveItLink\" href=\"../15a212d3fc57795b445c45654bb9a8242928696f0/expr.ipynb\"><img src=\"data:image/png;base64,iVBORw0KGgoAAAANSUhEUgAAAIUAAAAVBAMAAACakjBMAAAAMFBMVEX////c3NwiIiJERESqqqqY\n",
       "mJh2dnZmZmYQEBDu7u4yMjJUVFTMzMyIiIi6uroAAAAs73DqAAAAAXRSTlMAQObYZgAAAaZJREFU\n",
       "OMutlL9LAzEUx99R79r0x3GzLiKIOFhcFDrZ/8BOLoJ2kw5CEapuFXG2BRehQw9Bin9Dh7qL4CaC\n",
       "Yuumi61UpFKKeUmbvtx5izVwee++39yH5F0SgP9o9t1En29hd4PdtiOEyrHyQmXPYOKplgIIX/N4\n",
       "hS+bQ7E2ctmalzH2VDvr8c4FSGhL6Y4Q9YaP0fUKlToyNgAidKzdU+mzl0G8UUugdA7wRkXLDWYQ\n",
       "T2OE0rCPM39KSTGaNYvNAAbxNIaVh0sMMC/F6mvuPR3AIJ7GmHLhlIcH+JTi+m3wWoinMewjGPDg\n",
       "2B0pFpM+hnExh61JvGmhJIeMeFswwJqV7lJlMXAexNPmwRknol55uSv60DUCGNTzrmVF1CsNjAez\n",
       "zQaWyCSDYqSnSZJhurAj6lWGKl9ObBk6CZEJBvsg46WnSerfvuDLHt9uvKzRDNznRAYHpVqGlRyy\n",
       "PYSnSeHD7wI3mhBBcYE/LeWpzHb8N4VP4nvdzELL6PM8o1SVmf7T7pd28ezHv0L5vzMYHqMZtlrA\n",
       "+owrpbJfbjifFMPFGZPdhY8AP/bAfyOoUOs/AAAAAElFTkSuQmCC\n",
       "\" style=\"display:inline;vertical-align:middle;\" /></a></td></tr>\n",
       "<tr><td>9</td><td>Variable</td><td></td><td><a class=\"ProveItLink\" href=\"../../../__pv_it/612356038763a16ceac85a062629d016c986635c0/expr.ipynb\"><img src=\"data:image/png;base64,iVBORw0KGgoAAAANSUhEUgAAAAoAAAASBAMAAACQmVJ4AAAALVBMVEX////MzMyqqqpmZmYyMjK6\n",
       "uroiIiJ2dnZERESIiIju7u5UVFTc3NyYmJgAAAAeP2GyAAAAAXRSTlMAQObYZgAAAE1JREFUCNdj\n",
       "YGBg4H3DACI3MGADK2csAJIFbBcYGDgX8AFJHoa4AyCJMrC0M4jgegQimV6BSOYEEMlmwMDAeuCc\n",
       "AAODnEEzkL+iGKgTAMbaDxjCuhcwAAAAAElFTkSuQmCC\n",
       "\" style=\"display:inline;vertical-align:middle;\" /></a></td></tr>\n",
       "<tr><td>10</td><td>Operation</td><td>operator:&nbsp;13<br>operand:&nbsp;12<br></td><td><a class=\"ProveItLink\" href=\"../cc46d6b1804230958c60a82a348817a9551300580/expr.ipynb\"><img src=\"data:image/png;base64,iVBORw0KGgoAAAANSUhEUgAAABoAAAAOBAMAAADDIxFwAAAAMFBMVEX///9ERESIiIjMzMyYmJh2\n",
       "dnaqqqpmZmYQEBBUVFTu7u66uroiIiIyMjLc3NwAAAAyw82KAAAAAXRSTlMAQObYZgAAAF5JREFU\n",
       "CNdjYIACrhkHGJAAbwEyjz8Bmbd/ATIvFpnDcJXB/Tecw/V76epvcB7bZwUg+fYMCJxmYP+zAUkb\n",
       "j9YcJEPXG/AnPIDz/BnWbwiA8yYy8D9QgPOuMDCVLgAAgnkbFg85c1sAAAAASUVORK5CYII=\n",
       "\" style=\"display:inline;vertical-align:middle;\" /></a></td></tr>\n",
       "<tr><td>11</td><td>Operation</td><td>operator:&nbsp;13<br>operand:&nbsp;14<br></td><td><a class=\"ProveItLink\" href=\"../27bb768acc4707a63c4de5a0b22e13dfe76b5c980/expr.ipynb\"><img src=\"data:image/png;base64,iVBORw0KGgoAAAANSUhEUgAAABgAAAAPBAMAAAAMihLoAAAAJ1BMVEX///+YmJgQEBBmZmaIiIhU\n",
       "VFTu7u5ERES6uroiIiIyMjLc3NwAAAAKCT4sAAAAAXRSTlMAQObYZgAAACpJREFUCNdjYICDMgST\n",
       "If0Ygp0aisRhYCGTs2smCMwg3wAYYDY6ZciADABBShCHMIgXsAAAAABJRU5ErkJggg==\n",
       "\" style=\"display:inline;vertical-align:middle;\" /></a></td></tr>\n",
       "<tr><td>12</td><td>Variable</td><td></td><td><a class=\"ProveItLink\" href=\"../../../__pv_it/1a7356cf6caf039e07a5436d90e972cbb5e92b0a0/expr.ipynb\"><img src=\"data:image/png;base64,iVBORw0KGgoAAAANSUhEUgAAAAoAAAAOBAMAAADkjZCYAAAAMFBMVEX///9ERETc3NyIiIjMzMyY\n",
       "mJh2dna6urqqqqpmZmYyMjIiIiIQEBBUVFTu7u4AAAD6+w4kAAAAAXRSTlMAQObYZgAAAFBJREFU\n",
       "CNdj4LuzgQEIuCaASP4GEFn/AERmgQiGZQyR3xn4vj97/oOB44sBUIDzdwGQ5La7DVT03oG/QYEh\n",
       "nuF9QQLDRQZ+BQOGpQzM0x4AAD+VFjuIiDKbAAAAAElFTkSuQmCC\n",
       "\" style=\"display:inline;vertical-align:middle;\" /></a></td></tr>\n",
       "<tr><td>13</td><td>Literal</td><td></td><td><a class=\"ProveItLink\" href=\"../../../number/negation/__pv_it/3fc7a08bb9735faa20ef8e175f6ea95511acc9c70/expr.ipynb\"><img src=\"data:image/png;base64,iVBORw0KGgoAAAANSUhEUgAAAA4AAAACBAMAAACapPCZAAAAElBMVEX///+6uroiIiIyMjLc3NwA\n",
       "AAA6l9OrAAAAAXRSTlMAQObYZgAAABBJREFUCNdjcFYCAUUGKAAADR4BD8/TF5gAAAAASUVORK5C\n",
       "YII=\n",
       "\" style=\"display:inline;vertical-align:middle;\" /></a></td></tr>\n",
       "<tr><td>14</td><td>Literal</td><td></td><td><a class=\"ProveItLink\" href=\"../../../number/numeral/__pv_it/9be8badea4c35b9724062cecc501d17a3158d1d20/expr.ipynb\"><img src=\"data:image/png;base64,iVBORw0KGgoAAAANSUhEUgAAAAgAAAAPBAMAAAArJJMAAAAAHlBMVEX///+YmJgyMjIQEBBmZmaI\n",
       "iIhUVFTu7u5EREQAAAAw+MI4AAAAAXRSTlMAQObYZgAAACFJREFUCNdjYGBoZ2BgqJjOwFCWBiQY\n",
       "WEklWJwnOTKAAACjEQo8HvEr3AAAAABJRU5ErkJggg==\n",
       "\" style=\"display:inline;vertical-align:middle;\" /></a></td></tr>\n",
       "</table>\n"
      ],
      "text/plain": [
       "0. ((j + k + 1 - k - 1) in Naturals , TRUE)\n",
       "   core type: ExprTuple\n",
       "   sub-expressions: 1, 2\n",
       "1. (j + k + 1 - k - 1) in Naturals\n",
       "   core type: Operation\n",
       "   operator: 3\n",
       "   operands: 4\n",
       "2. TRUE\n",
       "   core type: Literal\n",
       "   sub-expressions: \n",
       "3. in\n",
       "   core type: Literal\n",
       "   sub-expressions: \n",
       "4. (j + k + 1 - k - 1 , Naturals)\n",
       "   core type: ExprTuple\n",
       "   sub-expressions: 5, 6\n",
       "5. j + k + 1 - k - 1\n",
       "   core type: Operation\n",
       "   operator: 7\n",
       "   operands: 8\n",
       "6. Naturals\n",
       "   core type: Literal\n",
       "   sub-expressions: \n",
       "7. +\n",
       "   core type: Literal\n",
       "   sub-expressions: \n",
       "8. (j , k , 1 , -k , -1)\n",
       "   core type: ExprTuple\n",
       "   sub-expressions: 9, 12, 14, 10, 11\n",
       "9. j\n",
       "   core type: Variable\n",
       "   sub-expressions: \n",
       "10. -k\n",
       "    core type: Operation\n",
       "    operator: 13\n",
       "    operand: 12\n",
       "11. -1\n",
       "    core type: Operation\n",
       "    operator: 13\n",
       "    operand: 14\n",
       "12. k\n",
       "    core type: Variable\n",
       "    sub-expressions: \n",
       "13. -\n",
       "    core type: Literal\n",
       "    sub-expressions: \n",
       "14. 1\n",
       "    core type: Literal\n",
       "    sub-expressions: "
      ]
     },
     "execution_count": 4,
     "metadata": {},
     "output_type": "execute_result"
    }
   ],
   "source": [
    "# display the expression information\n",
    "expr.exprInfo()"
   ]
  },
  {
   "cell_type": "code",
   "execution_count": null,
   "metadata": {},
   "outputs": [],
   "source": []
  }
 ],
 "metadata": {
  "kernelspec": {
   "display_name": "Python 3",
   "language": "python",
   "name": "python3"
  }
 },
 "nbformat": 4,
 "nbformat_minor": 0
}
