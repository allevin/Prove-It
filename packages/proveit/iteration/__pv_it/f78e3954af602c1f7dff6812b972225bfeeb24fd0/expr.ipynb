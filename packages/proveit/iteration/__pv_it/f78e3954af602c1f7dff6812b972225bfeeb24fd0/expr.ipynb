{
 "cells": [
  {
   "cell_type": "markdown",
   "metadata": {},
   "source": [
    "Expression of type <a class=\"ProveItLink\" href=\"../../../../../doc/html/api/proveit.logic.Equals.html\">Equals</a>\n",
    "=======================\n",
    "# from context <a class=\"ProveItLink\" href=\"../../_context_.ipynb\">proveit.iteration</a>"
   ]
  },
  {
   "cell_type": "code",
   "execution_count": 1,
   "metadata": {},
   "outputs": [],
   "source": [
    "# import Expression classes needed to build the expression\n",
    "from proveit._common_ import j, k\n",
    "from proveit.logic import Equals, InSet, TRUE\n",
    "from proveit.number import Add, Naturals, Neg"
   ]
  },
  {
   "cell_type": "code",
   "execution_count": 2,
   "metadata": {},
   "outputs": [
    {
     "data": {
      "text/html": [
       "<strong id=\"expr\">expr:</strong> <a class=\"ProveItLink\" href=\"expr.ipynb\"><img src=\"data:image/png;base64,iVBORw0KGgoAAAANSUhEUgAAAKAAAAAVBAMAAAAz5vjYAAAAMFBMVEX////c3NwiIiJERESqqqqY\n",
       "mJh2dnZmZmYQEBDu7u4yMjJUVFTMzMyIiIi6uroAAAAs73DqAAAAAXRSTlMAQObYZgAAAfBJREFU\n",
       "OMutlDtIw1AUhk8faU3T1s46KHVyULqI6CDdHewkuEh1EYdCcXAQ0SDOUnSRihgKItWlOBcpCBUs\n",
       "YsBBEAVx0i6tj0FBxJyc3D5ubgqCP/xN8t3kz7nNuRfg3xXWyWLN/pEbqpD3NuxD0iv4S+0o+z6e\n",
       "gaW3OM8BlqKoAYA8kI8EgQUAjWMjwRhA3c5RF/gT0snwIZ7ANHd9WnoAUO28EdiVIYe/xIG7dJDv\n",
       "olGzqLO8UsLAXafAqmWfJg70xM3D5Yx1XazIeQy0uD1w2XIgKa0/to/v3xiV+9J46hpjsOjVzzGQ\n",
       "uCDw0PLBy2KNe2nSnQDwmpV7Io1AWJN0lfGVY9RJa+CW5akr/n2hTLcRGFbxfAeagUqmqDIuqPDH\n",
       "8vqwyVw5s51w8i6oGXUF64ifEWoUKBeyKuMdAof2Bm03zAN7sNJSIZSDnQI3yfI3fLj4G7DXaWrb\n",
       "rYFSPMZ4Y3k0A0fIUl3+8XF5Mva6ZE5USbQEwlyMcUGFC2QlBq8hbtyLvU7tIQ8zOGHYr3Vomydy\n",
       "IAG3i9y4vx/7k5qzZ5VY9dOoTtYavE1lc+lFyAK5082lB5O5qCZYkoIdJUm275ORPtyiUg7PpRz3\n",
       "Q7Z98bpOjwLNTiQnbqjXMq+dBfyyivjfcOS4IHSyWPd/5PALzkOOj9QJ2e8AAAAASUVORK5CYII=\n",
       "\" style=\"display:inline;vertical-align:middle;\" /></a><br>"
      ],
      "text/plain": [
       "expr: ((k - j) in Naturals) = TRUE"
      ]
     },
     "execution_count": 2,
     "metadata": {},
     "output_type": "execute_result"
    }
   ],
   "source": [
    "# build up the expression from sub-expressions\n",
    "expr = Equals(InSet(Add(k, Neg(j)).withSubtractionAt(1,1), Naturals), TRUE)"
   ]
  },
  {
   "cell_type": "code",
   "execution_count": 3,
   "metadata": {},
   "outputs": [
    {
     "name": "stdout",
     "output_type": "stream",
     "text": [
      "Passed sanity check: built 'expr' is the same as the stored Expression.\n"
     ]
    }
   ],
   "source": [
    "# check that the built expression is the same as the stored expression\n",
    "%check_expr"
   ]
  },
  {
   "cell_type": "code",
   "execution_count": 4,
   "metadata": {},
   "outputs": [
    {
     "data": {
      "text/html": [
       "<table><tr><th>&nbsp;</th><th>core type</th><th>sub-expressions</th><th>expression</th></tr>\n",
       "<tr><td>0</td><td>Operation</td><td>operator:&nbsp;1<br>operands:&nbsp;2<br></td><td><a class=\"ProveItLink\" href=\"expr.ipynb\"><img src=\"data:image/png;base64,iVBORw0KGgoAAAANSUhEUgAAAKAAAAAVBAMAAAAz5vjYAAAAMFBMVEX////c3NwiIiJERESqqqqY\n",
       "mJh2dnZmZmYQEBDu7u4yMjJUVFTMzMyIiIi6uroAAAAs73DqAAAAAXRSTlMAQObYZgAAAfBJREFU\n",
       "OMutlDtIw1AUhk8faU3T1s46KHVyULqI6CDdHewkuEh1EYdCcXAQ0SDOUnSRihgKItWlOBcpCBUs\n",
       "YsBBEAVx0i6tj0FBxJyc3D5ubgqCP/xN8t3kz7nNuRfg3xXWyWLN/pEbqpD3NuxD0iv4S+0o+z6e\n",
       "gaW3OM8BlqKoAYA8kI8EgQUAjWMjwRhA3c5RF/gT0snwIZ7ANHd9WnoAUO28EdiVIYe/xIG7dJDv\n",
       "olGzqLO8UsLAXafAqmWfJg70xM3D5Yx1XazIeQy0uD1w2XIgKa0/to/v3xiV+9J46hpjsOjVzzGQ\n",
       "uCDw0PLBy2KNe2nSnQDwmpV7Io1AWJN0lfGVY9RJa+CW5akr/n2hTLcRGFbxfAeagUqmqDIuqPDH\n",
       "8vqwyVw5s51w8i6oGXUF64ifEWoUKBeyKuMdAof2Bm03zAN7sNJSIZSDnQI3yfI3fLj4G7DXaWrb\n",
       "rYFSPMZ4Y3k0A0fIUl3+8XF5Mva6ZE5USbQEwlyMcUGFC2QlBq8hbtyLvU7tIQ8zOGHYr3Vomydy\n",
       "IAG3i9y4vx/7k5qzZ5VY9dOoTtYavE1lc+lFyAK5082lB5O5qCZYkoIdJUm275ORPtyiUg7PpRz3\n",
       "Q7Z98bpOjwLNTiQnbqjXMq+dBfyyivjfcOS4IHSyWPd/5PALzkOOj9QJ2e8AAAAASUVORK5CYII=\n",
       "\" style=\"display:inline;vertical-align:middle;\" /></a></td></tr>\n",
       "<tr><td>1</td><td>Literal</td><td></td><td><a class=\"ProveItLink\" href=\"../../../logic/equality/__pv_it/2fb26078095930560931daa0500ce419a39ea6cd0/expr.ipynb\"><img src=\"data:image/png;base64,iVBORw0KGgoAAAANSUhEUgAAAA4AAAAFBAMAAACHocAhAAAAFVBMVEX///9EREQiIiJUVFQyMjJm\n",
       "ZmYAAADubVkoAAAAAXRSTlMAQObYZgAAABRJREFUCNdjCHEBAWcGXCBICQQUAUpuAwlgGKrkAAAA\n",
       "AElFTkSuQmCC\n",
       "\" style=\"display:inline;vertical-align:middle;\" /></a></td></tr>\n",
       "<tr><td>2</td><td>ExprTuple</td><td>3, 4</td><td><a class=\"ProveItLink\" href=\"../1d5fbd832de65799548763f93fabdd6736604e9e0/expr.ipynb\"><img src=\"data:image/png;base64,iVBORw0KGgoAAAANSUhEUgAAAI0AAAAVBAMAAACJRXC4AAAAMFBMVEX////c3NwiIiJERESqqqqY\n",
       "mJh2dnZmZmYQEBDu7u4yMjJUVFTMzMyIiIi6uroAAAAs73DqAAAAAXRSTlMAQObYZgAAAfxJREFU\n",
       "OMutlDtIA0EQhsc8vJx53IGdFkq0FBVExM5ehBSiWKjBRhACwcJCLASt9VAQiahB8JEqQRsFiwNB\n",
       "gwoGrBSLkErSRMVGEHFm9y652zshhQv/TXbz8zEz+wD4rxEpcLmPqXoQzHTHJZ+3O/73v4Ok25fk\n",
       "bF8GpJ5ONpmP0ujgpoyhpqSTkwNIC2ve2BWAUp3esC+awgUuUIZccx4T5sEudAcEDpoCGhdUNFfO\n",
       "tlHPczTKUguWtUsHB01l4II59x56eZq3E2Y+97mUJnLQtICBBEcw/mNH7D5iio2sbQ2D1br0kVCv\n",
       "yEHTIQaS/LO192nnxD0xAB+rxqvWOFJxUuSgaQ0DyfctnqGwpiAnsky/N2t91uEimBc4aKJaSNJH\n",
       "kS21sDPRTbVABbMIvdHqKy2mDc6OfCJw0GRyPE+njg2bAZNzZ80nFM87OasYSPu6MqQKnGMw69qw\n",
       "cmDU66yrHwNpGvaLceEOUN/9vJqYldPYDKBZOWiaxUA6A0UVOu37AnPf5e7qeaI2LoL8Iex7CUOJ\n",
       "7X14QWiQRDe3yWj/kvE6ZFfwmwJ5nTfhmn3RFMB5QHU9yp5k7V7A8EHUdmUjqv3y+ONczndJbaPn\n",
       "IPHHm+O3ThKWd0McD8kBaky6Dg4ztRoSx+Ys7VFQ/YNj3RNmaihwuY+Xet5VNP0C1CeFzoG6QHgA\n",
       "AAAASUVORK5CYII=\n",
       "\" style=\"display:inline;vertical-align:middle;\" /></a></td></tr>\n",
       "<tr><td>3</td><td>Operation</td><td>operator:&nbsp;5<br>operands:&nbsp;6<br></td><td><a class=\"ProveItLink\" href=\"../fad42a33454c21c287dc4804ae750f6d33dca4110/expr.ipynb\"><img src=\"data:image/png;base64,iVBORw0KGgoAAAANSUhEUgAAAGUAAAAVBAMAAACtcD09AAAAMFBMVEX////c3NwiIiJERESqqqqY\n",
       "mJh2dnZmZmYQEBDu7u4yMjJUVFTMzMyIiIi6uroAAAAs73DqAAAAAXRSTlMAQObYZgAAAaJJREFU\n",
       "OMudkzFIAlEYx/+nnnqd2s01FLc1JC4SNcTtDTkFLWEt4hBIQ1OkRHMctYQSiRBxmzRLCEFDEgkN\n",
       "QRREU7mo5VAQ0vfuNL3z3dKD433vf/d73//e9z7gPyNSd3uz5srUgMLeqCy2Eajapfzngo6tDw0w\n",
       "aHXOYcpA0aHFQzGgBYSZtQ7fwopjfVF9BnJAUKdf+uYzx9YkPaqqmfLSkKuMaVDsL/IZr2ZON6u9\n",
       "daUmGYzZpngsKWZf7J+f3FN+f4aFwnxfrPjqV4w5o/j0Pd3U7EzSkwB8Zn6v8sdgV6wTc0Dx8q3T\n",
       "VVgfJyaSY/ERBoysV0jrUpyNmpJQUtlgLgU0afdQi8lvTCxajFTO95jZwszI/2+gz9SG8uA6RMw+\n",
       "neUPOoKTYWW2vB0OM6JGZY3T3JK6fgcisTKLpiM5McRgnZgUiTG0ww7Gx8psnbUU7YuL9ARon1cq\n",
       "TwIPaQcTmGZ1s4o2sWNpjS/KIRETVLhXwJMZ3B0slVTbTRGTvJ5SplgfbLr1j8HR7jJzsGzwxyRH\n",
       "O0qxs5IVN0Zw7e0nF/0XuwxlSPJ4/rkAAAAASUVORK5CYII=\n",
       "\" style=\"display:inline;vertical-align:middle;\" /></a></td></tr>\n",
       "<tr><td>4</td><td>Literal</td><td></td><td><a class=\"ProveItLink\" href=\"../../../logic/boolean/__pv_it/68a87cc3370287d726c7086ace789e680e4461c30/expr.ipynb\"><img src=\"data:image/png;base64,iVBORw0KGgoAAAANSUhEUgAAAA4AAAAOBAMAAADtZjDiAAAAFVBMVEX///92dnbMzMxEREQiIiJm\n",
       "ZmYAAABAT6GXAAAAAXRSTlMAQObYZgAAABhJREFUCNdjCHEBAWcGIFBlgABa0YpADAAxegPJJk4d\n",
       "XAAAAABJRU5ErkJggg==\n",
       "\" style=\"display:inline;vertical-align:middle;\" /></a></td></tr>\n",
       "<tr><td>5</td><td>Literal</td><td></td><td><a class=\"ProveItLink\" href=\"../../../logic/set_theory/membership/__pv_it/088cbc857536a28d4119ad9639a84270ccb0545d0/expr.ipynb\"><img src=\"data:image/png;base64,iVBORw0KGgoAAAANSUhEUgAAAAwAAAAMBAMAAACkW0HUAAAALVBMVEX///+qqqpmZmZUVFQQEBC6\n",
       "urpERETc3NyYmJjMzMwiIiIyMjKIiIju7u4AAACYsrA9AAAAAXRSTlMAQObYZgAAADxJREFUCNdj\n",
       "YOA9vWrVBgaG2b0MQMCeCyIZ2ArA1DUwyRCyahVIyWQI7xaEYm4AU7xLIdxqTQgtvGvVBgCkcQ7e\n",
       "geM/tQAAAABJRU5ErkJggg==\n",
       "\" style=\"display:inline;vertical-align:middle;\" /></a></td></tr>\n",
       "<tr><td>6</td><td>ExprTuple</td><td>7, 8</td><td><a class=\"ProveItLink\" href=\"../86e733716f0ca10dbd5c8d8d2b902013ad24be6a0/expr.ipynb\"><img src=\"data:image/png;base64,iVBORw0KGgoAAAANSUhEUgAAAFIAAAAVBAMAAAAnX6R8AAAAMFBMVEX////c3NwiIiJERESqqqqY\n",
       "mJh2dnZmZmYQEBDu7u4yMjJUVFTMzMyIiIi6uroAAAAs73DqAAAAAXRSTlMAQObYZgAAAW9JREFU\n",
       "KM9jYCAe8F0gQhHrAyBxmoFhdhMWuY8gknO98UoGdn0VhhogZyUQL8eicgOYYg44zMDAz8DAxcDA\n",
       "C7L8C05ruXWACjiAGhMYOCYAnfoTt8pXE/aAVHI2MLwCctkW4FZ5ZsOsCUCVDCYMZUCSK4G1/gGq\n",
       "irmXJ0BUHvDlMQCpTGdYCiTnv8x874CqMoEpAKqS/UEsSKUXQx+Q9D+LbinvBH6YSoad3CeAjBcM\n",
       "/4BkvR5YlHGREgiA3MHI8F4ApnI25wog4zxYpe5sTQyvJDHAVPIknACrbAGGwB+GL4zoKpfDVTKE\n",
       "MINtNwWG6gfOf2xoCjm/MHDCVLIJAxlRQN8zcBswfORFU8nyk2G+Aig2Qa6uAofSI2BwBjBcz0RT\n",
       "ya7AMAOYRvjWNwM5s4B4HQOHANa4YSpgYHiI7JoGUNRjSbMC8kD3BSCJsF2ApDp0cL7AnAFVJcgB\n",
       "0lhUTk4HqkLx5EZQdBCTO3gPMAAAXUVW5WtjugUAAAAASUVORK5CYII=\n",
       "\" style=\"display:inline;vertical-align:middle;\" /></a></td></tr>\n",
       "<tr><td>7</td><td>Operation</td><td>operator:&nbsp;9<br>operands:&nbsp;10<br></td><td><a class=\"ProveItLink\" href=\"../ba1c7b4a336a648059a24bf9acac6fad591cb9a00/expr.ipynb\"><img src=\"data:image/png;base64,iVBORw0KGgoAAAANSUhEUgAAAC0AAAASBAMAAAA9GErRAAAAMFBMVEX///9ERETc3NyIiIjMzMyY\n",
       "mJh2dna6urqqqqpmZmYyMjIiIiIQEBBUVFTu7u4AAAD6+w4kAAAAAXRSTlMAQObYZgAAAJxJREFU\n",
       "GNNj4LuzgQEDxCswMHBNwBSPBWL+BgasoP4BdvEs7MIMyxgiv6OK8BnLAYnvz57/QBVnY9jKwMDx\n",
       "xQDdBDuGrwwMnL8LwByt3SCwHcRUYP/EwMBtdxvDQWxAr7534G9QQBMHeTWe4X1BApr4e6BXLzLw\n",
       "K6Db3A80eSkD8zR0C2bj8OpOrKJFTF+wCbP8ZJyATZxPbCqQBAAVuig2oSE0OQAAAABJRU5ErkJg\n",
       "gg==\n",
       "\" style=\"display:inline;vertical-align:middle;\" /></a></td></tr>\n",
       "<tr><td>8</td><td>Literal</td><td></td><td><a class=\"ProveItLink\" href=\"../../../number/sets/integer/__pv_it/e5d9bd86b06b357eee742ad868997123619e09700/expr.ipynb\"><img src=\"data:image/png;base64,iVBORw0KGgoAAAANSUhEUgAAAA8AAAAOBAMAAAACpFvcAAAAMFBMVEX////c3Nx2dna6uroQEBCI\n",
       "iIhUVFTMzMyYmJiqqqoiIiJmZmZEREQyMjLu7u4AAADjlg78AAAAAXRSTlMAQObYZgAAAGBJREFU\n",
       "CNdjePvn7AOGXb8mMDCcYD/AwPCBgYEhqyCUgcEByEi+x1YAZqSX8d2DMDgDaiAMhs0cARAG24N0\n",
       "CIMv4S2EwVDEDmVwTDgAYTAoghiHgZj7AgOD7Rcgj+8CAwA9oh2B0HK+MAAAAABJRU5ErkJggg==\n",
       "\" style=\"display:inline;vertical-align:middle;\" /></a></td></tr>\n",
       "<tr><td>9</td><td>Literal</td><td></td><td><a class=\"ProveItLink\" href=\"../../../number/addition/__pv_it/3e6688136fa3c7aefbebe51301b7c3ebf0b69c440/expr.ipynb\"><img src=\"data:image/png;base64,iVBORw0KGgoAAAANSUhEUgAAAA4AAAAOBAMAAADtZjDiAAAAJFBMVEX///+6urpUVFQQEBAiIiIy\n",
       "MjJmZmaIiIiqqqrc3Nzu7u4AAACgHpL+AAAAAXRSTlMAQObYZgAAAB5JREFUCNdjYGBgWMkAAe2k\n",
       "0Kmhoc6hoUGk6BMHYgAHOwjcado9fwAAAABJRU5ErkJggg==\n",
       "\" style=\"display:inline;vertical-align:middle;\" /></a></td></tr>\n",
       "<tr><td>10</td><td>ExprTuple</td><td>11, 12</td><td><a class=\"ProveItLink\" href=\"../60ed005f99158635be2ba99b914c0a5779d9c0920/expr.ipynb\"><img src=\"data:image/png;base64,iVBORw0KGgoAAAANSUhEUgAAADsAAAAVBAMAAAAKrYvGAAAAMFBMVEX////c3NwiIiJERESqqqqY\n",
       "mJh2dnZmZmYQEBDu7u4yMjJUVFTMzMyIiIi6uroAAAAs73DqAAAAAXRSTlMAQObYZgAAAR5JREFU\n",
       "KM9jYCAA+C7gkokDEacZGGY3YcqxfmRgPwCkVwLxcizSGxgYFjAw8ILM/oLd9DAGBo4JQOt/Ypee\n",
       "wcDwCkixLcAuzezAUAakuBJY6x+gysy9DDSVrYBhKZA9/2XmewdU6QSmAAYGlgUMfUC2/1l0Y3kn\n",
       "8AOl+RoY/gE59XowYSklENBjYGR4L8DAwPMBLK07WxPDWUkMYOkWBgbOPwxfGNGlQSEFNNwUGEAf\n",
       "OP+xMTBMQJblBIUU6wKGdAYGbgOGj7wMnJ+QpVlAIQX02COgtwMYrmcycPYLIEmzK4DC4wEDB1yQ\n",
       "D1maqQASqKwJ8DhCSgMC8qDIzIVGKLr0+QJzkPNAUSENE0NKNZPTgWHGwA2yjRFnYrrDwAAA0/o8\n",
       "5KXfy5UAAAAASUVORK5CYII=\n",
       "\" style=\"display:inline;vertical-align:middle;\" /></a></td></tr>\n",
       "<tr><td>11</td><td>Variable</td><td></td><td><a class=\"ProveItLink\" href=\"../../../__pv_it/1a7356cf6caf039e07a5436d90e972cbb5e92b0a0/expr.ipynb\"><img src=\"data:image/png;base64,iVBORw0KGgoAAAANSUhEUgAAAAoAAAAOBAMAAADkjZCYAAAAMFBMVEX///9ERETc3NyIiIjMzMyY\n",
       "mJh2dna6urqqqqpmZmYyMjIiIiIQEBBUVFTu7u4AAAD6+w4kAAAAAXRSTlMAQObYZgAAAFBJREFU\n",
       "CNdj4LuzgQEIuCaASP4GEFn/AERmgQiGZQyR3xn4vj97/oOB44sBUIDzdwGQ5La7DVT03oG/QYEh\n",
       "nuF9QQLDRQZ+BQOGpQzM0x4AAD+VFjuIiDKbAAAAAElFTkSuQmCC\n",
       "\" style=\"display:inline;vertical-align:middle;\" /></a></td></tr>\n",
       "<tr><td>12</td><td>Operation</td><td>operator:&nbsp;13<br>operand:&nbsp;14<br></td><td><a class=\"ProveItLink\" href=\"../54bd455a3b87b328f63e73be03988fb44f1688450/expr.ipynb\"><img src=\"data:image/png;base64,iVBORw0KGgoAAAANSUhEUgAAABgAAAASBAMAAACzwgOtAAAALVBMVEX////MzMyqqqpmZmZ2dnZE\n",
       "RESIiIju7u5UVFSYmJi6uroiIiIyMjLc3NwAAABXLbUEAAAAAXRSTlMAQObYZgAAAFRJREFUCNdj\n",
       "YIADzrcMSJwGBlJBWWoBguPAPQHOZivgm8BwZzcI7GLgZVh3AUmTN7IJh5HY7I+QOEzPkTjMG5A4\n",
       "3AZwJteFewJwjpxBMEJRqTPQMQDHJRMBzCil9wAAAABJRU5ErkJggg==\n",
       "\" style=\"display:inline;vertical-align:middle;\" /></a></td></tr>\n",
       "<tr><td>13</td><td>Literal</td><td></td><td><a class=\"ProveItLink\" href=\"../../../number/negation/__pv_it/3fc7a08bb9735faa20ef8e175f6ea95511acc9c70/expr.ipynb\"><img src=\"data:image/png;base64,iVBORw0KGgoAAAANSUhEUgAAAA4AAAACBAMAAACapPCZAAAAElBMVEX///+6uroiIiIyMjLc3NwA\n",
       "AAA6l9OrAAAAAXRSTlMAQObYZgAAABBJREFUCNdjcFYCAUUGKAAADR4BD8/TF5gAAAAASUVORK5C\n",
       "YII=\n",
       "\" style=\"display:inline;vertical-align:middle;\" /></a></td></tr>\n",
       "<tr><td>14</td><td>Variable</td><td></td><td><a class=\"ProveItLink\" href=\"../../../__pv_it/612356038763a16ceac85a062629d016c986635c0/expr.ipynb\"><img src=\"data:image/png;base64,iVBORw0KGgoAAAANSUhEUgAAAAoAAAASBAMAAACQmVJ4AAAALVBMVEX////MzMyqqqpmZmYyMjK6\n",
       "uroiIiJ2dnZERESIiIju7u5UVFTc3NyYmJgAAAAeP2GyAAAAAXRSTlMAQObYZgAAAE1JREFUCNdj\n",
       "YGBg4H3DACI3MGADK2csAJIFbBcYGDgX8AFJHoa4AyCJMrC0M4jgegQimV6BSOYEEMlmwMDAeuCc\n",
       "AAODnEEzkL+iGKgTAMbaDxjCuhcwAAAAAElFTkSuQmCC\n",
       "\" style=\"display:inline;vertical-align:middle;\" /></a></td></tr>\n",
       "</table>\n"
      ],
      "text/plain": [
       "0. ((k - j) in Naturals) = TRUE\n",
       "   core type: Operation\n",
       "   operator: 1\n",
       "   operands: 2\n",
       "1. =\n",
       "   core type: Literal\n",
       "   sub-expressions: \n",
       "2. ((k - j) in Naturals , TRUE)\n",
       "   core type: ExprTuple\n",
       "   sub-expressions: 3, 4\n",
       "3. (k - j) in Naturals\n",
       "   core type: Operation\n",
       "   operator: 5\n",
       "   operands: 6\n",
       "4. TRUE\n",
       "   core type: Literal\n",
       "   sub-expressions: \n",
       "5. in\n",
       "   core type: Literal\n",
       "   sub-expressions: \n",
       "6. (k - j , Naturals)\n",
       "   core type: ExprTuple\n",
       "   sub-expressions: 7, 8\n",
       "7. k - j\n",
       "   core type: Operation\n",
       "   operator: 9\n",
       "   operands: 10\n",
       "8. Naturals\n",
       "   core type: Literal\n",
       "   sub-expressions: \n",
       "9. +\n",
       "   core type: Literal\n",
       "   sub-expressions: \n",
       "10. (k , -j)\n",
       "    core type: ExprTuple\n",
       "    sub-expressions: 11, 12\n",
       "11. k\n",
       "    core type: Variable\n",
       "    sub-expressions: \n",
       "12. -j\n",
       "    core type: Operation\n",
       "    operator: 13\n",
       "    operand: 14\n",
       "13. -\n",
       "    core type: Literal\n",
       "    sub-expressions: \n",
       "14. j\n",
       "    core type: Variable\n",
       "    sub-expressions: "
      ]
     },
     "execution_count": 4,
     "metadata": {},
     "output_type": "execute_result"
    }
   ],
   "source": [
    "# display the expression information\n",
    "expr.exprInfo()"
   ]
  },
  {
   "cell_type": "code",
   "execution_count": null,
   "metadata": {},
   "outputs": [],
   "source": []
  }
 ],
 "metadata": {
  "kernelspec": {
   "display_name": "Python 3",
   "language": "python",
   "name": "python3"
  }
 },
 "nbformat": 4,
 "nbformat_minor": 0
}
