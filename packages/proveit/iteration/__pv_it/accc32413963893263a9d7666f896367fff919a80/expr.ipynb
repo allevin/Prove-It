{
 "cells": [
  {
   "cell_type": "markdown",
   "metadata": {},
   "source": [
    "Expression of type <a class=\"ProveItLink\" href=\"../../../../../doc/html/api/proveit.logic.Equals.html\">Equals</a>\n",
    "=======================\n",
    "# from context <a class=\"ProveItLink\" href=\"../../_context_.ipynb\">proveit.iteration</a>"
   ]
  },
  {
   "cell_type": "code",
   "execution_count": 1,
   "metadata": {},
   "outputs": [],
   "source": [
    "# import Expression classes needed to build the expression\n",
    "from proveit._common_ import a, b, c\n",
    "from proveit.logic import Equals\n",
    "from proveit.number import Add, Neg"
   ]
  },
  {
   "cell_type": "code",
   "execution_count": 2,
   "metadata": {},
   "outputs": [
    {
     "data": {
      "text/html": [
       "<strong id=\"expr\">expr:</strong> <a class=\"ProveItLink\" href=\"expr.ipynb\"><img src=\"data:image/png;base64,iVBORw0KGgoAAAANSUhEUgAAAH4AAAAVBAMAAAByPkciAAAAMFBMVEX////c3NwiIiJERESqqqqY\n",
       "mJh2dnZmZmYQEBDu7u4yMjJUVFTMzMyIiIi6uroAAAAs73DqAAAAAXRSTlMAQObYZgAAAalJREFU\n",
       "OMtjYKAU8F3ALh6HRewtKpf1AZA4zcC5QwGLWvYDGEI8G9AEaoB4JQMD1wZsDliAIcI1AV2AgYEX\n",
       "6Hx+B2z6wzBE7qILsCYwcADNfD8Bm/4ZGCKd6AKcDQyvgFQS1gBkRncVH6aPTBjKgOTqu1vRzE27\n",
       "e4CBrQA9RBOQONLXXggwMKQzLAWq/szAjxrYJx5wKTCwgK2rWgUCq8GhFYDklkYGeyDlxdDHwMDy\n",
       "k4EjAcX6XgbmAAa+BjT7OR4g2PIBDMVA6gXDP6C7FjDwA90qpQQCekBR7g/g2P6App//AULRfgYG\n",
       "XaDQeZB+pgKG9wEoCg1w6oeBzwycf8D6W8DRX48Sg/LgJA1xfxHYQmWw+xERwviXgeUDJ8j9pgyg\n",
       "wGtDtQjomgAGVvToYkY4kvMLA/cCHwaGKGAMMHA7sKMmYO4CBjYs8YcssJTBqSABFH+PgIbtLUVT\n",
       "WXb3JjC6HqCnH6RsJn33jS1Qfh0DhwCujI2ZfhuxpF/WBFz6cwnnKLYL4PyLFXASkX9ngXyCQz83\n",
       "pscY0cuJjSBBHOXXHSxisqhc3gMMADmLYfBZo3uSAAAAAElFTkSuQmCC\n",
       "\" style=\"display:inline;vertical-align:middle;\" /></a><br>"
      ],
      "text/plain": [
       "expr: (b - c) = (-a)"
      ]
     },
     "execution_count": 2,
     "metadata": {},
     "output_type": "execute_result"
    }
   ],
   "source": [
    "# build up the expression from sub-expressions\n",
    "expr = Equals(Add(b, Neg(c)), Neg(a))"
   ]
  },
  {
   "cell_type": "code",
   "execution_count": 3,
   "metadata": {},
   "outputs": [
    {
     "name": "stdout",
     "output_type": "stream",
     "text": [
      "Passed sanity check: built 'expr' is the same as the stored Expression.\n"
     ]
    }
   ],
   "source": [
    "# check that the built expression is the same as the stored expression\n",
    "%check_expr"
   ]
  },
  {
   "cell_type": "code",
   "execution_count": 4,
   "metadata": {},
   "outputs": [
    {
     "data": {
      "text/html": [
       "<table><tr><th>&nbsp;</th><th>core type</th><th>sub-expressions</th><th>expression</th></tr>\n",
       "<tr><td>0</td><td>Operation</td><td>operator:&nbsp;1<br>operands:&nbsp;2<br></td><td><a class=\"ProveItLink\" href=\"expr.ipynb\"><img src=\"data:image/png;base64,iVBORw0KGgoAAAANSUhEUgAAAH4AAAAVBAMAAAByPkciAAAAMFBMVEX////c3NwiIiJERESqqqqY\n",
       "mJh2dnZmZmYQEBDu7u4yMjJUVFTMzMyIiIi6uroAAAAs73DqAAAAAXRSTlMAQObYZgAAAalJREFU\n",
       "OMtjYKAU8F3ALh6HRewtKpf1AZA4zcC5QwGLWvYDGEI8G9AEaoB4JQMD1wZsDliAIcI1AV2AgYEX\n",
       "6Hx+B2z6wzBE7qILsCYwcADNfD8Bm/4ZGCKd6AKcDQyvgFQS1gBkRncVH6aPTBjKgOTqu1vRzE27\n",
       "e4CBrQA9RBOQONLXXggwMKQzLAWq/szAjxrYJx5wKTCwgK2rWgUCq8GhFYDklkYGeyDlxdDHwMDy\n",
       "k4EjAcX6XgbmAAa+BjT7OR4g2PIBDMVA6gXDP6C7FjDwA90qpQQCekBR7g/g2P6App//AULRfgYG\n",
       "XaDQeZB+pgKG9wEoCg1w6oeBzwycf8D6W8DRX48Sg/LgJA1xfxHYQmWw+xERwviXgeUDJ8j9pgyg\n",
       "wGtDtQjomgAGVvToYkY4kvMLA/cCHwaGKGAMMHA7sKMmYO4CBjYs8YcssJTBqSABFH+PgIbtLUVT\n",
       "WXb3JjC6HqCnH6RsJn33jS1Qfh0DhwCujI2ZfhuxpF/WBFz6cwnnKLYL4PyLFXASkX9ngXyCQz83\n",
       "pscY0cuJjSBBHOXXHSxisqhc3gMMADmLYfBZo3uSAAAAAElFTkSuQmCC\n",
       "\" style=\"display:inline;vertical-align:middle;\" /></a></td></tr>\n",
       "<tr><td>1</td><td>Literal</td><td></td><td><a class=\"ProveItLink\" href=\"../../../logic/equality/__pv_it/2fb26078095930560931daa0500ce419a39ea6cd0/expr.ipynb\"><img src=\"data:image/png;base64,iVBORw0KGgoAAAANSUhEUgAAAA4AAAAFBAMAAACHocAhAAAAFVBMVEX///9EREQiIiJUVFQyMjJm\n",
       "ZmYAAADubVkoAAAAAXRSTlMAQObYZgAAABRJREFUCNdjCHEBAWcGXCBICQQUAUpuAwlgGKrkAAAA\n",
       "AElFTkSuQmCC\n",
       "\" style=\"display:inline;vertical-align:middle;\" /></a></td></tr>\n",
       "<tr><td>2</td><td>ExprTuple</td><td>3, 4</td><td><a class=\"ProveItLink\" href=\"../091d70cecfb0d0cd96281fa14b5909370659ddf00/expr.ipynb\"><img src=\"data:image/png;base64,iVBORw0KGgoAAAANSUhEUgAAAFsAAAAVBAMAAADbSo+2AAAAMFBMVEX////c3NwiIiJERESqqqqY\n",
       "mJh2dnZmZmYQEBDu7u4yMjJUVFTMzMyIiIi6uroAAAAs73DqAAAAAXRSTlMAQObYZgAAAUVJREFU\n",
       "KM+VUz1LxEAQfXfJ5dMzV2uh2NjJNfb5B6aylMNCKyWN16ogdkrK6xIEC7GxEUQ4WLARbGwFc0Qr\n",
       "sbmIWNiIsxEhkzOwbjELb96+nXk7C/xzTd+rMtdkuIN9Na9ENwWFM8C5UJNPgDbV4vlq9FXAioBx\n",
       "pEYfAK+0rSv2qvno03aeXnLc3kgFAxrD7X3ACHFKyXd4PHubOdysl46WA3qCY4qfsHpM/AhawMQ/\n",
       "YHbpifbwRX4m8EJgZkGuJcq6+S/tpMAyAprk4FQu6c0QYybmdSs9EhCLgn5Q2L7LrJyrzgUBK4hk\n",
       "McuQfR5yMborsEtA7ONaF2gl2KRSfZNPgRvCEHHJGyfQF43CyGcyYrhTubyfPmDwVrZ9dDOiUxms\n",
       "Tt0bPv01BK1eHT2YQLZ+BliRbtMAY7aG3Z5AXFl3Q/nzPQLfwpdLZeNzwiEAAAAASUVORK5CYII=\n",
       "\" style=\"display:inline;vertical-align:middle;\" /></a></td></tr>\n",
       "<tr><td>3</td><td>Operation</td><td>operator:&nbsp;5<br>operands:&nbsp;6<br></td><td><a class=\"ProveItLink\" href=\"../c573a78977f0228c90daaa4f770c4d6e6188dcba0/expr.ipynb\"><img src=\"data:image/png;base64,iVBORw0KGgoAAAANSUhEUgAAACsAAAAOBAMAAABEEvh2AAAAMFBMVEX////c3NxmZmbMzMxERESY\n",
       "mJiIiIh2dna6urqqqqoyMjIiIiIQEBBUVFTu7u4AAAAiO1wTAAAAAXRSTlMAQObYZgAAAIVJREFU\n",
       "GNNj4LuzgQEb4LqAVZh/Albh/gdYhauxijKsTbuKKsBXnmbAwPeFgd8ARdimgWsDA+c/Bp4CFMXH\n",
       "GFgCGJgWMPArMDAwrt4NAg0MDLwfQJLcCgz9ASgOdoA6Wx/FifIJYGEDhuOo3gPqDWDgncCE6nte\n",
       "BQZ2oAOvqaJ5RD0tjwEAhawdFnNeY3QAAAAASUVORK5CYII=\n",
       "\" style=\"display:inline;vertical-align:middle;\" /></a></td></tr>\n",
       "<tr><td>4</td><td>Operation</td><td>operator:&nbsp;10<br>operand:&nbsp;7<br></td><td><a class=\"ProveItLink\" href=\"../5bdd387ae2a10752c3ad16ba6b67c0e39d26b0ee0/expr.ipynb\"><img src=\"data:image/png;base64,iVBORw0KGgoAAAANSUhEUgAAABoAAAAJBAMAAADeJiHIAAAAMFBMVEX///+qqqrMzMzu7u5mZmaY\n",
       "mJhEREQQEBB2dnaIiIhUVFS6uroiIiIyMjLc3NwAAAAxFEmoAAAAAXRSTlMAQObYZgAAAExJREFU\n",
       "CNdjYICBVzO2P4BzuOsY8uEchvcBDG4MDG/PgMBphvUMDCcRct8YmD/BOXw/GRg/MMN4zB8ZuC4I\n",
       "wSWvMsg4NCCsm7kpcwMArzoXiK6Dv2MAAAAASUVORK5CYII=\n",
       "\" style=\"display:inline;vertical-align:middle;\" /></a></td></tr>\n",
       "<tr><td>5</td><td>Literal</td><td></td><td><a class=\"ProveItLink\" href=\"../../../number/addition/__pv_it/3e6688136fa3c7aefbebe51301b7c3ebf0b69c440/expr.ipynb\"><img src=\"data:image/png;base64,iVBORw0KGgoAAAANSUhEUgAAAA4AAAAOBAMAAADtZjDiAAAAJFBMVEX///+6urpUVFQQEBAiIiIy\n",
       "MjJmZmaIiIiqqqrc3Nzu7u4AAACgHpL+AAAAAXRSTlMAQObYZgAAAB5JREFUCNdjYGBgWMkAAe2k\n",
       "0Kmhoc6hoUGk6BMHYgAHOwjcado9fwAAAABJRU5ErkJggg==\n",
       "\" style=\"display:inline;vertical-align:middle;\" /></a></td></tr>\n",
       "<tr><td>6</td><td>ExprTuple</td><td>8, 9</td><td><a class=\"ProveItLink\" href=\"../e1ac0beaadf31f9c85b922765bdb4f54009a1b6e0/expr.ipynb\"><img src=\"data:image/png;base64,iVBORw0KGgoAAAANSUhEUgAAADcAAAAVBAMAAAAQkWtIAAAAMFBMVEX////c3NwiIiJERESqqqqY\n",
       "mJh2dnZmZmYQEBDu7u4yMjJUVFTMzMyIiIi6uroAAAAs73DqAAAAAXRSTlMAQObYZgAAAQdJREFU\n",
       "KM9jYMAL+C5gF48DEacZOHcoYJFkPwAkVjIwcG3ApnUBAwMv0FR+B2ySYQwMHBMYGN5PwCY5g4Hh\n",
       "FZBKwuoiZgeGMiC1+u5WVHHOtLsHGNgKGJYCmZ8Z+A+gSJ54wKXAwLKAoY+BgeUnA0cCisZeBuYA\n",
       "Br4Ghn9AHy1g4C8ACTIuUgKBB9wfQDyeDyBJpgKG9wHIOvkNoJItYG/Wo3hGHhyiQGNNGUCuaWPg\n",
       "RNYJNCeAgXUBQzoDA7cD+waG+Ujhy13AwAb2yiOg4/aWAsPjI5LWsrs3gSH+gIFDACrwEEvwscJ8\n",
       "GIAumQuJMqySnMAoY5CGsHnRNXKD7GPEkUzuMDAAAN/KOlBKeh2HAAAAAElFTkSuQmCC\n",
       "\" style=\"display:inline;vertical-align:middle;\" /></a></td></tr>\n",
       "<tr><td>7</td><td>Variable</td><td></td><td><a class=\"ProveItLink\" href=\"../../../__pv_it/07527342713064c87612d00d8557c53d53d5324a0/expr.ipynb\"><img src=\"data:image/png;base64,iVBORw0KGgoAAAANSUhEUgAAAAsAAAAJBAMAAAAWSsseAAAAMFBMVEX///8yMjKqqqrMzMzu7u4i\n",
       "IiJmZmaYmJhEREQQEBC6urp2dnaIiIhUVFTc3NwAAAD87Fq/AAAAAXRSTlMAQObYZgAAAEhJREFU\n",
       "CNdjYOC7s2seAwPDygccHxgY+L4zsDUwMPB+YGA9wMDA38Dgb8DA8P4Agz6DA4O/AsNFJgMGxgKm\n",
       "MG6gyjunLE4xAAAZTBA5TB6DCwAAAABJRU5ErkJggg==\n",
       "\" style=\"display:inline;vertical-align:middle;\" /></a></td></tr>\n",
       "<tr><td>8</td><td>Variable</td><td></td><td><a class=\"ProveItLink\" href=\"../../../__pv_it/6840a4fa6c106149dc16a131294d0c5e44f1b0480/expr.ipynb\"><img src=\"data:image/png;base64,iVBORw0KGgoAAAANSUhEUgAAAAkAAAAOBAMAAAAPuiubAAAALVBMVEX///9mZmbMzMxERESYmJiI\n",
       "iIh2dna6urqqqqoyMjIiIiIQEBBUVFTu7u4AAAD9S1JeAAAAAXRSTlMAQObYZgAAAE1JREFUCNdj\n",
       "4D29gAEIOA+ASL4GEFl3AURmgQiGOaFHGBh4HzPwKTBwvGXgTmBgnMDAJ8DAJcBQ5wBSLncBJLWN\n",
       "gYGngRFoBO9REQYGAGrcDtUkVqASAAAAAElFTkSuQmCC\n",
       "\" style=\"display:inline;vertical-align:middle;\" /></a></td></tr>\n",
       "<tr><td>9</td><td>Operation</td><td>operator:&nbsp;10<br>operand:&nbsp;11<br></td><td><a class=\"ProveItLink\" href=\"../614fc63f800f760ac083fdfc7953bd78bd9e57660/expr.ipynb\"><img src=\"data:image/png;base64,iVBORw0KGgoAAAANSUhEUgAAABgAAAAJBAMAAADa0/H1AAAALVBMVEX///9mZmZUVFSYmJhEREQQ\n",
       "EBDMzMyIiIh2dnbu7u66uroiIiIyMjLc3NwAAAAqLqEbAAAAAXRSTlMAQObYZgAAADtJREFUCNdj\n",
       "YICBGe1lcDZbFMNpOGdqAYMzw53dILCLQY8BCTxBYvM+R5Z5zMDADOcoMjC0wTmM7eUTAI9lDmgK\n",
       "jUlGAAAAAElFTkSuQmCC\n",
       "\" style=\"display:inline;vertical-align:middle;\" /></a></td></tr>\n",
       "<tr><td>10</td><td>Literal</td><td></td><td><a class=\"ProveItLink\" href=\"../../../number/negation/__pv_it/3fc7a08bb9735faa20ef8e175f6ea95511acc9c70/expr.ipynb\"><img src=\"data:image/png;base64,iVBORw0KGgoAAAANSUhEUgAAAA4AAAACBAMAAACapPCZAAAAElBMVEX///+6uroiIiIyMjLc3NwA\n",
       "AAA6l9OrAAAAAXRSTlMAQObYZgAAABBJREFUCNdjcFYCAUUGKAAADR4BD8/TF5gAAAAASUVORK5C\n",
       "YII=\n",
       "\" style=\"display:inline;vertical-align:middle;\" /></a></td></tr>\n",
       "<tr><td>11</td><td>Variable</td><td></td><td><a class=\"ProveItLink\" href=\"../../../__pv_it/cbdfda466482236edba0ce44ac7ef39cda0af7a40/expr.ipynb\"><img src=\"data:image/png;base64,iVBORw0KGgoAAAANSUhEUgAAAAkAAAAJBAMAAAASvxsjAAAALVBMVEX///9mZmbc3NxUVFSYmJhE\n",
       "REQiIiIyMjK6uroQEBDMzMyIiIh2dnbu7u4AAABgFDGoAAAAAXRSTlMAQObYZgAAADZJREFUCNdj\n",
       "YOA9s3sBA8PKBvYEBt7ZDKwODMwPGICALwBE6m0Asx0YGIDiAgw8QJUyu/cyAAAmuwmycZ8WfQAA\n",
       "AABJRU5ErkJggg==\n",
       "\" style=\"display:inline;vertical-align:middle;\" /></a></td></tr>\n",
       "</table>\n"
      ],
      "text/plain": [
       "0. (b - c) = (-a)\n",
       "   core type: Operation\n",
       "   operator: 1\n",
       "   operands: 2\n",
       "1. =\n",
       "   core type: Literal\n",
       "   sub-expressions: \n",
       "2. (b - c , -a)\n",
       "   core type: ExprTuple\n",
       "   sub-expressions: 3, 4\n",
       "3. b - c\n",
       "   core type: Operation\n",
       "   operator: 5\n",
       "   operands: 6\n",
       "4. -a\n",
       "   core type: Operation\n",
       "   operator: 10\n",
       "   operand: 7\n",
       "5. +\n",
       "   core type: Literal\n",
       "   sub-expressions: \n",
       "6. (b , -c)\n",
       "   core type: ExprTuple\n",
       "   sub-expressions: 8, 9\n",
       "7. a\n",
       "   core type: Variable\n",
       "   sub-expressions: \n",
       "8. b\n",
       "   core type: Variable\n",
       "   sub-expressions: \n",
       "9. -c\n",
       "   core type: Operation\n",
       "   operator: 10\n",
       "   operand: 11\n",
       "10. -\n",
       "    core type: Literal\n",
       "    sub-expressions: \n",
       "11. c\n",
       "    core type: Variable\n",
       "    sub-expressions: "
      ]
     },
     "execution_count": 4,
     "metadata": {},
     "output_type": "execute_result"
    }
   ],
   "source": [
    "# display the expression information\n",
    "expr.exprInfo()"
   ]
  },
  {
   "cell_type": "code",
   "execution_count": null,
   "metadata": {},
   "outputs": [],
   "source": []
  }
 ],
 "metadata": {
  "kernelspec": {
   "display_name": "Python 3",
   "language": "python",
   "name": "python3"
  }
 },
 "nbformat": 4,
 "nbformat_minor": 0
}
