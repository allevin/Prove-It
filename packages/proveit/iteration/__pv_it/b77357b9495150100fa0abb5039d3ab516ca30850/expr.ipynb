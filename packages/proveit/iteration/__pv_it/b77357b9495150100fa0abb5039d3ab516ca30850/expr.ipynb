{
 "cells": [
  {
   "cell_type": "markdown",
   "metadata": {},
   "source": [
    "Expression of type <a class=\"ProveItLink\" href=\"../../../../../doc/html/api/proveit.logic.Equals.html\">Equals</a>\n",
    "=======================\n",
    "# from context <a class=\"ProveItLink\" href=\"../../_context_.ipynb\">proveit.iteration</a>"
   ]
  },
  {
   "cell_type": "code",
   "execution_count": 1,
   "metadata": {},
   "outputs": [],
   "source": [
    "# import Expression classes needed to build the expression\n",
    "from proveit._common_ import j\n",
    "from proveit.logic import Equals\n",
    "from proveit.number import Add, one"
   ]
  },
  {
   "cell_type": "code",
   "execution_count": 2,
   "metadata": {},
   "outputs": [
    {
     "data": {
      "text/html": [
       "<strong id=\"expr\">expr:</strong> <a class=\"ProveItLink\" href=\"expr.ipynb\"><img src=\"data:image/png;base64,iVBORw0KGgoAAAANSUhEUgAAAJMAAAAVBAMAAACwIsHjAAAAMFBMVEX////c3NwiIiJERESqqqqY\n",
       "mJh2dnZmZmYQEBDu7u4yMjJUVFTMzMyIiIi6uroAAAAs73DqAAAAAXRSTlMAQObYZgAAAalJREFU\n",
       "OMutlD9Iw0AUxr/SP2lqU7p3EUF0dLCCk50F0clBQd06CUVoFXHo0MmhVlyKDhahlEYQnTvYvYNd\n",
       "BcXaSQqCDiKKFO+a5EjuXQbBB3l35Lv78b5c7gH/GImujxDu/WHxBk8d9gQrRNtM4oDu6NiSN+YB\n",
       "rc3GJqAvUNQ6EKOopi154uSLpRpgdKG3bh3Uscfhlkwy3P50u7izFketAlFOeXJQS+6NelFGRd3V\n",
       "hxyuwVFVYABfFGZl1AC+qGAGBSVKf2SfElkZVRASQUVyqCtREUyyvMinmjmKaz6vC4mgQjWUlah7\n",
       "fLD8IldVFhJBJYoYKlHJxDvLdzJqKCSCir+5UfumOW2al5bDcT+UJTHbF4e2bQdVUp9gLOcY1CZG\n",
       "McPnJSGpDKbVqPMMS2tyVWkhEVS4Zh04RS1XVD9DVkiqn6HPht2jxoqE2uHpSkb1heRCaXvfeWa7\n",
       "h6jnmgvUlPriJG3JU9UoqvKdfbWG58APr5k0J7bYkmjv2nb6hjfin0F+SqeKJmNLJHTWZJBSvJ/L\n",
       "8+GGKilbIjHGrQf8eqzRpu98Fz8Av5QdiTp4YanGAAAAAElFTkSuQmCC\n",
       "\" style=\"display:inline;vertical-align:middle;\" /></a><br>"
      ],
      "text/plain": [
       "expr: (1 + j) = (j + 1)"
      ]
     },
     "execution_count": 2,
     "metadata": {},
     "output_type": "execute_result"
    }
   ],
   "source": [
    "# build up the expression from sub-expressions\n",
    "expr = Equals(Add(one, j), Add(j, one))"
   ]
  },
  {
   "cell_type": "code",
   "execution_count": 3,
   "metadata": {},
   "outputs": [
    {
     "name": "stdout",
     "output_type": "stream",
     "text": [
      "Passed sanity check: built 'expr' is the same as the stored Expression.\n"
     ]
    }
   ],
   "source": [
    "# check that the built expression is the same as the stored expression\n",
    "%check_expr"
   ]
  },
  {
   "cell_type": "code",
   "execution_count": 4,
   "metadata": {},
   "outputs": [
    {
     "data": {
      "text/html": [
       "<table><tr><th>&nbsp;</th><th>core type</th><th>sub-expressions</th><th>expression</th></tr>\n",
       "<tr><td>0</td><td>Operation</td><td>operator:&nbsp;1<br>operands:&nbsp;2<br></td><td><a class=\"ProveItLink\" href=\"expr.ipynb\"><img src=\"data:image/png;base64,iVBORw0KGgoAAAANSUhEUgAAAJMAAAAVBAMAAACwIsHjAAAAMFBMVEX////c3NwiIiJERESqqqqY\n",
       "mJh2dnZmZmYQEBDu7u4yMjJUVFTMzMyIiIi6uroAAAAs73DqAAAAAXRSTlMAQObYZgAAAalJREFU\n",
       "OMutlD9Iw0AUxr/SP2lqU7p3EUF0dLCCk50F0clBQd06CUVoFXHo0MmhVlyKDhahlEYQnTvYvYNd\n",
       "BcXaSQqCDiKKFO+a5EjuXQbBB3l35Lv78b5c7gH/GImujxDu/WHxBk8d9gQrRNtM4oDu6NiSN+YB\n",
       "rc3GJqAvUNQ6EKOopi154uSLpRpgdKG3bh3Uscfhlkwy3P50u7izFketAlFOeXJQS+6NelFGRd3V\n",
       "hxyuwVFVYABfFGZl1AC+qGAGBSVKf2SfElkZVRASQUVyqCtREUyyvMinmjmKaz6vC4mgQjWUlah7\n",
       "fLD8IldVFhJBJYoYKlHJxDvLdzJqKCSCir+5UfumOW2al5bDcT+UJTHbF4e2bQdVUp9gLOcY1CZG\n",
       "McPnJSGpDKbVqPMMS2tyVWkhEVS4Zh04RS1XVD9DVkiqn6HPht2jxoqE2uHpSkb1heRCaXvfeWa7\n",
       "h6jnmgvUlPriJG3JU9UoqvKdfbWG58APr5k0J7bYkmjv2nb6hjfin0F+SqeKJmNLJHTWZJBSvJ/L\n",
       "8+GGKilbIjHGrQf8eqzRpu98Fz8Av5QdiTp4YanGAAAAAElFTkSuQmCC\n",
       "\" style=\"display:inline;vertical-align:middle;\" /></a></td></tr>\n",
       "<tr><td>1</td><td>Literal</td><td></td><td><a class=\"ProveItLink\" href=\"../../../logic/equality/__pv_it/2fb26078095930560931daa0500ce419a39ea6cd0/expr.ipynb\"><img src=\"data:image/png;base64,iVBORw0KGgoAAAANSUhEUgAAAA4AAAAFBAMAAACHocAhAAAAFVBMVEX///9EREQiIiJUVFQyMjJm\n",
       "ZmYAAADubVkoAAAAAXRSTlMAQObYZgAAABRJREFUCNdjCHEBAWcGXCBICQQUAUpuAwlgGKrkAAAA\n",
       "AElFTkSuQmCC\n",
       "\" style=\"display:inline;vertical-align:middle;\" /></a></td></tr>\n",
       "<tr><td>2</td><td>ExprTuple</td><td>3, 4</td><td><a class=\"ProveItLink\" href=\"../d165a5c5cf823fedb194cd9fa9a65c6d025f0bef0/expr.ipynb\"><img src=\"data:image/png;base64,iVBORw0KGgoAAAANSUhEUgAAAG8AAAAVBAMAAAC6Uq30AAAAMFBMVEX////c3NwiIiJERESqqqqY\n",
       "mJh2dnZmZmYQEBDu7u4yMjJUVFTMzMyIiIi6uroAAAAs73DqAAAAAXRSTlMAQObYZgAAAURJREFU\n",
       "OMtjYCAb8F0gXU8ciDgNxMwTMOTiBdAZMGDJwMB+AEivZGDgtMfUGI3BgILJP4HEAgYG3gsMnLv3\n",
       "wzROxOk6TqjFs3eDNIYxMHCA9NyHafTFqZEFFhS8II0zGBheMZCjkdmBoQyrRs67lmgMVI1sBQxL\n",
       "sWpkY1BFY6BqZFnA0IdV402Gr2gMVI18DQz/sGoU4PuIxkDVyPMBWWPVqlUaq1athjhRAeZoEIN9\n",
       "1apFXatWbUDW2II9VLkK0BgYTjXFrnG+AwMnjIFFI+sChnTsGv0nMMxXgDKwR8cjIFXevzwATWMR\n",
       "MHV8hDJQNLJX/CoFeuABAwdK4odrVAfihzAGio1gAExyrAnIAm8h1EPGP0AyAMbAzLa5kGyFDni+\n",
       "MxeANUIZmFkFmK0YpLGIm5WCQgHGwATcIP8xklF03GFgAACQ7W9nuLGOdwAAAABJRU5ErkJggg==\n",
       "\" style=\"display:inline;vertical-align:middle;\" /></a></td></tr>\n",
       "<tr><td>3</td><td>Operation</td><td>operator:&nbsp;6<br>operands:&nbsp;5<br></td><td><a class=\"ProveItLink\" href=\"../4d3851db86b25034f4d7987f02d94407317e6c2f0/expr.ipynb\"><img src=\"data:image/png;base64,iVBORw0KGgoAAAANSUhEUgAAACwAAAASBAMAAADS2iHvAAAAMFBMVEX////MzMx2dna6uroiIiKq\n",
       "qqrc3NyYmJgyMjIQEBBmZmaIiIhUVFTu7u5EREQAAACN3imBAAAAAXRSTlMAQObYZgAAAHtJREFU\n",
       "GNNjYGB4y4AO2L8xMNz7iyl8gOHOGZgwbwKyFDdMmHUDWcK3913AJqzAUoBFmPsCPzZhNgb7BJgw\n",
       "V0dHy4yOjgNgCRXsLunCKsz7FaswK1CEa+WP5WjCXA7I/oILsyxAFmaGCDMn5AswYAL5Ba+wiDLc\n",
       "0wL6EQCGXC1gWFqCRwAAAABJRU5ErkJggg==\n",
       "\" style=\"display:inline;vertical-align:middle;\" /></a></td></tr>\n",
       "<tr><td>4</td><td>Operation</td><td>operator:&nbsp;6<br>operands:&nbsp;7<br></td><td><a class=\"ProveItLink\" href=\"../cdbd80afd2c6c46686a681eba53731dfe31233aa0/expr.ipynb\"><img src=\"data:image/png;base64,iVBORw0KGgoAAAANSUhEUgAAAC0AAAASBAMAAAA9GErRAAAAMFBMVEX///8QEBDMzMyqqqpmZmYy\n",
       "MjK6uroiIiJ2dnZERESIiIju7u5UVFTc3NyYmJgAAACtHSfyAAAAAXRSTlMAQObYZgAAAHxJREFU\n",
       "GNNjYGBg4PvLgAo4N4ApvgOowtzzN6Dw90KFz5xHFbeCMdbjFd+1cgNW8Qb2B9jEuTbwYxXnZci/\n",
       "gN3edhDhGhpaGBoagywegt093J+xizP/xi7OUoAm7iIfAnIhuwO6ehBgu3BfAcrMQhbXd5jCgA3s\n",
       "bHmATRgAoIYqkRdm8BoAAAAASUVORK5CYII=\n",
       "\" style=\"display:inline;vertical-align:middle;\" /></a></td></tr>\n",
       "<tr><td>5</td><td>ExprTuple</td><td>9, 8</td><td><a class=\"ProveItLink\" href=\"../f213646c4260e126c48fd781da597d88dd03b64d0/expr.ipynb\"><img src=\"data:image/png;base64,iVBORw0KGgoAAAANSUhEUgAAACkAAAAVBAMAAAAp9toTAAAAMFBMVEX////c3NwiIiJERESqqqqY\n",
       "mJh2dnZmZmYQEBDu7u4yMjJUVFTMzMyIiIi6uroAAAAs73DqAAAAAXRSTlMAQObYZgAAAOJJREFU\n",
       "GNNjYMAO+C6gCcSBiNNAzDwBLhYvwH4ASK1kYOC0R4hGMzAsYGDgvcDAuXv/BGQjwhgYOEAC91FE\n",
       "ZzAwvGLAEGV2YChDEeW8a8nAwFbAsBRFlI1BlYGBZQFDH4roTYavQB80MPxDERXg+8jAwPMBTZSB\n",
       "TQEs2oIqylUANsEUJgqRmO/AwMC6gCEdKsr5CSzqPwHsskdAZnn/8gDOfgGQaBHIlAcMHAKwEAUz\n",
       "1CE+Zk2AirIC8UPGP0AyFxKSMFGe78xAJ3ACQ5JBGioKjBJOs1IggxtkFCN6DN1hYAAAH1M7JZoR\n",
       "oFMAAAAASUVORK5CYII=\n",
       "\" style=\"display:inline;vertical-align:middle;\" /></a></td></tr>\n",
       "<tr><td>6</td><td>Literal</td><td></td><td><a class=\"ProveItLink\" href=\"../../../number/addition/__pv_it/3e6688136fa3c7aefbebe51301b7c3ebf0b69c440/expr.ipynb\"><img src=\"data:image/png;base64,iVBORw0KGgoAAAANSUhEUgAAAA4AAAAOBAMAAADtZjDiAAAAJFBMVEX///+6urpUVFQQEBAiIiIy\n",
       "MjJmZmaIiIiqqqrc3Nzu7u4AAACgHpL+AAAAAXRSTlMAQObYZgAAAB5JREFUCNdjYGBgWMkAAe2k\n",
       "0Kmhoc6hoUGk6BMHYgAHOwjcado9fwAAAABJRU5ErkJggg==\n",
       "\" style=\"display:inline;vertical-align:middle;\" /></a></td></tr>\n",
       "<tr><td>7</td><td>ExprTuple</td><td>8, 9</td><td><a class=\"ProveItLink\" href=\"../f3942352b5129835bdbb7296106bb14341010c620/expr.ipynb\"><img src=\"data:image/png;base64,iVBORw0KGgoAAAANSUhEUgAAACcAAAAVBAMAAAA3P+qgAAAAMFBMVEX////c3NwiIiJERESqqqqY\n",
       "mJh2dnZmZmYQEBDu7u4yMjJUVFTMzMyIiIi6uroAAAAs73DqAAAAAXRSTlMAQObYZgAAANxJREFU\n",
       "GNNjYMAK+C6g8uNAxGkQES8AEbFkYGA/AKRXgjjRELHJP4HEAgYGXiTds3eDBMMYGDgmIJnHCxKc\n",
       "wcDwigFdkNmBoQxIcd61RBJkK2BYCqIYVJEEWRYw9AGpmwxfkQT5Ghj+ASkBvo9IgjwfwIIMbAqo\n",
       "gi0gDlcBqnZTEGe+A8MEuCDrAoZ0EMd/AucnZCc9AnGKGDj7gUHCXvGrFGjWAwYOUPioA00SgHkL\n",
       "6E3WBIaHjH+ANNyvuaCg4/nOXIAkyAkMOgZpTjOgQQzwEOQGmcOIFh13GBgAr9g3kilCIHkAAAAA\n",
       "SUVORK5CYII=\n",
       "\" style=\"display:inline;vertical-align:middle;\" /></a></td></tr>\n",
       "<tr><td>8</td><td>Variable</td><td></td><td><a class=\"ProveItLink\" href=\"../../../__pv_it/612356038763a16ceac85a062629d016c986635c0/expr.ipynb\"><img src=\"data:image/png;base64,iVBORw0KGgoAAAANSUhEUgAAAAoAAAASBAMAAACQmVJ4AAAALVBMVEX////MzMyqqqpmZmYyMjK6\n",
       "uroiIiJ2dnZERESIiIju7u5UVFTc3NyYmJgAAAAeP2GyAAAAAXRSTlMAQObYZgAAAE1JREFUCNdj\n",
       "YGBg4H3DACI3MGADK2csAJIFbBcYGDgX8AFJHoa4AyCJMrC0M4jgegQimV6BSOYEEMlmwMDAeuCc\n",
       "AAODnEEzkL+iGKgTAMbaDxjCuhcwAAAAAElFTkSuQmCC\n",
       "\" style=\"display:inline;vertical-align:middle;\" /></a></td></tr>\n",
       "<tr><td>9</td><td>Literal</td><td></td><td><a class=\"ProveItLink\" href=\"../../../number/numeral/__pv_it/9be8badea4c35b9724062cecc501d17a3158d1d20/expr.ipynb\"><img src=\"data:image/png;base64,iVBORw0KGgoAAAANSUhEUgAAAAgAAAAPBAMAAAArJJMAAAAAHlBMVEX///+YmJgyMjIQEBBmZmaI\n",
       "iIhUVFTu7u5EREQAAAAw+MI4AAAAAXRSTlMAQObYZgAAACFJREFUCNdjYGBoZ2BgqJjOwFCWBiQY\n",
       "WEklWJwnOTKAAACjEQo8HvEr3AAAAABJRU5ErkJggg==\n",
       "\" style=\"display:inline;vertical-align:middle;\" /></a></td></tr>\n",
       "</table>\n"
      ],
      "text/plain": [
       "0. (1 + j) = (j + 1)\n",
       "   core type: Operation\n",
       "   operator: 1\n",
       "   operands: 2\n",
       "1. =\n",
       "   core type: Literal\n",
       "   sub-expressions: \n",
       "2. (1 + j , j + 1)\n",
       "   core type: ExprTuple\n",
       "   sub-expressions: 3, 4\n",
       "3. 1 + j\n",
       "   core type: Operation\n",
       "   operator: 6\n",
       "   operands: 5\n",
       "4. j + 1\n",
       "   core type: Operation\n",
       "   operator: 6\n",
       "   operands: 7\n",
       "5. (1 , j)\n",
       "   core type: ExprTuple\n",
       "   sub-expressions: 9, 8\n",
       "6. +\n",
       "   core type: Literal\n",
       "   sub-expressions: \n",
       "7. (j , 1)\n",
       "   core type: ExprTuple\n",
       "   sub-expressions: 8, 9\n",
       "8. j\n",
       "   core type: Variable\n",
       "   sub-expressions: \n",
       "9. 1\n",
       "   core type: Literal\n",
       "   sub-expressions: "
      ]
     },
     "execution_count": 4,
     "metadata": {},
     "output_type": "execute_result"
    }
   ],
   "source": [
    "# display the expression information\n",
    "expr.exprInfo()"
   ]
  },
  {
   "cell_type": "code",
   "execution_count": null,
   "metadata": {},
   "outputs": [],
   "source": []
  }
 ],
 "metadata": {
  "kernelspec": {
   "display_name": "Python 3",
   "language": "python",
   "name": "python3"
  }
 },
 "nbformat": 4,
 "nbformat_minor": 0
}
