{
 "cells": [
  {
   "cell_type": "markdown",
   "metadata": {},
   "source": [
    "Show the Proof\n",
    "========"
   ]
  },
  {
   "cell_type": "code",
   "execution_count": 1,
   "metadata": {},
   "outputs": [
    {
     "data": {
      "text/html": [
       "<table><tr><th>&nbsp;</th><th>step type</th><th>requirements</th><th>statement</th></tr>\n",
       "<tr><td>0</td><td>specialization</td><td>1, 2, 3</td><td><span style=\"font-size:20px;\"><a class=\"ProveItLink\" href=\"../1826ae4f01c6ab2eca62a9ce6222c1440e6a71400/expr.ipynb\"><img src=\"data:image/png;base64,iVBORw0KGgoAAAANSUhEUgAAAIEAAAAVBAMAAACTeZA2AAAAMFBMVEX///9ERETc3NyqqqpUVFS6\n",
       "urrMzMwyMjIQEBCIiIh2dnYiIiLu7u5mZmaYmJgAAABJJ2g3AAAAAXRSTlMAQObYZgAAAhxJREFU\n",
       "OMtjYGDgu8dAJmBbpQCieHYxkA3YmkEk5wcQyfcJRer4R/EDDLd/G4A5R7rRNPLUC9Yw8O7fzMBw\n",
       "HcTlagCb4ICqSI5NgIHhA5RTi24344NEBgZ+IGMFwgR04J0wk4EBJvMZXZZlG+cEBg6sJvBM3727\n",
       "AMRwrWFJgJnA+gcmfbJ693awCeEH3HCYkP4GynBL4amBmcBVAAu4ugNQN6Q5HD+AasLJiWA5JhmY\n",
       "UW7MExJhJrAv4LsfAGIoHoD5IsGSTQBuAi/IhgXcD8AhpAA3geEq3wSoCedj1sSDY0UIHg4JvAEv\n",
       "QSa8B/EygMZzHuAHm3CQAWECywE3qAn2mdBAEkCYwODDkgFy3gUGhpQ2kOsZ4sG2R+zeDQ1JNwYe\n",
       "h+NQE+5vhYZoN1B2O9SEIzwVIJY40OaIBBBrNVhNCpIbGLLYoCbsPLIHEpAOSG5gWwByA/cCEK8A\n",
       "kWhOI5vAZwBxNc83hs9MYMYGJBMYHjPCwoELJM4DSTQsD5BMYFgkwMADSq4feL5ygQX9kE3gUkSJ\n",
       "TWZIouHZClMjComl80DjWQQYPnFCnBgAS9UgxnUUE3ihDlS/BqHDfwB9wFPAcAKY4dgfMMxdAxZl\n",
       "qk2ABGl9Iyj3oZjAfQFqukn17gLkHBCEkh+Y3SFxAQcwE1gV9BNwlAAP8BcQYBP4GhjyL8gykGcC\n",
       "uHzg2clwcC0uhZwEyqhWMMW3mKJyEgCoL45w95ooFAAAAABJRU5ErkJggg==\n",
       "\" style=\"display:inline;vertical-align:middle;\" /></a> <a class=\"ProveItLink\" href=\"proof.ipynb\" style=\"text-decoration: none\">&#x22A2;&nbsp;</a><a class=\"ProveItLink\" href=\"../7068647970da3c1ef24cfd6303f3a17b0549174c0/expr.ipynb\"><img src=\"data:image/png;base64,iVBORw0KGgoAAAANSUhEUgAAAGUAAAAVBAMAAACtcD09AAAAMFBMVEX////c3NwiIiJERESqqqqY\n",
       "mJh2dnZmZmYQEBDu7u4yMjJUVFTMzMyIiIi6uroAAAAs73DqAAAAAXRSTlMAQObYZgAAAbJJREFU\n",
       "OMtjYCAH8F3AJROHU89pEBEvgCLGuUMBSLIfQFU567PVBIaiTw4MDCtB3Gg0g7gKQOQCNFFTHgMG\n",
       "hg8MDLwoTpsIpfkdQGQYmp5NB+4yMDQwMHBMQBb1hdLvwaIzoC69paQEtnLfSu4DID2vGLDpyQKT\n",
       "zGDbGE5FQkX3nOZcCdJTBjLoriWanmUM4f8YGNjAvmKESTLsYblwGKRnKZDNxqCKqofz37R5XxgY\n",
       "WMAuYoaH6R6GOtYLQD19QPZNhq+oelj+gEOGrwFETmZA6OGesAcoBnQCgwDfR1Q97J8egCieDyDy\n",
       "hZISNAz2MHBumAXVw8AGikKGqlWrNFatWg1kMd3cNAGu5zSSPQzHeIB6WhBRiLBn/gF+BwGY2yYh\n",
       "62F1AEarKViNA6qeeIb5DxKACsAu4g5A0sOQCNSTDuL4T0DVs5mBX+ACLKw59WB67EBeBZrzCMQp\n",
       "QovTpQy8ZUBjuMAhwSBVAxF99QNoBydQDwco9NXR0wEEQNMOg/ciJZTkyprA8JDxD4z3FkVPLq78\n",
       "s5LnO3MBVhnOBbj0SHOalWKX4RbApYcRZ96+g0McACzlbRi6ewfAAAAAAElFTkSuQmCC\n",
       "\" style=\"display:inline;vertical-align:middle;\" /></a></span></td></tr>\n",
       "<tr><td>&nbsp;</td><td colspan=4 style=\"text-align:left\"><span style=\"font-size:20px;\"><a class=\"ProveItLink\" href=\"../../../__pv_it/07527342713064c87612d00d8557c53d53d5324a0/expr.ipynb\"><img src=\"data:image/png;base64,iVBORw0KGgoAAAANSUhEUgAAAAsAAAAJBAMAAAAWSsseAAAAMFBMVEX///8yMjKqqqrMzMzu7u4i\n",
       "IiJmZmaYmJhEREQQEBC6urp2dnaIiIhUVFTc3NwAAAD87Fq/AAAAAXRSTlMAQObYZgAAAEhJREFU\n",
       "CNdjYOC7s2seAwPDygccHxgY+L4zsDUwMPB+YGA9wMDA38Dgb8DA8P4Agz6DA4O/AsNFJgMGxgKm\n",
       "MG6gyjunLE4xAAAZTBA5TB6DCwAAAABJRU5ErkJggg==\n",
       "\" style=\"display:inline;vertical-align:middle;\" /></a> : <a class=\"ProveItLink\" href=\"../../../__pv_it/612356038763a16ceac85a062629d016c986635c0/expr.ipynb\"><img src=\"data:image/png;base64,iVBORw0KGgoAAAANSUhEUgAAAAoAAAASBAMAAACQmVJ4AAAALVBMVEX////MzMyqqqpmZmYyMjK6\n",
       "uroiIiJ2dnZERESIiIju7u5UVFTc3NyYmJgAAAAeP2GyAAAAAXRSTlMAQObYZgAAAE1JREFUCNdj\n",
       "YGBg4H3DACI3MGADK2csAJIFbBcYGDgX8AFJHoa4AyCJMrC0M4jgegQimV6BSOYEEMlmwMDAeuCc\n",
       "AAODnEEzkL+iGKgTAMbaDxjCuhcwAAAAAElFTkSuQmCC\n",
       "\" style=\"display:inline;vertical-align:middle;\" /></a>, <a class=\"ProveItLink\" href=\"../../../__pv_it/6840a4fa6c106149dc16a131294d0c5e44f1b0480/expr.ipynb\"><img src=\"data:image/png;base64,iVBORw0KGgoAAAANSUhEUgAAAAkAAAAOBAMAAAAPuiubAAAALVBMVEX///9mZmbMzMxERESYmJiI\n",
       "iIh2dna6urqqqqoyMjIiIiIQEBBUVFTu7u4AAAD9S1JeAAAAAXRSTlMAQObYZgAAAE1JREFUCNdj\n",
       "4D29gAEIOA+ASL4GEFl3AURmgQiGOaFHGBh4HzPwKTBwvGXgTmBgnMDAJ8DAJcBQ5wBSLncBJLWN\n",
       "gYGngRFoBO9REQYGAGrcDtUkVqASAAAAAElFTkSuQmCC\n",
       "\" style=\"display:inline;vertical-align:middle;\" /></a> : <a class=\"ProveItLink\" href=\"../../../__pv_it/1a7356cf6caf039e07a5436d90e972cbb5e92b0a0/expr.ipynb\"><img src=\"data:image/png;base64,iVBORw0KGgoAAAANSUhEUgAAAAoAAAAOBAMAAADkjZCYAAAAMFBMVEX///9ERETc3NyIiIjMzMyY\n",
       "mJh2dna6urqqqqpmZmYyMjIiIiIQEBBUVFTu7u4AAAD6+w4kAAAAAXRSTlMAQObYZgAAAFBJREFU\n",
       "CNdj4LuzgQEIuCaASP4GEFn/AERmgQiGZQyR3xn4vj97/oOB44sBUIDzdwGQ5La7DVT03oG/QYEh\n",
       "nuF9QQLDRQZ+BQOGpQzM0x4AAD+VFjuIiDKbAAAAAElFTkSuQmCC\n",
       "\" style=\"display:inline;vertical-align:middle;\" /></a></span></td></tr><tr><td>1</td><td>theorem</td><td></td><td><span style=\"font-size:20px;\"> <a class=\"ProveItLink\" href=\"../../../number/addition/_proofs_/addNatClosureBin.ipynb\" style=\"text-decoration: none\">&#x22A2;&nbsp;</a><a class=\"ProveItLink\" href=\"../a9c362f1d28869d737a311a07e96baeb6f94b3290/expr.ipynb\"><img src=\"data:image/png;base64,iVBORw0KGgoAAAANSUhEUgAAALYAAAAWBAMAAACfwnvZAAAAMFBMVEX///8QEBC6urrMzMxUVFRm\n",
       "ZmZERETc3NwyMjKqqqp2dnaIiIiYmJgiIiLu7u4AAAAU9Wx4AAAAAXRSTlMAQObYZgAAAutJREFU\n",
       "OMu1VU1oE0EU/pLsZpPNZlMEFT2lKFgQ6RZLraI02oNCpQRKQWzBYCFFENmD2l7EKD1E0DYHBaEH\n",
       "g1BExLLUH0RBFr2ogVIVEYXoCkV70RYP9aAUZ3Zms9k0m170wTc782b2y8s3770F/qNZax8JGgx1\n",
       "7ZmPX0kCc3RSasjdzlFr6n7ysqjVOCey4xA/f0AfcJs6xhtyj/udiKTIkKtxhs0OIEE2gbNkKWUa\n",
       "UccMBte+8WeiQIZXNceFt+RwgIhSRIQILhYacQcsBtcm+bOVer9wLR6Vy/ZfEFqsbsqtNkG5NTJy\n",
       "rqEkLRyrue/aGrDAOmeduHemFizCjRPAcjb7sSH3UQ6p5+ZGL/fYk8OAnKZT6VRFE20ylKHcU0A3\n",
       "MFzJtnwd7ssczXp4ycOtLiOhIWorEdZdbjFZotzXga1Q3aue4s/O/mRsPdd4HYP0B2LGwx1dQaCI\n",
       "YBOdf3XvUkOv0EZjAeKImZWNSzScB/2mkpnGNPf9ZBCWEDc83GIOiTRC9p9pLpedu9Qwr14gky6S\n",
       "XmbcTYJfBA+3/bCUkljLnchgkdbJkXz+dT4/RmbxNFpNzt1eHXeo2Ma41Rz1n3k8RPX+fd9S6N0o\n",
       "u3cZDvcmhvMGbvAOMVlJ72MW1+R7NTdehpkmGD5AfuC9tELLZE5JRexuoE0/d7hPMiwWcCiqebg1\n",
       "bCZHmRJmNbdMK/IFwTXSFYR0iDaWsKHM7WHcstxbdb8EETP6TvboLRTElJOD6ptKzSepcPy9ALmh\n",
       "RDJGe0NAEzP7stmsoWjS7Cd+eAeD1DPTMePNwZ5B2lSS9mK0j6fxxAYyLhBcpDESERet8KxOW0zc\n",
       "nGdxY8tTp+Z1htV1aRuveVy9Uva0LbWp0jO69lqjepwkvKAzbsXRmzQdG65tr17c8Sln2WlvwYHS\n",
       "ILrM4EAR6nHaP8iQWrPH2uHlfDYWvEt21zLR2+M+zVHXBN1n46BnFfI5JhkMde2eX9f3fo+Uf/wp\n",
       "/gtM77n9I8cAagAAAABJRU5ErkJggg==\n",
       "\" style=\"display:inline;vertical-align:middle;\" /></a></span></td></tr>\n",
       "<tr><td>&nbsp;</td><td colspan=4 style-\"text-align:left\"><a class=\"ProveItLink\" href=\"../../../number/addition/_proofs_/addNatClosureBin.ipynb\">proveit.number.addition.addNatClosureBin</a></td></tr><tr><td>2</td><td>assumption</td><td></td><td><span style=\"font-size:20px;\"><a class=\"ProveItLink\" href=\"../44e7e6b24f7cc8df00aab935aeb0a4a807b02ba00/expr.ipynb\"><img src=\"data:image/png;base64,iVBORw0KGgoAAAANSUhEUgAAAEUAAAAVBAMAAADiLT7tAAAAMFBMVEX///9ERETc3NyqqqpUVFS6\n",
       "urrMzMwyMjIQEBCIiIh2dnYiIiLu7u5mZmaYmJgAAABJJ2g3AAAAAXRSTlMAQObYZgAAATFJREFU\n",
       "KM9jYGDgu8eAE7CtUgBRPLsY8AC2ZhDJ+QHMea+ALMVTL1jDwLt/MwPDdRCXqwEs+gRVP+ODRAYG\n",
       "fiBjBZIaNMCyjXMCAwdWNTzTd+8uAKsJP+CGQ036G5g5aQ7HD6Cq4ZkpA2IzycDtSrBkE4Cr4QWZ\n",
       "zcWwD+xSBYQa3oCXIDXvQbyMACAxh+EfiH0Q4eYEBh+WDCCD/QIDQ0obSEiB9ROIiti9G+bmBIYj\n",
       "PBUglvgDoHgC2FUbQGQKsjlsC0DmcC8A8cD6QEYyMJxGVsPwmBHmHogJ5w3AMg+Q1XApooaP/QFw\n",
       "EG6FxwXIJ9dR1dyGSKlfg9Cs9Y1A8jiqmr1Q/SbVEH/BAVxNENM3XAkIrIavgYHtL+MFXGrA6Ydn\n",
       "JwOPFM7kytYKpvgWE0jPAARhTuAp9+XfAAAAAElFTkSuQmCC\n",
       "\" style=\"display:inline;vertical-align:middle;\" /></a> <a class=\"ProveItLink\" href=\"../385c2a8c436687b2f59ec031e0eef590431f63f10/proof.ipynb\" style=\"text-decoration: none\">&#x22A2;&nbsp;</a><a class=\"ProveItLink\" href=\"../71f4812e88ddb4f5567c49ebb725687beeb5a8250/expr.ipynb\"><img src=\"data:image/png;base64,iVBORw0KGgoAAAANSUhEUgAAADMAAAASBAMAAAAEf/uKAAAAMFBMVEX///8QEBDMzMyqqqpmZmYy\n",
       "MjK6uroiIiJ2dnZERESIiIju7u5UVFTc3NyYmJgAAACtHSfyAAAAAXRSTlMAQObYZgAAAOJJREFU\n",
       "GNNjYGBg4PvLgAy2/py6gcH9uwGIzXcARYphHtMEBoYPDNjAcYVVDAwCyCK7wstLwYxj0TwKKFJM\n",
       "cRugrEM63NEQqV0rwWI3YTIMh5gXaEKkGtgfgKi5cP2HGNz4FoCkuDbwg6S4JyBJ8Ww4BJLiZci/\n",
       "AKTYxMvLoc44xMB9YCvEGe1gVxxA0sWgwQSRCgER3AXIUnwGYPO5P4MFziFLMfSCpZh/gwW2J8Ck\n",
       "pgExSwCIxQIxijdEASKT+hGogxssxe4AEWI+CnUhDLBduK/AgB3oO0zBIcOws+UBDhkAn9k4aw2c\n",
       "gBoAAAAASUVORK5CYII=\n",
       "\" style=\"display:inline;vertical-align:middle;\" /></a></span></td></tr>\n",
       "<tr><td>3</td><td>assumption</td><td></td><td><span style=\"font-size:20px;\"><a class=\"ProveItLink\" href=\"../6004b2bc6c2892445723b9645cf3ad1ade16fc390/expr.ipynb\"><img src=\"data:image/png;base64,iVBORw0KGgoAAAANSUhEUgAAAEcAAAAVBAMAAADm2O7QAAAAMFBMVEX///9ERETc3NyqqqpUVFS6\n",
       "urrMzMwyMjIQEBCIiIh2dnYiIiLu7u5mZmaYmJgAAABJJ2g3AAAAAXRSTlMAQObYZgAAAT1JREFU\n",
       "KM9jYGDgu8eAG7CtUgBRPLsY8AG2ZhDJ+QFIHOlGk+OpF6xh4N2/mYHhOojL1QAia9FNYHyQyMDA\n",
       "D2SsQCj6jK6IZRvnBAYOFEWsf2DWTN+9uwCsKPyAG5oirgKoovQ3MJPSHI4fQFXEvoDvfgCQZpKB\n",
       "W5dgySYAV8QLMuR8zJp4A5BzFRCKeANeghS9B/EyQCbYZ0KkDiIcnsDgw5IBsuQCA0NKG0jo/laI\n",
       "VMTu3TCHJzAc4akAscQfAMUTgIydR/aAFaUgm8S2AGQS9wIQD6iR5xvDZyaQ1GlkRQyPGWFu4toA\n",
       "jOMPPF+5wFIPkBVxKSIHAYsAwydOcFhuhUcLyD/XkRWxP2CYuwYsp34Nooa1vhFIHkeNOzgwqd5d\n",
       "gCKATREGACviI6AInJ54duJPma1gim8xoTQOAJb3U6INmEa6AAAAAElFTkSuQmCC\n",
       "\" style=\"display:inline;vertical-align:middle;\" /></a> <a class=\"ProveItLink\" href=\"../6ed31cc195b85c427d5a86b24716208519d9bbb20/proof.ipynb\" style=\"text-decoration: none\">&#x22A2;&nbsp;</a><a class=\"ProveItLink\" href=\"../e09ca6f75e0c57b0dc94dcfcf473d980986784820/expr.ipynb\"><img src=\"data:image/png;base64,iVBORw0KGgoAAAANSUhEUgAAADMAAAAPBAMAAAC7N+rPAAAAMFBMVEX///9ERETc3NyIiIjMzMyY\n",
       "mJh2dna6urqqqqpmZmYyMjIiIiIQEBBUVFTu7u4AAAD6+w4kAAAAAXRSTlMAQObYZgAAAOhJREFU\n",
       "GNNj4LuzgQEVvPoo9YBh9u8GBgauCWhSDKIsAgwMH4AM/gZ0qdsOxgwMB4CM+gdQkcerd+8CM66v\n",
       "43UAS2VBZViWwtRc8eVbB5ZaxhD5HSSgCJNhuMJh4AiS4vv+7PkPkIAQ3K4rDNNZDYBSHF8MwHw+\n",
       "ASQp3gdXgFKcvwvAfPbTu3dDnXGFge/CK6AUt91tsCUsF5B0MbixAKXeO/A3KIAM3IAsxdoAND+e\n",
       "4X1BAkjgKrIUQxJQ6iIDvwLYIa8LYFLiQMy5gIFhKQPzNLBlTCsdIDJVf4A6+BYgBx3HLagLoQAA\n",
       "a0VGmR4qtXkAAAAASUVORK5CYII=\n",
       "\" style=\"display:inline;vertical-align:middle;\" /></a></span></td></tr>\n",
       "</table>"
      ],
      "text/plain": [
       "<proveit._core_.proof._ShowProof at 0x7fe0543b17f0>"
      ]
     },
     "execution_count": 1,
     "metadata": {},
     "output_type": "execute_result"
    }
   ],
   "source": [
    "import proveit\n",
    "%show_proof"
   ]
  },
  {
   "cell_type": "code",
   "execution_count": null,
   "metadata": {},
   "outputs": [],
   "source": []
  }
 ],
 "metadata": {
  "kernelspec": {
   "display_name": "Python 3",
   "language": "python",
   "name": "python3"
  }
 },
 "nbformat": 4,
 "nbformat_minor": 0
}
