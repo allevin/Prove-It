{
 "cells": [
  {
   "cell_type": "markdown",
   "metadata": {},
   "source": [
    "Expression of type <a class=\"ProveItLink\" href=\"../../../../../doc/html/api/proveit.ExprTuple.html\">ExprTuple</a>\n",
    "=======================\n",
    "# from context <a class=\"ProveItLink\" href=\"../../_context_.ipynb\">proveit.iteration</a>"
   ]
  },
  {
   "cell_type": "code",
   "execution_count": 1,
   "metadata": {},
   "outputs": [],
   "source": [
    "# import Expression classes needed to build the expression\n",
    "from proveit import ExprTuple\n",
    "from proveit._common_ import j\n",
    "from proveit.number import Add, zero"
   ]
  },
  {
   "cell_type": "code",
   "execution_count": 2,
   "metadata": {},
   "outputs": [
    {
     "data": {
      "text/html": [
       "<strong id=\"expr\">expr:</strong> <a class=\"ProveItLink\" href=\"expr.ipynb\"><img src=\"data:image/png;base64,iVBORw0KGgoAAAANSUhEUgAAAE0AAAAVBAMAAADx+n4ZAAAAMFBMVEX////c3NwiIiJERESqqqqY\n",
       "mJh2dnZmZmYQEBDu7u4yMjJUVFTMzMyIiIi6uroAAAAs73DqAAAAAXRSTlMAQObYZgAAAWVJREFU\n",
       "KM9jYCAW8F0gqCQORJwGEfECqDLT79bAmKwfGdgPAOmVIE40mgl6DJMOwNRtYGBYwMDAi2LtRAjF\n",
       "q8DAuwBJOIyBgWMCsjpfCMW0gYHvI5LwDAaGVwxY1PEXMPB8QRJmdmAoA1Kcdy1R1cknMPD8hTDn\n",
       "XgZayFbAsBTIZmNQxVT3DcJMYApgYGBZwNAHZN9k+IpLHe8EfqA6vgaGf0COANzRGPYyMrwHBi3P\n",
       "B7A6BjYFEFm1apXGqlWrof6AWZHEAFbXAmJzFWCECwvMiuUMYHtNQez5DqjqgOEMtAIcspyg8GFd\n",
       "wJAO4vhPQFXHoMIw4wDnJxCL5ScDOFwegThFaOHMMD13DwNnPyhxsIOczvWAgQPEUUdXB0lxICmm\n",
       "Aki8sSYwPGT8A5N6i6yOFaRUHpRuckHpiuc7cwHW5AlUd77AHOQXUNqR5jQrxZ6MgSlucjowNhi4\n",
       "QQ5gJJzu7zAwAABsQVIKHP/IfwAAAABJRU5ErkJggg==\n",
       "\" style=\"display:inline;vertical-align:middle;\" /></a><br>"
      ],
      "text/plain": [
       "expr: (j + 0 , j)"
      ]
     },
     "execution_count": 2,
     "metadata": {},
     "output_type": "execute_result"
    }
   ],
   "source": [
    "# build up the expression from sub-expressions\n",
    "expr = ExprTuple(Add(j, zero), j)"
   ]
  },
  {
   "cell_type": "code",
   "execution_count": 3,
   "metadata": {},
   "outputs": [
    {
     "name": "stdout",
     "output_type": "stream",
     "text": [
      "Passed sanity check: built 'expr' is the same as the stored Expression.\n"
     ]
    }
   ],
   "source": [
    "# check that the built expression is the same as the stored expression\n",
    "%check_expr"
   ]
  },
  {
   "cell_type": "code",
   "execution_count": 4,
   "metadata": {},
   "outputs": [
    {
     "data": {
      "text/html": [
       "<table><tr><th>&nbsp;</th><th>core type</th><th>sub-expressions</th><th>expression</th></tr>\n",
       "<tr><td>0</td><td>ExprTuple</td><td>1, 4</td><td><a class=\"ProveItLink\" href=\"expr.ipynb\"><img src=\"data:image/png;base64,iVBORw0KGgoAAAANSUhEUgAAAE0AAAAVBAMAAADx+n4ZAAAAMFBMVEX////c3NwiIiJERESqqqqY\n",
       "mJh2dnZmZmYQEBDu7u4yMjJUVFTMzMyIiIi6uroAAAAs73DqAAAAAXRSTlMAQObYZgAAAWVJREFU\n",
       "KM9jYCAW8F0gqCQORJwGEfECqDLT79bAmKwfGdgPAOmVIE40mgl6DJMOwNRtYGBYwMDAi2LtRAjF\n",
       "q8DAuwBJOIyBgWMCsjpfCMW0gYHvI5LwDAaGVwxY1PEXMPB8QRJmdmAoA1Kcdy1R1cknMPD8hTDn\n",
       "XgZayFbAsBTIZmNQxVT3DcJMYApgYGBZwNAHZN9k+IpLHe8EfqA6vgaGf0COANzRGPYyMrwHBi3P\n",
       "B7A6BjYFEFm1apXGqlWrof6AWZHEAFbXAmJzFWCECwvMiuUMYHtNQez5DqjqgOEMtAIcspyg8GFd\n",
       "wJAO4vhPQFXHoMIw4wDnJxCL5ScDOFwegThFaOHMMD13DwNnPyhxsIOczvWAgQPEUUdXB0lxICmm\n",
       "Aki8sSYwPGT8A5N6i6yOFaRUHpRuckHpiuc7cwHW5AlUd77AHOQXUNqR5jQrxZ6MgSlucjowNhi4\n",
       "QQ5gJJzu7zAwAABsQVIKHP/IfwAAAABJRU5ErkJggg==\n",
       "\" style=\"display:inline;vertical-align:middle;\" /></a></td></tr>\n",
       "<tr><td>1</td><td>Operation</td><td>operator:&nbsp;2<br>operands:&nbsp;3<br></td><td><a class=\"ProveItLink\" href=\"../1d79d7ff747ab4d7bc6bb7c5b33abc32db90454d0/expr.ipynb\"><img src=\"data:image/png;base64,iVBORw0KGgoAAAANSUhEUgAAAC4AAAASBAMAAADWL/HSAAAAMFBMVEX///8QEBDMzMyqqqpmZmYy\n",
       "MjK6uroiIiJ2dnZERESIiIju7u5UVFTc3NyYmJgAAACtHSfyAAAAAXRSTlMAQObYZgAAAKZJREFU\n",
       "GNNjYGBg4PvLgAK2rHIC03wHUMXLGLYrIPP3QiiuAgauAGRxKwjFfoCB7S8WcX4HBqbPQHrXyg0o\n",
       "4vcbGJh+AekG9gcY4j+A1mzgxyrOy5B/Aas5DO0gwjU0tDA0NAZq7z+QUAiGO5lB7uT+jCoO9BdH\n",
       "AZBm/o0qzlDMsBEUDiwFaOJbug6BzXNAEwcDtgv3YYGXhSyu7zCFARvY2fIAmzAAS8wuXgMZuzUA\n",
       "AAAASUVORK5CYII=\n",
       "\" style=\"display:inline;vertical-align:middle;\" /></a></td></tr>\n",
       "<tr><td>2</td><td>Literal</td><td></td><td><a class=\"ProveItLink\" href=\"../../../number/addition/__pv_it/3e6688136fa3c7aefbebe51301b7c3ebf0b69c440/expr.ipynb\"><img src=\"data:image/png;base64,iVBORw0KGgoAAAANSUhEUgAAAA4AAAAOBAMAAADtZjDiAAAAJFBMVEX///+6urpUVFQQEBAiIiIy\n",
       "MjJmZmaIiIiqqqrc3Nzu7u4AAACgHpL+AAAAAXRSTlMAQObYZgAAAB5JREFUCNdjYGBgWMkAAe2k\n",
       "0Kmhoc6hoUGk6BMHYgAHOwjcado9fwAAAABJRU5ErkJggg==\n",
       "\" style=\"display:inline;vertical-align:middle;\" /></a></td></tr>\n",
       "<tr><td>3</td><td>ExprTuple</td><td>4, 5</td><td><a class=\"ProveItLink\" href=\"../384d1ae9b59ea2e9da8013d440492e5066a0a7c00/expr.ipynb\"><img src=\"data:image/png;base64,iVBORw0KGgoAAAANSUhEUgAAACcAAAAVBAMAAAA3P+qgAAAAMFBMVEX////c3NwiIiJERESqqqqY\n",
       "mJh2dnZmZmYQEBDu7u4yMjJUVFTMzMyIiIi6uroAAAAs73DqAAAAAXRSTlMAQObYZgAAAQRJREFU\n",
       "GNNtkT1LA0EQhp8z5szGeGxvYyMW2irY3T+IlY2gwcZKOATTCRaWolfaeY2F/yK9hcFG/IJoaeMH\n",
       "aBoR543kXMUtZvd92NmZeRf+XUn3t15VOFNY84pu57LDWMdOp5Irg0sjPTcHBUwE2RdwDctQy3/g\n",
       "LDx5juAxqNGH85RKSlsF7hbFoneDXeKME1Mx0yVsMVpwYOqKtwAmu3ya8slLkN54HkDiqbLQkuCe\n",
       "VD0bttT0Sp+XOk7Jv5tfh2rBhmAzd68aM3X7qKUHwS3coVni2jfmRr1HTf7MmIN+OJeNWW1xH33Y\n",
       "Xg67Kesa/UoWQGfWMekWtm0rHRzXO9Gf77iFLyJwP6GUbaiTAAAAAElFTkSuQmCC\n",
       "\" style=\"display:inline;vertical-align:middle;\" /></a></td></tr>\n",
       "<tr><td>4</td><td>Variable</td><td></td><td><a class=\"ProveItLink\" href=\"../../../__pv_it/612356038763a16ceac85a062629d016c986635c0/expr.ipynb\"><img src=\"data:image/png;base64,iVBORw0KGgoAAAANSUhEUgAAAAoAAAASBAMAAACQmVJ4AAAALVBMVEX////MzMyqqqpmZmYyMjK6\n",
       "uroiIiJ2dnZERESIiIju7u5UVFTc3NyYmJgAAAAeP2GyAAAAAXRSTlMAQObYZgAAAE1JREFUCNdj\n",
       "YGBg4H3DACI3MGADK2csAJIFbBcYGDgX8AFJHoa4AyCJMrC0M4jgegQimV6BSOYEEMlmwMDAeuCc\n",
       "AAODnEEzkL+iGKgTAMbaDxjCuhcwAAAAAElFTkSuQmCC\n",
       "\" style=\"display:inline;vertical-align:middle;\" /></a></td></tr>\n",
       "<tr><td>5</td><td>Literal</td><td></td><td><a class=\"ProveItLink\" href=\"../../../number/numeral/__pv_it/ec23fc7a1b4222a5f4948b495002b97d6fa18c3c0/expr.ipynb\"><img src=\"data:image/png;base64,iVBORw0KGgoAAAANSUhEUgAAAAoAAAAOBAMAAADkjZCYAAAALVBMVEX///8QEBCYmJh2dnaqqqrc\n",
       "3NxUVFQyMjK6uroiIiLMzMyIiIhmZmbu7u4AAAAZjyHdAAAAAXRSTlMAQObYZgAAAEpJREFUCNdj\n",
       "YLiz+xQDA8MMhpsLGLgnMHAXMHAmMHA8ZeA7wMD1hCHOgIHrNZh8jES+Bss+AqlkeQrSxTyBgWEK\n",
       "w8UFDAx3rLMYAMCjFldHSx/9AAAAAElFTkSuQmCC\n",
       "\" style=\"display:inline;vertical-align:middle;\" /></a></td></tr>\n",
       "</table>\n"
      ],
      "text/plain": [
       "0. (j + 0 , j)\n",
       "   core type: ExprTuple\n",
       "   sub-expressions: 1, 4\n",
       "1. j + 0\n",
       "   core type: Operation\n",
       "   operator: 2\n",
       "   operands: 3\n",
       "2. +\n",
       "   core type: Literal\n",
       "   sub-expressions: \n",
       "3. (j , 0)\n",
       "   core type: ExprTuple\n",
       "   sub-expressions: 4, 5\n",
       "4. j\n",
       "   core type: Variable\n",
       "   sub-expressions: \n",
       "5. 0\n",
       "   core type: Literal\n",
       "   sub-expressions: "
      ]
     },
     "execution_count": 4,
     "metadata": {},
     "output_type": "execute_result"
    }
   ],
   "source": [
    "# display the expression information\n",
    "expr.exprInfo()"
   ]
  },
  {
   "cell_type": "code",
   "execution_count": null,
   "metadata": {},
   "outputs": [],
   "source": []
  }
 ],
 "metadata": {
  "kernelspec": {
   "display_name": "Python 3",
   "language": "python",
   "name": "python3"
  }
 },
 "nbformat": 4,
 "nbformat_minor": 0
}
