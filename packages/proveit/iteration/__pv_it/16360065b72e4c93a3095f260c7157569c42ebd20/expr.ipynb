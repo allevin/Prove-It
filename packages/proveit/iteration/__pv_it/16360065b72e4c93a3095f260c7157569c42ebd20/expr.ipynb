{
 "cells": [
  {
   "cell_type": "markdown",
   "metadata": {},
   "source": [
    "Expression of type <a class=\"ProveItLink\" href=\"../../../../../doc/html/api/proveit.number.GreaterEq.html\">GreaterEq</a>\n",
    "=======================\n",
    "# from context <a class=\"ProveItLink\" href=\"../../_context_.ipynb\">proveit.iteration</a>"
   ]
  },
  {
   "cell_type": "code",
   "execution_count": 1,
   "metadata": {},
   "outputs": [],
   "source": [
    "# import Expression classes needed to build the expression\n",
    "from proveit._common_ import m\n",
    "from proveit.number import Add, GreaterEq, four, one"
   ]
  },
  {
   "cell_type": "code",
   "execution_count": 2,
   "metadata": {},
   "outputs": [
    {
     "data": {
      "text/html": [
       "<strong id=\"expr\">expr:</strong> <a class=\"ProveItLink\" href=\"expr.ipynb\"><img src=\"data:image/png;base64,iVBORw0KGgoAAAANSUhEUgAAAGgAAAAVBAMAAABYjraNAAAAMFBMVEX////c3NwiIiJERESqqqqY\n",
       "mJh2dnZmZmYQEBDu7u4yMjJUVFTMzMyIiIi6uroAAAAs73DqAAAAAXRSTlMAQObYZgAAAX9JREFU\n",
       "OMtjYCAL8F3AIxmHQ/w0Th08GxjYD2AKWwLxSpyamAwYGBaAWZMyEaKTfzIw8GK4biKMcQOoKQzC\n",
       "9CqECc7eDdTEMQFdky+UZowCapoB5TzeA5PmBWp6xYBLExsXUBOzA5R32A5JUxkw/C4L3t3Gd9cE\n",
       "TVMgSBNbAcws6XUITUuBEtxrGebnMfijauK8ANLEsgDuAnEduKY+BoZ3wGCafwFdExsDSBNfA1xT\n",
       "UCVc0z8GhgnzHzD4T2CoQtXkA9bE8wEqynkpkwFZE0hHEQNDG0ioatUqjVWrVgMVJaBo4ky6gBQQ\n",
       "LSCVDAzqDHwfOZFtYtm9e3/3BZjzGIsCkIPclAFkB+c/Bu4Foqihx8ABtIkVHBCMuxwYkDWlA4X+\n",
       "MbB+YOC6kIBFEyTIhR8woGh6BA4hNgMGlr0H0CJ3//cABq4HaFHPXvGrlIFDAFeKAIMZWJMyawK6\n",
       "yFtkTi72DLASXw7lhCQIISUQ0EOIS+PTxC2AXZwRX3a/g1UUANlwYJxIp8slAAAAAElFTkSuQmCC\n",
       "\" style=\"display:inline;vertical-align:middle;\" /></a><br>"
      ],
      "text/plain": [
       "expr: (m + 4) >= 1"
      ]
     },
     "execution_count": 2,
     "metadata": {},
     "output_type": "execute_result"
    }
   ],
   "source": [
    "# build up the expression from sub-expressions\n",
    "expr = GreaterEq(Add(m, four), one)"
   ]
  },
  {
   "cell_type": "code",
   "execution_count": 3,
   "metadata": {},
   "outputs": [
    {
     "name": "stdout",
     "output_type": "stream",
     "text": [
      "Passed sanity check: built 'expr' is the same as the stored Expression.\n"
     ]
    }
   ],
   "source": [
    "# check that the built expression is the same as the stored expression\n",
    "%check_expr"
   ]
  },
  {
   "cell_type": "code",
   "execution_count": 4,
   "metadata": {},
   "outputs": [
    {
     "data": {
      "text/html": [
       "<table><tr><th>&nbsp;</th><th>core type</th><th>sub-expressions</th><th>expression</th></tr>\n",
       "<tr><td>0</td><td>Operation</td><td>operator:&nbsp;1<br>operands:&nbsp;2<br></td><td><a class=\"ProveItLink\" href=\"expr.ipynb\"><img src=\"data:image/png;base64,iVBORw0KGgoAAAANSUhEUgAAAGgAAAAVBAMAAABYjraNAAAAMFBMVEX////c3NwiIiJERESqqqqY\n",
       "mJh2dnZmZmYQEBDu7u4yMjJUVFTMzMyIiIi6uroAAAAs73DqAAAAAXRSTlMAQObYZgAAAX9JREFU\n",
       "OMtjYCAL8F3AIxmHQ/w0Th08GxjYD2AKWwLxSpyamAwYGBaAWZMyEaKTfzIw8GK4biKMcQOoKQzC\n",
       "9CqECc7eDdTEMQFdky+UZowCapoB5TzeA5PmBWp6xYBLExsXUBOzA5R32A5JUxkw/C4L3t3Gd9cE\n",
       "TVMgSBNbAcws6XUITUuBEtxrGebnMfijauK8ANLEsgDuAnEduKY+BoZ3wGCafwFdExsDSBNfA1xT\n",
       "UCVc0z8GhgnzHzD4T2CoQtXkA9bE8wEqynkpkwFZE0hHEQNDG0ioatUqjVWrVgMVJaBo4ky6gBQQ\n",
       "LSCVDAzqDHwfOZFtYtm9e3/3BZjzGIsCkIPclAFkB+c/Bu4Foqihx8ABtIkVHBCMuxwYkDWlA4X+\n",
       "MbB+YOC6kIBFEyTIhR8woGh6BA4hNgMGlr0H0CJ3//cABq4HaFHPXvGrlIFDAFeKAIMZWJMyawK6\n",
       "yFtkTi72DLASXw7lhCQIISUQ0EOIS+PTxC2AXZwRX3a/g1UUANlwYJxIp8slAAAAAElFTkSuQmCC\n",
       "\" style=\"display:inline;vertical-align:middle;\" /></a></td></tr>\n",
       "<tr><td>1</td><td>Literal</td><td></td><td><a class=\"ProveItLink\" href=\"../../../number/ordering/__pv_it/96143560a3dbc26f943e0a126972c9bfadab3fc50/expr.ipynb\"><img src=\"data:image/png;base64,iVBORw0KGgoAAAANSUhEUgAAAA4AAAARBAMAAAAf5oCsAAAALVBMVEX///+IiIiYmJjMzMxUVFRE\n",
       "RES6urrc3NxmZmYyMjKqqqp2dnYiIiLu7u4AAACqGg1VAAAAAXRSTlMAQObYZgAAAEFJREFUCNdj\n",
       "YICCO3uhjJXtUEaqM5RhGgZllEyDMioOQ2idXhDJKwPWy7tHAESx9yiAKc8FYCWlCQx4Qc0ZEDgG\n",
       "ALzAEHC/pigGAAAAAElFTkSuQmCC\n",
       "\" style=\"display:inline;vertical-align:middle;\" /></a></td></tr>\n",
       "<tr><td>2</td><td>ExprTuple</td><td>3, 4</td><td><a class=\"ProveItLink\" href=\"../3ec92af4f3259fce6b6ebf5bb66fa69ed175c4730/expr.ipynb\"><img src=\"data:image/png;base64,iVBORw0KGgoAAAANSUhEUgAAAFUAAAAVBAMAAADFg78FAAAAMFBMVEX////c3NwiIiJERESqqqqY\n",
       "mJh2dnZmZmYQEBDu7u4yMjJUVFTMzMyIiIi6uroAAAAs73DqAAAAAXRSTlMAQObYZgAAAUNJREFU\n",
       "KM+V0zFIw0AUgOG/2tSmsaEOnRwddOygg5u7SDdHyeYgiggV6SQojhoRRBBJQByMuLqEQneXgquF\n",
       "4igo1UkdqnfVhFxCSs1w95L33eO4e4H/PGZrKLYih/v0fJiah7GmmK/T7dTffPIpBheKiS0cB0Fx\n",
       "73c+96Vdhrwdt0tBUL4MFkl7Bs+kWkuxowtsi5N4mGjfme3ZmNVKis1tciVG4xZng2rMXqDYrMsh\n",
       "vI5UcFoJa6nW3KUHttOhalNXbbap2vGutBJuwYH8XPe8Gc+7EdEpCbsvAUxjvulK3UXf/2ioe5hD\n",
       "VtR7GG45dmaIu7BDq7msQqaH1qXQspJWf4+e2VO/eq5CttGM2bXvmn5UEm2z81WDQod8KfXe+h0b\n",
       "psUda1bcvkRftDBaH9yTUauLnmRyoA071pCbyQz3Dz3CD2j5WtdrKOevAAAAAElFTkSuQmCC\n",
       "\" style=\"display:inline;vertical-align:middle;\" /></a></td></tr>\n",
       "<tr><td>3</td><td>Operation</td><td>operator:&nbsp;5<br>operands:&nbsp;6<br></td><td><a class=\"ProveItLink\" href=\"../a0c182930b8b75bdcc687e6ab07beaa9a04192ef0/expr.ipynb\"><img src=\"data:image/png;base64,iVBORw0KGgoAAAANSUhEUgAAADUAAAAQBAMAAABEqSrGAAAAMFBMVEX////MzMyYmJgQEBBmZmYi\n",
       "IiLu7u4yMjKqqqp2dnZUVFTc3NxERESIiIi6uroAAABe5jFNAAAAAXRSTlMAQObYZgAAAK1JREFU\n",
       "GNNjYMABGBcw4ASsBzCEsmGMy5hyvVCaWx23HCc7UI7vzu67K/nunkCT0wbJcXLVMuTPY+hHlWO7\n",
       "AJJ7B3RQ/gV0OU4GkFxC/gOG/gQGd1S5RrAcSMKVgcESJOJeXh5cXl4FNHICRA6oI4SB7zcbsj6O\n",
       "VavWW10A6WD7x8BVsAnVnQzMQH3c/xiYPjCwX5iARY7PgIHzAAPHWgE0v6//ooArXLCBt0hsAGFR\n",
       "M5y5v8BtAAAAAElFTkSuQmCC\n",
       "\" style=\"display:inline;vertical-align:middle;\" /></a></td></tr>\n",
       "<tr><td>4</td><td>Literal</td><td></td><td><a class=\"ProveItLink\" href=\"../../../number/numeral/__pv_it/9be8badea4c35b9724062cecc501d17a3158d1d20/expr.ipynb\"><img src=\"data:image/png;base64,iVBORw0KGgoAAAANSUhEUgAAAAgAAAAPBAMAAAArJJMAAAAAHlBMVEX///+YmJgyMjIQEBBmZmaI\n",
       "iIhUVFTu7u5EREQAAAAw+MI4AAAAAXRSTlMAQObYZgAAACFJREFUCNdjYGBoZ2BgqJjOwFCWBiQY\n",
       "WEklWJwnOTKAAACjEQo8HvEr3AAAAABJRU5ErkJggg==\n",
       "\" style=\"display:inline;vertical-align:middle;\" /></a></td></tr>\n",
       "<tr><td>5</td><td>Literal</td><td></td><td><a class=\"ProveItLink\" href=\"../../../number/addition/__pv_it/3e6688136fa3c7aefbebe51301b7c3ebf0b69c440/expr.ipynb\"><img src=\"data:image/png;base64,iVBORw0KGgoAAAANSUhEUgAAAA4AAAAOBAMAAADtZjDiAAAAJFBMVEX///+6urpUVFQQEBAiIiIy\n",
       "MjJmZmaIiIiqqqrc3Nzu7u4AAACgHpL+AAAAAXRSTlMAQObYZgAAAB5JREFUCNdjYGBgWMkAAe2k\n",
       "0Kmhoc6hoUGk6BMHYgAHOwjcado9fwAAAABJRU5ErkJggg==\n",
       "\" style=\"display:inline;vertical-align:middle;\" /></a></td></tr>\n",
       "<tr><td>6</td><td>ExprTuple</td><td>7, 8</td><td><a class=\"ProveItLink\" href=\"../2b2a6e90a6531404844597a172cc7721c5f1e3720/expr.ipynb\"><img src=\"data:image/png;base64,iVBORw0KGgoAAAANSUhEUgAAADEAAAAVBAMAAAAdjxsPAAAAMFBMVEX////c3NwiIiJERESqqqqY\n",
       "mJh2dnZmZmYQEBDu7u4yMjJUVFTMzMyIiIi6uroAAAAs73DqAAAAAXRSTlMAQObYZgAAARNJREFU\n",
       "KM910SFPw0AUwPH/oC29djRDoPgA2AnwfACSgUEgSB0KQhAIFIJgSKAS1xoEggSFWcjmMZdgECxZ\n",
       "kAgyMLiG91bWNOs4cdd7v7uXd33w/4jsjOCeTs+1cPOBhb6sdzWZa0MGi/VkryI74CfT0NgVuYGP\n",
       "2hUvEJnf4ESqe1kaPEaDtT/ZVvGOuJU5vCc9pFOAsSpOxhV8SjGpnYiHSnRGDkk6pJNwWsjmWJoj\n",
       "FQ0fw0WRLJ7Iuezk9CrRl1Fxut3epdVs6+hpkxNmyxRv8+WOm7EvT8txRwQ2Nt+lSNXv4zq8Ns5T\n",
       "31y3tLjezxbBEL9V7Ui5kb/jxhVxy6+DqS6UYqQLrFSk7EioaRuzuv0Gv0MkPoDJBRxIAAAAAElF\n",
       "TkSuQmCC\n",
       "\" style=\"display:inline;vertical-align:middle;\" /></a></td></tr>\n",
       "<tr><td>7</td><td>Variable</td><td></td><td><a class=\"ProveItLink\" href=\"../../../__pv_it/78af03acba5349fd70398a32ce59bae1da52f0870/expr.ipynb\"><img src=\"data:image/png;base64,iVBORw0KGgoAAAANSUhEUgAAABIAAAAJBAMAAADN8WE8AAAAMFBMVEX////MzMyYmJgQEBBmZmYi\n",
       "IiLu7u4yMjKqqqp2dnZUVFTc3NxERESIiIi6uroAAABe5jFNAAAAAXRSTlMAQObYZgAAAFtJREFU\n",
       "CNdj4Luz++5KvrsnGBg4uWoZ8ucx9DMwvGM9wJB/AcRKyH/A0J/A4M7AAKJcGRgsgSwgL4SB7zcb\n",
       "iMf2j4GrYBMD9z8Gpg8M7BcmMPAZMHAeYOBYKwAAtXMYHwtZnY0AAAAASUVORK5CYII=\n",
       "\" style=\"display:inline;vertical-align:middle;\" /></a></td></tr>\n",
       "<tr><td>8</td><td>Literal</td><td></td><td><a class=\"ProveItLink\" href=\"../../../number/numeral/__pv_it/23412ce59ea7e77353d2f9225e02248e73651ca00/expr.ipynb\"><img src=\"data:image/png;base64,iVBORw0KGgoAAAANSUhEUgAAAAoAAAAPBAMAAAAv0UM9AAAALVBMVEX///9mZmaqqqru7u52dnYy\n",
       "MjKYmJjc3NwQEBCIiIhEREQiIiJUVFTMzMwAAACUDTcXAAAAAXRSTlMAQObYZgAAAD5JREFUCNdj\n",
       "YGBguMMAArtABGcXiCyLApEOIJKtAERaMoBIBxDJdAFEmjCASJ0zZ16cBCkF64KQPu/EwBwGACv6\n",
       "DSRgin9qAAAAAElFTkSuQmCC\n",
       "\" style=\"display:inline;vertical-align:middle;\" /></a></td></tr>\n",
       "</table>\n"
      ],
      "text/plain": [
       "0. (m + 4) >= 1\n",
       "   core type: Operation\n",
       "   operator: 1\n",
       "   operands: 2\n",
       "1. >=\n",
       "   core type: Literal\n",
       "   sub-expressions: \n",
       "2. (m + 4 , 1)\n",
       "   core type: ExprTuple\n",
       "   sub-expressions: 3, 4\n",
       "3. m + 4\n",
       "   core type: Operation\n",
       "   operator: 5\n",
       "   operands: 6\n",
       "4. 1\n",
       "   core type: Literal\n",
       "   sub-expressions: \n",
       "5. +\n",
       "   core type: Literal\n",
       "   sub-expressions: \n",
       "6. (m , 4)\n",
       "   core type: ExprTuple\n",
       "   sub-expressions: 7, 8\n",
       "7. m\n",
       "   core type: Variable\n",
       "   sub-expressions: \n",
       "8. 4\n",
       "   core type: Literal\n",
       "   sub-expressions: "
      ]
     },
     "execution_count": 4,
     "metadata": {},
     "output_type": "execute_result"
    }
   ],
   "source": [
    "# display the expression information\n",
    "expr.exprInfo()"
   ]
  },
  {
   "cell_type": "code",
   "execution_count": null,
   "metadata": {},
   "outputs": [],
   "source": []
  }
 ],
 "metadata": {
  "kernelspec": {
   "display_name": "Python 3",
   "language": "python",
   "name": "python3"
  }
 },
 "nbformat": 4,
 "nbformat_minor": 0
}
