{
 "cells": [
  {
   "cell_type": "markdown",
   "metadata": {},
   "source": [
    "Show the Proof\n",
    "========"
   ]
  },
  {
   "cell_type": "code",
   "execution_count": 1,
   "metadata": {},
   "outputs": [
    {
     "data": {
      "text/html": [
       "<table><tr><th>&nbsp;</th><th>step type</th><th>requirements</th><th>statement</th></tr>\n",
       "<tr><td>0</td><td>specialization</td><td>1, 2</td><td><span style=\"font-size:20px;\"><a class=\"ProveItLink\" href=\"../497157fe04b640ee3ade5cb85a02cacea37b39340/expr.ipynb\"><img src=\"data:image/png;base64,iVBORw0KGgoAAAANSUhEUgAAAE0AAAAVBAMAAADx+n4ZAAAAMFBMVEX////c3NxERESqqqpUVFS6\n",
       "urrMzMwyMjIQEBCIiIh2dnYiIiLu7u5mZmaYmJgAAABXZE4RAAAAAXRSTlMAQObYZgAAAUdJREFU\n",
       "KM9jYGDgu8eAF7CtEgBRPLsYCAC2ZhDJ+QGHNE+9Ug0D7/7NDAzXQVyuBlzmMD1IYmDgBzJW4FfH\n",
       "so1zAgMHTnU803fvLgCrCz/ghkdd+huYeWkOxw+gqItUlJyyIHKSAYjPqAO3N8GSTQGujhdoxwL3\n",
       "CTy/ApjBPmcSQKjjDXgJUvcexMsIYGAN2MTA85MBou4Qwh8JDD4sGUAG+wUGhpQ2oMt5vjIw/wGb\n",
       "zMAQsXs3zB8JDEd4KkAs9QdA8QQGsKINDBwLQGIpyOaxLQCZxw2SYCkAu5H7AkO8wAEg/zSyOobH\n",
       "TDD3cW1gAJl0PoDBnfEBSPYBsjouIeRwkQ8A6ankAgfzVni8BTBA4hauLoKBYREDg8k0sLT4NYgy\n",
       "1vomIHkcd/yaVEP8CwcE0gGqOj7C6sDpj2cnwfTcCqb4FhORPwCCQ1cLYdXRpwAAAABJRU5ErkJg\n",
       "gg==\n",
       "\" style=\"display:inline;vertical-align:middle;\" /></a> <a class=\"ProveItLink\" href=\"proof.ipynb\" style=\"text-decoration: none\">&#x22A2;&nbsp;</a><a class=\"ProveItLink\" href=\"../5aa63b0e1e1d49ae2dff373500789deb4be1b8140/expr.ipynb\"><img src=\"data:image/png;base64,iVBORw0KGgoAAAANSUhEUgAAADcAAAARBAMAAACLACleAAAAMFBMVEX////MzMyYmJgQEBBmZmYi\n",
       "IiLu7u4yMjKqqqp2dnZUVFTc3NxERESIiIi6uroAAABe5jFNAAAAAXRSTlMAQObYZgAAAN1JREFU\n",
       "GNNjYMAO2HyvCKCJRCbAmKwP2ALR1HOUbICyrjIwXEc3je8U1LAoBob3G9BlGc88ANNfGBjkGxj4\n",
       "7uy+u5Lv7gmYLPdykCz3T6DkBQZOrlqG/HkM/XC93K4CUMkJDO9YDzDkX0CSZApJgEsm5D9g6E9g\n",
       "cIfJ5YK9AzUWJOPKwGAJlcuMZYA7SIEBpCeEge83G1hsSxAD3Cv9G0B62P4xcBVsAgntqmBABMJU\n",
       "oOn/GJg+MLBfmACy6RzcWawNbIbAMDFg4DzAwLEWPZg9bwkwUAlwh4LBAxgfAHLoPE/kctkPAAAA\n",
       "AElFTkSuQmCC\n",
       "\" style=\"display:inline;vertical-align:middle;\" /></a></span></td></tr>\n",
       "<tr><td>&nbsp;</td><td colspan=4 style=\"text-align:left\"><span style=\"font-size:20px;\"><a class=\"ProveItLink\" href=\"../../../__pv_it/39dbcd3ca0390345b51c6ef7785756419e2c14390/expr.ipynb\"><img src=\"data:image/png;base64,iVBORw0KGgoAAAANSUhEUgAAAAwAAAAJBAMAAAD0ltBnAAAAMFBMVEX///8QEBCYmJhmZmaqqqoi\n",
       "IiLMzMzu7u4yMjJ2dnZUVFTc3NxERESIiIi6uroAAABbPXqjAAAAAXRSTlMAQObYZgAAAERJREFU\n",
       "CNdj4Luz++5KBgZOrl6G+gSGd6wHGOofMBQAsX8BAwivYGBgsGBg+MTOwCDJwPSdk4H7HwPnATcG\n",
       "PgEG7rMOAGtQEUwHZIDZAAAAAElFTkSuQmCC\n",
       "\" style=\"display:inline;vertical-align:middle;\" /></a> : <a class=\"ProveItLink\" href=\"../../../__pv_it/78af03acba5349fd70398a32ce59bae1da52f0870/expr.ipynb\"><img src=\"data:image/png;base64,iVBORw0KGgoAAAANSUhEUgAAABIAAAAJBAMAAADN8WE8AAAAMFBMVEX////MzMyYmJgQEBBmZmYi\n",
       "IiLu7u4yMjKqqqp2dnZUVFTc3NxERESIiIi6uroAAABe5jFNAAAAAXRSTlMAQObYZgAAAFtJREFU\n",
       "CNdj4Luz++5KvrsnGBg4uWoZ8ucx9DMwvGM9wJB/AcRKyH/A0J/A4M7AAKJcGRgsgSwgL4SB7zcb\n",
       "iMf2j4GrYBMD9z8Gpg8M7BcmMPAZMHAeYOBYKwAAtXMYHwtZnY0AAAAASUVORK5CYII=\n",
       "\" style=\"display:inline;vertical-align:middle;\" /></a></span></td></tr><tr><td>1</td><td>theorem</td><td></td><td><span style=\"font-size:20px;\"> <a class=\"ProveItLink\" href=\"../../../number/sets/integer/_proofs_/naturalsLowerBound.ipynb\" style=\"text-decoration: none\">&#x22A2;&nbsp;</a><a class=\"ProveItLink\" href=\"../54f38846963929be5a528ea6b2013660e084499a0/expr.ipynb\"><img src=\"data:image/png;base64,iVBORw0KGgoAAAANSUhEUgAAAHcAAAAVBAMAAACOK2zoAAAAMFBMVEX///8QEBC6urrMzMxUVFRm\n",
       "ZmZERETc3NwyMjKqqqp2dnaIiIiYmJgiIiLu7u4AAAAU9Wx4AAAAAXRSTlMAQObYZgAAAg9JREFU\n",
       "OMullD1IHEEUx/+3e+d6pzcXuMIurChpLLwiWGiRIxYRbESQgEYRi7vC5go/ivPjELQMBxJI5xZi\n",
       "CEE5iQFDEJYcWpxKQhQLQTgbGz8QxRQW4pvdndtVbs7Cgd19b9785r15780CzxnFitYmuek3PX+5\n",
       "sC1ZoMbLTrO+HzEEYsBXrn2UwNWeuM5XSmJYZ3tABhgjRRuUwL+8yuf3QtoA1oGCvXkgK4FfPtBe\n",
       "tTvCPtCcwjFQ+2V8fFLCKpmHesuQ/b0B3mRRRS7/JxKHEjhgUL6T6TVDTIzM8Ld2S3AOoS6AYknK\n",
       "8mUCRkeOXZdmRvcEbCBIcTWCeaNTZ7uxOmDLPh2KfgB2VbLuDriw8oLyjhpT2E57PmArVAw5FYro\n",
       "YEQG70R9N1Y8YauXIDQsqlkzNHWBnVyXB+ak34mMLefchJkWzDKvKed9TYvAJrfk59MC9lE+AxlE\n",
       "TEvX+k23VAspK2wk3wJnzWY4BstDPnTW6sBVtNpn4E+Rp1vryHqaZJkc8uWfqL2n1hFJqVZJ8jAW\n",
       "HZgXY1rHUpDaGGO6255ZFrWt8PGTdKIe6kEiMUzwxLkDK7RtPWE/H1+M3jXarprvVsuXRtGjsLjt\n",
       "WWkTGayrdF2PhaBdItqAdzaMgoALleBvpS4eRK+JEwpEmdPhL3clJ4/4+OfG/qjxsURn9g4tLnfs\n",
       "Tz31k0rLTd+Be6fUjPtjtxU8AAAAAElFTkSuQmCC\n",
       "\" style=\"display:inline;vertical-align:middle;\" /></a></span></td></tr>\n",
       "<tr><td>&nbsp;</td><td colspan=4 style-\"text-align:left\"><a class=\"ProveItLink\" href=\"../../../number/sets/integer/_proofs_/naturalsLowerBound.ipynb\">proveit.number.sets.integer.naturalsLowerBound</a></td></tr><tr><td>2</td><td>assumption</td><td></td><td><span style=\"font-size:20px;\"><a class=\"ProveItLink\" href=\"../497157fe04b640ee3ade5cb85a02cacea37b39340/expr.ipynb\"><img src=\"data:image/png;base64,iVBORw0KGgoAAAANSUhEUgAAAE0AAAAVBAMAAADx+n4ZAAAAMFBMVEX////c3NxERESqqqpUVFS6\n",
       "urrMzMwyMjIQEBCIiIh2dnYiIiLu7u5mZmaYmJgAAABXZE4RAAAAAXRSTlMAQObYZgAAAUdJREFU\n",
       "KM9jYGDgu8eAF7CtEgBRPLsYCAC2ZhDJ+QGHNE+9Ug0D7/7NDAzXQVyuBlzmMD1IYmDgBzJW4FfH\n",
       "so1zAgMHTnU803fvLgCrCz/ghkdd+huYeWkOxw+gqItUlJyyIHKSAYjPqAO3N8GSTQGujhdoxwL3\n",
       "CTy/ApjBPmcSQKjjDXgJUvcexMsIYGAN2MTA85MBou4Qwh8JDD4sGUAG+wUGhpQ2oMt5vjIw/wGb\n",
       "zMAQsXs3zB8JDEd4KkAs9QdA8QQGsKINDBwLQGIpyOaxLQCZxw2SYCkAu5H7AkO8wAEg/zSyOobH\n",
       "TDD3cW1gAJl0PoDBnfEBSPYBsjouIeRwkQ8A6ankAgfzVni8BTBA4hauLoKBYREDg8k0sLT4NYgy\n",
       "1vomIHkcd/yaVEP8CwcE0gGqOj7C6sDpj2cnwfTcCqb4FhORPwCCQ1cLYdXRpwAAAABJRU5ErkJg\n",
       "gg==\n",
       "\" style=\"display:inline;vertical-align:middle;\" /></a> <a class=\"ProveItLink\" href=\"../f1ae22e1b4d6e8901296e70644e5ec968cc6beb70/proof.ipynb\" style=\"text-decoration: none\">&#x22A2;&nbsp;</a><a class=\"ProveItLink\" href=\"../5e83e3309d2c1b6939445fc5e52640fd457cf2480/expr.ipynb\"><img src=\"data:image/png;base64,iVBORw0KGgoAAAANSUhEUgAAADsAAAAPBAMAAACo4Ko7AAAAMFBMVEX////MzMyYmJgQEBBmZmYi\n",
       "IiLu7u4yMjKqqqp2dnZUVFTc3NxERESIiIi6uroAAABe5jFNAAAAAXRSTlMAQObYZgAAAPdJREFU\n",
       "GNNjYMAK0v8cT2Bw/drAgAMcYjzAwPABlyzDUoG7DAwG6KK5paHhYMa6Mi4BDGnGogQoa6EUWxlI\n",
       "mu/O7rsr+e6eAAvugckyLOS4IAOS5uSqZcifx9APFjwNN2chgx/TBaD0O9YDDPkXINJsB5CkuRIW\n",
       "AqUT8h8w9CcwuIPE+ExDQ6FOW8jAtiAd5DSgnCsDgyXYZQuQdDNIMoKkgfpCGPh+s4EMD0CWZmoA\n",
       "2WXJwPaPgatgE0hwEbI0w2ygNPc/BqYPDOwXJoAEUx/ApM8BMUsB0DkGDJwHGDjWCoAEuUsEILLP\n",
       "PwN1shWgByrHcqjLoQAAolk/aDCz970AAAAASUVORK5CYII=\n",
       "\" style=\"display:inline;vertical-align:middle;\" /></a></span></td></tr>\n",
       "</table>"
      ],
      "text/plain": [
       "<proveit._core_.proof._ShowProof at 0x7fe03cee0978>"
      ]
     },
     "execution_count": 1,
     "metadata": {},
     "output_type": "execute_result"
    }
   ],
   "source": [
    "import proveit\n",
    "%show_proof"
   ]
  },
  {
   "cell_type": "code",
   "execution_count": null,
   "metadata": {},
   "outputs": [],
   "source": []
  }
 ],
 "metadata": {
  "kernelspec": {
   "display_name": "Python 3",
   "language": "python",
   "name": "python3"
  }
 },
 "nbformat": 4,
 "nbformat_minor": 0
}
