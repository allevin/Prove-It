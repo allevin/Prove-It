{
 "cells": [
  {
   "cell_type": "markdown",
   "metadata": {},
   "source": [
    "Expression of type <a class=\"ProveItLink\" href=\"../../../../../doc/html/api/proveit.Indexed.html\">Indexed</a>\n",
    "=======================\n",
    "# from context <a class=\"ProveItLink\" href=\"../../_context_.ipynb\">proveit.iteration</a>"
   ]
  },
  {
   "cell_type": "code",
   "execution_count": 1,
   "metadata": {},
   "outputs": [],
   "source": [
    "# import Expression classes needed to build the expression\n",
    "from proveit import Indexed\n",
    "from proveit._common_ import q, yy"
   ]
  },
  {
   "cell_type": "code",
   "execution_count": 2,
   "metadata": {},
   "outputs": [
    {
     "data": {
      "text/html": [
       "<strong id=\"expr\">expr:</strong> <a class=\"ProveItLink\" href=\"expr.ipynb\"><img src=\"data:image/png;base64,iVBORw0KGgoAAAANSUhEUgAAABQAAAAQBAMAAADkNkIoAAAAMFBMVEX///9UVFS6urqIiIjMzMxE\n",
       "RETu7u6qqqrc3NxmZmYiIiKYmJgQEBAyMjJ2dnYAAACf7SmQAAAAAXRSTlMAQObYZgAAAJRJREFU\n",
       "CNdjYHh7moFhFQMI8E0438D+H8zM4fjfwPkVzHTm+8vA9RnMZOD5zJD/BcL0/8Gg/wHC3H+A4f0F\n",
       "hk677UDmBYb7D9hWcPxgYOg/wPxfgXECywEGBvY1S/8n8CswBzAwqDAAjc1PYDVgANrU/4OBJ6Hf\n",
       "gYH5H8caBQamyfOBhs1a9Qxk5l4GOJgHZ3H+dQAAo7Yt0zGHZbgAAAAASUVORK5CYII=\n",
       "\" style=\"display:inline;vertical-align:middle;\" /></a><br>"
      ],
      "text/plain": [
       "expr: y_q"
      ]
     },
     "execution_count": 2,
     "metadata": {},
     "output_type": "execute_result"
    }
   ],
   "source": [
    "# build up the expression from sub-expressions\n",
    "expr = Indexed(yy, q, base = 1)"
   ]
  },
  {
   "cell_type": "code",
   "execution_count": 3,
   "metadata": {},
   "outputs": [
    {
     "name": "stdout",
     "output_type": "stream",
     "text": [
      "Passed sanity check: built 'expr' is the same as the stored Expression.\n"
     ]
    }
   ],
   "source": [
    "# check that the built expression is the same as the stored expression\n",
    "%check_expr"
   ]
  },
  {
   "cell_type": "code",
   "execution_count": 4,
   "metadata": {},
   "outputs": [
    {
     "data": {
      "text/html": [
       "<table><tr><th>&nbsp;</th><th>core type</th><th>sub-expressions</th><th>expression</th></tr>\n",
       "<tr><td>0</td><td>Indexed</td><td>var:&nbsp;1<br>index:&nbsp;2<br>base:&nbsp;\"1\"<br></td><td><a class=\"ProveItLink\" href=\"expr.ipynb\"><img src=\"data:image/png;base64,iVBORw0KGgoAAAANSUhEUgAAABQAAAAQBAMAAADkNkIoAAAAMFBMVEX///9UVFS6urqIiIjMzMxE\n",
       "RETu7u6qqqrc3NxmZmYiIiKYmJgQEBAyMjJ2dnYAAACf7SmQAAAAAXRSTlMAQObYZgAAAJRJREFU\n",
       "CNdjYHh7moFhFQMI8E0438D+H8zM4fjfwPkVzHTm+8vA9RnMZOD5zJD/BcL0/8Gg/wHC3H+A4f0F\n",
       "hk677UDmBYb7D9hWcPxgYOg/wPxfgXECywEGBvY1S/8n8CswBzAwqDAAjc1PYDVgANrU/4OBJ6Hf\n",
       "gYH5H8caBQamyfOBhs1a9Qxk5l4GOJgHZ3H+dQAAo7Yt0zGHZbgAAAAASUVORK5CYII=\n",
       "\" style=\"display:inline;vertical-align:middle;\" /></a></td></tr>\n",
       "<tr><td>1</td><td>Variable</td><td></td><td><a class=\"ProveItLink\" href=\"../../../__pv_it/23a8703a0497efbbce779bb784cd8c2fbbfa1f580/expr.ipynb\"><img src=\"data:image/png;base64,iVBORw0KGgoAAAANSUhEUgAAAA0AAAAOBAMAAAAGUYvhAAAALVBMVEX///+6urqIiIjMzMxERETu\n",
       "7u6qqqrc3NxmZmYiIiKYmJgQEBAyMjJ2dnYAAAAI/qgrAAAAAXRSTlMAQObYZgAAAGpJREFUCNdj\n",
       "YLizi4FhJgMDb8O+ArZ3DAzR7O8KOJ4wMBjxvmHgfMTAwMD9iCHuMZC2e84g9wBIr9vAcO8AiD7A\n",
       "cO4CkK7bwPROAEizzZ7yLgBICzOAtDMAzap7DqSZ3rLPBkkzdM68CiQBR18fizMQCrQAAAAASUVO\n",
       "RK5CYII=\n",
       "\" style=\"display:inline;vertical-align:middle;\" /></a></td></tr>\n",
       "<tr><td>2</td><td>Variable</td><td></td><td><a class=\"ProveItLink\" href=\"../../../__pv_it/874553314f6d962851bc90a15187492caf5d49850/expr.ipynb\"><img src=\"data:image/png;base64,iVBORw0KGgoAAAANSUhEUgAAAAoAAAANBAMAAABiGeI2AAAAMFBMVEX///+qqqpEREQiIiIyMjKY\n",
       "mJjc3NxUVFTu7u4QEBC6urp2dnaIiIhmZmbMzMwAAADWMNsgAAAAAXRSTlMAQObYZgAAAFBJREFU\n",
       "CNdjYOC7s28XA8PKBvYfDGxfGXgdGNg/MDBvYOBXYOhfwJB/gCGegaFfgKGEgYElgPE3AwNbzdFf\n",
       "DEDA+gFEsjuASM4NQIJb35YBAC9REXkfHwxdAAAAAElFTkSuQmCC\n",
       "\" style=\"display:inline;vertical-align:middle;\" /></a></td></tr>\n",
       "</table>\n"
      ],
      "text/plain": [
       "0. y_q\n",
       "   core type: Indexed\n",
       "   var: 1\n",
       "   index: 2\n",
       "   base: \"1\"\n",
       "1. y\n",
       "   core type: Variable\n",
       "   sub-expressions: \n",
       "2. q\n",
       "   core type: Variable\n",
       "   sub-expressions: "
      ]
     },
     "execution_count": 4,
     "metadata": {},
     "output_type": "execute_result"
    }
   ],
   "source": [
    "# display the expression information\n",
    "expr.exprInfo()"
   ]
  },
  {
   "cell_type": "code",
   "execution_count": null,
   "metadata": {},
   "outputs": [],
   "source": []
  }
 ],
 "metadata": {
  "kernelspec": {
   "display_name": "Python 3",
   "language": "python",
   "name": "python3"
  }
 },
 "nbformat": 4,
 "nbformat_minor": 0
}
