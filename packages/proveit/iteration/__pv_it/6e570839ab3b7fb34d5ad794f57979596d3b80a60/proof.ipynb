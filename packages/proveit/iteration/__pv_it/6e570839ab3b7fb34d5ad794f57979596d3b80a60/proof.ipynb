{
 "cells": [
  {
   "cell_type": "markdown",
   "metadata": {},
   "source": [
    "Show the Proof\n",
    "========"
   ]
  },
  {
   "cell_type": "code",
   "execution_count": 1,
   "metadata": {},
   "outputs": [
    {
     "data": {
      "text/html": [
       "<table><tr><th>&nbsp;</th><th>step type</th><th>requirements</th><th>statement</th></tr>\n",
       "<tr><td>0</td><td>specialization</td><td>1, 2</td><td><span style=\"font-size:20px;\"> <a class=\"ProveItLink\" href=\"proof.ipynb\" style=\"text-decoration: none\">&#x22A2;&nbsp;</a><a class=\"ProveItLink\" href=\"../d422824edbd75905c1081555bbc65cb1fc35dd890/expr.ipynb\"><img src=\"data:image/png;base64,iVBORw0KGgoAAAANSUhEUgAAADkAAAARBAMAAACVyRntAAAAMFBMVEX////c3Nx2dna6uroQEBCI\n",
       "iIhUVFTMzMyYmJiqqqoiIiJmZmZEREQyMjLu7u4AAADjlg78AAAAAXRSTlMAQObYZgAAAPlJREFU\n",
       "GNNjePvn7AOGXb8mMKCAWf/XXlnrAWScYD/AwPABIhi7atWqxWDGPgZeBqA4Q1ZBKAODA1iyKg6m\n",
       "dxMDgyaTAZCRfI+tACLLuBBuch4DY0IZiJFexncPIstmgGQzz4NzYFnOgBqI7Ftkd7VyNIBlGTZz\n",
       "BIBly5Ak+Q68YYDIsj1Ix5BlK0iEyvIlvAXLciHJWjMrQGUZitjBstxIQXKBl4GBSQAsyzHhANiu\n",
       "xXBJpgnKELOAsgyKYFmGt9thsmLsCQwMKkDGYZCZFyCCZregIXmQ5wHDax0GBtsvQH18F1Ajgdnn\n",
       "ypmzX04zUAtwr1oFi0EoAAAnCEWWQjBjbgAAAABJRU5ErkJggg==\n",
       "\" style=\"display:inline;vertical-align:middle;\" /></a></span></td></tr>\n",
       "<tr><td>&nbsp;</td><td colspan=4 style=\"text-align:left\"><span style=\"font-size:20px;\"><a class=\"ProveItLink\" href=\"../../../__pv_it/2cbe72a7ad6f655694dd697106680215e8489b600/expr.ipynb\"><img src=\"data:image/png;base64,iVBORw0KGgoAAAANSUhEUgAAAA8AAAAOBAMAAAACpFvcAAAALVBMVEX///8QEBBERERUVFS6urqI\n",
       "iIhmZmaqqqrc3Nzu7u6YmJgyMjIiIiLMzMwAAADtIaYWAAAAAXRSTlMAQObYZgAAAFtJREFUCNdj\n",
       "YACBOwxQsA9Kc52bAGG05zVAGAFxDmCaZULdAjBjCsO9ADDDgaEvAUTzGhvbKYCVMDAwbgAxChgY\n",
       "eASANAeQwf0AyJgNxEwvGRia5HYwcOm9TgAA6BoR3jrzwFcAAAAASUVORK5CYII=\n",
       "\" style=\"display:inline;vertical-align:middle;\" /></a> : <a class=\"ProveItLink\" href=\"../../../number/sets/integer/__pv_it/e5d9bd86b06b357eee742ad868997123619e09700/expr.ipynb\"><img src=\"data:image/png;base64,iVBORw0KGgoAAAANSUhEUgAAAA8AAAAOBAMAAAACpFvcAAAAMFBMVEX////c3Nx2dna6uroQEBCI\n",
       "iIhUVFTMzMyYmJiqqqoiIiJmZmZEREQyMjLu7u4AAADjlg78AAAAAXRSTlMAQObYZgAAAGBJREFU\n",
       "CNdjePvn7AOGXb8mMDCcYD/AwPCBgYEhqyCUgcEByEi+x1YAZqSX8d2DMDgDaiAMhs0cARAG24N0\n",
       "CIMv4S2EwVDEDmVwTDgAYTAoghiHgZj7AgOD7Rcgj+8CAwA9oh2B0HK+MAAAAABJRU5ErkJggg==\n",
       "\" style=\"display:inline;vertical-align:middle;\" /></a>, <a class=\"ProveItLink\" href=\"../../../__pv_it/077b2ff79244fb4582cbe22c6e3356fa92a52f2f0/expr.ipynb\"><img src=\"data:image/png;base64,iVBORw0KGgoAAAANSUhEUgAAABAAAAAOBAMAAADUAYG5AAAAMFBMVEX///+qqqru7u4iIiJ2dnbc\n",
       "3NyIiIjMzMxmZmYQEBC6uroyMjJERERUVFSYmJgAAADLUcuvAAAAAXRSTlMAQObYZgAAAGpJREFU\n",
       "CNdjYGB4+//u3dMLGIBgDgMDxy8gzf4NiP8CGWxfGRj4vgAZPBMYGJgnARn8FxhY9ygAGfXX0pof\n",
       "gDTlBzAw2YIYJ0EckBBI53sHoBH/gIz7AhBjWH9DjancBLTl/N+7t/cxMAAA3u4f/5xagjYAAAAA\n",
       "SUVORK5CYII=\n",
       "\" style=\"display:inline;vertical-align:middle;\" /></a> : <a class=\"ProveItLink\" href=\"../../../number/sets/integer/__pv_it/7b9e51516f347f625fa636d7bb440e96498977000/expr.ipynb\"><img src=\"data:image/png;base64,iVBORw0KGgoAAAANSUhEUgAAAA4AAAAOBAMAAADtZjDiAAAAMFBMVEX////MzMzc3NxUVFS6urp2\n",
       "dnZERETu7u5mZmaIiIiYmJgQEBAyMjIiIiKqqqoAAAAf68ZqAAAAAXRSTlMAQObYZgAAAGlJREFU\n",
       "CNdj4Lv/98ze0wsYOE8UMBxgY2DgCGBgfRDCwMBcwKDMaMAAAulsBSCKa8IqMLeMPQFMGzIrgCiW\n",
       "Blcwl4fhAANDEANDHKsDA8MFBiYDYQYG1g0MbArpDOytCQzeOdvSzm9rAAAm6xY1AUf+1AAAAABJ\n",
       "RU5ErkJggg==\n",
       "\" style=\"display:inline;vertical-align:middle;\" /></a></span></td></tr><tr><td>1</td><td>theorem</td><td></td><td><span style=\"font-size:20px;\"> <a class=\"ProveItLink\" href=\"../../../logic/set_theory/containment/_proofs_/relaxSubset.ipynb\" style=\"text-decoration: none\">&#x22A2;&nbsp;</a><a class=\"ProveItLink\" href=\"../../../logic/set_theory/containment/__pv_it/22661b9d2146c6f839082ce4fba5b3001adb3f020/expr.ipynb\"><img src=\"data:image/png;base64,iVBORw0KGgoAAAANSUhEUgAAALkAAAAXBAMAAACllfPxAAAAMFBMVEX///8QEBC6urrMzMxUVFRm\n",
       "ZmZERETc3NwyMjKqqqp2dnaIiIiYmJgiIiLu7u4AAAAU9Wx4AAAAAXRSTlMAQObYZgAAAtpJREFU\n",
       "SMe1VU1oE0EU/pp0s02z2faknkoOvSkmQsCDaIOGUhBswK49FVPEVDzYHMQiUsxFi6BtLvXipRex\n",
       "Ikj9OQgBG0VEK2IsBkENpKDSS3/oT1ptTX0zs9sdUiW46sDsezNv5pv3vvdmFvivreh4584q9qfU\n",
       "c0x55QDcHREit8XybCMaPRWAEgJus/GgA/Q6EXXdvDl+VCgUJoW6DVAWgBRwjkZq3AF6RojXZSH3\n",
       "P7ajWqO+BEwIF5S0A/Qm/lWHV4R8b1t8NKV9B6ZI3Orr63cA7koJJN8Cl7UB2+RpBPx0uIecLiUS\n",
       "HxygKyNc7PauczktmRoiUC8TJfUx4BDQwycH+Pf6stEa4s5tpi9pad5eo+OENZtlXz3ASKYWltBb\n",
       "Dme6mNVL4TVD50FqIkStEb5GHp+1+I0d9BPgnqnWBIQL6vIW9PEk9HfMyBiCj7vxRYSoROBakdH1\n",
       "42R23TQMirUDCJqRNHD0cDRa4kO/hN7NTqBNbipWX9bPK/duXiwbg5KT0etnYtBPH5idJf0j0AUZ\n",
       "nT47hFNS2S2xgEcEup7iUbnHEtw0F8KLpIy+zxOHJyTCWIQ2YDHD4LzU3wrTpF3ujIT2tGAGPQd5\n",
       "SZleBTMPz0BGj1AoN8wqXMu0Wu+Sh9F5nvqQGE8flctdXWUpZPkc5kS8xDi3jVLuihK6lvbNo9Mk\n",
       "KQWtySIsBlEOveZ5zdfMl4CV+55BcwlqxlhkeUMsO0nkpCX0GeNYGUdMfykD36zblIPavZrE841L\n",
       "FRehdynadpUXLUuNxlCVJFo4ubQ7GJLQO+FexH0zk2m4Fi2U7VUv3NSmtov2ZtUBqGWoeYl3F9G7\n",
       "jq9i0cUi+mPWjomq6Hcs5XMJavsnyvbostGWttH19jjO/sh6eaLrh4yOK5UvsMVHoWC/wOZFSVWc\n",
       "pkm6RzaEE4lExV9MjVRxvTZZMbH3d+i/aheq2B9UTmT/BP2vWu0/wPgJiQC5CXpIO1gAAAAASUVO\n",
       "RK5CYII=\n",
       "\" style=\"display:inline;vertical-align:middle;\" /></a></span></td></tr>\n",
       "<tr><td>&nbsp;</td><td colspan=4 style-\"text-align:left\"><a class=\"ProveItLink\" href=\"../../../logic/set_theory/containment/_proofs_/relaxSubset.ipynb\">proveit.logic.set_theory.containment.relaxSubset</a></td></tr><tr><td>2</td><td>theorem</td><td></td><td><span style=\"font-size:20px;\"> <a class=\"ProveItLink\" href=\"../../../number/sets/integer/_proofs_/natsInInts.ipynb\" style=\"text-decoration: none\">&#x22A2;&nbsp;</a><a class=\"ProveItLink\" href=\"../../../number/sets/integer/__pv_it/04813def94bfe331e141faec306a92129663360c0/expr.ipynb\"><img src=\"data:image/png;base64,iVBORw0KGgoAAAANSUhEUgAAADkAAAAPBAMAAACsFXoGAAAAMFBMVEX////c3Nx2dna6uroQEBCI\n",
       "iIhUVFTMzMyYmJiqqqoiIiJmZmZEREQyMjLu7u4AAADjlg78AAAAAXRSTlMAQObYZgAAAPJJREFU\n",
       "GNNjePvn7AOGXb8mMKCAWf/XXlnrAWScYD/AwPABVZIhdh8DLwNQnCGrIJSBwQFNdhMDgyaTAZCR\n",
       "fI+tACYbu2rVqsUgRh4DY0IZiJFexncPKlsVh9DN8+AcWJYzoAYiy7gQyexWjgawLMNmjgCwLJsB\n",
       "QpLvwBsGiCzbg3Sw7FskrWwFiVBZvoS3YNkyJFlrZgWoLEMRO4bsBV4GBiYBsCzHBJDHGbgQkkwT\n",
       "lCF8oCyDIliWGxGcYuwJDAwqQMZhkPgFsDsXw2UP8jxgeK3DwGD7BaiPDyzL8HY7VJLZ58qZs19O\n",
       "owWv2S1oSEIBAJyrQZauZbLWAAAAAElFTkSuQmCC\n",
       "\" style=\"display:inline;vertical-align:middle;\" /></a></span></td></tr>\n",
       "<tr><td>&nbsp;</td><td colspan=4 style-\"text-align:left\"><a class=\"ProveItLink\" href=\"../../../number/sets/integer/_proofs_/natsInInts.ipynb\">proveit.number.sets.integer.natsInInts</a></td></tr></table>"
      ],
      "text/plain": [
       "<proveit._core_.proof._ShowProof at 0x7fe03eea5518>"
      ]
     },
     "execution_count": 1,
     "metadata": {},
     "output_type": "execute_result"
    }
   ],
   "source": [
    "import proveit\n",
    "%show_proof"
   ]
  },
  {
   "cell_type": "code",
   "execution_count": null,
   "metadata": {},
   "outputs": [],
   "source": []
  }
 ],
 "metadata": {
  "kernelspec": {
   "display_name": "Python 3",
   "language": "python",
   "name": "python3"
  }
 },
 "nbformat": 4,
 "nbformat_minor": 0
}
