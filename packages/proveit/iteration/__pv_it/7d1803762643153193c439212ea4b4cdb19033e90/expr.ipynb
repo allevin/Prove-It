{
 "cells": [
  {
   "cell_type": "markdown",
   "metadata": {},
   "source": [
    "Expression of type <a class=\"ProveItLink\" href=\"../../../../../doc/html/api/proveit.logic.InSet.html\">InSet</a>\n",
    "=======================\n",
    "# from context <a class=\"ProveItLink\" href=\"../../_context_.ipynb\">proveit.iteration</a>"
   ]
  },
  {
   "cell_type": "code",
   "execution_count": 1,
   "metadata": {},
   "outputs": [],
   "source": [
    "# import Expression classes needed to build the expression\n",
    "from proveit._common_ import m\n",
    "from proveit.logic import InSet\n",
    "from proveit.number import Add, Naturals, Neg, four"
   ]
  },
  {
   "cell_type": "code",
   "execution_count": 2,
   "metadata": {},
   "outputs": [
    {
     "data": {
      "text/html": [
       "<strong id=\"expr\">expr:</strong> <a class=\"ProveItLink\" href=\"expr.ipynb\"><img src=\"data:image/png;base64,iVBORw0KGgoAAAANSUhEUgAAAG0AAAAVBAMAAAC+p33JAAAAMFBMVEX////c3NwiIiJERESqqqqY\n",
       "mJh2dnZmZmYQEBDu7u4yMjJUVFTMzMyIiIi6uroAAAAs73DqAAAAAXRSTlMAQObYZgAAAZpJREFU\n",
       "OMudlDFIAlEYx//GaV6eIURLEYluDqGQS0M419Lc0kVDQ0sENUVINYc0NAhRFBI3FBa0qMVB0OLQ\n",
       "QWMFR1MIkhSEDVnfe6fXefRu6E1//h+/9/5833cH/Pf0Gx5FvyksVeFVWndZ+feJHFbeMoAm5uJA\n",
       "n9tLK0mgAYTFMcNbFFR1mRf6E5AFgjkhN3gMyFlL7x/FElxcayGdcTVxTJU4jHOpFDrXV6qyxrg1\n",
       "0vXUyINav8+4ehlh3CLXA3aqimTcMK7ALi4Z8ocpNbq5fTBuiuuU7Vaw4TeI26EJmnHIX3BzKude\n",
       "mJSTDi6UqxDXIlduQfpE7yHZQzF2xkhJOufu+G5skploc3Ixb3EciiLY3fI9/HJK0fEebhXitknT\n",
       "Sz3LeI10jWS6XG5edXJGnZw/Q7HTpOmlAxMl34xrEDR3zHJ16eQwn7T6PGpiDjgN4A/OmsOuvd+T\n",
       "Vj48Wz1boGCPLmzpexU449J3olterUlvycQFI55fWWfPpFK7n/ZWqJ5cQLj2mieXF1aGPblzYcXn\n",
       "9Z8I64LCDyW5bXbqSvvBAAAAAElFTkSuQmCC\n",
       "\" style=\"display:inline;vertical-align:middle;\" /></a><br>"
      ],
      "text/plain": [
       "expr: (m - 4) in Naturals"
      ]
     },
     "execution_count": 2,
     "metadata": {},
     "output_type": "execute_result"
    }
   ],
   "source": [
    "# build up the expression from sub-expressions\n",
    "expr = InSet(Add(m, Neg(four)), Naturals)"
   ]
  },
  {
   "cell_type": "code",
   "execution_count": 3,
   "metadata": {},
   "outputs": [
    {
     "name": "stdout",
     "output_type": "stream",
     "text": [
      "Passed sanity check: built 'expr' is the same as the stored Expression.\n"
     ]
    }
   ],
   "source": [
    "# check that the built expression is the same as the stored expression\n",
    "%check_expr"
   ]
  },
  {
   "cell_type": "code",
   "execution_count": 4,
   "metadata": {},
   "outputs": [
    {
     "data": {
      "text/html": [
       "<table><tr><th>&nbsp;</th><th>core type</th><th>sub-expressions</th><th>expression</th></tr>\n",
       "<tr><td>0</td><td>Operation</td><td>operator:&nbsp;1<br>operands:&nbsp;2<br></td><td><a class=\"ProveItLink\" href=\"expr.ipynb\"><img src=\"data:image/png;base64,iVBORw0KGgoAAAANSUhEUgAAAG0AAAAVBAMAAAC+p33JAAAAMFBMVEX////c3NwiIiJERESqqqqY\n",
       "mJh2dnZmZmYQEBDu7u4yMjJUVFTMzMyIiIi6uroAAAAs73DqAAAAAXRSTlMAQObYZgAAAZpJREFU\n",
       "OMudlDFIAlEYx//GaV6eIURLEYluDqGQS0M419Lc0kVDQ0sENUVINYc0NAhRFBI3FBa0qMVB0OLQ\n",
       "QWMFR1MIkhSEDVnfe6fXefRu6E1//h+/9/5833cH/Pf0Gx5FvyksVeFVWndZ+feJHFbeMoAm5uJA\n",
       "n9tLK0mgAYTFMcNbFFR1mRf6E5AFgjkhN3gMyFlL7x/FElxcayGdcTVxTJU4jHOpFDrXV6qyxrg1\n",
       "0vXUyINav8+4ehlh3CLXA3aqimTcMK7ALi4Z8ocpNbq5fTBuiuuU7Vaw4TeI26EJmnHIX3BzKude\n",
       "mJSTDi6UqxDXIlduQfpE7yHZQzF2xkhJOufu+G5skploc3Ixb3EciiLY3fI9/HJK0fEebhXitknT\n",
       "Sz3LeI10jWS6XG5edXJGnZw/Q7HTpOmlAxMl34xrEDR3zHJ16eQwn7T6PGpiDjgN4A/OmsOuvd+T\n",
       "Vj48Wz1boGCPLmzpexU449J3olterUlvycQFI55fWWfPpFK7n/ZWqJ5cQLj2mieXF1aGPblzYcXn\n",
       "9Z8I64LCDyW5bXbqSvvBAAAAAElFTkSuQmCC\n",
       "\" style=\"display:inline;vertical-align:middle;\" /></a></td></tr>\n",
       "<tr><td>1</td><td>Literal</td><td></td><td><a class=\"ProveItLink\" href=\"../../../logic/set_theory/membership/__pv_it/088cbc857536a28d4119ad9639a84270ccb0545d0/expr.ipynb\"><img src=\"data:image/png;base64,iVBORw0KGgoAAAANSUhEUgAAAAwAAAAMBAMAAACkW0HUAAAALVBMVEX///+qqqpmZmZUVFQQEBC6\n",
       "urpERETc3NyYmJjMzMwiIiIyMjKIiIju7u4AAACYsrA9AAAAAXRSTlMAQObYZgAAADxJREFUCNdj\n",
       "YOA9vWrVBgaG2b0MQMCeCyIZ2ArA1DUwyRCyahVIyWQI7xaEYm4AU7xLIdxqTQgtvGvVBgCkcQ7e\n",
       "geM/tQAAAABJRU5ErkJggg==\n",
       "\" style=\"display:inline;vertical-align:middle;\" /></a></td></tr>\n",
       "<tr><td>2</td><td>ExprTuple</td><td>3, 4</td><td><a class=\"ProveItLink\" href=\"../2f0967e82bb8a2bc89337589c4bbdac2fdfce1cf0/expr.ipynb\"><img src=\"data:image/png;base64,iVBORw0KGgoAAAANSUhEUgAAAFoAAAAVBAMAAAA0iOSIAAAAMFBMVEX////c3NwiIiJERESqqqqY\n",
       "mJh2dnZmZmYQEBDu7u4yMjJUVFTMzMyIiIi6uroAAAAs73DqAAAAAXRSTlMAQObYZgAAAXBJREFU\n",
       "KM+V079Lw0AUB/BvbZvmkrYq4uQiIrgIBqz/hCit4FQQsrk5ODiIQ0FxESSj1CEiCHbQ1kWQKg24\n",
       "FBQMuLgUopN0EDu5Fd9rjU0jCfUg94P7cPfu3QX4X0nbA8K4Q9VD4HSy0mlEeb6ExNw0dmhQCtRD\n",
       "WreN5u6BYUABUsGBvPxodZaQTKHokI0gHMm7umncshYFNAOXlhRXP1aKBmlksEVZeR5tXKcbGZ9e\n",
       "+dXWclJjvY4zWkS9gLmBbD8Wdk8nnDXWizgEPujwpu3XEnoaN2qdOu9oA4bpIGtgm092OsWF72HJ\n",
       "q4/FOXWeWDPdBPb7A9G9OqnXO3qPalp1BumW8OpYtVo7sF2N1WgnkgXwqqIN9WTclxRZg3C1NEad\n",
       "PGUFkTbin1Bs/a82J/nmne7+ZN8o3wVIGmJ3li8pta/cUYumy7s0KtJ3CXkk9Jm+eg9e4KcSVnLe\n",
       "zeywF+vXHMxEGE55B1d8fYP+aSkL346YWXPkn9VFAAAAAElFTkSuQmCC\n",
       "\" style=\"display:inline;vertical-align:middle;\" /></a></td></tr>\n",
       "<tr><td>3</td><td>Operation</td><td>operator:&nbsp;5<br>operands:&nbsp;6<br></td><td><a class=\"ProveItLink\" href=\"../a47732084063d62d108f0e6473a9cf304cc3dcc70/expr.ipynb\"><img src=\"data:image/png;base64,iVBORw0KGgoAAAANSUhEUgAAADUAAAAPBAMAAAC2KZqIAAAAMFBMVEX////MzMyYmJgQEBBmZmYi\n",
       "IiLu7u4yMjKqqqp2dnZUVFTc3NxERESIiIi6uroAAABe5jFNAAAAAXRSTlMAQObYZgAAAKBJREFU\n",
       "GNNjYMABGBcw4ASsB3DLXcYtx62OW46THSjHd2f33ZV8d0+gyWmD5Di5ahny5zH0o0qxXQDJvQM6\n",
       "KP8CuhwnA0guIf8BQ38CgztIZHsoCMQBWY1gOZCEKwODJaqREyByQB0hDHy/2ZDlOFatWm91AaSD\n",
       "7R8DV8EmNIcyA/Vx/2Ng+sDAfmECFjk+AwbOAwwcawXQHLr+iwIDHgAAdFMsA86uW70AAAAASUVO\n",
       "RK5CYII=\n",
       "\" style=\"display:inline;vertical-align:middle;\" /></a></td></tr>\n",
       "<tr><td>4</td><td>Literal</td><td></td><td><a class=\"ProveItLink\" href=\"../../../number/sets/integer/__pv_it/e5d9bd86b06b357eee742ad868997123619e09700/expr.ipynb\"><img src=\"data:image/png;base64,iVBORw0KGgoAAAANSUhEUgAAAA8AAAAOBAMAAAACpFvcAAAAMFBMVEX////c3Nx2dna6uroQEBCI\n",
       "iIhUVFTMzMyYmJiqqqoiIiJmZmZEREQyMjLu7u4AAADjlg78AAAAAXRSTlMAQObYZgAAAGBJREFU\n",
       "CNdjePvn7AOGXb8mMDCcYD/AwPCBgYEhqyCUgcEByEi+x1YAZqSX8d2DMDgDaiAMhs0cARAG24N0\n",
       "CIMv4S2EwVDEDmVwTDgAYTAoghiHgZj7AgOD7Rcgj+8CAwA9oh2B0HK+MAAAAABJRU5ErkJggg==\n",
       "\" style=\"display:inline;vertical-align:middle;\" /></a></td></tr>\n",
       "<tr><td>5</td><td>Literal</td><td></td><td><a class=\"ProveItLink\" href=\"../../../number/addition/__pv_it/3e6688136fa3c7aefbebe51301b7c3ebf0b69c440/expr.ipynb\"><img src=\"data:image/png;base64,iVBORw0KGgoAAAANSUhEUgAAAA4AAAAOBAMAAADtZjDiAAAAJFBMVEX///+6urpUVFQQEBAiIiIy\n",
       "MjJmZmaIiIiqqqrc3Nzu7u4AAACgHpL+AAAAAXRSTlMAQObYZgAAAB5JREFUCNdjYGBgWMkAAe2k\n",
       "0Kmhoc6hoUGk6BMHYgAHOwjcado9fwAAAABJRU5ErkJggg==\n",
       "\" style=\"display:inline;vertical-align:middle;\" /></a></td></tr>\n",
       "<tr><td>6</td><td>ExprTuple</td><td>7, 8</td><td><a class=\"ProveItLink\" href=\"../08b319ae4f503b42f136481739fc20883e7de5e80/expr.ipynb\"><img src=\"data:image/png;base64,iVBORw0KGgoAAAANSUhEUgAAAEEAAAAVBAMAAADrxp6XAAAAMFBMVEX////c3NwiIiJERESqqqqY\n",
       "mJh2dnZmZmYQEBDu7u4yMjJUVFTMzMyIiIi6uroAAAAs73DqAAAAAXRSTlMAQObYZgAAASBJREFU\n",
       "KM9jYCAM+C7gkYwDEadxSvNsYGA/AKRX4lTBZMDAsICBgRe3JTeAKsIYGDgm4FLAGAVUMYOB4RVO\n",
       "I9i4gCqYHRjKgL65LHh3G99dEzQVgSAVbAUMS4Ek91qG+XkM/qgKOC+AVLAsYOhjYHgHdPT8C+gq\n",
       "2BhAKvgaGP4xMEyY/4DBfwJDFURGSgkE9Bh8wCp4PoBUgKSLGBjaUC1JgKloAfKAutUZ+D5yIqtg\n",
       "2b17f/cFkC2mDCDdnP8YuBeIMqCGDQfQDNYFDOnAoPnHwPqBgetCAucnDBVA3z4Cu5fNgIFl7wHO\n",
       "fgFkz+z/HsDA9YCBA1mQTwA9YIGhzpqAxGfFCPpctNjHUMEJjH0GaSQBjJTADbKWEV8qvMPAAAA5\n",
       "NT9yQIvboAAAAABJRU5ErkJggg==\n",
       "\" style=\"display:inline;vertical-align:middle;\" /></a></td></tr>\n",
       "<tr><td>7</td><td>Variable</td><td></td><td><a class=\"ProveItLink\" href=\"../../../__pv_it/78af03acba5349fd70398a32ce59bae1da52f0870/expr.ipynb\"><img src=\"data:image/png;base64,iVBORw0KGgoAAAANSUhEUgAAABIAAAAJBAMAAADN8WE8AAAAMFBMVEX////MzMyYmJgQEBBmZmYi\n",
       "IiLu7u4yMjKqqqp2dnZUVFTc3NxERESIiIi6uroAAABe5jFNAAAAAXRSTlMAQObYZgAAAFtJREFU\n",
       "CNdj4Luz++5KvrsnGBg4uWoZ8ucx9DMwvGM9wJB/AcRKyH/A0J/A4M7AAKJcGRgsgSwgL4SB7zcb\n",
       "iMf2j4GrYBMD9z8Gpg8M7BcmMPAZMHAeYOBYKwAAtXMYHwtZnY0AAAAASUVORK5CYII=\n",
       "\" style=\"display:inline;vertical-align:middle;\" /></a></td></tr>\n",
       "<tr><td>8</td><td>Operation</td><td>operator:&nbsp;9<br>operand:&nbsp;10<br></td><td><a class=\"ProveItLink\" href=\"../ef68349762a0a8fa00bd6296ee1f8cde2905a4a50/expr.ipynb\"><img src=\"data:image/png;base64,iVBORw0KGgoAAAANSUhEUgAAABkAAAAPBAMAAADjSHnWAAAAMFBMVEX///9mZmaqqqru7u52dnaY\n",
       "mJgQEBCIiIhERERUVFTMzMy6uroiIiIyMjLc3NwAAACxdsafAAAAAXRSTlMAQObYZgAAAEtJREFU\n",
       "CNdjYIADrgkMSICnAZlXhszji0XmsfAi8+KQecwFyDwWBhDv7RkQOM2gxYAkx+yAzGOaOXN+ZgGS\n",
       "oWwobkHhscz/GMCAAgD4YxLsP4fDeQAAAABJRU5ErkJggg==\n",
       "\" style=\"display:inline;vertical-align:middle;\" /></a></td></tr>\n",
       "<tr><td>9</td><td>Literal</td><td></td><td><a class=\"ProveItLink\" href=\"../../../number/negation/__pv_it/3fc7a08bb9735faa20ef8e175f6ea95511acc9c70/expr.ipynb\"><img src=\"data:image/png;base64,iVBORw0KGgoAAAANSUhEUgAAAA4AAAACBAMAAACapPCZAAAAElBMVEX///+6uroiIiIyMjLc3NwA\n",
       "AAA6l9OrAAAAAXRSTlMAQObYZgAAABBJREFUCNdjcFYCAUUGKAAADR4BD8/TF5gAAAAASUVORK5C\n",
       "YII=\n",
       "\" style=\"display:inline;vertical-align:middle;\" /></a></td></tr>\n",
       "<tr><td>10</td><td>Literal</td><td></td><td><a class=\"ProveItLink\" href=\"../../../number/numeral/__pv_it/23412ce59ea7e77353d2f9225e02248e73651ca00/expr.ipynb\"><img src=\"data:image/png;base64,iVBORw0KGgoAAAANSUhEUgAAAAoAAAAPBAMAAAAv0UM9AAAALVBMVEX///9mZmaqqqru7u52dnYy\n",
       "MjKYmJjc3NwQEBCIiIhEREQiIiJUVFTMzMwAAACUDTcXAAAAAXRSTlMAQObYZgAAAD5JREFUCNdj\n",
       "YGBguMMAArtABGcXiCyLApEOIJKtAERaMoBIBxDJdAFEmjCASJ0zZ16cBCkF64KQPu/EwBwGACv6\n",
       "DSRgin9qAAAAAElFTkSuQmCC\n",
       "\" style=\"display:inline;vertical-align:middle;\" /></a></td></tr>\n",
       "</table>\n"
      ],
      "text/plain": [
       "0. (m - 4) in Naturals\n",
       "   core type: Operation\n",
       "   operator: 1\n",
       "   operands: 2\n",
       "1. in\n",
       "   core type: Literal\n",
       "   sub-expressions: \n",
       "2. (m - 4 , Naturals)\n",
       "   core type: ExprTuple\n",
       "   sub-expressions: 3, 4\n",
       "3. m - 4\n",
       "   core type: Operation\n",
       "   operator: 5\n",
       "   operands: 6\n",
       "4. Naturals\n",
       "   core type: Literal\n",
       "   sub-expressions: \n",
       "5. +\n",
       "   core type: Literal\n",
       "   sub-expressions: \n",
       "6. (m , -4)\n",
       "   core type: ExprTuple\n",
       "   sub-expressions: 7, 8\n",
       "7. m\n",
       "   core type: Variable\n",
       "   sub-expressions: \n",
       "8. -4\n",
       "   core type: Operation\n",
       "   operator: 9\n",
       "   operand: 10\n",
       "9. -\n",
       "   core type: Literal\n",
       "   sub-expressions: \n",
       "10. 4\n",
       "    core type: Literal\n",
       "    sub-expressions: "
      ]
     },
     "execution_count": 4,
     "metadata": {},
     "output_type": "execute_result"
    }
   ],
   "source": [
    "# display the expression information\n",
    "expr.exprInfo()"
   ]
  },
  {
   "cell_type": "code",
   "execution_count": null,
   "metadata": {},
   "outputs": [],
   "source": []
  }
 ],
 "metadata": {
  "kernelspec": {
   "display_name": "Python 3",
   "language": "python",
   "name": "python3"
  }
 },
 "nbformat": 4,
 "nbformat_minor": 0
}
