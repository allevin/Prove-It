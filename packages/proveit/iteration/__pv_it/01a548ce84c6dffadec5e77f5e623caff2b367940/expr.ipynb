{
 "cells": [
  {
   "cell_type": "markdown",
   "metadata": {},
   "source": [
    "Expression of type <a class=\"ProveItLink\" href=\"../../../../../doc/html/api/proveit.ExprTuple.html\">ExprTuple</a>\n",
    "=======================\n",
    "# from context <a class=\"ProveItLink\" href=\"../../_context_.ipynb\">proveit.iteration</a>"
   ]
  },
  {
   "cell_type": "code",
   "execution_count": 1,
   "metadata": {},
   "outputs": [],
   "source": [
    "# import Expression classes needed to build the expression\n",
    "from proveit import ExprTuple, Indexed, Variable\n",
    "from proveit._common_ import xx, zz"
   ]
  },
  {
   "cell_type": "code",
   "execution_count": 2,
   "metadata": {},
   "outputs": [
    {
     "data": {
      "text/html": [
       "<strong id=\"expr\">expr:</strong> <a class=\"ProveItLink\" href=\"expr.ipynb\"><img src=\"data:image/png;base64,iVBORw0KGgoAAAANSUhEUgAAAHQAAAAaBAMAAACUSmU+AAAAMFBMVEX///+qqqp2dnYiIiJERESI\n",
       "iIhmZmYQEBDc3NyYmJgyMjLu7u5UVFTMzMy6uroAAACGxKilAAAAAXRSTlMAQObYZgAAAblJREFU\n",
       "OMtjYGB4x0AGUAARvAfI0XoHROzaQI5W1gAgcZKBLGDBwMBRQJ7WGAYGtgTytO7fwMD+gDytzBMY\n",
       "7pOnk4HNgSEcSG1bvPaVDS41LV8atmOJBM4PDKcYGLgNGeqt4wNwaK3//80UizDfbwYfBgaeCQz/\n",
       "A/5PwK6T03PmZGwhyfuXYRkDAxMDx/+Gqbi9dQybIMc/BjOw0d/xBEiXAjZR7o8QrTx/cOvkq2TA\n",
       "YesaBgZGBfavDKwNUJUhDOwoASp+gYERynzqwFAN1/qX4QgwYfzr/8fQDhXayt9wHSYNMoKzgoEh\n",
       "DerGgB+88GTL94MhmIGh3+H4P451UKHuxwwhMO98BhLy5eX11lCL9hmwOiDF63tgBjLWPr4Knh4P\n",
       "MRyFaa0HeqKQI/8PzAM8Cjzw2GdawMB/Ac3/dQy1cEc1oEqxP2CHq+YKAJqEprWW7wPcUWhS7Bfe\n",
       "I3JOAwOvATym0tLSEhkYZEIWQFlIWrcBRQQYGI96QVkMDFOA2BEtvhoQ/kFP1h3wYGBgsAUlFlRp\n",
       "FoVXOFOHE98CuF9A6ZoR1bOMoQo4tYoGIbIimJxITk7PZqAEAABr+2vFVJtwNQAAAABJRU5ErkJg\n",
       "gg==\n",
       "\" style=\"display:inline;vertical-align:middle;\" /></a><br>"
      ],
      "text/plain": [
       "expr: (x__y_ , z__y_)"
      ]
     },
     "execution_count": 2,
     "metadata": {},
     "output_type": "execute_result"
    }
   ],
   "source": [
    "# build up the expression from sub-expressions\n",
    "subExpr1 = Variable(\"_y_\", latexFormat = r\"{_{-}y_{-}}\")\n",
    "expr = ExprTuple(Indexed(xx, subExpr1, base = 1), Indexed(zz, subExpr1, base = 1))"
   ]
  },
  {
   "cell_type": "code",
   "execution_count": 3,
   "metadata": {},
   "outputs": [
    {
     "name": "stdout",
     "output_type": "stream",
     "text": [
      "Passed sanity check: built 'expr' is the same as the stored Expression.\n"
     ]
    }
   ],
   "source": [
    "# check that the built expression is the same as the stored expression\n",
    "%check_expr"
   ]
  },
  {
   "cell_type": "code",
   "execution_count": 4,
   "metadata": {},
   "outputs": [
    {
     "data": {
      "text/html": [
       "<table><tr><th>&nbsp;</th><th>core type</th><th>sub-expressions</th><th>expression</th></tr>\n",
       "<tr><td>0</td><td>ExprTuple</td><td>1, 2</td><td><a class=\"ProveItLink\" href=\"expr.ipynb\"><img src=\"data:image/png;base64,iVBORw0KGgoAAAANSUhEUgAAAHQAAAAaBAMAAACUSmU+AAAAMFBMVEX///+qqqp2dnYiIiJERESI\n",
       "iIhmZmYQEBDc3NyYmJgyMjLu7u5UVFTMzMy6uroAAACGxKilAAAAAXRSTlMAQObYZgAAAblJREFU\n",
       "OMtjYGB4x0AGUAARvAfI0XoHROzaQI5W1gAgcZKBLGDBwMBRQJ7WGAYGtgTytO7fwMD+gDytzBMY\n",
       "7pOnk4HNgSEcSG1bvPaVDS41LV8atmOJBM4PDKcYGLgNGeqt4wNwaK3//80UizDfbwYfBgaeCQz/\n",
       "A/5PwK6T03PmZGwhyfuXYRkDAxMDx/+Gqbi9dQybIMc/BjOw0d/xBEiXAjZR7o8QrTx/cOvkq2TA\n",
       "YesaBgZGBfavDKwNUJUhDOwoASp+gYERynzqwFAN1/qX4QgwYfzr/8fQDhXayt9wHSYNMoKzgoEh\n",
       "DerGgB+88GTL94MhmIGh3+H4P451UKHuxwwhMO98BhLy5eX11lCL9hmwOiDF63tgBjLWPr4Knh4P\n",
       "MRyFaa0HeqKQI/8PzAM8Cjzw2GdawMB/Ac3/dQy1cEc1oEqxP2CHq+YKAJqEprWW7wPcUWhS7Bfe\n",
       "I3JOAwOvATym0tLSEhkYZEIWQFlIWrcBRQQYGI96QVkMDFOA2BEtvhoQ/kFP1h3wYGBgsAUlFlRp\n",
       "FoVXOFOHE98CuF9A6ZoR1bOMoQo4tYoGIbIimJxITk7PZqAEAABr+2vFVJtwNQAAAABJRU5ErkJg\n",
       "gg==\n",
       "\" style=\"display:inline;vertical-align:middle;\" /></a></td></tr>\n",
       "<tr><td>1</td><td>Indexed</td><td>var:&nbsp;3<br>index:&nbsp;5<br>base:&nbsp;\"1\"<br></td><td><a class=\"ProveItLink\" href=\"../6654ceea09b28b68b2ec4edd8e0fd4ee3952081b0/expr.ipynb\"><img src=\"data:image/png;base64,iVBORw0KGgoAAAANSUhEUgAAACwAAAAQBAMAAACfEoDkAAAAMFBMVEX///9ERETc3Nx2dnaYmJiI\n",
       "iIgQEBCqqqpUVFS6urrMzMwiIiIyMjJmZmbu7u4AAAAYebpBAAAAAXRSTlMAQObYZgAAAJlJREFU\n",
       "GNNjYHh7+tScHQzogG87Q/6++AB0YQ4Hhv8B/x3QhZkZmP4ruDJgApZvDNgAxw8sguwGbF8ZWBUg\n",
       "HM5ABrYHYNb7n/o/GdSgap7yKyyDsPQF2n4ynYQK681mCISwWHfbtZ2ZADOymaEVm/WZDFnYhLM4\n",
       "P6CGwd27d68zMFQEHoCykAGTAkcAFjMYDeZgM5o91ADCAAC4mihNfYIEswAAAABJRU5ErkJggg==\n",
       "\" style=\"display:inline;vertical-align:middle;\" /></a></td></tr>\n",
       "<tr><td>2</td><td>Indexed</td><td>var:&nbsp;4<br>index:&nbsp;5<br>base:&nbsp;\"1\"<br></td><td><a class=\"ProveItLink\" href=\"../c63a1b94e777338cb2995731add54d21a10430420/expr.ipynb\"><img src=\"data:image/png;base64,iVBORw0KGgoAAAANSUhEUgAAACoAAAAQBAMAAACSDPCjAAAAMFBMVEX////MzMyqqqq6urp2dnYy\n",
       "MjJUVFSYmJiIiIgiIiJmZmYQEBDu7u5ERETc3NwAAACuGOj0AAAAAXRSTlMAQObYZgAAAIdJREFU\n",
       "GNNjYOC7f49nDwM64P7/f2UDhmhtefksBiyAbQEWQb4QbEqtC7AIMm1kYFCAMJl7GbgPQJjVDxi4\n",
       "oAaf4H8gDVX6e/fun1AFbywZeqHOVXj1PwdmWgpDBhY7NjNsxCK6kfkDMpdn1apVixgY1HoDoCxk\n",
       "/zxgwwwRBl4HU2we6nCAMACJISTQaar8BwAAAABJRU5ErkJggg==\n",
       "\" style=\"display:inline;vertical-align:middle;\" /></a></td></tr>\n",
       "<tr><td>3</td><td>Variable</td><td></td><td><a class=\"ProveItLink\" href=\"../../../__pv_it/7a540faade4b95df4e25b93ec64921746d67c7a50/expr.ipynb\"><img src=\"data:image/png;base64,iVBORw0KGgoAAAANSUhEUgAAAA0AAAAKBAMAAACdwMn3AAAAMFBMVEX///9ERETc3Nx2dnaYmJiI\n",
       "iIgQEBCqqqpUVFS6urrMzMwiIiIyMjJmZmbu7u4AAAAYebpBAAAAAXRSTlMAQObYZgAAAFNJREFU\n",
       "CNdjYHh7+tScHQwMfNsZ8vfFBzBwODD8D/jvwMDMwPRfwZUBCFi+MYABxw8QyW7A9pWBVYHh/U/9\n",
       "nwxqDAz6Am0/mU4yMLDutms7M4EBAKnKFqcheKyGAAAAAElFTkSuQmCC\n",
       "\" style=\"display:inline;vertical-align:middle;\" /></a></td></tr>\n",
       "<tr><td>4</td><td>Variable</td><td></td><td><a class=\"ProveItLink\" href=\"../../../__pv_it/825c5f9364dafac3172235f06554b9a92bb87b3c0/expr.ipynb\"><img src=\"data:image/png;base64,iVBORw0KGgoAAAANSUhEUgAAAAwAAAAKBAMAAAByAqLJAAAAMFBMVEX////MzMyqqqq6urp2dnYy\n",
       "MjJUVFSYmJiIiIgiIiJmZmYQEBDu7u5ERETc3NwAAACuGOj0AAAAAXRSTlMAQObYZgAAAEVJREFU\n",
       "CNdjYOC7f49nDwMD9///KxsYGGrLy2cxgADbAhDJFwLmWBeASKaNDAwKDAzVDxi4FjAw/d69++cB\n",
       "Bm6FV/9zGAB5GRMC+6tp5wAAAABJRU5ErkJggg==\n",
       "\" style=\"display:inline;vertical-align:middle;\" /></a></td></tr>\n",
       "<tr><td>5</td><td>Variable</td><td></td><td><a class=\"ProveItLink\" href=\"../ca21bf52f8ec7f5496629bfb63241356f0872c150/expr.ipynb\"><img src=\"data:image/png;base64,iVBORw0KGgoAAAANSUhEUgAAACMAAAANBAMAAADRUcosAAAAMFBMVEX///+YmJhUVFQyMjIQEBAi\n",
       "IiLMzMyIiIi6urrc3NxmZmZ2dnbu7u5ERESqqqoAAACio3w8AAAAAXRSTlMAQObYZgAAAGhJREFU\n",
       "CNdjYICA06sZOP8woIAN/QzsH1BE2B4sZeC9gCLEw+DOwF+AqpHvD0N+AqoQlwFDCaoIA/MChkto\n",
       "QlwKHB9h7Ld3geAAA8/1qp8wNhxwB6BpVGU48gBNKJrhNpoIw/OqBhgTACmkHt67K+Q0AAAAAElF\n",
       "TkSuQmCC\n",
       "\" style=\"display:inline;vertical-align:middle;\" /></a></td></tr>\n",
       "</table>\n"
      ],
      "text/plain": [
       "0. (x__y_ , z__y_)\n",
       "   core type: ExprTuple\n",
       "   sub-expressions: 1, 2\n",
       "1. x__y_\n",
       "   core type: Indexed\n",
       "   var: 3\n",
       "   index: 5\n",
       "   base: \"1\"\n",
       "2. z__y_\n",
       "   core type: Indexed\n",
       "   var: 4\n",
       "   index: 5\n",
       "   base: \"1\"\n",
       "3. x\n",
       "   core type: Variable\n",
       "   sub-expressions: \n",
       "4. z\n",
       "   core type: Variable\n",
       "   sub-expressions: \n",
       "5. _y_\n",
       "   core type: Variable\n",
       "   sub-expressions: "
      ]
     },
     "execution_count": 4,
     "metadata": {},
     "output_type": "execute_result"
    }
   ],
   "source": [
    "# display the expression information\n",
    "expr.exprInfo()"
   ]
  },
  {
   "cell_type": "code",
   "execution_count": null,
   "metadata": {},
   "outputs": [],
   "source": []
  }
 ],
 "metadata": {
  "kernelspec": {
   "display_name": "Python 3",
   "language": "python",
   "name": "python3"
  }
 },
 "nbformat": 4,
 "nbformat_minor": 0
}
