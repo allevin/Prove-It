{
 "cells": [
  {
   "cell_type": "markdown",
   "metadata": {},
   "source": [
    "Expression of type <a class=\"ProveItLink\" href=\"../../../../../doc/html/api/proveit.logic.Equals.html\">Equals</a>\n",
    "=======================\n",
    "# from context <a class=\"ProveItLink\" href=\"../../_context_.ipynb\">proveit.iteration</a>"
   ]
  },
  {
   "cell_type": "code",
   "execution_count": 1,
   "metadata": {},
   "outputs": [],
   "source": [
    "# import Expression classes needed to build the expression\n",
    "from proveit.logic import Equals\n",
    "from proveit.number import Add, Neg, one, zero"
   ]
  },
  {
   "cell_type": "code",
   "execution_count": 2,
   "metadata": {},
   "outputs": [
    {
     "data": {
      "text/html": [
       "<strong id=\"expr\">expr:</strong> <a class=\"ProveItLink\" href=\"expr.ipynb\"><img src=\"data:image/png;base64,iVBORw0KGgoAAAANSUhEUgAAAIEAAAAVBAMAAACTeZA2AAAAMFBMVEX////c3NwiIiJERESqqqqY\n",
       "mJh2dnZmZmYQEBDu7u4yMjJUVFTMzMyIiIi6uroAAAAs73DqAAAAAXRSTlMAQObYZgAAAXxJREFU\n",
       "OMullL1Lw0AYxp/YJm1j0rqLWNTZSQe3zk5OHRwkm1OhCIpIhwouLlJ0aNElCA4qSDrrkN3B/gEW\n",
       "gpMIggUVFBTvTtsk9+ay+A4X7uHJL/d+XID/R7EX2+pBgudZ9fIaX27DfbvfABrUZ3lsWSIyU3I+\n",
       "e56H0jwOfZiUYLaAow9ZFYoL2GESdhm2C90hhD5wci0TfpUqkG+NtDEPxQEKTULY53hyBqF0gKdQ\n",
       "KtVhvQILpNaumpCpYCuUph1YX8C6bM05aoJRx1mc8A4si83OBY9LUcgVNSHr4oAQHmVrPlATik18\n",
       "A9rpDI/gL4s72VoKCUPriGC9cEK0km/pBHIGRthDtJvZwTCLDfGxWZFFJTWLRUQnyigDq7I1k1JJ\n",
       "3Y31bg4dP6GbrGNp3XyIaO3aDVuvyESxg+W2PzelKRGKGSA/IfkTpnpX/W9gU00uktEjtqqaUIvf\n",
       "bhHHybc7OQr8ykxKYpf6NE9FGOc10OKntv0E45SKcA/8AEfZbfV+l3jOAAAAAElFTkSuQmCC\n",
       "\" style=\"display:inline;vertical-align:middle;\" /></a><br>"
      ],
      "text/plain": [
       "expr: (-0) = (1 - 1)"
      ]
     },
     "execution_count": 2,
     "metadata": {},
     "output_type": "execute_result"
    }
   ],
   "source": [
    "# build up the expression from sub-expressions\n",
    "expr = Equals(Neg(zero), Add(one, Neg(one)))"
   ]
  },
  {
   "cell_type": "code",
   "execution_count": 3,
   "metadata": {},
   "outputs": [
    {
     "name": "stdout",
     "output_type": "stream",
     "text": [
      "Passed sanity check: built 'expr' is the same as the stored Expression.\n"
     ]
    }
   ],
   "source": [
    "# check that the built expression is the same as the stored expression\n",
    "%check_expr"
   ]
  },
  {
   "cell_type": "code",
   "execution_count": 4,
   "metadata": {},
   "outputs": [
    {
     "data": {
      "text/html": [
       "<table><tr><th>&nbsp;</th><th>core type</th><th>sub-expressions</th><th>expression</th></tr>\n",
       "<tr><td>0</td><td>Operation</td><td>operator:&nbsp;1<br>operands:&nbsp;2<br></td><td><a class=\"ProveItLink\" href=\"expr.ipynb\"><img src=\"data:image/png;base64,iVBORw0KGgoAAAANSUhEUgAAAIEAAAAVBAMAAACTeZA2AAAAMFBMVEX////c3NwiIiJERESqqqqY\n",
       "mJh2dnZmZmYQEBDu7u4yMjJUVFTMzMyIiIi6uroAAAAs73DqAAAAAXRSTlMAQObYZgAAAXxJREFU\n",
       "OMullL1Lw0AYxp/YJm1j0rqLWNTZSQe3zk5OHRwkm1OhCIpIhwouLlJ0aNElCA4qSDrrkN3B/gEW\n",
       "gpMIggUVFBTvTtsk9+ay+A4X7uHJL/d+XID/R7EX2+pBgudZ9fIaX27DfbvfABrUZ3lsWSIyU3I+\n",
       "e56H0jwOfZiUYLaAow9ZFYoL2GESdhm2C90hhD5wci0TfpUqkG+NtDEPxQEKTULY53hyBqF0gKdQ\n",
       "KtVhvQILpNaumpCpYCuUph1YX8C6bM05aoJRx1mc8A4si83OBY9LUcgVNSHr4oAQHmVrPlATik18\n",
       "A9rpDI/gL4s72VoKCUPriGC9cEK0km/pBHIGRthDtJvZwTCLDfGxWZFFJTWLRUQnyigDq7I1k1JJ\n",
       "3Y31bg4dP6GbrGNp3XyIaO3aDVuvyESxg+W2PzelKRGKGSA/IfkTpnpX/W9gU00uktEjtqqaUIvf\n",
       "bhHHybc7OQr8ykxKYpf6NE9FGOc10OKntv0E45SKcA/8AEfZbfV+l3jOAAAAAElFTkSuQmCC\n",
       "\" style=\"display:inline;vertical-align:middle;\" /></a></td></tr>\n",
       "<tr><td>1</td><td>Literal</td><td></td><td><a class=\"ProveItLink\" href=\"../../../logic/equality/__pv_it/2fb26078095930560931daa0500ce419a39ea6cd0/expr.ipynb\"><img src=\"data:image/png;base64,iVBORw0KGgoAAAANSUhEUgAAAA4AAAAFBAMAAACHocAhAAAAFVBMVEX///9EREQiIiJUVFQyMjJm\n",
       "ZmYAAADubVkoAAAAAXRSTlMAQObYZgAAABRJREFUCNdjCHEBAWcGXCBICQQUAUpuAwlgGKrkAAAA\n",
       "AElFTkSuQmCC\n",
       "\" style=\"display:inline;vertical-align:middle;\" /></a></td></tr>\n",
       "<tr><td>2</td><td>ExprTuple</td><td>3, 4</td><td><a class=\"ProveItLink\" href=\"../ef02ddea81f4f434847ce7162c79cb99314613dd0/expr.ipynb\"><img src=\"data:image/png;base64,iVBORw0KGgoAAAANSUhEUgAAAF0AAAAVBAMAAADWVP/xAAAAMFBMVEX////c3NwiIiJERESqqqqY\n",
       "mJh2dnZmZmYQEBDu7u4yMjJUVFTMzMyIiIi6uroAAAAs73DqAAAAAXRSTlMAQObYZgAAARZJREFU\n",
       "KM9jYCAV8F0gWmkciDiN4E+/WwNjMk9AV2zJwMB+AEivRAjpMUw6AGFx2qOrn/wTSCxgYOBFOIdX\n",
       "gYF3AUT57v1o6mfvBqkPY2DgQEgwbWDg+whl30c3nxekfgYDwyuEEH8BA88XvOqZHRjKEELyCQw8\n",
       "f/GqZytgWIqq/hte9SwLGPpIUc/XwPCPgYFxkRIIPMB0jxRYQg+unucDSD2yf7/iNR+ovoUBOTxZ\n",
       "PhJyjykDcnyxKTBMwKOedQFDOpKYCsOMA5yf8IfnIySx6bl7GDj7BYCs8v7lASjK2St+lTIwcD1g\n",
       "4BBAT98CuBM0MD2wJqCJseLJALmo6ZmQek5Q6pVGE8ST3bhBTmUkPj/eYWAAAKLnVtQYgyhEAAAA\n",
       "AElFTkSuQmCC\n",
       "\" style=\"display:inline;vertical-align:middle;\" /></a></td></tr>\n",
       "<tr><td>3</td><td>Operation</td><td>operator:&nbsp;9<br>operand:&nbsp;5<br></td><td><a class=\"ProveItLink\" href=\"../fc9b386b67e40bd88a348ec28dfc1239db2cd9060/expr.ipynb\"><img src=\"data:image/png;base64,iVBORw0KGgoAAAANSUhEUgAAABkAAAAOBAMAAAAoFKpzAAAALVBMVEX///8QEBCYmJh2dnaqqqpU\n",
       "VFTMzMyIiIhmZmbu7u66uroiIiIyMjLc3NwAAACHpao+AAAAAXRSTlMAQObYZgAAAFNJREFUCNdj\n",
       "YIACzvaKBAY44F7AuQ3Bq2ZgqEHwtjIwrLsA571gYMhzgHF4HwN5BSg8AzTend0gsAtVJdgUBWQb\n",
       "/C4g226N5DIHTjEEj7O5NIEBAIBQGVL88FXhAAAAAElFTkSuQmCC\n",
       "\" style=\"display:inline;vertical-align:middle;\" /></a></td></tr>\n",
       "<tr><td>4</td><td>Operation</td><td>operator:&nbsp;6<br>operands:&nbsp;7<br></td><td><a class=\"ProveItLink\" href=\"../4eb5c56922f3061cecf7ffa8e57a342c81b8667f0/expr.ipynb\"><img src=\"data:image/png;base64,iVBORw0KGgoAAAANSUhEUgAAACsAAAAPBAMAAACPTivTAAAAJ1BMVEX///+6uroiIiLc3NyYmJgy\n",
       "MjIQEBBmZmaIiIhUVFTu7u5EREQAAAAm9UUAAAAAAXRSTlMAQObYZgAAAEBJREFUGNNjYGDYxYAG\n",
       "uBcAidWn0ES59gCFV85EE+aaOQekmgNdNUMPfYSZg5RAQIAeVrKXHS1BFS3PCXdgwA4AJocgV+Lt\n",
       "iQ4AAAAASUVORK5CYII=\n",
       "\" style=\"display:inline;vertical-align:middle;\" /></a></td></tr>\n",
       "<tr><td>5</td><td>Literal</td><td></td><td><a class=\"ProveItLink\" href=\"../../../number/numeral/__pv_it/ec23fc7a1b4222a5f4948b495002b97d6fa18c3c0/expr.ipynb\"><img src=\"data:image/png;base64,iVBORw0KGgoAAAANSUhEUgAAAAoAAAAOBAMAAADkjZCYAAAALVBMVEX///8QEBCYmJh2dnaqqqrc\n",
       "3NxUVFQyMjK6uroiIiLMzMyIiIhmZmbu7u4AAAAZjyHdAAAAAXRSTlMAQObYZgAAAEpJREFUCNdj\n",
       "YLiz+xQDA8MMhpsLGLgnMHAXMHAmMHA8ZeA7wMD1hCHOgIHrNZh8jES+Bss+AqlkeQrSxTyBgWEK\n",
       "w8UFDAx3rLMYAMCjFldHSx/9AAAAAElFTkSuQmCC\n",
       "\" style=\"display:inline;vertical-align:middle;\" /></a></td></tr>\n",
       "<tr><td>6</td><td>Literal</td><td></td><td><a class=\"ProveItLink\" href=\"../../../number/addition/__pv_it/3e6688136fa3c7aefbebe51301b7c3ebf0b69c440/expr.ipynb\"><img src=\"data:image/png;base64,iVBORw0KGgoAAAANSUhEUgAAAA4AAAAOBAMAAADtZjDiAAAAJFBMVEX///+6urpUVFQQEBAiIiIy\n",
       "MjJmZmaIiIiqqqrc3Nzu7u4AAACgHpL+AAAAAXRSTlMAQObYZgAAAB5JREFUCNdjYGBgWMkAAe2k\n",
       "0Kmhoc6hoUGk6BMHYgAHOwjcado9fwAAAABJRU5ErkJggg==\n",
       "\" style=\"display:inline;vertical-align:middle;\" /></a></td></tr>\n",
       "<tr><td>7</td><td>ExprTuple</td><td>10, 8</td><td><a class=\"ProveItLink\" href=\"../003a7a5f78bb1233e76c8e66dfa611c6ee7d06120/expr.ipynb\"><img src=\"data:image/png;base64,iVBORw0KGgoAAAANSUhEUgAAADkAAAAVBAMAAAAOWFv7AAAAMFBMVEX////c3NwiIiJERESqqqqY\n",
       "mJh2dnZmZmYQEBDu7u4yMjJUVFTMzMyIiIi6uroAAAAs73DqAAAAAXRSTlMAQObYZgAAAMhJREFU\n",
       "KM9jYMAP+C7gkIgDEaeBmHkCupQlAwP7ASC9koGB0x5ddvJPILGAgYH3AgPn7v1osrN3g2TDGBg4\n",
       "QBL30fXygmRnMDC8YsApy+zAUIZblq2AYSluWZYFDH24ZfkaGP4hy0opgYAeVJbnA6osql6gbAte\n",
       "k01hshMwZFkXMKRDZTk/YfPRIyBV3r88gLNfACHJXvGrlIGB6wEDB0yQTwA9noAhyZoAZbNiRHAu\n",
       "JAaxy3ICY5BBGsrBSCLcIKsYcaWcOwwMADnVQGWsIk5WAAAAAElFTkSuQmCC\n",
       "\" style=\"display:inline;vertical-align:middle;\" /></a></td></tr>\n",
       "<tr><td>8</td><td>Operation</td><td>operator:&nbsp;9<br>operand:&nbsp;10<br></td><td><a class=\"ProveItLink\" href=\"../27bb768acc4707a63c4de5a0b22e13dfe76b5c980/expr.ipynb\"><img src=\"data:image/png;base64,iVBORw0KGgoAAAANSUhEUgAAABgAAAAPBAMAAAAMihLoAAAAJ1BMVEX///+YmJgQEBBmZmaIiIhU\n",
       "VFTu7u5ERES6uroiIiIyMjLc3NwAAAAKCT4sAAAAAXRSTlMAQObYZgAAACpJREFUCNdjYICDMgST\n",
       "If0Ygp0aisRhYCGTs2smCMwg3wAYYDY6ZciADABBShCHMIgXsAAAAABJRU5ErkJggg==\n",
       "\" style=\"display:inline;vertical-align:middle;\" /></a></td></tr>\n",
       "<tr><td>9</td><td>Literal</td><td></td><td><a class=\"ProveItLink\" href=\"../../../number/negation/__pv_it/3fc7a08bb9735faa20ef8e175f6ea95511acc9c70/expr.ipynb\"><img src=\"data:image/png;base64,iVBORw0KGgoAAAANSUhEUgAAAA4AAAACBAMAAACapPCZAAAAElBMVEX///+6uroiIiIyMjLc3NwA\n",
       "AAA6l9OrAAAAAXRSTlMAQObYZgAAABBJREFUCNdjcFYCAUUGKAAADR4BD8/TF5gAAAAASUVORK5C\n",
       "YII=\n",
       "\" style=\"display:inline;vertical-align:middle;\" /></a></td></tr>\n",
       "<tr><td>10</td><td>Literal</td><td></td><td><a class=\"ProveItLink\" href=\"../../../number/numeral/__pv_it/9be8badea4c35b9724062cecc501d17a3158d1d20/expr.ipynb\"><img src=\"data:image/png;base64,iVBORw0KGgoAAAANSUhEUgAAAAgAAAAPBAMAAAArJJMAAAAAHlBMVEX///+YmJgyMjIQEBBmZmaI\n",
       "iIhUVFTu7u5EREQAAAAw+MI4AAAAAXRSTlMAQObYZgAAACFJREFUCNdjYGBoZ2BgqJjOwFCWBiQY\n",
       "WEklWJwnOTKAAACjEQo8HvEr3AAAAABJRU5ErkJggg==\n",
       "\" style=\"display:inline;vertical-align:middle;\" /></a></td></tr>\n",
       "</table>\n"
      ],
      "text/plain": [
       "0. (-0) = (1 - 1)\n",
       "   core type: Operation\n",
       "   operator: 1\n",
       "   operands: 2\n",
       "1. =\n",
       "   core type: Literal\n",
       "   sub-expressions: \n",
       "2. (-0 , 1 - 1)\n",
       "   core type: ExprTuple\n",
       "   sub-expressions: 3, 4\n",
       "3. -0\n",
       "   core type: Operation\n",
       "   operator: 9\n",
       "   operand: 5\n",
       "4. 1 - 1\n",
       "   core type: Operation\n",
       "   operator: 6\n",
       "   operands: 7\n",
       "5. 0\n",
       "   core type: Literal\n",
       "   sub-expressions: \n",
       "6. +\n",
       "   core type: Literal\n",
       "   sub-expressions: \n",
       "7. (1 , -1)\n",
       "   core type: ExprTuple\n",
       "   sub-expressions: 10, 8\n",
       "8. -1\n",
       "   core type: Operation\n",
       "   operator: 9\n",
       "   operand: 10\n",
       "9. -\n",
       "   core type: Literal\n",
       "   sub-expressions: \n",
       "10. 1\n",
       "    core type: Literal\n",
       "    sub-expressions: "
      ]
     },
     "execution_count": 4,
     "metadata": {},
     "output_type": "execute_result"
    }
   ],
   "source": [
    "# display the expression information\n",
    "expr.exprInfo()"
   ]
  },
  {
   "cell_type": "code",
   "execution_count": null,
   "metadata": {},
   "outputs": [],
   "source": []
  }
 ],
 "metadata": {
  "kernelspec": {
   "display_name": "Python 3",
   "language": "python",
   "name": "python3"
  }
 },
 "nbformat": 4,
 "nbformat_minor": 0
}
