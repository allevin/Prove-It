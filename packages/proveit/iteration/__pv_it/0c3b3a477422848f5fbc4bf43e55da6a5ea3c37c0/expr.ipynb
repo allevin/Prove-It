{
 "cells": [
  {
   "cell_type": "markdown",
   "metadata": {},
   "source": [
    "Expression of type <a class=\"ProveItLink\" href=\"../../../../../doc/html/api/proveit.Iter.html\">Iter</a>\n",
    "=======================\n",
    "# from context <a class=\"ProveItLink\" href=\"../../_context_.ipynb\">proveit.iteration</a>"
   ]
  },
  {
   "cell_type": "code",
   "execution_count": 1,
   "metadata": {},
   "outputs": [],
   "source": [
    "# import Expression classes needed to build the expression\n",
    "from proveit import Indexed, Iter, Variable\n",
    "from proveit._common_ import bb, l\n",
    "from proveit.number import three"
   ]
  },
  {
   "cell_type": "code",
   "execution_count": 2,
   "metadata": {},
   "outputs": [
    {
     "data": {
      "text/html": [
       "<strong id=\"expr\">expr:</strong> <a class=\"ProveItLink\" href=\"expr.ipynb\"><img src=\"data:image/png;base64,iVBORw0KGgoAAAANSUhEUgAAAFEAAAATBAMAAAAaMfxiAAAAMFBMVEX///+6urp2dnZmZmaIiIiq\n",
       "qqru7u5ERETc3NyYmJgQEBBUVFQyMjLMzMwiIiIAAAC3GpdEAAAAAXRSTlMAQObYZgAAAQxJREFU\n",
       "KM9j4P//gAEvgCvgPb8Bv0qEgvUT8KuEK+D434BfIVwB5y8CRsIVcP+rWZ2ATyVcAdefhny8vocr\n",
       "6P/BwPeVTUUbp7kQBfsTGOIXMPB/YZ7AfACXSrACBjkGBvsChv6f3AacH3CpBCtgUGZgeO/AMP8H\n",
       "AwMTTjMhCk4Cw/UCQz1QVZYAzoAHKwAadr6B7f8FhpQiBgY2kHgCjIDzwAp4FzAwzJ+Q8xXIZy5g\n",
       "AIUF2z8GKAHngRWwFACj4N3qC6A4+8qQBbSBbTkDlMgCyrGtb4AqYHeAhZkAx08GBgkMNzLC0gTX\n",
       "XSgjr4FzGQMDZqLihDHyWWBp0EW7Aa9KblVkYRbMEHJAYgMA5Chg7u0/coIAAAAASUVORK5CYII=\n",
       "\" style=\"display:inline;vertical-align:middle;\" /></a><br>"
      ],
      "text/plain": [
       "expr: b_3,...,b_l"
      ]
     },
     "execution_count": 2,
     "metadata": {},
     "output_type": "execute_result"
    }
   ],
   "source": [
    "# build up the expression from sub-expressions\n",
    "subExpr1 = Variable(\"_x_\", latexFormat = r\"{_{-}x_{-}}\")\n",
    "expr = Iter(subExpr1, Indexed(bb, subExpr1, base = 1), three, l)"
   ]
  },
  {
   "cell_type": "code",
   "execution_count": 3,
   "metadata": {},
   "outputs": [
    {
     "name": "stdout",
     "output_type": "stream",
     "text": [
      "Passed sanity check: built 'expr' is the same as the stored Expression.\n"
     ]
    }
   ],
   "source": [
    "# check that the built expression is the same as the stored expression\n",
    "%check_expr"
   ]
  },
  {
   "cell_type": "code",
   "execution_count": 4,
   "metadata": {},
   "outputs": [
    {
     "data": {
      "text/html": [
       "<table><tr><th>&nbsp;</th><th>core type</th><th>sub-expressions</th><th>expression</th></tr>\n",
       "<tr><td>0</td><td>Iter</td><td>lambda_map:&nbsp;1<br></td><td><a class=\"ProveItLink\" href=\"expr.ipynb\"><img src=\"data:image/png;base64,iVBORw0KGgoAAAANSUhEUgAAAFEAAAATBAMAAAAaMfxiAAAAMFBMVEX///+6urp2dnZmZmaIiIiq\n",
       "qqru7u5ERETc3NyYmJgQEBBUVFQyMjLMzMwiIiIAAAC3GpdEAAAAAXRSTlMAQObYZgAAAQxJREFU\n",
       "KM9j4P//gAEvgCvgPb8Bv0qEgvUT8KuEK+D434BfIVwB5y8CRsIVcP+rWZ2ATyVcAdefhny8vocr\n",
       "6P/BwPeVTUUbp7kQBfsTGOIXMPB/YZ7AfACXSrACBjkGBvsChv6f3AacH3CpBCtgUGZgeO/AMP8H\n",
       "AwMTTjMhCk4Cw/UCQz1QVZYAzoAHKwAadr6B7f8FhpQiBgY2kHgCjIDzwAp4FzAwzJ+Q8xXIZy5g\n",
       "AIUF2z8GKAHngRWwFACj4N3qC6A4+8qQBbSBbTkDlMgCyrGtb4AqYHeAhZkAx08GBgkMNzLC0gTX\n",
       "XSgjr4FzGQMDZqLihDHyWWBp0EW7Aa9KblVkYRbMEHJAYgMA5Chg7u0/coIAAAAASUVORK5CYII=\n",
       "\" style=\"display:inline;vertical-align:middle;\" /></a></td></tr>\n",
       "<tr><td>1</td><td>Lambda</td><td>parameter:&nbsp;8<br>body:&nbsp;2<br>conditions:&nbsp;3<br></td><td><a class=\"ProveItLink\" href=\"../c51f2c2eac8b0b51441f8a3013d1e801b4e0a2220/expr.ipynb\"><img src=\"data:image/png;base64,iVBORw0KGgoAAAANSUhEUgAAAQ0AAAAVCAMAAABrPkt4AAAANlBMVEX///+6uroUFBQNDQ0yMjLM\n",
       "zMwQEBAiIiKYmJhmZmZUVFSIiIh2dnbc3Nzu7u5ERESqqqoAAADqmkP9AAAAAXRSTlMAQObYZgAA\n",
       "AlFJREFUWMPNWItygyAQxJb34+D+/2eLYAwmoGixKTNtHB1wb9nbOyTkoyO40StKJc9PYtYOBoKI\n",
       "4vQkO40FAcJem8h4GAqEUdQfZ8PgutnWd8VnBSYMio5FwlF+nA3L049T8d+Epiu1sJw5ajhE91/Y\n",
       "sDjroi9zF1EMZkPihfV+wwYYKuKgFTbCCTa4uYMNjcJTruGv2GBUQksbafRlikPWZsNZo10wqr7Q\n",
       "1mlC2NoGdQRO1pU2G/tA4nMP7UzJYPUJ26iyAbFASSEJrwf1crcUwmIbAsMQNg6AEOLdjgnMRaWP\n",
       "DKL9lpUNuqVKBdbDBugnpJBtA/uM/JCNAyAEfL1rKNYzfOq3jSgl9f6Sgq3K+P4Sm8FxfaFCnxUi\n",
       "x2hjHwiZ+APDM3uZ5mybu8cmxnCd4qncY+tQG0Q/gxFJFPJkmd110R0gMfI6Rzk2l358x86Y1S7q\n",
       "XWw2WehhQ7lyI1gC8NrSRTOcjGYX2NgDElvwuguk1wMmVfSw4fXyhppvSJebW9PDBiv3js6iiDBe\n",
       "4rYwC755CGiycQAkxi3rfXY+M9EsV/dMu8ZFJMy2akqID3287RoaNW+5XVQqSYC+VZQYLZXnM+UI\n",
       "yCyOqV1hjUz9xqL9tey/XxBkUHZfwT8GzE5tLFibFts+6Sjc0VSrGbHnJAUbZ4E4qliz3whKKfrY\n",
       "GeC+dUGMsnBHL9o+K8e/W84pQdNGZ379hHMvFUgsJcT+8antP7EBKo+QFB+UmcVY3LyRDXk5ptHf\n",
       "Ny7tyPBvX+ZqPk+fZ8MMxyDthU96j++iPzKiGj/eHkbsAAAAAElFTkSuQmCC\n",
       "\" style=\"display:inline;vertical-align:middle;\" /></a></td></tr>\n",
       "<tr><td>2</td><td>Indexed</td><td>var:&nbsp;4<br>index:&nbsp;8<br>base:&nbsp;\"1\"<br></td><td><a class=\"ProveItLink\" href=\"../5e04bafe44877b328c83709a77e9f4d5daad136d0/expr.ipynb\"><img src=\"data:image/png;base64,iVBORw0KGgoAAAANSUhEUgAAACkAAAASBAMAAAA08+qrAAAAMFBMVEX///+6urp2dnZmZmaIiIiq\n",
       "qqru7u5ERETc3NyYmJgQEBBUVFQyMjLMzMwiIiIAAAC3GpdEAAAAAXRSTlMAQObYZgAAAJVJREFU\n",
       "GNNj4P//gAET8J7fgEWUYf0ELIIc/xuwiHL+wmYA97+a1QkYolx/GvIxXdH/g4HvK4Zo/AIG/i8Y\n",
       "ovYFDP0/MUTfOzDM/4HpiQsM9QegbJWN3hcgrPMNbP+hTKaE7VwBEOb8CTkwJzAynIT77d3qC3Dj\n",
       "fmDzJ+8CXkzB+0wHmJD5bMbGxqYM6a4magzJQGYAAECUK75XpZpjAAAAAElFTkSuQmCC\n",
       "\" style=\"display:inline;vertical-align:middle;\" /></a></td></tr>\n",
       "<tr><td>3</td><td>ExprTuple</td><td>5</td><td><a class=\"ProveItLink\" href=\"../c4314087d6cb5e969146bf991890abd90a3a875c0/expr.ipynb\"><img src=\"data:image/png;base64,iVBORw0KGgoAAAANSUhEUgAAAJEAAAAVBAMAAAC01xHeAAAAMFBMVEX////c3NwiIiJERESqqqqY\n",
       "mJh2dnZmZmYQEBDu7u4yMjJUVFTMzMyIiIi6uroAAAAs73DqAAAAAXRSTlMAQObYZgAAAdpJREFU\n",
       "OMuNlMtLAkEcx7+iu7m+8BAFPSgW6lYGESQd8t5BT0GXMoqig9SlAukg1LFMEsJLtAQR0aU/wZNE\n",
       "HvJSRgVJJ+kkQR3CHjM6OmOr2/4Ow+z8Zj+/9wCmRFpvqcrM13ae3P8gZdBAeRUAZukma8Ildwlw\n",
       "LS0EdArZV0CbBrSlyce5CZIcAzrh+dJr5qpKEJo7Z5K0GsCbXhNlpGnAnmidnQdV1eqkYFPSHiOl\n",
       "gNfWnlzPiD6hWXSWMlNaA9jgxx2P7XkhVosfjSTHpb47Skwpr+GUBxOWBuz9/JbVW9/S8iBzoXfb\n",
       "OVKlwaYhzg2TYtvS/FZSaJlCpRfiOpKdxnBGI4/hm/tUscClqKos49nd6sm+rjo31LKVxOUqCSRm\n",
       "oS5CyxbJDz3AZOgv6Z4udAAIaUc470tDsHogpEOD8pNoQppQWJ5IdGO8Dt5nuAWSk/8nk0J8Aj4v\n",
       "zQGRRG15l1ntJA3L9evB0Dh6xcYcbuiCW3g+yPaYQBXaopWlfMS74IVUcJSIH8m7w0io9kGla0sk\n",
       "2TajdIJTpCrKNtiSX2EkRwF2b+smnzoRpsVwKOm0SGGTE2ysjJh8VSQjEh0AhfrebYKkDBm9mWQA\n",
       "nDRHFjMPlLRo/I4/Ab9VpnD4UFPUJgAAAABJRU5ErkJggg==\n",
       "\" style=\"display:inline;vertical-align:middle;\" /></a></td></tr>\n",
       "<tr><td>4</td><td>Variable</td><td></td><td><a class=\"ProveItLink\" href=\"../../../__pv_it/80de4aa547bb07e5595613407e5fb01a1de5de140/expr.ipynb\"><img src=\"data:image/png;base64,iVBORw0KGgoAAAANSUhEUgAAAAoAAAAPBAMAAAAv0UM9AAAAKlBMVEX///9mZmaIiIiqqqru7u5E\n",
       "RETc3NyYmJgQEBBUVFQyMjLMzMwiIiIAAAAofWvMAAAAAXRSTlMAQObYZgAAAF1JREFUCNdj4L17\n",
       "gIGBgXvtBCDJ0FsAJNjuJgBJ9hsgAc47UZ0ODBy3EnwPMOReY+C5zGDbwMB7iUE2gCH3OsNZBYba\n",
       "awy9GxhiFzCsTWC5u4GhtsDrMlDvmc4NDAA9UxsGirX/RgAAAABJRU5ErkJggg==\n",
       "\" style=\"display:inline;vertical-align:middle;\" /></a></td></tr>\n",
       "<tr><td>5</td><td>Operation</td><td>operator:&nbsp;6<br>operands:&nbsp;7<br></td><td><a class=\"ProveItLink\" href=\"../26ff7686a2b41f363b1640f611c5d21bd186a9780/expr.ipynb\"><img src=\"data:image/png;base64,iVBORw0KGgoAAAANSUhEUgAAAIMAAAAVBAMAAACXjEALAAAAMFBMVEX///+6uroyMjLMzMwQEBAi\n",
       "IiKYmJhmZmZUVFSIiIh2dnbc3Nzu7u5ERESqqqoAAABZrPngAAAAAXRSTlMAQObYZgAAAXRJREFU\n",
       "OMtjYCAM0hNwyTCv2sBADDi6ALccsx9RRswHYqtV9zAlln5kYCgiyoglDAzcBQzyEzAk2D6AJYkz\n",
       "gusfA38AhgS7An4jTqqGBsGN4MNqBMsEvEYwqx1AcgUQYPHIfgMUI7hXdr+sRJLee4AB1QgNTGvy\n",
       "GVCMOMWQmuCKJH0bwQQFOvOiBkwjeqHGQMECYNw9RnB5LiC85AimpghgGOEJxEwFcO4BsJlwwOga\n",
       "GgoJTuYWA0jY/cEIrs8g8lICqpkIaYS7GZ2BIWXAwPsN3QhOByDBipR0uT8z8CB5BCkKmxgYzv/B\n",
       "YgRvwwGUsMjm/MAwB0m+DSkdMzDwKzCw/gZ7lwFiEYjgT1iAHCN833gduJFj/qgAcqRyJjDIA9Xz\n",
       "fAVyzwdACX4baNJ6excIDvDcXLNqGowD9pe6AXK6eF6uB7LbF0gcuQAlOKsO4E/gfE1ICRxvBiIu\n",
       "m1FqRAo+SeLKi6MT8ORGR6KMYMh6gLfsBAAQnmWYzCESJgAAAABJRU5ErkJggg==\n",
       "\" style=\"display:inline;vertical-align:middle;\" /></a></td></tr>\n",
       "<tr><td>6</td><td>Literal</td><td></td><td><a class=\"ProveItLink\" href=\"../../../logic/set_theory/membership/__pv_it/088cbc857536a28d4119ad9639a84270ccb0545d0/expr.ipynb\"><img src=\"data:image/png;base64,iVBORw0KGgoAAAANSUhEUgAAAAwAAAAMBAMAAACkW0HUAAAALVBMVEX///+qqqpmZmZUVFQQEBC6\n",
       "urpERETc3NyYmJjMzMwiIiIyMjKIiIju7u4AAACYsrA9AAAAAXRSTlMAQObYZgAAADxJREFUCNdj\n",
       "YOA9vWrVBgaG2b0MQMCeCyIZ2ArA1DUwyRCyahVIyWQI7xaEYm4AU7xLIdxqTQgtvGvVBgCkcQ7e\n",
       "geM/tQAAAABJRU5ErkJggg==\n",
       "\" style=\"display:inline;vertical-align:middle;\" /></a></td></tr>\n",
       "<tr><td>7</td><td>ExprTuple</td><td>8, 9</td><td><a class=\"ProveItLink\" href=\"../f4b23e4cc26e2c84b9f76d5997c7120e34a55a5a0/expr.ipynb\"><img src=\"data:image/png;base64,iVBORw0KGgoAAAANSUhEUgAAAIEAAAAVBAMAAACTeZA2AAAAMFBMVEX////c3NwiIiJERESqqqqY\n",
       "mJh2dnZmZmYQEBDu7u4yMjJUVFTMzMyIiIi6uroAAAAs73DqAAAAAXRSTlMAQObYZgAAAbpJREFU\n",
       "OMuNlL1Lw0AYxp/SJk36ETKIDip20U0qiKA4mP+gnRy1oigORRcVOhV01LYgSBcxi4i4+Cd0KkIH\n",
       "u2gFBYOTOJWCDlI/7tJrkprk6g3Jm3uP3937Pk8O4A5hxzdVXelGSt0fIE9w6DcasESDGmdRvAnE\n",
       "1lc1V0JMGgjrQLhCPi45BDEPDEH5cmeWO0kQSrzeh7CloeXO5BhhEZBKfQgpT8IRI5SBN/QhwKuK\n",
       "QJslgxp27enBx4FG3YMQuXar3GRJcRvntnQZYVxK9Cyk7Ub1yn246FSHgpCOgr0hES9U6ZXcMDUt\n",
       "uAgSPesFrTCPb/sMJtk5aoedd9HV7Vu6U5CcP9Z0EBjZOV7JwhFgIf2X8EAf1LCEcOCYH6ugd7eo\n",
       "Dvmn5EGYl1kfSBUzdn/VZ8QtghmIpLGfQFKlNbJJM3gXmRaCjg2LkErPYtRqSqur5h2UDxKeJdgk\n",
       "DdA+tdV8IYpMkzGH4/uTbLr7IRdVRgjt5eifVSZdlvdZgMYmI0QMSKq3HRXVchTPsMTVQsbnbsG/\n",
       "CFn/v9skCDwCNaxMTTvsnTetIU/y7ihi2CitNcC7IIQ1/j35BPwC5CJpjpbLIjgAAAAASUVORK5C\n",
       "YII=\n",
       "\" style=\"display:inline;vertical-align:middle;\" /></a></td></tr>\n",
       "<tr><td>8</td><td>Variable</td><td></td><td><a class=\"ProveItLink\" href=\"../5144cf74ae6a683b49b974f1b9302b432abf7e930/expr.ipynb\"><img src=\"data:image/png;base64,iVBORw0KGgoAAAANSUhEUgAAACUAAAAJBAMAAABH3vh9AAAAKlBMVEX////MzMwQEBAiIiKYmJhm\n",
       "ZmZUVFSIiIh2dnbc3Nzu7u5ERESqqqoAAABwkVEpAAAAAXRSTlMAQObYZgAAAEtJREFUCNdjYIAA\n",
       "zvbM4+EMqGAFg7ODMppYA0Mtw0E0sQUM2QyYQB1TiPMiAxeakCf7BYYqVCGeK9wKnAUw3undQLCA\n",
       "a3tXRwmMAwC3+RVNp6j0GAAAAABJRU5ErkJggg==\n",
       "\" style=\"display:inline;vertical-align:middle;\" /></a></td></tr>\n",
       "<tr><td>9</td><td>Operation</td><td>operator:&nbsp;10<br>operands:&nbsp;11<br></td><td><a class=\"ProveItLink\" href=\"../3f53c7cd01770e6139d971ae7ef35ee2cb70bc2d0/expr.ipynb\"><img src=\"data:image/png;base64,iVBORw0KGgoAAAANSUhEUgAAAEMAAAAVBAMAAADvM06qAAAAMFBMVEX////c3NxERESqqqpUVFS6\n",
       "urrMzMwyMjIQEBCIiIh2dnYiIiLu7u5mZmaYmJgAAABXZE4RAAAAAXRSTlMAQObYZgAAAPRJREFU\n",
       "KM9jYGDgu8eAC7CtEgBRPLsYcAO2ZhDJ+QGkepEBhjTX/gAGhutgVgMDgywD609MI94D8QqYkvUG\n",
       "DL8xlVxHVmKPVUknshIGbBYxfkNVwu6AoYTvA0wJbwGQyCrBtIdFAepkhowAsNdbMZRwTACZfoGB\n",
       "IaUNItB/AF1JfgKIVH/AwBABZIkxMOg/QFcyA0RwLwBZWcDA8/8AFiUqPDC3cG1gYPjOwLAfGGE8\n",
       "4DgDESBb/3Ehe3oeA+svIPP8BijBAwrIbyeRlTDfvQ6KxhMKUIKnCciYuwY16HABYpXw4VUCTi88\n",
       "O/GlOkig8y3Gn3YB6eRC7cMsk0IAAAAASUVORK5CYII=\n",
       "\" style=\"display:inline;vertical-align:middle;\" /></a></td></tr>\n",
       "<tr><td>10</td><td>Literal</td><td></td><td><a class=\"ProveItLink\" href=\"../../../number/sets/integer/__pv_it/6e5362d7b256561b61a1b512bf7dc507dcde5dcf0/expr.ipynb\"><img src=\"data:image/png;base64,iVBORw0KGgoAAAANSUhEUgAAAE4AAAAOBAMAAABz3DdCAAAAMFBMVEX///8QEBCYmJiqqqoiIiLu\n",
       "7u7MzMyIiIi6uroyMjLc3NxmZmZERERUVFR2dnYAAAADo0JQAAAAAXRSTlMAQObYZgAAAWZJREFU\n",
       "KM99kL9LQlEUx7/2vL7XS9+LlqAh3Bp1kGhzLKjhCW1BvaX9UoPQD3ku1qb0D/S2ghTf4CKEuAU1\n",
       "6BaR1B3aKhIiNbAf56q8ybpwv3DO+XDOly+A158bF/+/p57UT79O2eO5iTaJ9u3XSWs8N1UgMXp+\n",
       "XfnjboCTTLb9evUPriz9mHXg6PrsUGit/i302r6rHZxnPGzWkOIoZbIuYhLO01Jxx1kHCm1OuLpn\n",
       "RFboiMhjvanNoQG0JPdmQ3PWwHrSrk5qHwebihOKV6B45SgugVnJnQKMIOUDQYHIzMIerC2HejQN\n",
       "xR+BZYQ6kuvTJyhSAI1Nb5APhj3V6oP8qNMyvu4wIDNqJaGbMgFUR6EZepdMs3CTcjXk0oBAzBJV\n",
       "LMmkOOYlF/aQY+90Z9GMilF8ZQcvin3PhFrAhqsPkjfqjOMECU+Y2xwXjS+Cs0BxF8U08Jzm0KQf\n",
       "sIcdoJTOXTlqzfoFcS9unliQnJ4AAAAASUVORK5CYII=\n",
       "\" style=\"display:inline;vertical-align:middle;\" /></a></td></tr>\n",
       "<tr><td>11</td><td>ExprTuple</td><td>12, 13</td><td><a class=\"ProveItLink\" href=\"../4bc39d08af96031c284df6994ffca6bf65ba51da0/expr.ipynb\"><img src=\"data:image/png;base64,iVBORw0KGgoAAAANSUhEUgAAACYAAAAVBAMAAADY/YGeAAAAMFBMVEX////c3NwiIiJERESqqqqY\n",
       "mJh2dnZmZmYQEBDu7u4yMjJUVFTMzMyIiIi6uroAAAAs73DqAAAAAXRSTlMAQObYZgAAAPRJREFU\n",
       "GNNjYMAG+C6gcFkfAInTDAzH0kwgAmz6DxhqgPRKBsYChvdQxfEMDFwMDLwXGNi+MPArQMSqgJoT\n",
       "GDgmMLAgxHoZGDgbGF6B2VC9jH+AhAlDGZizGmrpByCRzrAUSPJkbYCIcRsACS+GPjDnxgMwxQEy\n",
       "4gXDPwjnJ5g6fwBEgMQYDzAwf4UoB0swtDAwzP8JE7PmBOs1ZWDgX8DA9JFhApD7lQ1IRAFtZuAN\n",
       "YHifwPkJyP0zF+yWR0DSvXwJA2e/AAPD9Uwgbx0DhwAszKAMoN+AXob6AUqzXQCFFarYLCCWhrJh\n",
       "wb0RFBaoYc97gAEAPcM8SWcejIcAAAAASUVORK5CYII=\n",
       "\" style=\"display:inline;vertical-align:middle;\" /></a></td></tr>\n",
       "<tr><td>12</td><td>Literal</td><td></td><td><a class=\"ProveItLink\" href=\"../../../number/numeral/__pv_it/9176d93c83afa2c995b614976e3cb49207102fa70/expr.ipynb\"><img src=\"data:image/png;base64,iVBORw0KGgoAAAANSUhEUgAAAAoAAAAOBAMAAADkjZCYAAAAMFBMVEX///+YmJju7u4QEBBUVFQy\n",
       "MjIiIiKIiIi6urpmZmbc3NyqqqpERER2dnbMzMwAAAB0GlNiAAAAAXRSTlMAQObYZgAAAE1JREFU\n",
       "CNdjYHh79zQDA9cEhv4CBt7fDPwJDNxgEgiAIkAQAsR8Vx1ATIbiBhDJ/ImB6wEDz0cG/U8gkj+A\n",
       "ge0XA7sAQ/8FBoadM6MZAEflFACalZ/OAAAAAElFTkSuQmCC\n",
       "\" style=\"display:inline;vertical-align:middle;\" /></a></td></tr>\n",
       "<tr><td>13</td><td>Variable</td><td></td><td><a class=\"ProveItLink\" href=\"../../../__pv_it/3e5d49a51123592869b160296a6e123a424e07a70/expr.ipynb\"><img src=\"data:image/png;base64,iVBORw0KGgoAAAANSUhEUgAAAAYAAAAOBAMAAAD+sXAWAAAALVBMVEX////u7u5ERERUVFTMzMzc\n",
       "3NyIiIgQEBAyMjJmZmaYmJi6uroiIiJ2dnYAAACuOh6BAAAAAXRSTlMAQObYZgAAAD9JREFUCNdj\n",
       "YLjzmoGB6wEDA2cDAwN7AgNDnAMDwzoGBgYjIC5jYGB5wsDAVsDAwGQgwMC34AIDn2MCA9tcAQAo\n",
       "GAoWIEgceAAAAABJRU5ErkJggg==\n",
       "\" style=\"display:inline;vertical-align:middle;\" /></a></td></tr>\n",
       "</table>\n"
      ],
      "text/plain": [
       "0. b_3,...,b_l\n",
       "   core type: Iter\n",
       "   lambda_map: 1\n",
       "   start_index: 12\n",
       "   end_index: 13\n",
       "1. _x_ -> b__x_ | _x_ in {3...l}\n",
       "   core type: Lambda\n",
       "   parameter: 8\n",
       "   body: 2\n",
       "   conditions: 3\\n2. b__x_\n",
       "   core type: Indexed\n",
       "   var: 4\n",
       "   index: 8\n",
       "   base: \"1\"\n",
       "3. (_x_ in {3...l})\n",
       "   core type: ExprTuple\n",
       "   sub-expressions: 5\n",
       "4. b\n",
       "   core type: Variable\n",
       "   sub-expressions: \n",
       "5. _x_ in {3...l}\n",
       "   core type: Operation\n",
       "   operator: 6\n",
       "   operands: 7\n",
       "6. in\n",
       "   core type: Literal\n",
       "   sub-expressions: \n",
       "7. (_x_ , {3...l})\n",
       "   core type: ExprTuple\n",
       "   sub-expressions: 8, 9\n",
       "8. _x_\n",
       "   core type: Variable\n",
       "   sub-expressions: \n",
       "9. {3...l}\n",
       "   core type: Operation\n",
       "   operator: 10\n",
       "   operands: 11\n",
       "10. Interval\n",
       "    core type: Literal\n",
       "    sub-expressions: \n",
       "11. (3 , l)\n",
       "    core type: ExprTuple\n",
       "    sub-expressions: 12, 13\n",
       "12. 3\n",
       "    core type: Literal\n",
       "    sub-expressions: \n",
       "13. l\n",
       "    core type: Variable\n",
       "    sub-expressions: "
      ]
     },
     "execution_count": 4,
     "metadata": {},
     "output_type": "execute_result"
    }
   ],
   "source": [
    "# display the expression information\n",
    "expr.exprInfo()"
   ]
  },
  {
   "cell_type": "code",
   "execution_count": null,
   "metadata": {},
   "outputs": [],
   "source": []
  }
 ],
 "metadata": {
  "kernelspec": {
   "display_name": "Python 3",
   "language": "python",
   "name": "python3"
  }
 },
 "nbformat": 4,
 "nbformat_minor": 0
}
