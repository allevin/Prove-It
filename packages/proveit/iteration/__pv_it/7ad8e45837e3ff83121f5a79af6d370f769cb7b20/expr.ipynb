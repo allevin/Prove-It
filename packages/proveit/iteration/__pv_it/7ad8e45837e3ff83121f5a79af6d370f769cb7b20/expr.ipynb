{
 "cells": [
  {
   "cell_type": "markdown",
   "metadata": {},
   "source": [
    "Expression of type <a class=\"ProveItLink\" href=\"../../../../../doc/html/api/proveit.logic.InSet.html\">InSet</a>\n",
    "=======================\n",
    "# from context <a class=\"ProveItLink\" href=\"../../_context_.ipynb\">proveit.iteration</a>"
   ]
  },
  {
   "cell_type": "code",
   "execution_count": 1,
   "metadata": {},
   "outputs": [],
   "source": [
    "# import Expression classes needed to build the expression\n",
    "from proveit._common_ import j\n",
    "from proveit.logic import InSet\n",
    "from proveit.number import Add, Naturals, Neg, one"
   ]
  },
  {
   "cell_type": "code",
   "execution_count": 2,
   "metadata": {},
   "outputs": [
    {
     "data": {
      "text/html": [
       "<strong id=\"expr\">expr:</strong> <a class=\"ProveItLink\" href=\"expr.ipynb\"><img src=\"data:image/png;base64,iVBORw0KGgoAAAANSUhEUgAAAIgAAAAVBAMAAABvbLv8AAAAMFBMVEX////c3NwiIiJERESqqqqY\n",
       "mJh2dnZmZmYQEBDu7u4yMjJUVFTMzMyIiIi6uroAAAAs73DqAAAAAXRSTlMAQObYZgAAAZNJREFU\n",
       "OMtjYKAK4LtAtNI4nDKnQUS8AJqoJYY6oAj7AVQhzvXGKxnY9VUYGFaCuNFoOib/ZMAmsgBNkDng\n",
       "MAMDPwMDL7JvOKEOmr0b3RCISBiaKLcOUDsHAwPHBCRBFpiJvBguAYvMgNp1S0kJ7CjuVxP2gAx5\n",
       "xUCCIcwOYPapSJhLzmyYNQFoSBnI5LuWxBnCVgBiMsJDnfuAL48B0JClIDkGVeIMYQF7glkAYQj7\n",
       "g1igIX1A9k2Gr8QZwtcAjihEwB5g2Ml9goHhH5AtwPcRqyGMi5RA4AFchOcDiPkCJLgAashszhUQ\n",
       "QxjYFIAE+6pVi7pWrdqAxyUQQ04ju4QnAeiSFhCHq4AU70xCNoQhhJmBwRTEme9AnCGsEE8EIBvC\n",
       "JszAkA7i+E8gJYo59eDJHhRcVQwMj0CcIrTExl7xqxTVDIgIFziMGaRqoAXA+mYgOQuY7EGRro6e\n",
       "YnEAaLJn8F6khJIXWRMYHjL+IbJsycUlsZLnO3MBcYUS5wJcMtKcZqVElmzcArhkGIkvHu/gEAcA\n",
       "cK13zKG0aygAAAAASUVORK5CYII=\n",
       "\" style=\"display:inline;vertical-align:middle;\" /></a><br>"
      ],
      "text/plain": [
       "expr: (j + 1 - 1) in Naturals"
      ]
     },
     "execution_count": 2,
     "metadata": {},
     "output_type": "execute_result"
    }
   ],
   "source": [
    "# build up the expression from sub-expressions\n",
    "expr = InSet(Add(j, one, Neg(one)), Naturals)"
   ]
  },
  {
   "cell_type": "code",
   "execution_count": 3,
   "metadata": {},
   "outputs": [
    {
     "name": "stdout",
     "output_type": "stream",
     "text": [
      "Passed sanity check: built 'expr' is the same as the stored Expression.\n"
     ]
    }
   ],
   "source": [
    "# check that the built expression is the same as the stored expression\n",
    "%check_expr"
   ]
  },
  {
   "cell_type": "code",
   "execution_count": 4,
   "metadata": {},
   "outputs": [
    {
     "data": {
      "text/html": [
       "<table><tr><th>&nbsp;</th><th>core type</th><th>sub-expressions</th><th>expression</th></tr>\n",
       "<tr><td>0</td><td>Operation</td><td>operator:&nbsp;1<br>operands:&nbsp;2<br></td><td><a class=\"ProveItLink\" href=\"expr.ipynb\"><img src=\"data:image/png;base64,iVBORw0KGgoAAAANSUhEUgAAAIgAAAAVBAMAAABvbLv8AAAAMFBMVEX////c3NwiIiJERESqqqqY\n",
       "mJh2dnZmZmYQEBDu7u4yMjJUVFTMzMyIiIi6uroAAAAs73DqAAAAAXRSTlMAQObYZgAAAZNJREFU\n",
       "OMtjYKAK4LtAtNI4nDKnQUS8AJqoJYY6oAj7AVQhzvXGKxnY9VUYGFaCuNFoOib/ZMAmsgBNkDng\n",
       "MAMDPwMDL7JvOKEOmr0b3RCISBiaKLcOUDsHAwPHBCRBFpiJvBguAYvMgNp1S0kJ7CjuVxP2gAx5\n",
       "xUCCIcwOYPapSJhLzmyYNQFoSBnI5LuWxBnCVgBiMsJDnfuAL48B0JClIDkGVeIMYQF7glkAYQj7\n",
       "g1igIX1A9k2Gr8QZwtcAjihEwB5g2Ml9goHhH5AtwPcRqyGMi5RA4AFchOcDiPkCJLgAashszhUQ\n",
       "QxjYFIAE+6pVi7pWrdqAxyUQQ04ju4QnAeiSFhCHq4AU70xCNoQhhJmBwRTEme9AnCGsEE8EIBvC\n",
       "JszAkA7i+E8gJYo59eDJHhRcVQwMj0CcIrTExl7xqxTVDIgIFziMGaRqoAXA+mYgOQuY7EGRro6e\n",
       "YnEAaLJn8F6khJIXWRMYHjL+IbJsycUlsZLnO3MBcYUS5wJcMtKcZqVElmzcArhkGIkvHu/gEAcA\n",
       "cK13zKG0aygAAAAASUVORK5CYII=\n",
       "\" style=\"display:inline;vertical-align:middle;\" /></a></td></tr>\n",
       "<tr><td>1</td><td>Literal</td><td></td><td><a class=\"ProveItLink\" href=\"../../../logic/set_theory/membership/__pv_it/088cbc857536a28d4119ad9639a84270ccb0545d0/expr.ipynb\"><img src=\"data:image/png;base64,iVBORw0KGgoAAAANSUhEUgAAAAwAAAAMBAMAAACkW0HUAAAALVBMVEX///+qqqpmZmZUVFQQEBC6\n",
       "urpERETc3NyYmJjMzMwiIiIyMjKIiIju7u4AAACYsrA9AAAAAXRSTlMAQObYZgAAADxJREFUCNdj\n",
       "YOA9vWrVBgaG2b0MQMCeCyIZ2ArA1DUwyRCyahVIyWQI7xaEYm4AU7xLIdxqTQgtvGvVBgCkcQ7e\n",
       "geM/tQAAAABJRU5ErkJggg==\n",
       "\" style=\"display:inline;vertical-align:middle;\" /></a></td></tr>\n",
       "<tr><td>2</td><td>ExprTuple</td><td>3, 4</td><td><a class=\"ProveItLink\" href=\"../c68296ea5aafbec23b0e796812e067674fe0b3120/expr.ipynb\"><img src=\"data:image/png;base64,iVBORw0KGgoAAAANSUhEUgAAAHUAAAAVBAMAAACK3rzVAAAAMFBMVEX////c3NwiIiJERESqqqqY\n",
       "mJh2dnZmZmYQEBDu7u4yMjJUVFTMzMyIiIi6uroAAAAs73DqAAAAAXRSTlMAQObYZgAAAWlJREFU\n",
       "OMtjYKAE8F0gS1sciDgNIuIF0KQsMRRDRWZ9tprAUPTJgf0AkLMSJBKNpnDyTwZcIqY8BgwMHxgY\n",
       "FjAw8CI7mRNq/ezd6HoRIpsO3GVgaGBgCGNg4JiApIIFZhAvhr1wkX0ruQ+A9M5gYHjFQKLePac5\n",
       "V4L0MjswlIGceteSBL0sFw6D9LIVMCwFctkYVEnQy1DHegGol2UBQx+Qe5PhKyl6uSfsAerla2D4\n",
       "B+QK8H3EqpdxkRIIPEDTy7lhFlAvzwewXgY2BSDBvmrVoq5VqzYQtJfhGA9EbwuIz1VAipsZWB0M\n",
       "wG42BfHnOxCllxOqlyERqJd1AUM6iO8/gSi980FeswN5bwE4jh6BJIrQ0gZ7xa9SVK1gkRnAIH31\n",
       "A2gnJ1Av1wMGDlASVkdPVzjAQyQ2ME2yJjA8ZPxDZF4OQGLngvIgz3fmAiIzPJJekLMZpDnNSonU\n",
       "yovE5gb5lZG8MucOAwMAxUB5laD3o4wAAAAASUVORK5CYII=\n",
       "\" style=\"display:inline;vertical-align:middle;\" /></a></td></tr>\n",
       "<tr><td>3</td><td>Operation</td><td>operator:&nbsp;5<br>operands:&nbsp;6<br></td><td><a class=\"ProveItLink\" href=\"../e75c8df4cc0e09f398dfebaca9d5d9ee2ff8cd140/expr.ipynb\"><img src=\"data:image/png;base64,iVBORw0KGgoAAAANSUhEUgAAAFEAAAASBAMAAADRbS/HAAAAMFBMVEX///8QEBDMzMyqqqpmZmYy\n",
       "MjK6uroiIiJ2dnZERESIiIju7u5UVFTc3NyYmJgAAACtHSfyAAAAAXRSTlMAQObYZgAAAJFJREFU\n",
       "KM9jYGBg4PvLgAo4NzBgF+E7gCrMPR9dJbrIXqjwmfNoKjFErGCM9Ri2rydR5a6VG4hU2cD+gDiV\n",
       "XBv4iVTJy5B/AavKq+UgUIastx1EuIaGFoaGxuD3ewixfuf+TKxK5t/EqmQpQFPpIh/yAFUhVITd\n",
       "Ad1M7IDtwn0FKDMLv0p9hykMxIGdLQ+IUwgA7M9B5c+gSIsAAAAASUVORK5CYII=\n",
       "\" style=\"display:inline;vertical-align:middle;\" /></a></td></tr>\n",
       "<tr><td>4</td><td>Literal</td><td></td><td><a class=\"ProveItLink\" href=\"../../../number/sets/integer/__pv_it/e5d9bd86b06b357eee742ad868997123619e09700/expr.ipynb\"><img src=\"data:image/png;base64,iVBORw0KGgoAAAANSUhEUgAAAA8AAAAOBAMAAAACpFvcAAAAMFBMVEX////c3Nx2dna6uroQEBCI\n",
       "iIhUVFTMzMyYmJiqqqoiIiJmZmZEREQyMjLu7u4AAADjlg78AAAAAXRSTlMAQObYZgAAAGBJREFU\n",
       "CNdjePvn7AOGXb8mMDCcYD/AwPCBgYEhqyCUgcEByEi+x1YAZqSX8d2DMDgDaiAMhs0cARAG24N0\n",
       "CIMv4S2EwVDEDmVwTDgAYTAoghiHgZj7AgOD7Rcgj+8CAwA9oh2B0HK+MAAAAABJRU5ErkJggg==\n",
       "\" style=\"display:inline;vertical-align:middle;\" /></a></td></tr>\n",
       "<tr><td>5</td><td>Literal</td><td></td><td><a class=\"ProveItLink\" href=\"../../../number/addition/__pv_it/3e6688136fa3c7aefbebe51301b7c3ebf0b69c440/expr.ipynb\"><img src=\"data:image/png;base64,iVBORw0KGgoAAAANSUhEUgAAAA4AAAAOBAMAAADtZjDiAAAAJFBMVEX///+6urpUVFQQEBAiIiIy\n",
       "MjJmZmaIiIiqqqrc3Nzu7u4AAACgHpL+AAAAAXRSTlMAQObYZgAAAB5JREFUCNdjYGBgWMkAAe2k\n",
       "0Kmhoc6hoUGk6BMHYgAHOwjcado9fwAAAABJRU5ErkJggg==\n",
       "\" style=\"display:inline;vertical-align:middle;\" /></a></td></tr>\n",
       "<tr><td>6</td><td>ExprTuple</td><td>7, 10, 8</td><td><a class=\"ProveItLink\" href=\"../533658b1be19a620eabb9bd8a314d44d198f76660/expr.ipynb\"><img src=\"data:image/png;base64,iVBORw0KGgoAAAANSUhEUgAAAEsAAAAVBAMAAAD85A5eAAAAMFBMVEX////c3NwiIiJERESqqqqY\n",
       "mJh2dnZmZmYQEBDu7u4yMjJUVFTMzMyIiIi6uroAAAAs73DqAAAAAXRSTlMAQObYZgAAAQ9JREFU\n",
       "KM9jYCAS8F0gpCIORJwGEfECEBHmCehqLBkY2A8A6ZUgTjREjNMeXdnkn0BiAQMDL5KdnLv3oymb\n",
       "vRukLIyBgQNF4j66abwgZTMYGF4xEFbG7MBQBrLsriVeZWwFDEtBFIMqXmUsCxj6gNRNhq94lfE1\n",
       "MPwDUgJ8H9GUSSmBgB5UGc8HsDIGNgW8pgGVtYA4XAWELDUFceY7MEyAK5uAoYx1AUM6iOM/gfMT\n",
       "TBmUhRYgj0CcIgbOflDkl/cvD4CwoIC94lcp0E0PGDhAgupA++GSfALoqQQYWawJDA8Z/wBpuCAr\n",
       "RoLLBSUknu/MBXiVcQITEoM0pxnQegZEesJIzdwgVzASTOR3GBgA4rlPgK1cRekAAAAASUVORK5C\n",
       "YII=\n",
       "\" style=\"display:inline;vertical-align:middle;\" /></a></td></tr>\n",
       "<tr><td>7</td><td>Variable</td><td></td><td><a class=\"ProveItLink\" href=\"../../../__pv_it/612356038763a16ceac85a062629d016c986635c0/expr.ipynb\"><img src=\"data:image/png;base64,iVBORw0KGgoAAAANSUhEUgAAAAoAAAASBAMAAACQmVJ4AAAALVBMVEX////MzMyqqqpmZmYyMjK6\n",
       "uroiIiJ2dnZERESIiIju7u5UVFTc3NyYmJgAAAAeP2GyAAAAAXRSTlMAQObYZgAAAE1JREFUCNdj\n",
       "YGBg4H3DACI3MGADK2csAJIFbBcYGDgX8AFJHoa4AyCJMrC0M4jgegQimV6BSOYEEMlmwMDAeuCc\n",
       "AAODnEEzkL+iGKgTAMbaDxjCuhcwAAAAAElFTkSuQmCC\n",
       "\" style=\"display:inline;vertical-align:middle;\" /></a></td></tr>\n",
       "<tr><td>8</td><td>Operation</td><td>operator:&nbsp;9<br>operand:&nbsp;10<br></td><td><a class=\"ProveItLink\" href=\"../27bb768acc4707a63c4de5a0b22e13dfe76b5c980/expr.ipynb\"><img src=\"data:image/png;base64,iVBORw0KGgoAAAANSUhEUgAAABgAAAAPBAMAAAAMihLoAAAAJ1BMVEX///+YmJgQEBBmZmaIiIhU\n",
       "VFTu7u5ERES6uroiIiIyMjLc3NwAAAAKCT4sAAAAAXRSTlMAQObYZgAAACpJREFUCNdjYICDMgST\n",
       "If0Ygp0aisRhYCGTs2smCMwg3wAYYDY6ZciADABBShCHMIgXsAAAAABJRU5ErkJggg==\n",
       "\" style=\"display:inline;vertical-align:middle;\" /></a></td></tr>\n",
       "<tr><td>9</td><td>Literal</td><td></td><td><a class=\"ProveItLink\" href=\"../../../number/negation/__pv_it/3fc7a08bb9735faa20ef8e175f6ea95511acc9c70/expr.ipynb\"><img src=\"data:image/png;base64,iVBORw0KGgoAAAANSUhEUgAAAA4AAAACBAMAAACapPCZAAAAElBMVEX///+6uroiIiIyMjLc3NwA\n",
       "AAA6l9OrAAAAAXRSTlMAQObYZgAAABBJREFUCNdjcFYCAUUGKAAADR4BD8/TF5gAAAAASUVORK5C\n",
       "YII=\n",
       "\" style=\"display:inline;vertical-align:middle;\" /></a></td></tr>\n",
       "<tr><td>10</td><td>Literal</td><td></td><td><a class=\"ProveItLink\" href=\"../../../number/numeral/__pv_it/9be8badea4c35b9724062cecc501d17a3158d1d20/expr.ipynb\"><img src=\"data:image/png;base64,iVBORw0KGgoAAAANSUhEUgAAAAgAAAAPBAMAAAArJJMAAAAAHlBMVEX///+YmJgyMjIQEBBmZmaI\n",
       "iIhUVFTu7u5EREQAAAAw+MI4AAAAAXRSTlMAQObYZgAAACFJREFUCNdjYGBoZ2BgqJjOwFCWBiQY\n",
       "WEklWJwnOTKAAACjEQo8HvEr3AAAAABJRU5ErkJggg==\n",
       "\" style=\"display:inline;vertical-align:middle;\" /></a></td></tr>\n",
       "</table>\n"
      ],
      "text/plain": [
       "0. (j + 1 - 1) in Naturals\n",
       "   core type: Operation\n",
       "   operator: 1\n",
       "   operands: 2\n",
       "1. in\n",
       "   core type: Literal\n",
       "   sub-expressions: \n",
       "2. (j + 1 - 1 , Naturals)\n",
       "   core type: ExprTuple\n",
       "   sub-expressions: 3, 4\n",
       "3. j + 1 - 1\n",
       "   core type: Operation\n",
       "   operator: 5\n",
       "   operands: 6\n",
       "4. Naturals\n",
       "   core type: Literal\n",
       "   sub-expressions: \n",
       "5. +\n",
       "   core type: Literal\n",
       "   sub-expressions: \n",
       "6. (j , 1 , -1)\n",
       "   core type: ExprTuple\n",
       "   sub-expressions: 7, 10, 8\n",
       "7. j\n",
       "   core type: Variable\n",
       "   sub-expressions: \n",
       "8. -1\n",
       "   core type: Operation\n",
       "   operator: 9\n",
       "   operand: 10\n",
       "9. -\n",
       "   core type: Literal\n",
       "   sub-expressions: \n",
       "10. 1\n",
       "    core type: Literal\n",
       "    sub-expressions: "
      ]
     },
     "execution_count": 4,
     "metadata": {},
     "output_type": "execute_result"
    }
   ],
   "source": [
    "# display the expression information\n",
    "expr.exprInfo()"
   ]
  },
  {
   "cell_type": "code",
   "execution_count": null,
   "metadata": {},
   "outputs": [],
   "source": []
  }
 ],
 "metadata": {
  "kernelspec": {
   "display_name": "Python 3",
   "language": "python",
   "name": "python3"
  }
 },
 "nbformat": 4,
 "nbformat_minor": 0
}
