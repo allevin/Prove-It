{
 "cells": [
  {
   "cell_type": "markdown",
   "metadata": {},
   "source": [
    "Expression of type <a class=\"ProveItLink\" href=\"../../../../../doc/html/api/proveit.ExprTuple.html\">ExprTuple</a>\n",
    "=======================\n",
    "# from context <a class=\"ProveItLink\" href=\"../../_context_.ipynb\">proveit.iteration</a>"
   ]
  },
  {
   "cell_type": "code",
   "execution_count": 1,
   "metadata": {},
   "outputs": [],
   "source": [
    "# import Expression classes needed to build the expression\n",
    "from proveit import ExprTuple\n",
    "from proveit._common_ import a, b\n",
    "from proveit.logic import InSet\n",
    "from proveit.number import Integers, LessEq"
   ]
  },
  {
   "cell_type": "code",
   "execution_count": 2,
   "metadata": {},
   "outputs": [
    {
     "data": {
      "text/html": [
       "<strong id=\"expr\">expr:</strong> <a class=\"ProveItLink\" href=\"expr.ipynb\"><img src=\"data:image/png;base64,iVBORw0KGgoAAAANSUhEUgAAAHUAAAAVBAMAAACK3rzVAAAAMFBMVEX////c3NwiIiJERESqqqqY\n",
       "mJh2dnZmZmYQEBDu7u4yMjJUVFTMzMyIiIi6uroAAAAs73DqAAAAAXRSTlMAQObYZgAAAfZJREFU\n",
       "OMullE1IG0EYht9187dJTHI2h4a9CB4kJZSieFg81kNDD4UelKCC9WBICxYKBSv+HGXRQ71lKRRS\n",
       "ekkPBQ0NLOTWXCS3BpXUi5JLUoqgF+vM7MzOmtIg+h1mv91n3plv5p1Z4D4RO7iTbIY2dWh7qR4w\n",
       "+XekNLLB0n+hE0GbNJ+BcLkHNN8ijLSTe2GjJXMLGCQlx40e7RtgPsD7SajNepf3HAiZQMfksKnr\n",
       "Fk32oZTrvI+A0F5nvePvAm3ymOWvP164RDXHeCagUrlZnWrQ8vDl6BujY5JM+8UkHEYr7lqVan4V\n",
       "CBTwiRTzB3G6a2rClWrpHZE5UMvYLjxLqF3AZ2GLtJcI5ci3HTltxP7KMwEbP91pzxEkHsTe44pY\n",
       "ZSFeoOPpOt8rnMZywkcO8WxRjNvFANnwaJdqBwroZNkpkeaFyYLYEgQEnrzipqVRtJl2nTm4Qo3Y\n",
       "dqUBI09Uwt4V7lL7O3s8OMBTmLTmR6B7scmKcf1LRslhegkNEtKoTdC2aKDis+G3sEA0RpCdO21U\n",
       "dHqomvgwh2JKQhZ16lM46xsOMI9OiKa67KChd/xqrZUy4xePsfvbAyHtPa4dkyFaCCU8n6c+8n3m\n",
       "8avPJSRn0p/rw7N92JJzB2+hVXQW8g5qtMDk/6WDfYaN0LUqd/vnHALXAyB9YY41wUwAAAAASUVO\n",
       "RK5CYII=\n",
       "\" style=\"display:inline;vertical-align:middle;\" /></a><br>"
      ],
      "text/plain": [
       "expr: (b in Integers , b <= a)"
      ]
     },
     "execution_count": 2,
     "metadata": {},
     "output_type": "execute_result"
    }
   ],
   "source": [
    "# build up the expression from sub-expressions\n",
    "expr = ExprTuple(InSet(b, Integers), LessEq(b, a))"
   ]
  },
  {
   "cell_type": "code",
   "execution_count": 3,
   "metadata": {},
   "outputs": [
    {
     "name": "stdout",
     "output_type": "stream",
     "text": [
      "Passed sanity check: built 'expr' is the same as the stored Expression.\n"
     ]
    }
   ],
   "source": [
    "# check that the built expression is the same as the stored expression\n",
    "%check_expr"
   ]
  },
  {
   "cell_type": "code",
   "execution_count": 4,
   "metadata": {},
   "outputs": [
    {
     "data": {
      "text/html": [
       "<table><tr><th>&nbsp;</th><th>core type</th><th>sub-expressions</th><th>expression</th></tr>\n",
       "<tr><td>0</td><td>ExprTuple</td><td>1, 2</td><td><a class=\"ProveItLink\" href=\"expr.ipynb\"><img src=\"data:image/png;base64,iVBORw0KGgoAAAANSUhEUgAAAHUAAAAVBAMAAACK3rzVAAAAMFBMVEX////c3NwiIiJERESqqqqY\n",
       "mJh2dnZmZmYQEBDu7u4yMjJUVFTMzMyIiIi6uroAAAAs73DqAAAAAXRSTlMAQObYZgAAAfZJREFU\n",
       "OMullE1IG0EYht9187dJTHI2h4a9CB4kJZSieFg81kNDD4UelKCC9WBICxYKBSv+HGXRQ71lKRRS\n",
       "ekkPBQ0NLOTWXCS3BpXUi5JLUoqgF+vM7MzOmtIg+h1mv91n3plv5p1Z4D4RO7iTbIY2dWh7qR4w\n",
       "+XekNLLB0n+hE0GbNJ+BcLkHNN8ijLSTe2GjJXMLGCQlx40e7RtgPsD7SajNepf3HAiZQMfksKnr\n",
       "Fk32oZTrvI+A0F5nvePvAm3ymOWvP164RDXHeCagUrlZnWrQ8vDl6BujY5JM+8UkHEYr7lqVan4V\n",
       "CBTwiRTzB3G6a2rClWrpHZE5UMvYLjxLqF3AZ2GLtJcI5ci3HTltxP7KMwEbP91pzxEkHsTe44pY\n",
       "ZSFeoOPpOt8rnMZywkcO8WxRjNvFANnwaJdqBwroZNkpkeaFyYLYEgQEnrzipqVRtJl2nTm4Qo3Y\n",
       "dqUBI09Uwt4V7lL7O3s8OMBTmLTmR6B7scmKcf1LRslhegkNEtKoTdC2aKDis+G3sEA0RpCdO21U\n",
       "dHqomvgwh2JKQhZ16lM46xsOMI9OiKa67KChd/xqrZUy4xePsfvbAyHtPa4dkyFaCCU8n6c+8n3m\n",
       "8avPJSRn0p/rw7N92JJzB2+hVXQW8g5qtMDk/6WDfYaN0LUqd/vnHALXAyB9YY41wUwAAAAASUVO\n",
       "RK5CYII=\n",
       "\" style=\"display:inline;vertical-align:middle;\" /></a></td></tr>\n",
       "<tr><td>1</td><td>Operation</td><td>operator:&nbsp;3<br>operands:&nbsp;4<br></td><td><a class=\"ProveItLink\" href=\"../51c67a7d63d0ef51371e0f6bbf4607dc0d1bbaf10/expr.ipynb\"><img src=\"data:image/png;base64,iVBORw0KGgoAAAANSUhEUgAAADAAAAAPBAMAAABQAFHMAAAAMFBMVEX////c3NxmZmbMzMxERESY\n",
       "mJiIiIh2dna6urqqqqoyMjIiIiIQEBBUVFTu7u4AAAAiO1wTAAAAAXRSTlMAQObYZgAAAOJJREFU\n",
       "GNNj4LuzgQEFcO7/ver0mgAGBq4LqBJsix4wLGABMvgnoEowFTCwT6gAMvofQASerd69C0TzPmCQ\n",
       "ZQaZUg0RZ176AK7JjwXEXpt2FcQRQYizJoQCSb4vDPwGQNoRYcsTPgeQ6/4x8BQA5R0QEpd5BUCO\n",
       "WMDAr8DAwHF6926I5QwcCu0giluBoR/oG2aEb7gYFjAwFIK8oQ+0lw/h/0r2BgaGDSCbj4O4V2Hi\n",
       "jBdsGRjYDzDwTmACm/K6ASrBIuDHwKfuwMB3TRWicJEBRKLH64jL+iMKSKF6C+oqCAAAiJc438f0\n",
       "fH8AAAAASUVORK5CYII=\n",
       "\" style=\"display:inline;vertical-align:middle;\" /></a></td></tr>\n",
       "<tr><td>2</td><td>Operation</td><td>operator:&nbsp;5<br>operands:&nbsp;6<br></td><td><a class=\"ProveItLink\" href=\"../493065c2d6beed487830f7e7fcc83f03d69822bf0/expr.ipynb\"><img src=\"data:image/png;base64,iVBORw0KGgoAAAANSUhEUgAAADAAAAARBAMAAABp3DInAAAAMFBMVEX////c3NxmZmbMzMxERESY\n",
       "mJiIiIh2dna6urqqqqoyMjIiIiIQEBBUVFTu7u4AAAAiO1wTAAAAAXRSTlMAQObYZgAAAMNJREFU\n",
       "GNNj4LuzgQE74LqAYLPtQJLgnwBnPt+GrKP/AYz1aCuKUdUwhuxKVDvWpl0F07Yr4EKy6T0CDHxf\n",
       "GPgNgJwnznBxjoMM/gwMnP8YeApADtoGt0s+gEGFgYFpAQO/AojLuh0mc5+BAeg8bgWG/gAwn3OR\n",
       "AETiCwPfZ7A39KFKOdaCLGNg/MbA+YEPZPNxmOHMLiAZvp8MvAsmM/BOYEKECfMNELmUYbZCAQPf\n",
       "NVX00JNNa3ZrYCAfSO8GAUSwAwA1KzBPNumxcAAAAABJRU5ErkJggg==\n",
       "\" style=\"display:inline;vertical-align:middle;\" /></a></td></tr>\n",
       "<tr><td>3</td><td>Literal</td><td></td><td><a class=\"ProveItLink\" href=\"../../../logic/set_theory/membership/__pv_it/088cbc857536a28d4119ad9639a84270ccb0545d0/expr.ipynb\"><img src=\"data:image/png;base64,iVBORw0KGgoAAAANSUhEUgAAAAwAAAAMBAMAAACkW0HUAAAALVBMVEX///+qqqpmZmZUVFQQEBC6\n",
       "urpERETc3NyYmJjMzMwiIiIyMjKIiIju7u4AAACYsrA9AAAAAXRSTlMAQObYZgAAADxJREFUCNdj\n",
       "YOA9vWrVBgaG2b0MQMCeCyIZ2ArA1DUwyRCyahVIyWQI7xaEYm4AU7xLIdxqTQgtvGvVBgCkcQ7e\n",
       "geM/tQAAAABJRU5ErkJggg==\n",
       "\" style=\"display:inline;vertical-align:middle;\" /></a></td></tr>\n",
       "<tr><td>4</td><td>ExprTuple</td><td>8, 7</td><td><a class=\"ProveItLink\" href=\"../3284c4c0abf842a90cd48246d8a0360c78123df80/expr.ipynb\"><img src=\"data:image/png;base64,iVBORw0KGgoAAAANSUhEUgAAACwAAAAVBAMAAADP3xFXAAAAMFBMVEX////c3NwiIiJERESqqqqY\n",
       "mJh2dnZmZmYQEBDu7u4yMjJUVFTMzMyIiIi6uroAAAAs73DqAAAAAXRSTlMAQObYZgAAASZJREFU\n",
       "GNNjYMAB+C6gi7A+ABKnGTh3KED4LPqfVjWtCGCoAbJXMjBwbYAI8y6fwLCAGcgHMoFm8DtAhNkT\n",
       "GNgc8oCmJDBwTGBgeD8BIsw9gUGaB6iTs4HhFZCbhLDOkhmkxIShDEiuvrsV5ogLoSAqnWEpUM9n\n",
       "Bv4DEOHJnAYgyouhD+iunwwcCRDhPdwCIOoFwz+gAxYw8BdAvFbwDEyfBwkzFTC8DwBzuRgWMDAk\n",
       "goRbwM6uhzgxhQ3obwWQIaYMIPvaGDiBoowbTjMwsDUwMEQB3cLA7cC+gWE+UBGzgCUDZ5kByIGP\n",
       "gA7cW8rAMOMjUK9Vs/H6ZqDt6xg4BKA+eYjwKtDzrFAXMwQghNkugAMWXXgWEEtDwxopejaCXIUR\n",
       "abwHGABefEKB34/mbQAAAABJRU5ErkJggg==\n",
       "\" style=\"display:inline;vertical-align:middle;\" /></a></td></tr>\n",
       "<tr><td>5</td><td>Literal</td><td></td><td><a class=\"ProveItLink\" href=\"../../../number/ordering/__pv_it/aa616d6a8fe3483e4e64187262e9c7dfe6a536a30/expr.ipynb\"><img src=\"data:image/png;base64,iVBORw0KGgoAAAANSUhEUgAAAA4AAAARBAMAAAAf5oCsAAAALVBMVEX///9ERETMzMyqqqoyMjJU\n",
       "VFTc3NyYmJhmZmZ2dnbu7u66uroiIiKIiIgAAAAFyQXGAAAAAXRSTlMAQObYZgAAAEBJREFUCNdj\n",
       "YEAGvKfB1MqzYGrFcTCV6gymVL3B1EIhqNKzCyAM9pNQBrNHAoTB7aoAYTAJwhjRDLhAzhkQOA0A\n",
       "iskPUSt9tJUAAAAASUVORK5CYII=\n",
       "\" style=\"display:inline;vertical-align:middle;\" /></a></td></tr>\n",
       "<tr><td>6</td><td>ExprTuple</td><td>8, 9</td><td><a class=\"ProveItLink\" href=\"../ebac1b7ca1b1db15bba3f427fe9e3bc6f12657a30/expr.ipynb\"><img src=\"data:image/png;base64,iVBORw0KGgoAAAANSUhEUgAAACkAAAAVBAMAAAAp9toTAAAAMFBMVEX////c3NwiIiJERESqqqqY\n",
       "mJh2dnZmZmYQEBDu7u4yMjJUVFTMzMyIiIi6uroAAAAs73DqAAAAAXRSTlMAQObYZgAAAQxJREFU\n",
       "GNNjYMAO+C6gCcSBiNMMnDsUkEXZDwCJlQwMXBtQFC9gYOAFGsDvgCIaxsDAMYGB4f0EFNEZDAyv\n",
       "gFQSqnXMDgxlQGr13a0QPuPevEYGBrYChqUMDJyfGfgPgEVfCDB/YGBgWcDQByR/MnAkgJV+ZWA3\n",
       "APqggeEf0IELGPgLQKLcHxiYgE7i+QASZSpgeB8AEuU3YJh/ACzaAnZuPdht8hcY/BkmgEwwZQBZ\n",
       "1cbACRSd78Cwi+UAA+sChnSgcQ7sGxjmA8OCK4BFnQ3sskdAl+0tBXroI8i59w7fA0o+YOAQgPro\n",
       "IbKPWROg7AC4aC4kJFFFOYEhySANYfPClXKDzGREj6E7DAwACHU9OgMxFxcAAAAASUVORK5CYII=\n",
       "\" style=\"display:inline;vertical-align:middle;\" /></a></td></tr>\n",
       "<tr><td>7</td><td>Literal</td><td></td><td><a class=\"ProveItLink\" href=\"../../../number/sets/integer/__pv_it/7b9e51516f347f625fa636d7bb440e96498977000/expr.ipynb\"><img src=\"data:image/png;base64,iVBORw0KGgoAAAANSUhEUgAAAA4AAAAOBAMAAADtZjDiAAAAMFBMVEX////MzMzc3NxUVFS6urp2\n",
       "dnZERETu7u5mZmaIiIiYmJgQEBAyMjIiIiKqqqoAAAAf68ZqAAAAAXRSTlMAQObYZgAAAGlJREFU\n",
       "CNdj4Lv/98ze0wsYOE8UMBxgY2DgCGBgfRDCwMBcwKDMaMAAAulsBSCKa8IqMLeMPQFMGzIrgCiW\n",
       "Blcwl4fhAANDEANDHKsDA8MFBiYDYQYG1g0MbArpDOytCQzeOdvSzm9rAAAm6xY1AUf+1AAAAABJ\n",
       "RU5ErkJggg==\n",
       "\" style=\"display:inline;vertical-align:middle;\" /></a></td></tr>\n",
       "<tr><td>8</td><td>Variable</td><td></td><td><a class=\"ProveItLink\" href=\"../../../__pv_it/6840a4fa6c106149dc16a131294d0c5e44f1b0480/expr.ipynb\"><img src=\"data:image/png;base64,iVBORw0KGgoAAAANSUhEUgAAAAkAAAAOBAMAAAAPuiubAAAALVBMVEX///9mZmbMzMxERESYmJiI\n",
       "iIh2dna6urqqqqoyMjIiIiIQEBBUVFTu7u4AAAD9S1JeAAAAAXRSTlMAQObYZgAAAE1JREFUCNdj\n",
       "4D29gAEIOA+ASL4GEFl3AURmgQiGOaFHGBh4HzPwKTBwvGXgTmBgnMDAJ8DAJcBQ5wBSLncBJLWN\n",
       "gYGngRFoBO9REQYGAGrcDtUkVqASAAAAAElFTkSuQmCC\n",
       "\" style=\"display:inline;vertical-align:middle;\" /></a></td></tr>\n",
       "<tr><td>9</td><td>Variable</td><td></td><td><a class=\"ProveItLink\" href=\"../../../__pv_it/07527342713064c87612d00d8557c53d53d5324a0/expr.ipynb\"><img src=\"data:image/png;base64,iVBORw0KGgoAAAANSUhEUgAAAAsAAAAJBAMAAAAWSsseAAAAMFBMVEX///8yMjKqqqrMzMzu7u4i\n",
       "IiJmZmaYmJhEREQQEBC6urp2dnaIiIhUVFTc3NwAAAD87Fq/AAAAAXRSTlMAQObYZgAAAEhJREFU\n",
       "CNdjYOC7s2seAwPDygccHxgY+L4zsDUwMPB+YGA9wMDA38Dgb8DA8P4Agz6DA4O/AsNFJgMGxgKm\n",
       "MG6gyjunLE4xAAAZTBA5TB6DCwAAAABJRU5ErkJggg==\n",
       "\" style=\"display:inline;vertical-align:middle;\" /></a></td></tr>\n",
       "</table>\n"
      ],
      "text/plain": [
       "0. (b in Integers , b <= a)\n",
       "   core type: ExprTuple\n",
       "   sub-expressions: 1, 2\n",
       "1. b in Integers\n",
       "   core type: Operation\n",
       "   operator: 3\n",
       "   operands: 4\n",
       "2. b <= a\n",
       "   core type: Operation\n",
       "   operator: 5\n",
       "   operands: 6\n",
       "3. in\n",
       "   core type: Literal\n",
       "   sub-expressions: \n",
       "4. (b , Integers)\n",
       "   core type: ExprTuple\n",
       "   sub-expressions: 8, 7\n",
       "5. <=\n",
       "   core type: Literal\n",
       "   sub-expressions: \n",
       "6. (b , a)\n",
       "   core type: ExprTuple\n",
       "   sub-expressions: 8, 9\n",
       "7. Integers\n",
       "   core type: Literal\n",
       "   sub-expressions: \n",
       "8. b\n",
       "   core type: Variable\n",
       "   sub-expressions: \n",
       "9. a\n",
       "   core type: Variable\n",
       "   sub-expressions: "
      ]
     },
     "execution_count": 4,
     "metadata": {},
     "output_type": "execute_result"
    }
   ],
   "source": [
    "# display the expression information\n",
    "expr.exprInfo()"
   ]
  },
  {
   "cell_type": "code",
   "execution_count": null,
   "metadata": {},
   "outputs": [],
   "source": []
  }
 ],
 "metadata": {
  "kernelspec": {
   "display_name": "Python 3",
   "language": "python",
   "name": "python3"
  }
 },
 "nbformat": 4,
 "nbformat_minor": 0
}
