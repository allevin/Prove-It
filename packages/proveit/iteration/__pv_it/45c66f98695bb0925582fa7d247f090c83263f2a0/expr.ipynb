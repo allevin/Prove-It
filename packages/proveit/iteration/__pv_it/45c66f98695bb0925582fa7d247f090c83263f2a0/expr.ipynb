{
 "cells": [
  {
   "cell_type": "markdown",
   "metadata": {},
   "source": [
    "Expression of type <a class=\"ProveItLink\" href=\"../../../../../doc/html/api/proveit.number.GreaterEq.html\">GreaterEq</a>\n",
    "=======================\n",
    "# from context <a class=\"ProveItLink\" href=\"../../_context_.ipynb\">proveit.iteration</a>"
   ]
  },
  {
   "cell_type": "code",
   "execution_count": 1,
   "metadata": {},
   "outputs": [],
   "source": [
    "# import Expression classes needed to build the expression\n",
    "from proveit._common_ import k, m\n",
    "from proveit.number import Add, GreaterEq, Neg, one, three"
   ]
  },
  {
   "cell_type": "code",
   "execution_count": 2,
   "metadata": {},
   "outputs": [
    {
     "data": {
      "text/html": [
       "<strong id=\"expr\">expr:</strong> <a class=\"ProveItLink\" href=\"expr.ipynb\"><img src=\"data:image/png;base64,iVBORw0KGgoAAAANSUhEUgAAAJ0AAAAVBAMAAACu6/FQAAAAMFBMVEX////c3NwiIiJERESqqqqY\n",
       "mJh2dnZmZmYQEBDu7u4yMjJUVFTMzMyIiIi6uroAAAAs73DqAAAAAXRSTlMAQObYZgAAAjZJREFU\n",
       "OMutVD1oFEEU/jbZ3cve3W5iIYJpJJAEi4QDL4UIkk6wuVQWFrKVIUIkBGKCCAkhWFjIQUDEQ3YR\n",
       "JXiixCZFRNjKRsSDFFoYWKw0RS4HZ3FBjryZm73N3P6A4MDNznxvvu/ee/PmAf97WLUUo+b/C+EW\n",
       "mz4nWT/dLgIPojgRKutR+DKQ8ej7OkFOWUC9hixfG2Pl0MAIW5Hjmy2aXMBM8l5vYvACNJtv1K2h\n",
       "AOeEZrAzBF75wPRuAAPlBD2V6xlrImlXPIEzgtXqngrcMRn0FDhIuQ2KF0Wxzl8SV8MIuhuv1z+N\n",
       "e/Rve2f2d6z9YkTvDf1mu/nc7QgSAVlbW/Vj9PQFvKI59xbOXZR61PJ3tmm+Hl7QIg+ZCHB+z9Wn\n",
       "Y/RUF4+Bw74CnFpED/hOPvwKa3Gcp5oIKH2Jj9daQxsoOz5KZdxn8PkRNiZF6unM14D5XNQMEbA6\n",
       "Ga+XP+JmElsEHvbUn4f+P6HekwmxYISJykW2zFSrLx5Vq9un9TboQ56Nw2oYkp7T4noi3nOjAU4E\n",
       "4y+aSkK8U2CeGW3k3LOS3qCLvgZwk2+GX3ZxImhHRluP09NcVg9Km04gW7MlPXMGdVvUi3I1xAnI\n",
       "FdAwEV8vP7mXegHqR09O4LVl5tS73ksnQnYG3+ZkvczK8RIZfAwMpXaz4L2FQyao0vOn96bZqXp6\n",
       "pF3IBLkZzqf0q8541qkdXpUjfrdfJQTDnvVwqt77KJRMyLFUKGn93vRiGm0i4QdwAg7um26rpnuD\n",
       "AAAAAElFTkSuQmCC\n",
       "\" style=\"display:inline;vertical-align:middle;\" /></a><br>"
      ],
      "text/plain": [
       "expr: (m - 3) >= (k + 1)"
      ]
     },
     "execution_count": 2,
     "metadata": {},
     "output_type": "execute_result"
    }
   ],
   "source": [
    "# build up the expression from sub-expressions\n",
    "expr = GreaterEq(Add(m, Neg(three)), Add(k, one))"
   ]
  },
  {
   "cell_type": "code",
   "execution_count": 3,
   "metadata": {},
   "outputs": [
    {
     "name": "stdout",
     "output_type": "stream",
     "text": [
      "Passed sanity check: built 'expr' is the same as the stored Expression.\n"
     ]
    }
   ],
   "source": [
    "# check that the built expression is the same as the stored expression\n",
    "%check_expr"
   ]
  },
  {
   "cell_type": "code",
   "execution_count": 4,
   "metadata": {},
   "outputs": [
    {
     "data": {
      "text/html": [
       "<table><tr><th>&nbsp;</th><th>core type</th><th>sub-expressions</th><th>expression</th></tr>\n",
       "<tr><td>0</td><td>Operation</td><td>operator:&nbsp;1<br>operands:&nbsp;2<br></td><td><a class=\"ProveItLink\" href=\"expr.ipynb\"><img src=\"data:image/png;base64,iVBORw0KGgoAAAANSUhEUgAAAJ0AAAAVBAMAAACu6/FQAAAAMFBMVEX////c3NwiIiJERESqqqqY\n",
       "mJh2dnZmZmYQEBDu7u4yMjJUVFTMzMyIiIi6uroAAAAs73DqAAAAAXRSTlMAQObYZgAAAjZJREFU\n",
       "OMutVD1oFEEU/jbZ3cve3W5iIYJpJJAEi4QDL4UIkk6wuVQWFrKVIUIkBGKCCAkhWFjIQUDEQ3YR\n",
       "JXiixCZFRNjKRsSDFFoYWKw0RS4HZ3FBjryZm73N3P6A4MDNznxvvu/ee/PmAf97WLUUo+b/C+EW\n",
       "mz4nWT/dLgIPojgRKutR+DKQ8ej7OkFOWUC9hixfG2Pl0MAIW5Hjmy2aXMBM8l5vYvACNJtv1K2h\n",
       "AOeEZrAzBF75wPRuAAPlBD2V6xlrImlXPIEzgtXqngrcMRn0FDhIuQ2KF0Wxzl8SV8MIuhuv1z+N\n",
       "e/Rve2f2d6z9YkTvDf1mu/nc7QgSAVlbW/Vj9PQFvKI59xbOXZR61PJ3tmm+Hl7QIg+ZCHB+z9Wn\n",
       "Y/RUF4+Bw74CnFpED/hOPvwKa3Gcp5oIKH2Jj9daQxsoOz5KZdxn8PkRNiZF6unM14D5XNQMEbA6\n",
       "Ga+XP+JmElsEHvbUn4f+P6HekwmxYISJykW2zFSrLx5Vq9un9TboQ56Nw2oYkp7T4noi3nOjAU4E\n",
       "4y+aSkK8U2CeGW3k3LOS3qCLvgZwk2+GX3ZxImhHRluP09NcVg9Km04gW7MlPXMGdVvUi3I1xAnI\n",
       "FdAwEV8vP7mXegHqR09O4LVl5tS73ksnQnYG3+ZkvczK8RIZfAwMpXaz4L2FQyao0vOn96bZqXp6\n",
       "pF3IBLkZzqf0q8541qkdXpUjfrdfJQTDnvVwqt77KJRMyLFUKGn93vRiGm0i4QdwAg7um26rpnuD\n",
       "AAAAAElFTkSuQmCC\n",
       "\" style=\"display:inline;vertical-align:middle;\" /></a></td></tr>\n",
       "<tr><td>1</td><td>Literal</td><td></td><td><a class=\"ProveItLink\" href=\"../../../number/ordering/__pv_it/96143560a3dbc26f943e0a126972c9bfadab3fc50/expr.ipynb\"><img src=\"data:image/png;base64,iVBORw0KGgoAAAANSUhEUgAAAA4AAAARBAMAAAAf5oCsAAAALVBMVEX///+IiIiYmJjMzMxUVFRE\n",
       "RES6urrc3NxmZmYyMjKqqqp2dnYiIiLu7u4AAACqGg1VAAAAAXRSTlMAQObYZgAAAEFJREFUCNdj\n",
       "YICCO3uhjJXtUEaqM5RhGgZllEyDMioOQ2idXhDJKwPWy7tHAESx9yiAKc8FYCWlCQx4Qc0ZEDgG\n",
       "ALzAEHC/pigGAAAAAElFTkSuQmCC\n",
       "\" style=\"display:inline;vertical-align:middle;\" /></a></td></tr>\n",
       "<tr><td>2</td><td>ExprTuple</td><td>3, 4</td><td><a class=\"ProveItLink\" href=\"../94f2bd3a81fd171f1e1a6030759f67b0a9174d450/expr.ipynb\"><img src=\"data:image/png;base64,iVBORw0KGgoAAAANSUhEUgAAAHsAAAAVBAMAAACUF4xmAAAAMFBMVEX////c3NwiIiJERESqqqqY\n",
       "mJh2dnZmZmYQEBDu7u4yMjJUVFTMzMyIiIi6uroAAAAs73DqAAAAAXRSTlMAQObYZgAAAapJREFU\n",
       "OMullDtIA0EQhv+Ye23etSIGrSwMClrYpbOwMJWlHghKBCGNjy4iVhYq2AgWOUQRI0Lq2KSyESFg\n",
       "oaDFYaVCSCJRONHgrrnTbHJ3RdziZpi5b/ff2dkF/jlCxU7JGfa5cspezo+a3sFGe3YckAvUnjrQ\n",
       "nhTKlrCTtuyeQT8aEHTSLtUQjpp+zQqSiKnnguHTgLLrgAt/eMj4DVqLBVloH3hxqY0lXtLscW8c\n",
       "K9SURnrv1dJNvBU/M61PFdO6DS6lcEyNmi+Sd12o8HBgMWd6medkOW6DCxq26db0AZAvtOLAXWNJ\n",
       "TF3biw+to07LSeoQDMhsh939bMQa/yhmydIxezxQYfgPG4Wi8udegPet4Q4dDDIjZ7OHW9lsrhnf\n",
       "ZHENXbRJItwZZgwLJ5+oeRzEjzGRKjI68p5EMx6mc1bBZhQrpC7Z4aKGBWr6dMwC5xInPphAWSWv\n",
       "1PMPoxqE/cE9UvMEzAGTD3zdJ1aPQHZol/oSuE3yuLz2sUwTOpSI+3Xm0wJ3Q2jTiqorLro9Dksu\n",
       "F9YW5wZhjdLjirs9RX62MU/HjxUt9TceRX3LSYjjvQAAAABJRU5ErkJggg==\n",
       "\" style=\"display:inline;vertical-align:middle;\" /></a></td></tr>\n",
       "<tr><td>3</td><td>Operation</td><td>operator:&nbsp;6<br>operands:&nbsp;5<br></td><td><a class=\"ProveItLink\" href=\"../613ba379bcad530ee0b9e9f25bb805eb06c931830/expr.ipynb\"><img src=\"data:image/png;base64,iVBORw0KGgoAAAANSUhEUgAAADUAAAAOBAMAAAB9dUktAAAAMFBMVEX////MzMyYmJgQEBBmZmYi\n",
       "IiLu7u4yMjKqqqp2dnZUVFTc3NxERESIiIi6uroAAABe5jFNAAAAAXRSTlMAQObYZgAAALFJREFU\n",
       "GNNjYMAKGGfOaWDAAbYw8P3FJTe/geErLrl+PHIMYDP57uy+u5Lv7gl0OfYFDAycXLUM+fMY+tGk\n",
       "JKuAxDvWAwz5FzDkGHjtGBgS8h8w9CcwuIP420NBIA4iaZ/AAJJwZWCwRNW1kYHhvAIDSEcIA99v\n",
       "NmQptv8JYDlLBrZ/DFwFm1D0fWdgiN/AwP2PgekDA/uFCShylxj4fgL9Z8DAeYCBY60AihyHi3sD\n",
       "AwAIby5/aGgVCwAAAABJRU5ErkJggg==\n",
       "\" style=\"display:inline;vertical-align:middle;\" /></a></td></tr>\n",
       "<tr><td>4</td><td>Operation</td><td>operator:&nbsp;6<br>operands:&nbsp;7<br></td><td><a class=\"ProveItLink\" href=\"../a3769aecbd10cc24c32830f6bece61f5a44881a70/expr.ipynb\"><img src=\"data:image/png;base64,iVBORw0KGgoAAAANSUhEUgAAAC0AAAAQBAMAAABw0OvaAAAAMFBMVEX///9ERETc3NyIiIjMzMyY\n",
       "mJh2dna6urqqqqpmZmYyMjIiIiIQEBBUVFTu7u4AAAD6+w4kAAAAAXRSTlMAQObYZgAAAIZJREFU\n",
       "GNNj4LuzgQEdMD4AElwT0IX55EHi/A0w/iOo8N37IPH6BzDxZhjDHiSUxYBdfBlD5Hcs4nzfnz3/\n",
       "gUWc44sBVnM4fxdgFee2uw120KxVq/asWrUWLv7egb9BAYv6eIb3BQlYxC8y8CsYYBFfysA87QGq\n",
       "+MzzKwOQw6uZATsoRmIDAP82NAvK/4pyAAAAAElFTkSuQmCC\n",
       "\" style=\"display:inline;vertical-align:middle;\" /></a></td></tr>\n",
       "<tr><td>5</td><td>ExprTuple</td><td>8, 9</td><td><a class=\"ProveItLink\" href=\"../4712e4d1f9b260682bce7893d30f21f284c952f60/expr.ipynb\"><img src=\"data:image/png;base64,iVBORw0KGgoAAAANSUhEUgAAAEEAAAAVBAMAAADrxp6XAAAAMFBMVEX////c3NwiIiJERESqqqqY\n",
       "mJh2dnZmZmYQEBDu7u4yMjJUVFTMzMyIiIi6uroAAAAs73DqAAAAAXRSTlMAQObYZgAAAS5JREFU\n",
       "KM+Fkr9Lw0AUxz/VpPaa9oiDCOrk4qYddDb/QZwcpSDo5A8cFDo5iKPN6JYsDiKCk5vQqYtLQdws\n",
       "FEcHqR0cBKN3cfBMSHzD4917n7t373sH/5vsFRQ3tLvPKda2Nj0mOiq6zCGmkZ8QQT2vyZ7HCNah\n",
       "EuQQfkKcw0vBDKrLuMehih4m+7eyv5wmqjdQ3udCeeeacBc/BXSvlLMizuB1rEHYyxDUVU0eE0MQ\n",
       "DvADWj/5mXltizpsB9SGmtDlAzj9e8IcrK5p4kQt1O4F5JswAfEVaEJ1WUHvFjFONIWpzQcsudgR\n",
       "21CKsYdUe00xMohH5Hsy7XNy33ID664j2u4vYR21PKXJgIprquimJ1aq201jbWeU30m9foYQ6vWZ\n",
       "NRKZn+DotqWiX/gE32FHRPyXHFJ1AAAAAElFTkSuQmCC\n",
       "\" style=\"display:inline;vertical-align:middle;\" /></a></td></tr>\n",
       "<tr><td>6</td><td>Literal</td><td></td><td><a class=\"ProveItLink\" href=\"../../../number/addition/__pv_it/3e6688136fa3c7aefbebe51301b7c3ebf0b69c440/expr.ipynb\"><img src=\"data:image/png;base64,iVBORw0KGgoAAAANSUhEUgAAAA4AAAAOBAMAAADtZjDiAAAAJFBMVEX///+6urpUVFQQEBAiIiIy\n",
       "MjJmZmaIiIiqqqrc3Nzu7u4AAACgHpL+AAAAAXRSTlMAQObYZgAAAB5JREFUCNdjYGBgWMkAAe2k\n",
       "0Kmhoc6hoUGk6BMHYgAHOwjcado9fwAAAABJRU5ErkJggg==\n",
       "\" style=\"display:inline;vertical-align:middle;\" /></a></td></tr>\n",
       "<tr><td>7</td><td>ExprTuple</td><td>10, 11</td><td><a class=\"ProveItLink\" href=\"../22c3c9944426c690813c30c93c3e719ef5257b3a0/expr.ipynb\"><img src=\"data:image/png;base64,iVBORw0KGgoAAAANSUhEUgAAACsAAAAVBAMAAAAtAwouAAAAMFBMVEX////c3NwiIiJERESqqqqY\n",
       "mJh2dnZmZmYQEBDu7u4yMjJUVFTMzMyIiIi6uroAAAAs73DqAAAAAXRSTlMAQObYZgAAAOlJREFU\n",
       "GNNjYMAB+C6gi8SBiNMMDLObEGKWDAzsB4D0SiBeDhed/BNILGBg4AWZ8QUmOns3SDiMgYFjAtD4\n",
       "n3DVvCDmDAaGV0CKbQGqMLMDQxmQ4kpgrX+AJMxWwLAUSM1/mfneAUmYZQFDH5DyP4tqCF8Dwz8g\n",
       "Va+HKszzASysO1sTXbiFgYHzD8MXRjRDTBkYWD9w/mNjYJgAF2ZdwJDOwMBtwPCRl4HzE7IDHwGd\n",
       "HcBwPZOBs18AGEoVv0qBAg8YOATgIQxnAT3PmgDjsMJdmQsNWFRhTlAQScN48FjiBpnGiBFpdxgY\n",
       "AMhBPn6sYDDPAAAAAElFTkSuQmCC\n",
       "\" style=\"display:inline;vertical-align:middle;\" /></a></td></tr>\n",
       "<tr><td>8</td><td>Variable</td><td></td><td><a class=\"ProveItLink\" href=\"../../../__pv_it/78af03acba5349fd70398a32ce59bae1da52f0870/expr.ipynb\"><img src=\"data:image/png;base64,iVBORw0KGgoAAAANSUhEUgAAABIAAAAJBAMAAADN8WE8AAAAMFBMVEX////MzMyYmJgQEBBmZmYi\n",
       "IiLu7u4yMjKqqqp2dnZUVFTc3NxERESIiIi6uroAAABe5jFNAAAAAXRSTlMAQObYZgAAAFtJREFU\n",
       "CNdj4Luz++5KvrsnGBg4uWoZ8ucx9DMwvGM9wJB/AcRKyH/A0J/A4M7AAKJcGRgsgSwgL4SB7zcb\n",
       "iMf2j4GrYBMD9z8Gpg8M7BcmMPAZMHAeYOBYKwAAtXMYHwtZnY0AAAAASUVORK5CYII=\n",
       "\" style=\"display:inline;vertical-align:middle;\" /></a></td></tr>\n",
       "<tr><td>9</td><td>Operation</td><td>operator:&nbsp;12<br>operand:&nbsp;13<br></td><td><a class=\"ProveItLink\" href=\"../3b2bc610f1e23eb21b0d578e3797e70d9c90412c0/expr.ipynb\"><img src=\"data:image/png;base64,iVBORw0KGgoAAAANSUhEUgAAABkAAAAOBAMAAAAoFKpzAAAAMFBMVEX///+YmJju7u4QEBBUVFSI\n",
       "iIhmZmaqqqpERER2dnbMzMy6uroiIiIyMjLc3NwAAAC3dznvAAAAAXRSTlMAQObYZgAAAF1JREFU\n",
       "CNdjYIACrpkzChjg4BkD91cEb34Bwx8Erx6Fx4CikoGB1wGJs/IKshQDqzUDw9szIHAaxLVXgMu8\n",
       "YmDoF4BxmP4rIPEY/jIwnH8A5wUycP9EmMiellvAAAAaNxk58Cy1HQAAAABJRU5ErkJggg==\n",
       "\" style=\"display:inline;vertical-align:middle;\" /></a></td></tr>\n",
       "<tr><td>10</td><td>Variable</td><td></td><td><a class=\"ProveItLink\" href=\"../../../__pv_it/1a7356cf6caf039e07a5436d90e972cbb5e92b0a0/expr.ipynb\"><img src=\"data:image/png;base64,iVBORw0KGgoAAAANSUhEUgAAAAoAAAAOBAMAAADkjZCYAAAAMFBMVEX///9ERETc3NyIiIjMzMyY\n",
       "mJh2dna6urqqqqpmZmYyMjIiIiIQEBBUVFTu7u4AAAD6+w4kAAAAAXRSTlMAQObYZgAAAFBJREFU\n",
       "CNdj4LuzgQEIuCaASP4GEFn/AERmgQiGZQyR3xn4vj97/oOB44sBUIDzdwGQ5La7DVT03oG/QYEh\n",
       "nuF9QQLDRQZ+BQOGpQzM0x4AAD+VFjuIiDKbAAAAAElFTkSuQmCC\n",
       "\" style=\"display:inline;vertical-align:middle;\" /></a></td></tr>\n",
       "<tr><td>11</td><td>Literal</td><td></td><td><a class=\"ProveItLink\" href=\"../../../number/numeral/__pv_it/9be8badea4c35b9724062cecc501d17a3158d1d20/expr.ipynb\"><img src=\"data:image/png;base64,iVBORw0KGgoAAAANSUhEUgAAAAgAAAAPBAMAAAArJJMAAAAAHlBMVEX///+YmJgyMjIQEBBmZmaI\n",
       "iIhUVFTu7u5EREQAAAAw+MI4AAAAAXRSTlMAQObYZgAAACFJREFUCNdjYGBoZ2BgqJjOwFCWBiQY\n",
       "WEklWJwnOTKAAACjEQo8HvEr3AAAAABJRU5ErkJggg==\n",
       "\" style=\"display:inline;vertical-align:middle;\" /></a></td></tr>\n",
       "<tr><td>12</td><td>Literal</td><td></td><td><a class=\"ProveItLink\" href=\"../../../number/negation/__pv_it/3fc7a08bb9735faa20ef8e175f6ea95511acc9c70/expr.ipynb\"><img src=\"data:image/png;base64,iVBORw0KGgoAAAANSUhEUgAAAA4AAAACBAMAAACapPCZAAAAElBMVEX///+6uroiIiIyMjLc3NwA\n",
       "AAA6l9OrAAAAAXRSTlMAQObYZgAAABBJREFUCNdjcFYCAUUGKAAADR4BD8/TF5gAAAAASUVORK5C\n",
       "YII=\n",
       "\" style=\"display:inline;vertical-align:middle;\" /></a></td></tr>\n",
       "<tr><td>13</td><td>Literal</td><td></td><td><a class=\"ProveItLink\" href=\"../../../number/numeral/__pv_it/9176d93c83afa2c995b614976e3cb49207102fa70/expr.ipynb\"><img src=\"data:image/png;base64,iVBORw0KGgoAAAANSUhEUgAAAAoAAAAOBAMAAADkjZCYAAAAMFBMVEX///+YmJju7u4QEBBUVFQy\n",
       "MjIiIiKIiIi6urpmZmbc3NyqqqpERER2dnbMzMwAAAB0GlNiAAAAAXRSTlMAQObYZgAAAE1JREFU\n",
       "CNdjYHh79zQDA9cEhv4CBt7fDPwJDNxgEgiAIkAQAsR8Vx1ATIbiBhDJ/ImB6wEDz0cG/U8gkj+A\n",
       "ge0XA7sAQ/8FBoadM6MZAEflFACalZ/OAAAAAElFTkSuQmCC\n",
       "\" style=\"display:inline;vertical-align:middle;\" /></a></td></tr>\n",
       "</table>\n"
      ],
      "text/plain": [
       "0. (m - 3) >= (k + 1)\n",
       "   core type: Operation\n",
       "   operator: 1\n",
       "   operands: 2\n",
       "1. >=\n",
       "   core type: Literal\n",
       "   sub-expressions: \n",
       "2. (m - 3 , k + 1)\n",
       "   core type: ExprTuple\n",
       "   sub-expressions: 3, 4\n",
       "3. m - 3\n",
       "   core type: Operation\n",
       "   operator: 6\n",
       "   operands: 5\n",
       "4. k + 1\n",
       "   core type: Operation\n",
       "   operator: 6\n",
       "   operands: 7\n",
       "5. (m , -3)\n",
       "   core type: ExprTuple\n",
       "   sub-expressions: 8, 9\n",
       "6. +\n",
       "   core type: Literal\n",
       "   sub-expressions: \n",
       "7. (k , 1)\n",
       "   core type: ExprTuple\n",
       "   sub-expressions: 10, 11\n",
       "8. m\n",
       "   core type: Variable\n",
       "   sub-expressions: \n",
       "9. -3\n",
       "   core type: Operation\n",
       "   operator: 12\n",
       "   operand: 13\n",
       "10. k\n",
       "    core type: Variable\n",
       "    sub-expressions: \n",
       "11. 1\n",
       "    core type: Literal\n",
       "    sub-expressions: \n",
       "12. -\n",
       "    core type: Literal\n",
       "    sub-expressions: \n",
       "13. 3\n",
       "    core type: Literal\n",
       "    sub-expressions: "
      ]
     },
     "execution_count": 4,
     "metadata": {},
     "output_type": "execute_result"
    }
   ],
   "source": [
    "# display the expression information\n",
    "expr.exprInfo()"
   ]
  },
  {
   "cell_type": "code",
   "execution_count": null,
   "metadata": {},
   "outputs": [],
   "source": []
  }
 ],
 "metadata": {
  "kernelspec": {
   "display_name": "Python 3",
   "language": "python",
   "name": "python3"
  }
 },
 "nbformat": 4,
 "nbformat_minor": 0
}
