{
 "cells": [
  {
   "cell_type": "markdown",
   "metadata": {},
   "source": [
    "Expression of type <a class=\"ProveItLink\" href=\"../../../../../doc/html/api/proveit.logic.Equals.html\">Equals</a>\n",
    "=======================\n",
    "# from context <a class=\"ProveItLink\" href=\"../../_context_.ipynb\">proveit.iteration</a>"
   ]
  },
  {
   "cell_type": "code",
   "execution_count": 1,
   "metadata": {},
   "outputs": [],
   "source": [
    "# import Expression classes needed to build the expression\n",
    "from proveit._common_ import j, k\n",
    "from proveit.logic import Equals\n",
    "from proveit.number import Add, Neg, one"
   ]
  },
  {
   "cell_type": "code",
   "execution_count": 2,
   "metadata": {},
   "outputs": [
    {
     "data": {
      "text/html": [
       "<strong id=\"expr\">expr:</strong> <a class=\"ProveItLink\" href=\"expr.ipynb\"><img src=\"data:image/png;base64,iVBORw0KGgoAAAANSUhEUgAAAN0AAAAVBAMAAAAwUfbwAAAAMFBMVEX////c3NwiIiJERESqqqqY\n",
       "mJh2dnZmZmYQEBDu7u4yMjJUVFTMzMyIiIi6uroAAAAs73DqAAAAAXRSTlMAQObYZgAAAhVJREFU\n",
       "SMe9lk8oBFEcx3/Lzq5Z9s+Zi5RwIAeUkzkrcaIo3ESpTaGkSE4OrItE2U0ho+TPRTnYu8RNiiwn\n",
       "lPyJpLbN/N4Ya37zm212lXd4vff97ft89/1m3u8NwH+3wNkfFkuJbIDd2B1j1xMyR5anLD/Oj3DK\n",
       "uJXKAeWDUq33xrVuE+dddNEGFeSmCKf4rH4s0BfGPgbgN+1+3hi8/VD1PyofHhE/XZF6qR0PDCrY\n",
       "twMUmDAtxjP4NBS3sfzakk9U5Emq8sAnoS4CPAAX9sQc+kEdVXnggP7EFRjB1Fw1krCvV5pIOPLr\n",
       "oyoPXIeOlLaNMKzhbqCchKP3/U+KI79mHHlV0XZwzALl1MKK9kq4YzCrzS7gnfi1njjN5x1VWaA7\n",
       "KTCBSdB2CaHAC/GbqLHxKy7DVpNWTqkfC/S+iqdT9CzC4MHTCGOqWqmqWzisXq76ztPqzHeebPbH\n",
       "+lmAeRd7Ed1vOn0af6U7CW+uLPLpFbsuq8UxC4zGg0pI5LNeTBVzWHqWUx5nfp1UZYE9EE1olUGK\n",
       "6e9za8QcLqyFFz/kdh5Y4D4EQ2fiPNzidIgcT18bnPeb/UbnNtrMYF3Zpn4scA38I1htE1CA9bGC\n",
       "loN0c2e+rph6lgG4KArujStpCI/ZXo8eSzgTcBCvj6KP/HDOF+4Scx/ZAmWsyiVyw3DuF/yuVbIH\n",
       "FmKqXX/5nvDHrZo98BLgC9WHvzYYTpqiAAAAAElFTkSuQmCC\n",
       "\" style=\"display:inline;vertical-align:middle;\" /></a><br>"
      ],
      "text/plain": [
       "expr: (j + k + 1 - 1) = (j + k)"
      ]
     },
     "execution_count": 2,
     "metadata": {},
     "output_type": "execute_result"
    }
   ],
   "source": [
    "# build up the expression from sub-expressions\n",
    "expr = Equals(Add(j, k, one, Neg(one)), Add(j, k).withSubtractionAt(1))"
   ]
  },
  {
   "cell_type": "code",
   "execution_count": 3,
   "metadata": {},
   "outputs": [
    {
     "name": "stdout",
     "output_type": "stream",
     "text": [
      "Passed sanity check: built 'expr' is the same as the stored Expression.\n"
     ]
    }
   ],
   "source": [
    "# check that the built expression is the same as the stored expression\n",
    "%check_expr"
   ]
  },
  {
   "cell_type": "code",
   "execution_count": 4,
   "metadata": {},
   "outputs": [
    {
     "data": {
      "text/html": [
       "<table><tr><th>&nbsp;</th><th>core type</th><th>sub-expressions</th><th>expression</th></tr>\n",
       "<tr><td>0</td><td>Operation</td><td>operator:&nbsp;1<br>operands:&nbsp;2<br></td><td><a class=\"ProveItLink\" href=\"expr.ipynb\"><img src=\"data:image/png;base64,iVBORw0KGgoAAAANSUhEUgAAAN0AAAAVBAMAAAAwUfbwAAAAMFBMVEX////c3NwiIiJERESqqqqY\n",
       "mJh2dnZmZmYQEBDu7u4yMjJUVFTMzMyIiIi6uroAAAAs73DqAAAAAXRSTlMAQObYZgAAAhVJREFU\n",
       "SMe9lk8oBFEcx3/Lzq5Z9s+Zi5RwIAeUkzkrcaIo3ESpTaGkSE4OrItE2U0ho+TPRTnYu8RNiiwn\n",
       "lPyJpLbN/N4Ya37zm212lXd4vff97ft89/1m3u8NwH+3wNkfFkuJbIDd2B1j1xMyR5anLD/Oj3DK\n",
       "uJXKAeWDUq33xrVuE+dddNEGFeSmCKf4rH4s0BfGPgbgN+1+3hi8/VD1PyofHhE/XZF6qR0PDCrY\n",
       "twMUmDAtxjP4NBS3sfzakk9U5Emq8sAnoS4CPAAX9sQc+kEdVXnggP7EFRjB1Fw1krCvV5pIOPLr\n",
       "oyoPXIeOlLaNMKzhbqCchKP3/U+KI79mHHlV0XZwzALl1MKK9kq4YzCrzS7gnfi1njjN5x1VWaA7\n",
       "KTCBSdB2CaHAC/GbqLHxKy7DVpNWTqkfC/S+iqdT9CzC4MHTCGOqWqmqWzisXq76ztPqzHeebPbH\n",
       "+lmAeRd7Ed1vOn0af6U7CW+uLPLpFbsuq8UxC4zGg0pI5LNeTBVzWHqWUx5nfp1UZYE9EE1olUGK\n",
       "6e9za8QcLqyFFz/kdh5Y4D4EQ2fiPNzidIgcT18bnPeb/UbnNtrMYF3Zpn4scA38I1htE1CA9bGC\n",
       "loN0c2e+rph6lgG4KArujStpCI/ZXo8eSzgTcBCvj6KP/HDOF+4Scx/ZAmWsyiVyw3DuF/yuVbIH\n",
       "FmKqXX/5nvDHrZo98BLgC9WHvzYYTpqiAAAAAElFTkSuQmCC\n",
       "\" style=\"display:inline;vertical-align:middle;\" /></a></td></tr>\n",
       "<tr><td>1</td><td>Literal</td><td></td><td><a class=\"ProveItLink\" href=\"../../../logic/equality/__pv_it/2fb26078095930560931daa0500ce419a39ea6cd0/expr.ipynb\"><img src=\"data:image/png;base64,iVBORw0KGgoAAAANSUhEUgAAAA4AAAAFBAMAAACHocAhAAAAFVBMVEX///9EREQiIiJUVFQyMjJm\n",
       "ZmYAAADubVkoAAAAAXRSTlMAQObYZgAAABRJREFUCNdjCHEBAWcGXCBICQQUAUpuAwlgGKrkAAAA\n",
       "AElFTkSuQmCC\n",
       "\" style=\"display:inline;vertical-align:middle;\" /></a></td></tr>\n",
       "<tr><td>2</td><td>ExprTuple</td><td>3, 4</td><td><a class=\"ProveItLink\" href=\"../c19d4f82e07cba421cab119cc5bfe8054266dbce0/expr.ipynb\"><img src=\"data:image/png;base64,iVBORw0KGgoAAAANSUhEUgAAALoAAAAVBAMAAAADaun5AAAAMFBMVEX////c3NwiIiJERESqqqqY\n",
       "mJh2dnZmZmYQEBDu7u4yMjJUVFTMzMyIiIi6uroAAAAs73DqAAAAAXRSTlMAQObYZgAAAghJREFU\n",
       "OMtjYKAt4LtAI4NZHwCJ0yBWvACKBOcOBQzFzBPQRSwRBn1ElZndBCJrgHgliBGNppGrAN0oTnt0\n",
       "0yf/RJi+AU1uOdgQBgZe5IDhhHmB3wEmNBEqs3s/mumzd//E8N9EGOML2M4EBg5kTSwwq97DRX1h\n",
       "jPvobufFNB2mmA8sxdnA8IoBm+lZDBSZzrYATJkwlIEsuWuJZvoyhvB/xJs+9/IEVMVcCaz1wBST\n",
       "zrAUZBWDKqrpnP+mzftCvOkJTAGoiue/zHwPjDkvhj4g5ybDV1TTWf5cICFkeCfwo5nufxZMvWAA\n",
       "BYAA30dU09k/PcBhupQSCOihmM7I8F4AVXE9WAHDebDpDGygzMO+atWirlWrQEmX6eYmsFlVq1Zp\n",
       "rFq1mmCsJqEp1p2tCTG9BTnzwNw+/wC/gwAJaWY5qkc5/zB8YQSHjCnYNAdU0+MZ5j9IIMZ0Tohp\n",
       "X1BNZ/3A+Y8NSEcBUw0oFiagmr6ZgV/gAjGmzweXRyw/UU3nNmD4yMsASpGPQNwitNy0lIG3DC0J\n",
       "l/cvD0AxnL3iVynDDHByYFdANZ0rgOF6JpBex8ABCl919LyKmf1wgIcggqkAq2JgSQAsah4y/sFd\n",
       "1r/FbzrQP3wC8gewKmYDmraS5ztzAdlVBND08wXm2OVmAbE0p1kp2YaD4m5yegB2yY2gnEarmo/3\n",
       "AAMARQmjVplaVpoAAAAASUVORK5CYII=\n",
       "\" style=\"display:inline;vertical-align:middle;\" /></a></td></tr>\n",
       "<tr><td>3</td><td>Operation</td><td>operator:&nbsp;6<br>operands:&nbsp;5<br></td><td><a class=\"ProveItLink\" href=\"../4093aeb47898d10d6ade793c31862645d61919b00/expr.ipynb\"><img src=\"data:image/png;base64,iVBORw0KGgoAAAANSUhEUgAAAHUAAAASBAMAAACX24xtAAAAMFBMVEX///8QEBDMzMyqqqpmZmYy\n",
       "MjK6uroiIiJ2dnZERESIiIju7u5UVFTc3NyYmJgAAACtHSfyAAAAAXRSTlMAQObYZgAAAQBJREFU\n",
       "OMtjYGBg4PvLgAL2iDNggNnoApwbwBTfATTxEAytO3+jCXDP34DC3wtjfIaruAB1yRk0vdxnzqPq\n",
       "tYLSbHCFzAugDC50exnWY9fLEUC03l0rN6DqZW3g808gTm8D+wNUvfuzu/MNiNLLtYEfTa+9FrFu\n",
       "5mXIv4Cq178Mh17e8HIQSEAKq3YQ4RoaWhgaGgNiVu2pBlEsoaHhoqGhB/CGcwhqOHN/YvjMS2Q4\n",
       "c39G1cv3gfsbB5F6mX+j6uWZwPCXi0i9LAWoelkfMCzpRtXL4vjVD1Wri3wIKHbYHdDSFQLA7cUO\n",
       "2C7cV4AyszAl8evVd5jCQC7Y2fKAXK0Awn5a3dOZJDUAAAAASUVORK5CYII=\n",
       "\" style=\"display:inline;vertical-align:middle;\" /></a></td></tr>\n",
       "<tr><td>4</td><td>Operation</td><td>operator:&nbsp;6<br>operands:&nbsp;7<br></td><td><a class=\"ProveItLink\" href=\"../de912a9169957688bdb1f52388fb9b9a4e5b16d30/expr.ipynb\"><img src=\"data:image/png;base64,iVBORw0KGgoAAAANSUhEUgAAADAAAAASBAMAAADvSECJAAAAMFBMVEX///8QEBDMzMyqqqpmZmYy\n",
       "MjK6uroiIiJ2dnZERESIiIju7u5UVFTc3NyYmJgAAACtHSfyAAAAAXRSTlMAQObYZgAAAK5JREFU\n",
       "GNNjYGBg4PvLgAK4DxZAGHwHUCUYWB3QVF6AMvgNUCWYF0AZ+RtwSLRCqF0rN6BJRDA8+QakGtgf\n",
       "oEpwf9ux7TMDA9cGfjQJ5k9gBi9D/gVUCZbvCRBGO5gXGhouGhoK8hL76uMQW0PQXLVfgd8AZAj3\n",
       "ZzSJ9wz7ExpA/N9oEicZ+C+AmCwFaBJxDFweIEvYHdB9DgZsF+4rwJgoEvoOUxiwgp0tD7CKAwCZ\n",
       "hDILDlkdAQAAAABJRU5ErkJggg==\n",
       "\" style=\"display:inline;vertical-align:middle;\" /></a></td></tr>\n",
       "<tr><td>5</td><td>ExprTuple</td><td>9, 10, 12, 8</td><td><a class=\"ProveItLink\" href=\"../35dcc162d485c0557d0423b5e011b7163059f6da0/expr.ipynb\"><img src=\"data:image/png;base64,iVBORw0KGgoAAAANSUhEUgAAAGAAAAAVBAMAAABLWfZ5AAAAMFBMVEX////c3NwiIiJERESqqqqY\n",
       "mJh2dnZmZmYQEBDu7u4yMjJUVFTMzMyIiIi6uroAAAAs73DqAAAAAXRSTlMAQObYZgAAAWVJREFU\n",
       "OMtjYCAZ8F0gXi3rAyBxGsSKFwALzG5CSFqiq2aewMBQA6RXgjjRUMHlcOnJP9HUc9oDNXAxMPCi\n",
       "uOgLjDF7N5oGzt37gRpYExg4JiD7B6GKF90GhvtAlZwNDK+QxdgWENDAYMJQBrLuLtSHXAms9Q/w\n",
       "akhnWAoymEEVIjb/ZeZ7B7wavBj6gORNhq8QMf+zhJz0guEfkBTg+wgRq9fD0MC4SAkEHkA1nAdr\n",
       "YGBTgMjqztYkYMN5hhawZwsgYf2H4QsjISeZgj3rwMAJSiofOP+xMTBMgGngxNQQBQwnkGcnMMwH\n",
       "uorbgOEjLwPnJ5iG+QpYgvURiF3EwDAD6G+uAIbrmQyc/cCUyF7xqxQsBgfl/csDGBjWMXCA0qk6\n",
       "ED9EJBABGOshuj+ASQOYnB4y/gGyAxCpHs4KQNfABkyqK3m+MxcQq2EWEEtzmpWCPIkQhSd4Xows\n",
       "txEUlSRkUd4DDABkXWful7ykUAAAAABJRU5ErkJggg==\n",
       "\" style=\"display:inline;vertical-align:middle;\" /></a></td></tr>\n",
       "<tr><td>6</td><td>Literal</td><td></td><td><a class=\"ProveItLink\" href=\"../../../number/addition/__pv_it/3e6688136fa3c7aefbebe51301b7c3ebf0b69c440/expr.ipynb\"><img src=\"data:image/png;base64,iVBORw0KGgoAAAANSUhEUgAAAA4AAAAOBAMAAADtZjDiAAAAJFBMVEX///+6urpUVFQQEBAiIiIy\n",
       "MjJmZmaIiIiqqqrc3Nzu7u4AAACgHpL+AAAAAXRSTlMAQObYZgAAAB5JREFUCNdjYGBgWMkAAe2k\n",
       "0Kmhoc6hoUGk6BMHYgAHOwjcado9fwAAAABJRU5ErkJggg==\n",
       "\" style=\"display:inline;vertical-align:middle;\" /></a></td></tr>\n",
       "<tr><td>7</td><td>ExprTuple</td><td>9, 10</td><td><a class=\"ProveItLink\" href=\"../b913345561c55a019ccc63672757d0f12b9709f20/expr.ipynb\"><img src=\"data:image/png;base64,iVBORw0KGgoAAAANSUhEUgAAACkAAAAVBAMAAAAp9toTAAAAMFBMVEX////c3NwiIiJERESqqqqY\n",
       "mJh2dnZmZmYQEBDu7u4yMjJUVFTMzMyIiIi6uroAAAAs73DqAAAAAXRSTlMAQObYZgAAAQhJREFU\n",
       "GNNjYMAO+C6gCcSBiNMgIl4ALDC7CUiwHwASK0HcaKi65SBiAQMDL4oBX0BEGAMDxwRkO36CyBkM\n",
       "DK+QlbItAJHMDgxlQIrzriVElCuBtf4BA1sBw1KQEgZViOj8l5nvHRhYFjD0ATk3Gb5CRP3Pgk1v\n",
       "YPgHpAT4PkJE6/VAJM8HsCgDmwJEVHe2JkS0BWxLAViQ8w/DF0awCaZgWxwYOIEU6wfOf2xAagFD\n",
       "OtiWCQzzgYZwGzB85GUAuewRSLQI6CGghVwBDNczgdQDBg5QaKkD8UO4D4E+Zk1geMj4B8gOgIvm\n",
       "gkKS5ztzAbIoJygwpDnNSoEUL1wpN8hMRvQYusPAAAD6Jjrk3upVsAAAAABJRU5ErkJggg==\n",
       "\" style=\"display:inline;vertical-align:middle;\" /></a></td></tr>\n",
       "<tr><td>8</td><td>Operation</td><td>operator:&nbsp;11<br>operand:&nbsp;12<br></td><td><a class=\"ProveItLink\" href=\"../27bb768acc4707a63c4de5a0b22e13dfe76b5c980/expr.ipynb\"><img src=\"data:image/png;base64,iVBORw0KGgoAAAANSUhEUgAAABgAAAAPBAMAAAAMihLoAAAAJ1BMVEX///+YmJgQEBBmZmaIiIhU\n",
       "VFTu7u5ERES6uroiIiIyMjLc3NwAAAAKCT4sAAAAAXRSTlMAQObYZgAAACpJREFUCNdjYICDMgST\n",
       "If0Ygp0aisRhYCGTs2smCMwg3wAYYDY6ZciADABBShCHMIgXsAAAAABJRU5ErkJggg==\n",
       "\" style=\"display:inline;vertical-align:middle;\" /></a></td></tr>\n",
       "<tr><td>9</td><td>Variable</td><td></td><td><a class=\"ProveItLink\" href=\"../../../__pv_it/612356038763a16ceac85a062629d016c986635c0/expr.ipynb\"><img src=\"data:image/png;base64,iVBORw0KGgoAAAANSUhEUgAAAAoAAAASBAMAAACQmVJ4AAAALVBMVEX////MzMyqqqpmZmYyMjK6\n",
       "uroiIiJ2dnZERESIiIju7u5UVFTc3NyYmJgAAAAeP2GyAAAAAXRSTlMAQObYZgAAAE1JREFUCNdj\n",
       "YGBg4H3DACI3MGADK2csAJIFbBcYGDgX8AFJHoa4AyCJMrC0M4jgegQimV6BSOYEEMlmwMDAeuCc\n",
       "AAODnEEzkL+iGKgTAMbaDxjCuhcwAAAAAElFTkSuQmCC\n",
       "\" style=\"display:inline;vertical-align:middle;\" /></a></td></tr>\n",
       "<tr><td>10</td><td>Variable</td><td></td><td><a class=\"ProveItLink\" href=\"../../../__pv_it/1a7356cf6caf039e07a5436d90e972cbb5e92b0a0/expr.ipynb\"><img src=\"data:image/png;base64,iVBORw0KGgoAAAANSUhEUgAAAAoAAAAOBAMAAADkjZCYAAAAMFBMVEX///9ERETc3NyIiIjMzMyY\n",
       "mJh2dna6urqqqqpmZmYyMjIiIiIQEBBUVFTu7u4AAAD6+w4kAAAAAXRSTlMAQObYZgAAAFBJREFU\n",
       "CNdj4LuzgQEIuCaASP4GEFn/AERmgQiGZQyR3xn4vj97/oOB44sBUIDzdwGQ5La7DVT03oG/QYEh\n",
       "nuF9QQLDRQZ+BQOGpQzM0x4AAD+VFjuIiDKbAAAAAElFTkSuQmCC\n",
       "\" style=\"display:inline;vertical-align:middle;\" /></a></td></tr>\n",
       "<tr><td>11</td><td>Literal</td><td></td><td><a class=\"ProveItLink\" href=\"../../../number/negation/__pv_it/3fc7a08bb9735faa20ef8e175f6ea95511acc9c70/expr.ipynb\"><img src=\"data:image/png;base64,iVBORw0KGgoAAAANSUhEUgAAAA4AAAACBAMAAACapPCZAAAAElBMVEX///+6uroiIiIyMjLc3NwA\n",
       "AAA6l9OrAAAAAXRSTlMAQObYZgAAABBJREFUCNdjcFYCAUUGKAAADR4BD8/TF5gAAAAASUVORK5C\n",
       "YII=\n",
       "\" style=\"display:inline;vertical-align:middle;\" /></a></td></tr>\n",
       "<tr><td>12</td><td>Literal</td><td></td><td><a class=\"ProveItLink\" href=\"../../../number/numeral/__pv_it/9be8badea4c35b9724062cecc501d17a3158d1d20/expr.ipynb\"><img src=\"data:image/png;base64,iVBORw0KGgoAAAANSUhEUgAAAAgAAAAPBAMAAAArJJMAAAAAHlBMVEX///+YmJgyMjIQEBBmZmaI\n",
       "iIhUVFTu7u5EREQAAAAw+MI4AAAAAXRSTlMAQObYZgAAACFJREFUCNdjYGBoZ2BgqJjOwFCWBiQY\n",
       "WEklWJwnOTKAAACjEQo8HvEr3AAAAABJRU5ErkJggg==\n",
       "\" style=\"display:inline;vertical-align:middle;\" /></a></td></tr>\n",
       "</table>\n"
      ],
      "text/plain": [
       "0. (j + k + 1 - 1) = (j + k)\n",
       "   core type: Operation\n",
       "   operator: 1\n",
       "   operands: 2\n",
       "1. =\n",
       "   core type: Literal\n",
       "   sub-expressions: \n",
       "2. (j + k + 1 - 1 , j + k)\n",
       "   core type: ExprTuple\n",
       "   sub-expressions: 3, 4\n",
       "3. j + k + 1 - 1\n",
       "   core type: Operation\n",
       "   operator: 6\n",
       "   operands: 5\n",
       "4. j + k\n",
       "   core type: Operation\n",
       "   operator: 6\n",
       "   operands: 7\n",
       "5. (j , k , 1 , -1)\n",
       "   core type: ExprTuple\n",
       "   sub-expressions: 9, 10, 12, 8\n",
       "6. +\n",
       "   core type: Literal\n",
       "   sub-expressions: \n",
       "7. (j , k)\n",
       "   core type: ExprTuple\n",
       "   sub-expressions: 9, 10\n",
       "8. -1\n",
       "   core type: Operation\n",
       "   operator: 11\n",
       "   operand: 12\n",
       "9. j\n",
       "   core type: Variable\n",
       "   sub-expressions: \n",
       "10. k\n",
       "    core type: Variable\n",
       "    sub-expressions: \n",
       "11. -\n",
       "    core type: Literal\n",
       "    sub-expressions: \n",
       "12. 1\n",
       "    core type: Literal\n",
       "    sub-expressions: "
      ]
     },
     "execution_count": 4,
     "metadata": {},
     "output_type": "execute_result"
    }
   ],
   "source": [
    "# display the expression information\n",
    "expr.exprInfo()"
   ]
  },
  {
   "cell_type": "code",
   "execution_count": null,
   "metadata": {},
   "outputs": [],
   "source": []
  }
 ],
 "metadata": {
  "kernelspec": {
   "display_name": "Python 3",
   "language": "python",
   "name": "python3"
  }
 },
 "nbformat": 4,
 "nbformat_minor": 0
}
