{
 "cells": [
  {
   "cell_type": "markdown",
   "metadata": {},
   "source": [
    "Expression of type <a class=\"ProveItLink\" href=\"../../../../../doc/html/api/proveit.Indexed.html\">Indexed</a>\n",
    "=======================\n",
    "# from context <a class=\"ProveItLink\" href=\"../../_context_.ipynb\">proveit.iteration</a>"
   ]
  },
  {
   "cell_type": "code",
   "execution_count": 1,
   "metadata": {},
   "outputs": [],
   "source": [
    "# import Expression classes needed to build the expression\n",
    "from proveit import Indexed, Variable\n",
    "from proveit._common_ import yy"
   ]
  },
  {
   "cell_type": "code",
   "execution_count": 2,
   "metadata": {},
   "outputs": [
    {
     "data": {
      "text/html": [
       "<strong id=\"expr\">expr:</strong> <a class=\"ProveItLink\" href=\"expr.ipynb\"><img src=\"data:image/png;base64,iVBORw0KGgoAAAANSUhEUgAAACoAAAAQBAMAAACSDPCjAAAAMFBMVEX///9UVFS6urqIiIjMzMxE\n",
       "RETu7u6qqqrc3NxmZmYiIiKYmJgQEBAyMjJ2dnYAAACf7SmQAAAAAXRSTlMAQObYZgAAAKtJREFU\n",
       "GNNjYHh7moFhFQMa4JtwvoH9P7poDsf/Bs6v6KLOfH8ZuD6jizLwfGbI/4Ih6v+DQf8Dhuj+Awzv\n",
       "L0CYTKYMPAlQ0QsM9x9AmMn8DT5Qtf0HmP8rQJhtWgymUFH2NUv/Q7UxyDEIQ1kqDAjnHmI4AlX6\n",
       "n6H/B0z0CBPUNcz/ONYoMLDNnDlzOgNDoekFKGvWqmcwpRwNjAYYLmdgfaCLKcjAbgx1OABntzIa\n",
       "6AdgpQAAAABJRU5ErkJggg==\n",
       "\" style=\"display:inline;vertical-align:middle;\" /></a><br>"
      ],
      "text/plain": [
       "expr: y__y_"
      ]
     },
     "execution_count": 2,
     "metadata": {},
     "output_type": "execute_result"
    }
   ],
   "source": [
    "# build up the expression from sub-expressions\n",
    "expr = Indexed(yy, Variable(\"_y_\", latexFormat = r\"{_{-}y_{-}}\"), base = 1)"
   ]
  },
  {
   "cell_type": "code",
   "execution_count": 3,
   "metadata": {},
   "outputs": [
    {
     "name": "stdout",
     "output_type": "stream",
     "text": [
      "Passed sanity check: built 'expr' is the same as the stored Expression.\n"
     ]
    }
   ],
   "source": [
    "# check that the built expression is the same as the stored expression\n",
    "%check_expr"
   ]
  },
  {
   "cell_type": "code",
   "execution_count": 4,
   "metadata": {},
   "outputs": [
    {
     "data": {
      "text/html": [
       "<table><tr><th>&nbsp;</th><th>core type</th><th>sub-expressions</th><th>expression</th></tr>\n",
       "<tr><td>0</td><td>Indexed</td><td>var:&nbsp;1<br>index:&nbsp;2<br>base:&nbsp;\"1\"<br></td><td><a class=\"ProveItLink\" href=\"expr.ipynb\"><img src=\"data:image/png;base64,iVBORw0KGgoAAAANSUhEUgAAACoAAAAQBAMAAACSDPCjAAAAMFBMVEX///9UVFS6urqIiIjMzMxE\n",
       "RETu7u6qqqrc3NxmZmYiIiKYmJgQEBAyMjJ2dnYAAACf7SmQAAAAAXRSTlMAQObYZgAAAKtJREFU\n",
       "GNNjYHh7moFhFQMa4JtwvoH9P7poDsf/Bs6v6KLOfH8ZuD6jizLwfGbI/4Ih6v+DQf8Dhuj+Awzv\n",
       "L0CYTKYMPAlQ0QsM9x9AmMn8DT5Qtf0HmP8rQJhtWgymUFH2NUv/Q7UxyDEIQ1kqDAjnHmI4AlX6\n",
       "n6H/B0z0CBPUNcz/ONYoMLDNnDlzOgNDoekFKGvWqmcwpRwNjAYYLmdgfaCLKcjAbgx1OABntzIa\n",
       "6AdgpQAAAABJRU5ErkJggg==\n",
       "\" style=\"display:inline;vertical-align:middle;\" /></a></td></tr>\n",
       "<tr><td>1</td><td>Variable</td><td></td><td><a class=\"ProveItLink\" href=\"../../../__pv_it/23a8703a0497efbbce779bb784cd8c2fbbfa1f580/expr.ipynb\"><img src=\"data:image/png;base64,iVBORw0KGgoAAAANSUhEUgAAAA0AAAAOBAMAAAAGUYvhAAAALVBMVEX///+6urqIiIjMzMxERETu\n",
       "7u6qqqrc3NxmZmYiIiKYmJgQEBAyMjJ2dnYAAAAI/qgrAAAAAXRSTlMAQObYZgAAAGpJREFUCNdj\n",
       "YLizi4FhJgMDb8O+ArZ3DAzR7O8KOJ4wMBjxvmHgfMTAwMD9iCHuMZC2e84g9wBIr9vAcO8AiD7A\n",
       "cO4CkK7bwPROAEizzZ7yLgBICzOAtDMAzap7DqSZ3rLPBkkzdM68CiQBR18fizMQCrQAAAAASUVO\n",
       "RK5CYII=\n",
       "\" style=\"display:inline;vertical-align:middle;\" /></a></td></tr>\n",
       "<tr><td>2</td><td>Variable</td><td></td><td><a class=\"ProveItLink\" href=\"../ca21bf52f8ec7f5496629bfb63241356f0872c150/expr.ipynb\"><img src=\"data:image/png;base64,iVBORw0KGgoAAAANSUhEUgAAACMAAAANBAMAAADRUcosAAAAMFBMVEX///+YmJhUVFQyMjIQEBAi\n",
       "IiLMzMyIiIi6urrc3NxmZmZ2dnbu7u5ERESqqqoAAACio3w8AAAAAXRSTlMAQObYZgAAAGhJREFU\n",
       "CNdjYICA06sZOP8woIAN/QzsH1BE2B4sZeC9gCLEw+DOwF+AqpHvD0N+AqoQlwFDCaoIA/MChkto\n",
       "QlwKHB9h7Ld3geAAA8/1qp8wNhxwB6BpVGU48gBNKJrhNpoIw/OqBhgTACmkHt67K+Q0AAAAAElF\n",
       "TkSuQmCC\n",
       "\" style=\"display:inline;vertical-align:middle;\" /></a></td></tr>\n",
       "</table>\n"
      ],
      "text/plain": [
       "0. y__y_\n",
       "   core type: Indexed\n",
       "   var: 1\n",
       "   index: 2\n",
       "   base: \"1\"\n",
       "1. y\n",
       "   core type: Variable\n",
       "   sub-expressions: \n",
       "2. _y_\n",
       "   core type: Variable\n",
       "   sub-expressions: "
      ]
     },
     "execution_count": 4,
     "metadata": {},
     "output_type": "execute_result"
    }
   ],
   "source": [
    "# display the expression information\n",
    "expr.exprInfo()"
   ]
  },
  {
   "cell_type": "code",
   "execution_count": null,
   "metadata": {},
   "outputs": [],
   "source": []
  }
 ],
 "metadata": {
  "kernelspec": {
   "display_name": "Python 3",
   "language": "python",
   "name": "python3"
  }
 },
 "nbformat": 4,
 "nbformat_minor": 0
}
