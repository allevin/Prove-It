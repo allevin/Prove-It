{
 "cells": [
  {
   "cell_type": "markdown",
   "metadata": {},
   "source": [
    "Expression of type <a class=\"ProveItLink\" href=\"../../../../../doc/html/api/proveit.number.Add.html\">Add</a>\n",
    "=======================\n",
    "# from context <a class=\"ProveItLink\" href=\"../../_context_.ipynb\">proveit.iteration</a>"
   ]
  },
  {
   "cell_type": "code",
   "execution_count": 1,
   "metadata": {},
   "outputs": [],
   "source": [
    "# import Expression classes needed to build the expression\n",
    "from proveit._common_ import m\n",
    "from proveit.number import Add, one, three"
   ]
  },
  {
   "cell_type": "code",
   "execution_count": 2,
   "metadata": {},
   "outputs": [
    {
     "data": {
      "text/html": [
       "<strong id=\"expr\">expr:</strong> <a class=\"ProveItLink\" href=\"expr.ipynb\"><img src=\"data:image/png;base64,iVBORw0KGgoAAAANSUhEUgAAAGcAAAAVBAMAAACphe0AAAAAMFBMVEX////c3NwiIiJERESqqqqY\n",
       "mJh2dnZmZmYQEBDu7u4yMjJUVFTMzMyIiIi6uroAAAAs73DqAAAAAXRSTlMAQObYZgAAAWNJREFU\n",
       "OMtjYCAL8F3AIxmHQ/w0Th2WDAzsB9DEeNKSHYDUSlx6Jv8EEgvQBMUZ+P4yMPBiuG4ihJq9G6Qp\n",
       "DCrIKQCh8x0YPjEwcExA1+QLpXlBmmZAOSxQs/3Bml4x4NXE7ICqiQHsvDIgdVnw7ja+uybYNLEV\n",
       "oGvi2sDAsBQowb2WYX4egz82TSwL0DQdWw0k+hgY3jEZMMy/gF0TXwO6TbxAHf8YGCbMf8DgP4Gh\n",
       "Cpsmng/omhj6J4A0gXQUMTC0gUSqVq3SWLVqNaom9lWrFnWtWgX0DIMMA4N9AEMLSCUDgzoD30dO\n",
       "ws7j/D8BpMmUAWQH5z8G7gWiWDSxogXELwYGfQGGdAYGxn8MrB8YuC4kEBHkVxn4vjEwPAI7gc2A\n",
       "gWXvARRN7BW/SoGx8gBVE0t5FTC6OQRwpQgwQE9GEMCagK7pLTInF3uuW4kvh3IuwC4ujU8TtwB2\n",
       "cUZ82f0OVlEA4S9ofe/OkdQAAAAASUVORK5CYII=\n",
       "\" style=\"display:inline;vertical-align:middle;\" /></a><br>"
      ],
      "text/plain": [
       "expr: (m + 1) + 3"
      ]
     },
     "execution_count": 2,
     "metadata": {},
     "output_type": "execute_result"
    }
   ],
   "source": [
    "# build up the expression from sub-expressions\n",
    "expr = Add(Add(m, one), three)"
   ]
  },
  {
   "cell_type": "code",
   "execution_count": 3,
   "metadata": {},
   "outputs": [
    {
     "name": "stdout",
     "output_type": "stream",
     "text": [
      "Passed sanity check: built 'expr' is the same as the stored Expression.\n"
     ]
    }
   ],
   "source": [
    "# check that the built expression is the same as the stored expression\n",
    "%check_expr"
   ]
  },
  {
   "cell_type": "code",
   "execution_count": 4,
   "metadata": {},
   "outputs": [
    {
     "data": {
      "text/html": [
       "<table><tr><th>&nbsp;</th><th>core type</th><th>sub-expressions</th><th>expression</th></tr>\n",
       "<tr><td>0</td><td>Operation</td><td>operator:&nbsp;4<br>operands:&nbsp;1<br></td><td><a class=\"ProveItLink\" href=\"expr.ipynb\"><img src=\"data:image/png;base64,iVBORw0KGgoAAAANSUhEUgAAAGcAAAAVBAMAAACphe0AAAAAMFBMVEX////c3NwiIiJERESqqqqY\n",
       "mJh2dnZmZmYQEBDu7u4yMjJUVFTMzMyIiIi6uroAAAAs73DqAAAAAXRSTlMAQObYZgAAAWNJREFU\n",
       "OMtjYCAL8F3AIxmHQ/w0Th2WDAzsB9DEeNKSHYDUSlx6Jv8EEgvQBMUZ+P4yMPBiuG4ihJq9G6Qp\n",
       "DCrIKQCh8x0YPjEwcExA1+QLpXlBmmZAOSxQs/3Bml4x4NXE7ICqiQHsvDIgdVnw7ja+uybYNLEV\n",
       "oGvi2sDAsBQowb2WYX4egz82TSwL0DQdWw0k+hgY3jEZMMy/gF0TXwO6TbxAHf8YGCbMf8DgP4Gh\n",
       "Cpsmng/omhj6J4A0gXQUMTC0gUSqVq3SWLVqNaom9lWrFnWtWgX0DIMMA4N9AEMLSCUDgzoD30dO\n",
       "ws7j/D8BpMmUAWQH5z8G7gWiWDSxogXELwYGfQGGdAYGxn8MrB8YuC4kEBHkVxn4vjEwPAI7gc2A\n",
       "gWXvARRN7BW/SoGx8gBVE0t5FTC6OQRwpQgwQE9GEMCagK7pLTInF3uuW4kvh3IuwC4ujU8TtwB2\n",
       "cUZ82f0OVlEA4S9ofe/OkdQAAAAASUVORK5CYII=\n",
       "\" style=\"display:inline;vertical-align:middle;\" /></a></td></tr>\n",
       "<tr><td>1</td><td>ExprTuple</td><td>2, 3</td><td><a class=\"ProveItLink\" href=\"../5ea950ce3098dc5123e88df222ad042ca8ca53ee0/expr.ipynb\"><img src=\"data:image/png;base64,iVBORw0KGgoAAAANSUhEUgAAAFUAAAAVBAMAAADFg78FAAAAMFBMVEX////c3NwiIiJERESqqqqY\n",
       "mJh2dnZmZmYQEBDu7u4yMjJUVFTMzMyIiIi6uroAAAAs73DqAAAAAXRSTlMAQObYZgAAAVBJREFU\n",
       "KM+V0ztLw1AUwPF/bVN7+wh1EAfddbODzs0XkHZylIKgkw8cLGRyEEcbN7dmETFFcOoiYicXl4C4\n",
       "WSyOglIdHASr98ZY7CO1Zjg5yf1xObnnBP5z6e5QbEmF68DlsPV9T64sG4zWZHYSREXWtxPoH2BD\n",
       "qqeEA5+eX/p2w+AVFiFmdduFn+TeX8p59hAe+dPi1RA22JbZzVi9qtfngm38DKKbHMmYOKW8Ti7Q\n",
       "XlVkiNjsw/NIhrI7wJKSSt+hBVa5Qc7CDLaULJJNZRXcgj310nScGcepdNgpyOaV3VUAptFfRP99\n",
       "xaelrKxhHrWjaJGwx/tYxd9hNo1mswqhFlqTuFvotUI2gVv0N+/MHrwvjGaIXNQ6bbF0nBeltDyt\n",
       "omnIM24QSwf2zetYe1n2WCt026ffD1o7Wxs0k51WyJlkcqBtT2xCFRMa7h+6gy+PaWCd6nGFEQAA\n",
       "AABJRU5ErkJggg==\n",
       "\" style=\"display:inline;vertical-align:middle;\" /></a></td></tr>\n",
       "<tr><td>2</td><td>Operation</td><td>operator:&nbsp;4<br>operands:&nbsp;5<br></td><td><a class=\"ProveItLink\" href=\"../dc4fc328db6d0934b41f349bcbfcc1c9152c05f30/expr.ipynb\"><img src=\"data:image/png;base64,iVBORw0KGgoAAAANSUhEUgAAADQAAAAQBAMAAACra0H4AAAAMFBMVEX////MzMyYmJgQEBBmZmYi\n",
       "IiLu7u4yMjKqqqp2dnZUVFTc3NxERESIiIi6uroAAABe5jFNAAAAAXRSTlMAQObYZgAAAI5JREFU\n",
       "GNNjYMABjuGSYMj5hiGUDaGyVmFK9UJpXvxSfHd2313Jd/cEFilOrlqG/HkM/Vik3rEeYMi/gFUq\n",
       "If8BQ38Cgzs2ZwDFXRkYLEF89/Ly4PLyKrgUUH0IA99vNiy6LBnY/jFwFWzClOL+x8D0gYH9wgQs\n",
       "/jJg4DzAwLFWAEWKxfm7E67QwALeIpgAMDkyRlRPFPwAAAAASUVORK5CYII=\n",
       "\" style=\"display:inline;vertical-align:middle;\" /></a></td></tr>\n",
       "<tr><td>3</td><td>Literal</td><td></td><td><a class=\"ProveItLink\" href=\"../../../number/numeral/__pv_it/9176d93c83afa2c995b614976e3cb49207102fa70/expr.ipynb\"><img src=\"data:image/png;base64,iVBORw0KGgoAAAANSUhEUgAAAAoAAAAOBAMAAADkjZCYAAAAMFBMVEX///+YmJju7u4QEBBUVFQy\n",
       "MjIiIiKIiIi6urpmZmbc3NyqqqpERER2dnbMzMwAAAB0GlNiAAAAAXRSTlMAQObYZgAAAE1JREFU\n",
       "CNdjYHh79zQDA9cEhv4CBt7fDPwJDNxgEgiAIkAQAsR8Vx1ATIbiBhDJ/ImB6wEDz0cG/U8gkj+A\n",
       "ge0XA7sAQ/8FBoadM6MZAEflFACalZ/OAAAAAElFTkSuQmCC\n",
       "\" style=\"display:inline;vertical-align:middle;\" /></a></td></tr>\n",
       "<tr><td>4</td><td>Literal</td><td></td><td><a class=\"ProveItLink\" href=\"../../../number/addition/__pv_it/3e6688136fa3c7aefbebe51301b7c3ebf0b69c440/expr.ipynb\"><img src=\"data:image/png;base64,iVBORw0KGgoAAAANSUhEUgAAAA4AAAAOBAMAAADtZjDiAAAAJFBMVEX///+6urpUVFQQEBAiIiIy\n",
       "MjJmZmaIiIiqqqrc3Nzu7u4AAACgHpL+AAAAAXRSTlMAQObYZgAAAB5JREFUCNdjYGBgWMkAAe2k\n",
       "0Kmhoc6hoUGk6BMHYgAHOwjcado9fwAAAABJRU5ErkJggg==\n",
       "\" style=\"display:inline;vertical-align:middle;\" /></a></td></tr>\n",
       "<tr><td>5</td><td>ExprTuple</td><td>6, 7</td><td><a class=\"ProveItLink\" href=\"../05f49c26d95b23418b343f7f79274c4507cae0e60/expr.ipynb\"><img src=\"data:image/png;base64,iVBORw0KGgoAAAANSUhEUgAAADEAAAAVBAMAAAAdjxsPAAAAMFBMVEX////c3NwiIiJERESqqqqY\n",
       "mJh2dnZmZmYQEBDu7u4yMjJUVFTMzMyIiIi6uroAAAAs73DqAAAAAXRSTlMAQObYZgAAAPdJREFU\n",
       "KM9jYMAN+C5gEYwDEacxhC0ZGNgPAOmV6BKTfwKJBQwMvOiGzd4NkgljYOCYgK6HFyQzg4HhFQNW\n",
       "GWYHhjKg6y4L3t3Gd9cEWYatgGEpkOReyzA/j8EfWYZlAUMfA8M7JgOG+RdQZfgaGP4xMEyY/4DB\n",
       "fwJDFbIMzweQDEi4iIGhDU2mBUgBVasz8H3kRDXNlAGkmvMfA/cCUYYJcBnWBQzpDAyM/xhYPzBw\n",
       "XUjg/ITs6kdgnWwGDCx7D3D2CwADs+JXKQMD1wMGDgHkGIFzgKHDmoAkwwpn5aLFAlyGExgLDNJI\n",
       "MvAY4QYZy4gttu8wMAAA6lFC5ju7q+4AAAAASUVORK5CYII=\n",
       "\" style=\"display:inline;vertical-align:middle;\" /></a></td></tr>\n",
       "<tr><td>6</td><td>Variable</td><td></td><td><a class=\"ProveItLink\" href=\"../../../__pv_it/78af03acba5349fd70398a32ce59bae1da52f0870/expr.ipynb\"><img src=\"data:image/png;base64,iVBORw0KGgoAAAANSUhEUgAAABIAAAAJBAMAAADN8WE8AAAAMFBMVEX////MzMyYmJgQEBBmZmYi\n",
       "IiLu7u4yMjKqqqp2dnZUVFTc3NxERESIiIi6uroAAABe5jFNAAAAAXRSTlMAQObYZgAAAFtJREFU\n",
       "CNdj4Luz++5KvrsnGBg4uWoZ8ucx9DMwvGM9wJB/AcRKyH/A0J/A4M7AAKJcGRgsgSwgL4SB7zcb\n",
       "iMf2j4GrYBMD9z8Gpg8M7BcmMPAZMHAeYOBYKwAAtXMYHwtZnY0AAAAASUVORK5CYII=\n",
       "\" style=\"display:inline;vertical-align:middle;\" /></a></td></tr>\n",
       "<tr><td>7</td><td>Literal</td><td></td><td><a class=\"ProveItLink\" href=\"../../../number/numeral/__pv_it/9be8badea4c35b9724062cecc501d17a3158d1d20/expr.ipynb\"><img src=\"data:image/png;base64,iVBORw0KGgoAAAANSUhEUgAAAAgAAAAPBAMAAAArJJMAAAAAHlBMVEX///+YmJgyMjIQEBBmZmaI\n",
       "iIhUVFTu7u5EREQAAAAw+MI4AAAAAXRSTlMAQObYZgAAACFJREFUCNdjYGBoZ2BgqJjOwFCWBiQY\n",
       "WEklWJwnOTKAAACjEQo8HvEr3AAAAABJRU5ErkJggg==\n",
       "\" style=\"display:inline;vertical-align:middle;\" /></a></td></tr>\n",
       "</table>\n"
      ],
      "text/plain": [
       "0. (m + 1) + 3\n",
       "   core type: Operation\n",
       "   operator: 4\n",
       "   operands: 1\n",
       "1. (m + 1 , 3)\n",
       "   core type: ExprTuple\n",
       "   sub-expressions: 2, 3\n",
       "2. m + 1\n",
       "   core type: Operation\n",
       "   operator: 4\n",
       "   operands: 5\n",
       "3. 3\n",
       "   core type: Literal\n",
       "   sub-expressions: \n",
       "4. +\n",
       "   core type: Literal\n",
       "   sub-expressions: \n",
       "5. (m , 1)\n",
       "   core type: ExprTuple\n",
       "   sub-expressions: 6, 7\n",
       "6. m\n",
       "   core type: Variable\n",
       "   sub-expressions: \n",
       "7. 1\n",
       "   core type: Literal\n",
       "   sub-expressions: "
      ]
     },
     "execution_count": 4,
     "metadata": {},
     "output_type": "execute_result"
    }
   ],
   "source": [
    "# display the expression information\n",
    "expr.exprInfo()"
   ]
  },
  {
   "cell_type": "code",
   "execution_count": null,
   "metadata": {},
   "outputs": [],
   "source": []
  }
 ],
 "metadata": {
  "kernelspec": {
   "display_name": "Python 3",
   "language": "python",
   "name": "python3"
  }
 },
 "nbformat": 4,
 "nbformat_minor": 0
}
