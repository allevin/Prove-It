{
 "cells": [
  {
   "cell_type": "markdown",
   "metadata": {},
   "source": [
    "Show the Proof\n",
    "========"
   ]
  },
  {
   "cell_type": "code",
   "execution_count": 1,
   "metadata": {},
   "outputs": [
    {
     "data": {
      "text/html": [
       "<table><tr><th>&nbsp;</th><th>step type</th><th>requirements</th><th>statement</th></tr>\n",
       "<tr><td>0</td><td>assumption</td><td></td><td><span style=\"font-size:20px;\"><a class=\"ProveItLink\" href=\"../ab483abfcdcd007d739df6718e6174cbb66b49e50/expr.ipynb\"><img src=\"data:image/png;base64,iVBORw0KGgoAAAANSUhEUgAAANMAAAAVBAMAAAAumMZDAAAAMFBMVEX////c3NxERESqqqpUVFS6\n",
       "urrMzMwyMjIQEBCIiIh2dnYiIiLu7u5mZmaYmJgAAABXZE4RAAAAAXRSTlMAQObYZgAAAq1JREFU\n",
       "SMe1Vk1oE0EU/tL8J5ufgiAerIEi3qQHoXhqlB6sXnIRWzy4hxw8KIooQZESLRWUHoJ4CQgGVJRK\n",
       "IAiCtgjbg4i9JCcDFUo8CYIYkS2ChfjebHbDzCQmHhyY2Z3Z973vvZn33iyA5Db+dwutpvlhrPG4\n",
       "MCoqmdPXgqVhgNASv0bb/JqFcaKmSr2w5fn+5kHgo64tP5go3wU0eYgVaQhb1BuaQW1p6svi0RTC\n",
       "ur6bg6lewgE896jK1FNT7veN7jNxWYIFLMTbSFZUdVFt/za8T7fhAHpUK9TPWa7A0e4zIuuIrCBg\n",
       "wyiqiiOWuuIqwMQVOACPKsjmP9MkD5iSgvAuEnR6k6riMxhIVSEqAfCoEuzjDXyzZcnvmo74LlBV\n",
       "F7fI1vvj5ZPB8qRClUwzVdWl4gMJt8hPe/PdT1nyuEZ1iWyaFqiCaFl+XyR7A9dRf4oZheoDmGra\n",
       "tfo8xX2Eun+npPp/V6Ni5Ly6uAycjmdQL2lUFQ/A4Z2/w8FHVInfOYUqtMPj3nVur5yQzLBnKhVt\n",
       "u1XPYcZysqenwG8KKgE4RBs3bzpU8YenRCQ1C4XXhcJVjlQt1h5gABXzfALuyQo24VHFORoCdFYR\n",
       "Sqm6mZpKS0aNZZUo9jcw3t3AhPB1nb3EklMN3iL4w5AUHJmd/TXnAMRZxagejbV4Us9VJMlUS8nW\n",
       "i8Bn4Ivq1WGwP4ZNVk8owQ5KYQHwgj3W4HBLpUsy1QU5hX1rq9Van2CnBZ/NVSxcqvSjqkopXOOQ\n",
       "jW5ZkqQ3d5Oq0+mQ4DWV6iwpKCKWgX/OVKiedLYdQK8w3eqf7P1an8KUHlgtPECP6qsk+dfLK6YV\n",
       "V70AL2gAQZV0L5ER2/t/ukRcgMg4441zFY3ajulLe4YCQsuO/49p2DcqU9TU13ylIQDxb/EHBVe5\n",
       "2FbY0C0AAAAASUVORK5CYII=\n",
       "\" style=\"display:inline;vertical-align:middle;\" /></a> <a class=\"ProveItLink\" href=\"proof.ipynb\" style=\"text-decoration: none\">&#x22A2;&nbsp;</a><a class=\"ProveItLink\" href=\"../26d8725ed699b4aa08ddb67821297c691618ebf60/expr.ipynb\"><img src=\"data:image/png;base64,iVBORw0KGgoAAAANSUhEUgAAAL0AAAAVBAMAAADhtvKAAAAAMFBMVEX////c3NwiIiJERESqqqqY\n",
       "mJh2dnZmZmYQEBDu7u4yMjJUVFTMzMyIiIi6uroAAAAs73DqAAAAAXRSTlMAQObYZgAAAk9JREFU\n",
       "OMu1lU9oE0EUxr9ps5ud1qSL11Is9uRBEw+evOTmQcF46cGDLgiVHgqhgkIvUfHgH5Q9Foo0VERc\n",
       "EXO1PcS7iAEPFqwweFKhtEqsFGLqm2k2ODNZsx4cCOy8N98vb968NwP875Fvpl15oY9tc6DgNbB0\n",
       "0/S4BaHN2bVHAtlXFuFAPRFOLiV4Sr8nlveiPh1HrgXUrGUjYSJ/qKgEOZmeVmzkfvdjQV/8EigA\n",
       "0xbko2noAbBeVAKPIsjvxsZMfBj3ddntEA2BRYt/xzT0AOw88UnwVWa7ZrpZW5e9CFEVGC6ZtVFL\n",
       "5LsjxCfBVZnFwKkKze1sW6EWQrgVw5YNqIKOT3wINt+VDP45ySfBY/pe/jK7VdLco0WrHHbIq8Jd\n",
       "iOR4po63DASrTb4jMts6nzclnwQPaHL2jbk9z2oKuTx/3TB6AnkxBf4LJt+NBR2aVI+Z/LeyctnK\n",
       "YTn2M3dF7sHM2pgA5x1kdpGt6YAzik8CyT+6dERlM4pW7kaRbJl1M/xcPYGv4JPwAg3Ag5h/iyZt\n",
       "tJj+9ye5QToF5nfzM692NaXyQ6dGkQ9VsOWHfwIya2uNe00pOCGLhXdcnf/DNU63AseHY5bjMJ0v\n",
       "Rb4ssMrKev3Ao/hJcFkVy7eczm8/1EEHZ2bmYdenNBwS8jJ5bgS4zyf/J1Vl72d1dzzvFf/e3nda\n",
       "KMz+mgQ+A5eA0xtmfzV+lqXA8/u2X99h3w83Evs3FjhB+sdgzrJM//01mevez+kG/6f7ORaMp+aP\n",
       "+paJ1QcKWOr3caOPbWKA4DfQ8aun0XttXQAAAABJRU5ErkJggg==\n",
       "\" style=\"display:inline;vertical-align:middle;\" /></a></span></td></tr>\n",
       "</table>"
      ],
      "text/plain": [
       "<proveit._core_.proof._ShowProof at 0x7fe03fc2e198>"
      ]
     },
     "execution_count": 1,
     "metadata": {},
     "output_type": "execute_result"
    }
   ],
   "source": [
    "import proveit\n",
    "%show_proof"
   ]
  },
  {
   "cell_type": "code",
   "execution_count": null,
   "metadata": {},
   "outputs": [],
   "source": []
  }
 ],
 "metadata": {
  "kernelspec": {
   "display_name": "Python 3",
   "language": "python",
   "name": "python3"
  }
 },
 "nbformat": 4,
 "nbformat_minor": 0
}
