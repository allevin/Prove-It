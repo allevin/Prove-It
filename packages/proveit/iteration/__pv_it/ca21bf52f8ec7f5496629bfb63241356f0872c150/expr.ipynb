{
 "cells": [
  {
   "cell_type": "markdown",
   "metadata": {},
   "source": [
    "Expression of type <a class=\"ProveItLink\" href=\"../../../../../doc/html/api/proveit.Variable.html\">Variable</a>\n",
    "=======================\n",
    "# from context <a class=\"ProveItLink\" href=\"../../_context_.ipynb\">proveit.iteration</a>"
   ]
  },
  {
   "cell_type": "code",
   "execution_count": 1,
   "metadata": {},
   "outputs": [],
   "source": [
    "# import Expression classes needed to build the expression\n",
    "from proveit import Variable"
   ]
  },
  {
   "cell_type": "code",
   "execution_count": 2,
   "metadata": {},
   "outputs": [
    {
     "data": {
      "text/html": [
       "<strong id=\"expr\">expr:</strong> <a class=\"ProveItLink\" href=\"expr.ipynb\"><img src=\"data:image/png;base64,iVBORw0KGgoAAAANSUhEUgAAACMAAAANBAMAAADRUcosAAAAMFBMVEX///+YmJhUVFQyMjIQEBAi\n",
       "IiLMzMyIiIi6urrc3NxmZmZ2dnbu7u5ERESqqqoAAACio3w8AAAAAXRSTlMAQObYZgAAAGhJREFU\n",
       "CNdjYICA06sZOP8woIAN/QzsH1BE2B4sZeC9gCLEw+DOwF+AqpHvD0N+AqoQlwFDCaoIA/MChkto\n",
       "QlwKHB9h7Ld3geAAA8/1qp8wNhxwB6BpVGU48gBNKJrhNpoIw/OqBhgTACmkHt67K+Q0AAAAAElF\n",
       "TkSuQmCC\n",
       "\" style=\"display:inline;vertical-align:middle;\" /></a><br>"
      ],
      "text/plain": [
       "expr: _y_"
      ]
     },
     "execution_count": 2,
     "metadata": {},
     "output_type": "execute_result"
    }
   ],
   "source": [
    "# build up the expression from sub-expressions\n",
    "expr = Variable(\"_y_\", latexFormat = r\"{_{-}y_{-}}\")"
   ]
  },
  {
   "cell_type": "code",
   "execution_count": 3,
   "metadata": {},
   "outputs": [
    {
     "name": "stdout",
     "output_type": "stream",
     "text": [
      "Passed sanity check: built 'expr' is the same as the stored Expression.\n"
     ]
    }
   ],
   "source": [
    "# check that the built expression is the same as the stored expression\n",
    "%check_expr"
   ]
  },
  {
   "cell_type": "code",
   "execution_count": 4,
   "metadata": {},
   "outputs": [
    {
     "data": {
      "text/html": [
       "<table><tr><th>&nbsp;</th><th>core type</th><th>sub-expressions</th><th>expression</th></tr>\n",
       "<tr><td>0</td><td>Variable</td><td></td><td><a class=\"ProveItLink\" href=\"expr.ipynb\"><img src=\"data:image/png;base64,iVBORw0KGgoAAAANSUhEUgAAACMAAAANBAMAAADRUcosAAAAMFBMVEX///+YmJhUVFQyMjIQEBAi\n",
       "IiLMzMyIiIi6urrc3NxmZmZ2dnbu7u5ERESqqqoAAACio3w8AAAAAXRSTlMAQObYZgAAAGhJREFU\n",
       "CNdjYICA06sZOP8woIAN/QzsH1BE2B4sZeC9gCLEw+DOwF+AqpHvD0N+AqoQlwFDCaoIA/MChkto\n",
       "QlwKHB9h7Ld3geAAA8/1qp8wNhxwB6BpVGU48gBNKJrhNpoIw/OqBhgTACmkHt67K+Q0AAAAAElF\n",
       "TkSuQmCC\n",
       "\" style=\"display:inline;vertical-align:middle;\" /></a></td></tr>\n",
       "</table>\n"
      ],
      "text/plain": [
       "0. _y_\n",
       "   core type: Variable\n",
       "   sub-expressions: "
      ]
     },
     "execution_count": 4,
     "metadata": {},
     "output_type": "execute_result"
    }
   ],
   "source": [
    "# display the expression information\n",
    "expr.exprInfo()"
   ]
  },
  {
   "cell_type": "code",
   "execution_count": null,
   "metadata": {},
   "outputs": [],
   "source": []
  }
 ],
 "metadata": {
  "kernelspec": {
   "display_name": "Python 3",
   "language": "python",
   "name": "python3"
  }
 },
 "nbformat": 4,
 "nbformat_minor": 0
}
