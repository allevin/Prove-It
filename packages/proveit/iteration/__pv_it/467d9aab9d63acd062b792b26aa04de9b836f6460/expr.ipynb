{
 "cells": [
  {
   "cell_type": "markdown",
   "metadata": {},
   "source": [
    "Expression of type <a class=\"ProveItLink\" href=\"../../../../../doc/html/api/proveit.ExprTuple.html\">ExprTuple</a>\n",
    "=======================\n",
    "# from context <a class=\"ProveItLink\" href=\"../../_context_.ipynb\">proveit.iteration</a>"
   ]
  },
  {
   "cell_type": "code",
   "execution_count": 1,
   "metadata": {},
   "outputs": [],
   "source": [
    "# import Expression classes needed to build the expression\n",
    "from proveit import ExprTuple\n",
    "from proveit._common_ import k, l, m\n",
    "from proveit.number import Add, Neg, five, one"
   ]
  },
  {
   "cell_type": "code",
   "execution_count": 2,
   "metadata": {},
   "outputs": [
    {
     "data": {
      "text/html": [
       "<strong id=\"expr\">expr:</strong> <a class=\"ProveItLink\" href=\"expr.ipynb\"><img src=\"data:image/png;base64,iVBORw0KGgoAAAANSUhEUgAAAJsAAAAVBAMAAACj9YEXAAAAMFBMVEX////c3NwiIiJERESqqqqY\n",
       "mJh2dnZmZmYQEBDu7u4yMjJUVFTMzMyIiIi6uroAAAAs73DqAAAAAXRSTlMAQObYZgAAAf5JREFU\n",
       "OMutlEFIG0EUhv/ommSNMXsrVEqlvfSkteBBvORehJwqXuxCBWmxNJdasYdq8SS0rBSKUNqEgoWO\n",
       "CGIvopfce3DBgxZbGD1JIRjFCkrUvrdswBmza5DMYd5783a+fe/NvAHqPFrdepEGefoJmMvtmifa\n",
       "KbWVnlBS80BkCLECad/Zyur+x5r94TgUFz8/t4E8kORcU+nK+owvx9XPP61Wx5mWH93rEZofEdch\n",
       "uedU/H2+fKftS1bHGX7hE948C/xl+QwaLlK+Dq4xjVGW39B/puCaSkG4YtetLbu4ntZwf7bo7KJZ\n",
       "zHEFzj5+OVRwiftBOHvFNY+kUVJxjY5J8Rh5vOfFsqslG3cDcK3yLsxT6Dgay+ScACcZO5Aabo2v\n",
       "EG7e4dFxEWdSFMYxYvlLuBcFtJQ8XMOvJe9ox4W4J8Q8aZsISpZZ7YjbHIUQX6eFWCT1AeEk46bI\n",
       "yBVSaUuJrtcMwlFcDVnsWY4S3VvgjcXJdnstkJO2gvsXrYLzfkFx5SRWIhkFR10l6D7kMUzGD6Qs\n",
       "V8GVP1fB5bizb0tuwIWoWrsbMCa9i7JDxhySo46C23iq0mJjJy8xu0/aLvAEePhbxbW8WqVqNUvE\n",
       "LWVfX1ijbwd2BSpN1mQr/mIYLnPFY/ncf6BqHJlwt8mXsa1mWvIKf4LrFqnb407H8x/VJ5EKOXvW\n",
       "OgAAAABJRU5ErkJggg==\n",
       "\" style=\"display:inline;vertical-align:middle;\" /></a><br>"
      ],
      "text/plain": [
       "expr: (k + l - 1 , m + 5)"
      ]
     },
     "execution_count": 2,
     "metadata": {},
     "output_type": "execute_result"
    }
   ],
   "source": [
    "# build up the expression from sub-expressions\n",
    "expr = ExprTuple(Add(k, l, Neg(one)), Add(m, five))"
   ]
  },
  {
   "cell_type": "code",
   "execution_count": 3,
   "metadata": {},
   "outputs": [
    {
     "name": "stdout",
     "output_type": "stream",
     "text": [
      "Passed sanity check: built 'expr' is the same as the stored Expression.\n"
     ]
    }
   ],
   "source": [
    "# check that the built expression is the same as the stored expression\n",
    "%check_expr"
   ]
  },
  {
   "cell_type": "code",
   "execution_count": 4,
   "metadata": {},
   "outputs": [
    {
     "data": {
      "text/html": [
       "<table><tr><th>&nbsp;</th><th>core type</th><th>sub-expressions</th><th>expression</th></tr>\n",
       "<tr><td>0</td><td>ExprTuple</td><td>1, 2</td><td><a class=\"ProveItLink\" href=\"expr.ipynb\"><img src=\"data:image/png;base64,iVBORw0KGgoAAAANSUhEUgAAAJsAAAAVBAMAAACj9YEXAAAAMFBMVEX////c3NwiIiJERESqqqqY\n",
       "mJh2dnZmZmYQEBDu7u4yMjJUVFTMzMyIiIi6uroAAAAs73DqAAAAAXRSTlMAQObYZgAAAf5JREFU\n",
       "OMutlEFIG0EUhv/ommSNMXsrVEqlvfSkteBBvORehJwqXuxCBWmxNJdasYdq8SS0rBSKUNqEgoWO\n",
       "CGIvopfce3DBgxZbGD1JIRjFCkrUvrdswBmza5DMYd5783a+fe/NvAHqPFrdepEGefoJmMvtmifa\n",
       "KbWVnlBS80BkCLECad/Zyur+x5r94TgUFz8/t4E8kORcU+nK+owvx9XPP61Wx5mWH93rEZofEdch\n",
       "uedU/H2+fKftS1bHGX7hE948C/xl+QwaLlK+Dq4xjVGW39B/puCaSkG4YtetLbu4ntZwf7bo7KJZ\n",
       "zHEFzj5+OVRwiftBOHvFNY+kUVJxjY5J8Rh5vOfFsqslG3cDcK3yLsxT6Dgay+ScACcZO5Aabo2v\n",
       "EG7e4dFxEWdSFMYxYvlLuBcFtJQ8XMOvJe9ox4W4J8Q8aZsISpZZ7YjbHIUQX6eFWCT1AeEk46bI\n",
       "yBVSaUuJrtcMwlFcDVnsWY4S3VvgjcXJdnstkJO2gvsXrYLzfkFx5SRWIhkFR10l6D7kMUzGD6Qs\n",
       "V8GVP1fB5bizb0tuwIWoWrsbMCa9i7JDxhySo46C23iq0mJjJy8xu0/aLvAEePhbxbW8WqVqNUvE\n",
       "LWVfX1ijbwd2BSpN1mQr/mIYLnPFY/ncf6BqHJlwt8mXsa1mWvIKf4LrFqnb407H8x/VJ5EKOXvW\n",
       "OgAAAABJRU5ErkJggg==\n",
       "\" style=\"display:inline;vertical-align:middle;\" /></a></td></tr>\n",
       "<tr><td>1</td><td>Operation</td><td>operator:&nbsp;4<br>operands:&nbsp;3<br></td><td><a class=\"ProveItLink\" href=\"../0991c44767f3b7fd83fb1711614011806433f2bf0/expr.ipynb\"><img src=\"data:image/png;base64,iVBORw0KGgoAAAANSUhEUgAAAE0AAAAQBAMAAAChN++qAAAAMFBMVEX///9ERETc3NyIiIjMzMyY\n",
       "mJh2dna6urqqqqpmZmYyMjIiIiIQEBBUVFTu7u4AAAD6+w4kAAAAAXRSTlMAQObYZgAAAMZJREFU\n",
       "KM9j4LuzgQENZH9HE2B8ACS4JqCrY/2AyueTB6njb4DxH0FpzgWoyu7eB6mrfwATaIbSPAZoFtiD\n",
       "lGQxoKvTd8CmbhlD5HdUdfEMWNTxfX/2/AequovY1HF8MUC39zA2dZy/C9DUsXwBkVq7QWA7XB23\n",
       "3W2wh2etWrVn1aq1QBbzAWzmvXfgb1BAMY/xwgMs6uIZ3hckoKjjD0jAou4iA7+CAao6P2zhvJSB\n",
       "edoDFHVwPgzMPL8yAJnfzEAcKMYjBwD49URicKJShQAAAABJRU5ErkJggg==\n",
       "\" style=\"display:inline;vertical-align:middle;\" /></a></td></tr>\n",
       "<tr><td>2</td><td>Operation</td><td>operator:&nbsp;4<br>operands:&nbsp;5<br></td><td><a class=\"ProveItLink\" href=\"../3df01cdb37d0ec47a6df05b282ef25f2ea4763a10/expr.ipynb\"><img src=\"data:image/png;base64,iVBORw0KGgoAAAANSUhEUgAAADUAAAAQBAMAAABEqSrGAAAAMFBMVEX////MzMyYmJgQEBBmZmYi\n",
       "IiLu7u4yMjKqqqp2dnZUVFTc3NxERESIiIi6uroAAABe5jFNAAAAAXRSTlMAQObYZgAAAL1JREFU\n",
       "GNNjYMAK2NW4ZzDgAMz//0/AEMyG6vOaiKmhF0JxYTMMRY7vzu67K/nunkCTu3vrAQMDJ1ctQ/48\n",
       "hn5UOZ4Etn8MDO9YDzDkX0CXA4LFDAwJ+Q8Y+hMY3DHk5gswgCRcGRgsQVz38vLg8vIqIOsoUA5o\n",
       "IVBHCAPfbzYUfaYMDP4bQDqA1nIVbEKRc2BgKGdg4P7HwPSBgf3CBBS5LQwc1kD/GTBwHmDgWCuA\n",
       "IsfosmoDrnDBCt4isQH3ajL1H4bdbAAAAABJRU5ErkJggg==\n",
       "\" style=\"display:inline;vertical-align:middle;\" /></a></td></tr>\n",
       "<tr><td>3</td><td>ExprTuple</td><td>6, 7, 8</td><td><a class=\"ProveItLink\" href=\"../30dde2c6cfed41ae1c073cf0503017645a13a3530/expr.ipynb\"><img src=\"data:image/png;base64,iVBORw0KGgoAAAANSUhEUgAAAEsAAAAVBAMAAAD85A5eAAAAMFBMVEX////c3NwiIiJERESqqqqY\n",
       "mJh2dnZmZmYQEBDu7u4yMjJUVFTMzMyIiIi6uroAAAAs73DqAAAAAXRSTlMAQObYZgAAATdJREFU\n",
       "KM9jYCAS8F0gpCIORJxmYJjdBBNh03+ApsaSgYH9AJBeCcTL4aLxaKom/wQSCxgYeEF2foELV6Gq\n",
       "mr0bpCyMgYFjAtB5P+HivWim8YKkZjAwvAK5aAFMlPEPNmXMDgxlQIorgbUe4nTWD9iUsRUwLAVS\n",
       "819mvncAi3IbYFPGsoChD0j5n4WJclzApoyvgeEfkKrXg4mePwChpZRAQA+qjOcDWJnubE2oshsM\n",
       "2EwDKmthYOD8w/CFESJqzYnDUlOQ9zj/sTEwAAOQ4SsbAyemMtYFDOlg733kZeD8BBT4M5dhvgK2\n",
       "AHkEDLYAhuuZDJz9AgwgesZHJFXsFb9KgQoeMHAIwFMUlPUQIyUBI4s1AcZhhdIBGMpyoQkJvzJO\n",
       "UJRLw3jQCODFMIwb5BpGgon8DgMDAEdjT06d7oHmAAAAAElFTkSuQmCC\n",
       "\" style=\"display:inline;vertical-align:middle;\" /></a></td></tr>\n",
       "<tr><td>4</td><td>Literal</td><td></td><td><a class=\"ProveItLink\" href=\"../../../number/addition/__pv_it/3e6688136fa3c7aefbebe51301b7c3ebf0b69c440/expr.ipynb\"><img src=\"data:image/png;base64,iVBORw0KGgoAAAANSUhEUgAAAA4AAAAOBAMAAADtZjDiAAAAJFBMVEX///+6urpUVFQQEBAiIiIy\n",
       "MjJmZmaIiIiqqqrc3Nzu7u4AAACgHpL+AAAAAXRSTlMAQObYZgAAAB5JREFUCNdjYGBgWMkAAe2k\n",
       "0Kmhoc6hoUGk6BMHYgAHOwjcado9fwAAAABJRU5ErkJggg==\n",
       "\" style=\"display:inline;vertical-align:middle;\" /></a></td></tr>\n",
       "<tr><td>5</td><td>ExprTuple</td><td>9, 10</td><td><a class=\"ProveItLink\" href=\"../b1abbbdf9d376c40030182623d3b2473e6c40e9d0/expr.ipynb\"><img src=\"data:image/png;base64,iVBORw0KGgoAAAANSUhEUgAAADEAAAAVBAMAAAAdjxsPAAAAMFBMVEX////c3NwiIiJERESqqqqY\n",
       "mJh2dnZmZmYQEBDu7u4yMjJUVFTMzMyIiIi6uroAAAAs73DqAAAAAXRSTlMAQObYZgAAARpJREFU\n",
       "KM91kT1LxEAQhp94yXlJzpArxMIfYHuI9v6D6wQbSSHYeHpYKGjhB2KpKe2SxkLBVgQR0tsELDUQ\n",
       "LC3k9AfcOZvTJYS4xcvMPMPs7L7w//HSmuK6kudK0VkzNphOJLqpkNZ4HEAMM9VhzuGW6Kq0hBXi\n",
       "FnoFH9SSxgp7st1LJ7v3sqVfkr3m0BxwLereEW3Tm5BGaI/AjLmAz6kuUfpH5DzInGOEh1FOL+RA\n",
       "k52E9lARVd6F80l5UUiuyJkk0r2A92UX5BSOfDVtGdUtl7rxLOptA7gFK2YTjBHWECcN7G8hc5gn\n",
       "xdbvxR7NLuZTYl/60N5/FHVyWn7ZEZ3I71hBiVg66ldc0MQWF5gvEe2Iq8YadW6/wQ/ihUKX+QuI\n",
       "hQAAAABJRU5ErkJggg==\n",
       "\" style=\"display:inline;vertical-align:middle;\" /></a></td></tr>\n",
       "<tr><td>6</td><td>Variable</td><td></td><td><a class=\"ProveItLink\" href=\"../../../__pv_it/1a7356cf6caf039e07a5436d90e972cbb5e92b0a0/expr.ipynb\"><img src=\"data:image/png;base64,iVBORw0KGgoAAAANSUhEUgAAAAoAAAAOBAMAAADkjZCYAAAAMFBMVEX///9ERETc3NyIiIjMzMyY\n",
       "mJh2dna6urqqqqpmZmYyMjIiIiIQEBBUVFTu7u4AAAD6+w4kAAAAAXRSTlMAQObYZgAAAFBJREFU\n",
       "CNdj4LuzgQEIuCaASP4GEFn/AERmgQiGZQyR3xn4vj97/oOB44sBUIDzdwGQ5La7DVT03oG/QYEh\n",
       "nuF9QQLDRQZ+BQOGpQzM0x4AAD+VFjuIiDKbAAAAAElFTkSuQmCC\n",
       "\" style=\"display:inline;vertical-align:middle;\" /></a></td></tr>\n",
       "<tr><td>7</td><td>Variable</td><td></td><td><a class=\"ProveItLink\" href=\"../../../__pv_it/3e5d49a51123592869b160296a6e123a424e07a70/expr.ipynb\"><img src=\"data:image/png;base64,iVBORw0KGgoAAAANSUhEUgAAAAYAAAAOBAMAAAD+sXAWAAAALVBMVEX////u7u5ERERUVFTMzMzc\n",
       "3NyIiIgQEBAyMjJmZmaYmJi6uroiIiJ2dnYAAACuOh6BAAAAAXRSTlMAQObYZgAAAD9JREFUCNdj\n",
       "YLjzmoGB6wEDA2cDAwN7AgNDnAMDwzoGBgYjIC5jYGB5wsDAVsDAwGQgwMC34AIDn2MCA9tcAQAo\n",
       "GAoWIEgceAAAAABJRU5ErkJggg==\n",
       "\" style=\"display:inline;vertical-align:middle;\" /></a></td></tr>\n",
       "<tr><td>8</td><td>Operation</td><td>operator:&nbsp;11<br>operand:&nbsp;12<br></td><td><a class=\"ProveItLink\" href=\"../27bb768acc4707a63c4de5a0b22e13dfe76b5c980/expr.ipynb\"><img src=\"data:image/png;base64,iVBORw0KGgoAAAANSUhEUgAAABgAAAAPBAMAAAAMihLoAAAAJ1BMVEX///+YmJgQEBBmZmaIiIhU\n",
       "VFTu7u5ERES6uroiIiIyMjLc3NwAAAAKCT4sAAAAAXRSTlMAQObYZgAAACpJREFUCNdjYICDMgST\n",
       "If0Ygp0aisRhYCGTs2smCMwg3wAYYDY6ZciADABBShCHMIgXsAAAAABJRU5ErkJggg==\n",
       "\" style=\"display:inline;vertical-align:middle;\" /></a></td></tr>\n",
       "<tr><td>9</td><td>Variable</td><td></td><td><a class=\"ProveItLink\" href=\"../../../__pv_it/78af03acba5349fd70398a32ce59bae1da52f0870/expr.ipynb\"><img src=\"data:image/png;base64,iVBORw0KGgoAAAANSUhEUgAAABIAAAAJBAMAAADN8WE8AAAAMFBMVEX////MzMyYmJgQEBBmZmYi\n",
       "IiLu7u4yMjKqqqp2dnZUVFTc3NxERESIiIi6uroAAABe5jFNAAAAAXRSTlMAQObYZgAAAFtJREFU\n",
       "CNdj4Luz++5KvrsnGBg4uWoZ8ucx9DMwvGM9wJB/AcRKyH/A0J/A4M7AAKJcGRgsgSwgL4SB7zcb\n",
       "iMf2j4GrYBMD9z8Gpg8M7BcmMPAZMHAeYOBYKwAAtXMYHwtZnY0AAAAASUVORK5CYII=\n",
       "\" style=\"display:inline;vertical-align:middle;\" /></a></td></tr>\n",
       "<tr><td>10</td><td>Literal</td><td></td><td><a class=\"ProveItLink\" href=\"../../../number/numeral/__pv_it/aaeeaca7d86eb2b7cdc49e25c3108b81b52ec5400/expr.ipynb\"><img src=\"data:image/png;base64,iVBORw0KGgoAAAANSUhEUgAAAAkAAAAOBAMAAAAPuiubAAAAMFBMVEX///8iIiJERES6urqIiIjM\n",
       "zMxUVFRmZmYQEBCqqqp2dnbc3Nzu7u6YmJgyMjIAAADYGhJvAAAAAXRSTlMAQObYZgAAAE1JREFU\n",
       "CNdj4LvDvZKBgeP//wUMDHxlSxkYGNgYGBCki5sBAwPTAZ7PYG4GmFwfwKAIJA0YGhkY6jcwFDAw\n",
       "vGNg2M7A2c3AwFqetoEBAKS8EE1WXEJLAAAAAElFTkSuQmCC\n",
       "\" style=\"display:inline;vertical-align:middle;\" /></a></td></tr>\n",
       "<tr><td>11</td><td>Literal</td><td></td><td><a class=\"ProveItLink\" href=\"../../../number/negation/__pv_it/3fc7a08bb9735faa20ef8e175f6ea95511acc9c70/expr.ipynb\"><img src=\"data:image/png;base64,iVBORw0KGgoAAAANSUhEUgAAAA4AAAACBAMAAACapPCZAAAAElBMVEX///+6uroiIiIyMjLc3NwA\n",
       "AAA6l9OrAAAAAXRSTlMAQObYZgAAABBJREFUCNdjcFYCAUUGKAAADR4BD8/TF5gAAAAASUVORK5C\n",
       "YII=\n",
       "\" style=\"display:inline;vertical-align:middle;\" /></a></td></tr>\n",
       "<tr><td>12</td><td>Literal</td><td></td><td><a class=\"ProveItLink\" href=\"../../../number/numeral/__pv_it/9be8badea4c35b9724062cecc501d17a3158d1d20/expr.ipynb\"><img src=\"data:image/png;base64,iVBORw0KGgoAAAANSUhEUgAAAAgAAAAPBAMAAAArJJMAAAAAHlBMVEX///+YmJgyMjIQEBBmZmaI\n",
       "iIhUVFTu7u5EREQAAAAw+MI4AAAAAXRSTlMAQObYZgAAACFJREFUCNdjYGBoZ2BgqJjOwFCWBiQY\n",
       "WEklWJwnOTKAAACjEQo8HvEr3AAAAABJRU5ErkJggg==\n",
       "\" style=\"display:inline;vertical-align:middle;\" /></a></td></tr>\n",
       "</table>\n"
      ],
      "text/plain": [
       "0. (k + l - 1 , m + 5)\n",
       "   core type: ExprTuple\n",
       "   sub-expressions: 1, 2\n",
       "1. k + l - 1\n",
       "   core type: Operation\n",
       "   operator: 4\n",
       "   operands: 3\n",
       "2. m + 5\n",
       "   core type: Operation\n",
       "   operator: 4\n",
       "   operands: 5\n",
       "3. (k , l , -1)\n",
       "   core type: ExprTuple\n",
       "   sub-expressions: 6, 7, 8\n",
       "4. +\n",
       "   core type: Literal\n",
       "   sub-expressions: \n",
       "5. (m , 5)\n",
       "   core type: ExprTuple\n",
       "   sub-expressions: 9, 10\n",
       "6. k\n",
       "   core type: Variable\n",
       "   sub-expressions: \n",
       "7. l\n",
       "   core type: Variable\n",
       "   sub-expressions: \n",
       "8. -1\n",
       "   core type: Operation\n",
       "   operator: 11\n",
       "   operand: 12\n",
       "9. m\n",
       "   core type: Variable\n",
       "   sub-expressions: \n",
       "10. 5\n",
       "    core type: Literal\n",
       "    sub-expressions: \n",
       "11. -\n",
       "    core type: Literal\n",
       "    sub-expressions: \n",
       "12. 1\n",
       "    core type: Literal\n",
       "    sub-expressions: "
      ]
     },
     "execution_count": 4,
     "metadata": {},
     "output_type": "execute_result"
    }
   ],
   "source": [
    "# display the expression information\n",
    "expr.exprInfo()"
   ]
  },
  {
   "cell_type": "code",
   "execution_count": null,
   "metadata": {},
   "outputs": [],
   "source": []
  }
 ],
 "metadata": {
  "kernelspec": {
   "display_name": "Python 3",
   "language": "python",
   "name": "python3"
  }
 },
 "nbformat": 4,
 "nbformat_minor": 0
}
