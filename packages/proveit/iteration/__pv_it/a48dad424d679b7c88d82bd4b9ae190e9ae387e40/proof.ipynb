{
 "cells": [
  {
   "cell_type": "markdown",
   "metadata": {},
   "source": [
    "Show the Proof\n",
    "========"
   ]
  },
  {
   "cell_type": "code",
   "execution_count": 1,
   "metadata": {},
   "outputs": [
    {
     "data": {
      "text/html": [
       "<table><tr><th>&nbsp;</th><th>step type</th><th>requirements</th><th>statement</th></tr>\n",
       "<tr><td>0</td><td>assumption</td><td></td><td><span style=\"font-size:20px;\"><a class=\"ProveItLink\" href=\"../c3c1a1e831e450b61c8f6563185c1593c59aefed0/expr.ipynb\"><img src=\"data:image/png;base64,iVBORw0KGgoAAAANSUhEUgAAAEMAAAAVBAMAAADvM06qAAAAMFBMVEX///9ERETc3NyqqqpUVFS6\n",
       "urrMzMwyMjIQEBCIiIh2dnYiIiLu7u5mZmaYmJgAAABJJ2g3AAAAAXRSTlMAQObYZgAAASpJREFU\n",
       "KM9jYGDgu8eAC7CtUgBRPLsYcAO2ZhDJ+QFE8n1Ck+Tx2ACiroMIrgawEge4JOdWMMV+AUSuQChB\n",
       "gFM7ITS/AS4lZ/dBGfEHcChRKYaxljOgKjk5EayHIaUUrriK4e1XqBLeAiCxgPsBiH1QDOGjr6eO\n",
       "fmZgeA9iZwQAPXGAH6yEc+cBmBLmbxNg/kppAzKYGOLBwcjAtwumhvd3AJgWB+qNSACxVsM010LU\n",
       "MnDP8Qap5l4AJFhAbmGohVnAWgLWwnA+gd9AAeoWLlBA83xGRIsgWM17hvMBC5A9zfwHKepcQaQj\n",
       "A7/CBGQlvBvQ47iOgfPWAWQl3BdwpAaYElYF/QR8SvgaGPIvyEIEtHeDwFYkJeD0wrOT4eDaB7hS\n",
       "XSskRBfjT7sA0hhSrqH+t2IAAAAASUVORK5CYII=\n",
       "\" style=\"display:inline;vertical-align:middle;\" /></a> <a class=\"ProveItLink\" href=\"proof.ipynb\" style=\"text-decoration: none\">&#x22A2;&nbsp;</a><a class=\"ProveItLink\" href=\"../24dd000d26c82338423550ea319d11d3731639be0/expr.ipynb\"><img src=\"data:image/png;base64,iVBORw0KGgoAAAANSUhEUgAAADIAAAASBAMAAADrvZC0AAAAMFBMVEX///8QEBDMzMyqqqpmZmYy\n",
       "MjK6uroiIiJ2dnZERESIiIju7u5UVFTc3NyYmJgAAACtHSfyAAAAAXRSTlMAQObYZgAAANBJREFU\n",
       "GNNjYGBg4PvLgAq4DxZAGHwH4GJcZWCK1QFNLcOOKgjNb4AmsaUOysjfgCpxJxjGaoVQu1ZCVOiE\n",
       "wdVEMDz5BqQa2B+AeDsnIdz2bce2z0DnbOAHy3BVwQ1n/rQARPEy5F+AOL4CJsXyPQHCaIcpDYEo\n",
       "YWBffRyiKARmCluMApjer8BvAFLE/RluNdNMsNR7hv0JDSBDfiO8xHQMRJ5k4L8AcgNLAXogxTFw\n",
       "eYAsYscIPqitF+4rYJfRd5gCYVwvB4EyhMzOlgfYtQAAz9I2G+72pVAAAAAASUVORK5CYII=\n",
       "\" style=\"display:inline;vertical-align:middle;\" /></a></span></td></tr>\n",
       "</table>"
      ],
      "text/plain": [
       "<proveit._core_.proof._ShowProof at 0x7fe03fca38d0>"
      ]
     },
     "execution_count": 1,
     "metadata": {},
     "output_type": "execute_result"
    }
   ],
   "source": [
    "import proveit\n",
    "%show_proof"
   ]
  },
  {
   "cell_type": "code",
   "execution_count": null,
   "metadata": {},
   "outputs": [],
   "source": []
  }
 ],
 "metadata": {
  "kernelspec": {
   "display_name": "Python 3",
   "language": "python",
   "name": "python3"
  }
 },
 "nbformat": 4,
 "nbformat_minor": 0
}
