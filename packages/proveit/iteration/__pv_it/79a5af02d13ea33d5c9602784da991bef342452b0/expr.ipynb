{
 "cells": [
  {
   "cell_type": "markdown",
   "metadata": {},
   "source": [
    "Expression of type <a class=\"ProveItLink\" href=\"../../../../../doc/html/api/proveit.ExprTuple.html\">ExprTuple</a>\n",
    "=======================\n",
    "# from context <a class=\"ProveItLink\" href=\"../../_context_.ipynb\">proveit.iteration</a>"
   ]
  },
  {
   "cell_type": "code",
   "execution_count": 1,
   "metadata": {},
   "outputs": [],
   "source": [
    "# import Expression classes needed to build the expression\n",
    "from proveit import ExprTuple, Indexed\n",
    "from proveit._common_ import aa, bb, q"
   ]
  },
  {
   "cell_type": "code",
   "execution_count": 2,
   "metadata": {},
   "outputs": [
    {
     "data": {
      "text/html": [
       "<strong id=\"expr\">expr:</strong> <a class=\"ProveItLink\" href=\"expr.ipynb\"><img src=\"data:image/png;base64,iVBORw0KGgoAAAANSUhEUgAAAD8AAAAWBAMAAACF0lkSAAAAMFBMVEX////c3NwiIiJERESqqqqY\n",
       "mJh2dnZmZmYQEBDu7u4yMjJUVFTMzMyIiIi6uroAAAAs73DqAAAAAXRSTlMAQObYZgAAAX1JREFU\n",
       "KM+FUjtPwmAUPRUrlFe7OTgUGV1kMTEmRv6BDMbBQViMk4HJjbSDiyERwmRcqIODCUndXDsaXYgk\n",
       "GhOHxsXECQiIEqHelr6wgx2+e+6X893HOQX+/ZKtvze8kbLRvnk8BJ7E1RsbhTU6roNFqzkHKUAi\n",
       "0AGMIThwF4jUAgT2y4XnwIcZH9PtlEeI9TYq9rNQFscU6hOoskeIjISGzV8o4YqCWkAx4xHELub6\n",
       "Uziv4Ix60lCqb9ZtGfzYFknGBIj2AEPzCFIG4sCWpGMS+CHihm+L1RbyXZdwQoQBEiNWZ8oH2alO\n",
       "GrYULD7tWC3WaOoJQsOoUBdEAeZ6qsAZGrfMUBVWwSGJ+Yni+B63uANH4yCfu+gjVorL1ppvpk4r\n",
       "L+uXNE0bXJVUZtMVDbyeoM2jOiKO7tw3NqmpkzZqoZYlNVtwhj9lfih15ayJtPmR3+73546PkCxL\n",
       "VJXsxpLnIqU+QffINrMh496FCzOuk42vs/+B1PRn4ZGl/i89fGaZSXiDVgAAAABJRU5ErkJggg==\n",
       "\" style=\"display:inline;vertical-align:middle;\" /></a><br>"
      ],
      "text/plain": [
       "expr: (a_q , b_q)"
      ]
     },
     "execution_count": 2,
     "metadata": {},
     "output_type": "execute_result"
    }
   ],
   "source": [
    "# build up the expression from sub-expressions\n",
    "expr = ExprTuple(Indexed(aa, q, base = 1), Indexed(bb, q, base = 1))"
   ]
  },
  {
   "cell_type": "code",
   "execution_count": 3,
   "metadata": {},
   "outputs": [
    {
     "name": "stdout",
     "output_type": "stream",
     "text": [
      "Passed sanity check: built 'expr' is the same as the stored Expression.\n"
     ]
    }
   ],
   "source": [
    "# check that the built expression is the same as the stored expression\n",
    "%check_expr"
   ]
  },
  {
   "cell_type": "code",
   "execution_count": 4,
   "metadata": {},
   "outputs": [
    {
     "data": {
      "text/html": [
       "<table><tr><th>&nbsp;</th><th>core type</th><th>sub-expressions</th><th>expression</th></tr>\n",
       "<tr><td>0</td><td>ExprTuple</td><td>1, 2</td><td><a class=\"ProveItLink\" href=\"expr.ipynb\"><img src=\"data:image/png;base64,iVBORw0KGgoAAAANSUhEUgAAAD8AAAAWBAMAAACF0lkSAAAAMFBMVEX////c3NwiIiJERESqqqqY\n",
       "mJh2dnZmZmYQEBDu7u4yMjJUVFTMzMyIiIi6uroAAAAs73DqAAAAAXRSTlMAQObYZgAAAX1JREFU\n",
       "KM+FUjtPwmAUPRUrlFe7OTgUGV1kMTEmRv6BDMbBQViMk4HJjbSDiyERwmRcqIODCUndXDsaXYgk\n",
       "GhOHxsXECQiIEqHelr6wgx2+e+6X893HOQX+/ZKtvze8kbLRvnk8BJ7E1RsbhTU6roNFqzkHKUAi\n",
       "0AGMIThwF4jUAgT2y4XnwIcZH9PtlEeI9TYq9rNQFscU6hOoskeIjISGzV8o4YqCWkAx4xHELub6\n",
       "Uziv4Ix60lCqb9ZtGfzYFknGBIj2AEPzCFIG4sCWpGMS+CHihm+L1RbyXZdwQoQBEiNWZ8oH2alO\n",
       "GrYULD7tWC3WaOoJQsOoUBdEAeZ6qsAZGrfMUBVWwSGJ+Yni+B63uANH4yCfu+gjVorL1ppvpk4r\n",
       "L+uXNE0bXJVUZtMVDbyeoM2jOiKO7tw3NqmpkzZqoZYlNVtwhj9lfih15ayJtPmR3+73546PkCxL\n",
       "VJXsxpLnIqU+QffINrMh496FCzOuk42vs/+B1PRn4ZGl/i89fGaZSXiDVgAAAABJRU5ErkJggg==\n",
       "\" style=\"display:inline;vertical-align:middle;\" /></a></td></tr>\n",
       "<tr><td>1</td><td>Indexed</td><td>var:&nbsp;3<br>index:&nbsp;5<br>base:&nbsp;\"1\"<br></td><td><a class=\"ProveItLink\" href=\"../7d6d96ff71f1a65bdd83c73042f65e76963072530/expr.ipynb\"><img src=\"data:image/png;base64,iVBORw0KGgoAAAANSUhEUgAAABUAAAAQBAMAAAAL9CkWAAAAMFBMVEX///9UVFSqqqpmZmbMzMzc\n",
       "3NyYmJh2dnYQEBAyMjK6urru7u5EREQiIiKIiIgAAACF1ENnAAAAAXRSTlMAQObYZgAAAIZJREFU\n",
       "CNdjYGB4e/fNBQYI2PuLYX4DlD2/gKH+AITJ9j+AYf4DCJvzLwPDfwcIm/8zA8t/qHL+bwx8P9kW\n",
       "sNqVKTBw/GLg+cwZsDcgPoCB7ztD/T9PBmEGD6Citzdfn5jK8IvhDVQTA/dvhnMwNkM36xc4e/Hj\n",
       "D3A2A9sEBJu5AMG2n8IAAFR+KC5yt6lYAAAAAElFTkSuQmCC\n",
       "\" style=\"display:inline;vertical-align:middle;\" /></a></td></tr>\n",
       "<tr><td>2</td><td>Indexed</td><td>var:&nbsp;4<br>index:&nbsp;5<br>base:&nbsp;\"1\"<br></td><td><a class=\"ProveItLink\" href=\"../a712aec0e681c72458726e7562b067e9386ba0290/expr.ipynb\"><img src=\"data:image/png;base64,iVBORw0KGgoAAAANSUhEUgAAABIAAAAVBAMAAAC55aPcAAAAMFBMVEX///+6urp2dnZmZmaIiIiq\n",
       "qqru7u5ERETc3NyYmJgQEBBUVFQyMjLMzMwiIiIAAAC3GpdEAAAAAXRSTlMAQObYZgAAAJBJREFU\n",
       "CNdj4P//gAECeM9vgLIY1k+AMjj+N0BZnL9gktz/alYngFlcfxryIbr7fzDwfQWz4hcw8H8Bs+wL\n",
       "GPp/glnvHRjm/4AYfIGh/gBDs9NUhvMNbP8vsL3g+MEwf0LOVwZuA94FDJzvVl9g4BdgKYBYlJ/A\n",
       "7gBhcSX0X4CwGE3sYe5gmANnGcEYzH8uAADFxCvJ+IupBQAAAABJRU5ErkJggg==\n",
       "\" style=\"display:inline;vertical-align:middle;\" /></a></td></tr>\n",
       "<tr><td>3</td><td>Variable</td><td></td><td><a class=\"ProveItLink\" href=\"../../../__pv_it/7961b4b9150985612d802c20f44685e97b6f826e0/expr.ipynb\"><img src=\"data:image/png;base64,iVBORw0KGgoAAAANSUhEUgAAAA0AAAAKBAMAAACdwMn3AAAAKlBMVEX///9mZmbMzMzc3NyYmJh2\n",
       "dnYQEBAyMjK6urru7u5EREQiIiKIiIgAAAA1/j81AAAAAXRSTlMAQObYZgAAAFdJREFUCNdjYGA4\n",
       "vfvUBgYGhtk3GGoTgHRtAEPsAgYGlrsGDLUHGBjYbzMw3FVgYOC9yMB0FyjNe4WB5zpLAwPbDQau\n",
       "i+wGDDxXGWLvqAMlTm8/uayYAQCG6xbiuxx/mgAAAABJRU5ErkJggg==\n",
       "\" style=\"display:inline;vertical-align:middle;\" /></a></td></tr>\n",
       "<tr><td>4</td><td>Variable</td><td></td><td><a class=\"ProveItLink\" href=\"../../../__pv_it/80de4aa547bb07e5595613407e5fb01a1de5de140/expr.ipynb\"><img src=\"data:image/png;base64,iVBORw0KGgoAAAANSUhEUgAAAAoAAAAPBAMAAAAv0UM9AAAAKlBMVEX///9mZmaIiIiqqqru7u5E\n",
       "RETc3NyYmJgQEBBUVFQyMjLMzMwiIiIAAAAofWvMAAAAAXRSTlMAQObYZgAAAF1JREFUCNdj4L17\n",
       "gIGBgXvtBCDJ0FsAJNjuJgBJ9hsgAc47UZ0ODBy3EnwPMOReY+C5zGDbwMB7iUE2gCH3OsNZBYba\n",
       "awy9GxhiFzCsTWC5u4GhtsDrMlDvmc4NDAA9UxsGirX/RgAAAABJRU5ErkJggg==\n",
       "\" style=\"display:inline;vertical-align:middle;\" /></a></td></tr>\n",
       "<tr><td>5</td><td>Variable</td><td></td><td><a class=\"ProveItLink\" href=\"../../../__pv_it/874553314f6d962851bc90a15187492caf5d49850/expr.ipynb\"><img src=\"data:image/png;base64,iVBORw0KGgoAAAANSUhEUgAAAAoAAAANBAMAAABiGeI2AAAAMFBMVEX///+qqqpEREQiIiIyMjKY\n",
       "mJjc3NxUVFTu7u4QEBC6urp2dnaIiIhmZmbMzMwAAADWMNsgAAAAAXRSTlMAQObYZgAAAFBJREFU\n",
       "CNdjYOC7s28XA8PKBvYfDGxfGXgdGNg/MDBvYOBXYOhfwJB/gCGegaFfgKGEgYElgPE3AwNbzdFf\n",
       "DEDA+gFEsjuASM4NQIJb35YBAC9REXkfHwxdAAAAAElFTkSuQmCC\n",
       "\" style=\"display:inline;vertical-align:middle;\" /></a></td></tr>\n",
       "</table>\n"
      ],
      "text/plain": [
       "0. (a_q , b_q)\n",
       "   core type: ExprTuple\n",
       "   sub-expressions: 1, 2\n",
       "1. a_q\n",
       "   core type: Indexed\n",
       "   var: 3\n",
       "   index: 5\n",
       "   base: \"1\"\n",
       "2. b_q\n",
       "   core type: Indexed\n",
       "   var: 4\n",
       "   index: 5\n",
       "   base: \"1\"\n",
       "3. a\n",
       "   core type: Variable\n",
       "   sub-expressions: \n",
       "4. b\n",
       "   core type: Variable\n",
       "   sub-expressions: \n",
       "5. q\n",
       "   core type: Variable\n",
       "   sub-expressions: "
      ]
     },
     "execution_count": 4,
     "metadata": {},
     "output_type": "execute_result"
    }
   ],
   "source": [
    "# display the expression information\n",
    "expr.exprInfo()"
   ]
  },
  {
   "cell_type": "code",
   "execution_count": null,
   "metadata": {},
   "outputs": [],
   "source": []
  }
 ],
 "metadata": {
  "kernelspec": {
   "display_name": "Python 3",
   "language": "python",
   "name": "python3"
  }
 },
 "nbformat": 4,
 "nbformat_minor": 0
}
