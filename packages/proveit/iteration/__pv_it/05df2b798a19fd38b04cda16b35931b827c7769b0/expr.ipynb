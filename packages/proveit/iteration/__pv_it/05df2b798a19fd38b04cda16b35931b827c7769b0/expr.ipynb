{
 "cells": [
  {
   "cell_type": "markdown",
   "metadata": {},
   "source": [
    "Expression of type <a class=\"ProveItLink\" href=\"../../../../../doc/html/api/proveit.ExprTuple.html\">ExprTuple</a>\n",
    "=======================\n",
    "# from context <a class=\"ProveItLink\" href=\"../../_context_.ipynb\">proveit.iteration</a>"
   ]
  },
  {
   "cell_type": "code",
   "execution_count": 1,
   "metadata": {},
   "outputs": [],
   "source": [
    "# import Expression classes needed to build the expression\n",
    "from proveit import ExprTuple\n",
    "from proveit.number import Complexes, zero"
   ]
  },
  {
   "cell_type": "code",
   "execution_count": 2,
   "metadata": {},
   "outputs": [
    {
     "data": {
      "text/html": [
       "<strong id=\"expr\">expr:</strong> <a class=\"ProveItLink\" href=\"expr.ipynb\"><img src=\"data:image/png;base64,iVBORw0KGgoAAAANSUhEUgAAAC8AAAAVBAMAAAAk6KpUAAAAMFBMVEX////c3NwiIiJERESqqqqY\n",
       "mJh2dnZmZmYQEBDu7u4yMjJUVFTMzMyIiIi6uroAAAAs73DqAAAAAXRSTlMAQObYZgAAASZJREFU\n",
       "KM91kb9Lw2AQhp9q0vazaczuYAcnB52KuPkndHKUbE7FTi46FHHWoEOzCFkcnAyIm0gmHVy6igql\n",
       "boL4AxVBFHPfl0qkmuG4uye8d9978O/ndod7SxIuoHOzPmhVpw835iglaXoAM+wkpu889NTKFUTp\n",
       "L12qNaqRAY1jsD5gEcoBIzHuk+7bQTuNaxDCHYy3cF40KBXiNO7B6AKrMOnjfGrQcX0jWWyxb8Cb\n",
       "rs+shgFWxNYv4GbAbfOVl9p1MinnUYAMf9X1WBD/gE1kXStb1xegtFQdeWCxRiCkfp+GfoAdsZxm\n",
       "U4SJehZQObpUt/N63b6s3zxBbXtCzmffT2VYj7I3sN/L+R7KvCy38wdpGtuHgBKzJ7Iif8iKyBb+\n",
       "OO01fAOH6kgCaurYiQAAAABJRU5ErkJggg==\n",
       "\" style=\"display:inline;vertical-align:middle;\" /></a><br>"
      ],
      "text/plain": [
       "expr: (0 , Complexes)"
      ]
     },
     "execution_count": 2,
     "metadata": {},
     "output_type": "execute_result"
    }
   ],
   "source": [
    "# build up the expression from sub-expressions\n",
    "expr = ExprTuple(zero, Complexes)"
   ]
  },
  {
   "cell_type": "code",
   "execution_count": 3,
   "metadata": {},
   "outputs": [
    {
     "name": "stdout",
     "output_type": "stream",
     "text": [
      "Passed sanity check: built 'expr' is the same as the stored Expression.\n"
     ]
    }
   ],
   "source": [
    "# check that the built expression is the same as the stored expression\n",
    "%check_expr"
   ]
  },
  {
   "cell_type": "code",
   "execution_count": 4,
   "metadata": {},
   "outputs": [
    {
     "data": {
      "text/html": [
       "<table><tr><th>&nbsp;</th><th>core type</th><th>sub-expressions</th><th>expression</th></tr>\n",
       "<tr><td>0</td><td>ExprTuple</td><td>1, 2</td><td><a class=\"ProveItLink\" href=\"expr.ipynb\"><img src=\"data:image/png;base64,iVBORw0KGgoAAAANSUhEUgAAAC8AAAAVBAMAAAAk6KpUAAAAMFBMVEX////c3NwiIiJERESqqqqY\n",
       "mJh2dnZmZmYQEBDu7u4yMjJUVFTMzMyIiIi6uroAAAAs73DqAAAAAXRSTlMAQObYZgAAASZJREFU\n",
       "KM91kb9Lw2AQhp9q0vazaczuYAcnB52KuPkndHKUbE7FTi46FHHWoEOzCFkcnAyIm0gmHVy6igql\n",
       "boL4AxVBFHPfl0qkmuG4uye8d9978O/ndod7SxIuoHOzPmhVpw835iglaXoAM+wkpu889NTKFUTp\n",
       "L12qNaqRAY1jsD5gEcoBIzHuk+7bQTuNaxDCHYy3cF40KBXiNO7B6AKrMOnjfGrQcX0jWWyxb8Cb\n",
       "rs+shgFWxNYv4GbAbfOVl9p1MinnUYAMf9X1WBD/gE1kXStb1xegtFQdeWCxRiCkfp+GfoAdsZxm\n",
       "U4SJehZQObpUt/N63b6s3zxBbXtCzmffT2VYj7I3sN/L+R7KvCy38wdpGtuHgBKzJ7Iif8iKyBb+\n",
       "OO01fAOH6kgCaurYiQAAAABJRU5ErkJggg==\n",
       "\" style=\"display:inline;vertical-align:middle;\" /></a></td></tr>\n",
       "<tr><td>1</td><td>Literal</td><td></td><td><a class=\"ProveItLink\" href=\"../../../number/numeral/__pv_it/ec23fc7a1b4222a5f4948b495002b97d6fa18c3c0/expr.ipynb\"><img src=\"data:image/png;base64,iVBORw0KGgoAAAANSUhEUgAAAAoAAAAOBAMAAADkjZCYAAAALVBMVEX///8QEBCYmJh2dnaqqqrc\n",
       "3NxUVFQyMjK6uroiIiLMzMyIiIhmZmbu7u4AAAAZjyHdAAAAAXRSTlMAQObYZgAAAEpJREFUCNdj\n",
       "YLiz+xQDA8MMhpsLGLgnMHAXMHAmMHA8ZeA7wMD1hCHOgIHrNZh8jES+Bss+AqlkeQrSxTyBgWEK\n",
       "w8UFDAx3rLMYAMCjFldHSx/9AAAAAElFTkSuQmCC\n",
       "\" style=\"display:inline;vertical-align:middle;\" /></a></td></tr>\n",
       "<tr><td>2</td><td>Literal</td><td></td><td><a class=\"ProveItLink\" href=\"../../../number/sets/complex/__pv_it/c357845f93a5a2d9f649129d299e7ec28dda4b960/expr.ipynb\"><img src=\"data:image/png;base64,iVBORw0KGgoAAAANSUhEUgAAAA8AAAAOBAMAAAACpFvcAAAAMFBMVEX////c3NyqqqqYmJhUVFR2\n",
       "dnbu7u66urrMzMxmZmZEREQQEBAyMjIiIiKIiIgAAAB7fvZ0AAAAAXRSTlMAQObYZgAAAGVJREFU\n",
       "CNdjYGDgu3N+70oGBgaO+gK2+CdAhoEzAwPTFwYG5oQNQN4UBgZORgcgI4+BIZM9gAEMWpkMoAx2\n",
       "KCOLAyrFk+AAYTAHgBhsQLy4DkjUJjAwsHg9Y6taBpLsvP/bnYEBACkBFGQfBv8RAAAAAElFTkSu\n",
       "QmCC\n",
       "\" style=\"display:inline;vertical-align:middle;\" /></a></td></tr>\n",
       "</table>\n"
      ],
      "text/plain": [
       "0. (0 , Complexes)\n",
       "   core type: ExprTuple\n",
       "   sub-expressions: 1, 2\n",
       "1. 0\n",
       "   core type: Literal\n",
       "   sub-expressions: \n",
       "2. Complexes\n",
       "   core type: Literal\n",
       "   sub-expressions: "
      ]
     },
     "execution_count": 4,
     "metadata": {},
     "output_type": "execute_result"
    }
   ],
   "source": [
    "# display the expression information\n",
    "expr.exprInfo()"
   ]
  },
  {
   "cell_type": "code",
   "execution_count": null,
   "metadata": {},
   "outputs": [],
   "source": []
  }
 ],
 "metadata": {
  "kernelspec": {
   "display_name": "Python 3",
   "language": "python",
   "name": "python3"
  }
 },
 "nbformat": 4,
 "nbformat_minor": 0
}
