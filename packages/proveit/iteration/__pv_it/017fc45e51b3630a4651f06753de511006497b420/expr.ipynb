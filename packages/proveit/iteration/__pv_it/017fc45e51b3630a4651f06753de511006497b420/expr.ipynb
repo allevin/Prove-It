{
 "cells": [
  {
   "cell_type": "markdown",
   "metadata": {},
   "source": [
    "Expression of type <a class=\"ProveItLink\" href=\"../../../../../doc/html/api/proveit.logic.Equals.html\">Equals</a>\n",
    "=======================\n",
    "# from context <a class=\"ProveItLink\" href=\"../../_context_.ipynb\">proveit.iteration</a>"
   ]
  },
  {
   "cell_type": "code",
   "execution_count": 1,
   "metadata": {},
   "outputs": [],
   "source": [
    "# import Expression classes needed to build the expression\n",
    "from proveit._common_ import m\n",
    "from proveit.logic import Equals\n",
    "from proveit.number import Add, four, one"
   ]
  },
  {
   "cell_type": "code",
   "execution_count": 2,
   "metadata": {},
   "outputs": [
    {
     "data": {
      "text/html": [
       "<strong id=\"expr\">expr:</strong> <a class=\"ProveItLink\" href=\"expr.ipynb\"><img src=\"data:image/png;base64,iVBORw0KGgoAAAANSUhEUgAAAPsAAAAVBAMAAAByEoVnAAAAMFBMVEX////c3NwiIiJERESqqqqY\n",
       "mJh2dnZmZmYQEBDu7u4yMjJUVFTMzMyIiIi6uroAAAAs73DqAAAAAXRSTlMAQObYZgAAAkJJREFU\n",
       "SMfFljFIHEEUQP/p3t7unbdcCis7LUxpYYp01mrQNCkswnYWooiQIJLiwGARQU4EESXckWCRDRHT\n",
       "2Czi9RYO2FgoiJUICaYySXH6Z3bvdGf+3+QqP/ybvX877+3O7cwswCOHJ6JkI3tOVV8zqDZCIQ7j\n",
       "ZAJ/emcUnwPk6uS5THTtcogvcTLRB5DXa2t/8KNmnstjOgYYRFFEmYzV5kFxEUffT1a3Qtn3leFI\n",
       "wZzEerekIZxKlMl40Tzo/ox9ylq1KPtuGHoek5mI9ZbQEFcQJaP3UQ+DlL5zSO/EY+w8qUfEW2ww\n",
       "veMnZ3vemS7KlqR+ktLbs7qMx7yk9YjYxgbTLnyD6gyMaf0+gtQPU3pLPXu5QIV6sFmMK2g9Ilaw\n",
       "wfyJz2ZVGHpf6S8pvVfW757F2EDrEdHABrNSPYexCiwk+1l1pT+i9F3Xup7FjDJ6RMR62WkOYEn+\n",
       "tBAET4PgKx6tw73+vpqiJzGuH+nxj/r0If6jmoj32MjEC+4H75ebuOyRMPy9nzr4uV4V6uY4jBWG\n",
       "B8uCHvxn2MhcArcBhVq3NvEAlx2YoPRZY9lLwTjk4CNiMppYmQZkryEvfEr/nxMvBeNwE+8Cmws1\n",
       "DvYAWPt1rd/U7RuAnaQ+N/8Xi3ljI+Qx9sHNeELfQji4CjsldtVT07ZMVYlFNx2TuPsmQu4nrT2l\n",
       "FT8efrEFVZ02XwzSMeYbwfS/N1yMTarotrXhAovoiZOP71SxUDJrPe3pFSIjomSjWKeqp0Qt097L\n",
       "FiLuANki4RJoDQbzAAAAAElFTkSuQmCC\n",
       "\" style=\"display:inline;vertical-align:middle;\" /></a><br>"
      ],
      "text/plain": [
       "expr: ((m + 4) + 1) = (m + 4 + 1)"
      ]
     },
     "execution_count": 2,
     "metadata": {},
     "output_type": "execute_result"
    }
   ],
   "source": [
    "# build up the expression from sub-expressions\n",
    "expr = Equals(Add(Add(m, four), one), Add(m, four, one))"
   ]
  },
  {
   "cell_type": "code",
   "execution_count": 3,
   "metadata": {},
   "outputs": [
    {
     "name": "stdout",
     "output_type": "stream",
     "text": [
      "Passed sanity check: built 'expr' is the same as the stored Expression.\n"
     ]
    }
   ],
   "source": [
    "# check that the built expression is the same as the stored expression\n",
    "%check_expr"
   ]
  },
  {
   "cell_type": "code",
   "execution_count": 4,
   "metadata": {},
   "outputs": [
    {
     "data": {
      "text/html": [
       "<table><tr><th>&nbsp;</th><th>core type</th><th>sub-expressions</th><th>expression</th></tr>\n",
       "<tr><td>0</td><td>Operation</td><td>operator:&nbsp;1<br>operands:&nbsp;2<br></td><td><a class=\"ProveItLink\" href=\"expr.ipynb\"><img src=\"data:image/png;base64,iVBORw0KGgoAAAANSUhEUgAAAPsAAAAVBAMAAAByEoVnAAAAMFBMVEX////c3NwiIiJERESqqqqY\n",
       "mJh2dnZmZmYQEBDu7u4yMjJUVFTMzMyIiIi6uroAAAAs73DqAAAAAXRSTlMAQObYZgAAAkJJREFU\n",
       "SMfFljFIHEEUQP/p3t7unbdcCis7LUxpYYp01mrQNCkswnYWooiQIJLiwGARQU4EESXckWCRDRHT\n",
       "2Czi9RYO2FgoiJUICaYySXH6Z3bvdGf+3+QqP/ybvX877+3O7cwswCOHJ6JkI3tOVV8zqDZCIQ7j\n",
       "ZAJ/emcUnwPk6uS5THTtcogvcTLRB5DXa2t/8KNmnstjOgYYRFFEmYzV5kFxEUffT1a3Qtn3leFI\n",
       "wZzEerekIZxKlMl40Tzo/ox9ylq1KPtuGHoek5mI9ZbQEFcQJaP3UQ+DlL5zSO/EY+w8qUfEW2ww\n",
       "veMnZ3vemS7KlqR+ktLbs7qMx7yk9YjYxgbTLnyD6gyMaf0+gtQPU3pLPXu5QIV6sFmMK2g9Ilaw\n",
       "wfyJz2ZVGHpf6S8pvVfW757F2EDrEdHABrNSPYexCiwk+1l1pT+i9F3Xup7FjDJ6RMR62WkOYEn+\n",
       "tBAET4PgKx6tw73+vpqiJzGuH+nxj/r0If6jmoj32MjEC+4H75ebuOyRMPy9nzr4uV4V6uY4jBWG\n",
       "B8uCHvxn2MhcArcBhVq3NvEAlx2YoPRZY9lLwTjk4CNiMppYmQZkryEvfEr/nxMvBeNwE+8Cmws1\n",
       "DvYAWPt1rd/U7RuAnaQ+N/8Xi3ljI+Qx9sHNeELfQji4CjsldtVT07ZMVYlFNx2TuPsmQu4nrT2l\n",
       "FT8efrEFVZ02XwzSMeYbwfS/N1yMTarotrXhAovoiZOP71SxUDJrPe3pFSIjomSjWKeqp0Qt097L\n",
       "FiLuANki4RJoDQbzAAAAAElFTkSuQmCC\n",
       "\" style=\"display:inline;vertical-align:middle;\" /></a></td></tr>\n",
       "<tr><td>1</td><td>Literal</td><td></td><td><a class=\"ProveItLink\" href=\"../../../logic/equality/__pv_it/2fb26078095930560931daa0500ce419a39ea6cd0/expr.ipynb\"><img src=\"data:image/png;base64,iVBORw0KGgoAAAANSUhEUgAAAA4AAAAFBAMAAACHocAhAAAAFVBMVEX///9EREQiIiJUVFQyMjJm\n",
       "ZmYAAADubVkoAAAAAXRSTlMAQObYZgAAABRJREFUCNdjCHEBAWcGXCBICQQUAUpuAwlgGKrkAAAA\n",
       "AElFTkSuQmCC\n",
       "\" style=\"display:inline;vertical-align:middle;\" /></a></td></tr>\n",
       "<tr><td>2</td><td>ExprTuple</td><td>3, 4</td><td><a class=\"ProveItLink\" href=\"../6a991ecff7d569621f762e6224d38ede88eab4670/expr.ipynb\"><img src=\"data:image/png;base64,iVBORw0KGgoAAAANSUhEUgAAANkAAAAVBAMAAAA5ulaKAAAAMFBMVEX////c3NwiIiJERESqqqqY\n",
       "mJh2dnZmZmYQEBDu7u4yMjJUVFTMzMyIiIi6uroAAAAs73DqAAAAAXRSTlMAQObYZgAAAmFJREFU\n",
       "SMe9lj1oFEEUx/+X7O7t3OWWtUglopBCyxO0sDK1HyQ2Fil0wcJClCD4QbA4UFIoJCuCBEVuUURc\n",
       "iWhjkSXc9RYOpBE0uKQS4fS0UCN4+mb3LpudzCQeBB/89+39l32/m3fzccD/DYen0oYZbw/olLi8\n",
       "7koT9OjaBnPQ37zw0AvZOQQUm5SfdqWJEaAke+zwFrSBqmTcWaVLAFR4qnzc7t1UrlMrvbzLooaS\n",
       "xtze3dtq3rkfCdpJwPZT5eN472b4Eb1Tk90PSprR+9KFiarkVARtDviEVBqaRzQc6JNmlZS0wVFc\n",
       "pkRylnYsv3KW5bqmK2hndbTW/l3vvNbSqFT7hJpmTeIxJZJVnkf9Asakug8gaEd0NG+Bs++x0c7X\n",
       "ZlxNMwLMUCJ9pmlU5xtoXkL7qKE58QjYb8g0C2qaU0OHEsmvxxjzMZWvazQT2hsNjbEOjFUUg3zt\n",
       "YxraULtHE6iLwLR4NBWG+8LwGd3dRUbL3KyTArUHtlghxTB8eDMMaVkzL6VlTka7QUmIRrUXzleW\n",
       "G8XRKPq5qO+kGNXAJL64/vqRGFHUuMXVnTxISWga1JZyMCzVBa1uTKhogkCjol9goTCerw1b2Ukz\n",
       "SGY3qdCB2UaJeyqaagWwb5R3xzgNzFv4JxqtgBVKK8korSqMxaZU99yfS8BziXZl9sk4m3WTFp+h\n",
       "fr+XV3fjR360xau/qEwphk0v2a52L0mmXk3lOq52L9E4c+mWu7btrkVr/QeLq1xTeVJu5pzf+sSh\n",
       "uKc+ZPs9TZlYlju70sdLpcv7pZVF6ws8lTYqze35p0Bz6S8ZaNMVexTSPAAAAABJRU5ErkJggg==\n",
       "\" style=\"display:inline;vertical-align:middle;\" /></a></td></tr>\n",
       "<tr><td>3</td><td>Operation</td><td>operator:&nbsp;9<br>operands:&nbsp;5<br></td><td><a class=\"ProveItLink\" href=\"../660ae19c8b07a02a8f1b5991d746f184ac5cca2b0/expr.ipynb\"><img src=\"data:image/png;base64,iVBORw0KGgoAAAANSUhEUgAAAGYAAAAVBAMAAABGR4Y+AAAAMFBMVEX////c3NwiIiJERESqqqqY\n",
       "mJh2dnZmZmYQEBDu7u4yMjJUVFTMzMyIiIi6uroAAAAs73DqAAAAAXRSTlMAQObYZgAAAVRJREFU\n",
       "OMtjYCAH8F3AIxmHXfg0Tg08GxjYD2CIWgLxSpx6mAwYGBagC07+ycDAi+G0iTDGDaCeMCibUwBC\n",
       "z94N1MMxAV2PL5RmjALqmQHlsMCM5gXqecWASw8bF1APswMWPWXAkLsseHcb310TND2BID1sBVj0\n",
       "LAWKc69lmJ/H4I+qh/MCSA/LAix6+hgY3gEDaP4FdD1sDCA9fA1Y9PxjYJgw/wGD/wSGKlQ9PmA9\n",
       "PB+w6wFpKGJgaAMJVa1apbFq1Wqg0xIQethXrVrUtWrVBpieFpBCBgZ1Br6PnMj2sOzevb/7Ana3\n",
       "mTKAbOD8x8C9QBQ13Bg4gPawYguDdGDk/WNg/cDAdSEBix6sYf0IHDZsBgwsew+gxen+7wEMXA9Q\n",
       "9bBX/Cpl4BDAlQ7AACPtgABrArqet8icXKy5bCW+DMm5AKuwND493AJYhRnx5e072AQBoUli88Nl\n",
       "8HcAAAAASUVORK5CYII=\n",
       "\" style=\"display:inline;vertical-align:middle;\" /></a></td></tr>\n",
       "<tr><td>4</td><td>Operation</td><td>operator:&nbsp;9<br>operands:&nbsp;6<br></td><td><a class=\"ProveItLink\" href=\"../f205ca7db05acf120e3fae3f9ef73c924afbaf200/expr.ipynb\"><img src=\"data:image/png;base64,iVBORw0KGgoAAAANSUhEUgAAAFgAAAAQBAMAAABgsKUGAAAAMFBMVEX////MzMyYmJgQEBBmZmYi\n",
       "IiLu7u4yMjKqqqp2dnZUVFTc3NxERESIiIi6uroAAABe5jFNAAAAAXRSTlMAQObYZgAAAOFJREFU\n",
       "KM9jYMABGBegixxjwAlYD6AJ5HzDUJMNY1yGKmbbAKGzVmEq7oXS3OpQxRwXoCK8uBVzsmNTzHdn\n",
       "992VfHdPoCnWxqqYk6uWIX8eQz+qYrYLWBW/A3o7/wK6Yk4GrIoT8h8w9CcwuKMqbsSuGKTSlYHB\n",
       "EsR3Ly8PLi+vArpiAkQxS3l5qXl5+QK4YqCZIQx8v9mQTeZYtWq91QUsJlsysP1j4CrYhBoaDMzY\n",
       "nMH9j4HpAwP7hQnEKOYzYOA8wMCxVgAtUtZ/UUBRzOL83QlXDMIB3GQs4C26AB+SYgCUbVF0YQIU\n",
       "BgAAAABJRU5ErkJggg==\n",
       "\" style=\"display:inline;vertical-align:middle;\" /></a></td></tr>\n",
       "<tr><td>5</td><td>ExprTuple</td><td>7, 8</td><td><a class=\"ProveItLink\" href=\"../3ec92af4f3259fce6b6ebf5bb66fa69ed175c4730/expr.ipynb\"><img src=\"data:image/png;base64,iVBORw0KGgoAAAANSUhEUgAAAFUAAAAVBAMAAADFg78FAAAAMFBMVEX////c3NwiIiJERESqqqqY\n",
       "mJh2dnZmZmYQEBDu7u4yMjJUVFTMzMyIiIi6uroAAAAs73DqAAAAAXRSTlMAQObYZgAAAUNJREFU\n",
       "KM+V0zFIw0AUgOG/2tSmsaEOnRwddOygg5u7SDdHyeYgiggV6SQojhoRRBBJQByMuLqEQneXgquF\n",
       "4igo1UkdqnfVhFxCSs1w95L33eO4e4H/PGZrKLYih/v0fJiah7GmmK/T7dTffPIpBheKiS0cB0Fx\n",
       "73c+96Vdhrwdt0tBUL4MFkl7Bs+kWkuxowtsi5N4mGjfme3ZmNVKis1tciVG4xZng2rMXqDYrMsh\n",
       "vI5UcFoJa6nW3KUHttOhalNXbbap2vGutBJuwYH8XPe8Gc+7EdEpCbsvAUxjvulK3UXf/2ioe5hD\n",
       "VtR7GG45dmaIu7BDq7msQqaH1qXQspJWf4+e2VO/eq5CttGM2bXvmn5UEm2z81WDQod8KfXe+h0b\n",
       "psUda1bcvkRftDBaH9yTUauLnmRyoA071pCbyQz3Dz3CD2j5WtdrKOevAAAAAElFTkSuQmCC\n",
       "\" style=\"display:inline;vertical-align:middle;\" /></a></td></tr>\n",
       "<tr><td>6</td><td>ExprTuple</td><td>11, 12, 8</td><td><a class=\"ProveItLink\" href=\"../32edc7a15a43d37a73882bcf78376cc3c91d9ee50/expr.ipynb\"><img src=\"data:image/png;base64,iVBORw0KGgoAAAANSUhEUgAAAEUAAAAVBAMAAADiLT7tAAAAMFBMVEX////c3NwiIiJERESqqqqY\n",
       "mJh2dnZmZmYQEBDu7u4yMjJUVFTMzMyIiIi6uroAAAAs73DqAAAAAXRSTlMAQObYZgAAAT1JREFU\n",
       "KM9jYCAG8F3AKx0HIk5jCPNsgLEsGRjYDwDplRhqmAygjMk/gcQCBgZeTKtuQNXM3g1SE8bAwDEB\n",
       "XQljFMwcXpCaGQwMrzCMYeNCUcPswFAG9Nllwbvb+O6aQGUCUdWwFTAsBZLcaxnm5zH4QyQ4L6Cq\n",
       "YVnA0MfA8A7okfkXYGrYGFDV8DUw/GNgmDD/AYP/BIYqiIQPmhqeDyA1IAVFDAxtEKsSMNW0ACmg\n",
       "CeoMfB85QeIsu3fv776AapcpA8gEzn8M3AtEGSBhxWHAwIlQw7qAIR0YaP8YWD8wcF1I4PwEUzNf\n",
       "Adnvj8CmsRkwsOw9wNkvABLc/z1gxkcgg73iVykDA9cDBg4B5HQC5zyEiwHjgjUBSQ0rnBUAZ+Wi\n",
       "pQ0sajiBaYNBGkkNPJ3wwoW4QdYz4k+rdxgYAEXmUp0aRTLhAAAAAElFTkSuQmCC\n",
       "\" style=\"display:inline;vertical-align:middle;\" /></a></td></tr>\n",
       "<tr><td>7</td><td>Operation</td><td>operator:&nbsp;9<br>operands:&nbsp;10<br></td><td><a class=\"ProveItLink\" href=\"../a0c182930b8b75bdcc687e6ab07beaa9a04192ef0/expr.ipynb\"><img src=\"data:image/png;base64,iVBORw0KGgoAAAANSUhEUgAAADUAAAAQBAMAAABEqSrGAAAAMFBMVEX////MzMyYmJgQEBBmZmYi\n",
       "IiLu7u4yMjKqqqp2dnZUVFTc3NxERESIiIi6uroAAABe5jFNAAAAAXRSTlMAQObYZgAAAK1JREFU\n",
       "GNNjYMABGBcw4ASsBzCEsmGMy5hyvVCaWx23HCc7UI7vzu67K/nunkCT0wbJcXLVMuTPY+hHlWO7\n",
       "AJJ7B3RQ/gV0OU4GkFxC/gOG/gQGd1S5RrAcSMKVgcESJOJeXh5cXl4FNHICRA6oI4SB7zcbsj6O\n",
       "VavWW10A6WD7x8BVsAnVnQzMQH3c/xiYPjCwX5iARY7PgIHzAAPHWgE0v6//ooArXLCBt0hsAGFR\n",
       "M5y5v8BtAAAAAElFTkSuQmCC\n",
       "\" style=\"display:inline;vertical-align:middle;\" /></a></td></tr>\n",
       "<tr><td>8</td><td>Literal</td><td></td><td><a class=\"ProveItLink\" href=\"../../../number/numeral/__pv_it/9be8badea4c35b9724062cecc501d17a3158d1d20/expr.ipynb\"><img src=\"data:image/png;base64,iVBORw0KGgoAAAANSUhEUgAAAAgAAAAPBAMAAAArJJMAAAAAHlBMVEX///+YmJgyMjIQEBBmZmaI\n",
       "iIhUVFTu7u5EREQAAAAw+MI4AAAAAXRSTlMAQObYZgAAACFJREFUCNdjYGBoZ2BgqJjOwFCWBiQY\n",
       "WEklWJwnOTKAAACjEQo8HvEr3AAAAABJRU5ErkJggg==\n",
       "\" style=\"display:inline;vertical-align:middle;\" /></a></td></tr>\n",
       "<tr><td>9</td><td>Literal</td><td></td><td><a class=\"ProveItLink\" href=\"../../../number/addition/__pv_it/3e6688136fa3c7aefbebe51301b7c3ebf0b69c440/expr.ipynb\"><img src=\"data:image/png;base64,iVBORw0KGgoAAAANSUhEUgAAAA4AAAAOBAMAAADtZjDiAAAAJFBMVEX///+6urpUVFQQEBAiIiIy\n",
       "MjJmZmaIiIiqqqrc3Nzu7u4AAACgHpL+AAAAAXRSTlMAQObYZgAAAB5JREFUCNdjYGBgWMkAAe2k\n",
       "0Kmhoc6hoUGk6BMHYgAHOwjcado9fwAAAABJRU5ErkJggg==\n",
       "\" style=\"display:inline;vertical-align:middle;\" /></a></td></tr>\n",
       "<tr><td>10</td><td>ExprTuple</td><td>11, 12</td><td><a class=\"ProveItLink\" href=\"../2b2a6e90a6531404844597a172cc7721c5f1e3720/expr.ipynb\"><img src=\"data:image/png;base64,iVBORw0KGgoAAAANSUhEUgAAADEAAAAVBAMAAAAdjxsPAAAAMFBMVEX////c3NwiIiJERESqqqqY\n",
       "mJh2dnZmZmYQEBDu7u4yMjJUVFTMzMyIiIi6uroAAAAs73DqAAAAAXRSTlMAQObYZgAAARNJREFU\n",
       "KM910SFPw0AUwPH/oC29djRDoPgA2AnwfACSgUEgSB0KQhAIFIJgSKAS1xoEggSFWcjmMZdgECxZ\n",
       "kAgyMLiG91bWNOs4cdd7v7uXd33w/4jsjOCeTs+1cPOBhb6sdzWZa0MGi/VkryI74CfT0NgVuYGP\n",
       "2hUvEJnf4ESqe1kaPEaDtT/ZVvGOuJU5vCc9pFOAsSpOxhV8SjGpnYiHSnRGDkk6pJNwWsjmWJoj\n",
       "FQ0fw0WRLJ7Iuezk9CrRl1Fxut3epdVs6+hpkxNmyxRv8+WOm7EvT8txRwQ2Nt+lSNXv4zq8Ns5T\n",
       "31y3tLjezxbBEL9V7Ui5kb/jxhVxy6+DqS6UYqQLrFSk7EioaRuzuv0Gv0MkPoDJBRxIAAAAAElF\n",
       "TkSuQmCC\n",
       "\" style=\"display:inline;vertical-align:middle;\" /></a></td></tr>\n",
       "<tr><td>11</td><td>Variable</td><td></td><td><a class=\"ProveItLink\" href=\"../../../__pv_it/78af03acba5349fd70398a32ce59bae1da52f0870/expr.ipynb\"><img src=\"data:image/png;base64,iVBORw0KGgoAAAANSUhEUgAAABIAAAAJBAMAAADN8WE8AAAAMFBMVEX////MzMyYmJgQEBBmZmYi\n",
       "IiLu7u4yMjKqqqp2dnZUVFTc3NxERESIiIi6uroAAABe5jFNAAAAAXRSTlMAQObYZgAAAFtJREFU\n",
       "CNdj4Luz++5KvrsnGBg4uWoZ8ucx9DMwvGM9wJB/AcRKyH/A0J/A4M7AAKJcGRgsgSwgL4SB7zcb\n",
       "iMf2j4GrYBMD9z8Gpg8M7BcmMPAZMHAeYOBYKwAAtXMYHwtZnY0AAAAASUVORK5CYII=\n",
       "\" style=\"display:inline;vertical-align:middle;\" /></a></td></tr>\n",
       "<tr><td>12</td><td>Literal</td><td></td><td><a class=\"ProveItLink\" href=\"../../../number/numeral/__pv_it/23412ce59ea7e77353d2f9225e02248e73651ca00/expr.ipynb\"><img src=\"data:image/png;base64,iVBORw0KGgoAAAANSUhEUgAAAAoAAAAPBAMAAAAv0UM9AAAALVBMVEX///9mZmaqqqru7u52dnYy\n",
       "MjKYmJjc3NwQEBCIiIhEREQiIiJUVFTMzMwAAACUDTcXAAAAAXRSTlMAQObYZgAAAD5JREFUCNdj\n",
       "YGBguMMAArtABGcXiCyLApEOIJKtAERaMoBIBxDJdAFEmjCASJ0zZ16cBCkF64KQPu/EwBwGACv6\n",
       "DSRgin9qAAAAAElFTkSuQmCC\n",
       "\" style=\"display:inline;vertical-align:middle;\" /></a></td></tr>\n",
       "</table>\n"
      ],
      "text/plain": [
       "0. ((m + 4) + 1) = (m + 4 + 1)\n",
       "   core type: Operation\n",
       "   operator: 1\n",
       "   operands: 2\n",
       "1. =\n",
       "   core type: Literal\n",
       "   sub-expressions: \n",
       "2. ((m + 4) + 1 , m + 4 + 1)\n",
       "   core type: ExprTuple\n",
       "   sub-expressions: 3, 4\n",
       "3. (m + 4) + 1\n",
       "   core type: Operation\n",
       "   operator: 9\n",
       "   operands: 5\n",
       "4. m + 4 + 1\n",
       "   core type: Operation\n",
       "   operator: 9\n",
       "   operands: 6\n",
       "5. (m + 4 , 1)\n",
       "   core type: ExprTuple\n",
       "   sub-expressions: 7, 8\n",
       "6. (m , 4 , 1)\n",
       "   core type: ExprTuple\n",
       "   sub-expressions: 11, 12, 8\n",
       "7. m + 4\n",
       "   core type: Operation\n",
       "   operator: 9\n",
       "   operands: 10\n",
       "8. 1\n",
       "   core type: Literal\n",
       "   sub-expressions: \n",
       "9. +\n",
       "   core type: Literal\n",
       "   sub-expressions: \n",
       "10. (m , 4)\n",
       "    core type: ExprTuple\n",
       "    sub-expressions: 11, 12\n",
       "11. m\n",
       "    core type: Variable\n",
       "    sub-expressions: \n",
       "12. 4\n",
       "    core type: Literal\n",
       "    sub-expressions: "
      ]
     },
     "execution_count": 4,
     "metadata": {},
     "output_type": "execute_result"
    }
   ],
   "source": [
    "# display the expression information\n",
    "expr.exprInfo()"
   ]
  },
  {
   "cell_type": "code",
   "execution_count": null,
   "metadata": {},
   "outputs": [],
   "source": []
  }
 ],
 "metadata": {
  "kernelspec": {
   "display_name": "Python 3",
   "language": "python",
   "name": "python3"
  }
 },
 "nbformat": 4,
 "nbformat_minor": 0
}
