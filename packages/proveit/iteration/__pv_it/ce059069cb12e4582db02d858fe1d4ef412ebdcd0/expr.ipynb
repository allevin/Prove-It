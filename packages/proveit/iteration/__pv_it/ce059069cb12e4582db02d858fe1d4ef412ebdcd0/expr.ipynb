{
 "cells": [
  {
   "cell_type": "markdown",
   "metadata": {},
   "source": [
    "Expression of type <a class=\"ProveItLink\" href=\"../../../../../doc/html/api/proveit.logic.Equals.html\">Equals</a>\n",
    "=======================\n",
    "# from context <a class=\"ProveItLink\" href=\"../../_context_.ipynb\">proveit.iteration</a>"
   ]
  },
  {
   "cell_type": "code",
   "execution_count": 1,
   "metadata": {},
   "outputs": [],
   "source": [
    "# import Expression classes needed to build the expression\n",
    "from proveit.logic import Equals\n",
    "from proveit.number import Add, Neg, one, two"
   ]
  },
  {
   "cell_type": "code",
   "execution_count": 2,
   "metadata": {},
   "outputs": [
    {
     "data": {
      "text/html": [
       "<strong id=\"expr\">expr:</strong> <a class=\"ProveItLink\" href=\"expr.ipynb\"><img src=\"data:image/png;base64,iVBORw0KGgoAAAANSUhEUgAAAKMAAAAVBAMAAADY0UPbAAAAMFBMVEX////c3NwiIiJERESqqqqY\n",
       "mJh2dnZmZmYQEBDu7u4yMjJUVFTMzMyIiIi6uroAAAAs73DqAAAAAXRSTlMAQObYZgAAAdVJREFU\n",
       "OMu1lT9Iw1AQxr+01qRpq9VFsAjiIE62i4OLujkJunSUTnUSiuIfXFRw0EUjLoKLWESMg1nFoW4O\n",
       "DrqrGByFgogIdWh8eRGSvHexkwdJLnf3/biXd0mAf7COh4jELBGrt6Jx0R074kY4oaxUbag3kiBt\n",
       "+X7P2piYHoUnOgeS4wIyh8wncCwhdb9OsfAyEc4eNMBFmQckr2sC8grIA0UJ+ey7KQOxd8/d9y5H\n",
       "1y6SiTSX9iIgtw3UbBxKyB3f1XaQanru1G8o4yKZ6A0E8tLAuo34hLiTgUehN6BSSCZappDM8gba\n",
       "K0JMLYVuYw0CyUSnNDL9BbTxplSTm7vX+nSo5r5EIJlol0bqBbbODSGo2aHbKggkEzV9ZO+Aa8M8\n",
       "veh2+i4gOxlSOeFVzFMLFJKJmmSXGSsK6dsjP6+Z5pBpXgSRWyRyEkr2d+Eq72rAbUkLjkBbBV30\n",
       "wkcoZLqCRBYJ8fWJB7fnFpghkEw0RyG7y+UFyEMUDCiD5bl+eohe2WVl7yw8HnnH+WC7bouj3h8Y\n",
       "Ssdxwkh19XuJi7Rs5IdKfiE3ybopQZQoRSLnpUiRrKuLovMoYvLPj9tfolxUNiU/EsVqheQiJepH\n",
       "8UTE+lohmegHl8SIXZYjOdoAAAAASUVORK5CYII=\n",
       "\" style=\"display:inline;vertical-align:middle;\" /></a><br>"
      ],
      "text/plain": [
       "expr: (1 - 2) = (-2 + 1)"
      ]
     },
     "execution_count": 2,
     "metadata": {},
     "output_type": "execute_result"
    }
   ],
   "source": [
    "# build up the expression from sub-expressions\n",
    "subExpr1 = Neg(two)\n",
    "expr = Equals(Add(one, subExpr1), Add(subExpr1, one))"
   ]
  },
  {
   "cell_type": "code",
   "execution_count": 3,
   "metadata": {},
   "outputs": [
    {
     "name": "stdout",
     "output_type": "stream",
     "text": [
      "Passed sanity check: built 'expr' is the same as the stored Expression.\n"
     ]
    }
   ],
   "source": [
    "# check that the built expression is the same as the stored expression\n",
    "%check_expr"
   ]
  },
  {
   "cell_type": "code",
   "execution_count": 4,
   "metadata": {},
   "outputs": [
    {
     "data": {
      "text/html": [
       "<table><tr><th>&nbsp;</th><th>core type</th><th>sub-expressions</th><th>expression</th></tr>\n",
       "<tr><td>0</td><td>Operation</td><td>operator:&nbsp;1<br>operands:&nbsp;2<br></td><td><a class=\"ProveItLink\" href=\"expr.ipynb\"><img src=\"data:image/png;base64,iVBORw0KGgoAAAANSUhEUgAAAKMAAAAVBAMAAADY0UPbAAAAMFBMVEX////c3NwiIiJERESqqqqY\n",
       "mJh2dnZmZmYQEBDu7u4yMjJUVFTMzMyIiIi6uroAAAAs73DqAAAAAXRSTlMAQObYZgAAAdVJREFU\n",
       "OMu1lT9Iw1AQxr+01qRpq9VFsAjiIE62i4OLujkJunSUTnUSiuIfXFRw0EUjLoKLWESMg1nFoW4O\n",
       "DrqrGByFgogIdWh8eRGSvHexkwdJLnf3/biXd0mAf7COh4jELBGrt6Jx0R074kY4oaxUbag3kiBt\n",
       "+X7P2piYHoUnOgeS4wIyh8wncCwhdb9OsfAyEc4eNMBFmQckr2sC8grIA0UJ+ey7KQOxd8/d9y5H\n",
       "1y6SiTSX9iIgtw3UbBxKyB3f1XaQanru1G8o4yKZ6A0E8tLAuo34hLiTgUehN6BSSCZappDM8gba\n",
       "K0JMLYVuYw0CyUSnNDL9BbTxplSTm7vX+nSo5r5EIJlol0bqBbbODSGo2aHbKggkEzV9ZO+Aa8M8\n",
       "veh2+i4gOxlSOeFVzFMLFJKJmmSXGSsK6dsjP6+Z5pBpXgSRWyRyEkr2d+Eq72rAbUkLjkBbBV30\n",
       "wkcoZLqCRBYJ8fWJB7fnFpghkEw0RyG7y+UFyEMUDCiD5bl+eohe2WVl7yw8HnnH+WC7bouj3h8Y\n",
       "Ssdxwkh19XuJi7Rs5IdKfiE3ybopQZQoRSLnpUiRrKuLovMoYvLPj9tfolxUNiU/EsVqheQiJepH\n",
       "8UTE+lohmegHl8SIXZYjOdoAAAAASUVORK5CYII=\n",
       "\" style=\"display:inline;vertical-align:middle;\" /></a></td></tr>\n",
       "<tr><td>1</td><td>Literal</td><td></td><td><a class=\"ProveItLink\" href=\"../../../logic/equality/__pv_it/2fb26078095930560931daa0500ce419a39ea6cd0/expr.ipynb\"><img src=\"data:image/png;base64,iVBORw0KGgoAAAANSUhEUgAAAA4AAAAFBAMAAACHocAhAAAAFVBMVEX///9EREQiIiJUVFQyMjJm\n",
       "ZmYAAADubVkoAAAAAXRSTlMAQObYZgAAABRJREFUCNdjCHEBAWcGXCBICQQUAUpuAwlgGKrkAAAA\n",
       "AElFTkSuQmCC\n",
       "\" style=\"display:inline;vertical-align:middle;\" /></a></td></tr>\n",
       "<tr><td>2</td><td>ExprTuple</td><td>3, 4</td><td><a class=\"ProveItLink\" href=\"../21bc82f1eb8b65c350fe8e8e79407d1f013060280/expr.ipynb\"><img src=\"data:image/png;base64,iVBORw0KGgoAAAANSUhEUgAAAIEAAAAVBAMAAACTeZA2AAAAMFBMVEX////c3NwiIiJERESqqqqY\n",
       "mJh2dnZmZmYQEBDu7u4yMjJUVFTMzMyIiIi6uroAAAAs73DqAAAAAXRSTlMAQObYZgAAAXxJREFU\n",
       "OMul1DFIw0AUBuA/bWKatinRRdClODhaFwcX7eaqi6N0aiehKFpx0cFBHWzARXAJliJmsat0qJuD\n",
       "g90VWhydShEhDo2XRGnueIFKHyQX/st9cMndAeNXpj3G4C3v9syuuCn0TB+u8IFUqXXF4cuA+sja\n",
       "O0BbFQSpgU6eS2ahfwrApcNuFqC3oTVbgpAyEetxyQOQC540I2ivm56wCSS8wR1BSJwhNeCSUxOt\n",
       "YBry33fTPeEK+AAhJB2ovHBv4ogS4nnsUwKrmCMmOZMQJsqoRwgvBSFIf4EQZAsXEUJNDJKLlJA5\n",
       "xmAozMx5teB3q7/vD7NdUEK6FxbC9SoGesOHbfvm3LYbYeGEFOQyJvlkDZJBz2KJFJ6ADYTDdBkK\n",
       "JSgWSpQgzRdLWa0fSqaKxR3Qf/OdNZXq7Tq/GFzXzWpVI7QYXLfPC+rB9x77Q10kjOh9T3bJ3GnA\n",
       "VrVSiBSUEc6T7WB3/0vgSrP8nR9VIxxeKW+i0jin3BvwA00jc0lCIFvJAAAAAElFTkSuQmCC\n",
       "\" style=\"display:inline;vertical-align:middle;\" /></a></td></tr>\n",
       "<tr><td>3</td><td>Operation</td><td>operator:&nbsp;6<br>operands:&nbsp;5<br></td><td><a class=\"ProveItLink\" href=\"../e995d8f510d57489ec00056c4b9f184933e829f80/expr.ipynb\"><img src=\"data:image/png;base64,iVBORw0KGgoAAAANSUhEUgAAACwAAAAPBAMAAABtkjCqAAAAMFBMVEX///92dnbMzMyqqqq6uroi\n",
       "IiLc3NyYmJgyMjIQEBBmZmaIiIhUVFTu7u5EREQAAAAHjHnoAAAAAXRSTlMAQObYZgAAAHlJREFU\n",
       "GNNjYGB4y4AKslY8AZL3/qKKsh1g2G/AcOcMmjDPBQbWDwwM3GjCnHMZeL5gCnP8ZeDCIgwErH+x\n",
       "CusLYBXuY4AJs7WGgoADiM31gAGb6j0M2ISZFzCkYRHWYmAowxRmCxSUCmDgWvljOaqj////H8CA\n",
       "HQAAdocm64+lbMYAAAAASUVORK5CYII=\n",
       "\" style=\"display:inline;vertical-align:middle;\" /></a></td></tr>\n",
       "<tr><td>4</td><td>Operation</td><td>operator:&nbsp;6<br>operands:&nbsp;7<br></td><td><a class=\"ProveItLink\" href=\"../c635ab5bd78666db9769740f8ff7414c0805e84b0/expr.ipynb\"><img src=\"data:image/png;base64,iVBORw0KGgoAAAANSUhEUgAAADsAAAAQBAMAAABaYBp1AAAAMFBMVEX///+YmJh2dnbMzMwQEBDu\n",
       "7u6qqqqIiIhUVFRERERmZma6uroiIiIyMjLc3NwAAABSazM2AAAAAXRSTlMAQObYZgAAAJBJREFU\n",
       "GNNjYIACvlU3NzCgAs4ABPsFA/s3VFnW+UjSrQwM56HCDyBURz+StEsAQz/EdLYCqFA9kvT9AIb1\n",
       "eKSB4HwAPmnmTwz4pHknYJF+ewYETgN5Kxnw6WZvAJFcd+/e8b17twFDOouB7wFu3cwLGBjxSL9R\n",
       "UlqDx+7z////QZVe5X9LgAETwHVjB9xI0gDOtjQ98F9LdQAAAABJRU5ErkJggg==\n",
       "\" style=\"display:inline;vertical-align:middle;\" /></a></td></tr>\n",
       "<tr><td>5</td><td>ExprTuple</td><td>9, 8</td><td><a class=\"ProveItLink\" href=\"../18a53c2720a267d39225b9844cb9551890b20e0a0/expr.ipynb\"><img src=\"data:image/png;base64,iVBORw0KGgoAAAANSUhEUgAAADkAAAAVBAMAAAAOWFv7AAAAMFBMVEX////c3NwiIiJERESqqqqY\n",
       "mJh2dnZmZmYQEBDu7u4yMjJUVFTMzMyIiIi6uroAAAAs73DqAAAAAXRSTlMAQObYZgAAAPdJREFU\n",
       "KM9jYMAP+C7gkIgDEaeBmHkCqgRj+eIHDOwHgKyVDAyc9miy0gy8XxgYFjAw8F5g4Ny9H012JwOD\n",
       "PgNDGAMDB0jiPppsxwSG/Q8YZjAwvGLAIrt+AkP9AwZmB4YybLJAoD+Bga2AYSl2WZ5vDAwsCxj6\n",
       "sMtyGQBDooHhH7KslBII6AFZxSD9H1Bl4YB3A0S2BausOwOjAMhkU5gssgKeAgZWAQbWBQzpUFnO\n",
       "T0iyQmlpRQwgHz0Ccsr7lwdw9gsgefb/f6BirgcMHDBBPgF0XwFDkjUBymbFCK5cSAxil+VcAI5L\n",
       "CMBIItwgqxhxpZw7DAwAey1B/pBWpzEAAAAASUVORK5CYII=\n",
       "\" style=\"display:inline;vertical-align:middle;\" /></a></td></tr>\n",
       "<tr><td>6</td><td>Literal</td><td></td><td><a class=\"ProveItLink\" href=\"../../../number/addition/__pv_it/3e6688136fa3c7aefbebe51301b7c3ebf0b69c440/expr.ipynb\"><img src=\"data:image/png;base64,iVBORw0KGgoAAAANSUhEUgAAAA4AAAAOBAMAAADtZjDiAAAAJFBMVEX///+6urpUVFQQEBAiIiIy\n",
       "MjJmZmaIiIiqqqrc3Nzu7u4AAACgHpL+AAAAAXRSTlMAQObYZgAAAB5JREFUCNdjYGBgWMkAAe2k\n",
       "0Kmhoc6hoUGk6BMHYgAHOwjcado9fwAAAABJRU5ErkJggg==\n",
       "\" style=\"display:inline;vertical-align:middle;\" /></a></td></tr>\n",
       "<tr><td>7</td><td>ExprTuple</td><td>8, 9</td><td><a class=\"ProveItLink\" href=\"../4721fc95b53b6494f874f212d380378546af09cd0/expr.ipynb\"><img src=\"data:image/png;base64,iVBORw0KGgoAAAANSUhEUgAAADkAAAAVBAMAAAAOWFv7AAAAMFBMVEX////c3NwiIiJERESqqqqY\n",
       "mJh2dnZmZmYQEBDu7u4yMjJUVFTMzMyIiIi6uroAAAAs73DqAAAAAXRSTlMAQObYZgAAAPhJREFU\n",
       "KM9jYMAP+C7gkIgDEacRfPEqOxjTkoGB/QCQXgmXZNzAcN8Bwpz8E0gsYGDgRRjMPYGB6QOYNXs3\n",
       "SDaMgYFjAlyWo5OB+x+EyQuSncHA8AphLddPBnZkWWYHhjIUdzL9RJJlK2BYiiJ7PgFJlmUBQx+K\n",
       "7GIGJFm+BgagRYyLlEDgAdCLBsiyPB8Y/iFrvc2AJtuCJMlSwCCIarIpkuxxBoZAhglwWdYFDOkI\n",
       "SUa1tHQFzk/IPnqE5Nn///8rcPYLAF1X8asUGDoPGDgE0GMULgAMSdYENFlWOCsXJQbRZDmBMcgg\n",
       "jSYLj1FukBWMuFLOHQYGANJlP0xPeVw2AAAAAElFTkSuQmCC\n",
       "\" style=\"display:inline;vertical-align:middle;\" /></a></td></tr>\n",
       "<tr><td>8</td><td>Operation</td><td>operator:&nbsp;10<br>operand:&nbsp;11<br></td><td><a class=\"ProveItLink\" href=\"../9cd64560928a3eea5b8bd346c0fe76e791b1ec050/expr.ipynb\"><img src=\"data:image/png;base64,iVBORw0KGgoAAAANSUhEUgAAABkAAAAOBAMAAAAoFKpzAAAAMFBMVEX///+YmJh2dnbMzMwQEBDu\n",
       "7u6qqqqIiIhUVFRERERmZma6uroiIiIyMjLc3NwAAABSazM2AAAAAXRSTlMAQObYZgAAAFtJREFU\n",
       "CNdjYIACvlU3NzDAwQsG9m8IXisDw3kEzyWAoR+h9H4Aw3okjUCVAUgc5k/IUrwTGBjengGB00De\n",
       "SmQp9gZkXhYD3wOEGQsYGBG8N0pKa5As+///DwMAyBMb8hv9jf4AAAAASUVORK5CYII=\n",
       "\" style=\"display:inline;vertical-align:middle;\" /></a></td></tr>\n",
       "<tr><td>9</td><td>Literal</td><td></td><td><a class=\"ProveItLink\" href=\"../../../number/numeral/__pv_it/9be8badea4c35b9724062cecc501d17a3158d1d20/expr.ipynb\"><img src=\"data:image/png;base64,iVBORw0KGgoAAAANSUhEUgAAAAgAAAAPBAMAAAArJJMAAAAAHlBMVEX///+YmJgyMjIQEBBmZmaI\n",
       "iIhUVFTu7u5EREQAAAAw+MI4AAAAAXRSTlMAQObYZgAAACFJREFUCNdjYGBoZ2BgqJjOwFCWBiQY\n",
       "WEklWJwnOTKAAACjEQo8HvEr3AAAAABJRU5ErkJggg==\n",
       "\" style=\"display:inline;vertical-align:middle;\" /></a></td></tr>\n",
       "<tr><td>10</td><td>Literal</td><td></td><td><a class=\"ProveItLink\" href=\"../../../number/negation/__pv_it/3fc7a08bb9735faa20ef8e175f6ea95511acc9c70/expr.ipynb\"><img src=\"data:image/png;base64,iVBORw0KGgoAAAANSUhEUgAAAA4AAAACBAMAAACapPCZAAAAElBMVEX///+6uroiIiIyMjLc3NwA\n",
       "AAA6l9OrAAAAAXRSTlMAQObYZgAAABBJREFUCNdjcFYCAUUGKAAADR4BD8/TF5gAAAAASUVORK5C\n",
       "YII=\n",
       "\" style=\"display:inline;vertical-align:middle;\" /></a></td></tr>\n",
       "<tr><td>11</td><td>Literal</td><td></td><td><a class=\"ProveItLink\" href=\"../../../number/numeral/__pv_it/77d407a64829263cdc16415becd4c2293f77a4bf0/expr.ipynb\"><img src=\"data:image/png;base64,iVBORw0KGgoAAAANSUhEUgAAAAkAAAAOBAMAAAAPuiubAAAAMFBMVEX///+YmJh2dnbMzMwQEBAi\n",
       "IiLu7u6qqqqIiIhUVFS6urpEREQyMjJmZmbc3NwAAACOMKdoAAAAAXRSTlMAQObYZgAAAFBJREFU\n",
       "CNdj4Lt7egEDw0sGju8MDNMYGOIZGFwSGOYvYDifwHAfKAEUSQASzJ9ATJ4NIPI2iOCYACJrGfge\n",
       "MDBfYGB8wPBUSekqUPH//18ZAIliFhc3zESNAAAAAElFTkSuQmCC\n",
       "\" style=\"display:inline;vertical-align:middle;\" /></a></td></tr>\n",
       "</table>\n"
      ],
      "text/plain": [
       "0. (1 - 2) = (-2 + 1)\n",
       "   core type: Operation\n",
       "   operator: 1\n",
       "   operands: 2\n",
       "1. =\n",
       "   core type: Literal\n",
       "   sub-expressions: \n",
       "2. (1 - 2 , -2 + 1)\n",
       "   core type: ExprTuple\n",
       "   sub-expressions: 3, 4\n",
       "3. 1 - 2\n",
       "   core type: Operation\n",
       "   operator: 6\n",
       "   operands: 5\n",
       "4. -2 + 1\n",
       "   core type: Operation\n",
       "   operator: 6\n",
       "   operands: 7\n",
       "5. (1 , -2)\n",
       "   core type: ExprTuple\n",
       "   sub-expressions: 9, 8\n",
       "6. +\n",
       "   core type: Literal\n",
       "   sub-expressions: \n",
       "7. (-2 , 1)\n",
       "   core type: ExprTuple\n",
       "   sub-expressions: 8, 9\n",
       "8. -2\n",
       "   core type: Operation\n",
       "   operator: 10\n",
       "   operand: 11\n",
       "9. 1\n",
       "   core type: Literal\n",
       "   sub-expressions: \n",
       "10. -\n",
       "    core type: Literal\n",
       "    sub-expressions: \n",
       "11. 2\n",
       "    core type: Literal\n",
       "    sub-expressions: "
      ]
     },
     "execution_count": 4,
     "metadata": {},
     "output_type": "execute_result"
    }
   ],
   "source": [
    "# display the expression information\n",
    "expr.exprInfo()"
   ]
  },
  {
   "cell_type": "code",
   "execution_count": null,
   "metadata": {},
   "outputs": [],
   "source": []
  }
 ],
 "metadata": {
  "kernelspec": {
   "display_name": "Python 3",
   "language": "python",
   "name": "python3"
  }
 },
 "nbformat": 4,
 "nbformat_minor": 0
}
