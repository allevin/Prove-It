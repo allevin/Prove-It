{
 "cells": [
  {
   "cell_type": "markdown",
   "metadata": {},
   "source": [
    "Expression of type <a class=\"ProveItLink\" href=\"../../../../../doc/html/api/proveit.ExprTuple.html\">ExprTuple</a>\n",
    "=======================\n",
    "# from context <a class=\"ProveItLink\" href=\"../../_context_.ipynb\">proveit.iteration</a>"
   ]
  },
  {
   "cell_type": "code",
   "execution_count": 1,
   "metadata": {},
   "outputs": [],
   "source": [
    "# import Expression classes needed to build the expression\n",
    "from proveit import ExprTuple\n",
    "from proveit._common_ import j, k\n",
    "from proveit.number import Add, Naturals, Neg, one"
   ]
  },
  {
   "cell_type": "code",
   "execution_count": 2,
   "metadata": {},
   "outputs": [
    {
     "data": {
      "text/html": [
       "<strong id=\"expr\">expr:</strong> <a class=\"ProveItLink\" href=\"expr.ipynb\"><img src=\"data:image/png;base64,iVBORw0KGgoAAAANSUhEUgAAAJoAAAAVBAMAAABMN+opAAAAMFBMVEX////c3NwiIiJERESqqqqY\n",
       "mJh2dnZmZmYQEBDu7u4yMjJUVFTMzMyIiIi6uroAAAAs73DqAAAAAXRSTlMAQObYZgAAAcBJREFU\n",
       "OMtjYKAu4LtAJYNYHwCJ0wwMs5swpJgnYAjFC6AJWEIozvXGKxnY9VUYaoCclUC8HF0npz2madFo\n",
       "/Mk/YTYHHGZg4Gdg4GJg4AV59AvcFIj9nLv3TyDksdm7YaZx6wAN4QB6NYGBA6iNDybOwAILxPsE\n",
       "TWPghZv2asIekGmcDQyvgFy2BZSZdmbDrAlA0xhMGMqAJFcCa/0DAqZx3rXEadoBXx4DkGnpDEuB\n",
       "5PyXme8dCJjGxqCK2zT2B7Eg07wY+oCk/1nCPr3J8BW3aQw7uU8AGS8Y/gHJej0cpkkpgQBYVoDv\n",
       "I5BkXAQWeYBu2mzOFUDGebBpurM1QaLsq1Yt6lq1agP2WGBTwOM2noQTYNNagAH8h+ELI8E45SrA\n",
       "YxpDCDPYp6bAVPeB8x8bQdPmO2AxjRNmGpswkBEFjFUGbgOGj7wETfOfgMW0+SDvM4OCsQqcQh4B\n",
       "/RDAcD0T1bTy/uUBaJqL0PjsFb9KGWYAo4ZvfTOQOwuI1zFwoJQMLLiLJ3Wsog+RE3gDKKsSU9g9\n",
       "ZPyDVRzZB2wXICUSQcDznbmAoGkgz0oTYxqnWSn2nI/M2QhK3tQqyXkPMAAAdH+IwnoIwc4AAAAA\n",
       "SUVORK5CYII=\n",
       "\" style=\"display:inline;vertical-align:middle;\" /></a><br>"
      ],
      "text/plain": [
       "expr: (k + 1 - j - 1 , Naturals)"
      ]
     },
     "execution_count": 2,
     "metadata": {},
     "output_type": "execute_result"
    }
   ],
   "source": [
    "# build up the expression from sub-expressions\n",
    "expr = ExprTuple(Add(k, one, Neg(j), Neg(one)), Naturals)"
   ]
  },
  {
   "cell_type": "code",
   "execution_count": 3,
   "metadata": {},
   "outputs": [
    {
     "name": "stdout",
     "output_type": "stream",
     "text": [
      "Passed sanity check: built 'expr' is the same as the stored Expression.\n"
     ]
    }
   ],
   "source": [
    "# check that the built expression is the same as the stored expression\n",
    "%check_expr"
   ]
  },
  {
   "cell_type": "code",
   "execution_count": 4,
   "metadata": {},
   "outputs": [
    {
     "data": {
      "text/html": [
       "<table><tr><th>&nbsp;</th><th>core type</th><th>sub-expressions</th><th>expression</th></tr>\n",
       "<tr><td>0</td><td>ExprTuple</td><td>1, 2</td><td><a class=\"ProveItLink\" href=\"expr.ipynb\"><img src=\"data:image/png;base64,iVBORw0KGgoAAAANSUhEUgAAAJoAAAAVBAMAAABMN+opAAAAMFBMVEX////c3NwiIiJERESqqqqY\n",
       "mJh2dnZmZmYQEBDu7u4yMjJUVFTMzMyIiIi6uroAAAAs73DqAAAAAXRSTlMAQObYZgAAAcBJREFU\n",
       "OMtjYKAu4LtAJYNYHwCJ0wwMs5swpJgnYAjFC6AJWEIozvXGKxnY9VUYaoCclUC8HF0npz2madFo\n",
       "/Mk/YTYHHGZg4Gdg4GJg4AV59AvcFIj9nLv3TyDksdm7YaZx6wAN4QB6NYGBA6iNDybOwAILxPsE\n",
       "TWPghZv2asIekGmcDQyvgFy2BZSZdmbDrAlA0xhMGMqAJFcCa/0DAqZx3rXEadoBXx4DkGnpDEuB\n",
       "5PyXme8dCJjGxqCK2zT2B7Eg07wY+oCk/1nCPr3J8BW3aQw7uU8AGS8Y/gHJej0cpkkpgQBYVoDv\n",
       "I5BkXAQWeYBu2mzOFUDGebBpurM1QaLsq1Yt6lq1agP2WGBTwOM2noQTYNNagAH8h+ELI8E45SrA\n",
       "YxpDCDPYp6bAVPeB8x8bQdPmO2AxjRNmGpswkBEFjFUGbgOGj7wETfOfgMW0+SDvM4OCsQqcQh4B\n",
       "/RDAcD0T1bTy/uUBaJqL0PjsFb9KGWYAo4ZvfTOQOwuI1zFwoJQMLLiLJ3Wsog+RE3gDKKsSU9g9\n",
       "ZPyDVRzZB2wXICUSQcDznbmAoGkgz0oTYxqnWSn2nI/M2QhK3tQqyXkPMAAAdH+IwnoIwc4AAAAA\n",
       "SUVORK5CYII=\n",
       "\" style=\"display:inline;vertical-align:middle;\" /></a></td></tr>\n",
       "<tr><td>1</td><td>Operation</td><td>operator:&nbsp;3<br>operands:&nbsp;4<br></td><td><a class=\"ProveItLink\" href=\"../0ce27a802ff88f0bafe9bd140ab8a745f04310b50/expr.ipynb\"><img src=\"data:image/png;base64,iVBORw0KGgoAAAANSUhEUgAAAHMAAAASBAMAAACaxfwqAAAAMFBMVEX///9ERETc3NyIiIjMzMyY\n",
       "mJh2dna6urqqqqpmZmYyMjIiIiIQEBBUVFTu7u4AAAD6+w4kAAAAAXRSTlMAQObYZgAAAOFJREFU\n",
       "OMtj4LuzgQEdMD5AF2H9hE0J1wR0dXzymFovYFPC3wDjP4IK372PoRXdcIiSeri6ZhjDnpBWqJIs\n",
       "BrK1LmOI/E5I62PDB1i08n1/9vwHIa0J3AFYtHJ8MSDoYOYH/Ni0cv4uwK6VafVuEADJMjHUK6CK\n",
       "gJVw290G2zFr1ao9q1atxRFM2diC6b0Df4MCwRBeiU1rPMP7ggRCWvl+YNN6kYFfwYCQVo5/2LQu\n",
       "ZWCe9gBV68zzK9EClBM9i6AracaZdrgnEEhcxTjE2RX0HRjIA/4TJMnUyfAwMwCbMAAiEF28bLw6\n",
       "zAAAAABJRU5ErkJggg==\n",
       "\" style=\"display:inline;vertical-align:middle;\" /></a></td></tr>\n",
       "<tr><td>2</td><td>Literal</td><td></td><td><a class=\"ProveItLink\" href=\"../../../number/sets/integer/__pv_it/e5d9bd86b06b357eee742ad868997123619e09700/expr.ipynb\"><img src=\"data:image/png;base64,iVBORw0KGgoAAAANSUhEUgAAAA8AAAAOBAMAAAACpFvcAAAAMFBMVEX////c3Nx2dna6uroQEBCI\n",
       "iIhUVFTMzMyYmJiqqqoiIiJmZmZEREQyMjLu7u4AAADjlg78AAAAAXRSTlMAQObYZgAAAGBJREFU\n",
       "CNdjePvn7AOGXb8mMDCcYD/AwPCBgYEhqyCUgcEByEi+x1YAZqSX8d2DMDgDaiAMhs0cARAG24N0\n",
       "CIMv4S2EwVDEDmVwTDgAYTAoghiHgZj7AgOD7Rcgj+8CAwA9oh2B0HK+MAAAAABJRU5ErkJggg==\n",
       "\" style=\"display:inline;vertical-align:middle;\" /></a></td></tr>\n",
       "<tr><td>3</td><td>Literal</td><td></td><td><a class=\"ProveItLink\" href=\"../../../number/addition/__pv_it/3e6688136fa3c7aefbebe51301b7c3ebf0b69c440/expr.ipynb\"><img src=\"data:image/png;base64,iVBORw0KGgoAAAANSUhEUgAAAA4AAAAOBAMAAADtZjDiAAAAJFBMVEX///+6urpUVFQQEBAiIiIy\n",
       "MjJmZmaIiIiqqqrc3Nzu7u4AAACgHpL+AAAAAXRSTlMAQObYZgAAAB5JREFUCNdjYGBgWMkAAe2k\n",
       "0Kmhoc6hoUGk6BMHYgAHOwjcado9fwAAAABJRU5ErkJggg==\n",
       "\" style=\"display:inline;vertical-align:middle;\" /></a></td></tr>\n",
       "<tr><td>4</td><td>ExprTuple</td><td>5, 10, 6, 7</td><td><a class=\"ProveItLink\" href=\"../b42d8e66f7d1e56f244c834ecc0f9bca7630d4350/expr.ipynb\"><img src=\"data:image/png;base64,iVBORw0KGgoAAAANSUhEUgAAAHEAAAAVBAMAAACDNRyvAAAAMFBMVEX////c3NwiIiJERESqqqqY\n",
       "mJh2dnZmZmYQEBDu7u4yMjJUVFTMzMyIiIi6uroAAAAs73DqAAAAAXRSTlMAQObYZgAAAWdJREFU\n",
       "OMtjYCAf8F0gQ1MciDjNwDC7CSFmiaGK9SOaAFAJ+wEgvRKIl8NFJ//E1LkBlQ9WsoCBgRfk2C8w\n",
       "0dm7fxJyKERJGAMDxwSgVxHKeQnqhCiZwcDwCkixLSBZJ7MDQxmQ4kpgrX+AS+fcyxOw6GQrYFgK\n",
       "pOa/zHzvgEtnAlMAFp0sCxj6gJT/Wdyu5Z3Aj00nXwPDPyBVr4epU0oJBPQYGBneC6AIQJTwfADr\n",
       "1J2tiSeEkrCFEFBnCwMD5x+GL4y4dS5nwO5aU2Ai+cD5j42BYQJMmBNFIecXNAGwTtYFDOkMDNwG\n",
       "DB95GTg/wYTnKyArZPmJJgCLlUfA6AxguJ7JwNkPDAn2il+lDDNQkji7AqoAWAkD1wMGDgF4doOz\n",
       "HiLrZCpAEwADYOpjTYDnCbgwUgTyCcgfQBGAglxoLsOt83yBOQMWnZyglC4N48HLBl7kzJgegCoA\n",
       "AdwgnzGSU5rcYWAAALqCZhAQeLMuAAAAAElFTkSuQmCC\n",
       "\" style=\"display:inline;vertical-align:middle;\" /></a></td></tr>\n",
       "<tr><td>5</td><td>Variable</td><td></td><td><a class=\"ProveItLink\" href=\"../../../__pv_it/1a7356cf6caf039e07a5436d90e972cbb5e92b0a0/expr.ipynb\"><img src=\"data:image/png;base64,iVBORw0KGgoAAAANSUhEUgAAAAoAAAAOBAMAAADkjZCYAAAAMFBMVEX///9ERETc3NyIiIjMzMyY\n",
       "mJh2dna6urqqqqpmZmYyMjIiIiIQEBBUVFTu7u4AAAD6+w4kAAAAAXRSTlMAQObYZgAAAFBJREFU\n",
       "CNdj4LuzgQEIuCaASP4GEFn/AERmgQiGZQyR3xn4vj97/oOB44sBUIDzdwGQ5La7DVT03oG/QYEh\n",
       "nuF9QQLDRQZ+BQOGpQzM0x4AAD+VFjuIiDKbAAAAAElFTkSuQmCC\n",
       "\" style=\"display:inline;vertical-align:middle;\" /></a></td></tr>\n",
       "<tr><td>6</td><td>Operation</td><td>operator:&nbsp;9<br>operand:&nbsp;8<br></td><td><a class=\"ProveItLink\" href=\"../54bd455a3b87b328f63e73be03988fb44f1688450/expr.ipynb\"><img src=\"data:image/png;base64,iVBORw0KGgoAAAANSUhEUgAAABgAAAASBAMAAACzwgOtAAAALVBMVEX////MzMyqqqpmZmZ2dnZE\n",
       "RESIiIju7u5UVFSYmJi6uroiIiIyMjLc3NwAAABXLbUEAAAAAXRSTlMAQObYZgAAAFRJREFUCNdj\n",
       "YIADzrcMSJwGBlJBWWoBguPAPQHOZivgm8BwZzcI7GLgZVh3AUmTN7IJh5HY7I+QOEzPkTjMG5A4\n",
       "3AZwJteFewJwjpxBMEJRqTPQMQDHJRMBzCil9wAAAABJRU5ErkJggg==\n",
       "\" style=\"display:inline;vertical-align:middle;\" /></a></td></tr>\n",
       "<tr><td>7</td><td>Operation</td><td>operator:&nbsp;9<br>operand:&nbsp;10<br></td><td><a class=\"ProveItLink\" href=\"../27bb768acc4707a63c4de5a0b22e13dfe76b5c980/expr.ipynb\"><img src=\"data:image/png;base64,iVBORw0KGgoAAAANSUhEUgAAABgAAAAPBAMAAAAMihLoAAAAJ1BMVEX///+YmJgQEBBmZmaIiIhU\n",
       "VFTu7u5ERES6uroiIiIyMjLc3NwAAAAKCT4sAAAAAXRSTlMAQObYZgAAACpJREFUCNdjYICDMgST\n",
       "If0Ygp0aisRhYCGTs2smCMwg3wAYYDY6ZciADABBShCHMIgXsAAAAABJRU5ErkJggg==\n",
       "\" style=\"display:inline;vertical-align:middle;\" /></a></td></tr>\n",
       "<tr><td>8</td><td>Variable</td><td></td><td><a class=\"ProveItLink\" href=\"../../../__pv_it/612356038763a16ceac85a062629d016c986635c0/expr.ipynb\"><img src=\"data:image/png;base64,iVBORw0KGgoAAAANSUhEUgAAAAoAAAASBAMAAACQmVJ4AAAALVBMVEX////MzMyqqqpmZmYyMjK6\n",
       "uroiIiJ2dnZERESIiIju7u5UVFTc3NyYmJgAAAAeP2GyAAAAAXRSTlMAQObYZgAAAE1JREFUCNdj\n",
       "YGBg4H3DACI3MGADK2csAJIFbBcYGDgX8AFJHoa4AyCJMrC0M4jgegQimV6BSOYEEMlmwMDAeuCc\n",
       "AAODnEEzkL+iGKgTAMbaDxjCuhcwAAAAAElFTkSuQmCC\n",
       "\" style=\"display:inline;vertical-align:middle;\" /></a></td></tr>\n",
       "<tr><td>9</td><td>Literal</td><td></td><td><a class=\"ProveItLink\" href=\"../../../number/negation/__pv_it/3fc7a08bb9735faa20ef8e175f6ea95511acc9c70/expr.ipynb\"><img src=\"data:image/png;base64,iVBORw0KGgoAAAANSUhEUgAAAA4AAAACBAMAAACapPCZAAAAElBMVEX///+6uroiIiIyMjLc3NwA\n",
       "AAA6l9OrAAAAAXRSTlMAQObYZgAAABBJREFUCNdjcFYCAUUGKAAADR4BD8/TF5gAAAAASUVORK5C\n",
       "YII=\n",
       "\" style=\"display:inline;vertical-align:middle;\" /></a></td></tr>\n",
       "<tr><td>10</td><td>Literal</td><td></td><td><a class=\"ProveItLink\" href=\"../../../number/numeral/__pv_it/9be8badea4c35b9724062cecc501d17a3158d1d20/expr.ipynb\"><img src=\"data:image/png;base64,iVBORw0KGgoAAAANSUhEUgAAAAgAAAAPBAMAAAArJJMAAAAAHlBMVEX///+YmJgyMjIQEBBmZmaI\n",
       "iIhUVFTu7u5EREQAAAAw+MI4AAAAAXRSTlMAQObYZgAAACFJREFUCNdjYGBoZ2BgqJjOwFCWBiQY\n",
       "WEklWJwnOTKAAACjEQo8HvEr3AAAAABJRU5ErkJggg==\n",
       "\" style=\"display:inline;vertical-align:middle;\" /></a></td></tr>\n",
       "</table>\n"
      ],
      "text/plain": [
       "0. (k + 1 - j - 1 , Naturals)\n",
       "   core type: ExprTuple\n",
       "   sub-expressions: 1, 2\n",
       "1. k + 1 - j - 1\n",
       "   core type: Operation\n",
       "   operator: 3\n",
       "   operands: 4\n",
       "2. Naturals\n",
       "   core type: Literal\n",
       "   sub-expressions: \n",
       "3. +\n",
       "   core type: Literal\n",
       "   sub-expressions: \n",
       "4. (k , 1 , -j , -1)\n",
       "   core type: ExprTuple\n",
       "   sub-expressions: 5, 10, 6, 7\n",
       "5. k\n",
       "   core type: Variable\n",
       "   sub-expressions: \n",
       "6. -j\n",
       "   core type: Operation\n",
       "   operator: 9\n",
       "   operand: 8\n",
       "7. -1\n",
       "   core type: Operation\n",
       "   operator: 9\n",
       "   operand: 10\n",
       "8. j\n",
       "   core type: Variable\n",
       "   sub-expressions: \n",
       "9. -\n",
       "   core type: Literal\n",
       "   sub-expressions: \n",
       "10. 1\n",
       "    core type: Literal\n",
       "    sub-expressions: "
      ]
     },
     "execution_count": 4,
     "metadata": {},
     "output_type": "execute_result"
    }
   ],
   "source": [
    "# display the expression information\n",
    "expr.exprInfo()"
   ]
  },
  {
   "cell_type": "code",
   "execution_count": null,
   "metadata": {},
   "outputs": [],
   "source": []
  }
 ],
 "metadata": {
  "kernelspec": {
   "display_name": "Python 3",
   "language": "python",
   "name": "python3"
  }
 },
 "nbformat": 4,
 "nbformat_minor": 0
}
