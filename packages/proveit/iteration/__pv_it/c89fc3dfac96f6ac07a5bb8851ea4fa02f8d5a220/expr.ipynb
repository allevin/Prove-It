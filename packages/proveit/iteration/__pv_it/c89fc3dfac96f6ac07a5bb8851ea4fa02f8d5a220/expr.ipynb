{
 "cells": [
  {
   "cell_type": "markdown",
   "metadata": {},
   "source": [
    "Expression of type <a class=\"ProveItLink\" href=\"../../../../../doc/html/api/proveit.ExprTuple.html\">ExprTuple</a>\n",
    "=======================\n",
    "# from context <a class=\"ProveItLink\" href=\"../../_context_.ipynb\">proveit.iteration</a>"
   ]
  },
  {
   "cell_type": "code",
   "execution_count": 1,
   "metadata": {},
   "outputs": [],
   "source": [
    "# import Expression classes needed to build the expression\n",
    "from proveit import ExprTuple\n",
    "from proveit._common_ import k, l\n",
    "from proveit.number import Add, Neg, one, two"
   ]
  },
  {
   "cell_type": "code",
   "execution_count": 2,
   "metadata": {},
   "outputs": [
    {
     "data": {
      "text/html": [
       "<strong id=\"expr\">expr:</strong> <a class=\"ProveItLink\" href=\"expr.ipynb\"><img src=\"data:image/png;base64,iVBORw0KGgoAAAANSUhEUgAAARsAAAAVBAMAAACEflfWAAAAMFBMVEX////c3NwiIiJERESqqqqY\n",
       "mJh2dnZmZmYQEBDu7u4yMjJUVFTMzMyIiIi6uroAAAAs73DqAAAAAXRSTlMAQObYZgAAAjBJREFU\n",
       "SMfNVj1IAzEY/Q57tVd7tTgqgrg5aF0cxKWbo50ctZPiIIjiDy7+4KCCUnARingoInaxqzjoLqKb\n",
       "Dgqnm4L4gwpKUS+5S2zS5j5/QAw8mkffe31cLmkA/tmIHv/Bj9xggi4PcACQmZa/DcZtgWuj67as\n",
       "afU+cTdEclhS+b4L2HKwWdS2W6Q1YD5KiqUXNkPdEE6jSZYLk6wVFxgxbzIuOnYA4qIis8vrKN2c\n",
       "n+NJnS5CTvEoTw6wF2lBrDObhj1bVJjMpHZzPocnLbu4JmttyYFaXqyznYYJVR21m/GohSeVJShG\n",
       "yNKmdEmi3xW9D/G0oo7azXh5Ck8KDlBsONPVq77bhCCpaJbbRJ5BUUftZjycxJMCFsWiM+04lB93\n",
       "qOgwCjer6qjdnNt4UnSS4s2ZTjTJgUfkCNDW6slws4ZAVUfhLuCVTkQ1zWpSJkXuKEidxkwDXeJs\n",
       "dm0+myVH1qn8cMycpPiso3AX8EobT/LqzDgHQB4eNbFxmyHVaQctVvrp+Lj5YiXwJG+xWshGMN6C\n",
       "YsBTUHqRB0AvEWKAr5vxsiSaBLpF0Us3wr0pBuRXxDpVPT2DJVZ8tc7XzTjZxEgS2+iXdB+e9IkS\n",
       "xvlR8f7+IJ0lY6/DsHzv6+bHYB2aBGGbIhQr/NkAetsQFRfg5+Z8Ck/y/iT01PcuP6Ii6Xt14rwT\n",
       "T+r3sPWba1Xya7KCC4ZiGJYL5wLy82F+UaflMEVFzAVof3E5rcUEZy4+AAr4AWYdf75iAAAAAElF\n",
       "TkSuQmCC\n",
       "\" style=\"display:inline;vertical-align:middle;\" /></a><br>"
      ],
      "text/plain": [
       "expr: (k + l - 2 + 1 , k + l + (-2 + 1))"
      ]
     },
     "execution_count": 2,
     "metadata": {},
     "output_type": "execute_result"
    }
   ],
   "source": [
    "# build up the expression from sub-expressions\n",
    "subExpr1 = Neg(two)\n",
    "expr = ExprTuple(Add(k, l, subExpr1, one), Add(k, l, Add(subExpr1, one)))"
   ]
  },
  {
   "cell_type": "code",
   "execution_count": 3,
   "metadata": {},
   "outputs": [
    {
     "name": "stdout",
     "output_type": "stream",
     "text": [
      "Passed sanity check: built 'expr' is the same as the stored Expression.\n"
     ]
    }
   ],
   "source": [
    "# check that the built expression is the same as the stored expression\n",
    "%check_expr"
   ]
  },
  {
   "cell_type": "code",
   "execution_count": 4,
   "metadata": {},
   "outputs": [
    {
     "data": {
      "text/html": [
       "<table><tr><th>&nbsp;</th><th>core type</th><th>sub-expressions</th><th>expression</th></tr>\n",
       "<tr><td>0</td><td>ExprTuple</td><td>1, 2</td><td><a class=\"ProveItLink\" href=\"expr.ipynb\"><img src=\"data:image/png;base64,iVBORw0KGgoAAAANSUhEUgAAARsAAAAVBAMAAACEflfWAAAAMFBMVEX////c3NwiIiJERESqqqqY\n",
       "mJh2dnZmZmYQEBDu7u4yMjJUVFTMzMyIiIi6uroAAAAs73DqAAAAAXRSTlMAQObYZgAAAjBJREFU\n",
       "SMfNVj1IAzEY/Q57tVd7tTgqgrg5aF0cxKWbo50ctZPiIIjiDy7+4KCCUnARingoInaxqzjoLqKb\n",
       "Dgqnm4L4gwpKUS+5S2zS5j5/QAw8mkffe31cLmkA/tmIHv/Bj9xggi4PcACQmZa/DcZtgWuj67as\n",
       "afU+cTdEclhS+b4L2HKwWdS2W6Q1YD5KiqUXNkPdEE6jSZYLk6wVFxgxbzIuOnYA4qIis8vrKN2c\n",
       "n+NJnS5CTvEoTw6wF2lBrDObhj1bVJjMpHZzPocnLbu4JmttyYFaXqyznYYJVR21m/GohSeVJShG\n",
       "yNKmdEmi3xW9D/G0oo7azXh5Ck8KDlBsONPVq77bhCCpaJbbRJ5BUUftZjycxJMCFsWiM+04lB93\n",
       "qOgwCjer6qjdnNt4UnSS4s2ZTjTJgUfkCNDW6slws4ZAVUfhLuCVTkQ1zWpSJkXuKEidxkwDXeJs\n",
       "dm0+myVH1qn8cMycpPiso3AX8EobT/LqzDgHQB4eNbFxmyHVaQctVvrp+Lj5YiXwJG+xWshGMN6C\n",
       "YsBTUHqRB0AvEWKAr5vxsiSaBLpF0Us3wr0pBuRXxDpVPT2DJVZ8tc7XzTjZxEgS2+iXdB+e9IkS\n",
       "xvlR8f7+IJ0lY6/DsHzv6+bHYB2aBGGbIhQr/NkAetsQFRfg5+Z8Ck/y/iT01PcuP6Ii6Xt14rwT\n",
       "T+r3sPWba1Xya7KCC4ZiGJYL5wLy82F+UaflMEVFzAVof3E5rcUEZy4+AAr4AWYdf75iAAAAAElF\n",
       "TkSuQmCC\n",
       "\" style=\"display:inline;vertical-align:middle;\" /></a></td></tr>\n",
       "<tr><td>1</td><td>Operation</td><td>operator:&nbsp;8<br>operands:&nbsp;3<br></td><td><a class=\"ProveItLink\" href=\"../ff40f69966442c6577410d0fd145d786cfebeb150/expr.ipynb\"><img src=\"data:image/png;base64,iVBORw0KGgoAAAANSUhEUgAAAHEAAAAQBAMAAADT+I0cAAAAMFBMVEX///9ERETc3NyIiIjMzMyY\n",
       "mJh2dna6urqqqqpmZmYyMjIiIiIQEBBUVFTu7u4AAAD6+w4kAAAAAXRSTlMAQObYZgAAARxJREFU\n",
       "KM9j4LuzgQENZH9H5WvOEkdXwvgASHBNQBdm/YDCZbrAYN+AqoJPHqSTHy76CEpzLkBRxvuAgfsD\n",
       "igq+u/dBOusfwJQ0Q2keAxSdPOcYeL+jqmCwB2nKYkDXqe+AopPrHwMnVp3LGCLRxOPRPc7A/Q+L\n",
       "Tr7vz57/QBW/iKHTPwGLTo4vBuiuPYyhcyEDFp2cvwvQdLJ8AZFau0FgOySwBbDp5La7DQ7cWatW\n",
       "7Vm1ai2QxXwA3UpbBlQVEJ3vHfgbFFBMZLzwAFUjxwQGJSx2xjO8L0D1P39AAqpOTwaGICw6LzLw\n",
       "Kxig6vRDTQlM29IyN2DRuZSBedoDFHE4HxaZ////R9M58/zKAGQlzQyEAC4VxQR1IqsAAFT1Yi/J\n",
       "qks2AAAAAElFTkSuQmCC\n",
       "\" style=\"display:inline;vertical-align:middle;\" /></a></td></tr>\n",
       "<tr><td>2</td><td>Operation</td><td>operator:&nbsp;8<br>operands:&nbsp;4<br></td><td><a class=\"ProveItLink\" href=\"../d7d5a3031cc42802080e7669a12332b9995f49f10/expr.ipynb\"><img src=\"data:image/png;base64,iVBORw0KGgoAAAANSUhEUgAAAJAAAAAVBAMAAABbFXrgAAAAMFBMVEX///9ERETc3NyIiIjMzMyY\n",
       "mJh2dna6urqqqqpmZmYyMjIiIiIQEBBUVFTu7u4AAAD6+w4kAAAAAXRSTlMAQObYZgAAAZlJREFU\n",
       "OMtjYKAnYDcgoIC1gIGB784GdOHs72gCvgim5ixxdOWMDxgYpgBprgkY5n9AE1gHZzFdYLBvQJXk\n",
       "kwcaxAVk8MMlHkFpzgWofGaEz3gfMHB/QJHlu3sfaBBrAgND/QOYqmYozWOAxoerYOA5x8D7HVWW\n",
       "wR4ozXeAgSGLAd0gfQdUfhXCH1z/GDixGcQgwcCwjCESTSoezeBpKGHC/Q+bQZkMfN+fPf+BKnUR\n",
       "zaClKAb5J2AzqIuB44sButcOo/GPoxi0kAGbQTUMnL8L0Axi+YKmFOhzptW7QQColFMAq0H+DNx2\n",
       "t8GRMmvVqj2rVq0FxfYBVD4DSvq0ZUCThRn03oG/QQHFDsYLD1DtPIFkDscEBiXsXotneF+AGnz8\n",
       "AWjBKYpkkCcDQxA2g6KAUcSvgJoA+f3QEmQmwhymbWmZG7BH/1IG5mmoXkHnM1QjJaL///+jGTTz\n",
       "/MoABoblyOHYjJZX4VlEAVvRgaKa7wAyrxhNKYzPmoDNIBTVbAZEFWzrCKp4RVwJqUtQxSXiDGIi\n",
       "5HBmBwYAvNiBerqmrXkAAAAASUVORK5CYII=\n",
       "\" style=\"display:inline;vertical-align:middle;\" /></a></td></tr>\n",
       "<tr><td>3</td><td>ExprTuple</td><td>5, 6, 10, 11</td><td><a class=\"ProveItLink\" href=\"../0b41fed517a3e9f6dd1279df644563e05a43d47d0/expr.ipynb\"><img src=\"data:image/png;base64,iVBORw0KGgoAAAANSUhEUgAAAF8AAAAVBAMAAADSoS/MAAAAMFBMVEX////c3NwiIiJERESqqqqY\n",
       "mJh2dnZmZmYQEBDu7u4yMjJUVFTMzMyIiIi6uroAAAAs73DqAAAAAXRSTlMAQObYZgAAAYFJREFU\n",
       "OMtjYCAZ8F0gXm0ciDjNwDC7CSbCpv8ARQVj+WK4gCUDA/sBIL0SiJfDVcSjGinNwPsFypz8E0gs\n",
       "YGDgBbnoC1xFFaqGnQwM+hDW7N0gDWEMDBwTgN74CVfRi6qhYwLDfqibeEGKZjAwvAK5fAHczX9Q\n",
       "NayfwFCPrIHZgaEMSHElsEKFWT9ghIz+BCQNbAUMS4HU/JeZ7x3AotwG6Op5vjEgaWBZwNAHpPzP\n",
       "wqQ5MCKFywBZA18Dwz8gVa8Hkz5/AEJLKYEASLiYAVkDzwewBt3ZmlDRG+gW8G5A19DCwMD5h+EL\n",
       "I0TUmhNNgzsDowCqk0xBQcP5j42BARQaX6E03MsFDKwCnAgNrAsY0sFB85GXgfMTUODPXAgNA0Jp\n",
       "aUUM8xWQg/URMCACGK5nMnD2A+2G0fBI+P//E8OMj0AWe8WvUqDSBwwccGk+AVQaAR7CWcCkwZoA\n",
       "47Ci0QgQAGflQpM3sRo4F4CTPBRcQKMRcQFncYNcy0hCFr3DwAAAEt1kUHx+9ggAAAAASUVORK5C\n",
       "YII=\n",
       "\" style=\"display:inline;vertical-align:middle;\" /></a></td></tr>\n",
       "<tr><td>4</td><td>ExprTuple</td><td>5, 6, 7</td><td><a class=\"ProveItLink\" href=\"../d4fdda68e9265b6dbd6a2bdaecf87b6c6a1e5f020/expr.ipynb\"><img src=\"data:image/png;base64,iVBORw0KGgoAAAANSUhEUgAAAG8AAAAVBAMAAAC6Uq30AAAAMFBMVEX////c3NwiIiJERESqqqqY\n",
       "mJh2dnZmZmYQEBDu7u4yMjJUVFTMzMyIiIi6uroAAAAs73DqAAAAAXRSTlMAQObYZgAAAYtJREFU\n",
       "OMtjYCAb8F0gXU8ciDjNwDC7CSbCpv8ARQVj+eIH6LosGRjYDwDplUC8HC4aj6pImoH3C5q+yT+B\n",
       "xAIGBl6QSxGSVaiqdjIw6ENYnAIQevZukMYwBgaOCUBv/oSr7EXV2DGBYT/ErSywoOAFKZ7BwPAK\n",
       "5LMFcD/9QdW4fgJDPTaNzA4MZUCKK4EVKs36ASME9Sdg0chWwLAUSM1/mfneASzKbYCuj+cbAxaN\n",
       "LAsY+oCU/1mYMg6MSOUywKaRr4HhH5Cq14MpO38AQkspgQBIuJgBm0aeD2CNurM1oaI30C3k3QAi\n",
       "2VetWtS1atUGZI0twCj6w/CFEaLOmhNNozsDowB2p5qCgpLzHxsDAyj0vkJpeNAUMLBi08i6gCEd\n",
       "HJQfeRk4PwEF/syF0DAglJZWxIA9Oh4BAy6A4XomA2c/0GgYDY/E//8/oWpkr/hVCtTygIEDroxP\n",
       "AJVGBSwoEQVMcqwJMA4rGo0v2+ZCsxURGlEA5wJwloOCC2g0HsAN8g0jGUXHHQYGAHCpbw/Ntaut\n",
       "AAAAAElFTkSuQmCC\n",
       "\" style=\"display:inline;vertical-align:middle;\" /></a></td></tr>\n",
       "<tr><td>5</td><td>Variable</td><td></td><td><a class=\"ProveItLink\" href=\"../../../__pv_it/1a7356cf6caf039e07a5436d90e972cbb5e92b0a0/expr.ipynb\"><img src=\"data:image/png;base64,iVBORw0KGgoAAAANSUhEUgAAAAoAAAAOBAMAAADkjZCYAAAAMFBMVEX///9ERETc3NyIiIjMzMyY\n",
       "mJh2dna6urqqqqpmZmYyMjIiIiIQEBBUVFTu7u4AAAD6+w4kAAAAAXRSTlMAQObYZgAAAFBJREFU\n",
       "CNdj4LuzgQEIuCaASP4GEFn/AERmgQiGZQyR3xn4vj97/oOB44sBUIDzdwGQ5La7DVT03oG/QYEh\n",
       "nuF9QQLDRQZ+BQOGpQzM0x4AAD+VFjuIiDKbAAAAAElFTkSuQmCC\n",
       "\" style=\"display:inline;vertical-align:middle;\" /></a></td></tr>\n",
       "<tr><td>6</td><td>Variable</td><td></td><td><a class=\"ProveItLink\" href=\"../../../__pv_it/3e5d49a51123592869b160296a6e123a424e07a70/expr.ipynb\"><img src=\"data:image/png;base64,iVBORw0KGgoAAAANSUhEUgAAAAYAAAAOBAMAAAD+sXAWAAAALVBMVEX////u7u5ERERUVFTMzMzc\n",
       "3NyIiIgQEBAyMjJmZmaYmJi6uroiIiJ2dnYAAACuOh6BAAAAAXRSTlMAQObYZgAAAD9JREFUCNdj\n",
       "YLjzmoGB6wEDA2cDAwN7AgNDnAMDwzoGBgYjIC5jYGB5wsDAVsDAwGQgwMC34AIDn2MCA9tcAQAo\n",
       "GAoWIEgceAAAAABJRU5ErkJggg==\n",
       "\" style=\"display:inline;vertical-align:middle;\" /></a></td></tr>\n",
       "<tr><td>7</td><td>Operation</td><td>operator:&nbsp;8<br>operands:&nbsp;9<br></td><td><a class=\"ProveItLink\" href=\"../c635ab5bd78666db9769740f8ff7414c0805e84b0/expr.ipynb\"><img src=\"data:image/png;base64,iVBORw0KGgoAAAANSUhEUgAAADsAAAAQBAMAAABaYBp1AAAAMFBMVEX///+YmJh2dnbMzMwQEBDu\n",
       "7u6qqqqIiIhUVFRERERmZma6uroiIiIyMjLc3NwAAABSazM2AAAAAXRSTlMAQObYZgAAAJBJREFU\n",
       "GNNjYIACvlU3NzCgAs4ABPsFA/s3VFnW+UjSrQwM56HCDyBURz+StEsAQz/EdLYCqFA9kvT9AIb1\n",
       "eKSB4HwAPmnmTwz4pHknYJF+ewYETgN5Kxnw6WZvAJFcd+/e8b17twFDOouB7wFu3cwLGBjxSL9R\n",
       "UlqDx+7z////QZVe5X9LgAETwHVjB9xI0gDOtjQ98F9LdQAAAABJRU5ErkJggg==\n",
       "\" style=\"display:inline;vertical-align:middle;\" /></a></td></tr>\n",
       "<tr><td>8</td><td>Literal</td><td></td><td><a class=\"ProveItLink\" href=\"../../../number/addition/__pv_it/3e6688136fa3c7aefbebe51301b7c3ebf0b69c440/expr.ipynb\"><img src=\"data:image/png;base64,iVBORw0KGgoAAAANSUhEUgAAAA4AAAAOBAMAAADtZjDiAAAAJFBMVEX///+6urpUVFQQEBAiIiIy\n",
       "MjJmZmaIiIiqqqrc3Nzu7u4AAACgHpL+AAAAAXRSTlMAQObYZgAAAB5JREFUCNdjYGBgWMkAAe2k\n",
       "0Kmhoc6hoUGk6BMHYgAHOwjcado9fwAAAABJRU5ErkJggg==\n",
       "\" style=\"display:inline;vertical-align:middle;\" /></a></td></tr>\n",
       "<tr><td>9</td><td>ExprTuple</td><td>10, 11</td><td><a class=\"ProveItLink\" href=\"../4721fc95b53b6494f874f212d380378546af09cd0/expr.ipynb\"><img src=\"data:image/png;base64,iVBORw0KGgoAAAANSUhEUgAAADkAAAAVBAMAAAAOWFv7AAAAMFBMVEX////c3NwiIiJERESqqqqY\n",
       "mJh2dnZmZmYQEBDu7u4yMjJUVFTMzMyIiIi6uroAAAAs73DqAAAAAXRSTlMAQObYZgAAAPhJREFU\n",
       "KM9jYMAP+C7gkIgDEacRfPEqOxjTkoGB/QCQXgmXZNzAcN8Bwpz8E0gsYGDgRRjMPYGB6QOYNXs3\n",
       "SDaMgYFjAlyWo5OB+x+EyQuSncHA8AphLddPBnZkWWYHhjIUdzL9RJJlK2BYiiJ7PgFJlmUBQx+K\n",
       "7GIGJFm+BgagRYyLlEDgAdCLBsiyPB8Y/iFrvc2AJtuCJMlSwCCIarIpkuxxBoZAhglwWdYFDOkI\n",
       "SUa1tHQFzk/IPnqE5Nn///8rcPYLAF1X8asUGDoPGDgE0GMULgAMSdYENFlWOCsXJQbRZDmBMcgg\n",
       "jSYLj1FukBWMuFLOHQYGANJlP0xPeVw2AAAAAElFTkSuQmCC\n",
       "\" style=\"display:inline;vertical-align:middle;\" /></a></td></tr>\n",
       "<tr><td>10</td><td>Operation</td><td>operator:&nbsp;12<br>operand:&nbsp;13<br></td><td><a class=\"ProveItLink\" href=\"../9cd64560928a3eea5b8bd346c0fe76e791b1ec050/expr.ipynb\"><img src=\"data:image/png;base64,iVBORw0KGgoAAAANSUhEUgAAABkAAAAOBAMAAAAoFKpzAAAAMFBMVEX///+YmJh2dnbMzMwQEBDu\n",
       "7u6qqqqIiIhUVFRERERmZma6uroiIiIyMjLc3NwAAABSazM2AAAAAXRSTlMAQObYZgAAAFtJREFU\n",
       "CNdjYIACvlU3NzDAwQsG9m8IXisDw3kEzyWAoR+h9H4Aw3okjUCVAUgc5k/IUrwTGBjengGB00De\n",
       "SmQp9gZkXhYD3wOEGQsYGBG8N0pKa5As+///DwMAyBMb8hv9jf4AAAAASUVORK5CYII=\n",
       "\" style=\"display:inline;vertical-align:middle;\" /></a></td></tr>\n",
       "<tr><td>11</td><td>Literal</td><td></td><td><a class=\"ProveItLink\" href=\"../../../number/numeral/__pv_it/9be8badea4c35b9724062cecc501d17a3158d1d20/expr.ipynb\"><img src=\"data:image/png;base64,iVBORw0KGgoAAAANSUhEUgAAAAgAAAAPBAMAAAArJJMAAAAAHlBMVEX///+YmJgyMjIQEBBmZmaI\n",
       "iIhUVFTu7u5EREQAAAAw+MI4AAAAAXRSTlMAQObYZgAAACFJREFUCNdjYGBoZ2BgqJjOwFCWBiQY\n",
       "WEklWJwnOTKAAACjEQo8HvEr3AAAAABJRU5ErkJggg==\n",
       "\" style=\"display:inline;vertical-align:middle;\" /></a></td></tr>\n",
       "<tr><td>12</td><td>Literal</td><td></td><td><a class=\"ProveItLink\" href=\"../../../number/negation/__pv_it/3fc7a08bb9735faa20ef8e175f6ea95511acc9c70/expr.ipynb\"><img src=\"data:image/png;base64,iVBORw0KGgoAAAANSUhEUgAAAA4AAAACBAMAAACapPCZAAAAElBMVEX///+6uroiIiIyMjLc3NwA\n",
       "AAA6l9OrAAAAAXRSTlMAQObYZgAAABBJREFUCNdjcFYCAUUGKAAADR4BD8/TF5gAAAAASUVORK5C\n",
       "YII=\n",
       "\" style=\"display:inline;vertical-align:middle;\" /></a></td></tr>\n",
       "<tr><td>13</td><td>Literal</td><td></td><td><a class=\"ProveItLink\" href=\"../../../number/numeral/__pv_it/77d407a64829263cdc16415becd4c2293f77a4bf0/expr.ipynb\"><img src=\"data:image/png;base64,iVBORw0KGgoAAAANSUhEUgAAAAkAAAAOBAMAAAAPuiubAAAAMFBMVEX///+YmJh2dnbMzMwQEBAi\n",
       "IiLu7u6qqqqIiIhUVFS6urpEREQyMjJmZmbc3NwAAACOMKdoAAAAAXRSTlMAQObYZgAAAFBJREFU\n",
       "CNdj4Lt7egEDw0sGju8MDNMYGOIZGFwSGOYvYDifwHAfKAEUSQASzJ9ATJ4NIPI2iOCYACJrGfge\n",
       "MDBfYGB8wPBUSekqUPH//18ZAIliFhc3zESNAAAAAElFTkSuQmCC\n",
       "\" style=\"display:inline;vertical-align:middle;\" /></a></td></tr>\n",
       "</table>\n"
      ],
      "text/plain": [
       "0. (k + l - 2 + 1 , k + l + (-2 + 1))\n",
       "   core type: ExprTuple\n",
       "   sub-expressions: 1, 2\n",
       "1. k + l - 2 + 1\n",
       "   core type: Operation\n",
       "   operator: 8\n",
       "   operands: 3\n",
       "2. k + l + (-2 + 1)\n",
       "   core type: Operation\n",
       "   operator: 8\n",
       "   operands: 4\n",
       "3. (k , l , -2 , 1)\n",
       "   core type: ExprTuple\n",
       "   sub-expressions: 5, 6, 10, 11\n",
       "4. (k , l , -2 + 1)\n",
       "   core type: ExprTuple\n",
       "   sub-expressions: 5, 6, 7\n",
       "5. k\n",
       "   core type: Variable\n",
       "   sub-expressions: \n",
       "6. l\n",
       "   core type: Variable\n",
       "   sub-expressions: \n",
       "7. -2 + 1\n",
       "   core type: Operation\n",
       "   operator: 8\n",
       "   operands: 9\n",
       "8. +\n",
       "   core type: Literal\n",
       "   sub-expressions: \n",
       "9. (-2 , 1)\n",
       "   core type: ExprTuple\n",
       "   sub-expressions: 10, 11\n",
       "10. -2\n",
       "    core type: Operation\n",
       "    operator: 12\n",
       "    operand: 13\n",
       "11. 1\n",
       "    core type: Literal\n",
       "    sub-expressions: \n",
       "12. -\n",
       "    core type: Literal\n",
       "    sub-expressions: \n",
       "13. 2\n",
       "    core type: Literal\n",
       "    sub-expressions: "
      ]
     },
     "execution_count": 4,
     "metadata": {},
     "output_type": "execute_result"
    }
   ],
   "source": [
    "# display the expression information\n",
    "expr.exprInfo()"
   ]
  },
  {
   "cell_type": "code",
   "execution_count": null,
   "metadata": {},
   "outputs": [],
   "source": []
  }
 ],
 "metadata": {
  "kernelspec": {
   "display_name": "Python 3",
   "language": "python",
   "name": "python3"
  }
 },
 "nbformat": 4,
 "nbformat_minor": 0
}
