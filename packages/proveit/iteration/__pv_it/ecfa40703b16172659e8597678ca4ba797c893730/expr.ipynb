{
 "cells": [
  {
   "cell_type": "markdown",
   "metadata": {},
   "source": [
    "Expression of type <a class=\"ProveItLink\" href=\"../../../../../doc/html/api/proveit.logic.InSet.html\">InSet</a>\n",
    "=======================\n",
    "# from context <a class=\"ProveItLink\" href=\"../../_context_.ipynb\">proveit.iteration</a>"
   ]
  },
  {
   "cell_type": "code",
   "execution_count": 1,
   "metadata": {},
   "outputs": [],
   "source": [
    "# import Expression classes needed to build the expression\n",
    "from proveit.logic import InSet\n",
    "from proveit.number import Add, Reals, one, zero"
   ]
  },
  {
   "cell_type": "code",
   "execution_count": 2,
   "metadata": {},
   "outputs": [
    {
     "data": {
      "text/html": [
       "<strong id=\"expr\">expr:</strong> <a class=\"ProveItLink\" href=\"expr.ipynb\"><img src=\"data:image/png;base64,iVBORw0KGgoAAAANSUhEUgAAAGUAAAAVBAMAAACtcD09AAAAMFBMVEX////c3NwiIiJERESqqqqY\n",
       "mJh2dnZmZmYQEBDu7u4yMjJUVFTMzMyIiIi6uroAAAAs73DqAAAAAXRSTlMAQObYZgAAAXVJREFU\n",
       "OMtjYCAH8F3AIcH6AKee0wwM0+/WoIsyT2BgQBeM+my/qgtsw0oGBj2GSQdQpTntgXq40A0ykGY4\n",
       "7CXAwMB7gYFXgYF3AUR0IlTL7v1APawJ6HrEGZgnGjAwcExgYNrAwPcRIuoLk74P1MPZAGHPXaSk\n",
       "BdPDdgCo5xUDA38BA88XLHoYTMBMnqUTEPaA9ZQxMMgnMPD8xaYnHcwUnoDkNm6Q25ZC9HzDpscL\n",
       "zDRE9s+jKGAY9OHR8wIcHgYIPRJKWg5A+h8et50Hx3mTkhI8DJ6D4g2kBxQGX4HMqlWrNFatWo2m\n",
       "h2cDktvY34B4LQygsGb5iNttCsj+WXkVSJsygOKUTQGbnigwcyuyntPcByDhqcIw4wDusJ70AEkP\n",
       "mwMwGB8B2dNz9zCg6invXx7AwLAOzGZcfgCeRm0YFq93YOAQQE5RvigJFZp2WHZBww2eS1AS4ltk\n",
       "DhuunAXKCzjALJwy0jhlNuKUYcTlAt4DOCQA4QpqpbhfD68AAAAASUVORK5CYII=\n",
       "\" style=\"display:inline;vertical-align:middle;\" /></a><br>"
      ],
      "text/plain": [
       "expr: (0 + 1) in Reals"
      ]
     },
     "execution_count": 2,
     "metadata": {},
     "output_type": "execute_result"
    }
   ],
   "source": [
    "# build up the expression from sub-expressions\n",
    "expr = InSet(Add(zero, one), Reals)"
   ]
  },
  {
   "cell_type": "code",
   "execution_count": 3,
   "metadata": {},
   "outputs": [
    {
     "name": "stdout",
     "output_type": "stream",
     "text": [
      "Passed sanity check: built 'expr' is the same as the stored Expression.\n"
     ]
    }
   ],
   "source": [
    "# check that the built expression is the same as the stored expression\n",
    "%check_expr"
   ]
  },
  {
   "cell_type": "code",
   "execution_count": 4,
   "metadata": {},
   "outputs": [
    {
     "data": {
      "text/html": [
       "<table><tr><th>&nbsp;</th><th>core type</th><th>sub-expressions</th><th>expression</th></tr>\n",
       "<tr><td>0</td><td>Operation</td><td>operator:&nbsp;1<br>operands:&nbsp;2<br></td><td><a class=\"ProveItLink\" href=\"expr.ipynb\"><img src=\"data:image/png;base64,iVBORw0KGgoAAAANSUhEUgAAAGUAAAAVBAMAAACtcD09AAAAMFBMVEX////c3NwiIiJERESqqqqY\n",
       "mJh2dnZmZmYQEBDu7u4yMjJUVFTMzMyIiIi6uroAAAAs73DqAAAAAXRSTlMAQObYZgAAAXVJREFU\n",
       "OMtjYCAH8F3AIcH6AKee0wwM0+/WoIsyT2BgQBeM+my/qgtsw0oGBj2GSQdQpTntgXq40A0ykGY4\n",
       "7CXAwMB7gYFXgYF3AUR0IlTL7v1APawJ6HrEGZgnGjAwcExgYNrAwPcRIuoLk74P1MPZAGHPXaSk\n",
       "BdPDdgCo5xUDA38BA88XLHoYTMBMnqUTEPaA9ZQxMMgnMPD8xaYnHcwUnoDkNm6Q25ZC9HzDpscL\n",
       "zDRE9s+jKGAY9OHR8wIcHgYIPRJKWg5A+h8et50Hx3mTkhI8DJ6D4g2kBxQGX4HMqlWrNFatWo2m\n",
       "h2cDktvY34B4LQygsGb5iNttCsj+WXkVSJsygOKUTQGbnigwcyuyntPcByDhqcIw4wDusJ70AEkP\n",
       "mwMwGB8B2dNz9zCg6invXx7AwLAOzGZcfgCeRm0YFq93YOAQQE5RvigJFZp2WHZBww2eS1AS4ltk\n",
       "DhuunAXKCzjALJwy0jhlNuKUYcTlAt4DOCQA4QpqpbhfD68AAAAASUVORK5CYII=\n",
       "\" style=\"display:inline;vertical-align:middle;\" /></a></td></tr>\n",
       "<tr><td>1</td><td>Literal</td><td></td><td><a class=\"ProveItLink\" href=\"../../../logic/set_theory/membership/__pv_it/088cbc857536a28d4119ad9639a84270ccb0545d0/expr.ipynb\"><img src=\"data:image/png;base64,iVBORw0KGgoAAAANSUhEUgAAAAwAAAAMBAMAAACkW0HUAAAALVBMVEX///+qqqpmZmZUVFQQEBC6\n",
       "urpERETc3NyYmJjMzMwiIiIyMjKIiIju7u4AAACYsrA9AAAAAXRSTlMAQObYZgAAADxJREFUCNdj\n",
       "YOA9vWrVBgaG2b0MQMCeCyIZ2ArA1DUwyRCyahVIyWQI7xaEYm4AU7xLIdxqTQgtvGvVBgCkcQ7e\n",
       "geM/tQAAAABJRU5ErkJggg==\n",
       "\" style=\"display:inline;vertical-align:middle;\" /></a></td></tr>\n",
       "<tr><td>2</td><td>ExprTuple</td><td>3, 4</td><td><a class=\"ProveItLink\" href=\"../b4a27c94906047eee6234fd06af73b0b394654ed0/expr.ipynb\"><img src=\"data:image/png;base64,iVBORw0KGgoAAAANSUhEUgAAAFMAAAAVBAMAAADInc9CAAAAMFBMVEX////c3NwiIiJERESqqqqY\n",
       "mJh2dnZmZmYQEBDu7u4yMjJUVFTMzMyIiIi6uroAAAAs73DqAAAAAXRSTlMAQObYZgAAAUtJREFU\n",
       "KM9jYCAB8F0gRlUciDjNwMBZe/0AmhTzBAgd9dl+VRfQMHaQgpUMDEwPOHVQVXLaQ5UyGEgzHPYS\n",
       "YGBYwMDAC9RyiYHhFlSJAITavR+uVJyBeaIBA0MYAwMHUEybgeE9RA0LzOH3kZSyHQAqncHA8ArI\n",
       "/c7AcN6BgFJmB4YyBgbGb0ClF3Ar5QY5gK2AYSlUaQJupY+igK5jWcDQR0iphJIWyHF8DQz/CDrg\n",
       "OTiMeT6AlIK9FQAM5lWrFnWtWrUBTSn7mw0QpS0M4MDyxxNYK69CHGDKAI6CJAZMpROgSk9zA2OV\n",
       "dQFDOpDL5MDZg6mU8xMsXB0MwYH1CBSPZbcPoCot718ewNkvAE4uNgyL1zswcD1g4BBATiYsyCmS\n",
       "D1kKGLGsCTgTLyuyTC4kEeIAyEo5gYmQQRqnUmQbuEGOYSQqw9xhYAAArLRtfISh8kUAAAAASUVO\n",
       "RK5CYII=\n",
       "\" style=\"display:inline;vertical-align:middle;\" /></a></td></tr>\n",
       "<tr><td>3</td><td>Operation</td><td>operator:&nbsp;5<br>operands:&nbsp;6<br></td><td><a class=\"ProveItLink\" href=\"../5e65d43d0ca4c95df779527900d8815b85f87fa30/expr.ipynb\"><img src=\"data:image/png;base64,iVBORw0KGgoAAAANSUhEUgAAACwAAAAQBAMAAACfEoDkAAAAMFBMVEX///9EREQQEBCYmJh2dnaq\n",
       "qqrc3NxUVFQyMjK6uroiIiLMzMyIiIhmZmbu7u4AAADSWfX9AAAAAXRSTlMAQObYZgAAAIBJREFU\n",
       "GNNjYHh75jYDGpAD4pUMrzagij78x8DAs4CBpwHCfQahnpcDhbkKGDi/QfgxUNU8QGH+CwzcXzGF\n",
       "8x0YuP9gF/5CkvAf7FZ+BrJvdHQs6uhohwkDHciKxYFA77AswBRmWMrwaAMW4bc+1QwowryXflxG\n",
       "DqIYBqxgDoIJADSiM7thS5u8AAAAAElFTkSuQmCC\n",
       "\" style=\"display:inline;vertical-align:middle;\" /></a></td></tr>\n",
       "<tr><td>4</td><td>Literal</td><td></td><td><a class=\"ProveItLink\" href=\"../../../number/sets/real/__pv_it/9e7645ee1117062e179dd6264898f99ed95b157c0/expr.ipynb\"><img src=\"data:image/png;base64,iVBORw0KGgoAAAANSUhEUgAAAA8AAAAOBAMAAAACpFvcAAAAMFBMVEX///8iIiK6urp2dnbu7u5m\n",
       "ZmaqqqrMzMxUVFTc3NyIiIgQEBBEREQyMjKYmJgAAAA9nvXMAAAAAXRSTlMAQObYZgAAAFJJREFU\n",
       "CNdjePvn/N29CxiA4MAMhprcCSDGVAYezwMQBnMBOoMDJqX4Fqx4tqBsAlj7VFUeBwiDVb0BwmC4\n",
       "sg7KqOAogJqTcJKBAWjpcYY79xMAyqEnfsw4ApEAAAAASUVORK5CYII=\n",
       "\" style=\"display:inline;vertical-align:middle;\" /></a></td></tr>\n",
       "<tr><td>5</td><td>Literal</td><td></td><td><a class=\"ProveItLink\" href=\"../../../number/addition/__pv_it/3e6688136fa3c7aefbebe51301b7c3ebf0b69c440/expr.ipynb\"><img src=\"data:image/png;base64,iVBORw0KGgoAAAANSUhEUgAAAA4AAAAOBAMAAADtZjDiAAAAJFBMVEX///+6urpUVFQQEBAiIiIy\n",
       "MjJmZmaIiIiqqqrc3Nzu7u4AAACgHpL+AAAAAXRSTlMAQObYZgAAAB5JREFUCNdjYGBgWMkAAe2k\n",
       "0Kmhoc6hoUGk6BMHYgAHOwjcado9fwAAAABJRU5ErkJggg==\n",
       "\" style=\"display:inline;vertical-align:middle;\" /></a></td></tr>\n",
       "<tr><td>6</td><td>ExprTuple</td><td>7, 8</td><td><a class=\"ProveItLink\" href=\"../cf9c6c1fa9e34b3b8dc974a7471227cea33adf140/expr.ipynb\"><img src=\"data:image/png;base64,iVBORw0KGgoAAAANSUhEUgAAACkAAAAVBAMAAAAp9toTAAAAMFBMVEX////c3NwiIiJERESqqqqY\n",
       "mJh2dnZmZmYQEBDu7u4yMjJUVFTMzMyIiIi6uroAAAAs73DqAAAAAXRSTlMAQObYZgAAAOZJREFU\n",
       "GNNjYMAO+C6gCcSBiNMMDNPv1sCELBkY2A8A6ZUMDHoMkw5ABCf/BBILGBh4LzDwKjDwLgALzt4N\n",
       "Eg1jYOCYwMC0gYHvI0QtL0h0BgPDKwYG/gIGni9IoswODGUMDPIJDDx/kUTZChiWQkS/IYmyLGDo\n",
       "wxTla2D4h2kCzweQKMi2r6iiLQwgl7F8RDXBlAHkCzYFhglwUdYFDOlASoVhxgHOT8guewSkpufu\n",
       "YeDsFwAGTMWvUgYGrgcMHAKwEIUxQD5mTYCyWeEBnAsJSVRRTlD4SUM58CjhBhnFiB5DdxgYAPhQ\n",
       "P+TPGe3GAAAAAElFTkSuQmCC\n",
       "\" style=\"display:inline;vertical-align:middle;\" /></a></td></tr>\n",
       "<tr><td>7</td><td>Literal</td><td></td><td><a class=\"ProveItLink\" href=\"../../../number/numeral/__pv_it/ec23fc7a1b4222a5f4948b495002b97d6fa18c3c0/expr.ipynb\"><img src=\"data:image/png;base64,iVBORw0KGgoAAAANSUhEUgAAAAoAAAAOBAMAAADkjZCYAAAALVBMVEX///8QEBCYmJh2dnaqqqrc\n",
       "3NxUVFQyMjK6uroiIiLMzMyIiIhmZmbu7u4AAAAZjyHdAAAAAXRSTlMAQObYZgAAAEpJREFUCNdj\n",
       "YLiz+xQDA8MMhpsLGLgnMHAXMHAmMHA8ZeA7wMD1hCHOgIHrNZh8jES+Bss+AqlkeQrSxTyBgWEK\n",
       "w8UFDAx3rLMYAMCjFldHSx/9AAAAAElFTkSuQmCC\n",
       "\" style=\"display:inline;vertical-align:middle;\" /></a></td></tr>\n",
       "<tr><td>8</td><td>Literal</td><td></td><td><a class=\"ProveItLink\" href=\"../../../number/numeral/__pv_it/9be8badea4c35b9724062cecc501d17a3158d1d20/expr.ipynb\"><img src=\"data:image/png;base64,iVBORw0KGgoAAAANSUhEUgAAAAgAAAAPBAMAAAArJJMAAAAAHlBMVEX///+YmJgyMjIQEBBmZmaI\n",
       "iIhUVFTu7u5EREQAAAAw+MI4AAAAAXRSTlMAQObYZgAAACFJREFUCNdjYGBoZ2BgqJjOwFCWBiQY\n",
       "WEklWJwnOTKAAACjEQo8HvEr3AAAAABJRU5ErkJggg==\n",
       "\" style=\"display:inline;vertical-align:middle;\" /></a></td></tr>\n",
       "</table>\n"
      ],
      "text/plain": [
       "0. (0 + 1) in Reals\n",
       "   core type: Operation\n",
       "   operator: 1\n",
       "   operands: 2\n",
       "1. in\n",
       "   core type: Literal\n",
       "   sub-expressions: \n",
       "2. (0 + 1 , Reals)\n",
       "   core type: ExprTuple\n",
       "   sub-expressions: 3, 4\n",
       "3. 0 + 1\n",
       "   core type: Operation\n",
       "   operator: 5\n",
       "   operands: 6\n",
       "4. Reals\n",
       "   core type: Literal\n",
       "   sub-expressions: \n",
       "5. +\n",
       "   core type: Literal\n",
       "   sub-expressions: \n",
       "6. (0 , 1)\n",
       "   core type: ExprTuple\n",
       "   sub-expressions: 7, 8\n",
       "7. 0\n",
       "   core type: Literal\n",
       "   sub-expressions: \n",
       "8. 1\n",
       "   core type: Literal\n",
       "   sub-expressions: "
      ]
     },
     "execution_count": 4,
     "metadata": {},
     "output_type": "execute_result"
    }
   ],
   "source": [
    "# display the expression information\n",
    "expr.exprInfo()"
   ]
  },
  {
   "cell_type": "code",
   "execution_count": null,
   "metadata": {},
   "outputs": [],
   "source": []
  }
 ],
 "metadata": {
  "kernelspec": {
   "display_name": "Python 3",
   "language": "python",
   "name": "python3"
  }
 },
 "nbformat": 4,
 "nbformat_minor": 0
}
