{
 "cells": [
  {
   "cell_type": "markdown",
   "metadata": {},
   "source": [
    "Expression of type <a class=\"ProveItLink\" href=\"../../../../../doc/html/api/proveit.Iter.html\">Iter</a>\n",
    "=======================\n",
    "# from context <a class=\"ProveItLink\" href=\"../../_context_.ipynb\">proveit.iteration</a>"
   ]
  },
  {
   "cell_type": "code",
   "execution_count": 1,
   "metadata": {},
   "outputs": [],
   "source": [
    "# import Expression classes needed to build the expression\n",
    "from proveit import Indexed, Iter, Variable\n",
    "from proveit._common_ import cc, m\n",
    "from proveit.number import five"
   ]
  },
  {
   "cell_type": "code",
   "execution_count": 2,
   "metadata": {},
   "outputs": [
    {
     "data": {
      "text/html": [
       "<strong id=\"expr\">expr:</strong> <a class=\"ProveItLink\" href=\"expr.ipynb\"><img src=\"data:image/png;base64,iVBORw0KGgoAAAANSUhEUgAAAFwAAAAOBAMAAABQh2aXAAAAMFBMVEX///+IiIju7u4yMjJmZma6\n",
       "urrc3NxUVFTMzMx2dnaYmJgiIiIQEBBERESqqqoAAAAc6Zi6AAAAAXRSTlMAQObYZgAAARNJREFU\n",
       "KM9jYGB4e3oXA17Ad2f3AjiH9yfD/Aa8yu9P4PyB4BSw/Q8ISVqIUzXvd4b8r3Cb/icweDLE/y/A\n",
       "qfz9NwaWCTAO828QGRWG2y32G5A4/F9AZCgep/93QFb+C0SGCDrhVg4KFi7HwOmMsg0M3EDlrA/S\n",
       "GB4zMCiAJEEEEwpjP1B5nFb8Au4CrgIGvr8MTHMSGBj0G5hAvgAT+huQGAzvLzBoHksSZuBv4AQ6\n",
       "K/jw5kkMFgz8AUzngbqYzgIV6FyAMb4BCVYba0sFhkKGHgbmB1D3nWDIT2BgTcBwNyLATjDIMuSz\n",
       "QjmTGMSB3sH0Jjzy2T4AzV/LCeVxTpmAXznrBYYdDL3TkOUEMFQzogsAAGjHSSKK2VoQAAAAAElF\n",
       "TkSuQmCC\n",
       "\" style=\"display:inline;vertical-align:middle;\" /></a><br>"
      ],
      "text/plain": [
       "expr: c_5,...,c_m"
      ]
     },
     "execution_count": 2,
     "metadata": {},
     "output_type": "execute_result"
    }
   ],
   "source": [
    "# build up the expression from sub-expressions\n",
    "subExpr1 = Variable(\"_x_\", latexFormat = r\"{_{-}x_{-}}\")\n",
    "expr = Iter(subExpr1, Indexed(cc, subExpr1, base = 1), five, m)"
   ]
  },
  {
   "cell_type": "code",
   "execution_count": 3,
   "metadata": {},
   "outputs": [
    {
     "name": "stdout",
     "output_type": "stream",
     "text": [
      "Passed sanity check: built 'expr' is the same as the stored Expression.\n"
     ]
    }
   ],
   "source": [
    "# check that the built expression is the same as the stored expression\n",
    "%check_expr"
   ]
  },
  {
   "cell_type": "code",
   "execution_count": 4,
   "metadata": {},
   "outputs": [
    {
     "data": {
      "text/html": [
       "<table><tr><th>&nbsp;</th><th>core type</th><th>sub-expressions</th><th>expression</th></tr>\n",
       "<tr><td>0</td><td>Iter</td><td>lambda_map:&nbsp;1<br></td><td><a class=\"ProveItLink\" href=\"expr.ipynb\"><img src=\"data:image/png;base64,iVBORw0KGgoAAAANSUhEUgAAAFwAAAAOBAMAAABQh2aXAAAAMFBMVEX///+IiIju7u4yMjJmZma6\n",
       "urrc3NxUVFTMzMx2dnaYmJgiIiIQEBBERESqqqoAAAAc6Zi6AAAAAXRSTlMAQObYZgAAARNJREFU\n",
       "KM9jYGB4e3oXA17Ad2f3AjiH9yfD/Aa8yu9P4PyB4BSw/Q8ISVqIUzXvd4b8r3Cb/icweDLE/y/A\n",
       "qfz9NwaWCTAO828QGRWG2y32G5A4/F9AZCgep/93QFb+C0SGCDrhVg4KFi7HwOmMsg0M3EDlrA/S\n",
       "GB4zMCiAJEEEEwpjP1B5nFb8Au4CrgIGvr8MTHMSGBj0G5hAvgAT+huQGAzvLzBoHksSZuBv4AQ6\n",
       "K/jw5kkMFgz8AUzngbqYzgIV6FyAMb4BCVYba0sFhkKGHgbmB1D3nWDIT2BgTcBwNyLATjDIMuSz\n",
       "QjmTGMSB3sH0Jjzy2T4AzV/LCeVxTpmAXznrBYYdDL3TkOUEMFQzogsAAGjHSSKK2VoQAAAAAElF\n",
       "TkSuQmCC\n",
       "\" style=\"display:inline;vertical-align:middle;\" /></a></td></tr>\n",
       "<tr><td>1</td><td>Lambda</td><td>parameter:&nbsp;8<br>body:&nbsp;2<br>conditions:&nbsp;3<br></td><td><a class=\"ProveItLink\" href=\"../31bf9dc1522ff4952f0d1efd98335b2480e5d60a0/expr.ipynb\"><img src=\"data:image/png;base64,iVBORw0KGgoAAAANSUhEUgAAARkAAAAVCAMAAABFe2rqAAAANlBMVEX///+6uroUFBQNDQ0yMjLM\n",
       "zMwQEBAiIiKYmJhmZmZUVFSIiIh2dnbc3Nzu7u5ERESqqqoAAADqmkP9AAAAAXRSTlMAQObYZgAA\n",
       "AklJREFUWMPlmOvamyAMgGHjnBDg/m92ILXqJ6hrabun44/UYkxeciAy9tER/WiJxprnBEhEzz4/\n",
       "kI+VRxqfFyJV/D4ykOpVGGIeHzXQiu8jg6peVcoDn5XyjWSEdSjZ/0qGQOg8RMsmN4TvuEITlNbm\n",
       "XWRkySU9m15AxiM4H8FC+5ltaoqbFBdKYGOSg8icaOIDHdjkAMBdoc4heJ/XYp5BiH0ylI0zed+V\n",
       "bgv6cdvRGkzeKJ8SH0PmTJPgj6pKwUZXVEHmBJS1RZN4q2wmtRbWyhflJTLk7vrFlMrc4qBoOtGE\n",
       "QvskspbnztMF50wXSZSALWRyAt+/sAgMfUm/f+nNUPd9EUkPzcAnmnA1q7AEuHRqg/FCZNPNs2Ki\n",
       "zTkmiFa+VNCX9NP6JZZTssNr04Em0rV5VRZBVzIXwunGZHpAzQ7fPkn7iTRdImOXYE+pXZVyHuXg\n",
       "5CNkjjShtoe6uus1Odl0oQGqfqLLtvK8nnp5xvh6wIZLZORqT/WNDN8eyZFKTHQbkT6ZM01ccyOw\n",
       "KljdV4hVZHYm1U9qSGWs3nRqU8zmhXzb99wYdrlgeXTKZKi2+8RLD/NANJ1qQpr3q7YvaOKsCs0p\n",
       "cD/JfsnvTpKLFK6kxDCPUugCICGC2f1z4WQglNAC92uPfHpN5i818cLK7nlGWuvudZNU6E1yZpoe\n",
       "m35GB/Kd3YHMr5Ev6ZuiE73uYEz39VIsiaFgDN/dUf6jZMjWEaegiBZKiK1uvpCMGWLTN36fIQ0j\n",
       "4p9/ngwM18Hgk58q5+/AfwBQQhoGsClsmAAAAABJRU5ErkJggg==\n",
       "\" style=\"display:inline;vertical-align:middle;\" /></a></td></tr>\n",
       "<tr><td>2</td><td>Indexed</td><td>var:&nbsp;4<br>index:&nbsp;8<br>base:&nbsp;\"1\"<br></td><td><a class=\"ProveItLink\" href=\"../6d0201b05a882326ac961d20281fcf73ea4789590/expr.ipynb\"><img src=\"data:image/png;base64,iVBORw0KGgoAAAANSUhEUgAAACoAAAANBAMAAAAtROHmAAAAMFBMVEX///+IiIju7u4yMjJmZma6\n",
       "urrc3NxUVFTMzMx2dnaYmJgiIiIQEBBERESqqqoAAAAc6Zi6AAAAAXRSTlMAQObYZgAAAHVJREFU\n",
       "GNNjYGB4e3oXAwbg/ckwvwFD9H4B2/8AdEG+/wkMnhhKmX8zYAH8X7CK/kKwOcUDKyAsbqAo6wMI\n",
       "exL7hXNQ2/4yMM1JgLADmBfAtAUf3jwJblwCNkt6GDD9w/FhMsMEZAEVFxeXB0wXn0gqMAFZfgAH\n",
       "tx7PoJnK2gAAAABJRU5ErkJggg==\n",
       "\" style=\"display:inline;vertical-align:middle;\" /></a></td></tr>\n",
       "<tr><td>3</td><td>ExprTuple</td><td>5</td><td><a class=\"ProveItLink\" href=\"../a382eebd018b21ffe445b74f4c504b172f8c77d70/expr.ipynb\"><img src=\"data:image/png;base64,iVBORw0KGgoAAAANSUhEUgAAAJ0AAAAVBAMAAACu6/FQAAAAMFBMVEX////c3NwiIiJERESqqqqY\n",
       "mJh2dnZmZmYQEBDu7u4yMjJUVFTMzMyIiIi6uroAAAAs73DqAAAAAXRSTlMAQObYZgAAAfFJREFU\n",
       "OMuNVU0oBFEc/62dWfN2rOYgimRbcSMfKW57d7An5cKIciF7wYHyeZQ2Sm42JVHu4rInicuWoiyZ\n",
       "nKREDsrBx//ZWe+ttea9eq//m/nN7/0/fv83gNLQJzwAx4M5qzztTccaPSEnUaCfG2cK7oWegWCf\n",
       "b/gfSGmSZoqMXQW+wBxgfH7aHhAQZyityBecHvWCoJeOTRTP2lUkkvwBm95HYgN4KA457ZPBKnz+\n",
       "KCbFo8pMxaUUva8rD2zeZJwClsfW2oz9eB51+QJxbIvwbL3BCAus38ornj/BPgr47MM0e3U0Kr9O\n",
       "E1oSK8IJkoWWEtg1SVxZzw5+05U79WDv4HzY4fs5iDMZzBYZfB+JuPU4W84+GU/9rhi5rL19uw8/\n",
       "RVr2DDkGI087ktDviaiN+AoSyMnCMLgweQsR35L0ti4FST2rwjTJgQVg1vqjK0rieLIS2fxRvB2i\n",
       "561bhCQ+MyZSS2WKA3vfWcktHEqebTo49MWy9dWTGPn5qCfWiVo5Oc15eqmCNk/mZthd2AuPyMEA\n",
       "sB8QermjJLTT6MLaxfpYLLfho3pG5iubOuLhbrS4C1vkiQWGgO5rly/owLCKa757S+o3qPWbbive\n",
       "ByqQMcX7Svfm4xpkPJoaBT7W5H0/kzZNnjufygWoD6v8P6gsX+W5fZrNxNlYAAAAAElFTkSuQmCC\n",
       "\" style=\"display:inline;vertical-align:middle;\" /></a></td></tr>\n",
       "<tr><td>4</td><td>Variable</td><td></td><td><a class=\"ProveItLink\" href=\"../../../__pv_it/54126a202342efeeefe16a1f9c9cafdfec4ee3590/expr.ipynb\"><img src=\"data:image/png;base64,iVBORw0KGgoAAAANSUhEUgAAAAsAAAAKBAMAAACQ3rmwAAAALVBMVEX////u7u4yMjJmZma6urrc\n",
       "3NxUVFTMzMx2dnaYmJgiIiIQEBBERESqqqoAAAC7bQSXAAAAAXRSTlMAQObYZgAAAERJREFUCNdj\n",
       "YGC4s2slAwMDzwuGvgIGhnMJrO8cGHjfBTBYMDAwvWIAAb7HEOolmOICUiwXGHjfMDB2BzAwOG1a\n",
       "1MgAAF9ZEJ3Rl9JpAAAAAElFTkSuQmCC\n",
       "\" style=\"display:inline;vertical-align:middle;\" /></a></td></tr>\n",
       "<tr><td>5</td><td>Operation</td><td>operator:&nbsp;6<br>operands:&nbsp;7<br></td><td><a class=\"ProveItLink\" href=\"../22e811281bd8313fd9787cd21a1c4fe97b24b57f0/expr.ipynb\"><img src=\"data:image/png;base64,iVBORw0KGgoAAAANSUhEUgAAAI8AAAAVBAMAAACNsKCFAAAAMFBMVEX///+6uroyMjLMzMwQEBAi\n",
       "IiKYmJhmZmZUVFSIiIh2dnbc3Nzu7u5ERESqqqoAAABZrPngAAAAAXRSTlMAQObYZgAAAZVJREFU\n",
       "OMtjYCAM0hPwyzOv2sBADDi6gJAKZj+iDJoPxGoHdj3Ao6SIKIOWALH//1+ElBBnkHqXAbkGnVQN\n",
       "DUKoaiBsF67wUzuArIp4g7hXdr+sRJLaewBFVefMRgzdjHN3z+xinHkP1aBTDKkJrkiqbqNGyR2G\n",
       "8wLoBnFxaDKcX8jwHsjMR4guAMbyYwSX5wLCk45gisMB3SBB1gsM5yeADWIqgIseYOhFcbZraCgk\n",
       "sJlbIPHF9RndoANAR74/AElDl5ASvydKWCNCl9GZgYE3gIHrI0YgAU0pZWDwArJYkRI/92cGHiSv\n",
       "BSDYTQwMLAEM7L+xpedwBsbfPChhlM35gWEOkqI2BHMpAwM7MBgUwAEAJcB2ejHwfGTgUNiGHGt8\n",
       "33gduCcg51QB5OjnLmB4AszhPF8ZoMR5oIu5PzKwfWBgmrAAYtDbu0BwgOfmmlXTYBywT9UNkNOR\n",
       "eUU3yAxfGHEEGKuMDgxcFxj4Og3wZxG+JuQswkB2FiFNFXEGpRBWQlx5dHQCwRLSkSiDGLIeEFFm\n",
       "AwDPQ3LKH1TZcwAAAABJRU5ErkJggg==\n",
       "\" style=\"display:inline;vertical-align:middle;\" /></a></td></tr>\n",
       "<tr><td>6</td><td>Literal</td><td></td><td><a class=\"ProveItLink\" href=\"../../../logic/set_theory/membership/__pv_it/088cbc857536a28d4119ad9639a84270ccb0545d0/expr.ipynb\"><img src=\"data:image/png;base64,iVBORw0KGgoAAAANSUhEUgAAAAwAAAAMBAMAAACkW0HUAAAALVBMVEX///+qqqpmZmZUVFQQEBC6\n",
       "urpERETc3NyYmJjMzMwiIiIyMjKIiIju7u4AAACYsrA9AAAAAXRSTlMAQObYZgAAADxJREFUCNdj\n",
       "YOA9vWrVBgaG2b0MQMCeCyIZ2ArA1DUwyRCyahVIyWQI7xaEYm4AU7xLIdxqTQgtvGvVBgCkcQ7e\n",
       "geM/tQAAAABJRU5ErkJggg==\n",
       "\" style=\"display:inline;vertical-align:middle;\" /></a></td></tr>\n",
       "<tr><td>7</td><td>ExprTuple</td><td>8, 9</td><td><a class=\"ProveItLink\" href=\"../9c1f3b5a16472e6c1e2476912880abdee4d1e4b30/expr.ipynb\"><img src=\"data:image/png;base64,iVBORw0KGgoAAAANSUhEUgAAAI0AAAAVBAMAAACJRXC4AAAAMFBMVEX////c3NwiIiJERESqqqqY\n",
       "mJh2dnZmZmYQEBDu7u4yMjJUVFTMzMyIiIi6uroAAAAs73DqAAAAAXRSTlMAQObYZgAAAddJREFU\n",
       "OMutlD1Iw0AUx/+1Sc31iwyig5QWRDfBDwTdujvYSXDRigUXxS7q4GD9GEULgnRrFxEFd6lLJxG6\n",
       "FAQdqhicilAsDoKDH+/SpGmbNqngQS4vdy+/e/fe/w6wbOK69TxuFnXLX2jvxYZg127DwDw38hZO\n",
       "vgrgnnPELFy6M/TkyDi3cHIlAOnnJ2rjAmL5CjZO7q0V2HFmabmkjZPHOj8qJwW84h84zjA2jKHe\n",
       "Ys9Dwcx5Kiqmv8ujgWK0fBfWOK44To0iR8VBKWQqhjPJvk2caLbAPhSByinSAyGDQ2NxKrOQaxRH\n",
       "NZKrZoxfGQD7AufgjH8nYKzF4BlpdM8fVN9ruWZ9UojCpxounLQjbwX1MUvNGigRYIw4pgRxSAgS\n",
       "FxaXPHH262aDOTSqwEML7gLbcgsVd8XxJier+aF9TRhnUn6Gr8ZRDRelPQ5cqLvWB3lHkaQVZB2R\n",
       "ar3EDJZrnJnIJAK1DLzrde+DsENmOqQNql1QwQJw6TLq/kKbHac2heP7k9WI/sGOZI3j3bzmZopq\n",
       "wPagdSVgCZh+1DhuBZLcWqd+nYPOzoXY5jCL+ANntf29oXJEew7XEOM66m89r0qJDdvfh6QtD8+B\n",
       "w+oCEmOd3M+U7l//mXc+U6vGZQAAAABJRU5ErkJggg==\n",
       "\" style=\"display:inline;vertical-align:middle;\" /></a></td></tr>\n",
       "<tr><td>8</td><td>Variable</td><td></td><td><a class=\"ProveItLink\" href=\"../5144cf74ae6a683b49b974f1b9302b432abf7e930/expr.ipynb\"><img src=\"data:image/png;base64,iVBORw0KGgoAAAANSUhEUgAAACUAAAAJBAMAAABH3vh9AAAAKlBMVEX////MzMwQEBAiIiKYmJhm\n",
       "ZmZUVFSIiIh2dnbc3Nzu7u5ERESqqqoAAABwkVEpAAAAAXRSTlMAQObYZgAAAEtJREFUCNdjYIAA\n",
       "zvbM4+EMqGAFg7ODMppYA0Mtw0E0sQUM2QyYQB1TiPMiAxeakCf7BYYqVCGeK9wKnAUw3undQLCA\n",
       "a3tXRwmMAwC3+RVNp6j0GAAAAABJRU5ErkJggg==\n",
       "\" style=\"display:inline;vertical-align:middle;\" /></a></td></tr>\n",
       "<tr><td>9</td><td>Operation</td><td>operator:&nbsp;10<br>operands:&nbsp;11<br></td><td><a class=\"ProveItLink\" href=\"../5598076e771479671f8499728866632c87ad5cff0/expr.ipynb\"><img src=\"data:image/png;base64,iVBORw0KGgoAAAANSUhEUgAAAE4AAAAVBAMAAAAazcUaAAAAMFBMVEX///9ERETc3NyqqqpUVFS6\n",
       "urrMzMwyMjIQEBCIiIh2dnYiIiLu7u5mZmaYmJgAAABJJ2g3AAAAAXRSTlMAQObYZgAAARdJREFU\n",
       "KM9jYGDgu8eAH2QtApE8uxgIgQwDIMH5gYGB/Q3TYjzqeAuABFcDAwPH//8L8KgDKQET7FeWMRCj\n",
       "jgW/+0hXN3NKAIZspJDmlAWREw2g6kCeYTzA8xVD3QL3CTy/ApiBwcH3ARQ4EJM80JWxBmxk4PnJ\n",
       "AFLHUMvAkNIGEV6fgKaOB2gF8x9I2DHWMTBEABVIA9VhOBCkaAMDByhgQVHGAtTQzcBwXwFLLHBf\n",
       "YIhXOABxH9cGBoYLDAzlIKkDIPtgDKBJ5wMY3JkeIMJFl4G5CaTkN5A4vwHK0A9geM/AUMmFFH5s\n",
       "d11A1vI0AokTAlBGBAPDQgYGk2lI6hiIjA9i1PERVgcOQ56dhNMzOGz5FhORPwBSHUofNXD08QAA\n",
       "AABJRU5ErkJggg==\n",
       "\" style=\"display:inline;vertical-align:middle;\" /></a></td></tr>\n",
       "<tr><td>10</td><td>Literal</td><td></td><td><a class=\"ProveItLink\" href=\"../../../number/sets/integer/__pv_it/6e5362d7b256561b61a1b512bf7dc507dcde5dcf0/expr.ipynb\"><img src=\"data:image/png;base64,iVBORw0KGgoAAAANSUhEUgAAAE4AAAAOBAMAAABz3DdCAAAAMFBMVEX///8QEBCYmJiqqqoiIiLu\n",
       "7u7MzMyIiIi6uroyMjLc3NxmZmZERERUVFR2dnYAAAADo0JQAAAAAXRSTlMAQObYZgAAAWZJREFU\n",
       "KM99kL9LQlEUx7/2vL7XS9+LlqAh3Bp1kGhzLKjhCW1BvaX9UoPQD3ku1qb0D/S2ghTf4CKEuAU1\n",
       "6BaR1B3aKhIiNbAf56q8ybpwv3DO+XDOly+A158bF/+/p57UT79O2eO5iTaJ9u3XSWs8N1UgMXp+\n",
       "XfnjboCTTLb9evUPriz9mHXg6PrsUGit/i302r6rHZxnPGzWkOIoZbIuYhLO01Jxx1kHCm1OuLpn\n",
       "RFboiMhjvanNoQG0JPdmQ3PWwHrSrk5qHwebihOKV6B45SgugVnJnQKMIOUDQYHIzMIerC2HejQN\n",
       "xR+BZYQ6kuvTJyhSAI1Nb5APhj3V6oP8qNMyvu4wIDNqJaGbMgFUR6EZepdMs3CTcjXk0oBAzBJV\n",
       "LMmkOOYlF/aQY+90Z9GMilF8ZQcvin3PhFrAhqsPkjfqjOMECU+Y2xwXjS+Cs0BxF8U08Jzm0KQf\n",
       "sIcdoJTOXTlqzfoFcS9unliQnJ4AAAAASUVORK5CYII=\n",
       "\" style=\"display:inline;vertical-align:middle;\" /></a></td></tr>\n",
       "<tr><td>11</td><td>ExprTuple</td><td>12, 13</td><td><a class=\"ProveItLink\" href=\"../afe21f0edd115d5c08eb32550b7681e8e3fb01a90/expr.ipynb\"><img src=\"data:image/png;base64,iVBORw0KGgoAAAANSUhEUgAAADEAAAAVBAMAAAAdjxsPAAAAMFBMVEX////c3NwiIiJERESqqqqY\n",
       "mJh2dnZmZmYQEBDu7u4yMjJUVFTMzMyIiIi6uroAAAAs73DqAAAAAXRSTlMAQObYZgAAASVJREFU\n",
       "KM91kb9Lw0AUxz+x+XVWSyYXEQP+BQ4Obh0FFydHDTg4CZlcXDo424xuZiniIOjiUFC6ObgUHFUI\n",
       "TiIUq0NB0Oq7Sx2S1hve5X0/dy/fdw/+X7XuBHFLhztoJXP1IvE6Es6g+TMoX0phVoqdXnXKZBP8\n",
       "BC7Gf3QMr0wklTr7sl0/3eR5b3nhIerdix03piXCKieZIVG7qwaZ3Qc75chI1YZpLVtCfaNJrcHQ\n",
       "EPdLR6WG2J94Ynmmr0klxM0PaDnEjww5FOMh3nveespUzFuQ6GorksN0ivSlT4uXtrWBk7ILVsxa\n",
       "oD6ELGZsw7lrXD+LcHtwiWoG8AI7sP4oRTL84G8aQel1nGj07RReZy+fwjhR0hLzo6Qw2qoubU2a\n",
       "tnj4BRH8SNyczJceAAAAAElFTkSuQmCC\n",
       "\" style=\"display:inline;vertical-align:middle;\" /></a></td></tr>\n",
       "<tr><td>12</td><td>Literal</td><td></td><td><a class=\"ProveItLink\" href=\"../../../number/numeral/__pv_it/aaeeaca7d86eb2b7cdc49e25c3108b81b52ec5400/expr.ipynb\"><img src=\"data:image/png;base64,iVBORw0KGgoAAAANSUhEUgAAAAkAAAAOBAMAAAAPuiubAAAAMFBMVEX///8iIiJERES6urqIiIjM\n",
       "zMxUVFRmZmYQEBCqqqp2dnbc3Nzu7u6YmJgyMjIAAADYGhJvAAAAAXRSTlMAQObYZgAAAE1JREFU\n",
       "CNdj4LvDvZKBgeP//wUMDHxlSxkYGNgYGBCki5sBAwPTAZ7PYG4GmFwfwKAIJA0YGhkY6jcwFDAw\n",
       "vGNg2M7A2c3AwFqetoEBAKS8EE1WXEJLAAAAAElFTkSuQmCC\n",
       "\" style=\"display:inline;vertical-align:middle;\" /></a></td></tr>\n",
       "<tr><td>13</td><td>Variable</td><td></td><td><a class=\"ProveItLink\" href=\"../../../__pv_it/78af03acba5349fd70398a32ce59bae1da52f0870/expr.ipynb\"><img src=\"data:image/png;base64,iVBORw0KGgoAAAANSUhEUgAAABIAAAAJBAMAAADN8WE8AAAAMFBMVEX////MzMyYmJgQEBBmZmYi\n",
       "IiLu7u4yMjKqqqp2dnZUVFTc3NxERESIiIi6uroAAABe5jFNAAAAAXRSTlMAQObYZgAAAFtJREFU\n",
       "CNdj4Luz++5KvrsnGBg4uWoZ8ucx9DMwvGM9wJB/AcRKyH/A0J/A4M7AAKJcGRgsgSwgL4SB7zcb\n",
       "iMf2j4GrYBMD9z8Gpg8M7BcmMPAZMHAeYOBYKwAAtXMYHwtZnY0AAAAASUVORK5CYII=\n",
       "\" style=\"display:inline;vertical-align:middle;\" /></a></td></tr>\n",
       "</table>\n"
      ],
      "text/plain": [
       "0. c_5,...,c_m\n",
       "   core type: Iter\n",
       "   lambda_map: 1\n",
       "   start_index: 12\n",
       "   end_index: 13\n",
       "1. _x_ -> c__x_ | _x_ in {5...m}\n",
       "   core type: Lambda\n",
       "   parameter: 8\n",
       "   body: 2\n",
       "   conditions: 3\\n2. c__x_\n",
       "   core type: Indexed\n",
       "   var: 4\n",
       "   index: 8\n",
       "   base: \"1\"\n",
       "3. (_x_ in {5...m})\n",
       "   core type: ExprTuple\n",
       "   sub-expressions: 5\n",
       "4. c\n",
       "   core type: Variable\n",
       "   sub-expressions: \n",
       "5. _x_ in {5...m}\n",
       "   core type: Operation\n",
       "   operator: 6\n",
       "   operands: 7\n",
       "6. in\n",
       "   core type: Literal\n",
       "   sub-expressions: \n",
       "7. (_x_ , {5...m})\n",
       "   core type: ExprTuple\n",
       "   sub-expressions: 8, 9\n",
       "8. _x_\n",
       "   core type: Variable\n",
       "   sub-expressions: \n",
       "9. {5...m}\n",
       "   core type: Operation\n",
       "   operator: 10\n",
       "   operands: 11\n",
       "10. Interval\n",
       "    core type: Literal\n",
       "    sub-expressions: \n",
       "11. (5 , m)\n",
       "    core type: ExprTuple\n",
       "    sub-expressions: 12, 13\n",
       "12. 5\n",
       "    core type: Literal\n",
       "    sub-expressions: \n",
       "13. m\n",
       "    core type: Variable\n",
       "    sub-expressions: "
      ]
     },
     "execution_count": 4,
     "metadata": {},
     "output_type": "execute_result"
    }
   ],
   "source": [
    "# display the expression information\n",
    "expr.exprInfo()"
   ]
  },
  {
   "cell_type": "code",
   "execution_count": null,
   "metadata": {},
   "outputs": [],
   "source": []
  }
 ],
 "metadata": {
  "kernelspec": {
   "display_name": "Python 3",
   "language": "python",
   "name": "python3"
  }
 },
 "nbformat": 4,
 "nbformat_minor": 0
}
