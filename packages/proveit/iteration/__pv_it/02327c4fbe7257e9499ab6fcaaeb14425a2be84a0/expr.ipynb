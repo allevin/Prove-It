{
 "cells": [
  {
   "cell_type": "markdown",
   "metadata": {},
   "source": [
    "Expression of type <a class=\"ProveItLink\" href=\"../../../../../doc/html/api/proveit.ExprTuple.html\">ExprTuple</a>\n",
    "=======================\n",
    "# from context <a class=\"ProveItLink\" href=\"../../_context_.ipynb\">proveit.iteration</a>"
   ]
  },
  {
   "cell_type": "code",
   "execution_count": 1,
   "metadata": {},
   "outputs": [],
   "source": [
    "# import Expression classes needed to build the expression\n",
    "from proveit import ExprTuple\n",
    "from proveit._common_ import n, q\n",
    "from proveit.logic import InSet\n",
    "from proveit.number import Interval, one"
   ]
  },
  {
   "cell_type": "code",
   "execution_count": 2,
   "metadata": {},
   "outputs": [
    {
     "data": {
      "text/html": [
       "<strong id=\"expr\">expr:</strong> <a class=\"ProveItLink\" href=\"expr.ipynb\"><img src=\"data:image/png;base64,iVBORw0KGgoAAAANSUhEUgAAAHkAAAAVBAMAAACQ4lxbAAAAMFBMVEX////c3NwiIiJERESqqqqY\n",
       "mJh2dnZmZmYQEBDu7u4yMjJUVFTMzMyIiIi6uroAAAAs73DqAAAAAXRSTlMAQObYZgAAAbNJREFU\n",
       "OMtjYMAOWEsZ8IBjiTAW3wUs0pxqDHjBCQcGhjgQ4zQ2Wd4PINISp272BUB8AMhYiU2WrQFITP6J\n",
       "UzdYHmgC7wVcsrN3E9AdxsDAMQHJt7eUlBYgZHkJ6J7BwPAKSexUJIosId3MDgxlQIqnNicPSDFa\n",
       "MhDU/dZQ9nYCVJ6tgGEpkHoxgRukkFkAJUyx6k7YdYHzDzA5gOKEZQFDH9DOrxDVk5Hi8wF23XwP\n",
       "lBk4/wEZy0GcBgYgk/sDA1MCyAlKStBQO93DgF03J1ArC9idQDfzfADp5jdgmP8ANd28OIDD5UCt\n",
       "3CALQGkRqLuFgUH+AkM8SGYSQhE3Ln8DvcgfMAHib6DLTRkY5jsw7AJrCUCEuQJcNyeImAAjOBIY\n",
       "4ickQMKcdQFDOgMDVwDLN7A6PWwxNh9oEOcnBigh/4AhmeUAPMYeAcN879V/YD1SNci62St+gbLp\n",
       "DAOgxmYGKPGCgUH4CtR0rgcMHKBIBnsDCLwXIadUPACWUlkTYIGEIUtIdy40h3IkoBctBHSDUhcn\n",
       "yEppoEn26uipQpdA2QJMH9wgPzNizeCsKQTLtTsMDACKRHkULiqKXQAAAABJRU5ErkJggg==\n",
       "\" style=\"display:inline;vertical-align:middle;\" /></a><br>"
      ],
      "text/plain": [
       "expr: (q in {1...n})"
      ]
     },
     "execution_count": 2,
     "metadata": {},
     "output_type": "execute_result"
    }
   ],
   "source": [
    "# build up the expression from sub-expressions\n",
    "expr = ExprTuple(InSet(q, Interval(one, n)))"
   ]
  },
  {
   "cell_type": "code",
   "execution_count": 3,
   "metadata": {},
   "outputs": [
    {
     "name": "stdout",
     "output_type": "stream",
     "text": [
      "Passed sanity check: built 'expr' is the same as the stored Expression.\n"
     ]
    }
   ],
   "source": [
    "# check that the built expression is the same as the stored expression\n",
    "%check_expr"
   ]
  },
  {
   "cell_type": "code",
   "execution_count": 4,
   "metadata": {},
   "outputs": [
    {
     "data": {
      "text/html": [
       "<table><tr><th>&nbsp;</th><th>core type</th><th>sub-expressions</th><th>expression</th></tr>\n",
       "<tr><td>0</td><td>ExprTuple</td><td>1</td><td><a class=\"ProveItLink\" href=\"expr.ipynb\"><img src=\"data:image/png;base64,iVBORw0KGgoAAAANSUhEUgAAAHkAAAAVBAMAAACQ4lxbAAAAMFBMVEX////c3NwiIiJERESqqqqY\n",
       "mJh2dnZmZmYQEBDu7u4yMjJUVFTMzMyIiIi6uroAAAAs73DqAAAAAXRSTlMAQObYZgAAAbNJREFU\n",
       "OMtjYMAOWEsZ8IBjiTAW3wUs0pxqDHjBCQcGhjgQ4zQ2Wd4PINISp272BUB8AMhYiU2WrQFITP6J\n",
       "UzdYHmgC7wVcsrN3E9AdxsDAMQHJt7eUlBYgZHkJ6J7BwPAKSexUJIosId3MDgxlQIqnNicPSDFa\n",
       "MhDU/dZQ9nYCVJ6tgGEpkHoxgRukkFkAJUyx6k7YdYHzDzA5gOKEZQFDH9DOrxDVk5Hi8wF23XwP\n",
       "lBk4/wEZy0GcBgYgk/sDA1MCyAlKStBQO93DgF03J1ArC9idQDfzfADp5jdgmP8ANd28OIDD5UCt\n",
       "3CALQGkRqLuFgUH+AkM8SGYSQhE3Ln8DvcgfMAHib6DLTRkY5jsw7AJrCUCEuQJcNyeImAAjOBIY\n",
       "4ickQMKcdQFDOgMDVwDLN7A6PWwxNh9oEOcnBigh/4AhmeUAPMYeAcN879V/YD1SNci62St+gbLp\n",
       "DAOgxmYGKPGCgUH4CtR0rgcMHKBIBnsDCLwXIadUPACWUlkTYIGEIUtIdy40h3IkoBctBHSDUhcn\n",
       "yEppoEn26uipQpdA2QJMH9wgPzNizeCsKQTLtTsMDACKRHkULiqKXQAAAABJRU5ErkJggg==\n",
       "\" style=\"display:inline;vertical-align:middle;\" /></a></td></tr>\n",
       "<tr><td>1</td><td>Operation</td><td>operator:&nbsp;2<br>operands:&nbsp;3<br></td><td><a class=\"ProveItLink\" href=\"../f91c09693237a2e714f3bbeabf12e77d411b180b0/expr.ipynb\"><img src=\"data:image/png;base64,iVBORw0KGgoAAAANSUhEUgAAAGwAAAAVBAMAAABRZRb3AAAAMFBMVEX///+qqqpEREQiIiIyMjKY\n",
       "mJjc3NxUVFTu7u4QEBC6urp2dnaIiIhmZmbMzMwAAADWMNsgAAAAAXRSTlMAQObYZgAAAU5JREFU\n",
       "OMtjYMACWK8y4AGvt2EX57BmwAteCmAV5vkAIjVwauN1wCrMPQFINP3AqQ0sj124vZxIbRxHjI0d\n",
       "EMI8RGp7EoEiTEgb3519u4AUmwYDQW1r1HKOb4DKr2xgB6lgSkANKWzaNpQc4PgHjFZgSLN9hShr\n",
       "QoqXBdi1cS0wYuD4BWT4MjCwf2Bg3gCy1NgYGiTP5zFg18YB1MMIdpkrA78CQz/I9OcI6ZUPcDgS\n",
       "qIcdZDIwFeUfYIgHCTUjZNlx+Q3oG/6ABrDf+gUYSsBqAxAhaQDXxgEiGmAE5waG+IYN4JBkCWD8\n",
       "DVZghS0C+oEmcHxmgBL5Cxg2MT4Ay7PVHP0FVpxyD1kb780voNzTqQDUMYkBSqxkYEg6CEslrB8g\n",
       "qsWdkRMXHgCRZ3cgLoWjyXNuQM/cBLSBkwe3vi16tNoQyN0LsIuzbiRUlgAAFp9hUZ/CV4cAAAAA\n",
       "SUVORK5CYII=\n",
       "\" style=\"display:inline;vertical-align:middle;\" /></a></td></tr>\n",
       "<tr><td>2</td><td>Literal</td><td></td><td><a class=\"ProveItLink\" href=\"../../../logic/set_theory/membership/__pv_it/088cbc857536a28d4119ad9639a84270ccb0545d0/expr.ipynb\"><img src=\"data:image/png;base64,iVBORw0KGgoAAAANSUhEUgAAAAwAAAAMBAMAAACkW0HUAAAALVBMVEX///+qqqpmZmZUVFQQEBC6\n",
       "urpERETc3NyYmJjMzMwiIiIyMjKIiIju7u4AAACYsrA9AAAAAXRSTlMAQObYZgAAADxJREFUCNdj\n",
       "YOA9vWrVBgaG2b0MQMCeCyIZ2ArA1DUwyRCyahVIyWQI7xaEYm4AU7xLIdxqTQgtvGvVBgCkcQ7e\n",
       "geM/tQAAAABJRU5ErkJggg==\n",
       "\" style=\"display:inline;vertical-align:middle;\" /></a></td></tr>\n",
       "<tr><td>3</td><td>ExprTuple</td><td>4, 5</td><td><a class=\"ProveItLink\" href=\"../5ec455108cc68b016d0f0632c075743ff83563070/expr.ipynb\"><img src=\"data:image/png;base64,iVBORw0KGgoAAAANSUhEUgAAAGkAAAAVBAMAAAC3TN2zAAAAMFBMVEX////c3NwiIiJERESqqqqY\n",
       "mJh2dnZmZmYQEBDu7u4yMjJUVFTMzMyIiIi6uroAAAAs73DqAAAAAXRSTlMAQObYZgAAAY9JREFU\n",
       "OMuVlL9Lw1AQx7+1SZvX9IfgKFJB0Emog4OT/RM6OdqIgouKi+IiFHQUDbgUHNpFpP9CRegkQpcM\n",
       "OukQnIogFEGhIsW75KW2NWn0Qe5d7vJ53I93AQaXuocR63bN09JWn1nMYuS6ywOrrDT7rak2y6VA\n",
       "Kl6lp0FKrd8aK5E47wRSjp/IlDVsvbgOoVYAzfxlTYVQZeAF/6aieezTljzc2gmhXhemHg3pj+3i\n",
       "kraWqXd+auRLGXVLfFE7ucZKFadA5N39mvth+1NpewaiS8oVv5RAqt7GmOE4myfwpwQhCpujFFuy\n",
       "zVQmh4rteluNgAgJ0TkevjtEHQNZC0Xp1IPyohQyBdPNiyJcBCp51AGnb7HpHiVYmJ7QDBRNw62h\n",
       "WsUmkCgoHxBvQ5Wv0AGO0RFZG+tKo1f5Z6rhzUMX4mxcUvGDTx6Xco6AI0jRAibu5akJGxp/zOGm\n",
       "PWrU8m6UasgiqPgrtS0nhXJ1KTWE4tsguM6TdMLyHOBMjJgPmWXqq86pRAYGTN0I/W88Ad9HlHIx\n",
       "BG25XgAAAABJRU5ErkJggg==\n",
       "\" style=\"display:inline;vertical-align:middle;\" /></a></td></tr>\n",
       "<tr><td>4</td><td>Variable</td><td></td><td><a class=\"ProveItLink\" href=\"../../../__pv_it/874553314f6d962851bc90a15187492caf5d49850/expr.ipynb\"><img src=\"data:image/png;base64,iVBORw0KGgoAAAANSUhEUgAAAAoAAAANBAMAAABiGeI2AAAAMFBMVEX///+qqqpEREQiIiIyMjKY\n",
       "mJjc3NxUVFTu7u4QEBC6urp2dnaIiIhmZmbMzMwAAADWMNsgAAAAAXRSTlMAQObYZgAAAFBJREFU\n",
       "CNdjYOC7s28XA8PKBvYfDGxfGXgdGNg/MDBvYOBXYOhfwJB/gCGegaFfgKGEgYElgPE3AwNbzdFf\n",
       "DEDA+gFEsjuASM4NQIJb35YBAC9REXkfHwxdAAAAAElFTkSuQmCC\n",
       "\" style=\"display:inline;vertical-align:middle;\" /></a></td></tr>\n",
       "<tr><td>5</td><td>Operation</td><td>operator:&nbsp;6<br>operands:&nbsp;7<br></td><td><a class=\"ProveItLink\" href=\"../b794611fb7e9e809477a56a88ec9a22c2de05eb70/expr.ipynb\"><img src=\"data:image/png;base64,iVBORw0KGgoAAAANSUhEUgAAAEgAAAAVBAMAAAAX07VdAAAAMFBMVEX////c3NxERESqqqpUVFS6\n",
       "urrMzMwyMjIQEBCIiIh2dnYiIiLu7u5mZmaYmJgAAABXZE4RAAAAAXRSTlMAQObYZgAAANRJREFU\n",
       "KM9jYGDgu8eAB2QtBJE8uxjwggwDIMH5AcTUwamItwBIcDUAiUN/cCoCy4OIIy5EKGLgpKmiSEXJ\n",
       "KQug8mDXY1O0wH0CzzdgMIJ8nxGAXRFrwCYGnq9ARi0DQ0obA3ZFPEAVzCBhpjoGhogEHNYBVbCA\n",
       "nAKKERZcbgI6lv/BAYibuDYgFB0AWQNjcCxgeH9gAUYQ8PwGEuc3QBnyAQyLmBMQinhvfAelF54m\n",
       "IHFCAcqIYGAQmowcmHgA8Yr4CCgCxwjPTgIpExQjDHyLCaVxAJ32RFju+EClAAAAAElFTkSuQmCC\n",
       "\" style=\"display:inline;vertical-align:middle;\" /></a></td></tr>\n",
       "<tr><td>6</td><td>Literal</td><td></td><td><a class=\"ProveItLink\" href=\"../../../number/sets/integer/__pv_it/6e5362d7b256561b61a1b512bf7dc507dcde5dcf0/expr.ipynb\"><img src=\"data:image/png;base64,iVBORw0KGgoAAAANSUhEUgAAAE4AAAAOBAMAAABz3DdCAAAAMFBMVEX///8QEBCYmJiqqqoiIiLu\n",
       "7u7MzMyIiIi6uroyMjLc3NxmZmZERERUVFR2dnYAAAADo0JQAAAAAXRSTlMAQObYZgAAAWZJREFU\n",
       "KM99kL9LQlEUx7/2vL7XS9+LlqAh3Bp1kGhzLKjhCW1BvaX9UoPQD3ku1qb0D/S2ghTf4CKEuAU1\n",
       "6BaR1B3aKhIiNbAf56q8ybpwv3DO+XDOly+A158bF/+/p57UT79O2eO5iTaJ9u3XSWs8N1UgMXp+\n",
       "XfnjboCTTLb9evUPriz9mHXg6PrsUGit/i302r6rHZxnPGzWkOIoZbIuYhLO01Jxx1kHCm1OuLpn\n",
       "RFboiMhjvanNoQG0JPdmQ3PWwHrSrk5qHwebihOKV6B45SgugVnJnQKMIOUDQYHIzMIerC2HejQN\n",
       "xR+BZYQ6kuvTJyhSAI1Nb5APhj3V6oP8qNMyvu4wIDNqJaGbMgFUR6EZepdMs3CTcjXk0oBAzBJV\n",
       "LMmkOOYlF/aQY+90Z9GMilF8ZQcvin3PhFrAhqsPkjfqjOMECU+Y2xwXjS+Cs0BxF8U08Jzm0KQf\n",
       "sIcdoJTOXTlqzfoFcS9unliQnJ4AAAAASUVORK5CYII=\n",
       "\" style=\"display:inline;vertical-align:middle;\" /></a></td></tr>\n",
       "<tr><td>7</td><td>ExprTuple</td><td>8, 9</td><td><a class=\"ProveItLink\" href=\"../04ced3ab675bbde68ec9b077b040317d0f1c16510/expr.ipynb\"><img src=\"data:image/png;base64,iVBORw0KGgoAAAANSUhEUgAAACsAAAAVBAMAAAAtAwouAAAAMFBMVEX////c3NwiIiJERESqqqqY\n",
       "mJh2dnZmZmYQEBDu7u4yMjJUVFTMzMyIiIi6uroAAAAs73DqAAAAAXRSTlMAQObYZgAAAOdJREFU\n",
       "GNNjYMAB+C6gi8SBiNNAzDwBWZj9AJBYycDAaY8izLCAgYH3AgPn7v2owmEMDBwgkfuowjMYGF4x\n",
       "YAozOzCUIQu/NZS9ncDAwFbAsBRZOGHXBc4/DAwsCxj6kIT5HigzcP4D0g0M/5CEOYFiLD8ZGHg+\n",
       "oAiDxLgXgIVbkIXZFzDwB0wAGWIKEwbJcCQwxE9IYGBdwJAOFeb8BKTlHzAksxwAOfARkFfevzyA\n",
       "s1+AgeEFA4PwFQYGrgcMHAKwABZA9jxrApTNivB8LiRg0YQ5gW5kkIZyEJHEDTKOESPS7jAwAAAZ\n",
       "/kGp/Ka3mQAAAABJRU5ErkJggg==\n",
       "\" style=\"display:inline;vertical-align:middle;\" /></a></td></tr>\n",
       "<tr><td>8</td><td>Literal</td><td></td><td><a class=\"ProveItLink\" href=\"../../../number/numeral/__pv_it/9be8badea4c35b9724062cecc501d17a3158d1d20/expr.ipynb\"><img src=\"data:image/png;base64,iVBORw0KGgoAAAANSUhEUgAAAAgAAAAPBAMAAAArJJMAAAAAHlBMVEX///+YmJgyMjIQEBBmZmaI\n",
       "iIhUVFTu7u5EREQAAAAw+MI4AAAAAXRSTlMAQObYZgAAACFJREFUCNdjYGBoZ2BgqJjOwFCWBiQY\n",
       "WEklWJwnOTKAAACjEQo8HvEr3AAAAABJRU5ErkJggg==\n",
       "\" style=\"display:inline;vertical-align:middle;\" /></a></td></tr>\n",
       "<tr><td>9</td><td>Variable</td><td></td><td><a class=\"ProveItLink\" href=\"../../../__pv_it/39dbcd3ca0390345b51c6ef7785756419e2c14390/expr.ipynb\"><img src=\"data:image/png;base64,iVBORw0KGgoAAAANSUhEUgAAAAwAAAAJBAMAAAD0ltBnAAAAMFBMVEX///8QEBCYmJhmZmaqqqoi\n",
       "IiLMzMzu7u4yMjJ2dnZUVFTc3NxERESIiIi6uroAAABbPXqjAAAAAXRSTlMAQObYZgAAAERJREFU\n",
       "CNdj4Luz++5KBgZOrl6G+gSGd6wHGOofMBQAsX8BAwivYGBgsGBg+MTOwCDJwPSdk4H7HwPnATcG\n",
       "PgEG7rMOAGtQEUwHZIDZAAAAAElFTkSuQmCC\n",
       "\" style=\"display:inline;vertical-align:middle;\" /></a></td></tr>\n",
       "</table>\n"
      ],
      "text/plain": [
       "0. (q in {1...n})\n",
       "   core type: ExprTuple\n",
       "   sub-expressions: 1\n",
       "1. q in {1...n}\n",
       "   core type: Operation\n",
       "   operator: 2\n",
       "   operands: 3\n",
       "2. in\n",
       "   core type: Literal\n",
       "   sub-expressions: \n",
       "3. (q , {1...n})\n",
       "   core type: ExprTuple\n",
       "   sub-expressions: 4, 5\n",
       "4. q\n",
       "   core type: Variable\n",
       "   sub-expressions: \n",
       "5. {1...n}\n",
       "   core type: Operation\n",
       "   operator: 6\n",
       "   operands: 7\n",
       "6. Interval\n",
       "   core type: Literal\n",
       "   sub-expressions: \n",
       "7. (1 , n)\n",
       "   core type: ExprTuple\n",
       "   sub-expressions: 8, 9\n",
       "8. 1\n",
       "   core type: Literal\n",
       "   sub-expressions: \n",
       "9. n\n",
       "   core type: Variable\n",
       "   sub-expressions: "
      ]
     },
     "execution_count": 4,
     "metadata": {},
     "output_type": "execute_result"
    }
   ],
   "source": [
    "# display the expression information\n",
    "expr.exprInfo()"
   ]
  },
  {
   "cell_type": "code",
   "execution_count": null,
   "metadata": {},
   "outputs": [],
   "source": []
  }
 ],
 "metadata": {
  "kernelspec": {
   "display_name": "Python 3",
   "language": "python",
   "name": "python3"
  }
 },
 "nbformat": 4,
 "nbformat_minor": 0
}
