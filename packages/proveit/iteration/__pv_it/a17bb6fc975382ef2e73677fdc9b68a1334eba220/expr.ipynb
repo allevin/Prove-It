{
 "cells": [
  {
   "cell_type": "markdown",
   "metadata": {},
   "source": [
    "Expression of type <a class=\"ProveItLink\" href=\"../../../../../doc/html/api/proveit.logic.Equals.html\">Equals</a>\n",
    "=======================\n",
    "# from context <a class=\"ProveItLink\" href=\"../../_context_.ipynb\">proveit.iteration</a>"
   ]
  },
  {
   "cell_type": "code",
   "execution_count": 1,
   "metadata": {},
   "outputs": [],
   "source": [
    "# import Expression classes needed to build the expression\n",
    "from proveit.logic import Equals\n",
    "from proveit.number import Add, four, one, three"
   ]
  },
  {
   "cell_type": "code",
   "execution_count": 2,
   "metadata": {},
   "outputs": [
    {
     "data": {
      "text/html": [
       "<strong id=\"expr\">expr:</strong> <a class=\"ProveItLink\" href=\"expr.ipynb\"><img src=\"data:image/png;base64,iVBORw0KGgoAAAANSUhEUgAAAGEAAAAVBAMAAACkm51HAAAAMFBMVEX////c3NwiIiJERESqqqqY\n",
       "mJh2dnZmZmYQEBDu7u4yMjJUVFTMzMyIiIi6uroAAAAs73DqAAAAAXRSTlMAQObYZgAAAT9JREFU\n",
       "OMtjYCAd8F3AIRGHS8dpBoZjaSboopYMDOwHMBXzbAASKxkYCxjeo1k0+SeQWICpg8mAgYH3AgPb\n",
       "FwZ+BYjIRAg1ezdIRximjhtAHRwTGFgQOnyhMrwgHTMwNDBGAXW8AjNhrkLRweyAroONC6ijDMxc\n",
       "zYBFB1sBuo5AkI6loBDI2oBNBwvY6+yrwACkgvMCSEcfxEcPsOjga0B3FANIxz8wm+MnFh08H9B0\n",
       "+MB0MB5gYP4KFKhatUpj1arVOHVwJoB1tDAwzP8J0YHdVexKYABUyrJ79/7uCwymDAz8CxiYPmLR\n",
       "wYoZ6RxAjelA6QCG9wlEhS5YxyMg7V6+BDV02St+lTIwcD3AiMH93wMYOASQhXyROTOwJ3bWBGTe\n",
       "W2ROLo78sRJXxuFcgENCGpcObgEcEoy4cu0d7MIARrlX6Y2B75gAAAAASUVORK5CYII=\n",
       "\" style=\"display:inline;vertical-align:middle;\" /></a><br>"
      ],
      "text/plain": [
       "expr: (3 + 1) = 4"
      ]
     },
     "execution_count": 2,
     "metadata": {},
     "output_type": "execute_result"
    }
   ],
   "source": [
    "# build up the expression from sub-expressions\n",
    "expr = Equals(Add(three, one), four)"
   ]
  },
  {
   "cell_type": "code",
   "execution_count": 3,
   "metadata": {},
   "outputs": [
    {
     "name": "stdout",
     "output_type": "stream",
     "text": [
      "Passed sanity check: built 'expr' is the same as the stored Expression.\n"
     ]
    }
   ],
   "source": [
    "# check that the built expression is the same as the stored expression\n",
    "%check_expr"
   ]
  },
  {
   "cell_type": "code",
   "execution_count": 4,
   "metadata": {},
   "outputs": [
    {
     "data": {
      "text/html": [
       "<table><tr><th>&nbsp;</th><th>core type</th><th>sub-expressions</th><th>expression</th></tr>\n",
       "<tr><td>0</td><td>Operation</td><td>operator:&nbsp;1<br>operands:&nbsp;2<br></td><td><a class=\"ProveItLink\" href=\"expr.ipynb\"><img src=\"data:image/png;base64,iVBORw0KGgoAAAANSUhEUgAAAGEAAAAVBAMAAACkm51HAAAAMFBMVEX////c3NwiIiJERESqqqqY\n",
       "mJh2dnZmZmYQEBDu7u4yMjJUVFTMzMyIiIi6uroAAAAs73DqAAAAAXRSTlMAQObYZgAAAT9JREFU\n",
       "OMtjYCAd8F3AIRGHS8dpBoZjaSboopYMDOwHMBXzbAASKxkYCxjeo1k0+SeQWICpg8mAgYH3AgPb\n",
       "FwZ+BYjIRAg1ezdIRximjhtAHRwTGFgQOnyhMrwgHTMwNDBGAXW8AjNhrkLRweyAroONC6ijDMxc\n",
       "zYBFB1sBuo5AkI6loBDI2oBNBwvY6+yrwACkgvMCSEcfxEcPsOjga0B3FANIxz8wm+MnFh08H9B0\n",
       "+MB0MB5gYP4KFKhatUpj1arVOHVwJoB1tDAwzP8J0YHdVexKYABUyrJ79/7uCwymDAz8CxiYPmLR\n",
       "wYoZ6RxAjelA6QCG9wlEhS5YxyMg7V6+BDV02St+lTIwcD3AiMH93wMYOASQhXyROTOwJ3bWBGTe\n",
       "W2ROLo78sRJXxuFcgENCGpcObgEcEoy4cu0d7MIARrlX6Y2B75gAAAAASUVORK5CYII=\n",
       "\" style=\"display:inline;vertical-align:middle;\" /></a></td></tr>\n",
       "<tr><td>1</td><td>Literal</td><td></td><td><a class=\"ProveItLink\" href=\"../../../logic/equality/__pv_it/2fb26078095930560931daa0500ce419a39ea6cd0/expr.ipynb\"><img src=\"data:image/png;base64,iVBORw0KGgoAAAANSUhEUgAAAA4AAAAFBAMAAACHocAhAAAAFVBMVEX///9EREQiIiJUVFQyMjJm\n",
       "ZmYAAADubVkoAAAAAXRSTlMAQObYZgAAABRJREFUCNdjCHEBAWcGXCBICQQUAUpuAwlgGKrkAAAA\n",
       "AElFTkSuQmCC\n",
       "\" style=\"display:inline;vertical-align:middle;\" /></a></td></tr>\n",
       "<tr><td>2</td><td>ExprTuple</td><td>3, 4</td><td><a class=\"ProveItLink\" href=\"../b047eb73bd07cba83e612e24feab3969fe40ab4c0/expr.ipynb\"><img src=\"data:image/png;base64,iVBORw0KGgoAAAANSUhEUgAAAE0AAAAVBAMAAADx+n4ZAAAAMFBMVEX////c3NwiIiJERESqqqqY\n",
       "mJh2dnZmZmYQEBDu7u4yMjJUVFTMzMyIiIi6uroAAAAs73DqAAAAAXRSTlMAQObYZgAAAT9JREFU\n",
       "KM9jYCAW8F0gqCQORJxmYDiWZoIuxTwBxuLZwMB+AEivZGAsYHiPZiinPVwdkwEDwwIGBt4LDGxf\n",
       "GPgVIIITocp274eruwFUF8bAwDGBgQWhzhcmex+mjjEKqG4GA8MrMA9mL6Y6Ni6gOmYHhjIwbzUD\n",
       "LnWBIHVsBQxLQV7K2oBLHecFkDqWBQx9EMc+wKGOjQGkjq+B4R+Yy/EThzofsDqeDyB1jAcYmL8C\n",
       "xapWrdJYtWo1sjrOBJi6FgaG+T8h6rCYx7J79/7uCyB7TRkY+BcwMH3Eog6ilANoHusChnRglAQw\n",
       "vE/AVMf5Ca4OGC6PgEz38iVo4VLevzyAs18A5OH93wMYuB4wcAggx78vSoqDSwHjjTUBWeotMocV\n",
       "zsoFpytcAK6OE5iuGKRxqoOnSW6QAxgJp/s7DAwAjA5Y8Tw+SvgAAAAASUVORK5CYII=\n",
       "\" style=\"display:inline;vertical-align:middle;\" /></a></td></tr>\n",
       "<tr><td>3</td><td>Operation</td><td>operator:&nbsp;5<br>operands:&nbsp;6<br></td><td><a class=\"ProveItLink\" href=\"../76bb06a9fa851302be805e86e0b3a2cf68bca2620/expr.ipynb\"><img src=\"data:image/png;base64,iVBORw0KGgoAAAANSUhEUgAAACwAAAAQBAMAAACfEoDkAAAAMFBMVEX///+YmJju7u4QEBBUVFQy\n",
       "MjIiIiKIiIi6urpmZmbc3NyqqqpERER2dnbMzMwAAAB0GlNiAAAAAXRSTlMAQObYZgAAAIRJREFU\n",
       "GNNjYHh79zQDGjjEwMA1gaG/AFVU5xMDA+9vBv4ECFcLQqm4AIW5EcLboarZP4EpmCFowiEMWIT5\n",
       "rjowYFVd3IBVmPkTpjDXAwaej0D21NDQ5NDQEJiw/ieIMJpq/gAGtl+YwuwCDP0XsFi5c2Y0qgM5\n",
       "J3+diBxE2xmwgnYEEwC7Ti5ENdECMgAAAABJRU5ErkJggg==\n",
       "\" style=\"display:inline;vertical-align:middle;\" /></a></td></tr>\n",
       "<tr><td>4</td><td>Literal</td><td></td><td><a class=\"ProveItLink\" href=\"../../../number/numeral/__pv_it/23412ce59ea7e77353d2f9225e02248e73651ca00/expr.ipynb\"><img src=\"data:image/png;base64,iVBORw0KGgoAAAANSUhEUgAAAAoAAAAPBAMAAAAv0UM9AAAALVBMVEX///9mZmaqqqru7u52dnYy\n",
       "MjKYmJjc3NwQEBCIiIhEREQiIiJUVFTMzMwAAACUDTcXAAAAAXRSTlMAQObYZgAAAD5JREFUCNdj\n",
       "YGBguMMAArtABGcXiCyLApEOIJKtAERaMoBIBxDJdAFEmjCASJ0zZ16cBCkF64KQPu/EwBwGACv6\n",
       "DSRgin9qAAAAAElFTkSuQmCC\n",
       "\" style=\"display:inline;vertical-align:middle;\" /></a></td></tr>\n",
       "<tr><td>5</td><td>Literal</td><td></td><td><a class=\"ProveItLink\" href=\"../../../number/addition/__pv_it/3e6688136fa3c7aefbebe51301b7c3ebf0b69c440/expr.ipynb\"><img src=\"data:image/png;base64,iVBORw0KGgoAAAANSUhEUgAAAA4AAAAOBAMAAADtZjDiAAAAJFBMVEX///+6urpUVFQQEBAiIiIy\n",
       "MjJmZmaIiIiqqqrc3Nzu7u4AAACgHpL+AAAAAXRSTlMAQObYZgAAAB5JREFUCNdjYGBgWMkAAe2k\n",
       "0Kmhoc6hoUGk6BMHYgAHOwjcado9fwAAAABJRU5ErkJggg==\n",
       "\" style=\"display:inline;vertical-align:middle;\" /></a></td></tr>\n",
       "<tr><td>6</td><td>ExprTuple</td><td>7, 8</td><td><a class=\"ProveItLink\" href=\"../2762c488bdde45da450123d7901ebe0ce5f802080/expr.ipynb\"><img src=\"data:image/png;base64,iVBORw0KGgoAAAANSUhEUgAAACkAAAAVBAMAAAAp9toTAAAAMFBMVEX////c3NwiIiJERESqqqqY\n",
       "mJh2dnZmZmYQEBDu7u4yMjJUVFTMzMyIiIi6uroAAAAs73DqAAAAAXRSTlMAQObYZgAAAOpJREFU\n",
       "GNNjYMAO+C6gCcSBiNMMDMfSTGBClgwM7AeA9EoGxgKG91ANk38CiQUMDLwXGNi+MPArgAVn7waJ\n",
       "hjEwcExgYIGLMvCCRGcwMLwC82AmgEWZHRjKwLzVDEiibAUMS4EUT9YGZFGWBQx9YN6NB0iifA0M\n",
       "/8A8jp9IojwfQKKMBxiYv6KKtjAwzP+JKgo0wZSBgX8BA9NHhglwUdYFDOlAZgDD+wTOT8guewSk\n",
       "3MuXMHD2CwADpuJXKQMD1wMGDgFYiMIYIB+zJkDZrPAAzgWHJJooJzAkGaShHHiUcIOMYkSPoTsM\n",
       "DAAlWkDE/c04eAAAAABJRU5ErkJggg==\n",
       "\" style=\"display:inline;vertical-align:middle;\" /></a></td></tr>\n",
       "<tr><td>7</td><td>Literal</td><td></td><td><a class=\"ProveItLink\" href=\"../../../number/numeral/__pv_it/9176d93c83afa2c995b614976e3cb49207102fa70/expr.ipynb\"><img src=\"data:image/png;base64,iVBORw0KGgoAAAANSUhEUgAAAAoAAAAOBAMAAADkjZCYAAAAMFBMVEX///+YmJju7u4QEBBUVFQy\n",
       "MjIiIiKIiIi6urpmZmbc3NyqqqpERER2dnbMzMwAAAB0GlNiAAAAAXRSTlMAQObYZgAAAE1JREFU\n",
       "CNdjYHh79zQDA9cEhv4CBt7fDPwJDNxgEgiAIkAQAsR8Vx1ATIbiBhDJ/ImB6wEDz0cG/U8gkj+A\n",
       "ge0XA7sAQ/8FBoadM6MZAEflFACalZ/OAAAAAElFTkSuQmCC\n",
       "\" style=\"display:inline;vertical-align:middle;\" /></a></td></tr>\n",
       "<tr><td>8</td><td>Literal</td><td></td><td><a class=\"ProveItLink\" href=\"../../../number/numeral/__pv_it/9be8badea4c35b9724062cecc501d17a3158d1d20/expr.ipynb\"><img src=\"data:image/png;base64,iVBORw0KGgoAAAANSUhEUgAAAAgAAAAPBAMAAAArJJMAAAAAHlBMVEX///+YmJgyMjIQEBBmZmaI\n",
       "iIhUVFTu7u5EREQAAAAw+MI4AAAAAXRSTlMAQObYZgAAACFJREFUCNdjYGBoZ2BgqJjOwFCWBiQY\n",
       "WEklWJwnOTKAAACjEQo8HvEr3AAAAABJRU5ErkJggg==\n",
       "\" style=\"display:inline;vertical-align:middle;\" /></a></td></tr>\n",
       "</table>\n"
      ],
      "text/plain": [
       "0. (3 + 1) = 4\n",
       "   core type: Operation\n",
       "   operator: 1\n",
       "   operands: 2\n",
       "1. =\n",
       "   core type: Literal\n",
       "   sub-expressions: \n",
       "2. (3 + 1 , 4)\n",
       "   core type: ExprTuple\n",
       "   sub-expressions: 3, 4\n",
       "3. 3 + 1\n",
       "   core type: Operation\n",
       "   operator: 5\n",
       "   operands: 6\n",
       "4. 4\n",
       "   core type: Literal\n",
       "   sub-expressions: \n",
       "5. +\n",
       "   core type: Literal\n",
       "   sub-expressions: \n",
       "6. (3 , 1)\n",
       "   core type: ExprTuple\n",
       "   sub-expressions: 7, 8\n",
       "7. 3\n",
       "   core type: Literal\n",
       "   sub-expressions: \n",
       "8. 1\n",
       "   core type: Literal\n",
       "   sub-expressions: "
      ]
     },
     "execution_count": 4,
     "metadata": {},
     "output_type": "execute_result"
    }
   ],
   "source": [
    "# display the expression information\n",
    "expr.exprInfo()"
   ]
  },
  {
   "cell_type": "code",
   "execution_count": null,
   "metadata": {},
   "outputs": [],
   "source": []
  }
 ],
 "metadata": {
  "kernelspec": {
   "display_name": "Python 3",
   "language": "python",
   "name": "python3"
  }
 },
 "nbformat": 4,
 "nbformat_minor": 0
}
