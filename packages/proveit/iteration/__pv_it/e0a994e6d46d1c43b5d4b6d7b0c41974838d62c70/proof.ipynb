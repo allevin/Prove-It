{
 "cells": [
  {
   "cell_type": "markdown",
   "metadata": {},
   "source": [
    "Show the Proof\n",
    "========"
   ]
  },
  {
   "cell_type": "code",
   "execution_count": 1,
   "metadata": {},
   "outputs": [
    {
     "data": {
      "text/html": [
       "<table><tr><th>&nbsp;</th><th>step type</th><th>requirements</th><th>statement</th></tr>\n",
       "<tr><td>0</td><td>assumption</td><td></td><td><span style=\"font-size:20px;\"><a class=\"ProveItLink\" href=\"../811fd8ac1ba823dfb8baa7f4e1182dabed97e3670/expr.ipynb\"><img src=\"data:image/png;base64,iVBORw0KGgoAAAANSUhEUgAAAeEAAAAWBAMAAAAFhDkoAAAAMFBMVEX///9ERETc3NyqqqpUVFS6\n",
       "urrMzMwyMjIQEBCIiIh2dnYiIiLu7u5mZmaYmJgAAABJJ2g3AAAAAXRSTlMAQObYZgAABbJJREFU\n",
       "WMPlWFtoHFUY/ney19lJNluRshTqZCnUkuIGHwxapGtB6ZNdQrEJPjSUCq0Irpe4xVSbtsQqipn2\n",
       "QZRCs9qKF1qaoGljtmDUYlLamoLYQKPt+GCCQc0mTdomDa7nNjNnZs/ODj744oEvc/jPyXf+71z+\n",
       "/5wFgLrr8D8pwc9V/FGGAIardI2cfa5yY0CjEJTfBLY2hoqlLuNdQ5t7M6YyMDWAJB8kaooAfbjy\n",
       "e+X/lDNRQiDUtZNBUGrby+c5TeFSrnpftHSVDlc5fIwwTtR0ARzHlb1uiuUm9AkJ98Jel//Nllkw\n",
       "R8h9T4U8Kw5V25whDljxp4biBvSV6t0Uk9YG4Y7XKIRluszyAYPbXsyzyrcVOigqR1aVyoBNMZ6r\n",
       "2iY3xWQVfxS1hYcphGW0zPIOg0tRuljl4QodajSOrCqVAZviuo+SyUZwVTydTCb7RG3bGC53vrLt\n",
       "S9P6ybsABQCfcxoDWQpl/OwznbZTKO/RIUpHuMejYjERz0SoGGyKYTYeH3JXHIvHV+VFbdcolC+g\n",
       "51yvMfnylR61poS/zliWp7jYFL57YZFvORWeg41FWvWoWEzEMxEqBlNxLY4uTwCsMP0bECn2t4NP\n",
       "FQ3/OoVfh5JW0o3dLJXU2lnkGwld4zlcXiahRKd4EmKLsb8tcWjfpebgRj0xNHtUzBNZXhtMxNJs\n",
       "ASuewR124fS3FRS83agk6nbwtZ/g/Z9NxYE0jAiH76aQAYkkCe4Swm75NkTRzAe6nKc+Q5GH1BxO\n",
       "di3ERxQGgtrpLHytEUOrR8U8EfUaj20wEUurBaw4hNZ05xu4ZxQiOs954Zfr8Ks8LA+bilHOPiYc\n",
       "foEB6u7QKb5LnFmEsVto9KKjdyxDgabbmowxcuh6NKVE8/fzHhWXEdGxOSZCxYAVw0oksxW3RfQo\n",
       "H24j966/BH9pV3jFx+Ccu2L/PB11PxlpDrYXXRVvscLNKE59wZIaKFlu4qMwyI6CPRLkcp2Hcrk0\n",
       "CIjo2ByTU3EUhyI/PmpKFt2aAodxH+mUDn/iyuRD63jFI/iCc37VtRyeoa1DMMo2xUGKmjxa1oh5\n",
       "0tHEn84au3qigEs/WfsmikfQQsARaLMuAWiLoKNADJ53tUWEvbYzUYtjV5NzLJMtteJxtJVj2GEZ\n",
       "xXwSbyblH57lFPvWoD9nAvMpJFzp2wczbIjVFGMLqQW43xx1Jgv7cOZ3Xrp8OoFSaillpC5Fm7P8\n",
       "vA2hJWqYcijGXihGhVNsERGvbUzMMmXBnp3gUaR7/QZcS8rpIElDk5A/wSmumUDrr0VuNqKJlR6c\n",
       "hS2qLf6n6jcvSB3mqKmuSCkjyE7YgCDN+nsyazPSd1aKl+5A7wI1OLITOZ34rLNjaiq2iLDXdiZm\n",
       "EWUnqjiMSRJs5oL98XgCKX7gIqcY3iKNy/Sg34Q3Gf/TFJHCyc0569VTM9hfwjdo5zso0EdxdOj8\n",
       "ITQ/Pu56uuHt+5apocOheD876/SYcjcQi4hsHhsTtXRYcCiuQ+4pyyTAxVQlTdc4sJtX/AfCq+E+\n",
       "SSfClXkj36gU9vIU4HQsuGUeYGBR+ntrLtpxEsUG77fMA1xIVB1MxFLxlsmIsnnpRZSgATZRxTDN\n",
       "K8ZRcGl7va8JdfIXaxcdl3W7TyWUJtH3M+HbwnpfNMtmdWMRJXRikLUqr1/zNc49VHaBg4lYMJUB\n",
       "U3GdqVhKqEF0e0ER+xukMPACumiBXTE8trr/JUCdpM49t9xei5ElaTAD5Frj+lpsOGI29OYbu6lh\n",
       "5N+8Fg+Dg4lYRjiY72PlK9vzip7mD+MJxy3T3umyGjYnag2DrUwUTuLMV34vldIU5Xm2MMT83+RZ\n",
       "MUeUKGNKMCoDSHGwm/p/nOPY4WsRPMEiBduPGTugV79hToKkUQjKewLbOobKPzG1e//VxyAq95pY\n",
       "MJWBowPG71z2ovtOVB9Qh7UrvS/Ef1HKva6o4x/uuv70VpJkPAAAAABJRU5ErkJggg==\n",
       "\" style=\"display:inline;vertical-align:middle;\" /></a> <a class=\"ProveItLink\" href=\"proof.ipynb\" style=\"text-decoration: none\">&#x22A2;&nbsp;</a><a class=\"ProveItLink\" href=\"../886cf6d8ccdfd906d4ed59b711f64de97db38f240/expr.ipynb\"><img src=\"data:image/png;base64,iVBORw0KGgoAAAANSUhEUgAAAcwAAAAWBAMAAAC/J7FIAAAAMFBMVEX///8QEBC6urrMzMxUVFRm\n",
       "ZmZERETc3NwyMjKqqqp2dnaIiIiYmJgiIiLu7u4AAAAU9Wx4AAAAAXRSTlMAQObYZgAABWNJREFU\n",
       "WMPlWF1oHFUUPvuTnd3ZZDb2oa34ky0WUgjSVISCBd0q2BehRRFqMTb4sFW2xRFKtlDT3ca/VUy7\n",
       "IGJQSpel9QehHRHaB1syGJQQxSRVQg1sTbDVSG2TpiHbJjbj/ZuZO7N3ZwcffPHCtzOcO/Pd8905\n",
       "955zF+D/0aYa9McvPlq/M6hRCNo3AlsHQ93WnPTveId3N6YyMXwBxrDt+/qPy8kW8pZQzMMMgtbU\n",
       "WWMKpSg82jO+VTYgolQmyvA5Nh3xkikX0SUq/OpHPN7N11gwR9Q7eqK+ZUYbhWGUQxl60K/U7SWT\n",
       "9PYIA1qjELaRGsvXDF6hVmI3f9R5QFE5soZUJspkVpqKXjLJ93pO1BeYohC26RrL/QweTWllNx/X\n",
       "eSCmcWQNqUyUofnTbLYXPGWOZLPZMVHfBoYr/a9v+NmyfnYvQAUg4p67YJ5C2XnxoX7HypIP69BC\n",
       "R3jZp0wxEc9EqBjKAIvp9KS3zEQ6va8k6ttFofwCbZcGzWmWd7SpMQNf3ZtSieJaMXDn6jLfczJQ\n",
       "heNz9NanTDERz0SoGJDMJwD2WE5dEMkMd0JEFY35HkVYB0MzdDNYJUNtWkQOkT1oZwG3N8ieoFM8\n",
       "BYnlxN+2IhRWuSrs7iaGAZ8yeSLba5OJWAZsIJnrQcHRRHVQX0NvPg1fvmDJDKZgRjjmKgoZkDKS\n",
       "k64jbJFvQQua42CreyUnKUqQq+L81E4cQ0s7pJ3Ow68aMazzKZMnol7jsU0mYllnA8lsgbjOE119\n",
       "9nn4Tp6SpyyZKLeeE445zwDNN+hk3iEeLMPsTTTknOvpRJICYNSegVmykNo0xaB59jGfMmuI6Ngc\n",
       "E6FiQDLjegu/WcZfPHQdftB28DLPwSVvmeEFOtRqQl+FjXOeMrfb+8Y0zlYhQw0atm840sdZpDtX\n",
       "d6HQv7ZQSIGAiI7NMblkKnlUxwTP4A7ppA7f4puh9w/yMmdwyXF5364Cnqf1kzDNPv/dFLES+oBx\n",
       "a/WiKT6dN4O2q4LbBPnKRYqP0JTDWeiwkzUKBhTpxOA7aG0i7LWTiVqcQQt7HkeRmsBeymibJhvH\n",
       "kPzXI5zMyH7081NwIYfUKmNHYZTx7qWYnc/Nw6vWUKN5OIrTsrsMiugEitFuJKVWRavazt2C6BI1\n",
       "DLtkYi8UrvY2ZdpExGsHE7MM28AyP0DL49Ax/FBWToVI5hiC0glOZqwLfWktfrsXTaH04SJsVx1b\n",
       "dq5767zUZw2Va40bSUFCwQYEaTHcljyQlP60U7F0AwbnqcGVUMiKw+uXLT1Lpk2EvXYyMYszoUAA\n",
       "v5lhcxSaSKczSOZr1ziZcA/pXKGL9zbcxUgfpIhXTm0t2GeL2PiEgatX92kjOEZxfvLyWjQpEa5K\n",
       "PHbfKyvU0OeSuZqtX7r0uPLAJiJh4mCilj4bWGYz8klZIdtTQlVS9GsGt/Ayf0R4NzAm6UStsmCm\n",
       "CJXC2R4AnDYFxd4aBrbH/mZPQCdOdtjgv9hbw+1tqouJWJzFHns7X5LeBtgEsI3KhBFeJt7DljZ2\n",
       "R4roofBc07KrOnY6YqB0hq5fCIt5u6AfkK3b43Mo8RKDrDU4TVqnW+5ksAlcTMSCqUyYMqWMGkL1\n",
       "BNpvf0eygm+h0gecMuHJvRPvAHpI6j980+sgFl+SxpNAag7Pg1jPWatjsNS7ihpm/s1B7Ay4mIhl\n",
       "hkOZP7nQFfpJOuMq9hzHG7iiBqykvJ/B0boqp3AqrS0PpRRFbT6sTDKnt/mWyRFlapgyjMoEL3Nz\n",
       "pF1wuolXHH8DbIZBfbelXNIoBO0rge0gQ/1/ZDr9/0liEtV6TSyYysR5vlTXIycaj6LDgZf8T/l/\n",
       "0Wq9Fuj4B4Hz6MGGHrXXAAAAAElFTkSuQmCC\n",
       "\" style=\"display:inline;vertical-align:middle;\" /></a></span></td></tr>\n",
       "</table>"
      ],
      "text/plain": [
       "<proveit._core_.proof._ShowProof at 0x7fe03f54aa58>"
      ]
     },
     "execution_count": 1,
     "metadata": {},
     "output_type": "execute_result"
    }
   ],
   "source": [
    "import proveit\n",
    "%show_proof"
   ]
  },
  {
   "cell_type": "code",
   "execution_count": null,
   "metadata": {},
   "outputs": [],
   "source": []
  }
 ],
 "metadata": {
  "kernelspec": {
   "display_name": "Python 3",
   "language": "python",
   "name": "python3"
  }
 },
 "nbformat": 4,
 "nbformat_minor": 0
}
