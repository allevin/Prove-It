{
 "cells": [
  {
   "cell_type": "markdown",
   "metadata": {},
   "source": [
    "Expression of type <a class=\"ProveItLink\" href=\"../../../../../doc/html/api/proveit.logic.Equals.html\">Equals</a>\n",
    "=======================\n",
    "# from context <a class=\"ProveItLink\" href=\"../../_context_.ipynb\">proveit.iteration</a>"
   ]
  },
  {
   "cell_type": "code",
   "execution_count": 1,
   "metadata": {},
   "outputs": [],
   "source": [
    "# import Expression classes needed to build the expression\n",
    "from proveit import Variable\n",
    "from proveit._common_ import k, l\n",
    "from proveit.logic import Equals\n",
    "from proveit.number import Add, Neg, one"
   ]
  },
  {
   "cell_type": "code",
   "execution_count": 2,
   "metadata": {},
   "outputs": [
    {
     "data": {
      "text/html": [
       "<strong id=\"expr\">expr:</strong> <a class=\"ProveItLink\" href=\"expr.ipynb\"><img src=\"data:image/png;base64,iVBORw0KGgoAAAANSUhEUgAAAJ8AAAAVBAMAAACqHiFtAAAAMFBMVEX////c3NwiIiJERESqqqqY\n",
       "mJh2dnZmZmYQEBDu7u4yMjJUVFTMzMyIiIi6uroAAAAs73DqAAAAAXRSTlMAQObYZgAAAYlJREFU\n",
       "OMtjYKA64LtArMo44pSdZmCY3YQuyKb/AE3EkoGB/QBRBq4E4uUYovFo/Mk/gcQCYszjBfn4C4zH\n",
       "KQBlVKGqmr0bZGAYMQZyTAAG408YjwUWoL3o9oKUzCDGwFegEFuAbiDjH2wGMjsQYWAZEHMlsNY/\n",
       "QDGQ9QM2A9kKsJvBmLvRtxbGWQrE819mvndAMZDbAJuBLGCfVK0CgdVIktMYggLgCaUPiP3PonuZ\n",
       "4wI2A/kasLswgeE+gw+M8w+I6/XQDTwPSnKMi5RA4AHcQJ4P2A2cwLAZwQEZqDtbE8RkX7VqUdeq\n",
       "VRuAzBsM2FyIy0CURNECTHx/GL4worrQmhO3l4vA7lZGiZU/DHANpqAo5fzHhmrgVzZsBrLiyCqB\n",
       "vB8YbsI46eAo/ciLauCfuSQkG5avzA2M8Fh8BEyGAQzXM1ENhPFhgL3iVylQIXqJ4WwMBBM4bTPT\n",
       "rsI4DBwCKJbhLcuIynqsCcQXjrlEF1/EAU6iii8GaaIN5BYgShkj0VXAHWIUAQB/Om9zmD8z1wAA\n",
       "AABJRU5ErkJggg==\n",
       "\" style=\"display:inline;vertical-align:middle;\" /></a><br>"
      ],
      "text/plain": [
       "expr: (k + l - 1) = _x_"
      ]
     },
     "execution_count": 2,
     "metadata": {},
     "output_type": "execute_result"
    }
   ],
   "source": [
    "# build up the expression from sub-expressions\n",
    "expr = Equals(Add(k, l, Neg(one)), Variable(\"_x_\", latexFormat = r\"{_{-}x_{-}}\"))"
   ]
  },
  {
   "cell_type": "code",
   "execution_count": 3,
   "metadata": {},
   "outputs": [
    {
     "name": "stdout",
     "output_type": "stream",
     "text": [
      "Passed sanity check: built 'expr' is the same as the stored Expression.\n"
     ]
    }
   ],
   "source": [
    "# check that the built expression is the same as the stored expression\n",
    "%check_expr"
   ]
  },
  {
   "cell_type": "code",
   "execution_count": 4,
   "metadata": {},
   "outputs": [
    {
     "data": {
      "text/html": [
       "<table><tr><th>&nbsp;</th><th>core type</th><th>sub-expressions</th><th>expression</th></tr>\n",
       "<tr><td>0</td><td>Operation</td><td>operator:&nbsp;1<br>operands:&nbsp;2<br></td><td><a class=\"ProveItLink\" href=\"expr.ipynb\"><img src=\"data:image/png;base64,iVBORw0KGgoAAAANSUhEUgAAAJ8AAAAVBAMAAACqHiFtAAAAMFBMVEX////c3NwiIiJERESqqqqY\n",
       "mJh2dnZmZmYQEBDu7u4yMjJUVFTMzMyIiIi6uroAAAAs73DqAAAAAXRSTlMAQObYZgAAAYlJREFU\n",
       "OMtjYKA64LtArMo44pSdZmCY3YQuyKb/AE3EkoGB/QBRBq4E4uUYovFo/Mk/gcQCYszjBfn4C4zH\n",
       "KQBlVKGqmr0bZGAYMQZyTAAG408YjwUWoL3o9oKUzCDGwFegEFuAbiDjH2wGMjsQYWAZEHMlsNY/\n",
       "QDGQ9QM2A9kKsJvBmLvRtxbGWQrE819mvndAMZDbAJuBLGCfVK0CgdVIktMYggLgCaUPiP3PonuZ\n",
       "4wI2A/kasLswgeE+gw+M8w+I6/XQDTwPSnKMi5RA4AHcQJ4P2A2cwLAZwQEZqDtbE8RkX7VqUdeq\n",
       "VRuAzBsM2FyIy0CURNECTHx/GL4worrQmhO3l4vA7lZGiZU/DHANpqAo5fzHhmrgVzZsBrLiyCqB\n",
       "vB8YbsI46eAo/ciLauCfuSQkG5avzA2M8Fh8BEyGAQzXM1ENhPFhgL3iVylQIXqJ4WwMBBM4bTPT\n",
       "rsI4DBwCKJbhLcuIynqsCcQXjrlEF1/EAU6iii8GaaIN5BYgShkj0VXAHWIUAQB/Om9zmD8z1wAA\n",
       "AABJRU5ErkJggg==\n",
       "\" style=\"display:inline;vertical-align:middle;\" /></a></td></tr>\n",
       "<tr><td>1</td><td>Literal</td><td></td><td><a class=\"ProveItLink\" href=\"../../../logic/equality/__pv_it/2fb26078095930560931daa0500ce419a39ea6cd0/expr.ipynb\"><img src=\"data:image/png;base64,iVBORw0KGgoAAAANSUhEUgAAAA4AAAAFBAMAAACHocAhAAAAFVBMVEX///9EREQiIiJUVFQyMjJm\n",
       "ZmYAAADubVkoAAAAAXRSTlMAQObYZgAAABRJREFUCNdjCHEBAWcGXCBICQQUAUpuAwlgGKrkAAAA\n",
       "AElFTkSuQmCC\n",
       "\" style=\"display:inline;vertical-align:middle;\" /></a></td></tr>\n",
       "<tr><td>2</td><td>ExprTuple</td><td>3, 4</td><td><a class=\"ProveItLink\" href=\"../318836a0c2d9ed31153164ecd60f6dbecac3d3b10/expr.ipynb\"><img src=\"data:image/png;base64,iVBORw0KGgoAAAANSUhEUgAAAI0AAAAVBAMAAACJRXC4AAAAMFBMVEX////c3NwiIiJERESqqqqY\n",
       "mJh2dnZmZmYQEBDu7u4yMjJUVFTMzMyIiIi6uroAAAAs73DqAAAAAXRSTlMAQObYZgAAAY5JREFU\n",
       "OMtjYKAW4LtAsRFxIOI0AwPnDgU0GTb9B2gilnjMYT8AJFYCMVcBulQ8Gn/yT3wOWsDAwAvyFr8D\n",
       "TGQilK5CVTh7N15zwhgYOCYA6fcTYCK+ULoXTSUvXnNmMDC8AtFZDGjmMP4hyRxmB4YyEL2MIfwf\n",
       "ijmsHwiYw5i70bcWES0FDEuBFOe/afO+oJjDbUDAnGkMQQFNcB7LAoY+EPXnApq/OC4QMCeB4T6D\n",
       "DyINNjCA/MP+6QGaOedBKYJBSgkE9LCZM4FhMxKP5wPYHKabm8ARVrVqlcaqVauBrBsMBMO5F9Wc\n",
       "FiA1/wC/gwCKe6w5CZkDjFFOZH+ZghPv/AcJKOZ8ZcNiDrLZgbwfGG7CeawLGNKB1GYGfoELKOb8\n",
       "mYvFnPmIXMjylbmB8QJyvD8CUksZeMsmoJhzPRMtJ1b8KmWY8RHIcjYGggmctplpV2EcYP58wMAh\n",
       "gKLBF1+yfYgnX7AmoIi8xWdOAC6JXGi5QSTAZQ4nsNxgkCbaGF5cEtygsGGkvFy9w8AAACToaYLC\n",
       "M5hAAAAAAElFTkSuQmCC\n",
       "\" style=\"display:inline;vertical-align:middle;\" /></a></td></tr>\n",
       "<tr><td>3</td><td>Operation</td><td>operator:&nbsp;5<br>operands:&nbsp;6<br></td><td><a class=\"ProveItLink\" href=\"../0991c44767f3b7fd83fb1711614011806433f2bf0/expr.ipynb\"><img src=\"data:image/png;base64,iVBORw0KGgoAAAANSUhEUgAAAE0AAAAQBAMAAAChN++qAAAAMFBMVEX///9ERETc3NyIiIjMzMyY\n",
       "mJh2dna6urqqqqpmZmYyMjIiIiIQEBBUVFTu7u4AAAD6+w4kAAAAAXRSTlMAQObYZgAAAMZJREFU\n",
       "KM9j4LuzgQENZH9HE2B8ACS4JqCrY/2AyueTB6njb4DxH0FpzgWoyu7eB6mrfwATaIbSPAZoFtiD\n",
       "lGQxoKvTd8CmbhlD5HdUdfEMWNTxfX/2/AequovY1HF8MUC39zA2dZy/C9DUsXwBkVq7QWA7XB23\n",
       "3W2wh2etWrVn1aq1QBbzAWzmvXfgb1BAMY/xwgMs6uIZ3hckoKjjD0jAou4iA7+CAao6P2zhvJSB\n",
       "edoDFHVwPgzMPL8yAJnfzEAcKMYjBwD49URicKJShQAAAABJRU5ErkJggg==\n",
       "\" style=\"display:inline;vertical-align:middle;\" /></a></td></tr>\n",
       "<tr><td>4</td><td>Variable</td><td></td><td><a class=\"ProveItLink\" href=\"../5144cf74ae6a683b49b974f1b9302b432abf7e930/expr.ipynb\"><img src=\"data:image/png;base64,iVBORw0KGgoAAAANSUhEUgAAACUAAAAJBAMAAABH3vh9AAAAKlBMVEX////MzMwQEBAiIiKYmJhm\n",
       "ZmZUVFSIiIh2dnbc3Nzu7u5ERESqqqoAAABwkVEpAAAAAXRSTlMAQObYZgAAAEtJREFUCNdjYIAA\n",
       "zvbM4+EMqGAFg7ODMppYA0Mtw0E0sQUM2QyYQB1TiPMiAxeakCf7BYYqVCGeK9wKnAUw3undQLCA\n",
       "a3tXRwmMAwC3+RVNp6j0GAAAAABJRU5ErkJggg==\n",
       "\" style=\"display:inline;vertical-align:middle;\" /></a></td></tr>\n",
       "<tr><td>5</td><td>Literal</td><td></td><td><a class=\"ProveItLink\" href=\"../../../number/addition/__pv_it/3e6688136fa3c7aefbebe51301b7c3ebf0b69c440/expr.ipynb\"><img src=\"data:image/png;base64,iVBORw0KGgoAAAANSUhEUgAAAA4AAAAOBAMAAADtZjDiAAAAJFBMVEX///+6urpUVFQQEBAiIiIy\n",
       "MjJmZmaIiIiqqqrc3Nzu7u4AAACgHpL+AAAAAXRSTlMAQObYZgAAAB5JREFUCNdjYGBgWMkAAe2k\n",
       "0Kmhoc6hoUGk6BMHYgAHOwjcado9fwAAAABJRU5ErkJggg==\n",
       "\" style=\"display:inline;vertical-align:middle;\" /></a></td></tr>\n",
       "<tr><td>6</td><td>ExprTuple</td><td>7, 8, 9</td><td><a class=\"ProveItLink\" href=\"../30dde2c6cfed41ae1c073cf0503017645a13a3530/expr.ipynb\"><img src=\"data:image/png;base64,iVBORw0KGgoAAAANSUhEUgAAAEsAAAAVBAMAAAD85A5eAAAAMFBMVEX////c3NwiIiJERESqqqqY\n",
       "mJh2dnZmZmYQEBDu7u4yMjJUVFTMzMyIiIi6uroAAAAs73DqAAAAAXRSTlMAQObYZgAAATdJREFU\n",
       "KM9jYCAS8F0gpCIORJxmYJjdBBNh03+ApsaSgYH9AJBeCcTL4aLxaKom/wQSCxgYeEF2foELV6Gq\n",
       "mr0bpCyMgYFjAtB5P+HivWim8YKkZjAwvAK5aAFMlPEPNmXMDgxlQIorgbUe4nTWD9iUsRUwLAVS\n",
       "819mvncAi3IbYFPGsoChD0j5n4WJclzApoyvgeEfkKrXg4mePwChpZRAQA+qjOcDWJnubE2oshsM\n",
       "2EwDKmthYOD8w/CFESJqzYnDUlOQ9zj/sTEwAAOQ4SsbAyemMtYFDOlg733kZeD8BBT4M5dhvgK2\n",
       "AHkEDLYAhuuZDJz9AgwgesZHJFXsFb9KgQoeMHAIwFMUlPUQIyUBI4s1AcZhhdIBGMpyoQkJvzJO\n",
       "UJRLw3jQCODFMIwb5BpGgon8DgMDAEdjT06d7oHmAAAAAElFTkSuQmCC\n",
       "\" style=\"display:inline;vertical-align:middle;\" /></a></td></tr>\n",
       "<tr><td>7</td><td>Variable</td><td></td><td><a class=\"ProveItLink\" href=\"../../../__pv_it/1a7356cf6caf039e07a5436d90e972cbb5e92b0a0/expr.ipynb\"><img src=\"data:image/png;base64,iVBORw0KGgoAAAANSUhEUgAAAAoAAAAOBAMAAADkjZCYAAAAMFBMVEX///9ERETc3NyIiIjMzMyY\n",
       "mJh2dna6urqqqqpmZmYyMjIiIiIQEBBUVFTu7u4AAAD6+w4kAAAAAXRSTlMAQObYZgAAAFBJREFU\n",
       "CNdj4LuzgQEIuCaASP4GEFn/AERmgQiGZQyR3xn4vj97/oOB44sBUIDzdwGQ5La7DVT03oG/QYEh\n",
       "nuF9QQLDRQZ+BQOGpQzM0x4AAD+VFjuIiDKbAAAAAElFTkSuQmCC\n",
       "\" style=\"display:inline;vertical-align:middle;\" /></a></td></tr>\n",
       "<tr><td>8</td><td>Variable</td><td></td><td><a class=\"ProveItLink\" href=\"../../../__pv_it/3e5d49a51123592869b160296a6e123a424e07a70/expr.ipynb\"><img src=\"data:image/png;base64,iVBORw0KGgoAAAANSUhEUgAAAAYAAAAOBAMAAAD+sXAWAAAALVBMVEX////u7u5ERERUVFTMzMzc\n",
       "3NyIiIgQEBAyMjJmZmaYmJi6uroiIiJ2dnYAAACuOh6BAAAAAXRSTlMAQObYZgAAAD9JREFUCNdj\n",
       "YLjzmoGB6wEDA2cDAwN7AgNDnAMDwzoGBgYjIC5jYGB5wsDAVsDAwGQgwMC34AIDn2MCA9tcAQAo\n",
       "GAoWIEgceAAAAABJRU5ErkJggg==\n",
       "\" style=\"display:inline;vertical-align:middle;\" /></a></td></tr>\n",
       "<tr><td>9</td><td>Operation</td><td>operator:&nbsp;10<br>operand:&nbsp;11<br></td><td><a class=\"ProveItLink\" href=\"../27bb768acc4707a63c4de5a0b22e13dfe76b5c980/expr.ipynb\"><img src=\"data:image/png;base64,iVBORw0KGgoAAAANSUhEUgAAABgAAAAPBAMAAAAMihLoAAAAJ1BMVEX///+YmJgQEBBmZmaIiIhU\n",
       "VFTu7u5ERES6uroiIiIyMjLc3NwAAAAKCT4sAAAAAXRSTlMAQObYZgAAACpJREFUCNdjYICDMgST\n",
       "If0Ygp0aisRhYCGTs2smCMwg3wAYYDY6ZciADABBShCHMIgXsAAAAABJRU5ErkJggg==\n",
       "\" style=\"display:inline;vertical-align:middle;\" /></a></td></tr>\n",
       "<tr><td>10</td><td>Literal</td><td></td><td><a class=\"ProveItLink\" href=\"../../../number/negation/__pv_it/3fc7a08bb9735faa20ef8e175f6ea95511acc9c70/expr.ipynb\"><img src=\"data:image/png;base64,iVBORw0KGgoAAAANSUhEUgAAAA4AAAACBAMAAACapPCZAAAAElBMVEX///+6uroiIiIyMjLc3NwA\n",
       "AAA6l9OrAAAAAXRSTlMAQObYZgAAABBJREFUCNdjcFYCAUUGKAAADR4BD8/TF5gAAAAASUVORK5C\n",
       "YII=\n",
       "\" style=\"display:inline;vertical-align:middle;\" /></a></td></tr>\n",
       "<tr><td>11</td><td>Literal</td><td></td><td><a class=\"ProveItLink\" href=\"../../../number/numeral/__pv_it/9be8badea4c35b9724062cecc501d17a3158d1d20/expr.ipynb\"><img src=\"data:image/png;base64,iVBORw0KGgoAAAANSUhEUgAAAAgAAAAPBAMAAAArJJMAAAAAHlBMVEX///+YmJgyMjIQEBBmZmaI\n",
       "iIhUVFTu7u5EREQAAAAw+MI4AAAAAXRSTlMAQObYZgAAACFJREFUCNdjYGBoZ2BgqJjOwFCWBiQY\n",
       "WEklWJwnOTKAAACjEQo8HvEr3AAAAABJRU5ErkJggg==\n",
       "\" style=\"display:inline;vertical-align:middle;\" /></a></td></tr>\n",
       "</table>\n"
      ],
      "text/plain": [
       "0. (k + l - 1) = _x_\n",
       "   core type: Operation\n",
       "   operator: 1\n",
       "   operands: 2\n",
       "1. =\n",
       "   core type: Literal\n",
       "   sub-expressions: \n",
       "2. (k + l - 1 , _x_)\n",
       "   core type: ExprTuple\n",
       "   sub-expressions: 3, 4\n",
       "3. k + l - 1\n",
       "   core type: Operation\n",
       "   operator: 5\n",
       "   operands: 6\n",
       "4. _x_\n",
       "   core type: Variable\n",
       "   sub-expressions: \n",
       "5. +\n",
       "   core type: Literal\n",
       "   sub-expressions: \n",
       "6. (k , l , -1)\n",
       "   core type: ExprTuple\n",
       "   sub-expressions: 7, 8, 9\n",
       "7. k\n",
       "   core type: Variable\n",
       "   sub-expressions: \n",
       "8. l\n",
       "   core type: Variable\n",
       "   sub-expressions: \n",
       "9. -1\n",
       "   core type: Operation\n",
       "   operator: 10\n",
       "   operand: 11\n",
       "10. -\n",
       "    core type: Literal\n",
       "    sub-expressions: \n",
       "11. 1\n",
       "    core type: Literal\n",
       "    sub-expressions: "
      ]
     },
     "execution_count": 4,
     "metadata": {},
     "output_type": "execute_result"
    }
   ],
   "source": [
    "# display the expression information\n",
    "expr.exprInfo()"
   ]
  },
  {
   "cell_type": "code",
   "execution_count": null,
   "metadata": {},
   "outputs": [],
   "source": []
  }
 ],
 "metadata": {
  "kernelspec": {
   "display_name": "Python 3",
   "language": "python",
   "name": "python3"
  }
 },
 "nbformat": 4,
 "nbformat_minor": 0
}
