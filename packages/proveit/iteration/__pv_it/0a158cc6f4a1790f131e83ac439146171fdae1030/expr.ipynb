{
 "cells": [
  {
   "cell_type": "markdown",
   "metadata": {},
   "source": [
    "Expression of type <a class=\"ProveItLink\" href=\"../../../../../doc/html/api/proveit.ExprTuple.html\">ExprTuple</a>\n",
    "=======================\n",
    "# from context <a class=\"ProveItLink\" href=\"../../_context_.ipynb\">proveit.iteration</a>"
   ]
  },
  {
   "cell_type": "code",
   "execution_count": 1,
   "metadata": {},
   "outputs": [],
   "source": [
    "# import Expression classes needed to build the expression\n",
    "from proveit import ExprTuple\n",
    "from proveit._common_ import j, k\n",
    "from proveit.number import Add, Neg, one"
   ]
  },
  {
   "cell_type": "code",
   "execution_count": 2,
   "metadata": {},
   "outputs": [
    {
     "data": {
      "text/html": [
       "<strong id=\"expr\">expr:</strong> <a class=\"ProveItLink\" href=\"expr.ipynb\"><img src=\"data:image/png;base64,iVBORw0KGgoAAAANSUhEUgAAALoAAAAVBAMAAAADaun5AAAAMFBMVEX////c3NwiIiJERESqqqqY\n",
       "mJh2dnZmZmYQEBDu7u4yMjJUVFTMzMyIiIi6uroAAAAs73DqAAAAAXRSTlMAQObYZgAAAbxJREFU\n",
       "OMtjYKAt4LtAI4NZHwCJ0wwMs5sw5SwxROIFcCjh3KHAgE11DZBaCcTLMSQn/8QQisaphKuAAZtq\n",
       "LgYGXlDAfIGJcULdN3v3T0IeR1LC74A9aBIYOCYAgx6ujgUWCbwETUdS8n4CVgWcDQyvgBTbAspM\n",
       "z8KhwoShDBRuCaz1DwiYznnXEqfpyxjC/2FTnc6wFEjOf5n53oGA6WwMqrhM5/w3bd4XbKq9GPqA\n",
       "pP9ZwiFzk+ErLtNZ/mBkGYjqFwwgL9Xr4TCdcZESCIBCTYDvI0hECiygh2I6+ydIsCLJQVSfB5uu\n",
       "O1sTrGrVqkVdq1ZtwB6rbAq43M50c9MErKrPM7QAw+0PwxdGgmkGI8vAlcw/wO8ggE31CwZTYKr/\n",
       "wPmPjaDp8x2wmM4JzvQM8x8kYFMdBUw1DNwGDB95CZruPwGL6fNBAbCZgV/gAjbV6QyPgL4IYLie\n",
       "iWo6e8WvUjT1RWh8sJIZoMhbysBbNgGb6nUMHCghxoK7OFbHKvoQj2pgScCaQFRh/5DxD1bxADyq\n",
       "2S5ASmCCgOc7cwHxpkNVzwJiaWJM5zQrxV6S4VO9EZQfaVXz8R5gAAAkoY+ci3idLgAAAABJRU5E\n",
       "rkJggg==\n",
       "\" style=\"display:inline;vertical-align:middle;\" /></a><br>"
      ],
      "text/plain": [
       "expr: (k + 1 - j - 1 , k - j)"
      ]
     },
     "execution_count": 2,
     "metadata": {},
     "output_type": "execute_result"
    }
   ],
   "source": [
    "# build up the expression from sub-expressions\n",
    "subExpr1 = Neg(j)\n",
    "expr = ExprTuple(Add(k, one, subExpr1, Neg(one)), Add(k, subExpr1).withSubtractionAt(1,1))"
   ]
  },
  {
   "cell_type": "code",
   "execution_count": 3,
   "metadata": {},
   "outputs": [
    {
     "name": "stdout",
     "output_type": "stream",
     "text": [
      "Passed sanity check: built 'expr' is the same as the stored Expression.\n"
     ]
    }
   ],
   "source": [
    "# check that the built expression is the same as the stored expression\n",
    "%check_expr"
   ]
  },
  {
   "cell_type": "code",
   "execution_count": 4,
   "metadata": {},
   "outputs": [
    {
     "data": {
      "text/html": [
       "<table><tr><th>&nbsp;</th><th>core type</th><th>sub-expressions</th><th>expression</th></tr>\n",
       "<tr><td>0</td><td>ExprTuple</td><td>1, 2</td><td><a class=\"ProveItLink\" href=\"expr.ipynb\"><img src=\"data:image/png;base64,iVBORw0KGgoAAAANSUhEUgAAALoAAAAVBAMAAAADaun5AAAAMFBMVEX////c3NwiIiJERESqqqqY\n",
       "mJh2dnZmZmYQEBDu7u4yMjJUVFTMzMyIiIi6uroAAAAs73DqAAAAAXRSTlMAQObYZgAAAbxJREFU\n",
       "OMtjYKAt4LtAI4NZHwCJ0wwMs5sw5SwxROIFcCjh3KHAgE11DZBaCcTLMSQn/8QQisaphKuAAZtq\n",
       "LgYGXlDAfIGJcULdN3v3T0IeR1LC74A9aBIYOCYAgx6ujgUWCbwETUdS8n4CVgWcDQyvgBTbAspM\n",
       "z8KhwoShDBRuCaz1DwiYznnXEqfpyxjC/2FTnc6wFEjOf5n53oGA6WwMqrhM5/w3bd4XbKq9GPqA\n",
       "pP9ZwiFzk+ErLtNZ/mBkGYjqFwwgL9Xr4TCdcZESCIBCTYDvI0hECiygh2I6+ydIsCLJQVSfB5uu\n",
       "O1sTrGrVqkVdq1ZtwB6rbAq43M50c9MErKrPM7QAw+0PwxdGgmkGI8vAlcw/wO8ggE31CwZTYKr/\n",
       "wPmPjaDp8x2wmM4JzvQM8x8kYFMdBUw1DNwGDB95CZruPwGL6fNBAbCZgV/gAjbV6QyPgL4IYLie\n",
       "iWo6e8WvUjT1RWh8sJIZoMhbysBbNgGb6nUMHCghxoK7OFbHKvoQj2pgScCaQFRh/5DxD1bxADyq\n",
       "2S5ASmCCgOc7cwHxpkNVzwJiaWJM5zQrxV6S4VO9EZQfaVXz8R5gAAAkoY+ci3idLgAAAABJRU5E\n",
       "rkJggg==\n",
       "\" style=\"display:inline;vertical-align:middle;\" /></a></td></tr>\n",
       "<tr><td>1</td><td>Operation</td><td>operator:&nbsp;4<br>operands:&nbsp;3<br></td><td><a class=\"ProveItLink\" href=\"../0ce27a802ff88f0bafe9bd140ab8a745f04310b50/expr.ipynb\"><img src=\"data:image/png;base64,iVBORw0KGgoAAAANSUhEUgAAAHMAAAASBAMAAACaxfwqAAAAMFBMVEX///9ERETc3NyIiIjMzMyY\n",
       "mJh2dna6urqqqqpmZmYyMjIiIiIQEBBUVFTu7u4AAAD6+w4kAAAAAXRSTlMAQObYZgAAAOFJREFU\n",
       "OMtj4LuzgQEdMD5AF2H9hE0J1wR0dXzymFovYFPC3wDjP4IK372PoRXdcIiSeri6ZhjDnpBWqJIs\n",
       "BrK1LmOI/E5I62PDB1i08n1/9vwHIa0J3AFYtHJ8MSDoYOYH/Ni0cv4uwK6VafVuEADJMjHUK6CK\n",
       "gJVw290G2zFr1ao9q1atxRFM2diC6b0Df4MCwRBeiU1rPMP7ggRCWvl+YNN6kYFfwYCQVo5/2LQu\n",
       "ZWCe9gBV68zzK9EClBM9i6AracaZdrgnEEhcxTjE2RX0HRjIA/4TJMnUyfAwMwCbMAAiEF28bLw6\n",
       "zAAAAABJRU5ErkJggg==\n",
       "\" style=\"display:inline;vertical-align:middle;\" /></a></td></tr>\n",
       "<tr><td>2</td><td>Operation</td><td>operator:&nbsp;4<br>operands:&nbsp;5<br></td><td><a class=\"ProveItLink\" href=\"../ba1c7b4a336a648059a24bf9acac6fad591cb9a00/expr.ipynb\"><img src=\"data:image/png;base64,iVBORw0KGgoAAAANSUhEUgAAAC0AAAASBAMAAAA9GErRAAAAMFBMVEX///9ERETc3NyIiIjMzMyY\n",
       "mJh2dna6urqqqqpmZmYyMjIiIiIQEBBUVFTu7u4AAAD6+w4kAAAAAXRSTlMAQObYZgAAAJxJREFU\n",
       "GNNj4LuzgQEDxCswMHBNwBSPBWL+BgasoP4BdvEs7MIMyxgiv6OK8BnLAYnvz57/QBVnY9jKwMDx\n",
       "xQDdBDuGrwwMnL8LwByt3SCwHcRUYP/EwMBtdxvDQWxAr7534G9QQBMHeTWe4X1BApr4e6BXLzLw\n",
       "K6Db3A80eSkD8zR0C2bj8OpOrKJFTF+wCbP8ZJyATZxPbCqQBAAVuig2oSE0OQAAAABJRU5ErkJg\n",
       "gg==\n",
       "\" style=\"display:inline;vertical-align:middle;\" /></a></td></tr>\n",
       "<tr><td>3</td><td>ExprTuple</td><td>7, 9, 8, 6</td><td><a class=\"ProveItLink\" href=\"../b42d8e66f7d1e56f244c834ecc0f9bca7630d4350/expr.ipynb\"><img src=\"data:image/png;base64,iVBORw0KGgoAAAANSUhEUgAAAHEAAAAVBAMAAACDNRyvAAAAMFBMVEX////c3NwiIiJERESqqqqY\n",
       "mJh2dnZmZmYQEBDu7u4yMjJUVFTMzMyIiIi6uroAAAAs73DqAAAAAXRSTlMAQObYZgAAAWdJREFU\n",
       "OMtjYCAf8F0gQ1MciDjNwDC7CSFmiaGK9SOaAFAJ+wEgvRKIl8NFJ//E1LkBlQ9WsoCBgRfk2C8w\n",
       "0dm7fxJyKERJGAMDxwSgVxHKeQnqhCiZwcDwCkixLSBZJ7MDQxmQ4kpgrX+AS+fcyxOw6GQrYFgK\n",
       "pOa/zHzvgEtnAlMAFp0sCxj6gJT/Wdyu5Z3Aj00nXwPDPyBVr4epU0oJBPQYGBneC6AIQJTwfADr\n",
       "1J2tiSeEkrCFEFBnCwMD5x+GL4y4dS5nwO5aU2Ai+cD5j42BYQJMmBNFIecXNAGwTtYFDOkMDNwG\n",
       "DB95GTg/wYTnKyArZPmJJgCLlUfA6AxguJ7JwNkPDAn2il+lDDNQkji7AqoAWAkD1wMGDgF4doOz\n",
       "HiLrZCpAEwADYOpjTYDnCbgwUgTyCcgfQBGAglxoLsOt83yBOQMWnZyglC4N48HLBl7kzJgegCoA\n",
       "AdwgnzGSU5rcYWAAALqCZhAQeLMuAAAAAElFTkSuQmCC\n",
       "\" style=\"display:inline;vertical-align:middle;\" /></a></td></tr>\n",
       "<tr><td>4</td><td>Literal</td><td></td><td><a class=\"ProveItLink\" href=\"../../../number/addition/__pv_it/3e6688136fa3c7aefbebe51301b7c3ebf0b69c440/expr.ipynb\"><img src=\"data:image/png;base64,iVBORw0KGgoAAAANSUhEUgAAAA4AAAAOBAMAAADtZjDiAAAAJFBMVEX///+6urpUVFQQEBAiIiIy\n",
       "MjJmZmaIiIiqqqrc3Nzu7u4AAACgHpL+AAAAAXRSTlMAQObYZgAAAB5JREFUCNdjYGBgWMkAAe2k\n",
       "0Kmhoc6hoUGk6BMHYgAHOwjcado9fwAAAABJRU5ErkJggg==\n",
       "\" style=\"display:inline;vertical-align:middle;\" /></a></td></tr>\n",
       "<tr><td>5</td><td>ExprTuple</td><td>7, 8</td><td><a class=\"ProveItLink\" href=\"../60ed005f99158635be2ba99b914c0a5779d9c0920/expr.ipynb\"><img src=\"data:image/png;base64,iVBORw0KGgoAAAANSUhEUgAAADsAAAAVBAMAAAAKrYvGAAAAMFBMVEX////c3NwiIiJERESqqqqY\n",
       "mJh2dnZmZmYQEBDu7u4yMjJUVFTMzMyIiIi6uroAAAAs73DqAAAAAXRSTlMAQObYZgAAAR5JREFU\n",
       "KM9jYCAA+C7gkokDEacZGGY3YcqxfmRgPwCkVwLxcizSGxgYFjAw8ILM/oLd9DAGBo4JQOt/Ypee\n",
       "wcDwCkixLcAuzezAUAakuBJY6x+gysy9DDSVrYBhKZA9/2XmewdU6QSmAAYGlgUMfUC2/1l0Y3kn\n",
       "8AOl+RoY/gE59XowYSklENBjYGR4L8DAwPMBLK07WxPDWUkMYOkWBgbOPwxfGNGlQSEFNNwUGEAf\n",
       "OP+xMTBMQJblBIUU6wKGdAYGbgOGj7wMnJ+QpVlAIQX02COgtwMYrmcycPYLIEmzK4DC4wEDB1yQ\n",
       "D1maqQASqKwJ8DhCSgMC8qDIzIVGKLr0+QJzkPNAUSENE0NKNZPTgWHGwA2yjRFnYrrDwAAA0/o8\n",
       "5KXfy5UAAAAASUVORK5CYII=\n",
       "\" style=\"display:inline;vertical-align:middle;\" /></a></td></tr>\n",
       "<tr><td>6</td><td>Operation</td><td>operator:&nbsp;10<br>operand:&nbsp;9<br></td><td><a class=\"ProveItLink\" href=\"../27bb768acc4707a63c4de5a0b22e13dfe76b5c980/expr.ipynb\"><img src=\"data:image/png;base64,iVBORw0KGgoAAAANSUhEUgAAABgAAAAPBAMAAAAMihLoAAAAJ1BMVEX///+YmJgQEBBmZmaIiIhU\n",
       "VFTu7u5ERES6uroiIiIyMjLc3NwAAAAKCT4sAAAAAXRSTlMAQObYZgAAACpJREFUCNdjYICDMgST\n",
       "If0Ygp0aisRhYCGTs2smCMwg3wAYYDY6ZciADABBShCHMIgXsAAAAABJRU5ErkJggg==\n",
       "\" style=\"display:inline;vertical-align:middle;\" /></a></td></tr>\n",
       "<tr><td>7</td><td>Variable</td><td></td><td><a class=\"ProveItLink\" href=\"../../../__pv_it/1a7356cf6caf039e07a5436d90e972cbb5e92b0a0/expr.ipynb\"><img src=\"data:image/png;base64,iVBORw0KGgoAAAANSUhEUgAAAAoAAAAOBAMAAADkjZCYAAAAMFBMVEX///9ERETc3NyIiIjMzMyY\n",
       "mJh2dna6urqqqqpmZmYyMjIiIiIQEBBUVFTu7u4AAAD6+w4kAAAAAXRSTlMAQObYZgAAAFBJREFU\n",
       "CNdj4LuzgQEIuCaASP4GEFn/AERmgQiGZQyR3xn4vj97/oOB44sBUIDzdwGQ5La7DVT03oG/QYEh\n",
       "nuF9QQLDRQZ+BQOGpQzM0x4AAD+VFjuIiDKbAAAAAElFTkSuQmCC\n",
       "\" style=\"display:inline;vertical-align:middle;\" /></a></td></tr>\n",
       "<tr><td>8</td><td>Operation</td><td>operator:&nbsp;10<br>operand:&nbsp;11<br></td><td><a class=\"ProveItLink\" href=\"../54bd455a3b87b328f63e73be03988fb44f1688450/expr.ipynb\"><img src=\"data:image/png;base64,iVBORw0KGgoAAAANSUhEUgAAABgAAAASBAMAAACzwgOtAAAALVBMVEX////MzMyqqqpmZmZ2dnZE\n",
       "RESIiIju7u5UVFSYmJi6uroiIiIyMjLc3NwAAABXLbUEAAAAAXRSTlMAQObYZgAAAFRJREFUCNdj\n",
       "YIADzrcMSJwGBlJBWWoBguPAPQHOZivgm8BwZzcI7GLgZVh3AUmTN7IJh5HY7I+QOEzPkTjMG5A4\n",
       "3AZwJteFewJwjpxBMEJRqTPQMQDHJRMBzCil9wAAAABJRU5ErkJggg==\n",
       "\" style=\"display:inline;vertical-align:middle;\" /></a></td></tr>\n",
       "<tr><td>9</td><td>Literal</td><td></td><td><a class=\"ProveItLink\" href=\"../../../number/numeral/__pv_it/9be8badea4c35b9724062cecc501d17a3158d1d20/expr.ipynb\"><img src=\"data:image/png;base64,iVBORw0KGgoAAAANSUhEUgAAAAgAAAAPBAMAAAArJJMAAAAAHlBMVEX///+YmJgyMjIQEBBmZmaI\n",
       "iIhUVFTu7u5EREQAAAAw+MI4AAAAAXRSTlMAQObYZgAAACFJREFUCNdjYGBoZ2BgqJjOwFCWBiQY\n",
       "WEklWJwnOTKAAACjEQo8HvEr3AAAAABJRU5ErkJggg==\n",
       "\" style=\"display:inline;vertical-align:middle;\" /></a></td></tr>\n",
       "<tr><td>10</td><td>Literal</td><td></td><td><a class=\"ProveItLink\" href=\"../../../number/negation/__pv_it/3fc7a08bb9735faa20ef8e175f6ea95511acc9c70/expr.ipynb\"><img src=\"data:image/png;base64,iVBORw0KGgoAAAANSUhEUgAAAA4AAAACBAMAAACapPCZAAAAElBMVEX///+6uroiIiIyMjLc3NwA\n",
       "AAA6l9OrAAAAAXRSTlMAQObYZgAAABBJREFUCNdjcFYCAUUGKAAADR4BD8/TF5gAAAAASUVORK5C\n",
       "YII=\n",
       "\" style=\"display:inline;vertical-align:middle;\" /></a></td></tr>\n",
       "<tr><td>11</td><td>Variable</td><td></td><td><a class=\"ProveItLink\" href=\"../../../__pv_it/612356038763a16ceac85a062629d016c986635c0/expr.ipynb\"><img src=\"data:image/png;base64,iVBORw0KGgoAAAANSUhEUgAAAAoAAAASBAMAAACQmVJ4AAAALVBMVEX////MzMyqqqpmZmYyMjK6\n",
       "uroiIiJ2dnZERESIiIju7u5UVFTc3NyYmJgAAAAeP2GyAAAAAXRSTlMAQObYZgAAAE1JREFUCNdj\n",
       "YGBg4H3DACI3MGADK2csAJIFbBcYGDgX8AFJHoa4AyCJMrC0M4jgegQimV6BSOYEEMlmwMDAeuCc\n",
       "AAODnEEzkL+iGKgTAMbaDxjCuhcwAAAAAElFTkSuQmCC\n",
       "\" style=\"display:inline;vertical-align:middle;\" /></a></td></tr>\n",
       "</table>\n"
      ],
      "text/plain": [
       "0. (k + 1 - j - 1 , k - j)\n",
       "   core type: ExprTuple\n",
       "   sub-expressions: 1, 2\n",
       "1. k + 1 - j - 1\n",
       "   core type: Operation\n",
       "   operator: 4\n",
       "   operands: 3\n",
       "2. k - j\n",
       "   core type: Operation\n",
       "   operator: 4\n",
       "   operands: 5\n",
       "3. (k , 1 , -j , -1)\n",
       "   core type: ExprTuple\n",
       "   sub-expressions: 7, 9, 8, 6\n",
       "4. +\n",
       "   core type: Literal\n",
       "   sub-expressions: \n",
       "5. (k , -j)\n",
       "   core type: ExprTuple\n",
       "   sub-expressions: 7, 8\n",
       "6. -1\n",
       "   core type: Operation\n",
       "   operator: 10\n",
       "   operand: 9\n",
       "7. k\n",
       "   core type: Variable\n",
       "   sub-expressions: \n",
       "8. -j\n",
       "   core type: Operation\n",
       "   operator: 10\n",
       "   operand: 11\n",
       "9. 1\n",
       "   core type: Literal\n",
       "   sub-expressions: \n",
       "10. -\n",
       "    core type: Literal\n",
       "    sub-expressions: \n",
       "11. j\n",
       "    core type: Variable\n",
       "    sub-expressions: "
      ]
     },
     "execution_count": 4,
     "metadata": {},
     "output_type": "execute_result"
    }
   ],
   "source": [
    "# display the expression information\n",
    "expr.exprInfo()"
   ]
  },
  {
   "cell_type": "code",
   "execution_count": null,
   "metadata": {},
   "outputs": [],
   "source": []
  }
 ],
 "metadata": {
  "kernelspec": {
   "display_name": "Python 3",
   "language": "python",
   "name": "python3"
  }
 },
 "nbformat": 4,
 "nbformat_minor": 0
}
