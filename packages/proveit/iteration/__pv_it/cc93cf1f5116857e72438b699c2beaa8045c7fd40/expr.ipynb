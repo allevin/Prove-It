{
 "cells": [
  {
   "cell_type": "markdown",
   "metadata": {},
   "source": [
    "Expression of type <a class=\"ProveItLink\" href=\"../../../../../doc/html/api/proveit.logic.Equals.html\">Equals</a>\n",
    "=======================\n",
    "# from context <a class=\"ProveItLink\" href=\"../../_context_.ipynb\">proveit.iteration</a>"
   ]
  },
  {
   "cell_type": "code",
   "execution_count": 1,
   "metadata": {},
   "outputs": [],
   "source": [
    "# import Expression classes needed to build the expression\n",
    "from proveit._common_ import m\n",
    "from proveit.logic import Equals\n",
    "from proveit.number import Add, five, four, one"
   ]
  },
  {
   "cell_type": "code",
   "execution_count": 2,
   "metadata": {},
   "outputs": [
    {
     "data": {
      "text/html": [
       "<strong id=\"expr\">expr:</strong> <a class=\"ProveItLink\" href=\"expr.ipynb\"><img src=\"data:image/png;base64,iVBORw0KGgoAAAANSUhEUgAAANcAAAAVBAMAAAAnc2Y5AAAAMFBMVEX////c3NwiIiJERESqqqqY\n",
       "mJh2dnZmZmYQEBDu7u4yMjJUVFTMzMyIiIi6uroAAAAs73DqAAAAAXRSTlMAQObYZgAAAl5JREFU\n",
       "SMe9lT1oFEEUx995e7f3ua5FsBBBtNDyCFrYpY6EpApoIVsIKfxE8IMo5GIkoIVsEIIocodi4YoS\n",
       "GxGOwPYWLljqwZJKBCV2apHzzczuXfbNm01sfPDudv57///vdm5uBuC/lhOpNlYp5tSzjPY9jyMN\n",
       "H5I2FN66rYknAexQUxtrhoza6cI5ZXiZtKGO4Gep9vA3vnT1TN+QURkMPGloRqqztZJeNJdwHr2s\n",
       "+qQnYLNaZp8KVTf5FrcuKEPFV52tqfRi7Dl62kRtCtgjDXaPClbyEHX5ioZvoNoA8xAGxzlYcYKu\n",
       "tG4+DA3X8Q3b+bSv/87p09iSK2BzHKx8hUTbHo0ZwvqfY2l4gQPscv01dC7BNIl9CgI2ycEs+SB2\n",
       "IEusw9oMjUlhRb+6JQ0PcID9Y08LOpEG8yTsKwdz2nTNxTTGGi2899KASNF+J4ZpH+azsVYoYR85\n",
       "WGOTwPbGNGYb7HIoDAlMfOQqwLK4MR8Ex4LgFV6twgg2UnNg22Jwgp/dVxM8jrBYGO7iQDR+maPg\n",
       "/KxmnuFUr/drPXca7cOyWmIaJ2hM+mR3ABZcYTiBA9HLgD9ivTtGlj7gnxrOcLASXenFGRqTwnDd\n",
       "BtIwp5Z2YQtKm1CLPA62u6UvhGxMCtsP1qK8v4GDDTkp5RZY6yGBnR9cA3iThdk3/6BYo4eBc4jG\n",
       "pLDGjZ4rDRV8q7jGHURucW1O1berRdMOMjSIXXa40/InUzni1IsabJY7KrOGHY4YrMecWP2HI2Zk\n",
       "OJC0ud5yYl2beiis5aVIQyFSbaxmyKlfGO1gHgwNfwFsbcsbJKRCpwAAAABJRU5ErkJggg==\n",
       "\" style=\"display:inline;vertical-align:middle;\" /></a><br>"
      ],
      "text/plain": [
       "expr: ((m + 4) + 1) = (m + 5)"
      ]
     },
     "execution_count": 2,
     "metadata": {},
     "output_type": "execute_result"
    }
   ],
   "source": [
    "# build up the expression from sub-expressions\n",
    "expr = Equals(Add(Add(m, four), one), Add(m, five))"
   ]
  },
  {
   "cell_type": "code",
   "execution_count": 3,
   "metadata": {},
   "outputs": [
    {
     "name": "stdout",
     "output_type": "stream",
     "text": [
      "Passed sanity check: built 'expr' is the same as the stored Expression.\n"
     ]
    }
   ],
   "source": [
    "# check that the built expression is the same as the stored expression\n",
    "%check_expr"
   ]
  },
  {
   "cell_type": "code",
   "execution_count": 4,
   "metadata": {},
   "outputs": [
    {
     "data": {
      "text/html": [
       "<table><tr><th>&nbsp;</th><th>core type</th><th>sub-expressions</th><th>expression</th></tr>\n",
       "<tr><td>0</td><td>Operation</td><td>operator:&nbsp;1<br>operands:&nbsp;2<br></td><td><a class=\"ProveItLink\" href=\"expr.ipynb\"><img src=\"data:image/png;base64,iVBORw0KGgoAAAANSUhEUgAAANcAAAAVBAMAAAAnc2Y5AAAAMFBMVEX////c3NwiIiJERESqqqqY\n",
       "mJh2dnZmZmYQEBDu7u4yMjJUVFTMzMyIiIi6uroAAAAs73DqAAAAAXRSTlMAQObYZgAAAl5JREFU\n",
       "SMe9lT1oFEEUx995e7f3ua5FsBBBtNDyCFrYpY6EpApoIVsIKfxE8IMo5GIkoIVsEIIocodi4YoS\n",
       "GxGOwPYWLljqwZJKBCV2apHzzczuXfbNm01sfPDudv57///vdm5uBuC/lhOpNlYp5tSzjPY9jyMN\n",
       "H5I2FN66rYknAexQUxtrhoza6cI5ZXiZtKGO4Gep9vA3vnT1TN+QURkMPGloRqqztZJeNJdwHr2s\n",
       "+qQnYLNaZp8KVTf5FrcuKEPFV52tqfRi7Dl62kRtCtgjDXaPClbyEHX5ioZvoNoA8xAGxzlYcYKu\n",
       "tG4+DA3X8Q3b+bSv/87p09iSK2BzHKx8hUTbHo0ZwvqfY2l4gQPscv01dC7BNIl9CgI2ycEs+SB2\n",
       "IEusw9oMjUlhRb+6JQ0PcID9Y08LOpEG8yTsKwdz2nTNxTTGGi2899KASNF+J4ZpH+azsVYoYR85\n",
       "WGOTwPbGNGYb7HIoDAlMfOQqwLK4MR8Ex4LgFV6twgg2UnNg22Jwgp/dVxM8jrBYGO7iQDR+maPg\n",
       "/KxmnuFUr/drPXca7cOyWmIaJ2hM+mR3ABZcYTiBA9HLgD9ivTtGlj7gnxrOcLASXenFGRqTwnDd\n",
       "BtIwp5Z2YQtKm1CLPA62u6UvhGxMCtsP1qK8v4GDDTkp5RZY6yGBnR9cA3iThdk3/6BYo4eBc4jG\n",
       "pLDGjZ4rDRV8q7jGHURucW1O1berRdMOMjSIXXa40/InUzni1IsabJY7KrOGHY4YrMecWP2HI2Zk\n",
       "OJC0ud5yYl2beiis5aVIQyFSbaxmyKlfGO1gHgwNfwFsbcsbJKRCpwAAAABJRU5ErkJggg==\n",
       "\" style=\"display:inline;vertical-align:middle;\" /></a></td></tr>\n",
       "<tr><td>1</td><td>Literal</td><td></td><td><a class=\"ProveItLink\" href=\"../../../logic/equality/__pv_it/2fb26078095930560931daa0500ce419a39ea6cd0/expr.ipynb\"><img src=\"data:image/png;base64,iVBORw0KGgoAAAANSUhEUgAAAA4AAAAFBAMAAACHocAhAAAAFVBMVEX///9EREQiIiJUVFQyMjJm\n",
       "ZmYAAADubVkoAAAAAXRSTlMAQObYZgAAABRJREFUCNdjCHEBAWcGXCBICQQUAUpuAwlgGKrkAAAA\n",
       "AElFTkSuQmCC\n",
       "\" style=\"display:inline;vertical-align:middle;\" /></a></td></tr>\n",
       "<tr><td>2</td><td>ExprTuple</td><td>3, 4</td><td><a class=\"ProveItLink\" href=\"../8d8fa36d9bc2156ef4ee52a8ef809ea6642d9ccf0/expr.ipynb\"><img src=\"data:image/png;base64,iVBORw0KGgoAAAANSUhEUgAAALUAAAAVBAMAAADyYbJ0AAAAMFBMVEX////c3NwiIiJERESqqqqY\n",
       "mJh2dnZmZmYQEBDu7u4yMjJUVFTMzMyIiIi6uroAAAAs73DqAAAAAXRSTlMAQObYZgAAAkdJREFU\n",
       "OMu1lU+I00AUxr9u07TTbkM8LB5EFPagx1X07J4V2T0JetCAggf/FUEXVsH6hz14cONFRJAGRcTI\n",
       "il5Etizm7sHAHtdi2JMI1epB9ODWb5J0a9JMhYIPvsy8N+kvry9vMsD/NMOPpLRCMAr2uLy8i6Uw\n",
       "Ll0dCObtYdjy0dwpFD3OnsVS2CTvTcfEgaHsUrdrAQ5Q9SMl7W5vUr3JoljJqGi+zWQLM877ylle\n",
       "j/AhdqSkHe5NJh7zN/V09GMmW4tTrITX+8BnRFKwLbKxbxR2fhqXOVDG6pbWa6OVphRMyT6tYrf3\n",
       "bF+z2qvTKXZrja2l1/CEDqVXltA4j5kU5SEk+6CKbS374kegdZLsvC026Dm4Q4f6MjaFhj/AtkL2\n",
       "JwXbCCYhfiPNpr3hYh18gpTdCDBjYz5J0byQ/V7BFsxP+4WiM8C+4GG802NL8EVgQS7Mu+5u133O\n",
       "2T302f1ovyYSvBMl2aNF131023VfcrqX7ECyb9GRYsa7YHwTiQwPNZs/V9Q1kRmP1fDVtBN53wCu\n",
       "mbIm++lILYB/sOJMpCjg3sGxLLbkMWPWcjk3m2DXAJct5oT9ReU2UOig7FtZ7KweFN857ghwAljS\n",
       "k/XeCu162IPrdNbDt6pPQVvxUpQz3UvAixR7bvHprFg0w2KdZOU+JNnjc02ulQOUOJRM5b4M26Ge\n",
       "FTVM1b5Eb8/LD9Hmx2jT2n87up8VLWSeBH079+9vLO1B9pEx/GwQsum3xVLbq8yoP5xdkSXL+ZGU\n",
       "VvVGOdP4fv8A2pK4UAzOF+gAAAAASUVORK5CYII=\n",
       "\" style=\"display:inline;vertical-align:middle;\" /></a></td></tr>\n",
       "<tr><td>3</td><td>Operation</td><td>operator:&nbsp;10<br>operands:&nbsp;5<br></td><td><a class=\"ProveItLink\" href=\"../660ae19c8b07a02a8f1b5991d746f184ac5cca2b0/expr.ipynb\"><img src=\"data:image/png;base64,iVBORw0KGgoAAAANSUhEUgAAAGYAAAAVBAMAAABGR4Y+AAAAMFBMVEX////c3NwiIiJERESqqqqY\n",
       "mJh2dnZmZmYQEBDu7u4yMjJUVFTMzMyIiIi6uroAAAAs73DqAAAAAXRSTlMAQObYZgAAAVRJREFU\n",
       "OMtjYCAH8F3AIxmHXfg0Tg08GxjYD2CIWgLxSpx6mAwYGBagC07+ycDAi+G0iTDGDaCeMCibUwBC\n",
       "z94N1MMxAV2PL5RmjALqmQHlsMCM5gXqecWASw8bF1APswMWPWXAkLsseHcb310TND2BID1sBVj0\n",
       "LAWKc69lmJ/H4I+qh/MCSA/LAix6+hgY3gEDaP4FdD1sDCA9fA1Y9PxjYJgw/wGD/wSGKlQ9PmA9\n",
       "PB+w6wFpKGJgaAMJVa1apbFq1Wqg0xIQethXrVrUtWrVBpieFpBCBgZ1Br6PnMj2sOzevb/7Ana3\n",
       "mTKAbOD8x8C9QBQ13Bg4gPawYguDdGDk/WNg/cDAdSEBix6sYf0IHDZsBgwsew+gxen+7wEMXA9Q\n",
       "9bBX/Cpl4BDAlQ7AACPtgABrArqet8icXKy5bCW+DMm5AKuwND493AJYhRnx5e072AQBoUli88Nl\n",
       "8HcAAAAASUVORK5CYII=\n",
       "\" style=\"display:inline;vertical-align:middle;\" /></a></td></tr>\n",
       "<tr><td>4</td><td>Operation</td><td>operator:&nbsp;10<br>operands:&nbsp;6<br></td><td><a class=\"ProveItLink\" href=\"../3df01cdb37d0ec47a6df05b282ef25f2ea4763a10/expr.ipynb\"><img src=\"data:image/png;base64,iVBORw0KGgoAAAANSUhEUgAAADUAAAAQBAMAAABEqSrGAAAAMFBMVEX////MzMyYmJgQEBBmZmYi\n",
       "IiLu7u4yMjKqqqp2dnZUVFTc3NxERESIiIi6uroAAABe5jFNAAAAAXRSTlMAQObYZgAAAL1JREFU\n",
       "GNNjYMAK2NW4ZzDgAMz//0/AEMyG6vOaiKmhF0JxYTMMRY7vzu67K/nunkCTu3vrAQMDJ1ctQ/48\n",
       "hn5UOZ4Etn8MDO9YDzDkX0CXA4LFDAwJ+Q8Y+hMY3DHk5gswgCRcGRgsQVz38vLg8vIqIOsoUA5o\n",
       "IVBHCAPfbzYUfaYMDP4bQDqA1nIVbEKRc2BgKGdg4P7HwPSBgf3CBBS5LQwc1kD/GTBwHmDgWCuA\n",
       "IsfosmoDrnDBCt4isQH3ajL1H4bdbAAAAABJRU5ErkJggg==\n",
       "\" style=\"display:inline;vertical-align:middle;\" /></a></td></tr>\n",
       "<tr><td>5</td><td>ExprTuple</td><td>7, 8</td><td><a class=\"ProveItLink\" href=\"../3ec92af4f3259fce6b6ebf5bb66fa69ed175c4730/expr.ipynb\"><img src=\"data:image/png;base64,iVBORw0KGgoAAAANSUhEUgAAAFUAAAAVBAMAAADFg78FAAAAMFBMVEX////c3NwiIiJERESqqqqY\n",
       "mJh2dnZmZmYQEBDu7u4yMjJUVFTMzMyIiIi6uroAAAAs73DqAAAAAXRSTlMAQObYZgAAAUNJREFU\n",
       "KM+V0zFIw0AUgOG/2tSmsaEOnRwddOygg5u7SDdHyeYgiggV6SQojhoRRBBJQByMuLqEQneXgquF\n",
       "4igo1UkdqnfVhFxCSs1w95L33eO4e4H/PGZrKLYih/v0fJiah7GmmK/T7dTffPIpBheKiS0cB0Fx\n",
       "73c+96Vdhrwdt0tBUL4MFkl7Bs+kWkuxowtsi5N4mGjfme3ZmNVKis1tciVG4xZng2rMXqDYrMsh\n",
       "vI5UcFoJa6nW3KUHttOhalNXbbap2vGutBJuwYH8XPe8Gc+7EdEpCbsvAUxjvulK3UXf/2ioe5hD\n",
       "VtR7GG45dmaIu7BDq7msQqaH1qXQspJWf4+e2VO/eq5CttGM2bXvmn5UEm2z81WDQod8KfXe+h0b\n",
       "psUda1bcvkRftDBaH9yTUauLnmRyoA071pCbyQz3Dz3CD2j5WtdrKOevAAAAAElFTkSuQmCC\n",
       "\" style=\"display:inline;vertical-align:middle;\" /></a></td></tr>\n",
       "<tr><td>6</td><td>ExprTuple</td><td>12, 9</td><td><a class=\"ProveItLink\" href=\"../b1abbbdf9d376c40030182623d3b2473e6c40e9d0/expr.ipynb\"><img src=\"data:image/png;base64,iVBORw0KGgoAAAANSUhEUgAAADEAAAAVBAMAAAAdjxsPAAAAMFBMVEX////c3NwiIiJERESqqqqY\n",
       "mJh2dnZmZmYQEBDu7u4yMjJUVFTMzMyIiIi6uroAAAAs73DqAAAAAXRSTlMAQObYZgAAARpJREFU\n",
       "KM91kT1LxEAQhp94yXlJzpArxMIfYHuI9v6D6wQbSSHYeHpYKGjhB2KpKe2SxkLBVgQR0tsELDUQ\n",
       "LC3k9AfcOZvTJYS4xcvMPMPs7L7w//HSmuK6kudK0VkzNphOJLqpkNZ4HEAMM9VhzuGW6Kq0hBXi\n",
       "FnoFH9SSxgp7st1LJ7v3sqVfkr3m0BxwLereEW3Tm5BGaI/AjLmAz6kuUfpH5DzInGOEh1FOL+RA\n",
       "k52E9lARVd6F80l5UUiuyJkk0r2A92UX5BSOfDVtGdUtl7rxLOptA7gFK2YTjBHWECcN7G8hc5gn\n",
       "xdbvxR7NLuZTYl/60N5/FHVyWn7ZEZ3I71hBiVg66ldc0MQWF5gvEe2Iq8YadW6/wQ/ihUKX+QuI\n",
       "hQAAAABJRU5ErkJggg==\n",
       "\" style=\"display:inline;vertical-align:middle;\" /></a></td></tr>\n",
       "<tr><td>7</td><td>Operation</td><td>operator:&nbsp;10<br>operands:&nbsp;11<br></td><td><a class=\"ProveItLink\" href=\"../a0c182930b8b75bdcc687e6ab07beaa9a04192ef0/expr.ipynb\"><img src=\"data:image/png;base64,iVBORw0KGgoAAAANSUhEUgAAADUAAAAQBAMAAABEqSrGAAAAMFBMVEX////MzMyYmJgQEBBmZmYi\n",
       "IiLu7u4yMjKqqqp2dnZUVFTc3NxERESIiIi6uroAAABe5jFNAAAAAXRSTlMAQObYZgAAAK1JREFU\n",
       "GNNjYMABGBcw4ASsBzCEsmGMy5hyvVCaWx23HCc7UI7vzu67K/nunkCT0wbJcXLVMuTPY+hHlWO7\n",
       "AJJ7B3RQ/gV0OU4GkFxC/gOG/gQGd1S5RrAcSMKVgcESJOJeXh5cXl4FNHICRA6oI4SB7zcbsj6O\n",
       "VavWW10A6WD7x8BVsAnVnQzMQH3c/xiYPjCwX5iARY7PgIHzAAPHWgE0v6//ooArXLCBt0hsAGFR\n",
       "M5y5v8BtAAAAAElFTkSuQmCC\n",
       "\" style=\"display:inline;vertical-align:middle;\" /></a></td></tr>\n",
       "<tr><td>8</td><td>Literal</td><td></td><td><a class=\"ProveItLink\" href=\"../../../number/numeral/__pv_it/9be8badea4c35b9724062cecc501d17a3158d1d20/expr.ipynb\"><img src=\"data:image/png;base64,iVBORw0KGgoAAAANSUhEUgAAAAgAAAAPBAMAAAArJJMAAAAAHlBMVEX///+YmJgyMjIQEBBmZmaI\n",
       "iIhUVFTu7u5EREQAAAAw+MI4AAAAAXRSTlMAQObYZgAAACFJREFUCNdjYGBoZ2BgqJjOwFCWBiQY\n",
       "WEklWJwnOTKAAACjEQo8HvEr3AAAAABJRU5ErkJggg==\n",
       "\" style=\"display:inline;vertical-align:middle;\" /></a></td></tr>\n",
       "<tr><td>9</td><td>Literal</td><td></td><td><a class=\"ProveItLink\" href=\"../../../number/numeral/__pv_it/aaeeaca7d86eb2b7cdc49e25c3108b81b52ec5400/expr.ipynb\"><img src=\"data:image/png;base64,iVBORw0KGgoAAAANSUhEUgAAAAkAAAAOBAMAAAAPuiubAAAAMFBMVEX///8iIiJERES6urqIiIjM\n",
       "zMxUVFRmZmYQEBCqqqp2dnbc3Nzu7u6YmJgyMjIAAADYGhJvAAAAAXRSTlMAQObYZgAAAE1JREFU\n",
       "CNdj4LvDvZKBgeP//wUMDHxlSxkYGNgYGBCki5sBAwPTAZ7PYG4GmFwfwKAIJA0YGhkY6jcwFDAw\n",
       "vGNg2M7A2c3AwFqetoEBAKS8EE1WXEJLAAAAAElFTkSuQmCC\n",
       "\" style=\"display:inline;vertical-align:middle;\" /></a></td></tr>\n",
       "<tr><td>10</td><td>Literal</td><td></td><td><a class=\"ProveItLink\" href=\"../../../number/addition/__pv_it/3e6688136fa3c7aefbebe51301b7c3ebf0b69c440/expr.ipynb\"><img src=\"data:image/png;base64,iVBORw0KGgoAAAANSUhEUgAAAA4AAAAOBAMAAADtZjDiAAAAJFBMVEX///+6urpUVFQQEBAiIiIy\n",
       "MjJmZmaIiIiqqqrc3Nzu7u4AAACgHpL+AAAAAXRSTlMAQObYZgAAAB5JREFUCNdjYGBgWMkAAe2k\n",
       "0Kmhoc6hoUGk6BMHYgAHOwjcado9fwAAAABJRU5ErkJggg==\n",
       "\" style=\"display:inline;vertical-align:middle;\" /></a></td></tr>\n",
       "<tr><td>11</td><td>ExprTuple</td><td>12, 13</td><td><a class=\"ProveItLink\" href=\"../2b2a6e90a6531404844597a172cc7721c5f1e3720/expr.ipynb\"><img src=\"data:image/png;base64,iVBORw0KGgoAAAANSUhEUgAAADEAAAAVBAMAAAAdjxsPAAAAMFBMVEX////c3NwiIiJERESqqqqY\n",
       "mJh2dnZmZmYQEBDu7u4yMjJUVFTMzMyIiIi6uroAAAAs73DqAAAAAXRSTlMAQObYZgAAARNJREFU\n",
       "KM910SFPw0AUwPH/oC29djRDoPgA2AnwfACSgUEgSB0KQhAIFIJgSKAS1xoEggSFWcjmMZdgECxZ\n",
       "kAgyMLiG91bWNOs4cdd7v7uXd33w/4jsjOCeTs+1cPOBhb6sdzWZa0MGi/VkryI74CfT0NgVuYGP\n",
       "2hUvEJnf4ESqe1kaPEaDtT/ZVvGOuJU5vCc9pFOAsSpOxhV8SjGpnYiHSnRGDkk6pJNwWsjmWJoj\n",
       "FQ0fw0WRLJ7Iuezk9CrRl1Fxut3epdVs6+hpkxNmyxRv8+WOm7EvT8txRwQ2Nt+lSNXv4zq8Ns5T\n",
       "31y3tLjezxbBEL9V7Ui5kb/jxhVxy6+DqS6UYqQLrFSk7EioaRuzuv0Gv0MkPoDJBRxIAAAAAElF\n",
       "TkSuQmCC\n",
       "\" style=\"display:inline;vertical-align:middle;\" /></a></td></tr>\n",
       "<tr><td>12</td><td>Variable</td><td></td><td><a class=\"ProveItLink\" href=\"../../../__pv_it/78af03acba5349fd70398a32ce59bae1da52f0870/expr.ipynb\"><img src=\"data:image/png;base64,iVBORw0KGgoAAAANSUhEUgAAABIAAAAJBAMAAADN8WE8AAAAMFBMVEX////MzMyYmJgQEBBmZmYi\n",
       "IiLu7u4yMjKqqqp2dnZUVFTc3NxERESIiIi6uroAAABe5jFNAAAAAXRSTlMAQObYZgAAAFtJREFU\n",
       "CNdj4Luz++5KvrsnGBg4uWoZ8ucx9DMwvGM9wJB/AcRKyH/A0J/A4M7AAKJcGRgsgSwgL4SB7zcb\n",
       "iMf2j4GrYBMD9z8Gpg8M7BcmMPAZMHAeYOBYKwAAtXMYHwtZnY0AAAAASUVORK5CYII=\n",
       "\" style=\"display:inline;vertical-align:middle;\" /></a></td></tr>\n",
       "<tr><td>13</td><td>Literal</td><td></td><td><a class=\"ProveItLink\" href=\"../../../number/numeral/__pv_it/23412ce59ea7e77353d2f9225e02248e73651ca00/expr.ipynb\"><img src=\"data:image/png;base64,iVBORw0KGgoAAAANSUhEUgAAAAoAAAAPBAMAAAAv0UM9AAAALVBMVEX///9mZmaqqqru7u52dnYy\n",
       "MjKYmJjc3NwQEBCIiIhEREQiIiJUVFTMzMwAAACUDTcXAAAAAXRSTlMAQObYZgAAAD5JREFUCNdj\n",
       "YGBguMMAArtABGcXiCyLApEOIJKtAERaMoBIBxDJdAFEmjCASJ0zZ16cBCkF64KQPu/EwBwGACv6\n",
       "DSRgin9qAAAAAElFTkSuQmCC\n",
       "\" style=\"display:inline;vertical-align:middle;\" /></a></td></tr>\n",
       "</table>\n"
      ],
      "text/plain": [
       "0. ((m + 4) + 1) = (m + 5)\n",
       "   core type: Operation\n",
       "   operator: 1\n",
       "   operands: 2\n",
       "1. =\n",
       "   core type: Literal\n",
       "   sub-expressions: \n",
       "2. ((m + 4) + 1 , m + 5)\n",
       "   core type: ExprTuple\n",
       "   sub-expressions: 3, 4\n",
       "3. (m + 4) + 1\n",
       "   core type: Operation\n",
       "   operator: 10\n",
       "   operands: 5\n",
       "4. m + 5\n",
       "   core type: Operation\n",
       "   operator: 10\n",
       "   operands: 6\n",
       "5. (m + 4 , 1)\n",
       "   core type: ExprTuple\n",
       "   sub-expressions: 7, 8\n",
       "6. (m , 5)\n",
       "   core type: ExprTuple\n",
       "   sub-expressions: 12, 9\n",
       "7. m + 4\n",
       "   core type: Operation\n",
       "   operator: 10\n",
       "   operands: 11\n",
       "8. 1\n",
       "   core type: Literal\n",
       "   sub-expressions: \n",
       "9. 5\n",
       "   core type: Literal\n",
       "   sub-expressions: \n",
       "10. +\n",
       "    core type: Literal\n",
       "    sub-expressions: \n",
       "11. (m , 4)\n",
       "    core type: ExprTuple\n",
       "    sub-expressions: 12, 13\n",
       "12. m\n",
       "    core type: Variable\n",
       "    sub-expressions: \n",
       "13. 4\n",
       "    core type: Literal\n",
       "    sub-expressions: "
      ]
     },
     "execution_count": 4,
     "metadata": {},
     "output_type": "execute_result"
    }
   ],
   "source": [
    "# display the expression information\n",
    "expr.exprInfo()"
   ]
  },
  {
   "cell_type": "code",
   "execution_count": null,
   "metadata": {},
   "outputs": [],
   "source": []
  }
 ],
 "metadata": {
  "kernelspec": {
   "display_name": "Python 3",
   "language": "python",
   "name": "python3"
  }
 },
 "nbformat": 4,
 "nbformat_minor": 0
}
