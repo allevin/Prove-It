{
 "cells": [
  {
   "cell_type": "markdown",
   "metadata": {},
   "source": [
    "Expression of type <a class=\"ProveItLink\" href=\"../../../../../doc/html/api/proveit.ExprTuple.html\">ExprTuple</a>\n",
    "=======================\n",
    "# from context <a class=\"ProveItLink\" href=\"../../_context_.ipynb\">proveit.iteration</a>"
   ]
  },
  {
   "cell_type": "code",
   "execution_count": 1,
   "metadata": {},
   "outputs": [],
   "source": [
    "# import Expression classes needed to build the expression\n",
    "from proveit import ExprTuple\n",
    "from proveit._common_ import j, k\n",
    "from proveit.number import Add, one"
   ]
  },
  {
   "cell_type": "code",
   "execution_count": 2,
   "metadata": {},
   "outputs": [
    {
     "data": {
      "text/html": [
       "<strong id=\"expr\">expr:</strong> <a class=\"ProveItLink\" href=\"expr.ipynb\"><img src=\"data:image/png;base64,iVBORw0KGgoAAAANSUhEUgAAAHEAAAAVBAMAAACDNRyvAAAAMFBMVEX////c3NwiIiJERESqqqqY\n",
       "mJh2dnZmZmYQEBDu7u4yMjJUVFTMzMyIiIi6uroAAAAs73DqAAAAAXRSTlMAQObYZgAAAWdJREFU\n",
       "OMtjYCAf8F0gQ1MciDgNIuIF0KQsofTsJkxtQDn2A0B6JYgTjSY5+SeMtRxDI1huAQMDL7JjOaFW\n",
       "z94N1/kFLjkRWS6MgYFjApJOFpgxvDCdfHAjGHyR5WYwMLxiwKuTbQF2ncwODGUgR961xKWTK4G1\n",
       "/gEWnWwFDEtBFIMqLp3zX2a+d8Cik2UBQx+QusnwFZdO/7PYXcvXwPAPSAnwfcSls14Pu06eD2Cd\n",
       "DGwKQIJ91apFXatWbUDRqTtbE0xXrVqlsWrVamSdLeBwKMBhJ+cfhi+MOFxrCg4HByw6OYE06wfO\n",
       "f2zYdLIuYEgHh8MELDrnA73AbcDwkZcBe6w8AnGK0FICe8WvUoYZwGDjCmC4nomqEyzHwPWAgQOU\n",
       "VNXR0xAYPERN6b7IHGDqY01geMj4B2teDUDV+RaZkwvKZTzfmQuwZt8A3DmbE5ScpTnNSrHK8uIp\n",
       "E7hBfmQkpzS5w8AAAJz4csB1XngPAAAAAElFTkSuQmCC\n",
       "\" style=\"display:inline;vertical-align:middle;\" /></a><br>"
      ],
      "text/plain": [
       "expr: (j + 1 , k + 1)"
      ]
     },
     "execution_count": 2,
     "metadata": {},
     "output_type": "execute_result"
    }
   ],
   "source": [
    "# build up the expression from sub-expressions\n",
    "expr = ExprTuple(Add(j, one), Add(k, one))"
   ]
  },
  {
   "cell_type": "code",
   "execution_count": 3,
   "metadata": {},
   "outputs": [
    {
     "name": "stdout",
     "output_type": "stream",
     "text": [
      "Passed sanity check: built 'expr' is the same as the stored Expression.\n"
     ]
    }
   ],
   "source": [
    "# check that the built expression is the same as the stored expression\n",
    "%check_expr"
   ]
  },
  {
   "cell_type": "code",
   "execution_count": 4,
   "metadata": {},
   "outputs": [
    {
     "data": {
      "text/html": [
       "<table><tr><th>&nbsp;</th><th>core type</th><th>sub-expressions</th><th>expression</th></tr>\n",
       "<tr><td>0</td><td>ExprTuple</td><td>1, 2</td><td><a class=\"ProveItLink\" href=\"expr.ipynb\"><img src=\"data:image/png;base64,iVBORw0KGgoAAAANSUhEUgAAAHEAAAAVBAMAAACDNRyvAAAAMFBMVEX////c3NwiIiJERESqqqqY\n",
       "mJh2dnZmZmYQEBDu7u4yMjJUVFTMzMyIiIi6uroAAAAs73DqAAAAAXRSTlMAQObYZgAAAWdJREFU\n",
       "OMtjYCAf8F0gQ1MciDgNIuIF0KQsofTsJkxtQDn2A0B6JYgTjSY5+SeMtRxDI1huAQMDL7JjOaFW\n",
       "z94N1/kFLjkRWS6MgYFjApJOFpgxvDCdfHAjGHyR5WYwMLxiwKuTbQF2ncwODGUgR961xKWTK4G1\n",
       "/gEWnWwFDEtBFIMqLp3zX2a+d8Cik2UBQx+QusnwFZdO/7PYXcvXwPAPSAnwfcSls14Pu06eD2Cd\n",
       "DGwKQIJ91apFXatWbUDRqTtbE0xXrVqlsWrVamSdLeBwKMBhJ+cfhi+MOFxrCg4HByw6OYE06wfO\n",
       "f2zYdLIuYEgHh8MELDrnA73AbcDwkZcBe6w8AnGK0FICe8WvUoYZwGDjCmC4nomqEyzHwPWAgQOU\n",
       "VNXR0xAYPERN6b7IHGDqY01geMj4B2teDUDV+RaZkwvKZTzfmQuwZt8A3DmbE5ScpTnNSrHK8uIp\n",
       "E7hBfmQkpzS5w8AAAJz4csB1XngPAAAAAElFTkSuQmCC\n",
       "\" style=\"display:inline;vertical-align:middle;\" /></a></td></tr>\n",
       "<tr><td>1</td><td>Operation</td><td>operator:&nbsp;4<br>operands:&nbsp;3<br></td><td><a class=\"ProveItLink\" href=\"../cdbd80afd2c6c46686a681eba53731dfe31233aa0/expr.ipynb\"><img src=\"data:image/png;base64,iVBORw0KGgoAAAANSUhEUgAAAC0AAAASBAMAAAA9GErRAAAAMFBMVEX///8QEBDMzMyqqqpmZmYy\n",
       "MjK6uroiIiJ2dnZERESIiIju7u5UVFTc3NyYmJgAAACtHSfyAAAAAXRSTlMAQObYZgAAAHxJREFU\n",
       "GNNjYGBg4PvLgAo4N4ApvgOowtzzN6Dw90KFz5xHFbeCMdbjFd+1cgNW8Qb2B9jEuTbwYxXnZci/\n",
       "gN3edhDhGhpaGBoagywegt093J+xizP/xi7OUoAm7iIfAnIhuwO6ehBgu3BfAcrMQhbXd5jCgA3s\n",
       "bHmATRgAoIYqkRdm8BoAAAAASUVORK5CYII=\n",
       "\" style=\"display:inline;vertical-align:middle;\" /></a></td></tr>\n",
       "<tr><td>2</td><td>Operation</td><td>operator:&nbsp;4<br>operands:&nbsp;5<br></td><td><a class=\"ProveItLink\" href=\"../a3769aecbd10cc24c32830f6bece61f5a44881a70/expr.ipynb\"><img src=\"data:image/png;base64,iVBORw0KGgoAAAANSUhEUgAAAC0AAAAQBAMAAABw0OvaAAAAMFBMVEX///9ERETc3NyIiIjMzMyY\n",
       "mJh2dna6urqqqqpmZmYyMjIiIiIQEBBUVFTu7u4AAAD6+w4kAAAAAXRSTlMAQObYZgAAAIZJREFU\n",
       "GNNj4LuzgQEdMD4AElwT0IX55EHi/A0w/iOo8N37IPH6BzDxZhjDHiSUxYBdfBlD5Hcs4nzfnz3/\n",
       "gUWc44sBVnM4fxdgFee2uw120KxVq/asWrUWLv7egb9BAYv6eIb3BQlYxC8y8CsYYBFfysA87QGq\n",
       "+MzzKwOQw6uZATsoRmIDAP82NAvK/4pyAAAAAElFTkSuQmCC\n",
       "\" style=\"display:inline;vertical-align:middle;\" /></a></td></tr>\n",
       "<tr><td>3</td><td>ExprTuple</td><td>6, 8</td><td><a class=\"ProveItLink\" href=\"../f3942352b5129835bdbb7296106bb14341010c620/expr.ipynb\"><img src=\"data:image/png;base64,iVBORw0KGgoAAAANSUhEUgAAACcAAAAVBAMAAAA3P+qgAAAAMFBMVEX////c3NwiIiJERESqqqqY\n",
       "mJh2dnZmZmYQEBDu7u4yMjJUVFTMzMyIiIi6uroAAAAs73DqAAAAAXRSTlMAQObYZgAAANxJREFU\n",
       "GNNjYMAK+C6g8uNAxGkQES8AEbFkYGA/AKRXgjjRELHJP4HEAgYGXiTds3eDBMMYGDgmIJnHCxKc\n",
       "wcDwigFdkNmBoQxIcd61RBJkK2BYCqIYVJEEWRYw9AGpmwxfkQT5Ghj+ASkBvo9IgjwfwIIMbAqo\n",
       "gi0gDlcBqnZTEGe+A8MEuCDrAoZ0EMd/AucnZCc9AnGKGDj7gUHCXvGrFGjWAwYOUPioA00SgHkL\n",
       "6E3WBIaHjH+ANNyvuaCg4/nOXIAkyAkMOgZpTjOgQQzwEOQGmcOIFh13GBgAr9g3kilCIHkAAAAA\n",
       "SUVORK5CYII=\n",
       "\" style=\"display:inline;vertical-align:middle;\" /></a></td></tr>\n",
       "<tr><td>4</td><td>Literal</td><td></td><td><a class=\"ProveItLink\" href=\"../../../number/addition/__pv_it/3e6688136fa3c7aefbebe51301b7c3ebf0b69c440/expr.ipynb\"><img src=\"data:image/png;base64,iVBORw0KGgoAAAANSUhEUgAAAA4AAAAOBAMAAADtZjDiAAAAJFBMVEX///+6urpUVFQQEBAiIiIy\n",
       "MjJmZmaIiIiqqqrc3Nzu7u4AAACgHpL+AAAAAXRSTlMAQObYZgAAAB5JREFUCNdjYGBgWMkAAe2k\n",
       "0Kmhoc6hoUGk6BMHYgAHOwjcado9fwAAAABJRU5ErkJggg==\n",
       "\" style=\"display:inline;vertical-align:middle;\" /></a></td></tr>\n",
       "<tr><td>5</td><td>ExprTuple</td><td>7, 8</td><td><a class=\"ProveItLink\" href=\"../22c3c9944426c690813c30c93c3e719ef5257b3a0/expr.ipynb\"><img src=\"data:image/png;base64,iVBORw0KGgoAAAANSUhEUgAAACsAAAAVBAMAAAAtAwouAAAAMFBMVEX////c3NwiIiJERESqqqqY\n",
       "mJh2dnZmZmYQEBDu7u4yMjJUVFTMzMyIiIi6uroAAAAs73DqAAAAAXRSTlMAQObYZgAAAOlJREFU\n",
       "GNNjYMAB+C6gi8SBiNMMDLObEGKWDAzsB4D0SiBeDhed/BNILGBg4AWZ8QUmOns3SDiMgYFjAtD4\n",
       "n3DVvCDmDAaGV0CKbQGqMLMDQxmQ4kpgrX+AJMxWwLAUSM1/mfneAUmYZQFDH5DyP4tqCF8Dwz8g\n",
       "Va+HKszzASysO1sTXbiFgYHzD8MXRjRDTBkYWD9w/mNjYJgAF2ZdwJDOwMBtwPCRl4HzE7IDHwGd\n",
       "HcBwPZOBs18AGEoVv0qBAg8YOATgIQxnAT3PmgDjsMJdmQsNWFRhTlAQScN48FjiBpnGiBFpdxgY\n",
       "AMhBPn6sYDDPAAAAAElFTkSuQmCC\n",
       "\" style=\"display:inline;vertical-align:middle;\" /></a></td></tr>\n",
       "<tr><td>6</td><td>Variable</td><td></td><td><a class=\"ProveItLink\" href=\"../../../__pv_it/612356038763a16ceac85a062629d016c986635c0/expr.ipynb\"><img src=\"data:image/png;base64,iVBORw0KGgoAAAANSUhEUgAAAAoAAAASBAMAAACQmVJ4AAAALVBMVEX////MzMyqqqpmZmYyMjK6\n",
       "uroiIiJ2dnZERESIiIju7u5UVFTc3NyYmJgAAAAeP2GyAAAAAXRSTlMAQObYZgAAAE1JREFUCNdj\n",
       "YGBg4H3DACI3MGADK2csAJIFbBcYGDgX8AFJHoa4AyCJMrC0M4jgegQimV6BSOYEEMlmwMDAeuCc\n",
       "AAODnEEzkL+iGKgTAMbaDxjCuhcwAAAAAElFTkSuQmCC\n",
       "\" style=\"display:inline;vertical-align:middle;\" /></a></td></tr>\n",
       "<tr><td>7</td><td>Variable</td><td></td><td><a class=\"ProveItLink\" href=\"../../../__pv_it/1a7356cf6caf039e07a5436d90e972cbb5e92b0a0/expr.ipynb\"><img src=\"data:image/png;base64,iVBORw0KGgoAAAANSUhEUgAAAAoAAAAOBAMAAADkjZCYAAAAMFBMVEX///9ERETc3NyIiIjMzMyY\n",
       "mJh2dna6urqqqqpmZmYyMjIiIiIQEBBUVFTu7u4AAAD6+w4kAAAAAXRSTlMAQObYZgAAAFBJREFU\n",
       "CNdj4LuzgQEIuCaASP4GEFn/AERmgQiGZQyR3xn4vj97/oOB44sBUIDzdwGQ5La7DVT03oG/QYEh\n",
       "nuF9QQLDRQZ+BQOGpQzM0x4AAD+VFjuIiDKbAAAAAElFTkSuQmCC\n",
       "\" style=\"display:inline;vertical-align:middle;\" /></a></td></tr>\n",
       "<tr><td>8</td><td>Literal</td><td></td><td><a class=\"ProveItLink\" href=\"../../../number/numeral/__pv_it/9be8badea4c35b9724062cecc501d17a3158d1d20/expr.ipynb\"><img src=\"data:image/png;base64,iVBORw0KGgoAAAANSUhEUgAAAAgAAAAPBAMAAAArJJMAAAAAHlBMVEX///+YmJgyMjIQEBBmZmaI\n",
       "iIhUVFTu7u5EREQAAAAw+MI4AAAAAXRSTlMAQObYZgAAACFJREFUCNdjYGBoZ2BgqJjOwFCWBiQY\n",
       "WEklWJwnOTKAAACjEQo8HvEr3AAAAABJRU5ErkJggg==\n",
       "\" style=\"display:inline;vertical-align:middle;\" /></a></td></tr>\n",
       "</table>\n"
      ],
      "text/plain": [
       "0. (j + 1 , k + 1)\n",
       "   core type: ExprTuple\n",
       "   sub-expressions: 1, 2\n",
       "1. j + 1\n",
       "   core type: Operation\n",
       "   operator: 4\n",
       "   operands: 3\n",
       "2. k + 1\n",
       "   core type: Operation\n",
       "   operator: 4\n",
       "   operands: 5\n",
       "3. (j , 1)\n",
       "   core type: ExprTuple\n",
       "   sub-expressions: 6, 8\n",
       "4. +\n",
       "   core type: Literal\n",
       "   sub-expressions: \n",
       "5. (k , 1)\n",
       "   core type: ExprTuple\n",
       "   sub-expressions: 7, 8\n",
       "6. j\n",
       "   core type: Variable\n",
       "   sub-expressions: \n",
       "7. k\n",
       "   core type: Variable\n",
       "   sub-expressions: \n",
       "8. 1\n",
       "   core type: Literal\n",
       "   sub-expressions: "
      ]
     },
     "execution_count": 4,
     "metadata": {},
     "output_type": "execute_result"
    }
   ],
   "source": [
    "# display the expression information\n",
    "expr.exprInfo()"
   ]
  },
  {
   "cell_type": "code",
   "execution_count": null,
   "metadata": {},
   "outputs": [],
   "source": []
  }
 ],
 "metadata": {
  "kernelspec": {
   "display_name": "Python 3",
   "language": "python",
   "name": "python3"
  }
 },
 "nbformat": 4,
 "nbformat_minor": 0
}
