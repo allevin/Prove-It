{
 "cells": [
  {
   "cell_type": "markdown",
   "metadata": {},
   "source": [
    "Show the Proof\n",
    "========"
   ]
  },
  {
   "cell_type": "code",
   "execution_count": 1,
   "metadata": {},
   "outputs": [
    {
     "data": {
      "text/html": [
       "<table><tr><th>&nbsp;</th><th>step type</th><th>requirements</th><th>statement</th></tr>\n",
       "<tr><td>0</td><td>assumption</td><td></td><td><span style=\"font-size:20px;\"><a class=\"ProveItLink\" href=\"../497157fe04b640ee3ade5cb85a02cacea37b39340/expr.ipynb\"><img src=\"data:image/png;base64,iVBORw0KGgoAAAANSUhEUgAAAE0AAAAVBAMAAADx+n4ZAAAAMFBMVEX////c3NxERESqqqpUVFS6\n",
       "urrMzMwyMjIQEBCIiIh2dnYiIiLu7u5mZmaYmJgAAABXZE4RAAAAAXRSTlMAQObYZgAAAUdJREFU\n",
       "KM9jYGDgu8eAF7CtEgBRPLsYCAC2ZhDJ+QGHNE+9Ug0D7/7NDAzXQVyuBlzmMD1IYmDgBzJW4FfH\n",
       "so1zAgMHTnU803fvLgCrCz/ghkdd+huYeWkOxw+gqItUlJyyIHKSAYjPqAO3N8GSTQGujhdoxwL3\n",
       "CTy/ApjBPmcSQKjjDXgJUvcexMsIYGAN2MTA85MBou4Qwh8JDD4sGUAG+wUGhpQ2oMt5vjIw/wGb\n",
       "zMAQsXs3zB8JDEd4KkAs9QdA8QQGsKINDBwLQGIpyOaxLQCZxw2SYCkAu5H7AkO8wAEg/zSyOobH\n",
       "TDD3cW1gAJl0PoDBnfEBSPYBsjouIeRwkQ8A6ankAgfzVni8BTBA4hauLoKBYREDg8k0sLT4NYgy\n",
       "1vomIHkcd/yaVEP8CwcE0gGqOj7C6sDpj2cnwfTcCqb4FhORPwCCQ1cLYdXRpwAAAABJRU5ErkJg\n",
       "gg==\n",
       "\" style=\"display:inline;vertical-align:middle;\" /></a> <a class=\"ProveItLink\" href=\"proof.ipynb\" style=\"text-decoration: none\">&#x22A2;&nbsp;</a><a class=\"ProveItLink\" href=\"../5e83e3309d2c1b6939445fc5e52640fd457cf2480/expr.ipynb\"><img src=\"data:image/png;base64,iVBORw0KGgoAAAANSUhEUgAAADsAAAAPBAMAAACo4Ko7AAAAMFBMVEX////MzMyYmJgQEBBmZmYi\n",
       "IiLu7u4yMjKqqqp2dnZUVFTc3NxERESIiIi6uroAAABe5jFNAAAAAXRSTlMAQObYZgAAAPdJREFU\n",
       "GNNjYMAK0v8cT2Bw/drAgAMcYjzAwPABlyzDUoG7DAwG6KK5paHhYMa6Mi4BDGnGogQoa6EUWxlI\n",
       "mu/O7rsr+e6eAAvugckyLOS4IAOS5uSqZcifx9APFjwNN2chgx/TBaD0O9YDDPkXINJsB5CkuRIW\n",
       "AqUT8h8w9CcwuIPE+ExDQ6FOW8jAtiAd5DSgnCsDgyXYZQuQdDNIMoKkgfpCGPh+s4EMD0CWZmoA\n",
       "2WXJwPaPgatgE0hwEbI0w2ygNPc/BqYPDOwXJoAEUx/ApM8BMUsB0DkGDJwHGDjWCoAEuUsEILLP\n",
       "PwN1shWgByrHcqjLoQAAolk/aDCz970AAAAASUVORK5CYII=\n",
       "\" style=\"display:inline;vertical-align:middle;\" /></a></span></td></tr>\n",
       "</table>"
      ],
      "text/plain": [
       "<proveit._core_.proof._ShowProof at 0x7fe03f80e0f0>"
      ]
     },
     "execution_count": 1,
     "metadata": {},
     "output_type": "execute_result"
    }
   ],
   "source": [
    "import proveit\n",
    "%show_proof"
   ]
  },
  {
   "cell_type": "code",
   "execution_count": null,
   "metadata": {},
   "outputs": [],
   "source": []
  }
 ],
 "metadata": {
  "kernelspec": {
   "display_name": "Python 3",
   "language": "python",
   "name": "python3"
  }
 },
 "nbformat": 4,
 "nbformat_minor": 0
}
