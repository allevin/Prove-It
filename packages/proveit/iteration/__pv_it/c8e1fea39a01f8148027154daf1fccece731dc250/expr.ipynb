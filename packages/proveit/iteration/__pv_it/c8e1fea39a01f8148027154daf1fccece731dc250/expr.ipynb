{
 "cells": [
  {
   "cell_type": "markdown",
   "metadata": {},
   "source": [
    "Expression of type <a class=\"ProveItLink\" href=\"../../../../../doc/html/api/proveit.logic.Equals.html\">Equals</a>\n",
    "=======================\n",
    "# from context <a class=\"ProveItLink\" href=\"../../_context_.ipynb\">proveit.iteration</a>"
   ]
  },
  {
   "cell_type": "code",
   "execution_count": 1,
   "metadata": {},
   "outputs": [],
   "source": [
    "# import Expression classes needed to build the expression\n",
    "from proveit._common_ import j, k\n",
    "from proveit.logic import Equals\n",
    "from proveit.number import Add, one"
   ]
  },
  {
   "cell_type": "code",
   "execution_count": 2,
   "metadata": {},
   "outputs": [
    {
     "data": {
      "text/html": [
       "<strong id=\"expr\">expr:</strong> <a class=\"ProveItLink\" href=\"expr.ipynb\"><img src=\"data:image/png;base64,iVBORw0KGgoAAAANSUhEUgAAAN0AAAAVBAMAAAAwUfbwAAAAMFBMVEX////c3NwiIiJERESqqqqY\n",
       "mJh2dnZmZmYQEBDu7u4yMjJUVFTMzMyIiIi6uroAAAAs73DqAAAAAXRSTlMAQObYZgAAAkVJREFU\n",
       "SMe9lkFLG1EQxycxyWbVze5dSqW96MHiRcRbvkDRk73p0otYEEJBKV7U4kUPsiKIEGxE0ND1EvRS\n",
       "8OJdxIAHKSiE3lqQRMnFIsF5b3ej781bN7k4sHlkdn7zz86bnReA17ZMufXYCYXvpk38FCD/nd4b\n",
       "IZ7kLWgnxNtdAv1XryqYJuT4T7yKJH7jnqYoAewQb6eDV04ZTBMibrBy1pvudW/JHwd6uvWcGieJ\n",
       "r/EysxL+ZAHuJUQ8jb8v8/QwH/3VCFwJYXu3iN4KXlVHxpvWxHlCxP/hktppVa8jK3cbQ79Ai3qI\n",
       "z7E9sJMLlSi97Qt8ipS8U5qNH/vwqSHiPJjqIb6HS+HvdDUbpWfHx/Abr8S8y+yAtws69cbmj7qI\n",
       "82Cqh/gaLqNn0fU0HBNTZBal50tjXRIPZQn3gqke4qwQCx+i9WJQxVbrrkl6JuppdxUJ94KpHuJM\n",
       "byDfD36d+vw6eXqa6+6uuq73Ln2GEL3470NHwnmwgAd6y1j/B6jHovuzCEE9v75j9p7XE/e9cGJm\n",
       "Lak/ixBSzyGcBTW9kYrU01lLJOUB04H7NAmFii3iel2ph/gUQNcg3BqRegm/oUVjjiMwrbKIJ+4h\n",
       "5H34w3v6clrU0779n5UAjQ3lzor8vqN3D4w5R9TTeiU9LyHiaWE+vjAg4jnlPFtS4vFc2DhM2i+f\n",
       "Zv7xmLHessNkhuiNK3A/mJ6uM/55FG3nuWHWBurzSB1MjeM9LeltTLGB0WWRG7FSWDA1jsfa+D9x\n",
       "pfC9aQt/BIQHyG5OWxIhAAAAAElFTkSuQmCC\n",
       "\" style=\"display:inline;vertical-align:middle;\" /></a><br>"
      ],
      "text/plain": [
       "expr: (k + 1 + j) = (k + j + 1)"
      ]
     },
     "execution_count": 2,
     "metadata": {},
     "output_type": "execute_result"
    }
   ],
   "source": [
    "# build up the expression from sub-expressions\n",
    "expr = Equals(Add(k, one, j), Add(k, j, one))"
   ]
  },
  {
   "cell_type": "code",
   "execution_count": 3,
   "metadata": {},
   "outputs": [
    {
     "name": "stdout",
     "output_type": "stream",
     "text": [
      "Passed sanity check: built 'expr' is the same as the stored Expression.\n"
     ]
    }
   ],
   "source": [
    "# check that the built expression is the same as the stored expression\n",
    "%check_expr"
   ]
  },
  {
   "cell_type": "code",
   "execution_count": 4,
   "metadata": {},
   "outputs": [
    {
     "data": {
      "text/html": [
       "<table><tr><th>&nbsp;</th><th>core type</th><th>sub-expressions</th><th>expression</th></tr>\n",
       "<tr><td>0</td><td>Operation</td><td>operator:&nbsp;1<br>operands:&nbsp;2<br></td><td><a class=\"ProveItLink\" href=\"expr.ipynb\"><img src=\"data:image/png;base64,iVBORw0KGgoAAAANSUhEUgAAAN0AAAAVBAMAAAAwUfbwAAAAMFBMVEX////c3NwiIiJERESqqqqY\n",
       "mJh2dnZmZmYQEBDu7u4yMjJUVFTMzMyIiIi6uroAAAAs73DqAAAAAXRSTlMAQObYZgAAAkVJREFU\n",
       "SMe9lkFLG1EQxycxyWbVze5dSqW96MHiRcRbvkDRk73p0otYEEJBKV7U4kUPsiKIEGxE0ND1EvRS\n",
       "8OJdxIAHKSiE3lqQRMnFIsF5b3ej781bN7k4sHlkdn7zz86bnReA17ZMufXYCYXvpk38FCD/nd4b\n",
       "IZ7kLWgnxNtdAv1XryqYJuT4T7yKJH7jnqYoAewQb6eDV04ZTBMibrBy1pvudW/JHwd6uvWcGieJ\n",
       "r/EysxL+ZAHuJUQ8jb8v8/QwH/3VCFwJYXu3iN4KXlVHxpvWxHlCxP/hktppVa8jK3cbQ79Ai3qI\n",
       "z7E9sJMLlSi97Qt8ipS8U5qNH/vwqSHiPJjqIb6HS+HvdDUbpWfHx/Abr8S8y+yAtws69cbmj7qI\n",
       "82Cqh/gaLqNn0fU0HBNTZBal50tjXRIPZQn3gqke4qwQCx+i9WJQxVbrrkl6JuppdxUJ94KpHuJM\n",
       "byDfD36d+vw6eXqa6+6uuq73Ln2GEL3470NHwnmwgAd6y1j/B6jHovuzCEE9v75j9p7XE/e9cGJm\n",
       "Lak/ixBSzyGcBTW9kYrU01lLJOUB04H7NAmFii3iel2ph/gUQNcg3BqRegm/oUVjjiMwrbKIJ+4h\n",
       "5H34w3v6clrU0779n5UAjQ3lzor8vqN3D4w5R9TTeiU9LyHiaWE+vjAg4jnlPFtS4vFc2DhM2i+f\n",
       "Zv7xmLHessNkhuiNK3A/mJ6uM/55FG3nuWHWBurzSB1MjeM9LeltTLGB0WWRG7FSWDA1jsfa+D9x\n",
       "pfC9aQt/BIQHyG5OWxIhAAAAAElFTkSuQmCC\n",
       "\" style=\"display:inline;vertical-align:middle;\" /></a></td></tr>\n",
       "<tr><td>1</td><td>Literal</td><td></td><td><a class=\"ProveItLink\" href=\"../../../logic/equality/__pv_it/2fb26078095930560931daa0500ce419a39ea6cd0/expr.ipynb\"><img src=\"data:image/png;base64,iVBORw0KGgoAAAANSUhEUgAAAA4AAAAFBAMAAACHocAhAAAAFVBMVEX///9EREQiIiJUVFQyMjJm\n",
       "ZmYAAADubVkoAAAAAXRSTlMAQObYZgAAABRJREFUCNdjCHEBAWcGXCBICQQUAUpuAwlgGKrkAAAA\n",
       "AElFTkSuQmCC\n",
       "\" style=\"display:inline;vertical-align:middle;\" /></a></td></tr>\n",
       "<tr><td>2</td><td>ExprTuple</td><td>3, 4</td><td><a class=\"ProveItLink\" href=\"../31d48e4fb2253b766b47f02851c9a288a51cbbd30/expr.ipynb\"><img src=\"data:image/png;base64,iVBORw0KGgoAAAANSUhEUgAAALkAAAAVBAMAAADoXVL6AAAAMFBMVEX////c3NwiIiJERESqqqqY\n",
       "mJh2dnZmZmYQEBDu7u4yMjJUVFTMzMyIiIi6uroAAAAs73DqAAAAAXRSTlMAQObYZgAAAf9JREFU\n",
       "OMu1lcErBFEcx7+7dnY9zOzcHexFOJALcpt/QJw4KDYXUWpTJBeSkwMjJbWxm0LGRVyUi7tky0GK\n",
       "Wm6U1mql1bZ5szOzzHuP4bCvZn7T783305vve7/fAJUdSqpC4CHzdg7EF/i5bi4jZUuBnET4t4dV\n",
       "Xh46o3GfXnvc62t5nn5oxZoYTx8UyZOAbBqTc7LEXkP8NM9kvkZYc55W2Sm3vB+o1qn15YUGnE2Q\n",
       "82ymPDK689TDTrnlG8ATDcHkf+jj+CO9SsO06WRUmkt70Tev7DXvYqDoppO7bhE9GMMODYnHsYzm\n",
       "RY/6+yxUcX0r56YH0SiiB5JYpqH3wtsZWQ9b9EAhxTpzgzeRXJmH+ZFzbd50HzLWgQi9plm6qmRF\n",
       "8rqXEr013lLSGcb2kmEcftG/ZzBiCf03R6UNmDWMZsM4sKyJiOSUvkidLCDn8z4zdsklzsKaypwZ\n",
       "p8A4ZzpoEb6QYtCTTuhWmoseRiIdZegJTSSXkhgFatuRlT3pgTzIK43HCKspht6r/3AiH+h39eF6\n",
       "zD0dmvmYYgShCMgKtWQH8rTO0CchktekUa0Ki43P+Km3irvplOlNQjntBFL092ZvZxS1gTZUyT33\n",
       "bIV7X0Eon7A7sPe4jHWBo1uj7r0qJsoTs3vV/4m+NmpWqvA3RjqnhJJa00Zfpf58t8AnE0my06CV\n",
       "tQkAAAAASUVORK5CYII=\n",
       "\" style=\"display:inline;vertical-align:middle;\" /></a></td></tr>\n",
       "<tr><td>3</td><td>Operation</td><td>operator:&nbsp;6<br>operands:&nbsp;5<br></td><td><a class=\"ProveItLink\" href=\"../66f3d2b095c4df951b34ee5be0fc57c047a684ed0/expr.ipynb\"><img src=\"data:image/png;base64,iVBORw0KGgoAAAANSUhEUgAAAFAAAAASBAMAAAA+r0T5AAAAMFBMVEX///9ERETc3NyIiIjMzMyY\n",
       "mJh2dna6urqqqqpmZmYyMjIiIiIQEBBUVFTu7u4AAAD6+w4kAAAAAXRSTlMAQObYZgAAAN5JREFU\n",
       "KM9j4LuzgQEdyGGIsH5iYOCagC768B+mwgsMDPwNMN4jCPX2LkwhnwKy4voHMFYzlGaGKeQwQFaY\n",
       "xUCkwmUMkd8JKXxs+ICB7/uz5z8IKUzgDmDg+GJA0GrmB/wBDJy/CwgqZGKoV2DgtrsN9vasVav2\n",
       "rFq1FqGQc9Wq1adWrboAVprNwPDegb9BgaCvVzIwxDO8L0ggpJAP6N2LDPwKBoQUcgBFljIwT3uA\n",
       "opBzzq+paAo5URNOM3pSgCvkRk04xegK2SEK2RX0HRiIAf4TJIlSx/AwM4CBAQCN40icT5SkzQAA\n",
       "AABJRU5ErkJggg==\n",
       "\" style=\"display:inline;vertical-align:middle;\" /></a></td></tr>\n",
       "<tr><td>4</td><td>Operation</td><td>operator:&nbsp;6<br>operands:&nbsp;7<br></td><td><a class=\"ProveItLink\" href=\"../7cdfdcfa3a45a2670adec158a64488ad526e39950/expr.ipynb\"><img src=\"data:image/png;base64,iVBORw0KGgoAAAANSUhEUgAAAE8AAAASBAMAAADoCp6cAAAAMFBMVEX///9ERETc3NyIiIjMzMyY\n",
       "mJh2dna6urqqqqpmZmYyMjIiIiIQEBBUVFTu7u4AAAD6+w4kAAAAAXRSTlMAQObYZgAAAORJREFU\n",
       "KM9j4LuzgQEdsH5CE2B8ACS4JmAqvIDK55MHKeRvgPEfoWvgU4BQd++DFNY/gIk3oyvkMIAy7EFq\n",
       "shiIVLiMIfI7qsLHhg+wKOT7/uz5D1SFCdwBWBRyfDFAs5r5AT82hZy/C9AUMjHUK2BRyG13G+yi\n",
       "WatW7Vm1ai1YPBtEcK5atfrUqlUXYArfO/A3KKD5eiU2X8czvC9IQFXI9wObwosM/AoGqAo5/mFT\n",
       "uJSBedoDVIWcG9AUzjy/MgA5ImAKuSegm4gGisEku4K+A1SAHYdCCPCfIMlAFHiYGYBNGADy/knI\n",
       "nDn0UwAAAABJRU5ErkJggg==\n",
       "\" style=\"display:inline;vertical-align:middle;\" /></a></td></tr>\n",
       "<tr><td>5</td><td>ExprTuple</td><td>8, 10, 9</td><td><a class=\"ProveItLink\" href=\"../b58ad8cad37a26bfa4619e96fe94ec90bcf6607a0/expr.ipynb\"><img src=\"data:image/png;base64,iVBORw0KGgoAAAANSUhEUgAAAD4AAAAVBAMAAADshECCAAAAMFBMVEX////c3NwiIiJERESqqqqY\n",
       "mJh2dnZmZmYQEBDu7u4yMjJUVFTMzMyIiIi6uroAAAAs73DqAAAAAXRSTlMAQObYZgAAAS1JREFU\n",
       "KM9jYCAE+C7glGJ9ACROMzDMboILMU+AM+MFGGqA1EogXg4T47RHyEczMHAxMPCCjP8Ck969fwKK\n",
       "BQkMHEABvp9wkfso8pwNDK+AFNsCHPIMJgxlQJIrgbX+AZo8511LIJnOsBRIzn+Z+d4BTZ6NQRVI\n",
       "ejH0AUn/s5jm32T4CiRfMPwDkvV6mPICfB+B5HmwvO5sTUz3sSmA5VuATvnD8IURQ56rAGy+KTAU\n",
       "PnD+Y2PghMtDlMwHuTgK6AMGbgOGj7wM8xWg8pyfwPL+E8D+ewQ0KYDheibDDJB7yvuXB3D2C4Dk\n",
       "i0DEOgYOAZiFD+ExDhZSh4QvMAqgIAAeKyDFjH9AfrgAiV8MeZ7vzCDnzwJiaagoLzyMgJo4zUpB\n",
       "rI1AzIg7ffEeYAAAWpVRpLVBayUAAAAASUVORK5CYII=\n",
       "\" style=\"display:inline;vertical-align:middle;\" /></a></td></tr>\n",
       "<tr><td>6</td><td>Literal</td><td></td><td><a class=\"ProveItLink\" href=\"../../../number/addition/__pv_it/3e6688136fa3c7aefbebe51301b7c3ebf0b69c440/expr.ipynb\"><img src=\"data:image/png;base64,iVBORw0KGgoAAAANSUhEUgAAAA4AAAAOBAMAAADtZjDiAAAAJFBMVEX///+6urpUVFQQEBAiIiIy\n",
       "MjJmZmaIiIiqqqrc3Nzu7u4AAACgHpL+AAAAAXRSTlMAQObYZgAAAB5JREFUCNdjYGBgWMkAAe2k\n",
       "0Kmhoc6hoUGk6BMHYgAHOwjcado9fwAAAABJRU5ErkJggg==\n",
       "\" style=\"display:inline;vertical-align:middle;\" /></a></td></tr>\n",
       "<tr><td>7</td><td>ExprTuple</td><td>8, 9, 10</td><td><a class=\"ProveItLink\" href=\"../27ab781bd224216e58f435473057179f5d3ba1450/expr.ipynb\"><img src=\"data:image/png;base64,iVBORw0KGgoAAAANSUhEUgAAAD0AAAAVBAMAAAAHs/uBAAAAMFBMVEX////c3NwiIiJERESqqqqY\n",
       "mJh2dnZmZmYQEBDu7u4yMjJUVFTMzMyIiIi6uroAAAAs73DqAAAAAXRSTlMAQObYZgAAATJJREFU\n",
       "KM9jYCAE+C7glIoDEacZGGY3IcRYP0IZlgwM7AeA9EogXo4kvwFCT/4JJBYwMPCCjP+CYfTs3SD5\n",
       "MAYGjglAJ/zEtJsXJDaDgeEVkGJbgEOe2YGhDEhxJbDWP4AIz708AUmerYBhKZCa/zLzvQNEOIEp\n",
       "AEmeZQFDH5DyPws3dQI/sjxfA8M/IFWvB5NnZHgvgCTP8wEsrztbE+6uJAZU+RYGBs4/DF8YYfLL\n",
       "GVDNNwUG2QfOf2wMDGCHc36BMsDyrAsY0hkYuA0YPvIycH4CCbP8hDJg/nsE9H4Aw/VMBs5+kMvY\n",
       "FSAM9opfpUCZBwwcAvCIBrGYCqAMMACGL2sCPOZAMvIHwAwoyIXGL0z+fIE5A5I8JyhepGE8YERP\n",
       "Tg+AMCCAG2QRI+70dYeBAQDm+09boZWleAAAAABJRU5ErkJggg==\n",
       "\" style=\"display:inline;vertical-align:middle;\" /></a></td></tr>\n",
       "<tr><td>8</td><td>Variable</td><td></td><td><a class=\"ProveItLink\" href=\"../../../__pv_it/1a7356cf6caf039e07a5436d90e972cbb5e92b0a0/expr.ipynb\"><img src=\"data:image/png;base64,iVBORw0KGgoAAAANSUhEUgAAAAoAAAAOBAMAAADkjZCYAAAAMFBMVEX///9ERETc3NyIiIjMzMyY\n",
       "mJh2dna6urqqqqpmZmYyMjIiIiIQEBBUVFTu7u4AAAD6+w4kAAAAAXRSTlMAQObYZgAAAFBJREFU\n",
       "CNdj4LuzgQEIuCaASP4GEFn/AERmgQiGZQyR3xn4vj97/oOB44sBUIDzdwGQ5La7DVT03oG/QYEh\n",
       "nuF9QQLDRQZ+BQOGpQzM0x4AAD+VFjuIiDKbAAAAAElFTkSuQmCC\n",
       "\" style=\"display:inline;vertical-align:middle;\" /></a></td></tr>\n",
       "<tr><td>9</td><td>Variable</td><td></td><td><a class=\"ProveItLink\" href=\"../../../__pv_it/612356038763a16ceac85a062629d016c986635c0/expr.ipynb\"><img src=\"data:image/png;base64,iVBORw0KGgoAAAANSUhEUgAAAAoAAAASBAMAAACQmVJ4AAAALVBMVEX////MzMyqqqpmZmYyMjK6\n",
       "uroiIiJ2dnZERESIiIju7u5UVFTc3NyYmJgAAAAeP2GyAAAAAXRSTlMAQObYZgAAAE1JREFUCNdj\n",
       "YGBg4H3DACI3MGADK2csAJIFbBcYGDgX8AFJHoa4AyCJMrC0M4jgegQimV6BSOYEEMlmwMDAeuCc\n",
       "AAODnEEzkL+iGKgTAMbaDxjCuhcwAAAAAElFTkSuQmCC\n",
       "\" style=\"display:inline;vertical-align:middle;\" /></a></td></tr>\n",
       "<tr><td>10</td><td>Literal</td><td></td><td><a class=\"ProveItLink\" href=\"../../../number/numeral/__pv_it/9be8badea4c35b9724062cecc501d17a3158d1d20/expr.ipynb\"><img src=\"data:image/png;base64,iVBORw0KGgoAAAANSUhEUgAAAAgAAAAPBAMAAAArJJMAAAAAHlBMVEX///+YmJgyMjIQEBBmZmaI\n",
       "iIhUVFTu7u5EREQAAAAw+MI4AAAAAXRSTlMAQObYZgAAACFJREFUCNdjYGBoZ2BgqJjOwFCWBiQY\n",
       "WEklWJwnOTKAAACjEQo8HvEr3AAAAABJRU5ErkJggg==\n",
       "\" style=\"display:inline;vertical-align:middle;\" /></a></td></tr>\n",
       "</table>\n"
      ],
      "text/plain": [
       "0. (k + 1 + j) = (k + j + 1)\n",
       "   core type: Operation\n",
       "   operator: 1\n",
       "   operands: 2\n",
       "1. =\n",
       "   core type: Literal\n",
       "   sub-expressions: \n",
       "2. (k + 1 + j , k + j + 1)\n",
       "   core type: ExprTuple\n",
       "   sub-expressions: 3, 4\n",
       "3. k + 1 + j\n",
       "   core type: Operation\n",
       "   operator: 6\n",
       "   operands: 5\n",
       "4. k + j + 1\n",
       "   core type: Operation\n",
       "   operator: 6\n",
       "   operands: 7\n",
       "5. (k , 1 , j)\n",
       "   core type: ExprTuple\n",
       "   sub-expressions: 8, 10, 9\n",
       "6. +\n",
       "   core type: Literal\n",
       "   sub-expressions: \n",
       "7. (k , j , 1)\n",
       "   core type: ExprTuple\n",
       "   sub-expressions: 8, 9, 10\n",
       "8. k\n",
       "   core type: Variable\n",
       "   sub-expressions: \n",
       "9. j\n",
       "   core type: Variable\n",
       "   sub-expressions: \n",
       "10. 1\n",
       "    core type: Literal\n",
       "    sub-expressions: "
      ]
     },
     "execution_count": 4,
     "metadata": {},
     "output_type": "execute_result"
    }
   ],
   "source": [
    "# display the expression information\n",
    "expr.exprInfo()"
   ]
  },
  {
   "cell_type": "code",
   "execution_count": null,
   "metadata": {},
   "outputs": [],
   "source": []
  }
 ],
 "metadata": {
  "kernelspec": {
   "display_name": "Python 3",
   "language": "python",
   "name": "python3"
  }
 },
 "nbformat": 4,
 "nbformat_minor": 0
}
