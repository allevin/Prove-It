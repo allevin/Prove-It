{
 "cells": [
  {
   "cell_type": "markdown",
   "metadata": {},
   "source": [
    "Expression of type <a class=\"ProveItLink\" href=\"../../../../../doc/html/api/proveit.Lambda.html\">Lambda</a>\n",
    "=======================\n",
    "# from context <a class=\"ProveItLink\" href=\"../../_context_.ipynb\">proveit.iteration</a>"
   ]
  },
  {
   "cell_type": "code",
   "execution_count": 1,
   "metadata": {},
   "outputs": [],
   "source": [
    "# import Expression classes needed to build the expression\n",
    "from proveit import Lambda\n",
    "from proveit._common_ import fx, fy, x, y\n",
    "from proveit.logic import Equals"
   ]
  },
  {
   "cell_type": "code",
   "execution_count": 2,
   "metadata": {},
   "outputs": [
    {
     "data": {
      "text/html": [
       "<strong id=\"expr\">expr:</strong> <a class=\"ProveItLink\" href=\"expr.ipynb\"><img src=\"data:image/png;base64,iVBORw0KGgoAAAANSUhEUgAAAPcAAAAVCAMAAACt3ojoAAAANlBMVEX///8UFBQNDQ2YmJhUVFQy\n",
       "MjIQEBBEREQiIiKqqqrMzMyIiIi6urrc3NxmZmZ2dnbu7u4AAACrLjZHAAAAAXRSTlMAQObYZgAA\n",
       "AnZJREFUWMPVl+2SqyAMht0FFeT7/m/26CqSxFDT3Y4zxz910vZJXniBMAz/7WPDk9m8k8WV/wi/\n",
       "Yhhc8g/KXvT5mrXTgYkfT1yEyNecirniHtU95vN1TrYoJn6GhMgbztjDPanbNRfm4rNl4s2iSTbd\n",
       "N5yKueCe1D216bCFjzdBk2x7uuFUzAX3oG4PzBYNHwcGthLmLadiKO6PunOKm4NCyexCsjBbPL2m\n",
       "9GR0pPGQ1i3Kuri7NcX77CwHl1QxFId048wSrWnwm9PcaTeDf6uB9UbV3ou7xPMKVUYN046wbQTj\n",
       "CB68ZTMcXFLF2LGvm2TuZQTgxe5Om+eO7twOmWFqqUIBB8sRTwfT7l95yQJnOKSkiqE4qJtk7h3C\n",
       "ALzO5uTQsH9/GfRM5UzQ3vB2dMQ3Z+i5pSnvbms7h5RUMRSH5htn7tkcge3m9qUNO5nvQfuB0Z3M\n",
       "VffPlLn3dLMcVJJEN8n8YpQbOG7rxjUTEd0RtMFT2+RmuEpbfLdtpsaM0EBoXlgOKknic5K5mxGC\n",
       "x4jTY90LHMVZ8aN7xFXY9yK3Z1eSjo3j4JIqRr3Y10jmfrsJwHH98K1THBxdEyBVBF3WJb61m/M6\n",
       "lsEN4nOM45CSBOcYzdxvFgA4z87FIrrU+dMLvuRLfAWlnJKrQzgKGguOQ0qqGIoDumnm/jATrckI\n",
       "+9T6Fzfy8Xf71D6nlvTxPvUAa7Mxrew/++VAabjSe3eQdLu/9jiopIq54H6hG4JN2q6Cb91DpzGb\n",
       "/v20Tvf9rtbjwJIqJn/iHgrBdnW8nBD0z6zEwMXx2AaBe3gOLKlirrhf6H5PKy7MyeJu+Qi/Yhic\n",
       "+8t97B8aFCBdt4CaSgAAAABJRU5ErkJggg==\n",
       "\" style=\"display:inline;vertical-align:middle;\" /></a><br>"
      ],
      "text/plain": [
       "expr: y -> (f(x) = f(y)) | x = y"
      ]
     },
     "execution_count": 2,
     "metadata": {},
     "output_type": "execute_result"
    }
   ],
   "source": [
    "# build up the expression from sub-expressions\n",
    "expr = Lambda(y, Equals(fx, fy), conditions = [Equals(x, y)])"
   ]
  },
  {
   "cell_type": "code",
   "execution_count": 3,
   "metadata": {},
   "outputs": [
    {
     "name": "stdout",
     "output_type": "stream",
     "text": [
      "Passed sanity check: built 'expr' is the same as the stored Expression.\n"
     ]
    }
   ],
   "source": [
    "# check that the built expression is the same as the stored expression\n",
    "%check_expr"
   ]
  },
  {
   "cell_type": "code",
   "execution_count": 4,
   "metadata": {},
   "outputs": [
    {
     "data": {
      "text/html": [
       "<table><tr><th>&nbsp;</th><th>core type</th><th>sub-expressions</th><th>expression</th></tr>\n",
       "<tr><td>0</td><td>Lambda</td><td>parameter:&nbsp;11<br>body:&nbsp;1<br>conditions:&nbsp;2<br></td><td><a class=\"ProveItLink\" href=\"expr.ipynb\"><img src=\"data:image/png;base64,iVBORw0KGgoAAAANSUhEUgAAAPcAAAAVCAMAAACt3ojoAAAANlBMVEX///8UFBQNDQ2YmJhUVFQy\n",
       "MjIQEBBEREQiIiKqqqrMzMyIiIi6urrc3NxmZmZ2dnbu7u4AAACrLjZHAAAAAXRSTlMAQObYZgAA\n",
       "AnZJREFUWMPVl+2SqyAMht0FFeT7/m/26CqSxFDT3Y4zxz910vZJXniBMAz/7WPDk9m8k8WV/wi/\n",
       "Yhhc8g/KXvT5mrXTgYkfT1yEyNecirniHtU95vN1TrYoJn6GhMgbztjDPanbNRfm4rNl4s2iSTbd\n",
       "N5yKueCe1D216bCFjzdBk2x7uuFUzAX3oG4PzBYNHwcGthLmLadiKO6PunOKm4NCyexCsjBbPL2m\n",
       "9GR0pPGQ1i3Kuri7NcX77CwHl1QxFId048wSrWnwm9PcaTeDf6uB9UbV3ou7xPMKVUYN046wbQTj\n",
       "CB68ZTMcXFLF2LGvm2TuZQTgxe5Om+eO7twOmWFqqUIBB8sRTwfT7l95yQJnOKSkiqE4qJtk7h3C\n",
       "ALzO5uTQsH9/GfRM5UzQ3vB2dMQ3Z+i5pSnvbms7h5RUMRSH5htn7tkcge3m9qUNO5nvQfuB0Z3M\n",
       "VffPlLn3dLMcVJJEN8n8YpQbOG7rxjUTEd0RtMFT2+RmuEpbfLdtpsaM0EBoXlgOKknic5K5mxGC\n",
       "x4jTY90LHMVZ8aN7xFXY9yK3Z1eSjo3j4JIqRr3Y10jmfrsJwHH98K1THBxdEyBVBF3WJb61m/M6\n",
       "lsEN4nOM45CSBOcYzdxvFgA4z87FIrrU+dMLvuRLfAWlnJKrQzgKGguOQ0qqGIoDumnm/jATrckI\n",
       "+9T6Fzfy8Xf71D6nlvTxPvUAa7Mxrew/++VAabjSe3eQdLu/9jiopIq54H6hG4JN2q6Cb91DpzGb\n",
       "/v20Tvf9rtbjwJIqJn/iHgrBdnW8nBD0z6zEwMXx2AaBe3gOLKlirrhf6H5PKy7MyeJu+Qi/Yhic\n",
       "+8t97B8aFCBdt4CaSgAAAABJRU5ErkJggg==\n",
       "\" style=\"display:inline;vertical-align:middle;\" /></a></td></tr>\n",
       "<tr><td>1</td><td>Operation</td><td>operator:&nbsp;7<br>operands:&nbsp;3<br></td><td><a class=\"ProveItLink\" href=\"../a259f8c79ae268631457bdb93da3933d98900e400/expr.ipynb\"><img src=\"data:image/png;base64,iVBORw0KGgoAAAANSUhEUgAAAHAAAAAVBAMAAABs93eRAAAAMFBMVEX///8yMjLMzMwQEBAiIiJm\n",
       "Zma6urqYmJiqqqp2dnZERETc3NyIiIhUVFTu7u4AAAAe+HC4AAAAAXRSTlMAQObYZgAAAbJJREFU\n",
       "OMtjYKAc5EDpMsJq2BPA1NuzG4Ak0wWoJKsCFh1oaoLA5Mr+AiDJ+ACmSACLRjQ1jCCC79sLEHUG\n",
       "rqgSUx+6GvYJQILjA5htB1f1GFMjuho+A5CfHEBMNoQDuRowNGKoWQG09bJvAEgKaDn3nNs9MQwM\n",
       "nAHo+pDUvIxk4P7HwDAVyOU/APYu0PMvGUoKTIDuAhscKAgCshCdCDUT8hl4gO5uBHL3g4OfGRg1\n",
       "ExjOMzQBXWSA4VS4GqaGEAauBQwMyUBuP8RMoMYHDLdATKYPGBrhavgYbMDW6wO5U+AaGYCi2DUi\n",
       "1HD8Y9BXgGhcCxZkBgUl9yegkVCnhriAgBdEI0INqwDDYQaIU20gcQD0eDXQ2+eAYYiZdBBqGAPA\n",
       "phSCEgVYEBgHHN+5DLgPYIsOhBoG1gts3xnA0cH2DyzI5sDAt2bezOOgUE9A14hQA1R09DeQKcbA\n",
       "wAN1mDWeJIeihtMBnORqQQ5HTdpz0PUhq7nC8BgYRJwHGAyfwHIKLMvwYYQNshpPhpVAxkOgIdFQ\n",
       "QW5YJuXdgK4RWU3PUVAI3EaW3gOlD+EpOqBqeBQYANoXb7Q1QywoAAAAAElFTkSuQmCC\n",
       "\" style=\"display:inline;vertical-align:middle;\" /></a></td></tr>\n",
       "<tr><td>2</td><td>ExprTuple</td><td>4</td><td><a class=\"ProveItLink\" href=\"../82fb4307ca164a925e64306878b44eca13cccb360/expr.ipynb\"><img src=\"data:image/png;base64,iVBORw0KGgoAAAANSUhEUgAAAD8AAAAVBAMAAAADRiu8AAAAMFBMVEX////c3NwiIiJERESqqqqY\n",
       "mJh2dnZmZmYQEBDu7u4yMjJUVFTMzMyIiIi6uroAAAAs73DqAAAAAXRSTlMAQObYZgAAARFJREFU\n",
       "KM9jYCAI+C7glosDEafxaGY/ACRW4jN+AQMD7wV8CsIYGDgm4FMwg4HhFV4fMDswlAEpsdsi19Fs\n",
       "4kxPYJCfwMBWwLAUyElgVeVQADl6FRhsADLZ+D4w3GdgYFnA0AfkMPB+YDmAasIRdgUGY2AgNTD8\n",
       "A5rAwG2AbvkEjgsMfxkYeD6AFAC9gulX/wk8f8AKWkA8+QMMIN+yK4EB2LgqBt4GsBWmDAysAvcZ\n",
       "eNGDYzkDM9CxrAsY0oGmBVgwyKJbUc3wPoAB5M1HDAyTr03LDUBXMPluvQADA9cDBg4BXKGYBAlq\n",
       "1gSsstwKnCDn5+KMbqYEZqBOTmB0M0hjVcBytw5kDsh+RjwJ4g4DAwALUz0NBgexYgAAAABJRU5E\n",
       "rkJggg==\n",
       "\" style=\"display:inline;vertical-align:middle;\" /></a></td></tr>\n",
       "<tr><td>3</td><td>ExprTuple</td><td>5, 6</td><td><a class=\"ProveItLink\" href=\"../c91a9c8e9b812667fa325e8103b08d0c89fbde130/expr.ipynb\"><img src=\"data:image/png;base64,iVBORw0KGgoAAAANSUhEUgAAAG8AAAAVBAMAAAC6Uq30AAAAMFBMVEX////c3NwiIiJERESqqqqY\n",
       "mJh2dnZmZmYQEBDu7u4yMjJUVFTMzMyIiIi6uroAAAAs73DqAAAAAXRSTlMAQObYZgAAAfFJREFU\n",
       "OMudVD0sBEEUftzt2nWWK0QjYhuVRuInEs3Vmr1KQSIXkVwlQaFAuIhKQjaICMVtI3KNUNFIrtAp\n",
       "XEXiJ34qNE6hkCDee7Mzs0c0Jvlmv5nvfTtvZ94swL9bfek3N+7+jhsOAafU2ccHilObjVq2r5IR\n",
       "raYoAAUaxUbfQHJqtVFjj5eOaoGAwxnkn1IgOeea0T77a71CGxCwfBp4PCU4B+e0MV6u1DYFnnkw\n",
       "yf2zju7StMat1GIpxhTxoYVDehBvumq8wKyyKs44ah8Xmp3NQKsPJg4RO6x+co/czhhtFi7Rr1ds\n",
       "KIWaWV+GW0w9YKzQbNUHhyA3wSnHcbMftbG1GGonmHQnHmiO8aW/n7gNiQ6iZ9roSc23SpRaXZnB\n",
       "RtOVIm5f6YdxRGmeX/ehjIu8UfssLoaZ+RWp9iltGpycSrVbr0LcSN6Cg8ZBOkxhXJYa7PIKRsDg\n",
       "fc+LokbupXuhRVDIu6JwpAYz8JIGeRwPNPsiygL52vnGGFXmHpXHK9+Kd6nB2s08lnvtHcOiyr8U\n",
       "STGPlNw9dU4Q0UZ0yWE5G/vdP0vb5I+mpYdiaaklXJu2aCxEAayCG8arq7MF0ri0qrTqTAzfbAcC\n",
       "0AxGVqbYLI18rR2+RBNKi9/M4TORFICqyK9Dcqf4+9chtWuBb55mi/S+UEqwAAAAAElFTkSuQmCC\n",
       "\" style=\"display:inline;vertical-align:middle;\" /></a></td></tr>\n",
       "<tr><td>4</td><td>Operation</td><td>operator:&nbsp;7<br>operands:&nbsp;8<br></td><td><a class=\"ProveItLink\" href=\"../11c10f4bba158f3c28c22f8b0eddbb73cf6480560/expr.ipynb\"><img src=\"data:image/png;base64,iVBORw0KGgoAAAANSUhEUgAAADMAAAANBAMAAAD2/0vEAAAAMFBMVEX///+6uroyMjJERETMzMwQ\n",
       "EBAiIiKYmJju7u5mZmaqqqpUVFSIiIh2dnbc3NwAAAAWgogoAAAAAXRSTlMAQObYZgAAAKRJREFU\n",
       "GNNjYHh7+tXJAwwogOPmBYb3DQwcF9jTWROAfE4lMNgAZPIyfmA4D6QYeD5wOaDq8uJMYDAGambg\n",
       "NmBAAw2sBxj+gBisB9ClGNY3sHwB0e8dGBpAdqWBAdiISQw8AQwM7A/OM/A0oOnSZGAGOmd9gSnD\n",
       "G3QDZzPIFzAwNJ/tvVOALtV8Zv4DBlzgGg5x7gSOKBxSbBeYL+CQ4jozEUgCABYeKl4jfnQmAAAA\n",
       "AElFTkSuQmCC\n",
       "\" style=\"display:inline;vertical-align:middle;\" /></a></td></tr>\n",
       "<tr><td>5</td><td>Operation</td><td>operator:&nbsp;9<br>operand:&nbsp;10<br></td><td><a class=\"ProveItLink\" href=\"../../../__pv_it/182d3f256e21dc75ea1ec3168bda49a871e4700a0/expr.ipynb\"><img src=\"data:image/png;base64,iVBORw0KGgoAAAANSUhEUgAAACkAAAAVBAMAAAAp9toTAAAAMFBMVEX///8yMjLMzMwQEBAiIiJm\n",
       "Zma6urqYmJiqqqp2dnZERETc3NyIiIhUVFTu7u4AAAAe+HC4AAAAAXRSTlMAQObYZgAAAPpJREFU\n",
       "GNNjYCAAcqB0GYR6e3YDkGS6ABVlVQBTK/sLgCTjA5gmARDB9+0FiDoDN6oSRHB8ALPt4KKPweY4\n",
       "gEg2AbgoVwMDA/tl3wCQ3AQGBu45t3tiGBg4QXz+AyAFjEAbXzKUFJgAjQRp2w92CXMCA8MEhvMM\n",
       "TUDDDID8frBh/EDRBwy3QEwmkPVT4KIMDDZw0bVgUWagxQzcnxj4oCbYQJwDtK2a5wPDOaCrBEBe\n",
       "A4sCncPxncuA+wDEZWz/wKJsDgx8a+bNPA5yJNAKHqinrJF9XAsyEB4mYDCHgcHwCZQND0k+oObK\n",
       "aCiHGxbqvBuQY2gPlD7EwAAAkqk1TOFGkRwAAAAASUVORK5CYII=\n",
       "\" style=\"display:inline;vertical-align:middle;\" /></a></td></tr>\n",
       "<tr><td>6</td><td>Operation</td><td>operator:&nbsp;9<br>operand:&nbsp;11<br></td><td><a class=\"ProveItLink\" href=\"../../../__pv_it/e4f99fbf53c5e24e1c1e622903a7736f418f26ef0/expr.ipynb\"><img src=\"data:image/png;base64,iVBORw0KGgoAAAANSUhEUgAAACgAAAAVBAMAAADGNLEtAAAAMFBMVEX///8yMjLMzMwQEBAiIiJm\n",
       "Zma6urqYmJiqqqp2dnZERETc3NyIiIhUVFTu7u4AAAAe+HC4AAAAAXRSTlMAQObYZgAAAQlJREFU\n",
       "GNNjYMAPciAUewKYent2A5BkugCVDAKTK/sLgCTjA6ggI4jg+/YCRJ2BGcM+AUhwfACz7WCCfAZA\n",
       "gtUBxGQTgNu4Aqj6sm8ASAqo6WUkA/c/BoapQC7/AbDxQMsm5DPwAM1qBHL3K4AEmRMYmBpCGLgW\n",
       "MDAkA7n9YIP4Exj4GGzA2vSB3CkwQQaOfwz6ChDBtWBB5gagZQIMhxkg2m3AglxAixgDwCoKQR4C\n",
       "C3IC3cV6ge07A9hJbP/AgmxAL/CtOfobyBRjYOCBesUarN4B7M1akGEgUMnAcIXhMdA6zgMMhk9g\n",
       "IfaAwZNhJZDxEKggGirIfYGh5ygo1G8jR8ceCMWjwAAAl6o3tGQ/mUwAAAAASUVORK5CYII=\n",
       "\" style=\"display:inline;vertical-align:middle;\" /></a></td></tr>\n",
       "<tr><td>7</td><td>Literal</td><td></td><td><a class=\"ProveItLink\" href=\"../../../logic/equality/__pv_it/2fb26078095930560931daa0500ce419a39ea6cd0/expr.ipynb\"><img src=\"data:image/png;base64,iVBORw0KGgoAAAANSUhEUgAAAA4AAAAFBAMAAACHocAhAAAAFVBMVEX///9EREQiIiJUVFQyMjJm\n",
       "ZmYAAADubVkoAAAAAXRSTlMAQObYZgAAABRJREFUCNdjCHEBAWcGXCBICQQUAUpuAwlgGKrkAAAA\n",
       "AElFTkSuQmCC\n",
       "\" style=\"display:inline;vertical-align:middle;\" /></a></td></tr>\n",
       "<tr><td>8</td><td>ExprTuple</td><td>10, 11</td><td><a class=\"ProveItLink\" href=\"../a6a2ac9310c73e21661c7634808321702fb219240/expr.ipynb\"><img src=\"data:image/png;base64,iVBORw0KGgoAAAANSUhEUgAAACwAAAAVBAMAAADP3xFXAAAAMFBMVEX////c3NwiIiJERESqqqqY\n",
       "mJh2dnZmZmYQEBDu7u4yMjJUVFTMzMyIiIi6uroAAAAs73DqAAAAAXRSTlMAQObYZgAAAQtJREFU\n",
       "GNNjYMAB+C6gi7A+ABKnMVXWAPFKTGEuBgbeC5jCrAkMHBMwhTkbGF5hc4YJQxmQFLstch1i1rQy\n",
       "BsafDAzpDEuBehJYVTkUwMIJ7xl4PzAweDH0MTCwAZksB0CiPA5FDMwGDAwvGP4BVTNwG0DtYuhl\n",
       "4Acadx4kzMDAAXMly0+G8wdAwi0gnvwBBog72Rcw3GAAGWIKdL3AfQbeCWAJrgIGayAVBXQLg3+A\n",
       "BYMsA+cnkOoNfF8ZQA58xMAw+dq03AAGzn4BoJ221z8ChdcxcAjAQxjMYlMAex4YLLAAAuJNDDMc\n",
       "gFIXkAIWJKzGYAYkZwGxNEwY5Hbf66CY2QjEjBgBznuAAQAt5DtyKXSr1gAAAABJRU5ErkJggg==\n",
       "\" style=\"display:inline;vertical-align:middle;\" /></a></td></tr>\n",
       "<tr><td>9</td><td>Variable</td><td></td><td><a class=\"ProveItLink\" href=\"../../../__pv_it/4d51ee1e62d011d06d4528b97697bf3da60c9de60/expr.ipynb\"><img src=\"data:image/png;base64,iVBORw0KGgoAAAANSUhEUgAAAAsAAAASBAMAAAB/WzlGAAAAMFBMVEX///8yMjLMzMwQEBAiIiJm\n",
       "Zma6urqYmJiqqqp2dnZERETc3NyIiIhUVFTu7u4AAAAe+HC4AAAAAXRSTlMAQObYZgAAAFVJREFU\n",
       "CNdjYGBgeHt2A5BkWNlfACT5vr0AcTg+gEgGVgcQyX7ZNwBE8x8AC+5XAFP9YJJhCoRaC6FswCTf\n",
       "NzDF9g9M8QiAyFoukPEMhk/AYpXRIBIAEwsRcZ82juYAAAAASUVORK5CYII=\n",
       "\" style=\"display:inline;vertical-align:middle;\" /></a></td></tr>\n",
       "<tr><td>10</td><td>Variable</td><td></td><td><a class=\"ProveItLink\" href=\"../../../__pv_it/530be409e3083890784cf1d7b28c9e67e90af9360/expr.ipynb\"><img src=\"data:image/png;base64,iVBORw0KGgoAAAANSUhEUgAAAAsAAAAJBAMAAAAWSsseAAAAKlBMVEX///9ERETMzMwQEBAiIiKY\n",
       "mJju7u5mZmaqqqpUVFSIiIh2dnbc3NwAAAA/vyDhAAAAAXRSTlMAQObYZgAAAENJREFUCNdjYDi9\n",
       "8sTyBQxsG1hdmR0YuBm4LnAoMLAxcAowgADzAjB1VoEhgYH1wFoGrgSG3gBhhlMMDImrs3cFMAAA\n",
       "t0YN+iTRa+sAAAAASUVORK5CYII=\n",
       "\" style=\"display:inline;vertical-align:middle;\" /></a></td></tr>\n",
       "<tr><td>11</td><td>Variable</td><td></td><td><a class=\"ProveItLink\" href=\"../../../__pv_it/f8b9edf8e16034727f0aad55bb83e392c3db40d40/expr.ipynb\"><img src=\"data:image/png;base64,iVBORw0KGgoAAAANSUhEUgAAAAsAAAANBAMAAACN24kIAAAAMFBMVEX///+YmJhUVFQyMjIQEBBE\n",
       "REQiIiKqqqrMzMyIiIi6urrc3NxmZmZ2dnbu7u4AAADXeCicAAAAAXRSTlMAQObYZgAAAFhJREFU\n",
       "CNdj4LtzgWH/AwZerg8M8xkY2nkSGEIZGB6wTGD4ycDAUP+A4weQOszA6QCkbBhYFYDUIYb1AkDq\n",
       "6czzGxhA4BoQMyXwuQMptgusF4AU+8xTQBIAUqMVoSp/SLMAAAAASUVORK5CYII=\n",
       "\" style=\"display:inline;vertical-align:middle;\" /></a></td></tr>\n",
       "</table>\n"
      ],
      "text/plain": [
       "0. y -> (f(x) = f(y)) | x = y\n",
       "   core type: Lambda\n",
       "   parameter: 11\n",
       "   body: 1\n",
       "   conditions: 2\\n1. f(x) = f(y)\n",
       "   core type: Operation\n",
       "   operator: 7\n",
       "   operands: 3\n",
       "2. (x = y)\n",
       "   core type: ExprTuple\n",
       "   sub-expressions: 4\n",
       "3. (f(x) , f(y))\n",
       "   core type: ExprTuple\n",
       "   sub-expressions: 5, 6\n",
       "4. x = y\n",
       "   core type: Operation\n",
       "   operator: 7\n",
       "   operands: 8\n",
       "5. f(x)\n",
       "   core type: Operation\n",
       "   operator: 9\n",
       "   operand: 10\n",
       "6. f(y)\n",
       "   core type: Operation\n",
       "   operator: 9\n",
       "   operand: 11\n",
       "7. =\n",
       "   core type: Literal\n",
       "   sub-expressions: \n",
       "8. (x , y)\n",
       "   core type: ExprTuple\n",
       "   sub-expressions: 10, 11\n",
       "9. f\n",
       "   core type: Variable\n",
       "   sub-expressions: \n",
       "10. x\n",
       "    core type: Variable\n",
       "    sub-expressions: \n",
       "11. y\n",
       "    core type: Variable\n",
       "    sub-expressions: "
      ]
     },
     "execution_count": 4,
     "metadata": {},
     "output_type": "execute_result"
    }
   ],
   "source": [
    "# display the expression information\n",
    "expr.exprInfo()"
   ]
  },
  {
   "cell_type": "code",
   "execution_count": null,
   "metadata": {},
   "outputs": [],
   "source": []
  }
 ],
 "metadata": {
  "kernelspec": {
   "display_name": "Python 3",
   "language": "python",
   "name": "python3"
  }
 },
 "nbformat": 4,
 "nbformat_minor": 0
}
