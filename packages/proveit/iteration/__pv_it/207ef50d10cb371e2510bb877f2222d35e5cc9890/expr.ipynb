{
 "cells": [
  {
   "cell_type": "markdown",
   "metadata": {},
   "source": [
    "Expression of type <a class=\"ProveItLink\" href=\"../../../../../doc/html/api/proveit.logic.Forall.html\">Forall</a>\n",
    "=======================\n",
    "# from context <a class=\"ProveItLink\" href=\"../../_context_.ipynb\">proveit.iteration</a>"
   ]
  },
  {
   "cell_type": "code",
   "execution_count": 1,
   "metadata": {},
   "outputs": [],
   "source": [
    "# import Expression classes needed to build the expression\n",
    "from proveit._common_ import x, y, z\n",
    "from proveit.logic import Equals, Forall"
   ]
  },
  {
   "cell_type": "code",
   "execution_count": 2,
   "metadata": {},
   "outputs": [
    {
     "data": {
      "text/html": [
       "<strong id=\"expr\">expr:</strong> <a class=\"ProveItLink\" href=\"expr.ipynb\"><img src=\"data:image/png;base64,iVBORw0KGgoAAAANSUhEUgAAAJEAAAAXBAMAAAD5H7DVAAAAMFBMVEX///8QEBC6urrMzMxUVFRm\n",
       "ZmZERETc3NwyMjKqqqp2dnaIiIiYmJgiIiLu7u4AAAAU9Wx4AAAAAXRSTlMAQObYZgAAAdhJREFU\n",
       "OMtjYKAaeEC8Um3cUoeA+AKIcZoYg5gdcMuxGjAwrAQx+ogxiQOf8xsYGMqAFHsCMSbtxid5CmIT\n",
       "6wRiTJLDJ/mQgYFneXl5LTEGMTXgk2UDOuZbWtotYkxiXQAMhtXus6PRbRBUqGZg4ApgYHBmYEhH\n",
       "COMJ8AMMDK8Yzh6QBXEiOkCgBcQsOx0KDGZOoItVGPgQ7mbDbRKjAgPDAob9DJMxEuQTYFAzCTAw\n",
       "8DJwHyDGJH4FkC43TAl2UDpj/sAANIf3AbEmMTBIY0qoMkBN4mswAbJs+yoRJmknwKOc+cZzaBJh\n",
       "BNHsnxn4QJzYuyBwDcTkXAAOYKDvGNKdgITT0QVwk/g2fGcWYAEFaTcDi04UzLnAMDjO/YFhH5qT\n",
       "ZjEwAL3HAwrrqeCs9xLhO/ZHF7jhqZ4PlmqB8cz5h02AfQNabuyJOaEASQUMjCA5dgWkcGJZwAJX\n",
       "XwRPIBcY+LLXrdqDnswYzkuC0ghIPw8owI0ZzBEmMSowGrBBfMdswFwA1SNOILdA3eilmYBkkoE+\n",
       "TMJk0TSkTIobrIYxuJkkChAmcXpnwCQ2KLYTU6rwYWRKiEnlDN4MOFIgDsBSgN2kLOz5vhq3SZsZ\n",
       "sJs0exfl9QML+VoBYplnk5XoXKwAAAAASUVORK5CYII=\n",
       "\" style=\"display:inline;vertical-align:middle;\" /></a><br>"
      ],
      "text/plain": [
       "expr: forall_{z | y = z} (x = z)"
      ]
     },
     "execution_count": 2,
     "metadata": {},
     "output_type": "execute_result"
    }
   ],
   "source": [
    "# build up the expression from sub-expressions\n",
    "expr = Forall([z], Equals(x, z), conditions = [Equals(y, z)])"
   ]
  },
  {
   "cell_type": "code",
   "execution_count": 3,
   "metadata": {},
   "outputs": [
    {
     "name": "stdout",
     "output_type": "stream",
     "text": [
      "Passed sanity check: built 'expr' is the same as the stored Expression.\n"
     ]
    }
   ],
   "source": [
    "# check that the built expression is the same as the stored expression\n",
    "%check_expr"
   ]
  },
  {
   "cell_type": "code",
   "execution_count": 4,
   "metadata": {},
   "outputs": [
    {
     "data": {
      "text/html": [
       "<table><tr><th>&nbsp;</th><th>core type</th><th>sub-expressions</th><th>expression</th></tr>\n",
       "<tr><td>0</td><td>Operation</td><td>operator:&nbsp;1<br>operand:&nbsp;2<br></td><td><a class=\"ProveItLink\" href=\"expr.ipynb\"><img src=\"data:image/png;base64,iVBORw0KGgoAAAANSUhEUgAAAJEAAAAXBAMAAAD5H7DVAAAAMFBMVEX///8QEBC6urrMzMxUVFRm\n",
       "ZmZERETc3NwyMjKqqqp2dnaIiIiYmJgiIiLu7u4AAAAU9Wx4AAAAAXRSTlMAQObYZgAAAdhJREFU\n",
       "OMtjYKAaeEC8Um3cUoeA+AKIcZoYg5gdcMuxGjAwrAQx+ogxiQOf8xsYGMqAFHsCMSbtxid5CmIT\n",
       "6wRiTJLDJ/mQgYFneXl5LTEGMTXgk2UDOuZbWtotYkxiXQAMhtXus6PRbRBUqGZg4ApgYHBmYEhH\n",
       "COMJ8AMMDK8Yzh6QBXEiOkCgBcQsOx0KDGZOoItVGPgQ7mbDbRKjAgPDAob9DJMxEuQTYFAzCTAw\n",
       "8DJwHyDGJH4FkC43TAl2UDpj/sAANIf3AbEmMTBIY0qoMkBN4mswAbJs+yoRJmknwKOc+cZzaBJh\n",
       "BNHsnxn4QJzYuyBwDcTkXAAOYKDvGNKdgITT0QVwk/g2fGcWYAEFaTcDi04UzLnAMDjO/YFhH5qT\n",
       "ZjEwAL3HAwrrqeCs9xLhO/ZHF7jhqZ4PlmqB8cz5h02AfQNabuyJOaEASQUMjCA5dgWkcGJZwAJX\n",
       "XwRPIBcY+LLXrdqDnswYzkuC0ghIPw8owI0ZzBEmMSowGrBBfMdswFwA1SNOILdA3eilmYBkkoE+\n",
       "TMJk0TSkTIobrIYxuJkkChAmcXpnwCQ2KLYTU6rwYWRKiEnlDN4MOFIgDsBSgN2kLOz5vhq3SZsZ\n",
       "sJs0exfl9QML+VoBYplnk5XoXKwAAAAASUVORK5CYII=\n",
       "\" style=\"display:inline;vertical-align:middle;\" /></a></td></tr>\n",
       "<tr><td>1</td><td>Literal</td><td></td><td><a class=\"ProveItLink\" href=\"../../../logic/boolean/quantification/universal/__pv_it/265f8c02ac1094d56e0e6410a1c1fd3500dc9f540/expr.ipynb\"><img src=\"data:image/png;base64,iVBORw0KGgoAAAANSUhEUgAAAAwAAAAQBAMAAADQT4M0AAAAMFBMVEX///8QEBC6urrMzMxUVFRm\n",
       "ZmZERETc3NwyMjKqqqp2dnaIiIiYmJgiIiLu7u4AAAAU9Wx4AAAAAXRSTlMAQObYZgAAAFhJREFU\n",
       "CNdjeMAABhdAxGmGlSCqj6EMSLInMHAAJVknMPAsLy+vBYp8S0u7BaScGRjSgZQKA18DkOJl4D4A\n",
       "pLgP8IJM4mswARuX7gSmpoKNZWDcAKZ4gCoAgTQTILaSE58AAAAASUVORK5CYII=\n",
       "\" style=\"display:inline;vertical-align:middle;\" /></a></td></tr>\n",
       "<tr><td>2</td><td>Lambda</td><td>parameter:&nbsp;11<br>body:&nbsp;3<br>conditions:&nbsp;4<br></td><td><a class=\"ProveItLink\" href=\"../8e4e48a33c45560264f3d68cd878c7b52f7f02e50/expr.ipynb\"><img src=\"data:image/png;base64,iVBORw0KGgoAAAANSUhEUgAAALUAAAAVCAMAAAA3kV91AAAANlBMVEX///8UFBQNDQ0iIiIyMjLM\n",
       "zMx2dnaqqqpUVFTu7u5mZmaYmJhERESIiIjc3NwQEBC6uroAAAASmHVxAAAAAXRSTlMAQObYZgAA\n",
       "AalJREFUSMfFlumWgyAMhZmRHcLy/i87UB0NbWU7tfLL08qXa3IDIeS2Jdz3YgWY2WXC6288fE00\n",
       "k3P7NLtTNVWzG29UDTC70/D7VPvZVBPlb1Md6PxeKz6rOngfiIO3BhRFLL2V2XGQToCGATTX56oV\n",
       "f5BdVN08Zw1obf//WMr3JAZRswVJPl0M8fu7mqJ1HDMYLei5ak5CzF0T+3lZljrEPalWEl0GPmxB\n",
       "1giCtcyM0MGfqmaC6BzW2gFe+gZ0Cv/+LMXy8cjJ9pi3Sdtnvx3N4qnqxPO56hEGeCRgyz3lmkjU\n",
       "NOgDfN8ZeKArqlPVsqNZZAM8URylT6o1nhb83pvuEWG3lcbVQVVA6IpDso+z6Y432rz1Sb5XzYqU\n",
       "2rUbjVsbB1otj9Gm0o2E5hTa5rRw8Bg12hi6I+DF/yiQXstpiE15cS2TFOjayUd0UhKi6eclmIle\n",
       "9Ln0UQhlgSvOoRWkRNNQUZ2QoKMb4Y3c6NMzcftG58tVV/rrDNS7OFRUyyV/lrhK9fSkqqqT6pKS\n",
       "Yflloov7aGRJV1MtkqsvnQDd1IQNb+4PmNf5ByloEM66ajqfAAAAAElFTkSuQmCC\n",
       "\" style=\"display:inline;vertical-align:middle;\" /></a></td></tr>\n",
       "<tr><td>3</td><td>Operation</td><td>operator:&nbsp;8<br>operands:&nbsp;5<br></td><td><a class=\"ProveItLink\" href=\"../ca1b60a64007f23ef51168694995c77eb17084e20/expr.ipynb\"><img src=\"data:image/png;base64,iVBORw0KGgoAAAANSUhEUgAAADEAAAAJBAMAAABpm9nvAAAAMFBMVEX///+6uroyMjJERETMzMwQ\n",
       "EBAiIiKYmJju7u5mZmaqqqpUVFSIiIh2dnbc3NwAAAAWgogoAAAAAXRSTlMAQObYZgAAAIFJREFU\n",
       "CNdjYHh7+tXJAwyoQDSQ7wADxwX2dNYEIG+SEghogyT4zE9OZmDgZeD5wOWAqoWDgWMHiOQ2YMAA\n",
       "r8Ek6wEMCcYJYOq9A0MDkJqWBgLJYKG1IIL9wXkGngZULVwXGLgZGNYXmDK8QTPMqbJckYGh+Wzv\n",
       "nQI0mQnsXxcwAACmwyAUZ/7wwwAAAABJRU5ErkJggg==\n",
       "\" style=\"display:inline;vertical-align:middle;\" /></a></td></tr>\n",
       "<tr><td>4</td><td>ExprTuple</td><td>6</td><td><a class=\"ProveItLink\" href=\"../0ec2b9fe216e5caa891f9440b5932a33b29d291e0/expr.ipynb\"><img src=\"data:image/png;base64,iVBORw0KGgoAAAANSUhEUgAAAD0AAAAVBAMAAAAHs/uBAAAAMFBMVEX////c3NwiIiJERESqqqqY\n",
       "mJh2dnZmZmYQEBDu7u4yMjJUVFTMzMyIiIi6uroAAAAs73DqAAAAAXRSTlMAQObYZgAAAQVJREFU\n",
       "KM9jYCAE+C7glIoDEadxa2U/ACRW4jF7AQMD7wU88mEMDBwT8MjPYGB4hc/tzA4MZQwMnOkJDPLo\n",
       "xrzoY7zAwFbAsJSBgY3vA8N9kFjVKhBYDWIyml4vZmBgWcDQx8BwhF2BwRhNOycD505g2DQw/GNg\n",
       "mMBxgeEvht3SQMzzASTP4D+B5w9GsBZA5FtA9jLwNoDEipRAQBks7wZW1MBgCqSWMzBvQNPOksDA\n",
       "zcDAuoAhHcipZngfgCZ/Kjx0HQPIf4+AnMl36wXQ5AtYfzgwMHA9YOAAyyThDF9WoEUKnC3Y5XPB\n",
       "8cuUwJyAVZpzATgcWO7WYdfODbKbEXcCuMPAAACUvDnEb/bV5QAAAABJRU5ErkJggg==\n",
       "\" style=\"display:inline;vertical-align:middle;\" /></a></td></tr>\n",
       "<tr><td>5</td><td>ExprTuple</td><td>7, 11</td><td><a class=\"ProveItLink\" href=\"../0b2afcdb3e359c436e077617831aa49d50dd87000/expr.ipynb\"><img src=\"data:image/png;base64,iVBORw0KGgoAAAANSUhEUgAAACwAAAAVBAMAAADP3xFXAAAAMFBMVEX////c3NwiIiJERESqqqqY\n",
       "mJh2dnZmZmYQEBDu7u4yMjJUVFTMzMyIiIi6uroAAAAs73DqAAAAAXRSTlMAQObYZgAAAOpJREFU\n",
       "GNNjYMAB+C6gi7A+ABKnMVXWAPFKTGEuBgbeC5jCrAkMHBMwhTkbGF5hc4YJQxmQFLstch1q1os+\n",
       "RiArnWEpUE8CqyqHAliU0fR6MZDyYuhjYGBj4P3AcgBiKgPnTpAehn8gNrcB3FhpEHEeJMzAwAF3\n",
       "JV8BRLgFRMkfYIC60w1iMYMp0PUC9xl4J4AlWBIYuIFUFNAtDP4BFgyyDJyfgPxT4aHrGEAOfMTA\n",
       "MPnatNwABs5+AQaGAtYfDkDhdQwcAnDbBJA8DwwWWADBHcl2ASlgEcKzYO4HAUQIbwQFA0aA8x5g\n",
       "AACpBTHTmw8wGwAAAABJRU5ErkJggg==\n",
       "\" style=\"display:inline;vertical-align:middle;\" /></a></td></tr>\n",
       "<tr><td>6</td><td>Operation</td><td>operator:&nbsp;8<br>operands:&nbsp;9<br></td><td><a class=\"ProveItLink\" href=\"../50e39530c23f80b651235b9a222d130dee5bcb1e0/expr.ipynb\"><img src=\"data:image/png;base64,iVBORw0KGgoAAAANSUhEUgAAADEAAAANBAMAAADyCpv5AAAAMFBMVEX///+YmJhUVFQyMjIQEBBE\n",
       "REQiIiKqqqrMzMyIiIi6urrc3NxmZmZ2dnbu7u4AAADXeCicAAAAAXRSTlMAQObYZgAAAJVJREFU\n",
       "GNNj4LtzgWH/AwZUsMSLewIDL9cHhvkg3mFjEDACMbkD5xxlYGjnSWAIRdPCx8Cnx8DwgGUCw08G\n",
       "dLAJRNQ/4PiBLsF1AGw+A6cDiD6WBgKpYJlaMGnDwKqApoX9AgMTkDrEsF4ATaZZRtAKSD2deX4D\n",
       "mswBxi8FYMY1BqyAKYHPHbsM2wXWC9hl2Geewi4BADghJC8fgixKAAAAAElFTkSuQmCC\n",
       "\" style=\"display:inline;vertical-align:middle;\" /></a></td></tr>\n",
       "<tr><td>7</td><td>Variable</td><td></td><td><a class=\"ProveItLink\" href=\"../../../__pv_it/530be409e3083890784cf1d7b28c9e67e90af9360/expr.ipynb\"><img src=\"data:image/png;base64,iVBORw0KGgoAAAANSUhEUgAAAAsAAAAJBAMAAAAWSsseAAAAKlBMVEX///9ERETMzMwQEBAiIiKY\n",
       "mJju7u5mZmaqqqpUVFSIiIh2dnbc3NwAAAA/vyDhAAAAAXRSTlMAQObYZgAAAENJREFUCNdjYDi9\n",
       "8sTyBQxsG1hdmR0YuBm4LnAoMLAxcAowgADzAjB1VoEhgYH1wFoGrgSG3gBhhlMMDImrs3cFMAAA\n",
       "t0YN+iTRa+sAAAAASUVORK5CYII=\n",
       "\" style=\"display:inline;vertical-align:middle;\" /></a></td></tr>\n",
       "<tr><td>8</td><td>Literal</td><td></td><td><a class=\"ProveItLink\" href=\"../../../logic/equality/__pv_it/2fb26078095930560931daa0500ce419a39ea6cd0/expr.ipynb\"><img src=\"data:image/png;base64,iVBORw0KGgoAAAANSUhEUgAAAA4AAAAFBAMAAACHocAhAAAAFVBMVEX///9EREQiIiJUVFQyMjJm\n",
       "ZmYAAADubVkoAAAAAXRSTlMAQObYZgAAABRJREFUCNdjCHEBAWcGXCBICQQUAUpuAwlgGKrkAAAA\n",
       "AElFTkSuQmCC\n",
       "\" style=\"display:inline;vertical-align:middle;\" /></a></td></tr>\n",
       "<tr><td>9</td><td>ExprTuple</td><td>10, 11</td><td><a class=\"ProveItLink\" href=\"../1ba9cd67f202dbea908cf31db96755ce36201b140/expr.ipynb\"><img src=\"data:image/png;base64,iVBORw0KGgoAAAANSUhEUgAAACsAAAAVBAMAAAAtAwouAAAAMFBMVEX////c3NwiIiJERESqqqqY\n",
       "mJh2dnZmZmYQEBDu7u4yMjJUVFTMzMyIiIi6uroAAAAs73DqAAAAAXRSTlMAQObYZgAAAQdJREFU\n",
       "GNNjYMAB+C6gi8SBiNMYCtkPAImVmAYsYGDgvYApHMbAwDEBU3gGA8MrLK5gdmAoY2DgTE9gkIdo\n",
       "4ut4IMvAwFbAsBRI8n1guA9RJxxbbsDAwLKAoY+B4Qi7AoMxRHgCw2ygNr4Ghn9ANscFhr9QYxk3\n",
       "AAmeDyBhBv8JPH+gws8ZIMItQKqKgbcBIsqSALa4gcEUSC1nYN7AwAkScGNgAJrCuoAhHcipZngf\n",
       "wDBfAah7aWnUA7ADHwGFJ9+tF2CY8REYSAzxIEO5HjBwCIA0JwHxQ2TPsyYwcCtwgtQEwIVzwQHL\n",
       "lMCcgCzMCQxYBmkGlrt1QJoXrpgbZC4jRoDfYWAAADdMON26mSCyAAAAAElFTkSuQmCC\n",
       "\" style=\"display:inline;vertical-align:middle;\" /></a></td></tr>\n",
       "<tr><td>10</td><td>Variable</td><td></td><td><a class=\"ProveItLink\" href=\"../../../__pv_it/f8b9edf8e16034727f0aad55bb83e392c3db40d40/expr.ipynb\"><img src=\"data:image/png;base64,iVBORw0KGgoAAAANSUhEUgAAAAsAAAANBAMAAACN24kIAAAAMFBMVEX///+YmJhUVFQyMjIQEBBE\n",
       "REQiIiKqqqrMzMyIiIi6urrc3NxmZmZ2dnbu7u4AAADXeCicAAAAAXRSTlMAQObYZgAAAFhJREFU\n",
       "CNdj4LtzgWH/AwZerg8M8xkY2nkSGEIZGB6wTGD4ycDAUP+A4weQOszA6QCkbBhYFYDUIYb1AkDq\n",
       "6czzGxhA4BoQMyXwuQMptgusF4AU+8xTQBIAUqMVoSp/SLMAAAAASUVORK5CYII=\n",
       "\" style=\"display:inline;vertical-align:middle;\" /></a></td></tr>\n",
       "<tr><td>11</td><td>Variable</td><td></td><td><a class=\"ProveItLink\" href=\"../../../__pv_it/251502494639118b4892de8e9d720a5fcce840e10/expr.ipynb\"><img src=\"data:image/png;base64,iVBORw0KGgoAAAANSUhEUgAAAAoAAAAJBAMAAAD5iKAgAAAALVBMVEX///8yMjLMzMx2dnaqqqpU\n",
       "VFTu7u5mZmaYmJhERESIiIjc3NwQEBC6uroAAAB+iRisAAAAAXRSTlMAQObYZgAAADlJREFUCNdj\n",
       "YOA9c2EXA8POrvIJDAwJDKkJDAwM3AFAguE6iGAxAJHODAwBDEwSFY0XGNgZ+o4wAABKtAsIcBKm\n",
       "agAAAABJRU5ErkJggg==\n",
       "\" style=\"display:inline;vertical-align:middle;\" /></a></td></tr>\n",
       "</table>\n"
      ],
      "text/plain": [
       "0. forall_{z | y = z} (x = z)\n",
       "   core type: Operation\n",
       "   operator: 1\n",
       "   operand: 2\n",
       "1. forall\n",
       "   core type: Literal\n",
       "   sub-expressions: \n",
       "2. z -> (x = z) | y = z\n",
       "   core type: Lambda\n",
       "   parameter: 11\n",
       "   body: 3\n",
       "   conditions: 4\\n3. x = z\n",
       "   core type: Operation\n",
       "   operator: 8\n",
       "   operands: 5\n",
       "4. (y = z)\n",
       "   core type: ExprTuple\n",
       "   sub-expressions: 6\n",
       "5. (x , z)\n",
       "   core type: ExprTuple\n",
       "   sub-expressions: 7, 11\n",
       "6. y = z\n",
       "   core type: Operation\n",
       "   operator: 8\n",
       "   operands: 9\n",
       "7. x\n",
       "   core type: Variable\n",
       "   sub-expressions: \n",
       "8. =\n",
       "   core type: Literal\n",
       "   sub-expressions: \n",
       "9. (y , z)\n",
       "   core type: ExprTuple\n",
       "   sub-expressions: 10, 11\n",
       "10. y\n",
       "    core type: Variable\n",
       "    sub-expressions: \n",
       "11. z\n",
       "    core type: Variable\n",
       "    sub-expressions: "
      ]
     },
     "execution_count": 4,
     "metadata": {},
     "output_type": "execute_result"
    }
   ],
   "source": [
    "# display the expression information\n",
    "expr.exprInfo()"
   ]
  },
  {
   "cell_type": "code",
   "execution_count": null,
   "metadata": {},
   "outputs": [],
   "source": []
  }
 ],
 "metadata": {
  "kernelspec": {
   "display_name": "Python 3",
   "language": "python",
   "name": "python3"
  }
 },
 "nbformat": 4,
 "nbformat_minor": 0
}
