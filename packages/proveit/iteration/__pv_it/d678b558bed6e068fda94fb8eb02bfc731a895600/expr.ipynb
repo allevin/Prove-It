{
 "cells": [
  {
   "cell_type": "markdown",
   "metadata": {},
   "source": [
    "Expression of type <a class=\"ProveItLink\" href=\"../../../../../doc/html/api/proveit.logic.Equals.html\">Equals</a>\n",
    "=======================\n",
    "# from context <a class=\"ProveItLink\" href=\"../../_context_.ipynb\">proveit.iteration</a>"
   ]
  },
  {
   "cell_type": "code",
   "execution_count": 1,
   "metadata": {},
   "outputs": [],
   "source": [
    "# import Expression classes needed to build the expression\n",
    "from proveit._common_ import m\n",
    "from proveit.logic import Equals\n",
    "from proveit.number import Add, one, three"
   ]
  },
  {
   "cell_type": "code",
   "execution_count": 2,
   "metadata": {},
   "outputs": [
    {
     "data": {
      "text/html": [
       "<strong id=\"expr\">expr:</strong> <a class=\"ProveItLink\" href=\"expr.ipynb\"><img src=\"data:image/png;base64,iVBORw0KGgoAAAANSUhEUgAAAPsAAAAVBAMAAAByEoVnAAAAMFBMVEX////c3NwiIiJERESqqqqY\n",
       "mJh2dnZmZmYQEBDu7u4yMjJUVFTMzMyIiIi6uroAAAAs73DqAAAAAXRSTlMAQObYZgAAAldJREFU\n",
       "SMfFlr+LE0EUx78xyW12k+zFQiz0QGy0M4UWVrf/gCRVSgkIWp2KoCepPBBBC2/ERrBIEERuD8HK\n",
       "5hCvsrEJiJ3BYCmcnBZCDoy+mbvJ7M6P7G3lwjdk35v5fGfezs4O8J+vcJir+WVLbMfZemceRqA+\n",
       "OvsWWfq+dvVKBG/baFd74yKIzEU4MAK14errL2v2xxH+AQZGw4C5EDzzdAIXhlQ3av/kwH3rPUtH\n",
       "bkT4BXQMk5Ex8IbKPN+aaFGFIVWMoV+Sf76ydKQl+j0z7B/qgdIwkalPtKjCkL7j0PYQVStG+tod\n",
       "uOxFxrBXGNIduvt0dPQ2HJ3Ptg9oKS3c1My8ro6QRjxjs5cY0kv6rb5G/zpamfYfNjlFTNaLxcVX\n",
       "dtDWEdKIZyz2MwzpMfDjSBP94SHsUafW4T1t9pWxjpBGPGObvcSQpgDrj9Fi6GXbY52htqvZL451\n",
       "hDRadNhLDGnK1yLDLeABT/Ti+GwcbybsVeQksNy22ycQ9FhePNp/LAn7RFRhSPe5A3AG4U9//uz9\n",
       "v4z32y++d1pcTV7iSEfMih9ZZp/AkC6AD9qfojo4llH8PeBcA2X9PSu2dYS0L1qXnsKQrgGFKcq7\n",
       "CIbdDPvPCH9bXjweSCOkkWhq2CsM6ZuowUITpXfbafvV9VftVKS02qNqBmN92zmlI2bbDmW8u3u3\n",
       "0/YKQ6o0nLuePWJuumvOTXfNGp1hSOVu9jc6FVkx0h3nEaLjPlisHGgj3+nEz/vBdWME6kQ++6rx\n",
       "sFBwHjfcGY4RqEK+w9YXS2zJ2XppHob0D+CO8F6Ge7J1AAAAAElFTkSuQmCC\n",
       "\" style=\"display:inline;vertical-align:middle;\" /></a><br>"
      ],
      "text/plain": [
       "expr: (m + 1 + 3) = (m + (1 + 3))"
      ]
     },
     "execution_count": 2,
     "metadata": {},
     "output_type": "execute_result"
    }
   ],
   "source": [
    "# build up the expression from sub-expressions\n",
    "expr = Equals(Add(m, one, three), Add(m, Add(one, three)))"
   ]
  },
  {
   "cell_type": "code",
   "execution_count": 3,
   "metadata": {},
   "outputs": [
    {
     "name": "stdout",
     "output_type": "stream",
     "text": [
      "Passed sanity check: built 'expr' is the same as the stored Expression.\n"
     ]
    }
   ],
   "source": [
    "# check that the built expression is the same as the stored expression\n",
    "%check_expr"
   ]
  },
  {
   "cell_type": "code",
   "execution_count": 4,
   "metadata": {},
   "outputs": [
    {
     "data": {
      "text/html": [
       "<table><tr><th>&nbsp;</th><th>core type</th><th>sub-expressions</th><th>expression</th></tr>\n",
       "<tr><td>0</td><td>Operation</td><td>operator:&nbsp;1<br>operands:&nbsp;2<br></td><td><a class=\"ProveItLink\" href=\"expr.ipynb\"><img src=\"data:image/png;base64,iVBORw0KGgoAAAANSUhEUgAAAPsAAAAVBAMAAAByEoVnAAAAMFBMVEX////c3NwiIiJERESqqqqY\n",
       "mJh2dnZmZmYQEBDu7u4yMjJUVFTMzMyIiIi6uroAAAAs73DqAAAAAXRSTlMAQObYZgAAAldJREFU\n",
       "SMfFlr+LE0EUx78xyW12k+zFQiz0QGy0M4UWVrf/gCRVSgkIWp2KoCepPBBBC2/ERrBIEERuD8HK\n",
       "5hCvsrEJiJ3BYCmcnBZCDoy+mbvJ7M6P7G3lwjdk35v5fGfezs4O8J+vcJir+WVLbMfZemceRqA+\n",
       "OvsWWfq+dvVKBG/baFd74yKIzEU4MAK14errL2v2xxH+AQZGw4C5EDzzdAIXhlQ3av/kwH3rPUtH\n",
       "bkT4BXQMk5Ex8IbKPN+aaFGFIVWMoV+Sf76ydKQl+j0z7B/qgdIwkalPtKjCkL7j0PYQVStG+tod\n",
       "uOxFxrBXGNIduvt0dPQ2HJ3Ptg9oKS3c1My8ro6QRjxjs5cY0kv6rb5G/zpamfYfNjlFTNaLxcVX\n",
       "dtDWEdKIZyz2MwzpMfDjSBP94SHsUafW4T1t9pWxjpBGPGObvcSQpgDrj9Fi6GXbY52htqvZL451\n",
       "hDRadNhLDGnK1yLDLeABT/Ti+GwcbybsVeQksNy22ycQ9FhePNp/LAn7RFRhSPe5A3AG4U9//uz9\n",
       "v4z32y++d1pcTV7iSEfMih9ZZp/AkC6AD9qfojo4llH8PeBcA2X9PSu2dYS0L1qXnsKQrgGFKcq7\n",
       "CIbdDPvPCH9bXjweSCOkkWhq2CsM6ZuowUITpXfbafvV9VftVKS02qNqBmN92zmlI2bbDmW8u3u3\n",
       "0/YKQ6o0nLuePWJuumvOTXfNGp1hSOVu9jc6FVkx0h3nEaLjPlisHGgj3+nEz/vBdWME6kQ++6rx\n",
       "sFBwHjfcGY4RqEK+w9YXS2zJ2XppHob0D+CO8F6Ge7J1AAAAAElFTkSuQmCC\n",
       "\" style=\"display:inline;vertical-align:middle;\" /></a></td></tr>\n",
       "<tr><td>1</td><td>Literal</td><td></td><td><a class=\"ProveItLink\" href=\"../../../logic/equality/__pv_it/2fb26078095930560931daa0500ce419a39ea6cd0/expr.ipynb\"><img src=\"data:image/png;base64,iVBORw0KGgoAAAANSUhEUgAAAA4AAAAFBAMAAACHocAhAAAAFVBMVEX///9EREQiIiJUVFQyMjJm\n",
       "ZmYAAADubVkoAAAAAXRSTlMAQObYZgAAABRJREFUCNdjCHEBAWcGXCBICQQUAUpuAwlgGKrkAAAA\n",
       "AElFTkSuQmCC\n",
       "\" style=\"display:inline;vertical-align:middle;\" /></a></td></tr>\n",
       "<tr><td>2</td><td>ExprTuple</td><td>3, 4</td><td><a class=\"ProveItLink\" href=\"../95e38493295ae44c0d8db38f13324272c6e4af2f0/expr.ipynb\"><img src=\"data:image/png;base64,iVBORw0KGgoAAAANSUhEUgAAANkAAAAVBAMAAAA5ulaKAAAAMFBMVEX////c3NwiIiJERESqqqqY\n",
       "mJh2dnZmZmYQEBDu7u4yMjJUVFTMzMyIiIi6uroAAAAs73DqAAAAAXRSTlMAQObYZgAAAnBJREFU\n",
       "SMe9lkFo01AYx/9dkzZJ2zQexIMOBx705oR58LTePIi0px01MJggqEPQSk8KIujBRrwIHhpEkWUM\n",
       "evKwIfa0i5fCEARXDJ5EmNtEBxms+uUl0b0sr+lgGPiX9P943+99X997X4H/++jdg4u1Jhq4FArv\n",
       "hXOzVsxYnpkYCCu26eNc3JyZriDfARPmRHPVyRgtM4v1gYXQaMJTL2Yegb4D2GAq7Zn/JIQtvbN4\n",
       "J/cT5bGkZRnhSw94vuTF3BsV/ACmwKTEy4WL0ctni3ckAU2KFvyQVPJibpXRnoHpG4am0ZNYySiu\n",
       "bifRwCqZrTDdpm8rh3pv9N7EELT5cO+dGf1krq1U+Lh5M5mm0ebJzTK9os/CAlrXUU2lFa+2gxdz\n",
       "satuudIGH1erJdKW/SVKNtNj4PvIOFrdIWjAR5eVxj0BdQdxmuIm51Yihn6XqQ9YLRdVC40haAqL\n",
       "pap9SB7yNh+3LKChaaFIKyP1/W1j4SbwwB9oOM4px5nfRfvnZDrI/goiEWoMiv875R3nxSPHafO0\n",
       "Xe4xYLIW0e77AYGT0DfVlNxaXkSjrEboqBsWX8lKQm7qb8unhZU8Cz8rKk3BPpxCKxNjE75JWVH1\n",
       "FzM1jpZN3CXbwGkDMlWddIUq1Ie8Aa1rptBKNaybKh1VHHdxGVjI8XH9Xb6X9gH61t8T8IVlmBuH\n",
       "9LbD0+rN1zXeOV9/CbVJN9JXYBq4sBo73XTR5O9s3+Jdqd6gCmsuk2II75JkRzeEN9e9RJc94c0l\n",
       "m+lNinNkcYecEvfNa6Hm9tkx5cEdR9C97EA4uk/agA6XaYtGCkYgZA7wn8KoaGA10B8Bit3A93NE\n",
       "iAAAAABJRU5ErkJggg==\n",
       "\" style=\"display:inline;vertical-align:middle;\" /></a></td></tr>\n",
       "<tr><td>3</td><td>Operation</td><td>operator:&nbsp;9<br>operands:&nbsp;5<br></td><td><a class=\"ProveItLink\" href=\"../75ca9c5f89a96cd03f5db50c205c224c794986da0/expr.ipynb\"><img src=\"data:image/png;base64,iVBORw0KGgoAAAANSUhEUgAAAFkAAAAQBAMAAACPcs44AAAAMFBMVEX////MzMyYmJgQEBBmZmYi\n",
       "IiLu7u4yMjKqqqp2dnZUVFTc3NxERESIiIi6uroAAABe5jFNAAAAAXRSTlMAQObYZgAAAPFJREFU\n",
       "KM9jYMABjqHxGWfOacClliHnG5rAFga+vxiqsiFU1iqYarYNEHp+A8NXDNW9UJoXpprjAoTuJ0k1\n",
       "A9glfHd2313Jd/cEYdXsCxgYOLlqGfLnMfQTVC1ZBSTesR5gyL9AhGoGXjsGhoT8Bwz9CQzuhFUz\n",
       "2CcwgJS6MjBYgrju5eXB5eVVCNUs5eWl5uXlQAczbGRgOK/AADI1hIHvNxt+s9n+J4BVWzKw/WPg\n",
       "KthEwCXfGRjiNzBw/2Ng+sDAfmECAdWXGPh+AsPbgIHzAAPHWgEU1SzO351QVXO4uDfgjEs4QAoT\n",
       "TPAWXYAPWTUAfZxT8N0617cAAAAASUVORK5CYII=\n",
       "\" style=\"display:inline;vertical-align:middle;\" /></a></td></tr>\n",
       "<tr><td>4</td><td>Operation</td><td>operator:&nbsp;9<br>operands:&nbsp;6<br></td><td><a class=\"ProveItLink\" href=\"../4cdeeb48d71322170c524429519d3e9135684eb50/expr.ipynb\"><img src=\"data:image/png;base64,iVBORw0KGgoAAAANSUhEUgAAAGcAAAAVBAMAAACphe0AAAAAMFBMVEX////MzMyYmJgQEBBmZmYi\n",
       "IiLu7u4yMjKqqqp2dnZUVFTc3NxERESIiIi6uroAAABe5jFNAAAAAXRSTlMAQObYZgAAAV9JREFU\n",
       "OMut0z1Lw0AYB/B/a8xb27OrW1cXcVJEUPGFrILuBtxUSBY5KAj5ApKugi9dFYRU3EToJG5GZwP5\n",
       "AkoXLSJWL2kDvfTOyYPkyPPkx/Pkcgf853iVJablptBkt/t88PjEg1KVIs0G9j9ywRuQb8AdeXlv\n",
       "MEfA7mWG1KA/n3t4B6ZG0NFgnmVXJUN62J/9FO3IEHFFCGl7ZQ/k5Ta6INEDj5SGGGlsfYxlGOYh\n",
       "nDP4PNJqQjRZT55cvI234YR5NBaLK1UWWYszsJ0Yvg2LRxMShCUbhQ4SsQ7MJxGL0k1K6zxSKD2Y\n",
       "ozT52S3gsZYiVmML5Evl2/MEldQfO0GsPVZD7cF0rzlUFi5EF9gOUHRR6qHYgRY2OMSWVYCeQT7T\n",
       "HCtmtKFfVfmfu8E+ZrW7wiN9zWJta7FsGy0MB4dWD6JtlB0jblcSDp3+eTTEQ3WlqNSUZcxAfnTv\n",
       "ZIkn4Bf+uGgHWZBgEAAAAABJRU5ErkJggg==\n",
       "\" style=\"display:inline;vertical-align:middle;\" /></a></td></tr>\n",
       "<tr><td>5</td><td>ExprTuple</td><td>7, 11, 12</td><td><a class=\"ProveItLink\" href=\"../3f8909016f21edfca94467dd11fc64e400d897270/expr.ipynb\"><img src=\"data:image/png;base64,iVBORw0KGgoAAAANSUhEUgAAAEUAAAAVBAMAAADiLT7tAAAAMFBMVEX////c3NwiIiJERESqqqqY\n",
       "mJh2dnZmZmYQEBDu7u4yMjJUVFTMzMyIiIi6uroAAAAs73DqAAAAAXRSTlMAQObYZgAAAUpJREFU\n",
       "KM+Nkj1Lw1AUhp9q0zZtE+IgDjq4OdpBByfzD9rJUQqCTn4g+EEnB3G0AZeCQ7I4iAidXETo5OIS\n",
       "EDcL1dFB2g6CBav3hibEpBbvcO57z30453688J+huyO3V2V4iKWXBnN+fc0k3RDqMoqcfQ7EFPoX\n",
       "OKBFW53f+sy2SRdWIGNF62g+U/SYGrzxJ4PXa9xkX6jHieaN3lyIM9k6pHa4EDF3jb1FMcbcX4mQ\n",
       "dDiF97ECtjuEQRO7+hF9sOwWRYtKnKFqkW9LRgK7cBJlZmC5JJljsRAV5tA76m9G/bYkI3otIiuo\n",
       "fXLOJJbPeHgP5g0Uhw1I9FHaZN2y2vUZe1aIJ/QP7+6v3slTBZJ3DbVqQPqwt0etI299UDHFG7XI\n",
       "GGGfBIuXICf+QimHGCVQpUBtRrwxhFGFN5gOMYFPtCCVk+0To736DD8w31gne0+0GAAAAABJRU5E\n",
       "rkJggg==\n",
       "\" style=\"display:inline;vertical-align:middle;\" /></a></td></tr>\n",
       "<tr><td>6</td><td>ExprTuple</td><td>7, 8</td><td><a class=\"ProveItLink\" href=\"../575c2a1117366f4721fc362d05927aea25c378570/expr.ipynb\"><img src=\"data:image/png;base64,iVBORw0KGgoAAAANSUhEUgAAAFUAAAAVBAMAAADFg78FAAAAMFBMVEX////c3NwiIiJERESqqqqY\n",
       "mJh2dnZmZmYQEBDu7u4yMjJUVFTMzMyIiIi6uroAAAAs73DqAAAAAXRSTlMAQObYZgAAAVVJREFU\n",
       "KM+Vk71Lw0AYxn/VpOn1I8RBHHR3tIMOTuY/qJOjFASd/EDwg04O4uBgAy6CQ4PgYERwchGhk4tL\n",
       "QdwsFEcHqR0EC1bvooU0NrVmuNzz8uPlufeeg/98ZqUvbF4td7/K0yGdXlywMcpydxZGD99DhRHM\n",
       "D3AhE7ZwfN1mhfX9X7VpwBwknHDfTJvVftrkfPYInvmTxfcwaLMpd/dD1SuzOhnNJi8hvsapXFMX\n",
       "lFbIRbK350q5HMDLQJZSpQdLRlLmDi1wSjVyDoVolqJDuq5YBa7DXgdreN7JvudJo4zBzKxid6WQ\n",
       "HccxX0X3vuLTUaz0MIXqKFqk3GGcrh6aMGGhuyxBrIVeJ1nJi0ZX9gHzzZ/Zk3/CeBbtpiyK8laN\n",
       "7eZGJ6ttFWw54xoJK5jPoAjOAf+O9XxA6z2SvRzKpB6ddSEzyWig0OOJpJS9WH9v6BG+AGBEYuYo\n",
       "lb1tAAAAAElFTkSuQmCC\n",
       "\" style=\"display:inline;vertical-align:middle;\" /></a></td></tr>\n",
       "<tr><td>7</td><td>Variable</td><td></td><td><a class=\"ProveItLink\" href=\"../../../__pv_it/78af03acba5349fd70398a32ce59bae1da52f0870/expr.ipynb\"><img src=\"data:image/png;base64,iVBORw0KGgoAAAANSUhEUgAAABIAAAAJBAMAAADN8WE8AAAAMFBMVEX////MzMyYmJgQEBBmZmYi\n",
       "IiLu7u4yMjKqqqp2dnZUVFTc3NxERESIiIi6uroAAABe5jFNAAAAAXRSTlMAQObYZgAAAFtJREFU\n",
       "CNdj4Luz++5KvrsnGBg4uWoZ8ucx9DMwvGM9wJB/AcRKyH/A0J/A4M7AAKJcGRgsgSwgL4SB7zcb\n",
       "iMf2j4GrYBMD9z8Gpg8M7BcmMPAZMHAeYOBYKwAAtXMYHwtZnY0AAAAASUVORK5CYII=\n",
       "\" style=\"display:inline;vertical-align:middle;\" /></a></td></tr>\n",
       "<tr><td>8</td><td>Operation</td><td>operator:&nbsp;9<br>operands:&nbsp;10<br></td><td><a class=\"ProveItLink\" href=\"../5bc72ea9d7c58094cf5366357e18a1279b8f3a020/expr.ipynb\"><img src=\"data:image/png;base64,iVBORw0KGgoAAAANSUhEUgAAACwAAAAQBAMAAACfEoDkAAAAMFBMVEX///92dnbMzMy6uroiIiKq\n",
       "qqrc3NyYmJgyMjIQEBBmZmaIiIhUVFTu7u5EREQAAADaqMZ6AAAAAXRSTlMAQObYZgAAAINJREFU\n",
       "GNNjYGB4y4AKFAWfAsl7f1FF2RYw2G9guHMGJsybAKYYvzLwOzAwcMOEWTdAKOzCQAA0BJtwDwMW\n",
       "YSaJAwxYVe80wCrM+RcmzNXR0TKjowOonU2Bge87pur7f7EK8zcwsHzDFOYuYLAXYOBa+WM5qpVR\n",
       "q1qRwwjhEhTAjCQMACDQMGMEWAixAAAAAElFTkSuQmCC\n",
       "\" style=\"display:inline;vertical-align:middle;\" /></a></td></tr>\n",
       "<tr><td>9</td><td>Literal</td><td></td><td><a class=\"ProveItLink\" href=\"../../../number/addition/__pv_it/3e6688136fa3c7aefbebe51301b7c3ebf0b69c440/expr.ipynb\"><img src=\"data:image/png;base64,iVBORw0KGgoAAAANSUhEUgAAAA4AAAAOBAMAAADtZjDiAAAAJFBMVEX///+6urpUVFQQEBAiIiIy\n",
       "MjJmZmaIiIiqqqrc3Nzu7u4AAACgHpL+AAAAAXRSTlMAQObYZgAAAB5JREFUCNdjYGBgWMkAAe2k\n",
       "0Kmhoc6hoUGk6BMHYgAHOwjcado9fwAAAABJRU5ErkJggg==\n",
       "\" style=\"display:inline;vertical-align:middle;\" /></a></td></tr>\n",
       "<tr><td>10</td><td>ExprTuple</td><td>11, 12</td><td><a class=\"ProveItLink\" href=\"../4a1e1fc4940fe3d4dea2df2e48254cb5d80bc01c0/expr.ipynb\"><img src=\"data:image/png;base64,iVBORw0KGgoAAAANSUhEUgAAACkAAAAVBAMAAAAp9toTAAAAMFBMVEX////c3NwiIiJERESqqqqY\n",
       "mJh2dnZmZmYQEBDu7u4yMjJUVFTMzMyIiIi6uroAAAAs73DqAAAAAXRSTlMAQObYZgAAAOpJREFU\n",
       "GNNjYMAO+C6gCcSBiNNAzDwBIsCTluzAwH4AyFrJwMBpDxUVZ+D7y8CwgIGB9wID5+79UNF8B4ZP\n",
       "DAxhDAwcIIH7UFF/sOgMBoZXDEiiDGATmB0YylBFuTYwMLAVMCxFET22GkiwLGDoQ1XLC+TzNTD8\n",
       "QxVl6J/AwPMBVVSGgcE+ACTagiTK+X8CSBRogilMFCTxi4FBX4CBdQFDOlSUE+h8hqsMfN/ALnsE\n",
       "5JT3Lw/g7BcAuqm8ygHo5gcMHAIwX8EYIB+zJkDZrHDH5UJCElWUExiSDNJQDjxKuEFGMaLH0B0G\n",
       "BgBc4kCXqUbjFQAAAABJRU5ErkJggg==\n",
       "\" style=\"display:inline;vertical-align:middle;\" /></a></td></tr>\n",
       "<tr><td>11</td><td>Literal</td><td></td><td><a class=\"ProveItLink\" href=\"../../../number/numeral/__pv_it/9be8badea4c35b9724062cecc501d17a3158d1d20/expr.ipynb\"><img src=\"data:image/png;base64,iVBORw0KGgoAAAANSUhEUgAAAAgAAAAPBAMAAAArJJMAAAAAHlBMVEX///+YmJgyMjIQEBBmZmaI\n",
       "iIhUVFTu7u5EREQAAAAw+MI4AAAAAXRSTlMAQObYZgAAACFJREFUCNdjYGBoZ2BgqJjOwFCWBiQY\n",
       "WEklWJwnOTKAAACjEQo8HvEr3AAAAABJRU5ErkJggg==\n",
       "\" style=\"display:inline;vertical-align:middle;\" /></a></td></tr>\n",
       "<tr><td>12</td><td>Literal</td><td></td><td><a class=\"ProveItLink\" href=\"../../../number/numeral/__pv_it/9176d93c83afa2c995b614976e3cb49207102fa70/expr.ipynb\"><img src=\"data:image/png;base64,iVBORw0KGgoAAAANSUhEUgAAAAoAAAAOBAMAAADkjZCYAAAAMFBMVEX///+YmJju7u4QEBBUVFQy\n",
       "MjIiIiKIiIi6urpmZmbc3NyqqqpERER2dnbMzMwAAAB0GlNiAAAAAXRSTlMAQObYZgAAAE1JREFU\n",
       "CNdjYHh79zQDA9cEhv4CBt7fDPwJDNxgEgiAIkAQAsR8Vx1ATIbiBhDJ/ImB6wEDz0cG/U8gkj+A\n",
       "ge0XA7sAQ/8FBoadM6MZAEflFACalZ/OAAAAAElFTkSuQmCC\n",
       "\" style=\"display:inline;vertical-align:middle;\" /></a></td></tr>\n",
       "</table>\n"
      ],
      "text/plain": [
       "0. (m + 1 + 3) = (m + (1 + 3))\n",
       "   core type: Operation\n",
       "   operator: 1\n",
       "   operands: 2\n",
       "1. =\n",
       "   core type: Literal\n",
       "   sub-expressions: \n",
       "2. (m + 1 + 3 , m + (1 + 3))\n",
       "   core type: ExprTuple\n",
       "   sub-expressions: 3, 4\n",
       "3. m + 1 + 3\n",
       "   core type: Operation\n",
       "   operator: 9\n",
       "   operands: 5\n",
       "4. m + (1 + 3)\n",
       "   core type: Operation\n",
       "   operator: 9\n",
       "   operands: 6\n",
       "5. (m , 1 , 3)\n",
       "   core type: ExprTuple\n",
       "   sub-expressions: 7, 11, 12\n",
       "6. (m , 1 + 3)\n",
       "   core type: ExprTuple\n",
       "   sub-expressions: 7, 8\n",
       "7. m\n",
       "   core type: Variable\n",
       "   sub-expressions: \n",
       "8. 1 + 3\n",
       "   core type: Operation\n",
       "   operator: 9\n",
       "   operands: 10\n",
       "9. +\n",
       "   core type: Literal\n",
       "   sub-expressions: \n",
       "10. (1 , 3)\n",
       "    core type: ExprTuple\n",
       "    sub-expressions: 11, 12\n",
       "11. 1\n",
       "    core type: Literal\n",
       "    sub-expressions: \n",
       "12. 3\n",
       "    core type: Literal\n",
       "    sub-expressions: "
      ]
     },
     "execution_count": 4,
     "metadata": {},
     "output_type": "execute_result"
    }
   ],
   "source": [
    "# display the expression information\n",
    "expr.exprInfo()"
   ]
  },
  {
   "cell_type": "code",
   "execution_count": null,
   "metadata": {},
   "outputs": [],
   "source": []
  }
 ],
 "metadata": {
  "kernelspec": {
   "display_name": "Python 3",
   "language": "python",
   "name": "python3"
  }
 },
 "nbformat": 4,
 "nbformat_minor": 0
}
