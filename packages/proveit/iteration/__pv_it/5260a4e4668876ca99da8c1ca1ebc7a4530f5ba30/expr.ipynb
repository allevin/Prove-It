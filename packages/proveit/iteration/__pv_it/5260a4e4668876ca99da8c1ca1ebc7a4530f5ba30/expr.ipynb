{
 "cells": [
  {
   "cell_type": "markdown",
   "metadata": {},
   "source": [
    "Expression of type <a class=\"ProveItLink\" href=\"../../../../../doc/html/api/proveit.Indexed.html\">Indexed</a>\n",
    "=======================\n",
    "# from context <a class=\"ProveItLink\" href=\"../../_context_.ipynb\">proveit.iteration</a>"
   ]
  },
  {
   "cell_type": "code",
   "execution_count": 1,
   "metadata": {},
   "outputs": [],
   "source": [
    "# import Expression classes needed to build the expression\n",
    "from proveit import Indexed, Variable\n",
    "from proveit._common_ import j, zz\n",
    "from proveit.number import Add"
   ]
  },
  {
   "cell_type": "code",
   "execution_count": 2,
   "metadata": {},
   "outputs": [
    {
     "data": {
      "text/html": [
       "<strong id=\"expr\">expr:</strong> <a class=\"ProveItLink\" href=\"expr.ipynb\"><img src=\"data:image/png;base64,iVBORw0KGgoAAAANSUhEUgAAAEAAAAAQBAMAAABUyWQaAAAAMFBMVEX////MzMyqqqq6urp2dnYy\n",
       "MjJUVFSYmJiIiIgiIiJmZmYQEBDu7u5ERETc3NwAAACuGOj0AAAAAXRSTlMAQObYZgAAAMJJREFU\n",
       "KM9jYOC7f49nDwMewP3//8oGfApqy8tn4ZadDCLYFmCTUgCTBUDMF4JV7wU4y7oAvwKmjTDjGJh7\n",
       "GbgPICvg8wJqrn7AwAV1xAn+B9IoJrAwBzAw/d69+ydU2xtLhl4UBe9YEhi4FV79z4EJpjBkQBhs\n",
       "oaFbQyMYGHjR3LeZYSOqI/kfoCrYyPwBVQHcSTyrVq1axMCg1hsAZUEV9KIawPeArQHVhBuoCngd\n",
       "TBGcBCDfDi2amTocUDW4CTAAAP45Nnw17H+7AAAAAElFTkSuQmCC\n",
       "\" style=\"display:inline;vertical-align:middle;\" /></a><br>"
      ],
      "text/plain": [
       "expr: z_(_y_ + j)"
      ]
     },
     "execution_count": 2,
     "metadata": {},
     "output_type": "execute_result"
    }
   ],
   "source": [
    "# build up the expression from sub-expressions\n",
    "expr = Indexed(zz, Add(Variable(\"_y_\", latexFormat = r\"{_{-}y_{-}}\"), j).withSubtractionAt(1), base = 1)"
   ]
  },
  {
   "cell_type": "code",
   "execution_count": 3,
   "metadata": {},
   "outputs": [
    {
     "name": "stdout",
     "output_type": "stream",
     "text": [
      "Passed sanity check: built 'expr' is the same as the stored Expression.\n"
     ]
    }
   ],
   "source": [
    "# check that the built expression is the same as the stored expression\n",
    "%check_expr"
   ]
  },
  {
   "cell_type": "code",
   "execution_count": 4,
   "metadata": {},
   "outputs": [
    {
     "data": {
      "text/html": [
       "<table><tr><th>&nbsp;</th><th>core type</th><th>sub-expressions</th><th>expression</th></tr>\n",
       "<tr><td>0</td><td>Indexed</td><td>var:&nbsp;1<br>index:&nbsp;2<br>base:&nbsp;\"1\"<br></td><td><a class=\"ProveItLink\" href=\"expr.ipynb\"><img src=\"data:image/png;base64,iVBORw0KGgoAAAANSUhEUgAAAEAAAAAQBAMAAABUyWQaAAAAMFBMVEX////MzMyqqqq6urp2dnYy\n",
       "MjJUVFSYmJiIiIgiIiJmZmYQEBDu7u5ERETc3NwAAACuGOj0AAAAAXRSTlMAQObYZgAAAMJJREFU\n",
       "KM9jYOC7f49nDwMewP3//8oGfApqy8tn4ZadDCLYFmCTUgCTBUDMF4JV7wU4y7oAvwKmjTDjGJh7\n",
       "GbgPICvg8wJqrn7AwAV1xAn+B9IoJrAwBzAw/d69+ydU2xtLhl4UBe9YEhi4FV79z4EJpjBkQBhs\n",
       "oaFbQyMYGHjR3LeZYSOqI/kfoCrYyPwBVQHcSTyrVq1axMCg1hsAZUEV9KIawPeArQHVhBuoCngd\n",
       "TBGcBCDfDi2amTocUDW4CTAAAP45Nnw17H+7AAAAAElFTkSuQmCC\n",
       "\" style=\"display:inline;vertical-align:middle;\" /></a></td></tr>\n",
       "<tr><td>1</td><td>Variable</td><td></td><td><a class=\"ProveItLink\" href=\"../../../__pv_it/825c5f9364dafac3172235f06554b9a92bb87b3c0/expr.ipynb\"><img src=\"data:image/png;base64,iVBORw0KGgoAAAANSUhEUgAAAAwAAAAKBAMAAAByAqLJAAAAMFBMVEX////MzMyqqqq6urp2dnYy\n",
       "MjJUVFSYmJiIiIgiIiJmZmYQEBDu7u5ERETc3NwAAACuGOj0AAAAAXRSTlMAQObYZgAAAEVJREFU\n",
       "CNdjYOC7f49nDwMD9///KxsYGGrLy2cxgADbAhDJFwLmWBeASKaNDAwKDAzVDxi4FjAw/d69++cB\n",
       "Bm6FV/9zGAB5GRMC+6tp5wAAAABJRU5ErkJggg==\n",
       "\" style=\"display:inline;vertical-align:middle;\" /></a></td></tr>\n",
       "<tr><td>2</td><td>Operation</td><td>operator:&nbsp;3<br>operands:&nbsp;4<br></td><td><a class=\"ProveItLink\" href=\"../b51f8bd4528d28c71d6269b9ac9ce22633f336710/expr.ipynb\"><img src=\"data:image/png;base64,iVBORw0KGgoAAAANSUhEUgAAAEgAAAASBAMAAAAK1oXlAAAAMFBMVEX///+YmJhUVFQyMjIQEBAi\n",
       "IiLMzMyIiIi6urrc3NxmZmZ2dnbu7u5ERESqqqoAAACio3w8AAAAAXRSTlMAQObYZgAAAL9JREFU\n",
       "KM9jYCAIGH8yEKFIAacUzwQi9PMVkKno9GoGzj9YFR2vPQAT29DPwP4Bq6INrAJQFtuDpQy8F7Ap\n",
       "Yj/AD1PEw+DOwF+ATREnQz/cn3x/GPIT4Cq4jI1NnY2NIQG0FSFswFCCw3dWcDHmBQyXsCvi+Ycw\n",
       "SYHjI3ZFQIcwvL0LBAcYeK5X/YSxURVxBSBp5Q7AbhLrAriYKsORByiKOCCKOCbMR3g6muE21ijM\n",
       "X3ALwXle1YBV0dldwPAGACJINdWBAhetAAAAAElFTkSuQmCC\n",
       "\" style=\"display:inline;vertical-align:middle;\" /></a></td></tr>\n",
       "<tr><td>3</td><td>Literal</td><td></td><td><a class=\"ProveItLink\" href=\"../../../number/addition/__pv_it/3e6688136fa3c7aefbebe51301b7c3ebf0b69c440/expr.ipynb\"><img src=\"data:image/png;base64,iVBORw0KGgoAAAANSUhEUgAAAA4AAAAOBAMAAADtZjDiAAAAJFBMVEX///+6urpUVFQQEBAiIiIy\n",
       "MjJmZmaIiIiqqqrc3Nzu7u4AAACgHpL+AAAAAXRSTlMAQObYZgAAAB5JREFUCNdjYGBgWMkAAe2k\n",
       "0Kmhoc6hoUGk6BMHYgAHOwjcado9fwAAAABJRU5ErkJggg==\n",
       "\" style=\"display:inline;vertical-align:middle;\" /></a></td></tr>\n",
       "<tr><td>4</td><td>ExprTuple</td><td>5, 6</td><td><a class=\"ProveItLink\" href=\"../911326708a92a90a2d0cddb384cdb4d614a3e1b10/expr.ipynb\"><img src=\"data:image/png;base64,iVBORw0KGgoAAAANSUhEUgAAAEUAAAAVBAMAAADiLT7tAAAAMFBMVEX////c3NwiIiJERESqqqqY\n",
       "mJh2dnZmZmYQEBDu7u4yMjJUVFTMzMyIiIi6uroAAAAs73DqAAAAAXRSTlMAQObYZgAAASFJREFU\n",
       "KM9jYCAG8F3AKx0HIk7jUxEvwH4ASK3EpyaagWEBAwPvBQJuCWNg4JhAQM0MBoZXhPzE7MBQBudw\n",
       "picwyKOYynnXkoGBrYBhKVyEje8Dw30UI9gYVBkYWBYw9MFFjrArMBijqLnJ8BUYfg0M/+AiEzgu\n",
       "MPxFUSPA95GBgecDkhoG/wk8f1Ddy6YAVtOCEKli4G1AVcNVALbLFCGynIF5A9xiMDnfgYGBdQFD\n",
       "OkJNNcP7AJivP0FtB/v9EdB3xkAADInJd+sFoGzOfgGQmiKQfQ8YOASQ7E9CpBiwsDokLlgTYMLc\n",
       "CpwID7AC8UNGkDdzkdMGUwJzArIanu/MQG9xAtMGgzRMmOVuHcJWYIrhNCsFmQ6ylBF/ArrDwAAA\n",
       "oyA7iiNIdsoAAAAASUVORK5CYII=\n",
       "\" style=\"display:inline;vertical-align:middle;\" /></a></td></tr>\n",
       "<tr><td>5</td><td>Variable</td><td></td><td><a class=\"ProveItLink\" href=\"../ca21bf52f8ec7f5496629bfb63241356f0872c150/expr.ipynb\"><img src=\"data:image/png;base64,iVBORw0KGgoAAAANSUhEUgAAACMAAAANBAMAAADRUcosAAAAMFBMVEX///+YmJhUVFQyMjIQEBAi\n",
       "IiLMzMyIiIi6urrc3NxmZmZ2dnbu7u5ERESqqqoAAACio3w8AAAAAXRSTlMAQObYZgAAAGhJREFU\n",
       "CNdjYICA06sZOP8woIAN/QzsH1BE2B4sZeC9gCLEw+DOwF+AqpHvD0N+AqoQlwFDCaoIA/MChkto\n",
       "QlwKHB9h7Ld3geAAA8/1qp8wNhxwB6BpVGU48gBNKJrhNpoIw/OqBhgTACmkHt67K+Q0AAAAAElF\n",
       "TkSuQmCC\n",
       "\" style=\"display:inline;vertical-align:middle;\" /></a></td></tr>\n",
       "<tr><td>6</td><td>Variable</td><td></td><td><a class=\"ProveItLink\" href=\"../../../__pv_it/612356038763a16ceac85a062629d016c986635c0/expr.ipynb\"><img src=\"data:image/png;base64,iVBORw0KGgoAAAANSUhEUgAAAAoAAAASBAMAAACQmVJ4AAAALVBMVEX////MzMyqqqpmZmYyMjK6\n",
       "uroiIiJ2dnZERESIiIju7u5UVFTc3NyYmJgAAAAeP2GyAAAAAXRSTlMAQObYZgAAAE1JREFUCNdj\n",
       "YGBg4H3DACI3MGADK2csAJIFbBcYGDgX8AFJHoa4AyCJMrC0M4jgegQimV6BSOYEEMlmwMDAeuCc\n",
       "AAODnEEzkL+iGKgTAMbaDxjCuhcwAAAAAElFTkSuQmCC\n",
       "\" style=\"display:inline;vertical-align:middle;\" /></a></td></tr>\n",
       "</table>\n"
      ],
      "text/plain": [
       "0. z_(_y_ + j)\n",
       "   core type: Indexed\n",
       "   var: 1\n",
       "   index: 2\n",
       "   base: \"1\"\n",
       "1. z\n",
       "   core type: Variable\n",
       "   sub-expressions: \n",
       "2. _y_ + j\n",
       "   core type: Operation\n",
       "   operator: 3\n",
       "   operands: 4\n",
       "3. +\n",
       "   core type: Literal\n",
       "   sub-expressions: \n",
       "4. (_y_ , j)\n",
       "   core type: ExprTuple\n",
       "   sub-expressions: 5, 6\n",
       "5. _y_\n",
       "   core type: Variable\n",
       "   sub-expressions: \n",
       "6. j\n",
       "   core type: Variable\n",
       "   sub-expressions: "
      ]
     },
     "execution_count": 4,
     "metadata": {},
     "output_type": "execute_result"
    }
   ],
   "source": [
    "# display the expression information\n",
    "expr.exprInfo()"
   ]
  },
  {
   "cell_type": "code",
   "execution_count": null,
   "metadata": {},
   "outputs": [],
   "source": []
  }
 ],
 "metadata": {
  "kernelspec": {
   "display_name": "Python 3",
   "language": "python",
   "name": "python3"
  }
 },
 "nbformat": 4,
 "nbformat_minor": 0
}
