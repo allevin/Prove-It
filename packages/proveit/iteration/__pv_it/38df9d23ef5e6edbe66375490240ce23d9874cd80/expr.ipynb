{
 "cells": [
  {
   "cell_type": "markdown",
   "metadata": {},
   "source": [
    "Expression of type <a class=\"ProveItLink\" href=\"../../../../../doc/html/api/proveit.number.LessEq.html\">LessEq</a>\n",
    "=======================\n",
    "# from context <a class=\"ProveItLink\" href=\"../../_context_.ipynb\">proveit.iteration</a>"
   ]
  },
  {
   "cell_type": "code",
   "execution_count": 1,
   "metadata": {},
   "outputs": [],
   "source": [
    "# import Expression classes needed to build the expression\n",
    "from proveit._common_ import j, k\n",
    "from proveit.number import Add, LessEq, one"
   ]
  },
  {
   "cell_type": "code",
   "execution_count": 2,
   "metadata": {},
   "outputs": [
    {
     "data": {
      "text/html": [
       "<strong id=\"expr\">expr:</strong> <a class=\"ProveItLink\" href=\"expr.ipynb\"><img src=\"data:image/png;base64,iVBORw0KGgoAAAANSUhEUgAAAJUAAAAVBAMAAAC9PLGkAAAAMFBMVEX////c3NwiIiJERESqqqqY\n",
       "mJh2dnZmZmYQEBDu7u4yMjJUVFTMzMyIiIi6uroAAAAs73DqAAAAAXRSTlMAQObYZgAAAf5JREFU\n",
       "OMtjYKAm4LuAQ4L1AQmKGeJAxGkQES+AJsU8gYGhBlMHUPHsJkxhSwYG9gNAeiWIE40myWkPNIsL\n",
       "SeASxJEgxcsxjJr8E0gsYGDgRXH1RKhRu/cDzWJNgBudBFEFVvwFLgr1zOzdILPCGBg4JiCb5Qtj\n",
       "3AcKczbANBUFQBggxXw/YWpYYM7gBQnNYGB4xYDTLAYTCJtxlwNUFKSYbQF2s5gdGMpA9t61xGpW\n",
       "OpjJswseoSDFXAms9Q+wmMVWwLAURDGoYjXLC+xB4wNwZ4MUz3+Z+d4Bi1ksCxj6gNRNhq9YzXoB\n",
       "icKbcLNAiv3PYvcjXwPDPyAlwPcRq1nnIeygTJgoSHG9HnazeD6ApRnYFEBk1apVGqtWrcYwi8Gr\n",
       "EMks3dmaICb7qlWLulat2oBsVguIw1WAx4+g+NsDoYGKOf8wfGHE4UdTEGe+A1azouABddgGTAEV\n",
       "s37g/MeGzSzWBZB495+AJ01AMiI4GQAFuA0YPvIyYE8Tj0CcIvS0Wt6/HJjU16FnPKBirgCG65mo\n",
       "ZrFX/CoFSjxg4ABlKnWMdA9OWQ3oZnGgFCcsKFl5BjgDP2T8AxN4iyzLhlFYIXI7ZmGWCypGeL4z\n",
       "F2At3mZBcqMSGCDKHOyAE5RNpTnNSrFLb8QUksZpFjfI+4y4il3eA5hiOBUz3GFgAAA8m5rj/JcI\n",
       "WQAAAABJRU5ErkJggg==\n",
       "\" style=\"display:inline;vertical-align:middle;\" /></a><br>"
      ],
      "text/plain": [
       "expr: (j + 1) <= (k + 1)"
      ]
     },
     "execution_count": 2,
     "metadata": {},
     "output_type": "execute_result"
    }
   ],
   "source": [
    "# build up the expression from sub-expressions\n",
    "expr = LessEq(Add(j, one), Add(k, one))"
   ]
  },
  {
   "cell_type": "code",
   "execution_count": 3,
   "metadata": {},
   "outputs": [
    {
     "name": "stdout",
     "output_type": "stream",
     "text": [
      "Passed sanity check: built 'expr' is the same as the stored Expression.\n"
     ]
    }
   ],
   "source": [
    "# check that the built expression is the same as the stored expression\n",
    "%check_expr"
   ]
  },
  {
   "cell_type": "code",
   "execution_count": 4,
   "metadata": {},
   "outputs": [
    {
     "data": {
      "text/html": [
       "<table><tr><th>&nbsp;</th><th>core type</th><th>sub-expressions</th><th>expression</th></tr>\n",
       "<tr><td>0</td><td>Operation</td><td>operator:&nbsp;1<br>operands:&nbsp;2<br></td><td><a class=\"ProveItLink\" href=\"expr.ipynb\"><img src=\"data:image/png;base64,iVBORw0KGgoAAAANSUhEUgAAAJUAAAAVBAMAAAC9PLGkAAAAMFBMVEX////c3NwiIiJERESqqqqY\n",
       "mJh2dnZmZmYQEBDu7u4yMjJUVFTMzMyIiIi6uroAAAAs73DqAAAAAXRSTlMAQObYZgAAAf5JREFU\n",
       "OMtjYKAm4LuAQ4L1AQmKGeJAxGkQES+AJsU8gYGhBlMHUPHsJkxhSwYG9gNAeiWIE40myWkPNIsL\n",
       "SeASxJEgxcsxjJr8E0gsYGDgRXH1RKhRu/cDzWJNgBudBFEFVvwFLgr1zOzdILPCGBg4JiCb5Qtj\n",
       "3AcKczbANBUFQBggxXw/YWpYYM7gBQnNYGB4xYDTLAYTCJtxlwNUFKSYbQF2s5gdGMpA9t61xGpW\n",
       "OpjJswseoSDFXAms9Q+wmMVWwLAURDGoYjXLC+xB4wNwZ4MUz3+Z+d4Bi1ksCxj6gNRNhq9YzXoB\n",
       "icKbcLNAiv3PYvcjXwPDPyAlwPcRq1nnIeygTJgoSHG9HnazeD6ApRnYFEBk1apVGqtWrcYwi8Gr\n",
       "EMks3dmaICb7qlWLulat2oBsVguIw1WAx4+g+NsDoYGKOf8wfGHE4UdTEGe+A1azouABddgGTAEV\n",
       "s37g/MeGzSzWBZB495+AJ01AMiI4GQAFuA0YPvIyYE8Tj0CcIvS0Wt6/HJjU16FnPKBirgCG65mo\n",
       "ZrFX/CoFSjxg4ABlKnWMdA9OWQ3oZnGgFCcsKFl5BjgDP2T8AxN4iyzLhlFYIXI7ZmGWCypGeL4z\n",
       "F2At3mZBcqMSGCDKHOyAE5RNpTnNSrFLb8QUksZpFjfI+4y4il3eA5hiOBUz3GFgAAA8m5rj/JcI\n",
       "WQAAAABJRU5ErkJggg==\n",
       "\" style=\"display:inline;vertical-align:middle;\" /></a></td></tr>\n",
       "<tr><td>1</td><td>Literal</td><td></td><td><a class=\"ProveItLink\" href=\"../../../number/ordering/__pv_it/aa616d6a8fe3483e4e64187262e9c7dfe6a536a30/expr.ipynb\"><img src=\"data:image/png;base64,iVBORw0KGgoAAAANSUhEUgAAAA4AAAARBAMAAAAf5oCsAAAALVBMVEX///9ERETMzMyqqqoyMjJU\n",
       "VFTc3NyYmJhmZmZ2dnbu7u66uroiIiKIiIgAAAAFyQXGAAAAAXRSTlMAQObYZgAAAEBJREFUCNdj\n",
       "YEAGvKfB1MqzYGrFcTCV6gymVL3B1EIhqNKzCyAM9pNQBrNHAoTB7aoAYTAJwhjRDLhAzhkQOA0A\n",
       "iskPUSt9tJUAAAAASUVORK5CYII=\n",
       "\" style=\"display:inline;vertical-align:middle;\" /></a></td></tr>\n",
       "<tr><td>2</td><td>ExprTuple</td><td>3, 4</td><td><a class=\"ProveItLink\" href=\"../e8e0904782a7e32960096e7cf8217562ea0cdfba0/expr.ipynb\"><img src=\"data:image/png;base64,iVBORw0KGgoAAAANSUhEUgAAAHEAAAAVBAMAAACDNRyvAAAAMFBMVEX////c3NwiIiJERESqqqqY\n",
       "mJh2dnZmZmYQEBDu7u4yMjJUVFTMzMyIiIi6uroAAAAs73DqAAAAAXRSTlMAQObYZgAAAWdJREFU\n",
       "OMtjYCAf8F0gQ1MciDgNIuIF0KQsofTsJkxtQDn2A0B6JYgTjSY5+SeMtRxDI1huAQMDL7JjOaFW\n",
       "z94N1/kFLjkRWS6MgYFjApJOFpgxvDCdfHAjGHyR5WYwMLxiwKuTbQF2ncwODGUgR961xKWTK4G1\n",
       "/gEWnWwFDEtBFIMqLp3zX2a+d8Cik2UBQx+QusnwFZdO/7PYXcvXwPAPSAnwfcSls14Pu06eD2Cd\n",
       "DGwKQIJ91apFXatWbUDRqTtbE0xXrVqlsWrVamSdLeBwKMBhJ+cfhi+MOFxrCg4HByw6OYE06wfO\n",
       "f2zYdLIuYEgHh8MELDrnA73AbcDwkZcBe6w8AnGK0FICe8WvUoYZwGDjCmC4nomqEyzHwPWAgQOU\n",
       "VNXR0xAYPERN6b7IHGDqY01geMj4B2teDUDV+RaZkwvKZTzfmQuwZt8A3DmbE5ScpTnNSrHK8uIp\n",
       "E7hBfmQkpzS5w8AAAJz4csB1XngPAAAAAElFTkSuQmCC\n",
       "\" style=\"display:inline;vertical-align:middle;\" /></a></td></tr>\n",
       "<tr><td>3</td><td>Operation</td><td>operator:&nbsp;6<br>operands:&nbsp;5<br></td><td><a class=\"ProveItLink\" href=\"../cdbd80afd2c6c46686a681eba53731dfe31233aa0/expr.ipynb\"><img src=\"data:image/png;base64,iVBORw0KGgoAAAANSUhEUgAAAC0AAAASBAMAAAA9GErRAAAAMFBMVEX///8QEBDMzMyqqqpmZmYy\n",
       "MjK6uroiIiJ2dnZERESIiIju7u5UVFTc3NyYmJgAAACtHSfyAAAAAXRSTlMAQObYZgAAAHxJREFU\n",
       "GNNjYGBg4PvLgAo4N4ApvgOowtzzN6Dw90KFz5xHFbeCMdbjFd+1cgNW8Qb2B9jEuTbwYxXnZci/\n",
       "gN3edhDhGhpaGBoagywegt093J+xizP/xi7OUoAm7iIfAnIhuwO6ehBgu3BfAcrMQhbXd5jCgA3s\n",
       "bHmATRgAoIYqkRdm8BoAAAAASUVORK5CYII=\n",
       "\" style=\"display:inline;vertical-align:middle;\" /></a></td></tr>\n",
       "<tr><td>4</td><td>Operation</td><td>operator:&nbsp;6<br>operands:&nbsp;7<br></td><td><a class=\"ProveItLink\" href=\"../a3769aecbd10cc24c32830f6bece61f5a44881a70/expr.ipynb\"><img src=\"data:image/png;base64,iVBORw0KGgoAAAANSUhEUgAAAC0AAAAQBAMAAABw0OvaAAAAMFBMVEX///9ERETc3NyIiIjMzMyY\n",
       "mJh2dna6urqqqqpmZmYyMjIiIiIQEBBUVFTu7u4AAAD6+w4kAAAAAXRSTlMAQObYZgAAAIZJREFU\n",
       "GNNj4LuzgQEdMD4AElwT0IX55EHi/A0w/iOo8N37IPH6BzDxZhjDHiSUxYBdfBlD5Hcs4nzfnz3/\n",
       "gUWc44sBVnM4fxdgFee2uw120KxVq/asWrUWLv7egb9BAYv6eIb3BQlYxC8y8CsYYBFfysA87QGq\n",
       "+MzzKwOQw6uZATsoRmIDAP82NAvK/4pyAAAAAElFTkSuQmCC\n",
       "\" style=\"display:inline;vertical-align:middle;\" /></a></td></tr>\n",
       "<tr><td>5</td><td>ExprTuple</td><td>8, 10</td><td><a class=\"ProveItLink\" href=\"../f3942352b5129835bdbb7296106bb14341010c620/expr.ipynb\"><img src=\"data:image/png;base64,iVBORw0KGgoAAAANSUhEUgAAACcAAAAVBAMAAAA3P+qgAAAAMFBMVEX////c3NwiIiJERESqqqqY\n",
       "mJh2dnZmZmYQEBDu7u4yMjJUVFTMzMyIiIi6uroAAAAs73DqAAAAAXRSTlMAQObYZgAAANxJREFU\n",
       "GNNjYMAK+C6g8uNAxGkQES8AEbFkYGA/AKRXgjjRELHJP4HEAgYGXiTds3eDBMMYGDgmIJnHCxKc\n",
       "wcDwigFdkNmBoQxIcd61RBJkK2BYCqIYVJEEWRYw9AGpmwxfkQT5Ghj+ASkBvo9IgjwfwIIMbAqo\n",
       "gi0gDlcBqnZTEGe+A8MEuCDrAoZ0EMd/AucnZCc9AnGKGDj7gUHCXvGrFGjWAwYOUPioA00SgHkL\n",
       "6E3WBIaHjH+ANNyvuaCg4/nOXIAkyAkMOgZpTjOgQQzwEOQGmcOIFh13GBgAr9g3kilCIHkAAAAA\n",
       "SUVORK5CYII=\n",
       "\" style=\"display:inline;vertical-align:middle;\" /></a></td></tr>\n",
       "<tr><td>6</td><td>Literal</td><td></td><td><a class=\"ProveItLink\" href=\"../../../number/addition/__pv_it/3e6688136fa3c7aefbebe51301b7c3ebf0b69c440/expr.ipynb\"><img src=\"data:image/png;base64,iVBORw0KGgoAAAANSUhEUgAAAA4AAAAOBAMAAADtZjDiAAAAJFBMVEX///+6urpUVFQQEBAiIiIy\n",
       "MjJmZmaIiIiqqqrc3Nzu7u4AAACgHpL+AAAAAXRSTlMAQObYZgAAAB5JREFUCNdjYGBgWMkAAe2k\n",
       "0Kmhoc6hoUGk6BMHYgAHOwjcado9fwAAAABJRU5ErkJggg==\n",
       "\" style=\"display:inline;vertical-align:middle;\" /></a></td></tr>\n",
       "<tr><td>7</td><td>ExprTuple</td><td>9, 10</td><td><a class=\"ProveItLink\" href=\"../22c3c9944426c690813c30c93c3e719ef5257b3a0/expr.ipynb\"><img src=\"data:image/png;base64,iVBORw0KGgoAAAANSUhEUgAAACsAAAAVBAMAAAAtAwouAAAAMFBMVEX////c3NwiIiJERESqqqqY\n",
       "mJh2dnZmZmYQEBDu7u4yMjJUVFTMzMyIiIi6uroAAAAs73DqAAAAAXRSTlMAQObYZgAAAOlJREFU\n",
       "GNNjYMAB+C6gi8SBiNMMDLObEGKWDAzsB4D0SiBeDhed/BNILGBg4AWZ8QUmOns3SDiMgYFjAtD4\n",
       "n3DVvCDmDAaGV0CKbQGqMLMDQxmQ4kpgrX+AJMxWwLAUSM1/mfneAUmYZQFDH5DyP4tqCF8Dwz8g\n",
       "Va+HKszzASysO1sTXbiFgYHzD8MXRjRDTBkYWD9w/mNjYJgAF2ZdwJDOwMBtwPCRl4HzE7IDHwGd\n",
       "HcBwPZOBs18AGEoVv0qBAg8YOATgIQxnAT3PmgDjsMJdmQsNWFRhTlAQScN48FjiBpnGiBFpdxgY\n",
       "AMhBPn6sYDDPAAAAAElFTkSuQmCC\n",
       "\" style=\"display:inline;vertical-align:middle;\" /></a></td></tr>\n",
       "<tr><td>8</td><td>Variable</td><td></td><td><a class=\"ProveItLink\" href=\"../../../__pv_it/612356038763a16ceac85a062629d016c986635c0/expr.ipynb\"><img src=\"data:image/png;base64,iVBORw0KGgoAAAANSUhEUgAAAAoAAAASBAMAAACQmVJ4AAAALVBMVEX////MzMyqqqpmZmYyMjK6\n",
       "uroiIiJ2dnZERESIiIju7u5UVFTc3NyYmJgAAAAeP2GyAAAAAXRSTlMAQObYZgAAAE1JREFUCNdj\n",
       "YGBg4H3DACI3MGADK2csAJIFbBcYGDgX8AFJHoa4AyCJMrC0M4jgegQimV6BSOYEEMlmwMDAeuCc\n",
       "AAODnEEzkL+iGKgTAMbaDxjCuhcwAAAAAElFTkSuQmCC\n",
       "\" style=\"display:inline;vertical-align:middle;\" /></a></td></tr>\n",
       "<tr><td>9</td><td>Variable</td><td></td><td><a class=\"ProveItLink\" href=\"../../../__pv_it/1a7356cf6caf039e07a5436d90e972cbb5e92b0a0/expr.ipynb\"><img src=\"data:image/png;base64,iVBORw0KGgoAAAANSUhEUgAAAAoAAAAOBAMAAADkjZCYAAAAMFBMVEX///9ERETc3NyIiIjMzMyY\n",
       "mJh2dna6urqqqqpmZmYyMjIiIiIQEBBUVFTu7u4AAAD6+w4kAAAAAXRSTlMAQObYZgAAAFBJREFU\n",
       "CNdj4LuzgQEIuCaASP4GEFn/AERmgQiGZQyR3xn4vj97/oOB44sBUIDzdwGQ5La7DVT03oG/QYEh\n",
       "nuF9QQLDRQZ+BQOGpQzM0x4AAD+VFjuIiDKbAAAAAElFTkSuQmCC\n",
       "\" style=\"display:inline;vertical-align:middle;\" /></a></td></tr>\n",
       "<tr><td>10</td><td>Literal</td><td></td><td><a class=\"ProveItLink\" href=\"../../../number/numeral/__pv_it/9be8badea4c35b9724062cecc501d17a3158d1d20/expr.ipynb\"><img src=\"data:image/png;base64,iVBORw0KGgoAAAANSUhEUgAAAAgAAAAPBAMAAAArJJMAAAAAHlBMVEX///+YmJgyMjIQEBBmZmaI\n",
       "iIhUVFTu7u5EREQAAAAw+MI4AAAAAXRSTlMAQObYZgAAACFJREFUCNdjYGBoZ2BgqJjOwFCWBiQY\n",
       "WEklWJwnOTKAAACjEQo8HvEr3AAAAABJRU5ErkJggg==\n",
       "\" style=\"display:inline;vertical-align:middle;\" /></a></td></tr>\n",
       "</table>\n"
      ],
      "text/plain": [
       "0. (j + 1) <= (k + 1)\n",
       "   core type: Operation\n",
       "   operator: 1\n",
       "   operands: 2\n",
       "1. <=\n",
       "   core type: Literal\n",
       "   sub-expressions: \n",
       "2. (j + 1 , k + 1)\n",
       "   core type: ExprTuple\n",
       "   sub-expressions: 3, 4\n",
       "3. j + 1\n",
       "   core type: Operation\n",
       "   operator: 6\n",
       "   operands: 5\n",
       "4. k + 1\n",
       "   core type: Operation\n",
       "   operator: 6\n",
       "   operands: 7\n",
       "5. (j , 1)\n",
       "   core type: ExprTuple\n",
       "   sub-expressions: 8, 10\n",
       "6. +\n",
       "   core type: Literal\n",
       "   sub-expressions: \n",
       "7. (k , 1)\n",
       "   core type: ExprTuple\n",
       "   sub-expressions: 9, 10\n",
       "8. j\n",
       "   core type: Variable\n",
       "   sub-expressions: \n",
       "9. k\n",
       "   core type: Variable\n",
       "   sub-expressions: \n",
       "10. 1\n",
       "    core type: Literal\n",
       "    sub-expressions: "
      ]
     },
     "execution_count": 4,
     "metadata": {},
     "output_type": "execute_result"
    }
   ],
   "source": [
    "# display the expression information\n",
    "expr.exprInfo()"
   ]
  },
  {
   "cell_type": "code",
   "execution_count": null,
   "metadata": {},
   "outputs": [],
   "source": []
  }
 ],
 "metadata": {
  "kernelspec": {
   "display_name": "Python 3",
   "language": "python",
   "name": "python3"
  }
 },
 "nbformat": 4,
 "nbformat_minor": 0
}
