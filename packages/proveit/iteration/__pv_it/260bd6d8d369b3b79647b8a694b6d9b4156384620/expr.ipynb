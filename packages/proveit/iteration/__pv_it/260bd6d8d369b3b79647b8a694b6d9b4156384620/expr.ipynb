{
 "cells": [
  {
   "cell_type": "markdown",
   "metadata": {},
   "source": [
    "Expression of type <a class=\"ProveItLink\" href=\"../../../../../doc/html/api/proveit.ExprTuple.html\">ExprTuple</a>\n",
    "=======================\n",
    "# from context <a class=\"ProveItLink\" href=\"../../_context_.ipynb\">proveit.iteration</a>"
   ]
  },
  {
   "cell_type": "code",
   "execution_count": 1,
   "metadata": {},
   "outputs": [],
   "source": [
    "# import Expression classes needed to build the expression\n",
    "from proveit import ExprTuple\n",
    "from proveit._common_ import j\n",
    "from proveit.number import Add, Neg, one"
   ]
  },
  {
   "cell_type": "code",
   "execution_count": 2,
   "metadata": {},
   "outputs": [
    {
     "data": {
      "text/html": [
       "<strong id=\"expr\">expr:</strong> <a class=\"ProveItLink\" href=\"expr.ipynb\"><img src=\"data:image/png;base64,iVBORw0KGgoAAAANSUhEUgAAAHAAAAAVBAMAAABs93eRAAAAMFBMVEX////c3NwiIiJERESqqqqY\n",
       "mJh2dnZmZmYQEBDu7u4yMjJUVFTMzMyIiIi6uroAAAAs73DqAAAAAXRSTlMAQObYZgAAATRJREFU\n",
       "OMtjYCAb8F0gXQ/rAyBxGsSKF0CTskRXyzwBzgQqrgFSK0HsaDRlk3+iCXDaIzQCFXMxMPAiu5QT\n",
       "avHs3WgaOXfvn4Di1gQGDmQBFpgpvOg2MtxH0cjZwPCKgRyNDCYMZSD9dy2J1whRnM6wFEiyMagS\n",
       "rxGi2IuhD0jeZPhKvEaI4hcM/4CkAN9HrBoZFymBwAMUjRDF58EaGdgUgAT7qlWLulat2kAocMCK\n",
       "zzO0gNhcBSSEKljxCwZTEHu+A1EaIXrBiqOA4QoE/hOI0cj5iQGuOJ3hEYhdhJYA2Ct+laLqK+9f\n",
       "HsDZLwBXvI6BA8RRR085OHIgWKM6JMkBk+tDxj/E5U1WIIYoZgMqXMnznbmAyPzLwABVPAuIpTnN\n",
       "SonM+EBroIo3gpIHGUUH7wEGAPfEZ+KJiZkxAAAAAElFTkSuQmCC\n",
       "\" style=\"display:inline;vertical-align:middle;\" /></a><br>"
      ],
      "text/plain": [
       "expr: (j + 1 - 1 , j)"
      ]
     },
     "execution_count": 2,
     "metadata": {},
     "output_type": "execute_result"
    }
   ],
   "source": [
    "# build up the expression from sub-expressions\n",
    "expr = ExprTuple(Add(j, one, Neg(one)), j)"
   ]
  },
  {
   "cell_type": "code",
   "execution_count": 3,
   "metadata": {},
   "outputs": [
    {
     "name": "stdout",
     "output_type": "stream",
     "text": [
      "Passed sanity check: built 'expr' is the same as the stored Expression.\n"
     ]
    }
   ],
   "source": [
    "# check that the built expression is the same as the stored expression\n",
    "%check_expr"
   ]
  },
  {
   "cell_type": "code",
   "execution_count": 4,
   "metadata": {},
   "outputs": [
    {
     "data": {
      "text/html": [
       "<table><tr><th>&nbsp;</th><th>core type</th><th>sub-expressions</th><th>expression</th></tr>\n",
       "<tr><td>0</td><td>ExprTuple</td><td>1, 4</td><td><a class=\"ProveItLink\" href=\"expr.ipynb\"><img src=\"data:image/png;base64,iVBORw0KGgoAAAANSUhEUgAAAHAAAAAVBAMAAABs93eRAAAAMFBMVEX////c3NwiIiJERESqqqqY\n",
       "mJh2dnZmZmYQEBDu7u4yMjJUVFTMzMyIiIi6uroAAAAs73DqAAAAAXRSTlMAQObYZgAAATRJREFU\n",
       "OMtjYCAb8F0gXQ/rAyBxGsSKF0CTskRXyzwBzgQqrgFSK0HsaDRlk3+iCXDaIzQCFXMxMPAiu5QT\n",
       "avHs3WgaOXfvn4Di1gQGDmQBFpgpvOg2MtxH0cjZwPCKgRyNDCYMZSD9dy2J1whRnM6wFEiyMagS\n",
       "rxGi2IuhD0jeZPhKvEaI4hcM/4CkAN9HrBoZFymBwAMUjRDF58EaGdgUgAT7qlWLulat2kAocMCK\n",
       "zzO0gNhcBSSEKljxCwZTEHu+A1EaIXrBiqOA4QoE/hOI0cj5iQGuOJ3hEYhdhJYA2Ct+laLqK+9f\n",
       "HsDZLwBXvI6BA8RRR085OHIgWKM6JMkBk+tDxj/E5U1WIIYoZgMqXMnznbmAyPzLwABVPAuIpTnN\n",
       "SonM+EBroIo3gpIHGUUH7wEGAPfEZ+KJiZkxAAAAAElFTkSuQmCC\n",
       "\" style=\"display:inline;vertical-align:middle;\" /></a></td></tr>\n",
       "<tr><td>1</td><td>Operation</td><td>operator:&nbsp;2<br>operands:&nbsp;3<br></td><td><a class=\"ProveItLink\" href=\"../e75c8df4cc0e09f398dfebaca9d5d9ee2ff8cd140/expr.ipynb\"><img src=\"data:image/png;base64,iVBORw0KGgoAAAANSUhEUgAAAFEAAAASBAMAAADRbS/HAAAAMFBMVEX///8QEBDMzMyqqqpmZmYy\n",
       "MjK6uroiIiJ2dnZERESIiIju7u5UVFTc3NyYmJgAAACtHSfyAAAAAXRSTlMAQObYZgAAAJFJREFU\n",
       "KM9jYGBg4PvLgAo4NzBgF+E7gCrMPR9dJbrIXqjwmfNoKjFErGCM9Ri2rydR5a6VG4hU2cD+gDiV\n",
       "XBv4iVTJy5B/AavKq+UgUIastx1EuIaGFoaGxuD3ewixfuf+TKxK5t/EqmQpQFPpIh/yAFUhVITd\n",
       "Ad1M7IDtwn0FKDMLv0p9hykMxIGdLQ+IUwgA7M9B5c+gSIsAAAAASUVORK5CYII=\n",
       "\" style=\"display:inline;vertical-align:middle;\" /></a></td></tr>\n",
       "<tr><td>2</td><td>Literal</td><td></td><td><a class=\"ProveItLink\" href=\"../../../number/addition/__pv_it/3e6688136fa3c7aefbebe51301b7c3ebf0b69c440/expr.ipynb\"><img src=\"data:image/png;base64,iVBORw0KGgoAAAANSUhEUgAAAA4AAAAOBAMAAADtZjDiAAAAJFBMVEX///+6urpUVFQQEBAiIiIy\n",
       "MjJmZmaIiIiqqqrc3Nzu7u4AAACgHpL+AAAAAXRSTlMAQObYZgAAAB5JREFUCNdjYGBgWMkAAe2k\n",
       "0Kmhoc6hoUGk6BMHYgAHOwjcado9fwAAAABJRU5ErkJggg==\n",
       "\" style=\"display:inline;vertical-align:middle;\" /></a></td></tr>\n",
       "<tr><td>3</td><td>ExprTuple</td><td>4, 7, 5</td><td><a class=\"ProveItLink\" href=\"../533658b1be19a620eabb9bd8a314d44d198f76660/expr.ipynb\"><img src=\"data:image/png;base64,iVBORw0KGgoAAAANSUhEUgAAAEsAAAAVBAMAAAD85A5eAAAAMFBMVEX////c3NwiIiJERESqqqqY\n",
       "mJh2dnZmZmYQEBDu7u4yMjJUVFTMzMyIiIi6uroAAAAs73DqAAAAAXRSTlMAQObYZgAAAQ9JREFU\n",
       "KM9jYCAS8F0gpCIORJwGEfECEBHmCehqLBkY2A8A6ZUgTjREjNMeXdnkn0BiAQMDL5KdnLv3oymb\n",
       "vRukLIyBgQNF4j66abwgZTMYGF4xEFbG7MBQBrLsriVeZWwFDEtBFIMqXmUsCxj6gNRNhq94lfE1\n",
       "MPwDUgJ8H9GUSSmBgB5UGc8HsDIGNgW8pgGVtYA4XAWELDUFceY7MEyAK5uAoYx1AUM6iOM/gfMT\n",
       "TBmUhRYgj0CcIgbOflDkl/cvD4CwoIC94lcp0E0PGDhAgupA++GSfALoqQQYWawJDA8Z/wBpuCAr\n",
       "RoLLBSUknu/MBXiVcQITEoM0pxnQegZEesJIzdwgVzASTOR3GBgA4rlPgK1cRekAAAAASUVORK5C\n",
       "YII=\n",
       "\" style=\"display:inline;vertical-align:middle;\" /></a></td></tr>\n",
       "<tr><td>4</td><td>Variable</td><td></td><td><a class=\"ProveItLink\" href=\"../../../__pv_it/612356038763a16ceac85a062629d016c986635c0/expr.ipynb\"><img src=\"data:image/png;base64,iVBORw0KGgoAAAANSUhEUgAAAAoAAAASBAMAAACQmVJ4AAAALVBMVEX////MzMyqqqpmZmYyMjK6\n",
       "uroiIiJ2dnZERESIiIju7u5UVFTc3NyYmJgAAAAeP2GyAAAAAXRSTlMAQObYZgAAAE1JREFUCNdj\n",
       "YGBg4H3DACI3MGADK2csAJIFbBcYGDgX8AFJHoa4AyCJMrC0M4jgegQimV6BSOYEEMlmwMDAeuCc\n",
       "AAODnEEzkL+iGKgTAMbaDxjCuhcwAAAAAElFTkSuQmCC\n",
       "\" style=\"display:inline;vertical-align:middle;\" /></a></td></tr>\n",
       "<tr><td>5</td><td>Operation</td><td>operator:&nbsp;6<br>operand:&nbsp;7<br></td><td><a class=\"ProveItLink\" href=\"../27bb768acc4707a63c4de5a0b22e13dfe76b5c980/expr.ipynb\"><img src=\"data:image/png;base64,iVBORw0KGgoAAAANSUhEUgAAABgAAAAPBAMAAAAMihLoAAAAJ1BMVEX///+YmJgQEBBmZmaIiIhU\n",
       "VFTu7u5ERES6uroiIiIyMjLc3NwAAAAKCT4sAAAAAXRSTlMAQObYZgAAACpJREFUCNdjYICDMgST\n",
       "If0Ygp0aisRhYCGTs2smCMwg3wAYYDY6ZciADABBShCHMIgXsAAAAABJRU5ErkJggg==\n",
       "\" style=\"display:inline;vertical-align:middle;\" /></a></td></tr>\n",
       "<tr><td>6</td><td>Literal</td><td></td><td><a class=\"ProveItLink\" href=\"../../../number/negation/__pv_it/3fc7a08bb9735faa20ef8e175f6ea95511acc9c70/expr.ipynb\"><img src=\"data:image/png;base64,iVBORw0KGgoAAAANSUhEUgAAAA4AAAACBAMAAACapPCZAAAAElBMVEX///+6uroiIiIyMjLc3NwA\n",
       "AAA6l9OrAAAAAXRSTlMAQObYZgAAABBJREFUCNdjcFYCAUUGKAAADR4BD8/TF5gAAAAASUVORK5C\n",
       "YII=\n",
       "\" style=\"display:inline;vertical-align:middle;\" /></a></td></tr>\n",
       "<tr><td>7</td><td>Literal</td><td></td><td><a class=\"ProveItLink\" href=\"../../../number/numeral/__pv_it/9be8badea4c35b9724062cecc501d17a3158d1d20/expr.ipynb\"><img src=\"data:image/png;base64,iVBORw0KGgoAAAANSUhEUgAAAAgAAAAPBAMAAAArJJMAAAAAHlBMVEX///+YmJgyMjIQEBBmZmaI\n",
       "iIhUVFTu7u5EREQAAAAw+MI4AAAAAXRSTlMAQObYZgAAACFJREFUCNdjYGBoZ2BgqJjOwFCWBiQY\n",
       "WEklWJwnOTKAAACjEQo8HvEr3AAAAABJRU5ErkJggg==\n",
       "\" style=\"display:inline;vertical-align:middle;\" /></a></td></tr>\n",
       "</table>\n"
      ],
      "text/plain": [
       "0. (j + 1 - 1 , j)\n",
       "   core type: ExprTuple\n",
       "   sub-expressions: 1, 4\n",
       "1. j + 1 - 1\n",
       "   core type: Operation\n",
       "   operator: 2\n",
       "   operands: 3\n",
       "2. +\n",
       "   core type: Literal\n",
       "   sub-expressions: \n",
       "3. (j , 1 , -1)\n",
       "   core type: ExprTuple\n",
       "   sub-expressions: 4, 7, 5\n",
       "4. j\n",
       "   core type: Variable\n",
       "   sub-expressions: \n",
       "5. -1\n",
       "   core type: Operation\n",
       "   operator: 6\n",
       "   operand: 7\n",
       "6. -\n",
       "   core type: Literal\n",
       "   sub-expressions: \n",
       "7. 1\n",
       "   core type: Literal\n",
       "   sub-expressions: "
      ]
     },
     "execution_count": 4,
     "metadata": {},
     "output_type": "execute_result"
    }
   ],
   "source": [
    "# display the expression information\n",
    "expr.exprInfo()"
   ]
  },
  {
   "cell_type": "code",
   "execution_count": null,
   "metadata": {},
   "outputs": [],
   "source": []
  }
 ],
 "metadata": {
  "kernelspec": {
   "display_name": "Python 3",
   "language": "python",
   "name": "python3"
  }
 },
 "nbformat": 4,
 "nbformat_minor": 0
}
