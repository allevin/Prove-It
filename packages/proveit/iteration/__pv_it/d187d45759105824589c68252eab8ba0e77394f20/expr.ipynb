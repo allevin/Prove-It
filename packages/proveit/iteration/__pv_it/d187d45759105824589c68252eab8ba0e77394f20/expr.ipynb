{
 "cells": [
  {
   "cell_type": "markdown",
   "metadata": {},
   "source": [
    "Expression of type <a class=\"ProveItLink\" href=\"../../../../../doc/html/api/proveit.number.Mult.html\">Mult</a>\n",
    "=======================\n",
    "# from context <a class=\"ProveItLink\" href=\"../../_context_.ipynb\">proveit.iteration</a>"
   ]
  },
  {
   "cell_type": "code",
   "execution_count": 1,
   "metadata": {},
   "outputs": [],
   "source": [
    "# import Expression classes needed to build the expression\n",
    "from proveit import Indexed, Variable\n",
    "from proveit._common_ import j, k, xx, yy\n",
    "from proveit.number import Add, Mult, Neg"
   ]
  },
  {
   "cell_type": "code",
   "execution_count": 2,
   "metadata": {},
   "outputs": [
    {
     "data": {
      "text/html": [
       "<strong id=\"expr\">expr:</strong> <a class=\"ProveItLink\" href=\"expr.ipynb\"><img src=\"data:image/png;base64,iVBORw0KGgoAAAANSUhEUgAAAJQAAAAQBAMAAAACM0spAAAAMFBMVEX///9UVFS6urqIiIjMzMxE\n",
       "RETu7u6qqqrc3NxmZmYiIiKYmJgQEBAyMjJ2dnYAAACf7SmQAAAAAXRSTlMAQObYZgAAAY5JREFU\n",
       "OMtjYHh7moFhFQNpIPPWFd2FGKJ8E843sP8nzSS25Qznl9kboAvncPxv4PyKS5PNAwSbSwHGYtzA\n",
       "8N/g/wZ0xc58fxm4PmMxhR1VOwMDN9hBCSCfMADt34ypheczQ/4XLEaxgoj8BDTR/AUQY/9g84P/\n",
       "Dwb9D7iM0sIIjwCIFz9iM2r/AYb3FyBMJlMGngQUo14ymcIE+mYj/P4A6BXmBgxN+y8w3IcGbjJ/\n",
       "gw+qq24X5UN1MDzQRfjyU/8nhh4GDE39B5j/QwO3TYvBFNWonw4wLkfDQ7hUf4DMJ45LDBia2Ncs\n",
       "/Q/zhByDMJQle/fO3bsGLKdvMzCUhgIBUEU03CjmVc9k7sLjFqFJhQGRrA4xHEFxFXOADwtc4AeO\n",
       "tAfXBEzp/XBFR5g+oBjFauDFDOOzHMBhFFwT8z+ONQoMbDNnzpzOwFBoegHKghjF28BqBPdVAEb+\n",
       "Qdc0a9UzRNAyGqAGO3I6M8DuKBRNCNVIEc7AiCoX1JOA3SgUTYikZ/wAZ2kQJ4JDAq4JAHnTdUHc\n",
       "8D46AAAAAElFTkSuQmCC\n",
       "\" style=\"display:inline;vertical-align:middle;\" /></a><br>"
      ],
      "text/plain": [
       "expr: y_(_y_ + k - j) * x__y_"
      ]
     },
     "execution_count": 2,
     "metadata": {},
     "output_type": "execute_result"
    }
   ],
   "source": [
    "# build up the expression from sub-expressions\n",
    "subExpr1 = Variable(\"_y_\", latexFormat = r\"{_{-}y_{-}}\")\n",
    "expr = Mult(Indexed(yy, Add(subExpr1, k, Neg(j)).withSubtractionAt(2,2), base = 1), Indexed(xx, subExpr1, base = 1))"
   ]
  },
  {
   "cell_type": "code",
   "execution_count": 3,
   "metadata": {},
   "outputs": [
    {
     "name": "stdout",
     "output_type": "stream",
     "text": [
      "Passed sanity check: built 'expr' is the same as the stored Expression.\n"
     ]
    }
   ],
   "source": [
    "# check that the built expression is the same as the stored expression\n",
    "%check_expr"
   ]
  },
  {
   "cell_type": "code",
   "execution_count": 4,
   "metadata": {},
   "outputs": [
    {
     "data": {
      "text/html": [
       "<table><tr><th>&nbsp;</th><th>core type</th><th>sub-expressions</th><th>expression</th></tr>\n",
       "<tr><td>0</td><td>Operation</td><td>operator:&nbsp;1<br>operands:&nbsp;2<br></td><td><a class=\"ProveItLink\" href=\"expr.ipynb\"><img src=\"data:image/png;base64,iVBORw0KGgoAAAANSUhEUgAAAJQAAAAQBAMAAAACM0spAAAAMFBMVEX///9UVFS6urqIiIjMzMxE\n",
       "RETu7u6qqqrc3NxmZmYiIiKYmJgQEBAyMjJ2dnYAAACf7SmQAAAAAXRSTlMAQObYZgAAAY5JREFU\n",
       "OMtjYHh7moFhFQNpIPPWFd2FGKJ8E843sP8nzSS25Qznl9kboAvncPxv4PyKS5PNAwSbSwHGYtzA\n",
       "8N/g/wZ0xc58fxm4PmMxhR1VOwMDN9hBCSCfMADt34ypheczQ/4XLEaxgoj8BDTR/AUQY/9g84P/\n",
       "Dwb9D7iM0sIIjwCIFz9iM2r/AYb3FyBMJlMGngQUo14ymcIE+mYj/P4A6BXmBgxN+y8w3IcGbjJ/\n",
       "gw+qq24X5UN1MDzQRfjyU/8nhh4GDE39B5j/QwO3TYvBFNWonw4wLkfDQ7hUf4DMJ45LDBia2Ncs\n",
       "/Q/zhByDMJQle/fO3bsGLKdvMzCUhgIBUEU03CjmVc9k7sLjFqFJhQGRrA4xHEFxFXOADwtc4AeO\n",
       "tAfXBEzp/XBFR5g+oBjFauDFDOOzHMBhFFwT8z+ONQoMbDNnzpzOwFBoegHKghjF28BqBPdVAEb+\n",
       "Qdc0a9UzRNAyGqAGO3I6M8DuKBRNCNVIEc7AiCoX1JOA3SgUTYikZ/wAZ2kQJ4JDAq4JAHnTdUHc\n",
       "8D46AAAAAElFTkSuQmCC\n",
       "\" style=\"display:inline;vertical-align:middle;\" /></a></td></tr>\n",
       "<tr><td>1</td><td>Literal</td><td></td><td><a class=\"ProveItLink\" href=\"../../../number/multiplication/__pv_it/21fd2079611555ecce512d99547a00d551e6b86b0/expr.ipynb\"><img src=\"data:image/png;base64,iVBORw0KGgoAAAANSUhEUgAAAAMAAAADBAMAAACkBqiMAAAAElBMVEX///9EREQQEBAiIiLu7u4A\n",
       "AABGBidwAAAAAXRSTlMAQObYZgAAABFJREFUCNdjYHFgcDVgcBIAAASWAQx4jI0xAAAAAElFTkSu\n",
       "QmCC\n",
       "\" style=\"display:inline;vertical-align:middle;\" /></a></td></tr>\n",
       "<tr><td>2</td><td>ExprTuple</td><td>3, 4</td><td><a class=\"ProveItLink\" href=\"../51f00915c85d7cf4745720ed6d7ef883515746540/expr.ipynb\"><img src=\"data:image/png;base64,iVBORw0KGgoAAAANSUhEUgAAAKAAAAAaBAMAAADCsEoNAAAAMFBMVEX///+qqqp2dnYiIiJERESI\n",
       "iIhmZmYQEBDc3NyYmJgyMjLu7u5UVFTMzMy6uroAAACGxKilAAAAAXRSTlMAQObYZgAAAjJJREFU\n",
       "SMdjYGB4x0A1oAAieA9Qz8A7IGLXBuoZyBoAJE4yUBFYMDBwFFDTwBgGBrYEahq4fwMD+wNqGsg8\n",
       "geE+Nc1jYHNgCAdSTMsnMDAbkKCPO8vq3mJsyY3zA8MpIKXG/oNB/gMJBm4WYP+89SsWCb7fDD5A\n",
       "+wr6fzDkO+BKW0VIHDsIdZKB/yv/TyyKef8yLAOSAfoLGOwDsMgLIBkCBhNgWaz/Byc2DRz/GMxA\n",
       "dH0A9/8LWORBrub+jc3d87EnX+6PYAN5/zfw/WfAYSAf1tg6j70EALpwDShuvjMw/YIKPXVgqEYx\n",
       "kCnhqTdMuRrUy0JAPzFEYNHB8ZfhCMjAXwxcn6BuDvjBW4BiINfE1z+gXCa+BQwMwLKE+/+L/w9g\n",
       "eRZFB98PhmCQud8Z4v9BrdhnwOqAYiB/LpzbwXSAgfszUNEXnvoHXQ+w6ACmw/cgWrjYHxb0PAo8\n",
       "0OjjWbWqatVShuuzJjAwugAB0OMsExi46xsYGIKN9lStY8DQAfTDAgZ+YOzyXUAkQ/YH7BdQXBjC\n",
       "WwAX4AcaxteAFhHIOrgCgOYzAHMJx3+YMvYL71Fj2ZXXAO6A6yBfoccsso79DQy8wFQRr9Bcx8Cw\n",
       "LS0tTYCB8agXlAU1cAWDK7xACkE1EFPHFCB2BJYRxkbweqCD4SiqC5GBKxBjZBBkHbZA3IUq7QRK\n",
       "GjCAmnpZXlRjS8xIOjhBpTWjAoq0aBDOMoZFB1v2RNbRAiYnUq98zWagPgAADn6XJLJOrKIAAAAA\n",
       "SUVORK5CYII=\n",
       "\" style=\"display:inline;vertical-align:middle;\" /></a></td></tr>\n",
       "<tr><td>3</td><td>Indexed</td><td>var:&nbsp;5<br>index:&nbsp;6<br>base:&nbsp;\"1\"<br></td><td><a class=\"ProveItLink\" href=\"../e6a8a4457baa815e1fd3f1bbb84545f2c8780b180/expr.ipynb\"><img src=\"data:image/png;base64,iVBORw0KGgoAAAANSUhEUgAAAFcAAAAQBAMAAACRu/6LAAAAMFBMVEX///9UVFS6urqIiIjMzMxE\n",
       "RETu7u6qqqrc3NxmZmYiIiKYmJgQEBAyMjJ2dnYAAACf7SmQAAAAAXRSTlMAQObYZgAAASVJREFU\n",
       "KM9jYHh7moFhFQNxgG/C+Qb2/0QqzuH438D5FZcs8zkEm0uBwZnvLwPXZ2wKC0DEIgSfG4h5PjPk\n",
       "f8GmOACI2b6hivn/YND/gEsx0wJUsf0HGN5fgLKVAxiOoSjmm6AcBuX2zQYpvsBw/wGEz2bwg+UA\n",
       "imLe7Wo/oNwHukCi/wDzfwUInyNpAXMAimL+KTAeR8NDIMm+Zun/BKgI4wNGAyjr7t2zdy8z+Ozd\n",
       "wFAaCgRAFdFAYRUGRDDzKPA4oJhsynIALgB0DzD2+n/AFTvoo4ZGMMsCqFUMIN8w/+NYo8DANnPm\n",
       "zOlAncKxDJlAZgFM8Q2GYAVYZIL4s1Y9gxvWwSCMajISYDVAi4c4pgsIjgCKVFBPApriYjucCS5O\n",
       "hIEBAJpcTy16iu5rAAAAAElFTkSuQmCC\n",
       "\" style=\"display:inline;vertical-align:middle;\" /></a></td></tr>\n",
       "<tr><td>4</td><td>Indexed</td><td>var:&nbsp;7<br>index:&nbsp;10<br>base:&nbsp;\"1\"<br></td><td><a class=\"ProveItLink\" href=\"../6654ceea09b28b68b2ec4edd8e0fd4ee3952081b0/expr.ipynb\"><img src=\"data:image/png;base64,iVBORw0KGgoAAAANSUhEUgAAACwAAAAQBAMAAACfEoDkAAAAMFBMVEX///9ERETc3Nx2dnaYmJiI\n",
       "iIgQEBCqqqpUVFS6urrMzMwiIiIyMjJmZmbu7u4AAAAYebpBAAAAAXRSTlMAQObYZgAAAJlJREFU\n",
       "GNNjYHh7+tScHQzogG87Q/6++AB0YQ4Hhv8B/x3QhZkZmP4ruDJgApZvDNgAxw8sguwGbF8ZWBUg\n",
       "HM5ABrYHYNb7n/o/GdSgap7yKyyDsPQF2n4ynYQK681mCISwWHfbtZ2ZADOymaEVm/WZDFnYhLM4\n",
       "P6CGwd27d68zMFQEHoCykAGTAkcAFjMYDeZgM5o91ADCAAC4mihNfYIEswAAAABJRU5ErkJggg==\n",
       "\" style=\"display:inline;vertical-align:middle;\" /></a></td></tr>\n",
       "<tr><td>5</td><td>Variable</td><td></td><td><a class=\"ProveItLink\" href=\"../../../__pv_it/23a8703a0497efbbce779bb784cd8c2fbbfa1f580/expr.ipynb\"><img src=\"data:image/png;base64,iVBORw0KGgoAAAANSUhEUgAAAA0AAAAOBAMAAAAGUYvhAAAALVBMVEX///+6urqIiIjMzMxERETu\n",
       "7u6qqqrc3NxmZmYiIiKYmJgQEBAyMjJ2dnYAAAAI/qgrAAAAAXRSTlMAQObYZgAAAGpJREFUCNdj\n",
       "YLizi4FhJgMDb8O+ArZ3DAzR7O8KOJ4wMBjxvmHgfMTAwMD9iCHuMZC2e84g9wBIr9vAcO8AiD7A\n",
       "cO4CkK7bwPROAEizzZ7yLgBICzOAtDMAzap7DqSZ3rLPBkkzdM68CiQBR18fizMQCrQAAAAASUVO\n",
       "RK5CYII=\n",
       "\" style=\"display:inline;vertical-align:middle;\" /></a></td></tr>\n",
       "<tr><td>6</td><td>Operation</td><td>operator:&nbsp;8<br>operands:&nbsp;9<br></td><td><a class=\"ProveItLink\" href=\"../7af3f5451f0422229f404911febe1140060d92ab0/expr.ipynb\"><img src=\"data:image/png;base64,iVBORw0KGgoAAAANSUhEUgAAAGwAAAASBAMAAABMYCZPAAAAMFBMVEX///+YmJhUVFQyMjIQEBAi\n",
       "IiLMzMyIiIi6urrc3NxmZmZ2dnbu7u5ERESqqqoAAACio3w8AAAAAXRSTlMAQObYZgAAARFJREFU\n",
       "KM9jYCAADrliijH+ZCAIrLBoU8Cp+iSM8Y+BFPAcSnP8IUsbtwE+VadXM3D+waaNeQPj+gZUtcdr\n",
       "D8CYG/oZ2D9g03a+Z0//A1RtG1gFoCy2B0sZeC9g0/Y+Hd1h7Af4Ydp4GNwZ+AuwaVsfAaY4TUNB\n",
       "AORcTob+CTBVfH8Y8hPgehYbG4cYGxuBmOGHYjACYiucxWXAUIItJHm+MfzjxJ0CmBcwXMKmjfED\n",
       "zw9uNF08iBTApcDxEZs2pgsMP9nRtAE9xPD2LhAcYOC5XvUTxkbWxizAULUHTRtXABKHOwBrKsEC\n",
       "WBfAmaoMR1AjtR2XJo4J8xFBHs1wm8jEmr/gFpKbqhqI1HZ2FzCNAABXuVFfTSls+QAAAABJRU5E\n",
       "rkJggg==\n",
       "\" style=\"display:inline;vertical-align:middle;\" /></a></td></tr>\n",
       "<tr><td>7</td><td>Variable</td><td></td><td><a class=\"ProveItLink\" href=\"../../../__pv_it/7a540faade4b95df4e25b93ec64921746d67c7a50/expr.ipynb\"><img src=\"data:image/png;base64,iVBORw0KGgoAAAANSUhEUgAAAA0AAAAKBAMAAACdwMn3AAAAMFBMVEX///9ERETc3Nx2dnaYmJiI\n",
       "iIgQEBCqqqpUVFS6urrMzMwiIiIyMjJmZmbu7u4AAAAYebpBAAAAAXRSTlMAQObYZgAAAFNJREFU\n",
       "CNdjYHh7+tScHQwMfNsZ8vfFBzBwODD8D/jvwMDMwPRfwZUBCFi+MYABxw8QyW7A9pWBVYHh/U/9\n",
       "nwxqDAz6Am0/mU4yMLDutms7M4EBAKnKFqcheKyGAAAAAElFTkSuQmCC\n",
       "\" style=\"display:inline;vertical-align:middle;\" /></a></td></tr>\n",
       "<tr><td>8</td><td>Literal</td><td></td><td><a class=\"ProveItLink\" href=\"../../../number/addition/__pv_it/3e6688136fa3c7aefbebe51301b7c3ebf0b69c440/expr.ipynb\"><img src=\"data:image/png;base64,iVBORw0KGgoAAAANSUhEUgAAAA4AAAAOBAMAAADtZjDiAAAAJFBMVEX///+6urpUVFQQEBAiIiIy\n",
       "MjJmZmaIiIiqqqrc3Nzu7u4AAACgHpL+AAAAAXRSTlMAQObYZgAAAB5JREFUCNdjYGBgWMkAAe2k\n",
       "0Kmhoc6hoUGk6BMHYgAHOwjcado9fwAAAABJRU5ErkJggg==\n",
       "\" style=\"display:inline;vertical-align:middle;\" /></a></td></tr>\n",
       "<tr><td>9</td><td>ExprTuple</td><td>10, 11, 12</td><td><a class=\"ProveItLink\" href=\"../c1fc4a6d8183f372fe2dd55eaec1a4685ea7ce8f0/expr.ipynb\"><img src=\"data:image/png;base64,iVBORw0KGgoAAAANSUhEUgAAAGoAAAAVBAMAAABce2awAAAAMFBMVEX////c3NwiIiJERESqqqqY\n",
       "mJh2dnZmZmYQEBDu7u4yMjJUVFTMzMyIiIi6uroAAAAs73DqAAAAAXRSTlMAQObYZgAAAXhJREFU\n",
       "OMtjYCAP8F0gUQPrAyBxGqc05w4FTMF4AYYaILUSt6lcBZhi0UBhBgZePA7kd8DuxAQGjgm4db3H\n",
       "LsfZwPAKj7+zcIibMJQhjEhPYJBHMX0ZQ/g/NGvuWgLJdIalcBE2vg8M91GU/Js27wuqLjYGVSDp\n",
       "xdAHFznCrsBgjKyE5Q9GSN1k+AokXzAgnDCB4wLDX2Ql7J8eQFmMi5RA4AGDAN9HIPc8ki4G/wk8\n",
       "f5B1Md3chBGIbApgXS0IkSoG3gZkFfMP8DsIYIv4FwymCJHlDMwb4M4FJR6G+Q8SGDhRdM0HRXwU\n",
       "MBThoJrhfQAs+D4Bic0M/AIXGOajJEb/CeCQfwQMK2MgAMbD5Lv1AlA2Zz/QaUsZeMsmMMz4iKyr\n",
       "CESsY+BAdnkSIv8ghB8i61KHpChgUoQCbgVORNCwIhQGIJgPGUGBzHYBKacwJTAn4NfF850ZFISz\n",
       "gFganhTu1iGUIlIFL1ISMysFURtB8U5qCcB7gAEAcstXM0BCvKIAAAAASUVORK5CYII=\n",
       "\" style=\"display:inline;vertical-align:middle;\" /></a></td></tr>\n",
       "<tr><td>10</td><td>Variable</td><td></td><td><a class=\"ProveItLink\" href=\"../ca21bf52f8ec7f5496629bfb63241356f0872c150/expr.ipynb\"><img src=\"data:image/png;base64,iVBORw0KGgoAAAANSUhEUgAAACMAAAANBAMAAADRUcosAAAAMFBMVEX///+YmJhUVFQyMjIQEBAi\n",
       "IiLMzMyIiIi6urrc3NxmZmZ2dnbu7u5ERESqqqoAAACio3w8AAAAAXRSTlMAQObYZgAAAGhJREFU\n",
       "CNdjYICA06sZOP8woIAN/QzsH1BE2B4sZeC9gCLEw+DOwF+AqpHvD0N+AqoQlwFDCaoIA/MChkto\n",
       "QlwKHB9h7Ld3geAAA8/1qp8wNhxwB6BpVGU48gBNKJrhNpoIw/OqBhgTACmkHt67K+Q0AAAAAElF\n",
       "TkSuQmCC\n",
       "\" style=\"display:inline;vertical-align:middle;\" /></a></td></tr>\n",
       "<tr><td>11</td><td>Variable</td><td></td><td><a class=\"ProveItLink\" href=\"../../../__pv_it/1a7356cf6caf039e07a5436d90e972cbb5e92b0a0/expr.ipynb\"><img src=\"data:image/png;base64,iVBORw0KGgoAAAANSUhEUgAAAAoAAAAOBAMAAADkjZCYAAAAMFBMVEX///9ERETc3NyIiIjMzMyY\n",
       "mJh2dna6urqqqqpmZmYyMjIiIiIQEBBUVFTu7u4AAAD6+w4kAAAAAXRSTlMAQObYZgAAAFBJREFU\n",
       "CNdj4LuzgQEIuCaASP4GEFn/AERmgQiGZQyR3xn4vj97/oOB44sBUIDzdwGQ5La7DVT03oG/QYEh\n",
       "nuF9QQLDRQZ+BQOGpQzM0x4AAD+VFjuIiDKbAAAAAElFTkSuQmCC\n",
       "\" style=\"display:inline;vertical-align:middle;\" /></a></td></tr>\n",
       "<tr><td>12</td><td>Operation</td><td>operator:&nbsp;13<br>operand:&nbsp;14<br></td><td><a class=\"ProveItLink\" href=\"../54bd455a3b87b328f63e73be03988fb44f1688450/expr.ipynb\"><img src=\"data:image/png;base64,iVBORw0KGgoAAAANSUhEUgAAABgAAAASBAMAAACzwgOtAAAALVBMVEX////MzMyqqqpmZmZ2dnZE\n",
       "RESIiIju7u5UVFSYmJi6uroiIiIyMjLc3NwAAABXLbUEAAAAAXRSTlMAQObYZgAAAFRJREFUCNdj\n",
       "YIADzrcMSJwGBlJBWWoBguPAPQHOZivgm8BwZzcI7GLgZVh3AUmTN7IJh5HY7I+QOEzPkTjMG5A4\n",
       "3AZwJteFewJwjpxBMEJRqTPQMQDHJRMBzCil9wAAAABJRU5ErkJggg==\n",
       "\" style=\"display:inline;vertical-align:middle;\" /></a></td></tr>\n",
       "<tr><td>13</td><td>Literal</td><td></td><td><a class=\"ProveItLink\" href=\"../../../number/negation/__pv_it/3fc7a08bb9735faa20ef8e175f6ea95511acc9c70/expr.ipynb\"><img src=\"data:image/png;base64,iVBORw0KGgoAAAANSUhEUgAAAA4AAAACBAMAAACapPCZAAAAElBMVEX///+6uroiIiIyMjLc3NwA\n",
       "AAA6l9OrAAAAAXRSTlMAQObYZgAAABBJREFUCNdjcFYCAUUGKAAADR4BD8/TF5gAAAAASUVORK5C\n",
       "YII=\n",
       "\" style=\"display:inline;vertical-align:middle;\" /></a></td></tr>\n",
       "<tr><td>14</td><td>Variable</td><td></td><td><a class=\"ProveItLink\" href=\"../../../__pv_it/612356038763a16ceac85a062629d016c986635c0/expr.ipynb\"><img src=\"data:image/png;base64,iVBORw0KGgoAAAANSUhEUgAAAAoAAAASBAMAAACQmVJ4AAAALVBMVEX////MzMyqqqpmZmYyMjK6\n",
       "uroiIiJ2dnZERESIiIju7u5UVFTc3NyYmJgAAAAeP2GyAAAAAXRSTlMAQObYZgAAAE1JREFUCNdj\n",
       "YGBg4H3DACI3MGADK2csAJIFbBcYGDgX8AFJHoa4AyCJMrC0M4jgegQimV6BSOYEEMlmwMDAeuCc\n",
       "AAODnEEzkL+iGKgTAMbaDxjCuhcwAAAAAElFTkSuQmCC\n",
       "\" style=\"display:inline;vertical-align:middle;\" /></a></td></tr>\n",
       "</table>\n"
      ],
      "text/plain": [
       "0. y_(_y_ + k - j) * x__y_\n",
       "   core type: Operation\n",
       "   operator: 1\n",
       "   operands: 2\n",
       "1. *\n",
       "   core type: Literal\n",
       "   sub-expressions: \n",
       "2. (y_(_y_ + k - j) , x__y_)\n",
       "   core type: ExprTuple\n",
       "   sub-expressions: 3, 4\n",
       "3. y_(_y_ + k - j)\n",
       "   core type: Indexed\n",
       "   var: 5\n",
       "   index: 6\n",
       "   base: \"1\"\n",
       "4. x__y_\n",
       "   core type: Indexed\n",
       "   var: 7\n",
       "   index: 10\n",
       "   base: \"1\"\n",
       "5. y\n",
       "   core type: Variable\n",
       "   sub-expressions: \n",
       "6. _y_ + k - j\n",
       "   core type: Operation\n",
       "   operator: 8\n",
       "   operands: 9\n",
       "7. x\n",
       "   core type: Variable\n",
       "   sub-expressions: \n",
       "8. +\n",
       "   core type: Literal\n",
       "   sub-expressions: \n",
       "9. (_y_ , k , -j)\n",
       "   core type: ExprTuple\n",
       "   sub-expressions: 10, 11, 12\n",
       "10. _y_\n",
       "    core type: Variable\n",
       "    sub-expressions: \n",
       "11. k\n",
       "    core type: Variable\n",
       "    sub-expressions: \n",
       "12. -j\n",
       "    core type: Operation\n",
       "    operator: 13\n",
       "    operand: 14\n",
       "13. -\n",
       "    core type: Literal\n",
       "    sub-expressions: \n",
       "14. j\n",
       "    core type: Variable\n",
       "    sub-expressions: "
      ]
     },
     "execution_count": 4,
     "metadata": {},
     "output_type": "execute_result"
    }
   ],
   "source": [
    "# display the expression information\n",
    "expr.exprInfo()"
   ]
  },
  {
   "cell_type": "code",
   "execution_count": null,
   "metadata": {},
   "outputs": [],
   "source": []
  }
 ],
 "metadata": {
  "kernelspec": {
   "display_name": "Python 3",
   "language": "python",
   "name": "python3"
  }
 },
 "nbformat": 4,
 "nbformat_minor": 0
}
