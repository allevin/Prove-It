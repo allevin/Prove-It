{
 "cells": [
  {
   "cell_type": "markdown",
   "metadata": {},
   "source": [
    "Expression of type <a class=\"ProveItLink\" href=\"../../../../../doc/html/api/proveit.logic.Set.html\">Set</a>\n",
    "=======================\n",
    "# from context <a class=\"ProveItLink\" href=\"../../_context_.ipynb\">proveit.iteration</a>"
   ]
  },
  {
   "cell_type": "code",
   "execution_count": 1,
   "metadata": {},
   "outputs": [],
   "source": [
    "# import Expression classes needed to build the expression\n",
    "from proveit._common_ import j, k\n",
    "from proveit.logic import InSet, Set\n",
    "from proveit.number import Naturals"
   ]
  },
  {
   "cell_type": "code",
   "execution_count": 2,
   "metadata": {},
   "outputs": [
    {
     "data": {
      "text/html": [
       "<strong id=\"expr\">expr:</strong> <a class=\"ProveItLink\" href=\"expr.ipynb\"><img src=\"data:image/png;base64,iVBORw0KGgoAAAANSUhEUgAAAIEAAAAVBAMAAACTeZA2AAAAMFBMVEX///9ERETc3NyqqqpUVFS6\n",
       "urrMzMwyMjIQEBCIiIh2dnYiIiLu7u5mZmaYmJgAAABJJ2g3AAAAAXRSTlMAQObYZgAAAhxJREFU\n",
       "OMtjYGDgu8dAJmBbpQCieHYxkA3YmkEk5wcQyfcJRer4R/EDDLd/G4A5R7rRNPLUC9Yw8O7fzMBw\n",
       "HcTlagCb4ICqSI5NgIHhA5RTi24344NEBgZ+IGMFwgR04J0wk4EBJvMZXZZlG+cEBg6sJvBM3727\n",
       "AMRwrWFJgJnA+gcmfbJ693awCeEH3HCYkP4GynBL4amBmcBVAAu4ugNQN6Q5HD+AasLJiWA5JhmY\n",
       "UW7MExJhJrAv4LsfAGIoHoD5IsGSTQBuAi/IhgXcD8AhpAA3geEq3wSoCedj1sSDY0UIHg4JvAEv\n",
       "QSa8B/EygMZzHuAHm3CQAWECywE3qAn2mdBAEkCYwODDkgFy3gUGhpQ2kOsZ4sG2R+zeDQ1JNwYe\n",
       "h+NQE+5vhYZoN1B2O9SEIzwVIJY40OaIBBBrNVhNCpIbGLLYoCbsPLIHEpAOSG5gWwByA/cCEK8A\n",
       "kWhOI5vAZwBxNc83hs9MYMYGJBMYHjPCwoELJM4DSTQsD5BMYFgkwMADSq4feL5ygQX9kE3gUkSJ\n",
       "TWZIouHZClMjComl80DjWQQYPnFCnBgAS9UgxnUUE3ihDlS/BqHDfwB9wFPAcAKY4dgfMMxdAxZl\n",
       "qk2ABGl9Iyj3oZjAfQFqukn17gLkHBCEkh+Y3SFxAQcwE1gV9BNwlAAP8BcQYBP4GhjyL8gykGcC\n",
       "uHzg2clwcC0uhZwEyqhWMMW3mKJyEgCoL45w95ooFAAAAABJRU5ErkJggg==\n",
       "\" style=\"display:inline;vertical-align:middle;\" /></a><br>"
      ],
      "text/plain": [
       "expr: {j in Naturals , k in Naturals}"
      ]
     },
     "execution_count": 2,
     "metadata": {},
     "output_type": "execute_result"
    }
   ],
   "source": [
    "# build up the expression from sub-expressions\n",
    "expr = Set(InSet(j, Naturals), InSet(k, Naturals))"
   ]
  },
  {
   "cell_type": "code",
   "execution_count": 3,
   "metadata": {},
   "outputs": [
    {
     "name": "stdout",
     "output_type": "stream",
     "text": [
      "Passed sanity check: built 'expr' is the same as the stored Expression.\n"
     ]
    }
   ],
   "source": [
    "# check that the built expression is the same as the stored expression\n",
    "%check_expr"
   ]
  },
  {
   "cell_type": "code",
   "execution_count": 4,
   "metadata": {},
   "outputs": [
    {
     "data": {
      "text/html": [
       "<table><tr><th>&nbsp;</th><th>core type</th><th>sub-expressions</th><th>expression</th></tr>\n",
       "<tr><td>0</td><td>Operation</td><td>operator:&nbsp;1<br>operands:&nbsp;2<br></td><td><a class=\"ProveItLink\" href=\"expr.ipynb\"><img src=\"data:image/png;base64,iVBORw0KGgoAAAANSUhEUgAAAIEAAAAVBAMAAACTeZA2AAAAMFBMVEX///9ERETc3NyqqqpUVFS6\n",
       "urrMzMwyMjIQEBCIiIh2dnYiIiLu7u5mZmaYmJgAAABJJ2g3AAAAAXRSTlMAQObYZgAAAhxJREFU\n",
       "OMtjYGDgu8dAJmBbpQCieHYxkA3YmkEk5wcQyfcJRer4R/EDDLd/G4A5R7rRNPLUC9Yw8O7fzMBw\n",
       "HcTlagCb4ICqSI5NgIHhA5RTi24344NEBgZ+IGMFwgR04J0wk4EBJvMZXZZlG+cEBg6sJvBM3727\n",
       "AMRwrWFJgJnA+gcmfbJ693awCeEH3HCYkP4GynBL4amBmcBVAAu4ugNQN6Q5HD+AasLJiWA5JhmY\n",
       "UW7MExJhJrAv4LsfAGIoHoD5IsGSTQBuAi/IhgXcD8AhpAA3geEq3wSoCedj1sSDY0UIHg4JvAEv\n",
       "QSa8B/EygMZzHuAHm3CQAWECywE3qAn2mdBAEkCYwODDkgFy3gUGhpQ2kOsZ4sG2R+zeDQ1JNwYe\n",
       "h+NQE+5vhYZoN1B2O9SEIzwVIJY40OaIBBBrNVhNCpIbGLLYoCbsPLIHEpAOSG5gWwByA/cCEK8A\n",
       "kWhOI5vAZwBxNc83hs9MYMYGJBMYHjPCwoELJM4DSTQsD5BMYFgkwMADSq4feL5ygQX9kE3gUkSJ\n",
       "TWZIouHZClMjComl80DjWQQYPnFCnBgAS9UgxnUUE3ihDlS/BqHDfwB9wFPAcAKY4dgfMMxdAxZl\n",
       "qk2ABGl9Iyj3oZjAfQFqukn17gLkHBCEkh+Y3SFxAQcwE1gV9BNwlAAP8BcQYBP4GhjyL8gykGcC\n",
       "uHzg2clwcC0uhZwEyqhWMMW3mKJyEgCoL45w95ooFAAAAABJRU5ErkJggg==\n",
       "\" style=\"display:inline;vertical-align:middle;\" /></a></td></tr>\n",
       "<tr><td>1</td><td>Literal</td><td></td><td><a class=\"ProveItLink\" href=\"../../../logic/set_theory/enumeration/__pv_it/07381ed5b23806e8d7914b78cb6667769e3708dd0/expr.ipynb\"><img src=\"data:image/png;base64,iVBORw0KGgoAAAANSUhEUgAAAB4AAAAOBAMAAADKyLEKAAAAMFBMVEX///8iIiIQEBCIiIjMzMzc\n",
       "3Nyqqqp2dnZEREQyMjK6urru7u5mZmZUVFSYmJgAAACI6eGPAAAAAXRSTlMAQObYZgAAALRJREFU\n",
       "CNdjYGDgu3Nm3wIGBJjHwN0PZW5yYGDgLWBgyITy8zcwMMQDxZyh/INAvD6BgcEFypcB4vjPDiBm\n",
       "TPFRrhs/LjMwMP//38rAwCbKEMPA9gEkE3fp0waG+AUMRxh4JkC01T9guPTOOICBEWgVH5C//wHD\n",
       "H5D4fqCz9oCMDGD4DLaegRXslLMMDMpAgxlOMmQxHDRgYG5gYLBk4D7KcIe7gOHC2rt9QCXsh40Z\n",
       "GCKMGQDRkC8N/Ph1XAAAAABJRU5ErkJggg==\n",
       "\" style=\"display:inline;vertical-align:middle;\" /></a></td></tr>\n",
       "<tr><td>2</td><td>ExprTuple</td><td>3, 4</td><td><a class=\"ProveItLink\" href=\"../a5f8e714e751e5dc03b8ec271bfd518733b3beba0/expr.ipynb\"><img src=\"data:image/png;base64,iVBORw0KGgoAAAANSUhEUgAAAHsAAAAVBAMAAACUF4xmAAAAMFBMVEX////c3NwiIiJERESqqqqY\n",
       "mJh2dnZmZmYQEBDu7u4yMjJUVFTMzMyIiIi6uroAAAAs73DqAAAAAXRSTlMAQObYZgAAAiVJREFU\n",
       "OMullE1oE1EQx/8x2SSvu00CvdVLWRRBRCPSQj3I3ovYgygi2ngSBCEU7EFEinrWpYJIpO1SiJpT\n",
       "Q0VQWWShIGI85FqxsHqSXKxR0UMpvnkfyWuwPaR72J2ZN78382ZnHrDHJ9fsl7xMrwa9pgqmnS2f\n",
       "qCFz7IBUXo30YJWfJ31Mt71MxJUaWS5ud0hOrgJ5pQyUe8OOOkVgAwiAwf/lbh/h5qxS8l7v8kq0\n",
       "DswC54Csb9jnl9zDAm/5YQf/rj3YJ9cNSHhbsyPCHwMtg3aqytP+WK/4Gr+mlz9cUELYYDXCkx5m\n",
       "aNv1cWEe0nHs6LRT1PhTnN+ib2Jc7xOmmquEp8uocjWNg8J8vHP2KBNfUjjberTwS9Sz83dC3Laa\n",
       "HE8FuM/VNfwWjsUujtf2eymnNlVxH6KL237I8dwsKK9C7odooDuuq0oX4Ql7Ln0z7VgK3/iqLF0I\n",
       "Vq9w3NkQONKiM5y6Ed0pqej71lZkSRpGdLxzJH6v2xlsxMBxNinlxSjviVPPmbjlFUXyo8JFdsZL\n",
       "E08PARR2CotxSRgnDRxXOG4FuEr6GZneXKybloSbYG3+eYF8QRSPHdX4KSpJIH7cV9KnpTnxLJJD\n",
       "uHyXJgPsAc+6isEZufvwLenW+ssjM44PxMjSuQ6pbVNvZOU7w7xtEDGxJCuvH960VglfEps7TLS1\n",
       "+8Bfp4F1/iTLfeGUP/azsRs7Oex+Edl0tETfl9Vn4B87CIpG9hcx+QAAAABJRU5ErkJggg==\n",
       "\" style=\"display:inline;vertical-align:middle;\" /></a></td></tr>\n",
       "<tr><td>3</td><td>Operation</td><td>operator:&nbsp;6<br>operands:&nbsp;5<br></td><td><a class=\"ProveItLink\" href=\"../71f4812e88ddb4f5567c49ebb725687beeb5a8250/expr.ipynb\"><img src=\"data:image/png;base64,iVBORw0KGgoAAAANSUhEUgAAADMAAAASBAMAAAAEf/uKAAAAMFBMVEX///8QEBDMzMyqqqpmZmYy\n",
       "MjK6uroiIiJ2dnZERESIiIju7u5UVFTc3NyYmJgAAACtHSfyAAAAAXRSTlMAQObYZgAAAOJJREFU\n",
       "GNNjYGBg4PvLgAy2/py6gcH9uwGIzXcARYphHtMEBoYPDNjAcYVVDAwCyCK7wstLwYxj0TwKKFJM\n",
       "cRugrEM63NEQqV0rwWI3YTIMh5gXaEKkGtgfgKi5cP2HGNz4FoCkuDbwg6S4JyBJ8Ww4BJLiZci/\n",
       "AKTYxMvLoc44xMB9YCvEGe1gVxxA0sWgwQSRCgER3AXIUnwGYPO5P4MFziFLMfSCpZh/gwW2J8Ck\n",
       "pgExSwCIxQIxijdEASKT+hGogxssxe4AEWI+CnUhDLBduK/AgB3oO0zBIcOws+UBDhkAn9k4aw2c\n",
       "gBoAAAAASUVORK5CYII=\n",
       "\" style=\"display:inline;vertical-align:middle;\" /></a></td></tr>\n",
       "<tr><td>4</td><td>Operation</td><td>operator:&nbsp;6<br>operands:&nbsp;7<br></td><td><a class=\"ProveItLink\" href=\"../e09ca6f75e0c57b0dc94dcfcf473d980986784820/expr.ipynb\"><img src=\"data:image/png;base64,iVBORw0KGgoAAAANSUhEUgAAADMAAAAPBAMAAAC7N+rPAAAAMFBMVEX///9ERETc3NyIiIjMzMyY\n",
       "mJh2dna6urqqqqpmZmYyMjIiIiIQEBBUVFTu7u4AAAD6+w4kAAAAAXRSTlMAQObYZgAAAOhJREFU\n",
       "GNNj4LuzgQEVvPoo9YBh9u8GBgauCWhSDKIsAgwMH4AM/gZ0qdsOxgwMB4CM+gdQkcerd+8CM66v\n",
       "43UAS2VBZViWwtRc8eVbB5ZaxhD5HSSgCJNhuMJh4AiS4vv+7PkPkIAQ3K4rDNNZDYBSHF8MwHw+\n",
       "ASQp3gdXgFKcvwvAfPbTu3dDnXGFge/CK6AUt91tsCUsF5B0MbixAKXeO/A3KIAM3IAsxdoAND+e\n",
       "4X1BAkjgKrIUQxJQ6iIDvwLYIa8LYFLiQMy5gIFhKQPzNLBlTCsdIDJVf4A6+BYgBx3HLagLoQAA\n",
       "a0VGmR4qtXkAAAAASUVORK5CYII=\n",
       "\" style=\"display:inline;vertical-align:middle;\" /></a></td></tr>\n",
       "<tr><td>5</td><td>ExprTuple</td><td>8, 10</td><td><a class=\"ProveItLink\" href=\"../b86b27350a95fe698e855aec35e912d6d0f56f360/expr.ipynb\"><img src=\"data:image/png;base64,iVBORw0KGgoAAAANSUhEUgAAAC0AAAAVBAMAAAAgHXppAAAAMFBMVEX////c3NwiIiJERESqqqqY\n",
       "mJh2dnZmZmYQEBDu7u4yMjJUVFTMzMyIiIi6uroAAAAs73DqAAAAAXRSTlMAQObYZgAAARxJREFU\n",
       "GNN10bFLw0AUBvCvtEl7TRq6d3Eprl0q6CD5D3RyEaqdnAqhoKN0cJaM0qVZHLKJc5GA4NIlq9CC\n",
       "dezUVqQOUvxemshJMXB3+X483uUuwH+PE29RS6aRTGdVmfsfBz66S7cYMYQip5vCpt0A5kAAVPQ2\n",
       "j9EE6AEnQMnX/Cm0IvE7YKZvOBypUDzv4opRTfZTL8TP4qaHe0YT9dRxbcT0QoBbxld8Zm75Q7rT\n",
       "w5qx6iwyVw99uj1PHOZO5nixN34juez9uuE2kj5NyQMXKnW06UaAC8lHPgbS6pCjGCTf+S7e5RG5\n",
       "9eyLtYpefkNJbnKXY6qdm/dgnGOa++b7seYduWd7lff+urRCTe1dcqlo5Zb0zm3/xzHwA/dXSE7d\n",
       "Tef9AAAAAElFTkSuQmCC\n",
       "\" style=\"display:inline;vertical-align:middle;\" /></a></td></tr>\n",
       "<tr><td>6</td><td>Literal</td><td></td><td><a class=\"ProveItLink\" href=\"../../../logic/set_theory/membership/__pv_it/088cbc857536a28d4119ad9639a84270ccb0545d0/expr.ipynb\"><img src=\"data:image/png;base64,iVBORw0KGgoAAAANSUhEUgAAAAwAAAAMBAMAAACkW0HUAAAALVBMVEX///+qqqpmZmZUVFQQEBC6\n",
       "urpERETc3NyYmJjMzMwiIiIyMjKIiIju7u4AAACYsrA9AAAAAXRSTlMAQObYZgAAADxJREFUCNdj\n",
       "YOA9vWrVBgaG2b0MQMCeCyIZ2ArA1DUwyRCyahVIyWQI7xaEYm4AU7xLIdxqTQgtvGvVBgCkcQ7e\n",
       "geM/tQAAAABJRU5ErkJggg==\n",
       "\" style=\"display:inline;vertical-align:middle;\" /></a></td></tr>\n",
       "<tr><td>7</td><td>ExprTuple</td><td>9, 10</td><td><a class=\"ProveItLink\" href=\"../1c7a7d6cc66465b467de9a7d12bece86993b62090/expr.ipynb\"><img src=\"data:image/png;base64,iVBORw0KGgoAAAANSUhEUgAAADAAAAAVBAMAAADyTXAxAAAAMFBMVEX////c3NwiIiJERESqqqqY\n",
       "mJh2dnZmZmYQEBDu7u4yMjJUVFTMzMyIiIi6uroAAAAs73DqAAAAAXRSTlMAQObYZgAAASNJREFU\n",
       "KM9jYMAJ+C5girE+ABKnGRhmN0EFONcbr2Rg11dhqAFyVgLxcphS5oDDDAz8DAxcDAy8IJO+wCS4\n",
       "dYB8DqBZCQwcE4DW/IRLvJqwByTB2cDwCshlWwCXOLNh1gSgBIMJQxmQ5EpgrX8AkTjgy2MAkkhn\n",
       "WAok57/MfO8AlWB/EAuS8GLoA5L+Z+FGHWDYyX0CyHjB8A9I1ushSczmXAFknAdL6M7WREjwJJwA\n",
       "S7QA3faH4QsjXIIhhBlslCnQNx84/7ExcMIk2ISBjCiguxi4DRg+8jLMVwAFCcjVVWDnPgJ6I4Dh\n",
       "eibDjI/AIFjfDBScBcTrGDgEYC56iBTuwCABBhcUBCBJsF2ABDuGBMg0aSibFzkKNwIxI5ao5T3A\n",
       "AACTrkcGgEmEYgAAAABJRU5ErkJggg==\n",
       "\" style=\"display:inline;vertical-align:middle;\" /></a></td></tr>\n",
       "<tr><td>8</td><td>Variable</td><td></td><td><a class=\"ProveItLink\" href=\"../../../__pv_it/612356038763a16ceac85a062629d016c986635c0/expr.ipynb\"><img src=\"data:image/png;base64,iVBORw0KGgoAAAANSUhEUgAAAAoAAAASBAMAAACQmVJ4AAAALVBMVEX////MzMyqqqpmZmYyMjK6\n",
       "uroiIiJ2dnZERESIiIju7u5UVFTc3NyYmJgAAAAeP2GyAAAAAXRSTlMAQObYZgAAAE1JREFUCNdj\n",
       "YGBg4H3DACI3MGADK2csAJIFbBcYGDgX8AFJHoa4AyCJMrC0M4jgegQimV6BSOYEEMlmwMDAeuCc\n",
       "AAODnEEzkL+iGKgTAMbaDxjCuhcwAAAAAElFTkSuQmCC\n",
       "\" style=\"display:inline;vertical-align:middle;\" /></a></td></tr>\n",
       "<tr><td>9</td><td>Variable</td><td></td><td><a class=\"ProveItLink\" href=\"../../../__pv_it/1a7356cf6caf039e07a5436d90e972cbb5e92b0a0/expr.ipynb\"><img src=\"data:image/png;base64,iVBORw0KGgoAAAANSUhEUgAAAAoAAAAOBAMAAADkjZCYAAAAMFBMVEX///9ERETc3NyIiIjMzMyY\n",
       "mJh2dna6urqqqqpmZmYyMjIiIiIQEBBUVFTu7u4AAAD6+w4kAAAAAXRSTlMAQObYZgAAAFBJREFU\n",
       "CNdj4LuzgQEIuCaASP4GEFn/AERmgQiGZQyR3xn4vj97/oOB44sBUIDzdwGQ5La7DVT03oG/QYEh\n",
       "nuF9QQLDRQZ+BQOGpQzM0x4AAD+VFjuIiDKbAAAAAElFTkSuQmCC\n",
       "\" style=\"display:inline;vertical-align:middle;\" /></a></td></tr>\n",
       "<tr><td>10</td><td>Literal</td><td></td><td><a class=\"ProveItLink\" href=\"../../../number/sets/integer/__pv_it/e5d9bd86b06b357eee742ad868997123619e09700/expr.ipynb\"><img src=\"data:image/png;base64,iVBORw0KGgoAAAANSUhEUgAAAA8AAAAOBAMAAAACpFvcAAAAMFBMVEX////c3Nx2dna6uroQEBCI\n",
       "iIhUVFTMzMyYmJiqqqoiIiJmZmZEREQyMjLu7u4AAADjlg78AAAAAXRSTlMAQObYZgAAAGBJREFU\n",
       "CNdjePvn7AOGXb8mMDCcYD/AwPCBgYEhqyCUgcEByEi+x1YAZqSX8d2DMDgDaiAMhs0cARAG24N0\n",
       "CIMv4S2EwVDEDmVwTDgAYTAoghiHgZj7AgOD7Rcgj+8CAwA9oh2B0HK+MAAAAABJRU5ErkJggg==\n",
       "\" style=\"display:inline;vertical-align:middle;\" /></a></td></tr>\n",
       "</table>\n"
      ],
      "text/plain": [
       "0. {j in Naturals , k in Naturals}\n",
       "   core type: Operation\n",
       "   operator: 1\n",
       "   operands: 2\n",
       "1. Set\n",
       "   core type: Literal\n",
       "   sub-expressions: \n",
       "2. (j in Naturals , k in Naturals)\n",
       "   core type: ExprTuple\n",
       "   sub-expressions: 3, 4\n",
       "3. j in Naturals\n",
       "   core type: Operation\n",
       "   operator: 6\n",
       "   operands: 5\n",
       "4. k in Naturals\n",
       "   core type: Operation\n",
       "   operator: 6\n",
       "   operands: 7\n",
       "5. (j , Naturals)\n",
       "   core type: ExprTuple\n",
       "   sub-expressions: 8, 10\n",
       "6. in\n",
       "   core type: Literal\n",
       "   sub-expressions: \n",
       "7. (k , Naturals)\n",
       "   core type: ExprTuple\n",
       "   sub-expressions: 9, 10\n",
       "8. j\n",
       "   core type: Variable\n",
       "   sub-expressions: \n",
       "9. k\n",
       "   core type: Variable\n",
       "   sub-expressions: \n",
       "10. Naturals\n",
       "    core type: Literal\n",
       "    sub-expressions: "
      ]
     },
     "execution_count": 4,
     "metadata": {},
     "output_type": "execute_result"
    }
   ],
   "source": [
    "# display the expression information\n",
    "expr.exprInfo()"
   ]
  },
  {
   "cell_type": "code",
   "execution_count": null,
   "metadata": {},
   "outputs": [],
   "source": []
  }
 ],
 "metadata": {
  "kernelspec": {
   "display_name": "Python 3",
   "language": "python",
   "name": "python3"
  }
 },
 "nbformat": 4,
 "nbformat_minor": 0
}
