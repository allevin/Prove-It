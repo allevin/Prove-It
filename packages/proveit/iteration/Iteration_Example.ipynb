{
 "cells": [
  {
   "cell_type": "code",
   "execution_count": null,
   "metadata": {},
   "outputs": [],
   "source": [
    "from proveit import Iter, IndexedVar, varIter\n",
    "from proveit._common_ import i, j, k, l, m, n, q, aa, bb, cc, xx, yy, zz\n",
    "from proveit.logic import Forall, Equals, InSet\n",
    "from proveit.logic._common_ import xIter1l\n",
    "from proveit.number import Add, Neg, Less, LessEq, Greater, subtract\n",
    "from proveit.number import Mult, Naturals, zero, one, num, GreaterEq"
   ]
  },
  {
   "cell_type": "markdown",
   "metadata": {},
   "source": [
    "Taking this example from Deepak's write-up.  Added the universal quantification so I could do the specialization.  This is not a truthful statement because it doesn't properly restrict $x$ and $y$ to the range from $i$ to $j$, but this suffices for demonstration purposes right now.  Fix it up later."
   ]
  },
  {
   "cell_type": "code",
   "execution_count": null,
   "metadata": {},
   "outputs": [],
   "source": [
    "expr = Forall(n, \n",
    "              Forall((aa, bb), \n",
    "                     Equals(Mult(aa, bb), \n",
    "                            Add(Iter(q, Mult(IndexedVar(aa, q),\n",
    "                                             IndexedVar(bb, q)),\n",
    "                                     num(1), n))),\n",
    "                    ),\n",
    "              Naturals)   "
   ]
  },
  {
   "cell_type": "code",
   "execution_count": null,
   "metadata": {},
   "outputs": [],
   "source": [
    "x_1_j = varIter(xx, num(1), j)"
   ]
  },
  {
   "cell_type": "code",
   "execution_count": null,
   "metadata": {},
   "outputs": [],
   "source": [
    "y_1_k = varIter(yy, num(1), k)"
   ]
  },
  {
   "cell_type": "code",
   "execution_count": null,
   "metadata": {},
   "outputs": [],
   "source": [
    "z_1_k = varIter(zz, num(1), k)"
   ]
  },
  {
   "cell_type": "code",
   "execution_count": null,
   "metadata": {},
   "outputs": [],
   "source": [
    "assumptions = [expr, LessEq(j, k), InSet(j, Naturals), InSet(k, Naturals)]"
   ]
  },
  {
   "cell_type": "code",
   "execution_count": null,
   "metadata": {},
   "outputs": [],
   "source": [
    "Add(j, k, num(1)).commutation(0, 1, assumptions)"
   ]
  },
  {
   "cell_type": "code",
   "execution_count": null,
   "metadata": {},
   "outputs": [],
   "source": [
    "assumptions[1].deriveShifted(num(1), assumptions=assumptions)"
   ]
  },
  {
   "cell_type": "code",
   "execution_count": null,
   "metadata": {},
   "outputs": [],
   "source": [
    "diff = subtract(k, j)\n",
    "diff.deduceDifferenceInNaturals(assumptions)"
   ]
  },
  {
   "cell_type": "code",
   "execution_count": null,
   "metadata": {},
   "outputs": [],
   "source": [
    "iter_spec = \\\n",
    "    expr.specialize({n:Add(j, k), aa:[x_1_j, y_1_k], bb:[z_1_k, x_1_j]},\n",
    "                    assumptions=assumptions)\n",
    "iter_spec.innerExpr().withWrappingAt(2) \\\n",
    "    .innerExpr().rhs.withWrappingAt(5, 11)\n",
    "iter_spec"
   ]
  },
  {
   "cell_type": "code",
   "execution_count": null,
   "metadata": {},
   "outputs": [],
   "source": [
    "iter_spec.proof()"
   ]
  },
  {
   "cell_type": "code",
   "execution_count": null,
   "metadata": {},
   "outputs": [],
   "source": []
  },
  {
   "cell_type": "code",
   "execution_count": null,
   "metadata": {},
   "outputs": [],
   "source": [
    "from proveit import ExprTuple\n",
    "et = ExprTuple(x_1_j, y_1_k)\n",
    "et.getElem(Add(j, one), \n",
    "           assumptions=assumptions+[Less(Add(j, one), Add(j, k, one))])"
   ]
  },
  {
   "cell_type": "code",
   "execution_count": null,
   "metadata": {},
   "outputs": [],
   "source": []
  }
 ],
 "metadata": {
  "kernelspec": {
   "display_name": "Python 3",
   "language": "python",
   "name": "python3"
  }
 },
 "nbformat": 4,
 "nbformat_minor": 0
}
