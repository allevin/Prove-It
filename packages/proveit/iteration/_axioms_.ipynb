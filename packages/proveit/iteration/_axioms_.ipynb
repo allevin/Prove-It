{
 "cells": [
  {
   "cell_type": "markdown",
   "metadata": {},
   "source": [
    "Axioms for context <a class=\"ProveItLink\" href=\"_context_.ipynb\">proveit.iteration</a>\n",
    "========"
   ]
  },
  {
   "cell_type": "code",
   "execution_count": null,
   "metadata": {},
   "outputs": [],
   "source": [
    "import proveit\n",
    "# Automation is not needed when building axiom expressions:\n",
    "proveit.defaults.automation = False # This will speed things up.\n",
    "# the context is in the current directory:\n",
    "context = proveit.Context('.') # adds context root to sys.path if necessary\n",
    "from proveit import ExprTuple, Iter\n",
    "from proveit._common_ import b, f, i, j, k, l, n, x, aa, bb, cc, dd\n",
    "from proveit.logic import Forall, Equals, And, InSet\n",
    "from proveit.iteration import Len\n",
    "from proveit.iteration._common_ import \\\n",
    "    (tuple_len_incr_equiv, fi, fj, f_jp1, \n",
    "     fIter_i_j, fIter_i_jp1, iter_ext_equiv)\n",
    "from proveit.number import zero, one\n",
    "from proveit.number import Naturals, NaturalsPos, Add, subtract"
   ]
  },
  {
   "cell_type": "code",
   "execution_count": null,
   "metadata": {},
   "outputs": [],
   "source": [
    "%begin axioms"
   ]
  },
  {
   "cell_type": "markdown",
   "metadata": {},
   "source": [
    "### Define the length of an ExprTuple via iteration:"
   ]
  },
  {
   "cell_type": "code",
   "execution_count": null,
   "metadata": {},
   "outputs": [],
   "source": [
    "# The zero-length case is a special case:\n",
    "tupleLen0 = Equals(Len([]), zero)"
   ]
  },
  {
   "cell_type": "code",
   "execution_count": null,
   "metadata": {},
   "outputs": [],
   "source": [
    "# Defines the tuple length iteratively.  \n",
    "# Note the lack of conditions.  For the length\n",
    "# to be well defined, (j+1)-i should be a natural\n",
    "# number.  But when this condition does not hold,\n",
    "# both sides are equally ill-defined and equating\n",
    "# them is fine.\n",
    "tupleLenIncr = Forall((f, i, j, x), tuple_len_incr_equiv,\n",
    "                      conditions=[InSet(Len([fIter_i_j]), \n",
    "                                             Naturals)])"
   ]
  },
  {
   "cell_type": "markdown",
   "metadata": {},
   "source": [
    "### Collapsing and extending iterations"
   ]
  },
  {
   "cell_type": "code",
   "execution_count": null,
   "metadata": {},
   "outputs": [],
   "source": [
    "emptyIterDef = Forall((f, i, j), Equals(ExprTuple(fIter_i_j), \n",
    "                                        ExprTuple()),\n",
    "                      conditions=[Equals(Add(j, one), i)])"
   ]
  },
  {
   "cell_type": "code",
   "execution_count": null,
   "metadata": {},
   "outputs": [],
   "source": [
    "iterExtensionDef = Forall((f, i, j), iter_ext_equiv,\n",
    "                          conditions=[InSet(Len([fIter_i_j]), \n",
    "                                            Naturals)])"
   ]
  },
  {
   "cell_type": "code",
   "execution_count": null,
   "metadata": {},
   "outputs": [],
   "source": [
    "%end axioms"
   ]
  },
  {
   "cell_type": "code",
   "execution_count": null,
   "metadata": {},
   "outputs": [],
   "source": []
  }
 ],
 "metadata": {
  "kernelspec": {
   "display_name": "Python 3",
   "language": "python",
   "name": "python3"
  }
 },
 "nbformat": 4,
 "nbformat_minor": 0
}
