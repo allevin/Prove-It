{
 "cells": [
  {
   "cell_type": "code",
   "execution_count": null,
   "metadata": {},
   "outputs": [],
   "source": [
    "from proveit import Iter, Indexed, varIter\n",
    "from proveit._common_ import i, j, k, l, m, n, q, aa, bb, cc, xx, yy, zz\n",
    "from proveit.logic import Forall, Equals, InSet\n",
    "from proveit.logic._common_ import xIter1l\n",
    "from proveit.number import Add, Neg, Less, LessEq, Greater, subtract\n",
    "from proveit.number import Mult, Naturals, zero, one, num, GreaterEq"
   ]
  },
  {
   "cell_type": "markdown",
   "metadata": {},
   "source": [
    "Taking this example from Deepak's write-up.  Added the universal quantification so I could do the specialization.  This is not a truthful statement because it doesn't properly restrict $x$ and $y$ to the range from $i$ to $j$, but this suffices for demonstration purposes right now.  Fix it up later."
   ]
  },
  {
   "cell_type": "code",
   "execution_count": null,
   "metadata": {},
   "outputs": [],
   "source": [
    "expr = Forall(n, \n",
    "              Forall((aa, bb), \n",
    "                     Equals(Mult(aa, bb), \n",
    "                            Add(Iter(q, Mult(Indexed(aa, q),\n",
    "                                             Indexed(bb, q)),\n",
    "                                     num(1), n))),\n",
    "                    ),\n",
    "              Naturals)   "
   ]
  },
  {
   "cell_type": "code",
   "execution_count": null,
   "metadata": {},
   "outputs": [],
   "source": [
    "x_1_j = varIter(xx, num(1), j)"
   ]
  },
  {
   "cell_type": "code",
   "execution_count": null,
   "metadata": {},
   "outputs": [],
   "source": [
    "y_1_k = varIter(yy, num(1), k)"
   ]
  },
  {
   "cell_type": "code",
   "execution_count": null,
   "metadata": {},
   "outputs": [],
   "source": [
    "z_1_k = varIter(zz, num(1), k)"
   ]
  },
  {
   "cell_type": "code",
   "execution_count": null,
   "metadata": {},
   "outputs": [],
   "source": [
    "assumptions = [expr, LessEq(j, k), InSet(j, Naturals), InSet(k, Naturals)]"
   ]
  },
  {
   "cell_type": "code",
   "execution_count": null,
   "metadata": {},
   "outputs": [],
   "source": [
    "Add(j, k, num(1)).commutation(0, 1, assumptions)"
   ]
  },
  {
   "cell_type": "code",
   "execution_count": null,
   "metadata": {},
   "outputs": [],
   "source": [
    "assumptions[1].deriveShifted(num(1), assumptions=assumptions)"
   ]
  },
  {
   "cell_type": "code",
   "execution_count": null,
   "metadata": {},
   "outputs": [],
   "source": [
    "diff = subtract(k, j)\n",
    "diff.deduceDifferenceInNaturals(assumptions)"
   ]
  },
  {
   "cell_type": "code",
   "execution_count": null,
   "metadata": {},
   "outputs": [],
   "source": [
    "iter_spec = \\\n",
    "    expr.specialize({n:Add(j, k), aa:[x_1_j, y_1_k], bb:[z_1_k, x_1_j]},\n",
    "                    assumptions=assumptions)\n",
    "iter_spec.innerExpr().withWrappingAt(2) \\\n",
    "    .innerExpr().rhs.withWrappingAt(5, 11)\n",
    "iter_spec"
   ]
  },
  {
   "cell_type": "code",
   "execution_count": null,
   "metadata": {},
   "outputs": [],
   "source": [
    "iter_spec.proof()"
   ]
  },
  {
   "cell_type": "code",
   "execution_count": null,
   "metadata": {},
   "outputs": [],
   "source": []
  },
  {
   "cell_type": "code",
   "execution_count": null,
   "metadata": {},
   "outputs": [],
   "source": [
    "from proveit import ExprTuple\n",
    "et = ExprTuple(x_1_j, y_1_k)\n",
    "et.getElem(Add(j, one), \n",
    "           assumptions=assumptions+[Less(Add(j, one), Add(j, k, one))])"
   ]
  },
  {
   "cell_type": "code",
   "execution_count": null,
   "metadata": {},
   "outputs": [],
   "source": [
    "et.entryCoords(1, assumptions=assumptions)"
   ]
  },
  {
   "cell_type": "code",
   "execution_count": null,
   "metadata": {},
   "outputs": [],
   "source": [
    "expr = Forall((i, j), \n",
    "              Forall((xx, yy), \n",
    "                     Equals(Mult(xx, yy), \n",
    "                            Add(Iter(q, Mult(Indexed(xx, q),\n",
    "                                             Indexed(yy, q)),\n",
    "                                     i, j))),\n",
    "                    ),\n",
    "              Naturals)                                       "
   ]
  },
  {
   "cell_type": "code",
   "execution_count": null,
   "metadata": {},
   "outputs": [],
   "source": [
    "a_1k = varIter(aa, num(1), k)"
   ]
  },
  {
   "cell_type": "code",
   "execution_count": null,
   "metadata": {},
   "outputs": [],
   "source": [
    "a_l_10 = varIter(aa, l, num(10))"
   ]
  },
  {
   "cell_type": "code",
   "execution_count": null,
   "metadata": {},
   "outputs": [],
   "source": [
    "b_3l = varIter(bb, num(3), l)"
   ]
  },
  {
   "cell_type": "code",
   "execution_count": null,
   "metadata": {},
   "outputs": [],
   "source": [
    "b_1l = varIter(bb, num(1), l)"
   ]
  },
  {
   "cell_type": "code",
   "execution_count": null,
   "metadata": {},
   "outputs": [],
   "source": [
    "c_5m = varIter(cc, num(5), m)"
   ]
  },
  {
   "cell_type": "code",
   "execution_count": null,
   "metadata": {},
   "outputs": [],
   "source": [
    "a_3_10 = varIter(aa, num(3), num(10))"
   ]
  },
  {
   "cell_type": "code",
   "execution_count": null,
   "metadata": {},
   "outputs": [],
   "source": [
    "assumptions = (GreaterEq(k, num(10)), GreaterEq(subtract(m, num(3)), Add(k, num(1))),\n",
    "               Equals(Add(k, l, num(-2)), Add(m, num(4))),\n",
    "               InSet(l, Naturals),\n",
    "               InSet(subtract(l, num(2)), Naturals), InSet(m, Naturals), \n",
    "               InSet(subtract(m, num(4)), Naturals),\n",
    "               InSet(k, Naturals), InSet(num(10), Naturals),\n",
    "               Equals(Add(num(10), num(1)), num(11)), expr)"
   ]
  },
  {
   "cell_type": "code",
   "execution_count": null,
   "metadata": {},
   "outputs": [],
   "source": [
    "'''\n",
    "assumptions = (LessEq(k, subtract(m, num(4))), \n",
    "               Equals(Add(k, l), Add(m, Neg(l), num(7))),\n",
    "               InSet(l, Naturals),\n",
    "               #InSet(subtract(l, num(2)), Naturals), \n",
    "               InSet(m, Naturals), \n",
    "               InSet(subtract(m, num(4)), Naturals),\n",
    "               InSet(k, Naturals), InSet(num(10), Naturals),\n",
    "               Equals(Add(num(10), num(1)), num(11)), expr)\n",
    "'''"
   ]
  },
  {
   "cell_type": "code",
   "execution_count": null,
   "metadata": {},
   "outputs": [],
   "source": [
    "assumptions[2]"
   ]
  },
  {
   "cell_type": "code",
   "execution_count": null,
   "metadata": {},
   "outputs": [],
   "source": [
    "end_add_1 = assumptions[2].substitution(Add(assumptions[2].lhs, num(1)), assumptions)"
   ]
  },
  {
   "cell_type": "code",
   "execution_count": null,
   "metadata": {},
   "outputs": [],
   "source": [
    "end_add_1 = end_add_1.innerExpr().lhs.simplify(assumptions)"
   ]
  },
  {
   "cell_type": "code",
   "execution_count": null,
   "metadata": {},
   "outputs": [],
   "source": [
    "end_add_1 = end_add_1.innerExpr().rhs.simplify(assumptions)"
   ]
  },
  {
   "cell_type": "code",
   "execution_count": null,
   "metadata": {},
   "outputs": [],
   "source": [
    "m_geq_zero = GreaterEq(m, zero).prove(assumptions)"
   ]
  },
  {
   "cell_type": "code",
   "execution_count": null,
   "metadata": {},
   "outputs": [],
   "source": [
    "mp1_geq_one = m_geq_zero.deriveShifted(num(1), assumptions=assumptions)"
   ]
  },
  {
   "cell_type": "code",
   "execution_count": null,
   "metadata": {},
   "outputs": [],
   "source": [
    "mp4_geq_one = mp1_geq_one.addLeft(num(3))"
   ]
  },
  {
   "cell_type": "code",
   "execution_count": null,
   "metadata": {},
   "outputs": [],
   "source": [
    "mp4_geq_one = mp4_geq_one.innerExpr().lhs.simplify(assumptions)"
   ]
  },
  {
   "cell_type": "code",
   "execution_count": null,
   "metadata": {},
   "outputs": [],
   "source": [
    "mp4_geq_one = mp4_geq_one.innerExpr().rhs.simplify(assumptions)"
   ]
  },
  {
   "cell_type": "code",
   "execution_count": null,
   "metadata": {},
   "outputs": [],
   "source": [
    "expr.prove(assumptions)"
   ]
  },
  {
   "cell_type": "code",
   "execution_count": null,
   "metadata": {},
   "outputs": [],
   "source": [
    "assumptions"
   ]
  },
  {
   "cell_type": "code",
   "execution_count": null,
   "metadata": {},
   "outputs": [],
   "source": [
    "b_1l"
   ]
  },
  {
   "cell_type": "code",
   "execution_count": null,
   "metadata": {},
   "outputs": [],
   "source": [
    "#expr.specialize({i:num(1), j:Add(m, num(4)), \n",
    "#                 xx:(a_1k, b_1l), yy:(c_5m, a_l_10)},\n",
    "#               assumptions=assumptions)"
   ]
  },
  {
   "cell_type": "code",
   "execution_count": null,
   "metadata": {},
   "outputs": [],
   "source": [
    "from proveit import ExprTuple\n",
    "ExprTuple(a_1k, b_3l).entryCoords(1, assumptions)"
   ]
  },
  {
   "cell_type": "code",
   "execution_count": null,
   "metadata": {},
   "outputs": [],
   "source": [
    "expr.specialize({i:num(1), j:Add(m, num(4)), \n",
    "                 xx:(a_1k, b_3l), yy:(c_5m, a_3_10)},\n",
    "               assumptions=assumptions) \\\n",
    "    .innerExpr().withWrappingAt(2) \\\n",
    "    .innerExpr().rhs.withWrappingAt(5, 11)"
   ]
  },
  {
   "cell_type": "code",
   "execution_count": null,
   "metadata": {},
   "outputs": [],
   "source": [
    "from proveit import ExprTuple\n",
    "from proveit.number import LessEq\n",
    "requirements = []\n",
    "ExprTuple(a_1k, b_3l).getElem(num(1), 1, assumptions=list(assumptions)+[Less(num(1), Add(k, num(1)))], requirements=requirements)"
   ]
  },
  {
   "cell_type": "code",
   "execution_count": null,
   "metadata": {},
   "outputs": [],
   "source": [
    "requirements"
   ]
  },
  {
   "cell_type": "code",
   "execution_count": null,
   "metadata": {},
   "outputs": [],
   "source": [
    "from proveit import ExprTuple\n",
    "from proveit.number import LessEq, Integers\n",
    "ExprTuple(a_1k, b_3l).getElem(i, 1, assumptions=list(assumptions)+[LessEq(num(1), i), Less(i, Add(k, num(1))), InSet(i, Integers), InSet(subtract(i, num(1)), Naturals)])"
   ]
  },
  {
   "cell_type": "code",
   "execution_count": null,
   "metadata": {},
   "outputs": [],
   "source": [
    "from proveit import ExprTuple\n",
    "from proveit.number import LessEq\n",
    "ExprTuple(a_1k, b_3l).getElem(i, 1, assumptions=list(assumptions)+[LessEq(Add(k, num(1)), i), Less(i, Add(k, l, num(-1))), \n",
    "                                                                   InSet(subtract(i, Add(k, num(1))), Naturals), \n",
    "                                                                   InSet(i, Integers)])"
   ]
  },
  {
   "cell_type": "code",
   "execution_count": null,
   "metadata": {},
   "outputs": [],
   "source": [
    "from proveit.number import Neg\n",
    "Add(i, Neg(Add(k, num(1))), num(3)).simplification(assumptions+(InSet(i, Naturals),))"
   ]
  },
  {
   "cell_type": "code",
   "execution_count": null,
   "metadata": {},
   "outputs": [],
   "source": [
    "Add(i, Add(k, num(1)), num(3)).doReducedSimplification(assumptions+(InSet(i, Naturals),))"
   ]
  },
  {
   "cell_type": "code",
   "execution_count": null,
   "metadata": {},
   "outputs": [],
   "source": [
    "from proveit.number import LessEq\n",
    "list(LessEq.knownRelationsFromLeft(Add(k, num(1)), assumptions))"
   ]
  },
  {
   "cell_type": "code",
   "execution_count": null,
   "metadata": {},
   "outputs": [],
   "source": [
    "from proveit.logic import Subset\n",
    "from proveit.number import NaturalsPos, Integers, Complexes\n",
    "#r1 = Subset(NaturalsPos, Integers).prove()\n",
    "#r2 = Subset(Integers, Complexes).prove()\n",
    "#r1.applyTransitivity(r2)\n",
    "Subset(NaturalsPos, Complexes).concludeViaTransitivity()"
   ]
  },
  {
   "cell_type": "code",
   "execution_count": null,
   "metadata": {},
   "outputs": [],
   "source": [
    "'''\n",
    "#%%time\n",
    "from proveit.number import Naturals, num, Add\n",
    "from proveit.logic import InSet\n",
    "from proveit._common_ import m\n",
    "Add(Add(m, num(4)), num(1)).simplification([InSet(m, Naturals)])\n",
    "'''"
   ]
  },
  {
   "cell_type": "code",
   "execution_count": null,
   "metadata": {},
   "outputs": [],
   "source": [
    "Add(Add(k, num(-2), l), num(1)).simplification(assumptions)"
   ]
  },
  {
   "cell_type": "code",
   "execution_count": null,
   "metadata": {},
   "outputs": [],
   "source": [
    "Add(k, num(1), subtract(num(1), num(3))).simplification(assumptions)"
   ]
  },
  {
   "cell_type": "code",
   "execution_count": null,
   "metadata": {},
   "outputs": [],
   "source": [
    "from proveit.number import Add, subtract, num, Naturals\n",
    "from proveit.logic import InSet\n",
    "from proveit._common_ import k\n",
    "Add(k, num(1), subtract(num(1), num(3))).simplification([InSet(k, Naturals)])"
   ]
  },
  {
   "cell_type": "code",
   "execution_count": null,
   "metadata": {},
   "outputs": [],
   "source": [
    "from proveit.number import Add, subtract, num, Naturals\n",
    "from proveit.logic import InSet\n",
    "from proveit._common_ import k\n",
    "from proveit.logic import defaultSimplification\n",
    "defaultSimplification(Add(k, num(1), subtract(num(1), num(3))).innerExpr(), assumptions=[InSet(k, Naturals)])"
   ]
  },
  {
   "cell_type": "code",
   "execution_count": null,
   "metadata": {},
   "outputs": [],
   "source": [
    "subtract(num(1), num(3)).simplification()"
   ]
  },
  {
   "cell_type": "code",
   "execution_count": null,
   "metadata": {},
   "outputs": [],
   "source": [
    "Add(k, num(1), subtract(num(1), num(3))).simplification([InSet(k, Naturals)])"
   ]
  },
  {
   "cell_type": "code",
   "execution_count": null,
   "metadata": {},
   "outputs": [],
   "source": [
    "from proveit.number import num, Add, Naturals\n",
    "from proveit._common_ import k\n",
    "from proveit.logic import InSet\n",
    "Add(k, num(-2), num(1)).simplification([InSet(k, Naturals)])"
   ]
  },
  {
   "cell_type": "code",
   "execution_count": null,
   "metadata": {},
   "outputs": [],
   "source": [
    "from proveit.number import num\n",
    "from proveit.logic import defaultSimplification\n",
    "defaultSimplification(num(-1).innerExpr(), assumptions=assumptions)"
   ]
  },
  {
   "cell_type": "code",
   "execution_count": null,
   "metadata": {},
   "outputs": [],
   "source": [
    "expr = Equals(subtract(num(10), Add(num(10), num(1))), num(-1))"
   ]
  },
  {
   "cell_type": "code",
   "execution_count": null,
   "metadata": {},
   "outputs": [],
   "source": [
    "expr.lhs.innerExpr()"
   ]
  },
  {
   "cell_type": "code",
   "execution_count": null,
   "metadata": {},
   "outputs": [],
   "source": [
    "from proveit.logic import Equals\n",
    "expr.substitution(expr.lhs.innerExpr(), assumptions)"
   ]
  },
  {
   "cell_type": "code",
   "execution_count": null,
   "metadata": {},
   "outputs": [],
   "source": [
    "from proveit.number import num\n",
    "num(-1).simplification()"
   ]
  },
  {
   "cell_type": "code",
   "execution_count": null,
   "metadata": {},
   "outputs": [],
   "source": [
    "Add(num(1), k, num(-1)).doReducedSimplification(assumptions)"
   ]
  },
  {
   "cell_type": "code",
   "execution_count": null,
   "metadata": {},
   "outputs": [],
   "source": [
    "Add(num(1), k, num(-1)).simplification(assumptions)"
   ]
  },
  {
   "cell_type": "code",
   "execution_count": null,
   "metadata": {},
   "outputs": [],
   "source": [
    "Add(Add(num(1), subtract(k, num(1))), num(1)).simplification(assumptions)"
   ]
  },
  {
   "cell_type": "code",
   "execution_count": null,
   "metadata": {},
   "outputs": [],
   "source": [
    "from proveit.number import Add, subtract, one, Neg\n",
    "from proveit._common_ import k\n",
    "Add(one, subtract(k, one)).simplification(assumptions).proof()"
   ]
  },
  {
   "cell_type": "code",
   "execution_count": null,
   "metadata": {},
   "outputs": [],
   "source": [
    "Add(num(1), subtract(k, num(1))).simplification(assumptions)"
   ]
  },
  {
   "cell_type": "code",
   "execution_count": null,
   "metadata": {},
   "outputs": [],
   "source": [
    "from proveit._core_.expression.composite.composite import _simplifiedCoord"
   ]
  },
  {
   "cell_type": "code",
   "execution_count": null,
   "metadata": {},
   "outputs": [],
   "source": [
    "requirements = []\n",
    "_simplifiedCoord(Add(num(1), subtract(k, num(1))), assumptions, requirements)"
   ]
  },
  {
   "cell_type": "code",
   "execution_count": null,
   "metadata": {},
   "outputs": [],
   "source": [
    "requirements"
   ]
  },
  {
   "cell_type": "code",
   "execution_count": null,
   "metadata": {},
   "outputs": [],
   "source": [
    "Add(k, num(1), Neg(num(3)), num(1), l)"
   ]
  },
  {
   "cell_type": "code",
   "execution_count": null,
   "metadata": {},
   "outputs": [],
   "source": [
    "Add(num(3), Neg(num(1))).simplification()"
   ]
  },
  {
   "cell_type": "code",
   "execution_count": null,
   "metadata": {},
   "outputs": [],
   "source": [
    "from proveit.number import Less, num, one, two, three, four\n",
    "list(Less.mergesorted_items([[one, two, three, four], [one], [three]]))"
   ]
  },
  {
   "cell_type": "code",
   "execution_count": null,
   "metadata": {},
   "outputs": [],
   "source": [
    "expr = Forall((i, j), \n",
    "              Forall((xx, yy), \n",
    "                     Equals(Mult(xx, yy), \n",
    "                            Add(Iter(k, Mult(Indexed(xx, q),\n",
    "                                             Indexed(yy, q)),\n",
    "                                     i, j))),\n",
    "                    ),\n",
    "              Naturals)     "
   ]
  },
  {
   "cell_type": "code",
   "execution_count": null,
   "metadata": {},
   "outputs": [],
   "source": [
    "assumptions = (GreaterEq(k, num(10)), GreaterEq(m, k),\n",
    "               Equals(Add(k, subtract(l, num(2))), Add(m, num(4))),\n",
    "               InSet(l, Naturals), InSet(m, Naturals), \n",
    "               InSet(k, Naturals), expr)"
   ]
  },
  {
   "cell_type": "code",
   "execution_count": null,
   "metadata": {},
   "outputs": [],
   "source": [
    "expr.specialize({i:Add(k, l), j:Add(m, num(10)), \n",
    "                 xx:(a_1k, b_3l), yy:(c_5m, a_3_10)},\n",
    "               assumptions=assumptions)"
   ]
  },
  {
   "cell_type": "code",
   "execution_count": null,
   "metadata": {},
   "outputs": [],
   "source": []
  }
 ],
 "metadata": {
  "kernelspec": {
   "display_name": "Python 3",
   "language": "python",
   "name": "python3"
  }
 },
 "nbformat": 4,
 "nbformat_minor": 0
}
