{
 "cells": [
  {
   "cell_type": "markdown",
   "metadata": {},
   "source": [
    "Theorems for context <a class=\"ProveItLink\" href=\"_context_.ipynb\">proveit.iteration</a>\n",
    "========"
   ]
  },
  {
   "cell_type": "code",
   "execution_count": null,
   "metadata": {},
   "outputs": [],
   "source": [
    "import proveit\n",
    "# Automation is not needed when building theorem expressions:\n",
    "proveit.defaults.automation = False # This will speed things up.\n",
    "# the context is in the current directory:\n",
    "context = proveit.Context('.') # adds context root to sys.path if necessary\n",
    "from proveit import ExprTuple, Iter\n",
    "from proveit._common_ import a, b, c, d, f, g, i, j, k, l, n, x\n",
    "from proveit.logic import Forall, Equals, And, InSet\n",
    "from proveit.iteration import Len\n",
    "from proveit.iteration._common_ import \\\n",
    "   (aIter1i, bIter1j, fi, fj, fIter_i_j,\n",
    "    fIter_i_j_len, fIter_j_k_len, fIter_1_i,\n",
    "    concat_len_equiv, concat_len_simple_equiv,\n",
    "    partition_equiv, merge_equiv,\n",
    "    partition_front_equiv, merge_front_equiv,\n",
    "    partition_back_equiv, merge_back_equiv,\n",
    "    merge_series_conditions, merge_series_equiv)\n",
    "from proveit.number import Naturals, NaturalsPos, Add, one, subtract"
   ]
  },
  {
   "cell_type": "code",
   "execution_count": null,
   "metadata": {},
   "outputs": [],
   "source": [
    "%begin theorems"
   ]
  },
  {
   "cell_type": "code",
   "execution_count": null,
   "metadata": {},
   "outputs": [],
   "source": [
    "singleElemLen = Forall(a, Equals(Len([a]), one))"
   ]
  },
  {
   "cell_type": "code",
   "execution_count": null,
   "metadata": {},
   "outputs": [],
   "source": [
    "tupleLen = Forall(i, Forall(aIter1i, \n",
    "                            Equals(Len([aIter1i]), i)),\n",
    "                    domain=Naturals)"
   ]
  },
  {
   "cell_type": "code",
   "execution_count": null,
   "metadata": {},
   "outputs": [],
   "source": [
    "iterLen = Forall((f, i, j), \n",
    "                 Equals(Len([fIter_i_j]), fIter_i_j_len),\n",
    "                 conditions=InSet(fIter_i_j_len, Naturals))"
   ]
  },
  {
   "cell_type": "code",
   "execution_count": null,
   "metadata": {},
   "outputs": [],
   "source": [
    "simpleIterLen = Forall(i, Forall((f, i), \n",
    "                                 Equals(Len([fIter_1_i]), i)),\n",
    "                       domain=Naturals)"
   ]
  },
  {
   "cell_type": "code",
   "execution_count": null,
   "metadata": {},
   "outputs": [],
   "source": [
    "concatElemLen = Forall(i, Forall((aIter1i, b), \n",
    "                                 Equals(Len([aIter1i, b]),\n",
    "                                        Add(i, one))),\n",
    "                      domain=Naturals)"
   ]
  },
  {
   "cell_type": "code",
   "execution_count": null,
   "metadata": {},
   "outputs": [],
   "source": [
    "concatIterLen = Forall(i, Forall((aIter1i, f, j, k), \n",
    "                                 concat_len_equiv,\n",
    "                                 conditions=[InSet(fIter_j_k_len, \n",
    "                                                   Naturals)]),\n",
    "                      domain=Naturals)"
   ]
  },
  {
   "cell_type": "code",
   "execution_count": null,
   "metadata": {},
   "outputs": [],
   "source": [
    "concatSimpleIterLen = Forall((i, j), Forall((aIter1i, f), \n",
    "                                            concat_len_simple_equiv),\n",
    "                             domain=Naturals)"
   ]
  },
  {
   "cell_type": "code",
   "execution_count": null,
   "metadata": {},
   "outputs": [],
   "source": [
    "partition = \\\n",
    "    Forall((f, i, j, k), partition_equiv,\n",
    "           conditions=[InSet(subtract(Add(j, one), i), Naturals),\n",
    "                       InSet(subtract(k, j), Naturals)])"
   ]
  },
  {
   "cell_type": "code",
   "execution_count": null,
   "metadata": {},
   "outputs": [],
   "source": [
    "merge = Forall((f, i, j, k, l), merge_equiv,\n",
    "               conditions=[InSet(subtract(k, i), Naturals),\n",
    "                           InSet(subtract(l, j), Naturals),\n",
    "                           Equals(k, Add(j, one))])"
   ]
  },
  {
   "cell_type": "code",
   "execution_count": null,
   "metadata": {},
   "outputs": [],
   "source": [
    "partition_front = Forall((f, i, j), partition_front_equiv,\n",
    "                         conditions=[InSet(subtract(j, i),\n",
    "                                           Naturals)])"
   ]
  },
  {
   "cell_type": "code",
   "execution_count": null,
   "metadata": {},
   "outputs": [],
   "source": [
    "merge_front = Forall((f, i, j, k), merge_front_equiv,\n",
    "                     conditions=[InSet(subtract(k, i), Naturals),\n",
    "                                 Equals(j, Add(i, one))])"
   ]
  },
  {
   "cell_type": "code",
   "execution_count": null,
   "metadata": {},
   "outputs": [],
   "source": [
    "partition_back = Forall((f, i, j), partition_back_equiv,\n",
    "                        conditions=[InSet(subtract(j, i),\n",
    "                                          Naturals)])"
   ]
  },
  {
   "cell_type": "code",
   "execution_count": null,
   "metadata": {},
   "outputs": [],
   "source": [
    "merge_back = Forall((f, i, j, k), merge_back_equiv,\n",
    "                    conditions=[InSet(subtract(k, i),\n",
    "                                      Naturals),\n",
    "                                Equals(k, Add(j, one))])"
   ]
  },
  {
   "cell_type": "code",
   "execution_count": null,
   "metadata": {},
   "outputs": [],
   "source": [
    "merge_pair = Forall((f, i, j), Equals(ExprTuple(fi, fj), \n",
    "                                      ExprTuple(fIter_i_j)),\n",
    "                    conditions=[Equals(j, Add(i, one))])"
   ]
  },
  {
   "cell_type": "code",
   "execution_count": null,
   "metadata": {},
   "outputs": [],
   "source": [
    "merge_series = Forall((f, x, i, j), merge_series_equiv,\n",
    "                    conditions=[InSet(subtract(j, i), Naturals),\n",
    "                                merge_series_conditions])"
   ]
  },
  {
   "cell_type": "code",
   "execution_count": null,
   "metadata": {},
   "outputs": [],
   "source": [
    "#iterSubstitution = Forall((i, j), Forall((f, g, h),\n",
    "#                                         blah,\n",
    "#                         conditions=[InSet(subtract(j, i), Naturals)])"
   ]
  },
  {
   "cell_type": "code",
   "execution_count": null,
   "metadata": {},
   "outputs": [],
   "source": [
    "%end theorems"
   ]
  },
  {
   "cell_type": "code",
   "execution_count": null,
   "metadata": {},
   "outputs": [],
   "source": []
  }
 ],
 "metadata": {
  "kernelspec": {
   "display_name": "Python 3",
   "language": "python",
   "name": "python3"
  }
 },
 "nbformat": 4,
 "nbformat_minor": 0
}
