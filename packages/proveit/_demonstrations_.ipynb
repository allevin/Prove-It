{
 "cells": [
  {
   "cell_type": "code",
   "execution_count": 1,
   "metadata": {},
   "outputs": [],
   "source": [
    "import proveit\n",
    "from proveit._common_ import i, j, k, l, iterPil\n",
    "from proveit.logic import InSet\n",
    "from proveit.number import Subtract, Naturals\n",
    "%begin demonstrations"
   ]
  },
  {
   "cell_type": "code",
   "execution_count": 2,
   "metadata": {
    "scrolled": true
   },
   "outputs": [
    {
     "data": {
      "text/html": [
       "<span style=\"font-size:20px;\"><a class=\"ProveItLink\" href=\"__pv_it/bfbbce4ead01e1b23b9269a9b7f7393859c08e960/expr.ipynb\"><img src=\"__pv_it/bfbbce4ead01e1b23b9269a9b7f7393859c08e960/expr.png\" style=\"display:inline;vertical-align:middle;\" /></a> &#x22A2;&nbsp;<a class=\"ProveItLink\" href=\"__pv_it/037d797fea6825490982eb1b8fba3497ec2e8e2d0/expr.ipynb\"><img src=\"__pv_it/037d797fea6825490982eb1b8fba3497ec2e8e2d0/expr.png\" style=\"display:inline;vertical-align:middle;\" /></a></span>"
      ],
      "text/plain": [
       "{P(i) ,  ...  , P(l) , (j - i) in Naturals , (l - j) in Naturals} |= P(j)"
      ]
     },
     "execution_count": 2,
     "metadata": {},
     "output_type": "execute_result"
    }
   ],
   "source": [
    "iterPil.deriveInstance(j, [iterPil, InSet(Subtract(j, i), Naturals), InSet(Subtract(l, j), Naturals)])"
   ]
  },
  {
   "cell_type": "code",
   "execution_count": 3,
   "metadata": {},
   "outputs": [
    {
     "data": {
      "text/html": [
       "<span style=\"font-size:20px;\"><a class=\"ProveItLink\" href=\"__pv_it/6aac40177f3e2f7dc7a330ab7a0d2ad9c4f35fca0/expr.ipynb\"><img src=\"__pv_it/6aac40177f3e2f7dc7a330ab7a0d2ad9c4f35fca0/expr.png\" style=\"display:inline;vertical-align:middle;\" /></a> &#x22A2;&nbsp;<a class=\"ProveItLink\" href=\"__pv_it/d20230a207eae76fab13e9c695bbb7289faf2d470/expr.ipynb\"><img src=\"__pv_it/d20230a207eae76fab13e9c695bbb7289faf2d470/expr.png\" style=\"display:inline;vertical-align:middle;\" /></a></span>"
      ],
      "text/plain": [
       "{P(i) ,  ...  , P(l) , (j - i) in Naturals , (l - k) in Naturals} |= P(j),...,P(k)"
      ]
     },
     "execution_count": 3,
     "metadata": {},
     "output_type": "execute_result"
    }
   ],
   "source": [
    "iterPil.deriveInterval(j, k, [iterPil, InSet(Subtract(j, i), Naturals), InSet(Subtract(l, k), Naturals)])"
   ]
  },
  {
   "cell_type": "code",
   "execution_count": 4,
   "metadata": {},
   "outputs": [],
   "source": [
    "%end demonstrations"
   ]
  },
  {
   "cell_type": "code",
   "execution_count": null,
   "metadata": {},
   "outputs": [],
   "source": []
  }
 ],
 "metadata": {
  "kernelspec": {
   "display_name": "Python 3",
   "language": "python",
   "name": "python3"
  },
  "language_info": {
   "codemirror_mode": {
    "name": "ipython",
    "version": 3
   },
   "file_extension": ".py",
   "mimetype": "text/x-python",
   "name": "python",
   "nbconvert_exporter": "python",
   "pygments_lexer": "ipython3",
   "version": "3.7.1"
  }
 },
 "nbformat": 4,
 "nbformat_minor": 1
}
